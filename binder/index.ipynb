{
 "cells": [
  {
   "cell_type": "markdown",
   "metadata": {},
   "source": [
    "# Welcome to Deep Learning with conx!\n",
    "\n",
    "This is a live Jupyter notebook running in the cloud via mybinder.\n",
    "\n",
    "To test Conx, and get your own copy of the conx-notebooks:"
   ]
  },
  {
   "cell_type": "code",
   "execution_count": 1,
   "metadata": {},
   "outputs": [
    {
     "name": "stderr",
     "output_type": "stream",
     "text": [
      "Using Theano backend.\n",
      "Conx, version 3.6.0\n"
     ]
    }
   ],
   "source": [
    "import conx as cx"
   ]
  },
  {
   "cell_type": "code",
   "execution_count": null,
   "metadata": {},
   "outputs": [],
   "source": [
    "cx.download(\"https://github.com/Calysto/conx-notebooks/archive/master.zip\")"
   ]
  },
  {
   "cell_type": "markdown",
   "metadata": {},
   "source": [
    "To \"trust\" these notebooks:"
   ]
  },
  {
   "cell_type": "code",
   "execution_count": null,
   "metadata": {},
   "outputs": [],
   "source": [
    "! jupyter trust conx-notebooks-master/*.ipynb"
   ]
  },
  {
   "cell_type": "markdown",
   "metadata": {},
   "source": [
    "You can then open \n",
    "\n",
    "* [conx-notebooks-master/00_Index.ipynb](conx-notebooks-master/00_Index.ipynb) \n",
    "* [conx-notebooks-master/collections/sigcse-2018/](conx-notebooks-master/collections/sigcse-2018/) \n",
    "\n",
    "and explore the notebooks.\n",
    "\n",
    "Welcome to Conx!\n",
    "\n",
    "For more help or information see:\n",
    "\n",
    "* http://conx.readthedocs.io/en/latest/ - online help\n",
    "* https://groups.google.com/forum/#!forum/conx-users - conx-users mailing list"
   ]
  }
 ],
 "metadata": {
  "kernelspec": {
   "display_name": "Python 3",
   "language": "python",
   "name": "python3"
  },
  "language_info": {
   "codemirror_mode": {
    "name": "ipython",
    "version": 3
   },
   "file_extension": ".py",
   "mimetype": "text/x-python",
   "name": "python",
   "nbconvert_exporter": "python",
   "pygments_lexer": "ipython3",
   "version": "3.6.3"
  },
  "widgets": {
   "application/vnd.jupyter.widget-state+json": {
    "state": {
     "0c01554263f740678e052dddc7baa232": {
      "model_module": "@jupyter-widgets/controls",
      "model_module_version": "1.1.0",
      "model_name": "SelectModel",
      "state": {
       "_options_labels": [
        "Test",
        "Train"
       ],
       "description": "Dataset:",
       "index": 1,
       "layout": "IPY_MODEL_b6d05976b5cb40ff8a4ddee3c5a861d9",
       "rows": 1,
       "style": "IPY_MODEL_51461b41bbd4492583f7fbd5d631835d"
      }
     },
     "136345188d7d4eeb97ad63b4e39206c0": {
      "model_module": "@jupyter-widgets/base",
      "model_module_version": "1.0.0",
      "model_name": "LayoutModel",
      "state": {}
     },
     "137cc55f71044b329686552e4d5ed5fe": {
      "model_module": "@jupyter-widgets/controls",
      "model_module_version": "1.1.0",
      "model_name": "HBoxModel",
      "state": {
       "children": [
        "IPY_MODEL_9bfc7d1321df402ebac286b2c8b7a47d",
        "IPY_MODEL_f3801cae672644048cd4eb49c89f6fb5",
        "IPY_MODEL_dd4b1f529c7941569816da9769084b90",
        "IPY_MODEL_5ef72263c5e247cbbb9916bffccf7485",
        "IPY_MODEL_c491fff0bf9f47339ab116e4a2b728c9",
        "IPY_MODEL_4cb4b63e98944567b0959241151670e8",
        "IPY_MODEL_44d99e7e5001431abc7161a689dd6ea5"
       ],
       "layout": "IPY_MODEL_f6b3e8fc467742ac88c9cf3bf03cfa03"
      }
     },
     "15dbc9bb00744ca8a4613fd572a49fc0": {
      "model_module": "@jupyter-widgets/controls",
      "model_module_version": "1.1.0",
      "model_name": "ButtonStyleModel",
      "state": {}
     },
     "15efb7a6a85b429c857fdc8e18c154c7": {
      "model_module": "@jupyter-widgets/output",
      "model_module_version": "1.0.0",
      "model_name": "OutputModel",
      "state": {
       "layout": "IPY_MODEL_e4910a4128764aad9d412609da7c9a53"
      }
     },
     "16832b10a05e46b19183f1726ed80faf": {
      "model_module": "@jupyter-widgets/base",
      "model_module_version": "1.0.0",
      "model_name": "LayoutModel",
      "state": {
       "justify_content": "center",
       "overflow_x": "auto",
       "overflow_y": "auto",
       "width": "95%"
      }
     },
     "17b44abf16704be4971f53e8160fce47": {
      "model_module": "@jupyter-widgets/base",
      "model_module_version": "1.0.0",
      "model_name": "LayoutModel",
      "state": {}
     },
     "18294f98de474bd794eb2b003add21f8": {
      "model_module": "@jupyter-widgets/controls",
      "model_module_version": "1.1.0",
      "model_name": "FloatTextModel",
      "state": {
       "description": "Leftmost color maps to:",
       "layout": "IPY_MODEL_17b44abf16704be4971f53e8160fce47",
       "step": null,
       "style": "IPY_MODEL_733f45e0a1c44fe1aa0aca4ee87c5217",
       "value": -1
      }
     },
     "21191f7705374908a284ccf55829951c": {
      "model_module": "@jupyter-widgets/base",
      "model_module_version": "1.0.0",
      "model_name": "LayoutModel",
      "state": {}
     },
     "24381fd59a954b2980c8347250859849": {
      "model_module": "@jupyter-widgets/controls",
      "model_module_version": "1.1.0",
      "model_name": "DescriptionStyleModel",
      "state": {
       "description_width": "initial"
      }
     },
     "26908fd67f194c21a968e035de73aa1a": {
      "model_module": "@jupyter-widgets/controls",
      "model_module_version": "1.1.0",
      "model_name": "SelectModel",
      "state": {
       "_options_labels": [
        "input",
        "hidden",
        "output"
       ],
       "description": "Layer:",
       "index": 2,
       "layout": "IPY_MODEL_da640a5ac3bc4a59ab8a82bc8fcbf746",
       "rows": 1,
       "style": "IPY_MODEL_5348b0f185bd4fa5a642e5121eb0feed"
      }
     },
     "2982cc6bc30940ff96f2f9131a4a6241": {
      "model_module": "@jupyter-widgets/base",
      "model_module_version": "1.0.0",
      "model_name": "LayoutModel",
      "state": {}
     },
     "29eb7d46cc034ca5abe9c2d759997fb5": {
      "model_module": "@jupyter-widgets/controls",
      "model_module_version": "1.1.0",
      "model_name": "FloatSliderModel",
      "state": {
       "continuous_update": false,
       "description": "Zoom",
       "layout": "IPY_MODEL_55ec8f78c85a4eb8af0a7bbd80cf4ce3",
       "max": 3,
       "min": 0.5,
       "step": 0.1,
       "style": "IPY_MODEL_bea9ec4c51724a9797030debbd44b595",
       "value": 1
      }
     },
     "2aa5894453424c4aacf351dd8c8ab922": {
      "model_module": "@jupyter-widgets/base",
      "model_module_version": "1.0.0",
      "model_name": "LayoutModel",
      "state": {}
     },
     "3156b5f6d28642bd9633e8e5518c9097": {
      "model_module": "@jupyter-widgets/controls",
      "model_module_version": "1.1.0",
      "model_name": "VBoxModel",
      "state": {
       "children": [
        "IPY_MODEL_0c01554263f740678e052dddc7baa232",
        "IPY_MODEL_29eb7d46cc034ca5abe9c2d759997fb5",
        "IPY_MODEL_dd45f7f9734f48fba70aaf8ae65dbb97",
        "IPY_MODEL_421ac3c41d5b46e6af897887dae323e3",
        "IPY_MODEL_b9be5483405141b88cf18e7d4f4963de",
        "IPY_MODEL_6c4dcc259efa4621aac46f4703595e4d",
        "IPY_MODEL_c712050936334e1d859ad0bdbba33a50",
        "IPY_MODEL_5a5d74e4200043f6ab928822b4346aa4"
       ],
       "layout": "IPY_MODEL_34cf92591c7545d3b47483fc9b50c798"
      }
     },
     "326c868bba2744109476ec1a641314b3": {
      "model_module": "@jupyter-widgets/controls",
      "model_module_version": "1.1.0",
      "model_name": "VBoxModel",
      "state": {
       "children": [
        "IPY_MODEL_26908fd67f194c21a968e035de73aa1a",
        "IPY_MODEL_7db6e0d0198d45f98e8c5a6f08d0791b",
        "IPY_MODEL_8193e107e49f49dda781c456011d9a78",
        "IPY_MODEL_b0b819e6de95419a9eeb8a0002353ee1",
        "IPY_MODEL_18294f98de474bd794eb2b003add21f8",
        "IPY_MODEL_a836973f20574c71b33aa3cef64e7f1e",
        "IPY_MODEL_71588c1ad11e42df844dff42b5ab041d"
       ],
       "layout": "IPY_MODEL_4b5e4ed95f04466e8685437a1f5593e7"
      }
     },
     "328d40ca9797496b91ee0685f8f59d05": {
      "model_module": "@jupyter-widgets/base",
      "model_module_version": "1.0.0",
      "model_name": "LayoutModel",
      "state": {
       "width": "100%"
      }
     },
     "32eb1f056b8a4311a1448f7fd4b7459e": {
      "model_module": "@jupyter-widgets/controls",
      "model_module_version": "1.1.0",
      "model_name": "ButtonStyleModel",
      "state": {}
     },
     "34cf92591c7545d3b47483fc9b50c798": {
      "model_module": "@jupyter-widgets/base",
      "model_module_version": "1.0.0",
      "model_name": "LayoutModel",
      "state": {
       "width": "100%"
      }
     },
     "3501c6717de1410aba4274dec484dde0": {
      "model_module": "@jupyter-widgets/controls",
      "model_module_version": "1.1.0",
      "model_name": "DescriptionStyleModel",
      "state": {
       "description_width": "initial"
      }
     },
     "364a4cc16b974d61b20102f7cbd4e9fe": {
      "model_module": "@jupyter-widgets/controls",
      "model_module_version": "1.1.0",
      "model_name": "DescriptionStyleModel",
      "state": {
       "description_width": "initial"
      }
     },
     "379c8a4fc2c04ec1aea72f9a38509632": {
      "model_module": "@jupyter-widgets/controls",
      "model_module_version": "1.1.0",
      "model_name": "DescriptionStyleModel",
      "state": {
       "description_width": "initial"
      }
     },
     "3b7e0bdd891743bda0dd4a9d15dd0a42": {
      "model_module": "@jupyter-widgets/controls",
      "model_module_version": "1.1.0",
      "model_name": "DescriptionStyleModel",
      "state": {
       "description_width": ""
      }
     },
     "402fa77b803048b2990b273187598d95": {
      "model_module": "@jupyter-widgets/controls",
      "model_module_version": "1.1.0",
      "model_name": "SliderStyleModel",
      "state": {
       "description_width": ""
      }
     },
     "421ac3c41d5b46e6af897887dae323e3": {
      "model_module": "@jupyter-widgets/controls",
      "model_module_version": "1.1.0",
      "model_name": "IntTextModel",
      "state": {
       "description": "Vertical space between layers:",
       "layout": "IPY_MODEL_9fca8922d6a84010a73ddb46f2713c40",
       "step": 1,
       "style": "IPY_MODEL_379c8a4fc2c04ec1aea72f9a38509632",
       "value": 30
      }
     },
     "4479c1d8a9d74da1800e20711176fe1a": {
      "model_module": "@jupyter-widgets/base",
      "model_module_version": "1.0.0",
      "model_name": "LayoutModel",
      "state": {}
     },
     "44d99e7e5001431abc7161a689dd6ea5": {
      "model_module": "@jupyter-widgets/controls",
      "model_module_version": "1.1.0",
      "model_name": "ButtonModel",
      "state": {
       "icon": "refresh",
       "layout": "IPY_MODEL_861d8540f11944d8995a9f5c1385c829",
       "style": "IPY_MODEL_eba95634dd3241f2911fc17342ddf924"
      }
     },
     "486e1a6b578b44b397b02f1dbafc907b": {
      "model_module": "@jupyter-widgets/controls",
      "model_module_version": "1.1.0",
      "model_name": "DescriptionStyleModel",
      "state": {
       "description_width": ""
      }
     },
     "4b5e4ed95f04466e8685437a1f5593e7": {
      "model_module": "@jupyter-widgets/base",
      "model_module_version": "1.0.0",
      "model_name": "LayoutModel",
      "state": {
       "width": "100%"
      }
     },
     "4cb4b63e98944567b0959241151670e8": {
      "model_module": "@jupyter-widgets/controls",
      "model_module_version": "1.1.0",
      "model_name": "ButtonModel",
      "state": {
       "description": "Play",
       "icon": "play",
       "layout": "IPY_MODEL_328d40ca9797496b91ee0685f8f59d05",
       "style": "IPY_MODEL_79f332bd05a2497eb63b8f6cc6acf8a3"
      }
     },
     "4e5807bdbf3d4dc2b611e26fa56b6101": {
      "model_module": "@jupyter-widgets/base",
      "model_module_version": "1.0.0",
      "model_name": "LayoutModel",
      "state": {
       "width": "100px"
      }
     },
     "51461b41bbd4492583f7fbd5d631835d": {
      "model_module": "@jupyter-widgets/controls",
      "model_module_version": "1.1.0",
      "model_name": "DescriptionStyleModel",
      "state": {
       "description_width": ""
      }
     },
     "5348b0f185bd4fa5a642e5121eb0feed": {
      "model_module": "@jupyter-widgets/controls",
      "model_module_version": "1.1.0",
      "model_name": "DescriptionStyleModel",
      "state": {
       "description_width": ""
      }
     },
     "55ec8f78c85a4eb8af0a7bbd80cf4ce3": {
      "model_module": "@jupyter-widgets/base",
      "model_module_version": "1.0.0",
      "model_name": "LayoutModel",
      "state": {}
     },
     "5a5d74e4200043f6ab928822b4346aa4": {
      "model_module": "@jupyter-widgets/controls",
      "model_module_version": "1.1.0",
      "model_name": "FloatTextModel",
      "state": {
       "description": "Feature scale:",
       "layout": "IPY_MODEL_6ee890b9a11c4ce0868fc8da9b510720",
       "step": null,
       "style": "IPY_MODEL_24381fd59a954b2980c8347250859849",
       "value": 2
      }
     },
     "5ef72263c5e247cbbb9916bffccf7485": {
      "model_module": "@jupyter-widgets/controls",
      "model_module_version": "1.1.0",
      "model_name": "ButtonModel",
      "state": {
       "icon": "forward",
       "layout": "IPY_MODEL_f5e9b479caa3491496610a1bca70f6f6",
       "style": "IPY_MODEL_32eb1f056b8a4311a1448f7fd4b7459e"
      }
     },
     "63880f7d52ea4c7da360d2269be5cbd2": {
      "model_module": "@jupyter-widgets/base",
      "model_module_version": "1.0.0",
      "model_name": "LayoutModel",
      "state": {
       "width": "100%"
      }
     },
     "66e29c1eb7fd494babefa05037841259": {
      "model_module": "@jupyter-widgets/controls",
      "model_module_version": "1.1.0",
      "model_name": "CheckboxModel",
      "state": {
       "description": "Errors",
       "disabled": false,
       "layout": "IPY_MODEL_9fca8922d6a84010a73ddb46f2713c40",
       "style": "IPY_MODEL_3501c6717de1410aba4274dec484dde0",
       "value": false
      }
     },
     "6b1a08b14f2647c3aace0739e77581de": {
      "model_module": "@jupyter-widgets/base",
      "model_module_version": "1.0.0",
      "model_name": "LayoutModel",
      "state": {}
     },
     "6c4dcc259efa4621aac46f4703595e4d": {
      "model_module": "@jupyter-widgets/controls",
      "model_module_version": "1.1.0",
      "model_name": "SelectModel",
      "state": {
       "_options_labels": [
        ""
       ],
       "description": "Features:",
       "index": 0,
       "layout": "IPY_MODEL_2982cc6bc30940ff96f2f9131a4a6241",
       "rows": 1,
       "style": "IPY_MODEL_c0a2f4ee45914dcaa1a8bdacac5046ed"
      }
     },
     "6ee890b9a11c4ce0868fc8da9b510720": {
      "model_module": "@jupyter-widgets/base",
      "model_module_version": "1.0.0",
      "model_name": "LayoutModel",
      "state": {}
     },
     "6f384b6b080b4a72bfaae3920f9b7163": {
      "model_module": "@jupyter-widgets/controls",
      "model_module_version": "1.1.0",
      "model_name": "HBoxModel",
      "state": {
       "children": [
        "IPY_MODEL_88d0c8c574214d258d52e6cf10c90587",
        "IPY_MODEL_8c242c24558644d68a3fa12cc2d805ba"
       ],
       "layout": "IPY_MODEL_a05f399be93e4461a73ff1e852749db5"
      }
     },
     "71588c1ad11e42df844dff42b5ab041d": {
      "model_module": "@jupyter-widgets/controls",
      "model_module_version": "1.1.0",
      "model_name": "IntTextModel",
      "state": {
       "description": "Feature to show:",
       "layout": "IPY_MODEL_136345188d7d4eeb97ad63b4e39206c0",
       "step": 1,
       "style": "IPY_MODEL_364a4cc16b974d61b20102f7cbd4e9fe"
      }
     },
     "733f45e0a1c44fe1aa0aca4ee87c5217": {
      "model_module": "@jupyter-widgets/controls",
      "model_module_version": "1.1.0",
      "model_name": "DescriptionStyleModel",
      "state": {
       "description_width": "initial"
      }
     },
     "788f81e5b21a4638b040e17ac78b8ce6": {
      "model_module": "@jupyter-widgets/controls",
      "model_module_version": "1.1.0",
      "model_name": "DescriptionStyleModel",
      "state": {
       "description_width": "initial"
      }
     },
     "79f332bd05a2497eb63b8f6cc6acf8a3": {
      "model_module": "@jupyter-widgets/controls",
      "model_module_version": "1.1.0",
      "model_name": "ButtonStyleModel",
      "state": {}
     },
     "7db6e0d0198d45f98e8c5a6f08d0791b": {
      "model_module": "@jupyter-widgets/controls",
      "model_module_version": "1.1.0",
      "model_name": "CheckboxModel",
      "state": {
       "description": "Visible",
       "disabled": false,
       "layout": "IPY_MODEL_9fca8922d6a84010a73ddb46f2713c40",
       "style": "IPY_MODEL_df5e3f91eea7415a888271f8fc68f9a5",
       "value": true
      }
     },
     "8193e107e49f49dda781c456011d9a78": {
      "model_module": "@jupyter-widgets/controls",
      "model_module_version": "1.1.0",
      "model_name": "SelectModel",
      "state": {
       "_options_labels": [
        "",
        "Accent",
        "Accent_r",
        "Blues",
        "Blues_r",
        "BrBG",
        "BrBG_r",
        "BuGn",
        "BuGn_r",
        "BuPu",
        "BuPu_r",
        "CMRmap",
        "CMRmap_r",
        "Dark2",
        "Dark2_r",
        "GnBu",
        "GnBu_r",
        "Greens",
        "Greens_r",
        "Greys",
        "Greys_r",
        "OrRd",
        "OrRd_r",
        "Oranges",
        "Oranges_r",
        "PRGn",
        "PRGn_r",
        "Paired",
        "Paired_r",
        "Pastel1",
        "Pastel1_r",
        "Pastel2",
        "Pastel2_r",
        "PiYG",
        "PiYG_r",
        "PuBu",
        "PuBuGn",
        "PuBuGn_r",
        "PuBu_r",
        "PuOr",
        "PuOr_r",
        "PuRd",
        "PuRd_r",
        "Purples",
        "Purples_r",
        "RdBu",
        "RdBu_r",
        "RdGy",
        "RdGy_r",
        "RdPu",
        "RdPu_r",
        "RdYlBu",
        "RdYlBu_r",
        "RdYlGn",
        "RdYlGn_r",
        "Reds",
        "Reds_r",
        "Set1",
        "Set1_r",
        "Set2",
        "Set2_r",
        "Set3",
        "Set3_r",
        "Spectral",
        "Spectral_r",
        "Vega10",
        "Vega10_r",
        "Vega20",
        "Vega20_r",
        "Vega20b",
        "Vega20b_r",
        "Vega20c",
        "Vega20c_r",
        "Wistia",
        "Wistia_r",
        "YlGn",
        "YlGnBu",
        "YlGnBu_r",
        "YlGn_r",
        "YlOrBr",
        "YlOrBr_r",
        "YlOrRd",
        "YlOrRd_r",
        "afmhot",
        "afmhot_r",
        "autumn",
        "autumn_r",
        "binary",
        "binary_r",
        "bone",
        "bone_r",
        "brg",
        "brg_r",
        "bwr",
        "bwr_r",
        "cool",
        "cool_r",
        "coolwarm",
        "coolwarm_r",
        "copper",
        "copper_r",
        "cubehelix",
        "cubehelix_r",
        "flag",
        "flag_r",
        "gist_earth",
        "gist_earth_r",
        "gist_gray",
        "gist_gray_r",
        "gist_heat",
        "gist_heat_r",
        "gist_ncar",
        "gist_ncar_r",
        "gist_rainbow",
        "gist_rainbow_r",
        "gist_stern",
        "gist_stern_r",
        "gist_yarg",
        "gist_yarg_r",
        "gnuplot",
        "gnuplot2",
        "gnuplot2_r",
        "gnuplot_r",
        "gray",
        "gray_r",
        "hot",
        "hot_r",
        "hsv",
        "hsv_r",
        "inferno",
        "inferno_r",
        "jet",
        "jet_r",
        "magma",
        "magma_r",
        "nipy_spectral",
        "nipy_spectral_r",
        "ocean",
        "ocean_r",
        "pink",
        "pink_r",
        "plasma",
        "plasma_r",
        "prism",
        "prism_r",
        "rainbow",
        "rainbow_r",
        "seismic",
        "seismic_r",
        "spectral",
        "spectral_r",
        "spring",
        "spring_r",
        "summer",
        "summer_r",
        "tab10",
        "tab10_r",
        "tab20",
        "tab20_r",
        "tab20b",
        "tab20b_r",
        "tab20c",
        "tab20c_r",
        "terrain",
        "terrain_r",
        "viridis",
        "viridis_r",
        "winter",
        "winter_r"
       ],
       "description": "Colormap:",
       "index": 0,
       "layout": "IPY_MODEL_9fca8922d6a84010a73ddb46f2713c40",
       "rows": 1,
       "style": "IPY_MODEL_a19b7c9088874ddaaf2efd2bce456ef7"
      }
     },
     "838f5f2263084d2eafad4d9a12fc3e7f": {
      "model_module": "@jupyter-widgets/controls",
      "model_module_version": "1.1.0",
      "model_name": "DescriptionStyleModel",
      "state": {
       "description_width": "initial"
      }
     },
     "861d8540f11944d8995a9f5c1385c829": {
      "model_module": "@jupyter-widgets/base",
      "model_module_version": "1.0.0",
      "model_name": "LayoutModel",
      "state": {
       "width": "25%"
      }
     },
     "86f142406e04427da6205fa66bac9620": {
      "model_module": "@jupyter-widgets/base",
      "model_module_version": "1.0.0",
      "model_name": "LayoutModel",
      "state": {
       "width": "100%"
      }
     },
     "88d0c8c574214d258d52e6cf10c90587": {
      "model_module": "@jupyter-widgets/controls",
      "model_module_version": "1.1.0",
      "model_name": "IntSliderModel",
      "state": {
       "continuous_update": false,
       "description": "Dataset index",
       "layout": "IPY_MODEL_b14873fb0b8347d2a1083d59fba8ad54",
       "max": 3,
       "style": "IPY_MODEL_402fa77b803048b2990b273187598d95",
       "value": 3
      }
     },
     "89b2034ca3124ff6848b20fb84a1a342": {
      "model_module": "@jupyter-widgets/controls",
      "model_module_version": "1.1.0",
      "model_name": "DescriptionStyleModel",
      "state": {
       "description_width": ""
      }
     },
     "8bdd74f89a3043e792eabd6a6226a6ab": {
      "model_module": "@jupyter-widgets/base",
      "model_module_version": "1.0.0",
      "model_name": "LayoutModel",
      "state": {
       "width": "100%"
      }
     },
     "8c242c24558644d68a3fa12cc2d805ba": {
      "model_module": "@jupyter-widgets/controls",
      "model_module_version": "1.1.0",
      "model_name": "LabelModel",
      "state": {
       "layout": "IPY_MODEL_4e5807bdbf3d4dc2b611e26fa56b6101",
       "style": "IPY_MODEL_486e1a6b578b44b397b02f1dbafc907b",
       "value": "of 4"
      }
     },
     "9b5de2cdaeba4cc2be73572dc68dd1e9": {
      "model_module": "@jupyter-widgets/controls",
      "model_module_version": "1.1.0",
      "model_name": "VBoxModel",
      "state": {
       "children": [
        "IPY_MODEL_b985873afa7a4297b6a3f47c5d6cdb89",
        "IPY_MODEL_d5b406961ccc42458002f37052e3d0a9",
        "IPY_MODEL_dea0a485bad246ce9e6f5273e581c7cf",
        "IPY_MODEL_15efb7a6a85b429c857fdc8e18c154c7"
       ],
       "layout": "IPY_MODEL_21191f7705374908a284ccf55829951c"
      }
     },
     "9bfc7d1321df402ebac286b2c8b7a47d": {
      "model_module": "@jupyter-widgets/controls",
      "model_module_version": "1.1.0",
      "model_name": "ButtonModel",
      "state": {
       "icon": "fast-backward",
       "layout": "IPY_MODEL_cc692e9fd5a3487ba19794423c815e29",
       "style": "IPY_MODEL_e7e084ac53694252b14094ad1bc1affd"
      }
     },
     "9fca8922d6a84010a73ddb46f2713c40": {
      "model_module": "@jupyter-widgets/base",
      "model_module_version": "1.0.0",
      "model_name": "LayoutModel",
      "state": {}
     },
     "a05f399be93e4461a73ff1e852749db5": {
      "model_module": "@jupyter-widgets/base",
      "model_module_version": "1.0.0",
      "model_name": "LayoutModel",
      "state": {
       "height": "40px"
      }
     },
     "a19b7c9088874ddaaf2efd2bce456ef7": {
      "model_module": "@jupyter-widgets/controls",
      "model_module_version": "1.1.0",
      "model_name": "DescriptionStyleModel",
      "state": {
       "description_width": ""
      }
     },
     "a836973f20574c71b33aa3cef64e7f1e": {
      "model_module": "@jupyter-widgets/controls",
      "model_module_version": "1.1.0",
      "model_name": "FloatTextModel",
      "state": {
       "description": "Rightmost color maps to:",
       "layout": "IPY_MODEL_d32a5abd74134a4686d75e191a1533cb",
       "step": null,
       "style": "IPY_MODEL_ac548405c8af4ee7a8ab8c38abae38c9",
       "value": 1
      }
     },
     "aa04171bbaa9441db93e9a7e35d43065": {
      "model_module": "@jupyter-widgets/controls",
      "model_module_version": "1.1.0",
      "model_name": "CheckboxModel",
      "state": {
       "description": "Show Targets",
       "disabled": false,
       "layout": "IPY_MODEL_9fca8922d6a84010a73ddb46f2713c40",
       "style": "IPY_MODEL_838f5f2263084d2eafad4d9a12fc3e7f",
       "value": false
      }
     },
     "ac548405c8af4ee7a8ab8c38abae38c9": {
      "model_module": "@jupyter-widgets/controls",
      "model_module_version": "1.1.0",
      "model_name": "DescriptionStyleModel",
      "state": {
       "description_width": "initial"
      }
     },
     "b0b819e6de95419a9eeb8a0002353ee1": {
      "model_module": "@jupyter-widgets/controls",
      "model_module_version": "1.1.0",
      "model_name": "HTMLModel",
      "state": {
       "layout": "IPY_MODEL_cc030e35783e49339e05ba715ee14e62",
       "style": "IPY_MODEL_de9d6e453fa14e79b965a4501ff69845",
       "value": "<img src=\"data:image/gif;base64,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\"/>"
      }
     },
     "b14873fb0b8347d2a1083d59fba8ad54": {
      "model_module": "@jupyter-widgets/base",
      "model_module_version": "1.0.0",
      "model_name": "LayoutModel",
      "state": {
       "width": "100%"
      }
     },
     "b6d05976b5cb40ff8a4ddee3c5a861d9": {
      "model_module": "@jupyter-widgets/base",
      "model_module_version": "1.0.0",
      "model_name": "LayoutModel",
      "state": {}
     },
     "b80cb0ae61994a978597829f7b6aa2c0": {
      "model_module": "@jupyter-widgets/controls",
      "model_module_version": "1.1.0",
      "model_name": "ButtonStyleModel",
      "state": {}
     },
     "b985873afa7a4297b6a3f47c5d6cdb89": {
      "model_module": "@jupyter-widgets/controls",
      "model_module_version": "1.1.0",
      "model_name": "AccordionModel",
      "state": {
       "_titles": {
        "0": "XOR"
       },
       "children": [
        "IPY_MODEL_ba1ed22eb0b542c0a6826001b434a399"
       ],
       "layout": "IPY_MODEL_2aa5894453424c4aacf351dd8c8ab922",
       "selected_index": null
      }
     },
     "b9be5483405141b88cf18e7d4f4963de": {
      "model_module": "@jupyter-widgets/controls",
      "model_module_version": "1.1.0",
      "model_name": "HBoxModel",
      "state": {
       "children": [
        "IPY_MODEL_aa04171bbaa9441db93e9a7e35d43065",
        "IPY_MODEL_66e29c1eb7fd494babefa05037841259"
       ],
       "layout": "IPY_MODEL_6b1a08b14f2647c3aace0739e77581de"
      }
     },
     "ba1ed22eb0b542c0a6826001b434a399": {
      "model_module": "@jupyter-widgets/controls",
      "model_module_version": "1.1.0",
      "model_name": "HBoxModel",
      "state": {
       "children": [
        "IPY_MODEL_3156b5f6d28642bd9633e8e5518c9097",
        "IPY_MODEL_326c868bba2744109476ec1a641314b3"
       ],
       "layout": "IPY_MODEL_4479c1d8a9d74da1800e20711176fe1a"
      }
     },
     "be9a58a938b645908d3b2fdf7158906c": {
      "model_module": "@jupyter-widgets/base",
      "model_module_version": "1.0.0",
      "model_name": "LayoutModel",
      "state": {}
     },
     "bea9ec4c51724a9797030debbd44b595": {
      "model_module": "@jupyter-widgets/controls",
      "model_module_version": "1.1.0",
      "model_name": "SliderStyleModel",
      "state": {
       "description_width": ""
      }
     },
     "bf5310d62e034c2582830a2037a8b002": {
      "model_module": "@jupyter-widgets/controls",
      "model_module_version": "1.1.0",
      "model_name": "DescriptionStyleModel",
      "state": {
       "description_width": "initial"
      }
     },
     "c0a2f4ee45914dcaa1a8bdacac5046ed": {
      "model_module": "@jupyter-widgets/controls",
      "model_module_version": "1.1.0",
      "model_name": "DescriptionStyleModel",
      "state": {
       "description_width": ""
      }
     },
     "c22302df51a94a2280910415876239df": {
      "model_module": "@jupyter-widgets/base",
      "model_module_version": "1.0.0",
      "model_name": "LayoutModel",
      "state": {
       "width": "100%"
      }
     },
     "c491fff0bf9f47339ab116e4a2b728c9": {
      "model_module": "@jupyter-widgets/controls",
      "model_module_version": "1.1.0",
      "model_name": "ButtonModel",
      "state": {
       "icon": "fast-forward",
       "layout": "IPY_MODEL_63880f7d52ea4c7da360d2269be5cbd2",
       "style": "IPY_MODEL_b80cb0ae61994a978597829f7b6aa2c0"
      }
     },
     "c712050936334e1d859ad0bdbba33a50": {
      "model_module": "@jupyter-widgets/controls",
      "model_module_version": "1.1.0",
      "model_name": "IntTextModel",
      "state": {
       "description": "Feature columns:",
       "layout": "IPY_MODEL_be9a58a938b645908d3b2fdf7158906c",
       "step": 1,
       "style": "IPY_MODEL_788f81e5b21a4638b040e17ac78b8ce6",
       "value": 3
      }
     },
     "cc030e35783e49339e05ba715ee14e62": {
      "model_module": "@jupyter-widgets/base",
      "model_module_version": "1.0.0",
      "model_name": "LayoutModel",
      "state": {}
     },
     "cc692e9fd5a3487ba19794423c815e29": {
      "model_module": "@jupyter-widgets/base",
      "model_module_version": "1.0.0",
      "model_name": "LayoutModel",
      "state": {
       "width": "100%"
      }
     },
     "d32a5abd74134a4686d75e191a1533cb": {
      "model_module": "@jupyter-widgets/base",
      "model_module_version": "1.0.0",
      "model_name": "LayoutModel",
      "state": {}
     },
     "d5b406961ccc42458002f37052e3d0a9": {
      "model_module": "@jupyter-widgets/controls",
      "model_module_version": "1.1.0",
      "model_name": "VBoxModel",
      "state": {
       "children": [
        "IPY_MODEL_6f384b6b080b4a72bfaae3920f9b7163",
        "IPY_MODEL_137cc55f71044b329686552e4d5ed5fe"
       ],
       "layout": "IPY_MODEL_c22302df51a94a2280910415876239df"
      }
     },
     "da640a5ac3bc4a59ab8a82bc8fcbf746": {
      "model_module": "@jupyter-widgets/base",
      "model_module_version": "1.0.0",
      "model_name": "LayoutModel",
      "state": {}
     },
     "dd45f7f9734f48fba70aaf8ae65dbb97": {
      "model_module": "@jupyter-widgets/controls",
      "model_module_version": "1.1.0",
      "model_name": "IntTextModel",
      "state": {
       "description": "Horizontal space between banks:",
       "layout": "IPY_MODEL_9fca8922d6a84010a73ddb46f2713c40",
       "step": 1,
       "style": "IPY_MODEL_bf5310d62e034c2582830a2037a8b002",
       "value": 150
      }
     },
     "dd4b1f529c7941569816da9769084b90": {
      "model_module": "@jupyter-widgets/controls",
      "model_module_version": "1.1.0",
      "model_name": "IntTextModel",
      "state": {
       "layout": "IPY_MODEL_86f142406e04427da6205fa66bac9620",
       "step": 1,
       "style": "IPY_MODEL_89b2034ca3124ff6848b20fb84a1a342",
       "value": 3
      }
     },
     "de9d6e453fa14e79b965a4501ff69845": {
      "model_module": "@jupyter-widgets/controls",
      "model_module_version": "1.1.0",
      "model_name": "DescriptionStyleModel",
      "state": {
       "description_width": ""
      }
     },
     "dea0a485bad246ce9e6f5273e581c7cf": {
      "model_module": "@jupyter-widgets/controls",
      "model_module_version": "1.1.0",
      "model_name": "HTMLModel",
      "state": {
       "layout": "IPY_MODEL_16832b10a05e46b19183f1726ed80faf",
       "style": "IPY_MODEL_3b7e0bdd891743bda0dd4a9d15dd0a42",
       "value": "<p style=\"text-align:center\"><svg id='XOR' xmlns='http://www.w3.org/2000/svg' viewBox=\"0 0 350 260\" max-width=\"100%\" height=\"780\" image-rendering=\"pixelated\">\n    <defs>\n        <marker id=\"arrow\" markerWidth=\"10\" markerHeight=\"10\" refX=\"9\" refY=\"3\" orient=\"auto\" markerUnits=\"strokeWidth\">\n          <path d=\"M0,0 L0,6 L9,3 z\" fill=\"black\" />\n        </marker>\n    </defs><text x=\"175.0\" y=\"12.5\" font-family=\"monospace\" font-size=\"15\" text-anchor=\"middle\" alignment-baseline=\"central\">XOR</text><rect x=\"149.0\" y=\"24\" width=\"52\" height=\"52\" style=\"fill:none;stroke:black;stroke-width:2\"/><image id=\"XOR_output_4\" class=\"XOR_output\" x=\"150.0\" y=\"25\" height=\"50\" width=\"50\" preserveAspectRatio=\"none\" href=\"data:image/gif;base64,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\"><title>Layer: output (output)\n shape = (1,)\n Keras class = Dense\n activation = sigmoid</title></image><text x=\"205.0\" y=\"52.0\" font-family=\"monospace\" font-size=\"12\" text-anchor=\"start\" alignment-baseline=\"central\">output</text><line x1=\"175.0\" y1=\"104\" x2=\"175.0\" y2=\"77\" stroke=\"black\" stroke-width=\"2\" marker-end=\"url(#arrow)\"><title>Weights from hidden to output\n output/kernel:0 has shape (5, 1)\n output/bias:0 has shape (1,)</title></line><rect x=\"74.0\" y=\"104\" width=\"202\" height=\"52\" style=\"fill:none;stroke:black;stroke-width:2\"/><image id=\"XOR_hidden_5\" class=\"XOR_hidden\" x=\"75.0\" y=\"105\" height=\"50\" width=\"200\" preserveAspectRatio=\"none\" href=\"data:image/gif;base64,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\"><title>Layer: hidden (hidden)\n shape = (5,)\n Keras class = Dense\n activation = sigmoid</title></image><text x=\"280.0\" y=\"132.0\" font-family=\"monospace\" font-size=\"12\" text-anchor=\"start\" alignment-baseline=\"central\">hidden</text><line x1=\"175.0\" y1=\"184\" x2=\"175.0\" y2=\"157\" stroke=\"black\" stroke-width=\"2\" marker-end=\"url(#arrow)\"><title>Weights from input to hidden\n hidden/kernel:0 has shape (2, 5)\n hidden/bias:0 has shape (5,)</title></line><rect x=\"124.0\" y=\"184\" width=\"102\" height=\"52\" style=\"fill:none;stroke:black;stroke-width:2\"/><image id=\"XOR_input_6\" class=\"XOR_input\" x=\"125.0\" y=\"185\" height=\"50\" width=\"100\" preserveAspectRatio=\"none\" href=\"data:image/gif;base64,R0lGODdhfAA+AIcAAP/9/QAAAAAAAAAAAAAAAAAAAAAAAAAAAAAAAAAAAAAAAAAAAAAAAAAAAAAAAAAAAAAAAAAAAAAAAAAAAAAAAAAAAAAAAAAAAAAAAAAAAAAAAAAAAAAAAAAAAAAAAAAAAAAAAAAAAAAAAAAAAAAAAAAAAAAAAAAAAAAAAAAAAAAAAAAAAAAAAAAAAAAAAAAAAAAAAAAAAAAAAAAAAAAAAAAAAAAAAAAAAAAAAAAAAAAAAAAAAAAAAAAAAAAAAAAAAAAAAAAAAAAAAAAAAAAAAAAAAAAAAAAAAAAAAAAAAAAAAAAAAAAAAAAAAAAAAAAAAAAAAAAAAAAAAAAAAAAAAAAAAAAAAAAAAAAAAAAAAAAAAAAAAAAAAAAAAAAAAAAAAAAAAAAAAAAAAAAAAAAAAAAAAAAAAAAAAAAAAAAAAAAAAAAAAAAAAAAAAAAAAAAAAAAAAAAAAAAAAAAAAAAAAAAAAAAAAAAAAAAAAAAAAAAAAAAAAAAAAAAAAAAAAAAAAAAAAAAAAAAAAAAAAAAAAAAAAAAAAAAAAAAAAAAAAAAAAAAAAAAAAAAAAAAAAAAAAAAAAAAAAAAAAAAAAAAAAAAAAAAAAAAAAAAAAAAAAAAAAAAAAAAAAAAAAAAAAAAAAAAAAAAAAAAAAAAAAAAAAAAAAAAAAAAAAAAAAAAAAAAAAAAAAAAAAAAAAAAAAAAAAAAAAAAAAAAAAAAAAAAAAAAAAAAAAAAAAAAAAAAAAAAAAAAAAAAAAAAAAAAAAAAAAAAAAAAAAAAAAAAAAAAAAAAAAAAAAAAAAAAAAAAAAAAAAAAAAAAAAAAAAAAAAAAAAAAAAAAAAAAAAAAAAAAAAAAAAAAAAAAAAAAAAAAAAAAAAAAAAAAAAAAAAAAAAAAAAAAAAAAAAAAAAAAAAAAAAAAAAAAAAAAAAAAAAAAAAAAAAAAAAAAAAAAAAAAAAAAAAAAAAAAAAAAAAAAAAAAAAAAAAAAAAAAAAAAAAAAAAAAAAAAAAAAAAAAAAAAAAAAAACwAAAAAfAA+AEAI/wADCBxIsKDBgwgTKlzIsKHDhwUBSJxIsaLFixgzaqwYIACAjyBDihxJsqTJkyIDBADAsqXLlzBjypxJ82WAAABy6tzJs6fPn0CD8gwQAIDRo0iTKl3KtKnTpAECAJhKtarVq1izat1qNUAAAGDDih1LtqzZs2jHBggAoK3bt3Djyp1Lty7cAAEA6N3Lt6/fv4ADC+4bIACAw4gTK17MuLHjx4oDBABAubLly5gza97M+XKAAABCix5NurTp06hTkw4QAIDr17Bjy55Nu7bt2AECANjNu7fv38CDCx/uO0AAAMiTK1/OvLnz59CXBwgAoLr169iza9/OvTv2AAEAiP8fT768+fPo06svHyAAgPfw48ufT7++/fvyAwQAwL+/f4AABA4kWNDgQYQJCwYIAMDhQ4gRJU6kWNFixAABAGzk2NHjR5AhRY70GCAAAJQpVa5k2dLlS5grAwQAUNPmTZw5de7k2RNngAAAhA4lWtToUaRJlRYNEADAU6hRpU6lWtXqVakBAgDg2tXrV7BhxY4l+zVAAABp1a5l29btW7hx2QYIAMDuXbx59e7l29dv3gABAAwmXNjwYcSJFS82HCAAAMiRJU+mXNnyZcyTAwQA0NnzZ9ChRY8mXRp0gAAAVK9m3dr1a9ixZbcOEADAbdy5de/m3dv3b90BAgAgXtz/+HHkyZUvZ348QAAA0aVPp17d+nXs2akHCADA+3fw4cWPJ1/efPgAAQCsZ9/e/Xv48eXPdx8gAAD8+fXv59/fP0AAAgcSLGhwYIAAABYybOjwIcSIEic6DBAAAMaMGjdy7OjxI8iNAQIAKGnyJMqUKleybIkyQAAAMmfSrGnzJs6cOmsGCADgJ9CgQocSLWr0qNAAAQAwber0KdSoUqdSfRogAICsWrdy7er1K9iwXAMEAGD2LNq0ateybes2bYAAAObSrWv3Lt68evfaDRAAAODAggcTLmz4MOLBAQIAaOz4MeTIkidTrgw5QAAAmjdz7uz5M+jQojsHCADgNOrU/6pXs27t+rXqAAEA0K5t+zbu3Lp3874dIACA4MKHEy9u/Djy5MQDBADg/Dn06NKnU69uPXqAAAC2c+/u/Tv48OLHew8QAAD69OrXs2/v/j389QECAKhv/z7+/Pr38++PH2CAAAAIFjR4EGFChQsZHgwQAEBEiRMpVrR4EWNGigECAPD4EWRIkSNJljQZMkAAACtZtnT5EmZMmTNdBggAAGdOnTt59vT5E+jOAAEAFDV6FGlSpUuZNkUaIAAAqVOpVrV6FWtWrVUDBADwFWxYsWPJljV7VmyAAADYtnX7Fm5cuXPpvg0QAEBevXv59vX7F3BgvgECADB8GHFixYsZN/92nDhAAACTKVe2fBlzZs2bLQcIAAB0aNGjSZc2fRr16AABALR2/Rp2bNmzadeGHSAAAN27eff2/Rt4cOG9AwQAcBx5cuXLmTd3/lx5gAAAqFe3fh17du3buV8PEABAePHjyZc3fx59evIBAgBw/x5+fPnz6de3Hz9AAAD7+ff3DxCAwIEECxo8iDBhgAAAGjp8CDGixIkUK0IMEACAxo0cO3r8CDKkyI4BAgA4iTKlypUsW7p8qTJAAAA0a9q8iTOnzp08bwYIACCo0KFEixo9ijQp0QABADh9CjWq1KlUq1qNGiAAgK1cu3r9Cjas2LFeAwQAgDat2rVs27p9C3f/bYAAAOravYs3r969fPviDRAAgODBhAsbPow4seLCAQIAeAw5suTJlCtbviw5QAAAnDt7/gw6tOjRpD8HCAAgterVrFu7fg07NusAAQDYvo07t+7dvHv7zh0gAIDhxIsbP448ufLlxgMEAAA9uvTp1Ktbv459eoAAALp7/w4+vPjx5MuDDxAAgPr17Nu7fw8/vvz2AQIAuI8/v/79/Pv7BwhA4ECCBQMEAJBQ4UKGDR0+hBiRYYAAACxexJhR40aOHT1mDBAAwEiSJU2eRJlS5UqTAQIAgBlT5kyaNW3exDkzQAAAPX3+BBpU6FCiRYEGCABA6VKmTZ0+hRpVatMA/wEAXMWaVetWrl29ftUaIAAAsmXNnkWbVu1atmcDBAAQV+5cunXt3sWbl26AAAD8/gUcWPBgwoUNBw4QAMBixo0dP4YcWfJkxwECAMCcWfNmzp09fwa9OUAAAKVNn0adWvVq1q1RBwgAQPZs2rVt38adW3ftAAEA/AYeXPhw4sWNHxceIAAA5s2dP4ceXfp06s8DBACQXft27t29fwcfnnuAAADMn0efXv169u3dpw8QAMB8+vXt38efX/9++wECAAQgcCDBggYPIkyosGCAAAAeQowocSLFihYvSgwQAADHjh4/ggwpciTJjwECAEipciXLli5fwozJMkAAADZv4hzMqXMnz54+cwYIKnQo0aJGjyJNqnQp06ZOiQYEADs=\"><title>Layer: input (input)\n shape = (2,)\n Keras class = Input</title></image><text x=\"230.0\" y=\"212.0\" font-family=\"monospace\" font-size=\"12\" text-anchor=\"start\" alignment-baseline=\"central\">input</text></svg></p>"
      }
     },
     "df5e3f91eea7415a888271f8fc68f9a5": {
      "model_module": "@jupyter-widgets/controls",
      "model_module_version": "1.1.0",
      "model_name": "DescriptionStyleModel",
      "state": {
       "description_width": ""
      }
     },
     "e4910a4128764aad9d412609da7c9a53": {
      "model_module": "@jupyter-widgets/base",
      "model_module_version": "1.0.0",
      "model_name": "LayoutModel",
      "state": {}
     },
     "e7e084ac53694252b14094ad1bc1affd": {
      "model_module": "@jupyter-widgets/controls",
      "model_module_version": "1.1.0",
      "model_name": "ButtonStyleModel",
      "state": {}
     },
     "eba95634dd3241f2911fc17342ddf924": {
      "model_module": "@jupyter-widgets/controls",
      "model_module_version": "1.1.0",
      "model_name": "ButtonStyleModel",
      "state": {}
     },
     "f3801cae672644048cd4eb49c89f6fb5": {
      "model_module": "@jupyter-widgets/controls",
      "model_module_version": "1.1.0",
      "model_name": "ButtonModel",
      "state": {
       "icon": "backward",
       "layout": "IPY_MODEL_8bdd74f89a3043e792eabd6a6226a6ab",
       "style": "IPY_MODEL_15dbc9bb00744ca8a4613fd572a49fc0"
      }
     },
     "f5e9b479caa3491496610a1bca70f6f6": {
      "model_module": "@jupyter-widgets/base",
      "model_module_version": "1.0.0",
      "model_name": "LayoutModel",
      "state": {
       "width": "100%"
      }
     },
     "f6b3e8fc467742ac88c9cf3bf03cfa03": {
      "model_module": "@jupyter-widgets/base",
      "model_module_version": "1.0.0",
      "model_name": "LayoutModel",
      "state": {
       "height": "50px",
       "width": "100%"
      }
     }
    },
    "version_major": 2,
    "version_minor": 0
   }
  }
 },
 "nbformat": 4,
 "nbformat_minor": 2
}
