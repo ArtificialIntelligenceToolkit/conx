{
 "cells": [
  {
   "cell_type": "markdown",
   "metadata": {},
   "source": [
    "# CIFAR10 CNN"
   ]
  },
  {
   "cell_type": "markdown",
   "metadata": {},
   "source": [
    "Train a simple deep CNN on the CIFAR10 small images dataset.\n",
    "\n",
    "GPU run command with Theano backend (with TensorFlow, the GPU is automatically used):\n",
    "    THEANO_FLAGS=mode=FAST_RUN,device=gpu,floatx=float32 python cifar10_cnn.py\n",
    "\n",
    "It gets down to 0.65 test logloss in 25 epochs, and down to 0.55 after 50 epochs.\n",
    "(it's still underfitting at that point, though)."
   ]
  },
  {
   "cell_type": "code",
   "execution_count": 1,
   "metadata": {},
   "outputs": [
    {
     "name": "stderr",
     "output_type": "stream",
     "text": [
      "Using Theano backend.\n"
     ]
    }
   ],
   "source": [
    "import keras\n",
    "from keras.datasets import cifar10\n",
    "from keras.preprocessing.image import ImageDataGenerator"
   ]
  },
  {
   "cell_type": "code",
   "execution_count": 2,
   "metadata": {
    "collapsed": true
   },
   "outputs": [],
   "source": [
    "import os\n",
    "import pickle\n",
    "import numpy as np"
   ]
  },
  {
   "cell_type": "code",
   "execution_count": 3,
   "metadata": {
    "collapsed": true
   },
   "outputs": [],
   "source": [
    "batch_size = 32\n",
    "num_classes = 10\n",
    "epochs = 200\n",
    "data_augmentation = True\n",
    "num_predictions = 20\n",
    "save_dir = os.path.join(os.getcwd(), 'saved_models')\n",
    "model_name = 'keras_cifar10_trained_model.h5'"
   ]
  },
  {
   "cell_type": "code",
   "execution_count": 4,
   "metadata": {},
   "outputs": [
    {
     "name": "stdout",
     "output_type": "stream",
     "text": [
      "x_train shape: (50000, 32, 32, 3)\n",
      "50000 train samples\n",
      "10000 test samples\n"
     ]
    }
   ],
   "source": [
    "# The data, shuffled and split between train and test sets:\n",
    "(x_train, y_train), (x_test, y_test) = cifar10.load_data()\n",
    "print('x_train shape:', x_train.shape)\n",
    "print(x_train.shape[0], 'train samples')\n",
    "print(x_test.shape[0], 'test samples')\n",
    "\n",
    "# Convert class vectors to binary class matrices.\n",
    "y_train = keras.utils.to_categorical(y_train, num_classes)\n",
    "y_test = keras.utils.to_categorical(y_test, num_classes)"
   ]
  },
  {
   "cell_type": "code",
   "execution_count": 5,
   "metadata": {
    "collapsed": true
   },
   "outputs": [],
   "source": [
    "import PIL"
   ]
  },
  {
   "cell_type": "code",
   "execution_count": 6,
   "metadata": {},
   "outputs": [
    {
     "data": {
      "text/plain": [
       "(49999, 32, 32, 3)"
      ]
     },
     "execution_count": 6,
     "metadata": {},
     "output_type": "execute_result"
    }
   ],
   "source": [
    "x_train[1:].shape"
   ]
  },
  {
   "cell_type": "code",
   "execution_count": 7,
   "metadata": {},
   "outputs": [
    {
     "data": {
      "image/png": "[encoded data removed]",
      "text/plain": [
       "<PIL.Image.Image image mode=RGB size=100x100 at 0x7FDA2E302198>"
      ]
     },
     "execution_count": 7,
     "metadata": {},
     "output_type": "execute_result"
    }
   ],
   "source": [
    "PIL.Image.fromarray(x_train[0]).resize((100,100))"
   ]
  },
  {
   "cell_type": "code",
   "execution_count": 8,
   "metadata": {
    "collapsed": true
   },
   "outputs": [],
   "source": [
    "from conx import *\n",
    "\n",
    "net = Network(\"CIRAR10\")\n",
    "net.add(Layer(\"input\", (32, 32, 3)))\n",
    "net.add(Conv2DLayer(\"conv1\", 32, (3, 3), padding='same', activation='relu'))\n",
    "net.add(Conv2DLayer(\"conv2\", 32, (3, 3), activation='relu'))\n",
    "net.add(MaxPool2DLayer(\"pool1\", pool_size=(2, 2), dropout=0.25))\n",
    "net.add(Conv2DLayer(\"conv3\", 64, (3, 3), padding='same', activation='relu'))\n",
    "net.add(Conv2DLayer(\"conv4\", 64, (3, 3), activation='relu'))\n",
    "net.add(MaxPool2DLayer(\"pool2\", pool_size=(2, 2), dropout=0.25))\n",
    "net.add(FlattenLayer(\"flatten\"))\n",
    "net.add(Layer(\"hidden1\", 512, activation='relu', vshape=(16, 32), dropout=0.5))\n",
    "net.add(Layer(\"output\", num_classes, activation='softmax'))\n",
    "net.connect()\n",
    "\n",
    "# initiate RMSprop optimizer\n",
    "opt = RMSprop(lr=0.0001, decay=1e-6)\n",
    "\n",
    "net.compile(loss='categorical_crossentropy',\n",
    "            optimizer=opt)\n",
    "\n",
    "# Let's train the model using RMSprop\n",
    "net.compile(loss='categorical_crossentropy',\n",
    "              optimizer=opt,\n",
    "              metrics=['accuracy'])\n",
    "model = net.model"
   ]
  },
  {
   "cell_type": "code",
   "execution_count": 9,
   "metadata": {},
   "outputs": [
    {
     "data": {
      "application/javascript": [
       "\n",
       "require(['base/js/namespace'], function(Jupyter) {\n",
       "    Jupyter.notebook.kernel.comm_manager.register_target('conx_svg_control', function(comm, msg) {\n",
       "        comm.on_msg(function(msg) {\n",
       "            var data = msg[\"content\"][\"data\"];\n",
       "            var images = document.getElementsByClassName(data[\"class\"]);\n",
       "            for (var i = 0; i < images.length; i++) {\n",
       "                images[i].setAttributeNS(null, \"href\", data[\"href\"]);\n",
       "            }\n",
       "        });\n",
       "    });\n",
       "});\n"
      ],
      "text/plain": [
       "<IPython.core.display.Javascript object>"
      ]
     },
     "metadata": {},
     "output_type": "display_data"
    },
    {
     "data": {
      "application/vnd.jupyter.widget-view+json": {
       "model_id": "cefb8ee4211d40a78617733a509cec4f"
      }
     },
     "metadata": {},
     "output_type": "display_data"
    }
   ],
   "source": [
    "net.build_widget()"
   ]
  },
  {
   "cell_type": "code",
   "execution_count": 10,
   "metadata": {
    "collapsed": true
   },
   "outputs": [],
   "source": [
    "x_train = x_train.astype('float32')\n",
    "x_test = x_test.astype('float32')\n",
    "x_train /= 255\n",
    "x_test /= 255"
   ]
  },
  {
   "cell_type": "code",
   "execution_count": 11,
   "metadata": {},
   "outputs": [
    {
     "data": {
      "text/plain": [
       "[0.10449333,\n",
       " 0.089558646,\n",
       " 0.11429133,\n",
       " 0.09746933,\n",
       " 0.091602318,\n",
       " 0.099535502,\n",
       " 0.10224824,\n",
       " 0.096459754,\n",
       " 0.10463301,\n",
       " 0.099708542]"
      ]
     },
     "execution_count": 11,
     "metadata": {},
     "output_type": "execute_result"
    }
   ],
   "source": [
    "net.propagate(x_train[0])"
   ]
  },
  {
   "cell_type": "code",
   "execution_count": 12,
   "metadata": {},
   "outputs": [
    {
     "name": "stdout",
     "output_type": "stream",
     "text": [
      "Input Summary:\n",
      "   length  : 50000\n",
      "   training: 50000\n",
      "   testing : 0\n",
      "   shape  : (32, 32, 3)\n",
      "   range  : (0.0, 1.0)\n",
      "Target Summary:\n",
      "   length  : 50000\n",
      "   training: 50000\n",
      "   testing : 0\n",
      "   shape  : (10,)\n",
      "   range  : (0.0, 1.0)\n"
     ]
    }
   ],
   "source": [
    "net.set_dataset_direct(x_train, y_train)"
   ]
  },
  {
   "cell_type": "code",
   "execution_count": 13,
   "metadata": {},
   "outputs": [
    {
     "data": {
      "text/plain": [
       "[0.10593142,\n",
       " 0.090718798,\n",
       " 0.11996857,\n",
       " 0.093882129,\n",
       " 0.091921531,\n",
       " 0.099259503,\n",
       " 0.10394023,\n",
       " 0.093262888,\n",
       " 0.10208549,\n",
       " 0.099029452]"
      ]
     },
     "execution_count": 13,
     "metadata": {},
     "output_type": "execute_result"
    }
   ],
   "source": [
    "net.propagate(x_test[0])"
   ]
  },
  {
   "cell_type": "code",
   "execution_count": null,
   "metadata": {},
   "outputs": [
    {
     "name": "stdout",
     "output_type": "stream",
     "text": [
      "Using real-time data augmentation.\n",
      "Epoch 1/200\n",
      " 307/1562 [====>.........................] - ETA: 333s - loss: 2.1599 - acc: 0.1926"
     ]
    }
   ],
   "source": [
    "if not data_augmentation:\n",
    "    print('Not using data augmentation.')\n",
    "    model.fit(x_train, y_train,\n",
    "              batch_size=batch_size,\n",
    "              epochs=epochs,\n",
    "              validation_data=(x_test, y_test),\n",
    "              shuffle=True)\n",
    "else:\n",
    "    print('Using real-time data augmentation.')\n",
    "    # This will do preprocessing and realtime data augmentation:\n",
    "    datagen = ImageDataGenerator(\n",
    "        featurewise_center=False,  # set input mean to 0 over the dataset\n",
    "        samplewise_center=False,  # set each sample mean to 0\n",
    "        featurewise_std_normalization=False,  # divide inputs by std of the dataset\n",
    "        samplewise_std_normalization=False,  # divide each input by its std\n",
    "        zca_whitening=False,  # apply ZCA whitening\n",
    "        rotation_range=0,  # randomly rotate images in the range (degrees, 0 to 180)\n",
    "        width_shift_range=0.1,  # randomly shift images horizontally (fraction of total width)\n",
    "        height_shift_range=0.1,  # randomly shift images vertically (fraction of total height)\n",
    "        horizontal_flip=True,  # randomly flip images\n",
    "        vertical_flip=False)  # randomly flip images\n",
    "\n",
    "    # Compute quantities required for feature-wise normalization\n",
    "    # (std, mean, and principal components if ZCA whitening is applied).\n",
    "    datagen.fit(x_train)\n",
    "\n",
    "    # Fit the model on the batches generated by datagen.flow().\n",
    "    model.fit_generator(datagen.flow(x_train, y_train,\n",
    "                                     batch_size=batch_size),\n",
    "                        steps_per_epoch=x_train.shape[0] // batch_size,\n",
    "                        epochs=epochs,\n",
    "                        validation_data=(x_test, y_test))"
   ]
  },
  {
   "cell_type": "code",
   "execution_count": null,
   "metadata": {
    "collapsed": true
   },
   "outputs": [],
   "source": [
    "# Save model and weights\n",
    "if not os.path.isdir(save_dir):\n",
    "    os.makedirs(save_dir)\n",
    "model_path = os.path.join(save_dir, model_name)\n",
    "model.save(model_path)\n",
    "print('Saved trained model at %s ' % model_path)\n",
    "\n",
    "# Load label names to use in prediction results\n",
    "label_list_path = 'datasets/cifar-10-batches-py/batches.meta'\n",
    "\n",
    "\n",
    "keras_dir = os.path.expanduser(os.path.join('~', '.keras'))\n",
    "datadir_base = os.path.expanduser(keras_dir)\n",
    "if not os.access(datadir_base, os.W_OK):\n",
    "    datadir_base = os.path.join('/tmp', '.keras')\n",
    "label_list_path = os.path.join(datadir_base, label_list_path)\n",
    "\n",
    "with open(label_list_path, mode='rb') as f:\n",
    "    labels = pickle.load(f)\n",
    "\n",
    "# Evaluate model with test data set and share sample prediction results\n",
    "evaluation = model.evaluate_generator(datagen.flow(x_test, y_test,\n",
    "                                      batch_size=batch_size),\n",
    "                                      steps=x_test.shape[0] // batch_size)\n",
    "\n",
    "print('Model Accuracy = %.2f' % (evaluation[1]))\n",
    "\n",
    "predict_gen = model.predict_generator(datagen.flow(x_test, y_test,\n",
    "                                      batch_size=batch_size),\n",
    "                                      steps=x_test.shape[0] // batch_size)\n",
    "\n",
    "for predict_index, predicted_y in enumerate(predict_gen):\n",
    "    actual_label = labels['label_names'][np.argmax(y_test[predict_index])]\n",
    "    predicted_label = labels['label_names'][np.argmax(predicted_y)]\n",
    "    print('Actual Label = %s vs. Predicted Label = %s' % (actual_label,\n",
    "                                                          predicted_label))\n",
    "    if predict_index == num_predictions:\n",
    "        break"
   ]
  },
  {
   "cell_type": "code",
   "execution_count": null,
   "metadata": {
    "collapsed": true
   },
   "outputs": [],
   "source": []
  }
 ],
 "metadata": {
  "kernelspec": {
   "display_name": "Python 3",
   "language": "python",
   "name": "python3"
  },
  "language_info": {
   "codemirror_mode": {
    "name": "ipython",
    "version": 3
   },
   "file_extension": ".py",
   "mimetype": "text/x-python",
   "name": "python",
   "nbconvert_exporter": "python",
   "pygments_lexer": "ipython3",
   "version": "3.5.3"
  },
  "widgets": {
   "application/vnd.jupyter.widget-state+json": {
    "state": {
     "047e0776fd8449ecb48299bd3b3c19fd": {
      "model_module": "jupyter-js-widgets",
      "model_module_version": "~2.1.4",
      "model_name": "HTMLModel",
      "state": {
       "_model_module_version": "~2.1.4",
       "_view_module_version": "~2.1.4",
       "layout": "IPY_MODEL_16e04606851542a0ae442c1fb4a8fda5",
       "value": "\n        <svg id='CIRAR10' xmlns='http://www.w3.org/2000/svg' width=\"350\" height=\"1945\" image-rendering=\"pixelated\">\n    <defs>\n        <marker id=\"arrow\" markerWidth=\"10\" markerHeight=\"10\" refX=\"9\" refY=\"3\" orient=\"auto\" markerUnits=\"strokeWidth\">\n          <path d=\"M0,0 L0,6 L9,3 z\" fill=\"blue\" />\n        </marker>\n    </defs>\n<rect x=\"74.0\" y=\"24\" width=\"202\" height=\"27\" style=\"fill:none;stroke:blue;stroke-width:2\"/><image id=\"CIRAR10_output_targets_1\" class=\"CIRAR10_output_targets\" x=\"75.0\" y=\"25\" height=\"25\" width=\"200\" preserveAspectRatio=\"none\" href=\"data:image/gif;base64,R0lGODdhCgABAIAAABkZGQAAACwAAAAACgABAAAIBwABCBxIMCAAOw==\"><title>Layer: output (output)\n shape = (10,)\n Keras class = Dense\n activation = softmax</title></image><text x=\"280.0\" y=\"39.5\" font-family=\"monospace\" font-size=\"12\">targets</text><rect x=\"74.0\" y=\"59\" width=\"202\" height=\"27\" style=\"fill:none;stroke:blue;stroke-width:2\"/><image id=\"CIRAR10_output_errors_1\" class=\"CIRAR10_output_errors\" x=\"75.0\" y=\"60\" height=\"25\" width=\"200\" preserveAspectRatio=\"none\" href=\"data:image/gif;base64,R0lGODdhCgABAIAAABkZGQAAACwAAAAACgABAAAIBwABCBxIMCAAOw==\"><title>Layer: output (output)\n shape = (10,)\n Keras class = Dense\n activation = softmax</title></image><text x=\"280.0\" y=\"74.5\" font-family=\"monospace\" font-size=\"12\">errors</text><rect x=\"74.0\" y=\"99\" width=\"202\" height=\"27\" style=\"fill:none;stroke:blue;stroke-width:2\"/><image id=\"CIRAR10_output_1\" class=\"CIRAR10_output\" x=\"75.0\" y=\"100\" height=\"25\" width=\"200\" preserveAspectRatio=\"none\" href=\"data:image/gif;base64,R0lGODdhCgABAIAAABkZGQAAACwAAAAACgABAAAIBwABCBxIMCAAOw==\"><title>Layer: output (output)\n shape = (10,)\n Keras class = Dense\n activation = softmax</title></image><text x=\"280.0\" y=\"114.5\" font-family=\"monospace\" font-size=\"12\">output</text><rect x=\"165.0\" y=\"127\" width=\"20.0\" height=\"27\" style=\"fill:white;stroke:none\"><title>Weights from hidden1 to output\n output/kernel has shape (512, 10)\n output/bias has shape (10,)</title></rect><line x1=\"175.0\" y1=\"154\" x2=\"175.0\" y2=\"127\" stroke=\"blue\" stroke-width=\"2\" marker-end=\"url(#arrow)\"><title>Weights from hidden1 to output\n output/kernel has shape (512, 10)\n output/bias has shape (10,)</title></line><rect x=\"74.0\" y=\"154\" width=\"202\" height=\"102\" style=\"fill:none;stroke:blue;stroke-width:2\"/><image id=\"CIRAR10_hidden1_2\" class=\"CIRAR10_hidden1\" x=\"75.0\" y=\"155\" height=\"100\" width=\"200\" preserveAspectRatio=\"none\" href=\"data:image/gif;base64,R0lGODdhIAAQAIAAAH9/fwAAACwAAAAAIAAQAEAIJwABCBxIsKDBgwgTKlzIsKHDhxAjSpxIsaLFixgzatzIsaPHjxADAgA7\"><title>Layer: hidden1 (hidden)\n shape = (512,)\n dropout = 0.5\n Keras class = Dense\n activation = relu</title></image><text x=\"280.0\" y=\"207.0\" font-family=\"monospace\" font-size=\"12\">hidden1</text><rect x=\"165.0\" y=\"257\" width=\"20.0\" height=\"27\" style=\"fill:white;stroke:none\"><title>Weights from flatten to hidden1\n hidden1/kernel has shape (2304, 512)\n hidden1/bias has shape (512,)</title></rect><line x1=\"175.0\" y1=\"284\" x2=\"175.0\" y2=\"257\" stroke=\"blue\" stroke-width=\"2\" marker-end=\"url(#arrow)\"><title>Weights from flatten to hidden1\n hidden1/kernel has shape (2304, 512)\n hidden1/bias has shape (512,)</title></line><rect x=\"74.0\" y=\"284\" width=\"202\" height=\"27\" style=\"fill:none;stroke:blue;stroke-width:2\"/><image id=\"CIRAR10_flatten_3\" class=\"CIRAR10_flatten\" x=\"75.0\" y=\"285\" height=\"25\" width=\"200\" preserveAspectRatio=\"none\" href=\"data:image/gif;base64,R0lGODdhAAkBAIAAAH9/fwAAACwAAAAAAAkBAAAITwABCBxIsKDBgwgTKlzIsKHDhxAjSpxIsaLFixgzatzIsaPHjyBDihxJsqTJkyhTqlzJsqXLlzBjypxJs6bNmzhz6tzJs6fPn0CDCh2qMSAAOw==\"><title>Layer: flatten (hidden)\n Keras class = Flatten</title></image><text x=\"280.0\" y=\"299.5\" font-family=\"monospace\" font-size=\"12\">flatten</text><rect x=\"165.0\" y=\"312\" width=\"20.0\" height=\"27\" style=\"fill:white;stroke:none\"><title>Weights from pool2 to flatten</title></rect><line x1=\"175.0\" y1=\"339\" x2=\"175.0\" y2=\"312\" stroke=\"blue\" stroke-width=\"2\" marker-end=\"url(#arrow)\"><title>Weights from pool2 to flatten</title></line><rect x=\"74.0\" y=\"339\" width=\"202\" height=\"202\" style=\"fill:none;stroke:blue;stroke-width:2\"/><image id=\"CIRAR10_pool2_4\" class=\"CIRAR10_pool2\" x=\"75.0\" y=\"340\" height=\"200\" width=\"200\" preserveAspectRatio=\"none\" href=\"data:image/gif;base64,R0lGODdhBgAGAIAAAH9/fwAAACwAAAAABgAGAAAIDAABCBxIsKDBgwgDAgA7\"><title>Layer: pool2 (hidden)\n dropout = 0.25\n Keras class = MaxPooling2D\n pool_size = (2, 2)</title></image><text x=\"280.0\" y=\"442.0\" font-family=\"monospace\" font-size=\"12\">pool2</text><rect x=\"165.0\" y=\"542\" width=\"20.0\" height=\"27\" style=\"fill:white;stroke:none\"><title>Weights from conv4 to pool2</title></rect><line x1=\"175.0\" y1=\"569\" x2=\"175.0\" y2=\"542\" stroke=\"blue\" stroke-width=\"2\" marker-end=\"url(#arrow)\"><title>Weights from conv4 to pool2</title></line><rect x=\"74.0\" y=\"569\" width=\"202\" height=\"202\" style=\"fill:none;stroke:blue;stroke-width:2\"/><image id=\"CIRAR10_conv4_5\" class=\"CIRAR10_conv4\" x=\"75.0\" y=\"570\" height=\"200\" width=\"200\" preserveAspectRatio=\"none\" href=\"data:image/gif;base64,R0lGODdhDQANAIAAAH9/fwAAACwAAAAADQANAAAIFwABCBxIsKDBgwgTKlzIsKHDhxAjQgwIADs=\"><title>Layer: conv4 (hidden)\n Keras class = Conv2D\n activation = relu</title></image><text x=\"280.0\" y=\"672.0\" font-family=\"monospace\" font-size=\"12\">conv4</text><rect x=\"165.0\" y=\"772\" width=\"20.0\" height=\"27\" style=\"fill:white;stroke:none\"><title>Weights from conv3 to conv4\n conv4/kernel has shape (3, 3, 64, 64)\n conv4/bias has shape (64,)</title></rect><line x1=\"175.0\" y1=\"799\" x2=\"175.0\" y2=\"772\" stroke=\"blue\" stroke-width=\"2\" marker-end=\"url(#arrow)\"><title>Weights from conv3 to conv4\n conv4/kernel has shape (3, 3, 64, 64)\n conv4/bias has shape (64,)</title></line><rect x=\"74.0\" y=\"799\" width=\"202\" height=\"202\" style=\"fill:none;stroke:blue;stroke-width:2\"/><image id=\"CIRAR10_conv3_6\" class=\"CIRAR10_conv3\" x=\"75.0\" y=\"800\" height=\"200\" width=\"200\" preserveAspectRatio=\"none\" href=\"data:image/gif;base64,R0lGODdhDwAPAIAAAH9/fwAAACwAAAAADwAPAAAIGgABCBxIsKDBgwgTKlzIsKHDhxAjSpxI8WFAADs=\"><title>Layer: conv3 (hidden)\n Keras class = Conv2D\n activation = relu\n padding = same</title></image><text x=\"280.0\" y=\"902.0\" font-family=\"monospace\" font-size=\"12\">conv3</text><rect x=\"165.0\" y=\"1002\" width=\"20.0\" height=\"27\" style=\"fill:white;stroke:none\"><title>Weights from pool1 to conv3\n conv3/kernel has shape (3, 3, 32, 64)\n conv3/bias has shape (64,)</title></rect><line x1=\"175.0\" y1=\"1029\" x2=\"175.0\" y2=\"1002\" stroke=\"blue\" stroke-width=\"2\" marker-end=\"url(#arrow)\"><title>Weights from pool1 to conv3\n conv3/kernel has shape (3, 3, 32, 64)\n conv3/bias has shape (64,)</title></line><rect x=\"74.0\" y=\"1029\" width=\"202\" height=\"202\" style=\"fill:none;stroke:blue;stroke-width:2\"/><image id=\"CIRAR10_pool1_7\" class=\"CIRAR10_pool1\" x=\"75.0\" y=\"1030\" height=\"200\" width=\"200\" preserveAspectRatio=\"none\" href=\"data:image/gif;base64,R0lGODdhDwAPAIAAAH9/fwAAACwAAAAADwAPAAAIGgABCBxIsKDBgwgTKlzIsKHDhxAjSpxI8WFAADs=\"><title>Layer: pool1 (hidden)\n dropout = 0.25\n Keras class = MaxPooling2D\n pool_size = (2, 2)</title></image><text x=\"280.0\" y=\"1132.0\" font-family=\"monospace\" font-size=\"12\">pool1</text><rect x=\"165.0\" y=\"1232\" width=\"20.0\" height=\"27\" style=\"fill:white;stroke:none\"><title>Weights from conv2 to pool1</title></rect><line x1=\"175.0\" y1=\"1259\" x2=\"175.0\" y2=\"1232\" stroke=\"blue\" stroke-width=\"2\" marker-end=\"url(#arrow)\"><title>Weights from conv2 to pool1</title></line><rect x=\"74.0\" y=\"1259\" width=\"202\" height=\"202\" style=\"fill:none;stroke:blue;stroke-width:2\"/><image id=\"CIRAR10_conv2_8\" class=\"CIRAR10_conv2\" x=\"75.0\" y=\"1260\" height=\"200\" width=\"200\" preserveAspectRatio=\"none\" href=\"data:image/gif;base64,R0lGODdhHgAeAIAAAH9/fwAAACwAAAAAHgAeAEAIMgABCBxIsKDBgwgTKlzIsKHDhxAjSpxIsaLFixgzatzIsaPHjyBDihxJsqTJkyhTngwIADs=\"><title>Layer: conv2 (hidden)\n Keras class = Conv2D\n activation = relu</title></image><text x=\"280.0\" y=\"1362.0\" font-family=\"monospace\" font-size=\"12\">conv2</text><rect x=\"165.0\" y=\"1462\" width=\"20.0\" height=\"27\" style=\"fill:white;stroke:none\"><title>Weights from conv1 to conv2\n conv2/kernel has shape (3, 3, 32, 32)\n conv2/bias has shape (32,)</title></rect><line x1=\"175.0\" y1=\"1489\" x2=\"175.0\" y2=\"1462\" stroke=\"blue\" stroke-width=\"2\" marker-end=\"url(#arrow)\"><title>Weights from conv1 to conv2\n conv2/kernel has shape (3, 3, 32, 32)\n conv2/bias has shape (32,)</title></line><rect x=\"74.0\" y=\"1489\" width=\"202\" height=\"202\" style=\"fill:none;stroke:blue;stroke-width:2\"/><image id=\"CIRAR10_conv1_9\" class=\"CIRAR10_conv1\" x=\"75.0\" y=\"1490\" height=\"200\" width=\"200\" preserveAspectRatio=\"none\" href=\"data:image/gif;base64,R0lGODdhIAAgAIAAAH9/fwAAACwAAAAAIAAgAEAINQABCBxIsKDBgwgTKlzIsKHDhxAjSpxIsaLFixgzatzIsaPHjyBDihxJsqTJkyhTqlzJUmRAADs=\"><title>Layer: conv1 (hidden)\n Keras class = Conv2D\n activation = relu\n padding = same</title></image><text x=\"280.0\" y=\"1592.0\" font-family=\"monospace\" font-size=\"12\">conv1</text><rect x=\"165.0\" y=\"1692\" width=\"20.0\" height=\"27\" style=\"fill:white;stroke:none\"><title>Weights from input to conv1\n conv1/kernel has shape (3, 3, 3, 32)\n conv1/bias has shape (32,)</title></rect><line x1=\"175.0\" y1=\"1719\" x2=\"175.0\" y2=\"1692\" stroke=\"blue\" stroke-width=\"2\" marker-end=\"url(#arrow)\"><title>Weights from input to conv1\n conv1/kernel has shape (3, 3, 3, 32)\n conv1/bias has shape (32,)</title></line><rect x=\"74.0\" y=\"1719\" width=\"202\" height=\"202\" style=\"fill:none;stroke:blue;stroke-width:2\"/><image id=\"CIRAR10_input_10\" class=\"CIRAR10_input\" x=\"75.0\" y=\"1720\" height=\"200\" width=\"200\" preserveAspectRatio=\"none\" href=\"data:image/gif;base64,R0lGODdhIAAgAIAAAH9/fwAAACwAAAAAIAAgAEAINQABCBxIsKDBgwgTKlzIsKHDhxAjSpxIsaLFixgzatzIsaPHjyBDihxJsqTJkyhTqlzJUmRAADs=\"><title>Layer: input (input)\n shape = (32, 32, 3)\n Keras class = Input</title></image><text x=\"280.0\" y=\"1822.0\" font-family=\"monospace\" font-size=\"12\">input</text></svg>"
      }
     },
     "0fc75286b40f455fa33b5c4b163e45fb": {
      "model_module": "jupyter-js-widgets",
      "model_module_version": "~2.1.4",
      "model_name": "VBoxModel",
      "state": {
       "_model_module_version": "~2.1.4",
       "_view_module_version": "~2.1.4",
       "children": [
        "IPY_MODEL_4d553f01022349959a55706d915bb1e5",
        "IPY_MODEL_e9152a4920cf49c4b71767d1feebd68e",
        "IPY_MODEL_127c30cbb8414970ab31c141e567a6a7"
       ],
       "layout": "IPY_MODEL_a80fe9d186c44aafa3269ddc39839e7f"
      }
     },
     "1034cca45b184a3a800985b12b7efa95": {
      "model_module": "jupyter-js-widgets",
      "model_module_version": "~2.1.4",
      "model_name": "VBoxModel",
      "state": {
       "_model_module_version": "~2.1.4",
       "_view_module_version": "~2.1.4",
       "children": [
        "IPY_MODEL_162061b4d87441f4bb9c08f47a9654de",
        "IPY_MODEL_0fc75286b40f455fa33b5c4b163e45fb"
       ],
       "layout": "IPY_MODEL_8403cfa1fdd64e95a331f9b6f947bc1c"
      }
     },
     "127c30cbb8414970ab31c141e567a6a7": {
      "model_module": "jupyter-js-widgets",
      "model_module_version": "~2.1.4",
      "model_name": "HBoxModel",
      "state": {
       "_model_module_version": "~2.1.4",
       "_view_module_version": "~2.1.4",
       "children": [
        "IPY_MODEL_ec315161b4dc4edb9b26a04bda2b5e97",
        "IPY_MODEL_374359f8056c4a7c8922d942be3b1ed1",
        "IPY_MODEL_aa6640c3f911421b9dba736e03cb97e8",
        "IPY_MODEL_4ce9d9ad71b54b08a33d7ee081c1042e",
        "IPY_MODEL_6a70e04daf7741e5996cf8cfb48d76b6"
       ],
       "layout": "IPY_MODEL_aa00629b4442402783cfbf61390e7d52"
      }
     },
     "162061b4d87441f4bb9c08f47a9654de": {
      "model_module": "jupyter-js-widgets",
      "model_module_version": "~2.1.4",
      "model_name": "HTMLModel",
      "state": {
       "_model_module_version": "~2.1.4",
       "_view_module_version": "~2.1.4",
       "layout": "IPY_MODEL_9e36c3bb77854edebd277d6f64e5876c",
       "value": "\n        <svg id='CIRAR10' xmlns='http://www.w3.org/2000/svg' width=\"350\" height=\"1945\" image-rendering=\"pixelated\">\n    <defs>\n        <marker id=\"arrow\" markerWidth=\"10\" markerHeight=\"10\" refX=\"9\" refY=\"3\" orient=\"auto\" markerUnits=\"strokeWidth\">\n          <path d=\"M0,0 L0,6 L9,3 z\" fill=\"blue\" />\n        </marker>\n    </defs>\n<rect x=\"74.0\" y=\"24\" width=\"202\" height=\"27\" style=\"fill:none;stroke:blue;stroke-width:2\"/><image id=\"CIRAR10_output_targets_1\" class=\"CIRAR10_output_targets\" x=\"75.0\" y=\"25\" height=\"25\" width=\"200\" preserveAspectRatio=\"none\" href=\"data:image/gif;base64,R0lGODdhCgABAIAAABkZGQAAACwAAAAACgABAAAIBwABCBxIMCAAOw==\"><title>Layer: output (output)\n shape = (10,)\n Keras class = Dense\n activation = softmax</title></image><text x=\"280.0\" y=\"39.5\" font-family=\"monospace\" font-size=\"12\">targets</text><rect x=\"74.0\" y=\"59\" width=\"202\" height=\"27\" style=\"fill:none;stroke:blue;stroke-width:2\"/><image id=\"CIRAR10_output_errors_1\" class=\"CIRAR10_output_errors\" x=\"75.0\" y=\"60\" height=\"25\" width=\"200\" preserveAspectRatio=\"none\" href=\"data:image/gif;base64,R0lGODdhCgABAIAAABkZGQAAACwAAAAACgABAAAIBwABCBxIMCAAOw==\"><title>Layer: output (output)\n shape = (10,)\n Keras class = Dense\n activation = softmax</title></image><text x=\"280.0\" y=\"74.5\" font-family=\"monospace\" font-size=\"12\">errors</text><rect x=\"74.0\" y=\"99\" width=\"202\" height=\"27\" style=\"fill:none;stroke:blue;stroke-width:2\"/><image id=\"CIRAR10_output_1\" class=\"CIRAR10_output\" x=\"75.0\" y=\"100\" height=\"25\" width=\"200\" preserveAspectRatio=\"none\" href=\"data:image/gif;base64,R0lGODdhCgABAIAAABkZGQAAACwAAAAACgABAAAIBwABCBxIMCAAOw==\"><title>Layer: output (output)\n shape = (10,)\n Keras class = Dense\n activation = softmax</title></image><text x=\"280.0\" y=\"114.5\" font-family=\"monospace\" font-size=\"12\">output</text><rect x=\"165.0\" y=\"127\" width=\"20.0\" height=\"27\" style=\"fill:white;stroke:none\"><title>Weights from hidden1 to output\n output/kernel has shape (512, 10)\n output/bias has shape (10,)</title></rect><line x1=\"175.0\" y1=\"154\" x2=\"175.0\" y2=\"127\" stroke=\"blue\" stroke-width=\"2\" marker-end=\"url(#arrow)\"><title>Weights from hidden1 to output\n output/kernel has shape (512, 10)\n output/bias has shape (10,)</title></line><rect x=\"74.0\" y=\"154\" width=\"202\" height=\"102\" style=\"fill:none;stroke:blue;stroke-width:2\"/><image id=\"CIRAR10_hidden1_2\" class=\"CIRAR10_hidden1\" x=\"75.0\" y=\"155\" height=\"100\" width=\"200\" preserveAspectRatio=\"none\" href=\"data:image/gif;base64,R0lGODdhIAAQAIAAAH9/fwAAACwAAAAAIAAQAEAIJwABCBxIsKDBgwgTKlzIsKHDhxAjSpxIsaLFixgzatzIsaPHjxADAgA7\"><title>Layer: hidden1 (hidden)\n shape = (512,)\n dropout = 0.5\n Keras class = Dense\n activation = relu</title></image><text x=\"280.0\" y=\"207.0\" font-family=\"monospace\" font-size=\"12\">hidden1</text><rect x=\"165.0\" y=\"257\" width=\"20.0\" height=\"27\" style=\"fill:white;stroke:none\"><title>Weights from flatten to hidden1\n hidden1/kernel has shape (2304, 512)\n hidden1/bias has shape (512,)</title></rect><line x1=\"175.0\" y1=\"284\" x2=\"175.0\" y2=\"257\" stroke=\"blue\" stroke-width=\"2\" marker-end=\"url(#arrow)\"><title>Weights from flatten to hidden1\n hidden1/kernel has shape (2304, 512)\n hidden1/bias has shape (512,)</title></line><rect x=\"74.0\" y=\"284\" width=\"202\" height=\"27\" style=\"fill:none;stroke:blue;stroke-width:2\"/><image id=\"CIRAR10_flatten_3\" class=\"CIRAR10_flatten\" x=\"75.0\" y=\"285\" height=\"25\" width=\"200\" preserveAspectRatio=\"none\" href=\"data:image/gif;base64,R0lGODdhAAkBAIAAAH9/fwAAACwAAAAAAAkBAAAITwABCBxIsKDBgwgTKlzIsKHDhxAjSpxIsaLFixgzatzIsaPHjyBDihxJsqTJkyhTqlzJsqXLlzBjypxJs6bNmzhz6tzJs6fPn0CDCh2qMSAAOw==\"><title>Layer: flatten (hidden)\n Keras class = Flatten</title></image><text x=\"280.0\" y=\"299.5\" font-family=\"monospace\" font-size=\"12\">flatten</text><rect x=\"165.0\" y=\"312\" width=\"20.0\" height=\"27\" style=\"fill:white;stroke:none\"><title>Weights from pool2 to flatten</title></rect><line x1=\"175.0\" y1=\"339\" x2=\"175.0\" y2=\"312\" stroke=\"blue\" stroke-width=\"2\" marker-end=\"url(#arrow)\"><title>Weights from pool2 to flatten</title></line><rect x=\"74.0\" y=\"339\" width=\"202\" height=\"202\" style=\"fill:none;stroke:blue;stroke-width:2\"/><image id=\"CIRAR10_pool2_4\" class=\"CIRAR10_pool2\" x=\"75.0\" y=\"340\" height=\"200\" width=\"200\" preserveAspectRatio=\"none\" href=\"data:image/gif;base64,R0lGODdhBgAGAIAAAH9/fwAAACwAAAAABgAGAAAIDAABCBxIsKDBgwgDAgA7\"><title>Layer: pool2 (hidden)\n dropout = 0.25\n Keras class = MaxPooling2D\n pool_size = (2, 2)</title></image><text x=\"280.0\" y=\"442.0\" font-family=\"monospace\" font-size=\"12\">pool2</text><rect x=\"165.0\" y=\"542\" width=\"20.0\" height=\"27\" style=\"fill:white;stroke:none\"><title>Weights from conv4 to pool2</title></rect><line x1=\"175.0\" y1=\"569\" x2=\"175.0\" y2=\"542\" stroke=\"blue\" stroke-width=\"2\" marker-end=\"url(#arrow)\"><title>Weights from conv4 to pool2</title></line><rect x=\"74.0\" y=\"569\" width=\"202\" height=\"202\" style=\"fill:none;stroke:blue;stroke-width:2\"/><image id=\"CIRAR10_conv4_5\" class=\"CIRAR10_conv4\" x=\"75.0\" y=\"570\" height=\"200\" width=\"200\" preserveAspectRatio=\"none\" href=\"data:image/gif;base64,R0lGODdhDQANAIAAAH9/fwAAACwAAAAADQANAAAIFwABCBxIsKDBgwgTKlzIsKHDhxAjQgwIADs=\"><title>Layer: conv4 (hidden)\n Keras class = Conv2D\n activation = relu</title></image><text x=\"280.0\" y=\"672.0\" font-family=\"monospace\" font-size=\"12\">conv4</text><rect x=\"165.0\" y=\"772\" width=\"20.0\" height=\"27\" style=\"fill:white;stroke:none\"><title>Weights from conv3 to conv4\n conv4/kernel has shape (3, 3, 64, 64)\n conv4/bias has shape (64,)</title></rect><line x1=\"175.0\" y1=\"799\" x2=\"175.0\" y2=\"772\" stroke=\"blue\" stroke-width=\"2\" marker-end=\"url(#arrow)\"><title>Weights from conv3 to conv4\n conv4/kernel has shape (3, 3, 64, 64)\n conv4/bias has shape (64,)</title></line><rect x=\"74.0\" y=\"799\" width=\"202\" height=\"202\" style=\"fill:none;stroke:blue;stroke-width:2\"/><image id=\"CIRAR10_conv3_6\" class=\"CIRAR10_conv3\" x=\"75.0\" y=\"800\" height=\"200\" width=\"200\" preserveAspectRatio=\"none\" href=\"data:image/gif;base64,R0lGODdhDwAPAIAAAH9/fwAAACwAAAAADwAPAAAIGgABCBxIsKDBgwgTKlzIsKHDhxAjSpxI8WFAADs=\"><title>Layer: conv3 (hidden)\n Keras class = Conv2D\n padding = same\n activation = relu</title></image><text x=\"280.0\" y=\"902.0\" font-family=\"monospace\" font-size=\"12\">conv3</text><rect x=\"165.0\" y=\"1002\" width=\"20.0\" height=\"27\" style=\"fill:white;stroke:none\"><title>Weights from pool1 to conv3\n conv3/kernel has shape (3, 3, 32, 64)\n conv3/bias has shape (64,)</title></rect><line x1=\"175.0\" y1=\"1029\" x2=\"175.0\" y2=\"1002\" stroke=\"blue\" stroke-width=\"2\" marker-end=\"url(#arrow)\"><title>Weights from pool1 to conv3\n conv3/kernel has shape (3, 3, 32, 64)\n conv3/bias has shape (64,)</title></line><rect x=\"74.0\" y=\"1029\" width=\"202\" height=\"202\" style=\"fill:none;stroke:blue;stroke-width:2\"/><image id=\"CIRAR10_pool1_7\" class=\"CIRAR10_pool1\" x=\"75.0\" y=\"1030\" height=\"200\" width=\"200\" preserveAspectRatio=\"none\" href=\"data:image/gif;base64,R0lGODdhDwAPAIAAAH9/fwAAACwAAAAADwAPAAAIGgABCBxIsKDBgwgTKlzIsKHDhxAjSpxI8WFAADs=\"><title>Layer: pool1 (hidden)\n dropout = 0.25\n Keras class = MaxPooling2D\n pool_size = (2, 2)</title></image><text x=\"280.0\" y=\"1132.0\" font-family=\"monospace\" font-size=\"12\">pool1</text><rect x=\"165.0\" y=\"1232\" width=\"20.0\" height=\"27\" style=\"fill:white;stroke:none\"><title>Weights from conv2 to pool1</title></rect><line x1=\"175.0\" y1=\"1259\" x2=\"175.0\" y2=\"1232\" stroke=\"blue\" stroke-width=\"2\" marker-end=\"url(#arrow)\"><title>Weights from conv2 to pool1</title></line><rect x=\"74.0\" y=\"1259\" width=\"202\" height=\"202\" style=\"fill:none;stroke:blue;stroke-width:2\"/><image id=\"CIRAR10_conv2_8\" class=\"CIRAR10_conv2\" x=\"75.0\" y=\"1260\" height=\"200\" width=\"200\" preserveAspectRatio=\"none\" href=\"data:image/gif;base64,R0lGODdhHgAeAIAAAH9/fwAAACwAAAAAHgAeAEAIMgABCBxIsKDBgwgTKlzIsKHDhxAjSpxIsaLFixgzatzIsaPHjyBDihxJsqTJkyhTngwIADs=\"><title>Layer: conv2 (hidden)\n Keras class = Conv2D\n activation = relu</title></image><text x=\"280.0\" y=\"1362.0\" font-family=\"monospace\" font-size=\"12\">conv2</text><rect x=\"165.0\" y=\"1462\" width=\"20.0\" height=\"27\" style=\"fill:white;stroke:none\"><title>Weights from conv1 to conv2\n conv2/kernel has shape (3, 3, 32, 32)\n conv2/bias has shape (32,)</title></rect><line x1=\"175.0\" y1=\"1489\" x2=\"175.0\" y2=\"1462\" stroke=\"blue\" stroke-width=\"2\" marker-end=\"url(#arrow)\"><title>Weights from conv1 to conv2\n conv2/kernel has shape (3, 3, 32, 32)\n conv2/bias has shape (32,)</title></line><rect x=\"74.0\" y=\"1489\" width=\"202\" height=\"202\" style=\"fill:none;stroke:blue;stroke-width:2\"/><image id=\"CIRAR10_conv1_9\" class=\"CIRAR10_conv1\" x=\"75.0\" y=\"1490\" height=\"200\" width=\"200\" preserveAspectRatio=\"none\" href=\"data:image/gif;base64,R0lGODdhIAAgAIAAAH9/fwAAACwAAAAAIAAgAEAINQABCBxIsKDBgwgTKlzIsKHDhxAjSpxIsaLFixgzatzIsaPHjyBDihxJsqTJkyhTqlzJUmRAADs=\"><title>Layer: conv1 (hidden)\n Keras class = Conv2D\n padding = same\n activation = relu</title></image><text x=\"280.0\" y=\"1592.0\" font-family=\"monospace\" font-size=\"12\">conv1</text><rect x=\"165.0\" y=\"1692\" width=\"20.0\" height=\"27\" style=\"fill:white;stroke:none\"><title>Weights from input to conv1\n conv1/kernel has shape (3, 3, 3, 32)\n conv1/bias has shape (32,)</title></rect><line x1=\"175.0\" y1=\"1719\" x2=\"175.0\" y2=\"1692\" stroke=\"blue\" stroke-width=\"2\" marker-end=\"url(#arrow)\"><title>Weights from input to conv1\n conv1/kernel has shape (3, 3, 3, 32)\n conv1/bias has shape (32,)</title></line><rect x=\"74.0\" y=\"1719\" width=\"202\" height=\"202\" style=\"fill:none;stroke:blue;stroke-width:2\"/><image id=\"CIRAR10_input_10\" class=\"CIRAR10_input\" x=\"75.0\" y=\"1720\" height=\"200\" width=\"200\" preserveAspectRatio=\"none\" href=\"data:image/gif;base64,R0lGODdhIAAgAIAAAH9/fwAAACwAAAAAIAAgAEAINQABCBxIsKDBgwgTKlzIsKHDhxAjSpxIsaLFixgzatzIsaPHjyBDihxJsqTJkyhTqlzJUmRAADs=\"><title>Layer: input (input)\n shape = (32, 32, 3)\n Keras class = Input</title></image><text x=\"280.0\" y=\"1822.0\" font-family=\"monospace\" font-size=\"12\">input</text></svg>"
      }
     },
     "16e04606851542a0ae442c1fb4a8fda5": {
      "model_module": "jupyter-js-widgets",
      "model_module_version": "~2.1.4",
      "model_name": "LayoutModel",
      "state": {
       "_model_module_version": "~2.1.4",
       "_view_module_version": "~2.1.4",
       "height": "100%",
       "justify_content": "center",
       "max_height": "550px",
       "overflow_x": "auto",
       "width": "100%"
      }
     },
     "1a8ca715760c4bd284a2d477d1198848": {
      "model_module": "jupyter-js-widgets",
      "model_module_version": "~2.1.4",
      "model_name": "ButtonStyleModel",
      "state": {
       "_model_module_version": "~2.1.4",
       "_view_module_version": "~2.1.4"
      }
     },
     "1f4c262f8bb946d3a5940d4195739120": {
      "model_module": "jupyter-js-widgets",
      "model_module_version": "~2.1.4",
      "model_name": "LayoutModel",
      "state": {
       "_model_module_version": "~2.1.4",
       "_view_module_version": "~2.1.4",
       "width": "100%"
      }
     },
     "27b05b99d3f84e5ca9d87ee4700886c1": {
      "model_module": "jupyter-js-widgets",
      "model_module_version": "~2.1.4",
      "model_name": "LayoutModel",
      "state": {
       "_model_module_version": "~2.1.4",
       "_view_module_version": "~2.1.4",
       "width": "100%"
      }
     },
     "2d5a92d8b92a457dbd68388fb162e094": {
      "model_module": "jupyter-js-widgets",
      "model_module_version": "~2.1.4",
      "model_name": "LayoutModel",
      "state": {
       "_model_module_version": "~2.1.4",
       "_view_module_version": "~2.1.4"
      }
     },
     "302366cc19ba4c8b9e181799d048d5b5": {
      "model_module": "jupyter-js-widgets",
      "model_module_version": "~2.1.4",
      "model_name": "ButtonStyleModel",
      "state": {
       "_model_module_version": "~2.1.4",
       "_view_module_version": "~2.1.4"
      }
     },
     "374359f8056c4a7c8922d942be3b1ed1": {
      "model_module": "jupyter-js-widgets",
      "model_module_version": "~2.1.4",
      "model_name": "ButtonModel",
      "state": {
       "_model_module_version": "~2.1.4",
       "_view_module_version": "~2.1.4",
       "icon": "backward",
       "layout": "IPY_MODEL_582cf89a24674cc7a1fe183f2f5f7915",
       "style": "IPY_MODEL_7359633812e04ec78b5aceea810b3202"
      }
     },
     "3cc0b306573e446a87f098385775c18e": {
      "model_module": "jupyter-js-widgets",
      "model_module_version": "~2.1.4",
      "model_name": "HBoxModel",
      "state": {
       "_model_module_version": "~2.1.4",
       "_view_module_version": "~2.1.4",
       "children": [
        "IPY_MODEL_428c53f5295e48039e4bb0cc5b4280c0",
        "IPY_MODEL_58d2fb6a0b0b41a3b340ddaf951366a6",
        "IPY_MODEL_9d762575c79b4a259d315bcb8215e64d",
        "IPY_MODEL_4a3da712a7954993ace15b1d7d57bac0",
        "IPY_MODEL_5f7b8537392b421db23030277c433211"
       ],
       "layout": "IPY_MODEL_83eac34f73a64ae3b0e9ea3a915889ff"
      }
     },
     "420957a87a6b42a792f28164964b8ec0": {
      "model_module": "jupyter-js-widgets",
      "model_module_version": "~2.1.4",
      "model_name": "LayoutModel",
      "state": {
       "_model_module_version": "~2.1.4",
       "_view_module_version": "~2.1.4",
       "width": "100%"
      }
     },
     "428c53f5295e48039e4bb0cc5b4280c0": {
      "model_module": "jupyter-js-widgets",
      "model_module_version": "~2.1.4",
      "model_name": "ButtonModel",
      "state": {
       "_model_module_version": "~2.1.4",
       "_view_module_version": "~2.1.4",
       "icon": "fast-backward",
       "layout": "IPY_MODEL_420957a87a6b42a792f28164964b8ec0",
       "style": "IPY_MODEL_302366cc19ba4c8b9e181799d048d5b5"
      }
     },
     "4a3da712a7954993ace15b1d7d57bac0": {
      "model_module": "jupyter-js-widgets",
      "model_module_version": "~2.1.4",
      "model_name": "ButtonModel",
      "state": {
       "_model_module_version": "~2.1.4",
       "_view_module_version": "~2.1.4",
       "icon": "forward",
       "layout": "IPY_MODEL_75f1aa16873e4d0ab94439351b211a24",
       "style": "IPY_MODEL_686c0291f26f4bb9a3747ba3a3ee8b38"
      }
     },
     "4ce9d9ad71b54b08a33d7ee081c1042e": {
      "model_module": "jupyter-js-widgets",
      "model_module_version": "~2.1.4",
      "model_name": "ButtonModel",
      "state": {
       "_model_module_version": "~2.1.4",
       "_view_module_version": "~2.1.4",
       "icon": "forward",
       "layout": "IPY_MODEL_27b05b99d3f84e5ca9d87ee4700886c1",
       "style": "IPY_MODEL_d05e89e40ed3482ea2fea54eeaaf16b7"
      }
     },
     "4d553f01022349959a55706d915bb1e5": {
      "model_module": "jupyter-js-widgets",
      "model_module_version": "~2.1.4",
      "model_name": "SelectModel",
      "state": {
       "_model_module_version": "~2.1.4",
       "_options_labels": [
        "Test",
        "Train"
       ],
       "_view_module_version": "~2.1.4",
       "description": "Dataset:",
       "layout": "IPY_MODEL_753343f2ebc945edba0e544c91675152",
       "value": "Train"
      }
     },
     "56cf69eefc3a481299f938182573ac14": {
      "model_module": "jupyter-js-widgets",
      "model_module_version": "~2.1.4",
      "model_name": "SliderStyleModel",
      "state": {
       "_model_module_version": "~2.1.4",
       "_view_module_version": "~2.1.4"
      }
     },
     "582cf89a24674cc7a1fe183f2f5f7915": {
      "model_module": "jupyter-js-widgets",
      "model_module_version": "~2.1.4",
      "model_name": "LayoutModel",
      "state": {
       "_model_module_version": "~2.1.4",
       "_view_module_version": "~2.1.4",
       "width": "100%"
      }
     },
     "58d2fb6a0b0b41a3b340ddaf951366a6": {
      "model_module": "jupyter-js-widgets",
      "model_module_version": "~2.1.4",
      "model_name": "ButtonModel",
      "state": {
       "_model_module_version": "~2.1.4",
       "_view_module_version": "~2.1.4",
       "icon": "backward",
       "layout": "IPY_MODEL_1f4c262f8bb946d3a5940d4195739120",
       "style": "IPY_MODEL_e4a01afeb38847bb9cf00223f9d257c8"
      }
     },
     "5c88272bd9394259b5d1c7352fa9e3eb": {
      "model_module": "jupyter-js-widgets",
      "model_module_version": "~2.1.4",
      "model_name": "IntSliderModel",
      "state": {
       "_model_module_version": "~2.1.4",
       "_view_module_version": "~2.1.4",
       "continuous_update": false,
       "description": "Dataset index",
       "layout": "IPY_MODEL_6881a846a9964ee1ab973e325ace1aa8",
       "max": 0,
       "style": "IPY_MODEL_fb36021de079431da131b9632f5f4517"
      }
     },
     "5f7b8537392b421db23030277c433211": {
      "model_module": "jupyter-js-widgets",
      "model_module_version": "~2.1.4",
      "model_name": "ButtonModel",
      "state": {
       "_model_module_version": "~2.1.4",
       "_view_module_version": "~2.1.4",
       "icon": "fast-forward",
       "layout": "IPY_MODEL_f75166d3e3964b3993a6f566ddf97240",
       "style": "IPY_MODEL_719f71dcf6af4881948c9145dd367886"
      }
     },
     "64e03b85020c49b2bc5cf7b569bfa712": {
      "model_module": "jupyter-js-widgets",
      "model_module_version": "~2.1.4",
      "model_name": "LayoutModel",
      "state": {
       "_model_module_version": "~2.1.4",
       "_view_module_version": "~2.1.4",
       "width": "100%"
      }
     },
     "686c0291f26f4bb9a3747ba3a3ee8b38": {
      "model_module": "jupyter-js-widgets",
      "model_module_version": "~2.1.4",
      "model_name": "ButtonStyleModel",
      "state": {
       "_model_module_version": "~2.1.4",
       "_view_module_version": "~2.1.4"
      }
     },
     "6881a846a9964ee1ab973e325ace1aa8": {
      "model_module": "jupyter-js-widgets",
      "model_module_version": "~2.1.4",
      "model_name": "LayoutModel",
      "state": {
       "_model_module_version": "~2.1.4",
       "_view_module_version": "~2.1.4",
       "width": "100%"
      }
     },
     "6a70e04daf7741e5996cf8cfb48d76b6": {
      "model_module": "jupyter-js-widgets",
      "model_module_version": "~2.1.4",
      "model_name": "ButtonModel",
      "state": {
       "_model_module_version": "~2.1.4",
       "_view_module_version": "~2.1.4",
       "icon": "fast-forward",
       "layout": "IPY_MODEL_7d72bfadf68243d3a2e4c4c03fc9848c",
       "style": "IPY_MODEL_92e0e6cb2591402c80f456ad39556900"
      }
     },
     "6eb56dc360a54995a212bf9a66b8cb3b": {
      "model_module": "jupyter-js-widgets",
      "model_module_version": "~2.1.4",
      "model_name": "ButtonStyleModel",
      "state": {
       "_model_module_version": "~2.1.4",
       "_view_module_version": "~2.1.4"
      }
     },
     "719f71dcf6af4881948c9145dd367886": {
      "model_module": "jupyter-js-widgets",
      "model_module_version": "~2.1.4",
      "model_name": "ButtonStyleModel",
      "state": {
       "_model_module_version": "~2.1.4",
       "_view_module_version": "~2.1.4"
      }
     },
     "7359633812e04ec78b5aceea810b3202": {
      "model_module": "jupyter-js-widgets",
      "model_module_version": "~2.1.4",
      "model_name": "ButtonStyleModel",
      "state": {
       "_model_module_version": "~2.1.4",
       "_view_module_version": "~2.1.4"
      }
     },
     "753343f2ebc945edba0e544c91675152": {
      "model_module": "jupyter-js-widgets",
      "model_module_version": "~2.1.4",
      "model_name": "LayoutModel",
      "state": {
       "_model_module_version": "~2.1.4",
       "_view_module_version": "~2.1.4"
      }
     },
     "75f1aa16873e4d0ab94439351b211a24": {
      "model_module": "jupyter-js-widgets",
      "model_module_version": "~2.1.4",
      "model_name": "LayoutModel",
      "state": {
       "_model_module_version": "~2.1.4",
       "_view_module_version": "~2.1.4",
       "width": "100%"
      }
     },
     "79867bc2cb5a4d539ed0e37f6f3c6dda": {
      "model_module": "jupyter-js-widgets",
      "model_module_version": "~2.1.4",
      "model_name": "SelectModel",
      "state": {
       "_model_module_version": "~2.1.4",
       "_options_labels": [
        "Test",
        "Train"
       ],
       "_view_module_version": "~2.1.4",
       "description": "Dataset:",
       "layout": "IPY_MODEL_2d5a92d8b92a457dbd68388fb162e094",
       "value": "Train"
      }
     },
     "7bfe0f0619c44f60ab9c20331efddcf1": {
      "model_module": "jupyter-js-widgets",
      "model_module_version": "~2.1.4",
      "model_name": "LayoutModel",
      "state": {
       "_model_module_version": "~2.1.4",
       "_view_module_version": "~2.1.4",
       "width": "100%"
      }
     },
     "7d72bfadf68243d3a2e4c4c03fc9848c": {
      "model_module": "jupyter-js-widgets",
      "model_module_version": "~2.1.4",
      "model_name": "LayoutModel",
      "state": {
       "_model_module_version": "~2.1.4",
       "_view_module_version": "~2.1.4",
       "width": "100%"
      }
     },
     "81ba67ed25c5401b9b9659c614879a8b": {
      "model_module": "jupyter-js-widgets",
      "model_module_version": "~2.1.4",
      "model_name": "LayoutModel",
      "state": {
       "_model_module_version": "~2.1.4",
       "_view_module_version": "~2.1.4",
       "width": "100%"
      }
     },
     "83eac34f73a64ae3b0e9ea3a915889ff": {
      "model_module": "jupyter-js-widgets",
      "model_module_version": "~2.1.4",
      "model_name": "LayoutModel",
      "state": {
       "_model_module_version": "~2.1.4",
       "_view_module_version": "~2.1.4",
       "width": "100%"
      }
     },
     "8403cfa1fdd64e95a331f9b6f947bc1c": {
      "model_module": "jupyter-js-widgets",
      "model_module_version": "~2.1.4",
      "model_name": "LayoutModel",
      "state": {
       "_model_module_version": "~2.1.4",
       "_view_module_version": "~2.1.4",
       "width": "100%"
      }
     },
     "91cc138f19c7468eb3bbdfc6d8fa702a": {
      "model_module": "jupyter-js-widgets",
      "model_module_version": "~2.1.4",
      "model_name": "ButtonStyleModel",
      "state": {
       "_model_module_version": "~2.1.4",
       "_view_module_version": "~2.1.4"
      }
     },
     "92e0e6cb2591402c80f456ad39556900": {
      "model_module": "jupyter-js-widgets",
      "model_module_version": "~2.1.4",
      "model_name": "ButtonStyleModel",
      "state": {
       "_model_module_version": "~2.1.4",
       "_view_module_version": "~2.1.4"
      }
     },
     "9310df3b6386407cb8a87a2ec7027828": {
      "model_module": "jupyter-js-widgets",
      "model_module_version": "~2.1.4",
      "model_name": "VBoxModel",
      "state": {
       "_model_module_version": "~2.1.4",
       "_view_module_version": "~2.1.4",
       "children": [
        "IPY_MODEL_79867bc2cb5a4d539ed0e37f6f3c6dda",
        "IPY_MODEL_5c88272bd9394259b5d1c7352fa9e3eb",
        "IPY_MODEL_3cc0b306573e446a87f098385775c18e"
       ],
       "layout": "IPY_MODEL_7bfe0f0619c44f60ab9c20331efddcf1"
      }
     },
     "9635ea352e4d4da8a1b59c58ecea5abd": {
      "model_module": "jupyter-js-widgets",
      "model_module_version": "~2.1.4",
      "model_name": "LayoutModel",
      "state": {
       "_model_module_version": "~2.1.4",
       "_view_module_version": "~2.1.4",
       "width": "100%"
      }
     },
     "9d762575c79b4a259d315bcb8215e64d": {
      "model_module": "jupyter-js-widgets",
      "model_module_version": "~2.1.4",
      "model_name": "ButtonModel",
      "state": {
       "_model_module_version": "~2.1.4",
       "_view_module_version": "~2.1.4",
       "description": "Train",
       "layout": "IPY_MODEL_9635ea352e4d4da8a1b59c58ecea5abd",
       "style": "IPY_MODEL_91cc138f19c7468eb3bbdfc6d8fa702a"
      }
     },
     "9e36c3bb77854edebd277d6f64e5876c": {
      "model_module": "jupyter-js-widgets",
      "model_module_version": "~2.1.4",
      "model_name": "LayoutModel",
      "state": {
       "_model_module_version": "~2.1.4",
       "_view_module_version": "~2.1.4",
       "height": "100%",
       "justify_content": "center",
       "max_height": "550px",
       "overflow_x": "auto",
       "width": "100%"
      }
     },
     "a726daab0292464590150f99ff69f84b": {
      "model_module": "jupyter-js-widgets",
      "model_module_version": "~2.1.4",
      "model_name": "LayoutModel",
      "state": {
       "_model_module_version": "~2.1.4",
       "_view_module_version": "~2.1.4",
       "width": "100%"
      }
     },
     "a80fe9d186c44aafa3269ddc39839e7f": {
      "model_module": "jupyter-js-widgets",
      "model_module_version": "~2.1.4",
      "model_name": "LayoutModel",
      "state": {
       "_model_module_version": "~2.1.4",
       "_view_module_version": "~2.1.4",
       "width": "100%"
      }
     },
     "aa00629b4442402783cfbf61390e7d52": {
      "model_module": "jupyter-js-widgets",
      "model_module_version": "~2.1.4",
      "model_name": "LayoutModel",
      "state": {
       "_model_module_version": "~2.1.4",
       "_view_module_version": "~2.1.4",
       "width": "100%"
      }
     },
     "aa6640c3f911421b9dba736e03cb97e8": {
      "model_module": "jupyter-js-widgets",
      "model_module_version": "~2.1.4",
      "model_name": "ButtonModel",
      "state": {
       "_model_module_version": "~2.1.4",
       "_view_module_version": "~2.1.4",
       "icon": "Train",
       "layout": "IPY_MODEL_ecd99ff4419c49f0b390f69a58bed0d2",
       "style": "IPY_MODEL_6eb56dc360a54995a212bf9a66b8cb3b"
      }
     },
     "cefb8ee4211d40a78617733a509cec4f": {
      "model_module": "jupyter-js-widgets",
      "model_module_version": "~2.1.4",
      "model_name": "VBoxModel",
      "state": {
       "_model_module_version": "~2.1.4",
       "_view_module_version": "~2.1.4",
       "children": [
        "IPY_MODEL_047e0776fd8449ecb48299bd3b3c19fd",
        "IPY_MODEL_9310df3b6386407cb8a87a2ec7027828"
       ],
       "layout": "IPY_MODEL_64e03b85020c49b2bc5cf7b569bfa712"
      }
     },
     "d05e89e40ed3482ea2fea54eeaaf16b7": {
      "model_module": "jupyter-js-widgets",
      "model_module_version": "~2.1.4",
      "model_name": "ButtonStyleModel",
      "state": {
       "_model_module_version": "~2.1.4",
       "_view_module_version": "~2.1.4"
      }
     },
     "e4a01afeb38847bb9cf00223f9d257c8": {
      "model_module": "jupyter-js-widgets",
      "model_module_version": "~2.1.4",
      "model_name": "ButtonStyleModel",
      "state": {
       "_model_module_version": "~2.1.4",
       "_view_module_version": "~2.1.4"
      }
     },
     "e9152a4920cf49c4b71767d1feebd68e": {
      "model_module": "jupyter-js-widgets",
      "model_module_version": "~2.1.4",
      "model_name": "IntSliderModel",
      "state": {
       "_model_module_version": "~2.1.4",
       "_view_module_version": "~2.1.4",
       "continuous_update": false,
       "description": "Dataset index",
       "layout": "IPY_MODEL_a726daab0292464590150f99ff69f84b",
       "max": 0,
       "style": "IPY_MODEL_56cf69eefc3a481299f938182573ac14"
      }
     },
     "ec315161b4dc4edb9b26a04bda2b5e97": {
      "model_module": "jupyter-js-widgets",
      "model_module_version": "~2.1.4",
      "model_name": "ButtonModel",
      "state": {
       "_model_module_version": "~2.1.4",
       "_view_module_version": "~2.1.4",
       "icon": "fast-backward",
       "layout": "IPY_MODEL_81ba67ed25c5401b9b9659c614879a8b",
       "style": "IPY_MODEL_1a8ca715760c4bd284a2d477d1198848"
      }
     },
     "ecd99ff4419c49f0b390f69a58bed0d2": {
      "model_module": "jupyter-js-widgets",
      "model_module_version": "~2.1.4",
      "model_name": "LayoutModel",
      "state": {
       "_model_module_version": "~2.1.4",
       "_view_module_version": "~2.1.4",
       "width": "100%"
      }
     },
     "f75166d3e3964b3993a6f566ddf97240": {
      "model_module": "jupyter-js-widgets",
      "model_module_version": "~2.1.4",
      "model_name": "LayoutModel",
      "state": {
       "_model_module_version": "~2.1.4",
       "_view_module_version": "~2.1.4",
       "width": "100%"
      }
     },
     "fb36021de079431da131b9632f5f4517": {
      "model_module": "jupyter-js-widgets",
      "model_module_version": "~2.1.4",
      "model_name": "SliderStyleModel",
      "state": {
       "_model_module_version": "~2.1.4",
       "_view_module_version": "~2.1.4"
      }
     }
    },
    "version_major": 1,
    "version_minor": 0
   }
  }
 },
 "nbformat": 4,
 "nbformat_minor": 2
}
