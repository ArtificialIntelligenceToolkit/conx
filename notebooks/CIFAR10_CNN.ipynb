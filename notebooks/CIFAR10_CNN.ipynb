{
 "cells": [
  {
   "cell_type": "markdown",
   "metadata": {},
   "source": [
    "# CIFAR10 CNN"
   ]
  },
  {
   "cell_type": "markdown",
   "metadata": {},
   "source": [
    "Train a simple deep CNN on the CIFAR10 small images dataset.\n",
    "\n",
    "Some constants we'll use:"
   ]
  },
  {
   "cell_type": "code",
   "execution_count": 1,
   "metadata": {},
   "outputs": [],
   "source": [
    "batch_size = 32\n",
    "num_classes = 10\n",
    "epochs = 200\n",
    "data_augmentation = True\n",
    "num_predictions = 20"
   ]
  },
  {
   "cell_type": "code",
   "execution_count": 2,
   "metadata": {},
   "outputs": [
    {
     "name": "stderr",
     "output_type": "stream",
     "text": [
      "Using Theano backend.\n"
     ]
    }
   ],
   "source": [
    "from conx import *"
   ]
  },
  {
   "cell_type": "code",
   "execution_count": 3,
   "metadata": {},
   "outputs": [],
   "source": [
    "net = Network(\"CIRAR10\")\n",
    "net.add(ImageLayer(\"input\", (32, 32), 3)) # depends on K.image_data_format(), right?\n",
    "net.add(Conv2DLayer(\"conv1\", 32, (3, 3), padding='same', activation='relu'))\n",
    "net.add(Conv2DLayer(\"conv2\", 32, (3, 3), activation='relu'))\n",
    "net.add(MaxPool2DLayer(\"pool1\", pool_size=(2, 2), dropout=0.25))\n",
    "net.add(Conv2DLayer(\"conv3\", 64, (3, 3), padding='same', activation='relu'))\n",
    "net.add(Conv2DLayer(\"conv4\", 64, (3, 3), activation='relu'))\n",
    "net.add(MaxPool2DLayer(\"pool2\", pool_size=(2, 2), dropout=0.25))\n",
    "net.add(FlattenLayer(\"flatten\"))\n",
    "net.add(Layer(\"hidden1\", 512, activation='relu', vshape=(16, 32), dropout=0.5))\n",
    "net.add(Layer(\"output\", num_classes, activation='softmax'))\n",
    "net.connect()\n",
    "\n",
    "# initiate RMSprop optimizer\n",
    "opt = RMSprop(lr=0.0001, decay=1e-6)\n",
    "\n",
    "net.compile(loss='categorical_crossentropy',\n",
    "            optimizer=opt)\n",
    "\n",
    "# Let's train the model using RMSprop\n",
    "net.compile(loss='categorical_crossentropy',\n",
    "              optimizer=opt,\n",
    "              metrics=['accuracy'])\n",
    "model = net.model"
   ]
  },
  {
   "cell_type": "code",
   "execution_count": 4,
   "metadata": {},
   "outputs": [],
   "source": [
    "net.dataset.get(\"cifar10\")"
   ]
  },
  {
   "cell_type": "code",
   "execution_count": 5,
   "metadata": {},
   "outputs": [
    {
     "name": "stdout",
     "output_type": "stream",
     "text": [
      "Input Summary:\n",
      "   count  : 60000 (60000 for training, 0 for testing)\n",
      "   shape  : (32, 32, 3)\n",
      "   range  : (0.0, 1.0)\n",
      "Target Summary:\n",
      "   count  : 60000 (60000 for training, 0 for testing)\n",
      "   shape  : (10,)\n",
      "   range  : (0.0, 1.0)\n"
     ]
    }
   ],
   "source": [
    "net.dataset.summary()"
   ]
  },
  {
   "cell_type": "code",
   "execution_count": 6,
   "metadata": {},
   "outputs": [
    {
     "name": "stdout",
     "output_type": "stream",
     "text": [
      "Input Summary:\n",
      "   count  : 60000 (50000 for training, 10000 for testing)\n",
      "   shape  : (32, 32, 3)\n",
      "   range  : (0.0, 1.0)\n",
      "Target Summary:\n",
      "   count  : 60000 (50000 for training, 10000 for testing)\n",
      "   shape  : (10,)\n",
      "   range  : (0.0, 1.0)\n"
     ]
    }
   ],
   "source": [
    "net.dataset.split(50000)\n",
    "net.dataset.summary()"
   ]
  },
  {
   "cell_type": "markdown",
   "metadata": {},
   "source": [
    "## Examine Input as Image"
   ]
  },
  {
   "cell_type": "code",
   "execution_count": 7,
   "metadata": {},
   "outputs": [
    {
     "data": {
      "text/plain": [
       "(32, 32, 3)"
      ]
     },
     "execution_count": 7,
     "metadata": {},
     "output_type": "execute_result"
    }
   ],
   "source": [
    "net.dataset.inputs.shape()"
   ]
  },
  {
   "cell_type": "code",
   "execution_count": 8,
   "metadata": {},
   "outputs": [
    {
     "data": {
      "text/plain": [
       "(10,)"
      ]
     },
     "execution_count": 8,
     "metadata": {},
     "output_type": "execute_result"
    }
   ],
   "source": [
    "net.dataset.targets.shape()"
   ]
  },
  {
   "cell_type": "code",
   "execution_count": 10,
   "metadata": {},
   "outputs": [
    {
     "data": {
      "image/png": "[encoded data removed]",
      "text/plain": [
       "<PIL.Image.Image image mode=RGB size=160x160 at 0x7F78347B5BA8>"
      ]
     },
     "execution_count": 10,
     "metadata": {},
     "output_type": "execute_result"
    }
   ],
   "source": [
    "image = array2image(net.dataset.inputs[0], scale=5.0)\n",
    "image"
   ]
  },
  {
   "cell_type": "code",
   "execution_count": 11,
   "metadata": {},
   "outputs": [
    {
     "data": {
      "application/javascript": [
       "\n",
       "require(['base/js/namespace'], function(Jupyter) {\n",
       "    Jupyter.notebook.kernel.comm_manager.register_target('conx_svg_control', function(comm, msg) {\n",
       "        comm.on_msg(function(msg) {\n",
       "            var data = msg[\"content\"][\"data\"];\n",
       "            var images = document.getElementsByClassName(data[\"class\"]);\n",
       "            for (var i = 0; i < images.length; i++) {\n",
       "                images[i].setAttributeNS(null, \"href\", data[\"href\"]);\n",
       "            }\n",
       "        });\n",
       "    });\n",
       "});\n"
      ],
      "text/plain": [
       "<IPython.core.display.Javascript object>"
      ]
     },
     "metadata": {},
     "output_type": "display_data"
    },
    {
     "data": {
      "application/vnd.jupyter.widget-view+json": {
       "model_id": "8d354da3e61e4a56a3216e84367b853d",
       "version_major": 2,
       "version_minor": 0
      },
      "text/html": [
       "<p>Failed to display Jupyter Widget of type <code>Tab</code>.</p>\n",
       "<p>\n",
       "  If you're reading this message in Jupyter Notebook or JupyterLab, it may mean\n",
       "  that the widgets JavaScript is still loading. If this message persists, it\n",
       "  likely means that the widgets JavaScript library is either not installed or\n",
       "  not enabled. See the <a href=\"https://ipywidgets.readthedocs.io/en/stable/user_install.html\">Jupyter\n",
       "  Widgets Documentation</a> for setup instructions.\n",
       "</p>\n",
       "<p>\n",
       "  If you're reading this message in another notebook frontend (for example, a static\n",
       "  rendering on GitHub or <a href=\"https://nbviewer.jupyter.org/\">NBViewer</a>),\n",
       "  it may mean that your frontend doesn't currently support widgets.\n",
       "</p>\n"
      ],
      "text/plain": [
       "Tab(children=(VBox(children=(HTML(value='<p style=\"text-align:center\"><svg id=\\'CIRAR10\\' xmlns=\\'http://www.w3.org/2000/svg\\' width=\"350\" height=\"1875\" image-rendering=\"pixelated\">\\n    <defs>\\n        <marker id=\"arrow\" markerWidth=\"10\" markerHeight=\"10\" refX=\"9\" refY=\"3\" orient=\"auto\" markerUnits=\"strokeWidth\">\\n          <path d=\"M0,0 L0,6 L9,3 z\" fill=\"black\" />\\n        </marker>\\n    </defs><text x=\"175.0\" y=\"12.5\" font-family=\"monospace\" font-size=\"15\" text-anchor=\"middle\" alignment-baseline=\"central\">CIRAR10</text><rect x=\"74.0\" y=\"29\" width=\"202\" height=\"27\" style=\"fill:none;stroke:black;stroke-width:2\"/><image id=\"CIRAR10_output_1\" class=\"CIRAR10_output\" x=\"75.0\" y=\"30\" height=\"25\" width=\"200\" preserveAspectRatio=\"none\" href=\"data:image/gif;base64,R0lGODdhCgABAIcAAK8XKgAAAAAAAAAAAAAAAAAAAAAAAAAAAAAAAAAAAAAAAAAAAAAAAAAAAAAAAAAAAAAAAAAAAAAAAAAAAAAAAAAAAAAAAAAAAAAAAAAAAAAAAAAAAAAAAAAAAAAAAAAAAAAAAAAAAAAAAAAAAAAAAAAAAAAAAAAAAAAAAAAAAAAAAAAAAAAAAAAAAAAAAAAAAAAAAAAAAAAAAAAAAAAAAAAAAAAAAAAAAAAAAAAAAAAAAAAAAAAAAAAAAAAAAAAAAAAAAAAAAAAAAAAAAAAAAAAAAAAAAAAAAAAAAAAAAAAAAAAAAAAAAAAAAAAAAAAAAAAAAAAAAAAAAAAAAAAAAAAAAAAAAAAAAAAAAAAAAAAAAAAAAAAAAAAAAAAAAAAAAAAAAAAAAAAAAAAAAAAAAAAAAAAAAAAAAAAAAAAAAAAAAAAAAAAAAAAAAAAAAAAAAAAAAAAAAAAAAAAAAAAAAAAAAAAAAAAAAAAAAAAAAAAAAAAAAAAAAAAAAAAAAAAAAAAAAAAAAAAAAAAAAAAAAAAAAAAAAAAAAAAAAAAAAAAAAAAAAAAAAAAAAAAAAAAAAAAAAAAAAAAAAAAAAAAAAAAAAAAAAAAAAAAAAAAAAAAAAAAAAAAAAAAAAAAAAAAAAAAAAAAAAAAAAAAAAAAAAAAAAAAAAAAAAAAAAAAAAAAAAAAAAAAAAAAAAAAAAAAAAAAAAAAAAAAAAAAAAAAAAAAAAAAAAAAAAAAAAAAAAAAAAAAAAAAAAAAAAAAAAAAAAAAAAAAAAAAAAAAAAAAAAAAAAAAAAAAAAAAAAAAAAAAAAAAAAAAAAAAAAAAAAAAAAAAAAAAAAAAAAAAAAAAAAAAAAAAAAAAAAAAAAAAAAAAAAAAAAAAAAAAAAAAAAAAAAAAAAAAAAAAAAAAAAAAAAAAAAAAAAAAAAAAAAAAAAAAAAAAAAAAAAAAAAAAAAAAAAAAAAAAAAAAAAAAAAAAAAAAAAAAAAAAAAAAAAAAAAAAAAAAAAAAAAAAAAAAAAAAAACwAAAAACgABAAAIBwABCBxIMCAAOw==\"><title>Layer: output (output)\\n shape = (10,)\\n Keras class = Dense\\n activation = softmax</title></image><text x=\"280.0\" y=\"44.5\" font-family=\"monospace\" font-size=\"12\" text-anchor=\"start\" alignment-baseline=\"central\">output</text><line x1=\"175.0\" y1=\"84\" x2=\"175.0\" y2=\"57\" stroke=\"red\" stroke-width=\"2\" marker-end=\"url(#arrow)\"><title>Weights from hidden1 to output\\n output/kernel has shape (512, 10)\\n output/bias has shape (10,)</title></line><rect x=\"74.0\" y=\"84\" width=\"202\" height=\"102\" style=\"fill:none;stroke:black;stroke-width:2\"/><image id=\"CIRAR10_hidden1_2\" class=\"CIRAR10_hidden1\" x=\"75.0\" y=\"85\" height=\"100\" width=\"200\" preserveAspectRatio=\"none\" href=\"data:image/gif;base64,R0lGODdhIAAQAIcAAGcAH64XKowLJPr5+PnHrrkmMXMDIMI5OvSqiO3o5dBVSNlpVPa1l8ZCPspJQvzZxpoQJ91xWu2Vdv3j1OB4X+F8YuWDaNjY2PKgfr4xNsXFxfvTvRoaGiYmJnd3d62trfi/owAAAAAAAAAAAAAAAAAAAAAAAAAAAAAAAAAAAAAAAAAAAAAAAAAAAAAAAAAAAAAAAAAAAAAAAAAAAAAAAAAAAAAAAAAAAAAAAAAAAAAAAAAAAAAAAAAAAAAAAAAAAAAAAAAAAAAAAAAAAAAAAAAAAAAAAAAAAAAAAAAAAAAAAAAAAAAAAAAAAAAAAAAAAAAAAAAAAAAAAAAAAAAAAAAAAAAAAAAAAAAAAAAAAAAAAAAAAAAAAAAAAAAAAAAAAAAAAAAAAAAAAAAAAAAAAAAAAAAAAAAAAAAAAAAAAAAAAAAAAAAAAAAAAAAAAAAAAAAAAAAAAAAAAAAAAAAAAAAAAAAAAAAAAAAAAAAAAAAAAAAAAAAAAAAAAAAAAAAAAAAAAAAAAAAAAAAAAAAAAAAAAAAAAAAAAAAAAAAAAAAAAAAAAAAAAAAAAAAAAAAAAAAAAAAAAAAAAAAAAAAAAAAAAAAAAAAAAAAAAAAAAAAAAAAAAAAAAAAAAAAAAAAAAAAAAAAAAAAAAAAAAAAAAAAAAAAAAAAAAAAAAAAAAAAAAAAAAAAAAAAAAAAAAAAAAAAAAAAAAAAAAAAAAAAAAAAAAAAAAAAAAAAAAAAAAAAAAAAAAAAAAAAAAAAAAAAAAAAAAAAAAAAAAAAAAAAAAAAAAAAAAAAAAAAAAAAAAAAAAAAAAAAAAAAAAAAAAAAAAAAAAAAAAAAAAAAAAAAAAAAAAAAAAAAAAAAAAAAAAAAAAAAAAAAAAAAAAAAAAAAAAAAAAAAAAAAAAAAAAAAAAAAAAAAAAAAAAAAAAAAAAAAAAAAAAAAAAAAAAAAAAAAAAAAAAAAAAAAAAAAAAAAAAAAAAAAAAAAAAAAAAAAAAAAAAAAAAAAAAAAAAAAAAAAAACwAAAAAIAAQAEAI/wABAOAAoEAAAAcCALAgAIDDAQAiAiAAQECACxMAEBAAoAGACwoAiBw5wQECBwEMAFiZAIBLAQEaAGAgAACABgByMhgAwIEFAAYAVBAAAIOHAAsADADAtCmABgCiAigAAMCABREGBAAwAIBXDQAABAAA4AGAs2gRAFhLAIDbt28TAAAQAYBdABsWJBgAIIABAIAdGAgAAEKFAQAOAFgMIEEAAAoQDDAAQAAAABMIAACAoAMFAAcGABjNAIBpAQwABGAgAIACAAAUAMhQoAGAAAByA0AAoHcADQ4MABg+vACA48iPJxig4EEGAQAAEECAAID1BQAAFABAAEACAOAHPP8wAKB8AwAHFgAYAEAAAAAQCDgAQJ8+ggkAHgAAcADDAYABAAAIAACAAAAAEgAAQMCCAQAMIAAoAMDigAMRABQAwADAx48QACyQEMDAAwAQABxQgOAAAAACAMwEQMEBBgAWAAAIkAABAgAACACIcADAUQAPCACgEAAAgAAFBAAAQCEAgAoAACgA0LVrBQAEDgAAgADAAwAGAABoAABAAQBxCzAoAMCuAgkLJgwA0NdvAgUAIgQAYECCAAAEAAAgAMBxAgCRCwCgDIIAAAkADAwAAKAAgAQARAsA8GEDAAACCggQAMC1awUQAAA4AMBAgAsAdOteEIAAAAEABgAgLiEBIAA7\"><title>Layer: hidden1 (hidden)\\n shape = (512,)\\n dropout = 0.5\\n Keras class = Dense\\n activation = relu</title></image><text x=\"280.0\" y=\"137.0\" font-family=\"monospace\" font-size=\"12\" text-anchor=\"start\" alignment-baseline=\"central\">hidden1</text><line x1=\"175.0\" y1=\"214\" x2=\"175.0\" y2=\"187\" stroke=\"black\" stroke-width=\"2\" marker-end=\"url(#arrow)\"><title>Weights from flatten to hidden1\\n hidden1/kernel has shape (2304, 512)\\n hidden1/bias has shape (512,)</title></line><rect x=\"74.0\" y=\"214\" width=\"202\" height=\"27\" style=\"fill:none;stroke:black;stroke-width:2\"/><image id=\"CIRAR10_flatten_3\" class=\"CIRAR10_flatten\" x=\"75.0\" y=\"215\" height=\"25\" width=\"200\" preserveAspectRatio=\"none\" href=\"data:image/gif;base64,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\"><title>Layer: flatten (hidden)\\n Keras class = Flatten</title></image><text x=\"280.0\" y=\"229.5\" font-family=\"monospace\" font-size=\"12\" text-anchor=\"start\" alignment-baseline=\"central\">flatten</text><line x1=\"175.0\" y1=\"269\" x2=\"175.0\" y2=\"242\" stroke=\"red\" stroke-width=\"2\" marker-end=\"url(#arrow)\"><title>Weights from pool2 to flatten</title></line><rect x=\"74.0\" y=\"269\" width=\"202\" height=\"202\" style=\"fill:none;stroke:black;stroke-width:2\"/><image id=\"CIRAR10_pool2_4\" class=\"CIRAR10_pool2\" x=\"75.0\" y=\"270\" height=\"200\" width=\"200\" preserveAspectRatio=\"none\" href=\"data:image/gif;base64,R0lGODdhBgAGAIcAAPz8/AAAAAAAAAAAAAAAAAAAAAAAAAAAAAAAAAAAAAAAAAAAAAAAAAAAAAAAAAAAAAAAAAAAAAAAAAAAAAAAAAAAAAAAAAAAAAAAAAAAAAAAAAAAAAAAAAAAAAAAAAAAAAAAAAAAAAAAAAAAAAAAAAAAAAAAAAAAAAAAAAAAAAAAAAAAAAAAAAAAAAAAAAAAAAAAAAAAAAAAAAAAAAAAAAAAAAAAAAAAAAAAAAAAAAAAAAAAAAAAAAAAAAAAAAAAAAAAAAAAAAAAAAAAAAAAAAAAAAAAAAAAAAAAAAAAAAAAAAAAAAAAAAAAAAAAAAAAAAAAAAAAAAAAAAAAAAAAAAAAAAAAAAAAAAAAAAAAAAAAAAAAAAAAAAAAAAAAAAAAAAAAAAAAAAAAAAAAAAAAAAAAAAAAAAAAAAAAAAAAAAAAAAAAAAAAAAAAAAAAAAAAAAAAAAAAAAAAAAAAAAAAAAAAAAAAAAAAAAAAAAAAAAAAAAAAAAAAAAAAAAAAAAAAAAAAAAAAAAAAAAAAAAAAAAAAAAAAAAAAAAAAAAAAAAAAAAAAAAAAAAAAAAAAAAAAAAAAAAAAAAAAAAAAAAAAAAAAAAAAAAAAAAAAAAAAAAAAAAAAAAAAAAAAAAAAAAAAAAAAAAAAAAAAAAAAAAAAAAAAAAAAAAAAAAAAAAAAAAAAAAAAAAAAAAAAAAAAAAAAAAAAAAAAAAAAAAAAAAAAAAAAAAAAAAAAAAAAAAAAAAAAAAAAAAAAAAAAAAAAAAAAAAAAAAAAAAAAAAAAAAAAAAAAAAAAAAAAAAAAAAAAAAAAAAAAAAAAAAAAAAAAAAAAAAAAAAAAAAAAAAAAAAAAAAAAAAAAAAAAAAAAAAAAAAAAAAAAAAAAAAAAAAAAAAAAAAAAAAAAAAAAAAAAAAAAAAAAAAAAAAAAAAAAAAAAAAAAAAAAAAAAAAAAAAAAAAAAAAAAAAAAAAAAAAAAAAAAAAAAAAAAAAAAAAAAAAAAAAAAAAAAAAAAAAAAAAAAAAAAACwAAAAABgAGAAAIDAABCBxIsKDBgwgDAgA7\"><title>Layer: pool2 (hidden)\\n dropout = 0.25\\n Keras class = MaxPooling2D\\n pool_size = (2, 2)</title></image><text x=\"280.0\" y=\"372.0\" font-family=\"monospace\" font-size=\"12\" text-anchor=\"start\" alignment-baseline=\"central\">pool2</text><text x=\"280.0\" y=\"275\" font-family=\"monospace\" font-size=\"12\" text-anchor=\"start\" alignment-baseline=\"central\">64</text><text x=\"63.0\" y=\"465\" font-family=\"monospace\" font-size=\"12\" text-anchor=\"start\" alignment-baseline=\"central\">0</text><line x1=\"175.0\" y1=\"499\" x2=\"175.0\" y2=\"472\" stroke=\"black\" stroke-width=\"2\" marker-end=\"url(#arrow)\"><title>Weights from conv4 to pool2</title></line><rect x=\"74.0\" y=\"499\" width=\"202\" height=\"202\" style=\"fill:none;stroke:black;stroke-width:2\"/><image id=\"CIRAR10_conv4_5\" class=\"CIRAR10_conv4\" x=\"75.0\" y=\"500\" height=\"200\" width=\"200\" preserveAspectRatio=\"none\" href=\"data:image/gif;base64,R0lGODdhDQANAIcAAGcAH6oWKY0MJNhlUXQDILoqMvnGrfv18dJaSsnJyfWwkWRkZL4wNsZBPvi9of3l1xoaGl5eXp4RJ5WVlcU+PM1PRN7e3uF7YeSAZe6YePWsi/zYxAAAAAAAAAAAAAAAAAAAAAAAAAAAAAAAAAAAAAAAAAAAAAAAAAAAAAAAAAAAAAAAAAAAAAAAAAAAAAAAAAAAAAAAAAAAAAAAAAAAAAAAAAAAAAAAAAAAAAAAAAAAAAAAAAAAAAAAAAAAAAAAAAAAAAAAAAAAAAAAAAAAAAAAAAAAAAAAAAAAAAAAAAAAAAAAAAAAAAAAAAAAAAAAAAAAAAAAAAAAAAAAAAAAAAAAAAAAAAAAAAAAAAAAAAAAAAAAAAAAAAAAAAAAAAAAAAAAAAAAAAAAAAAAAAAAAAAAAAAAAAAAAAAAAAAAAAAAAAAAAAAAAAAAAAAAAAAAAAAAAAAAAAAAAAAAAAAAAAAAAAAAAAAAAAAAAAAAAAAAAAAAAAAAAAAAAAAAAAAAAAAAAAAAAAAAAAAAAAAAAAAAAAAAAAAAAAAAAAAAAAAAAAAAAAAAAAAAAAAAAAAAAAAAAAAAAAAAAAAAAAAAAAAAAAAAAAAAAAAAAAAAAAAAAAAAAAAAAAAAAAAAAAAAAAAAAAAAAAAAAAAAAAAAAAAAAAAAAAAAAAAAAAAAAAAAAAAAAAAAAAAAAAAAAAAAAAAAAAAAAAAAAAAAAAAAAAAAAAAAAAAAAAAAAAAAAAAAAAAAAAAAAAAAAAAAAAAAAAAAAAAAAAAAAAAAAAAAAAAAAAAAAAAAAAAAAAAAAAAAAAAAAAAAAAAAAAAAAAAAAAAAAAAAAAAAAAAAAAAAAAAAAAAAAAAAAAAAAAAAAAAAAAAAAAAAAAAAAAAAAAAAAAAAAAAAAAAAAAAAAAAAAAAAAAAAAAAAAAAAAAAAAAAAAAAAAAAAAAAAAAAAAAAAAAAAAAAAAAAAAAAAAAAAAAAAAAAAAAAAAAAAAAAAAAAAAAAAAAAAAAAAAAAAAAAAACwAAAAADQANAAAImQABAKBQIECACwMcGEAgYACAhwQASJQooAEAAQAyatwoIIAAACBDigQZYACAAAMAqFypskAAABIAyAwAAACDAgBy6syJQEGABQsSZAAAIACAowQUWJgAIYECAAIKNDgAQEMAAAwORDgAAECBDQcIABgLYEACAwDSViDwYACAtwUcDABAl8AAAw8wCADAFwGAv38FEABAmLCBgAA7\"><title>Layer: conv4 (hidden)\\n Keras class = Conv2D\\n activation = relu</title></image><text x=\"280.0\" y=\"602.0\" font-family=\"monospace\" font-size=\"12\" text-anchor=\"start\" alignment-baseline=\"central\">conv4</text><text x=\"280.0\" y=\"505\" font-family=\"monospace\" font-size=\"12\" text-anchor=\"start\" alignment-baseline=\"central\">64</text><text x=\"63.0\" y=\"695\" font-family=\"monospace\" font-size=\"12\" text-anchor=\"start\" alignment-baseline=\"central\">0</text><line x1=\"175.0\" y1=\"729\" x2=\"175.0\" y2=\"702\" stroke=\"black\" stroke-width=\"2\" marker-end=\"url(#arrow)\"><title>Weights from conv3 to conv4\\n conv4/kernel has shape (3, 3, 64, 64)\\n conv4/bias has shape (64,)</title></line><rect x=\"74.0\" y=\"729\" width=\"202\" height=\"202\" style=\"fill:none;stroke:black;stroke-width:2\"/><image id=\"CIRAR10_conv3_6\" class=\"CIRAR10_conv3\" x=\"75.0\" y=\"730\" height=\"200\" width=\"200\" preserveAspectRatio=\"none\" href=\"data:image/gif;base64,R0lGODdhDwAPAIcAAPr49ueHa/nIr/a2mPSqidbW1u/q6P3m2dlnU+6aefzaxmcAH95zW7gmMcE3OeF8YvvSvHgFIYeHh6wXKre3t8xNQ9BUR/Kgfvi9oXl5eYsLJJ4RJ+B4XxoaGl5eXmdnZ5+fn6Ojo8dDP8zMzAAAAAAAAAAAAAAAAAAAAAAAAAAAAAAAAAAAAAAAAAAAAAAAAAAAAAAAAAAAAAAAAAAAAAAAAAAAAAAAAAAAAAAAAAAAAAAAAAAAAAAAAAAAAAAAAAAAAAAAAAAAAAAAAAAAAAAAAAAAAAAAAAAAAAAAAAAAAAAAAAAAAAAAAAAAAAAAAAAAAAAAAAAAAAAAAAAAAAAAAAAAAAAAAAAAAAAAAAAAAAAAAAAAAAAAAAAAAAAAAAAAAAAAAAAAAAAAAAAAAAAAAAAAAAAAAAAAAAAAAAAAAAAAAAAAAAAAAAAAAAAAAAAAAAAAAAAAAAAAAAAAAAAAAAAAAAAAAAAAAAAAAAAAAAAAAAAAAAAAAAAAAAAAAAAAAAAAAAAAAAAAAAAAAAAAAAAAAAAAAAAAAAAAAAAAAAAAAAAAAAAAAAAAAAAAAAAAAAAAAAAAAAAAAAAAAAAAAAAAAAAAAAAAAAAAAAAAAAAAAAAAAAAAAAAAAAAAAAAAAAAAAAAAAAAAAAAAAAAAAAAAAAAAAAAAAAAAAAAAAAAAAAAAAAAAAAAAAAAAAAAAAAAAAAAAAAAAAAAAAAAAAAAAAAAAAAAAAAAAAAAAAAAAAAAAAAAAAAAAAAAAAAAAAAAAAAAAAAAAAAAAAAAAAAAAAAAAAAAAAAAAAAAAAAAAAAAAAAAAAAAAAAAAAAAAAAAAAAAAAAAAAAAAAAAAAAAAAAAAAAAAAAAAAAAAAAAAAAAAAAAAAAAAAAAAAAAAAAAAAAAAAAAAAAAAAAAAAAAAAAAAAAAAAAAAAAAAAAAAAAAAAAAAAAAAAAAAAAAAAAAAAAAAAAAAAAAAAAAAAAAAAAAAAAAAAAAAAAAAAAAAAAAAAAAAAAAAAAAAACwAAAAADwAPAAAI/AAXLIiwocGEBiIcKGwwocGDBQwCMGBQIQGBABYCDBgg4MICBgEYEBggQACBAA0QYDjgYMGABAwICLDggIAAAQgQBKiwQAABAQAgECCA4YGAAAEeIFgAQQEAAgoAHChQwMCAAwMYRFBwgACDAQoKgAiRoUABAw8iHDCQAEABAwUoeCgAAMAIARoABBDwwQCFDAUAFJAgwUCCDQoQGOhggAIAABggFJAAAEGDAQIAUIAgAcCBAwAAKADgQEOAAQAADAAAwMAAAAYEAKgw4QKHBwAgGEigYAABAQAADJhwQIGCAQQOXHggIEECANAXcECQIAGCABYQBNgeIMKBgAA7\"><title>Layer: conv3 (hidden)\\n Keras class = Conv2D\\n activation = relu\\n padding = same</title></image><text x=\"280.0\" y=\"832.0\" font-family=\"monospace\" font-size=\"12\" text-anchor=\"start\" alignment-baseline=\"central\">conv3</text><text x=\"280.0\" y=\"735\" font-family=\"monospace\" font-size=\"12\" text-anchor=\"start\" alignment-baseline=\"central\">64</text><text x=\"63.0\" y=\"925\" font-family=\"monospace\" font-size=\"12\" text-anchor=\"start\" alignment-baseline=\"central\">0</text><line x1=\"175.0\" y1=\"959\" x2=\"175.0\" y2=\"932\" stroke=\"red\" stroke-width=\"2\" marker-end=\"url(#arrow)\"><title>Weights from pool1 to conv3\\n conv3/kernel has shape (3, 3, 32, 64)\\n conv3/bias has shape (64,)</title></line><rect x=\"74.0\" y=\"959\" width=\"202\" height=\"202\" style=\"fill:none;stroke:black;stroke-width:2\"/><image id=\"CIRAR10_pool1_7\" class=\"CIRAR10_pool1\" x=\"75.0\" y=\"960\" height=\"200\" width=\"200\" preserveAspectRatio=\"none\" href=\"data:image/gif;base64,R0lGODdhDwAPAIcAAPv7++/v7wAAAAAAAAAAAAAAAAAAAAAAAAAAAAAAAAAAAAAAAAAAAAAAAAAAAAAAAAAAAAAAAAAAAAAAAAAAAAAAAAAAAAAAAAAAAAAAAAAAAAAAAAAAAAAAAAAAAAAAAAAAAAAAAAAAAAAAAAAAAAAAAAAAAAAAAAAAAAAAAAAAAAAAAAAAAAAAAAAAAAAAAAAAAAAAAAAAAAAAAAAAAAAAAAAAAAAAAAAAAAAAAAAAAAAAAAAAAAAAAAAAAAAAAAAAAAAAAAAAAAAAAAAAAAAAAAAAAAAAAAAAAAAAAAAAAAAAAAAAAAAAAAAAAAAAAAAAAAAAAAAAAAAAAAAAAAAAAAAAAAAAAAAAAAAAAAAAAAAAAAAAAAAAAAAAAAAAAAAAAAAAAAAAAAAAAAAAAAAAAAAAAAAAAAAAAAAAAAAAAAAAAAAAAAAAAAAAAAAAAAAAAAAAAAAAAAAAAAAAAAAAAAAAAAAAAAAAAAAAAAAAAAAAAAAAAAAAAAAAAAAAAAAAAAAAAAAAAAAAAAAAAAAAAAAAAAAAAAAAAAAAAAAAAAAAAAAAAAAAAAAAAAAAAAAAAAAAAAAAAAAAAAAAAAAAAAAAAAAAAAAAAAAAAAAAAAAAAAAAAAAAAAAAAAAAAAAAAAAAAAAAAAAAAAAAAAAAAAAAAAAAAAAAAAAAAAAAAAAAAAAAAAAAAAAAAAAAAAAAAAAAAAAAAAAAAAAAAAAAAAAAAAAAAAAAAAAAAAAAAAAAAAAAAAAAAAAAAAAAAAAAAAAAAAAAAAAAAAAAAAAAAAAAAAAAAAAAAAAAAAAAAAAAAAAAAAAAAAAAAAAAAAAAAAAAAAAAAAAAAAAAAAAAAAAAAAAAAAAAAAAAAAAAAAAAAAAAAAAAAAAAAAAAAAAAAAAAAAAAAAAAAAAAAAAAAAAAAAAAAAAAAAAAAAAAAAAAAAAAAAAAAAAAAAAAAAAAAAAAAAAAAAAAAAAAAAAAAAAAAAAAAAAAAAAAAAAAAAAAAAAAAAAAAAAAAAAAACwAAAAADwAPAAAIJAABCBxIsKDBgwgTKlzIsKHDhxAXBgBAsaLFixgzatzIsWPHgAA7\"><title>Layer: pool1 (hidden)\\n dropout = 0.25\\n Keras class = MaxPooling2D\\n pool_size = (2, 2)</title></image><text x=\"280.0\" y=\"1062.0\" font-family=\"monospace\" font-size=\"12\" text-anchor=\"start\" alignment-baseline=\"central\">pool1</text><text x=\"280.0\" y=\"965\" font-family=\"monospace\" font-size=\"12\" text-anchor=\"start\" alignment-baseline=\"central\">32</text><text x=\"63.0\" y=\"1155\" font-family=\"monospace\" font-size=\"12\" text-anchor=\"start\" alignment-baseline=\"central\">0</text><line x1=\"175.0\" y1=\"1189\" x2=\"175.0\" y2=\"1162\" stroke=\"black\" stroke-width=\"2\" marker-end=\"url(#arrow)\"><title>Weights from conv2 to pool1</title></line><rect x=\"74.0\" y=\"1189\" width=\"202\" height=\"202\" style=\"fill:none;stroke:black;stroke-width:2\"/><image id=\"CIRAR10_conv2_8\" class=\"CIRAR10_conv2\" x=\"75.0\" y=\"1190\" height=\"200\" width=\"200\" preserveAspectRatio=\"none\" href=\"data:image/gif;base64,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\"><title>Layer: conv2 (hidden)\\n Keras class = Conv2D\\n activation = relu</title></image><text x=\"280.0\" y=\"1292.0\" font-family=\"monospace\" font-size=\"12\" text-anchor=\"start\" alignment-baseline=\"central\">conv2</text><text x=\"280.0\" y=\"1195\" font-family=\"monospace\" font-size=\"12\" text-anchor=\"start\" alignment-baseline=\"central\">32</text><text x=\"63.0\" y=\"1385\" font-family=\"monospace\" font-size=\"12\" text-anchor=\"start\" alignment-baseline=\"central\">0</text><line x1=\"175.0\" y1=\"1419\" x2=\"175.0\" y2=\"1392\" stroke=\"black\" stroke-width=\"2\" marker-end=\"url(#arrow)\"><title>Weights from conv1 to conv2\\n conv2/kernel has shape (3, 3, 32, 32)\\n conv2/bias has shape (32,)</title></line><rect x=\"74.0\" y=\"1419\" width=\"202\" height=\"202\" style=\"fill:none;stroke:black;stroke-width:2\"/><image id=\"CIRAR10_conv1_9\" class=\"CIRAR10_conv1\" x=\"75.0\" y=\"1420\" height=\"200\" width=\"200\" preserveAspectRatio=\"none\" href=\"data:image/gif;base64,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\"><title>Layer: conv1 (hidden)\\n Keras class = Conv2D\\n activation = relu\\n padding = same</title></image><text x=\"280.0\" y=\"1522.0\" font-family=\"monospace\" font-size=\"12\" text-anchor=\"start\" alignment-baseline=\"central\">conv1</text><text x=\"280.0\" y=\"1425\" font-family=\"monospace\" font-size=\"12\" text-anchor=\"start\" alignment-baseline=\"central\">32</text><text x=\"63.0\" y=\"1615\" font-family=\"monospace\" font-size=\"12\" text-anchor=\"start\" alignment-baseline=\"central\">0</text><line x1=\"175.0\" y1=\"1649\" x2=\"175.0\" y2=\"1622\" stroke=\"black\" stroke-width=\"2\" marker-end=\"url(#arrow)\"><title>Weights from input to conv1\\n conv1/kernel has shape (3, 3, 3, 32)\\n conv1/bias has shape (32,)</title></line><rect x=\"74.0\" y=\"1649\" width=\"202\" height=\"202\" style=\"fill:none;stroke:black;stroke-width:2\"/><image id=\"CIRAR10_input_10\" class=\"CIRAR10_input\" x=\"75.0\" y=\"1650\" height=\"200\" width=\"200\" preserveAspectRatio=\"none\" href=\"data:image/gif;base64,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\"><title>Layer: input (input)\\n shape = (32, 32, 3)\\n Keras class = Input</title></image><text x=\"280.0\" y=\"1752.0\" font-family=\"monospace\" font-size=\"12\" text-anchor=\"start\" alignment-baseline=\"central\">input</text></svg></p>', layout=Layout(height='550px', justify_content='center', overflow_x='auto', width='95%')), VBox(children=(HBox(children=(Select(description='Dataset:', index=1, options=('Test', 'Train'), rows=1, value='Train'), Button(icon='refresh', style=ButtonStyle()))), IntSlider(value=0, continuous_update=False, description='Dataset index', layout=Layout(width='95%'), max=49999), HBox(children=(Button(icon='fast-backward', layout=Layout(width='100%'), style=ButtonStyle()), Button(icon='backward', layout=Layout(width='100%'), style=ButtonStyle()), Button(description='Train', layout=Layout(width='100%'), style=ButtonStyle()), Button(icon='forward', layout=Layout(width='100%'), style=ButtonStyle()), Button(icon='fast-forward', layout=Layout(width='100%'), style=ButtonStyle())), layout=Layout(height='50px', width='95%'))), layout=Layout(width='95%'))), layout=Layout(height='550px', width='95%')), HTML(value='<iframe src=\"https://conx.readthedocs.io\" width=\"100%\" height=\"550px\"></frame>', layout=Layout(height='550px', width='95%'))), _titles={'0': 'Network', '1': 'Help'})"
      ]
     },
     "metadata": {},
     "output_type": "display_data"
    }
   ],
   "source": [
    "net.dashboard()"
   ]
  },
  {
   "cell_type": "code",
   "execution_count": 13,
   "metadata": {},
   "outputs": [
    {
     "data": {
      "text/plain": [
       "[0.09968513250350952,\n",
       " 0.09330952912569046,\n",
       " 0.1134798601269722,\n",
       " 0.09803447872400284,\n",
       " 0.09942159056663513,\n",
       " 0.10195761919021606,\n",
       " 0.09006422013044357,\n",
       " 0.10568586736917496,\n",
       " 0.10131464153528214,\n",
       " 0.09704706817865372]"
      ]
     },
     "execution_count": 13,
     "metadata": {},
     "output_type": "execute_result"
    }
   ],
   "source": [
    "net.propagate(net.dataset.inputs[1])"
   ]
  },
  {
   "cell_type": "markdown",
   "metadata": {},
   "source": [
    "## Let Keras Take over from here"
   ]
  },
  {
   "cell_type": "code",
   "execution_count": 11,
   "metadata": {
    "collapsed": true
   },
   "outputs": [],
   "source": [
    "import keras\n",
    "from keras.datasets import cifar10\n",
    "from keras.preprocessing.image import ImageDataGenerator"
   ]
  },
  {
   "cell_type": "code",
   "execution_count": 12,
   "metadata": {
    "collapsed": true
   },
   "outputs": [],
   "source": [
    "import numpy as np"
   ]
  },
  {
   "cell_type": "code",
   "execution_count": 13,
   "metadata": {
    "collapsed": true
   },
   "outputs": [],
   "source": [
    "model = net.model\n",
    "x_train = net.dataset._train_inputs\n",
    "y_train = net.dataset._train_targets\n",
    "x_test = net.dataset._test_inputs\n",
    "y_test = net.dataset._test_targets"
   ]
  },
  {
   "cell_type": "code",
   "execution_count": 14,
   "metadata": {},
   "outputs": [
    {
     "name": "stdout",
     "output_type": "stream",
     "text": [
      "Using real-time data augmentation.\n",
      "Epoch 1/200\n",
      "  25/1562 [..............................] - ETA: 372s - loss: 2.2995 - acc: 0.1275"
     ]
    },
    {
     "ename": "KeyboardInterrupt",
     "evalue": "",
     "output_type": "error",
     "traceback": [
      "\u001b[0;31m---------------------------------------------------------------------------\u001b[0m",
      "\u001b[0;31mKeyboardInterrupt\u001b[0m                         Traceback (most recent call last)",
      "\u001b[0;32m<ipython-input-14-d7688794956b>\u001b[0m in \u001b[0;36m<module>\u001b[0;34m()\u001b[0m\n\u001b[1;32m     30\u001b[0m                         \u001b[0msteps_per_epoch\u001b[0m\u001b[0;34m=\u001b[0m\u001b[0mx_train\u001b[0m\u001b[0;34m.\u001b[0m\u001b[0mshape\u001b[0m\u001b[0;34m[\u001b[0m\u001b[0;36m0\u001b[0m\u001b[0;34m]\u001b[0m \u001b[0;34m//\u001b[0m \u001b[0mbatch_size\u001b[0m\u001b[0;34m,\u001b[0m\u001b[0;34m\u001b[0m\u001b[0m\n\u001b[1;32m     31\u001b[0m                         \u001b[0mepochs\u001b[0m\u001b[0;34m=\u001b[0m\u001b[0mepochs\u001b[0m\u001b[0;34m,\u001b[0m\u001b[0;34m\u001b[0m\u001b[0m\n\u001b[0;32m---> 32\u001b[0;31m                         validation_data=(x_test, y_test))\n\u001b[0m",
      "\u001b[0;32m/usr/local/lib/python3.5/dist-packages/keras/legacy/interfaces.py\u001b[0m in \u001b[0;36mwrapper\u001b[0;34m(*args, **kwargs)\u001b[0m\n\u001b[1;32m     85\u001b[0m                 warnings.warn('Update your `' + object_name +\n\u001b[1;32m     86\u001b[0m                               '` call to the Keras 2 API: ' + signature, stacklevel=2)\n\u001b[0;32m---> 87\u001b[0;31m             \u001b[0;32mreturn\u001b[0m \u001b[0mfunc\u001b[0m\u001b[0;34m(\u001b[0m\u001b[0;34m*\u001b[0m\u001b[0margs\u001b[0m\u001b[0;34m,\u001b[0m \u001b[0;34m**\u001b[0m\u001b[0mkwargs\u001b[0m\u001b[0;34m)\u001b[0m\u001b[0;34m\u001b[0m\u001b[0m\n\u001b[0m\u001b[1;32m     88\u001b[0m         \u001b[0mwrapper\u001b[0m\u001b[0;34m.\u001b[0m\u001b[0m_original_function\u001b[0m \u001b[0;34m=\u001b[0m \u001b[0mfunc\u001b[0m\u001b[0;34m\u001b[0m\u001b[0m\n\u001b[1;32m     89\u001b[0m         \u001b[0;32mreturn\u001b[0m \u001b[0mwrapper\u001b[0m\u001b[0;34m\u001b[0m\u001b[0m\n",
      "\u001b[0;32m/usr/local/lib/python3.5/dist-packages/keras/engine/training.py\u001b[0m in \u001b[0;36mfit_generator\u001b[0;34m(self, generator, steps_per_epoch, epochs, verbose, callbacks, validation_data, validation_steps, class_weight, max_queue_size, workers, use_multiprocessing, initial_epoch)\u001b[0m\n\u001b[1;32m   1838\u001b[0m                     outs = self.train_on_batch(x, y,\n\u001b[1;32m   1839\u001b[0m                                                \u001b[0msample_weight\u001b[0m\u001b[0;34m=\u001b[0m\u001b[0msample_weight\u001b[0m\u001b[0;34m,\u001b[0m\u001b[0;34m\u001b[0m\u001b[0m\n\u001b[0;32m-> 1840\u001b[0;31m                                                class_weight=class_weight)\n\u001b[0m\u001b[1;32m   1841\u001b[0m \u001b[0;34m\u001b[0m\u001b[0m\n\u001b[1;32m   1842\u001b[0m                     \u001b[0;32mif\u001b[0m \u001b[0;32mnot\u001b[0m \u001b[0misinstance\u001b[0m\u001b[0;34m(\u001b[0m\u001b[0mouts\u001b[0m\u001b[0;34m,\u001b[0m \u001b[0mlist\u001b[0m\u001b[0;34m)\u001b[0m\u001b[0;34m:\u001b[0m\u001b[0;34m\u001b[0m\u001b[0m\n",
      "\u001b[0;32m/usr/local/lib/python3.5/dist-packages/keras/engine/training.py\u001b[0m in \u001b[0;36mtrain_on_batch\u001b[0;34m(self, x, y, sample_weight, class_weight)\u001b[0m\n\u001b[1;32m   1563\u001b[0m             \u001b[0mins\u001b[0m \u001b[0;34m=\u001b[0m \u001b[0mx\u001b[0m \u001b[0;34m+\u001b[0m \u001b[0my\u001b[0m \u001b[0;34m+\u001b[0m \u001b[0msample_weights\u001b[0m\u001b[0;34m\u001b[0m\u001b[0m\n\u001b[1;32m   1564\u001b[0m         \u001b[0mself\u001b[0m\u001b[0;34m.\u001b[0m\u001b[0m_make_train_function\u001b[0m\u001b[0;34m(\u001b[0m\u001b[0;34m)\u001b[0m\u001b[0;34m\u001b[0m\u001b[0m\n\u001b[0;32m-> 1565\u001b[0;31m         \u001b[0moutputs\u001b[0m \u001b[0;34m=\u001b[0m \u001b[0mself\u001b[0m\u001b[0;34m.\u001b[0m\u001b[0mtrain_function\u001b[0m\u001b[0;34m(\u001b[0m\u001b[0mins\u001b[0m\u001b[0;34m)\u001b[0m\u001b[0;34m\u001b[0m\u001b[0m\n\u001b[0m\u001b[1;32m   1566\u001b[0m         \u001b[0;32mif\u001b[0m \u001b[0mlen\u001b[0m\u001b[0;34m(\u001b[0m\u001b[0moutputs\u001b[0m\u001b[0;34m)\u001b[0m \u001b[0;34m==\u001b[0m \u001b[0;36m1\u001b[0m\u001b[0;34m:\u001b[0m\u001b[0;34m\u001b[0m\u001b[0m\n\u001b[1;32m   1567\u001b[0m             \u001b[0;32mreturn\u001b[0m \u001b[0moutputs\u001b[0m\u001b[0;34m[\u001b[0m\u001b[0;36m0\u001b[0m\u001b[0;34m]\u001b[0m\u001b[0;34m\u001b[0m\u001b[0m\n",
      "\u001b[0;32m/usr/local/lib/python3.5/dist-packages/keras/backend/theano_backend.py\u001b[0m in \u001b[0;36m__call__\u001b[0;34m(self, inputs)\u001b[0m\n\u001b[1;32m   1195\u001b[0m     \u001b[0;32mdef\u001b[0m \u001b[0m__call__\u001b[0m\u001b[0;34m(\u001b[0m\u001b[0mself\u001b[0m\u001b[0;34m,\u001b[0m \u001b[0minputs\u001b[0m\u001b[0;34m)\u001b[0m\u001b[0;34m:\u001b[0m\u001b[0;34m\u001b[0m\u001b[0m\n\u001b[1;32m   1196\u001b[0m         \u001b[0;32massert\u001b[0m \u001b[0misinstance\u001b[0m\u001b[0;34m(\u001b[0m\u001b[0minputs\u001b[0m\u001b[0;34m,\u001b[0m \u001b[0;34m(\u001b[0m\u001b[0mlist\u001b[0m\u001b[0;34m,\u001b[0m \u001b[0mtuple\u001b[0m\u001b[0;34m)\u001b[0m\u001b[0;34m)\u001b[0m\u001b[0;34m\u001b[0m\u001b[0m\n\u001b[0;32m-> 1197\u001b[0;31m         \u001b[0;32mreturn\u001b[0m \u001b[0mself\u001b[0m\u001b[0;34m.\u001b[0m\u001b[0mfunction\u001b[0m\u001b[0;34m(\u001b[0m\u001b[0;34m*\u001b[0m\u001b[0minputs\u001b[0m\u001b[0;34m)\u001b[0m\u001b[0;34m\u001b[0m\u001b[0m\n\u001b[0m\u001b[1;32m   1198\u001b[0m \u001b[0;34m\u001b[0m\u001b[0m\n\u001b[1;32m   1199\u001b[0m \u001b[0;34m\u001b[0m\u001b[0m\n",
      "\u001b[0;32m/usr/local/lib/python3.5/dist-packages/theano/compile/function_module.py\u001b[0m in \u001b[0;36m__call__\u001b[0;34m(self, *args, **kwargs)\u001b[0m\n\u001b[1;32m    882\u001b[0m         \u001b[0;32mtry\u001b[0m\u001b[0;34m:\u001b[0m\u001b[0;34m\u001b[0m\u001b[0m\n\u001b[1;32m    883\u001b[0m             \u001b[0moutputs\u001b[0m \u001b[0;34m=\u001b[0m\u001b[0;31m\\\u001b[0m\u001b[0;34m\u001b[0m\u001b[0m\n\u001b[0;32m--> 884\u001b[0;31m                 \u001b[0mself\u001b[0m\u001b[0;34m.\u001b[0m\u001b[0mfn\u001b[0m\u001b[0;34m(\u001b[0m\u001b[0;34m)\u001b[0m \u001b[0;32mif\u001b[0m \u001b[0moutput_subset\u001b[0m \u001b[0;32mis\u001b[0m \u001b[0;32mNone\u001b[0m \u001b[0;32melse\u001b[0m\u001b[0;31m\\\u001b[0m\u001b[0;34m\u001b[0m\u001b[0m\n\u001b[0m\u001b[1;32m    885\u001b[0m                 \u001b[0mself\u001b[0m\u001b[0;34m.\u001b[0m\u001b[0mfn\u001b[0m\u001b[0;34m(\u001b[0m\u001b[0moutput_subset\u001b[0m\u001b[0;34m=\u001b[0m\u001b[0moutput_subset\u001b[0m\u001b[0;34m)\u001b[0m\u001b[0;34m\u001b[0m\u001b[0m\n\u001b[1;32m    886\u001b[0m         \u001b[0;32mexcept\u001b[0m \u001b[0mException\u001b[0m\u001b[0;34m:\u001b[0m\u001b[0;34m\u001b[0m\u001b[0m\n",
      "\u001b[0;31mKeyboardInterrupt\u001b[0m: "
     ]
    }
   ],
   "source": [
    "if not data_augmentation:\n",
    "    print('Not using data augmentation.')\n",
    "    model.fit(x_train, y_train,\n",
    "              batch_size=batch_size,\n",
    "              epochs=epochs,\n",
    "              validation_data=(x_test, y_test),\n",
    "              shuffle=True)\n",
    "else:\n",
    "    print('Using real-time data augmentation.')\n",
    "    # This will do preprocessing and realtime data augmentation:\n",
    "    datagen = ImageDataGenerator(\n",
    "        featurewise_center=False,  # set input mean to 0 over the dataset\n",
    "        samplewise_center=False,  # set each sample mean to 0\n",
    "        featurewise_std_normalization=False,  # divide inputs by std of the dataset\n",
    "        samplewise_std_normalization=False,  # divide each input by its std\n",
    "        zca_whitening=False,  # apply ZCA whitening\n",
    "        rotation_range=0,  # randomly rotate images in the range (degrees, 0 to 180)\n",
    "        width_shift_range=0.1,  # randomly shift images horizontally (fraction of total width)\n",
    "        height_shift_range=0.1,  # randomly shift images vertically (fraction of total height)\n",
    "        horizontal_flip=True,  # randomly flip images\n",
    "        vertical_flip=False)  # randomly flip images\n",
    "\n",
    "    # Compute quantities required for feature-wise normalization\n",
    "    # (std, mean, and principal components if ZCA whitening is applied).\n",
    "    datagen.fit(x_train)\n",
    "\n",
    "    # Fit the model on the batches generated by datagen.flow().\n",
    "    model.fit_generator(datagen.flow(x_train, y_train,\n",
    "                                     batch_size=batch_size),\n",
    "                        steps_per_epoch=x_train.shape[0] // batch_size,\n",
    "                        epochs=epochs,\n",
    "                        validation_data=(x_test, y_test))"
   ]
  },
  {
   "cell_type": "code",
   "execution_count": 15,
   "metadata": {},
   "outputs": [
    {
     "name": "stdout",
     "output_type": "stream",
     "text": [
      "Model Accuracy = 0.15\n"
     ]
    },
    {
     "ename": "KeyboardInterrupt",
     "evalue": "",
     "output_type": "error",
     "traceback": [
      "\u001b[0;31m---------------------------------------------------------------------------\u001b[0m",
      "\u001b[0;31mKeyboardInterrupt\u001b[0m                         Traceback (most recent call last)",
      "\u001b[0;32m<ipython-input-15-a0bcb653fda5>\u001b[0m in \u001b[0;36m<module>\u001b[0;34m()\u001b[0m\n\u001b[1;32m      8\u001b[0m predict_gen = model.predict_generator(datagen.flow(x_test, y_test,\n\u001b[1;32m      9\u001b[0m                                       batch_size=batch_size),\n\u001b[0;32m---> 10\u001b[0;31m                                       steps=x_test.shape[0] // batch_size)\n\u001b[0m\u001b[1;32m     11\u001b[0m \u001b[0;34m\u001b[0m\u001b[0m\n\u001b[1;32m     12\u001b[0m \u001b[0;32mfor\u001b[0m \u001b[0mpredict_index\u001b[0m\u001b[0;34m,\u001b[0m \u001b[0mpredicted_y\u001b[0m \u001b[0;32min\u001b[0m \u001b[0menumerate\u001b[0m\u001b[0;34m(\u001b[0m\u001b[0mpredict_gen\u001b[0m\u001b[0;34m)\u001b[0m\u001b[0;34m:\u001b[0m\u001b[0;34m\u001b[0m\u001b[0m\n",
      "\u001b[0;32m/usr/local/lib/python3.5/dist-packages/keras/legacy/interfaces.py\u001b[0m in \u001b[0;36mwrapper\u001b[0;34m(*args, **kwargs)\u001b[0m\n\u001b[1;32m     85\u001b[0m                 warnings.warn('Update your `' + object_name +\n\u001b[1;32m     86\u001b[0m                               '` call to the Keras 2 API: ' + signature, stacklevel=2)\n\u001b[0;32m---> 87\u001b[0;31m             \u001b[0;32mreturn\u001b[0m \u001b[0mfunc\u001b[0m\u001b[0;34m(\u001b[0m\u001b[0;34m*\u001b[0m\u001b[0margs\u001b[0m\u001b[0;34m,\u001b[0m \u001b[0;34m**\u001b[0m\u001b[0mkwargs\u001b[0m\u001b[0;34m)\u001b[0m\u001b[0;34m\u001b[0m\u001b[0m\n\u001b[0m\u001b[1;32m     88\u001b[0m         \u001b[0mwrapper\u001b[0m\u001b[0;34m.\u001b[0m\u001b[0m_original_function\u001b[0m \u001b[0;34m=\u001b[0m \u001b[0mfunc\u001b[0m\u001b[0;34m\u001b[0m\u001b[0m\n\u001b[1;32m     89\u001b[0m         \u001b[0;32mreturn\u001b[0m \u001b[0mwrapper\u001b[0m\u001b[0;34m\u001b[0m\u001b[0m\n",
      "\u001b[0;32m/usr/local/lib/python3.5/dist-packages/keras/engine/training.py\u001b[0m in \u001b[0;36mpredict_generator\u001b[0;34m(self, generator, steps, max_queue_size, workers, use_multiprocessing, verbose)\u001b[0m\n\u001b[1;32m   2083\u001b[0m                     \u001b[0mx\u001b[0m \u001b[0;34m=\u001b[0m \u001b[0mgenerator_output\u001b[0m\u001b[0;34m\u001b[0m\u001b[0m\n\u001b[1;32m   2084\u001b[0m \u001b[0;34m\u001b[0m\u001b[0m\n\u001b[0;32m-> 2085\u001b[0;31m                 \u001b[0mouts\u001b[0m \u001b[0;34m=\u001b[0m \u001b[0mself\u001b[0m\u001b[0;34m.\u001b[0m\u001b[0mpredict_on_batch\u001b[0m\u001b[0;34m(\u001b[0m\u001b[0mx\u001b[0m\u001b[0;34m)\u001b[0m\u001b[0;34m\u001b[0m\u001b[0m\n\u001b[0m\u001b[1;32m   2086\u001b[0m                 \u001b[0;32mif\u001b[0m \u001b[0;32mnot\u001b[0m \u001b[0misinstance\u001b[0m\u001b[0;34m(\u001b[0m\u001b[0mouts\u001b[0m\u001b[0;34m,\u001b[0m \u001b[0mlist\u001b[0m\u001b[0;34m)\u001b[0m\u001b[0;34m:\u001b[0m\u001b[0;34m\u001b[0m\u001b[0m\n\u001b[1;32m   2087\u001b[0m                     \u001b[0mouts\u001b[0m \u001b[0;34m=\u001b[0m \u001b[0;34m[\u001b[0m\u001b[0mouts\u001b[0m\u001b[0;34m]\u001b[0m\u001b[0;34m\u001b[0m\u001b[0m\n",
      "\u001b[0;32m/usr/local/lib/python3.5/dist-packages/keras/engine/training.py\u001b[0m in \u001b[0;36mpredict_on_batch\u001b[0;34m(self, x)\u001b[0m\n\u001b[1;32m   1626\u001b[0m             \u001b[0mins\u001b[0m \u001b[0;34m=\u001b[0m \u001b[0mx\u001b[0m\u001b[0;34m\u001b[0m\u001b[0m\n\u001b[1;32m   1627\u001b[0m         \u001b[0mself\u001b[0m\u001b[0;34m.\u001b[0m\u001b[0m_make_predict_function\u001b[0m\u001b[0;34m(\u001b[0m\u001b[0;34m)\u001b[0m\u001b[0;34m\u001b[0m\u001b[0m\n\u001b[0;32m-> 1628\u001b[0;31m         \u001b[0moutputs\u001b[0m \u001b[0;34m=\u001b[0m \u001b[0mself\u001b[0m\u001b[0;34m.\u001b[0m\u001b[0mpredict_function\u001b[0m\u001b[0;34m(\u001b[0m\u001b[0mins\u001b[0m\u001b[0;34m)\u001b[0m\u001b[0;34m\u001b[0m\u001b[0m\n\u001b[0m\u001b[1;32m   1629\u001b[0m         \u001b[0;32mif\u001b[0m \u001b[0mlen\u001b[0m\u001b[0;34m(\u001b[0m\u001b[0moutputs\u001b[0m\u001b[0;34m)\u001b[0m \u001b[0;34m==\u001b[0m \u001b[0;36m1\u001b[0m\u001b[0;34m:\u001b[0m\u001b[0;34m\u001b[0m\u001b[0m\n\u001b[1;32m   1630\u001b[0m             \u001b[0;32mreturn\u001b[0m \u001b[0moutputs\u001b[0m\u001b[0;34m[\u001b[0m\u001b[0;36m0\u001b[0m\u001b[0;34m]\u001b[0m\u001b[0;34m\u001b[0m\u001b[0m\n",
      "\u001b[0;32m/usr/local/lib/python3.5/dist-packages/keras/backend/theano_backend.py\u001b[0m in \u001b[0;36m__call__\u001b[0;34m(self, inputs)\u001b[0m\n\u001b[1;32m   1195\u001b[0m     \u001b[0;32mdef\u001b[0m \u001b[0m__call__\u001b[0m\u001b[0;34m(\u001b[0m\u001b[0mself\u001b[0m\u001b[0;34m,\u001b[0m \u001b[0minputs\u001b[0m\u001b[0;34m)\u001b[0m\u001b[0;34m:\u001b[0m\u001b[0;34m\u001b[0m\u001b[0m\n\u001b[1;32m   1196\u001b[0m         \u001b[0;32massert\u001b[0m \u001b[0misinstance\u001b[0m\u001b[0;34m(\u001b[0m\u001b[0minputs\u001b[0m\u001b[0;34m,\u001b[0m \u001b[0;34m(\u001b[0m\u001b[0mlist\u001b[0m\u001b[0;34m,\u001b[0m \u001b[0mtuple\u001b[0m\u001b[0;34m)\u001b[0m\u001b[0;34m)\u001b[0m\u001b[0;34m\u001b[0m\u001b[0m\n\u001b[0;32m-> 1197\u001b[0;31m         \u001b[0;32mreturn\u001b[0m \u001b[0mself\u001b[0m\u001b[0;34m.\u001b[0m\u001b[0mfunction\u001b[0m\u001b[0;34m(\u001b[0m\u001b[0;34m*\u001b[0m\u001b[0minputs\u001b[0m\u001b[0;34m)\u001b[0m\u001b[0;34m\u001b[0m\u001b[0m\n\u001b[0m\u001b[1;32m   1198\u001b[0m \u001b[0;34m\u001b[0m\u001b[0m\n\u001b[1;32m   1199\u001b[0m \u001b[0;34m\u001b[0m\u001b[0m\n",
      "\u001b[0;32m/usr/local/lib/python3.5/dist-packages/theano/compile/function_module.py\u001b[0m in \u001b[0;36m__call__\u001b[0;34m(self, *args, **kwargs)\u001b[0m\n\u001b[1;32m    882\u001b[0m         \u001b[0;32mtry\u001b[0m\u001b[0;34m:\u001b[0m\u001b[0;34m\u001b[0m\u001b[0m\n\u001b[1;32m    883\u001b[0m             \u001b[0moutputs\u001b[0m \u001b[0;34m=\u001b[0m\u001b[0;31m\\\u001b[0m\u001b[0;34m\u001b[0m\u001b[0m\n\u001b[0;32m--> 884\u001b[0;31m                 \u001b[0mself\u001b[0m\u001b[0;34m.\u001b[0m\u001b[0mfn\u001b[0m\u001b[0;34m(\u001b[0m\u001b[0;34m)\u001b[0m \u001b[0;32mif\u001b[0m \u001b[0moutput_subset\u001b[0m \u001b[0;32mis\u001b[0m \u001b[0;32mNone\u001b[0m \u001b[0;32melse\u001b[0m\u001b[0;31m\\\u001b[0m\u001b[0;34m\u001b[0m\u001b[0m\n\u001b[0m\u001b[1;32m    885\u001b[0m                 \u001b[0mself\u001b[0m\u001b[0;34m.\u001b[0m\u001b[0mfn\u001b[0m\u001b[0;34m(\u001b[0m\u001b[0moutput_subset\u001b[0m\u001b[0;34m=\u001b[0m\u001b[0moutput_subset\u001b[0m\u001b[0;34m)\u001b[0m\u001b[0;34m\u001b[0m\u001b[0m\n\u001b[1;32m    886\u001b[0m         \u001b[0;32mexcept\u001b[0m \u001b[0mException\u001b[0m\u001b[0;34m:\u001b[0m\u001b[0;34m\u001b[0m\u001b[0m\n",
      "\u001b[0;32m/usr/local/lib/python3.5/dist-packages/theano/ifelse.py\u001b[0m in \u001b[0;36mthunk\u001b[0;34m()\u001b[0m\n\u001b[1;32m    244\u001b[0m         \u001b[0moutputs\u001b[0m \u001b[0;34m=\u001b[0m \u001b[0mnode\u001b[0m\u001b[0;34m.\u001b[0m\u001b[0moutputs\u001b[0m\u001b[0;34m\u001b[0m\u001b[0m\n\u001b[1;32m    245\u001b[0m \u001b[0;34m\u001b[0m\u001b[0m\n\u001b[0;32m--> 246\u001b[0;31m         \u001b[0;32mdef\u001b[0m \u001b[0mthunk\u001b[0m\u001b[0;34m(\u001b[0m\u001b[0;34m)\u001b[0m\u001b[0;34m:\u001b[0m\u001b[0;34m\u001b[0m\u001b[0m\n\u001b[0m\u001b[1;32m    247\u001b[0m             \u001b[0;32mif\u001b[0m \u001b[0;32mnot\u001b[0m \u001b[0mcompute_map\u001b[0m\u001b[0;34m[\u001b[0m\u001b[0mcond\u001b[0m\u001b[0;34m]\u001b[0m\u001b[0;34m[\u001b[0m\u001b[0;36m0\u001b[0m\u001b[0;34m]\u001b[0m\u001b[0;34m:\u001b[0m\u001b[0;34m\u001b[0m\u001b[0m\n\u001b[1;32m    248\u001b[0m                 \u001b[0;32mreturn\u001b[0m \u001b[0;34m[\u001b[0m\u001b[0;36m0\u001b[0m\u001b[0;34m]\u001b[0m\u001b[0;34m\u001b[0m\u001b[0m\n",
      "\u001b[0;31mKeyboardInterrupt\u001b[0m: "
     ]
    }
   ],
   "source": [
    "# Evaluate model with test data set and share sample prediction results\n",
    "evaluation = model.evaluate_generator(datagen.flow(x_test, y_test,\n",
    "                                      batch_size=batch_size),\n",
    "                                      steps=x_test.shape[0] // batch_size)\n",
    "\n",
    "print('Model Accuracy = %.2f' % (evaluation[1]))\n",
    "\n",
    "predict_gen = model.predict_generator(datagen.flow(x_test, y_test,\n",
    "                                      batch_size=batch_size),\n",
    "                                      steps=x_test.shape[0] // batch_size)\n",
    "\n",
    "for predict_index, predicted_y in enumerate(predict_gen):\n",
    "    actual_label = labels['label_names'][np.argmax(y_test[predict_index])]\n",
    "    predicted_label = labels['label_names'][np.argmax(predicted_y)]\n",
    "    print('Actual Label = %s vs. Predicted Label = %s' % (actual_label,\n",
    "                                                          predicted_label))\n",
    "    if predict_index == num_predictions:\n",
    "        break"
   ]
  },
  {
   "cell_type": "code",
   "execution_count": null,
   "metadata": {
    "collapsed": true
   },
   "outputs": [],
   "source": []
  }
 ],
 "metadata": {
  "kernelspec": {
   "display_name": "Python 3",
   "language": "python",
   "name": "python3"
  },
  "language_info": {
   "codemirror_mode": {
    "name": "ipython",
    "version": 3
   },
   "file_extension": ".py",
   "mimetype": "text/x-python",
   "name": "python",
   "nbconvert_exporter": "python",
   "pygments_lexer": "ipython3",
   "version": "3.5.3"
  },
  "widgets": {
   "application/vnd.jupyter.widget-state+json": {
    "state": {
     "05bc850e11b84fd28a347fe9800f781f": {
      "model_module": "jupyter-js-widgets",
      "model_module_version": "~2.1.4",
      "model_name": "IntSliderModel",
      "state": {
       "_model_module_version": "~2.1.4",
       "_view_module_version": "~2.1.4",
       "continuous_update": false,
       "description": "Dataset index",
       "layout": "IPY_MODEL_5fbbf6617fdf4c7ea034beca10d5e220",
       "max": 49999,
       "style": "IPY_MODEL_142ee889bb7943de92219277c8cf7cef"
      }
     },
     "142ee889bb7943de92219277c8cf7cef": {
      "model_module": "jupyter-js-widgets",
      "model_module_version": "~2.1.4",
      "model_name": "SliderStyleModel",
      "state": {
       "_model_module_version": "~2.1.4",
       "_view_module_version": "~2.1.4"
      }
     },
     "1c3acb266de34d8ca51a1e1b49184286": {
      "model_module": "jupyter-js-widgets",
      "model_module_version": "~2.1.4",
      "model_name": "ButtonStyleModel",
      "state": {
       "_model_module_version": "~2.1.4",
       "_view_module_version": "~2.1.4"
      }
     },
     "2a85e6d754af4187a8596355ef21d802": {
      "model_module": "jupyter-js-widgets",
      "model_module_version": "~2.1.4",
      "model_name": "LayoutModel",
      "state": {
       "_model_module_version": "~2.1.4",
       "_view_module_version": "~2.1.4",
       "width": "100%"
      }
     },
     "2c7356dd6fbb4baea9275f3c4ec112c5": {
      "model_module": "jupyter-js-widgets",
      "model_module_version": "~2.1.4",
      "model_name": "LayoutModel",
      "state": {
       "_model_module_version": "~2.1.4",
       "_view_module_version": "~2.1.4"
      }
     },
     "2f700e7285dc4039a2ebba46f0d2f743": {
      "model_module": "jupyter-js-widgets",
      "model_module_version": "~2.1.4",
      "model_name": "VBoxModel",
      "state": {
       "_model_module_version": "~2.1.4",
       "_view_module_version": "~2.1.4",
       "children": [
        "IPY_MODEL_ca4f25edb9a9462b9e7442c5f1a7cb74",
        "IPY_MODEL_05bc850e11b84fd28a347fe9800f781f",
        "IPY_MODEL_7bd271fd66184c229f0a90c100ba0dc2"
       ],
       "layout": "IPY_MODEL_f85c429804554c80b8f460a83fde1b05"
      }
     },
     "3c3d76ede24640da83c6aec236dfd43c": {
      "model_module": "jupyter-js-widgets",
      "model_module_version": "~2.1.4",
      "model_name": "LayoutModel",
      "state": {
       "_model_module_version": "~2.1.4",
       "_view_module_version": "~2.1.4",
       "width": "100%"
      }
     },
     "3d953836c9eb47748e94ab5ef2c24bd0": {
      "model_module": "jupyter-js-widgets",
      "model_module_version": "~2.1.4",
      "model_name": "ButtonModel",
      "state": {
       "_model_module_version": "~2.1.4",
       "_view_module_version": "~2.1.4",
       "icon": "fast-backward",
       "layout": "IPY_MODEL_9e8adab589d14c7e8631fc71c0aece47",
       "style": "IPY_MODEL_1c3acb266de34d8ca51a1e1b49184286"
      }
     },
     "40dc54bb65834226b1dc220667ccfa84": {
      "model_module": "jupyter-js-widgets",
      "model_module_version": "~2.1.4",
      "model_name": "ButtonModel",
      "state": {
       "_model_module_version": "~2.1.4",
       "_view_module_version": "~2.1.4",
       "icon": "fast-forward",
       "layout": "IPY_MODEL_8fd38f9e2cdb4f7893347ecd70e46346",
       "style": "IPY_MODEL_e4366a5a72ff4073bcb9a86e2fb5fd89"
      }
     },
     "47a982977b424698bb7dabd066e2af9d": {
      "model_module": "jupyter-js-widgets",
      "model_module_version": "~2.1.4",
      "model_name": "ButtonStyleModel",
      "state": {
       "_model_module_version": "~2.1.4",
       "_view_module_version": "~2.1.4"
      }
     },
     "494d23583dc149be879356fd96f2b353": {
      "model_module": "jupyter-js-widgets",
      "model_module_version": "~2.1.4",
      "model_name": "ButtonModel",
      "state": {
       "_model_module_version": "~2.1.4",
       "_view_module_version": "~2.1.4",
       "description": "Train",
       "layout": "IPY_MODEL_2a85e6d754af4187a8596355ef21d802",
       "style": "IPY_MODEL_e9fd7954da3b48de888372f5eea0fbea"
      }
     },
     "53bf1ed8c51b4a76b1dfdbeae5dd9b34": {
      "model_module": "jupyter-js-widgets",
      "model_module_version": "~2.1.4",
      "model_name": "LayoutModel",
      "state": {
       "_model_module_version": "~2.1.4",
       "_view_module_version": "~2.1.4",
       "height": "550px",
       "width": "100%"
      }
     },
     "5714ca8312e746a5b9ac52721cc95597": {
      "model_module": "jupyter-js-widgets",
      "model_module_version": "~2.1.4",
      "model_name": "ButtonStyleModel",
      "state": {
       "_model_module_version": "~2.1.4",
       "_view_module_version": "~2.1.4"
      }
     },
     "5bc953756aa9455bbac76a84e04f81b6": {
      "model_module": "jupyter-js-widgets",
      "model_module_version": "~2.1.4",
      "model_name": "ButtonModel",
      "state": {
       "_model_module_version": "~2.1.4",
       "_view_module_version": "~2.1.4",
       "icon": "forward",
       "layout": "IPY_MODEL_3c3d76ede24640da83c6aec236dfd43c",
       "style": "IPY_MODEL_5714ca8312e746a5b9ac52721cc95597"
      }
     },
     "5c178880d5b94ef48043f049d732ebd1": {
      "model_module": "jupyter-js-widgets",
      "model_module_version": "~2.1.4",
      "model_name": "ButtonModel",
      "state": {
       "_model_module_version": "~2.1.4",
       "_view_module_version": "~2.1.4",
       "icon": "backward",
       "layout": "IPY_MODEL_62758b551dd844e59961461ebd029c98",
       "style": "IPY_MODEL_47a982977b424698bb7dabd066e2af9d"
      }
     },
     "5ebac22f8c044e4fb7f26cfc1b8ea764": {
      "model_module": "jupyter-js-widgets",
      "model_module_version": "~2.1.4",
      "model_name": "HTMLModel",
      "state": {
       "_model_module_version": "~2.1.4",
       "_view_module_version": "~2.1.4",
       "layout": "IPY_MODEL_75165070b19b423ca7ff3f5a631867df",
       "value": "<p style=\"text-align:center\">\n        <svg id='CIRAR10' xmlns='http://www.w3.org/2000/svg' width=\"350\" height=\"1875\" image-rendering=\"pixelated\">\n    <defs>\n        <marker id=\"arrow\" markerWidth=\"10\" markerHeight=\"10\" refX=\"9\" refY=\"3\" orient=\"auto\" markerUnits=\"strokeWidth\">\n          <path d=\"M0,0 L0,6 L9,3 z\" fill=\"black\" />\n        </marker>\n    </defs>\n<text x=\"175.0\" y=\"12.5\" font-family=\"monospace\" font-size=\"15\" text-anchor=\"middle\" alignment-baseline=\"central\">CIRAR10</text><rect x=\"74.0\" y=\"29\" width=\"202\" height=\"27\" style=\"fill:none;stroke:black;stroke-width:2\"/><image id=\"CIRAR10_output_1\" class=\"CIRAR10_output\" x=\"75.0\" y=\"30\" height=\"25\" width=\"200\" preserveAspectRatio=\"none\" href=\"data:image/gif;base64,R0lGODdhCgABAIcAAK8XKgAAAAAAAAAAAAAAAAAAAAAAAAAAAAAAAAAAAAAAAAAAAAAAAAAAAAAAAAAAAAAAAAAAAAAAAAAAAAAAAAAAAAAAAAAAAAAAAAAAAAAAAAAAAAAAAAAAAAAAAAAAAAAAAAAAAAAAAAAAAAAAAAAAAAAAAAAAAAAAAAAAAAAAAAAAAAAAAAAAAAAAAAAAAAAAAAAAAAAAAAAAAAAAAAAAAAAAAAAAAAAAAAAAAAAAAAAAAAAAAAAAAAAAAAAAAAAAAAAAAAAAAAAAAAAAAAAAAAAAAAAAAAAAAAAAAAAAAAAAAAAAAAAAAAAAAAAAAAAAAAAAAAAAAAAAAAAAAAAAAAAAAAAAAAAAAAAAAAAAAAAAAAAAAAAAAAAAAAAAAAAAAAAAAAAAAAAAAAAAAAAAAAAAAAAAAAAAAAAAAAAAAAAAAAAAAAAAAAAAAAAAAAAAAAAAAAAAAAAAAAAAAAAAAAAAAAAAAAAAAAAAAAAAAAAAAAAAAAAAAAAAAAAAAAAAAAAAAAAAAAAAAAAAAAAAAAAAAAAAAAAAAAAAAAAAAAAAAAAAAAAAAAAAAAAAAAAAAAAAAAAAAAAAAAAAAAAAAAAAAAAAAAAAAAAAAAAAAAAAAAAAAAAAAAAAAAAAAAAAAAAAAAAAAAAAAAAAAAAAAAAAAAAAAAAAAAAAAAAAAAAAAAAAAAAAAAAAAAAAAAAAAAAAAAAAAAAAAAAAAAAAAAAAAAAAAAAAAAAAAAAAAAAAAAAAAAAAAAAAAAAAAAAAAAAAAAAAAAAAAAAAAAAAAAAAAAAAAAAAAAAAAAAAAAAAAAAAAAAAAAAAAAAAAAAAAAAAAAAAAAAAAAAAAAAAAAAAAAAAAAAAAAAAAAAAAAAAAAAAAAAAAAAAAAAAAAAAAAAAAAAAAAAAAAAAAAAAAAAAAAAAAAAAAAAAAAAAAAAAAAAAAAAAAAAAAAAAAAAAAAAAAAAAAAAAAAAAAAAAAAAAAAAAAAAAAAAAAAAAAAAAAAAAAAAAAAAAAAAAACwAAAAACgABAAAIBwABCBxIMCAAOw==\"><title>Layer: output (output)\n shape = (10,)\n Keras class = Dense\n activation = softmax</title></image><text x=\"280.0\" y=\"44.5\" font-family=\"monospace\" font-size=\"12\" text-anchor=\"start\" alignment-baseline=\"central\">output</text><line x1=\"175.0\" y1=\"84\" x2=\"175.0\" y2=\"57\" stroke=\"black\" stroke-width=\"2\" marker-end=\"url(#arrow)\"><title>Weights from hidden1 to output\n output/kernel has shape (512, 10)\n output/bias has shape (10,)</title></line><rect x=\"74.0\" y=\"84\" width=\"202\" height=\"102\" style=\"fill:none;stroke:black;stroke-width:2\"/><image id=\"CIRAR10_hidden1_2\" class=\"CIRAR10_hidden1\" x=\"75.0\" y=\"85\" height=\"100\" width=\"200\" preserveAspectRatio=\"none\" href=\"data:image/gif;base64,R0lGODdhIAAQAIcAAGcAH40MJPj18q4YKvnIr/3l1/zYxPa1l3UEIMI5OtdkUPLr6JwQJ7knMtFXSOeHbPSohvvSvMZCPspKQt5yW+2WdpSUlL8yN9bW1sbGxuF8YhsbG1tbW7m5uS4uLjk5OWJiYuB4X/Kgfvi9oQAAAAAAAAAAAAAAAAAAAAAAAAAAAAAAAAAAAAAAAAAAAAAAAAAAAAAAAAAAAAAAAAAAAAAAAAAAAAAAAAAAAAAAAAAAAAAAAAAAAAAAAAAAAAAAAAAAAAAAAAAAAAAAAAAAAAAAAAAAAAAAAAAAAAAAAAAAAAAAAAAAAAAAAAAAAAAAAAAAAAAAAAAAAAAAAAAAAAAAAAAAAAAAAAAAAAAAAAAAAAAAAAAAAAAAAAAAAAAAAAAAAAAAAAAAAAAAAAAAAAAAAAAAAAAAAAAAAAAAAAAAAAAAAAAAAAAAAAAAAAAAAAAAAAAAAAAAAAAAAAAAAAAAAAAAAAAAAAAAAAAAAAAAAAAAAAAAAAAAAAAAAAAAAAAAAAAAAAAAAAAAAAAAAAAAAAAAAAAAAAAAAAAAAAAAAAAAAAAAAAAAAAAAAAAAAAAAAAAAAAAAAAAAAAAAAAAAAAAAAAAAAAAAAAAAAAAAAAAAAAAAAAAAAAAAAAAAAAAAAAAAAAAAAAAAAAAAAAAAAAAAAAAAAAAAAAAAAAAAAAAAAAAAAAAAAAAAAAAAAAAAAAAAAAAAAAAAAAAAAAAAAAAAAAAAAAAAAAAAAAAAAAAAAAAAAAAAAAAAAAAAAAAAAAAAAAAAAAAAAAAAAAAAAAAAAAAAAAAAAAAAAAAAAAAAAAAAAAAAAAAAAAAAAAAAAAAAAAAAAAAAAAAAAAAAAAAAAAAAAAAAAAAAAAAAAAAAAAAAAAAAAAAAAAAAAAAAAAAAAAAAAAAAAAAAAAAAAAAAAAAAAAAAAAAAAAAAAAAAAAAAAAAAAAAAAAAAAAAAAAAAAAAAAAAAAAAAAAAAAAAAAAAAAAAAAAAAAAAAAAAAAAAAAAAAAAAAAAAAACwAAAAAIAAQAEAI/wAHABgIwACAgwAuAABgQMCAAAAiAkigAYAAABgBCABAYAGEAAESABhJwAOABQAATAAgAQGAlwkAALDAYMABAAAGANi5MwQAAAgAGAAAgAAAABwsGADAFMAAAAMAACgAoKoAAwAAQCgQAICCAAEAAHAAoCwABQoAEJgQAAOEBADixo0gAAAAAgAAVABQAYABABEEPABAmDCBDgASA0DwAEAAAAIWHKAAoHIBAJgXACAAYACAz6APABg9WsEFAAoWAJgAoLUCAAAYAEgAAMABAwAGABAAAIADAAAeRChg4AAABgAaOFgAAIAAANCha2iAIAAACQAKAEBwAYAAAhgAAP8oAAAABwAAAlAggAAAgAcALgCYT78ABAAAAgAAQAHAAoAAADQAkAAAAAcAFAYAQGEAgAADJEAAMACAgAQPAACwAGBCBQcAABjYACADAAASAKwsQAAAAAQAAAQAACAAAAAbAOwEYACAgAgAAAh4AABAAABJBQQAEAFAggIABACgKsAAAwAMAkAA0LVrAwANAAQAAGABALRp0RYA0FYDAAkACAAQAQDAAAAgDgAQcABAAwAjBDAAkKEDAAAIACxGAADAAQAWAAAYEAHAZQAUBBwQAABAgwAFADioQAAAAAUAADwoMAEAgAoZMAAQMADAbQgDEgwA0DsAAODBMQD4oAAOwHEFAwAwANAcwAEHAQEAOw==\"><title>Layer: hidden1 (hidden)\n shape = (512,)\n dropout = 0.5\n Keras class = Dense\n activation = relu</title></image><text x=\"280.0\" y=\"137.0\" font-family=\"monospace\" font-size=\"12\" text-anchor=\"start\" alignment-baseline=\"central\">hidden1</text><line x1=\"175.0\" y1=\"214\" x2=\"175.0\" y2=\"187\" stroke=\"black\" stroke-width=\"2\" marker-end=\"url(#arrow)\"><title>Weights from flatten to hidden1\n hidden1/kernel has shape (2304, 512)\n hidden1/bias has shape (512,)</title></line><rect x=\"74.0\" y=\"214\" width=\"202\" height=\"27\" style=\"fill:none;stroke:black;stroke-width:2\"/><image id=\"CIRAR10_flatten_3\" class=\"CIRAR10_flatten\" x=\"75.0\" y=\"215\" height=\"25\" width=\"200\" preserveAspectRatio=\"none\" href=\"data:image/gif;base64,R0lGODdhAAkBAIcAAPv7+u3t7QAAAAAAAAAAAAAAAAAAAAAAAAAAAAAAAAAAAAAAAAAAAAAAAAAAAAAAAAAAAAAAAAAAAAAAAAAAAAAAAAAAAAAAAAAAAAAAAAAAAAAAAAAAAAAAAAAAAAAAAAAAAAAAAAAAAAAAAAAAAAAAAAAAAAAAAAAAAAAAAAAAAAAAAAAAAAAAAAAAAAAAAAAAAAAAAAAAAAAAAAAAAAAAAAAAAAAAAAAAAAAAAAAAAAAAAAAAAAAAAAAAAAAAAAAAAAAAAAAAAAAAAAAAAAAAAAAAAAAAAAAAAAAAAAAAAAAAAAAAAAAAAAAAAAAAAAAAAAAAAAAAAAAAAAAAAAAAAAAAAAAAAAAAAAAAAAAAAAAAAAAAAAAAAAAAAAAAAAAAAAAAAAAAAAAAAAAAAAAAAAAAAAAAAAAAAAAAAAAAAAAAAAAAAAAAAAAAAAAAAAAAAAAAAAAAAAAAAAAAAAAAAAAAAAAAAAAAAAAAAAAAAAAAAAAAAAAAAAAAAAAAAAAAAAAAAAAAAAAAAAAAAAAAAAAAAAAAAAAAAAAAAAAAAAAAAAAAAAAAAAAAAAAAAAAAAAAAAAAAAAAAAAAAAAAAAAAAAAAAAAAAAAAAAAAAAAAAAAAAAAAAAAAAAAAAAAAAAAAAAAAAAAAAAAAAAAAAAAAAAAAAAAAAAAAAAAAAAAAAAAAAAAAAAAAAAAAAAAAAAAAAAAAAAAAAAAAAAAAAAAAAAAAAAAAAAAAAAAAAAAAAAAAAAAAAAAAAAAAAAAAAAAAAAAAAAAAAAAAAAAAAAAAAAAAAAAAAAAAAAAAAAAAAAAAAAAAAAAAAAAAAAAAAAAAAAAAAAAAAAAAAAAAAAAAAAAAAAAAAAAAAAAAAAAAAAAAAAAAAAAAAAAAAAAAAAAAAAAAAAAAAAAAAAAAAAAAAAAAAAAAAAAAAAAAAAAAAAAAAAAAAAAAAAAAAAAAAAAAAAAAAAAAAAAAAAAAAAAAAAAAAAAAAAAAAAAAAAAAAAAAAAAAAAAAAAAAAACwAAAAAAAkBAAAI/wABCBxIsKDBgwgTKlzIsKHDhxAjSpxIsaLFixgzatzIsaPHjyBDihxJsqTJkyhTqlzJ8mAAADBjypxJE0AAADhz6tzJs+fOAACCCh06NACAo0iTKl3KtKnTp1CjSp1KtarVq0kDANjKtavXrwACABhLtqzZs2jTqiUbAIDbt3DjygUQAIDdu3jz6t0bAIDfv4ADCx4sOACAw4gTIw4AoLHjx5AfBwBAubLly5gzAwgAoLPnz6BDiwYdAIDp06hTq14NIACA17Bjy55Nu7bt27hz6wYQAIBvAAEACB9OvLjx4wACAFjOvDnzAACiS59OfXoAANiza9/OvTuAAADCi2gfT768+fPo058PAKC9+/fw48ufT7/+/AAA8uvfz7+/f4AABAoMAMDgQYQJFS4EEADAQ4gRJU6kWNHiRYwZNW7kSDEAAJAhRY4kWdLkSZQmAwBg2dLlS5gxZc6kWdPmTZw5de7k2fNlQAA7\"><title>Layer: flatten (hidden)\n Keras class = Flatten</title></image><text x=\"280.0\" y=\"229.5\" font-family=\"monospace\" font-size=\"12\" text-anchor=\"start\" alignment-baseline=\"central\">flatten</text><line x1=\"175.0\" y1=\"269\" x2=\"175.0\" y2=\"242\" stroke=\"black\" stroke-width=\"2\" marker-end=\"url(#arrow)\"><title>Weights from pool2 to flatten</title></line><rect x=\"74.0\" y=\"269\" width=\"202\" height=\"202\" style=\"fill:none;stroke:black;stroke-width:2\"/><image id=\"CIRAR10_pool2_4\" class=\"CIRAR10_pool2\" x=\"75.0\" y=\"270\" height=\"200\" width=\"200\" preserveAspectRatio=\"none\" href=\"data:image/gif;base64,R0lGODdhBgAGAIcAAPz8/AAAAAAAAAAAAAAAAAAAAAAAAAAAAAAAAAAAAAAAAAAAAAAAAAAAAAAAAAAAAAAAAAAAAAAAAAAAAAAAAAAAAAAAAAAAAAAAAAAAAAAAAAAAAAAAAAAAAAAAAAAAAAAAAAAAAAAAAAAAAAAAAAAAAAAAAAAAAAAAAAAAAAAAAAAAAAAAAAAAAAAAAAAAAAAAAAAAAAAAAAAAAAAAAAAAAAAAAAAAAAAAAAAAAAAAAAAAAAAAAAAAAAAAAAAAAAAAAAAAAAAAAAAAAAAAAAAAAAAAAAAAAAAAAAAAAAAAAAAAAAAAAAAAAAAAAAAAAAAAAAAAAAAAAAAAAAAAAAAAAAAAAAAAAAAAAAAAAAAAAAAAAAAAAAAAAAAAAAAAAAAAAAAAAAAAAAAAAAAAAAAAAAAAAAAAAAAAAAAAAAAAAAAAAAAAAAAAAAAAAAAAAAAAAAAAAAAAAAAAAAAAAAAAAAAAAAAAAAAAAAAAAAAAAAAAAAAAAAAAAAAAAAAAAAAAAAAAAAAAAAAAAAAAAAAAAAAAAAAAAAAAAAAAAAAAAAAAAAAAAAAAAAAAAAAAAAAAAAAAAAAAAAAAAAAAAAAAAAAAAAAAAAAAAAAAAAAAAAAAAAAAAAAAAAAAAAAAAAAAAAAAAAAAAAAAAAAAAAAAAAAAAAAAAAAAAAAAAAAAAAAAAAAAAAAAAAAAAAAAAAAAAAAAAAAAAAAAAAAAAAAAAAAAAAAAAAAAAAAAAAAAAAAAAAAAAAAAAAAAAAAAAAAAAAAAAAAAAAAAAAAAAAAAAAAAAAAAAAAAAAAAAAAAAAAAAAAAAAAAAAAAAAAAAAAAAAAAAAAAAAAAAAAAAAAAAAAAAAAAAAAAAAAAAAAAAAAAAAAAAAAAAAAAAAAAAAAAAAAAAAAAAAAAAAAAAAAAAAAAAAAAAAAAAAAAAAAAAAAAAAAAAAAAAAAAAAAAAAAAAAAAAAAAAAAAAAAAAAAAAAAAAAAAAAAAAAAAAAAAAAAAAAAAAAAAAAAAAAAAACwAAAAABgAGAAAIDAABCBxIsKDBgwgDAgA7\"><title>Layer: pool2 (hidden)\n dropout = 0.25\n Keras class = MaxPooling2D\n pool_size = (2, 2)</title></image><text x=\"280.0\" y=\"372.0\" font-family=\"monospace\" font-size=\"12\" text-anchor=\"start\" alignment-baseline=\"central\">pool2</text><line x1=\"175.0\" y1=\"499\" x2=\"175.0\" y2=\"472\" stroke=\"black\" stroke-width=\"2\" marker-end=\"url(#arrow)\"><title>Weights from conv4 to pool2</title></line><rect x=\"74.0\" y=\"499\" width=\"202\" height=\"202\" style=\"fill:none;stroke:black;stroke-width:2\"/><image id=\"CIRAR10_conv4_5\" class=\"CIRAR10_conv4\" x=\"75.0\" y=\"500\" height=\"200\" width=\"200\" preserveAspectRatio=\"none\" href=\"data:image/gif;base64,R0lGODdhDQANAIcAAGcAH4wLJHcEIf3cyebm5v339K8ZK9NaStPT0/a1l/nHrv3m2NdkUN5yW8fHx5kQJ7oqM7e3t8tLQueIbO2VdouLi5SUlMZBPuB4X/i9oRoaGiQkJFlZWW1tbXJycsU+PPvUvgAAAAAAAAAAAAAAAAAAAAAAAAAAAAAAAAAAAAAAAAAAAAAAAAAAAAAAAAAAAAAAAAAAAAAAAAAAAAAAAAAAAAAAAAAAAAAAAAAAAAAAAAAAAAAAAAAAAAAAAAAAAAAAAAAAAAAAAAAAAAAAAAAAAAAAAAAAAAAAAAAAAAAAAAAAAAAAAAAAAAAAAAAAAAAAAAAAAAAAAAAAAAAAAAAAAAAAAAAAAAAAAAAAAAAAAAAAAAAAAAAAAAAAAAAAAAAAAAAAAAAAAAAAAAAAAAAAAAAAAAAAAAAAAAAAAAAAAAAAAAAAAAAAAAAAAAAAAAAAAAAAAAAAAAAAAAAAAAAAAAAAAAAAAAAAAAAAAAAAAAAAAAAAAAAAAAAAAAAAAAAAAAAAAAAAAAAAAAAAAAAAAAAAAAAAAAAAAAAAAAAAAAAAAAAAAAAAAAAAAAAAAAAAAAAAAAAAAAAAAAAAAAAAAAAAAAAAAAAAAAAAAAAAAAAAAAAAAAAAAAAAAAAAAAAAAAAAAAAAAAAAAAAAAAAAAAAAAAAAAAAAAAAAAAAAAAAAAAAAAAAAAAAAAAAAAAAAAAAAAAAAAAAAAAAAAAAAAAAAAAAAAAAAAAAAAAAAAAAAAAAAAAAAAAAAAAAAAAAAAAAAAAAAAAAAAAAAAAAAAAAAAAAAAAAAAAAAAAAAAAAAAAAAAAAAAAAAAAAAAAAAAAAAAAAAAAAAAAAAAAAAAAAAAAAAAAAAAAAAAAAAAAAAAAAAAAAAAAAAAAAAAAAAAAAAAAAAAAAAAAAAAAAAAAAAAAAAAAAAAAAAAAAAAAAAAAAAAAAAAAAAAAAAAAAAAAAAAAAAAAAAAAAAAAAAAAAAAAAAAAAAAAAAAAAAAAAAAAAAAAAAAAAAAAAAACwAAAAADQANAAAIuAAdLMCwQAEABgMaHFBQIMEACAEEAADAQAEAAQ8kAJgAIMADAQ04RGBA4ICECxQAADDQoIADBBYcEAgAYAEAAA5AIIhQoMCAAQEAJAAAwMIABQQOABCA4ACAAAASbGiAAYBVAAoAAKAgoAOBAggECAAQIAMAABI8aABQgYABAB8WAJg7AQEFAAUuAAAAwQCAvwQOJAAQAIBhBgASA6iwIIMBAJAFTABAGUCEBAMMANgM4QEAAAECBAQAOw==\"><title>Layer: conv4 (hidden)\n Keras class = Conv2D\n activation = relu</title></image><text x=\"280.0\" y=\"602.0\" font-family=\"monospace\" font-size=\"12\" text-anchor=\"start\" alignment-baseline=\"central\">conv4</text><line x1=\"175.0\" y1=\"729\" x2=\"175.0\" y2=\"702\" stroke=\"black\" stroke-width=\"2\" marker-end=\"url(#arrow)\"><title>Weights from conv3 to conv4\n conv4/kernel has shape (3, 3, 64, 64)\n conv4/bias has shape (64,)</title></line><rect x=\"74.0\" y=\"729\" width=\"202\" height=\"202\" style=\"fill:none;stroke:black;stroke-width:2\"/><image id=\"CIRAR10_conv3_6\" class=\"CIRAR10_conv3\" x=\"75.0\" y=\"730\" height=\"200\" width=\"200\" preserveAspectRatio=\"none\" href=\"data:image/gif;base64,R0lGODdhDwAPAIcAAOzo5/nIrvr08f3l1/a0leyTdKWlpfOnhcjIyNnZ2eWEafzcyXUEIYaGhrm5udhlUeF7YfvSvIsLJJqamvi9odBVSFZWVmcAH95zXPKgfhoaGnt7e6cUKbgkMb8yN8ZAPuB4XwAAAAAAAAAAAAAAAAAAAAAAAAAAAAAAAAAAAAAAAAAAAAAAAAAAAAAAAAAAAAAAAAAAAAAAAAAAAAAAAAAAAAAAAAAAAAAAAAAAAAAAAAAAAAAAAAAAAAAAAAAAAAAAAAAAAAAAAAAAAAAAAAAAAAAAAAAAAAAAAAAAAAAAAAAAAAAAAAAAAAAAAAAAAAAAAAAAAAAAAAAAAAAAAAAAAAAAAAAAAAAAAAAAAAAAAAAAAAAAAAAAAAAAAAAAAAAAAAAAAAAAAAAAAAAAAAAAAAAAAAAAAAAAAAAAAAAAAAAAAAAAAAAAAAAAAAAAAAAAAAAAAAAAAAAAAAAAAAAAAAAAAAAAAAAAAAAAAAAAAAAAAAAAAAAAAAAAAAAAAAAAAAAAAAAAAAAAAAAAAAAAAAAAAAAAAAAAAAAAAAAAAAAAAAAAAAAAAAAAAAAAAAAAAAAAAAAAAAAAAAAAAAAAAAAAAAAAAAAAAAAAAAAAAAAAAAAAAAAAAAAAAAAAAAAAAAAAAAAAAAAAAAAAAAAAAAAAAAAAAAAAAAAAAAAAAAAAAAAAAAAAAAAAAAAAAAAAAAAAAAAAAAAAAAAAAAAAAAAAAAAAAAAAAAAAAAAAAAAAAAAAAAAAAAAAAAAAAAAAAAAAAAAAAAAAAAAAAAAAAAAAAAAAAAAAAAAAAAAAAAAAAAAAAAAAAAAAAAAAAAAAAAAAAAAAAAAAAAAAAAAAAAAAAAAAAAAAAAAAAAAAAAAAAAAAAAAAAAAAAAAAAAAAAAAAAAAAAAAAAAAAAAAAAAAAAAAAAAAAAAAAAAAAAAAAAAAAAAAAAAAAAAAAAAAAAAAAAAAAAAAAAAAAAAAAAAAAAAAAAAAAAAAAAAAAAAAAAAAAAAAAAAAAAAAAACwAAAAADwAPAAAI+gAvSJBwgYFBgxIYSJDA4EKHBwUoEBiQgUCAAwQWLAigoEIBCgQIBKjw4EEBAgEWBChQIEAACgoeQCCQ4cEHEBEEBDggIMCBAx44YFBQAMIBCAECHBAQ4MAABRUCDFhQYAGEABECLFDwoMCAAQgmGAAAQACFABEWKHigIAEAABYaNHDQAECABQACEBCAIEGCBhMaODAAYECACAMEJEiAwAECBAYcbAAQoUAAAAgSOEAAoDMCAAAEDIBAAIBpAw4SCAAgQMAAAQcgQCAwAEACAAAECBgggEAEDAcoFCAwQICAAQMEDIhQQEGFBhosNDAwYYKB6xMcGLAgICAAOw==\"><title>Layer: conv3 (hidden)\n Keras class = Conv2D\n padding = same\n activation = relu</title></image><text x=\"280.0\" y=\"832.0\" font-family=\"monospace\" font-size=\"12\" text-anchor=\"start\" alignment-baseline=\"central\">conv3</text><line x1=\"175.0\" y1=\"959\" x2=\"175.0\" y2=\"932\" stroke=\"black\" stroke-width=\"2\" marker-end=\"url(#arrow)\"><title>Weights from pool1 to conv3\n conv3/kernel has shape (3, 3, 32, 64)\n conv3/bias has shape (64,)</title></line><rect x=\"74.0\" y=\"959\" width=\"202\" height=\"202\" style=\"fill:none;stroke:black;stroke-width:2\"/><image id=\"CIRAR10_pool1_7\" class=\"CIRAR10_pool1\" x=\"75.0\" y=\"960\" height=\"200\" width=\"200\" preserveAspectRatio=\"none\" href=\"data:image/gif;base64,R0lGODdhDwAPAIcAAObm5tfX18vLy/Ly8gAAAAAAAAAAAAAAAAAAAAAAAAAAAAAAAAAAAAAAAAAAAAAAAAAAAAAAAAAAAAAAAAAAAAAAAAAAAAAAAAAAAAAAAAAAAAAAAAAAAAAAAAAAAAAAAAAAAAAAAAAAAAAAAAAAAAAAAAAAAAAAAAAAAAAAAAAAAAAAAAAAAAAAAAAAAAAAAAAAAAAAAAAAAAAAAAAAAAAAAAAAAAAAAAAAAAAAAAAAAAAAAAAAAAAAAAAAAAAAAAAAAAAAAAAAAAAAAAAAAAAAAAAAAAAAAAAAAAAAAAAAAAAAAAAAAAAAAAAAAAAAAAAAAAAAAAAAAAAAAAAAAAAAAAAAAAAAAAAAAAAAAAAAAAAAAAAAAAAAAAAAAAAAAAAAAAAAAAAAAAAAAAAAAAAAAAAAAAAAAAAAAAAAAAAAAAAAAAAAAAAAAAAAAAAAAAAAAAAAAAAAAAAAAAAAAAAAAAAAAAAAAAAAAAAAAAAAAAAAAAAAAAAAAAAAAAAAAAAAAAAAAAAAAAAAAAAAAAAAAAAAAAAAAAAAAAAAAAAAAAAAAAAAAAAAAAAAAAAAAAAAAAAAAAAAAAAAAAAAAAAAAAAAAAAAAAAAAAAAAAAAAAAAAAAAAAAAAAAAAAAAAAAAAAAAAAAAAAAAAAAAAAAAAAAAAAAAAAAAAAAAAAAAAAAAAAAAAAAAAAAAAAAAAAAAAAAAAAAAAAAAAAAAAAAAAAAAAAAAAAAAAAAAAAAAAAAAAAAAAAAAAAAAAAAAAAAAAAAAAAAAAAAAAAAAAAAAAAAAAAAAAAAAAAAAAAAAAAAAAAAAAAAAAAAAAAAAAAAAAAAAAAAAAAAAAAAAAAAAAAAAAAAAAAAAAAAAAAAAAAAAAAAAAAAAAAAAAAAAAAAAAAAAAAAAAAAAAAAAAAAAAAAAAAAAAAAAAAAAAAAAAAAAAAAAAAAAAAAAAAAAAAAAAAAAAAAAAAAAAAAAAAAAAAAAAAAAAAAAAAAAAAAAAAAAAAAAAAAAAAAAAAAAACwAAAAADwAPAAAIeQAHABhIsGDBAQASKlzIsKFDhwMASJxIsaLFiwACaNQIoKNHjwECCBg5MgCAkycDqAwgoGUAAQEAyJQZoGYAAQICCBAQAIBPnwIEBAgAIIBRowCSJg3ANACAp1CjAghAlSqAq1izat0KIACAr2DDhg1AFoDZs2jNBgQAOw==\"><title>Layer: pool1 (hidden)\n dropout = 0.25\n Keras class = MaxPooling2D\n pool_size = (2, 2)</title></image><text x=\"280.0\" y=\"1062.0\" font-family=\"monospace\" font-size=\"12\" text-anchor=\"start\" alignment-baseline=\"central\">pool1</text><line x1=\"175.0\" y1=\"1189\" x2=\"175.0\" y2=\"1162\" stroke=\"black\" stroke-width=\"2\" marker-end=\"url(#arrow)\"><title>Weights from conv2 to pool1</title></line><rect x=\"74.0\" y=\"1189\" width=\"202\" height=\"202\" style=\"fill:none;stroke:black;stroke-width:2\"/><image id=\"CIRAR10_conv2_8\" class=\"CIRAR10_conv2\" x=\"75.0\" y=\"1190\" height=\"200\" width=\"200\" preserveAspectRatio=\"none\" href=\"data:image/gif;base64,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\"><title>Layer: conv2 (hidden)\n Keras class = Conv2D\n activation = relu</title></image><text x=\"280.0\" y=\"1292.0\" font-family=\"monospace\" font-size=\"12\" text-anchor=\"start\" alignment-baseline=\"central\">conv2</text><line x1=\"175.0\" y1=\"1419\" x2=\"175.0\" y2=\"1392\" stroke=\"black\" stroke-width=\"2\" marker-end=\"url(#arrow)\"><title>Weights from conv1 to conv2\n conv2/kernel has shape (3, 3, 32, 32)\n conv2/bias has shape (32,)</title></line><rect x=\"74.0\" y=\"1419\" width=\"202\" height=\"202\" style=\"fill:none;stroke:black;stroke-width:2\"/><image id=\"CIRAR10_conv1_9\" class=\"CIRAR10_conv1\" x=\"75.0\" y=\"1420\" height=\"200\" width=\"200\" preserveAspectRatio=\"none\" href=\"data:image/gif;base64,R0lGODdhIAAgAIcAAGcAHxoaGgAAAAAAAAAAAAAAAAAAAAAAAAAAAAAAAAAAAAAAAAAAAAAAAAAAAAAAAAAAAAAAAAAAAAAAAAAAAAAAAAAAAAAAAAAAAAAAAAAAAAAAAAAAAAAAAAAAAAAAAAAAAAAAAAAAAAAAAAAAAAAAAAAAAAAAAAAAAAAAAAAAAAAAAAAAAAAAAAAAAAAAAAAAAAAAAAAAAAAAAAAAAAAAAAAAAAAAAAAAAAAAAAAAAAAAAAAAAAAAAAAAAAAAAAAAAAAAAAAAAAAAAAAAAAAAAAAAAAAAAAAAAAAAAAAAAAAAAAAAAAAAAAAAAAAAAAAAAAAAAAAAAAAAAAAAAAAAAAAAAAAAAAAAAAAAAAAAAAAAAAAAAAAAAAAAAAAAAAAAAAAAAAAAAAAAAAAAAAAAAAAAAAAAAAAAAAAAAAAAAAAAAAAAAAAAAAAAAAAAAAAAAAAAAAAAAAAAAAAAAAAAAAAAAAAAAAAAAAAAAAAAAAAAAAAAAAAAAAAAAAAAAAAAAAAAAAAAAAAAAAAAAAAAAAAAAAAAAAAAAAAAAAAAAAAAAAAAAAAAAAAAAAAAAAAAAAAAAAAAAAAAAAAAAAAAAAAAAAAAAAAAAAAAAAAAAAAAAAAAAAAAAAAAAAAAAAAAAAAAAAAAAAAAAAAAAAAAAAAAAAAAAAAAAAAAAAAAAAAAAAAAAAAAAAAAAAAAAAAAAAAAAAAAAAAAAAAAAAAAAAAAAAAAAAAAAAAAAAAAAAAAAAAAAAAAAAAAAAAAAAAAAAAAAAAAAAAAAAAAAAAAAAAAAAAAAAAAAAAAAAAAAAAAAAAAAAAAAAAAAAAAAAAAAAAAAAAAAAAAAAAAAAAAAAAAAAAAAAAAAAAAAAAAAAAAAAAAAAAAAAAAAAAAAAAAAAAAAAAAAAAAAAAAAAAAAAAAAAAAAAAAAAAAAAAAAAAAAAAAAAAAAAAAAAAAAAAAAAAAAAAAAAAAAAAAAAAAAAAAAAAAAAAAAAAAAAAAAAAAAAAAAAAAAAAAAAAAACwAAAAAIAAgAEAIPwABCBxIsKDBgwgTKlzIsKHDhxAjSpxIsaLFixgzatzIsaPHjyBDihxJsqTJkyhTqlzJUmAAADBjypxJs2bMgAA7\"><title>Layer: conv1 (hidden)\n Keras class = Conv2D\n padding = same\n activation = relu</title></image><text x=\"280.0\" y=\"1522.0\" font-family=\"monospace\" font-size=\"12\" text-anchor=\"start\" alignment-baseline=\"central\">conv1</text><line x1=\"175.0\" y1=\"1649\" x2=\"175.0\" y2=\"1622\" stroke=\"black\" stroke-width=\"2\" marker-end=\"url(#arrow)\"><title>Weights from input to conv1\n conv1/kernel has shape (3, 3, 3, 32)\n conv1/bias has shape (32,)</title></line><rect x=\"74.0\" y=\"1649\" width=\"202\" height=\"202\" style=\"fill:none;stroke:black;stroke-width:2\"/><image id=\"CIRAR10_input_10\" class=\"CIRAR10_input\" x=\"75.0\" y=\"1650\" height=\"200\" width=\"200\" preserveAspectRatio=\"none\" href=\"data:image/gif;base64,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\"><title>Layer: input (input)\n shape = (32, 32, 3)\n Keras class = Input</title></image><text x=\"280.0\" y=\"1752.0\" font-family=\"monospace\" font-size=\"12\" text-anchor=\"start\" alignment-baseline=\"central\">input</text></svg></p>"
      }
     },
     "5fbbf6617fdf4c7ea034beca10d5e220": {
      "model_module": "jupyter-js-widgets",
      "model_module_version": "~2.1.4",
      "model_name": "LayoutModel",
      "state": {
       "_model_module_version": "~2.1.4",
       "_view_module_version": "~2.1.4",
       "width": "100%"
      }
     },
     "62758b551dd844e59961461ebd029c98": {
      "model_module": "jupyter-js-widgets",
      "model_module_version": "~2.1.4",
      "model_name": "LayoutModel",
      "state": {
       "_model_module_version": "~2.1.4",
       "_view_module_version": "~2.1.4",
       "width": "100%"
      }
     },
     "6305ead6a0ce479b9e4a83f7c649e522": {
      "model_module": "jupyter-js-widgets",
      "model_module_version": "~2.1.4",
      "model_name": "LayoutModel",
      "state": {
       "_model_module_version": "~2.1.4",
       "_view_module_version": "~2.1.4",
       "height": "550px",
       "width": "100%"
      }
     },
     "715133b0c94f40e398ee066a75369167": {
      "model_module": "jupyter-js-widgets",
      "model_module_version": "~2.1.4",
      "model_name": "LayoutModel",
      "state": {
       "_model_module_version": "~2.1.4",
       "_view_module_version": "~2.1.4",
       "width": "100%"
      }
     },
     "75165070b19b423ca7ff3f5a631867df": {
      "model_module": "jupyter-js-widgets",
      "model_module_version": "~2.1.4",
      "model_name": "LayoutModel",
      "state": {
       "_model_module_version": "~2.1.4",
       "_view_module_version": "~2.1.4",
       "height": "550px",
       "justify_content": "center",
       "overflow_x": "auto",
       "width": "100%"
      }
     },
     "7bd271fd66184c229f0a90c100ba0dc2": {
      "model_module": "jupyter-js-widgets",
      "model_module_version": "~2.1.4",
      "model_name": "HBoxModel",
      "state": {
       "_model_module_version": "~2.1.4",
       "_view_module_version": "~2.1.4",
       "children": [
        "IPY_MODEL_3d953836c9eb47748e94ab5ef2c24bd0",
        "IPY_MODEL_5c178880d5b94ef48043f049d732ebd1",
        "IPY_MODEL_494d23583dc149be879356fd96f2b353",
        "IPY_MODEL_5bc953756aa9455bbac76a84e04f81b6",
        "IPY_MODEL_40dc54bb65834226b1dc220667ccfa84"
       ],
       "layout": "IPY_MODEL_715133b0c94f40e398ee066a75369167"
      }
     },
     "8fd38f9e2cdb4f7893347ecd70e46346": {
      "model_module": "jupyter-js-widgets",
      "model_module_version": "~2.1.4",
      "model_name": "LayoutModel",
      "state": {
       "_model_module_version": "~2.1.4",
       "_view_module_version": "~2.1.4",
       "width": "100%"
      }
     },
     "9506cf837f474b3c8e835a0985da77ab": {
      "model_module": "jupyter-js-widgets",
      "model_module_version": "~2.1.4",
      "model_name": "LayoutModel",
      "state": {
       "_model_module_version": "~2.1.4",
       "_view_module_version": "~2.1.4"
      }
     },
     "9e8adab589d14c7e8631fc71c0aece47": {
      "model_module": "jupyter-js-widgets",
      "model_module_version": "~2.1.4",
      "model_name": "LayoutModel",
      "state": {
       "_model_module_version": "~2.1.4",
       "_view_module_version": "~2.1.4",
       "width": "100%"
      }
     },
     "aa6e5f5cb67d456bbb5df673f148a3e9": {
      "model_module": "jupyter-js-widgets",
      "model_module_version": "~2.1.4",
      "model_name": "VBoxModel",
      "state": {
       "_model_module_version": "~2.1.4",
       "_view_module_version": "~2.1.4",
       "children": [
        "IPY_MODEL_5ebac22f8c044e4fb7f26cfc1b8ea764",
        "IPY_MODEL_2f700e7285dc4039a2ebba46f0d2f743"
       ],
       "layout": "IPY_MODEL_6305ead6a0ce479b9e4a83f7c649e522"
      }
     },
     "acff71ee44974813b428849688646326": {
      "model_module": "jupyter-js-widgets",
      "model_module_version": "~2.1.4",
      "model_name": "TabModel",
      "state": {
       "_model_module_version": "~2.1.4",
       "_titles": {
        "0": "Network",
        "1": "Help"
       },
       "_view_module_version": "~2.1.4",
       "children": [
        "IPY_MODEL_aa6e5f5cb67d456bbb5df673f148a3e9",
        "IPY_MODEL_fac1a40d235b4d46864f5f033992894a"
       ],
       "layout": "IPY_MODEL_9506cf837f474b3c8e835a0985da77ab"
      }
     },
     "ca4f25edb9a9462b9e7442c5f1a7cb74": {
      "model_module": "jupyter-js-widgets",
      "model_module_version": "~2.1.4",
      "model_name": "SelectModel",
      "state": {
       "_model_module_version": "~2.1.4",
       "_options_labels": [
        "Test",
        "Train"
       ],
       "_view_module_version": "~2.1.4",
       "description": "Dataset:",
       "layout": "IPY_MODEL_2c7356dd6fbb4baea9275f3c4ec112c5",
       "value": "Train"
      }
     },
     "e4366a5a72ff4073bcb9a86e2fb5fd89": {
      "model_module": "jupyter-js-widgets",
      "model_module_version": "~2.1.4",
      "model_name": "ButtonStyleModel",
      "state": {
       "_model_module_version": "~2.1.4",
       "_view_module_version": "~2.1.4"
      }
     },
     "e9fd7954da3b48de888372f5eea0fbea": {
      "model_module": "jupyter-js-widgets",
      "model_module_version": "~2.1.4",
      "model_name": "ButtonStyleModel",
      "state": {
       "_model_module_version": "~2.1.4",
       "_view_module_version": "~2.1.4"
      }
     },
     "f85c429804554c80b8f460a83fde1b05": {
      "model_module": "jupyter-js-widgets",
      "model_module_version": "~2.1.4",
      "model_name": "LayoutModel",
      "state": {
       "_model_module_version": "~2.1.4",
       "_view_module_version": "~2.1.4",
       "width": "100%"
      }
     },
     "fac1a40d235b4d46864f5f033992894a": {
      "model_module": "jupyter-js-widgets",
      "model_module_version": "~2.1.4",
      "model_name": "HTMLModel",
      "state": {
       "_model_module_version": "~2.1.4",
       "_view_module_version": "~2.1.4",
       "layout": "IPY_MODEL_53bf1ed8c51b4a76b1dfdbeae5dd9b34",
       "value": "\n<!-- TODO: Remove this SCRIPT when next version of ipywidgets comes out -->\n<style>\n.widget-html > .widget-html-content, .widget-htmlmath > .widget-html-content {\n    /* Fill out the area in the HTML widget */\n    align-self: stretch;\n    flex-grow: 1;\n    flex-shrink: 1;\n    /* Makes sure the baseline is still aligned with other elements */\n    line-height: var(--jp-widgets-inline-height);\n    /* Make it possible to have absolutely-positioned elements in the html */\n    position: relative;\n}\n</style>\n\n<iframe src=\"https://conx.readthedocs.io\" width=\"100%\" height=\"550px\"></frame>\n"
      }
     }
    },
    "version_major": 1,
    "version_minor": 0
   }
  }
 },
 "nbformat": 4,
 "nbformat_minor": 2
}
