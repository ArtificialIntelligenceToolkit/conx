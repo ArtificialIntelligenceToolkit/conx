{
 "cells": [
  {
   "cell_type": "markdown",
   "metadata": {},
   "source": [
    "# MNIST"
   ]
  },
  {
   "cell_type": "code",
   "execution_count": 1,
   "metadata": {},
   "outputs": [
    {
     "name": "stderr",
     "output_type": "stream",
     "text": [
      "Using Theano backend.\n"
     ]
    }
   ],
   "source": [
    "from conx import Network, Layer, Conv2DLayer, MaxPool2DLayer, FlattenLayer"
   ]
  },
  {
   "cell_type": "code",
   "execution_count": 2,
   "metadata": {
    "collapsed": true
   },
   "outputs": [],
   "source": [
    "net = Network(\"MNIST\")\n",
    "net.add(Layer(\"input\", shape=784, vshape=(28, 28), colormap=\"hot\", minmax=(0,1)))\n",
    "net.add(Layer(\"hidden1\", shape=512, vshape=(16,32), activation='relu', dropout=0.2))\n",
    "net.add(Layer(\"hidden2\", shape=512, vshape=(16,32), activation='relu', dropout=0.2))\n",
    "net.add(Layer(\"output\", shape=10, activation='softmax'))\n",
    "\n",
    "net.connect('input', 'hidden1')\n",
    "net.connect('hidden1', 'hidden2')\n",
    "net.connect('hidden2', 'output')"
   ]
  },
  {
   "cell_type": "code",
   "execution_count": 3,
   "metadata": {
    "collapsed": true
   },
   "outputs": [],
   "source": [
    "net.compile(loss='mean_squared_error',\n",
    "            optimizer='sgd')"
   ]
  },
  {
   "cell_type": "code",
   "execution_count": 4,
   "metadata": {
    "collapsed": true
   },
   "outputs": [],
   "source": [
    "from keras.utils.vis_utils import model_to_dot\n",
    "from IPython.display import SVG"
   ]
  },
  {
   "cell_type": "code",
   "execution_count": 5,
   "metadata": {},
   "outputs": [
    {
     "data": {
      "image/svg+xml": [
       "<svg height=\"410pt\" viewBox=\"0.00 0.00 133.00 410.00\" width=\"133pt\" xmlns=\"http://www.w3.org/2000/svg\" xmlns:xlink=\"http://www.w3.org/1999/xlink\">\n",
       "<g class=\"graph\" id=\"graph0\" transform=\"scale(1 1) rotate(0) translate(4 406)\">\n",
       "<title>G</title>\n",
       "<polygon fill=\"white\" points=\"-4,4 -4,-406 129,-406 129,4 -4,4\" stroke=\"none\"/>\n",
       "<!-- 140707160707200 -->\n",
       "<g class=\"node\" id=\"node1\"><title>140707160707200</title>\n",
       "<polygon fill=\"none\" points=\"6.5,-0.5 6.5,-36.5 118.5,-36.5 118.5,-0.5 6.5,-0.5\" stroke=\"black\"/>\n",
       "<text font-family=\"Times,serif\" font-size=\"14.00\" text-anchor=\"middle\" x=\"62.5\" y=\"-14.8\">input: InputLayer</text>\n",
       "</g>\n",
       "<!-- 140707160710504 -->\n",
       "<g class=\"node\" id=\"node2\"><title>140707160710504</title>\n",
       "<polygon fill=\"none\" points=\"12,-73.5 12,-109.5 113,-109.5 113,-73.5 12,-73.5\" stroke=\"black\"/>\n",
       "<text font-family=\"Times,serif\" font-size=\"14.00\" text-anchor=\"middle\" x=\"62.5\" y=\"-87.8\">hidden1: Dense</text>\n",
       "</g>\n",
       "<!-- 140707160707200&#45;&gt;140707160710504 -->\n",
       "<g class=\"edge\" id=\"edge1\"><title>140707160707200-&gt;140707160710504</title>\n",
       "<path d=\"M62.5,-36.6871C62.5,-44.7105 62.5,-54.4525 62.5,-63.4309\" fill=\"none\" stroke=\"black\"/>\n",
       "<polygon fill=\"black\" points=\"59.0001,-63.4711 62.5,-73.4712 66.0001,-63.4712 59.0001,-63.4711\" stroke=\"black\"/>\n",
       "</g>\n",
       "<!-- 140707160710840 -->\n",
       "<g class=\"node\" id=\"node3\"><title>140707160710840</title>\n",
       "<polygon fill=\"none\" points=\"-7.10543e-15,-146.5 -7.10543e-15,-182.5 125,-182.5 125,-146.5 -7.10543e-15,-146.5\" stroke=\"black\"/>\n",
       "<text font-family=\"Times,serif\" font-size=\"14.00\" text-anchor=\"middle\" x=\"62.5\" y=\"-160.8\">dropout_1: Dropout</text>\n",
       "</g>\n",
       "<!-- 140707160710504&#45;&gt;140707160710840 -->\n",
       "<g class=\"edge\" id=\"edge2\"><title>140707160710504-&gt;140707160710840</title>\n",
       "<path d=\"M62.5,-109.687C62.5,-117.711 62.5,-127.453 62.5,-136.431\" fill=\"none\" stroke=\"black\"/>\n",
       "<polygon fill=\"black\" points=\"59.0001,-136.471 62.5,-146.471 66.0001,-136.471 59.0001,-136.471\" stroke=\"black\"/>\n",
       "</g>\n",
       "<!-- 140707160711120 -->\n",
       "<g class=\"node\" id=\"node4\"><title>140707160711120</title>\n",
       "<polygon fill=\"none\" points=\"12,-219.5 12,-255.5 113,-255.5 113,-219.5 12,-219.5\" stroke=\"black\"/>\n",
       "<text font-family=\"Times,serif\" font-size=\"14.00\" text-anchor=\"middle\" x=\"62.5\" y=\"-233.8\">hidden2: Dense</text>\n",
       "</g>\n",
       "<!-- 140707160710840&#45;&gt;140707160711120 -->\n",
       "<g class=\"edge\" id=\"edge3\"><title>140707160710840-&gt;140707160711120</title>\n",
       "<path d=\"M62.5,-182.687C62.5,-190.711 62.5,-200.453 62.5,-209.431\" fill=\"none\" stroke=\"black\"/>\n",
       "<polygon fill=\"black\" points=\"59.0001,-209.471 62.5,-219.471 66.0001,-209.471 59.0001,-209.471\" stroke=\"black\"/>\n",
       "</g>\n",
       "<!-- 140707132315912 -->\n",
       "<g class=\"node\" id=\"node5\"><title>140707132315912</title>\n",
       "<polygon fill=\"none\" points=\"-7.10543e-15,-292.5 -7.10543e-15,-328.5 125,-328.5 125,-292.5 -7.10543e-15,-292.5\" stroke=\"black\"/>\n",
       "<text font-family=\"Times,serif\" font-size=\"14.00\" text-anchor=\"middle\" x=\"62.5\" y=\"-306.8\">dropout_2: Dropout</text>\n",
       "</g>\n",
       "<!-- 140707160711120&#45;&gt;140707132315912 -->\n",
       "<g class=\"edge\" id=\"edge4\"><title>140707160711120-&gt;140707132315912</title>\n",
       "<path d=\"M62.5,-255.687C62.5,-263.711 62.5,-273.453 62.5,-282.431\" fill=\"none\" stroke=\"black\"/>\n",
       "<polygon fill=\"black\" points=\"59.0001,-282.471 62.5,-292.471 66.0001,-282.471 59.0001,-282.471\" stroke=\"black\"/>\n",
       "</g>\n",
       "<!-- 140707132315968 -->\n",
       "<g class=\"node\" id=\"node6\"><title>140707132315968</title>\n",
       "<polygon fill=\"none\" points=\"16.5,-365.5 16.5,-401.5 108.5,-401.5 108.5,-365.5 16.5,-365.5\" stroke=\"black\"/>\n",
       "<text font-family=\"Times,serif\" font-size=\"14.00\" text-anchor=\"middle\" x=\"62.5\" y=\"-379.8\">output: Dense</text>\n",
       "</g>\n",
       "<!-- 140707132315912&#45;&gt;140707132315968 -->\n",
       "<g class=\"edge\" id=\"edge5\"><title>140707132315912-&gt;140707132315968</title>\n",
       "<path d=\"M62.5,-328.687C62.5,-336.711 62.5,-346.453 62.5,-355.431\" fill=\"none\" stroke=\"black\"/>\n",
       "<polygon fill=\"black\" points=\"59.0001,-355.471 62.5,-365.471 66.0001,-355.471 59.0001,-355.471\" stroke=\"black\"/>\n",
       "</g>\n",
       "</g>\n",
       "</svg>"
      ],
      "text/plain": [
       "<IPython.core.display.SVG object>"
      ]
     },
     "execution_count": 5,
     "metadata": {},
     "output_type": "execute_result"
    }
   ],
   "source": [
    "SVG(model_to_dot(net.model, rankdir=\"BT\").create_svg())"
   ]
  },
  {
   "cell_type": "code",
   "execution_count": 6,
   "metadata": {},
   "outputs": [
    {
     "name": "stdout",
     "output_type": "stream",
     "text": [
      "Input Summary:\n",
      "   length  : 70000\n",
      "   training: 70000\n",
      "   testing : 0\n",
      "   shape  : (28, 28, 1)\n",
      "   range  : (0.0, 1.0)\n",
      "Target Summary:\n",
      "   length  : 70000\n",
      "   training: 70000\n",
      "   testing : 0\n",
      "   shape  : (10,)\n",
      "   range  : (0.0, 1.0)\n",
      "Slicing dataset 0:100...\n",
      "Input Summary:\n",
      "   length  : 100\n",
      "   training: 100\n",
      "   testing : 0\n",
      "   shape  : (28, 28, 1)\n",
      "   range  : (0.0, 1.0)\n",
      "Target Summary:\n",
      "   length  : 100\n",
      "   training: 100\n",
      "   testing : 0\n",
      "   shape  : (10,)\n",
      "   range  : (0.0, 1.0)\n",
      "Input Summary:\n",
      "   length  : 100\n",
      "   training: 100\n",
      "   testing : 0\n",
      "   shape  : (784,)\n",
      "   range  : (0.0, 1.0)\n",
      "Target Summary:\n",
      "   length  : 100\n",
      "   training: 100\n",
      "   testing : 0\n",
      "   shape  : (10,)\n",
      "   range  : (0.0, 1.0)\n"
     ]
    }
   ],
   "source": [
    "net.load_mnist_dataset()\n",
    "#net.rescale_inputs((0,255), (0,1), 'float32')\n",
    "#net.shuffle_dataset()\n",
    "net.slice_dataset(0, 100)\n",
    "net.reshape_inputs(784)\n",
    "#net.split_dataset(100)"
   ]
  },
  {
   "cell_type": "code",
   "execution_count": 7,
   "metadata": {},
   "outputs": [
    {
     "data": {
      "application/javascript": [
       "\n",
       "require(['base/js/namespace'], function(Jupyter) {\n",
       "    Jupyter.notebook.kernel.comm_manager.register_target('conx_svg_control', function(comm, msg) {\n",
       "        comm.on_msg(function(msg) {\n",
       "            var data = msg[\"content\"][\"data\"];\n",
       "            var images = document.getElementsByClassName(data[\"class\"]);\n",
       "            for (var i = 0; i < images.length; i++) {\n",
       "                images[i].setAttributeNS(null, \"href\", data[\"href\"]);\n",
       "            }\n",
       "        });\n",
       "    });\n",
       "});\n"
      ],
      "text/plain": [
       "<IPython.core.display.Javascript object>"
      ]
     },
     "metadata": {},
     "output_type": "display_data"
    }
   ],
   "source": [
    "widget = net.build_widget()"
   ]
  },
  {
   "cell_type": "code",
   "execution_count": 8,
   "metadata": {},
   "outputs": [
    {
     "data": {
      "application/vnd.jupyter.widget-view+json": {
       "model_id": "761b1e72c7264911a50a0ba7af48235d"
      }
     },
     "metadata": {},
     "output_type": "display_data"
    }
   ],
   "source": [
    "widget"
   ]
  },
  {
   "cell_type": "code",
   "execution_count": 9,
   "metadata": {},
   "outputs": [
    {
     "data": {
      "text/plain": [
       "(100, 0.090984202921390533, 0.090000003576278687, 0.0)"
      ]
     },
     "execution_count": 9,
     "metadata": {},
     "output_type": "execute_result"
    }
   ],
   "source": [
    "net.train(100, verbose=0)\n",
    "#net.test()"
   ]
  },
  {
   "cell_type": "code",
   "execution_count": 10,
   "metadata": {},
   "outputs": [
    {
     "name": "stdout",
     "output_type": "stream",
     "text": [
      "CPU times: user 6.02 s, sys: 240 ms, total: 6.26 s\n",
      "Wall time: 6.25 s\n"
     ]
    }
   ],
   "source": [
    "%%time\n",
    "for i in range(100):\n",
    "    net.propagate(net.get_input(i))"
   ]
  },
  {
   "cell_type": "code",
   "execution_count": 11,
   "metadata": {
    "collapsed": true
   },
   "outputs": [],
   "source": [
    "from conx import Network, Layer, Conv2DLayer, MaxPool2DLayer, FlattenLayer"
   ]
  },
  {
   "cell_type": "code",
   "execution_count": 12,
   "metadata": {
    "collapsed": true
   },
   "outputs": [],
   "source": [
    "net = Network(\"MNIST-CNN\")\n",
    "net.add(Layer(\"input\", (28,28,1), colormap=\"hot\", minmax=(0,1)))\n",
    "net.add(Conv2DLayer(\"Conv2D-1\", 16, (5,5), activation=\"relu\"))\n",
    "net.add(MaxPool2DLayer(\"maxpool1\", (2,2)))\n",
    "net.add(Conv2DLayer(\"Conv2D-2\", 132, (5,5), activation=\"relu\")) \n",
    "net.add(MaxPool2DLayer(\"maxpool2\", (2,2)))\n",
    "net.add(FlattenLayer(\"flatten\", visible=False))\n",
    "net.add(Layer(\"hidden\", 1000, activation='relu', vshape=(8,125), image_maxdim=500))\n",
    "net.add(Layer(\"output\", 10, activation='softmax'))\n",
    "\n",
    "net.connect()"
   ]
  },
  {
   "cell_type": "code",
   "execution_count": 13,
   "metadata": {
    "collapsed": true
   },
   "outputs": [],
   "source": [
    "net.compile(loss=\"binary_crossentropy\", optimizer=\"rmsprop\")"
   ]
  },
  {
   "cell_type": "code",
   "execution_count": 14,
   "metadata": {},
   "outputs": [
    {
     "name": "stdout",
     "output_type": "stream",
     "text": [
      "Input Summary:\n",
      "   length  : 70000\n",
      "   training: 70000\n",
      "   testing : 0\n",
      "   shape  : (28, 28, 1)\n",
      "   range  : (0.0, 1.0)\n",
      "Target Summary:\n",
      "   length  : 70000\n",
      "   training: 70000\n",
      "   testing : 0\n",
      "   shape  : (10,)\n",
      "   range  : (0.0, 1.0)\n"
     ]
    }
   ],
   "source": [
    "net.load_mnist_dataset()"
   ]
  },
  {
   "cell_type": "code",
   "execution_count": 15,
   "metadata": {},
   "outputs": [
    {
     "name": "stdout",
     "output_type": "stream",
     "text": [
      "Slicing dataset 0:100...\n",
      "Input Summary:\n",
      "   length  : 100\n",
      "   training: 100\n",
      "   testing : 0\n",
      "   shape  : (28, 28, 1)\n",
      "   range  : (0.0, 1.0)\n",
      "Target Summary:\n",
      "   length  : 100\n",
      "   training: 100\n",
      "   testing : 0\n",
      "   shape  : (10,)\n",
      "   range  : (0.0, 1.0)\n"
     ]
    }
   ],
   "source": [
    "net.slice_dataset(100)"
   ]
  },
  {
   "cell_type": "code",
   "execution_count": 16,
   "metadata": {},
   "outputs": [
    {
     "name": "stdout",
     "output_type": "stream",
     "text": [
      "Training...\n",
      "Epoch 1/1\n",
      "100/100 [==============================] - 0s - loss: 0.3262 - acc: 0.9000\n",
      "========================================================================\n",
      "Epoch #    1 | train error 0.32624 | train accuracy 0.90000 | validate% 0.00000\n"
     ]
    }
   ],
   "source": [
    "net.train()"
   ]
  },
  {
   "cell_type": "code",
   "execution_count": 17,
   "metadata": {},
   "outputs": [
    {
     "data": {
      "application/javascript": [
       "\n",
       "require(['base/js/namespace'], function(Jupyter) {\n",
       "    Jupyter.notebook.kernel.comm_manager.register_target('conx_svg_control', function(comm, msg) {\n",
       "        comm.on_msg(function(msg) {\n",
       "            var data = msg[\"content\"][\"data\"];\n",
       "            var images = document.getElementsByClassName(data[\"class\"]);\n",
       "            for (var i = 0; i < images.length; i++) {\n",
       "                images[i].setAttributeNS(null, \"href\", data[\"href\"]);\n",
       "            }\n",
       "        });\n",
       "    });\n",
       "});\n"
      ],
      "text/plain": [
       "<IPython.core.display.Javascript object>"
      ]
     },
     "metadata": {},
     "output_type": "display_data"
    },
    {
     "data": {
      "application/vnd.jupyter.widget-view+json": {
       "model_id": "60bbe02b539449ec92a0ad74d70b7b54"
      }
     },
     "metadata": {},
     "output_type": "display_data"
    }
   ],
   "source": [
    "net.build_widget()"
   ]
  },
  {
   "cell_type": "code",
   "execution_count": 18,
   "metadata": {
    "collapsed": true
   },
   "outputs": [],
   "source": [
    "for i in range(10):\n",
    "    net.propagate(net.get_input(i))"
   ]
  },
  {
   "cell_type": "code",
   "execution_count": 21,
   "metadata": {},
   "outputs": [
    {
     "name": "stdout",
     "output_type": "stream",
     "text": [
      "Training...\n",
      "Epoch #    2 | train error 0.30300 | train accuracy 0.90200 | validate% 0.00000\n",
      "Epoch #    3 | train error 0.29061 | train accuracy 0.90000 | validate% 0.00000\n",
      "Epoch #    4 | train error 0.23864 | train accuracy 0.91000 | validate% 0.21000\n",
      "Epoch #    5 | train error 0.21296 | train accuracy 0.90800 | validate% 0.00000\n",
      "Epoch #    6 | train error 0.28020 | train accuracy 0.91800 | validate% 0.00000\n",
      "Epoch #    7 | train error 0.20783 | train accuracy 0.93200 | validate% 0.15000\n",
      "Epoch #    8 | train error 0.15654 | train accuracy 0.93800 | validate% 0.16000\n",
      "Epoch #    9 | train error 0.10267 | train accuracy 0.96200 | validate% 0.35000\n",
      "Epoch #   10 | train error 0.07205 | train accuracy 0.98000 | validate% 0.33000\n",
      "Epoch #   11 | train error 0.07664 | train accuracy 0.97600 | validate% 0.50000\n",
      "Epoch #   12 | train error 0.09073 | train accuracy 0.96900 | validate% 0.52000\n",
      "Epoch #   13 | train error 0.06328 | train accuracy 0.98200 | validate% 0.60000\n",
      "Epoch #   14 | train error 0.05733 | train accuracy 0.97800 | validate% 0.53000\n",
      "Epoch #   15 | train error 0.05129 | train accuracy 0.97900 | validate% 0.66000\n",
      "Epoch #   16 | train error 0.05479 | train accuracy 0.98300 | validate% 0.68000\n",
      "Epoch #   17 | train error 0.02686 | train accuracy 0.99400 | validate% 0.76000\n",
      "========================================================================\n",
      "Epoch #   17 | train error 0.02686 | train accuracy 0.99400 | validate% 0.76000\n"
     ]
    }
   ],
   "source": [
    "net.train(epochs=100, accuracy=.7)"
   ]
  },
  {
   "cell_type": "code",
   "execution_count": null,
   "metadata": {
    "collapsed": true
   },
   "outputs": [],
   "source": []
  }
 ],
 "metadata": {
  "kernelspec": {
   "display_name": "Python 3",
   "language": "python",
   "name": "python3"
  },
  "language_info": {
   "codemirror_mode": {
    "name": "ipython",
    "version": 3
   },
   "file_extension": ".py",
   "mimetype": "text/x-python",
   "name": "python",
   "nbconvert_exporter": "python",
   "pygments_lexer": "ipython3",
   "version": "3.5.3"
  },
  "widgets": {
   "application/vnd.jupyter.widget-state+json": {
    "state": {
     "042dd364b19041a4bcc7ddf1982cc764": {
      "model_module": "jupyter-js-widgets",
      "model_module_version": "~2.1.4",
      "model_name": "LayoutModel",
      "state": {
       "_model_module_version": "~2.1.4",
       "_view_module_version": "~2.1.4"
      }
     },
     "0a2bb0c90eb3482a9b78ab4b679028e0": {
      "model_module": "jupyter-js-widgets",
      "model_module_version": "~2.1.4",
      "model_name": "ButtonModel",
      "state": {
       "_model_module_version": "~2.1.4",
       "_view_module_version": "~2.1.4",
       "icon": "backward",
       "layout": "IPY_MODEL_0ed1c8cfdc944d59ad28b399f6235f5c",
       "style": "IPY_MODEL_9c24adba59634de09d92e80a9f419407"
      }
     },
     "0c4e9ba42a644f65b6e19894cfbe2e66": {
      "model_module": "jupyter-js-widgets",
      "model_module_version": "~2.1.4",
      "model_name": "ButtonStyleModel",
      "state": {
       "_model_module_version": "~2.1.4",
       "_view_module_version": "~2.1.4"
      }
     },
     "0e6eac31205647b0bda7761b50a0e1b3": {
      "model_module": "jupyter-js-widgets",
      "model_module_version": "~2.1.4",
      "model_name": "LayoutModel",
      "state": {
       "_model_module_version": "~2.1.4",
       "_view_module_version": "~2.1.4",
       "height": "100%",
       "max_height": "550px",
       "overflow_x": "auto",
       "width": "100%"
      }
     },
     "0ed1c8cfdc944d59ad28b399f6235f5c": {
      "model_module": "jupyter-js-widgets",
      "model_module_version": "~2.1.4",
      "model_name": "LayoutModel",
      "state": {
       "_model_module_version": "~2.1.4",
       "_view_module_version": "~2.1.4",
       "width": "100%"
      }
     },
     "0f9cd579d3574ded81dfd1f3137fc8ad": {
      "model_module": "jupyter-js-widgets",
      "model_module_version": "~2.1.4",
      "model_name": "LayoutModel",
      "state": {
       "_model_module_version": "~2.1.4",
       "_view_module_version": "~2.1.4"
      }
     },
     "1a0c2db786eb4e6faf2a9043d20e4fc6": {
      "model_module": "jupyter-js-widgets",
      "model_module_version": "~2.1.4",
      "model_name": "ButtonStyleModel",
      "state": {
       "_model_module_version": "~2.1.4",
       "_view_module_version": "~2.1.4"
      }
     },
     "1abe7944718344f28c5bdb31381d5ca4": {
      "model_module": "jupyter-js-widgets",
      "model_module_version": "~2.1.4",
      "model_name": "LayoutModel",
      "state": {
       "_model_module_version": "~2.1.4",
       "_view_module_version": "~2.1.4",
       "width": "100%"
      }
     },
     "1bca7375ec994fb9ae3499686777a17e": {
      "model_module": "jupyter-js-widgets",
      "model_module_version": "~2.1.4",
      "model_name": "ButtonModel",
      "state": {
       "_model_module_version": "~2.1.4",
       "_view_module_version": "~2.1.4",
       "icon": "fast-backward",
       "layout": "IPY_MODEL_b583f6367c4a4d8c94902672f7093da0",
       "style": "IPY_MODEL_daf148083f8246e99c36b2d23680697a"
      }
     },
     "1ed11647e1fc4c84864dda1e274f8d16": {
      "model_module": "jupyter-js-widgets",
      "model_module_version": "~2.1.4",
      "model_name": "LayoutModel",
      "state": {
       "_model_module_version": "~2.1.4",
       "_view_module_version": "~2.1.4",
       "width": "100%"
      }
     },
     "21f1699f65be4725a4dd9e85b3e92a1c": {
      "model_module": "jupyter-js-widgets",
      "model_module_version": "~2.1.4",
      "model_name": "ButtonStyleModel",
      "state": {
       "_model_module_version": "~2.1.4",
       "_view_module_version": "~2.1.4"
      }
     },
     "26f13c6130b54f1b9b98c34450f7b0f7": {
      "model_module": "jupyter-js-widgets",
      "model_module_version": "~2.1.4",
      "model_name": "ButtonStyleModel",
      "state": {
       "_model_module_version": "~2.1.4",
       "_view_module_version": "~2.1.4"
      }
     },
     "2d6de903c11d4f76b02b6ec1867e6d28": {
      "model_module": "jupyter-js-widgets",
      "model_module_version": "~2.1.4",
      "model_name": "IntSliderModel",
      "state": {
       "_model_module_version": "~2.1.4",
       "_view_module_version": "~2.1.4",
       "continuous_update": false,
       "description": "Dataset index",
       "layout": "IPY_MODEL_1abe7944718344f28c5bdb31381d5ca4",
       "max": 99,
       "style": "IPY_MODEL_3b0fb83faad14bc0b64317f95782a49d"
      }
     },
     "34eb0c8ade2d477bb59df383f847cbe6": {
      "model_module": "jupyter-js-widgets",
      "model_module_version": "~2.1.4",
      "model_name": "ButtonStyleModel",
      "state": {
       "_model_module_version": "~2.1.4",
       "_view_module_version": "~2.1.4"
      }
     },
     "34ed38a189c14de4932ff76cca84636f": {
      "model_module": "jupyter-js-widgets",
      "model_module_version": "~2.1.4",
      "model_name": "LayoutModel",
      "state": {
       "_model_module_version": "~2.1.4",
       "_view_module_version": "~2.1.4",
       "width": "100%"
      }
     },
     "3b0fb83faad14bc0b64317f95782a49d": {
      "model_module": "jupyter-js-widgets",
      "model_module_version": "~2.1.4",
      "model_name": "SliderStyleModel",
      "state": {
       "_model_module_version": "~2.1.4",
       "_view_module_version": "~2.1.4"
      }
     },
     "3eaae9ce91a44fafae01c91cbe57f69e": {
      "model_module": "jupyter-js-widgets",
      "model_module_version": "~2.1.4",
      "model_name": "HTMLModel",
      "state": {
       "_model_module_version": "~2.1.4",
       "_view_module_version": "~2.1.4",
       "layout": "IPY_MODEL_0e6eac31205647b0bda7761b50a0e1b3",
       "value": "\n        <svg id='MNIST' xmlns='http://www.w3.org/2000/svg' width=\"350\" height=\"640\" image-rendering=\"pixelated\">\n    <defs>\n        <marker id=\"arrow\" markerWidth=\"10\" markerHeight=\"10\" refX=\"9\" refY=\"3\" orient=\"auto\" markerUnits=\"strokeWidth\">\n          <path d=\"M0,0 L0,6 L9,3 z\" fill=\"blue\" />\n        </marker>\n    </defs>\n<rect x=\"74.0\" y=\"24\" width=\"202\" height=\"27\" style=\"fill:none;stroke:blue;stroke-width:2\"/><image id=\"MNIST_output_targets_1\" class=\"MNIST_output_targets\" x=\"75.0\" y=\"25\" height=\"25\" width=\"200\" href=\"data:image/gif;base64,R0lGODdhCgABAIMAABERERMTExQUFBUVFRYWFhgYGBwcHB4eHh8fHyUlJQAAAAAAAAAAAAAAAAAAAAAAACwAAAAACgABAAAIDgAFDAiAwACBBAUOAAgIADs=\"><title>Layer: output (output)\n shape = (10,)\n Keras class = Dense\n activation = softmax</title></image><text x=\"280.0\" y=\"39.5\" font-family=\"monospace\" font-size=\"12\">targets</text><rect x=\"74.0\" y=\"59\" width=\"202\" height=\"27\" style=\"fill:none;stroke:blue;stroke-width:2\"/><image id=\"MNIST_output_errors_1\" class=\"MNIST_output_errors\" x=\"75.0\" y=\"60\" height=\"25\" width=\"200\" href=\"data:image/gif;base64,R0lGODdhCgABAIMAABERERMTExQUFBUVFRYWFhgYGBwcHB4eHh8fHyUlJQAAAAAAAAAAAAAAAAAAAAAAACwAAAAACgABAAAIDgAFDAiAwACBBAUOAAgIADs=\"><title>Layer: output (output)\n shape = (10,)\n Keras class = Dense\n activation = softmax</title></image><text x=\"280.0\" y=\"74.5\" font-family=\"monospace\" font-size=\"12\">errors</text><rect x=\"74.0\" y=\"99\" width=\"202\" height=\"27\" style=\"fill:none;stroke:blue;stroke-width:2\"/><image id=\"MNIST_output_1\" class=\"MNIST_output\" x=\"75.0\" y=\"100\" height=\"25\" width=\"200\" href=\"data:image/gif;base64,R0lGODdhCgABAIMAABERERMTExQUFBUVFRYWFhgYGBwcHB4eHh8fHyUlJQAAAAAAAAAAAAAAAAAAAAAAACwAAAAACgABAAAIDgAFDAiAwACBBAUOAAgIADs=\"><title>Layer: output (output)\n shape = (10,)\n Keras class = Dense\n activation = softmax</title></image><text x=\"280.0\" y=\"114.5\" font-family=\"monospace\" font-size=\"12\">output</text><rect x=\"165.0\" y=\"127\" width=\"20.0\" height=\"27\" style=\"fill:white;stroke:none\"><title>Weights from hidden2 to output\n output/kernel has shape (512, 10)\n output/bias has shape (10,)</title></rect><line x1=\"175.0\" y1=\"154\" x2=\"175.0\" y2=\"127\" stroke=\"blue\" stroke-width=\"2\" marker-end=\"url(#arrow)\"><title>Weights from hidden2 to output\n output/kernel has shape (512, 10)\n output/bias has shape (10,)</title></line><rect x=\"74.0\" y=\"154\" width=\"202\" height=\"102\" style=\"fill:none;stroke:blue;stroke-width:2\"/><image id=\"MNIST_hidden2_2\" class=\"MNIST_hidden2\" x=\"75.0\" y=\"155\" height=\"100\" width=\"200\" href=\"data:image/gif;base64,R0lGODdhIAAQAIYAAAAAAAICAgMDAwQEBAUFBQYGBgcHBwgICAkJCQsLCwwMDA0NDQ4ODg8PDxAQEBERERMTExQUFBUVFRYWFhcXFxgYGBkZGRoaGhsbGx0dHR4eHh8fHyAgICEhISMjIyQkJCUlJSYmJicnJykpKSoqKisrKywsLC0tLS4uLi8vLzAwMDExMTIyMjMzMzQ0NDU1NTY2Njc3Nzk5OTo6Ojs7Oz09PT4+Pj8/P0BAQEJCQkNDQ0RERElJSUpKSktLS0xMTE1NTU5OTk9PT1BQUFFRUVRUVFVVVVZWVldXV1xcXF5eXl9fX2BgYGFhYWJiYmRkZGVlZWdnZ2hoaGpqamtra2xsbG5ubm9vb3BwcHFxcXJycnR0dHV1dXh4eHp6ent7e319fX9/f4ODg4aGhoeHh4iIiImJiYqKioyMjI2NjY6Ojo+Pj5CQkJKSkpOTk5WVlZaWlpeXl5mZmZqampycnKCgoKSkpKqqqrW1tcbGxtDQ0Ozs7O/v7////wAAAAAAACwAAAAAIAAQAEAI/wABAKihwAgAAC0AKEzxBYBDAEQASAwAoKIEABgvANg4BUAYDUcAAIgA4EIZEADQAACwA4BLlxfi8GiDAECdMm8WeADAE8AGAEAB5AHQA8ABAEiTIn0BAMCICl6oAJiqBYBVBTUAQADAFYALODMAMAEQA4AWAE8AqC3RwMWDFkSOAABwAoBdMAAAbGkAoO8OECo89AFgBoAKAREy7AAwQwQAADfGAJgMIAWAywMGAGBQAQAACxaE5ACgAkAKAAAkLACQhAUWALABTAAAwEEXN3MAIACyB4BvADEAsIGRosISJRYAfADA/ACYJgA66JACQEMFAE6WAIDwAkANAAEA6P8AAMAOHwAoAASYAOBGBChnANgAEwYCAAACHAAQA6D/GoACAAxMI+MMgB1QAHzgAiDBiyIAhCQAkAIABQIsSqDYAQDDBwAhQ3IYASUEkx0bAKxcSYILAABIfAAYAwCAHhUAaHQYkaCKhQYAAFgAAMACjQYAlC4lA8DpAQAuAAAI4KIAgBlZMgBIAiAKALANAKAAQCUDgDcgAGTAYwLAWxsA7AAA8GMFAAMAAOwA0Nfv3yZXAFwAAACOBhEAANwB0DjDiQg1AEwGYAVAETJIAAAAAgAAAgBqAADIAQDAFBwAhgBgzdrIDAADAPwAIAKAETkAAHgBQKcDAABZgqgAQCQQwxgmAAAMANC8hBAAAOAEBAA7\"><title>Layer: hidden2 (hidden)\n shape = (512,)\n dropout = 0.2\n Keras class = Dense\n activation = relu</title></image><text x=\"280.0\" y=\"207.0\" font-family=\"monospace\" font-size=\"12\">hidden2</text><rect x=\"165.0\" y=\"257\" width=\"20.0\" height=\"27\" style=\"fill:white;stroke:none\"><title>Weights from hidden1 to hidden2\n hidden2/kernel has shape (512, 512)\n hidden2/bias has shape (512,)</title></rect><line x1=\"175.0\" y1=\"284\" x2=\"175.0\" y2=\"257\" stroke=\"blue\" stroke-width=\"2\" marker-end=\"url(#arrow)\"><title>Weights from hidden1 to hidden2\n hidden2/kernel has shape (512, 512)\n hidden2/bias has shape (512,)</title></line><rect x=\"74.0\" y=\"284\" width=\"202\" height=\"102\" style=\"fill:none;stroke:blue;stroke-width:2\"/><image id=\"MNIST_hidden1_3\" class=\"MNIST_hidden1\" x=\"75.0\" y=\"285\" height=\"100\" width=\"200\" href=\"data:image/gif;base64,R0lGODdhIAAQAIcAAAAAAAEBAQICAgMDAwQEBAUFBQYGBgcHBwgICAkJCQoKCgsLCwwMDA0NDQ4ODg8PDxAQEBERERISEhMTExQUFBUVFRYWFhcXFxgYGBkZGRoaGhsbGxwcHB0dHR4eHh8fHyAgICEhISIiIiMjIyQkJCUlJSYmJicnJygoKCkpKSoqKisrKywsLC0tLS4uLi8vLzAwMDExMTIyMjMzMzQ0NDU1NTY2Njc3Nzg4ODk5OTo6Ojs7Ozw8PD09PT4+Pj8/P0BAQEFBQUJCQkNDQ0REREVFRUZGRkdHR0hISElJSUpKSktLS0xMTE1NTU5OTk9PT1BQUFFRUVJSUlNTU1RUVFVVVVZWVldXV1hYWFlZWVpaWltbW1xcXF1dXV5eXl9fX2BgYGFhYWJiYmNjY2RkZGVlZWZmZmdnZ2hoaGlpaWpqamtra2xsbG1tbW5ubm9vb3BwcHFxcXJycnNzc3R0dHV1dXZ2dnd3d3h4eHl5eXp6ent7e3x8fH19fX5+fn9/f4CAgIGBgYKCgoODg4SEhIWFhYaGhoeHh4iIiImJiYqKiouLi4yMjI2NjY6Ojo+Pj5CQkJGRkZKSkpOTk5SUlJWVlZaWlpeXl5iYmJmZmZqampubm5ycnJ2dnZ6enp+fn6CgoKGhoaKioqOjo6SkpKWlpaampqenp6ioqKmpqaqqqqurq6ysrK2tra6urq+vr7CwsLGxsbKysrOzs7S0tLW1tba2tre3t7i4uLm5ubq6uru7u7y8vL29vb6+vr+/v8DAwMHBwcLCwsPDw8TExMXFxcbGxsfHx8jIyMnJycrKysvLy8zMzM3Nzc7Ozs/Pz9DQ0NHR0dLS0tPT09TU1NXV1dbW1tfX19jY2NnZ2dra2tvb29zc3N3d3d7e3t/f3+Dg4OHh4eLi4uPj4+Tk5OXl5ebm5ufn5+jo6Onp6erq6uvr6+zs7O3t7e7u7u/v7/Dw8PHx8fLy8vPz8/T09PX19fb29vf39/j4+Pn5+fr6+vv7+/z8/P39/f7+/v///ywAAAAAIAAQAEAI/wABpAAwYAeXE4RkAACgRgAASQAA6BiXwgYVAJIA9IkFwAWAD14uBAAAwAYAABsAACAEoOUNFqj0dAAAxAKAmzjn0HACIEMmACAuAaiiAgAAEwAwAFgDoOkTAFBlcFOUBECGFwDaANABAAAiAFIAAIgEAAAkTQDGtAHAaAgANQAUOQFA94gQAHjzHgAAwA6AGKYACAZwLAIAGwCSAADjI0WTFg9mqQAAwEakUgAAQMEABQCAJgBCA8BGA4CTAAACmHACoPWVGp2wAJgNBYAIAHSYAACgiQkjJFwAFAMAoNEgAAB8BAAgIQIAIgAAEAFAHUAfAEYAfAAwQgQYANOekP9AwotIi00A0qfvAgBIHAB01vQBcKUOAABTAMgAA6D/CoAABN4AUDAWgGoAAhwB0DADAClVtABY4oCGih44uAAgQ4UBgFtpAIxMBSDFhkIAAOQBkAbABQAxZQJQU6FUEgAiAOwEIKRFBAAAkhBRMiqMgzAAJABgypQNgB8AViwxAQAAFAByAADg4ABAEAAqDCgZAcCsWSUYAKxlAcBtGTIAFNwA4AEJgGcAOqAA0LevBAEiAAAYA2AYAMQCAFgC8AuAigUAIjwBsAgAJgA5ABgCAGDOEwBvGgAAcA6AHwAAlBzJlgaACgAmTmxAAwABANy5/wF4AcC3B1FnAAAQAAAYAAECAJQDOCEIgAEAOABkAFDdzggAVwICADs=\"><title>Layer: hidden1 (hidden)\n shape = (512,)\n dropout = 0.2\n Keras class = Dense\n activation = relu</title></image><text x=\"280.0\" y=\"337.0\" font-family=\"monospace\" font-size=\"12\">hidden1</text><rect x=\"165.0\" y=\"387\" width=\"20.0\" height=\"27\" style=\"fill:white;stroke:none\"><title>Weights from input to hidden1\n hidden1/kernel has shape (784, 512)\n hidden1/bias has shape (512,)</title></rect><line x1=\"175.0\" y1=\"414\" x2=\"175.0\" y2=\"387\" stroke=\"blue\" stroke-width=\"2\" marker-end=\"url(#arrow)\"><title>Weights from input to hidden1\n hidden1/kernel has shape (784, 512)\n hidden1/bias has shape (512,)</title></line><rect x=\"74.0\" y=\"414\" width=\"202\" height=\"202\" style=\"fill:none;stroke:blue;stroke-width:2\"/><image id=\"MNIST_input_4\" class=\"MNIST_input\" x=\"75.0\" y=\"415\" height=\"200\" width=\"200\" href=\"data:image/gif;base64,R0lGODdhHAAcAIcAAAoAAP//9jAAAP/8DP//z00AANcAAPMAAG4AAI0AAP+aAP9nAP/MAP//jbMAAP9yAP/pAP//T///c/8lAP9XAP+qAP//Mv82AP9EAP+/AP/WAP//vAAAAAAAAAAAAAAAAAAAAAAAAAAAAAAAAAAAAAAAAAAAAAAAAAAAAAAAAAAAAAAAAAAAAAAAAAAAAAAAAAAAAAAAAAAAAAAAAAAAAAAAAAAAAAAAAAAAAAAAAAAAAAAAAAAAAAAAAAAAAAAAAAAAAAAAAAAAAAAAAAAAAAAAAAAAAAAAAAAAAAAAAAAAAAAAAAAAAAAAAAAAAAAAAAAAAAAAAAAAAAAAAAAAAAAAAAAAAAAAAAAAAAAAAAAAAAAAAAAAAAAAAAAAAAAAAAAAAAAAAAAAAAAAAAAAAAAAAAAAAAAAAAAAAAAAAAAAAAAAAAAAAAAAAAAAAAAAAAAAAAAAAAAAAAAAAAAAAAAAAAAAAAAAAAAAAAAAAAAAAAAAAAAAAAAAAAAAAAAAAAAAAAAAAAAAAAAAAAAAAAAAAAAAAAAAAAAAAAAAAAAAAAAAAAAAAAAAAAAAAAAAAAAAAAAAAAAAAAAAAAAAAAAAAAAAAAAAAAAAAAAAAAAAAAAAAAAAAAAAAAAAAAAAAAAAAAAAAAAAAAAAAAAAAAAAAAAAAAAAAAAAAAAAAAAAAAAAAAAAAAAAAAAAAAAAAAAAAAAAAAAAAAAAAAAAAAAAAAAAAAAAAAAAAAAAAAAAAAAAAAAAAAAAAAAAAAAAAAAAAAAAAAAAAAAAAAAAAAAAAAAAAAAAAAAAAAAAAAAAAAAAAAAAAAAAAAAAAAAAAAAAAAAAAAAAAAAAAAAAAAAAAAAAAAAAAAAAAAAAAAAAAAAAAAAAAAAAAAAAAAAAAAAAAAAAAAAAAAAAAAAAAAAAAAAAAAAAAAAAAAAAAAAAAAAAAAAAAAAAAAAAAAAAAAAAAAAAAAAAAAAAAAAAAAAAAAAAAAAAAAAAAAAAAAAAAAAAAAAAAAAAAAAAAAAAACwAAAAAHAAcAEAI/wABCBxIsKDBgwcFSAjAkOEACAQIAJhIsaLFixUFHAgQYACAjyBDfnwQoGSEBQsEAFjJsqXLlzBjypwpYEAAAwBy6tzJs2fOAhckBBgawIIBAEiTKl3KtKnTpwUQHFDAIIBVqw0YBCAwwAGAr2DDghUAQEGAAwDSql3Ltm1bAwQCBMBQAIDdu3jz6rWbYAGEAAEiABhMuHBhAQwkBFgcYIABAQAiS55MubLly5gza97MufNkAaApPNBQIEMAAhQAqF7NGkCCDQFiy5Z9oHYCBABy696t20CFCQECWBAAAIECAMiTK1/O/EGAAQCiS59OvTp1BAQaVJgAoLv37+DDf1FPMCBAAAUFAKhfz769e/YB4jsAQL++/fv2EShoEKB/AIAQAAwkWNAggAIOIgRgGGCAAQARJU6kmIBBgwAZAxBYIADAR5AhRY4kWdLkSZQhAwIAOw==\"><title>Layer: input (input)\n shape = (784,)\n Keras class = Input</title></image><text x=\"280.0\" y=\"517.0\" font-family=\"monospace\" font-size=\"12\">input</text></svg>"
      }
     },
     "4a49de2da86a4985988f19ba05268ac4": {
      "model_module": "jupyter-js-widgets",
      "model_module_version": "~2.1.4",
      "model_name": "ButtonModel",
      "state": {
       "_model_module_version": "~2.1.4",
       "_view_module_version": "~2.1.4",
       "description": "Train",
       "layout": "IPY_MODEL_34ed38a189c14de4932ff76cca84636f",
       "style": "IPY_MODEL_d900c77b0d9a439694477e5b193d8d34"
      }
     },
     "52510cc1965e40b9841b84fdcd9e129e": {
      "model_module": "jupyter-js-widgets",
      "model_module_version": "~2.1.4",
      "model_name": "LayoutModel",
      "state": {
       "_model_module_version": "~2.1.4",
       "_view_module_version": "~2.1.4",
       "width": "100%"
      }
     },
     "562140969f0a479a99e7ccab476e12b8": {
      "model_module": "jupyter-js-widgets",
      "model_module_version": "~2.1.4",
      "model_name": "LayoutModel",
      "state": {
       "_model_module_version": "~2.1.4",
       "_view_module_version": "~2.1.4",
       "width": "100%"
      }
     },
     "58dc12eff9614d9c9405855a5d32247d": {
      "model_module": "jupyter-js-widgets",
      "model_module_version": "~2.1.4",
      "model_name": "ButtonModel",
      "state": {
       "_model_module_version": "~2.1.4",
       "_view_module_version": "~2.1.4",
       "icon": "fast-forward",
       "layout": "IPY_MODEL_dd1e0a8f9cbf4824a767713fb5c9b6ef",
       "style": "IPY_MODEL_21f1699f65be4725a4dd9e85b3e92a1c"
      }
     },
     "5bfbae6045374639a1c8a1ab506e9f86": {
      "model_module": "jupyter-js-widgets",
      "model_module_version": "~2.1.4",
      "model_name": "LayoutModel",
      "state": {
       "_model_module_version": "~2.1.4",
       "_view_module_version": "~2.1.4",
       "width": "100%"
      }
     },
     "5cd0288104d94590a6a91fa372f7ea2f": {
      "model_module": "jupyter-js-widgets",
      "model_module_version": "~2.1.4",
      "model_name": "HTMLModel",
      "state": {
       "_model_module_version": "~2.1.4",
       "_view_module_version": "~2.1.4",
       "layout": "IPY_MODEL_dae78f18667244518dd50ee1e363908c",
       "value": "\n        <svg id='MNIST-CNN' xmlns='http://www.w3.org/2000/svg' width=\"650\" height=\"1342\" image-rendering=\"pixelated\">\n    <defs>\n        <marker id=\"arrow\" markerWidth=\"10\" markerHeight=\"10\" refX=\"9\" refY=\"3\" orient=\"auto\" markerUnits=\"strokeWidth\">\n          <path d=\"M0,0 L0,6 L9,3 z\" fill=\"blue\" />\n        </marker>\n    </defs>\n<rect x=\"224.0\" y=\"24\" width=\"202\" height=\"27\" style=\"fill:none;stroke:blue;stroke-width:2\"/><image id=\"MNIST-CNN_output_targets_1\" class=\"MNIST-CNN_output_targets\" x=\"225.0\" y=\"25\" height=\"25\" width=\"200\" href=\"data:image/gif;base64,R0lGODdhCgABAIMAAAAAAAEBAQgICAkJCQoKCg0NDRQUFBoaGo2NjQAAAAAAAAAAAAAAAAAAAAAAAAAAACwAAAAACgABAAAIDgARHAhgoAAAAwQGCAgIADs=\"><title>Layer: output (output)\n shape = (10,)\n Keras class = Dense\n activation = softmax</title></image><text x=\"430.0\" y=\"39.5\" font-family=\"monospace\" font-size=\"12\">targets</text><rect x=\"224.0\" y=\"59\" width=\"202\" height=\"27\" style=\"fill:none;stroke:blue;stroke-width:2\"/><image id=\"MNIST-CNN_output_errors_1\" class=\"MNIST-CNN_output_errors\" x=\"225.0\" y=\"60\" height=\"25\" width=\"200\" href=\"data:image/gif;base64,R0lGODdhCgABAIMAAAAAAAEBAQgICAkJCQoKCg0NDRQUFBoaGo2NjQAAAAAAAAAAAAAAAAAAAAAAAAAAACwAAAAACgABAAAIDgARHAhgoAAAAwQGCAgIADs=\"><title>Layer: output (output)\n shape = (10,)\n Keras class = Dense\n activation = softmax</title></image><text x=\"430.0\" y=\"74.5\" font-family=\"monospace\" font-size=\"12\">errors</text><rect x=\"224.0\" y=\"99\" width=\"202\" height=\"27\" style=\"fill:none;stroke:blue;stroke-width:2\"/><image id=\"MNIST-CNN_output_1\" class=\"MNIST-CNN_output\" x=\"225.0\" y=\"100\" height=\"25\" width=\"200\" href=\"data:image/gif;base64,R0lGODdhCgABAIMAAAAAAAEBAQgICAkJCQoKCg0NDRQUFBoaGo2NjQAAAAAAAAAAAAAAAAAAAAAAAAAAACwAAAAACgABAAAIDgARHAhgoAAAAwQGCAgIADs=\"><title>Layer: output (output)\n shape = (10,)\n Keras class = Dense\n activation = softmax</title></image><text x=\"430.0\" y=\"114.5\" font-family=\"monospace\" font-size=\"12\">output</text><rect x=\"315.0\" y=\"127\" width=\"20.0\" height=\"27\" style=\"fill:white;stroke:none\"><title>Weights from hidden to output\n output/kernel has shape (1000, 10)\n output/bias has shape (10,)</title></rect><line x1=\"325.0\" y1=\"154\" x2=\"325.0\" y2=\"127\" stroke=\"blue\" stroke-width=\"2\" marker-end=\"url(#arrow)\"><title>Weights from hidden to output\n output/kernel has shape (1000, 10)\n output/bias has shape (10,)</title></line><rect x=\"74.0\" y=\"154\" width=\"502\" height=\"34\" style=\"fill:none;stroke:blue;stroke-width:2\"/><image id=\"MNIST-CNN_hidden_2\" class=\"MNIST-CNN_hidden\" x=\"75.0\" y=\"155\" height=\"32\" width=\"500\" href=\"data:image/gif;base64,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\"><title>Layer: hidden (hidden)\n shape = (1000,)\n Keras class = Dense\n activation = relu</title></image><text x=\"580.0\" y=\"173.0\" font-family=\"monospace\" font-size=\"12\">hidden</text><rect x=\"224.0\" y=\"196\" width=\"202\" height=\"202\" style=\"fill:none;stroke:blue;stroke-width:2\"/><image id=\"MNIST-CNN_maxpool2_3\" class=\"MNIST-CNN_maxpool2\" x=\"225.0\" y=\"197\" height=\"200\" width=\"200\" href=\"data:image/gif;base64,R0lGODdhBAAEAIAAAH9/f4CAgCwAAAAABAAEAAAICQADABhIsKDBgAA7\"><title>Layer: maxpool2 (hidden)\n Keras class = MaxPooling2D</title></image><text x=\"430.0\" y=\"299.0\" font-family=\"monospace\" font-size=\"12\">maxpool2</text><rect x=\"315.0\" y=\"399\" width=\"20.0\" height=\"27\" style=\"fill:white;stroke:none\"><title>Weights from Conv2D-2 to maxpool2</title></rect><line x1=\"325.0\" y1=\"426\" x2=\"325.0\" y2=\"399\" stroke=\"blue\" stroke-width=\"2\" marker-end=\"url(#arrow)\"><title>Weights from Conv2D-2 to maxpool2</title></line><rect x=\"224.0\" y=\"426\" width=\"202\" height=\"202\" style=\"fill:none;stroke:blue;stroke-width:2\"/><image id=\"MNIST-CNN_Conv2D-2_4\" class=\"MNIST-CNN_Conv2D-2\" x=\"225.0\" y=\"427\" height=\"200\" width=\"200\" href=\"data:image/gif;base64,R0lGODdhCAAIAIEAAAAAAA4ODv///wAAACwAAAAACAAIAAAIGQABCBwoUACAgwgBBADAsKHDhxAjSpzIMCAAOw==\"><title>Layer: Conv2D-2 (hidden)\n Keras class = Conv2D\n activation = relu</title></image><text x=\"430.0\" y=\"529.0\" font-family=\"monospace\" font-size=\"12\">Conv2D-2</text><rect x=\"315.0\" y=\"629\" width=\"20.0\" height=\"27\" style=\"fill:white;stroke:none\"><title>Weights from maxpool1 to Conv2D-2\n Conv2D-2/kernel has shape (5, 5, 16, 132)\n Conv2D-2/bias has shape (132,)</title></rect><line x1=\"325.0\" y1=\"656\" x2=\"325.0\" y2=\"629\" stroke=\"blue\" stroke-width=\"2\" marker-end=\"url(#arrow)\"><title>Weights from maxpool1 to Conv2D-2\n Conv2D-2/kernel has shape (5, 5, 16, 132)\n Conv2D-2/bias has shape (132,)</title></line><rect x=\"224.0\" y=\"656\" width=\"202\" height=\"202\" style=\"fill:none;stroke:blue;stroke-width:2\"/><image id=\"MNIST-CNN_maxpool1_5\" class=\"MNIST-CNN_maxpool1\" x=\"225.0\" y=\"657\" height=\"200\" width=\"200\" href=\"data:image/gif;base64,R0lGODdhDAAMAIUAAH9/f4CAgIGBgYKCgoODg4SEhIWFhYaGhoeHh4mJiYqKiouLi4yMjI2NjY6Ojo+Pj5CQkJGRkZKSkpOTk5SUlJWVlZaWlpiYmJmZmZqampubm6GhoaKioqSkpKWlpampqaurq62trbCwsLGxsQAAAAAAAAAAAAAAAAAAAAAAAAAAAAAAAAAAAAAAAAAAAAAAAAAAAAAAAAAAAAAAAAAAAAAAAAAAAAAAAAAAAAAAAAAAAAAAAAAAAAAAAAAAAAAAACwAAAAADAAMAAAIkwABCBxoYECEAQgMABCwIMIECBEmKFgAoKIAChYSHGgAIIADBxAABFBgAQQGBxoyWHCwAACABw9EbLigIAKAmzgLPPAwAkAAAECDAoAAIUQHAgCSKgVwwAKHDxcASJU6YIGFCxocAEgwAAACBRgqYCAwIIKECAAAPJAQgQGACBMqPBgAAACBAhAwZJgAgQCAvwACAgA7\"><title>Layer: maxpool1 (hidden)\n Keras class = MaxPooling2D</title></image><text x=\"430.0\" y=\"759.0\" font-family=\"monospace\" font-size=\"12\">maxpool1</text><rect x=\"315.0\" y=\"859\" width=\"20.0\" height=\"27\" style=\"fill:white;stroke:none\"><title>Weights from Conv2D-1 to maxpool1</title></rect><line x1=\"325.0\" y1=\"886\" x2=\"325.0\" y2=\"859\" stroke=\"blue\" stroke-width=\"2\" marker-end=\"url(#arrow)\"><title>Weights from Conv2D-1 to maxpool1</title></line><rect x=\"224.0\" y=\"886\" width=\"202\" height=\"202\" style=\"fill:none;stroke:blue;stroke-width:2\"/><image id=\"MNIST-CNN_Conv2D-1_6\" class=\"MNIST-CNN_Conv2D-1\" x=\"225.0\" y=\"887\" height=\"200\" width=\"200\" href=\"data:image/gif;base64,R0lGODdhGAAYAIcAAAAAAAEBAQICAgMDAwQEBAUFBQYGBgcHBwgICAkJCQoKCgsLCwwMDA0NDQ4ODg8PDxAQEBERERISEhMTExQUFBUVFRYWFhcXFxgYGBkZGRoaGhsbGxwcHB0dHR4eHh8fHyAgICEhISIiIiMjIyQkJCUlJSYmJicnJygoKCkpKSoqKisrKywsLC0tLS4uLi8vLzAwMDExMTIyMjMzMzQ0NDU1NTY2Njc3Nzg4ODk5OTo6Ojs7Ozw8PD09PT4+Pj8/P0BAQEFBQUJCQkNDQ0REREVFRUZGRkdHR0hISElJSUpKSktLS0xMTE1NTU5OTk9PT1BQUFFRUVJSUlNTU1RUVFVVVVZWVldXV1hYWFlZWVpaWltbW1xcXF1dXV5eXl9fX2BgYGFhYWJiYmNjY2RkZGVlZWZmZmdnZ2hoaGlpaWpqamtra2xsbG1tbW5ubm9vb3BwcHFxcXJycnNzc3R0dHV1dXZ2dnd3d3h4eHl5eXp6ent7e3x8fH19fX5+fn9/f4CAgIGBgYKCgoODg4SEhIWFhYaGhoeHh4iIiImJiYqKiouLi4yMjI2NjY6Ojo+Pj5CQkJGRkZKSkpOTk5SUlJWVlZaWlpeXl5iYmJmZmZqampubm5ycnJ2dnZ6enp+fn6CgoKGhoaKioqOjo6SkpKWlpaampqenp6ioqKmpqaqqqqurq6ysrK2tra6urq+vr7CwsLGxsbKysrOzs7S0tLW1tba2tre3t7i4uLm5ubq6uru7u7y8vL29vb6+vr+/v8DAwMHBwcLCwsPDw8TExMXFxcbGxsfHx8jIyMnJycrKysvLy8zMzM3Nzc7Ozs/Pz9DQ0NHR0dLS0tPT09TU1NXV1dbW1tfX19jY2NnZ2dra2tvb29zc3N3d3d7e3t/f3+Dg4OHh4eLi4uPj4+Tk5OXl5ebm5ufn5+jo6Onp6erq6uvr6+zs7O3t7e7u7u/v7/Dw8PHx8fLy8vPz8/T09PX19fb29vf39/j4+Pn5+fr6+vv7+/z8/P39/f7+/v///ywAAAAAGAAYAEAI/wABCBxIsKDBgySkgJBizF4cHEIA4XCgJQmAixgzXiSg4cUNKnwCLWKiAIBJAAQAqFyZgMuaK1JYyBAhIkkDADhz6tyZk4MVAgAYmcMCoKhRoyqkIPGixcYQAFChtgATB0yUHBAAaN261QABByAqzMgBQ0qWMi1yrNjhAoDbt24NIMgwp8wHEiIANGnUqIaTOVacMNHRAIDhwwIu6PBRBZgYAJABCABAubLlywiI0AlyBhG1PgBCixYtQMWJD1ngEMJCAYBr1wMudCECoLZtABlgaHjRZEqZLmSw3JAAoLjx48iNCwAA4MMFBwBccGmQgEGKDgCyA1jQI0WILWLKTN1p4qIDgAoTAABYAKC9+/YuxtipQwGAfQAZAOgnoCQCC4BMrIwAULAADBwW6nS7JUiHDhdVxCSSUqKDBAgHAGzciGDFCReNdKWqIQGACgEbRgBg2dJlywhOWlCQ9I8KAJw5de7MKYAFFQAMTPVCNAHAUaRJlSIIIUMLKliKxHCQAMDqVawEGrzQIcQOHygOCIQAUDYGjQYA1DIwIeLGmEFmingAUBdAgx1cwjzZogLAXwAOWFjhEgDAYQABbmghAwZKjggAJE8GwIACgwAmrvAppChMFSUfAIwmXRpAQAA7\"><title>Layer: Conv2D-1 (hidden)\n Keras class = Conv2D\n activation = relu</title></image><text x=\"430.0\" y=\"989.0\" font-family=\"monospace\" font-size=\"12\">Conv2D-1</text><rect x=\"315.0\" y=\"1089\" width=\"20.0\" height=\"27\" style=\"fill:white;stroke:none\"><title>Weights from input to Conv2D-1\n Conv2D-1/kernel has shape (5, 5, 1, 16)\n Conv2D-1/bias has shape (16,)</title></rect><line x1=\"325.0\" y1=\"1116\" x2=\"325.0\" y2=\"1089\" stroke=\"blue\" stroke-width=\"2\" marker-end=\"url(#arrow)\"><title>Weights from input to Conv2D-1\n Conv2D-1/kernel has shape (5, 5, 1, 16)\n Conv2D-1/bias has shape (16,)</title></line><rect x=\"224.0\" y=\"1116\" width=\"202\" height=\"202\" style=\"fill:none;stroke:blue;stroke-width:2\"/><image id=\"MNIST-CNN_input_7\" class=\"MNIST-CNN_input\" x=\"225.0\" y=\"1117\" height=\"200\" width=\"200\" href=\"data:image/gif;base64,R0lGODdhHAAcAIcAAAoAAP//9jAAAP/8DP//z00AANcAAPMAAG4AAI0AAP+aAP9nAP/MAP//jbMAAP9yAP/pAP//T///c/8lAP9XAP+qAP//Mv82AP9EAP+/AP/WAP//vAAAAAAAAAAAAAAAAAAAAAAAAAAAAAAAAAAAAAAAAAAAAAAAAAAAAAAAAAAAAAAAAAAAAAAAAAAAAAAAAAAAAAAAAAAAAAAAAAAAAAAAAAAAAAAAAAAAAAAAAAAAAAAAAAAAAAAAAAAAAAAAAAAAAAAAAAAAAAAAAAAAAAAAAAAAAAAAAAAAAAAAAAAAAAAAAAAAAAAAAAAAAAAAAAAAAAAAAAAAAAAAAAAAAAAAAAAAAAAAAAAAAAAAAAAAAAAAAAAAAAAAAAAAAAAAAAAAAAAAAAAAAAAAAAAAAAAAAAAAAAAAAAAAAAAAAAAAAAAAAAAAAAAAAAAAAAAAAAAAAAAAAAAAAAAAAAAAAAAAAAAAAAAAAAAAAAAAAAAAAAAAAAAAAAAAAAAAAAAAAAAAAAAAAAAAAAAAAAAAAAAAAAAAAAAAAAAAAAAAAAAAAAAAAAAAAAAAAAAAAAAAAAAAAAAAAAAAAAAAAAAAAAAAAAAAAAAAAAAAAAAAAAAAAAAAAAAAAAAAAAAAAAAAAAAAAAAAAAAAAAAAAAAAAAAAAAAAAAAAAAAAAAAAAAAAAAAAAAAAAAAAAAAAAAAAAAAAAAAAAAAAAAAAAAAAAAAAAAAAAAAAAAAAAAAAAAAAAAAAAAAAAAAAAAAAAAAAAAAAAAAAAAAAAAAAAAAAAAAAAAAAAAAAAAAAAAAAAAAAAAAAAAAAAAAAAAAAAAAAAAAAAAAAAAAAAAAAAAAAAAAAAAAAAAAAAAAAAAAAAAAAAAAAAAAAAAAAAAAAAAAAAAAAAAAAAAAAAAAAAAAAAAAAAAAAAAAAAAAAAAAAAAAAAAAAAAAAAAAAAAAAAAAAAAAAAAAAAAAAAAAAAAAAAAAAAAAAAAAAAAAAAAAAAAAAAAAAAAAAAAAAAAAAAAAAACwAAAAAHAAcAEAI/wABCBxIsKDBgwcFSAjAkOEACAQIAJhIsaLFixUFHAgQYACAjyBDfnwQoGSEBQsEAFjJsqXLlzBjypwpYEAAAwBy6tzJs2fOAhckBBgawIIBAEiTKl3KtKnTpwUQHFDAIIBVqw0YBCAwwAGAr2DDghUAQEGAAwDSql3Ltm1bAwQCBMBQAIDdu3jz6rWbYAGEAAEiABhMuHBhAQwkBFgcYIABAQAiS55MubLly5gza97MufNkAaApPNBQIEMAAhQAqF7NGkCCDQFiy5Z9oHYCBABy696t20CFCQECWBAAAIECAMiTK1/O/EGAAQCiS59OvTp1BAQaVJgAoLv37+DDf1FPMCBAAAUFAKhfz769e/YB4jsAQL++/fv2EShoEKB/AIAQAAwkWNAggAIOIgRgGGCAAQARJU6kmIBBgwAZAxBYIADAR5AhRY4kWdLkSZQhAwIAOw==\"><title>Layer: input (input)\n shape = (28, 28, 1)\n Keras class = Input</title></image><text x=\"430.0\" y=\"1219.0\" font-family=\"monospace\" font-size=\"12\">input</text></svg>"
      }
     },
     "5df66b16258f4afa923b46799eb8315a": {
      "model_module": "jupyter-js-widgets",
      "model_module_version": "~2.1.4",
      "model_name": "LayoutModel",
      "state": {
       "_model_module_version": "~2.1.4",
       "_view_module_version": "~2.1.4",
       "width": "100%"
      }
     },
     "60bbe02b539449ec92a0ad74d70b7b54": {
      "model_module": "jupyter-js-widgets",
      "model_module_version": "~2.1.4",
      "model_name": "VBoxModel",
      "state": {
       "_model_module_version": "~2.1.4",
       "_view_module_version": "~2.1.4",
       "children": [
        "IPY_MODEL_5cd0288104d94590a6a91fa372f7ea2f",
        "IPY_MODEL_e5058be714c84ec3a4af39c129c23c70"
       ],
       "layout": "IPY_MODEL_e26a690cb6e24a9e910e83e891a66007"
      }
     },
     "614e406d3f67432e90a368284aa54073": {
      "model_module": "jupyter-js-widgets",
      "model_module_version": "~2.1.4",
      "model_name": "ButtonModel",
      "state": {
       "_model_module_version": "~2.1.4",
       "_view_module_version": "~2.1.4",
       "icon": "fast-forward",
       "layout": "IPY_MODEL_e1d309d32c43412babb2d6697074cfa8",
       "style": "IPY_MODEL_c594ad2993f840eab2937d6a4a51f098"
      }
     },
     "62c58f91351a41308de3f095c942f011": {
      "model_module": "jupyter-js-widgets",
      "model_module_version": "~2.1.4",
      "model_name": "HBoxModel",
      "state": {
       "_model_module_version": "~2.1.4",
       "_view_module_version": "~2.1.4",
       "children": [
        "IPY_MODEL_7f779882209b4014a3b3964a0b19aad2",
        "IPY_MODEL_6d6df5c0c04347f1bfc17f95fa5a571f",
        "IPY_MODEL_dedb4d2b711142d88e553feca0455866",
        "IPY_MODEL_a141c8b03e1a41f1bbe73555a67918d8",
        "IPY_MODEL_58dc12eff9614d9c9405855a5d32247d"
       ],
       "layout": "IPY_MODEL_ea7798bd191947268be52d1c1fc35e21"
      }
     },
     "6c5ec54e72894d338fa7068633a3f734": {
      "model_module": "jupyter-js-widgets",
      "model_module_version": "~2.1.4",
      "model_name": "LayoutModel",
      "state": {
       "_model_module_version": "~2.1.4",
       "_view_module_version": "~2.1.4",
       "width": "100%"
      }
     },
     "6d6df5c0c04347f1bfc17f95fa5a571f": {
      "model_module": "jupyter-js-widgets",
      "model_module_version": "~2.1.4",
      "model_name": "ButtonModel",
      "state": {
       "_model_module_version": "~2.1.4",
       "_view_module_version": "~2.1.4",
       "icon": "backward",
       "layout": "IPY_MODEL_52510cc1965e40b9841b84fdcd9e129e",
       "style": "IPY_MODEL_1a0c2db786eb4e6faf2a9043d20e4fc6"
      }
     },
     "738f65074cc34f2c8cabeda7cec34e6a": {
      "model_module": "jupyter-js-widgets",
      "model_module_version": "~2.1.4",
      "model_name": "HBoxModel",
      "state": {
       "_model_module_version": "~2.1.4",
       "_view_module_version": "~2.1.4",
       "children": [
        "IPY_MODEL_1bca7375ec994fb9ae3499686777a17e",
        "IPY_MODEL_0a2bb0c90eb3482a9b78ab4b679028e0",
        "IPY_MODEL_4a49de2da86a4985988f19ba05268ac4",
        "IPY_MODEL_c2254d99b66340a3bb685d42cf33c352",
        "IPY_MODEL_614e406d3f67432e90a368284aa54073"
       ],
       "layout": "IPY_MODEL_cfe012ec9642466bbe31eeb46cdb254a"
      }
     },
     "740b06bd91f24f7aa7ba44fc9786ea70": {
      "model_module": "jupyter-js-widgets",
      "model_module_version": "~2.1.4",
      "model_name": "VBoxModel",
      "state": {
       "_model_module_version": "~2.1.4",
       "_view_module_version": "~2.1.4",
       "children": [
        "IPY_MODEL_df440b7040df4987b3da20f22d8341b0",
        "IPY_MODEL_cb9d0c6e73124784a9460012cf0a9f79",
        "IPY_MODEL_62c58f91351a41308de3f095c942f011"
       ],
       "layout": "IPY_MODEL_6c5ec54e72894d338fa7068633a3f734"
      }
     },
     "761b1e72c7264911a50a0ba7af48235d": {
      "model_module": "jupyter-js-widgets",
      "model_module_version": "~2.1.4",
      "model_name": "VBoxModel",
      "state": {
       "_model_module_version": "~2.1.4",
       "_view_module_version": "~2.1.4",
       "children": [
        "IPY_MODEL_3eaae9ce91a44fafae01c91cbe57f69e",
        "IPY_MODEL_740b06bd91f24f7aa7ba44fc9786ea70"
       ],
       "layout": "IPY_MODEL_5bfbae6045374639a1c8a1ab506e9f86"
      }
     },
     "7f779882209b4014a3b3964a0b19aad2": {
      "model_module": "jupyter-js-widgets",
      "model_module_version": "~2.1.4",
      "model_name": "ButtonModel",
      "state": {
       "_model_module_version": "~2.1.4",
       "_view_module_version": "~2.1.4",
       "icon": "fast-backward",
       "layout": "IPY_MODEL_562140969f0a479a99e7ccab476e12b8",
       "style": "IPY_MODEL_34eb0c8ade2d477bb59df383f847cbe6"
      }
     },
     "91d2011cef8645eead503307d10852e2": {
      "model_module": "jupyter-js-widgets",
      "model_module_version": "~2.1.4",
      "model_name": "LayoutModel",
      "state": {
       "_model_module_version": "~2.1.4",
       "_view_module_version": "~2.1.4",
       "width": "100%"
      }
     },
     "9c24adba59634de09d92e80a9f419407": {
      "model_module": "jupyter-js-widgets",
      "model_module_version": "~2.1.4",
      "model_name": "ButtonStyleModel",
      "state": {
       "_model_module_version": "~2.1.4",
       "_view_module_version": "~2.1.4"
      }
     },
     "9cb3a19da5a349f9bf19b94a3f2eae94": {
      "model_module": "jupyter-js-widgets",
      "model_module_version": "~2.1.4",
      "model_name": "LayoutModel",
      "state": {
       "_model_module_version": "~2.1.4",
       "_view_module_version": "~2.1.4",
       "width": "100%"
      }
     },
     "a141c8b03e1a41f1bbe73555a67918d8": {
      "model_module": "jupyter-js-widgets",
      "model_module_version": "~2.1.4",
      "model_name": "ButtonModel",
      "state": {
       "_model_module_version": "~2.1.4",
       "_view_module_version": "~2.1.4",
       "icon": "forward",
       "layout": "IPY_MODEL_9cb3a19da5a349f9bf19b94a3f2eae94",
       "style": "IPY_MODEL_feecf4a694684fbe829a53e6958bbc1c"
      }
     },
     "b583f6367c4a4d8c94902672f7093da0": {
      "model_module": "jupyter-js-widgets",
      "model_module_version": "~2.1.4",
      "model_name": "LayoutModel",
      "state": {
       "_model_module_version": "~2.1.4",
       "_view_module_version": "~2.1.4",
       "width": "100%"
      }
     },
     "c1f31413a0904882aa80b232e8901b0f": {
      "model_module": "jupyter-js-widgets",
      "model_module_version": "~2.1.4",
      "model_name": "LayoutModel",
      "state": {
       "_model_module_version": "~2.1.4",
       "_view_module_version": "~2.1.4",
       "width": "100%"
      }
     },
     "c2254d99b66340a3bb685d42cf33c352": {
      "model_module": "jupyter-js-widgets",
      "model_module_version": "~2.1.4",
      "model_name": "ButtonModel",
      "state": {
       "_model_module_version": "~2.1.4",
       "_view_module_version": "~2.1.4",
       "icon": "forward",
       "layout": "IPY_MODEL_1ed11647e1fc4c84864dda1e274f8d16",
       "style": "IPY_MODEL_26f13c6130b54f1b9b98c34450f7b0f7"
      }
     },
     "c594ad2993f840eab2937d6a4a51f098": {
      "model_module": "jupyter-js-widgets",
      "model_module_version": "~2.1.4",
      "model_name": "ButtonStyleModel",
      "state": {
       "_model_module_version": "~2.1.4",
       "_view_module_version": "~2.1.4"
      }
     },
     "cb23044d8134440ab45bb802d77d3efb": {
      "model_module": "jupyter-js-widgets",
      "model_module_version": "~2.1.4",
      "model_name": "SliderStyleModel",
      "state": {
       "_model_module_version": "~2.1.4",
       "_view_module_version": "~2.1.4"
      }
     },
     "cb9d0c6e73124784a9460012cf0a9f79": {
      "model_module": "jupyter-js-widgets",
      "model_module_version": "~2.1.4",
      "model_name": "IntSliderModel",
      "state": {
       "_model_module_version": "~2.1.4",
       "_view_module_version": "~2.1.4",
       "continuous_update": false,
       "description": "Dataset index",
       "layout": "IPY_MODEL_5df66b16258f4afa923b46799eb8315a",
       "max": 99,
       "style": "IPY_MODEL_cb23044d8134440ab45bb802d77d3efb"
      }
     },
     "cfe012ec9642466bbe31eeb46cdb254a": {
      "model_module": "jupyter-js-widgets",
      "model_module_version": "~2.1.4",
      "model_name": "LayoutModel",
      "state": {
       "_model_module_version": "~2.1.4",
       "_view_module_version": "~2.1.4",
       "width": "100%"
      }
     },
     "d900c77b0d9a439694477e5b193d8d34": {
      "model_module": "jupyter-js-widgets",
      "model_module_version": "~2.1.4",
      "model_name": "ButtonStyleModel",
      "state": {
       "_model_module_version": "~2.1.4",
       "_view_module_version": "~2.1.4"
      }
     },
     "dae78f18667244518dd50ee1e363908c": {
      "model_module": "jupyter-js-widgets",
      "model_module_version": "~2.1.4",
      "model_name": "LayoutModel",
      "state": {
       "_model_module_version": "~2.1.4",
       "_view_module_version": "~2.1.4",
       "height": "100%",
       "max_height": "550px",
       "overflow_x": "auto",
       "width": "100%"
      }
     },
     "daf148083f8246e99c36b2d23680697a": {
      "model_module": "jupyter-js-widgets",
      "model_module_version": "~2.1.4",
      "model_name": "ButtonStyleModel",
      "state": {
       "_model_module_version": "~2.1.4",
       "_view_module_version": "~2.1.4"
      }
     },
     "dd1e0a8f9cbf4824a767713fb5c9b6ef": {
      "model_module": "jupyter-js-widgets",
      "model_module_version": "~2.1.4",
      "model_name": "LayoutModel",
      "state": {
       "_model_module_version": "~2.1.4",
       "_view_module_version": "~2.1.4",
       "width": "100%"
      }
     },
     "dedb4d2b711142d88e553feca0455866": {
      "model_module": "jupyter-js-widgets",
      "model_module_version": "~2.1.4",
      "model_name": "ButtonModel",
      "state": {
       "_model_module_version": "~2.1.4",
       "_view_module_version": "~2.1.4",
       "description": "Train",
       "layout": "IPY_MODEL_91d2011cef8645eead503307d10852e2",
       "style": "IPY_MODEL_0c4e9ba42a644f65b6e19894cfbe2e66"
      }
     },
     "df440b7040df4987b3da20f22d8341b0": {
      "model_module": "jupyter-js-widgets",
      "model_module_version": "~2.1.4",
      "model_name": "SelectModel",
      "state": {
       "_model_module_version": "~2.1.4",
       "_options_labels": [
        "Test",
        "Train"
       ],
       "_view_module_version": "~2.1.4",
       "description": "Dataset:",
       "layout": "IPY_MODEL_0f9cd579d3574ded81dfd1f3137fc8ad",
       "value": "Train"
      }
     },
     "e1d309d32c43412babb2d6697074cfa8": {
      "model_module": "jupyter-js-widgets",
      "model_module_version": "~2.1.4",
      "model_name": "LayoutModel",
      "state": {
       "_model_module_version": "~2.1.4",
       "_view_module_version": "~2.1.4",
       "width": "100%"
      }
     },
     "e26a690cb6e24a9e910e83e891a66007": {
      "model_module": "jupyter-js-widgets",
      "model_module_version": "~2.1.4",
      "model_name": "LayoutModel",
      "state": {
       "_model_module_version": "~2.1.4",
       "_view_module_version": "~2.1.4",
       "width": "100%"
      }
     },
     "e5058be714c84ec3a4af39c129c23c70": {
      "model_module": "jupyter-js-widgets",
      "model_module_version": "~2.1.4",
      "model_name": "VBoxModel",
      "state": {
       "_model_module_version": "~2.1.4",
       "_view_module_version": "~2.1.4",
       "children": [
        "IPY_MODEL_f756efab0f4e4dc781c3529fa73c7ac7",
        "IPY_MODEL_2d6de903c11d4f76b02b6ec1867e6d28",
        "IPY_MODEL_738f65074cc34f2c8cabeda7cec34e6a"
       ],
       "layout": "IPY_MODEL_c1f31413a0904882aa80b232e8901b0f"
      }
     },
     "ea7798bd191947268be52d1c1fc35e21": {
      "model_module": "jupyter-js-widgets",
      "model_module_version": "~2.1.4",
      "model_name": "LayoutModel",
      "state": {
       "_model_module_version": "~2.1.4",
       "_view_module_version": "~2.1.4",
       "width": "100%"
      }
     },
     "f756efab0f4e4dc781c3529fa73c7ac7": {
      "model_module": "jupyter-js-widgets",
      "model_module_version": "~2.1.4",
      "model_name": "SelectModel",
      "state": {
       "_model_module_version": "~2.1.4",
       "_options_labels": [
        "Test",
        "Train"
       ],
       "_view_module_version": "~2.1.4",
       "description": "Dataset:",
       "layout": "IPY_MODEL_042dd364b19041a4bcc7ddf1982cc764",
       "value": "Train"
      }
     },
     "feecf4a694684fbe829a53e6958bbc1c": {
      "model_module": "jupyter-js-widgets",
      "model_module_version": "~2.1.4",
      "model_name": "ButtonStyleModel",
      "state": {
       "_model_module_version": "~2.1.4",
       "_view_module_version": "~2.1.4"
      }
     }
    },
    "version_major": 1,
    "version_minor": 0
   }
  }
 },
 "nbformat": 4,
 "nbformat_minor": 2
}
