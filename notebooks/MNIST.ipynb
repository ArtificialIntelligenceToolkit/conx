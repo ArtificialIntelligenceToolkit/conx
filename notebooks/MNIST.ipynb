{
 "cells": [
  {
   "cell_type": "code",
   "execution_count": 1,
   "metadata": {
    "collapsed": true
   },
   "outputs": [],
   "source": [
    "import sys\n",
    "sys.path.append(\"..\")"
   ]
  },
  {
   "cell_type": "code",
   "execution_count": 2,
   "metadata": {},
   "outputs": [
    {
     "name": "stderr",
     "output_type": "stream",
     "text": [
      "Using Theano backend.\n"
     ]
    }
   ],
   "source": [
    "from conx import Network, Layer"
   ]
  },
  {
   "cell_type": "code",
   "execution_count": 3,
   "metadata": {
    "collapsed": true
   },
   "outputs": [],
   "source": [
    "net = Network(\"MNIST\")\n",
    "net.add(Layer(\"input\", shape=784, vshape=(28, 28), colormap=\"hot\", minmax=(0,1)))\n",
    "net.add(Layer(\"hidden1\", shape=512, vshape=(16,32), activation='relu', dropout=0.2))\n",
    "net.add(Layer(\"hidden2\", shape=512, vshape=(16,32), activation='relu', dropout=0.2))\n",
    "net.add(Layer(\"output\", shape=10, activation='softmax'))\n",
    "\n",
    "net.connect('input', 'hidden1')\n",
    "net.connect('hidden1', 'hidden2')\n",
    "net.connect('hidden2', 'output')"
   ]
  },
  {
   "cell_type": "code",
   "execution_count": 4,
   "metadata": {},
   "outputs": [
    {
     "data": {
      "text/plain": [
       "<Network name='MNIST'>"
      ]
     },
     "execution_count": 4,
     "metadata": {},
     "output_type": "execute_result"
    }
   ],
   "source": [
    "net"
   ]
  },
  {
   "cell_type": "code",
   "execution_count": 5,
   "metadata": {
    "collapsed": true
   },
   "outputs": [],
   "source": [
    "net.compile(loss='mean_squared_error',\n",
    "            optimizer='sgd')"
   ]
  },
  {
   "cell_type": "code",
   "execution_count": 6,
   "metadata": {
    "collapsed": true
   },
   "outputs": [],
   "source": [
    "from keras.utils.vis_utils import model_to_dot\n",
    "from IPython.display import SVG"
   ]
  },
  {
   "cell_type": "code",
   "execution_count": 7,
   "metadata": {},
   "outputs": [
    {
     "data": {
      "image/svg+xml": [
       "<svg height=\"410pt\" viewBox=\"0.00 0.00 133.00 410.00\" width=\"133pt\" xmlns=\"http://www.w3.org/2000/svg\" xmlns:xlink=\"http://www.w3.org/1999/xlink\">\n",
       "<g class=\"graph\" id=\"graph0\" transform=\"scale(1 1) rotate(0) translate(4 406)\">\n",
       "<title>G</title>\n",
       "<polygon fill=\"white\" points=\"-4,4 -4,-406 129,-406 129,4 -4,4\" stroke=\"none\"/>\n",
       "<!-- 140347946101168 -->\n",
       "<g class=\"node\" id=\"node1\"><title>140347946101168</title>\n",
       "<polygon fill=\"none\" points=\"6.5,-0.5 6.5,-36.5 118.5,-36.5 118.5,-0.5 6.5,-0.5\" stroke=\"black\"/>\n",
       "<text font-family=\"Times,serif\" font-size=\"14.00\" text-anchor=\"middle\" x=\"62.5\" y=\"-14.8\">input: InputLayer</text>\n",
       "</g>\n",
       "<!-- 140348760138528 -->\n",
       "<g class=\"node\" id=\"node2\"><title>140348760138528</title>\n",
       "<polygon fill=\"none\" points=\"12,-73.5 12,-109.5 113,-109.5 113,-73.5 12,-73.5\" stroke=\"black\"/>\n",
       "<text font-family=\"Times,serif\" font-size=\"14.00\" text-anchor=\"middle\" x=\"62.5\" y=\"-87.8\">hidden1: Dense</text>\n",
       "</g>\n",
       "<!-- 140347946101168&#45;&gt;140348760138528 -->\n",
       "<g class=\"edge\" id=\"edge1\"><title>140347946101168-&gt;140348760138528</title>\n",
       "<path d=\"M62.5,-36.6871C62.5,-44.7105 62.5,-54.4525 62.5,-63.4309\" fill=\"none\" stroke=\"black\"/>\n",
       "<polygon fill=\"black\" points=\"59.0001,-63.4711 62.5,-73.4712 66.0001,-63.4712 59.0001,-63.4711\" stroke=\"black\"/>\n",
       "</g>\n",
       "<!-- 140347946184776 -->\n",
       "<g class=\"node\" id=\"node3\"><title>140347946184776</title>\n",
       "<polygon fill=\"none\" points=\"-7.10543e-15,-146.5 -7.10543e-15,-182.5 125,-182.5 125,-146.5 -7.10543e-15,-146.5\" stroke=\"black\"/>\n",
       "<text font-family=\"Times,serif\" font-size=\"14.00\" text-anchor=\"middle\" x=\"62.5\" y=\"-160.8\">dropout_1: Dropout</text>\n",
       "</g>\n",
       "<!-- 140348760138528&#45;&gt;140347946184776 -->\n",
       "<g class=\"edge\" id=\"edge2\"><title>140348760138528-&gt;140347946184776</title>\n",
       "<path d=\"M62.5,-109.687C62.5,-117.711 62.5,-127.453 62.5,-136.431\" fill=\"none\" stroke=\"black\"/>\n",
       "<polygon fill=\"black\" points=\"59.0001,-136.471 62.5,-146.471 66.0001,-136.471 59.0001,-136.471\" stroke=\"black\"/>\n",
       "</g>\n",
       "<!-- 140347946184888 -->\n",
       "<g class=\"node\" id=\"node4\"><title>140347946184888</title>\n",
       "<polygon fill=\"none\" points=\"12,-219.5 12,-255.5 113,-255.5 113,-219.5 12,-219.5\" stroke=\"black\"/>\n",
       "<text font-family=\"Times,serif\" font-size=\"14.00\" text-anchor=\"middle\" x=\"62.5\" y=\"-233.8\">hidden2: Dense</text>\n",
       "</g>\n",
       "<!-- 140347946184776&#45;&gt;140347946184888 -->\n",
       "<g class=\"edge\" id=\"edge3\"><title>140347946184776-&gt;140347946184888</title>\n",
       "<path d=\"M62.5,-182.687C62.5,-190.711 62.5,-200.453 62.5,-209.431\" fill=\"none\" stroke=\"black\"/>\n",
       "<polygon fill=\"black\" points=\"59.0001,-209.471 62.5,-219.471 66.0001,-209.471 59.0001,-209.471\" stroke=\"black\"/>\n",
       "</g>\n",
       "<!-- 140347929979144 -->\n",
       "<g class=\"node\" id=\"node5\"><title>140347929979144</title>\n",
       "<polygon fill=\"none\" points=\"-7.10543e-15,-292.5 -7.10543e-15,-328.5 125,-328.5 125,-292.5 -7.10543e-15,-292.5\" stroke=\"black\"/>\n",
       "<text font-family=\"Times,serif\" font-size=\"14.00\" text-anchor=\"middle\" x=\"62.5\" y=\"-306.8\">dropout_2: Dropout</text>\n",
       "</g>\n",
       "<!-- 140347946184888&#45;&gt;140347929979144 -->\n",
       "<g class=\"edge\" id=\"edge4\"><title>140347946184888-&gt;140347929979144</title>\n",
       "<path d=\"M62.5,-255.687C62.5,-263.711 62.5,-273.453 62.5,-282.431\" fill=\"none\" stroke=\"black\"/>\n",
       "<polygon fill=\"black\" points=\"59.0001,-282.471 62.5,-292.471 66.0001,-282.471 59.0001,-282.471\" stroke=\"black\"/>\n",
       "</g>\n",
       "<!-- 140347929979256 -->\n",
       "<g class=\"node\" id=\"node6\"><title>140347929979256</title>\n",
       "<polygon fill=\"none\" points=\"16.5,-365.5 16.5,-401.5 108.5,-401.5 108.5,-365.5 16.5,-365.5\" stroke=\"black\"/>\n",
       "<text font-family=\"Times,serif\" font-size=\"14.00\" text-anchor=\"middle\" x=\"62.5\" y=\"-379.8\">output: Dense</text>\n",
       "</g>\n",
       "<!-- 140347929979144&#45;&gt;140347929979256 -->\n",
       "<g class=\"edge\" id=\"edge5\"><title>140347929979144-&gt;140347929979256</title>\n",
       "<path d=\"M62.5,-328.687C62.5,-336.711 62.5,-346.453 62.5,-355.431\" fill=\"none\" stroke=\"black\"/>\n",
       "<polygon fill=\"black\" points=\"59.0001,-355.471 62.5,-365.471 66.0001,-355.471 59.0001,-355.471\" stroke=\"black\"/>\n",
       "</g>\n",
       "</g>\n",
       "</svg>"
      ],
      "text/plain": [
       "<IPython.core.display.SVG object>"
      ]
     },
     "execution_count": 7,
     "metadata": {},
     "output_type": "execute_result"
    }
   ],
   "source": [
    "SVG(model_to_dot(net.model).create_svg())"
   ]
  },
  {
   "cell_type": "code",
   "execution_count": 8,
   "metadata": {},
   "outputs": [
    {
     "name": "stdout",
     "output_type": "stream",
     "text": [
      "Loading mnist dataset...\n",
      "70000 train inputs, 0 test inputs\n",
      "Set 70000 inputs and targets\n",
      "Input data shape: (28, 28), range: (0, 255), type: uint8\n",
      "No targets\n",
      "Inputs rescaled to float32 values in the range 0 - 1\n",
      "Shuffled all 70000 inputs\n",
      "Input data shape: (784,), range: (0.0, 1.0), type: float32\n",
      "Split dataset into:\n",
      "   100 train inputs\n",
      "   69900 test inputs\n",
      "Generated 70000 target vectors from labels\n",
      "100 train inputs, 69900 test inputs\n",
      "Set 70000 inputs and targets\n",
      "Input data shape: (784,), range: (0.0, 1.0), type: float32\n",
      "Target data shape: (10,), range: (0, 0), type: uint8\n"
     ]
    }
   ],
   "source": [
    "net.load_keras_dataset('mnist')\n",
    "net.rescale_inputs((0,255), (0,1), 'float32')\n",
    "net.shuffle_dataset()\n",
    "net.reshape_inputs(784)\n",
    "net.split_dataset(100)\n",
    "net.set_targets_to_categories(10)\n",
    "net.summary_dataset()"
   ]
  },
  {
   "cell_type": "code",
   "execution_count": 9,
   "metadata": {},
   "outputs": [
    {
     "data": {
      "application/javascript": [
       "\n",
       "require(['base/js/namespace'], function(Jupyter) {\n",
       "    Jupyter.notebook.kernel.comm_manager.register_target('conx_svg_control', function(comm, msg) {\n",
       "        comm.on_msg(function(msg) {\n",
       "            var data = msg[\"content\"][\"data\"];\n",
       "            var image = document.getElementById(data[\"id\"]);\n",
       "            if (image) {\n",
       "                image.setAttributeNS(null, \"href\", data[\"href\"]);\n",
       "            }\n",
       "        });\n",
       "    });\n",
       "});\n"
      ],
      "text/plain": [
       "<IPython.core.display.Javascript object>"
      ]
     },
     "metadata": {},
     "output_type": "display_data"
    },
    {
     "data": {
      "image/svg+xml": [
       "\n",
       "        <svg id='MNIST' xmlns='http://www.w3.org/2000/svg' width=\"300\" height=\"645\">\n",
       "    <defs>\n",
       "        <marker id=\"arrow\" markerWidth=\"10\" markerHeight=\"10\" refX=\"9\" refY=\"3\" orient=\"auto\" markerUnits=\"strokeWidth\">\n",
       "          <path d=\"M0,0 L0,6 L9,3 z\" fill=\"blue\" />\n",
       "        </marker>\n",
       "    </defs>\n",
       "<rect x=\"49.0\" y=\"24\" width=\"202\" height=\"22\" style=\"fill:none;stroke:blue;stroke-width:2\"/><image id=\"MNIST_output\" x=\"50.0\" y=\"25\" height=\"20\" width=\"200\" href=\"data:image/gif;base64,R0lGODdhyAAUAIMAAA8PDxAQEBISEhYWFhcXFxgYGBoaGh0dHSMjIyoqKgAAAAAAAAAAAAAAAAAAAAAAACwAAAAAyAAUAEAI/wALCBxIsGBBAQgTKly48IDDhxAjRjRAsaLFixcJaNzIsWPHACBDihw5MoHJkyhTpkTAsqXLly8HyJxJs2ZNADhz6ty5s4DPn0CDBhVAtKjRo0cPKF3KtGlTA1CjSp06lYDVq1izZg3AtavXr18TiB1LtmxZBGjTql27doDbt3DjxgVAt67du3cL6N3Lt29fAYADCx48+IDhw4gTJzbAuLHjx48JSJ5MuXLlAJgza968OYHnz6BDh0ZAurTp06cHqF7NunVrALBjy549u4Dt27hz5xbAu7fv378PCB9OvHhxA8iTK1++nIDz59CjRw9Avbr169cTaN/OvXt3BODDi/8fP36A+fPo06cHwL69+/fvC8ifT79+fQH48+vfv/+Af4AHBA4kWFCgAYQJFS5cSMDhQ4gRIwagWNHixYsJNG7k2LEjApAhRY4cOcDkSZQpUwJg2dLly5cFZM6kWbOmAJw5de7cecDnT6BBgxogWtTo0aMElC5l2rRpAKhRpU6dmsDqVaxZsyLg2tXr168DxI4lW7YsALRp1a5dW8DtW7hx4wqgW9fu3bsH9O7l27evAcCBBQ8eTMDwYcSJEwdg3Njx48cJJE+mXLkyAsyZNW/ePMDzZ9ChQwMgXdr06dMFVK9m3bq1ANixZc+efcD2bdy5cxvg3dv3798EhA8nXrz/eADkyZUvX57A+XPo0aMjoF7d+vXrA7Rv5969OwDw4cWPH1/A/Hn06dMLYN/e/fv3B+TPp1+/vgH8+fXv30/AP0ACAgcSLCgwAMKEChcuTODwIcSIERFQrGjx4sUBGjdy7NgRAMiQIkeOLGDyJMqUKQWwbOny5csDMmfSrFnTAM6cOnfuJODzJ9CgQQMQLWr06NEESpcybdoUAdSoUqdOHWD1KtasWQFw7er169cCYseSLVtWANq0ateuPeD2Ldy4cQ3QrWv37l0Cevfy7ds3AODAggcPTmD4MOLEiREwbuz48eMBkidTrlwZAObMmjdvLuD5M+jQoQWQLm369OkD/6pXs27d2gDs2LJnzyZg+zbu3LkD8O7t+/fvBMKHEy9eHAHy5MqXLx/g/Dn06NEBUK9u/fr1Atq3c+/eXQD48OLHjz9g/jz69OkNsG/v/v17AvLn069fPwD+/Pr370/gH2ACgQMJFhSIAGFChQsXDnD4EGLEiAAoVrR48WIBjRs5duwoAGRIkSNHHjB5EmXKlAZYtnT58iUBmTNp1qwZAGdOnTt3JvD5E2jQoAiIFjV69OgApUuZNm0KAGpUqVOnFrB6FWvWrAK4dvX69esBsWPJli1rAG1atWvXEnD7Fm7cuAHo1rV7924CvXv59u2LAHBgwYMHDzB8GHHixAAYN/92/PhxAcmTKVeuLABzZs2bNx/w/Bl06NAGSJc2ffo0AdWrWbduHQB2bNmzZyewfRt37twIePf2/fv3AOHDiRcvDgB5cuXLlxdw/hx69OgCqFe3fv36Ae3buXfvbgB8ePHjxxMwfx59+vQB2Ld3//59Avnz6devjwB/fv379w/wD3CAwIEECwoEgDChwoULCzh8CDFiRAEUK1q8ePGAxo0cO3Y0ADKkyJEjCZg8iTJlygAsW7p8+TKBzJk0a9ZEgDOnzp07B/j8CTRoUABEixo9erSA0qVMmzYVADWq1KlTD1i9ijVrVgNcu3r9+pWA2LFky5YNgDat2rVrE7h9CzdbblwEdOvavXt3gN69fPv2BQA4sODBgwsYPow4cWIBjBs7fvz4gOTJlCtXNoA5s+bNmwl4/gw6dOgApEubPn06gerVrFu3RgA7tuzZswfYvo07d24AvHv7/v07IAA7\"><title>Layer: output (output)\n",
       " shape = 10\n",
       " Keras class = Dense\n",
       " activation = softmax</title></image><text x=\"255.0\" y=\"37.0\" font-family=\"Verdana\" font-size=\"12\">output</text><line x1=\"150.0\" y1=\"95\" x2=\"150.0\" y2=\"45\" stroke=\"blue\" stroke-width=\"2\" marker-end=\"url(#arrow)\"><title>Weights from 'hidden2' to 'output'</title></line><rect x=\"49.0\" y=\"94\" width=\"202\" height=\"102\" style=\"fill:none;stroke:blue;stroke-width:2\"/><image id=\"MNIST_hidden2\" x=\"50.0\" y=\"95\" height=\"100\" width=\"200\" href=\"data:image/gif;base64,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\"><title>Layer: hidden2 (hidden)\n",
       " shape = 512\n",
       " dropout = 0.2\n",
       " Keras class = Dense\n",
       " activation = relu</title></image><text x=\"255.0\" y=\"147.0\" font-family=\"Verdana\" font-size=\"12\">hidden2</text><line x1=\"150.0\" y1=\"245\" x2=\"150.0\" y2=\"195\" stroke=\"blue\" stroke-width=\"2\" marker-end=\"url(#arrow)\"><title>Weights from 'hidden1' to 'hidden2'</title></line><rect x=\"49.0\" y=\"244\" width=\"202\" height=\"102\" style=\"fill:none;stroke:blue;stroke-width:2\"/><image id=\"MNIST_hidden1\" x=\"50.0\" y=\"245\" height=\"100\" width=\"200\" href=\"data:image/gif;base64,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\"><title>Layer: hidden1 (hidden)\n",
       " shape = 512\n",
       " dropout = 0.2\n",
       " Keras class = Dense\n",
       " activation = relu</title></image><text x=\"255.0\" y=\"297.0\" font-family=\"Verdana\" font-size=\"12\">hidden1</text><line x1=\"150.0\" y1=\"395\" x2=\"150.0\" y2=\"345\" stroke=\"blue\" stroke-width=\"2\" marker-end=\"url(#arrow)\"><title>Weights from 'input' to 'hidden1'</title></line><rect x=\"49.0\" y=\"394\" width=\"202\" height=\"202\" style=\"fill:none;stroke:blue;stroke-width:2\"/><image id=\"MNIST_input\" x=\"50.0\" y=\"395\" height=\"200\" width=\"200\" href=\"data:image/gif;base64,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\"><title>Layer: input (input)\n",
       " shape = 784\n",
       " Keras class = Input</title></image><text x=\"255.0\" y=\"497.0\" font-family=\"Verdana\" font-size=\"12\">input</text></svg>"
      ],
      "text/plain": [
       "<Network name='MNIST'>"
      ]
     },
     "execution_count": 9,
     "metadata": {},
     "output_type": "execute_result"
    }
   ],
   "source": [
    "net"
   ]
  },
  {
   "cell_type": "code",
   "execution_count": 13,
   "metadata": {},
   "outputs": [
    {
     "data": {
      "text/plain": [
       "[0.095623657,\n",
       " 0.10256968,\n",
       " 0.10672176,\n",
       " 0.11500382,\n",
       " 0.087427728,\n",
       " 0.091701746,\n",
       " 0.1197641,\n",
       " 0.10474974,\n",
       " 0.096026793,\n",
       " 0.08041098]"
      ]
     },
     "execution_count": 13,
     "metadata": {},
     "output_type": "execute_result"
    }
   ],
   "source": [
    "net.propagate(net.get_input(10))"
   ]
  },
  {
   "cell_type": "code",
   "execution_count": 11,
   "metadata": {},
   "outputs": [
    {
     "name": "stdout",
     "output_type": "stream",
     "text": [
      "Training...\n",
      "Epoch 1/10\n",
      "100/100 [==============================] - 0s - loss: 0.0915 - acc: 0.0700\n",
      "Epoch 2/10\n",
      "100/100 [==============================] - 0s - loss: 0.0913 - acc: 0.0800\n",
      "Epoch 3/10\n",
      "100/100 [==============================] - 0s - loss: 0.0911 - acc: 0.0900\n",
      "Epoch 4/10\n",
      "100/100 [==============================] - 0s - loss: 0.0912 - acc: 0.0700\n",
      "Epoch 5/10\n",
      "100/100 [==============================] - 0s - loss: 0.0910 - acc: 0.1000\n",
      "Epoch 6/10\n",
      "100/100 [==============================] - 0s - loss: 0.0904 - acc: 0.1200\n",
      "Epoch 7/10\n",
      "100/100 [==============================] - 0s - loss: 0.0908 - acc: 0.1100\n",
      "Epoch 8/10\n",
      "100/100 [==============================] - 0s - loss: 0.0911 - acc: 0.0300\n",
      "Epoch 9/10\n",
      "100/100 [==============================] - 0s - loss: 0.0915 - acc: 0.1000\n",
      "Epoch 10/10\n",
      "100/100 [==============================] - 0s - loss: 0.0910 - acc: 0.0800\n",
      "========================================================================\n",
      "Epoch #   10 | train loss 0.09153 | train acc 0.07000 | validate% 0.00000\n"
     ]
    }
   ],
   "source": [
    "net.train(10)\n",
    "#net.test()"
   ]
  },
  {
   "cell_type": "code",
   "execution_count": 12,
   "metadata": {
    "collapsed": true
   },
   "outputs": [],
   "source": [
    "import time\n",
    "for i in range(10):\n",
    "    net.propagate(net.get_input(i))\n",
    "    time.sleep(1)"
   ]
  },
  {
   "cell_type": "code",
   "execution_count": null,
   "metadata": {
    "collapsed": true
   },
   "outputs": [],
   "source": []
  }
 ],
 "metadata": {
  "kernelspec": {
   "display_name": "Python 3",
   "language": "python",
   "name": "python3"
  },
  "language_info": {
   "codemirror_mode": {
    "name": "ipython",
    "version": 3
   },
   "file_extension": ".py",
   "mimetype": "text/x-python",
   "name": "python",
   "nbconvert_exporter": "python",
   "pygments_lexer": "ipython3",
   "version": "3.5.3"
  }
 },
 "nbformat": 4,
 "nbformat_minor": 2
}
