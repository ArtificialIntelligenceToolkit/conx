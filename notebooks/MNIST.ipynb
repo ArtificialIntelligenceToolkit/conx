{
 "cells": [
  {
   "cell_type": "markdown",
   "metadata": {},
   "source": [
    "# MNIST"
   ]
  },
  {
   "cell_type": "code",
   "execution_count": 1,
   "metadata": {},
   "outputs": [
    {
     "name": "stderr",
     "output_type": "stream",
     "text": [
      "Using TensorFlow backend.\n",
      "conx, version 3.5.17\n"
     ]
    }
   ],
   "source": [
    "from conx import Network, Layer, Conv2DLayer, MaxPool2DLayer, FlattenLayer"
   ]
  },
  {
   "cell_type": "code",
   "execution_count": 2,
   "metadata": {},
   "outputs": [],
   "source": [
    "net = Network(\"MNIST\")\n",
    "net.add(Layer(\"input\", shape=784, vshape=(28, 28), colormap=\"hot\", minmax=(0,1)))\n",
    "net.add(Layer(\"hidden1\", shape=512, vshape=(16,32), activation='relu', dropout=0.2))\n",
    "net.add(Layer(\"hidden2\", shape=512, vshape=(16,32), activation='relu', dropout=0.2))\n",
    "net.add(Layer(\"output\", shape=10, activation='softmax'))\n",
    "\n",
    "net.connect('input', 'hidden1')\n",
    "net.connect('hidden1', 'hidden2')\n",
    "net.connect('hidden2', 'output')"
   ]
  },
  {
   "cell_type": "code",
   "execution_count": 3,
   "metadata": {},
   "outputs": [],
   "source": [
    "net.compile(error='mean_squared_error', optimizer='sgd')"
   ]
  },
  {
   "cell_type": "code",
   "execution_count": 4,
   "metadata": {},
   "outputs": [
    {
     "name": "stdout",
     "output_type": "stream",
     "text": [
      "Downloading data from https://s3.amazonaws.com/img-datasets/mnist.npz\n",
      "11493376/11490434 [==============================] - 3s 0us/step\n"
     ]
    },
    {
     "data": {
      "text/markdown": [
       "**Dataset name**: MNIST\n",
       "\n",
       "\n",
       "Original source: http://yann.lecun.com/exdb/mnist/\n",
       "\n",
       "The MNIST database of handwritten digits, available from this page,\n",
       "has 70,000 examples. It is a subset of a larger set available from\n",
       "NIST. The digits have been size-normalized and centered in a\n",
       "fixed-size image.  It is a good database for people who want to try\n",
       "learning techniques and pattern recognition methods on real-world data\n",
       "while spending minimal efforts on preprocessing and formatting.\n",
       "\n",
       "**Dataset Split**:\n",
       "   * training  : 70000\n",
       "   * testing   : 0\n",
       "   * total     : 70000\n",
       "\n",
       "**Input Summary**:\n",
       "   * shape  : [(784,)]\n",
       "   * range  : [(0.0, 1.0)]\n",
       "\n",
       "**Target Summary**:\n",
       "   * shape  : [(10,)]\n",
       "   * range  : [(0.0, 1.0)]\n",
       "\n"
      ],
      "text/plain": [
       "**Dataset name**: MNIST\n",
       "\n",
       "\n",
       "Original source: http://yann.lecun.com/exdb/mnist/\n",
       "\n",
       "The MNIST database of handwritten digits, available from this page,\n",
       "has 70,000 examples. It is a subset of a larger set available from\n",
       "NIST. The digits have been size-normalized and centered in a\n",
       "fixed-size image.  It is a good database for people who want to try\n",
       "learning techniques and pattern recognition methods on real-world data\n",
       "while spending minimal efforts on preprocessing and formatting.\n",
       "\n",
       "**Dataset Split**:\n",
       "   * training  : 70000\n",
       "   * testing   : 0\n",
       "   * total     : 70000\n",
       "\n",
       "**Input Summary**:\n",
       "   * shape  : [(784,)]\n",
       "   * range  : [(0.0, 1.0)]\n",
       "\n",
       "**Target Summary**:\n",
       "   * shape  : [(10,)]\n",
       "   * range  : [(0.0, 1.0)]\n"
      ]
     },
     "metadata": {},
     "output_type": "display_data"
    }
   ],
   "source": [
    "dataset = net.dataset\n",
    "dataset.get('mnist')\n",
    "#dataset.slice(0, 100)\n",
    "dataset.inputs.reshape(0, 784)\n",
    "dataset.shuffle()\n",
    "dataset.summary()"
   ]
  },
  {
   "cell_type": "code",
   "execution_count": 5,
   "metadata": {},
   "outputs": [],
   "source": [
    "widget = net.dashboard()"
   ]
  },
  {
   "cell_type": "code",
   "execution_count": 6,
   "metadata": {},
   "outputs": [
    {
     "data": {
      "application/vnd.jupyter.widget-view+json": {
       "model_id": "aafcc52d5d804295b6182d08558a9a40",
       "version_major": 2,
       "version_minor": 0
      },
      "text/html": [
       "<p>Failed to display Jupyter Widget of type <code>Dashboard</code>.</p>\n",
       "<p>\n",
       "  If you're reading this message in the Jupyter Notebook or JupyterLab Notebook, it may mean\n",
       "  that the widgets JavaScript is still loading. If this message persists, it\n",
       "  likely means that the widgets JavaScript library is either not installed or\n",
       "  not enabled. See the <a href=\"https://ipywidgets.readthedocs.io/en/stable/user_install.html\">Jupyter\n",
       "  Widgets Documentation</a> for setup instructions.\n",
       "</p>\n",
       "<p>\n",
       "  If you're reading this message in another frontend (for example, a static\n",
       "  rendering on GitHub or <a href=\"https://nbviewer.jupyter.org/\">NBViewer</a>),\n",
       "  it may mean that your frontend doesn't currently support widgets.\n",
       "</p>\n"
      ],
      "text/plain": [
       "Dashboard(children=(Accordion(children=(HBox(children=(VBox(children=(Select(description='Dataset:', index=1, options=('Test', 'Train'), rows=1, value='Train'), FloatSlider(value=1.0, continuous_update=False, description='Zoom', max=5.0, min=0.1), IntText(value=150, description='Horizontal space between banks:', style=DescriptionStyle(description_width='initial')), IntText(value=30, description='Vertical space between layers:', style=DescriptionStyle(description_width='initial')), HBox(children=(Checkbox(value=False, description='Show Targets', style=DescriptionStyle(description_width='initial')), Checkbox(value=False, description='Errors', style=DescriptionStyle(description_width='initial')))), Select(description='Features:', options=('',), rows=1, value=''), IntText(value=3, description='Feature columns:', style=DescriptionStyle(description_width='initial')), FloatText(value=2.0, description='Feature scale:', style=DescriptionStyle(description_width='initial'))), layout=Layout(width='100%')), VBox(children=(Select(description='Layer:', index=3, options=('input', 'hidden1', 'hidden2', 'output'), rows=1, value='output'), Checkbox(value=True, description='Visible'), Select(description='Colormap:', options=('', 'Accent', 'Accent_r', 'Blues', 'Blues_r', 'BrBG', 'BrBG_r', 'BuGn', 'BuGn_r', 'BuPu', 'BuPu_r', 'CMRmap', 'CMRmap_r', 'Dark2', 'Dark2_r', 'GnBu', 'GnBu_r', 'Greens', 'Greens_r', 'Greys', 'Greys_r', 'OrRd', 'OrRd_r', 'Oranges', 'Oranges_r', 'PRGn', 'PRGn_r', 'Paired', 'Paired_r', 'Pastel1', 'Pastel1_r', 'Pastel2', 'Pastel2_r', 'PiYG', 'PiYG_r', 'PuBu', 'PuBuGn', 'PuBuGn_r', 'PuBu_r', 'PuOr', 'PuOr_r', 'PuRd', 'PuRd_r', 'Purples', 'Purples_r', 'RdBu', 'RdBu_r', 'RdGy', 'RdGy_r', 'RdPu', 'RdPu_r', 'RdYlBu', 'RdYlBu_r', 'RdYlGn', 'RdYlGn_r', 'Reds', 'Reds_r', 'Set1', 'Set1_r', 'Set2', 'Set2_r', 'Set3', 'Set3_r', 'Spectral', 'Spectral_r', 'Vega10', 'Vega10_r', 'Vega20', 'Vega20_r', 'Vega20b', 'Vega20b_r', 'Vega20c', 'Vega20c_r', 'Wistia', 'Wistia_r', 'YlGn', 'YlGnBu', 'YlGnBu_r', 'YlGn_r', 'YlOrBr', 'YlOrBr_r', 'YlOrRd', 'YlOrRd_r', 'afmhot', 'afmhot_r', 'autumn', 'autumn_r', 'binary', 'binary_r', 'bone', 'bone_r', 'brg', 'brg_r', 'bwr', 'bwr_r', 'cool', 'cool_r', 'coolwarm', 'coolwarm_r', 'copper', 'copper_r', 'cubehelix', 'cubehelix_r', 'flag', 'flag_r', 'gist_earth', 'gist_earth_r', 'gist_gray', 'gist_gray_r', 'gist_heat', 'gist_heat_r', 'gist_ncar', 'gist_ncar_r', 'gist_rainbow', 'gist_rainbow_r', 'gist_stern', 'gist_stern_r', 'gist_yarg', 'gist_yarg_r', 'gnuplot', 'gnuplot2', 'gnuplot2_r', 'gnuplot_r', 'gray', 'gray_r', 'hot', 'hot_r', 'hsv', 'hsv_r', 'inferno', 'inferno_r', 'jet', 'jet_r', 'magma', 'magma_r', 'nipy_spectral', 'nipy_spectral_r', 'ocean', 'ocean_r', 'pink', 'pink_r', 'plasma', 'plasma_r', 'prism', 'prism_r', 'rainbow', 'rainbow_r', 'seismic', 'seismic_r', 'spectral', 'spectral_r', 'spring', 'spring_r', 'summer', 'summer_r', 'tab10', 'tab10_r', 'tab20', 'tab20_r', 'tab20b', 'tab20b_r', 'tab20c', 'tab20c_r', 'terrain', 'terrain_r', 'viridis', 'viridis_r', 'winter', 'winter_r'), rows=1, value=''), HTML(value='<img src=\"data:image/gif;base64,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\"/>'), FloatText(value=0.0, description='Leftmost color maps to:', style=DescriptionStyle(description_width='initial')), FloatText(value=1.0, description='Rightmost color maps to:', style=DescriptionStyle(description_width='initial')), IntText(value=0, description='Feature to show:', style=DescriptionStyle(description_width='initial'))), layout=Layout(width='100%')))),), selected_index=None, _titles={'0': 'MNIST'}), VBox(children=(HBox(children=(IntSlider(value=0, continuous_update=False, description='Dataset index', layout=Layout(width='100%'), max=69999), Label(value='of 70000', layout=Layout(width='100px'))), layout=Layout(height='40px')), HBox(children=(Button(icon='fast-backward', layout=Layout(width='100%'), style=ButtonStyle()), Button(icon='backward', layout=Layout(width='100%'), style=ButtonStyle()), IntText(value=0, layout=Layout(width='100%')), Button(icon='forward', layout=Layout(width='100%'), style=ButtonStyle()), Button(icon='fast-forward', layout=Layout(width='100%'), style=ButtonStyle()), Button(description='Play', icon='play', layout=Layout(width='100%'), style=ButtonStyle()), Button(icon='refresh', layout=Layout(width='25%'), style=ButtonStyle())), layout=Layout(height='50px', width='100%'))), layout=Layout(width='100%')), HTML(value='<p style=\"text-align:center\"></p>', layout=Layout(justify_content='center', overflow_x='auto', overflow_y='auto', width='95%')), Output()))"
      ]
     },
     "metadata": {},
     "output_type": "display_data"
    },
    {
     "data": {
      "application/javascript": [
       "\n",
       "require(['base/js/namespace'], function(Jupyter) {\n",
       "    Jupyter.notebook.kernel.comm_manager.register_target('conx_svg_control', function(comm, msg) {\n",
       "        comm.on_msg(function(msg) {\n",
       "            var data = msg[\"content\"][\"data\"];\n",
       "            var images = document.getElementsByClassName(data[\"class\"]);\n",
       "            for (var i = 0; i < images.length; i++) {\n",
       "                if (data[\"href\"]) {\n",
       "                    images[i].setAttributeNS(null, \"href\", data[\"href\"]);\n",
       "                }\n",
       "                if (data[\"src\"]) {\n",
       "                    images[i].setAttributeNS(null, \"src\", data[\"src\"]);\n",
       "                }\n",
       "            }\n",
       "        });\n",
       "    });\n",
       "});\n"
      ],
      "text/plain": [
       "<IPython.core.display.Javascript object>"
      ]
     },
     "metadata": {},
     "output_type": "display_data"
    }
   ],
   "source": [
    "widget"
   ]
  },
  {
   "cell_type": "code",
   "execution_count": 7,
   "metadata": {},
   "outputs": [
    {
     "data": {
      "application/javascript": [
       "\n",
       "require(['base/js/namespace'], function(Jupyter) {\n",
       "    Jupyter.notebook.kernel.comm_manager.register_target('conx_svg_control', function(comm, msg) {\n",
       "        comm.on_msg(function(msg) {\n",
       "            var data = msg[\"content\"][\"data\"];\n",
       "            var images = document.getElementsByClassName(data[\"class\"]);\n",
       "            for (var i = 0; i < images.length; i++) {\n",
       "                if (data[\"href\"]) {\n",
       "                    images[i].setAttributeNS(null, \"href\", data[\"href\"]);\n",
       "                }\n",
       "                if (data[\"src\"]) {\n",
       "                    images[i].setAttributeNS(null, \"src\", data[\"src\"]);\n",
       "                }\n",
       "            }\n",
       "        });\n",
       "    });\n",
       "});\n"
      ],
      "text/plain": [
       "<IPython.core.display.Javascript object>"
      ]
     },
     "metadata": {},
     "output_type": "display_data"
    },
    {
     "data": {
      "text/html": [
       "<svg id='MNIST' xmlns='http://www.w3.org/2000/svg' viewBox=\"0 0 350 790\" max-width=\"100%\" height=\"780px\" image-rendering=\"pixelated\">\n",
       "    <defs>\n",
       "        <marker id=\"arrow\" markerWidth=\"10\" markerHeight=\"10\" refX=\"9\" refY=\"3\" orient=\"auto\" markerUnits=\"strokeWidth\">\n",
       "          <path d=\"M0,0 L0,6 L9,3 z\" fill=\"black\" />\n",
       "        </marker>\n",
       "    </defs><text x=\"175.0\" y=\"12.5\" font-family=\"monospace\" font-size=\"15\" text-anchor=\"middle\" alignment-baseline=\"central\">MNIST</text><rect x=\"74.0\" y=\"24\" width=\"202\" height=\"52\" style=\"fill:none;stroke:black;stroke-width:2\"/><image id=\"MNIST_output_5\" class=\"MNIST_output\" x=\"75.0\" y=\"25\" height=\"50\" width=\"200\" preserveAspectRatio=\"none\" href=\"data:image/gif;base64,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\"><title>Layer: output (output)\n",
       " output range: (0, 1)\n",
       " shape = (10,)\n",
       " Keras class = Dense\n",
       " activation = softmax</title></image><text x=\"280.0\" y=\"52.0\" font-family=\"monospace\" font-size=\"12\" text-anchor=\"start\" alignment-baseline=\"central\">output</text><line x1=\"175.0\" y1=\"104\" x2=\"175.0\" y2=\"77\" stroke=\"red\" stroke-width=\"2\" marker-end=\"url(#arrow)\"><title>Weights from hidden2 to output\n",
       " output/kernel:0 has shape (512, 10)\n",
       " output/bias:0 has shape (10,)</title></line><rect x=\"74.0\" y=\"104\" width=\"202\" height=\"202\" style=\"fill:none;stroke:black;stroke-width:2\"/><image id=\"MNIST_hidden2_6\" class=\"MNIST_hidden2\" x=\"75.0\" y=\"105\" height=\"200\" width=\"200\" preserveAspectRatio=\"none\" href=\"data:image/gif;base64,R0lGODdhIAAQAIcAAH8AAI4AALAAAM8AAO8AAP8XF/8oKP84OP9ZWf9paf9NTf+IiP+Vlf+trf/V1enp/wAAAAAAAAAAAAAAAAAAAAAAAAAAAAAAAAAAAAAAAAAAAAAAAAAAAAAAAAAAAAAAAAAAAAAAAAAAAAAAAAAAAAAAAAAAAAAAAAAAAAAAAAAAAAAAAAAAAAAAAAAAAAAAAAAAAAAAAAAAAAAAAAAAAAAAAAAAAAAAAAAAAAAAAAAAAAAAAAAAAAAAAAAAAAAAAAAAAAAAAAAAAAAAAAAAAAAAAAAAAAAAAAAAAAAAAAAAAAAAAAAAAAAAAAAAAAAAAAAAAAAAAAAAAAAAAAAAAAAAAAAAAAAAAAAAAAAAAAAAAAAAAAAAAAAAAAAAAAAAAAAAAAAAAAAAAAAAAAAAAAAAAAAAAAAAAAAAAAAAAAAAAAAAAAAAAAAAAAAAAAAAAAAAAAAAAAAAAAAAAAAAAAAAAAAAAAAAAAAAAAAAAAAAAAAAAAAAAAAAAAAAAAAAAAAAAAAAAAAAAAAAAAAAAAAAAAAAAAAAAAAAAAAAAAAAAAAAAAAAAAAAAAAAAAAAAAAAAAAAAAAAAAAAAAAAAAAAAAAAAAAAAAAAAAAAAAAAAAAAAAAAAAAAAAAAAAAAAAAAAAAAAAAAAAAAAAAAAAAAAAAAAAAAAAAAAAAAAAAAAAAAAAAAAAAAAAAAAAAAAAAAAAAAAAAAAAAAAAAAAAAAAAAAAAAAAAAAAAAAAAAAAAAAAAAAAAAAAAAAAAAAAAAAAAAAAAAAAAAAAAAAAAAAAAAAAAAAAAAAAAAAAAAAAAAAAAAAAAAAAAAAAAAAAAAAAAAAAAAAAAAAAAAAAAAAAAAAAAAAAAAAAAAAAAAAAAAAAAAAAAAAAAAAAAAAAAAAAAAAAAAAAAAAAAAAAAAAAAAAAAAAAAAAAAAAAAAAAAAAAAAAAAAAAAAAAAAAAAAAAAAAAAAAAAAAAAAAAAAAAAAAAAAAAAAAAAAAAAAAAAAAAAAAAAAAAAAAAAAAACwAAAAAIAAQAEAI/wABABAAAAACAgMCDFg4AIDDhw4DAAgAAIAAAAAGANgIIECABAMACABAsqTJAAAEAAgAYACAAAAADAAAIACAmwECANjJU4CBAAAEBBAAoCiAAQMEAAAwQAAAAAQABEiAgACABQIABBgAQAAAAAIABAAAgAAAAAMCAAgAgEAAAAMEAAgQAAAAAQAIAAggQAAAAAIKAAAwYACBAgAACAAwAIABAgIAABgAgMAAAAAQDABgAEAAAKAFAEAAoLRpAQIADAAwgAAAAQQCHABAG8AAAAIACBAQgMAAAAAGBGgAoDiBAACSJx8gAEAAAgAABAAQgEAAAwcEAAgAoHv3BAIAFP8IoCAAAAEA0gMgEACA+wEOAAA4QGCAAAIABAAIQAAAAIAEABQIACBAAAACAAAYIKCAAAAABAAAIADARQABBAAAECAAAAECAAAYECAAAAACAAgAAIAAAAADAMwMAADAAQAECAQAAGBAgAECAgQAUBRAgAAAABAAIAAAAQEDCEwlACAAgAIACgAAEADA1wQEAAwAQAAAgAAA1KodACAAgAAABBAAEAAAgAEBBAgAEAAAAAECBggAAGDAAAABDgQYoADAY8gMAAAIAMDyZQAGDBAIAMAzAQAACAAYMIAAAAEEBgBgDYAAgAcAZAMQECAAgAEBBBAA0FsAAOABBgBAAAARgAAAAAgEUACAQAAAAAQECAgAOw==\"><title>Layer: hidden2 (hidden)\n",
       " output range: (0, +Infinity)\n",
       " shape = (512,)\n",
       " dropout = 0.2\n",
       " Keras class = Dense\n",
       " activation = relu</title></image><text x=\"280.0\" y=\"207.0\" font-family=\"monospace\" font-size=\"12\" text-anchor=\"start\" alignment-baseline=\"central\">hidden2</text><line x1=\"175.0\" y1=\"334\" x2=\"175.0\" y2=\"307\" stroke=\"red\" stroke-width=\"2\" marker-end=\"url(#arrow)\"><title>Weights from hidden1 to hidden2\n",
       " hidden2/kernel:0 has shape (512, 512)\n",
       " hidden2/bias:0 has shape (512,)</title></line><rect x=\"74.0\" y=\"334\" width=\"202\" height=\"202\" style=\"fill:none;stroke:black;stroke-width:2\"/><image id=\"MNIST_hidden1_7\" class=\"MNIST_hidden1\" x=\"75.0\" y=\"335\" height=\"200\" width=\"200\" preserveAspectRatio=\"none\" href=\"data:image/gif;base64,R0lGODdhIAAQAIcAAH8AAM0AAK4AAJEAAPQBAf8jI/8ZGf9aWv92dv/Gxv81NdTU//+dnf9ISP+Fhfj2/YKC//9qav+kpP/k5AAA7mFh/3l5/729//+1tQAAAAAAAAAAAAAAAAAAAAAAAAAAAAAAAAAAAAAAAAAAAAAAAAAAAAAAAAAAAAAAAAAAAAAAAAAAAAAAAAAAAAAAAAAAAAAAAAAAAAAAAAAAAAAAAAAAAAAAAAAAAAAAAAAAAAAAAAAAAAAAAAAAAAAAAAAAAAAAAAAAAAAAAAAAAAAAAAAAAAAAAAAAAAAAAAAAAAAAAAAAAAAAAAAAAAAAAAAAAAAAAAAAAAAAAAAAAAAAAAAAAAAAAAAAAAAAAAAAAAAAAAAAAAAAAAAAAAAAAAAAAAAAAAAAAAAAAAAAAAAAAAAAAAAAAAAAAAAAAAAAAAAAAAAAAAAAAAAAAAAAAAAAAAAAAAAAAAAAAAAAAAAAAAAAAAAAAAAAAAAAAAAAAAAAAAAAAAAAAAAAAAAAAAAAAAAAAAAAAAAAAAAAAAAAAAAAAAAAAAAAAAAAAAAAAAAAAAAAAAAAAAAAAAAAAAAAAAAAAAAAAAAAAAAAAAAAAAAAAAAAAAAAAAAAAAAAAAAAAAAAAAAAAAAAAAAAAAAAAAAAAAAAAAAAAAAAAAAAAAAAAAAAAAAAAAAAAAAAAAAAAAAAAAAAAAAAAAAAAAAAAAAAAAAAAAAAAAAAAAAAAAAAAAAAAAAAAAAAAAAAAAAAAAAAAAAAAAAAAAAAAAAAAAAAAAAAAAAAAAAAAAAAAAAAAAAAAAAAAAAAAAAAAAAAAAAAAAAAAAAAAAAAAAAAAAAAAAAAAAAAAAAAAAAAAAAAAAAAAAAAAAAAAAAAAAAAAAAAAAAAAAAAAAAAAAAAAAAAAAAAAAAAAAAAAAAAAAAAAAAAAAAAAAAAAAAAAAAAAAAAAAAAAAAAAAAAAAAAAAAAAAAAAAAAAAAAAAAAAAAAAAAAAAAAAAAAAAAAAAAAAAAAAAAAAAAAAAAAAAAAACwAAAAAIAAQAEAI/wADCAAAYACAgwUAKAQgAIBDAgAAHDgAoOIAAAAGACjAAAAAAQYACAAQAIDJkwgCABgAwACABAAAHAAQAIDNmwJyCgAA4AEBAAIMABAAgICAAQIAJCAAAMAAAQAAEAgAwACAAAAGDAAAoAAAAAEIDAAQQEAAAGjRChAAoG0AAgAWAABAoAGAu3cxBBAAIACAAAEACBYAoHAAAAAILADAmLEAAAACACgAgMAAAAAIACBwAECBBQIAiB5NAAAAAgoiAAAQQEABAAIGCABAewAAAAIAACAAAAABBBckDEAAgAACAAYeACAAAMABABIAABgAAIAAAAAOHFAQAAABAOADAP8YEACAeQABBgwAwJ69AAIBAMgPAEAAgPsDAOhPAEDAAIACAAiYECAAgAEABgAQAABAgAAKADgAIKABAAACAAAoAECAAAAhAQhQAOABAAIDAKwcAADAAAABAMwUACAAAAEBAABoMIABAwoABAQYAABAAAEBEgAYICAAAQQAAAQAEEBABQBZBxBYAMBrAABhwwoIAGAAALQEAKx1ACBBAgADAMwFQABAAAAFCAQAEAFAAACBAwQAEGAAAQAIAAAoACDAYwAOAAAYQICAAQAALAAYICCAAQACCAwAQACAgAMABgAgACCAAACxB0AAYCAAANwCBADgPQHAAAADAEAAUBwRQAEADAAUADBAAQAEAQQACAgAOw==\"><title>Layer: hidden1 (hidden)\n",
       " output range: (0, +Infinity)\n",
       " shape = (512,)\n",
       " dropout = 0.2\n",
       " Keras class = Dense\n",
       " activation = relu</title></image><text x=\"280.0\" y=\"437.0\" font-family=\"monospace\" font-size=\"12\" text-anchor=\"start\" alignment-baseline=\"central\">hidden1</text><line x1=\"175.0\" y1=\"564\" x2=\"175.0\" y2=\"537\" stroke=\"black\" stroke-width=\"2\" marker-end=\"url(#arrow)\"><title>Weights from input to hidden1\n",
       " hidden1/kernel:0 has shape (784, 512)\n",
       " hidden1/bias:0 has shape (512,)</title></line><rect x=\"74.0\" y=\"564\" width=\"202\" height=\"202\" style=\"fill:none;stroke:black;stroke-width:2\"/><image id=\"MNIST_input_8\" class=\"MNIST_input\" x=\"75.0\" y=\"565\" height=\"200\" width=\"200\" preserveAspectRatio=\"none\" href=\"data:image/gif;base64,R0lGODdhHAAcAIcAAAoAAP//9DIAAE0AAIUAAP//b///sP//0P/9C///LHMAALUAAM8AAP+pAP/IAPICAP8nAP91AP+WAP/UAP//Tf88AP9hAP+KAP//lv/kAAAAAAAAAAAAAAAAAAAAAAAAAAAAAAAAAAAAAAAAAAAAAAAAAAAAAAAAAAAAAAAAAAAAAAAAAAAAAAAAAAAAAAAAAAAAAAAAAAAAAAAAAAAAAAAAAAAAAAAAAAAAAAAAAAAAAAAAAAAAAAAAAAAAAAAAAAAAAAAAAAAAAAAAAAAAAAAAAAAAAAAAAAAAAAAAAAAAAAAAAAAAAAAAAAAAAAAAAAAAAAAAAAAAAAAAAAAAAAAAAAAAAAAAAAAAAAAAAAAAAAAAAAAAAAAAAAAAAAAAAAAAAAAAAAAAAAAAAAAAAAAAAAAAAAAAAAAAAAAAAAAAAAAAAAAAAAAAAAAAAAAAAAAAAAAAAAAAAAAAAAAAAAAAAAAAAAAAAAAAAAAAAAAAAAAAAAAAAAAAAAAAAAAAAAAAAAAAAAAAAAAAAAAAAAAAAAAAAAAAAAAAAAAAAAAAAAAAAAAAAAAAAAAAAAAAAAAAAAAAAAAAAAAAAAAAAAAAAAAAAAAAAAAAAAAAAAAAAAAAAAAAAAAAAAAAAAAAAAAAAAAAAAAAAAAAAAAAAAAAAAAAAAAAAAAAAAAAAAAAAAAAAAAAAAAAAAAAAAAAAAAAAAAAAAAAAAAAAAAAAAAAAAAAAAAAAAAAAAAAAAAAAAAAAAAAAAAAAAAAAAAAAAAAAAAAAAAAAAAAAAAAAAAAAAAAAAAAAAAAAAAAAAAAAAAAAAAAAAAAAAAAAAAAAAAAAAAAAAAAAAAAAAAAAAAAAAAAAAAAAAAAAAAAAAAAAAAAAAAAAAAAAAAAAAAAAAAAAAAAAAAAAAAAAAAAAAAAAAAAAAAAAAAAAAAAAAAAAAAAAAAAAAAAAAAAAAAAAAAAAAAAAAAAAAAAAAAAAAAAAAAAAAAAAAAAAAAAAAAAAAAAAAAAAAAAAAAAAAAAACwAAAAAHAAcAEAI/wABCBxIsKDBgwgBKDAQIMACAQQMBMAwQEEDAwUUANjIsSMAAQUCBEgwAACADAECLADAsqXLly0ZSDCA4AGAmzhz6tzJs6fPnQMKBBhKNAACBgCSKl26VMGBAAEASF1wIECACQCyat3KtavXr2CzMqAQoKzZAAUEAFjLtq1bAAoOBAjwAICABAHy6k0wAIDfv4D/QjgQoLDhABAAKF7MuDGBAJAvAJgMIEKAAA0AaN7MuTMAAQUCiB49YQCA06hTq17NurXr17Bjy549IIKDALgDIBAAoLfv38B9XwgQIAGFAA4CBJAAAAABAQCiS58uHUGAABQAaA8QoEAFDAHCE4cAQL68+fINAqifkCCAe/cIGACYT7++fQAPAujfX2ABAIAABA4kWBDAggMBAhhAUCHAQwIAJE6kWFGAgwABDAwA0DFCgAANAIwkWdIkgQApAaxceSBAAAIAZM6kWRMAhAABJBCwYCBAgAQDAAwlWtQoUQsHAiwN4ADAU6hRpU6lWtXqVaxPAwIAOw==\"><title>Layer: input (input)\n",
       " output range: (0, 1)\n",
       " shape = (784,)\n",
       " Keras class = Input</title></image><text x=\"280.0\" y=\"667.0\" font-family=\"monospace\" font-size=\"12\" text-anchor=\"start\" alignment-baseline=\"central\">input</text></svg>"
      ],
      "text/plain": [
       "<Network name='MNIST' (compiled)>"
      ]
     },
     "execution_count": 7,
     "metadata": {},
     "output_type": "execute_result"
    }
   ],
   "source": [
    "net"
   ]
  },
  {
   "cell_type": "code",
   "execution_count": 8,
   "metadata": {},
   "outputs": [
    {
     "data": {
      "application/javascript": [
       "\n",
       "require(['base/js/namespace'], function(Jupyter) {\n",
       "    Jupyter.notebook.kernel.comm_manager.register_target('conx_svg_control', function(comm, msg) {\n",
       "        comm.on_msg(function(msg) {\n",
       "            var data = msg[\"content\"][\"data\"];\n",
       "            var images = document.getElementsByClassName(data[\"class\"]);\n",
       "            for (var i = 0; i < images.length; i++) {\n",
       "                if (data[\"href\"]) {\n",
       "                    images[i].setAttributeNS(null, \"href\", data[\"href\"]);\n",
       "                }\n",
       "                if (data[\"src\"]) {\n",
       "                    images[i].setAttributeNS(null, \"src\", data[\"src\"]);\n",
       "                }\n",
       "            }\n",
       "        });\n",
       "    });\n",
       "});\n"
      ],
      "text/plain": [
       "<IPython.core.display.Javascript object>"
      ]
     },
     "metadata": {},
     "output_type": "display_data"
    },
    {
     "data": {
      "text/html": [
       "<svg id='MNIST' xmlns='http://www.w3.org/2000/svg' viewBox=\"0 0 350 790\" max-width=\"100%\" height=\"500px\" image-rendering=\"pixelated\">\n",
       "    <defs>\n",
       "        <marker id=\"arrow\" markerWidth=\"10\" markerHeight=\"10\" refX=\"9\" refY=\"3\" orient=\"auto\" markerUnits=\"strokeWidth\">\n",
       "          <path d=\"M0,0 L0,6 L9,3 z\" fill=\"black\" />\n",
       "        </marker>\n",
       "    </defs><text x=\"175.0\" y=\"12.5\" font-family=\"monospace\" font-size=\"15\" text-anchor=\"middle\" alignment-baseline=\"central\">MNIST</text><rect x=\"74.0\" y=\"24\" width=\"202\" height=\"52\" style=\"fill:none;stroke:black;stroke-width:2\"/><image id=\"snapshot-MNIST-381215_output_9\" class=\"snapshot-MNIST-381215_output\" x=\"75.0\" y=\"25\" height=\"50\" width=\"200\" preserveAspectRatio=\"none\" href=\"data:image/gif;base64,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\"><title>Layer: output (output)\n",
       " output range: (0, 1)\n",
       " shape = (10,)\n",
       " Keras class = Dense\n",
       " activation = softmax</title></image><text x=\"280.0\" y=\"52.0\" font-family=\"monospace\" font-size=\"12\" text-anchor=\"start\" alignment-baseline=\"central\">output</text><line x1=\"175.0\" y1=\"104\" x2=\"175.0\" y2=\"77\" stroke=\"red\" stroke-width=\"2\" marker-end=\"url(#arrow)\"><title>Weights from hidden2 to output\n",
       " output/kernel:0 has shape (512, 10)\n",
       " output/bias:0 has shape (10,)</title></line><rect x=\"74.0\" y=\"104\" width=\"202\" height=\"202\" style=\"fill:none;stroke:black;stroke-width:2\"/><image id=\"snapshot-MNIST-381215_hidden2_10\" class=\"snapshot-MNIST-381215_hidden2\" x=\"75.0\" y=\"105\" height=\"200\" width=\"200\" preserveAspectRatio=\"none\" href=\"data:image/gif;base64,R0lGODdhIAAQAIcAAH8AAI4AALAAAM8AAO8AAP8XF/8oKP84OP9ZWf9paf9NTf+IiP+Vlf+trf/V1enp/wAAAAAAAAAAAAAAAAAAAAAAAAAAAAAAAAAAAAAAAAAAAAAAAAAAAAAAAAAAAAAAAAAAAAAAAAAAAAAAAAAAAAAAAAAAAAAAAAAAAAAAAAAAAAAAAAAAAAAAAAAAAAAAAAAAAAAAAAAAAAAAAAAAAAAAAAAAAAAAAAAAAAAAAAAAAAAAAAAAAAAAAAAAAAAAAAAAAAAAAAAAAAAAAAAAAAAAAAAAAAAAAAAAAAAAAAAAAAAAAAAAAAAAAAAAAAAAAAAAAAAAAAAAAAAAAAAAAAAAAAAAAAAAAAAAAAAAAAAAAAAAAAAAAAAAAAAAAAAAAAAAAAAAAAAAAAAAAAAAAAAAAAAAAAAAAAAAAAAAAAAAAAAAAAAAAAAAAAAAAAAAAAAAAAAAAAAAAAAAAAAAAAAAAAAAAAAAAAAAAAAAAAAAAAAAAAAAAAAAAAAAAAAAAAAAAAAAAAAAAAAAAAAAAAAAAAAAAAAAAAAAAAAAAAAAAAAAAAAAAAAAAAAAAAAAAAAAAAAAAAAAAAAAAAAAAAAAAAAAAAAAAAAAAAAAAAAAAAAAAAAAAAAAAAAAAAAAAAAAAAAAAAAAAAAAAAAAAAAAAAAAAAAAAAAAAAAAAAAAAAAAAAAAAAAAAAAAAAAAAAAAAAAAAAAAAAAAAAAAAAAAAAAAAAAAAAAAAAAAAAAAAAAAAAAAAAAAAAAAAAAAAAAAAAAAAAAAAAAAAAAAAAAAAAAAAAAAAAAAAAAAAAAAAAAAAAAAAAAAAAAAAAAAAAAAAAAAAAAAAAAAAAAAAAAAAAAAAAAAAAAAAAAAAAAAAAAAAAAAAAAAAAAAAAAAAAAAAAAAAAAAAAAAAAAAAAAAAAAAAAAAAAAAAAAAAAAAAAAAAAAAAAAAAAAAAAAAAAAAAAAAAAAAAAAAAAAAAAAAAAAAAAAAAAAAAAAAAAAAAAAAAAAAAAAAAAAAAAAAACwAAAAAIAAQAEAI/wABABAAAAACAgMCDFg4AIDDhw4DAAgAAIAAAAAGANgIIECABAMACABAsqTJAAAEAAgAYACAAAAADAAAIACAmwECANjJU4CBAAAEBBAAoCiAAQMEAAAwQAAAAAQABEiAgACABQIABBgAQAAAAAIABAAAgAAAAAMCAAgAgEAAAAMEAAgQAAAAAQAIAAggQAAAAAIKAAAwYACBAgAACAAwAIABAgIAABgAgMAAAAAQDABgAEAAAKAFAEAAoLRpAQIADAAwgAAAAQQCHABAG8AAAAIACBAQgMAAAAAGBGgAoDiBAACSJx8gAEAAAgAABAAQgEAAAwcEAAgAoHv3BAIAFP8IoCAAAAEA0gMgEACA+wEOAAA4QGCAAAIABAAIQAAAAIAEABQIACBAAAACAAAYIKCAAAAABAAAIADARQABBAAAECAAAAECAAAYECAAAAACAAgAAIAAAAADAMwMAADAAQAECAQAAGBAgAECAgQAUBRAgAAAABAAIAAAAQEDCEwlACAAgAIACgAAEADA1wQEAAwAQAAAgAAA1KodACAAgAAABBAAEAAAgAEBBAgAEAAAAAECBggAAGDAAAABDgQYoADAY8gMAAAIAMDyZQAGDBAIAMAzAQAACAAYMIAAAAEEBgBgDYAAgAcAZAMQECAAgAEBBBAA0FsAAOABBgBAAAARgAAAAAgEUACAQAAAAAQECAgAOw==\"><title>Layer: hidden2 (hidden)\n",
       " output range: (0, +Infinity)\n",
       " shape = (512,)\n",
       " dropout = 0.2\n",
       " Keras class = Dense\n",
       " activation = relu</title></image><text x=\"280.0\" y=\"207.0\" font-family=\"monospace\" font-size=\"12\" text-anchor=\"start\" alignment-baseline=\"central\">hidden2</text><line x1=\"175.0\" y1=\"334\" x2=\"175.0\" y2=\"307\" stroke=\"red\" stroke-width=\"2\" marker-end=\"url(#arrow)\"><title>Weights from hidden1 to hidden2\n",
       " hidden2/kernel:0 has shape (512, 512)\n",
       " hidden2/bias:0 has shape (512,)</title></line><rect x=\"74.0\" y=\"334\" width=\"202\" height=\"202\" style=\"fill:none;stroke:black;stroke-width:2\"/><image id=\"snapshot-MNIST-381215_hidden1_11\" class=\"snapshot-MNIST-381215_hidden1\" x=\"75.0\" y=\"335\" height=\"200\" width=\"200\" preserveAspectRatio=\"none\" href=\"data:image/gif;base64,R0lGODdhIAAQAIcAAH8AAM0AAK4AAJEAAPQBAf8jI/8ZGf9aWv92dv/Gxv81NdTU//+dnf9ISP+Fhfj2/YKC//9qav+kpP/k5AAA7mFh/3l5/729//+1tQAAAAAAAAAAAAAAAAAAAAAAAAAAAAAAAAAAAAAAAAAAAAAAAAAAAAAAAAAAAAAAAAAAAAAAAAAAAAAAAAAAAAAAAAAAAAAAAAAAAAAAAAAAAAAAAAAAAAAAAAAAAAAAAAAAAAAAAAAAAAAAAAAAAAAAAAAAAAAAAAAAAAAAAAAAAAAAAAAAAAAAAAAAAAAAAAAAAAAAAAAAAAAAAAAAAAAAAAAAAAAAAAAAAAAAAAAAAAAAAAAAAAAAAAAAAAAAAAAAAAAAAAAAAAAAAAAAAAAAAAAAAAAAAAAAAAAAAAAAAAAAAAAAAAAAAAAAAAAAAAAAAAAAAAAAAAAAAAAAAAAAAAAAAAAAAAAAAAAAAAAAAAAAAAAAAAAAAAAAAAAAAAAAAAAAAAAAAAAAAAAAAAAAAAAAAAAAAAAAAAAAAAAAAAAAAAAAAAAAAAAAAAAAAAAAAAAAAAAAAAAAAAAAAAAAAAAAAAAAAAAAAAAAAAAAAAAAAAAAAAAAAAAAAAAAAAAAAAAAAAAAAAAAAAAAAAAAAAAAAAAAAAAAAAAAAAAAAAAAAAAAAAAAAAAAAAAAAAAAAAAAAAAAAAAAAAAAAAAAAAAAAAAAAAAAAAAAAAAAAAAAAAAAAAAAAAAAAAAAAAAAAAAAAAAAAAAAAAAAAAAAAAAAAAAAAAAAAAAAAAAAAAAAAAAAAAAAAAAAAAAAAAAAAAAAAAAAAAAAAAAAAAAAAAAAAAAAAAAAAAAAAAAAAAAAAAAAAAAAAAAAAAAAAAAAAAAAAAAAAAAAAAAAAAAAAAAAAAAAAAAAAAAAAAAAAAAAAAAAAAAAAAAAAAAAAAAAAAAAAAAAAAAAAAAAAAAAAAAAAAAAAAAAAAAAAAAAAAAAAAAAAAAAAAAAAAAAAAAAAAAAAAAAAAAAAAAAAAAAAAAAACwAAAAAIAAQAEAI/wADCAAAYACAgwUAKAQgAIBDAgAAHDgAoOIAAAAGACjAAAAAAQYACAAQAIDJkwgCABgAwACABAAAHAAQAIDNmwJyCgAA4AEBAAIMABAAgICAAQIAJCAAAMAAAQAAEAgAwACAAAAGDAAAoAAAAAEIDAAQQEAAAGjRChAAoG0AAgAWAABAoAGAu3cxBBAAIACAAAEACBYAoHAAAAAILADAmLEAAAACACgAgMAAAAAIACBwAECBBQIAiB5NAAAAAgoiAAAQQEABAAIGCABAewAAAAIAACAAAAABBBckDEAAgAACAAYeACAAAMABABIAABgAAIAAAAAOHFAQAAABAOADAP8YEACAeQABBgwAwJ69AAIBAMgPAEAAgPsDAOhPAEDAAIACAAiYECAAgAEABgAQAABAgAAKADgAIKABAAACAAAoAECAAAAhAQhQAOABAAIDAKwcAADAAAABAMwUACAAAAEBAABoMIABAwoABAQYAABAAAEBEgAYICAAAQQAAAQAEEBABQBZBxBYAMBrAABhwwoIAGAAALQEAKx1ACBBAgADAMwFQABAAAAFCAQAEAFAAACBAwQAEGAAAQAIAAAoACDAYwAOAAAYQICAAQAALAAYICCAAQACCAwAQACAgAMABgAgACCAAACxB0AAYCAAANwCBADgPQHAAAADAEAAUBwRQAEADAAUADBAAQAEAQQACAgAOw==\"><title>Layer: hidden1 (hidden)\n",
       " output range: (0, +Infinity)\n",
       " shape = (512,)\n",
       " dropout = 0.2\n",
       " Keras class = Dense\n",
       " activation = relu</title></image><text x=\"280.0\" y=\"437.0\" font-family=\"monospace\" font-size=\"12\" text-anchor=\"start\" alignment-baseline=\"central\">hidden1</text><line x1=\"175.0\" y1=\"564\" x2=\"175.0\" y2=\"537\" stroke=\"black\" stroke-width=\"2\" marker-end=\"url(#arrow)\"><title>Weights from input to hidden1\n",
       " hidden1/kernel:0 has shape (784, 512)\n",
       " hidden1/bias:0 has shape (512,)</title></line><rect x=\"74.0\" y=\"564\" width=\"202\" height=\"202\" style=\"fill:none;stroke:black;stroke-width:2\"/><image id=\"snapshot-MNIST-381215_input_12\" class=\"snapshot-MNIST-381215_input\" x=\"75.0\" y=\"565\" height=\"200\" width=\"200\" preserveAspectRatio=\"none\" href=\"data:image/gif;base64,R0lGODdhHAAcAIcAAAoAAP//9DIAAE0AAIUAAP//b///sP//0P/9C///LHMAALUAAM8AAP+pAP/IAPICAP8nAP91AP+WAP/UAP//Tf88AP9hAP+KAP//lv/kAAAAAAAAAAAAAAAAAAAAAAAAAAAAAAAAAAAAAAAAAAAAAAAAAAAAAAAAAAAAAAAAAAAAAAAAAAAAAAAAAAAAAAAAAAAAAAAAAAAAAAAAAAAAAAAAAAAAAAAAAAAAAAAAAAAAAAAAAAAAAAAAAAAAAAAAAAAAAAAAAAAAAAAAAAAAAAAAAAAAAAAAAAAAAAAAAAAAAAAAAAAAAAAAAAAAAAAAAAAAAAAAAAAAAAAAAAAAAAAAAAAAAAAAAAAAAAAAAAAAAAAAAAAAAAAAAAAAAAAAAAAAAAAAAAAAAAAAAAAAAAAAAAAAAAAAAAAAAAAAAAAAAAAAAAAAAAAAAAAAAAAAAAAAAAAAAAAAAAAAAAAAAAAAAAAAAAAAAAAAAAAAAAAAAAAAAAAAAAAAAAAAAAAAAAAAAAAAAAAAAAAAAAAAAAAAAAAAAAAAAAAAAAAAAAAAAAAAAAAAAAAAAAAAAAAAAAAAAAAAAAAAAAAAAAAAAAAAAAAAAAAAAAAAAAAAAAAAAAAAAAAAAAAAAAAAAAAAAAAAAAAAAAAAAAAAAAAAAAAAAAAAAAAAAAAAAAAAAAAAAAAAAAAAAAAAAAAAAAAAAAAAAAAAAAAAAAAAAAAAAAAAAAAAAAAAAAAAAAAAAAAAAAAAAAAAAAAAAAAAAAAAAAAAAAAAAAAAAAAAAAAAAAAAAAAAAAAAAAAAAAAAAAAAAAAAAAAAAAAAAAAAAAAAAAAAAAAAAAAAAAAAAAAAAAAAAAAAAAAAAAAAAAAAAAAAAAAAAAAAAAAAAAAAAAAAAAAAAAAAAAAAAAAAAAAAAAAAAAAAAAAAAAAAAAAAAAAAAAAAAAAAAAAAAAAAAAAAAAAAAAAAAAAAAAAAAAAAAAAAAAAAAAAAAAAAAAAAAAAAAAAAAAAAAAAAAAAAAAAAACwAAAAAHAAcAEAI/wABCBxIsKDBgwgBKDAQIMACAQQMBMAwQEEDAwUUANjIsSMAAQUCBEgwAACADAECLADAsqXLly0ZSDCA4AGAmzhz6tzJs6fPnQMKBBhKNAACBgCSKl26VMGBAAEASF1wIECACQCyat3KtavXr2CzMqAQoKzZAAUEAFjLtq1bAAoOBAjwAICABAHy6k0wAIDfv4D/QjgQoLDhABAAKF7MuDGBAJAvAJgMIEKAAA0AaN7MuTMAAQUCiB49YQCA06hTq17NurXr17Bjy549IIKDALgDIBAAoLfv38B9XwgQIAGFAA4CBJAAAAABAQCiS58uHUGAABQAaA8QoEAFDAHCE4cAQL68+fINAqifkCCAe/cIGACYT7++fQAPAujfX2ABAIAABA4kWBDAggMBAhhAUCHAQwIAJE6kWFGAgwABDAwA0DFCgAANAIwkWdIkgQApAaxceSBAAAIAZM6kWRMAhAABJBCwYCBAgAQDAAwlWtQoUQsHAiwN4ADAU6hRpU6lWtXqVaxPAwIAOw==\"><title>Layer: input (input)\n",
       " output range: (0, 1)\n",
       " shape = (784,)\n",
       " Keras class = Input</title></image><text x=\"280.0\" y=\"667.0\" font-family=\"monospace\" font-size=\"12\" text-anchor=\"start\" alignment-baseline=\"central\">input</text></svg>"
      ],
      "text/plain": [
       "<IPython.core.display.HTML object>"
      ]
     },
     "execution_count": 8,
     "metadata": {},
     "output_type": "execute_result"
    }
   ],
   "source": [
    "net.snapshot(height=\"500px\")"
   ]
  },
  {
   "cell_type": "code",
   "execution_count": 9,
   "metadata": {},
   "outputs": [],
   "source": [
    "net.config[\"show_targets\"] = True"
   ]
  },
  {
   "cell_type": "code",
   "execution_count": 11,
   "metadata": {},
   "outputs": [
    {
     "name": "stdout",
     "output_type": "stream",
     "text": [
      "Training...\n",
      "       |  Training |  Training \n",
      "Epochs |     Error |  Accuracy \n",
      "------ | --------- | --------- \n",
      "#    1 |   0.08899 |   0.00000 \n",
      "#    2 |   0.08578 |   0.00000 \n",
      "========================================================================\n",
      "#    2 |   0.08578 |   0.00000 \n",
      "========================================================\n",
      "Testing validation dataset with tolerance 0.1...\n",
      "Total count: 70000\n",
      "      correct: 0\n",
      "      incorrect: 70000\n",
      "Total percentage correct: 0.0\n"
     ]
    }
   ],
   "source": [
    "net.train(1, batch_size=128, verbose=1)\n",
    "net.test()"
   ]
  },
  {
   "cell_type": "code",
   "execution_count": 12,
   "metadata": {},
   "outputs": [
    {
     "name": "stdout",
     "output_type": "stream",
     "text": [
      "CPU times: user 163 ms, sys: 13 ms, total: 176 ms\n",
      "Wall time: 145 ms\n"
     ]
    }
   ],
   "source": [
    "%%time\n",
    "for pattern in net.dataset.inputs[:100]:\n",
    "    net.propagate(pattern)"
   ]
  },
  {
   "cell_type": "code",
   "execution_count": 13,
   "metadata": {},
   "outputs": [],
   "source": [
    "from conx import Network, Layer, Conv2DLayer, MaxPool2DLayer, FlattenLayer"
   ]
  },
  {
   "cell_type": "code",
   "execution_count": 14,
   "metadata": {},
   "outputs": [],
   "source": [
    "net = Network(\"MNIST-CNN\")\n",
    "net.add(Layer(\"input\", (28,28,1), colormap=\"hot\", minmax=(0,1)))\n",
    "net.add(Conv2DLayer(\"Conv2D-1\", 16, (5,5), activation=\"relu\"))\n",
    "net.add(MaxPool2DLayer(\"maxpool1\", (2,2)))\n",
    "net.add(Conv2DLayer(\"Conv2D-2\", 132, (5,5), activation=\"relu\")) \n",
    "net.add(MaxPool2DLayer(\"maxpool2\", (2,2)))\n",
    "net.add(FlattenLayer(\"flatten\", visible=True))\n",
    "net.add(Layer(\"hidden\", 1000, activation='relu', vshape=(8,125), image_maxdim=500))\n",
    "net.add(Layer(\"output\", 10, activation='softmax'))\n",
    "\n",
    "net.connect()"
   ]
  },
  {
   "cell_type": "code",
   "execution_count": 15,
   "metadata": {},
   "outputs": [],
   "source": [
    "net.compile(error=\"binary_crossentropy\", optimizer=\"rmsprop\")"
   ]
  },
  {
   "cell_type": "code",
   "execution_count": 16,
   "metadata": {},
   "outputs": [],
   "source": [
    "ds = net.dataset\n",
    "ds.get('mnist')"
   ]
  },
  {
   "cell_type": "code",
   "execution_count": 17,
   "metadata": {},
   "outputs": [],
   "source": [
    "ds.slice(100)"
   ]
  },
  {
   "cell_type": "code",
   "execution_count": 18,
   "metadata": {},
   "outputs": [
    {
     "name": "stdout",
     "output_type": "stream",
     "text": [
      "Evaluating initial training metrics...\n",
      "Training...\n",
      "       |  Training |  Training \n",
      "Epochs |     Error |  Accuracy \n",
      "------ | --------- | --------- \n",
      "#    0 |   0.32450 |   0.00000 \n",
      "#    1 |   0.35377 |   0.00000 \n",
      "========================================================================\n",
      "#    1 |   0.35377 |   0.00000 \n"
     ]
    }
   ],
   "source": [
    "net.train()"
   ]
  },
  {
   "cell_type": "code",
   "execution_count": 19,
   "metadata": {
    "scrolled": false
   },
   "outputs": [
    {
     "data": {
      "application/vnd.jupyter.widget-view+json": {
       "model_id": "6775d3a4333e408b91f256ed2c0d12b2",
       "version_major": 2,
       "version_minor": 0
      },
      "text/html": [
       "<p>Failed to display Jupyter Widget of type <code>Dashboard</code>.</p>\n",
       "<p>\n",
       "  If you're reading this message in the Jupyter Notebook or JupyterLab Notebook, it may mean\n",
       "  that the widgets JavaScript is still loading. If this message persists, it\n",
       "  likely means that the widgets JavaScript library is either not installed or\n",
       "  not enabled. See the <a href=\"https://ipywidgets.readthedocs.io/en/stable/user_install.html\">Jupyter\n",
       "  Widgets Documentation</a> for setup instructions.\n",
       "</p>\n",
       "<p>\n",
       "  If you're reading this message in another frontend (for example, a static\n",
       "  rendering on GitHub or <a href=\"https://nbviewer.jupyter.org/\">NBViewer</a>),\n",
       "  it may mean that your frontend doesn't currently support widgets.\n",
       "</p>\n"
      ],
      "text/plain": [
       "Dashboard(children=(Accordion(children=(HBox(children=(VBox(children=(Select(description='Dataset:', index=1, options=('Test', 'Train'), rows=1, value='Train'), FloatSlider(value=1.0, continuous_update=False, description='Zoom', max=5.0, min=0.1), IntText(value=150, description='Horizontal space between banks:', style=DescriptionStyle(description_width='initial')), IntText(value=30, description='Vertical space between layers:', style=DescriptionStyle(description_width='initial')), HBox(children=(Checkbox(value=False, description='Show Targets', style=DescriptionStyle(description_width='initial')), Checkbox(value=False, description='Errors', style=DescriptionStyle(description_width='initial')))), Select(description='Features:', options=('', 'input', 'Conv2D-1', 'maxpool1', 'Conv2D-2', 'maxpool2'), rows=1, value=''), IntText(value=3, description='Feature columns:', style=DescriptionStyle(description_width='initial')), FloatText(value=2.0, description='Feature scale:', style=DescriptionStyle(description_width='initial'))), layout=Layout(width='100%')), VBox(children=(Select(description='Layer:', index=7, options=('input', 'Conv2D-1', 'maxpool1', 'Conv2D-2', 'maxpool2', 'flatten', 'hidden', 'output'), rows=1, value='output'), Checkbox(value=True, description='Visible'), Select(description='Colormap:', options=('', 'Accent', 'Accent_r', 'Blues', 'Blues_r', 'BrBG', 'BrBG_r', 'BuGn', 'BuGn_r', 'BuPu', 'BuPu_r', 'CMRmap', 'CMRmap_r', 'Dark2', 'Dark2_r', 'GnBu', 'GnBu_r', 'Greens', 'Greens_r', 'Greys', 'Greys_r', 'OrRd', 'OrRd_r', 'Oranges', 'Oranges_r', 'PRGn', 'PRGn_r', 'Paired', 'Paired_r', 'Pastel1', 'Pastel1_r', 'Pastel2', 'Pastel2_r', 'PiYG', 'PiYG_r', 'PuBu', 'PuBuGn', 'PuBuGn_r', 'PuBu_r', 'PuOr', 'PuOr_r', 'PuRd', 'PuRd_r', 'Purples', 'Purples_r', 'RdBu', 'RdBu_r', 'RdGy', 'RdGy_r', 'RdPu', 'RdPu_r', 'RdYlBu', 'RdYlBu_r', 'RdYlGn', 'RdYlGn_r', 'Reds', 'Reds_r', 'Set1', 'Set1_r', 'Set2', 'Set2_r', 'Set3', 'Set3_r', 'Spectral', 'Spectral_r', 'Vega10', 'Vega10_r', 'Vega20', 'Vega20_r', 'Vega20b', 'Vega20b_r', 'Vega20c', 'Vega20c_r', 'Wistia', 'Wistia_r', 'YlGn', 'YlGnBu', 'YlGnBu_r', 'YlGn_r', 'YlOrBr', 'YlOrBr_r', 'YlOrRd', 'YlOrRd_r', 'afmhot', 'afmhot_r', 'autumn', 'autumn_r', 'binary', 'binary_r', 'bone', 'bone_r', 'brg', 'brg_r', 'bwr', 'bwr_r', 'cool', 'cool_r', 'coolwarm', 'coolwarm_r', 'copper', 'copper_r', 'cubehelix', 'cubehelix_r', 'flag', 'flag_r', 'gist_earth', 'gist_earth_r', 'gist_gray', 'gist_gray_r', 'gist_heat', 'gist_heat_r', 'gist_ncar', 'gist_ncar_r', 'gist_rainbow', 'gist_rainbow_r', 'gist_stern', 'gist_stern_r', 'gist_yarg', 'gist_yarg_r', 'gnuplot', 'gnuplot2', 'gnuplot2_r', 'gnuplot_r', 'gray', 'gray_r', 'hot', 'hot_r', 'hsv', 'hsv_r', 'inferno', 'inferno_r', 'jet', 'jet_r', 'magma', 'magma_r', 'nipy_spectral', 'nipy_spectral_r', 'ocean', 'ocean_r', 'pink', 'pink_r', 'plasma', 'plasma_r', 'prism', 'prism_r', 'rainbow', 'rainbow_r', 'seismic', 'seismic_r', 'spectral', 'spectral_r', 'spring', 'spring_r', 'summer', 'summer_r', 'tab10', 'tab10_r', 'tab20', 'tab20_r', 'tab20b', 'tab20b_r', 'tab20c', 'tab20c_r', 'terrain', 'terrain_r', 'viridis', 'viridis_r', 'winter', 'winter_r'), rows=1, value=''), HTML(value='<img src=\"data:image/gif;base64,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\"/>'), FloatText(value=0.0, description='Leftmost color maps to:', style=DescriptionStyle(description_width='initial')), FloatText(value=1.0, description='Rightmost color maps to:', style=DescriptionStyle(description_width='initial')), IntText(value=0, description='Feature to show:', style=DescriptionStyle(description_width='initial'))), layout=Layout(width='100%')))),), selected_index=None, _titles={'0': 'MNIST-CNN'}), VBox(children=(HBox(children=(IntSlider(value=0, continuous_update=False, description='Dataset index', layout=Layout(width='100%'), max=99), Label(value='of 100', layout=Layout(width='100px'))), layout=Layout(height='40px')), HBox(children=(Button(icon='fast-backward', layout=Layout(width='100%'), style=ButtonStyle()), Button(icon='backward', layout=Layout(width='100%'), style=ButtonStyle()), IntText(value=0, layout=Layout(width='100%')), Button(icon='forward', layout=Layout(width='100%'), style=ButtonStyle()), Button(icon='fast-forward', layout=Layout(width='100%'), style=ButtonStyle()), Button(description='Play', icon='play', layout=Layout(width='100%'), style=ButtonStyle()), Button(icon='refresh', layout=Layout(width='25%'), style=ButtonStyle())), layout=Layout(height='50px', width='100%'))), layout=Layout(width='100%')), HTML(value='<p style=\"text-align:center\"></p>', layout=Layout(justify_content='center', overflow_x='auto', overflow_y='auto', width='95%')), Output()))"
      ]
     },
     "metadata": {},
     "output_type": "display_data"
    },
    {
     "data": {
      "application/javascript": [
       "\n",
       "require(['base/js/namespace'], function(Jupyter) {\n",
       "    Jupyter.notebook.kernel.comm_manager.register_target('conx_svg_control', function(comm, msg) {\n",
       "        comm.on_msg(function(msg) {\n",
       "            var data = msg[\"content\"][\"data\"];\n",
       "            var images = document.getElementsByClassName(data[\"class\"]);\n",
       "            for (var i = 0; i < images.length; i++) {\n",
       "                if (data[\"href\"]) {\n",
       "                    images[i].setAttributeNS(null, \"href\", data[\"href\"]);\n",
       "                }\n",
       "                if (data[\"src\"]) {\n",
       "                    images[i].setAttributeNS(null, \"src\", data[\"src\"]);\n",
       "                }\n",
       "            }\n",
       "        });\n",
       "    });\n",
       "});\n"
      ],
      "text/plain": [
       "<IPython.core.display.Javascript object>"
      ]
     },
     "metadata": {},
     "output_type": "display_data"
    },
    {
     "data": {
      "application/javascript": [
       "\n",
       "require(['base/js/namespace'], function(Jupyter) {\n",
       "    Jupyter.notebook.kernel.comm_manager.register_target('conx_svg_control', function(comm, msg) {\n",
       "        comm.on_msg(function(msg) {\n",
       "            var data = msg[\"content\"][\"data\"];\n",
       "            var images = document.getElementsByClassName(data[\"class\"]);\n",
       "            for (var i = 0; i < images.length; i++) {\n",
       "                if (data[\"href\"]) {\n",
       "                    images[i].setAttributeNS(null, \"href\", data[\"href\"]);\n",
       "                }\n",
       "                if (data[\"src\"]) {\n",
       "                    images[i].setAttributeNS(null, \"src\", data[\"src\"]);\n",
       "                }\n",
       "            }\n",
       "        });\n",
       "    });\n",
       "});\n"
      ],
      "text/plain": [
       "<IPython.core.display.Javascript object>"
      ]
     },
     "metadata": {},
     "output_type": "display_data"
    },
    {
     "data": {
      "application/javascript": [
       "\n",
       "require(['base/js/namespace'], function(Jupyter) {\n",
       "    Jupyter.notebook.kernel.comm_manager.register_target('conx_svg_control', function(comm, msg) {\n",
       "        comm.on_msg(function(msg) {\n",
       "            var data = msg[\"content\"][\"data\"];\n",
       "            var images = document.getElementsByClassName(data[\"class\"]);\n",
       "            for (var i = 0; i < images.length; i++) {\n",
       "                if (data[\"href\"]) {\n",
       "                    images[i].setAttributeNS(null, \"href\", data[\"href\"]);\n",
       "                }\n",
       "                if (data[\"src\"]) {\n",
       "                    images[i].setAttributeNS(null, \"src\", data[\"src\"]);\n",
       "                }\n",
       "            }\n",
       "        });\n",
       "    });\n",
       "});\n"
      ],
      "text/plain": [
       "<IPython.core.display.Javascript object>"
      ]
     },
     "metadata": {},
     "output_type": "display_data"
    }
   ],
   "source": [
    "net.dashboard()"
   ]
  },
  {
   "cell_type": "code",
   "execution_count": 21,
   "metadata": {},
   "outputs": [
    {
     "data": {
      "application/javascript": [
       "\n",
       "require(['base/js/namespace'], function(Jupyter) {\n",
       "    Jupyter.notebook.kernel.comm_manager.register_target('conx_svg_control', function(comm, msg) {\n",
       "        comm.on_msg(function(msg) {\n",
       "            var data = msg[\"content\"][\"data\"];\n",
       "            var images = document.getElementsByClassName(data[\"class\"]);\n",
       "            for (var i = 0; i < images.length; i++) {\n",
       "                if (data[\"href\"]) {\n",
       "                    images[i].setAttributeNS(null, \"href\", data[\"href\"]);\n",
       "                }\n",
       "                if (data[\"src\"]) {\n",
       "                    images[i].setAttributeNS(null, \"src\", data[\"src\"]);\n",
       "                }\n",
       "            }\n",
       "        });\n",
       "    });\n",
       "});\n"
      ],
      "text/plain": [
       "<IPython.core.display.Javascript object>"
      ]
     },
     "metadata": {},
     "output_type": "display_data"
    },
    {
     "data": {
      "text/html": [
       "<svg id='MNIST-CNN' xmlns='http://www.w3.org/2000/svg' viewBox=\"0 0 650 1347\" height=\"500px\" image-rendering=\"pixelated\">\n",
       "    <defs>\n",
       "        <marker id=\"arrow\" markerWidth=\"10\" markerHeight=\"10\" refX=\"9\" refY=\"3\" orient=\"auto\" markerUnits=\"strokeWidth\">\n",
       "          <path d=\"M0,0 L0,6 L9,3 z\" fill=\"black\" />\n",
       "        </marker>\n",
       "    </defs><text x=\"325.0\" y=\"12.5\" font-family=\"monospace\" font-size=\"15\" text-anchor=\"middle\" alignment-baseline=\"central\">MNIST-CNN</text><rect x=\"224.0\" y=\"29\" width=\"202\" height=\"27\" style=\"fill:none;stroke:black;stroke-width:2\"/><image id=\"snapshot-MNIST-CNN-643699_output_17\" class=\"snapshot-MNIST-CNN-643699_output\" x=\"225.0\" y=\"30\" height=\"25\" width=\"200\" preserveAspectRatio=\"none\" href=\"data:image/gif;base64,R0lGODdhCgABAIcAAMzM/9HR/wAAAAAAAAAAAAAAAAAAAAAAAAAAAAAAAAAAAAAAAAAAAAAAAAAAAAAAAAAAAAAAAAAAAAAAAAAAAAAAAAAAAAAAAAAAAAAAAAAAAAAAAAAAAAAAAAAAAAAAAAAAAAAAAAAAAAAAAAAAAAAAAAAAAAAAAAAAAAAAAAAAAAAAAAAAAAAAAAAAAAAAAAAAAAAAAAAAAAAAAAAAAAAAAAAAAAAAAAAAAAAAAAAAAAAAAAAAAAAAAAAAAAAAAAAAAAAAAAAAAAAAAAAAAAAAAAAAAAAAAAAAAAAAAAAAAAAAAAAAAAAAAAAAAAAAAAAAAAAAAAAAAAAAAAAAAAAAAAAAAAAAAAAAAAAAAAAAAAAAAAAAAAAAAAAAAAAAAAAAAAAAAAAAAAAAAAAAAAAAAAAAAAAAAAAAAAAAAAAAAAAAAAAAAAAAAAAAAAAAAAAAAAAAAAAAAAAAAAAAAAAAAAAAAAAAAAAAAAAAAAAAAAAAAAAAAAAAAAAAAAAAAAAAAAAAAAAAAAAAAAAAAAAAAAAAAAAAAAAAAAAAAAAAAAAAAAAAAAAAAAAAAAAAAAAAAAAAAAAAAAAAAAAAAAAAAAAAAAAAAAAAAAAAAAAAAAAAAAAAAAAAAAAAAAAAAAAAAAAAAAAAAAAAAAAAAAAAAAAAAAAAAAAAAAAAAAAAAAAAAAAAAAAAAAAAAAAAAAAAAAAAAAAAAAAAAAAAAAAAAAAAAAAAAAAAAAAAAAAAAAAAAAAAAAAAAAAAAAAAAAAAAAAAAAAAAAAAAAAAAAAAAAAAAAAAAAAAAAAAAAAAAAAAAAAAAAAAAAAAAAAAAAAAAAAAAAAAAAAAAAAAAAAAAAAAAAAAAAAAAAAAAAAAAAAAAAAAAAAAAAAAAAAAAAAAAAAAAAAAAAAAAAAAAAAAAAAAAAAAAAAAAAAAAAAAAAAAAAAAAAAAAAAAAAAAAAAAAAAAAAAAAAAAAAAAAAAAAAAAAAAAAAAAAAAAAAAAAAAAAAAAAAAAAAAAAAAAACwAAAAACgABAAAIDAABBABAEEAAAAgDAgA7\"><title>Layer: output (output)\n",
       " shape = (10,)\n",
       " Keras class = Dense\n",
       " activation = softmax</title></image><text x=\"430.0\" y=\"44.5\" font-family=\"monospace\" font-size=\"12\" text-anchor=\"start\" alignment-baseline=\"central\">output</text><line x1=\"325.0\" y1=\"84\" x2=\"325.0\" y2=\"57\" stroke=\"black\" stroke-width=\"2\" marker-end=\"url(#arrow)\"><title>Weights from hidden to output\n",
       " output/kernel has shape (1000, 10)\n",
       " output/bias has shape (10,)</title></line><rect x=\"74.0\" y=\"84\" width=\"502\" height=\"34\" style=\"fill:none;stroke:black;stroke-width:2\"/><image id=\"snapshot-MNIST-CNN-643699_hidden_18\" class=\"snapshot-MNIST-CNN-643699_hidden\" x=\"75.0\" y=\"85\" height=\"32\" width=\"500\" preserveAspectRatio=\"none\" href=\"data:image/gif;base64,R0lGODdhfQAIAIcAAP37/efn/9fX/8jI/7i4/6io/5ub/wAAAAAAAAAAAAAAAAAAAAAAAAAAAAAAAAAAAAAAAAAAAAAAAAAAAAAAAAAAAAAAAAAAAAAAAAAAAAAAAAAAAAAAAAAAAAAAAAAAAAAAAAAAAAAAAAAAAAAAAAAAAAAAAAAAAAAAAAAAAAAAAAAAAAAAAAAAAAAAAAAAAAAAAAAAAAAAAAAAAAAAAAAAAAAAAAAAAAAAAAAAAAAAAAAAAAAAAAAAAAAAAAAAAAAAAAAAAAAAAAAAAAAAAAAAAAAAAAAAAAAAAAAAAAAAAAAAAAAAAAAAAAAAAAAAAAAAAAAAAAAAAAAAAAAAAAAAAAAAAAAAAAAAAAAAAAAAAAAAAAAAAAAAAAAAAAAAAAAAAAAAAAAAAAAAAAAAAAAAAAAAAAAAAAAAAAAAAAAAAAAAAAAAAAAAAAAAAAAAAAAAAAAAAAAAAAAAAAAAAAAAAAAAAAAAAAAAAAAAAAAAAAAAAAAAAAAAAAAAAAAAAAAAAAAAAAAAAAAAAAAAAAAAAAAAAAAAAAAAAAAAAAAAAAAAAAAAAAAAAAAAAAAAAAAAAAAAAAAAAAAAAAAAAAAAAAAAAAAAAAAAAAAAAAAAAAAAAAAAAAAAAAAAAAAAAAAAAAAAAAAAAAAAAAAAAAAAAAAAAAAAAAAAAAAAAAAAAAAAAAAAAAAAAAAAAAAAAAAAAAAAAAAAAAAAAAAAAAAAAAAAAAAAAAAAAAAAAAAAAAAAAAAAAAAAAAAAAAAAAAAAAAAAAAAAAAAAAAAAAAAAAAAAAAAAAAAAAAAAAAAAAAAAAAAAAAAAAAAAAAAAAAAAAAAAAAAAAAAAAAAAAAAAAAAAAAAAAAAAAAAAAAAAAAAAAAAAAAAAAAAAAAAAAAAAAAAAAAAAAAAAAAAAAAAAAAAAAAAAAAAAAAAAAAAAAAAAAAAAAAAAAAAAAAAAAAAAAAAAAAAAAAAAAAAAAAAAAAAAAAAAAAAAAAAAAAAAAAAAAAAAAAAAAAAAAAAAACwAAAAAfQAIAAAI/wAFABgIIACAAAASCgAQAAAAAgIAEABAUQCAiwAEAAAQAACAAQAACAAgAEAAAAACACgQAIAAADAHAJgZAIAAADgHANgJIAAAAAEACAUgQAAAAAIAEAAAQACApwMASJ0KYECAAgAEABAQAIDXrwACFABAtqwAAGjTBiAgAIBbAAIMACgQAAAAAgIEDABAYAAAAAMABAAgAEAAAIgTAyAAoLHjx5AbBwAwAIDly5gzYxYAQACAzwAGBABAugAAAAMABAAQYIAAAQMCAJgdYEAAAAACABAQoDeAAAQACB9OPAAAAQAACAAAgACA588FAAAQAEABAAQEFADAvXv3AADCh/8XEKA8AAIDAgBYzx5AAAADAMifD0AAAAEBBADYDyAAAIAAABAQAMAgAAEAAAQA0FAAgQEAJAoQEAAAgAEEBgDgKADAx48FAgAAEADAyZMBAgAIIADASwEBAMykWdNmAAACBADgCUBAAABBBQAgGiAAAKRIBQAYAMCpUwEADAQAECAAAKxYBQAAEADAV7ABBggAACDAAAABBABg2zYAALhx4QYAMADA3bsBAOwlICCAAACBAwsAUNgwgAADACweAGAAgAAABACgTHlAAAAAAgDgTKAAANAAAgQAQAAAAAEACgBg3Zr1AAEAAAgAUDtAAAEAdO8OACCAAAEAhA8XPgD/AIABAQoAYD4AAAABAwQAoC4AAIEAALQLANAdQIAAAMQPAACAAAD0AQCsZ98egAAA8eULACBAQAAABgAAKAAgAEAAAAIAGAAAQAACAwAAGAAgQAAAAgAEAAAgQAAAAAgAEADg48cBIgGQDABAAICUKlcCCBAAAAABAGYKAGDzps0BAHYGAEAAwAAAAwYAEADg6FEBAAYAaNpUQAAAUqUKEADgKlYAAgAACADga4CwAAAIACAgAAAAAQCwDSAgAIAAAAAIAGD3LgABAAYA6Ns3AIDAAAQAKDwggIEAABYzbiwAAIAABABQrkw5AIDMmQMMCAAgQAAABQgAKA1AAIAAeAAABBgA4DUAAQBmBwAQAAAAAQAADAAAgECAAAMAABAQYACAAAAGAGjuPAB0AAAGABgAAEAAAAEAcB8AIAAAAAEAkAcQAAB6AAIGABAA4D0AAQEA0CcAAEAAAPoBCAAAAGCAAAAICgBwEEAAAAACAHAIYAAAiQACAgA7\"><title>Layer: hidden (hidden)\n",
       " shape = (1000,)\n",
       " Keras class = Dense\n",
       " activation = relu</title></image><text x=\"580.0\" y=\"103.0\" font-family=\"monospace\" font-size=\"12\" text-anchor=\"start\" alignment-baseline=\"central\">hidden</text><line x1=\"325.0\" y1=\"146\" x2=\"325.0\" y2=\"119\" stroke=\"black\" stroke-width=\"2\" marker-end=\"url(#arrow)\"><title>Weights from flatten to hidden\n",
       " hidden/kernel has shape (2112, 1000)\n",
       " hidden/bias has shape (1000,)</title></line><rect x=\"224.0\" y=\"146\" width=\"202\" height=\"27\" style=\"fill:none;stroke:black;stroke-width:2\"/><image id=\"snapshot-MNIST-CNN-643699_flatten_19\" class=\"snapshot-MNIST-CNN-643699_flatten\" x=\"225.0\" y=\"147\" height=\"25\" width=\"200\" preserveAspectRatio=\"none\" href=\"data:image/gif;base64,R0lGODdhQAgBAIcAAPv6/efn/9fX/8fH/7e3/6en/5iY/3Fx/wAAAAAAAAAAAAAAAAAAAAAAAAAAAAAAAAAAAAAAAAAAAAAAAAAAAAAAAAAAAAAAAAAAAAAAAAAAAAAAAAAAAAAAAAAAAAAAAAAAAAAAAAAAAAAAAAAAAAAAAAAAAAAAAAAAAAAAAAAAAAAAAAAAAAAAAAAAAAAAAAAAAAAAAAAAAAAAAAAAAAAAAAAAAAAAAAAAAAAAAAAAAAAAAAAAAAAAAAAAAAAAAAAAAAAAAAAAAAAAAAAAAAAAAAAAAAAAAAAAAAAAAAAAAAAAAAAAAAAAAAAAAAAAAAAAAAAAAAAAAAAAAAAAAAAAAAAAAAAAAAAAAAAAAAAAAAAAAAAAAAAAAAAAAAAAAAAAAAAAAAAAAAAAAAAAAAAAAAAAAAAAAAAAAAAAAAAAAAAAAAAAAAAAAAAAAAAAAAAAAAAAAAAAAAAAAAAAAAAAAAAAAAAAAAAAAAAAAAAAAAAAAAAAAAAAAAAAAAAAAAAAAAAAAAAAAAAAAAAAAAAAAAAAAAAAAAAAAAAAAAAAAAAAAAAAAAAAAAAAAAAAAAAAAAAAAAAAAAAAAAAAAAAAAAAAAAAAAAAAAAAAAAAAAAAAAAAAAAAAAAAAAAAAAAAAAAAAAAAAAAAAAAAAAAAAAAAAAAAAAAAAAAAAAAAAAAAAAAAAAAAAAAAAAAAAAAAAAAAAAAAAAAAAAAAAAAAAAAAAAAAAAAAAAAAAAAAAAAAAAAAAAAAAAAAAAAAAAAAAAAAAAAAAAAAAAAAAAAAAAAAAAAAAAAAAAAAAAAAAAAAAAAAAAAAAAAAAAAAAAAAAAAAAAAAAAAAAAAAAAAAAAAAAAAAAAAAAAAAAAAAAAAAAAAAAAAAAAAAAAAAAAAAAAAAAAAAAAAAAAAAAAAAAAAAAAAAAAAAAAAAAAAAAAAAAAAAAAAAAAAAAAAAAAAAAAAAAAAAAAAAAAAAAAAAAAAAAAAAAAAAAAAAAAAAAAAAAAAAAAAAAAAAAAAAAACwAAAAAQAgBAAAI/wAFAAgAoGBBAQAEKAQAIEAAAAAEAAAgQACAAAAACBAAYECAAAMCFBgQAIAAAAECEADAMgCAlzAFAJg5c0AAADgDDAAQIMCAAAACABg6NAAAAQACCAAQIMAAAAEACAggAACAAQEAaAUwAIDXr18HABAAoGzZAAIAABgQAACAAQEEAJhLFwABAAPyCgAgAIAAAAMCACAQAEAAAAEGAAAQgEAAAQAIDBAQQACBAAEGANg8AIDnzwIAiBYQgEAAAAMGBBgQQACAAgIADAAQAACAAAIACAAAgAAAAQIGBAgAIICAAAAADBAAoDkAAQAABJgOoHqAAQAABAAAIAAAAAIAEP8oEEBAgAADBKgHwF4AgAIBBBAQMABAAAACABQIAKCAAIAAAgQYMADAwQICBAAYEGAAAAEDAgQoAMDiAAAZNRIA0HGAAAEABAwQAKBAAAEACAAAEADAy5cDAAwAAGAAAAEBDAQIAEAAgAIBAggIEADA0QAAAAQAMADA0wEDAAAIAABAAAAAAgAoQCCAgAAABIwVAABAAAAABgAIIIDAAAABAAQAUCAAgAEAAAQAMEAAAMADBAgAIEDAgAACFAcQEABAgAEAJE8WECAAgAEBBAAQQEAAgAEBAgAYAABAAAABAAQIMCBAAAAABACgXYBAAAACABAIEABAgAAAhAcIAMD/OAEAyQUIAAAgAAAAAQAAEABgwAAAAgAECAAAAAEA4QEIEAAgQAAAAAIACAAAwAAAAAYQAFC/fgAA+QMIACCgAMAAAAIAKDgAAEIBAQIAaAhgAICIAAIMAGARQAABAQQAABAAAMgAAEYGACAAQIABAAIMIADgpYAAAgAACCAgAICcOQMEABAgAICgAgAEAGAUQAAAAgAAEABAQIABAgYEGAAAgAAAAAYACOBVANgAAAAYAACAwAAAAgAAEBAAAAABAAAEGEAgAF4AegcA6CsAAODABAQMABAAgIAAAAYEAFAAAIEBAwIAGABgAAAABAIAGAAAQAEAAwQUGAAAgAAA/wEAABAgAADsAAMABAAQ4DaA3AMCAOgNIAAAAAMAACAAIMCAAAAGBBAAIIAAAAAEABAQIEABAAMABABQAACAAQEACAAAIACA9AYAsA8QAEAAAAIADBgAAEAAAgACAOgPAKAAAAIADAgQYAAAAQMAFAAgAEABAQEIABAAIICAAQACAABAAMCAAQUMCAAgAEAAAAIAtHQpAEBMAgEA1AQgAEDOnAEEAPAZwICAAAEADAAAIAAAAAIAABAQYMCAAAIADABwlUAAAFsBBPAaAEBYAgDIAhgQAACAAQAEBAAAIEAAAHPpCggQAIAAAAACBBAwAACBAAMACAAgIAAAxQAECP8A8BjAAAABBBQgEACAAAADAgQAACAAANGjAQwIACAAAAECALQOAEAAANkCAggAcBuAgAC7AfQGICAAgAAAiAMIEAAAAAEAmAcAEABAdOnSAwQYEAA7AAABBgDwHgA8AAABAAgAEABAevXqAwQQACBAAADzAQQAEEAAAP0BBAgIABBAAAABAAQIACChQoUBAAQAEEAAgIkAAgQAgDEjRgEABAAAECAkAAADAAAIAAAAAQABAggAADMmAQAABAQAECAAAAABAAAIEEBAAAIDAAAYEABAAAIAmgoQACAqAQAFAAQAEACAAAEAAAQIMEBAAAEDAgQAgBZtAAEA2gooIED/wIADAAIACIAXQIAAAgIA+BsAAIAAAAIEAIBYQAABABoDEABAwAAABQAEABBgAIEBAwAAICAAwAAAAggQGABAAIAAAAoEADBAAAAAAQAEABBgQAEAAQAM+A0gQAAAAwYAOB4gAIDlAgAUACAAgPQBAwAIKBCAQIABAggAADAAgHgAAgYAEAAAAAEAAwYYCAAAwAAAAgAIGCAAgH4AAgD4BygAAIAAAAAMCABAIQABAQAEAACgAACKAAIMABAAgIABAQAEGCBggIABAAYAEABAgAAALVsGgAlAJoEAAAAEABAgAAABAQQEABBU6FABAgAcDQAgAAACAgAICCAAwAAA/wEEBBAAAMCAAQAEAAAgAMDYAQIAAAgAQAAAAQAABAAQVy4AAQAACAAgIAAAvnwFAAAcQEABAIUBDBAQAMDiAAAABAAgYMCAAAAGAMCcGYAAAJ0BBAgAIMAAAAEECACQWrUAAgBcvw4AIACAAQBs2w4gAACAAAAGCAgAIEAAAMWNAxAAIACAAAMADAhQAIAAAAEEBAAAYEAA7gAABAAQHoAAAOUBDAgAIAAAAAICCAAgAAABAPUBDBAAIAAAAAEAAAQwIAABAQYBDAggAECAAAAEDAAAIICAAAAABCAQQACAAgQEBBAwQMCAAgIAoEQpAEAAAAUAwBQgIEAAAAEEAP8gEEAAAAECAAANCmAAgAAAABQAMCBAAQBOBQgYICDAAAACAGAVAABAAAACAgAAIIBAAAACAAAQEABAAAECCgCIO2BAAAAEAAAYAADAgAABBggYAEBAAAEABAQAQEAAgMYDAgCITECAAAADCBAIIIBAAAAFBAAIEAAAaQABAAwQAACAgAEBXgsIAKBAgAAABAAAEACAAAC+AwAQAAAAAQAAAhQIAADAAAAEBAAgAGD6dAEBAAQAEAAAdwEDAIAHHyAAAAEABBQAMAAAgAECAgwAIEAAAAAEAgQYIGAAgAAAAAIAMEAAAAIAAAQAACAAgAAABgQAAEBAgAEAAggIEABXQMcAAQCEFBlgAAAAAgCkFFBAAAACAAQAIAAAgAAAAQAAECAgwAAAAAQACCBgwIAAAAQACLAUQAAATwEECAAggIAAAAIAEACAa9euAQAICAAgQAAAAAICADs=\"><title>Layer: flatten (hidden)\n",
       " Keras class = Flatten</title></image><text x=\"430.0\" y=\"161.5\" font-family=\"monospace\" font-size=\"12\" text-anchor=\"start\" alignment-baseline=\"central\">flatten</text><line x1=\"325.0\" y1=\"201\" x2=\"325.0\" y2=\"174\" stroke=\"black\" stroke-width=\"2\" marker-end=\"url(#arrow)\"><title>Weights from maxpool2 to flatten</title></line><rect x=\"224.0\" y=\"201\" width=\"202\" height=\"202\" style=\"fill:none;stroke:black;stroke-width:2\"/><image id=\"snapshot-MNIST-CNN-643699_maxpool2_20\" class=\"snapshot-MNIST-CNN-643699_maxpool2\" x=\"225.0\" y=\"202\" height=\"200\" width=\"200\" preserveAspectRatio=\"none\" href=\"data:image/gif;base64,R0lGODdhBAAEAIcAANfX/8bG//X1/unp/7m5/wAAAAAAAAAAAAAAAAAAAAAAAAAAAAAAAAAAAAAAAAAAAAAAAAAAAAAAAAAAAAAAAAAAAAAAAAAAAAAAAAAAAAAAAAAAAAAAAAAAAAAAAAAAAAAAAAAAAAAAAAAAAAAAAAAAAAAAAAAAAAAAAAAAAAAAAAAAAAAAAAAAAAAAAAAAAAAAAAAAAAAAAAAAAAAAAAAAAAAAAAAAAAAAAAAAAAAAAAAAAAAAAAAAAAAAAAAAAAAAAAAAAAAAAAAAAAAAAAAAAAAAAAAAAAAAAAAAAAAAAAAAAAAAAAAAAAAAAAAAAAAAAAAAAAAAAAAAAAAAAAAAAAAAAAAAAAAAAAAAAAAAAAAAAAAAAAAAAAAAAAAAAAAAAAAAAAAAAAAAAAAAAAAAAAAAAAAAAAAAAAAAAAAAAAAAAAAAAAAAAAAAAAAAAAAAAAAAAAAAAAAAAAAAAAAAAAAAAAAAAAAAAAAAAAAAAAAAAAAAAAAAAAAAAAAAAAAAAAAAAAAAAAAAAAAAAAAAAAAAAAAAAAAAAAAAAAAAAAAAAAAAAAAAAAAAAAAAAAAAAAAAAAAAAAAAAAAAAAAAAAAAAAAAAAAAAAAAAAAAAAAAAAAAAAAAAAAAAAAAAAAAAAAAAAAAAAAAAAAAAAAAAAAAAAAAAAAAAAAAAAAAAAAAAAAAAAAAAAAAAAAAAAAAAAAAAAAAAAAAAAAAAAAAAAAAAAAAAAAAAAAAAAAAAAAAAAAAAAAAAAAAAAAAAAAAAAAAAAAAAAAAAAAAAAAAAAAAAAAAAAAAAAAAAAAAAAAAAAAAAAAAAAAAAAAAAAAAAAAAAAAAAAAAAAAAAAAAAAAAAAAAAAAAAAAAAAAAAAAAAAAAAAAAAAAAAAAAAAAAAAAAAAAAAAAAAAAAAAAAAAAAAAAAAAAAAAAAAAAAAAAAAAAAAAAAAAAAAAAAAAAAAAAAAAAAAAAAAAAAAAAAAAAAAAAAAAAAAAAAAAAAAAAAAAAAAAAAAAAAAAAAACwAAAAABAAEAAAIFAABCAQgIEAAAQMEEAgAAMAAAAEBADs=\"><title>Layer: maxpool2 (hidden)\n",
       " Keras class = MaxPooling2D</title></image><text x=\"430.0\" y=\"304.0\" font-family=\"monospace\" font-size=\"12\" text-anchor=\"start\" alignment-baseline=\"central\">maxpool2</text><text x=\"430.0\" y=\"207\" font-family=\"monospace\" font-size=\"12\" text-anchor=\"start\" alignment-baseline=\"central\">132</text><text x=\"213.0\" y=\"397\" font-family=\"monospace\" font-size=\"12\" text-anchor=\"start\" alignment-baseline=\"central\">0</text><line x1=\"325.0\" y1=\"431\" x2=\"325.0\" y2=\"404\" stroke=\"black\" stroke-width=\"2\" marker-end=\"url(#arrow)\"><title>Weights from Conv2D-2 to maxpool2</title></line><rect x=\"224.0\" y=\"431\" width=\"202\" height=\"202\" style=\"fill:none;stroke:black;stroke-width:2\"/><image id=\"snapshot-MNIST-CNN-643699_Conv2D-2_21\" class=\"snapshot-MNIST-CNN-643699_Conv2D-2\" x=\"225.0\" y=\"432\" height=\"200\" width=\"200\" preserveAspectRatio=\"none\" href=\"data:image/gif;base64,R0lGODdhCAAIAIcAAPn5/ujo/9nZ/8XF/7m5/wAAAAAAAAAAAAAAAAAAAAAAAAAAAAAAAAAAAAAAAAAAAAAAAAAAAAAAAAAAAAAAAAAAAAAAAAAAAAAAAAAAAAAAAAAAAAAAAAAAAAAAAAAAAAAAAAAAAAAAAAAAAAAAAAAAAAAAAAAAAAAAAAAAAAAAAAAAAAAAAAAAAAAAAAAAAAAAAAAAAAAAAAAAAAAAAAAAAAAAAAAAAAAAAAAAAAAAAAAAAAAAAAAAAAAAAAAAAAAAAAAAAAAAAAAAAAAAAAAAAAAAAAAAAAAAAAAAAAAAAAAAAAAAAAAAAAAAAAAAAAAAAAAAAAAAAAAAAAAAAAAAAAAAAAAAAAAAAAAAAAAAAAAAAAAAAAAAAAAAAAAAAAAAAAAAAAAAAAAAAAAAAAAAAAAAAAAAAAAAAAAAAAAAAAAAAAAAAAAAAAAAAAAAAAAAAAAAAAAAAAAAAAAAAAAAAAAAAAAAAAAAAAAAAAAAAAAAAAAAAAAAAAAAAAAAAAAAAAAAAAAAAAAAAAAAAAAAAAAAAAAAAAAAAAAAAAAAAAAAAAAAAAAAAAAAAAAAAAAAAAAAAAAAAAAAAAAAAAAAAAAAAAAAAAAAAAAAAAAAAAAAAAAAAAAAAAAAAAAAAAAAAAAAAAAAAAAAAAAAAAAAAAAAAAAAAAAAAAAAAAAAAAAAAAAAAAAAAAAAAAAAAAAAAAAAAAAAAAAAAAAAAAAAAAAAAAAAAAAAAAAAAAAAAAAAAAAAAAAAAAAAAAAAAAAAAAAAAAAAAAAAAAAAAAAAAAAAAAAAAAAAAAAAAAAAAAAAAAAAAAAAAAAAAAAAAAAAAAAAAAAAAAAAAAAAAAAAAAAAAAAAAAAAAAAAAAAAAAAAAAAAAAAAAAAAAAAAAAAAAAAAAAAAAAAAAAAAAAAAAAAAAAAAAAAAAAAAAAAAAAAAAAAAAAAAAAAAAAAAAAAAAAAAAAAAAAAAAAAAAAAAAAAAAAAAAAAAAAAAAAAAAAAAAAAAAAAAAAAAAAAAACwAAAAACAAIAAAIOwADCBgoIACAAAACBBAgIIAAABADABAAoKLFAQMCANjIcUCAjwEAiAxAYEAAACgBBAggIICAlwFixgwIADs=\"><title>Layer: Conv2D-2 (hidden)\n",
       " Keras class = Conv2D\n",
       " activation = relu</title></image><text x=\"430.0\" y=\"534.0\" font-family=\"monospace\" font-size=\"12\" text-anchor=\"start\" alignment-baseline=\"central\">Conv2D-2</text><text x=\"430.0\" y=\"437\" font-family=\"monospace\" font-size=\"12\" text-anchor=\"start\" alignment-baseline=\"central\">132</text><text x=\"213.0\" y=\"627\" font-family=\"monospace\" font-size=\"12\" text-anchor=\"start\" alignment-baseline=\"central\">0</text><line x1=\"325.0\" y1=\"661\" x2=\"325.0\" y2=\"634\" stroke=\"black\" stroke-width=\"2\" marker-end=\"url(#arrow)\"><title>Weights from maxpool1 to Conv2D-2\n",
       " Conv2D-2/kernel has shape (5, 5, 16, 132)\n",
       " Conv2D-2/bias has shape (132,)</title></line><rect x=\"224.0\" y=\"661\" width=\"202\" height=\"202\" style=\"fill:none;stroke:black;stroke-width:2\"/><image id=\"snapshot-MNIST-CNN-643699_maxpool1_22\" class=\"snapshot-MNIST-CNN-643699_maxpool1\" x=\"225.0\" y=\"662\" height=\"200\" width=\"200\" preserveAspectRatio=\"none\" href=\"data:image/gif;base64,R0lGODdhDAAMAIcAAP37/dXV/5eX/+bm/6en/7i4/8vL/319/4mJ/wAAAAAAAAAAAAAAAAAAAAAAAAAAAAAAAAAAAAAAAAAAAAAAAAAAAAAAAAAAAAAAAAAAAAAAAAAAAAAAAAAAAAAAAAAAAAAAAAAAAAAAAAAAAAAAAAAAAAAAAAAAAAAAAAAAAAAAAAAAAAAAAAAAAAAAAAAAAAAAAAAAAAAAAAAAAAAAAAAAAAAAAAAAAAAAAAAAAAAAAAAAAAAAAAAAAAAAAAAAAAAAAAAAAAAAAAAAAAAAAAAAAAAAAAAAAAAAAAAAAAAAAAAAAAAAAAAAAAAAAAAAAAAAAAAAAAAAAAAAAAAAAAAAAAAAAAAAAAAAAAAAAAAAAAAAAAAAAAAAAAAAAAAAAAAAAAAAAAAAAAAAAAAAAAAAAAAAAAAAAAAAAAAAAAAAAAAAAAAAAAAAAAAAAAAAAAAAAAAAAAAAAAAAAAAAAAAAAAAAAAAAAAAAAAAAAAAAAAAAAAAAAAAAAAAAAAAAAAAAAAAAAAAAAAAAAAAAAAAAAAAAAAAAAAAAAAAAAAAAAAAAAAAAAAAAAAAAAAAAAAAAAAAAAAAAAAAAAAAAAAAAAAAAAAAAAAAAAAAAAAAAAAAAAAAAAAAAAAAAAAAAAAAAAAAAAAAAAAAAAAAAAAAAAAAAAAAAAAAAAAAAAAAAAAAAAAAAAAAAAAAAAAAAAAAAAAAAAAAAAAAAAAAAAAAAAAAAAAAAAAAAAAAAAAAAAAAAAAAAAAAAAAAAAAAAAAAAAAAAAAAAAAAAAAAAAAAAAAAAAAAAAAAAAAAAAAAAAAAAAAAAAAAAAAAAAAAAAAAAAAAAAAAAAAAAAAAAAAAAAAAAAAAAAAAAAAAAAAAAAAAAAAAAAAAAAAAAAAAAAAAAAAAAAAAAAAAAAAAAAAAAAAAAAAAAAAAAAAAAAAAAAAAAAAAAAAAAAAAAAAAAAAAAAAAAAAAAAAAAAAAAAAAAAAAAAAAAAAAAAAAAAAAAAAAAAAAAAAAAAAAAAAAAACwAAAAADAAMAAAIfQABCBxooEAAAQASAhCAgACBAgYKFABAEQABAgYGANi4cQCAjyA/BgAQIACAkwACCCAAwACAlzBfCjhQAIDNmzgDCAgAoKdPAAEECBgQAIDRowQEEBgAAMAAAAACCBBAAIBVAAMMAABQQMAAAGAHBAgAoKxZAAMCBADAlm1AADs=\"><title>Layer: maxpool1 (hidden)\n",
       " Keras class = MaxPooling2D</title></image><text x=\"430.0\" y=\"764.0\" font-family=\"monospace\" font-size=\"12\" text-anchor=\"start\" alignment-baseline=\"central\">maxpool1</text><text x=\"430.0\" y=\"667\" font-family=\"monospace\" font-size=\"12\" text-anchor=\"start\" alignment-baseline=\"central\">16</text><text x=\"213.0\" y=\"857\" font-family=\"monospace\" font-size=\"12\" text-anchor=\"start\" alignment-baseline=\"central\">0</text><line x1=\"325.0\" y1=\"891\" x2=\"325.0\" y2=\"864\" stroke=\"black\" stroke-width=\"2\" marker-end=\"url(#arrow)\"><title>Weights from Conv2D-1 to maxpool1</title></line><rect x=\"224.0\" y=\"891\" width=\"202\" height=\"202\" style=\"fill:none;stroke:black;stroke-width:2\"/><image id=\"snapshot-MNIST-CNN-643699_Conv2D-1_23\" class=\"snapshot-MNIST-CNN-643699_Conv2D-1\" x=\"225.0\" y=\"892\" height=\"200\" width=\"200\" preserveAspectRatio=\"none\" href=\"data:image/gif;base64,R0lGODdhGAAYAIcAAP78/efn/9bW/7m5/6io/8nJ/5eX/4mJ/319/wAAAAAAAAAAAAAAAAAAAAAAAAAAAAAAAAAAAAAAAAAAAAAAAAAAAAAAAAAAAAAAAAAAAAAAAAAAAAAAAAAAAAAAAAAAAAAAAAAAAAAAAAAAAAAAAAAAAAAAAAAAAAAAAAAAAAAAAAAAAAAAAAAAAAAAAAAAAAAAAAAAAAAAAAAAAAAAAAAAAAAAAAAAAAAAAAAAAAAAAAAAAAAAAAAAAAAAAAAAAAAAAAAAAAAAAAAAAAAAAAAAAAAAAAAAAAAAAAAAAAAAAAAAAAAAAAAAAAAAAAAAAAAAAAAAAAAAAAAAAAAAAAAAAAAAAAAAAAAAAAAAAAAAAAAAAAAAAAAAAAAAAAAAAAAAAAAAAAAAAAAAAAAAAAAAAAAAAAAAAAAAAAAAAAAAAAAAAAAAAAAAAAAAAAAAAAAAAAAAAAAAAAAAAAAAAAAAAAAAAAAAAAAAAAAAAAAAAAAAAAAAAAAAAAAAAAAAAAAAAAAAAAAAAAAAAAAAAAAAAAAAAAAAAAAAAAAAAAAAAAAAAAAAAAAAAAAAAAAAAAAAAAAAAAAAAAAAAAAAAAAAAAAAAAAAAAAAAAAAAAAAAAAAAAAAAAAAAAAAAAAAAAAAAAAAAAAAAAAAAAAAAAAAAAAAAAAAAAAAAAAAAAAAAAAAAAAAAAAAAAAAAAAAAAAAAAAAAAAAAAAAAAAAAAAAAAAAAAAAAAAAAAAAAAAAAAAAAAAAAAAAAAAAAAAAAAAAAAAAAAAAAAAAAAAAAAAAAAAAAAAAAAAAAAAAAAAAAAAAAAAAAAAAAAAAAAAAAAAAAAAAAAAAAAAAAAAAAAAAAAAAAAAAAAAAAAAAAAAAAAAAAAAAAAAAAAAAAAAAAAAAAAAAAAAAAAAAAAAAAAAAAAAAAAAAAAAAAAAAAAAAAAAAAAAAAAAAAAAAAAAAAAAAAAAAAAAAAAAAAAAAAAAAAAAAAAAAAAAAAAAAAAAAAAAAAAAAAAAAAAAAAAAAACwAAAAAGAAYAEAI/wABCBxIsKDBgwUFDAgAoCGAAgEASJxIcWKAAQYICAgQAIBHAAEAiBw5MgABAgMKCAgAoKXLlzBjwhQwgACAmzhvBhhgoEAAAECDCg0gQACAo0iTHg1QYACBpwMGFBAgYMCAAACyat3KtavWAAIEABhLtuxYAwgKAFjLtq3btwEAAAgQQACAu3jzChhggIAAAIADCw4QAIDhw4gTAxAgAIDjx5AjSwYQoMAAAQEEGCAAoLPnzgUMHCBQoMCAAQIKBBAAoLXr17ADAJhNu3btAABy697NO7cAAMCDCx8OnIABAgCSAwgAoLnz59CdGzgwIACA69iza98OoIABAQDCi0kfTx6AgAEGDABYHwCA+/fw3xcgYKAAgPv48+sXQMAAAYACAAQAUNCgwQAFAgBg2NDhQ4YBBAgAUNHiRYwVAwgQEADAR5AhAQQEADs=\"><title>Layer: Conv2D-1 (hidden)\n",
       " Keras class = Conv2D\n",
       " activation = relu</title></image><text x=\"430.0\" y=\"994.0\" font-family=\"monospace\" font-size=\"12\" text-anchor=\"start\" alignment-baseline=\"central\">Conv2D-1</text><text x=\"430.0\" y=\"897\" font-family=\"monospace\" font-size=\"12\" text-anchor=\"start\" alignment-baseline=\"central\">16</text><text x=\"213.0\" y=\"1087\" font-family=\"monospace\" font-size=\"12\" text-anchor=\"start\" alignment-baseline=\"central\">0</text><line x1=\"325.0\" y1=\"1121\" x2=\"325.0\" y2=\"1094\" stroke=\"black\" stroke-width=\"2\" marker-end=\"url(#arrow)\"><title>Weights from input to Conv2D-1\n",
       " Conv2D-1/kernel has shape (5, 5, 1, 16)\n",
       " Conv2D-1/bias has shape (16,)</title></line><rect x=\"224.0\" y=\"1121\" width=\"202\" height=\"202\" style=\"fill:none;stroke:black;stroke-width:2\"/><image id=\"snapshot-MNIST-CNN-643699_input_24\" class=\"snapshot-MNIST-CNN-643699_input\" x=\"225.0\" y=\"1122\" height=\"200\" width=\"200\" preserveAspectRatio=\"none\" href=\"data:image/gif;base64,R0lGODdhHAAcAIcAAAoAAP//9jAAAP/8DP//z00AANcAAPMAAG4AAI0AAP+aAP9nAP/MAP//jbMAAP9yAP/pAP//T///c/8lAP9XAP+qAP//Mv82AP9EAP+/AP/WAP//vAAAAAAAAAAAAAAAAAAAAAAAAAAAAAAAAAAAAAAAAAAAAAAAAAAAAAAAAAAAAAAAAAAAAAAAAAAAAAAAAAAAAAAAAAAAAAAAAAAAAAAAAAAAAAAAAAAAAAAAAAAAAAAAAAAAAAAAAAAAAAAAAAAAAAAAAAAAAAAAAAAAAAAAAAAAAAAAAAAAAAAAAAAAAAAAAAAAAAAAAAAAAAAAAAAAAAAAAAAAAAAAAAAAAAAAAAAAAAAAAAAAAAAAAAAAAAAAAAAAAAAAAAAAAAAAAAAAAAAAAAAAAAAAAAAAAAAAAAAAAAAAAAAAAAAAAAAAAAAAAAAAAAAAAAAAAAAAAAAAAAAAAAAAAAAAAAAAAAAAAAAAAAAAAAAAAAAAAAAAAAAAAAAAAAAAAAAAAAAAAAAAAAAAAAAAAAAAAAAAAAAAAAAAAAAAAAAAAAAAAAAAAAAAAAAAAAAAAAAAAAAAAAAAAAAAAAAAAAAAAAAAAAAAAAAAAAAAAAAAAAAAAAAAAAAAAAAAAAAAAAAAAAAAAAAAAAAAAAAAAAAAAAAAAAAAAAAAAAAAAAAAAAAAAAAAAAAAAAAAAAAAAAAAAAAAAAAAAAAAAAAAAAAAAAAAAAAAAAAAAAAAAAAAAAAAAAAAAAAAAAAAAAAAAAAAAAAAAAAAAAAAAAAAAAAAAAAAAAAAAAAAAAAAAAAAAAAAAAAAAAAAAAAAAAAAAAAAAAAAAAAAAAAAAAAAAAAAAAAAAAAAAAAAAAAAAAAAAAAAAAAAAAAAAAAAAAAAAAAAAAAAAAAAAAAAAAAAAAAAAAAAAAAAAAAAAAAAAAAAAAAAAAAAAAAAAAAAAAAAAAAAAAAAAAAAAAAAAAAAAAAAAAAAAAAAAAAAAAAAAAAAAAAAAAAAAAAAAAAAAAAAAAAAAAAAACwAAAAAHAAcAEAI/wABCBxIsKDBgwcFSAjAkOEACAQIAJhIsaLFixUFHAgQYACAjyBDfnwQoGSEBQsEAFjJsqXLlzBjypwpYEAAAwBy6tzJs2fOAhckBBgawIIBAEiTKl3KtKnTpwUQHFDAIIBVqw0YBCAwwAGAr2DDghUAQEGAAwDSql3Ltm1bAwQCBMBQAIDdu3jz6rWbYAGEAAEiABhMuHBhAQwkBFgcYIABAQAiS55MubLly5gza97MufNkAaApPNBQIEMAAhQAqF7NGkCCDQFiy5Z9oHYCBABy696t20CFCQECWBAAAIECAMiTK1/O/EGAAQCiS59OvTp1BAQaVJgAoLv37+DDf1FPMCBAAAUFAKhfz769e/YB4jsAQL++/fv2EShoEKB/AIAQAAwkWNAggAIOIgRgGGCAAQARJU6kmIBBgwAZAxBYIADAR5AhRY4kWdLkSZQhAwIAOw==\"><title>Layer: input (input)\n",
       " shape = (28, 28, 1)\n",
       " Keras class = Input</title></image><text x=\"430.0\" y=\"1224.0\" font-family=\"monospace\" font-size=\"12\" text-anchor=\"start\" alignment-baseline=\"central\">input</text><text x=\"430.0\" y=\"1127\" font-family=\"monospace\" font-size=\"12\" text-anchor=\"start\" alignment-baseline=\"central\">1</text><text x=\"213.0\" y=\"1317\" font-family=\"monospace\" font-size=\"12\" text-anchor=\"start\" alignment-baseline=\"central\">0</text></svg>"
      ],
      "text/plain": [
       "<IPython.core.display.HTML object>"
      ]
     },
     "execution_count": 21,
     "metadata": {},
     "output_type": "execute_result"
    }
   ],
   "source": [
    "net.snapshot(height=\"500px\")"
   ]
  },
  {
   "cell_type": "code",
   "execution_count": 19,
   "metadata": {
    "scrolled": false
   },
   "outputs": [
    {
     "data": {
      "application/javascript": [
       "\n",
       "require(['base/js/namespace'], function(Jupyter) {\n",
       "    Jupyter.notebook.kernel.comm_manager.register_target('conx_svg_control', function(comm, msg) {\n",
       "        comm.on_msg(function(msg) {\n",
       "            var data = msg[\"content\"][\"data\"];\n",
       "            var images = document.getElementsByClassName(data[\"class\"]);\n",
       "            for (var i = 0; i < images.length; i++) {\n",
       "                if (data[\"href\"]) {\n",
       "                    images[i].setAttributeNS(null, \"href\", data[\"href\"]);\n",
       "                }\n",
       "                if (data[\"src\"]) {\n",
       "                    images[i].setAttributeNS(null, \"src\", data[\"src\"]);\n",
       "                }\n",
       "            }\n",
       "        });\n",
       "    });\n",
       "});\n"
      ],
      "text/plain": [
       "<IPython.core.display.Javascript object>"
      ]
     },
     "metadata": {},
     "output_type": "display_data"
    },
    {
     "data": {
      "text/html": [
       "<svg id='MNIST-CNN' xmlns='http://www.w3.org/2000/svg' viewBox=\"0 0 650 1347\" height=\"100%\" image-rendering=\"pixelated\">\n",
       "    <defs>\n",
       "        <marker id=\"arrow\" markerWidth=\"10\" markerHeight=\"10\" refX=\"9\" refY=\"3\" orient=\"auto\" markerUnits=\"strokeWidth\">\n",
       "          <path d=\"M0,0 L0,6 L9,3 z\" fill=\"black\" />\n",
       "        </marker>\n",
       "    </defs><text x=\"325.0\" y=\"12.5\" font-family=\"monospace\" font-size=\"15\" text-anchor=\"middle\" alignment-baseline=\"central\">MNIST-CNN</text><rect x=\"224.0\" y=\"29\" width=\"202\" height=\"27\" style=\"fill:none;stroke:black;stroke-width:2\"/><image id=\"MNIST-CNN_output_9\" class=\"MNIST-CNN_output\" x=\"225.0\" y=\"30\" height=\"25\" width=\"200\" preserveAspectRatio=\"none\" href=\"data:image/gif;base64,R0lGODdhCgABAIcAAMzM/9HR/wAAAAAAAAAAAAAAAAAAAAAAAAAAAAAAAAAAAAAAAAAAAAAAAAAAAAAAAAAAAAAAAAAAAAAAAAAAAAAAAAAAAAAAAAAAAAAAAAAAAAAAAAAAAAAAAAAAAAAAAAAAAAAAAAAAAAAAAAAAAAAAAAAAAAAAAAAAAAAAAAAAAAAAAAAAAAAAAAAAAAAAAAAAAAAAAAAAAAAAAAAAAAAAAAAAAAAAAAAAAAAAAAAAAAAAAAAAAAAAAAAAAAAAAAAAAAAAAAAAAAAAAAAAAAAAAAAAAAAAAAAAAAAAAAAAAAAAAAAAAAAAAAAAAAAAAAAAAAAAAAAAAAAAAAAAAAAAAAAAAAAAAAAAAAAAAAAAAAAAAAAAAAAAAAAAAAAAAAAAAAAAAAAAAAAAAAAAAAAAAAAAAAAAAAAAAAAAAAAAAAAAAAAAAAAAAAAAAAAAAAAAAAAAAAAAAAAAAAAAAAAAAAAAAAAAAAAAAAAAAAAAAAAAAAAAAAAAAAAAAAAAAAAAAAAAAAAAAAAAAAAAAAAAAAAAAAAAAAAAAAAAAAAAAAAAAAAAAAAAAAAAAAAAAAAAAAAAAAAAAAAAAAAAAAAAAAAAAAAAAAAAAAAAAAAAAAAAAAAAAAAAAAAAAAAAAAAAAAAAAAAAAAAAAAAAAAAAAAAAAAAAAAAAAAAAAAAAAAAAAAAAAAAAAAAAAAAAAAAAAAAAAAAAAAAAAAAAAAAAAAAAAAAAAAAAAAAAAAAAAAAAAAAAAAAAAAAAAAAAAAAAAAAAAAAAAAAAAAAAAAAAAAAAAAAAAAAAAAAAAAAAAAAAAAAAAAAAAAAAAAAAAAAAAAAAAAAAAAAAAAAAAAAAAAAAAAAAAAAAAAAAAAAAAAAAAAAAAAAAAAAAAAAAAAAAAAAAAAAAAAAAAAAAAAAAAAAAAAAAAAAAAAAAAAAAAAAAAAAAAAAAAAAAAAAAAAAAAAAAAAAAAAAAAAAAAAAAAAAAAAAAAAAAAAAAAAAAAAAAAAAAAAAAAAAAAAAAACwAAAAACgABAAAIDAABBABAEEAAAAgDAgA7\"><title>Layer: output (output)\n",
       " shape = (10,)\n",
       " Keras class = Dense\n",
       " activation = softmax</title></image><text x=\"430.0\" y=\"44.5\" font-family=\"monospace\" font-size=\"12\" text-anchor=\"start\" alignment-baseline=\"central\">output</text><line x1=\"325.0\" y1=\"84\" x2=\"325.0\" y2=\"57\" stroke=\"black\" stroke-width=\"2\" marker-end=\"url(#arrow)\"><title>Weights from hidden to output\n",
       " output/kernel has shape (1000, 10)\n",
       " output/bias has shape (10,)</title></line><rect x=\"74.0\" y=\"84\" width=\"502\" height=\"34\" style=\"fill:none;stroke:black;stroke-width:2\"/><image id=\"MNIST-CNN_hidden_10\" class=\"MNIST-CNN_hidden\" x=\"75.0\" y=\"85\" height=\"32\" width=\"500\" preserveAspectRatio=\"none\" href=\"data:image/gif;base64,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\"><title>Layer: hidden (hidden)\n",
       " shape = (1000,)\n",
       " Keras class = Dense\n",
       " activation = relu</title></image><text x=\"580.0\" y=\"103.0\" font-family=\"monospace\" font-size=\"12\" text-anchor=\"start\" alignment-baseline=\"central\">hidden</text><line x1=\"325.0\" y1=\"146\" x2=\"325.0\" y2=\"119\" stroke=\"black\" stroke-width=\"2\" marker-end=\"url(#arrow)\"><title>Weights from flatten to hidden\n",
       " hidden/kernel has shape (2112, 1000)\n",
       " hidden/bias has shape (1000,)</title></line><rect x=\"224.0\" y=\"146\" width=\"202\" height=\"27\" style=\"fill:none;stroke:black;stroke-width:2\"/><image id=\"MNIST-CNN_flatten_11\" class=\"MNIST-CNN_flatten\" x=\"225.0\" y=\"147\" height=\"25\" width=\"200\" preserveAspectRatio=\"none\" href=\"data:image/gif;base64,R0lGODdhQAgBAIcAAPv6/efn/9fX/8fH/7e3/6en/5iY/3Fx/wAAAAAAAAAAAAAAAAAAAAAAAAAAAAAAAAAAAAAAAAAAAAAAAAAAAAAAAAAAAAAAAAAAAAAAAAAAAAAAAAAAAAAAAAAAAAAAAAAAAAAAAAAAAAAAAAAAAAAAAAAAAAAAAAAAAAAAAAAAAAAAAAAAAAAAAAAAAAAAAAAAAAAAAAAAAAAAAAAAAAAAAAAAAAAAAAAAAAAAAAAAAAAAAAAAAAAAAAAAAAAAAAAAAAAAAAAAAAAAAAAAAAAAAAAAAAAAAAAAAAAAAAAAAAAAAAAAAAAAAAAAAAAAAAAAAAAAAAAAAAAAAAAAAAAAAAAAAAAAAAAAAAAAAAAAAAAAAAAAAAAAAAAAAAAAAAAAAAAAAAAAAAAAAAAAAAAAAAAAAAAAAAAAAAAAAAAAAAAAAAAAAAAAAAAAAAAAAAAAAAAAAAAAAAAAAAAAAAAAAAAAAAAAAAAAAAAAAAAAAAAAAAAAAAAAAAAAAAAAAAAAAAAAAAAAAAAAAAAAAAAAAAAAAAAAAAAAAAAAAAAAAAAAAAAAAAAAAAAAAAAAAAAAAAAAAAAAAAAAAAAAAAAAAAAAAAAAAAAAAAAAAAAAAAAAAAAAAAAAAAAAAAAAAAAAAAAAAAAAAAAAAAAAAAAAAAAAAAAAAAAAAAAAAAAAAAAAAAAAAAAAAAAAAAAAAAAAAAAAAAAAAAAAAAAAAAAAAAAAAAAAAAAAAAAAAAAAAAAAAAAAAAAAAAAAAAAAAAAAAAAAAAAAAAAAAAAAAAAAAAAAAAAAAAAAAAAAAAAAAAAAAAAAAAAAAAAAAAAAAAAAAAAAAAAAAAAAAAAAAAAAAAAAAAAAAAAAAAAAAAAAAAAAAAAAAAAAAAAAAAAAAAAAAAAAAAAAAAAAAAAAAAAAAAAAAAAAAAAAAAAAAAAAAAAAAAAAAAAAAAAAAAAAAAAAAAAAAAAAAAAAAAAAAAAAAAAAAAAAAAAAAAAAAAAAAAAAAAAAAAAAAAAAAAAAACwAAAAAQAgBAAAI/wAFAAgAoGBBAQAEKAQAIEAAAAAEAAAgQACAAAAACBAAYECAAAMCFBgQAIAAAAECEADAMgCAlzAFAJg5c0AAADgDDAAQIMCAAAACABg6NAAAAQACCAAQIMAAAAEACAggAACAAQEAaAUwAIDXr18HABAAoGzZAAIAABgQAACAAQEEAJhLFwABAAPyCgAgAIAAAAMCACAQAEAAAAEGAAAQgEAAAQAIDBAQQACBAAEGANg8AIDnzwIAiBYQgEAAAAMGBBgQQACAAgIADAAQAACAAAIACAAAgAAAAQIGBAgAIICAAAAADBAAoDkAAQAABJgOoHqAAQAABAAAIAAAAAIAEP8oEEBAgAADBKgHwF4AgAIBBBAQMABAAAACABQIAKCAAIAAAgQYMADAwQICBAAYEGAAAAEDAgQoAMDiAAAZNRIA0HGAAAEABAwQAKBAAAEACAAAEADAy5cDAAwAAGAAAAEBDAQIAEAAgAIBAggIEADA0QAAAAQAMADA0wEDAAAIAABAAAAAAgAoQCCAgAAABIwVAABAAAAABgAIIIDAAAABAAQAUCAAgAEAAAQAMEAAAMADBAgAIEDAgAACFAcQEABAgAEAJE8WECAAgAEBBAAQQEAAgAEBAgAYAABAAAABAAQIMCBAAAAABACgXYBAAAACABAIEABAgAAAhAcIAMD/OAEAyQUIAAAgAAAAAQAAEABgwAAAAgAECAAAAAEA4QEIEAAgQAAAAAIACAAAwAAAAAYQAFC/fgAA+QMIACCgAMAAAAIAKDgAAEIBAQIAaAhgAICIAAIMAGARQAABAQQAABAAAMgAAEYGACAAQIABAAIMIADgpYAAAgAACCAgAICcOQMEABAgAICgAgAEAGAUQAAAAgAAEABAQIABAgYEGAAAgAAAAAYACOBVANgAAAAYAACAwAAAAgAAEBAAAAABAAAEGEAgAF4AegcA6CsAAODABAQMABAAgIAAAAYEAFAAAIEBAwIAGABgAAAABAIAGAAAQAEAAwQUGAAAgAAA/wEAABAgAADsAAMABAAQ4DaA3AMCAOgNIAAAAAMAACAAIMCAAAAGBBAAIIAAAAAEABAQIEABAAMABABQAACAAQEACAAAIACA9AYAsA8QAEAAAAIADBgAAEAAAgACAOgPAKAAAAIADAgQYAAAAQMAFAAgAEABAQEIABAAIICAAQACAABAAMCAAQUMCAAgAEAAAAIAtHQpAEBMAgEA1AQgAEDOnAEEAPAZwICAAAEADAAAIAAAAAIAABAQYMCAAAIADABwlUAAAFsBBPAaAEBYAgDIAhgQAACAAQAEBAAAIEAAAHPpCggQAIAAAAACBBAwAACBAAMACAAgIAAAxQAECP8A8BjAAAABBBQgEACAAAADAgQAACAAANGjAQwIACAAAAECALQOAEAAANkCAggAcBuAgAC7AfQGICAAgAAAiAMIEAAAAAEAmAcAEABAdOnSAwQYEAA7AAABBgDwHgA8AAABAAgAEABAevXqAwQQACBAAADzAQQAEEAAAP0BBAgIABBAAAABAAQIACChQoUBAAQAEEAAgIkAAgQAgDEjRgEABAAAECAkAAADAAAIAAAAAQABAggAADMmAQAABAQAECAAAAABAAAIEEBAAAIDAAAYEABAAAIAmgoQACAqAQAFAAQAEACAAAEAAAQIMEBAAAEDAgQAgBZtAAEA2gooIED/wIADAAIACIAXQIAAAgIA+BsAAIAAAAIEAIBYQAABABoDEABAwAAABQAEABBgAIEBAwAAICAAwAAAAggQGABAAIAAAAoEADBAAAAAAQAEABBgQAEAAQAM+A0gQAAAAwYAOB4gAIDlAgAUACAAgPQBAwAIKBCAQIABAggAADAAgHgAAgYAEAAAAAEAAwYYCAAAwAAAAgAIGCAAgH4AAgD4BygAAIAAAAAMCABAIQABAQAEAACgAACKAAIMABAAgIABAQAEGCBggIABAAYAEABAgAAALVsGgAlAJoEAAAAEABAgAAABAQQEABBU6FABAgAcDQAgAAACAgAICCAAwAAA/wEEBBAAAMCAAQAEAAAgAMDYAQIAAAgAQAAAAQAABAAQVy4AAQAACAAgIAAAvnwFAAAcQEABAIUBDBAQAMDiAAAABAAgYMCAAAAGAMCcGYAAAJ0BBAgAIMAAAAEECACQWrUAAgBcvw4AIACAAQBs2w4gAACAAAAGCAgAIEAAAMWNAxAAIACAAAMADAhQAIAAAAEEBAAAYEAA7gAABAAQHoAAAOUBDAgAIAAAAAICCAAgAAABAPUBDBAAIAAAAAEAAAQwIAABAQYBDAggAECAAAAEDAAAIICAAAAABCAQQACAAgQEBBAwQMCAAgIAoEQpAEAAAAUAwBQgIEAAAAEEAP8gEEAAAAECAAANCmAAgAAAABQAMCBAAQBOBQgYICDAAAACAGAVAABAAAACAgAAIIBAAAACAAAQEABAAAECCgCIO2BAAAAEAAAYAADAgAABBggYAEBAAAEABAQAQEAAgMYDAgCITECAAAADCBAIIIBAAAAFBAAIEAAAaQABAAwQAACAgAEBXgsIAKBAgAAABAAAEACAAAC+AwAQAAAAAQAAAhQIAADAAAAEBAAgAGD6dAEBAAQAEAAAdwEDAIAHHyAAAAEABBQAMAAAgAECAgwAIEAAAAAEAgQYIGAAgAAAAAIAMEAAAAIAAAQAACAAgAAABgQAAEBAgAEAAggIEABXQMcAAQCEFBlgAAAAAgCkFFBAAAACAAQAIAAAgAAAAQAAECAgwAAAAAQACCBgwIAAAAQACLAUQAAATwEECAAggIAAAAIAEACAa9euAQAICAAgQAAAAAICADs=\"><title>Layer: flatten (hidden)\n",
       " Keras class = Flatten</title></image><text x=\"430.0\" y=\"161.5\" font-family=\"monospace\" font-size=\"12\" text-anchor=\"start\" alignment-baseline=\"central\">flatten</text><line x1=\"325.0\" y1=\"201\" x2=\"325.0\" y2=\"174\" stroke=\"black\" stroke-width=\"2\" marker-end=\"url(#arrow)\"><title>Weights from maxpool2 to flatten</title></line><rect x=\"224.0\" y=\"201\" width=\"202\" height=\"202\" style=\"fill:none;stroke:black;stroke-width:2\"/><image id=\"MNIST-CNN_maxpool2_12\" class=\"MNIST-CNN_maxpool2\" x=\"225.0\" y=\"202\" height=\"200\" width=\"200\" preserveAspectRatio=\"none\" href=\"data:image/gif;base64,R0lGODdhBAAEAIcAANfX/8bG//X1/unp/7m5/wAAAAAAAAAAAAAAAAAAAAAAAAAAAAAAAAAAAAAAAAAAAAAAAAAAAAAAAAAAAAAAAAAAAAAAAAAAAAAAAAAAAAAAAAAAAAAAAAAAAAAAAAAAAAAAAAAAAAAAAAAAAAAAAAAAAAAAAAAAAAAAAAAAAAAAAAAAAAAAAAAAAAAAAAAAAAAAAAAAAAAAAAAAAAAAAAAAAAAAAAAAAAAAAAAAAAAAAAAAAAAAAAAAAAAAAAAAAAAAAAAAAAAAAAAAAAAAAAAAAAAAAAAAAAAAAAAAAAAAAAAAAAAAAAAAAAAAAAAAAAAAAAAAAAAAAAAAAAAAAAAAAAAAAAAAAAAAAAAAAAAAAAAAAAAAAAAAAAAAAAAAAAAAAAAAAAAAAAAAAAAAAAAAAAAAAAAAAAAAAAAAAAAAAAAAAAAAAAAAAAAAAAAAAAAAAAAAAAAAAAAAAAAAAAAAAAAAAAAAAAAAAAAAAAAAAAAAAAAAAAAAAAAAAAAAAAAAAAAAAAAAAAAAAAAAAAAAAAAAAAAAAAAAAAAAAAAAAAAAAAAAAAAAAAAAAAAAAAAAAAAAAAAAAAAAAAAAAAAAAAAAAAAAAAAAAAAAAAAAAAAAAAAAAAAAAAAAAAAAAAAAAAAAAAAAAAAAAAAAAAAAAAAAAAAAAAAAAAAAAAAAAAAAAAAAAAAAAAAAAAAAAAAAAAAAAAAAAAAAAAAAAAAAAAAAAAAAAAAAAAAAAAAAAAAAAAAAAAAAAAAAAAAAAAAAAAAAAAAAAAAAAAAAAAAAAAAAAAAAAAAAAAAAAAAAAAAAAAAAAAAAAAAAAAAAAAAAAAAAAAAAAAAAAAAAAAAAAAAAAAAAAAAAAAAAAAAAAAAAAAAAAAAAAAAAAAAAAAAAAAAAAAAAAAAAAAAAAAAAAAAAAAAAAAAAAAAAAAAAAAAAAAAAAAAAAAAAAAAAAAAAAAAAAAAAAAAAAAAAAAAAAAAAAAAAAAAAAAAAAAAAAAAAAAAAAAAAAAAAAAAAACwAAAAABAAEAAAIFAABCAQgIEAAAQMEEAgAAMAAAAEBADs=\"><title>Layer: maxpool2 (hidden)\n",
       " Keras class = MaxPooling2D</title></image><text x=\"430.0\" y=\"304.0\" font-family=\"monospace\" font-size=\"12\" text-anchor=\"start\" alignment-baseline=\"central\">maxpool2</text><text x=\"430.0\" y=\"207\" font-family=\"monospace\" font-size=\"12\" text-anchor=\"start\" alignment-baseline=\"central\">132</text><text x=\"213.0\" y=\"397\" font-family=\"monospace\" font-size=\"12\" text-anchor=\"start\" alignment-baseline=\"central\">0</text><line x1=\"325.0\" y1=\"431\" x2=\"325.0\" y2=\"404\" stroke=\"black\" stroke-width=\"2\" marker-end=\"url(#arrow)\"><title>Weights from Conv2D-2 to maxpool2</title></line><rect x=\"224.0\" y=\"431\" width=\"202\" height=\"202\" style=\"fill:none;stroke:black;stroke-width:2\"/><image id=\"MNIST-CNN_Conv2D-2_13\" class=\"MNIST-CNN_Conv2D-2\" x=\"225.0\" y=\"432\" height=\"200\" width=\"200\" preserveAspectRatio=\"none\" href=\"data:image/gif;base64,R0lGODdhCAAIAIcAAPn5/ujo/9nZ/8XF/7m5/wAAAAAAAAAAAAAAAAAAAAAAAAAAAAAAAAAAAAAAAAAAAAAAAAAAAAAAAAAAAAAAAAAAAAAAAAAAAAAAAAAAAAAAAAAAAAAAAAAAAAAAAAAAAAAAAAAAAAAAAAAAAAAAAAAAAAAAAAAAAAAAAAAAAAAAAAAAAAAAAAAAAAAAAAAAAAAAAAAAAAAAAAAAAAAAAAAAAAAAAAAAAAAAAAAAAAAAAAAAAAAAAAAAAAAAAAAAAAAAAAAAAAAAAAAAAAAAAAAAAAAAAAAAAAAAAAAAAAAAAAAAAAAAAAAAAAAAAAAAAAAAAAAAAAAAAAAAAAAAAAAAAAAAAAAAAAAAAAAAAAAAAAAAAAAAAAAAAAAAAAAAAAAAAAAAAAAAAAAAAAAAAAAAAAAAAAAAAAAAAAAAAAAAAAAAAAAAAAAAAAAAAAAAAAAAAAAAAAAAAAAAAAAAAAAAAAAAAAAAAAAAAAAAAAAAAAAAAAAAAAAAAAAAAAAAAAAAAAAAAAAAAAAAAAAAAAAAAAAAAAAAAAAAAAAAAAAAAAAAAAAAAAAAAAAAAAAAAAAAAAAAAAAAAAAAAAAAAAAAAAAAAAAAAAAAAAAAAAAAAAAAAAAAAAAAAAAAAAAAAAAAAAAAAAAAAAAAAAAAAAAAAAAAAAAAAAAAAAAAAAAAAAAAAAAAAAAAAAAAAAAAAAAAAAAAAAAAAAAAAAAAAAAAAAAAAAAAAAAAAAAAAAAAAAAAAAAAAAAAAAAAAAAAAAAAAAAAAAAAAAAAAAAAAAAAAAAAAAAAAAAAAAAAAAAAAAAAAAAAAAAAAAAAAAAAAAAAAAAAAAAAAAAAAAAAAAAAAAAAAAAAAAAAAAAAAAAAAAAAAAAAAAAAAAAAAAAAAAAAAAAAAAAAAAAAAAAAAAAAAAAAAAAAAAAAAAAAAAAAAAAAAAAAAAAAAAAAAAAAAAAAAAAAAAAAAAAAAAAAAAAAAAAAAAAAAAAAAAAAAAAAAAAAAAAAAAAAAAAAAAAAACwAAAAACAAIAAAIOwADCBgoIACAAAACBBAgIIAAABADABAAoKLFAQMCANjIcUCAjwEAiAxAYEAAACgBBAggIICAlwFixgwIADs=\"><title>Layer: Conv2D-2 (hidden)\n",
       " Keras class = Conv2D\n",
       " activation = relu</title></image><text x=\"430.0\" y=\"534.0\" font-family=\"monospace\" font-size=\"12\" text-anchor=\"start\" alignment-baseline=\"central\">Conv2D-2</text><text x=\"430.0\" y=\"437\" font-family=\"monospace\" font-size=\"12\" text-anchor=\"start\" alignment-baseline=\"central\">132</text><text x=\"213.0\" y=\"627\" font-family=\"monospace\" font-size=\"12\" text-anchor=\"start\" alignment-baseline=\"central\">0</text><line x1=\"325.0\" y1=\"661\" x2=\"325.0\" y2=\"634\" stroke=\"black\" stroke-width=\"2\" marker-end=\"url(#arrow)\"><title>Weights from maxpool1 to Conv2D-2\n",
       " Conv2D-2/kernel has shape (5, 5, 16, 132)\n",
       " Conv2D-2/bias has shape (132,)</title></line><rect x=\"224.0\" y=\"661\" width=\"202\" height=\"202\" style=\"fill:none;stroke:black;stroke-width:2\"/><image id=\"MNIST-CNN_maxpool1_14\" class=\"MNIST-CNN_maxpool1\" x=\"225.0\" y=\"662\" height=\"200\" width=\"200\" preserveAspectRatio=\"none\" href=\"data:image/gif;base64,R0lGODdhDAAMAIcAAP37/dXV/5eX/+bm/6en/7i4/8vL/319/4mJ/wAAAAAAAAAAAAAAAAAAAAAAAAAAAAAAAAAAAAAAAAAAAAAAAAAAAAAAAAAAAAAAAAAAAAAAAAAAAAAAAAAAAAAAAAAAAAAAAAAAAAAAAAAAAAAAAAAAAAAAAAAAAAAAAAAAAAAAAAAAAAAAAAAAAAAAAAAAAAAAAAAAAAAAAAAAAAAAAAAAAAAAAAAAAAAAAAAAAAAAAAAAAAAAAAAAAAAAAAAAAAAAAAAAAAAAAAAAAAAAAAAAAAAAAAAAAAAAAAAAAAAAAAAAAAAAAAAAAAAAAAAAAAAAAAAAAAAAAAAAAAAAAAAAAAAAAAAAAAAAAAAAAAAAAAAAAAAAAAAAAAAAAAAAAAAAAAAAAAAAAAAAAAAAAAAAAAAAAAAAAAAAAAAAAAAAAAAAAAAAAAAAAAAAAAAAAAAAAAAAAAAAAAAAAAAAAAAAAAAAAAAAAAAAAAAAAAAAAAAAAAAAAAAAAAAAAAAAAAAAAAAAAAAAAAAAAAAAAAAAAAAAAAAAAAAAAAAAAAAAAAAAAAAAAAAAAAAAAAAAAAAAAAAAAAAAAAAAAAAAAAAAAAAAAAAAAAAAAAAAAAAAAAAAAAAAAAAAAAAAAAAAAAAAAAAAAAAAAAAAAAAAAAAAAAAAAAAAAAAAAAAAAAAAAAAAAAAAAAAAAAAAAAAAAAAAAAAAAAAAAAAAAAAAAAAAAAAAAAAAAAAAAAAAAAAAAAAAAAAAAAAAAAAAAAAAAAAAAAAAAAAAAAAAAAAAAAAAAAAAAAAAAAAAAAAAAAAAAAAAAAAAAAAAAAAAAAAAAAAAAAAAAAAAAAAAAAAAAAAAAAAAAAAAAAAAAAAAAAAAAAAAAAAAAAAAAAAAAAAAAAAAAAAAAAAAAAAAAAAAAAAAAAAAAAAAAAAAAAAAAAAAAAAAAAAAAAAAAAAAAAAAAAAAAAAAAAAAAAAAAAAAAAAAAAAAAAAAAAAAAAAAAAAAAAAAAAAAAAAAAAAAAAAAACwAAAAADAAMAAAIfQABCBxooEAAAQASAhCAgACBAgYKFABAEQABAgYGANi4cQCAjyA/BgAQIACAkwACCCAAwACAlzBfCjhQAIDNmzgDCAgAoKdPAAEECBgQAIDRowQEEBgAAMAAAAACCBBAAIBVAAMMAABQQMAAAGAHBAgAoKxZAAMCBADAlm1AADs=\"><title>Layer: maxpool1 (hidden)\n",
       " Keras class = MaxPooling2D</title></image><text x=\"430.0\" y=\"764.0\" font-family=\"monospace\" font-size=\"12\" text-anchor=\"start\" alignment-baseline=\"central\">maxpool1</text><text x=\"430.0\" y=\"667\" font-family=\"monospace\" font-size=\"12\" text-anchor=\"start\" alignment-baseline=\"central\">16</text><text x=\"213.0\" y=\"857\" font-family=\"monospace\" font-size=\"12\" text-anchor=\"start\" alignment-baseline=\"central\">0</text><line x1=\"325.0\" y1=\"891\" x2=\"325.0\" y2=\"864\" stroke=\"black\" stroke-width=\"2\" marker-end=\"url(#arrow)\"><title>Weights from Conv2D-1 to maxpool1</title></line><rect x=\"224.0\" y=\"891\" width=\"202\" height=\"202\" style=\"fill:none;stroke:black;stroke-width:2\"/><image id=\"MNIST-CNN_Conv2D-1_15\" class=\"MNIST-CNN_Conv2D-1\" x=\"225.0\" y=\"892\" height=\"200\" width=\"200\" preserveAspectRatio=\"none\" href=\"data:image/gif;base64,R0lGODdhGAAYAIcAAP78/efn/9bW/7m5/6io/8nJ/5eX/4mJ/319/wAAAAAAAAAAAAAAAAAAAAAAAAAAAAAAAAAAAAAAAAAAAAAAAAAAAAAAAAAAAAAAAAAAAAAAAAAAAAAAAAAAAAAAAAAAAAAAAAAAAAAAAAAAAAAAAAAAAAAAAAAAAAAAAAAAAAAAAAAAAAAAAAAAAAAAAAAAAAAAAAAAAAAAAAAAAAAAAAAAAAAAAAAAAAAAAAAAAAAAAAAAAAAAAAAAAAAAAAAAAAAAAAAAAAAAAAAAAAAAAAAAAAAAAAAAAAAAAAAAAAAAAAAAAAAAAAAAAAAAAAAAAAAAAAAAAAAAAAAAAAAAAAAAAAAAAAAAAAAAAAAAAAAAAAAAAAAAAAAAAAAAAAAAAAAAAAAAAAAAAAAAAAAAAAAAAAAAAAAAAAAAAAAAAAAAAAAAAAAAAAAAAAAAAAAAAAAAAAAAAAAAAAAAAAAAAAAAAAAAAAAAAAAAAAAAAAAAAAAAAAAAAAAAAAAAAAAAAAAAAAAAAAAAAAAAAAAAAAAAAAAAAAAAAAAAAAAAAAAAAAAAAAAAAAAAAAAAAAAAAAAAAAAAAAAAAAAAAAAAAAAAAAAAAAAAAAAAAAAAAAAAAAAAAAAAAAAAAAAAAAAAAAAAAAAAAAAAAAAAAAAAAAAAAAAAAAAAAAAAAAAAAAAAAAAAAAAAAAAAAAAAAAAAAAAAAAAAAAAAAAAAAAAAAAAAAAAAAAAAAAAAAAAAAAAAAAAAAAAAAAAAAAAAAAAAAAAAAAAAAAAAAAAAAAAAAAAAAAAAAAAAAAAAAAAAAAAAAAAAAAAAAAAAAAAAAAAAAAAAAAAAAAAAAAAAAAAAAAAAAAAAAAAAAAAAAAAAAAAAAAAAAAAAAAAAAAAAAAAAAAAAAAAAAAAAAAAAAAAAAAAAAAAAAAAAAAAAAAAAAAAAAAAAAAAAAAAAAAAAAAAAAAAAAAAAAAAAAAAAAAAAAAAAAAAAAAAAAAAAAAAAAAAAAAAAAAAAAAAAAAAAAAAAACwAAAAAGAAYAEAI/wABCBxIsKDBgwUFDAgAoCGAAgEASJxIcWKAAQYICAgQAIBHAAEAiBw5MgABAgMKCAgAoKXLlzBjwhQwgACAmzhvBhhgoEAAAECDCg0gQACAo0iTHg1QYACBpwMGFBAgYMCAAACyat3KtavWAAIEABhLtuxYAwgKAFjLtq3btwEAAAgQQACAu3jzChhggIAAAIADCw4QAIDhw4gTAxAgAIDjx5AjSwYQoMAAAQEEGCAAoLPnzgUMHCBQoMCAAQIKBBAAoLXr17ADAJhNu3btAABy697NO7cAAMCDCx8OnIABAgCSAwgAoLnz59CdGzgwIACA69iza98OoIABAQDCi0kfTx6AgAEGDABYHwCA+/fw3xcgYKAAgPv48+sXQMAAAYACAAQAUNCgwQAFAgBg2NDhQ4YBBAgAUNHiRYwVAwgQEADAR5AhAQQEADs=\"><title>Layer: Conv2D-1 (hidden)\n",
       " Keras class = Conv2D\n",
       " activation = relu</title></image><text x=\"430.0\" y=\"994.0\" font-family=\"monospace\" font-size=\"12\" text-anchor=\"start\" alignment-baseline=\"central\">Conv2D-1</text><text x=\"430.0\" y=\"897\" font-family=\"monospace\" font-size=\"12\" text-anchor=\"start\" alignment-baseline=\"central\">16</text><text x=\"213.0\" y=\"1087\" font-family=\"monospace\" font-size=\"12\" text-anchor=\"start\" alignment-baseline=\"central\">0</text><line x1=\"325.0\" y1=\"1121\" x2=\"325.0\" y2=\"1094\" stroke=\"black\" stroke-width=\"2\" marker-end=\"url(#arrow)\"><title>Weights from input to Conv2D-1\n",
       " Conv2D-1/kernel has shape (5, 5, 1, 16)\n",
       " Conv2D-1/bias has shape (16,)</title></line><rect x=\"224.0\" y=\"1121\" width=\"202\" height=\"202\" style=\"fill:none;stroke:black;stroke-width:2\"/><image id=\"MNIST-CNN_input_16\" class=\"MNIST-CNN_input\" x=\"225.0\" y=\"1122\" height=\"200\" width=\"200\" preserveAspectRatio=\"none\" href=\"data:image/gif;base64,R0lGODdhHAAcAIcAAAoAAP//9jAAAP/8DP//z00AANcAAPMAAG4AAI0AAP+aAP9nAP/MAP//jbMAAP9yAP/pAP//T///c/8lAP9XAP+qAP//Mv82AP9EAP+/AP/WAP//vAAAAAAAAAAAAAAAAAAAAAAAAAAAAAAAAAAAAAAAAAAAAAAAAAAAAAAAAAAAAAAAAAAAAAAAAAAAAAAAAAAAAAAAAAAAAAAAAAAAAAAAAAAAAAAAAAAAAAAAAAAAAAAAAAAAAAAAAAAAAAAAAAAAAAAAAAAAAAAAAAAAAAAAAAAAAAAAAAAAAAAAAAAAAAAAAAAAAAAAAAAAAAAAAAAAAAAAAAAAAAAAAAAAAAAAAAAAAAAAAAAAAAAAAAAAAAAAAAAAAAAAAAAAAAAAAAAAAAAAAAAAAAAAAAAAAAAAAAAAAAAAAAAAAAAAAAAAAAAAAAAAAAAAAAAAAAAAAAAAAAAAAAAAAAAAAAAAAAAAAAAAAAAAAAAAAAAAAAAAAAAAAAAAAAAAAAAAAAAAAAAAAAAAAAAAAAAAAAAAAAAAAAAAAAAAAAAAAAAAAAAAAAAAAAAAAAAAAAAAAAAAAAAAAAAAAAAAAAAAAAAAAAAAAAAAAAAAAAAAAAAAAAAAAAAAAAAAAAAAAAAAAAAAAAAAAAAAAAAAAAAAAAAAAAAAAAAAAAAAAAAAAAAAAAAAAAAAAAAAAAAAAAAAAAAAAAAAAAAAAAAAAAAAAAAAAAAAAAAAAAAAAAAAAAAAAAAAAAAAAAAAAAAAAAAAAAAAAAAAAAAAAAAAAAAAAAAAAAAAAAAAAAAAAAAAAAAAAAAAAAAAAAAAAAAAAAAAAAAAAAAAAAAAAAAAAAAAAAAAAAAAAAAAAAAAAAAAAAAAAAAAAAAAAAAAAAAAAAAAAAAAAAAAAAAAAAAAAAAAAAAAAAAAAAAAAAAAAAAAAAAAAAAAAAAAAAAAAAAAAAAAAAAAAAAAAAAAAAAAAAAAAAAAAAAAAAAAAAAAAAAAAAAAAAAAAAAAAAAAAAAAAAAAAAAAACwAAAAAHAAcAEAI/wABCBxIsKDBgwcFSAjAkOEACAQIAJhIsaLFixUFHAgQYACAjyBDfnwQoGSEBQsEAFjJsqXLlzBjypwpYEAAAwBy6tzJs2fOAhckBBgawIIBAEiTKl3KtKnTpwUQHFDAIIBVqw0YBCAwwAGAr2DDghUAQEGAAwDSql3Ltm1bAwQCBMBQAIDdu3jz6rWbYAGEAAEiABhMuHBhAQwkBFgcYIABAQAiS55MubLly5gza97MufNkAaApPNBQIEMAAhQAqF7NGkCCDQFiy5Z9oHYCBABy696t20CFCQECWBAAAIECAMiTK1/O/EGAAQCiS59OvTp1BAQaVJgAoLv37+DDf1FPMCBAAAUFAKhfz769e/YB4jsAQL++/fv2EShoEKB/AIAQAAwkWNAggAIOIgRgGGCAAQARJU6kmIBBgwAZAxBYIADAR5AhRY4kWdLkSZQhAwIAOw==\"><title>Layer: input (input)\n",
       " shape = (28, 28, 1)\n",
       " Keras class = Input</title></image><text x=\"430.0\" y=\"1224.0\" font-family=\"monospace\" font-size=\"12\" text-anchor=\"start\" alignment-baseline=\"central\">input</text><text x=\"430.0\" y=\"1127\" font-family=\"monospace\" font-size=\"12\" text-anchor=\"start\" alignment-baseline=\"central\">1</text><text x=\"213.0\" y=\"1317\" font-family=\"monospace\" font-size=\"12\" text-anchor=\"start\" alignment-baseline=\"central\">0</text></svg>"
      ],
      "text/plain": [
       "<Network name='MNIST-CNN' (compiled)>"
      ]
     },
     "execution_count": 19,
     "metadata": {},
     "output_type": "execute_result"
    }
   ],
   "source": [
    "net"
   ]
  },
  {
   "cell_type": "code",
   "execution_count": 22,
   "metadata": {},
   "outputs": [],
   "source": [
    "for pattern in net.dataset.inputs[:10]:\n",
    "    net.propagate(pattern)"
   ]
  },
  {
   "cell_type": "code",
   "execution_count": 21,
   "metadata": {},
   "outputs": [
    {
     "name": "stdout",
     "output_type": "stream",
     "text": [
      "Training...\n",
      "Epoch #    2 | train error 0.30195 | train accuracy 0.91000 | validate% 0.00000\n",
      "Epoch #    3 | train error 0.29779 | train accuracy 0.90000 | validate% 0.00000\n",
      "Epoch #    4 | train error 0.22481 | train accuracy 0.90000 | validate% 0.15000\n",
      "Epoch #    5 | train error 0.14948 | train accuracy 0.95200 | validate% 0.06000\n",
      "Epoch #    6 | train error 0.32091 | train accuracy 0.90300 | validate% 0.00000\n",
      "Epoch #    7 | train error 0.18543 | train accuracy 0.93000 | validate% 0.20000\n",
      "Epoch #    8 | train error 0.10438 | train accuracy 0.96200 | validate% 0.35000\n",
      "Epoch #    9 | train error 0.06161 | train accuracy 0.98600 | validate% 0.54000\n",
      "Epoch #   10 | train error 0.04596 | train accuracy 0.98900 | validate% 0.47000\n",
      "Epoch #   11 | train error 0.08075 | train accuracy 0.96700 | validate% 0.49000\n",
      "Epoch #   12 | train error 0.12112 | train accuracy 0.95800 | validate% 0.51000\n",
      "Epoch #   13 | train error 0.08936 | train accuracy 0.96900 | validate% 0.50000\n",
      "Epoch #   14 | train error 0.04674 | train accuracy 0.98900 | validate% 0.69000\n",
      "Epoch #   15 | train error 0.02372 | train accuracy 0.99600 | validate% 0.77000\n",
      "========================================================================\n",
      "Epoch #   15 | train error 0.02372 | train accuracy 0.99600 | validate% 0.77000\n"
     ]
    }
   ],
   "source": [
    "net.train(epochs=100, accuracy=.7)"
   ]
  },
  {
   "cell_type": "code",
   "execution_count": null,
   "metadata": {
    "collapsed": true
   },
   "outputs": [],
   "source": []
  }
 ],
 "metadata": {
  "kernelspec": {
   "display_name": "Python 3",
   "language": "python",
   "name": "python3"
  },
  "language_info": {
   "codemirror_mode": {
    "name": "ipython",
    "version": 3
   },
   "file_extension": ".py",
   "mimetype": "text/x-python",
   "name": "python",
   "nbconvert_exporter": "python",
   "pygments_lexer": "ipython3",
   "version": "3.6.3"
  },
  "widgets": {
   "application/vnd.jupyter.widget-state+json": {
    "state": {
     "103cad9fdbd44bd2b5a13df6e7f97117": {
      "model_module": "jupyter-js-widgets",
      "model_module_version": "~2.1.4",
      "model_name": "ButtonStyleModel",
      "state": {
       "_model_module_version": "~2.1.4",
       "_view_module_version": "~2.1.4"
      }
     },
     "1780d5158aa54fb291d3795d2266be74": {
      "model_module": "jupyter-js-widgets",
      "model_module_version": "~2.1.4",
      "model_name": "HBoxModel",
      "state": {
       "_model_module_version": "~2.1.4",
       "_view_module_version": "~2.1.4",
       "children": [
        "IPY_MODEL_54db193bec4c4b6da0018bef29837c58",
        "IPY_MODEL_fc540cebf38d40b596064e6a1e22ffaa",
        "IPY_MODEL_940f1509a7214f9fb398fab42f859fc1",
        "IPY_MODEL_40b77797e15947f8a93683413abad789",
        "IPY_MODEL_afd9314fb7d64e7d9ae5472de14129bc"
       ],
       "layout": "IPY_MODEL_8e5baa3522cf49e6bfe0e344b8c8ee5c"
      }
     },
     "1b1f28bda4a646a1961d3bea942a81ee": {
      "model_module": "jupyter-js-widgets",
      "model_module_version": "~2.1.4",
      "model_name": "SelectModel",
      "state": {
       "_model_module_version": "~2.1.4",
       "_options_labels": [
        "Test",
        "Train"
       ],
       "_view_module_version": "~2.1.4",
       "description": "Dataset:",
       "layout": "IPY_MODEL_2254ea51655c404ab8bfe2a2296da7ac",
       "value": "Train"
      }
     },
     "1b495297df554f9eb4bfeaea7b68805d": {
      "model_module": "jupyter-js-widgets",
      "model_module_version": "~2.1.4",
      "model_name": "LayoutModel",
      "state": {
       "_model_module_version": "~2.1.4",
       "_view_module_version": "~2.1.4"
      }
     },
     "1dc286f37d8f4f47accc3f8d92fd707d": {
      "model_module": "jupyter-js-widgets",
      "model_module_version": "~2.1.4",
      "model_name": "LayoutModel",
      "state": {
       "_model_module_version": "~2.1.4",
       "_view_module_version": "~2.1.4",
       "width": "100%"
      }
     },
     "20d4c0f1d214431496d3a99ae2ad455f": {
      "model_module": "jupyter-js-widgets",
      "model_module_version": "~2.1.4",
      "model_name": "SliderStyleModel",
      "state": {
       "_model_module_version": "~2.1.4",
       "_view_module_version": "~2.1.4"
      }
     },
     "2254ea51655c404ab8bfe2a2296da7ac": {
      "model_module": "jupyter-js-widgets",
      "model_module_version": "~2.1.4",
      "model_name": "LayoutModel",
      "state": {
       "_model_module_version": "~2.1.4",
       "_view_module_version": "~2.1.4"
      }
     },
     "24e43293844c4e2cb9ebc9051ee839b4": {
      "model_module": "jupyter-js-widgets",
      "model_module_version": "~2.1.4",
      "model_name": "LayoutModel",
      "state": {
       "_model_module_version": "~2.1.4",
       "_view_module_version": "~2.1.4",
       "width": "100%"
      }
     },
     "27845d0c372743dc8c7ed6db66333587": {
      "model_module": "jupyter-js-widgets",
      "model_module_version": "~2.1.4",
      "model_name": "ButtonStyleModel",
      "state": {
       "_model_module_version": "~2.1.4",
       "_view_module_version": "~2.1.4"
      }
     },
     "2d354eff85394685941aee69ad72ef8b": {
      "model_module": "jupyter-js-widgets",
      "model_module_version": "~2.1.4",
      "model_name": "LayoutModel",
      "state": {
       "_model_module_version": "~2.1.4",
       "_view_module_version": "~2.1.4",
       "height": "550px",
       "width": "100%"
      }
     },
     "37baef3b0c2e4ab4a9a04982d770514d": {
      "model_module": "jupyter-js-widgets",
      "model_module_version": "~2.1.4",
      "model_name": "VBoxModel",
      "state": {
       "_model_module_version": "~2.1.4",
       "_view_module_version": "~2.1.4",
       "children": [
        "IPY_MODEL_dfe2ad5ff2f24f3aaa5188d40b55a859",
        "IPY_MODEL_fa7aca08d0844b819f51c54a5a68384d",
        "IPY_MODEL_fda2e3ec336f46f5a70fb6d19ae77471"
       ],
       "layout": "IPY_MODEL_9803d4ca10ba4bf9adadcdaf411a4d86"
      }
     },
     "380b19ad1eee44c1986e5843f07be2df": {
      "model_module": "jupyter-js-widgets",
      "model_module_version": "~2.1.4",
      "model_name": "LayoutModel",
      "state": {
       "_model_module_version": "~2.1.4",
       "_view_module_version": "~2.1.4",
       "width": "100%"
      }
     },
     "40b77797e15947f8a93683413abad789": {
      "model_module": "jupyter-js-widgets",
      "model_module_version": "~2.1.4",
      "model_name": "ButtonModel",
      "state": {
       "_model_module_version": "~2.1.4",
       "_view_module_version": "~2.1.4",
       "icon": "forward",
       "layout": "IPY_MODEL_e87fb4bdd2454d1c8b1ba45133848d08",
       "style": "IPY_MODEL_cd34173df3414f8492489cd7ca16dbf8"
      }
     },
     "481c71fb313c43a0a70bf013b15ad79d": {
      "model_module": "jupyter-js-widgets",
      "model_module_version": "~2.1.4",
      "model_name": "ButtonModel",
      "state": {
       "_model_module_version": "~2.1.4",
       "_view_module_version": "~2.1.4",
       "description": "Train",
       "layout": "IPY_MODEL_4eebb636df3046c886902a4825965fb1",
       "style": "IPY_MODEL_bfde97009d7146eab72661c485e76ff3"
      }
     },
     "4851479cf6414bbb8c09bf7a0b99858a": {
      "model_module": "jupyter-js-widgets",
      "model_module_version": "~2.1.4",
      "model_name": "LayoutModel",
      "state": {
       "_model_module_version": "~2.1.4",
       "_view_module_version": "~2.1.4"
      }
     },
     "4ccc973cbfdb4e73932bc667ce2e58d9": {
      "model_module": "jupyter-js-widgets",
      "model_module_version": "~2.1.4",
      "model_name": "VBoxModel",
      "state": {
       "_model_module_version": "~2.1.4",
       "_view_module_version": "~2.1.4",
       "children": [
        "IPY_MODEL_7ec87c9523b043a1a05ea0e87f386bd6",
        "IPY_MODEL_37baef3b0c2e4ab4a9a04982d770514d"
       ],
       "layout": "IPY_MODEL_b9ea215c260e4862bc4c4792189e8abb"
      }
     },
     "4eebb636df3046c886902a4825965fb1": {
      "model_module": "jupyter-js-widgets",
      "model_module_version": "~2.1.4",
      "model_name": "LayoutModel",
      "state": {
       "_model_module_version": "~2.1.4",
       "_view_module_version": "~2.1.4",
       "width": "100%"
      }
     },
     "5499088e49484fafb667f42777c0b598": {
      "model_module": "jupyter-js-widgets",
      "model_module_version": "~2.1.4",
      "model_name": "ButtonModel",
      "state": {
       "_model_module_version": "~2.1.4",
       "_view_module_version": "~2.1.4",
       "icon": "forward",
       "layout": "IPY_MODEL_ba4a121d777e4f7b83db2c5702370b64",
       "style": "IPY_MODEL_27845d0c372743dc8c7ed6db66333587"
      }
     },
     "54db193bec4c4b6da0018bef29837c58": {
      "model_module": "jupyter-js-widgets",
      "model_module_version": "~2.1.4",
      "model_name": "ButtonModel",
      "state": {
       "_model_module_version": "~2.1.4",
       "_view_module_version": "~2.1.4",
       "icon": "fast-backward",
       "layout": "IPY_MODEL_24e43293844c4e2cb9ebc9051ee839b4",
       "style": "IPY_MODEL_91193847d5754c75b5158411ee9420da"
      }
     },
     "572c43f36a7747148c6479adf07e1ffd": {
      "model_module": "jupyter-js-widgets",
      "model_module_version": "~2.1.4",
      "model_name": "ButtonStyleModel",
      "state": {
       "_model_module_version": "~2.1.4",
       "_view_module_version": "~2.1.4"
      }
     },
     "7665369cb7604822833e7f93841add1c": {
      "model_module": "jupyter-js-widgets",
      "model_module_version": "~2.1.4",
      "model_name": "LayoutModel",
      "state": {
       "_model_module_version": "~2.1.4",
       "_view_module_version": "~2.1.4",
       "width": "100%"
      }
     },
     "7ce09b67ef724565b9bb23ebf8ea5e88": {
      "model_module": "jupyter-js-widgets",
      "model_module_version": "~2.1.4",
      "model_name": "ButtonModel",
      "state": {
       "_model_module_version": "~2.1.4",
       "_view_module_version": "~2.1.4",
       "icon": "fast-backward",
       "layout": "IPY_MODEL_9b4dc03fb8cf40aa8e9e523b8de3712d",
       "style": "IPY_MODEL_dcaabc9f00e647f5b7df4fc681738c04"
      }
     },
     "7e683554bec64f4493588a3ee9ede246": {
      "model_module": "jupyter-js-widgets",
      "model_module_version": "~2.1.4",
      "model_name": "HTMLModel",
      "state": {
       "_model_module_version": "~2.1.4",
       "_view_module_version": "~2.1.4",
       "layout": "IPY_MODEL_ef5d1e8727c541d186045c713243592f",
       "value": "\n<!-- TODO: Remove this SCRIPT when next version of ipywidgets comes out -->\n<style>\n.widget-html > .widget-html-content, .widget-htmlmath > .widget-html-content {\n    /* Fill out the area in the HTML widget */\n    align-self: stretch;\n    flex-grow: 1;\n    flex-shrink: 1;\n    /* Makes sure the baseline is still aligned with other elements */\n    line-height: var(--jp-widgets-inline-height);\n    /* Make it possible to have absolutely-positioned elements in the html */\n    position: relative;\n}\n</style>\n\n<iframe src=\"https://conx.readthedocs.io\" width=\"100%\" height=\"550px\"></frame>\n"
      }
     },
     "7e6d705adc0b4d27a75aa506b4953a86": {
      "model_module": "jupyter-js-widgets",
      "model_module_version": "~2.1.4",
      "model_name": "ButtonModel",
      "state": {
       "_model_module_version": "~2.1.4",
       "_view_module_version": "~2.1.4",
       "icon": "backward",
       "layout": "IPY_MODEL_b7a124cec68d4b37a1bdb507c29fafac",
       "style": "IPY_MODEL_d5ff1236ee6e441f8b110cba22a7016f"
      }
     },
     "7ec87c9523b043a1a05ea0e87f386bd6": {
      "model_module": "jupyter-js-widgets",
      "model_module_version": "~2.1.4",
      "model_name": "HTMLModel",
      "state": {
       "_model_module_version": "~2.1.4",
       "_view_module_version": "~2.1.4",
       "layout": "IPY_MODEL_b8e77711f8ff489ba482524080d703a1",
       "value": "<p style=\"text-align:center\">\n        <svg id='MNIST-CNN' xmlns='http://www.w3.org/2000/svg' width=\"650\" height=\"1272\" image-rendering=\"pixelated\">\n    <defs>\n        <marker id=\"arrow\" markerWidth=\"10\" markerHeight=\"10\" refX=\"9\" refY=\"3\" orient=\"auto\" markerUnits=\"strokeWidth\">\n          <path d=\"M0,0 L0,6 L9,3 z\" fill=\"black\" />\n        </marker>\n    </defs>\n<text x=\"325.0\" y=\"12.5\" font-family=\"monospace\" font-size=\"15\" text-anchor=\"middle\" alignment-baseline=\"central\">MNIST-CNN</text><rect x=\"224.0\" y=\"29\" width=\"202\" height=\"27\" style=\"fill:none;stroke:black;stroke-width:2\"/><image id=\"MNIST-CNN_output_1\" class=\"MNIST-CNN_output\" x=\"225.0\" y=\"30\" height=\"25\" width=\"200\" preserveAspectRatio=\"none\" href=\"data:image/gif;base64,R0lGODdhCgABAIcAAKcWKoQJI2wBH3IDILknMtZgTe+begAAAAAAAAAAAAAAAAAAAAAAAAAAAAAAAAAAAAAAAAAAAAAAAAAAAAAAAAAAAAAAAAAAAAAAAAAAAAAAAAAAAAAAAAAAAAAAAAAAAAAAAAAAAAAAAAAAAAAAAAAAAAAAAAAAAAAAAAAAAAAAAAAAAAAAAAAAAAAAAAAAAAAAAAAAAAAAAAAAAAAAAAAAAAAAAAAAAAAAAAAAAAAAAAAAAAAAAAAAAAAAAAAAAAAAAAAAAAAAAAAAAAAAAAAAAAAAAAAAAAAAAAAAAAAAAAAAAAAAAAAAAAAAAAAAAAAAAAAAAAAAAAAAAAAAAAAAAAAAAAAAAAAAAAAAAAAAAAAAAAAAAAAAAAAAAAAAAAAAAAAAAAAAAAAAAAAAAAAAAAAAAAAAAAAAAAAAAAAAAAAAAAAAAAAAAAAAAAAAAAAAAAAAAAAAAAAAAAAAAAAAAAAAAAAAAAAAAAAAAAAAAAAAAAAAAAAAAAAAAAAAAAAAAAAAAAAAAAAAAAAAAAAAAAAAAAAAAAAAAAAAAAAAAAAAAAAAAAAAAAAAAAAAAAAAAAAAAAAAAAAAAAAAAAAAAAAAAAAAAAAAAAAAAAAAAAAAAAAAAAAAAAAAAAAAAAAAAAAAAAAAAAAAAAAAAAAAAAAAAAAAAAAAAAAAAAAAAAAAAAAAAAAAAAAAAAAAAAAAAAAAAAAAAAAAAAAAAAAAAAAAAAAAAAAAAAAAAAAAAAAAAAAAAAAAAAAAAAAAAAAAAAAAAAAAAAAAAAAAAAAAAAAAAAAAAAAAAAAAAAAAAAAAAAAAAAAAAAAAAAAAAAAAAAAAAAAAAAAAAAAAAAAAAAAAAAAAAAAAAAAAAAAAAAAAAAAAAAAAAAAAAAAAAAAAAAAAAAAAAAAAAAAAAAAAAAAAAAAAAAAAAAAAAAAAAAAAAAAAAAAAAAAAAAAAAAAAAAAAAAAAAAAAAAAAAAAAAAAAAAAAAAAAAAAAAAAAAAAAAAAAAAAAAAAAAAAAACwAAAAACgABAAAIDgANEBhQAIAAAAECAAgIADs=\"><title>Layer: output (output)\n shape = (10,)\n Keras class = Dense\n activation = softmax</title></image><text x=\"430.0\" y=\"44.5\" font-family=\"monospace\" font-size=\"12\" text-anchor=\"start\" alignment-baseline=\"central\">output</text><line x1=\"325.0\" y1=\"84\" x2=\"325.0\" y2=\"57\" stroke=\"black\" stroke-width=\"2\" marker-end=\"url(#arrow)\"><title>Weights from hidden to output\n output/kernel has shape (1000, 10)\n output/bias has shape (10,)</title></line><rect x=\"74.0\" y=\"84\" width=\"502\" height=\"34\" style=\"fill:none;stroke:black;stroke-width:2\"/><image id=\"MNIST-CNN_hidden_2\" class=\"MNIST-CNN_hidden\" x=\"75.0\" y=\"85\" height=\"32\" width=\"500\" preserveAspectRatio=\"none\" href=\"data:image/gif;base64,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\"><title>Layer: hidden (hidden)\n shape = (1000,)\n Keras class = Dense\n activation = relu</title></image><text x=\"580.0\" y=\"103.0\" font-family=\"monospace\" font-size=\"12\" text-anchor=\"start\" alignment-baseline=\"central\">hidden</text><rect x=\"224.0\" y=\"126\" width=\"202\" height=\"202\" style=\"fill:none;stroke:black;stroke-width:2\"/><image id=\"MNIST-CNN_maxpool2_3\" class=\"MNIST-CNN_maxpool2\" x=\"225.0\" y=\"127\" height=\"200\" width=\"200\" preserveAspectRatio=\"none\" href=\"data:image/gif;base64,R0lGODdhBAAEAIcAAP39/AAAAAAAAAAAAAAAAAAAAAAAAAAAAAAAAAAAAAAAAAAAAAAAAAAAAAAAAAAAAAAAAAAAAAAAAAAAAAAAAAAAAAAAAAAAAAAAAAAAAAAAAAAAAAAAAAAAAAAAAAAAAAAAAAAAAAAAAAAAAAAAAAAAAAAAAAAAAAAAAAAAAAAAAAAAAAAAAAAAAAAAAAAAAAAAAAAAAAAAAAAAAAAAAAAAAAAAAAAAAAAAAAAAAAAAAAAAAAAAAAAAAAAAAAAAAAAAAAAAAAAAAAAAAAAAAAAAAAAAAAAAAAAAAAAAAAAAAAAAAAAAAAAAAAAAAAAAAAAAAAAAAAAAAAAAAAAAAAAAAAAAAAAAAAAAAAAAAAAAAAAAAAAAAAAAAAAAAAAAAAAAAAAAAAAAAAAAAAAAAAAAAAAAAAAAAAAAAAAAAAAAAAAAAAAAAAAAAAAAAAAAAAAAAAAAAAAAAAAAAAAAAAAAAAAAAAAAAAAAAAAAAAAAAAAAAAAAAAAAAAAAAAAAAAAAAAAAAAAAAAAAAAAAAAAAAAAAAAAAAAAAAAAAAAAAAAAAAAAAAAAAAAAAAAAAAAAAAAAAAAAAAAAAAAAAAAAAAAAAAAAAAAAAAAAAAAAAAAAAAAAAAAAAAAAAAAAAAAAAAAAAAAAAAAAAAAAAAAAAAAAAAAAAAAAAAAAAAAAAAAAAAAAAAAAAAAAAAAAAAAAAAAAAAAAAAAAAAAAAAAAAAAAAAAAAAAAAAAAAAAAAAAAAAAAAAAAAAAAAAAAAAAAAAAAAAAAAAAAAAAAAAAAAAAAAAAAAAAAAAAAAAAAAAAAAAAAAAAAAAAAAAAAAAAAAAAAAAAAAAAAAAAAAAAAAAAAAAAAAAAAAAAAAAAAAAAAAAAAAAAAAAAAAAAAAAAAAAAAAAAAAAAAAAAAAAAAAAAAAAAAAAAAAAAAAAAAAAAAAAAAAAAAAAAAAAAAAAAAAAAAAAAAAAAAAAAAAAAAAAAAAAAAAAAAAAAAAAAAAAAAAAAAAAAAAAAAAAAAAACwAAAAABAAEAAAICQABCBxIsCCAgAA7\"><title>Layer: maxpool2 (hidden)\n Keras class = MaxPooling2D</title></image><text x=\"430.0\" y=\"229.0\" font-family=\"monospace\" font-size=\"12\" text-anchor=\"start\" alignment-baseline=\"central\">maxpool2</text><line x1=\"325.0\" y1=\"356\" x2=\"325.0\" y2=\"329\" stroke=\"black\" stroke-width=\"2\" marker-end=\"url(#arrow)\"><title>Weights from Conv2D-2 to maxpool2</title></line><rect x=\"224.0\" y=\"356\" width=\"202\" height=\"202\" style=\"fill:none;stroke:black;stroke-width:2\"/><image id=\"MNIST-CNN_Conv2D-2_4\" class=\"MNIST-CNN_Conv2D-2\" x=\"225.0\" y=\"357\" height=\"200\" width=\"200\" preserveAspectRatio=\"none\" href=\"data:image/gif;base64,R0lGODdhCAAIAIcAAGcAHxoaGmtra7sqM85RRvjBpgAAAAAAAAAAAAAAAAAAAAAAAAAAAAAAAAAAAAAAAAAAAAAAAAAAAAAAAAAAAAAAAAAAAAAAAAAAAAAAAAAAAAAAAAAAAAAAAAAAAAAAAAAAAAAAAAAAAAAAAAAAAAAAAAAAAAAAAAAAAAAAAAAAAAAAAAAAAAAAAAAAAAAAAAAAAAAAAAAAAAAAAAAAAAAAAAAAAAAAAAAAAAAAAAAAAAAAAAAAAAAAAAAAAAAAAAAAAAAAAAAAAAAAAAAAAAAAAAAAAAAAAAAAAAAAAAAAAAAAAAAAAAAAAAAAAAAAAAAAAAAAAAAAAAAAAAAAAAAAAAAAAAAAAAAAAAAAAAAAAAAAAAAAAAAAAAAAAAAAAAAAAAAAAAAAAAAAAAAAAAAAAAAAAAAAAAAAAAAAAAAAAAAAAAAAAAAAAAAAAAAAAAAAAAAAAAAAAAAAAAAAAAAAAAAAAAAAAAAAAAAAAAAAAAAAAAAAAAAAAAAAAAAAAAAAAAAAAAAAAAAAAAAAAAAAAAAAAAAAAAAAAAAAAAAAAAAAAAAAAAAAAAAAAAAAAAAAAAAAAAAAAAAAAAAAAAAAAAAAAAAAAAAAAAAAAAAAAAAAAAAAAAAAAAAAAAAAAAAAAAAAAAAAAAAAAAAAAAAAAAAAAAAAAAAAAAAAAAAAAAAAAAAAAAAAAAAAAAAAAAAAAAAAAAAAAAAAAAAAAAAAAAAAAAAAAAAAAAAAAAAAAAAAAAAAAAAAAAAAAAAAAAAAAAAAAAAAAAAAAAAAAAAAAAAAAAAAAAAAAAAAAAAAAAAAAAAAAAAAAAAAAAAAAAAAAAAAAAAAAAAAAAAAAAAAAAAAAAAAAAAAAAAAAAAAAAAAAAAAAAAAAAAAAAAAAAAAAAAAAAAAAAAAAAAAAAAAAAAAAAAAAAAAAAAAAAAAAAAAAAAAAAAAAAAAAAAAAAAAAAAAAAAAAAAAAAAAAAAAAAAAAAAAAAAAAAAAAAAAAAAAAAAAAAAAAAAAAAAAACwAAAAACAAIAAAIHQABCBxIAEABAAgRBgAgYACAhxAjSpxIsaJFAAEBADs=\"><title>Layer: Conv2D-2 (hidden)\n Keras class = Conv2D\n activation = relu</title></image><text x=\"430.0\" y=\"459.0\" font-family=\"monospace\" font-size=\"12\" text-anchor=\"start\" alignment-baseline=\"central\">Conv2D-2</text><line x1=\"325.0\" y1=\"586\" x2=\"325.0\" y2=\"559\" stroke=\"black\" stroke-width=\"2\" marker-end=\"url(#arrow)\"><title>Weights from maxpool1 to Conv2D-2\n Conv2D-2/kernel has shape (5, 5, 16, 132)\n Conv2D-2/bias has shape (132,)</title></line><rect x=\"224.0\" y=\"586\" width=\"202\" height=\"202\" style=\"fill:none;stroke:black;stroke-width:2\"/><image id=\"MNIST-CNN_maxpool1_5\" class=\"MNIST-CNN_maxpool1\" x=\"225.0\" y=\"587\" height=\"200\" width=\"200\" preserveAspectRatio=\"none\" href=\"data:image/gif;base64,R0lGODdhDAAMAIcAAPz8++jo6KmpqdfX18fHx7e3t5qamoqKinl5eQAAAAAAAAAAAAAAAAAAAAAAAAAAAAAAAAAAAAAAAAAAAAAAAAAAAAAAAAAAAAAAAAAAAAAAAAAAAAAAAAAAAAAAAAAAAAAAAAAAAAAAAAAAAAAAAAAAAAAAAAAAAAAAAAAAAAAAAAAAAAAAAAAAAAAAAAAAAAAAAAAAAAAAAAAAAAAAAAAAAAAAAAAAAAAAAAAAAAAAAAAAAAAAAAAAAAAAAAAAAAAAAAAAAAAAAAAAAAAAAAAAAAAAAAAAAAAAAAAAAAAAAAAAAAAAAAAAAAAAAAAAAAAAAAAAAAAAAAAAAAAAAAAAAAAAAAAAAAAAAAAAAAAAAAAAAAAAAAAAAAAAAAAAAAAAAAAAAAAAAAAAAAAAAAAAAAAAAAAAAAAAAAAAAAAAAAAAAAAAAAAAAAAAAAAAAAAAAAAAAAAAAAAAAAAAAAAAAAAAAAAAAAAAAAAAAAAAAAAAAAAAAAAAAAAAAAAAAAAAAAAAAAAAAAAAAAAAAAAAAAAAAAAAAAAAAAAAAAAAAAAAAAAAAAAAAAAAAAAAAAAAAAAAAAAAAAAAAAAAAAAAAAAAAAAAAAAAAAAAAAAAAAAAAAAAAAAAAAAAAAAAAAAAAAAAAAAAAAAAAAAAAAAAAAAAAAAAAAAAAAAAAAAAAAAAAAAAAAAAAAAAAAAAAAAAAAAAAAAAAAAAAAAAAAAAAAAAAAAAAAAAAAAAAAAAAAAAAAAAAAAAAAAAAAAAAAAAAAAAAAAAAAAAAAAAAAAAAAAAAAAAAAAAAAAAAAAAAAAAAAAAAAAAAAAAAAAAAAAAAAAAAAAAAAAAAAAAAAAAAAAAAAAAAAAAAAAAAAAAAAAAAAAAAAAAAAAAAAAAAAAAAAAAAAAAAAAAAAAAAAAAAAAAAAAAAAAAAAAAAAAAAAAAAAAAAAAAAAAAAAAAAAAAAAAAAAAAAAAAAAAAAAAAAAAAAAAAAAAAAAAAAAAAAAAAAAAAAAAAAAAAAAAAACwAAAAADAAMAAAIgAABCBw4MACAgwACBCBAoEABAgUCAJhIQMABAwYEDBgQAIDHAQIQGCBQIEAAAChRBjBwAECAAABiygRAQICBAQBy6tQ5wMABAgCCCg0agAACAQCSKg1AQIAAAwUASAUQgEABAQIKDBgAoGuAAgIEFBgQIACAs2cDDFgbAIDbtwEBADs=\"><title>Layer: maxpool1 (hidden)\n Keras class = MaxPooling2D</title></image><text x=\"430.0\" y=\"689.0\" font-family=\"monospace\" font-size=\"12\" text-anchor=\"start\" alignment-baseline=\"central\">maxpool1</text><line x1=\"325.0\" y1=\"816\" x2=\"325.0\" y2=\"789\" stroke=\"black\" stroke-width=\"2\" marker-end=\"url(#arrow)\"><title>Weights from Conv2D-1 to maxpool1</title></line><rect x=\"224.0\" y=\"816\" width=\"202\" height=\"202\" style=\"fill:none;stroke:black;stroke-width:2\"/><image id=\"MNIST-CNN_Conv2D-1_6\" class=\"MNIST-CNN_Conv2D-1\" x=\"225.0\" y=\"817\" height=\"200\" width=\"200\" preserveAspectRatio=\"none\" href=\"data:image/gif;base64,R0lGODdhGAAYAIcAAGgAH3QDIPn39YoLJKsWKevo5tbW1ra2tu2Xd9loU8bGxvnIsME4OctLQvzZxqqqquWDaPa2mImJibkmMd1yWvSnhf3m2ZoQJ9JZSfi+ond3d5mZmeF7YSwsLFVVVfvTvRoaGjQ0NERERGBgYL4wNsdDP+B4XwAAAAAAAAAAAAAAAAAAAAAAAAAAAAAAAAAAAAAAAAAAAAAAAAAAAAAAAAAAAAAAAAAAAAAAAAAAAAAAAAAAAAAAAAAAAAAAAAAAAAAAAAAAAAAAAAAAAAAAAAAAAAAAAAAAAAAAAAAAAAAAAAAAAAAAAAAAAAAAAAAAAAAAAAAAAAAAAAAAAAAAAAAAAAAAAAAAAAAAAAAAAAAAAAAAAAAAAAAAAAAAAAAAAAAAAAAAAAAAAAAAAAAAAAAAAAAAAAAAAAAAAAAAAAAAAAAAAAAAAAAAAAAAAAAAAAAAAAAAAAAAAAAAAAAAAAAAAAAAAAAAAAAAAAAAAAAAAAAAAAAAAAAAAAAAAAAAAAAAAAAAAAAAAAAAAAAAAAAAAAAAAAAAAAAAAAAAAAAAAAAAAAAAAAAAAAAAAAAAAAAAAAAAAAAAAAAAAAAAAAAAAAAAAAAAAAAAAAAAAAAAAAAAAAAAAAAAAAAAAAAAAAAAAAAAAAAAAAAAAAAAAAAAAAAAAAAAAAAAAAAAAAAAAAAAAAAAAAAAAAAAAAAAAAAAAAAAAAAAAAAAAAAAAAAAAAAAAAAAAAAAAAAAAAAAAAAAAAAAAAAAAAAAAAAAAAAAAAAAAAAAAAAAAAAAAAAAAAAAAAAAAAAAAAAAAAAAAAAAAAAAAAAAAAAAAAAAAAAAAAAAAAAAAAAAAAAAAAAAAAAAAAAAAAAAAAAAAAAAAAAAAAAAAAAAAAAAAAAAAAAAAAAAAAAAAAAAAAAAAAAAAAAAAAAAAAAAAAAAAAAAAAAAAAAAAAAAAAAAAAAAAAAAAAAAAAAAAAAAAAAAAAAAAAAAAAAAAAAAAAAAAAAAAAAAAAAAAAAAAAAAAAAAACwAAAAAGAAYAEAI/wABCBxIsKDBgwAIEKBQQIKICAEAUAjAIACAixgzZhxgwoEAAwYkHDDAgQCAkyhPBmhgQYGBlwoOGHhwQECCDBEWIJgQAIDPn0AHIHDwYMOBAgwAAAgAoCmAAA0sFDBwoIACBQUsIICAAMOAAAMCABhLtmyAswQITGiAAcGCCBQWCBCQAIDduwAuZBBwQEMHDQ4WCCiwoAGDwxcGDAgAoLHjAAAICFBwoAAFAgAya97MmfOAEgI8gNiQAIDp06gJJKggwMCBAwoMCHBQoQKDCQBy5w5AIAEEBx8WZFiAgAOBAAMCAFjOvLnz5gECABhAgEAAABgYXAAAIACA798ZINxAkKGAAAEFChgo8EFAAQsNAMifHwCDgAf4R2hQYEDCAYACBkCoECEBgQEBACxciAGCgAMhHkQgUMFBggkDAmzcCMDjRwADAEQwsKEAAQADAAQYAMDlS5gxKQg4IMFAhAkAdO7k2XMngQYLDkjwUIAAAKRJlS4FQCDBAgESOjxAAABAAABZtWoN0MCBAAMHDhRQIMACgwsDAgBgy5YAhAUCDCg4oKCAAAcI9CYIMGAAAMAACFQQYMBAAcQWMkBAkOBCgAEBAEymTHkCBQQIIHBoQALAgAAARI8mDSAgADs=\"><title>Layer: Conv2D-1 (hidden)\n Keras class = Conv2D\n activation = relu</title></image><text x=\"430.0\" y=\"919.0\" font-family=\"monospace\" font-size=\"12\" text-anchor=\"start\" alignment-baseline=\"central\">Conv2D-1</text><line x1=\"325.0\" y1=\"1046\" x2=\"325.0\" y2=\"1019\" stroke=\"black\" stroke-width=\"2\" marker-end=\"url(#arrow)\"><title>Weights from input to Conv2D-1\n Conv2D-1/kernel has shape (5, 5, 1, 16)\n Conv2D-1/bias has shape (16,)</title></line><rect x=\"224.0\" y=\"1046\" width=\"202\" height=\"202\" style=\"fill:none;stroke:black;stroke-width:2\"/><image id=\"MNIST-CNN_input_7\" class=\"MNIST-CNN_input\" x=\"225.0\" y=\"1047\" height=\"200\" width=\"200\" preserveAspectRatio=\"none\" href=\"data:image/gif;base64,R0lGODdhHAAcAIcAAAoAAP//9jAAAP/8DP//z00AANcAAPMAAG4AAI0AAP+aAP9nAP/MAP//jbMAAP9yAP/pAP//T///c/8lAP9XAP+qAP//Mv82AP9EAP+/AP/WAP//vAAAAAAAAAAAAAAAAAAAAAAAAAAAAAAAAAAAAAAAAAAAAAAAAAAAAAAAAAAAAAAAAAAAAAAAAAAAAAAAAAAAAAAAAAAAAAAAAAAAAAAAAAAAAAAAAAAAAAAAAAAAAAAAAAAAAAAAAAAAAAAAAAAAAAAAAAAAAAAAAAAAAAAAAAAAAAAAAAAAAAAAAAAAAAAAAAAAAAAAAAAAAAAAAAAAAAAAAAAAAAAAAAAAAAAAAAAAAAAAAAAAAAAAAAAAAAAAAAAAAAAAAAAAAAAAAAAAAAAAAAAAAAAAAAAAAAAAAAAAAAAAAAAAAAAAAAAAAAAAAAAAAAAAAAAAAAAAAAAAAAAAAAAAAAAAAAAAAAAAAAAAAAAAAAAAAAAAAAAAAAAAAAAAAAAAAAAAAAAAAAAAAAAAAAAAAAAAAAAAAAAAAAAAAAAAAAAAAAAAAAAAAAAAAAAAAAAAAAAAAAAAAAAAAAAAAAAAAAAAAAAAAAAAAAAAAAAAAAAAAAAAAAAAAAAAAAAAAAAAAAAAAAAAAAAAAAAAAAAAAAAAAAAAAAAAAAAAAAAAAAAAAAAAAAAAAAAAAAAAAAAAAAAAAAAAAAAAAAAAAAAAAAAAAAAAAAAAAAAAAAAAAAAAAAAAAAAAAAAAAAAAAAAAAAAAAAAAAAAAAAAAAAAAAAAAAAAAAAAAAAAAAAAAAAAAAAAAAAAAAAAAAAAAAAAAAAAAAAAAAAAAAAAAAAAAAAAAAAAAAAAAAAAAAAAAAAAAAAAAAAAAAAAAAAAAAAAAAAAAAAAAAAAAAAAAAAAAAAAAAAAAAAAAAAAAAAAAAAAAAAAAAAAAAAAAAAAAAAAAAAAAAAAAAAAAAAAAAAAAAAAAAAAAAAAAAAAAAAAAAAAAAAAAAAAAAAAAAAAAAAAAAAAAAAAAACwAAAAAHAAcAEAI/wABCBxIsKDBgwcFSAjAkOEACAQIAJhIsaLFixUFHAgQYACAjyBDfnwQoGSEBQsEAFjJsqXLlzBjypwpYEAAAwBy6tzJs2fOAhckBBgawIIBAEiTKl3KtKnTpwUQHFDAIIBVqw0YBCAwwAGAr2DDghUAQEGAAwDSql3Ltm1bAwQCBMBQAIDdu3jz6rWbYAGEAAEiABhMuHBhAQwkBFgcYIABAQAiS55MubLly5gza97MufNkAaApPNBQIEMAAhQAqF7NGkCCDQFiy5Z9oHYCBABy696t20CFCQECWBAAAIECAMiTK1/O/EGAAQCiS59OvTp1BAQaVJgAoLv37+DDf1FPMCBAAAUFAKhfz769e/YB4jsAQL++/fv2EShoEKB/AIAQAAwkWNAggAIOIgRgGGCAAQARJU6kmIBBgwAZAxBYIADAR5AhRY4kWdLkSZQhAwIAOw==\"><title>Layer: input (input)\n shape = (28, 28, 1)\n Keras class = Input</title></image><text x=\"430.0\" y=\"1149.0\" font-family=\"monospace\" font-size=\"12\" text-anchor=\"start\" alignment-baseline=\"central\">input</text></svg></p>"
      }
     },
     "8d8fe6ba61c9479d8bc08e087cf55a56": {
      "model_module": "jupyter-js-widgets",
      "model_module_version": "~2.1.4",
      "model_name": "LayoutModel",
      "state": {
       "_model_module_version": "~2.1.4",
       "_view_module_version": "~2.1.4"
      }
     },
     "8e5baa3522cf49e6bfe0e344b8c8ee5c": {
      "model_module": "jupyter-js-widgets",
      "model_module_version": "~2.1.4",
      "model_name": "LayoutModel",
      "state": {
       "_model_module_version": "~2.1.4",
       "_view_module_version": "~2.1.4",
       "width": "100%"
      }
     },
     "8fbdb723ae4e4ca1ba2d59191d1c0e32": {
      "model_module": "jupyter-js-widgets",
      "model_module_version": "~2.1.4",
      "model_name": "ButtonStyleModel",
      "state": {
       "_model_module_version": "~2.1.4",
       "_view_module_version": "~2.1.4"
      }
     },
     "91193847d5754c75b5158411ee9420da": {
      "model_module": "jupyter-js-widgets",
      "model_module_version": "~2.1.4",
      "model_name": "ButtonStyleModel",
      "state": {
       "_model_module_version": "~2.1.4",
       "_view_module_version": "~2.1.4"
      }
     },
     "940f1509a7214f9fb398fab42f859fc1": {
      "model_module": "jupyter-js-widgets",
      "model_module_version": "~2.1.4",
      "model_name": "ButtonModel",
      "state": {
       "_model_module_version": "~2.1.4",
       "_view_module_version": "~2.1.4",
       "description": "Train",
       "layout": "IPY_MODEL_1dc286f37d8f4f47accc3f8d92fd707d",
       "style": "IPY_MODEL_103cad9fdbd44bd2b5a13df6e7f97117"
      }
     },
     "9803d4ca10ba4bf9adadcdaf411a4d86": {
      "model_module": "jupyter-js-widgets",
      "model_module_version": "~2.1.4",
      "model_name": "LayoutModel",
      "state": {
       "_model_module_version": "~2.1.4",
       "_view_module_version": "~2.1.4",
       "width": "100%"
      }
     },
     "9b4dc03fb8cf40aa8e9e523b8de3712d": {
      "model_module": "jupyter-js-widgets",
      "model_module_version": "~2.1.4",
      "model_name": "LayoutModel",
      "state": {
       "_model_module_version": "~2.1.4",
       "_view_module_version": "~2.1.4",
       "width": "100%"
      }
     },
     "9b57d65f3bb04523bc66862dc7d2a21b": {
      "model_module": "jupyter-js-widgets",
      "model_module_version": "~2.1.4",
      "model_name": "ButtonModel",
      "state": {
       "_model_module_version": "~2.1.4",
       "_view_module_version": "~2.1.4",
       "icon": "fast-forward",
       "layout": "IPY_MODEL_a3611ad5803f455fa32f43489f838f52",
       "style": "IPY_MODEL_572c43f36a7747148c6479adf07e1ffd"
      }
     },
     "a163c93b6a29476c965ec1710077a8de": {
      "model_module": "jupyter-js-widgets",
      "model_module_version": "~2.1.4",
      "model_name": "LayoutModel",
      "state": {
       "_model_module_version": "~2.1.4",
       "_view_module_version": "~2.1.4",
       "width": "100%"
      }
     },
     "a2c38d586b2b4e469dc9fcfed691838b": {
      "model_module": "jupyter-js-widgets",
      "model_module_version": "~2.1.4",
      "model_name": "LayoutModel",
      "state": {
       "_model_module_version": "~2.1.4",
       "_view_module_version": "~2.1.4",
       "width": "100%"
      }
     },
     "a3611ad5803f455fa32f43489f838f52": {
      "model_module": "jupyter-js-widgets",
      "model_module_version": "~2.1.4",
      "model_name": "LayoutModel",
      "state": {
       "_model_module_version": "~2.1.4",
       "_view_module_version": "~2.1.4",
       "width": "100%"
      }
     },
     "a545801a367d44938656831783bb055a": {
      "model_module": "jupyter-js-widgets",
      "model_module_version": "~2.1.4",
      "model_name": "SliderStyleModel",
      "state": {
       "_model_module_version": "~2.1.4",
       "_view_module_version": "~2.1.4"
      }
     },
     "a8ebeb06b7284d70b49e98885289132d": {
      "model_module": "jupyter-js-widgets",
      "model_module_version": "~2.1.4",
      "model_name": "TabModel",
      "state": {
       "_model_module_version": "~2.1.4",
       "_titles": {
        "0": "Network",
        "1": "Help"
       },
       "_view_module_version": "~2.1.4",
       "children": [
        "IPY_MODEL_4ccc973cbfdb4e73932bc667ce2e58d9",
        "IPY_MODEL_7e683554bec64f4493588a3ee9ede246"
       ],
       "layout": "IPY_MODEL_4851479cf6414bbb8c09bf7a0b99858a"
      }
     },
     "ac60e5f4dcad4a3d83570fbe776bd3a4": {
      "model_module": "jupyter-js-widgets",
      "model_module_version": "~2.1.4",
      "model_name": "HTMLModel",
      "state": {
       "_model_module_version": "~2.1.4",
       "_view_module_version": "~2.1.4",
       "layout": "IPY_MODEL_2d354eff85394685941aee69ad72ef8b",
       "value": "\n<!-- TODO: Remove this SCRIPT when next version of ipywidgets comes out -->\n<style>\n.widget-html > .widget-html-content, .widget-htmlmath > .widget-html-content {\n    /* Fill out the area in the HTML widget */\n    align-self: stretch;\n    flex-grow: 1;\n    flex-shrink: 1;\n    /* Makes sure the baseline is still aligned with other elements */\n    line-height: var(--jp-widgets-inline-height);\n    /* Make it possible to have absolutely-positioned elements in the html */\n    position: relative;\n}\n</style>\n\n<iframe src=\"https://conx.readthedocs.io\" width=\"100%\" height=\"550px\"></frame>\n"
      }
     },
     "add8acb1f6a04d7c977ca1d5623257b2": {
      "model_module": "jupyter-js-widgets",
      "model_module_version": "~2.1.4",
      "model_name": "TabModel",
      "state": {
       "_model_module_version": "~2.1.4",
       "_titles": {
        "0": "Network",
        "1": "Help"
       },
       "_view_module_version": "~2.1.4",
       "children": [
        "IPY_MODEL_c30a834da02348f4b22a676c9308587f",
        "IPY_MODEL_ac60e5f4dcad4a3d83570fbe776bd3a4"
       ],
       "layout": "IPY_MODEL_8d8fe6ba61c9479d8bc08e087cf55a56"
      }
     },
     "afd9314fb7d64e7d9ae5472de14129bc": {
      "model_module": "jupyter-js-widgets",
      "model_module_version": "~2.1.4",
      "model_name": "ButtonModel",
      "state": {
       "_model_module_version": "~2.1.4",
       "_view_module_version": "~2.1.4",
       "icon": "fast-forward",
       "layout": "IPY_MODEL_a163c93b6a29476c965ec1710077a8de",
       "style": "IPY_MODEL_ed730016825042d392240d0a2b20b3b9"
      }
     },
     "b0ec5207e609410a94cf104bc0c0def0": {
      "model_module": "jupyter-js-widgets",
      "model_module_version": "~2.1.4",
      "model_name": "LayoutModel",
      "state": {
       "_model_module_version": "~2.1.4",
       "_view_module_version": "~2.1.4",
       "width": "100%"
      }
     },
     "b7a124cec68d4b37a1bdb507c29fafac": {
      "model_module": "jupyter-js-widgets",
      "model_module_version": "~2.1.4",
      "model_name": "LayoutModel",
      "state": {
       "_model_module_version": "~2.1.4",
       "_view_module_version": "~2.1.4",
       "width": "100%"
      }
     },
     "b8c802bfb6a749b88f7d6e67a823675d": {
      "model_module": "jupyter-js-widgets",
      "model_module_version": "~2.1.4",
      "model_name": "HTMLModel",
      "state": {
       "_model_module_version": "~2.1.4",
       "_view_module_version": "~2.1.4",
       "layout": "IPY_MODEL_dc05f745dca34493b69d226dd5bbc50e",
       "value": "<p style=\"text-align:center\">\n        <svg id='MNIST' xmlns='http://www.w3.org/2000/svg' width=\"350\" height=\"570\" image-rendering=\"pixelated\">\n    <defs>\n        <marker id=\"arrow\" markerWidth=\"10\" markerHeight=\"10\" refX=\"9\" refY=\"3\" orient=\"auto\" markerUnits=\"strokeWidth\">\n          <path d=\"M0,0 L0,6 L9,3 z\" fill=\"black\" />\n        </marker>\n    </defs>\n<text x=\"175.0\" y=\"12.5\" font-family=\"monospace\" font-size=\"15\" text-anchor=\"middle\" alignment-baseline=\"central\">MNIST</text><rect x=\"74.0\" y=\"29\" width=\"202\" height=\"27\" style=\"fill:none;stroke:black;stroke-width:2\"/><image id=\"MNIST_output_1\" class=\"MNIST_output\" x=\"75.0\" y=\"30\" height=\"25\" width=\"200\" preserveAspectRatio=\"none\" href=\"data:image/gif;base64,R0lGODdhCgABAIcAAKkVKZsQJ7ooMr8yNwAAAAAAAAAAAAAAAAAAAAAAAAAAAAAAAAAAAAAAAAAAAAAAAAAAAAAAAAAAAAAAAAAAAAAAAAAAAAAAAAAAAAAAAAAAAAAAAAAAAAAAAAAAAAAAAAAAAAAAAAAAAAAAAAAAAAAAAAAAAAAAAAAAAAAAAAAAAAAAAAAAAAAAAAAAAAAAAAAAAAAAAAAAAAAAAAAAAAAAAAAAAAAAAAAAAAAAAAAAAAAAAAAAAAAAAAAAAAAAAAAAAAAAAAAAAAAAAAAAAAAAAAAAAAAAAAAAAAAAAAAAAAAAAAAAAAAAAAAAAAAAAAAAAAAAAAAAAAAAAAAAAAAAAAAAAAAAAAAAAAAAAAAAAAAAAAAAAAAAAAAAAAAAAAAAAAAAAAAAAAAAAAAAAAAAAAAAAAAAAAAAAAAAAAAAAAAAAAAAAAAAAAAAAAAAAAAAAAAAAAAAAAAAAAAAAAAAAAAAAAAAAAAAAAAAAAAAAAAAAAAAAAAAAAAAAAAAAAAAAAAAAAAAAAAAAAAAAAAAAAAAAAAAAAAAAAAAAAAAAAAAAAAAAAAAAAAAAAAAAAAAAAAAAAAAAAAAAAAAAAAAAAAAAAAAAAAAAAAAAAAAAAAAAAAAAAAAAAAAAAAAAAAAAAAAAAAAAAAAAAAAAAAAAAAAAAAAAAAAAAAAAAAAAAAAAAAAAAAAAAAAAAAAAAAAAAAAAAAAAAAAAAAAAAAAAAAAAAAAAAAAAAAAAAAAAAAAAAAAAAAAAAAAAAAAAAAAAAAAAAAAAAAAAAAAAAAAAAAAAAAAAAAAAAAAAAAAAAAAAAAAAAAAAAAAAAAAAAAAAAAAAAAAAAAAAAAAAAAAAAAAAAAAAAAAAAAAAAAAAAAAAAAAAAAAAAAAAAAAAAAAAAAAAAAAAAAAAAAAAAAAAAAAAAAAAAAAAAAAAAAAAAAAAAAAAAAAAAAAAAAAAAAAAAAAAAAAAAAAAAAAAAAAAAAAAAAAAAAAAAAAAAAAAAAAAAAAAAAAAAAAAAAAACwAAAAACgABAAAIDgABAAgQAACAAQAECAgIADs=\"><title>Layer: output (output)\n shape = (10,)\n Keras class = Dense\n activation = softmax</title></image><text x=\"280.0\" y=\"44.5\" font-family=\"monospace\" font-size=\"12\" text-anchor=\"start\" alignment-baseline=\"central\">output</text><line x1=\"175.0\" y1=\"84\" x2=\"175.0\" y2=\"57\" stroke=\"black\" stroke-width=\"2\" marker-end=\"url(#arrow)\"><title>Weights from hidden2 to output\n output/kernel has shape (512, 10)\n output/bias has shape (10,)</title></line><rect x=\"74.0\" y=\"84\" width=\"202\" height=\"102\" style=\"fill:none;stroke:black;stroke-width:2\"/><image id=\"MNIST_hidden2_2\" class=\"MNIST_hidden2\" x=\"75.0\" y=\"85\" height=\"100\" width=\"200\" preserveAspectRatio=\"none\" href=\"data:image/gif;base64,R0lGODdhIAAQAIcAAGcAH6wXKvr39thmUosLJLkmMXYEIevn5eaGavSohvzax/a3mfnHrtBVSNfX1+2VdpsQJ8I6OsZCPsvLy8tLQvvSvP3j0+F7YfKgft1xWvi+or4xNru7u+B4XxoaGjw8PH19fZ+fnwAAAAAAAAAAAAAAAAAAAAAAAAAAAAAAAAAAAAAAAAAAAAAAAAAAAAAAAAAAAAAAAAAAAAAAAAAAAAAAAAAAAAAAAAAAAAAAAAAAAAAAAAAAAAAAAAAAAAAAAAAAAAAAAAAAAAAAAAAAAAAAAAAAAAAAAAAAAAAAAAAAAAAAAAAAAAAAAAAAAAAAAAAAAAAAAAAAAAAAAAAAAAAAAAAAAAAAAAAAAAAAAAAAAAAAAAAAAAAAAAAAAAAAAAAAAAAAAAAAAAAAAAAAAAAAAAAAAAAAAAAAAAAAAAAAAAAAAAAAAAAAAAAAAAAAAAAAAAAAAAAAAAAAAAAAAAAAAAAAAAAAAAAAAAAAAAAAAAAAAAAAAAAAAAAAAAAAAAAAAAAAAAAAAAAAAAAAAAAAAAAAAAAAAAAAAAAAAAAAAAAAAAAAAAAAAAAAAAAAAAAAAAAAAAAAAAAAAAAAAAAAAAAAAAAAAAAAAAAAAAAAAAAAAAAAAAAAAAAAAAAAAAAAAAAAAAAAAAAAAAAAAAAAAAAAAAAAAAAAAAAAAAAAAAAAAAAAAAAAAAAAAAAAAAAAAAAAAAAAAAAAAAAAAAAAAAAAAAAAAAAAAAAAAAAAAAAAAAAAAAAAAAAAAAAAAAAAAAAAAAAAAAAAAAAAAAAAAAAAAAAAAAAAAAAAAAAAAAAAAAAAAAAAAAAAAAAAAAAAAAAAAAAAAAAAAAAAAAAAAAAAAAAAAAAAAAAAAAAAAAAAAAAAAAAAAAAAAAAAAAAAAAAAAAAAAAAAAAAAAAAAAAAAAAAAAAAAAAAAAAAAAAAAAAAAAAAAAAAAAAAAAAAAAAAAAAAAAAAAAAAAAAAAAAAAAAAAAAAAAAAAAAAAAAAAAAAAAAAAAAAAAAAAACwAAAAAIAAQAEAI/wABCBwgAIBBCAkUAFiIAMCBAh0AKADgoACAiwASCADAsSOAAAIAZAgAoAEABgMAAKDQgAAAAQBiAhAQAAAABAwYPADAswAAAAYOSFgAoGiADAAACMAAYEECAAA0KAAwYQIFCAoCBACwAACDBwYIABhrIACCAAQAqI1A4AOABgUAgABgIMCAAg8A6NVLAQCABgACO0gAYEEBAQAALAAAgAEFAAUWHACgQQCABQAyKwgBoHPnCwYAVADAIMAFAAMAAMgAoDWHBhgsVLCgoMICAAAQALiAAYCFAAgAOAAAwACA4xs8AABQAAMABAAQOABAfYCDAQkSACDwgAEAAA0AAP9AAMAAAQAHAgAQkAAABwAACgCYP6DABAD48wMoAADCBoAKAACwcECABgAAGgBgmIACAAABDABAAMCixQUHAABoMADAAwILAiQAEABAgQAABABQAMAlAAUQAAAIAKACAAIQDgx4cGBAAQAADAQAEAAAgAgABhwAYADAUwkGAABAAMDqggEAAFhQ0AEAAAYSBDgAAGBAgAcBAABgAKABgAgA5DIAEEAAAgAACjgIcMABAAEFAAweDAHA4QMCAgCQQAAAAAMICAgAUEEBAAATBjgA0Nmz5wcAIhA4AECBAACpBwBgLWGABACxARwAQADA7QgABgBIQCABAAATAAw3ACATAgAABAAAmJAAAAAGBAAAEHAhIAA7\"><title>Layer: hidden2 (hidden)\n shape = (512,)\n dropout = 0.2\n Keras class = Dense\n activation = relu</title></image><text x=\"280.0\" y=\"137.0\" font-family=\"monospace\" font-size=\"12\" text-anchor=\"start\" alignment-baseline=\"central\">hidden2</text><line x1=\"175.0\" y1=\"214\" x2=\"175.0\" y2=\"187\" stroke=\"black\" stroke-width=\"2\" marker-end=\"url(#arrow)\"><title>Weights from hidden1 to hidden2\n hidden2/kernel has shape (512, 512)\n hidden2/bias has shape (512,)</title></line><rect x=\"74.0\" y=\"214\" width=\"202\" height=\"102\" style=\"fill:none;stroke:black;stroke-width:2\"/><image id=\"MNIST_hidden1_3\" class=\"MNIST_hidden1\" x=\"75.0\" y=\"215\" height=\"100\" width=\"200\" preserveAspectRatio=\"none\" href=\"data:image/gif;base64,R0lGODdhIAAQAIcAAGcAH6sWKYsLJPr18rknMf3l2HgFIdBVSMM7OuaFastKQtlnU/a1lvnGrevn5JoQJ7q6uu6ZePSnhd1yWtvb28ZAPuJ9Y/3byCMjI6enp8nJyRwcHGhoaHR0dIiIiL4wNvKgfvvQuUBAQFlZWeB4X/i/owAAAAAAAAAAAAAAAAAAAAAAAAAAAAAAAAAAAAAAAAAAAAAAAAAAAAAAAAAAAAAAAAAAAAAAAAAAAAAAAAAAAAAAAAAAAAAAAAAAAAAAAAAAAAAAAAAAAAAAAAAAAAAAAAAAAAAAAAAAAAAAAAAAAAAAAAAAAAAAAAAAAAAAAAAAAAAAAAAAAAAAAAAAAAAAAAAAAAAAAAAAAAAAAAAAAAAAAAAAAAAAAAAAAAAAAAAAAAAAAAAAAAAAAAAAAAAAAAAAAAAAAAAAAAAAAAAAAAAAAAAAAAAAAAAAAAAAAAAAAAAAAAAAAAAAAAAAAAAAAAAAAAAAAAAAAAAAAAAAAAAAAAAAAAAAAAAAAAAAAAAAAAAAAAAAAAAAAAAAAAAAAAAAAAAAAAAAAAAAAAAAAAAAAAAAAAAAAAAAAAAAAAAAAAAAAAAAAAAAAAAAAAAAAAAAAAAAAAAAAAAAAAAAAAAAAAAAAAAAAAAAAAAAAAAAAAAAAAAAAAAAAAAAAAAAAAAAAAAAAAAAAAAAAAAAAAAAAAAAAAAAAAAAAAAAAAAAAAAAAAAAAAAAAAAAAAAAAAAAAAAAAAAAAAAAAAAAAAAAAAAAAAAAAAAAAAAAAAAAAAAAAAAAAAAAAAAAAAAAAAAAAAAAAAAAAAAAAAAAAAAAAAAAAAAAAAAAAAAAAAAAAAAAAAAAAAAAAAAAAAAAAAAAAAAAAAAAAAAAAAAAAAAAAAAAAAAAAAAAAAAAAAAAAAAAAAAAAAAAAAAAAAAAAAAAAAAAAAAAAAAAAAAAAAAAAAAAAAAAAAAAAAAAAAAAAAAAAAAAAAAAAAAAAAAAAAAAAAAAAAAAAAAAAAAAAAAAAAAAAAAAAAAAAAAAACwAAAAAIAAQAEAI/wABCBzhAIABAAgFPIhAAIBDhwcWABjAAYDFiwIAOAAwAACBDgIAKJAAYACAABMsQIAAoCUADAUAAPAAgACAmwYA6HxgAYBPAAMUABhKlKgGAAACAGgAAICABgAAUAAAQIACABI2FCiwgAKAAQAIAAgAAMAAABIAAAgA4AAAAAEAAFhwAQGAuwQySEAgQACACBEGABhgoIABAAAMBAhxAIDjxwwAAHAAoEAEAJgRADgQAEACAAU4dDiQocIDBQBEAABQAIBrAAEOABAAIACFDwACAABQIACADQwCAHgAYAKABwCSVwDQAACGDAAAMBAAAMAEAAAUANhuAUCDBADCE/8AAIDBhQADGABYD2CABgADAACAAABAAgAABAAgsGACAIAACAAQAEABAIQBACxc6ACAAgARIzqAQAABBAAZGxwAAALARwACGAAAMAAAAwAAKgBwUCIBgAMBAMyEAACAAQA5GQD4ACBBAAAAAhxYIAAAAAEAIgBgCkCCAAACAlwQAMAqgAEAtG7lqnWABwIFAIwdGwKABQAANIAAEAHAAAAKAACQAEAAALwPDjgAEAAABQCBAUwAUJhEAwAECgAAkMCAgAAAAAwAUNly5QYCLgBAAAADgAUSEAAAgAAAgAoCEiygECEBgAkAIAAAgAAAAAQBDBQwEACAgQUAhD9wkKAGAQDkyQMCADs=\"><title>Layer: hidden1 (hidden)\n shape = (512,)\n dropout = 0.2\n Keras class = Dense\n activation = relu</title></image><text x=\"280.0\" y=\"267.0\" font-family=\"monospace\" font-size=\"12\" text-anchor=\"start\" alignment-baseline=\"central\">hidden1</text><line x1=\"175.0\" y1=\"344\" x2=\"175.0\" y2=\"317\" stroke=\"black\" stroke-width=\"2\" marker-end=\"url(#arrow)\"><title>Weights from input to hidden1\n hidden1/kernel has shape (784, 512)\n hidden1/bias has shape (512,)</title></line><rect x=\"74.0\" y=\"344\" width=\"202\" height=\"202\" style=\"fill:none;stroke:black;stroke-width:2\"/><image id=\"MNIST_input_4\" class=\"MNIST_input\" x=\"75.0\" y=\"345\" height=\"200\" width=\"200\" preserveAspectRatio=\"none\" href=\"data:image/gif;base64,R0lGODdhHAAcAIcAAAoAAP//89MAAP//0ykAAK0AAPAAAP//cv/nAP//r1EAAP+aAP//h3AAAP8aAP9xAP/OAP/VAP/8Cv//UowAAP8sAP9JAP9bAP+GAP+8AP82AP9rAAAAAAAAAAAAAAAAAAAAAAAAAAAAAAAAAAAAAAAAAAAAAAAAAAAAAAAAAAAAAAAAAAAAAAAAAAAAAAAAAAAAAAAAAAAAAAAAAAAAAAAAAAAAAAAAAAAAAAAAAAAAAAAAAAAAAAAAAAAAAAAAAAAAAAAAAAAAAAAAAAAAAAAAAAAAAAAAAAAAAAAAAAAAAAAAAAAAAAAAAAAAAAAAAAAAAAAAAAAAAAAAAAAAAAAAAAAAAAAAAAAAAAAAAAAAAAAAAAAAAAAAAAAAAAAAAAAAAAAAAAAAAAAAAAAAAAAAAAAAAAAAAAAAAAAAAAAAAAAAAAAAAAAAAAAAAAAAAAAAAAAAAAAAAAAAAAAAAAAAAAAAAAAAAAAAAAAAAAAAAAAAAAAAAAAAAAAAAAAAAAAAAAAAAAAAAAAAAAAAAAAAAAAAAAAAAAAAAAAAAAAAAAAAAAAAAAAAAAAAAAAAAAAAAAAAAAAAAAAAAAAAAAAAAAAAAAAAAAAAAAAAAAAAAAAAAAAAAAAAAAAAAAAAAAAAAAAAAAAAAAAAAAAAAAAAAAAAAAAAAAAAAAAAAAAAAAAAAAAAAAAAAAAAAAAAAAAAAAAAAAAAAAAAAAAAAAAAAAAAAAAAAAAAAAAAAAAAAAAAAAAAAAAAAAAAAAAAAAAAAAAAAAAAAAAAAAAAAAAAAAAAAAAAAAAAAAAAAAAAAAAAAAAAAAAAAAAAAAAAAAAAAAAAAAAAAAAAAAAAAAAAAAAAAAAAAAAAAAAAAAAAAAAAAAAAAAAAAAAAAAAAAAAAAAAAAAAAAAAAAAAAAAAAAAAAAAAAAAAAAAAAAAAAAAAAAAAAAAAAAAAAAAAAAAAAAAAAAAAAAAAAAAAAAAAAAAAAAAAAAAAAAAAAAAAAAAAAAAAAAAAAAAAAAAAAACwAAAAAHAAcAEAI/wABCBxIsKDBgwgHOggggQCAhwAUHAgQIAKAixgxYgjAsaPHAAwWABhJsqRJkhkCXADAsqXLlzBjypwZk0GAABsA6NRJIUGAAQYACB1KtOhQBAEsAFjKtKnTp1CjSp0KNUGAAAYAaN2q1QCArwQgBAjgAIBZswgCFHAAoK3btwQgBBhQAIDduwYGBJhAAIDfv4ADBxYwYYAGAIgTK17M+EEABg0ASJ5MubLly5gza97MubPnz6AlG6AAoLRpAwMCJCgAoLXr1gQAyJaNIMAABQByAygQIIGEAgCCCx8uHEKAABgIAFgOoEIABA8KAJhOvToAAhECMDAAoLv3CQECIGIgAKC8+fMALgRYf6B9BQkHDgwIEGABgPv48+NvIKC/f4ACBCwIkEABAIQJFS5kCEDBgQEFAEykWNHixYkPAiwA0NHjR5AhO1oIMKABAJQpVa5kmTJDBAAxZc6kWdPmTZwBAQA7\"><title>Layer: input (input)\n shape = (784,)\n Keras class = Input</title></image><text x=\"280.0\" y=\"447.0\" font-family=\"monospace\" font-size=\"12\" text-anchor=\"start\" alignment-baseline=\"central\">input</text></svg></p>"
      }
     },
     "b8e77711f8ff489ba482524080d703a1": {
      "model_module": "jupyter-js-widgets",
      "model_module_version": "~2.1.4",
      "model_name": "LayoutModel",
      "state": {
       "_model_module_version": "~2.1.4",
       "_view_module_version": "~2.1.4",
       "height": "550px",
       "justify_content": "center",
       "overflow_x": "auto",
       "width": "100%"
      }
     },
     "b9ea215c260e4862bc4c4792189e8abb": {
      "model_module": "jupyter-js-widgets",
      "model_module_version": "~2.1.4",
      "model_name": "LayoutModel",
      "state": {
       "_model_module_version": "~2.1.4",
       "_view_module_version": "~2.1.4",
       "height": "550px",
       "width": "100%"
      }
     },
     "ba4a121d777e4f7b83db2c5702370b64": {
      "model_module": "jupyter-js-widgets",
      "model_module_version": "~2.1.4",
      "model_name": "LayoutModel",
      "state": {
       "_model_module_version": "~2.1.4",
       "_view_module_version": "~2.1.4",
       "width": "100%"
      }
     },
     "bfde97009d7146eab72661c485e76ff3": {
      "model_module": "jupyter-js-widgets",
      "model_module_version": "~2.1.4",
      "model_name": "ButtonStyleModel",
      "state": {
       "_model_module_version": "~2.1.4",
       "_view_module_version": "~2.1.4"
      }
     },
     "c30a834da02348f4b22a676c9308587f": {
      "model_module": "jupyter-js-widgets",
      "model_module_version": "~2.1.4",
      "model_name": "VBoxModel",
      "state": {
       "_model_module_version": "~2.1.4",
       "_view_module_version": "~2.1.4",
       "children": [
        "IPY_MODEL_b8c802bfb6a749b88f7d6e67a823675d",
        "IPY_MODEL_da88945082914b898baff00b9865e604"
       ],
       "layout": "IPY_MODEL_fdd54490ba0e4d1d961c30a548286a54"
      }
     },
     "c66bb517d081477e91bde321a0f1b62f": {
      "model_module": "jupyter-js-widgets",
      "model_module_version": "~2.1.4",
      "model_name": "IntSliderModel",
      "state": {
       "_model_module_version": "~2.1.4",
       "_view_module_version": "~2.1.4",
       "continuous_update": false,
       "description": "Dataset index",
       "layout": "IPY_MODEL_b0ec5207e609410a94cf104bc0c0def0",
       "max": 99,
       "style": "IPY_MODEL_a545801a367d44938656831783bb055a"
      }
     },
     "cd34173df3414f8492489cd7ca16dbf8": {
      "model_module": "jupyter-js-widgets",
      "model_module_version": "~2.1.4",
      "model_name": "ButtonStyleModel",
      "state": {
       "_model_module_version": "~2.1.4",
       "_view_module_version": "~2.1.4"
      }
     },
     "d5ff1236ee6e441f8b110cba22a7016f": {
      "model_module": "jupyter-js-widgets",
      "model_module_version": "~2.1.4",
      "model_name": "ButtonStyleModel",
      "state": {
       "_model_module_version": "~2.1.4",
       "_view_module_version": "~2.1.4"
      }
     },
     "da88945082914b898baff00b9865e604": {
      "model_module": "jupyter-js-widgets",
      "model_module_version": "~2.1.4",
      "model_name": "VBoxModel",
      "state": {
       "_model_module_version": "~2.1.4",
       "_view_module_version": "~2.1.4",
       "children": [
        "IPY_MODEL_1b1f28bda4a646a1961d3bea942a81ee",
        "IPY_MODEL_c66bb517d081477e91bde321a0f1b62f",
        "IPY_MODEL_1780d5158aa54fb291d3795d2266be74"
       ],
       "layout": "IPY_MODEL_a2c38d586b2b4e469dc9fcfed691838b"
      }
     },
     "dc05f745dca34493b69d226dd5bbc50e": {
      "model_module": "jupyter-js-widgets",
      "model_module_version": "~2.1.4",
      "model_name": "LayoutModel",
      "state": {
       "_model_module_version": "~2.1.4",
       "_view_module_version": "~2.1.4",
       "height": "550px",
       "justify_content": "center",
       "overflow_x": "auto",
       "width": "100%"
      }
     },
     "dcaabc9f00e647f5b7df4fc681738c04": {
      "model_module": "jupyter-js-widgets",
      "model_module_version": "~2.1.4",
      "model_name": "ButtonStyleModel",
      "state": {
       "_model_module_version": "~2.1.4",
       "_view_module_version": "~2.1.4"
      }
     },
     "dfe2ad5ff2f24f3aaa5188d40b55a859": {
      "model_module": "jupyter-js-widgets",
      "model_module_version": "~2.1.4",
      "model_name": "SelectModel",
      "state": {
       "_model_module_version": "~2.1.4",
       "_options_labels": [
        "Test",
        "Train"
       ],
       "_view_module_version": "~2.1.4",
       "description": "Dataset:",
       "layout": "IPY_MODEL_1b495297df554f9eb4bfeaea7b68805d",
       "value": "Train"
      }
     },
     "e87fb4bdd2454d1c8b1ba45133848d08": {
      "model_module": "jupyter-js-widgets",
      "model_module_version": "~2.1.4",
      "model_name": "LayoutModel",
      "state": {
       "_model_module_version": "~2.1.4",
       "_view_module_version": "~2.1.4",
       "width": "100%"
      }
     },
     "ed730016825042d392240d0a2b20b3b9": {
      "model_module": "jupyter-js-widgets",
      "model_module_version": "~2.1.4",
      "model_name": "ButtonStyleModel",
      "state": {
       "_model_module_version": "~2.1.4",
       "_view_module_version": "~2.1.4"
      }
     },
     "ef5d1e8727c541d186045c713243592f": {
      "model_module": "jupyter-js-widgets",
      "model_module_version": "~2.1.4",
      "model_name": "LayoutModel",
      "state": {
       "_model_module_version": "~2.1.4",
       "_view_module_version": "~2.1.4",
       "height": "550px",
       "width": "100%"
      }
     },
     "fa7aca08d0844b819f51c54a5a68384d": {
      "model_module": "jupyter-js-widgets",
      "model_module_version": "~2.1.4",
      "model_name": "IntSliderModel",
      "state": {
       "_model_module_version": "~2.1.4",
       "_view_module_version": "~2.1.4",
       "continuous_update": false,
       "description": "Dataset index",
       "layout": "IPY_MODEL_7665369cb7604822833e7f93841add1c",
       "max": 99,
       "style": "IPY_MODEL_20d4c0f1d214431496d3a99ae2ad455f"
      }
     },
     "fc540cebf38d40b596064e6a1e22ffaa": {
      "model_module": "jupyter-js-widgets",
      "model_module_version": "~2.1.4",
      "model_name": "ButtonModel",
      "state": {
       "_model_module_version": "~2.1.4",
       "_view_module_version": "~2.1.4",
       "icon": "backward",
       "layout": "IPY_MODEL_fe07f9f0302048b2a3de09790d09c63d",
       "style": "IPY_MODEL_8fbdb723ae4e4ca1ba2d59191d1c0e32"
      }
     },
     "fda2e3ec336f46f5a70fb6d19ae77471": {
      "model_module": "jupyter-js-widgets",
      "model_module_version": "~2.1.4",
      "model_name": "HBoxModel",
      "state": {
       "_model_module_version": "~2.1.4",
       "_view_module_version": "~2.1.4",
       "children": [
        "IPY_MODEL_7ce09b67ef724565b9bb23ebf8ea5e88",
        "IPY_MODEL_7e6d705adc0b4d27a75aa506b4953a86",
        "IPY_MODEL_481c71fb313c43a0a70bf013b15ad79d",
        "IPY_MODEL_5499088e49484fafb667f42777c0b598",
        "IPY_MODEL_9b57d65f3bb04523bc66862dc7d2a21b"
       ],
       "layout": "IPY_MODEL_380b19ad1eee44c1986e5843f07be2df"
      }
     },
     "fdd54490ba0e4d1d961c30a548286a54": {
      "model_module": "jupyter-js-widgets",
      "model_module_version": "~2.1.4",
      "model_name": "LayoutModel",
      "state": {
       "_model_module_version": "~2.1.4",
       "_view_module_version": "~2.1.4",
       "height": "550px",
       "width": "100%"
      }
     },
     "fe07f9f0302048b2a3de09790d09c63d": {
      "model_module": "jupyter-js-widgets",
      "model_module_version": "~2.1.4",
      "model_name": "LayoutModel",
      "state": {
       "_model_module_version": "~2.1.4",
       "_view_module_version": "~2.1.4",
       "width": "100%"
      }
     }
    },
    "version_major": 1,
    "version_minor": 0
   }
  }
 },
 "nbformat": 4,
 "nbformat_minor": 2
}
