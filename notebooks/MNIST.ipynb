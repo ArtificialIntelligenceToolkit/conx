{
 "cells": [
  {
   "cell_type": "code",
   "execution_count": 1,
   "metadata": {},
   "outputs": [
    {
     "name": "stderr",
     "output_type": "stream",
     "text": [
      "Using Theano backend.\n"
     ]
    }
   ],
   "source": [
    "from conx import Network, Layer"
   ]
  },
  {
   "cell_type": "code",
   "execution_count": 2,
   "metadata": {
    "collapsed": true
   },
   "outputs": [],
   "source": [
    "net = Network(\"MNIST\")\n",
    "net.add(Layer(\"input\", shape=784, vshape=(28, 28), colormap=\"hot\", minmax=(0,1)))\n",
    "net.add(Layer(\"hidden1\", shape=512, vshape=(16,32), activation='relu', dropout=0.2))\n",
    "net.add(Layer(\"hidden2\", shape=512, vshape=(16,32), activation='relu', dropout=0.2))\n",
    "net.add(Layer(\"output\", shape=10, activation='softmax'))\n",
    "\n",
    "net.connect('input', 'hidden1')\n",
    "net.connect('hidden1', 'hidden2')\n",
    "net.connect('hidden2', 'output')"
   ]
  },
  {
   "cell_type": "code",
   "execution_count": 3,
   "metadata": {},
   "outputs": [
    {
     "data": {
      "text/plain": [
       "<Network name='MNIST'>"
      ]
     },
     "execution_count": 3,
     "metadata": {},
     "output_type": "execute_result"
    }
   ],
   "source": [
    "net"
   ]
  },
  {
   "cell_type": "code",
   "execution_count": 4,
   "metadata": {
    "collapsed": true
   },
   "outputs": [],
   "source": [
    "net.compile(loss='mean_squared_error',\n",
    "            optimizer='sgd')"
   ]
  },
  {
   "cell_type": "code",
   "execution_count": 5,
   "metadata": {
    "collapsed": true
   },
   "outputs": [],
   "source": [
    "from keras.utils.vis_utils import model_to_dot\n",
    "from IPython.display import SVG"
   ]
  },
  {
   "cell_type": "code",
   "execution_count": 6,
   "metadata": {},
   "outputs": [
    {
     "data": {
      "image/svg+xml": [
       "<svg height=\"410pt\" viewBox=\"0.00 0.00 133.00 410.00\" width=\"133pt\" xmlns=\"http://www.w3.org/2000/svg\" xmlns:xlink=\"http://www.w3.org/1999/xlink\">\n",
       "<g class=\"graph\" id=\"graph0\" transform=\"scale(1 1) rotate(0) translate(4 406)\">\n",
       "<title>G</title>\n",
       "<polygon fill=\"white\" points=\"-4,4 -4,-406 129,-406 129,4 -4,4\" stroke=\"none\"/>\n",
       "<!-- 140692695278816 -->\n",
       "<g class=\"node\" id=\"node1\"><title>140692695278816</title>\n",
       "<polygon fill=\"none\" points=\"6.5,-0.5 6.5,-36.5 118.5,-36.5 118.5,-0.5 6.5,-0.5\" stroke=\"black\"/>\n",
       "<text font-family=\"Times,serif\" font-size=\"14.00\" text-anchor=\"middle\" x=\"62.5\" y=\"-14.8\">input: InputLayer</text>\n",
       "</g>\n",
       "<!-- 140692695281392 -->\n",
       "<g class=\"node\" id=\"node2\"><title>140692695281392</title>\n",
       "<polygon fill=\"none\" points=\"12,-73.5 12,-109.5 113,-109.5 113,-73.5 12,-73.5\" stroke=\"black\"/>\n",
       "<text font-family=\"Times,serif\" font-size=\"14.00\" text-anchor=\"middle\" x=\"62.5\" y=\"-87.8\">hidden1: Dense</text>\n",
       "</g>\n",
       "<!-- 140692695278816&#45;&gt;140692695281392 -->\n",
       "<g class=\"edge\" id=\"edge1\"><title>140692695278816-&gt;140692695281392</title>\n",
       "<path d=\"M62.5,-36.6871C62.5,-44.7105 62.5,-54.4525 62.5,-63.4309\" fill=\"none\" stroke=\"black\"/>\n",
       "<polygon fill=\"black\" points=\"59.0001,-63.4711 62.5,-73.4712 66.0001,-63.4712 59.0001,-63.4711\" stroke=\"black\"/>\n",
       "</g>\n",
       "<!-- 140692694425728 -->\n",
       "<g class=\"node\" id=\"node3\"><title>140692694425728</title>\n",
       "<polygon fill=\"none\" points=\"-7.10543e-15,-146.5 -7.10543e-15,-182.5 125,-182.5 125,-146.5 -7.10543e-15,-146.5\" stroke=\"black\"/>\n",
       "<text font-family=\"Times,serif\" font-size=\"14.00\" text-anchor=\"middle\" x=\"62.5\" y=\"-160.8\">dropout_1: Dropout</text>\n",
       "</g>\n",
       "<!-- 140692695281392&#45;&gt;140692694425728 -->\n",
       "<g class=\"edge\" id=\"edge2\"><title>140692695281392-&gt;140692694425728</title>\n",
       "<path d=\"M62.5,-109.687C62.5,-117.711 62.5,-127.453 62.5,-136.431\" fill=\"none\" stroke=\"black\"/>\n",
       "<polygon fill=\"black\" points=\"59.0001,-136.471 62.5,-146.471 66.0001,-136.471 59.0001,-136.471\" stroke=\"black\"/>\n",
       "</g>\n",
       "<!-- 140692694426008 -->\n",
       "<g class=\"node\" id=\"node4\"><title>140692694426008</title>\n",
       "<polygon fill=\"none\" points=\"12,-219.5 12,-255.5 113,-255.5 113,-219.5 12,-219.5\" stroke=\"black\"/>\n",
       "<text font-family=\"Times,serif\" font-size=\"14.00\" text-anchor=\"middle\" x=\"62.5\" y=\"-233.8\">hidden2: Dense</text>\n",
       "</g>\n",
       "<!-- 140692694425728&#45;&gt;140692694426008 -->\n",
       "<g class=\"edge\" id=\"edge3\"><title>140692694425728-&gt;140692694426008</title>\n",
       "<path d=\"M62.5,-182.687C62.5,-190.711 62.5,-200.453 62.5,-209.431\" fill=\"none\" stroke=\"black\"/>\n",
       "<polygon fill=\"black\" points=\"59.0001,-209.471 62.5,-219.471 66.0001,-209.471 59.0001,-209.471\" stroke=\"black\"/>\n",
       "</g>\n",
       "<!-- 140692674406048 -->\n",
       "<g class=\"node\" id=\"node5\"><title>140692674406048</title>\n",
       "<polygon fill=\"none\" points=\"-7.10543e-15,-292.5 -7.10543e-15,-328.5 125,-328.5 125,-292.5 -7.10543e-15,-292.5\" stroke=\"black\"/>\n",
       "<text font-family=\"Times,serif\" font-size=\"14.00\" text-anchor=\"middle\" x=\"62.5\" y=\"-306.8\">dropout_2: Dropout</text>\n",
       "</g>\n",
       "<!-- 140692694426008&#45;&gt;140692674406048 -->\n",
       "<g class=\"edge\" id=\"edge4\"><title>140692694426008-&gt;140692674406048</title>\n",
       "<path d=\"M62.5,-255.687C62.5,-263.711 62.5,-273.453 62.5,-282.431\" fill=\"none\" stroke=\"black\"/>\n",
       "<polygon fill=\"black\" points=\"59.0001,-282.471 62.5,-292.471 66.0001,-282.471 59.0001,-282.471\" stroke=\"black\"/>\n",
       "</g>\n",
       "<!-- 140692674406160 -->\n",
       "<g class=\"node\" id=\"node6\"><title>140692674406160</title>\n",
       "<polygon fill=\"none\" points=\"16.5,-365.5 16.5,-401.5 108.5,-401.5 108.5,-365.5 16.5,-365.5\" stroke=\"black\"/>\n",
       "<text font-family=\"Times,serif\" font-size=\"14.00\" text-anchor=\"middle\" x=\"62.5\" y=\"-379.8\">output: Dense</text>\n",
       "</g>\n",
       "<!-- 140692674406048&#45;&gt;140692674406160 -->\n",
       "<g class=\"edge\" id=\"edge5\"><title>140692674406048-&gt;140692674406160</title>\n",
       "<path d=\"M62.5,-328.687C62.5,-336.711 62.5,-346.453 62.5,-355.431\" fill=\"none\" stroke=\"black\"/>\n",
       "<polygon fill=\"black\" points=\"59.0001,-355.471 62.5,-365.471 66.0001,-355.471 59.0001,-355.471\" stroke=\"black\"/>\n",
       "</g>\n",
       "</g>\n",
       "</svg>"
      ],
      "text/plain": [
       "<IPython.core.display.SVG object>"
      ]
     },
     "execution_count": 6,
     "metadata": {},
     "output_type": "execute_result"
    }
   ],
   "source": [
    "SVG(model_to_dot(net.model).create_svg())"
   ]
  },
  {
   "cell_type": "code",
   "execution_count": 7,
   "metadata": {},
   "outputs": [
    {
     "name": "stdout",
     "output_type": "stream",
     "text": [
      "Loading mnist dataset...\n",
      "70000 train inputs, 0 test inputs\n",
      "Set 70000 inputs and targets\n",
      "Input data shape: (28, 28), range: (0, 255), type: uint8\n",
      "No targets\n",
      "Inputs rescaled to float32 values in the range 0 - 1\n",
      "Shuffled all 70000 inputs\n",
      "Input data shape: (784,), range: (0.0, 1.0), type: float32\n",
      "Split dataset into:\n",
      "   100 train inputs\n",
      "   69900 test inputs\n",
      "Generated 70000 target vectors from labels\n",
      "100 train inputs, 69900 test inputs\n",
      "Set 70000 inputs and targets\n",
      "Input data shape: (784,), range: (0.0, 1.0), type: float32\n",
      "Target data shape: (10,), range: (0, 0), type: uint8\n"
     ]
    }
   ],
   "source": [
    "net.load_keras_dataset('mnist')\n",
    "net.rescale_inputs((0,255), (0,1), 'float32')\n",
    "net.shuffle_dataset()\n",
    "net.reshape_inputs(784)\n",
    "net.split_dataset(100)\n",
    "net.set_targets_to_categories(10)\n",
    "net.summary_dataset()"
   ]
  },
  {
   "cell_type": "code",
   "execution_count": 8,
   "metadata": {},
   "outputs": [
    {
     "data": {
      "application/javascript": [
       "\n",
       "require(['base/js/namespace'], function(Jupyter) {\n",
       "    Jupyter.notebook.kernel.comm_manager.register_target('conx_svg_control', function(comm, msg) {\n",
       "        comm.on_msg(function(msg) {\n",
       "            var data = msg[\"content\"][\"data\"];\n",
       "            var image = document.getElementById(data[\"id\"]);\n",
       "            if (image) {\n",
       "                image.setAttributeNS(null, \"href\", data[\"href\"]);\n",
       "            }\n",
       "        });\n",
       "    });\n",
       "});\n"
      ],
      "text/plain": [
       "<IPython.core.display.Javascript object>"
      ]
     },
     "metadata": {},
     "output_type": "display_data"
    },
    {
     "data": {
      "image/svg+xml": [
       "\n",
       "        <svg id='MNIST' xmlns='http://www.w3.org/2000/svg' width=\"300\" height=\"645\">\n",
       "    <defs>\n",
       "        <marker id=\"arrow\" markerWidth=\"10\" markerHeight=\"10\" refX=\"9\" refY=\"3\" orient=\"auto\" markerUnits=\"strokeWidth\">\n",
       "          <path d=\"M0,0 L0,6 L9,3 z\" fill=\"blue\" />\n",
       "        </marker>\n",
       "    </defs>\n",
       "<rect x=\"49.0\" y=\"24\" width=\"202\" height=\"22\" style=\"fill:none;stroke:blue;stroke-width:2\"/><image id=\"MNIST_output\" x=\"50.0\" y=\"25\" height=\"20\" width=\"200\" href=\"data:image/gif;base64,R0lGODdhyAAUAIIAABAQEBMTExUVFRcXFxwcHB4eHiMjIwAAACwAAAAAyAAUAEAI/wAHCBxIsGBBAggTKlzIsKFDhQIiSpxIkWKAixgzatRYoKPHjyBBChhJsqRJkwVSqlzJkiWAlzBjypRpoKbNmzhxDtjJs6dPnwSCCh1KtKjRo0MFKF3KtGnTAFCjSp06tYDVq1izZhXAtavXr18LiB1LtmxZAGjTql271oDbt3Djxh1At67du3cJ6N3Lt6/fv4D5ChhMuLBhwwESK17MmHGBx5AjS5YsoLLly5gxF9jMubNnzwBCix5NmrSB06hTq1Y9oLXr17BhE5hNu7bt27hz1xbAu7fv378DCB9OvHjxAsiTK1++XIDz59CjRy9Avbr169cBaN/OvXt3A+DDi/8fP36A+fPo06cnwL69+/fw48t3L6C+/fv48QfYz7+/f4ABBAosUNDgQYQIBSxk2NChwwIRJU6kSBHARYwZNWo00NHjR5AgB4wkWdKkSQIpVa5k2dLly5UCZM6kWbNmAJw5de7cWcDnT6BBgwogWtTo0aMFlC5l2rQpAKhRpU6dasDqVaxZsw7g2tXr168ExI4lW9bsWbRkBaxl29at2wBx5c6lS7fAXbx59eoV0NfvX8CACwwmXNiwYQCJFS9mzNjAY8iRJUseUNnyZcyYCWzm3NnzZ9ChOwsgXdr06dMBVK9m3bp1AdixZc+eLcD2bdy5cxfg3dv3798AhA8nXrz/uAHkyZUvXz7A+XPo0aMToF7d+nXs2bVbF9Dd+3fw4AOMJ1/evPkC6dWvZ89ewHv48eXLL1Df/n38+AHs59/fP0AAAgUaKGjwIEKEAxYybOjQIYGIEidSrGjx4kQBGjdy7NgxAMiQIkeOLGDyJMqUKQWwbOny5csCMmfSrFkTAM6cOnfuNODzJ9CgQQcQLWr06FECSpcyber0KVSmAqZSrWrVaoCsWrdy5VrgK9iwYsUKKGv2LFq0BdaybevWLYC4cufSpWvgLt68evUO6Ov3L2DABAYTLmz4MOLEhQUwbuz48eMAkidTrly5AObMmjdvFuD5M+jQoQuQLm369GkA/6pXs27d2gDs2LJnzx5g+zbu3LkJ8O7t+zfw4MJ9Cyhu/Dhy5AGWM2/u3HmB6NKnU6cu4Dr27Nq1F+ju/Tt48ADGky9v3ryB9OrXs2c/4D38+PLlE6hv/z7+/Pr33xfgH6AAgQMJFhQYAGFChQsXFnD4EGLEiAIoVrR48WIBjRs5duwIAGRIkSNHGjB5EmXKlANYtnT58iUBmTNp1rR5EydNATt59vTpM0BQoUOJEi1wFGlSpUoFNHX6FCrUAlOpVrVqFUBWrVu5cjXwFWxYsWIHlDV7Fi1aAmvZtnX7Fm7ctgLo1rV7924AvXv59u1bAHBgwYMHCzB8GHHixAUYN/92/PgxAMmTKVeubABzZs2bNw/w/Bl06NAESJc2fRp1atWmBbR2/Ro27ACzade2bbtAbt27efMW8Bt4cOHCCxQ3fhw5cgDLmTd37txAdOnTqVMfcB17du3aCXT3/h18ePHjvwswfx59+vQB2Ld3//59Afnz6devLwB/fv379xfwD7CAwIEECwoEgDChwoULDTh8CDFixAEUK1q8eJGAxo0cO3r8CJKjgJEkS5o0GSClypUsWRZ4CTOmTJkCatq8iRNngZ08e/r0CSCo0KFEiRo4ijSpUqUDmjp9ChUqgalUq1q9ijVrVQFcu3r9+jWA2LFky5YtgDat2rVrBbh9CzcYbtwCdOvavXsXgN69fPv2NQA4sODBgwMCADs=\"><title>Layer: output (output)\n",
       " shape = 10\n",
       " Keras class = Dense\n",
       " activation = softmax</title></image><text x=\"255.0\" y=\"37.0\" font-family=\"Verdana\" font-size=\"12\">output</text><rect x=\"140.0\" y=\"47\" width=\"20.0\" height=\"47\" style=\"fill:white;stroke:none\"><title>Weights from hidden2 to output\n",
       " output/kernel has shape (512, 10)\n",
       " output/bias has shape (10,)</title></rect><line x1=\"150.0\" y1=\"94\" x2=\"150.0\" y2=\"47\" stroke=\"blue\" stroke-width=\"2\" marker-end=\"url(#arrow)\"><title>Weights from hidden2 to output\n",
       " output/kernel has shape (512, 10)\n",
       " output/bias has shape (10,)</title></line><rect x=\"49.0\" y=\"94\" width=\"202\" height=\"102\" style=\"fill:none;stroke:blue;stroke-width:2\"/><image id=\"MNIST_hidden2\" x=\"50.0\" y=\"95\" height=\"100\" width=\"200\" href=\"data:image/gif;base64,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\"><title>Layer: hidden2 (hidden)\n",
       " shape = 512\n",
       " dropout = 0.2\n",
       " Keras class = Dense\n",
       " activation = relu</title></image><text x=\"255.0\" y=\"147.0\" font-family=\"Verdana\" font-size=\"12\">hidden2</text><rect x=\"140.0\" y=\"197\" width=\"20.0\" height=\"47\" style=\"fill:white;stroke:none\"><title>Weights from hidden1 to hidden2\n",
       " hidden2/kernel has shape (512, 512)\n",
       " hidden2/bias has shape (512,)</title></rect><line x1=\"150.0\" y1=\"244\" x2=\"150.0\" y2=\"197\" stroke=\"blue\" stroke-width=\"2\" marker-end=\"url(#arrow)\"><title>Weights from hidden1 to hidden2\n",
       " hidden2/kernel has shape (512, 512)\n",
       " hidden2/bias has shape (512,)</title></line><rect x=\"49.0\" y=\"244\" width=\"202\" height=\"102\" style=\"fill:none;stroke:blue;stroke-width:2\"/><image id=\"MNIST_hidden1\" x=\"50.0\" y=\"245\" height=\"100\" width=\"200\" href=\"data:image/gif;base64,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\"><title>Layer: hidden1 (hidden)\n",
       " shape = 512\n",
       " dropout = 0.2\n",
       " Keras class = Dense\n",
       " activation = relu</title></image><text x=\"255.0\" y=\"297.0\" font-family=\"Verdana\" font-size=\"12\">hidden1</text><rect x=\"140.0\" y=\"347\" width=\"20.0\" height=\"47\" style=\"fill:white;stroke:none\"><title>Weights from input to hidden1\n",
       " hidden1/kernel has shape (784, 512)\n",
       " hidden1/bias has shape (512,)</title></rect><line x1=\"150.0\" y1=\"394\" x2=\"150.0\" y2=\"347\" stroke=\"blue\" stroke-width=\"2\" marker-end=\"url(#arrow)\"><title>Weights from input to hidden1\n",
       " hidden1/kernel has shape (784, 512)\n",
       " hidden1/bias has shape (512,)</title></line><rect x=\"49.0\" y=\"394\" width=\"202\" height=\"202\" style=\"fill:none;stroke:blue;stroke-width:2\"/><image id=\"MNIST_input\" x=\"50.0\" y=\"395\" height=\"200\" width=\"200\" href=\"data:image/gif;base64,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\"><title>Layer: input (input)\n",
       " shape = 784\n",
       " Keras class = Input</title></image><text x=\"255.0\" y=\"497.0\" font-family=\"Verdana\" font-size=\"12\">input</text></svg>"
      ],
      "text/plain": [
       "<Network name='MNIST'>"
      ]
     },
     "execution_count": 8,
     "metadata": {},
     "output_type": "execute_result"
    }
   ],
   "source": [
    "net"
   ]
  },
  {
   "cell_type": "code",
   "execution_count": 9,
   "metadata": {},
   "outputs": [
    {
     "data": {
      "text/plain": [
       "[0.076339096,\n",
       " 0.11838526,\n",
       " 0.14301778,\n",
       " 0.10123758,\n",
       " 0.049340598,\n",
       " 0.079750851,\n",
       " 0.056181505,\n",
       " 0.16086146,\n",
       " 0.048036546,\n",
       " 0.16684933]"
      ]
     },
     "execution_count": 9,
     "metadata": {},
     "output_type": "execute_result"
    }
   ],
   "source": [
    "net.propagate(net.get_input(10))"
   ]
  },
  {
   "cell_type": "code",
   "execution_count": 10,
   "metadata": {},
   "outputs": [
    {
     "name": "stdout",
     "output_type": "stream",
     "text": [
      "Training...\n",
      "Epoch 1/10\n",
      "100/100 [==============================] - 0s - loss: 0.0926 - acc: 0.0900\n",
      "Epoch 2/10\n",
      "100/100 [==============================] - 0s - loss: 0.0924 - acc: 0.0200\n",
      "Epoch 3/10\n",
      "100/100 [==============================] - 0s - loss: 0.0927 - acc: 0.0800\n",
      "Epoch 4/10\n",
      "100/100 [==============================] - 0s - loss: 0.0923 - acc: 0.0900\n",
      "Epoch 5/10\n",
      "100/100 [==============================] - 0s - loss: 0.0922 - acc: 0.0400\n",
      "Epoch 6/10\n",
      "100/100 [==============================] - 0s - loss: 0.0922 - acc: 0.0700\n",
      "Epoch 7/10\n",
      "100/100 [==============================] - 0s - loss: 0.0922 - acc: 0.0900\n",
      "Epoch 8/10\n",
      "100/100 [==============================] - 0s - loss: 0.0925 - acc: 0.0600\n",
      "Epoch 9/10\n",
      "100/100 [==============================] - 0s - loss: 0.0921 - acc: 0.0800\n",
      "Epoch 10/10\n",
      "100/100 [==============================] - 0s - loss: 0.0926 - acc: 0.0600\n",
      "========================================================================\n",
      "Epoch #   10 | train loss 0.09263 | train acc 0.09000 | validate% 0.00000\n"
     ]
    }
   ],
   "source": [
    "net.train(10)\n",
    "#net.test()"
   ]
  },
  {
   "cell_type": "code",
   "execution_count": 11,
   "metadata": {
    "collapsed": true
   },
   "outputs": [],
   "source": [
    "import time\n",
    "for i in range(10):\n",
    "    net.propagate(net.get_input(i))\n",
    "    time.sleep(1)"
   ]
  },
  {
   "cell_type": "code",
   "execution_count": null,
   "metadata": {
    "collapsed": true
   },
   "outputs": [],
   "source": []
  }
 ],
 "metadata": {
  "kernelspec": {
   "display_name": "Python 3",
   "language": "python",
   "name": "python3"
  },
  "language_info": {
   "codemirror_mode": {
    "name": "ipython",
    "version": 3
   },
   "file_extension": ".py",
   "mimetype": "text/x-python",
   "name": "python",
   "nbconvert_exporter": "python",
   "pygments_lexer": "ipython3",
   "version": "3.5.3"
  }
 },
 "nbformat": 4,
 "nbformat_minor": 2
}
