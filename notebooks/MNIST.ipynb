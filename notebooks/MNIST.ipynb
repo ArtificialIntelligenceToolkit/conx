{
 "cells": [
  {
   "cell_type": "code",
   "execution_count": 1,
   "metadata": {},
   "outputs": [
    {
     "name": "stderr",
     "output_type": "stream",
     "text": [
      "Using Theano backend.\n"
     ]
    }
   ],
   "source": [
    "from conx import Network, Layer"
   ]
  },
  {
   "cell_type": "code",
   "execution_count": 2,
   "metadata": {
    "collapsed": true
   },
   "outputs": [],
   "source": [
    "net = Network(\"MNIST\")\n",
    "net.add(Layer(\"input\", shape=784, vshape=(28, 28), colormap=\"hot\", minmax=(0,1)))\n",
    "net.add(Layer(\"hidden1\", shape=512, vshape=(16,32), activation='relu', dropout=0.2))\n",
    "net.add(Layer(\"hidden2\", shape=512, vshape=(16,32), activation='relu', dropout=0.2))\n",
    "net.add(Layer(\"output\", shape=10, activation='softmax'))\n",
    "\n",
    "net.connect('input', 'hidden1')\n",
    "net.connect('hidden1', 'hidden2')\n",
    "net.connect('hidden2', 'output')"
   ]
  },
  {
   "cell_type": "code",
   "execution_count": 3,
   "metadata": {
    "collapsed": true
   },
   "outputs": [],
   "source": [
    "net.compile(loss='mean_squared_error',\n",
    "            optimizer='sgd')"
   ]
  },
  {
   "cell_type": "code",
   "execution_count": 4,
   "metadata": {
    "collapsed": true
   },
   "outputs": [],
   "source": [
    "from keras.utils.vis_utils import model_to_dot\n",
    "from IPython.display import SVG"
   ]
  },
  {
   "cell_type": "code",
   "execution_count": 5,
   "metadata": {},
   "outputs": [
    {
     "data": {
      "image/svg+xml": [
       "<svg height=\"410pt\" viewBox=\"0.00 0.00 133.00 410.00\" width=\"133pt\" xmlns=\"http://www.w3.org/2000/svg\" xmlns:xlink=\"http://www.w3.org/1999/xlink\">\n",
       "<g class=\"graph\" id=\"graph0\" transform=\"scale(1 1) rotate(0) translate(4 406)\">\n",
       "<title>G</title>\n",
       "<polygon fill=\"white\" points=\"-4,4 -4,-406 129,-406 129,4 -4,4\" stroke=\"none\"/>\n",
       "<!-- 140396325412480 -->\n",
       "<g class=\"node\" id=\"node1\"><title>140396325412480</title>\n",
       "<polygon fill=\"none\" points=\"6.5,-0.5 6.5,-36.5 118.5,-36.5 118.5,-0.5 6.5,-0.5\" stroke=\"black\"/>\n",
       "<text font-family=\"Times,serif\" font-size=\"14.00\" text-anchor=\"middle\" x=\"62.5\" y=\"-14.8\">input: InputLayer</text>\n",
       "</g>\n",
       "<!-- 140396325543104 -->\n",
       "<g class=\"node\" id=\"node2\"><title>140396325543104</title>\n",
       "<polygon fill=\"none\" points=\"12,-73.5 12,-109.5 113,-109.5 113,-73.5 12,-73.5\" stroke=\"black\"/>\n",
       "<text font-family=\"Times,serif\" font-size=\"14.00\" text-anchor=\"middle\" x=\"62.5\" y=\"-87.8\">hidden1: Dense</text>\n",
       "</g>\n",
       "<!-- 140396325412480&#45;&gt;140396325543104 -->\n",
       "<g class=\"edge\" id=\"edge1\"><title>140396325412480-&gt;140396325543104</title>\n",
       "<path d=\"M62.5,-36.6871C62.5,-44.7105 62.5,-54.4525 62.5,-63.4309\" fill=\"none\" stroke=\"black\"/>\n",
       "<polygon fill=\"black\" points=\"59.0001,-63.4711 62.5,-73.4712 66.0001,-63.4712 59.0001,-63.4711\" stroke=\"black\"/>\n",
       "</g>\n",
       "<!-- 140396325543440 -->\n",
       "<g class=\"node\" id=\"node3\"><title>140396325543440</title>\n",
       "<polygon fill=\"none\" points=\"-7.10543e-15,-146.5 -7.10543e-15,-182.5 125,-182.5 125,-146.5 -7.10543e-15,-146.5\" stroke=\"black\"/>\n",
       "<text font-family=\"Times,serif\" font-size=\"14.00\" text-anchor=\"middle\" x=\"62.5\" y=\"-160.8\">dropout_1: Dropout</text>\n",
       "</g>\n",
       "<!-- 140396325543104&#45;&gt;140396325543440 -->\n",
       "<g class=\"edge\" id=\"edge2\"><title>140396325543104-&gt;140396325543440</title>\n",
       "<path d=\"M62.5,-109.687C62.5,-117.711 62.5,-127.453 62.5,-136.431\" fill=\"none\" stroke=\"black\"/>\n",
       "<polygon fill=\"black\" points=\"59.0001,-136.471 62.5,-146.471 66.0001,-136.471 59.0001,-136.471\" stroke=\"black\"/>\n",
       "</g>\n",
       "<!-- 140396325543720 -->\n",
       "<g class=\"node\" id=\"node4\"><title>140396325543720</title>\n",
       "<polygon fill=\"none\" points=\"12,-219.5 12,-255.5 113,-255.5 113,-219.5 12,-219.5\" stroke=\"black\"/>\n",
       "<text font-family=\"Times,serif\" font-size=\"14.00\" text-anchor=\"middle\" x=\"62.5\" y=\"-233.8\">hidden2: Dense</text>\n",
       "</g>\n",
       "<!-- 140396325543440&#45;&gt;140396325543720 -->\n",
       "<g class=\"edge\" id=\"edge3\"><title>140396325543440-&gt;140396325543720</title>\n",
       "<path d=\"M62.5,-182.687C62.5,-190.711 62.5,-200.453 62.5,-209.431\" fill=\"none\" stroke=\"black\"/>\n",
       "<polygon fill=\"black\" points=\"59.0001,-209.471 62.5,-219.471 66.0001,-209.471 59.0001,-209.471\" stroke=\"black\"/>\n",
       "</g>\n",
       "<!-- 140396302609712 -->\n",
       "<g class=\"node\" id=\"node5\"><title>140396302609712</title>\n",
       "<polygon fill=\"none\" points=\"-7.10543e-15,-292.5 -7.10543e-15,-328.5 125,-328.5 125,-292.5 -7.10543e-15,-292.5\" stroke=\"black\"/>\n",
       "<text font-family=\"Times,serif\" font-size=\"14.00\" text-anchor=\"middle\" x=\"62.5\" y=\"-306.8\">dropout_2: Dropout</text>\n",
       "</g>\n",
       "<!-- 140396325543720&#45;&gt;140396302609712 -->\n",
       "<g class=\"edge\" id=\"edge4\"><title>140396325543720-&gt;140396302609712</title>\n",
       "<path d=\"M62.5,-255.687C62.5,-263.711 62.5,-273.453 62.5,-282.431\" fill=\"none\" stroke=\"black\"/>\n",
       "<polygon fill=\"black\" points=\"59.0001,-282.471 62.5,-292.471 66.0001,-282.471 59.0001,-282.471\" stroke=\"black\"/>\n",
       "</g>\n",
       "<!-- 140396302609824 -->\n",
       "<g class=\"node\" id=\"node6\"><title>140396302609824</title>\n",
       "<polygon fill=\"none\" points=\"16.5,-365.5 16.5,-401.5 108.5,-401.5 108.5,-365.5 16.5,-365.5\" stroke=\"black\"/>\n",
       "<text font-family=\"Times,serif\" font-size=\"14.00\" text-anchor=\"middle\" x=\"62.5\" y=\"-379.8\">output: Dense</text>\n",
       "</g>\n",
       "<!-- 140396302609712&#45;&gt;140396302609824 -->\n",
       "<g class=\"edge\" id=\"edge5\"><title>140396302609712-&gt;140396302609824</title>\n",
       "<path d=\"M62.5,-328.687C62.5,-336.711 62.5,-346.453 62.5,-355.431\" fill=\"none\" stroke=\"black\"/>\n",
       "<polygon fill=\"black\" points=\"59.0001,-355.471 62.5,-365.471 66.0001,-355.471 59.0001,-355.471\" stroke=\"black\"/>\n",
       "</g>\n",
       "</g>\n",
       "</svg>"
      ],
      "text/plain": [
       "<IPython.core.display.SVG object>"
      ]
     },
     "execution_count": 5,
     "metadata": {},
     "output_type": "execute_result"
    }
   ],
   "source": [
    "SVG(model_to_dot(net.model, rankdir=\"BT\").create_svg())"
   ]
  },
  {
   "cell_type": "code",
   "execution_count": 9,
   "metadata": {},
   "outputs": [
    {
     "name": "stdout",
     "output_type": "stream",
     "text": [
      "Loading mnist dataset...\n",
      "70000 train inputs, 0 test inputs\n",
      "Set 70000 inputs and targets\n",
      "Input data shape: (28, 28), range: (0, 255), type: uint8\n",
      "No targets\n",
      "Inputs rescaled to float32 values in the range 0 - 1\n",
      "Input data shape: (784,), range: (0.0, 1.0), type: float32\n",
      "Split dataset into:\n",
      "   100 train inputs\n",
      "   69900 test inputs\n",
      "Generated 70000 target vectors from labels\n",
      "100 train inputs, 69900 test inputs\n",
      "Set 70000 inputs and targets\n",
      "Input data shape: (784,), range: (0.0, 1.0), type: float32\n",
      "Target data shape: (10,), range: (0, 0), type: uint8\n"
     ]
    }
   ],
   "source": [
    "net.load_keras_dataset('mnist')\n",
    "net.rescale_inputs((0,255), (0,1), 'float32')\n",
    "#net.shuffle_dataset()\n",
    "net.reshape_inputs(784)\n",
    "net.split_dataset(100)\n",
    "net.set_targets_to_categories(10)\n",
    "net.summary_dataset()"
   ]
  },
  {
   "cell_type": "code",
   "execution_count": 10,
   "metadata": {},
   "outputs": [
    {
     "data": {
      "application/javascript": [
       "\n",
       "require(['base/js/namespace'], function(Jupyter) {\n",
       "    Jupyter.notebook.kernel.comm_manager.register_target('conx_svg_control', function(comm, msg) {\n",
       "        comm.on_msg(function(msg) {\n",
       "            var data = msg[\"content\"][\"data\"];\n",
       "            var images = document.getElementsByClassName(data[\"class\"]);\n",
       "            for (var i = 0; i < images.length; i++) {\n",
       "                images[i].setAttributeNS(null, \"href\", data[\"href\"]);\n",
       "            }\n",
       "        });\n",
       "    });\n",
       "});\n"
      ],
      "text/plain": [
       "<IPython.core.display.Javascript object>"
      ]
     },
     "metadata": {},
     "output_type": "display_data"
    }
   ],
   "source": [
    "widget = net.make_widget()"
   ]
  },
  {
   "cell_type": "code",
   "execution_count": 11,
   "metadata": {},
   "outputs": [
    {
     "data": {
      "application/vnd.jupyter.widget-view+json": {
       "model_id": "eee39e51124f4b2fbb50a5b48ed35d9d"
      }
     },
     "metadata": {},
     "output_type": "display_data"
    }
   ],
   "source": [
    "widget"
   ]
  },
  {
   "cell_type": "code",
   "execution_count": 11,
   "metadata": {},
   "outputs": [
    {
     "name": "stdout",
     "output_type": "stream",
     "text": [
      "Warning: report_rate is ignored when in epoch mode\n",
      "Training...\n",
      "Epoch 1/100\n",
      "100/100 [==============================] - 0s - loss: 0.0915 - acc: 0.1300\n",
      "Epoch 2/100\n",
      "100/100 [==============================] - 0s - loss: 0.0911 - acc: 0.1600\n",
      "Epoch 3/100\n",
      "100/100 [==============================] - 0s - loss: 0.0916 - acc: 0.1200\n",
      "Epoch 4/100\n",
      "100/100 [==============================] - 0s - loss: 0.0904 - acc: 0.1400\n",
      "Epoch 5/100\n",
      "100/100 [==============================] - 0s - loss: 0.0908 - acc: 0.1700\n",
      "Epoch 6/100\n",
      "100/100 [==============================] - 0s - loss: 0.0909 - acc: 0.1400\n",
      "Epoch 7/100\n",
      "100/100 [==============================] - 0s - loss: 0.0907 - acc: 0.1200\n",
      "Epoch 8/100\n",
      "100/100 [==============================] - 0s - loss: 0.0908 - acc: 0.1100\n",
      "Epoch 9/100\n",
      "100/100 [==============================] - 0s - loss: 0.0904 - acc: 0.1300\n",
      "Epoch 10/100\n",
      "100/100 [==============================] - 0s - loss: 0.0911 - acc: 0.1600\n",
      "Epoch 11/100\n",
      "100/100 [==============================] - 0s - loss: 0.0915 - acc: 0.1500\n",
      "Epoch 12/100\n",
      "100/100 [==============================] - 0s - loss: 0.0908 - acc: 0.1500\n",
      "Epoch 13/100\n",
      "100/100 [==============================] - 0s - loss: 0.0909 - acc: 0.1400\n",
      "Epoch 14/100\n",
      "100/100 [==============================] - 0s - loss: 0.0908 - acc: 0.1600\n",
      "Epoch 15/100\n",
      "100/100 [==============================] - 0s - loss: 0.0904 - acc: 0.1800\n",
      "Epoch 16/100\n",
      "100/100 [==============================] - 0s - loss: 0.0910 - acc: 0.1500\n",
      "Epoch 17/100\n",
      "100/100 [==============================] - 0s - loss: 0.0907 - acc: 0.2100\n",
      "Epoch 18/100\n",
      "100/100 [==============================] - 0s - loss: 0.0909 - acc: 0.1500\n",
      "Epoch 19/100\n",
      "100/100 [==============================] - 0s - loss: 0.0907 - acc: 0.1400\n",
      "Epoch 20/100\n",
      "100/100 [==============================] - 0s - loss: 0.0908 - acc: 0.1600\n",
      "Epoch 21/100\n",
      "100/100 [==============================] - 0s - loss: 0.0905 - acc: 0.1200\n",
      "Epoch 22/100\n",
      "100/100 [==============================] - 0s - loss: 0.0907 - acc: 0.1400\n",
      "Epoch 23/100\n",
      "100/100 [==============================] - 0s - loss: 0.0911 - acc: 0.1100\n",
      "Epoch 24/100\n",
      "100/100 [==============================] - 0s - loss: 0.0903 - acc: 0.1700\n",
      "Epoch 25/100\n",
      "100/100 [==============================] - 0s - loss: 0.0903 - acc: 0.1600\n",
      "Epoch 26/100\n",
      "100/100 [==============================] - 0s - loss: 0.0910 - acc: 0.1400\n",
      "Epoch 27/100\n",
      "100/100 [==============================] - 0s - loss: 0.0907 - acc: 0.1700\n",
      "Epoch 28/100\n",
      "100/100 [==============================] - 0s - loss: 0.0901 - acc: 0.1500\n",
      "Epoch 29/100\n",
      "100/100 [==============================] - 0s - loss: 0.0911 - acc: 0.0900\n",
      "Epoch 30/100\n",
      "100/100 [==============================] - 0s - loss: 0.0912 - acc: 0.1100\n",
      "Epoch 31/100\n",
      "100/100 [==============================] - 0s - loss: 0.0903 - acc: 0.1900\n",
      "Epoch 32/100\n",
      "100/100 [==============================] - 0s - loss: 0.0903 - acc: 0.1200\n",
      "Epoch 33/100\n",
      "100/100 [==============================] - 0s - loss: 0.0906 - acc: 0.1800\n",
      "Epoch 34/100\n",
      "100/100 [==============================] - 0s - loss: 0.0908 - acc: 0.1500\n",
      "Epoch 35/100\n",
      "100/100 [==============================] - 0s - loss: 0.0908 - acc: 0.1300\n",
      "Epoch 36/100\n",
      "100/100 [==============================] - 0s - loss: 0.0906 - acc: 0.1400\n",
      "Epoch 37/100\n",
      "100/100 [==============================] - 0s - loss: 0.0903 - acc: 0.1800\n",
      "Epoch 38/100\n",
      "100/100 [==============================] - 0s - loss: 0.0902 - acc: 0.1700\n",
      "Epoch 39/100\n",
      "100/100 [==============================] - 0s - loss: 0.0909 - acc: 0.1500\n",
      "Epoch 40/100\n",
      "100/100 [==============================] - 0s - loss: 0.0905 - acc: 0.1300\n",
      "Epoch 41/100\n",
      "100/100 [==============================] - 0s - loss: 0.0911 - acc: 0.1700\n",
      "Epoch 42/100\n",
      "100/100 [==============================] - 0s - loss: 0.0897 - acc: 0.2400\n",
      "Epoch 43/100\n",
      "100/100 [==============================] - 0s - loss: 0.0908 - acc: 0.1400\n",
      "Epoch 44/100\n",
      "100/100 [==============================] - 0s - loss: 0.0902 - acc: 0.1400\n",
      "Epoch 45/100\n",
      "100/100 [==============================] - 0s - loss: 0.0902 - acc: 0.1200\n",
      "Epoch 46/100\n",
      "100/100 [==============================] - 0s - loss: 0.0906 - acc: 0.1300\n",
      "Epoch 47/100\n",
      "100/100 [==============================] - 0s - loss: 0.0907 - acc: 0.1200\n",
      "Epoch 48/100\n",
      "100/100 [==============================] - 0s - loss: 0.0905 - acc: 0.1600\n",
      "Epoch 49/100\n",
      "100/100 [==============================] - 0s - loss: 0.0912 - acc: 0.1600\n",
      "Epoch 50/100\n",
      "100/100 [==============================] - 0s - loss: 0.0905 - acc: 0.1500\n",
      "Epoch 51/100\n",
      "100/100 [==============================] - 0s - loss: 0.0910 - acc: 0.1200\n",
      "Epoch 52/100\n",
      "100/100 [==============================] - 0s - loss: 0.0901 - acc: 0.1900\n",
      "Epoch 53/100\n",
      "100/100 [==============================] - 0s - loss: 0.0905 - acc: 0.1700\n",
      "Epoch 54/100\n",
      "100/100 [==============================] - 0s - loss: 0.0906 - acc: 0.1300\n",
      "Epoch 55/100\n",
      "100/100 [==============================] - 0s - loss: 0.0908 - acc: 0.1300\n",
      "Epoch 56/100\n",
      "100/100 [==============================] - 0s - loss: 0.0905 - acc: 0.1700\n",
      "Epoch 57/100\n",
      "100/100 [==============================] - 0s - loss: 0.0908 - acc: 0.1300\n",
      "Epoch 58/100\n",
      "100/100 [==============================] - 0s - loss: 0.0900 - acc: 0.1500\n",
      "Epoch 59/100\n",
      "100/100 [==============================] - 0s - loss: 0.0903 - acc: 0.1700\n",
      "Epoch 60/100\n",
      "100/100 [==============================] - 0s - loss: 0.0905 - acc: 0.1200\n",
      "Epoch 61/100\n",
      "100/100 [==============================] - 0s - loss: 0.0905 - acc: 0.1500\n",
      "Epoch 62/100\n",
      "100/100 [==============================] - 0s - loss: 0.0902 - acc: 0.1600\n",
      "Epoch 63/100\n",
      "100/100 [==============================] - 0s - loss: 0.0900 - acc: 0.1700\n",
      "Epoch 64/100\n",
      "100/100 [==============================] - 0s - loss: 0.0904 - acc: 0.2000\n",
      "Epoch 65/100\n",
      "100/100 [==============================] - 0s - loss: 0.0906 - acc: 0.2000\n",
      "Epoch 66/100\n",
      "100/100 [==============================] - 0s - loss: 0.0905 - acc: 0.1600\n",
      "Epoch 67/100\n",
      "100/100 [==============================] - 0s - loss: 0.0903 - acc: 0.1400\n",
      "Epoch 68/100\n",
      "100/100 [==============================] - 0s - loss: 0.0901 - acc: 0.1900\n",
      "Epoch 69/100\n",
      "100/100 [==============================] - 0s - loss: 0.0908 - acc: 0.1400\n",
      "Epoch 70/100\n",
      "100/100 [==============================] - 0s - loss: 0.0903 - acc: 0.2100\n",
      "Epoch 71/100\n",
      "100/100 [==============================] - 0s - loss: 0.0897 - acc: 0.1900\n",
      "Epoch 72/100\n",
      "100/100 [==============================] - 0s - loss: 0.0908 - acc: 0.1600\n",
      "Epoch 73/100\n",
      "100/100 [==============================] - 0s - loss: 0.0896 - acc: 0.2000\n",
      "Epoch 74/100\n",
      "100/100 [==============================] - 0s - loss: 0.0899 - acc: 0.2000\n",
      "Epoch 75/100\n",
      "100/100 [==============================] - 0s - loss: 0.0914 - acc: 0.1800\n",
      "Epoch 76/100\n",
      "100/100 [==============================] - 0s - loss: 0.0899 - acc: 0.1900\n",
      "Epoch 77/100\n",
      "100/100 [==============================] - 0s - loss: 0.0902 - acc: 0.1700\n",
      "Epoch 78/100\n",
      "100/100 [==============================] - 0s - loss: 0.0901 - acc: 0.1900\n",
      "Epoch 79/100\n",
      "100/100 [==============================] - 0s - loss: 0.0905 - acc: 0.1700\n",
      "Epoch 80/100\n",
      "100/100 [==============================] - 0s - loss: 0.0903 - acc: 0.1700\n",
      "Epoch 81/100\n",
      "100/100 [==============================] - 0s - loss: 0.0899 - acc: 0.1900\n",
      "Epoch 82/100\n",
      "100/100 [==============================] - 0s - loss: 0.0905 - acc: 0.1400\n",
      "Epoch 83/100\n",
      "100/100 [==============================] - 0s - loss: 0.0902 - acc: 0.1500\n",
      "Epoch 84/100\n",
      "100/100 [==============================] - 0s - loss: 0.0902 - acc: 0.1500\n",
      "Epoch 85/100\n",
      "100/100 [==============================] - 0s - loss: 0.0904 - acc: 0.1900\n",
      "Epoch 86/100\n",
      "100/100 [==============================] - 0s - loss: 0.0905 - acc: 0.1600\n",
      "Epoch 87/100\n",
      "100/100 [==============================] - 0s - loss: 0.0906 - acc: 0.1500\n",
      "Epoch 88/100\n",
      "100/100 [==============================] - 0s - loss: 0.0908 - acc: 0.1100\n",
      "Epoch 89/100\n",
      "100/100 [==============================] - 0s - loss: 0.0901 - acc: 0.1800\n",
      "Epoch 90/100\n",
      "100/100 [==============================] - 0s - loss: 0.0903 - acc: 0.2100\n",
      "Epoch 91/100\n",
      "100/100 [==============================] - 0s - loss: 0.0903 - acc: 0.1300\n",
      "Epoch 92/100\n",
      "100/100 [==============================] - 0s - loss: 0.0904 - acc: 0.1400\n",
      "Epoch 93/100\n",
      "100/100 [==============================] - 0s - loss: 0.0902 - acc: 0.1700\n",
      "Epoch 94/100\n",
      "100/100 [==============================] - 0s - loss: 0.0900 - acc: 0.1600\n",
      "Epoch 95/100\n",
      "100/100 [==============================] - 0s - loss: 0.0900 - acc: 0.2000\n",
      "Epoch 96/100\n",
      "100/100 [==============================] - 0s - loss: 0.0905 - acc: 0.1900\n",
      "Epoch 97/100\n",
      "100/100 [==============================] - 0s - loss: 0.0905 - acc: 0.1200\n",
      "Epoch 98/100\n",
      "100/100 [==============================] - 0s - loss: 0.0900 - acc: 0.1700\n",
      "Epoch 99/100\n",
      "100/100 [==============================] - 0s - loss: 0.0901 - acc: 0.1500\n",
      "Epoch 100/100\n",
      "100/100 [==============================] - 0s - loss: 0.0903 - acc: 0.1500\n",
      "========================================================================\n",
      "Epoch #  110 | train loss 0.09147 | train acc 0.13000 | validate% 0.00000\n"
     ]
    }
   ],
   "source": [
    "net.train(100, report_rate=5)\n",
    "#net.test()"
   ]
  },
  {
   "cell_type": "code",
   "execution_count": 12,
   "metadata": {},
   "outputs": [
    {
     "name": "stderr",
     "output_type": "stream",
     "text": [
      "IOPub data rate exceeded.\n",
      "The notebook server will temporarily stop sending output\n",
      "to the client in order to avoid crashing it.\n",
      "To change this limit, set the config variable\n",
      "`--NotebookApp.iopub_data_rate_limit`.\n",
      "IOPub data rate exceeded.\n",
      "The notebook server will temporarily stop sending output\n",
      "to the client in order to avoid crashing it.\n",
      "To change this limit, set the config variable\n",
      "`--NotebookApp.iopub_data_rate_limit`.\n",
      "IOPub data rate exceeded.\n",
      "The notebook server will temporarily stop sending output\n",
      "to the client in order to avoid crashing it.\n",
      "To change this limit, set the config variable\n",
      "`--NotebookApp.iopub_data_rate_limit`.\n"
     ]
    }
   ],
   "source": [
    "import time\n",
    "for i in range(10):\n",
    "    net.propagate(net.get_input(i))\n",
    "    time.sleep(1)"
   ]
  },
  {
   "cell_type": "code",
   "execution_count": null,
   "metadata": {
    "collapsed": true
   },
   "outputs": [],
   "source": []
  }
 ],
 "metadata": {
  "kernelspec": {
   "display_name": "Python 3",
   "language": "python",
   "name": "python3"
  },
  "language_info": {
   "codemirror_mode": {
    "name": "ipython",
    "version": 3
   },
   "file_extension": ".py",
   "mimetype": "text/x-python",
   "name": "python",
   "nbconvert_exporter": "python",
   "pygments_lexer": "ipython3",
   "version": "3.5.3"
  }
 },
 "nbformat": 4,
 "nbformat_minor": 2
}
