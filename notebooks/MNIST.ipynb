{
 "cells": [
  {
   "cell_type": "code",
   "execution_count": 1,
   "metadata": {},
   "outputs": [],
   "source": [
    "import sys\n",
    "sys.path.append(\"..\")"
   ]
  },
  {
   "cell_type": "code",
   "execution_count": 2,
   "metadata": {},
   "outputs": [
    {
     "name": "stderr",
     "output_type": "stream",
     "text": [
      "Using Theano backend.\n"
     ]
    }
   ],
   "source": [
    "from conx import Network, Layer"
   ]
  },
  {
   "cell_type": "code",
   "execution_count": 3,
   "metadata": {
    "collapsed": true
   },
   "outputs": [],
   "source": [
    "net = Network(\"MNIST\")\n",
    "net.add(Layer(\"input\", shape=784, vshape=(28, 28), colormap=\"hot\", minmax=(0,1)))\n",
    "net.add(Layer(\"hidden1\", shape=512, vshape=(16,32), activation='relu', dropout=0.2))\n",
    "net.add(Layer(\"hidden2\", shape=512, vshape=(16,32), activation='relu', dropout=0.2))\n",
    "net.add(Layer(\"output\", shape=10, activation='softmax'))\n",
    "\n",
    "net.connect('input', 'hidden1')\n",
    "net.connect('hidden1', 'hidden2')\n",
    "net.connect('hidden2', 'output')"
   ]
  },
  {
   "cell_type": "code",
   "execution_count": 4,
   "metadata": {},
   "outputs": [
    {
     "data": {
      "text/plain": [
       "<Network name='MNIST'>"
      ]
     },
     "execution_count": 4,
     "metadata": {},
     "output_type": "execute_result"
    }
   ],
   "source": [
    "net"
   ]
  },
  {
   "cell_type": "code",
   "execution_count": 5,
   "metadata": {},
   "outputs": [],
   "source": [
    "net.compile(loss='mean_squared_error',\n",
    "            optimizer='sgd')"
   ]
  },
  {
   "cell_type": "code",
   "execution_count": 6,
   "metadata": {
    "collapsed": true
   },
   "outputs": [],
   "source": [
    "from keras.utils.vis_utils import model_to_dot\n",
    "from IPython.display import SVG"
   ]
  },
  {
   "cell_type": "code",
   "execution_count": 7,
   "metadata": {},
   "outputs": [
    {
     "data": {
      "image/svg+xml": [
       "<svg height=\"410pt\" viewBox=\"0.00 0.00 133.00 410.00\" width=\"133pt\" xmlns=\"http://www.w3.org/2000/svg\" xmlns:xlink=\"http://www.w3.org/1999/xlink\">\n",
       "<g class=\"graph\" id=\"graph0\" transform=\"scale(1 1) rotate(0) translate(4 406)\">\n",
       "<title>G</title>\n",
       "<polygon fill=\"white\" points=\"-4,4 -4,-406 129,-406 129,4 -4,4\" stroke=\"none\"/>\n",
       "<!-- 140292195391920 -->\n",
       "<g class=\"node\" id=\"node1\"><title>140292195391920</title>\n",
       "<polygon fill=\"none\" points=\"6.5,-0.5 6.5,-36.5 118.5,-36.5 118.5,-0.5 6.5,-0.5\" stroke=\"black\"/>\n",
       "<text font-family=\"Times,serif\" font-size=\"14.00\" text-anchor=\"middle\" x=\"62.5\" y=\"-14.8\">input: InputLayer</text>\n",
       "</g>\n",
       "<!-- 140292874981784 -->\n",
       "<g class=\"node\" id=\"node2\"><title>140292874981784</title>\n",
       "<polygon fill=\"none\" points=\"12,-73.5 12,-109.5 113,-109.5 113,-73.5 12,-73.5\" stroke=\"black\"/>\n",
       "<text font-family=\"Times,serif\" font-size=\"14.00\" text-anchor=\"middle\" x=\"62.5\" y=\"-87.8\">hidden1: Dense</text>\n",
       "</g>\n",
       "<!-- 140292195391920&#45;&gt;140292874981784 -->\n",
       "<g class=\"edge\" id=\"edge1\"><title>140292195391920-&gt;140292874981784</title>\n",
       "<path d=\"M62.5,-36.6871C62.5,-44.7105 62.5,-54.4525 62.5,-63.4309\" fill=\"none\" stroke=\"black\"/>\n",
       "<polygon fill=\"black\" points=\"59.0001,-63.4711 62.5,-73.4712 66.0001,-63.4712 59.0001,-63.4711\" stroke=\"black\"/>\n",
       "</g>\n",
       "<!-- 140292874982904 -->\n",
       "<g class=\"node\" id=\"node3\"><title>140292874982904</title>\n",
       "<polygon fill=\"none\" points=\"-7.10543e-15,-146.5 -7.10543e-15,-182.5 125,-182.5 125,-146.5 -7.10543e-15,-146.5\" stroke=\"black\"/>\n",
       "<text font-family=\"Times,serif\" font-size=\"14.00\" text-anchor=\"middle\" x=\"62.5\" y=\"-160.8\">dropout_1: Dropout</text>\n",
       "</g>\n",
       "<!-- 140292874981784&#45;&gt;140292874982904 -->\n",
       "<g class=\"edge\" id=\"edge2\"><title>140292874981784-&gt;140292874982904</title>\n",
       "<path d=\"M62.5,-109.687C62.5,-117.711 62.5,-127.453 62.5,-136.431\" fill=\"none\" stroke=\"black\"/>\n",
       "<polygon fill=\"black\" points=\"59.0001,-136.471 62.5,-146.471 66.0001,-136.471 59.0001,-136.471\" stroke=\"black\"/>\n",
       "</g>\n",
       "<!-- 140292195463520 -->\n",
       "<g class=\"node\" id=\"node4\"><title>140292195463520</title>\n",
       "<polygon fill=\"none\" points=\"12,-219.5 12,-255.5 113,-255.5 113,-219.5 12,-219.5\" stroke=\"black\"/>\n",
       "<text font-family=\"Times,serif\" font-size=\"14.00\" text-anchor=\"middle\" x=\"62.5\" y=\"-233.8\">hidden2: Dense</text>\n",
       "</g>\n",
       "<!-- 140292874982904&#45;&gt;140292195463520 -->\n",
       "<g class=\"edge\" id=\"edge3\"><title>140292874982904-&gt;140292195463520</title>\n",
       "<path d=\"M62.5,-182.687C62.5,-190.711 62.5,-200.453 62.5,-209.431\" fill=\"none\" stroke=\"black\"/>\n",
       "<polygon fill=\"black\" points=\"59.0001,-209.471 62.5,-219.471 66.0001,-209.471 59.0001,-209.471\" stroke=\"black\"/>\n",
       "</g>\n",
       "<!-- 140292179302440 -->\n",
       "<g class=\"node\" id=\"node5\"><title>140292179302440</title>\n",
       "<polygon fill=\"none\" points=\"-7.10543e-15,-292.5 -7.10543e-15,-328.5 125,-328.5 125,-292.5 -7.10543e-15,-292.5\" stroke=\"black\"/>\n",
       "<text font-family=\"Times,serif\" font-size=\"14.00\" text-anchor=\"middle\" x=\"62.5\" y=\"-306.8\">dropout_2: Dropout</text>\n",
       "</g>\n",
       "<!-- 140292195463520&#45;&gt;140292179302440 -->\n",
       "<g class=\"edge\" id=\"edge4\"><title>140292195463520-&gt;140292179302440</title>\n",
       "<path d=\"M62.5,-255.687C62.5,-263.711 62.5,-273.453 62.5,-282.431\" fill=\"none\" stroke=\"black\"/>\n",
       "<polygon fill=\"black\" points=\"59.0001,-282.471 62.5,-292.471 66.0001,-282.471 59.0001,-282.471\" stroke=\"black\"/>\n",
       "</g>\n",
       "<!-- 140292179302552 -->\n",
       "<g class=\"node\" id=\"node6\"><title>140292179302552</title>\n",
       "<polygon fill=\"none\" points=\"16.5,-365.5 16.5,-401.5 108.5,-401.5 108.5,-365.5 16.5,-365.5\" stroke=\"black\"/>\n",
       "<text font-family=\"Times,serif\" font-size=\"14.00\" text-anchor=\"middle\" x=\"62.5\" y=\"-379.8\">output: Dense</text>\n",
       "</g>\n",
       "<!-- 140292179302440&#45;&gt;140292179302552 -->\n",
       "<g class=\"edge\" id=\"edge5\"><title>140292179302440-&gt;140292179302552</title>\n",
       "<path d=\"M62.5,-328.687C62.5,-336.711 62.5,-346.453 62.5,-355.431\" fill=\"none\" stroke=\"black\"/>\n",
       "<polygon fill=\"black\" points=\"59.0001,-355.471 62.5,-365.471 66.0001,-355.471 59.0001,-355.471\" stroke=\"black\"/>\n",
       "</g>\n",
       "</g>\n",
       "</svg>"
      ],
      "text/plain": [
       "<IPython.core.display.SVG object>"
      ]
     },
     "execution_count": 7,
     "metadata": {},
     "output_type": "execute_result"
    }
   ],
   "source": [
    "SVG(model_to_dot(net.model).create_svg())"
   ]
  },
  {
   "cell_type": "code",
   "execution_count": 8,
   "metadata": {},
   "outputs": [
    {
     "name": "stdout",
     "output_type": "stream",
     "text": [
      "Loading mnist dataset...\n",
      "70000 train inputs, 0 test inputs\n",
      "Set 70000 inputs and targets\n",
      "Input data shape: (28, 28), range: (0, 255), type: uint8\n",
      "No targets\n",
      "Inputs rescaled to float32 values in the range 0 - 1\n",
      "Shuffled all 70000 inputs\n",
      "Input data shape: (784,), range: (0.0, 1.0), type: float32\n",
      "Split dataset into:\n",
      "   100 train inputs\n",
      "   69900 test inputs\n",
      "Generated 70000 target vectors from labels\n",
      "100 train inputs, 69900 test inputs\n",
      "Set 70000 inputs and targets\n",
      "Input data shape: (784,), range: (0.0, 1.0), type: float32\n",
      "Target data shape: (10,), range: (0, 0), type: uint8\n"
     ]
    }
   ],
   "source": [
    "net.load_keras_dataset('mnist')\n",
    "net.rescale_inputs((0,255), (0,1), 'float32')\n",
    "net.shuffle_dataset()\n",
    "net.reshape_inputs(784)\n",
    "net.split_dataset(100)\n",
    "net.set_targets_to_categories(10)\n",
    "net.summary_dataset()"
   ]
  },
  {
   "cell_type": "code",
   "execution_count": 9,
   "metadata": {},
   "outputs": [
    {
     "data": {
      "application/javascript": [
       "\n",
       "require(['base/js/namespace'], function(Jupyter) {\n",
       "    Jupyter.notebook.kernel.comm_manager.register_target('conx_svg_control', function(comm, msg) {\n",
       "        comm.on_msg(function(msg) {\n",
       "            var data = msg[\"content\"][\"data\"];\n",
       "            var image = document.getElementById(data[\"id\"]);\n",
       "            if (image) {\n",
       "                image.setAttributeNS(null, \"href\", data[\"href\"]);\n",
       "            }\n",
       "        });\n",
       "    });\n",
       "});\n"
      ],
      "text/plain": [
       "<IPython.core.display.Javascript object>"
      ]
     },
     "metadata": {},
     "output_type": "display_data"
    },
    {
     "data": {
      "image/svg+xml": [
       "\n",
       "        <svg id='MNIST' xmlns='http://www.w3.org/2000/svg' width=\"275\" height=\"645\">\n",
       "    <defs>\n",
       "        <marker id=\"arrow\" markerWidth=\"10\" markerHeight=\"10\" refX=\"9\" refY=\"3\" orient=\"auto\" markerUnits=\"strokeWidth\">\n",
       "          <path d=\"M0,0 L0,6 L9,3 z\" fill=\"blue\" />\n",
       "        </marker>\n",
       "    </defs>\n",
       "<image id=\"MNIST_output\" x=\"37.5\" y=\"25\" height=\"20\" width=\"200\" xlink:href=\"data:image/gif;base64,R0lGODdhyAAUAIIAABYWFhgYGBkZGRoaGhwcHAAAAAAAAAAAACwAAAAAyAAUAEAI/wAHCBxIsGBBAAgTKly4kIDDhxAjRgRAsaLFixcDaNzIsWNHASBDihw5koDJkyhTphTAsqXLly8JyJxJs2ZNADhz6ty5c4DPn0CDBgVAtKjRo0cJKF3KtGlTAFCjSp06NYDVq1izZhXAtavXr18JiB1LtmxZAWjTql27loDbt3DjxgVAt67du3cH6N3Lt29fAIADCx48mIDhw4gTJwbAuLHjx48DSJ5MuXJlAZgza968mYDnz6BDhxZAurTp06cJqF7NunVrALBjy549e4Dt27hz5wbAu7fv378JCB9OvHhxAMiTK1++PIDz59CjRxdAvbr169cJaN/OvXt3AeDDi/8fP56A+fPo06cHwL69+/fvB8ifT79+fQD48+vfv5+Af4AEBA4kWFAgAIQJFS5cGMDhQ4gRIwqgWNHixYsENG7k2LGjAJAhRY4cScDkSZQpUwJg2dLly5cDZM6kWbMmAJw5de7cScDnT6BBgwIgWtTo0aMBlC5l2rSpAKhRpU6dSsDqVaxZswrg2tXr168ExI4lW7YsALRp1a5dO8DtW7hx4wKgW9fu3bsE9O7l27cvAMCBBQ8eHMDwYcSJEwtg3Njx48cEJE+mXLmyAMyZNW/eTMDzZ9ChQwMgXdr06dMDVK9m3bo1ANixZc+eTcD2bdy5cwPg3dv3798BhA8nXrz/uADkyZUvX07A+XPo0aMLoF7d+vXrBLRv5969OwDw4cWPHz/A/Hn06dMDYN/e/fv3BOTPp1+/PgD8+fXv3x/AP8AAAgcSLChQAMKEChcuJODwIcSIEQVQrGjx4kUCGjdy7NgRAMiQIkeOHGDyJMqUKQGwbOny5UsCMmfSrFkTAM6cOnfuDODzJ9CgQQUQLWr06FECSpcybdpUANSoUqdOJWD1KtasWQFw7er169cBYseSLVsWANq0ateuJeD2Ldy4cQHQrWv37t0Aevfy7dtXAODAggcPJmD4MOLEiQUwbuz48WMCkidTrlwZAObMmjdvHuD5M+jQoQGQLm369GkC/6pXs27dGgDs2LJnzw5g+zbu3LkF8O7t+/dvAsKHEy9eXADy5MqXLyfg/Dn06NEBUK9u/fr1Adq3c+/eHQD48OLHjydg/jz69OkBsG/v/v37APLn069fXwD+/Pr37yfgHyABgQMJFhQoAGFChQsXEnD4EGLEiAAoVrR48eIAjRs5duwIAGRIkSNHEjB5EmXKlABYtnT58mUAmTNp1qwpAGdOnTt3EvD5E2jQoAKIFjV69CgBpUuZNm0KAGpUqVOnDrB6FWvWrAC4dvX69SsBsWPJli0LAG1atWvXBnD7Fm7cuALo1rV79y4BvXv59u0rAHBgwYMHEzB8GHHixAAYN/92/PjxAMmTKVeuDABzZs2bNxPw/Bl06NAASJc2ffp0ANWrWbduLQB2bNmzZxOwfRt37twCePf2/fs3AeHDiRcvDgB5cuXLlw9w/hx69OgAqFe3fv06Ae3buXfvDgB8ePHjxwcwfx59+vQC2Ld3//49Afnz6devLwB/fv379xPwD5CAwIEECwoEgDChwoULBzh8CDFiRAAUK1q8eJGAxo0cO3YEADKkyJEjA5g8iTJlSgEsW7p8+ZKAzJk0a9YUgDOnzp07Cfj8CTRoUABEixo9enSA0qVMmzYFADWq1KlTCVi9ijVrVgBcu3r9+jWA2LFky5YVgDat2rVrCbh9CzdbblwBdOvavXuXgN69fPv2BQA4sODBgwcYPow4cWIAjBs7fvyYgOTJlCtXBoA5s+bNmwN4/gw6dGgBpEubPn2agOrVrFu3FgA7tuzZswnYvo07d24AvHv7/v07IAA7\" /><text x=\"242.5\" y=\"37.0\" font-family=\"Verdana\" font-size=\"10\">output</text><line x1=\"137.5\" y1=\"95\" x2=\"137.5\" y2=\"45\" stroke=\"blue\" stroke-width=\"1\" marker-end=\"url(#arrow)\" /><image id=\"MNIST_hidden2\" x=\"37.5\" y=\"95\" height=\"100\" width=\"200\" xlink:href=\"data:image/gif;base64,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\" /><text x=\"242.5\" y=\"147.0\" font-family=\"Verdana\" font-size=\"10\">hidden2</text><line x1=\"137.5\" y1=\"245\" x2=\"137.5\" y2=\"195\" stroke=\"blue\" stroke-width=\"1\" marker-end=\"url(#arrow)\" /><image id=\"MNIST_hidden1\" x=\"37.5\" y=\"245\" height=\"100\" width=\"200\" xlink:href=\"data:image/gif;base64,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\" /><text x=\"242.5\" y=\"297.0\" font-family=\"Verdana\" font-size=\"10\">hidden1</text><line x1=\"137.5\" y1=\"395\" x2=\"137.5\" y2=\"345\" stroke=\"blue\" stroke-width=\"1\" marker-end=\"url(#arrow)\" /><image id=\"MNIST_input\" x=\"37.5\" y=\"395\" height=\"200\" width=\"200\" xlink:href=\"data:image/gif;base64,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\" /><text x=\"242.5\" y=\"497.0\" font-family=\"Verdana\" font-size=\"10\">input</text></svg>"
      ],
      "text/plain": [
       "<Network name='MNIST'>"
      ]
     },
     "execution_count": 9,
     "metadata": {},
     "output_type": "execute_result"
    }
   ],
   "source": [
    "net"
   ]
  },
  {
   "cell_type": "code",
   "execution_count": null,
   "metadata": {
    "collapsed": true
   },
   "outputs": [],
   "source": [
    "net.train(10)\n",
    "#net.test()"
   ]
  },
  {
   "cell_type": "code",
   "execution_count": 8,
   "metadata": {},
   "outputs": [],
   "source": [
    "import time\n",
    "for i in range(10):\n",
    "    net.propagate(net._get_input(i))\n",
    "    time.sleep(1)"
   ]
  },
  {
   "cell_type": "code",
   "execution_count": 11,
   "metadata": {
    "collapsed": true
   },
   "outputs": [],
   "source": [
    "import numpy as np"
   ]
  },
  {
   "cell_type": "code",
   "execution_count": 20,
   "metadata": {},
   "outputs": [
    {
     "data": {
      "text/plain": [
       "[0.094483279,\n",
       " 0.092372946,\n",
       " 0.18054099,\n",
       " 0.078582168,\n",
       " 0.067566559,\n",
       " 0.097670279,\n",
       " 0.099990115,\n",
       " 0.10438964,\n",
       " 0.10446087,\n",
       " 0.07994315]"
      ]
     },
     "execution_count": 20,
     "metadata": {},
     "output_type": "execute_result"
    }
   ],
   "source": [
    "net.propagate(np.ones(net.layers[0].shape) * 0.5)"
   ]
  },
  {
   "cell_type": "code",
   "execution_count": null,
   "metadata": {
    "collapsed": true
   },
   "outputs": [],
   "source": []
  }
 ],
 "metadata": {
  "kernelspec": {
   "display_name": "Python 3",
   "language": "python",
   "name": "python3"
  },
  "language_info": {
   "codemirror_mode": {
    "name": "ipython",
    "version": 3
   },
   "file_extension": ".py",
   "mimetype": "text/x-python",
   "name": "python",
   "nbconvert_exporter": "python",
   "pygments_lexer": "ipython3",
   "version": "3.5.3"
  }
 },
 "nbformat": 4,
 "nbformat_minor": 2
}
