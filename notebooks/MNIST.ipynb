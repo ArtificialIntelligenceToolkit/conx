{
 "cells": [
  {
   "cell_type": "code",
   "execution_count": 1,
   "metadata": {
    "collapsed": true
   },
   "outputs": [],
   "source": [
    "import sys\n",
    "sys.path.append(\"..\")"
   ]
  },
  {
   "cell_type": "code",
   "execution_count": 2,
   "metadata": {},
   "outputs": [
    {
     "name": "stderr",
     "output_type": "stream",
     "text": [
      "Using Theano backend.\n"
     ]
    }
   ],
   "source": [
    "from conx import Network, Layer"
   ]
  },
  {
   "cell_type": "code",
   "execution_count": 3,
   "metadata": {
    "collapsed": true
   },
   "outputs": [],
   "source": [
    "net = Network(\"MNIST\")\n",
    "net.add(Layer(\"input\", shape=784, vshape=(28, 28), colormap=\"hot\", minmax=(0,1)))\n",
    "net.add(Layer(\"hidden1\", shape=512, vshape=(16,32), activation='relu', dropout=0.2))\n",
    "net.add(Layer(\"hidden2\", shape=512, vshape=(16,32), activation='relu', dropout=0.2))\n",
    "net.add(Layer(\"output\", shape=10, activation='softmax'))\n",
    "\n",
    "net.connect('input', 'hidden1')\n",
    "net.connect('hidden1', 'hidden2')\n",
    "net.connect('hidden2', 'output')"
   ]
  },
  {
   "cell_type": "code",
   "execution_count": 4,
   "metadata": {},
   "outputs": [
    {
     "data": {
      "text/plain": [
       "<Network name='MNIST'>"
      ]
     },
     "execution_count": 4,
     "metadata": {},
     "output_type": "execute_result"
    }
   ],
   "source": [
    "net"
   ]
  },
  {
   "cell_type": "code",
   "execution_count": 5,
   "metadata": {
    "collapsed": true
   },
   "outputs": [],
   "source": [
    "net.compile(loss='mean_squared_error',\n",
    "            optimizer='sgd')"
   ]
  },
  {
   "cell_type": "code",
   "execution_count": 6,
   "metadata": {
    "collapsed": true
   },
   "outputs": [],
   "source": [
    "from keras.utils.vis_utils import model_to_dot\n",
    "from IPython.display import SVG"
   ]
  },
  {
   "cell_type": "code",
   "execution_count": 7,
   "metadata": {},
   "outputs": [
    {
     "data": {
      "image/svg+xml": [
       "<svg height=\"410pt\" viewBox=\"0.00 0.00 133.00 410.00\" width=\"133pt\" xmlns=\"http://www.w3.org/2000/svg\" xmlns:xlink=\"http://www.w3.org/1999/xlink\">\n",
       "<g class=\"graph\" id=\"graph0\" transform=\"scale(1 1) rotate(0) translate(4 406)\">\n",
       "<title>G</title>\n",
       "<polygon fill=\"white\" points=\"-4,4 -4,-406 129,-406 129,4 -4,4\" stroke=\"none\"/>\n",
       "<!-- 140716627301488 -->\n",
       "<g class=\"node\" id=\"node1\"><title>140716627301488</title>\n",
       "<polygon fill=\"none\" points=\"6.5,-0.5 6.5,-36.5 118.5,-36.5 118.5,-0.5 6.5,-0.5\" stroke=\"black\"/>\n",
       "<text font-family=\"Times,serif\" font-size=\"14.00\" text-anchor=\"middle\" x=\"62.5\" y=\"-14.8\">input: InputLayer</text>\n",
       "</g>\n",
       "<!-- 140716627304400 -->\n",
       "<g class=\"node\" id=\"node2\"><title>140716627304400</title>\n",
       "<polygon fill=\"none\" points=\"12,-73.5 12,-109.5 113,-109.5 113,-73.5 12,-73.5\" stroke=\"black\"/>\n",
       "<text font-family=\"Times,serif\" font-size=\"14.00\" text-anchor=\"middle\" x=\"62.5\" y=\"-87.8\">hidden1: Dense</text>\n",
       "</g>\n",
       "<!-- 140716627301488&#45;&gt;140716627304400 -->\n",
       "<g class=\"edge\" id=\"edge1\"><title>140716627301488-&gt;140716627304400</title>\n",
       "<path d=\"M62.5,-36.6871C62.5,-44.7105 62.5,-54.4525 62.5,-63.4309\" fill=\"none\" stroke=\"black\"/>\n",
       "<polygon fill=\"black\" points=\"59.0001,-63.4711 62.5,-73.4712 66.0001,-63.4712 59.0001,-63.4711\" stroke=\"black\"/>\n",
       "</g>\n",
       "<!-- 140717508113688 -->\n",
       "<g class=\"node\" id=\"node3\"><title>140717508113688</title>\n",
       "<polygon fill=\"none\" points=\"-7.10543e-15,-146.5 -7.10543e-15,-182.5 125,-182.5 125,-146.5 -7.10543e-15,-146.5\" stroke=\"black\"/>\n",
       "<text font-family=\"Times,serif\" font-size=\"14.00\" text-anchor=\"middle\" x=\"62.5\" y=\"-160.8\">dropout_1: Dropout</text>\n",
       "</g>\n",
       "<!-- 140716627304400&#45;&gt;140717508113688 -->\n",
       "<g class=\"edge\" id=\"edge2\"><title>140716627304400-&gt;140717508113688</title>\n",
       "<path d=\"M62.5,-109.687C62.5,-117.711 62.5,-127.453 62.5,-136.431\" fill=\"none\" stroke=\"black\"/>\n",
       "<polygon fill=\"black\" points=\"59.0001,-136.471 62.5,-146.471 66.0001,-136.471 59.0001,-136.471\" stroke=\"black\"/>\n",
       "</g>\n",
       "<!-- 140717508114192 -->\n",
       "<g class=\"node\" id=\"node4\"><title>140717508114192</title>\n",
       "<polygon fill=\"none\" points=\"12,-219.5 12,-255.5 113,-255.5 113,-219.5 12,-219.5\" stroke=\"black\"/>\n",
       "<text font-family=\"Times,serif\" font-size=\"14.00\" text-anchor=\"middle\" x=\"62.5\" y=\"-233.8\">hidden2: Dense</text>\n",
       "</g>\n",
       "<!-- 140717508113688&#45;&gt;140717508114192 -->\n",
       "<g class=\"edge\" id=\"edge3\"><title>140717508113688-&gt;140717508114192</title>\n",
       "<path d=\"M62.5,-182.687C62.5,-190.711 62.5,-200.453 62.5,-209.431\" fill=\"none\" stroke=\"black\"/>\n",
       "<polygon fill=\"black\" points=\"59.0001,-209.471 62.5,-219.471 66.0001,-209.471 59.0001,-209.471\" stroke=\"black\"/>\n",
       "</g>\n",
       "<!-- 140716606469344 -->\n",
       "<g class=\"node\" id=\"node5\"><title>140716606469344</title>\n",
       "<polygon fill=\"none\" points=\"-7.10543e-15,-292.5 -7.10543e-15,-328.5 125,-328.5 125,-292.5 -7.10543e-15,-292.5\" stroke=\"black\"/>\n",
       "<text font-family=\"Times,serif\" font-size=\"14.00\" text-anchor=\"middle\" x=\"62.5\" y=\"-306.8\">dropout_2: Dropout</text>\n",
       "</g>\n",
       "<!-- 140717508114192&#45;&gt;140716606469344 -->\n",
       "<g class=\"edge\" id=\"edge4\"><title>140717508114192-&gt;140716606469344</title>\n",
       "<path d=\"M62.5,-255.687C62.5,-263.711 62.5,-273.453 62.5,-282.431\" fill=\"none\" stroke=\"black\"/>\n",
       "<polygon fill=\"black\" points=\"59.0001,-282.471 62.5,-292.471 66.0001,-282.471 59.0001,-282.471\" stroke=\"black\"/>\n",
       "</g>\n",
       "<!-- 140716606469456 -->\n",
       "<g class=\"node\" id=\"node6\"><title>140716606469456</title>\n",
       "<polygon fill=\"none\" points=\"16.5,-365.5 16.5,-401.5 108.5,-401.5 108.5,-365.5 16.5,-365.5\" stroke=\"black\"/>\n",
       "<text font-family=\"Times,serif\" font-size=\"14.00\" text-anchor=\"middle\" x=\"62.5\" y=\"-379.8\">output: Dense</text>\n",
       "</g>\n",
       "<!-- 140716606469344&#45;&gt;140716606469456 -->\n",
       "<g class=\"edge\" id=\"edge5\"><title>140716606469344-&gt;140716606469456</title>\n",
       "<path d=\"M62.5,-328.687C62.5,-336.711 62.5,-346.453 62.5,-355.431\" fill=\"none\" stroke=\"black\"/>\n",
       "<polygon fill=\"black\" points=\"59.0001,-355.471 62.5,-365.471 66.0001,-355.471 59.0001,-355.471\" stroke=\"black\"/>\n",
       "</g>\n",
       "</g>\n",
       "</svg>"
      ],
      "text/plain": [
       "<IPython.core.display.SVG object>"
      ]
     },
     "execution_count": 7,
     "metadata": {},
     "output_type": "execute_result"
    }
   ],
   "source": [
    "SVG(model_to_dot(net.model).create_svg())"
   ]
  },
  {
   "cell_type": "code",
   "execution_count": 8,
   "metadata": {},
   "outputs": [
    {
     "name": "stdout",
     "output_type": "stream",
     "text": [
      "Loading mnist dataset...\n",
      "70000 train inputs, 0 test inputs\n",
      "Set 70000 inputs and targets\n",
      "Input data shape: (28, 28), range: (0, 255), type: uint8\n",
      "No targets\n",
      "Inputs rescaled to float32 values in the range 0 - 1\n",
      "Shuffled all 70000 inputs\n",
      "Input data shape: (784,), range: (0.0, 1.0), type: float32\n",
      "Split dataset into:\n",
      "   100 train inputs\n",
      "   69900 test inputs\n",
      "Generated 70000 target vectors from labels\n",
      "100 train inputs, 69900 test inputs\n",
      "Set 70000 inputs and targets\n",
      "Input data shape: (784,), range: (0.0, 1.0), type: float32\n",
      "Target data shape: (10,), range: (0, 0), type: uint8\n"
     ]
    }
   ],
   "source": [
    "net.load_keras_dataset('mnist')\n",
    "net.rescale_inputs((0,255), (0,1), 'float32')\n",
    "net.shuffle_dataset()\n",
    "net.reshape_inputs(784)\n",
    "net.split_dataset(100)\n",
    "net.set_targets_to_categories(10)\n",
    "net.summary_dataset()"
   ]
  },
  {
   "cell_type": "code",
   "execution_count": 9,
   "metadata": {},
   "outputs": [
    {
     "data": {
      "application/javascript": [
       "\n",
       "require(['base/js/namespace'], function(Jupyter) {\n",
       "    Jupyter.notebook.kernel.comm_manager.register_target('conx_svg_control', function(comm, msg) {\n",
       "        comm.on_msg(function(msg) {\n",
       "            var data = msg[\"content\"][\"data\"];\n",
       "            var image = document.getElementById(data[\"id\"]);\n",
       "            if (image) {\n",
       "                image.setAttributeNS(null, \"href\", data[\"href\"]);\n",
       "            }\n",
       "        });\n",
       "    });\n",
       "});\n"
      ],
      "text/plain": [
       "<IPython.core.display.Javascript object>"
      ]
     },
     "metadata": {},
     "output_type": "display_data"
    },
    {
     "data": {
      "image/svg+xml": [
       "\n",
       "        <svg id='MNIST' xmlns='http://www.w3.org/2000/svg' width=\"275\" height=\"645\">\n",
       "    <defs>\n",
       "        <marker id=\"arrow\" markerWidth=\"10\" markerHeight=\"10\" refX=\"9\" refY=\"3\" orient=\"auto\" markerUnits=\"strokeWidth\">\n",
       "          <path d=\"M0,0 L0,6 L9,3 z\" fill=\"blue\" />\n",
       "        </marker>\n",
       "    </defs>\n",
       "<image id=\"MNIST_output\" x=\"37.5\" y=\"25\" height=\"20\" width=\"200\" href=\"data:image/gif;base64,R0lGODdhyAAUAIMAAA8PDxERERISEhcXFxgYGBkZGRoaGiEhITc3NwAAAAAAAAAAAAAAAAAAAAAAAAAAACwAAAAAyAAUAEAI/wARCBxIsGBBAAgTKly4UIDDhxAjRgxAsaLFixcPaNzIsWNHAyBDihw5coDJkyhTpgTAsqXLly8LyJxJs2ZNAjhz6ty5E4HPn0CDBgVAtKjRo0cFKF3KtGnTAFCjSp069YDVq1izZjXAtavXr18HiB1LtmxZAGjTql27toDbt3DjxiVAt67du3cR6N3Lt29fAIADCx48WIDhw4gTJw7AuLHjx48PSJ5MuXJlA5gza968eYDnz6BDhwZAurTp06cLqF7NunVrArBjy549G4Ht27hz5wbAu7fv378FCB9OvHjxAMiTK1++/IDz59CjRzdAvbr169cHaN/OvXt3AODDi/8fP76A+fPo06cnwL69+/fvEcifT79+fQD48+vfv1+Af4ACBA4kWFBgAIQJFS5ceMDhQ4gRIxqgWNHixYsDNG7k2LEjAJAhRY4cWcDkSZQpUxJg2dLly5cIZM6kWbMmAJw5de7cKcDnT6BBgwYgWtTo0aMHlC5l2rSpAahRpU6dOsDqVaxZswLg2tXr168FxI4lW7YsAbRp1a5di8DtW7hx4wKgW9fu3bsC9O7l27dvAMCBBQ8efMDwYcSJExtg3Njx48cDJE+mXLkyAMyZNW/eXMDzZ9ChQxMgXdr06dMIVK9m3bo1ANixZc+eLcD2bdy5cwfg3dv3798HhA8nXrz/uAHkyZUvXz7A+XPo0aMDoF7d+vXrBbRv5969OwHw4cWPH4/A/Hn06dMDYN/e/fv3AuTPp1+/fgD8+fXv33/AP8ADAgcSLCjQAMKEChcuHODwIcSIEQFQrGjx4sUCGjdy7NiRAMiQIkeORGDyJMqUKQGwbOny5UsBMmfSrFkzAM6cOnfuPODzJ9CgQQ0QLWr06NEBSpcybdoUANSoUqdOLWD1KtasWQlw7er161cEYseSLVsWANq0ateuFeD2Ldy4cQPQrWv37t0Devfy7dvXAODAggcPHmD4MOLEiQEwbuz48eMCkidTrlyZAObMmjdvRuD5M+jQoQGQLm369GkB/6pXs27dOgDs2LJnzz5g+zbu3LkN8O7t+/fvAcKHEy9eHADy5MqXLy/g/Dn06NEJUK9u/fp1BNq3c+/eHQD48OLHjxdg/jz69OkDsG/v/v37A/Ln069f3wD+/Pr37x/gH+AAgQMJFhQIAGFChQsXFnD4EGLEiAQoVrR48SICjRs5duwIAGRIkSNHCjB5EmXKlAFYtnT58uUBmTNp1qxpAGdOnTt3DvD5E2jQoACIFjV69GgBpUuZNm1KAGpUqVOnIrB6FWvWrAC4dvX69asAsWPJli0bAG1atWvXHnD7Fm7cuAbo1rV79+4AvXv59u0LAHBgwYMHFzB8GHHixAQYN/92/PgxAsmTKVeuDABzZs2bNwvw/Bl06NABSJc2ffr0AdWrWbdubQB2bNmzZw+wfRt37twAePf2/ft3AeHDiRcvTgB5cuXLlyNw/hx69OgAqFe3fv26AO3buXfvHgB8ePHjxx8wfx59+vQG2Ld3//79APnz6devDwB/fv379xfwD7CAwIEECwokgDChwoULETh8CDFiRAAUK1q8eFGAxo0cO3YMADKkyJEjD5g8iTJlSgMsW7p8+XKAzJk0a9YEgDOnzp07C/j8CTRoUAJEixo9ehSB0qVMmzYFADWq1KlTBVi9ijVr1gBcu3r9+vWA2LFky5Y1gDat2rVrB7h9CzdbblwAdOvavXu3gN69fPv2JQA4sODBgxEYPow4cWIAjBs7fvxYgOTJlCtXDoA5s+bNmw94/gw6dGgDpEubPn16gOrVrFu3BgA7tuzZswvYvo07d24CvHv7/v07IAA7\" /><text x=\"242.5\" y=\"37.0\" font-family=\"Verdana\" font-size=\"10\">output</text><line x1=\"137.5\" y1=\"95\" x2=\"137.5\" y2=\"45\" stroke=\"blue\" stroke-width=\"1\" marker-end=\"url(#arrow)\" /><image id=\"MNIST_hidden2\" x=\"37.5\" y=\"95\" height=\"100\" width=\"200\" href=\"data:image/gif;base64,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\" /><text x=\"242.5\" y=\"147.0\" font-family=\"Verdana\" font-size=\"10\">hidden2</text><line x1=\"137.5\" y1=\"245\" x2=\"137.5\" y2=\"195\" stroke=\"blue\" stroke-width=\"1\" marker-end=\"url(#arrow)\" /><image id=\"MNIST_hidden1\" x=\"37.5\" y=\"245\" height=\"100\" width=\"200\" href=\"data:image/gif;base64,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\" /><text x=\"242.5\" y=\"297.0\" font-family=\"Verdana\" font-size=\"10\">hidden1</text><line x1=\"137.5\" y1=\"395\" x2=\"137.5\" y2=\"345\" stroke=\"blue\" stroke-width=\"1\" marker-end=\"url(#arrow)\" /><image id=\"MNIST_input\" x=\"37.5\" y=\"395\" height=\"200\" width=\"200\" href=\"data:image/gif;base64,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\" /><text x=\"242.5\" y=\"497.0\" font-family=\"Verdana\" font-size=\"10\">input</text></svg>"
      ],
      "text/plain": [
       "<Network name='MNIST'>"
      ]
     },
     "execution_count": 9,
     "metadata": {},
     "output_type": "execute_result"
    }
   ],
   "source": [
    "net"
   ]
  },
  {
   "cell_type": "code",
   "execution_count": 10,
   "metadata": {},
   "outputs": [
    {
     "name": "stdout",
     "output_type": "stream",
     "text": [
      "Training...\n",
      "Epoch 1/10\n",
      "100/100 [==============================] - 0s - loss: 0.0912 - acc: 0.0600\n",
      "Epoch 2/10\n",
      "100/100 [==============================] - 0s - loss: 0.0905 - acc: 0.1000\n",
      "Epoch 3/10\n",
      "100/100 [==============================] - 0s - loss: 0.0910 - acc: 0.1000\n",
      "Epoch 4/10\n",
      "100/100 [==============================] - 0s - loss: 0.0908 - acc: 0.1300\n",
      "Epoch 5/10\n",
      "100/100 [==============================] - 0s - loss: 0.0909 - acc: 0.1000\n",
      "Epoch 6/10\n",
      "100/100 [==============================] - 0s - loss: 0.0914 - acc: 0.0900\n",
      "Epoch 7/10\n",
      "100/100 [==============================] - 0s - loss: 0.0911 - acc: 0.0800\n",
      "Epoch 8/10\n",
      "100/100 [==============================] - 0s - loss: 0.0908 - acc: 0.0900\n",
      "Epoch 9/10\n",
      "100/100 [==============================] - 0s - loss: 0.0910 - acc: 0.1200\n",
      "Epoch 10/10\n",
      "100/100 [==============================] - 0s - loss: 0.0906 - acc: 0.0900\n",
      "========================================================================\n",
      "Epoch #   10 | train loss 0.09119 | train acc 0.06000 | validate% 0.00000\n"
     ]
    }
   ],
   "source": [
    "net.train(10)\n",
    "#net.test()"
   ]
  },
  {
   "cell_type": "code",
   "execution_count": 11,
   "metadata": {
    "collapsed": true
   },
   "outputs": [],
   "source": [
    "import time\n",
    "for i in range(10):\n",
    "    net.propagate(net._get_input(i))\n",
    "    time.sleep(1)"
   ]
  }
 ],
 "metadata": {
  "kernelspec": {
   "display_name": "Python 3",
   "language": "python",
   "name": "python3"
  },
  "language_info": {
   "codemirror_mode": {
    "name": "ipython",
    "version": 3
   },
   "file_extension": ".py",
   "mimetype": "text/x-python",
   "name": "python",
   "nbconvert_exporter": "python",
   "pygments_lexer": "ipython3",
   "version": "3.5.3"
  }
 },
 "nbformat": 4,
 "nbformat_minor": 2
}
