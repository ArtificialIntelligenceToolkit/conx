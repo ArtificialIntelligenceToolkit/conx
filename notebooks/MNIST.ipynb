{
 "cells": [
  {
   "cell_type": "code",
   "execution_count": 1,
   "metadata": {},
   "outputs": [
    {
     "name": "stderr",
     "output_type": "stream",
     "text": [
      "Using Theano backend.\n"
     ]
    }
   ],
   "source": [
    "from conx import Network, Layer"
   ]
  },
  {
   "cell_type": "code",
   "execution_count": 2,
   "metadata": {
    "collapsed": true
   },
   "outputs": [],
   "source": [
    "net = Network(\"MNIST\")\n",
    "net.add(Layer(\"input\", shape=784, vshape=(28, 28), colormap=\"hot\", minmax=(0,1)))\n",
    "net.add(Layer(\"hidden1\", shape=512, vshape=(16,32), activation='relu', dropout=0.2))\n",
    "net.add(Layer(\"hidden2\", shape=512, vshape=(16,32), activation='relu', dropout=0.2))\n",
    "net.add(Layer(\"output\", shape=10, activation='softmax'))\n",
    "\n",
    "net.connect('input', 'hidden1')\n",
    "net.connect('hidden1', 'hidden2')\n",
    "net.connect('hidden2', 'output')"
   ]
  },
  {
   "cell_type": "code",
   "execution_count": 3,
   "metadata": {},
   "outputs": [
    {
     "data": {
      "text/plain": [
       "<Network name='MNIST'>"
      ]
     },
     "execution_count": 3,
     "metadata": {},
     "output_type": "execute_result"
    }
   ],
   "source": [
    "net"
   ]
  },
  {
   "cell_type": "code",
   "execution_count": 4,
   "metadata": {
    "collapsed": true
   },
   "outputs": [],
   "source": [
    "net.compile(loss='mean_squared_error',\n",
    "            optimizer='sgd')"
   ]
  },
  {
   "cell_type": "code",
   "execution_count": 5,
   "metadata": {
    "collapsed": true
   },
   "outputs": [],
   "source": [
    "from keras.utils.vis_utils import model_to_dot\n",
    "from IPython.display import SVG"
   ]
  },
  {
   "cell_type": "code",
   "execution_count": 6,
   "metadata": {},
   "outputs": [
    {
     "data": {
      "image/svg+xml": [
       "<svg height=\"410pt\" viewBox=\"0.00 0.00 133.00 410.00\" width=\"133pt\" xmlns=\"http://www.w3.org/2000/svg\" xmlns:xlink=\"http://www.w3.org/1999/xlink\">\n",
       "<g class=\"graph\" id=\"graph0\" transform=\"scale(1 1) rotate(0) translate(4 406)\">\n",
       "<title>G</title>\n",
       "<polygon fill=\"white\" points=\"-4,4 -4,-406 129,-406 129,4 -4,4\" stroke=\"none\"/>\n",
       "<!-- 140289865977080 -->\n",
       "<g class=\"node\" id=\"node1\"><title>140289865977080</title>\n",
       "<polygon fill=\"none\" points=\"6.5,-365.5 6.5,-401.5 118.5,-401.5 118.5,-365.5 6.5,-365.5\" stroke=\"black\"/>\n",
       "<text font-family=\"Times,serif\" font-size=\"14.00\" text-anchor=\"middle\" x=\"62.5\" y=\"-379.8\">input: InputLayer</text>\n",
       "</g>\n",
       "<!-- 140289866024216 -->\n",
       "<g class=\"node\" id=\"node2\"><title>140289866024216</title>\n",
       "<polygon fill=\"none\" points=\"12,-292.5 12,-328.5 113,-328.5 113,-292.5 12,-292.5\" stroke=\"black\"/>\n",
       "<text font-family=\"Times,serif\" font-size=\"14.00\" text-anchor=\"middle\" x=\"62.5\" y=\"-306.8\">hidden1: Dense</text>\n",
       "</g>\n",
       "<!-- 140289865977080&#45;&gt;140289866024216 -->\n",
       "<g class=\"edge\" id=\"edge1\"><title>140289865977080-&gt;140289866024216</title>\n",
       "<path d=\"M62.5,-365.313C62.5,-357.289 62.5,-347.547 62.5,-338.569\" fill=\"none\" stroke=\"black\"/>\n",
       "<polygon fill=\"black\" points=\"66.0001,-338.529 62.5,-328.529 59.0001,-338.529 66.0001,-338.529\" stroke=\"black\"/>\n",
       "</g>\n",
       "<!-- 140289866024552 -->\n",
       "<g class=\"node\" id=\"node3\"><title>140289866024552</title>\n",
       "<polygon fill=\"none\" points=\"-7.10543e-15,-219.5 -7.10543e-15,-255.5 125,-255.5 125,-219.5 -7.10543e-15,-219.5\" stroke=\"black\"/>\n",
       "<text font-family=\"Times,serif\" font-size=\"14.00\" text-anchor=\"middle\" x=\"62.5\" y=\"-233.8\">dropout_1: Dropout</text>\n",
       "</g>\n",
       "<!-- 140289866024216&#45;&gt;140289866024552 -->\n",
       "<g class=\"edge\" id=\"edge2\"><title>140289866024216-&gt;140289866024552</title>\n",
       "<path d=\"M62.5,-292.313C62.5,-284.289 62.5,-274.547 62.5,-265.569\" fill=\"none\" stroke=\"black\"/>\n",
       "<polygon fill=\"black\" points=\"66.0001,-265.529 62.5,-255.529 59.0001,-265.529 66.0001,-265.529\" stroke=\"black\"/>\n",
       "</g>\n",
       "<!-- 140289866024720 -->\n",
       "<g class=\"node\" id=\"node4\"><title>140289866024720</title>\n",
       "<polygon fill=\"none\" points=\"12,-146.5 12,-182.5 113,-182.5 113,-146.5 12,-146.5\" stroke=\"black\"/>\n",
       "<text font-family=\"Times,serif\" font-size=\"14.00\" text-anchor=\"middle\" x=\"62.5\" y=\"-160.8\">hidden2: Dense</text>\n",
       "</g>\n",
       "<!-- 140289866024552&#45;&gt;140289866024720 -->\n",
       "<g class=\"edge\" id=\"edge3\"><title>140289866024552-&gt;140289866024720</title>\n",
       "<path d=\"M62.5,-219.313C62.5,-211.289 62.5,-201.547 62.5,-192.569\" fill=\"none\" stroke=\"black\"/>\n",
       "<polygon fill=\"black\" points=\"66.0001,-192.529 62.5,-182.529 59.0001,-192.529 66.0001,-192.529\" stroke=\"black\"/>\n",
       "</g>\n",
       "<!-- 140289841530640 -->\n",
       "<g class=\"node\" id=\"node5\"><title>140289841530640</title>\n",
       "<polygon fill=\"none\" points=\"-7.10543e-15,-73.5 -7.10543e-15,-109.5 125,-109.5 125,-73.5 -7.10543e-15,-73.5\" stroke=\"black\"/>\n",
       "<text font-family=\"Times,serif\" font-size=\"14.00\" text-anchor=\"middle\" x=\"62.5\" y=\"-87.8\">dropout_2: Dropout</text>\n",
       "</g>\n",
       "<!-- 140289866024720&#45;&gt;140289841530640 -->\n",
       "<g class=\"edge\" id=\"edge4\"><title>140289866024720-&gt;140289841530640</title>\n",
       "<path d=\"M62.5,-146.313C62.5,-138.289 62.5,-128.547 62.5,-119.569\" fill=\"none\" stroke=\"black\"/>\n",
       "<polygon fill=\"black\" points=\"66.0001,-119.529 62.5,-109.529 59.0001,-119.529 66.0001,-119.529\" stroke=\"black\"/>\n",
       "</g>\n",
       "<!-- 140289852364336 -->\n",
       "<g class=\"node\" id=\"node6\"><title>140289852364336</title>\n",
       "<polygon fill=\"none\" points=\"16.5,-0.5 16.5,-36.5 108.5,-36.5 108.5,-0.5 16.5,-0.5\" stroke=\"black\"/>\n",
       "<text font-family=\"Times,serif\" font-size=\"14.00\" text-anchor=\"middle\" x=\"62.5\" y=\"-14.8\">output: Dense</text>\n",
       "</g>\n",
       "<!-- 140289841530640&#45;&gt;140289852364336 -->\n",
       "<g class=\"edge\" id=\"edge5\"><title>140289841530640-&gt;140289852364336</title>\n",
       "<path d=\"M62.5,-73.3129C62.5,-65.2895 62.5,-55.5475 62.5,-46.5691\" fill=\"none\" stroke=\"black\"/>\n",
       "<polygon fill=\"black\" points=\"66.0001,-46.5288 62.5,-36.5288 59.0001,-46.5289 66.0001,-46.5288\" stroke=\"black\"/>\n",
       "</g>\n",
       "</g>\n",
       "</svg>"
      ],
      "text/plain": [
       "<IPython.core.display.SVG object>"
      ]
     },
     "execution_count": 6,
     "metadata": {},
     "output_type": "execute_result"
    }
   ],
   "source": [
    "SVG(model_to_dot(net.model).create_svg())"
   ]
  },
  {
   "cell_type": "code",
   "execution_count": 7,
   "metadata": {},
   "outputs": [
    {
     "name": "stdout",
     "output_type": "stream",
     "text": [
      "Loading mnist dataset...\n",
      "70000 train inputs, 0 test inputs\n",
      "Set 70000 inputs and targets\n",
      "Input data shape: (28, 28), range: (0, 255), type: uint8\n",
      "No targets\n",
      "Inputs rescaled to float32 values in the range 0 - 1\n",
      "Shuffled all 70000 inputs\n",
      "Input data shape: (784,), range: (0.0, 1.0), type: float32\n",
      "Split dataset into:\n",
      "   100 train inputs\n",
      "   69900 test inputs\n",
      "Generated 70000 target vectors from labels\n",
      "100 train inputs, 69900 test inputs\n",
      "Set 70000 inputs and targets\n",
      "Input data shape: (784,), range: (0.0, 1.0), type: float32\n",
      "Target data shape: (10,), range: (0, 0), type: uint8\n"
     ]
    }
   ],
   "source": [
    "net.load_keras_dataset('mnist')\n",
    "net.rescale_inputs((0,255), (0,1), 'float32')\n",
    "net.shuffle_dataset()\n",
    "net.reshape_inputs(784)\n",
    "net.split_dataset(100)\n",
    "net.set_targets_to_categories(10)\n",
    "net.summary_dataset()"
   ]
  },
  {
   "cell_type": "code",
   "execution_count": 8,
   "metadata": {},
   "outputs": [
    {
     "data": {
      "application/javascript": [
       "\n",
       "require(['base/js/namespace'], function(Jupyter) {\n",
       "    Jupyter.notebook.kernel.comm_manager.register_target('conx_svg_control', function(comm, msg) {\n",
       "        comm.on_msg(function(msg) {\n",
       "            var data = msg[\"content\"][\"data\"];\n",
       "            var image = document.getElementById(data[\"id\"]);\n",
       "            if (image) {\n",
       "                image.setAttributeNS(null, \"href\", data[\"href\"]);\n",
       "            }\n",
       "        });\n",
       "    });\n",
       "});\n"
      ],
      "text/plain": [
       "<IPython.core.display.Javascript object>"
      ]
     },
     "metadata": {},
     "output_type": "display_data"
    },
    {
     "data": {
      "image/svg+xml": [
       "\n",
       "        <svg id='MNIST' xmlns='http://www.w3.org/2000/svg' width=\"300\" height=\"645\">\n",
       "    <defs>\n",
       "        <marker id=\"arrow\" markerWidth=\"10\" markerHeight=\"10\" refX=\"9\" refY=\"3\" orient=\"auto\" markerUnits=\"strokeWidth\">\n",
       "          <path d=\"M0,0 L0,6 L9,3 z\" fill=\"blue\" />\n",
       "        </marker>\n",
       "    </defs>\n",
       "<rect x=\"49.0\" y=\"24\" width=\"202\" height=\"22\" style=\"fill:none;stroke:blue;stroke-width:2\"/><image id=\"MNIST_output\" x=\"50.0\" y=\"25\" height=\"20\" width=\"200\" href=\"data:image/gif;base64,R0lGODdhyAAUAIIAABMTExQUFBUVFRYWFhsbGxwcHCIiIicnJywAAAAAyAAUAEAI/wAFCBxIsGDBAAgTKly4kIDDhxAjRixAsaLFixcDaNzIsWNHAyBDihw58oDJkyhTpgTAsqXLly8HyJxJs2bNADhz6ty5U4DPn0CDBg1AtKjRo0cJKF3KtGnTAlCjSp06NYDVq1izZjXAtavXr18PiB1LtmxZAGjTql27doDbt3Djxg1At67du3cF6N3Lt2/fAIADCx48mIDhw4gTJy7AuLHjx48DSJ5MuXJlA5gza968+YDnz6BDhwZAurTp06cHqF7NunXrALBjy549W4Dt27hz5w7Au7fv378JCB9OvHjxAsiTK1++PIDz59CjRzdAvbr169cPaN/OvXt3AODDi/8fP36A+fPo06cPwL69+/fvBcifT79+/QD48+vfv5+Af4AEBA4kWFBgAYQJFS5cGMDhQ4gRIxqgWNHixYsHNG7k2LEjAJAhRY4cOcDkSZQpUwZg2dLly5cCZM6kWbNmAJw5de7cScDnT6BBgxYgWtTo0aMBlC5l2rSpAahRpU6desDqVaxZswLg2tXr168DxI4lW7ZsALRp1a5dK8DtW7hx4wagW9fu3bsE9O7l27dvAcCBBQ8eHMDwYcSJExtg3Njx48cHJE+mXLkyAMyZNW/ePMDzZ9ChQwcgXdr06dMCVK9m3bp1ANixZc+eTcD2bdy5cxfg3dv3798BhA8nXrz/uAHkyZUvX37A+XPo0aMDoF7d+vXrA7Rv5969ewDw4cWPHy/A/Hn06dMHYN/e/fv3BOTPp1+/fgH8+fXv3x/AP8AAAgcSLCjQAMKEChcuPODwIcSIEQFQrGjx4sUBGjdy7NgxAMiQIkeOFGDyJMqUKQOwbOny5UsCMmfSrFmzAM6cOnfuDODzJ9CgQQ0QLWr06NEDSpcybdoUANSoUqdOHWD1KtasWQNw7er161cBYseSLVs2ANq0ateuJeD2Ldy4cQvQrWv37t0Aevfy7dvXAODAggcPPmD4MOLEiQEwbuz48eMBkidTrlw5AObMmjdvFuD5M+jQoQOQLm369GkC/6pXs27dugDs2LJnzw5g+zbu3LkN8O7t+/fvA8KHEy9eHADy5MqXLx/g/Dn06NEDUK9u/fp1Adq3c+/ePQD48OLHjydg/jz69OkLsG/v/v37APLn069f3wD+/Pr37z/gH+ABgQMJFhQIAGFChQsXDnD4EGLEiAEoVrR48aIAjRs5duwYAGRIkSNHEjB5EmXKlAVYtnT58mUAmTNp1qxpAGdOnTt3HvD5E2jQoACIFjV69OgApUuZNm0aAGpUqVOnCrB6FWvWrAG4dvX69SsBsWPJli1bAG1atWvXBnD7Fm7cuAbo1rV79+4BvXv59u0LAHBgwYMHDzB8GHHixAEYN/92/PixAMmTKVeuHABzZs2bNxPw/Bl06NAFSJc2ffp0ANWrWbdubQB2bNmzZx+wfRt37twAePf2/fv3AOHDiRcvHgB5cuXLlwtw/hx69OgBqFe3fv06Ae3buXfvXgB8ePHjxwcwfx59+vQG2Ld3//79Afnz6devDwB/fv379w/wD3CAwIEECwoMgDChwoULBTh8CDFixAAUK1q8eJGAxo0cO3YsADKkyJEjA5g8iTJlSgMsW7p8+fKAzJk0a9YEgDOnzp07B/j8CTRo0ABEixo9elSA0qVMmzYNADWq1KlTCVi9ijVr1gJcu3r9+jWA2LFky5Y1gDat2rVrD7h9CzdbblwAdOvavXt3gN69fPv2DQA4sODBgwUYPow4ceIAjBs7fvyYgOTJlCtXLoA5s+bNmwN4/gw6dGgDpEubPn36gOrVrFu3BgA7tuzZswfYvo07d+4AvHv7/v07IAA7\"><title>Layer: output (output)\n",
       " shape = 10\n",
       " Keras class = Dense\n",
       " activation = softmax</title></image><text x=\"255.0\" y=\"37.0\" font-family=\"Verdana\" font-size=\"12\">output</text><rect x=\"140.0\" y=\"47\" width=\"20.0\" height=\"47\" style=\"fill:white;stroke:none\"><title>Weights from hidden2 to output\n",
       " output/kernel has shape (512, 10)\n",
       " output/bias has shape (10,)</title></rect><line x1=\"150.0\" y1=\"94\" x2=\"150.0\" y2=\"47\" stroke=\"blue\" stroke-width=\"2\" marker-end=\"url(#arrow)\"><title>Weights from hidden2 to output\n",
       " output/kernel has shape (512, 10)\n",
       " output/bias has shape (10,)</title></line><rect x=\"49.0\" y=\"94\" width=\"202\" height=\"102\" style=\"fill:none;stroke:blue;stroke-width:2\"/><image id=\"MNIST_hidden2\" x=\"50.0\" y=\"95\" height=\"100\" width=\"200\" href=\"data:image/gif;base64,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\"><title>Layer: hidden2 (hidden)\n",
       " shape = 512\n",
       " dropout = 0.2\n",
       " Keras class = Dense\n",
       " activation = relu</title></image><text x=\"255.0\" y=\"147.0\" font-family=\"Verdana\" font-size=\"12\">hidden2</text><rect x=\"140.0\" y=\"197\" width=\"20.0\" height=\"47\" style=\"fill:white;stroke:none\"><title>Weights from hidden1 to hidden2\n",
       " hidden2/kernel has shape (512, 512)\n",
       " hidden2/bias has shape (512,)</title></rect><line x1=\"150.0\" y1=\"244\" x2=\"150.0\" y2=\"197\" stroke=\"blue\" stroke-width=\"2\" marker-end=\"url(#arrow)\"><title>Weights from hidden1 to hidden2\n",
       " hidden2/kernel has shape (512, 512)\n",
       " hidden2/bias has shape (512,)</title></line><rect x=\"49.0\" y=\"244\" width=\"202\" height=\"102\" style=\"fill:none;stroke:blue;stroke-width:2\"/><image id=\"MNIST_hidden1\" x=\"50.0\" y=\"245\" height=\"100\" width=\"200\" href=\"data:image/gif;base64,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\"><title>Layer: hidden1 (hidden)\n",
       " shape = 512\n",
       " dropout = 0.2\n",
       " Keras class = Dense\n",
       " activation = relu</title></image><text x=\"255.0\" y=\"297.0\" font-family=\"Verdana\" font-size=\"12\">hidden1</text><rect x=\"140.0\" y=\"347\" width=\"20.0\" height=\"47\" style=\"fill:white;stroke:none\"><title>Weights from input to hidden1\n",
       " hidden1/kernel has shape (784, 512)\n",
       " hidden1/bias has shape (512,)</title></rect><line x1=\"150.0\" y1=\"394\" x2=\"150.0\" y2=\"347\" stroke=\"blue\" stroke-width=\"2\" marker-end=\"url(#arrow)\"><title>Weights from input to hidden1\n",
       " hidden1/kernel has shape (784, 512)\n",
       " hidden1/bias has shape (512,)</title></line><rect x=\"49.0\" y=\"394\" width=\"202\" height=\"202\" style=\"fill:none;stroke:blue;stroke-width:2\"/><image id=\"MNIST_input\" x=\"50.0\" y=\"395\" height=\"200\" width=\"200\" href=\"data:image/gif;base64,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\"><title>Layer: input (input)\n",
       " shape = 784\n",
       " Keras class = Input</title></image><text x=\"255.0\" y=\"497.0\" font-family=\"Verdana\" font-size=\"12\">input</text></svg>"
      ],
      "text/plain": [
       "<Network name='MNIST'>"
      ]
     },
     "execution_count": 8,
     "metadata": {},
     "output_type": "execute_result"
    }
   ],
   "source": [
    "net"
   ]
  },
  {
   "cell_type": "code",
   "execution_count": 9,
   "metadata": {},
   "outputs": [
    {
     "data": {
      "text/plain": [
       "[0.088980317,\n",
       " 0.087475657,\n",
       " 0.09389025,\n",
       " 0.079527773,\n",
       " 0.075524442,\n",
       " 0.17170374,\n",
       " 0.22104427,\n",
       " 0.034570958,\n",
       " 0.095114999,\n",
       " 0.052167583]"
      ]
     },
     "execution_count": 9,
     "metadata": {},
     "output_type": "execute_result"
    }
   ],
   "source": [
    "net.propagate(net.get_input(10))"
   ]
  },
  {
   "cell_type": "code",
   "execution_count": 10,
   "metadata": {},
   "outputs": [
    {
     "name": "stdout",
     "output_type": "stream",
     "text": [
      "Training...\n",
      "Epoch 1/10\n",
      "100/100 [==============================] - 0s - loss: 0.0904 - acc: 0.1600\n",
      "Epoch 2/10\n",
      "100/100 [==============================] - 0s - loss: 0.0902 - acc: 0.1300\n",
      "Epoch 3/10\n",
      "100/100 [==============================] - 0s - loss: 0.0904 - acc: 0.1400\n",
      "Epoch 4/10\n",
      "100/100 [==============================] - 0s - loss: 0.0899 - acc: 0.1500\n",
      "Epoch 5/10\n",
      "100/100 [==============================] - 0s - loss: 0.0906 - acc: 0.1200\n",
      "Epoch 6/10\n",
      "100/100 [==============================] - 0s - loss: 0.0897 - acc: 0.1500\n",
      "Epoch 7/10\n",
      "100/100 [==============================] - 0s - loss: 0.0904 - acc: 0.1300\n",
      "Epoch 8/10\n",
      "100/100 [==============================] - 0s - loss: 0.0908 - acc: 0.1800\n",
      "Epoch 9/10\n",
      "100/100 [==============================] - 0s - loss: 0.0905 - acc: 0.1400\n",
      "Epoch 10/10\n",
      "100/100 [==============================] - 0s - loss: 0.0894 - acc: 0.1700\n",
      "========================================================================\n",
      "Epoch #   10 | train loss 0.09040 | train acc 0.16000 | validate% 0.00000\n"
     ]
    }
   ],
   "source": [
    "net.train(10)\n",
    "#net.test()"
   ]
  },
  {
   "cell_type": "code",
   "execution_count": 11,
   "metadata": {
    "collapsed": true
   },
   "outputs": [],
   "source": [
    "import time\n",
    "for i in range(10):\n",
    "    net.propagate(net.get_input(i))\n",
    "    time.sleep(1)"
   ]
  },
  {
   "cell_type": "code",
   "execution_count": null,
   "metadata": {
    "collapsed": true
   },
   "outputs": [],
   "source": []
  }
 ],
 "metadata": {
  "kernelspec": {
   "display_name": "Python 3",
   "language": "python",
   "name": "python3"
  },
  "language_info": {
   "codemirror_mode": {
    "name": "ipython",
    "version": 3
   },
   "file_extension": ".py",
   "mimetype": "text/x-python",
   "name": "python",
   "nbconvert_exporter": "python",
   "pygments_lexer": "ipython3",
   "version": "3.5.3"
  }
 },
 "nbformat": 4,
 "nbformat_minor": 2
}
