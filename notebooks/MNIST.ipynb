{
 "cells": [
  {
   "cell_type": "markdown",
   "metadata": {},
   "source": [
    "# MNIST"
   ]
  },
  {
   "cell_type": "code",
   "execution_count": 1,
   "metadata": {},
   "outputs": [
    {
     "name": "stderr",
     "output_type": "stream",
     "text": [
      "Using Theano backend.\n"
     ]
    }
   ],
   "source": [
    "from conx import Network, Layer, Conv2DLayer, MaxPool2DLayer, FlattenLayer"
   ]
  },
  {
   "cell_type": "code",
   "execution_count": 2,
   "metadata": {
    "collapsed": true
   },
   "outputs": [],
   "source": [
    "net = Network(\"MNIST\")\n",
    "net.add(Layer(\"input\", shape=784, vshape=(28, 28), colormap=\"hot\", minmax=(0,1)))\n",
    "net.add(Layer(\"hidden1\", shape=512, vshape=(16,32), activation='relu', dropout=0.2))\n",
    "net.add(Layer(\"hidden2\", shape=512, vshape=(16,32), activation='relu', dropout=0.2))\n",
    "net.add(Layer(\"output\", shape=10, activation='softmax'))\n",
    "\n",
    "net.connect('input', 'hidden1')\n",
    "net.connect('hidden1', 'hidden2')\n",
    "net.connect('hidden2', 'output')"
   ]
  },
  {
   "cell_type": "code",
   "execution_count": 3,
   "metadata": {
    "collapsed": true
   },
   "outputs": [],
   "source": [
    "net.compile(loss='mean_squared_error',\n",
    "            optimizer='sgd')"
   ]
  },
  {
   "cell_type": "code",
   "execution_count": 4,
   "metadata": {
    "collapsed": true
   },
   "outputs": [],
   "source": [
    "from keras.utils.vis_utils import model_to_dot\n",
    "from IPython.display import SVG"
   ]
  },
  {
   "cell_type": "code",
   "execution_count": 5,
   "metadata": {},
   "outputs": [
    {
     "data": {
      "image/svg+xml": [
       "<svg height=\"410pt\" viewBox=\"0.00 0.00 133.00 410.00\" width=\"133pt\" xmlns=\"http://www.w3.org/2000/svg\" xmlns:xlink=\"http://www.w3.org/1999/xlink\">\n",
       "<g class=\"graph\" id=\"graph0\" transform=\"scale(1 1) rotate(0) translate(4 406)\">\n",
       "<title>G</title>\n",
       "<polygon fill=\"white\" points=\"-4,4 -4,-406 129,-406 129,4 -4,4\" stroke=\"none\"/>\n",
       "<!-- 140027700354296 -->\n",
       "<g class=\"node\" id=\"node1\"><title>140027700354296</title>\n",
       "<polygon fill=\"none\" points=\"6.5,-0.5 6.5,-36.5 118.5,-36.5 118.5,-0.5 6.5,-0.5\" stroke=\"black\"/>\n",
       "<text font-family=\"Times,serif\" font-size=\"14.00\" text-anchor=\"middle\" x=\"62.5\" y=\"-14.8\">input: InputLayer</text>\n",
       "</g>\n",
       "<!-- 140027700354576 -->\n",
       "<g class=\"node\" id=\"node2\"><title>140027700354576</title>\n",
       "<polygon fill=\"none\" points=\"12,-73.5 12,-109.5 113,-109.5 113,-73.5 12,-73.5\" stroke=\"black\"/>\n",
       "<text font-family=\"Times,serif\" font-size=\"14.00\" text-anchor=\"middle\" x=\"62.5\" y=\"-87.8\">hidden1: Dense</text>\n",
       "</g>\n",
       "<!-- 140027700354296&#45;&gt;140027700354576 -->\n",
       "<g class=\"edge\" id=\"edge1\"><title>140027700354296-&gt;140027700354576</title>\n",
       "<path d=\"M62.5,-36.6871C62.5,-44.7105 62.5,-54.4525 62.5,-63.4309\" fill=\"none\" stroke=\"black\"/>\n",
       "<polygon fill=\"black\" points=\"59.0001,-63.4711 62.5,-73.4712 66.0001,-63.4712 59.0001,-63.4711\" stroke=\"black\"/>\n",
       "</g>\n",
       "<!-- 140027700353792 -->\n",
       "<g class=\"node\" id=\"node3\"><title>140027700353792</title>\n",
       "<polygon fill=\"none\" points=\"-7.10543e-15,-146.5 -7.10543e-15,-182.5 125,-182.5 125,-146.5 -7.10543e-15,-146.5\" stroke=\"black\"/>\n",
       "<text font-family=\"Times,serif\" font-size=\"14.00\" text-anchor=\"middle\" x=\"62.5\" y=\"-160.8\">dropout_1: Dropout</text>\n",
       "</g>\n",
       "<!-- 140027700354576&#45;&gt;140027700353792 -->\n",
       "<g class=\"edge\" id=\"edge2\"><title>140027700354576-&gt;140027700353792</title>\n",
       "<path d=\"M62.5,-109.687C62.5,-117.711 62.5,-127.453 62.5,-136.431\" fill=\"none\" stroke=\"black\"/>\n",
       "<polygon fill=\"black\" points=\"59.0001,-136.471 62.5,-146.471 66.0001,-136.471 59.0001,-136.471\" stroke=\"black\"/>\n",
       "</g>\n",
       "<!-- 140027700354912 -->\n",
       "<g class=\"node\" id=\"node4\"><title>140027700354912</title>\n",
       "<polygon fill=\"none\" points=\"12,-219.5 12,-255.5 113,-255.5 113,-219.5 12,-219.5\" stroke=\"black\"/>\n",
       "<text font-family=\"Times,serif\" font-size=\"14.00\" text-anchor=\"middle\" x=\"62.5\" y=\"-233.8\">hidden2: Dense</text>\n",
       "</g>\n",
       "<!-- 140027700353792&#45;&gt;140027700354912 -->\n",
       "<g class=\"edge\" id=\"edge3\"><title>140027700353792-&gt;140027700354912</title>\n",
       "<path d=\"M62.5,-182.687C62.5,-190.711 62.5,-200.453 62.5,-209.431\" fill=\"none\" stroke=\"black\"/>\n",
       "<polygon fill=\"black\" points=\"59.0001,-209.471 62.5,-219.471 66.0001,-209.471 59.0001,-209.471\" stroke=\"black\"/>\n",
       "</g>\n",
       "<!-- 140027671643304 -->\n",
       "<g class=\"node\" id=\"node5\"><title>140027671643304</title>\n",
       "<polygon fill=\"none\" points=\"-7.10543e-15,-292.5 -7.10543e-15,-328.5 125,-328.5 125,-292.5 -7.10543e-15,-292.5\" stroke=\"black\"/>\n",
       "<text font-family=\"Times,serif\" font-size=\"14.00\" text-anchor=\"middle\" x=\"62.5\" y=\"-306.8\">dropout_2: Dropout</text>\n",
       "</g>\n",
       "<!-- 140027700354912&#45;&gt;140027671643304 -->\n",
       "<g class=\"edge\" id=\"edge4\"><title>140027700354912-&gt;140027671643304</title>\n",
       "<path d=\"M62.5,-255.687C62.5,-263.711 62.5,-273.453 62.5,-282.431\" fill=\"none\" stroke=\"black\"/>\n",
       "<polygon fill=\"black\" points=\"59.0001,-282.471 62.5,-292.471 66.0001,-282.471 59.0001,-282.471\" stroke=\"black\"/>\n",
       "</g>\n",
       "<!-- 140027671643416 -->\n",
       "<g class=\"node\" id=\"node6\"><title>140027671643416</title>\n",
       "<polygon fill=\"none\" points=\"16.5,-365.5 16.5,-401.5 108.5,-401.5 108.5,-365.5 16.5,-365.5\" stroke=\"black\"/>\n",
       "<text font-family=\"Times,serif\" font-size=\"14.00\" text-anchor=\"middle\" x=\"62.5\" y=\"-379.8\">output: Dense</text>\n",
       "</g>\n",
       "<!-- 140027671643304&#45;&gt;140027671643416 -->\n",
       "<g class=\"edge\" id=\"edge5\"><title>140027671643304-&gt;140027671643416</title>\n",
       "<path d=\"M62.5,-328.687C62.5,-336.711 62.5,-346.453 62.5,-355.431\" fill=\"none\" stroke=\"black\"/>\n",
       "<polygon fill=\"black\" points=\"59.0001,-355.471 62.5,-365.471 66.0001,-355.471 59.0001,-355.471\" stroke=\"black\"/>\n",
       "</g>\n",
       "</g>\n",
       "</svg>"
      ],
      "text/plain": [
       "<IPython.core.display.SVG object>"
      ]
     },
     "execution_count": 5,
     "metadata": {},
     "output_type": "execute_result"
    }
   ],
   "source": [
    "SVG(model_to_dot(net.model, rankdir=\"BT\").create_svg())"
   ]
  },
  {
   "cell_type": "code",
   "execution_count": 6,
   "metadata": {},
   "outputs": [
    {
     "name": "stdout",
     "output_type": "stream",
     "text": [
      "Input Summary:\n",
      "   count  : 70000\n",
      "   shape  : (28, 28, 1)\n",
      "   range  : (0.0, 1.0)\n",
      "Target Summary:\n",
      "   count  : 70000\n",
      "   shape  : (10,)\n",
      "   range  : (0.0, 1.0)\n",
      "Slicing dataset 0:100...\n",
      "Input Summary:\n",
      "   count  : 100\n",
      "   shape  : (28, 28, 1)\n",
      "   range  : (0.0, 1.0)\n",
      "Target Summary:\n",
      "   count  : 100\n",
      "   shape  : (10,)\n",
      "   range  : (0.0, 1.0)\n",
      "Input Summary:\n",
      "   count  : 100\n",
      "   shape  : (784,)\n",
      "   range  : (0.0, 1.0)\n",
      "Target Summary:\n",
      "   count  : 100\n",
      "   shape  : (10,)\n",
      "   range  : (0.0, 1.0)\n"
     ]
    }
   ],
   "source": [
    "net.load_mnist_dataset()\n",
    "#net.rescale_inputs((0,255), (0,1), 'float32')\n",
    "#net.shuffle_dataset()\n",
    "net.slice_dataset(0, 100)\n",
    "net.reshape_inputs(784)\n",
    "#net.split_dataset(100)"
   ]
  },
  {
   "cell_type": "code",
   "execution_count": 7,
   "metadata": {},
   "outputs": [
    {
     "data": {
      "application/javascript": [
       "\n",
       "require(['base/js/namespace'], function(Jupyter) {\n",
       "    Jupyter.notebook.kernel.comm_manager.register_target('conx_svg_control', function(comm, msg) {\n",
       "        comm.on_msg(function(msg) {\n",
       "            var data = msg[\"content\"][\"data\"];\n",
       "            var images = document.getElementsByClassName(data[\"class\"]);\n",
       "            for (var i = 0; i < images.length; i++) {\n",
       "                images[i].setAttributeNS(null, \"href\", data[\"href\"]);\n",
       "            }\n",
       "        });\n",
       "    });\n",
       "});\n"
      ],
      "text/plain": [
       "<IPython.core.display.Javascript object>"
      ]
     },
     "metadata": {},
     "output_type": "display_data"
    }
   ],
   "source": [
    "widget = net.dashboard()"
   ]
  },
  {
   "cell_type": "code",
   "execution_count": 8,
   "metadata": {},
   "outputs": [
    {
     "data": {
      "application/vnd.jupyter.widget-view+json": {
       "model_id": "cec31ba18d60448b9a0d4b45ba9afafe"
      }
     },
     "metadata": {},
     "output_type": "display_data"
    }
   ],
   "source": [
    "widget"
   ]
  },
  {
   "cell_type": "code",
   "execution_count": 9,
   "metadata": {},
   "outputs": [
    {
     "data": {
      "text/plain": [
       "(100, 0.090783156454563141, 0.079999998211860657, 0.0)"
      ]
     },
     "execution_count": 9,
     "metadata": {},
     "output_type": "execute_result"
    }
   ],
   "source": [
    "net.train(100, verbose=0)\n",
    "#net.test()"
   ]
  },
  {
   "cell_type": "code",
   "execution_count": 10,
   "metadata": {},
   "outputs": [
    {
     "name": "stdout",
     "output_type": "stream",
     "text": [
      "CPU times: user 5.48 s, sys: 408 ms, total: 5.89 s\n",
      "Wall time: 5.6 s\n"
     ]
    }
   ],
   "source": [
    "%%time\n",
    "for i in range(100):\n",
    "    net.propagate(net.get_input(i))"
   ]
  },
  {
   "cell_type": "code",
   "execution_count": 11,
   "metadata": {
    "collapsed": true
   },
   "outputs": [],
   "source": [
    "from conx import Network, Layer, Conv2DLayer, MaxPool2DLayer, FlattenLayer"
   ]
  },
  {
   "cell_type": "code",
   "execution_count": 12,
   "metadata": {
    "collapsed": true
   },
   "outputs": [],
   "source": [
    "net = Network(\"MNIST-CNN\")\n",
    "net.add(Layer(\"input\", (28,28,1), colormap=\"hot\", minmax=(0,1)))\n",
    "net.add(Conv2DLayer(\"Conv2D-1\", 16, (5,5), activation=\"relu\"))\n",
    "net.add(MaxPool2DLayer(\"maxpool1\", (2,2)))\n",
    "net.add(Conv2DLayer(\"Conv2D-2\", 132, (5,5), activation=\"relu\")) \n",
    "net.add(MaxPool2DLayer(\"maxpool2\", (2,2)))\n",
    "net.add(FlattenLayer(\"flatten\", visible=False))\n",
    "net.add(Layer(\"hidden\", 1000, activation='relu', vshape=(8,125), image_maxdim=500))\n",
    "net.add(Layer(\"output\", 10, activation='softmax'))\n",
    "\n",
    "net.connect()"
   ]
  },
  {
   "cell_type": "code",
   "execution_count": 13,
   "metadata": {
    "collapsed": true
   },
   "outputs": [],
   "source": [
    "net.compile(loss=\"binary_crossentropy\", optimizer=\"rmsprop\")"
   ]
  },
  {
   "cell_type": "code",
   "execution_count": 14,
   "metadata": {},
   "outputs": [
    {
     "name": "stdout",
     "output_type": "stream",
     "text": [
      "Input Summary:\n",
      "   count  : 70000\n",
      "   shape  : (28, 28, 1)\n",
      "   range  : (0.0, 1.0)\n",
      "Target Summary:\n",
      "   count  : 70000\n",
      "   shape  : (10,)\n",
      "   range  : (0.0, 1.0)\n"
     ]
    }
   ],
   "source": [
    "net.load_mnist_dataset()"
   ]
  },
  {
   "cell_type": "code",
   "execution_count": 15,
   "metadata": {},
   "outputs": [
    {
     "name": "stdout",
     "output_type": "stream",
     "text": [
      "Slicing dataset 0:100...\n",
      "Input Summary:\n",
      "   count  : 100\n",
      "   shape  : (28, 28, 1)\n",
      "   range  : (0.0, 1.0)\n",
      "Target Summary:\n",
      "   count  : 100\n",
      "   shape  : (10,)\n",
      "   range  : (0.0, 1.0)\n"
     ]
    }
   ],
   "source": [
    "net.slice_dataset(100)"
   ]
  },
  {
   "cell_type": "code",
   "execution_count": 16,
   "metadata": {},
   "outputs": [
    {
     "name": "stdout",
     "output_type": "stream",
     "text": [
      "Training...\n",
      "Epoch 1/1\n",
      "100/100 [==============================] - 0s - loss: 0.3254 - acc: 0.9000\n",
      "========================================================================\n",
      "Epoch #    1 | train error 0.32540 | train accuracy 0.90000 | validate% 0.00000\n"
     ]
    }
   ],
   "source": [
    "net.train()"
   ]
  },
  {
   "cell_type": "code",
   "execution_count": 17,
   "metadata": {},
   "outputs": [
    {
     "data": {
      "application/javascript": [
       "\n",
       "require(['base/js/namespace'], function(Jupyter) {\n",
       "    Jupyter.notebook.kernel.comm_manager.register_target('conx_svg_control', function(comm, msg) {\n",
       "        comm.on_msg(function(msg) {\n",
       "            var data = msg[\"content\"][\"data\"];\n",
       "            var images = document.getElementsByClassName(data[\"class\"]);\n",
       "            for (var i = 0; i < images.length; i++) {\n",
       "                images[i].setAttributeNS(null, \"href\", data[\"href\"]);\n",
       "            }\n",
       "        });\n",
       "    });\n",
       "});\n"
      ],
      "text/plain": [
       "<IPython.core.display.Javascript object>"
      ]
     },
     "metadata": {},
     "output_type": "display_data"
    },
    {
     "data": {
      "application/vnd.jupyter.widget-view+json": {
       "model_id": "6b3cba19ac364d26b1725d6acdaf672d"
      }
     },
     "metadata": {},
     "output_type": "display_data"
    }
   ],
   "source": [
    "net.dashboard()"
   ]
  },
  {
   "cell_type": "code",
   "execution_count": 18,
   "metadata": {
    "collapsed": true
   },
   "outputs": [],
   "source": [
    "for i in range(10):\n",
    "    net.propagate(net.get_input(i))"
   ]
  },
  {
   "cell_type": "code",
   "execution_count": 19,
   "metadata": {},
   "outputs": [
    {
     "name": "stdout",
     "output_type": "stream",
     "text": [
      "Training...\n",
      "Epoch #    2 | train error 0.29430 | train accuracy 0.91100 | validate% 0.00000\n",
      "Epoch #    3 | train error 0.29813 | train accuracy 0.90000 | validate% 0.00000\n",
      "Epoch #    4 | train error 0.22901 | train accuracy 0.90000 | validate% 0.29000\n",
      "Epoch #    5 | train error 0.19209 | train accuracy 0.92800 | validate% 0.00000\n",
      "Epoch #    6 | train error 0.33042 | train accuracy 0.92500 | validate% 0.00000\n",
      "Epoch #    7 | train error 0.21052 | train accuracy 0.93400 | validate% 0.09000\n",
      "Epoch #    8 | train error 0.13244 | train accuracy 0.94500 | validate% 0.30000\n",
      "Epoch #    9 | train error 0.07636 | train accuracy 0.97400 | validate% 0.45000\n",
      "Epoch #   10 | train error 0.05549 | train accuracy 0.98700 | validate% 0.53000\n",
      "Epoch #   11 | train error 0.07529 | train accuracy 0.97300 | validate% 0.46000\n",
      "Epoch #   12 | train error 0.11622 | train accuracy 0.96500 | validate% 0.52000\n",
      "Epoch #   13 | train error 0.09082 | train accuracy 0.97000 | validate% 0.48000\n",
      "Epoch #   14 | train error 0.05197 | train accuracy 0.98600 | validate% 0.68000\n",
      "Epoch #   15 | train error 0.02464 | train accuracy 0.99500 | validate% 0.76000\n",
      "========================================================================\n",
      "Epoch #   15 | train error 0.02464 | train accuracy 0.99500 | validate% 0.76000\n"
     ]
    }
   ],
   "source": [
    "net.train(epochs=100, accuracy=.7)"
   ]
  },
  {
   "cell_type": "code",
   "execution_count": null,
   "metadata": {
    "collapsed": true
   },
   "outputs": [],
   "source": []
  }
 ],
 "metadata": {
  "kernelspec": {
   "display_name": "Python 3",
   "language": "python",
   "name": "python3"
  },
  "language_info": {
   "codemirror_mode": {
    "name": "ipython",
    "version": 3
   },
   "file_extension": ".py",
   "mimetype": "text/x-python",
   "name": "python",
   "nbconvert_exporter": "python",
   "pygments_lexer": "ipython3",
   "version": "3.5.3"
  },
  "widgets": {
   "application/vnd.jupyter.widget-state+json": {
    "state": {
     "02c7e5fc1b8447bf8e56d3546d97bffe": {
      "model_module": "jupyter-js-widgets",
      "model_module_version": "~2.1.4",
      "model_name": "ButtonModel",
      "state": {
       "_model_module_version": "~2.1.4",
       "_view_module_version": "~2.1.4",
       "icon": "fast-backward",
       "layout": "IPY_MODEL_1a0ce6f6693b487490cc84fd426bf0e7",
       "style": "IPY_MODEL_2258ffc013014a11b5a941de86908763"
      }
     },
     "084a6c9e2dda4663bb6bb1779013fe82": {
      "model_module": "jupyter-js-widgets",
      "model_module_version": "~2.1.4",
      "model_name": "ButtonStyleModel",
      "state": {
       "_model_module_version": "~2.1.4",
       "_view_module_version": "~2.1.4"
      }
     },
     "09448280e4014e78ba331f38b05528eb": {
      "model_module": "jupyter-js-widgets",
      "model_module_version": "~2.1.4",
      "model_name": "IntSliderModel",
      "state": {
       "_model_module_version": "~2.1.4",
       "_view_module_version": "~2.1.4",
       "continuous_update": false,
       "description": "Dataset index",
       "layout": "IPY_MODEL_40baefcd80d1446781d92f71ecb5b38b",
       "max": 99,
       "style": "IPY_MODEL_398b13b511c84d2bbdc0f014354e6b78"
      }
     },
     "0b8d5cbd241043cbafa0c71bc10e1d1a": {
      "model_module": "jupyter-js-widgets",
      "model_module_version": "~2.1.4",
      "model_name": "ButtonStyleModel",
      "state": {
       "_model_module_version": "~2.1.4",
       "_view_module_version": "~2.1.4"
      }
     },
     "11a8b82af83c4b70975a9adce6d5f240": {
      "model_module": "jupyter-js-widgets",
      "model_module_version": "~2.1.4",
      "model_name": "VBoxModel",
      "state": {
       "_model_module_version": "~2.1.4",
       "_view_module_version": "~2.1.4",
       "layout": "IPY_MODEL_b27333ed57d84506b1486407178efc86"
      }
     },
     "14dfcc5757ef4feb9bb94f7d8e65f21b": {
      "model_module": "jupyter-js-widgets",
      "model_module_version": "~2.1.4",
      "model_name": "HTMLModel",
      "state": {
       "_model_module_version": "~2.1.4",
       "_view_module_version": "~2.1.4",
       "layout": "IPY_MODEL_1c9010bacf9d45e2b8551112ed331aec",
       "value": "\n        <svg id='MNIST-CNN' xmlns='http://www.w3.org/2000/svg' width=\"650\" height=\"1342\" image-rendering=\"pixelated\">\n    <defs>\n        <marker id=\"arrow\" markerWidth=\"10\" markerHeight=\"10\" refX=\"9\" refY=\"3\" orient=\"auto\" markerUnits=\"strokeWidth\">\n          <path d=\"M0,0 L0,6 L9,3 z\" fill=\"blue\" />\n        </marker>\n    </defs>\n<rect x=\"224.0\" y=\"24\" width=\"202\" height=\"27\" style=\"fill:none;stroke:blue;stroke-width:2\"/><image id=\"MNIST-CNN_output_targets_1\" class=\"MNIST-CNN_output_targets\" x=\"225.0\" y=\"25\" height=\"25\" width=\"200\" preserveAspectRatio=\"none\" href=\"data:image/gif;base64,R0lGODdhCgABAIMAAAMDAwYGBgoKCg0NDRMTExYWFhgYGB0dHTAwMExMTAAAAAAAAAAAAAAAAAAAAAAAACwAAAAACgABAAAIDgATHAiAgAAAAwMEFAgIADs=\"><title>Layer: output (output)\n shape = (10,)\n Keras class = Dense\n activation = softmax</title></image><text x=\"430.0\" y=\"39.5\" font-family=\"monospace\" font-size=\"12\">targets</text><rect x=\"224.0\" y=\"59\" width=\"202\" height=\"27\" style=\"fill:none;stroke:blue;stroke-width:2\"/><image id=\"MNIST-CNN_output_errors_1\" class=\"MNIST-CNN_output_errors\" x=\"225.0\" y=\"60\" height=\"25\" width=\"200\" preserveAspectRatio=\"none\" href=\"data:image/gif;base64,R0lGODdhCgABAIMAAAMDAwYGBgoKCg0NDRMTExYWFhgYGB0dHTAwMExMTAAAAAAAAAAAAAAAAAAAAAAAACwAAAAACgABAAAIDgATHAiAgAAAAwMEFAgIADs=\"><title>Layer: output (output)\n shape = (10,)\n Keras class = Dense\n activation = softmax</title></image><text x=\"430.0\" y=\"74.5\" font-family=\"monospace\" font-size=\"12\">errors</text><rect x=\"224.0\" y=\"99\" width=\"202\" height=\"27\" style=\"fill:none;stroke:blue;stroke-width:2\"/><image id=\"MNIST-CNN_output_1\" class=\"MNIST-CNN_output\" x=\"225.0\" y=\"100\" height=\"25\" width=\"200\" preserveAspectRatio=\"none\" href=\"data:image/gif;base64,R0lGODdhCgABAIMAAAMDAwYGBgoKCg0NDRMTExYWFhgYGB0dHTAwMExMTAAAAAAAAAAAAAAAAAAAAAAAACwAAAAACgABAAAIDgATHAiAgAAAAwMEFAgIADs=\"><title>Layer: output (output)\n shape = (10,)\n Keras class = Dense\n activation = softmax</title></image><text x=\"430.0\" y=\"114.5\" font-family=\"monospace\" font-size=\"12\">output</text><rect x=\"315.0\" y=\"127\" width=\"20.0\" height=\"27\" style=\"fill:white;stroke:none\"><title>Weights from hidden to output\n output/kernel has shape (1000, 10)\n output/bias has shape (10,)</title></rect><line x1=\"325.0\" y1=\"154\" x2=\"325.0\" y2=\"127\" stroke=\"blue\" stroke-width=\"2\" marker-end=\"url(#arrow)\"><title>Weights from hidden to output\n output/kernel has shape (1000, 10)\n output/bias has shape (10,)</title></line><rect x=\"74.0\" y=\"154\" width=\"502\" height=\"34\" style=\"fill:none;stroke:blue;stroke-width:2\"/><image id=\"MNIST-CNN_hidden_2\" class=\"MNIST-CNN_hidden\" x=\"75.0\" y=\"155\" height=\"32\" width=\"500\" preserveAspectRatio=\"none\" href=\"data:image/gif;base64,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\"><title>Layer: hidden (hidden)\n shape = (1000,)\n Keras class = Dense\n activation = relu</title></image><text x=\"580.0\" y=\"173.0\" font-family=\"monospace\" font-size=\"12\">hidden</text><rect x=\"224.0\" y=\"196\" width=\"202\" height=\"202\" style=\"fill:none;stroke:blue;stroke-width:2\"/><image id=\"MNIST-CNN_maxpool2_3\" class=\"MNIST-CNN_maxpool2\" x=\"225.0\" y=\"197\" height=\"200\" width=\"200\" preserveAspectRatio=\"none\" href=\"data:image/gif;base64,R0lGODdhBAAEAIMAAH9/f4WFhYiIiImJiYqKioyMjI+Pj5CQkJKSkpOTk5ubmwAAAAAAAAAAAAAAAAAAACwAAAAABAAEAAAIFQAFFAgQAIGCAwEGJCAAAECABAYCAgA7\"><title>Layer: maxpool2 (hidden)\n Keras class = MaxPooling2D</title></image><text x=\"430.0\" y=\"299.0\" font-family=\"monospace\" font-size=\"12\">maxpool2</text><rect x=\"315.0\" y=\"399\" width=\"20.0\" height=\"27\" style=\"fill:white;stroke:none\"><title>Weights from Conv2D-2 to maxpool2</title></rect><line x1=\"325.0\" y1=\"426\" x2=\"325.0\" y2=\"399\" stroke=\"blue\" stroke-width=\"2\" marker-end=\"url(#arrow)\"><title>Weights from Conv2D-2 to maxpool2</title></line><rect x=\"224.0\" y=\"426\" width=\"202\" height=\"202\" style=\"fill:none;stroke:blue;stroke-width:2\"/><image id=\"MNIST-CNN_Conv2D-2_4\" class=\"MNIST-CNN_Conv2D-2\" x=\"225.0\" y=\"427\" height=\"200\" width=\"200\" preserveAspectRatio=\"none\" href=\"data:image/gif;base64,R0lGODdhCAAIAIUAAAAAAAQEBAYGBgsLCw0NDRMTExQUFBUVFRcXFxgYGBoaGh8fHycnJykpKTExMTMzMzY2Njc3Nzs7O0JCQkNDQ0REREVFRUpKSlJSUlpaWl9fX2FhYWdnZ2hoaGlpaW5ubnFxcXV1dXd3d39/f5GRkZeXl5mZmZ+fn6urq7Gxsbm5ubq6usHBwcTExN3d3f///wAAAAAAAAAAAAAAAAAAAAAAAAAAAAAAAAAAAAAAAAAAAAAAAAAAAAAAAAAAAAAAACwAAAAACAAIAAAIRwALIBAAoCABABQwfBDBQIKDCB1SsGgxosIACBZOvHBhggMAAAsyoFBxIQEAAAsaQADhYQKAlwACGNCwYsMBADgfhChBQkFAADs=\"><title>Layer: Conv2D-2 (hidden)\n Keras class = Conv2D\n activation = relu</title></image><text x=\"430.0\" y=\"529.0\" font-family=\"monospace\" font-size=\"12\">Conv2D-2</text><rect x=\"315.0\" y=\"629\" width=\"20.0\" height=\"27\" style=\"fill:white;stroke:none\"><title>Weights from maxpool1 to Conv2D-2\n Conv2D-2/kernel has shape (5, 5, 16, 132)\n Conv2D-2/bias has shape (132,)</title></rect><line x1=\"325.0\" y1=\"656\" x2=\"325.0\" y2=\"629\" stroke=\"blue\" stroke-width=\"2\" marker-end=\"url(#arrow)\"><title>Weights from maxpool1 to Conv2D-2\n Conv2D-2/kernel has shape (5, 5, 16, 132)\n Conv2D-2/bias has shape (132,)</title></line><rect x=\"224.0\" y=\"656\" width=\"202\" height=\"202\" style=\"fill:none;stroke:blue;stroke-width:2\"/><image id=\"MNIST-CNN_maxpool1_5\" class=\"MNIST-CNN_maxpool1\" x=\"225.0\" y=\"657\" height=\"200\" width=\"200\" preserveAspectRatio=\"none\" href=\"data:image/gif;base64,R0lGODdhDAAMAIMAAH9/f4CAgIGBgYKCgoODg4SEhIWFhYeHh4iIiImJiYqKiouLi4yMjAAAAAAAAAAAACwAAAAADAAMAAAIWgABCBQYgMABAAYAKASgYIEBAQAiRgwAoKLFixgzBgDAsSMAAQAQABhJsqTJkwEAqFzJcoCBAwBiBgBAMwCCBAEA6NxJIAGDAACCAggAoGgBAwCSKl3KtCmAgAA7\"><title>Layer: maxpool1 (hidden)\n Keras class = MaxPooling2D</title></image><text x=\"430.0\" y=\"759.0\" font-family=\"monospace\" font-size=\"12\">maxpool1</text><rect x=\"315.0\" y=\"859\" width=\"20.0\" height=\"27\" style=\"fill:white;stroke:none\"><title>Weights from Conv2D-1 to maxpool1</title></rect><line x1=\"325.0\" y1=\"886\" x2=\"325.0\" y2=\"859\" stroke=\"blue\" stroke-width=\"2\" marker-end=\"url(#arrow)\"><title>Weights from Conv2D-1 to maxpool1</title></line><rect x=\"224.0\" y=\"886\" width=\"202\" height=\"202\" style=\"fill:none;stroke:blue;stroke-width:2\"/><image id=\"MNIST-CNN_Conv2D-1_6\" class=\"MNIST-CNN_Conv2D-1\" x=\"225.0\" y=\"887\" height=\"200\" width=\"200\" preserveAspectRatio=\"none\" href=\"data:image/gif;base64,R0lGODdhGAAYAIUAAAAAAAICAgYGBgcHBwkJCQoKCgsLCwwMDA0NDQ4ODg8PDxERERUVFRcXFxgYGBkZGRwcHB0dHSIiIiwsLC4uLj4+Pj8/P0JCQlNTU1RUVFVVVV5eXl9fX2BgYGhoaG9vb3JycnV1dXl5eXx8fH5+fomJiaOjo6ioqKmpqa2trbCwsL6+vsHBwd/f3/Dw8P///wAAAAAAAAAAAAAAAAAAAAAAAAAAAAAAAAAAAAAAAAAAAAAAAAAAAAAAAAAAAAAAACwAAAAAGAAYAEAI3gABCBxIsKDBgwgFqmgAoKHDhxAplFhxAIDFixgzXgwAoKPHjyBDiowAoKTJkyYfcCABoKXLlzBjvgzAoIIGESEmBADAs6fPn0CDCh1KtChQFAgAKF3KdKmFEy8SAJhKlWoEAFizat3KtavXrQUUSMBgIgEAACM8AFjLFgCBDi1cAJhLt67dAgYA6N3Lt6/fv4D/LgBAuLBhwxIAKF7MuLFjxQMASJ5MubLlyQoAaN7MuXNnARdAABhNmrQDAKhTo4bwIcUGALBjy55tIAOLFQBy697Nu7fv38CDC88dEAA7\"><title>Layer: Conv2D-1 (hidden)\n Keras class = Conv2D\n activation = relu</title></image><text x=\"430.0\" y=\"989.0\" font-family=\"monospace\" font-size=\"12\">Conv2D-1</text><rect x=\"315.0\" y=\"1089\" width=\"20.0\" height=\"27\" style=\"fill:white;stroke:none\"><title>Weights from input to Conv2D-1\n Conv2D-1/kernel has shape (5, 5, 1, 16)\n Conv2D-1/bias has shape (16,)</title></rect><line x1=\"325.0\" y1=\"1116\" x2=\"325.0\" y2=\"1089\" stroke=\"blue\" stroke-width=\"2\" marker-end=\"url(#arrow)\"><title>Weights from input to Conv2D-1\n Conv2D-1/kernel has shape (5, 5, 1, 16)\n Conv2D-1/bias has shape (16,)</title></line><rect x=\"224.0\" y=\"1116\" width=\"202\" height=\"202\" style=\"fill:none;stroke:blue;stroke-width:2\"/><image id=\"MNIST-CNN_input_7\" class=\"MNIST-CNN_input\" x=\"225.0\" y=\"1117\" height=\"200\" width=\"200\" preserveAspectRatio=\"none\" href=\"data:image/gif;base64,R0lGODdhHAAcAIcAAAoAAP//9jAAAP/8DP//z00AANcAAPMAAG4AAI0AAP+aAP9nAP/MAP//jbMAAP9yAP/pAP//T///c/8lAP9XAP+qAP//Mv82AP9EAP+/AP/WAP//vAAAAAAAAAAAAAAAAAAAAAAAAAAAAAAAAAAAAAAAAAAAAAAAAAAAAAAAAAAAAAAAAAAAAAAAAAAAAAAAAAAAAAAAAAAAAAAAAAAAAAAAAAAAAAAAAAAAAAAAAAAAAAAAAAAAAAAAAAAAAAAAAAAAAAAAAAAAAAAAAAAAAAAAAAAAAAAAAAAAAAAAAAAAAAAAAAAAAAAAAAAAAAAAAAAAAAAAAAAAAAAAAAAAAAAAAAAAAAAAAAAAAAAAAAAAAAAAAAAAAAAAAAAAAAAAAAAAAAAAAAAAAAAAAAAAAAAAAAAAAAAAAAAAAAAAAAAAAAAAAAAAAAAAAAAAAAAAAAAAAAAAAAAAAAAAAAAAAAAAAAAAAAAAAAAAAAAAAAAAAAAAAAAAAAAAAAAAAAAAAAAAAAAAAAAAAAAAAAAAAAAAAAAAAAAAAAAAAAAAAAAAAAAAAAAAAAAAAAAAAAAAAAAAAAAAAAAAAAAAAAAAAAAAAAAAAAAAAAAAAAAAAAAAAAAAAAAAAAAAAAAAAAAAAAAAAAAAAAAAAAAAAAAAAAAAAAAAAAAAAAAAAAAAAAAAAAAAAAAAAAAAAAAAAAAAAAAAAAAAAAAAAAAAAAAAAAAAAAAAAAAAAAAAAAAAAAAAAAAAAAAAAAAAAAAAAAAAAAAAAAAAAAAAAAAAAAAAAAAAAAAAAAAAAAAAAAAAAAAAAAAAAAAAAAAAAAAAAAAAAAAAAAAAAAAAAAAAAAAAAAAAAAAAAAAAAAAAAAAAAAAAAAAAAAAAAAAAAAAAAAAAAAAAAAAAAAAAAAAAAAAAAAAAAAAAAAAAAAAAAAAAAAAAAAAAAAAAAAAAAAAAAAAAAAAAAAAAAAAAAAAAAAAAAAAAAAAAAAAAAAAAAAAAAAAAAAAAAAAAAAAAAAAAAAAAACwAAAAAHAAcAEAI/wABCBxIsKDBgwcFSAjAkOEACAQIAJhIsaLFixUFHAgQYACAjyBDfnwQoGSEBQsEAFjJsqXLlzBjypwpYEAAAwBy6tzJs2fOAhckBBgawIIBAEiTKl3KtKnTpwUQHFDAIIBVqw0YBCAwwAGAr2DDghUAQEGAAwDSql3Ltm1bAwQCBMBQAIDdu3jz6rWbYAGEAAEiABhMuHBhAQwkBFgcYIABAQAiS55MubLly5gza97MufNkAaApPNBQIEMAAhQAqF7NGkCCDQFiy5Z9oHYCBABy696t20CFCQECWBAAAIECAMiTK1/O/EGAAQCiS59OvTp1BAQaVJgAoLv37+DDf1FPMCBAAAUFAKhfz769e/YB4jsAQL++/fv2EShoEKB/AIAQAAwkWNAggAIOIgRgGGCAAQARJU6kmIBBgwAZAxBYIADAR5AhRY4kWdLkSZQhAwIAOw==\"><title>Layer: input (input)\n shape = (28, 28, 1)\n Keras class = Input</title></image><text x=\"430.0\" y=\"1219.0\" font-family=\"monospace\" font-size=\"12\">input</text></svg>"
      }
     },
     "159bcd55d8594aac93b2da088a73832e": {
      "model_module": "jupyter-js-widgets",
      "model_module_version": "~2.1.4",
      "model_name": "LayoutModel",
      "state": {
       "_model_module_version": "~2.1.4",
       "_view_module_version": "~2.1.4"
      }
     },
     "1977a21907364bd888274f165b1a8a9c": {
      "model_module": "jupyter-js-widgets",
      "model_module_version": "~2.1.4",
      "model_name": "VBoxModel",
      "state": {
       "_model_module_version": "~2.1.4",
       "_view_module_version": "~2.1.4",
       "children": [
        "IPY_MODEL_30114469c876462ab6498bb341ac4ca2",
        "IPY_MODEL_f11396508add4db6a51a0192c4412167",
        "IPY_MODEL_3e47723334714bcd883879250fbc6315"
       ],
       "layout": "IPY_MODEL_685b0491a75e4993b9b0d78b15ae2342"
      }
     },
     "1a0ce6f6693b487490cc84fd426bf0e7": {
      "model_module": "jupyter-js-widgets",
      "model_module_version": "~2.1.4",
      "model_name": "LayoutModel",
      "state": {
       "_model_module_version": "~2.1.4",
       "_view_module_version": "~2.1.4",
       "width": "100%"
      }
     },
     "1ab3f45f7d2b4daa912b7afe0d2693bf": {
      "model_module": "jupyter-js-widgets",
      "model_module_version": "~2.1.4",
      "model_name": "LayoutModel",
      "state": {
       "_model_module_version": "~2.1.4",
       "_view_module_version": "~2.1.4",
       "width": "100%"
      }
     },
     "1c9010bacf9d45e2b8551112ed331aec": {
      "model_module": "jupyter-js-widgets",
      "model_module_version": "~2.1.4",
      "model_name": "LayoutModel",
      "state": {
       "_model_module_version": "~2.1.4",
       "_view_module_version": "~2.1.4",
       "height": "100%",
       "justify_content": "center",
       "max_height": "550px",
       "overflow_x": "auto",
       "width": "100%"
      }
     },
     "2258ffc013014a11b5a941de86908763": {
      "model_module": "jupyter-js-widgets",
      "model_module_version": "~2.1.4",
      "model_name": "ButtonStyleModel",
      "state": {
       "_model_module_version": "~2.1.4",
       "_view_module_version": "~2.1.4"
      }
     },
     "297a636d24e0490b8a1bcc5fc02680a7": {
      "model_module": "jupyter-js-widgets",
      "model_module_version": "~2.1.4",
      "model_name": "VBoxModel",
      "state": {
       "_model_module_version": "~2.1.4",
       "_view_module_version": "~2.1.4",
       "children": [
        "IPY_MODEL_14dfcc5757ef4feb9bb94f7d8e65f21b",
        "IPY_MODEL_1977a21907364bd888274f165b1a8a9c"
       ],
       "layout": "IPY_MODEL_a6b58bbccc284e7d99e4cf9da89a89e4"
      }
     },
     "2ae8b839a32e43f3b6b286851ad8cb68": {
      "model_module": "jupyter-js-widgets",
      "model_module_version": "~2.1.4",
      "model_name": "LayoutModel",
      "state": {
       "_model_module_version": "~2.1.4",
       "_view_module_version": "~2.1.4",
       "width": "100%"
      }
     },
     "2d3332ce278a440f8e865a565edd39ea": {
      "model_module": "jupyter-js-widgets",
      "model_module_version": "~2.1.4",
      "model_name": "LayoutModel",
      "state": {
       "_model_module_version": "~2.1.4",
       "_view_module_version": "~2.1.4",
       "width": "100%"
      }
     },
     "2e762ee7a67b44308b59189686a4d8a5": {
      "model_module": "jupyter-js-widgets",
      "model_module_version": "~2.1.4",
      "model_name": "ButtonStyleModel",
      "state": {
       "_model_module_version": "~2.1.4",
       "_view_module_version": "~2.1.4"
      }
     },
     "30114469c876462ab6498bb341ac4ca2": {
      "model_module": "jupyter-js-widgets",
      "model_module_version": "~2.1.4",
      "model_name": "SelectModel",
      "state": {
       "_model_module_version": "~2.1.4",
       "_options_labels": [
        "Test",
        "Train"
       ],
       "_view_module_version": "~2.1.4",
       "description": "Dataset:",
       "layout": "IPY_MODEL_159bcd55d8594aac93b2da088a73832e",
       "value": "Train"
      }
     },
     "398b13b511c84d2bbdc0f014354e6b78": {
      "model_module": "jupyter-js-widgets",
      "model_module_version": "~2.1.4",
      "model_name": "SliderStyleModel",
      "state": {
       "_model_module_version": "~2.1.4",
       "_view_module_version": "~2.1.4"
      }
     },
     "3a77708adee34fe4b60969752fa40d25": {
      "model_module": "jupyter-js-widgets",
      "model_module_version": "~2.1.4",
      "model_name": "LayoutModel",
      "state": {
       "_model_module_version": "~2.1.4",
       "_view_module_version": "~2.1.4",
       "width": "100%"
      }
     },
     "3e47723334714bcd883879250fbc6315": {
      "model_module": "jupyter-js-widgets",
      "model_module_version": "~2.1.4",
      "model_name": "HBoxModel",
      "state": {
       "_model_module_version": "~2.1.4",
       "_view_module_version": "~2.1.4",
       "children": [
        "IPY_MODEL_02c7e5fc1b8447bf8e56d3546d97bffe",
        "IPY_MODEL_fa6ebbffd407456faf421f76c1ef3078",
        "IPY_MODEL_5afb219282c44e2193c8d0819961a3e9",
        "IPY_MODEL_e48be365599744ab9b175a2bd78c5ded",
        "IPY_MODEL_a1fc9064d21849db8acee152d43af14b"
       ],
       "layout": "IPY_MODEL_418fdfe9e0784307972b33da8ce1d918"
      }
     },
     "3f28306cee1d4a07ab3265dc92e6508d": {
      "model_module": "jupyter-js-widgets",
      "model_module_version": "~2.1.4",
      "model_name": "LayoutModel",
      "state": {
       "_model_module_version": "~2.1.4",
       "_view_module_version": "~2.1.4"
      }
     },
     "40baefcd80d1446781d92f71ecb5b38b": {
      "model_module": "jupyter-js-widgets",
      "model_module_version": "~2.1.4",
      "model_name": "LayoutModel",
      "state": {
       "_model_module_version": "~2.1.4",
       "_view_module_version": "~2.1.4",
       "width": "100%"
      }
     },
     "418fdfe9e0784307972b33da8ce1d918": {
      "model_module": "jupyter-js-widgets",
      "model_module_version": "~2.1.4",
      "model_name": "LayoutModel",
      "state": {
       "_model_module_version": "~2.1.4",
       "_view_module_version": "~2.1.4",
       "width": "100%"
      }
     },
     "449491bfee394cd9ad2095c1de3b25c7": {
      "model_module": "jupyter-js-widgets",
      "model_module_version": "~2.1.4",
      "model_name": "LayoutModel",
      "state": {
       "_model_module_version": "~2.1.4",
       "_view_module_version": "~2.1.4"
      }
     },
     "4abc8406691841f1aaf5a9a6818477e8": {
      "model_module": "jupyter-js-widgets",
      "model_module_version": "~2.1.4",
      "model_name": "VBoxModel",
      "state": {
       "_model_module_version": "~2.1.4",
       "_view_module_version": "~2.1.4",
       "children": [
        "IPY_MODEL_6f7927cee7ea446e8b7bf98e76d0e17c"
       ],
       "layout": "IPY_MODEL_f4200f2f10104ab4ac9e1a01c5a41cfa"
      }
     },
     "4af275b41e2446ac87fe4128c4a0e1db": {
      "model_module": "jupyter-js-widgets",
      "model_module_version": "~2.1.4",
      "model_name": "VBoxModel",
      "state": {
       "_model_module_version": "~2.1.4",
       "_view_module_version": "~2.1.4",
       "children": [
        "IPY_MODEL_7f31459780814c0e91fff8dc4db1ca0b",
        "IPY_MODEL_09448280e4014e78ba331f38b05528eb",
        "IPY_MODEL_845654160d944426a98b289f1bbdb155"
       ],
       "layout": "IPY_MODEL_ff09b64278f24efc894a31088e8f42d4"
      }
     },
     "4ecfe5f5b1dc441cbdf4e0a6d3a44e0e": {
      "model_module": "jupyter-js-widgets",
      "model_module_version": "~2.1.4",
      "model_name": "LayoutModel",
      "state": {
       "_model_module_version": "~2.1.4",
       "_view_module_version": "~2.1.4"
      }
     },
     "5afb219282c44e2193c8d0819961a3e9": {
      "model_module": "jupyter-js-widgets",
      "model_module_version": "~2.1.4",
      "model_name": "ButtonModel",
      "state": {
       "_model_module_version": "~2.1.4",
       "_view_module_version": "~2.1.4",
       "description": "Train",
       "layout": "IPY_MODEL_e9f015e99b7647e886a5e008626c1047",
       "style": "IPY_MODEL_6c4d0e07fcdc4178bf90e34619b303d7"
      }
     },
     "5b2b2f7e0b7c46e99d0e17222bd2d3f5": {
      "model_module": "jupyter-js-widgets",
      "model_module_version": "~2.1.4",
      "model_name": "LayoutModel",
      "state": {
       "_model_module_version": "~2.1.4",
       "_view_module_version": "~2.1.4",
       "width": "100%"
      }
     },
     "5d718dc8fc0d4ba5b4b4548d8aeabad3": {
      "model_module": "jupyter-js-widgets",
      "model_module_version": "~2.1.4",
      "model_name": "LayoutModel",
      "state": {
       "_model_module_version": "~2.1.4",
       "_view_module_version": "~2.1.4"
      }
     },
     "5eb11481cbf44d89818f55ebee2c83ad": {
      "model_module": "jupyter-js-widgets",
      "model_module_version": "~2.1.4",
      "model_name": "ButtonStyleModel",
      "state": {
       "_model_module_version": "~2.1.4",
       "_view_module_version": "~2.1.4"
      }
     },
     "62c9b0594a134155a68608654884ab88": {
      "model_module": "jupyter-js-widgets",
      "model_module_version": "~2.1.4",
      "model_name": "ButtonStyleModel",
      "state": {
       "_model_module_version": "~2.1.4",
       "_view_module_version": "~2.1.4"
      }
     },
     "685b0491a75e4993b9b0d78b15ae2342": {
      "model_module": "jupyter-js-widgets",
      "model_module_version": "~2.1.4",
      "model_name": "LayoutModel",
      "state": {
       "_model_module_version": "~2.1.4",
       "_view_module_version": "~2.1.4",
       "width": "100%"
      }
     },
     "6b3cba19ac364d26b1725d6acdaf672d": {
      "model_module": "jupyter-js-widgets",
      "model_module_version": "~2.1.4",
      "model_name": "TabModel",
      "state": {
       "_model_module_version": "~2.1.4",
       "_titles": {
        "0": "Network",
        "1": "Graphs",
        "2": "Analysis",
        "3": "Camera",
        "4": "Help"
       },
       "_view_module_version": "~2.1.4",
       "children": [
        "IPY_MODEL_297a636d24e0490b8a1bcc5fc02680a7",
        "IPY_MODEL_11a8b82af83c4b70975a9adce6d5f240",
        "IPY_MODEL_7249d15418a54c5e81d462b7e2a9d353",
        "IPY_MODEL_72948c8ce0c44a838c24932d778a6fe0",
        "IPY_MODEL_d119071ea8eb4a45a2e2a9eab67ce0b2"
       ],
       "layout": "IPY_MODEL_4ecfe5f5b1dc441cbdf4e0a6d3a44e0e"
      }
     },
     "6c4d0e07fcdc4178bf90e34619b303d7": {
      "model_module": "jupyter-js-widgets",
      "model_module_version": "~2.1.4",
      "model_name": "ButtonStyleModel",
      "state": {
       "_model_module_version": "~2.1.4",
       "_view_module_version": "~2.1.4"
      }
     },
     "6e1f343d42b9475ab311f27df17cc5c9": {
      "model_module": "jupyter-js-widgets",
      "model_module_version": "~2.1.4",
      "model_name": "LayoutModel",
      "state": {
       "_model_module_version": "~2.1.4",
       "_view_module_version": "~2.1.4"
      }
     },
     "6f7927cee7ea446e8b7bf98e76d0e17c": {
      "model_module": "jupyter-js-widgets",
      "model_module_version": "~2.1.4",
      "model_name": "ButtonModel",
      "state": {
       "_model_module_version": "~2.1.4",
       "_view_module_version": "~2.1.4",
       "description": "Turn on webcamera",
       "layout": "IPY_MODEL_5d718dc8fc0d4ba5b4b4548d8aeabad3",
       "style": "IPY_MODEL_084a6c9e2dda4663bb6bb1779013fe82"
      }
     },
     "705b0532e6d84f47a67ffdcde82b7099": {
      "model_module": "jupyter-js-widgets",
      "model_module_version": "~2.1.4",
      "model_name": "LayoutModel",
      "state": {
       "_model_module_version": "~2.1.4",
       "_view_module_version": "~2.1.4",
       "width": "100%"
      }
     },
     "70a1ad47136548c6bcf87faa805aa2e0": {
      "model_module": "jupyter-js-widgets",
      "model_module_version": "~2.1.4",
      "model_name": "LayoutModel",
      "state": {
       "_model_module_version": "~2.1.4",
       "_view_module_version": "~2.1.4"
      }
     },
     "7249d15418a54c5e81d462b7e2a9d353": {
      "model_module": "jupyter-js-widgets",
      "model_module_version": "~2.1.4",
      "model_name": "VBoxModel",
      "state": {
       "_model_module_version": "~2.1.4",
       "_view_module_version": "~2.1.4",
       "layout": "IPY_MODEL_3f28306cee1d4a07ab3265dc92e6508d"
      }
     },
     "72948c8ce0c44a838c24932d778a6fe0": {
      "model_module": "jupyter-js-widgets",
      "model_module_version": "~2.1.4",
      "model_name": "VBoxModel",
      "state": {
       "_model_module_version": "~2.1.4",
       "_view_module_version": "~2.1.4",
       "children": [
        "IPY_MODEL_da987f2c45d94b2498a1d9dd499d916d"
       ],
       "layout": "IPY_MODEL_937d2034b31a4fdeb6e3417a0f8766f3"
      }
     },
     "7a220bd016b7442c82eea96e29a57e52": {
      "model_module": "jupyter-js-widgets",
      "model_module_version": "~2.1.4",
      "model_name": "LayoutModel",
      "state": {
       "_model_module_version": "~2.1.4",
       "_view_module_version": "~2.1.4"
      }
     },
     "7f31459780814c0e91fff8dc4db1ca0b": {
      "model_module": "jupyter-js-widgets",
      "model_module_version": "~2.1.4",
      "model_name": "SelectModel",
      "state": {
       "_model_module_version": "~2.1.4",
       "_options_labels": [
        "Test",
        "Train"
       ],
       "_view_module_version": "~2.1.4",
       "description": "Dataset:",
       "layout": "IPY_MODEL_6e1f343d42b9475ab311f27df17cc5c9",
       "value": "Train"
      }
     },
     "845654160d944426a98b289f1bbdb155": {
      "model_module": "jupyter-js-widgets",
      "model_module_version": "~2.1.4",
      "model_name": "HBoxModel",
      "state": {
       "_model_module_version": "~2.1.4",
       "_view_module_version": "~2.1.4",
       "children": [
        "IPY_MODEL_f96e60da03664fd495438cdf3ce4dd4a",
        "IPY_MODEL_b1df86daf6b242878723e0d269ea0fc7",
        "IPY_MODEL_d057220d657c48989c8ce15c2a8ffa5f",
        "IPY_MODEL_b88098d1cdcd435e9829328037f9cacb",
        "IPY_MODEL_c4337591bc88410ebc26b1e17b2ffe4f"
       ],
       "layout": "IPY_MODEL_3a77708adee34fe4b60969752fa40d25"
      }
     },
     "937d2034b31a4fdeb6e3417a0f8766f3": {
      "model_module": "jupyter-js-widgets",
      "model_module_version": "~2.1.4",
      "model_name": "LayoutModel",
      "state": {
       "_model_module_version": "~2.1.4",
       "_view_module_version": "~2.1.4"
      }
     },
     "9699ec3d0e84487280cfe1c423a5e8b1": {
      "model_module": "jupyter-js-widgets",
      "model_module_version": "~2.1.4",
      "model_name": "ButtonStyleModel",
      "state": {
       "_model_module_version": "~2.1.4",
       "_view_module_version": "~2.1.4"
      }
     },
     "993a0fcb3c9a410ca946511d6e0ce397": {
      "model_module": "jupyter-js-widgets",
      "model_module_version": "~2.1.4",
      "model_name": "LayoutModel",
      "state": {
       "_model_module_version": "~2.1.4",
       "_view_module_version": "~2.1.4",
       "width": "100%"
      }
     },
     "a1aa57cc42a4423aa10d9529acd74131": {
      "model_module": "jupyter-js-widgets",
      "model_module_version": "~2.1.4",
      "model_name": "LayoutModel",
      "state": {
       "_model_module_version": "~2.1.4",
       "_view_module_version": "~2.1.4",
       "width": "100%"
      }
     },
     "a1fc9064d21849db8acee152d43af14b": {
      "model_module": "jupyter-js-widgets",
      "model_module_version": "~2.1.4",
      "model_name": "ButtonModel",
      "state": {
       "_model_module_version": "~2.1.4",
       "_view_module_version": "~2.1.4",
       "icon": "fast-forward",
       "layout": "IPY_MODEL_2ae8b839a32e43f3b6b286851ad8cb68",
       "style": "IPY_MODEL_b1ddf68b4c204bbab88a0bfadc62323a"
      }
     },
     "a6b58bbccc284e7d99e4cf9da89a89e4": {
      "model_module": "jupyter-js-widgets",
      "model_module_version": "~2.1.4",
      "model_name": "LayoutModel",
      "state": {
       "_model_module_version": "~2.1.4",
       "_view_module_version": "~2.1.4",
       "width": "100%"
      }
     },
     "a7275e7a585d410bb5d398dea68d3f84": {
      "model_module": "jupyter-js-widgets",
      "model_module_version": "~2.1.4",
      "model_name": "VBoxModel",
      "state": {
       "_model_module_version": "~2.1.4",
       "_view_module_version": "~2.1.4",
       "children": [
        "IPY_MODEL_e7184d0e29c54a6380b5a4b2786bb648",
        "IPY_MODEL_4af275b41e2446ac87fe4128c4a0e1db"
       ],
       "layout": "IPY_MODEL_993a0fcb3c9a410ca946511d6e0ce397"
      }
     },
     "aceb39269d2d4b0292f001d508738da0": {
      "model_module": "jupyter-js-widgets",
      "model_module_version": "~2.1.4",
      "model_name": "LayoutModel",
      "state": {
       "_model_module_version": "~2.1.4",
       "_view_module_version": "~2.1.4",
       "width": "100%"
      }
     },
     "b1ddf68b4c204bbab88a0bfadc62323a": {
      "model_module": "jupyter-js-widgets",
      "model_module_version": "~2.1.4",
      "model_name": "ButtonStyleModel",
      "state": {
       "_model_module_version": "~2.1.4",
       "_view_module_version": "~2.1.4"
      }
     },
     "b1df86daf6b242878723e0d269ea0fc7": {
      "model_module": "jupyter-js-widgets",
      "model_module_version": "~2.1.4",
      "model_name": "ButtonModel",
      "state": {
       "_model_module_version": "~2.1.4",
       "_view_module_version": "~2.1.4",
       "icon": "backward",
       "layout": "IPY_MODEL_705b0532e6d84f47a67ffdcde82b7099",
       "style": "IPY_MODEL_d00a073d49b84bd3a71b6aa0d658022c"
      }
     },
     "b21a321cbc85456b815f62ee10085b5f": {
      "model_module": "jupyter-js-widgets",
      "model_module_version": "~2.1.4",
      "model_name": "ButtonStyleModel",
      "state": {
       "_model_module_version": "~2.1.4",
       "_view_module_version": "~2.1.4"
      }
     },
     "b27333ed57d84506b1486407178efc86": {
      "model_module": "jupyter-js-widgets",
      "model_module_version": "~2.1.4",
      "model_name": "LayoutModel",
      "state": {
       "_model_module_version": "~2.1.4",
       "_view_module_version": "~2.1.4"
      }
     },
     "b3cdea2f4d67468daa1d2c71aa2fb6fa": {
      "model_module": "jupyter-js-widgets",
      "model_module_version": "~2.1.4",
      "model_name": "VBoxModel",
      "state": {
       "_model_module_version": "~2.1.4",
       "_view_module_version": "~2.1.4",
       "layout": "IPY_MODEL_449491bfee394cd9ad2095c1de3b25c7"
      }
     },
     "b425df0bbd294298a17e672e842583cd": {
      "model_module": "jupyter-js-widgets",
      "model_module_version": "~2.1.4",
      "model_name": "LayoutModel",
      "state": {
       "_model_module_version": "~2.1.4",
       "_view_module_version": "~2.1.4",
       "width": "100%"
      }
     },
     "b88098d1cdcd435e9829328037f9cacb": {
      "model_module": "jupyter-js-widgets",
      "model_module_version": "~2.1.4",
      "model_name": "ButtonModel",
      "state": {
       "_model_module_version": "~2.1.4",
       "_view_module_version": "~2.1.4",
       "icon": "forward",
       "layout": "IPY_MODEL_2d3332ce278a440f8e865a565edd39ea",
       "style": "IPY_MODEL_b21a321cbc85456b815f62ee10085b5f"
      }
     },
     "c1e7dd91d9bb4c209a6b5b9d1bf5a86b": {
      "model_module": "jupyter-js-widgets",
      "model_module_version": "~2.1.4",
      "model_name": "LayoutModel",
      "state": {
       "_model_module_version": "~2.1.4",
       "_view_module_version": "~2.1.4",
       "width": "100%"
      }
     },
     "c35a702cae8a41e5b1a65cfdf3698729": {
      "model_module": "jupyter-js-widgets",
      "model_module_version": "~2.1.4",
      "model_name": "SliderStyleModel",
      "state": {
       "_model_module_version": "~2.1.4",
       "_view_module_version": "~2.1.4"
      }
     },
     "c4337591bc88410ebc26b1e17b2ffe4f": {
      "model_module": "jupyter-js-widgets",
      "model_module_version": "~2.1.4",
      "model_name": "ButtonModel",
      "state": {
       "_model_module_version": "~2.1.4",
       "_view_module_version": "~2.1.4",
       "icon": "fast-forward",
       "layout": "IPY_MODEL_a1aa57cc42a4423aa10d9529acd74131",
       "style": "IPY_MODEL_9699ec3d0e84487280cfe1c423a5e8b1"
      }
     },
     "c55aafe8b82544c1b5a4e70a78c7c30e": {
      "model_module": "jupyter-js-widgets",
      "model_module_version": "~2.1.4",
      "model_name": "LayoutModel",
      "state": {
       "_model_module_version": "~2.1.4",
       "_view_module_version": "~2.1.4",
       "width": "100%"
      }
     },
     "cec31ba18d60448b9a0d4b45ba9afafe": {
      "model_module": "jupyter-js-widgets",
      "model_module_version": "~2.1.4",
      "model_name": "TabModel",
      "state": {
       "_model_module_version": "~2.1.4",
       "_titles": {
        "0": "Network",
        "1": "Graphs",
        "2": "Analysis",
        "3": "Camera",
        "4": "Help"
       },
       "_view_module_version": "~2.1.4",
       "children": [
        "IPY_MODEL_a7275e7a585d410bb5d398dea68d3f84",
        "IPY_MODEL_fb0040b6de394f53abf0207c2a27453b",
        "IPY_MODEL_b3cdea2f4d67468daa1d2c71aa2fb6fa",
        "IPY_MODEL_4abc8406691841f1aaf5a9a6818477e8",
        "IPY_MODEL_d146f18adb914ff9a358c22fb5002dd6"
       ],
       "layout": "IPY_MODEL_7a220bd016b7442c82eea96e29a57e52"
      }
     },
     "cf743fff3ac94294bace6d93e1216fdd": {
      "model_module": "jupyter-js-widgets",
      "model_module_version": "~2.1.4",
      "model_name": "ButtonStyleModel",
      "state": {
       "_model_module_version": "~2.1.4",
       "_view_module_version": "~2.1.4"
      }
     },
     "d00a073d49b84bd3a71b6aa0d658022c": {
      "model_module": "jupyter-js-widgets",
      "model_module_version": "~2.1.4",
      "model_name": "ButtonStyleModel",
      "state": {
       "_model_module_version": "~2.1.4",
       "_view_module_version": "~2.1.4"
      }
     },
     "d057220d657c48989c8ce15c2a8ffa5f": {
      "model_module": "jupyter-js-widgets",
      "model_module_version": "~2.1.4",
      "model_name": "ButtonModel",
      "state": {
       "_model_module_version": "~2.1.4",
       "_view_module_version": "~2.1.4",
       "description": "Train",
       "layout": "IPY_MODEL_fc47682752264b1593bc3e785d620ac4",
       "style": "IPY_MODEL_cf743fff3ac94294bace6d93e1216fdd"
      }
     },
     "d119071ea8eb4a45a2e2a9eab67ce0b2": {
      "model_module": "jupyter-js-widgets",
      "model_module_version": "~2.1.4",
      "model_name": "HTMLModel",
      "state": {
       "_model_module_version": "~2.1.4",
       "_view_module_version": "~2.1.4",
       "layout": "IPY_MODEL_1ab3f45f7d2b4daa912b7afe0d2693bf",
       "value": "<iframe style=\"width: 800px\" src=\"https://conx.readthedocs.io\" width=\"100%\" height=\"550px\"></frame>"
      }
     },
     "d146f18adb914ff9a358c22fb5002dd6": {
      "model_module": "jupyter-js-widgets",
      "model_module_version": "~2.1.4",
      "model_name": "HTMLModel",
      "state": {
       "_model_module_version": "~2.1.4",
       "_view_module_version": "~2.1.4",
       "layout": "IPY_MODEL_b425df0bbd294298a17e672e842583cd",
       "value": "<iframe style=\"width: 800px\" src=\"https://conx.readthedocs.io\" width=\"100%\" height=\"550px\"></frame>"
      }
     },
     "d522b451d2b74e3ab332d6e6010be771": {
      "model_module": "jupyter-js-widgets",
      "model_module_version": "~2.1.4",
      "model_name": "LayoutModel",
      "state": {
       "_model_module_version": "~2.1.4",
       "_view_module_version": "~2.1.4",
       "height": "100%",
       "justify_content": "center",
       "max_height": "550px",
       "overflow_x": "auto",
       "width": "100%"
      }
     },
     "da987f2c45d94b2498a1d9dd499d916d": {
      "model_module": "jupyter-js-widgets",
      "model_module_version": "~2.1.4",
      "model_name": "ButtonModel",
      "state": {
       "_model_module_version": "~2.1.4",
       "_view_module_version": "~2.1.4",
       "description": "Turn on webcamera",
       "layout": "IPY_MODEL_fff4a6e01c5e4664920382bc719eb907",
       "style": "IPY_MODEL_2e762ee7a67b44308b59189686a4d8a5"
      }
     },
     "e48be365599744ab9b175a2bd78c5ded": {
      "model_module": "jupyter-js-widgets",
      "model_module_version": "~2.1.4",
      "model_name": "ButtonModel",
      "state": {
       "_model_module_version": "~2.1.4",
       "_view_module_version": "~2.1.4",
       "icon": "forward",
       "layout": "IPY_MODEL_5b2b2f7e0b7c46e99d0e17222bd2d3f5",
       "style": "IPY_MODEL_5eb11481cbf44d89818f55ebee2c83ad"
      }
     },
     "e7184d0e29c54a6380b5a4b2786bb648": {
      "model_module": "jupyter-js-widgets",
      "model_module_version": "~2.1.4",
      "model_name": "HTMLModel",
      "state": {
       "_model_module_version": "~2.1.4",
       "_view_module_version": "~2.1.4",
       "layout": "IPY_MODEL_d522b451d2b74e3ab332d6e6010be771",
       "value": "\n        <svg id='MNIST' xmlns='http://www.w3.org/2000/svg' width=\"350\" height=\"640\" image-rendering=\"pixelated\">\n    <defs>\n        <marker id=\"arrow\" markerWidth=\"10\" markerHeight=\"10\" refX=\"9\" refY=\"3\" orient=\"auto\" markerUnits=\"strokeWidth\">\n          <path d=\"M0,0 L0,6 L9,3 z\" fill=\"blue\" />\n        </marker>\n    </defs>\n<rect x=\"74.0\" y=\"24\" width=\"202\" height=\"27\" style=\"fill:none;stroke:blue;stroke-width:2\"/><image id=\"MNIST_output_targets_1\" class=\"MNIST_output_targets\" x=\"75.0\" y=\"25\" height=\"25\" width=\"200\" preserveAspectRatio=\"none\" href=\"data:image/gif;base64,R0lGODdhCgABAIMAAA8PDxMTExQUFBYWFhgYGBoaGh0dHR4eHicnJwAAAAAAAAAAAAAAAAAAAAAAAAAAACwAAAAACgABAAAIDgARCCAQoAAAAwMKHAgIADs=\"><title>Layer: output (output)\n shape = (10,)\n Keras class = Dense\n activation = softmax</title></image><text x=\"280.0\" y=\"39.5\" font-family=\"monospace\" font-size=\"12\">targets</text><rect x=\"74.0\" y=\"59\" width=\"202\" height=\"27\" style=\"fill:none;stroke:blue;stroke-width:2\"/><image id=\"MNIST_output_errors_1\" class=\"MNIST_output_errors\" x=\"75.0\" y=\"60\" height=\"25\" width=\"200\" preserveAspectRatio=\"none\" href=\"data:image/gif;base64,R0lGODdhCgABAIMAAA8PDxMTExQUFBYWFhgYGBoaGh0dHR4eHicnJwAAAAAAAAAAAAAAAAAAAAAAAAAAACwAAAAACgABAAAIDgARCCAQoAAAAwMKHAgIADs=\"><title>Layer: output (output)\n shape = (10,)\n Keras class = Dense\n activation = softmax</title></image><text x=\"280.0\" y=\"74.5\" font-family=\"monospace\" font-size=\"12\">errors</text><rect x=\"74.0\" y=\"99\" width=\"202\" height=\"27\" style=\"fill:none;stroke:blue;stroke-width:2\"/><image id=\"MNIST_output_1\" class=\"MNIST_output\" x=\"75.0\" y=\"100\" height=\"25\" width=\"200\" preserveAspectRatio=\"none\" href=\"data:image/gif;base64,R0lGODdhCgABAIMAAA8PDxMTExQUFBYWFhgYGBoaGh0dHR4eHicnJwAAAAAAAAAAAAAAAAAAAAAAAAAAACwAAAAACgABAAAIDgARCCAQoAAAAwMKHAgIADs=\"><title>Layer: output (output)\n shape = (10,)\n Keras class = Dense\n activation = softmax</title></image><text x=\"280.0\" y=\"114.5\" font-family=\"monospace\" font-size=\"12\">output</text><rect x=\"165.0\" y=\"127\" width=\"20.0\" height=\"27\" style=\"fill:white;stroke:none\"><title>Weights from hidden2 to output\n output/kernel has shape (512, 10)\n output/bias has shape (10,)</title></rect><line x1=\"175.0\" y1=\"154\" x2=\"175.0\" y2=\"127\" stroke=\"blue\" stroke-width=\"2\" marker-end=\"url(#arrow)\"><title>Weights from hidden2 to output\n output/kernel has shape (512, 10)\n output/bias has shape (10,)</title></line><rect x=\"74.0\" y=\"154\" width=\"202\" height=\"102\" style=\"fill:none;stroke:blue;stroke-width:2\"/><image id=\"MNIST_hidden2_2\" class=\"MNIST_hidden2\" x=\"75.0\" y=\"155\" height=\"100\" width=\"200\" preserveAspectRatio=\"none\" href=\"data:image/gif;base64,R0lGODdhIAAQAIcAAAAAAAEBAQICAgMDAwQEBAUFBQYGBgcHBwgICAkJCQoKCgsLCwwMDA0NDQ4ODg8PDxAQEBERERISEhMTExQUFBUVFRYWFhcXFxgYGBkZGRoaGhsbGxwcHB0dHR4eHh8fHyAgICEhISIiIiMjIyQkJCUlJSYmJicnJygoKCkpKSoqKisrKywsLC0tLS4uLi8vLzAwMDExMTIyMjMzMzQ0NDU1NTY2Njc3Nzg4ODk5OTo6Ojs7Ozw8PD09PT4+Pj8/P0BAQEFBQUJCQkNDQ0REREVFRUZGRkdHR0hISElJSUpKSktLS0xMTE1NTU5OTk9PT1BQUFFRUVJSUlNTU1RUVFVVVVZWVldXV1hYWFlZWVpaWltbW1xcXF1dXV5eXl9fX2BgYGFhYWJiYmNjY2RkZGVlZWZmZmdnZ2hoaGlpaWpqamtra2xsbG1tbW5ubm9vb3BwcHFxcXJycnNzc3R0dHV1dXZ2dnd3d3h4eHl5eXp6ent7e3x8fH19fX5+fn9/f4CAgIGBgYKCgoODg4SEhIWFhYaGhoeHh4iIiImJiYqKiouLi4yMjI2NjY6Ojo+Pj5CQkJGRkZKSkpOTk5SUlJWVlZaWlpeXl5iYmJmZmZqampubm5ycnJ2dnZ6enp+fn6CgoKGhoaKioqOjo6SkpKWlpaampqenp6ioqKmpqaqqqqurq6ysrK2tra6urq+vr7CwsLGxsbKysrOzs7S0tLW1tba2tre3t7i4uLm5ubq6uru7u7y8vL29vb6+vr+/v8DAwMHBwcLCwsPDw8TExMXFxcbGxsfHx8jIyMnJycrKysvLy8zMzM3Nzc7Ozs/Pz9DQ0NHR0dLS0tPT09TU1NXV1dbW1tfX19jY2NnZ2dra2tvb29zc3N3d3d7e3t/f3+Dg4OHh4eLi4uPj4+Tk5OXl5ebm5ufn5+jo6Onp6erq6uvr6+zs7O3t7e7u7u/v7/Dw8PHx8fLy8vPz8/T09PX19fb29vf39/j4+Pn5+fr6+vv7+/z8/P39/f7+/v///ywAAAAAIAAQAEAI/wABCBRYA0CTBgBoeAHwAsAmABCXAABAAQATAHIuANACAIAFACCrJQAA4IsPACgBAKnBBACADQAACPARwAuAPWAA1NDBw40XALl2bHkAIBgAHTIAVAAABAAABgCiVgMAoAYAABwAjAAAQAoAAGsAjAFA9kkDAAAIAOgCYAOAJQAWACiUBECADgB+RABA6wEAAHEAoIAEBQCACR2UAACgRASNNTMUAJAB4McVAABUhICBAQAAKC6MmFAAAECERkcAAICUBACAEgC8jAigAYCSKmkcABCjAYBvAEMABBgAoAAAA+QaANAjIREAAI0AAHgCIBEABw0+AEAEBgAAG2sAAP/4QAWAeQCczChgUAUAABgAagDYAgAADgD485sAEGEHAIACnAAgOALABQAJkQAA4OAGHAARJU6MeI2BjRYq0FQAEABAFwBoCPTpMQGADwAmAMh4MUQMAAdTAMzEYAJAlgIiAAA4QEACAAAPjAAg2iUCgAMAAPgC0BRAkwkAABwAUPUUABlKeuAhsQDAVzuHAIAAsAUADQAWXgBgCwASALgAcACg+wEADwB5JwDgaynMDACB0QAAcAPKEwBoSgBQZEHJkiAFAAC4EQbA5cuVABQ5AQAMANAkAADIBSBADxpqAJghMgcAgBUAAAABYKIAABYAdO9+BcB3DwBzACCRAGAZwL8YAADguNMGQAQAAOhkSIMFwCIA2QEEBAA7\"><title>Layer: hidden2 (hidden)\n shape = (512,)\n dropout = 0.2\n Keras class = Dense\n activation = relu</title></image><text x=\"280.0\" y=\"207.0\" font-family=\"monospace\" font-size=\"12\">hidden2</text><rect x=\"165.0\" y=\"257\" width=\"20.0\" height=\"27\" style=\"fill:white;stroke:none\"><title>Weights from hidden1 to hidden2\n hidden2/kernel has shape (512, 512)\n hidden2/bias has shape (512,)</title></rect><line x1=\"175.0\" y1=\"284\" x2=\"175.0\" y2=\"257\" stroke=\"blue\" stroke-width=\"2\" marker-end=\"url(#arrow)\"><title>Weights from hidden1 to hidden2\n hidden2/kernel has shape (512, 512)\n hidden2/bias has shape (512,)</title></line><rect x=\"74.0\" y=\"284\" width=\"202\" height=\"102\" style=\"fill:none;stroke:blue;stroke-width:2\"/><image id=\"MNIST_hidden1_3\" class=\"MNIST_hidden1\" x=\"75.0\" y=\"285\" height=\"100\" width=\"200\" preserveAspectRatio=\"none\" href=\"data:image/gif;base64,R0lGODdhIAAQAIYAAAAAAAEBAQICAgMDAwQEBAUFBQYGBgcHBwgICAkJCQoKCgsLCwwMDA0NDQ4ODg8PDxAQEBERERMTExQUFBUVFRYWFhcXFxgYGBkZGRoaGhwcHB4eHh8fHyEhISMjIyQkJCUlJSYmJigoKCkpKSoqKisrKywsLC0tLS4uLi8vLzExMTIyMjMzMzQ0NDU1NTY2Njc3Nzg4ODo6Ojw8PD09PT4+Pj8/P0JCQkNDQ0REREVFRUdHR0lJSUtLS0xMTE1NTU5OTlFRUVJSUlNTU1RUVFVVVVZWVldXV1hYWFlZWVpaWltbW1xcXF1dXV9fX2FhYWJiYmNjY2RkZGhoaGlpaWpqamtra2xsbG1tbW5ubm9vb3FxcXJycnNzc3R0dHZ2dnl5eX19fX9/f4GBgYODg4SEhIWFhYaGhoqKiouLi4yMjI2NjY+Pj5CQkJGRkZWVlZaWlpmZmZqamqGhoaqqqq2tra6urrKysrOzs7i4uLu7u8PDw8nJyfb29vf39////ywAAAAAIAAQAEAI/wCV1ABAkGCGCWBOJADwBQCMNwAAJKgDoGISNgAArFGwJQeAERIA9PlDAgCAJFEAgADgBoDLMhOuAJg50wuAmwBoANBCB4BPAGE+AHgCoGgbAACaAFi6wQyAp0MeAADgQAaAqxwA2AFApAeArzqIUEACgAAIAACqzADQAQAADADiagBAdwgcAGoA6AVQpgcAAEsGNCkCoPAZAABakAAARY6EKgAiS9YDAMABADEGoAkD4EkAAAA8ABh9AIAVJgBAADABoHWeFQAqYACAAwAJABmMAACgQgcFAMABjABAJUyCBgD4GIACAIAPABAAACABAEASANjByADAHUCCNAAAIP8AQB7AAQcADojwAgBFAgA7ugAAMQfADQD48x/JsKWJEIAjALgAkAOABgAyQACIIYVCEgALAEwBUBGAhgYAPADYAGDDHQBfAACoAsDkSQBhwABQMyCCCAAAHmAB8AOAkxIAFgAA0AUAAAEArAAAEOIFADROBGwAAKACAABkAEylCqCFihBPUiAAAOBFiwwHphAAUBZADgAAOjAQA+QBADwA/ACgC4AFAAYOFgAAcGIPDwAAkpAA0CAAgCAAAMAAEIQFAAAWqrwBwMVGFgAAioQA0BmACwChAcQAUCAOAClFADQIAcA1ABgAZBdAAoADANwERgC4kgAAGADBhf9oc6EQAQDkYwAs7wKAAQACcwAEBAA7\"><title>Layer: hidden1 (hidden)\n shape = (512,)\n dropout = 0.2\n Keras class = Dense\n activation = relu</title></image><text x=\"280.0\" y=\"337.0\" font-family=\"monospace\" font-size=\"12\">hidden1</text><rect x=\"165.0\" y=\"387\" width=\"20.0\" height=\"27\" style=\"fill:white;stroke:none\"><title>Weights from input to hidden1\n hidden1/kernel has shape (784, 512)\n hidden1/bias has shape (512,)</title></rect><line x1=\"175.0\" y1=\"414\" x2=\"175.0\" y2=\"387\" stroke=\"blue\" stroke-width=\"2\" marker-end=\"url(#arrow)\"><title>Weights from input to hidden1\n hidden1/kernel has shape (784, 512)\n hidden1/bias has shape (512,)</title></line><rect x=\"74.0\" y=\"414\" width=\"202\" height=\"202\" style=\"fill:none;stroke:blue;stroke-width:2\"/><image id=\"MNIST_input_4\" class=\"MNIST_input\" x=\"75.0\" y=\"415\" height=\"200\" width=\"200\" preserveAspectRatio=\"none\" href=\"data:image/gif;base64,R0lGODdhHAAcAIcAAAoAAP//9jAAAP/8DP//z00AANcAAPMAAG4AAI0AAP+aAP9nAP/MAP//jbMAAP9yAP/pAP//T///c/8lAP9XAP+qAP//Mv82AP9EAP+/AP/WAP//vAAAAAAAAAAAAAAAAAAAAAAAAAAAAAAAAAAAAAAAAAAAAAAAAAAAAAAAAAAAAAAAAAAAAAAAAAAAAAAAAAAAAAAAAAAAAAAAAAAAAAAAAAAAAAAAAAAAAAAAAAAAAAAAAAAAAAAAAAAAAAAAAAAAAAAAAAAAAAAAAAAAAAAAAAAAAAAAAAAAAAAAAAAAAAAAAAAAAAAAAAAAAAAAAAAAAAAAAAAAAAAAAAAAAAAAAAAAAAAAAAAAAAAAAAAAAAAAAAAAAAAAAAAAAAAAAAAAAAAAAAAAAAAAAAAAAAAAAAAAAAAAAAAAAAAAAAAAAAAAAAAAAAAAAAAAAAAAAAAAAAAAAAAAAAAAAAAAAAAAAAAAAAAAAAAAAAAAAAAAAAAAAAAAAAAAAAAAAAAAAAAAAAAAAAAAAAAAAAAAAAAAAAAAAAAAAAAAAAAAAAAAAAAAAAAAAAAAAAAAAAAAAAAAAAAAAAAAAAAAAAAAAAAAAAAAAAAAAAAAAAAAAAAAAAAAAAAAAAAAAAAAAAAAAAAAAAAAAAAAAAAAAAAAAAAAAAAAAAAAAAAAAAAAAAAAAAAAAAAAAAAAAAAAAAAAAAAAAAAAAAAAAAAAAAAAAAAAAAAAAAAAAAAAAAAAAAAAAAAAAAAAAAAAAAAAAAAAAAAAAAAAAAAAAAAAAAAAAAAAAAAAAAAAAAAAAAAAAAAAAAAAAAAAAAAAAAAAAAAAAAAAAAAAAAAAAAAAAAAAAAAAAAAAAAAAAAAAAAAAAAAAAAAAAAAAAAAAAAAAAAAAAAAAAAAAAAAAAAAAAAAAAAAAAAAAAAAAAAAAAAAAAAAAAAAAAAAAAAAAAAAAAAAAAAAAAAAAAAAAAAAAAAAAAAAAAAAAAAAAAAAAAAAAAAAAAAAAAAAAAAAAAAAAAAAAACwAAAAAHAAcAEAI/wABCBxIsKDBgwcFSAjAkOEACAQIAJhIsaLFixUFHAgQYACAjyBDfnwQoGSEBQsEAFjJsqXLlzBjypwpYEAAAwBy6tzJs2fOAhckBBgawIIBAEiTKl3KtKnTpwUQHFDAIIBVqw0YBCAwwAGAr2DDghUAQEGAAwDSql3Ltm1bAwQCBMBQAIDdu3jz6rWbYAGEAAEiABhMuHBhAQwkBFgcYIABAQAiS55MubLly5gza97MufNkAaApPNBQIEMAAhQAqF7NGkCCDQFiy5Z9oHYCBABy696t20CFCQECWBAAAIECAMiTK1/O/EGAAQCiS59OvTp1BAQaVJgAoLv37+DDf1FPMCBAAAUFAKhfz769e/YB4jsAQL++/fv2EShoEKB/AIAQAAwkWNAggAIOIgRgGGCAAQARJU6kmIBBgwAZAxBYIADAR5AhRY4kWdLkSZQhAwIAOw==\"><title>Layer: input (input)\n shape = (784,)\n Keras class = Input</title></image><text x=\"280.0\" y=\"517.0\" font-family=\"monospace\" font-size=\"12\">input</text></svg>"
      }
     },
     "e9f015e99b7647e886a5e008626c1047": {
      "model_module": "jupyter-js-widgets",
      "model_module_version": "~2.1.4",
      "model_name": "LayoutModel",
      "state": {
       "_model_module_version": "~2.1.4",
       "_view_module_version": "~2.1.4",
       "width": "100%"
      }
     },
     "f11396508add4db6a51a0192c4412167": {
      "model_module": "jupyter-js-widgets",
      "model_module_version": "~2.1.4",
      "model_name": "IntSliderModel",
      "state": {
       "_model_module_version": "~2.1.4",
       "_view_module_version": "~2.1.4",
       "continuous_update": false,
       "description": "Dataset index",
       "layout": "IPY_MODEL_c55aafe8b82544c1b5a4e70a78c7c30e",
       "max": 99,
       "style": "IPY_MODEL_c35a702cae8a41e5b1a65cfdf3698729"
      }
     },
     "f4200f2f10104ab4ac9e1a01c5a41cfa": {
      "model_module": "jupyter-js-widgets",
      "model_module_version": "~2.1.4",
      "model_name": "LayoutModel",
      "state": {
       "_model_module_version": "~2.1.4",
       "_view_module_version": "~2.1.4"
      }
     },
     "f96e60da03664fd495438cdf3ce4dd4a": {
      "model_module": "jupyter-js-widgets",
      "model_module_version": "~2.1.4",
      "model_name": "ButtonModel",
      "state": {
       "_model_module_version": "~2.1.4",
       "_view_module_version": "~2.1.4",
       "icon": "fast-backward",
       "layout": "IPY_MODEL_aceb39269d2d4b0292f001d508738da0",
       "style": "IPY_MODEL_62c9b0594a134155a68608654884ab88"
      }
     },
     "fa6ebbffd407456faf421f76c1ef3078": {
      "model_module": "jupyter-js-widgets",
      "model_module_version": "~2.1.4",
      "model_name": "ButtonModel",
      "state": {
       "_model_module_version": "~2.1.4",
       "_view_module_version": "~2.1.4",
       "icon": "backward",
       "layout": "IPY_MODEL_c1e7dd91d9bb4c209a6b5b9d1bf5a86b",
       "style": "IPY_MODEL_0b8d5cbd241043cbafa0c71bc10e1d1a"
      }
     },
     "fb0040b6de394f53abf0207c2a27453b": {
      "model_module": "jupyter-js-widgets",
      "model_module_version": "~2.1.4",
      "model_name": "VBoxModel",
      "state": {
       "_model_module_version": "~2.1.4",
       "_view_module_version": "~2.1.4",
       "layout": "IPY_MODEL_70a1ad47136548c6bcf87faa805aa2e0"
      }
     },
     "fc47682752264b1593bc3e785d620ac4": {
      "model_module": "jupyter-js-widgets",
      "model_module_version": "~2.1.4",
      "model_name": "LayoutModel",
      "state": {
       "_model_module_version": "~2.1.4",
       "_view_module_version": "~2.1.4",
       "width": "100%"
      }
     },
     "ff09b64278f24efc894a31088e8f42d4": {
      "model_module": "jupyter-js-widgets",
      "model_module_version": "~2.1.4",
      "model_name": "LayoutModel",
      "state": {
       "_model_module_version": "~2.1.4",
       "_view_module_version": "~2.1.4",
       "width": "100%"
      }
     },
     "fff4a6e01c5e4664920382bc719eb907": {
      "model_module": "jupyter-js-widgets",
      "model_module_version": "~2.1.4",
      "model_name": "LayoutModel",
      "state": {
       "_model_module_version": "~2.1.4",
       "_view_module_version": "~2.1.4"
      }
     }
    },
    "version_major": 1,
    "version_minor": 0
   }
  }
 },
 "nbformat": 4,
 "nbformat_minor": 2
}
