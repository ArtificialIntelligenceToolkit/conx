{
 "cells": [
  {
   "cell_type": "code",
   "execution_count": 1,
   "metadata": {},
   "outputs": [
    {
     "name": "stderr",
     "output_type": "stream",
     "text": [
      "Using Theano backend.\n"
     ]
    }
   ],
   "source": [
    "from conx import Network, Layer"
   ]
  },
  {
   "cell_type": "code",
   "execution_count": 2,
   "metadata": {
    "collapsed": true
   },
   "outputs": [],
   "source": [
    "net = Network(\"MNIST\")\n",
    "net.add(Layer(\"input\", shape=784, vshape=(28, 28), colormap=\"hot\", minmax=(0,1)))\n",
    "net.add(Layer(\"hidden1\", shape=512, vshape=(16,32), activation='relu', dropout=0.2))\n",
    "net.add(Layer(\"hidden2\", shape=512, vshape=(16,32), activation='relu', dropout=0.2))\n",
    "net.add(Layer(\"output\", shape=10, activation='softmax'))\n",
    "\n",
    "net.connect('input', 'hidden1')\n",
    "net.connect('hidden1', 'hidden2')\n",
    "net.connect('hidden2', 'output')"
   ]
  },
  {
   "cell_type": "code",
   "execution_count": 3,
   "metadata": {},
   "outputs": [
    {
     "data": {
      "text/plain": [
       "<Network name='MNIST'>"
      ]
     },
     "execution_count": 3,
     "metadata": {},
     "output_type": "execute_result"
    }
   ],
   "source": [
    "net"
   ]
  },
  {
   "cell_type": "code",
   "execution_count": 4,
   "metadata": {
    "collapsed": true
   },
   "outputs": [],
   "source": [
    "net.compile(loss='mean_squared_error',\n",
    "            optimizer='sgd')"
   ]
  },
  {
   "cell_type": "code",
   "execution_count": 5,
   "metadata": {
    "collapsed": true
   },
   "outputs": [],
   "source": [
    "from keras.utils.vis_utils import model_to_dot\n",
    "from IPython.display import SVG"
   ]
  },
  {
   "cell_type": "code",
   "execution_count": 6,
   "metadata": {},
   "outputs": [
    {
     "data": {
      "image/svg+xml": [
       "<svg height=\"410pt\" viewBox=\"0.00 0.00 133.00 410.00\" width=\"133pt\" xmlns=\"http://www.w3.org/2000/svg\" xmlns:xlink=\"http://www.w3.org/1999/xlink\">\n",
       "<g class=\"graph\" id=\"graph0\" transform=\"scale(1 1) rotate(0) translate(4 406)\">\n",
       "<title>G</title>\n",
       "<polygon fill=\"white\" points=\"-4,4 -4,-406 129,-406 129,4 -4,4\" stroke=\"none\"/>\n",
       "<!-- 140228863753128 -->\n",
       "<g class=\"node\" id=\"node1\"><title>140228863753128</title>\n",
       "<polygon fill=\"none\" points=\"6.5,-365.5 6.5,-401.5 118.5,-401.5 118.5,-365.5 6.5,-365.5\" stroke=\"black\"/>\n",
       "<text font-family=\"Times,serif\" font-size=\"14.00\" text-anchor=\"middle\" x=\"62.5\" y=\"-379.8\">input: InputLayer</text>\n",
       "</g>\n",
       "<!-- 140228863853568 -->\n",
       "<g class=\"node\" id=\"node2\"><title>140228863853568</title>\n",
       "<polygon fill=\"none\" points=\"12,-292.5 12,-328.5 113,-328.5 113,-292.5 12,-292.5\" stroke=\"black\"/>\n",
       "<text font-family=\"Times,serif\" font-size=\"14.00\" text-anchor=\"middle\" x=\"62.5\" y=\"-306.8\">hidden1: Dense</text>\n",
       "</g>\n",
       "<!-- 140228863753128&#45;&gt;140228863853568 -->\n",
       "<g class=\"edge\" id=\"edge1\"><title>140228863753128-&gt;140228863853568</title>\n",
       "<path d=\"M62.5,-365.313C62.5,-357.289 62.5,-347.547 62.5,-338.569\" fill=\"none\" stroke=\"black\"/>\n",
       "<polygon fill=\"black\" points=\"66.0001,-338.529 62.5,-328.529 59.0001,-338.529 66.0001,-338.529\" stroke=\"black\"/>\n",
       "</g>\n",
       "<!-- 140228863853904 -->\n",
       "<g class=\"node\" id=\"node3\"><title>140228863853904</title>\n",
       "<polygon fill=\"none\" points=\"-7.10543e-15,-219.5 -7.10543e-15,-255.5 125,-255.5 125,-219.5 -7.10543e-15,-219.5\" stroke=\"black\"/>\n",
       "<text font-family=\"Times,serif\" font-size=\"14.00\" text-anchor=\"middle\" x=\"62.5\" y=\"-233.8\">dropout_1: Dropout</text>\n",
       "</g>\n",
       "<!-- 140228863853568&#45;&gt;140228863853904 -->\n",
       "<g class=\"edge\" id=\"edge2\"><title>140228863853568-&gt;140228863853904</title>\n",
       "<path d=\"M62.5,-292.313C62.5,-284.289 62.5,-274.547 62.5,-265.569\" fill=\"none\" stroke=\"black\"/>\n",
       "<polygon fill=\"black\" points=\"66.0001,-265.529 62.5,-255.529 59.0001,-265.529 66.0001,-265.529\" stroke=\"black\"/>\n",
       "</g>\n",
       "<!-- 140228863854128 -->\n",
       "<g class=\"node\" id=\"node4\"><title>140228863854128</title>\n",
       "<polygon fill=\"none\" points=\"12,-146.5 12,-182.5 113,-182.5 113,-146.5 12,-146.5\" stroke=\"black\"/>\n",
       "<text font-family=\"Times,serif\" font-size=\"14.00\" text-anchor=\"middle\" x=\"62.5\" y=\"-160.8\">hidden2: Dense</text>\n",
       "</g>\n",
       "<!-- 140228863853904&#45;&gt;140228863854128 -->\n",
       "<g class=\"edge\" id=\"edge3\"><title>140228863853904-&gt;140228863854128</title>\n",
       "<path d=\"M62.5,-219.313C62.5,-211.289 62.5,-201.547 62.5,-192.569\" fill=\"none\" stroke=\"black\"/>\n",
       "<polygon fill=\"black\" points=\"66.0001,-192.529 62.5,-182.529 59.0001,-192.529 66.0001,-192.529\" stroke=\"black\"/>\n",
       "</g>\n",
       "<!-- 140228841203808 -->\n",
       "<g class=\"node\" id=\"node5\"><title>140228841203808</title>\n",
       "<polygon fill=\"none\" points=\"-7.10543e-15,-73.5 -7.10543e-15,-109.5 125,-109.5 125,-73.5 -7.10543e-15,-73.5\" stroke=\"black\"/>\n",
       "<text font-family=\"Times,serif\" font-size=\"14.00\" text-anchor=\"middle\" x=\"62.5\" y=\"-87.8\">dropout_2: Dropout</text>\n",
       "</g>\n",
       "<!-- 140228863854128&#45;&gt;140228841203808 -->\n",
       "<g class=\"edge\" id=\"edge4\"><title>140228863854128-&gt;140228841203808</title>\n",
       "<path d=\"M62.5,-146.313C62.5,-138.289 62.5,-128.547 62.5,-119.569\" fill=\"none\" stroke=\"black\"/>\n",
       "<polygon fill=\"black\" points=\"66.0001,-119.529 62.5,-109.529 59.0001,-119.529 66.0001,-119.529\" stroke=\"black\"/>\n",
       "</g>\n",
       "<!-- 140228841203920 -->\n",
       "<g class=\"node\" id=\"node6\"><title>140228841203920</title>\n",
       "<polygon fill=\"none\" points=\"16.5,-0.5 16.5,-36.5 108.5,-36.5 108.5,-0.5 16.5,-0.5\" stroke=\"black\"/>\n",
       "<text font-family=\"Times,serif\" font-size=\"14.00\" text-anchor=\"middle\" x=\"62.5\" y=\"-14.8\">output: Dense</text>\n",
       "</g>\n",
       "<!-- 140228841203808&#45;&gt;140228841203920 -->\n",
       "<g class=\"edge\" id=\"edge5\"><title>140228841203808-&gt;140228841203920</title>\n",
       "<path d=\"M62.5,-73.3129C62.5,-65.2895 62.5,-55.5475 62.5,-46.5691\" fill=\"none\" stroke=\"black\"/>\n",
       "<polygon fill=\"black\" points=\"66.0001,-46.5288 62.5,-36.5288 59.0001,-46.5289 66.0001,-46.5288\" stroke=\"black\"/>\n",
       "</g>\n",
       "</g>\n",
       "</svg>"
      ],
      "text/plain": [
       "<IPython.core.display.SVG object>"
      ]
     },
     "execution_count": 6,
     "metadata": {},
     "output_type": "execute_result"
    }
   ],
   "source": [
    "SVG(model_to_dot(net.model).create_svg())"
   ]
  },
  {
   "cell_type": "code",
   "execution_count": 7,
   "metadata": {},
   "outputs": [
    {
     "name": "stdout",
     "output_type": "stream",
     "text": [
      "Loading mnist dataset...\n",
      "70000 train inputs, 0 test inputs\n",
      "Set 70000 inputs and targets\n",
      "Input data shape: (28, 28), range: (0, 255), type: uint8\n",
      "No targets\n",
      "Inputs rescaled to float32 values in the range 0 - 1\n",
      "Shuffled all 70000 inputs\n",
      "Input data shape: (784,), range: (0.0, 1.0), type: float32\n",
      "Split dataset into:\n",
      "   100 train inputs\n",
      "   69900 test inputs\n",
      "Generated 70000 target vectors from labels\n",
      "100 train inputs, 69900 test inputs\n",
      "Set 70000 inputs and targets\n",
      "Input data shape: (784,), range: (0.0, 1.0), type: float32\n",
      "Target data shape: (10,), range: (0, 0), type: uint8\n"
     ]
    }
   ],
   "source": [
    "net.load_keras_dataset('mnist')\n",
    "net.rescale_inputs((0,255), (0,1), 'float32')\n",
    "net.shuffle_dataset()\n",
    "net.reshape_inputs(784)\n",
    "net.split_dataset(100)\n",
    "net.set_targets_to_categories(10)\n",
    "net.summary_dataset()"
   ]
  },
  {
   "cell_type": "code",
   "execution_count": 8,
   "metadata": {},
   "outputs": [
    {
     "data": {
      "application/javascript": [
       "\n",
       "require(['base/js/namespace'], function(Jupyter) {\n",
       "    Jupyter.notebook.kernel.comm_manager.register_target('conx_svg_control', function(comm, msg) {\n",
       "        comm.on_msg(function(msg) {\n",
       "            var data = msg[\"content\"][\"data\"];\n",
       "            var images = document.getElementsByClassName(data[\"class\"]);\n",
       "            for (var i = 0; i < images.length; i++) {\n",
       "                images[i].setAttributeNS(null, \"href\", data[\"href\"]);\n",
       "            }\n",
       "        });\n",
       "    });\n",
       "});\n"
      ],
      "text/plain": [
       "<IPython.core.display.Javascript object>"
      ]
     },
     "metadata": {},
     "output_type": "display_data"
    },
    {
     "data": {
      "image/svg+xml": [
       "\n",
       "        <svg id='MNIST' xmlns='http://www.w3.org/2000/svg' width=\"300\" height=\"645\">\n",
       "    <defs>\n",
       "        <marker id=\"arrow\" markerWidth=\"10\" markerHeight=\"10\" refX=\"9\" refY=\"3\" orient=\"auto\" markerUnits=\"strokeWidth\">\n",
       "          <path d=\"M0,0 L0,6 L9,3 z\" fill=\"blue\" />\n",
       "        </marker>\n",
       "    </defs>\n",
       "<rect x=\"49.0\" y=\"24\" width=\"202\" height=\"22\" style=\"fill:none;stroke:blue;stroke-width:2\"/><image id=\"MNIST_output_1\" class=\"MNIST_output\" x=\"50.0\" y=\"25\" height=\"20\" width=\"200\" href=\"data:image/gif;base64,R0lGODdhyAAUAIMAAA0NDRMTExQUFBgYGBkZGRsbGxwcHB0dHScnJwAAAAAAAAAAAAAAAAAAAAAAAAAAACwAAAAAyAAUAEAI/wALCBxIsKDBgwgJGljIsKFDhwIiSpxIkSKBixgzatR4oKPHjyBBAhhJsqRJkwhSqlzJkuWAlzBjypQZoKbNmzhxFtjJs6fPn0CD9jRAtKjRo0cFKF3KtGlTAlCjSp069YDVq1izZgXAtavXr18RiB1LtmzZAWjTql27NoDbt3Djxi1At67du3jz6rVroK/fv4ABCxhMuLBhwwQSK17MmPGBx5AjS5YMoLLly5gxI9jMubNnzwNCix5NmnSA06hTq1ZdoLXr17Bjy5792oDt27hz5xbAu7fv378JCB9OvHjxA8iTK1++HIDz59CjR0dAvbr169cHaN/OvXv3AODDi/8fP76A+fPo06tfzx69gffw48uXL6C+/fv48RPYz7+/f4AEBAo8UNDgQYQIASxk2NChQwQRJU6kSHHARYwZNWoM0NHjR5AgC4wkWdLkSZQpSxpg2dLly5cCZM6kWbMmAZw5de7cecDnT6BBgwIgWtTo0aMIlC5l2rTpAKhRpU6dGsDqVaxZsxbg2tXrV7BhxXo1UNbsWbRoBaxl29atWwJx5c6lS/fAXbx59eoF0NfvX8CAEQwmXNiw4QGJFS9mzDjAY8iRJUsuUNnyZcyZNW++bMDzZ9ChQwsgXdr06dMEVK9m3br1AdixZc+eDcD2bdy5cyPg3dv3798DhA8nXrz/eADkyZUvX17A+XPo0aVPpw7dwHXs2bVrF9Dd+3fw4AmMJ1/evPkD6dWvZ88ewHv48eXLR1Df/n38+Afs59/fP8ABAgUGKGjwIEKEBRYybOjwIcSIDQ1QrGjx4kUBGjdy7NiRAMiQIkeOPGDyJMqUKQGwbOny5UsEMmfSrFlzAM6cOnfuDODzJ9CgQQsQLWr0KNKkSo0aaOr0KVSoAqZSrWrVKoGsWrdy5XrgK9iwYsUCKGv2LFq0CNaybevW7YC4cufSpRvgLt68evUW6Ov3L+DAggf/NWD4MOLEiQUwbuz48WMCkidTrlz5AObMmjdvBuD5M+jQoRGQLm369OkB/6pXs27dOgDs2LJnzy5g+zbu3Lp388Zt4Dfw4MKFCyhu/Dhy5ASWM2/u3PmB6NKnU6cO4Dr27Nq1I+ju/Tt48APGky9v3nyA9OrXs2df4D38+PLn068f3wD+/Pr37xfgH6AAgQMJFhRIAGFChQsXHnD4EGLEiAAoVrR48SICjRs5duw4AGRIkSNHBjB5EmXKlAVYtnT5EmZMmS4N1LR5EydOATt59vTpk0BQoUOJEj1wFGlSpUoBNHX6FCpUBFOpVrVqdUBWrVu5cg3wFWxYsWILlDV7Fm1atWvPGnD7Fm7cuALo1rV79y4BvXv59u17AHBgwYMHAzB8GHHixAgYN/92/PjxAMmTKVeuHABzZs2bNxfw/Bl0aNGjSYM2cBp1atWqBbR2/Ro2bAKzade2bftAbt27efMG8Bt4cOHCERQ3fhw58gHLmTd37jxAdOnTqVMvcB17du3buXfPbgB8ePHjxwswfx59+vQE2Ld3//79Afnz6devDwB/fv379yPwDxCBwIEECwocgDChwoULAzh8CDFixAIUK1q8iDGjRosGOnr8CBKkgJEkS5o0SSClypUsWR54CTOmTJkAatq8iRMngp08e/r0OSCo0KFEiQY4ijSpUqUFmjp9CjWq1KlPDVi9ijVrVgFcu3r9+pWA2LFky5Y9gDat2rVrAbh9CzcYblwEdOvavXt3gN69fPv2DQA4sODBgwMCADs=\"><title>Layer: output (output)\n",
       " shape = (10,)\n",
       " Keras class = Dense\n",
       " activation = softmax</title></image><text x=\"255.0\" y=\"37.0\" font-family=\"Verdana\" font-size=\"12\">output</text><rect x=\"140.0\" y=\"47\" width=\"20.0\" height=\"47\" style=\"fill:white;stroke:none\"><title>Weights from hidden2 to output\n",
       " output/kernel has shape (512, 10)\n",
       " output/bias has shape (10,)</title></rect><line x1=\"150.0\" y1=\"94\" x2=\"150.0\" y2=\"47\" stroke=\"blue\" stroke-width=\"2\" marker-end=\"url(#arrow)\"><title>Weights from hidden2 to output\n",
       " output/kernel has shape (512, 10)\n",
       " output/bias has shape (10,)</title></line><rect x=\"49.0\" y=\"94\" width=\"202\" height=\"102\" style=\"fill:none;stroke:blue;stroke-width:2\"/><image id=\"MNIST_hidden2_1\" class=\"MNIST_hidden2\" x=\"50.0\" y=\"95\" height=\"100\" width=\"200\" href=\"data:image/gif;base64,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\"><title>Layer: hidden2 (hidden)\n",
       " shape = (512,)\n",
       " dropout = 0.2\n",
       " Keras class = Dense\n",
       " activation = relu</title></image><text x=\"255.0\" y=\"147.0\" font-family=\"Verdana\" font-size=\"12\">hidden2</text><rect x=\"140.0\" y=\"197\" width=\"20.0\" height=\"47\" style=\"fill:white;stroke:none\"><title>Weights from hidden1 to hidden2\n",
       " hidden2/kernel has shape (512, 512)\n",
       " hidden2/bias has shape (512,)</title></rect><line x1=\"150.0\" y1=\"244\" x2=\"150.0\" y2=\"197\" stroke=\"blue\" stroke-width=\"2\" marker-end=\"url(#arrow)\"><title>Weights from hidden1 to hidden2\n",
       " hidden2/kernel has shape (512, 512)\n",
       " hidden2/bias has shape (512,)</title></line><rect x=\"49.0\" y=\"244\" width=\"202\" height=\"102\" style=\"fill:none;stroke:blue;stroke-width:2\"/><image id=\"MNIST_hidden1_1\" class=\"MNIST_hidden1\" x=\"50.0\" y=\"245\" height=\"100\" width=\"200\" href=\"data:image/gif;base64,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\"><title>Layer: hidden1 (hidden)\n",
       " shape = (512,)\n",
       " dropout = 0.2\n",
       " Keras class = Dense\n",
       " activation = relu</title></image><text x=\"255.0\" y=\"297.0\" font-family=\"Verdana\" font-size=\"12\">hidden1</text><rect x=\"140.0\" y=\"347\" width=\"20.0\" height=\"47\" style=\"fill:white;stroke:none\"><title>Weights from input to hidden1\n",
       " hidden1/kernel has shape (784, 512)\n",
       " hidden1/bias has shape (512,)</title></rect><line x1=\"150.0\" y1=\"394\" x2=\"150.0\" y2=\"347\" stroke=\"blue\" stroke-width=\"2\" marker-end=\"url(#arrow)\"><title>Weights from input to hidden1\n",
       " hidden1/kernel has shape (784, 512)\n",
       " hidden1/bias has shape (512,)</title></line><rect x=\"49.0\" y=\"394\" width=\"202\" height=\"202\" style=\"fill:none;stroke:blue;stroke-width:2\"/><image id=\"MNIST_input_1\" class=\"MNIST_input\" x=\"50.0\" y=\"395\" height=\"200\" width=\"200\" href=\"data:image/gif;base64,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\"><title>Layer: input (input)\n",
       " shape = (784,)\n",
       " Keras class = Input</title></image><text x=\"255.0\" y=\"497.0\" font-family=\"Verdana\" font-size=\"12\">input</text></svg>"
      ],
      "text/plain": [
       "<Network name='MNIST'>"
      ]
     },
     "execution_count": 8,
     "metadata": {},
     "output_type": "execute_result"
    }
   ],
   "source": [
    "net"
   ]
  },
  {
   "cell_type": "code",
   "execution_count": 9,
   "metadata": {},
   "outputs": [
    {
     "data": {
      "text/plain": [
       "[0.10196783,\n",
       " 0.12786853,\n",
       " 0.10001326,\n",
       " 0.091457188,\n",
       " 0.094198786,\n",
       " 0.11616131,\n",
       " 0.056512345,\n",
       " 0.12363859,\n",
       " 0.10668452,\n",
       " 0.081497625]"
      ]
     },
     "execution_count": 9,
     "metadata": {},
     "output_type": "execute_result"
    }
   ],
   "source": [
    "net.propagate(net.get_input(10))"
   ]
  },
  {
   "cell_type": "code",
   "execution_count": 11,
   "metadata": {},
   "outputs": [
    {
     "name": "stdout",
     "output_type": "stream",
     "text": [
      "Warning: report_rate is ignored when in epoch mode\n",
      "Training...\n",
      "Epoch 1/100\n",
      "100/100 [==============================] - 0s - loss: 0.0915 - acc: 0.1300\n",
      "Epoch 2/100\n",
      "100/100 [==============================] - 0s - loss: 0.0911 - acc: 0.1600\n",
      "Epoch 3/100\n",
      "100/100 [==============================] - 0s - loss: 0.0916 - acc: 0.1200\n",
      "Epoch 4/100\n",
      "100/100 [==============================] - 0s - loss: 0.0904 - acc: 0.1400\n",
      "Epoch 5/100\n",
      "100/100 [==============================] - 0s - loss: 0.0908 - acc: 0.1700\n",
      "Epoch 6/100\n",
      "100/100 [==============================] - 0s - loss: 0.0909 - acc: 0.1400\n",
      "Epoch 7/100\n",
      "100/100 [==============================] - 0s - loss: 0.0907 - acc: 0.1200\n",
      "Epoch 8/100\n",
      "100/100 [==============================] - 0s - loss: 0.0908 - acc: 0.1100\n",
      "Epoch 9/100\n",
      "100/100 [==============================] - 0s - loss: 0.0904 - acc: 0.1300\n",
      "Epoch 10/100\n",
      "100/100 [==============================] - 0s - loss: 0.0911 - acc: 0.1600\n",
      "Epoch 11/100\n",
      "100/100 [==============================] - 0s - loss: 0.0915 - acc: 0.1500\n",
      "Epoch 12/100\n",
      "100/100 [==============================] - 0s - loss: 0.0908 - acc: 0.1500\n",
      "Epoch 13/100\n",
      "100/100 [==============================] - 0s - loss: 0.0909 - acc: 0.1400\n",
      "Epoch 14/100\n",
      "100/100 [==============================] - 0s - loss: 0.0908 - acc: 0.1600\n",
      "Epoch 15/100\n",
      "100/100 [==============================] - 0s - loss: 0.0904 - acc: 0.1800\n",
      "Epoch 16/100\n",
      "100/100 [==============================] - 0s - loss: 0.0910 - acc: 0.1500\n",
      "Epoch 17/100\n",
      "100/100 [==============================] - 0s - loss: 0.0907 - acc: 0.2100\n",
      "Epoch 18/100\n",
      "100/100 [==============================] - 0s - loss: 0.0909 - acc: 0.1500\n",
      "Epoch 19/100\n",
      "100/100 [==============================] - 0s - loss: 0.0907 - acc: 0.1400\n",
      "Epoch 20/100\n",
      "100/100 [==============================] - 0s - loss: 0.0908 - acc: 0.1600\n",
      "Epoch 21/100\n",
      "100/100 [==============================] - 0s - loss: 0.0905 - acc: 0.1200\n",
      "Epoch 22/100\n",
      "100/100 [==============================] - 0s - loss: 0.0907 - acc: 0.1400\n",
      "Epoch 23/100\n",
      "100/100 [==============================] - 0s - loss: 0.0911 - acc: 0.1100\n",
      "Epoch 24/100\n",
      "100/100 [==============================] - 0s - loss: 0.0903 - acc: 0.1700\n",
      "Epoch 25/100\n",
      "100/100 [==============================] - 0s - loss: 0.0903 - acc: 0.1600\n",
      "Epoch 26/100\n",
      "100/100 [==============================] - 0s - loss: 0.0910 - acc: 0.1400\n",
      "Epoch 27/100\n",
      "100/100 [==============================] - 0s - loss: 0.0907 - acc: 0.1700\n",
      "Epoch 28/100\n",
      "100/100 [==============================] - 0s - loss: 0.0901 - acc: 0.1500\n",
      "Epoch 29/100\n",
      "100/100 [==============================] - 0s - loss: 0.0911 - acc: 0.0900\n",
      "Epoch 30/100\n",
      "100/100 [==============================] - 0s - loss: 0.0912 - acc: 0.1100\n",
      "Epoch 31/100\n",
      "100/100 [==============================] - 0s - loss: 0.0903 - acc: 0.1900\n",
      "Epoch 32/100\n",
      "100/100 [==============================] - 0s - loss: 0.0903 - acc: 0.1200\n",
      "Epoch 33/100\n",
      "100/100 [==============================] - 0s - loss: 0.0906 - acc: 0.1800\n",
      "Epoch 34/100\n",
      "100/100 [==============================] - 0s - loss: 0.0908 - acc: 0.1500\n",
      "Epoch 35/100\n",
      "100/100 [==============================] - 0s - loss: 0.0908 - acc: 0.1300\n",
      "Epoch 36/100\n",
      "100/100 [==============================] - 0s - loss: 0.0906 - acc: 0.1400\n",
      "Epoch 37/100\n",
      "100/100 [==============================] - 0s - loss: 0.0903 - acc: 0.1800\n",
      "Epoch 38/100\n",
      "100/100 [==============================] - 0s - loss: 0.0902 - acc: 0.1700\n",
      "Epoch 39/100\n",
      "100/100 [==============================] - 0s - loss: 0.0909 - acc: 0.1500\n",
      "Epoch 40/100\n",
      "100/100 [==============================] - 0s - loss: 0.0905 - acc: 0.1300\n",
      "Epoch 41/100\n",
      "100/100 [==============================] - 0s - loss: 0.0911 - acc: 0.1700\n",
      "Epoch 42/100\n",
      "100/100 [==============================] - 0s - loss: 0.0897 - acc: 0.2400\n",
      "Epoch 43/100\n",
      "100/100 [==============================] - 0s - loss: 0.0908 - acc: 0.1400\n",
      "Epoch 44/100\n",
      "100/100 [==============================] - 0s - loss: 0.0902 - acc: 0.1400\n",
      "Epoch 45/100\n",
      "100/100 [==============================] - 0s - loss: 0.0902 - acc: 0.1200\n",
      "Epoch 46/100\n",
      "100/100 [==============================] - 0s - loss: 0.0906 - acc: 0.1300\n",
      "Epoch 47/100\n",
      "100/100 [==============================] - 0s - loss: 0.0907 - acc: 0.1200\n",
      "Epoch 48/100\n",
      "100/100 [==============================] - 0s - loss: 0.0905 - acc: 0.1600\n",
      "Epoch 49/100\n",
      "100/100 [==============================] - 0s - loss: 0.0912 - acc: 0.1600\n",
      "Epoch 50/100\n",
      "100/100 [==============================] - 0s - loss: 0.0905 - acc: 0.1500\n",
      "Epoch 51/100\n",
      "100/100 [==============================] - 0s - loss: 0.0910 - acc: 0.1200\n",
      "Epoch 52/100\n",
      "100/100 [==============================] - 0s - loss: 0.0901 - acc: 0.1900\n",
      "Epoch 53/100\n",
      "100/100 [==============================] - 0s - loss: 0.0905 - acc: 0.1700\n",
      "Epoch 54/100\n",
      "100/100 [==============================] - 0s - loss: 0.0906 - acc: 0.1300\n",
      "Epoch 55/100\n",
      "100/100 [==============================] - 0s - loss: 0.0908 - acc: 0.1300\n",
      "Epoch 56/100\n",
      "100/100 [==============================] - 0s - loss: 0.0905 - acc: 0.1700\n",
      "Epoch 57/100\n",
      "100/100 [==============================] - 0s - loss: 0.0908 - acc: 0.1300\n",
      "Epoch 58/100\n",
      "100/100 [==============================] - 0s - loss: 0.0900 - acc: 0.1500\n",
      "Epoch 59/100\n",
      "100/100 [==============================] - 0s - loss: 0.0903 - acc: 0.1700\n",
      "Epoch 60/100\n",
      "100/100 [==============================] - 0s - loss: 0.0905 - acc: 0.1200\n",
      "Epoch 61/100\n",
      "100/100 [==============================] - 0s - loss: 0.0905 - acc: 0.1500\n",
      "Epoch 62/100\n",
      "100/100 [==============================] - 0s - loss: 0.0902 - acc: 0.1600\n",
      "Epoch 63/100\n",
      "100/100 [==============================] - 0s - loss: 0.0900 - acc: 0.1700\n",
      "Epoch 64/100\n",
      "100/100 [==============================] - 0s - loss: 0.0904 - acc: 0.2000\n",
      "Epoch 65/100\n",
      "100/100 [==============================] - 0s - loss: 0.0906 - acc: 0.2000\n",
      "Epoch 66/100\n",
      "100/100 [==============================] - 0s - loss: 0.0905 - acc: 0.1600\n",
      "Epoch 67/100\n",
      "100/100 [==============================] - 0s - loss: 0.0903 - acc: 0.1400\n",
      "Epoch 68/100\n",
      "100/100 [==============================] - 0s - loss: 0.0901 - acc: 0.1900\n",
      "Epoch 69/100\n",
      "100/100 [==============================] - 0s - loss: 0.0908 - acc: 0.1400\n",
      "Epoch 70/100\n",
      "100/100 [==============================] - 0s - loss: 0.0903 - acc: 0.2100\n",
      "Epoch 71/100\n",
      "100/100 [==============================] - 0s - loss: 0.0897 - acc: 0.1900\n",
      "Epoch 72/100\n",
      "100/100 [==============================] - 0s - loss: 0.0908 - acc: 0.1600\n",
      "Epoch 73/100\n",
      "100/100 [==============================] - 0s - loss: 0.0896 - acc: 0.2000\n",
      "Epoch 74/100\n",
      "100/100 [==============================] - 0s - loss: 0.0899 - acc: 0.2000\n",
      "Epoch 75/100\n",
      "100/100 [==============================] - 0s - loss: 0.0914 - acc: 0.1800\n",
      "Epoch 76/100\n",
      "100/100 [==============================] - 0s - loss: 0.0899 - acc: 0.1900\n",
      "Epoch 77/100\n",
      "100/100 [==============================] - 0s - loss: 0.0902 - acc: 0.1700\n",
      "Epoch 78/100\n",
      "100/100 [==============================] - 0s - loss: 0.0901 - acc: 0.1900\n",
      "Epoch 79/100\n",
      "100/100 [==============================] - 0s - loss: 0.0905 - acc: 0.1700\n",
      "Epoch 80/100\n",
      "100/100 [==============================] - 0s - loss: 0.0903 - acc: 0.1700\n",
      "Epoch 81/100\n",
      "100/100 [==============================] - 0s - loss: 0.0899 - acc: 0.1900\n",
      "Epoch 82/100\n",
      "100/100 [==============================] - 0s - loss: 0.0905 - acc: 0.1400\n",
      "Epoch 83/100\n",
      "100/100 [==============================] - 0s - loss: 0.0902 - acc: 0.1500\n",
      "Epoch 84/100\n",
      "100/100 [==============================] - 0s - loss: 0.0902 - acc: 0.1500\n",
      "Epoch 85/100\n",
      "100/100 [==============================] - 0s - loss: 0.0904 - acc: 0.1900\n",
      "Epoch 86/100\n",
      "100/100 [==============================] - 0s - loss: 0.0905 - acc: 0.1600\n",
      "Epoch 87/100\n",
      "100/100 [==============================] - 0s - loss: 0.0906 - acc: 0.1500\n",
      "Epoch 88/100\n",
      "100/100 [==============================] - 0s - loss: 0.0908 - acc: 0.1100\n",
      "Epoch 89/100\n",
      "100/100 [==============================] - 0s - loss: 0.0901 - acc: 0.1800\n",
      "Epoch 90/100\n",
      "100/100 [==============================] - 0s - loss: 0.0903 - acc: 0.2100\n",
      "Epoch 91/100\n",
      "100/100 [==============================] - 0s - loss: 0.0903 - acc: 0.1300\n",
      "Epoch 92/100\n",
      "100/100 [==============================] - 0s - loss: 0.0904 - acc: 0.1400\n",
      "Epoch 93/100\n"
     ]
    },
    {
     "name": "stdout",
     "output_type": "stream",
     "text": [
      "100/100 [==============================] - 0s - loss: 0.0902 - acc: 0.1700\n",
      "Epoch 94/100\n",
      "100/100 [==============================] - 0s - loss: 0.0900 - acc: 0.1600\n",
      "Epoch 95/100\n",
      "100/100 [==============================] - 0s - loss: 0.0900 - acc: 0.2000\n",
      "Epoch 96/100\n",
      "100/100 [==============================] - 0s - loss: 0.0905 - acc: 0.1900\n",
      "Epoch 97/100\n",
      "100/100 [==============================] - 0s - loss: 0.0905 - acc: 0.1200\n",
      "Epoch 98/100\n",
      "100/100 [==============================] - 0s - loss: 0.0900 - acc: 0.1700\n",
      "Epoch 99/100\n",
      "100/100 [==============================] - 0s - loss: 0.0901 - acc: 0.1500\n",
      "Epoch 100/100\n",
      "100/100 [==============================] - 0s - loss: 0.0903 - acc: 0.1500\n",
      "========================================================================\n",
      "Epoch #  110 | train loss 0.09147 | train acc 0.13000 | validate% 0.00000\n"
     ]
    }
   ],
   "source": [
    "net.train(100, report_rate=5)\n",
    "#net.test()"
   ]
  },
  {
   "cell_type": "code",
   "execution_count": 12,
   "metadata": {
    "collapsed": true
   },
   "outputs": [],
   "source": [
    "import time\n",
    "for i in range(10):\n",
    "    net.propagate(net.get_input(i))\n",
    "    time.sleep(1)"
   ]
  },
  {
   "cell_type": "code",
   "execution_count": null,
   "metadata": {
    "collapsed": true
   },
   "outputs": [],
   "source": []
  }
 ],
 "metadata": {
  "kernelspec": {
   "display_name": "Python 3",
   "language": "python",
   "name": "python3"
  },
  "language_info": {
   "codemirror_mode": {
    "name": "ipython",
    "version": 3
   },
   "file_extension": ".py",
   "mimetype": "text/x-python",
   "name": "python",
   "nbconvert_exporter": "python",
   "pygments_lexer": "ipython3",
   "version": "3.5.3"
  }
 },
 "nbformat": 4,
 "nbformat_minor": 2
}
