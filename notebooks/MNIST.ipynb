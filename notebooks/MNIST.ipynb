{
 "cells": [
  {
   "cell_type": "markdown",
   "metadata": {},
   "source": [
    "# MNIST"
   ]
  },
  {
   "cell_type": "code",
   "execution_count": 1,
   "metadata": {},
   "outputs": [
    {
     "name": "stderr",
     "output_type": "stream",
     "text": [
      "Using Theano backend.\n"
     ]
    }
   ],
   "source": [
    "from conx import Network, Layer, Conv2DLayer, MaxPool2DLayer, FlattenLayer"
   ]
  },
  {
   "cell_type": "code",
   "execution_count": 2,
   "metadata": {
    "collapsed": true
   },
   "outputs": [],
   "source": [
    "net = Network(\"MNIST\")\n",
    "net.add(Layer(\"input\", shape=784, vshape=(28, 28), colormap=\"hot\", minmax=(0,1)))\n",
    "net.add(Layer(\"hidden1\", shape=512, vshape=(16,32), activation='relu', dropout=0.2))\n",
    "net.add(Layer(\"hidden2\", shape=512, vshape=(16,32), activation='relu', dropout=0.2))\n",
    "net.add(Layer(\"output\", shape=10, activation='softmax'))\n",
    "\n",
    "net.connect('input', 'hidden1')\n",
    "net.connect('hidden1', 'hidden2')\n",
    "net.connect('hidden2', 'output')"
   ]
  },
  {
   "cell_type": "code",
   "execution_count": 3,
   "metadata": {
    "collapsed": true
   },
   "outputs": [],
   "source": [
    "net.compile(loss='mean_squared_error',\n",
    "            optimizer='sgd')"
   ]
  },
  {
   "cell_type": "code",
   "execution_count": 4,
   "metadata": {
    "collapsed": true
   },
   "outputs": [],
   "source": [
    "from keras.utils.vis_utils import model_to_dot\n",
    "from IPython.display import SVG"
   ]
  },
  {
   "cell_type": "code",
   "execution_count": 5,
   "metadata": {},
   "outputs": [
    {
     "data": {
      "image/svg+xml": [
       "<svg height=\"410pt\" viewBox=\"0.00 0.00 133.00 410.00\" width=\"133pt\" xmlns=\"http://www.w3.org/2000/svg\" xmlns:xlink=\"http://www.w3.org/1999/xlink\">\n",
       "<g class=\"graph\" id=\"graph0\" transform=\"scale(1 1) rotate(0) translate(4 406)\">\n",
       "<title>G</title>\n",
       "<polygon fill=\"white\" points=\"-4,4 -4,-406 129,-406 129,4 -4,4\" stroke=\"none\"/>\n",
       "<!-- 140350007901320 -->\n",
       "<g class=\"node\" id=\"node1\"><title>140350007901320</title>\n",
       "<polygon fill=\"none\" points=\"6.5,-0.5 6.5,-36.5 118.5,-36.5 118.5,-0.5 6.5,-0.5\" stroke=\"black\"/>\n",
       "<text font-family=\"Times,serif\" font-size=\"14.00\" text-anchor=\"middle\" x=\"62.5\" y=\"-14.8\">input: InputLayer</text>\n",
       "</g>\n",
       "<!-- 140349159288168 -->\n",
       "<g class=\"node\" id=\"node2\"><title>140349159288168</title>\n",
       "<polygon fill=\"none\" points=\"12,-73.5 12,-109.5 113,-109.5 113,-73.5 12,-73.5\" stroke=\"black\"/>\n",
       "<text font-family=\"Times,serif\" font-size=\"14.00\" text-anchor=\"middle\" x=\"62.5\" y=\"-87.8\">hidden1: Dense</text>\n",
       "</g>\n",
       "<!-- 140350007901320&#45;&gt;140349159288168 -->\n",
       "<g class=\"edge\" id=\"edge1\"><title>140350007901320-&gt;140349159288168</title>\n",
       "<path d=\"M62.5,-36.6871C62.5,-44.7105 62.5,-54.4525 62.5,-63.4309\" fill=\"none\" stroke=\"black\"/>\n",
       "<polygon fill=\"black\" points=\"59.0001,-63.4711 62.5,-73.4712 66.0001,-63.4712 59.0001,-63.4711\" stroke=\"black\"/>\n",
       "</g>\n",
       "<!-- 140349158097248 -->\n",
       "<g class=\"node\" id=\"node3\"><title>140349158097248</title>\n",
       "<polygon fill=\"none\" points=\"-7.10543e-15,-146.5 -7.10543e-15,-182.5 125,-182.5 125,-146.5 -7.10543e-15,-146.5\" stroke=\"black\"/>\n",
       "<text font-family=\"Times,serif\" font-size=\"14.00\" text-anchor=\"middle\" x=\"62.5\" y=\"-160.8\">dropout_1: Dropout</text>\n",
       "</g>\n",
       "<!-- 140349159288168&#45;&gt;140349158097248 -->\n",
       "<g class=\"edge\" id=\"edge2\"><title>140349159288168-&gt;140349158097248</title>\n",
       "<path d=\"M62.5,-109.687C62.5,-117.711 62.5,-127.453 62.5,-136.431\" fill=\"none\" stroke=\"black\"/>\n",
       "<polygon fill=\"black\" points=\"59.0001,-136.471 62.5,-146.471 66.0001,-136.471 59.0001,-136.471\" stroke=\"black\"/>\n",
       "</g>\n",
       "<!-- 140349158097528 -->\n",
       "<g class=\"node\" id=\"node4\"><title>140349158097528</title>\n",
       "<polygon fill=\"none\" points=\"12,-219.5 12,-255.5 113,-255.5 113,-219.5 12,-219.5\" stroke=\"black\"/>\n",
       "<text font-family=\"Times,serif\" font-size=\"14.00\" text-anchor=\"middle\" x=\"62.5\" y=\"-233.8\">hidden2: Dense</text>\n",
       "</g>\n",
       "<!-- 140349158097248&#45;&gt;140349158097528 -->\n",
       "<g class=\"edge\" id=\"edge3\"><title>140349158097248-&gt;140349158097528</title>\n",
       "<path d=\"M62.5,-182.687C62.5,-190.711 62.5,-200.453 62.5,-209.431\" fill=\"none\" stroke=\"black\"/>\n",
       "<polygon fill=\"black\" points=\"59.0001,-209.471 62.5,-219.471 66.0001,-209.471 59.0001,-209.471\" stroke=\"black\"/>\n",
       "</g>\n",
       "<!-- 140349128859832 -->\n",
       "<g class=\"node\" id=\"node5\"><title>140349128859832</title>\n",
       "<polygon fill=\"none\" points=\"-7.10543e-15,-292.5 -7.10543e-15,-328.5 125,-328.5 125,-292.5 -7.10543e-15,-292.5\" stroke=\"black\"/>\n",
       "<text font-family=\"Times,serif\" font-size=\"14.00\" text-anchor=\"middle\" x=\"62.5\" y=\"-306.8\">dropout_2: Dropout</text>\n",
       "</g>\n",
       "<!-- 140349158097528&#45;&gt;140349128859832 -->\n",
       "<g class=\"edge\" id=\"edge4\"><title>140349158097528-&gt;140349128859832</title>\n",
       "<path d=\"M62.5,-255.687C62.5,-263.711 62.5,-273.453 62.5,-282.431\" fill=\"none\" stroke=\"black\"/>\n",
       "<polygon fill=\"black\" points=\"59.0001,-282.471 62.5,-292.471 66.0001,-282.471 59.0001,-282.471\" stroke=\"black\"/>\n",
       "</g>\n",
       "<!-- 140349128859944 -->\n",
       "<g class=\"node\" id=\"node6\"><title>140349128859944</title>\n",
       "<polygon fill=\"none\" points=\"16.5,-365.5 16.5,-401.5 108.5,-401.5 108.5,-365.5 16.5,-365.5\" stroke=\"black\"/>\n",
       "<text font-family=\"Times,serif\" font-size=\"14.00\" text-anchor=\"middle\" x=\"62.5\" y=\"-379.8\">output: Dense</text>\n",
       "</g>\n",
       "<!-- 140349128859832&#45;&gt;140349128859944 -->\n",
       "<g class=\"edge\" id=\"edge5\"><title>140349128859832-&gt;140349128859944</title>\n",
       "<path d=\"M62.5,-328.687C62.5,-336.711 62.5,-346.453 62.5,-355.431\" fill=\"none\" stroke=\"black\"/>\n",
       "<polygon fill=\"black\" points=\"59.0001,-355.471 62.5,-365.471 66.0001,-355.471 59.0001,-355.471\" stroke=\"black\"/>\n",
       "</g>\n",
       "</g>\n",
       "</svg>"
      ],
      "text/plain": [
       "<IPython.core.display.SVG object>"
      ]
     },
     "execution_count": 5,
     "metadata": {},
     "output_type": "execute_result"
    }
   ],
   "source": [
    "SVG(model_to_dot(net.model, rankdir=\"BT\").create_svg())"
   ]
  },
  {
   "cell_type": "code",
   "execution_count": 6,
   "metadata": {
    "collapsed": true
   },
   "outputs": [],
   "source": [
    "from conx import Dataset"
   ]
  },
  {
   "cell_type": "code",
   "execution_count": 10,
   "metadata": {},
   "outputs": [
    {
     "name": "stdout",
     "output_type": "stream",
     "text": [
      "Input Summary:\n",
      "   count  : 100\n",
      "   shape  : (784,)\n",
      "   range  : (0.0, 1.0)\n",
      "Target Summary:\n",
      "   count  : 100\n",
      "   shape  : (10,)\n",
      "   range  : (0.0, 1.0)\n"
     ]
    }
   ],
   "source": [
    "dataset = Dataset.get_mnist()\n",
    "dataset.slice(0, 100)\n",
    "dataset.reshape_inputs(784)\n",
    "dataset.shuffle()\n",
    "dataset.summary()"
   ]
  },
  {
   "cell_type": "code",
   "execution_count": 11,
   "metadata": {
    "collapsed": true
   },
   "outputs": [],
   "source": [
    "net.set_dataset(dataset)"
   ]
  },
  {
   "cell_type": "code",
   "execution_count": 12,
   "metadata": {},
   "outputs": [
    {
     "data": {
      "application/javascript": [
       "\n",
       "require(['base/js/namespace'], function(Jupyter) {\n",
       "    Jupyter.notebook.kernel.comm_manager.register_target('conx_svg_control', function(comm, msg) {\n",
       "        comm.on_msg(function(msg) {\n",
       "            var data = msg[\"content\"][\"data\"];\n",
       "            var images = document.getElementsByClassName(data[\"class\"]);\n",
       "            for (var i = 0; i < images.length; i++) {\n",
       "                images[i].setAttributeNS(null, \"href\", data[\"href\"]);\n",
       "            }\n",
       "        });\n",
       "    });\n",
       "});\n"
      ],
      "text/plain": [
       "<IPython.core.display.Javascript object>"
      ]
     },
     "metadata": {},
     "output_type": "display_data"
    }
   ],
   "source": [
    "widget = net.dashboard()"
   ]
  },
  {
   "cell_type": "code",
   "execution_count": 13,
   "metadata": {},
   "outputs": [
    {
     "data": {
      "application/vnd.jupyter.widget-view+json": {
       "model_id": "50f827b3bc8a4c8785cf3d686649d3c7"
      }
     },
     "metadata": {},
     "output_type": "display_data"
    }
   ],
   "source": [
    "widget"
   ]
  },
  {
   "cell_type": "code",
   "execution_count": 14,
   "metadata": {},
   "outputs": [
    {
     "data": {
      "text/plain": [
       "(100, 0.090803280472755432, 0.10999999940395355, 0.0)"
      ]
     },
     "execution_count": 14,
     "metadata": {},
     "output_type": "execute_result"
    }
   ],
   "source": [
    "net.train(100, verbose=0)\n",
    "#net.test()"
   ]
  },
  {
   "cell_type": "code",
   "execution_count": 15,
   "metadata": {},
   "outputs": [
    {
     "name": "stdout",
     "output_type": "stream",
     "text": [
      "CPU times: user 7.52 s, sys: 368 ms, total: 7.88 s\n",
      "Wall time: 7.66 s\n"
     ]
    }
   ],
   "source": [
    "%%time\n",
    "for i in range(100):\n",
    "    net.propagate(net.dataset.inputs[i])"
   ]
  },
  {
   "cell_type": "code",
   "execution_count": 16,
   "metadata": {
    "collapsed": true
   },
   "outputs": [],
   "source": [
    "from conx import Network, Layer, Conv2DLayer, MaxPool2DLayer, FlattenLayer"
   ]
  },
  {
   "cell_type": "code",
   "execution_count": 17,
   "metadata": {
    "collapsed": true
   },
   "outputs": [],
   "source": [
    "net = Network(\"MNIST-CNN\")\n",
    "net.add(Layer(\"input\", (28,28,1), colormap=\"hot\", minmax=(0,1)))\n",
    "net.add(Conv2DLayer(\"Conv2D-1\", 16, (5,5), activation=\"relu\"))\n",
    "net.add(MaxPool2DLayer(\"maxpool1\", (2,2)))\n",
    "net.add(Conv2DLayer(\"Conv2D-2\", 132, (5,5), activation=\"relu\")) \n",
    "net.add(MaxPool2DLayer(\"maxpool2\", (2,2)))\n",
    "net.add(FlattenLayer(\"flatten\", visible=False))\n",
    "net.add(Layer(\"hidden\", 1000, activation='relu', vshape=(8,125), image_maxdim=500))\n",
    "net.add(Layer(\"output\", 10, activation='softmax'))\n",
    "\n",
    "net.connect()"
   ]
  },
  {
   "cell_type": "code",
   "execution_count": 18,
   "metadata": {
    "collapsed": true
   },
   "outputs": [],
   "source": [
    "net.compile(loss=\"binary_crossentropy\", optimizer=\"rmsprop\")"
   ]
  },
  {
   "cell_type": "code",
   "execution_count": 19,
   "metadata": {
    "collapsed": true
   },
   "outputs": [],
   "source": [
    "ds = Dataset.get_mnist()"
   ]
  },
  {
   "cell_type": "code",
   "execution_count": 20,
   "metadata": {},
   "outputs": [],
   "source": [
    "ds.slice(100)"
   ]
  },
  {
   "cell_type": "code",
   "execution_count": 21,
   "metadata": {
    "collapsed": true
   },
   "outputs": [],
   "source": [
    "net.set_dataset(ds)"
   ]
  },
  {
   "cell_type": "code",
   "execution_count": 22,
   "metadata": {},
   "outputs": [
    {
     "name": "stdout",
     "output_type": "stream",
     "text": [
      "Training...\n",
      "Epoch 1/1\n",
      "100/100 [==============================] - 0s - loss: 0.3255 - acc: 0.9000\n",
      "========================================================================\n",
      "Epoch #    1 | train error 0.32548 | train accuracy 0.90000 | validate% 0.00000\n"
     ]
    }
   ],
   "source": [
    "net.train()"
   ]
  },
  {
   "cell_type": "code",
   "execution_count": 23,
   "metadata": {},
   "outputs": [
    {
     "data": {
      "application/javascript": [
       "\n",
       "require(['base/js/namespace'], function(Jupyter) {\n",
       "    Jupyter.notebook.kernel.comm_manager.register_target('conx_svg_control', function(comm, msg) {\n",
       "        comm.on_msg(function(msg) {\n",
       "            var data = msg[\"content\"][\"data\"];\n",
       "            var images = document.getElementsByClassName(data[\"class\"]);\n",
       "            for (var i = 0; i < images.length; i++) {\n",
       "                images[i].setAttributeNS(null, \"href\", data[\"href\"]);\n",
       "            }\n",
       "        });\n",
       "    });\n",
       "});\n"
      ],
      "text/plain": [
       "<IPython.core.display.Javascript object>"
      ]
     },
     "metadata": {},
     "output_type": "display_data"
    },
    {
     "data": {
      "application/vnd.jupyter.widget-view+json": {
       "model_id": "634d82f05e7d4a0c8dc27d1a26816359"
      }
     },
     "metadata": {},
     "output_type": "display_data"
    }
   ],
   "source": [
    "net.dashboard()"
   ]
  },
  {
   "cell_type": "code",
   "execution_count": 24,
   "metadata": {
    "collapsed": true
   },
   "outputs": [],
   "source": [
    "for i in range(10):\n",
    "    net.propagate(net.dataset.inputs[i])"
   ]
  },
  {
   "cell_type": "code",
   "execution_count": 22,
   "metadata": {},
   "outputs": [
    {
     "name": "stdout",
     "output_type": "stream",
     "text": [
      "Training...\n",
      "Epoch #    2 | train error 0.29042 | train accuracy 0.90000 | validate% 0.00000\n",
      "Epoch #    3 | train error 0.26413 | train accuracy 0.90000 | validate% 0.11000\n",
      "Epoch #    4 | train error 0.21208 | train accuracy 0.91500 | validate% 0.05000\n",
      "Epoch #    5 | train error 0.24686 | train accuracy 0.92300 | validate% 0.00000\n",
      "Epoch #    6 | train error 0.18862 | train accuracy 0.93100 | validate% 0.20000\n",
      "Epoch #    7 | train error 0.09313 | train accuracy 0.96600 | validate% 0.40000\n",
      "Epoch #    8 | train error 0.07797 | train accuracy 0.97900 | validate% 0.41000\n",
      "Epoch #    9 | train error 0.14988 | train accuracy 0.94000 | validate% 0.24000\n",
      "Epoch #   10 | train error 0.11710 | train accuracy 0.98000 | validate% 0.47000\n",
      "Epoch #   11 | train error 0.07682 | train accuracy 0.98300 | validate% 0.56000\n",
      "Epoch #   12 | train error 0.04784 | train accuracy 0.98700 | validate% 0.67000\n",
      "Epoch #   13 | train error 0.02696 | train accuracy 0.99500 | validate% 0.74000\n",
      "========================================================================\n",
      "Epoch #   13 | train error 0.02696 | train accuracy 0.99500 | validate% 0.74000\n"
     ]
    }
   ],
   "source": [
    "net.train(epochs=100, accuracy=.7)"
   ]
  },
  {
   "cell_type": "code",
   "execution_count": null,
   "metadata": {
    "collapsed": true
   },
   "outputs": [],
   "source": []
  }
 ],
 "metadata": {
  "kernelspec": {
   "display_name": "Python 3",
   "language": "python",
   "name": "python3"
  },
  "language_info": {
   "codemirror_mode": {
    "name": "ipython",
    "version": 3
   },
   "file_extension": ".py",
   "mimetype": "text/x-python",
   "name": "python",
   "nbconvert_exporter": "python",
   "pygments_lexer": "ipython3",
   "version": "3.5.3"
  },
  "widgets": {
   "application/vnd.jupyter.widget-state+json": {
    "state": {
     "00eaa135833f4795a0c98208047968da": {
      "model_module": "jupyter-js-widgets",
      "model_module_version": "~2.1.4",
      "model_name": "ButtonStyleModel",
      "state": {
       "_model_module_version": "~2.1.4",
       "_view_module_version": "~2.1.4"
      }
     },
     "01e12b65eb154b63b1f7836486110b82": {
      "model_module": "jupyter-js-widgets",
      "model_module_version": "~2.1.4",
      "model_name": "ButtonModel",
      "state": {
       "_model_module_version": "~2.1.4",
       "_view_module_version": "~2.1.4",
       "icon": "backward",
       "layout": "IPY_MODEL_07ec1524c6b34f6e80ff7ade44edef46",
       "style": "IPY_MODEL_7fb3afe0b2634b3aa6bda426852839f3"
      }
     },
     "0337343c004b4a168db492da17a6a388": {
      "model_module": "jupyter-js-widgets",
      "model_module_version": "~2.1.4",
      "model_name": "LayoutModel",
      "state": {
       "_model_module_version": "~2.1.4",
       "_view_module_version": "~2.1.4",
       "width": "100%"
      }
     },
     "065ef1f3c8c04c4b862ac07e859d8e30": {
      "model_module": "jupyter-js-widgets",
      "model_module_version": "~2.1.4",
      "model_name": "VBoxModel",
      "state": {
       "_model_module_version": "~2.1.4",
       "_view_module_version": "~2.1.4",
       "children": [
        "IPY_MODEL_f5b7c515dec444ba9bf8a71d1cc33377",
        "IPY_MODEL_7b09dc5c6aff40a98e7416d8edd3bade"
       ],
       "layout": "IPY_MODEL_15e40e031d8349d096bbf301d37aca74"
      }
     },
     "07ec1524c6b34f6e80ff7ade44edef46": {
      "model_module": "jupyter-js-widgets",
      "model_module_version": "~2.1.4",
      "model_name": "LayoutModel",
      "state": {
       "_model_module_version": "~2.1.4",
       "_view_module_version": "~2.1.4",
       "width": "100%"
      }
     },
     "08044347ebfb465b9ac3294d55c3e9e1": {
      "model_module": "jupyter-js-widgets",
      "model_module_version": "~2.1.4",
      "model_name": "ButtonModel",
      "state": {
       "_model_module_version": "~2.1.4",
       "_view_module_version": "~2.1.4",
       "description": "Turn on webcamera",
       "layout": "IPY_MODEL_405cdf3420e940458d0411a4c6129a03",
       "style": "IPY_MODEL_6d71b35ea42447fdb6700d4e93c3da49"
      }
     },
     "09858c49b7e0448d96bbdfbdd885d47d": {
      "model_module": "jupyter-js-widgets",
      "model_module_version": "~2.1.4",
      "model_name": "VBoxModel",
      "state": {
       "_model_module_version": "~2.1.4",
       "_view_module_version": "~2.1.4",
       "children": [
        "IPY_MODEL_700b850576f241d59b7cd7a9cfac6d09"
       ],
       "layout": "IPY_MODEL_976a35eb3c0749cd86c1e05f398c6b77"
      }
     },
     "09bbaf86e7684641a721adf378e2210f": {
      "model_module": "jupyter-js-widgets",
      "model_module_version": "~2.1.4",
      "model_name": "ButtonModel",
      "state": {
       "_model_module_version": "~2.1.4",
       "_view_module_version": "~2.1.4",
       "description": "Train",
       "layout": "IPY_MODEL_2361d7aa46404edaaf1437481ff1d5aa",
       "style": "IPY_MODEL_e403f7f85c664fe0ab060dcd7588fc32"
      }
     },
     "0ae11b097cdc48b0baff71532e0f7aad": {
      "model_module": "jupyter-js-widgets",
      "model_module_version": "~2.1.4",
      "model_name": "VBoxModel",
      "state": {
       "_model_module_version": "~2.1.4",
       "_view_module_version": "~2.1.4",
       "children": [
        "IPY_MODEL_f0319cd2e84f49fb817f083acdd35b70"
       ],
       "layout": "IPY_MODEL_e61bc726273d4ee5a5adf39b9cfeafd2"
      }
     },
     "0c9c08123b0649c5adc361d7eba43a66": {
      "model_module": "jupyter-js-widgets",
      "model_module_version": "~2.1.4",
      "model_name": "ButtonStyleModel",
      "state": {
       "_model_module_version": "~2.1.4",
       "_view_module_version": "~2.1.4"
      }
     },
     "0f2e5843f2824edb9eeab23ccc0e9f18": {
      "model_module": "jupyter-js-widgets",
      "model_module_version": "~2.1.4",
      "model_name": "LayoutModel",
      "state": {
       "_model_module_version": "~2.1.4",
       "_view_module_version": "~2.1.4"
      }
     },
     "0fb9b2e56e8a4fbeaab86088eb7daaa2": {
      "model_module": "jupyter-js-widgets",
      "model_module_version": "~2.1.4",
      "model_name": "LayoutModel",
      "state": {
       "_model_module_version": "~2.1.4",
       "_view_module_version": "~2.1.4"
      }
     },
     "142e5a4f979b4bf19cd16081ff65541e": {
      "model_module": "jupyter-js-widgets",
      "model_module_version": "~2.1.4",
      "model_name": "LayoutModel",
      "state": {
       "_model_module_version": "~2.1.4",
       "_view_module_version": "~2.1.4",
       "width": "100%"
      }
     },
     "1539cc9b0f9a44c3ac412e54bf02a4ba": {
      "model_module": "jupyter-js-widgets",
      "model_module_version": "~2.1.4",
      "model_name": "HTMLModel",
      "state": {
       "_model_module_version": "~2.1.4",
       "_view_module_version": "~2.1.4",
       "layout": "IPY_MODEL_9f6259fb8dce42c5817a0f5a0009439b",
       "value": "<iframe style=\"width: 960px\" src=\"https://conx.readthedocs.io\" width=\"100%\" height=\"550px\"></frame>"
      }
     },
     "15e40e031d8349d096bbf301d37aca74": {
      "model_module": "jupyter-js-widgets",
      "model_module_version": "~2.1.4",
      "model_name": "LayoutModel",
      "state": {
       "_model_module_version": "~2.1.4",
       "_view_module_version": "~2.1.4",
       "height": "550px",
       "width": "100%"
      }
     },
     "1aa55480d6da4fc7a3c86a3387c22782": {
      "model_module": "jupyter-js-widgets",
      "model_module_version": "~2.1.4",
      "model_name": "ButtonStyleModel",
      "state": {
       "_model_module_version": "~2.1.4",
       "_view_module_version": "~2.1.4"
      }
     },
     "1cdc74643d4548cc95839574ac9d4979": {
      "model_module": "jupyter-js-widgets",
      "model_module_version": "~2.1.4",
      "model_name": "LayoutModel",
      "state": {
       "_model_module_version": "~2.1.4",
       "_view_module_version": "~2.1.4",
       "width": "100%"
      }
     },
     "1dd539f97ec04cbc92991388896356d3": {
      "model_module": "jupyter-js-widgets",
      "model_module_version": "~2.1.4",
      "model_name": "LayoutModel",
      "state": {
       "_model_module_version": "~2.1.4",
       "_view_module_version": "~2.1.4"
      }
     },
     "20d240a1115247b68df4773f28b9d8e8": {
      "model_module": "jupyter-js-widgets",
      "model_module_version": "~2.1.4",
      "model_name": "LayoutModel",
      "state": {
       "_model_module_version": "~2.1.4",
       "_view_module_version": "~2.1.4",
       "height": "550px",
       "justify_content": "center",
       "overflow_x": "auto",
       "width": "100%"
      }
     },
     "2361d7aa46404edaaf1437481ff1d5aa": {
      "model_module": "jupyter-js-widgets",
      "model_module_version": "~2.1.4",
      "model_name": "LayoutModel",
      "state": {
       "_model_module_version": "~2.1.4",
       "_view_module_version": "~2.1.4",
       "width": "100%"
      }
     },
     "260b3e8422884e21b382dd180f41b52e": {
      "model_module": "jupyter-js-widgets",
      "model_module_version": "~2.1.4",
      "model_name": "LayoutModel",
      "state": {
       "_model_module_version": "~2.1.4",
       "_view_module_version": "~2.1.4",
       "width": "100%"
      }
     },
     "2c40f9f2d4d94a348dd38c8207dca587": {
      "model_module": "jupyter-js-widgets",
      "model_module_version": "~2.1.4",
      "model_name": "LayoutModel",
      "state": {
       "_model_module_version": "~2.1.4",
       "_view_module_version": "~2.1.4",
       "height": "550px",
       "width": "100%"
      }
     },
     "2fe46f91863d4203a3abe71fb790d2c9": {
      "model_module": "jupyter-js-widgets",
      "model_module_version": "~2.1.4",
      "model_name": "VBoxModel",
      "state": {
       "_model_module_version": "~2.1.4",
       "_view_module_version": "~2.1.4",
       "children": [
        "IPY_MODEL_7493d03ea5fa4b6eb093688e24dfb443",
        "IPY_MODEL_abdeb5c83b69471784a828802e7acec7",
        "IPY_MODEL_4edd58250e28403d8a6820974fffdc56"
       ],
       "layout": "IPY_MODEL_0337343c004b4a168db492da17a6a388"
      }
     },
     "314f09438da047869d24d94367b699e3": {
      "model_module": "jupyter-js-widgets",
      "model_module_version": "~2.1.4",
      "model_name": "SliderStyleModel",
      "state": {
       "_model_module_version": "~2.1.4",
       "_view_module_version": "~2.1.4"
      }
     },
     "3700843fb705456ea2c89b43feed9450": {
      "model_module": "jupyter-js-widgets",
      "model_module_version": "~2.1.4",
      "model_name": "LayoutModel",
      "state": {
       "_model_module_version": "~2.1.4",
       "_view_module_version": "~2.1.4",
       "width": "100%"
      }
     },
     "405cdf3420e940458d0411a4c6129a03": {
      "model_module": "jupyter-js-widgets",
      "model_module_version": "~2.1.4",
      "model_name": "LayoutModel",
      "state": {
       "_model_module_version": "~2.1.4",
       "_view_module_version": "~2.1.4"
      }
     },
     "40e9575b9b0e4617933639f53600134f": {
      "model_module": "jupyter-js-widgets",
      "model_module_version": "~2.1.4",
      "model_name": "LayoutModel",
      "state": {
       "_model_module_version": "~2.1.4",
       "_view_module_version": "~2.1.4",
       "width": "100%"
      }
     },
     "46fda778552643d3a64ee3d1488173d2": {
      "model_module": "jupyter-js-widgets",
      "model_module_version": "~2.1.4",
      "model_name": "SelectModel",
      "state": {
       "_model_module_version": "~2.1.4",
       "_options_labels": [
        "Test",
        "Train"
       ],
       "_view_module_version": "~2.1.4",
       "description": "Dataset:",
       "layout": "IPY_MODEL_cc5108998dcc4f599a8aa47b404b12c9",
       "value": "Train"
      }
     },
     "47a387709c3d46549417b037bbb8f030": {
      "model_module": "jupyter-js-widgets",
      "model_module_version": "~2.1.4",
      "model_name": "LayoutModel",
      "state": {
       "_model_module_version": "~2.1.4",
       "_view_module_version": "~2.1.4",
       "height": "550px",
       "justify_content": "center",
       "overflow_x": "auto",
       "width": "100%"
      }
     },
     "4b13ff4b098a4aa8be89fe16fded931d": {
      "model_module": "jupyter-js-widgets",
      "model_module_version": "~2.1.4",
      "model_name": "HBoxModel",
      "state": {
       "_model_module_version": "~2.1.4",
       "_view_module_version": "~2.1.4",
       "children": [
        "IPY_MODEL_9f97c8d52f644a4494aedcf8bb04a86b",
        "IPY_MODEL_01e12b65eb154b63b1f7836486110b82",
        "IPY_MODEL_09bbaf86e7684641a721adf378e2210f",
        "IPY_MODEL_9a0bb2df911d462db01f1019825ba1f2",
        "IPY_MODEL_95a2dfb014a24d328140cfdd5d353e35"
       ],
       "layout": "IPY_MODEL_f8a6b6e08e7a4e4a82d7256ae16d61a1"
      }
     },
     "4edd58250e28403d8a6820974fffdc56": {
      "model_module": "jupyter-js-widgets",
      "model_module_version": "~2.1.4",
      "model_name": "HBoxModel",
      "state": {
       "_model_module_version": "~2.1.4",
       "_view_module_version": "~2.1.4",
       "children": [
        "IPY_MODEL_ed293ecdbfc34a6b8038359b90b73339",
        "IPY_MODEL_5c5a13eb8b384755ab9699ae07998ca9",
        "IPY_MODEL_9d132ea819f54d41989bc4c448a42b3b",
        "IPY_MODEL_cc3e753478a949f599c10ccd337c6dfe",
        "IPY_MODEL_f527b525eca64816bd7e364e715f745a"
       ],
       "layout": "IPY_MODEL_6104a2cb6b55474893aeb3bffb7e4795"
      }
     },
     "50f827b3bc8a4c8785cf3d686649d3c7": {
      "model_module": "jupyter-js-widgets",
      "model_module_version": "~2.1.4",
      "model_name": "TabModel",
      "state": {
       "_model_module_version": "~2.1.4",
       "_titles": {
        "0": "Network",
        "1": "Graphs",
        "2": "Analysis",
        "3": "Camera",
        "4": "Help"
       },
       "_view_module_version": "~2.1.4",
       "children": [
        "IPY_MODEL_929492fa39bf4250b9f2660685b6c770",
        "IPY_MODEL_93e1f346c8f84235a6d19f63d2daf27a",
        "IPY_MODEL_55f0eedb291e4176857b926c74e06518",
        "IPY_MODEL_0ae11b097cdc48b0baff71532e0f7aad",
        "IPY_MODEL_fc783963b04440f0bd9058bdfa786f95"
       ],
       "layout": "IPY_MODEL_1dd539f97ec04cbc92991388896356d3"
      }
     },
     "512f1f5cf82a4f1db4c0e92b5d2a1171": {
      "model_module": "jupyter-js-widgets",
      "model_module_version": "~2.1.4",
      "model_name": "ButtonModel",
      "state": {
       "_model_module_version": "~2.1.4",
       "_view_module_version": "~2.1.4",
       "icon": "backward",
       "layout": "IPY_MODEL_e93def9aa6bd4fcfb9a2bad45cb93275",
       "style": "IPY_MODEL_5f48e43b67014037bb491b31fac3406b"
      }
     },
     "53bc9fe136cc450a82efeee40dc3842b": {
      "model_module": "jupyter-js-widgets",
      "model_module_version": "~2.1.4",
      "model_name": "ButtonStyleModel",
      "state": {
       "_model_module_version": "~2.1.4",
       "_view_module_version": "~2.1.4"
      }
     },
     "55618975bc7c404d83e3b1da681ca751": {
      "model_module": "jupyter-js-widgets",
      "model_module_version": "~2.1.4",
      "model_name": "SliderStyleModel",
      "state": {
       "_model_module_version": "~2.1.4",
       "_view_module_version": "~2.1.4"
      }
     },
     "55f0eedb291e4176857b926c74e06518": {
      "model_module": "jupyter-js-widgets",
      "model_module_version": "~2.1.4",
      "model_name": "VBoxModel",
      "state": {
       "_model_module_version": "~2.1.4",
       "_view_module_version": "~2.1.4",
       "layout": "IPY_MODEL_da6bb495217f46cb90f40adc2923073c"
      }
     },
     "5c5a13eb8b384755ab9699ae07998ca9": {
      "model_module": "jupyter-js-widgets",
      "model_module_version": "~2.1.4",
      "model_name": "ButtonModel",
      "state": {
       "_model_module_version": "~2.1.4",
       "_view_module_version": "~2.1.4",
       "icon": "backward",
       "layout": "IPY_MODEL_70b2f3e52c5a4ea0a87a574d2dc6f8f1",
       "style": "IPY_MODEL_afff8a25c1a64484b3eb3be318370071"
      }
     },
     "5ef8ce73483f43888fd33d8b181e73f8": {
      "model_module": "jupyter-js-widgets",
      "model_module_version": "~2.1.4",
      "model_name": "LayoutModel",
      "state": {
       "_model_module_version": "~2.1.4",
       "_view_module_version": "~2.1.4",
       "width": "100%"
      }
     },
     "5f48e43b67014037bb491b31fac3406b": {
      "model_module": "jupyter-js-widgets",
      "model_module_version": "~2.1.4",
      "model_name": "ButtonStyleModel",
      "state": {
       "_model_module_version": "~2.1.4",
       "_view_module_version": "~2.1.4"
      }
     },
     "5fbdd0c0a1524ec2bb9aedd4033fb934": {
      "model_module": "jupyter-js-widgets",
      "model_module_version": "~2.1.4",
      "model_name": "LayoutModel",
      "state": {
       "_model_module_version": "~2.1.4",
       "_view_module_version": "~2.1.4",
       "height": "550px",
       "width": "100%"
      }
     },
     "6104a2cb6b55474893aeb3bffb7e4795": {
      "model_module": "jupyter-js-widgets",
      "model_module_version": "~2.1.4",
      "model_name": "LayoutModel",
      "state": {
       "_model_module_version": "~2.1.4",
       "_view_module_version": "~2.1.4",
       "width": "100%"
      }
     },
     "61ed6d84444e44278cbb7f2d0b29581f": {
      "model_module": "jupyter-js-widgets",
      "model_module_version": "~2.1.4",
      "model_name": "ButtonStyleModel",
      "state": {
       "_model_module_version": "~2.1.4",
       "_view_module_version": "~2.1.4"
      }
     },
     "634d82f05e7d4a0c8dc27d1a26816359": {
      "model_module": "jupyter-js-widgets",
      "model_module_version": "~2.1.4",
      "model_name": "TabModel",
      "state": {
       "_model_module_version": "~2.1.4",
       "_titles": {
        "0": "Network",
        "1": "Graphs",
        "2": "Analysis",
        "3": "Camera",
        "4": "Help"
       },
       "_view_module_version": "~2.1.4",
       "children": [
        "IPY_MODEL_065ef1f3c8c04c4b862ac07e859d8e30",
        "IPY_MODEL_ca95afa94d48436099b1cb5e82668b22",
        "IPY_MODEL_7ff7886dbe484ebe85c52c5e6abe9fb3",
        "IPY_MODEL_09858c49b7e0448d96bbdfbdd885d47d",
        "IPY_MODEL_914acc9b6bab4d41a8bb5d4732edfee8"
       ],
       "layout": "IPY_MODEL_0fb9b2e56e8a4fbeaab86088eb7daaa2"
      }
     },
     "6578d2aba71343689295bd8200f7e5cd": {
      "model_module": "jupyter-js-widgets",
      "model_module_version": "~2.1.4",
      "model_name": "LayoutModel",
      "state": {
       "_model_module_version": "~2.1.4",
       "_view_module_version": "~2.1.4"
      }
     },
     "67e6e5297635433f9d0bb40902605d08": {
      "model_module": "jupyter-js-widgets",
      "model_module_version": "~2.1.4",
      "model_name": "LayoutModel",
      "state": {
       "_model_module_version": "~2.1.4",
       "_view_module_version": "~2.1.4",
       "width": "100%"
      }
     },
     "6941b9e1beea43f285a048ada51e377f": {
      "model_module": "jupyter-js-widgets",
      "model_module_version": "~2.1.4",
      "model_name": "VBoxModel",
      "state": {
       "_model_module_version": "~2.1.4",
       "_view_module_version": "~2.1.4",
       "layout": "IPY_MODEL_2c40f9f2d4d94a348dd38c8207dca587"
      }
     },
     "69996aec642e4ccba7860fa788e7b33f": {
      "model_module": "jupyter-js-widgets",
      "model_module_version": "~2.1.4",
      "model_name": "LayoutModel",
      "state": {
       "_model_module_version": "~2.1.4",
       "_view_module_version": "~2.1.4",
       "width": "100%"
      }
     },
     "6d71b35ea42447fdb6700d4e93c3da49": {
      "model_module": "jupyter-js-widgets",
      "model_module_version": "~2.1.4",
      "model_name": "ButtonStyleModel",
      "state": {
       "_model_module_version": "~2.1.4",
       "_view_module_version": "~2.1.4"
      }
     },
     "6e6c808f06cf4d03a97e2f25dfddf699": {
      "model_module": "jupyter-js-widgets",
      "model_module_version": "~2.1.4",
      "model_name": "HTMLModel",
      "state": {
       "_model_module_version": "~2.1.4",
       "_view_module_version": "~2.1.4",
       "layout": "IPY_MODEL_47a387709c3d46549417b037bbb8f030",
       "value": "\n        <svg id='MNIST' xmlns='http://www.w3.org/2000/svg' width=\"350\" height=\"570\" image-rendering=\"pixelated\">\n    <defs>\n        <marker id=\"arrow\" markerWidth=\"10\" markerHeight=\"10\" refX=\"9\" refY=\"3\" orient=\"auto\" markerUnits=\"strokeWidth\">\n          <path d=\"M0,0 L0,6 L9,3 z\" fill=\"blue\" />\n        </marker>\n    </defs>\n<text x=\"175.0\" y=\"12.5\" font-family=\"monospace\" font-size=\"15\" text-anchor=\"middle\" alignment-baseline=\"central\">MNIST</text><rect x=\"74.0\" y=\"29\" width=\"202\" height=\"27\" style=\"fill:none;stroke:blue;stroke-width:2\"/><image id=\"MNIST_output_1\" class=\"MNIST_output\" x=\"75.0\" y=\"30\" height=\"25\" width=\"200\" preserveAspectRatio=\"none\" href=\"data:image/gif;base64,R0lGODdhCgABAIcAAKwWKbooMpANJZsQJ74wNgAAAAAAAAAAAAAAAAAAAAAAAAAAAAAAAAAAAAAAAAAAAAAAAAAAAAAAAAAAAAAAAAAAAAAAAAAAAAAAAAAAAAAAAAAAAAAAAAAAAAAAAAAAAAAAAAAAAAAAAAAAAAAAAAAAAAAAAAAAAAAAAAAAAAAAAAAAAAAAAAAAAAAAAAAAAAAAAAAAAAAAAAAAAAAAAAAAAAAAAAAAAAAAAAAAAAAAAAAAAAAAAAAAAAAAAAAAAAAAAAAAAAAAAAAAAAAAAAAAAAAAAAAAAAAAAAAAAAAAAAAAAAAAAAAAAAAAAAAAAAAAAAAAAAAAAAAAAAAAAAAAAAAAAAAAAAAAAAAAAAAAAAAAAAAAAAAAAAAAAAAAAAAAAAAAAAAAAAAAAAAAAAAAAAAAAAAAAAAAAAAAAAAAAAAAAAAAAAAAAAAAAAAAAAAAAAAAAAAAAAAAAAAAAAAAAAAAAAAAAAAAAAAAAAAAAAAAAAAAAAAAAAAAAAAAAAAAAAAAAAAAAAAAAAAAAAAAAAAAAAAAAAAAAAAAAAAAAAAAAAAAAAAAAAAAAAAAAAAAAAAAAAAAAAAAAAAAAAAAAAAAAAAAAAAAAAAAAAAAAAAAAAAAAAAAAAAAAAAAAAAAAAAAAAAAAAAAAAAAAAAAAAAAAAAAAAAAAAAAAAAAAAAAAAAAAAAAAAAAAAAAAAAAAAAAAAAAAAAAAAAAAAAAAAAAAAAAAAAAAAAAAAAAAAAAAAAAAAAAAAAAAAAAAAAAAAAAAAAAAAAAAAAAAAAAAAAAAAAAAAAAAAAAAAAAAAAAAAAAAAAAAAAAAAAAAAAAAAAAAAAAAAAAAAAAAAAAAAAAAAAAAAAAAAAAAAAAAAAAAAAAAAAAAAAAAAAAAAAAAAAAAAAAAAAAAAAAAAAAAAAAAAAAAAAAAAAAAAAAAAAAAAAAAAAAAAAAAAAAAAAAAAAAAAAAAAAAAAAAAAAAAAAAAAAAAAAAAAAAAAAAAAAAAAAAAAAAAAAAAAAAACwAAAAACgABAAAIDQAHBAAQAIBBAAQEBAQAOw==\"><title>Layer: output (output)\n shape = (10,)\n Keras class = Dense\n activation = softmax</title></image><text x=\"280.0\" y=\"44.5\" font-family=\"monospace\" font-size=\"12\" text-anchor=\"start\" alignment-baseline=\"central\">output</text><line x1=\"175.0\" y1=\"84\" x2=\"175.0\" y2=\"57\" stroke=\"blue\" stroke-width=\"2\" marker-end=\"url(#arrow)\"><title>Weights from hidden2 to output\n output/kernel has shape (512, 10)\n output/bias has shape (10,)</title></line><rect x=\"74.0\" y=\"84\" width=\"202\" height=\"102\" style=\"fill:none;stroke:blue;stroke-width:2\"/><image id=\"MNIST_hidden2_2\" class=\"MNIST_hidden2\" x=\"75.0\" y=\"85\" height=\"100\" width=\"200\" preserveAspectRatio=\"none\" href=\"data:image/gif;base64,R0lGODdhIAAQAIcAAGcAH44MJa4YK3YEINFXSPv39LkmMe2WdtlqVPnHrcI4Oe3o5fSqifa0lZsQJ+F8YuWFafzcyvvRusxMQ95zXNra2vKgfoeHh8ZBPuB4X/i+ov3n2hoaGmRkZJmZmb4wNrm5ucLCwgAAAAAAAAAAAAAAAAAAAAAAAAAAAAAAAAAAAAAAAAAAAAAAAAAAAAAAAAAAAAAAAAAAAAAAAAAAAAAAAAAAAAAAAAAAAAAAAAAAAAAAAAAAAAAAAAAAAAAAAAAAAAAAAAAAAAAAAAAAAAAAAAAAAAAAAAAAAAAAAAAAAAAAAAAAAAAAAAAAAAAAAAAAAAAAAAAAAAAAAAAAAAAAAAAAAAAAAAAAAAAAAAAAAAAAAAAAAAAAAAAAAAAAAAAAAAAAAAAAAAAAAAAAAAAAAAAAAAAAAAAAAAAAAAAAAAAAAAAAAAAAAAAAAAAAAAAAAAAAAAAAAAAAAAAAAAAAAAAAAAAAAAAAAAAAAAAAAAAAAAAAAAAAAAAAAAAAAAAAAAAAAAAAAAAAAAAAAAAAAAAAAAAAAAAAAAAAAAAAAAAAAAAAAAAAAAAAAAAAAAAAAAAAAAAAAAAAAAAAAAAAAAAAAAAAAAAAAAAAAAAAAAAAAAAAAAAAAAAAAAAAAAAAAAAAAAAAAAAAAAAAAAAAAAAAAAAAAAAAAAAAAAAAAAAAAAAAAAAAAAAAAAAAAAAAAAAAAAAAAAAAAAAAAAAAAAAAAAAAAAAAAAAAAAAAAAAAAAAAAAAAAAAAAAAAAAAAAAAAAAAAAAAAAAAAAAAAAAAAAAAAAAAAAAAAAAAAAAAAAAAAAAAAAAAAAAAAAAAAAAAAAAAAAAAAAAAAAAAAAAAAAAAAAAAAAAAAAAAAAAAAAAAAAAAAAAAAAAAAAAAAAAAAAAAAAAAAAAAAAAAAAAAAAAAAAAAAAAAAAAAAAAAAAAAAAAAAAAAAAAAAAAAAAAAAAAAAAAAAAAAAAAAAAAAAAAAAAAAAAAAAAAAAAAAAAAAAAAAAAAAAAAAAACwAAAAAIAAQAEAI/wABGBgAYAEABBIAVDgAAAABAAQCPABAEUCCAQAydlgAoCMABAYGSACAYAGAAwAMSGBgwEGCAAAACKAAgMEBAAACALgAAECBAwgABBhAAIDRAQgGCEgAoMCBCAAKAJgKYACABgAAHCAAAAAECwAYGABAdgAAAAscHJgAgAIAAAYAHMggYMABABoCFADANwCAvyEiAGgAAMEBAQEKFAgAAMABAAwUFBgAoPIAAQAAIBAAQACABwBCCwBAmgEBAAkcAFAAoDUEAAoWOKAAoHZtAwMABADAG8AEABAAXDAAoDiAAACSA1AgAAABANAHIABAAEAAANizNwgA4MEBAODBU/8AAEBBABAA0iMAwL5CBAsAACgAIGADAgALAgAAoGDBA4AADgBwIIEAAIQAIABIIEABAAAGAAAYACAAAAMTDBQoAMAjAQAhLUD4AAAAAQAEABRQAADAAAAEAAAoAMCmTQEAdDYIAKBAggQAhAJowABBhAUCACRYAMApAAEApA4AwIEAgAgAMAhIEEEAgAoAEgAAcADAWQcAGkh4oOABALhwFRiAAKABALwLAAAIAMAvgA0ABAAgHEDABAQAGgAAEGGAgQAZCgAoAAAAAQCZAUgYgOEBgAABADAAYABAAAYAAAwAIGCCgwELAAAgAMA2AQAABADwACABgAQAhDMAUBwSAAQAyQEIKKABwPMACQAgABAQADs=\"><title>Layer: hidden2 (hidden)\n shape = (512,)\n dropout = 0.2\n Keras class = Dense\n activation = relu</title></image><text x=\"280.0\" y=\"137.0\" font-family=\"monospace\" font-size=\"12\" text-anchor=\"start\" alignment-baseline=\"central\">hidden2</text><line x1=\"175.0\" y1=\"214\" x2=\"175.0\" y2=\"187\" stroke=\"blue\" stroke-width=\"2\" marker-end=\"url(#arrow)\"><title>Weights from hidden1 to hidden2\n hidden2/kernel has shape (512, 512)\n hidden2/bias has shape (512,)</title></line><rect x=\"74.0\" y=\"214\" width=\"202\" height=\"102\" style=\"fill:none;stroke:blue;stroke-width:2\"/><image id=\"MNIST_hidden1_3\" class=\"MNIST_hidden1\" x=\"75.0\" y=\"215\" height=\"100\" width=\"200\" preserveAspectRatio=\"none\" href=\"data:image/gif;base64,R0lGODdhIAAQAIcAAGcAH6wXKosLJPWzlPn18tFWSO2Xd3QDINhlUeeIbLckMPOnhfnHrt5yW/vRu/Hr55sQJ8I5OsZAPspJQvzZxv3l174xNuB4X/i+or6+vtLS0uJ9YxoaGpubm6Ojo8LCwvKgfgAAAAAAAAAAAAAAAAAAAAAAAAAAAAAAAAAAAAAAAAAAAAAAAAAAAAAAAAAAAAAAAAAAAAAAAAAAAAAAAAAAAAAAAAAAAAAAAAAAAAAAAAAAAAAAAAAAAAAAAAAAAAAAAAAAAAAAAAAAAAAAAAAAAAAAAAAAAAAAAAAAAAAAAAAAAAAAAAAAAAAAAAAAAAAAAAAAAAAAAAAAAAAAAAAAAAAAAAAAAAAAAAAAAAAAAAAAAAAAAAAAAAAAAAAAAAAAAAAAAAAAAAAAAAAAAAAAAAAAAAAAAAAAAAAAAAAAAAAAAAAAAAAAAAAAAAAAAAAAAAAAAAAAAAAAAAAAAAAAAAAAAAAAAAAAAAAAAAAAAAAAAAAAAAAAAAAAAAAAAAAAAAAAAAAAAAAAAAAAAAAAAAAAAAAAAAAAAAAAAAAAAAAAAAAAAAAAAAAAAAAAAAAAAAAAAAAAAAAAAAAAAAAAAAAAAAAAAAAAAAAAAAAAAAAAAAAAAAAAAAAAAAAAAAAAAAAAAAAAAAAAAAAAAAAAAAAAAAAAAAAAAAAAAAAAAAAAAAAAAAAAAAAAAAAAAAAAAAAAAAAAAAAAAAAAAAAAAAAAAAAAAAAAAAAAAAAAAAAAAAAAAAAAAAAAAAAAAAAAAAAAAAAAAAAAAAAAAAAAAAAAAAAAAAAAAAAAAAAAAAAAAAAAAAAAAAAAAAAAAAAAAAAAAAAAAAAAAAAAAAAAAAAAAAAAAAAAAAAAAAAAAAAAAAAAAAAAAAAAAAAAAAAAAAAAAAAAAAAAAAAAAAAAAAAAAAAAAAAAAAAAAAAAAAAAAAAAAAAAAAAAAAAAAAAAAAAAAAAAAAAAAAAAAAAAAAAAAAAAAAAAAAAAAAAAAAAAAAAAAAAAAAAAAAAAACwAAAAAIAAQAEAI/wAJABi4QEECAAYQAFh4AIDDhwsAAKDAAMCDCQAyAhAA4ACBAQAANAAAYAAAABYEAFgJQAIAAAYAFJCQAIBNmwIAAOgAgAAABgQAACAAQAGAowMMUCBQ4QCABA0YBAAAIEAFDQAqANgKQIGDCQAADADAAYBZswIACPgAYACAtwAeAAAQAECCAADy5hUQwAEAAwACMwBAGMACABsWAFh8IMAAABEAAFgAAMABAJgBLAAwAACFAQAAJAgAoLRpAAEaNCAAIAAABBAAyM4QoAEAABYQANgAoHeAAxQwABCAAcABAAYEEAAAgIGABAQAABAAAIAAABUADAAwoECAAA4AGP8AEAAAAAgPFCQIACAAAAYFAMgXAKA+AAECEgAAUABAAIAABA40QAHAQQQAFBYA0BBABAAAIDxw0AAAgAAHBiBgAADAAAkARCoAUNLBgAkAVC54MABAAAAFACwgACACAJw4JwCAAKBBBgAXAEgYICHAAQACAAB4wADA0wAApAowEMEBAAACPEwAAEABAgUAAEAAoACBgwYIEoAoUIEAAAEFAASwUAAAAAIAAgAAkADAAAAANAR4MOEBgAsAABQAEADAYwMAJBMAUBkAhQEFAABAEEAAAAEADghgYABABAsAABjAAMB1BAgEBFwQAKAAAAkOABA4UAEBgAAKABgAgAATQAAAyQsoCEAAAIAECwAAgAAgIAA7\"><title>Layer: hidden1 (hidden)\n shape = (512,)\n dropout = 0.2\n Keras class = Dense\n activation = relu</title></image><text x=\"280.0\" y=\"267.0\" font-family=\"monospace\" font-size=\"12\" text-anchor=\"start\" alignment-baseline=\"central\">hidden1</text><line x1=\"175.0\" y1=\"344\" x2=\"175.0\" y2=\"317\" stroke=\"blue\" stroke-width=\"2\" marker-end=\"url(#arrow)\"><title>Weights from input to hidden1\n hidden1/kernel has shape (784, 512)\n hidden1/bias has shape (512,)</title></line><rect x=\"74.0\" y=\"344\" width=\"202\" height=\"202\" style=\"fill:none;stroke:blue;stroke-width:2\"/><image id=\"MNIST_input_4\" class=\"MNIST_input\" x=\"75.0\" y=\"345\" height=\"200\" width=\"200\" preserveAspectRatio=\"none\" href=\"data:image/gif;base64,R0lGODdhHAAcAIcAAAoAAP//90sAAP+qAP/aAC8AAP+DAHcAAKUAAP//KoMAAO4AAP8fAP9bAP94AP+0AP/5AP//Zf//iP//sAAAAAAAAAAAAAAAAAAAAAAAAAAAAAAAAAAAAAAAAAAAAAAAAAAAAAAAAAAAAAAAAAAAAAAAAAAAAAAAAAAAAAAAAAAAAAAAAAAAAAAAAAAAAAAAAAAAAAAAAAAAAAAAAAAAAAAAAAAAAAAAAAAAAAAAAAAAAAAAAAAAAAAAAAAAAAAAAAAAAAAAAAAAAAAAAAAAAAAAAAAAAAAAAAAAAAAAAAAAAAAAAAAAAAAAAAAAAAAAAAAAAAAAAAAAAAAAAAAAAAAAAAAAAAAAAAAAAAAAAAAAAAAAAAAAAAAAAAAAAAAAAAAAAAAAAAAAAAAAAAAAAAAAAAAAAAAAAAAAAAAAAAAAAAAAAAAAAAAAAAAAAAAAAAAAAAAAAAAAAAAAAAAAAAAAAAAAAAAAAAAAAAAAAAAAAAAAAAAAAAAAAAAAAAAAAAAAAAAAAAAAAAAAAAAAAAAAAAAAAAAAAAAAAAAAAAAAAAAAAAAAAAAAAAAAAAAAAAAAAAAAAAAAAAAAAAAAAAAAAAAAAAAAAAAAAAAAAAAAAAAAAAAAAAAAAAAAAAAAAAAAAAAAAAAAAAAAAAAAAAAAAAAAAAAAAAAAAAAAAAAAAAAAAAAAAAAAAAAAAAAAAAAAAAAAAAAAAAAAAAAAAAAAAAAAAAAAAAAAAAAAAAAAAAAAAAAAAAAAAAAAAAAAAAAAAAAAAAAAAAAAAAAAAAAAAAAAAAAAAAAAAAAAAAAAAAAAAAAAAAAAAAAAAAAAAAAAAAAAAAAAAAAAAAAAAAAAAAAAAAAAAAAAAAAAAAAAAAAAAAAAAAAAAAAAAAAAAAAAAAAAAAAAAAAAAAAAAAAAAAAAAAAAAAAAAAAAAAAAAAAAAAAAAAAAAAAAAAAAAAAAAAAAAAAAAAAAAAAAAAAAAAAAAAAAAAAAAAAAAAAAAAAAAAAAAAAAAAAAAAAAACwAAAAAHAAcAEAI/wABCBxIsKDBgwgLFkgQoAGAhxAjSpz4UECAAAQAaNzIsaPHjQsCOABAsqTJkyhTqly5ckCAAAYAyJxJs6ZNmQoCBEAAoKfPn0CDCh1KlCiEABEKAFjKtKnTp0sPBAgwAIDVq1izarVaQEKACQIAiB1LtqxZsQICBCAAoK3bt3DjujUQIAACAHjz6t3Lt6/fv4ADCx5MeC+BAAwAKF7MuLHjxQUSBAggAIDly5gza7Z8IECAAQBCix5NurToAQECDADAurXr17BbDwgQ4ACA27hz6959W0CAAAQACB9OvLjx4QICBCAAoLnz59CjOxcQIMADANiza9/OPbuBAAEQABoYT768+fPkDQRIAKC9+/fw48ufT7++ffcBAQA7\"><title>Layer: input (input)\n shape = (784,)\n Keras class = Input</title></image><text x=\"280.0\" y=\"447.0\" font-family=\"monospace\" font-size=\"12\" text-anchor=\"start\" alignment-baseline=\"central\">input</text></svg>"
      }
     },
     "700b850576f241d59b7cd7a9cfac6d09": {
      "model_module": "jupyter-js-widgets",
      "model_module_version": "~2.1.4",
      "model_name": "ButtonModel",
      "state": {
       "_model_module_version": "~2.1.4",
       "_view_module_version": "~2.1.4",
       "description": "Turn on webcamera",
       "layout": "IPY_MODEL_a92afa27d0e24df191ec912752a9d503",
       "style": "IPY_MODEL_1aa55480d6da4fc7a3c86a3387c22782"
      }
     },
     "70236ab6e3424c16b9f182211de87e20": {
      "model_module": "jupyter-js-widgets",
      "model_module_version": "~2.1.4",
      "model_name": "LayoutModel",
      "state": {
       "_model_module_version": "~2.1.4",
       "_view_module_version": "~2.1.4",
       "height": "550px",
       "width": "100%"
      }
     },
     "70b2f3e52c5a4ea0a87a574d2dc6f8f1": {
      "model_module": "jupyter-js-widgets",
      "model_module_version": "~2.1.4",
      "model_name": "LayoutModel",
      "state": {
       "_model_module_version": "~2.1.4",
       "_view_module_version": "~2.1.4",
       "width": "100%"
      }
     },
     "7493d03ea5fa4b6eb093688e24dfb443": {
      "model_module": "jupyter-js-widgets",
      "model_module_version": "~2.1.4",
      "model_name": "SelectModel",
      "state": {
       "_model_module_version": "~2.1.4",
       "_options_labels": [
        "Test",
        "Train"
       ],
       "_view_module_version": "~2.1.4",
       "description": "Dataset:",
       "layout": "IPY_MODEL_a6981c3b7ada4398b0927fe0d4041a7a",
       "value": "Train"
      }
     },
     "7ae6bde9566b4d95bbdb7cb3cb0b41d8": {
      "model_module": "jupyter-js-widgets",
      "model_module_version": "~2.1.4",
      "model_name": "LayoutModel",
      "state": {
       "_model_module_version": "~2.1.4",
       "_view_module_version": "~2.1.4",
       "height": "550px",
       "width": "100%"
      }
     },
     "7b09dc5c6aff40a98e7416d8edd3bade": {
      "model_module": "jupyter-js-widgets",
      "model_module_version": "~2.1.4",
      "model_name": "VBoxModel",
      "state": {
       "_model_module_version": "~2.1.4",
       "_view_module_version": "~2.1.4",
       "children": [
        "IPY_MODEL_46fda778552643d3a64ee3d1488173d2",
        "IPY_MODEL_b820694d553b4f8e840c2cdfd804e096",
        "IPY_MODEL_e6306c51e5974668ad1d492a73f1e2b8"
       ],
       "layout": "IPY_MODEL_fb52ac9fbb0846d7bf3747f764e95451"
      }
     },
     "7ee09fa38b214b29adf6e5b2f7303a12": {
      "model_module": "jupyter-js-widgets",
      "model_module_version": "~2.1.4",
      "model_name": "SelectModel",
      "state": {
       "_model_module_version": "~2.1.4",
       "_options_labels": [
        "Test",
        "Train"
       ],
       "_view_module_version": "~2.1.4",
       "description": "Dataset:",
       "layout": "IPY_MODEL_6578d2aba71343689295bd8200f7e5cd",
       "value": "Train"
      }
     },
     "7fb3afe0b2634b3aa6bda426852839f3": {
      "model_module": "jupyter-js-widgets",
      "model_module_version": "~2.1.4",
      "model_name": "ButtonStyleModel",
      "state": {
       "_model_module_version": "~2.1.4",
       "_view_module_version": "~2.1.4"
      }
     },
     "7ff7886dbe484ebe85c52c5e6abe9fb3": {
      "model_module": "jupyter-js-widgets",
      "model_module_version": "~2.1.4",
      "model_name": "VBoxModel",
      "state": {
       "_model_module_version": "~2.1.4",
       "_view_module_version": "~2.1.4",
       "layout": "IPY_MODEL_b08f72bcf30041da84893701f566a109"
      }
     },
     "83b2786e8c2440d08915be6dd791fd95": {
      "model_module": "jupyter-js-widgets",
      "model_module_version": "~2.1.4",
      "model_name": "LayoutModel",
      "state": {
       "_model_module_version": "~2.1.4",
       "_view_module_version": "~2.1.4",
       "width": "100%"
      }
     },
     "914acc9b6bab4d41a8bb5d4732edfee8": {
      "model_module": "jupyter-js-widgets",
      "model_module_version": "~2.1.4",
      "model_name": "HTMLModel",
      "state": {
       "_model_module_version": "~2.1.4",
       "_view_module_version": "~2.1.4",
       "layout": "IPY_MODEL_7ae6bde9566b4d95bbdb7cb3cb0b41d8",
       "value": "<iframe style=\"width: 960px\" src=\"https://conx.readthedocs.io\" width=\"100%\" height=\"550px\"></frame>"
      }
     },
     "917a47e874e047b9a73edee49dacd4aa": {
      "model_module": "jupyter-js-widgets",
      "model_module_version": "~2.1.4",
      "model_name": "LayoutModel",
      "state": {
       "_model_module_version": "~2.1.4",
       "_view_module_version": "~2.1.4",
       "height": "550px",
       "width": "100%"
      }
     },
     "929492fa39bf4250b9f2660685b6c770": {
      "model_module": "jupyter-js-widgets",
      "model_module_version": "~2.1.4",
      "model_name": "VBoxModel",
      "state": {
       "_model_module_version": "~2.1.4",
       "_view_module_version": "~2.1.4",
       "children": [
        "IPY_MODEL_6e6c808f06cf4d03a97e2f25dfddf699",
        "IPY_MODEL_2fe46f91863d4203a3abe71fb790d2c9"
       ],
       "layout": "IPY_MODEL_94df001a02dd49ffa09be85bd6e6d104"
      }
     },
     "9397d65d1e3542dd92277aed328ff66f": {
      "model_module": "jupyter-js-widgets",
      "model_module_version": "~2.1.4",
      "model_name": "ButtonStyleModel",
      "state": {
       "_model_module_version": "~2.1.4",
       "_view_module_version": "~2.1.4"
      }
     },
     "93e1f346c8f84235a6d19f63d2daf27a": {
      "model_module": "jupyter-js-widgets",
      "model_module_version": "~2.1.4",
      "model_name": "VBoxModel",
      "state": {
       "_model_module_version": "~2.1.4",
       "_view_module_version": "~2.1.4",
       "layout": "IPY_MODEL_70236ab6e3424c16b9f182211de87e20"
      }
     },
     "94df001a02dd49ffa09be85bd6e6d104": {
      "model_module": "jupyter-js-widgets",
      "model_module_version": "~2.1.4",
      "model_name": "LayoutModel",
      "state": {
       "_model_module_version": "~2.1.4",
       "_view_module_version": "~2.1.4",
       "height": "550px",
       "width": "100%"
      }
     },
     "95a2dfb014a24d328140cfdd5d353e35": {
      "model_module": "jupyter-js-widgets",
      "model_module_version": "~2.1.4",
      "model_name": "ButtonModel",
      "state": {
       "_model_module_version": "~2.1.4",
       "_view_module_version": "~2.1.4",
       "icon": "fast-forward",
       "layout": "IPY_MODEL_f22c159f4c444aa4a3da6c446b6f1391",
       "style": "IPY_MODEL_61ed6d84444e44278cbb7f2d0b29581f"
      }
     },
     "95a98576527c4a0f98207e41699882dc": {
      "model_module": "jupyter-js-widgets",
      "model_module_version": "~2.1.4",
      "model_name": "VBoxModel",
      "state": {
       "_model_module_version": "~2.1.4",
       "_view_module_version": "~2.1.4",
       "children": [
        "IPY_MODEL_7ee09fa38b214b29adf6e5b2f7303a12",
        "IPY_MODEL_eb8c9a390e4943a0af9ffe767d25e25a",
        "IPY_MODEL_4b13ff4b098a4aa8be89fe16fded931d"
       ],
       "layout": "IPY_MODEL_1cdc74643d4548cc95839574ac9d4979"
      }
     },
     "96bbf96a4fa146588c9928233a21299e": {
      "model_module": "jupyter-js-widgets",
      "model_module_version": "~2.1.4",
      "model_name": "LayoutModel",
      "state": {
       "_model_module_version": "~2.1.4",
       "_view_module_version": "~2.1.4",
       "width": "100%"
      }
     },
     "976a35eb3c0749cd86c1e05f398c6b77": {
      "model_module": "jupyter-js-widgets",
      "model_module_version": "~2.1.4",
      "model_name": "LayoutModel",
      "state": {
       "_model_module_version": "~2.1.4",
       "_view_module_version": "~2.1.4",
       "height": "550px",
       "width": "100%"
      }
     },
     "989da16673994ffc95a714ef51891134": {
      "model_module": "jupyter-js-widgets",
      "model_module_version": "~2.1.4",
      "model_name": "ButtonModel",
      "state": {
       "_model_module_version": "~2.1.4",
       "_view_module_version": "~2.1.4",
       "icon": "forward",
       "layout": "IPY_MODEL_c18b960f1443420eaf73ef95a1bc9bea",
       "style": "IPY_MODEL_e2ee1d10dcdf4ac3a63c3f76feba3fb8"
      }
     },
     "9a0bb2df911d462db01f1019825ba1f2": {
      "model_module": "jupyter-js-widgets",
      "model_module_version": "~2.1.4",
      "model_name": "ButtonModel",
      "state": {
       "_model_module_version": "~2.1.4",
       "_view_module_version": "~2.1.4",
       "icon": "forward",
       "layout": "IPY_MODEL_96bbf96a4fa146588c9928233a21299e",
       "style": "IPY_MODEL_f136d6f9fe7548a095cc547fb14b12d8"
      }
     },
     "9d132ea819f54d41989bc4c448a42b3b": {
      "model_module": "jupyter-js-widgets",
      "model_module_version": "~2.1.4",
      "model_name": "ButtonModel",
      "state": {
       "_model_module_version": "~2.1.4",
       "_view_module_version": "~2.1.4",
       "description": "Train",
       "layout": "IPY_MODEL_d5d2cd42728a4ea2bcf19ea886b3b850",
       "style": "IPY_MODEL_e4e33c7789734b2ca63368bcfabe454d"
      }
     },
     "9f339ba15d8a44af9b41d41f7d144a4e": {
      "model_module": "jupyter-js-widgets",
      "model_module_version": "~2.1.4",
      "model_name": "VBoxModel",
      "state": {
       "_model_module_version": "~2.1.4",
       "_view_module_version": "~2.1.4",
       "children": [
        "IPY_MODEL_fcdeca7eb8df4671b13be642e6c3132d",
        "IPY_MODEL_95a98576527c4a0f98207e41699882dc"
       ],
       "layout": "IPY_MODEL_917a47e874e047b9a73edee49dacd4aa"
      }
     },
     "9f6259fb8dce42c5817a0f5a0009439b": {
      "model_module": "jupyter-js-widgets",
      "model_module_version": "~2.1.4",
      "model_name": "LayoutModel",
      "state": {
       "_model_module_version": "~2.1.4",
       "_view_module_version": "~2.1.4",
       "height": "550px",
       "width": "100%"
      }
     },
     "9f97c8d52f644a4494aedcf8bb04a86b": {
      "model_module": "jupyter-js-widgets",
      "model_module_version": "~2.1.4",
      "model_name": "ButtonModel",
      "state": {
       "_model_module_version": "~2.1.4",
       "_view_module_version": "~2.1.4",
       "icon": "fast-backward",
       "layout": "IPY_MODEL_3700843fb705456ea2c89b43feed9450",
       "style": "IPY_MODEL_53bc9fe136cc450a82efeee40dc3842b"
      }
     },
     "a1b0959833f543d09bf54c51677f4b91": {
      "model_module": "jupyter-js-widgets",
      "model_module_version": "~2.1.4",
      "model_name": "ButtonStyleModel",
      "state": {
       "_model_module_version": "~2.1.4",
       "_view_module_version": "~2.1.4"
      }
     },
     "a1bf4b8d1a784270985e97fce145bf05": {
      "model_module": "jupyter-js-widgets",
      "model_module_version": "~2.1.4",
      "model_name": "VBoxModel",
      "state": {
       "_model_module_version": "~2.1.4",
       "_view_module_version": "~2.1.4",
       "layout": "IPY_MODEL_de8422d1ea1b469082ac2a7b8c0ead6b"
      }
     },
     "a3e67d4805bc468f807b26e351171888": {
      "model_module": "jupyter-js-widgets",
      "model_module_version": "~2.1.4",
      "model_name": "ButtonStyleModel",
      "state": {
       "_model_module_version": "~2.1.4",
       "_view_module_version": "~2.1.4"
      }
     },
     "a6981c3b7ada4398b0927fe0d4041a7a": {
      "model_module": "jupyter-js-widgets",
      "model_module_version": "~2.1.4",
      "model_name": "LayoutModel",
      "state": {
       "_model_module_version": "~2.1.4",
       "_view_module_version": "~2.1.4"
      }
     },
     "a92afa27d0e24df191ec912752a9d503": {
      "model_module": "jupyter-js-widgets",
      "model_module_version": "~2.1.4",
      "model_name": "LayoutModel",
      "state": {
       "_model_module_version": "~2.1.4",
       "_view_module_version": "~2.1.4"
      }
     },
     "abdeb5c83b69471784a828802e7acec7": {
      "model_module": "jupyter-js-widgets",
      "model_module_version": "~2.1.4",
      "model_name": "IntSliderModel",
      "state": {
       "_model_module_version": "~2.1.4",
       "_view_module_version": "~2.1.4",
       "continuous_update": false,
       "description": "Dataset index",
       "layout": "IPY_MODEL_142e5a4f979b4bf19cd16081ff65541e",
       "max": 99,
       "style": "IPY_MODEL_55618975bc7c404d83e3b1da681ca751"
      }
     },
     "afff8a25c1a64484b3eb3be318370071": {
      "model_module": "jupyter-js-widgets",
      "model_module_version": "~2.1.4",
      "model_name": "ButtonStyleModel",
      "state": {
       "_model_module_version": "~2.1.4",
       "_view_module_version": "~2.1.4"
      }
     },
     "b08f72bcf30041da84893701f566a109": {
      "model_module": "jupyter-js-widgets",
      "model_module_version": "~2.1.4",
      "model_name": "LayoutModel",
      "state": {
       "_model_module_version": "~2.1.4",
       "_view_module_version": "~2.1.4",
       "height": "550px",
       "width": "100%"
      }
     },
     "b0bbbf50f850440e811addb85f5ef681": {
      "model_module": "jupyter-js-widgets",
      "model_module_version": "~2.1.4",
      "model_name": "ButtonModel",
      "state": {
       "_model_module_version": "~2.1.4",
       "_view_module_version": "~2.1.4",
       "description": "Train",
       "layout": "IPY_MODEL_260b3e8422884e21b382dd180f41b52e",
       "style": "IPY_MODEL_9397d65d1e3542dd92277aed328ff66f"
      }
     },
     "b16107ae8e1b4e249e4f86bf03b38edd": {
      "model_module": "jupyter-js-widgets",
      "model_module_version": "~2.1.4",
      "model_name": "ButtonStyleModel",
      "state": {
       "_model_module_version": "~2.1.4",
       "_view_module_version": "~2.1.4"
      }
     },
     "b312ac3c3c5c4a328620a98932ca3349": {
      "model_module": "jupyter-js-widgets",
      "model_module_version": "~2.1.4",
      "model_name": "LayoutModel",
      "state": {
       "_model_module_version": "~2.1.4",
       "_view_module_version": "~2.1.4",
       "height": "550px",
       "width": "100%"
      }
     },
     "b820694d553b4f8e840c2cdfd804e096": {
      "model_module": "jupyter-js-widgets",
      "model_module_version": "~2.1.4",
      "model_name": "IntSliderModel",
      "state": {
       "_model_module_version": "~2.1.4",
       "_view_module_version": "~2.1.4",
       "continuous_update": false,
       "description": "Dataset index",
       "layout": "IPY_MODEL_69996aec642e4ccba7860fa788e7b33f",
       "max": 99,
       "style": "IPY_MODEL_ef625d992e254679a0d207cf54010019"
      }
     },
     "be21d353bb4c4186b34b79aebc7bba87": {
      "model_module": "jupyter-js-widgets",
      "model_module_version": "~2.1.4",
      "model_name": "ButtonModel",
      "state": {
       "_model_module_version": "~2.1.4",
       "_view_module_version": "~2.1.4",
       "icon": "fast-forward",
       "layout": "IPY_MODEL_67e6e5297635433f9d0bb40902605d08",
       "style": "IPY_MODEL_e161e51d3f294489809998962e12d744"
      }
     },
     "c18b960f1443420eaf73ef95a1bc9bea": {
      "model_module": "jupyter-js-widgets",
      "model_module_version": "~2.1.4",
      "model_name": "LayoutModel",
      "state": {
       "_model_module_version": "~2.1.4",
       "_view_module_version": "~2.1.4",
       "width": "100%"
      }
     },
     "c7a7a2a8d95d4b3dbb4b66597f131bbd": {
      "model_module": "jupyter-js-widgets",
      "model_module_version": "~2.1.4",
      "model_name": "LayoutModel",
      "state": {
       "_model_module_version": "~2.1.4",
       "_view_module_version": "~2.1.4",
       "width": "100%"
      }
     },
     "ca95afa94d48436099b1cb5e82668b22": {
      "model_module": "jupyter-js-widgets",
      "model_module_version": "~2.1.4",
      "model_name": "VBoxModel",
      "state": {
       "_model_module_version": "~2.1.4",
       "_view_module_version": "~2.1.4",
       "layout": "IPY_MODEL_5fbdd0c0a1524ec2bb9aedd4033fb934"
      }
     },
     "cc3e753478a949f599c10ccd337c6dfe": {
      "model_module": "jupyter-js-widgets",
      "model_module_version": "~2.1.4",
      "model_name": "ButtonModel",
      "state": {
       "_model_module_version": "~2.1.4",
       "_view_module_version": "~2.1.4",
       "icon": "forward",
       "layout": "IPY_MODEL_fb162570b52a4e4ca77dfbdccba3bac1",
       "style": "IPY_MODEL_a1b0959833f543d09bf54c51677f4b91"
      }
     },
     "cc5108998dcc4f599a8aa47b404b12c9": {
      "model_module": "jupyter-js-widgets",
      "model_module_version": "~2.1.4",
      "model_name": "LayoutModel",
      "state": {
       "_model_module_version": "~2.1.4",
       "_view_module_version": "~2.1.4"
      }
     },
     "d1ec9a9ee1f346f590843f4d98b659c6": {
      "model_module": "jupyter-js-widgets",
      "model_module_version": "~2.1.4",
      "model_name": "LayoutModel",
      "state": {
       "_model_module_version": "~2.1.4",
       "_view_module_version": "~2.1.4",
       "height": "550px",
       "width": "100%"
      }
     },
     "d5d2cd42728a4ea2bcf19ea886b3b850": {
      "model_module": "jupyter-js-widgets",
      "model_module_version": "~2.1.4",
      "model_name": "LayoutModel",
      "state": {
       "_model_module_version": "~2.1.4",
       "_view_module_version": "~2.1.4",
       "width": "100%"
      }
     },
     "d7ee43435a0d46bb8cbbf310025b1298": {
      "model_module": "jupyter-js-widgets",
      "model_module_version": "~2.1.4",
      "model_name": "ButtonModel",
      "state": {
       "_model_module_version": "~2.1.4",
       "_view_module_version": "~2.1.4",
       "icon": "fast-backward",
       "layout": "IPY_MODEL_f9cacefd5a084cf393233b597932b94e",
       "style": "IPY_MODEL_a3e67d4805bc468f807b26e351171888"
      }
     },
     "da6bb495217f46cb90f40adc2923073c": {
      "model_module": "jupyter-js-widgets",
      "model_module_version": "~2.1.4",
      "model_name": "LayoutModel",
      "state": {
       "_model_module_version": "~2.1.4",
       "_view_module_version": "~2.1.4",
       "height": "550px",
       "width": "100%"
      }
     },
     "de8422d1ea1b469082ac2a7b8c0ead6b": {
      "model_module": "jupyter-js-widgets",
      "model_module_version": "~2.1.4",
      "model_name": "LayoutModel",
      "state": {
       "_model_module_version": "~2.1.4",
       "_view_module_version": "~2.1.4",
       "height": "550px",
       "width": "100%"
      }
     },
     "e161e51d3f294489809998962e12d744": {
      "model_module": "jupyter-js-widgets",
      "model_module_version": "~2.1.4",
      "model_name": "ButtonStyleModel",
      "state": {
       "_model_module_version": "~2.1.4",
       "_view_module_version": "~2.1.4"
      }
     },
     "e2ee1d10dcdf4ac3a63c3f76feba3fb8": {
      "model_module": "jupyter-js-widgets",
      "model_module_version": "~2.1.4",
      "model_name": "ButtonStyleModel",
      "state": {
       "_model_module_version": "~2.1.4",
       "_view_module_version": "~2.1.4"
      }
     },
     "e403f7f85c664fe0ab060dcd7588fc32": {
      "model_module": "jupyter-js-widgets",
      "model_module_version": "~2.1.4",
      "model_name": "ButtonStyleModel",
      "state": {
       "_model_module_version": "~2.1.4",
       "_view_module_version": "~2.1.4"
      }
     },
     "e4e33c7789734b2ca63368bcfabe454d": {
      "model_module": "jupyter-js-widgets",
      "model_module_version": "~2.1.4",
      "model_name": "ButtonStyleModel",
      "state": {
       "_model_module_version": "~2.1.4",
       "_view_module_version": "~2.1.4"
      }
     },
     "e61bc726273d4ee5a5adf39b9cfeafd2": {
      "model_module": "jupyter-js-widgets",
      "model_module_version": "~2.1.4",
      "model_name": "LayoutModel",
      "state": {
       "_model_module_version": "~2.1.4",
       "_view_module_version": "~2.1.4",
       "height": "550px",
       "width": "100%"
      }
     },
     "e6306c51e5974668ad1d492a73f1e2b8": {
      "model_module": "jupyter-js-widgets",
      "model_module_version": "~2.1.4",
      "model_name": "HBoxModel",
      "state": {
       "_model_module_version": "~2.1.4",
       "_view_module_version": "~2.1.4",
       "children": [
        "IPY_MODEL_d7ee43435a0d46bb8cbbf310025b1298",
        "IPY_MODEL_512f1f5cf82a4f1db4c0e92b5d2a1171",
        "IPY_MODEL_b0bbbf50f850440e811addb85f5ef681",
        "IPY_MODEL_989da16673994ffc95a714ef51891134",
        "IPY_MODEL_be21d353bb4c4186b34b79aebc7bba87"
       ],
       "layout": "IPY_MODEL_40e9575b9b0e4617933639f53600134f"
      }
     },
     "e90fa560b5d341f291baf677bfcce5c6": {
      "model_module": "jupyter-js-widgets",
      "model_module_version": "~2.1.4",
      "model_name": "VBoxModel",
      "state": {
       "_model_module_version": "~2.1.4",
       "_view_module_version": "~2.1.4",
       "children": [
        "IPY_MODEL_08044347ebfb465b9ac3294d55c3e9e1"
       ],
       "layout": "IPY_MODEL_d1ec9a9ee1f346f590843f4d98b659c6"
      }
     },
     "e93def9aa6bd4fcfb9a2bad45cb93275": {
      "model_module": "jupyter-js-widgets",
      "model_module_version": "~2.1.4",
      "model_name": "LayoutModel",
      "state": {
       "_model_module_version": "~2.1.4",
       "_view_module_version": "~2.1.4",
       "width": "100%"
      }
     },
     "eb8c9a390e4943a0af9ffe767d25e25a": {
      "model_module": "jupyter-js-widgets",
      "model_module_version": "~2.1.4",
      "model_name": "IntSliderModel",
      "state": {
       "_model_module_version": "~2.1.4",
       "_view_module_version": "~2.1.4",
       "continuous_update": false,
       "description": "Dataset index",
       "layout": "IPY_MODEL_83b2786e8c2440d08915be6dd791fd95",
       "max": 69999,
       "style": "IPY_MODEL_314f09438da047869d24d94367b699e3"
      }
     },
     "ed293ecdbfc34a6b8038359b90b73339": {
      "model_module": "jupyter-js-widgets",
      "model_module_version": "~2.1.4",
      "model_name": "ButtonModel",
      "state": {
       "_model_module_version": "~2.1.4",
       "_view_module_version": "~2.1.4",
       "icon": "fast-backward",
       "layout": "IPY_MODEL_c7a7a2a8d95d4b3dbb4b66597f131bbd",
       "style": "IPY_MODEL_0c9c08123b0649c5adc361d7eba43a66"
      }
     },
     "ee08869bba7649eab5e3d5965343ac20": {
      "model_module": "jupyter-js-widgets",
      "model_module_version": "~2.1.4",
      "model_name": "TabModel",
      "state": {
       "_model_module_version": "~2.1.4",
       "_titles": {
        "0": "Network",
        "1": "Graphs",
        "2": "Analysis",
        "3": "Camera",
        "4": "Help"
       },
       "_view_module_version": "~2.1.4",
       "children": [
        "IPY_MODEL_9f339ba15d8a44af9b41d41f7d144a4e",
        "IPY_MODEL_a1bf4b8d1a784270985e97fce145bf05",
        "IPY_MODEL_6941b9e1beea43f285a048ada51e377f",
        "IPY_MODEL_e90fa560b5d341f291baf677bfcce5c6",
        "IPY_MODEL_1539cc9b0f9a44c3ac412e54bf02a4ba"
       ],
       "layout": "IPY_MODEL_f3fb8aedd15444799107925a0d932fce"
      }
     },
     "ef625d992e254679a0d207cf54010019": {
      "model_module": "jupyter-js-widgets",
      "model_module_version": "~2.1.4",
      "model_name": "SliderStyleModel",
      "state": {
       "_model_module_version": "~2.1.4",
       "_view_module_version": "~2.1.4"
      }
     },
     "f0319cd2e84f49fb817f083acdd35b70": {
      "model_module": "jupyter-js-widgets",
      "model_module_version": "~2.1.4",
      "model_name": "ButtonModel",
      "state": {
       "_model_module_version": "~2.1.4",
       "_view_module_version": "~2.1.4",
       "description": "Turn on webcamera",
       "layout": "IPY_MODEL_0f2e5843f2824edb9eeab23ccc0e9f18",
       "style": "IPY_MODEL_b16107ae8e1b4e249e4f86bf03b38edd"
      }
     },
     "f136d6f9fe7548a095cc547fb14b12d8": {
      "model_module": "jupyter-js-widgets",
      "model_module_version": "~2.1.4",
      "model_name": "ButtonStyleModel",
      "state": {
       "_model_module_version": "~2.1.4",
       "_view_module_version": "~2.1.4"
      }
     },
     "f22c159f4c444aa4a3da6c446b6f1391": {
      "model_module": "jupyter-js-widgets",
      "model_module_version": "~2.1.4",
      "model_name": "LayoutModel",
      "state": {
       "_model_module_version": "~2.1.4",
       "_view_module_version": "~2.1.4",
       "width": "100%"
      }
     },
     "f3fb8aedd15444799107925a0d932fce": {
      "model_module": "jupyter-js-widgets",
      "model_module_version": "~2.1.4",
      "model_name": "LayoutModel",
      "state": {
       "_model_module_version": "~2.1.4",
       "_view_module_version": "~2.1.4"
      }
     },
     "f527b525eca64816bd7e364e715f745a": {
      "model_module": "jupyter-js-widgets",
      "model_module_version": "~2.1.4",
      "model_name": "ButtonModel",
      "state": {
       "_model_module_version": "~2.1.4",
       "_view_module_version": "~2.1.4",
       "icon": "fast-forward",
       "layout": "IPY_MODEL_5ef8ce73483f43888fd33d8b181e73f8",
       "style": "IPY_MODEL_00eaa135833f4795a0c98208047968da"
      }
     },
     "f5b7c515dec444ba9bf8a71d1cc33377": {
      "model_module": "jupyter-js-widgets",
      "model_module_version": "~2.1.4",
      "model_name": "HTMLModel",
      "state": {
       "_model_module_version": "~2.1.4",
       "_view_module_version": "~2.1.4",
       "layout": "IPY_MODEL_fa56e7adfb6b49a69c784559e29455af",
       "value": "\n        <svg id='MNIST-CNN' xmlns='http://www.w3.org/2000/svg' width=\"650\" height=\"1272\" image-rendering=\"pixelated\">\n    <defs>\n        <marker id=\"arrow\" markerWidth=\"10\" markerHeight=\"10\" refX=\"9\" refY=\"3\" orient=\"auto\" markerUnits=\"strokeWidth\">\n          <path d=\"M0,0 L0,6 L9,3 z\" fill=\"blue\" />\n        </marker>\n    </defs>\n<text x=\"325.0\" y=\"12.5\" font-family=\"monospace\" font-size=\"15\" text-anchor=\"middle\" alignment-baseline=\"central\">MNIST-CNN</text><rect x=\"224.0\" y=\"29\" width=\"202\" height=\"27\" style=\"fill:none;stroke:blue;stroke-width:2\"/><image id=\"MNIST-CNN_output_1\" class=\"MNIST-CNN_output\" x=\"225.0\" y=\"30\" height=\"25\" width=\"200\" preserveAspectRatio=\"none\" href=\"data:image/gif;base64,R0lGODdhCgABAIcAAHMDIKkVKYoLJJsQJ7gkMb8yN8ZAPuF7YQAAAAAAAAAAAAAAAAAAAAAAAAAAAAAAAAAAAAAAAAAAAAAAAAAAAAAAAAAAAAAAAAAAAAAAAAAAAAAAAAAAAAAAAAAAAAAAAAAAAAAAAAAAAAAAAAAAAAAAAAAAAAAAAAAAAAAAAAAAAAAAAAAAAAAAAAAAAAAAAAAAAAAAAAAAAAAAAAAAAAAAAAAAAAAAAAAAAAAAAAAAAAAAAAAAAAAAAAAAAAAAAAAAAAAAAAAAAAAAAAAAAAAAAAAAAAAAAAAAAAAAAAAAAAAAAAAAAAAAAAAAAAAAAAAAAAAAAAAAAAAAAAAAAAAAAAAAAAAAAAAAAAAAAAAAAAAAAAAAAAAAAAAAAAAAAAAAAAAAAAAAAAAAAAAAAAAAAAAAAAAAAAAAAAAAAAAAAAAAAAAAAAAAAAAAAAAAAAAAAAAAAAAAAAAAAAAAAAAAAAAAAAAAAAAAAAAAAAAAAAAAAAAAAAAAAAAAAAAAAAAAAAAAAAAAAAAAAAAAAAAAAAAAAAAAAAAAAAAAAAAAAAAAAAAAAAAAAAAAAAAAAAAAAAAAAAAAAAAAAAAAAAAAAAAAAAAAAAAAAAAAAAAAAAAAAAAAAAAAAAAAAAAAAAAAAAAAAAAAAAAAAAAAAAAAAAAAAAAAAAAAAAAAAAAAAAAAAAAAAAAAAAAAAAAAAAAAAAAAAAAAAAAAAAAAAAAAAAAAAAAAAAAAAAAAAAAAAAAAAAAAAAAAAAAAAAAAAAAAAAAAAAAAAAAAAAAAAAAAAAAAAAAAAAAAAAAAAAAAAAAAAAAAAAAAAAAAAAAAAAAAAAAAAAAAAAAAAAAAAAAAAAAAAAAAAAAAAAAAAAAAAAAAAAAAAAAAAAAAAAAAAAAAAAAAAAAAAAAAAAAAAAAAAAAAAAAAAAAAAAAAAAAAAAAAAAAAAAAAAAAAAAAAAAAAAAAAAAAAAAAAAAAAAAAAAAAAAAAAAAAAAAAAAAAAAAAAAAAAAAAAAAAAAAAAACwAAAAACgABAAAIDgAPEABgIACAAgMEBAgIADs=\"><title>Layer: output (output)\n shape = (10,)\n Keras class = Dense\n activation = softmax</title></image><text x=\"430.0\" y=\"44.5\" font-family=\"monospace\" font-size=\"12\" text-anchor=\"start\" alignment-baseline=\"central\">output</text><line x1=\"325.0\" y1=\"84\" x2=\"325.0\" y2=\"57\" stroke=\"blue\" stroke-width=\"2\" marker-end=\"url(#arrow)\"><title>Weights from hidden to output\n output/kernel has shape (1000, 10)\n output/bias has shape (10,)</title></line><rect x=\"74.0\" y=\"84\" width=\"502\" height=\"34\" style=\"fill:none;stroke:blue;stroke-width:2\"/><image id=\"MNIST-CNN_hidden_2\" class=\"MNIST-CNN_hidden\" x=\"75.0\" y=\"85\" height=\"32\" width=\"500\" preserveAspectRatio=\"none\" href=\"data:image/gif;base64,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\"><title>Layer: hidden (hidden)\n shape = (1000,)\n Keras class = Dense\n activation = relu</title></image><text x=\"580.0\" y=\"103.0\" font-family=\"monospace\" font-size=\"12\" text-anchor=\"start\" alignment-baseline=\"central\">hidden</text><rect x=\"224.0\" y=\"126\" width=\"202\" height=\"202\" style=\"fill:none;stroke:blue;stroke-width:2\"/><image id=\"MNIST-CNN_maxpool2_3\" class=\"MNIST-CNN_maxpool2\" x=\"225.0\" y=\"127\" height=\"200\" width=\"200\" preserveAspectRatio=\"none\" href=\"data:image/gif;base64,R0lGODdhBAAEAIcAAPv7+wAAAAAAAAAAAAAAAAAAAAAAAAAAAAAAAAAAAAAAAAAAAAAAAAAAAAAAAAAAAAAAAAAAAAAAAAAAAAAAAAAAAAAAAAAAAAAAAAAAAAAAAAAAAAAAAAAAAAAAAAAAAAAAAAAAAAAAAAAAAAAAAAAAAAAAAAAAAAAAAAAAAAAAAAAAAAAAAAAAAAAAAAAAAAAAAAAAAAAAAAAAAAAAAAAAAAAAAAAAAAAAAAAAAAAAAAAAAAAAAAAAAAAAAAAAAAAAAAAAAAAAAAAAAAAAAAAAAAAAAAAAAAAAAAAAAAAAAAAAAAAAAAAAAAAAAAAAAAAAAAAAAAAAAAAAAAAAAAAAAAAAAAAAAAAAAAAAAAAAAAAAAAAAAAAAAAAAAAAAAAAAAAAAAAAAAAAAAAAAAAAAAAAAAAAAAAAAAAAAAAAAAAAAAAAAAAAAAAAAAAAAAAAAAAAAAAAAAAAAAAAAAAAAAAAAAAAAAAAAAAAAAAAAAAAAAAAAAAAAAAAAAAAAAAAAAAAAAAAAAAAAAAAAAAAAAAAAAAAAAAAAAAAAAAAAAAAAAAAAAAAAAAAAAAAAAAAAAAAAAAAAAAAAAAAAAAAAAAAAAAAAAAAAAAAAAAAAAAAAAAAAAAAAAAAAAAAAAAAAAAAAAAAAAAAAAAAAAAAAAAAAAAAAAAAAAAAAAAAAAAAAAAAAAAAAAAAAAAAAAAAAAAAAAAAAAAAAAAAAAAAAAAAAAAAAAAAAAAAAAAAAAAAAAAAAAAAAAAAAAAAAAAAAAAAAAAAAAAAAAAAAAAAAAAAAAAAAAAAAAAAAAAAAAAAAAAAAAAAAAAAAAAAAAAAAAAAAAAAAAAAAAAAAAAAAAAAAAAAAAAAAAAAAAAAAAAAAAAAAAAAAAAAAAAAAAAAAAAAAAAAAAAAAAAAAAAAAAAAAAAAAAAAAAAAAAAAAAAAAAAAAAAAAAAAAAAAAAAAAAAAAAAAAAAAAAAAAAAAAAAAAAAAAAAAAAAAAAAAAAAAAAAAAAAAAAAAAAAAAACwAAAAABAAEAAAICQABCBxIsCCAgAA7\"><title>Layer: maxpool2 (hidden)\n Keras class = MaxPooling2D</title></image><text x=\"430.0\" y=\"229.0\" font-family=\"monospace\" font-size=\"12\" text-anchor=\"start\" alignment-baseline=\"central\">maxpool2</text><line x1=\"325.0\" y1=\"356\" x2=\"325.0\" y2=\"329\" stroke=\"blue\" stroke-width=\"2\" marker-end=\"url(#arrow)\"><title>Weights from Conv2D-2 to maxpool2</title></line><rect x=\"224.0\" y=\"356\" width=\"202\" height=\"202\" style=\"fill:none;stroke:blue;stroke-width:2\"/><image id=\"MNIST-CNN_Conv2D-2_4\" class=\"MNIST-CNN_Conv2D-2\" x=\"225.0\" y=\"357\" height=\"200\" width=\"200\" preserveAspectRatio=\"none\" href=\"data:image/gif;base64,R0lGODdhCAAIAIcAAGcAH8ZBPv3s4xoaGigoKGdnZ3d3d54RJ4uLi81PRM5RRtpqVc/Pz/3dy/3i0QAAAAAAAAAAAAAAAAAAAAAAAAAAAAAAAAAAAAAAAAAAAAAAAAAAAAAAAAAAAAAAAAAAAAAAAAAAAAAAAAAAAAAAAAAAAAAAAAAAAAAAAAAAAAAAAAAAAAAAAAAAAAAAAAAAAAAAAAAAAAAAAAAAAAAAAAAAAAAAAAAAAAAAAAAAAAAAAAAAAAAAAAAAAAAAAAAAAAAAAAAAAAAAAAAAAAAAAAAAAAAAAAAAAAAAAAAAAAAAAAAAAAAAAAAAAAAAAAAAAAAAAAAAAAAAAAAAAAAAAAAAAAAAAAAAAAAAAAAAAAAAAAAAAAAAAAAAAAAAAAAAAAAAAAAAAAAAAAAAAAAAAAAAAAAAAAAAAAAAAAAAAAAAAAAAAAAAAAAAAAAAAAAAAAAAAAAAAAAAAAAAAAAAAAAAAAAAAAAAAAAAAAAAAAAAAAAAAAAAAAAAAAAAAAAAAAAAAAAAAAAAAAAAAAAAAAAAAAAAAAAAAAAAAAAAAAAAAAAAAAAAAAAAAAAAAAAAAAAAAAAAAAAAAAAAAAAAAAAAAAAAAAAAAAAAAAAAAAAAAAAAAAAAAAAAAAAAAAAAAAAAAAAAAAAAAAAAAAAAAAAAAAAAAAAAAAAAAAAAAAAAAAAAAAAAAAAAAAAAAAAAAAAAAAAAAAAAAAAAAAAAAAAAAAAAAAAAAAAAAAAAAAAAAAAAAAAAAAAAAAAAAAAAAAAAAAAAAAAAAAAAAAAAAAAAAAAAAAAAAAAAAAAAAAAAAAAAAAAAAAAAAAAAAAAAAAAAAAAAAAAAAAAAAAAAAAAAAAAAAAAAAAAAAAAAAAAAAAAAAAAAAAAAAAAAAAAAAAAAAAAAAAAAAAAAAAAAAAAAAAAAAAAAAAAAAAAAAAAAAAAAAAAAAAAAAAAAAAAAAAAAAAAAAAAAAAAAAAAAAAAAAAAAAAAAAAAAAAAAAAAAAAAAAAAAAAAAAAAAAAAAACwAAAAACAAIAAAIMgABCBxIUOABAAkAKFwIYIEAABABIGDgIACAiwAMNBAAoKPHAAoAiBwpkgCAkygLDAgIADs=\"><title>Layer: Conv2D-2 (hidden)\n Keras class = Conv2D\n activation = relu</title></image><text x=\"430.0\" y=\"459.0\" font-family=\"monospace\" font-size=\"12\" text-anchor=\"start\" alignment-baseline=\"central\">Conv2D-2</text><line x1=\"325.0\" y1=\"586\" x2=\"325.0\" y2=\"559\" stroke=\"blue\" stroke-width=\"2\" marker-end=\"url(#arrow)\"><title>Weights from maxpool1 to Conv2D-2\n Conv2D-2/kernel has shape (5, 5, 16, 132)\n Conv2D-2/bias has shape (132,)</title></line><rect x=\"224.0\" y=\"586\" width=\"202\" height=\"202\" style=\"fill:none;stroke:blue;stroke-width:2\"/><image id=\"MNIST-CNN_maxpool1_5\" class=\"MNIST-CNN_maxpool1\" x=\"225.0\" y=\"587\" height=\"200\" width=\"200\" preserveAspectRatio=\"none\" href=\"data:image/gif;base64,R0lGODdhDAAMAIcAAPv7++np6d3d3QAAAAAAAAAAAAAAAAAAAAAAAAAAAAAAAAAAAAAAAAAAAAAAAAAAAAAAAAAAAAAAAAAAAAAAAAAAAAAAAAAAAAAAAAAAAAAAAAAAAAAAAAAAAAAAAAAAAAAAAAAAAAAAAAAAAAAAAAAAAAAAAAAAAAAAAAAAAAAAAAAAAAAAAAAAAAAAAAAAAAAAAAAAAAAAAAAAAAAAAAAAAAAAAAAAAAAAAAAAAAAAAAAAAAAAAAAAAAAAAAAAAAAAAAAAAAAAAAAAAAAAAAAAAAAAAAAAAAAAAAAAAAAAAAAAAAAAAAAAAAAAAAAAAAAAAAAAAAAAAAAAAAAAAAAAAAAAAAAAAAAAAAAAAAAAAAAAAAAAAAAAAAAAAAAAAAAAAAAAAAAAAAAAAAAAAAAAAAAAAAAAAAAAAAAAAAAAAAAAAAAAAAAAAAAAAAAAAAAAAAAAAAAAAAAAAAAAAAAAAAAAAAAAAAAAAAAAAAAAAAAAAAAAAAAAAAAAAAAAAAAAAAAAAAAAAAAAAAAAAAAAAAAAAAAAAAAAAAAAAAAAAAAAAAAAAAAAAAAAAAAAAAAAAAAAAAAAAAAAAAAAAAAAAAAAAAAAAAAAAAAAAAAAAAAAAAAAAAAAAAAAAAAAAAAAAAAAAAAAAAAAAAAAAAAAAAAAAAAAAAAAAAAAAAAAAAAAAAAAAAAAAAAAAAAAAAAAAAAAAAAAAAAAAAAAAAAAAAAAAAAAAAAAAAAAAAAAAAAAAAAAAAAAAAAAAAAAAAAAAAAAAAAAAAAAAAAAAAAAAAAAAAAAAAAAAAAAAAAAAAAAAAAAAAAAAAAAAAAAAAAAAAAAAAAAAAAAAAAAAAAAAAAAAAAAAAAAAAAAAAAAAAAAAAAAAAAAAAAAAAAAAAAAAAAAAAAAAAAAAAAAAAAAAAAAAAAAAAAAAAAAAAAAAAAAAAAAAAAAAAAAAAAAAAAAAAAAAAAAAAAAAAAAAAAAAAAAAAAAAAAAAAAAAAAAAAAAAAAAAAAAAAAAAAAAACwAAAAADAAMAAAISgABCBxIsKDBgwQDCAAQAACAAAAiRgwAIACAixgxBgDAsaPHjyBDihzZMQCAkyhTAggAoGWAAABiAggQAIDNAAEA6AwQAIBPnwEBADs=\"><title>Layer: maxpool1 (hidden)\n Keras class = MaxPooling2D</title></image><text x=\"430.0\" y=\"689.0\" font-family=\"monospace\" font-size=\"12\" text-anchor=\"start\" alignment-baseline=\"central\">maxpool1</text><line x1=\"325.0\" y1=\"816\" x2=\"325.0\" y2=\"789\" stroke=\"blue\" stroke-width=\"2\" marker-end=\"url(#arrow)\"><title>Weights from Conv2D-1 to maxpool1</title></line><rect x=\"224.0\" y=\"816\" width=\"202\" height=\"202\" style=\"fill:none;stroke:blue;stroke-width:2\"/><image id=\"MNIST-CNN_Conv2D-1_6\" class=\"MNIST-CNN_Conv2D-1\" x=\"225.0\" y=\"817\" height=\"200\" width=\"200\" preserveAspectRatio=\"none\" href=\"data:image/gif;base64,R0lGODdhGAAYAIcAAG8CIGcAH7knMqwWKYoLJO2Vdv3j1Pa0lvj08fSnhcE3OdhmUvjEquXl5cpJQsjIyJoQJ74xNrq6usZBPtJZSf3dy4eHh91wWdnZ2eeIbPvSuxoaGnR0dKmpqeB4X+F7Yfi/owAAAAAAAAAAAAAAAAAAAAAAAAAAAAAAAAAAAAAAAAAAAAAAAAAAAAAAAAAAAAAAAAAAAAAAAAAAAAAAAAAAAAAAAAAAAAAAAAAAAAAAAAAAAAAAAAAAAAAAAAAAAAAAAAAAAAAAAAAAAAAAAAAAAAAAAAAAAAAAAAAAAAAAAAAAAAAAAAAAAAAAAAAAAAAAAAAAAAAAAAAAAAAAAAAAAAAAAAAAAAAAAAAAAAAAAAAAAAAAAAAAAAAAAAAAAAAAAAAAAAAAAAAAAAAAAAAAAAAAAAAAAAAAAAAAAAAAAAAAAAAAAAAAAAAAAAAAAAAAAAAAAAAAAAAAAAAAAAAAAAAAAAAAAAAAAAAAAAAAAAAAAAAAAAAAAAAAAAAAAAAAAAAAAAAAAAAAAAAAAAAAAAAAAAAAAAAAAAAAAAAAAAAAAAAAAAAAAAAAAAAAAAAAAAAAAAAAAAAAAAAAAAAAAAAAAAAAAAAAAAAAAAAAAAAAAAAAAAAAAAAAAAAAAAAAAAAAAAAAAAAAAAAAAAAAAAAAAAAAAAAAAAAAAAAAAAAAAAAAAAAAAAAAAAAAAAAAAAAAAAAAAAAAAAAAAAAAAAAAAAAAAAAAAAAAAAAAAAAAAAAAAAAAAAAAAAAAAAAAAAAAAAAAAAAAAAAAAAAAAAAAAAAAAAAAAAAAAAAAAAAAAAAAAAAAAAAAAAAAAAAAAAAAAAAAAAAAAAAAAAAAAAAAAAAAAAAAAAAAAAAAAAAAAAAAAAAAAAAAAAAAAAAAAAAAAAAAAAAAAAAAAAAAAAAAAAAAAAAAAAAAAAAAAAAAAAAAAAAAAAAAAAAAAAAAAAAAAAAAAAAAAAAAAAAAAAAAAAAAAAAAAAAAAAAAAAAAAAAAAAAAAAAAAAAAACwAAAAAGAAYAEAI/wABCBxIsKBBgwESKlxIgUAABA0ASJxIkWKAixgxMqiAYACAjyADiBw5MkIGAQIQWNggIECABRQAyJwJIEAAAAcAXNAQoKdPAECBBhg6lEIBAAGSKmXQwIACAFCjSg1AtarVq1YBaBUg4UEBAQHCLhigIICAAAQCBPiAwIAAAHDhBph7gECAAAUC6A0AoK/fv4ABBBhMeLCBAgECAFjMmECAx48HCBgQIYDlABMeNADAGcCBDhYqCAhAuvSBBhUmAFjNurXr1gFiy54dmwCA27gD6N7NOwCEAA4ICBBAgACA4wMSBPDA4MAABwYKOAiQgECBANg1SEgAoHsACA4CiKEfD4BBgAAFGgQYIEDBAADw4QeYHyBBgAAADATYv6AAAIAABA4kKDBAgAsBAoBYEMChQwARJU6UGMAigQgHAgQYMCBAAAAhRY4cGcDkyQAGEiQgAMDlS5cBZM4EMCCAgAA5H3AQAMAngABBhQaAEABAAKRIBxh4cADA06cBBGCQgEFBAKxZGSAwMAHAV7AAFCwIUNZsgAEIEGQA0NbtWwABAQA7\"><title>Layer: Conv2D-1 (hidden)\n Keras class = Conv2D\n activation = relu</title></image><text x=\"430.0\" y=\"919.0\" font-family=\"monospace\" font-size=\"12\" text-anchor=\"start\" alignment-baseline=\"central\">Conv2D-1</text><line x1=\"325.0\" y1=\"1046\" x2=\"325.0\" y2=\"1019\" stroke=\"blue\" stroke-width=\"2\" marker-end=\"url(#arrow)\"><title>Weights from input to Conv2D-1\n Conv2D-1/kernel has shape (5, 5, 1, 16)\n Conv2D-1/bias has shape (16,)</title></line><rect x=\"224.0\" y=\"1046\" width=\"202\" height=\"202\" style=\"fill:none;stroke:blue;stroke-width:2\"/><image id=\"MNIST-CNN_input_7\" class=\"MNIST-CNN_input\" x=\"225.0\" y=\"1047\" height=\"200\" width=\"200\" preserveAspectRatio=\"none\" href=\"data:image/gif;base64,R0lGODdhHAAcAIcAAAoAAP//9jAAAP/8DP//z00AANcAAPMAAG4AAI0AAP+aAP9nAP/MAP//jbMAAP9yAP/pAP//T///c/8lAP9XAP+qAP//Mv82AP9EAP+/AP/WAP//vAAAAAAAAAAAAAAAAAAAAAAAAAAAAAAAAAAAAAAAAAAAAAAAAAAAAAAAAAAAAAAAAAAAAAAAAAAAAAAAAAAAAAAAAAAAAAAAAAAAAAAAAAAAAAAAAAAAAAAAAAAAAAAAAAAAAAAAAAAAAAAAAAAAAAAAAAAAAAAAAAAAAAAAAAAAAAAAAAAAAAAAAAAAAAAAAAAAAAAAAAAAAAAAAAAAAAAAAAAAAAAAAAAAAAAAAAAAAAAAAAAAAAAAAAAAAAAAAAAAAAAAAAAAAAAAAAAAAAAAAAAAAAAAAAAAAAAAAAAAAAAAAAAAAAAAAAAAAAAAAAAAAAAAAAAAAAAAAAAAAAAAAAAAAAAAAAAAAAAAAAAAAAAAAAAAAAAAAAAAAAAAAAAAAAAAAAAAAAAAAAAAAAAAAAAAAAAAAAAAAAAAAAAAAAAAAAAAAAAAAAAAAAAAAAAAAAAAAAAAAAAAAAAAAAAAAAAAAAAAAAAAAAAAAAAAAAAAAAAAAAAAAAAAAAAAAAAAAAAAAAAAAAAAAAAAAAAAAAAAAAAAAAAAAAAAAAAAAAAAAAAAAAAAAAAAAAAAAAAAAAAAAAAAAAAAAAAAAAAAAAAAAAAAAAAAAAAAAAAAAAAAAAAAAAAAAAAAAAAAAAAAAAAAAAAAAAAAAAAAAAAAAAAAAAAAAAAAAAAAAAAAAAAAAAAAAAAAAAAAAAAAAAAAAAAAAAAAAAAAAAAAAAAAAAAAAAAAAAAAAAAAAAAAAAAAAAAAAAAAAAAAAAAAAAAAAAAAAAAAAAAAAAAAAAAAAAAAAAAAAAAAAAAAAAAAAAAAAAAAAAAAAAAAAAAAAAAAAAAAAAAAAAAAAAAAAAAAAAAAAAAAAAAAAAAAAAAAAAAAAAAAAAAAAAAAAAAAAAAAAAAAAAAAAAAAACwAAAAAHAAcAEAI/wABCBxIsKDBgwcFSAjAkOEACAQIAJhIsaLFixUFHAgQYACAjyBDfnwQoGSEBQsEAFjJsqXLlzBjypwpYEAAAwBy6tzJs2fOAhckBBgawIIBAEiTKl3KtKnTpwUQHFDAIIBVqw0YBCAwwAGAr2DDghUAQEGAAwDSql3Ltm1bAwQCBMBQAIDdu3jz6rWbYAGEAAEiABhMuHBhAQwkBFgcYIABAQAiS55MubLly5gza97MufNkAaApPNBQIEMAAhQAqF7NGkCCDQFiy5Z9oHYCBABy696t20CFCQECWBAAAIECAMiTK1/O/EGAAQCiS59OvTp1BAQaVJgAoLv37+DDf1FPMCBAAAUFAKhfz769e/YB4jsAQL++/fv2EShoEKB/AIAQAAwkWNAggAIOIgRgGGCAAQARJU6kmIBBgwAZAxBYIADAR5AhRY4kWdLkSZQhAwIAOw==\"><title>Layer: input (input)\n shape = (28, 28, 1)\n Keras class = Input</title></image><text x=\"430.0\" y=\"1149.0\" font-family=\"monospace\" font-size=\"12\" text-anchor=\"start\" alignment-baseline=\"central\">input</text></svg>"
      }
     },
     "f8a6b6e08e7a4e4a82d7256ae16d61a1": {
      "model_module": "jupyter-js-widgets",
      "model_module_version": "~2.1.4",
      "model_name": "LayoutModel",
      "state": {
       "_model_module_version": "~2.1.4",
       "_view_module_version": "~2.1.4",
       "width": "100%"
      }
     },
     "f9cacefd5a084cf393233b597932b94e": {
      "model_module": "jupyter-js-widgets",
      "model_module_version": "~2.1.4",
      "model_name": "LayoutModel",
      "state": {
       "_model_module_version": "~2.1.4",
       "_view_module_version": "~2.1.4",
       "width": "100%"
      }
     },
     "fa56e7adfb6b49a69c784559e29455af": {
      "model_module": "jupyter-js-widgets",
      "model_module_version": "~2.1.4",
      "model_name": "LayoutModel",
      "state": {
       "_model_module_version": "~2.1.4",
       "_view_module_version": "~2.1.4",
       "height": "550px",
       "justify_content": "center",
       "overflow_x": "auto",
       "width": "100%"
      }
     },
     "fb162570b52a4e4ca77dfbdccba3bac1": {
      "model_module": "jupyter-js-widgets",
      "model_module_version": "~2.1.4",
      "model_name": "LayoutModel",
      "state": {
       "_model_module_version": "~2.1.4",
       "_view_module_version": "~2.1.4",
       "width": "100%"
      }
     },
     "fb52ac9fbb0846d7bf3747f764e95451": {
      "model_module": "jupyter-js-widgets",
      "model_module_version": "~2.1.4",
      "model_name": "LayoutModel",
      "state": {
       "_model_module_version": "~2.1.4",
       "_view_module_version": "~2.1.4",
       "width": "100%"
      }
     },
     "fc783963b04440f0bd9058bdfa786f95": {
      "model_module": "jupyter-js-widgets",
      "model_module_version": "~2.1.4",
      "model_name": "HTMLModel",
      "state": {
       "_model_module_version": "~2.1.4",
       "_view_module_version": "~2.1.4",
       "layout": "IPY_MODEL_b312ac3c3c5c4a328620a98932ca3349",
       "value": "<iframe style=\"width: 960px\" src=\"https://conx.readthedocs.io\" width=\"100%\" height=\"550px\"></frame>"
      }
     },
     "fcdeca7eb8df4671b13be642e6c3132d": {
      "model_module": "jupyter-js-widgets",
      "model_module_version": "~2.1.4",
      "model_name": "HTMLModel",
      "state": {
       "_model_module_version": "~2.1.4",
       "_view_module_version": "~2.1.4",
       "layout": "IPY_MODEL_20d240a1115247b68df4773f28b9d8e8",
       "value": "\n        <svg id='MNIST' xmlns='http://www.w3.org/2000/svg' width=\"350\" height=\"570\" image-rendering=\"pixelated\">\n    <defs>\n        <marker id=\"arrow\" markerWidth=\"10\" markerHeight=\"10\" refX=\"9\" refY=\"3\" orient=\"auto\" markerUnits=\"strokeWidth\">\n          <path d=\"M0,0 L0,6 L9,3 z\" fill=\"blue\" />\n        </marker>\n    </defs>\n<text x=\"175.0\" y=\"12.5\" font-family=\"monospace\" font-size=\"15\" text-anchor=\"middle\" alignment-baseline=\"central\">MNIST</text><rect x=\"74.0\" y=\"29\" width=\"202\" height=\"27\" style=\"fill:none;stroke:blue;stroke-width:2\"/><image id=\"MNIST_output_1\" class=\"MNIST_output\" x=\"75.0\" y=\"30\" height=\"25\" width=\"200\" preserveAspectRatio=\"none\" href=\"data:image/gif;base64,R0lGODdhCgABAIcAAKwWKpYPJpsQJ7wtNMZAPgAAAAAAAAAAAAAAAAAAAAAAAAAAAAAAAAAAAAAAAAAAAAAAAAAAAAAAAAAAAAAAAAAAAAAAAAAAAAAAAAAAAAAAAAAAAAAAAAAAAAAAAAAAAAAAAAAAAAAAAAAAAAAAAAAAAAAAAAAAAAAAAAAAAAAAAAAAAAAAAAAAAAAAAAAAAAAAAAAAAAAAAAAAAAAAAAAAAAAAAAAAAAAAAAAAAAAAAAAAAAAAAAAAAAAAAAAAAAAAAAAAAAAAAAAAAAAAAAAAAAAAAAAAAAAAAAAAAAAAAAAAAAAAAAAAAAAAAAAAAAAAAAAAAAAAAAAAAAAAAAAAAAAAAAAAAAAAAAAAAAAAAAAAAAAAAAAAAAAAAAAAAAAAAAAAAAAAAAAAAAAAAAAAAAAAAAAAAAAAAAAAAAAAAAAAAAAAAAAAAAAAAAAAAAAAAAAAAAAAAAAAAAAAAAAAAAAAAAAAAAAAAAAAAAAAAAAAAAAAAAAAAAAAAAAAAAAAAAAAAAAAAAAAAAAAAAAAAAAAAAAAAAAAAAAAAAAAAAAAAAAAAAAAAAAAAAAAAAAAAAAAAAAAAAAAAAAAAAAAAAAAAAAAAAAAAAAAAAAAAAAAAAAAAAAAAAAAAAAAAAAAAAAAAAAAAAAAAAAAAAAAAAAAAAAAAAAAAAAAAAAAAAAAAAAAAAAAAAAAAAAAAAAAAAAAAAAAAAAAAAAAAAAAAAAAAAAAAAAAAAAAAAAAAAAAAAAAAAAAAAAAAAAAAAAAAAAAAAAAAAAAAAAAAAAAAAAAAAAAAAAAAAAAAAAAAAAAAAAAAAAAAAAAAAAAAAAAAAAAAAAAAAAAAAAAAAAAAAAAAAAAAAAAAAAAAAAAAAAAAAAAAAAAAAAAAAAAAAAAAAAAAAAAAAAAAAAAAAAAAAAAAAAAAAAAAAAAAAAAAAAAAAAAAAAAAAAAAAAAAAAAAAAAAAAAAAAAAAAAAAAAAAAAAAAAAAAAAAAAAAAAAAAAAAAAAAAAAAAAAAAAACwAAAAACgABAAAIDQAJCAAQAMAAAAgBBAQAOw==\"><title>Layer: output (output)\n shape = (10,)\n Keras class = Dense\n activation = softmax</title></image><text x=\"280.0\" y=\"44.5\" font-family=\"monospace\" font-size=\"12\" text-anchor=\"start\" alignment-baseline=\"central\">output</text><line x1=\"175.0\" y1=\"84\" x2=\"175.0\" y2=\"57\" stroke=\"blue\" stroke-width=\"2\" marker-end=\"url(#arrow)\"><title>Weights from hidden2 to output\n output/kernel has shape (512, 10)\n output/bias has shape (10,)</title></line><rect x=\"74.0\" y=\"84\" width=\"202\" height=\"102\" style=\"fill:none;stroke:blue;stroke-width:2\"/><image id=\"MNIST_hidden2_2\" class=\"MNIST_hidden2\" x=\"75.0\" y=\"85\" height=\"100\" width=\"200\" preserveAspectRatio=\"none\" href=\"data:image/gif;base64,R0lGODdhIAAQAIcAAGcAH/r39KwXKooLJHcEIfOnhf3l1+rn5cpJQvazlPnHrcI6OthmUcnJybkmMfzcyZsQJ9FXSN1xWueJbbm5ufvRunV1dfi+oicnJ0hISFpaWoeHh+F7YRwcHGpqapOTk6qqqsZAPuB4X+2VdvKgfr4wNt3d3QAAAAAAAAAAAAAAAAAAAAAAAAAAAAAAAAAAAAAAAAAAAAAAAAAAAAAAAAAAAAAAAAAAAAAAAAAAAAAAAAAAAAAAAAAAAAAAAAAAAAAAAAAAAAAAAAAAAAAAAAAAAAAAAAAAAAAAAAAAAAAAAAAAAAAAAAAAAAAAAAAAAAAAAAAAAAAAAAAAAAAAAAAAAAAAAAAAAAAAAAAAAAAAAAAAAAAAAAAAAAAAAAAAAAAAAAAAAAAAAAAAAAAAAAAAAAAAAAAAAAAAAAAAAAAAAAAAAAAAAAAAAAAAAAAAAAAAAAAAAAAAAAAAAAAAAAAAAAAAAAAAAAAAAAAAAAAAAAAAAAAAAAAAAAAAAAAAAAAAAAAAAAAAAAAAAAAAAAAAAAAAAAAAAAAAAAAAAAAAAAAAAAAAAAAAAAAAAAAAAAAAAAAAAAAAAAAAAAAAAAAAAAAAAAAAAAAAAAAAAAAAAAAAAAAAAAAAAAAAAAAAAAAAAAAAAAAAAAAAAAAAAAAAAAAAAAAAAAAAAAAAAAAAAAAAAAAAAAAAAAAAAAAAAAAAAAAAAAAAAAAAAAAAAAAAAAAAAAAAAAAAAAAAAAAAAAAAAAAAAAAAAAAAAAAAAAAAAAAAAAAAAAAAAAAAAAAAAAAAAAAAAAAAAAAAAAAAAAAAAAAAAAAAAAAAAAAAAAAAAAAAAAAAAAAAAAAAAAAAAAAAAAAAAAAAAAAAAAAAAAAAAAAAAAAAAAAAAAAAAAAAAAAAAAAAAAAAAAAAAAAAAAAAAAAAAAAAAAAAAAAAAAAAAAAAAAAAAAAAAAAAAAAAAAAAAAAAAAAAAAAAAAAAAAAAAAAAAAAAAAAAAAAAAAAAAAAAAAAAAAAAAAAAACwAAAAAIAAQAEAI/wABCCQAAAABAQASBghA4QCAhwUADAABoCKAAQAyDgDAMQCAjxMoYABAEkCBBQIAPGjggAQABgYuAHAAgACADAUAGADAMwAAAAYABABAlGgABACSDhgAIMAAAQAYAAAwAACJBgwQADgAwAAEAAAQAAgAoOwEAwAiGBAAAEAAAHDjBugAoC6ABAcAADgwwEACCQcSAMCgAACABQIACDiggMEEAJABDFAQYQMBAAFGADAAoISIAAAWNAAgQEGIDhQACFiQIEMCAQAwAABQAcABAwBAAIgAAECFAgsAAJAAAICAAgAuMABAoACA5xcAFEAgAACABwQAFAAAoAGA7+AFOP9gAADAAwUAKABYD4AAAAAKAABAUAAAAgkA8usPICCBAYAIIgAAoAGACA8aBAwA0JADgwAAAgAAEADAxYsLHBAA0PEDAJAADAQgQACAAAAJAhgA0DKDgwcLABQAACAEAAACGiioAMACAAAPABwoAABAAQABAEwA0DQAAgAADkhoAADAhQQWOEAwAKBAgA8DJEAAMICBhQUMAGyQAABAgwQBGgAYQKAAAAADAACIAAAAAQCBA0CoAABAAwCJAwAYAACAAgAATAAgAMCyhgcBAAAgQGGBgAkRBATgAMA0AAEDAACAEGDCAwAAEAAgAMD2CAAQAAA4gMADAOAVAAx3AMAU+HEABwAosADAOQAHDjYkAKAAQEAAOw==\"><title>Layer: hidden2 (hidden)\n shape = (512,)\n dropout = 0.2\n Keras class = Dense\n activation = relu</title></image><text x=\"280.0\" y=\"137.0\" font-family=\"monospace\" font-size=\"12\" text-anchor=\"start\" alignment-baseline=\"central\">hidden2</text><line x1=\"175.0\" y1=\"214\" x2=\"175.0\" y2=\"187\" stroke=\"blue\" stroke-width=\"2\" marker-end=\"url(#arrow)\"><title>Weights from hidden1 to hidden2\n hidden2/kernel has shape (512, 512)\n hidden2/bias has shape (512,)</title></line><rect x=\"74.0\" y=\"214\" width=\"202\" height=\"102\" style=\"fill:none;stroke:blue;stroke-width:2\"/><image id=\"MNIST_hidden1_3\" class=\"MNIST_hidden1\" x=\"75.0\" y=\"215\" height=\"100\" width=\"200\" preserveAspectRatio=\"none\" href=\"data:image/gif;base64,R0lGODdhIAAQAIcAAGcAH4oLJPv39HUEIKsWKdhlUeaFava2mMtKQvnJsO6Yd8M7O9BVSPSohbgmMenn5pwQJ9nZ2eF8Yv3k1d1xWsfHx+B4X78yN8ZBPvi+ovvSu6Wlpbe3txoaGiQkJJ2dnQAAAAAAAAAAAAAAAAAAAAAAAAAAAAAAAAAAAAAAAAAAAAAAAAAAAAAAAAAAAAAAAAAAAAAAAAAAAAAAAAAAAAAAAAAAAAAAAAAAAAAAAAAAAAAAAAAAAAAAAAAAAAAAAAAAAAAAAAAAAAAAAAAAAAAAAAAAAAAAAAAAAAAAAAAAAAAAAAAAAAAAAAAAAAAAAAAAAAAAAAAAAAAAAAAAAAAAAAAAAAAAAAAAAAAAAAAAAAAAAAAAAAAAAAAAAAAAAAAAAAAAAAAAAAAAAAAAAAAAAAAAAAAAAAAAAAAAAAAAAAAAAAAAAAAAAAAAAAAAAAAAAAAAAAAAAAAAAAAAAAAAAAAAAAAAAAAAAAAAAAAAAAAAAAAAAAAAAAAAAAAAAAAAAAAAAAAAAAAAAAAAAAAAAAAAAAAAAAAAAAAAAAAAAAAAAAAAAAAAAAAAAAAAAAAAAAAAAAAAAAAAAAAAAAAAAAAAAAAAAAAAAAAAAAAAAAAAAAAAAAAAAAAAAAAAAAAAAAAAAAAAAAAAAAAAAAAAAAAAAAAAAAAAAAAAAAAAAAAAAAAAAAAAAAAAAAAAAAAAAAAAAAAAAAAAAAAAAAAAAAAAAAAAAAAAAAAAAAAAAAAAAAAAAAAAAAAAAAAAAAAAAAAAAAAAAAAAAAAAAAAAAAAAAAAAAAAAAAAAAAAAAAAAAAAAAAAAAAAAAAAAAAAAAAAAAAAAAAAAAAAAAAAAAAAAAAAAAAAAAAAAAAAAAAAAAAAAAAAAAAAAAAAAAAAAAAAAAAAAAAAAAAAAAAAAAAAAAAAAAAAAAAAAAAAAAAAAAAAAAAAAAAAAAAAAAAAAAAAAAAAAAAAAAAAAAAAAAAAAAAAAAAAAAAAAAAAAAAAAAAAAAAAAAAAAAAAAACwAAAAAIAAQAEAI/wAPABg48MABAgEAKACAAIDDhwAqAADQAIBFABYCAIAQIQEAABsACAAwAYDJCwAEAFgJYAKAAhgiLEAAAEACAQkGANgJoAGACgUATHgw4cEEAAAEGBjQAAGHCg0EBAAAoAOEAQAMACCwAIABAAQAiHUAQAAABQAoABAAAMACAw4uEICAwQEAAAkYAABwwICAAQAAOAAggAEBAIgNAFi82IKFBAoCAACQIAAABAEiAAAQAAAGAQUAUABAGoCBBg4iCAgAAIIEABQAGAiQAAGAAgUAFACgAIBvAAsACI9AAAAACQAQAAgAoDkAAgUEXABAHYAAAAoAQJAAAAACAA4AAP/gkKEAgPMACgBoACABAAMNAABw0MABAAQDDAAA8AAAAIAFKliQYKFABgAKEgBYMIABAAACJAAAEIEBAAQICBAAAAHARwIPAAQAUBJAAwAINAAAYGDBAAUHCAgAIOEAAAYFAlCoMADABAAAFgAgWpSoBgADAgA4AKDAAQAeClAAAIAAAAMAGADgCkAAAAYPAIw9AICCgAAAABB4AEABAAEYABgAAEABALwDCAAQMIAAAAQAHgQgkKHAAQgAFF8AsAHAAAADAAA4MIABAMyYAwAYAEABAAMARBMAACAAgA8AJgBg8AAAgAAAFiRYAMD2AQAAAgAAMCAAgAEFDgBYAMAeeAQAABQAABAgQQIABAAAMCAAgAAAEjJoADAAwPeAADs=\"><title>Layer: hidden1 (hidden)\n shape = (512,)\n dropout = 0.2\n Keras class = Dense\n activation = relu</title></image><text x=\"280.0\" y=\"267.0\" font-family=\"monospace\" font-size=\"12\" text-anchor=\"start\" alignment-baseline=\"central\">hidden1</text><line x1=\"175.0\" y1=\"344\" x2=\"175.0\" y2=\"317\" stroke=\"blue\" stroke-width=\"2\" marker-end=\"url(#arrow)\"><title>Weights from input to hidden1\n hidden1/kernel has shape (784, 512)\n hidden1/bias has shape (512,)</title></line><rect x=\"74.0\" y=\"344\" width=\"202\" height=\"202\" style=\"fill:none;stroke:blue;stroke-width:2\"/><image id=\"MNIST_input_4\" class=\"MNIST_input\" x=\"75.0\" y=\"345\" height=\"200\" width=\"200\" preserveAspectRatio=\"none\" href=\"data:image/gif;base64,R0lGODdhHAAcAIcAAAoAAP//9jAAAP/8DP//z00AANcAAPMAAG4AAI0AAP+aAP9nAP/MAP//jbMAAP9yAP/pAP//T///c/8lAP9XAP+qAP//Mv82AP9EAP+/AP/WAP//vAAAAAAAAAAAAAAAAAAAAAAAAAAAAAAAAAAAAAAAAAAAAAAAAAAAAAAAAAAAAAAAAAAAAAAAAAAAAAAAAAAAAAAAAAAAAAAAAAAAAAAAAAAAAAAAAAAAAAAAAAAAAAAAAAAAAAAAAAAAAAAAAAAAAAAAAAAAAAAAAAAAAAAAAAAAAAAAAAAAAAAAAAAAAAAAAAAAAAAAAAAAAAAAAAAAAAAAAAAAAAAAAAAAAAAAAAAAAAAAAAAAAAAAAAAAAAAAAAAAAAAAAAAAAAAAAAAAAAAAAAAAAAAAAAAAAAAAAAAAAAAAAAAAAAAAAAAAAAAAAAAAAAAAAAAAAAAAAAAAAAAAAAAAAAAAAAAAAAAAAAAAAAAAAAAAAAAAAAAAAAAAAAAAAAAAAAAAAAAAAAAAAAAAAAAAAAAAAAAAAAAAAAAAAAAAAAAAAAAAAAAAAAAAAAAAAAAAAAAAAAAAAAAAAAAAAAAAAAAAAAAAAAAAAAAAAAAAAAAAAAAAAAAAAAAAAAAAAAAAAAAAAAAAAAAAAAAAAAAAAAAAAAAAAAAAAAAAAAAAAAAAAAAAAAAAAAAAAAAAAAAAAAAAAAAAAAAAAAAAAAAAAAAAAAAAAAAAAAAAAAAAAAAAAAAAAAAAAAAAAAAAAAAAAAAAAAAAAAAAAAAAAAAAAAAAAAAAAAAAAAAAAAAAAAAAAAAAAAAAAAAAAAAAAAAAAAAAAAAAAAAAAAAAAAAAAAAAAAAAAAAAAAAAAAAAAAAAAAAAAAAAAAAAAAAAAAAAAAAAAAAAAAAAAAAAAAAAAAAAAAAAAAAAAAAAAAAAAAAAAAAAAAAAAAAAAAAAAAAAAAAAAAAAAAAAAAAAAAAAAAAAAAAAAAAAAAAAAAAAAAAAAAAAAAAAAAAAAAAAAAAAAAAAAAAAACwAAAAAHAAcAEAI/wABCBxIsKDBgwcFSAjAkOEACAQIAJhIsaLFixUFHAgQYACAjyBDfnwQoGSEBQsEAFjJsqXLlzBjypwpYEAAAwBy6tzJs2fOAhckBBgawIIBAEiTKl3KtKnTpwUQHFDAIIBVqw0YBCAwwAGAr2DDghUAQEGAAwDSql3Ltm1bAwQCBMBQAIDdu3jz6rWbYAGEAAEiABhMuHBhAQwkBFgcYIABAQAiS55MubLly5gza97MufNkAaApPNBQIEMAAhQAqF7NGkCCDQFiy5Z9oHYCBABy696t20CFCQECWBAAAIECAMiTK1/O/EGAAQCiS59OvTp1BAQaVJgAoLv37+DDf1FPMCBAAAUFAKhfz769e/YB4jsAQL++/fv2EShoEKB/AIAQAAwkWNAggAIOIgRgGGCAAQARJU6kmIBBgwAZAxBYIADAR5AhRY4kWdLkSZQhAwIAOw==\"><title>Layer: input (input)\n shape = (784,)\n Keras class = Input</title></image><text x=\"280.0\" y=\"447.0\" font-family=\"monospace\" font-size=\"12\" text-anchor=\"start\" alignment-baseline=\"central\">input</text></svg>"
      }
     }
    },
    "version_major": 1,
    "version_minor": 0
   }
  }
 },
 "nbformat": 4,
 "nbformat_minor": 2
}
