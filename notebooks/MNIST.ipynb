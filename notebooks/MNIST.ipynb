{
 "cells": [
  {
   "cell_type": "markdown",
   "metadata": {},
   "source": [
    "# MNIST"
   ]
  },
  {
   "cell_type": "code",
   "execution_count": 1,
   "metadata": {},
   "outputs": [
    {
     "name": "stderr",
     "output_type": "stream",
     "text": [
      "Using Theano backend.\n"
     ]
    }
   ],
   "source": [
    "from conx import Network, Layer, Conv2DLayer, MaxPool2DLayer, FlattenLayer"
   ]
  },
  {
   "cell_type": "code",
   "execution_count": 2,
   "metadata": {
    "collapsed": true
   },
   "outputs": [],
   "source": [
    "net = Network(\"MNIST\")\n",
    "net.add(Layer(\"input\", shape=784, vshape=(28, 28), colormap=\"hot\", minmax=(0,1)))\n",
    "net.add(Layer(\"hidden1\", shape=512, vshape=(16,32), activation='relu', dropout=0.2))\n",
    "net.add(Layer(\"hidden2\", shape=512, vshape=(16,32), activation='relu', dropout=0.2))\n",
    "net.add(Layer(\"output\", shape=10, activation='softmax'))\n",
    "\n",
    "net.connect('input', 'hidden1')\n",
    "net.connect('hidden1', 'hidden2')\n",
    "net.connect('hidden2', 'output')"
   ]
  },
  {
   "cell_type": "code",
   "execution_count": 3,
   "metadata": {
    "collapsed": true
   },
   "outputs": [],
   "source": [
    "net.compile(loss='mean_squared_error',\n",
    "            optimizer='sgd')"
   ]
  },
  {
   "cell_type": "code",
   "execution_count": 4,
   "metadata": {
    "collapsed": true
   },
   "outputs": [],
   "source": [
    "from keras.utils.vis_utils import model_to_dot\n",
    "from IPython.display import SVG"
   ]
  },
  {
   "cell_type": "code",
   "execution_count": 5,
   "metadata": {},
   "outputs": [
    {
     "data": {
      "image/svg+xml": [
       "<svg height=\"410pt\" viewBox=\"0.00 0.00 133.00 410.00\" width=\"133pt\" xmlns=\"http://www.w3.org/2000/svg\" xmlns:xlink=\"http://www.w3.org/1999/xlink\">\n",
       "<g class=\"graph\" id=\"graph0\" transform=\"scale(1 1) rotate(0) translate(4 406)\">\n",
       "<title>G</title>\n",
       "<polygon fill=\"white\" points=\"-4,4 -4,-406 129,-406 129,4 -4,4\" stroke=\"none\"/>\n",
       "<!-- 140156553699168 -->\n",
       "<g class=\"node\" id=\"node1\"><title>140156553699168</title>\n",
       "<polygon fill=\"none\" points=\"6.5,-0.5 6.5,-36.5 118.5,-36.5 118.5,-0.5 6.5,-0.5\" stroke=\"black\"/>\n",
       "<text font-family=\"Times,serif\" font-size=\"14.00\" text-anchor=\"middle\" x=\"62.5\" y=\"-14.8\">input: InputLayer</text>\n",
       "</g>\n",
       "<!-- 140156553780472 -->\n",
       "<g class=\"node\" id=\"node2\"><title>140156553780472</title>\n",
       "<polygon fill=\"none\" points=\"12,-73.5 12,-109.5 113,-109.5 113,-73.5 12,-73.5\" stroke=\"black\"/>\n",
       "<text font-family=\"Times,serif\" font-size=\"14.00\" text-anchor=\"middle\" x=\"62.5\" y=\"-87.8\">hidden1: Dense</text>\n",
       "</g>\n",
       "<!-- 140156553699168&#45;&gt;140156553780472 -->\n",
       "<g class=\"edge\" id=\"edge1\"><title>140156553699168-&gt;140156553780472</title>\n",
       "<path d=\"M62.5,-36.6871C62.5,-44.7105 62.5,-54.4525 62.5,-63.4309\" fill=\"none\" stroke=\"black\"/>\n",
       "<polygon fill=\"black\" points=\"59.0001,-63.4711 62.5,-73.4712 66.0001,-63.4712 59.0001,-63.4711\" stroke=\"black\"/>\n",
       "</g>\n",
       "<!-- 140156553780808 -->\n",
       "<g class=\"node\" id=\"node3\"><title>140156553780808</title>\n",
       "<polygon fill=\"none\" points=\"-7.10543e-15,-146.5 -7.10543e-15,-182.5 125,-182.5 125,-146.5 -7.10543e-15,-146.5\" stroke=\"black\"/>\n",
       "<text font-family=\"Times,serif\" font-size=\"14.00\" text-anchor=\"middle\" x=\"62.5\" y=\"-160.8\">dropout_1: Dropout</text>\n",
       "</g>\n",
       "<!-- 140156553780472&#45;&gt;140156553780808 -->\n",
       "<g class=\"edge\" id=\"edge2\"><title>140156553780472-&gt;140156553780808</title>\n",
       "<path d=\"M62.5,-109.687C62.5,-117.711 62.5,-127.453 62.5,-136.431\" fill=\"none\" stroke=\"black\"/>\n",
       "<polygon fill=\"black\" points=\"59.0001,-136.471 62.5,-146.471 66.0001,-136.471 59.0001,-136.471\" stroke=\"black\"/>\n",
       "</g>\n",
       "<!-- 140156553780920 -->\n",
       "<g class=\"node\" id=\"node4\"><title>140156553780920</title>\n",
       "<polygon fill=\"none\" points=\"12,-219.5 12,-255.5 113,-255.5 113,-219.5 12,-219.5\" stroke=\"black\"/>\n",
       "<text font-family=\"Times,serif\" font-size=\"14.00\" text-anchor=\"middle\" x=\"62.5\" y=\"-233.8\">hidden2: Dense</text>\n",
       "</g>\n",
       "<!-- 140156553780808&#45;&gt;140156553780920 -->\n",
       "<g class=\"edge\" id=\"edge3\"><title>140156553780808-&gt;140156553780920</title>\n",
       "<path d=\"M62.5,-182.687C62.5,-190.711 62.5,-200.453 62.5,-209.431\" fill=\"none\" stroke=\"black\"/>\n",
       "<polygon fill=\"black\" points=\"59.0001,-209.471 62.5,-219.471 66.0001,-209.471 59.0001,-209.471\" stroke=\"black\"/>\n",
       "</g>\n",
       "<!-- 140156525385768 -->\n",
       "<g class=\"node\" id=\"node5\"><title>140156525385768</title>\n",
       "<polygon fill=\"none\" points=\"-7.10543e-15,-292.5 -7.10543e-15,-328.5 125,-328.5 125,-292.5 -7.10543e-15,-292.5\" stroke=\"black\"/>\n",
       "<text font-family=\"Times,serif\" font-size=\"14.00\" text-anchor=\"middle\" x=\"62.5\" y=\"-306.8\">dropout_2: Dropout</text>\n",
       "</g>\n",
       "<!-- 140156553780920&#45;&gt;140156525385768 -->\n",
       "<g class=\"edge\" id=\"edge4\"><title>140156553780920-&gt;140156525385768</title>\n",
       "<path d=\"M62.5,-255.687C62.5,-263.711 62.5,-273.453 62.5,-282.431\" fill=\"none\" stroke=\"black\"/>\n",
       "<polygon fill=\"black\" points=\"59.0001,-282.471 62.5,-292.471 66.0001,-282.471 59.0001,-282.471\" stroke=\"black\"/>\n",
       "</g>\n",
       "<!-- 140156525385880 -->\n",
       "<g class=\"node\" id=\"node6\"><title>140156525385880</title>\n",
       "<polygon fill=\"none\" points=\"16.5,-365.5 16.5,-401.5 108.5,-401.5 108.5,-365.5 16.5,-365.5\" stroke=\"black\"/>\n",
       "<text font-family=\"Times,serif\" font-size=\"14.00\" text-anchor=\"middle\" x=\"62.5\" y=\"-379.8\">output: Dense</text>\n",
       "</g>\n",
       "<!-- 140156525385768&#45;&gt;140156525385880 -->\n",
       "<g class=\"edge\" id=\"edge5\"><title>140156525385768-&gt;140156525385880</title>\n",
       "<path d=\"M62.5,-328.687C62.5,-336.711 62.5,-346.453 62.5,-355.431\" fill=\"none\" stroke=\"black\"/>\n",
       "<polygon fill=\"black\" points=\"59.0001,-355.471 62.5,-365.471 66.0001,-355.471 59.0001,-355.471\" stroke=\"black\"/>\n",
       "</g>\n",
       "</g>\n",
       "</svg>"
      ],
      "text/plain": [
       "<IPython.core.display.SVG object>"
      ]
     },
     "execution_count": 5,
     "metadata": {},
     "output_type": "execute_result"
    }
   ],
   "source": [
    "SVG(model_to_dot(net.model, rankdir=\"BT\").create_svg())"
   ]
  },
  {
   "cell_type": "code",
   "execution_count": 6,
   "metadata": {},
   "outputs": [
    {
     "name": "stdout",
     "output_type": "stream",
     "text": [
      "Input Summary:\n",
      "   length  : 70000\n",
      "   training: 70000\n",
      "   testing : 0\n",
      "   shape  : (28, 28, 1)\n",
      "   range  : (0.0, 1.0)\n",
      "Target Summary:\n",
      "   length  : 70000\n",
      "   training: 70000\n",
      "   testing : 0\n",
      "   shape  : (10,)\n",
      "   range  : (0.0, 1.0)\n",
      "Slicing dataset 0:100...\n",
      "Input Summary:\n",
      "   length  : 100\n",
      "   training: 100\n",
      "   testing : 0\n",
      "   shape  : (28, 28, 1)\n",
      "   range  : (0.0, 1.0)\n",
      "Target Summary:\n",
      "   length  : 100\n",
      "   training: 100\n",
      "   testing : 0\n",
      "   shape  : (10,)\n",
      "   range  : (0.0, 1.0)\n",
      "Input Summary:\n",
      "   length  : 100\n",
      "   training: 100\n",
      "   testing : 0\n",
      "   shape  : (784,)\n",
      "   range  : (0.0, 1.0)\n",
      "Target Summary:\n",
      "   length  : 100\n",
      "   training: 100\n",
      "   testing : 0\n",
      "   shape  : (10,)\n",
      "   range  : (0.0, 1.0)\n"
     ]
    }
   ],
   "source": [
    "net.load_mnist_dataset()\n",
    "#net.rescale_inputs((0,255), (0,1), 'float32')\n",
    "#net.shuffle_dataset()\n",
    "net.slice_dataset(0, 100)\n",
    "net.reshape_inputs(784)\n",
    "#net.split_dataset(100)"
   ]
  },
  {
   "cell_type": "code",
   "execution_count": 7,
   "metadata": {},
   "outputs": [
    {
     "data": {
      "application/javascript": [
       "\n",
       "require(['base/js/namespace'], function(Jupyter) {\n",
       "    Jupyter.notebook.kernel.comm_manager.register_target('conx_svg_control', function(comm, msg) {\n",
       "        comm.on_msg(function(msg) {\n",
       "            var data = msg[\"content\"][\"data\"];\n",
       "            var images = document.getElementsByClassName(data[\"class\"]);\n",
       "            for (var i = 0; i < images.length; i++) {\n",
       "                images[i].setAttributeNS(null, \"href\", data[\"href\"]);\n",
       "            }\n",
       "        });\n",
       "    });\n",
       "});\n"
      ],
      "text/plain": [
       "<IPython.core.display.Javascript object>"
      ]
     },
     "metadata": {},
     "output_type": "display_data"
    }
   ],
   "source": [
    "widget = net.build_widget()"
   ]
  },
  {
   "cell_type": "code",
   "execution_count": 8,
   "metadata": {},
   "outputs": [
    {
     "data": {
      "application/vnd.jupyter.widget-view+json": {
       "model_id": "b0a6b34325394b659fb3380e7d352125"
      }
     },
     "metadata": {},
     "output_type": "display_data"
    }
   ],
   "source": [
    "widget"
   ]
  },
  {
   "cell_type": "code",
   "execution_count": 9,
   "metadata": {},
   "outputs": [
    {
     "data": {
      "text/plain": [
       "(100, 0.091335326433181763, 0.079999998211860657, 0.0)"
      ]
     },
     "execution_count": 9,
     "metadata": {},
     "output_type": "execute_result"
    }
   ],
   "source": [
    "net.train(100, verbose=0)\n",
    "#net.test()"
   ]
  },
  {
   "cell_type": "code",
   "execution_count": 10,
   "metadata": {},
   "outputs": [
    {
     "name": "stdout",
     "output_type": "stream",
     "text": [
      "CPU times: user 5.67 s, sys: 360 ms, total: 6.03 s\n",
      "Wall time: 5.83 s\n"
     ]
    }
   ],
   "source": [
    "%%time\n",
    "for i in range(100):\n",
    "    net.propagate(net.get_input(i))"
   ]
  },
  {
   "cell_type": "code",
   "execution_count": 11,
   "metadata": {
    "collapsed": true
   },
   "outputs": [],
   "source": [
    "from conx import Network, Layer, Conv2DLayer, MaxPool2DLayer, FlattenLayer"
   ]
  },
  {
   "cell_type": "code",
   "execution_count": 12,
   "metadata": {
    "collapsed": true
   },
   "outputs": [],
   "source": [
    "net = Network(\"MNIST-CNN\")\n",
    "net.add(Layer(\"input\", (28,28,1), colormap=\"hot\", minmax=(0,1)))\n",
    "net.add(Conv2DLayer(\"Conv2D-1\", 16, (5,5), activation=\"relu\"))\n",
    "net.add(MaxPool2DLayer(\"maxpool1\", (2,2)))\n",
    "net.add(Conv2DLayer(\"Conv2D-2\", 132, (5,5), activation=\"relu\")) \n",
    "net.add(MaxPool2DLayer(\"maxpool2\", (2,2)))\n",
    "net.add(FlattenLayer(\"flatten\", visible=False))\n",
    "net.add(Layer(\"hidden\", 1000, activation='relu', vshape=(8,125), image_maxdim=500))\n",
    "net.add(Layer(\"output\", 10, activation='softmax'))\n",
    "\n",
    "net.connect()"
   ]
  },
  {
   "cell_type": "code",
   "execution_count": 13,
   "metadata": {
    "collapsed": true
   },
   "outputs": [],
   "source": [
    "net.compile(loss=\"binary_crossentropy\", optimizer=\"rmsprop\")"
   ]
  },
  {
   "cell_type": "code",
   "execution_count": 14,
   "metadata": {},
   "outputs": [
    {
     "name": "stdout",
     "output_type": "stream",
     "text": [
      "Input Summary:\n",
      "   length  : 70000\n",
      "   training: 70000\n",
      "   testing : 0\n",
      "   shape  : (28, 28, 1)\n",
      "   range  : (0.0, 1.0)\n",
      "Target Summary:\n",
      "   length  : 70000\n",
      "   training: 70000\n",
      "   testing : 0\n",
      "   shape  : (10,)\n",
      "   range  : (0.0, 1.0)\n"
     ]
    }
   ],
   "source": [
    "net.load_mnist_dataset()"
   ]
  },
  {
   "cell_type": "code",
   "execution_count": 15,
   "metadata": {},
   "outputs": [
    {
     "name": "stdout",
     "output_type": "stream",
     "text": [
      "Slicing dataset 0:100...\n",
      "Input Summary:\n",
      "   length  : 100\n",
      "   training: 100\n",
      "   testing : 0\n",
      "   shape  : (28, 28, 1)\n",
      "   range  : (0.0, 1.0)\n",
      "Target Summary:\n",
      "   length  : 100\n",
      "   training: 100\n",
      "   testing : 0\n",
      "   shape  : (10,)\n",
      "   range  : (0.0, 1.0)\n"
     ]
    }
   ],
   "source": [
    "net.slice_dataset(100)"
   ]
  },
  {
   "cell_type": "code",
   "execution_count": 16,
   "metadata": {},
   "outputs": [
    {
     "name": "stdout",
     "output_type": "stream",
     "text": [
      "Training...\n",
      "Epoch 1/1\n",
      "100/100 [==============================] - 0s - loss: 0.3253 - acc: 0.9000\n",
      "========================================================================\n",
      "Epoch #    1 | train error 0.32533 | train accuracy 0.90000 | validate% 0.00000\n"
     ]
    }
   ],
   "source": [
    "net.train()"
   ]
  },
  {
   "cell_type": "code",
   "execution_count": 17,
   "metadata": {},
   "outputs": [
    {
     "data": {
      "application/javascript": [
       "\n",
       "require(['base/js/namespace'], function(Jupyter) {\n",
       "    Jupyter.notebook.kernel.comm_manager.register_target('conx_svg_control', function(comm, msg) {\n",
       "        comm.on_msg(function(msg) {\n",
       "            var data = msg[\"content\"][\"data\"];\n",
       "            var images = document.getElementsByClassName(data[\"class\"]);\n",
       "            for (var i = 0; i < images.length; i++) {\n",
       "                images[i].setAttributeNS(null, \"href\", data[\"href\"]);\n",
       "            }\n",
       "        });\n",
       "    });\n",
       "});\n"
      ],
      "text/plain": [
       "<IPython.core.display.Javascript object>"
      ]
     },
     "metadata": {},
     "output_type": "display_data"
    },
    {
     "data": {
      "application/vnd.jupyter.widget-view+json": {
       "model_id": "b159bb2dc8424e3eab0418a36519fe2c"
      }
     },
     "metadata": {},
     "output_type": "display_data"
    }
   ],
   "source": [
    "net.build_widget()"
   ]
  },
  {
   "cell_type": "code",
   "execution_count": 18,
   "metadata": {
    "collapsed": true
   },
   "outputs": [],
   "source": [
    "for i in range(10):\n",
    "    net.propagate(net.get_input(i))"
   ]
  },
  {
   "cell_type": "code",
   "execution_count": 19,
   "metadata": {},
   "outputs": [
    {
     "name": "stdout",
     "output_type": "stream",
     "text": [
      "Training...\n",
      "Epoch #    2 | train error 0.29443 | train accuracy 0.90000 | validate% 0.00000\n",
      "Epoch #    3 | train error 0.27440 | train accuracy 0.90000 | validate% 0.00000\n",
      "Epoch #    4 | train error 0.20607 | train accuracy 0.93100 | validate% 0.05000\n",
      "Epoch #    5 | train error 0.24029 | train accuracy 0.93000 | validate% 0.02000\n",
      "Epoch #    6 | train error 0.19906 | train accuracy 0.93100 | validate% 0.19000\n",
      "Epoch #    7 | train error 0.13726 | train accuracy 0.95000 | validate% 0.19000\n",
      "Epoch #    8 | train error 0.12067 | train accuracy 0.95900 | validate% 0.43000\n",
      "Epoch #    9 | train error 0.08150 | train accuracy 0.96600 | validate% 0.36000\n",
      "Epoch #   10 | train error 0.07899 | train accuracy 0.97000 | validate% 0.50000\n",
      "Epoch #   11 | train error 0.09017 | train accuracy 0.97700 | validate% 0.54000\n",
      "Epoch #   12 | train error 0.05780 | train accuracy 0.98300 | validate% 0.59000\n",
      "Epoch #   13 | train error 0.03957 | train accuracy 0.99200 | validate% 0.69000\n",
      "Epoch #   14 | train error 0.02201 | train accuracy 0.99800 | validate% 0.80000\n",
      "========================================================================\n",
      "Epoch #   14 | train error 0.02201 | train accuracy 0.99800 | validate% 0.80000\n"
     ]
    }
   ],
   "source": [
    "net.train(epochs=100, accuracy=.7)"
   ]
  }
 ],
 "metadata": {
  "kernelspec": {
   "display_name": "Python 3",
   "language": "python",
   "name": "python3"
  },
  "language_info": {
   "codemirror_mode": {
    "name": "ipython",
    "version": 3
   },
   "file_extension": ".py",
   "mimetype": "text/x-python",
   "name": "python",
   "nbconvert_exporter": "python",
   "pygments_lexer": "ipython3",
   "version": "3.5.3"
  },
  "widgets": {
   "application/vnd.jupyter.widget-state+json": {
    "state": {
     "003bc41457c34c29bf05eceab5de2ee8": {
      "model_module": "jupyter-js-widgets",
      "model_module_version": "~2.1.4",
      "model_name": "LayoutModel",
      "state": {
       "_model_module_version": "~2.1.4",
       "_view_module_version": "~2.1.4",
       "width": "100%"
      }
     },
     "004115969fe541a3a701c51a4e80c528": {
      "model_module": "jupyter-js-widgets",
      "model_module_version": "~2.1.4",
      "model_name": "ButtonModel",
      "state": {
       "_model_module_version": "~2.1.4",
       "_view_module_version": "~2.1.4",
       "icon": "backward",
       "layout": "IPY_MODEL_c8a989a937a141308f4a7f437490ffff",
       "style": "IPY_MODEL_b93457eda9cf44cda551a1be3540e3ce"
      }
     },
     "008b6aa15d3b49f485ac18cb9efc97a5": {
      "model_module": "jupyter-js-widgets",
      "model_module_version": "~2.1.4",
      "model_name": "ButtonStyleModel",
      "state": {
       "_model_module_version": "~2.1.4",
       "_view_module_version": "~2.1.4"
      }
     },
     "060dc566f9c24328b6670f2b293dbcce": {
      "model_module": "jupyter-js-widgets",
      "model_module_version": "~2.1.4",
      "model_name": "ButtonStyleModel",
      "state": {
       "_model_module_version": "~2.1.4",
       "_view_module_version": "~2.1.4"
      }
     },
     "06af4bc05c0448dd9da0fa72fb274b04": {
      "model_module": "jupyter-js-widgets",
      "model_module_version": "~2.1.4",
      "model_name": "LayoutModel",
      "state": {
       "_model_module_version": "~2.1.4",
       "_view_module_version": "~2.1.4",
       "height": "100%",
       "max_height": "550px",
       "overflow_x": "auto",
       "width": "100%"
      }
     },
     "10b9780311654de8998f56337c32ae92": {
      "model_module": "jupyter-js-widgets",
      "model_module_version": "~2.1.4",
      "model_name": "LayoutModel",
      "state": {
       "_model_module_version": "~2.1.4",
       "_view_module_version": "~2.1.4",
       "height": "100%",
       "max_height": "550px",
       "overflow_x": "auto",
       "width": "100%"
      }
     },
     "18ca94272878490a8abd32d0e909fe04": {
      "model_module": "jupyter-js-widgets",
      "model_module_version": "~2.1.4",
      "model_name": "LayoutModel",
      "state": {
       "_model_module_version": "~2.1.4",
       "_view_module_version": "~2.1.4",
       "width": "100%"
      }
     },
     "1af9772e366941f5a73042a3c4ae4b62": {
      "model_module": "jupyter-js-widgets",
      "model_module_version": "~2.1.4",
      "model_name": "ButtonStyleModel",
      "state": {
       "_model_module_version": "~2.1.4",
       "_view_module_version": "~2.1.4"
      }
     },
     "1b1ba83f13244ebbaa711c8f5e4c7e41": {
      "model_module": "jupyter-js-widgets",
      "model_module_version": "~2.1.4",
      "model_name": "ButtonModel",
      "state": {
       "_model_module_version": "~2.1.4",
       "_view_module_version": "~2.1.4",
       "icon": "fast-forward",
       "layout": "IPY_MODEL_003bc41457c34c29bf05eceab5de2ee8",
       "style": "IPY_MODEL_008b6aa15d3b49f485ac18cb9efc97a5"
      }
     },
     "278bfe34694d4dd0b7cf2a1cd7302217": {
      "model_module": "jupyter-js-widgets",
      "model_module_version": "~2.1.4",
      "model_name": "HBoxModel",
      "state": {
       "_model_module_version": "~2.1.4",
       "_view_module_version": "~2.1.4",
       "children": [
        "IPY_MODEL_2e28358fff964dcd9f5f62640e901270",
        "IPY_MODEL_004115969fe541a3a701c51a4e80c528",
        "IPY_MODEL_30e3b92614e34dec994bff58ef6d55d9",
        "IPY_MODEL_61773b921b4444528d873b94e515f169",
        "IPY_MODEL_89b34e511a7a4462a0ad488dedf38fde"
       ],
       "layout": "IPY_MODEL_c2d7c7fe12ae4602b761e54db4b52b9d"
      }
     },
     "2b53e573e97b4f329fdc2f6d146b5977": {
      "model_module": "jupyter-js-widgets",
      "model_module_version": "~2.1.4",
      "model_name": "HBoxModel",
      "state": {
       "_model_module_version": "~2.1.4",
       "_view_module_version": "~2.1.4",
       "children": [
        "IPY_MODEL_c9688b90d22a4fd582fb307408dcb8c7",
        "IPY_MODEL_863825b97b1b4ca4b37e2e4cd329b93f",
        "IPY_MODEL_336319acf4fa4518a18bbd5c05a7f627",
        "IPY_MODEL_c0563e7407704f8abee0c58b18f49de4",
        "IPY_MODEL_1b1ba83f13244ebbaa711c8f5e4c7e41"
       ],
       "layout": "IPY_MODEL_f7800ae3665946e89557a1b08389d052"
      }
     },
     "2e28358fff964dcd9f5f62640e901270": {
      "model_module": "jupyter-js-widgets",
      "model_module_version": "~2.1.4",
      "model_name": "ButtonModel",
      "state": {
       "_model_module_version": "~2.1.4",
       "_view_module_version": "~2.1.4",
       "icon": "fast-backward",
       "layout": "IPY_MODEL_786e5a9a223844f6809b80150a1fb4e0",
       "style": "IPY_MODEL_fd26bdfbddd5483f8b06fb4f227f1ad9"
      }
     },
     "2ff0c083ceda45bd992a2f2b536b28a0": {
      "model_module": "jupyter-js-widgets",
      "model_module_version": "~2.1.4",
      "model_name": "SliderStyleModel",
      "state": {
       "_model_module_version": "~2.1.4",
       "_view_module_version": "~2.1.4"
      }
     },
     "30e3b92614e34dec994bff58ef6d55d9": {
      "model_module": "jupyter-js-widgets",
      "model_module_version": "~2.1.4",
      "model_name": "ButtonModel",
      "state": {
       "_model_module_version": "~2.1.4",
       "_view_module_version": "~2.1.4",
       "description": "Train",
       "layout": "IPY_MODEL_7aafa3828e2d4f1cb757b8f32abc1f96",
       "style": "IPY_MODEL_75dd455c21b3432a8234133630f4311b"
      }
     },
     "31631a1145dd49a49715996c15c57628": {
      "model_module": "jupyter-js-widgets",
      "model_module_version": "~2.1.4",
      "model_name": "SelectModel",
      "state": {
       "_model_module_version": "~2.1.4",
       "_options_labels": [
        "Test",
        "Train"
       ],
       "_view_module_version": "~2.1.4",
       "description": "Dataset:",
       "layout": "IPY_MODEL_4e6a797458244340b72319c1754a8dc4",
       "value": "Train"
      }
     },
     "32da7185bdd9445ea65906484d8e193c": {
      "model_module": "jupyter-js-widgets",
      "model_module_version": "~2.1.4",
      "model_name": "LayoutModel",
      "state": {
       "_model_module_version": "~2.1.4",
       "_view_module_version": "~2.1.4",
       "width": "100%"
      }
     },
     "336319acf4fa4518a18bbd5c05a7f627": {
      "model_module": "jupyter-js-widgets",
      "model_module_version": "~2.1.4",
      "model_name": "ButtonModel",
      "state": {
       "_model_module_version": "~2.1.4",
       "_view_module_version": "~2.1.4",
       "description": "Train",
       "layout": "IPY_MODEL_32da7185bdd9445ea65906484d8e193c",
       "style": "IPY_MODEL_1af9772e366941f5a73042a3c4ae4b62"
      }
     },
     "3466e82c200d435abb00aa340f53abab": {
      "model_module": "jupyter-js-widgets",
      "model_module_version": "~2.1.4",
      "model_name": "IntSliderModel",
      "state": {
       "_model_module_version": "~2.1.4",
       "_view_module_version": "~2.1.4",
       "continuous_update": false,
       "description": "Dataset index",
       "layout": "IPY_MODEL_7265e7813a114891b79ccdebd6986268",
       "max": 99,
       "style": "IPY_MODEL_2ff0c083ceda45bd992a2f2b536b28a0"
      }
     },
     "4e6a797458244340b72319c1754a8dc4": {
      "model_module": "jupyter-js-widgets",
      "model_module_version": "~2.1.4",
      "model_name": "LayoutModel",
      "state": {
       "_model_module_version": "~2.1.4",
       "_view_module_version": "~2.1.4"
      }
     },
     "50d2e4d798b548cd95e60a2ac321d34a": {
      "model_module": "jupyter-js-widgets",
      "model_module_version": "~2.1.4",
      "model_name": "SelectModel",
      "state": {
       "_model_module_version": "~2.1.4",
       "_options_labels": [
        "Test",
        "Train"
       ],
       "_view_module_version": "~2.1.4",
       "description": "Dataset:",
       "layout": "IPY_MODEL_dacd35f8f2134bf59c1bd2a6fd07d10d",
       "value": "Train"
      }
     },
     "51c85965d64542f498245f3fb20db295": {
      "model_module": "jupyter-js-widgets",
      "model_module_version": "~2.1.4",
      "model_name": "LayoutModel",
      "state": {
       "_model_module_version": "~2.1.4",
       "_view_module_version": "~2.1.4",
       "width": "100%"
      }
     },
     "542a51a15f5240ef9aa3edde8b568bcc": {
      "model_module": "jupyter-js-widgets",
      "model_module_version": "~2.1.4",
      "model_name": "LayoutModel",
      "state": {
       "_model_module_version": "~2.1.4",
       "_view_module_version": "~2.1.4",
       "width": "100%"
      }
     },
     "61773b921b4444528d873b94e515f169": {
      "model_module": "jupyter-js-widgets",
      "model_module_version": "~2.1.4",
      "model_name": "ButtonModel",
      "state": {
       "_model_module_version": "~2.1.4",
       "_view_module_version": "~2.1.4",
       "icon": "forward",
       "layout": "IPY_MODEL_51c85965d64542f498245f3fb20db295",
       "style": "IPY_MODEL_799b20194c4c49d7ba0f98290b54099c"
      }
     },
     "71c41ff4de42486086f58eab7cbb54f0": {
      "model_module": "jupyter-js-widgets",
      "model_module_version": "~2.1.4",
      "model_name": "HTMLModel",
      "state": {
       "_model_module_version": "~2.1.4",
       "_view_module_version": "~2.1.4",
       "layout": "IPY_MODEL_10b9780311654de8998f56337c32ae92",
       "value": "\n        <svg id='MNIST' xmlns='http://www.w3.org/2000/svg' width=\"350\" height=\"640\" image-rendering=\"pixelated\">\n    <defs>\n        <marker id=\"arrow\" markerWidth=\"10\" markerHeight=\"10\" refX=\"9\" refY=\"3\" orient=\"auto\" markerUnits=\"strokeWidth\">\n          <path d=\"M0,0 L0,6 L9,3 z\" fill=\"blue\" />\n        </marker>\n    </defs>\n<rect x=\"74.0\" y=\"24\" width=\"202\" height=\"27\" style=\"fill:none;stroke:blue;stroke-width:2\"/><image id=\"MNIST_output_targets_1\" class=\"MNIST_output_targets\" x=\"75.0\" y=\"25\" height=\"25\" width=\"200\" preserveAspectRatio=\"none\" href=\"data:image/gif;base64,R0lGODdhCgABAIMAABMTExQUFBUVFRYWFhkZGRsbGxwcHB0dHSMjIwAAAAAAAAAAAAAAAAAAAAAAAAAAACwAAAAACgABAAAIDgALECAgIMCBAQYAIAgIADs=\"><title>Layer: output (output)\n shape = (10,)\n Keras class = Dense\n activation = softmax</title></image><text x=\"280.0\" y=\"39.5\" font-family=\"monospace\" font-size=\"12\">targets</text><rect x=\"74.0\" y=\"59\" width=\"202\" height=\"27\" style=\"fill:none;stroke:blue;stroke-width:2\"/><image id=\"MNIST_output_errors_1\" class=\"MNIST_output_errors\" x=\"75.0\" y=\"60\" height=\"25\" width=\"200\" preserveAspectRatio=\"none\" href=\"data:image/gif;base64,R0lGODdhCgABAIMAABMTExQUFBUVFRYWFhkZGRsbGxwcHB0dHSMjIwAAAAAAAAAAAAAAAAAAAAAAAAAAACwAAAAACgABAAAIDgALECAgIMCBAQYAIAgIADs=\"><title>Layer: output (output)\n shape = (10,)\n Keras class = Dense\n activation = softmax</title></image><text x=\"280.0\" y=\"74.5\" font-family=\"monospace\" font-size=\"12\">errors</text><rect x=\"74.0\" y=\"99\" width=\"202\" height=\"27\" style=\"fill:none;stroke:blue;stroke-width:2\"/><image id=\"MNIST_output_1\" class=\"MNIST_output\" x=\"75.0\" y=\"100\" height=\"25\" width=\"200\" preserveAspectRatio=\"none\" href=\"data:image/gif;base64,R0lGODdhCgABAIMAABMTExQUFBUVFRYWFhkZGRsbGxwcHB0dHSMjIwAAAAAAAAAAAAAAAAAAAAAAAAAAACwAAAAACgABAAAIDgALECAgIMCBAQYAIAgIADs=\"><title>Layer: output (output)\n shape = (10,)\n Keras class = Dense\n activation = softmax</title></image><text x=\"280.0\" y=\"114.5\" font-family=\"monospace\" font-size=\"12\">output</text><rect x=\"165.0\" y=\"127\" width=\"20.0\" height=\"27\" style=\"fill:white;stroke:none\"><title>Weights from hidden2 to output\n output/kernel has shape (512, 10)\n output/bias has shape (10,)</title></rect><line x1=\"175.0\" y1=\"154\" x2=\"175.0\" y2=\"127\" stroke=\"blue\" stroke-width=\"2\" marker-end=\"url(#arrow)\"><title>Weights from hidden2 to output\n output/kernel has shape (512, 10)\n output/bias has shape (10,)</title></line><rect x=\"74.0\" y=\"154\" width=\"202\" height=\"102\" style=\"fill:none;stroke:blue;stroke-width:2\"/><image id=\"MNIST_hidden2_2\" class=\"MNIST_hidden2\" x=\"75.0\" y=\"155\" height=\"100\" width=\"200\" preserveAspectRatio=\"none\" href=\"data:image/gif;base64,R0lGODdhIAAQAIcAAAAAAAEBAQICAgMDAwQEBAUFBQYGBgcHBwgICAkJCQoKCgsLCwwMDA0NDQ4ODg8PDxAQEBERERISEhMTExQUFBUVFRYWFhcXFxgYGBkZGRoaGhsbGxwcHB0dHR4eHh8fHyAgICEhISIiIiMjIyQkJCUlJSYmJicnJygoKCkpKSoqKisrKywsLC0tLS4uLi8vLzAwMDExMTIyMjMzMzQ0NDU1NTY2Njc3Nzg4ODk5OTo6Ojs7Ozw8PD09PT4+Pj8/P0BAQEFBQUJCQkNDQ0REREVFRUZGRkdHR0hISElJSUpKSktLS0xMTE1NTU5OTk9PT1BQUFFRUVJSUlNTU1RUVFVVVVZWVldXV1hYWFlZWVpaWltbW1xcXF1dXV5eXl9fX2BgYGFhYWJiYmNjY2RkZGVlZWZmZmdnZ2hoaGlpaWpqamtra2xsbG1tbW5ubm9vb3BwcHFxcXJycnNzc3R0dHV1dXZ2dnd3d3h4eHl5eXp6ent7e3x8fH19fX5+fn9/f4CAgIGBgYKCgoODg4SEhIWFhYaGhoeHh4iIiImJiYqKiouLi4yMjI2NjY6Ojo+Pj5CQkJGRkZKSkpOTk5SUlJWVlZaWlpeXl5iYmJmZmZqampubm5ycnJ2dnZ6enp+fn6CgoKGhoaKioqOjo6SkpKWlpaampqenp6ioqKmpqaqqqqurq6ysrK2tra6urq+vr7CwsLGxsbKysrOzs7S0tLW1tba2tre3t7i4uLm5ubq6uru7u7y8vL29vb6+vr+/v8DAwMHBwcLCwsPDw8TExMXFxcbGxsfHx8jIyMnJycrKysvLy8zMzM3Nzc7Ozs/Pz9DQ0NHR0dLS0tPT09TU1NXV1dbW1tfX19jY2NnZ2dra2tvb29zc3N3d3d7e3t/f3+Dg4OHh4eLi4uPj4+Tk5OXl5ebm5ufn5+jo6Onp6erq6uvr6+zs7O3t7e7u7u/v7/Dw8PHx8fLy8vPz8/T09PX19fb29vf39/j4+Pn5+fr6+vv7+/z8/P39/f7+/v///ywAAAAAIAAQAEAI/wADAagCAIAiAMkyZQDAkAuAhxAB5ABAcQYAAD8AJAhiAwAAewAAeAFA0kkCACgBDAIAABeAGAAABAFAMw4AADsA6PwCgAEAALEAAJABIE8eGzoAAHgBAEASAFCjAmADQAWAqzYAtADAVQIABgDC8sICoCyAKy4AAOilBoBbtwGcAJiLA4BduyoKXQFAA0AVD0QA3AKwh4iNOQ4AAAjTBIABAAB6APABoHJlDGoGwMGQ5AkAACsABLgEoLTp0wUAgJDAxg+ACgBio3EDQAcAGwBIAADA48YANYAAANABAMAKAAMAkPAzC4CCDBQAiMAAQAUAACZMAAAQosMnAOB3AP8A0AAAsCEsVswAwJ69HADw438BQH+MGABkAPgAwL8EAIBMygAA4AHACgAJAWB5AADAij6FWAAAcAvARQCO4ADgiEbLr1gA/gAgmUYCAJQodQAAQAbABAAxhTwBUNMGAJwPGAEYcaJBKQA1EACAUQOAAhI2ADwBsIEAgCoAAMSwBABAHABZAawIBaAIAACfAAAIAADAHCgA1IIA0JYGAAALLEwQgAHA3bspAAB4AKHFnD+JjgHIAgXAYQBqbgAAAKSEhBVRAFigMASAGAYALPzjYAQAkQ6ZANTAAcD0CwCpX4xacQaAGSVHAMymbQDAbQAiAOzePQIAgAMAHoBSkCIBIAA7\"><title>Layer: hidden2 (hidden)\n shape = (512,)\n dropout = 0.2\n Keras class = Dense\n activation = relu</title></image><text x=\"280.0\" y=\"207.0\" font-family=\"monospace\" font-size=\"12\">hidden2</text><rect x=\"165.0\" y=\"257\" width=\"20.0\" height=\"27\" style=\"fill:white;stroke:none\"><title>Weights from hidden1 to hidden2\n hidden2/kernel has shape (512, 512)\n hidden2/bias has shape (512,)</title></rect><line x1=\"175.0\" y1=\"284\" x2=\"175.0\" y2=\"257\" stroke=\"blue\" stroke-width=\"2\" marker-end=\"url(#arrow)\"><title>Weights from hidden1 to hidden2\n hidden2/kernel has shape (512, 512)\n hidden2/bias has shape (512,)</title></line><rect x=\"74.0\" y=\"284\" width=\"202\" height=\"102\" style=\"fill:none;stroke:blue;stroke-width:2\"/><image id=\"MNIST_hidden1_3\" class=\"MNIST_hidden1\" x=\"75.0\" y=\"285\" height=\"100\" width=\"200\" preserveAspectRatio=\"none\" href=\"data:image/gif;base64,R0lGODdhIAAQAIcAAAAAAAEBAQICAgMDAwQEBAUFBQYGBgcHBwgICAkJCQoKCgsLCwwMDA0NDQ4ODg8PDxAQEBERERISEhMTExQUFBUVFRYWFhcXFxgYGBkZGRoaGhsbGxwcHB0dHR4eHh8fHyAgICEhISIiIiMjIyQkJCUlJSYmJicnJygoKCkpKSoqKisrKywsLC0tLS4uLi8vLzAwMDExMTIyMjMzMzQ0NDU1NTY2Njc3Nzg4ODk5OTo6Ojs7Ozw8PD09PT4+Pj8/P0BAQEFBQUJCQkNDQ0REREVFRUZGRkdHR0hISElJSUpKSktLS0xMTE1NTU5OTk9PT1BQUFFRUVJSUlNTU1RUVFVVVVZWVldXV1hYWFlZWVpaWltbW1xcXF1dXV5eXl9fX2BgYGFhYWJiYmNjY2RkZGVlZWZmZmdnZ2hoaGlpaWpqamtra2xsbG1tbW5ubm9vb3BwcHFxcXJycnNzc3R0dHV1dXZ2dnd3d3h4eHl5eXp6ent7e3x8fH19fX5+fn9/f4CAgIGBgYKCgoODg4SEhIWFhYaGhoeHh4iIiImJiYqKiouLi4yMjI2NjY6Ojo+Pj5CQkJGRkZKSkpOTk5SUlJWVlZaWlpeXl5iYmJmZmZqampubm5ycnJ2dnZ6enp+fn6CgoKGhoaKioqOjo6SkpKWlpaampqenp6ioqKmpqaqqqqurq6ysrK2tra6urq+vr7CwsLGxsbKysrOzs7S0tLW1tba2tre3t7i4uLm5ubq6uru7u7y8vL29vb6+vr+/v8DAwMHBwcLCwsPDw8TExMXFxcbGxsfHx8jIyMnJycrKysvLy8zMzM3Nzc7Ozs/Pz9DQ0NHR0dLS0tPT09TU1NXV1dbW1tfX19jY2NnZ2dra2tvb29zc3N3d3d7e3t/f3+Dg4OHh4eLi4uPj4+Tk5OXl5ebm5ufn5+jo6Onp6erq6uvr6+zs7O3t7e7u7u/v7/Dw8PHx8fLy8vPz8/T09PX19fb29vf39/j4+Pn5+fr6+vv7+/z8/P39/f7+/v///ywAAAAAIAAQAEAI/wABCAQQAoAlABYAAJACoAYAAL4AAGBSBMANAACe3AIAAcCWCQBCipQCoKQlAAAIkQDAshenJeKIcQEAQMEGAABQuMiwBYBPn4/qAABwAMAEAD0A/AIAwAyLEgCGACAAINQCNgD8GADA9d8eAAB+fNkDoCwTAHEO3bnwDIBbFipepAEAwImJFgAAfAAAoFQSAACuABhcbQOAC2TKIRDxBoBjMBkASIahoYSDFII+AKihINcTABheABgtBwAZAEwAAIgFAMARAAcAABACwAoAQAAAaAAQAgqAVwAeAQDACEAGADpirAJQqgmJKgAARJES5QOA6wDSATgCAACBEQDCW/+gMQFAOAAkAGwA4MMHABMbGADwgwqA/ftIAOgAACAHAIBAhoABUBCACAAJtdwA0LAhHgBGMgAA4AUAgBwAUAC41gIAEwAA3DgBAATAFAMAwgUpAABAJQAAlmgQ4MMWAJxG7ACYACBEmgkAhBJwggDAnhIAlC59AgAcAAAYRsgCkAPA1as8ACiAEWmcCwtYANwCAAPANCMAXmgCAKCFBQAAdpAAULeulzgABpQB0LdvJQCBARTJBOAQPC8RogGQASAAAMiRbcgCAEBNIwCZf0wB0LkzIR1lABAAAMALgEcAJOx4gKsUgB5GAMgAUBtAEgAwAEAoAsA3gCEA7gAgDuATAwAADqhUAGAKQJIpOpghiaEjIAA7\"><title>Layer: hidden1 (hidden)\n shape = (512,)\n dropout = 0.2\n Keras class = Dense\n activation = relu</title></image><text x=\"280.0\" y=\"337.0\" font-family=\"monospace\" font-size=\"12\">hidden1</text><rect x=\"165.0\" y=\"387\" width=\"20.0\" height=\"27\" style=\"fill:white;stroke:none\"><title>Weights from input to hidden1\n hidden1/kernel has shape (784, 512)\n hidden1/bias has shape (512,)</title></rect><line x1=\"175.0\" y1=\"414\" x2=\"175.0\" y2=\"387\" stroke=\"blue\" stroke-width=\"2\" marker-end=\"url(#arrow)\"><title>Weights from input to hidden1\n hidden1/kernel has shape (784, 512)\n hidden1/bias has shape (512,)</title></line><rect x=\"74.0\" y=\"414\" width=\"202\" height=\"202\" style=\"fill:none;stroke:blue;stroke-width:2\"/><image id=\"MNIST_input_4\" class=\"MNIST_input\" x=\"75.0\" y=\"415\" height=\"200\" width=\"200\" preserveAspectRatio=\"none\" href=\"data:image/gif;base64,R0lGODdhHAAcAIcAAAoAAP//9jAAAP/8DP//z00AANcAAPMAAG4AAI0AAP+aAP9nAP/MAP//jbMAAP9yAP/pAP//T///c/8lAP9XAP+qAP//Mv82AP9EAP+/AP/WAP//vAAAAAAAAAAAAAAAAAAAAAAAAAAAAAAAAAAAAAAAAAAAAAAAAAAAAAAAAAAAAAAAAAAAAAAAAAAAAAAAAAAAAAAAAAAAAAAAAAAAAAAAAAAAAAAAAAAAAAAAAAAAAAAAAAAAAAAAAAAAAAAAAAAAAAAAAAAAAAAAAAAAAAAAAAAAAAAAAAAAAAAAAAAAAAAAAAAAAAAAAAAAAAAAAAAAAAAAAAAAAAAAAAAAAAAAAAAAAAAAAAAAAAAAAAAAAAAAAAAAAAAAAAAAAAAAAAAAAAAAAAAAAAAAAAAAAAAAAAAAAAAAAAAAAAAAAAAAAAAAAAAAAAAAAAAAAAAAAAAAAAAAAAAAAAAAAAAAAAAAAAAAAAAAAAAAAAAAAAAAAAAAAAAAAAAAAAAAAAAAAAAAAAAAAAAAAAAAAAAAAAAAAAAAAAAAAAAAAAAAAAAAAAAAAAAAAAAAAAAAAAAAAAAAAAAAAAAAAAAAAAAAAAAAAAAAAAAAAAAAAAAAAAAAAAAAAAAAAAAAAAAAAAAAAAAAAAAAAAAAAAAAAAAAAAAAAAAAAAAAAAAAAAAAAAAAAAAAAAAAAAAAAAAAAAAAAAAAAAAAAAAAAAAAAAAAAAAAAAAAAAAAAAAAAAAAAAAAAAAAAAAAAAAAAAAAAAAAAAAAAAAAAAAAAAAAAAAAAAAAAAAAAAAAAAAAAAAAAAAAAAAAAAAAAAAAAAAAAAAAAAAAAAAAAAAAAAAAAAAAAAAAAAAAAAAAAAAAAAAAAAAAAAAAAAAAAAAAAAAAAAAAAAAAAAAAAAAAAAAAAAAAAAAAAAAAAAAAAAAAAAAAAAAAAAAAAAAAAAAAAAAAAAAAAAAAAAAAAAAAAAAAAAAAAAAAAAAAAAAAAAAAAAAAAAAAAAAAAAAAAAAAAAAAAAAAACwAAAAAHAAcAEAI/wABCBxIsKDBgwcFSAjAkOEACAQIAJhIsaLFixUFHAgQYACAjyBDfnwQoGSEBQsEAFjJsqXLlzBjypwpYEAAAwBy6tzJs2fOAhckBBgawIIBAEiTKl3KtKnTpwUQHFDAIIBVqw0YBCAwwAGAr2DDghUAQEGAAwDSql3Ltm1bAwQCBMBQAIDdu3jz6rWbYAGEAAEiABhMuHBhAQwkBFgcYIABAQAiS55MubLly5gza97MufNkAaApPNBQIEMAAhQAqF7NGkCCDQFiy5Z9oHYCBABy696t20CFCQECWBAAAIECAMiTK1/O/EGAAQCiS59OvTp1BAQaVJgAoLv37+DDf1FPMCBAAAUFAKhfz769e/YB4jsAQL++/fv2EShoEKB/AIAQAAwkWNAggAIOIgRgGGCAAQARJU6kmIBBgwAZAxBYIADAR5AhRY4kWdLkSZQhAwIAOw==\"><title>Layer: input (input)\n shape = (784,)\n Keras class = Input</title></image><text x=\"280.0\" y=\"517.0\" font-family=\"monospace\" font-size=\"12\">input</text></svg>"
      }
     },
     "7265e7813a114891b79ccdebd6986268": {
      "model_module": "jupyter-js-widgets",
      "model_module_version": "~2.1.4",
      "model_name": "LayoutModel",
      "state": {
       "_model_module_version": "~2.1.4",
       "_view_module_version": "~2.1.4",
       "width": "100%"
      }
     },
     "7483ddd942664f41b7fed45550b62e87": {
      "model_module": "jupyter-js-widgets",
      "model_module_version": "~2.1.4",
      "model_name": "VBoxModel",
      "state": {
       "_model_module_version": "~2.1.4",
       "_view_module_version": "~2.1.4",
       "children": [
        "IPY_MODEL_31631a1145dd49a49715996c15c57628",
        "IPY_MODEL_d5feb055bdc140058098d8c67514fe21",
        "IPY_MODEL_278bfe34694d4dd0b7cf2a1cd7302217"
       ],
       "layout": "IPY_MODEL_e95e0d6278ca44428b34022c4f04c5ca"
      }
     },
     "75dd455c21b3432a8234133630f4311b": {
      "model_module": "jupyter-js-widgets",
      "model_module_version": "~2.1.4",
      "model_name": "ButtonStyleModel",
      "state": {
       "_model_module_version": "~2.1.4",
       "_view_module_version": "~2.1.4"
      }
     },
     "786e5a9a223844f6809b80150a1fb4e0": {
      "model_module": "jupyter-js-widgets",
      "model_module_version": "~2.1.4",
      "model_name": "LayoutModel",
      "state": {
       "_model_module_version": "~2.1.4",
       "_view_module_version": "~2.1.4",
       "width": "100%"
      }
     },
     "799b20194c4c49d7ba0f98290b54099c": {
      "model_module": "jupyter-js-widgets",
      "model_module_version": "~2.1.4",
      "model_name": "ButtonStyleModel",
      "state": {
       "_model_module_version": "~2.1.4",
       "_view_module_version": "~2.1.4"
      }
     },
     "7aafa3828e2d4f1cb757b8f32abc1f96": {
      "model_module": "jupyter-js-widgets",
      "model_module_version": "~2.1.4",
      "model_name": "LayoutModel",
      "state": {
       "_model_module_version": "~2.1.4",
       "_view_module_version": "~2.1.4",
       "width": "100%"
      }
     },
     "84d49c9fa0fe4478864e1e4df83dc701": {
      "model_module": "jupyter-js-widgets",
      "model_module_version": "~2.1.4",
      "model_name": "ButtonStyleModel",
      "state": {
       "_model_module_version": "~2.1.4",
       "_view_module_version": "~2.1.4"
      }
     },
     "863825b97b1b4ca4b37e2e4cd329b93f": {
      "model_module": "jupyter-js-widgets",
      "model_module_version": "~2.1.4",
      "model_name": "ButtonModel",
      "state": {
       "_model_module_version": "~2.1.4",
       "_view_module_version": "~2.1.4",
       "icon": "backward",
       "layout": "IPY_MODEL_f1d647157a504b168909ad23252218cd",
       "style": "IPY_MODEL_8a70dc6e5eda4614a68c0974be11f4a1"
      }
     },
     "89b34e511a7a4462a0ad488dedf38fde": {
      "model_module": "jupyter-js-widgets",
      "model_module_version": "~2.1.4",
      "model_name": "ButtonModel",
      "state": {
       "_model_module_version": "~2.1.4",
       "_view_module_version": "~2.1.4",
       "icon": "fast-forward",
       "layout": "IPY_MODEL_acf3789e9604491782eca80847e20ebf",
       "style": "IPY_MODEL_98a872042e544de9b34e4adf5e84d745"
      }
     },
     "8a70dc6e5eda4614a68c0974be11f4a1": {
      "model_module": "jupyter-js-widgets",
      "model_module_version": "~2.1.4",
      "model_name": "ButtonStyleModel",
      "state": {
       "_model_module_version": "~2.1.4",
       "_view_module_version": "~2.1.4"
      }
     },
     "970cb7be390f43b9b4901be0ea0a1fb3": {
      "model_module": "jupyter-js-widgets",
      "model_module_version": "~2.1.4",
      "model_name": "LayoutModel",
      "state": {
       "_model_module_version": "~2.1.4",
       "_view_module_version": "~2.1.4",
       "width": "100%"
      }
     },
     "98a872042e544de9b34e4adf5e84d745": {
      "model_module": "jupyter-js-widgets",
      "model_module_version": "~2.1.4",
      "model_name": "ButtonStyleModel",
      "state": {
       "_model_module_version": "~2.1.4",
       "_view_module_version": "~2.1.4"
      }
     },
     "a0dbf956663e45f78935eb3f86e41cf4": {
      "model_module": "jupyter-js-widgets",
      "model_module_version": "~2.1.4",
      "model_name": "LayoutModel",
      "state": {
       "_model_module_version": "~2.1.4",
       "_view_module_version": "~2.1.4",
       "width": "100%"
      }
     },
     "aaa0d3e301ba45b98f2f25b731a721f2": {
      "model_module": "jupyter-js-widgets",
      "model_module_version": "~2.1.4",
      "model_name": "LayoutModel",
      "state": {
       "_model_module_version": "~2.1.4",
       "_view_module_version": "~2.1.4",
       "width": "100%"
      }
     },
     "acf3789e9604491782eca80847e20ebf": {
      "model_module": "jupyter-js-widgets",
      "model_module_version": "~2.1.4",
      "model_name": "LayoutModel",
      "state": {
       "_model_module_version": "~2.1.4",
       "_view_module_version": "~2.1.4",
       "width": "100%"
      }
     },
     "b0a6b34325394b659fb3380e7d352125": {
      "model_module": "jupyter-js-widgets",
      "model_module_version": "~2.1.4",
      "model_name": "VBoxModel",
      "state": {
       "_model_module_version": "~2.1.4",
       "_view_module_version": "~2.1.4",
       "children": [
        "IPY_MODEL_71c41ff4de42486086f58eab7cbb54f0",
        "IPY_MODEL_d7e72aba06634f7fbdefe8b08f9269fd"
       ],
       "layout": "IPY_MODEL_18ca94272878490a8abd32d0e909fe04"
      }
     },
     "b159bb2dc8424e3eab0418a36519fe2c": {
      "model_module": "jupyter-js-widgets",
      "model_module_version": "~2.1.4",
      "model_name": "VBoxModel",
      "state": {
       "_model_module_version": "~2.1.4",
       "_view_module_version": "~2.1.4",
       "children": [
        "IPY_MODEL_f54a0721beb24e6a9cd4b611487cf22b",
        "IPY_MODEL_7483ddd942664f41b7fed45550b62e87"
       ],
       "layout": "IPY_MODEL_e92e92364d7540b289f7e2d131fc874c"
      }
     },
     "b93457eda9cf44cda551a1be3540e3ce": {
      "model_module": "jupyter-js-widgets",
      "model_module_version": "~2.1.4",
      "model_name": "ButtonStyleModel",
      "state": {
       "_model_module_version": "~2.1.4",
       "_view_module_version": "~2.1.4"
      }
     },
     "c0563e7407704f8abee0c58b18f49de4": {
      "model_module": "jupyter-js-widgets",
      "model_module_version": "~2.1.4",
      "model_name": "ButtonModel",
      "state": {
       "_model_module_version": "~2.1.4",
       "_view_module_version": "~2.1.4",
       "icon": "forward",
       "layout": "IPY_MODEL_a0dbf956663e45f78935eb3f86e41cf4",
       "style": "IPY_MODEL_060dc566f9c24328b6670f2b293dbcce"
      }
     },
     "c2d7c7fe12ae4602b761e54db4b52b9d": {
      "model_module": "jupyter-js-widgets",
      "model_module_version": "~2.1.4",
      "model_name": "LayoutModel",
      "state": {
       "_model_module_version": "~2.1.4",
       "_view_module_version": "~2.1.4",
       "width": "100%"
      }
     },
     "c8a989a937a141308f4a7f437490ffff": {
      "model_module": "jupyter-js-widgets",
      "model_module_version": "~2.1.4",
      "model_name": "LayoutModel",
      "state": {
       "_model_module_version": "~2.1.4",
       "_view_module_version": "~2.1.4",
       "width": "100%"
      }
     },
     "c9688b90d22a4fd582fb307408dcb8c7": {
      "model_module": "jupyter-js-widgets",
      "model_module_version": "~2.1.4",
      "model_name": "ButtonModel",
      "state": {
       "_model_module_version": "~2.1.4",
       "_view_module_version": "~2.1.4",
       "icon": "fast-backward",
       "layout": "IPY_MODEL_970cb7be390f43b9b4901be0ea0a1fb3",
       "style": "IPY_MODEL_84d49c9fa0fe4478864e1e4df83dc701"
      }
     },
     "d5feb055bdc140058098d8c67514fe21": {
      "model_module": "jupyter-js-widgets",
      "model_module_version": "~2.1.4",
      "model_name": "IntSliderModel",
      "state": {
       "_model_module_version": "~2.1.4",
       "_view_module_version": "~2.1.4",
       "continuous_update": false,
       "description": "Dataset index",
       "layout": "IPY_MODEL_542a51a15f5240ef9aa3edde8b568bcc",
       "max": 99,
       "style": "IPY_MODEL_e9da28b9d30e4d088d9475ea94a5928e"
      }
     },
     "d7e72aba06634f7fbdefe8b08f9269fd": {
      "model_module": "jupyter-js-widgets",
      "model_module_version": "~2.1.4",
      "model_name": "VBoxModel",
      "state": {
       "_model_module_version": "~2.1.4",
       "_view_module_version": "~2.1.4",
       "children": [
        "IPY_MODEL_50d2e4d798b548cd95e60a2ac321d34a",
        "IPY_MODEL_3466e82c200d435abb00aa340f53abab",
        "IPY_MODEL_2b53e573e97b4f329fdc2f6d146b5977"
       ],
       "layout": "IPY_MODEL_aaa0d3e301ba45b98f2f25b731a721f2"
      }
     },
     "dacd35f8f2134bf59c1bd2a6fd07d10d": {
      "model_module": "jupyter-js-widgets",
      "model_module_version": "~2.1.4",
      "model_name": "LayoutModel",
      "state": {
       "_model_module_version": "~2.1.4",
       "_view_module_version": "~2.1.4"
      }
     },
     "e92e92364d7540b289f7e2d131fc874c": {
      "model_module": "jupyter-js-widgets",
      "model_module_version": "~2.1.4",
      "model_name": "LayoutModel",
      "state": {
       "_model_module_version": "~2.1.4",
       "_view_module_version": "~2.1.4",
       "width": "100%"
      }
     },
     "e95e0d6278ca44428b34022c4f04c5ca": {
      "model_module": "jupyter-js-widgets",
      "model_module_version": "~2.1.4",
      "model_name": "LayoutModel",
      "state": {
       "_model_module_version": "~2.1.4",
       "_view_module_version": "~2.1.4",
       "width": "100%"
      }
     },
     "e9da28b9d30e4d088d9475ea94a5928e": {
      "model_module": "jupyter-js-widgets",
      "model_module_version": "~2.1.4",
      "model_name": "SliderStyleModel",
      "state": {
       "_model_module_version": "~2.1.4",
       "_view_module_version": "~2.1.4"
      }
     },
     "f1d647157a504b168909ad23252218cd": {
      "model_module": "jupyter-js-widgets",
      "model_module_version": "~2.1.4",
      "model_name": "LayoutModel",
      "state": {
       "_model_module_version": "~2.1.4",
       "_view_module_version": "~2.1.4",
       "width": "100%"
      }
     },
     "f54a0721beb24e6a9cd4b611487cf22b": {
      "model_module": "jupyter-js-widgets",
      "model_module_version": "~2.1.4",
      "model_name": "HTMLModel",
      "state": {
       "_model_module_version": "~2.1.4",
       "_view_module_version": "~2.1.4",
       "layout": "IPY_MODEL_06af4bc05c0448dd9da0fa72fb274b04",
       "value": "\n        <svg id='MNIST-CNN' xmlns='http://www.w3.org/2000/svg' width=\"650\" height=\"1342\" image-rendering=\"pixelated\">\n    <defs>\n        <marker id=\"arrow\" markerWidth=\"10\" markerHeight=\"10\" refX=\"9\" refY=\"3\" orient=\"auto\" markerUnits=\"strokeWidth\">\n          <path d=\"M0,0 L0,6 L9,3 z\" fill=\"blue\" />\n        </marker>\n    </defs>\n<rect x=\"224.0\" y=\"24\" width=\"202\" height=\"27\" style=\"fill:none;stroke:blue;stroke-width:2\"/><image id=\"MNIST-CNN_output_targets_1\" class=\"MNIST-CNN_output_targets\" x=\"225.0\" y=\"25\" height=\"25\" width=\"200\" preserveAspectRatio=\"none\" href=\"data:image/gif;base64,R0lGODdhCgABAIMAAAMDAwYGBgsLCxERERQUFBcXFx0dHSEhIS4uLj8/PwAAAAAAAAAAAAAAAAAAAAAAACwAAAAACgABAAAIDgATGAiAYACAAwUEEAgIADs=\"><title>Layer: output (output)\n shape = (10,)\n Keras class = Dense\n activation = softmax</title></image><text x=\"430.0\" y=\"39.5\" font-family=\"monospace\" font-size=\"12\">targets</text><rect x=\"224.0\" y=\"59\" width=\"202\" height=\"27\" style=\"fill:none;stroke:blue;stroke-width:2\"/><image id=\"MNIST-CNN_output_errors_1\" class=\"MNIST-CNN_output_errors\" x=\"225.0\" y=\"60\" height=\"25\" width=\"200\" preserveAspectRatio=\"none\" href=\"data:image/gif;base64,R0lGODdhCgABAIMAAAMDAwYGBgsLCxERERQUFBcXFx0dHSEhIS4uLj8/PwAAAAAAAAAAAAAAAAAAAAAAACwAAAAACgABAAAIDgATGAiAYACAAwUEEAgIADs=\"><title>Layer: output (output)\n shape = (10,)\n Keras class = Dense\n activation = softmax</title></image><text x=\"430.0\" y=\"74.5\" font-family=\"monospace\" font-size=\"12\">errors</text><rect x=\"224.0\" y=\"99\" width=\"202\" height=\"27\" style=\"fill:none;stroke:blue;stroke-width:2\"/><image id=\"MNIST-CNN_output_1\" class=\"MNIST-CNN_output\" x=\"225.0\" y=\"100\" height=\"25\" width=\"200\" preserveAspectRatio=\"none\" href=\"data:image/gif;base64,R0lGODdhCgABAIMAAAMDAwYGBgsLCxERERQUFBcXFx0dHSEhIS4uLj8/PwAAAAAAAAAAAAAAAAAAAAAAACwAAAAACgABAAAIDgATGAiAYACAAwUEEAgIADs=\"><title>Layer: output (output)\n shape = (10,)\n Keras class = Dense\n activation = softmax</title></image><text x=\"430.0\" y=\"114.5\" font-family=\"monospace\" font-size=\"12\">output</text><rect x=\"315.0\" y=\"127\" width=\"20.0\" height=\"27\" style=\"fill:white;stroke:none\"><title>Weights from hidden to output\n output/kernel has shape (1000, 10)\n output/bias has shape (10,)</title></rect><line x1=\"325.0\" y1=\"154\" x2=\"325.0\" y2=\"127\" stroke=\"blue\" stroke-width=\"2\" marker-end=\"url(#arrow)\"><title>Weights from hidden to output\n output/kernel has shape (1000, 10)\n output/bias has shape (10,)</title></line><rect x=\"74.0\" y=\"154\" width=\"502\" height=\"34\" style=\"fill:none;stroke:blue;stroke-width:2\"/><image id=\"MNIST-CNN_hidden_2\" class=\"MNIST-CNN_hidden\" x=\"75.0\" y=\"155\" height=\"32\" width=\"500\" preserveAspectRatio=\"none\" href=\"data:image/gif;base64,R0lGODdhfQAIAIcAAAAAAAEBAQICAgMDAwQEBAUFBQYGBgcHBwgICAkJCQoKCgsLCwwMDA0NDQ4ODg8PDxAQEBERERISEhMTExQUFBUVFRYWFhcXFxgYGBkZGRoaGhsbGxwcHB0dHR4eHh8fHyAgICEhISIiIiMjIyQkJCUlJSYmJicnJygoKCkpKSoqKisrKywsLC0tLS4uLi8vLzAwMDExMTIyMjMzMzQ0NDU1NTY2Njc3Nzg4ODk5OTo6Ojs7Ozw8PD09PT4+Pj8/P0BAQEFBQUJCQkNDQ0REREVFRUZGRkdHR0hISElJSUpKSktLS0xMTE1NTU5OTk9PT1BQUFFRUVJSUlNTU1RUVFVVVVZWVldXV1hYWFlZWVpaWltbW1xcXF1dXV5eXl9fX2BgYGFhYWJiYmNjY2RkZGVlZWZmZmdnZ2hoaGlpaWpqamtra2xsbG1tbW5ubm9vb3BwcHFxcXJycnNzc3R0dHV1dXZ2dnd3d3h4eHl5eXp6ent7e3x8fH19fX5+fn9/f4CAgIGBgYKCgoODg4SEhIWFhYaGhoeHh4iIiImJiYqKiouLi4yMjI2NjY6Ojo+Pj5CQkJGRkZKSkpOTk5SUlJWVlZaWlpeXl5iYmJmZmZqampubm5ycnJ2dnZ6enp+fn6CgoKGhoaKioqOjo6SkpKWlpaampqenp6ioqKmpqaqqqqurq6ysrK2tra6urq+vr7CwsLGxsbKysrOzs7S0tLW1tba2tre3t7i4uLm5ubq6uru7u7y8vL29vb6+vr+/v8DAwMHBwcLCwsPDw8TExMXFxcbGxsfHx8jIyMnJycrKysvLy8zMzM3Nzc7Ozs/Pz9DQ0NHR0dLS0tPT09TU1NXV1dbW1tfX19jY2NnZ2dra2tvb29zc3N3d3d7e3t/f3+Dg4OHh4eLi4uPj4+Tk5OXl5ebm5ufn5+jo6Onp6erq6uvr6+zs7O3t7e7u7u/v7/Dw8PHx8fLy8vPz8/T09PX19fb29vf39/j4+Pn5+fr6+vv7+/z8/P39/f7+/v///ywAAAAAfQAIAAAI/wABACB27AyALgwA8AEAAA8GVwAAXJECoKIOAG7IANjIceMiHQDSABgJYBYJAADGAOgBwI4rAAAqAQCABQCAPIKSAABgZpIVAEQAAPADgBIYWgCE/AkBoA2ApwBmtAEA4MAwQnYAKBkBAMCAPZMAJBEFoKzZGQDSqlXr5wUACQDiHrjUYAAoM5YK1QLQB8A2ACEOzMkCAAALWQAAOBAGoDGAS2wQnYIVAIDlDjkAAIhSC4AQAGsAAAgDoLRpBBcA8PgEAEAaAAwAEOq1BoDtBAByPwIAoAUAALkAkADQCoBx40MAAIC2hMUFAKQKwQEQCQAAQACyZ+dRBQCeSQAKAP8A0KYBgPNgAOgBEOaLnQF2ugAoBMAIAFKfxnTQAgAALYAAAFwAEATAwYNzSgF4EykSEgByduUBcMUUAIwGFABABcATAABrAPQAULIRAAAYhgBgqQyABQAAsgAAAAlHIgA5zQDQUQUOAACOAAzdBECFAAAAChAo1QHAUwATAHwCkAlArjBvAGw1AQCAAABhAWiiBWAVALRp0UYA0GPRBB+L8gCgC+CKBixyAHzyBQCAKwBpAAz2VaFKHwAAUAEoBsAWAEA/OtEpAyAPgCG7AIQB0MwCgH8AegDgBAAABwAADCEQMgfAawB38ACgXaIOAAAoAOzerWEJAACdAEgCAID/w7MyAER1AlCNwhEAjQBM37AlQgEAbgDsAcAJwHcAngCcAQAAEABkAOrsyAPAvXtBrjgAmBCsEQD8+fXnB7PqDkAANQAAcAOgDIBAROycAjAHACcAAOQAqBgojy4AGpfMAUAAwCQAbhYBALABAEqUifpwArDnCoBXABgBENMpEoBJAG4dsVBAAK1LFt74AMAjDoCkAGJwAAAgBpZIAM4AgHIlGIBbAABMALAoC4CwFwAA2DMMAIBqABgBaMuGCQAHAARdAmB3CIBHAgDw7TsFEwAAGQAQJvwl0A5gQwAwTgAAwJsdACwAqGy58gwAAKBsAuD5kRYAogFMwQTg9GlU+DoAAEgC4FIfAAAIpQEAgJYeAH8AAJAA4DcAAwCGD59E5NGXGQCWLwIA4E63VNAAADC05QEKAACYAACQagwAAIKEACgzCgAARXByAACQBwB8ABQA1GKiAQD+KQAAmNoCACAAgQBASQBgYgcAOs4MAVAFAOI2AM1e5AJwkQ4rAABmFAEABwASACPdGAJQBkBKRD8mDQFiAwAvAQBSAOgAAEApGAAqADAgBoArAADuALB1Zw8ApUtFAOgCAIAWAFO/AAAQQFYDAFv15JMBCksqPyCIATCbAEDaU2EAAPAFAC7cTLkA3HEFAC8AHGEA9D11J40VPwAImwgIADs=\"><title>Layer: hidden (hidden)\n shape = (1000,)\n Keras class = Dense\n activation = relu</title></image><text x=\"580.0\" y=\"173.0\" font-family=\"monospace\" font-size=\"12\">hidden</text><rect x=\"224.0\" y=\"196\" width=\"202\" height=\"202\" style=\"fill:none;stroke:blue;stroke-width:2\"/><image id=\"MNIST-CNN_maxpool2_3\" class=\"MNIST-CNN_maxpool2\" x=\"225.0\" y=\"197\" height=\"200\" width=\"200\" preserveAspectRatio=\"none\" href=\"data:image/gif;base64,R0lGODdhBAAEAIMAAH9/f4CAgIGBgYKCgoODg4SEhIeHh4iIiImJiYuLiwAAAAAAAAAAAAAAAAAAAAAAACwAAAAABAAEAAAIFQABCEgwAEAABAcKFBhg4AAAAQQCAgA7\"><title>Layer: maxpool2 (hidden)\n Keras class = MaxPooling2D</title></image><text x=\"430.0\" y=\"299.0\" font-family=\"monospace\" font-size=\"12\">maxpool2</text><rect x=\"315.0\" y=\"399\" width=\"20.0\" height=\"27\" style=\"fill:white;stroke:none\"><title>Weights from Conv2D-2 to maxpool2</title></rect><line x1=\"325.0\" y1=\"426\" x2=\"325.0\" y2=\"399\" stroke=\"blue\" stroke-width=\"2\" marker-end=\"url(#arrow)\"><title>Weights from Conv2D-2 to maxpool2</title></line><rect x=\"224.0\" y=\"426\" width=\"202\" height=\"202\" style=\"fill:none;stroke:blue;stroke-width:2\"/><image id=\"MNIST-CNN_Conv2D-2_4\" class=\"MNIST-CNN_Conv2D-2\" x=\"225.0\" y=\"427\" height=\"200\" width=\"200\" preserveAspectRatio=\"none\" href=\"data:image/gif;base64,R0lGODdhCAAIAIUAAAAAAAoKChISEhQUFBYWFhkZGSAgICcnJygoKCkpKSsrKzExMTIyMjY2Njg4ODk5OT4+Pj8/P0JCQkREREZGRk9PT1NTU11dXWRkZGdnZ2hoaKOjo7S0tLi4uLu7u729vcDAwN7e3v///wAAAAAAAAAAAAAAAAAAAAAAAAAAAAAAAAAAAAAAAAAAAAAAAAAAAAAAAAAAAAAAAAAAAAAAAAAAAAAAAAAAAAAAAAAAAAAAAAAAAAAAAAAAAAAAAAAAACwAAAAACAAIAAAIQQABCByYIACAgwhERHjgAIDDAQtCcPgAoCKAARs6UADAkUEBCQ08ZDCAYQIAABY0gLgAAMABAAQgAJg5U4CCCgEBADs=\"><title>Layer: Conv2D-2 (hidden)\n Keras class = Conv2D\n activation = relu</title></image><text x=\"430.0\" y=\"529.0\" font-family=\"monospace\" font-size=\"12\">Conv2D-2</text><rect x=\"315.0\" y=\"629\" width=\"20.0\" height=\"27\" style=\"fill:white;stroke:none\"><title>Weights from maxpool1 to Conv2D-2\n Conv2D-2/kernel has shape (5, 5, 16, 132)\n Conv2D-2/bias has shape (132,)</title></rect><line x1=\"325.0\" y1=\"656\" x2=\"325.0\" y2=\"629\" stroke=\"blue\" stroke-width=\"2\" marker-end=\"url(#arrow)\"><title>Weights from maxpool1 to Conv2D-2\n Conv2D-2/kernel has shape (5, 5, 16, 132)\n Conv2D-2/bias has shape (132,)</title></line><rect x=\"224.0\" y=\"656\" width=\"202\" height=\"202\" style=\"fill:none;stroke:blue;stroke-width:2\"/><image id=\"MNIST-CNN_maxpool1_5\" class=\"MNIST-CNN_maxpool1\" x=\"225.0\" y=\"657\" height=\"200\" width=\"200\" preserveAspectRatio=\"none\" href=\"data:image/gif;base64,R0lGODdhDAAMAIQAAH9/f4CAgIGBgYKCgoODg4SEhIWFhYaGhoiIiImJiYqKiouLi42NjY6OjpCQkJGRkZOTk5SUlJWVlZeXl5iYmJmZmZqampycnJ2dnZ6enp+fn6CgoKGhoaKioqOjo6ampiwAAAAADAAMAAAIgQABCBxIUIABAAgTJiQQIACAAAAiSnRwgEMFAAIKIGDwQEOGDREuNAAQoMCCBg4sTKAAoGXLAAUCJCgAgAABADhxBiiw4AEBAAUEABg6dMAAAAEgMADAtGnTARcqDABAteqABRI+YADAtSuDCBw6XCAAAICCBhAwXPCAoQCAtwACAgA7\"><title>Layer: maxpool1 (hidden)\n Keras class = MaxPooling2D</title></image><text x=\"430.0\" y=\"759.0\" font-family=\"monospace\" font-size=\"12\">maxpool1</text><rect x=\"315.0\" y=\"859\" width=\"20.0\" height=\"27\" style=\"fill:white;stroke:none\"><title>Weights from Conv2D-1 to maxpool1</title></rect><line x1=\"325.0\" y1=\"886\" x2=\"325.0\" y2=\"859\" stroke=\"blue\" stroke-width=\"2\" marker-end=\"url(#arrow)\"><title>Weights from Conv2D-1 to maxpool1</title></line><rect x=\"224.0\" y=\"886\" width=\"202\" height=\"202\" style=\"fill:none;stroke:blue;stroke-width:2\"/><image id=\"MNIST-CNN_Conv2D-1_6\" class=\"MNIST-CNN_Conv2D-1\" x=\"225.0\" y=\"887\" height=\"200\" width=\"200\" preserveAspectRatio=\"none\" href=\"data:image/gif;base64,R0lGODdhGAAYAIYAAAAAAAEBAQICAgMDAwQEBAUFBQYGBgcHBwgICAkJCQoKCgsLCwwMDA4ODhAQEBISEhMTExQUFBUVFRYWFhcXFxgYGBkZGRoaGhsbGxwcHB0dHR4eHh8fHyAgICEhISIiIiMjIyUlJSYmJikpKSsrKy0tLS8vLzAwMDIyMjMzMzU1NTY2Njc3Nzk5OTs7Ozw8PD09PT4+Pj8/P0FBQUNDQ0REREdHR05OTk9PT1FRUVJSUlNTU1ZWVltbW1xcXF1dXV5eXl9fX2BgYGFhYWJiYmRkZGZmZmpqam1tbXJycnZ2dnd3d3h4eHx8fH19fX9/f4KCgoODg4SEhIWFhYeHh4iIiIqKio+Pj5OTk5SUlJaWlpqamp6enqGhoaKioqampqmpqaurq6ysrK2trbCwsLKysrW1tba2tri4uLy8vL+/v8DAwMHBwcLCwsPDw8jIyMnJyczMzM3NzdDQ0NjY2OLi4uXl5evr6////wAAAAAAAAAAAAAAAAAAAAAAAAAAACwAAAAAGAAYAEAI/wAFCBxIsKBBgwY+AABQwYiIAUjMkOHRxYsTARgzaswIoKNHjwPYXEkxQYDJkwBSqlypUsKIEABiSuAgoKZNAQQ+AACg40gJAECBghBAVACAo0iTwqjxA8saO2p+XBBAtapVAFizat0KoIABAALCClAQAIBZAAiWzNnyRYscJVOsrAlDZIKAu3cLALgwAIDfvwAYVDggoLDhw4chQADAGECCGBssAAAgoLJlAJgzaybx4kQMN2+aDBBAuoKNIEQiTKCh5AkWMXfgCNlQQIDt27hz2w4AoLfv3wAUiNAgoLgAAMiTK19eAYBzAAKiHwBAvbp16klmmKCgpU4YGALCL6zQAMBBix4hdjBRwqZMHDpcZKhY4aGBgPv3HxQAkCMGBoAAcOwAAEDGDxQCFC5kuHADAAACaHgAUBHAggoIBGzk2HFjgg4ABABRYgHAyZMOBKxk2XIlAJgxARSJ4qMBAAE5deYE0NPnTwossoyhQkHAUQEAlC5lCuEGjiNXzuAB40LAVQEAtG7VeqHHkCpo6qQRkmGAALRpBQBgSwEKGDhp2tSRYsKAALx59QYEADs=\"><title>Layer: Conv2D-1 (hidden)\n Keras class = Conv2D\n activation = relu</title></image><text x=\"430.0\" y=\"989.0\" font-family=\"monospace\" font-size=\"12\">Conv2D-1</text><rect x=\"315.0\" y=\"1089\" width=\"20.0\" height=\"27\" style=\"fill:white;stroke:none\"><title>Weights from input to Conv2D-1\n Conv2D-1/kernel has shape (5, 5, 1, 16)\n Conv2D-1/bias has shape (16,)</title></rect><line x1=\"325.0\" y1=\"1116\" x2=\"325.0\" y2=\"1089\" stroke=\"blue\" stroke-width=\"2\" marker-end=\"url(#arrow)\"><title>Weights from input to Conv2D-1\n Conv2D-1/kernel has shape (5, 5, 1, 16)\n Conv2D-1/bias has shape (16,)</title></line><rect x=\"224.0\" y=\"1116\" width=\"202\" height=\"202\" style=\"fill:none;stroke:blue;stroke-width:2\"/><image id=\"MNIST-CNN_input_7\" class=\"MNIST-CNN_input\" x=\"225.0\" y=\"1117\" height=\"200\" width=\"200\" preserveAspectRatio=\"none\" href=\"data:image/gif;base64,R0lGODdhHAAcAIcAAAoAAP//9jAAAP/8DP//z00AANcAAPMAAG4AAI0AAP+aAP9nAP/MAP//jbMAAP9yAP/pAP//T///c/8lAP9XAP+qAP//Mv82AP9EAP+/AP/WAP//vAAAAAAAAAAAAAAAAAAAAAAAAAAAAAAAAAAAAAAAAAAAAAAAAAAAAAAAAAAAAAAAAAAAAAAAAAAAAAAAAAAAAAAAAAAAAAAAAAAAAAAAAAAAAAAAAAAAAAAAAAAAAAAAAAAAAAAAAAAAAAAAAAAAAAAAAAAAAAAAAAAAAAAAAAAAAAAAAAAAAAAAAAAAAAAAAAAAAAAAAAAAAAAAAAAAAAAAAAAAAAAAAAAAAAAAAAAAAAAAAAAAAAAAAAAAAAAAAAAAAAAAAAAAAAAAAAAAAAAAAAAAAAAAAAAAAAAAAAAAAAAAAAAAAAAAAAAAAAAAAAAAAAAAAAAAAAAAAAAAAAAAAAAAAAAAAAAAAAAAAAAAAAAAAAAAAAAAAAAAAAAAAAAAAAAAAAAAAAAAAAAAAAAAAAAAAAAAAAAAAAAAAAAAAAAAAAAAAAAAAAAAAAAAAAAAAAAAAAAAAAAAAAAAAAAAAAAAAAAAAAAAAAAAAAAAAAAAAAAAAAAAAAAAAAAAAAAAAAAAAAAAAAAAAAAAAAAAAAAAAAAAAAAAAAAAAAAAAAAAAAAAAAAAAAAAAAAAAAAAAAAAAAAAAAAAAAAAAAAAAAAAAAAAAAAAAAAAAAAAAAAAAAAAAAAAAAAAAAAAAAAAAAAAAAAAAAAAAAAAAAAAAAAAAAAAAAAAAAAAAAAAAAAAAAAAAAAAAAAAAAAAAAAAAAAAAAAAAAAAAAAAAAAAAAAAAAAAAAAAAAAAAAAAAAAAAAAAAAAAAAAAAAAAAAAAAAAAAAAAAAAAAAAAAAAAAAAAAAAAAAAAAAAAAAAAAAAAAAAAAAAAAAAAAAAAAAAAAAAAAAAAAAAAAAAAAAAAAAAAAAAAAAAAAAAAAAAAAAAAAAAAAAAAAAAAAAAAAAAAAAAAAAAAAAAAACwAAAAAHAAcAEAI/wABCBxIsKDBgwcFSAjAkOEACAQIAJhIsaLFixUFHAgQYACAjyBDfnwQoGSEBQsEAFjJsqXLlzBjypwpYEAAAwBy6tzJs2fOAhckBBgawIIBAEiTKl3KtKnTpwUQHFDAIIBVqw0YBCAwwAGAr2DDghUAQEGAAwDSql3Ltm1bAwQCBMBQAIDdu3jz6rWbYAGEAAEiABhMuHBhAQwkBFgcYIABAQAiS55MubLly5gza97MufNkAaApPNBQIEMAAhQAqF7NGkCCDQFiy5Z9oHYCBABy696t20CFCQECWBAAAIECAMiTK1/O/EGAAQCiS59OvTp1BAQaVJgAoLv37+DDf1FPMCBAAAUFAKhfz769e/YB4jsAQL++/fv2EShoEKB/AIAQAAwkWNAggAIOIgRgGGCAAQARJU6kmIBBgwAZAxBYIADAR5AhRY4kWdLkSZQhAwIAOw==\"><title>Layer: input (input)\n shape = (28, 28, 1)\n Keras class = Input</title></image><text x=\"430.0\" y=\"1219.0\" font-family=\"monospace\" font-size=\"12\">input</text></svg>"
      }
     },
     "f7800ae3665946e89557a1b08389d052": {
      "model_module": "jupyter-js-widgets",
      "model_module_version": "~2.1.4",
      "model_name": "LayoutModel",
      "state": {
       "_model_module_version": "~2.1.4",
       "_view_module_version": "~2.1.4",
       "width": "100%"
      }
     },
     "fd26bdfbddd5483f8b06fb4f227f1ad9": {
      "model_module": "jupyter-js-widgets",
      "model_module_version": "~2.1.4",
      "model_name": "ButtonStyleModel",
      "state": {
       "_model_module_version": "~2.1.4",
       "_view_module_version": "~2.1.4"
      }
     }
    },
    "version_major": 1,
    "version_minor": 0
   }
  }
 },
 "nbformat": 4,
 "nbformat_minor": 2
}
