{
 "cells": [
  {
   "cell_type": "markdown",
   "metadata": {},
   "source": [
    "# MNIST"
   ]
  },
  {
   "cell_type": "code",
   "execution_count": 1,
   "metadata": {},
   "outputs": [
    {
     "name": "stderr",
     "output_type": "stream",
     "text": [
      "conx, version 3.3.4\n",
      "Using Theano backend.\n"
     ]
    }
   ],
   "source": [
    "from conx import Network, Layer, Conv2DLayer, MaxPool2DLayer, FlattenLayer"
   ]
  },
  {
   "cell_type": "code",
   "execution_count": 2,
   "metadata": {},
   "outputs": [],
   "source": [
    "net = Network(\"MNIST\")\n",
    "net.add(Layer(\"input\", shape=784, vshape=(28, 28), colormap=\"hot\", minmax=(0,1)))\n",
    "net.add(Layer(\"hidden1\", shape=512, vshape=(16,32), activation='relu', dropout=0.2))\n",
    "net.add(Layer(\"hidden2\", shape=512, vshape=(16,32), activation='relu', dropout=0.2))\n",
    "net.add(Layer(\"output\", shape=10, activation='softmax'))\n",
    "\n",
    "net.connect('input', 'hidden1')\n",
    "net.connect('hidden1', 'hidden2')\n",
    "net.connect('hidden2', 'output')"
   ]
  },
  {
   "cell_type": "code",
   "execution_count": 3,
   "metadata": {},
   "outputs": [],
   "source": [
    "net.compile(error='mean_squared_error', optimizer='sgd')"
   ]
  },
  {
   "cell_type": "code",
   "execution_count": 4,
   "metadata": {},
   "outputs": [
    {
     "name": "stdout",
     "output_type": "stream",
     "text": [
      "Input Summary:\n",
      "   count  : 70000 (70000 for training, 0 for testing)\n",
      "   shape  : (784,)\n",
      "   range  : (0.0, 1.0)\n",
      "Target Summary:\n",
      "   count  : 70000 (70000 for training, 0 for testing)\n",
      "   shape  : (10,)\n",
      "   range  : (0.0, 1.0)\n"
     ]
    }
   ],
   "source": [
    "dataset = net.dataset\n",
    "dataset.get('mnist')\n",
    "#dataset.slice(0, 100)\n",
    "dataset.inputs.reshape(0, 784)\n",
    "dataset.shuffle()\n",
    "dataset.summary()"
   ]
  },
  {
   "cell_type": "code",
   "execution_count": 5,
   "metadata": {},
   "outputs": [
    {
     "data": {
      "application/javascript": [
       "\n",
       "require(['base/js/namespace'], function(Jupyter) {\n",
       "    Jupyter.notebook.kernel.comm_manager.register_target('conx_svg_control', function(comm, msg) {\n",
       "        comm.on_msg(function(msg) {\n",
       "            var data = msg[\"content\"][\"data\"];\n",
       "            var images = document.getElementsByClassName(data[\"class\"]);\n",
       "            for (var i = 0; i < images.length; i++) {\n",
       "                if (data[\"href\"]) {\n",
       "                    images[i].setAttributeNS(null, \"href\", data[\"href\"]);\n",
       "                }\n",
       "                if (data[\"src\"]) {\n",
       "                    images[i].setAttributeNS(null, \"src\", data[\"src\"]);\n",
       "                }\n",
       "            }\n",
       "        });\n",
       "    });\n",
       "});\n"
      ],
      "text/plain": [
       "<IPython.core.display.Javascript object>"
      ]
     },
     "metadata": {},
     "output_type": "display_data"
    }
   ],
   "source": [
    "widget = net.dashboard()"
   ]
  },
  {
   "cell_type": "code",
   "execution_count": 6,
   "metadata": {},
   "outputs": [
    {
     "data": {
      "application/vnd.jupyter.widget-view+json": {
       "model_id": "5a855a85f1894262ada0c90fae45687c",
       "version_major": 2,
       "version_minor": 0
      },
      "text/html": [
       "<p>Failed to display Jupyter Widget of type <code>Dashboard</code>.</p>\n",
       "<p>\n",
       "  If you're reading this message in Jupyter Notebook or JupyterLab, it may mean\n",
       "  that the widgets JavaScript is still loading. If this message persists, it\n",
       "  likely means that the widgets JavaScript library is either not installed or\n",
       "  not enabled. See the <a href=\"https://ipywidgets.readthedocs.io/en/stable/user_install.html\">Jupyter\n",
       "  Widgets Documentation</a> for setup instructions.\n",
       "</p>\n",
       "<p>\n",
       "  If you're reading this message in another notebook frontend (for example, a static\n",
       "  rendering on GitHub or <a href=\"https://nbviewer.jupyter.org/\">NBViewer</a>),\n",
       "  it may mean that your frontend doesn't currently support widgets.\n",
       "</p>\n"
      ],
      "text/plain": [
       "Dashboard(children=(VBox(children=(VBox(children=(HBox(children=(Select(description='Dataset:', index=1, options=('Test', 'Train'), rows=1, value='Train'), Select(description='Features:', options=('',), rows=1, value=''), Button(icon='refresh', layout=Layout(width='40px'), style=ButtonStyle())), layout=Layout(height='40px')), HBox(children=(IntSlider(value=0, continuous_update=False, description='Dataset index', layout=Layout(width='95%'), max=69999), Label(value='of 0', layout=Layout(width='100px'))), layout=Layout(height='40px')), HBox(children=(Button(icon='fast-backward', layout=Layout(width='100%'), style=ButtonStyle()), Button(icon='backward', layout=Layout(width='100%'), style=ButtonStyle()), IntText(value=0, layout=Layout(width='100%')), Button(icon='forward', layout=Layout(width='100%'), style=ButtonStyle()), Button(icon='fast-forward', layout=Layout(width='100%'), style=ButtonStyle()), Button(description='Play', icon='play', layout=Layout(width='100%'), style=ButtonStyle())), layout=Layout(height='50px', width='100%'))), layout=Layout(width='95%')), HTML(value='<p style=\"text-align:center\"><svg id=\\'MNIST\\' xmlns=\\'http://www.w3.org/2000/svg\\' viewBox=\"0 0 350 570\" height=\"780\" image-rendering=\"pixelated\">\\n    <defs>\\n        <marker id=\"arrow\" markerWidth=\"10\" markerHeight=\"10\" refX=\"9\" refY=\"3\" orient=\"auto\" markerUnits=\"strokeWidth\">\\n          <path d=\"M0,0 L0,6 L9,3 z\" fill=\"black\" />\\n        </marker>\\n    </defs><text x=\"175.0\" y=\"12.5\" font-family=\"monospace\" font-size=\"15\" text-anchor=\"middle\" alignment-baseline=\"central\">MNIST</text><rect x=\"74.0\" y=\"29\" width=\"202\" height=\"27\" style=\"fill:none;stroke:black;stroke-width:2\"/><image id=\"MNIST_output_1\" class=\"MNIST_output\" x=\"75.0\" y=\"30\" height=\"25\" width=\"200\" preserveAspectRatio=\"none\" href=\"data:image/gif;base64,R0lGODdhCgABAIcAANXV/8bG/7S0/wAAAAAAAAAAAAAAAAAAAAAAAAAAAAAAAAAAAAAAAAAAAAAAAAAAAAAAAAAAAAAAAAAAAAAAAAAAAAAAAAAAAAAAAAAAAAAAAAAAAAAAAAAAAAAAAAAAAAAAAAAAAAAAAAAAAAAAAAAAAAAAAAAAAAAAAAAAAAAAAAAAAAAAAAAAAAAAAAAAAAAAAAAAAAAAAAAAAAAAAAAAAAAAAAAAAAAAAAAAAAAAAAAAAAAAAAAAAAAAAAAAAAAAAAAAAAAAAAAAAAAAAAAAAAAAAAAAAAAAAAAAAAAAAAAAAAAAAAAAAAAAAAAAAAAAAAAAAAAAAAAAAAAAAAAAAAAAAAAAAAAAAAAAAAAAAAAAAAAAAAAAAAAAAAAAAAAAAAAAAAAAAAAAAAAAAAAAAAAAAAAAAAAAAAAAAAAAAAAAAAAAAAAAAAAAAAAAAAAAAAAAAAAAAAAAAAAAAAAAAAAAAAAAAAAAAAAAAAAAAAAAAAAAAAAAAAAAAAAAAAAAAAAAAAAAAAAAAAAAAAAAAAAAAAAAAAAAAAAAAAAAAAAAAAAAAAAAAAAAAAAAAAAAAAAAAAAAAAAAAAAAAAAAAAAAAAAAAAAAAAAAAAAAAAAAAAAAAAAAAAAAAAAAAAAAAAAAAAAAAAAAAAAAAAAAAAAAAAAAAAAAAAAAAAAAAAAAAAAAAAAAAAAAAAAAAAAAAAAAAAAAAAAAAAAAAAAAAAAAAAAAAAAAAAAAAAAAAAAAAAAAAAAAAAAAAAAAAAAAAAAAAAAAAAAAAAAAAAAAAAAAAAAAAAAAAAAAAAAAAAAAAAAAAAAAAAAAAAAAAAAAAAAAAAAAAAAAAAAAAAAAAAAAAAAAAAAAAAAAAAAAAAAAAAAAAAAAAAAAAAAAAAAAAAAAAAAAAAAAAAAAAAAAAAAAAAAAAAAAAAAAAAAAAAAAAAAAAAAAAAAAAAAAAAAAAAAAAAAAAAAAAAAAAAAAAAAAAAAAAAAAAAAAAAAAAAAAAAAAAAAAAAAAAAAAACwAAAAACgABAAAIDQAFAAAQIACAgwACBAQAOw==\"><title>Layer: output (output)\\n shape = (10,)\\n Keras class = Dense\\n activation = softmax</title></image><text x=\"280.0\" y=\"44.5\" font-family=\"monospace\" font-size=\"12\" text-anchor=\"start\" alignment-baseline=\"central\">output</text><line x1=\"175.0\" y1=\"84\" x2=\"175.0\" y2=\"57\" stroke=\"red\" stroke-width=\"2\" marker-end=\"url(#arrow)\"><title>Weights from hidden2 to output\\n output/kernel has shape (512, 10)\\n output/bias has shape (10,)</title></line><rect x=\"74.0\" y=\"84\" width=\"202\" height=\"102\" style=\"fill:none;stroke:black;stroke-width:2\"/><image id=\"MNIST_hidden2_2\" class=\"MNIST_hidden2\" x=\"75.0\" y=\"85\" height=\"100\" width=\"200\" preserveAspectRatio=\"none\" href=\"data:image/gif;base64,R0lGODdhIAAQAIcAAP78/ba2/8bG/9bW/+fn/4eH/6io/2dn/5SU/3Z2/ycn/1NT/0dH/zc3/wMD+BAQ/wAAAAAAAAAAAAAAAAAAAAAAAAAAAAAAAAAAAAAAAAAAAAAAAAAAAAAAAAAAAAAAAAAAAAAAAAAAAAAAAAAAAAAAAAAAAAAAAAAAAAAAAAAAAAAAAAAAAAAAAAAAAAAAAAAAAAAAAAAAAAAAAAAAAAAAAAAAAAAAAAAAAAAAAAAAAAAAAAAAAAAAAAAAAAAAAAAAAAAAAAAAAAAAAAAAAAAAAAAAAAAAAAAAAAAAAAAAAAAAAAAAAAAAAAAAAAAAAAAAAAAAAAAAAAAAAAAAAAAAAAAAAAAAAAAAAAAAAAAAAAAAAAAAAAAAAAAAAAAAAAAAAAAAAAAAAAAAAAAAAAAAAAAAAAAAAAAAAAAAAAAAAAAAAAAAAAAAAAAAAAAAAAAAAAAAAAAAAAAAAAAAAAAAAAAAAAAAAAAAAAAAAAAAAAAAAAAAAAAAAAAAAAAAAAAAAAAAAAAAAAAAAAAAAAAAAAAAAAAAAAAAAAAAAAAAAAAAAAAAAAAAAAAAAAAAAAAAAAAAAAAAAAAAAAAAAAAAAAAAAAAAAAAAAAAAAAAAAAAAAAAAAAAAAAAAAAAAAAAAAAAAAAAAAAAAAAAAAAAAAAAAAAAAAAAAAAAAAAAAAAAAAAAAAAAAAAAAAAAAAAAAAAAAAAAAAAAAAAAAAAAAAAAAAAAAAAAAAAAAAAAAAAAAAAAAAAAAAAAAAAAAAAAAAAAAAAAAAAAAAAAAAAAAAAAAAAAAAAAAAAAAAAAAAAAAAAAAAAAAAAAAAAAAAAAAAAAAAAAAAAAAAAAAAAAAAAAAAAAAAAAAAAAAAAAAAAAAAAAAAAAAAAAAAAAAAAAAAAAAAAAAAAAAAAAAAAAAAAAAAAAAAAAAAAAAAAAAAAAAAAAAAAAAAAAAAAAAAAAAAAAAAAAAAAAAAAAAAAAAAAAAAAAAAAAAAAAAAAAAAAAAAAAAAAAAAAAAAAAAACwAAAAAIAAQAEAI/wABBAAAIAAAAAYADADAAAAABAAiSkRAoACAixgzAiAwAIBHAwwWAAAgQIADAgAGAAgAoCUCAAIAADAAoKZNAQkEAACgAIBPAAUAACAAAIABAQAMGBBwIAGAAAQASJ0qNQAAAQQCIABgAACAAAMAiBWgAAABAAEAABAAgMGABAcAyAVAAIADAQDyIgAgAIBfvwECACgAYMACAAUIEDgAoLEAAAAGACgAoDIABAAyAxAgAMCAAQBCKwCAgMAABwcGABgAAAABALBjxxYQIACA2wQA6E4AoDcBAMAPLABAAIDxAQACLBigAEABBwCiAxAAQIABAwAADADAfQCA7wIIAPcAMCAAAAYCAgAAMAAAAAEACgCY/wCA/QYAABgAEAAAAIABBgBgAMCggQEIAAA4cAAAgAAAEgCgWFEBgAAADgQAAKABAAALABQAgEAAAJQDDgA4ACAAAJgAEhAAkAAAAAECDBAI0FNBAAAGAAwlOrRAAAANACwFYCBAAwBRAQgAsAAAAQBZBxQQACBAggEAxAIoACAAALRpBQAAgADAgQEACgAIoADAXQECEhAIgAAAgAEAABwoAMCwYQEAABQA0BiAAQYAJE8uUMAAAQABCDBIUCAAgAILABQgAOBAAwQNFggAAIBAAAMGCCRQIODAAAAAFADgbSAgADs=\"><title>Layer: hidden2 (hidden)\\n shape = (512,)\\n dropout = 0.2\\n Keras class = Dense\\n activation = relu</title></image><text x=\"280.0\" y=\"137.0\" font-family=\"monospace\" font-size=\"12\" text-anchor=\"start\" alignment-baseline=\"central\">hidden2</text><line x1=\"175.0\" y1=\"214\" x2=\"175.0\" y2=\"187\" stroke=\"red\" stroke-width=\"2\" marker-end=\"url(#arrow)\"><title>Weights from hidden1 to hidden2\\n hidden2/kernel has shape (512, 512)\\n hidden2/bias has shape (512,)</title></line><rect x=\"74.0\" y=\"214\" width=\"202\" height=\"102\" style=\"fill:none;stroke:black;stroke-width:2\"/><image id=\"MNIST_hidden1_3\" class=\"MNIST_hidden1\" x=\"75.0\" y=\"215\" height=\"100\" width=\"200\" preserveAspectRatio=\"none\" href=\"data:image/gif;base64,R0lGODdhIAAQAIcAAP78/ba2/wMD9pSU/9jY/+fn/3d3/6en/xgY/8fH/0ZG/1VV/2dn/4WF/yUl/zU1/wAA0AAAZQAAnQAArgAAAAAAAAAAAAAAAAAAAAAAAAAAAAAAAAAAAAAAAAAAAAAAAAAAAAAAAAAAAAAAAAAAAAAAAAAAAAAAAAAAAAAAAAAAAAAAAAAAAAAAAAAAAAAAAAAAAAAAAAAAAAAAAAAAAAAAAAAAAAAAAAAAAAAAAAAAAAAAAAAAAAAAAAAAAAAAAAAAAAAAAAAAAAAAAAAAAAAAAAAAAAAAAAAAAAAAAAAAAAAAAAAAAAAAAAAAAAAAAAAAAAAAAAAAAAAAAAAAAAAAAAAAAAAAAAAAAAAAAAAAAAAAAAAAAAAAAAAAAAAAAAAAAAAAAAAAAAAAAAAAAAAAAAAAAAAAAAAAAAAAAAAAAAAAAAAAAAAAAAAAAAAAAAAAAAAAAAAAAAAAAAAAAAAAAAAAAAAAAAAAAAAAAAAAAAAAAAAAAAAAAAAAAAAAAAAAAAAAAAAAAAAAAAAAAAAAAAAAAAAAAAAAAAAAAAAAAAAAAAAAAAAAAAAAAAAAAAAAAAAAAAAAAAAAAAAAAAAAAAAAAAAAAAAAAAAAAAAAAAAAAAAAAAAAAAAAAAAAAAAAAAAAAAAAAAAAAAAAAAAAAAAAAAAAAAAAAAAAAAAAAAAAAAAAAAAAAAAAAAAAAAAAAAAAAAAAAAAAAAAAAAAAAAAAAAAAAAAAAAAAAAAAAAAAAAAAAAAAAAAAAAAAAAAAAAAAAAAAAAAAAAAAAAAAAAAAAAAAAAAAAAAAAAAAAAAAAAAAAAAAAAAAAAAAAAAAAAAAAAAAAAAAAAAAAAAAAAAAAAAAAAAAAAAAAAAAAAAAAAAAAAAAAAAAAAAAAAAAAAAAAAAAAAAAAAAAAAAAAAAAAAAAAAAAAAAAAAAAAAAAAAAAAAAAAAAAAAAAAAAAAAAAAAAAAAAAAAAAAAAAAAAAAAAAAAAAAAAAAAAAAAAAAAAAAAAAAAAAAAAAACwAAAAAIAAQAEAI/wAPAAAwAIBBCBEQJBBwAMCDAAAAHEgQIAABCAMAACAAAMAAAwAMECigAIBJAAUaBHAAAEABADAPHABAAIAAAQBy6oQA4ACAnw0YAAAwAIABBw0ABADAFEAAAAAQOIAAQACAqwsADCggAIBXrw8AJCBAgMEBAwsANADANgGAAgAABABANwGAuwAECDgwgAGAvwAaACgQoAABAIgHAFjM4IEBBQAABAAAAAKAywAOLEAAoDMAAQBCO0AAYAEAAAIGAAgAQAGAAQAKNADAAACDAgAQANjtQAEAAAMACD8AgAAAAAcAGABQAACAAgYAABgA4AGDBACyZy8AoLt3AAsAEP8gAABAAwAEBABYbwCAewABBigAIOBAgQUA8uvPjwAAAYACAAAQAEBBAAAACgBgGADAw4cBAEwEYGAAAAAGAGx0AMAjgAUARBoYMKBAAgAEAgQAAMAAAJgEBgCgqQAAAgA5ASgoIIABAKAPADQAUAAAgAEAAEhYAACAAgAAGAQAkADA1QMAJggQAOABALAJBAAgC8ABgAAACABQACABALgABjwAUFcAAAAIAABAACABAAQABAMIQADAYQABACxeHEABgAAAJANoAMDyAgMANCNgMCAAANChBQAggADAggcAVK92YAAAAAENAAgAYOBBAgABADhAcACAAAAADAAAEBAAOw==\"><title>Layer: hidden1 (hidden)\\n shape = (512,)\\n dropout = 0.2\\n Keras class = Dense\\n activation = relu</title></image><text x=\"280.0\" y=\"267.0\" font-family=\"monospace\" font-size=\"12\" text-anchor=\"start\" alignment-baseline=\"central\">hidden1</text><line x1=\"175.0\" y1=\"344\" x2=\"175.0\" y2=\"317\" stroke=\"black\" stroke-width=\"2\" marker-end=\"url(#arrow)\"><title>Weights from input to hidden1\\n hidden1/kernel has shape (784, 512)\\n hidden1/bias has shape (512,)</title></line><rect x=\"74.0\" y=\"344\" width=\"202\" height=\"202\" style=\"fill:none;stroke:black;stroke-width:2\"/><image id=\"MNIST_input_4\" class=\"MNIST_input\" x=\"75.0\" y=\"345\" height=\"200\" width=\"200\" preserveAspectRatio=\"none\" href=\"data:image/gif;base64,R0lGODdhHAAcAIcAAAoAAP//9f92AP+0AP//0LkAAPkAAP//kv//sS8AAFcAAP8bAP+rAHcAAIsAANcAAP+LAP/GAP/nAP/2AP//R///d/8pAP9EAP9rAP+dAP/ZAAAAAAAAAAAAAAAAAAAAAAAAAAAAAAAAAAAAAAAAAAAAAAAAAAAAAAAAAAAAAAAAAAAAAAAAAAAAAAAAAAAAAAAAAAAAAAAAAAAAAAAAAAAAAAAAAAAAAAAAAAAAAAAAAAAAAAAAAAAAAAAAAAAAAAAAAAAAAAAAAAAAAAAAAAAAAAAAAAAAAAAAAAAAAAAAAAAAAAAAAAAAAAAAAAAAAAAAAAAAAAAAAAAAAAAAAAAAAAAAAAAAAAAAAAAAAAAAAAAAAAAAAAAAAAAAAAAAAAAAAAAAAAAAAAAAAAAAAAAAAAAAAAAAAAAAAAAAAAAAAAAAAAAAAAAAAAAAAAAAAAAAAAAAAAAAAAAAAAAAAAAAAAAAAAAAAAAAAAAAAAAAAAAAAAAAAAAAAAAAAAAAAAAAAAAAAAAAAAAAAAAAAAAAAAAAAAAAAAAAAAAAAAAAAAAAAAAAAAAAAAAAAAAAAAAAAAAAAAAAAAAAAAAAAAAAAAAAAAAAAAAAAAAAAAAAAAAAAAAAAAAAAAAAAAAAAAAAAAAAAAAAAAAAAAAAAAAAAAAAAAAAAAAAAAAAAAAAAAAAAAAAAAAAAAAAAAAAAAAAAAAAAAAAAAAAAAAAAAAAAAAAAAAAAAAAAAAAAAAAAAAAAAAAAAAAAAAAAAAAAAAAAAAAAAAAAAAAAAAAAAAAAAAAAAAAAAAAAAAAAAAAAAAAAAAAAAAAAAAAAAAAAAAAAAAAAAAAAAAAAAAAAAAAAAAAAAAAAAAAAAAAAAAAAAAAAAAAAAAAAAAAAAAAAAAAAAAAAAAAAAAAAAAAAAAAAAAAAAAAAAAAAAAAAAAAAAAAAAAAAAAAAAAAAAAAAAAAAAAAAAAAAAAAAAAAAAAAAAAAAAAAAAAAAAAAAAAAAAAAAAAAAAAAAAAAAAAAACwAAAAAHAAcAEAI/wABCBxIsKDBgwgHHghQAIDDhxAjSnw4IIAACRoAaCwQAEECACBDihxJsqTJkwoQMADAsqXLlzBbPgggAIBNAQcIBCCgAIDPn0CD+rQQIACFAAEIFADAtKnTp08VIDAAoKrVq1izXhUQoACAr2DDih0bFgEBBwDSql3Ltq3aAQEEAMgQgIECAAICDADAt6/fvwAcBEAwwQAAAAsCHEgAoLHjx5AjS55MubLly5gtOwjAAIDnz6BDiwb9IAADAKhTq17NWnWFAAUAyJ5Nu7Zt2gcCFADAu7fv38B7NyAgAYBxAAkECDAAoLnz59CbDwggAAAACAEqGBgQYAGA7+DDi1EHMCCAAAwEBABYPyHAAwDw48ufD2BAAAgUDADYHyHAAIAABA4kWHDggQALEjQYEIDAAgARJU6kSFFAgAARLjQA0NHjR5AhRY4kWdLkSZQeAwIAOw==\"><title>Layer: input (input)\\n shape = (784,)\\n Keras class = Input</title></image><text x=\"280.0\" y=\"447.0\" font-family=\"monospace\" font-size=\"12\" text-anchor=\"start\" alignment-baseline=\"central\">input</text></svg></p>', layout=Layout(justify_content='center', overflow_x='auto', overflow_y='auto', width='95%'))), layout=Layout(width='95%')), VBox(children=(Accordion(children=(VBox(children=(HTML(value='<p><h3>Network display:</h3></p>'), FloatSlider(value=1.0, continuous_update=False, description='Zoom', max=3.0, min=0.5), IntText(value=150, description='Horizontal space between banks:', style=DescriptionStyle(description_width='initial')), IntText(value=30, description='Vertical space between layers:', style=DescriptionStyle(description_width='initial')), Checkbox(value=False, description='Show Targets'), Checkbox(value=False, description='Show Errors'), IntText(value=3, description='Feature columns:', style=DescriptionStyle(description_width='initial')), FloatText(value=2.0, description='Feature scale:', style=DescriptionStyle(description_width='initial')))), VBox(children=(HTML(value='<p><hr/><h3>output bank:</h3></p>'), Checkbox(value=True, description='Visible'), HBox(children=(Select(description='Colormap:', options=('', 'Accent', 'Accent_r', 'Blues', 'Blues_r', 'BrBG', 'BrBG_r', 'BuGn', 'BuGn_r', 'BuPu', 'BuPu_r', 'CMRmap', 'CMRmap_r', 'Dark2', 'Dark2_r', 'GnBu', 'GnBu_r', 'Greens', 'Greens_r', 'Greys', 'Greys_r', 'OrRd', 'OrRd_r', 'Oranges', 'Oranges_r', 'PRGn', 'PRGn_r', 'Paired', 'Paired_r', 'Pastel1', 'Pastel1_r', 'Pastel2', 'Pastel2_r', 'PiYG', 'PiYG_r', 'PuBu', 'PuBuGn', 'PuBuGn_r', 'PuBu_r', 'PuOr', 'PuOr_r', 'PuRd', 'PuRd_r', 'Purples', 'Purples_r', 'RdBu', 'RdBu_r', 'RdGy', 'RdGy_r', 'RdPu', 'RdPu_r', 'RdYlBu', 'RdYlBu_r', 'RdYlGn', 'RdYlGn_r', 'Reds', 'Reds_r', 'Set1', 'Set1_r', 'Set2', 'Set2_r', 'Set3', 'Set3_r', 'Spectral', 'Spectral_r', 'Vega10', 'Vega10_r', 'Vega20', 'Vega20_r', 'Vega20b', 'Vega20b_r', 'Vega20c', 'Vega20c_r', 'Wistia', 'Wistia_r', 'YlGn', 'YlGnBu', 'YlGnBu_r', 'YlGn_r', 'YlOrBr', 'YlOrBr_r', 'YlOrRd', 'YlOrRd_r', 'afmhot', 'afmhot_r', 'autumn', 'autumn_r', 'binary', 'binary_r', 'bone', 'bone_r', 'brg', 'brg_r', 'bwr', 'bwr_r', 'cool', 'cool_r', 'coolwarm', 'coolwarm_r', 'copper', 'copper_r', 'cubehelix', 'cubehelix_r', 'flag', 'flag_r', 'gist_earth', 'gist_earth_r', 'gist_gray', 'gist_gray_r', 'gist_heat', 'gist_heat_r', 'gist_ncar', 'gist_ncar_r', 'gist_rainbow', 'gist_rainbow_r', 'gist_stern', 'gist_stern_r', 'gist_yarg', 'gist_yarg_r', 'gnuplot', 'gnuplot2', 'gnuplot2_r', 'gnuplot_r', 'gray', 'gray_r', 'hot', 'hot_r', 'hsv', 'hsv_r', 'inferno', 'inferno_r', 'jet', 'jet_r', 'magma', 'magma_r', 'nipy_spectral', 'nipy_spectral_r', 'ocean', 'ocean_r', 'pink', 'pink_r', 'plasma', 'plasma_r', 'prism', 'prism_r', 'rainbow', 'rainbow_r', 'seismic', 'seismic_r', 'spectral', 'spectral_r', 'spring', 'spring_r', 'summer', 'summer_r', 'tab10', 'tab10_r', 'tab20', 'tab20_r', 'tab20b', 'tab20b_r', 'tab20c', 'tab20c_r', 'terrain', 'terrain_r', 'viridis', 'viridis_r', 'winter', 'winter_r'), rows=1, value=''), HTML(value='<img src=\"data:image/gif;base64,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\"/>'))), HBox(children=(IntText(value=-1, description='Leftmost color maps to:', style=DescriptionStyle(description_width='initial')), IntText(value=1, description='Rightmost color maps to:', style=DescriptionStyle(description_width='initial')))))), VBox(children=(HTML(value='<p><hr/><h3>hidden2 bank:</h3></p>'), Checkbox(value=True, description='Visible'), HBox(children=(Select(description='Colormap:', options=('', 'Accent', 'Accent_r', 'Blues', 'Blues_r', 'BrBG', 'BrBG_r', 'BuGn', 'BuGn_r', 'BuPu', 'BuPu_r', 'CMRmap', 'CMRmap_r', 'Dark2', 'Dark2_r', 'GnBu', 'GnBu_r', 'Greens', 'Greens_r', 'Greys', 'Greys_r', 'OrRd', 'OrRd_r', 'Oranges', 'Oranges_r', 'PRGn', 'PRGn_r', 'Paired', 'Paired_r', 'Pastel1', 'Pastel1_r', 'Pastel2', 'Pastel2_r', 'PiYG', 'PiYG_r', 'PuBu', 'PuBuGn', 'PuBuGn_r', 'PuBu_r', 'PuOr', 'PuOr_r', 'PuRd', 'PuRd_r', 'Purples', 'Purples_r', 'RdBu', 'RdBu_r', 'RdGy', 'RdGy_r', 'RdPu', 'RdPu_r', 'RdYlBu', 'RdYlBu_r', 'RdYlGn', 'RdYlGn_r', 'Reds', 'Reds_r', 'Set1', 'Set1_r', 'Set2', 'Set2_r', 'Set3', 'Set3_r', 'Spectral', 'Spectral_r', 'Vega10', 'Vega10_r', 'Vega20', 'Vega20_r', 'Vega20b', 'Vega20b_r', 'Vega20c', 'Vega20c_r', 'Wistia', 'Wistia_r', 'YlGn', 'YlGnBu', 'YlGnBu_r', 'YlGn_r', 'YlOrBr', 'YlOrBr_r', 'YlOrRd', 'YlOrRd_r', 'afmhot', 'afmhot_r', 'autumn', 'autumn_r', 'binary', 'binary_r', 'bone', 'bone_r', 'brg', 'brg_r', 'bwr', 'bwr_r', 'cool', 'cool_r', 'coolwarm', 'coolwarm_r', 'copper', 'copper_r', 'cubehelix', 'cubehelix_r', 'flag', 'flag_r', 'gist_earth', 'gist_earth_r', 'gist_gray', 'gist_gray_r', 'gist_heat', 'gist_heat_r', 'gist_ncar', 'gist_ncar_r', 'gist_rainbow', 'gist_rainbow_r', 'gist_stern', 'gist_stern_r', 'gist_yarg', 'gist_yarg_r', 'gnuplot', 'gnuplot2', 'gnuplot2_r', 'gnuplot_r', 'gray', 'gray_r', 'hot', 'hot_r', 'hsv', 'hsv_r', 'inferno', 'inferno_r', 'jet', 'jet_r', 'magma', 'magma_r', 'nipy_spectral', 'nipy_spectral_r', 'ocean', 'ocean_r', 'pink', 'pink_r', 'plasma', 'plasma_r', 'prism', 'prism_r', 'rainbow', 'rainbow_r', 'seismic', 'seismic_r', 'spectral', 'spectral_r', 'spring', 'spring_r', 'summer', 'summer_r', 'tab10', 'tab10_r', 'tab20', 'tab20_r', 'tab20b', 'tab20b_r', 'tab20c', 'tab20c_r', 'terrain', 'terrain_r', 'viridis', 'viridis_r', 'winter', 'winter_r'), rows=1, value=''), HTML(value='<img src=\"data:image/gif;base64,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\"/>'))), HBox(children=(IntText(value=-1, description='Leftmost color maps to:', style=DescriptionStyle(description_width='initial')), IntText(value=1, description='Rightmost color maps to:', style=DescriptionStyle(description_width='initial')))))), VBox(children=(HTML(value='<p><hr/><h3>hidden1 bank:</h3></p>'), Checkbox(value=True, description='Visible'), HBox(children=(Select(description='Colormap:', options=('', 'Accent', 'Accent_r', 'Blues', 'Blues_r', 'BrBG', 'BrBG_r', 'BuGn', 'BuGn_r', 'BuPu', 'BuPu_r', 'CMRmap', 'CMRmap_r', 'Dark2', 'Dark2_r', 'GnBu', 'GnBu_r', 'Greens', 'Greens_r', 'Greys', 'Greys_r', 'OrRd', 'OrRd_r', 'Oranges', 'Oranges_r', 'PRGn', 'PRGn_r', 'Paired', 'Paired_r', 'Pastel1', 'Pastel1_r', 'Pastel2', 'Pastel2_r', 'PiYG', 'PiYG_r', 'PuBu', 'PuBuGn', 'PuBuGn_r', 'PuBu_r', 'PuOr', 'PuOr_r', 'PuRd', 'PuRd_r', 'Purples', 'Purples_r', 'RdBu', 'RdBu_r', 'RdGy', 'RdGy_r', 'RdPu', 'RdPu_r', 'RdYlBu', 'RdYlBu_r', 'RdYlGn', 'RdYlGn_r', 'Reds', 'Reds_r', 'Set1', 'Set1_r', 'Set2', 'Set2_r', 'Set3', 'Set3_r', 'Spectral', 'Spectral_r', 'Vega10', 'Vega10_r', 'Vega20', 'Vega20_r', 'Vega20b', 'Vega20b_r', 'Vega20c', 'Vega20c_r', 'Wistia', 'Wistia_r', 'YlGn', 'YlGnBu', 'YlGnBu_r', 'YlGn_r', 'YlOrBr', 'YlOrBr_r', 'YlOrRd', 'YlOrRd_r', 'afmhot', 'afmhot_r', 'autumn', 'autumn_r', 'binary', 'binary_r', 'bone', 'bone_r', 'brg', 'brg_r', 'bwr', 'bwr_r', 'cool', 'cool_r', 'coolwarm', 'coolwarm_r', 'copper', 'copper_r', 'cubehelix', 'cubehelix_r', 'flag', 'flag_r', 'gist_earth', 'gist_earth_r', 'gist_gray', 'gist_gray_r', 'gist_heat', 'gist_heat_r', 'gist_ncar', 'gist_ncar_r', 'gist_rainbow', 'gist_rainbow_r', 'gist_stern', 'gist_stern_r', 'gist_yarg', 'gist_yarg_r', 'gnuplot', 'gnuplot2', 'gnuplot2_r', 'gnuplot_r', 'gray', 'gray_r', 'hot', 'hot_r', 'hsv', 'hsv_r', 'inferno', 'inferno_r', 'jet', 'jet_r', 'magma', 'magma_r', 'nipy_spectral', 'nipy_spectral_r', 'ocean', 'ocean_r', 'pink', 'pink_r', 'plasma', 'plasma_r', 'prism', 'prism_r', 'rainbow', 'rainbow_r', 'seismic', 'seismic_r', 'spectral', 'spectral_r', 'spring', 'spring_r', 'summer', 'summer_r', 'tab10', 'tab10_r', 'tab20', 'tab20_r', 'tab20b', 'tab20b_r', 'tab20c', 'tab20c_r', 'terrain', 'terrain_r', 'viridis', 'viridis_r', 'winter', 'winter_r'), rows=1, value=''), HTML(value='<img src=\"data:image/gif;base64,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\"/>'))), HBox(children=(IntText(value=-1, description='Leftmost color maps to:', style=DescriptionStyle(description_width='initial')), IntText(value=1, description='Rightmost color maps to:', style=DescriptionStyle(description_width='initial')))))), VBox(children=(HTML(value='<p><hr/><h3>input bank:</h3></p>'), Checkbox(value=True, description='Visible'), HBox(children=(Select(description='Colormap:', index=125, options=('', 'Accent', 'Accent_r', 'Blues', 'Blues_r', 'BrBG', 'BrBG_r', 'BuGn', 'BuGn_r', 'BuPu', 'BuPu_r', 'CMRmap', 'CMRmap_r', 'Dark2', 'Dark2_r', 'GnBu', 'GnBu_r', 'Greens', 'Greens_r', 'Greys', 'Greys_r', 'OrRd', 'OrRd_r', 'Oranges', 'Oranges_r', 'PRGn', 'PRGn_r', 'Paired', 'Paired_r', 'Pastel1', 'Pastel1_r', 'Pastel2', 'Pastel2_r', 'PiYG', 'PiYG_r', 'PuBu', 'PuBuGn', 'PuBuGn_r', 'PuBu_r', 'PuOr', 'PuOr_r', 'PuRd', 'PuRd_r', 'Purples', 'Purples_r', 'RdBu', 'RdBu_r', 'RdGy', 'RdGy_r', 'RdPu', 'RdPu_r', 'RdYlBu', 'RdYlBu_r', 'RdYlGn', 'RdYlGn_r', 'Reds', 'Reds_r', 'Set1', 'Set1_r', 'Set2', 'Set2_r', 'Set3', 'Set3_r', 'Spectral', 'Spectral_r', 'Vega10', 'Vega10_r', 'Vega20', 'Vega20_r', 'Vega20b', 'Vega20b_r', 'Vega20c', 'Vega20c_r', 'Wistia', 'Wistia_r', 'YlGn', 'YlGnBu', 'YlGnBu_r', 'YlGn_r', 'YlOrBr', 'YlOrBr_r', 'YlOrRd', 'YlOrRd_r', 'afmhot', 'afmhot_r', 'autumn', 'autumn_r', 'binary', 'binary_r', 'bone', 'bone_r', 'brg', 'brg_r', 'bwr', 'bwr_r', 'cool', 'cool_r', 'coolwarm', 'coolwarm_r', 'copper', 'copper_r', 'cubehelix', 'cubehelix_r', 'flag', 'flag_r', 'gist_earth', 'gist_earth_r', 'gist_gray', 'gist_gray_r', 'gist_heat', 'gist_heat_r', 'gist_ncar', 'gist_ncar_r', 'gist_rainbow', 'gist_rainbow_r', 'gist_stern', 'gist_stern_r', 'gist_yarg', 'gist_yarg_r', 'gnuplot', 'gnuplot2', 'gnuplot2_r', 'gnuplot_r', 'gray', 'gray_r', 'hot', 'hot_r', 'hsv', 'hsv_r', 'inferno', 'inferno_r', 'jet', 'jet_r', 'magma', 'magma_r', 'nipy_spectral', 'nipy_spectral_r', 'ocean', 'ocean_r', 'pink', 'pink_r', 'plasma', 'plasma_r', 'prism', 'prism_r', 'rainbow', 'rainbow_r', 'seismic', 'seismic_r', 'spectral', 'spectral_r', 'spring', 'spring_r', 'summer', 'summer_r', 'tab10', 'tab10_r', 'tab20', 'tab20_r', 'tab20b', 'tab20b_r', 'tab20c', 'tab20c_r', 'terrain', 'terrain_r', 'viridis', 'viridis_r', 'winter', 'winter_r'), rows=1, value='hot'), HTML(value='<img src=\"data:image/gif;base64,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\"/>'))), HBox(children=(IntText(value=0, description='Leftmost color maps to:', style=DescriptionStyle(description_width='initial')), IntText(value=1, description='Rightmost color maps to:', style=DescriptionStyle(description_width='initial'))))))), _titles={'4': 'input bank', '3': 'hidden1 bank', '2': 'hidden2 bank', '1': 'output bank', '0': 'Network configuration'}),), layout=Layout(overflow_x='auto', overflow_y='auto', width='95%')), HTML(value='<iframe src=\"https://conx.readthedocs.io\" width=\"100%\" height=\"550px\"></frame>', layout=Layout(width='95%'))), _titles={'2': 'Help', '1': 'Configuration', '0': 'Network'})"
      ]
     },
     "metadata": {},
     "output_type": "display_data"
    },
    {
     "data": {
      "application/javascript": [
       "\n",
       "require(['base/js/namespace'], function(Jupyter) {\n",
       "    Jupyter.notebook.kernel.comm_manager.register_target('conx_svg_control', function(comm, msg) {\n",
       "        comm.on_msg(function(msg) {\n",
       "            var data = msg[\"content\"][\"data\"];\n",
       "            var images = document.getElementsByClassName(data[\"class\"]);\n",
       "            for (var i = 0; i < images.length; i++) {\n",
       "                if (data[\"href\"]) {\n",
       "                    images[i].setAttributeNS(null, \"href\", data[\"href\"]);\n",
       "                }\n",
       "                if (data[\"src\"]) {\n",
       "                    images[i].setAttributeNS(null, \"src\", data[\"src\"]);\n",
       "                }\n",
       "            }\n",
       "        });\n",
       "    });\n",
       "});\n"
      ],
      "text/plain": [
       "<IPython.core.display.Javascript object>"
      ]
     },
     "metadata": {},
     "output_type": "display_data"
    }
   ],
   "source": [
    "widget"
   ]
  },
  {
   "cell_type": "code",
   "execution_count": 9,
   "metadata": {},
   "outputs": [
    {
     "data": {
      "application/javascript": [
       "\n",
       "require(['base/js/namespace'], function(Jupyter) {\n",
       "    Jupyter.notebook.kernel.comm_manager.register_target('conx_svg_control', function(comm, msg) {\n",
       "        comm.on_msg(function(msg) {\n",
       "            var data = msg[\"content\"][\"data\"];\n",
       "            var images = document.getElementsByClassName(data[\"class\"]);\n",
       "            for (var i = 0; i < images.length; i++) {\n",
       "                if (data[\"href\"]) {\n",
       "                    images[i].setAttributeNS(null, \"href\", data[\"href\"]);\n",
       "                }\n",
       "                if (data[\"src\"]) {\n",
       "                    images[i].setAttributeNS(null, \"src\", data[\"src\"]);\n",
       "                }\n",
       "            }\n",
       "        });\n",
       "    });\n",
       "});\n"
      ],
      "text/plain": [
       "<IPython.core.display.Javascript object>"
      ]
     },
     "metadata": {},
     "output_type": "display_data"
    },
    {
     "data": {
      "text/html": [
       "<svg id='MNIST' xmlns='http://www.w3.org/2000/svg' viewBox=\"0 0 350 570\" height=\"100%\" image-rendering=\"pixelated\">\n",
       "    <defs>\n",
       "        <marker id=\"arrow\" markerWidth=\"10\" markerHeight=\"10\" refX=\"9\" refY=\"3\" orient=\"auto\" markerUnits=\"strokeWidth\">\n",
       "          <path d=\"M0,0 L0,6 L9,3 z\" fill=\"black\" />\n",
       "        </marker>\n",
       "    </defs><text x=\"175.0\" y=\"12.5\" font-family=\"monospace\" font-size=\"15\" text-anchor=\"middle\" alignment-baseline=\"central\">MNIST</text><rect x=\"74.0\" y=\"29\" width=\"202\" height=\"27\" style=\"fill:none;stroke:black;stroke-width:2\"/><image id=\"MNIST_output_17\" class=\"MNIST_output\" x=\"75.0\" y=\"30\" height=\"25\" width=\"200\" preserveAspectRatio=\"none\" href=\"data:image/gif;base64,R0lGODdhCgABAIcAANXV/8bG/7S0/wAAAAAAAAAAAAAAAAAAAAAAAAAAAAAAAAAAAAAAAAAAAAAAAAAAAAAAAAAAAAAAAAAAAAAAAAAAAAAAAAAAAAAAAAAAAAAAAAAAAAAAAAAAAAAAAAAAAAAAAAAAAAAAAAAAAAAAAAAAAAAAAAAAAAAAAAAAAAAAAAAAAAAAAAAAAAAAAAAAAAAAAAAAAAAAAAAAAAAAAAAAAAAAAAAAAAAAAAAAAAAAAAAAAAAAAAAAAAAAAAAAAAAAAAAAAAAAAAAAAAAAAAAAAAAAAAAAAAAAAAAAAAAAAAAAAAAAAAAAAAAAAAAAAAAAAAAAAAAAAAAAAAAAAAAAAAAAAAAAAAAAAAAAAAAAAAAAAAAAAAAAAAAAAAAAAAAAAAAAAAAAAAAAAAAAAAAAAAAAAAAAAAAAAAAAAAAAAAAAAAAAAAAAAAAAAAAAAAAAAAAAAAAAAAAAAAAAAAAAAAAAAAAAAAAAAAAAAAAAAAAAAAAAAAAAAAAAAAAAAAAAAAAAAAAAAAAAAAAAAAAAAAAAAAAAAAAAAAAAAAAAAAAAAAAAAAAAAAAAAAAAAAAAAAAAAAAAAAAAAAAAAAAAAAAAAAAAAAAAAAAAAAAAAAAAAAAAAAAAAAAAAAAAAAAAAAAAAAAAAAAAAAAAAAAAAAAAAAAAAAAAAAAAAAAAAAAAAAAAAAAAAAAAAAAAAAAAAAAAAAAAAAAAAAAAAAAAAAAAAAAAAAAAAAAAAAAAAAAAAAAAAAAAAAAAAAAAAAAAAAAAAAAAAAAAAAAAAAAAAAAAAAAAAAAAAAAAAAAAAAAAAAAAAAAAAAAAAAAAAAAAAAAAAAAAAAAAAAAAAAAAAAAAAAAAAAAAAAAAAAAAAAAAAAAAAAAAAAAAAAAAAAAAAAAAAAAAAAAAAAAAAAAAAAAAAAAAAAAAAAAAAAAAAAAAAAAAAAAAAAAAAAAAAAAAAAAAAAAAAAAAAAAAAAAAAAAAAAAAAAAAAAAAAAAAAAAAAAAAAAAAAAAAAAAAACwAAAAACgABAAAIDQAFAAAQIACAgwACBAQAOw==\"><title>Layer: output (output)\n",
       " shape = (10,)\n",
       " Keras class = Dense\n",
       " activation = softmax</title></image><text x=\"280.0\" y=\"44.5\" font-family=\"monospace\" font-size=\"12\" text-anchor=\"start\" alignment-baseline=\"central\">output</text><line x1=\"175.0\" y1=\"84\" x2=\"175.0\" y2=\"57\" stroke=\"red\" stroke-width=\"2\" marker-end=\"url(#arrow)\"><title>Weights from hidden2 to output\n",
       " output/kernel has shape (512, 10)\n",
       " output/bias has shape (10,)</title></line><rect x=\"74.0\" y=\"84\" width=\"202\" height=\"102\" style=\"fill:none;stroke:black;stroke-width:2\"/><image id=\"MNIST_hidden2_18\" class=\"MNIST_hidden2\" x=\"75.0\" y=\"85\" height=\"100\" width=\"200\" preserveAspectRatio=\"none\" href=\"data:image/gif;base64,R0lGODdhIAAQAIcAAP78/ba2/8bG/9bW/+fn/4eH/6io/2dn/5SU/3Z2/ycn/1NT/0dH/zc3/wMD+BAQ/wAAAAAAAAAAAAAAAAAAAAAAAAAAAAAAAAAAAAAAAAAAAAAAAAAAAAAAAAAAAAAAAAAAAAAAAAAAAAAAAAAAAAAAAAAAAAAAAAAAAAAAAAAAAAAAAAAAAAAAAAAAAAAAAAAAAAAAAAAAAAAAAAAAAAAAAAAAAAAAAAAAAAAAAAAAAAAAAAAAAAAAAAAAAAAAAAAAAAAAAAAAAAAAAAAAAAAAAAAAAAAAAAAAAAAAAAAAAAAAAAAAAAAAAAAAAAAAAAAAAAAAAAAAAAAAAAAAAAAAAAAAAAAAAAAAAAAAAAAAAAAAAAAAAAAAAAAAAAAAAAAAAAAAAAAAAAAAAAAAAAAAAAAAAAAAAAAAAAAAAAAAAAAAAAAAAAAAAAAAAAAAAAAAAAAAAAAAAAAAAAAAAAAAAAAAAAAAAAAAAAAAAAAAAAAAAAAAAAAAAAAAAAAAAAAAAAAAAAAAAAAAAAAAAAAAAAAAAAAAAAAAAAAAAAAAAAAAAAAAAAAAAAAAAAAAAAAAAAAAAAAAAAAAAAAAAAAAAAAAAAAAAAAAAAAAAAAAAAAAAAAAAAAAAAAAAAAAAAAAAAAAAAAAAAAAAAAAAAAAAAAAAAAAAAAAAAAAAAAAAAAAAAAAAAAAAAAAAAAAAAAAAAAAAAAAAAAAAAAAAAAAAAAAAAAAAAAAAAAAAAAAAAAAAAAAAAAAAAAAAAAAAAAAAAAAAAAAAAAAAAAAAAAAAAAAAAAAAAAAAAAAAAAAAAAAAAAAAAAAAAAAAAAAAAAAAAAAAAAAAAAAAAAAAAAAAAAAAAAAAAAAAAAAAAAAAAAAAAAAAAAAAAAAAAAAAAAAAAAAAAAAAAAAAAAAAAAAAAAAAAAAAAAAAAAAAAAAAAAAAAAAAAAAAAAAAAAAAAAAAAAAAAAAAAAAAAAAAAAAAAAAAAAAAAAAAAAAAAAAAAAAAAAAAAAAAAAAAAAAACwAAAAAIAAQAEAI/wABBAAAIAAAAAYADADAAAAABAAiSkRAoACAixgzAiAwAIBHAwwWAAAgQIADAgAGAAgAoCUCAAIAADAAoKZNAQkEAACgAIBPAAUAACAAAIABAQAMGBBwIAGAAAQASJ0qNQAAAQQCIABgAACAAAMAiBWgAAABAAEAABAAgMGABAcAyAVAAIADAQDyIgAgAIBfvwECACgAYMACAAUIEDgAoLEAAAAGACgAoDIABAAyAxAgAMCAAQBCKwCAgMAABwcGABgAAAABALBjxxYQIACA2wQA6E4AoDcBAMAPLABAAIDxAQACLBigAEABBwCiAxAAQIABAwAADADAfQCA7wIIAPcAMCAAAAYCAgAAMAAAAAEACgCY/wCA/QYAABgAEAAAAIABBgBgAMCggQEIAAA4cAAAgAAAEgCgWFEBgAAADgQAAKABAAALABQAgEAAAJQDDgA4ACAAAJgAEhAAkAAAAAECDBAI0FNBAAAGAAwlOrRAAAANACwFYCBAAwBRAQgAsAAAAQBZBxQQACBAggEAxAIoACAAALRpBQAAgADAgQEACgAIoADAXQECEhAIgAAAgAEAABwoAMCwYQEAABQA0BiAAQYAJE8uUMAAAQABCDBIUCAAgAILABQgAOBAAwQNFggAAIBAAAMGCCRQIODAAAAAFADgbSAgADs=\"><title>Layer: hidden2 (hidden)\n",
       " shape = (512,)\n",
       " dropout = 0.2\n",
       " Keras class = Dense\n",
       " activation = relu</title></image><text x=\"280.0\" y=\"137.0\" font-family=\"monospace\" font-size=\"12\" text-anchor=\"start\" alignment-baseline=\"central\">hidden2</text><line x1=\"175.0\" y1=\"214\" x2=\"175.0\" y2=\"187\" stroke=\"red\" stroke-width=\"2\" marker-end=\"url(#arrow)\"><title>Weights from hidden1 to hidden2\n",
       " hidden2/kernel has shape (512, 512)\n",
       " hidden2/bias has shape (512,)</title></line><rect x=\"74.0\" y=\"214\" width=\"202\" height=\"102\" style=\"fill:none;stroke:black;stroke-width:2\"/><image id=\"MNIST_hidden1_19\" class=\"MNIST_hidden1\" x=\"75.0\" y=\"215\" height=\"100\" width=\"200\" preserveAspectRatio=\"none\" href=\"data:image/gif;base64,R0lGODdhIAAQAIcAAP78/ba2/wMD9pSU/9jY/+fn/3d3/6en/xgY/8fH/0ZG/1VV/2dn/4WF/yUl/zU1/wAA0AAAZQAAnQAArgAAAAAAAAAAAAAAAAAAAAAAAAAAAAAAAAAAAAAAAAAAAAAAAAAAAAAAAAAAAAAAAAAAAAAAAAAAAAAAAAAAAAAAAAAAAAAAAAAAAAAAAAAAAAAAAAAAAAAAAAAAAAAAAAAAAAAAAAAAAAAAAAAAAAAAAAAAAAAAAAAAAAAAAAAAAAAAAAAAAAAAAAAAAAAAAAAAAAAAAAAAAAAAAAAAAAAAAAAAAAAAAAAAAAAAAAAAAAAAAAAAAAAAAAAAAAAAAAAAAAAAAAAAAAAAAAAAAAAAAAAAAAAAAAAAAAAAAAAAAAAAAAAAAAAAAAAAAAAAAAAAAAAAAAAAAAAAAAAAAAAAAAAAAAAAAAAAAAAAAAAAAAAAAAAAAAAAAAAAAAAAAAAAAAAAAAAAAAAAAAAAAAAAAAAAAAAAAAAAAAAAAAAAAAAAAAAAAAAAAAAAAAAAAAAAAAAAAAAAAAAAAAAAAAAAAAAAAAAAAAAAAAAAAAAAAAAAAAAAAAAAAAAAAAAAAAAAAAAAAAAAAAAAAAAAAAAAAAAAAAAAAAAAAAAAAAAAAAAAAAAAAAAAAAAAAAAAAAAAAAAAAAAAAAAAAAAAAAAAAAAAAAAAAAAAAAAAAAAAAAAAAAAAAAAAAAAAAAAAAAAAAAAAAAAAAAAAAAAAAAAAAAAAAAAAAAAAAAAAAAAAAAAAAAAAAAAAAAAAAAAAAAAAAAAAAAAAAAAAAAAAAAAAAAAAAAAAAAAAAAAAAAAAAAAAAAAAAAAAAAAAAAAAAAAAAAAAAAAAAAAAAAAAAAAAAAAAAAAAAAAAAAAAAAAAAAAAAAAAAAAAAAAAAAAAAAAAAAAAAAAAAAAAAAAAAAAAAAAAAAAAAAAAAAAAAAAAAAAAAAAAAAAAAAAAAAAAAAAAAAAAAAAAAAAAAAAAAAAAAAAAAAAAAAAAAAAAAAAAAAAAACwAAAAAIAAQAEAI/wAPAAAwAIBBCBEQJBBwAMCDAAAAHEgQIAABCAMAACAAAMAAAwAMECigAIBJAAUaBHAAAEABADAPHABAAIAAAQBy6oQA4ACAnw0YAAAwAIABBw0ABADAFEAAAAAQOIAAQACAqwsADCggAIBXrw8AJCBAgMEBAwsANADANgGAAgAABABANwGAuwAECDgwgAGAvwAaACgQoAABAIgHAFjM4IEBBQAABAAAAAKAywAOLEAAoDMAAQBCO0AAYAEAAAIGAAgAQAGAAQAKNADAAACDAgAQANjtQAEAAAMACD8AgAAAAAcAGABQAACAAgYAABgA4AGDBACyZy8AoLt3AAsAEP8gAABAAwAEBABYbwCAewABBigAIOBAgQUA8uvPjwAAAYACAAAQAEBBAAAACgBgGADAw4cBAEwEYGAAAAAGAGx0AMAjgAUARBoYMKBAAgAEAgQAAMAAAJgEBgCgqQAAAgA5ASgoIIABAKAPADQAUAAAgAEAAEhYAACAAgAAGAQAkADA1QMAJggQAOABALAJBAAgC8ABgAAACABQACABALgABjwAUFcAAAAIAABAACABAAQABAMIQADAYQABACxeHEABgAAAJANoAMDyAgMANCNgMCAAANChBQAggADAggcAVK92YAAAAAENAAgAYOBBAgABADhAcACAAAAADAAAEBAAOw==\"><title>Layer: hidden1 (hidden)\n",
       " shape = (512,)\n",
       " dropout = 0.2\n",
       " Keras class = Dense\n",
       " activation = relu</title></image><text x=\"280.0\" y=\"267.0\" font-family=\"monospace\" font-size=\"12\" text-anchor=\"start\" alignment-baseline=\"central\">hidden1</text><line x1=\"175.0\" y1=\"344\" x2=\"175.0\" y2=\"317\" stroke=\"black\" stroke-width=\"2\" marker-end=\"url(#arrow)\"><title>Weights from input to hidden1\n",
       " hidden1/kernel has shape (784, 512)\n",
       " hidden1/bias has shape (512,)</title></line><rect x=\"74.0\" y=\"344\" width=\"202\" height=\"202\" style=\"fill:none;stroke:black;stroke-width:2\"/><image id=\"MNIST_input_20\" class=\"MNIST_input\" x=\"75.0\" y=\"345\" height=\"200\" width=\"200\" preserveAspectRatio=\"none\" href=\"data:image/gif;base64,R0lGODdhHAAcAIcAAAoAAP//9f92AP+0AP//0LkAAPkAAP//kv//sS8AAFcAAP8bAP+rAHcAAIsAANcAAP+LAP/GAP/nAP/2AP//R///d/8pAP9EAP9rAP+dAP/ZAAAAAAAAAAAAAAAAAAAAAAAAAAAAAAAAAAAAAAAAAAAAAAAAAAAAAAAAAAAAAAAAAAAAAAAAAAAAAAAAAAAAAAAAAAAAAAAAAAAAAAAAAAAAAAAAAAAAAAAAAAAAAAAAAAAAAAAAAAAAAAAAAAAAAAAAAAAAAAAAAAAAAAAAAAAAAAAAAAAAAAAAAAAAAAAAAAAAAAAAAAAAAAAAAAAAAAAAAAAAAAAAAAAAAAAAAAAAAAAAAAAAAAAAAAAAAAAAAAAAAAAAAAAAAAAAAAAAAAAAAAAAAAAAAAAAAAAAAAAAAAAAAAAAAAAAAAAAAAAAAAAAAAAAAAAAAAAAAAAAAAAAAAAAAAAAAAAAAAAAAAAAAAAAAAAAAAAAAAAAAAAAAAAAAAAAAAAAAAAAAAAAAAAAAAAAAAAAAAAAAAAAAAAAAAAAAAAAAAAAAAAAAAAAAAAAAAAAAAAAAAAAAAAAAAAAAAAAAAAAAAAAAAAAAAAAAAAAAAAAAAAAAAAAAAAAAAAAAAAAAAAAAAAAAAAAAAAAAAAAAAAAAAAAAAAAAAAAAAAAAAAAAAAAAAAAAAAAAAAAAAAAAAAAAAAAAAAAAAAAAAAAAAAAAAAAAAAAAAAAAAAAAAAAAAAAAAAAAAAAAAAAAAAAAAAAAAAAAAAAAAAAAAAAAAAAAAAAAAAAAAAAAAAAAAAAAAAAAAAAAAAAAAAAAAAAAAAAAAAAAAAAAAAAAAAAAAAAAAAAAAAAAAAAAAAAAAAAAAAAAAAAAAAAAAAAAAAAAAAAAAAAAAAAAAAAAAAAAAAAAAAAAAAAAAAAAAAAAAAAAAAAAAAAAAAAAAAAAAAAAAAAAAAAAAAAAAAAAAAAAAAAAAAAAAAAAAAAAAAAAAAAAAAAAAAAAAAAAAAAAAAAAAAAAAAAAAAAACwAAAAAHAAcAEAI/wABCBxIsKDBgwgHHghQAIDDhxAjSnw4IIAACRoAaCwQAEECACBDihxJsqTJkwoQMADAsqXLlzBbPgggAIBNAQcIBCCgAIDPn0CD+rQQIACFAAEIFADAtKnTp08VIDAAoKrVq1izXhUQoACAr2DDih0bFgEBBwDSql3Ltq3aAQEEAMgQgIECAAICDADAt6/fvwAcBEAwwQAAAAsCHEgAoLHjx5AjS55MubLly5gtOwjAAIDnz6BDiwb9IAADAKhTq17NWnWFAAUAyJ5Nu7Zt2gcCFADAu7fv38B7NyAgAYBxAAkECDAAoLnz59CbDwggAAAACAEqGBgQYAGA7+DDi1EHMCCAAAwEBABYPyHAAwDw48ufD2BAAAgUDADYHyHAAIAABA4kWHDggQALEjQYEIDAAgARJU6kSFFAgAARLjQA0NHjR5AhRY4kWdLkSZQeAwIAOw==\"><title>Layer: input (input)\n",
       " shape = (784,)\n",
       " Keras class = Input</title></image><text x=\"280.0\" y=\"447.0\" font-family=\"monospace\" font-size=\"12\" text-anchor=\"start\" alignment-baseline=\"central\">input</text></svg>"
      ],
      "text/plain": [
       "<Network name='MNIST' (compiled)>"
      ]
     },
     "execution_count": 9,
     "metadata": {},
     "output_type": "execute_result"
    }
   ],
   "source": [
    "net"
   ]
  },
  {
   "cell_type": "code",
   "execution_count": 13,
   "metadata": {},
   "outputs": [
    {
     "data": {
      "application/javascript": [
       "\n",
       "require(['base/js/namespace'], function(Jupyter) {\n",
       "    Jupyter.notebook.kernel.comm_manager.register_target('conx_svg_control', function(comm, msg) {\n",
       "        comm.on_msg(function(msg) {\n",
       "            var data = msg[\"content\"][\"data\"];\n",
       "            var images = document.getElementsByClassName(data[\"class\"]);\n",
       "            for (var i = 0; i < images.length; i++) {\n",
       "                if (data[\"href\"]) {\n",
       "                    images[i].setAttributeNS(null, \"href\", data[\"href\"]);\n",
       "                }\n",
       "                if (data[\"src\"]) {\n",
       "                    images[i].setAttributeNS(null, \"src\", data[\"src\"]);\n",
       "                }\n",
       "            }\n",
       "        });\n",
       "    });\n",
       "});\n"
      ],
      "text/plain": [
       "<IPython.core.display.Javascript object>"
      ]
     },
     "metadata": {},
     "output_type": "display_data"
    },
    {
     "data": {
      "text/html": [
       "<svg id='MNIST' xmlns='http://www.w3.org/2000/svg' viewBox=\"0 0 350 605\" height=\"500px\" image-rendering=\"pixelated\">\n",
       "    <defs>\n",
       "        <marker id=\"arrow\" markerWidth=\"10\" markerHeight=\"10\" refX=\"9\" refY=\"3\" orient=\"auto\" markerUnits=\"strokeWidth\">\n",
       "          <path d=\"M0,0 L0,6 L9,3 z\" fill=\"black\" />\n",
       "        </marker>\n",
       "    </defs><text x=\"175.0\" y=\"12.5\" font-family=\"monospace\" font-size=\"15\" text-anchor=\"middle\" alignment-baseline=\"central\">MNIST</text><rect x=\"74.0\" y=\"24\" width=\"202\" height=\"27\" style=\"fill:none;stroke:black;stroke-width:2\"/><image id=\"snapshot-MNIST-777477_output_targets_29\" class=\"snapshot-MNIST-777477_output_targets\" x=\"75.0\" y=\"25\" height=\"25\" width=\"200\" preserveAspectRatio=\"none\" href=\"data:image/gif;base64,R0lGODdhCgABAIcAANXV/8bG/7S0/wAAAAAAAAAAAAAAAAAAAAAAAAAAAAAAAAAAAAAAAAAAAAAAAAAAAAAAAAAAAAAAAAAAAAAAAAAAAAAAAAAAAAAAAAAAAAAAAAAAAAAAAAAAAAAAAAAAAAAAAAAAAAAAAAAAAAAAAAAAAAAAAAAAAAAAAAAAAAAAAAAAAAAAAAAAAAAAAAAAAAAAAAAAAAAAAAAAAAAAAAAAAAAAAAAAAAAAAAAAAAAAAAAAAAAAAAAAAAAAAAAAAAAAAAAAAAAAAAAAAAAAAAAAAAAAAAAAAAAAAAAAAAAAAAAAAAAAAAAAAAAAAAAAAAAAAAAAAAAAAAAAAAAAAAAAAAAAAAAAAAAAAAAAAAAAAAAAAAAAAAAAAAAAAAAAAAAAAAAAAAAAAAAAAAAAAAAAAAAAAAAAAAAAAAAAAAAAAAAAAAAAAAAAAAAAAAAAAAAAAAAAAAAAAAAAAAAAAAAAAAAAAAAAAAAAAAAAAAAAAAAAAAAAAAAAAAAAAAAAAAAAAAAAAAAAAAAAAAAAAAAAAAAAAAAAAAAAAAAAAAAAAAAAAAAAAAAAAAAAAAAAAAAAAAAAAAAAAAAAAAAAAAAAAAAAAAAAAAAAAAAAAAAAAAAAAAAAAAAAAAAAAAAAAAAAAAAAAAAAAAAAAAAAAAAAAAAAAAAAAAAAAAAAAAAAAAAAAAAAAAAAAAAAAAAAAAAAAAAAAAAAAAAAAAAAAAAAAAAAAAAAAAAAAAAAAAAAAAAAAAAAAAAAAAAAAAAAAAAAAAAAAAAAAAAAAAAAAAAAAAAAAAAAAAAAAAAAAAAAAAAAAAAAAAAAAAAAAAAAAAAAAAAAAAAAAAAAAAAAAAAAAAAAAAAAAAAAAAAAAAAAAAAAAAAAAAAAAAAAAAAAAAAAAAAAAAAAAAAAAAAAAAAAAAAAAAAAAAAAAAAAAAAAAAAAAAAAAAAAAAAAAAAAAAAAAAAAAAAAAAAAAAAAAAAAAAAAAAAAAAAAAAAAAAAAAAAAAAAAAAAAAAAAAAAAACwAAAAACgABAAAIDQAFAAAQIACAgwACBAQAOw==\"><title>Layer: output (output)\n",
       " shape = (10,)\n",
       " Keras class = Dense\n",
       " activation = softmax</title></image><text x=\"280.0\" y=\"39.5\" font-family=\"monospace\" font-size=\"12\" text-anchor=\"start\" alignment-baseline=\"central\">targets</text><rect x=\"74.0\" y=\"64\" width=\"202\" height=\"27\" style=\"fill:none;stroke:black;stroke-width:2\"/><image id=\"snapshot-MNIST-777477_output_29\" class=\"snapshot-MNIST-777477_output\" x=\"75.0\" y=\"65\" height=\"25\" width=\"200\" preserveAspectRatio=\"none\" href=\"data:image/gif;base64,R0lGODdhCgABAIcAANXV/8bG/7S0/wAAAAAAAAAAAAAAAAAAAAAAAAAAAAAAAAAAAAAAAAAAAAAAAAAAAAAAAAAAAAAAAAAAAAAAAAAAAAAAAAAAAAAAAAAAAAAAAAAAAAAAAAAAAAAAAAAAAAAAAAAAAAAAAAAAAAAAAAAAAAAAAAAAAAAAAAAAAAAAAAAAAAAAAAAAAAAAAAAAAAAAAAAAAAAAAAAAAAAAAAAAAAAAAAAAAAAAAAAAAAAAAAAAAAAAAAAAAAAAAAAAAAAAAAAAAAAAAAAAAAAAAAAAAAAAAAAAAAAAAAAAAAAAAAAAAAAAAAAAAAAAAAAAAAAAAAAAAAAAAAAAAAAAAAAAAAAAAAAAAAAAAAAAAAAAAAAAAAAAAAAAAAAAAAAAAAAAAAAAAAAAAAAAAAAAAAAAAAAAAAAAAAAAAAAAAAAAAAAAAAAAAAAAAAAAAAAAAAAAAAAAAAAAAAAAAAAAAAAAAAAAAAAAAAAAAAAAAAAAAAAAAAAAAAAAAAAAAAAAAAAAAAAAAAAAAAAAAAAAAAAAAAAAAAAAAAAAAAAAAAAAAAAAAAAAAAAAAAAAAAAAAAAAAAAAAAAAAAAAAAAAAAAAAAAAAAAAAAAAAAAAAAAAAAAAAAAAAAAAAAAAAAAAAAAAAAAAAAAAAAAAAAAAAAAAAAAAAAAAAAAAAAAAAAAAAAAAAAAAAAAAAAAAAAAAAAAAAAAAAAAAAAAAAAAAAAAAAAAAAAAAAAAAAAAAAAAAAAAAAAAAAAAAAAAAAAAAAAAAAAAAAAAAAAAAAAAAAAAAAAAAAAAAAAAAAAAAAAAAAAAAAAAAAAAAAAAAAAAAAAAAAAAAAAAAAAAAAAAAAAAAAAAAAAAAAAAAAAAAAAAAAAAAAAAAAAAAAAAAAAAAAAAAAAAAAAAAAAAAAAAAAAAAAAAAAAAAAAAAAAAAAAAAAAAAAAAAAAAAAAAAAAAAAAAAAAAAAAAAAAAAAAAAAAAAAAAAAAAAAAAAAAAAAAAAAAAAAAAAAAAAAAAAAAAAACwAAAAACgABAAAIDQAFAAAQIACAgwACBAQAOw==\"><title>Layer: output (output)\n",
       " shape = (10,)\n",
       " Keras class = Dense\n",
       " activation = softmax</title></image><text x=\"280.0\" y=\"79.5\" font-family=\"monospace\" font-size=\"12\" text-anchor=\"start\" alignment-baseline=\"central\">output</text><line x1=\"175.0\" y1=\"119\" x2=\"175.0\" y2=\"92\" stroke=\"red\" stroke-width=\"2\" marker-end=\"url(#arrow)\"><title>Weights from hidden2 to output\n",
       " output/kernel has shape (512, 10)\n",
       " output/bias has shape (10,)</title></line><rect x=\"74.0\" y=\"119\" width=\"202\" height=\"102\" style=\"fill:none;stroke:black;stroke-width:2\"/><image id=\"snapshot-MNIST-777477_hidden2_30\" class=\"snapshot-MNIST-777477_hidden2\" x=\"75.0\" y=\"120\" height=\"100\" width=\"200\" preserveAspectRatio=\"none\" href=\"data:image/gif;base64,R0lGODdhIAAQAIcAAP78/ba2/8bG/9bW/+fn/4eH/6io/2dn/5SU/3Z2/ycn/1NT/0dH/zc3/wMD+BAQ/wAAAAAAAAAAAAAAAAAAAAAAAAAAAAAAAAAAAAAAAAAAAAAAAAAAAAAAAAAAAAAAAAAAAAAAAAAAAAAAAAAAAAAAAAAAAAAAAAAAAAAAAAAAAAAAAAAAAAAAAAAAAAAAAAAAAAAAAAAAAAAAAAAAAAAAAAAAAAAAAAAAAAAAAAAAAAAAAAAAAAAAAAAAAAAAAAAAAAAAAAAAAAAAAAAAAAAAAAAAAAAAAAAAAAAAAAAAAAAAAAAAAAAAAAAAAAAAAAAAAAAAAAAAAAAAAAAAAAAAAAAAAAAAAAAAAAAAAAAAAAAAAAAAAAAAAAAAAAAAAAAAAAAAAAAAAAAAAAAAAAAAAAAAAAAAAAAAAAAAAAAAAAAAAAAAAAAAAAAAAAAAAAAAAAAAAAAAAAAAAAAAAAAAAAAAAAAAAAAAAAAAAAAAAAAAAAAAAAAAAAAAAAAAAAAAAAAAAAAAAAAAAAAAAAAAAAAAAAAAAAAAAAAAAAAAAAAAAAAAAAAAAAAAAAAAAAAAAAAAAAAAAAAAAAAAAAAAAAAAAAAAAAAAAAAAAAAAAAAAAAAAAAAAAAAAAAAAAAAAAAAAAAAAAAAAAAAAAAAAAAAAAAAAAAAAAAAAAAAAAAAAAAAAAAAAAAAAAAAAAAAAAAAAAAAAAAAAAAAAAAAAAAAAAAAAAAAAAAAAAAAAAAAAAAAAAAAAAAAAAAAAAAAAAAAAAAAAAAAAAAAAAAAAAAAAAAAAAAAAAAAAAAAAAAAAAAAAAAAAAAAAAAAAAAAAAAAAAAAAAAAAAAAAAAAAAAAAAAAAAAAAAAAAAAAAAAAAAAAAAAAAAAAAAAAAAAAAAAAAAAAAAAAAAAAAAAAAAAAAAAAAAAAAAAAAAAAAAAAAAAAAAAAAAAAAAAAAAAAAAAAAAAAAAAAAAAAAAAAAAAAAAAAAAAAAAAAAAAAAAAAAAAAAAAAAAAAAAAAAACwAAAAAIAAQAEAI/wABBAAAIAAAAAYADADAAAAABAAiSkRAoACAixgzAiAwAIBHAwwWAAAgQIADAgAGAAgAoCUCAAIAADAAoKZNAQkEAACgAIBPAAUAACAAAIABAQAMGBBwIAGAAAQASJ0qNQAAAQQCIABgAACAAAMAiBWgAAABAAEAABAAgMGABAcAyAVAAIADAQDyIgAgAIBfvwECACgAYMACAAUIEDgAoLEAAAAGACgAoDIABAAyAxAgAMCAAQBCKwCAgMAABwcGABgAAAABALBjxxYQIACA2wQA6E4AoDcBAMAPLABAAIDxAQACLBigAEABBwCiAxAAQIABAwAADADAfQCA7wIIAPcAMCAAAAYCAgAAMAAAAAEACgCY/wCA/QYAABgAEAAAAIABBgBgAMCggQEIAAA4cAAAgAAAEgCgWFEBgAAADgQAAKABAAALABQAgEAAAJQDDgA4ACAAAJgAEhAAkAAAAAECDBAI0FNBAAAGAAwlOrRAAAANACwFYCBAAwBRAQgAsAAAAQBZBxQQACBAggEAxAIoACAAALRpBQAAgADAgQEACgAIoADAXQECEhAIgAAAgAEAABwoAMCwYQEAABQA0BiAAQYAJE8uUMAAAQABCDBIUCAAgAILABQgAOBAAwQNFggAAIBAAAMGCCRQIODAAAAAFADgbSAgADs=\"><title>Layer: hidden2 (hidden)\n",
       " shape = (512,)\n",
       " dropout = 0.2\n",
       " Keras class = Dense\n",
       " activation = relu</title></image><text x=\"280.0\" y=\"172.0\" font-family=\"monospace\" font-size=\"12\" text-anchor=\"start\" alignment-baseline=\"central\">hidden2</text><line x1=\"175.0\" y1=\"249\" x2=\"175.0\" y2=\"222\" stroke=\"red\" stroke-width=\"2\" marker-end=\"url(#arrow)\"><title>Weights from hidden1 to hidden2\n",
       " hidden2/kernel has shape (512, 512)\n",
       " hidden2/bias has shape (512,)</title></line><rect x=\"74.0\" y=\"249\" width=\"202\" height=\"102\" style=\"fill:none;stroke:black;stroke-width:2\"/><image id=\"snapshot-MNIST-777477_hidden1_31\" class=\"snapshot-MNIST-777477_hidden1\" x=\"75.0\" y=\"250\" height=\"100\" width=\"200\" preserveAspectRatio=\"none\" href=\"data:image/gif;base64,R0lGODdhIAAQAIcAAP78/ba2/wMD9pSU/9jY/+fn/3d3/6en/xgY/8fH/0ZG/1VV/2dn/4WF/yUl/zU1/wAA0AAAZQAAnQAArgAAAAAAAAAAAAAAAAAAAAAAAAAAAAAAAAAAAAAAAAAAAAAAAAAAAAAAAAAAAAAAAAAAAAAAAAAAAAAAAAAAAAAAAAAAAAAAAAAAAAAAAAAAAAAAAAAAAAAAAAAAAAAAAAAAAAAAAAAAAAAAAAAAAAAAAAAAAAAAAAAAAAAAAAAAAAAAAAAAAAAAAAAAAAAAAAAAAAAAAAAAAAAAAAAAAAAAAAAAAAAAAAAAAAAAAAAAAAAAAAAAAAAAAAAAAAAAAAAAAAAAAAAAAAAAAAAAAAAAAAAAAAAAAAAAAAAAAAAAAAAAAAAAAAAAAAAAAAAAAAAAAAAAAAAAAAAAAAAAAAAAAAAAAAAAAAAAAAAAAAAAAAAAAAAAAAAAAAAAAAAAAAAAAAAAAAAAAAAAAAAAAAAAAAAAAAAAAAAAAAAAAAAAAAAAAAAAAAAAAAAAAAAAAAAAAAAAAAAAAAAAAAAAAAAAAAAAAAAAAAAAAAAAAAAAAAAAAAAAAAAAAAAAAAAAAAAAAAAAAAAAAAAAAAAAAAAAAAAAAAAAAAAAAAAAAAAAAAAAAAAAAAAAAAAAAAAAAAAAAAAAAAAAAAAAAAAAAAAAAAAAAAAAAAAAAAAAAAAAAAAAAAAAAAAAAAAAAAAAAAAAAAAAAAAAAAAAAAAAAAAAAAAAAAAAAAAAAAAAAAAAAAAAAAAAAAAAAAAAAAAAAAAAAAAAAAAAAAAAAAAAAAAAAAAAAAAAAAAAAAAAAAAAAAAAAAAAAAAAAAAAAAAAAAAAAAAAAAAAAAAAAAAAAAAAAAAAAAAAAAAAAAAAAAAAAAAAAAAAAAAAAAAAAAAAAAAAAAAAAAAAAAAAAAAAAAAAAAAAAAAAAAAAAAAAAAAAAAAAAAAAAAAAAAAAAAAAAAAAAAAAAAAAAAAAAAAAAAAAAAAAAAAAAAAAAAAAAAAAAAAAACwAAAAAIAAQAEAI/wAPAAAwAIBBCBEQJBBwAMCDAAAAHEgQIAABCAMAACAAAMAAAwAMECigAIBJAAUaBHAAAEABADAPHABAAIAAAQBy6oQA4ACAnw0YAAAwAIABBw0ABADAFEAAAAAQOIAAQACAqwsADCggAIBXrw8AJCBAgMEBAwsANADANgGAAgAABABANwGAuwAECDgwgAGAvwAaACgQoAABAIgHAFjM4IEBBQAABAAAAAKAywAOLEAAoDMAAQBCO0AAYAEAAAIGAAgAQAGAAQAKNADAAACDAgAQANjtQAEAAAMACD8AgAAAAAcAGABQAACAAgYAABgA4AGDBACyZy8AoLt3AAsAEP8gAABAAwAEBABYbwCAewABBigAIOBAgQUA8uvPjwAAAYACAAAQAEBBAAAACgBgGADAw4cBAEwEYGAAAAAGAGx0AMAjgAUARBoYMKBAAgAEAgQAAMAAAJgEBgCgqQAAAgA5ASgoIIABAKAPADQAUAAAgAEAAEhYAACAAgAAGAQAkADA1QMAJggQAOABALAJBAAgC8ABgAAACABQACABALgABjwAUFcAAAAIAABAACABAAQABAMIQADAYQABACxeHEABgAAAJANoAMDyAgMANCNgMCAAANChBQAggADAggcAVK92YAAAAAENAAgAYOBBAgABADhAcACAAAAADAAAEBAAOw==\"><title>Layer: hidden1 (hidden)\n",
       " shape = (512,)\n",
       " dropout = 0.2\n",
       " Keras class = Dense\n",
       " activation = relu</title></image><text x=\"280.0\" y=\"302.0\" font-family=\"monospace\" font-size=\"12\" text-anchor=\"start\" alignment-baseline=\"central\">hidden1</text><line x1=\"175.0\" y1=\"379\" x2=\"175.0\" y2=\"352\" stroke=\"black\" stroke-width=\"2\" marker-end=\"url(#arrow)\"><title>Weights from input to hidden1\n",
       " hidden1/kernel has shape (784, 512)\n",
       " hidden1/bias has shape (512,)</title></line><rect x=\"74.0\" y=\"379\" width=\"202\" height=\"202\" style=\"fill:none;stroke:black;stroke-width:2\"/><image id=\"snapshot-MNIST-777477_input_32\" class=\"snapshot-MNIST-777477_input\" x=\"75.0\" y=\"380\" height=\"200\" width=\"200\" preserveAspectRatio=\"none\" href=\"data:image/gif;base64,R0lGODdhHAAcAIcAAAoAAP//9f92AP+0AP//0LkAAPkAAP//kv//sS8AAFcAAP8bAP+rAHcAAIsAANcAAP+LAP/GAP/nAP/2AP//R///d/8pAP9EAP9rAP+dAP/ZAAAAAAAAAAAAAAAAAAAAAAAAAAAAAAAAAAAAAAAAAAAAAAAAAAAAAAAAAAAAAAAAAAAAAAAAAAAAAAAAAAAAAAAAAAAAAAAAAAAAAAAAAAAAAAAAAAAAAAAAAAAAAAAAAAAAAAAAAAAAAAAAAAAAAAAAAAAAAAAAAAAAAAAAAAAAAAAAAAAAAAAAAAAAAAAAAAAAAAAAAAAAAAAAAAAAAAAAAAAAAAAAAAAAAAAAAAAAAAAAAAAAAAAAAAAAAAAAAAAAAAAAAAAAAAAAAAAAAAAAAAAAAAAAAAAAAAAAAAAAAAAAAAAAAAAAAAAAAAAAAAAAAAAAAAAAAAAAAAAAAAAAAAAAAAAAAAAAAAAAAAAAAAAAAAAAAAAAAAAAAAAAAAAAAAAAAAAAAAAAAAAAAAAAAAAAAAAAAAAAAAAAAAAAAAAAAAAAAAAAAAAAAAAAAAAAAAAAAAAAAAAAAAAAAAAAAAAAAAAAAAAAAAAAAAAAAAAAAAAAAAAAAAAAAAAAAAAAAAAAAAAAAAAAAAAAAAAAAAAAAAAAAAAAAAAAAAAAAAAAAAAAAAAAAAAAAAAAAAAAAAAAAAAAAAAAAAAAAAAAAAAAAAAAAAAAAAAAAAAAAAAAAAAAAAAAAAAAAAAAAAAAAAAAAAAAAAAAAAAAAAAAAAAAAAAAAAAAAAAAAAAAAAAAAAAAAAAAAAAAAAAAAAAAAAAAAAAAAAAAAAAAAAAAAAAAAAAAAAAAAAAAAAAAAAAAAAAAAAAAAAAAAAAAAAAAAAAAAAAAAAAAAAAAAAAAAAAAAAAAAAAAAAAAAAAAAAAAAAAAAAAAAAAAAAAAAAAAAAAAAAAAAAAAAAAAAAAAAAAAAAAAAAAAAAAAAAAAAAAAAAAAAAAAAAAAAAAAAAAAAAAAAAAAAAAAAAAAACwAAAAAHAAcAEAI/wABCBxIsKDBgwgHHghQAIDDhxAjSnw4IIAACRoAaCwQAEECACBDihxJsqTJkwoQMADAsqXLlzBbPgggAIBNAQcIBCCgAIDPn0CD+rQQIACFAAEIFADAtKnTp08VIDAAoKrVq1izXhUQoACAr2DDih0bFgEBBwDSql3Ltq3aAQEEAMgQgIECAAICDADAt6/fvwAcBEAwwQAAAAsCHEgAoLHjx5AjS55MubLly5gtOwjAAIDnz6BDiwb9IAADAKhTq17NWnWFAAUAyJ5Nu7Zt2gcCFADAu7fv38B7NyAgAYBxAAkECDAAoLnz59CbDwggAAAACAEqGBgQYAGA7+DDi1EHMCCAAAwEBABYPyHAAwDw48ufD2BAAAgUDADYHyHAAIAABA4kWHDggQALEjQYEIDAAgARJU6kSFFAgAARLjQA0NHjR5AhRY4kWdLkSZQeAwIAOw==\"><title>Layer: input (input)\n",
       " shape = (784,)\n",
       " Keras class = Input</title></image><text x=\"280.0\" y=\"482.0\" font-family=\"monospace\" font-size=\"12\" text-anchor=\"start\" alignment-baseline=\"central\">input</text></svg>"
      ],
      "text/plain": [
       "<IPython.core.display.HTML object>"
      ]
     },
     "execution_count": 13,
     "metadata": {},
     "output_type": "execute_result"
    }
   ],
   "source": [
    "net.snapshot(height=\"500px\")"
   ]
  },
  {
   "cell_type": "code",
   "execution_count": 11,
   "metadata": {},
   "outputs": [],
   "source": [
    "net.config[\"show_targets\"] = True"
   ]
  },
  {
   "cell_type": "code",
   "execution_count": 8,
   "metadata": {},
   "outputs": [
    {
     "name": "stdout",
     "output_type": "stream",
     "text": [
      "Training...\n",
      "       |  Training |  Training \n",
      "Epochs |     Error |  Accuracy \n",
      "------ | --------- | --------- \n",
      "#    0 |   0.08656 |   0.00000 \n",
      "========================================================================\n",
      "#    1 |   0.08656 |   0.00000 \n",
      "========================================================\n",
      "Testing train dataset with tolerance 0.1000...\n",
      "Total count: 70000\n",
      "      correct: 0\n",
      "      incorrect: 70000\n",
      "Total percentage correct: 0.0\n"
     ]
    }
   ],
   "source": [
    "net.train(1, verbose=1)\n",
    "net.test()"
   ]
  },
  {
   "cell_type": "code",
   "execution_count": 9,
   "metadata": {},
   "outputs": [
    {
     "name": "stdout",
     "output_type": "stream",
     "text": [
      "CPU times: user 1.43 s, sys: 140 ms, total: 1.57 s\n",
      "Wall time: 1.46 s\n"
     ]
    }
   ],
   "source": [
    "%%time\n",
    "for pattern in net.dataset.inputs[:100]:\n",
    "    net.propagate(pattern)"
   ]
  },
  {
   "cell_type": "code",
   "execution_count": 14,
   "metadata": {},
   "outputs": [],
   "source": [
    "from conx import Network, Layer, Conv2DLayer, MaxPool2DLayer, FlattenLayer"
   ]
  },
  {
   "cell_type": "code",
   "execution_count": 15,
   "metadata": {},
   "outputs": [],
   "source": [
    "net = Network(\"MNIST-CNN\")\n",
    "net.add(Layer(\"input\", (28,28,1), colormap=\"hot\", minmax=(0,1)))\n",
    "net.add(Conv2DLayer(\"Conv2D-1\", 16, (5,5), activation=\"relu\"))\n",
    "net.add(MaxPool2DLayer(\"maxpool1\", (2,2)))\n",
    "net.add(Conv2DLayer(\"Conv2D-2\", 132, (5,5), activation=\"relu\")) \n",
    "net.add(MaxPool2DLayer(\"maxpool2\", (2,2)))\n",
    "net.add(FlattenLayer(\"flatten\", visible=True))\n",
    "net.add(Layer(\"hidden\", 1000, activation='relu', vshape=(8,125), image_maxdim=500))\n",
    "net.add(Layer(\"output\", 10, activation='softmax'))\n",
    "\n",
    "net.connect()"
   ]
  },
  {
   "cell_type": "code",
   "execution_count": 16,
   "metadata": {},
   "outputs": [],
   "source": [
    "net.compile(error=\"binary_crossentropy\", optimizer=\"rmsprop\")"
   ]
  },
  {
   "cell_type": "code",
   "execution_count": 17,
   "metadata": {},
   "outputs": [],
   "source": [
    "ds = net.dataset\n",
    "ds.get('mnist')"
   ]
  },
  {
   "cell_type": "code",
   "execution_count": 14,
   "metadata": {},
   "outputs": [],
   "source": [
    "ds.slice(100)"
   ]
  },
  {
   "cell_type": "code",
   "execution_count": 15,
   "metadata": {},
   "outputs": [
    {
     "name": "stdout",
     "output_type": "stream",
     "text": [
      "Training...\n",
      "Epoch 1/1\n",
      "100/100 [==============================] - 0s - loss: 0.3262 - acc: 0.9000\n",
      "========================================================================\n",
      "Epoch #    1 | train error 0.32620 | train accuracy 0.90000 | validate% 7.03000\n"
     ]
    }
   ],
   "source": [
    "net.train()"
   ]
  },
  {
   "cell_type": "code",
   "execution_count": 23,
   "metadata": {
    "scrolled": false
   },
   "outputs": [
    {
     "data": {
      "application/javascript": [
       "\n",
       "require(['base/js/namespace'], function(Jupyter) {\n",
       "    Jupyter.notebook.kernel.comm_manager.register_target('conx_svg_control', function(comm, msg) {\n",
       "        comm.on_msg(function(msg) {\n",
       "            var data = msg[\"content\"][\"data\"];\n",
       "            var images = document.getElementsByClassName(data[\"class\"]);\n",
       "            for (var i = 0; i < images.length; i++) {\n",
       "                if (data[\"href\"]) {\n",
       "                    images[i].setAttributeNS(null, \"href\", data[\"href\"]);\n",
       "                }\n",
       "                if (data[\"src\"]) {\n",
       "                    images[i].setAttributeNS(null, \"src\", data[\"src\"]);\n",
       "                }\n",
       "            }\n",
       "        });\n",
       "    });\n",
       "});\n"
      ],
      "text/plain": [
       "<IPython.core.display.Javascript object>"
      ]
     },
     "metadata": {},
     "output_type": "display_data"
    },
    {
     "data": {
      "application/vnd.jupyter.widget-view+json": {
       "model_id": "ab50fd87bbdf48948a97716de0708d98",
       "version_major": 2,
       "version_minor": 0
      },
      "text/html": [
       "<p>Failed to display Jupyter Widget of type <code>Dashboard</code>.</p>\n",
       "<p>\n",
       "  If you're reading this message in Jupyter Notebook or JupyterLab, it may mean\n",
       "  that the widgets JavaScript is still loading. If this message persists, it\n",
       "  likely means that the widgets JavaScript library is either not installed or\n",
       "  not enabled. See the <a href=\"https://ipywidgets.readthedocs.io/en/stable/user_install.html\">Jupyter\n",
       "  Widgets Documentation</a> for setup instructions.\n",
       "</p>\n",
       "<p>\n",
       "  If you're reading this message in another notebook frontend (for example, a static\n",
       "  rendering on GitHub or <a href=\"https://nbviewer.jupyter.org/\">NBViewer</a>),\n",
       "  it may mean that your frontend doesn't currently support widgets.\n",
       "</p>\n"
      ],
      "text/plain": [
       "Dashboard(children=(VBox(children=(VBox(children=(HBox(children=(Select(description='Dataset:', index=1, options=('Test', 'Train'), rows=1, value='Train'), Select(description='Features:', options=('', 'input', 'Conv2D-1', 'maxpool1', 'Conv2D-2', 'maxpool2'), rows=1, value=''), Button(icon='refresh', layout=Layout(width='40px'), style=ButtonStyle())), layout=Layout(height='40px')), HBox(children=(IntSlider(value=0, continuous_update=False, description='Dataset index', layout=Layout(width='95%'), max=69999), Label(value='of 0', layout=Layout(width='100px'))), layout=Layout(height='40px')), HBox(children=(Button(icon='fast-backward', layout=Layout(width='100%'), style=ButtonStyle()), Button(icon='backward', layout=Layout(width='100%'), style=ButtonStyle()), IntText(value=0, layout=Layout(width='100%')), Button(icon='forward', layout=Layout(width='100%'), style=ButtonStyle()), Button(icon='fast-forward', layout=Layout(width='100%'), style=ButtonStyle()), Button(description='Play', icon='play', layout=Layout(width='100%'), style=ButtonStyle())), layout=Layout(height='50px', width='100%'))), layout=Layout(width='95%')), HTML(value='<p style=\"text-align:center\"><svg id=\\'MNIST-CNN\\' xmlns=\\'http://www.w3.org/2000/svg\\' viewBox=\"0 0 650 1347\" height=\"780\" image-rendering=\"pixelated\">\\n    <defs>\\n        <marker id=\"arrow\" markerWidth=\"10\" markerHeight=\"10\" refX=\"9\" refY=\"3\" orient=\"auto\" markerUnits=\"strokeWidth\">\\n          <path d=\"M0,0 L0,6 L9,3 z\" fill=\"black\" />\\n        </marker>\\n    </defs><text x=\"325.0\" y=\"12.5\" font-family=\"monospace\" font-size=\"15\" text-anchor=\"middle\" alignment-baseline=\"central\">MNIST-CNN</text><rect x=\"224.0\" y=\"29\" width=\"202\" height=\"27\" style=\"fill:none;stroke:black;stroke-width:2\"/><image id=\"MNIST-CNN_output_65\" class=\"MNIST-CNN_output\" x=\"225.0\" y=\"30\" height=\"25\" width=\"200\" preserveAspectRatio=\"none\" href=\"data:image/gif;base64,R0lGODdhCgABAIcAAMzM/9HR/wAAAAAAAAAAAAAAAAAAAAAAAAAAAAAAAAAAAAAAAAAAAAAAAAAAAAAAAAAAAAAAAAAAAAAAAAAAAAAAAAAAAAAAAAAAAAAAAAAAAAAAAAAAAAAAAAAAAAAAAAAAAAAAAAAAAAAAAAAAAAAAAAAAAAAAAAAAAAAAAAAAAAAAAAAAAAAAAAAAAAAAAAAAAAAAAAAAAAAAAAAAAAAAAAAAAAAAAAAAAAAAAAAAAAAAAAAAAAAAAAAAAAAAAAAAAAAAAAAAAAAAAAAAAAAAAAAAAAAAAAAAAAAAAAAAAAAAAAAAAAAAAAAAAAAAAAAAAAAAAAAAAAAAAAAAAAAAAAAAAAAAAAAAAAAAAAAAAAAAAAAAAAAAAAAAAAAAAAAAAAAAAAAAAAAAAAAAAAAAAAAAAAAAAAAAAAAAAAAAAAAAAAAAAAAAAAAAAAAAAAAAAAAAAAAAAAAAAAAAAAAAAAAAAAAAAAAAAAAAAAAAAAAAAAAAAAAAAAAAAAAAAAAAAAAAAAAAAAAAAAAAAAAAAAAAAAAAAAAAAAAAAAAAAAAAAAAAAAAAAAAAAAAAAAAAAAAAAAAAAAAAAAAAAAAAAAAAAAAAAAAAAAAAAAAAAAAAAAAAAAAAAAAAAAAAAAAAAAAAAAAAAAAAAAAAAAAAAAAAAAAAAAAAAAAAAAAAAAAAAAAAAAAAAAAAAAAAAAAAAAAAAAAAAAAAAAAAAAAAAAAAAAAAAAAAAAAAAAAAAAAAAAAAAAAAAAAAAAAAAAAAAAAAAAAAAAAAAAAAAAAAAAAAAAAAAAAAAAAAAAAAAAAAAAAAAAAAAAAAAAAAAAAAAAAAAAAAAAAAAAAAAAAAAAAAAAAAAAAAAAAAAAAAAAAAAAAAAAAAAAAAAAAAAAAAAAAAAAAAAAAAAAAAAAAAAAAAAAAAAAAAAAAAAAAAAAAAAAAAAAAAAAAAAAAAAAAAAAAAAAAAAAAAAAAAAAAAAAAAAAAAAAAAAAAAAAAAAAAAAAAAAAAAAAAAAAAAACwAAAAACgABAAAIDAABBABAEEAAAAgDAgA7\"><title>Layer: output (output)\\n shape = (10,)\\n Keras class = Dense\\n activation = softmax</title></image><text x=\"430.0\" y=\"44.5\" font-family=\"monospace\" font-size=\"12\" text-anchor=\"start\" alignment-baseline=\"central\">output</text><line x1=\"325.0\" y1=\"84\" x2=\"325.0\" y2=\"57\" stroke=\"black\" stroke-width=\"2\" marker-end=\"url(#arrow)\"><title>Weights from hidden to output\\n output/kernel has shape (1000, 10)\\n output/bias has shape (10,)</title></line><rect x=\"74.0\" y=\"84\" width=\"502\" height=\"34\" style=\"fill:none;stroke:black;stroke-width:2\"/><image id=\"MNIST-CNN_hidden_66\" class=\"MNIST-CNN_hidden\" x=\"75.0\" y=\"85\" height=\"32\" width=\"500\" preserveAspectRatio=\"none\" href=\"data:image/gif;base64,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\"><title>Layer: hidden (hidden)\\n shape = (1000,)\\n Keras class = Dense\\n activation = relu</title></image><text x=\"580.0\" y=\"103.0\" font-family=\"monospace\" font-size=\"12\" text-anchor=\"start\" alignment-baseline=\"central\">hidden</text><line x1=\"325.0\" y1=\"146\" x2=\"325.0\" y2=\"119\" stroke=\"black\" stroke-width=\"2\" marker-end=\"url(#arrow)\"><title>Weights from flatten to hidden\\n hidden/kernel has shape (2112, 1000)\\n hidden/bias has shape (1000,)</title></line><rect x=\"224.0\" y=\"146\" width=\"202\" height=\"27\" style=\"fill:none;stroke:black;stroke-width:2\"/><image id=\"MNIST-CNN_flatten_67\" class=\"MNIST-CNN_flatten\" x=\"225.0\" y=\"147\" height=\"25\" width=\"200\" preserveAspectRatio=\"none\" href=\"data:image/gif;base64,R0lGODdhQAgBAIcAAPv6/efn/9fX/8fH/7e3/6en/5iY/3Fx/wAAAAAAAAAAAAAAAAAAAAAAAAAAAAAAAAAAAAAAAAAAAAAAAAAAAAAAAAAAAAAAAAAAAAAAAAAAAAAAAAAAAAAAAAAAAAAAAAAAAAAAAAAAAAAAAAAAAAAAAAAAAAAAAAAAAAAAAAAAAAAAAAAAAAAAAAAAAAAAAAAAAAAAAAAAAAAAAAAAAAAAAAAAAAAAAAAAAAAAAAAAAAAAAAAAAAAAAAAAAAAAAAAAAAAAAAAAAAAAAAAAAAAAAAAAAAAAAAAAAAAAAAAAAAAAAAAAAAAAAAAAAAAAAAAAAAAAAAAAAAAAAAAAAAAAAAAAAAAAAAAAAAAAAAAAAAAAAAAAAAAAAAAAAAAAAAAAAAAAAAAAAAAAAAAAAAAAAAAAAAAAAAAAAAAAAAAAAAAAAAAAAAAAAAAAAAAAAAAAAAAAAAAAAAAAAAAAAAAAAAAAAAAAAAAAAAAAAAAAAAAAAAAAAAAAAAAAAAAAAAAAAAAAAAAAAAAAAAAAAAAAAAAAAAAAAAAAAAAAAAAAAAAAAAAAAAAAAAAAAAAAAAAAAAAAAAAAAAAAAAAAAAAAAAAAAAAAAAAAAAAAAAAAAAAAAAAAAAAAAAAAAAAAAAAAAAAAAAAAAAAAAAAAAAAAAAAAAAAAAAAAAAAAAAAAAAAAAAAAAAAAAAAAAAAAAAAAAAAAAAAAAAAAAAAAAAAAAAAAAAAAAAAAAAAAAAAAAAAAAAAAAAAAAAAAAAAAAAAAAAAAAAAAAAAAAAAAAAAAAAAAAAAAAAAAAAAAAAAAAAAAAAAAAAAAAAAAAAAAAAAAAAAAAAAAAAAAAAAAAAAAAAAAAAAAAAAAAAAAAAAAAAAAAAAAAAAAAAAAAAAAAAAAAAAAAAAAAAAAAAAAAAAAAAAAAAAAAAAAAAAAAAAAAAAAAAAAAAAAAAAAAAAAAAAAAAAAAAAAAAAAAAAAAAAAAAAAAAAAAAAAAAAAAAAAAAAAAAAAAAAAAAAAAAAAACwAAAAAQAgBAAAI/wAFAAgAoGBBAQAEKAQAIEAAAAAEAAAgQACAAAAACBAAYECAAAMCFBgQAIAAAAECEADAMgCAlzAFAJg5c0AAADgDDAAQIMCAAAACABg6NAAAAQACCAAQIMAAAAEACAggAACAAQEAaAUwAIDXr18HABAAoGzZAAIAABgQAACAAQEEAJhLFwABAAPyCgAgAIAAAAMCACAQAEAAAAEGAAAQgEAAAQAIDBAQQACBAAEGANg8AIDnzwIAiBYQgEAAAAMGBBgQQACAAgIADAAQAACAAAIACAAAgAAAAQIGBAgAIICAAAAADBAAoDkAAQAABJgOoHqAAQAABAAAIAAAAAIAEP8oEEBAgAADBKgHwF4AgAIBBBAQMABAAAACABQIAKCAAIAAAgQYMADAwQICBAAYEGAAAAEDAgQoAMDiAAAZNRIA0HGAAAEABAwQAKBAAAEACAAAEADAy5cDAAwAAGAAAAEBDAQIAEAAgAIBAggIEADA0QAAAAQAMADA0wEDAAAIAABAAAAAAgAoQCCAgAAABIwVAABAAAAABgAIIIDAAAABAAQAUCAAgAEAAAQAMEAAAMADBAgAIEDAgAACFAcQEABAgAEAJE8WECAAgAEBBAAQQEAAgAEBAgAYAABAAAABAAQIMCBAAAAABACgXYBAAAACABAIEABAgAAAhAcIAMD/OAEAyQUIAAAgAAAAAQAAEABgwAAAAgAECAAAAAEA4QEIEAAgQAAAAAIACAAAwAAAAAYQAFC/fgAA+QMIACCgAMAAAAIAKDgAAEIBAQIAaAhgAICIAAIMAGARQAABAQQAABAAAMgAAEYGACAAQIABAAIMIADgpYAAAgAACCAgAICcOQMEABAgAICgAgAEAGAUQAAAAgAAEABAQIABAgYEGAAAgAAAAAYACOBVANgAAAAYAACAwAAAAgAAEBAAAAABAAAEGEAgAF4AegcA6CsAAODABAQMABAAgIAAAAYEAFAAAIEBAwIAGABgAAAABAIAGAAAQAEAAwQUGAAAgAAA/wEAABAgAADsAAMABAAQ4DaA3AMCAOgNIAAAAAMAACAAIMCAAAAGBBAAIIAAAAAEABAQIEABAAMABABQAACAAQEACAAAIACA9AYAsA8QAEAAAAIADBgAAEAAAgACAOgPAKAAAAIADAgQYAAAAQMAFAAgAEABAQEIABAAIICAAQACAABAAMCAAQUMCAAgAEAAAAIAtHQpAEBMAgEA1AQgAEDOnAEEAPAZwICAAAEADAAAIAAAAAIAABAQYMCAAAIADABwlUAAAFsBBPAaAEBYAgDIAhgQAACAAQAEBAAAIEAAAHPpCggQAIAAAAACBBAwAACBAAMACAAgIAAAxQAECP8A8BjAAAABBBQgEACAAAADAgQAACAAANGjAQwIACAAAAECALQOAEAAANkCAggAcBuAgAC7AfQGICAAgAAAiAMIEAAAAAEAmAcAEABAdOnSAwQYEAA7AAABBgDwHgA8AAABAAgAEABAevXqAwQQACBAAADzAQQAEEAAAP0BBAgIABBAAAABAAQIACChQoUBAAQAEEAAgIkAAgQAgDEjRgEABAAAECAkAAADAAAIAAAAAQABAggAADMmAQAABAQAECAAAAABAAAIEEBAAAIDAAAYEABAAAIAmgoQACAqAQAFAAQAEACAAAEAAAQIMEBAAAEDAgQAgBZtAAEA2gooIED/wIADAAIACIAXQIAAAgIA+BsAAIAAAAIEAIBYQAABABoDEABAwAAABQAEABBgAIEBAwAAICAAwAAAAggQGABAAIAAAAoEADBAAAAAAQAEABBgQAEAAQAM+A0gQAAAAwYAOB4gAIDlAgAUACAAgPQBAwAIKBCAQIABAggAADAAgHgAAgYAEAAAAAEAAwYYCAAAwAAAAgAIGCAAgH4AAgD4BygAAIAAAAAMCABAIQABAQAEAACgAACKAAIMABAAgIABAQAEGCBggIABAAYAEABAgAAALVsGgAlAJoEAAAAEABAgAAABAQQEABBU6FABAgAcDQAgAAACAgAICCAAwAAA/wEEBBAAAMCAAQAEAAAgAMDYAQIAAAgAQAAAAQAABAAQVy4AAQAACAAgIAAAvnwFAAAcQEABAIUBDBAQAMDiAAAABAAgYMCAAAAGAMCcGYAAAJ0BBAgAIMAAAAEECACQWrUAAgBcvw4AIACAAQBs2w4gAACAAAAGCAgAIEAAAMWNAxAAIACAAAMADAhQAIAAAAEEBAAAYEAA7gAABAAQHoAAAOUBDAgAIAAAAAICCAAgAAABAPUBDBAAIAAAAAEAAAQwIAABAQYBDAggAECAAAAEDAAAIICAAAAABCAQQACAAgQEBBAwQMCAAgIAoEQpAEAAAAUAwBQgIEAAAAEEAP8gEEAAAAECAAANCmAAgAAAABQAMCBAAQBOBQgYICDAAAACAGAVAABAAAACAgAAIIBAAAACAAAQEABAAAECCgCIO2BAAAAEAAAYAADAgAABBggYAEBAAAEABAQAQEAAgMYDAgCITECAAAADCBAIIIBAAAAFBAAIEAAAaQABAAwQAACAgAEBXgsIAKBAgAAABAAAEACAAAC+AwAQAAAAAQAAAhQIAADAAAAEBAAgAGD6dAEBAAQAEAAAdwEDAIAHHyAAAAEABBQAMAAAgAECAgwAIEAAAAAEAgQYIGAAgAAAAAIAMEAAAAIAAAQAACAAgAAABgQAAEBAgAEAAggIEABXQMcAAQCEFBlgAAAAAgCkFFBAAAACAAQAIAAAgAAAAQAAECAgwAAAAAQACCBgwIAAAAQACLAUQAAATwEECAAggIAAAAIAEACAa9euAQAICAAgQAAAAAICADs=\"><title>Layer: flatten (hidden)\\n Keras class = Flatten</title></image><text x=\"430.0\" y=\"161.5\" font-family=\"monospace\" font-size=\"12\" text-anchor=\"start\" alignment-baseline=\"central\">flatten</text><line x1=\"325.0\" y1=\"201\" x2=\"325.0\" y2=\"174\" stroke=\"black\" stroke-width=\"2\" marker-end=\"url(#arrow)\"><title>Weights from maxpool2 to flatten</title></line><rect x=\"224.0\" y=\"201\" width=\"202\" height=\"202\" style=\"fill:none;stroke:black;stroke-width:2\"/><image id=\"MNIST-CNN_maxpool2_68\" class=\"MNIST-CNN_maxpool2\" x=\"225.0\" y=\"202\" height=\"200\" width=\"200\" preserveAspectRatio=\"none\" href=\"data:image/gif;base64,R0lGODdhBAAEAIcAANfX/8bG//X1/unp/7m5/wAAAAAAAAAAAAAAAAAAAAAAAAAAAAAAAAAAAAAAAAAAAAAAAAAAAAAAAAAAAAAAAAAAAAAAAAAAAAAAAAAAAAAAAAAAAAAAAAAAAAAAAAAAAAAAAAAAAAAAAAAAAAAAAAAAAAAAAAAAAAAAAAAAAAAAAAAAAAAAAAAAAAAAAAAAAAAAAAAAAAAAAAAAAAAAAAAAAAAAAAAAAAAAAAAAAAAAAAAAAAAAAAAAAAAAAAAAAAAAAAAAAAAAAAAAAAAAAAAAAAAAAAAAAAAAAAAAAAAAAAAAAAAAAAAAAAAAAAAAAAAAAAAAAAAAAAAAAAAAAAAAAAAAAAAAAAAAAAAAAAAAAAAAAAAAAAAAAAAAAAAAAAAAAAAAAAAAAAAAAAAAAAAAAAAAAAAAAAAAAAAAAAAAAAAAAAAAAAAAAAAAAAAAAAAAAAAAAAAAAAAAAAAAAAAAAAAAAAAAAAAAAAAAAAAAAAAAAAAAAAAAAAAAAAAAAAAAAAAAAAAAAAAAAAAAAAAAAAAAAAAAAAAAAAAAAAAAAAAAAAAAAAAAAAAAAAAAAAAAAAAAAAAAAAAAAAAAAAAAAAAAAAAAAAAAAAAAAAAAAAAAAAAAAAAAAAAAAAAAAAAAAAAAAAAAAAAAAAAAAAAAAAAAAAAAAAAAAAAAAAAAAAAAAAAAAAAAAAAAAAAAAAAAAAAAAAAAAAAAAAAAAAAAAAAAAAAAAAAAAAAAAAAAAAAAAAAAAAAAAAAAAAAAAAAAAAAAAAAAAAAAAAAAAAAAAAAAAAAAAAAAAAAAAAAAAAAAAAAAAAAAAAAAAAAAAAAAAAAAAAAAAAAAAAAAAAAAAAAAAAAAAAAAAAAAAAAAAAAAAAAAAAAAAAAAAAAAAAAAAAAAAAAAAAAAAAAAAAAAAAAAAAAAAAAAAAAAAAAAAAAAAAAAAAAAAAAAAAAAAAAAAAAAAAAAAAAAAAAAAAAAAAAAAAAAAAAAAAAAAAAAAAAAAAAAAAAAAAAAAAAAACwAAAAABAAEAAAIFAABCAQgIEAAAQMEEAgAAMAAAAEBADs=\"><title>Layer: maxpool2 (hidden)\\n Keras class = MaxPooling2D</title></image><text x=\"430.0\" y=\"304.0\" font-family=\"monospace\" font-size=\"12\" text-anchor=\"start\" alignment-baseline=\"central\">maxpool2</text><text x=\"430.0\" y=\"207\" font-family=\"monospace\" font-size=\"12\" text-anchor=\"start\" alignment-baseline=\"central\">132</text><text x=\"213.0\" y=\"397\" font-family=\"monospace\" font-size=\"12\" text-anchor=\"start\" alignment-baseline=\"central\">0</text><line x1=\"325.0\" y1=\"431\" x2=\"325.0\" y2=\"404\" stroke=\"black\" stroke-width=\"2\" marker-end=\"url(#arrow)\"><title>Weights from Conv2D-2 to maxpool2</title></line><rect x=\"224.0\" y=\"431\" width=\"202\" height=\"202\" style=\"fill:none;stroke:black;stroke-width:2\"/><image id=\"MNIST-CNN_Conv2D-2_69\" class=\"MNIST-CNN_Conv2D-2\" x=\"225.0\" y=\"432\" height=\"200\" width=\"200\" preserveAspectRatio=\"none\" href=\"data:image/gif;base64,R0lGODdhCAAIAIcAAPn5/ujo/9nZ/8XF/7m5/wAAAAAAAAAAAAAAAAAAAAAAAAAAAAAAAAAAAAAAAAAAAAAAAAAAAAAAAAAAAAAAAAAAAAAAAAAAAAAAAAAAAAAAAAAAAAAAAAAAAAAAAAAAAAAAAAAAAAAAAAAAAAAAAAAAAAAAAAAAAAAAAAAAAAAAAAAAAAAAAAAAAAAAAAAAAAAAAAAAAAAAAAAAAAAAAAAAAAAAAAAAAAAAAAAAAAAAAAAAAAAAAAAAAAAAAAAAAAAAAAAAAAAAAAAAAAAAAAAAAAAAAAAAAAAAAAAAAAAAAAAAAAAAAAAAAAAAAAAAAAAAAAAAAAAAAAAAAAAAAAAAAAAAAAAAAAAAAAAAAAAAAAAAAAAAAAAAAAAAAAAAAAAAAAAAAAAAAAAAAAAAAAAAAAAAAAAAAAAAAAAAAAAAAAAAAAAAAAAAAAAAAAAAAAAAAAAAAAAAAAAAAAAAAAAAAAAAAAAAAAAAAAAAAAAAAAAAAAAAAAAAAAAAAAAAAAAAAAAAAAAAAAAAAAAAAAAAAAAAAAAAAAAAAAAAAAAAAAAAAAAAAAAAAAAAAAAAAAAAAAAAAAAAAAAAAAAAAAAAAAAAAAAAAAAAAAAAAAAAAAAAAAAAAAAAAAAAAAAAAAAAAAAAAAAAAAAAAAAAAAAAAAAAAAAAAAAAAAAAAAAAAAAAAAAAAAAAAAAAAAAAAAAAAAAAAAAAAAAAAAAAAAAAAAAAAAAAAAAAAAAAAAAAAAAAAAAAAAAAAAAAAAAAAAAAAAAAAAAAAAAAAAAAAAAAAAAAAAAAAAAAAAAAAAAAAAAAAAAAAAAAAAAAAAAAAAAAAAAAAAAAAAAAAAAAAAAAAAAAAAAAAAAAAAAAAAAAAAAAAAAAAAAAAAAAAAAAAAAAAAAAAAAAAAAAAAAAAAAAAAAAAAAAAAAAAAAAAAAAAAAAAAAAAAAAAAAAAAAAAAAAAAAAAAAAAAAAAAAAAAAAAAAAAAAAAAAAAAAAAAAAAAAAAAAAAAAAAAAAAAAAACwAAAAACAAIAAAIOwADCBgoIACAAAACBBAgIIAAABADABAAoKLFAQMCANjIcUCAjwEAiAxAYEAAACgBBAggIICAlwFixgwIADs=\"><title>Layer: Conv2D-2 (hidden)\\n Keras class = Conv2D\\n activation = relu</title></image><text x=\"430.0\" y=\"534.0\" font-family=\"monospace\" font-size=\"12\" text-anchor=\"start\" alignment-baseline=\"central\">Conv2D-2</text><text x=\"430.0\" y=\"437\" font-family=\"monospace\" font-size=\"12\" text-anchor=\"start\" alignment-baseline=\"central\">132</text><text x=\"213.0\" y=\"627\" font-family=\"monospace\" font-size=\"12\" text-anchor=\"start\" alignment-baseline=\"central\">0</text><line x1=\"325.0\" y1=\"661\" x2=\"325.0\" y2=\"634\" stroke=\"black\" stroke-width=\"2\" marker-end=\"url(#arrow)\"><title>Weights from maxpool1 to Conv2D-2\\n Conv2D-2/kernel has shape (5, 5, 16, 132)\\n Conv2D-2/bias has shape (132,)</title></line><rect x=\"224.0\" y=\"661\" width=\"202\" height=\"202\" style=\"fill:none;stroke:black;stroke-width:2\"/><image id=\"MNIST-CNN_maxpool1_70\" class=\"MNIST-CNN_maxpool1\" x=\"225.0\" y=\"662\" height=\"200\" width=\"200\" preserveAspectRatio=\"none\" href=\"data:image/gif;base64,R0lGODdhDAAMAIcAAP37/dXV/5eX/+bm/6en/7i4/8vL/319/4mJ/wAAAAAAAAAAAAAAAAAAAAAAAAAAAAAAAAAAAAAAAAAAAAAAAAAAAAAAAAAAAAAAAAAAAAAAAAAAAAAAAAAAAAAAAAAAAAAAAAAAAAAAAAAAAAAAAAAAAAAAAAAAAAAAAAAAAAAAAAAAAAAAAAAAAAAAAAAAAAAAAAAAAAAAAAAAAAAAAAAAAAAAAAAAAAAAAAAAAAAAAAAAAAAAAAAAAAAAAAAAAAAAAAAAAAAAAAAAAAAAAAAAAAAAAAAAAAAAAAAAAAAAAAAAAAAAAAAAAAAAAAAAAAAAAAAAAAAAAAAAAAAAAAAAAAAAAAAAAAAAAAAAAAAAAAAAAAAAAAAAAAAAAAAAAAAAAAAAAAAAAAAAAAAAAAAAAAAAAAAAAAAAAAAAAAAAAAAAAAAAAAAAAAAAAAAAAAAAAAAAAAAAAAAAAAAAAAAAAAAAAAAAAAAAAAAAAAAAAAAAAAAAAAAAAAAAAAAAAAAAAAAAAAAAAAAAAAAAAAAAAAAAAAAAAAAAAAAAAAAAAAAAAAAAAAAAAAAAAAAAAAAAAAAAAAAAAAAAAAAAAAAAAAAAAAAAAAAAAAAAAAAAAAAAAAAAAAAAAAAAAAAAAAAAAAAAAAAAAAAAAAAAAAAAAAAAAAAAAAAAAAAAAAAAAAAAAAAAAAAAAAAAAAAAAAAAAAAAAAAAAAAAAAAAAAAAAAAAAAAAAAAAAAAAAAAAAAAAAAAAAAAAAAAAAAAAAAAAAAAAAAAAAAAAAAAAAAAAAAAAAAAAAAAAAAAAAAAAAAAAAAAAAAAAAAAAAAAAAAAAAAAAAAAAAAAAAAAAAAAAAAAAAAAAAAAAAAAAAAAAAAAAAAAAAAAAAAAAAAAAAAAAAAAAAAAAAAAAAAAAAAAAAAAAAAAAAAAAAAAAAAAAAAAAAAAAAAAAAAAAAAAAAAAAAAAAAAAAAAAAAAAAAAAAAAAAAAAAAAAAAAAAAAAAAAAAAAAAAAAAAAAAAAAAACwAAAAADAAMAAAIfQABCBxooEAAAQASAhCAgACBAgYKFABAEQABAgYGANi4cQCAjyA/BgAQIACAkwACCCAAwACAlzBfCjhQAIDNmzgDCAgAoKdPAAEECBgQAIDRowQEEBgAAMAAAAACCBBAAIBVAAMMAABQQMAAAGAHBAgAoKxZAAMCBADAlm1AADs=\"><title>Layer: maxpool1 (hidden)\\n Keras class = MaxPooling2D</title></image><text x=\"430.0\" y=\"764.0\" font-family=\"monospace\" font-size=\"12\" text-anchor=\"start\" alignment-baseline=\"central\">maxpool1</text><text x=\"430.0\" y=\"667\" font-family=\"monospace\" font-size=\"12\" text-anchor=\"start\" alignment-baseline=\"central\">16</text><text x=\"213.0\" y=\"857\" font-family=\"monospace\" font-size=\"12\" text-anchor=\"start\" alignment-baseline=\"central\">0</text><line x1=\"325.0\" y1=\"891\" x2=\"325.0\" y2=\"864\" stroke=\"black\" stroke-width=\"2\" marker-end=\"url(#arrow)\"><title>Weights from Conv2D-1 to maxpool1</title></line><rect x=\"224.0\" y=\"891\" width=\"202\" height=\"202\" style=\"fill:none;stroke:black;stroke-width:2\"/><image id=\"MNIST-CNN_Conv2D-1_71\" class=\"MNIST-CNN_Conv2D-1\" x=\"225.0\" y=\"892\" height=\"200\" width=\"200\" preserveAspectRatio=\"none\" href=\"data:image/gif;base64,R0lGODdhGAAYAIcAAP78/efn/9bW/7m5/6io/8nJ/5eX/4mJ/319/wAAAAAAAAAAAAAAAAAAAAAAAAAAAAAAAAAAAAAAAAAAAAAAAAAAAAAAAAAAAAAAAAAAAAAAAAAAAAAAAAAAAAAAAAAAAAAAAAAAAAAAAAAAAAAAAAAAAAAAAAAAAAAAAAAAAAAAAAAAAAAAAAAAAAAAAAAAAAAAAAAAAAAAAAAAAAAAAAAAAAAAAAAAAAAAAAAAAAAAAAAAAAAAAAAAAAAAAAAAAAAAAAAAAAAAAAAAAAAAAAAAAAAAAAAAAAAAAAAAAAAAAAAAAAAAAAAAAAAAAAAAAAAAAAAAAAAAAAAAAAAAAAAAAAAAAAAAAAAAAAAAAAAAAAAAAAAAAAAAAAAAAAAAAAAAAAAAAAAAAAAAAAAAAAAAAAAAAAAAAAAAAAAAAAAAAAAAAAAAAAAAAAAAAAAAAAAAAAAAAAAAAAAAAAAAAAAAAAAAAAAAAAAAAAAAAAAAAAAAAAAAAAAAAAAAAAAAAAAAAAAAAAAAAAAAAAAAAAAAAAAAAAAAAAAAAAAAAAAAAAAAAAAAAAAAAAAAAAAAAAAAAAAAAAAAAAAAAAAAAAAAAAAAAAAAAAAAAAAAAAAAAAAAAAAAAAAAAAAAAAAAAAAAAAAAAAAAAAAAAAAAAAAAAAAAAAAAAAAAAAAAAAAAAAAAAAAAAAAAAAAAAAAAAAAAAAAAAAAAAAAAAAAAAAAAAAAAAAAAAAAAAAAAAAAAAAAAAAAAAAAAAAAAAAAAAAAAAAAAAAAAAAAAAAAAAAAAAAAAAAAAAAAAAAAAAAAAAAAAAAAAAAAAAAAAAAAAAAAAAAAAAAAAAAAAAAAAAAAAAAAAAAAAAAAAAAAAAAAAAAAAAAAAAAAAAAAAAAAAAAAAAAAAAAAAAAAAAAAAAAAAAAAAAAAAAAAAAAAAAAAAAAAAAAAAAAAAAAAAAAAAAAAAAAAAAAAAAAAAAAAAAAAAAAAAAAAAAAAAAAAAAAAAAAAAAAAAAAAAAAAAAAAAACwAAAAAGAAYAEAI/wABCBxIsKDBgwUFDAgAoCGAAgEASJxIcWKAAQYICAgQAIBHAAEAiBw5MgABAgMKCAgAoKXLlzBjwhQwgACAmzhvBhhgoEAAAECDCg0gQACAo0iTHg1QYACBpwMGFBAgYMCAAACyat3KtavWAAIEABhLtuxYAwgKAFjLtq3btwEAAAgQQACAu3jzChhggIAAAIADCw4QAIDhw4gTAxAgAIDjx5AjSwYQoMAAAQEEGCAAoLPnzgUMHCBQoMCAAQIKBBAAoLXr17ADAJhNu3btAABy697NO7cAAMCDCx8OnIABAgCSAwgAoLnz59CdGzgwIACA69iza98OoIABAQDCi0kfTx6AgAEGDABYHwCA+/fw3xcgYKAAgPv48+sXQMAAAYACAAQAUNCgwQAFAgBg2NDhQ4YBBAgAUNHiRYwVAwgQEADAR5AhAQQEADs=\"><title>Layer: Conv2D-1 (hidden)\\n Keras class = Conv2D\\n activation = relu</title></image><text x=\"430.0\" y=\"994.0\" font-family=\"monospace\" font-size=\"12\" text-anchor=\"start\" alignment-baseline=\"central\">Conv2D-1</text><text x=\"430.0\" y=\"897\" font-family=\"monospace\" font-size=\"12\" text-anchor=\"start\" alignment-baseline=\"central\">16</text><text x=\"213.0\" y=\"1087\" font-family=\"monospace\" font-size=\"12\" text-anchor=\"start\" alignment-baseline=\"central\">0</text><line x1=\"325.0\" y1=\"1121\" x2=\"325.0\" y2=\"1094\" stroke=\"black\" stroke-width=\"2\" marker-end=\"url(#arrow)\"><title>Weights from input to Conv2D-1\\n Conv2D-1/kernel has shape (5, 5, 1, 16)\\n Conv2D-1/bias has shape (16,)</title></line><rect x=\"224.0\" y=\"1121\" width=\"202\" height=\"202\" style=\"fill:none;stroke:black;stroke-width:2\"/><image id=\"MNIST-CNN_input_72\" class=\"MNIST-CNN_input\" x=\"225.0\" y=\"1122\" height=\"200\" width=\"200\" preserveAspectRatio=\"none\" href=\"data:image/gif;base64,R0lGODdhHAAcAIcAAAoAAP//9jAAAP/8DP//z00AANcAAPMAAG4AAI0AAP+aAP9nAP/MAP//jbMAAP9yAP/pAP//T///c/8lAP9XAP+qAP//Mv82AP9EAP+/AP/WAP//vAAAAAAAAAAAAAAAAAAAAAAAAAAAAAAAAAAAAAAAAAAAAAAAAAAAAAAAAAAAAAAAAAAAAAAAAAAAAAAAAAAAAAAAAAAAAAAAAAAAAAAAAAAAAAAAAAAAAAAAAAAAAAAAAAAAAAAAAAAAAAAAAAAAAAAAAAAAAAAAAAAAAAAAAAAAAAAAAAAAAAAAAAAAAAAAAAAAAAAAAAAAAAAAAAAAAAAAAAAAAAAAAAAAAAAAAAAAAAAAAAAAAAAAAAAAAAAAAAAAAAAAAAAAAAAAAAAAAAAAAAAAAAAAAAAAAAAAAAAAAAAAAAAAAAAAAAAAAAAAAAAAAAAAAAAAAAAAAAAAAAAAAAAAAAAAAAAAAAAAAAAAAAAAAAAAAAAAAAAAAAAAAAAAAAAAAAAAAAAAAAAAAAAAAAAAAAAAAAAAAAAAAAAAAAAAAAAAAAAAAAAAAAAAAAAAAAAAAAAAAAAAAAAAAAAAAAAAAAAAAAAAAAAAAAAAAAAAAAAAAAAAAAAAAAAAAAAAAAAAAAAAAAAAAAAAAAAAAAAAAAAAAAAAAAAAAAAAAAAAAAAAAAAAAAAAAAAAAAAAAAAAAAAAAAAAAAAAAAAAAAAAAAAAAAAAAAAAAAAAAAAAAAAAAAAAAAAAAAAAAAAAAAAAAAAAAAAAAAAAAAAAAAAAAAAAAAAAAAAAAAAAAAAAAAAAAAAAAAAAAAAAAAAAAAAAAAAAAAAAAAAAAAAAAAAAAAAAAAAAAAAAAAAAAAAAAAAAAAAAAAAAAAAAAAAAAAAAAAAAAAAAAAAAAAAAAAAAAAAAAAAAAAAAAAAAAAAAAAAAAAAAAAAAAAAAAAAAAAAAAAAAAAAAAAAAAAAAAAAAAAAAAAAAAAAAAAAAAAAAAAAAAAAAAAAAAAAAAAAAAAAAAAAAAAAAACwAAAAAHAAcAEAI/wABCBxIsKDBgwcFSAjAkOEACAQIAJhIsaLFixUFHAgQYACAjyBDfnwQoGSEBQsEAFjJsqXLlzBjypwpYEAAAwBy6tzJs2fOAhckBBgawIIBAEiTKl3KtKnTpwUQHFDAIIBVqw0YBCAwwAGAr2DDghUAQEGAAwDSql3Ltm1bAwQCBMBQAIDdu3jz6rWbYAGEAAEiABhMuHBhAQwkBFgcYIABAQAiS55MubLly5gza97MufNkAaApPNBQIEMAAhQAqF7NGkCCDQFiy5Z9oHYCBABy696t20CFCQECWBAAAIECAMiTK1/O/EGAAQCiS59OvTp1BAQaVJgAoLv37+DDf1FPMCBAAAUFAKhfz769e/YB4jsAQL++/fv2EShoEKB/AIAQAAwkWNAggAIOIgRgGGCAAQARJU6kmIBBgwAZAxBYIADAR5AhRY4kWdLkSZQhAwIAOw==\"><title>Layer: input (input)\\n shape = (28, 28, 1)\\n Keras class = Input</title></image><text x=\"430.0\" y=\"1224.0\" font-family=\"monospace\" font-size=\"12\" text-anchor=\"start\" alignment-baseline=\"central\">input</text><text x=\"430.0\" y=\"1127\" font-family=\"monospace\" font-size=\"12\" text-anchor=\"start\" alignment-baseline=\"central\">1</text><text x=\"213.0\" y=\"1317\" font-family=\"monospace\" font-size=\"12\" text-anchor=\"start\" alignment-baseline=\"central\">0</text></svg></p>', layout=Layout(justify_content='center', overflow_x='auto', overflow_y='auto', width='95%'))), layout=Layout(width='95%')), VBox(children=(Accordion(children=(VBox(children=(HTML(value='<p><h3>Network display:</h3></p>'), FloatSlider(value=1.0, continuous_update=False, description='Zoom', max=3.0, min=0.5), IntText(value=150, description='Horizontal space between banks:', style=DescriptionStyle(description_width='initial')), IntText(value=30, description='Vertical space between layers:', style=DescriptionStyle(description_width='initial')), Checkbox(value=False, description='Show Targets'), Checkbox(value=False, description='Show Errors'), IntText(value=3, description='Feature columns:', style=DescriptionStyle(description_width='initial')), FloatText(value=2.0, description='Feature scale:', style=DescriptionStyle(description_width='initial')))), VBox(children=(HTML(value='<p><hr/><h3>output bank:</h3></p>'), Checkbox(value=True, description='Visible'), HBox(children=(Select(description='Colormap:', options=('', 'Accent', 'Accent_r', 'Blues', 'Blues_r', 'BrBG', 'BrBG_r', 'BuGn', 'BuGn_r', 'BuPu', 'BuPu_r', 'CMRmap', 'CMRmap_r', 'Dark2', 'Dark2_r', 'GnBu', 'GnBu_r', 'Greens', 'Greens_r', 'Greys', 'Greys_r', 'OrRd', 'OrRd_r', 'Oranges', 'Oranges_r', 'PRGn', 'PRGn_r', 'Paired', 'Paired_r', 'Pastel1', 'Pastel1_r', 'Pastel2', 'Pastel2_r', 'PiYG', 'PiYG_r', 'PuBu', 'PuBuGn', 'PuBuGn_r', 'PuBu_r', 'PuOr', 'PuOr_r', 'PuRd', 'PuRd_r', 'Purples', 'Purples_r', 'RdBu', 'RdBu_r', 'RdGy', 'RdGy_r', 'RdPu', 'RdPu_r', 'RdYlBu', 'RdYlBu_r', 'RdYlGn', 'RdYlGn_r', 'Reds', 'Reds_r', 'Set1', 'Set1_r', 'Set2', 'Set2_r', 'Set3', 'Set3_r', 'Spectral', 'Spectral_r', 'Vega10', 'Vega10_r', 'Vega20', 'Vega20_r', 'Vega20b', 'Vega20b_r', 'Vega20c', 'Vega20c_r', 'Wistia', 'Wistia_r', 'YlGn', 'YlGnBu', 'YlGnBu_r', 'YlGn_r', 'YlOrBr', 'YlOrBr_r', 'YlOrRd', 'YlOrRd_r', 'afmhot', 'afmhot_r', 'autumn', 'autumn_r', 'binary', 'binary_r', 'bone', 'bone_r', 'brg', 'brg_r', 'bwr', 'bwr_r', 'cool', 'cool_r', 'coolwarm', 'coolwarm_r', 'copper', 'copper_r', 'cubehelix', 'cubehelix_r', 'flag', 'flag_r', 'gist_earth', 'gist_earth_r', 'gist_gray', 'gist_gray_r', 'gist_heat', 'gist_heat_r', 'gist_ncar', 'gist_ncar_r', 'gist_rainbow', 'gist_rainbow_r', 'gist_stern', 'gist_stern_r', 'gist_yarg', 'gist_yarg_r', 'gnuplot', 'gnuplot2', 'gnuplot2_r', 'gnuplot_r', 'gray', 'gray_r', 'hot', 'hot_r', 'hsv', 'hsv_r', 'inferno', 'inferno_r', 'jet', 'jet_r', 'magma', 'magma_r', 'nipy_spectral', 'nipy_spectral_r', 'ocean', 'ocean_r', 'pink', 'pink_r', 'plasma', 'plasma_r', 'prism', 'prism_r', 'rainbow', 'rainbow_r', 'seismic', 'seismic_r', 'spectral', 'spectral_r', 'spring', 'spring_r', 'summer', 'summer_r', 'tab10', 'tab10_r', 'tab20', 'tab20_r', 'tab20b', 'tab20b_r', 'tab20c', 'tab20c_r', 'terrain', 'terrain_r', 'viridis', 'viridis_r', 'winter', 'winter_r'), rows=1, value=''), HTML(value='<img src=\"data:image/gif;base64,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\"/>'))), HBox(children=(IntText(value=-1, description='Leftmost color maps to:', style=DescriptionStyle(description_width='initial')), IntText(value=1, description='Rightmost color maps to:', style=DescriptionStyle(description_width='initial')))))), VBox(children=(HTML(value='<p><hr/><h3>hidden bank:</h3></p>'), Checkbox(value=True, description='Visible'), HBox(children=(Select(description='Colormap:', options=('', 'Accent', 'Accent_r', 'Blues', 'Blues_r', 'BrBG', 'BrBG_r', 'BuGn', 'BuGn_r', 'BuPu', 'BuPu_r', 'CMRmap', 'CMRmap_r', 'Dark2', 'Dark2_r', 'GnBu', 'GnBu_r', 'Greens', 'Greens_r', 'Greys', 'Greys_r', 'OrRd', 'OrRd_r', 'Oranges', 'Oranges_r', 'PRGn', 'PRGn_r', 'Paired', 'Paired_r', 'Pastel1', 'Pastel1_r', 'Pastel2', 'Pastel2_r', 'PiYG', 'PiYG_r', 'PuBu', 'PuBuGn', 'PuBuGn_r', 'PuBu_r', 'PuOr', 'PuOr_r', 'PuRd', 'PuRd_r', 'Purples', 'Purples_r', 'RdBu', 'RdBu_r', 'RdGy', 'RdGy_r', 'RdPu', 'RdPu_r', 'RdYlBu', 'RdYlBu_r', 'RdYlGn', 'RdYlGn_r', 'Reds', 'Reds_r', 'Set1', 'Set1_r', 'Set2', 'Set2_r', 'Set3', 'Set3_r', 'Spectral', 'Spectral_r', 'Vega10', 'Vega10_r', 'Vega20', 'Vega20_r', 'Vega20b', 'Vega20b_r', 'Vega20c', 'Vega20c_r', 'Wistia', 'Wistia_r', 'YlGn', 'YlGnBu', 'YlGnBu_r', 'YlGn_r', 'YlOrBr', 'YlOrBr_r', 'YlOrRd', 'YlOrRd_r', 'afmhot', 'afmhot_r', 'autumn', 'autumn_r', 'binary', 'binary_r', 'bone', 'bone_r', 'brg', 'brg_r', 'bwr', 'bwr_r', 'cool', 'cool_r', 'coolwarm', 'coolwarm_r', 'copper', 'copper_r', 'cubehelix', 'cubehelix_r', 'flag', 'flag_r', 'gist_earth', 'gist_earth_r', 'gist_gray', 'gist_gray_r', 'gist_heat', 'gist_heat_r', 'gist_ncar', 'gist_ncar_r', 'gist_rainbow', 'gist_rainbow_r', 'gist_stern', 'gist_stern_r', 'gist_yarg', 'gist_yarg_r', 'gnuplot', 'gnuplot2', 'gnuplot2_r', 'gnuplot_r', 'gray', 'gray_r', 'hot', 'hot_r', 'hsv', 'hsv_r', 'inferno', 'inferno_r', 'jet', 'jet_r', 'magma', 'magma_r', 'nipy_spectral', 'nipy_spectral_r', 'ocean', 'ocean_r', 'pink', 'pink_r', 'plasma', 'plasma_r', 'prism', 'prism_r', 'rainbow', 'rainbow_r', 'seismic', 'seismic_r', 'spectral', 'spectral_r', 'spring', 'spring_r', 'summer', 'summer_r', 'tab10', 'tab10_r', 'tab20', 'tab20_r', 'tab20b', 'tab20b_r', 'tab20c', 'tab20c_r', 'terrain', 'terrain_r', 'viridis', 'viridis_r', 'winter', 'winter_r'), rows=1, value=''), HTML(value='<img src=\"data:image/gif;base64,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\"/>'))), HBox(children=(IntText(value=-1, description='Leftmost color maps to:', style=DescriptionStyle(description_width='initial')), IntText(value=1, description='Rightmost color maps to:', style=DescriptionStyle(description_width='initial')))))), VBox(children=(HTML(value='<p><hr/><h3>flatten bank:</h3></p>'), Checkbox(value=True, description='Visible'), HBox(children=(Select(description='Colormap:', options=('', 'Accent', 'Accent_r', 'Blues', 'Blues_r', 'BrBG', 'BrBG_r', 'BuGn', 'BuGn_r', 'BuPu', 'BuPu_r', 'CMRmap', 'CMRmap_r', 'Dark2', 'Dark2_r', 'GnBu', 'GnBu_r', 'Greens', 'Greens_r', 'Greys', 'Greys_r', 'OrRd', 'OrRd_r', 'Oranges', 'Oranges_r', 'PRGn', 'PRGn_r', 'Paired', 'Paired_r', 'Pastel1', 'Pastel1_r', 'Pastel2', 'Pastel2_r', 'PiYG', 'PiYG_r', 'PuBu', 'PuBuGn', 'PuBuGn_r', 'PuBu_r', 'PuOr', 'PuOr_r', 'PuRd', 'PuRd_r', 'Purples', 'Purples_r', 'RdBu', 'RdBu_r', 'RdGy', 'RdGy_r', 'RdPu', 'RdPu_r', 'RdYlBu', 'RdYlBu_r', 'RdYlGn', 'RdYlGn_r', 'Reds', 'Reds_r', 'Set1', 'Set1_r', 'Set2', 'Set2_r', 'Set3', 'Set3_r', 'Spectral', 'Spectral_r', 'Vega10', 'Vega10_r', 'Vega20', 'Vega20_r', 'Vega20b', 'Vega20b_r', 'Vega20c', 'Vega20c_r', 'Wistia', 'Wistia_r', 'YlGn', 'YlGnBu', 'YlGnBu_r', 'YlGn_r', 'YlOrBr', 'YlOrBr_r', 'YlOrRd', 'YlOrRd_r', 'afmhot', 'afmhot_r', 'autumn', 'autumn_r', 'binary', 'binary_r', 'bone', 'bone_r', 'brg', 'brg_r', 'bwr', 'bwr_r', 'cool', 'cool_r', 'coolwarm', 'coolwarm_r', 'copper', 'copper_r', 'cubehelix', 'cubehelix_r', 'flag', 'flag_r', 'gist_earth', 'gist_earth_r', 'gist_gray', 'gist_gray_r', 'gist_heat', 'gist_heat_r', 'gist_ncar', 'gist_ncar_r', 'gist_rainbow', 'gist_rainbow_r', 'gist_stern', 'gist_stern_r', 'gist_yarg', 'gist_yarg_r', 'gnuplot', 'gnuplot2', 'gnuplot2_r', 'gnuplot_r', 'gray', 'gray_r', 'hot', 'hot_r', 'hsv', 'hsv_r', 'inferno', 'inferno_r', 'jet', 'jet_r', 'magma', 'magma_r', 'nipy_spectral', 'nipy_spectral_r', 'ocean', 'ocean_r', 'pink', 'pink_r', 'plasma', 'plasma_r', 'prism', 'prism_r', 'rainbow', 'rainbow_r', 'seismic', 'seismic_r', 'spectral', 'spectral_r', 'spring', 'spring_r', 'summer', 'summer_r', 'tab10', 'tab10_r', 'tab20', 'tab20_r', 'tab20b', 'tab20b_r', 'tab20c', 'tab20c_r', 'terrain', 'terrain_r', 'viridis', 'viridis_r', 'winter', 'winter_r'), rows=1, value=''), HTML(value='<img src=\"data:image/gif;base64,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\"/>'))), HBox(children=(IntText(value=-1, description='Leftmost color maps to:', style=DescriptionStyle(description_width='initial')), IntText(value=1, description='Rightmost color maps to:', style=DescriptionStyle(description_width='initial')))))), VBox(children=(HTML(value='<p><hr/><h3>maxpool2 bank:</h3></p>'), Checkbox(value=True, description='Visible'), HBox(children=(Select(description='Colormap:', options=('', 'Accent', 'Accent_r', 'Blues', 'Blues_r', 'BrBG', 'BrBG_r', 'BuGn', 'BuGn_r', 'BuPu', 'BuPu_r', 'CMRmap', 'CMRmap_r', 'Dark2', 'Dark2_r', 'GnBu', 'GnBu_r', 'Greens', 'Greens_r', 'Greys', 'Greys_r', 'OrRd', 'OrRd_r', 'Oranges', 'Oranges_r', 'PRGn', 'PRGn_r', 'Paired', 'Paired_r', 'Pastel1', 'Pastel1_r', 'Pastel2', 'Pastel2_r', 'PiYG', 'PiYG_r', 'PuBu', 'PuBuGn', 'PuBuGn_r', 'PuBu_r', 'PuOr', 'PuOr_r', 'PuRd', 'PuRd_r', 'Purples', 'Purples_r', 'RdBu', 'RdBu_r', 'RdGy', 'RdGy_r', 'RdPu', 'RdPu_r', 'RdYlBu', 'RdYlBu_r', 'RdYlGn', 'RdYlGn_r', 'Reds', 'Reds_r', 'Set1', 'Set1_r', 'Set2', 'Set2_r', 'Set3', 'Set3_r', 'Spectral', 'Spectral_r', 'Vega10', 'Vega10_r', 'Vega20', 'Vega20_r', 'Vega20b', 'Vega20b_r', 'Vega20c', 'Vega20c_r', 'Wistia', 'Wistia_r', 'YlGn', 'YlGnBu', 'YlGnBu_r', 'YlGn_r', 'YlOrBr', 'YlOrBr_r', 'YlOrRd', 'YlOrRd_r', 'afmhot', 'afmhot_r', 'autumn', 'autumn_r', 'binary', 'binary_r', 'bone', 'bone_r', 'brg', 'brg_r', 'bwr', 'bwr_r', 'cool', 'cool_r', 'coolwarm', 'coolwarm_r', 'copper', 'copper_r', 'cubehelix', 'cubehelix_r', 'flag', 'flag_r', 'gist_earth', 'gist_earth_r', 'gist_gray', 'gist_gray_r', 'gist_heat', 'gist_heat_r', 'gist_ncar', 'gist_ncar_r', 'gist_rainbow', 'gist_rainbow_r', 'gist_stern', 'gist_stern_r', 'gist_yarg', 'gist_yarg_r', 'gnuplot', 'gnuplot2', 'gnuplot2_r', 'gnuplot_r', 'gray', 'gray_r', 'hot', 'hot_r', 'hsv', 'hsv_r', 'inferno', 'inferno_r', 'jet', 'jet_r', 'magma', 'magma_r', 'nipy_spectral', 'nipy_spectral_r', 'ocean', 'ocean_r', 'pink', 'pink_r', 'plasma', 'plasma_r', 'prism', 'prism_r', 'rainbow', 'rainbow_r', 'seismic', 'seismic_r', 'spectral', 'spectral_r', 'spring', 'spring_r', 'summer', 'summer_r', 'tab10', 'tab10_r', 'tab20', 'tab20_r', 'tab20b', 'tab20b_r', 'tab20c', 'tab20c_r', 'terrain', 'terrain_r', 'viridis', 'viridis_r', 'winter', 'winter_r'), rows=1, value=''), HTML(value='<img src=\"data:image/gif;base64,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\"/>'))), HBox(children=(IntText(value=-1, description='Leftmost color maps to:', style=DescriptionStyle(description_width='initial')), IntText(value=1, description='Rightmost color maps to:', style=DescriptionStyle(description_width='initial')))), IntText(value=0, description='Feature to show:', style=DescriptionStyle(description_width='initial')))), VBox(children=(HTML(value='<p><hr/><h3>Conv2D-2 bank:</h3></p>'), Checkbox(value=True, description='Visible'), HBox(children=(Select(description='Colormap:', options=('', 'Accent', 'Accent_r', 'Blues', 'Blues_r', 'BrBG', 'BrBG_r', 'BuGn', 'BuGn_r', 'BuPu', 'BuPu_r', 'CMRmap', 'CMRmap_r', 'Dark2', 'Dark2_r', 'GnBu', 'GnBu_r', 'Greens', 'Greens_r', 'Greys', 'Greys_r', 'OrRd', 'OrRd_r', 'Oranges', 'Oranges_r', 'PRGn', 'PRGn_r', 'Paired', 'Paired_r', 'Pastel1', 'Pastel1_r', 'Pastel2', 'Pastel2_r', 'PiYG', 'PiYG_r', 'PuBu', 'PuBuGn', 'PuBuGn_r', 'PuBu_r', 'PuOr', 'PuOr_r', 'PuRd', 'PuRd_r', 'Purples', 'Purples_r', 'RdBu', 'RdBu_r', 'RdGy', 'RdGy_r', 'RdPu', 'RdPu_r', 'RdYlBu', 'RdYlBu_r', 'RdYlGn', 'RdYlGn_r', 'Reds', 'Reds_r', 'Set1', 'Set1_r', 'Set2', 'Set2_r', 'Set3', 'Set3_r', 'Spectral', 'Spectral_r', 'Vega10', 'Vega10_r', 'Vega20', 'Vega20_r', 'Vega20b', 'Vega20b_r', 'Vega20c', 'Vega20c_r', 'Wistia', 'Wistia_r', 'YlGn', 'YlGnBu', 'YlGnBu_r', 'YlGn_r', 'YlOrBr', 'YlOrBr_r', 'YlOrRd', 'YlOrRd_r', 'afmhot', 'afmhot_r', 'autumn', 'autumn_r', 'binary', 'binary_r', 'bone', 'bone_r', 'brg', 'brg_r', 'bwr', 'bwr_r', 'cool', 'cool_r', 'coolwarm', 'coolwarm_r', 'copper', 'copper_r', 'cubehelix', 'cubehelix_r', 'flag', 'flag_r', 'gist_earth', 'gist_earth_r', 'gist_gray', 'gist_gray_r', 'gist_heat', 'gist_heat_r', 'gist_ncar', 'gist_ncar_r', 'gist_rainbow', 'gist_rainbow_r', 'gist_stern', 'gist_stern_r', 'gist_yarg', 'gist_yarg_r', 'gnuplot', 'gnuplot2', 'gnuplot2_r', 'gnuplot_r', 'gray', 'gray_r', 'hot', 'hot_r', 'hsv', 'hsv_r', 'inferno', 'inferno_r', 'jet', 'jet_r', 'magma', 'magma_r', 'nipy_spectral', 'nipy_spectral_r', 'ocean', 'ocean_r', 'pink', 'pink_r', 'plasma', 'plasma_r', 'prism', 'prism_r', 'rainbow', 'rainbow_r', 'seismic', 'seismic_r', 'spectral', 'spectral_r', 'spring', 'spring_r', 'summer', 'summer_r', 'tab10', 'tab10_r', 'tab20', 'tab20_r', 'tab20b', 'tab20b_r', 'tab20c', 'tab20c_r', 'terrain', 'terrain_r', 'viridis', 'viridis_r', 'winter', 'winter_r'), rows=1, value=''), HTML(value='<img src=\"data:image/gif;base64,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\"/>'))), HBox(children=(IntText(value=-1, description='Leftmost color maps to:', style=DescriptionStyle(description_width='initial')), IntText(value=1, description='Rightmost color maps to:', style=DescriptionStyle(description_width='initial')))), IntText(value=0, description='Feature to show:', style=DescriptionStyle(description_width='initial')))), VBox(children=(HTML(value='<p><hr/><h3>maxpool1 bank:</h3></p>'), Checkbox(value=True, description='Visible'), HBox(children=(Select(description='Colormap:', options=('', 'Accent', 'Accent_r', 'Blues', 'Blues_r', 'BrBG', 'BrBG_r', 'BuGn', 'BuGn_r', 'BuPu', 'BuPu_r', 'CMRmap', 'CMRmap_r', 'Dark2', 'Dark2_r', 'GnBu', 'GnBu_r', 'Greens', 'Greens_r', 'Greys', 'Greys_r', 'OrRd', 'OrRd_r', 'Oranges', 'Oranges_r', 'PRGn', 'PRGn_r', 'Paired', 'Paired_r', 'Pastel1', 'Pastel1_r', 'Pastel2', 'Pastel2_r', 'PiYG', 'PiYG_r', 'PuBu', 'PuBuGn', 'PuBuGn_r', 'PuBu_r', 'PuOr', 'PuOr_r', 'PuRd', 'PuRd_r', 'Purples', 'Purples_r', 'RdBu', 'RdBu_r', 'RdGy', 'RdGy_r', 'RdPu', 'RdPu_r', 'RdYlBu', 'RdYlBu_r', 'RdYlGn', 'RdYlGn_r', 'Reds', 'Reds_r', 'Set1', 'Set1_r', 'Set2', 'Set2_r', 'Set3', 'Set3_r', 'Spectral', 'Spectral_r', 'Vega10', 'Vega10_r', 'Vega20', 'Vega20_r', 'Vega20b', 'Vega20b_r', 'Vega20c', 'Vega20c_r', 'Wistia', 'Wistia_r', 'YlGn', 'YlGnBu', 'YlGnBu_r', 'YlGn_r', 'YlOrBr', 'YlOrBr_r', 'YlOrRd', 'YlOrRd_r', 'afmhot', 'afmhot_r', 'autumn', 'autumn_r', 'binary', 'binary_r', 'bone', 'bone_r', 'brg', 'brg_r', 'bwr', 'bwr_r', 'cool', 'cool_r', 'coolwarm', 'coolwarm_r', 'copper', 'copper_r', 'cubehelix', 'cubehelix_r', 'flag', 'flag_r', 'gist_earth', 'gist_earth_r', 'gist_gray', 'gist_gray_r', 'gist_heat', 'gist_heat_r', 'gist_ncar', 'gist_ncar_r', 'gist_rainbow', 'gist_rainbow_r', 'gist_stern', 'gist_stern_r', 'gist_yarg', 'gist_yarg_r', 'gnuplot', 'gnuplot2', 'gnuplot2_r', 'gnuplot_r', 'gray', 'gray_r', 'hot', 'hot_r', 'hsv', 'hsv_r', 'inferno', 'inferno_r', 'jet', 'jet_r', 'magma', 'magma_r', 'nipy_spectral', 'nipy_spectral_r', 'ocean', 'ocean_r', 'pink', 'pink_r', 'plasma', 'plasma_r', 'prism', 'prism_r', 'rainbow', 'rainbow_r', 'seismic', 'seismic_r', 'spectral', 'spectral_r', 'spring', 'spring_r', 'summer', 'summer_r', 'tab10', 'tab10_r', 'tab20', 'tab20_r', 'tab20b', 'tab20b_r', 'tab20c', 'tab20c_r', 'terrain', 'terrain_r', 'viridis', 'viridis_r', 'winter', 'winter_r'), rows=1, value=''), HTML(value='<img src=\"data:image/gif;base64,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\"/>'))), HBox(children=(IntText(value=-1, description='Leftmost color maps to:', style=DescriptionStyle(description_width='initial')), IntText(value=1, description='Rightmost color maps to:', style=DescriptionStyle(description_width='initial')))), IntText(value=0, description='Feature to show:', style=DescriptionStyle(description_width='initial')))), VBox(children=(HTML(value='<p><hr/><h3>Conv2D-1 bank:</h3></p>'), Checkbox(value=True, description='Visible'), HBox(children=(Select(description='Colormap:', options=('', 'Accent', 'Accent_r', 'Blues', 'Blues_r', 'BrBG', 'BrBG_r', 'BuGn', 'BuGn_r', 'BuPu', 'BuPu_r', 'CMRmap', 'CMRmap_r', 'Dark2', 'Dark2_r', 'GnBu', 'GnBu_r', 'Greens', 'Greens_r', 'Greys', 'Greys_r', 'OrRd', 'OrRd_r', 'Oranges', 'Oranges_r', 'PRGn', 'PRGn_r', 'Paired', 'Paired_r', 'Pastel1', 'Pastel1_r', 'Pastel2', 'Pastel2_r', 'PiYG', 'PiYG_r', 'PuBu', 'PuBuGn', 'PuBuGn_r', 'PuBu_r', 'PuOr', 'PuOr_r', 'PuRd', 'PuRd_r', 'Purples', 'Purples_r', 'RdBu', 'RdBu_r', 'RdGy', 'RdGy_r', 'RdPu', 'RdPu_r', 'RdYlBu', 'RdYlBu_r', 'RdYlGn', 'RdYlGn_r', 'Reds', 'Reds_r', 'Set1', 'Set1_r', 'Set2', 'Set2_r', 'Set3', 'Set3_r', 'Spectral', 'Spectral_r', 'Vega10', 'Vega10_r', 'Vega20', 'Vega20_r', 'Vega20b', 'Vega20b_r', 'Vega20c', 'Vega20c_r', 'Wistia', 'Wistia_r', 'YlGn', 'YlGnBu', 'YlGnBu_r', 'YlGn_r', 'YlOrBr', 'YlOrBr_r', 'YlOrRd', 'YlOrRd_r', 'afmhot', 'afmhot_r', 'autumn', 'autumn_r', 'binary', 'binary_r', 'bone', 'bone_r', 'brg', 'brg_r', 'bwr', 'bwr_r', 'cool', 'cool_r', 'coolwarm', 'coolwarm_r', 'copper', 'copper_r', 'cubehelix', 'cubehelix_r', 'flag', 'flag_r', 'gist_earth', 'gist_earth_r', 'gist_gray', 'gist_gray_r', 'gist_heat', 'gist_heat_r', 'gist_ncar', 'gist_ncar_r', 'gist_rainbow', 'gist_rainbow_r', 'gist_stern', 'gist_stern_r', 'gist_yarg', 'gist_yarg_r', 'gnuplot', 'gnuplot2', 'gnuplot2_r', 'gnuplot_r', 'gray', 'gray_r', 'hot', 'hot_r', 'hsv', 'hsv_r', 'inferno', 'inferno_r', 'jet', 'jet_r', 'magma', 'magma_r', 'nipy_spectral', 'nipy_spectral_r', 'ocean', 'ocean_r', 'pink', 'pink_r', 'plasma', 'plasma_r', 'prism', 'prism_r', 'rainbow', 'rainbow_r', 'seismic', 'seismic_r', 'spectral', 'spectral_r', 'spring', 'spring_r', 'summer', 'summer_r', 'tab10', 'tab10_r', 'tab20', 'tab20_r', 'tab20b', 'tab20b_r', 'tab20c', 'tab20c_r', 'terrain', 'terrain_r', 'viridis', 'viridis_r', 'winter', 'winter_r'), rows=1, value=''), HTML(value='<img src=\"data:image/gif;base64,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\"/>'))), HBox(children=(IntText(value=-1, description='Leftmost color maps to:', style=DescriptionStyle(description_width='initial')), IntText(value=1, description='Rightmost color maps to:', style=DescriptionStyle(description_width='initial')))), IntText(value=0, description='Feature to show:', style=DescriptionStyle(description_width='initial')))), VBox(children=(HTML(value='<p><hr/><h3>input bank:</h3></p>'), Checkbox(value=True, description='Visible'), HBox(children=(Select(description='Colormap:', index=125, options=('', 'Accent', 'Accent_r', 'Blues', 'Blues_r', 'BrBG', 'BrBG_r', 'BuGn', 'BuGn_r', 'BuPu', 'BuPu_r', 'CMRmap', 'CMRmap_r', 'Dark2', 'Dark2_r', 'GnBu', 'GnBu_r', 'Greens', 'Greens_r', 'Greys', 'Greys_r', 'OrRd', 'OrRd_r', 'Oranges', 'Oranges_r', 'PRGn', 'PRGn_r', 'Paired', 'Paired_r', 'Pastel1', 'Pastel1_r', 'Pastel2', 'Pastel2_r', 'PiYG', 'PiYG_r', 'PuBu', 'PuBuGn', 'PuBuGn_r', 'PuBu_r', 'PuOr', 'PuOr_r', 'PuRd', 'PuRd_r', 'Purples', 'Purples_r', 'RdBu', 'RdBu_r', 'RdGy', 'RdGy_r', 'RdPu', 'RdPu_r', 'RdYlBu', 'RdYlBu_r', 'RdYlGn', 'RdYlGn_r', 'Reds', 'Reds_r', 'Set1', 'Set1_r', 'Set2', 'Set2_r', 'Set3', 'Set3_r', 'Spectral', 'Spectral_r', 'Vega10', 'Vega10_r', 'Vega20', 'Vega20_r', 'Vega20b', 'Vega20b_r', 'Vega20c', 'Vega20c_r', 'Wistia', 'Wistia_r', 'YlGn', 'YlGnBu', 'YlGnBu_r', 'YlGn_r', 'YlOrBr', 'YlOrBr_r', 'YlOrRd', 'YlOrRd_r', 'afmhot', 'afmhot_r', 'autumn', 'autumn_r', 'binary', 'binary_r', 'bone', 'bone_r', 'brg', 'brg_r', 'bwr', 'bwr_r', 'cool', 'cool_r', 'coolwarm', 'coolwarm_r', 'copper', 'copper_r', 'cubehelix', 'cubehelix_r', 'flag', 'flag_r', 'gist_earth', 'gist_earth_r', 'gist_gray', 'gist_gray_r', 'gist_heat', 'gist_heat_r', 'gist_ncar', 'gist_ncar_r', 'gist_rainbow', 'gist_rainbow_r', 'gist_stern', 'gist_stern_r', 'gist_yarg', 'gist_yarg_r', 'gnuplot', 'gnuplot2', 'gnuplot2_r', 'gnuplot_r', 'gray', 'gray_r', 'hot', 'hot_r', 'hsv', 'hsv_r', 'inferno', 'inferno_r', 'jet', 'jet_r', 'magma', 'magma_r', 'nipy_spectral', 'nipy_spectral_r', 'ocean', 'ocean_r', 'pink', 'pink_r', 'plasma', 'plasma_r', 'prism', 'prism_r', 'rainbow', 'rainbow_r', 'seismic', 'seismic_r', 'spectral', 'spectral_r', 'spring', 'spring_r', 'summer', 'summer_r', 'tab10', 'tab10_r', 'tab20', 'tab20_r', 'tab20b', 'tab20b_r', 'tab20c', 'tab20c_r', 'terrain', 'terrain_r', 'viridis', 'viridis_r', 'winter', 'winter_r'), rows=1, value='hot'), HTML(value='<img src=\"data:image/gif;base64,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\"/>'))), HBox(children=(IntText(value=0, description='Leftmost color maps to:', style=DescriptionStyle(description_width='initial')), IntText(value=1, description='Rightmost color maps to:', style=DescriptionStyle(description_width='initial')))), IntText(value=0, description='Feature to show:', style=DescriptionStyle(description_width='initial'))))), _titles={'4': 'maxpool2 bank', '2': 'hidden bank', '6': 'maxpool1 bank', '3': 'flatten bank', '5': 'Conv2D-2 bank', '8': 'input bank', '1': 'output bank', '0': 'Network configuration', '7': 'Conv2D-1 bank'}),), layout=Layout(overflow_x='auto', overflow_y='auto', width='95%')), HTML(value='<iframe src=\"https://conx.readthedocs.io\" width=\"100%\" height=\"550px\"></frame>', layout=Layout(width='95%'))), _titles={'2': 'Help', '1': 'Configuration', '0': 'Network'})"
      ]
     },
     "metadata": {},
     "output_type": "display_data"
    },
    {
     "data": {
      "application/javascript": [
       "\n",
       "require(['base/js/namespace'], function(Jupyter) {\n",
       "    Jupyter.notebook.kernel.comm_manager.register_target('conx_svg_control', function(comm, msg) {\n",
       "        comm.on_msg(function(msg) {\n",
       "            var data = msg[\"content\"][\"data\"];\n",
       "            var images = document.getElementsByClassName(data[\"class\"]);\n",
       "            for (var i = 0; i < images.length; i++) {\n",
       "                if (data[\"href\"]) {\n",
       "                    images[i].setAttributeNS(null, \"href\", data[\"href\"]);\n",
       "                }\n",
       "                if (data[\"src\"]) {\n",
       "                    images[i].setAttributeNS(null, \"src\", data[\"src\"]);\n",
       "                }\n",
       "            }\n",
       "        });\n",
       "    });\n",
       "});\n"
      ],
      "text/plain": [
       "<IPython.core.display.Javascript object>"
      ]
     },
     "metadata": {},
     "output_type": "display_data"
    },
    {
     "data": {
      "application/javascript": [
       "\n",
       "require(['base/js/namespace'], function(Jupyter) {\n",
       "    Jupyter.notebook.kernel.comm_manager.register_target('conx_svg_control', function(comm, msg) {\n",
       "        comm.on_msg(function(msg) {\n",
       "            var data = msg[\"content\"][\"data\"];\n",
       "            var images = document.getElementsByClassName(data[\"class\"]);\n",
       "            for (var i = 0; i < images.length; i++) {\n",
       "                if (data[\"href\"]) {\n",
       "                    images[i].setAttributeNS(null, \"href\", data[\"href\"]);\n",
       "                }\n",
       "                if (data[\"src\"]) {\n",
       "                    images[i].setAttributeNS(null, \"src\", data[\"src\"]);\n",
       "                }\n",
       "            }\n",
       "        });\n",
       "    });\n",
       "});\n"
      ],
      "text/plain": [
       "<IPython.core.display.Javascript object>"
      ]
     },
     "metadata": {},
     "output_type": "display_data"
    },
    {
     "data": {
      "application/javascript": [
       "\n",
       "require(['base/js/namespace'], function(Jupyter) {\n",
       "    Jupyter.notebook.kernel.comm_manager.register_target('conx_svg_control', function(comm, msg) {\n",
       "        comm.on_msg(function(msg) {\n",
       "            var data = msg[\"content\"][\"data\"];\n",
       "            var images = document.getElementsByClassName(data[\"class\"]);\n",
       "            for (var i = 0; i < images.length; i++) {\n",
       "                if (data[\"href\"]) {\n",
       "                    images[i].setAttributeNS(null, \"href\", data[\"href\"]);\n",
       "                }\n",
       "                if (data[\"src\"]) {\n",
       "                    images[i].setAttributeNS(null, \"src\", data[\"src\"]);\n",
       "                }\n",
       "            }\n",
       "        });\n",
       "    });\n",
       "});\n"
      ],
      "text/plain": [
       "<IPython.core.display.Javascript object>"
      ]
     },
     "metadata": {},
     "output_type": "display_data"
    },
    {
     "data": {
      "application/javascript": [
       "\n",
       "require(['base/js/namespace'], function(Jupyter) {\n",
       "    Jupyter.notebook.kernel.comm_manager.register_target('conx_svg_control', function(comm, msg) {\n",
       "        comm.on_msg(function(msg) {\n",
       "            var data = msg[\"content\"][\"data\"];\n",
       "            var images = document.getElementsByClassName(data[\"class\"]);\n",
       "            for (var i = 0; i < images.length; i++) {\n",
       "                if (data[\"href\"]) {\n",
       "                    images[i].setAttributeNS(null, \"href\", data[\"href\"]);\n",
       "                }\n",
       "                if (data[\"src\"]) {\n",
       "                    images[i].setAttributeNS(null, \"src\", data[\"src\"]);\n",
       "                }\n",
       "            }\n",
       "        });\n",
       "    });\n",
       "});\n"
      ],
      "text/plain": [
       "<IPython.core.display.Javascript object>"
      ]
     },
     "metadata": {},
     "output_type": "display_data"
    },
    {
     "data": {
      "application/javascript": [
       "\n",
       "require(['base/js/namespace'], function(Jupyter) {\n",
       "    Jupyter.notebook.kernel.comm_manager.register_target('conx_svg_control', function(comm, msg) {\n",
       "        comm.on_msg(function(msg) {\n",
       "            var data = msg[\"content\"][\"data\"];\n",
       "            var images = document.getElementsByClassName(data[\"class\"]);\n",
       "            for (var i = 0; i < images.length; i++) {\n",
       "                if (data[\"href\"]) {\n",
       "                    images[i].setAttributeNS(null, \"href\", data[\"href\"]);\n",
       "                }\n",
       "                if (data[\"src\"]) {\n",
       "                    images[i].setAttributeNS(null, \"src\", data[\"src\"]);\n",
       "                }\n",
       "            }\n",
       "        });\n",
       "    });\n",
       "});\n"
      ],
      "text/plain": [
       "<IPython.core.display.Javascript object>"
      ]
     },
     "metadata": {},
     "output_type": "display_data"
    },
    {
     "data": {
      "application/javascript": [
       "\n",
       "require(['base/js/namespace'], function(Jupyter) {\n",
       "    Jupyter.notebook.kernel.comm_manager.register_target('conx_svg_control', function(comm, msg) {\n",
       "        comm.on_msg(function(msg) {\n",
       "            var data = msg[\"content\"][\"data\"];\n",
       "            var images = document.getElementsByClassName(data[\"class\"]);\n",
       "            for (var i = 0; i < images.length; i++) {\n",
       "                if (data[\"href\"]) {\n",
       "                    images[i].setAttributeNS(null, \"href\", data[\"href\"]);\n",
       "                }\n",
       "                if (data[\"src\"]) {\n",
       "                    images[i].setAttributeNS(null, \"src\", data[\"src\"]);\n",
       "                }\n",
       "            }\n",
       "        });\n",
       "    });\n",
       "});\n"
      ],
      "text/plain": [
       "<IPython.core.display.Javascript object>"
      ]
     },
     "metadata": {},
     "output_type": "display_data"
    },
    {
     "data": {
      "application/javascript": [
       "\n",
       "require(['base/js/namespace'], function(Jupyter) {\n",
       "    Jupyter.notebook.kernel.comm_manager.register_target('conx_svg_control', function(comm, msg) {\n",
       "        comm.on_msg(function(msg) {\n",
       "            var data = msg[\"content\"][\"data\"];\n",
       "            var images = document.getElementsByClassName(data[\"class\"]);\n",
       "            for (var i = 0; i < images.length; i++) {\n",
       "                if (data[\"href\"]) {\n",
       "                    images[i].setAttributeNS(null, \"href\", data[\"href\"]);\n",
       "                }\n",
       "                if (data[\"src\"]) {\n",
       "                    images[i].setAttributeNS(null, \"src\", data[\"src\"]);\n",
       "                }\n",
       "            }\n",
       "        });\n",
       "    });\n",
       "});\n"
      ],
      "text/plain": [
       "<IPython.core.display.Javascript object>"
      ]
     },
     "metadata": {},
     "output_type": "display_data"
    },
    {
     "data": {
      "application/javascript": [
       "\n",
       "require(['base/js/namespace'], function(Jupyter) {\n",
       "    Jupyter.notebook.kernel.comm_manager.register_target('conx_svg_control', function(comm, msg) {\n",
       "        comm.on_msg(function(msg) {\n",
       "            var data = msg[\"content\"][\"data\"];\n",
       "            var images = document.getElementsByClassName(data[\"class\"]);\n",
       "            for (var i = 0; i < images.length; i++) {\n",
       "                if (data[\"href\"]) {\n",
       "                    images[i].setAttributeNS(null, \"href\", data[\"href\"]);\n",
       "                }\n",
       "                if (data[\"src\"]) {\n",
       "                    images[i].setAttributeNS(null, \"src\", data[\"src\"]);\n",
       "                }\n",
       "            }\n",
       "        });\n",
       "    });\n",
       "});\n"
      ],
      "text/plain": [
       "<IPython.core.display.Javascript object>"
      ]
     },
     "metadata": {},
     "output_type": "display_data"
    },
    {
     "data": {
      "application/javascript": [
       "\n",
       "require(['base/js/namespace'], function(Jupyter) {\n",
       "    Jupyter.notebook.kernel.comm_manager.register_target('conx_svg_control', function(comm, msg) {\n",
       "        comm.on_msg(function(msg) {\n",
       "            var data = msg[\"content\"][\"data\"];\n",
       "            var images = document.getElementsByClassName(data[\"class\"]);\n",
       "            for (var i = 0; i < images.length; i++) {\n",
       "                if (data[\"href\"]) {\n",
       "                    images[i].setAttributeNS(null, \"href\", data[\"href\"]);\n",
       "                }\n",
       "                if (data[\"src\"]) {\n",
       "                    images[i].setAttributeNS(null, \"src\", data[\"src\"]);\n",
       "                }\n",
       "            }\n",
       "        });\n",
       "    });\n",
       "});\n"
      ],
      "text/plain": [
       "<IPython.core.display.Javascript object>"
      ]
     },
     "metadata": {},
     "output_type": "display_data"
    },
    {
     "data": {
      "application/javascript": [
       "\n",
       "require(['base/js/namespace'], function(Jupyter) {\n",
       "    Jupyter.notebook.kernel.comm_manager.register_target('conx_svg_control', function(comm, msg) {\n",
       "        comm.on_msg(function(msg) {\n",
       "            var data = msg[\"content\"][\"data\"];\n",
       "            var images = document.getElementsByClassName(data[\"class\"]);\n",
       "            for (var i = 0; i < images.length; i++) {\n",
       "                if (data[\"href\"]) {\n",
       "                    images[i].setAttributeNS(null, \"href\", data[\"href\"]);\n",
       "                }\n",
       "                if (data[\"src\"]) {\n",
       "                    images[i].setAttributeNS(null, \"src\", data[\"src\"]);\n",
       "                }\n",
       "            }\n",
       "        });\n",
       "    });\n",
       "});\n"
      ],
      "text/plain": [
       "<IPython.core.display.Javascript object>"
      ]
     },
     "metadata": {},
     "output_type": "display_data"
    }
   ],
   "source": [
    "net.dashboard()"
   ]
  },
  {
   "cell_type": "code",
   "execution_count": 21,
   "metadata": {},
   "outputs": [
    {
     "data": {
      "application/javascript": [
       "\n",
       "require(['base/js/namespace'], function(Jupyter) {\n",
       "    Jupyter.notebook.kernel.comm_manager.register_target('conx_svg_control', function(comm, msg) {\n",
       "        comm.on_msg(function(msg) {\n",
       "            var data = msg[\"content\"][\"data\"];\n",
       "            var images = document.getElementsByClassName(data[\"class\"]);\n",
       "            for (var i = 0; i < images.length; i++) {\n",
       "                if (data[\"href\"]) {\n",
       "                    images[i].setAttributeNS(null, \"href\", data[\"href\"]);\n",
       "                }\n",
       "                if (data[\"src\"]) {\n",
       "                    images[i].setAttributeNS(null, \"src\", data[\"src\"]);\n",
       "                }\n",
       "            }\n",
       "        });\n",
       "    });\n",
       "});\n"
      ],
      "text/plain": [
       "<IPython.core.display.Javascript object>"
      ]
     },
     "metadata": {},
     "output_type": "display_data"
    },
    {
     "data": {
      "text/html": [
       "<svg id='MNIST-CNN' xmlns='http://www.w3.org/2000/svg' viewBox=\"0 0 650 1347\" height=\"500px\" image-rendering=\"pixelated\">\n",
       "    <defs>\n",
       "        <marker id=\"arrow\" markerWidth=\"10\" markerHeight=\"10\" refX=\"9\" refY=\"3\" orient=\"auto\" markerUnits=\"strokeWidth\">\n",
       "          <path d=\"M0,0 L0,6 L9,3 z\" fill=\"black\" />\n",
       "        </marker>\n",
       "    </defs><text x=\"325.0\" y=\"12.5\" font-family=\"monospace\" font-size=\"15\" text-anchor=\"middle\" alignment-baseline=\"central\">MNIST-CNN</text><rect x=\"224.0\" y=\"29\" width=\"202\" height=\"27\" style=\"fill:none;stroke:black;stroke-width:2\"/><image id=\"snapshot-MNIST-CNN-643699_output_17\" class=\"snapshot-MNIST-CNN-643699_output\" x=\"225.0\" y=\"30\" height=\"25\" width=\"200\" preserveAspectRatio=\"none\" href=\"data:image/gif;base64,R0lGODdhCgABAIcAAMzM/9HR/wAAAAAAAAAAAAAAAAAAAAAAAAAAAAAAAAAAAAAAAAAAAAAAAAAAAAAAAAAAAAAAAAAAAAAAAAAAAAAAAAAAAAAAAAAAAAAAAAAAAAAAAAAAAAAAAAAAAAAAAAAAAAAAAAAAAAAAAAAAAAAAAAAAAAAAAAAAAAAAAAAAAAAAAAAAAAAAAAAAAAAAAAAAAAAAAAAAAAAAAAAAAAAAAAAAAAAAAAAAAAAAAAAAAAAAAAAAAAAAAAAAAAAAAAAAAAAAAAAAAAAAAAAAAAAAAAAAAAAAAAAAAAAAAAAAAAAAAAAAAAAAAAAAAAAAAAAAAAAAAAAAAAAAAAAAAAAAAAAAAAAAAAAAAAAAAAAAAAAAAAAAAAAAAAAAAAAAAAAAAAAAAAAAAAAAAAAAAAAAAAAAAAAAAAAAAAAAAAAAAAAAAAAAAAAAAAAAAAAAAAAAAAAAAAAAAAAAAAAAAAAAAAAAAAAAAAAAAAAAAAAAAAAAAAAAAAAAAAAAAAAAAAAAAAAAAAAAAAAAAAAAAAAAAAAAAAAAAAAAAAAAAAAAAAAAAAAAAAAAAAAAAAAAAAAAAAAAAAAAAAAAAAAAAAAAAAAAAAAAAAAAAAAAAAAAAAAAAAAAAAAAAAAAAAAAAAAAAAAAAAAAAAAAAAAAAAAAAAAAAAAAAAAAAAAAAAAAAAAAAAAAAAAAAAAAAAAAAAAAAAAAAAAAAAAAAAAAAAAAAAAAAAAAAAAAAAAAAAAAAAAAAAAAAAAAAAAAAAAAAAAAAAAAAAAAAAAAAAAAAAAAAAAAAAAAAAAAAAAAAAAAAAAAAAAAAAAAAAAAAAAAAAAAAAAAAAAAAAAAAAAAAAAAAAAAAAAAAAAAAAAAAAAAAAAAAAAAAAAAAAAAAAAAAAAAAAAAAAAAAAAAAAAAAAAAAAAAAAAAAAAAAAAAAAAAAAAAAAAAAAAAAAAAAAAAAAAAAAAAAAAAAAAAAAAAAAAAAAAAAAAAAAAAAAAAAAAAAAAAAAAAAAAAAAAAAAAAACwAAAAACgABAAAIDAABBABAEEAAAAgDAgA7\"><title>Layer: output (output)\n",
       " shape = (10,)\n",
       " Keras class = Dense\n",
       " activation = softmax</title></image><text x=\"430.0\" y=\"44.5\" font-family=\"monospace\" font-size=\"12\" text-anchor=\"start\" alignment-baseline=\"central\">output</text><line x1=\"325.0\" y1=\"84\" x2=\"325.0\" y2=\"57\" stroke=\"black\" stroke-width=\"2\" marker-end=\"url(#arrow)\"><title>Weights from hidden to output\n",
       " output/kernel has shape (1000, 10)\n",
       " output/bias has shape (10,)</title></line><rect x=\"74.0\" y=\"84\" width=\"502\" height=\"34\" style=\"fill:none;stroke:black;stroke-width:2\"/><image id=\"snapshot-MNIST-CNN-643699_hidden_18\" class=\"snapshot-MNIST-CNN-643699_hidden\" x=\"75.0\" y=\"85\" height=\"32\" width=\"500\" preserveAspectRatio=\"none\" href=\"data:image/gif;base64,R0lGODdhfQAIAIcAAP37/efn/9fX/8jI/7i4/6io/5ub/wAAAAAAAAAAAAAAAAAAAAAAAAAAAAAAAAAAAAAAAAAAAAAAAAAAAAAAAAAAAAAAAAAAAAAAAAAAAAAAAAAAAAAAAAAAAAAAAAAAAAAAAAAAAAAAAAAAAAAAAAAAAAAAAAAAAAAAAAAAAAAAAAAAAAAAAAAAAAAAAAAAAAAAAAAAAAAAAAAAAAAAAAAAAAAAAAAAAAAAAAAAAAAAAAAAAAAAAAAAAAAAAAAAAAAAAAAAAAAAAAAAAAAAAAAAAAAAAAAAAAAAAAAAAAAAAAAAAAAAAAAAAAAAAAAAAAAAAAAAAAAAAAAAAAAAAAAAAAAAAAAAAAAAAAAAAAAAAAAAAAAAAAAAAAAAAAAAAAAAAAAAAAAAAAAAAAAAAAAAAAAAAAAAAAAAAAAAAAAAAAAAAAAAAAAAAAAAAAAAAAAAAAAAAAAAAAAAAAAAAAAAAAAAAAAAAAAAAAAAAAAAAAAAAAAAAAAAAAAAAAAAAAAAAAAAAAAAAAAAAAAAAAAAAAAAAAAAAAAAAAAAAAAAAAAAAAAAAAAAAAAAAAAAAAAAAAAAAAAAAAAAAAAAAAAAAAAAAAAAAAAAAAAAAAAAAAAAAAAAAAAAAAAAAAAAAAAAAAAAAAAAAAAAAAAAAAAAAAAAAAAAAAAAAAAAAAAAAAAAAAAAAAAAAAAAAAAAAAAAAAAAAAAAAAAAAAAAAAAAAAAAAAAAAAAAAAAAAAAAAAAAAAAAAAAAAAAAAAAAAAAAAAAAAAAAAAAAAAAAAAAAAAAAAAAAAAAAAAAAAAAAAAAAAAAAAAAAAAAAAAAAAAAAAAAAAAAAAAAAAAAAAAAAAAAAAAAAAAAAAAAAAAAAAAAAAAAAAAAAAAAAAAAAAAAAAAAAAAAAAAAAAAAAAAAAAAAAAAAAAAAAAAAAAAAAAAAAAAAAAAAAAAAAAAAAAAAAAAAAAAAAAAAAAAAAAAAAAAAAAAAAAAAAAAAAAAAAAAAAAAAAAAAAAAAAAAAAACwAAAAAfQAIAAAI/wAFABgIIACAAAASCgAQAAAAAgIAEABAUQCAiwAEAAAQAACAAQAACAAgAEAAAAACACgQAIAAADAHAJgZAIAAADgHANgJIAAAAAEACAUgQAAAAAIAEAAAQACApwMASJ0KYECAAgAEABAQAIDXrwACFABAtqwAAGjTBiAgAIBbAAIMACgQAAAAAgIEDABAYAAAAAMABAAgAEAAAIgTAyAAoLHjx5AbBwAwAIDly5gzYxYAQACAzwAGBABAugAAAAMABAAQYIAAAQMCAJgdYEAAAAACABAQoDeAAAQACB9OPAAAAQAACAAAgACA588FAAAQAEABAAQEFADAvXv3AADCh/8XEKA8AAIDAgBYzx5AAAADAMifD0AAAAEBBADYDyAAAIAAABAQAMAgAAEAAAQA0FAAgQEAJAoQEAAAgAEEBgDgKADAx48FAgAAEADAyZMBAgAIIADASwEBAMykWdNmAAACBADgCUBAAABBBQAgGiAAAKRIBQAYAMCpUwEADAQAECAAAKxYBQAAEADAV7ABBggAACDAAAABBABg2zYAALhx4QYAMADA3bsBAOwlICCAAACBAwsAUNgwgAADACweAGAAgAAABACgTHlAAAAAAgDgTKAAANAAAgQAQAAAAAEACgBg3Zr1AAEAAAgAUDtAAAEAdO8OACCAAAEAhA8XPgD/AIABAQoAYD4AAAABAwQAoC4AAIEAALQLANAdQIAAAMQPAACAAAD0AQCsZ98egAAA8eULACBAQAAABgAAKAAgAEAAAAIAGAAAQAACAwAAGAAgQAAAAgAEAAAgQAAAAAgAEADg48cBIgGQDABAAICUKlcCCBAAAAABAGYKAGDzps0BAHYGAEAAwAAAAwYAEADg6FEBAAYAaNpUQAAAUqUKEADgKlYAAgAACADga4CwAAAIACAgAAAAAQCwDSAgAIAAAAAIAGD3LgABAAYA6Ns3AIDAAAQAKDwggIEAABYzbiwAAIAABABQrkw5AIDMmQMMCAAgQAAABQgAKA1AAIAAeAAABBgA4DUAAQBmBwAQAAAAAQAADAAAgECAAAMAABAQYACAAAAGAGjuPAB0AAAGABgAAEAAAAEAcB8AIAAAAAEAkAcQAAB6AAIGABAA4D0AAQEA0CcAAEAAAPoBCAAAAGCAAAAICgBwEEAAAAACAHAIYAAAiQACAgA7\"><title>Layer: hidden (hidden)\n",
       " shape = (1000,)\n",
       " Keras class = Dense\n",
       " activation = relu</title></image><text x=\"580.0\" y=\"103.0\" font-family=\"monospace\" font-size=\"12\" text-anchor=\"start\" alignment-baseline=\"central\">hidden</text><line x1=\"325.0\" y1=\"146\" x2=\"325.0\" y2=\"119\" stroke=\"black\" stroke-width=\"2\" marker-end=\"url(#arrow)\"><title>Weights from flatten to hidden\n",
       " hidden/kernel has shape (2112, 1000)\n",
       " hidden/bias has shape (1000,)</title></line><rect x=\"224.0\" y=\"146\" width=\"202\" height=\"27\" style=\"fill:none;stroke:black;stroke-width:2\"/><image id=\"snapshot-MNIST-CNN-643699_flatten_19\" class=\"snapshot-MNIST-CNN-643699_flatten\" x=\"225.0\" y=\"147\" height=\"25\" width=\"200\" preserveAspectRatio=\"none\" href=\"data:image/gif;base64,R0lGODdhQAgBAIcAAPv6/efn/9fX/8fH/7e3/6en/5iY/3Fx/wAAAAAAAAAAAAAAAAAAAAAAAAAAAAAAAAAAAAAAAAAAAAAAAAAAAAAAAAAAAAAAAAAAAAAAAAAAAAAAAAAAAAAAAAAAAAAAAAAAAAAAAAAAAAAAAAAAAAAAAAAAAAAAAAAAAAAAAAAAAAAAAAAAAAAAAAAAAAAAAAAAAAAAAAAAAAAAAAAAAAAAAAAAAAAAAAAAAAAAAAAAAAAAAAAAAAAAAAAAAAAAAAAAAAAAAAAAAAAAAAAAAAAAAAAAAAAAAAAAAAAAAAAAAAAAAAAAAAAAAAAAAAAAAAAAAAAAAAAAAAAAAAAAAAAAAAAAAAAAAAAAAAAAAAAAAAAAAAAAAAAAAAAAAAAAAAAAAAAAAAAAAAAAAAAAAAAAAAAAAAAAAAAAAAAAAAAAAAAAAAAAAAAAAAAAAAAAAAAAAAAAAAAAAAAAAAAAAAAAAAAAAAAAAAAAAAAAAAAAAAAAAAAAAAAAAAAAAAAAAAAAAAAAAAAAAAAAAAAAAAAAAAAAAAAAAAAAAAAAAAAAAAAAAAAAAAAAAAAAAAAAAAAAAAAAAAAAAAAAAAAAAAAAAAAAAAAAAAAAAAAAAAAAAAAAAAAAAAAAAAAAAAAAAAAAAAAAAAAAAAAAAAAAAAAAAAAAAAAAAAAAAAAAAAAAAAAAAAAAAAAAAAAAAAAAAAAAAAAAAAAAAAAAAAAAAAAAAAAAAAAAAAAAAAAAAAAAAAAAAAAAAAAAAAAAAAAAAAAAAAAAAAAAAAAAAAAAAAAAAAAAAAAAAAAAAAAAAAAAAAAAAAAAAAAAAAAAAAAAAAAAAAAAAAAAAAAAAAAAAAAAAAAAAAAAAAAAAAAAAAAAAAAAAAAAAAAAAAAAAAAAAAAAAAAAAAAAAAAAAAAAAAAAAAAAAAAAAAAAAAAAAAAAAAAAAAAAAAAAAAAAAAAAAAAAAAAAAAAAAAAAAAAAAAAAAAAAAAAAAAAAAAAAAAAAAAAAAAAAAAAAAAAAAAAAACwAAAAAQAgBAAAI/wAFAAgAoGBBAQAEKAQAIEAAAAAEAAAgQACAAAAACBAAYECAAAMCFBgQAIAAAAECEADAMgCAlzAFAJg5c0AAADgDDAAQIMCAAAACABg6NAAAAQACCAAQIMAAAAEACAggAACAAQEAaAUwAIDXr18HABAAoGzZAAIAABgQAACAAQEEAJhLFwABAAPyCgAgAIAAAAMCACAQAEAAAAEGAAAQgEAAAQAIDBAQQACBAAEGANg8AIDnzwIAiBYQgEAAAAMGBBgQQACAAgIADAAQAACAAAIACAAAgAAAAQIGBAgAIICAAAAADBAAoDkAAQAABJgOoHqAAQAABAAAIAAAAAIAEP8oEEBAgAADBKgHwF4AgAIBBBAQMABAAAACABQIAKCAAIAAAgQYMADAwQICBAAYEGAAAAEDAgQoAMDiAAAZNRIA0HGAAAEABAwQAKBAAAEACAAAEADAy5cDAAwAAGAAAAEBDAQIAEAAgAIBAggIEADA0QAAAAQAMADA0wEDAAAIAABAAAAAAgAoQCCAgAAABIwVAABAAAAABgAIIIDAAAABAAQAUCAAgAEAAAQAMEAAAMADBAgAIEDAgAACFAcQEABAgAEAJE8WECAAgAEBBAAQQEAAgAEBAgAYAABAAAABAAQIMCBAAAAABACgXYBAAAACABAIEABAgAAAhAcIAMD/OAEAyQUIAAAgAAAAAQAAEABgwAAAAgAECAAAAAEA4QEIEAAgQAAAAAIACAAAwAAAAAYQAFC/fgAA+QMIACCgAMAAAAIAKDgAAEIBAQIAaAhgAICIAAIMAGARQAABAQQAABAAAMgAAEYGACAAQIABAAIMIADgpYAAAgAACCAgAICcOQMEABAgAICgAgAEAGAUQAAAAgAAEABAQIABAgYEGAAAgAAAAAYACOBVANgAAAAYAACAwAAAAgAAEBAAAAABAAAEGEAgAF4AegcA6CsAAODABAQMABAAgIAAAAYEAFAAAIEBAwIAGABgAAAABAIAGAAAQAEAAwQUGAAAgAAA/wEAABAgAADsAAMABAAQ4DaA3AMCAOgNIAAAAAMAACAAIMCAAAAGBBAAIIAAAAAEABAQIEABAAMABABQAACAAQEACAAAIACA9AYAsA8QAEAAAAIADBgAAEAAAgACAOgPAKAAAAIADAgQYAAAAQMAFAAgAEABAQEIABAAIICAAQACAABAAMCAAQUMCAAgAEAAAAIAtHQpAEBMAgEA1AQgAEDOnAEEAPAZwICAAAEADAAAIAAAAAIAABAQYMCAAAIADABwlUAAAFsBBPAaAEBYAgDIAhgQAACAAQAEBAAAIEAAAHPpCggQAIAAAAACBBAwAACBAAMACAAgIAAAxQAECP8A8BjAAAABBBQgEACAAAADAgQAACAAANGjAQwIACAAAAECALQOAEAAANkCAggAcBuAgAC7AfQGICAAgAAAiAMIEAAAAAEAmAcAEABAdOnSAwQYEAA7AAABBgDwHgA8AAABAAgAEABAevXqAwQQACBAAADzAQQAEEAAAP0BBAgIABBAAAABAAQIACChQoUBAAQAEEAAgIkAAgQAgDEjRgEABAAAECAkAAADAAAIAAAAAQABAggAADMmAQAABAQAECAAAAABAAAIEEBAAAIDAAAYEABAAAIAmgoQACAqAQAFAAQAEACAAAEAAAQIMEBAAAEDAgQAgBZtAAEA2gooIED/wIADAAIACIAXQIAAAgIA+BsAAIAAAAIEAIBYQAABABoDEABAwAAABQAEABBgAIEBAwAAICAAwAAAAggQGABAAIAAAAoEADBAAAAAAQAEABBgQAEAAQAM+A0gQAAAAwYAOB4gAIDlAgAUACAAgPQBAwAIKBCAQIABAggAADAAgHgAAgYAEAAAAAEAAwYYCAAAwAAAAgAIGCAAgH4AAgD4BygAAIAAAAAMCABAIQABAQAEAACgAACKAAIMABAAgIABAQAEGCBggIABAAYAEABAgAAALVsGgAlAJoEAAAAEABAgAAABAQQEABBU6FABAgAcDQAgAAACAgAICCAAwAAA/wEEBBAAAMCAAQAEAAAgAMDYAQIAAAgAQAAAAQAABAAQVy4AAQAACAAgIAAAvnwFAAAcQEABAIUBDBAQAMDiAAAABAAgYMCAAAAGAMCcGYAAAJ0BBAgAIMAAAAEECACQWrUAAgBcvw4AIACAAQBs2w4gAACAAAAGCAgAIEAAAMWNAxAAIACAAAMADAhQAIAAAAEEBAAAYEAA7gAABAAQHoAAAOUBDAgAIAAAAAICCAAgAAABAPUBDBAAIAAAAAEAAAQwIAABAQYBDAggAECAAAAEDAAAIICAAAAABCAQQACAAgQEBBAwQMCAAgIAoEQpAEAAAAUAwBQgIEAAAAEEAP8gEEAAAAECAAANCmAAgAAAABQAMCBAAQBOBQgYICDAAAACAGAVAABAAAACAgAAIIBAAAACAAAQEABAAAECCgCIO2BAAAAEAAAYAADAgAABBggYAEBAAAEABAQAQEAAgMYDAgCITECAAAADCBAIIIBAAAAFBAAIEAAAaQABAAwQAACAgAEBXgsIAKBAgAAABAAAEACAAAC+AwAQAAAAAQAAAhQIAADAAAAEBAAgAGD6dAEBAAQAEAAAdwEDAIAHHyAAAAEABBQAMAAAgAECAgwAIEAAAAAEAgQYIGAAgAAAAAIAMEAAAAIAAAQAACAAgAAABgQAAEBAgAEAAggIEABXQMcAAQCEFBlgAAAAAgCkFFBAAAACAAQAIAAAgAAAAQAAECAgwAAAAAQACCBgwIAAAAQACLAUQAAATwEECAAggIAAAAIAEACAa9euAQAICAAgQAAAAAICADs=\"><title>Layer: flatten (hidden)\n",
       " Keras class = Flatten</title></image><text x=\"430.0\" y=\"161.5\" font-family=\"monospace\" font-size=\"12\" text-anchor=\"start\" alignment-baseline=\"central\">flatten</text><line x1=\"325.0\" y1=\"201\" x2=\"325.0\" y2=\"174\" stroke=\"black\" stroke-width=\"2\" marker-end=\"url(#arrow)\"><title>Weights from maxpool2 to flatten</title></line><rect x=\"224.0\" y=\"201\" width=\"202\" height=\"202\" style=\"fill:none;stroke:black;stroke-width:2\"/><image id=\"snapshot-MNIST-CNN-643699_maxpool2_20\" class=\"snapshot-MNIST-CNN-643699_maxpool2\" x=\"225.0\" y=\"202\" height=\"200\" width=\"200\" preserveAspectRatio=\"none\" href=\"data:image/gif;base64,R0lGODdhBAAEAIcAANfX/8bG//X1/unp/7m5/wAAAAAAAAAAAAAAAAAAAAAAAAAAAAAAAAAAAAAAAAAAAAAAAAAAAAAAAAAAAAAAAAAAAAAAAAAAAAAAAAAAAAAAAAAAAAAAAAAAAAAAAAAAAAAAAAAAAAAAAAAAAAAAAAAAAAAAAAAAAAAAAAAAAAAAAAAAAAAAAAAAAAAAAAAAAAAAAAAAAAAAAAAAAAAAAAAAAAAAAAAAAAAAAAAAAAAAAAAAAAAAAAAAAAAAAAAAAAAAAAAAAAAAAAAAAAAAAAAAAAAAAAAAAAAAAAAAAAAAAAAAAAAAAAAAAAAAAAAAAAAAAAAAAAAAAAAAAAAAAAAAAAAAAAAAAAAAAAAAAAAAAAAAAAAAAAAAAAAAAAAAAAAAAAAAAAAAAAAAAAAAAAAAAAAAAAAAAAAAAAAAAAAAAAAAAAAAAAAAAAAAAAAAAAAAAAAAAAAAAAAAAAAAAAAAAAAAAAAAAAAAAAAAAAAAAAAAAAAAAAAAAAAAAAAAAAAAAAAAAAAAAAAAAAAAAAAAAAAAAAAAAAAAAAAAAAAAAAAAAAAAAAAAAAAAAAAAAAAAAAAAAAAAAAAAAAAAAAAAAAAAAAAAAAAAAAAAAAAAAAAAAAAAAAAAAAAAAAAAAAAAAAAAAAAAAAAAAAAAAAAAAAAAAAAAAAAAAAAAAAAAAAAAAAAAAAAAAAAAAAAAAAAAAAAAAAAAAAAAAAAAAAAAAAAAAAAAAAAAAAAAAAAAAAAAAAAAAAAAAAAAAAAAAAAAAAAAAAAAAAAAAAAAAAAAAAAAAAAAAAAAAAAAAAAAAAAAAAAAAAAAAAAAAAAAAAAAAAAAAAAAAAAAAAAAAAAAAAAAAAAAAAAAAAAAAAAAAAAAAAAAAAAAAAAAAAAAAAAAAAAAAAAAAAAAAAAAAAAAAAAAAAAAAAAAAAAAAAAAAAAAAAAAAAAAAAAAAAAAAAAAAAAAAAAAAAAAAAAAAAAAAAAAAAAAAAAAAAAAAAAAAAAAAAAAAAAAAAAAAAAAACwAAAAABAAEAAAIFAABCAQgIEAAAQMEEAgAAMAAAAEBADs=\"><title>Layer: maxpool2 (hidden)\n",
       " Keras class = MaxPooling2D</title></image><text x=\"430.0\" y=\"304.0\" font-family=\"monospace\" font-size=\"12\" text-anchor=\"start\" alignment-baseline=\"central\">maxpool2</text><text x=\"430.0\" y=\"207\" font-family=\"monospace\" font-size=\"12\" text-anchor=\"start\" alignment-baseline=\"central\">132</text><text x=\"213.0\" y=\"397\" font-family=\"monospace\" font-size=\"12\" text-anchor=\"start\" alignment-baseline=\"central\">0</text><line x1=\"325.0\" y1=\"431\" x2=\"325.0\" y2=\"404\" stroke=\"black\" stroke-width=\"2\" marker-end=\"url(#arrow)\"><title>Weights from Conv2D-2 to maxpool2</title></line><rect x=\"224.0\" y=\"431\" width=\"202\" height=\"202\" style=\"fill:none;stroke:black;stroke-width:2\"/><image id=\"snapshot-MNIST-CNN-643699_Conv2D-2_21\" class=\"snapshot-MNIST-CNN-643699_Conv2D-2\" x=\"225.0\" y=\"432\" height=\"200\" width=\"200\" preserveAspectRatio=\"none\" href=\"data:image/gif;base64,R0lGODdhCAAIAIcAAPn5/ujo/9nZ/8XF/7m5/wAAAAAAAAAAAAAAAAAAAAAAAAAAAAAAAAAAAAAAAAAAAAAAAAAAAAAAAAAAAAAAAAAAAAAAAAAAAAAAAAAAAAAAAAAAAAAAAAAAAAAAAAAAAAAAAAAAAAAAAAAAAAAAAAAAAAAAAAAAAAAAAAAAAAAAAAAAAAAAAAAAAAAAAAAAAAAAAAAAAAAAAAAAAAAAAAAAAAAAAAAAAAAAAAAAAAAAAAAAAAAAAAAAAAAAAAAAAAAAAAAAAAAAAAAAAAAAAAAAAAAAAAAAAAAAAAAAAAAAAAAAAAAAAAAAAAAAAAAAAAAAAAAAAAAAAAAAAAAAAAAAAAAAAAAAAAAAAAAAAAAAAAAAAAAAAAAAAAAAAAAAAAAAAAAAAAAAAAAAAAAAAAAAAAAAAAAAAAAAAAAAAAAAAAAAAAAAAAAAAAAAAAAAAAAAAAAAAAAAAAAAAAAAAAAAAAAAAAAAAAAAAAAAAAAAAAAAAAAAAAAAAAAAAAAAAAAAAAAAAAAAAAAAAAAAAAAAAAAAAAAAAAAAAAAAAAAAAAAAAAAAAAAAAAAAAAAAAAAAAAAAAAAAAAAAAAAAAAAAAAAAAAAAAAAAAAAAAAAAAAAAAAAAAAAAAAAAAAAAAAAAAAAAAAAAAAAAAAAAAAAAAAAAAAAAAAAAAAAAAAAAAAAAAAAAAAAAAAAAAAAAAAAAAAAAAAAAAAAAAAAAAAAAAAAAAAAAAAAAAAAAAAAAAAAAAAAAAAAAAAAAAAAAAAAAAAAAAAAAAAAAAAAAAAAAAAAAAAAAAAAAAAAAAAAAAAAAAAAAAAAAAAAAAAAAAAAAAAAAAAAAAAAAAAAAAAAAAAAAAAAAAAAAAAAAAAAAAAAAAAAAAAAAAAAAAAAAAAAAAAAAAAAAAAAAAAAAAAAAAAAAAAAAAAAAAAAAAAAAAAAAAAAAAAAAAAAAAAAAAAAAAAAAAAAAAAAAAAAAAAAAAAAAAAAAAAAAAAAAAAAAAAAAAAAAAAAAAAAAAAAAACwAAAAACAAIAAAIOwADCBgoIACAAAACBBAgIIAAABADABAAoKLFAQMCANjIcUCAjwEAiAxAYEAAACgBBAggIICAlwFixgwIADs=\"><title>Layer: Conv2D-2 (hidden)\n",
       " Keras class = Conv2D\n",
       " activation = relu</title></image><text x=\"430.0\" y=\"534.0\" font-family=\"monospace\" font-size=\"12\" text-anchor=\"start\" alignment-baseline=\"central\">Conv2D-2</text><text x=\"430.0\" y=\"437\" font-family=\"monospace\" font-size=\"12\" text-anchor=\"start\" alignment-baseline=\"central\">132</text><text x=\"213.0\" y=\"627\" font-family=\"monospace\" font-size=\"12\" text-anchor=\"start\" alignment-baseline=\"central\">0</text><line x1=\"325.0\" y1=\"661\" x2=\"325.0\" y2=\"634\" stroke=\"black\" stroke-width=\"2\" marker-end=\"url(#arrow)\"><title>Weights from maxpool1 to Conv2D-2\n",
       " Conv2D-2/kernel has shape (5, 5, 16, 132)\n",
       " Conv2D-2/bias has shape (132,)</title></line><rect x=\"224.0\" y=\"661\" width=\"202\" height=\"202\" style=\"fill:none;stroke:black;stroke-width:2\"/><image id=\"snapshot-MNIST-CNN-643699_maxpool1_22\" class=\"snapshot-MNIST-CNN-643699_maxpool1\" x=\"225.0\" y=\"662\" height=\"200\" width=\"200\" preserveAspectRatio=\"none\" href=\"data:image/gif;base64,R0lGODdhDAAMAIcAAP37/dXV/5eX/+bm/6en/7i4/8vL/319/4mJ/wAAAAAAAAAAAAAAAAAAAAAAAAAAAAAAAAAAAAAAAAAAAAAAAAAAAAAAAAAAAAAAAAAAAAAAAAAAAAAAAAAAAAAAAAAAAAAAAAAAAAAAAAAAAAAAAAAAAAAAAAAAAAAAAAAAAAAAAAAAAAAAAAAAAAAAAAAAAAAAAAAAAAAAAAAAAAAAAAAAAAAAAAAAAAAAAAAAAAAAAAAAAAAAAAAAAAAAAAAAAAAAAAAAAAAAAAAAAAAAAAAAAAAAAAAAAAAAAAAAAAAAAAAAAAAAAAAAAAAAAAAAAAAAAAAAAAAAAAAAAAAAAAAAAAAAAAAAAAAAAAAAAAAAAAAAAAAAAAAAAAAAAAAAAAAAAAAAAAAAAAAAAAAAAAAAAAAAAAAAAAAAAAAAAAAAAAAAAAAAAAAAAAAAAAAAAAAAAAAAAAAAAAAAAAAAAAAAAAAAAAAAAAAAAAAAAAAAAAAAAAAAAAAAAAAAAAAAAAAAAAAAAAAAAAAAAAAAAAAAAAAAAAAAAAAAAAAAAAAAAAAAAAAAAAAAAAAAAAAAAAAAAAAAAAAAAAAAAAAAAAAAAAAAAAAAAAAAAAAAAAAAAAAAAAAAAAAAAAAAAAAAAAAAAAAAAAAAAAAAAAAAAAAAAAAAAAAAAAAAAAAAAAAAAAAAAAAAAAAAAAAAAAAAAAAAAAAAAAAAAAAAAAAAAAAAAAAAAAAAAAAAAAAAAAAAAAAAAAAAAAAAAAAAAAAAAAAAAAAAAAAAAAAAAAAAAAAAAAAAAAAAAAAAAAAAAAAAAAAAAAAAAAAAAAAAAAAAAAAAAAAAAAAAAAAAAAAAAAAAAAAAAAAAAAAAAAAAAAAAAAAAAAAAAAAAAAAAAAAAAAAAAAAAAAAAAAAAAAAAAAAAAAAAAAAAAAAAAAAAAAAAAAAAAAAAAAAAAAAAAAAAAAAAAAAAAAAAAAAAAAAAAAAAAAAAAAAAAAAAAAAAAAAAAAAAAAAAAAAAAAAAAAAAACwAAAAADAAMAAAIfQABCBxooEAAAQASAhCAgACBAgYKFABAEQABAgYGANi4cQCAjyA/BgAQIACAkwACCCAAwACAlzBfCjhQAIDNmzgDCAgAoKdPAAEECBgQAIDRowQEEBgAAMAAAAACCBBAAIBVAAMMAABQQMAAAGAHBAgAoKxZAAMCBADAlm1AADs=\"><title>Layer: maxpool1 (hidden)\n",
       " Keras class = MaxPooling2D</title></image><text x=\"430.0\" y=\"764.0\" font-family=\"monospace\" font-size=\"12\" text-anchor=\"start\" alignment-baseline=\"central\">maxpool1</text><text x=\"430.0\" y=\"667\" font-family=\"monospace\" font-size=\"12\" text-anchor=\"start\" alignment-baseline=\"central\">16</text><text x=\"213.0\" y=\"857\" font-family=\"monospace\" font-size=\"12\" text-anchor=\"start\" alignment-baseline=\"central\">0</text><line x1=\"325.0\" y1=\"891\" x2=\"325.0\" y2=\"864\" stroke=\"black\" stroke-width=\"2\" marker-end=\"url(#arrow)\"><title>Weights from Conv2D-1 to maxpool1</title></line><rect x=\"224.0\" y=\"891\" width=\"202\" height=\"202\" style=\"fill:none;stroke:black;stroke-width:2\"/><image id=\"snapshot-MNIST-CNN-643699_Conv2D-1_23\" class=\"snapshot-MNIST-CNN-643699_Conv2D-1\" x=\"225.0\" y=\"892\" height=\"200\" width=\"200\" preserveAspectRatio=\"none\" href=\"data:image/gif;base64,R0lGODdhGAAYAIcAAP78/efn/9bW/7m5/6io/8nJ/5eX/4mJ/319/wAAAAAAAAAAAAAAAAAAAAAAAAAAAAAAAAAAAAAAAAAAAAAAAAAAAAAAAAAAAAAAAAAAAAAAAAAAAAAAAAAAAAAAAAAAAAAAAAAAAAAAAAAAAAAAAAAAAAAAAAAAAAAAAAAAAAAAAAAAAAAAAAAAAAAAAAAAAAAAAAAAAAAAAAAAAAAAAAAAAAAAAAAAAAAAAAAAAAAAAAAAAAAAAAAAAAAAAAAAAAAAAAAAAAAAAAAAAAAAAAAAAAAAAAAAAAAAAAAAAAAAAAAAAAAAAAAAAAAAAAAAAAAAAAAAAAAAAAAAAAAAAAAAAAAAAAAAAAAAAAAAAAAAAAAAAAAAAAAAAAAAAAAAAAAAAAAAAAAAAAAAAAAAAAAAAAAAAAAAAAAAAAAAAAAAAAAAAAAAAAAAAAAAAAAAAAAAAAAAAAAAAAAAAAAAAAAAAAAAAAAAAAAAAAAAAAAAAAAAAAAAAAAAAAAAAAAAAAAAAAAAAAAAAAAAAAAAAAAAAAAAAAAAAAAAAAAAAAAAAAAAAAAAAAAAAAAAAAAAAAAAAAAAAAAAAAAAAAAAAAAAAAAAAAAAAAAAAAAAAAAAAAAAAAAAAAAAAAAAAAAAAAAAAAAAAAAAAAAAAAAAAAAAAAAAAAAAAAAAAAAAAAAAAAAAAAAAAAAAAAAAAAAAAAAAAAAAAAAAAAAAAAAAAAAAAAAAAAAAAAAAAAAAAAAAAAAAAAAAAAAAAAAAAAAAAAAAAAAAAAAAAAAAAAAAAAAAAAAAAAAAAAAAAAAAAAAAAAAAAAAAAAAAAAAAAAAAAAAAAAAAAAAAAAAAAAAAAAAAAAAAAAAAAAAAAAAAAAAAAAAAAAAAAAAAAAAAAAAAAAAAAAAAAAAAAAAAAAAAAAAAAAAAAAAAAAAAAAAAAAAAAAAAAAAAAAAAAAAAAAAAAAAAAAAAAAAAAAAAAAAAAAAAAAAAAAAAAAAAAAAAAAAAAAAAAAAAAAAAAAAAAAAAACwAAAAAGAAYAEAI/wABCBxIsKDBgwUFDAgAoCGAAgEASJxIcWKAAQYICAgQAIBHAAEAiBw5MgABAgMKCAgAoKXLlzBjwhQwgACAmzhvBhhgoEAAAECDCg0gQACAo0iTHg1QYACBpwMGFBAgYMCAAACyat3KtavWAAIEABhLtuxYAwgKAFjLtq3btwEAAAgQQACAu3jzChhggIAAAIADCw4QAIDhw4gTAxAgAIDjx5AjSwYQoMAAAQEEGCAAoLPnzgUMHCBQoMCAAQIKBBAAoLXr17ADAJhNu3btAABy697NO7cAAMCDCx8OnIABAgCSAwgAoLnz59CdGzgwIACA69iza98OoIABAQDCi0kfTx6AgAEGDABYHwCA+/fw3xcgYKAAgPv48+sXQMAAAYACAAQAUNCgwQAFAgBg2NDhQ4YBBAgAUNHiRYwVAwgQEADAR5AhAQQEADs=\"><title>Layer: Conv2D-1 (hidden)\n",
       " Keras class = Conv2D\n",
       " activation = relu</title></image><text x=\"430.0\" y=\"994.0\" font-family=\"monospace\" font-size=\"12\" text-anchor=\"start\" alignment-baseline=\"central\">Conv2D-1</text><text x=\"430.0\" y=\"897\" font-family=\"monospace\" font-size=\"12\" text-anchor=\"start\" alignment-baseline=\"central\">16</text><text x=\"213.0\" y=\"1087\" font-family=\"monospace\" font-size=\"12\" text-anchor=\"start\" alignment-baseline=\"central\">0</text><line x1=\"325.0\" y1=\"1121\" x2=\"325.0\" y2=\"1094\" stroke=\"black\" stroke-width=\"2\" marker-end=\"url(#arrow)\"><title>Weights from input to Conv2D-1\n",
       " Conv2D-1/kernel has shape (5, 5, 1, 16)\n",
       " Conv2D-1/bias has shape (16,)</title></line><rect x=\"224.0\" y=\"1121\" width=\"202\" height=\"202\" style=\"fill:none;stroke:black;stroke-width:2\"/><image id=\"snapshot-MNIST-CNN-643699_input_24\" class=\"snapshot-MNIST-CNN-643699_input\" x=\"225.0\" y=\"1122\" height=\"200\" width=\"200\" preserveAspectRatio=\"none\" href=\"data:image/gif;base64,R0lGODdhHAAcAIcAAAoAAP//9jAAAP/8DP//z00AANcAAPMAAG4AAI0AAP+aAP9nAP/MAP//jbMAAP9yAP/pAP//T///c/8lAP9XAP+qAP//Mv82AP9EAP+/AP/WAP//vAAAAAAAAAAAAAAAAAAAAAAAAAAAAAAAAAAAAAAAAAAAAAAAAAAAAAAAAAAAAAAAAAAAAAAAAAAAAAAAAAAAAAAAAAAAAAAAAAAAAAAAAAAAAAAAAAAAAAAAAAAAAAAAAAAAAAAAAAAAAAAAAAAAAAAAAAAAAAAAAAAAAAAAAAAAAAAAAAAAAAAAAAAAAAAAAAAAAAAAAAAAAAAAAAAAAAAAAAAAAAAAAAAAAAAAAAAAAAAAAAAAAAAAAAAAAAAAAAAAAAAAAAAAAAAAAAAAAAAAAAAAAAAAAAAAAAAAAAAAAAAAAAAAAAAAAAAAAAAAAAAAAAAAAAAAAAAAAAAAAAAAAAAAAAAAAAAAAAAAAAAAAAAAAAAAAAAAAAAAAAAAAAAAAAAAAAAAAAAAAAAAAAAAAAAAAAAAAAAAAAAAAAAAAAAAAAAAAAAAAAAAAAAAAAAAAAAAAAAAAAAAAAAAAAAAAAAAAAAAAAAAAAAAAAAAAAAAAAAAAAAAAAAAAAAAAAAAAAAAAAAAAAAAAAAAAAAAAAAAAAAAAAAAAAAAAAAAAAAAAAAAAAAAAAAAAAAAAAAAAAAAAAAAAAAAAAAAAAAAAAAAAAAAAAAAAAAAAAAAAAAAAAAAAAAAAAAAAAAAAAAAAAAAAAAAAAAAAAAAAAAAAAAAAAAAAAAAAAAAAAAAAAAAAAAAAAAAAAAAAAAAAAAAAAAAAAAAAAAAAAAAAAAAAAAAAAAAAAAAAAAAAAAAAAAAAAAAAAAAAAAAAAAAAAAAAAAAAAAAAAAAAAAAAAAAAAAAAAAAAAAAAAAAAAAAAAAAAAAAAAAAAAAAAAAAAAAAAAAAAAAAAAAAAAAAAAAAAAAAAAAAAAAAAAAAAAAAAAAAAAAAAAAAAAAAAAAAAAAAAAAAAAAAAAAAACwAAAAAHAAcAEAI/wABCBxIsKDBgwcFSAjAkOEACAQIAJhIsaLFixUFHAgQYACAjyBDfnwQoGSEBQsEAFjJsqXLlzBjypwpYEAAAwBy6tzJs2fOAhckBBgawIIBAEiTKl3KtKnTpwUQHFDAIIBVqw0YBCAwwAGAr2DDghUAQEGAAwDSql3Ltm1bAwQCBMBQAIDdu3jz6rWbYAGEAAEiABhMuHBhAQwkBFgcYIABAQAiS55MubLly5gza97MufNkAaApPNBQIEMAAhQAqF7NGkCCDQFiy5Z9oHYCBABy696t20CFCQECWBAAAIECAMiTK1/O/EGAAQCiS59OvTp1BAQaVJgAoLv37+DDf1FPMCBAAAUFAKhfz769e/YB4jsAQL++/fv2EShoEKB/AIAQAAwkWNAggAIOIgRgGGCAAQARJU6kmIBBgwAZAxBYIADAR5AhRY4kWdLkSZQhAwIAOw==\"><title>Layer: input (input)\n",
       " shape = (28, 28, 1)\n",
       " Keras class = Input</title></image><text x=\"430.0\" y=\"1224.0\" font-family=\"monospace\" font-size=\"12\" text-anchor=\"start\" alignment-baseline=\"central\">input</text><text x=\"430.0\" y=\"1127\" font-family=\"monospace\" font-size=\"12\" text-anchor=\"start\" alignment-baseline=\"central\">1</text><text x=\"213.0\" y=\"1317\" font-family=\"monospace\" font-size=\"12\" text-anchor=\"start\" alignment-baseline=\"central\">0</text></svg>"
      ],
      "text/plain": [
       "<IPython.core.display.HTML object>"
      ]
     },
     "execution_count": 21,
     "metadata": {},
     "output_type": "execute_result"
    }
   ],
   "source": [
    "net.snapshot(height=\"500px\")"
   ]
  },
  {
   "cell_type": "code",
   "execution_count": 19,
   "metadata": {
    "scrolled": false
   },
   "outputs": [
    {
     "data": {
      "application/javascript": [
       "\n",
       "require(['base/js/namespace'], function(Jupyter) {\n",
       "    Jupyter.notebook.kernel.comm_manager.register_target('conx_svg_control', function(comm, msg) {\n",
       "        comm.on_msg(function(msg) {\n",
       "            var data = msg[\"content\"][\"data\"];\n",
       "            var images = document.getElementsByClassName(data[\"class\"]);\n",
       "            for (var i = 0; i < images.length; i++) {\n",
       "                if (data[\"href\"]) {\n",
       "                    images[i].setAttributeNS(null, \"href\", data[\"href\"]);\n",
       "                }\n",
       "                if (data[\"src\"]) {\n",
       "                    images[i].setAttributeNS(null, \"src\", data[\"src\"]);\n",
       "                }\n",
       "            }\n",
       "        });\n",
       "    });\n",
       "});\n"
      ],
      "text/plain": [
       "<IPython.core.display.Javascript object>"
      ]
     },
     "metadata": {},
     "output_type": "display_data"
    },
    {
     "data": {
      "text/html": [
       "<svg id='MNIST-CNN' xmlns='http://www.w3.org/2000/svg' viewBox=\"0 0 650 1347\" height=\"100%\" image-rendering=\"pixelated\">\n",
       "    <defs>\n",
       "        <marker id=\"arrow\" markerWidth=\"10\" markerHeight=\"10\" refX=\"9\" refY=\"3\" orient=\"auto\" markerUnits=\"strokeWidth\">\n",
       "          <path d=\"M0,0 L0,6 L9,3 z\" fill=\"black\" />\n",
       "        </marker>\n",
       "    </defs><text x=\"325.0\" y=\"12.5\" font-family=\"monospace\" font-size=\"15\" text-anchor=\"middle\" alignment-baseline=\"central\">MNIST-CNN</text><rect x=\"224.0\" y=\"29\" width=\"202\" height=\"27\" style=\"fill:none;stroke:black;stroke-width:2\"/><image id=\"MNIST-CNN_output_9\" class=\"MNIST-CNN_output\" x=\"225.0\" y=\"30\" height=\"25\" width=\"200\" preserveAspectRatio=\"none\" href=\"data:image/gif;base64,R0lGODdhCgABAIcAAMzM/9HR/wAAAAAAAAAAAAAAAAAAAAAAAAAAAAAAAAAAAAAAAAAAAAAAAAAAAAAAAAAAAAAAAAAAAAAAAAAAAAAAAAAAAAAAAAAAAAAAAAAAAAAAAAAAAAAAAAAAAAAAAAAAAAAAAAAAAAAAAAAAAAAAAAAAAAAAAAAAAAAAAAAAAAAAAAAAAAAAAAAAAAAAAAAAAAAAAAAAAAAAAAAAAAAAAAAAAAAAAAAAAAAAAAAAAAAAAAAAAAAAAAAAAAAAAAAAAAAAAAAAAAAAAAAAAAAAAAAAAAAAAAAAAAAAAAAAAAAAAAAAAAAAAAAAAAAAAAAAAAAAAAAAAAAAAAAAAAAAAAAAAAAAAAAAAAAAAAAAAAAAAAAAAAAAAAAAAAAAAAAAAAAAAAAAAAAAAAAAAAAAAAAAAAAAAAAAAAAAAAAAAAAAAAAAAAAAAAAAAAAAAAAAAAAAAAAAAAAAAAAAAAAAAAAAAAAAAAAAAAAAAAAAAAAAAAAAAAAAAAAAAAAAAAAAAAAAAAAAAAAAAAAAAAAAAAAAAAAAAAAAAAAAAAAAAAAAAAAAAAAAAAAAAAAAAAAAAAAAAAAAAAAAAAAAAAAAAAAAAAAAAAAAAAAAAAAAAAAAAAAAAAAAAAAAAAAAAAAAAAAAAAAAAAAAAAAAAAAAAAAAAAAAAAAAAAAAAAAAAAAAAAAAAAAAAAAAAAAAAAAAAAAAAAAAAAAAAAAAAAAAAAAAAAAAAAAAAAAAAAAAAAAAAAAAAAAAAAAAAAAAAAAAAAAAAAAAAAAAAAAAAAAAAAAAAAAAAAAAAAAAAAAAAAAAAAAAAAAAAAAAAAAAAAAAAAAAAAAAAAAAAAAAAAAAAAAAAAAAAAAAAAAAAAAAAAAAAAAAAAAAAAAAAAAAAAAAAAAAAAAAAAAAAAAAAAAAAAAAAAAAAAAAAAAAAAAAAAAAAAAAAAAAAAAAAAAAAAAAAAAAAAAAAAAAAAAAAAAAAAAAAAAAAAAAAAAAAAAAAAAAAAAAAAAAAAAAAAAAACwAAAAACgABAAAIDAABBABAEEAAAAgDAgA7\"><title>Layer: output (output)\n",
       " shape = (10,)\n",
       " Keras class = Dense\n",
       " activation = softmax</title></image><text x=\"430.0\" y=\"44.5\" font-family=\"monospace\" font-size=\"12\" text-anchor=\"start\" alignment-baseline=\"central\">output</text><line x1=\"325.0\" y1=\"84\" x2=\"325.0\" y2=\"57\" stroke=\"black\" stroke-width=\"2\" marker-end=\"url(#arrow)\"><title>Weights from hidden to output\n",
       " output/kernel has shape (1000, 10)\n",
       " output/bias has shape (10,)</title></line><rect x=\"74.0\" y=\"84\" width=\"502\" height=\"34\" style=\"fill:none;stroke:black;stroke-width:2\"/><image id=\"MNIST-CNN_hidden_10\" class=\"MNIST-CNN_hidden\" x=\"75.0\" y=\"85\" height=\"32\" width=\"500\" preserveAspectRatio=\"none\" href=\"data:image/gif;base64,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\"><title>Layer: hidden (hidden)\n",
       " shape = (1000,)\n",
       " Keras class = Dense\n",
       " activation = relu</title></image><text x=\"580.0\" y=\"103.0\" font-family=\"monospace\" font-size=\"12\" text-anchor=\"start\" alignment-baseline=\"central\">hidden</text><line x1=\"325.0\" y1=\"146\" x2=\"325.0\" y2=\"119\" stroke=\"black\" stroke-width=\"2\" marker-end=\"url(#arrow)\"><title>Weights from flatten to hidden\n",
       " hidden/kernel has shape (2112, 1000)\n",
       " hidden/bias has shape (1000,)</title></line><rect x=\"224.0\" y=\"146\" width=\"202\" height=\"27\" style=\"fill:none;stroke:black;stroke-width:2\"/><image id=\"MNIST-CNN_flatten_11\" class=\"MNIST-CNN_flatten\" x=\"225.0\" y=\"147\" height=\"25\" width=\"200\" preserveAspectRatio=\"none\" href=\"data:image/gif;base64,R0lGODdhQAgBAIcAAPv6/efn/9fX/8fH/7e3/6en/5iY/3Fx/wAAAAAAAAAAAAAAAAAAAAAAAAAAAAAAAAAAAAAAAAAAAAAAAAAAAAAAAAAAAAAAAAAAAAAAAAAAAAAAAAAAAAAAAAAAAAAAAAAAAAAAAAAAAAAAAAAAAAAAAAAAAAAAAAAAAAAAAAAAAAAAAAAAAAAAAAAAAAAAAAAAAAAAAAAAAAAAAAAAAAAAAAAAAAAAAAAAAAAAAAAAAAAAAAAAAAAAAAAAAAAAAAAAAAAAAAAAAAAAAAAAAAAAAAAAAAAAAAAAAAAAAAAAAAAAAAAAAAAAAAAAAAAAAAAAAAAAAAAAAAAAAAAAAAAAAAAAAAAAAAAAAAAAAAAAAAAAAAAAAAAAAAAAAAAAAAAAAAAAAAAAAAAAAAAAAAAAAAAAAAAAAAAAAAAAAAAAAAAAAAAAAAAAAAAAAAAAAAAAAAAAAAAAAAAAAAAAAAAAAAAAAAAAAAAAAAAAAAAAAAAAAAAAAAAAAAAAAAAAAAAAAAAAAAAAAAAAAAAAAAAAAAAAAAAAAAAAAAAAAAAAAAAAAAAAAAAAAAAAAAAAAAAAAAAAAAAAAAAAAAAAAAAAAAAAAAAAAAAAAAAAAAAAAAAAAAAAAAAAAAAAAAAAAAAAAAAAAAAAAAAAAAAAAAAAAAAAAAAAAAAAAAAAAAAAAAAAAAAAAAAAAAAAAAAAAAAAAAAAAAAAAAAAAAAAAAAAAAAAAAAAAAAAAAAAAAAAAAAAAAAAAAAAAAAAAAAAAAAAAAAAAAAAAAAAAAAAAAAAAAAAAAAAAAAAAAAAAAAAAAAAAAAAAAAAAAAAAAAAAAAAAAAAAAAAAAAAAAAAAAAAAAAAAAAAAAAAAAAAAAAAAAAAAAAAAAAAAAAAAAAAAAAAAAAAAAAAAAAAAAAAAAAAAAAAAAAAAAAAAAAAAAAAAAAAAAAAAAAAAAAAAAAAAAAAAAAAAAAAAAAAAAAAAAAAAAAAAAAAAAAAAAAAAAAAAAAAAAAAAAAAAAAAAAAAACwAAAAAQAgBAAAI/wAFAAgAoGBBAQAEKAQAIEAAAAAEAAAgQACAAAAACBAAYECAAAMCFBgQAIAAAAECEADAMgCAlzAFAJg5c0AAADgDDAAQIMCAAAACABg6NAAAAQACCAAQIMAAAAEACAggAACAAQEAaAUwAIDXr18HABAAoGzZAAIAABgQAACAAQEEAJhLFwABAAPyCgAgAIAAAAMCACAQAEAAAAEGAAAQgEAAAQAIDBAQQACBAAEGANg8AIDnzwIAiBYQgEAAAAMGBBgQQACAAgIADAAQAACAAAIACAAAgAAAAQIGBAgAIICAAAAADBAAoDkAAQAABJgOoHqAAQAABAAAIAAAAAIAEP8oEEBAgAADBKgHwF4AgAIBBBAQMABAAAACABQIAKCAAIAAAgQYMADAwQICBAAYEGAAAAEDAgQoAMDiAAAZNRIA0HGAAAEABAwQAKBAAAEACAAAEADAy5cDAAwAAGAAAAEBDAQIAEAAgAIBAggIEADA0QAAAAQAMADA0wEDAAAIAABAAAAAAgAoQCCAgAAABIwVAABAAAAABgAIIIDAAAABAAQAUCAAgAEAAAQAMEAAAMADBAgAIEDAgAACFAcQEABAgAEAJE8WECAAgAEBBAAQQEAAgAEBAgAYAABAAAABAAQIMCBAAAAABACgXYBAAAACABAIEABAgAAAhAcIAMD/OAEAyQUIAAAgAAAAAQAAEABgwAAAAgAECAAAAAEA4QEIEAAgQAAAAAIACAAAwAAAAAYQAFC/fgAA+QMIACCgAMAAAAIAKDgAAEIBAQIAaAhgAICIAAIMAGARQAABAQQAABAAAMgAAEYGACAAQIABAAIMIADgpYAAAgAACCAgAICcOQMEABAgAICgAgAEAGAUQAAAAgAAEABAQIABAgYEGAAAgAAAAAYACOBVANgAAAAYAACAwAAAAgAAEBAAAAABAAAEGEAgAF4AegcA6CsAAODABAQMABAAgIAAAAYEAFAAAIEBAwIAGABgAAAABAIAGAAAQAEAAwQUGAAAgAAA/wEAABAgAADsAAMABAAQ4DaA3AMCAOgNIAAAAAMAACAAIMCAAAAGBBAAIIAAAAAEABAQIEABAAMABABQAACAAQEACAAAIACA9AYAsA8QAEAAAAIADBgAAEAAAgACAOgPAKAAAAIADAgQYAAAAQMAFAAgAEABAQEIABAAIICAAQACAABAAMCAAQUMCAAgAEAAAAIAtHQpAEBMAgEA1AQgAEDOnAEEAPAZwICAAAEADAAAIAAAAAIAABAQYMCAAAIADABwlUAAAFsBBPAaAEBYAgDIAhgQAACAAQAEBAAAIEAAAHPpCggQAIAAAAACBBAwAACBAAMACAAgIAAAxQAECP8A8BjAAAABBBQgEACAAAADAgQAACAAANGjAQwIACAAAAECALQOAEAAANkCAggAcBuAgAC7AfQGICAAgAAAiAMIEAAAAAEAmAcAEABAdOnSAwQYEAA7AAABBgDwHgA8AAABAAgAEABAevXqAwQQACBAAADzAQQAEEAAAP0BBAgIABBAAAABAAQIACChQoUBAAQAEEAAgIkAAgQAgDEjRgEABAAAECAkAAADAAAIAAAAAQABAggAADMmAQAABAQAECAAAAABAAAIEEBAAAIDAAAYEABAAAIAmgoQACAqAQAFAAQAEACAAAEAAAQIMEBAAAEDAgQAgBZtAAEA2gooIED/wIADAAIACIAXQIAAAgIA+BsAAIAAAAIEAIBYQAABABoDEABAwAAABQAEABBgAIEBAwAAICAAwAAAAggQGABAAIAAAAoEADBAAAAAAQAEABBgQAEAAQAM+A0gQAAAAwYAOB4gAIDlAgAUACAAgPQBAwAIKBCAQIABAggAADAAgHgAAgYAEAAAAAEAAwYYCAAAwAAAAgAIGCAAgH4AAgD4BygAAIAAAAAMCABAIQABAQAEAACgAACKAAIMABAAgIABAQAEGCBggIABAAYAEABAgAAALVsGgAlAJoEAAAAEABAgAAABAQQEABBU6FABAgAcDQAgAAACAgAICCAAwAAA/wEEBBAAAMCAAQAEAAAgAMDYAQIAAAgAQAAAAQAABAAQVy4AAQAACAAgIAAAvnwFAAAcQEABAIUBDBAQAMDiAAAABAAgYMCAAAAGAMCcGYAAAJ0BBAgAIMAAAAEECACQWrUAAgBcvw4AIACAAQBs2w4gAACAAAAGCAgAIEAAAMWNAxAAIACAAAMADAhQAIAAAAEEBAAAYEAA7gAABAAQHoAAAOUBDAgAIAAAAAICCAAgAAABAPUBDBAAIAAAAAEAAAQwIAABAQYBDAggAECAAAAEDAAAIICAAAAABCAQQACAAgQEBBAwQMCAAgIAoEQpAEAAAAUAwBQgIEAAAAEEAP8gEEAAAAECAAANCmAAgAAAABQAMCBAAQBOBQgYICDAAAACAGAVAABAAAACAgAAIIBAAAACAAAQEABAAAECCgCIO2BAAAAEAAAYAADAgAABBggYAEBAAAEABAQAQEAAgMYDAgCITECAAAADCBAIIIBAAAAFBAAIEAAAaQABAAwQAACAgAEBXgsIAKBAgAAABAAAEACAAAC+AwAQAAAAAQAAAhQIAADAAAAEBAAgAGD6dAEBAAQAEAAAdwEDAIAHHyAAAAEABBQAMAAAgAECAgwAIEAAAAAEAgQYIGAAgAAAAAIAMEAAAAIAAAQAACAAgAAABgQAAEBAgAEAAggIEABXQMcAAQCEFBlgAAAAAgCkFFBAAAACAAQAIAAAgAAAAQAAECAgwAAAAAQACCBgwIAAAAQACLAUQAAATwEECAAggIAAAAIAEACAa9euAQAICAAgQAAAAAICADs=\"><title>Layer: flatten (hidden)\n",
       " Keras class = Flatten</title></image><text x=\"430.0\" y=\"161.5\" font-family=\"monospace\" font-size=\"12\" text-anchor=\"start\" alignment-baseline=\"central\">flatten</text><line x1=\"325.0\" y1=\"201\" x2=\"325.0\" y2=\"174\" stroke=\"black\" stroke-width=\"2\" marker-end=\"url(#arrow)\"><title>Weights from maxpool2 to flatten</title></line><rect x=\"224.0\" y=\"201\" width=\"202\" height=\"202\" style=\"fill:none;stroke:black;stroke-width:2\"/><image id=\"MNIST-CNN_maxpool2_12\" class=\"MNIST-CNN_maxpool2\" x=\"225.0\" y=\"202\" height=\"200\" width=\"200\" preserveAspectRatio=\"none\" href=\"data:image/gif;base64,R0lGODdhBAAEAIcAANfX/8bG//X1/unp/7m5/wAAAAAAAAAAAAAAAAAAAAAAAAAAAAAAAAAAAAAAAAAAAAAAAAAAAAAAAAAAAAAAAAAAAAAAAAAAAAAAAAAAAAAAAAAAAAAAAAAAAAAAAAAAAAAAAAAAAAAAAAAAAAAAAAAAAAAAAAAAAAAAAAAAAAAAAAAAAAAAAAAAAAAAAAAAAAAAAAAAAAAAAAAAAAAAAAAAAAAAAAAAAAAAAAAAAAAAAAAAAAAAAAAAAAAAAAAAAAAAAAAAAAAAAAAAAAAAAAAAAAAAAAAAAAAAAAAAAAAAAAAAAAAAAAAAAAAAAAAAAAAAAAAAAAAAAAAAAAAAAAAAAAAAAAAAAAAAAAAAAAAAAAAAAAAAAAAAAAAAAAAAAAAAAAAAAAAAAAAAAAAAAAAAAAAAAAAAAAAAAAAAAAAAAAAAAAAAAAAAAAAAAAAAAAAAAAAAAAAAAAAAAAAAAAAAAAAAAAAAAAAAAAAAAAAAAAAAAAAAAAAAAAAAAAAAAAAAAAAAAAAAAAAAAAAAAAAAAAAAAAAAAAAAAAAAAAAAAAAAAAAAAAAAAAAAAAAAAAAAAAAAAAAAAAAAAAAAAAAAAAAAAAAAAAAAAAAAAAAAAAAAAAAAAAAAAAAAAAAAAAAAAAAAAAAAAAAAAAAAAAAAAAAAAAAAAAAAAAAAAAAAAAAAAAAAAAAAAAAAAAAAAAAAAAAAAAAAAAAAAAAAAAAAAAAAAAAAAAAAAAAAAAAAAAAAAAAAAAAAAAAAAAAAAAAAAAAAAAAAAAAAAAAAAAAAAAAAAAAAAAAAAAAAAAAAAAAAAAAAAAAAAAAAAAAAAAAAAAAAAAAAAAAAAAAAAAAAAAAAAAAAAAAAAAAAAAAAAAAAAAAAAAAAAAAAAAAAAAAAAAAAAAAAAAAAAAAAAAAAAAAAAAAAAAAAAAAAAAAAAAAAAAAAAAAAAAAAAAAAAAAAAAAAAAAAAAAAAAAAAAAAAAAAAAAAAAAAAAAAAAAAAAAAAAAAAAAAAAAAAAAAACwAAAAABAAEAAAIFAABCAQgIEAAAQMEEAgAAMAAAAEBADs=\"><title>Layer: maxpool2 (hidden)\n",
       " Keras class = MaxPooling2D</title></image><text x=\"430.0\" y=\"304.0\" font-family=\"monospace\" font-size=\"12\" text-anchor=\"start\" alignment-baseline=\"central\">maxpool2</text><text x=\"430.0\" y=\"207\" font-family=\"monospace\" font-size=\"12\" text-anchor=\"start\" alignment-baseline=\"central\">132</text><text x=\"213.0\" y=\"397\" font-family=\"monospace\" font-size=\"12\" text-anchor=\"start\" alignment-baseline=\"central\">0</text><line x1=\"325.0\" y1=\"431\" x2=\"325.0\" y2=\"404\" stroke=\"black\" stroke-width=\"2\" marker-end=\"url(#arrow)\"><title>Weights from Conv2D-2 to maxpool2</title></line><rect x=\"224.0\" y=\"431\" width=\"202\" height=\"202\" style=\"fill:none;stroke:black;stroke-width:2\"/><image id=\"MNIST-CNN_Conv2D-2_13\" class=\"MNIST-CNN_Conv2D-2\" x=\"225.0\" y=\"432\" height=\"200\" width=\"200\" preserveAspectRatio=\"none\" href=\"data:image/gif;base64,R0lGODdhCAAIAIcAAPn5/ujo/9nZ/8XF/7m5/wAAAAAAAAAAAAAAAAAAAAAAAAAAAAAAAAAAAAAAAAAAAAAAAAAAAAAAAAAAAAAAAAAAAAAAAAAAAAAAAAAAAAAAAAAAAAAAAAAAAAAAAAAAAAAAAAAAAAAAAAAAAAAAAAAAAAAAAAAAAAAAAAAAAAAAAAAAAAAAAAAAAAAAAAAAAAAAAAAAAAAAAAAAAAAAAAAAAAAAAAAAAAAAAAAAAAAAAAAAAAAAAAAAAAAAAAAAAAAAAAAAAAAAAAAAAAAAAAAAAAAAAAAAAAAAAAAAAAAAAAAAAAAAAAAAAAAAAAAAAAAAAAAAAAAAAAAAAAAAAAAAAAAAAAAAAAAAAAAAAAAAAAAAAAAAAAAAAAAAAAAAAAAAAAAAAAAAAAAAAAAAAAAAAAAAAAAAAAAAAAAAAAAAAAAAAAAAAAAAAAAAAAAAAAAAAAAAAAAAAAAAAAAAAAAAAAAAAAAAAAAAAAAAAAAAAAAAAAAAAAAAAAAAAAAAAAAAAAAAAAAAAAAAAAAAAAAAAAAAAAAAAAAAAAAAAAAAAAAAAAAAAAAAAAAAAAAAAAAAAAAAAAAAAAAAAAAAAAAAAAAAAAAAAAAAAAAAAAAAAAAAAAAAAAAAAAAAAAAAAAAAAAAAAAAAAAAAAAAAAAAAAAAAAAAAAAAAAAAAAAAAAAAAAAAAAAAAAAAAAAAAAAAAAAAAAAAAAAAAAAAAAAAAAAAAAAAAAAAAAAAAAAAAAAAAAAAAAAAAAAAAAAAAAAAAAAAAAAAAAAAAAAAAAAAAAAAAAAAAAAAAAAAAAAAAAAAAAAAAAAAAAAAAAAAAAAAAAAAAAAAAAAAAAAAAAAAAAAAAAAAAAAAAAAAAAAAAAAAAAAAAAAAAAAAAAAAAAAAAAAAAAAAAAAAAAAAAAAAAAAAAAAAAAAAAAAAAAAAAAAAAAAAAAAAAAAAAAAAAAAAAAAAAAAAAAAAAAAAAAAAAAAAAAAAAAAAAAAAAAAAAAAAAAAAAAAAAAAAAAAAAACwAAAAACAAIAAAIOwADCBgoIACAAAACBBAgIIAAABADABAAoKLFAQMCANjIcUCAjwEAiAxAYEAAACgBBAggIICAlwFixgwIADs=\"><title>Layer: Conv2D-2 (hidden)\n",
       " Keras class = Conv2D\n",
       " activation = relu</title></image><text x=\"430.0\" y=\"534.0\" font-family=\"monospace\" font-size=\"12\" text-anchor=\"start\" alignment-baseline=\"central\">Conv2D-2</text><text x=\"430.0\" y=\"437\" font-family=\"monospace\" font-size=\"12\" text-anchor=\"start\" alignment-baseline=\"central\">132</text><text x=\"213.0\" y=\"627\" font-family=\"monospace\" font-size=\"12\" text-anchor=\"start\" alignment-baseline=\"central\">0</text><line x1=\"325.0\" y1=\"661\" x2=\"325.0\" y2=\"634\" stroke=\"black\" stroke-width=\"2\" marker-end=\"url(#arrow)\"><title>Weights from maxpool1 to Conv2D-2\n",
       " Conv2D-2/kernel has shape (5, 5, 16, 132)\n",
       " Conv2D-2/bias has shape (132,)</title></line><rect x=\"224.0\" y=\"661\" width=\"202\" height=\"202\" style=\"fill:none;stroke:black;stroke-width:2\"/><image id=\"MNIST-CNN_maxpool1_14\" class=\"MNIST-CNN_maxpool1\" x=\"225.0\" y=\"662\" height=\"200\" width=\"200\" preserveAspectRatio=\"none\" href=\"data:image/gif;base64,R0lGODdhDAAMAIcAAP37/dXV/5eX/+bm/6en/7i4/8vL/319/4mJ/wAAAAAAAAAAAAAAAAAAAAAAAAAAAAAAAAAAAAAAAAAAAAAAAAAAAAAAAAAAAAAAAAAAAAAAAAAAAAAAAAAAAAAAAAAAAAAAAAAAAAAAAAAAAAAAAAAAAAAAAAAAAAAAAAAAAAAAAAAAAAAAAAAAAAAAAAAAAAAAAAAAAAAAAAAAAAAAAAAAAAAAAAAAAAAAAAAAAAAAAAAAAAAAAAAAAAAAAAAAAAAAAAAAAAAAAAAAAAAAAAAAAAAAAAAAAAAAAAAAAAAAAAAAAAAAAAAAAAAAAAAAAAAAAAAAAAAAAAAAAAAAAAAAAAAAAAAAAAAAAAAAAAAAAAAAAAAAAAAAAAAAAAAAAAAAAAAAAAAAAAAAAAAAAAAAAAAAAAAAAAAAAAAAAAAAAAAAAAAAAAAAAAAAAAAAAAAAAAAAAAAAAAAAAAAAAAAAAAAAAAAAAAAAAAAAAAAAAAAAAAAAAAAAAAAAAAAAAAAAAAAAAAAAAAAAAAAAAAAAAAAAAAAAAAAAAAAAAAAAAAAAAAAAAAAAAAAAAAAAAAAAAAAAAAAAAAAAAAAAAAAAAAAAAAAAAAAAAAAAAAAAAAAAAAAAAAAAAAAAAAAAAAAAAAAAAAAAAAAAAAAAAAAAAAAAAAAAAAAAAAAAAAAAAAAAAAAAAAAAAAAAAAAAAAAAAAAAAAAAAAAAAAAAAAAAAAAAAAAAAAAAAAAAAAAAAAAAAAAAAAAAAAAAAAAAAAAAAAAAAAAAAAAAAAAAAAAAAAAAAAAAAAAAAAAAAAAAAAAAAAAAAAAAAAAAAAAAAAAAAAAAAAAAAAAAAAAAAAAAAAAAAAAAAAAAAAAAAAAAAAAAAAAAAAAAAAAAAAAAAAAAAAAAAAAAAAAAAAAAAAAAAAAAAAAAAAAAAAAAAAAAAAAAAAAAAAAAAAAAAAAAAAAAAAAAAAAAAAAAAAAAAAAAAAAAAAAAAAAAAAAAAAAAAAAAAAAAAAAAAAAAAAAAACwAAAAADAAMAAAIfQABCBxooEAAAQASAhCAgACBAgYKFABAEQABAgYGANi4cQCAjyA/BgAQIACAkwACCCAAwACAlzBfCjhQAIDNmzgDCAgAoKdPAAEECBgQAIDRowQEEBgAAMAAAAACCBBAAIBVAAMMAABQQMAAAGAHBAgAoKxZAAMCBADAlm1AADs=\"><title>Layer: maxpool1 (hidden)\n",
       " Keras class = MaxPooling2D</title></image><text x=\"430.0\" y=\"764.0\" font-family=\"monospace\" font-size=\"12\" text-anchor=\"start\" alignment-baseline=\"central\">maxpool1</text><text x=\"430.0\" y=\"667\" font-family=\"monospace\" font-size=\"12\" text-anchor=\"start\" alignment-baseline=\"central\">16</text><text x=\"213.0\" y=\"857\" font-family=\"monospace\" font-size=\"12\" text-anchor=\"start\" alignment-baseline=\"central\">0</text><line x1=\"325.0\" y1=\"891\" x2=\"325.0\" y2=\"864\" stroke=\"black\" stroke-width=\"2\" marker-end=\"url(#arrow)\"><title>Weights from Conv2D-1 to maxpool1</title></line><rect x=\"224.0\" y=\"891\" width=\"202\" height=\"202\" style=\"fill:none;stroke:black;stroke-width:2\"/><image id=\"MNIST-CNN_Conv2D-1_15\" class=\"MNIST-CNN_Conv2D-1\" x=\"225.0\" y=\"892\" height=\"200\" width=\"200\" preserveAspectRatio=\"none\" href=\"data:image/gif;base64,R0lGODdhGAAYAIcAAP78/efn/9bW/7m5/6io/8nJ/5eX/4mJ/319/wAAAAAAAAAAAAAAAAAAAAAAAAAAAAAAAAAAAAAAAAAAAAAAAAAAAAAAAAAAAAAAAAAAAAAAAAAAAAAAAAAAAAAAAAAAAAAAAAAAAAAAAAAAAAAAAAAAAAAAAAAAAAAAAAAAAAAAAAAAAAAAAAAAAAAAAAAAAAAAAAAAAAAAAAAAAAAAAAAAAAAAAAAAAAAAAAAAAAAAAAAAAAAAAAAAAAAAAAAAAAAAAAAAAAAAAAAAAAAAAAAAAAAAAAAAAAAAAAAAAAAAAAAAAAAAAAAAAAAAAAAAAAAAAAAAAAAAAAAAAAAAAAAAAAAAAAAAAAAAAAAAAAAAAAAAAAAAAAAAAAAAAAAAAAAAAAAAAAAAAAAAAAAAAAAAAAAAAAAAAAAAAAAAAAAAAAAAAAAAAAAAAAAAAAAAAAAAAAAAAAAAAAAAAAAAAAAAAAAAAAAAAAAAAAAAAAAAAAAAAAAAAAAAAAAAAAAAAAAAAAAAAAAAAAAAAAAAAAAAAAAAAAAAAAAAAAAAAAAAAAAAAAAAAAAAAAAAAAAAAAAAAAAAAAAAAAAAAAAAAAAAAAAAAAAAAAAAAAAAAAAAAAAAAAAAAAAAAAAAAAAAAAAAAAAAAAAAAAAAAAAAAAAAAAAAAAAAAAAAAAAAAAAAAAAAAAAAAAAAAAAAAAAAAAAAAAAAAAAAAAAAAAAAAAAAAAAAAAAAAAAAAAAAAAAAAAAAAAAAAAAAAAAAAAAAAAAAAAAAAAAAAAAAAAAAAAAAAAAAAAAAAAAAAAAAAAAAAAAAAAAAAAAAAAAAAAAAAAAAAAAAAAAAAAAAAAAAAAAAAAAAAAAAAAAAAAAAAAAAAAAAAAAAAAAAAAAAAAAAAAAAAAAAAAAAAAAAAAAAAAAAAAAAAAAAAAAAAAAAAAAAAAAAAAAAAAAAAAAAAAAAAAAAAAAAAAAAAAAAAAAAAAAAAAAAAAAAAAAAAAAAAAAAAAAAAAAAAAAAAAAAAAAAACwAAAAAGAAYAEAI/wABCBxIsKDBgwUFDAgAoCGAAgEASJxIcWKAAQYICAgQAIBHAAEAiBw5MgABAgMKCAgAoKXLlzBjwhQwgACAmzhvBhhgoEAAAECDCg0gQACAo0iTHg1QYACBpwMGFBAgYMCAAACyat3KtavWAAIEABhLtuxYAwgKAFjLtq3btwEAAAgQQACAu3jzChhggIAAAIADCw4QAIDhw4gTAxAgAIDjx5AjSwYQoMAAAQEEGCAAoLPnzgUMHCBQoMCAAQIKBBAAoLXr17ADAJhNu3btAABy697NO7cAAMCDCx8OnIABAgCSAwgAoLnz59CdGzgwIACA69iza98OoIABAQDCi0kfTx6AgAEGDABYHwCA+/fw3xcgYKAAgPv48+sXQMAAAYACAAQAUNCgwQAFAgBg2NDhQ4YBBAgAUNHiRYwVAwgQEADAR5AhAQQEADs=\"><title>Layer: Conv2D-1 (hidden)\n",
       " Keras class = Conv2D\n",
       " activation = relu</title></image><text x=\"430.0\" y=\"994.0\" font-family=\"monospace\" font-size=\"12\" text-anchor=\"start\" alignment-baseline=\"central\">Conv2D-1</text><text x=\"430.0\" y=\"897\" font-family=\"monospace\" font-size=\"12\" text-anchor=\"start\" alignment-baseline=\"central\">16</text><text x=\"213.0\" y=\"1087\" font-family=\"monospace\" font-size=\"12\" text-anchor=\"start\" alignment-baseline=\"central\">0</text><line x1=\"325.0\" y1=\"1121\" x2=\"325.0\" y2=\"1094\" stroke=\"black\" stroke-width=\"2\" marker-end=\"url(#arrow)\"><title>Weights from input to Conv2D-1\n",
       " Conv2D-1/kernel has shape (5, 5, 1, 16)\n",
       " Conv2D-1/bias has shape (16,)</title></line><rect x=\"224.0\" y=\"1121\" width=\"202\" height=\"202\" style=\"fill:none;stroke:black;stroke-width:2\"/><image id=\"MNIST-CNN_input_16\" class=\"MNIST-CNN_input\" x=\"225.0\" y=\"1122\" height=\"200\" width=\"200\" preserveAspectRatio=\"none\" href=\"data:image/gif;base64,R0lGODdhHAAcAIcAAAoAAP//9jAAAP/8DP//z00AANcAAPMAAG4AAI0AAP+aAP9nAP/MAP//jbMAAP9yAP/pAP//T///c/8lAP9XAP+qAP//Mv82AP9EAP+/AP/WAP//vAAAAAAAAAAAAAAAAAAAAAAAAAAAAAAAAAAAAAAAAAAAAAAAAAAAAAAAAAAAAAAAAAAAAAAAAAAAAAAAAAAAAAAAAAAAAAAAAAAAAAAAAAAAAAAAAAAAAAAAAAAAAAAAAAAAAAAAAAAAAAAAAAAAAAAAAAAAAAAAAAAAAAAAAAAAAAAAAAAAAAAAAAAAAAAAAAAAAAAAAAAAAAAAAAAAAAAAAAAAAAAAAAAAAAAAAAAAAAAAAAAAAAAAAAAAAAAAAAAAAAAAAAAAAAAAAAAAAAAAAAAAAAAAAAAAAAAAAAAAAAAAAAAAAAAAAAAAAAAAAAAAAAAAAAAAAAAAAAAAAAAAAAAAAAAAAAAAAAAAAAAAAAAAAAAAAAAAAAAAAAAAAAAAAAAAAAAAAAAAAAAAAAAAAAAAAAAAAAAAAAAAAAAAAAAAAAAAAAAAAAAAAAAAAAAAAAAAAAAAAAAAAAAAAAAAAAAAAAAAAAAAAAAAAAAAAAAAAAAAAAAAAAAAAAAAAAAAAAAAAAAAAAAAAAAAAAAAAAAAAAAAAAAAAAAAAAAAAAAAAAAAAAAAAAAAAAAAAAAAAAAAAAAAAAAAAAAAAAAAAAAAAAAAAAAAAAAAAAAAAAAAAAAAAAAAAAAAAAAAAAAAAAAAAAAAAAAAAAAAAAAAAAAAAAAAAAAAAAAAAAAAAAAAAAAAAAAAAAAAAAAAAAAAAAAAAAAAAAAAAAAAAAAAAAAAAAAAAAAAAAAAAAAAAAAAAAAAAAAAAAAAAAAAAAAAAAAAAAAAAAAAAAAAAAAAAAAAAAAAAAAAAAAAAAAAAAAAAAAAAAAAAAAAAAAAAAAAAAAAAAAAAAAAAAAAAAAAAAAAAAAAAAAAAAAAAAAAAAAAAAAAAAAAAAAAAAAAAAAAAAAAAAAAAAAAACwAAAAAHAAcAEAI/wABCBxIsKDBgwcFSAjAkOEACAQIAJhIsaLFixUFHAgQYACAjyBDfnwQoGSEBQsEAFjJsqXLlzBjypwpYEAAAwBy6tzJs2fOAhckBBgawIIBAEiTKl3KtKnTpwUQHFDAIIBVqw0YBCAwwAGAr2DDghUAQEGAAwDSql3Ltm1bAwQCBMBQAIDdu3jz6rWbYAGEAAEiABhMuHBhAQwkBFgcYIABAQAiS55MubLly5gza97MufNkAaApPNBQIEMAAhQAqF7NGkCCDQFiy5Z9oHYCBABy696t20CFCQECWBAAAIECAMiTK1/O/EGAAQCiS59OvTp1BAQaVJgAoLv37+DDf1FPMCBAAAUFAKhfz769e/YB4jsAQL++/fv2EShoEKB/AIAQAAwkWNAggAIOIgRgGGCAAQARJU6kmIBBgwAZAxBYIADAR5AhRY4kWdLkSZQhAwIAOw==\"><title>Layer: input (input)\n",
       " shape = (28, 28, 1)\n",
       " Keras class = Input</title></image><text x=\"430.0\" y=\"1224.0\" font-family=\"monospace\" font-size=\"12\" text-anchor=\"start\" alignment-baseline=\"central\">input</text><text x=\"430.0\" y=\"1127\" font-family=\"monospace\" font-size=\"12\" text-anchor=\"start\" alignment-baseline=\"central\">1</text><text x=\"213.0\" y=\"1317\" font-family=\"monospace\" font-size=\"12\" text-anchor=\"start\" alignment-baseline=\"central\">0</text></svg>"
      ],
      "text/plain": [
       "<Network name='MNIST-CNN' (compiled)>"
      ]
     },
     "execution_count": 19,
     "metadata": {},
     "output_type": "execute_result"
    }
   ],
   "source": [
    "net"
   ]
  },
  {
   "cell_type": "code",
   "execution_count": 22,
   "metadata": {},
   "outputs": [],
   "source": [
    "for pattern in net.dataset.inputs[:10]:\n",
    "    net.propagate(pattern)"
   ]
  },
  {
   "cell_type": "code",
   "execution_count": 21,
   "metadata": {},
   "outputs": [
    {
     "name": "stdout",
     "output_type": "stream",
     "text": [
      "Training...\n",
      "Epoch #    2 | train error 0.30195 | train accuracy 0.91000 | validate% 0.00000\n",
      "Epoch #    3 | train error 0.29779 | train accuracy 0.90000 | validate% 0.00000\n",
      "Epoch #    4 | train error 0.22481 | train accuracy 0.90000 | validate% 0.15000\n",
      "Epoch #    5 | train error 0.14948 | train accuracy 0.95200 | validate% 0.06000\n",
      "Epoch #    6 | train error 0.32091 | train accuracy 0.90300 | validate% 0.00000\n",
      "Epoch #    7 | train error 0.18543 | train accuracy 0.93000 | validate% 0.20000\n",
      "Epoch #    8 | train error 0.10438 | train accuracy 0.96200 | validate% 0.35000\n",
      "Epoch #    9 | train error 0.06161 | train accuracy 0.98600 | validate% 0.54000\n",
      "Epoch #   10 | train error 0.04596 | train accuracy 0.98900 | validate% 0.47000\n",
      "Epoch #   11 | train error 0.08075 | train accuracy 0.96700 | validate% 0.49000\n",
      "Epoch #   12 | train error 0.12112 | train accuracy 0.95800 | validate% 0.51000\n",
      "Epoch #   13 | train error 0.08936 | train accuracy 0.96900 | validate% 0.50000\n",
      "Epoch #   14 | train error 0.04674 | train accuracy 0.98900 | validate% 0.69000\n",
      "Epoch #   15 | train error 0.02372 | train accuracy 0.99600 | validate% 0.77000\n",
      "========================================================================\n",
      "Epoch #   15 | train error 0.02372 | train accuracy 0.99600 | validate% 0.77000\n"
     ]
    }
   ],
   "source": [
    "net.train(epochs=100, accuracy=.7)"
   ]
  },
  {
   "cell_type": "code",
   "execution_count": null,
   "metadata": {
    "collapsed": true
   },
   "outputs": [],
   "source": []
  }
 ],
 "metadata": {
  "kernelspec": {
   "display_name": "Python 3",
   "language": "python",
   "name": "python3"
  },
  "language_info": {
   "codemirror_mode": {
    "name": "ipython",
    "version": 3
   },
   "file_extension": ".py",
   "mimetype": "text/x-python",
   "name": "python",
   "nbconvert_exporter": "python",
   "pygments_lexer": "ipython3",
   "version": "3.5.2"
  },
  "widgets": {
   "application/vnd.jupyter.widget-state+json": {
    "state": {
     "103cad9fdbd44bd2b5a13df6e7f97117": {
      "model_module": "jupyter-js-widgets",
      "model_module_version": "~2.1.4",
      "model_name": "ButtonStyleModel",
      "state": {
       "_model_module_version": "~2.1.4",
       "_view_module_version": "~2.1.4"
      }
     },
     "1780d5158aa54fb291d3795d2266be74": {
      "model_module": "jupyter-js-widgets",
      "model_module_version": "~2.1.4",
      "model_name": "HBoxModel",
      "state": {
       "_model_module_version": "~2.1.4",
       "_view_module_version": "~2.1.4",
       "children": [
        "IPY_MODEL_54db193bec4c4b6da0018bef29837c58",
        "IPY_MODEL_fc540cebf38d40b596064e6a1e22ffaa",
        "IPY_MODEL_940f1509a7214f9fb398fab42f859fc1",
        "IPY_MODEL_40b77797e15947f8a93683413abad789",
        "IPY_MODEL_afd9314fb7d64e7d9ae5472de14129bc"
       ],
       "layout": "IPY_MODEL_8e5baa3522cf49e6bfe0e344b8c8ee5c"
      }
     },
     "1b1f28bda4a646a1961d3bea942a81ee": {
      "model_module": "jupyter-js-widgets",
      "model_module_version": "~2.1.4",
      "model_name": "SelectModel",
      "state": {
       "_model_module_version": "~2.1.4",
       "_options_labels": [
        "Test",
        "Train"
       ],
       "_view_module_version": "~2.1.4",
       "description": "Dataset:",
       "layout": "IPY_MODEL_2254ea51655c404ab8bfe2a2296da7ac",
       "value": "Train"
      }
     },
     "1b495297df554f9eb4bfeaea7b68805d": {
      "model_module": "jupyter-js-widgets",
      "model_module_version": "~2.1.4",
      "model_name": "LayoutModel",
      "state": {
       "_model_module_version": "~2.1.4",
       "_view_module_version": "~2.1.4"
      }
     },
     "1dc286f37d8f4f47accc3f8d92fd707d": {
      "model_module": "jupyter-js-widgets",
      "model_module_version": "~2.1.4",
      "model_name": "LayoutModel",
      "state": {
       "_model_module_version": "~2.1.4",
       "_view_module_version": "~2.1.4",
       "width": "100%"
      }
     },
     "20d4c0f1d214431496d3a99ae2ad455f": {
      "model_module": "jupyter-js-widgets",
      "model_module_version": "~2.1.4",
      "model_name": "SliderStyleModel",
      "state": {
       "_model_module_version": "~2.1.4",
       "_view_module_version": "~2.1.4"
      }
     },
     "2254ea51655c404ab8bfe2a2296da7ac": {
      "model_module": "jupyter-js-widgets",
      "model_module_version": "~2.1.4",
      "model_name": "LayoutModel",
      "state": {
       "_model_module_version": "~2.1.4",
       "_view_module_version": "~2.1.4"
      }
     },
     "24e43293844c4e2cb9ebc9051ee839b4": {
      "model_module": "jupyter-js-widgets",
      "model_module_version": "~2.1.4",
      "model_name": "LayoutModel",
      "state": {
       "_model_module_version": "~2.1.4",
       "_view_module_version": "~2.1.4",
       "width": "100%"
      }
     },
     "27845d0c372743dc8c7ed6db66333587": {
      "model_module": "jupyter-js-widgets",
      "model_module_version": "~2.1.4",
      "model_name": "ButtonStyleModel",
      "state": {
       "_model_module_version": "~2.1.4",
       "_view_module_version": "~2.1.4"
      }
     },
     "2d354eff85394685941aee69ad72ef8b": {
      "model_module": "jupyter-js-widgets",
      "model_module_version": "~2.1.4",
      "model_name": "LayoutModel",
      "state": {
       "_model_module_version": "~2.1.4",
       "_view_module_version": "~2.1.4",
       "height": "550px",
       "width": "100%"
      }
     },
     "37baef3b0c2e4ab4a9a04982d770514d": {
      "model_module": "jupyter-js-widgets",
      "model_module_version": "~2.1.4",
      "model_name": "VBoxModel",
      "state": {
       "_model_module_version": "~2.1.4",
       "_view_module_version": "~2.1.4",
       "children": [
        "IPY_MODEL_dfe2ad5ff2f24f3aaa5188d40b55a859",
        "IPY_MODEL_fa7aca08d0844b819f51c54a5a68384d",
        "IPY_MODEL_fda2e3ec336f46f5a70fb6d19ae77471"
       ],
       "layout": "IPY_MODEL_9803d4ca10ba4bf9adadcdaf411a4d86"
      }
     },
     "380b19ad1eee44c1986e5843f07be2df": {
      "model_module": "jupyter-js-widgets",
      "model_module_version": "~2.1.4",
      "model_name": "LayoutModel",
      "state": {
       "_model_module_version": "~2.1.4",
       "_view_module_version": "~2.1.4",
       "width": "100%"
      }
     },
     "40b77797e15947f8a93683413abad789": {
      "model_module": "jupyter-js-widgets",
      "model_module_version": "~2.1.4",
      "model_name": "ButtonModel",
      "state": {
       "_model_module_version": "~2.1.4",
       "_view_module_version": "~2.1.4",
       "icon": "forward",
       "layout": "IPY_MODEL_e87fb4bdd2454d1c8b1ba45133848d08",
       "style": "IPY_MODEL_cd34173df3414f8492489cd7ca16dbf8"
      }
     },
     "481c71fb313c43a0a70bf013b15ad79d": {
      "model_module": "jupyter-js-widgets",
      "model_module_version": "~2.1.4",
      "model_name": "ButtonModel",
      "state": {
       "_model_module_version": "~2.1.4",
       "_view_module_version": "~2.1.4",
       "description": "Train",
       "layout": "IPY_MODEL_4eebb636df3046c886902a4825965fb1",
       "style": "IPY_MODEL_bfde97009d7146eab72661c485e76ff3"
      }
     },
     "4851479cf6414bbb8c09bf7a0b99858a": {
      "model_module": "jupyter-js-widgets",
      "model_module_version": "~2.1.4",
      "model_name": "LayoutModel",
      "state": {
       "_model_module_version": "~2.1.4",
       "_view_module_version": "~2.1.4"
      }
     },
     "4ccc973cbfdb4e73932bc667ce2e58d9": {
      "model_module": "jupyter-js-widgets",
      "model_module_version": "~2.1.4",
      "model_name": "VBoxModel",
      "state": {
       "_model_module_version": "~2.1.4",
       "_view_module_version": "~2.1.4",
       "children": [
        "IPY_MODEL_7ec87c9523b043a1a05ea0e87f386bd6",
        "IPY_MODEL_37baef3b0c2e4ab4a9a04982d770514d"
       ],
       "layout": "IPY_MODEL_b9ea215c260e4862bc4c4792189e8abb"
      }
     },
     "4eebb636df3046c886902a4825965fb1": {
      "model_module": "jupyter-js-widgets",
      "model_module_version": "~2.1.4",
      "model_name": "LayoutModel",
      "state": {
       "_model_module_version": "~2.1.4",
       "_view_module_version": "~2.1.4",
       "width": "100%"
      }
     },
     "5499088e49484fafb667f42777c0b598": {
      "model_module": "jupyter-js-widgets",
      "model_module_version": "~2.1.4",
      "model_name": "ButtonModel",
      "state": {
       "_model_module_version": "~2.1.4",
       "_view_module_version": "~2.1.4",
       "icon": "forward",
       "layout": "IPY_MODEL_ba4a121d777e4f7b83db2c5702370b64",
       "style": "IPY_MODEL_27845d0c372743dc8c7ed6db66333587"
      }
     },
     "54db193bec4c4b6da0018bef29837c58": {
      "model_module": "jupyter-js-widgets",
      "model_module_version": "~2.1.4",
      "model_name": "ButtonModel",
      "state": {
       "_model_module_version": "~2.1.4",
       "_view_module_version": "~2.1.4",
       "icon": "fast-backward",
       "layout": "IPY_MODEL_24e43293844c4e2cb9ebc9051ee839b4",
       "style": "IPY_MODEL_91193847d5754c75b5158411ee9420da"
      }
     },
     "572c43f36a7747148c6479adf07e1ffd": {
      "model_module": "jupyter-js-widgets",
      "model_module_version": "~2.1.4",
      "model_name": "ButtonStyleModel",
      "state": {
       "_model_module_version": "~2.1.4",
       "_view_module_version": "~2.1.4"
      }
     },
     "7665369cb7604822833e7f93841add1c": {
      "model_module": "jupyter-js-widgets",
      "model_module_version": "~2.1.4",
      "model_name": "LayoutModel",
      "state": {
       "_model_module_version": "~2.1.4",
       "_view_module_version": "~2.1.4",
       "width": "100%"
      }
     },
     "7ce09b67ef724565b9bb23ebf8ea5e88": {
      "model_module": "jupyter-js-widgets",
      "model_module_version": "~2.1.4",
      "model_name": "ButtonModel",
      "state": {
       "_model_module_version": "~2.1.4",
       "_view_module_version": "~2.1.4",
       "icon": "fast-backward",
       "layout": "IPY_MODEL_9b4dc03fb8cf40aa8e9e523b8de3712d",
       "style": "IPY_MODEL_dcaabc9f00e647f5b7df4fc681738c04"
      }
     },
     "7e683554bec64f4493588a3ee9ede246": {
      "model_module": "jupyter-js-widgets",
      "model_module_version": "~2.1.4",
      "model_name": "HTMLModel",
      "state": {
       "_model_module_version": "~2.1.4",
       "_view_module_version": "~2.1.4",
       "layout": "IPY_MODEL_ef5d1e8727c541d186045c713243592f",
       "value": "\n<!-- TODO: Remove this SCRIPT when next version of ipywidgets comes out -->\n<style>\n.widget-html > .widget-html-content, .widget-htmlmath > .widget-html-content {\n    /* Fill out the area in the HTML widget */\n    align-self: stretch;\n    flex-grow: 1;\n    flex-shrink: 1;\n    /* Makes sure the baseline is still aligned with other elements */\n    line-height: var(--jp-widgets-inline-height);\n    /* Make it possible to have absolutely-positioned elements in the html */\n    position: relative;\n}\n</style>\n\n<iframe src=\"https://conx.readthedocs.io\" width=\"100%\" height=\"550px\"></frame>\n"
      }
     },
     "7e6d705adc0b4d27a75aa506b4953a86": {
      "model_module": "jupyter-js-widgets",
      "model_module_version": "~2.1.4",
      "model_name": "ButtonModel",
      "state": {
       "_model_module_version": "~2.1.4",
       "_view_module_version": "~2.1.4",
       "icon": "backward",
       "layout": "IPY_MODEL_b7a124cec68d4b37a1bdb507c29fafac",
       "style": "IPY_MODEL_d5ff1236ee6e441f8b110cba22a7016f"
      }
     },
     "7ec87c9523b043a1a05ea0e87f386bd6": {
      "model_module": "jupyter-js-widgets",
      "model_module_version": "~2.1.4",
      "model_name": "HTMLModel",
      "state": {
       "_model_module_version": "~2.1.4",
       "_view_module_version": "~2.1.4",
       "layout": "IPY_MODEL_b8e77711f8ff489ba482524080d703a1",
       "value": "<p style=\"text-align:center\">\n        <svg id='MNIST-CNN' xmlns='http://www.w3.org/2000/svg' width=\"650\" height=\"1272\" image-rendering=\"pixelated\">\n    <defs>\n        <marker id=\"arrow\" markerWidth=\"10\" markerHeight=\"10\" refX=\"9\" refY=\"3\" orient=\"auto\" markerUnits=\"strokeWidth\">\n          <path d=\"M0,0 L0,6 L9,3 z\" fill=\"black\" />\n        </marker>\n    </defs>\n<text x=\"325.0\" y=\"12.5\" font-family=\"monospace\" font-size=\"15\" text-anchor=\"middle\" alignment-baseline=\"central\">MNIST-CNN</text><rect x=\"224.0\" y=\"29\" width=\"202\" height=\"27\" style=\"fill:none;stroke:black;stroke-width:2\"/><image id=\"MNIST-CNN_output_1\" class=\"MNIST-CNN_output\" x=\"225.0\" y=\"30\" height=\"25\" width=\"200\" preserveAspectRatio=\"none\" href=\"data:image/gif;base64,R0lGODdhCgABAIcAAKcWKoQJI2wBH3IDILknMtZgTe+begAAAAAAAAAAAAAAAAAAAAAAAAAAAAAAAAAAAAAAAAAAAAAAAAAAAAAAAAAAAAAAAAAAAAAAAAAAAAAAAAAAAAAAAAAAAAAAAAAAAAAAAAAAAAAAAAAAAAAAAAAAAAAAAAAAAAAAAAAAAAAAAAAAAAAAAAAAAAAAAAAAAAAAAAAAAAAAAAAAAAAAAAAAAAAAAAAAAAAAAAAAAAAAAAAAAAAAAAAAAAAAAAAAAAAAAAAAAAAAAAAAAAAAAAAAAAAAAAAAAAAAAAAAAAAAAAAAAAAAAAAAAAAAAAAAAAAAAAAAAAAAAAAAAAAAAAAAAAAAAAAAAAAAAAAAAAAAAAAAAAAAAAAAAAAAAAAAAAAAAAAAAAAAAAAAAAAAAAAAAAAAAAAAAAAAAAAAAAAAAAAAAAAAAAAAAAAAAAAAAAAAAAAAAAAAAAAAAAAAAAAAAAAAAAAAAAAAAAAAAAAAAAAAAAAAAAAAAAAAAAAAAAAAAAAAAAAAAAAAAAAAAAAAAAAAAAAAAAAAAAAAAAAAAAAAAAAAAAAAAAAAAAAAAAAAAAAAAAAAAAAAAAAAAAAAAAAAAAAAAAAAAAAAAAAAAAAAAAAAAAAAAAAAAAAAAAAAAAAAAAAAAAAAAAAAAAAAAAAAAAAAAAAAAAAAAAAAAAAAAAAAAAAAAAAAAAAAAAAAAAAAAAAAAAAAAAAAAAAAAAAAAAAAAAAAAAAAAAAAAAAAAAAAAAAAAAAAAAAAAAAAAAAAAAAAAAAAAAAAAAAAAAAAAAAAAAAAAAAAAAAAAAAAAAAAAAAAAAAAAAAAAAAAAAAAAAAAAAAAAAAAAAAAAAAAAAAAAAAAAAAAAAAAAAAAAAAAAAAAAAAAAAAAAAAAAAAAAAAAAAAAAAAAAAAAAAAAAAAAAAAAAAAAAAAAAAAAAAAAAAAAAAAAAAAAAAAAAAAAAAAAAAAAAAAAAAAAAAAAAAAAAAAAAAAAAAAAAAAAAAAAAAAAAAAAAAAAACwAAAAACgABAAAIDgANEBhQAIAAAAECAAgIADs=\"><title>Layer: output (output)\n shape = (10,)\n Keras class = Dense\n activation = softmax</title></image><text x=\"430.0\" y=\"44.5\" font-family=\"monospace\" font-size=\"12\" text-anchor=\"start\" alignment-baseline=\"central\">output</text><line x1=\"325.0\" y1=\"84\" x2=\"325.0\" y2=\"57\" stroke=\"black\" stroke-width=\"2\" marker-end=\"url(#arrow)\"><title>Weights from hidden to output\n output/kernel has shape (1000, 10)\n output/bias has shape (10,)</title></line><rect x=\"74.0\" y=\"84\" width=\"502\" height=\"34\" style=\"fill:none;stroke:black;stroke-width:2\"/><image id=\"MNIST-CNN_hidden_2\" class=\"MNIST-CNN_hidden\" x=\"75.0\" y=\"85\" height=\"32\" width=\"500\" preserveAspectRatio=\"none\" href=\"data:image/gif;base64,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\"><title>Layer: hidden (hidden)\n shape = (1000,)\n Keras class = Dense\n activation = relu</title></image><text x=\"580.0\" y=\"103.0\" font-family=\"monospace\" font-size=\"12\" text-anchor=\"start\" alignment-baseline=\"central\">hidden</text><rect x=\"224.0\" y=\"126\" width=\"202\" height=\"202\" style=\"fill:none;stroke:black;stroke-width:2\"/><image id=\"MNIST-CNN_maxpool2_3\" class=\"MNIST-CNN_maxpool2\" x=\"225.0\" y=\"127\" height=\"200\" width=\"200\" preserveAspectRatio=\"none\" href=\"data:image/gif;base64,R0lGODdhBAAEAIcAAP39/AAAAAAAAAAAAAAAAAAAAAAAAAAAAAAAAAAAAAAAAAAAAAAAAAAAAAAAAAAAAAAAAAAAAAAAAAAAAAAAAAAAAAAAAAAAAAAAAAAAAAAAAAAAAAAAAAAAAAAAAAAAAAAAAAAAAAAAAAAAAAAAAAAAAAAAAAAAAAAAAAAAAAAAAAAAAAAAAAAAAAAAAAAAAAAAAAAAAAAAAAAAAAAAAAAAAAAAAAAAAAAAAAAAAAAAAAAAAAAAAAAAAAAAAAAAAAAAAAAAAAAAAAAAAAAAAAAAAAAAAAAAAAAAAAAAAAAAAAAAAAAAAAAAAAAAAAAAAAAAAAAAAAAAAAAAAAAAAAAAAAAAAAAAAAAAAAAAAAAAAAAAAAAAAAAAAAAAAAAAAAAAAAAAAAAAAAAAAAAAAAAAAAAAAAAAAAAAAAAAAAAAAAAAAAAAAAAAAAAAAAAAAAAAAAAAAAAAAAAAAAAAAAAAAAAAAAAAAAAAAAAAAAAAAAAAAAAAAAAAAAAAAAAAAAAAAAAAAAAAAAAAAAAAAAAAAAAAAAAAAAAAAAAAAAAAAAAAAAAAAAAAAAAAAAAAAAAAAAAAAAAAAAAAAAAAAAAAAAAAAAAAAAAAAAAAAAAAAAAAAAAAAAAAAAAAAAAAAAAAAAAAAAAAAAAAAAAAAAAAAAAAAAAAAAAAAAAAAAAAAAAAAAAAAAAAAAAAAAAAAAAAAAAAAAAAAAAAAAAAAAAAAAAAAAAAAAAAAAAAAAAAAAAAAAAAAAAAAAAAAAAAAAAAAAAAAAAAAAAAAAAAAAAAAAAAAAAAAAAAAAAAAAAAAAAAAAAAAAAAAAAAAAAAAAAAAAAAAAAAAAAAAAAAAAAAAAAAAAAAAAAAAAAAAAAAAAAAAAAAAAAAAAAAAAAAAAAAAAAAAAAAAAAAAAAAAAAAAAAAAAAAAAAAAAAAAAAAAAAAAAAAAAAAAAAAAAAAAAAAAAAAAAAAAAAAAAAAAAAAAAAAAAAAAAAAAAAAAAAAAAAAAAAAAAAAAAAAAAAAACwAAAAABAAEAAAICQABCBxIsCCAgAA7\"><title>Layer: maxpool2 (hidden)\n Keras class = MaxPooling2D</title></image><text x=\"430.0\" y=\"229.0\" font-family=\"monospace\" font-size=\"12\" text-anchor=\"start\" alignment-baseline=\"central\">maxpool2</text><line x1=\"325.0\" y1=\"356\" x2=\"325.0\" y2=\"329\" stroke=\"black\" stroke-width=\"2\" marker-end=\"url(#arrow)\"><title>Weights from Conv2D-2 to maxpool2</title></line><rect x=\"224.0\" y=\"356\" width=\"202\" height=\"202\" style=\"fill:none;stroke:black;stroke-width:2\"/><image id=\"MNIST-CNN_Conv2D-2_4\" class=\"MNIST-CNN_Conv2D-2\" x=\"225.0\" y=\"357\" height=\"200\" width=\"200\" preserveAspectRatio=\"none\" href=\"data:image/gif;base64,R0lGODdhCAAIAIcAAGcAHxoaGmtra7sqM85RRvjBpgAAAAAAAAAAAAAAAAAAAAAAAAAAAAAAAAAAAAAAAAAAAAAAAAAAAAAAAAAAAAAAAAAAAAAAAAAAAAAAAAAAAAAAAAAAAAAAAAAAAAAAAAAAAAAAAAAAAAAAAAAAAAAAAAAAAAAAAAAAAAAAAAAAAAAAAAAAAAAAAAAAAAAAAAAAAAAAAAAAAAAAAAAAAAAAAAAAAAAAAAAAAAAAAAAAAAAAAAAAAAAAAAAAAAAAAAAAAAAAAAAAAAAAAAAAAAAAAAAAAAAAAAAAAAAAAAAAAAAAAAAAAAAAAAAAAAAAAAAAAAAAAAAAAAAAAAAAAAAAAAAAAAAAAAAAAAAAAAAAAAAAAAAAAAAAAAAAAAAAAAAAAAAAAAAAAAAAAAAAAAAAAAAAAAAAAAAAAAAAAAAAAAAAAAAAAAAAAAAAAAAAAAAAAAAAAAAAAAAAAAAAAAAAAAAAAAAAAAAAAAAAAAAAAAAAAAAAAAAAAAAAAAAAAAAAAAAAAAAAAAAAAAAAAAAAAAAAAAAAAAAAAAAAAAAAAAAAAAAAAAAAAAAAAAAAAAAAAAAAAAAAAAAAAAAAAAAAAAAAAAAAAAAAAAAAAAAAAAAAAAAAAAAAAAAAAAAAAAAAAAAAAAAAAAAAAAAAAAAAAAAAAAAAAAAAAAAAAAAAAAAAAAAAAAAAAAAAAAAAAAAAAAAAAAAAAAAAAAAAAAAAAAAAAAAAAAAAAAAAAAAAAAAAAAAAAAAAAAAAAAAAAAAAAAAAAAAAAAAAAAAAAAAAAAAAAAAAAAAAAAAAAAAAAAAAAAAAAAAAAAAAAAAAAAAAAAAAAAAAAAAAAAAAAAAAAAAAAAAAAAAAAAAAAAAAAAAAAAAAAAAAAAAAAAAAAAAAAAAAAAAAAAAAAAAAAAAAAAAAAAAAAAAAAAAAAAAAAAAAAAAAAAAAAAAAAAAAAAAAAAAAAAAAAAAAAAAAAAAAAAAAAAAAAAAAAAAAAAAAAAAAAAAAAAAAAAAAAAAAACwAAAAACAAIAAAIHQABCBxIAEABAAgRBgAgYACAhxAjSpxIsaJFAAEBADs=\"><title>Layer: Conv2D-2 (hidden)\n Keras class = Conv2D\n activation = relu</title></image><text x=\"430.0\" y=\"459.0\" font-family=\"monospace\" font-size=\"12\" text-anchor=\"start\" alignment-baseline=\"central\">Conv2D-2</text><line x1=\"325.0\" y1=\"586\" x2=\"325.0\" y2=\"559\" stroke=\"black\" stroke-width=\"2\" marker-end=\"url(#arrow)\"><title>Weights from maxpool1 to Conv2D-2\n Conv2D-2/kernel has shape (5, 5, 16, 132)\n Conv2D-2/bias has shape (132,)</title></line><rect x=\"224.0\" y=\"586\" width=\"202\" height=\"202\" style=\"fill:none;stroke:black;stroke-width:2\"/><image id=\"MNIST-CNN_maxpool1_5\" class=\"MNIST-CNN_maxpool1\" x=\"225.0\" y=\"587\" height=\"200\" width=\"200\" preserveAspectRatio=\"none\" href=\"data:image/gif;base64,R0lGODdhDAAMAIcAAPz8++jo6KmpqdfX18fHx7e3t5qamoqKinl5eQAAAAAAAAAAAAAAAAAAAAAAAAAAAAAAAAAAAAAAAAAAAAAAAAAAAAAAAAAAAAAAAAAAAAAAAAAAAAAAAAAAAAAAAAAAAAAAAAAAAAAAAAAAAAAAAAAAAAAAAAAAAAAAAAAAAAAAAAAAAAAAAAAAAAAAAAAAAAAAAAAAAAAAAAAAAAAAAAAAAAAAAAAAAAAAAAAAAAAAAAAAAAAAAAAAAAAAAAAAAAAAAAAAAAAAAAAAAAAAAAAAAAAAAAAAAAAAAAAAAAAAAAAAAAAAAAAAAAAAAAAAAAAAAAAAAAAAAAAAAAAAAAAAAAAAAAAAAAAAAAAAAAAAAAAAAAAAAAAAAAAAAAAAAAAAAAAAAAAAAAAAAAAAAAAAAAAAAAAAAAAAAAAAAAAAAAAAAAAAAAAAAAAAAAAAAAAAAAAAAAAAAAAAAAAAAAAAAAAAAAAAAAAAAAAAAAAAAAAAAAAAAAAAAAAAAAAAAAAAAAAAAAAAAAAAAAAAAAAAAAAAAAAAAAAAAAAAAAAAAAAAAAAAAAAAAAAAAAAAAAAAAAAAAAAAAAAAAAAAAAAAAAAAAAAAAAAAAAAAAAAAAAAAAAAAAAAAAAAAAAAAAAAAAAAAAAAAAAAAAAAAAAAAAAAAAAAAAAAAAAAAAAAAAAAAAAAAAAAAAAAAAAAAAAAAAAAAAAAAAAAAAAAAAAAAAAAAAAAAAAAAAAAAAAAAAAAAAAAAAAAAAAAAAAAAAAAAAAAAAAAAAAAAAAAAAAAAAAAAAAAAAAAAAAAAAAAAAAAAAAAAAAAAAAAAAAAAAAAAAAAAAAAAAAAAAAAAAAAAAAAAAAAAAAAAAAAAAAAAAAAAAAAAAAAAAAAAAAAAAAAAAAAAAAAAAAAAAAAAAAAAAAAAAAAAAAAAAAAAAAAAAAAAAAAAAAAAAAAAAAAAAAAAAAAAAAAAAAAAAAAAAAAAAAAAAAAAAAAAAAAAAAAAAAAAAAAAAAAAAAAAAAAAACwAAAAADAAMAAAIgAABCBw4MACAgwACBCBAoEABAgUCAJhIQMABAwYEDBgQAIDHAQIQGCBQIEAAAChRBjBwAECAAABiygRAQICBAQBy6tQ5wMABAgCCCg0agAACAQCSKg1AQIAAAwUASAUQgEABAQIKDBgAoGuAAgIEFBgQIACAs2cDDFgbAIDbtwEBADs=\"><title>Layer: maxpool1 (hidden)\n Keras class = MaxPooling2D</title></image><text x=\"430.0\" y=\"689.0\" font-family=\"monospace\" font-size=\"12\" text-anchor=\"start\" alignment-baseline=\"central\">maxpool1</text><line x1=\"325.0\" y1=\"816\" x2=\"325.0\" y2=\"789\" stroke=\"black\" stroke-width=\"2\" marker-end=\"url(#arrow)\"><title>Weights from Conv2D-1 to maxpool1</title></line><rect x=\"224.0\" y=\"816\" width=\"202\" height=\"202\" style=\"fill:none;stroke:black;stroke-width:2\"/><image id=\"MNIST-CNN_Conv2D-1_6\" class=\"MNIST-CNN_Conv2D-1\" x=\"225.0\" y=\"817\" height=\"200\" width=\"200\" preserveAspectRatio=\"none\" href=\"data:image/gif;base64,R0lGODdhGAAYAIcAAGgAH3QDIPn39YoLJKsWKevo5tbW1ra2tu2Xd9loU8bGxvnIsME4OctLQvzZxqqqquWDaPa2mImJibkmMd1yWvSnhf3m2ZoQJ9JZSfi+ond3d5mZmeF7YSwsLFVVVfvTvRoaGjQ0NERERGBgYL4wNsdDP+B4XwAAAAAAAAAAAAAAAAAAAAAAAAAAAAAAAAAAAAAAAAAAAAAAAAAAAAAAAAAAAAAAAAAAAAAAAAAAAAAAAAAAAAAAAAAAAAAAAAAAAAAAAAAAAAAAAAAAAAAAAAAAAAAAAAAAAAAAAAAAAAAAAAAAAAAAAAAAAAAAAAAAAAAAAAAAAAAAAAAAAAAAAAAAAAAAAAAAAAAAAAAAAAAAAAAAAAAAAAAAAAAAAAAAAAAAAAAAAAAAAAAAAAAAAAAAAAAAAAAAAAAAAAAAAAAAAAAAAAAAAAAAAAAAAAAAAAAAAAAAAAAAAAAAAAAAAAAAAAAAAAAAAAAAAAAAAAAAAAAAAAAAAAAAAAAAAAAAAAAAAAAAAAAAAAAAAAAAAAAAAAAAAAAAAAAAAAAAAAAAAAAAAAAAAAAAAAAAAAAAAAAAAAAAAAAAAAAAAAAAAAAAAAAAAAAAAAAAAAAAAAAAAAAAAAAAAAAAAAAAAAAAAAAAAAAAAAAAAAAAAAAAAAAAAAAAAAAAAAAAAAAAAAAAAAAAAAAAAAAAAAAAAAAAAAAAAAAAAAAAAAAAAAAAAAAAAAAAAAAAAAAAAAAAAAAAAAAAAAAAAAAAAAAAAAAAAAAAAAAAAAAAAAAAAAAAAAAAAAAAAAAAAAAAAAAAAAAAAAAAAAAAAAAAAAAAAAAAAAAAAAAAAAAAAAAAAAAAAAAAAAAAAAAAAAAAAAAAAAAAAAAAAAAAAAAAAAAAAAAAAAAAAAAAAAAAAAAAAAAAAAAAAAAAAAAAAAAAAAAAAAAAAAAAAAAAAAAAAAAAAAAAAAAAAAAAAAAAAAAAAAAAAAAAAAAAAAAAAAAAAAAAAAAAAAAAAAAAAAAAAAAAAAAAACwAAAAAGAAYAEAI/wABCBxIsKDBgwAIEKBQQIKICAEAUAjAIACAixgzZhxgwoEAAwYkHDDAgQCAkyhPBmhgQYGBlwoOGHhwQECCDBEWIJgQAIDPn0AHIHDwYMOBAgwAAAgAoCmAAA0sFDBwoIACBQUsIICAAMOAAAMCABhLtmyAswQITGiAAcGCCBQWCBCQAIDduwAuZBBwQEMHDQ4WCCiwoAGDwxcGDAgAoLHjAAAICFBwoAAFAgAya97MmfOAEgI8gNiQAIDp06gJJKggwMCBAwoMCHBQoQKDCQBy5w5AIAEEBx8WZFiAgAOBAAMCAFjOvLnz5gECABhAgEAAABgYXAAAIACA798ZINxAkKGAAAEFChgo8EFAAQsNAMifHwCDgAf4R2hQYEDCAYACBkCoECEBgQEBACxciAGCgAMhHkQgUMFBggkDAmzcCMDjRwADAEQwsKEAAQADAAQYAMDlS5gxKQg4IMFAhAkAdO7k2XMngQYLDkjwUIAAAKRJlS4FQCDBAgESOjxAAABAAABZtWoN0MCBAAMHDhRQIMACgwsDAgBgy5YAhAUCDCg4oKCAAAcI9CYIMGAAAMAACFQQYMBAAcQWMkBAkOBCgAEBAEymTHkCBQQIIHBoQALAgAAARI8mDSAgADs=\"><title>Layer: Conv2D-1 (hidden)\n Keras class = Conv2D\n activation = relu</title></image><text x=\"430.0\" y=\"919.0\" font-family=\"monospace\" font-size=\"12\" text-anchor=\"start\" alignment-baseline=\"central\">Conv2D-1</text><line x1=\"325.0\" y1=\"1046\" x2=\"325.0\" y2=\"1019\" stroke=\"black\" stroke-width=\"2\" marker-end=\"url(#arrow)\"><title>Weights from input to Conv2D-1\n Conv2D-1/kernel has shape (5, 5, 1, 16)\n Conv2D-1/bias has shape (16,)</title></line><rect x=\"224.0\" y=\"1046\" width=\"202\" height=\"202\" style=\"fill:none;stroke:black;stroke-width:2\"/><image id=\"MNIST-CNN_input_7\" class=\"MNIST-CNN_input\" x=\"225.0\" y=\"1047\" height=\"200\" width=\"200\" preserveAspectRatio=\"none\" href=\"data:image/gif;base64,R0lGODdhHAAcAIcAAAoAAP//9jAAAP/8DP//z00AANcAAPMAAG4AAI0AAP+aAP9nAP/MAP//jbMAAP9yAP/pAP//T///c/8lAP9XAP+qAP//Mv82AP9EAP+/AP/WAP//vAAAAAAAAAAAAAAAAAAAAAAAAAAAAAAAAAAAAAAAAAAAAAAAAAAAAAAAAAAAAAAAAAAAAAAAAAAAAAAAAAAAAAAAAAAAAAAAAAAAAAAAAAAAAAAAAAAAAAAAAAAAAAAAAAAAAAAAAAAAAAAAAAAAAAAAAAAAAAAAAAAAAAAAAAAAAAAAAAAAAAAAAAAAAAAAAAAAAAAAAAAAAAAAAAAAAAAAAAAAAAAAAAAAAAAAAAAAAAAAAAAAAAAAAAAAAAAAAAAAAAAAAAAAAAAAAAAAAAAAAAAAAAAAAAAAAAAAAAAAAAAAAAAAAAAAAAAAAAAAAAAAAAAAAAAAAAAAAAAAAAAAAAAAAAAAAAAAAAAAAAAAAAAAAAAAAAAAAAAAAAAAAAAAAAAAAAAAAAAAAAAAAAAAAAAAAAAAAAAAAAAAAAAAAAAAAAAAAAAAAAAAAAAAAAAAAAAAAAAAAAAAAAAAAAAAAAAAAAAAAAAAAAAAAAAAAAAAAAAAAAAAAAAAAAAAAAAAAAAAAAAAAAAAAAAAAAAAAAAAAAAAAAAAAAAAAAAAAAAAAAAAAAAAAAAAAAAAAAAAAAAAAAAAAAAAAAAAAAAAAAAAAAAAAAAAAAAAAAAAAAAAAAAAAAAAAAAAAAAAAAAAAAAAAAAAAAAAAAAAAAAAAAAAAAAAAAAAAAAAAAAAAAAAAAAAAAAAAAAAAAAAAAAAAAAAAAAAAAAAAAAAAAAAAAAAAAAAAAAAAAAAAAAAAAAAAAAAAAAAAAAAAAAAAAAAAAAAAAAAAAAAAAAAAAAAAAAAAAAAAAAAAAAAAAAAAAAAAAAAAAAAAAAAAAAAAAAAAAAAAAAAAAAAAAAAAAAAAAAAAAAAAAAAAAAAAAAAAAAAAAAAAAAAAAAAAAAAAAAAAAAAAAAAAAAAACwAAAAAHAAcAEAI/wABCBxIsKDBgwcFSAjAkOEACAQIAJhIsaLFixUFHAgQYACAjyBDfnwQoGSEBQsEAFjJsqXLlzBjypwpYEAAAwBy6tzJs2fOAhckBBgawIIBAEiTKl3KtKnTpwUQHFDAIIBVqw0YBCAwwAGAr2DDghUAQEGAAwDSql3Ltm1bAwQCBMBQAIDdu3jz6rWbYAGEAAEiABhMuHBhAQwkBFgcYIABAQAiS55MubLly5gza97MufNkAaApPNBQIEMAAhQAqF7NGkCCDQFiy5Z9oHYCBABy696t20CFCQECWBAAAIECAMiTK1/O/EGAAQCiS59OvTp1BAQaVJgAoLv37+DDf1FPMCBAAAUFAKhfz769e/YB4jsAQL++/fv2EShoEKB/AIAQAAwkWNAggAIOIgRgGGCAAQARJU6kmIBBgwAZAxBYIADAR5AhRY4kWdLkSZQhAwIAOw==\"><title>Layer: input (input)\n shape = (28, 28, 1)\n Keras class = Input</title></image><text x=\"430.0\" y=\"1149.0\" font-family=\"monospace\" font-size=\"12\" text-anchor=\"start\" alignment-baseline=\"central\">input</text></svg></p>"
      }
     },
     "8d8fe6ba61c9479d8bc08e087cf55a56": {
      "model_module": "jupyter-js-widgets",
      "model_module_version": "~2.1.4",
      "model_name": "LayoutModel",
      "state": {
       "_model_module_version": "~2.1.4",
       "_view_module_version": "~2.1.4"
      }
     },
     "8e5baa3522cf49e6bfe0e344b8c8ee5c": {
      "model_module": "jupyter-js-widgets",
      "model_module_version": "~2.1.4",
      "model_name": "LayoutModel",
      "state": {
       "_model_module_version": "~2.1.4",
       "_view_module_version": "~2.1.4",
       "width": "100%"
      }
     },
     "8fbdb723ae4e4ca1ba2d59191d1c0e32": {
      "model_module": "jupyter-js-widgets",
      "model_module_version": "~2.1.4",
      "model_name": "ButtonStyleModel",
      "state": {
       "_model_module_version": "~2.1.4",
       "_view_module_version": "~2.1.4"
      }
     },
     "91193847d5754c75b5158411ee9420da": {
      "model_module": "jupyter-js-widgets",
      "model_module_version": "~2.1.4",
      "model_name": "ButtonStyleModel",
      "state": {
       "_model_module_version": "~2.1.4",
       "_view_module_version": "~2.1.4"
      }
     },
     "940f1509a7214f9fb398fab42f859fc1": {
      "model_module": "jupyter-js-widgets",
      "model_module_version": "~2.1.4",
      "model_name": "ButtonModel",
      "state": {
       "_model_module_version": "~2.1.4",
       "_view_module_version": "~2.1.4",
       "description": "Train",
       "layout": "IPY_MODEL_1dc286f37d8f4f47accc3f8d92fd707d",
       "style": "IPY_MODEL_103cad9fdbd44bd2b5a13df6e7f97117"
      }
     },
     "9803d4ca10ba4bf9adadcdaf411a4d86": {
      "model_module": "jupyter-js-widgets",
      "model_module_version": "~2.1.4",
      "model_name": "LayoutModel",
      "state": {
       "_model_module_version": "~2.1.4",
       "_view_module_version": "~2.1.4",
       "width": "100%"
      }
     },
     "9b4dc03fb8cf40aa8e9e523b8de3712d": {
      "model_module": "jupyter-js-widgets",
      "model_module_version": "~2.1.4",
      "model_name": "LayoutModel",
      "state": {
       "_model_module_version": "~2.1.4",
       "_view_module_version": "~2.1.4",
       "width": "100%"
      }
     },
     "9b57d65f3bb04523bc66862dc7d2a21b": {
      "model_module": "jupyter-js-widgets",
      "model_module_version": "~2.1.4",
      "model_name": "ButtonModel",
      "state": {
       "_model_module_version": "~2.1.4",
       "_view_module_version": "~2.1.4",
       "icon": "fast-forward",
       "layout": "IPY_MODEL_a3611ad5803f455fa32f43489f838f52",
       "style": "IPY_MODEL_572c43f36a7747148c6479adf07e1ffd"
      }
     },
     "a163c93b6a29476c965ec1710077a8de": {
      "model_module": "jupyter-js-widgets",
      "model_module_version": "~2.1.4",
      "model_name": "LayoutModel",
      "state": {
       "_model_module_version": "~2.1.4",
       "_view_module_version": "~2.1.4",
       "width": "100%"
      }
     },
     "a2c38d586b2b4e469dc9fcfed691838b": {
      "model_module": "jupyter-js-widgets",
      "model_module_version": "~2.1.4",
      "model_name": "LayoutModel",
      "state": {
       "_model_module_version": "~2.1.4",
       "_view_module_version": "~2.1.4",
       "width": "100%"
      }
     },
     "a3611ad5803f455fa32f43489f838f52": {
      "model_module": "jupyter-js-widgets",
      "model_module_version": "~2.1.4",
      "model_name": "LayoutModel",
      "state": {
       "_model_module_version": "~2.1.4",
       "_view_module_version": "~2.1.4",
       "width": "100%"
      }
     },
     "a545801a367d44938656831783bb055a": {
      "model_module": "jupyter-js-widgets",
      "model_module_version": "~2.1.4",
      "model_name": "SliderStyleModel",
      "state": {
       "_model_module_version": "~2.1.4",
       "_view_module_version": "~2.1.4"
      }
     },
     "a8ebeb06b7284d70b49e98885289132d": {
      "model_module": "jupyter-js-widgets",
      "model_module_version": "~2.1.4",
      "model_name": "TabModel",
      "state": {
       "_model_module_version": "~2.1.4",
       "_titles": {
        "0": "Network",
        "1": "Help"
       },
       "_view_module_version": "~2.1.4",
       "children": [
        "IPY_MODEL_4ccc973cbfdb4e73932bc667ce2e58d9",
        "IPY_MODEL_7e683554bec64f4493588a3ee9ede246"
       ],
       "layout": "IPY_MODEL_4851479cf6414bbb8c09bf7a0b99858a"
      }
     },
     "ac60e5f4dcad4a3d83570fbe776bd3a4": {
      "model_module": "jupyter-js-widgets",
      "model_module_version": "~2.1.4",
      "model_name": "HTMLModel",
      "state": {
       "_model_module_version": "~2.1.4",
       "_view_module_version": "~2.1.4",
       "layout": "IPY_MODEL_2d354eff85394685941aee69ad72ef8b",
       "value": "\n<!-- TODO: Remove this SCRIPT when next version of ipywidgets comes out -->\n<style>\n.widget-html > .widget-html-content, .widget-htmlmath > .widget-html-content {\n    /* Fill out the area in the HTML widget */\n    align-self: stretch;\n    flex-grow: 1;\n    flex-shrink: 1;\n    /* Makes sure the baseline is still aligned with other elements */\n    line-height: var(--jp-widgets-inline-height);\n    /* Make it possible to have absolutely-positioned elements in the html */\n    position: relative;\n}\n</style>\n\n<iframe src=\"https://conx.readthedocs.io\" width=\"100%\" height=\"550px\"></frame>\n"
      }
     },
     "add8acb1f6a04d7c977ca1d5623257b2": {
      "model_module": "jupyter-js-widgets",
      "model_module_version": "~2.1.4",
      "model_name": "TabModel",
      "state": {
       "_model_module_version": "~2.1.4",
       "_titles": {
        "0": "Network",
        "1": "Help"
       },
       "_view_module_version": "~2.1.4",
       "children": [
        "IPY_MODEL_c30a834da02348f4b22a676c9308587f",
        "IPY_MODEL_ac60e5f4dcad4a3d83570fbe776bd3a4"
       ],
       "layout": "IPY_MODEL_8d8fe6ba61c9479d8bc08e087cf55a56"
      }
     },
     "afd9314fb7d64e7d9ae5472de14129bc": {
      "model_module": "jupyter-js-widgets",
      "model_module_version": "~2.1.4",
      "model_name": "ButtonModel",
      "state": {
       "_model_module_version": "~2.1.4",
       "_view_module_version": "~2.1.4",
       "icon": "fast-forward",
       "layout": "IPY_MODEL_a163c93b6a29476c965ec1710077a8de",
       "style": "IPY_MODEL_ed730016825042d392240d0a2b20b3b9"
      }
     },
     "b0ec5207e609410a94cf104bc0c0def0": {
      "model_module": "jupyter-js-widgets",
      "model_module_version": "~2.1.4",
      "model_name": "LayoutModel",
      "state": {
       "_model_module_version": "~2.1.4",
       "_view_module_version": "~2.1.4",
       "width": "100%"
      }
     },
     "b7a124cec68d4b37a1bdb507c29fafac": {
      "model_module": "jupyter-js-widgets",
      "model_module_version": "~2.1.4",
      "model_name": "LayoutModel",
      "state": {
       "_model_module_version": "~2.1.4",
       "_view_module_version": "~2.1.4",
       "width": "100%"
      }
     },
     "b8c802bfb6a749b88f7d6e67a823675d": {
      "model_module": "jupyter-js-widgets",
      "model_module_version": "~2.1.4",
      "model_name": "HTMLModel",
      "state": {
       "_model_module_version": "~2.1.4",
       "_view_module_version": "~2.1.4",
       "layout": "IPY_MODEL_dc05f745dca34493b69d226dd5bbc50e",
       "value": "<p style=\"text-align:center\">\n        <svg id='MNIST' xmlns='http://www.w3.org/2000/svg' width=\"350\" height=\"570\" image-rendering=\"pixelated\">\n    <defs>\n        <marker id=\"arrow\" markerWidth=\"10\" markerHeight=\"10\" refX=\"9\" refY=\"3\" orient=\"auto\" markerUnits=\"strokeWidth\">\n          <path d=\"M0,0 L0,6 L9,3 z\" fill=\"black\" />\n        </marker>\n    </defs>\n<text x=\"175.0\" y=\"12.5\" font-family=\"monospace\" font-size=\"15\" text-anchor=\"middle\" alignment-baseline=\"central\">MNIST</text><rect x=\"74.0\" y=\"29\" width=\"202\" height=\"27\" style=\"fill:none;stroke:black;stroke-width:2\"/><image id=\"MNIST_output_1\" class=\"MNIST_output\" x=\"75.0\" y=\"30\" height=\"25\" width=\"200\" preserveAspectRatio=\"none\" href=\"data:image/gif;base64,R0lGODdhCgABAIcAAKkVKZsQJ7ooMr8yNwAAAAAAAAAAAAAAAAAAAAAAAAAAAAAAAAAAAAAAAAAAAAAAAAAAAAAAAAAAAAAAAAAAAAAAAAAAAAAAAAAAAAAAAAAAAAAAAAAAAAAAAAAAAAAAAAAAAAAAAAAAAAAAAAAAAAAAAAAAAAAAAAAAAAAAAAAAAAAAAAAAAAAAAAAAAAAAAAAAAAAAAAAAAAAAAAAAAAAAAAAAAAAAAAAAAAAAAAAAAAAAAAAAAAAAAAAAAAAAAAAAAAAAAAAAAAAAAAAAAAAAAAAAAAAAAAAAAAAAAAAAAAAAAAAAAAAAAAAAAAAAAAAAAAAAAAAAAAAAAAAAAAAAAAAAAAAAAAAAAAAAAAAAAAAAAAAAAAAAAAAAAAAAAAAAAAAAAAAAAAAAAAAAAAAAAAAAAAAAAAAAAAAAAAAAAAAAAAAAAAAAAAAAAAAAAAAAAAAAAAAAAAAAAAAAAAAAAAAAAAAAAAAAAAAAAAAAAAAAAAAAAAAAAAAAAAAAAAAAAAAAAAAAAAAAAAAAAAAAAAAAAAAAAAAAAAAAAAAAAAAAAAAAAAAAAAAAAAAAAAAAAAAAAAAAAAAAAAAAAAAAAAAAAAAAAAAAAAAAAAAAAAAAAAAAAAAAAAAAAAAAAAAAAAAAAAAAAAAAAAAAAAAAAAAAAAAAAAAAAAAAAAAAAAAAAAAAAAAAAAAAAAAAAAAAAAAAAAAAAAAAAAAAAAAAAAAAAAAAAAAAAAAAAAAAAAAAAAAAAAAAAAAAAAAAAAAAAAAAAAAAAAAAAAAAAAAAAAAAAAAAAAAAAAAAAAAAAAAAAAAAAAAAAAAAAAAAAAAAAAAAAAAAAAAAAAAAAAAAAAAAAAAAAAAAAAAAAAAAAAAAAAAAAAAAAAAAAAAAAAAAAAAAAAAAAAAAAAAAAAAAAAAAAAAAAAAAAAAAAAAAAAAAAAAAAAAAAAAAAAAAAAAAAAAAAAAAAAAAAAAAAAAAAAAAAAAAAAAAAAAAAAAAAAAAAAAAAAAAAAAAAAAAACwAAAAACgABAAAIDgABAAgQAACAAQAECAgIADs=\"><title>Layer: output (output)\n shape = (10,)\n Keras class = Dense\n activation = softmax</title></image><text x=\"280.0\" y=\"44.5\" font-family=\"monospace\" font-size=\"12\" text-anchor=\"start\" alignment-baseline=\"central\">output</text><line x1=\"175.0\" y1=\"84\" x2=\"175.0\" y2=\"57\" stroke=\"black\" stroke-width=\"2\" marker-end=\"url(#arrow)\"><title>Weights from hidden2 to output\n output/kernel has shape (512, 10)\n output/bias has shape (10,)</title></line><rect x=\"74.0\" y=\"84\" width=\"202\" height=\"102\" style=\"fill:none;stroke:black;stroke-width:2\"/><image id=\"MNIST_hidden2_2\" class=\"MNIST_hidden2\" x=\"75.0\" y=\"85\" height=\"100\" width=\"200\" preserveAspectRatio=\"none\" href=\"data:image/gif;base64,R0lGODdhIAAQAIcAAGcAH6wXKvr39thmUosLJLkmMXYEIevn5eaGavSohvzax/a3mfnHrtBVSNfX1+2VdpsQJ8I6OsZCPsvLy8tLQvvSvP3j0+F7YfKgft1xWvi+or4xNru7u+B4XxoaGjw8PH19fZ+fnwAAAAAAAAAAAAAAAAAAAAAAAAAAAAAAAAAAAAAAAAAAAAAAAAAAAAAAAAAAAAAAAAAAAAAAAAAAAAAAAAAAAAAAAAAAAAAAAAAAAAAAAAAAAAAAAAAAAAAAAAAAAAAAAAAAAAAAAAAAAAAAAAAAAAAAAAAAAAAAAAAAAAAAAAAAAAAAAAAAAAAAAAAAAAAAAAAAAAAAAAAAAAAAAAAAAAAAAAAAAAAAAAAAAAAAAAAAAAAAAAAAAAAAAAAAAAAAAAAAAAAAAAAAAAAAAAAAAAAAAAAAAAAAAAAAAAAAAAAAAAAAAAAAAAAAAAAAAAAAAAAAAAAAAAAAAAAAAAAAAAAAAAAAAAAAAAAAAAAAAAAAAAAAAAAAAAAAAAAAAAAAAAAAAAAAAAAAAAAAAAAAAAAAAAAAAAAAAAAAAAAAAAAAAAAAAAAAAAAAAAAAAAAAAAAAAAAAAAAAAAAAAAAAAAAAAAAAAAAAAAAAAAAAAAAAAAAAAAAAAAAAAAAAAAAAAAAAAAAAAAAAAAAAAAAAAAAAAAAAAAAAAAAAAAAAAAAAAAAAAAAAAAAAAAAAAAAAAAAAAAAAAAAAAAAAAAAAAAAAAAAAAAAAAAAAAAAAAAAAAAAAAAAAAAAAAAAAAAAAAAAAAAAAAAAAAAAAAAAAAAAAAAAAAAAAAAAAAAAAAAAAAAAAAAAAAAAAAAAAAAAAAAAAAAAAAAAAAAAAAAAAAAAAAAAAAAAAAAAAAAAAAAAAAAAAAAAAAAAAAAAAAAAAAAAAAAAAAAAAAAAAAAAAAAAAAAAAAAAAAAAAAAAAAAAAAAAAAAAAAAAAAAAAAAAAAAAAAAAAAAAAAAAAAAAAAAAAAAAAAAAAAAAAAAAAAAAAAAAAAAAAAAAAACwAAAAAIAAQAEAI/wABCBwgAIBBCAkUAFiIAMCBAh0AKADgoACAiwASCADAsSOAAAIAZAgAoAEABgMAAKDQgAAAAQBiAhAQAAAABAwYPADAswAAAAYOSFgAoGiADAAACMAAYEECAAA0KAAwYQIFCAoCBACwAACDBwYIABhrIACCAAQAqI1A4AOABgUAgABgIMCAAg8A6NVLAQCABgACO0gAYEEBAQAALAAAgAEFAAUWHACgQQCABQAyKwgBoHPnCwYAVADAIMAFAAMAAMgAoDWHBhgsVLCgoMICAAAQALiAAYCFAAgAOAAAwACA4xs8AABQAAMABAAQOABAfYCDAQkSACDwgAEAAA0AAP9AAMAAAQAHAgAQkAAABwAACgCYP6DABAD48wMoAADCBoAKAACwcECABgAAGgBgmIACAAABDABAAMCixQUHAABoMADAAwILAiQAEABAgQAABABQAMAlAAUQAAAIAKACAAIQDgx4cGBAAQAADAQAEAAAgAgABhwAYADAUwkGAABAAMDqggEAAFhQ0AEAAAYSBDgAAGBAgAcBAABgAKABgAgA5DIAEEAAAgAACjgIcMABAAEFAAweDAHA4QMCAgCQQAAAAAMICAgAUEEBAAATBjgA0Nmz5wcAIhA4AECBAACpBwBgLWGABACxARwAQADA7QgABgBIQCABAAATAAw3ACATAgAABAAAmJAAAAAGBAAAEHAhIAA7\"><title>Layer: hidden2 (hidden)\n shape = (512,)\n dropout = 0.2\n Keras class = Dense\n activation = relu</title></image><text x=\"280.0\" y=\"137.0\" font-family=\"monospace\" font-size=\"12\" text-anchor=\"start\" alignment-baseline=\"central\">hidden2</text><line x1=\"175.0\" y1=\"214\" x2=\"175.0\" y2=\"187\" stroke=\"black\" stroke-width=\"2\" marker-end=\"url(#arrow)\"><title>Weights from hidden1 to hidden2\n hidden2/kernel has shape (512, 512)\n hidden2/bias has shape (512,)</title></line><rect x=\"74.0\" y=\"214\" width=\"202\" height=\"102\" style=\"fill:none;stroke:black;stroke-width:2\"/><image id=\"MNIST_hidden1_3\" class=\"MNIST_hidden1\" x=\"75.0\" y=\"215\" height=\"100\" width=\"200\" preserveAspectRatio=\"none\" href=\"data:image/gif;base64,R0lGODdhIAAQAIcAAGcAH6sWKYsLJPr18rknMf3l2HgFIdBVSMM7OuaFastKQtlnU/a1lvnGrevn5JoQJ7q6uu6ZePSnhd1yWtvb28ZAPuJ9Y/3byCMjI6enp8nJyRwcHGhoaHR0dIiIiL4wNvKgfvvQuUBAQFlZWeB4X/i/owAAAAAAAAAAAAAAAAAAAAAAAAAAAAAAAAAAAAAAAAAAAAAAAAAAAAAAAAAAAAAAAAAAAAAAAAAAAAAAAAAAAAAAAAAAAAAAAAAAAAAAAAAAAAAAAAAAAAAAAAAAAAAAAAAAAAAAAAAAAAAAAAAAAAAAAAAAAAAAAAAAAAAAAAAAAAAAAAAAAAAAAAAAAAAAAAAAAAAAAAAAAAAAAAAAAAAAAAAAAAAAAAAAAAAAAAAAAAAAAAAAAAAAAAAAAAAAAAAAAAAAAAAAAAAAAAAAAAAAAAAAAAAAAAAAAAAAAAAAAAAAAAAAAAAAAAAAAAAAAAAAAAAAAAAAAAAAAAAAAAAAAAAAAAAAAAAAAAAAAAAAAAAAAAAAAAAAAAAAAAAAAAAAAAAAAAAAAAAAAAAAAAAAAAAAAAAAAAAAAAAAAAAAAAAAAAAAAAAAAAAAAAAAAAAAAAAAAAAAAAAAAAAAAAAAAAAAAAAAAAAAAAAAAAAAAAAAAAAAAAAAAAAAAAAAAAAAAAAAAAAAAAAAAAAAAAAAAAAAAAAAAAAAAAAAAAAAAAAAAAAAAAAAAAAAAAAAAAAAAAAAAAAAAAAAAAAAAAAAAAAAAAAAAAAAAAAAAAAAAAAAAAAAAAAAAAAAAAAAAAAAAAAAAAAAAAAAAAAAAAAAAAAAAAAAAAAAAAAAAAAAAAAAAAAAAAAAAAAAAAAAAAAAAAAAAAAAAAAAAAAAAAAAAAAAAAAAAAAAAAAAAAAAAAAAAAAAAAAAAAAAAAAAAAAAAAAAAAAAAAAAAAAAAAAAAAAAAAAAAAAAAAAAAAAAAAAAAAAAAAAAAAAAAAAAAAAAAAAAAAAAAAAAAAAAAAAAAAAAAAAAAAAAAAAAACwAAAAAIAAQAEAI/wABCBzhAIABAAgFPIhAAIBDhwcWABjAAYDFiwIAOAAwAACBDgIAKJAAYACAABMsQIAAoCUADAUAAPAAgACAmwYA6HxgAYBPAAMUABhKlKgGAAACAGgAAICABgAAUAAAQIACABI2FCiwgAKAAQAIAAgAAMAAABIAAAgA4AAAAAEAAFhwAQGAuwQySEAgQACACBEGABhgoIABAAAMBAhxAIDjxwwAAHAAoEAEAJgRADgQAEACAAU4dDiQocIDBQBEAABQAIBrAAEOABAAIACFDwACAABQIACADQwCAHgAYAKABwCSVwDQAACGDAAAMBAAAMAEAAAUANhuAUCDBADCE/8AAIDBhQADGABYD2CABgADAACAAABAAgAABAAgsGACAIAACAAQAEABAIQBACxc6ACAAgARIzqAQAABBAAZGxwAAALARwACGAAAMAAAAwAAKgBwUCIBgAMBAMyEAACAAQA5GQD4ACBBAAAAAhxYIAAAAAEAIgBgCkCCAAACAlwQAMAqgAEAtG7lqnWABwIFAIwdGwKABQAANIAAEAHAAAAKAACQAEAAALwPDjgAEAAABQCBAUwAUJhEAwAECgAAkMCAgAAAAAwAUNly5QYCLgBAAAADgAUSEAAAgAAAgAoCEiygECEBgAkAIAAAgAAAAAQBDBQwEACAgQUAhD9wkKAGAQDkyQMCADs=\"><title>Layer: hidden1 (hidden)\n shape = (512,)\n dropout = 0.2\n Keras class = Dense\n activation = relu</title></image><text x=\"280.0\" y=\"267.0\" font-family=\"monospace\" font-size=\"12\" text-anchor=\"start\" alignment-baseline=\"central\">hidden1</text><line x1=\"175.0\" y1=\"344\" x2=\"175.0\" y2=\"317\" stroke=\"black\" stroke-width=\"2\" marker-end=\"url(#arrow)\"><title>Weights from input to hidden1\n hidden1/kernel has shape (784, 512)\n hidden1/bias has shape (512,)</title></line><rect x=\"74.0\" y=\"344\" width=\"202\" height=\"202\" style=\"fill:none;stroke:black;stroke-width:2\"/><image id=\"MNIST_input_4\" class=\"MNIST_input\" x=\"75.0\" y=\"345\" height=\"200\" width=\"200\" preserveAspectRatio=\"none\" href=\"data:image/gif;base64,R0lGODdhHAAcAIcAAAoAAP//89MAAP//0ykAAK0AAPAAAP//cv/nAP//r1EAAP+aAP//h3AAAP8aAP9xAP/OAP/VAP/8Cv//UowAAP8sAP9JAP9bAP+GAP+8AP82AP9rAAAAAAAAAAAAAAAAAAAAAAAAAAAAAAAAAAAAAAAAAAAAAAAAAAAAAAAAAAAAAAAAAAAAAAAAAAAAAAAAAAAAAAAAAAAAAAAAAAAAAAAAAAAAAAAAAAAAAAAAAAAAAAAAAAAAAAAAAAAAAAAAAAAAAAAAAAAAAAAAAAAAAAAAAAAAAAAAAAAAAAAAAAAAAAAAAAAAAAAAAAAAAAAAAAAAAAAAAAAAAAAAAAAAAAAAAAAAAAAAAAAAAAAAAAAAAAAAAAAAAAAAAAAAAAAAAAAAAAAAAAAAAAAAAAAAAAAAAAAAAAAAAAAAAAAAAAAAAAAAAAAAAAAAAAAAAAAAAAAAAAAAAAAAAAAAAAAAAAAAAAAAAAAAAAAAAAAAAAAAAAAAAAAAAAAAAAAAAAAAAAAAAAAAAAAAAAAAAAAAAAAAAAAAAAAAAAAAAAAAAAAAAAAAAAAAAAAAAAAAAAAAAAAAAAAAAAAAAAAAAAAAAAAAAAAAAAAAAAAAAAAAAAAAAAAAAAAAAAAAAAAAAAAAAAAAAAAAAAAAAAAAAAAAAAAAAAAAAAAAAAAAAAAAAAAAAAAAAAAAAAAAAAAAAAAAAAAAAAAAAAAAAAAAAAAAAAAAAAAAAAAAAAAAAAAAAAAAAAAAAAAAAAAAAAAAAAAAAAAAAAAAAAAAAAAAAAAAAAAAAAAAAAAAAAAAAAAAAAAAAAAAAAAAAAAAAAAAAAAAAAAAAAAAAAAAAAAAAAAAAAAAAAAAAAAAAAAAAAAAAAAAAAAAAAAAAAAAAAAAAAAAAAAAAAAAAAAAAAAAAAAAAAAAAAAAAAAAAAAAAAAAAAAAAAAAAAAAAAAAAAAAAAAAAAAAAAAAAAAAAAAAAAAAAAAAAAAAAAAAAAAAAAAAAAAAAAAAAAAAAAAAAAAAAAAAACwAAAAAHAAcAEAI/wABCBxIsKDBgwgHOggggQCAhwAUHAgQIAKAixgxYgjAsaPHAAwWABhJsqRJkhkCXADAsqXLlzBjypwZk0GAABsA6NRJIUGAAQYACB1KtOhQBAEsAFjKtKnTp1CjSp0KNUGAAAYAaN2q1QCArwQgBAjgAIBZswgCFHAAoK3btwQgBBhQAIDduwYGBJhAAIDfv4ADBxYwYYAGAIgTK17M+EEABg0ASJ5MubLly5gza97MubPnz6AlG6AAoLRpAwMCJCgAoLXr1gQAyJaNIMAABQByAygQIIGEAgCCCx8uHEKAABgIAFgOoEIABA8KAJhOvToAAhECMDAAoLv3CQECIGIgAKC8+fMALgRYf6B9BQkHDgwIEGABgPv48+NvIKC/f4ACBCwIkEABAIQJFS5kCEDBgQEFAEykWNHixYkPAiwA0NHjR5AhO1oIMKABAJQpVa5kmTJDBAAxZc6kWdPmTZwBAQA7\"><title>Layer: input (input)\n shape = (784,)\n Keras class = Input</title></image><text x=\"280.0\" y=\"447.0\" font-family=\"monospace\" font-size=\"12\" text-anchor=\"start\" alignment-baseline=\"central\">input</text></svg></p>"
      }
     },
     "b8e77711f8ff489ba482524080d703a1": {
      "model_module": "jupyter-js-widgets",
      "model_module_version": "~2.1.4",
      "model_name": "LayoutModel",
      "state": {
       "_model_module_version": "~2.1.4",
       "_view_module_version": "~2.1.4",
       "height": "550px",
       "justify_content": "center",
       "overflow_x": "auto",
       "width": "100%"
      }
     },
     "b9ea215c260e4862bc4c4792189e8abb": {
      "model_module": "jupyter-js-widgets",
      "model_module_version": "~2.1.4",
      "model_name": "LayoutModel",
      "state": {
       "_model_module_version": "~2.1.4",
       "_view_module_version": "~2.1.4",
       "height": "550px",
       "width": "100%"
      }
     },
     "ba4a121d777e4f7b83db2c5702370b64": {
      "model_module": "jupyter-js-widgets",
      "model_module_version": "~2.1.4",
      "model_name": "LayoutModel",
      "state": {
       "_model_module_version": "~2.1.4",
       "_view_module_version": "~2.1.4",
       "width": "100%"
      }
     },
     "bfde97009d7146eab72661c485e76ff3": {
      "model_module": "jupyter-js-widgets",
      "model_module_version": "~2.1.4",
      "model_name": "ButtonStyleModel",
      "state": {
       "_model_module_version": "~2.1.4",
       "_view_module_version": "~2.1.4"
      }
     },
     "c30a834da02348f4b22a676c9308587f": {
      "model_module": "jupyter-js-widgets",
      "model_module_version": "~2.1.4",
      "model_name": "VBoxModel",
      "state": {
       "_model_module_version": "~2.1.4",
       "_view_module_version": "~2.1.4",
       "children": [
        "IPY_MODEL_b8c802bfb6a749b88f7d6e67a823675d",
        "IPY_MODEL_da88945082914b898baff00b9865e604"
       ],
       "layout": "IPY_MODEL_fdd54490ba0e4d1d961c30a548286a54"
      }
     },
     "c66bb517d081477e91bde321a0f1b62f": {
      "model_module": "jupyter-js-widgets",
      "model_module_version": "~2.1.4",
      "model_name": "IntSliderModel",
      "state": {
       "_model_module_version": "~2.1.4",
       "_view_module_version": "~2.1.4",
       "continuous_update": false,
       "description": "Dataset index",
       "layout": "IPY_MODEL_b0ec5207e609410a94cf104bc0c0def0",
       "max": 99,
       "style": "IPY_MODEL_a545801a367d44938656831783bb055a"
      }
     },
     "cd34173df3414f8492489cd7ca16dbf8": {
      "model_module": "jupyter-js-widgets",
      "model_module_version": "~2.1.4",
      "model_name": "ButtonStyleModel",
      "state": {
       "_model_module_version": "~2.1.4",
       "_view_module_version": "~2.1.4"
      }
     },
     "d5ff1236ee6e441f8b110cba22a7016f": {
      "model_module": "jupyter-js-widgets",
      "model_module_version": "~2.1.4",
      "model_name": "ButtonStyleModel",
      "state": {
       "_model_module_version": "~2.1.4",
       "_view_module_version": "~2.1.4"
      }
     },
     "da88945082914b898baff00b9865e604": {
      "model_module": "jupyter-js-widgets",
      "model_module_version": "~2.1.4",
      "model_name": "VBoxModel",
      "state": {
       "_model_module_version": "~2.1.4",
       "_view_module_version": "~2.1.4",
       "children": [
        "IPY_MODEL_1b1f28bda4a646a1961d3bea942a81ee",
        "IPY_MODEL_c66bb517d081477e91bde321a0f1b62f",
        "IPY_MODEL_1780d5158aa54fb291d3795d2266be74"
       ],
       "layout": "IPY_MODEL_a2c38d586b2b4e469dc9fcfed691838b"
      }
     },
     "dc05f745dca34493b69d226dd5bbc50e": {
      "model_module": "jupyter-js-widgets",
      "model_module_version": "~2.1.4",
      "model_name": "LayoutModel",
      "state": {
       "_model_module_version": "~2.1.4",
       "_view_module_version": "~2.1.4",
       "height": "550px",
       "justify_content": "center",
       "overflow_x": "auto",
       "width": "100%"
      }
     },
     "dcaabc9f00e647f5b7df4fc681738c04": {
      "model_module": "jupyter-js-widgets",
      "model_module_version": "~2.1.4",
      "model_name": "ButtonStyleModel",
      "state": {
       "_model_module_version": "~2.1.4",
       "_view_module_version": "~2.1.4"
      }
     },
     "dfe2ad5ff2f24f3aaa5188d40b55a859": {
      "model_module": "jupyter-js-widgets",
      "model_module_version": "~2.1.4",
      "model_name": "SelectModel",
      "state": {
       "_model_module_version": "~2.1.4",
       "_options_labels": [
        "Test",
        "Train"
       ],
       "_view_module_version": "~2.1.4",
       "description": "Dataset:",
       "layout": "IPY_MODEL_1b495297df554f9eb4bfeaea7b68805d",
       "value": "Train"
      }
     },
     "e87fb4bdd2454d1c8b1ba45133848d08": {
      "model_module": "jupyter-js-widgets",
      "model_module_version": "~2.1.4",
      "model_name": "LayoutModel",
      "state": {
       "_model_module_version": "~2.1.4",
       "_view_module_version": "~2.1.4",
       "width": "100%"
      }
     },
     "ed730016825042d392240d0a2b20b3b9": {
      "model_module": "jupyter-js-widgets",
      "model_module_version": "~2.1.4",
      "model_name": "ButtonStyleModel",
      "state": {
       "_model_module_version": "~2.1.4",
       "_view_module_version": "~2.1.4"
      }
     },
     "ef5d1e8727c541d186045c713243592f": {
      "model_module": "jupyter-js-widgets",
      "model_module_version": "~2.1.4",
      "model_name": "LayoutModel",
      "state": {
       "_model_module_version": "~2.1.4",
       "_view_module_version": "~2.1.4",
       "height": "550px",
       "width": "100%"
      }
     },
     "fa7aca08d0844b819f51c54a5a68384d": {
      "model_module": "jupyter-js-widgets",
      "model_module_version": "~2.1.4",
      "model_name": "IntSliderModel",
      "state": {
       "_model_module_version": "~2.1.4",
       "_view_module_version": "~2.1.4",
       "continuous_update": false,
       "description": "Dataset index",
       "layout": "IPY_MODEL_7665369cb7604822833e7f93841add1c",
       "max": 99,
       "style": "IPY_MODEL_20d4c0f1d214431496d3a99ae2ad455f"
      }
     },
     "fc540cebf38d40b596064e6a1e22ffaa": {
      "model_module": "jupyter-js-widgets",
      "model_module_version": "~2.1.4",
      "model_name": "ButtonModel",
      "state": {
       "_model_module_version": "~2.1.4",
       "_view_module_version": "~2.1.4",
       "icon": "backward",
       "layout": "IPY_MODEL_fe07f9f0302048b2a3de09790d09c63d",
       "style": "IPY_MODEL_8fbdb723ae4e4ca1ba2d59191d1c0e32"
      }
     },
     "fda2e3ec336f46f5a70fb6d19ae77471": {
      "model_module": "jupyter-js-widgets",
      "model_module_version": "~2.1.4",
      "model_name": "HBoxModel",
      "state": {
       "_model_module_version": "~2.1.4",
       "_view_module_version": "~2.1.4",
       "children": [
        "IPY_MODEL_7ce09b67ef724565b9bb23ebf8ea5e88",
        "IPY_MODEL_7e6d705adc0b4d27a75aa506b4953a86",
        "IPY_MODEL_481c71fb313c43a0a70bf013b15ad79d",
        "IPY_MODEL_5499088e49484fafb667f42777c0b598",
        "IPY_MODEL_9b57d65f3bb04523bc66862dc7d2a21b"
       ],
       "layout": "IPY_MODEL_380b19ad1eee44c1986e5843f07be2df"
      }
     },
     "fdd54490ba0e4d1d961c30a548286a54": {
      "model_module": "jupyter-js-widgets",
      "model_module_version": "~2.1.4",
      "model_name": "LayoutModel",
      "state": {
       "_model_module_version": "~2.1.4",
       "_view_module_version": "~2.1.4",
       "height": "550px",
       "width": "100%"
      }
     },
     "fe07f9f0302048b2a3de09790d09c63d": {
      "model_module": "jupyter-js-widgets",
      "model_module_version": "~2.1.4",
      "model_name": "LayoutModel",
      "state": {
       "_model_module_version": "~2.1.4",
       "_view_module_version": "~2.1.4",
       "width": "100%"
      }
     }
    },
    "version_major": 1,
    "version_minor": 0
   }
  }
 },
 "nbformat": 4,
 "nbformat_minor": 2
}
