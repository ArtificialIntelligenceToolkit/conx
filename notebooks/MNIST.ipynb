{
 "cells": [
  {
   "cell_type": "markdown",
   "metadata": {},
   "source": [
    "# MNIST"
   ]
  },
  {
   "cell_type": "code",
   "execution_count": 1,
   "metadata": {},
   "outputs": [
    {
     "name": "stderr",
     "output_type": "stream",
     "text": [
      "Using Theano backend.\n"
     ]
    }
   ],
   "source": [
    "from conx import Network, Layer, Conv2DLayer, MaxPool2DLayer, FlattenLayer"
   ]
  },
  {
   "cell_type": "code",
   "execution_count": 2,
   "metadata": {
    "collapsed": true
   },
   "outputs": [],
   "source": [
    "net = Network(\"MNIST\")\n",
    "net.add(Layer(\"input\", shape=784, vshape=(28, 28), colormap=\"hot\", minmax=(0,1)))\n",
    "net.add(Layer(\"hidden1\", shape=512, vshape=(16,32), activation='relu', dropout=0.2))\n",
    "net.add(Layer(\"hidden2\", shape=512, vshape=(16,32), activation='relu', dropout=0.2))\n",
    "net.add(Layer(\"output\", shape=10, activation='softmax'))\n",
    "\n",
    "net.connect('input', 'hidden1')\n",
    "net.connect('hidden1', 'hidden2')\n",
    "net.connect('hidden2', 'output')"
   ]
  },
  {
   "cell_type": "code",
   "execution_count": 3,
   "metadata": {
    "collapsed": true
   },
   "outputs": [],
   "source": [
    "net.compile(loss='mean_squared_error',\n",
    "            optimizer='sgd')"
   ]
  },
  {
   "cell_type": "code",
   "execution_count": 4,
   "metadata": {
    "collapsed": true
   },
   "outputs": [],
   "source": [
    "from keras.utils.vis_utils import model_to_dot\n",
    "from IPython.display import SVG"
   ]
  },
  {
   "cell_type": "code",
   "execution_count": 5,
   "metadata": {},
   "outputs": [
    {
     "data": {
      "image/svg+xml": [
       "<svg height=\"410pt\" viewBox=\"0.00 0.00 133.00 410.00\" width=\"133pt\" xmlns=\"http://www.w3.org/2000/svg\" xmlns:xlink=\"http://www.w3.org/1999/xlink\">\n",
       "<g class=\"graph\" id=\"graph0\" transform=\"scale(1 1) rotate(0) translate(4 406)\">\n",
       "<title>G</title>\n",
       "<polygon fill=\"white\" points=\"-4,4 -4,-406 129,-406 129,4 -4,4\" stroke=\"none\"/>\n",
       "<!-- 140405462410856 -->\n",
       "<g class=\"node\" id=\"node1\"><title>140405462410856</title>\n",
       "<polygon fill=\"none\" points=\"6.5,-0.5 6.5,-36.5 118.5,-36.5 118.5,-0.5 6.5,-0.5\" stroke=\"black\"/>\n",
       "<text font-family=\"Times,serif\" font-size=\"14.00\" text-anchor=\"middle\" x=\"62.5\" y=\"-14.8\">input: InputLayer</text>\n",
       "</g>\n",
       "<!-- 140405462499680 -->\n",
       "<g class=\"node\" id=\"node2\"><title>140405462499680</title>\n",
       "<polygon fill=\"none\" points=\"12,-73.5 12,-109.5 113,-109.5 113,-73.5 12,-73.5\" stroke=\"black\"/>\n",
       "<text font-family=\"Times,serif\" font-size=\"14.00\" text-anchor=\"middle\" x=\"62.5\" y=\"-87.8\">hidden1: Dense</text>\n",
       "</g>\n",
       "<!-- 140405462410856&#45;&gt;140405462499680 -->\n",
       "<g class=\"edge\" id=\"edge1\"><title>140405462410856-&gt;140405462499680</title>\n",
       "<path d=\"M62.5,-36.6871C62.5,-44.7105 62.5,-54.4525 62.5,-63.4309\" fill=\"none\" stroke=\"black\"/>\n",
       "<polygon fill=\"black\" points=\"59.0001,-63.4711 62.5,-73.4712 66.0001,-63.4712 59.0001,-63.4711\" stroke=\"black\"/>\n",
       "</g>\n",
       "<!-- 140405462500856 -->\n",
       "<g class=\"node\" id=\"node3\"><title>140405462500856</title>\n",
       "<polygon fill=\"none\" points=\"-7.10543e-15,-146.5 -7.10543e-15,-182.5 125,-182.5 125,-146.5 -7.10543e-15,-146.5\" stroke=\"black\"/>\n",
       "<text font-family=\"Times,serif\" font-size=\"14.00\" text-anchor=\"middle\" x=\"62.5\" y=\"-160.8\">dropout_1: Dropout</text>\n",
       "</g>\n",
       "<!-- 140405462499680&#45;&gt;140405462500856 -->\n",
       "<g class=\"edge\" id=\"edge2\"><title>140405462499680-&gt;140405462500856</title>\n",
       "<path d=\"M62.5,-109.687C62.5,-117.711 62.5,-127.453 62.5,-136.431\" fill=\"none\" stroke=\"black\"/>\n",
       "<polygon fill=\"black\" points=\"59.0001,-136.471 62.5,-146.471 66.0001,-136.471 59.0001,-136.471\" stroke=\"black\"/>\n",
       "</g>\n",
       "<!-- 140405462500632 -->\n",
       "<g class=\"node\" id=\"node4\"><title>140405462500632</title>\n",
       "<polygon fill=\"none\" points=\"12,-219.5 12,-255.5 113,-255.5 113,-219.5 12,-219.5\" stroke=\"black\"/>\n",
       "<text font-family=\"Times,serif\" font-size=\"14.00\" text-anchor=\"middle\" x=\"62.5\" y=\"-233.8\">hidden2: Dense</text>\n",
       "</g>\n",
       "<!-- 140405462500856&#45;&gt;140405462500632 -->\n",
       "<g class=\"edge\" id=\"edge3\"><title>140405462500856-&gt;140405462500632</title>\n",
       "<path d=\"M62.5,-182.687C62.5,-190.711 62.5,-200.453 62.5,-209.431\" fill=\"none\" stroke=\"black\"/>\n",
       "<polygon fill=\"black\" points=\"59.0001,-209.471 62.5,-219.471 66.0001,-209.471 59.0001,-209.471\" stroke=\"black\"/>\n",
       "</g>\n",
       "<!-- 140405434017832 -->\n",
       "<g class=\"node\" id=\"node5\"><title>140405434017832</title>\n",
       "<polygon fill=\"none\" points=\"-7.10543e-15,-292.5 -7.10543e-15,-328.5 125,-328.5 125,-292.5 -7.10543e-15,-292.5\" stroke=\"black\"/>\n",
       "<text font-family=\"Times,serif\" font-size=\"14.00\" text-anchor=\"middle\" x=\"62.5\" y=\"-306.8\">dropout_2: Dropout</text>\n",
       "</g>\n",
       "<!-- 140405462500632&#45;&gt;140405434017832 -->\n",
       "<g class=\"edge\" id=\"edge4\"><title>140405462500632-&gt;140405434017832</title>\n",
       "<path d=\"M62.5,-255.687C62.5,-263.711 62.5,-273.453 62.5,-282.431\" fill=\"none\" stroke=\"black\"/>\n",
       "<polygon fill=\"black\" points=\"59.0001,-282.471 62.5,-292.471 66.0001,-282.471 59.0001,-282.471\" stroke=\"black\"/>\n",
       "</g>\n",
       "<!-- 140405434017944 -->\n",
       "<g class=\"node\" id=\"node6\"><title>140405434017944</title>\n",
       "<polygon fill=\"none\" points=\"16.5,-365.5 16.5,-401.5 108.5,-401.5 108.5,-365.5 16.5,-365.5\" stroke=\"black\"/>\n",
       "<text font-family=\"Times,serif\" font-size=\"14.00\" text-anchor=\"middle\" x=\"62.5\" y=\"-379.8\">output: Dense</text>\n",
       "</g>\n",
       "<!-- 140405434017832&#45;&gt;140405434017944 -->\n",
       "<g class=\"edge\" id=\"edge5\"><title>140405434017832-&gt;140405434017944</title>\n",
       "<path d=\"M62.5,-328.687C62.5,-336.711 62.5,-346.453 62.5,-355.431\" fill=\"none\" stroke=\"black\"/>\n",
       "<polygon fill=\"black\" points=\"59.0001,-355.471 62.5,-365.471 66.0001,-355.471 59.0001,-355.471\" stroke=\"black\"/>\n",
       "</g>\n",
       "</g>\n",
       "</svg>"
      ],
      "text/plain": [
       "<IPython.core.display.SVG object>"
      ]
     },
     "execution_count": 5,
     "metadata": {},
     "output_type": "execute_result"
    }
   ],
   "source": [
    "SVG(model_to_dot(net.model, rankdir=\"BT\").create_svg())"
   ]
  },
  {
   "cell_type": "code",
   "execution_count": 6,
   "metadata": {},
   "outputs": [
    {
     "name": "stdout",
     "output_type": "stream",
     "text": [
      "Input Summary:\n",
      "   length  : 70000\n",
      "   training: 70000\n",
      "   testing : 0\n",
      "   shape  : (28, 28, 1)\n",
      "   range  : (0.0, 1.0)\n",
      "Target Summary:\n",
      "   length  : 70000\n",
      "   training: 70000\n",
      "   testing : 0\n",
      "   shape  : (10,)\n",
      "   range  : (0.0, 1.0)\n",
      "Slicing dataset 0:100...\n",
      "Input Summary:\n",
      "   length  : 100\n",
      "   training: 100\n",
      "   testing : 0\n",
      "   shape  : (28, 28, 1)\n",
      "   range  : (0.0, 1.0)\n",
      "Target Summary:\n",
      "   length  : 100\n",
      "   training: 100\n",
      "   testing : 0\n",
      "   shape  : (10,)\n",
      "   range  : (0.0, 1.0)\n",
      "Input Summary:\n",
      "   length  : 100\n",
      "   training: 100\n",
      "   testing : 0\n",
      "   shape  : (784,)\n",
      "   range  : (0.0, 1.0)\n",
      "Target Summary:\n",
      "   length  : 100\n",
      "   training: 100\n",
      "   testing : 0\n",
      "   shape  : (10,)\n",
      "   range  : (0.0, 1.0)\n"
     ]
    }
   ],
   "source": [
    "net.load_mnist_dataset()\n",
    "#net.rescale_inputs((0,255), (0,1), 'float32')\n",
    "#net.shuffle_dataset()\n",
    "net.slice_dataset(0, 100)\n",
    "net.reshape_inputs(784)\n",
    "#net.split_dataset(100)"
   ]
  },
  {
   "cell_type": "code",
   "execution_count": 8,
   "metadata": {},
   "outputs": [
    {
     "data": {
      "application/javascript": [
       "\n",
       "require(['base/js/namespace'], function(Jupyter) {\n",
       "    Jupyter.notebook.kernel.comm_manager.register_target('conx_svg_control', function(comm, msg) {\n",
       "        comm.on_msg(function(msg) {\n",
       "            var data = msg[\"content\"][\"data\"];\n",
       "            var images = document.getElementsByClassName(data[\"class\"]);\n",
       "            for (var i = 0; i < images.length; i++) {\n",
       "                images[i].setAttributeNS(null, \"href\", data[\"href\"]);\n",
       "            }\n",
       "        });\n",
       "    });\n",
       "});\n"
      ],
      "text/plain": [
       "<IPython.core.display.Javascript object>"
      ]
     },
     "metadata": {},
     "output_type": "display_data"
    }
   ],
   "source": [
    "widget = net.build_widget()"
   ]
  },
  {
   "cell_type": "code",
   "execution_count": 9,
   "metadata": {},
   "outputs": [
    {
     "data": {
      "application/vnd.jupyter.widget-view+json": {
       "model_id": "1fc1272446ca405ab846f9ce7503ba84"
      }
     },
     "metadata": {},
     "output_type": "display_data"
    }
   ],
   "source": [
    "widget"
   ]
  },
  {
   "cell_type": "code",
   "execution_count": 10,
   "metadata": {},
   "outputs": [
    {
     "data": {
      "text/plain": [
       "(100, 0.089887954294681549, 0.17000000178813934, 0.0)"
      ]
     },
     "execution_count": 10,
     "metadata": {},
     "output_type": "execute_result"
    }
   ],
   "source": [
    "net.train(100, verbose=0)\n",
    "#net.test()"
   ]
  },
  {
   "cell_type": "code",
   "execution_count": 11,
   "metadata": {},
   "outputs": [
    {
     "name": "stdout",
     "output_type": "stream",
     "text": [
      "CPU times: user 5.94 s, sys: 272 ms, total: 6.21 s\n",
      "Wall time: 6.21 s\n"
     ]
    }
   ],
   "source": [
    "%%time\n",
    "for i in range(100):\n",
    "    net.propagate(net.get_input(i))"
   ]
  },
  {
   "cell_type": "code",
   "execution_count": 12,
   "metadata": {
    "collapsed": true
   },
   "outputs": [],
   "source": [
    "from conx import Network, Layer, Conv2DLayer, MaxPool2DLayer, FlattenLayer"
   ]
  },
  {
   "cell_type": "code",
   "execution_count": 13,
   "metadata": {
    "collapsed": true
   },
   "outputs": [],
   "source": [
    "net = Network(\"MNIST-CNN\")\n",
    "net.add(Layer(\"input\", (28,28,1), colormap=\"hot\", minmax=(0,1)))\n",
    "net.add(Conv2DLayer(\"Conv2D-1\", 16, (5,5), activation=\"relu\"))\n",
    "net.add(MaxPool2DLayer(\"maxpool1\", (2,2)))\n",
    "net.add(Conv2DLayer(\"Conv2D-2\", 132, (5,5), activation=\"relu\")) \n",
    "net.add(MaxPool2DLayer(\"maxpool2\", (2,2)))\n",
    "net.add(FlattenLayer(\"flatten\", visible=False))\n",
    "net.add(Layer(\"hidden\", 1000, activation='relu', vshape=(8,125), image_maxdim=500))\n",
    "net.add(Layer(\"output\", 10, activation='softmax'))\n",
    "\n",
    "net.connect()"
   ]
  },
  {
   "cell_type": "code",
   "execution_count": 14,
   "metadata": {
    "collapsed": true
   },
   "outputs": [],
   "source": [
    "net.compile(loss=\"binary_crossentropy\", optimizer=\"rmsprop\")"
   ]
  },
  {
   "cell_type": "code",
   "execution_count": 15,
   "metadata": {},
   "outputs": [
    {
     "name": "stdout",
     "output_type": "stream",
     "text": [
      "Input Summary:\n",
      "   length  : 70000\n",
      "   training: 70000\n",
      "   testing : 0\n",
      "   shape  : (28, 28, 1)\n",
      "   range  : (0.0, 1.0)\n",
      "Target Summary:\n",
      "   length  : 70000\n",
      "   training: 70000\n",
      "   testing : 0\n",
      "   shape  : (10,)\n",
      "   range  : (0.0, 1.0)\n"
     ]
    }
   ],
   "source": [
    "net.load_mnist_dataset()"
   ]
  },
  {
   "cell_type": "code",
   "execution_count": 16,
   "metadata": {},
   "outputs": [
    {
     "name": "stdout",
     "output_type": "stream",
     "text": [
      "Slicing dataset 0:100...\n",
      "Input Summary:\n",
      "   length  : 100\n",
      "   training: 100\n",
      "   testing : 0\n",
      "   shape  : (28, 28, 1)\n",
      "   range  : (0.0, 1.0)\n",
      "Target Summary:\n",
      "   length  : 100\n",
      "   training: 100\n",
      "   testing : 0\n",
      "   shape  : (10,)\n",
      "   range  : (0.0, 1.0)\n"
     ]
    }
   ],
   "source": [
    "net.slice_dataset(100)"
   ]
  },
  {
   "cell_type": "code",
   "execution_count": 17,
   "metadata": {},
   "outputs": [
    {
     "name": "stdout",
     "output_type": "stream",
     "text": [
      "Training...\n",
      "Epoch 1/1\n",
      "100/100 [==============================] - 0s - loss: 0.3253 - acc: 0.9000\n",
      "========================================================================\n",
      "Epoch #    1 | train error 0.32531 | train accuracy 0.90000 | validate% 0.00000\n"
     ]
    }
   ],
   "source": [
    "net.train()"
   ]
  },
  {
   "cell_type": "code",
   "execution_count": 19,
   "metadata": {},
   "outputs": [
    {
     "data": {
      "application/javascript": [
       "\n",
       "require(['base/js/namespace'], function(Jupyter) {\n",
       "    Jupyter.notebook.kernel.comm_manager.register_target('conx_svg_control', function(comm, msg) {\n",
       "        comm.on_msg(function(msg) {\n",
       "            var data = msg[\"content\"][\"data\"];\n",
       "            var images = document.getElementsByClassName(data[\"class\"]);\n",
       "            for (var i = 0; i < images.length; i++) {\n",
       "                images[i].setAttributeNS(null, \"href\", data[\"href\"]);\n",
       "            }\n",
       "        });\n",
       "    });\n",
       "});\n"
      ],
      "text/plain": [
       "<IPython.core.display.Javascript object>"
      ]
     },
     "metadata": {},
     "output_type": "display_data"
    },
    {
     "data": {
      "application/vnd.jupyter.widget-view+json": {
       "model_id": "1c6eac907f894d36900173bc5ecf5b85"
      }
     },
     "metadata": {},
     "output_type": "display_data"
    }
   ],
   "source": [
    "net.build_widget()"
   ]
  },
  {
   "cell_type": "code",
   "execution_count": 20,
   "metadata": {
    "collapsed": true
   },
   "outputs": [],
   "source": [
    "for i in range(10):\n",
    "    net.propagate(net.get_input(i))"
   ]
  },
  {
   "cell_type": "code",
   "execution_count": 21,
   "metadata": {},
   "outputs": [
    {
     "name": "stdout",
     "output_type": "stream",
     "text": [
      "Training...\n",
      "Epoch #    2 | train error 0.30300 | train accuracy 0.90200 | validate% 0.00000\n",
      "Epoch #    3 | train error 0.29061 | train accuracy 0.90000 | validate% 0.00000\n",
      "Epoch #    4 | train error 0.23864 | train accuracy 0.91000 | validate% 0.21000\n",
      "Epoch #    5 | train error 0.21296 | train accuracy 0.90800 | validate% 0.00000\n",
      "Epoch #    6 | train error 0.28020 | train accuracy 0.91800 | validate% 0.00000\n",
      "Epoch #    7 | train error 0.20783 | train accuracy 0.93200 | validate% 0.15000\n",
      "Epoch #    8 | train error 0.15654 | train accuracy 0.93800 | validate% 0.16000\n",
      "Epoch #    9 | train error 0.10267 | train accuracy 0.96200 | validate% 0.35000\n",
      "Epoch #   10 | train error 0.07205 | train accuracy 0.98000 | validate% 0.33000\n",
      "Epoch #   11 | train error 0.07664 | train accuracy 0.97600 | validate% 0.50000\n",
      "Epoch #   12 | train error 0.09073 | train accuracy 0.96900 | validate% 0.52000\n",
      "Epoch #   13 | train error 0.06328 | train accuracy 0.98200 | validate% 0.60000\n",
      "Epoch #   14 | train error 0.05733 | train accuracy 0.97800 | validate% 0.53000\n",
      "Epoch #   15 | train error 0.05129 | train accuracy 0.97900 | validate% 0.66000\n",
      "Epoch #   16 | train error 0.05479 | train accuracy 0.98300 | validate% 0.68000\n",
      "Epoch #   17 | train error 0.02686 | train accuracy 0.99400 | validate% 0.76000\n",
      "========================================================================\n",
      "Epoch #   17 | train error 0.02686 | train accuracy 0.99400 | validate% 0.76000\n"
     ]
    }
   ],
   "source": [
    "net.train(epochs=100, accuracy=.7)"
   ]
  },
  {
   "cell_type": "code",
   "execution_count": null,
   "metadata": {
    "collapsed": true
   },
   "outputs": [],
   "source": []
  }
 ],
 "metadata": {
  "kernelspec": {
   "display_name": "Python 3",
   "language": "python",
   "name": "python3"
  },
  "language_info": {
   "codemirror_mode": {
    "name": "ipython",
    "version": 3
   },
   "file_extension": ".py",
   "mimetype": "text/x-python",
   "name": "python",
   "nbconvert_exporter": "python",
   "pygments_lexer": "ipython3",
   "version": "3.5.3"
  },
  "widgets": {
   "application/vnd.jupyter.widget-state+json": {
    "state": {
     "0185e3713a4d48e1b04b9a15c4f25dbe": {
      "model_module": "jupyter-js-widgets",
      "model_module_version": "~2.1.4",
      "model_name": "ButtonModel",
      "state": {
       "_model_module_version": "~2.1.4",
       "_view_module_version": "~2.1.4",
       "icon": "fast-backward",
       "layout": "IPY_MODEL_bd498577e99a4c3892e943b4208f91cb",
       "style": "IPY_MODEL_e32516921bca4e0d8f9f928dcccef2b6"
      }
     },
     "0450ae11eb1c470a947f7545e89b0f3d": {
      "model_module": "jupyter-js-widgets",
      "model_module_version": "~2.1.4",
      "model_name": "LayoutModel",
      "state": {
       "_model_module_version": "~2.1.4",
       "_view_module_version": "~2.1.4",
       "height": "550px",
       "overflow_x": "auto",
       "width": "100%"
      }
     },
     "102bf7b85c4749cfa056131c60f600ab": {
      "model_module": "jupyter-js-widgets",
      "model_module_version": "~2.1.4",
      "model_name": "LayoutModel",
      "state": {
       "_model_module_version": "~2.1.4",
       "_view_module_version": "~2.1.4",
       "width": "100%"
      }
     },
     "119006dc6ccc488aa4f16addd78892fc": {
      "model_module": "jupyter-js-widgets",
      "model_module_version": "~2.1.4",
      "model_name": "LayoutModel",
      "state": {
       "_model_module_version": "~2.1.4",
       "_view_module_version": "~2.1.4",
       "width": "100%"
      }
     },
     "16e73891640948b8abb9e6f49c9433bb": {
      "model_module": "jupyter-js-widgets",
      "model_module_version": "~2.1.4",
      "model_name": "LayoutModel",
      "state": {
       "_model_module_version": "~2.1.4",
       "_view_module_version": "~2.1.4",
       "width": "100%"
      }
     },
     "1c0fb1d81d384af69c6581db48605c70": {
      "model_module": "jupyter-js-widgets",
      "model_module_version": "~2.1.4",
      "model_name": "ButtonModel",
      "state": {
       "_model_module_version": "~2.1.4",
       "_view_module_version": "~2.1.4",
       "icon": "fast-forward",
       "layout": "IPY_MODEL_5f55a7fa124244c69defd6548257b259",
       "style": "IPY_MODEL_e999d4246cbb411a9bdc10e9b2bcc74c"
      }
     },
     "1c6eac907f894d36900173bc5ecf5b85": {
      "model_module": "jupyter-js-widgets",
      "model_module_version": "~2.1.4",
      "model_name": "VBoxModel",
      "state": {
       "_model_module_version": "~2.1.4",
       "_view_module_version": "~2.1.4",
       "children": [
        "IPY_MODEL_ebf856882f454da399a2ff81d4e2f8bd",
        "IPY_MODEL_29989a0a46fd49a98c8d7223194a4610"
       ],
       "layout": "IPY_MODEL_3ab413f1bf454caebe4038874659688c"
      }
     },
     "1fc1272446ca405ab846f9ce7503ba84": {
      "model_module": "jupyter-js-widgets",
      "model_module_version": "~2.1.4",
      "model_name": "VBoxModel",
      "state": {
       "_model_module_version": "~2.1.4",
       "_view_module_version": "~2.1.4",
       "children": [
        "IPY_MODEL_2aae418269ec4e919ac2fe6fc431d62d",
        "IPY_MODEL_5aaa071f6d444b01810cd9c1dc4486dc"
       ],
       "layout": "IPY_MODEL_caab46c496c242ab800a321a273207df"
      }
     },
     "224bc904b3604cc18f94a6700c8a7844": {
      "model_module": "jupyter-js-widgets",
      "model_module_version": "~2.1.4",
      "model_name": "LayoutModel",
      "state": {
       "_model_module_version": "~2.1.4",
       "_view_module_version": "~2.1.4"
      }
     },
     "269ba39bea5d45008a09efe52d81cc8d": {
      "model_module": "jupyter-js-widgets",
      "model_module_version": "~2.1.4",
      "model_name": "ButtonModel",
      "state": {
       "_model_module_version": "~2.1.4",
       "_view_module_version": "~2.1.4",
       "description": "Train",
       "layout": "IPY_MODEL_434468d3d6e84817801e195fc072fb34",
       "style": "IPY_MODEL_ab068ddbb979472bb74c95dd3dee0162"
      }
     },
     "27c4361f4eb9436089554b17ad939cf5": {
      "model_module": "jupyter-js-widgets",
      "model_module_version": "~2.1.4",
      "model_name": "LayoutModel",
      "state": {
       "_model_module_version": "~2.1.4",
       "_view_module_version": "~2.1.4",
       "width": "100%"
      }
     },
     "296e730f0ecc49f0937a700e5e74aa63": {
      "model_module": "jupyter-js-widgets",
      "model_module_version": "~2.1.4",
      "model_name": "LayoutModel",
      "state": {
       "_model_module_version": "~2.1.4",
       "_view_module_version": "~2.1.4",
       "width": "100%"
      }
     },
     "29989a0a46fd49a98c8d7223194a4610": {
      "model_module": "jupyter-js-widgets",
      "model_module_version": "~2.1.4",
      "model_name": "VBoxModel",
      "state": {
       "_model_module_version": "~2.1.4",
       "_view_module_version": "~2.1.4",
       "children": [
        "IPY_MODEL_5a807ab3856b49b187b9d7feb1d4e77a",
        "IPY_MODEL_d9aa9b8e6b6a4419bcbb9cf72b88c8b8",
        "IPY_MODEL_8d7755b86e4146b7b08807a069a079ba"
       ],
       "layout": "IPY_MODEL_5b592b42dc3a41c6acb3096dc2e4fe95"
      }
     },
     "2aae418269ec4e919ac2fe6fc431d62d": {
      "model_module": "jupyter-js-widgets",
      "model_module_version": "~2.1.4",
      "model_name": "HTMLModel",
      "state": {
       "_model_module_version": "~2.1.4",
       "_view_module_version": "~2.1.4",
       "layout": "IPY_MODEL_0450ae11eb1c470a947f7545e89b0f3d",
       "value": "\n        <svg id='MNIST' xmlns='http://www.w3.org/2000/svg' width=\"350\" height=\"640\" image-rendering=\"pixelated\">\n    <defs>\n        <marker id=\"arrow\" markerWidth=\"10\" markerHeight=\"10\" refX=\"9\" refY=\"3\" orient=\"auto\" markerUnits=\"strokeWidth\">\n          <path d=\"M0,0 L0,6 L9,3 z\" fill=\"blue\" />\n        </marker>\n    </defs>\n<rect x=\"74.0\" y=\"24\" width=\"202\" height=\"27\" style=\"fill:none;stroke:blue;stroke-width:2\"/><image id=\"MNIST_output_targets_1\" class=\"MNIST_output_targets\" x=\"75.0\" y=\"25\" height=\"25\" width=\"200\" href=\"data:image/gif;base64,R0lGODdhCgABAIIAABERERMTExQUFBoaGhsbGx0dHSMjIwAAACwAAAAACgABAAAIDgAFEAhQYAAAAgUMCAgIADs=\"><title>Layer: output (output)\n shape = (10,)\n Keras class = Dense\n activation = softmax</title></image><text x=\"280.0\" y=\"39.5\" font-family=\"monospace\" font-size=\"12\">targets</text><rect x=\"74.0\" y=\"59\" width=\"202\" height=\"27\" style=\"fill:none;stroke:blue;stroke-width:2\"/><image id=\"MNIST_output_errors_1\" class=\"MNIST_output_errors\" x=\"75.0\" y=\"60\" height=\"25\" width=\"200\" href=\"data:image/gif;base64,R0lGODdhCgABAIIAABERERMTExQUFBoaGhsbGx0dHSMjIwAAACwAAAAACgABAAAIDgAFEAhQYAAAAgUMCAgIADs=\"><title>Layer: output (output)\n shape = (10,)\n Keras class = Dense\n activation = softmax</title></image><text x=\"280.0\" y=\"74.5\" font-family=\"monospace\" font-size=\"12\">errors</text><rect x=\"74.0\" y=\"99\" width=\"202\" height=\"27\" style=\"fill:none;stroke:blue;stroke-width:2\"/><image id=\"MNIST_output_1\" class=\"MNIST_output\" x=\"75.0\" y=\"100\" height=\"25\" width=\"200\" href=\"data:image/gif;base64,R0lGODdhCgABAIIAABERERMTExQUFBoaGhsbGx0dHSMjIwAAACwAAAAACgABAAAIDgAFEAhQYAAAAgUMCAgIADs=\"><title>Layer: output (output)\n shape = (10,)\n Keras class = Dense\n activation = softmax</title></image><text x=\"280.0\" y=\"114.5\" font-family=\"monospace\" font-size=\"12\">output</text><rect x=\"165.0\" y=\"127\" width=\"20.0\" height=\"27\" style=\"fill:white;stroke:none\"><title>Weights from hidden2 to output\n output/kernel has shape (512, 10)\n output/bias has shape (10,)</title></rect><line x1=\"175.0\" y1=\"154\" x2=\"175.0\" y2=\"127\" stroke=\"blue\" stroke-width=\"2\" marker-end=\"url(#arrow)\"><title>Weights from hidden2 to output\n output/kernel has shape (512, 10)\n output/bias has shape (10,)</title></line><rect x=\"74.0\" y=\"154\" width=\"202\" height=\"102\" style=\"fill:none;stroke:blue;stroke-width:2\"/><image id=\"MNIST_hidden2_2\" class=\"MNIST_hidden2\" x=\"75.0\" y=\"155\" height=\"100\" width=\"200\" href=\"data:image/gif;base64,R0lGODdhIAAQAIYAAAAAAAEBAQICAgMDAwQEBAUFBQYGBgcHBwgICAkJCQoKCgsLCwwMDA0NDQ8PDxAQEBERERISEhMTExQUFBUVFRYWFhcXFxgYGBkZGRoaGhsbGxwcHB0dHR4eHh8fHyAgICEhISIiIiMjIyQkJCYmJicnJygoKCkpKSsrKy0tLS4uLi8vLzExMTIyMjMzMzQ0NDU1NTY2Njc3Nzg4ODk5OTo6Ojs7Ozw8PD09PT4+PkBAQEFBQUJCQkNDQ0REREVFRUZGRkdHR0hISElJSUtLS0xMTE1NTU5OTk9PT1FRUVJSUlRUVFVVVVZWVldXV1hYWFlZWVpaWltbW11dXWBgYGNjY2VlZWZmZmhoaGlpaWxsbG1tbW9vb3FxcXJycnNzc3d3d3t7e3x8fH5+fn9/f4GBgYODg4aGhoeHh4iIiIqKio2NjZCQkJKSkp2dnZ6enqCgoKGhoaOjo6SkpKWlpaioqK+vr7i4uLm5ucDAwMbGxv///wAAAAAAAAAAAAAAACwAAAAAIAAQAEAI/wAxAMjiRY4TAADedNBxZwsAAEIAPABAEUALABiHAACAAUCeLzJWvABAMgiAHQC6cABQpwWAly9tAJhppAiAm10APBkDoAmPPQAeABgK4AAAAFIAKMUBIMICAFsAVABAAEATAFjpSGABoOuNJQAAuBFRA0UQAGgp0AHAFgCXLgDiAthhAQAACybSANAAAMCEDQuqAAABYMQcBg12AAgAwEsDADRsACBBBACAEioAaAYQAkAJACgAAPjQpA0ZAACMeAAAYAsAADcAyAYQBwAEAB4ARMEDAIABADmwrEEAAIURACxQAEADAMABAADOAEhRAYB1CwAA8KDwAwAAAQAAcP8AQH4GABgAkCwgAKB9kBYnUAAoA2CKHAEaEAAI4gGAf4AABA4EgEDOEwAJu/xgAwCACgAAXJgAsMAAAAI4AACwswMAjg4EEgAgCSAFAJRvRpTQoQDAyyAAANwYAoAOAAorAOwEYwUAgDgJABRAgsIKHAAAGJAA0DQMgAAAqpwAEADAVawCCGQ4AuACADMAYtwAIAEADQAAtABgC2AAAABBfAAAcAWImQcrAHwAkOIDAC0AANgAUHhFkhwNACx2AABAhhQAmABwsMEFABNe3ADg3LnzEgAAIACgguFEhzcHkgAAIAbAa9hWAEzQQwLADzUAACR4A8A3gB4AAKCw8KIUAZQOEDAAAKAEAAAIawBkQGECQEAAOw==\"><title>Layer: hidden2 (hidden)\n shape = (512,)\n dropout = 0.2\n Keras class = Dense\n activation = relu</title></image><text x=\"280.0\" y=\"207.0\" font-family=\"monospace\" font-size=\"12\">hidden2</text><rect x=\"165.0\" y=\"257\" width=\"20.0\" height=\"27\" style=\"fill:white;stroke:none\"><title>Weights from hidden1 to hidden2\n hidden2/kernel has shape (512, 512)\n hidden2/bias has shape (512,)</title></rect><line x1=\"175.0\" y1=\"284\" x2=\"175.0\" y2=\"257\" stroke=\"blue\" stroke-width=\"2\" marker-end=\"url(#arrow)\"><title>Weights from hidden1 to hidden2\n hidden2/kernel has shape (512, 512)\n hidden2/bias has shape (512,)</title></line><rect x=\"74.0\" y=\"284\" width=\"202\" height=\"102\" style=\"fill:none;stroke:blue;stroke-width:2\"/><image id=\"MNIST_hidden1_3\" class=\"MNIST_hidden1\" x=\"75.0\" y=\"285\" height=\"100\" width=\"200\" href=\"data:image/gif;base64,R0lGODdhIAAQAIcAAAAAAAEBAQICAgMDAwQEBAUFBQYGBgcHBwgICAkJCQoKCgsLCwwMDA0NDQ4ODg8PDxAQEBERERISEhMTExQUFBUVFRYWFhcXFxgYGBkZGRoaGhsbGxwcHB0dHR4eHh8fHyAgICEhISIiIiMjIyQkJCUlJSYmJicnJygoKCkpKSoqKisrKywsLC0tLS4uLi8vLzAwMDExMTIyMjMzMzQ0NDU1NTY2Njc3Nzg4ODk5OTo6Ojs7Ozw8PD09PT4+Pj8/P0BAQEFBQUJCQkNDQ0REREVFRUZGRkdHR0hISElJSUpKSktLS0xMTE1NTU5OTk9PT1BQUFFRUVJSUlNTU1RUVFVVVVZWVldXV1hYWFlZWVpaWltbW1xcXF1dXV5eXl9fX2BgYGFhYWJiYmNjY2RkZGVlZWZmZmdnZ2hoaGlpaWpqamtra2xsbG1tbW5ubm9vb3BwcHFxcXJycnNzc3R0dHV1dXZ2dnd3d3h4eHl5eXp6ent7e3x8fH19fX5+fn9/f4CAgIGBgYKCgoODg4SEhIWFhYaGhoeHh4iIiImJiYqKiouLi4yMjI2NjY6Ojo+Pj5CQkJGRkZKSkpOTk5SUlJWVlZaWlpeXl5iYmJmZmZqampubm5ycnJ2dnZ6enp+fn6CgoKGhoaKioqOjo6SkpKWlpaampqenp6ioqKmpqaqqqqurq6ysrK2tra6urq+vr7CwsLGxsbKysrOzs7S0tLW1tba2tre3t7i4uLm5ubq6uru7u7y8vL29vb6+vr+/v8DAwMHBwcLCwsPDw8TExMXFxcbGxsfHx8jIyMnJycrKysvLy8zMzM3Nzc7Ozs/Pz9DQ0NHR0dLS0tPT09TU1NXV1dbW1tfX19jY2NnZ2dra2tvb29zc3N3d3d7e3t/f3+Dg4OHh4eLi4uPj4+Tk5OXl5ebm5ufn5+jo6Onp6erq6uvr6+zs7O3t7e7u7u/v7/Dw8PHx8fLy8vPz8/T09PX19fb29vf39/j4+Pn5+fr6+vv7+/z8/P39/f7+/v///ywAAAAAIAAQAEAI/wABCARgBwAAEwASAhAEoCGAPwAWAABwAYAKAADeFIBAoA2AjyABfMABAAsAAIgAAOjiAwAZADA7AZipIAYACG4AxAAA4IUUAADYnRMAoCgAIgAUVBJGhAWAp04AAFACoCoAVQCEZJgAgAiANwCaADixwg2ALQDwsADANsUUAHC3AJABoC4AWwASAOhx4FGKJAACewBAGMAGAC06LLnyoQSAx5AjA/iRAgCAKQCIAADwBEAEFmgAyAEAAAKAQa3KAVjNGgAdPDrKAJhNuwEAKQAAvAGAAwCeBmKMqAEQAsCFMUIALHowDcAqAACc/ANAB0ATABUAABACgM4lAG4AAP8YA6C8GxgJEuEAwJ59iAEZ0ADgAgJGAxcA2gAY0cDGD4AABH4CAODGnxAAAEwB0JCBrx8AJEpcsgcAAAUblgAoBgDAFwAAsPy5BMBkE00apAAYIA7ASwBTAGzYBKAMiFsAdB4A8ONKIgBwAAwNRAAArDwAlCpNQQBAEgCVACQAAGBBFQAlABgAAOAKADEAAPgAULbsGgBpDwEgYgbAWw8AADzBAUAcAABBqAEAoKPBEACBU9ghAwAArhkvACkAAICEBACHAEyejMnXAiCTOBxBAQCAFAAmAACABGDZgAkAAGigAuCJAgAgAGwBULsHANwRTgDgDeABgA4Aul0AULwLA4sKAABkApAAQEAAOw==\"><title>Layer: hidden1 (hidden)\n shape = (512,)\n dropout = 0.2\n Keras class = Dense\n activation = relu</title></image><text x=\"280.0\" y=\"337.0\" font-family=\"monospace\" font-size=\"12\">hidden1</text><rect x=\"165.0\" y=\"387\" width=\"20.0\" height=\"27\" style=\"fill:white;stroke:none\"><title>Weights from input to hidden1\n hidden1/kernel has shape (784, 512)\n hidden1/bias has shape (512,)</title></rect><line x1=\"175.0\" y1=\"414\" x2=\"175.0\" y2=\"387\" stroke=\"blue\" stroke-width=\"2\" marker-end=\"url(#arrow)\"><title>Weights from input to hidden1\n hidden1/kernel has shape (784, 512)\n hidden1/bias has shape (512,)</title></line><rect x=\"74.0\" y=\"414\" width=\"202\" height=\"202\" style=\"fill:none;stroke:blue;stroke-width:2\"/><image id=\"MNIST_input_4\" class=\"MNIST_input\" x=\"75.0\" y=\"415\" height=\"200\" width=\"200\" href=\"data:image/gif;base64,R0lGODdhHAAcAIcAAAoAAP//9jAAAP/8DP//z00AANcAAPMAAG4AAI0AAP+aAP9nAP/MAP//jbMAAP9yAP/pAP//T///c/8lAP9XAP+qAP//Mv82AP9EAP+/AP/WAP//vAAAAAAAAAAAAAAAAAAAAAAAAAAAAAAAAAAAAAAAAAAAAAAAAAAAAAAAAAAAAAAAAAAAAAAAAAAAAAAAAAAAAAAAAAAAAAAAAAAAAAAAAAAAAAAAAAAAAAAAAAAAAAAAAAAAAAAAAAAAAAAAAAAAAAAAAAAAAAAAAAAAAAAAAAAAAAAAAAAAAAAAAAAAAAAAAAAAAAAAAAAAAAAAAAAAAAAAAAAAAAAAAAAAAAAAAAAAAAAAAAAAAAAAAAAAAAAAAAAAAAAAAAAAAAAAAAAAAAAAAAAAAAAAAAAAAAAAAAAAAAAAAAAAAAAAAAAAAAAAAAAAAAAAAAAAAAAAAAAAAAAAAAAAAAAAAAAAAAAAAAAAAAAAAAAAAAAAAAAAAAAAAAAAAAAAAAAAAAAAAAAAAAAAAAAAAAAAAAAAAAAAAAAAAAAAAAAAAAAAAAAAAAAAAAAAAAAAAAAAAAAAAAAAAAAAAAAAAAAAAAAAAAAAAAAAAAAAAAAAAAAAAAAAAAAAAAAAAAAAAAAAAAAAAAAAAAAAAAAAAAAAAAAAAAAAAAAAAAAAAAAAAAAAAAAAAAAAAAAAAAAAAAAAAAAAAAAAAAAAAAAAAAAAAAAAAAAAAAAAAAAAAAAAAAAAAAAAAAAAAAAAAAAAAAAAAAAAAAAAAAAAAAAAAAAAAAAAAAAAAAAAAAAAAAAAAAAAAAAAAAAAAAAAAAAAAAAAAAAAAAAAAAAAAAAAAAAAAAAAAAAAAAAAAAAAAAAAAAAAAAAAAAAAAAAAAAAAAAAAAAAAAAAAAAAAAAAAAAAAAAAAAAAAAAAAAAAAAAAAAAAAAAAAAAAAAAAAAAAAAAAAAAAAAAAAAAAAAAAAAAAAAAAAAAAAAAAAAAAAAAAAAAAAAAAAAAAAAAAAAAAAAAAAAAAAACwAAAAAHAAcAEAI/wABCBxIsKDBgwcFSAjAkOEACAQIAJhIsaLFixUFHAgQYACAjyBDfnwQoGSEBQsEAFjJsqXLlzBjypwpYEAAAwBy6tzJs2fOAhckBBgawIIBAEiTKl3KtKnTpwUQHFDAIIBVqw0YBCAwwAGAr2DDghUAQEGAAwDSql3Ltm1bAwQCBMBQAIDdu3jz6rWbYAGEAAEiABhMuHBhAQwkBFgcYIABAQAiS55MubLly5gza97MufNkAaApPNBQIEMAAhQAqF7NGkCCDQFiy5Z9oHYCBABy696t20CFCQECWBAAAIECAMiTK1/O/EGAAQCiS59OvTp1BAQaVJgAoLv37+DDf1FPMCBAAAUFAKhfz769e/YB4jsAQL++/fv2EShoEKB/AIAQAAwkWNAggAIOIgRgGGCAAQARJU6kmIBBgwAZAxBYIADAR5AhRY4kWdLkSZQhAwIAOw==\"><title>Layer: input (input)\n shape = (784,)\n Keras class = Input</title></image><text x=\"280.0\" y=\"517.0\" font-family=\"monospace\" font-size=\"12\">input</text></svg>"
      }
     },
     "2b704c2b5560491598d239a5e908908f": {
      "model_module": "jupyter-js-widgets",
      "model_module_version": "~2.1.4",
      "model_name": "ButtonModel",
      "state": {
       "_model_module_version": "~2.1.4",
       "_view_module_version": "~2.1.4",
       "icon": "backward",
       "layout": "IPY_MODEL_27c4361f4eb9436089554b17ad939cf5",
       "style": "IPY_MODEL_fc35b72f6faf477c9e33b8baa5074da9"
      }
     },
     "2e3d226d5594421ab59a47eb0e80fdbc": {
      "model_module": "jupyter-js-widgets",
      "model_module_version": "~2.1.4",
      "model_name": "LayoutModel",
      "state": {
       "_model_module_version": "~2.1.4",
       "_view_module_version": "~2.1.4",
       "width": "100%"
      }
     },
     "3ab413f1bf454caebe4038874659688c": {
      "model_module": "jupyter-js-widgets",
      "model_module_version": "~2.1.4",
      "model_name": "LayoutModel",
      "state": {
       "_model_module_version": "~2.1.4",
       "_view_module_version": "~2.1.4",
       "width": "100%"
      }
     },
     "434468d3d6e84817801e195fc072fb34": {
      "model_module": "jupyter-js-widgets",
      "model_module_version": "~2.1.4",
      "model_name": "LayoutModel",
      "state": {
       "_model_module_version": "~2.1.4",
       "_view_module_version": "~2.1.4",
       "width": "100%"
      }
     },
     "4595a9a2b4c142a783ad2da440e70132": {
      "model_module": "jupyter-js-widgets",
      "model_module_version": "~2.1.4",
      "model_name": "IntSliderModel",
      "state": {
       "_model_module_version": "~2.1.4",
       "_view_module_version": "~2.1.4",
       "continuous_update": false,
       "description": "Dataset position",
       "layout": "IPY_MODEL_16e73891640948b8abb9e6f49c9433bb",
       "max": 99,
       "style": "IPY_MODEL_74314192b48e47c784a5358bd5b4e43c"
      }
     },
     "4fb523aa6da34cdbadcb7e333a4cd916": {
      "model_module": "jupyter-js-widgets",
      "model_module_version": "~2.1.4",
      "model_name": "ButtonStyleModel",
      "state": {
       "_model_module_version": "~2.1.4",
       "_view_module_version": "~2.1.4"
      }
     },
     "51c8b6dc343244d290e44748ff1fe937": {
      "model_module": "jupyter-js-widgets",
      "model_module_version": "~2.1.4",
      "model_name": "LayoutModel",
      "state": {
       "_model_module_version": "~2.1.4",
       "_view_module_version": "~2.1.4",
       "height": "550px",
       "overflow_x": "auto",
       "width": "100%"
      }
     },
     "5a807ab3856b49b187b9d7feb1d4e77a": {
      "model_module": "jupyter-js-widgets",
      "model_module_version": "~2.1.4",
      "model_name": "SelectModel",
      "state": {
       "_model_module_version": "~2.1.4",
       "_options_labels": [
        "Test",
        "Train"
       ],
       "_view_module_version": "~2.1.4",
       "description": "Dataset:",
       "layout": "IPY_MODEL_981ef1fdb5514bdda25336f710f94fd8",
       "value": "Train"
      }
     },
     "5aaa071f6d444b01810cd9c1dc4486dc": {
      "model_module": "jupyter-js-widgets",
      "model_module_version": "~2.1.4",
      "model_name": "VBoxModel",
      "state": {
       "_model_module_version": "~2.1.4",
       "_view_module_version": "~2.1.4",
       "children": [
        "IPY_MODEL_c2c1f03e14964d43b5b9d31cebfc9a47",
        "IPY_MODEL_4595a9a2b4c142a783ad2da440e70132",
        "IPY_MODEL_efc1538b3f4e445f9f0d90fb05c75026"
       ],
       "layout": "IPY_MODEL_119006dc6ccc488aa4f16addd78892fc"
      }
     },
     "5b592b42dc3a41c6acb3096dc2e4fe95": {
      "model_module": "jupyter-js-widgets",
      "model_module_version": "~2.1.4",
      "model_name": "LayoutModel",
      "state": {
       "_model_module_version": "~2.1.4",
       "_view_module_version": "~2.1.4",
       "width": "100%"
      }
     },
     "5d48d947d6044d04abaa7e205f6067ed": {
      "model_module": "jupyter-js-widgets",
      "model_module_version": "~2.1.4",
      "model_name": "ButtonModel",
      "state": {
       "_model_module_version": "~2.1.4",
       "_view_module_version": "~2.1.4",
       "description": "Train",
       "layout": "IPY_MODEL_2e3d226d5594421ab59a47eb0e80fdbc",
       "style": "IPY_MODEL_73d8007bbed148d28e778b5dce728e1d"
      }
     },
     "5de4b73b32784d55a60abf19b71c5269": {
      "model_module": "jupyter-js-widgets",
      "model_module_version": "~2.1.4",
      "model_name": "LayoutModel",
      "state": {
       "_model_module_version": "~2.1.4",
       "_view_module_version": "~2.1.4",
       "width": "100%"
      }
     },
     "5f55a7fa124244c69defd6548257b259": {
      "model_module": "jupyter-js-widgets",
      "model_module_version": "~2.1.4",
      "model_name": "LayoutModel",
      "state": {
       "_model_module_version": "~2.1.4",
       "_view_module_version": "~2.1.4",
       "width": "100%"
      }
     },
     "73d8007bbed148d28e778b5dce728e1d": {
      "model_module": "jupyter-js-widgets",
      "model_module_version": "~2.1.4",
      "model_name": "ButtonStyleModel",
      "state": {
       "_model_module_version": "~2.1.4",
       "_view_module_version": "~2.1.4"
      }
     },
     "74314192b48e47c784a5358bd5b4e43c": {
      "model_module": "jupyter-js-widgets",
      "model_module_version": "~2.1.4",
      "model_name": "SliderStyleModel",
      "state": {
       "_model_module_version": "~2.1.4",
       "_view_module_version": "~2.1.4"
      }
     },
     "774c368af62140a694a6da18830900e3": {
      "model_module": "jupyter-js-widgets",
      "model_module_version": "~2.1.4",
      "model_name": "LayoutModel",
      "state": {
       "_model_module_version": "~2.1.4",
       "_view_module_version": "~2.1.4",
       "width": "100%"
      }
     },
     "83750d4f183e49a6b74a3fcb360e8245": {
      "model_module": "jupyter-js-widgets",
      "model_module_version": "~2.1.4",
      "model_name": "LayoutModel",
      "state": {
       "_model_module_version": "~2.1.4",
       "_view_module_version": "~2.1.4",
       "width": "100%"
      }
     },
     "8d7755b86e4146b7b08807a069a079ba": {
      "model_module": "jupyter-js-widgets",
      "model_module_version": "~2.1.4",
      "model_name": "HBoxModel",
      "state": {
       "_model_module_version": "~2.1.4",
       "_view_module_version": "~2.1.4",
       "children": [
        "IPY_MODEL_a76b4899090a454c835d2b12751cb7cb",
        "IPY_MODEL_f4bdef942fd143228ef82767d1eef370",
        "IPY_MODEL_5d48d947d6044d04abaa7e205f6067ed",
        "IPY_MODEL_b7578a17a4f04665aef01cec74152987",
        "IPY_MODEL_e2ac0306e3ed4768806aa3628c9193e9"
       ],
       "layout": "IPY_MODEL_83750d4f183e49a6b74a3fcb360e8245"
      }
     },
     "981ef1fdb5514bdda25336f710f94fd8": {
      "model_module": "jupyter-js-widgets",
      "model_module_version": "~2.1.4",
      "model_name": "LayoutModel",
      "state": {
       "_model_module_version": "~2.1.4",
       "_view_module_version": "~2.1.4"
      }
     },
     "9b07237930f049b59f2cd24c21f5a8f0": {
      "model_module": "jupyter-js-widgets",
      "model_module_version": "~2.1.4",
      "model_name": "ButtonStyleModel",
      "state": {
       "_model_module_version": "~2.1.4",
       "_view_module_version": "~2.1.4"
      }
     },
     "9bc5a5587dbd436bba87d7ab15782849": {
      "model_module": "jupyter-js-widgets",
      "model_module_version": "~2.1.4",
      "model_name": "ButtonStyleModel",
      "state": {
       "_model_module_version": "~2.1.4",
       "_view_module_version": "~2.1.4"
      }
     },
     "a76b4899090a454c835d2b12751cb7cb": {
      "model_module": "jupyter-js-widgets",
      "model_module_version": "~2.1.4",
      "model_name": "ButtonModel",
      "state": {
       "_model_module_version": "~2.1.4",
       "_view_module_version": "~2.1.4",
       "icon": "fast-backward",
       "layout": "IPY_MODEL_aae6c64f021044518608bbc1ffa24ac9",
       "style": "IPY_MODEL_9b07237930f049b59f2cd24c21f5a8f0"
      }
     },
     "aae6c64f021044518608bbc1ffa24ac9": {
      "model_module": "jupyter-js-widgets",
      "model_module_version": "~2.1.4",
      "model_name": "LayoutModel",
      "state": {
       "_model_module_version": "~2.1.4",
       "_view_module_version": "~2.1.4",
       "width": "100%"
      }
     },
     "ab068ddbb979472bb74c95dd3dee0162": {
      "model_module": "jupyter-js-widgets",
      "model_module_version": "~2.1.4",
      "model_name": "ButtonStyleModel",
      "state": {
       "_model_module_version": "~2.1.4",
       "_view_module_version": "~2.1.4"
      }
     },
     "b7578a17a4f04665aef01cec74152987": {
      "model_module": "jupyter-js-widgets",
      "model_module_version": "~2.1.4",
      "model_name": "ButtonModel",
      "state": {
       "_model_module_version": "~2.1.4",
       "_view_module_version": "~2.1.4",
       "icon": "forward",
       "layout": "IPY_MODEL_f6575f1f63e4409cbaf79ecff7c1b0ab",
       "style": "IPY_MODEL_9bc5a5587dbd436bba87d7ab15782849"
      }
     },
     "bd498577e99a4c3892e943b4208f91cb": {
      "model_module": "jupyter-js-widgets",
      "model_module_version": "~2.1.4",
      "model_name": "LayoutModel",
      "state": {
       "_model_module_version": "~2.1.4",
       "_view_module_version": "~2.1.4",
       "width": "100%"
      }
     },
     "c2c1f03e14964d43b5b9d31cebfc9a47": {
      "model_module": "jupyter-js-widgets",
      "model_module_version": "~2.1.4",
      "model_name": "SelectModel",
      "state": {
       "_model_module_version": "~2.1.4",
       "_options_labels": [
        "Test",
        "Train"
       ],
       "_view_module_version": "~2.1.4",
       "description": "Dataset:",
       "layout": "IPY_MODEL_224bc904b3604cc18f94a6700c8a7844",
       "value": "Train"
      }
     },
     "c81ae8dbce134f98876d8a4386237ec2": {
      "model_module": "jupyter-js-widgets",
      "model_module_version": "~2.1.4",
      "model_name": "SliderStyleModel",
      "state": {
       "_model_module_version": "~2.1.4",
       "_view_module_version": "~2.1.4"
      }
     },
     "caab46c496c242ab800a321a273207df": {
      "model_module": "jupyter-js-widgets",
      "model_module_version": "~2.1.4",
      "model_name": "LayoutModel",
      "state": {
       "_model_module_version": "~2.1.4",
       "_view_module_version": "~2.1.4",
       "width": "100%"
      }
     },
     "d1ed513b61cf41d1958116bd8ebc59a2": {
      "model_module": "jupyter-js-widgets",
      "model_module_version": "~2.1.4",
      "model_name": "ButtonModel",
      "state": {
       "_model_module_version": "~2.1.4",
       "_view_module_version": "~2.1.4",
       "icon": "forward",
       "layout": "IPY_MODEL_296e730f0ecc49f0937a700e5e74aa63",
       "style": "IPY_MODEL_f3bb69f4eb5b4348a93061696e91b3f7"
      }
     },
     "d9aa9b8e6b6a4419bcbb9cf72b88c8b8": {
      "model_module": "jupyter-js-widgets",
      "model_module_version": "~2.1.4",
      "model_name": "IntSliderModel",
      "state": {
       "_model_module_version": "~2.1.4",
       "_view_module_version": "~2.1.4",
       "continuous_update": false,
       "description": "Dataset position",
       "layout": "IPY_MODEL_5de4b73b32784d55a60abf19b71c5269",
       "max": 99,
       "style": "IPY_MODEL_c81ae8dbce134f98876d8a4386237ec2"
      }
     },
     "e17fee214b2e4cedb61caf05403940a5": {
      "model_module": "jupyter-js-widgets",
      "model_module_version": "~2.1.4",
      "model_name": "ButtonStyleModel",
      "state": {
       "_model_module_version": "~2.1.4",
       "_view_module_version": "~2.1.4"
      }
     },
     "e2ac0306e3ed4768806aa3628c9193e9": {
      "model_module": "jupyter-js-widgets",
      "model_module_version": "~2.1.4",
      "model_name": "ButtonModel",
      "state": {
       "_model_module_version": "~2.1.4",
       "_view_module_version": "~2.1.4",
       "icon": "fast-forward",
       "layout": "IPY_MODEL_102bf7b85c4749cfa056131c60f600ab",
       "style": "IPY_MODEL_e17fee214b2e4cedb61caf05403940a5"
      }
     },
     "e32516921bca4e0d8f9f928dcccef2b6": {
      "model_module": "jupyter-js-widgets",
      "model_module_version": "~2.1.4",
      "model_name": "ButtonStyleModel",
      "state": {
       "_model_module_version": "~2.1.4",
       "_view_module_version": "~2.1.4"
      }
     },
     "e999d4246cbb411a9bdc10e9b2bcc74c": {
      "model_module": "jupyter-js-widgets",
      "model_module_version": "~2.1.4",
      "model_name": "ButtonStyleModel",
      "state": {
       "_model_module_version": "~2.1.4",
       "_view_module_version": "~2.1.4"
      }
     },
     "ebf856882f454da399a2ff81d4e2f8bd": {
      "model_module": "jupyter-js-widgets",
      "model_module_version": "~2.1.4",
      "model_name": "HTMLModel",
      "state": {
       "_model_module_version": "~2.1.4",
       "_view_module_version": "~2.1.4",
       "layout": "IPY_MODEL_51c8b6dc343244d290e44748ff1fe937",
       "value": "\n        <svg id='MNIST-CNN' xmlns='http://www.w3.org/2000/svg' width=\"650\" height=\"1342\" image-rendering=\"pixelated\">\n    <defs>\n        <marker id=\"arrow\" markerWidth=\"10\" markerHeight=\"10\" refX=\"9\" refY=\"3\" orient=\"auto\" markerUnits=\"strokeWidth\">\n          <path d=\"M0,0 L0,6 L9,3 z\" fill=\"blue\" />\n        </marker>\n    </defs>\n<rect x=\"224.0\" y=\"24\" width=\"202\" height=\"27\" style=\"fill:none;stroke:blue;stroke-width:2\"/><image id=\"MNIST-CNN_output_targets_1\" class=\"MNIST-CNN_output_targets\" x=\"225.0\" y=\"25\" height=\"25\" width=\"200\" href=\"data:image/gif;base64,R0lGODdhCgABAIMAAAEBAQQEBAUFBQ8PDxERERQUFBkZGRsbGyIiImZmZgAAAAAAAAAAAAAAAAAAAAAAACwAAAAACgABAAAIDgAREAiQoACAAwYEDAgIADs=\"><title>Layer: output (output)\n shape = (10,)\n Keras class = Dense\n activation = softmax</title></image><text x=\"430.0\" y=\"39.5\" font-family=\"monospace\" font-size=\"12\">targets</text><rect x=\"224.0\" y=\"59\" width=\"202\" height=\"27\" style=\"fill:none;stroke:blue;stroke-width:2\"/><image id=\"MNIST-CNN_output_errors_1\" class=\"MNIST-CNN_output_errors\" x=\"225.0\" y=\"60\" height=\"25\" width=\"200\" href=\"data:image/gif;base64,R0lGODdhCgABAIMAAAEBAQQEBAUFBQ8PDxERERQUFBkZGRsbGyIiImZmZgAAAAAAAAAAAAAAAAAAAAAAACwAAAAACgABAAAIDgAREAiQoACAAwYEDAgIADs=\"><title>Layer: output (output)\n shape = (10,)\n Keras class = Dense\n activation = softmax</title></image><text x=\"430.0\" y=\"74.5\" font-family=\"monospace\" font-size=\"12\">errors</text><rect x=\"224.0\" y=\"99\" width=\"202\" height=\"27\" style=\"fill:none;stroke:blue;stroke-width:2\"/><image id=\"MNIST-CNN_output_1\" class=\"MNIST-CNN_output\" x=\"225.0\" y=\"100\" height=\"25\" width=\"200\" href=\"data:image/gif;base64,R0lGODdhCgABAIMAAAEBAQQEBAUFBQ8PDxERERQUFBkZGRsbGyIiImZmZgAAAAAAAAAAAAAAAAAAAAAAACwAAAAACgABAAAIDgAREAiQoACAAwYEDAgIADs=\"><title>Layer: output (output)\n shape = (10,)\n Keras class = Dense\n activation = softmax</title></image><text x=\"430.0\" y=\"114.5\" font-family=\"monospace\" font-size=\"12\">output</text><rect x=\"315.0\" y=\"127\" width=\"20.0\" height=\"27\" style=\"fill:white;stroke:none\"><title>Weights from hidden to output\n output/kernel has shape (1000, 10)\n output/bias has shape (10,)</title></rect><line x1=\"325.0\" y1=\"154\" x2=\"325.0\" y2=\"127\" stroke=\"blue\" stroke-width=\"2\" marker-end=\"url(#arrow)\"><title>Weights from hidden to output\n output/kernel has shape (1000, 10)\n output/bias has shape (10,)</title></line><rect x=\"74.0\" y=\"154\" width=\"502\" height=\"34\" style=\"fill:none;stroke:blue;stroke-width:2\"/><image id=\"MNIST-CNN_hidden_2\" class=\"MNIST-CNN_hidden\" x=\"75.0\" y=\"155\" height=\"32\" width=\"500\" href=\"data:image/gif;base64,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\"><title>Layer: hidden (hidden)\n shape = (1000,)\n Keras class = Dense\n activation = relu</title></image><text x=\"580.0\" y=\"173.0\" font-family=\"monospace\" font-size=\"12\">hidden</text><rect x=\"224.0\" y=\"196\" width=\"202\" height=\"202\" style=\"fill:none;stroke:blue;stroke-width:2\"/><image id=\"MNIST-CNN_maxpool2_3\" class=\"MNIST-CNN_maxpool2\" x=\"225.0\" y=\"197\" height=\"200\" width=\"200\" href=\"data:image/gif;base64,R0lGODdhBAAEAIIAAH9/f4CAgIGBgYODg4eHh4iIiIqKiouLiywAAAAABAAEAAAIFQAHABhgYAABAgUCEDgAQIAAAAYCAgA7\"><title>Layer: maxpool2 (hidden)\n Keras class = MaxPooling2D</title></image><text x=\"430.0\" y=\"299.0\" font-family=\"monospace\" font-size=\"12\">maxpool2</text><rect x=\"315.0\" y=\"399\" width=\"20.0\" height=\"27\" style=\"fill:white;stroke:none\"><title>Weights from Conv2D-2 to maxpool2</title></rect><line x1=\"325.0\" y1=\"426\" x2=\"325.0\" y2=\"399\" stroke=\"blue\" stroke-width=\"2\" marker-end=\"url(#arrow)\"><title>Weights from Conv2D-2 to maxpool2</title></line><rect x=\"224.0\" y=\"426\" width=\"202\" height=\"202\" style=\"fill:none;stroke:blue;stroke-width:2\"/><image id=\"MNIST-CNN_Conv2D-2_4\" class=\"MNIST-CNN_Conv2D-2\" x=\"225.0\" y=\"427\" height=\"200\" width=\"200\" href=\"data:image/gif;base64,R0lGODdhCAAIAIQAAAAAAAoKCgsLCxERERcXFyEhISUlJSkpKS8vL0tLS01NTVlZWWZmZmdnZ2lpaXBwcHJycnd3d4uLi5aWlp2dnaOjo6ysrK2trb29veHh4ePj4+Tk5P///wAAAAAAAAAAACwAAAAACAAIAAAIOwAVGABAsKBBAAscZACQ4IIEChYwRAAAoEECBgAGANhIoAIHCABCCnjgYEMCAAAKIDgQAIDLlzAnaAgIADs=\"><title>Layer: Conv2D-2 (hidden)\n Keras class = Conv2D\n activation = relu</title></image><text x=\"430.0\" y=\"529.0\" font-family=\"monospace\" font-size=\"12\">Conv2D-2</text><rect x=\"315.0\" y=\"629\" width=\"20.0\" height=\"27\" style=\"fill:white;stroke:none\"><title>Weights from maxpool1 to Conv2D-2\n Conv2D-2/kernel has shape (5, 5, 16, 132)\n Conv2D-2/bias has shape (132,)</title></rect><line x1=\"325.0\" y1=\"656\" x2=\"325.0\" y2=\"629\" stroke=\"blue\" stroke-width=\"2\" marker-end=\"url(#arrow)\"><title>Weights from maxpool1 to Conv2D-2\n Conv2D-2/kernel has shape (5, 5, 16, 132)\n Conv2D-2/bias has shape (132,)</title></line><rect x=\"224.0\" y=\"656\" width=\"202\" height=\"202\" style=\"fill:none;stroke:blue;stroke-width:2\"/><image id=\"MNIST-CNN_maxpool1_5\" class=\"MNIST-CNN_maxpool1\" x=\"225.0\" y=\"657\" height=\"200\" width=\"200\" href=\"data:image/gif;base64,R0lGODdhDAAMAIUAAH9/f4CAgIGBgYKCgoODg4SEhIWFhYaGhoeHh4iIiImJiYqKiouLi4yMjI2NjY6Ojo+Pj5CQkJGRkZKSkpOTk5SUlJaWlpeXl5mZmZqampubm5ycnJ2dnZ+fn6CgoKGhoaKioqOjo6SkpKmpqQAAAAAAAAAAAAAAAAAAAAAAAAAAAAAAAAAAAAAAAAAAAAAAAAAAAAAAAAAAAAAAAAAAAAAAAAAAAAAAAAAAAAAAAAAAAAAAAAAAAAAAAAAAAAAAACwAAAAADAAMAAAIlAABCAQQAAABAQcKFDgAQAACAQscRGAwoUAFBwAEJDCwgEAAAAUCcJgAoCSAAA8abLCAwQMDADABHPCQoQMFADhz4qRAYUGCAgCCCgVgAMICBQwEAFi6lMCAAhM0SAgAoKoAAwUGDAAw4sIAAAUMDEAgAAAACCIqAABwAAABAAAagAiRgQCAuwASUPgAQgMBAIABBAQAOw==\"><title>Layer: maxpool1 (hidden)\n Keras class = MaxPooling2D</title></image><text x=\"430.0\" y=\"759.0\" font-family=\"monospace\" font-size=\"12\">maxpool1</text><rect x=\"315.0\" y=\"859\" width=\"20.0\" height=\"27\" style=\"fill:white;stroke:none\"><title>Weights from Conv2D-1 to maxpool1</title></rect><line x1=\"325.0\" y1=\"886\" x2=\"325.0\" y2=\"859\" stroke=\"blue\" stroke-width=\"2\" marker-end=\"url(#arrow)\"><title>Weights from Conv2D-1 to maxpool1</title></line><rect x=\"224.0\" y=\"886\" width=\"202\" height=\"202\" style=\"fill:none;stroke:blue;stroke-width:2\"/><image id=\"MNIST-CNN_Conv2D-1_6\" class=\"MNIST-CNN_Conv2D-1\" x=\"225.0\" y=\"887\" height=\"200\" width=\"200\" href=\"data:image/gif;base64,R0lGODdhGAAYAIYAAAAAAAEBAQICAgMDAwQEBAUFBQYGBgcHBwgICAkJCQoKCgsLCwwMDA0NDQ4ODg8PDxAQEBERERISEhMTExQUFBUVFRYWFhgYGBkZGRoaGhsbGx0dHR4eHh8fHyAgICEhISIiIiMjIyQkJCUlJSYmJicnJygoKCoqKisrKywsLC4uLi8vLzAwMDIyMjQ0NDU1NTY2Njk5OTo6Ojs7Oz8/P0BAQEFBQUREREVFRUdHR0lJSUpKSktLS0xMTE1NTU9PT1FRUVRUVFZWVldXV1hYWFpaWltbW11dXV9fX2BgYGJiYmNjY2VlZWlpaWpqam1tbW9vb3JycnNzc3V1dXh4eHl5eXt7e3x8fH5+foCAgIiIiI+Pj5CQkJGRkZKSkpqampycnKCgoKGhoaOjo6Wlpaampqenp6qqqq+vr7CwsLKysra2tr+/v8TExMbGxtDQ0NXV1dbW1tnZ2eDg4P///wAAAAAAAAAAAAAAAAAAAAAAAAAAAAAAAAAAAAAAAAAAACwAAAAAGAAYAEAI/wAFCBxIsKBBgwASJjThAQYZMVe6sLESRIDFixgtHrDQAQIAABEAiHxCZwuKBQJSqlQQIwAAEjhkVFBwAIDNmzgRCNjJUwCAnwA+gIAxYIABGC1ICFgqQIQJAAAcYAgAoGpVDETQyBGjo4KAr2DBIiDQ4EGCCQsiePAw4sQUIxs4IMECRIKAuwDy6s2r4AQAAEiYvGDyxQ0XHREEKFYMoHHjGFWqiHBBY8WFAwIya968GYBnABpcDAni5MgHAgJSpzYQgsIBAQcQLABAu/aRM1mACNgtAIDv374XEAEDp4yPCwQEKF/OvLmAAQUEBLiwIAEAEik6AADQIUUGAeAZrN5QAKBAiRs7hiwhkmJHDw8AKnRgAACAgPsACgDYz78/AIAdAAAwEGZNFBQCFAJgyNAAAABFfqiQkkaLkhkzXGhYIMCjRwAhQzbQ4cZLhQxJfJQQ0NLlS5cAZFaQIsUGAxIqXnA4IMDnT6A+AQwdmqQGBQA0cKxwIMDpU6gCFGiAAMDqBCldykDBAEDAV7ACDjAQQQEAAAgPAKwFkEMNlR0SBMx1sEHCAwARWIgA0NcvhiNt5mBRIcCwgAQAFC9eTKHHmDhheFgQUNmyAACZM7sQUsXMGzdNRhQQUNr06YAAOw==\"><title>Layer: Conv2D-1 (hidden)\n Keras class = Conv2D\n activation = relu</title></image><text x=\"430.0\" y=\"989.0\" font-family=\"monospace\" font-size=\"12\">Conv2D-1</text><rect x=\"315.0\" y=\"1089\" width=\"20.0\" height=\"27\" style=\"fill:white;stroke:none\"><title>Weights from input to Conv2D-1\n Conv2D-1/kernel has shape (5, 5, 1, 16)\n Conv2D-1/bias has shape (16,)</title></rect><line x1=\"325.0\" y1=\"1116\" x2=\"325.0\" y2=\"1089\" stroke=\"blue\" stroke-width=\"2\" marker-end=\"url(#arrow)\"><title>Weights from input to Conv2D-1\n Conv2D-1/kernel has shape (5, 5, 1, 16)\n Conv2D-1/bias has shape (16,)</title></line><rect x=\"224.0\" y=\"1116\" width=\"202\" height=\"202\" style=\"fill:none;stroke:blue;stroke-width:2\"/><image id=\"MNIST-CNN_input_7\" class=\"MNIST-CNN_input\" x=\"225.0\" y=\"1117\" height=\"200\" width=\"200\" href=\"data:image/gif;base64,R0lGODdhHAAcAIcAAAoAAP//9jAAAP/8DP//z00AANcAAPMAAG4AAI0AAP+aAP9nAP/MAP//jbMAAP9yAP/pAP//T///c/8lAP9XAP+qAP//Mv82AP9EAP+/AP/WAP//vAAAAAAAAAAAAAAAAAAAAAAAAAAAAAAAAAAAAAAAAAAAAAAAAAAAAAAAAAAAAAAAAAAAAAAAAAAAAAAAAAAAAAAAAAAAAAAAAAAAAAAAAAAAAAAAAAAAAAAAAAAAAAAAAAAAAAAAAAAAAAAAAAAAAAAAAAAAAAAAAAAAAAAAAAAAAAAAAAAAAAAAAAAAAAAAAAAAAAAAAAAAAAAAAAAAAAAAAAAAAAAAAAAAAAAAAAAAAAAAAAAAAAAAAAAAAAAAAAAAAAAAAAAAAAAAAAAAAAAAAAAAAAAAAAAAAAAAAAAAAAAAAAAAAAAAAAAAAAAAAAAAAAAAAAAAAAAAAAAAAAAAAAAAAAAAAAAAAAAAAAAAAAAAAAAAAAAAAAAAAAAAAAAAAAAAAAAAAAAAAAAAAAAAAAAAAAAAAAAAAAAAAAAAAAAAAAAAAAAAAAAAAAAAAAAAAAAAAAAAAAAAAAAAAAAAAAAAAAAAAAAAAAAAAAAAAAAAAAAAAAAAAAAAAAAAAAAAAAAAAAAAAAAAAAAAAAAAAAAAAAAAAAAAAAAAAAAAAAAAAAAAAAAAAAAAAAAAAAAAAAAAAAAAAAAAAAAAAAAAAAAAAAAAAAAAAAAAAAAAAAAAAAAAAAAAAAAAAAAAAAAAAAAAAAAAAAAAAAAAAAAAAAAAAAAAAAAAAAAAAAAAAAAAAAAAAAAAAAAAAAAAAAAAAAAAAAAAAAAAAAAAAAAAAAAAAAAAAAAAAAAAAAAAAAAAAAAAAAAAAAAAAAAAAAAAAAAAAAAAAAAAAAAAAAAAAAAAAAAAAAAAAAAAAAAAAAAAAAAAAAAAAAAAAAAAAAAAAAAAAAAAAAAAAAAAAAAAAAAAAAAAAAAAAAAAAAAAAAAAAAAAAAAAAAAAAAAAAAAAAAAAAAAAAAAAACwAAAAAHAAcAEAI/wABCBxIsKDBgwcFSAjAkOEACAQIAJhIsaLFixUFHAgQYACAjyBDfnwQoGSEBQsEAFjJsqXLlzBjypwpYEAAAwBy6tzJs2fOAhckBBgawIIBAEiTKl3KtKnTpwUQHFDAIIBVqw0YBCAwwAGAr2DDghUAQEGAAwDSql3Ltm1bAwQCBMBQAIDdu3jz6rWbYAGEAAEiABhMuHBhAQwkBFgcYIABAQAiS55MubLly5gza97MufNkAaApPNBQIEMAAhQAqF7NGkCCDQFiy5Z9oHYCBABy696t20CFCQECWBAAAIECAMiTK1/O/EGAAQCiS59OvTp1BAQaVJgAoLv37+DDf1FPMCBAAAUFAKhfz769e/YB4jsAQL++/fv2EShoEKB/AIAQAAwkWNAggAIOIgRgGGCAAQARJU6kmIBBgwAZAxBYIADAR5AhRY4kWdLkSZQhAwIAOw==\"><title>Layer: input (input)\n shape = (28, 28, 1)\n Keras class = Input</title></image><text x=\"430.0\" y=\"1219.0\" font-family=\"monospace\" font-size=\"12\">input</text></svg>"
      }
     },
     "ef2d8abdcd8441d793af16e93446caf4": {
      "model_module": "jupyter-js-widgets",
      "model_module_version": "~2.1.4",
      "model_name": "LayoutModel",
      "state": {
       "_model_module_version": "~2.1.4",
       "_view_module_version": "~2.1.4",
       "width": "100%"
      }
     },
     "efc1538b3f4e445f9f0d90fb05c75026": {
      "model_module": "jupyter-js-widgets",
      "model_module_version": "~2.1.4",
      "model_name": "HBoxModel",
      "state": {
       "_model_module_version": "~2.1.4",
       "_view_module_version": "~2.1.4",
       "children": [
        "IPY_MODEL_0185e3713a4d48e1b04b9a15c4f25dbe",
        "IPY_MODEL_2b704c2b5560491598d239a5e908908f",
        "IPY_MODEL_269ba39bea5d45008a09efe52d81cc8d",
        "IPY_MODEL_d1ed513b61cf41d1958116bd8ebc59a2",
        "IPY_MODEL_1c0fb1d81d384af69c6581db48605c70"
       ],
       "layout": "IPY_MODEL_774c368af62140a694a6da18830900e3"
      }
     },
     "f3bb69f4eb5b4348a93061696e91b3f7": {
      "model_module": "jupyter-js-widgets",
      "model_module_version": "~2.1.4",
      "model_name": "ButtonStyleModel",
      "state": {
       "_model_module_version": "~2.1.4",
       "_view_module_version": "~2.1.4"
      }
     },
     "f4bdef942fd143228ef82767d1eef370": {
      "model_module": "jupyter-js-widgets",
      "model_module_version": "~2.1.4",
      "model_name": "ButtonModel",
      "state": {
       "_model_module_version": "~2.1.4",
       "_view_module_version": "~2.1.4",
       "icon": "backward",
       "layout": "IPY_MODEL_ef2d8abdcd8441d793af16e93446caf4",
       "style": "IPY_MODEL_4fb523aa6da34cdbadcb7e333a4cd916"
      }
     },
     "f6575f1f63e4409cbaf79ecff7c1b0ab": {
      "model_module": "jupyter-js-widgets",
      "model_module_version": "~2.1.4",
      "model_name": "LayoutModel",
      "state": {
       "_model_module_version": "~2.1.4",
       "_view_module_version": "~2.1.4",
       "width": "100%"
      }
     },
     "fc35b72f6faf477c9e33b8baa5074da9": {
      "model_module": "jupyter-js-widgets",
      "model_module_version": "~2.1.4",
      "model_name": "ButtonStyleModel",
      "state": {
       "_model_module_version": "~2.1.4",
       "_view_module_version": "~2.1.4"
      }
     }
    },
    "version_major": 1,
    "version_minor": 0
   }
  }
 },
 "nbformat": 4,
 "nbformat_minor": 2
}
