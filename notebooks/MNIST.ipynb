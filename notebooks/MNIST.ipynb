{
 "cells": [
  {
   "cell_type": "code",
   "execution_count": 1,
   "metadata": {
    "collapsed": true
   },
   "outputs": [],
   "source": [
    "import sys\n",
    "sys.path.append(\"..\")"
   ]
  },
  {
   "cell_type": "code",
   "execution_count": 2,
   "metadata": {},
   "outputs": [
    {
     "name": "stderr",
     "output_type": "stream",
     "text": [
      "Using Theano backend.\n"
     ]
    }
   ],
   "source": [
    "from conx import Network, Layer"
   ]
  },
  {
   "cell_type": "code",
   "execution_count": 3,
   "metadata": {
    "collapsed": true
   },
   "outputs": [],
   "source": [
    "net = Network(\"MNIST\")\n",
    "net.add(Layer(\"input\", shape=784, vshape=(28, 28), colormap=\"hot\", minmax=(0,1)))\n",
    "net.add(Layer(\"hidden1\", shape=512, vshape=(16,32), activation='relu', dropout=0.2))\n",
    "net.add(Layer(\"hidden2\", shape=512, vshape=(16,32), activation='relu', dropout=0.2))\n",
    "net.add(Layer(\"output\", shape=10, activation='softmax'))\n",
    "\n",
    "net.connect('input', 'hidden1')\n",
    "net.connect('hidden1', 'hidden2')\n",
    "net.connect('hidden2', 'output')"
   ]
  },
  {
   "cell_type": "code",
   "execution_count": 4,
   "metadata": {},
   "outputs": [
    {
     "data": {
      "text/plain": [
       "<Network name='MNIST'>"
      ]
     },
     "execution_count": 4,
     "metadata": {},
     "output_type": "execute_result"
    }
   ],
   "source": [
    "net"
   ]
  },
  {
   "cell_type": "code",
   "execution_count": 5,
   "metadata": {
    "collapsed": true
   },
   "outputs": [],
   "source": [
    "net.compile(loss='mean_squared_error',\n",
    "            optimizer='sgd')"
   ]
  },
  {
   "cell_type": "code",
   "execution_count": 6,
   "metadata": {
    "collapsed": true
   },
   "outputs": [],
   "source": [
    "from keras.utils.vis_utils import model_to_dot\n",
    "from IPython.display import SVG"
   ]
  },
  {
   "cell_type": "code",
   "execution_count": 7,
   "metadata": {},
   "outputs": [
    {
     "data": {
      "image/svg+xml": [
       "<svg height=\"410pt\" viewBox=\"0.00 0.00 133.00 410.00\" width=\"133pt\" xmlns=\"http://www.w3.org/2000/svg\" xmlns:xlink=\"http://www.w3.org/1999/xlink\">\n",
       "<g class=\"graph\" id=\"graph0\" transform=\"scale(1 1) rotate(0) translate(4 406)\">\n",
       "<title>G</title>\n",
       "<polygon fill=\"white\" points=\"-4,4 -4,-406 129,-406 129,4 -4,4\" stroke=\"none\"/>\n",
       "<!-- 139670626432840 -->\n",
       "<g class=\"node\" id=\"node1\"><title>139670626432840</title>\n",
       "<polygon fill=\"none\" points=\"6.5,-0.5 6.5,-36.5 118.5,-36.5 118.5,-0.5 6.5,-0.5\" stroke=\"black\"/>\n",
       "<text font-family=\"Times,serif\" font-size=\"14.00\" text-anchor=\"middle\" x=\"62.5\" y=\"-14.8\">input: InputLayer</text>\n",
       "</g>\n",
       "<!-- 139671532343984 -->\n",
       "<g class=\"node\" id=\"node2\"><title>139671532343984</title>\n",
       "<polygon fill=\"none\" points=\"12,-73.5 12,-109.5 113,-109.5 113,-73.5 12,-73.5\" stroke=\"black\"/>\n",
       "<text font-family=\"Times,serif\" font-size=\"14.00\" text-anchor=\"middle\" x=\"62.5\" y=\"-87.8\">hidden1: Dense</text>\n",
       "</g>\n",
       "<!-- 139670626432840&#45;&gt;139671532343984 -->\n",
       "<g class=\"edge\" id=\"edge1\"><title>139670626432840-&gt;139671532343984</title>\n",
       "<path d=\"M62.5,-36.6871C62.5,-44.7105 62.5,-54.4525 62.5,-63.4309\" fill=\"none\" stroke=\"black\"/>\n",
       "<polygon fill=\"black\" points=\"59.0001,-63.4711 62.5,-73.4712 66.0001,-63.4712 59.0001,-63.4711\" stroke=\"black\"/>\n",
       "</g>\n",
       "<!-- 139671532345664 -->\n",
       "<g class=\"node\" id=\"node3\"><title>139671532345664</title>\n",
       "<polygon fill=\"none\" points=\"-7.10543e-15,-146.5 -7.10543e-15,-182.5 125,-182.5 125,-146.5 -7.10543e-15,-146.5\" stroke=\"black\"/>\n",
       "<text font-family=\"Times,serif\" font-size=\"14.00\" text-anchor=\"middle\" x=\"62.5\" y=\"-160.8\">dropout_1: Dropout</text>\n",
       "</g>\n",
       "<!-- 139671532343984&#45;&gt;139671532345664 -->\n",
       "<g class=\"edge\" id=\"edge2\"><title>139671532343984-&gt;139671532345664</title>\n",
       "<path d=\"M62.5,-109.687C62.5,-117.711 62.5,-127.453 62.5,-136.431\" fill=\"none\" stroke=\"black\"/>\n",
       "<polygon fill=\"black\" points=\"59.0001,-136.471 62.5,-146.471 66.0001,-136.471 59.0001,-136.471\" stroke=\"black\"/>\n",
       "</g>\n",
       "<!-- 139670616979160 -->\n",
       "<g class=\"node\" id=\"node4\"><title>139670616979160</title>\n",
       "<polygon fill=\"none\" points=\"12,-219.5 12,-255.5 113,-255.5 113,-219.5 12,-219.5\" stroke=\"black\"/>\n",
       "<text font-family=\"Times,serif\" font-size=\"14.00\" text-anchor=\"middle\" x=\"62.5\" y=\"-233.8\">hidden2: Dense</text>\n",
       "</g>\n",
       "<!-- 139671532345664&#45;&gt;139670616979160 -->\n",
       "<g class=\"edge\" id=\"edge3\"><title>139671532345664-&gt;139670616979160</title>\n",
       "<path d=\"M62.5,-182.687C62.5,-190.711 62.5,-200.453 62.5,-209.431\" fill=\"none\" stroke=\"black\"/>\n",
       "<polygon fill=\"black\" points=\"59.0001,-209.471 62.5,-219.471 66.0001,-209.471 59.0001,-209.471\" stroke=\"black\"/>\n",
       "</g>\n",
       "<!-- 139671532344208 -->\n",
       "<g class=\"node\" id=\"node5\"><title>139671532344208</title>\n",
       "<polygon fill=\"none\" points=\"-7.10543e-15,-292.5 -7.10543e-15,-328.5 125,-328.5 125,-292.5 -7.10543e-15,-292.5\" stroke=\"black\"/>\n",
       "<text font-family=\"Times,serif\" font-size=\"14.00\" text-anchor=\"middle\" x=\"62.5\" y=\"-306.8\">dropout_2: Dropout</text>\n",
       "</g>\n",
       "<!-- 139670616979160&#45;&gt;139671532344208 -->\n",
       "<g class=\"edge\" id=\"edge4\"><title>139670616979160-&gt;139671532344208</title>\n",
       "<path d=\"M62.5,-255.687C62.5,-263.711 62.5,-273.453 62.5,-282.431\" fill=\"none\" stroke=\"black\"/>\n",
       "<polygon fill=\"black\" points=\"59.0001,-282.471 62.5,-292.471 66.0001,-282.471 59.0001,-282.471\" stroke=\"black\"/>\n",
       "</g>\n",
       "<!-- 139670616884448 -->\n",
       "<g class=\"node\" id=\"node6\"><title>139670616884448</title>\n",
       "<polygon fill=\"none\" points=\"16.5,-365.5 16.5,-401.5 108.5,-401.5 108.5,-365.5 16.5,-365.5\" stroke=\"black\"/>\n",
       "<text font-family=\"Times,serif\" font-size=\"14.00\" text-anchor=\"middle\" x=\"62.5\" y=\"-379.8\">output: Dense</text>\n",
       "</g>\n",
       "<!-- 139671532344208&#45;&gt;139670616884448 -->\n",
       "<g class=\"edge\" id=\"edge5\"><title>139671532344208-&gt;139670616884448</title>\n",
       "<path d=\"M62.5,-328.687C62.5,-336.711 62.5,-346.453 62.5,-355.431\" fill=\"none\" stroke=\"black\"/>\n",
       "<polygon fill=\"black\" points=\"59.0001,-355.471 62.5,-365.471 66.0001,-355.471 59.0001,-355.471\" stroke=\"black\"/>\n",
       "</g>\n",
       "</g>\n",
       "</svg>"
      ],
      "text/plain": [
       "<IPython.core.display.SVG object>"
      ]
     },
     "execution_count": 7,
     "metadata": {},
     "output_type": "execute_result"
    }
   ],
   "source": [
    "SVG(model_to_dot(net.model).create_svg())"
   ]
  },
  {
   "cell_type": "code",
   "execution_count": 8,
   "metadata": {},
   "outputs": [
    {
     "name": "stdout",
     "output_type": "stream",
     "text": [
      "Loading mnist dataset...\n",
      "70000 train inputs, 0 test inputs\n",
      "Set 70000 inputs and targets\n",
      "Input data shape: (28, 28), range: (0, 255), type: uint8\n",
      "No targets\n",
      "Inputs rescaled to float32 values in the range 0 - 1\n",
      "Shuffled all 70000 inputs\n",
      "Input data shape: (784,), range: (0.0, 1.0), type: float32\n",
      "Split dataset into:\n",
      "   100 train inputs\n",
      "   69900 test inputs\n",
      "Generated 70000 target vectors from labels\n",
      "100 train inputs, 69900 test inputs\n",
      "Set 70000 inputs and targets\n",
      "Input data shape: (784,), range: (0.0, 1.0), type: float32\n",
      "Target data shape: (10,), range: (0, 0), type: uint8\n"
     ]
    }
   ],
   "source": [
    "net.load_keras_dataset('mnist')\n",
    "net.rescale_inputs((0,255), (0,1), 'float32')\n",
    "net.shuffle_dataset()\n",
    "net.reshape_inputs(784)\n",
    "net.split_dataset(100)\n",
    "net.set_targets_to_categories(10)\n",
    "net.summary_dataset()"
   ]
  },
  {
   "cell_type": "code",
   "execution_count": 9,
   "metadata": {},
   "outputs": [
    {
     "data": {
      "application/javascript": [
       "\n",
       "require(['base/js/namespace'], function(Jupyter) {\n",
       "    Jupyter.notebook.kernel.comm_manager.register_target('conx_svg_control', function(comm, msg) {\n",
       "        comm.on_msg(function(msg) {\n",
       "            var data = msg[\"content\"][\"data\"];\n",
       "            var image = document.getElementById(data[\"id\"]);\n",
       "            if (image) {\n",
       "                image.setAttributeNS(null, \"href\", data[\"href\"]);\n",
       "            }\n",
       "        });\n",
       "    });\n",
       "});\n"
      ],
      "text/plain": [
       "<IPython.core.display.Javascript object>"
      ]
     },
     "metadata": {},
     "output_type": "display_data"
    },
    {
     "data": {
      "image/svg+xml": [
       "\n",
       "        <svg id='MNIST' xmlns='http://www.w3.org/2000/svg' width=\"300\" height=\"645\">\n",
       "    <defs>\n",
       "        <marker id=\"arrow\" markerWidth=\"10\" markerHeight=\"10\" refX=\"9\" refY=\"3\" orient=\"auto\" markerUnits=\"strokeWidth\">\n",
       "          <path d=\"M0,0 L0,6 L9,3 z\" fill=\"blue\" />\n",
       "        </marker>\n",
       "    </defs>\n",
       "<rect x=\"49.0\" y=\"24\" width=\"202\" height=\"22\" style=\"fill:none;stroke:blue;stroke-width:2\"/><image id=\"MNIST_output\" x=\"50.0\" y=\"25\" height=\"20\" width=\"200\" href=\"data:image/gif;base64,R0lGODdhyAAUAIMAAA8PDxQUFBUVFRcXFxgYGBkZGRoaGhsbGx4eHicnJwAAAAAAAAAAAAAAAAAAAAAAACwAAAAAyAAUAEAI/wABCBxIsGDBAQgTKly4EIHDhxAjRjxAsaLFixcLaNzIsWNHAyBDihw5UoDJkyhTpiTAsqXLly8TyJxJs2bNADhz6ty5E4DPn0CDBh1AtKjRo0cRKF3KtGnTA1CjSp06tYDVq1izZjXAtavXr18FiB1LtmxZAmjTql27NoHbt3Djxg1At67du3cB6N3Lt2/fAYADCx48GIHhw4gTJz7AuLHjx48LSJ5MuXJlA5gza968WYDnz6BDhyZAurTp06cTqF7NunXrALBjy549G4Dt27hz5x7Au7fv378RCB9OvHjxA8iTK1++vIDz59CjRzdAvbr169cFaN/OvXt3AuDDi/8fPz6B+fPo06cPwL69+/fvAcifT79+/QH48+vfvx+Bf4AIBA4kWFDgAYQJFS5cWMDhQ4gRIxqgWNHixYsCNG7k2LEjAZAhRY4cmcDkSZQpUwZg2dLly5cAZM6kWbPmAJw5de7cicDnT6BBgx4gWtTo0aMFlC5l2rSpAahRpU6dKsDqVaxZsxLg2tXr168JxI4lW7ZsALRp1a5dC8DtW7hx4w6gW9fu3bsI9O7l27fvAcCBBQ8eXMDwYcSJExtg3Njx48cCJE+mXLkyAcyZNW/enMDzZ9ChQwcgXdr06dMAVK9m3br1ANixZc+ejcD2bdy5cx/g3dv3798FhA8nXrz/uAHkyZUvXy7A+XPo0aMToF7d+vXrCbRv5969ewDw4cWPHw/A/Hn06dMPYN/e/fv3COTPp1+//gH8+fXv31/AP8ACAgcSLCjQAMKEChcuFODwIcSIEQlQrGjx4sUEGjdy7NgxAMiQIkeOBGDyJMqUKQewbOny5UsEMmfSrFnzAM6cOnfuLODzJ9CgQQ0QLWr06FEBSpcybdqUANSoUqdOTWD1KtasWQNw7er161cAYseSLVt2ANq0ateuReD2Ldy4cQ/QrWv37t0Cevfy7dvXAODAggcPFmD4MOLEiQkwbuz48eMEkidTrlw5AObMmjdvBuD5M+jQoQeQLm369GkE/6pXs27d+gDs2LJnzy5g+zbu3LkN8O7t+/dvAcKHEy9enADy5MqXL0/g/Dn06NEDUK9u/fp1ANq3c+/efQD48OLHj0dg/jz69OkPsG/v/v37AvLn069f3wD+/Pr37xfgH6AAgQMJFhRIAGFChQsXJnD4EGLEiAEoVrR48SIAjRs5duw4AGRIkSNHIjB5EmXKlAdYtnT58mUBmTNp1qxpAGdOnTt3CvD5E2jQoASIFjV69GgCpUuZNm0aAGpUqVOnArB6FWvWrAO4dvX69SsCsWPJli17AG1atWvXFnD7Fm7cuAbo1rV7964AvXv59u1LAHBgwYMHJzB8GHHixAEYN/92/PgxAMmTKVeuPABzZs2bNyPw/Bl06NAHSJc2ffp0AdWrWbdubQB2bNmzZwuwfRt37twEePf2/ft3AuHDiRcvHgB5cuXLlwNw/hx69OgDqFe3fv06Au3buXfvfgB8ePHjxxcwfx59+vQG2Ld3//69APnz6devTwB/fv379yfwDzCBwIEECwoMgDChwoULATh8CDFixAEUK1q8eBGBxo0cO3Y8ADKkyJEjC5g8iTJlSgMsW7p8+VKAzJk0a9YkgDOnzp07E/j8CTRo0ABEixo9ehSA0qVMmzYdADWq1KlTEVi9ijVr1gNcu3r9+rWA2LFky5Y1gDat2rVrBbh9CzdbblwCdOvavXs3gd69fPv2DQA4sODBgwEYPow4ceIBjBs7fvwYgeTJlCtXPoA5s+bNmwt4/gw6dGgDpEubPn1agOrVrFu3JgA7tuzZsxPYvo07d+4AvHv7/v07IAA7\"><title>Layer: output (output)\n",
       " shape = 10\n",
       " Keras class = Dense\n",
       " activation = softmax</title></image><text x=\"255.0\" y=\"37.0\" font-family=\"Verdana\" font-size=\"12\">output</text><rect x=\"140.0\" y=\"47\" width=\"20.0\" height=\"48\" style=\"fill:white;stroke:none\"><title>Weights from hidden2 to output\n",
       " output/kernel has shape (512, 10)\n",
       " output/bias has shape (10,)</title></rect><line x1=\"150.0\" y1=\"95\" x2=\"150.0\" y2=\"45\" stroke=\"blue\" stroke-width=\"2\" marker-end=\"url(#arrow)\"><title>Weights from hidden2 to output\n",
       " output/kernel has shape (512, 10)\n",
       " output/bias has shape (10,)</title></line><rect x=\"49.0\" y=\"94\" width=\"202\" height=\"102\" style=\"fill:none;stroke:blue;stroke-width:2\"/><image id=\"MNIST_hidden2\" x=\"50.0\" y=\"95\" height=\"100\" width=\"200\" href=\"data:image/gif;base64,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\"><title>Layer: hidden2 (hidden)\n",
       " shape = 512\n",
       " dropout = 0.2\n",
       " Keras class = Dense\n",
       " activation = relu</title></image><text x=\"255.0\" y=\"147.0\" font-family=\"Verdana\" font-size=\"12\">hidden2</text><rect x=\"140.0\" y=\"197\" width=\"20.0\" height=\"48\" style=\"fill:white;stroke:none\"><title>Weights from hidden1 to hidden2\n",
       " hidden2/kernel has shape (512, 512)\n",
       " hidden2/bias has shape (512,)</title></rect><line x1=\"150.0\" y1=\"245\" x2=\"150.0\" y2=\"195\" stroke=\"blue\" stroke-width=\"2\" marker-end=\"url(#arrow)\"><title>Weights from hidden1 to hidden2\n",
       " hidden2/kernel has shape (512, 512)\n",
       " hidden2/bias has shape (512,)</title></line><rect x=\"49.0\" y=\"244\" width=\"202\" height=\"102\" style=\"fill:none;stroke:blue;stroke-width:2\"/><image id=\"MNIST_hidden1\" x=\"50.0\" y=\"245\" height=\"100\" width=\"200\" href=\"data:image/gif;base64,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\"><title>Layer: hidden1 (hidden)\n",
       " shape = 512\n",
       " dropout = 0.2\n",
       " Keras class = Dense\n",
       " activation = relu</title></image><text x=\"255.0\" y=\"297.0\" font-family=\"Verdana\" font-size=\"12\">hidden1</text><rect x=\"140.0\" y=\"347\" width=\"20.0\" height=\"48\" style=\"fill:white;stroke:none\"><title>Weights from input to hidden1\n",
       " hidden1/kernel has shape (784, 512)\n",
       " hidden1/bias has shape (512,)</title></rect><line x1=\"150.0\" y1=\"395\" x2=\"150.0\" y2=\"345\" stroke=\"blue\" stroke-width=\"2\" marker-end=\"url(#arrow)\"><title>Weights from input to hidden1\n",
       " hidden1/kernel has shape (784, 512)\n",
       " hidden1/bias has shape (512,)</title></line><rect x=\"49.0\" y=\"394\" width=\"202\" height=\"202\" style=\"fill:none;stroke:blue;stroke-width:2\"/><image id=\"MNIST_input\" x=\"50.0\" y=\"395\" height=\"200\" width=\"200\" href=\"data:image/gif;base64,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\"><title>Layer: input (input)\n",
       " shape = 784\n",
       " Keras class = Input</title></image><text x=\"255.0\" y=\"497.0\" font-family=\"Verdana\" font-size=\"12\">input</text></svg>"
      ],
      "text/plain": [
       "<Network name='MNIST'>"
      ]
     },
     "execution_count": 9,
     "metadata": {},
     "output_type": "execute_result"
    }
   ],
   "source": [
    "net"
   ]
  },
  {
   "cell_type": "code",
   "execution_count": 10,
   "metadata": {},
   "outputs": [
    {
     "data": {
      "text/plain": [
       "[0.07563363,\n",
       " 0.12703103,\n",
       " 0.16757663,\n",
       " 0.10911158,\n",
       " 0.083044343,\n",
       " 0.082663372,\n",
       " 0.061418232,\n",
       " 0.096070722,\n",
       " 0.10968651,\n",
       " 0.087763958]"
      ]
     },
     "execution_count": 10,
     "metadata": {},
     "output_type": "execute_result"
    }
   ],
   "source": [
    "net.propagate(net.get_input(10))"
   ]
  },
  {
   "cell_type": "code",
   "execution_count": 13,
   "metadata": {},
   "outputs": [
    {
     "name": "stdout",
     "output_type": "stream",
     "text": [
      "Training...\n",
      "Epoch 1/10\n",
      "100/100 [==============================] - 0s - loss: 0.0913 - acc: 0.0900\n",
      "Epoch 2/10\n",
      "100/100 [==============================] - 0s - loss: 0.0919 - acc: 0.0800\n",
      "Epoch 3/10\n",
      "100/100 [==============================] - 0s - loss: 0.0908 - acc: 0.1100\n",
      "Epoch 4/10\n",
      "100/100 [==============================] - 0s - loss: 0.0911 - acc: 0.0900\n",
      "Epoch 5/10\n",
      "100/100 [==============================] - 0s - loss: 0.0917 - acc: 0.0600\n",
      "Epoch 6/10\n",
      "100/100 [==============================] - 0s - loss: 0.0912 - acc: 0.1100\n",
      "Epoch 7/10\n",
      "100/100 [==============================] - 0s - loss: 0.0915 - acc: 0.0800\n",
      "Epoch 8/10\n",
      "100/100 [==============================] - 0s - loss: 0.0915 - acc: 0.0900\n",
      "Epoch 9/10\n",
      "100/100 [==============================] - 0s - loss: 0.0905 - acc: 0.1000\n",
      "Epoch 10/10\n",
      "100/100 [==============================] - 0s - loss: 0.0916 - acc: 0.1000\n",
      "========================================================================\n",
      "Epoch #   20 | train loss 0.09134 | train acc 0.09000 | validate% 0.00000\n"
     ]
    }
   ],
   "source": [
    "net.train(10)\n",
    "#net.test()"
   ]
  },
  {
   "cell_type": "code",
   "execution_count": 14,
   "metadata": {
    "collapsed": true
   },
   "outputs": [],
   "source": [
    "import time\n",
    "for i in range(10):\n",
    "    net.propagate(net.get_input(i))\n",
    "    time.sleep(1)"
   ]
  },
  {
   "cell_type": "code",
   "execution_count": null,
   "metadata": {
    "collapsed": true
   },
   "outputs": [],
   "source": []
  }
 ],
 "metadata": {
  "kernelspec": {
   "display_name": "Python 3",
   "language": "python",
   "name": "python3"
  },
  "language_info": {
   "codemirror_mode": {
    "name": "ipython",
    "version": 3
   },
   "file_extension": ".py",
   "mimetype": "text/x-python",
   "name": "python",
   "nbconvert_exporter": "python",
   "pygments_lexer": "ipython3",
   "version": "3.5.3"
  }
 },
 "nbformat": 4,
 "nbformat_minor": 2
}
