{
 "cells": [
  {
   "cell_type": "markdown",
   "metadata": {},
   "source": [
    "# Autoencoding"
   ]
  },
  {
   "cell_type": "markdown",
   "metadata": {},
   "source": [
    "## One-hot Encoder"
   ]
  },
  {
   "cell_type": "code",
   "execution_count": 1,
   "metadata": {},
   "outputs": [
    {
     "name": "stderr",
     "output_type": "stream",
     "text": [
      "Using Theano backend.\n"
     ]
    }
   ],
   "source": [
    "from conx import *"
   ]
  },
  {
   "cell_type": "code",
   "execution_count": 2,
   "metadata": {},
   "outputs": [],
   "source": [
    "size = 5"
   ]
  },
  {
   "cell_type": "code",
   "execution_count": 3,
   "metadata": {},
   "outputs": [],
   "source": [
    "net = Network(\"Autoencoder\")\n",
    "net.add(Layer(\"input\", size, minmax=(0,1)))\n",
    "net.add(Layer(\"hidden\", 5, activation=\"relu\", visible=True))\n",
    "net.add(Layer(\"output\", size, activation=\"sigmoid\"))\n",
    "net.config[\"font_family\"] = \"monospace\""
   ]
  },
  {
   "cell_type": "code",
   "execution_count": 4,
   "metadata": {},
   "outputs": [],
   "source": [
    "net.connect()"
   ]
  },
  {
   "cell_type": "code",
   "execution_count": 5,
   "metadata": {},
   "outputs": [],
   "source": [
    "net.compile(error='binary_crossentropy', optimizer=\"adam\")"
   ]
  },
  {
   "cell_type": "code",
   "execution_count": 6,
   "metadata": {},
   "outputs": [
    {
     "data": {
      "application/javascript": [
       "\n",
       "require(['base/js/namespace'], function(Jupyter) {\n",
       "    Jupyter.notebook.kernel.comm_manager.register_target('conx_svg_control', function(comm, msg) {\n",
       "        comm.on_msg(function(msg) {\n",
       "            var data = msg[\"content\"][\"data\"];\n",
       "            var images = document.getElementsByClassName(data[\"class\"]);\n",
       "            for (var i = 0; i < images.length; i++) {\n",
       "                images[i].setAttributeNS(null, \"href\", data[\"href\"]);\n",
       "            }\n",
       "        });\n",
       "    });\n",
       "});\n"
      ],
      "text/plain": [
       "<IPython.core.display.Javascript object>"
      ]
     },
     "metadata": {},
     "output_type": "display_data"
    },
    {
     "data": {
      "image/svg+xml": [
       "<svg id='Autoencoder' xmlns='http://www.w3.org/2000/svg' width=\"350\" height=\"235\" image-rendering=\"pixelated\">\n",
       "    <defs>\n",
       "        <marker id=\"arrow\" markerWidth=\"10\" markerHeight=\"10\" refX=\"9\" refY=\"3\" orient=\"auto\" markerUnits=\"strokeWidth\">\n",
       "          <path d=\"M0,0 L0,6 L9,3 z\" fill=\"black\" />\n",
       "        </marker>\n",
       "    </defs><text x=\"175.0\" y=\"12.5\" font-family=\"monospace\" font-size=\"15\" text-anchor=\"middle\" alignment-baseline=\"central\">Autoencoder</text><rect x=\"74.0\" y=\"29\" width=\"202\" height=\"42\" style=\"fill:none;stroke:black;stroke-width:2\"/><image id=\"Autoencoder_output_1\" class=\"Autoencoder_output\" x=\"75.0\" y=\"30\" height=\"40\" width=\"200\" preserveAspectRatio=\"none\" href=\"data:image/gif;base64,R0lGODdhBQABAIcAAP7+/QAAAAAAAAAAAAAAAAAAAAAAAAAAAAAAAAAAAAAAAAAAAAAAAAAAAAAAAAAAAAAAAAAAAAAAAAAAAAAAAAAAAAAAAAAAAAAAAAAAAAAAAAAAAAAAAAAAAAAAAAAAAAAAAAAAAAAAAAAAAAAAAAAAAAAAAAAAAAAAAAAAAAAAAAAAAAAAAAAAAAAAAAAAAAAAAAAAAAAAAAAAAAAAAAAAAAAAAAAAAAAAAAAAAAAAAAAAAAAAAAAAAAAAAAAAAAAAAAAAAAAAAAAAAAAAAAAAAAAAAAAAAAAAAAAAAAAAAAAAAAAAAAAAAAAAAAAAAAAAAAAAAAAAAAAAAAAAAAAAAAAAAAAAAAAAAAAAAAAAAAAAAAAAAAAAAAAAAAAAAAAAAAAAAAAAAAAAAAAAAAAAAAAAAAAAAAAAAAAAAAAAAAAAAAAAAAAAAAAAAAAAAAAAAAAAAAAAAAAAAAAAAAAAAAAAAAAAAAAAAAAAAAAAAAAAAAAAAAAAAAAAAAAAAAAAAAAAAAAAAAAAAAAAAAAAAAAAAAAAAAAAAAAAAAAAAAAAAAAAAAAAAAAAAAAAAAAAAAAAAAAAAAAAAAAAAAAAAAAAAAAAAAAAAAAAAAAAAAAAAAAAAAAAAAAAAAAAAAAAAAAAAAAAAAAAAAAAAAAAAAAAAAAAAAAAAAAAAAAAAAAAAAAAAAAAAAAAAAAAAAAAAAAAAAAAAAAAAAAAAAAAAAAAAAAAAAAAAAAAAAAAAAAAAAAAAAAAAAAAAAAAAAAAAAAAAAAAAAAAAAAAAAAAAAAAAAAAAAAAAAAAAAAAAAAAAAAAAAAAAAAAAAAAAAAAAAAAAAAAAAAAAAAAAAAAAAAAAAAAAAAAAAAAAAAAAAAAAAAAAAAAAAAAAAAAAAAAAAAAAAAAAAAAAAAAAAAAAAAAAAAAAAAAAAAAAAAAAAAAAAAAAAAAAAAAAAAAAAAAAAAAAAAAAAAAAAAAAAAAAAAAAAAAAAAAAAAAAAAAAAAAAAAAAAAAAAAAAAAAACwAAAAABQABAAAIBgABCBQYEAA7\"><title>Layer: output (output)\n",
       " shape = (5,)\n",
       " Keras class = Dense\n",
       " activation = sigmoid</title></image><text x=\"280.0\" y=\"52.0\" font-family=\"monospace\" font-size=\"12\" text-anchor=\"start\" alignment-baseline=\"central\">output</text><line x1=\"175.0\" y1=\"99\" x2=\"175.0\" y2=\"72\" stroke=\"black\" stroke-width=\"2\" marker-end=\"url(#arrow)\"><title>Weights from hidden to output\n",
       " output/kernel has shape (5, 5)\n",
       " output/bias has shape (5,)</title></line><rect x=\"74.0\" y=\"99\" width=\"202\" height=\"42\" style=\"fill:none;stroke:black;stroke-width:2\"/><image id=\"Autoencoder_hidden_2\" class=\"Autoencoder_hidden\" x=\"75.0\" y=\"100\" height=\"40\" width=\"200\" preserveAspectRatio=\"none\" href=\"data:image/gif;base64,R0lGODdhBQABAIcAAP7+/QAAAAAAAAAAAAAAAAAAAAAAAAAAAAAAAAAAAAAAAAAAAAAAAAAAAAAAAAAAAAAAAAAAAAAAAAAAAAAAAAAAAAAAAAAAAAAAAAAAAAAAAAAAAAAAAAAAAAAAAAAAAAAAAAAAAAAAAAAAAAAAAAAAAAAAAAAAAAAAAAAAAAAAAAAAAAAAAAAAAAAAAAAAAAAAAAAAAAAAAAAAAAAAAAAAAAAAAAAAAAAAAAAAAAAAAAAAAAAAAAAAAAAAAAAAAAAAAAAAAAAAAAAAAAAAAAAAAAAAAAAAAAAAAAAAAAAAAAAAAAAAAAAAAAAAAAAAAAAAAAAAAAAAAAAAAAAAAAAAAAAAAAAAAAAAAAAAAAAAAAAAAAAAAAAAAAAAAAAAAAAAAAAAAAAAAAAAAAAAAAAAAAAAAAAAAAAAAAAAAAAAAAAAAAAAAAAAAAAAAAAAAAAAAAAAAAAAAAAAAAAAAAAAAAAAAAAAAAAAAAAAAAAAAAAAAAAAAAAAAAAAAAAAAAAAAAAAAAAAAAAAAAAAAAAAAAAAAAAAAAAAAAAAAAAAAAAAAAAAAAAAAAAAAAAAAAAAAAAAAAAAAAAAAAAAAAAAAAAAAAAAAAAAAAAAAAAAAAAAAAAAAAAAAAAAAAAAAAAAAAAAAAAAAAAAAAAAAAAAAAAAAAAAAAAAAAAAAAAAAAAAAAAAAAAAAAAAAAAAAAAAAAAAAAAAAAAAAAAAAAAAAAAAAAAAAAAAAAAAAAAAAAAAAAAAAAAAAAAAAAAAAAAAAAAAAAAAAAAAAAAAAAAAAAAAAAAAAAAAAAAAAAAAAAAAAAAAAAAAAAAAAAAAAAAAAAAAAAAAAAAAAAAAAAAAAAAAAAAAAAAAAAAAAAAAAAAAAAAAAAAAAAAAAAAAAAAAAAAAAAAAAAAAAAAAAAAAAAAAAAAAAAAAAAAAAAAAAAAAAAAAAAAAAAAAAAAAAAAAAAAAAAAAAAAAAAAAAAAAAAAAAAAAAAAAAAAAAAAAAAAAAAAAAAAAAAAAAAAAACwAAAAABQABAAAIBgABCBQYEAA7\"><title>Layer: hidden (hidden)\n",
       " shape = (5,)\n",
       " Keras class = Dense\n",
       " activation = relu</title></image><text x=\"280.0\" y=\"122.0\" font-family=\"monospace\" font-size=\"12\" text-anchor=\"start\" alignment-baseline=\"central\">hidden</text><line x1=\"175.0\" y1=\"169\" x2=\"175.0\" y2=\"142\" stroke=\"black\" stroke-width=\"2\" marker-end=\"url(#arrow)\"><title>Weights from input to hidden\n",
       " hidden/kernel has shape (5, 5)\n",
       " hidden/bias has shape (5,)</title></line><rect x=\"74.0\" y=\"169\" width=\"202\" height=\"42\" style=\"fill:none;stroke:black;stroke-width:2\"/><image id=\"Autoencoder_input_3\" class=\"Autoencoder_input\" x=\"75.0\" y=\"170\" height=\"40\" width=\"200\" preserveAspectRatio=\"none\" href=\"data:image/gif;base64,R0lGODdhBQABAIcAAGcAHwAAAAAAAAAAAAAAAAAAAAAAAAAAAAAAAAAAAAAAAAAAAAAAAAAAAAAAAAAAAAAAAAAAAAAAAAAAAAAAAAAAAAAAAAAAAAAAAAAAAAAAAAAAAAAAAAAAAAAAAAAAAAAAAAAAAAAAAAAAAAAAAAAAAAAAAAAAAAAAAAAAAAAAAAAAAAAAAAAAAAAAAAAAAAAAAAAAAAAAAAAAAAAAAAAAAAAAAAAAAAAAAAAAAAAAAAAAAAAAAAAAAAAAAAAAAAAAAAAAAAAAAAAAAAAAAAAAAAAAAAAAAAAAAAAAAAAAAAAAAAAAAAAAAAAAAAAAAAAAAAAAAAAAAAAAAAAAAAAAAAAAAAAAAAAAAAAAAAAAAAAAAAAAAAAAAAAAAAAAAAAAAAAAAAAAAAAAAAAAAAAAAAAAAAAAAAAAAAAAAAAAAAAAAAAAAAAAAAAAAAAAAAAAAAAAAAAAAAAAAAAAAAAAAAAAAAAAAAAAAAAAAAAAAAAAAAAAAAAAAAAAAAAAAAAAAAAAAAAAAAAAAAAAAAAAAAAAAAAAAAAAAAAAAAAAAAAAAAAAAAAAAAAAAAAAAAAAAAAAAAAAAAAAAAAAAAAAAAAAAAAAAAAAAAAAAAAAAAAAAAAAAAAAAAAAAAAAAAAAAAAAAAAAAAAAAAAAAAAAAAAAAAAAAAAAAAAAAAAAAAAAAAAAAAAAAAAAAAAAAAAAAAAAAAAAAAAAAAAAAAAAAAAAAAAAAAAAAAAAAAAAAAAAAAAAAAAAAAAAAAAAAAAAAAAAAAAAAAAAAAAAAAAAAAAAAAAAAAAAAAAAAAAAAAAAAAAAAAAAAAAAAAAAAAAAAAAAAAAAAAAAAAAAAAAAAAAAAAAAAAAAAAAAAAAAAAAAAAAAAAAAAAAAAAAAAAAAAAAAAAAAAAAAAAAAAAAAAAAAAAAAAAAAAAAAAAAAAAAAAAAAAAAAAAAAAAAAAAAAAAAAAAAAAAAAAAAAAAAAAAAAAAAAAAAAAAAAAAAAAAAAAAAAAAAAAAAAAAAAACwAAAAABQABAAAIBgABCBQYEAA7\"><title>Layer: input (input)\n",
       " shape = (5,)\n",
       " Keras class = Input</title></image><text x=\"280.0\" y=\"192.0\" font-family=\"monospace\" font-size=\"12\" text-anchor=\"start\" alignment-baseline=\"central\">input</text></svg>"
      ],
      "text/plain": [
       "<Network name='Autoencoder' (compiled)>"
      ]
     },
     "execution_count": 6,
     "metadata": {},
     "output_type": "execute_result"
    }
   ],
   "source": [
    "net"
   ]
  },
  {
   "cell_type": "code",
   "execution_count": 7,
   "metadata": {},
   "outputs": [],
   "source": [
    "patterns = [one_hot(i, size) for i in range(size)]"
   ]
  },
  {
   "cell_type": "code",
   "execution_count": 8,
   "metadata": {},
   "outputs": [
    {
     "data": {
      "text/plain": [
       "[1.0, 0.0, 0.0, 0.0, 0.0]"
      ]
     },
     "execution_count": 8,
     "metadata": {},
     "output_type": "execute_result"
    }
   ],
   "source": [
    "patterns[0]"
   ]
  },
  {
   "cell_type": "code",
   "execution_count": 9,
   "metadata": {},
   "outputs": [],
   "source": [
    "net.dataset.load([(p,p) for p in patterns])"
   ]
  },
  {
   "cell_type": "code",
   "execution_count": 10,
   "metadata": {},
   "outputs": [
    {
     "data": {
      "application/javascript": [
       "\n",
       "require(['base/js/namespace'], function(Jupyter) {\n",
       "    Jupyter.notebook.kernel.comm_manager.register_target('conx_svg_control', function(comm, msg) {\n",
       "        comm.on_msg(function(msg) {\n",
       "            var data = msg[\"content\"][\"data\"];\n",
       "            var images = document.getElementsByClassName(data[\"class\"]);\n",
       "            for (var i = 0; i < images.length; i++) {\n",
       "                images[i].setAttributeNS(null, \"href\", data[\"href\"]);\n",
       "            }\n",
       "        });\n",
       "    });\n",
       "});\n"
      ],
      "text/plain": [
       "<IPython.core.display.Javascript object>"
      ]
     },
     "metadata": {},
     "output_type": "display_data"
    },
    {
     "data": {
      "image/svg+xml": [
       "<svg id='Autoencoder' xmlns='http://www.w3.org/2000/svg' width=\"350\" height=\"235\" image-rendering=\"pixelated\">\n",
       "    <defs>\n",
       "        <marker id=\"arrow\" markerWidth=\"10\" markerHeight=\"10\" refX=\"9\" refY=\"3\" orient=\"auto\" markerUnits=\"strokeWidth\">\n",
       "          <path d=\"M0,0 L0,6 L9,3 z\" fill=\"black\" />\n",
       "        </marker>\n",
       "    </defs><text x=\"175.0\" y=\"12.5\" font-family=\"monospace\" font-size=\"15\" text-anchor=\"middle\" alignment-baseline=\"central\">Autoencoder</text><rect x=\"74.0\" y=\"29\" width=\"202\" height=\"42\" style=\"fill:none;stroke:black;stroke-width:2\"/><image id=\"Autoencoder_output_4\" class=\"Autoencoder_output\" x=\"75.0\" y=\"30\" height=\"40\" width=\"200\" preserveAspectRatio=\"none\" href=\"data:image/gif;base64,R0lGODdhBQABAIcAAOrq6v3dy/7+/QAAAAAAAAAAAAAAAAAAAAAAAAAAAAAAAAAAAAAAAAAAAAAAAAAAAAAAAAAAAAAAAAAAAAAAAAAAAAAAAAAAAAAAAAAAAAAAAAAAAAAAAAAAAAAAAAAAAAAAAAAAAAAAAAAAAAAAAAAAAAAAAAAAAAAAAAAAAAAAAAAAAAAAAAAAAAAAAAAAAAAAAAAAAAAAAAAAAAAAAAAAAAAAAAAAAAAAAAAAAAAAAAAAAAAAAAAAAAAAAAAAAAAAAAAAAAAAAAAAAAAAAAAAAAAAAAAAAAAAAAAAAAAAAAAAAAAAAAAAAAAAAAAAAAAAAAAAAAAAAAAAAAAAAAAAAAAAAAAAAAAAAAAAAAAAAAAAAAAAAAAAAAAAAAAAAAAAAAAAAAAAAAAAAAAAAAAAAAAAAAAAAAAAAAAAAAAAAAAAAAAAAAAAAAAAAAAAAAAAAAAAAAAAAAAAAAAAAAAAAAAAAAAAAAAAAAAAAAAAAAAAAAAAAAAAAAAAAAAAAAAAAAAAAAAAAAAAAAAAAAAAAAAAAAAAAAAAAAAAAAAAAAAAAAAAAAAAAAAAAAAAAAAAAAAAAAAAAAAAAAAAAAAAAAAAAAAAAAAAAAAAAAAAAAAAAAAAAAAAAAAAAAAAAAAAAAAAAAAAAAAAAAAAAAAAAAAAAAAAAAAAAAAAAAAAAAAAAAAAAAAAAAAAAAAAAAAAAAAAAAAAAAAAAAAAAAAAAAAAAAAAAAAAAAAAAAAAAAAAAAAAAAAAAAAAAAAAAAAAAAAAAAAAAAAAAAAAAAAAAAAAAAAAAAAAAAAAAAAAAAAAAAAAAAAAAAAAAAAAAAAAAAAAAAAAAAAAAAAAAAAAAAAAAAAAAAAAAAAAAAAAAAAAAAAAAAAAAAAAAAAAAAAAAAAAAAAAAAAAAAAAAAAAAAAAAAAAAAAAAAAAAAAAAAAAAAAAAAAAAAAAAAAAAAAAAAAAAAAAAAAAAAAAAAAAAAAAAAAAAAAAAAAAAAAAAAAAAAAAAAAAAAAAAAAAACwAAAAABQABAAAICAABAAgAQEBAADs=\"><title>Layer: output (output)\n",
       " shape = (5,)\n",
       " Keras class = Dense\n",
       " activation = sigmoid</title></image><text x=\"280.0\" y=\"52.0\" font-family=\"monospace\" font-size=\"12\" text-anchor=\"start\" alignment-baseline=\"central\">output</text><line x1=\"175.0\" y1=\"99\" x2=\"175.0\" y2=\"72\" stroke=\"black\" stroke-width=\"2\" marker-end=\"url(#arrow)\"><title>Weights from hidden to output\n",
       " output/kernel has shape (5, 5)\n",
       " output/bias has shape (5,)</title></line><rect x=\"74.0\" y=\"99\" width=\"202\" height=\"42\" style=\"fill:none;stroke:black;stroke-width:2\"/><image id=\"Autoencoder_hidden_5\" class=\"Autoencoder_hidden\" x=\"75.0\" y=\"100\" height=\"40\" width=\"200\" preserveAspectRatio=\"none\" href=\"data:image/gif;base64,R0lGODdhBQABAIcAABoaGmcAH+eIbPvUvv749QAAAAAAAAAAAAAAAAAAAAAAAAAAAAAAAAAAAAAAAAAAAAAAAAAAAAAAAAAAAAAAAAAAAAAAAAAAAAAAAAAAAAAAAAAAAAAAAAAAAAAAAAAAAAAAAAAAAAAAAAAAAAAAAAAAAAAAAAAAAAAAAAAAAAAAAAAAAAAAAAAAAAAAAAAAAAAAAAAAAAAAAAAAAAAAAAAAAAAAAAAAAAAAAAAAAAAAAAAAAAAAAAAAAAAAAAAAAAAAAAAAAAAAAAAAAAAAAAAAAAAAAAAAAAAAAAAAAAAAAAAAAAAAAAAAAAAAAAAAAAAAAAAAAAAAAAAAAAAAAAAAAAAAAAAAAAAAAAAAAAAAAAAAAAAAAAAAAAAAAAAAAAAAAAAAAAAAAAAAAAAAAAAAAAAAAAAAAAAAAAAAAAAAAAAAAAAAAAAAAAAAAAAAAAAAAAAAAAAAAAAAAAAAAAAAAAAAAAAAAAAAAAAAAAAAAAAAAAAAAAAAAAAAAAAAAAAAAAAAAAAAAAAAAAAAAAAAAAAAAAAAAAAAAAAAAAAAAAAAAAAAAAAAAAAAAAAAAAAAAAAAAAAAAAAAAAAAAAAAAAAAAAAAAAAAAAAAAAAAAAAAAAAAAAAAAAAAAAAAAAAAAAAAAAAAAAAAAAAAAAAAAAAAAAAAAAAAAAAAAAAAAAAAAAAAAAAAAAAAAAAAAAAAAAAAAAAAAAAAAAAAAAAAAAAAAAAAAAAAAAAAAAAAAAAAAAAAAAAAAAAAAAAAAAAAAAAAAAAAAAAAAAAAAAAAAAAAAAAAAAAAAAAAAAAAAAAAAAAAAAAAAAAAAAAAAAAAAAAAAAAAAAAAAAAAAAAAAAAAAAAAAAAAAAAAAAAAAAAAAAAAAAAAAAAAAAAAAAAAAAAAAAAAAAAAAAAAAAAAAAAAAAAAAAAAAAAAAAAAAAAAAAAAAAAAAAAAAAAAAAAAAAAAAAAAAAAAAAAAAAAAAAAAAAAAAAAAAAAAAAAAAAAAAAAAAAAAAAAAAAAAACwAAAAABQABAAAICAAJBBggAEBAADs=\"><title>Layer: hidden (hidden)\n",
       " shape = (5,)\n",
       " Keras class = Dense\n",
       " activation = relu</title></image><text x=\"280.0\" y=\"122.0\" font-family=\"monospace\" font-size=\"12\" text-anchor=\"start\" alignment-baseline=\"central\">hidden</text><line x1=\"175.0\" y1=\"169\" x2=\"175.0\" y2=\"142\" stroke=\"black\" stroke-width=\"2\" marker-end=\"url(#arrow)\"><title>Weights from input to hidden\n",
       " hidden/kernel has shape (5, 5)\n",
       " hidden/bias has shape (5,)</title></line><rect x=\"74.0\" y=\"169\" width=\"202\" height=\"42\" style=\"fill:none;stroke:black;stroke-width:2\"/><image id=\"Autoencoder_input_6\" class=\"Autoencoder_input\" x=\"75.0\" y=\"170\" height=\"40\" width=\"200\" preserveAspectRatio=\"none\" href=\"data:image/gif;base64,R0lGODdhBQABAIcAAGcAHxoaGgAAAAAAAAAAAAAAAAAAAAAAAAAAAAAAAAAAAAAAAAAAAAAAAAAAAAAAAAAAAAAAAAAAAAAAAAAAAAAAAAAAAAAAAAAAAAAAAAAAAAAAAAAAAAAAAAAAAAAAAAAAAAAAAAAAAAAAAAAAAAAAAAAAAAAAAAAAAAAAAAAAAAAAAAAAAAAAAAAAAAAAAAAAAAAAAAAAAAAAAAAAAAAAAAAAAAAAAAAAAAAAAAAAAAAAAAAAAAAAAAAAAAAAAAAAAAAAAAAAAAAAAAAAAAAAAAAAAAAAAAAAAAAAAAAAAAAAAAAAAAAAAAAAAAAAAAAAAAAAAAAAAAAAAAAAAAAAAAAAAAAAAAAAAAAAAAAAAAAAAAAAAAAAAAAAAAAAAAAAAAAAAAAAAAAAAAAAAAAAAAAAAAAAAAAAAAAAAAAAAAAAAAAAAAAAAAAAAAAAAAAAAAAAAAAAAAAAAAAAAAAAAAAAAAAAAAAAAAAAAAAAAAAAAAAAAAAAAAAAAAAAAAAAAAAAAAAAAAAAAAAAAAAAAAAAAAAAAAAAAAAAAAAAAAAAAAAAAAAAAAAAAAAAAAAAAAAAAAAAAAAAAAAAAAAAAAAAAAAAAAAAAAAAAAAAAAAAAAAAAAAAAAAAAAAAAAAAAAAAAAAAAAAAAAAAAAAAAAAAAAAAAAAAAAAAAAAAAAAAAAAAAAAAAAAAAAAAAAAAAAAAAAAAAAAAAAAAAAAAAAAAAAAAAAAAAAAAAAAAAAAAAAAAAAAAAAAAAAAAAAAAAAAAAAAAAAAAAAAAAAAAAAAAAAAAAAAAAAAAAAAAAAAAAAAAAAAAAAAAAAAAAAAAAAAAAAAAAAAAAAAAAAAAAAAAAAAAAAAAAAAAAAAAAAAAAAAAAAAAAAAAAAAAAAAAAAAAAAAAAAAAAAAAAAAAAAAAAAAAAAAAAAAAAAAAAAAAAAAAAAAAAAAAAAAAAAAAAAAAAAAAAAAAAAAAAAAAAAAAAAAAAAAAAAAAAAAAAAAAAAAAAAAAAAAAAAAAACwAAAAABQABAAAIBwADABgIICAAOw==\"><title>Layer: input (input)\n",
       " shape = (5,)\n",
       " Keras class = Input</title></image><text x=\"280.0\" y=\"192.0\" font-family=\"monospace\" font-size=\"12\" text-anchor=\"start\" alignment-baseline=\"central\">input</text></svg>"
      ],
      "text/plain": [
       "<Network name='Autoencoder' (compiled)>"
      ]
     },
     "execution_count": 10,
     "metadata": {},
     "output_type": "execute_result"
    }
   ],
   "source": [
    "net"
   ]
  },
  {
   "cell_type": "code",
   "execution_count": 11,
   "metadata": {},
   "outputs": [],
   "source": [
    "import time\n",
    "for i in range(size):\n",
    "    net.propagate(net.dataset.inputs[i])\n",
    "    time.sleep(1)"
   ]
  },
  {
   "cell_type": "code",
   "execution_count": 12,
   "metadata": {},
   "outputs": [
    {
     "name": "stdout",
     "output_type": "stream",
     "text": [
      "Input Summary:\n",
      "   count  : 5 (5 for training, 0 for testing)\n",
      "   shape  : (5,)\n",
      "   range  : (0.0, 1.0)\n",
      "Target Summary:\n",
      "   count  : 5 (5 for training, 0 for testing)\n",
      "   shape  : (5,)\n",
      "   range  : (0.0, 1.0)\n"
     ]
    }
   ],
   "source": [
    "net.dataset.summary()"
   ]
  },
  {
   "cell_type": "code",
   "execution_count": 13,
   "metadata": {},
   "outputs": [
    {
     "name": "stdout",
     "output_type": "stream",
     "text": [
      "Training...\n",
      "Epoch #  200 | train error 0.57405 | train accuracy 0.76000 | validate% 0.00000\n",
      "Epoch #  400 | train error 0.43440 | train accuracy 0.84000 | validate% 0.20000\n",
      "Epoch #  600 | train error 0.32174 | train accuracy 0.96000 | validate% 0.40000\n",
      "Epoch #  800 | train error 0.22783 | train accuracy 0.96000 | validate% 0.80000\n",
      "Epoch # 1000 | train error 0.16288 | train accuracy 0.96000 | validate% 0.80000\n",
      "Epoch # 1200 | train error 0.12444 | train accuracy 0.96000 | validate% 0.80000\n",
      "Epoch # 1400 | train error 0.09543 | train accuracy 1.00000 | validate% 0.80000\n",
      "========================================================================\n",
      "Epoch # 1560 | train error 0.07370 | train accuracy 1.00000 | validate% 1.00000\n"
     ]
    }
   ],
   "source": [
    "net.train(accuracy=1, epochs=10000, report_rate=200, tolerance=0.4)"
   ]
  },
  {
   "cell_type": "code",
   "execution_count": 14,
   "metadata": {},
   "outputs": [
    {
     "data": {
      "text/plain": [
       "[0.9354570508003235,\n",
       " 0.009339133277535439,\n",
       " 0.00015126794460229576,\n",
       " 0.009521950036287308,\n",
       " 0.012968219816684723]"
      ]
     },
     "execution_count": 14,
     "metadata": {},
     "output_type": "execute_result"
    }
   ],
   "source": [
    "net.propagate(net.dataset.inputs[0])"
   ]
  },
  {
   "cell_type": "code",
   "execution_count": 15,
   "metadata": {},
   "outputs": [
    {
     "name": "stdout",
     "output_type": "stream",
     "text": [
      "Testing on training dataset...\n",
      "# | inputs | targets | outputs | result\n",
      "---------------------------------------\n",
      "0 | [1.00,0.00,0.00,0.00,0.00] | [1.00,0.00,0.00,0.00,0.00] | [0.94,0.01,0.00,0.01,0.01] | correct\n",
      "1 | [0.00,1.00,0.00,0.00,0.00] | [0.00,1.00,0.00,0.00,0.00] | [0.01,0.91,0.00,0.04,0.01] | correct\n",
      "2 | [0.00,0.00,1.00,0.00,0.00] | [0.00,0.00,1.00,0.00,0.00] | [0.02,0.02,0.92,0.03,0.03] | correct\n",
      "3 | [0.00,0.00,0.00,1.00,0.00] | [0.00,0.00,0.00,1.00,0.00] | [0.14,0.33,0.13,0.60,0.03] | correct\n",
      "4 | [0.00,0.00,0.00,0.00,1.00] | [0.00,0.00,0.00,0.00,1.00] | [0.05,0.03,0.04,0.00,0.95] | correct\n",
      "Total count: 25\n",
      "Total percentage correct: 0.84\n"
     ]
    }
   ],
   "source": [
    "net.test()"
   ]
  },
  {
   "cell_type": "code",
   "execution_count": 16,
   "metadata": {},
   "outputs": [],
   "source": [
    "for i in range(size):\n",
    "    net.propagate(net.dataset.inputs[i])\n",
    "    time.sleep(1)"
   ]
  },
  {
   "cell_type": "code",
   "execution_count": 17,
   "metadata": {},
   "outputs": [
    {
     "data": {
      "application/javascript": [
       "\n",
       "require(['base/js/namespace'], function(Jupyter) {\n",
       "    Jupyter.notebook.kernel.comm_manager.register_target('conx_svg_control', function(comm, msg) {\n",
       "        comm.on_msg(function(msg) {\n",
       "            var data = msg[\"content\"][\"data\"];\n",
       "            var images = document.getElementsByClassName(data[\"class\"]);\n",
       "            for (var i = 0; i < images.length; i++) {\n",
       "                images[i].setAttributeNS(null, \"href\", data[\"href\"]);\n",
       "            }\n",
       "        });\n",
       "    });\n",
       "});\n"
      ],
      "text/plain": [
       "<IPython.core.display.Javascript object>"
      ]
     },
     "metadata": {},
     "output_type": "display_data"
    },
    {
     "data": {
      "application/vnd.jupyter.widget-view+json": {
       "model_id": "8dbe8c8f9e8041b88eb319c81a8e5998",
       "version_major": 2,
       "version_minor": 0
      },
      "text/html": [
       "<p>Failed to display Jupyter Widget of type <code>Tab</code>.</p>\n",
       "<p>\n",
       "  If you're reading this message in Jupyter Notebook or JupyterLab, it may mean\n",
       "  that the widgets JavaScript is still loading. If this message persists, it\n",
       "  likely means that the widgets JavaScript library is either not installed or\n",
       "  not enabled. See the <a href=\"https://ipywidgets.readthedocs.io/en/stable/user_install.html\">Jupyter\n",
       "  Widgets Documentation</a> for setup instructions.\n",
       "</p>\n",
       "<p>\n",
       "  If you're reading this message in another notebook frontend (for example, a static\n",
       "  rendering on GitHub or <a href=\"https://nbviewer.jupyter.org/\">NBViewer</a>),\n",
       "  it may mean that your frontend doesn't currently support widgets.\n",
       "</p>\n"
      ],
      "text/plain": [
       "Tab(children=(VBox(children=(HTML(value='<p style=\"text-align:center\"><svg id=\\'Autoencoder\\' xmlns=\\'http://www.w3.org/2000/svg\\' width=\"350\" height=\"235\" image-rendering=\"pixelated\">\\n    <defs>\\n        <marker id=\"arrow\" markerWidth=\"10\" markerHeight=\"10\" refX=\"9\" refY=\"3\" orient=\"auto\" markerUnits=\"strokeWidth\">\\n          <path d=\"M0,0 L0,6 L9,3 z\" fill=\"black\" />\\n        </marker>\\n    </defs><text x=\"175.0\" y=\"12.5\" font-family=\"monospace\" font-size=\"15\" text-anchor=\"middle\" alignment-baseline=\"central\">Autoencoder</text><rect x=\"74.0\" y=\"29\" width=\"202\" height=\"42\" style=\"fill:none;stroke:black;stroke-width:2\"/><image id=\"Autoencoder_output_7\" class=\"Autoencoder_output\" x=\"75.0\" y=\"30\" height=\"40\" width=\"200\" preserveAspectRatio=\"none\" href=\"data:image/gif;base64,R0lGODdhBQABAIcAAGoAHzw8PG8CIAAAAAAAAAAAAAAAAAAAAAAAAAAAAAAAAAAAAAAAAAAAAAAAAAAAAAAAAAAAAAAAAAAAAAAAAAAAAAAAAAAAAAAAAAAAAAAAAAAAAAAAAAAAAAAAAAAAAAAAAAAAAAAAAAAAAAAAAAAAAAAAAAAAAAAAAAAAAAAAAAAAAAAAAAAAAAAAAAAAAAAAAAAAAAAAAAAAAAAAAAAAAAAAAAAAAAAAAAAAAAAAAAAAAAAAAAAAAAAAAAAAAAAAAAAAAAAAAAAAAAAAAAAAAAAAAAAAAAAAAAAAAAAAAAAAAAAAAAAAAAAAAAAAAAAAAAAAAAAAAAAAAAAAAAAAAAAAAAAAAAAAAAAAAAAAAAAAAAAAAAAAAAAAAAAAAAAAAAAAAAAAAAAAAAAAAAAAAAAAAAAAAAAAAAAAAAAAAAAAAAAAAAAAAAAAAAAAAAAAAAAAAAAAAAAAAAAAAAAAAAAAAAAAAAAAAAAAAAAAAAAAAAAAAAAAAAAAAAAAAAAAAAAAAAAAAAAAAAAAAAAAAAAAAAAAAAAAAAAAAAAAAAAAAAAAAAAAAAAAAAAAAAAAAAAAAAAAAAAAAAAAAAAAAAAAAAAAAAAAAAAAAAAAAAAAAAAAAAAAAAAAAAAAAAAAAAAAAAAAAAAAAAAAAAAAAAAAAAAAAAAAAAAAAAAAAAAAAAAAAAAAAAAAAAAAAAAAAAAAAAAAAAAAAAAAAAAAAAAAAAAAAAAAAAAAAAAAAAAAAAAAAAAAAAAAAAAAAAAAAAAAAAAAAAAAAAAAAAAAAAAAAAAAAAAAAAAAAAAAAAAAAAAAAAAAAAAAAAAAAAAAAAAAAAAAAAAAAAAAAAAAAAAAAAAAAAAAAAAAAAAAAAAAAAAAAAAAAAAAAAAAAAAAAAAAAAAAAAAAAAAAAAAAAAAAAAAAAAAAAAAAAAAAAAAAAAAAAAAAAAAAAAAAAAAAAAAAAAAAAAAAAAAAAAAAAAAAAAAAAAAAAAAAAAAAAAAAAAAAAAAAAAAAAAAAACwAAAAABQABAAAIBwADABgoICAAOw==\"><title>Layer: output (output)\\n shape = (5,)\\n Keras class = Dense\\n activation = sigmoid</title></image><text x=\"280.0\" y=\"52.0\" font-family=\"monospace\" font-size=\"12\" text-anchor=\"start\" alignment-baseline=\"central\">output</text><line x1=\"175.0\" y1=\"99\" x2=\"175.0\" y2=\"72\" stroke=\"black\" stroke-width=\"2\" marker-end=\"url(#arrow)\"><title>Weights from hidden to output\\n output/kernel has shape (5, 5)\\n output/bias has shape (5,)</title></line><rect x=\"74.0\" y=\"99\" width=\"202\" height=\"42\" style=\"fill:none;stroke:black;stroke-width:2\"/><image id=\"Autoencoder_hidden_8\" class=\"Autoencoder_hidden\" x=\"75.0\" y=\"100\" height=\"40\" width=\"200\" preserveAspectRatio=\"none\" href=\"data:image/gif;base64,R0lGODdhBQABAIcAAGcAHxoaGs7Ozu7u7gAAAAAAAAAAAAAAAAAAAAAAAAAAAAAAAAAAAAAAAAAAAAAAAAAAAAAAAAAAAAAAAAAAAAAAAAAAAAAAAAAAAAAAAAAAAAAAAAAAAAAAAAAAAAAAAAAAAAAAAAAAAAAAAAAAAAAAAAAAAAAAAAAAAAAAAAAAAAAAAAAAAAAAAAAAAAAAAAAAAAAAAAAAAAAAAAAAAAAAAAAAAAAAAAAAAAAAAAAAAAAAAAAAAAAAAAAAAAAAAAAAAAAAAAAAAAAAAAAAAAAAAAAAAAAAAAAAAAAAAAAAAAAAAAAAAAAAAAAAAAAAAAAAAAAAAAAAAAAAAAAAAAAAAAAAAAAAAAAAAAAAAAAAAAAAAAAAAAAAAAAAAAAAAAAAAAAAAAAAAAAAAAAAAAAAAAAAAAAAAAAAAAAAAAAAAAAAAAAAAAAAAAAAAAAAAAAAAAAAAAAAAAAAAAAAAAAAAAAAAAAAAAAAAAAAAAAAAAAAAAAAAAAAAAAAAAAAAAAAAAAAAAAAAAAAAAAAAAAAAAAAAAAAAAAAAAAAAAAAAAAAAAAAAAAAAAAAAAAAAAAAAAAAAAAAAAAAAAAAAAAAAAAAAAAAAAAAAAAAAAAAAAAAAAAAAAAAAAAAAAAAAAAAAAAAAAAAAAAAAAAAAAAAAAAAAAAAAAAAAAAAAAAAAAAAAAAAAAAAAAAAAAAAAAAAAAAAAAAAAAAAAAAAAAAAAAAAAAAAAAAAAAAAAAAAAAAAAAAAAAAAAAAAAAAAAAAAAAAAAAAAAAAAAAAAAAAAAAAAAAAAAAAAAAAAAAAAAAAAAAAAAAAAAAAAAAAAAAAAAAAAAAAAAAAAAAAAAAAAAAAAAAAAAAAAAAAAAAAAAAAAAAAAAAAAAAAAAAAAAAAAAAAAAAAAAAAAAAAAAAAAAAAAAAAAAAAAAAAAAAAAAAAAAAAAAAAAAAAAAAAAAAAAAAAAAAAAAAAAAAAAAAAAAAAAAAAAAAAAAAAAAAAAAAAAAAAAAAAAAAAAAAAAACwAAAAABQABAAAICAAHABAAIEBAADs=\"><title>Layer: hidden (hidden)\\n shape = (5,)\\n Keras class = Dense\\n activation = relu</title></image><text x=\"280.0\" y=\"122.0\" font-family=\"monospace\" font-size=\"12\" text-anchor=\"start\" alignment-baseline=\"central\">hidden</text><line x1=\"175.0\" y1=\"169\" x2=\"175.0\" y2=\"142\" stroke=\"black\" stroke-width=\"2\" marker-end=\"url(#arrow)\"><title>Weights from input to hidden\\n hidden/kernel has shape (5, 5)\\n hidden/bias has shape (5,)</title></line><rect x=\"74.0\" y=\"169\" width=\"202\" height=\"42\" style=\"fill:none;stroke:black;stroke-width:2\"/><image id=\"Autoencoder_input_9\" class=\"Autoencoder_input\" x=\"75.0\" y=\"170\" height=\"40\" width=\"200\" preserveAspectRatio=\"none\" href=\"data:image/gif;base64,R0lGODdhBQABAIcAAGcAHxoaGgAAAAAAAAAAAAAAAAAAAAAAAAAAAAAAAAAAAAAAAAAAAAAAAAAAAAAAAAAAAAAAAAAAAAAAAAAAAAAAAAAAAAAAAAAAAAAAAAAAAAAAAAAAAAAAAAAAAAAAAAAAAAAAAAAAAAAAAAAAAAAAAAAAAAAAAAAAAAAAAAAAAAAAAAAAAAAAAAAAAAAAAAAAAAAAAAAAAAAAAAAAAAAAAAAAAAAAAAAAAAAAAAAAAAAAAAAAAAAAAAAAAAAAAAAAAAAAAAAAAAAAAAAAAAAAAAAAAAAAAAAAAAAAAAAAAAAAAAAAAAAAAAAAAAAAAAAAAAAAAAAAAAAAAAAAAAAAAAAAAAAAAAAAAAAAAAAAAAAAAAAAAAAAAAAAAAAAAAAAAAAAAAAAAAAAAAAAAAAAAAAAAAAAAAAAAAAAAAAAAAAAAAAAAAAAAAAAAAAAAAAAAAAAAAAAAAAAAAAAAAAAAAAAAAAAAAAAAAAAAAAAAAAAAAAAAAAAAAAAAAAAAAAAAAAAAAAAAAAAAAAAAAAAAAAAAAAAAAAAAAAAAAAAAAAAAAAAAAAAAAAAAAAAAAAAAAAAAAAAAAAAAAAAAAAAAAAAAAAAAAAAAAAAAAAAAAAAAAAAAAAAAAAAAAAAAAAAAAAAAAAAAAAAAAAAAAAAAAAAAAAAAAAAAAAAAAAAAAAAAAAAAAAAAAAAAAAAAAAAAAAAAAAAAAAAAAAAAAAAAAAAAAAAAAAAAAAAAAAAAAAAAAAAAAAAAAAAAAAAAAAAAAAAAAAAAAAAAAAAAAAAAAAAAAAAAAAAAAAAAAAAAAAAAAAAAAAAAAAAAAAAAAAAAAAAAAAAAAAAAAAAAAAAAAAAAAAAAAAAAAAAAAAAAAAAAAAAAAAAAAAAAAAAAAAAAAAAAAAAAAAAAAAAAAAAAAAAAAAAAAAAAAAAAAAAAAAAAAAAAAAAAAAAAAAAAAAAAAAAAAAAAAAAAAAAAAAAAAAAAAAAAAAAAAAAAAAAAAAAAAAAAAAAAAAAAAAAACwAAAAABQABAAAIBwADABgIICAAOw==\"><title>Layer: input (input)\\n shape = (5,)\\n Keras class = Input</title></image><text x=\"280.0\" y=\"192.0\" font-family=\"monospace\" font-size=\"12\" text-anchor=\"start\" alignment-baseline=\"central\">input</text></svg></p>', layout=Layout(height='550px', justify_content='center', overflow_x='auto', width='95%')), VBox(children=(HBox(children=(Select(description='Dataset:', index=1, options=('Test', 'Train'), rows=1, value='Train'), Button(icon='refresh', style=ButtonStyle()))), IntSlider(value=0, continuous_update=False, description='Dataset index', layout=Layout(width='95%'), max=4), HBox(children=(Button(icon='fast-backward', layout=Layout(width='100%'), style=ButtonStyle()), Button(icon='backward', layout=Layout(width='100%'), style=ButtonStyle()), Button(description='Train', layout=Layout(width='100%'), style=ButtonStyle()), Button(icon='forward', layout=Layout(width='100%'), style=ButtonStyle()), Button(icon='fast-forward', layout=Layout(width='100%'), style=ButtonStyle())), layout=Layout(height='50px', width='95%'))), layout=Layout(width='95%'))), layout=Layout(height='550px', width='95%')), HTML(value='<iframe src=\"https://conx.readthedocs.io\" width=\"100%\" height=\"550px\"></frame>', layout=Layout(height='550px', width='95%'))), _titles={'0': 'Network', '1': 'Help'})"
      ]
     },
     "metadata": {},
     "output_type": "display_data"
    }
   ],
   "source": [
    "net.dashboard()"
   ]
  },
  {
   "cell_type": "markdown",
   "metadata": {},
   "source": [
    "## MNIST Autoencoding"
   ]
  },
  {
   "cell_type": "code",
   "execution_count": 18,
   "metadata": {},
   "outputs": [],
   "source": [
    "from conx import Network, Layer, FlattenLayer"
   ]
  },
  {
   "cell_type": "code",
   "execution_count": 19,
   "metadata": {},
   "outputs": [],
   "source": [
    "net = Network(\"MNIST-Autoencoder\")"
   ]
  },
  {
   "cell_type": "code",
   "execution_count": 20,
   "metadata": {},
   "outputs": [],
   "source": [
    "net.add(Layer(\"input\", (28,28,1)))\n",
    "net.add(FlattenLayer(\"flatten\"))\n",
    "net.add(Layer(\"hidden1\", 25, activation=\"relu\"))\n",
    "net.add(Layer(\"hidden2\", 25, activation=\"relu\"))\n",
    "net.add(Layer(\"hidden3\", 25, activation=\"relu\"))\n",
    "net.add(Layer(\"output\", (28,28,1), activation=\"sigmoid\"))"
   ]
  },
  {
   "cell_type": "code",
   "execution_count": 21,
   "metadata": {},
   "outputs": [
    {
     "data": {
      "application/javascript": [
       "\n",
       "require(['base/js/namespace'], function(Jupyter) {\n",
       "    Jupyter.notebook.kernel.comm_manager.register_target('conx_svg_control', function(comm, msg) {\n",
       "        comm.on_msg(function(msg) {\n",
       "            var data = msg[\"content\"][\"data\"];\n",
       "            var images = document.getElementsByClassName(data[\"class\"]);\n",
       "            for (var i = 0; i < images.length; i++) {\n",
       "                images[i].setAttributeNS(null, \"href\", data[\"href\"]);\n",
       "            }\n",
       "        });\n",
       "    });\n",
       "});\n"
      ],
      "text/plain": [
       "<IPython.core.display.Javascript object>"
      ]
     },
     "metadata": {},
     "output_type": "display_data"
    },
    {
     "data": {
      "image/svg+xml": [
       "<svg id='MNIST-Autoencoder' xmlns='http://www.w3.org/2000/svg' width=\"350\" height=\"705\" image-rendering=\"pixelated\">\n",
       "    <defs>\n",
       "        <marker id=\"arrow\" markerWidth=\"10\" markerHeight=\"10\" refX=\"9\" refY=\"3\" orient=\"auto\" markerUnits=\"strokeWidth\">\n",
       "          <path d=\"M0,0 L0,6 L9,3 z\" fill=\"black\" />\n",
       "        </marker>\n",
       "    </defs><text x=\"175.0\" y=\"12.5\" font-family=\"monospace\" font-size=\"15\" text-anchor=\"middle\" alignment-baseline=\"central\">MNIST-Autoencoder</text><rect x=\"74.0\" y=\"29\" width=\"202\" height=\"202\" style=\"fill:none;stroke:black;stroke-width:2\"/><image id=\"MNIST-Autoencoder_output_1\" class=\"MNIST-Autoencoder_output\" x=\"75.0\" y=\"30\" height=\"200\" width=\"200\" preserveAspectRatio=\"none\" href=\"data:image/gif;base64,R0lGODdhHAAcAIcAAP7+/QAAAAAAAAAAAAAAAAAAAAAAAAAAAAAAAAAAAAAAAAAAAAAAAAAAAAAAAAAAAAAAAAAAAAAAAAAAAAAAAAAAAAAAAAAAAAAAAAAAAAAAAAAAAAAAAAAAAAAAAAAAAAAAAAAAAAAAAAAAAAAAAAAAAAAAAAAAAAAAAAAAAAAAAAAAAAAAAAAAAAAAAAAAAAAAAAAAAAAAAAAAAAAAAAAAAAAAAAAAAAAAAAAAAAAAAAAAAAAAAAAAAAAAAAAAAAAAAAAAAAAAAAAAAAAAAAAAAAAAAAAAAAAAAAAAAAAAAAAAAAAAAAAAAAAAAAAAAAAAAAAAAAAAAAAAAAAAAAAAAAAAAAAAAAAAAAAAAAAAAAAAAAAAAAAAAAAAAAAAAAAAAAAAAAAAAAAAAAAAAAAAAAAAAAAAAAAAAAAAAAAAAAAAAAAAAAAAAAAAAAAAAAAAAAAAAAAAAAAAAAAAAAAAAAAAAAAAAAAAAAAAAAAAAAAAAAAAAAAAAAAAAAAAAAAAAAAAAAAAAAAAAAAAAAAAAAAAAAAAAAAAAAAAAAAAAAAAAAAAAAAAAAAAAAAAAAAAAAAAAAAAAAAAAAAAAAAAAAAAAAAAAAAAAAAAAAAAAAAAAAAAAAAAAAAAAAAAAAAAAAAAAAAAAAAAAAAAAAAAAAAAAAAAAAAAAAAAAAAAAAAAAAAAAAAAAAAAAAAAAAAAAAAAAAAAAAAAAAAAAAAAAAAAAAAAAAAAAAAAAAAAAAAAAAAAAAAAAAAAAAAAAAAAAAAAAAAAAAAAAAAAAAAAAAAAAAAAAAAAAAAAAAAAAAAAAAAAAAAAAAAAAAAAAAAAAAAAAAAAAAAAAAAAAAAAAAAAAAAAAAAAAAAAAAAAAAAAAAAAAAAAAAAAAAAAAAAAAAAAAAAAAAAAAAAAAAAAAAAAAAAAAAAAAAAAAAAAAAAAAAAAAAAAAAAAAAAAAAAAAAAAAAAAAAAAAAAAAAAAAAAAAAAAAAAAAAAAAAAAAAAAAAAAAAAAAAAAAAAAACwAAAAAHAAcAEAIMAABCBxIsKDBgwgTKlzIsKHDhxAjSpxIsaLFixgzatzIsaPHjyBDihxJsqTJkwQDAgA7\"><title>Layer: output (output)\n",
       " shape = (28, 28, 1)\n",
       " Keras class = Dense\n",
       " activation = sigmoid</title></image><text x=\"280.0\" y=\"132.0\" font-family=\"monospace\" font-size=\"12\" text-anchor=\"start\" alignment-baseline=\"central\">output</text><line x1=\"175.0\" y1=\"259\" x2=\"175.0\" y2=\"232\" stroke=\"black\" stroke-width=\"2\" marker-end=\"url(#arrow)\"><title>Weights from hidden3 to output\n",
       " output/kernel has shape (25, 784)\n",
       " output/bias has shape (784,)</title></line><rect x=\"74.0\" y=\"259\" width=\"202\" height=\"27\" style=\"fill:none;stroke:black;stroke-width:2\"/><image id=\"MNIST-Autoencoder_hidden3_2\" class=\"MNIST-Autoencoder_hidden3\" x=\"75.0\" y=\"260\" height=\"25\" width=\"200\" preserveAspectRatio=\"none\" href=\"data:image/gif;base64,R0lGODdhGQABAIcAAP7+/QAAAAAAAAAAAAAAAAAAAAAAAAAAAAAAAAAAAAAAAAAAAAAAAAAAAAAAAAAAAAAAAAAAAAAAAAAAAAAAAAAAAAAAAAAAAAAAAAAAAAAAAAAAAAAAAAAAAAAAAAAAAAAAAAAAAAAAAAAAAAAAAAAAAAAAAAAAAAAAAAAAAAAAAAAAAAAAAAAAAAAAAAAAAAAAAAAAAAAAAAAAAAAAAAAAAAAAAAAAAAAAAAAAAAAAAAAAAAAAAAAAAAAAAAAAAAAAAAAAAAAAAAAAAAAAAAAAAAAAAAAAAAAAAAAAAAAAAAAAAAAAAAAAAAAAAAAAAAAAAAAAAAAAAAAAAAAAAAAAAAAAAAAAAAAAAAAAAAAAAAAAAAAAAAAAAAAAAAAAAAAAAAAAAAAAAAAAAAAAAAAAAAAAAAAAAAAAAAAAAAAAAAAAAAAAAAAAAAAAAAAAAAAAAAAAAAAAAAAAAAAAAAAAAAAAAAAAAAAAAAAAAAAAAAAAAAAAAAAAAAAAAAAAAAAAAAAAAAAAAAAAAAAAAAAAAAAAAAAAAAAAAAAAAAAAAAAAAAAAAAAAAAAAAAAAAAAAAAAAAAAAAAAAAAAAAAAAAAAAAAAAAAAAAAAAAAAAAAAAAAAAAAAAAAAAAAAAAAAAAAAAAAAAAAAAAAAAAAAAAAAAAAAAAAAAAAAAAAAAAAAAAAAAAAAAAAAAAAAAAAAAAAAAAAAAAAAAAAAAAAAAAAAAAAAAAAAAAAAAAAAAAAAAAAAAAAAAAAAAAAAAAAAAAAAAAAAAAAAAAAAAAAAAAAAAAAAAAAAAAAAAAAAAAAAAAAAAAAAAAAAAAAAAAAAAAAAAAAAAAAAAAAAAAAAAAAAAAAAAAAAAAAAAAAAAAAAAAAAAAAAAAAAAAAAAAAAAAAAAAAAAAAAAAAAAAAAAAAAAAAAAAAAAAAAAAAAAAAAAAAAAAAAAAAAAAAAAAAAAAAAAAAAAAAAAAAAAAAAAAAAAAAAAAAAAAAAAAAAAAAAAAAAAAAAAAAAAAAAAACwAAAAAGQABAAAICwABCBxIsKBBggEBADs=\"><title>Layer: hidden3 (hidden)\n",
       " shape = (25,)\n",
       " Keras class = Dense\n",
       " activation = relu</title></image><text x=\"280.0\" y=\"274.5\" font-family=\"monospace\" font-size=\"12\" text-anchor=\"start\" alignment-baseline=\"central\">hidden3</text><line x1=\"175.0\" y1=\"314\" x2=\"175.0\" y2=\"287\" stroke=\"black\" stroke-width=\"2\" marker-end=\"url(#arrow)\"><title>Weights from hidden2 to hidden3\n",
       " hidden3/kernel has shape (25, 25)\n",
       " hidden3/bias has shape (25,)</title></line><rect x=\"74.0\" y=\"314\" width=\"202\" height=\"27\" style=\"fill:none;stroke:black;stroke-width:2\"/><image id=\"MNIST-Autoencoder_hidden2_3\" class=\"MNIST-Autoencoder_hidden2\" x=\"75.0\" y=\"315\" height=\"25\" width=\"200\" preserveAspectRatio=\"none\" href=\"data:image/gif;base64,R0lGODdhGQABAIcAAP7+/QAAAAAAAAAAAAAAAAAAAAAAAAAAAAAAAAAAAAAAAAAAAAAAAAAAAAAAAAAAAAAAAAAAAAAAAAAAAAAAAAAAAAAAAAAAAAAAAAAAAAAAAAAAAAAAAAAAAAAAAAAAAAAAAAAAAAAAAAAAAAAAAAAAAAAAAAAAAAAAAAAAAAAAAAAAAAAAAAAAAAAAAAAAAAAAAAAAAAAAAAAAAAAAAAAAAAAAAAAAAAAAAAAAAAAAAAAAAAAAAAAAAAAAAAAAAAAAAAAAAAAAAAAAAAAAAAAAAAAAAAAAAAAAAAAAAAAAAAAAAAAAAAAAAAAAAAAAAAAAAAAAAAAAAAAAAAAAAAAAAAAAAAAAAAAAAAAAAAAAAAAAAAAAAAAAAAAAAAAAAAAAAAAAAAAAAAAAAAAAAAAAAAAAAAAAAAAAAAAAAAAAAAAAAAAAAAAAAAAAAAAAAAAAAAAAAAAAAAAAAAAAAAAAAAAAAAAAAAAAAAAAAAAAAAAAAAAAAAAAAAAAAAAAAAAAAAAAAAAAAAAAAAAAAAAAAAAAAAAAAAAAAAAAAAAAAAAAAAAAAAAAAAAAAAAAAAAAAAAAAAAAAAAAAAAAAAAAAAAAAAAAAAAAAAAAAAAAAAAAAAAAAAAAAAAAAAAAAAAAAAAAAAAAAAAAAAAAAAAAAAAAAAAAAAAAAAAAAAAAAAAAAAAAAAAAAAAAAAAAAAAAAAAAAAAAAAAAAAAAAAAAAAAAAAAAAAAAAAAAAAAAAAAAAAAAAAAAAAAAAAAAAAAAAAAAAAAAAAAAAAAAAAAAAAAAAAAAAAAAAAAAAAAAAAAAAAAAAAAAAAAAAAAAAAAAAAAAAAAAAAAAAAAAAAAAAAAAAAAAAAAAAAAAAAAAAAAAAAAAAAAAAAAAAAAAAAAAAAAAAAAAAAAAAAAAAAAAAAAAAAAAAAAAAAAAAAAAAAAAAAAAAAAAAAAAAAAAAAAAAAAAAAAAAAAAAAAAAAAAAAAAAAAAAAAAAAAAAAAAAAAAAAAAAAAAAAAAAAAAACwAAAAAGQABAAAICwABCBxIsKBBggEBADs=\"><title>Layer: hidden2 (hidden)\n",
       " shape = (25,)\n",
       " Keras class = Dense\n",
       " activation = relu</title></image><text x=\"280.0\" y=\"329.5\" font-family=\"monospace\" font-size=\"12\" text-anchor=\"start\" alignment-baseline=\"central\">hidden2</text><line x1=\"175.0\" y1=\"369\" x2=\"175.0\" y2=\"342\" stroke=\"black\" stroke-width=\"2\" marker-end=\"url(#arrow)\"><title>Weights from hidden1 to hidden2\n",
       " hidden2/kernel has shape (25, 25)\n",
       " hidden2/bias has shape (25,)</title></line><rect x=\"74.0\" y=\"369\" width=\"202\" height=\"27\" style=\"fill:none;stroke:black;stroke-width:2\"/><image id=\"MNIST-Autoencoder_hidden1_4\" class=\"MNIST-Autoencoder_hidden1\" x=\"75.0\" y=\"370\" height=\"25\" width=\"200\" preserveAspectRatio=\"none\" href=\"data:image/gif;base64,R0lGODdhGQABAIcAAP7+/QAAAAAAAAAAAAAAAAAAAAAAAAAAAAAAAAAAAAAAAAAAAAAAAAAAAAAAAAAAAAAAAAAAAAAAAAAAAAAAAAAAAAAAAAAAAAAAAAAAAAAAAAAAAAAAAAAAAAAAAAAAAAAAAAAAAAAAAAAAAAAAAAAAAAAAAAAAAAAAAAAAAAAAAAAAAAAAAAAAAAAAAAAAAAAAAAAAAAAAAAAAAAAAAAAAAAAAAAAAAAAAAAAAAAAAAAAAAAAAAAAAAAAAAAAAAAAAAAAAAAAAAAAAAAAAAAAAAAAAAAAAAAAAAAAAAAAAAAAAAAAAAAAAAAAAAAAAAAAAAAAAAAAAAAAAAAAAAAAAAAAAAAAAAAAAAAAAAAAAAAAAAAAAAAAAAAAAAAAAAAAAAAAAAAAAAAAAAAAAAAAAAAAAAAAAAAAAAAAAAAAAAAAAAAAAAAAAAAAAAAAAAAAAAAAAAAAAAAAAAAAAAAAAAAAAAAAAAAAAAAAAAAAAAAAAAAAAAAAAAAAAAAAAAAAAAAAAAAAAAAAAAAAAAAAAAAAAAAAAAAAAAAAAAAAAAAAAAAAAAAAAAAAAAAAAAAAAAAAAAAAAAAAAAAAAAAAAAAAAAAAAAAAAAAAAAAAAAAAAAAAAAAAAAAAAAAAAAAAAAAAAAAAAAAAAAAAAAAAAAAAAAAAAAAAAAAAAAAAAAAAAAAAAAAAAAAAAAAAAAAAAAAAAAAAAAAAAAAAAAAAAAAAAAAAAAAAAAAAAAAAAAAAAAAAAAAAAAAAAAAAAAAAAAAAAAAAAAAAAAAAAAAAAAAAAAAAAAAAAAAAAAAAAAAAAAAAAAAAAAAAAAAAAAAAAAAAAAAAAAAAAAAAAAAAAAAAAAAAAAAAAAAAAAAAAAAAAAAAAAAAAAAAAAAAAAAAAAAAAAAAAAAAAAAAAAAAAAAAAAAAAAAAAAAAAAAAAAAAAAAAAAAAAAAAAAAAAAAAAAAAAAAAAAAAAAAAAAAAAAAAAAAAAAAAAAAAAAAAAAAAAAAAAAAAAAAAAAAAAACwAAAAAGQABAAAICwABCBxIsKBBggEBADs=\"><title>Layer: hidden1 (hidden)\n",
       " shape = (25,)\n",
       " Keras class = Dense\n",
       " activation = relu</title></image><text x=\"280.0\" y=\"384.5\" font-family=\"monospace\" font-size=\"12\" text-anchor=\"start\" alignment-baseline=\"central\">hidden1</text><line x1=\"175.0\" y1=\"424\" x2=\"175.0\" y2=\"397\" stroke=\"black\" stroke-width=\"2\" marker-end=\"url(#arrow)\"><title>Weights from flatten to hidden1\n",
       " hidden1/kernel has shape (784, 25)\n",
       " hidden1/bias has shape (25,)</title></line><rect x=\"74.0\" y=\"424\" width=\"202\" height=\"27\" style=\"fill:none;stroke:black;stroke-width:2\"/><image id=\"MNIST-Autoencoder_flatten_5\" class=\"MNIST-Autoencoder_flatten\" x=\"75.0\" y=\"425\" height=\"25\" width=\"200\" preserveAspectRatio=\"none\" href=\"data:image/gif;base64,R0lGODdhEAMBAIcAAP7+/QAAAAAAAAAAAAAAAAAAAAAAAAAAAAAAAAAAAAAAAAAAAAAAAAAAAAAAAAAAAAAAAAAAAAAAAAAAAAAAAAAAAAAAAAAAAAAAAAAAAAAAAAAAAAAAAAAAAAAAAAAAAAAAAAAAAAAAAAAAAAAAAAAAAAAAAAAAAAAAAAAAAAAAAAAAAAAAAAAAAAAAAAAAAAAAAAAAAAAAAAAAAAAAAAAAAAAAAAAAAAAAAAAAAAAAAAAAAAAAAAAAAAAAAAAAAAAAAAAAAAAAAAAAAAAAAAAAAAAAAAAAAAAAAAAAAAAAAAAAAAAAAAAAAAAAAAAAAAAAAAAAAAAAAAAAAAAAAAAAAAAAAAAAAAAAAAAAAAAAAAAAAAAAAAAAAAAAAAAAAAAAAAAAAAAAAAAAAAAAAAAAAAAAAAAAAAAAAAAAAAAAAAAAAAAAAAAAAAAAAAAAAAAAAAAAAAAAAAAAAAAAAAAAAAAAAAAAAAAAAAAAAAAAAAAAAAAAAAAAAAAAAAAAAAAAAAAAAAAAAAAAAAAAAAAAAAAAAAAAAAAAAAAAAAAAAAAAAAAAAAAAAAAAAAAAAAAAAAAAAAAAAAAAAAAAAAAAAAAAAAAAAAAAAAAAAAAAAAAAAAAAAAAAAAAAAAAAAAAAAAAAAAAAAAAAAAAAAAAAAAAAAAAAAAAAAAAAAAAAAAAAAAAAAAAAAAAAAAAAAAAAAAAAAAAAAAAAAAAAAAAAAAAAAAAAAAAAAAAAAAAAAAAAAAAAAAAAAAAAAAAAAAAAAAAAAAAAAAAAAAAAAAAAAAAAAAAAAAAAAAAAAAAAAAAAAAAAAAAAAAAAAAAAAAAAAAAAAAAAAAAAAAAAAAAAAAAAAAAAAAAAAAAAAAAAAAAAAAAAAAAAAAAAAAAAAAAAAAAAAAAAAAAAAAAAAAAAAAAAAAAAAAAAAAAAAAAAAAAAAAAAAAAAAAAAAAAAAAAAAAAAAAAAAAAAAAAAAAAAAAAAAAAAAAAAAAAAAAAAAAAAAAAAAAAAAAAAAAAAACwAAAAAEAMBAAAIMAABCBxIsKDBgwgTKlzIsKHDhxAjSpxIsaLFixgzatzIsaPHjyBDihxJsqTJkwQDAgA7\"><title>Layer: flatten (hidden)\n",
       " Keras class = Flatten</title></image><text x=\"280.0\" y=\"439.5\" font-family=\"monospace\" font-size=\"12\" text-anchor=\"start\" alignment-baseline=\"central\">flatten</text><line x1=\"175.0\" y1=\"479\" x2=\"175.0\" y2=\"452\" stroke=\"black\" stroke-width=\"2\" marker-end=\"url(#arrow)\"><title>Weights from input to flatten</title></line><rect x=\"74.0\" y=\"479\" width=\"202\" height=\"202\" style=\"fill:none;stroke:black;stroke-width:2\"/><image id=\"MNIST-Autoencoder_input_6\" class=\"MNIST-Autoencoder_input\" x=\"75.0\" y=\"480\" height=\"200\" width=\"200\" preserveAspectRatio=\"none\" href=\"data:image/gif;base64,R0lGODdhHAAcAIcAAP7+/QAAAAAAAAAAAAAAAAAAAAAAAAAAAAAAAAAAAAAAAAAAAAAAAAAAAAAAAAAAAAAAAAAAAAAAAAAAAAAAAAAAAAAAAAAAAAAAAAAAAAAAAAAAAAAAAAAAAAAAAAAAAAAAAAAAAAAAAAAAAAAAAAAAAAAAAAAAAAAAAAAAAAAAAAAAAAAAAAAAAAAAAAAAAAAAAAAAAAAAAAAAAAAAAAAAAAAAAAAAAAAAAAAAAAAAAAAAAAAAAAAAAAAAAAAAAAAAAAAAAAAAAAAAAAAAAAAAAAAAAAAAAAAAAAAAAAAAAAAAAAAAAAAAAAAAAAAAAAAAAAAAAAAAAAAAAAAAAAAAAAAAAAAAAAAAAAAAAAAAAAAAAAAAAAAAAAAAAAAAAAAAAAAAAAAAAAAAAAAAAAAAAAAAAAAAAAAAAAAAAAAAAAAAAAAAAAAAAAAAAAAAAAAAAAAAAAAAAAAAAAAAAAAAAAAAAAAAAAAAAAAAAAAAAAAAAAAAAAAAAAAAAAAAAAAAAAAAAAAAAAAAAAAAAAAAAAAAAAAAAAAAAAAAAAAAAAAAAAAAAAAAAAAAAAAAAAAAAAAAAAAAAAAAAAAAAAAAAAAAAAAAAAAAAAAAAAAAAAAAAAAAAAAAAAAAAAAAAAAAAAAAAAAAAAAAAAAAAAAAAAAAAAAAAAAAAAAAAAAAAAAAAAAAAAAAAAAAAAAAAAAAAAAAAAAAAAAAAAAAAAAAAAAAAAAAAAAAAAAAAAAAAAAAAAAAAAAAAAAAAAAAAAAAAAAAAAAAAAAAAAAAAAAAAAAAAAAAAAAAAAAAAAAAAAAAAAAAAAAAAAAAAAAAAAAAAAAAAAAAAAAAAAAAAAAAAAAAAAAAAAAAAAAAAAAAAAAAAAAAAAAAAAAAAAAAAAAAAAAAAAAAAAAAAAAAAAAAAAAAAAAAAAAAAAAAAAAAAAAAAAAAAAAAAAAAAAAAAAAAAAAAAAAAAAAAAAAAAAAAAAAAAAAAAAAAAAAAAAAAAAAAAAAAAAAAAAAAAAAAACwAAAAAHAAcAEAIMAABCBxIsKDBgwgTKlzIsKHDhxAjSpxIsaLFixgzatzIsaPHjyBDihxJsqTJkwQDAgA7\"><title>Layer: input (input)\n",
       " shape = (28, 28, 1)\n",
       " Keras class = Input</title></image><text x=\"280.0\" y=\"582.0\" font-family=\"monospace\" font-size=\"12\" text-anchor=\"start\" alignment-baseline=\"central\">input</text><text x=\"280.0\" y=\"485\" font-family=\"monospace\" font-size=\"12\" text-anchor=\"start\" alignment-baseline=\"central\">1</text><text x=\"63.0\" y=\"675\" font-family=\"monospace\" font-size=\"12\" text-anchor=\"start\" alignment-baseline=\"central\">0</text></svg>"
      ],
      "text/plain": [
       "<Network name='MNIST-Autoencoder' (compiled)>"
      ]
     },
     "execution_count": 21,
     "metadata": {},
     "output_type": "execute_result"
    }
   ],
   "source": [
    "net.connect()\n",
    "net.compile(error=\"binary_crossentropy\", optimizer=\"adam\")\n",
    "net"
   ]
  },
  {
   "cell_type": "code",
   "execution_count": 22,
   "metadata": {},
   "outputs": [
    {
     "name": "stdout",
     "output_type": "stream",
     "text": [
      "Input Summary:\n",
      "   count  : 70000 (70000 for training, 0 for testing)\n",
      "   shape  : (28, 28, 1)\n",
      "   range  : (0.0, 1.0)\n",
      "Target Summary:\n",
      "   count  : 70000 (70000 for training, 0 for testing)\n",
      "   shape  : (784,)\n",
      "   range  : (0.0, 1.0)\n"
     ]
    }
   ],
   "source": [
    "net.dataset.get('mnist')\n",
    "net.dataset.set_targets_from_inputs()\n",
    "net.dataset.targets.reshape(0, (28 * 28))\n",
    "net.dataset.summary()"
   ]
  },
  {
   "cell_type": "code",
   "execution_count": 23,
   "metadata": {},
   "outputs": [
    {
     "data": {
      "application/javascript": [
       "\n",
       "require(['base/js/namespace'], function(Jupyter) {\n",
       "    Jupyter.notebook.kernel.comm_manager.register_target('conx_svg_control', function(comm, msg) {\n",
       "        comm.on_msg(function(msg) {\n",
       "            var data = msg[\"content\"][\"data\"];\n",
       "            var images = document.getElementsByClassName(data[\"class\"]);\n",
       "            for (var i = 0; i < images.length; i++) {\n",
       "                images[i].setAttributeNS(null, \"href\", data[\"href\"]);\n",
       "            }\n",
       "        });\n",
       "    });\n",
       "});\n"
      ],
      "text/plain": [
       "<IPython.core.display.Javascript object>"
      ]
     },
     "metadata": {},
     "output_type": "display_data"
    },
    {
     "data": {
      "application/vnd.jupyter.widget-view+json": {
       "model_id": "2cc6eb071ea546f8ba07dc16cfa97b5b",
       "version_major": 2,
       "version_minor": 0
      },
      "text/html": [
       "<p>Failed to display Jupyter Widget of type <code>Tab</code>.</p>\n",
       "<p>\n",
       "  If you're reading this message in Jupyter Notebook or JupyterLab, it may mean\n",
       "  that the widgets JavaScript is still loading. If this message persists, it\n",
       "  likely means that the widgets JavaScript library is either not installed or\n",
       "  not enabled. See the <a href=\"https://ipywidgets.readthedocs.io/en/stable/user_install.html\">Jupyter\n",
       "  Widgets Documentation</a> for setup instructions.\n",
       "</p>\n",
       "<p>\n",
       "  If you're reading this message in another notebook frontend (for example, a static\n",
       "  rendering on GitHub or <a href=\"https://nbviewer.jupyter.org/\">NBViewer</a>),\n",
       "  it may mean that your frontend doesn't currently support widgets.\n",
       "</p>\n"
      ],
      "text/plain": [
       "Tab(children=(VBox(children=(HTML(value='<p style=\"text-align:center\"><svg id=\\'MNIST-Autoencoder\\' xmlns=\\'http://www.w3.org/2000/svg\\' width=\"350\" height=\"705\" image-rendering=\"pixelated\">\\n    <defs>\\n        <marker id=\"arrow\" markerWidth=\"10\" markerHeight=\"10\" refX=\"9\" refY=\"3\" orient=\"auto\" markerUnits=\"strokeWidth\">\\n          <path d=\"M0,0 L0,6 L9,3 z\" fill=\"black\" />\\n        </marker>\\n    </defs><text x=\"175.0\" y=\"12.5\" font-family=\"monospace\" font-size=\"15\" text-anchor=\"middle\" alignment-baseline=\"central\">MNIST-Autoencoder</text><rect x=\"74.0\" y=\"29\" width=\"202\" height=\"202\" style=\"fill:none;stroke:black;stroke-width:2\"/><image id=\"MNIST-Autoencoder_output_7\" class=\"MNIST-Autoencoder_output\" x=\"75.0\" y=\"30\" height=\"200\" width=\"200\" preserveAspectRatio=\"none\" href=\"data:image/gif;base64,R0lGODdhHAAcAIcAAP38+wAAAAAAAAAAAAAAAAAAAAAAAAAAAAAAAAAAAAAAAAAAAAAAAAAAAAAAAAAAAAAAAAAAAAAAAAAAAAAAAAAAAAAAAAAAAAAAAAAAAAAAAAAAAAAAAAAAAAAAAAAAAAAAAAAAAAAAAAAAAAAAAAAAAAAAAAAAAAAAAAAAAAAAAAAAAAAAAAAAAAAAAAAAAAAAAAAAAAAAAAAAAAAAAAAAAAAAAAAAAAAAAAAAAAAAAAAAAAAAAAAAAAAAAAAAAAAAAAAAAAAAAAAAAAAAAAAAAAAAAAAAAAAAAAAAAAAAAAAAAAAAAAAAAAAAAAAAAAAAAAAAAAAAAAAAAAAAAAAAAAAAAAAAAAAAAAAAAAAAAAAAAAAAAAAAAAAAAAAAAAAAAAAAAAAAAAAAAAAAAAAAAAAAAAAAAAAAAAAAAAAAAAAAAAAAAAAAAAAAAAAAAAAAAAAAAAAAAAAAAAAAAAAAAAAAAAAAAAAAAAAAAAAAAAAAAAAAAAAAAAAAAAAAAAAAAAAAAAAAAAAAAAAAAAAAAAAAAAAAAAAAAAAAAAAAAAAAAAAAAAAAAAAAAAAAAAAAAAAAAAAAAAAAAAAAAAAAAAAAAAAAAAAAAAAAAAAAAAAAAAAAAAAAAAAAAAAAAAAAAAAAAAAAAAAAAAAAAAAAAAAAAAAAAAAAAAAAAAAAAAAAAAAAAAAAAAAAAAAAAAAAAAAAAAAAAAAAAAAAAAAAAAAAAAAAAAAAAAAAAAAAAAAAAAAAAAAAAAAAAAAAAAAAAAAAAAAAAAAAAAAAAAAAAAAAAAAAAAAAAAAAAAAAAAAAAAAAAAAAAAAAAAAAAAAAAAAAAAAAAAAAAAAAAAAAAAAAAAAAAAAAAAAAAAAAAAAAAAAAAAAAAAAAAAAAAAAAAAAAAAAAAAAAAAAAAAAAAAAAAAAAAAAAAAAAAAAAAAAAAAAAAAAAAAAAAAAAAAAAAAAAAAAAAAAAAAAAAAAAAAAAAAAAAAAAAAAAAAAAAAAAAAAAAAAAAAAAAAAAACwAAAAAHAAcAEAIMAABCBxIsKDBgwgTKlzIsKHDhxAjSpxIsaLFixgzatzIsaPHjyBDihxJsqTJkwQDAgA7\"><title>Layer: output (output)\\n shape = (28, 28, 1)\\n Keras class = Dense\\n activation = sigmoid</title></image><text x=\"280.0\" y=\"132.0\" font-family=\"monospace\" font-size=\"12\" text-anchor=\"start\" alignment-baseline=\"central\">output</text><line x1=\"175.0\" y1=\"259\" x2=\"175.0\" y2=\"232\" stroke=\"black\" stroke-width=\"2\" marker-end=\"url(#arrow)\"><title>Weights from hidden3 to output\\n output/kernel has shape (25, 784)\\n output/bias has shape (784,)</title></line><rect x=\"74.0\" y=\"259\" width=\"202\" height=\"27\" style=\"fill:none;stroke:black;stroke-width:2\"/><image id=\"MNIST-Autoencoder_hidden3_8\" class=\"MNIST-Autoencoder_hidden3\" x=\"75.0\" y=\"260\" height=\"25\" width=\"200\" preserveAspectRatio=\"none\" href=\"data:image/gif;base64,R0lGODdhGQABAIcAAGcAH/nHrhoaGj09PX4HIpkQJ5mZmd5yW+qNcO6YePOjgP3gz/7t4wAAAAAAAAAAAAAAAAAAAAAAAAAAAAAAAAAAAAAAAAAAAAAAAAAAAAAAAAAAAAAAAAAAAAAAAAAAAAAAAAAAAAAAAAAAAAAAAAAAAAAAAAAAAAAAAAAAAAAAAAAAAAAAAAAAAAAAAAAAAAAAAAAAAAAAAAAAAAAAAAAAAAAAAAAAAAAAAAAAAAAAAAAAAAAAAAAAAAAAAAAAAAAAAAAAAAAAAAAAAAAAAAAAAAAAAAAAAAAAAAAAAAAAAAAAAAAAAAAAAAAAAAAAAAAAAAAAAAAAAAAAAAAAAAAAAAAAAAAAAAAAAAAAAAAAAAAAAAAAAAAAAAAAAAAAAAAAAAAAAAAAAAAAAAAAAAAAAAAAAAAAAAAAAAAAAAAAAAAAAAAAAAAAAAAAAAAAAAAAAAAAAAAAAAAAAAAAAAAAAAAAAAAAAAAAAAAAAAAAAAAAAAAAAAAAAAAAAAAAAAAAAAAAAAAAAAAAAAAAAAAAAAAAAAAAAAAAAAAAAAAAAAAAAAAAAAAAAAAAAAAAAAAAAAAAAAAAAAAAAAAAAAAAAAAAAAAAAAAAAAAAAAAAAAAAAAAAAAAAAAAAAAAAAAAAAAAAAAAAAAAAAAAAAAAAAAAAAAAAAAAAAAAAAAAAAAAAAAAAAAAAAAAAAAAAAAAAAAAAAAAAAAAAAAAAAAAAAAAAAAAAAAAAAAAAAAAAAAAAAAAAAAAAAAAAAAAAAAAAAAAAAAAAAAAAAAAAAAAAAAAAAAAAAAAAAAAAAAAAAAAAAAAAAAAAAAAAAAAAAAAAAAAAAAAAAAAAAAAAAAAAAAAAAAAAAAAAAAAAAAAAAAAAAAAAAAAAAAAAAAAAAAAAAAAAAAAAAAAAAAAAAAAAAAAAAAAAAAAAAAAAAAAAAAAAAAAAAAAAAAAAAAAAAAAAAAAAAAAAAAAAAAAAAAAAAAAAAAAAAAAAAAAAAAAAAAAAAAAAAAAAAAAAAAAAACwAAAAAGQABAAAIHwADKAAAgMAAAAIAMACwAAAABAACAABQwMABAAkABAQAOw==\"><title>Layer: hidden3 (hidden)\\n shape = (25,)\\n Keras class = Dense\\n activation = relu</title></image><text x=\"280.0\" y=\"274.5\" font-family=\"monospace\" font-size=\"12\" text-anchor=\"start\" alignment-baseline=\"central\">hidden3</text><line x1=\"175.0\" y1=\"314\" x2=\"175.0\" y2=\"287\" stroke=\"black\" stroke-width=\"2\" marker-end=\"url(#arrow)\"><title>Weights from hidden2 to hidden3\\n hidden3/kernel has shape (25, 25)\\n hidden3/bias has shape (25,)</title></line><rect x=\"74.0\" y=\"314\" width=\"202\" height=\"27\" style=\"fill:none;stroke:black;stroke-width:2\"/><image id=\"MNIST-Autoencoder_hidden2_9\" class=\"MNIST-Autoencoder_hidden2\" x=\"75.0\" y=\"315\" height=\"25\" width=\"200\" preserveAspectRatio=\"none\" href=\"data:image/gif;base64,R0lGODdhGQABAIcAAGcAH/z07xoaGocKJKenp9jY2AAAAAAAAAAAAAAAAAAAAAAAAAAAAAAAAAAAAAAAAAAAAAAAAAAAAAAAAAAAAAAAAAAAAAAAAAAAAAAAAAAAAAAAAAAAAAAAAAAAAAAAAAAAAAAAAAAAAAAAAAAAAAAAAAAAAAAAAAAAAAAAAAAAAAAAAAAAAAAAAAAAAAAAAAAAAAAAAAAAAAAAAAAAAAAAAAAAAAAAAAAAAAAAAAAAAAAAAAAAAAAAAAAAAAAAAAAAAAAAAAAAAAAAAAAAAAAAAAAAAAAAAAAAAAAAAAAAAAAAAAAAAAAAAAAAAAAAAAAAAAAAAAAAAAAAAAAAAAAAAAAAAAAAAAAAAAAAAAAAAAAAAAAAAAAAAAAAAAAAAAAAAAAAAAAAAAAAAAAAAAAAAAAAAAAAAAAAAAAAAAAAAAAAAAAAAAAAAAAAAAAAAAAAAAAAAAAAAAAAAAAAAAAAAAAAAAAAAAAAAAAAAAAAAAAAAAAAAAAAAAAAAAAAAAAAAAAAAAAAAAAAAAAAAAAAAAAAAAAAAAAAAAAAAAAAAAAAAAAAAAAAAAAAAAAAAAAAAAAAAAAAAAAAAAAAAAAAAAAAAAAAAAAAAAAAAAAAAAAAAAAAAAAAAAAAAAAAAAAAAAAAAAAAAAAAAAAAAAAAAAAAAAAAAAAAAAAAAAAAAAAAAAAAAAAAAAAAAAAAAAAAAAAAAAAAAAAAAAAAAAAAAAAAAAAAAAAAAAAAAAAAAAAAAAAAAAAAAAAAAAAAAAAAAAAAAAAAAAAAAAAAAAAAAAAAAAAAAAAAAAAAAAAAAAAAAAAAAAAAAAAAAAAAAAAAAAAAAAAAAAAAAAAAAAAAAAAAAAAAAAAAAAAAAAAAAAAAAAAAAAAAAAAAAAAAAAAAAAAAAAAAAAAAAAAAAAAAAAAAAAAAAAAAAAAAAAAAAAAAAAAAAAAAAAAAAAAAAAAAAAAAAAAAAAAAAAAAAAAAAAAAAAAAAAAAAAAAAAAAAAAAAAAAAAAAAAAAAAAAACwAAAAAGQABAAAIHQABCARAAACAAAASAigQIAAAAAEACAAAYAAAAAEBADs=\"><title>Layer: hidden2 (hidden)\\n shape = (25,)\\n Keras class = Dense\\n activation = relu</title></image><text x=\"280.0\" y=\"329.5\" font-family=\"monospace\" font-size=\"12\" text-anchor=\"start\" alignment-baseline=\"central\">hidden2</text><line x1=\"175.0\" y1=\"369\" x2=\"175.0\" y2=\"342\" stroke=\"black\" stroke-width=\"2\" marker-end=\"url(#arrow)\"><title>Weights from hidden1 to hidden2\\n hidden2/kernel has shape (25, 25)\\n hidden2/bias has shape (25,)</title></line><rect x=\"74.0\" y=\"369\" width=\"202\" height=\"27\" style=\"fill:none;stroke:black;stroke-width:2\"/><image id=\"MNIST-Autoencoder_hidden1_10\" class=\"MNIST-Autoencoder_hidden1\" x=\"75.0\" y=\"370\" height=\"25\" width=\"200\" preserveAspectRatio=\"none\" href=\"data:image/gif;base64,R0lGODdhGQABAIcAAGcAH40MJeWEaBoaGjg4OElJSZ2dnbQcLbknMqurq+J9Y/769wAAAAAAAAAAAAAAAAAAAAAAAAAAAAAAAAAAAAAAAAAAAAAAAAAAAAAAAAAAAAAAAAAAAAAAAAAAAAAAAAAAAAAAAAAAAAAAAAAAAAAAAAAAAAAAAAAAAAAAAAAAAAAAAAAAAAAAAAAAAAAAAAAAAAAAAAAAAAAAAAAAAAAAAAAAAAAAAAAAAAAAAAAAAAAAAAAAAAAAAAAAAAAAAAAAAAAAAAAAAAAAAAAAAAAAAAAAAAAAAAAAAAAAAAAAAAAAAAAAAAAAAAAAAAAAAAAAAAAAAAAAAAAAAAAAAAAAAAAAAAAAAAAAAAAAAAAAAAAAAAAAAAAAAAAAAAAAAAAAAAAAAAAAAAAAAAAAAAAAAAAAAAAAAAAAAAAAAAAAAAAAAAAAAAAAAAAAAAAAAAAAAAAAAAAAAAAAAAAAAAAAAAAAAAAAAAAAAAAAAAAAAAAAAAAAAAAAAAAAAAAAAAAAAAAAAAAAAAAAAAAAAAAAAAAAAAAAAAAAAAAAAAAAAAAAAAAAAAAAAAAAAAAAAAAAAAAAAAAAAAAAAAAAAAAAAAAAAAAAAAAAAAAAAAAAAAAAAAAAAAAAAAAAAAAAAAAAAAAAAAAAAAAAAAAAAAAAAAAAAAAAAAAAAAAAAAAAAAAAAAAAAAAAAAAAAAAAAAAAAAAAAAAAAAAAAAAAAAAAAAAAAAAAAAAAAAAAAAAAAAAAAAAAAAAAAAAAAAAAAAAAAAAAAAAAAAAAAAAAAAAAAAAAAAAAAAAAAAAAAAAAAAAAAAAAAAAAAAAAAAAAAAAAAAAAAAAAAAAAAAAAAAAAAAAAAAAAAAAAAAAAAAAAAAAAAAAAAAAAAAAAAAAAAAAAAAAAAAAAAAAAAAAAAAAAAAAAAAAAAAAAAAAAAAAAAAAAAAAAAAAAAAAAAAAAAAAAAAAAAAAAAAAAAAAAAAAAAAAAAAAAAAAAAAAAAAAAAAAAAAAAAAAAAAAAAAAAACwAAAAAGQABAAAIHQABCFQg4EAAAwASIiiwAACABAAACAAQgMAAAAEBADs=\"><title>Layer: hidden1 (hidden)\\n shape = (25,)\\n Keras class = Dense\\n activation = relu</title></image><text x=\"280.0\" y=\"384.5\" font-family=\"monospace\" font-size=\"12\" text-anchor=\"start\" alignment-baseline=\"central\">hidden1</text><line x1=\"175.0\" y1=\"424\" x2=\"175.0\" y2=\"397\" stroke=\"black\" stroke-width=\"2\" marker-end=\"url(#arrow)\"><title>Weights from flatten to hidden1\\n hidden1/kernel has shape (784, 25)\\n hidden1/bias has shape (25,)</title></line><rect x=\"74.0\" y=\"424\" width=\"202\" height=\"27\" style=\"fill:none;stroke:black;stroke-width:2\"/><image id=\"MNIST-Autoencoder_flatten_11\" class=\"MNIST-Autoencoder_flatten\" x=\"75.0\" y=\"425\" height=\"25\" width=\"200\" preserveAspectRatio=\"none\" href=\"data:image/gif;base64,R0lGODdhEAMBAIcAAP39/BwcHOjo6CUlJcbGxjk5OVdXV4eHh5qammVlZdfX13Nzc0dHR6enp7W1tQAAAAAAAAAAAAAAAAAAAAAAAAAAAAAAAAAAAAAAAAAAAAAAAAAAAAAAAAAAAAAAAAAAAAAAAAAAAAAAAAAAAAAAAAAAAAAAAAAAAAAAAAAAAAAAAAAAAAAAAAAAAAAAAAAAAAAAAAAAAAAAAAAAAAAAAAAAAAAAAAAAAAAAAAAAAAAAAAAAAAAAAAAAAAAAAAAAAAAAAAAAAAAAAAAAAAAAAAAAAAAAAAAAAAAAAAAAAAAAAAAAAAAAAAAAAAAAAAAAAAAAAAAAAAAAAAAAAAAAAAAAAAAAAAAAAAAAAAAAAAAAAAAAAAAAAAAAAAAAAAAAAAAAAAAAAAAAAAAAAAAAAAAAAAAAAAAAAAAAAAAAAAAAAAAAAAAAAAAAAAAAAAAAAAAAAAAAAAAAAAAAAAAAAAAAAAAAAAAAAAAAAAAAAAAAAAAAAAAAAAAAAAAAAAAAAAAAAAAAAAAAAAAAAAAAAAAAAAAAAAAAAAAAAAAAAAAAAAAAAAAAAAAAAAAAAAAAAAAAAAAAAAAAAAAAAAAAAAAAAAAAAAAAAAAAAAAAAAAAAAAAAAAAAAAAAAAAAAAAAAAAAAAAAAAAAAAAAAAAAAAAAAAAAAAAAAAAAAAAAAAAAAAAAAAAAAAAAAAAAAAAAAAAAAAAAAAAAAAAAAAAAAAAAAAAAAAAAAAAAAAAAAAAAAAAAAAAAAAAAAAAAAAAAAAAAAAAAAAAAAAAAAAAAAAAAAAAAAAAAAAAAAAAAAAAAAAAAAAAAAAAAAAAAAAAAAAAAAAAAAAAAAAAAAAAAAAAAAAAAAAAAAAAAAAAAAAAAAAAAAAAAAAAAAAAAAAAAAAAAAAAAAAAAAAAAAAAAAAAAAAAAAAAAAAAAAAAAAAAAAAAAAAAAAAAAAAAAAAAAAAAAAAAAAAAAAAAAAAAAAAAAAAAAAAAAAAAAAAAAAAAAAAAAAAAAAAAAAAAAAAAACwAAAAAEAMBAAAI/wABCBxIsKDBgwgTKlzIsKHDhxAjDmyAIIGABQEGNADAsaNHjgIEEDiwIIBJkwUWBBhgQAGAlzBjAhAwIIDNmzcJ6FQgAIDPn0B/FghAlKiBBAMGAFjKtKlTpgQOOAgQgAEAAAIOANjKtavXrwcCEABAtqzZs2jNIghgAIDbt3Djyo1rIIACAHjz6t3LV6+AAQUOOABAuLDhw4gLExgQIEADAQAiS55MuXJkAQkCBDggAIDnz6BDi/5MIECABABSq17NuvXqAQEGKABAu7bt27gFIEgQIAADAMCDCx8+XMCBAgGSD0gAoLnz59CfNygQoHoAAwQAaN/Ovft2BQwCiEIPYIAAgPPo06tHv6BAgPcBDBAAQL++/fv0FSwoEKB/AIADEAAgWNDgQYMIAixkgAABAIgRJU6kWNHiRYwZNW7EGBAAOw==\"><title>Layer: flatten (hidden)\\n Keras class = Flatten</title></image><text x=\"280.0\" y=\"439.5\" font-family=\"monospace\" font-size=\"12\" text-anchor=\"start\" alignment-baseline=\"central\">flatten</text><line x1=\"175.0\" y1=\"479\" x2=\"175.0\" y2=\"452\" stroke=\"black\" stroke-width=\"2\" marker-end=\"url(#arrow)\"><title>Weights from input to flatten</title></line><rect x=\"74.0\" y=\"479\" width=\"202\" height=\"202\" style=\"fill:none;stroke:black;stroke-width:2\"/><image id=\"MNIST-Autoencoder_input_12\" class=\"MNIST-Autoencoder_input\" x=\"75.0\" y=\"480\" height=\"200\" width=\"200\" preserveAspectRatio=\"none\" href=\"data:image/gif;base64,R0lGODdhHAAcAIcAAP39/BwcHOjo6CUlJcbGxjk5OVdXV4eHh5qammVlZdfX13Nzc0dHR6enp7W1tQAAAAAAAAAAAAAAAAAAAAAAAAAAAAAAAAAAAAAAAAAAAAAAAAAAAAAAAAAAAAAAAAAAAAAAAAAAAAAAAAAAAAAAAAAAAAAAAAAAAAAAAAAAAAAAAAAAAAAAAAAAAAAAAAAAAAAAAAAAAAAAAAAAAAAAAAAAAAAAAAAAAAAAAAAAAAAAAAAAAAAAAAAAAAAAAAAAAAAAAAAAAAAAAAAAAAAAAAAAAAAAAAAAAAAAAAAAAAAAAAAAAAAAAAAAAAAAAAAAAAAAAAAAAAAAAAAAAAAAAAAAAAAAAAAAAAAAAAAAAAAAAAAAAAAAAAAAAAAAAAAAAAAAAAAAAAAAAAAAAAAAAAAAAAAAAAAAAAAAAAAAAAAAAAAAAAAAAAAAAAAAAAAAAAAAAAAAAAAAAAAAAAAAAAAAAAAAAAAAAAAAAAAAAAAAAAAAAAAAAAAAAAAAAAAAAAAAAAAAAAAAAAAAAAAAAAAAAAAAAAAAAAAAAAAAAAAAAAAAAAAAAAAAAAAAAAAAAAAAAAAAAAAAAAAAAAAAAAAAAAAAAAAAAAAAAAAAAAAAAAAAAAAAAAAAAAAAAAAAAAAAAAAAAAAAAAAAAAAAAAAAAAAAAAAAAAAAAAAAAAAAAAAAAAAAAAAAAAAAAAAAAAAAAAAAAAAAAAAAAAAAAAAAAAAAAAAAAAAAAAAAAAAAAAAAAAAAAAAAAAAAAAAAAAAAAAAAAAAAAAAAAAAAAAAAAAAAAAAAAAAAAAAAAAAAAAAAAAAAAAAAAAAAAAAAAAAAAAAAAAAAAAAAAAAAAAAAAAAAAAAAAAAAAAAAAAAAAAAAAAAAAAAAAAAAAAAAAAAAAAAAAAAAAAAAAAAAAAAAAAAAAAAAAAAAAAAAAAAAAAAAAAAAAAAAAAAAAAAAAAAAAAAAAAAAAAAAAAAAAAAAAAAAAAAAAAAAAAAAAAAAAAAAAAAAAAAAAAAAAAAAACwAAAAAHAAcAEAI/wABCBxIsKDBgwgLBFi40ECCAQMASJxIsaLFigQCBEgAoKPHjx0RBBjJAAECAChTqlzJsqXLlzBRGgigAIDNmzhz6rzZoECAnwEMEABAtKjRo0iTKl0qQACBAwsCSJVaYEGAAQYUANjKtavXAwEIABhLtqzZs2cJDAgQoIEAAHDjyp1LF64ABAkCBGAAoK/fv4AXFAhAOIABAgASK17MuLHjx5AjS55MufLjBggSCFgQYEADAKBDiwYgYECA06hRE1itQACA17BjwyZwwEGAAAwAABBwAIDv38CDC0cQwACA48iTK1+uXMCAAgccAJhOvbr169UFJAgQ4IAAAODDi0QfT178gAADFABYz769+/YCDhQIQH9AAgD48+vfj18BA4ABBAYwQADAQYQJFSpYUCDAwwADEACgWNHiRYwZNW7k2PFiQAA7\"><title>Layer: input (input)\\n shape = (28, 28, 1)\\n Keras class = Input</title></image><text x=\"280.0\" y=\"582.0\" font-family=\"monospace\" font-size=\"12\" text-anchor=\"start\" alignment-baseline=\"central\">input</text><text x=\"280.0\" y=\"485\" font-family=\"monospace\" font-size=\"12\" text-anchor=\"start\" alignment-baseline=\"central\">1</text><text x=\"63.0\" y=\"675\" font-family=\"monospace\" font-size=\"12\" text-anchor=\"start\" alignment-baseline=\"central\">0</text></svg></p>', layout=Layout(height='550px', justify_content='center', overflow_x='auto', width='95%')), VBox(children=(HBox(children=(Select(description='Dataset:', index=1, options=('Test', 'Train'), rows=1, value='Train'), Button(icon='refresh', style=ButtonStyle()))), IntSlider(value=0, continuous_update=False, description='Dataset index', layout=Layout(width='95%'), max=69999), HBox(children=(Button(icon='fast-backward', layout=Layout(width='100%'), style=ButtonStyle()), Button(icon='backward', layout=Layout(width='100%'), style=ButtonStyle()), Button(description='Train', layout=Layout(width='100%'), style=ButtonStyle()), Button(icon='forward', layout=Layout(width='100%'), style=ButtonStyle()), Button(icon='fast-forward', layout=Layout(width='100%'), style=ButtonStyle())), layout=Layout(height='50px', width='95%'))), layout=Layout(width='95%'))), layout=Layout(height='550px', width='95%')), HTML(value='<iframe src=\"https://conx.readthedocs.io\" width=\"100%\" height=\"550px\"></frame>', layout=Layout(height='550px', width='95%'))), _titles={'0': 'Network', '1': 'Help'})"
      ]
     },
     "metadata": {},
     "output_type": "display_data"
    }
   ],
   "source": [
    "net.dashboard()"
   ]
  },
  {
   "cell_type": "code",
   "execution_count": 24,
   "metadata": {},
   "outputs": [],
   "source": [
    "import numpy as np\n",
    "from conx import get_form\n",
    "image = np.random.rand(784).reshape((28, 28, 1))"
   ]
  },
  {
   "cell_type": "code",
   "execution_count": 25,
   "metadata": {},
   "outputs": [
    {
     "data": {
      "text/plain": [
       "[[[numbers.Number, 1], 28], 28]"
      ]
     },
     "execution_count": 25,
     "metadata": {},
     "output_type": "execute_result"
    }
   ],
   "source": [
    "get_form(net.propagate(image))"
   ]
  },
  {
   "cell_type": "code",
   "execution_count": 26,
   "metadata": {},
   "outputs": [
    {
     "data": {
      "text/plain": [
       "(28, 28)"
      ]
     },
     "execution_count": 26,
     "metadata": {},
     "output_type": "execute_result"
    }
   ],
   "source": [
    "output = net.propagate_to_image(\"output\", image)\n",
    "output.size"
   ]
  },
  {
   "cell_type": "code",
   "execution_count": 27,
   "metadata": {},
   "outputs": [
    {
     "data": {
      "text/plain": [
       "[0.06154844909906387,\n",
       " 0.0,\n",
       " 0.0,\n",
       " 0.0,\n",
       " 0.08922839164733887,\n",
       " 0.1498868316411972,\n",
       " 0.0,\n",
       " 0.5282808542251587,\n",
       " 0.050810132175683975,\n",
       " 0.0,\n",
       " 0.0,\n",
       " 0.38388776779174805,\n",
       " 0.0,\n",
       " 0.0,\n",
       " 0.21484920382499695,\n",
       " 0.0,\n",
       " 0.12499266117811203,\n",
       " 0.0,\n",
       " 0.0319090373814106,\n",
       " 0.0,\n",
       " 0.18090370297431946,\n",
       " 0.12270572781562805,\n",
       " 0.04858681187033653,\n",
       " 0.5522233247756958,\n",
       " 0.0]"
      ]
     },
     "execution_count": 27,
     "metadata": {},
     "output_type": "execute_result"
    }
   ],
   "source": [
    "net.propagate_to(\"hidden3\", image)"
   ]
  },
  {
   "cell_type": "code",
   "execution_count": 28,
   "metadata": {},
   "outputs": [],
   "source": [
    "net.dataset.slice(10)"
   ]
  },
  {
   "cell_type": "code",
   "execution_count": 30,
   "metadata": {},
   "outputs": [
    {
     "name": "stdout",
     "output_type": "stream",
     "text": [
      "Training...\n",
      "Epoch #  100 | train error 0.17429 | train accuracy 0.81505 | validate% 0.00000\n",
      "Epoch #  200 | train error 0.09077 | train accuracy 0.82526 | validate% 0.20000\n",
      "========================================================================\n",
      "Epoch #  228 | train error 0.07725 | train accuracy 0.82628 | validate% 0.50000\n"
     ]
    }
   ],
   "source": [
    "net.train(accuracy=0.5, epochs=1000, report_rate=100, tolerance=.4)"
   ]
  },
  {
   "cell_type": "code",
   "execution_count": 31,
   "metadata": {},
   "outputs": [],
   "source": [
    "for i in range(10):\n",
    "    net.propagate(net.dataset.inputs[i])"
   ]
  },
  {
   "cell_type": "code",
   "execution_count": 32,
   "metadata": {},
   "outputs": [
    {
     "name": "stdout",
     "output_type": "stream",
     "text": [
      "Testing on training dataset...\n",
      "# | inputs | targets | outputs | result\n",
      "---------------------------------------\n",
      "0 | [[[0.00],  [0.00],  [0.00],  [0.00],  [0.00],  [0.00],  [0.00],  [0.00],  [0.00],  [0.00],  [0.00],  [0.00],  [0.00],  [0.00],  [0.00],  [0.00],  [0.00],  [0.00],  [0.00],  [0.00],  [0.00],  [0.00],  [0.00],  [0.00],  [0.00],  [0.00],  [0.00],  [0.00]], [[0.00],  [0.00],  [0.00],  [0.00],  [0.00],  [0.00],  [0.00],  [0.00],  [0.00],  [0.00],  [0.00],  [0.00],  [0.00],  [0.00],  [0.00],  [0.00],  [0.00],  [0.00],  [0.00],  [0.00],  [0.00],  [0.00],  [0.00],  [0.00],  [0.00],  [0.00],  [0.00],  [0.00]], [[0.00],  [0.00],  [0.00],  [0.00],  [0.00],  [0.00],  [0.00],  [0.00],  [0.00],  [0.00],  [0.00],  [0.00],  [0.00],  [0.00],  [0.00],  [0.00],  [0.00],  [0.00],  [0.00],  [0.00],  [0.00],  [0.00],  [0.00],  [0.00],  [0.00],  [0.00],  [0.00],  [0.00]], [[0.00],  [0.00],  [0.00],  [0.00],  [0.00],  [0.00],  [0.00],  [0.00],  [0.00],  [0.00],  [0.00],  [0.00],  [0.00],  [0.00],  [0.00],  [0.00],  [0.00],  [0.00],  [0.00],  [0.00],  [0.00],  [0.00],  [0.00],  [0.00],  [0.00],  [0.00],  [0.00],  [0.00]], [[0.00],  [0.00],  [0.00],  [0.00],  [0.00],  [0.00],  [0.00],  [0.00],  [0.00],  [0.00],  [0.00],  [0.00],  [0.00],  [0.00],  [0.00],  [0.00],  [0.00],  [0.00],  [0.00],  [0.00],  [0.00],  [0.00],  [0.00],  [0.00],  [0.00],  [0.00],  [0.00],  [0.00]], [[0.00],  [0.00],  [0.00],  [0.00],  [0.00],  [0.00],  [0.00],  [0.00],  [0.00],  [0.00],  [0.00],  [0.00],  [0.01],  [0.07],  [0.07],  [0.07],  [0.49],  [0.53],  [0.69],  [0.10],  [0.65],  [1.00],  [0.97],  [0.50],  [0.00],  [0.00],  [0.00],  [0.00]], [[0.00],  [0.00],  [0.00],  [0.00],  [0.00],  [0.00],  [0.00],  [0.00],  [0.12],  [0.14],  [0.37],  [0.60],  [0.67],  [0.99],  [0.99],  [0.99],  [0.99],  [0.99],  [0.88],  [0.67],  [0.99],  [0.95],  [0.76],  [0.25],  [0.00],  [0.00],  [0.00],  [0.00]], [[0.00],  [0.00],  [0.00],  [0.00],  [0.00],  [0.00],  [0.00],  [0.19],  [0.93],  [0.99],  [0.99],  [0.99],  [0.99],  [0.99],  [0.99],  [0.99],  [0.99],  [0.98],  [0.36],  [0.32],  [0.32],  [0.22],  [0.15],  [0.00],  [0.00],  [0.00],  [0.00],  [0.00]], [[0.00],  [0.00],  [0.00],  [0.00],  [0.00],  [0.00],  [0.00],  [0.07],  [0.86],  [0.99],  [0.99],  [0.99],  [0.99],  [0.99],  [0.78],  [0.71],  [0.97],  [0.95],  [0.00],  [0.00],  [0.00],  [0.00],  [0.00],  [0.00],  [0.00],  [0.00],  [0.00],  [0.00]], [[0.00],  [0.00],  [0.00],  [0.00],  [0.00],  [0.00],  [0.00],  [0.00],  [0.31],  [0.61],  [0.42],  [0.99],  [0.99],  [0.80],  [0.04],  [0.00],  [0.17],  [0.60],  [0.00],  [0.00],  [0.00],  [0.00],  [0.00],  [0.00],  [0.00],  [0.00],  [0.00],  [0.00]], [[0.00],  [0.00],  [0.00],  [0.00],  [0.00],  [0.00],  [0.00],  [0.00],  [0.00],  [0.05],  [0.00],  [0.60],  [0.99],  [0.35],  [0.00],  [0.00],  [0.00],  [0.00],  [0.00],  [0.00],  [0.00],  [0.00],  [0.00],  [0.00],  [0.00],  [0.00],  [0.00],  [0.00]], [[0.00],  [0.00],  [0.00],  [0.00],  [0.00],  [0.00],  [0.00],  [0.00],  [0.00],  [0.00],  [0.00],  [0.55],  [0.99],  [0.75],  [0.01],  [0.00],  [0.00],  [0.00],  [0.00],  [0.00],  [0.00],  [0.00],  [0.00],  [0.00],  [0.00],  [0.00],  [0.00],  [0.00]], [[0.00],  [0.00],  [0.00],  [0.00],  [0.00],  [0.00],  [0.00],  [0.00],  [0.00],  [0.00],  [0.00],  [0.04],  [0.75],  [0.99],  [0.27],  [0.00],  [0.00],  [0.00],  [0.00],  [0.00],  [0.00],  [0.00],  [0.00],  [0.00],  [0.00],  [0.00],  [0.00],  [0.00]], [[0.00],  [0.00],  [0.00],  [0.00],  [0.00],  [0.00],  [0.00],  [0.00],  [0.00],  [0.00],  [0.00],  [0.00],  [0.14],  [0.95],  [0.88],  [0.63],  [0.42],  [0.00],  [0.00],  [0.00],  [0.00],  [0.00],  [0.00],  [0.00],  [0.00],  [0.00],  [0.00],  [0.00]], [[0.00],  [0.00],  [0.00],  [0.00],  [0.00],  [0.00],  [0.00],  [0.00],  [0.00],  [0.00],  [0.00],  [0.00],  [0.00],  [0.32],  [0.94],  [0.99],  [0.99],  [0.47],  [0.10],  [0.00],  [0.00],  [0.00],  [0.00],  [0.00],  [0.00],  [0.00],  [0.00],  [0.00]], [[0.00],  [0.00],  [0.00],  [0.00],  [0.00],  [0.00],  [0.00],  [0.00],  [0.00],  [0.00],  [0.00],  [0.00],  [0.00],  [0.00],  [0.18],  [0.73],  [0.99],  [0.99],  [0.59],  [0.11],  [0.00],  [0.00],  [0.00],  [0.00],  [0.00],  [0.00],  [0.00],  [0.00]], [[0.00],  [0.00],  [0.00],  [0.00],  [0.00],  [0.00],  [0.00],  [0.00],  [0.00],  [0.00],  [0.00],  [0.00],  [0.00],  [0.00],  [0.00],  [0.06],  [0.36],  [0.99],  [0.99],  [0.73],  [0.00],  [0.00],  [0.00],  [0.00],  [0.00],  [0.00],  [0.00],  [0.00]], [[0.00],  [0.00],  [0.00],  [0.00],  [0.00],  [0.00],  [0.00],  [0.00],  [0.00],  [0.00],  [0.00],  [0.00],  [0.00],  [0.00],  [0.00],  [0.00],  [0.00],  [0.98],  [0.99],  [0.98],  [0.25],  [0.00],  [0.00],  [0.00],  [0.00],  [0.00],  [0.00],  [0.00]], [[0.00],  [0.00],  [0.00],  [0.00],  [0.00],  [0.00],  [0.00],  [0.00],  [0.00],  [0.00],  [0.00],  [0.00],  [0.00],  [0.00],  [0.18],  [0.51],  [0.72],  [0.99],  [0.99],  [0.81],  [0.01],  [0.00],  [0.00],  [0.00],  [0.00],  [0.00],  [0.00],  [0.00]], [[0.00],  [0.00],  [0.00],  [0.00],  [0.00],  [0.00],  [0.00],  [0.00],  [0.00],  [0.00],  [0.00],  [0.00],  [0.15],  [0.58],  [0.90],  [0.99],  [0.99],  [0.99],  [0.98],  [0.71],  [0.00],  [0.00],  [0.00],  [0.00],  [0.00],  [0.00],  [0.00],  [0.00]], [[0.00],  [0.00],  [0.00],  [0.00],  [0.00],  [0.00],  [0.00],  [0.00],  [0.00],  [0.00],  [0.09],  [0.45],  [0.87],  [0.99],  [0.99],  [0.99],  [0.99],  [0.79],  [0.31],  [0.00],  [0.00],  [0.00],  [0.00],  [0.00],  [0.00],  [0.00],  [0.00],  [0.00]], [[0.00],  [0.00],  [0.00],  [0.00],  [0.00],  [0.00],  [0.00],  [0.00],  [0.09],  [0.26],  [0.84],  [0.99],  [0.99],  [0.99],  [0.99],  [0.78],  [0.32],  [0.01],  [0.00],  [0.00],  [0.00],  [0.00],  [0.00],  [0.00],  [0.00],  [0.00],  [0.00],  [0.00]], [[0.00],  [0.00],  [0.00],  [0.00],  [0.00],  [0.00],  [0.07],  [0.67],  [0.86],  [0.99],  [0.99],  [0.99],  [0.99],  [0.76],  [0.31],  [0.04],  [0.00],  [0.00],  [0.00],  [0.00],  [0.00],  [0.00],  [0.00],  [0.00],  [0.00],  [0.00],  [0.00],  [0.00]], [[0.00],  [0.00],  [0.00],  [0.00],  [0.22],  [0.67],  [0.89],  [0.99],  [0.99],  [0.99],  [0.99],  [0.96],  [0.52],  [0.04],  [0.00],  [0.00],  [0.00],  [0.00],  [0.00],  [0.00],  [0.00],  [0.00],  [0.00],  [0.00],  [0.00],  [0.00],  [0.00],  [0.00]], [[0.00],  [0.00],  [0.00],  [0.00],  [0.53],  [0.99],  [0.99],  [0.99],  [0.83],  [0.53],  [0.52],  [0.06],  [0.00],  [0.00],  [0.00],  [0.00],  [0.00],  [0.00],  [0.00],  [0.00],  [0.00],  [0.00],  [0.00],  [0.00],  [0.00],  [0.00],  [0.00],  [0.00]], [[0.00],  [0.00],  [0.00],  [0.00],  [0.00],  [0.00],  [0.00],  [0.00],  [0.00],  [0.00],  [0.00],  [0.00],  [0.00],  [0.00],  [0.00],  [0.00],  [0.00],  [0.00],  [0.00],  [0.00],  [0.00],  [0.00],  [0.00],  [0.00],  [0.00],  [0.00],  [0.00],  [0.00]], [[0.00],  [0.00],  [0.00],  [0.00],  [0.00],  [0.00],  [0.00],  [0.00],  [0.00],  [0.00],  [0.00],  [0.00],  [0.00],  [0.00],  [0.00],  [0.00],  [0.00],  [0.00],  [0.00],  [0.00],  [0.00],  [0.00],  [0.00],  [0.00],  [0.00],  [0.00],  [0.00],  [0.00]], [[0.00],  [0.00],  [0.00],  [0.00],  [0.00],  [0.00],  [0.00],  [0.00],  [0.00],  [0.00],  [0.00],  [0.00],  [0.00],  [0.00],  [0.00],  [0.00],  [0.00],  [0.00],  [0.00],  [0.00],  [0.00],  [0.00],  [0.00],  [0.00],  [0.00],  [0.00],  [0.00],  [0.00]]] | [0.00,0.00,0.00,0.00,0.00,0.00,0.00,0.00,0.00,0.00,0.00,0.00,0.00,0.00,0.00, 0.00,0.00,0.00,0.00,0.00,0.00,0.00,0.00,0.00,0.00,0.00,0.00,0.00,0.00,0.00, 0.00,0.00,0.00,0.00,0.00,0.00,0.00,0.00,0.00,0.00,0.00,0.00,0.00,0.00,0.00, 0.00,0.00,0.00,0.00,0.00,0.00,0.00,0.00,0.00,0.00,0.00,0.00,0.00,0.00,0.00, 0.00,0.00,0.00,0.00,0.00,0.00,0.00,0.00,0.00,0.00,0.00,0.00,0.00,0.00,0.00, 0.00,0.00,0.00,0.00,0.00,0.00,0.00,0.00,0.00,0.00,0.00,0.00,0.00,0.00,0.00, 0.00,0.00,0.00,0.00,0.00,0.00,0.00,0.00,0.00,0.00,0.00,0.00,0.00,0.00,0.00, 0.00,0.00,0.00,0.00,0.00,0.00,0.00,0.00,0.00,0.00,0.00,0.00,0.00,0.00,0.00, 0.00,0.00,0.00,0.00,0.00,0.00,0.00,0.00,0.00,0.00,0.00,0.00,0.00,0.00,0.00, 0.00,0.00,0.00,0.00,0.00,0.00,0.00,0.00,0.00,0.00,0.00,0.00,0.00,0.00,0.00, 0.00,0.00,0.01,0.07,0.07,0.07,0.49,0.53,0.69,0.10,0.65,1.00,0.97,0.50,0.00, 0.00,0.00,0.00,0.00,0.00,0.00,0.00,0.00,0.00,0.00,0.00,0.12,0.14,0.37,0.60, 0.67,0.99,0.99,0.99,0.99,0.99,0.88,0.67,0.99,0.95,0.76,0.25,0.00,0.00,0.00, 0.00,0.00,0.00,0.00,0.00,0.00,0.00,0.00,0.19,0.93,0.99,0.99,0.99,0.99,0.99, 0.99,0.99,0.99,0.98,0.36,0.32,0.32,0.22,0.15,0.00,0.00,0.00,0.00,0.00,0.00, 0.00,0.00,0.00,0.00,0.00,0.00,0.07,0.86,0.99,0.99,0.99,0.99,0.99,0.78,0.71, 0.97,0.95,0.00,0.00,0.00,0.00,0.00,0.00,0.00,0.00,0.00,0.00,0.00,0.00,0.00, 0.00,0.00,0.00,0.00,0.00,0.31,0.61,0.42,0.99,0.99,0.80,0.04,0.00,0.17,0.60, 0.00,0.00,0.00,0.00,0.00,0.00,0.00,0.00,0.00,0.00,0.00,0.00,0.00,0.00,0.00, 0.00,0.00,0.00,0.00,0.05,0.00,0.60,0.99,0.35,0.00,0.00,0.00,0.00,0.00,0.00, 0.00,0.00,0.00,0.00,0.00,0.00,0.00,0.00,0.00,0.00,0.00,0.00,0.00,0.00,0.00, 0.00,0.00,0.00,0.00,0.55,0.99,0.75,0.01,0.00,0.00,0.00,0.00,0.00,0.00,0.00, 0.00,0.00,0.00,0.00,0.00,0.00,0.00,0.00,0.00,0.00,0.00,0.00,0.00,0.00,0.00, 0.00,0.00,0.04,0.75,0.99,0.27,0.00,0.00,0.00,0.00,0.00,0.00,0.00,0.00,0.00, 0.00,0.00,0.00,0.00,0.00,0.00,0.00,0.00,0.00,0.00,0.00,0.00,0.00,0.00,0.00, 0.00,0.14,0.95,0.88,0.63,0.42,0.00,0.00,0.00,0.00,0.00,0.00,0.00,0.00,0.00, 0.00,0.00,0.00,0.00,0.00,0.00,0.00,0.00,0.00,0.00,0.00,0.00,0.00,0.00,0.00, 0.32,0.94,0.99,0.99,0.47,0.10,0.00,0.00,0.00,0.00,0.00,0.00,0.00,0.00,0.00, 0.00,0.00,0.00,0.00,0.00,0.00,0.00,0.00,0.00,0.00,0.00,0.00,0.00,0.00,0.18, 0.73,0.99,0.99,0.59,0.11,0.00,0.00,0.00,0.00,0.00,0.00,0.00,0.00,0.00,0.00, 0.00,0.00,0.00,0.00,0.00,0.00,0.00,0.00,0.00,0.00,0.00,0.00,0.00,0.06,0.36, 0.99,0.99,0.73,0.00,0.00,0.00,0.00,0.00,0.00,0.00,0.00,0.00,0.00,0.00,0.00, 0.00,0.00,0.00,0.00,0.00,0.00,0.00,0.00,0.00,0.00,0.00,0.00,0.00,0.98,0.99, 0.98,0.25,0.00,0.00,0.00,0.00,0.00,0.00,0.00,0.00,0.00,0.00,0.00,0.00,0.00, 0.00,0.00,0.00,0.00,0.00,0.00,0.00,0.00,0.18,0.51,0.72,0.99,0.99,0.81,0.01, 0.00,0.00,0.00,0.00,0.00,0.00,0.00,0.00,0.00,0.00,0.00,0.00,0.00,0.00,0.00, 0.00,0.00,0.00,0.00,0.15,0.58,0.90,0.99,0.99,0.99,0.98,0.71,0.00,0.00,0.00, 0.00,0.00,0.00,0.00,0.00,0.00,0.00,0.00,0.00,0.00,0.00,0.00,0.00,0.00,0.00, 0.09,0.45,0.87,0.99,0.99,0.99,0.99,0.79,0.31,0.00,0.00,0.00,0.00,0.00,0.00, 0.00,0.00,0.00,0.00,0.00,0.00,0.00,0.00,0.00,0.00,0.00,0.09,0.26,0.84,0.99, 0.99,0.99,0.99,0.78,0.32,0.01,0.00,0.00,0.00,0.00,0.00,0.00,0.00,0.00,0.00, 0.00,0.00,0.00,0.00,0.00,0.00,0.00,0.07,0.67,0.86,0.99,0.99,0.99,0.99,0.76, 0.31,0.04,0.00,0.00,0.00,0.00,0.00,0.00,0.00,0.00,0.00,0.00,0.00,0.00,0.00, 0.00,0.00,0.00,0.22,0.67,0.89,0.99,0.99,0.99,0.99,0.96,0.52,0.04,0.00,0.00, 0.00,0.00,0.00,0.00,0.00,0.00,0.00,0.00,0.00,0.00,0.00,0.00,0.00,0.00,0.00, 0.00,0.53,0.99,0.99,0.99,0.83,0.53,0.52,0.06,0.00,0.00,0.00,0.00,0.00,0.00, 0.00,0.00,0.00,0.00,0.00,0.00,0.00,0.00,0.00,0.00,0.00,0.00,0.00,0.00,0.00, 0.00,0.00,0.00,0.00,0.00,0.00,0.00,0.00,0.00,0.00,0.00,0.00,0.00,0.00,0.00, 0.00,0.00,0.00,0.00,0.00,0.00,0.00,0.00,0.00,0.00,0.00,0.00,0.00,0.00,0.00, 0.00,0.00,0.00,0.00,0.00,0.00,0.00,0.00,0.00,0.00,0.00,0.00,0.00,0.00,0.00, 0.00,0.00,0.00,0.00,0.00,0.00,0.00,0.00,0.00,0.00,0.00,0.00,0.00,0.00,0.00, 0.00,0.00,0.00,0.00,0.00,0.00,0.00,0.00,0.00,0.00,0.00,0.00,0.00,0.00,0.00, 0.00,0.00,0.00,0.00] | [0.00,0.00,0.00,0.00,0.00,0.00,0.00,0.00,0.00,0.00,0.00,0.00,0.00,0.00,0.00, 0.00,0.00,0.00,0.00,0.00,0.00,0.00,0.00,0.00,0.00,0.00,0.00,0.00,0.00,0.00, 0.00,0.00,0.00,0.00,0.00,0.00,0.00,0.00,0.00,0.00,0.00,0.00,0.00,0.00,0.00, 0.00,0.00,0.00,0.00,0.00,0.00,0.00,0.00,0.00,0.00,0.00,0.00,0.00,0.00,0.00, 0.00,0.00,0.00,0.00,0.00,0.00,0.00,0.00,0.00,0.00,0.00,0.00,0.00,0.00,0.00, 0.00,0.00,0.00,0.00,0.00,0.00,0.00,0.00,0.00,0.00,0.00,0.00,0.00,0.00,0.00, 0.00,0.00,0.00,0.00,0.00,0.00,0.00,0.00,0.00,0.00,0.00,0.00,0.00,0.00,0.00, 0.00,0.00,0.00,0.00,0.00,0.00,0.00,0.00,0.00,0.00,0.00,0.00,0.00,0.00,0.00, 0.00,0.00,0.00,0.00,0.00,0.00,0.00,0.02,0.01,0.02,0.01,0.01,0.00,0.00,0.00, 0.00,0.00,0.00,0.00,0.00,0.00,0.00,0.00,0.00,0.00,0.00,0.00,0.00,0.00,0.00, 0.00,0.03,0.13,0.25,0.46,0.23,0.50,0.52,0.73,0.28,0.81,0.83,0.76,0.39,0.00, 0.00,0.00,0.00,0.00,0.00,0.00,0.00,0.00,0.00,0.00,0.00,0.08,0.13,0.35,0.64, 0.81,1.00,1.00,1.00,0.98,1.00,0.95,0.79,1.00,0.87,0.64,0.21,0.00,0.00,0.00, 0.00,0.00,0.00,0.00,0.00,0.00,0.00,0.00,0.16,0.89,0.96,0.96,0.99,0.99,0.99, 0.99,0.98,0.94,0.99,0.51,0.48,0.38,0.19,0.13,0.00,0.00,0.00,0.00,0.00,0.00, 0.00,0.00,0.00,0.00,0.00,0.00,0.06,0.79,0.94,0.96,0.98,0.96,0.89,0.77,0.74, 0.90,0.98,0.12,0.06,0.02,0.02,0.03,0.00,0.00,0.00,0.00,0.00,0.00,0.00,0.00, 0.00,0.00,0.00,0.00,0.00,0.29,0.58,0.43,0.91,0.81,0.66,0.12,0.04,0.23,0.56, 0.08,0.02,0.00,0.03,0.00,0.00,0.00,0.00,0.00,0.00,0.00,0.00,0.00,0.00,0.00, 0.00,0.00,0.00,0.00,0.00,0.00,0.53,0.80,0.33,0.01,0.10,0.08,0.05,0.10,0.01, 0.04,0.02,0.01,0.00,0.00,0.00,0.00,0.00,0.00,0.00,0.00,0.00,0.00,0.00,0.00, 0.00,0.00,0.01,0.01,0.38,0.81,0.74,0.00,0.01,0.11,0.06,0.02,0.01,0.01,0.01, 0.01,0.00,0.00,0.00,0.00,0.00,0.00,0.00,0.00,0.00,0.00,0.00,0.00,0.00,0.00, 0.01,0.01,0.01,0.58,0.96,0.59,0.33,0.18,0.07,0.00,0.00,0.01,0.00,0.00,0.00, 0.00,0.00,0.00,0.00,0.00,0.00,0.00,0.00,0.00,0.00,0.00,0.00,0.01,0.02,0.06, 0.09,0.19,0.99,0.99,0.75,0.47,0.01,0.00,0.00,0.01,0.01,0.01,0.00,0.00,0.00, 0.00,0.00,0.00,0.00,0.00,0.00,0.00,0.00,0.00,0.00,0.01,0.03,0.12,0.03,0.03, 0.39,0.98,0.95,0.88,0.42,0.03,0.00,0.01,0.03,0.01,0.00,0.00,0.00,0.00,0.00, 0.00,0.00,0.00,0.00,0.00,0.00,0.02,0.00,0.00,0.00,0.00,0.00,0.01,0.12,0.35, 0.81,0.96,0.98,0.55,0.01,0.01,0.02,0.01,0.00,0.00,0.00,0.00,0.00,0.00,0.00, 0.00,0.00,0.00,0.00,0.01,0.00,0.00,0.00,0.00,0.03,0.04,0.14,0.13,0.08,0.36, 0.96,0.88,0.53,0.01,0.01,0.00,0.00,0.00,0.00,0.00,0.00,0.00,0.00,0.00,0.00, 0.00,0.00,0.01,0.03,0.01,0.00,0.00,0.02,0.01,0.05,0.00,0.00,0.01,0.98,0.97, 0.75,0.19,0.00,0.00,0.00,0.00,0.00,0.00,0.00,0.00,0.00,0.00,0.00,0.00,0.00, 0.00,0.02,0.00,0.00,0.01,0.02,0.01,0.03,0.10,0.49,0.79,0.99,0.97,0.76,0.00, 0.00,0.00,0.00,0.00,0.00,0.00,0.00,0.00,0.00,0.00,0.00,0.00,0.00,0.00,0.01, 0.01,0.00,0.01,0.02,0.09,0.48,0.75,0.97,1.00,0.99,0.96,0.68,0.00,0.00,0.00, 0.00,0.00,0.00,0.00,0.00,0.00,0.00,0.00,0.00,0.00,0.01,0.02,0.02,0.02,0.08, 0.12,0.40,0.76,0.78,0.92,1.00,0.99,0.92,0.37,0.02,0.00,0.00,0.00,0.00,0.00, 0.00,0.00,0.00,0.00,0.00,0.00,0.00,0.00,0.03,0.05,0.02,0.11,0.42,0.88,0.94, 0.87,0.87,0.99,0.89,0.52,0.17,0.03,0.00,0.00,0.00,0.00,0.00,0.00,0.00,0.00, 0.00,0.00,0.00,0.00,0.00,0.00,0.02,0.10,0.68,0.90,1.00,1.00,1.00,0.97,0.74, 0.34,0.28,0.18,0.00,0.00,0.00,0.00,0.00,0.00,0.00,0.00,0.00,0.00,0.00,0.00, 0.00,0.00,0.00,0.20,0.68,0.87,0.97,1.00,1.00,1.00,0.99,0.53,0.06,0.06,0.04, 0.00,0.00,0.00,0.00,0.00,0.00,0.00,0.00,0.00,0.00,0.00,0.00,0.00,0.00,0.00, 0.00,0.48,0.89,0.88,0.94,0.88,0.80,0.71,0.18,0.01,0.00,0.00,0.00,0.00,0.00, 0.00,0.00,0.00,0.00,0.00,0.00,0.00,0.00,0.00,0.00,0.00,0.00,0.00,0.00,0.00, 0.00,0.00,0.00,0.00,0.00,0.00,0.00,0.00,0.00,0.00,0.00,0.00,0.00,0.00,0.00, 0.00,0.00,0.00,0.00,0.00,0.00,0.00,0.00,0.00,0.00,0.00,0.00,0.00,0.00,0.00, 0.00,0.00,0.00,0.00,0.00,0.00,0.00,0.00,0.00,0.00,0.00,0.00,0.00,0.00,0.00, 0.00,0.00,0.00,0.00,0.00,0.00,0.00,0.00,0.00,0.00,0.00,0.00,0.00,0.00,0.00, 0.00,0.00,0.00,0.00,0.00,0.00,0.00,0.00,0.00,0.00,0.00,0.00,0.00,0.00,0.00, 0.00,0.00,0.00,0.00] | correct\n",
      "1 | [[[0.00],  [0.00],  [0.00],  [0.00],  [0.00],  [0.00],  [0.00],  [0.00],  [0.00],  [0.00],  [0.00],  [0.00],  [0.00],  [0.00],  [0.00],  [0.00],  [0.00],  [0.00],  [0.00],  [0.00],  [0.00],  [0.00],  [0.00],  [0.00],  [0.00],  [0.00],  [0.00],  [0.00]], [[0.00],  [0.00],  [0.00],  [0.00],  [0.00],  [0.00],  [0.00],  [0.00],  [0.00],  [0.00],  [0.00],  [0.00],  [0.00],  [0.00],  [0.00],  [0.00],  [0.00],  [0.00],  [0.00],  [0.00],  [0.00],  [0.00],  [0.00],  [0.00],  [0.00],  [0.00],  [0.00],  [0.00]], [[0.00],  [0.00],  [0.00],  [0.00],  [0.00],  [0.00],  [0.00],  [0.00],  [0.00],  [0.00],  [0.00],  [0.00],  [0.00],  [0.00],  [0.00],  [0.00],  [0.00],  [0.00],  [0.00],  [0.00],  [0.00],  [0.00],  [0.00],  [0.00],  [0.00],  [0.00],  [0.00],  [0.00]], [[0.00],  [0.00],  [0.00],  [0.00],  [0.00],  [0.00],  [0.00],  [0.00],  [0.00],  [0.00],  [0.00],  [0.00],  [0.00],  [0.00],  [0.00],  [0.00],  [0.00],  [0.00],  [0.00],  [0.00],  [0.00],  [0.00],  [0.00],  [0.00],  [0.00],  [0.00],  [0.00],  [0.00]], [[0.00],  [0.00],  [0.00],  [0.00],  [0.00],  [0.00],  [0.00],  [0.00],  [0.00],  [0.00],  [0.00],  [0.00],  [0.00],  [0.00],  [0.00],  [0.20],  [0.62],  [0.99],  [0.62],  [0.20],  [0.00],  [0.00],  [0.00],  [0.00],  [0.00],  [0.00],  [0.00],  [0.00]], [[0.00],  [0.00],  [0.00],  [0.00],  [0.00],  [0.00],  [0.00],  [0.00],  [0.00],  [0.00],  [0.00],  [0.00],  [0.00],  [0.00],  [0.19],  [0.93],  [0.99],  [0.99],  [0.99],  [0.93],  [0.00],  [0.00],  [0.00],  [0.00],  [0.00],  [0.00],  [0.00],  [0.00]], [[0.00],  [0.00],  [0.00],  [0.00],  [0.00],  [0.00],  [0.00],  [0.00],  [0.00],  [0.00],  [0.00],  [0.00],  [0.00],  [0.21],  [0.89],  [0.99],  [0.99],  [0.94],  [0.91],  [0.99],  [0.22],  [0.02],  [0.00],  [0.00],  [0.00],  [0.00],  [0.00],  [0.00]], [[0.00],  [0.00],  [0.00],  [0.00],  [0.00],  [0.00],  [0.00],  [0.00],  [0.00],  [0.00],  [0.00],  [0.04],  [0.24],  [0.88],  [0.99],  [0.99],  [0.99],  [0.79],  [0.33],  [0.99],  [0.99],  [0.48],  [0.00],  [0.00],  [0.00],  [0.00],  [0.00],  [0.00]], [[0.00],  [0.00],  [0.00],  [0.00],  [0.00],  [0.00],  [0.00],  [0.00],  [0.00],  [0.00],  [0.00],  [0.64],  [0.99],  [0.99],  [0.99],  [0.99],  [0.99],  [0.99],  [0.38],  [0.74],  [0.99],  [0.65],  [0.00],  [0.00],  [0.00],  [0.00],  [0.00],  [0.00]], [[0.00],  [0.00],  [0.00],  [0.00],  [0.00],  [0.00],  [0.00],  [0.00],  [0.00],  [0.00],  [0.20],  [0.93],  [0.99],  [0.99],  [0.75],  [0.45],  [0.99],  [0.89],  [0.18],  [0.31],  [1.00],  [0.66],  [0.00],  [0.00],  [0.00],  [0.00],  [0.00],  [0.00]], [[0.00],  [0.00],  [0.00],  [0.00],  [0.00],  [0.00],  [0.00],  [0.00],  [0.00],  [0.19],  [0.93],  [0.99],  [0.99],  [0.70],  [0.05],  [0.29],  [0.47],  [0.08],  [0.00],  [0.00],  [0.99],  [0.95],  [0.20],  [0.00],  [0.00],  [0.00],  [0.00],  [0.00]], [[0.00],  [0.00],  [0.00],  [0.00],  [0.00],  [0.00],  [0.00],  [0.00],  [0.15],  [0.65],  [0.99],  [0.91],  [0.82],  [0.33],  [0.00],  [0.00],  [0.00],  [0.00],  [0.00],  [0.00],  [0.99],  [0.99],  [0.65],  [0.00],  [0.00],  [0.00],  [0.00],  [0.00]], [[0.00],  [0.00],  [0.00],  [0.00],  [0.00],  [0.00],  [0.00],  [0.03],  [0.70],  [0.99],  [0.94],  [0.28],  [0.07],  [0.11],  [0.00],  [0.00],  [0.00],  [0.00],  [0.00],  [0.00],  [0.99],  [0.99],  [0.76],  [0.00],  [0.00],  [0.00],  [0.00],  [0.00]], [[0.00],  [0.00],  [0.00],  [0.00],  [0.00],  [0.00],  [0.00],  [0.22],  [0.99],  [0.99],  [0.25],  [0.00],  [0.00],  [0.00],  [0.00],  [0.00],  [0.00],  [0.00],  [0.00],  [0.00],  [0.99],  [0.99],  [0.76],  [0.00],  [0.00],  [0.00],  [0.00],  [0.00]], [[0.00],  [0.00],  [0.00],  [0.00],  [0.00],  [0.00],  [0.00],  [0.78],  [0.99],  [0.75],  [0.00],  [0.00],  [0.00],  [0.00],  [0.00],  [0.00],  [0.00],  [0.00],  [0.00],  [0.00],  [1.00],  [0.99],  [0.77],  [0.00],  [0.00],  [0.00],  [0.00],  [0.00]], [[0.00],  [0.00],  [0.00],  [0.00],  [0.00],  [0.00],  [0.30],  [0.96],  [0.99],  [0.44],  [0.00],  [0.00],  [0.00],  [0.00],  [0.00],  [0.00],  [0.00],  [0.00],  [0.00],  [0.00],  [0.99],  [0.99],  [0.58],  [0.00],  [0.00],  [0.00],  [0.00],  [0.00]], [[0.00],  [0.00],  [0.00],  [0.00],  [0.00],  [0.00],  [0.33],  [0.99],  [0.90],  [0.10],  [0.00],  [0.00],  [0.00],  [0.00],  [0.00],  [0.00],  [0.00],  [0.00],  [0.03],  [0.53],  [0.99],  [0.73],  [0.05],  [0.00],  [0.00],  [0.00],  [0.00],  [0.00]], [[0.00],  [0.00],  [0.00],  [0.00],  [0.00],  [0.00],  [0.33],  [0.99],  [0.87],  [0.00],  [0.00],  [0.00],  [0.00],  [0.00],  [0.00],  [0.00],  [0.00],  [0.03],  [0.51],  [0.99],  [0.88],  [0.28],  [0.00],  [0.00],  [0.00],  [0.00],  [0.00],  [0.00]], [[0.00],  [0.00],  [0.00],  [0.00],  [0.00],  [0.00],  [0.33],  [0.99],  [0.57],  [0.00],  [0.00],  [0.00],  [0.00],  [0.00],  [0.00],  [0.00],  [0.19],  [0.65],  [0.99],  [0.68],  [0.00],  [0.00],  [0.00],  [0.00],  [0.00],  [0.00],  [0.00],  [0.00]], [[0.00],  [0.00],  [0.00],  [0.00],  [0.00],  [0.00],  [0.34],  [0.99],  [0.88],  [0.00],  [0.00],  [0.00],  [0.00],  [0.00],  [0.00],  [0.45],  [0.93],  [0.99],  [0.64],  [0.00],  [0.00],  [0.00],  [0.00],  [0.00],  [0.00],  [0.00],  [0.00],  [0.00]], [[0.00],  [0.00],  [0.00],  [0.00],  [0.00],  [0.00],  [0.33],  [0.99],  [0.98],  [0.57],  [0.19],  [0.11],  [0.33],  [0.70],  [0.88],  [0.99],  [0.87],  [0.65],  [0.22],  [0.00],  [0.00],  [0.00],  [0.00],  [0.00],  [0.00],  [0.00],  [0.00],  [0.00]], [[0.00],  [0.00],  [0.00],  [0.00],  [0.00],  [0.00],  [0.33],  [0.99],  [0.99],  [0.99],  [0.90],  [0.84],  [0.99],  [0.99],  [0.99],  [0.77],  [0.51],  [0.00],  [0.00],  [0.00],  [0.00],  [0.00],  [0.00],  [0.00],  [0.00],  [0.00],  [0.00],  [0.00]], [[0.00],  [0.00],  [0.00],  [0.00],  [0.00],  [0.00],  [0.11],  [0.78],  [0.99],  [0.99],  [0.99],  [0.99],  [0.99],  [0.91],  [0.57],  [0.00],  [0.00],  [0.00],  [0.00],  [0.00],  [0.00],  [0.00],  [0.00],  [0.00],  [0.00],  [0.00],  [0.00],  [0.00]], [[0.00],  [0.00],  [0.00],  [0.00],  [0.00],  [0.00],  [0.00],  [0.10],  [0.50],  [0.99],  [0.99],  [0.99],  [0.55],  [0.15],  [0.00],  [0.00],  [0.00],  [0.00],  [0.00],  [0.00],  [0.00],  [0.00],  [0.00],  [0.00],  [0.00],  [0.00],  [0.00],  [0.00]], [[0.00],  [0.00],  [0.00],  [0.00],  [0.00],  [0.00],  [0.00],  [0.00],  [0.00],  [0.00],  [0.00],  [0.00],  [0.00],  [0.00],  [0.00],  [0.00],  [0.00],  [0.00],  [0.00],  [0.00],  [0.00],  [0.00],  [0.00],  [0.00],  [0.00],  [0.00],  [0.00],  [0.00]], [[0.00],  [0.00],  [0.00],  [0.00],  [0.00],  [0.00],  [0.00],  [0.00],  [0.00],  [0.00],  [0.00],  [0.00],  [0.00],  [0.00],  [0.00],  [0.00],  [0.00],  [0.00],  [0.00],  [0.00],  [0.00],  [0.00],  [0.00],  [0.00],  [0.00],  [0.00],  [0.00],  [0.00]], [[0.00],  [0.00],  [0.00],  [0.00],  [0.00],  [0.00],  [0.00],  [0.00],  [0.00],  [0.00],  [0.00],  [0.00],  [0.00],  [0.00],  [0.00],  [0.00],  [0.00],  [0.00],  [0.00],  [0.00],  [0.00],  [0.00],  [0.00],  [0.00],  [0.00],  [0.00],  [0.00],  [0.00]], [[0.00],  [0.00],  [0.00],  [0.00],  [0.00],  [0.00],  [0.00],  [0.00],  [0.00],  [0.00],  [0.00],  [0.00],  [0.00],  [0.00],  [0.00],  [0.00],  [0.00],  [0.00],  [0.00],  [0.00],  [0.00],  [0.00],  [0.00],  [0.00],  [0.00],  [0.00],  [0.00],  [0.00]]] | [0.00,0.00,0.00,0.00,0.00,0.00,0.00,0.00,0.00,0.00,0.00,0.00,0.00,0.00,0.00, 0.00,0.00,0.00,0.00,0.00,0.00,0.00,0.00,0.00,0.00,0.00,0.00,0.00,0.00,0.00, 0.00,0.00,0.00,0.00,0.00,0.00,0.00,0.00,0.00,0.00,0.00,0.00,0.00,0.00,0.00, 0.00,0.00,0.00,0.00,0.00,0.00,0.00,0.00,0.00,0.00,0.00,0.00,0.00,0.00,0.00, 0.00,0.00,0.00,0.00,0.00,0.00,0.00,0.00,0.00,0.00,0.00,0.00,0.00,0.00,0.00, 0.00,0.00,0.00,0.00,0.00,0.00,0.00,0.00,0.00,0.00,0.00,0.00,0.00,0.00,0.00, 0.00,0.00,0.00,0.00,0.00,0.00,0.00,0.00,0.00,0.00,0.00,0.00,0.00,0.00,0.00, 0.00,0.00,0.00,0.00,0.00,0.00,0.00,0.00,0.00,0.00,0.00,0.00,0.00,0.00,0.00, 0.00,0.00,0.00,0.00,0.00,0.00,0.00,0.20,0.62,0.99,0.62,0.20,0.00,0.00,0.00, 0.00,0.00,0.00,0.00,0.00,0.00,0.00,0.00,0.00,0.00,0.00,0.00,0.00,0.00,0.00, 0.00,0.00,0.00,0.00,0.19,0.93,0.99,0.99,0.99,0.93,0.00,0.00,0.00,0.00,0.00, 0.00,0.00,0.00,0.00,0.00,0.00,0.00,0.00,0.00,0.00,0.00,0.00,0.00,0.00,0.00, 0.00,0.21,0.89,0.99,0.99,0.94,0.91,0.99,0.22,0.02,0.00,0.00,0.00,0.00,0.00, 0.00,0.00,0.00,0.00,0.00,0.00,0.00,0.00,0.00,0.00,0.00,0.00,0.04,0.24,0.88, 0.99,0.99,0.99,0.79,0.33,0.99,0.99,0.48,0.00,0.00,0.00,0.00,0.00,0.00,0.00, 0.00,0.00,0.00,0.00,0.00,0.00,0.00,0.00,0.00,0.00,0.64,0.99,0.99,0.99,0.99, 0.99,0.99,0.38,0.74,0.99,0.65,0.00,0.00,0.00,0.00,0.00,0.00,0.00,0.00,0.00, 0.00,0.00,0.00,0.00,0.00,0.00,0.00,0.20,0.93,0.99,0.99,0.75,0.45,0.99,0.89, 0.18,0.31,1.00,0.66,0.00,0.00,0.00,0.00,0.00,0.00,0.00,0.00,0.00,0.00,0.00, 0.00,0.00,0.00,0.00,0.19,0.93,0.99,0.99,0.70,0.05,0.29,0.47,0.08,0.00,0.00, 0.99,0.95,0.20,0.00,0.00,0.00,0.00,0.00,0.00,0.00,0.00,0.00,0.00,0.00,0.00, 0.00,0.15,0.65,0.99,0.91,0.82,0.33,0.00,0.00,0.00,0.00,0.00,0.00,0.99,0.99, 0.65,0.00,0.00,0.00,0.00,0.00,0.00,0.00,0.00,0.00,0.00,0.00,0.00,0.03,0.70, 0.99,0.94,0.28,0.07,0.11,0.00,0.00,0.00,0.00,0.00,0.00,0.99,0.99,0.76,0.00, 0.00,0.00,0.00,0.00,0.00,0.00,0.00,0.00,0.00,0.00,0.00,0.22,0.99,0.99,0.25, 0.00,0.00,0.00,0.00,0.00,0.00,0.00,0.00,0.00,0.99,0.99,0.76,0.00,0.00,0.00, 0.00,0.00,0.00,0.00,0.00,0.00,0.00,0.00,0.00,0.78,0.99,0.75,0.00,0.00,0.00, 0.00,0.00,0.00,0.00,0.00,0.00,0.00,1.00,0.99,0.77,0.00,0.00,0.00,0.00,0.00, 0.00,0.00,0.00,0.00,0.00,0.00,0.30,0.96,0.99,0.44,0.00,0.00,0.00,0.00,0.00, 0.00,0.00,0.00,0.00,0.00,0.99,0.99,0.58,0.00,0.00,0.00,0.00,0.00,0.00,0.00, 0.00,0.00,0.00,0.00,0.33,0.99,0.90,0.10,0.00,0.00,0.00,0.00,0.00,0.00,0.00, 0.00,0.03,0.53,0.99,0.73,0.05,0.00,0.00,0.00,0.00,0.00,0.00,0.00,0.00,0.00, 0.00,0.00,0.33,0.99,0.87,0.00,0.00,0.00,0.00,0.00,0.00,0.00,0.00,0.03,0.51, 0.99,0.88,0.28,0.00,0.00,0.00,0.00,0.00,0.00,0.00,0.00,0.00,0.00,0.00,0.00, 0.33,0.99,0.57,0.00,0.00,0.00,0.00,0.00,0.00,0.00,0.19,0.65,0.99,0.68,0.00, 0.00,0.00,0.00,0.00,0.00,0.00,0.00,0.00,0.00,0.00,0.00,0.00,0.00,0.34,0.99, 0.88,0.00,0.00,0.00,0.00,0.00,0.00,0.45,0.93,0.99,0.64,0.00,0.00,0.00,0.00, 0.00,0.00,0.00,0.00,0.00,0.00,0.00,0.00,0.00,0.00,0.00,0.33,0.99,0.98,0.57, 0.19,0.11,0.33,0.70,0.88,0.99,0.87,0.65,0.22,0.00,0.00,0.00,0.00,0.00,0.00, 0.00,0.00,0.00,0.00,0.00,0.00,0.00,0.00,0.00,0.33,0.99,0.99,0.99,0.90,0.84, 0.99,0.99,0.99,0.77,0.51,0.00,0.00,0.00,0.00,0.00,0.00,0.00,0.00,0.00,0.00, 0.00,0.00,0.00,0.00,0.00,0.00,0.00,0.11,0.78,0.99,0.99,0.99,0.99,0.99,0.91, 0.57,0.00,0.00,0.00,0.00,0.00,0.00,0.00,0.00,0.00,0.00,0.00,0.00,0.00,0.00, 0.00,0.00,0.00,0.00,0.00,0.00,0.10,0.50,0.99,0.99,0.99,0.55,0.15,0.00,0.00, 0.00,0.00,0.00,0.00,0.00,0.00,0.00,0.00,0.00,0.00,0.00,0.00,0.00,0.00,0.00, 0.00,0.00,0.00,0.00,0.00,0.00,0.00,0.00,0.00,0.00,0.00,0.00,0.00,0.00,0.00, 0.00,0.00,0.00,0.00,0.00,0.00,0.00,0.00,0.00,0.00,0.00,0.00,0.00,0.00,0.00, 0.00,0.00,0.00,0.00,0.00,0.00,0.00,0.00,0.00,0.00,0.00,0.00,0.00,0.00,0.00, 0.00,0.00,0.00,0.00,0.00,0.00,0.00,0.00,0.00,0.00,0.00,0.00,0.00,0.00,0.00, 0.00,0.00,0.00,0.00,0.00,0.00,0.00,0.00,0.00,0.00,0.00,0.00,0.00,0.00,0.00, 0.00,0.00,0.00,0.00,0.00,0.00,0.00,0.00,0.00,0.00,0.00,0.00,0.00,0.00,0.00, 0.00,0.00,0.00,0.00,0.00,0.00,0.00,0.00,0.00,0.00,0.00,0.00,0.00,0.00,0.00, 0.00,0.00,0.00,0.00] | [0.00,0.00,0.00,0.00,0.00,0.00,0.00,0.00,0.00,0.00,0.00,0.00,0.00,0.00,0.00, 0.00,0.00,0.00,0.00,0.00,0.00,0.00,0.00,0.00,0.00,0.00,0.00,0.00,0.00,0.00, 0.00,0.00,0.00,0.00,0.00,0.00,0.00,0.00,0.00,0.00,0.00,0.00,0.00,0.00,0.00, 0.00,0.00,0.00,0.00,0.00,0.00,0.00,0.00,0.00,0.00,0.00,0.00,0.00,0.00,0.00, 0.00,0.00,0.00,0.00,0.00,0.00,0.00,0.00,0.00,0.00,0.00,0.00,0.00,0.00,0.00, 0.00,0.00,0.00,0.00,0.00,0.00,0.00,0.00,0.00,0.00,0.00,0.00,0.00,0.00,0.00, 0.00,0.00,0.00,0.00,0.00,0.00,0.00,0.00,0.00,0.00,0.00,0.00,0.00,0.00,0.00, 0.00,0.00,0.00,0.00,0.00,0.00,0.00,0.00,0.00,0.00,0.00,0.00,0.00,0.00,0.00, 0.00,0.00,0.00,0.00,0.00,0.00,0.00,0.20,0.60,0.86,0.61,0.17,0.00,0.00,0.00, 0.00,0.00,0.00,0.00,0.00,0.00,0.00,0.00,0.00,0.00,0.00,0.00,0.00,0.00,0.00, 0.00,0.02,0.02,0.02,0.14,0.94,0.96,0.99,0.99,0.96,0.04,0.00,0.02,0.00,0.00, 0.00,0.00,0.00,0.00,0.00,0.00,0.00,0.00,0.00,0.00,0.00,0.01,0.01,0.02,0.02, 0.02,0.20,0.93,0.98,1.00,0.97,0.99,1.00,0.22,0.01,0.01,0.00,0.00,0.00,0.00, 0.00,0.00,0.00,0.00,0.00,0.00,0.00,0.00,0.01,0.02,0.02,0.04,0.03,0.25,0.94, 0.98,1.00,1.00,0.84,0.35,0.99,0.97,0.47,0.02,0.00,0.00,0.00,0.00,0.00,0.00, 0.00,0.00,0.00,0.00,0.00,0.00,0.01,0.01,0.03,0.01,0.63,0.99,0.97,1.00,0.99, 1.00,0.99,0.43,0.83,0.98,0.66,0.02,0.00,0.00,0.00,0.00,0.00,0.00,0.00,0.00, 0.00,0.00,0.00,0.00,0.00,0.01,0.01,0.16,0.98,0.96,0.87,0.70,0.46,0.98,0.94, 0.28,0.30,0.99,0.66,0.01,0.00,0.00,0.00,0.00,0.00,0.00,0.00,0.00,0.00,0.00, 0.00,0.00,0.00,0.00,0.19,0.93,0.98,0.91,0.66,0.01,0.31,0.46,0.22,0.10,0.01, 0.95,0.93,0.17,0.00,0.00,0.00,0.00,0.00,0.00,0.00,0.00,0.00,0.00,0.00,0.00, 0.00,0.14,0.64,0.97,0.87,0.69,0.12,0.00,0.00,0.15,0.16,0.07,0.00,0.98,0.94, 0.64,0.00,0.00,0.00,0.00,0.00,0.00,0.00,0.00,0.00,0.00,0.00,0.00,0.01,0.70, 0.96,0.93,0.25,0.03,0.10,0.03,0.09,0.21,0.08,0.00,0.01,0.96,0.95,0.76,0.00, 0.00,0.00,0.00,0.00,0.00,0.00,0.00,0.00,0.00,0.00,0.00,0.22,0.97,0.99,0.23, 0.04,0.04,0.05,0.07,0.12,0.03,0.01,0.00,0.01,0.94,0.94,0.75,0.00,0.00,0.00, 0.00,0.00,0.00,0.00,0.00,0.00,0.00,0.00,0.00,0.77,0.99,0.75,0.05,0.05,0.03, 0.06,0.11,0.17,0.06,0.03,0.00,0.00,0.89,0.91,0.77,0.00,0.00,0.00,0.00,0.00, 0.00,0.00,0.00,0.00,0.00,0.00,0.19,0.93,0.97,0.41,0.01,0.02,0.07,0.06,0.06, 0.02,0.02,0.00,0.01,0.02,0.96,0.92,0.56,0.00,0.00,0.00,0.00,0.00,0.00,0.00, 0.00,0.00,0.00,0.00,0.28,0.93,0.88,0.10,0.10,0.08,0.06,0.01,0.00,0.02,0.00, 0.02,0.08,0.44,0.95,0.72,0.03,0.00,0.00,0.00,0.00,0.00,0.00,0.00,0.00,0.00, 0.00,0.00,0.30,0.86,0.84,0.00,0.01,0.03,0.01,0.01,0.00,0.00,0.02,0.01,0.50, 0.97,0.88,0.28,0.00,0.00,0.00,0.00,0.00,0.00,0.00,0.00,0.00,0.00,0.00,0.00, 0.30,0.88,0.57,0.00,0.02,0.02,0.02,0.01,0.02,0.01,0.18,0.64,0.98,0.69,0.00, 0.00,0.00,0.01,0.00,0.00,0.00,0.00,0.00,0.00,0.00,0.00,0.00,0.00,0.34,0.97, 0.90,0.00,0.01,0.02,0.01,0.01,0.00,0.44,0.97,0.99,0.62,0.01,0.00,0.00,0.00, 0.00,0.00,0.00,0.00,0.00,0.00,0.00,0.00,0.00,0.00,0.01,0.34,0.98,0.93,0.56, 0.17,0.10,0.32,0.66,0.93,1.00,0.93,0.67,0.21,0.02,0.00,0.00,0.00,0.00,0.00, 0.00,0.00,0.00,0.00,0.00,0.00,0.00,0.00,0.03,0.33,0.98,0.98,0.98,0.89,0.85, 0.93,0.99,1.00,0.84,0.53,0.02,0.00,0.00,0.00,0.00,0.00,0.00,0.00,0.00,0.00, 0.00,0.00,0.00,0.00,0.00,0.00,0.02,0.09,0.77,1.00,1.00,1.00,1.00,0.99,1.00, 0.65,0.09,0.04,0.00,0.00,0.00,0.00,0.00,0.00,0.00,0.00,0.00,0.00,0.00,0.00, 0.00,0.00,0.00,0.01,0.02,0.02,0.09,0.51,1.00,1.00,0.99,0.52,0.10,0.14,0.05, 0.00,0.00,0.00,0.00,0.00,0.00,0.00,0.00,0.00,0.00,0.00,0.00,0.00,0.00,0.00, 0.00,0.01,0.03,0.03,0.02,0.03,0.08,0.09,0.06,0.01,0.00,0.00,0.00,0.00,0.00, 0.00,0.00,0.00,0.00,0.00,0.00,0.00,0.00,0.00,0.00,0.00,0.00,0.00,0.00,0.00, 0.00,0.00,0.00,0.00,0.00,0.00,0.00,0.00,0.00,0.00,0.00,0.01,0.00,0.00,0.00, 0.00,0.00,0.00,0.00,0.00,0.00,0.00,0.00,0.00,0.00,0.00,0.00,0.00,0.00,0.00, 0.00,0.00,0.00,0.00,0.00,0.00,0.00,0.00,0.00,0.00,0.00,0.00,0.00,0.00,0.00, 0.00,0.00,0.00,0.00,0.00,0.00,0.00,0.00,0.00,0.00,0.00,0.00,0.00,0.00,0.00, 0.00,0.00,0.00,0.00,0.00,0.00,0.00,0.00,0.00,0.00,0.00,0.00,0.00,0.00,0.00, 0.00,0.00,0.00,0.00] | correct\n",
      "2 | [[[0.00],  [0.00],  [0.00],  [0.00],  [0.00],  [0.00],  [0.00],  [0.00],  [0.00],  [0.00],  [0.00],  [0.00],  [0.00],  [0.00],  [0.00],  [0.00],  [0.00],  [0.00],  [0.00],  [0.00],  [0.00],  [0.00],  [0.00],  [0.00],  [0.00],  [0.00],  [0.00],  [0.00]], [[0.00],  [0.00],  [0.00],  [0.00],  [0.00],  [0.00],  [0.00],  [0.00],  [0.00],  [0.00],  [0.00],  [0.00],  [0.00],  [0.00],  [0.00],  [0.00],  [0.00],  [0.00],  [0.00],  [0.00],  [0.00],  [0.00],  [0.00],  [0.00],  [0.00],  [0.00],  [0.00],  [0.00]], [[0.00],  [0.00],  [0.00],  [0.00],  [0.00],  [0.00],  [0.00],  [0.00],  [0.00],  [0.00],  [0.00],  [0.00],  [0.00],  [0.00],  [0.00],  [0.00],  [0.00],  [0.00],  [0.00],  [0.00],  [0.00],  [0.00],  [0.00],  [0.00],  [0.00],  [0.00],  [0.00],  [0.00]], [[0.00],  [0.00],  [0.00],  [0.00],  [0.00],  [0.00],  [0.00],  [0.00],  [0.00],  [0.00],  [0.00],  [0.00],  [0.00],  [0.00],  [0.00],  [0.00],  [0.00],  [0.00],  [0.00],  [0.00],  [0.00],  [0.00],  [0.00],  [0.00],  [0.00],  [0.00],  [0.00],  [0.00]], [[0.00],  [0.00],  [0.00],  [0.00],  [0.00],  [0.00],  [0.00],  [0.00],  [0.00],  [0.00],  [0.00],  [0.00],  [0.00],  [0.00],  [0.00],  [0.00],  [0.00],  [0.00],  [0.00],  [0.00],  [0.00],  [0.00],  [0.00],  [0.00],  [0.00],  [0.00],  [0.00],  [0.00]], [[0.00],  [0.00],  [0.00],  [0.00],  [0.00],  [0.00],  [0.00],  [0.00],  [0.00],  [0.00],  [0.00],  [0.00],  [0.00],  [0.00],  [0.00],  [0.00],  [0.00],  [0.00],  [0.00],  [0.00],  [0.26],  [0.91],  [0.15],  [0.00],  [0.00],  [0.00],  [0.00],  [0.00]], [[0.00],  [0.00],  [0.00],  [0.00],  [0.24],  [0.32],  [0.00],  [0.00],  [0.00],  [0.00],  [0.00],  [0.00],  [0.00],  [0.00],  [0.00],  [0.00],  [0.00],  [0.00],  [0.00],  [0.00],  [0.47],  [0.71],  [0.15],  [0.00],  [0.00],  [0.00],  [0.00],  [0.00]], [[0.00],  [0.00],  [0.00],  [0.00],  [0.49],  [0.64],  [0.00],  [0.00],  [0.00],  [0.00],  [0.00],  [0.00],  [0.00],  [0.00],  [0.00],  [0.00],  [0.00],  [0.00],  [0.00],  [0.01],  [0.60],  [0.82],  [0.16],  [0.00],  [0.00],  [0.00],  [0.00],  [0.00]], [[0.00],  [0.00],  [0.00],  [0.00],  [0.86],  [0.64],  [0.00],  [0.00],  [0.00],  [0.00],  [0.00],  [0.00],  [0.00],  [0.00],  [0.00],  [0.00],  [0.00],  [0.00],  [0.00],  [0.11],  [1.00],  [0.64],  [0.00],  [0.00],  [0.00],  [0.00],  [0.00],  [0.00]], [[0.00],  [0.00],  [0.00],  [0.00],  [0.87],  [0.64],  [0.00],  [0.00],  [0.00],  [0.00],  [0.00],  [0.00],  [0.00],  [0.00],  [0.00],  [0.00],  [0.00],  [0.00],  [0.00],  [0.72],  [1.00],  [0.49],  [0.00],  [0.00],  [0.00],  [0.00],  [0.00],  [0.00]], [[0.00],  [0.00],  [0.00],  [0.18],  [0.96],  [0.64],  [0.00],  [0.00],  [0.00],  [0.00],  [0.00],  [0.00],  [0.00],  [0.00],  [0.00],  [0.00],  [0.00],  [0.00],  [0.00],  [0.78],  [1.00],  [0.22],  [0.00],  [0.00],  [0.00],  [0.00],  [0.00],  [0.00]], [[0.00],  [0.00],  [0.00],  [0.47],  [1.00],  [0.64],  [0.00],  [0.00],  [0.00],  [0.00],  [0.00],  [0.00],  [0.00],  [0.00],  [0.00],  [0.00],  [0.00],  [0.00],  [0.09],  [0.91],  [1.00],  [0.11],  [0.00],  [0.00],  [0.00],  [0.00],  [0.00],  [0.00]], [[0.00],  [0.00],  [0.00],  [0.62],  [1.00],  [0.47],  [0.00],  [0.00],  [0.00],  [0.00],  [0.00],  [0.00],  [0.00],  [0.00],  [0.00],  [0.00],  [0.00],  [0.00],  [0.64],  [1.00],  [0.85],  [0.06],  [0.00],  [0.00],  [0.00],  [0.00],  [0.00],  [0.00]], [[0.00],  [0.00],  [0.00],  [0.62],  [1.00],  [0.26],  [0.00],  [0.00],  [0.00],  [0.00],  [0.00],  [0.00],  [0.00],  [0.00],  [0.00],  [0.05],  [0.34],  [0.70],  [0.97],  [1.00],  [0.36],  [0.00],  [0.00],  [0.00],  [0.00],  [0.00],  [0.00],  [0.00]], [[0.00],  [0.00],  [0.00],  [0.62],  [1.00],  [0.33],  [0.00],  [0.00],  [0.00],  [0.18],  [0.19],  [0.45],  [0.56],  [0.59],  [0.95],  [0.95],  [0.92],  [0.70],  [0.95],  [0.99],  [0.16],  [0.00],  [0.00],  [0.00],  [0.00],  [0.00],  [0.00],  [0.00]], [[0.00],  [0.00],  [0.00],  [0.59],  [0.99],  [0.93],  [0.81],  [0.81],  [0.81],  [0.99],  [1.00],  [0.98],  [0.94],  [0.78],  [0.56],  [0.36],  [0.11],  [0.02],  [0.91],  [0.98],  [0.00],  [0.00],  [0.00],  [0.00],  [0.00],  [0.00],  [0.00],  [0.00]], [[0.00],  [0.00],  [0.00],  [0.00],  [0.47],  [0.69],  [0.69],  [0.69],  [0.69],  [0.69],  [0.38],  [0.22],  [0.00],  [0.00],  [0.00],  [0.00],  [0.00],  [0.40],  [1.00],  [0.86],  [0.00],  [0.00],  [0.00],  [0.00],  [0.00],  [0.00],  [0.00],  [0.00]], [[0.00],  [0.00],  [0.00],  [0.00],  [0.00],  [0.00],  [0.00],  [0.00],  [0.00],  [0.00],  [0.00],  [0.00],  [0.00],  [0.00],  [0.00],  [0.00],  [0.00],  [0.66],  [1.00],  [0.54],  [0.00],  [0.00],  [0.00],  [0.00],  [0.00],  [0.00],  [0.00],  [0.00]], [[0.00],  [0.00],  [0.00],  [0.00],  [0.00],  [0.00],  [0.00],  [0.00],  [0.00],  [0.00],  [0.00],  [0.00],  [0.00],  [0.00],  [0.00],  [0.00],  [0.00],  [0.66],  [1.00],  [0.22],  [0.00],  [0.00],  [0.00],  [0.00],  [0.00],  [0.00],  [0.00],  [0.00]], [[0.00],  [0.00],  [0.00],  [0.00],  [0.00],  [0.00],  [0.00],  [0.00],  [0.00],  [0.00],  [0.00],  [0.00],  [0.00],  [0.00],  [0.00],  [0.00],  [0.00],  [0.66],  [1.00],  [0.22],  [0.00],  [0.00],  [0.00],  [0.00],  [0.00],  [0.00],  [0.00],  [0.00]], [[0.00],  [0.00],  [0.00],  [0.00],  [0.00],  [0.00],  [0.00],  [0.00],  [0.00],  [0.00],  [0.00],  [0.00],  [0.00],  [0.00],  [0.00],  [0.00],  [0.00],  [0.66],  [1.00],  [0.37],  [0.00],  [0.00],  [0.00],  [0.00],  [0.00],  [0.00],  [0.00],  [0.00]], [[0.00],  [0.00],  [0.00],  [0.00],  [0.00],  [0.00],  [0.00],  [0.00],  [0.00],  [0.00],  [0.00],  [0.00],  [0.00],  [0.00],  [0.00],  [0.00],  [0.00],  [0.66],  [1.00],  [0.38],  [0.00],  [0.00],  [0.00],  [0.00],  [0.00],  [0.00],  [0.00],  [0.00]], [[0.00],  [0.00],  [0.00],  [0.00],  [0.00],  [0.00],  [0.00],  [0.00],  [0.00],  [0.00],  [0.00],  [0.00],  [0.00],  [0.00],  [0.00],  [0.00],  [0.00],  [0.66],  [1.00],  [0.60],  [0.00],  [0.00],  [0.00],  [0.00],  [0.00],  [0.00],  [0.00],  [0.00]], [[0.00],  [0.00],  [0.00],  [0.00],  [0.00],  [0.00],  [0.00],  [0.00],  [0.00],  [0.00],  [0.00],  [0.00],  [0.00],  [0.00],  [0.00],  [0.00],  [0.00],  [0.66],  [1.00],  [0.60],  [0.00],  [0.00],  [0.00],  [0.00],  [0.00],  [0.00],  [0.00],  [0.00]], [[0.00],  [0.00],  [0.00],  [0.00],  [0.00],  [0.00],  [0.00],  [0.00],  [0.00],  [0.00],  [0.00],  [0.00],  [0.00],  [0.00],  [0.00],  [0.00],  [0.00],  [0.38],  [1.00],  [0.60],  [0.00],  [0.00],  [0.00],  [0.00],  [0.00],  [0.00],  [0.00],  [0.00]], [[0.00],  [0.00],  [0.00],  [0.00],  [0.00],  [0.00],  [0.00],  [0.00],  [0.00],  [0.00],  [0.00],  [0.00],  [0.00],  [0.00],  [0.00],  [0.00],  [0.00],  [0.00],  [0.00],  [0.00],  [0.00],  [0.00],  [0.00],  [0.00],  [0.00],  [0.00],  [0.00],  [0.00]], [[0.00],  [0.00],  [0.00],  [0.00],  [0.00],  [0.00],  [0.00],  [0.00],  [0.00],  [0.00],  [0.00],  [0.00],  [0.00],  [0.00],  [0.00],  [0.00],  [0.00],  [0.00],  [0.00],  [0.00],  [0.00],  [0.00],  [0.00],  [0.00],  [0.00],  [0.00],  [0.00],  [0.00]], [[0.00],  [0.00],  [0.00],  [0.00],  [0.00],  [0.00],  [0.00],  [0.00],  [0.00],  [0.00],  [0.00],  [0.00],  [0.00],  [0.00],  [0.00],  [0.00],  [0.00],  [0.00],  [0.00],  [0.00],  [0.00],  [0.00],  [0.00],  [0.00],  [0.00],  [0.00],  [0.00],  [0.00]]] | [0.00,0.00,0.00,0.00,0.00,0.00,0.00,0.00,0.00,0.00,0.00,0.00,0.00,0.00,0.00, 0.00,0.00,0.00,0.00,0.00,0.00,0.00,0.00,0.00,0.00,0.00,0.00,0.00,0.00,0.00, 0.00,0.00,0.00,0.00,0.00,0.00,0.00,0.00,0.00,0.00,0.00,0.00,0.00,0.00,0.00, 0.00,0.00,0.00,0.00,0.00,0.00,0.00,0.00,0.00,0.00,0.00,0.00,0.00,0.00,0.00, 0.00,0.00,0.00,0.00,0.00,0.00,0.00,0.00,0.00,0.00,0.00,0.00,0.00,0.00,0.00, 0.00,0.00,0.00,0.00,0.00,0.00,0.00,0.00,0.00,0.00,0.00,0.00,0.00,0.00,0.00, 0.00,0.00,0.00,0.00,0.00,0.00,0.00,0.00,0.00,0.00,0.00,0.00,0.00,0.00,0.00, 0.00,0.00,0.00,0.00,0.00,0.00,0.00,0.00,0.00,0.00,0.00,0.00,0.00,0.00,0.00, 0.00,0.00,0.00,0.00,0.00,0.00,0.00,0.00,0.00,0.00,0.00,0.00,0.00,0.00,0.00, 0.00,0.00,0.00,0.00,0.00,0.00,0.00,0.00,0.00,0.00,0.00,0.00,0.00,0.00,0.00, 0.00,0.00,0.00,0.00,0.00,0.00,0.00,0.00,0.00,0.00,0.26,0.91,0.15,0.00,0.00, 0.00,0.00,0.00,0.00,0.00,0.00,0.00,0.24,0.32,0.00,0.00,0.00,0.00,0.00,0.00, 0.00,0.00,0.00,0.00,0.00,0.00,0.00,0.00,0.47,0.71,0.15,0.00,0.00,0.00,0.00, 0.00,0.00,0.00,0.00,0.00,0.49,0.64,0.00,0.00,0.00,0.00,0.00,0.00,0.00,0.00, 0.00,0.00,0.00,0.00,0.00,0.01,0.60,0.82,0.16,0.00,0.00,0.00,0.00,0.00,0.00, 0.00,0.00,0.00,0.86,0.64,0.00,0.00,0.00,0.00,0.00,0.00,0.00,0.00,0.00,0.00, 0.00,0.00,0.00,0.11,1.00,0.64,0.00,0.00,0.00,0.00,0.00,0.00,0.00,0.00,0.00, 0.00,0.87,0.64,0.00,0.00,0.00,0.00,0.00,0.00,0.00,0.00,0.00,0.00,0.00,0.00, 0.00,0.72,1.00,0.49,0.00,0.00,0.00,0.00,0.00,0.00,0.00,0.00,0.00,0.18,0.96, 0.64,0.00,0.00,0.00,0.00,0.00,0.00,0.00,0.00,0.00,0.00,0.00,0.00,0.00,0.78, 1.00,0.22,0.00,0.00,0.00,0.00,0.00,0.00,0.00,0.00,0.00,0.47,1.00,0.64,0.00, 0.00,0.00,0.00,0.00,0.00,0.00,0.00,0.00,0.00,0.00,0.00,0.09,0.91,1.00,0.11, 0.00,0.00,0.00,0.00,0.00,0.00,0.00,0.00,0.00,0.62,1.00,0.47,0.00,0.00,0.00, 0.00,0.00,0.00,0.00,0.00,0.00,0.00,0.00,0.00,0.64,1.00,0.85,0.06,0.00,0.00, 0.00,0.00,0.00,0.00,0.00,0.00,0.00,0.62,1.00,0.26,0.00,0.00,0.00,0.00,0.00, 0.00,0.00,0.00,0.00,0.05,0.34,0.70,0.97,1.00,0.36,0.00,0.00,0.00,0.00,0.00, 0.00,0.00,0.00,0.00,0.00,0.62,1.00,0.33,0.00,0.00,0.00,0.18,0.19,0.45,0.56, 0.59,0.95,0.95,0.92,0.70,0.95,0.99,0.16,0.00,0.00,0.00,0.00,0.00,0.00,0.00, 0.00,0.00,0.00,0.59,0.99,0.93,0.81,0.81,0.81,0.99,1.00,0.98,0.94,0.78,0.56, 0.36,0.11,0.02,0.91,0.98,0.00,0.00,0.00,0.00,0.00,0.00,0.00,0.00,0.00,0.00, 0.00,0.00,0.47,0.69,0.69,0.69,0.69,0.69,0.38,0.22,0.00,0.00,0.00,0.00,0.00, 0.40,1.00,0.86,0.00,0.00,0.00,0.00,0.00,0.00,0.00,0.00,0.00,0.00,0.00,0.00, 0.00,0.00,0.00,0.00,0.00,0.00,0.00,0.00,0.00,0.00,0.00,0.00,0.00,0.66,1.00, 0.54,0.00,0.00,0.00,0.00,0.00,0.00,0.00,0.00,0.00,0.00,0.00,0.00,0.00,0.00, 0.00,0.00,0.00,0.00,0.00,0.00,0.00,0.00,0.00,0.00,0.00,0.66,1.00,0.22,0.00, 0.00,0.00,0.00,0.00,0.00,0.00,0.00,0.00,0.00,0.00,0.00,0.00,0.00,0.00,0.00, 0.00,0.00,0.00,0.00,0.00,0.00,0.00,0.00,0.00,0.66,1.00,0.22,0.00,0.00,0.00, 0.00,0.00,0.00,0.00,0.00,0.00,0.00,0.00,0.00,0.00,0.00,0.00,0.00,0.00,0.00, 0.00,0.00,0.00,0.00,0.00,0.00,0.00,0.66,1.00,0.37,0.00,0.00,0.00,0.00,0.00, 0.00,0.00,0.00,0.00,0.00,0.00,0.00,0.00,0.00,0.00,0.00,0.00,0.00,0.00,0.00, 0.00,0.00,0.00,0.00,0.00,0.66,1.00,0.38,0.00,0.00,0.00,0.00,0.00,0.00,0.00, 0.00,0.00,0.00,0.00,0.00,0.00,0.00,0.00,0.00,0.00,0.00,0.00,0.00,0.00,0.00, 0.00,0.00,0.00,0.66,1.00,0.60,0.00,0.00,0.00,0.00,0.00,0.00,0.00,0.00,0.00, 0.00,0.00,0.00,0.00,0.00,0.00,0.00,0.00,0.00,0.00,0.00,0.00,0.00,0.00,0.00, 0.00,0.66,1.00,0.60,0.00,0.00,0.00,0.00,0.00,0.00,0.00,0.00,0.00,0.00,0.00, 0.00,0.00,0.00,0.00,0.00,0.00,0.00,0.00,0.00,0.00,0.00,0.00,0.00,0.00,0.38, 1.00,0.60,0.00,0.00,0.00,0.00,0.00,0.00,0.00,0.00,0.00,0.00,0.00,0.00,0.00, 0.00,0.00,0.00,0.00,0.00,0.00,0.00,0.00,0.00,0.00,0.00,0.00,0.00,0.00,0.00, 0.00,0.00,0.00,0.00,0.00,0.00,0.00,0.00,0.00,0.00,0.00,0.00,0.00,0.00,0.00, 0.00,0.00,0.00,0.00,0.00,0.00,0.00,0.00,0.00,0.00,0.00,0.00,0.00,0.00,0.00, 0.00,0.00,0.00,0.00,0.00,0.00,0.00,0.00,0.00,0.00,0.00,0.00,0.00,0.00,0.00, 0.00,0.00,0.00,0.00,0.00,0.00,0.00,0.00,0.00,0.00,0.00,0.00,0.00,0.00,0.00, 0.00,0.00,0.00,0.00] | [0.00,0.00,0.00,0.00,0.00,0.00,0.00,0.00,0.00,0.00,0.00,0.00,0.00,0.00,0.00, 0.00,0.00,0.00,0.00,0.00,0.00,0.00,0.00,0.00,0.00,0.00,0.00,0.00,0.00,0.00, 0.00,0.00,0.00,0.00,0.00,0.00,0.00,0.00,0.00,0.00,0.00,0.00,0.00,0.00,0.00, 0.00,0.00,0.00,0.00,0.00,0.00,0.00,0.00,0.00,0.00,0.00,0.00,0.00,0.00,0.00, 0.00,0.00,0.00,0.00,0.00,0.00,0.00,0.00,0.00,0.00,0.00,0.00,0.00,0.00,0.00, 0.00,0.00,0.00,0.00,0.00,0.00,0.00,0.00,0.00,0.00,0.00,0.00,0.00,0.00,0.00, 0.00,0.00,0.00,0.00,0.00,0.00,0.00,0.00,0.00,0.00,0.00,0.00,0.00,0.00,0.00, 0.00,0.00,0.00,0.00,0.00,0.00,0.00,0.00,0.00,0.00,0.00,0.00,0.00,0.00,0.00, 0.00,0.00,0.00,0.00,0.00,0.00,0.00,0.00,0.00,0.00,0.00,0.00,0.00,0.00,0.09, 0.08,0.00,0.00,0.00,0.00,0.00,0.00,0.00,0.00,0.00,0.00,0.00,0.00,0.00,0.00, 0.00,0.02,0.02,0.06,0.08,0.03,0.00,0.00,0.00,0.04,0.26,0.91,0.18,0.04,0.00, 0.00,0.00,0.00,0.00,0.00,0.00,0.00,0.24,0.32,0.00,0.00,0.00,0.01,0.01,0.03, 0.04,0.03,0.01,0.00,0.00,0.00,0.01,0.01,0.48,0.71,0.15,0.02,0.00,0.00,0.00, 0.00,0.00,0.00,0.00,0.00,0.49,0.65,0.00,0.00,0.00,0.01,0.01,0.01,0.00,0.00, 0.00,0.00,0.00,0.00,0.00,0.01,0.59,0.90,0.23,0.00,0.00,0.00,0.00,0.00,0.00, 0.00,0.00,0.00,0.87,0.64,0.00,0.00,0.00,0.00,0.00,0.00,0.00,0.01,0.00,0.00, 0.00,0.00,0.00,0.08,1.00,0.68,0.05,0.00,0.00,0.00,0.00,0.00,0.00,0.00,0.00, 0.00,0.87,0.64,0.00,0.00,0.00,0.00,0.00,0.00,0.00,0.01,0.01,0.00,0.00,0.00, 0.00,0.69,1.00,0.49,0.01,0.00,0.00,0.00,0.00,0.00,0.00,0.00,0.00,0.18,0.96, 0.64,0.00,0.00,0.00,0.00,0.00,0.00,0.00,0.09,0.03,0.01,0.00,0.01,0.01,0.80, 1.00,0.22,0.00,0.00,0.00,0.00,0.00,0.00,0.00,0.00,0.00,0.48,0.99,0.64,0.00, 0.00,0.00,0.00,0.00,0.00,0.01,0.06,0.00,0.01,0.01,0.01,0.09,0.91,1.00,0.10, 0.00,0.00,0.00,0.00,0.00,0.00,0.00,0.00,0.00,0.63,0.98,0.46,0.00,0.00,0.00, 0.00,0.00,0.07,0.03,0.00,0.07,0.06,0.03,0.05,0.66,1.00,0.84,0.02,0.00,0.00, 0.00,0.00,0.00,0.00,0.00,0.00,0.00,0.62,0.98,0.27,0.00,0.00,0.00,0.00,0.18, 0.19,0.13,0.01,0.01,0.04,0.33,0.75,1.00,1.00,0.37,0.00,0.00,0.00,0.00,0.00, 0.00,0.00,0.00,0.00,0.00,0.62,0.98,0.33,0.00,0.00,0.01,0.33,0.38,0.50,0.57, 0.56,0.90,0.86,0.91,0.71,0.94,0.98,0.09,0.00,0.00,0.00,0.00,0.00,0.00,0.00, 0.00,0.00,0.00,0.58,0.99,0.93,0.80,0.81,0.81,1.00,1.00,0.98,0.99,0.87,0.63, 0.37,0.11,0.07,0.92,0.97,0.00,0.00,0.00,0.00,0.00,0.00,0.00,0.00,0.00,0.00, 0.00,0.00,0.47,0.70,0.69,0.70,0.71,0.70,0.38,0.22,0.07,0.15,0.18,0.07,0.07, 0.43,1.00,0.77,0.00,0.00,0.00,0.00,0.00,0.00,0.00,0.00,0.00,0.00,0.00,0.00, 0.00,0.00,0.09,0.02,0.00,0.00,0.00,0.00,0.00,0.07,0.02,0.05,0.12,0.68,1.00, 0.46,0.00,0.00,0.00,0.00,0.00,0.00,0.00,0.00,0.00,0.00,0.00,0.00,0.00,0.00, 0.03,0.00,0.00,0.00,0.00,0.00,0.00,0.11,0.03,0.00,0.01,0.66,0.99,0.23,0.00, 0.00,0.00,0.00,0.00,0.00,0.00,0.00,0.00,0.00,0.00,0.00,0.00,0.00,0.00,0.00, 0.00,0.00,0.00,0.00,0.01,0.08,0.01,0.00,0.00,0.66,0.99,0.23,0.00,0.00,0.00, 0.00,0.00,0.00,0.00,0.00,0.00,0.00,0.00,0.00,0.00,0.00,0.01,0.00,0.00,0.00, 0.00,0.01,0.00,0.00,0.00,0.00,0.00,0.68,1.00,0.37,0.00,0.00,0.00,0.00,0.00, 0.00,0.00,0.00,0.00,0.00,0.00,0.00,0.00,0.03,0.01,0.00,0.00,0.00,0.00,0.02, 0.03,0.01,0.00,0.02,0.04,0.69,0.99,0.38,0.00,0.00,0.00,0.00,0.00,0.00,0.00, 0.00,0.00,0.00,0.00,0.00,0.00,0.02,0.05,0.00,0.00,0.00,0.06,0.04,0.10,0.00, 0.02,0.05,0.09,0.66,0.98,0.61,0.00,0.00,0.00,0.00,0.00,0.00,0.00,0.00,0.00, 0.00,0.00,0.00,0.00,0.00,0.00,0.04,0.01,0.00,0.01,0.06,0.05,0.02,0.04,0.00, 0.00,0.66,0.99,0.60,0.00,0.00,0.00,0.00,0.00,0.00,0.00,0.00,0.00,0.00,0.00, 0.00,0.00,0.00,0.00,0.00,0.03,0.11,0.06,0.04,0.01,0.00,0.00,0.00,0.00,0.38, 0.99,0.61,0.00,0.00,0.00,0.00,0.00,0.00,0.00,0.00,0.00,0.00,0.00,0.00,0.00, 0.00,0.00,0.00,0.00,0.00,0.00,0.00,0.00,0.00,0.00,0.00,0.00,0.00,0.00,0.00, 0.00,0.00,0.00,0.00,0.00,0.00,0.00,0.00,0.00,0.00,0.00,0.00,0.00,0.00,0.00, 0.00,0.00,0.00,0.00,0.00,0.00,0.00,0.00,0.00,0.00,0.00,0.00,0.00,0.00,0.00, 0.00,0.00,0.00,0.00,0.00,0.00,0.00,0.00,0.00,0.00,0.00,0.00,0.00,0.00,0.00, 0.00,0.00,0.00,0.00,0.00,0.00,0.00,0.00,0.00,0.00,0.00,0.00,0.00,0.00,0.00, 0.00,0.00,0.00,0.00] | correct\n",
      "3 | [[[0.00],  [0.00],  [0.00],  [0.00],  [0.00],  [0.00],  [0.00],  [0.00],  [0.00],  [0.00],  [0.00],  [0.00],  [0.00],  [0.00],  [0.00],  [0.00],  [0.00],  [0.00],  [0.00],  [0.00],  [0.00],  [0.00],  [0.00],  [0.00],  [0.00],  [0.00],  [0.00],  [0.00]], [[0.00],  [0.00],  [0.00],  [0.00],  [0.00],  [0.00],  [0.00],  [0.00],  [0.00],  [0.00],  [0.00],  [0.00],  [0.00],  [0.00],  [0.00],  [0.00],  [0.00],  [0.00],  [0.00],  [0.00],  [0.00],  [0.00],  [0.00],  [0.00],  [0.00],  [0.00],  [0.00],  [0.00]], [[0.00],  [0.00],  [0.00],  [0.00],  [0.00],  [0.00],  [0.00],  [0.00],  [0.00],  [0.00],  [0.00],  [0.00],  [0.00],  [0.00],  [0.00],  [0.00],  [0.00],  [0.00],  [0.00],  [0.00],  [0.00],  [0.00],  [0.00],  [0.00],  [0.00],  [0.00],  [0.00],  [0.00]], [[0.00],  [0.00],  [0.00],  [0.00],  [0.00],  [0.00],  [0.00],  [0.00],  [0.00],  [0.00],  [0.00],  [0.00],  [0.00],  [0.00],  [0.00],  [0.00],  [0.00],  [0.00],  [0.00],  [0.00],  [0.00],  [0.00],  [0.00],  [0.00],  [0.00],  [0.00],  [0.00],  [0.00]], [[0.00],  [0.00],  [0.00],  [0.00],  [0.00],  [0.00],  [0.00],  [0.00],  [0.00],  [0.00],  [0.00],  [0.00],  [0.00],  [0.00],  [0.00],  [0.00],  [0.00],  [0.00],  [0.00],  [0.00],  [0.00],  [0.00],  [0.00],  [0.00],  [0.00],  [0.00],  [0.00],  [0.00]], [[0.00],  [0.00],  [0.00],  [0.00],  [0.00],  [0.00],  [0.00],  [0.00],  [0.00],  [0.00],  [0.00],  [0.00],  [0.00],  [0.00],  [0.00],  [0.00],  [0.00],  [0.00],  [0.49],  [0.99],  [1.00],  [0.25],  [0.00],  [0.00],  [0.00],  [0.00],  [0.00],  [0.00]], [[0.00],  [0.00],  [0.00],  [0.00],  [0.00],  [0.00],  [0.00],  [0.00],  [0.00],  [0.00],  [0.00],  [0.00],  [0.00],  [0.00],  [0.00],  [0.00],  [0.00],  [0.38],  [0.96],  [0.98],  [0.99],  [0.24],  [0.00],  [0.00],  [0.00],  [0.00],  [0.00],  [0.00]], [[0.00],  [0.00],  [0.00],  [0.00],  [0.00],  [0.00],  [0.00],  [0.00],  [0.00],  [0.00],  [0.00],  [0.00],  [0.00],  [0.00],  [0.00],  [0.00],  [0.00],  [0.50],  [0.98],  [0.98],  [0.99],  [0.24],  [0.00],  [0.00],  [0.00],  [0.00],  [0.00],  [0.00]], [[0.00],  [0.00],  [0.00],  [0.00],  [0.00],  [0.00],  [0.00],  [0.00],  [0.00],  [0.00],  [0.00],  [0.00],  [0.00],  [0.00],  [0.00],  [0.00],  [0.27],  [0.93],  [0.98],  [0.83],  [0.12],  [0.03],  [0.00],  [0.00],  [0.00],  [0.00],  [0.00],  [0.00]], [[0.00],  [0.00],  [0.00],  [0.00],  [0.00],  [0.00],  [0.00],  [0.00],  [0.00],  [0.00],  [0.00],  [0.00],  [0.00],  [0.00],  [0.00],  [0.24],  [0.89],  [0.98],  [0.98],  [0.37],  [0.00],  [0.00],  [0.00],  [0.00],  [0.00],  [0.00],  [0.00],  [0.00]], [[0.00],  [0.00],  [0.00],  [0.00],  [0.00],  [0.00],  [0.00],  [0.00],  [0.00],  [0.00],  [0.00],  [0.00],  [0.00],  [0.00],  [0.00],  [0.61],  [0.99],  [0.99],  [0.74],  [0.00],  [0.00],  [0.00],  [0.00],  [0.00],  [0.00],  [0.00],  [0.00],  [0.00]], [[0.00],  [0.00],  [0.00],  [0.00],  [0.00],  [0.00],  [0.00],  [0.00],  [0.00],  [0.00],  [0.00],  [0.00],  [0.00],  [0.00],  [0.08],  [0.99],  [0.98],  [0.92],  [0.26],  [0.00],  [0.00],  [0.00],  [0.00],  [0.00],  [0.00],  [0.00],  [0.00],  [0.00]], [[0.00],  [0.00],  [0.00],  [0.00],  [0.00],  [0.00],  [0.00],  [0.00],  [0.00],  [0.00],  [0.00],  [0.00],  [0.00],  [0.13],  [0.80],  [0.99],  [0.98],  [0.49],  [0.00],  [0.00],  [0.00],  [0.00],  [0.00],  [0.00],  [0.00],  [0.00],  [0.00],  [0.00]], [[0.00],  [0.00],  [0.00],  [0.00],  [0.00],  [0.00],  [0.00],  [0.00],  [0.00],  [0.00],  [0.00],  [0.00],  [0.00],  [0.41],  [0.98],  [0.99],  [0.72],  [0.06],  [0.00],  [0.00],  [0.00],  [0.00],  [0.00],  [0.00],  [0.00],  [0.00],  [0.00],  [0.00]], [[0.00],  [0.00],  [0.00],  [0.00],  [0.00],  [0.00],  [0.00],  [0.00],  [0.00],  [0.00],  [0.00],  [0.00],  [0.31],  [0.94],  [0.98],  [0.76],  [0.09],  [0.00],  [0.00],  [0.00],  [0.00],  [0.00],  [0.00],  [0.00],  [0.00],  [0.00],  [0.00],  [0.00]], [[0.00],  [0.00],  [0.00],  [0.00],  [0.00],  [0.00],  [0.00],  [0.00],  [0.00],  [0.00],  [0.00],  [0.13],  [0.99],  [0.99],  [0.99],  [0.62],  [0.00],  [0.00],  [0.00],  [0.00],  [0.00],  [0.00],  [0.00],  [0.00],  [0.00],  [0.00],  [0.00],  [0.00]], [[0.00],  [0.00],  [0.00],  [0.00],  [0.00],  [0.00],  [0.00],  [0.00],  [0.00],  [0.00],  [0.00],  [0.59],  [0.98],  [0.98],  [0.98],  [0.15],  [0.00],  [0.00],  [0.00],  [0.00],  [0.00],  [0.00],  [0.00],  [0.00],  [0.00],  [0.00],  [0.00],  [0.00]], [[0.00],  [0.00],  [0.00],  [0.00],  [0.00],  [0.00],  [0.00],  [0.00],  [0.00],  [0.00],  [0.19],  [0.87],  [0.98],  [0.98],  [0.67],  [0.00],  [0.00],  [0.00],  [0.00],  [0.00],  [0.00],  [0.00],  [0.00],  [0.00],  [0.00],  [0.00],  [0.00],  [0.00]], [[0.00],  [0.00],  [0.00],  [0.00],  [0.00],  [0.00],  [0.00],  [0.00],  [0.00],  [0.00],  [0.92],  [0.98],  [0.98],  [0.77],  [0.05],  [0.00],  [0.00],  [0.00],  [0.00],  [0.00],  [0.00],  [0.00],  [0.00],  [0.00],  [0.00],  [0.00],  [0.00],  [0.00]], [[0.00],  [0.00],  [0.00],  [0.00],  [0.00],  [0.00],  [0.00],  [0.00],  [0.00],  [0.00],  [0.99],  [0.98],  [0.98],  [0.35],  [0.00],  [0.00],  [0.00],  [0.00],  [0.00],  [0.00],  [0.00],  [0.00],  [0.00],  [0.00],  [0.00],  [0.00],  [0.00],  [0.00]], [[0.00],  [0.00],  [0.00],  [0.00],  [0.00],  [0.00],  [0.00],  [0.00],  [0.00],  [0.62],  [1.00],  [0.99],  [0.99],  [0.12],  [0.00],  [0.00],  [0.00],  [0.00],  [0.00],  [0.00],  [0.00],  [0.00],  [0.00],  [0.00],  [0.00],  [0.00],  [0.00],  [0.00]], [[0.00],  [0.00],  [0.00],  [0.00],  [0.00],  [0.00],  [0.00],  [0.00],  [0.19],  [0.89],  [0.99],  [0.97],  [0.55],  [0.03],  [0.00],  [0.00],  [0.00],  [0.00],  [0.00],  [0.00],  [0.00],  [0.00],  [0.00],  [0.00],  [0.00],  [0.00],  [0.00],  [0.00]], [[0.00],  [0.00],  [0.00],  [0.00],  [0.00],  [0.00],  [0.00],  [0.00],  [0.25],  [0.98],  [0.99],  [0.86],  [0.00],  [0.00],  [0.00],  [0.00],  [0.00],  [0.00],  [0.00],  [0.00],  [0.00],  [0.00],  [0.00],  [0.00],  [0.00],  [0.00],  [0.00],  [0.00]], [[0.00],  [0.00],  [0.00],  [0.00],  [0.00],  [0.00],  [0.00],  [0.00],  [0.25],  [0.98],  [0.99],  [0.86],  [0.00],  [0.00],  [0.00],  [0.00],  [0.00],  [0.00],  [0.00],  [0.00],  [0.00],  [0.00],  [0.00],  [0.00],  [0.00],  [0.00],  [0.00],  [0.00]], [[0.00],  [0.00],  [0.00],  [0.00],  [0.00],  [0.00],  [0.00],  [0.00],  [0.09],  [0.76],  [0.99],  [0.86],  [0.00],  [0.00],  [0.00],  [0.00],  [0.00],  [0.00],  [0.00],  [0.00],  [0.00],  [0.00],  [0.00],  [0.00],  [0.00],  [0.00],  [0.00],  [0.00]], [[0.00],  [0.00],  [0.00],  [0.00],  [0.00],  [0.00],  [0.00],  [0.00],  [0.00],  [0.00],  [0.00],  [0.00],  [0.00],  [0.00],  [0.00],  [0.00],  [0.00],  [0.00],  [0.00],  [0.00],  [0.00],  [0.00],  [0.00],  [0.00],  [0.00],  [0.00],  [0.00],  [0.00]], [[0.00],  [0.00],  [0.00],  [0.00],  [0.00],  [0.00],  [0.00],  [0.00],  [0.00],  [0.00],  [0.00],  [0.00],  [0.00],  [0.00],  [0.00],  [0.00],  [0.00],  [0.00],  [0.00],  [0.00],  [0.00],  [0.00],  [0.00],  [0.00],  [0.00],  [0.00],  [0.00],  [0.00]], [[0.00],  [0.00],  [0.00],  [0.00],  [0.00],  [0.00],  [0.00],  [0.00],  [0.00],  [0.00],  [0.00],  [0.00],  [0.00],  [0.00],  [0.00],  [0.00],  [0.00],  [0.00],  [0.00],  [0.00],  [0.00],  [0.00],  [0.00],  [0.00],  [0.00],  [0.00],  [0.00],  [0.00]]] | [0.00,0.00,0.00,0.00,0.00,0.00,0.00,0.00,0.00,0.00,0.00,0.00,0.00,0.00,0.00, 0.00,0.00,0.00,0.00,0.00,0.00,0.00,0.00,0.00,0.00,0.00,0.00,0.00,0.00,0.00, 0.00,0.00,0.00,0.00,0.00,0.00,0.00,0.00,0.00,0.00,0.00,0.00,0.00,0.00,0.00, 0.00,0.00,0.00,0.00,0.00,0.00,0.00,0.00,0.00,0.00,0.00,0.00,0.00,0.00,0.00, 0.00,0.00,0.00,0.00,0.00,0.00,0.00,0.00,0.00,0.00,0.00,0.00,0.00,0.00,0.00, 0.00,0.00,0.00,0.00,0.00,0.00,0.00,0.00,0.00,0.00,0.00,0.00,0.00,0.00,0.00, 0.00,0.00,0.00,0.00,0.00,0.00,0.00,0.00,0.00,0.00,0.00,0.00,0.00,0.00,0.00, 0.00,0.00,0.00,0.00,0.00,0.00,0.00,0.00,0.00,0.00,0.00,0.00,0.00,0.00,0.00, 0.00,0.00,0.00,0.00,0.00,0.00,0.00,0.00,0.00,0.00,0.00,0.00,0.00,0.00,0.00, 0.00,0.00,0.00,0.00,0.00,0.00,0.00,0.00,0.00,0.00,0.00,0.00,0.00,0.00,0.00, 0.00,0.00,0.00,0.00,0.00,0.00,0.00,0.00,0.49,0.99,1.00,0.25,0.00,0.00,0.00, 0.00,0.00,0.00,0.00,0.00,0.00,0.00,0.00,0.00,0.00,0.00,0.00,0.00,0.00,0.00, 0.00,0.00,0.00,0.00,0.00,0.38,0.96,0.98,0.99,0.24,0.00,0.00,0.00,0.00,0.00, 0.00,0.00,0.00,0.00,0.00,0.00,0.00,0.00,0.00,0.00,0.00,0.00,0.00,0.00,0.00, 0.00,0.00,0.00,0.50,0.98,0.98,0.99,0.24,0.00,0.00,0.00,0.00,0.00,0.00,0.00, 0.00,0.00,0.00,0.00,0.00,0.00,0.00,0.00,0.00,0.00,0.00,0.00,0.00,0.00,0.00, 0.27,0.93,0.98,0.83,0.12,0.03,0.00,0.00,0.00,0.00,0.00,0.00,0.00,0.00,0.00, 0.00,0.00,0.00,0.00,0.00,0.00,0.00,0.00,0.00,0.00,0.00,0.00,0.24,0.89,0.98, 0.98,0.37,0.00,0.00,0.00,0.00,0.00,0.00,0.00,0.00,0.00,0.00,0.00,0.00,0.00, 0.00,0.00,0.00,0.00,0.00,0.00,0.00,0.00,0.00,0.00,0.61,0.99,0.99,0.74,0.00, 0.00,0.00,0.00,0.00,0.00,0.00,0.00,0.00,0.00,0.00,0.00,0.00,0.00,0.00,0.00, 0.00,0.00,0.00,0.00,0.00,0.00,0.00,0.08,0.99,0.98,0.92,0.26,0.00,0.00,0.00, 0.00,0.00,0.00,0.00,0.00,0.00,0.00,0.00,0.00,0.00,0.00,0.00,0.00,0.00,0.00, 0.00,0.00,0.00,0.00,0.13,0.80,0.99,0.98,0.49,0.00,0.00,0.00,0.00,0.00,0.00, 0.00,0.00,0.00,0.00,0.00,0.00,0.00,0.00,0.00,0.00,0.00,0.00,0.00,0.00,0.00, 0.00,0.00,0.41,0.98,0.99,0.72,0.06,0.00,0.00,0.00,0.00,0.00,0.00,0.00,0.00, 0.00,0.00,0.00,0.00,0.00,0.00,0.00,0.00,0.00,0.00,0.00,0.00,0.00,0.00,0.31, 0.94,0.98,0.76,0.09,0.00,0.00,0.00,0.00,0.00,0.00,0.00,0.00,0.00,0.00,0.00, 0.00,0.00,0.00,0.00,0.00,0.00,0.00,0.00,0.00,0.00,0.00,0.13,0.99,0.99,0.99, 0.62,0.00,0.00,0.00,0.00,0.00,0.00,0.00,0.00,0.00,0.00,0.00,0.00,0.00,0.00, 0.00,0.00,0.00,0.00,0.00,0.00,0.00,0.00,0.00,0.59,0.98,0.98,0.98,0.15,0.00, 0.00,0.00,0.00,0.00,0.00,0.00,0.00,0.00,0.00,0.00,0.00,0.00,0.00,0.00,0.00, 0.00,0.00,0.00,0.00,0.00,0.00,0.19,0.87,0.98,0.98,0.67,0.00,0.00,0.00,0.00, 0.00,0.00,0.00,0.00,0.00,0.00,0.00,0.00,0.00,0.00,0.00,0.00,0.00,0.00,0.00, 0.00,0.00,0.00,0.00,0.92,0.98,0.98,0.77,0.05,0.00,0.00,0.00,0.00,0.00,0.00, 0.00,0.00,0.00,0.00,0.00,0.00,0.00,0.00,0.00,0.00,0.00,0.00,0.00,0.00,0.00, 0.00,0.00,0.99,0.98,0.98,0.35,0.00,0.00,0.00,0.00,0.00,0.00,0.00,0.00,0.00, 0.00,0.00,0.00,0.00,0.00,0.00,0.00,0.00,0.00,0.00,0.00,0.00,0.00,0.00,0.62, 1.00,0.99,0.99,0.12,0.00,0.00,0.00,0.00,0.00,0.00,0.00,0.00,0.00,0.00,0.00, 0.00,0.00,0.00,0.00,0.00,0.00,0.00,0.00,0.00,0.00,0.00,0.19,0.89,0.99,0.97, 0.55,0.03,0.00,0.00,0.00,0.00,0.00,0.00,0.00,0.00,0.00,0.00,0.00,0.00,0.00, 0.00,0.00,0.00,0.00,0.00,0.00,0.00,0.00,0.00,0.25,0.98,0.99,0.86,0.00,0.00, 0.00,0.00,0.00,0.00,0.00,0.00,0.00,0.00,0.00,0.00,0.00,0.00,0.00,0.00,0.00, 0.00,0.00,0.00,0.00,0.00,0.00,0.00,0.25,0.98,0.99,0.86,0.00,0.00,0.00,0.00, 0.00,0.00,0.00,0.00,0.00,0.00,0.00,0.00,0.00,0.00,0.00,0.00,0.00,0.00,0.00, 0.00,0.00,0.00,0.00,0.00,0.09,0.76,0.99,0.86,0.00,0.00,0.00,0.00,0.00,0.00, 0.00,0.00,0.00,0.00,0.00,0.00,0.00,0.00,0.00,0.00,0.00,0.00,0.00,0.00,0.00, 0.00,0.00,0.00,0.00,0.00,0.00,0.00,0.00,0.00,0.00,0.00,0.00,0.00,0.00,0.00, 0.00,0.00,0.00,0.00,0.00,0.00,0.00,0.00,0.00,0.00,0.00,0.00,0.00,0.00,0.00, 0.00,0.00,0.00,0.00,0.00,0.00,0.00,0.00,0.00,0.00,0.00,0.00,0.00,0.00,0.00, 0.00,0.00,0.00,0.00,0.00,0.00,0.00,0.00,0.00,0.00,0.00,0.00,0.00,0.00,0.00, 0.00,0.00,0.00,0.00,0.00,0.00,0.00,0.00,0.00,0.00,0.00,0.00,0.00,0.00,0.00, 0.00,0.00,0.00,0.00] | [0.00,0.00,0.00,0.00,0.00,0.00,0.00,0.00,0.00,0.00,0.00,0.00,0.00,0.00,0.00, 0.00,0.00,0.00,0.00,0.00,0.00,0.00,0.00,0.00,0.00,0.00,0.00,0.00,0.00,0.00, 0.00,0.00,0.00,0.00,0.00,0.00,0.00,0.00,0.00,0.00,0.00,0.00,0.00,0.00,0.00, 0.00,0.00,0.00,0.00,0.00,0.00,0.00,0.00,0.00,0.00,0.00,0.00,0.00,0.00,0.00, 0.00,0.00,0.00,0.00,0.00,0.00,0.00,0.00,0.00,0.00,0.00,0.00,0.00,0.00,0.00, 0.00,0.00,0.00,0.00,0.00,0.00,0.00,0.00,0.00,0.00,0.00,0.00,0.00,0.00,0.00, 0.00,0.00,0.00,0.00,0.00,0.00,0.00,0.00,0.00,0.00,0.00,0.00,0.00,0.00,0.00, 0.00,0.00,0.00,0.00,0.00,0.00,0.00,0.00,0.00,0.00,0.00,0.00,0.00,0.00,0.00, 0.00,0.00,0.00,0.00,0.01,0.01,0.02,0.00,0.00,0.00,0.00,0.00,0.00,0.00,0.13, 0.13,0.00,0.00,0.00,0.00,0.00,0.00,0.00,0.00,0.00,0.00,0.00,0.00,0.00,0.00, 0.00,0.01,0.03,0.05,0.06,0.06,0.00,0.00,0.37,0.61,0.61,0.39,0.34,0.23,0.00, 0.00,0.00,0.00,0.00,0.00,0.00,0.00,0.00,0.00,0.00,0.00,0.02,0.00,0.01,0.00, 0.05,0.09,0.06,0.09,0.01,0.23,0.70,0.74,0.96,0.41,0.29,0.07,0.00,0.00,0.00, 0.00,0.00,0.00,0.00,0.00,0.00,0.00,0.00,0.01,0.01,0.04,0.01,0.01,0.03,0.10, 0.11,0.06,0.12,0.41,0.75,0.56,0.85,0.38,0.13,0.00,0.00,0.00,0.00,0.00,0.00, 0.00,0.00,0.00,0.00,0.00,0.00,0.01,0.03,0.02,0.02,0.06,0.18,0.40,0.12,0.02, 0.34,0.88,0.65,0.50,0.26,0.13,0.01,0.00,0.00,0.00,0.00,0.00,0.00,0.00,0.00, 0.00,0.00,0.00,0.00,0.00,0.01,0.01,0.04,0.03,0.40,0.37,0.07,0.15,0.65,0.83, 0.59,0.34,0.09,0.02,0.00,0.00,0.00,0.00,0.00,0.00,0.00,0.00,0.00,0.00,0.00, 0.00,0.00,0.00,0.00,0.01,0.03,0.02,0.29,0.30,0.13,0.37,0.73,0.56,0.35,0.03, 0.15,0.03,0.00,0.00,0.00,0.00,0.00,0.00,0.00,0.00,0.00,0.00,0.00,0.00,0.00, 0.00,0.00,0.07,0.03,0.26,0.42,0.33,0.08,0.70,0.70,0.63,0.12,0.04,0.01,0.01, 0.00,0.00,0.00,0.00,0.00,0.00,0.00,0.00,0.00,0.00,0.00,0.00,0.00,0.00,0.03, 0.02,0.04,0.24,0.43,0.39,0.50,0.68,0.68,0.36,0.02,0.01,0.01,0.00,0.00,0.00, 0.00,0.00,0.00,0.00,0.00,0.00,0.00,0.00,0.01,0.00,0.00,0.03,0.06,0.07,0.15, 0.12,0.10,0.33,0.80,0.65,0.56,0.12,0.01,0.01,0.00,0.00,0.01,0.00,0.00,0.00, 0.00,0.00,0.00,0.00,0.00,0.00,0.00,0.00,0.00,0.03,0.23,0.26,0.13,0.13,0.30, 0.65,0.67,0.54,0.27,0.16,0.03,0.00,0.01,0.01,0.00,0.00,0.00,0.00,0.00,0.00, 0.00,0.00,0.00,0.00,0.00,0.00,0.03,0.20,0.16,0.21,0.06,0.07,0.89,0.89,0.81, 0.47,0.20,0.12,0.00,0.01,0.00,0.00,0.00,0.00,0.00,0.00,0.00,0.00,0.00,0.00, 0.00,0.00,0.00,0.00,0.09,0.29,0.17,0.07,0.05,0.34,0.86,0.92,0.93,0.24,0.10, 0.12,0.13,0.05,0.01,0.00,0.00,0.00,0.00,0.00,0.00,0.00,0.00,0.00,0.00,0.00, 0.00,0.00,0.15,0.19,0.02,0.00,0.03,0.59,0.76,0.84,0.73,0.15,0.13,0.15,0.07, 0.04,0.00,0.00,0.00,0.00,0.00,0.00,0.00,0.00,0.00,0.00,0.00,0.00,0.00,0.00, 0.03,0.01,0.01,0.00,0.65,0.67,0.73,0.59,0.19,0.14,0.09,0.08,0.02,0.02,0.00, 0.00,0.00,0.00,0.00,0.00,0.00,0.00,0.00,0.00,0.00,0.00,0.00,0.00,0.01,0.00, 0.00,0.00,0.70,0.65,0.82,0.43,0.24,0.11,0.05,0.01,0.01,0.02,0.00,0.00,0.00, 0.00,0.00,0.00,0.00,0.00,0.00,0.00,0.00,0.00,0.00,0.00,0.00,0.00,0.01,0.32, 0.53,0.72,0.96,0.40,0.10,0.17,0.05,0.01,0.04,0.00,0.00,0.00,0.00,0.00,0.00, 0.00,0.00,0.00,0.00,0.00,0.00,0.00,0.00,0.01,0.00,0.00,0.05,0.51,0.86,0.93, 0.81,0.26,0.19,0.06,0.04,0.07,0.01,0.00,0.00,0.00,0.00,0.00,0.00,0.00,0.00, 0.00,0.00,0.00,0.00,0.00,0.00,0.00,0.00,0.00,0.19,0.87,0.98,0.97,0.18,0.06, 0.08,0.13,0.04,0.05,0.01,0.00,0.00,0.00,0.00,0.00,0.00,0.00,0.00,0.00,0.00, 0.00,0.00,0.00,0.00,0.01,0.01,0.02,0.21,0.93,0.97,0.94,0.08,0.00,0.08,0.09, 0.02,0.03,0.01,0.00,0.00,0.00,0.00,0.00,0.00,0.00,0.00,0.00,0.00,0.00,0.00, 0.00,0.01,0.05,0.05,0.02,0.03,0.28,0.65,0.58,0.00,0.00,0.02,0.03,0.02,0.03, 0.00,0.00,0.00,0.00,0.00,0.00,0.00,0.00,0.00,0.00,0.00,0.00,0.00,0.00,0.00, 0.00,0.00,0.00,0.00,0.00,0.00,0.00,0.00,0.00,0.00,0.00,0.00,0.00,0.00,0.00, 0.00,0.00,0.00,0.00,0.00,0.00,0.00,0.00,0.00,0.00,0.00,0.00,0.00,0.00,0.00, 0.00,0.00,0.00,0.00,0.00,0.00,0.00,0.00,0.00,0.01,0.02,0.00,0.00,0.00,0.00, 0.00,0.00,0.00,0.00,0.00,0.00,0.00,0.00,0.00,0.00,0.00,0.00,0.00,0.00,0.00, 0.00,0.00,0.00,0.00,0.00,0.00,0.00,0.00,0.00,0.00,0.00,0.00,0.00,0.00,0.00, 0.00,0.00,0.00,0.00] | correct\n",
      "4 | [[[0.00],  [0.00],  [0.00],  [0.00],  [0.00],  [0.00],  [0.00],  [0.00],  [0.00],  [0.00],  [0.00],  [0.00],  [0.00],  [0.00],  [0.00],  [0.00],  [0.00],  [0.00],  [0.00],  [0.00],  [0.00],  [0.00],  [0.00],  [0.00],  [0.00],  [0.00],  [0.00],  [0.00]], [[0.00],  [0.00],  [0.00],  [0.00],  [0.00],  [0.00],  [0.00],  [0.00],  [0.00],  [0.00],  [0.00],  [0.00],  [0.00],  [0.00],  [0.00],  [0.00],  [0.00],  [0.00],  [0.00],  [0.00],  [0.00],  [0.00],  [0.00],  [0.00],  [0.00],  [0.00],  [0.00],  [0.00]], [[0.00],  [0.00],  [0.00],  [0.00],  [0.00],  [0.00],  [0.00],  [0.00],  [0.00],  [0.00],  [0.00],  [0.00],  [0.00],  [0.00],  [0.00],  [0.00],  [0.00],  [0.00],  [0.00],  [0.00],  [0.00],  [0.00],  [0.00],  [0.00],  [0.00],  [0.00],  [0.00],  [0.00]], [[0.00],  [0.00],  [0.00],  [0.00],  [0.00],  [0.00],  [0.00],  [0.00],  [0.00],  [0.00],  [0.00],  [0.00],  [0.00],  [0.00],  [0.00],  [0.00],  [0.00],  [0.00],  [0.00],  [0.00],  [0.00],  [0.00],  [0.00],  [0.00],  [0.00],  [0.00],  [0.00],  [0.00]], [[0.00],  [0.00],  [0.00],  [0.00],  [0.00],  [0.00],  [0.00],  [0.00],  [0.00],  [0.00],  [0.00],  [0.00],  [0.00],  [0.00],  [0.00],  [0.00],  [0.00],  [0.00],  [0.00],  [0.00],  [0.00],  [0.00],  [0.00],  [0.00],  [0.00],  [0.00],  [0.00],  [0.00]], [[0.00],  [0.00],  [0.00],  [0.00],  [0.00],  [0.00],  [0.00],  [0.00],  [0.00],  [0.00],  [0.00],  [0.00],  [0.00],  [0.00],  [0.00],  [0.00],  [0.00],  [0.00],  [0.00],  [0.00],  [0.00],  [0.00],  [0.00],  [0.00],  [0.00],  [0.00],  [0.00],  [0.00]], [[0.00],  [0.00],  [0.00],  [0.00],  [0.00],  [0.00],  [0.00],  [0.00],  [0.00],  [0.00],  [0.00],  [0.00],  [0.00],  [0.00],  [0.00],  [0.00],  [0.00],  [0.00],  [0.00],  [0.00],  [0.00],  [0.00],  [0.00],  [0.00],  [0.00],  [0.00],  [0.00],  [0.00]], [[0.00],  [0.00],  [0.00],  [0.00],  [0.00],  [0.00],  [0.00],  [0.00],  [0.00],  [0.00],  [0.00],  [0.00],  [0.22],  [0.58],  [0.82],  [0.99],  [0.99],  [0.44],  [0.34],  [0.58],  [0.22],  [0.00],  [0.00],  [0.00],  [0.00],  [0.00],  [0.00],  [0.00]], [[0.00],  [0.00],  [0.00],  [0.00],  [0.00],  [0.00],  [0.00],  [0.00],  [0.00],  [0.00],  [0.00],  [0.34],  [0.91],  [0.99],  [0.99],  [0.74],  [0.82],  [0.99],  [0.99],  [0.99],  [0.66],  [0.00],  [0.00],  [0.00],  [0.00],  [0.00],  [0.00],  [0.00]], [[0.00],  [0.00],  [0.00],  [0.00],  [0.00],  [0.00],  [0.00],  [0.00],  [0.00],  [0.02],  [0.22],  [0.95],  [0.99],  [0.75],  [0.25],  [0.02],  [0.05],  [0.71],  [0.99],  [0.99],  [0.45],  [0.00],  [0.00],  [0.00],  [0.00],  [0.00],  [0.00],  [0.00]], [[0.00],  [0.00],  [0.00],  [0.00],  [0.00],  [0.00],  [0.00],  [0.00],  [0.00],  [0.38],  [0.99],  [0.99],  [0.72],  [0.05],  [0.00],  [0.00],  [0.36],  [0.99],  [0.99],  [0.88],  [0.08],  [0.00],  [0.00],  [0.00],  [0.00],  [0.00],  [0.00],  [0.00]], [[0.00],  [0.00],  [0.00],  [0.00],  [0.00],  [0.00],  [0.00],  [0.00],  [0.52],  [0.99],  [0.99],  [0.57],  [0.05],  [0.00],  [0.00],  [0.00],  [0.84],  [0.99],  [0.99],  [0.31],  [0.00],  [0.00],  [0.00],  [0.00],  [0.00],  [0.00],  [0.00],  [0.00]], [[0.00],  [0.00],  [0.00],  [0.00],  [0.00],  [0.00],  [0.00],  [0.49],  [0.99],  [0.97],  [0.69],  [0.04],  [0.00],  [0.00],  [0.03],  [0.31],  [0.96],  [0.99],  [0.51],  [0.00],  [0.00],  [0.00],  [0.00],  [0.00],  [0.00],  [0.00],  [0.00],  [0.00]], [[0.00],  [0.00],  [0.00],  [0.00],  [0.00],  [0.00],  [0.06],  [0.91],  [0.99],  [0.69],  [0.00],  [0.00],  [0.00],  [0.14],  [0.79],  [0.99],  [0.99],  [0.66],  [0.04],  [0.00],  [0.00],  [0.00],  [0.00],  [0.00],  [0.00],  [0.00],  [0.00],  [0.00]], [[0.00],  [0.00],  [0.00],  [0.00],  [0.00],  [0.00],  [0.09],  [0.99],  [0.99],  [0.12],  [0.09],  [0.47],  [0.77],  [0.95],  [0.99],  [0.99],  [0.98],  [0.30],  [0.00],  [0.00],  [0.00],  [0.00],  [0.00],  [0.00],  [0.00],  [0.00],  [0.00],  [0.00]], [[0.00],  [0.00],  [0.00],  [0.00],  [0.00],  [0.00],  [0.06],  [0.91],  [0.99],  [0.99],  [0.99],  [0.99],  [0.99],  [0.89],  [0.89],  [0.99],  [0.91],  [0.00],  [0.00],  [0.00],  [0.00],  [0.00],  [0.00],  [0.00],  [0.00],  [0.00],  [0.00],  [0.00]], [[0.00],  [0.00],  [0.00],  [0.00],  [0.00],  [0.00],  [0.00],  [0.22],  [0.92],  [0.99],  [0.85],  [0.54],  [0.16],  [0.09],  [0.75],  [0.99],  [0.56],  [0.00],  [0.00],  [0.00],  [0.00],  [0.00],  [0.00],  [0.00],  [0.00],  [0.00],  [0.00],  [0.00]], [[0.00],  [0.00],  [0.00],  [0.00],  [0.00],  [0.00],  [0.00],  [0.00],  [0.00],  [0.00],  [0.00],  [0.00],  [0.00],  [0.24],  [1.00],  [0.99],  [0.43],  [0.00],  [0.00],  [0.00],  [0.00],  [0.00],  [0.00],  [0.00],  [0.00],  [0.00],  [0.00],  [0.00]], [[0.00],  [0.00],  [0.00],  [0.00],  [0.00],  [0.00],  [0.00],  [0.00],  [0.00],  [0.00],  [0.00],  [0.00],  [0.00],  [0.28],  [0.99],  [0.99],  [0.08],  [0.00],  [0.00],  [0.00],  [0.00],  [0.00],  [0.00],  [0.00],  [0.00],  [0.00],  [0.00],  [0.00]], [[0.00],  [0.00],  [0.00],  [0.00],  [0.00],  [0.00],  [0.00],  [0.00],  [0.00],  [0.00],  [0.00],  [0.00],  [0.00],  [0.00],  [0.99],  [0.99],  [0.08],  [0.00],  [0.00],  [0.00],  [0.00],  [0.00],  [0.00],  [0.00],  [0.00],  [0.00],  [0.00],  [0.00]], [[0.00],  [0.00],  [0.00],  [0.00],  [0.00],  [0.00],  [0.00],  [0.00],  [0.00],  [0.00],  [0.00],  [0.00],  [0.00],  [0.28],  [0.99],  [0.99],  [0.08],  [0.00],  [0.00],  [0.00],  [0.00],  [0.00],  [0.00],  [0.00],  [0.00],  [0.00],  [0.00],  [0.00]], [[0.00],  [0.00],  [0.00],  [0.00],  [0.00],  [0.00],  [0.00],  [0.00],  [0.00],  [0.00],  [0.00],  [0.00],  [0.00],  [0.42],  [0.99],  [0.99],  [0.08],  [0.00],  [0.00],  [0.00],  [0.00],  [0.00],  [0.00],  [0.00],  [0.00],  [0.00],  [0.00],  [0.00]], [[0.00],  [0.00],  [0.00],  [0.00],  [0.00],  [0.00],  [0.00],  [0.00],  [0.00],  [0.00],  [0.00],  [0.00],  [0.00],  [0.18],  [1.00],  [0.99],  [0.08],  [0.00],  [0.00],  [0.00],  [0.00],  [0.00],  [0.00],  [0.00],  [0.00],  [0.00],  [0.00],  [0.00]], [[0.00],  [0.00],  [0.00],  [0.00],  [0.00],  [0.00],  [0.00],  [0.00],  [0.00],  [0.00],  [0.00],  [0.00],  [0.00],  [0.00],  [0.85],  [0.99],  [0.22],  [0.00],  [0.00],  [0.00],  [0.00],  [0.00],  [0.00],  [0.00],  [0.00],  [0.00],  [0.00],  [0.00]], [[0.00],  [0.00],  [0.00],  [0.00],  [0.00],  [0.00],  [0.00],  [0.00],  [0.00],  [0.00],  [0.00],  [0.00],  [0.00],  [0.00],  [0.38],  [0.99],  [0.74],  [0.16],  [0.00],  [0.00],  [0.00],  [0.00],  [0.00],  [0.00],  [0.00],  [0.00],  [0.00],  [0.00]], [[0.00],  [0.00],  [0.00],  [0.00],  [0.00],  [0.00],  [0.00],  [0.00],  [0.00],  [0.00],  [0.00],  [0.00],  [0.00],  [0.00],  [0.05],  [0.72],  [0.99],  [0.67],  [0.04],  [0.00],  [0.00],  [0.00],  [0.00],  [0.00],  [0.00],  [0.00],  [0.00],  [0.00]], [[0.00],  [0.00],  [0.00],  [0.00],  [0.00],  [0.00],  [0.00],  [0.00],  [0.00],  [0.00],  [0.00],  [0.00],  [0.00],  [0.00],  [0.00],  [0.05],  [0.58],  [0.99],  [0.16],  [0.00],  [0.00],  [0.00],  [0.00],  [0.00],  [0.00],  [0.00],  [0.00],  [0.00]], [[0.00],  [0.00],  [0.00],  [0.00],  [0.00],  [0.00],  [0.00],  [0.00],  [0.00],  [0.00],  [0.00],  [0.00],  [0.00],  [0.00],  [0.00],  [0.00],  [0.00],  [0.00],  [0.00],  [0.00],  [0.00],  [0.00],  [0.00],  [0.00],  [0.00],  [0.00],  [0.00],  [0.00]]] | [0.00,0.00,0.00,0.00,0.00,0.00,0.00,0.00,0.00,0.00,0.00,0.00,0.00,0.00,0.00, 0.00,0.00,0.00,0.00,0.00,0.00,0.00,0.00,0.00,0.00,0.00,0.00,0.00,0.00,0.00, 0.00,0.00,0.00,0.00,0.00,0.00,0.00,0.00,0.00,0.00,0.00,0.00,0.00,0.00,0.00, 0.00,0.00,0.00,0.00,0.00,0.00,0.00,0.00,0.00,0.00,0.00,0.00,0.00,0.00,0.00, 0.00,0.00,0.00,0.00,0.00,0.00,0.00,0.00,0.00,0.00,0.00,0.00,0.00,0.00,0.00, 0.00,0.00,0.00,0.00,0.00,0.00,0.00,0.00,0.00,0.00,0.00,0.00,0.00,0.00,0.00, 0.00,0.00,0.00,0.00,0.00,0.00,0.00,0.00,0.00,0.00,0.00,0.00,0.00,0.00,0.00, 0.00,0.00,0.00,0.00,0.00,0.00,0.00,0.00,0.00,0.00,0.00,0.00,0.00,0.00,0.00, 0.00,0.00,0.00,0.00,0.00,0.00,0.00,0.00,0.00,0.00,0.00,0.00,0.00,0.00,0.00, 0.00,0.00,0.00,0.00,0.00,0.00,0.00,0.00,0.00,0.00,0.00,0.00,0.00,0.00,0.00, 0.00,0.00,0.00,0.00,0.00,0.00,0.00,0.00,0.00,0.00,0.00,0.00,0.00,0.00,0.00, 0.00,0.00,0.00,0.00,0.00,0.00,0.00,0.00,0.00,0.00,0.00,0.00,0.00,0.00,0.00, 0.00,0.00,0.00,0.00,0.00,0.00,0.00,0.00,0.00,0.00,0.00,0.00,0.00,0.00,0.00, 0.00,0.00,0.00,0.00,0.00,0.00,0.00,0.00,0.00,0.00,0.00,0.00,0.00,0.22,0.58, 0.82,0.99,0.99,0.44,0.34,0.58,0.22,0.00,0.00,0.00,0.00,0.00,0.00,0.00,0.00, 0.00,0.00,0.00,0.00,0.00,0.00,0.00,0.00,0.00,0.00,0.34,0.91,0.99,0.99,0.74, 0.82,0.99,0.99,0.99,0.66,0.00,0.00,0.00,0.00,0.00,0.00,0.00,0.00,0.00,0.00, 0.00,0.00,0.00,0.00,0.00,0.00,0.02,0.22,0.95,0.99,0.75,0.25,0.02,0.05,0.71, 0.99,0.99,0.45,0.00,0.00,0.00,0.00,0.00,0.00,0.00,0.00,0.00,0.00,0.00,0.00, 0.00,0.00,0.00,0.00,0.38,0.99,0.99,0.72,0.05,0.00,0.00,0.36,0.99,0.99,0.88, 0.08,0.00,0.00,0.00,0.00,0.00,0.00,0.00,0.00,0.00,0.00,0.00,0.00,0.00,0.00, 0.00,0.52,0.99,0.99,0.57,0.05,0.00,0.00,0.00,0.84,0.99,0.99,0.31,0.00,0.00, 0.00,0.00,0.00,0.00,0.00,0.00,0.00,0.00,0.00,0.00,0.00,0.00,0.00,0.49,0.99, 0.97,0.69,0.04,0.00,0.00,0.03,0.31,0.96,0.99,0.51,0.00,0.00,0.00,0.00,0.00, 0.00,0.00,0.00,0.00,0.00,0.00,0.00,0.00,0.00,0.00,0.06,0.91,0.99,0.69,0.00, 0.00,0.00,0.14,0.79,0.99,0.99,0.66,0.04,0.00,0.00,0.00,0.00,0.00,0.00,0.00, 0.00,0.00,0.00,0.00,0.00,0.00,0.00,0.00,0.09,0.99,0.99,0.12,0.09,0.47,0.77, 0.95,0.99,0.99,0.98,0.30,0.00,0.00,0.00,0.00,0.00,0.00,0.00,0.00,0.00,0.00, 0.00,0.00,0.00,0.00,0.00,0.00,0.06,0.91,0.99,0.99,0.99,0.99,0.99,0.89,0.89, 0.99,0.91,0.00,0.00,0.00,0.00,0.00,0.00,0.00,0.00,0.00,0.00,0.00,0.00,0.00, 0.00,0.00,0.00,0.00,0.00,0.22,0.92,0.99,0.85,0.54,0.16,0.09,0.75,0.99,0.56, 0.00,0.00,0.00,0.00,0.00,0.00,0.00,0.00,0.00,0.00,0.00,0.00,0.00,0.00,0.00, 0.00,0.00,0.00,0.00,0.00,0.00,0.00,0.00,0.00,0.24,1.00,0.99,0.43,0.00,0.00, 0.00,0.00,0.00,0.00,0.00,0.00,0.00,0.00,0.00,0.00,0.00,0.00,0.00,0.00,0.00, 0.00,0.00,0.00,0.00,0.00,0.00,0.00,0.28,0.99,0.99,0.08,0.00,0.00,0.00,0.00, 0.00,0.00,0.00,0.00,0.00,0.00,0.00,0.00,0.00,0.00,0.00,0.00,0.00,0.00,0.00, 0.00,0.00,0.00,0.00,0.00,0.00,0.99,0.99,0.08,0.00,0.00,0.00,0.00,0.00,0.00, 0.00,0.00,0.00,0.00,0.00,0.00,0.00,0.00,0.00,0.00,0.00,0.00,0.00,0.00,0.00, 0.00,0.00,0.00,0.28,0.99,0.99,0.08,0.00,0.00,0.00,0.00,0.00,0.00,0.00,0.00, 0.00,0.00,0.00,0.00,0.00,0.00,0.00,0.00,0.00,0.00,0.00,0.00,0.00,0.00,0.00, 0.00,0.42,0.99,0.99,0.08,0.00,0.00,0.00,0.00,0.00,0.00,0.00,0.00,0.00,0.00, 0.00,0.00,0.00,0.00,0.00,0.00,0.00,0.00,0.00,0.00,0.00,0.00,0.00,0.00,0.18, 1.00,0.99,0.08,0.00,0.00,0.00,0.00,0.00,0.00,0.00,0.00,0.00,0.00,0.00,0.00, 0.00,0.00,0.00,0.00,0.00,0.00,0.00,0.00,0.00,0.00,0.00,0.00,0.00,0.85,0.99, 0.22,0.00,0.00,0.00,0.00,0.00,0.00,0.00,0.00,0.00,0.00,0.00,0.00,0.00,0.00, 0.00,0.00,0.00,0.00,0.00,0.00,0.00,0.00,0.00,0.00,0.00,0.38,0.99,0.74,0.16, 0.00,0.00,0.00,0.00,0.00,0.00,0.00,0.00,0.00,0.00,0.00,0.00,0.00,0.00,0.00, 0.00,0.00,0.00,0.00,0.00,0.00,0.00,0.00,0.00,0.05,0.72,0.99,0.67,0.04,0.00, 0.00,0.00,0.00,0.00,0.00,0.00,0.00,0.00,0.00,0.00,0.00,0.00,0.00,0.00,0.00, 0.00,0.00,0.00,0.00,0.00,0.00,0.00,0.00,0.05,0.58,0.99,0.16,0.00,0.00,0.00, 0.00,0.00,0.00,0.00,0.00,0.00,0.00,0.00,0.00,0.00,0.00,0.00,0.00,0.00,0.00, 0.00,0.00,0.00,0.00,0.00,0.00,0.00,0.00,0.00,0.00,0.00,0.00,0.00,0.00,0.00, 0.00,0.00,0.00,0.00] | [0.00,0.00,0.00,0.00,0.00,0.00,0.00,0.00,0.00,0.00,0.00,0.00,0.00,0.00,0.00, 0.00,0.00,0.00,0.00,0.00,0.00,0.00,0.00,0.00,0.00,0.00,0.00,0.00,0.00,0.00, 0.00,0.00,0.00,0.00,0.00,0.00,0.00,0.00,0.00,0.00,0.00,0.00,0.00,0.00,0.00, 0.00,0.00,0.00,0.00,0.00,0.00,0.00,0.00,0.00,0.00,0.00,0.00,0.00,0.00,0.00, 0.00,0.00,0.00,0.00,0.00,0.00,0.00,0.00,0.00,0.00,0.00,0.00,0.00,0.00,0.00, 0.00,0.00,0.00,0.00,0.00,0.00,0.00,0.00,0.00,0.00,0.00,0.00,0.00,0.00,0.00, 0.00,0.00,0.00,0.00,0.00,0.00,0.00,0.00,0.00,0.00,0.00,0.00,0.00,0.00,0.00, 0.00,0.00,0.00,0.00,0.00,0.00,0.00,0.00,0.00,0.00,0.00,0.00,0.00,0.00,0.00, 0.00,0.00,0.00,0.00,0.02,0.02,0.01,0.03,0.00,0.00,0.00,0.00,0.00,0.00,0.03, 0.02,0.00,0.00,0.00,0.00,0.00,0.00,0.00,0.00,0.00,0.00,0.00,0.00,0.00,0.00, 0.00,0.01,0.01,0.01,0.10,0.04,0.00,0.00,0.04,0.05,0.00,0.00,0.01,0.00,0.00, 0.00,0.00,0.00,0.00,0.00,0.00,0.00,0.00,0.00,0.00,0.00,0.00,0.00,0.00,0.00, 0.02,0.01,0.03,0.09,0.02,0.05,0.07,0.07,0.00,0.00,0.01,0.00,0.00,0.00,0.00, 0.00,0.00,0.00,0.00,0.00,0.00,0.00,0.00,0.00,0.00,0.00,0.00,0.00,0.08,0.60, 0.93,0.97,0.90,0.38,0.28,0.65,0.20,0.00,0.01,0.00,0.00,0.00,0.00,0.00,0.00, 0.00,0.00,0.00,0.00,0.00,0.00,0.00,0.00,0.00,0.00,0.25,0.96,1.00,1.00,0.82, 0.79,0.87,0.92,0.94,0.51,0.01,0.00,0.00,0.00,0.00,0.00,0.00,0.00,0.00,0.00, 0.00,0.00,0.00,0.00,0.00,0.00,0.01,0.18,0.93,0.99,0.98,0.52,0.14,0.12,0.71, 0.89,0.93,0.43,0.00,0.00,0.00,0.00,0.00,0.00,0.00,0.00,0.00,0.00,0.00,0.00, 0.00,0.00,0.00,0.00,0.40,0.96,0.97,0.87,0.31,0.14,0.11,0.41,0.84,0.92,0.86, 0.01,0.02,0.00,0.00,0.00,0.00,0.00,0.00,0.00,0.00,0.00,0.00,0.00,0.00,0.00, 0.00,0.48,0.91,0.95,0.60,0.10,0.21,0.08,0.11,0.69,0.82,0.93,0.31,0.00,0.00, 0.00,0.00,0.00,0.00,0.00,0.00,0.00,0.00,0.00,0.00,0.00,0.00,0.00,0.46,0.83, 0.88,0.66,0.06,0.02,0.03,0.08,0.28,0.72,0.83,0.53,0.02,0.00,0.00,0.00,0.00, 0.00,0.00,0.00,0.00,0.00,0.00,0.00,0.00,0.00,0.00,0.03,0.85,0.86,0.67,0.04, 0.01,0.00,0.06,0.66,0.84,0.90,0.60,0.03,0.01,0.00,0.00,0.00,0.00,0.00,0.00, 0.00,0.00,0.00,0.00,0.00,0.00,0.00,0.00,0.05,0.91,0.89,0.07,0.03,0.36,0.67, 0.89,0.87,0.77,0.72,0.20,0.01,0.00,0.00,0.00,0.00,0.00,0.00,0.00,0.00,0.00, 0.00,0.00,0.00,0.00,0.00,0.00,0.00,0.79,0.96,0.83,0.86,0.93,0.92,0.93,0.91, 0.98,0.84,0.04,0.00,0.00,0.00,0.00,0.00,0.00,0.00,0.00,0.00,0.00,0.00,0.00, 0.00,0.00,0.00,0.00,0.01,0.26,0.95,0.95,0.71,0.47,0.17,0.17,0.87,1.00,0.62, 0.02,0.01,0.05,0.02,0.00,0.00,0.00,0.00,0.00,0.00,0.00,0.00,0.00,0.00,0.00, 0.00,0.00,0.05,0.19,0.16,0.04,0.05,0.03,0.01,0.34,1.00,1.00,0.63,0.01,0.00, 0.06,0.07,0.01,0.01,0.01,0.01,0.00,0.00,0.00,0.00,0.00,0.00,0.00,0.00,0.00, 0.10,0.10,0.05,0.01,0.02,0.01,0.06,0.47,1.00,0.97,0.08,0.00,0.00,0.01,0.01, 0.04,0.04,0.07,0.05,0.00,0.00,0.00,0.00,0.00,0.00,0.00,0.00,0.02,0.05,0.04, 0.02,0.01,0.08,0.08,0.09,0.17,0.95,0.86,0.03,0.00,0.00,0.00,0.00,0.01,0.03, 0.03,0.02,0.00,0.00,0.00,0.00,0.00,0.00,0.00,0.00,0.00,0.01,0.01,0.04,0.14, 0.15,0.09,0.19,0.33,0.90,0.89,0.01,0.00,0.00,0.00,0.00,0.00,0.00,0.00,0.00, 0.00,0.00,0.00,0.00,0.00,0.00,0.00,0.00,0.00,0.00,0.01,0.09,0.16,0.07,0.08, 0.05,0.38,0.81,0.80,0.05,0.01,0.00,0.00,0.00,0.00,0.00,0.00,0.00,0.00,0.00, 0.00,0.00,0.00,0.00,0.00,0.00,0.00,0.00,0.00,0.02,0.01,0.05,0.02,0.00,0.04, 0.75,0.74,0.08,0.01,0.00,0.00,0.00,0.00,0.00,0.00,0.00,0.00,0.00,0.00,0.00, 0.00,0.00,0.00,0.00,0.00,0.00,0.00,0.00,0.01,0.01,0.02,0.00,0.00,0.70,0.85, 0.18,0.01,0.00,0.00,0.00,0.00,0.00,0.00,0.00,0.00,0.00,0.00,0.00,0.00,0.00, 0.00,0.00,0.00,0.00,0.00,0.00,0.00,0.00,0.00,0.00,0.00,0.46,0.95,0.73,0.03, 0.00,0.00,0.00,0.00,0.00,0.00,0.00,0.00,0.00,0.00,0.00,0.00,0.00,0.00,0.00, 0.00,0.00,0.00,0.00,0.00,0.00,0.00,0.00,0.00,0.00,0.72,0.87,0.64,0.00,0.00, 0.00,0.00,0.00,0.00,0.00,0.00,0.00,0.00,0.00,0.00,0.00,0.00,0.00,0.00,0.00, 0.00,0.00,0.00,0.00,0.00,0.00,0.00,0.00,0.02,0.54,0.88,0.11,0.00,0.00,0.00, 0.00,0.00,0.00,0.00,0.00,0.00,0.00,0.00,0.00,0.00,0.00,0.00,0.00,0.00,0.00, 0.00,0.00,0.00,0.00,0.00,0.00,0.00,0.00,0.00,0.00,0.00,0.00,0.00,0.00,0.00, 0.00,0.00,0.00,0.00] | correct\n",
      "5 | [[[0.00],  [0.00],  [0.00],  [0.00],  [0.00],  [0.00],  [0.00],  [0.00],  [0.00],  [0.00],  [0.00],  [0.00],  [0.00],  [0.00],  [0.00],  [0.00],  [0.00],  [0.00],  [0.00],  [0.00],  [0.00],  [0.00],  [0.00],  [0.00],  [0.00],  [0.00],  [0.00],  [0.00]], [[0.00],  [0.00],  [0.00],  [0.00],  [0.00],  [0.00],  [0.00],  [0.00],  [0.00],  [0.00],  [0.00],  [0.00],  [0.00],  [0.00],  [0.00],  [0.00],  [0.00],  [0.00],  [0.00],  [0.00],  [0.00],  [0.00],  [0.00],  [0.00],  [0.00],  [0.00],  [0.00],  [0.00]], [[0.00],  [0.00],  [0.00],  [0.00],  [0.00],  [0.00],  [0.00],  [0.00],  [0.00],  [0.00],  [0.00],  [0.00],  [0.00],  [0.00],  [0.00],  [0.00],  [0.00],  [0.00],  [0.00],  [0.00],  [0.00],  [0.00],  [0.00],  [0.00],  [0.00],  [0.00],  [0.00],  [0.00]], [[0.00],  [0.00],  [0.00],  [0.00],  [0.00],  [0.00],  [0.00],  [0.00],  [0.00],  [0.00],  [0.00],  [0.00],  [0.00],  [0.00],  [0.00],  [0.00],  [0.00],  [0.00],  [0.00],  [0.00],  [0.00],  [0.00],  [0.00],  [0.00],  [0.00],  [0.00],  [0.00],  [0.00]], [[0.00],  [0.00],  [0.00],  [0.00],  [0.00],  [0.00],  [0.00],  [0.00],  [0.00],  [0.00],  [0.00],  [0.00],  [0.00],  [0.00],  [0.00],  [0.00],  [0.00],  [0.00],  [0.00],  [0.00],  [0.00],  [0.00],  [0.00],  [0.00],  [0.00],  [0.00],  [0.00],  [0.00]], [[0.00],  [0.00],  [0.00],  [0.00],  [0.00],  [0.00],  [0.00],  [0.00],  [0.00],  [0.00],  [0.00],  [0.00],  [0.00],  [0.00],  [0.00],  [0.05],  [0.10],  [0.39],  [0.48],  [0.03],  [0.00],  [0.00],  [0.00],  [0.00],  [0.00],  [0.00],  [0.00],  [0.00]], [[0.00],  [0.00],  [0.00],  [0.00],  [0.00],  [0.00],  [0.00],  [0.00],  [0.00],  [0.00],  [0.00],  [0.00],  [0.00],  [0.13],  [0.59],  [0.82],  [0.99],  [0.99],  [0.99],  [0.57],  [0.00],  [0.00],  [0.00],  [0.00],  [0.00],  [0.00],  [0.00],  [0.00]], [[0.00],  [0.00],  [0.00],  [0.00],  [0.00],  [0.00],  [0.00],  [0.00],  [0.00],  [0.00],  [0.00],  [0.16],  [0.60],  [0.96],  [0.99],  [0.99],  [0.88],  [0.83],  [0.99],  [0.91],  [0.16],  [0.00],  [0.00],  [0.00],  [0.00],  [0.00],  [0.00],  [0.00]], [[0.00],  [0.00],  [0.00],  [0.00],  [0.00],  [0.00],  [0.00],  [0.00],  [0.00],  [0.06],  [0.60],  [0.94],  [0.99],  [0.99],  [0.99],  [0.85],  [0.12],  [0.15],  [0.99],  [0.99],  [0.24],  [0.00],  [0.00],  [0.00],  [0.00],  [0.00],  [0.00],  [0.00]], [[0.00],  [0.00],  [0.00],  [0.00],  [0.00],  [0.00],  [0.00],  [0.00],  [0.00],  [0.38],  [0.99],  [0.99],  [0.99],  [0.99],  [0.85],  [0.11],  [0.00],  [0.15],  [0.99],  [0.99],  [0.24],  [0.00],  [0.00],  [0.00],  [0.00],  [0.00],  [0.00],  [0.00]], [[0.00],  [0.00],  [0.00],  [0.00],  [0.00],  [0.00],  [0.00],  [0.00],  [0.00],  [0.71],  [0.99],  [0.99],  [0.86],  [0.65],  [0.12],  [0.00],  [0.00],  [0.30],  [0.99],  [0.99],  [0.24],  [0.00],  [0.00],  [0.00],  [0.00],  [0.00],  [0.00],  [0.00]], [[0.00],  [0.00],  [0.00],  [0.00],  [0.00],  [0.00],  [0.00],  [0.00],  [0.00],  [0.10],  [0.50],  [0.23],  [0.09],  [0.00],  [0.00],  [0.00],  [0.00],  [0.39],  [0.99],  [0.99],  [0.24],  [0.00],  [0.00],  [0.00],  [0.00],  [0.00],  [0.00],  [0.00]], [[0.00],  [0.00],  [0.00],  [0.00],  [0.00],  [0.00],  [0.00],  [0.00],  [0.00],  [0.00],  [0.00],  [0.00],  [0.00],  [0.00],  [0.00],  [0.00],  [0.00],  [0.62],  [0.99],  [0.99],  [0.24],  [0.00],  [0.00],  [0.00],  [0.00],  [0.00],  [0.00],  [0.00]], [[0.00],  [0.00],  [0.00],  [0.00],  [0.00],  [0.00],  [0.00],  [0.00],  [0.00],  [0.00],  [0.00],  [0.00],  [0.00],  [0.43],  [0.47],  [0.48],  [0.47],  [0.79],  [0.99],  [0.76],  [0.01],  [0.00],  [0.00],  [0.00],  [0.00],  [0.00],  [0.00],  [0.00]], [[0.00],  [0.00],  [0.00],  [0.00],  [0.00],  [0.00],  [0.00],  [0.00],  [0.00],  [0.00],  [0.04],  [0.21],  [0.70],  [0.99],  [0.99],  [1.00],  [0.99],  [0.99],  [0.89],  [0.14],  [0.00],  [0.00],  [0.00],  [0.00],  [0.00],  [0.00],  [0.00],  [0.00]], [[0.00],  [0.00],  [0.00],  [0.00],  [0.00],  [0.00],  [0.00],  [0.00],  [0.02],  [0.21],  [0.89],  [0.99],  [0.95],  [0.89],  [0.67],  [0.95],  [0.99],  [0.99],  [0.91],  [0.46],  [0.02],  [0.00],  [0.00],  [0.00],  [0.00],  [0.00],  [0.00],  [0.00]], [[0.00],  [0.00],  [0.00],  [0.00],  [0.00],  [0.00],  [0.00],  [0.02],  [0.31],  [0.99],  [0.99],  [0.49],  [0.23],  [0.00],  [0.07],  [0.82],  [0.99],  [0.99],  [0.99],  [0.99],  [0.34],  [0.03],  [0.00],  [0.00],  [0.00],  [0.00],  [0.00],  [0.00]], [[0.00],  [0.00],  [0.00],  [0.00],  [0.00],  [0.00],  [0.02],  [0.53],  [0.99],  [0.99],  [0.71],  [0.06],  [0.00],  [0.08],  [0.80],  [0.99],  [0.97],  [0.51],  [0.68],  [0.99],  [0.99],  [0.72],  [0.26],  [0.19],  [0.19],  [0.00],  [0.00],  [0.00]], [[0.00],  [0.00],  [0.00],  [0.00],  [0.00],  [0.01],  [0.53],  [0.99],  [0.95],  [0.42],  [0.07],  [0.00],  [0.21],  [0.78],  [0.99],  [0.85],  [0.25],  [0.00],  [0.05],  [0.28],  [0.64],  [0.95],  [0.99],  [0.99],  [0.87],  [0.00],  [0.00],  [0.00]], [[0.00],  [0.00],  [0.00],  [0.00],  [0.00],  [0.41],  [0.99],  [0.95],  [0.35],  [0.07],  [0.29],  [0.67],  [0.96],  [0.99],  [0.49],  [0.11],  [0.00],  [0.00],  [0.00],  [0.00],  [0.00],  [0.35],  [0.71],  [0.71],  [0.15],  [0.00],  [0.00],  [0.00]], [[0.00],  [0.00],  [0.00],  [0.00],  [0.00],  [0.91],  [0.99],  [0.96],  [0.80],  [0.85],  [0.99],  [0.99],  [0.99],  [0.49],  [0.01],  [0.00],  [0.00],  [0.00],  [0.00],  [0.00],  [0.00],  [0.00],  [0.00],  [0.00],  [0.00],  [0.00],  [0.00],  [0.00]], [[0.00],  [0.00],  [0.00],  [0.00],  [0.00],  [0.81],  [0.99],  [0.99],  [0.99],  [0.99],  [0.70],  [0.45],  [0.14],  [0.02],  [0.00],  [0.00],  [0.00],  [0.00],  [0.00],  [0.00],  [0.00],  [0.00],  [0.00],  [0.00],  [0.00],  [0.00],  [0.00],  [0.00]], [[0.00],  [0.00],  [0.00],  [0.00],  [0.00],  [0.05],  [0.36],  [0.56],  [0.47],  [0.09],  [0.02],  [0.00],  [0.00],  [0.00],  [0.00],  [0.00],  [0.00],  [0.00],  [0.00],  [0.00],  [0.00],  [0.00],  [0.00],  [0.00],  [0.00],  [0.00],  [0.00],  [0.00]], [[0.00],  [0.00],  [0.00],  [0.00],  [0.00],  [0.00],  [0.00],  [0.00],  [0.00],  [0.00],  [0.00],  [0.00],  [0.00],  [0.00],  [0.00],  [0.00],  [0.00],  [0.00],  [0.00],  [0.00],  [0.00],  [0.00],  [0.00],  [0.00],  [0.00],  [0.00],  [0.00],  [0.00]], [[0.00],  [0.00],  [0.00],  [0.00],  [0.00],  [0.00],  [0.00],  [0.00],  [0.00],  [0.00],  [0.00],  [0.00],  [0.00],  [0.00],  [0.00],  [0.00],  [0.00],  [0.00],  [0.00],  [0.00],  [0.00],  [0.00],  [0.00],  [0.00],  [0.00],  [0.00],  [0.00],  [0.00]], [[0.00],  [0.00],  [0.00],  [0.00],  [0.00],  [0.00],  [0.00],  [0.00],  [0.00],  [0.00],  [0.00],  [0.00],  [0.00],  [0.00],  [0.00],  [0.00],  [0.00],  [0.00],  [0.00],  [0.00],  [0.00],  [0.00],  [0.00],  [0.00],  [0.00],  [0.00],  [0.00],  [0.00]], [[0.00],  [0.00],  [0.00],  [0.00],  [0.00],  [0.00],  [0.00],  [0.00],  [0.00],  [0.00],  [0.00],  [0.00],  [0.00],  [0.00],  [0.00],  [0.00],  [0.00],  [0.00],  [0.00],  [0.00],  [0.00],  [0.00],  [0.00],  [0.00],  [0.00],  [0.00],  [0.00],  [0.00]], [[0.00],  [0.00],  [0.00],  [0.00],  [0.00],  [0.00],  [0.00],  [0.00],  [0.00],  [0.00],  [0.00],  [0.00],  [0.00],  [0.00],  [0.00],  [0.00],  [0.00],  [0.00],  [0.00],  [0.00],  [0.00],  [0.00],  [0.00],  [0.00],  [0.00],  [0.00],  [0.00],  [0.00]]] | [0.00,0.00,0.00,0.00,0.00,0.00,0.00,0.00,0.00,0.00,0.00,0.00,0.00,0.00,0.00, 0.00,0.00,0.00,0.00,0.00,0.00,0.00,0.00,0.00,0.00,0.00,0.00,0.00,0.00,0.00, 0.00,0.00,0.00,0.00,0.00,0.00,0.00,0.00,0.00,0.00,0.00,0.00,0.00,0.00,0.00, 0.00,0.00,0.00,0.00,0.00,0.00,0.00,0.00,0.00,0.00,0.00,0.00,0.00,0.00,0.00, 0.00,0.00,0.00,0.00,0.00,0.00,0.00,0.00,0.00,0.00,0.00,0.00,0.00,0.00,0.00, 0.00,0.00,0.00,0.00,0.00,0.00,0.00,0.00,0.00,0.00,0.00,0.00,0.00,0.00,0.00, 0.00,0.00,0.00,0.00,0.00,0.00,0.00,0.00,0.00,0.00,0.00,0.00,0.00,0.00,0.00, 0.00,0.00,0.00,0.00,0.00,0.00,0.00,0.00,0.00,0.00,0.00,0.00,0.00,0.00,0.00, 0.00,0.00,0.00,0.00,0.00,0.00,0.00,0.00,0.00,0.00,0.00,0.00,0.00,0.00,0.00, 0.00,0.00,0.00,0.00,0.00,0.00,0.00,0.00,0.00,0.00,0.00,0.00,0.00,0.00,0.00, 0.00,0.00,0.00,0.00,0.00,0.05,0.10,0.39,0.48,0.03,0.00,0.00,0.00,0.00,0.00, 0.00,0.00,0.00,0.00,0.00,0.00,0.00,0.00,0.00,0.00,0.00,0.00,0.00,0.00,0.00, 0.00,0.13,0.59,0.82,0.99,0.99,0.99,0.57,0.00,0.00,0.00,0.00,0.00,0.00,0.00, 0.00,0.00,0.00,0.00,0.00,0.00,0.00,0.00,0.00,0.00,0.00,0.00,0.16,0.60,0.96, 0.99,0.99,0.88,0.83,0.99,0.91,0.16,0.00,0.00,0.00,0.00,0.00,0.00,0.00,0.00, 0.00,0.00,0.00,0.00,0.00,0.00,0.00,0.00,0.06,0.60,0.94,0.99,0.99,0.99,0.85, 0.12,0.15,0.99,0.99,0.24,0.00,0.00,0.00,0.00,0.00,0.00,0.00,0.00,0.00,0.00, 0.00,0.00,0.00,0.00,0.00,0.00,0.38,0.99,0.99,0.99,0.99,0.85,0.11,0.00,0.15, 0.99,0.99,0.24,0.00,0.00,0.00,0.00,0.00,0.00,0.00,0.00,0.00,0.00,0.00,0.00, 0.00,0.00,0.00,0.00,0.71,0.99,0.99,0.86,0.65,0.12,0.00,0.00,0.30,0.99,0.99, 0.24,0.00,0.00,0.00,0.00,0.00,0.00,0.00,0.00,0.00,0.00,0.00,0.00,0.00,0.00, 0.00,0.00,0.10,0.50,0.23,0.09,0.00,0.00,0.00,0.00,0.39,0.99,0.99,0.24,0.00, 0.00,0.00,0.00,0.00,0.00,0.00,0.00,0.00,0.00,0.00,0.00,0.00,0.00,0.00,0.00, 0.00,0.00,0.00,0.00,0.00,0.00,0.00,0.00,0.62,0.99,0.99,0.24,0.00,0.00,0.00, 0.00,0.00,0.00,0.00,0.00,0.00,0.00,0.00,0.00,0.00,0.00,0.00,0.00,0.00,0.00, 0.00,0.00,0.43,0.47,0.48,0.47,0.79,0.99,0.76,0.01,0.00,0.00,0.00,0.00,0.00, 0.00,0.00,0.00,0.00,0.00,0.00,0.00,0.00,0.00,0.00,0.00,0.00,0.04,0.21,0.70, 0.99,0.99,1.00,0.99,0.99,0.89,0.14,0.00,0.00,0.00,0.00,0.00,0.00,0.00,0.00, 0.00,0.00,0.00,0.00,0.00,0.00,0.00,0.00,0.02,0.21,0.89,0.99,0.95,0.89,0.67, 0.95,0.99,0.99,0.91,0.46,0.02,0.00,0.00,0.00,0.00,0.00,0.00,0.00,0.00,0.00, 0.00,0.00,0.00,0.00,0.00,0.02,0.31,0.99,0.99,0.49,0.23,0.00,0.07,0.82,0.99, 0.99,0.99,0.99,0.34,0.03,0.00,0.00,0.00,0.00,0.00,0.00,0.00,0.00,0.00,0.00, 0.00,0.00,0.02,0.53,0.99,0.99,0.71,0.06,0.00,0.08,0.80,0.99,0.97,0.51,0.68, 0.99,0.99,0.72,0.26,0.19,0.19,0.00,0.00,0.00,0.00,0.00,0.00,0.00,0.00,0.01, 0.53,0.99,0.95,0.42,0.07,0.00,0.21,0.78,0.99,0.85,0.25,0.00,0.05,0.28,0.64, 0.95,0.99,0.99,0.87,0.00,0.00,0.00,0.00,0.00,0.00,0.00,0.00,0.41,0.99,0.95, 0.35,0.07,0.29,0.67,0.96,0.99,0.49,0.11,0.00,0.00,0.00,0.00,0.00,0.35,0.71, 0.71,0.15,0.00,0.00,0.00,0.00,0.00,0.00,0.00,0.00,0.91,0.99,0.96,0.80,0.85, 0.99,0.99,0.99,0.49,0.01,0.00,0.00,0.00,0.00,0.00,0.00,0.00,0.00,0.00,0.00, 0.00,0.00,0.00,0.00,0.00,0.00,0.00,0.00,0.81,0.99,0.99,0.99,0.99,0.70,0.45, 0.14,0.02,0.00,0.00,0.00,0.00,0.00,0.00,0.00,0.00,0.00,0.00,0.00,0.00,0.00, 0.00,0.00,0.00,0.00,0.00,0.00,0.05,0.36,0.56,0.47,0.09,0.02,0.00,0.00,0.00, 0.00,0.00,0.00,0.00,0.00,0.00,0.00,0.00,0.00,0.00,0.00,0.00,0.00,0.00,0.00, 0.00,0.00,0.00,0.00,0.00,0.00,0.00,0.00,0.00,0.00,0.00,0.00,0.00,0.00,0.00, 0.00,0.00,0.00,0.00,0.00,0.00,0.00,0.00,0.00,0.00,0.00,0.00,0.00,0.00,0.00, 0.00,0.00,0.00,0.00,0.00,0.00,0.00,0.00,0.00,0.00,0.00,0.00,0.00,0.00,0.00, 0.00,0.00,0.00,0.00,0.00,0.00,0.00,0.00,0.00,0.00,0.00,0.00,0.00,0.00,0.00, 0.00,0.00,0.00,0.00,0.00,0.00,0.00,0.00,0.00,0.00,0.00,0.00,0.00,0.00,0.00, 0.00,0.00,0.00,0.00,0.00,0.00,0.00,0.00,0.00,0.00,0.00,0.00,0.00,0.00,0.00, 0.00,0.00,0.00,0.00,0.00,0.00,0.00,0.00,0.00,0.00,0.00,0.00,0.00,0.00,0.00, 0.00,0.00,0.00,0.00,0.00,0.00,0.00,0.00,0.00,0.00,0.00,0.00,0.00,0.00,0.00, 0.00,0.00,0.00,0.00,0.00,0.00,0.00,0.00,0.00,0.00,0.00,0.00,0.00,0.00,0.00, 0.00,0.00,0.00,0.00] | [0.00,0.00,0.00,0.00,0.00,0.00,0.00,0.00,0.00,0.00,0.00,0.00,0.00,0.00,0.00, 0.00,0.00,0.00,0.00,0.00,0.00,0.00,0.00,0.00,0.00,0.00,0.00,0.00,0.00,0.00, 0.00,0.00,0.00,0.00,0.00,0.00,0.00,0.00,0.00,0.00,0.00,0.00,0.00,0.00,0.00, 0.00,0.00,0.00,0.00,0.00,0.00,0.00,0.00,0.00,0.00,0.00,0.00,0.00,0.00,0.00, 0.00,0.00,0.00,0.00,0.00,0.00,0.00,0.00,0.00,0.00,0.00,0.00,0.00,0.00,0.00, 0.00,0.00,0.00,0.00,0.00,0.00,0.00,0.00,0.00,0.00,0.00,0.00,0.00,0.00,0.00, 0.00,0.00,0.00,0.00,0.00,0.00,0.00,0.00,0.00,0.00,0.00,0.00,0.00,0.00,0.00, 0.00,0.00,0.00,0.00,0.00,0.00,0.00,0.00,0.00,0.00,0.00,0.00,0.00,0.00,0.00, 0.00,0.00,0.00,0.00,0.00,0.00,0.00,0.00,0.00,0.00,0.00,0.00,0.00,0.00,0.03, 0.03,0.00,0.00,0.00,0.00,0.00,0.00,0.00,0.00,0.00,0.00,0.00,0.00,0.00,0.00, 0.00,0.01,0.01,0.02,0.04,0.08,0.09,0.38,0.46,0.01,0.00,0.00,0.00,0.01,0.00, 0.00,0.00,0.00,0.00,0.00,0.00,0.00,0.00,0.00,0.00,0.00,0.00,0.00,0.00,0.01, 0.02,0.14,0.59,0.80,0.98,0.98,0.94,0.53,0.00,0.00,0.01,0.02,0.00,0.00,0.00, 0.00,0.00,0.00,0.00,0.00,0.00,0.00,0.00,0.00,0.00,0.00,0.01,0.15,0.63,0.96, 0.99,1.00,0.88,0.83,0.99,0.90,0.18,0.01,0.04,0.00,0.00,0.00,0.00,0.00,0.00, 0.00,0.00,0.00,0.00,0.00,0.00,0.00,0.00,0.04,0.57,0.98,0.99,1.00,0.99,0.82, 0.11,0.14,1.00,0.99,0.32,0.03,0.01,0.00,0.00,0.00,0.00,0.00,0.00,0.00,0.00, 0.00,0.00,0.00,0.00,0.00,0.00,0.38,0.98,0.99,0.99,0.98,0.83,0.08,0.00,0.09, 0.99,1.00,0.25,0.02,0.00,0.00,0.00,0.00,0.00,0.00,0.00,0.00,0.00,0.00,0.00, 0.00,0.00,0.00,0.00,0.72,0.99,0.99,0.87,0.66,0.08,0.00,0.00,0.29,1.00,1.00, 0.25,0.01,0.00,0.00,0.00,0.00,0.00,0.00,0.00,0.00,0.00,0.00,0.00,0.00,0.00, 0.00,0.01,0.09,0.49,0.21,0.07,0.02,0.00,0.00,0.02,0.40,1.00,1.00,0.23,0.00, 0.00,0.00,0.00,0.00,0.00,0.00,0.00,0.00,0.00,0.00,0.00,0.00,0.00,0.02,0.05, 0.03,0.04,0.02,0.01,0.00,0.01,0.01,0.11,0.71,1.00,0.98,0.24,0.00,0.00,0.00, 0.00,0.00,0.00,0.00,0.00,0.00,0.00,0.00,0.00,0.00,0.00,0.02,0.05,0.04,0.03, 0.09,0.02,0.44,0.49,0.49,0.49,0.87,0.99,0.77,0.00,0.00,0.00,0.00,0.00,0.00, 0.00,0.00,0.00,0.00,0.00,0.00,0.00,0.00,0.00,0.02,0.07,0.10,0.16,0.30,0.75, 0.99,0.98,0.98,1.00,1.00,0.91,0.09,0.00,0.00,0.00,0.00,0.00,0.00,0.00,0.00, 0.00,0.00,0.00,0.00,0.00,0.00,0.00,0.03,0.05,0.25,0.99,1.00,0.98,0.93,0.68, 0.98,1.00,1.00,0.90,0.44,0.00,0.00,0.00,0.00,0.00,0.00,0.00,0.00,0.00,0.00, 0.00,0.00,0.00,0.00,0.01,0.02,0.30,0.99,0.99,0.49,0.23,0.02,0.06,0.84,0.99, 1.00,0.97,0.91,0.33,0.02,0.00,0.00,0.00,0.00,0.00,0.00,0.00,0.00,0.00,0.00, 0.00,0.00,0.04,0.51,0.95,0.95,0.71,0.03,0.00,0.05,0.82,1.00,0.97,0.54,0.67, 0.87,0.94,0.71,0.25,0.17,0.17,0.00,0.00,0.00,0.00,0.00,0.00,0.00,0.00,0.00, 0.54,0.97,0.87,0.41,0.04,0.00,0.15,0.77,1.00,0.87,0.27,0.01,0.05,0.28,0.63, 0.91,0.93,0.91,0.81,0.00,0.00,0.00,0.00,0.00,0.00,0.00,0.00,0.38,0.93,0.94, 0.34,0.04,0.20,0.61,0.89,0.95,0.51,0.19,0.01,0.00,0.00,0.00,0.00,0.34,0.68, 0.68,0.11,0.00,0.00,0.00,0.00,0.00,0.00,0.00,0.00,0.90,0.98,0.96,0.78,0.80, 0.89,0.92,0.88,0.49,0.04,0.07,0.01,0.01,0.00,0.00,0.00,0.00,0.00,0.00,0.00, 0.00,0.00,0.00,0.00,0.00,0.00,0.00,0.00,0.79,0.97,0.99,0.97,0.92,0.65,0.44, 0.13,0.05,0.09,0.15,0.06,0.00,0.01,0.00,0.00,0.00,0.00,0.00,0.00,0.00,0.00, 0.00,0.00,0.00,0.00,0.00,0.00,0.03,0.36,0.56,0.46,0.05,0.02,0.00,0.01,0.05, 0.19,0.18,0.02,0.00,0.00,0.00,0.00,0.00,0.00,0.00,0.00,0.00,0.00,0.00,0.00, 0.00,0.00,0.00,0.00,0.00,0.01,0.01,0.00,0.00,0.00,0.01,0.01,0.01,0.04,0.06, 0.01,0.00,0.00,0.00,0.00,0.00,0.00,0.00,0.00,0.00,0.00,0.00,0.00,0.00,0.00, 0.00,0.00,0.00,0.00,0.00,0.00,0.03,0.00,0.01,0.01,0.00,0.00,0.02,0.01,0.01, 0.00,0.00,0.00,0.00,0.00,0.00,0.00,0.00,0.00,0.00,0.00,0.00,0.00,0.00,0.00, 0.00,0.00,0.00,0.00,0.00,0.00,0.00,0.00,0.00,0.00,0.01,0.04,0.01,0.00,0.00, 0.00,0.00,0.00,0.00,0.00,0.00,0.00,0.00,0.00,0.00,0.00,0.00,0.00,0.00,0.00, 0.00,0.00,0.00,0.00,0.00,0.00,0.00,0.00,0.00,0.01,0.02,0.01,0.00,0.00,0.00, 0.00,0.00,0.00,0.00,0.00,0.00,0.00,0.00,0.00,0.00,0.00,0.00,0.00,0.00,0.00, 0.00,0.00,0.00,0.00,0.00,0.00,0.00,0.00,0.00,0.00,0.00,0.00,0.00,0.00,0.00, 0.00,0.00,0.00,0.00] | correct\n",
      "6 | [[[0.00],  [0.00],  [0.00],  [0.00],  [0.00],  [0.00],  [0.00],  [0.00],  [0.00],  [0.00],  [0.00],  [0.00],  [0.00],  [0.00],  [0.00],  [0.00],  [0.00],  [0.00],  [0.00],  [0.00],  [0.00],  [0.00],  [0.00],  [0.00],  [0.00],  [0.00],  [0.00],  [0.00]], [[0.00],  [0.00],  [0.00],  [0.00],  [0.00],  [0.00],  [0.00],  [0.00],  [0.00],  [0.00],  [0.00],  [0.00],  [0.00],  [0.00],  [0.00],  [0.00],  [0.00],  [0.00],  [0.00],  [0.00],  [0.00],  [0.00],  [0.00],  [0.00],  [0.00],  [0.00],  [0.00],  [0.00]], [[0.00],  [0.00],  [0.00],  [0.00],  [0.00],  [0.00],  [0.00],  [0.00],  [0.00],  [0.00],  [0.00],  [0.00],  [0.00],  [0.00],  [0.00],  [0.00],  [0.00],  [0.00],  [0.00],  [0.00],  [0.00],  [0.00],  [0.00],  [0.00],  [0.00],  [0.00],  [0.00],  [0.00]], [[0.00],  [0.00],  [0.00],  [0.00],  [0.00],  [0.00],  [0.00],  [0.00],  [0.00],  [0.00],  [0.00],  [0.00],  [0.00],  [0.00],  [0.00],  [0.00],  [0.00],  [0.00],  [0.00],  [0.00],  [0.00],  [0.00],  [0.00],  [0.00],  [0.00],  [0.00],  [0.00],  [0.00]], [[0.00],  [0.00],  [0.00],  [0.00],  [0.00],  [0.00],  [0.00],  [0.00],  [0.00],  [0.00],  [0.00],  [0.00],  [0.57],  [1.00],  [0.83],  [0.12],  [0.00],  [0.00],  [0.00],  [0.00],  [0.00],  [0.00],  [0.00],  [0.00],  [0.00],  [0.00],  [0.00],  [0.00]], [[0.00],  [0.00],  [0.00],  [0.00],  [0.00],  [0.00],  [0.00],  [0.00],  [0.00],  [0.00],  [0.00],  [0.13],  [0.93],  [0.99],  [0.99],  [0.28],  [0.00],  [0.00],  [0.00],  [0.00],  [0.00],  [0.00],  [0.00],  [0.00],  [0.00],  [0.00],  [0.00],  [0.00]], [[0.00],  [0.00],  [0.00],  [0.00],  [0.00],  [0.00],  [0.00],  [0.00],  [0.00],  [0.00],  [0.00],  [0.04],  [0.69],  [0.99],  [0.99],  [0.28],  [0.00],  [0.00],  [0.00],  [0.00],  [0.00],  [0.00],  [0.00],  [0.00],  [0.00],  [0.00],  [0.00],  [0.00]], [[0.00],  [0.00],  [0.00],  [0.00],  [0.00],  [0.00],  [0.00],  [0.00],  [0.00],  [0.00],  [0.00],  [0.00],  [0.56],  [0.99],  [0.99],  [0.28],  [0.00],  [0.00],  [0.00],  [0.00],  [0.00],  [0.00],  [0.00],  [0.00],  [0.00],  [0.00],  [0.00],  [0.00]], [[0.00],  [0.00],  [0.00],  [0.00],  [0.00],  [0.00],  [0.00],  [0.00],  [0.00],  [0.00],  [0.00],  [0.06],  [0.75],  [0.99],  [0.99],  [0.28],  [0.00],  [0.00],  [0.00],  [0.00],  [0.00],  [0.00],  [0.00],  [0.00],  [0.00],  [0.00],  [0.00],  [0.00]], [[0.00],  [0.00],  [0.00],  [0.00],  [0.00],  [0.00],  [0.00],  [0.00],  [0.00],  [0.00],  [0.00],  [0.10],  [0.87],  [0.99],  [0.99],  [0.49],  [0.12],  [0.00],  [0.00],  [0.00],  [0.00],  [0.00],  [0.00],  [0.00],  [0.00],  [0.00],  [0.00],  [0.00]], [[0.00],  [0.00],  [0.00],  [0.00],  [0.00],  [0.00],  [0.00],  [0.00],  [0.00],  [0.00],  [0.00],  [0.00],  [0.49],  [0.99],  [0.99],  [0.99],  [0.42],  [0.00],  [0.00],  [0.00],  [0.00],  [0.00],  [0.00],  [0.00],  [0.00],  [0.00],  [0.00],  [0.00]], [[0.00],  [0.00],  [0.00],  [0.00],  [0.00],  [0.00],  [0.00],  [0.00],  [0.00],  [0.00],  [0.00],  [0.00],  [0.00],  [0.99],  [0.99],  [0.99],  [0.42],  [0.00],  [0.00],  [0.00],  [0.00],  [0.00],  [0.00],  [0.00],  [0.00],  [0.00],  [0.00],  [0.00]], [[0.00],  [0.00],  [0.00],  [0.00],  [0.00],  [0.00],  [0.00],  [0.00],  [0.00],  [0.00],  [0.00],  [0.00],  [0.00],  [1.00],  [0.99],  [0.99],  [0.42],  [0.00],  [0.00],  [0.00],  [0.00],  [0.00],  [0.00],  [0.00],  [0.00],  [0.00],  [0.00],  [0.00]], [[0.00],  [0.00],  [0.00],  [0.00],  [0.00],  [0.00],  [0.00],  [0.00],  [0.00],  [0.00],  [0.00],  [0.00],  [0.00],  [0.99],  [0.99],  [0.99],  [0.42],  [0.00],  [0.00],  [0.00],  [0.00],  [0.00],  [0.00],  [0.00],  [0.00],  [0.00],  [0.00],  [0.00]], [[0.00],  [0.00],  [0.00],  [0.00],  [0.00],  [0.00],  [0.00],  [0.00],  [0.00],  [0.00],  [0.00],  [0.00],  [0.00],  [0.99],  [0.99],  [0.99],  [0.42],  [0.00],  [0.00],  [0.00],  [0.00],  [0.00],  [0.00],  [0.00],  [0.00],  [0.00],  [0.00],  [0.00]], [[0.00],  [0.00],  [0.00],  [0.00],  [0.00],  [0.00],  [0.00],  [0.00],  [0.00],  [0.00],  [0.00],  [0.00],  [0.00],  [0.99],  [0.99],  [0.99],  [0.42],  [0.00],  [0.00],  [0.00],  [0.00],  [0.00],  [0.00],  [0.00],  [0.00],  [0.00],  [0.00],  [0.00]], [[0.00],  [0.00],  [0.00],  [0.00],  [0.00],  [0.00],  [0.00],  [0.00],  [0.00],  [0.00],  [0.00],  [0.00],  [0.00],  [1.00],  [0.99],  [0.99],  [0.67],  [0.00],  [0.00],  [0.00],  [0.00],  [0.00],  [0.00],  [0.00],  [0.00],  [0.00],  [0.00],  [0.00]], [[0.00],  [0.00],  [0.00],  [0.00],  [0.00],  [0.00],  [0.00],  [0.00],  [0.00],  [0.00],  [0.00],  [0.00],  [0.00],  [0.99],  [0.99],  [0.99],  [0.99],  [0.16],  [0.00],  [0.00],  [0.00],  [0.00],  [0.00],  [0.00],  [0.00],  [0.00],  [0.00],  [0.00]], [[0.00],  [0.00],  [0.00],  [0.00],  [0.00],  [0.00],  [0.00],  [0.00],  [0.00],  [0.00],  [0.00],  [0.00],  [0.00],  [0.58],  [0.99],  [0.99],  [0.99],  [0.56],  [0.00],  [0.00],  [0.00],  [0.00],  [0.00],  [0.00],  [0.00],  [0.00],  [0.00],  [0.00]], [[0.00],  [0.00],  [0.00],  [0.00],  [0.00],  [0.00],  [0.00],  [0.00],  [0.00],  [0.00],  [0.00],  [0.00],  [0.00],  [0.43],  [0.99],  [0.99],  [0.99],  [0.56],  [0.00],  [0.00],  [0.00],  [0.00],  [0.00],  [0.00],  [0.00],  [0.00],  [0.00],  [0.00]], [[0.00],  [0.00],  [0.00],  [0.00],  [0.00],  [0.00],  [0.00],  [0.00],  [0.00],  [0.00],  [0.00],  [0.00],  [0.00],  [0.00],  [0.85],  [0.99],  [0.99],  [1.00],  [0.14],  [0.00],  [0.00],  [0.00],  [0.00],  [0.00],  [0.00],  [0.00],  [0.00],  [0.00]], [[0.00],  [0.00],  [0.00],  [0.00],  [0.00],  [0.00],  [0.00],  [0.00],  [0.00],  [0.00],  [0.00],  [0.00],  [0.00],  [0.00],  [0.69],  [0.99],  [0.99],  [0.99],  [0.14],  [0.00],  [0.00],  [0.00],  [0.00],  [0.00],  [0.00],  [0.00],  [0.00],  [0.00]], [[0.00],  [0.00],  [0.00],  [0.00],  [0.00],  [0.00],  [0.00],  [0.00],  [0.00],  [0.00],  [0.00],  [0.00],  [0.00],  [0.00],  [0.29],  [0.99],  [0.99],  [0.99],  [0.14],  [0.00],  [0.00],  [0.00],  [0.00],  [0.00],  [0.00],  [0.00],  [0.00],  [0.00]], [[0.00],  [0.00],  [0.00],  [0.00],  [0.00],  [0.00],  [0.00],  [0.00],  [0.00],  [0.00],  [0.00],  [0.00],  [0.00],  [0.00],  [0.12],  [0.83],  [0.99],  [0.99],  [0.14],  [0.00],  [0.00],  [0.00],  [0.00],  [0.00],  [0.00],  [0.00],  [0.00],  [0.00]], [[0.00],  [0.00],  [0.00],  [0.00],  [0.00],  [0.00],  [0.00],  [0.00],  [0.00],  [0.00],  [0.00],  [0.00],  [0.00],  [0.00],  [0.00],  [0.00],  [0.00],  [0.00],  [0.00],  [0.00],  [0.00],  [0.00],  [0.00],  [0.00],  [0.00],  [0.00],  [0.00],  [0.00]], [[0.00],  [0.00],  [0.00],  [0.00],  [0.00],  [0.00],  [0.00],  [0.00],  [0.00],  [0.00],  [0.00],  [0.00],  [0.00],  [0.00],  [0.00],  [0.00],  [0.00],  [0.00],  [0.00],  [0.00],  [0.00],  [0.00],  [0.00],  [0.00],  [0.00],  [0.00],  [0.00],  [0.00]], [[0.00],  [0.00],  [0.00],  [0.00],  [0.00],  [0.00],  [0.00],  [0.00],  [0.00],  [0.00],  [0.00],  [0.00],  [0.00],  [0.00],  [0.00],  [0.00],  [0.00],  [0.00],  [0.00],  [0.00],  [0.00],  [0.00],  [0.00],  [0.00],  [0.00],  [0.00],  [0.00],  [0.00]], [[0.00],  [0.00],  [0.00],  [0.00],  [0.00],  [0.00],  [0.00],  [0.00],  [0.00],  [0.00],  [0.00],  [0.00],  [0.00],  [0.00],  [0.00],  [0.00],  [0.00],  [0.00],  [0.00],  [0.00],  [0.00],  [0.00],  [0.00],  [0.00],  [0.00],  [0.00],  [0.00],  [0.00]]] | [0.00,0.00,0.00,0.00,0.00,0.00,0.00,0.00,0.00,0.00,0.00,0.00,0.00,0.00,0.00, 0.00,0.00,0.00,0.00,0.00,0.00,0.00,0.00,0.00,0.00,0.00,0.00,0.00,0.00,0.00, 0.00,0.00,0.00,0.00,0.00,0.00,0.00,0.00,0.00,0.00,0.00,0.00,0.00,0.00,0.00, 0.00,0.00,0.00,0.00,0.00,0.00,0.00,0.00,0.00,0.00,0.00,0.00,0.00,0.00,0.00, 0.00,0.00,0.00,0.00,0.00,0.00,0.00,0.00,0.00,0.00,0.00,0.00,0.00,0.00,0.00, 0.00,0.00,0.00,0.00,0.00,0.00,0.00,0.00,0.00,0.00,0.00,0.00,0.00,0.00,0.00, 0.00,0.00,0.00,0.00,0.00,0.00,0.00,0.00,0.00,0.00,0.00,0.00,0.00,0.00,0.00, 0.00,0.00,0.00,0.00,0.00,0.00,0.00,0.00,0.00,0.00,0.00,0.00,0.00,0.00,0.00, 0.00,0.00,0.00,0.00,0.57,1.00,0.83,0.12,0.00,0.00,0.00,0.00,0.00,0.00,0.00, 0.00,0.00,0.00,0.00,0.00,0.00,0.00,0.00,0.00,0.00,0.00,0.00,0.00,0.00,0.00, 0.00,0.13,0.93,0.99,0.99,0.28,0.00,0.00,0.00,0.00,0.00,0.00,0.00,0.00,0.00, 0.00,0.00,0.00,0.00,0.00,0.00,0.00,0.00,0.00,0.00,0.00,0.00,0.00,0.00,0.04, 0.69,0.99,0.99,0.28,0.00,0.00,0.00,0.00,0.00,0.00,0.00,0.00,0.00,0.00,0.00, 0.00,0.00,0.00,0.00,0.00,0.00,0.00,0.00,0.00,0.00,0.00,0.00,0.00,0.56,0.99, 0.99,0.28,0.00,0.00,0.00,0.00,0.00,0.00,0.00,0.00,0.00,0.00,0.00,0.00,0.00, 0.00,0.00,0.00,0.00,0.00,0.00,0.00,0.00,0.00,0.00,0.06,0.75,0.99,0.99,0.28, 0.00,0.00,0.00,0.00,0.00,0.00,0.00,0.00,0.00,0.00,0.00,0.00,0.00,0.00,0.00, 0.00,0.00,0.00,0.00,0.00,0.00,0.00,0.00,0.10,0.87,0.99,0.99,0.49,0.12,0.00, 0.00,0.00,0.00,0.00,0.00,0.00,0.00,0.00,0.00,0.00,0.00,0.00,0.00,0.00,0.00, 0.00,0.00,0.00,0.00,0.00,0.00,0.00,0.49,0.99,0.99,0.99,0.42,0.00,0.00,0.00, 0.00,0.00,0.00,0.00,0.00,0.00,0.00,0.00,0.00,0.00,0.00,0.00,0.00,0.00,0.00, 0.00,0.00,0.00,0.00,0.00,0.00,0.99,0.99,0.99,0.42,0.00,0.00,0.00,0.00,0.00, 0.00,0.00,0.00,0.00,0.00,0.00,0.00,0.00,0.00,0.00,0.00,0.00,0.00,0.00,0.00, 0.00,0.00,0.00,0.00,1.00,0.99,0.99,0.42,0.00,0.00,0.00,0.00,0.00,0.00,0.00, 0.00,0.00,0.00,0.00,0.00,0.00,0.00,0.00,0.00,0.00,0.00,0.00,0.00,0.00,0.00, 0.00,0.00,0.99,0.99,0.99,0.42,0.00,0.00,0.00,0.00,0.00,0.00,0.00,0.00,0.00, 0.00,0.00,0.00,0.00,0.00,0.00,0.00,0.00,0.00,0.00,0.00,0.00,0.00,0.00,0.00, 0.99,0.99,0.99,0.42,0.00,0.00,0.00,0.00,0.00,0.00,0.00,0.00,0.00,0.00,0.00, 0.00,0.00,0.00,0.00,0.00,0.00,0.00,0.00,0.00,0.00,0.00,0.00,0.00,0.99,0.99, 0.99,0.42,0.00,0.00,0.00,0.00,0.00,0.00,0.00,0.00,0.00,0.00,0.00,0.00,0.00, 0.00,0.00,0.00,0.00,0.00,0.00,0.00,0.00,0.00,0.00,0.00,1.00,0.99,0.99,0.67, 0.00,0.00,0.00,0.00,0.00,0.00,0.00,0.00,0.00,0.00,0.00,0.00,0.00,0.00,0.00, 0.00,0.00,0.00,0.00,0.00,0.00,0.00,0.00,0.00,0.99,0.99,0.99,0.99,0.16,0.00, 0.00,0.00,0.00,0.00,0.00,0.00,0.00,0.00,0.00,0.00,0.00,0.00,0.00,0.00,0.00, 0.00,0.00,0.00,0.00,0.00,0.00,0.00,0.58,0.99,0.99,0.99,0.56,0.00,0.00,0.00, 0.00,0.00,0.00,0.00,0.00,0.00,0.00,0.00,0.00,0.00,0.00,0.00,0.00,0.00,0.00, 0.00,0.00,0.00,0.00,0.00,0.43,0.99,0.99,0.99,0.56,0.00,0.00,0.00,0.00,0.00, 0.00,0.00,0.00,0.00,0.00,0.00,0.00,0.00,0.00,0.00,0.00,0.00,0.00,0.00,0.00, 0.00,0.00,0.00,0.00,0.85,0.99,0.99,1.00,0.14,0.00,0.00,0.00,0.00,0.00,0.00, 0.00,0.00,0.00,0.00,0.00,0.00,0.00,0.00,0.00,0.00,0.00,0.00,0.00,0.00,0.00, 0.00,0.00,0.69,0.99,0.99,0.99,0.14,0.00,0.00,0.00,0.00,0.00,0.00,0.00,0.00, 0.00,0.00,0.00,0.00,0.00,0.00,0.00,0.00,0.00,0.00,0.00,0.00,0.00,0.00,0.00, 0.29,0.99,0.99,0.99,0.14,0.00,0.00,0.00,0.00,0.00,0.00,0.00,0.00,0.00,0.00, 0.00,0.00,0.00,0.00,0.00,0.00,0.00,0.00,0.00,0.00,0.00,0.00,0.00,0.12,0.83, 0.99,0.99,0.14,0.00,0.00,0.00,0.00,0.00,0.00,0.00,0.00,0.00,0.00,0.00,0.00, 0.00,0.00,0.00,0.00,0.00,0.00,0.00,0.00,0.00,0.00,0.00,0.00,0.00,0.00,0.00, 0.00,0.00,0.00,0.00,0.00,0.00,0.00,0.00,0.00,0.00,0.00,0.00,0.00,0.00,0.00, 0.00,0.00,0.00,0.00,0.00,0.00,0.00,0.00,0.00,0.00,0.00,0.00,0.00,0.00,0.00, 0.00,0.00,0.00,0.00,0.00,0.00,0.00,0.00,0.00,0.00,0.00,0.00,0.00,0.00,0.00, 0.00,0.00,0.00,0.00,0.00,0.00,0.00,0.00,0.00,0.00,0.00,0.00,0.00,0.00,0.00, 0.00,0.00,0.00,0.00,0.00,0.00,0.00,0.00,0.00,0.00,0.00,0.00,0.00,0.00,0.00, 0.00,0.00,0.00,0.00,0.00,0.00,0.00,0.00,0.00,0.00,0.00,0.00,0.00,0.00,0.00, 0.00,0.00,0.00,0.00] | [0.00,0.00,0.00,0.00,0.00,0.00,0.00,0.00,0.00,0.00,0.00,0.00,0.00,0.00,0.00, 0.00,0.00,0.00,0.00,0.00,0.00,0.00,0.00,0.00,0.00,0.00,0.00,0.00,0.00,0.00, 0.00,0.00,0.00,0.00,0.00,0.00,0.00,0.00,0.00,0.00,0.00,0.00,0.00,0.00,0.00, 0.00,0.00,0.00,0.00,0.00,0.00,0.00,0.00,0.00,0.00,0.00,0.00,0.00,0.00,0.00, 0.00,0.00,0.00,0.00,0.00,0.00,0.00,0.00,0.00,0.00,0.00,0.00,0.00,0.00,0.00, 0.00,0.00,0.00,0.00,0.00,0.00,0.00,0.00,0.00,0.00,0.00,0.00,0.00,0.00,0.00, 0.00,0.00,0.00,0.00,0.00,0.00,0.00,0.00,0.00,0.00,0.00,0.00,0.00,0.00,0.00, 0.00,0.00,0.00,0.00,0.00,0.00,0.00,0.00,0.00,0.00,0.00,0.00,0.00,0.00,0.00, 0.00,0.00,0.00,0.00,0.30,0.60,0.49,0.03,0.00,0.00,0.00,0.00,0.00,0.00,0.00, 0.01,0.00,0.00,0.00,0.00,0.00,0.00,0.00,0.00,0.00,0.00,0.00,0.00,0.00,0.00, 0.00,0.03,0.58,0.68,0.81,0.05,0.00,0.00,0.00,0.00,0.01,0.03,0.03,0.02,0.00, 0.00,0.00,0.00,0.00,0.00,0.00,0.00,0.00,0.00,0.00,0.00,0.00,0.00,0.00,0.00, 0.34,0.99,0.97,0.14,0.00,0.00,0.00,0.00,0.00,0.00,0.01,0.02,0.00,0.00,0.00, 0.00,0.00,0.00,0.00,0.00,0.00,0.00,0.00,0.00,0.00,0.00,0.00,0.00,0.44,0.97, 0.96,0.21,0.00,0.01,0.00,0.01,0.01,0.00,0.02,0.00,0.00,0.00,0.00,0.00,0.00, 0.00,0.00,0.00,0.00,0.00,0.00,0.00,0.00,0.00,0.00,0.03,0.42,0.98,0.98,0.19, 0.00,0.01,0.00,0.00,0.00,0.00,0.00,0.00,0.00,0.00,0.00,0.00,0.00,0.00,0.00, 0.00,0.00,0.00,0.00,0.00,0.00,0.00,0.00,0.05,0.54,0.98,0.93,0.32,0.05,0.01, 0.02,0.01,0.00,0.00,0.00,0.00,0.00,0.00,0.00,0.00,0.00,0.00,0.00,0.00,0.00, 0.00,0.00,0.00,0.00,0.00,0.00,0.01,0.30,0.97,0.97,0.76,0.19,0.04,0.01,0.00, 0.00,0.00,0.00,0.00,0.00,0.00,0.00,0.00,0.00,0.00,0.00,0.00,0.00,0.00,0.00, 0.00,0.01,0.00,0.01,0.00,0.02,0.95,0.98,0.84,0.18,0.02,0.01,0.00,0.00,0.00, 0.00,0.00,0.00,0.00,0.00,0.00,0.00,0.00,0.00,0.00,0.00,0.00,0.00,0.01,0.02, 0.01,0.01,0.00,0.01,0.89,0.98,0.78,0.19,0.02,0.00,0.00,0.00,0.00,0.00,0.00, 0.00,0.00,0.00,0.00,0.00,0.00,0.00,0.00,0.00,0.00,0.00,0.00,0.01,0.01,0.00, 0.00,0.00,0.93,0.99,0.87,0.21,0.00,0.00,0.00,0.00,0.00,0.00,0.00,0.00,0.00, 0.00,0.00,0.00,0.00,0.00,0.00,0.00,0.00,0.00,0.01,0.00,0.00,0.00,0.01,0.00, 0.93,1.00,0.93,0.31,0.01,0.00,0.00,0.00,0.00,0.00,0.00,0.00,0.00,0.00,0.00, 0.00,0.00,0.00,0.00,0.00,0.00,0.00,0.00,0.00,0.00,0.01,0.00,0.02,0.87,0.99, 0.99,0.25,0.00,0.00,0.00,0.00,0.00,0.00,0.00,0.00,0.00,0.00,0.00,0.00,0.00, 0.00,0.00,0.00,0.00,0.00,0.00,0.00,0.00,0.01,0.02,0.02,0.76,1.00,0.97,0.42, 0.00,0.01,0.02,0.00,0.00,0.00,0.00,0.00,0.00,0.00,0.00,0.00,0.00,0.00,0.00, 0.00,0.00,0.01,0.00,0.00,0.00,0.01,0.02,0.02,0.73,1.00,0.99,0.62,0.08,0.00, 0.01,0.00,0.00,0.00,0.00,0.00,0.00,0.00,0.00,0.00,0.00,0.00,0.00,0.00,0.00, 0.00,0.00,0.00,0.00,0.02,0.03,0.01,0.45,1.00,0.99,0.66,0.38,0.00,0.01,0.00, 0.00,0.00,0.00,0.00,0.00,0.00,0.00,0.00,0.00,0.00,0.00,0.00,0.00,0.00,0.00, 0.00,0.00,0.01,0.02,0.01,0.22,0.97,1.00,0.90,0.39,0.00,0.00,0.00,0.00,0.00, 0.00,0.00,0.00,0.00,0.00,0.00,0.00,0.00,0.00,0.00,0.00,0.00,0.00,0.00,0.01, 0.04,0.03,0.01,0.00,0.78,0.97,0.68,0.68,0.00,0.00,0.00,0.00,0.00,0.00,0.00, 0.00,0.00,0.00,0.00,0.00,0.00,0.00,0.00,0.00,0.00,0.00,0.00,0.00,0.00,0.01, 0.00,0.00,0.65,0.99,0.60,0.52,0.05,0.00,0.00,0.00,0.00,0.00,0.00,0.00,0.00, 0.00,0.00,0.00,0.00,0.00,0.00,0.00,0.00,0.00,0.00,0.00,0.00,0.00,0.00,0.00, 0.39,0.95,0.66,0.58,0.05,0.00,0.00,0.00,0.00,0.00,0.00,0.00,0.00,0.00,0.00, 0.00,0.00,0.00,0.00,0.00,0.00,0.00,0.00,0.00,0.00,0.00,0.00,0.00,0.37,0.94, 0.67,0.59,0.03,0.00,0.00,0.00,0.00,0.00,0.00,0.00,0.00,0.00,0.00,0.00,0.00, 0.00,0.00,0.00,0.00,0.00,0.00,0.02,0.01,0.00,0.00,0.00,0.16,0.24,0.02,0.01, 0.00,0.00,0.00,0.00,0.00,0.00,0.00,0.00,0.00,0.00,0.00,0.00,0.00,0.00,0.00, 0.00,0.00,0.00,0.00,0.00,0.00,0.00,0.00,0.00,0.00,0.00,0.02,0.01,0.00,0.00, 0.00,0.00,0.00,0.00,0.00,0.00,0.00,0.00,0.00,0.00,0.00,0.00,0.00,0.00,0.00, 0.00,0.00,0.00,0.00,0.00,0.00,0.00,0.00,0.00,0.00,0.01,0.01,0.00,0.00,0.00, 0.00,0.00,0.00,0.00,0.00,0.00,0.00,0.00,0.00,0.00,0.00,0.00,0.00,0.00,0.00, 0.00,0.00,0.00,0.00,0.00,0.00,0.00,0.00,0.00,0.00,0.00,0.00,0.00,0.00,0.00, 0.00,0.00,0.00,0.00] | correct\n",
      "7 | [[[0.00],  [0.00],  [0.00],  [0.00],  [0.00],  [0.00],  [0.00],  [0.00],  [0.00],  [0.00],  [0.00],  [0.00],  [0.00],  [0.00],  [0.00],  [0.00],  [0.00],  [0.00],  [0.00],  [0.00],  [0.00],  [0.00],  [0.00],  [0.00],  [0.00],  [0.00],  [0.00],  [0.00]], [[0.00],  [0.00],  [0.00],  [0.00],  [0.00],  [0.00],  [0.00],  [0.00],  [0.00],  [0.00],  [0.00],  [0.00],  [0.00],  [0.00],  [0.00],  [0.00],  [0.00],  [0.00],  [0.00],  [0.00],  [0.00],  [0.00],  [0.00],  [0.00],  [0.00],  [0.00],  [0.00],  [0.00]], [[0.00],  [0.00],  [0.00],  [0.00],  [0.00],  [0.00],  [0.00],  [0.00],  [0.00],  [0.00],  [0.00],  [0.00],  [0.00],  [0.00],  [0.00],  [0.00],  [0.00],  [0.00],  [0.00],  [0.00],  [0.00],  [0.00],  [0.00],  [0.00],  [0.00],  [0.00],  [0.00],  [0.00]], [[0.00],  [0.00],  [0.00],  [0.00],  [0.00],  [0.00],  [0.00],  [0.00],  [0.00],  [0.00],  [0.00],  [0.00],  [0.00],  [0.00],  [0.00],  [0.00],  [0.00],  [0.00],  [0.00],  [0.00],  [0.00],  [0.00],  [0.00],  [0.00],  [0.00],  [0.00],  [0.00],  [0.00]], [[0.00],  [0.00],  [0.00],  [0.00],  [0.00],  [0.00],  [0.00],  [0.00],  [0.00],  [0.00],  [0.00],  [0.00],  [0.00],  [0.00],  [0.00],  [0.00],  [0.00],  [0.00],  [0.00],  [0.00],  [0.00],  [0.00],  [0.00],  [0.00],  [0.00],  [0.00],  [0.00],  [0.00]], [[0.00],  [0.00],  [0.00],  [0.00],  [0.00],  [0.00],  [0.00],  [0.00],  [0.00],  [0.00],  [0.00],  [0.15],  [0.17],  [0.41],  [1.00],  [0.99],  [0.99],  [0.99],  [0.99],  [0.99],  [0.68],  [0.02],  [0.00],  [0.00],  [0.00],  [0.00],  [0.00],  [0.00]], [[0.00],  [0.00],  [0.00],  [0.00],  [0.00],  [0.00],  [0.00],  [0.00],  [0.00],  [0.17],  [0.55],  [0.88],  [0.89],  [0.99],  [0.99],  [0.99],  [0.99],  [0.99],  [0.99],  [0.99],  [0.99],  [0.62],  [0.05],  [0.00],  [0.00],  [0.00],  [0.00],  [0.00]], [[0.00],  [0.00],  [0.00],  [0.00],  [0.00],  [0.00],  [0.00],  [0.00],  [0.00],  [0.70],  [0.99],  [0.99],  [0.99],  [0.99],  [0.99],  [0.99],  [0.99],  [0.99],  [0.99],  [0.99],  [0.99],  [0.99],  [0.23],  [0.00],  [0.00],  [0.00],  [0.00],  [0.00]], [[0.00],  [0.00],  [0.00],  [0.00],  [0.00],  [0.00],  [0.00],  [0.00],  [0.00],  [0.43],  [0.99],  [0.99],  [0.90],  [0.52],  [0.52],  [0.52],  [0.52],  [0.74],  [0.99],  [0.99],  [0.99],  [0.99],  [0.23],  [0.00],  [0.00],  [0.00],  [0.00],  [0.00]], [[0.00],  [0.00],  [0.00],  [0.00],  [0.00],  [0.00],  [0.00],  [0.00],  [0.00],  [0.02],  [0.11],  [0.11],  [0.09],  [0.00],  [0.00],  [0.00],  [0.00],  [0.05],  [0.89],  [0.99],  [0.99],  [0.67],  [0.03],  [0.00],  [0.00],  [0.00],  [0.00],  [0.00]], [[0.00],  [0.00],  [0.00],  [0.00],  [0.00],  [0.00],  [0.00],  [0.00],  [0.00],  [0.00],  [0.00],  [0.00],  [0.00],  [0.00],  [0.00],  [0.00],  [0.00],  [0.33],  [0.95],  [0.99],  [0.99],  [0.56],  [0.00],  [0.00],  [0.00],  [0.00],  [0.00],  [0.00]], [[0.00],  [0.00],  [0.00],  [0.00],  [0.00],  [0.00],  [0.00],  [0.00],  [0.00],  [0.00],  [0.00],  [0.00],  [0.00],  [0.00],  [0.00],  [0.00],  [0.35],  [0.74],  [0.99],  [0.99],  [0.99],  [0.05],  [0.00],  [0.00],  [0.00],  [0.00],  [0.00],  [0.00]], [[0.00],  [0.00],  [0.00],  [0.00],  [0.00],  [0.00],  [0.00],  [0.00],  [0.00],  [0.00],  [0.00],  [0.00],  [0.00],  [0.00],  [0.36],  [0.83],  [0.97],  [0.99],  [0.99],  [0.99],  [0.80],  [0.04],  [0.00],  [0.00],  [0.00],  [0.00],  [0.00],  [0.00]], [[0.00],  [0.00],  [0.00],  [0.00],  [0.00],  [0.00],  [0.00],  [0.00],  [0.00],  [0.13],  [0.49],  [0.76],  [0.76],  [0.76],  [0.99],  [0.99],  [0.99],  [0.99],  [0.93],  [0.40],  [0.11],  [0.00],  [0.00],  [0.00],  [0.00],  [0.00],  [0.00],  [0.00]], [[0.00],  [0.00],  [0.00],  [0.00],  [0.00],  [0.00],  [0.00],  [0.00],  [0.18],  [0.87],  [0.99],  [0.99],  [0.99],  [0.99],  [0.99],  [0.99],  [0.99],  [0.99],  [0.69],  [0.00],  [0.00],  [0.00],  [0.00],  [0.00],  [0.00],  [0.00],  [0.00],  [0.00]], [[0.00],  [0.00],  [0.00],  [0.00],  [0.00],  [0.00],  [0.00],  [0.00],  [0.18],  [0.87],  [0.99],  [0.99],  [0.99],  [0.99],  [1.00],  [0.99],  [0.99],  [0.99],  [0.99],  [0.29],  [0.00],  [0.00],  [0.00],  [0.00],  [0.00],  [0.00],  [0.00],  [0.00]], [[0.00],  [0.00],  [0.00],  [0.00],  [0.00],  [0.00],  [0.00],  [0.00],  [0.00],  [0.12],  [0.48],  [0.20],  [0.17],  [0.17],  [0.17],  [0.17],  [0.56],  [0.99],  [0.99],  [0.29],  [0.00],  [0.00],  [0.00],  [0.00],  [0.00],  [0.00],  [0.00],  [0.00]], [[0.00],  [0.00],  [0.00],  [0.00],  [0.00],  [0.00],  [0.00],  [0.00],  [0.00],  [0.00],  [0.00],  [0.00],  [0.00],  [0.00],  [0.00],  [0.00],  [0.06],  [0.99],  [0.99],  [0.29],  [0.00],  [0.00],  [0.00],  [0.00],  [0.00],  [0.00],  [0.00],  [0.00]], [[0.00],  [0.00],  [0.00],  [0.00],  [0.00],  [0.00],  [0.00],  [0.00],  [0.00],  [0.00],  [0.00],  [0.00],  [0.00],  [0.00],  [0.00],  [0.00],  [0.34],  [0.99],  [0.99],  [0.29],  [0.00],  [0.00],  [0.00],  [0.00],  [0.00],  [0.00],  [0.00],  [0.00]], [[0.00],  [0.00],  [0.00],  [0.00],  [0.00],  [0.00],  [0.02],  [0.29],  [0.04],  [0.00],  [0.00],  [0.00],  [0.00],  [0.00],  [0.00],  [0.38],  [0.95],  [0.99],  [0.99],  [0.29],  [0.00],  [0.00],  [0.00],  [0.00],  [0.00],  [0.00],  [0.00],  [0.00]], [[0.00],  [0.00],  [0.00],  [0.00],  [0.00],  [0.24],  [0.72],  [0.99],  [0.11],  [0.00],  [0.00],  [0.00],  [0.00],  [0.07],  [0.36],  [0.94],  [0.99],  [0.99],  [0.95],  [0.25],  [0.00],  [0.00],  [0.00],  [0.00],  [0.00],  [0.00],  [0.00],  [0.00]], [[0.00],  [0.00],  [0.00],  [0.00],  [0.00],  [0.82],  [0.99],  [0.99],  [0.58],  [0.53],  [0.53],  [0.53],  [0.53],  [0.80],  [0.99],  [0.99],  [0.99],  [0.74],  [0.33],  [0.00],  [0.00],  [0.00],  [0.00],  [0.00],  [0.00],  [0.00],  [0.00],  [0.00]], [[0.00],  [0.00],  [0.00],  [0.00],  [0.00],  [0.82],  [0.99],  [0.99],  [0.99],  [0.99],  [0.99],  [0.99],  [0.99],  [0.99],  [0.99],  [0.90],  [0.60],  [0.03],  [0.00],  [0.00],  [0.00],  [0.00],  [0.00],  [0.00],  [0.00],  [0.00],  [0.00],  [0.00]], [[0.00],  [0.00],  [0.00],  [0.00],  [0.00],  [0.19],  [0.62],  [0.99],  [0.99],  [0.99],  [0.99],  [0.99],  [0.85],  [0.81],  [0.57],  [0.18],  [0.00],  [0.00],  [0.00],  [0.00],  [0.00],  [0.00],  [0.00],  [0.00],  [0.00],  [0.00],  [0.00],  [0.00]], [[0.00],  [0.00],  [0.00],  [0.00],  [0.00],  [0.00],  [0.03],  [0.40],  [0.92],  [0.99],  [0.67],  [0.40],  [0.09],  [0.00],  [0.00],  [0.00],  [0.00],  [0.00],  [0.00],  [0.00],  [0.00],  [0.00],  [0.00],  [0.00],  [0.00],  [0.00],  [0.00],  [0.00]], [[0.00],  [0.00],  [0.00],  [0.00],  [0.00],  [0.00],  [0.00],  [0.00],  [0.00],  [0.00],  [0.00],  [0.00],  [0.00],  [0.00],  [0.00],  [0.00],  [0.00],  [0.00],  [0.00],  [0.00],  [0.00],  [0.00],  [0.00],  [0.00],  [0.00],  [0.00],  [0.00],  [0.00]], [[0.00],  [0.00],  [0.00],  [0.00],  [0.00],  [0.00],  [0.00],  [0.00],  [0.00],  [0.00],  [0.00],  [0.00],  [0.00],  [0.00],  [0.00],  [0.00],  [0.00],  [0.00],  [0.00],  [0.00],  [0.00],  [0.00],  [0.00],  [0.00],  [0.00],  [0.00],  [0.00],  [0.00]], [[0.00],  [0.00],  [0.00],  [0.00],  [0.00],  [0.00],  [0.00],  [0.00],  [0.00],  [0.00],  [0.00],  [0.00],  [0.00],  [0.00],  [0.00],  [0.00],  [0.00],  [0.00],  [0.00],  [0.00],  [0.00],  [0.00],  [0.00],  [0.00],  [0.00],  [0.00],  [0.00],  [0.00]]] | [0.00,0.00,0.00,0.00,0.00,0.00,0.00,0.00,0.00,0.00,0.00,0.00,0.00,0.00,0.00, 0.00,0.00,0.00,0.00,0.00,0.00,0.00,0.00,0.00,0.00,0.00,0.00,0.00,0.00,0.00, 0.00,0.00,0.00,0.00,0.00,0.00,0.00,0.00,0.00,0.00,0.00,0.00,0.00,0.00,0.00, 0.00,0.00,0.00,0.00,0.00,0.00,0.00,0.00,0.00,0.00,0.00,0.00,0.00,0.00,0.00, 0.00,0.00,0.00,0.00,0.00,0.00,0.00,0.00,0.00,0.00,0.00,0.00,0.00,0.00,0.00, 0.00,0.00,0.00,0.00,0.00,0.00,0.00,0.00,0.00,0.00,0.00,0.00,0.00,0.00,0.00, 0.00,0.00,0.00,0.00,0.00,0.00,0.00,0.00,0.00,0.00,0.00,0.00,0.00,0.00,0.00, 0.00,0.00,0.00,0.00,0.00,0.00,0.00,0.00,0.00,0.00,0.00,0.00,0.00,0.00,0.00, 0.00,0.00,0.00,0.00,0.00,0.00,0.00,0.00,0.00,0.00,0.00,0.00,0.00,0.00,0.00, 0.00,0.00,0.00,0.00,0.00,0.00,0.00,0.00,0.00,0.00,0.00,0.00,0.00,0.00,0.00, 0.00,0.15,0.17,0.41,1.00,0.99,0.99,0.99,0.99,0.99,0.68,0.02,0.00,0.00,0.00, 0.00,0.00,0.00,0.00,0.00,0.00,0.00,0.00,0.00,0.00,0.00,0.00,0.17,0.55,0.88, 0.89,0.99,0.99,0.99,0.99,0.99,0.99,0.99,0.99,0.62,0.05,0.00,0.00,0.00,0.00, 0.00,0.00,0.00,0.00,0.00,0.00,0.00,0.00,0.00,0.00,0.70,0.99,0.99,0.99,0.99, 0.99,0.99,0.99,0.99,0.99,0.99,0.99,0.99,0.23,0.00,0.00,0.00,0.00,0.00,0.00, 0.00,0.00,0.00,0.00,0.00,0.00,0.00,0.00,0.43,0.99,0.99,0.90,0.52,0.52,0.52, 0.52,0.74,0.99,0.99,0.99,0.99,0.23,0.00,0.00,0.00,0.00,0.00,0.00,0.00,0.00, 0.00,0.00,0.00,0.00,0.00,0.00,0.02,0.11,0.11,0.09,0.00,0.00,0.00,0.00,0.05, 0.89,0.99,0.99,0.67,0.03,0.00,0.00,0.00,0.00,0.00,0.00,0.00,0.00,0.00,0.00, 0.00,0.00,0.00,0.00,0.00,0.00,0.00,0.00,0.00,0.00,0.00,0.00,0.33,0.95,0.99, 0.99,0.56,0.00,0.00,0.00,0.00,0.00,0.00,0.00,0.00,0.00,0.00,0.00,0.00,0.00, 0.00,0.00,0.00,0.00,0.00,0.00,0.00,0.00,0.00,0.35,0.74,0.99,0.99,0.99,0.05, 0.00,0.00,0.00,0.00,0.00,0.00,0.00,0.00,0.00,0.00,0.00,0.00,0.00,0.00,0.00, 0.00,0.00,0.00,0.00,0.00,0.36,0.83,0.97,0.99,0.99,0.99,0.80,0.04,0.00,0.00, 0.00,0.00,0.00,0.00,0.00,0.00,0.00,0.00,0.00,0.00,0.00,0.00,0.00,0.13,0.49, 0.76,0.76,0.76,0.99,0.99,0.99,0.99,0.93,0.40,0.11,0.00,0.00,0.00,0.00,0.00, 0.00,0.00,0.00,0.00,0.00,0.00,0.00,0.00,0.00,0.00,0.18,0.87,0.99,0.99,0.99, 0.99,0.99,0.99,0.99,0.99,0.69,0.00,0.00,0.00,0.00,0.00,0.00,0.00,0.00,0.00, 0.00,0.00,0.00,0.00,0.00,0.00,0.00,0.00,0.18,0.87,0.99,0.99,0.99,0.99,1.00, 0.99,0.99,0.99,0.99,0.29,0.00,0.00,0.00,0.00,0.00,0.00,0.00,0.00,0.00,0.00, 0.00,0.00,0.00,0.00,0.00,0.00,0.00,0.12,0.48,0.20,0.17,0.17,0.17,0.17,0.56, 0.99,0.99,0.29,0.00,0.00,0.00,0.00,0.00,0.00,0.00,0.00,0.00,0.00,0.00,0.00, 0.00,0.00,0.00,0.00,0.00,0.00,0.00,0.00,0.00,0.00,0.00,0.00,0.06,0.99,0.99, 0.29,0.00,0.00,0.00,0.00,0.00,0.00,0.00,0.00,0.00,0.00,0.00,0.00,0.00,0.00, 0.00,0.00,0.00,0.00,0.00,0.00,0.00,0.00,0.00,0.00,0.34,0.99,0.99,0.29,0.00, 0.00,0.00,0.00,0.00,0.00,0.00,0.00,0.00,0.00,0.00,0.00,0.00,0.00,0.02,0.29, 0.04,0.00,0.00,0.00,0.00,0.00,0.00,0.38,0.95,0.99,0.99,0.29,0.00,0.00,0.00, 0.00,0.00,0.00,0.00,0.00,0.00,0.00,0.00,0.00,0.00,0.24,0.72,0.99,0.11,0.00, 0.00,0.00,0.00,0.07,0.36,0.94,0.99,0.99,0.95,0.25,0.00,0.00,0.00,0.00,0.00, 0.00,0.00,0.00,0.00,0.00,0.00,0.00,0.00,0.82,0.99,0.99,0.58,0.53,0.53,0.53, 0.53,0.80,0.99,0.99,0.99,0.74,0.33,0.00,0.00,0.00,0.00,0.00,0.00,0.00,0.00, 0.00,0.00,0.00,0.00,0.00,0.00,0.82,0.99,0.99,0.99,0.99,0.99,0.99,0.99,0.99, 0.99,0.90,0.60,0.03,0.00,0.00,0.00,0.00,0.00,0.00,0.00,0.00,0.00,0.00,0.00, 0.00,0.00,0.00,0.00,0.19,0.62,0.99,0.99,0.99,0.99,0.99,0.85,0.81,0.57,0.18, 0.00,0.00,0.00,0.00,0.00,0.00,0.00,0.00,0.00,0.00,0.00,0.00,0.00,0.00,0.00, 0.00,0.00,0.00,0.03,0.40,0.92,0.99,0.67,0.40,0.09,0.00,0.00,0.00,0.00,0.00, 0.00,0.00,0.00,0.00,0.00,0.00,0.00,0.00,0.00,0.00,0.00,0.00,0.00,0.00,0.00, 0.00,0.00,0.00,0.00,0.00,0.00,0.00,0.00,0.00,0.00,0.00,0.00,0.00,0.00,0.00, 0.00,0.00,0.00,0.00,0.00,0.00,0.00,0.00,0.00,0.00,0.00,0.00,0.00,0.00,0.00, 0.00,0.00,0.00,0.00,0.00,0.00,0.00,0.00,0.00,0.00,0.00,0.00,0.00,0.00,0.00, 0.00,0.00,0.00,0.00,0.00,0.00,0.00,0.00,0.00,0.00,0.00,0.00,0.00,0.00,0.00, 0.00,0.00,0.00,0.00,0.00,0.00,0.00,0.00,0.00,0.00,0.00,0.00,0.00,0.00,0.00, 0.00,0.00,0.00,0.00] | [0.00,0.00,0.00,0.00,0.00,0.00,0.00,0.00,0.00,0.00,0.00,0.00,0.00,0.00,0.00, 0.00,0.00,0.00,0.00,0.00,0.00,0.00,0.00,0.00,0.00,0.00,0.00,0.00,0.00,0.00, 0.00,0.00,0.00,0.00,0.00,0.00,0.00,0.00,0.00,0.00,0.00,0.00,0.00,0.00,0.00, 0.00,0.00,0.00,0.00,0.00,0.00,0.00,0.00,0.00,0.00,0.00,0.00,0.00,0.00,0.00, 0.00,0.00,0.00,0.00,0.00,0.00,0.00,0.00,0.00,0.00,0.00,0.00,0.00,0.00,0.00, 0.00,0.00,0.00,0.00,0.00,0.00,0.00,0.00,0.00,0.00,0.00,0.00,0.00,0.00,0.00, 0.00,0.00,0.00,0.00,0.00,0.00,0.00,0.00,0.00,0.00,0.00,0.00,0.00,0.00,0.00, 0.00,0.00,0.00,0.00,0.00,0.00,0.00,0.00,0.00,0.00,0.00,0.00,0.00,0.00,0.00, 0.00,0.00,0.00,0.00,0.00,0.00,0.00,0.00,0.01,0.07,0.01,0.01,0.00,0.00,0.01, 0.01,0.00,0.00,0.00,0.00,0.00,0.00,0.00,0.00,0.00,0.00,0.00,0.00,0.00,0.00, 0.00,0.10,0.04,0.20,0.61,0.85,0.98,0.99,0.95,0.81,0.50,0.20,0.22,0.10,0.00, 0.00,0.00,0.00,0.00,0.00,0.00,0.00,0.00,0.00,0.00,0.00,0.01,0.16,0.52,0.83, 0.72,0.94,0.93,0.97,0.99,0.99,0.92,0.91,0.98,0.71,0.20,0.05,0.00,0.00,0.00, 0.00,0.00,0.00,0.00,0.00,0.00,0.00,0.00,0.01,0.02,0.67,0.93,0.96,0.98,0.91, 0.93,0.97,0.97,0.92,0.79,0.88,0.94,0.97,0.25,0.00,0.00,0.00,0.00,0.00,0.00, 0.00,0.00,0.00,0.00,0.00,0.00,0.00,0.03,0.43,0.96,0.94,0.93,0.65,0.52,0.50, 0.53,0.67,0.78,0.83,0.93,0.96,0.21,0.00,0.00,0.00,0.00,0.00,0.00,0.00,0.00, 0.00,0.00,0.00,0.00,0.00,0.01,0.02,0.10,0.13,0.31,0.28,0.05,0.00,0.01,0.06, 0.68,0.97,0.98,0.76,0.01,0.00,0.00,0.00,0.00,0.00,0.00,0.00,0.00,0.00,0.00, 0.00,0.00,0.00,0.00,0.00,0.01,0.05,0.28,0.12,0.00,0.00,0.00,0.12,0.77,0.96, 1.00,0.68,0.01,0.00,0.00,0.00,0.00,0.00,0.00,0.00,0.00,0.00,0.00,0.00,0.00, 0.00,0.00,0.00,0.01,0.18,0.27,0.20,0.00,0.00,0.10,0.50,0.90,0.97,1.00,0.10, 0.01,0.00,0.00,0.00,0.00,0.00,0.00,0.00,0.00,0.00,0.02,0.00,0.00,0.00,0.00, 0.00,0.02,0.06,0.21,0.03,0.04,0.43,0.57,0.83,0.98,0.99,0.82,0.09,0.01,0.00, 0.00,0.00,0.00,0.00,0.00,0.00,0.00,0.00,0.00,0.00,0.00,0.00,0.00,0.12,0.43, 0.66,0.69,0.68,0.78,0.79,0.91,0.93,0.96,0.42,0.14,0.03,0.01,0.00,0.00,0.00, 0.00,0.00,0.00,0.00,0.00,0.00,0.00,0.00,0.00,0.00,0.17,0.84,0.82,0.90,0.89, 0.87,0.81,0.84,0.98,0.99,0.76,0.02,0.12,0.04,0.01,0.00,0.00,0.00,0.00,0.00, 0.00,0.00,0.00,0.00,0.00,0.00,0.08,0.02,0.21,0.86,0.95,0.96,0.93,0.84,0.80, 0.93,0.99,1.00,0.98,0.33,0.02,0.04,0.01,0.00,0.00,0.00,0.00,0.00,0.00,0.00, 0.00,0.00,0.00,0.00,0.08,0.12,0.06,0.14,0.41,0.09,0.05,0.03,0.01,0.15,0.59, 0.99,1.00,0.57,0.03,0.01,0.00,0.00,0.00,0.00,0.00,0.00,0.00,0.00,0.00,0.00, 0.00,0.00,0.04,0.22,0.12,0.00,0.00,0.00,0.00,0.00,0.00,0.01,0.05,0.99,1.00, 0.54,0.06,0.00,0.00,0.00,0.00,0.00,0.00,0.00,0.00,0.00,0.00,0.00,0.00,0.00, 0.08,0.08,0.01,0.00,0.00,0.00,0.00,0.01,0.09,0.04,0.30,0.98,1.00,0.30,0.00, 0.00,0.00,0.00,0.00,0.00,0.00,0.00,0.00,0.00,0.00,0.00,0.00,0.00,0.01,0.30, 0.02,0.00,0.00,0.01,0.05,0.13,0.14,0.36,0.90,0.98,1.00,0.27,0.00,0.00,0.00, 0.00,0.00,0.00,0.00,0.00,0.00,0.00,0.00,0.00,0.00,0.21,0.70,0.96,0.12,0.03, 0.03,0.08,0.21,0.32,0.38,0.87,0.93,0.87,0.89,0.23,0.00,0.00,0.00,0.00,0.00, 0.00,0.00,0.00,0.00,0.00,0.00,0.00,0.00,0.74,0.93,0.96,0.60,0.44,0.50,0.58, 0.68,0.90,0.91,0.76,0.76,0.54,0.28,0.00,0.00,0.00,0.00,0.00,0.00,0.00,0.00, 0.00,0.00,0.00,0.00,0.00,0.00,0.78,0.92,0.98,0.95,0.98,1.00,0.99,1.00,0.95, 0.75,0.44,0.36,0.00,0.00,0.00,0.00,0.00,0.00,0.00,0.00,0.00,0.00,0.00,0.00, 0.00,0.00,0.00,0.00,0.15,0.58,0.93,0.96,0.95,0.99,0.99,0.87,0.81,0.34,0.01, 0.00,0.00,0.00,0.00,0.00,0.00,0.00,0.00,0.00,0.00,0.00,0.00,0.00,0.00,0.00, 0.00,0.01,0.03,0.07,0.40,0.84,0.71,0.40,0.23,0.07,0.00,0.00,0.00,0.00,0.00, 0.01,0.00,0.00,0.00,0.00,0.00,0.00,0.00,0.00,0.00,0.00,0.00,0.00,0.00,0.00, 0.00,0.00,0.00,0.00,0.00,0.00,0.00,0.00,0.00,0.00,0.00,0.00,0.00,0.00,0.00, 0.00,0.00,0.00,0.00,0.00,0.00,0.00,0.00,0.00,0.00,0.00,0.00,0.00,0.00,0.00, 0.00,0.00,0.00,0.00,0.00,0.00,0.00,0.00,0.00,0.00,0.00,0.00,0.00,0.00,0.00, 0.00,0.00,0.00,0.00,0.00,0.00,0.00,0.00,0.00,0.00,0.00,0.00,0.00,0.00,0.00, 0.00,0.00,0.00,0.00,0.00,0.00,0.00,0.00,0.00,0.00,0.00,0.00,0.00,0.00,0.00, 0.00,0.00,0.00,0.00] | correct\n",
      "8 | [[[0.00],  [0.00],  [0.00],  [0.00],  [0.00],  [0.00],  [0.00],  [0.00],  [0.00],  [0.00],  [0.00],  [0.00],  [0.00],  [0.00],  [0.00],  [0.00],  [0.00],  [0.00],  [0.00],  [0.00],  [0.00],  [0.00],  [0.00],  [0.00],  [0.00],  [0.00],  [0.00],  [0.00]], [[0.00],  [0.00],  [0.00],  [0.00],  [0.00],  [0.00],  [0.00],  [0.00],  [0.00],  [0.00],  [0.00],  [0.00],  [0.00],  [0.00],  [0.00],  [0.00],  [0.00],  [0.00],  [0.00],  [0.00],  [0.00],  [0.00],  [0.00],  [0.00],  [0.00],  [0.00],  [0.00],  [0.00]], [[0.00],  [0.00],  [0.00],  [0.00],  [0.00],  [0.00],  [0.00],  [0.00],  [0.00],  [0.00],  [0.00],  [0.00],  [0.00],  [0.00],  [0.00],  [0.00],  [0.00],  [0.00],  [0.00],  [0.00],  [0.00],  [0.00],  [0.00],  [0.00],  [0.00],  [0.00],  [0.00],  [0.00]], [[0.00],  [0.00],  [0.00],  [0.00],  [0.00],  [0.00],  [0.00],  [0.00],  [0.00],  [0.00],  [0.00],  [0.00],  [0.00],  [0.00],  [0.00],  [0.00],  [0.00],  [0.00],  [0.00],  [0.00],  [0.00],  [0.00],  [0.00],  [0.00],  [0.00],  [0.00],  [0.00],  [0.00]], [[0.00],  [0.00],  [0.00],  [0.00],  [0.00],  [0.00],  [0.00],  [0.00],  [0.00],  [0.00],  [0.00],  [0.00],  [0.00],  [0.00],  [0.00],  [0.00],  [0.00],  [0.00],  [0.00],  [0.00],  [0.00],  [0.00],  [0.00],  [0.00],  [0.00],  [0.00],  [0.00],  [0.00]], [[0.00],  [0.00],  [0.00],  [0.00],  [0.00],  [0.00],  [0.00],  [0.00],  [0.00],  [0.00],  [0.00],  [0.00],  [0.02],  [0.25],  [0.77],  [0.00],  [0.00],  [0.00],  [0.00],  [0.00],  [0.00],  [0.00],  [0.00],  [0.00],  [0.00],  [0.00],  [0.00],  [0.00]], [[0.00],  [0.00],  [0.00],  [0.00],  [0.00],  [0.00],  [0.00],  [0.00],  [0.00],  [0.00],  [0.00],  [0.00],  [0.08],  [1.00],  [0.90],  [0.09],  [0.00],  [0.00],  [0.00],  [0.00],  [0.00],  [0.00],  [0.00],  [0.00],  [0.00],  [0.00],  [0.00],  [0.00]], [[0.00],  [0.00],  [0.00],  [0.00],  [0.00],  [0.00],  [0.00],  [0.00],  [0.00],  [0.00],  [0.00],  [0.00],  [0.08],  [1.00],  [1.00],  [0.19],  [0.00],  [0.00],  [0.00],  [0.00],  [0.00],  [0.00],  [0.00],  [0.00],  [0.00],  [0.00],  [0.00],  [0.00]], [[0.00],  [0.00],  [0.00],  [0.00],  [0.00],  [0.00],  [0.00],  [0.00],  [0.00],  [0.00],  [0.00],  [0.00],  [0.08],  [1.00],  [1.00],  [0.19],  [0.00],  [0.00],  [0.00],  [0.00],  [0.00],  [0.00],  [0.00],  [0.00],  [0.00],  [0.00],  [0.00],  [0.00]], [[0.00],  [0.00],  [0.00],  [0.00],  [0.00],  [0.00],  [0.00],  [0.00],  [0.00],  [0.00],  [0.00],  [0.00],  [0.08],  [1.00],  [1.00],  [0.22],  [0.00],  [0.00],  [0.00],  [0.00],  [0.00],  [0.00],  [0.00],  [0.00],  [0.00],  [0.00],  [0.00],  [0.00]], [[0.00],  [0.00],  [0.00],  [0.00],  [0.00],  [0.00],  [0.00],  [0.00],  [0.00],  [0.00],  [0.00],  [0.00],  [0.08],  [1.00],  [1.00],  [0.42],  [0.00],  [0.00],  [0.00],  [0.00],  [0.00],  [0.00],  [0.00],  [0.00],  [0.00],  [0.00],  [0.00],  [0.00]], [[0.00],  [0.00],  [0.00],  [0.00],  [0.00],  [0.00],  [0.00],  [0.00],  [0.00],  [0.00],  [0.00],  [0.00],  [0.06],  [0.94],  [1.00],  [0.56],  [0.00],  [0.00],  [0.00],  [0.00],  [0.00],  [0.00],  [0.00],  [0.00],  [0.00],  [0.00],  [0.00],  [0.00]], [[0.00],  [0.00],  [0.00],  [0.00],  [0.00],  [0.00],  [0.00],  [0.00],  [0.00],  [0.00],  [0.00],  [0.00],  [0.00],  [0.70],  [1.00],  [0.56],  [0.00],  [0.00],  [0.00],  [0.00],  [0.00],  [0.00],  [0.00],  [0.00],  [0.00],  [0.00],  [0.00],  [0.00]], [[0.00],  [0.00],  [0.00],  [0.00],  [0.00],  [0.00],  [0.00],  [0.00],  [0.00],  [0.00],  [0.00],  [0.00],  [0.00],  [0.70],  [1.00],  [0.56],  [0.00],  [0.00],  [0.00],  [0.00],  [0.00],  [0.00],  [0.00],  [0.00],  [0.00],  [0.00],  [0.00],  [0.00]], [[0.00],  [0.00],  [0.00],  [0.00],  [0.00],  [0.00],  [0.00],  [0.00],  [0.00],  [0.00],  [0.00],  [0.00],  [0.00],  [0.70],  [1.00],  [0.64],  [0.00],  [0.00],  [0.00],  [0.00],  [0.00],  [0.00],  [0.00],  [0.00],  [0.00],  [0.00],  [0.00],  [0.00]], [[0.00],  [0.00],  [0.00],  [0.00],  [0.00],  [0.00],  [0.00],  [0.00],  [0.00],  [0.00],  [0.00],  [0.00],  [0.00],  [0.70],  [1.00],  [0.94],  [0.00],  [0.00],  [0.00],  [0.00],  [0.00],  [0.00],  [0.00],  [0.00],  [0.00],  [0.00],  [0.00],  [0.00]], [[0.00],  [0.00],  [0.00],  [0.00],  [0.00],  [0.00],  [0.00],  [0.00],  [0.00],  [0.00],  [0.00],  [0.00],  [0.00],  [0.44],  [1.00],  [0.94],  [0.00],  [0.00],  [0.00],  [0.00],  [0.00],  [0.00],  [0.00],  [0.00],  [0.00],  [0.00],  [0.00],  [0.00]], [[0.00],  [0.00],  [0.00],  [0.00],  [0.00],  [0.00],  [0.00],  [0.00],  [0.00],  [0.00],  [0.00],  [0.00],  [0.00],  [0.33],  [1.00],  [0.96],  [0.12],  [0.00],  [0.00],  [0.00],  [0.00],  [0.00],  [0.00],  [0.00],  [0.00],  [0.00],  [0.00],  [0.00]], [[0.00],  [0.00],  [0.00],  [0.00],  [0.00],  [0.00],  [0.00],  [0.00],  [0.00],  [0.00],  [0.00],  [0.00],  [0.00],  [0.31],  [1.00],  [0.96],  [0.15],  [0.00],  [0.00],  [0.00],  [0.00],  [0.00],  [0.00],  [0.00],  [0.00],  [0.00],  [0.00],  [0.00]], [[0.00],  [0.00],  [0.00],  [0.00],  [0.00],  [0.00],  [0.00],  [0.00],  [0.00],  [0.00],  [0.00],  [0.00],  [0.00],  [0.00],  [0.84],  [1.00],  [0.59],  [0.00],  [0.00],  [0.00],  [0.00],  [0.00],  [0.00],  [0.00],  [0.00],  [0.00],  [0.00],  [0.00]], [[0.00],  [0.00],  [0.00],  [0.00],  [0.00],  [0.00],  [0.00],  [0.00],  [0.00],  [0.00],  [0.00],  [0.00],  [0.00],  [0.00],  [0.56],  [0.95],  [0.03],  [0.00],  [0.00],  [0.00],  [0.00],  [0.00],  [0.00],  [0.00],  [0.00],  [0.00],  [0.00],  [0.00]], [[0.00],  [0.00],  [0.00],  [0.00],  [0.00],  [0.00],  [0.00],  [0.00],  [0.00],  [0.00],  [0.00],  [0.00],  [0.00],  [0.00],  [0.56],  [0.94],  [0.01],  [0.00],  [0.00],  [0.00],  [0.00],  [0.00],  [0.00],  [0.00],  [0.00],  [0.00],  [0.00],  [0.00]], [[0.00],  [0.00],  [0.00],  [0.00],  [0.00],  [0.00],  [0.00],  [0.00],  [0.00],  [0.00],  [0.00],  [0.00],  [0.00],  [0.00],  [0.56],  [1.00],  [0.32],  [0.00],  [0.00],  [0.00],  [0.00],  [0.00],  [0.00],  [0.00],  [0.00],  [0.00],  [0.00],  [0.00]], [[0.00],  [0.00],  [0.00],  [0.00],  [0.00],  [0.00],  [0.00],  [0.00],  [0.00],  [0.00],  [0.00],  [0.00],  [0.00],  [0.00],  [0.90],  [0.97],  [0.16],  [0.00],  [0.00],  [0.00],  [0.00],  [0.00],  [0.00],  [0.00],  [0.00],  [0.00],  [0.00],  [0.00]], [[0.00],  [0.00],  [0.00],  [0.00],  [0.00],  [0.00],  [0.00],  [0.00],  [0.00],  [0.00],  [0.00],  [0.00],  [0.00],  [0.00],  [0.66],  [0.82],  [0.12],  [0.00],  [0.00],  [0.00],  [0.00],  [0.00],  [0.00],  [0.00],  [0.00],  [0.00],  [0.00],  [0.00]], [[0.00],  [0.00],  [0.00],  [0.00],  [0.00],  [0.00],  [0.00],  [0.00],  [0.00],  [0.00],  [0.00],  [0.00],  [0.00],  [0.00],  [0.00],  [0.00],  [0.00],  [0.00],  [0.00],  [0.00],  [0.00],  [0.00],  [0.00],  [0.00],  [0.00],  [0.00],  [0.00],  [0.00]], [[0.00],  [0.00],  [0.00],  [0.00],  [0.00],  [0.00],  [0.00],  [0.00],  [0.00],  [0.00],  [0.00],  [0.00],  [0.00],  [0.00],  [0.00],  [0.00],  [0.00],  [0.00],  [0.00],  [0.00],  [0.00],  [0.00],  [0.00],  [0.00],  [0.00],  [0.00],  [0.00],  [0.00]], [[0.00],  [0.00],  [0.00],  [0.00],  [0.00],  [0.00],  [0.00],  [0.00],  [0.00],  [0.00],  [0.00],  [0.00],  [0.00],  [0.00],  [0.00],  [0.00],  [0.00],  [0.00],  [0.00],  [0.00],  [0.00],  [0.00],  [0.00],  [0.00],  [0.00],  [0.00],  [0.00],  [0.00]]] | [0.00,0.00,0.00,0.00,0.00,0.00,0.00,0.00,0.00,0.00,0.00,0.00,0.00,0.00,0.00, 0.00,0.00,0.00,0.00,0.00,0.00,0.00,0.00,0.00,0.00,0.00,0.00,0.00,0.00,0.00, 0.00,0.00,0.00,0.00,0.00,0.00,0.00,0.00,0.00,0.00,0.00,0.00,0.00,0.00,0.00, 0.00,0.00,0.00,0.00,0.00,0.00,0.00,0.00,0.00,0.00,0.00,0.00,0.00,0.00,0.00, 0.00,0.00,0.00,0.00,0.00,0.00,0.00,0.00,0.00,0.00,0.00,0.00,0.00,0.00,0.00, 0.00,0.00,0.00,0.00,0.00,0.00,0.00,0.00,0.00,0.00,0.00,0.00,0.00,0.00,0.00, 0.00,0.00,0.00,0.00,0.00,0.00,0.00,0.00,0.00,0.00,0.00,0.00,0.00,0.00,0.00, 0.00,0.00,0.00,0.00,0.00,0.00,0.00,0.00,0.00,0.00,0.00,0.00,0.00,0.00,0.00, 0.00,0.00,0.00,0.00,0.00,0.00,0.00,0.00,0.00,0.00,0.00,0.00,0.00,0.00,0.00, 0.00,0.00,0.00,0.00,0.00,0.00,0.00,0.00,0.00,0.00,0.00,0.00,0.00,0.00,0.00, 0.00,0.00,0.02,0.25,0.77,0.00,0.00,0.00,0.00,0.00,0.00,0.00,0.00,0.00,0.00, 0.00,0.00,0.00,0.00,0.00,0.00,0.00,0.00,0.00,0.00,0.00,0.00,0.00,0.00,0.00, 0.08,1.00,0.90,0.09,0.00,0.00,0.00,0.00,0.00,0.00,0.00,0.00,0.00,0.00,0.00, 0.00,0.00,0.00,0.00,0.00,0.00,0.00,0.00,0.00,0.00,0.00,0.00,0.00,0.08,1.00, 1.00,0.19,0.00,0.00,0.00,0.00,0.00,0.00,0.00,0.00,0.00,0.00,0.00,0.00,0.00, 0.00,0.00,0.00,0.00,0.00,0.00,0.00,0.00,0.00,0.00,0.00,0.08,1.00,1.00,0.19, 0.00,0.00,0.00,0.00,0.00,0.00,0.00,0.00,0.00,0.00,0.00,0.00,0.00,0.00,0.00, 0.00,0.00,0.00,0.00,0.00,0.00,0.00,0.00,0.00,0.08,1.00,1.00,0.22,0.00,0.00, 0.00,0.00,0.00,0.00,0.00,0.00,0.00,0.00,0.00,0.00,0.00,0.00,0.00,0.00,0.00, 0.00,0.00,0.00,0.00,0.00,0.00,0.00,0.08,1.00,1.00,0.42,0.00,0.00,0.00,0.00, 0.00,0.00,0.00,0.00,0.00,0.00,0.00,0.00,0.00,0.00,0.00,0.00,0.00,0.00,0.00, 0.00,0.00,0.00,0.00,0.00,0.06,0.94,1.00,0.56,0.00,0.00,0.00,0.00,0.00,0.00, 0.00,0.00,0.00,0.00,0.00,0.00,0.00,0.00,0.00,0.00,0.00,0.00,0.00,0.00,0.00, 0.00,0.00,0.00,0.00,0.70,1.00,0.56,0.00,0.00,0.00,0.00,0.00,0.00,0.00,0.00, 0.00,0.00,0.00,0.00,0.00,0.00,0.00,0.00,0.00,0.00,0.00,0.00,0.00,0.00,0.00, 0.00,0.00,0.70,1.00,0.56,0.00,0.00,0.00,0.00,0.00,0.00,0.00,0.00,0.00,0.00, 0.00,0.00,0.00,0.00,0.00,0.00,0.00,0.00,0.00,0.00,0.00,0.00,0.00,0.00,0.00, 0.70,1.00,0.64,0.00,0.00,0.00,0.00,0.00,0.00,0.00,0.00,0.00,0.00,0.00,0.00, 0.00,0.00,0.00,0.00,0.00,0.00,0.00,0.00,0.00,0.00,0.00,0.00,0.00,0.70,1.00, 0.94,0.00,0.00,0.00,0.00,0.00,0.00,0.00,0.00,0.00,0.00,0.00,0.00,0.00,0.00, 0.00,0.00,0.00,0.00,0.00,0.00,0.00,0.00,0.00,0.00,0.00,0.44,1.00,0.94,0.00, 0.00,0.00,0.00,0.00,0.00,0.00,0.00,0.00,0.00,0.00,0.00,0.00,0.00,0.00,0.00, 0.00,0.00,0.00,0.00,0.00,0.00,0.00,0.00,0.00,0.33,1.00,0.96,0.12,0.00,0.00, 0.00,0.00,0.00,0.00,0.00,0.00,0.00,0.00,0.00,0.00,0.00,0.00,0.00,0.00,0.00, 0.00,0.00,0.00,0.00,0.00,0.00,0.00,0.31,1.00,0.96,0.15,0.00,0.00,0.00,0.00, 0.00,0.00,0.00,0.00,0.00,0.00,0.00,0.00,0.00,0.00,0.00,0.00,0.00,0.00,0.00, 0.00,0.00,0.00,0.00,0.00,0.00,0.84,1.00,0.59,0.00,0.00,0.00,0.00,0.00,0.00, 0.00,0.00,0.00,0.00,0.00,0.00,0.00,0.00,0.00,0.00,0.00,0.00,0.00,0.00,0.00, 0.00,0.00,0.00,0.00,0.56,0.95,0.03,0.00,0.00,0.00,0.00,0.00,0.00,0.00,0.00, 0.00,0.00,0.00,0.00,0.00,0.00,0.00,0.00,0.00,0.00,0.00,0.00,0.00,0.00,0.00, 0.00,0.00,0.56,0.94,0.01,0.00,0.00,0.00,0.00,0.00,0.00,0.00,0.00,0.00,0.00, 0.00,0.00,0.00,0.00,0.00,0.00,0.00,0.00,0.00,0.00,0.00,0.00,0.00,0.00,0.00, 0.56,1.00,0.32,0.00,0.00,0.00,0.00,0.00,0.00,0.00,0.00,0.00,0.00,0.00,0.00, 0.00,0.00,0.00,0.00,0.00,0.00,0.00,0.00,0.00,0.00,0.00,0.00,0.00,0.90,0.97, 0.16,0.00,0.00,0.00,0.00,0.00,0.00,0.00,0.00,0.00,0.00,0.00,0.00,0.00,0.00, 0.00,0.00,0.00,0.00,0.00,0.00,0.00,0.00,0.00,0.00,0.00,0.66,0.82,0.12,0.00, 0.00,0.00,0.00,0.00,0.00,0.00,0.00,0.00,0.00,0.00,0.00,0.00,0.00,0.00,0.00, 0.00,0.00,0.00,0.00,0.00,0.00,0.00,0.00,0.00,0.00,0.00,0.00,0.00,0.00,0.00, 0.00,0.00,0.00,0.00,0.00,0.00,0.00,0.00,0.00,0.00,0.00,0.00,0.00,0.00,0.00, 0.00,0.00,0.00,0.00,0.00,0.00,0.00,0.00,0.00,0.00,0.00,0.00,0.00,0.00,0.00, 0.00,0.00,0.00,0.00,0.00,0.00,0.00,0.00,0.00,0.00,0.00,0.00,0.00,0.00,0.00, 0.00,0.00,0.00,0.00,0.00,0.00,0.00,0.00,0.00,0.00,0.00,0.00,0.00,0.00,0.00, 0.00,0.00,0.00,0.00] | [0.00,0.00,0.00,0.00,0.00,0.00,0.00,0.00,0.00,0.00,0.00,0.00,0.00,0.00,0.00, 0.00,0.00,0.00,0.00,0.00,0.00,0.00,0.00,0.00,0.00,0.00,0.00,0.00,0.00,0.00, 0.00,0.00,0.00,0.00,0.00,0.00,0.00,0.00,0.00,0.00,0.00,0.00,0.00,0.00,0.00, 0.00,0.00,0.00,0.00,0.00,0.00,0.00,0.00,0.00,0.00,0.00,0.00,0.00,0.00,0.00, 0.00,0.00,0.00,0.00,0.00,0.00,0.00,0.00,0.00,0.00,0.00,0.00,0.00,0.00,0.00, 0.00,0.00,0.00,0.00,0.00,0.00,0.00,0.00,0.00,0.00,0.00,0.00,0.00,0.00,0.00, 0.00,0.00,0.00,0.00,0.00,0.00,0.00,0.00,0.00,0.00,0.00,0.00,0.00,0.00,0.00, 0.00,0.00,0.00,0.00,0.00,0.00,0.00,0.00,0.00,0.00,0.00,0.00,0.00,0.00,0.00, 0.00,0.00,0.00,0.00,0.33,0.52,0.47,0.07,0.00,0.00,0.00,0.00,0.00,0.00,0.02, 0.03,0.00,0.00,0.00,0.00,0.00,0.00,0.00,0.00,0.00,0.00,0.00,0.00,0.00,0.00, 0.00,0.05,0.44,0.52,0.67,0.08,0.00,0.00,0.00,0.01,0.03,0.06,0.07,0.04,0.00, 0.00,0.00,0.00,0.00,0.00,0.00,0.00,0.00,0.00,0.00,0.00,0.01,0.00,0.00,0.00, 0.31,0.90,0.85,0.14,0.00,0.01,0.02,0.01,0.01,0.02,0.03,0.04,0.00,0.00,0.00, 0.00,0.00,0.00,0.00,0.00,0.00,0.00,0.00,0.01,0.01,0.00,0.00,0.00,0.31,0.88, 0.86,0.25,0.01,0.04,0.01,0.03,0.05,0.00,0.04,0.00,0.00,0.00,0.00,0.00,0.00, 0.00,0.00,0.00,0.00,0.00,0.00,0.00,0.00,0.00,0.00,0.06,0.45,0.95,0.94,0.23, 0.02,0.07,0.02,0.03,0.03,0.00,0.00,0.00,0.00,0.00,0.00,0.00,0.00,0.00,0.00, 0.00,0.00,0.00,0.00,0.00,0.00,0.01,0.02,0.11,0.59,0.94,0.83,0.37,0.14,0.07, 0.06,0.04,0.00,0.00,0.00,0.00,0.00,0.00,0.00,0.00,0.00,0.00,0.00,0.00,0.00, 0.00,0.00,0.00,0.00,0.01,0.02,0.03,0.38,0.88,0.91,0.71,0.35,0.13,0.05,0.01, 0.00,0.00,0.00,0.00,0.00,0.00,0.00,0.00,0.00,0.00,0.00,0.00,0.00,0.00,0.00, 0.00,0.03,0.04,0.04,0.03,0.06,0.88,0.94,0.79,0.35,0.07,0.03,0.01,0.00,0.00, 0.00,0.00,0.00,0.00,0.00,0.00,0.00,0.00,0.00,0.00,0.00,0.00,0.00,0.04,0.08, 0.06,0.04,0.01,0.04,0.78,0.94,0.71,0.33,0.07,0.00,0.00,0.00,0.00,0.00,0.00, 0.00,0.00,0.00,0.00,0.00,0.00,0.00,0.00,0.00,0.00,0.01,0.03,0.06,0.03,0.01, 0.02,0.01,0.81,0.96,0.80,0.33,0.01,0.01,0.01,0.00,0.00,0.00,0.00,0.00,0.00, 0.00,0.00,0.00,0.00,0.00,0.00,0.00,0.00,0.03,0.05,0.03,0.01,0.01,0.03,0.01, 0.84,0.99,0.84,0.30,0.03,0.01,0.00,0.00,0.00,0.00,0.00,0.00,0.00,0.00,0.00, 0.00,0.00,0.00,0.00,0.00,0.00,0.00,0.04,0.01,0.03,0.03,0.02,0.09,0.81,0.95, 0.97,0.24,0.00,0.00,0.00,0.00,0.00,0.00,0.00,0.00,0.00,0.00,0.00,0.00,0.00, 0.00,0.00,0.00,0.00,0.01,0.01,0.03,0.03,0.04,0.07,0.06,0.71,0.99,0.93,0.34, 0.01,0.02,0.04,0.00,0.00,0.00,0.00,0.00,0.00,0.00,0.00,0.00,0.00,0.00,0.00, 0.00,0.00,0.02,0.01,0.00,0.00,0.02,0.07,0.07,0.72,0.99,0.96,0.55,0.08,0.00, 0.02,0.00,0.00,0.00,0.00,0.00,0.00,0.00,0.00,0.00,0.00,0.00,0.00,0.00,0.00, 0.01,0.00,0.00,0.00,0.07,0.09,0.05,0.48,0.98,0.96,0.55,0.26,0.00,0.02,0.00, 0.00,0.00,0.00,0.00,0.00,0.00,0.00,0.00,0.00,0.00,0.00,0.00,0.00,0.00,0.00, 0.00,0.01,0.05,0.07,0.04,0.26,0.93,0.99,0.72,0.24,0.00,0.00,0.00,0.00,0.00, 0.00,0.01,0.00,0.00,0.00,0.00,0.00,0.00,0.00,0.00,0.00,0.00,0.00,0.00,0.02, 0.09,0.08,0.04,0.03,0.73,0.92,0.48,0.39,0.00,0.00,0.00,0.00,0.00,0.00,0.00, 0.00,0.00,0.00,0.00,0.00,0.00,0.00,0.00,0.00,0.00,0.00,0.00,0.01,0.02,0.04, 0.02,0.02,0.62,0.95,0.44,0.42,0.05,0.00,0.00,0.00,0.00,0.00,0.00,0.00,0.00, 0.00,0.00,0.00,0.00,0.00,0.00,0.00,0.00,0.00,0.00,0.02,0.02,0.01,0.00,0.01, 0.42,0.87,0.56,0.51,0.07,0.00,0.00,0.00,0.00,0.00,0.00,0.00,0.00,0.00,0.00, 0.00,0.00,0.00,0.00,0.00,0.00,0.00,0.00,0.01,0.02,0.01,0.00,0.00,0.46,0.88, 0.63,0.48,0.06,0.00,0.00,0.00,0.00,0.00,0.00,0.00,0.00,0.00,0.00,0.00,0.00, 0.00,0.01,0.01,0.00,0.00,0.00,0.04,0.03,0.02,0.00,0.00,0.34,0.46,0.09,0.04, 0.00,0.00,0.00,0.00,0.00,0.00,0.00,0.00,0.00,0.00,0.00,0.00,0.00,0.00,0.00, 0.00,0.00,0.00,0.00,0.00,0.00,0.00,0.00,0.00,0.00,0.02,0.08,0.04,0.00,0.00, 0.00,0.00,0.00,0.00,0.00,0.00,0.00,0.00,0.00,0.00,0.00,0.00,0.00,0.00,0.00, 0.00,0.00,0.00,0.00,0.00,0.00,0.00,0.00,0.02,0.03,0.07,0.04,0.00,0.00,0.00, 0.00,0.00,0.00,0.00,0.00,0.00,0.00,0.00,0.00,0.00,0.00,0.00,0.00,0.00,0.00, 0.00,0.00,0.00,0.00,0.00,0.00,0.00,0.00,0.00,0.00,0.00,0.00,0.00,0.00,0.00, 0.00,0.00,0.00,0.00] | correct\n",
      "9 | [[[0.00],  [0.00],  [0.00],  [0.00],  [0.00],  [0.00],  [0.00],  [0.00],  [0.00],  [0.00],  [0.00],  [0.00],  [0.00],  [0.00],  [0.00],  [0.00],  [0.00],  [0.00],  [0.00],  [0.00],  [0.00],  [0.00],  [0.00],  [0.00],  [0.00],  [0.00],  [0.00],  [0.00]], [[0.00],  [0.00],  [0.00],  [0.00],  [0.00],  [0.00],  [0.00],  [0.00],  [0.00],  [0.00],  [0.00],  [0.00],  [0.00],  [0.00],  [0.00],  [0.00],  [0.00],  [0.00],  [0.00],  [0.00],  [0.00],  [0.00],  [0.00],  [0.00],  [0.00],  [0.00],  [0.00],  [0.00]], [[0.00],  [0.00],  [0.00],  [0.00],  [0.00],  [0.00],  [0.00],  [0.00],  [0.00],  [0.00],  [0.00],  [0.00],  [0.00],  [0.00],  [0.00],  [0.00],  [0.00],  [0.00],  [0.00],  [0.00],  [0.00],  [0.00],  [0.00],  [0.00],  [0.00],  [0.00],  [0.00],  [0.00]], [[0.00],  [0.00],  [0.00],  [0.00],  [0.00],  [0.00],  [0.00],  [0.00],  [0.00],  [0.00],  [0.00],  [0.00],  [0.00],  [0.00],  [0.00],  [0.00],  [0.00],  [0.00],  [0.00],  [0.00],  [0.00],  [0.00],  [0.00],  [0.00],  [0.00],  [0.00],  [0.00],  [0.00]], [[0.00],  [0.00],  [0.00],  [0.00],  [0.00],  [0.00],  [0.00],  [0.00],  [0.00],  [0.00],  [0.00],  [0.00],  [0.00],  [0.00],  [0.00],  [0.00],  [0.00],  [0.00],  [0.00],  [0.00],  [0.00],  [0.00],  [0.74],  [0.75],  [0.00],  [0.00],  [0.00],  [0.00]], [[0.00],  [0.00],  [0.00],  [0.00],  [0.00],  [0.00],  [0.00],  [0.00],  [0.00],  [0.00],  [0.00],  [0.00],  [0.00],  [0.00],  [0.00],  [0.00],  [0.00],  [0.00],  [0.00],  [0.00],  [0.00],  [0.56],  [0.97],  [0.60],  [0.00],  [0.00],  [0.00],  [0.00]], [[0.00],  [0.00],  [0.00],  [0.00],  [0.00],  [0.00],  [0.00],  [0.00],  [0.00],  [0.00],  [0.00],  [0.00],  [0.00],  [0.00],  [0.00],  [0.00],  [0.00],  [0.00],  [0.00],  [0.00],  [0.53],  [0.97],  [0.95],  [0.34],  [0.00],  [0.00],  [0.00],  [0.00]], [[0.00],  [0.00],  [0.00],  [0.00],  [0.00],  [0.00],  [0.00],  [0.00],  [0.00],  [0.00],  [0.00],  [0.00],  [0.00],  [0.00],  [0.00],  [0.00],  [0.00],  [0.00],  [0.00],  [0.00],  [0.75],  [0.99],  [0.73],  [0.00],  [0.00],  [0.00],  [0.00],  [0.00]], [[0.00],  [0.00],  [0.00],  [0.00],  [0.00],  [0.00],  [0.00],  [0.00],  [0.00],  [0.00],  [0.00],  [0.00],  [0.24],  [0.73],  [0.07],  [0.00],  [0.00],  [0.00],  [0.00],  [0.35],  [0.93],  [0.85],  [0.18],  [0.00],  [0.00],  [0.00],  [0.00],  [0.00]], [[0.00],  [0.00],  [0.00],  [0.00],  [0.00],  [0.00],  [0.00],  [0.00],  [0.00],  [0.00],  [0.00],  [0.00],  [0.85],  [0.99],  [0.24],  [0.00],  [0.00],  [0.00],  [0.00],  [0.83],  [1.00],  [0.32],  [0.00],  [0.00],  [0.00],  [0.00],  [0.00],  [0.00]], [[0.00],  [0.00],  [0.00],  [0.00],  [0.00],  [0.00],  [0.00],  [0.00],  [0.00],  [0.00],  [0.00],  [0.00],  [0.81],  [0.99],  [0.27],  [0.00],  [0.00],  [0.00],  [0.19],  [0.95],  [0.99],  [0.35],  [0.00],  [0.00],  [0.00],  [0.00],  [0.00],  [0.00]], [[0.00],  [0.00],  [0.00],  [0.00],  [0.00],  [0.00],  [0.00],  [0.00],  [0.00],  [0.00],  [0.00],  [0.51],  [0.98],  [0.83],  [0.08],  [0.00],  [0.00],  [0.04],  [0.65],  [0.99],  [0.77],  [0.02],  [0.00],  [0.00],  [0.00],  [0.00],  [0.00],  [0.00]], [[0.00],  [0.00],  [0.00],  [0.00],  [0.00],  [0.00],  [0.00],  [0.00],  [0.00],  [0.00],  [0.11],  [0.91],  [0.97],  [0.25],  [0.00],  [0.00],  [0.00],  [0.60],  [0.99],  [0.89],  [0.00],  [0.00],  [0.00],  [0.00],  [0.00],  [0.00],  [0.00],  [0.00]], [[0.00],  [0.00],  [0.00],  [0.00],  [0.00],  [0.00],  [0.00],  [0.00],  [0.00],  [0.18],  [0.86],  [0.99],  [0.56],  [0.00],  [0.00],  [0.00],  [0.45],  [0.98],  [0.99],  [0.40],  [0.00],  [0.00],  [0.00],  [0.00],  [0.00],  [0.00],  [0.00],  [0.00]], [[0.00],  [0.00],  [0.00],  [0.00],  [0.00],  [0.00],  [0.00],  [0.02],  [0.38],  [0.99],  [1.00],  [0.99],  [0.78],  [0.48],  [0.03],  [0.10],  [0.79],  [0.98],  [0.62],  [0.00],  [0.00],  [0.00],  [0.00],  [0.00],  [0.00],  [0.00],  [0.00],  [0.00]], [[0.00],  [0.00],  [0.00],  [0.00],  [0.00],  [0.00],  [0.00],  [0.36],  [0.99],  [0.99],  [0.99],  [0.85],  [0.99],  [0.99],  [0.78],  [0.89],  [0.99],  [0.91],  [0.00],  [0.00],  [0.00],  [0.00],  [0.00],  [0.00],  [0.00],  [0.00],  [0.00],  [0.00]], [[0.00],  [0.00],  [0.00],  [0.00],  [0.00],  [0.00],  [0.34],  [0.98],  [0.97],  [0.91],  [0.25],  [0.19],  [0.74],  [0.99],  [0.99],  [0.99],  [0.99],  [0.98],  [0.89],  [0.14],  [0.00],  [0.00],  [0.00],  [0.00],  [0.00],  [0.00],  [0.00],  [0.00]], [[0.00],  [0.00],  [0.00],  [0.00],  [0.00],  [0.00],  [0.75],  [0.87],  [0.38],  [0.00],  [0.00],  [0.00],  [0.16],  [0.77],  [0.99],  [0.99],  [0.99],  [0.99],  [0.64],  [0.00],  [0.00],  [0.00],  [0.00],  [0.00],  [0.00],  [0.00],  [0.00],  [0.00]], [[0.00],  [0.00],  [0.00],  [0.00],  [0.00],  [0.00],  [0.44],  [0.11],  [0.00],  [0.00],  [0.00],  [0.00],  [0.24],  [0.94],  [0.99],  [0.34],  [0.16],  [0.16],  [0.05],  [0.00],  [0.00],  [0.00],  [0.00],  [0.00],  [0.00],  [0.00],  [0.00],  [0.00]], [[0.00],  [0.00],  [0.00],  [0.00],  [0.00],  [0.00],  [0.00],  [0.00],  [0.00],  [0.00],  [0.00],  [0.06],  [0.58],  [0.99],  [0.85],  [0.00],  [0.00],  [0.00],  [0.00],  [0.00],  [0.00],  [0.00],  [0.00],  [0.00],  [0.00],  [0.00],  [0.00],  [0.00]], [[0.00],  [0.00],  [0.00],  [0.00],  [0.00],  [0.00],  [0.00],  [0.00],  [0.00],  [0.00],  [0.00],  [0.47],  [0.99],  [0.91],  [0.11],  [0.00],  [0.00],  [0.00],  [0.00],  [0.00],  [0.00],  [0.00],  [0.00],  [0.00],  [0.00],  [0.00],  [0.00],  [0.00]], [[0.00],  [0.00],  [0.00],  [0.00],  [0.00],  [0.00],  [0.00],  [0.00],  [0.00],  [0.00],  [0.12],  [0.87],  [0.98],  [0.51],  [0.00],  [0.00],  [0.00],  [0.00],  [0.00],  [0.00],  [0.00],  [0.00],  [0.00],  [0.00],  [0.00],  [0.00],  [0.00],  [0.00]], [[0.00],  [0.00],  [0.00],  [0.00],  [0.00],  [0.00],  [0.00],  [0.00],  [0.00],  [0.00],  [0.85],  [0.99],  [0.63],  [0.00],  [0.00],  [0.00],  [0.00],  [0.00],  [0.00],  [0.00],  [0.00],  [0.00],  [0.00],  [0.00],  [0.00],  [0.00],  [0.00],  [0.00]], [[0.00],  [0.00],  [0.00],  [0.00],  [0.00],  [0.00],  [0.00],  [0.00],  [0.00],  [0.00],  [0.48],  [0.99],  [0.32],  [0.00],  [0.00],  [0.00],  [0.00],  [0.00],  [0.00],  [0.00],  [0.00],  [0.00],  [0.00],  [0.00],  [0.00],  [0.00],  [0.00],  [0.00]], [[0.00],  [0.00],  [0.00],  [0.00],  [0.00],  [0.00],  [0.00],  [0.00],  [0.00],  [0.00],  [0.00],  [0.00],  [0.00],  [0.00],  [0.00],  [0.00],  [0.00],  [0.00],  [0.00],  [0.00],  [0.00],  [0.00],  [0.00],  [0.00],  [0.00],  [0.00],  [0.00],  [0.00]], [[0.00],  [0.00],  [0.00],  [0.00],  [0.00],  [0.00],  [0.00],  [0.00],  [0.00],  [0.00],  [0.00],  [0.00],  [0.00],  [0.00],  [0.00],  [0.00],  [0.00],  [0.00],  [0.00],  [0.00],  [0.00],  [0.00],  [0.00],  [0.00],  [0.00],  [0.00],  [0.00],  [0.00]], [[0.00],  [0.00],  [0.00],  [0.00],  [0.00],  [0.00],  [0.00],  [0.00],  [0.00],  [0.00],  [0.00],  [0.00],  [0.00],  [0.00],  [0.00],  [0.00],  [0.00],  [0.00],  [0.00],  [0.00],  [0.00],  [0.00],  [0.00],  [0.00],  [0.00],  [0.00],  [0.00],  [0.00]], [[0.00],  [0.00],  [0.00],  [0.00],  [0.00],  [0.00],  [0.00],  [0.00],  [0.00],  [0.00],  [0.00],  [0.00],  [0.00],  [0.00],  [0.00],  [0.00],  [0.00],  [0.00],  [0.00],  [0.00],  [0.00],  [0.00],  [0.00],  [0.00],  [0.00],  [0.00],  [0.00],  [0.00]]] | [0.00,0.00,0.00,0.00,0.00,0.00,0.00,0.00,0.00,0.00,0.00,0.00,0.00,0.00,0.00, 0.00,0.00,0.00,0.00,0.00,0.00,0.00,0.00,0.00,0.00,0.00,0.00,0.00,0.00,0.00, 0.00,0.00,0.00,0.00,0.00,0.00,0.00,0.00,0.00,0.00,0.00,0.00,0.00,0.00,0.00, 0.00,0.00,0.00,0.00,0.00,0.00,0.00,0.00,0.00,0.00,0.00,0.00,0.00,0.00,0.00, 0.00,0.00,0.00,0.00,0.00,0.00,0.00,0.00,0.00,0.00,0.00,0.00,0.00,0.00,0.00, 0.00,0.00,0.00,0.00,0.00,0.00,0.00,0.00,0.00,0.00,0.00,0.00,0.00,0.00,0.00, 0.00,0.00,0.00,0.00,0.00,0.00,0.00,0.00,0.00,0.00,0.00,0.00,0.00,0.00,0.00, 0.00,0.00,0.00,0.00,0.00,0.00,0.00,0.00,0.00,0.00,0.00,0.00,0.00,0.00,0.00, 0.00,0.00,0.00,0.00,0.00,0.00,0.00,0.00,0.00,0.00,0.00,0.00,0.00,0.00,0.74, 0.75,0.00,0.00,0.00,0.00,0.00,0.00,0.00,0.00,0.00,0.00,0.00,0.00,0.00,0.00, 0.00,0.00,0.00,0.00,0.00,0.00,0.00,0.00,0.00,0.00,0.00,0.56,0.97,0.60,0.00, 0.00,0.00,0.00,0.00,0.00,0.00,0.00,0.00,0.00,0.00,0.00,0.00,0.00,0.00,0.00, 0.00,0.00,0.00,0.00,0.00,0.00,0.00,0.00,0.53,0.97,0.95,0.34,0.00,0.00,0.00, 0.00,0.00,0.00,0.00,0.00,0.00,0.00,0.00,0.00,0.00,0.00,0.00,0.00,0.00,0.00, 0.00,0.00,0.00,0.00,0.00,0.00,0.75,0.99,0.73,0.00,0.00,0.00,0.00,0.00,0.00, 0.00,0.00,0.00,0.00,0.00,0.00,0.00,0.00,0.00,0.00,0.00,0.24,0.73,0.07,0.00, 0.00,0.00,0.00,0.35,0.93,0.85,0.18,0.00,0.00,0.00,0.00,0.00,0.00,0.00,0.00, 0.00,0.00,0.00,0.00,0.00,0.00,0.00,0.00,0.00,0.85,0.99,0.24,0.00,0.00,0.00, 0.00,0.83,1.00,0.32,0.00,0.00,0.00,0.00,0.00,0.00,0.00,0.00,0.00,0.00,0.00, 0.00,0.00,0.00,0.00,0.00,0.00,0.00,0.81,0.99,0.27,0.00,0.00,0.00,0.19,0.95, 0.99,0.35,0.00,0.00,0.00,0.00,0.00,0.00,0.00,0.00,0.00,0.00,0.00,0.00,0.00, 0.00,0.00,0.00,0.00,0.51,0.98,0.83,0.08,0.00,0.00,0.04,0.65,0.99,0.77,0.02, 0.00,0.00,0.00,0.00,0.00,0.00,0.00,0.00,0.00,0.00,0.00,0.00,0.00,0.00,0.00, 0.00,0.11,0.91,0.97,0.25,0.00,0.00,0.00,0.60,0.99,0.89,0.00,0.00,0.00,0.00, 0.00,0.00,0.00,0.00,0.00,0.00,0.00,0.00,0.00,0.00,0.00,0.00,0.00,0.18,0.86, 0.99,0.56,0.00,0.00,0.00,0.45,0.98,0.99,0.40,0.00,0.00,0.00,0.00,0.00,0.00, 0.00,0.00,0.00,0.00,0.00,0.00,0.00,0.00,0.00,0.02,0.38,0.99,1.00,0.99,0.78, 0.48,0.03,0.10,0.79,0.98,0.62,0.00,0.00,0.00,0.00,0.00,0.00,0.00,0.00,0.00, 0.00,0.00,0.00,0.00,0.00,0.00,0.00,0.36,0.99,0.99,0.99,0.85,0.99,0.99,0.78, 0.89,0.99,0.91,0.00,0.00,0.00,0.00,0.00,0.00,0.00,0.00,0.00,0.00,0.00,0.00, 0.00,0.00,0.00,0.00,0.34,0.98,0.97,0.91,0.25,0.19,0.74,0.99,0.99,0.99,0.99, 0.98,0.89,0.14,0.00,0.00,0.00,0.00,0.00,0.00,0.00,0.00,0.00,0.00,0.00,0.00, 0.00,0.00,0.75,0.87,0.38,0.00,0.00,0.00,0.16,0.77,0.99,0.99,0.99,0.99,0.64, 0.00,0.00,0.00,0.00,0.00,0.00,0.00,0.00,0.00,0.00,0.00,0.00,0.00,0.00,0.00, 0.44,0.11,0.00,0.00,0.00,0.00,0.24,0.94,0.99,0.34,0.16,0.16,0.05,0.00,0.00, 0.00,0.00,0.00,0.00,0.00,0.00,0.00,0.00,0.00,0.00,0.00,0.00,0.00,0.00,0.00, 0.00,0.00,0.00,0.06,0.58,0.99,0.85,0.00,0.00,0.00,0.00,0.00,0.00,0.00,0.00, 0.00,0.00,0.00,0.00,0.00,0.00,0.00,0.00,0.00,0.00,0.00,0.00,0.00,0.00,0.00, 0.00,0.47,0.99,0.91,0.11,0.00,0.00,0.00,0.00,0.00,0.00,0.00,0.00,0.00,0.00, 0.00,0.00,0.00,0.00,0.00,0.00,0.00,0.00,0.00,0.00,0.00,0.00,0.00,0.12,0.87, 0.98,0.51,0.00,0.00,0.00,0.00,0.00,0.00,0.00,0.00,0.00,0.00,0.00,0.00,0.00, 0.00,0.00,0.00,0.00,0.00,0.00,0.00,0.00,0.00,0.00,0.00,0.85,0.99,0.63,0.00, 0.00,0.00,0.00,0.00,0.00,0.00,0.00,0.00,0.00,0.00,0.00,0.00,0.00,0.00,0.00, 0.00,0.00,0.00,0.00,0.00,0.00,0.00,0.00,0.00,0.48,0.99,0.32,0.00,0.00,0.00, 0.00,0.00,0.00,0.00,0.00,0.00,0.00,0.00,0.00,0.00,0.00,0.00,0.00,0.00,0.00, 0.00,0.00,0.00,0.00,0.00,0.00,0.00,0.00,0.00,0.00,0.00,0.00,0.00,0.00,0.00, 0.00,0.00,0.00,0.00,0.00,0.00,0.00,0.00,0.00,0.00,0.00,0.00,0.00,0.00,0.00, 0.00,0.00,0.00,0.00,0.00,0.00,0.00,0.00,0.00,0.00,0.00,0.00,0.00,0.00,0.00, 0.00,0.00,0.00,0.00,0.00,0.00,0.00,0.00,0.00,0.00,0.00,0.00,0.00,0.00,0.00, 0.00,0.00,0.00,0.00,0.00,0.00,0.00,0.00,0.00,0.00,0.00,0.00,0.00,0.00,0.00, 0.00,0.00,0.00,0.00,0.00,0.00,0.00,0.00,0.00,0.00,0.00,0.00,0.00,0.00,0.00, 0.00,0.00,0.00,0.00,0.00,0.00,0.00,0.00,0.00,0.00,0.00,0.00,0.00,0.00,0.00, 0.00,0.00,0.00,0.00] | [0.00,0.00,0.00,0.00,0.00,0.00,0.00,0.00,0.00,0.00,0.00,0.00,0.00,0.00,0.00, 0.00,0.00,0.00,0.00,0.00,0.00,0.00,0.00,0.00,0.00,0.00,0.00,0.00,0.00,0.00, 0.00,0.00,0.00,0.00,0.00,0.00,0.00,0.00,0.00,0.00,0.00,0.00,0.00,0.00,0.00, 0.00,0.00,0.00,0.00,0.00,0.00,0.00,0.00,0.00,0.00,0.00,0.00,0.00,0.00,0.00, 0.00,0.00,0.00,0.00,0.00,0.00,0.00,0.00,0.00,0.00,0.00,0.00,0.00,0.00,0.00, 0.00,0.00,0.00,0.00,0.00,0.00,0.00,0.00,0.00,0.00,0.00,0.00,0.00,0.00,0.00, 0.00,0.00,0.00,0.00,0.00,0.00,0.00,0.00,0.00,0.00,0.00,0.00,0.00,0.00,0.00, 0.00,0.00,0.00,0.00,0.00,0.00,0.00,0.00,0.00,0.00,0.00,0.00,0.00,0.00,0.00, 0.00,0.00,0.00,0.00,0.01,0.00,0.00,0.00,0.00,0.00,0.00,0.00,0.00,0.00,0.42, 0.45,0.00,0.00,0.00,0.00,0.00,0.00,0.00,0.00,0.00,0.00,0.00,0.00,0.00,0.00, 0.00,0.03,0.02,0.05,0.10,0.05,0.00,0.00,0.09,0.26,0.35,0.30,0.42,0.23,0.00, 0.00,0.00,0.00,0.00,0.00,0.00,0.00,0.00,0.00,0.00,0.00,0.01,0.00,0.01,0.01, 0.09,0.02,0.01,0.01,0.01,0.05,0.12,0.16,0.55,0.74,0.55,0.12,0.00,0.00,0.00, 0.00,0.00,0.00,0.00,0.00,0.00,0.01,0.00,0.00,0.00,0.01,0.03,0.02,0.02,0.03, 0.04,0.02,0.03,0.11,0.29,0.29,0.85,0.85,0.37,0.00,0.00,0.00,0.00,0.00,0.00, 0.00,0.00,0.00,0.01,0.01,0.00,0.00,0.00,0.02,0.04,0.06,0.10,0.34,0.03,0.00, 0.01,0.15,0.40,0.75,0.90,0.67,0.07,0.00,0.00,0.00,0.00,0.00,0.00,0.00,0.00, 0.00,0.01,0.00,0.00,0.00,0.00,0.00,0.03,0.00,0.37,0.39,0.05,0.03,0.05,0.11, 0.47,0.93,0.95,0.10,0.00,0.00,0.00,0.00,0.00,0.00,0.00,0.00,0.00,0.00,0.01, 0.00,0.00,0.00,0.00,0.01,0.01,0.00,0.28,0.41,0.12,0.04,0.10,0.49,0.56,0.91, 0.89,0.11,0.00,0.00,0.00,0.00,0.00,0.00,0.00,0.00,0.00,0.00,0.02,0.01,0.00, 0.00,0.00,0.01,0.02,0.19,0.47,0.28,0.03,0.16,0.43,0.46,0.81,0.93,0.75,0.00, 0.00,0.00,0.00,0.00,0.00,0.00,0.00,0.00,0.00,0.00,0.02,0.01,0.00,0.00,0.01, 0.01,0.01,0.55,0.40,0.06,0.20,0.39,0.49,0.71,0.91,0.86,0.02,0.00,0.00,0.00, 0.00,0.00,0.00,0.00,0.00,0.00,0.00,0.00,0.02,0.00,0.00,0.01,0.01,0.03,0.47, 0.54,0.27,0.09,0.37,0.38,0.67,0.89,0.92,0.34,0.01,0.00,0.00,0.00,0.00,0.00, 0.00,0.00,0.00,0.00,0.00,0.01,0.02,0.00,0.00,0.01,0.17,0.53,0.62,0.83,0.90, 0.80,0.58,0.61,0.82,0.89,0.55,0.04,0.00,0.00,0.00,0.00,0.00,0.00,0.00,0.00, 0.00,0.00,0.00,0.01,0.01,0.01,0.04,0.25,0.82,0.93,0.98,0.96,1.00,0.98,0.90, 0.90,0.85,0.70,0.05,0.07,0.00,0.00,0.00,0.00,0.00,0.00,0.00,0.00,0.00,0.00, 0.00,0.00,0.00,0.01,0.17,0.56,0.70,0.84,0.31,0.43,0.76,0.84,0.81,0.82,0.73, 0.79,0.81,0.14,0.00,0.00,0.00,0.00,0.00,0.00,0.00,0.00,0.00,0.00,0.00,0.00, 0.00,0.00,0.38,0.29,0.10,0.00,0.02,0.13,0.26,0.66,0.87,0.76,0.58,0.80,0.60, 0.07,0.00,0.00,0.00,0.00,0.00,0.00,0.00,0.00,0.00,0.00,0.00,0.00,0.00,0.00, 0.19,0.01,0.01,0.00,0.13,0.11,0.38,0.76,0.77,0.14,0.09,0.09,0.07,0.01,0.00, 0.00,0.00,0.01,0.01,0.00,0.00,0.00,0.00,0.00,0.00,0.00,0.00,0.00,0.01,0.00, 0.00,0.00,0.19,0.22,0.66,0.64,0.56,0.02,0.00,0.01,0.02,0.01,0.00,0.00,0.00, 0.00,0.00,0.00,0.00,0.00,0.00,0.00,0.00,0.00,0.00,0.02,0.02,0.01,0.00,0.05, 0.20,0.55,0.79,0.53,0.03,0.01,0.00,0.01,0.15,0.01,0.00,0.00,0.00,0.00,0.00, 0.00,0.00,0.00,0.00,0.00,0.00,0.00,0.00,0.03,0.04,0.01,0.04,0.20,0.17,0.76, 0.63,0.26,0.02,0.04,0.04,0.13,0.07,0.00,0.00,0.00,0.00,0.00,0.00,0.00,0.00, 0.00,0.00,0.00,0.00,0.00,0.00,0.01,0.02,0.01,0.04,0.09,0.71,0.79,0.34,0.02, 0.16,0.25,0.08,0.03,0.06,0.00,0.00,0.00,0.00,0.00,0.00,0.00,0.00,0.00,0.00, 0.00,0.00,0.00,0.00,0.01,0.01,0.04,0.04,0.06,0.43,0.77,0.16,0.00,0.16,0.06, 0.00,0.03,0.08,0.01,0.00,0.00,0.00,0.00,0.00,0.00,0.00,0.00,0.00,0.00,0.00, 0.00,0.00,0.00,0.00,0.01,0.04,0.19,0.25,0.21,0.00,0.00,0.00,0.00,0.00,0.05, 0.02,0.01,0.00,0.00,0.00,0.00,0.00,0.00,0.00,0.00,0.00,0.00,0.00,0.00,0.00, 0.00,0.00,0.00,0.00,0.00,0.00,0.00,0.00,0.00,0.00,0.00,0.00,0.00,0.00,0.00, 0.00,0.00,0.00,0.00,0.00,0.00,0.00,0.00,0.00,0.00,0.00,0.00,0.00,0.00,0.00, 0.00,0.00,0.00,0.00,0.00,0.00,0.00,0.00,0.00,0.00,0.00,0.00,0.00,0.00,0.00, 0.00,0.00,0.00,0.00,0.00,0.00,0.00,0.00,0.00,0.00,0.00,0.00,0.00,0.00,0.00, 0.00,0.00,0.00,0.00,0.00,0.00,0.00,0.00,0.00,0.00,0.00,0.00,0.00,0.00,0.00, 0.00,0.00,0.00,0.00] | correct\n",
      "Total count: 7840\n",
      "Total percentage correct: 0.9271683673469387\n"
     ]
    }
   ],
   "source": [
    "net.test()"
   ]
  },
  {
   "cell_type": "code",
   "execution_count": null,
   "metadata": {},
   "outputs": [],
   "source": []
  }
 ],
 "metadata": {
  "kernelspec": {
   "display_name": "Python 3",
   "language": "python",
   "name": "python3"
  },
  "language_info": {
   "codemirror_mode": {
    "name": "ipython",
    "version": 3
   },
   "file_extension": ".py",
   "mimetype": "text/x-python",
   "name": "python",
   "nbconvert_exporter": "python",
   "pygments_lexer": "ipython3",
   "version": "3.5.3"
  },
  "widgets": {
   "application/vnd.jupyter.widget-state+json": {
    "state": {
     "0033461cecb7413eaaeac8827320e103": {
      "model_module": "@jupyter-widgets/base",
      "model_module_version": "1.0.0",
      "model_name": "LayoutModel",
      "state": {}
     },
     "00bcb3fd9b6b48a9aa17321e2f8cac8d": {
      "model_module": "@jupyter-widgets/controls",
      "model_module_version": "1.0.0",
      "model_name": "ButtonStyleModel",
      "state": {}
     },
     "00be8386c1b84d93969d290bf93de1a5": {
      "model_module": "@jupyter-widgets/base",
      "model_module_version": "1.0.0",
      "model_name": "LayoutModel",
      "state": {
       "width": "100%"
      }
     },
     "010fab61e23a4eb2a8cda16dca6b04d9": {
      "model_module": "@jupyter-widgets/controls",
      "model_module_version": "1.0.0",
      "model_name": "HTMLModel",
      "state": {
       "layout": "IPY_MODEL_d37f07f295f64fa2996ff8b7e7ba3465",
       "style": "IPY_MODEL_11d7c54a6cb2468cbd45ceeb28944e09",
       "value": "<iframe src=\"https://conx.readthedocs.io\" width=\"100%\" height=\"550px\"></frame>"
      }
     },
     "01122caa9ef14988915feb5e2264dc70": {
      "model_module": "@jupyter-widgets/controls",
      "model_module_version": "1.0.0",
      "model_name": "ButtonModel",
      "state": {
       "description": "Train",
       "layout": "IPY_MODEL_1c162f2102024003b95a9ac86502092e",
       "style": "IPY_MODEL_00bcb3fd9b6b48a9aa17321e2f8cac8d"
      }
     },
     "014d9d03d71a41a2bd0d6e31fc15e84e": {
      "model_module": "@jupyter-widgets/controls",
      "model_module_version": "1.0.0",
      "model_name": "ButtonStyleModel",
      "state": {}
     },
     "015b466cd8b54511afac1448e8a7df2f": {
      "model_module": "@jupyter-widgets/controls",
      "model_module_version": "1.0.0",
      "model_name": "HTMLModel",
      "state": {
       "layout": "IPY_MODEL_43d63cd508364c3eb81ca7716f54bfd3",
       "style": "IPY_MODEL_f710706f1fc049b5b9656997df2fab12",
       "value": "<iframe src=\"https://conx.readthedocs.io\" width=\"100%\" height=\"550px\"></frame>"
      }
     },
     "01ca6e646aa8461cbc40fd910b1124ab": {
      "model_module": "@jupyter-widgets/base",
      "model_module_version": "1.0.0",
      "model_name": "LayoutModel",
      "state": {
       "width": "100%"
      }
     },
     "01d4144db9ea457aa25318f9bcb0a6d2": {
      "model_module": "@jupyter-widgets/controls",
      "model_module_version": "1.0.0",
      "model_name": "ButtonStyleModel",
      "state": {}
     },
     "0238ba437dc5418aa09686b079a6b85f": {
      "model_module": "@jupyter-widgets/base",
      "model_module_version": "1.0.0",
      "model_name": "LayoutModel",
      "state": {
       "width": "95%"
      }
     },
     "0239b5efc761414cb3cf470cbe02b622": {
      "model_module": "@jupyter-widgets/base",
      "model_module_version": "1.0.0",
      "model_name": "LayoutModel",
      "state": {
       "width": "100%"
      }
     },
     "0275732be13646c1922b63138da43763": {
      "model_module": "@jupyter-widgets/controls",
      "model_module_version": "1.0.0",
      "model_name": "VBoxModel",
      "state": {
       "children": [
        "IPY_MODEL_ba967a525e84453f990a53b0561aa607",
        "IPY_MODEL_7fa5257ce434422ca9ee0e09c8029d87"
       ],
       "layout": "IPY_MODEL_11225481cb554f2388fd6d0ba61d0b99"
      }
     },
     "027894057dcd4d40a0b6533c898e1c98": {
      "model_module": "@jupyter-widgets/controls",
      "model_module_version": "1.0.0",
      "model_name": "DescriptionStyleModel",
      "state": {
       "description_width": ""
      }
     },
     "031caa7e9f2346ae836b6ce717148a83": {
      "model_module": "@jupyter-widgets/base",
      "model_module_version": "1.0.0",
      "model_name": "LayoutModel",
      "state": {
       "width": "95%"
      }
     },
     "033ed34c140c45298860c5ac73358170": {
      "model_module": "@jupyter-widgets/base",
      "model_module_version": "1.0.0",
      "model_name": "LayoutModel",
      "state": {
       "width": "95%"
      }
     },
     "034b49a6d0984e12893f24ab077fc1e5": {
      "model_module": "@jupyter-widgets/base",
      "model_module_version": "1.0.0",
      "model_name": "LayoutModel",
      "state": {
       "width": "95%"
      }
     },
     "03a94032ae784ae9aa7f2ec58078a4d5": {
      "model_module": "@jupyter-widgets/base",
      "model_module_version": "1.0.0",
      "model_name": "LayoutModel",
      "state": {
       "width": "100%"
      }
     },
     "03b75b4ba0f8498e82b1ea2f55454e96": {
      "model_module": "@jupyter-widgets/controls",
      "model_module_version": "1.0.0",
      "model_name": "ButtonModel",
      "state": {
       "icon": "forward",
       "layout": "IPY_MODEL_164f79242f5c49bdab0fb84317778a10",
       "style": "IPY_MODEL_7c08f521db8747c786cb0cb0373c72db"
      }
     },
     "04356e711a284875aa0f34eaf6538345": {
      "model_module": "@jupyter-widgets/base",
      "model_module_version": "1.0.0",
      "model_name": "LayoutModel",
      "state": {
       "width": "95%"
      }
     },
     "04a4870372b544de81ab6298f5bdacac": {
      "model_module": "@jupyter-widgets/controls",
      "model_module_version": "1.0.0",
      "model_name": "HBoxModel",
      "state": {
       "children": [
        "IPY_MODEL_05877a96c993457cbebe1e01a50643de",
        "IPY_MODEL_ca1203cafdae4e36a4f6d48cb66a27f0",
        "IPY_MODEL_de3964f05c9b4273b4970c52975f3d23",
        "IPY_MODEL_4ca4f2ccc48e408b8a246339ccab977a",
        "IPY_MODEL_b25cddf22740469dbc68c3e60634e7da"
       ],
       "layout": "IPY_MODEL_309dd108cf6e49bba3d028cf676a4bd1"
      }
     },
     "04f3153e1fbf47f186a3f6dac4653826": {
      "model_module": "@jupyter-widgets/controls",
      "model_module_version": "1.0.0",
      "model_name": "ButtonStyleModel",
      "state": {}
     },
     "04fe15215e884e8eb1988e15785eccd1": {
      "model_module": "@jupyter-widgets/controls",
      "model_module_version": "1.0.0",
      "model_name": "SliderStyleModel",
      "state": {
       "description_width": ""
      }
     },
     "05538dba16b4439ca41f7888b7af158e": {
      "model_module": "@jupyter-widgets/base",
      "model_module_version": "1.0.0",
      "model_name": "LayoutModel",
      "state": {
       "width": "95%"
      }
     },
     "05873433c6b24837aa85426811527d5b": {
      "model_module": "@jupyter-widgets/controls",
      "model_module_version": "1.0.0",
      "model_name": "ButtonModel",
      "state": {
       "icon": "backward",
       "layout": "IPY_MODEL_dd4606284d2a4b6e8573b0fe1a3afe73",
       "style": "IPY_MODEL_01d4144db9ea457aa25318f9bcb0a6d2"
      }
     },
     "05877a96c993457cbebe1e01a50643de": {
      "model_module": "@jupyter-widgets/controls",
      "model_module_version": "1.0.0",
      "model_name": "ButtonModel",
      "state": {
       "icon": "fast-backward",
       "layout": "IPY_MODEL_af585e1f781e470f952e5784f47ac367",
       "style": "IPY_MODEL_9c7f21eb3a844579a6c11eb80bb4df1d"
      }
     },
     "05d82fa555884b268eb3725d3b23d5aa": {
      "model_module": "@jupyter-widgets/controls",
      "model_module_version": "1.0.0",
      "model_name": "DescriptionStyleModel",
      "state": {
       "description_width": ""
      }
     },
     "0618f75a16054d0991e2e3ff3e7155b4": {
      "model_module": "@jupyter-widgets/controls",
      "model_module_version": "1.0.0",
      "model_name": "HBoxModel",
      "state": {
       "children": [
        "IPY_MODEL_f3a1ccd818ec470593af3bab5cecbad3",
        "IPY_MODEL_cc3f11bab41f4731b5c51cf4fd8a10ce"
       ],
       "layout": "IPY_MODEL_b6dfcacb20694b25a6b373d65a74f688"
      }
     },
     "065b9813a6074a45b4bdd80e2f3ed00c": {
      "model_module": "@jupyter-widgets/base",
      "model_module_version": "1.0.0",
      "model_name": "LayoutModel",
      "state": {
       "width": "100%"
      }
     },
     "06709219d44c482eae0347c62855dbe8": {
      "model_module": "@jupyter-widgets/controls",
      "model_module_version": "1.0.0",
      "model_name": "VBoxModel",
      "state": {
       "children": [
        "IPY_MODEL_22bb6a1324594fff8df4d52ee47a45c3",
        "IPY_MODEL_fda4b70ca9fd4e818703f408326615ff",
        "IPY_MODEL_b03418fb437c43ec8ef8ab2986c1c3df"
       ],
       "layout": "IPY_MODEL_04356e711a284875aa0f34eaf6538345"
      }
     },
     "06aca067f09a4025b376017484a1eb80": {
      "model_module": "@jupyter-widgets/controls",
      "model_module_version": "1.0.0",
      "model_name": "ButtonModel",
      "state": {
       "description": "Train",
       "layout": "IPY_MODEL_659d0777f9104016a80d8be12bd053f1",
       "style": "IPY_MODEL_53cf5249a96443988216ca1fa3554978"
      }
     },
     "070d2fcfde6d476eb6770893da004019": {
      "model_module": "@jupyter-widgets/base",
      "model_module_version": "1.0.0",
      "model_name": "LayoutModel",
      "state": {
       "height": "550px",
       "justify_content": "center",
       "overflow_x": "auto",
       "width": "100%"
      }
     },
     "0719ff72f2f34d168639deaa4829bbbb": {
      "model_module": "@jupyter-widgets/controls",
      "model_module_version": "1.0.0",
      "model_name": "DescriptionStyleModel",
      "state": {
       "description_width": ""
      }
     },
     "07a52d47093641e19b9ac5ea5d7e2358": {
      "model_module": "@jupyter-widgets/controls",
      "model_module_version": "1.0.0",
      "model_name": "ButtonModel",
      "state": {
       "description": "Train",
       "layout": "IPY_MODEL_1366c21a94b142d498b8937277861630",
       "style": "IPY_MODEL_5fc4f78782bc47ab9b971ec61f30fe70"
      }
     },
     "07c8e3f0bd9d411ea41d436f8f6019bf": {
      "model_module": "@jupyter-widgets/base",
      "model_module_version": "1.0.0",
      "model_name": "LayoutModel",
      "state": {
       "width": "95%"
      }
     },
     "084ac1f9882b40d388e156ccc08a0e1f": {
      "model_module": "@jupyter-widgets/base",
      "model_module_version": "1.0.0",
      "model_name": "LayoutModel",
      "state": {}
     },
     "088b706a07ef417d80ceaf3530304939": {
      "model_module": "@jupyter-widgets/controls",
      "model_module_version": "1.0.0",
      "model_name": "DescriptionStyleModel",
      "state": {
       "description_width": ""
      }
     },
     "090747def03a4c54a885e156353c7042": {
      "model_module": "@jupyter-widgets/controls",
      "model_module_version": "1.0.0",
      "model_name": "DescriptionStyleModel",
      "state": {
       "description_width": ""
      }
     },
     "092aa9f304c34db89f2f959f9544f658": {
      "model_module": "@jupyter-widgets/controls",
      "model_module_version": "1.0.0",
      "model_name": "SelectModel",
      "state": {
       "_options_labels": [
        "Test",
        "Train"
       ],
       "description": "Dataset:",
       "index": 1,
       "layout": "IPY_MODEL_0033461cecb7413eaaeac8827320e103",
       "rows": 1,
       "style": "IPY_MODEL_52071c823b844e4c8a53ea64d34aa1e7"
      }
     },
     "0975162eedee4785bf5a31de303edee6": {
      "model_module": "@jupyter-widgets/controls",
      "model_module_version": "1.0.0",
      "model_name": "DescriptionStyleModel",
      "state": {
       "description_width": ""
      }
     },
     "09ae020e19b645609dcd09d8e7949e39": {
      "model_module": "@jupyter-widgets/controls",
      "model_module_version": "1.0.0",
      "model_name": "DescriptionStyleModel",
      "state": {
       "description_width": ""
      }
     },
     "0a12a781b241472c9d4345da26ac778a": {
      "model_module": "@jupyter-widgets/controls",
      "model_module_version": "1.0.0",
      "model_name": "DescriptionStyleModel",
      "state": {
       "description_width": ""
      }
     },
     "0af3eddbae804e1393e6014272895b60": {
      "model_module": "@jupyter-widgets/controls",
      "model_module_version": "1.0.0",
      "model_name": "IntSliderModel",
      "state": {
       "continuous_update": false,
       "description": "Dataset index",
       "disabled": true,
       "layout": "IPY_MODEL_033ed34c140c45298860c5ac73358170",
       "max": 0,
       "style": "IPY_MODEL_6303f1cd933c471c8505b0d9859fd23b"
      }
     },
     "0b14a14362284bf38b55fd63243fa19a": {
      "model_module": "@jupyter-widgets/controls",
      "model_module_version": "1.0.0",
      "model_name": "ButtonModel",
      "state": {
       "icon": "forward",
       "layout": "IPY_MODEL_67841f87e4714772879de0cb943dbd17",
       "style": "IPY_MODEL_4d9ba66180c94583acafb3818e959df3"
      }
     },
     "0b8baf7066ef4af980bbb66216c23b25": {
      "model_module": "@jupyter-widgets/controls",
      "model_module_version": "1.0.0",
      "model_name": "ButtonModel",
      "state": {
       "description": "Train",
       "layout": "IPY_MODEL_8eed920729f643189e259c406437678a",
       "style": "IPY_MODEL_f250828c90ba43d1904c591b6de11217"
      }
     },
     "0bf1ee17807a48eeb638b948bd668ffe": {
      "model_module": "@jupyter-widgets/controls",
      "model_module_version": "1.0.0",
      "model_name": "DescriptionStyleModel",
      "state": {
       "description_width": ""
      }
     },
     "0c211772d1c84256a9499ed6143984d7": {
      "model_module": "@jupyter-widgets/base",
      "model_module_version": "1.0.0",
      "model_name": "LayoutModel",
      "state": {
       "width": "95%"
      }
     },
     "0c382e7934d4463ab44df0ce59123a1c": {
      "model_module": "@jupyter-widgets/controls",
      "model_module_version": "1.0.0",
      "model_name": "ButtonModel",
      "state": {
       "icon": "backward",
       "layout": "IPY_MODEL_03a94032ae784ae9aa7f2ec58078a4d5",
       "style": "IPY_MODEL_29671342a22543b5aa718b5bd10571a1"
      }
     },
     "0c5495ecbee94c099d7cd3a89a88f5f0": {
      "model_module": "@jupyter-widgets/base",
      "model_module_version": "1.0.0",
      "model_name": "LayoutModel",
      "state": {
       "height": "550px",
       "width": "95%"
      }
     },
     "0c71c8cf13364592a39c0a0a75c02c0a": {
      "model_module": "@jupyter-widgets/controls",
      "model_module_version": "1.0.0",
      "model_name": "HBoxModel",
      "state": {
       "children": [
        "IPY_MODEL_7ad32b404d9a4d4d87a9d3d664a964ca",
        "IPY_MODEL_ccbd13cc14bb4db0bcf2248104786cfe",
        "IPY_MODEL_2c9b1768ad0945d18e039e04a1ebd669",
        "IPY_MODEL_a3720946425e4bbb9249f88b4d2a3f0b",
        "IPY_MODEL_b776aa69bcf748649fbfbebcdcad276a"
       ],
       "layout": "IPY_MODEL_dd52db1b4bf14ad78d5a7b74cc18eb33"
      }
     },
     "0caa6fe2b4cc4c7c80cbb173367618e9": {
      "model_module": "@jupyter-widgets/controls",
      "model_module_version": "1.0.0",
      "model_name": "DescriptionStyleModel",
      "state": {
       "description_width": ""
      }
     },
     "0cbc4de38e1d44978299e40e5631b33e": {
      "model_module": "@jupyter-widgets/base",
      "model_module_version": "1.0.0",
      "model_name": "LayoutModel",
      "state": {
       "width": "100%"
      }
     },
     "0d132f5bda5b4560ad84478cd7cad3c2": {
      "model_module": "@jupyter-widgets/base",
      "model_module_version": "1.0.0",
      "model_name": "LayoutModel",
      "state": {
       "width": "100%"
      }
     },
     "0d331a8b942145b3a5086f49633ad615": {
      "model_module": "@jupyter-widgets/controls",
      "model_module_version": "1.0.0",
      "model_name": "IntSliderModel",
      "state": {
       "continuous_update": false,
       "description": "Dataset index",
       "layout": "IPY_MODEL_3bf8b5857fb048969b059415ac9f7e2e",
       "max": 4,
       "style": "IPY_MODEL_663391eae7a04f7aa0d6997927f1e52b"
      }
     },
     "0d4bdc9d140a4c92a594a4f1c34b7043": {
      "model_module": "@jupyter-widgets/base",
      "model_module_version": "1.0.0",
      "model_name": "LayoutModel",
      "state": {
       "height": "50px",
       "width": "95%"
      }
     },
     "0d9656d0ddf84cafb2fbd4e8f0794566": {
      "model_module": "@jupyter-widgets/controls",
      "model_module_version": "1.0.0",
      "model_name": "ButtonModel",
      "state": {
       "icon": "fast-forward",
       "layout": "IPY_MODEL_886342619e4f47ac8b41b1282a326e7f",
       "style": "IPY_MODEL_4d05ce72305e4b19908d5068a408fb4f"
      }
     },
     "0d97438911cf48c38817990baeaa3353": {
      "model_module": "@jupyter-widgets/controls",
      "model_module_version": "1.0.0",
      "model_name": "ButtonModel",
      "state": {
       "icon": "refresh",
       "layout": "IPY_MODEL_8000b358b334440ba0a9550e5efb744e",
       "style": "IPY_MODEL_f8db730c7b844c1f82eb37fdb4fbb041"
      }
     },
     "0e09b2e0cccf4e55aaaf655b88eff0fa": {
      "model_module": "@jupyter-widgets/controls",
      "model_module_version": "1.0.0",
      "model_name": "HTMLModel",
      "state": {
       "layout": "IPY_MODEL_5a643b0a4b6b4368996b2a337ab2f6d4",
       "style": "IPY_MODEL_b12eb35cdca446d6ba519ef45b522ce1",
       "value": "<iframe src=\"https://conx.readthedocs.io\" width=\"100%\" height=\"550px\"></frame>"
      }
     },
     "0e889d6517984840bfc8c3b94872b193": {
      "model_module": "@jupyter-widgets/controls",
      "model_module_version": "1.0.0",
      "model_name": "ButtonStyleModel",
      "state": {}
     },
     "0f099501928c433f971719e2c85b86e2": {
      "model_module": "@jupyter-widgets/controls",
      "model_module_version": "1.0.0",
      "model_name": "ButtonModel",
      "state": {
       "icon": "fast-forward",
       "layout": "IPY_MODEL_4a2241af7bd647adafa730bf69160648",
       "style": "IPY_MODEL_72ee4a025b6d409b99decb7e14a71d81"
      }
     },
     "0fd89cbe5a7d4f42869aecc74536e50c": {
      "model_module": "@jupyter-widgets/base",
      "model_module_version": "1.0.0",
      "model_name": "LayoutModel",
      "state": {
       "height": "550px",
       "justify_content": "center",
       "overflow_x": "auto",
       "width": "100%"
      }
     },
     "0ffe14eabdcc42f5a49e72d5e4059b1d": {
      "model_module": "@jupyter-widgets/base",
      "model_module_version": "1.0.0",
      "model_name": "LayoutModel",
      "state": {
       "height": "550px",
       "width": "95%"
      }
     },
     "1014e6e885a342d491d9a3609a773a3a": {
      "model_module": "@jupyter-widgets/controls",
      "model_module_version": "1.0.0",
      "model_name": "HTMLModel",
      "state": {
       "layout": "IPY_MODEL_7606e9df4bbd4b109f356b7a7fd06293",
       "style": "IPY_MODEL_b118c2d20fbb43bb82740107172ae1a3",
       "value": "<iframe src=\"https://conx.readthedocs.io\" width=\"100%\" height=\"550px\"></frame>"
      }
     },
     "105846af72724c58b988817bae65fa18": {
      "model_module": "@jupyter-widgets/base",
      "model_module_version": "1.0.0",
      "model_name": "LayoutModel",
      "state": {}
     },
     "11225481cb554f2388fd6d0ba61d0b99": {
      "model_module": "@jupyter-widgets/base",
      "model_module_version": "1.0.0",
      "model_name": "LayoutModel",
      "state": {
       "height": "550px",
       "width": "100%"
      }
     },
     "112fc5529fe14be59d49217e022e69ef": {
      "model_module": "@jupyter-widgets/controls",
      "model_module_version": "1.0.0",
      "model_name": "HTMLModel",
      "state": {
       "layout": "IPY_MODEL_fedfbe8889ad44e78603bfbf27d95d4e",
       "style": "IPY_MODEL_933e3fac5f024f50bb8f341c0fd3cb68",
       "value": "<iframe src=\"https://conx.readthedocs.io\" width=\"100%\" height=\"550px\"></frame>"
      }
     },
     "1148f6e57bcd4c40ac1f0935d69e580b": {
      "model_module": "@jupyter-widgets/base",
      "model_module_version": "1.0.0",
      "model_name": "LayoutModel",
      "state": {
       "width": "100%"
      }
     },
     "119b17b2796a4622829690805d0b655e": {
      "model_module": "@jupyter-widgets/controls",
      "model_module_version": "1.0.0",
      "model_name": "ButtonModel",
      "state": {
       "disabled": true,
       "icon": "forward",
       "layout": "IPY_MODEL_065b9813a6074a45b4bdd80e2f3ed00c",
       "style": "IPY_MODEL_d528c75ecbb84fa3a66b034fbad534c3"
      }
     },
     "11d7c54a6cb2468cbd45ceeb28944e09": {
      "model_module": "@jupyter-widgets/controls",
      "model_module_version": "1.0.0",
      "model_name": "DescriptionStyleModel",
      "state": {
       "description_width": ""
      }
     },
     "1211a74028034bf0ae0572ab77931e7e": {
      "model_module": "@jupyter-widgets/controls",
      "model_module_version": "1.0.0",
      "model_name": "VBoxModel",
      "state": {
       "children": [
        "IPY_MODEL_d48a3eca372f4eee9f8c17d8d2893ff6",
        "IPY_MODEL_4d22f4ccde374a6b8b5eb9d93873a99e"
       ],
       "layout": "IPY_MODEL_77d85df9d5be4067864982a6a30a7eab"
      }
     },
     "1237c0cd61ab4ab3a4c913385da75f18": {
      "model_module": "@jupyter-widgets/base",
      "model_module_version": "1.0.0",
      "model_name": "LayoutModel",
      "state": {
       "width": "100%"
      }
     },
     "127f2b95a5af4f5f95943440140fe80f": {
      "model_module": "@jupyter-widgets/base",
      "model_module_version": "1.0.0",
      "model_name": "LayoutModel",
      "state": {
       "height": "550px",
       "width": "100%"
      }
     },
     "128df837dc3c49d18a0553e8e238ec29": {
      "model_module": "@jupyter-widgets/controls",
      "model_module_version": "1.0.0",
      "model_name": "ButtonStyleModel",
      "state": {}
     },
     "12df8d0975dd434fa85bc777d6dc6cd6": {
      "model_module": "@jupyter-widgets/controls",
      "model_module_version": "1.0.0",
      "model_name": "HTMLModel",
      "state": {
       "layout": "IPY_MODEL_4fa55628cd0c417dbae54cf4fdc7f227",
       "style": "IPY_MODEL_9d2b4a140af54198b7b6fc83725d4348",
       "value": "<iframe src=\"https://conx.readthedocs.io\" width=\"100%\" height=\"550px\"></frame>"
      }
     },
     "1321e55327914b8cb10871cf045b8842": {
      "model_module": "@jupyter-widgets/base",
      "model_module_version": "1.0.0",
      "model_name": "LayoutModel",
      "state": {}
     },
     "135e89277bf443979ecd8661c2df0ec1": {
      "model_module": "@jupyter-widgets/base",
      "model_module_version": "1.0.0",
      "model_name": "LayoutModel",
      "state": {
       "width": "100%"
      }
     },
     "1366c21a94b142d498b8937277861630": {
      "model_module": "@jupyter-widgets/base",
      "model_module_version": "1.0.0",
      "model_name": "LayoutModel",
      "state": {
       "width": "100%"
      }
     },
     "1386251c384849e79f6a646b506cdcfa": {
      "model_module": "@jupyter-widgets/base",
      "model_module_version": "1.0.0",
      "model_name": "LayoutModel",
      "state": {
       "width": "100%"
      }
     },
     "13dfb3942d614a7db03bdc1d40df03fc": {
      "model_module": "@jupyter-widgets/controls",
      "model_module_version": "1.0.0",
      "model_name": "ButtonStyleModel",
      "state": {}
     },
     "13e0fa746c5e45e397d56f818a861746": {
      "model_module": "@jupyter-widgets/controls",
      "model_module_version": "1.0.0",
      "model_name": "VBoxModel",
      "state": {
       "children": [
        "IPY_MODEL_e27d5f6f9b874fe690a3729226dea680",
        "IPY_MODEL_f3c205984d9944e7ba251142cffde0b6",
        "IPY_MODEL_427f5d058c9849b3873a2845987ebc99"
       ],
       "layout": "IPY_MODEL_b664839719974026b3fdc372b3c4436f"
      }
     },
     "13f8372e0d2a4be08a4f2b16c740ae3c": {
      "model_module": "@jupyter-widgets/base",
      "model_module_version": "1.0.0",
      "model_name": "LayoutModel",
      "state": {
       "height": "550px",
       "justify_content": "center",
       "overflow_x": "auto",
       "width": "95%"
      }
     },
     "14e16e3579b94d989ee29b57f7c38320": {
      "model_module": "@jupyter-widgets/controls",
      "model_module_version": "1.0.0",
      "model_name": "ButtonStyleModel",
      "state": {}
     },
     "14ec05b94c6b4bc193a618a1202e7fe4": {
      "model_module": "@jupyter-widgets/controls",
      "model_module_version": "1.0.0",
      "model_name": "ButtonStyleModel",
      "state": {}
     },
     "1629262ba39f4cb0b2ed9ec1ce1bc29f": {
      "model_module": "@jupyter-widgets/controls",
      "model_module_version": "1.0.0",
      "model_name": "ButtonModel",
      "state": {
       "icon": "backward",
       "layout": "IPY_MODEL_2b6881c0b4404bd0b25bdf4b3fe0d713",
       "style": "IPY_MODEL_661a774dbb5b409db3d8a862e35f353c"
      }
     },
     "164f79242f5c49bdab0fb84317778a10": {
      "model_module": "@jupyter-widgets/base",
      "model_module_version": "1.0.0",
      "model_name": "LayoutModel",
      "state": {
       "width": "100%"
      }
     },
     "1652106cc2db4abb9efbbb0701dd794a": {
      "model_module": "@jupyter-widgets/controls",
      "model_module_version": "1.0.0",
      "model_name": "ButtonStyleModel",
      "state": {}
     },
     "1661d1b090ac41639a80a0d590de1da9": {
      "model_module": "@jupyter-widgets/base",
      "model_module_version": "1.0.0",
      "model_name": "LayoutModel",
      "state": {
       "width": "95%"
      }
     },
     "173cae6b79254c46bac184b3cbd6ebb3": {
      "model_module": "@jupyter-widgets/base",
      "model_module_version": "1.0.0",
      "model_name": "LayoutModel",
      "state": {
       "height": "550px",
       "width": "95%"
      }
     },
     "1755ac5d31a04060b42d36bf58b3d880": {
      "model_module": "@jupyter-widgets/controls",
      "model_module_version": "1.0.0",
      "model_name": "ButtonModel",
      "state": {
       "disabled": true,
       "icon": "forward",
       "layout": "IPY_MODEL_373b539f51644bd1bf8f1fc61346b75b",
       "style": "IPY_MODEL_9e24d6519e0245f9a37f1f0ac10585f7"
      }
     },
     "185f41886d87454c9a1da8724da652fd": {
      "model_module": "@jupyter-widgets/controls",
      "model_module_version": "1.0.0",
      "model_name": "ButtonStyleModel",
      "state": {}
     },
     "188be146c7914941a0f87ac0b517849b": {
      "model_module": "@jupyter-widgets/controls",
      "model_module_version": "1.0.0",
      "model_name": "ButtonModel",
      "state": {
       "icon": "backward",
       "layout": "IPY_MODEL_c2dab89f55844bb8b46771b81e3b8311",
       "style": "IPY_MODEL_190c3e9da3794848bf3ac1de18a99a4c"
      }
     },
     "190c3e9da3794848bf3ac1de18a99a4c": {
      "model_module": "@jupyter-widgets/controls",
      "model_module_version": "1.0.0",
      "model_name": "ButtonStyleModel",
      "state": {}
     },
     "19c550ec982b4679895d2a23211f5a62": {
      "model_module": "@jupyter-widgets/controls",
      "model_module_version": "1.0.0",
      "model_name": "ButtonStyleModel",
      "state": {}
     },
     "1a54d33e54d44a51b97aab3558e70fd0": {
      "model_module": "@jupyter-widgets/controls",
      "model_module_version": "1.0.0",
      "model_name": "HBoxModel",
      "state": {
       "children": [
        "IPY_MODEL_6485f40e4d4b43699f22bad5f4098fa4",
        "IPY_MODEL_82cb31c5669e4b28bb40e0c21ffd088c",
        "IPY_MODEL_e41024ead98c4e86b33ae396fea026e2",
        "IPY_MODEL_79e31d63f87240cf972d87ad90b563cf",
        "IPY_MODEL_b328ce1975ca4d0ca77e1df2841119fb"
       ],
       "layout": "IPY_MODEL_ebaebfc3f0734257b13d105c8928e084"
      }
     },
     "1b85f73a01a74cba9630f9379341d07b": {
      "model_module": "@jupyter-widgets/controls",
      "model_module_version": "1.0.0",
      "model_name": "SliderStyleModel",
      "state": {
       "description_width": ""
      }
     },
     "1ba71fc2847f4e448e4bea94d4bf3515": {
      "model_module": "@jupyter-widgets/controls",
      "model_module_version": "1.0.0",
      "model_name": "DescriptionStyleModel",
      "state": {
       "description_width": ""
      }
     },
     "1bfa5f89c18847009c5889a38c385eda": {
      "model_module": "@jupyter-widgets/controls",
      "model_module_version": "1.0.0",
      "model_name": "DescriptionStyleModel",
      "state": {
       "description_width": ""
      }
     },
     "1c162f2102024003b95a9ac86502092e": {
      "model_module": "@jupyter-widgets/base",
      "model_module_version": "1.0.0",
      "model_name": "LayoutModel",
      "state": {
       "width": "100%"
      }
     },
     "1cd8836073534afabe6cc020ebe1834d": {
      "model_module": "@jupyter-widgets/controls",
      "model_module_version": "1.0.0",
      "model_name": "IntSliderModel",
      "state": {
       "continuous_update": false,
       "description": "Dataset index",
       "layout": "IPY_MODEL_034b49a6d0984e12893f24ab077fc1e5",
       "max": 4,
       "style": "IPY_MODEL_bb3422c67441485b957950fd5471ef6b"
      }
     },
     "1dde7dd8cd284bd780100ecd925c5c18": {
      "model_module": "@jupyter-widgets/base",
      "model_module_version": "1.0.0",
      "model_name": "LayoutModel",
      "state": {
       "width": "100%"
      }
     },
     "1ec69ddabdca4a638fabf305ff453ae9": {
      "model_module": "@jupyter-widgets/controls",
      "model_module_version": "1.0.0",
      "model_name": "VBoxModel",
      "state": {
       "children": [
        "IPY_MODEL_95d28a206efb46bc9f3566a04d2310e3",
        "IPY_MODEL_3d95f349fb914223b903cd37fba4a32c",
        "IPY_MODEL_d76c639f01b64e1886d1e44152f68fe7"
       ],
       "layout": "IPY_MODEL_a1139044da9b4d828bd2296aeb596ed9"
      }
     },
     "1f0f78ef98c84b22bd1cc36108c4fac5": {
      "model_module": "@jupyter-widgets/base",
      "model_module_version": "1.0.0",
      "model_name": "LayoutModel",
      "state": {
       "height": "550px",
       "justify_content": "center",
       "overflow_x": "auto",
       "width": "100%"
      }
     },
     "1f2c4fd2fbbd4513b0331da44883d29e": {
      "model_module": "@jupyter-widgets/controls",
      "model_module_version": "1.0.0",
      "model_name": "DescriptionStyleModel",
      "state": {
       "description_width": ""
      }
     },
     "1fa0e29ec18c45ecb8998097c6ab9e67": {
      "model_module": "@jupyter-widgets/base",
      "model_module_version": "1.0.0",
      "model_name": "LayoutModel",
      "state": {
       "width": "95%"
      }
     },
     "1fa6cd643b7d495880908166757ebf01": {
      "model_module": "@jupyter-widgets/controls",
      "model_module_version": "1.0.0",
      "model_name": "ButtonModel",
      "state": {
       "disabled": true,
       "icon": "backward",
       "layout": "IPY_MODEL_6a8bb8d726544383911d9dc644b5d53b",
       "style": "IPY_MODEL_20e068112fa540a4b257b61a44e43217"
      }
     },
     "1ff54a6331e54215ba254076d1f95023": {
      "model_module": "@jupyter-widgets/controls",
      "model_module_version": "1.0.0",
      "model_name": "ButtonModel",
      "state": {
       "description": "Train",
       "layout": "IPY_MODEL_8bc3ad9a0188487b9ccadc6e7cd0cc89",
       "style": "IPY_MODEL_e6113324a987461790b810f490c80afe"
      }
     },
     "20e068112fa540a4b257b61a44e43217": {
      "model_module": "@jupyter-widgets/controls",
      "model_module_version": "1.0.0",
      "model_name": "ButtonStyleModel",
      "state": {}
     },
     "20f27b04e0af475391e6f2093d5e30ba": {
      "model_module": "@jupyter-widgets/controls",
      "model_module_version": "1.0.0",
      "model_name": "ButtonStyleModel",
      "state": {}
     },
     "21085e18490940129ddcf9004f4d4be2": {
      "model_module": "@jupyter-widgets/controls",
      "model_module_version": "1.0.0",
      "model_name": "IntSliderModel",
      "state": {
       "continuous_update": false,
       "description": "Dataset index",
       "layout": "IPY_MODEL_df39a7b8a2364d5d8459a4d0888bb209",
       "max": 0,
       "style": "IPY_MODEL_f7c458ffd5b84489bd35e1ee0d1585f0"
      }
     },
     "21df2125a6ea429ea3096e049b0f7e0f": {
      "model_module": "@jupyter-widgets/base",
      "model_module_version": "1.0.0",
      "model_name": "LayoutModel",
      "state": {}
     },
     "21eabc775eb640fc94613f19a6762617": {
      "model_module": "@jupyter-widgets/base",
      "model_module_version": "1.0.0",
      "model_name": "LayoutModel",
      "state": {
       "height": "50px",
       "width": "95%"
      }
     },
     "224dd0f8ad14410d94964a4c40632015": {
      "model_module": "@jupyter-widgets/controls",
      "model_module_version": "1.0.0",
      "model_name": "ButtonStyleModel",
      "state": {}
     },
     "22bb6a1324594fff8df4d52ee47a45c3": {
      "model_module": "@jupyter-widgets/controls",
      "model_module_version": "1.0.0",
      "model_name": "SelectModel",
      "state": {
       "_options_labels": [
        "Test",
        "Train"
       ],
       "description": "Dataset:",
       "index": 1,
       "layout": "IPY_MODEL_b84cafa3a9ae4cbbaa3ef935fba25e95",
       "rows": 1,
       "style": "IPY_MODEL_0719ff72f2f34d168639deaa4829bbbb"
      }
     },
     "22d9d593f8dc42219485cc954f5f65bf": {
      "model_module": "@jupyter-widgets/controls",
      "model_module_version": "1.0.0",
      "model_name": "ButtonStyleModel",
      "state": {}
     },
     "232fb9d7bf8247709b86b54694d7b356": {
      "model_module": "@jupyter-widgets/base",
      "model_module_version": "1.0.0",
      "model_name": "LayoutModel",
      "state": {
       "width": "100%"
      }
     },
     "243e1bee72264b659a7f49ee6bdae721": {
      "model_module": "@jupyter-widgets/base",
      "model_module_version": "1.0.0",
      "model_name": "LayoutModel",
      "state": {
       "width": "100%"
      }
     },
     "24fdeb88820c4415a30604f9fcb2009c": {
      "model_module": "@jupyter-widgets/controls",
      "model_module_version": "1.0.0",
      "model_name": "SelectModel",
      "state": {
       "_options_labels": [
        "Test",
        "Train"
       ],
       "description": "Dataset:",
       "index": 0,
       "layout": "IPY_MODEL_4bbedcd6977549a28ca488eea6a897f1",
       "style": "IPY_MODEL_fb41b23a9aab4e8cae4eb0d0704303b9"
      }
     },
     "252455a7637a4228bdf47f199ead7a84": {
      "model_module": "@jupyter-widgets/controls",
      "model_module_version": "1.0.0",
      "model_name": "ButtonStyleModel",
      "state": {}
     },
     "256235a1600e47f883f5f3376a5edc1b": {
      "model_module": "@jupyter-widgets/base",
      "model_module_version": "1.0.0",
      "model_name": "LayoutModel",
      "state": {
       "width": "100%"
      }
     },
     "259d64ebd5bc4f94b1034ef8be78cb50": {
      "model_module": "@jupyter-widgets/controls",
      "model_module_version": "1.0.0",
      "model_name": "SliderStyleModel",
      "state": {
       "description_width": ""
      }
     },
     "26943362351d43f0934417d34fbae797": {
      "model_module": "@jupyter-widgets/base",
      "model_module_version": "1.0.0",
      "model_name": "LayoutModel",
      "state": {
       "width": "100%"
      }
     },
     "26f959a59dc14f59a70fe6aefff747da": {
      "model_module": "@jupyter-widgets/controls",
      "model_module_version": "1.0.0",
      "model_name": "HBoxModel",
      "state": {
       "children": [
        "IPY_MODEL_5acc8ae7bf38451aa4d564d67a992c65",
        "IPY_MODEL_a3f6847a88cd434dbf5593a187d88225",
        "IPY_MODEL_f32e5eb2558d43099342e9195b801d70",
        "IPY_MODEL_ce5be461277c48ac90fbb8324bf9447a",
        "IPY_MODEL_74d3758b5f304242b5cef7303abec782"
       ],
       "layout": "IPY_MODEL_85b485152bb7400ea6a135fd2444cbc1"
      }
     },
     "277d7d71a7e747cdaf71e1387be4fef8": {
      "model_module": "@jupyter-widgets/controls",
      "model_module_version": "1.0.0",
      "model_name": "ButtonStyleModel",
      "state": {}
     },
     "27b6d83543314c15ae8bdae7078d2d08": {
      "model_module": "@jupyter-widgets/base",
      "model_module_version": "1.0.0",
      "model_name": "LayoutModel",
      "state": {}
     },
     "27d9cbf6e8664d11a3fbd424265fa736": {
      "model_module": "@jupyter-widgets/controls",
      "model_module_version": "1.0.0",
      "model_name": "ButtonStyleModel",
      "state": {}
     },
     "28593adbbc7945e6933f9898ed9faaf1": {
      "model_module": "@jupyter-widgets/controls",
      "model_module_version": "1.0.0",
      "model_name": "TabModel",
      "state": {
       "_titles": {
        "0": "Network",
        "1": "Help"
       },
       "children": [
        "IPY_MODEL_f8382ebe73a1445db942e820f862a9ea",
        "IPY_MODEL_72d71fdb62394108a10f6a3ddb56f490"
       ],
       "layout": "IPY_MODEL_3c6c77a00dcd4793af88b27fe470ab19"
      }
     },
     "295634801ebd4f4d89dfb86a6821e5c3": {
      "model_module": "@jupyter-widgets/controls",
      "model_module_version": "1.0.0",
      "model_name": "HTMLModel",
      "state": {
       "layout": "IPY_MODEL_f985c2ce1040414cb385081644c9234e",
       "style": "IPY_MODEL_5f0b6b3519214c78b82c4f63463fb162",
       "value": "<iframe src=\"https://conx.readthedocs.io\" width=\"100%\" height=\"550px\"></frame>"
      }
     },
     "29671342a22543b5aa718b5bd10571a1": {
      "model_module": "@jupyter-widgets/controls",
      "model_module_version": "1.0.0",
      "model_name": "ButtonStyleModel",
      "state": {}
     },
     "2aacd5895cdb479ebf5c8ed39f92b2de": {
      "model_module": "@jupyter-widgets/base",
      "model_module_version": "1.0.0",
      "model_name": "LayoutModel",
      "state": {
       "height": "550px",
       "justify_content": "center",
       "overflow_x": "auto",
       "width": "100%"
      }
     },
     "2af655ecf4884dc1a613a325b51267f0": {
      "model_module": "@jupyter-widgets/base",
      "model_module_version": "1.0.0",
      "model_name": "LayoutModel",
      "state": {
       "height": "50px",
       "width": "95%"
      }
     },
     "2b6881c0b4404bd0b25bdf4b3fe0d713": {
      "model_module": "@jupyter-widgets/base",
      "model_module_version": "1.0.0",
      "model_name": "LayoutModel",
      "state": {
       "width": "100%"
      }
     },
     "2b93432d14544d969b8a58e12f4100d0": {
      "model_module": "@jupyter-widgets/controls",
      "model_module_version": "1.0.0",
      "model_name": "VBoxModel",
      "state": {
       "children": [
        "IPY_MODEL_a3cca75e275a4cca8b4ed408ba71806a",
        "IPY_MODEL_b0bd6882b5804f04bf1a34bb2b765afa"
       ],
       "layout": "IPY_MODEL_e64decd58c0e46d59e76097e19df6386"
      }
     },
     "2ba72760464b49a386a9bbb6aecb42d8": {
      "model_module": "@jupyter-widgets/controls",
      "model_module_version": "1.0.0",
      "model_name": "SelectModel",
      "state": {
       "_options_labels": [
        "Test",
        "Train"
       ],
       "description": "Dataset:",
       "index": 1,
       "layout": "IPY_MODEL_80ef20f8ccee4ebf80ec964b5ec1bb8e",
       "rows": 1,
       "style": "IPY_MODEL_39abaac43a3e412f84d6f63d6b9f1203"
      }
     },
     "2bb29e5d0fab4f498a77909b04d5d9c5": {
      "model_module": "@jupyter-widgets/base",
      "model_module_version": "1.0.0",
      "model_name": "LayoutModel",
      "state": {
       "height": "550px",
       "justify_content": "center",
       "overflow_x": "auto",
       "width": "100%"
      }
     },
     "2bf4be58c31341829227d141cc3b1b49": {
      "model_module": "@jupyter-widgets/controls",
      "model_module_version": "1.0.0",
      "model_name": "VBoxModel",
      "state": {
       "children": [
        "IPY_MODEL_7cd144d204da4b8a8340ab7d73168e46",
        "IPY_MODEL_5b1d346bb80a47abbdc43e45b5efe745"
       ],
       "layout": "IPY_MODEL_eb634099f6ed429799ce6e22ed224210"
      }
     },
     "2c07fbf37501432393d12c8b0b43530d": {
      "model_module": "@jupyter-widgets/base",
      "model_module_version": "1.0.0",
      "model_name": "LayoutModel",
      "state": {
       "width": "100%"
      }
     },
     "2c709788340848379308b3ea3bf527ad": {
      "model_module": "@jupyter-widgets/controls",
      "model_module_version": "1.0.0",
      "model_name": "ButtonModel",
      "state": {
       "icon": "fast-backward",
       "layout": "IPY_MODEL_b6b89d6658824d8db8a192d589fbd70a",
       "style": "IPY_MODEL_36aca52885174c1bbc37119c6491e46b"
      }
     },
     "2c9b1768ad0945d18e039e04a1ebd669": {
      "model_module": "@jupyter-widgets/controls",
      "model_module_version": "1.0.0",
      "model_name": "ButtonModel",
      "state": {
       "description": "Train",
       "layout": "IPY_MODEL_e26aa2f0335447cbb69fff9fe9ea68a2",
       "style": "IPY_MODEL_20f27b04e0af475391e6f2093d5e30ba"
      }
     },
     "2cc6eb071ea546f8ba07dc16cfa97b5b": {
      "model_module": "@jupyter-widgets/controls",
      "model_module_version": "1.0.0",
      "model_name": "TabModel",
      "state": {
       "_titles": {
        "0": "Network",
        "1": "Help"
       },
       "children": [
        "IPY_MODEL_feaa016c94084985a294079060d74413",
        "IPY_MODEL_97fcdd949ef9421a83f678e511ffd580"
       ],
       "layout": "IPY_MODEL_91fe1d6ab2f442b1aa02fa0c4afd5527"
      }
     },
     "2d09dff0e92148fcbd844151d20e1ea2": {
      "model_module": "@jupyter-widgets/controls",
      "model_module_version": "1.0.0",
      "model_name": "HBoxModel",
      "state": {
       "children": [
        "IPY_MODEL_47bb5b47dbb84af5bf2863c310abc114",
        "IPY_MODEL_7087f493c34a4524b27c5c7ebb202490",
        "IPY_MODEL_4861d3efaaa4478fabf741027271acac",
        "IPY_MODEL_7d978d23c13147619c3f78ae142ead2c",
        "IPY_MODEL_98e06d662c1c4acb8f5f11d5a630d690"
       ],
       "layout": "IPY_MODEL_8535115cfd79408c81c03273690c1461"
      }
     },
     "2d69d6a6964d452c86af7a9b5dcbb098": {
      "model_module": "@jupyter-widgets/controls",
      "model_module_version": "1.0.0",
      "model_name": "DescriptionStyleModel",
      "state": {
       "description_width": ""
      }
     },
     "2e1639dc4c614122923034b6db037057": {
      "model_module": "@jupyter-widgets/controls",
      "model_module_version": "1.0.0",
      "model_name": "ButtonStyleModel",
      "state": {}
     },
     "2e1aa150544f4896ad8ab9df0db56634": {
      "model_module": "@jupyter-widgets/controls",
      "model_module_version": "1.0.0",
      "model_name": "VBoxModel",
      "state": {
       "children": [
        "IPY_MODEL_4f2024e496e2434c81cd13b60c6c9f14",
        "IPY_MODEL_7cfe72f95a4243cfac75705a6ecfa06f"
       ],
       "layout": "IPY_MODEL_173cae6b79254c46bac184b3cbd6ebb3"
      }
     },
     "2e5c7f2905b04a18abb22b211c09da18": {
      "model_module": "@jupyter-widgets/base",
      "model_module_version": "1.0.0",
      "model_name": "LayoutModel",
      "state": {
       "height": "550px",
       "justify_content": "center",
       "overflow_x": "auto",
       "width": "95%"
      }
     },
     "2e6e160ab2374bd1af2ca6c2023129ed": {
      "model_module": "@jupyter-widgets/base",
      "model_module_version": "1.0.0",
      "model_name": "LayoutModel",
      "state": {
       "width": "100%"
      }
     },
     "2e8de96a9c124a5abb25aa35560408fb": {
      "model_module": "@jupyter-widgets/controls",
      "model_module_version": "1.0.0",
      "model_name": "TabModel",
      "state": {
       "_titles": {
        "0": "Network",
        "1": "Help"
       },
       "children": [
        "IPY_MODEL_8b5b87e59fb14546948e4e63cd954769",
        "IPY_MODEL_abd9b6f864644ce6b5795de7da1a34af"
       ],
       "layout": "IPY_MODEL_960a6206f4bc47d7a3623b37a65ee01e"
      }
     },
     "2eeacc467f1745d4b2746203d6729d48": {
      "model_module": "@jupyter-widgets/base",
      "model_module_version": "1.0.0",
      "model_name": "LayoutModel",
      "state": {
       "width": "95%"
      }
     },
     "2f9ed4ba7bcc46f089406a11d79a7288": {
      "model_module": "@jupyter-widgets/base",
      "model_module_version": "1.0.0",
      "model_name": "LayoutModel",
      "state": {
       "width": "100%"
      }
     },
     "2ff3c1722cae4024ba3e6fcc42723956": {
      "model_module": "@jupyter-widgets/base",
      "model_module_version": "1.0.0",
      "model_name": "LayoutModel",
      "state": {
       "height": "550px",
       "width": "95%"
      }
     },
     "303fe5af8dbe4097b11467360d18e8cd": {
      "model_module": "@jupyter-widgets/base",
      "model_module_version": "1.0.0",
      "model_name": "LayoutModel",
      "state": {
       "width": "100%"
      }
     },
     "309902ecf33f4df1802b924410ef51c0": {
      "model_module": "@jupyter-widgets/controls",
      "model_module_version": "1.0.0",
      "model_name": "SliderStyleModel",
      "state": {
       "description_width": ""
      }
     },
     "309dd108cf6e49bba3d028cf676a4bd1": {
      "model_module": "@jupyter-widgets/base",
      "model_module_version": "1.0.0",
      "model_name": "LayoutModel",
      "state": {
       "height": "50px",
       "width": "95%"
      }
     },
     "312522a94e2846c29c9dae595b58c986": {
      "model_module": "@jupyter-widgets/base",
      "model_module_version": "1.0.0",
      "model_name": "LayoutModel",
      "state": {
       "width": "100%"
      }
     },
     "31bbb72d492945778d1e108756e81763": {
      "model_module": "@jupyter-widgets/controls",
      "model_module_version": "1.0.0",
      "model_name": "ButtonStyleModel",
      "state": {}
     },
     "31bcdfc28ec94965bc8e52b187070f20": {
      "model_module": "@jupyter-widgets/base",
      "model_module_version": "1.0.0",
      "model_name": "LayoutModel",
      "state": {
       "width": "100%"
      }
     },
     "31fad5d8bc6b43f6ab462605a5995cd3": {
      "model_module": "@jupyter-widgets/base",
      "model_module_version": "1.0.0",
      "model_name": "LayoutModel",
      "state": {
       "width": "95%"
      }
     },
     "327846716a5b424990222db45b278570": {
      "model_module": "@jupyter-widgets/base",
      "model_module_version": "1.0.0",
      "model_name": "LayoutModel",
      "state": {
       "width": "100%"
      }
     },
     "32a8a60fa040401392998a2263398a53": {
      "model_module": "@jupyter-widgets/base",
      "model_module_version": "1.0.0",
      "model_name": "LayoutModel",
      "state": {
       "width": "100%"
      }
     },
     "3312ca852ee2456a95aa4398c08e8795": {
      "model_module": "@jupyter-widgets/controls",
      "model_module_version": "1.0.0",
      "model_name": "ButtonStyleModel",
      "state": {}
     },
     "3318ac5cdba443008d5ab20123d730dd": {
      "model_module": "@jupyter-widgets/controls",
      "model_module_version": "1.0.0",
      "model_name": "HTMLModel",
      "state": {
       "layout": "IPY_MODEL_7aa2acae67414eae9490cd126a39bf13",
       "style": "IPY_MODEL_0975162eedee4785bf5a31de303edee6",
       "value": "<iframe src=\"https://conx.readthedocs.io\" width=\"100%\" height=\"550px\"></frame>"
      }
     },
     "33b8654dd9ce435b9288598024a99c88": {
      "model_module": "@jupyter-widgets/controls",
      "model_module_version": "1.0.0",
      "model_name": "VBoxModel",
      "state": {
       "children": [
        "IPY_MODEL_24fdeb88820c4415a30604f9fcb2009c",
        "IPY_MODEL_9cfec0179c674cd29c92e715709b486b",
        "IPY_MODEL_959cee17369149bba3fa675fda0db9d3"
       ],
       "layout": "IPY_MODEL_1386251c384849e79f6a646b506cdcfa"
      }
     },
     "33f3be0dceef40e5bd0510bf2122f7ef": {
      "model_module": "@jupyter-widgets/controls",
      "model_module_version": "1.0.0",
      "model_name": "ButtonModel",
      "state": {
       "icon": "fast-backward",
       "layout": "IPY_MODEL_5d3a4e79aa5d4b2ba1498fc4070a1773",
       "style": "IPY_MODEL_819193fd4c774f79a37a4d0ad4ca808d"
      }
     },
     "3469c6397333484bb8726577a8aeedb9": {
      "model_module": "@jupyter-widgets/base",
      "model_module_version": "1.0.0",
      "model_name": "LayoutModel",
      "state": {
       "height": "550px",
       "justify_content": "center",
       "overflow_x": "auto",
       "width": "95%"
      }
     },
     "346dd63d6dd44f87beb13bd550ad51ee": {
      "model_module": "@jupyter-widgets/base",
      "model_module_version": "1.0.0",
      "model_name": "LayoutModel",
      "state": {
       "width": "100%"
      }
     },
     "3499f7ea507542e88c285c90aa393659": {
      "model_module": "@jupyter-widgets/base",
      "model_module_version": "1.0.0",
      "model_name": "LayoutModel",
      "state": {
       "width": "100%"
      }
     },
     "34a2657a54de464fb5209e3f4d7db530": {
      "model_module": "@jupyter-widgets/controls",
      "model_module_version": "1.0.0",
      "model_name": "HTMLModel",
      "state": {
       "layout": "IPY_MODEL_68535d62993747eca2d47071f656d855",
       "style": "IPY_MODEL_455503e8c60d4baabc595c28844dd001",
       "value": "<iframe src=\"https://conx.readthedocs.io\" width=\"100%\" height=\"550px\"></frame>"
      }
     },
     "35a6e477a0b2414cb4a7c2a50320b5a6": {
      "model_module": "@jupyter-widgets/controls",
      "model_module_version": "1.0.0",
      "model_name": "ButtonModel",
      "state": {
       "icon": "refresh",
       "layout": "IPY_MODEL_e69b3889af134b14b3962fbdb1d792fc",
       "style": "IPY_MODEL_3f7f90c77bac4e3abff220bceeebaca0"
      }
     },
     "365ceb786c514680bd87e05c4a55ff27": {
      "model_module": "@jupyter-widgets/controls",
      "model_module_version": "1.0.0",
      "model_name": "HBoxModel",
      "state": {
       "children": [
        "IPY_MODEL_e09e3766ee1b492388a7d882de50f156",
        "IPY_MODEL_a5586b2f489c4ab68c215f37c51a2596",
        "IPY_MODEL_a6b4abf651ec47819f37aa7ad8fbc816",
        "IPY_MODEL_6135bf2397cd471ca439a9aaf874b8a7",
        "IPY_MODEL_762545631c534ad6b714041a082ddaa6"
       ],
       "layout": "IPY_MODEL_cf31584598dd4f2f86664456dce0b4b4"
      }
     },
     "36aca52885174c1bbc37119c6491e46b": {
      "model_module": "@jupyter-widgets/controls",
      "model_module_version": "1.0.0",
      "model_name": "ButtonStyleModel",
      "state": {}
     },
     "36cb2212714b44c68d8612ad3aefd67b": {
      "model_module": "@jupyter-widgets/controls",
      "model_module_version": "1.0.0",
      "model_name": "DescriptionStyleModel",
      "state": {
       "description_width": ""
      }
     },
     "37386bfdec024b7c9af74fcac8d024bb": {
      "model_module": "@jupyter-widgets/controls",
      "model_module_version": "1.0.0",
      "model_name": "ButtonModel",
      "state": {
       "description": "Train",
       "layout": "IPY_MODEL_814e7a792ddf4fa8bc98e7a3028955f5",
       "style": "IPY_MODEL_4c3ad168c3bb43bda99c6d9d77a707af"
      }
     },
     "3739f81ef96649338a3bb544ee24f4ab": {
      "model_module": "@jupyter-widgets/base",
      "model_module_version": "1.0.0",
      "model_name": "LayoutModel",
      "state": {
       "width": "100%"
      }
     },
     "373b539f51644bd1bf8f1fc61346b75b": {
      "model_module": "@jupyter-widgets/base",
      "model_module_version": "1.0.0",
      "model_name": "LayoutModel",
      "state": {
       "width": "100%"
      }
     },
     "3760b4104eb04520a29a7eae7966a307": {
      "model_module": "@jupyter-widgets/controls",
      "model_module_version": "1.0.0",
      "model_name": "DescriptionStyleModel",
      "state": {
       "description_width": ""
      }
     },
     "3808ed62bcf24a319b988fe9f96080cc": {
      "model_module": "@jupyter-widgets/controls",
      "model_module_version": "1.0.0",
      "model_name": "SelectModel",
      "state": {
       "_options_labels": [
        "Test",
        "Train"
       ],
       "description": "Dataset:",
       "index": 1,
       "layout": "IPY_MODEL_692b842aab5b4fadba2b25f414d70e29",
       "rows": 1,
       "style": "IPY_MODEL_e910b4ebae6e4456b8a54e897951af27"
      }
     },
     "383350c3cf244d94881ec5c86931c659": {
      "model_module": "@jupyter-widgets/base",
      "model_module_version": "1.0.0",
      "model_name": "LayoutModel",
      "state": {
       "height": "550px",
       "justify_content": "center",
       "overflow_x": "auto",
       "width": "95%"
      }
     },
     "388d73ba60314243833f633449cf9a1c": {
      "model_module": "@jupyter-widgets/controls",
      "model_module_version": "1.0.0",
      "model_name": "HBoxModel",
      "state": {
       "children": [
        "IPY_MODEL_ac5270acc7b9472c9f4ff52db75cb532",
        "IPY_MODEL_bebc533ad5204bb1aafeaff90bbe0f81"
       ],
       "layout": "IPY_MODEL_c080e082f7554ac88359cf579a8f2483"
      }
     },
     "38a6a2ce38fb4e9b89b7b1ef7e2a796c": {
      "model_module": "@jupyter-widgets/controls",
      "model_module_version": "1.0.0",
      "model_name": "HBoxModel",
      "state": {
       "children": [
        "IPY_MODEL_33f3be0dceef40e5bd0510bf2122f7ef",
        "IPY_MODEL_aba0142303434625b9a49885fc6c2edb",
        "IPY_MODEL_0b8baf7066ef4af980bbb66216c23b25",
        "IPY_MODEL_03b75b4ba0f8498e82b1ea2f55454e96",
        "IPY_MODEL_0f099501928c433f971719e2c85b86e2"
       ],
       "layout": "IPY_MODEL_9e7d8efe8dc243f09e8457d05f099fd9"
      }
     },
     "390c73671173454793cf69f34821e33a": {
      "model_module": "@jupyter-widgets/controls",
      "model_module_version": "1.0.0",
      "model_name": "ButtonModel",
      "state": {
       "icon": "backward",
       "layout": "IPY_MODEL_a4c490e4181f48bb97e691c63a8b4c95",
       "style": "IPY_MODEL_a439ddd3f67e4e9da4cafaafa985286a"
      }
     },
     "393b3ab25d6745a79bb928e10ebdf26b": {
      "model_module": "@jupyter-widgets/controls",
      "model_module_version": "1.0.0",
      "model_name": "HTMLModel",
      "state": {
       "layout": "IPY_MODEL_c6a1f23d656042eeaf8438a724b85db3",
       "style": "IPY_MODEL_c744d78ccd8b4b049954cbadaf436ff6",
       "value": "<iframe src=\"https://conx.readthedocs.io\" width=\"100%\" height=\"550px\"></frame>"
      }
     },
     "39618a1d996e43e294b2ffef38cc0d81": {
      "model_module": "@jupyter-widgets/controls",
      "model_module_version": "1.0.0",
      "model_name": "TabModel",
      "state": {
       "_titles": {
        "0": "Network",
        "1": "Help"
       },
       "children": [
        "IPY_MODEL_88753c9cc07c472d9c9bfd34648aebb4",
        "IPY_MODEL_9ae057fa6e1544748d83a855576743ca"
       ],
       "layout": "IPY_MODEL_ae3f07d76812439589b1962eebd89820"
      }
     },
     "39abaac43a3e412f84d6f63d6b9f1203": {
      "model_module": "@jupyter-widgets/controls",
      "model_module_version": "1.0.0",
      "model_name": "DescriptionStyleModel",
      "state": {
       "description_width": ""
      }
     },
     "39f2196e397e469f978dc8aa86b8407f": {
      "model_module": "@jupyter-widgets/controls",
      "model_module_version": "1.0.0",
      "model_name": "DescriptionStyleModel",
      "state": {
       "description_width": ""
      }
     },
     "3a4bdadcf00741f1add463b1e49bffcd": {
      "model_module": "@jupyter-widgets/base",
      "model_module_version": "1.0.0",
      "model_name": "LayoutModel",
      "state": {
       "width": "100%"
      }
     },
     "3ab0783cdb4c426fbcf1137c13a5e8dd": {
      "model_module": "@jupyter-widgets/controls",
      "model_module_version": "1.0.0",
      "model_name": "ButtonStyleModel",
      "state": {}
     },
     "3aff94d6e6c24883ab5d3511262cf042": {
      "model_module": "@jupyter-widgets/base",
      "model_module_version": "1.0.0",
      "model_name": "LayoutModel",
      "state": {
       "height": "550px",
       "width": "95%"
      }
     },
     "3b19e9f02c174a518ae05d45e6165982": {
      "model_module": "@jupyter-widgets/controls",
      "model_module_version": "1.0.0",
      "model_name": "ButtonStyleModel",
      "state": {}
     },
     "3bf8b5857fb048969b059415ac9f7e2e": {
      "model_module": "@jupyter-widgets/base",
      "model_module_version": "1.0.0",
      "model_name": "LayoutModel",
      "state": {
       "width": "95%"
      }
     },
     "3c6c77a00dcd4793af88b27fe470ab19": {
      "model_module": "@jupyter-widgets/base",
      "model_module_version": "1.0.0",
      "model_name": "LayoutModel",
      "state": {}
     },
     "3ce92c7bb099465cbb6d4638afc05a57": {
      "model_module": "@jupyter-widgets/controls",
      "model_module_version": "1.0.0",
      "model_name": "TabModel",
      "state": {
       "_titles": {
        "0": "Network",
        "1": "Help"
       },
       "children": [
        "IPY_MODEL_2bf4be58c31341829227d141cc3b1b49",
        "IPY_MODEL_010fab61e23a4eb2a8cda16dca6b04d9"
       ],
       "layout": "IPY_MODEL_27b6d83543314c15ae8bdae7078d2d08"
      }
     },
     "3d8d194bc6cc4c2db2c7a849e10d6919": {
      "model_module": "@jupyter-widgets/base",
      "model_module_version": "1.0.0",
      "model_name": "LayoutModel",
      "state": {
       "height": "550px",
       "justify_content": "center",
       "overflow_x": "auto",
       "width": "95%"
      }
     },
     "3d95f349fb914223b903cd37fba4a32c": {
      "model_module": "@jupyter-widgets/controls",
      "model_module_version": "1.0.0",
      "model_name": "IntSliderModel",
      "state": {
       "continuous_update": false,
       "description": "Dataset index",
       "layout": "IPY_MODEL_0c211772d1c84256a9499ed6143984d7",
       "max": 69999,
       "style": "IPY_MODEL_7ea4d07cd2a840439052efa62559f451"
      }
     },
     "3e0f495078604d33a696e2479ac5b730": {
      "model_module": "@jupyter-widgets/controls",
      "model_module_version": "1.0.0",
      "model_name": "ButtonStyleModel",
      "state": {}
     },
     "3e1fef959d0444b087246b0d0d646a32": {
      "model_module": "@jupyter-widgets/base",
      "model_module_version": "1.0.0",
      "model_name": "LayoutModel",
      "state": {
       "height": "550px",
       "justify_content": "center",
       "overflow_x": "auto",
       "width": "95%"
      }
     },
     "3ee017b483f041948d7eb8b79c68e746": {
      "model_module": "@jupyter-widgets/base",
      "model_module_version": "1.0.0",
      "model_name": "LayoutModel",
      "state": {
       "height": "550px",
       "width": "95%"
      }
     },
     "3f09ca0346c84302b994063e9631abbc": {
      "model_module": "@jupyter-widgets/controls",
      "model_module_version": "1.0.0",
      "model_name": "SliderStyleModel",
      "state": {
       "description_width": ""
      }
     },
     "3f3377d83f824f72b6603092fcf811c9": {
      "model_module": "@jupyter-widgets/controls",
      "model_module_version": "1.0.0",
      "model_name": "ButtonStyleModel",
      "state": {}
     },
     "3f7f90c77bac4e3abff220bceeebaca0": {
      "model_module": "@jupyter-widgets/controls",
      "model_module_version": "1.0.0",
      "model_name": "ButtonStyleModel",
      "state": {}
     },
     "3f9559f4462c4b2c9814677294d4ef34": {
      "model_module": "@jupyter-widgets/controls",
      "model_module_version": "1.0.0",
      "model_name": "ButtonModel",
      "state": {
       "description": "Train",
       "disabled": true,
       "layout": "IPY_MODEL_0d132f5bda5b4560ad84478cd7cad3c2",
       "style": "IPY_MODEL_27d9cbf6e8664d11a3fbd424265fa736"
      }
     },
     "407f39249be84c89aa3d8a7ffa994c9a": {
      "model_module": "@jupyter-widgets/base",
      "model_module_version": "1.0.0",
      "model_name": "LayoutModel",
      "state": {
       "width": "100%"
      }
     },
     "411120a928a84e18a3647a542aabd767": {
      "model_module": "@jupyter-widgets/controls",
      "model_module_version": "1.0.0",
      "model_name": "HTMLModel",
      "state": {
       "layout": "IPY_MODEL_57a9361dc46d4ca6bce353fd10912949",
       "style": "IPY_MODEL_2d69d6a6964d452c86af7a9b5dcbb098",
       "value": "<p style=\"text-align:center\"><svg id='MNIST-Autoencoder' xmlns='http://www.w3.org/2000/svg' width=\"350\" height=\"705\" image-rendering=\"pixelated\">\n    <defs>\n        <marker id=\"arrow\" markerWidth=\"10\" markerHeight=\"10\" refX=\"9\" refY=\"3\" orient=\"auto\" markerUnits=\"strokeWidth\">\n          <path d=\"M0,0 L0,6 L9,3 z\" fill=\"black\" />\n        </marker>\n    </defs><text x=\"175.0\" y=\"12.5\" font-family=\"monospace\" font-size=\"15\" text-anchor=\"middle\" alignment-baseline=\"central\">MNIST-Autoencoder</text><rect x=\"74.0\" y=\"29\" width=\"202\" height=\"202\" style=\"fill:none;stroke:black;stroke-width:2\"/><image id=\"MNIST-Autoencoder_output_19\" class=\"MNIST-Autoencoder_output\" x=\"75.0\" y=\"30\" height=\"200\" width=\"200\" preserveAspectRatio=\"none\" href=\"data:image/gif;base64,R0lGODdhHAAcAIcAAGcAH3MDIBwcHCUlJYkKJDU1NagUKfr29EVFRfHq5VRUVJWVlaamptbW1mRkZHZ2dsrKyuyTdPzZxp0QJ7knMbi4uPnGrf3m2b8yN8dDP/i+osU+PMlGQdRdS9pqVd91XeiLbvKgfvWsi/e2mPvSvAAAAAAAAAAAAAAAAAAAAAAAAAAAAAAAAAAAAAAAAAAAAAAAAAAAAAAAAAAAAAAAAAAAAAAAAAAAAAAAAAAAAAAAAAAAAAAAAAAAAAAAAAAAAAAAAAAAAAAAAAAAAAAAAAAAAAAAAAAAAAAAAAAAAAAAAAAAAAAAAAAAAAAAAAAAAAAAAAAAAAAAAAAAAAAAAAAAAAAAAAAAAAAAAAAAAAAAAAAAAAAAAAAAAAAAAAAAAAAAAAAAAAAAAAAAAAAAAAAAAAAAAAAAAAAAAAAAAAAAAAAAAAAAAAAAAAAAAAAAAAAAAAAAAAAAAAAAAAAAAAAAAAAAAAAAAAAAAAAAAAAAAAAAAAAAAAAAAAAAAAAAAAAAAAAAAAAAAAAAAAAAAAAAAAAAAAAAAAAAAAAAAAAAAAAAAAAAAAAAAAAAAAAAAAAAAAAAAAAAAAAAAAAAAAAAAAAAAAAAAAAAAAAAAAAAAAAAAAAAAAAAAAAAAAAAAAAAAAAAAAAAAAAAAAAAAAAAAAAAAAAAAAAAAAAAAAAAAAAAAAAAAAAAAAAAAAAAAAAAAAAAAAAAAAAAAAAAAAAAAAAAAAAAAAAAAAAAAAAAAAAAAAAAAAAAAAAAAAAAAAAAAAAAAAAAAAAAAAAAAAAAAAAAAAAAAAAAAAAAAAAAAAAAAAAAAAAAAAAAAAAAAAAAAAAAAAAAAAAAAAAAAAAAAAAAAAAAAAAAAAAAAAAAAAAAAAAAAAAAAAAAAAAAAAAAAAAAAAAAAAAAAAAAAAAAAAAAAAAAAAAAAAAAAAAAAAAAAAAAAAAAAAAAAAAAAAAAAAAAAAAAAAAAAAAAAAAAAAAAAAAAAAAAAAAAAAAAAAAAAAAAAAAAAAAAAAAAACwAAAAAHAAcAEAI/wABCBxIsKDBgwcJPFAwoMCAAg8YDBAQAICBAAAyatzIkWMAAhEKFCABoKTJkyUPKEBQwEGCAwYAyJxJs6bNmzMDANjJs6fPnzwTFBBhgACAowECAFjKtCnTAAEIGBhRYcEAAQIKXADAtavXr2DDih1rAIOFBhUEqB0wQEEFAQsOcABAt67duwkKSJhgwAAFAAACEABAuLBhwwQmAFisocADBwkCAJhMubLly5MxHGAgYEADAKBDiw4dYAIEBQJSD3AggUCAAABiy55Nu7bt27hz697Nu3eAAAZAJDhwYEEECAwgWADAvLlzABkcIBhAXYD1AQMsaDggIQCA7+DDg5sPcSBCAQQLMlDw0IBAgAAEAMifT7++/AsPFgAAEKA/AIAACAAgWNDgwQABABBAUKCBBAARCQCgWNHixYsEPjAoMOBCAAAhRY4kWTIAAJQDEBTYAMDlS5gwAwCgCYBAAgYDBAgY0ADAT6BBgwYgQCECggIDCgxAcMAAAQBRpU6V2gGCggECtApIQCBAAABhxY4lW9bsWbRp1YYNCAA7\"><title>Layer: output (output)\n shape = (28, 28, 1)\n Keras class = Dense\n activation = sigmoid</title></image><text x=\"280.0\" y=\"132.0\" font-family=\"monospace\" font-size=\"12\" text-anchor=\"start\" alignment-baseline=\"central\">output</text><line x1=\"175.0\" y1=\"259\" x2=\"175.0\" y2=\"232\" stroke=\"black\" stroke-width=\"2\" marker-end=\"url(#arrow)\"><title>Weights from hidden3 to output\n output/kernel has shape (25, 784)\n output/bias has shape (784,)</title></line><rect x=\"74.0\" y=\"259\" width=\"202\" height=\"27\" style=\"fill:none;stroke:black;stroke-width:2\"/><image id=\"MNIST-Autoencoder_hidden3_20\" class=\"MNIST-Autoencoder_hidden3\" x=\"75.0\" y=\"260\" height=\"25\" width=\"200\" preserveAspectRatio=\"none\" href=\"data:image/gif;base64,R0lGODdhGQABAIcAAGcAH/v08fe3mf3i0vXt6RoaGlRUVMI4Ot5yW8XFxeWDaOuQcvi/o/vSvAAAAAAAAAAAAAAAAAAAAAAAAAAAAAAAAAAAAAAAAAAAAAAAAAAAAAAAAAAAAAAAAAAAAAAAAAAAAAAAAAAAAAAAAAAAAAAAAAAAAAAAAAAAAAAAAAAAAAAAAAAAAAAAAAAAAAAAAAAAAAAAAAAAAAAAAAAAAAAAAAAAAAAAAAAAAAAAAAAAAAAAAAAAAAAAAAAAAAAAAAAAAAAAAAAAAAAAAAAAAAAAAAAAAAAAAAAAAAAAAAAAAAAAAAAAAAAAAAAAAAAAAAAAAAAAAAAAAAAAAAAAAAAAAAAAAAAAAAAAAAAAAAAAAAAAAAAAAAAAAAAAAAAAAAAAAAAAAAAAAAAAAAAAAAAAAAAAAAAAAAAAAAAAAAAAAAAAAAAAAAAAAAAAAAAAAAAAAAAAAAAAAAAAAAAAAAAAAAAAAAAAAAAAAAAAAAAAAAAAAAAAAAAAAAAAAAAAAAAAAAAAAAAAAAAAAAAAAAAAAAAAAAAAAAAAAAAAAAAAAAAAAAAAAAAAAAAAAAAAAAAAAAAAAAAAAAAAAAAAAAAAAAAAAAAAAAAAAAAAAAAAAAAAAAAAAAAAAAAAAAAAAAAAAAAAAAAAAAAAAAAAAAAAAAAAAAAAAAAAAAAAAAAAAAAAAAAAAAAAAAAAAAAAAAAAAAAAAAAAAAAAAAAAAAAAAAAAAAAAAAAAAAAAAAAAAAAAAAAAAAAAAAAAAAAAAAAAAAAAAAAAAAAAAAAAAAAAAAAAAAAAAAAAAAAAAAAAAAAAAAAAAAAAAAAAAAAAAAAAAAAAAAAAAAAAAAAAAAAAAAAAAAAAAAAAAAAAAAAAAAAAAAAAAAAAAAAAAAAAAAAAAAAAAAAAAAAAAAAAAAAAAAAAAAAAAAAAAAAAAAAAAAAAAAAAAAAAAAAAAAAAAAAAAAAAAAAAAAAAAAAAAAAAAAAAAAAAAAAAAAAAAAAAAAAAAAAAAAAAAAAAAAAAACwAAAAAGQABAAAIHwABCGAAYAEAAQAGAEhAYACCAAEKAGgAQMEBAwQCBAQAOw==\"><title>Layer: hidden3 (hidden)\n shape = (25,)\n Keras class = Dense\n activation = relu</title></image><text x=\"280.0\" y=\"274.5\" font-family=\"monospace\" font-size=\"12\" text-anchor=\"start\" alignment-baseline=\"central\">hidden3</text><line x1=\"175.0\" y1=\"314\" x2=\"175.0\" y2=\"287\" stroke=\"black\" stroke-width=\"2\" marker-end=\"url(#arrow)\"><title>Weights from hidden2 to hidden3\n hidden3/kernel has shape (25, 25)\n hidden3/bias has shape (25,)</title></line><rect x=\"74.0\" y=\"314\" width=\"202\" height=\"27\" style=\"fill:none;stroke:black;stroke-width:2\"/><image id=\"MNIST-Autoencoder_hidden2_21\" class=\"MNIST-Autoencoder_hidden2\" x=\"75.0\" y=\"315\" height=\"25\" width=\"200\" preserveAspectRatio=\"none\" href=\"data:image/gif;base64,R0lGODdhGQABAIcAAGcAH9FYSfa0lvzZxv3k1BoaGiwsLEVFRXgFIZANJaOjo+iLbvjBpgAAAAAAAAAAAAAAAAAAAAAAAAAAAAAAAAAAAAAAAAAAAAAAAAAAAAAAAAAAAAAAAAAAAAAAAAAAAAAAAAAAAAAAAAAAAAAAAAAAAAAAAAAAAAAAAAAAAAAAAAAAAAAAAAAAAAAAAAAAAAAAAAAAAAAAAAAAAAAAAAAAAAAAAAAAAAAAAAAAAAAAAAAAAAAAAAAAAAAAAAAAAAAAAAAAAAAAAAAAAAAAAAAAAAAAAAAAAAAAAAAAAAAAAAAAAAAAAAAAAAAAAAAAAAAAAAAAAAAAAAAAAAAAAAAAAAAAAAAAAAAAAAAAAAAAAAAAAAAAAAAAAAAAAAAAAAAAAAAAAAAAAAAAAAAAAAAAAAAAAAAAAAAAAAAAAAAAAAAAAAAAAAAAAAAAAAAAAAAAAAAAAAAAAAAAAAAAAAAAAAAAAAAAAAAAAAAAAAAAAAAAAAAAAAAAAAAAAAAAAAAAAAAAAAAAAAAAAAAAAAAAAAAAAAAAAAAAAAAAAAAAAAAAAAAAAAAAAAAAAAAAAAAAAAAAAAAAAAAAAAAAAAAAAAAAAAAAAAAAAAAAAAAAAAAAAAAAAAAAAAAAAAAAAAAAAAAAAAAAAAAAAAAAAAAAAAAAAAAAAAAAAAAAAAAAAAAAAAAAAAAAAAAAAAAAAAAAAAAAAAAAAAAAAAAAAAAAAAAAAAAAAAAAAAAAAAAAAAAAAAAAAAAAAAAAAAAAAAAAAAAAAAAAAAAAAAAAAAAAAAAAAAAAAAAAAAAAAAAAAAAAAAAAAAAAAAAAAAAAAAAAAAAAAAAAAAAAAAAAAAAAAAAAAAAAAAAAAAAAAAAAAAAAAAAAAAAAAAAAAAAAAAAAAAAAAAAAAAAAAAAAAAAAAAAAAAAAAAAAAAAAAAAAAAAAAAAAAAAAAAAAAAAAAAAAAAAAAAAAAAAAAAAAAAAAAAAAAAAAAAAAAAAAAAAAAAAAAAAAAAAAAAAAAAAAACwAAAAAGQABAAAIHwANABgQAAEDAAAWAACQgEAAAAQAFAggAIAABQMOBAQAOw==\"><title>Layer: hidden2 (hidden)\n shape = (25,)\n Keras class = Dense\n activation = relu</title></image><text x=\"280.0\" y=\"329.5\" font-family=\"monospace\" font-size=\"12\" text-anchor=\"start\" alignment-baseline=\"central\">hidden2</text><line x1=\"175.0\" y1=\"369\" x2=\"175.0\" y2=\"342\" stroke=\"black\" stroke-width=\"2\" marker-end=\"url(#arrow)\"><title>Weights from hidden1 to hidden2\n hidden2/kernel has shape (25, 25)\n hidden2/bias has shape (25,)</title></line><rect x=\"74.0\" y=\"369\" width=\"202\" height=\"27\" style=\"fill:none;stroke:black;stroke-width:2\"/><image id=\"MNIST-Autoencoder_hidden1_22\" class=\"MNIST-Autoencoder_hidden1\" x=\"75.0\" y=\"370\" height=\"25\" width=\"200\" preserveAspectRatio=\"none\" href=\"data:image/gif;base64,R0lGODdhGQABAIcAAGcAH3Z2duLi4hoaGi4uLkBAQIoLJKOjo+yTdPWujv3cyf3q3/Pz8wAAAAAAAAAAAAAAAAAAAAAAAAAAAAAAAAAAAAAAAAAAAAAAAAAAAAAAAAAAAAAAAAAAAAAAAAAAAAAAAAAAAAAAAAAAAAAAAAAAAAAAAAAAAAAAAAAAAAAAAAAAAAAAAAAAAAAAAAAAAAAAAAAAAAAAAAAAAAAAAAAAAAAAAAAAAAAAAAAAAAAAAAAAAAAAAAAAAAAAAAAAAAAAAAAAAAAAAAAAAAAAAAAAAAAAAAAAAAAAAAAAAAAAAAAAAAAAAAAAAAAAAAAAAAAAAAAAAAAAAAAAAAAAAAAAAAAAAAAAAAAAAAAAAAAAAAAAAAAAAAAAAAAAAAAAAAAAAAAAAAAAAAAAAAAAAAAAAAAAAAAAAAAAAAAAAAAAAAAAAAAAAAAAAAAAAAAAAAAAAAAAAAAAAAAAAAAAAAAAAAAAAAAAAAAAAAAAAAAAAAAAAAAAAAAAAAAAAAAAAAAAAAAAAAAAAAAAAAAAAAAAAAAAAAAAAAAAAAAAAAAAAAAAAAAAAAAAAAAAAAAAAAAAAAAAAAAAAAAAAAAAAAAAAAAAAAAAAAAAAAAAAAAAAAAAAAAAAAAAAAAAAAAAAAAAAAAAAAAAAAAAAAAAAAAAAAAAAAAAAAAAAAAAAAAAAAAAAAAAAAAAAAAAAAAAAAAAAAAAAAAAAAAAAAAAAAAAAAAAAAAAAAAAAAAAAAAAAAAAAAAAAAAAAAAAAAAAAAAAAAAAAAAAAAAAAAAAAAAAAAAAAAAAAAAAAAAAAAAAAAAAAAAAAAAAAAAAAAAAAAAAAAAAAAAAAAAAAAAAAAAAAAAAAAAAAAAAAAAAAAAAAAAAAAAAAAAAAAAAAAAAAAAAAAAAAAAAAAAAAAAAAAAAAAAAAAAAAAAAAAAAAAAAAAAAAAAAAAAAAAAAAAAAAAAAAAAAAAAAAAAAAAAAAAAAAAAAAAAAAAAAAAAAAAAAAAAAAAAAAAAAAAAAAAAAACwAAAAAGQABAAAIGwAZBABgYAEAAQgUAFi4cECABAQOACggAIDFgAA7\"><title>Layer: hidden1 (hidden)\n shape = (25,)\n Keras class = Dense\n activation = relu</title></image><text x=\"280.0\" y=\"384.5\" font-family=\"monospace\" font-size=\"12\" text-anchor=\"start\" alignment-baseline=\"central\">hidden1</text><line x1=\"175.0\" y1=\"424\" x2=\"175.0\" y2=\"397\" stroke=\"black\" stroke-width=\"2\" marker-end=\"url(#arrow)\"><title>Weights from flatten to hidden1\n hidden1/kernel has shape (784, 25)\n hidden1/bias has shape (25,)</title></line><rect x=\"74.0\" y=\"424\" width=\"202\" height=\"27\" style=\"fill:none;stroke:black;stroke-width:2\"/><image id=\"MNIST-Autoencoder_flatten_23\" class=\"MNIST-Autoencoder_flatten\" x=\"75.0\" y=\"425\" height=\"25\" width=\"200\" preserveAspectRatio=\"none\" href=\"data:image/gif;base64,R0lGODdhEAMBAIcAAP39/BwcHOjo6CUlJcbGxjk5OVdXV4eHh5qammVlZdfX13Nzc0dHR6enp7W1tQAAAAAAAAAAAAAAAAAAAAAAAAAAAAAAAAAAAAAAAAAAAAAAAAAAAAAAAAAAAAAAAAAAAAAAAAAAAAAAAAAAAAAAAAAAAAAAAAAAAAAAAAAAAAAAAAAAAAAAAAAAAAAAAAAAAAAAAAAAAAAAAAAAAAAAAAAAAAAAAAAAAAAAAAAAAAAAAAAAAAAAAAAAAAAAAAAAAAAAAAAAAAAAAAAAAAAAAAAAAAAAAAAAAAAAAAAAAAAAAAAAAAAAAAAAAAAAAAAAAAAAAAAAAAAAAAAAAAAAAAAAAAAAAAAAAAAAAAAAAAAAAAAAAAAAAAAAAAAAAAAAAAAAAAAAAAAAAAAAAAAAAAAAAAAAAAAAAAAAAAAAAAAAAAAAAAAAAAAAAAAAAAAAAAAAAAAAAAAAAAAAAAAAAAAAAAAAAAAAAAAAAAAAAAAAAAAAAAAAAAAAAAAAAAAAAAAAAAAAAAAAAAAAAAAAAAAAAAAAAAAAAAAAAAAAAAAAAAAAAAAAAAAAAAAAAAAAAAAAAAAAAAAAAAAAAAAAAAAAAAAAAAAAAAAAAAAAAAAAAAAAAAAAAAAAAAAAAAAAAAAAAAAAAAAAAAAAAAAAAAAAAAAAAAAAAAAAAAAAAAAAAAAAAAAAAAAAAAAAAAAAAAAAAAAAAAAAAAAAAAAAAAAAAAAAAAAAAAAAAAAAAAAAAAAAAAAAAAAAAAAAAAAAAAAAAAAAAAAAAAAAAAAAAAAAAAAAAAAAAAAAAAAAAAAAAAAAAAAAAAAAAAAAAAAAAAAAAAAAAAAAAAAAAAAAAAAAAAAAAAAAAAAAAAAAAAAAAAAAAAAAAAAAAAAAAAAAAAAAAAAAAAAAAAAAAAAAAAAAAAAAAAAAAAAAAAAAAAAAAAAAAAAAAAAAAAAAAAAAAAAAAAAAAAAAAAAAAAAAAAAAAAAAAAAAAAAAAAAAAAAAAAAAAAAAAAAAAAAAAAAAACwAAAAAEAMBAAAI/wABCBxIsKDBgwgTKlzIsKHDhxAjDmyAIIGABQEGNADAsaNHjgIEEDiwIIBJkwUWBBhgQAGAlzBjAhAwIIDNmzcJ6FQgAIDPn0B/FghAlKiBBAMGAFjKtKlTpgQOOAgQgAEAAAIOANjKtavXrwcCEABAtqzZs2jNIghgAIDbt3Djyo1rIIACAHjz6t3LV6+AAQUOOABAuLDhw4gLExgQIEADAQAiS55MuXJkAQkCBDggAIDnz6BDi/5MIECABABSq17NuvXqAQEGKABAu7bt27gFIEgQIAADAMCDCx8+XMCBAgGSD0gAoLnz59CfNygQoHoAAwQAaN/Ovft2BQwCiEIPYIAAgPPo06tHv6BAgPcBDBAAQL++/fv0FSwoEKB/AIADEAAgWNDgQYMIAixkgAABAIgRJU6kWNHiRYwZNW7EGBAAOw==\"><title>Layer: flatten (hidden)\n Keras class = Flatten</title></image><text x=\"280.0\" y=\"439.5\" font-family=\"monospace\" font-size=\"12\" text-anchor=\"start\" alignment-baseline=\"central\">flatten</text><line x1=\"175.0\" y1=\"479\" x2=\"175.0\" y2=\"452\" stroke=\"black\" stroke-width=\"2\" marker-end=\"url(#arrow)\"><title>Weights from input to flatten</title></line><rect x=\"74.0\" y=\"479\" width=\"202\" height=\"202\" style=\"fill:none;stroke:black;stroke-width:2\"/><image id=\"MNIST-Autoencoder_input_24\" class=\"MNIST-Autoencoder_input\" x=\"75.0\" y=\"480\" height=\"200\" width=\"200\" preserveAspectRatio=\"none\" href=\"data:image/gif;base64,R0lGODdhHAAcAIcAAP39/BwcHOjo6CUlJcbGxjk5OVdXV4eHh5qammVlZdfX13Nzc0dHR6enp7W1tQAAAAAAAAAAAAAAAAAAAAAAAAAAAAAAAAAAAAAAAAAAAAAAAAAAAAAAAAAAAAAAAAAAAAAAAAAAAAAAAAAAAAAAAAAAAAAAAAAAAAAAAAAAAAAAAAAAAAAAAAAAAAAAAAAAAAAAAAAAAAAAAAAAAAAAAAAAAAAAAAAAAAAAAAAAAAAAAAAAAAAAAAAAAAAAAAAAAAAAAAAAAAAAAAAAAAAAAAAAAAAAAAAAAAAAAAAAAAAAAAAAAAAAAAAAAAAAAAAAAAAAAAAAAAAAAAAAAAAAAAAAAAAAAAAAAAAAAAAAAAAAAAAAAAAAAAAAAAAAAAAAAAAAAAAAAAAAAAAAAAAAAAAAAAAAAAAAAAAAAAAAAAAAAAAAAAAAAAAAAAAAAAAAAAAAAAAAAAAAAAAAAAAAAAAAAAAAAAAAAAAAAAAAAAAAAAAAAAAAAAAAAAAAAAAAAAAAAAAAAAAAAAAAAAAAAAAAAAAAAAAAAAAAAAAAAAAAAAAAAAAAAAAAAAAAAAAAAAAAAAAAAAAAAAAAAAAAAAAAAAAAAAAAAAAAAAAAAAAAAAAAAAAAAAAAAAAAAAAAAAAAAAAAAAAAAAAAAAAAAAAAAAAAAAAAAAAAAAAAAAAAAAAAAAAAAAAAAAAAAAAAAAAAAAAAAAAAAAAAAAAAAAAAAAAAAAAAAAAAAAAAAAAAAAAAAAAAAAAAAAAAAAAAAAAAAAAAAAAAAAAAAAAAAAAAAAAAAAAAAAAAAAAAAAAAAAAAAAAAAAAAAAAAAAAAAAAAAAAAAAAAAAAAAAAAAAAAAAAAAAAAAAAAAAAAAAAAAAAAAAAAAAAAAAAAAAAAAAAAAAAAAAAAAAAAAAAAAAAAAAAAAAAAAAAAAAAAAAAAAAAAAAAAAAAAAAAAAAAAAAAAAAAAAAAAAAAAAAAAAAAAAAAAAAAAAAAAAAAAAAAAAAAAAAAAAAAAAAAAAAAAACwAAAAAHAAcAEAI/wABCBxIsKDBgwgLBFi40ECCAQMASJxIsaLFigQCBEgAoKPHjx0RBBjJAAECAChTqlzJsqXLlzBRGgigAIDNmzhz6rzZoECAnwEMEABAtKjRo0iTKl0qQACBAwsCSJVaYEGAAQYUANjKtavXAwEIABhLtqzZs2cJDAgQoIEAAHDjyp1LF64ABAkCBGAAoK/fv4AXFAhAOIABAgASK17MuLHjx5AjS55MufLjBggSCFgQYEADAKBDiwYgYECA06hRE1itQACA17BjwyZwwEGAAAwAABBwAIDv38CDC0cQwACA48iTK1+uXMCAAgccAJhOvbr169UFJAgQ4IAAAODDi0QfT178gAADFABYz769+/YCDhQIQH9AAgD48+vfj18BA4ABBAYwQADAQYQJFSpYUCDAwwADEACgWNHiRYwZNW7k2PFiQAA7\"><title>Layer: input (input)\n shape = (28, 28, 1)\n Keras class = Input</title></image><text x=\"280.0\" y=\"582.0\" font-family=\"monospace\" font-size=\"12\" text-anchor=\"start\" alignment-baseline=\"central\">input</text><text x=\"280.0\" y=\"485\" font-family=\"monospace\" font-size=\"12\" text-anchor=\"start\" alignment-baseline=\"central\">1</text><text x=\"63.0\" y=\"675\" font-family=\"monospace\" font-size=\"12\" text-anchor=\"start\" alignment-baseline=\"central\">0</text></svg></p>"
      }
     },
     "416cd81be4134ddd93c40dd96c58561a": {
      "model_module": "@jupyter-widgets/base",
      "model_module_version": "1.0.0",
      "model_name": "LayoutModel",
      "state": {
       "height": "50px",
       "width": "95%"
      }
     },
     "427f5d058c9849b3873a2845987ebc99": {
      "model_module": "@jupyter-widgets/controls",
      "model_module_version": "1.0.0",
      "model_name": "HBoxModel",
      "state": {
       "children": [
        "IPY_MODEL_9ede2c5d48664cb5bf320d689dbeae47",
        "IPY_MODEL_c292613ba6174c28ba61a2a350385769",
        "IPY_MODEL_d13022c41284401aacd0e8c7c274c93f",
        "IPY_MODEL_a8716c5971a44bb89eb1328ad8029abe",
        "IPY_MODEL_0d9656d0ddf84cafb2fbd4e8f0794566"
       ],
       "layout": "IPY_MODEL_2af655ecf4884dc1a613a325b51267f0"
      }
     },
     "42e8598e2e7140fda76d19cbba855ef3": {
      "model_module": "@jupyter-widgets/controls",
      "model_module_version": "1.0.0",
      "model_name": "HBoxModel",
      "state": {
       "children": [
        "IPY_MODEL_5e073fbbc2d64f0e8a38783f1b278a66",
        "IPY_MODEL_973f59df59ee44e5adda5c2ed629da5c",
        "IPY_MODEL_37386bfdec024b7c9af74fcac8d024bb",
        "IPY_MODEL_593f0f4ea5024d02824bbe6f4099e07e",
        "IPY_MODEL_9934f616313e4b328e4eabb104141324"
       ],
       "layout": "IPY_MODEL_58ce8628f7fd426abfd963382fe41272"
      }
     },
     "43280e4394f14ae4a1aee1a50476d508": {
      "model_module": "@jupyter-widgets/base",
      "model_module_version": "1.0.0",
      "model_name": "LayoutModel",
      "state": {
       "width": "100%"
      }
     },
     "4351d1ab64d54180887e5fadf6b50751": {
      "model_module": "@jupyter-widgets/controls",
      "model_module_version": "1.0.0",
      "model_name": "DescriptionStyleModel",
      "state": {
       "description_width": ""
      }
     },
     "43d63cd508364c3eb81ca7716f54bfd3": {
      "model_module": "@jupyter-widgets/base",
      "model_module_version": "1.0.0",
      "model_name": "LayoutModel",
      "state": {
       "height": "550px",
       "width": "100%"
      }
     },
     "4424524fd76548faab94a7a12907655c": {
      "model_module": "@jupyter-widgets/base",
      "model_module_version": "1.0.0",
      "model_name": "LayoutModel",
      "state": {
       "width": "100%"
      }
     },
     "44a2f1a4e4b04edea83da6f827c3a19f": {
      "model_module": "@jupyter-widgets/controls",
      "model_module_version": "1.0.0",
      "model_name": "ButtonStyleModel",
      "state": {}
     },
     "44b49e02785646368ce27f11758caa9d": {
      "model_module": "@jupyter-widgets/base",
      "model_module_version": "1.0.0",
      "model_name": "LayoutModel",
      "state": {
       "height": "550px",
       "width": "95%"
      }
     },
     "455503e8c60d4baabc595c28844dd001": {
      "model_module": "@jupyter-widgets/controls",
      "model_module_version": "1.0.0",
      "model_name": "DescriptionStyleModel",
      "state": {
       "description_width": ""
      }
     },
     "45a80a5d6a7547fa86784bd5bd66d0c8": {
      "model_module": "@jupyter-widgets/controls",
      "model_module_version": "1.0.0",
      "model_name": "HTMLModel",
      "state": {
       "layout": "IPY_MODEL_7f7563201b29412da38aa0bff5f46a01",
       "style": "IPY_MODEL_1bfa5f89c18847009c5889a38c385eda",
       "value": "<iframe src=\"https://conx.readthedocs.io\" width=\"100%\" height=\"550px\"></frame>"
      }
     },
     "46df82d0ef4a45c79665c6b3684ed091": {
      "model_module": "@jupyter-widgets/controls",
      "model_module_version": "1.0.0",
      "model_name": "DescriptionStyleModel",
      "state": {
       "description_width": ""
      }
     },
     "478ff4382abe4effb5b5e329b22d3c2d": {
      "model_module": "@jupyter-widgets/base",
      "model_module_version": "1.0.0",
      "model_name": "LayoutModel",
      "state": {}
     },
     "47bb5b47dbb84af5bf2863c310abc114": {
      "model_module": "@jupyter-widgets/controls",
      "model_module_version": "1.0.0",
      "model_name": "ButtonModel",
      "state": {
       "icon": "fast-backward",
       "layout": "IPY_MODEL_f420bbe527884612816c4cf2f1e94705",
       "style": "IPY_MODEL_31bbb72d492945778d1e108756e81763"
      }
     },
     "4861d3efaaa4478fabf741027271acac": {
      "model_module": "@jupyter-widgets/controls",
      "model_module_version": "1.0.0",
      "model_name": "ButtonModel",
      "state": {
       "description": "Train",
       "layout": "IPY_MODEL_94bbdf1cbe4d494793eda8d49b2bb044",
       "style": "IPY_MODEL_b5d57c87cdf943c499bb9a3db425d94f"
      }
     },
     "48b1923e4df441d89942045d7a57c2f5": {
      "model_module": "@jupyter-widgets/controls",
      "model_module_version": "1.0.0",
      "model_name": "VBoxModel",
      "state": {
       "children": [
        "IPY_MODEL_ca2f119a5ff64be9b4d7e82789560cc4",
        "IPY_MODEL_e69dbfd7b3e8425d8847435345651e9c"
       ],
       "layout": "IPY_MODEL_4d87dd9c5b784cdba74e3e9d3616c5b0"
      }
     },
     "49608344175d46b8ac1177a219f9d207": {
      "model_module": "@jupyter-widgets/controls",
      "model_module_version": "1.0.0",
      "model_name": "ButtonModel",
      "state": {
       "icon": "refresh",
       "layout": "IPY_MODEL_af083f280c154c35bad03b08966f323b",
       "style": "IPY_MODEL_50064afba9904ec8a3139e75102a1983"
      }
     },
     "496ae422a13c4f2db5bf208132d72974": {
      "model_module": "@jupyter-widgets/base",
      "model_module_version": "1.0.0",
      "model_name": "LayoutModel",
      "state": {
       "width": "100%"
      }
     },
     "497f0cac5d30455286dbac544b460842": {
      "model_module": "@jupyter-widgets/controls",
      "model_module_version": "1.0.0",
      "model_name": "ButtonStyleModel",
      "state": {}
     },
     "49b700f12b4a45698e684b05042d23d2": {
      "model_module": "@jupyter-widgets/base",
      "model_module_version": "1.0.0",
      "model_name": "LayoutModel",
      "state": {
       "width": "100%"
      }
     },
     "4a1a05f779dd4e2492bf51546afc4c32": {
      "model_module": "@jupyter-widgets/base",
      "model_module_version": "1.0.0",
      "model_name": "LayoutModel",
      "state": {}
     },
     "4a2241af7bd647adafa730bf69160648": {
      "model_module": "@jupyter-widgets/base",
      "model_module_version": "1.0.0",
      "model_name": "LayoutModel",
      "state": {
       "width": "100%"
      }
     },
     "4a51ccbcb516402d863feb84f8cb5b05": {
      "model_module": "@jupyter-widgets/controls",
      "model_module_version": "1.0.0",
      "model_name": "IntSliderModel",
      "state": {
       "continuous_update": false,
       "description": "Dataset index",
       "layout": "IPY_MODEL_acd7db2d38a94dd5933cff46c278c45e",
       "max": 4,
       "style": "IPY_MODEL_d830fb51c5aa4174a872e8961e4ec886",
       "value": 4
      }
     },
     "4a9f3daba9df45dda9f4e47ab68cdc5b": {
      "model_module": "@jupyter-widgets/controls",
      "model_module_version": "1.0.0",
      "model_name": "HTMLModel",
      "state": {
       "layout": "IPY_MODEL_383350c3cf244d94881ec5c86931c659",
       "style": "IPY_MODEL_b1036952a5b04c0ba836a5cbf4a941f9",
       "value": "<p style=\"text-align:center\"><svg id='MNIST-Autoencoder' xmlns='http://www.w3.org/2000/svg' width=\"350\" height=\"705\" image-rendering=\"pixelated\">\n    <defs>\n        <marker id=\"arrow\" markerWidth=\"10\" markerHeight=\"10\" refX=\"9\" refY=\"3\" orient=\"auto\" markerUnits=\"strokeWidth\">\n          <path d=\"M0,0 L0,6 L9,3 z\" fill=\"black\" />\n        </marker>\n    </defs><text x=\"175.0\" y=\"12.5\" font-family=\"monospace\" font-size=\"15\" text-anchor=\"middle\" alignment-baseline=\"central\">MNIST-Autoencoder</text><rect x=\"74.0\" y=\"29\" width=\"202\" height=\"202\" style=\"fill:none;stroke:black;stroke-width:2\"/><image id=\"MNIST-Autoencoder_output_7\" class=\"MNIST-Autoencoder_output\" x=\"75.0\" y=\"30\" height=\"200\" width=\"200\" preserveAspectRatio=\"none\" href=\"data:image/gif;base64,R0lGODdhHAAcAIcAAP38+wAAAAAAAAAAAAAAAAAAAAAAAAAAAAAAAAAAAAAAAAAAAAAAAAAAAAAAAAAAAAAAAAAAAAAAAAAAAAAAAAAAAAAAAAAAAAAAAAAAAAAAAAAAAAAAAAAAAAAAAAAAAAAAAAAAAAAAAAAAAAAAAAAAAAAAAAAAAAAAAAAAAAAAAAAAAAAAAAAAAAAAAAAAAAAAAAAAAAAAAAAAAAAAAAAAAAAAAAAAAAAAAAAAAAAAAAAAAAAAAAAAAAAAAAAAAAAAAAAAAAAAAAAAAAAAAAAAAAAAAAAAAAAAAAAAAAAAAAAAAAAAAAAAAAAAAAAAAAAAAAAAAAAAAAAAAAAAAAAAAAAAAAAAAAAAAAAAAAAAAAAAAAAAAAAAAAAAAAAAAAAAAAAAAAAAAAAAAAAAAAAAAAAAAAAAAAAAAAAAAAAAAAAAAAAAAAAAAAAAAAAAAAAAAAAAAAAAAAAAAAAAAAAAAAAAAAAAAAAAAAAAAAAAAAAAAAAAAAAAAAAAAAAAAAAAAAAAAAAAAAAAAAAAAAAAAAAAAAAAAAAAAAAAAAAAAAAAAAAAAAAAAAAAAAAAAAAAAAAAAAAAAAAAAAAAAAAAAAAAAAAAAAAAAAAAAAAAAAAAAAAAAAAAAAAAAAAAAAAAAAAAAAAAAAAAAAAAAAAAAAAAAAAAAAAAAAAAAAAAAAAAAAAAAAAAAAAAAAAAAAAAAAAAAAAAAAAAAAAAAAAAAAAAAAAAAAAAAAAAAAAAAAAAAAAAAAAAAAAAAAAAAAAAAAAAAAAAAAAAAAAAAAAAAAAAAAAAAAAAAAAAAAAAAAAAAAAAAAAAAAAAAAAAAAAAAAAAAAAAAAAAAAAAAAAAAAAAAAAAAAAAAAAAAAAAAAAAAAAAAAAAAAAAAAAAAAAAAAAAAAAAAAAAAAAAAAAAAAAAAAAAAAAAAAAAAAAAAAAAAAAAAAAAAAAAAAAAAAAAAAAAAAAAAAAAAAAAAAAAAAAAAAAAAAAAAAAAAAAAAAAAAAAAAAAAAAAAAAAAACwAAAAAHAAcAEAIMAABCBxIsKDBgwgTKlzIsKHDhxAjSpxIsaLFixgzatzIsaPHjyBDihxJsqTJkwQDAgA7\"><title>Layer: output (output)\n shape = (28, 28, 1)\n Keras class = Dense\n activation = sigmoid</title></image><text x=\"280.0\" y=\"132.0\" font-family=\"monospace\" font-size=\"12\" text-anchor=\"start\" alignment-baseline=\"central\">output</text><line x1=\"175.0\" y1=\"259\" x2=\"175.0\" y2=\"232\" stroke=\"black\" stroke-width=\"2\" marker-end=\"url(#arrow)\"><title>Weights from hidden3 to output\n output/kernel has shape (25, 784)\n output/bias has shape (784,)</title></line><rect x=\"74.0\" y=\"259\" width=\"202\" height=\"27\" style=\"fill:none;stroke:black;stroke-width:2\"/><image id=\"MNIST-Autoencoder_hidden3_8\" class=\"MNIST-Autoencoder_hidden3\" x=\"75.0\" y=\"260\" height=\"25\" width=\"200\" preserveAspectRatio=\"none\" href=\"data:image/gif;base64,R0lGODdhGQABAIcAAGcAH/nHrhoaGj09PX4HIpkQJ5mZmd5yW+qNcO6YePOjgP3gz/7t4wAAAAAAAAAAAAAAAAAAAAAAAAAAAAAAAAAAAAAAAAAAAAAAAAAAAAAAAAAAAAAAAAAAAAAAAAAAAAAAAAAAAAAAAAAAAAAAAAAAAAAAAAAAAAAAAAAAAAAAAAAAAAAAAAAAAAAAAAAAAAAAAAAAAAAAAAAAAAAAAAAAAAAAAAAAAAAAAAAAAAAAAAAAAAAAAAAAAAAAAAAAAAAAAAAAAAAAAAAAAAAAAAAAAAAAAAAAAAAAAAAAAAAAAAAAAAAAAAAAAAAAAAAAAAAAAAAAAAAAAAAAAAAAAAAAAAAAAAAAAAAAAAAAAAAAAAAAAAAAAAAAAAAAAAAAAAAAAAAAAAAAAAAAAAAAAAAAAAAAAAAAAAAAAAAAAAAAAAAAAAAAAAAAAAAAAAAAAAAAAAAAAAAAAAAAAAAAAAAAAAAAAAAAAAAAAAAAAAAAAAAAAAAAAAAAAAAAAAAAAAAAAAAAAAAAAAAAAAAAAAAAAAAAAAAAAAAAAAAAAAAAAAAAAAAAAAAAAAAAAAAAAAAAAAAAAAAAAAAAAAAAAAAAAAAAAAAAAAAAAAAAAAAAAAAAAAAAAAAAAAAAAAAAAAAAAAAAAAAAAAAAAAAAAAAAAAAAAAAAAAAAAAAAAAAAAAAAAAAAAAAAAAAAAAAAAAAAAAAAAAAAAAAAAAAAAAAAAAAAAAAAAAAAAAAAAAAAAAAAAAAAAAAAAAAAAAAAAAAAAAAAAAAAAAAAAAAAAAAAAAAAAAAAAAAAAAAAAAAAAAAAAAAAAAAAAAAAAAAAAAAAAAAAAAAAAAAAAAAAAAAAAAAAAAAAAAAAAAAAAAAAAAAAAAAAAAAAAAAAAAAAAAAAAAAAAAAAAAAAAAAAAAAAAAAAAAAAAAAAAAAAAAAAAAAAAAAAAAAAAAAAAAAAAAAAAAAAAAAAAAAAAAAAAAAAAAAAAAAAAAAAAAAAAAAAAAAAAAAAAAAAAAAAAAAAACwAAAAAGQABAAAIHwADKAAAgMAAAAIAMACwAAAABAACAABQwMABAAkABAQAOw==\"><title>Layer: hidden3 (hidden)\n shape = (25,)\n Keras class = Dense\n activation = relu</title></image><text x=\"280.0\" y=\"274.5\" font-family=\"monospace\" font-size=\"12\" text-anchor=\"start\" alignment-baseline=\"central\">hidden3</text><line x1=\"175.0\" y1=\"314\" x2=\"175.0\" y2=\"287\" stroke=\"black\" stroke-width=\"2\" marker-end=\"url(#arrow)\"><title>Weights from hidden2 to hidden3\n hidden3/kernel has shape (25, 25)\n hidden3/bias has shape (25,)</title></line><rect x=\"74.0\" y=\"314\" width=\"202\" height=\"27\" style=\"fill:none;stroke:black;stroke-width:2\"/><image id=\"MNIST-Autoencoder_hidden2_9\" class=\"MNIST-Autoencoder_hidden2\" x=\"75.0\" y=\"315\" height=\"25\" width=\"200\" preserveAspectRatio=\"none\" href=\"data:image/gif;base64,R0lGODdhGQABAIcAAGcAH/z07xoaGocKJKenp9jY2AAAAAAAAAAAAAAAAAAAAAAAAAAAAAAAAAAAAAAAAAAAAAAAAAAAAAAAAAAAAAAAAAAAAAAAAAAAAAAAAAAAAAAAAAAAAAAAAAAAAAAAAAAAAAAAAAAAAAAAAAAAAAAAAAAAAAAAAAAAAAAAAAAAAAAAAAAAAAAAAAAAAAAAAAAAAAAAAAAAAAAAAAAAAAAAAAAAAAAAAAAAAAAAAAAAAAAAAAAAAAAAAAAAAAAAAAAAAAAAAAAAAAAAAAAAAAAAAAAAAAAAAAAAAAAAAAAAAAAAAAAAAAAAAAAAAAAAAAAAAAAAAAAAAAAAAAAAAAAAAAAAAAAAAAAAAAAAAAAAAAAAAAAAAAAAAAAAAAAAAAAAAAAAAAAAAAAAAAAAAAAAAAAAAAAAAAAAAAAAAAAAAAAAAAAAAAAAAAAAAAAAAAAAAAAAAAAAAAAAAAAAAAAAAAAAAAAAAAAAAAAAAAAAAAAAAAAAAAAAAAAAAAAAAAAAAAAAAAAAAAAAAAAAAAAAAAAAAAAAAAAAAAAAAAAAAAAAAAAAAAAAAAAAAAAAAAAAAAAAAAAAAAAAAAAAAAAAAAAAAAAAAAAAAAAAAAAAAAAAAAAAAAAAAAAAAAAAAAAAAAAAAAAAAAAAAAAAAAAAAAAAAAAAAAAAAAAAAAAAAAAAAAAAAAAAAAAAAAAAAAAAAAAAAAAAAAAAAAAAAAAAAAAAAAAAAAAAAAAAAAAAAAAAAAAAAAAAAAAAAAAAAAAAAAAAAAAAAAAAAAAAAAAAAAAAAAAAAAAAAAAAAAAAAAAAAAAAAAAAAAAAAAAAAAAAAAAAAAAAAAAAAAAAAAAAAAAAAAAAAAAAAAAAAAAAAAAAAAAAAAAAAAAAAAAAAAAAAAAAAAAAAAAAAAAAAAAAAAAAAAAAAAAAAAAAAAAAAAAAAAAAAAAAAAAAAAAAAAAAAAAAAAAAAAAAAAAAAAAAAAAAAAAAAAAAAAAAAAAAAAAAAAAAAAAAAAAAAAAAACwAAAAAGQABAAAIHQABCARAAACAAAASAigQIAAAAAEACAAAYAAAAAEBADs=\"><title>Layer: hidden2 (hidden)\n shape = (25,)\n Keras class = Dense\n activation = relu</title></image><text x=\"280.0\" y=\"329.5\" font-family=\"monospace\" font-size=\"12\" text-anchor=\"start\" alignment-baseline=\"central\">hidden2</text><line x1=\"175.0\" y1=\"369\" x2=\"175.0\" y2=\"342\" stroke=\"black\" stroke-width=\"2\" marker-end=\"url(#arrow)\"><title>Weights from hidden1 to hidden2\n hidden2/kernel has shape (25, 25)\n hidden2/bias has shape (25,)</title></line><rect x=\"74.0\" y=\"369\" width=\"202\" height=\"27\" style=\"fill:none;stroke:black;stroke-width:2\"/><image id=\"MNIST-Autoencoder_hidden1_10\" class=\"MNIST-Autoencoder_hidden1\" x=\"75.0\" y=\"370\" height=\"25\" width=\"200\" preserveAspectRatio=\"none\" href=\"data:image/gif;base64,R0lGODdhGQABAIcAAGcAH40MJeWEaBoaGjg4OElJSZ2dnbQcLbknMqurq+J9Y/769wAAAAAAAAAAAAAAAAAAAAAAAAAAAAAAAAAAAAAAAAAAAAAAAAAAAAAAAAAAAAAAAAAAAAAAAAAAAAAAAAAAAAAAAAAAAAAAAAAAAAAAAAAAAAAAAAAAAAAAAAAAAAAAAAAAAAAAAAAAAAAAAAAAAAAAAAAAAAAAAAAAAAAAAAAAAAAAAAAAAAAAAAAAAAAAAAAAAAAAAAAAAAAAAAAAAAAAAAAAAAAAAAAAAAAAAAAAAAAAAAAAAAAAAAAAAAAAAAAAAAAAAAAAAAAAAAAAAAAAAAAAAAAAAAAAAAAAAAAAAAAAAAAAAAAAAAAAAAAAAAAAAAAAAAAAAAAAAAAAAAAAAAAAAAAAAAAAAAAAAAAAAAAAAAAAAAAAAAAAAAAAAAAAAAAAAAAAAAAAAAAAAAAAAAAAAAAAAAAAAAAAAAAAAAAAAAAAAAAAAAAAAAAAAAAAAAAAAAAAAAAAAAAAAAAAAAAAAAAAAAAAAAAAAAAAAAAAAAAAAAAAAAAAAAAAAAAAAAAAAAAAAAAAAAAAAAAAAAAAAAAAAAAAAAAAAAAAAAAAAAAAAAAAAAAAAAAAAAAAAAAAAAAAAAAAAAAAAAAAAAAAAAAAAAAAAAAAAAAAAAAAAAAAAAAAAAAAAAAAAAAAAAAAAAAAAAAAAAAAAAAAAAAAAAAAAAAAAAAAAAAAAAAAAAAAAAAAAAAAAAAAAAAAAAAAAAAAAAAAAAAAAAAAAAAAAAAAAAAAAAAAAAAAAAAAAAAAAAAAAAAAAAAAAAAAAAAAAAAAAAAAAAAAAAAAAAAAAAAAAAAAAAAAAAAAAAAAAAAAAAAAAAAAAAAAAAAAAAAAAAAAAAAAAAAAAAAAAAAAAAAAAAAAAAAAAAAAAAAAAAAAAAAAAAAAAAAAAAAAAAAAAAAAAAAAAAAAAAAAAAAAAAAAAAAAAAAAAAAAAAAAAAAAAAAAAAAAAAAAAAAAAAAAAAAAAAAAACwAAAAAGQABAAAIHQABCFQg4EAAAwASIiiwAACABAAACAAQgMAAAAEBADs=\"><title>Layer: hidden1 (hidden)\n shape = (25,)\n Keras class = Dense\n activation = relu</title></image><text x=\"280.0\" y=\"384.5\" font-family=\"monospace\" font-size=\"12\" text-anchor=\"start\" alignment-baseline=\"central\">hidden1</text><line x1=\"175.0\" y1=\"424\" x2=\"175.0\" y2=\"397\" stroke=\"black\" stroke-width=\"2\" marker-end=\"url(#arrow)\"><title>Weights from flatten to hidden1\n hidden1/kernel has shape (784, 25)\n hidden1/bias has shape (25,)</title></line><rect x=\"74.0\" y=\"424\" width=\"202\" height=\"27\" style=\"fill:none;stroke:black;stroke-width:2\"/><image id=\"MNIST-Autoencoder_flatten_11\" class=\"MNIST-Autoencoder_flatten\" x=\"75.0\" y=\"425\" height=\"25\" width=\"200\" preserveAspectRatio=\"none\" href=\"data:image/gif;base64,R0lGODdhEAMBAIcAAP39/BwcHOjo6CUlJcbGxjk5OVdXV4eHh5qammVlZdfX13Nzc0dHR6enp7W1tQAAAAAAAAAAAAAAAAAAAAAAAAAAAAAAAAAAAAAAAAAAAAAAAAAAAAAAAAAAAAAAAAAAAAAAAAAAAAAAAAAAAAAAAAAAAAAAAAAAAAAAAAAAAAAAAAAAAAAAAAAAAAAAAAAAAAAAAAAAAAAAAAAAAAAAAAAAAAAAAAAAAAAAAAAAAAAAAAAAAAAAAAAAAAAAAAAAAAAAAAAAAAAAAAAAAAAAAAAAAAAAAAAAAAAAAAAAAAAAAAAAAAAAAAAAAAAAAAAAAAAAAAAAAAAAAAAAAAAAAAAAAAAAAAAAAAAAAAAAAAAAAAAAAAAAAAAAAAAAAAAAAAAAAAAAAAAAAAAAAAAAAAAAAAAAAAAAAAAAAAAAAAAAAAAAAAAAAAAAAAAAAAAAAAAAAAAAAAAAAAAAAAAAAAAAAAAAAAAAAAAAAAAAAAAAAAAAAAAAAAAAAAAAAAAAAAAAAAAAAAAAAAAAAAAAAAAAAAAAAAAAAAAAAAAAAAAAAAAAAAAAAAAAAAAAAAAAAAAAAAAAAAAAAAAAAAAAAAAAAAAAAAAAAAAAAAAAAAAAAAAAAAAAAAAAAAAAAAAAAAAAAAAAAAAAAAAAAAAAAAAAAAAAAAAAAAAAAAAAAAAAAAAAAAAAAAAAAAAAAAAAAAAAAAAAAAAAAAAAAAAAAAAAAAAAAAAAAAAAAAAAAAAAAAAAAAAAAAAAAAAAAAAAAAAAAAAAAAAAAAAAAAAAAAAAAAAAAAAAAAAAAAAAAAAAAAAAAAAAAAAAAAAAAAAAAAAAAAAAAAAAAAAAAAAAAAAAAAAAAAAAAAAAAAAAAAAAAAAAAAAAAAAAAAAAAAAAAAAAAAAAAAAAAAAAAAAAAAAAAAAAAAAAAAAAAAAAAAAAAAAAAAAAAAAAAAAAAAAAAAAAAAAAAAAAAAAAAAAAAAAAAAAAAAAAAAAAAAAAAAAAAAAAAAAAAAAAAAAAAAAAACwAAAAAEAMBAAAI/wABCBxIsKDBgwgTKlzIsKHDhxAjDmyAIIGABQEGNADAsaNHjgIEEDiwIIBJkwUWBBhgQAGAlzBjAhAwIIDNmzcJ6FQgAIDPn0B/FghAlKiBBAMGAFjKtKlTpgQOOAgQgAEAAAIOANjKtavXrwcCEABAtqzZs2jNIghgAIDbt3Djyo1rIIACAHjz6t3LV6+AAQUOOABAuLDhw4gLExgQIEADAQAiS55MuXJkAQkCBDggAIDnz6BDi/5MIECABABSq17NuvXqAQEGKABAu7bt27gFIEgQIAADAMCDCx8+XMCBAgGSD0gAoLnz59CfNygQoHoAAwQAaN/Ovft2BQwCiEIPYIAAgPPo06tHv6BAgPcBDBAAQL++/fv0FSwoEKB/AIADEAAgWNDgQYMIAixkgAABAIgRJU6kWNHiRYwZNW7EGBAAOw==\"><title>Layer: flatten (hidden)\n Keras class = Flatten</title></image><text x=\"280.0\" y=\"439.5\" font-family=\"monospace\" font-size=\"12\" text-anchor=\"start\" alignment-baseline=\"central\">flatten</text><line x1=\"175.0\" y1=\"479\" x2=\"175.0\" y2=\"452\" stroke=\"black\" stroke-width=\"2\" marker-end=\"url(#arrow)\"><title>Weights from input to flatten</title></line><rect x=\"74.0\" y=\"479\" width=\"202\" height=\"202\" style=\"fill:none;stroke:black;stroke-width:2\"/><image id=\"MNIST-Autoencoder_input_12\" class=\"MNIST-Autoencoder_input\" x=\"75.0\" y=\"480\" height=\"200\" width=\"200\" preserveAspectRatio=\"none\" href=\"data:image/gif;base64,R0lGODdhHAAcAIcAAP39/BwcHOjo6CUlJcbGxjk5OVdXV4eHh5qammVlZdfX13Nzc0dHR6enp7W1tQAAAAAAAAAAAAAAAAAAAAAAAAAAAAAAAAAAAAAAAAAAAAAAAAAAAAAAAAAAAAAAAAAAAAAAAAAAAAAAAAAAAAAAAAAAAAAAAAAAAAAAAAAAAAAAAAAAAAAAAAAAAAAAAAAAAAAAAAAAAAAAAAAAAAAAAAAAAAAAAAAAAAAAAAAAAAAAAAAAAAAAAAAAAAAAAAAAAAAAAAAAAAAAAAAAAAAAAAAAAAAAAAAAAAAAAAAAAAAAAAAAAAAAAAAAAAAAAAAAAAAAAAAAAAAAAAAAAAAAAAAAAAAAAAAAAAAAAAAAAAAAAAAAAAAAAAAAAAAAAAAAAAAAAAAAAAAAAAAAAAAAAAAAAAAAAAAAAAAAAAAAAAAAAAAAAAAAAAAAAAAAAAAAAAAAAAAAAAAAAAAAAAAAAAAAAAAAAAAAAAAAAAAAAAAAAAAAAAAAAAAAAAAAAAAAAAAAAAAAAAAAAAAAAAAAAAAAAAAAAAAAAAAAAAAAAAAAAAAAAAAAAAAAAAAAAAAAAAAAAAAAAAAAAAAAAAAAAAAAAAAAAAAAAAAAAAAAAAAAAAAAAAAAAAAAAAAAAAAAAAAAAAAAAAAAAAAAAAAAAAAAAAAAAAAAAAAAAAAAAAAAAAAAAAAAAAAAAAAAAAAAAAAAAAAAAAAAAAAAAAAAAAAAAAAAAAAAAAAAAAAAAAAAAAAAAAAAAAAAAAAAAAAAAAAAAAAAAAAAAAAAAAAAAAAAAAAAAAAAAAAAAAAAAAAAAAAAAAAAAAAAAAAAAAAAAAAAAAAAAAAAAAAAAAAAAAAAAAAAAAAAAAAAAAAAAAAAAAAAAAAAAAAAAAAAAAAAAAAAAAAAAAAAAAAAAAAAAAAAAAAAAAAAAAAAAAAAAAAAAAAAAAAAAAAAAAAAAAAAAAAAAAAAAAAAAAAAAAAAAAAAAAAAAAAAAAAAAAAAAAAAAAAAAAAAAAAAAAAAAAAAACwAAAAAHAAcAEAI/wABCBxIsKDBgwgLBFi40ECCAQMASJxIsaLFigQCBEgAoKPHjx0RBBjJAAECAChTqlzJsqXLlzBRGgigAIDNmzhz6rzZoECAnwEMEABAtKjRo0iTKl0qQACBAwsCSJVaYEGAAQYUANjKtavXAwEIABhLtqzZs2cJDAgQoIEAAHDjyp1LF64ABAkCBGAAoK/fv4AXFAhAOIABAgASK17MuLHjx5AjS55MufLjBggSCFgQYEADAKBDiwYgYECA06hRE1itQACA17BjwyZwwEGAAAwAABBwAIDv38CDC0cQwACA48iTK1+uXMCAAgccAJhOvbr169UFJAgQ4IAAAODDi0QfT178gAADFABYz769+/YCDhQIQH9AAgD48+vfj18BA4ABBAYwQADAQYQJFSpYUCDAwwADEACgWNHiRYwZNW7k2PFiQAA7\"><title>Layer: input (input)\n shape = (28, 28, 1)\n Keras class = Input</title></image><text x=\"280.0\" y=\"582.0\" font-family=\"monospace\" font-size=\"12\" text-anchor=\"start\" alignment-baseline=\"central\">input</text><text x=\"280.0\" y=\"485\" font-family=\"monospace\" font-size=\"12\" text-anchor=\"start\" alignment-baseline=\"central\">1</text><text x=\"63.0\" y=\"675\" font-family=\"monospace\" font-size=\"12\" text-anchor=\"start\" alignment-baseline=\"central\">0</text></svg></p>"
      }
     },
     "4b035c4d6a6648e2807bd23abc6af308": {
      "model_module": "@jupyter-widgets/controls",
      "model_module_version": "1.0.0",
      "model_name": "DescriptionStyleModel",
      "state": {
       "description_width": ""
      }
     },
     "4b1edb5bd03940c3b1868c0801d0a61c": {
      "model_module": "@jupyter-widgets/controls",
      "model_module_version": "1.0.0",
      "model_name": "HBoxModel",
      "state": {
       "children": [
        "IPY_MODEL_89d3a46a3a854850ba8e38a68fe3fbde",
        "IPY_MODEL_a87402710ab34e29a5a49402961429ef",
        "IPY_MODEL_9a105e2340e24a719390a62b10a7c707",
        "IPY_MODEL_d0c9f5bd4b6c4b44a52c19f01544d2cb",
        "IPY_MODEL_dba6f66d8d654a26bdc2691dc44b33f7"
       ],
       "layout": "IPY_MODEL_cefdd0eca7b64c60a6b903260f8c8a02"
      }
     },
     "4b3dce59e6754caeb916a875a3490f64": {
      "model_module": "@jupyter-widgets/base",
      "model_module_version": "1.0.0",
      "model_name": "LayoutModel",
      "state": {
       "width": "100%"
      }
     },
     "4b5e7ef5e0ac474a8688fd1ca9a6e993": {
      "model_module": "@jupyter-widgets/base",
      "model_module_version": "1.0.0",
      "model_name": "LayoutModel",
      "state": {
       "width": "100%"
      }
     },
     "4b9fb365cb2643f59c1de3039e841a99": {
      "model_module": "@jupyter-widgets/controls",
      "model_module_version": "1.0.0",
      "model_name": "ButtonStyleModel",
      "state": {}
     },
     "4bbedcd6977549a28ca488eea6a897f1": {
      "model_module": "@jupyter-widgets/base",
      "model_module_version": "1.0.0",
      "model_name": "LayoutModel",
      "state": {}
     },
     "4be0e3d7b7704c64917f69028fb3d054": {
      "model_module": "@jupyter-widgets/base",
      "model_module_version": "1.0.0",
      "model_name": "LayoutModel",
      "state": {}
     },
     "4c3ad168c3bb43bda99c6d9d77a707af": {
      "model_module": "@jupyter-widgets/controls",
      "model_module_version": "1.0.0",
      "model_name": "ButtonStyleModel",
      "state": {}
     },
     "4ca4f2ccc48e408b8a246339ccab977a": {
      "model_module": "@jupyter-widgets/controls",
      "model_module_version": "1.0.0",
      "model_name": "ButtonModel",
      "state": {
       "icon": "forward",
       "layout": "IPY_MODEL_f5867c324cc94073b64654e9a87afff5",
       "style": "IPY_MODEL_fa0f64a361904dd39da87be68ba89ce6"
      }
     },
     "4d05ce72305e4b19908d5068a408fb4f": {
      "model_module": "@jupyter-widgets/controls",
      "model_module_version": "1.0.0",
      "model_name": "ButtonStyleModel",
      "state": {}
     },
     "4d22f4ccde374a6b8b5eb9d93873a99e": {
      "model_module": "@jupyter-widgets/controls",
      "model_module_version": "1.0.0",
      "model_name": "VBoxModel",
      "state": {
       "children": [
        "IPY_MODEL_71ba846475e34d09917890b0167c4780",
        "IPY_MODEL_ba4b09106d344061bc48216730a79aae",
        "IPY_MODEL_42e8598e2e7140fda76d19cbba855ef3"
       ],
       "layout": "IPY_MODEL_a2676b967d424698a6c0aa6dfa4d6902"
      }
     },
     "4d87dd9c5b784cdba74e3e9d3616c5b0": {
      "model_module": "@jupyter-widgets/base",
      "model_module_version": "1.0.0",
      "model_name": "LayoutModel",
      "state": {
       "height": "550px",
       "width": "95%"
      }
     },
     "4d9ba66180c94583acafb3818e959df3": {
      "model_module": "@jupyter-widgets/controls",
      "model_module_version": "1.0.0",
      "model_name": "ButtonStyleModel",
      "state": {}
     },
     "4da2f66b389d487bbf99499884de5ac1": {
      "model_module": "@jupyter-widgets/base",
      "model_module_version": "1.0.0",
      "model_name": "LayoutModel",
      "state": {}
     },
     "4daa09675bd54548a63c83c99d47bc28": {
      "model_module": "@jupyter-widgets/base",
      "model_module_version": "1.0.0",
      "model_name": "LayoutModel",
      "state": {}
     },
     "4dfead9586004d2b989dab6f2b515ce7": {
      "model_module": "@jupyter-widgets/controls",
      "model_module_version": "1.0.0",
      "model_name": "ButtonModel",
      "state": {
       "icon": "backward",
       "layout": "IPY_MODEL_e472861602d940b6ad77905ce2940e23",
       "style": "IPY_MODEL_277d7d71a7e747cdaf71e1387be4fef8"
      }
     },
     "4e0f2dba1f604765b7fa28c3c8769d15": {
      "model_module": "@jupyter-widgets/base",
      "model_module_version": "1.0.0",
      "model_name": "LayoutModel",
      "state": {
       "width": "100%"
      }
     },
     "4e4e81f8550b448e88b1fdef38c720ac": {
      "model_module": "@jupyter-widgets/controls",
      "model_module_version": "1.0.0",
      "model_name": "DescriptionStyleModel",
      "state": {
       "description_width": ""
      }
     },
     "4e89dd8476c44e61b95c2468ddcfbe60": {
      "model_module": "@jupyter-widgets/controls",
      "model_module_version": "1.0.0",
      "model_name": "VBoxModel",
      "state": {
       "children": [
        "IPY_MODEL_5d6ce22a531d4d1da7295faa1928142e",
        "IPY_MODEL_795a020ef0844b0ab1abb21d0072d5d8",
        "IPY_MODEL_4b1edb5bd03940c3b1868c0801d0a61c"
       ],
       "layout": "IPY_MODEL_49b700f12b4a45698e684b05042d23d2"
      }
     },
     "4ed96e8423054751857d64fa25a2d152": {
      "model_module": "@jupyter-widgets/controls",
      "model_module_version": "1.0.0",
      "model_name": "VBoxModel",
      "state": {
       "children": [
        "IPY_MODEL_df9bd2cde61c4f69b1e43dd0d1c8a5f3",
        "IPY_MODEL_33b8654dd9ce435b9288598024a99c88"
       ],
       "layout": "IPY_MODEL_127f2b95a5af4f5f95943440140fe80f"
      }
     },
     "4ef604671a1e4eff98ce9c0d0e5882ad": {
      "model_module": "@jupyter-widgets/base",
      "model_module_version": "1.0.0",
      "model_name": "LayoutModel",
      "state": {}
     },
     "4f2024e496e2434c81cd13b60c6c9f14": {
      "model_module": "@jupyter-widgets/controls",
      "model_module_version": "1.0.0",
      "model_name": "HTMLModel",
      "state": {
       "layout": "IPY_MODEL_b279f1fd12bc4607be018a99e6c2431c",
       "style": "IPY_MODEL_5f4b47705efe443782bab8e1e4a48f07",
       "value": "<p style=\"text-align:center\"><svg id='Autoencoder' xmlns='http://www.w3.org/2000/svg' width=\"350\" height=\"235\" image-rendering=\"pixelated\">\n    <defs>\n        <marker id=\"arrow\" markerWidth=\"10\" markerHeight=\"10\" refX=\"9\" refY=\"3\" orient=\"auto\" markerUnits=\"strokeWidth\">\n          <path d=\"M0,0 L0,6 L9,3 z\" fill=\"black\" />\n        </marker>\n    </defs><text x=\"175.0\" y=\"12.5\" font-family=\"monospace\" font-size=\"15\" text-anchor=\"middle\" alignment-baseline=\"central\">Autoencoder</text><rect x=\"74.0\" y=\"29\" width=\"202\" height=\"42\" style=\"fill:none;stroke:black;stroke-width:2\"/><image id=\"Autoencoder_output_7\" class=\"Autoencoder_output\" x=\"75.0\" y=\"30\" height=\"40\" width=\"200\" preserveAspectRatio=\"none\" href=\"data:image/gif;base64,R0lGODdhBQABAIcAAFdXV2kAH3IDIJYPJrgkMQAAAAAAAAAAAAAAAAAAAAAAAAAAAAAAAAAAAAAAAAAAAAAAAAAAAAAAAAAAAAAAAAAAAAAAAAAAAAAAAAAAAAAAAAAAAAAAAAAAAAAAAAAAAAAAAAAAAAAAAAAAAAAAAAAAAAAAAAAAAAAAAAAAAAAAAAAAAAAAAAAAAAAAAAAAAAAAAAAAAAAAAAAAAAAAAAAAAAAAAAAAAAAAAAAAAAAAAAAAAAAAAAAAAAAAAAAAAAAAAAAAAAAAAAAAAAAAAAAAAAAAAAAAAAAAAAAAAAAAAAAAAAAAAAAAAAAAAAAAAAAAAAAAAAAAAAAAAAAAAAAAAAAAAAAAAAAAAAAAAAAAAAAAAAAAAAAAAAAAAAAAAAAAAAAAAAAAAAAAAAAAAAAAAAAAAAAAAAAAAAAAAAAAAAAAAAAAAAAAAAAAAAAAAAAAAAAAAAAAAAAAAAAAAAAAAAAAAAAAAAAAAAAAAAAAAAAAAAAAAAAAAAAAAAAAAAAAAAAAAAAAAAAAAAAAAAAAAAAAAAAAAAAAAAAAAAAAAAAAAAAAAAAAAAAAAAAAAAAAAAAAAAAAAAAAAAAAAAAAAAAAAAAAAAAAAAAAAAAAAAAAAAAAAAAAAAAAAAAAAAAAAAAAAAAAAAAAAAAAAAAAAAAAAAAAAAAAAAAAAAAAAAAAAAAAAAAAAAAAAAAAAAAAAAAAAAAAAAAAAAAAAAAAAAAAAAAAAAAAAAAAAAAAAAAAAAAAAAAAAAAAAAAAAAAAAAAAAAAAAAAAAAAAAAAAAAAAAAAAAAAAAAAAAAAAAAAAAAAAAAAAAAAAAAAAAAAAAAAAAAAAAAAAAAAAAAAAAAAAAAAAAAAAAAAAAAAAAAAAAAAAAAAAAAAAAAAAAAAAAAAAAAAAAAAAAAAAAAAAAAAAAAAAAAAAAAAAAAAAAAAAAAAAAAAAAAAAAAAAAAAAAAAAAAAAAAAAAAAAAAAAAAAAAAAAAAAAAAAAAAAAAAAAAAAAAAAAAAAAAAAAACwAAAAABQABAAAICAABEBgQQEBAADs=\"><title>Layer: output (output)\n shape = (5,)\n Keras class = Dense\n activation = sigmoid</title></image><text x=\"280.0\" y=\"52.0\" font-family=\"monospace\" font-size=\"12\" text-anchor=\"start\" alignment-baseline=\"central\">output</text><line x1=\"175.0\" y1=\"99\" x2=\"175.0\" y2=\"72\" stroke=\"black\" stroke-width=\"2\" marker-end=\"url(#arrow)\"><title>Weights from hidden to output\n output/kernel has shape (5, 5)\n output/bias has shape (5,)</title></line><rect x=\"74.0\" y=\"99\" width=\"202\" height=\"42\" style=\"fill:none;stroke:black;stroke-width:2\"/><image id=\"Autoencoder_hidden_8\" class=\"Autoencoder_hidden\" x=\"75.0\" y=\"100\" height=\"40\" width=\"200\" preserveAspectRatio=\"none\" href=\"data:image/gif;base64,R0lGODdhBQABAIcAAGcAHxoaGocKJJ4RJwAAAAAAAAAAAAAAAAAAAAAAAAAAAAAAAAAAAAAAAAAAAAAAAAAAAAAAAAAAAAAAAAAAAAAAAAAAAAAAAAAAAAAAAAAAAAAAAAAAAAAAAAAAAAAAAAAAAAAAAAAAAAAAAAAAAAAAAAAAAAAAAAAAAAAAAAAAAAAAAAAAAAAAAAAAAAAAAAAAAAAAAAAAAAAAAAAAAAAAAAAAAAAAAAAAAAAAAAAAAAAAAAAAAAAAAAAAAAAAAAAAAAAAAAAAAAAAAAAAAAAAAAAAAAAAAAAAAAAAAAAAAAAAAAAAAAAAAAAAAAAAAAAAAAAAAAAAAAAAAAAAAAAAAAAAAAAAAAAAAAAAAAAAAAAAAAAAAAAAAAAAAAAAAAAAAAAAAAAAAAAAAAAAAAAAAAAAAAAAAAAAAAAAAAAAAAAAAAAAAAAAAAAAAAAAAAAAAAAAAAAAAAAAAAAAAAAAAAAAAAAAAAAAAAAAAAAAAAAAAAAAAAAAAAAAAAAAAAAAAAAAAAAAAAAAAAAAAAAAAAAAAAAAAAAAAAAAAAAAAAAAAAAAAAAAAAAAAAAAAAAAAAAAAAAAAAAAAAAAAAAAAAAAAAAAAAAAAAAAAAAAAAAAAAAAAAAAAAAAAAAAAAAAAAAAAAAAAAAAAAAAAAAAAAAAAAAAAAAAAAAAAAAAAAAAAAAAAAAAAAAAAAAAAAAAAAAAAAAAAAAAAAAAAAAAAAAAAAAAAAAAAAAAAAAAAAAAAAAAAAAAAAAAAAAAAAAAAAAAAAAAAAAAAAAAAAAAAAAAAAAAAAAAAAAAAAAAAAAAAAAAAAAAAAAAAAAAAAAAAAAAAAAAAAAAAAAAAAAAAAAAAAAAAAAAAAAAAAAAAAAAAAAAAAAAAAAAAAAAAAAAAAAAAAAAAAAAAAAAAAAAAAAAAAAAAAAAAAAAAAAAAAAAAAAAAAAAAAAAAAAAAAAAAAAAAAAAAAAAAAAAAAAAAAAAAAAAAAAAAAAAAAAAAAAAAAAAAAAAAAAAAAAAACwAAAAABQABAAAICAABBBggAEBAADs=\"><title>Layer: hidden (hidden)\n shape = (5,)\n Keras class = Dense\n activation = relu</title></image><text x=\"280.0\" y=\"122.0\" font-family=\"monospace\" font-size=\"12\" text-anchor=\"start\" alignment-baseline=\"central\">hidden</text><line x1=\"175.0\" y1=\"169\" x2=\"175.0\" y2=\"142\" stroke=\"black\" stroke-width=\"2\" marker-end=\"url(#arrow)\"><title>Weights from input to hidden\n hidden/kernel has shape (5, 5)\n hidden/bias has shape (5,)</title></line><rect x=\"74.0\" y=\"169\" width=\"202\" height=\"42\" style=\"fill:none;stroke:black;stroke-width:2\"/><image id=\"Autoencoder_input_9\" class=\"Autoencoder_input\" x=\"75.0\" y=\"170\" height=\"40\" width=\"200\" preserveAspectRatio=\"none\" href=\"data:image/gif;base64,R0lGODdhBQABAIcAAGcAHxoaGgAAAAAAAAAAAAAAAAAAAAAAAAAAAAAAAAAAAAAAAAAAAAAAAAAAAAAAAAAAAAAAAAAAAAAAAAAAAAAAAAAAAAAAAAAAAAAAAAAAAAAAAAAAAAAAAAAAAAAAAAAAAAAAAAAAAAAAAAAAAAAAAAAAAAAAAAAAAAAAAAAAAAAAAAAAAAAAAAAAAAAAAAAAAAAAAAAAAAAAAAAAAAAAAAAAAAAAAAAAAAAAAAAAAAAAAAAAAAAAAAAAAAAAAAAAAAAAAAAAAAAAAAAAAAAAAAAAAAAAAAAAAAAAAAAAAAAAAAAAAAAAAAAAAAAAAAAAAAAAAAAAAAAAAAAAAAAAAAAAAAAAAAAAAAAAAAAAAAAAAAAAAAAAAAAAAAAAAAAAAAAAAAAAAAAAAAAAAAAAAAAAAAAAAAAAAAAAAAAAAAAAAAAAAAAAAAAAAAAAAAAAAAAAAAAAAAAAAAAAAAAAAAAAAAAAAAAAAAAAAAAAAAAAAAAAAAAAAAAAAAAAAAAAAAAAAAAAAAAAAAAAAAAAAAAAAAAAAAAAAAAAAAAAAAAAAAAAAAAAAAAAAAAAAAAAAAAAAAAAAAAAAAAAAAAAAAAAAAAAAAAAAAAAAAAAAAAAAAAAAAAAAAAAAAAAAAAAAAAAAAAAAAAAAAAAAAAAAAAAAAAAAAAAAAAAAAAAAAAAAAAAAAAAAAAAAAAAAAAAAAAAAAAAAAAAAAAAAAAAAAAAAAAAAAAAAAAAAAAAAAAAAAAAAAAAAAAAAAAAAAAAAAAAAAAAAAAAAAAAAAAAAAAAAAAAAAAAAAAAAAAAAAAAAAAAAAAAAAAAAAAAAAAAAAAAAAAAAAAAAAAAAAAAAAAAAAAAAAAAAAAAAAAAAAAAAAAAAAAAAAAAAAAAAAAAAAAAAAAAAAAAAAAAAAAAAAAAAAAAAAAAAAAAAAAAAAAAAAAAAAAAAAAAAAAAAAAAAAAAAAAAAAAAAAAAAAAAAAAAAAAAAAAAAAAAAAAAAAAAAAAAAAAAAAAAAAAAACwAAAAABQABAAAIBwADABgIICAAOw==\"><title>Layer: input (input)\n shape = (5,)\n Keras class = Input</title></image><text x=\"280.0\" y=\"192.0\" font-family=\"monospace\" font-size=\"12\" text-anchor=\"start\" alignment-baseline=\"central\">input</text></svg></p>"
      }
     },
     "4f7d4943c8c540ea92d9bddfce114304": {
      "model_module": "@jupyter-widgets/controls",
      "model_module_version": "1.0.0",
      "model_name": "SelectModel",
      "state": {
       "_options_labels": [
        "Test",
        "Train"
       ],
       "description": "Dataset:",
       "index": 1,
       "layout": "IPY_MODEL_4daa09675bd54548a63c83c99d47bc28",
       "rows": 1,
       "style": "IPY_MODEL_570be72c77264951b0d73eef7d1e639c"
      }
     },
     "4fa55628cd0c417dbae54cf4fdc7f227": {
      "model_module": "@jupyter-widgets/base",
      "model_module_version": "1.0.0",
      "model_name": "LayoutModel",
      "state": {
       "height": "550px",
       "width": "95%"
      }
     },
     "4fc8bf746e7840e28479f67036db8159": {
      "model_module": "@jupyter-widgets/base",
      "model_module_version": "1.0.0",
      "model_name": "LayoutModel",
      "state": {
       "width": "100%"
      }
     },
     "50064afba9904ec8a3139e75102a1983": {
      "model_module": "@jupyter-widgets/controls",
      "model_module_version": "1.0.0",
      "model_name": "ButtonStyleModel",
      "state": {}
     },
     "500c8eec634e46bdbaf5a064cc8aec91": {
      "model_module": "@jupyter-widgets/controls",
      "model_module_version": "1.0.0",
      "model_name": "DescriptionStyleModel",
      "state": {
       "description_width": ""
      }
     },
     "51e148c13c2e4763b43eb5e5dd71c565": {
      "model_module": "@jupyter-widgets/base",
      "model_module_version": "1.0.0",
      "model_name": "LayoutModel",
      "state": {
       "width": "100%"
      }
     },
     "51e9026dc5b9454aade2ca52bb6395b2": {
      "model_module": "@jupyter-widgets/controls",
      "model_module_version": "1.0.0",
      "model_name": "DescriptionStyleModel",
      "state": {
       "description_width": ""
      }
     },
     "52071c823b844e4c8a53ea64d34aa1e7": {
      "model_module": "@jupyter-widgets/controls",
      "model_module_version": "1.0.0",
      "model_name": "DescriptionStyleModel",
      "state": {
       "description_width": ""
      }
     },
     "524a02fefe374d39acc22e7900a9832a": {
      "model_module": "@jupyter-widgets/base",
      "model_module_version": "1.0.0",
      "model_name": "LayoutModel",
      "state": {
       "width": "100%"
      }
     },
     "525e30db08fa42c6a793aab15b0d0de8": {
      "model_module": "@jupyter-widgets/controls",
      "model_module_version": "1.0.0",
      "model_name": "VBoxModel",
      "state": {
       "children": [
        "IPY_MODEL_3808ed62bcf24a319b988fe9f96080cc",
        "IPY_MODEL_e4f28830405e49c2a09266ed8005de6b",
        "IPY_MODEL_38a6a2ce38fb4e9b89b7b1ef7e2a796c"
       ],
       "layout": "IPY_MODEL_7e31574062f34f4fa678850565dc4bed"
      }
     },
     "5269a11e03564e4086a67005e43beb14": {
      "model_module": "@jupyter-widgets/controls",
      "model_module_version": "1.0.0",
      "model_name": "ButtonStyleModel",
      "state": {}
     },
     "52e720262fd4429088db80cc47287526": {
      "model_module": "@jupyter-widgets/base",
      "model_module_version": "1.0.0",
      "model_name": "LayoutModel",
      "state": {
       "width": "100%"
      }
     },
     "5398df01f2284753bc92b3859b99f9a1": {
      "model_module": "@jupyter-widgets/controls",
      "model_module_version": "1.0.0",
      "model_name": "ButtonStyleModel",
      "state": {}
     },
     "53cf5249a96443988216ca1fa3554978": {
      "model_module": "@jupyter-widgets/controls",
      "model_module_version": "1.0.0",
      "model_name": "ButtonStyleModel",
      "state": {}
     },
     "541ba0b827754a73bbfaa57b7cfc348d": {
      "model_module": "@jupyter-widgets/controls",
      "model_module_version": "1.0.0",
      "model_name": "HTMLModel",
      "state": {
       "layout": "IPY_MODEL_3e1fef959d0444b087246b0d0d646a32",
       "style": "IPY_MODEL_a775b635796c4ddb95cd74a74ff6b021",
       "value": "<p style=\"text-align:center\"><svg id='Autoencoder' xmlns='http://www.w3.org/2000/svg' width=\"350\" height=\"235\" image-rendering=\"pixelated\">\n    <defs>\n        <marker id=\"arrow\" markerWidth=\"10\" markerHeight=\"10\" refX=\"9\" refY=\"3\" orient=\"auto\" markerUnits=\"strokeWidth\">\n          <path d=\"M0,0 L0,6 L9,3 z\" fill=\"black\" />\n        </marker>\n    </defs><text x=\"175.0\" y=\"12.5\" font-family=\"monospace\" font-size=\"15\" text-anchor=\"middle\" alignment-baseline=\"central\">Autoencoder</text><rect x=\"74.0\" y=\"29\" width=\"202\" height=\"42\" style=\"fill:none;stroke:black;stroke-width:2\"/><image id=\"Autoencoder_output_4\" class=\"Autoencoder_output\" x=\"75.0\" y=\"30\" height=\"40\" width=\"200\" preserveAspectRatio=\"none\" href=\"data:image/gif;base64,R0lGODdhBQABAIcAAP7+/QAAAAAAAAAAAAAAAAAAAAAAAAAAAAAAAAAAAAAAAAAAAAAAAAAAAAAAAAAAAAAAAAAAAAAAAAAAAAAAAAAAAAAAAAAAAAAAAAAAAAAAAAAAAAAAAAAAAAAAAAAAAAAAAAAAAAAAAAAAAAAAAAAAAAAAAAAAAAAAAAAAAAAAAAAAAAAAAAAAAAAAAAAAAAAAAAAAAAAAAAAAAAAAAAAAAAAAAAAAAAAAAAAAAAAAAAAAAAAAAAAAAAAAAAAAAAAAAAAAAAAAAAAAAAAAAAAAAAAAAAAAAAAAAAAAAAAAAAAAAAAAAAAAAAAAAAAAAAAAAAAAAAAAAAAAAAAAAAAAAAAAAAAAAAAAAAAAAAAAAAAAAAAAAAAAAAAAAAAAAAAAAAAAAAAAAAAAAAAAAAAAAAAAAAAAAAAAAAAAAAAAAAAAAAAAAAAAAAAAAAAAAAAAAAAAAAAAAAAAAAAAAAAAAAAAAAAAAAAAAAAAAAAAAAAAAAAAAAAAAAAAAAAAAAAAAAAAAAAAAAAAAAAAAAAAAAAAAAAAAAAAAAAAAAAAAAAAAAAAAAAAAAAAAAAAAAAAAAAAAAAAAAAAAAAAAAAAAAAAAAAAAAAAAAAAAAAAAAAAAAAAAAAAAAAAAAAAAAAAAAAAAAAAAAAAAAAAAAAAAAAAAAAAAAAAAAAAAAAAAAAAAAAAAAAAAAAAAAAAAAAAAAAAAAAAAAAAAAAAAAAAAAAAAAAAAAAAAAAAAAAAAAAAAAAAAAAAAAAAAAAAAAAAAAAAAAAAAAAAAAAAAAAAAAAAAAAAAAAAAAAAAAAAAAAAAAAAAAAAAAAAAAAAAAAAAAAAAAAAAAAAAAAAAAAAAAAAAAAAAAAAAAAAAAAAAAAAAAAAAAAAAAAAAAAAAAAAAAAAAAAAAAAAAAAAAAAAAAAAAAAAAAAAAAAAAAAAAAAAAAAAAAAAAAAAAAAAAAAAAAAAAAAAAAAAAAAAAAAAAAAAAAAAAAAAAAAAAAAAAAAAAAAAAAAAAAAAAAAAACwAAAAABQABAAAIBgABCBQYEAA7\"><title>Layer: output (output)\n shape = (5,)\n Keras class = Dense\n activation = sigmoid</title></image><text x=\"280.0\" y=\"52.0\" font-family=\"monospace\" font-size=\"12\" text-anchor=\"start\" alignment-baseline=\"central\">output</text><line x1=\"175.0\" y1=\"99\" x2=\"175.0\" y2=\"72\" stroke=\"black\" stroke-width=\"2\" marker-end=\"url(#arrow)\"><title>Weights from hidden to output\n output/kernel has shape (5, 5)\n output/bias has shape (5,)</title></line><rect x=\"74.0\" y=\"99\" width=\"202\" height=\"42\" style=\"fill:none;stroke:black;stroke-width:2\"/><image id=\"Autoencoder_hidden_5\" class=\"Autoencoder_hidden\" x=\"75.0\" y=\"100\" height=\"40\" width=\"200\" preserveAspectRatio=\"none\" href=\"data:image/gif;base64,R0lGODdhBQABAIcAAP7+/QAAAAAAAAAAAAAAAAAAAAAAAAAAAAAAAAAAAAAAAAAAAAAAAAAAAAAAAAAAAAAAAAAAAAAAAAAAAAAAAAAAAAAAAAAAAAAAAAAAAAAAAAAAAAAAAAAAAAAAAAAAAAAAAAAAAAAAAAAAAAAAAAAAAAAAAAAAAAAAAAAAAAAAAAAAAAAAAAAAAAAAAAAAAAAAAAAAAAAAAAAAAAAAAAAAAAAAAAAAAAAAAAAAAAAAAAAAAAAAAAAAAAAAAAAAAAAAAAAAAAAAAAAAAAAAAAAAAAAAAAAAAAAAAAAAAAAAAAAAAAAAAAAAAAAAAAAAAAAAAAAAAAAAAAAAAAAAAAAAAAAAAAAAAAAAAAAAAAAAAAAAAAAAAAAAAAAAAAAAAAAAAAAAAAAAAAAAAAAAAAAAAAAAAAAAAAAAAAAAAAAAAAAAAAAAAAAAAAAAAAAAAAAAAAAAAAAAAAAAAAAAAAAAAAAAAAAAAAAAAAAAAAAAAAAAAAAAAAAAAAAAAAAAAAAAAAAAAAAAAAAAAAAAAAAAAAAAAAAAAAAAAAAAAAAAAAAAAAAAAAAAAAAAAAAAAAAAAAAAAAAAAAAAAAAAAAAAAAAAAAAAAAAAAAAAAAAAAAAAAAAAAAAAAAAAAAAAAAAAAAAAAAAAAAAAAAAAAAAAAAAAAAAAAAAAAAAAAAAAAAAAAAAAAAAAAAAAAAAAAAAAAAAAAAAAAAAAAAAAAAAAAAAAAAAAAAAAAAAAAAAAAAAAAAAAAAAAAAAAAAAAAAAAAAAAAAAAAAAAAAAAAAAAAAAAAAAAAAAAAAAAAAAAAAAAAAAAAAAAAAAAAAAAAAAAAAAAAAAAAAAAAAAAAAAAAAAAAAAAAAAAAAAAAAAAAAAAAAAAAAAAAAAAAAAAAAAAAAAAAAAAAAAAAAAAAAAAAAAAAAAAAAAAAAAAAAAAAAAAAAAAAAAAAAAAAAAAAAAAAAAAAAAAAAAAAAAAAAAAAAAAAAAAAAAAAAAAAAAAAAAAAAAAAAAAAAAAAAAAACwAAAAABQABAAAIBgABCBQYEAA7\"><title>Layer: hidden (hidden)\n shape = (5,)\n Keras class = Dense\n activation = relu</title></image><text x=\"280.0\" y=\"122.0\" font-family=\"monospace\" font-size=\"12\" text-anchor=\"start\" alignment-baseline=\"central\">hidden</text><line x1=\"175.0\" y1=\"169\" x2=\"175.0\" y2=\"142\" stroke=\"black\" stroke-width=\"2\" marker-end=\"url(#arrow)\"><title>Weights from input to hidden\n hidden/kernel has shape (5, 5)\n hidden/bias has shape (5,)</title></line><rect x=\"74.0\" y=\"169\" width=\"202\" height=\"42\" style=\"fill:none;stroke:black;stroke-width:2\"/><image id=\"Autoencoder_input_6\" class=\"Autoencoder_input\" x=\"75.0\" y=\"170\" height=\"40\" width=\"200\" preserveAspectRatio=\"none\" href=\"data:image/gif;base64,R0lGODdhBQABAIcAAGcAHwAAAAAAAAAAAAAAAAAAAAAAAAAAAAAAAAAAAAAAAAAAAAAAAAAAAAAAAAAAAAAAAAAAAAAAAAAAAAAAAAAAAAAAAAAAAAAAAAAAAAAAAAAAAAAAAAAAAAAAAAAAAAAAAAAAAAAAAAAAAAAAAAAAAAAAAAAAAAAAAAAAAAAAAAAAAAAAAAAAAAAAAAAAAAAAAAAAAAAAAAAAAAAAAAAAAAAAAAAAAAAAAAAAAAAAAAAAAAAAAAAAAAAAAAAAAAAAAAAAAAAAAAAAAAAAAAAAAAAAAAAAAAAAAAAAAAAAAAAAAAAAAAAAAAAAAAAAAAAAAAAAAAAAAAAAAAAAAAAAAAAAAAAAAAAAAAAAAAAAAAAAAAAAAAAAAAAAAAAAAAAAAAAAAAAAAAAAAAAAAAAAAAAAAAAAAAAAAAAAAAAAAAAAAAAAAAAAAAAAAAAAAAAAAAAAAAAAAAAAAAAAAAAAAAAAAAAAAAAAAAAAAAAAAAAAAAAAAAAAAAAAAAAAAAAAAAAAAAAAAAAAAAAAAAAAAAAAAAAAAAAAAAAAAAAAAAAAAAAAAAAAAAAAAAAAAAAAAAAAAAAAAAAAAAAAAAAAAAAAAAAAAAAAAAAAAAAAAAAAAAAAAAAAAAAAAAAAAAAAAAAAAAAAAAAAAAAAAAAAAAAAAAAAAAAAAAAAAAAAAAAAAAAAAAAAAAAAAAAAAAAAAAAAAAAAAAAAAAAAAAAAAAAAAAAAAAAAAAAAAAAAAAAAAAAAAAAAAAAAAAAAAAAAAAAAAAAAAAAAAAAAAAAAAAAAAAAAAAAAAAAAAAAAAAAAAAAAAAAAAAAAAAAAAAAAAAAAAAAAAAAAAAAAAAAAAAAAAAAAAAAAAAAAAAAAAAAAAAAAAAAAAAAAAAAAAAAAAAAAAAAAAAAAAAAAAAAAAAAAAAAAAAAAAAAAAAAAAAAAAAAAAAAAAAAAAAAAAAAAAAAAAAAAAAAAAAAAAAAAAAAAAAAAAAAAAAAAAAAAAAAAAAAAAAAAAAAAAAAAACwAAAAABQABAAAIBgABCBQYEAA7\"><title>Layer: input (input)\n shape = (5,)\n Keras class = Input</title></image><text x=\"280.0\" y=\"192.0\" font-family=\"monospace\" font-size=\"12\" text-anchor=\"start\" alignment-baseline=\"central\">input</text></svg></p>"
      }
     },
     "54dad9eea4f24c6cbf1821a51182644c": {
      "model_module": "@jupyter-widgets/controls",
      "model_module_version": "1.0.0",
      "model_name": "TabModel",
      "state": {
       "_titles": {
        "0": "Network",
        "1": "Help"
       },
       "children": [
        "IPY_MODEL_e0778c0daf9847c99d020481990677cf",
        "IPY_MODEL_295634801ebd4f4d89dfb86a6821e5c3"
       ],
       "layout": "IPY_MODEL_478ff4382abe4effb5b5e329b22d3c2d"
      }
     },
     "55b3d4a7ab5949a9871494f2c9f87e2d": {
      "model_module": "@jupyter-widgets/controls",
      "model_module_version": "1.0.0",
      "model_name": "HTMLModel",
      "state": {
       "layout": "IPY_MODEL_3469c6397333484bb8726577a8aeedb9",
       "style": "IPY_MODEL_1ba71fc2847f4e448e4bea94d4bf3515",
       "value": "<p style=\"text-align:center\"><svg id='MNIST-Autoencoder' xmlns='http://www.w3.org/2000/svg' width=\"350\" height=\"705\" image-rendering=\"pixelated\">\n    <defs>\n        <marker id=\"arrow\" markerWidth=\"10\" markerHeight=\"10\" refX=\"9\" refY=\"3\" orient=\"auto\" markerUnits=\"strokeWidth\">\n          <path d=\"M0,0 L0,6 L9,3 z\" fill=\"black\" />\n        </marker>\n    </defs><text x=\"175.0\" y=\"12.5\" font-family=\"monospace\" font-size=\"15\" text-anchor=\"middle\" alignment-baseline=\"central\">MNIST-Autoencoder</text><rect x=\"74.0\" y=\"29\" width=\"202\" height=\"202\" style=\"fill:none;stroke:black;stroke-width:2\"/><image id=\"MNIST-Autoencoder_output_7\" class=\"MNIST-Autoencoder_output\" x=\"75.0\" y=\"30\" height=\"200\" width=\"200\" preserveAspectRatio=\"none\" href=\"data:image/gif;base64,R0lGODdhHAAcAIcAAPz5+Pru5wAAAAAAAAAAAAAAAAAAAAAAAAAAAAAAAAAAAAAAAAAAAAAAAAAAAAAAAAAAAAAAAAAAAAAAAAAAAAAAAAAAAAAAAAAAAAAAAAAAAAAAAAAAAAAAAAAAAAAAAAAAAAAAAAAAAAAAAAAAAAAAAAAAAAAAAAAAAAAAAAAAAAAAAAAAAAAAAAAAAAAAAAAAAAAAAAAAAAAAAAAAAAAAAAAAAAAAAAAAAAAAAAAAAAAAAAAAAAAAAAAAAAAAAAAAAAAAAAAAAAAAAAAAAAAAAAAAAAAAAAAAAAAAAAAAAAAAAAAAAAAAAAAAAAAAAAAAAAAAAAAAAAAAAAAAAAAAAAAAAAAAAAAAAAAAAAAAAAAAAAAAAAAAAAAAAAAAAAAAAAAAAAAAAAAAAAAAAAAAAAAAAAAAAAAAAAAAAAAAAAAAAAAAAAAAAAAAAAAAAAAAAAAAAAAAAAAAAAAAAAAAAAAAAAAAAAAAAAAAAAAAAAAAAAAAAAAAAAAAAAAAAAAAAAAAAAAAAAAAAAAAAAAAAAAAAAAAAAAAAAAAAAAAAAAAAAAAAAAAAAAAAAAAAAAAAAAAAAAAAAAAAAAAAAAAAAAAAAAAAAAAAAAAAAAAAAAAAAAAAAAAAAAAAAAAAAAAAAAAAAAAAAAAAAAAAAAAAAAAAAAAAAAAAAAAAAAAAAAAAAAAAAAAAAAAAAAAAAAAAAAAAAAAAAAAAAAAAAAAAAAAAAAAAAAAAAAAAAAAAAAAAAAAAAAAAAAAAAAAAAAAAAAAAAAAAAAAAAAAAAAAAAAAAAAAAAAAAAAAAAAAAAAAAAAAAAAAAAAAAAAAAAAAAAAAAAAAAAAAAAAAAAAAAAAAAAAAAAAAAAAAAAAAAAAAAAAAAAAAAAAAAAAAAAAAAAAAAAAAAAAAAAAAAAAAAAAAAAAAAAAAAAAAAAAAAAAAAAAAAAAAAAAAAAAAAAAAAAAAAAAAAAAAAAAAAAAAAAAAAAAAAAAAAAAAAAAAAAAAAAAAAAAAAAAAAAAAACwAAAAAHAAcAEAIVgABAAgAoKDBgwgTKlxYMACAhxAjSpxIsaLFixgzatzIsaPHjyBDihxJsqTJkyhTqlzJkmQAADBjypxJs6bNmzhz6tzJs6fPn0CDxgwAoKjRo0iTKg0IADs=\"><title>Layer: output (output)\n shape = (28, 28, 1)\n Keras class = Dense\n activation = sigmoid</title></image><text x=\"280.0\" y=\"132.0\" font-family=\"monospace\" font-size=\"12\" text-anchor=\"start\" alignment-baseline=\"central\">output</text><line x1=\"175.0\" y1=\"259\" x2=\"175.0\" y2=\"232\" stroke=\"black\" stroke-width=\"2\" marker-end=\"url(#arrow)\"><title>Weights from hidden3 to output\n output/kernel has shape (25, 784)\n output/bias has shape (784,)</title></line><rect x=\"74.0\" y=\"259\" width=\"202\" height=\"27\" style=\"fill:none;stroke:black;stroke-width:2\"/><image id=\"MNIST-Autoencoder_hidden3_8\" class=\"MNIST-Autoencoder_hidden3\" x=\"75.0\" y=\"260\" height=\"25\" width=\"200\" preserveAspectRatio=\"none\" href=\"data:image/gif;base64,R0lGODdhGQABAIcAAGcAH/Sohe3n5NlnUxoaGigoKLQcLcU+PN91Xd3d3eyTdPnHrv7w5wAAAAAAAAAAAAAAAAAAAAAAAAAAAAAAAAAAAAAAAAAAAAAAAAAAAAAAAAAAAAAAAAAAAAAAAAAAAAAAAAAAAAAAAAAAAAAAAAAAAAAAAAAAAAAAAAAAAAAAAAAAAAAAAAAAAAAAAAAAAAAAAAAAAAAAAAAAAAAAAAAAAAAAAAAAAAAAAAAAAAAAAAAAAAAAAAAAAAAAAAAAAAAAAAAAAAAAAAAAAAAAAAAAAAAAAAAAAAAAAAAAAAAAAAAAAAAAAAAAAAAAAAAAAAAAAAAAAAAAAAAAAAAAAAAAAAAAAAAAAAAAAAAAAAAAAAAAAAAAAAAAAAAAAAAAAAAAAAAAAAAAAAAAAAAAAAAAAAAAAAAAAAAAAAAAAAAAAAAAAAAAAAAAAAAAAAAAAAAAAAAAAAAAAAAAAAAAAAAAAAAAAAAAAAAAAAAAAAAAAAAAAAAAAAAAAAAAAAAAAAAAAAAAAAAAAAAAAAAAAAAAAAAAAAAAAAAAAAAAAAAAAAAAAAAAAAAAAAAAAAAAAAAAAAAAAAAAAAAAAAAAAAAAAAAAAAAAAAAAAAAAAAAAAAAAAAAAAAAAAAAAAAAAAAAAAAAAAAAAAAAAAAAAAAAAAAAAAAAAAAAAAAAAAAAAAAAAAAAAAAAAAAAAAAAAAAAAAAAAAAAAAAAAAAAAAAAAAAAAAAAAAAAAAAAAAAAAAAAAAAAAAAAAAAAAAAAAAAAAAAAAAAAAAAAAAAAAAAAAAAAAAAAAAAAAAAAAAAAAAAAAAAAAAAAAAAAAAAAAAAAAAAAAAAAAAAAAAAAAAAAAAAAAAAAAAAAAAAAAAAAAAAAAAAAAAAAAAAAAAAAAAAAAAAAAAAAAAAAAAAAAAAAAAAAAAAAAAAAAAAAAAAAAAAAAAAAAAAAAAAAAAAAAAAAAAAAAAAAAAAAAAAAAAAAAAAAAAAAAAAAAAAAAAAAAAAAAAAAAAAAAAAAAAAAAACwAAAAAGQABAAAIHgADKABQgMCAAAgEJGAAYMABABABLDAAQICAAAACAgA7\"><title>Layer: hidden3 (hidden)\n shape = (25,)\n Keras class = Dense\n activation = relu</title></image><text x=\"280.0\" y=\"274.5\" font-family=\"monospace\" font-size=\"12\" text-anchor=\"start\" alignment-baseline=\"central\">hidden3</text><line x1=\"175.0\" y1=\"314\" x2=\"175.0\" y2=\"287\" stroke=\"black\" stroke-width=\"2\" marker-end=\"url(#arrow)\"><title>Weights from hidden2 to hidden3\n hidden3/kernel has shape (25, 25)\n hidden3/bias has shape (25,)</title></line><rect x=\"74.0\" y=\"314\" width=\"202\" height=\"27\" style=\"fill:none;stroke:black;stroke-width:2\"/><image id=\"MNIST-Autoencoder_hidden2_9\" class=\"MNIST-Autoencoder_hidden2\" x=\"75.0\" y=\"315\" height=\"25\" width=\"200\" preserveAspectRatio=\"none\" href=\"data:image/gif;base64,R0lGODdhGQABAIcAAGcAH1RUVO6YeObm5vf39xoaGoSEhLAXKsxMQ+J9Y/SqiPi/o/3bxwAAAAAAAAAAAAAAAAAAAAAAAAAAAAAAAAAAAAAAAAAAAAAAAAAAAAAAAAAAAAAAAAAAAAAAAAAAAAAAAAAAAAAAAAAAAAAAAAAAAAAAAAAAAAAAAAAAAAAAAAAAAAAAAAAAAAAAAAAAAAAAAAAAAAAAAAAAAAAAAAAAAAAAAAAAAAAAAAAAAAAAAAAAAAAAAAAAAAAAAAAAAAAAAAAAAAAAAAAAAAAAAAAAAAAAAAAAAAAAAAAAAAAAAAAAAAAAAAAAAAAAAAAAAAAAAAAAAAAAAAAAAAAAAAAAAAAAAAAAAAAAAAAAAAAAAAAAAAAAAAAAAAAAAAAAAAAAAAAAAAAAAAAAAAAAAAAAAAAAAAAAAAAAAAAAAAAAAAAAAAAAAAAAAAAAAAAAAAAAAAAAAAAAAAAAAAAAAAAAAAAAAAAAAAAAAAAAAAAAAAAAAAAAAAAAAAAAAAAAAAAAAAAAAAAAAAAAAAAAAAAAAAAAAAAAAAAAAAAAAAAAAAAAAAAAAAAAAAAAAAAAAAAAAAAAAAAAAAAAAAAAAAAAAAAAAAAAAAAAAAAAAAAAAAAAAAAAAAAAAAAAAAAAAAAAAAAAAAAAAAAAAAAAAAAAAAAAAAAAAAAAAAAAAAAAAAAAAAAAAAAAAAAAAAAAAAAAAAAAAAAAAAAAAAAAAAAAAAAAAAAAAAAAAAAAAAAAAAAAAAAAAAAAAAAAAAAAAAAAAAAAAAAAAAAAAAAAAAAAAAAAAAAAAAAAAAAAAAAAAAAAAAAAAAAAAAAAAAAAAAAAAAAAAAAAAAAAAAAAAAAAAAAAAAAAAAAAAAAAAAAAAAAAAAAAAAAAAAAAAAAAAAAAAAAAAAAAAAAAAAAAAAAAAAAAAAAAAAAAAAAAAAAAAAAAAAAAAAAAAAAAAAAAAAAAAAAAAAAAAAAAAAAAAAAAAAAAAAAAAAAAAAAAAAAAAAAAAAAAAAAAAAAAAAAAACwAAAAAGQABAAAIHwALCAAQIMACAAQAACAgAMABBQYQJAAwYAAABgAABAQAOw==\"><title>Layer: hidden2 (hidden)\n shape = (25,)\n Keras class = Dense\n activation = relu</title></image><text x=\"280.0\" y=\"329.5\" font-family=\"monospace\" font-size=\"12\" text-anchor=\"start\" alignment-baseline=\"central\">hidden2</text><line x1=\"175.0\" y1=\"369\" x2=\"175.0\" y2=\"342\" stroke=\"black\" stroke-width=\"2\" marker-end=\"url(#arrow)\"><title>Weights from hidden1 to hidden2\n hidden2/kernel has shape (25, 25)\n hidden2/bias has shape (25,)</title></line><rect x=\"74.0\" y=\"369\" width=\"202\" height=\"27\" style=\"fill:none;stroke:black;stroke-width:2\"/><image id=\"MNIST-Autoencoder_hidden1_10\" class=\"MNIST-Autoencoder_hidden1\" x=\"75.0\" y=\"370\" height=\"25\" width=\"200\" preserveAspectRatio=\"none\" href=\"data:image/gif;base64,R0lGODdhGQABAIcAAGcAH3IDIOaHaxoaGo0MJaQTKNloU/SqiPnFq/vQuePj4wAAAAAAAAAAAAAAAAAAAAAAAAAAAAAAAAAAAAAAAAAAAAAAAAAAAAAAAAAAAAAAAAAAAAAAAAAAAAAAAAAAAAAAAAAAAAAAAAAAAAAAAAAAAAAAAAAAAAAAAAAAAAAAAAAAAAAAAAAAAAAAAAAAAAAAAAAAAAAAAAAAAAAAAAAAAAAAAAAAAAAAAAAAAAAAAAAAAAAAAAAAAAAAAAAAAAAAAAAAAAAAAAAAAAAAAAAAAAAAAAAAAAAAAAAAAAAAAAAAAAAAAAAAAAAAAAAAAAAAAAAAAAAAAAAAAAAAAAAAAAAAAAAAAAAAAAAAAAAAAAAAAAAAAAAAAAAAAAAAAAAAAAAAAAAAAAAAAAAAAAAAAAAAAAAAAAAAAAAAAAAAAAAAAAAAAAAAAAAAAAAAAAAAAAAAAAAAAAAAAAAAAAAAAAAAAAAAAAAAAAAAAAAAAAAAAAAAAAAAAAAAAAAAAAAAAAAAAAAAAAAAAAAAAAAAAAAAAAAAAAAAAAAAAAAAAAAAAAAAAAAAAAAAAAAAAAAAAAAAAAAAAAAAAAAAAAAAAAAAAAAAAAAAAAAAAAAAAAAAAAAAAAAAAAAAAAAAAAAAAAAAAAAAAAAAAAAAAAAAAAAAAAAAAAAAAAAAAAAAAAAAAAAAAAAAAAAAAAAAAAAAAAAAAAAAAAAAAAAAAAAAAAAAAAAAAAAAAAAAAAAAAAAAAAAAAAAAAAAAAAAAAAAAAAAAAAAAAAAAAAAAAAAAAAAAAAAAAAAAAAAAAAAAAAAAAAAAAAAAAAAAAAAAAAAAAAAAAAAAAAAAAAAAAAAAAAAAAAAAAAAAAAAAAAAAAAAAAAAAAAAAAAAAAAAAAAAAAAAAAAAAAAAAAAAAAAAAAAAAAAAAAAAAAAAAAAAAAAAAAAAAAAAAAAAAAAAAAAAAAAAAAAAAAAAAAAAAAAAAAAAAAAAAAAAAAAAAAAAAAAAAAAAAAAAAAAAAAAAAACwAAAAAGQABAAAIGgABCBwYQEABAAcCDBAAoCEABAkIAACgwEBAADs=\"><title>Layer: hidden1 (hidden)\n shape = (25,)\n Keras class = Dense\n activation = relu</title></image><text x=\"280.0\" y=\"384.5\" font-family=\"monospace\" font-size=\"12\" text-anchor=\"start\" alignment-baseline=\"central\">hidden1</text><line x1=\"175.0\" y1=\"424\" x2=\"175.0\" y2=\"397\" stroke=\"black\" stroke-width=\"2\" marker-end=\"url(#arrow)\"><title>Weights from flatten to hidden1\n hidden1/kernel has shape (784, 25)\n hidden1/bias has shape (25,)</title></line><rect x=\"74.0\" y=\"424\" width=\"202\" height=\"27\" style=\"fill:none;stroke:black;stroke-width:2\"/><image id=\"MNIST-Autoencoder_flatten_11\" class=\"MNIST-Autoencoder_flatten\" x=\"75.0\" y=\"425\" height=\"25\" width=\"200\" preserveAspectRatio=\"none\" href=\"data:image/gif;base64,R0lGODdhEAMBAIcAAP39/BwcHOjo6CUlJcbGxjk5OVdXV4eHh5qammVlZdfX13Nzc0dHR6enp7W1tQAAAAAAAAAAAAAAAAAAAAAAAAAAAAAAAAAAAAAAAAAAAAAAAAAAAAAAAAAAAAAAAAAAAAAAAAAAAAAAAAAAAAAAAAAAAAAAAAAAAAAAAAAAAAAAAAAAAAAAAAAAAAAAAAAAAAAAAAAAAAAAAAAAAAAAAAAAAAAAAAAAAAAAAAAAAAAAAAAAAAAAAAAAAAAAAAAAAAAAAAAAAAAAAAAAAAAAAAAAAAAAAAAAAAAAAAAAAAAAAAAAAAAAAAAAAAAAAAAAAAAAAAAAAAAAAAAAAAAAAAAAAAAAAAAAAAAAAAAAAAAAAAAAAAAAAAAAAAAAAAAAAAAAAAAAAAAAAAAAAAAAAAAAAAAAAAAAAAAAAAAAAAAAAAAAAAAAAAAAAAAAAAAAAAAAAAAAAAAAAAAAAAAAAAAAAAAAAAAAAAAAAAAAAAAAAAAAAAAAAAAAAAAAAAAAAAAAAAAAAAAAAAAAAAAAAAAAAAAAAAAAAAAAAAAAAAAAAAAAAAAAAAAAAAAAAAAAAAAAAAAAAAAAAAAAAAAAAAAAAAAAAAAAAAAAAAAAAAAAAAAAAAAAAAAAAAAAAAAAAAAAAAAAAAAAAAAAAAAAAAAAAAAAAAAAAAAAAAAAAAAAAAAAAAAAAAAAAAAAAAAAAAAAAAAAAAAAAAAAAAAAAAAAAAAAAAAAAAAAAAAAAAAAAAAAAAAAAAAAAAAAAAAAAAAAAAAAAAAAAAAAAAAAAAAAAAAAAAAAAAAAAAAAAAAAAAAAAAAAAAAAAAAAAAAAAAAAAAAAAAAAAAAAAAAAAAAAAAAAAAAAAAAAAAAAAAAAAAAAAAAAAAAAAAAAAAAAAAAAAAAAAAAAAAAAAAAAAAAAAAAAAAAAAAAAAAAAAAAAAAAAAAAAAAAAAAAAAAAAAAAAAAAAAAAAAAAAAAAAAAAAAAAAAAAAAAAAAAAAAAAAAAAAAAAAAAAAAAAAAAAAACwAAAAAEAMBAAAI/wABCBxIsKDBgwgTKlzIsKHDhxAjDmyAIIGABQEGNADAsaNHjgIEEDiwIIBJkwUWBBhgQAGAlzBjAhAwIIDNmzcJ6FQgAIDPn0B/FghAlKiBBAMGAFjKtKlTpgQOOAgQgAEAAAIOANjKtavXrwcCEABAtqzZs2jNIghgAIDbt3Djyo1rIIACAHjz6t3LV6+AAQUOOABAuLDhw4gLExgQIEADAQAiS55MuXJkAQkCBDggAIDnz6BDi/5MIECABABSq17NuvXqAQEGKABAu7bt27gFIEgQIAADAMCDCx8+XMCBAgGSD0gAoLnz59CfNygQoHoAAwQAaN/Ovft2BQwCiEIPYIAAgPPo06tHv6BAgPcBDBAAQL++/fv0FSwoEKB/AIADEAAgWNDgQYMIAixkgAABAIgRJU6kWNHiRYwZNW7EGBAAOw==\"><title>Layer: flatten (hidden)\n Keras class = Flatten</title></image><text x=\"280.0\" y=\"439.5\" font-family=\"monospace\" font-size=\"12\" text-anchor=\"start\" alignment-baseline=\"central\">flatten</text><line x1=\"175.0\" y1=\"479\" x2=\"175.0\" y2=\"452\" stroke=\"black\" stroke-width=\"2\" marker-end=\"url(#arrow)\"><title>Weights from input to flatten</title></line><rect x=\"74.0\" y=\"479\" width=\"202\" height=\"202\" style=\"fill:none;stroke:black;stroke-width:2\"/><image id=\"MNIST-Autoencoder_input_12\" class=\"MNIST-Autoencoder_input\" x=\"75.0\" y=\"480\" height=\"200\" width=\"200\" preserveAspectRatio=\"none\" href=\"data:image/gif;base64,R0lGODdhHAAcAIcAAP39/BwcHOjo6CUlJcbGxjk5OVdXV4eHh5qammVlZdfX13Nzc0dHR6enp7W1tQAAAAAAAAAAAAAAAAAAAAAAAAAAAAAAAAAAAAAAAAAAAAAAAAAAAAAAAAAAAAAAAAAAAAAAAAAAAAAAAAAAAAAAAAAAAAAAAAAAAAAAAAAAAAAAAAAAAAAAAAAAAAAAAAAAAAAAAAAAAAAAAAAAAAAAAAAAAAAAAAAAAAAAAAAAAAAAAAAAAAAAAAAAAAAAAAAAAAAAAAAAAAAAAAAAAAAAAAAAAAAAAAAAAAAAAAAAAAAAAAAAAAAAAAAAAAAAAAAAAAAAAAAAAAAAAAAAAAAAAAAAAAAAAAAAAAAAAAAAAAAAAAAAAAAAAAAAAAAAAAAAAAAAAAAAAAAAAAAAAAAAAAAAAAAAAAAAAAAAAAAAAAAAAAAAAAAAAAAAAAAAAAAAAAAAAAAAAAAAAAAAAAAAAAAAAAAAAAAAAAAAAAAAAAAAAAAAAAAAAAAAAAAAAAAAAAAAAAAAAAAAAAAAAAAAAAAAAAAAAAAAAAAAAAAAAAAAAAAAAAAAAAAAAAAAAAAAAAAAAAAAAAAAAAAAAAAAAAAAAAAAAAAAAAAAAAAAAAAAAAAAAAAAAAAAAAAAAAAAAAAAAAAAAAAAAAAAAAAAAAAAAAAAAAAAAAAAAAAAAAAAAAAAAAAAAAAAAAAAAAAAAAAAAAAAAAAAAAAAAAAAAAAAAAAAAAAAAAAAAAAAAAAAAAAAAAAAAAAAAAAAAAAAAAAAAAAAAAAAAAAAAAAAAAAAAAAAAAAAAAAAAAAAAAAAAAAAAAAAAAAAAAAAAAAAAAAAAAAAAAAAAAAAAAAAAAAAAAAAAAAAAAAAAAAAAAAAAAAAAAAAAAAAAAAAAAAAAAAAAAAAAAAAAAAAAAAAAAAAAAAAAAAAAAAAAAAAAAAAAAAAAAAAAAAAAAAAAAAAAAAAAAAAAAAAAAAAAAAAAAAAAAAAAAAAAAAAAAAAAAAAAAAAAAAAAAAAAAAAAAAAACwAAAAAHAAcAEAI/wABCBxIsKDBgwgLBFi40ECCAQMASJxIsaLFigQCBEgAoKPHjx0RBBjJAAECAChTqlzJsqXLlzBRGgigAIDNmzhz6rzZoECAnwEMEABAtKjRo0iTKl0qQACBAwsCSJVaYEGAAQYUANjKtavXAwEIABhLtqzZs2cJDAgQoIEAAHDjyp1LF64ABAkCBGAAoK/fv4AXFAhAOIABAgASK17MuLHjx5AjS55MufLjBggSCFgQYEADAKBDiwYgYECA06hRE1itQACA17BjwyZwwEGAAAwAABBwAIDv38CDC0cQwACA48iTK1+uXMCAAgccAJhOvbr169UFJAgQ4IAAAODDi0QfT178gAADFABYz769+/YCDhQIQH9AAgD48+vfj18BA4ABBAYwQADAQYQJFSpYUCDAwwADEACgWNHiRYwZNW7k2PFiQAA7\"><title>Layer: input (input)\n shape = (28, 28, 1)\n Keras class = Input</title></image><text x=\"280.0\" y=\"582.0\" font-family=\"monospace\" font-size=\"12\" text-anchor=\"start\" alignment-baseline=\"central\">input</text><text x=\"280.0\" y=\"485\" font-family=\"monospace\" font-size=\"12\" text-anchor=\"start\" alignment-baseline=\"central\">1</text><text x=\"63.0\" y=\"675\" font-family=\"monospace\" font-size=\"12\" text-anchor=\"start\" alignment-baseline=\"central\">0</text></svg></p>"
      }
     },
     "560b0327675d41d3ace3f559d36eeb85": {
      "model_module": "@jupyter-widgets/controls",
      "model_module_version": "1.0.0",
      "model_name": "ButtonStyleModel",
      "state": {}
     },
     "562c069069674b2ebaa20a01ffb4ee9f": {
      "model_module": "@jupyter-widgets/controls",
      "model_module_version": "1.0.0",
      "model_name": "TabModel",
      "state": {
       "_titles": {
        "0": "Network",
        "1": "Help"
       },
       "children": [
        "IPY_MODEL_1211a74028034bf0ae0572ab77931e7e",
        "IPY_MODEL_015b466cd8b54511afac1448e8a7df2f"
       ],
       "layout": "IPY_MODEL_b810b87ce9f44bb487f1245f41191828"
      }
     },
     "56a287ab50b04c25a149bb5c70de316f": {
      "model_module": "@jupyter-widgets/base",
      "model_module_version": "1.0.0",
      "model_name": "LayoutModel",
      "state": {}
     },
     "570be72c77264951b0d73eef7d1e639c": {
      "model_module": "@jupyter-widgets/controls",
      "model_module_version": "1.0.0",
      "model_name": "DescriptionStyleModel",
      "state": {
       "description_width": ""
      }
     },
     "573068698da54fc0bb7b967b971e3e75": {
      "model_module": "@jupyter-widgets/controls",
      "model_module_version": "1.0.0",
      "model_name": "IntSliderModel",
      "state": {
       "continuous_update": false,
       "description": "Dataset index",
       "layout": "IPY_MODEL_f5b861dd06854a18afcc448c2d27932c",
       "max": 69999,
       "style": "IPY_MODEL_309902ecf33f4df1802b924410ef51c0"
      }
     },
     "57379c9486204da7b4aeb59d389da4e4": {
      "model_module": "@jupyter-widgets/controls",
      "model_module_version": "1.0.0",
      "model_name": "ButtonStyleModel",
      "state": {}
     },
     "57a9361dc46d4ca6bce353fd10912949": {
      "model_module": "@jupyter-widgets/base",
      "model_module_version": "1.0.0",
      "model_name": "LayoutModel",
      "state": {
       "height": "550px",
       "justify_content": "center",
       "overflow_x": "auto",
       "width": "100%"
      }
     },
     "57b7549f375145268cbcf9d73a88ea9a": {
      "model_module": "@jupyter-widgets/base",
      "model_module_version": "1.0.0",
      "model_name": "LayoutModel",
      "state": {}
     },
     "57fc04d3da704844a1cbad6ea89fb17a": {
      "model_module": "@jupyter-widgets/controls",
      "model_module_version": "1.0.0",
      "model_name": "IntSliderModel",
      "state": {
       "continuous_update": false,
       "description": "Dataset index",
       "disabled": true,
       "layout": "IPY_MODEL_2e6e160ab2374bd1af2ca6c2023129ed",
       "max": 0,
       "style": "IPY_MODEL_bd6665544c35498ebd8906d4e0d6900b"
      }
     },
     "5897565ac8394b1d96df3c7ba9caa404": {
      "model_module": "@jupyter-widgets/controls",
      "model_module_version": "1.0.0",
      "model_name": "VBoxModel",
      "state": {
       "children": [
        "IPY_MODEL_8276ba1b11dd46ad82dff6577788859d",
        "IPY_MODEL_4e89dd8476c44e61b95c2468ddcfbe60"
       ],
       "layout": "IPY_MODEL_9b57619c4b9f40f78afa20d59f65b592"
      }
     },
     "58ce8628f7fd426abfd963382fe41272": {
      "model_module": "@jupyter-widgets/base",
      "model_module_version": "1.0.0",
      "model_name": "LayoutModel",
      "state": {
       "width": "100%"
      }
     },
     "58f676640dbc48b1865f1e7e6f91254d": {
      "model_module": "@jupyter-widgets/base",
      "model_module_version": "1.0.0",
      "model_name": "LayoutModel",
      "state": {
       "width": "95%"
      }
     },
     "593f0f4ea5024d02824bbe6f4099e07e": {
      "model_module": "@jupyter-widgets/controls",
      "model_module_version": "1.0.0",
      "model_name": "ButtonModel",
      "state": {
       "icon": "forward",
       "layout": "IPY_MODEL_7de4619db916487c94a786962009274f",
       "style": "IPY_MODEL_6f30c899773741ca8c91e4af5ede46ca"
      }
     },
     "596d62c1a5ca42f69261a392b4ef39fb": {
      "model_module": "@jupyter-widgets/controls",
      "model_module_version": "1.0.0",
      "model_name": "ButtonModel",
      "state": {
       "icon": "forward",
       "layout": "IPY_MODEL_4b3dce59e6754caeb916a875a3490f64",
       "style": "IPY_MODEL_ffca4baf2644488480f3f48bd7a45a4d"
      }
     },
     "5a27b9d9108e460493218762293af3f3": {
      "model_module": "@jupyter-widgets/base",
      "model_module_version": "1.0.0",
      "model_name": "LayoutModel",
      "state": {
       "width": "100%"
      }
     },
     "5a4423f65d1143379d5f427b40841b77": {
      "model_module": "@jupyter-widgets/controls",
      "model_module_version": "1.0.0",
      "model_name": "ButtonStyleModel",
      "state": {}
     },
     "5a4653e6bef1496da9917e788b0856db": {
      "model_module": "@jupyter-widgets/controls",
      "model_module_version": "1.0.0",
      "model_name": "DescriptionStyleModel",
      "state": {
       "description_width": ""
      }
     },
     "5a61df43abe342ff869b3380f03033e8": {
      "model_module": "@jupyter-widgets/controls",
      "model_module_version": "1.0.0",
      "model_name": "HBoxModel",
      "state": {
       "children": [
        "IPY_MODEL_dc45f531956540acaddb36013d1e5867",
        "IPY_MODEL_1fa6cd643b7d495880908166757ebf01",
        "IPY_MODEL_652ba0c8e3924b708abdb80b9790bd86",
        "IPY_MODEL_f662cc38e38b492e924a9895a744687d",
        "IPY_MODEL_c5c91e011cff4ba4bd3283ab52eac27c"
       ],
       "layout": "IPY_MODEL_21eabc775eb640fc94613f19a6762617"
      }
     },
     "5a643b0a4b6b4368996b2a337ab2f6d4": {
      "model_module": "@jupyter-widgets/base",
      "model_module_version": "1.0.0",
      "model_name": "LayoutModel",
      "state": {
       "height": "550px",
       "width": "100%"
      }
     },
     "5aa23257ae7d4278b2a9adde887261a1": {
      "model_module": "@jupyter-widgets/controls",
      "model_module_version": "1.0.0",
      "model_name": "ButtonStyleModel",
      "state": {}
     },
     "5ab7566d3a2e44bfbb4a454497280eac": {
      "model_module": "@jupyter-widgets/controls",
      "model_module_version": "1.0.0",
      "model_name": "TabModel",
      "state": {
       "_titles": {
        "0": "Network",
        "1": "Help"
       },
       "children": [
        "IPY_MODEL_a2507dd4ccdd4ce68153fbe52497fa35",
        "IPY_MODEL_393b3ab25d6745a79bb928e10ebdf26b"
       ],
       "layout": "IPY_MODEL_b1f868599dde4263a9c5980598669265"
      }
     },
     "5acc8ae7bf38451aa4d564d67a992c65": {
      "model_module": "@jupyter-widgets/controls",
      "model_module_version": "1.0.0",
      "model_name": "ButtonModel",
      "state": {
       "icon": "fast-backward",
       "layout": "IPY_MODEL_7053825bbb354582874dda58201fc647",
       "style": "IPY_MODEL_ad385066f59d4d13a72f56c7bf885a12"
      }
     },
     "5b1d346bb80a47abbdc43e45b5efe745": {
      "model_module": "@jupyter-widgets/controls",
      "model_module_version": "1.0.0",
      "model_name": "VBoxModel",
      "state": {
       "children": [
        "IPY_MODEL_f8cdb42da6fa4fa4a193c3ccf71f264a",
        "IPY_MODEL_6df1997a5c6a4abc8bee76378bfa2623",
        "IPY_MODEL_b99bece4d2054013b094c97f9d582fa3"
       ],
       "layout": "IPY_MODEL_1237c0cd61ab4ab3a4c913385da75f18"
      }
     },
     "5c03469683974e4c95a3a8b235a25a5d": {
      "model_module": "@jupyter-widgets/controls",
      "model_module_version": "1.0.0",
      "model_name": "DescriptionStyleModel",
      "state": {
       "description_width": ""
      }
     },
     "5d3a4e79aa5d4b2ba1498fc4070a1773": {
      "model_module": "@jupyter-widgets/base",
      "model_module_version": "1.0.0",
      "model_name": "LayoutModel",
      "state": {
       "width": "100%"
      }
     },
     "5d6ce22a531d4d1da7295faa1928142e": {
      "model_module": "@jupyter-widgets/controls",
      "model_module_version": "1.0.0",
      "model_name": "SelectModel",
      "state": {
       "_options_labels": [
        "Test",
        "Train"
       ],
       "description": "Dataset:",
       "index": 0,
       "layout": "IPY_MODEL_4a1a05f779dd4e2492bf51546afc4c32",
       "style": "IPY_MODEL_8a3aba71f2e541a69c7c958ad6de2782"
      }
     },
     "5dd5b92b037f4ca0aa511d069ed4bca6": {
      "model_module": "@jupyter-widgets/controls",
      "model_module_version": "1.0.0",
      "model_name": "ButtonModel",
      "state": {
       "icon": "forward",
       "layout": "IPY_MODEL_6e8ec78595604ba59bca34380c4b759c",
       "style": "IPY_MODEL_be11a18265b346f48598522d63b1e0e1"
      }
     },
     "5e073fbbc2d64f0e8a38783f1b278a66": {
      "model_module": "@jupyter-widgets/controls",
      "model_module_version": "1.0.0",
      "model_name": "ButtonModel",
      "state": {
       "icon": "fast-backward",
       "layout": "IPY_MODEL_caec24cd2be1492fb3403a2a0ed0afe1",
       "style": "IPY_MODEL_128df837dc3c49d18a0553e8e238ec29"
      }
     },
     "5e09f2b2b8ff4f74ba732ae4dd2af7d1": {
      "model_module": "@jupyter-widgets/controls",
      "model_module_version": "1.0.0",
      "model_name": "VBoxModel",
      "state": {
       "children": [
        "IPY_MODEL_f044c4e556ff43a28b17564db8d795ad",
        "IPY_MODEL_1cd8836073534afabe6cc020ebe1834d",
        "IPY_MODEL_72a51f0a0b4b40f9afebc9a7ecbe5774"
       ],
       "layout": "IPY_MODEL_05538dba16b4439ca41f7888b7af158e"
      }
     },
     "5f0b6b3519214c78b82c4f63463fb162": {
      "model_module": "@jupyter-widgets/controls",
      "model_module_version": "1.0.0",
      "model_name": "DescriptionStyleModel",
      "state": {
       "description_width": ""
      }
     },
     "5f4b47705efe443782bab8e1e4a48f07": {
      "model_module": "@jupyter-widgets/controls",
      "model_module_version": "1.0.0",
      "model_name": "DescriptionStyleModel",
      "state": {
       "description_width": ""
      }
     },
     "5fc4f78782bc47ab9b971ec61f30fe70": {
      "model_module": "@jupyter-widgets/controls",
      "model_module_version": "1.0.0",
      "model_name": "ButtonStyleModel",
      "state": {}
     },
     "5fc7f3c9e4004cb3ba2e805c410b5823": {
      "model_module": "@jupyter-widgets/controls",
      "model_module_version": "1.0.0",
      "model_name": "SliderStyleModel",
      "state": {
       "description_width": ""
      }
     },
     "608a4c6d4edd4c8aaeea0218409de74b": {
      "model_module": "@jupyter-widgets/controls",
      "model_module_version": "1.0.0",
      "model_name": "SelectModel",
      "state": {
       "_options_labels": [
        "Test",
        "Train"
       ],
       "description": "Dataset:",
       "index": 1,
       "layout": "IPY_MODEL_4da2f66b389d487bbf99499884de5ac1",
       "rows": 1,
       "style": "IPY_MODEL_81d43484331449629a7d22f81f683663"
      }
     },
     "60f4068737ee43ae97edb0d5e7468a40": {
      "model_module": "@jupyter-widgets/controls",
      "model_module_version": "1.0.0",
      "model_name": "ButtonModel",
      "state": {
       "icon": "fast-backward",
       "layout": "IPY_MODEL_da985cc80e2547b69b94fc92b83bae94",
       "style": "IPY_MODEL_e8ef1d86c4964bdea8f4d73cf639bb43"
      }
     },
     "6135bf2397cd471ca439a9aaf874b8a7": {
      "model_module": "@jupyter-widgets/controls",
      "model_module_version": "1.0.0",
      "model_name": "ButtonModel",
      "state": {
       "icon": "forward",
       "layout": "IPY_MODEL_c4739426dc324c2580a9428d1757be87",
       "style": "IPY_MODEL_9c5090e8fa7147d594695cb3cc0bb027"
      }
     },
     "6303f1cd933c471c8505b0d9859fd23b": {
      "model_module": "@jupyter-widgets/controls",
      "model_module_version": "1.0.0",
      "model_name": "SliderStyleModel",
      "state": {
       "description_width": ""
      }
     },
     "63c6aae652d540c28e1a819669327e0e": {
      "model_module": "@jupyter-widgets/base",
      "model_module_version": "1.0.0",
      "model_name": "LayoutModel",
      "state": {
       "width": "100%"
      }
     },
     "63f25326a84b4b24a7b37027b3340426": {
      "model_module": "@jupyter-widgets/controls",
      "model_module_version": "1.0.0",
      "model_name": "HTMLModel",
      "state": {
       "layout": "IPY_MODEL_c2049cc85b1f4feb83d34cb4c0f42008",
       "style": "IPY_MODEL_bf4d6253d18d43719ee96b2cb14d5d9e",
       "value": "<iframe src=\"https://conx.readthedocs.io\" width=\"100%\" height=\"550px\"></frame>"
      }
     },
     "6420ba8e6a454d85984a95bd40c85219": {
      "model_module": "@jupyter-widgets/base",
      "model_module_version": "1.0.0",
      "model_name": "LayoutModel",
      "state": {
       "width": "100%"
      }
     },
     "6485f40e4d4b43699f22bad5f4098fa4": {
      "model_module": "@jupyter-widgets/controls",
      "model_module_version": "1.0.0",
      "model_name": "ButtonModel",
      "state": {
       "icon": "fast-backward",
       "layout": "IPY_MODEL_c10da94b69ff4b27ae42a40a327e05cc",
       "style": "IPY_MODEL_9221d0660f9240b5b8265ef0f039df51"
      }
     },
     "64b0018c7e984278bd5eecd69fda455e": {
      "model_module": "@jupyter-widgets/controls",
      "model_module_version": "1.0.0",
      "model_name": "VBoxModel",
      "state": {
       "children": [
        "IPY_MODEL_7611af78de9743458333e04c5bf459eb",
        "IPY_MODEL_06709219d44c482eae0347c62855dbe8"
       ],
       "layout": "IPY_MODEL_3aff94d6e6c24883ab5d3511262cf042"
      }
     },
     "64c424539c864fa98fffdb0cc90848e2": {
      "model_module": "@jupyter-widgets/controls",
      "model_module_version": "1.0.0",
      "model_name": "ButtonStyleModel",
      "state": {}
     },
     "652ba0c8e3924b708abdb80b9790bd86": {
      "model_module": "@jupyter-widgets/controls",
      "model_module_version": "1.0.0",
      "model_name": "ButtonModel",
      "state": {
       "description": "Train",
       "disabled": true,
       "layout": "IPY_MODEL_524a02fefe374d39acc22e7900a9832a",
       "style": "IPY_MODEL_edfe9e95e5774b5cb6a4c2478fa7970d"
      }
     },
     "659d0777f9104016a80d8be12bd053f1": {
      "model_module": "@jupyter-widgets/base",
      "model_module_version": "1.0.0",
      "model_name": "LayoutModel",
      "state": {
       "width": "100%"
      }
     },
     "65ad20fd393d4a5893588f5506546096": {
      "model_module": "@jupyter-widgets/controls",
      "model_module_version": "1.0.0",
      "model_name": "VBoxModel",
      "state": {
       "children": [
        "IPY_MODEL_0618f75a16054d0991e2e3ff3e7155b4",
        "IPY_MODEL_573068698da54fc0bb7b967b971e3e75",
        "IPY_MODEL_26f959a59dc14f59a70fe6aefff747da"
       ],
       "layout": "IPY_MODEL_c9689c4ea45f428daa0f5b8314528263"
      }
     },
     "65ed5403f1f644cd9267a6a8d7b12dad": {
      "model_module": "@jupyter-widgets/controls",
      "model_module_version": "1.0.0",
      "model_name": "HBoxModel",
      "state": {
       "children": [
        "IPY_MODEL_e7feae26c9c046249cf6c19b1be842f4",
        "IPY_MODEL_05873433c6b24837aa85426811527d5b",
        "IPY_MODEL_925e856d43c7449b849dd562c87d7147",
        "IPY_MODEL_0b14a14362284bf38b55fd63243fa19a",
        "IPY_MODEL_be9d51871e6344259cafe340b699bede"
       ],
       "layout": "IPY_MODEL_346dd63d6dd44f87beb13bd550ad51ee"
      }
     },
     "661a774dbb5b409db3d8a862e35f353c": {
      "model_module": "@jupyter-widgets/controls",
      "model_module_version": "1.0.0",
      "model_name": "ButtonStyleModel",
      "state": {}
     },
     "661d1b62d9fb46c5a9524608b806abc0": {
      "model_module": "@jupyter-widgets/controls",
      "model_module_version": "1.0.0",
      "model_name": "IntSliderModel",
      "state": {
       "continuous_update": false,
       "description": "Dataset index",
       "layout": "IPY_MODEL_951fd1ce2e0a4b0ea5cc337f478217e6",
       "max": 4,
       "style": "IPY_MODEL_90258d7babcc4ff9bf1808daae28dccc"
      }
     },
     "66214f1211b94574aa826db0f75b6807": {
      "model_module": "@jupyter-widgets/controls",
      "model_module_version": "1.0.0",
      "model_name": "ButtonStyleModel",
      "state": {}
     },
     "663391eae7a04f7aa0d6997927f1e52b": {
      "model_module": "@jupyter-widgets/controls",
      "model_module_version": "1.0.0",
      "model_name": "SliderStyleModel",
      "state": {
       "description_width": ""
      }
     },
     "665fbacce44546cf82a41ca40cd0bd20": {
      "model_module": "@jupyter-widgets/base",
      "model_module_version": "1.0.0",
      "model_name": "LayoutModel",
      "state": {
       "width": "100%"
      }
     },
     "66a579685fe7499a9ce40ccc58de84b5": {
      "model_module": "@jupyter-widgets/controls",
      "model_module_version": "1.0.0",
      "model_name": "ButtonStyleModel",
      "state": {}
     },
     "66e6f63f75e642d7b23200935e5c3891": {
      "model_module": "@jupyter-widgets/base",
      "model_module_version": "1.0.0",
      "model_name": "LayoutModel",
      "state": {
       "width": "100%"
      }
     },
     "6738aa3d55394159bf157db8242e2ffd": {
      "model_module": "@jupyter-widgets/base",
      "model_module_version": "1.0.0",
      "model_name": "LayoutModel",
      "state": {
       "width": "100%"
      }
     },
     "6750a4ea93f5463ea1b8d9a88ddc0eda": {
      "model_module": "@jupyter-widgets/base",
      "model_module_version": "1.0.0",
      "model_name": "LayoutModel",
      "state": {
       "width": "100%"
      }
     },
     "67841f87e4714772879de0cb943dbd17": {
      "model_module": "@jupyter-widgets/base",
      "model_module_version": "1.0.0",
      "model_name": "LayoutModel",
      "state": {
       "width": "100%"
      }
     },
     "67f58da9d81946898156b105e366bfe1": {
      "model_module": "@jupyter-widgets/controls",
      "model_module_version": "1.0.0",
      "model_name": "ButtonStyleModel",
      "state": {}
     },
     "68535d62993747eca2d47071f656d855": {
      "model_module": "@jupyter-widgets/base",
      "model_module_version": "1.0.0",
      "model_name": "LayoutModel",
      "state": {
       "height": "550px",
       "width": "100%"
      }
     },
     "68ed8027d07a4efc87bdaf6de9d91b5f": {
      "model_module": "@jupyter-widgets/base",
      "model_module_version": "1.0.0",
      "model_name": "LayoutModel",
      "state": {
       "width": "100%"
      }
     },
     "692b842aab5b4fadba2b25f414d70e29": {
      "model_module": "@jupyter-widgets/base",
      "model_module_version": "1.0.0",
      "model_name": "LayoutModel",
      "state": {}
     },
     "69395d2a746643cfb1153ed8380a0e2f": {
      "model_module": "@jupyter-widgets/base",
      "model_module_version": "1.0.0",
      "model_name": "LayoutModel",
      "state": {
       "height": "550px",
       "justify_content": "center",
       "overflow_x": "auto",
       "width": "95%"
      }
     },
     "69c86aef7fc644958ada7549024f75df": {
      "model_module": "@jupyter-widgets/controls",
      "model_module_version": "1.0.0",
      "model_name": "HTMLModel",
      "state": {
       "layout": "IPY_MODEL_90edd89f2c6140f8a4da84fceab6ecc6",
       "style": "IPY_MODEL_090747def03a4c54a885e156353c7042",
       "value": "<iframe src=\"https://conx.readthedocs.io\" width=\"100%\" height=\"550px\"></frame>"
      }
     },
     "6a114bde75ab4adcafbf830bdcb15a08": {
      "model_module": "@jupyter-widgets/base",
      "model_module_version": "1.0.0",
      "model_name": "LayoutModel",
      "state": {
       "height": "550px",
       "width": "95%"
      }
     },
     "6a62b1aa5531477d807be450835b6423": {
      "model_module": "@jupyter-widgets/controls",
      "model_module_version": "1.0.0",
      "model_name": "HTMLModel",
      "state": {
       "layout": "IPY_MODEL_f8b39073379f4784a0422da336328345",
       "style": "IPY_MODEL_770e19cc211245f99b49bffeaea5719d",
       "value": "<p style=\"text-align:center\"><svg id='Autoencoder' xmlns='http://www.w3.org/2000/svg' width=\"350\" height=\"235\" image-rendering=\"pixelated\">\n    <defs>\n        <marker id=\"arrow\" markerWidth=\"10\" markerHeight=\"10\" refX=\"9\" refY=\"3\" orient=\"auto\" markerUnits=\"strokeWidth\">\n          <path d=\"M0,0 L0,6 L9,3 z\" fill=\"black\" />\n        </marker>\n    </defs><text x=\"175.0\" y=\"12.5\" font-family=\"monospace\" font-size=\"15\" text-anchor=\"middle\" alignment-baseline=\"central\">Autoencoder</text><rect x=\"74.0\" y=\"29\" width=\"202\" height=\"42\" style=\"fill:none;stroke:black;stroke-width:2\"/><image id=\"Autoencoder_output_7\" class=\"Autoencoder_output\" x=\"75.0\" y=\"30\" height=\"40\" width=\"200\" preserveAspectRatio=\"none\" href=\"data:image/gif;base64,R0lGODdhBQABAIcAAP7+/QAAAAAAAAAAAAAAAAAAAAAAAAAAAAAAAAAAAAAAAAAAAAAAAAAAAAAAAAAAAAAAAAAAAAAAAAAAAAAAAAAAAAAAAAAAAAAAAAAAAAAAAAAAAAAAAAAAAAAAAAAAAAAAAAAAAAAAAAAAAAAAAAAAAAAAAAAAAAAAAAAAAAAAAAAAAAAAAAAAAAAAAAAAAAAAAAAAAAAAAAAAAAAAAAAAAAAAAAAAAAAAAAAAAAAAAAAAAAAAAAAAAAAAAAAAAAAAAAAAAAAAAAAAAAAAAAAAAAAAAAAAAAAAAAAAAAAAAAAAAAAAAAAAAAAAAAAAAAAAAAAAAAAAAAAAAAAAAAAAAAAAAAAAAAAAAAAAAAAAAAAAAAAAAAAAAAAAAAAAAAAAAAAAAAAAAAAAAAAAAAAAAAAAAAAAAAAAAAAAAAAAAAAAAAAAAAAAAAAAAAAAAAAAAAAAAAAAAAAAAAAAAAAAAAAAAAAAAAAAAAAAAAAAAAAAAAAAAAAAAAAAAAAAAAAAAAAAAAAAAAAAAAAAAAAAAAAAAAAAAAAAAAAAAAAAAAAAAAAAAAAAAAAAAAAAAAAAAAAAAAAAAAAAAAAAAAAAAAAAAAAAAAAAAAAAAAAAAAAAAAAAAAAAAAAAAAAAAAAAAAAAAAAAAAAAAAAAAAAAAAAAAAAAAAAAAAAAAAAAAAAAAAAAAAAAAAAAAAAAAAAAAAAAAAAAAAAAAAAAAAAAAAAAAAAAAAAAAAAAAAAAAAAAAAAAAAAAAAAAAAAAAAAAAAAAAAAAAAAAAAAAAAAAAAAAAAAAAAAAAAAAAAAAAAAAAAAAAAAAAAAAAAAAAAAAAAAAAAAAAAAAAAAAAAAAAAAAAAAAAAAAAAAAAAAAAAAAAAAAAAAAAAAAAAAAAAAAAAAAAAAAAAAAAAAAAAAAAAAAAAAAAAAAAAAAAAAAAAAAAAAAAAAAAAAAAAAAAAAAAAAAAAAAAAAAAAAAAAAAAAAAAAAAAAAAAAAAAAAAAAAAAAAAAAAAAAAAAAAAACwAAAAABQABAAAIBgABCBQYEAA7\"><title>Layer: output (output)\n shape = (5,)\n Keras class = Dense\n activation = sigmoid</title></image><text x=\"280.0\" y=\"52.0\" font-family=\"monospace\" font-size=\"12\" text-anchor=\"start\" alignment-baseline=\"central\">output</text><line x1=\"175.0\" y1=\"99\" x2=\"175.0\" y2=\"72\" stroke=\"black\" stroke-width=\"2\" marker-end=\"url(#arrow)\"><title>Weights from hidden to output\n output/kernel has shape (5, 5)\n output/bias has shape (5,)</title></line><rect x=\"74.0\" y=\"99\" width=\"202\" height=\"42\" style=\"fill:none;stroke:black;stroke-width:2\"/><image id=\"Autoencoder_hidden_8\" class=\"Autoencoder_hidden\" x=\"75.0\" y=\"100\" height=\"40\" width=\"200\" preserveAspectRatio=\"none\" href=\"data:image/gif;base64,R0lGODdhBQABAIcAAP7+/QAAAAAAAAAAAAAAAAAAAAAAAAAAAAAAAAAAAAAAAAAAAAAAAAAAAAAAAAAAAAAAAAAAAAAAAAAAAAAAAAAAAAAAAAAAAAAAAAAAAAAAAAAAAAAAAAAAAAAAAAAAAAAAAAAAAAAAAAAAAAAAAAAAAAAAAAAAAAAAAAAAAAAAAAAAAAAAAAAAAAAAAAAAAAAAAAAAAAAAAAAAAAAAAAAAAAAAAAAAAAAAAAAAAAAAAAAAAAAAAAAAAAAAAAAAAAAAAAAAAAAAAAAAAAAAAAAAAAAAAAAAAAAAAAAAAAAAAAAAAAAAAAAAAAAAAAAAAAAAAAAAAAAAAAAAAAAAAAAAAAAAAAAAAAAAAAAAAAAAAAAAAAAAAAAAAAAAAAAAAAAAAAAAAAAAAAAAAAAAAAAAAAAAAAAAAAAAAAAAAAAAAAAAAAAAAAAAAAAAAAAAAAAAAAAAAAAAAAAAAAAAAAAAAAAAAAAAAAAAAAAAAAAAAAAAAAAAAAAAAAAAAAAAAAAAAAAAAAAAAAAAAAAAAAAAAAAAAAAAAAAAAAAAAAAAAAAAAAAAAAAAAAAAAAAAAAAAAAAAAAAAAAAAAAAAAAAAAAAAAAAAAAAAAAAAAAAAAAAAAAAAAAAAAAAAAAAAAAAAAAAAAAAAAAAAAAAAAAAAAAAAAAAAAAAAAAAAAAAAAAAAAAAAAAAAAAAAAAAAAAAAAAAAAAAAAAAAAAAAAAAAAAAAAAAAAAAAAAAAAAAAAAAAAAAAAAAAAAAAAAAAAAAAAAAAAAAAAAAAAAAAAAAAAAAAAAAAAAAAAAAAAAAAAAAAAAAAAAAAAAAAAAAAAAAAAAAAAAAAAAAAAAAAAAAAAAAAAAAAAAAAAAAAAAAAAAAAAAAAAAAAAAAAAAAAAAAAAAAAAAAAAAAAAAAAAAAAAAAAAAAAAAAAAAAAAAAAAAAAAAAAAAAAAAAAAAAAAAAAAAAAAAAAAAAAAAAAAAAAAAAAAAAAAAAAAAAAAAAAAAAAAAAAAAAAAAAAAAAAACwAAAAABQABAAAIBgABCBQYEAA7\"><title>Layer: hidden (hidden)\n shape = (5,)\n Keras class = Dense\n activation = relu</title></image><text x=\"280.0\" y=\"122.0\" font-family=\"monospace\" font-size=\"12\" text-anchor=\"start\" alignment-baseline=\"central\">hidden</text><line x1=\"175.0\" y1=\"169\" x2=\"175.0\" y2=\"142\" stroke=\"black\" stroke-width=\"2\" marker-end=\"url(#arrow)\"><title>Weights from input to hidden\n hidden/kernel has shape (5, 5)\n hidden/bias has shape (5,)</title></line><rect x=\"74.0\" y=\"169\" width=\"202\" height=\"42\" style=\"fill:none;stroke:black;stroke-width:2\"/><image id=\"Autoencoder_input_9\" class=\"Autoencoder_input\" x=\"75.0\" y=\"170\" height=\"40\" width=\"200\" preserveAspectRatio=\"none\" href=\"data:image/gif;base64,R0lGODdhBQABAIcAAGcAHwAAAAAAAAAAAAAAAAAAAAAAAAAAAAAAAAAAAAAAAAAAAAAAAAAAAAAAAAAAAAAAAAAAAAAAAAAAAAAAAAAAAAAAAAAAAAAAAAAAAAAAAAAAAAAAAAAAAAAAAAAAAAAAAAAAAAAAAAAAAAAAAAAAAAAAAAAAAAAAAAAAAAAAAAAAAAAAAAAAAAAAAAAAAAAAAAAAAAAAAAAAAAAAAAAAAAAAAAAAAAAAAAAAAAAAAAAAAAAAAAAAAAAAAAAAAAAAAAAAAAAAAAAAAAAAAAAAAAAAAAAAAAAAAAAAAAAAAAAAAAAAAAAAAAAAAAAAAAAAAAAAAAAAAAAAAAAAAAAAAAAAAAAAAAAAAAAAAAAAAAAAAAAAAAAAAAAAAAAAAAAAAAAAAAAAAAAAAAAAAAAAAAAAAAAAAAAAAAAAAAAAAAAAAAAAAAAAAAAAAAAAAAAAAAAAAAAAAAAAAAAAAAAAAAAAAAAAAAAAAAAAAAAAAAAAAAAAAAAAAAAAAAAAAAAAAAAAAAAAAAAAAAAAAAAAAAAAAAAAAAAAAAAAAAAAAAAAAAAAAAAAAAAAAAAAAAAAAAAAAAAAAAAAAAAAAAAAAAAAAAAAAAAAAAAAAAAAAAAAAAAAAAAAAAAAAAAAAAAAAAAAAAAAAAAAAAAAAAAAAAAAAAAAAAAAAAAAAAAAAAAAAAAAAAAAAAAAAAAAAAAAAAAAAAAAAAAAAAAAAAAAAAAAAAAAAAAAAAAAAAAAAAAAAAAAAAAAAAAAAAAAAAAAAAAAAAAAAAAAAAAAAAAAAAAAAAAAAAAAAAAAAAAAAAAAAAAAAAAAAAAAAAAAAAAAAAAAAAAAAAAAAAAAAAAAAAAAAAAAAAAAAAAAAAAAAAAAAAAAAAAAAAAAAAAAAAAAAAAAAAAAAAAAAAAAAAAAAAAAAAAAAAAAAAAAAAAAAAAAAAAAAAAAAAAAAAAAAAAAAAAAAAAAAAAAAAAAAAAAAAAAAAAAAAAAAAAAAAAAAAAAAAAAAAAAAAAAAAAAACwAAAAABQABAAAIBgABCBQYEAA7\"><title>Layer: input (input)\n shape = (5,)\n Keras class = Input</title></image><text x=\"280.0\" y=\"192.0\" font-family=\"monospace\" font-size=\"12\" text-anchor=\"start\" alignment-baseline=\"central\">input</text></svg></p>"
      }
     },
     "6a8bb8d726544383911d9dc644b5d53b": {
      "model_module": "@jupyter-widgets/base",
      "model_module_version": "1.0.0",
      "model_name": "LayoutModel",
      "state": {
       "width": "100%"
      }
     },
     "6adb175e70944ea194ad15178e75ac48": {
      "model_module": "@jupyter-widgets/controls",
      "model_module_version": "1.0.0",
      "model_name": "HTMLModel",
      "state": {
       "layout": "IPY_MODEL_b505bc2c344242febcda25947be69bd4",
       "style": "IPY_MODEL_7b5a2acc81294f109875fffc19c6b7ec",
       "value": "<iframe src=\"https://conx.readthedocs.io\" width=\"100%\" height=\"550px\"></frame>"
      }
     },
     "6b386400b5c646728a06157fc71bdea3": {
      "model_module": "@jupyter-widgets/controls",
      "model_module_version": "1.0.0",
      "model_name": "ButtonModel",
      "state": {
       "icon": "forward",
       "layout": "IPY_MODEL_b4e0533d72374948a03a30c4061d1b74",
       "style": "IPY_MODEL_5aa23257ae7d4278b2a9adde887261a1"
      }
     },
     "6b55222ce48143bfa6c85e04a6716f04": {
      "model_module": "@jupyter-widgets/controls",
      "model_module_version": "1.0.0",
      "model_name": "ButtonStyleModel",
      "state": {}
     },
     "6c1dc69b16ef450a9ccb6114154b4ac4": {
      "model_module": "@jupyter-widgets/base",
      "model_module_version": "1.0.0",
      "model_name": "LayoutModel",
      "state": {}
     },
     "6c828f890cb0421c9b67f456454104b4": {
      "model_module": "@jupyter-widgets/controls",
      "model_module_version": "1.0.0",
      "model_name": "HTMLModel",
      "state": {
       "layout": "IPY_MODEL_cdd49923f21a4947a10eac7e672110c4",
       "style": "IPY_MODEL_c2666b9aedb7453c8bd1d40d18ff0228",
       "value": "<p style=\"text-align:center\"><svg id='Autoencoder' xmlns='http://www.w3.org/2000/svg' width=\"350\" height=\"235\" image-rendering=\"pixelated\">\n    <defs>\n        <marker id=\"arrow\" markerWidth=\"10\" markerHeight=\"10\" refX=\"9\" refY=\"3\" orient=\"auto\" markerUnits=\"strokeWidth\">\n          <path d=\"M0,0 L0,6 L9,3 z\" fill=\"black\" />\n        </marker>\n    </defs><text x=\"175.0\" y=\"12.5\" font-family=\"monospace\" font-size=\"15\" text-anchor=\"middle\" alignment-baseline=\"central\">Autoencoder</text><rect x=\"74.0\" y=\"29\" width=\"202\" height=\"42\" style=\"fill:none;stroke:black;stroke-width:2\"/><image id=\"Autoencoder_output_7\" class=\"Autoencoder_output\" x=\"75.0\" y=\"30\" height=\"40\" width=\"200\" preserveAspectRatio=\"none\" href=\"data:image/gif;base64,R0lGODdhBQABAIcAAHIDIHt7e5MOJs5RRgAAAAAAAAAAAAAAAAAAAAAAAAAAAAAAAAAAAAAAAAAAAAAAAAAAAAAAAAAAAAAAAAAAAAAAAAAAAAAAAAAAAAAAAAAAAAAAAAAAAAAAAAAAAAAAAAAAAAAAAAAAAAAAAAAAAAAAAAAAAAAAAAAAAAAAAAAAAAAAAAAAAAAAAAAAAAAAAAAAAAAAAAAAAAAAAAAAAAAAAAAAAAAAAAAAAAAAAAAAAAAAAAAAAAAAAAAAAAAAAAAAAAAAAAAAAAAAAAAAAAAAAAAAAAAAAAAAAAAAAAAAAAAAAAAAAAAAAAAAAAAAAAAAAAAAAAAAAAAAAAAAAAAAAAAAAAAAAAAAAAAAAAAAAAAAAAAAAAAAAAAAAAAAAAAAAAAAAAAAAAAAAAAAAAAAAAAAAAAAAAAAAAAAAAAAAAAAAAAAAAAAAAAAAAAAAAAAAAAAAAAAAAAAAAAAAAAAAAAAAAAAAAAAAAAAAAAAAAAAAAAAAAAAAAAAAAAAAAAAAAAAAAAAAAAAAAAAAAAAAAAAAAAAAAAAAAAAAAAAAAAAAAAAAAAAAAAAAAAAAAAAAAAAAAAAAAAAAAAAAAAAAAAAAAAAAAAAAAAAAAAAAAAAAAAAAAAAAAAAAAAAAAAAAAAAAAAAAAAAAAAAAAAAAAAAAAAAAAAAAAAAAAAAAAAAAAAAAAAAAAAAAAAAAAAAAAAAAAAAAAAAAAAAAAAAAAAAAAAAAAAAAAAAAAAAAAAAAAAAAAAAAAAAAAAAAAAAAAAAAAAAAAAAAAAAAAAAAAAAAAAAAAAAAAAAAAAAAAAAAAAAAAAAAAAAAAAAAAAAAAAAAAAAAAAAAAAAAAAAAAAAAAAAAAAAAAAAAAAAAAAAAAAAAAAAAAAAAAAAAAAAAAAAAAAAAAAAAAAAAAAAAAAAAAAAAAAAAAAAAAAAAAAAAAAAAAAAAAAAAAAAAAAAAAAAAAAAAAAAAAAAAAAAAAAAAAAAAAAAAAAAAAAAAAAAAAAAAAAAAAAAAAAAACwAAAAABQABAAAICAADDAAAQEBAADs=\"><title>Layer: output (output)\n shape = (5,)\n Keras class = Dense\n activation = sigmoid</title></image><text x=\"280.0\" y=\"52.0\" font-family=\"monospace\" font-size=\"12\" text-anchor=\"start\" alignment-baseline=\"central\">output</text><line x1=\"175.0\" y1=\"99\" x2=\"175.0\" y2=\"72\" stroke=\"black\" stroke-width=\"2\" marker-end=\"url(#arrow)\"><title>Weights from hidden to output\n output/kernel has shape (5, 5)\n output/bias has shape (5,)</title></line><rect x=\"74.0\" y=\"99\" width=\"202\" height=\"42\" style=\"fill:none;stroke:black;stroke-width:2\"/><image id=\"Autoencoder_hidden_8\" class=\"Autoencoder_hidden\" x=\"75.0\" y=\"100\" height=\"40\" width=\"200\" preserveAspectRatio=\"none\" href=\"data:image/gif;base64,R0lGODdhBQABAIcAAGcAHxoaGsM7OwAAAAAAAAAAAAAAAAAAAAAAAAAAAAAAAAAAAAAAAAAAAAAAAAAAAAAAAAAAAAAAAAAAAAAAAAAAAAAAAAAAAAAAAAAAAAAAAAAAAAAAAAAAAAAAAAAAAAAAAAAAAAAAAAAAAAAAAAAAAAAAAAAAAAAAAAAAAAAAAAAAAAAAAAAAAAAAAAAAAAAAAAAAAAAAAAAAAAAAAAAAAAAAAAAAAAAAAAAAAAAAAAAAAAAAAAAAAAAAAAAAAAAAAAAAAAAAAAAAAAAAAAAAAAAAAAAAAAAAAAAAAAAAAAAAAAAAAAAAAAAAAAAAAAAAAAAAAAAAAAAAAAAAAAAAAAAAAAAAAAAAAAAAAAAAAAAAAAAAAAAAAAAAAAAAAAAAAAAAAAAAAAAAAAAAAAAAAAAAAAAAAAAAAAAAAAAAAAAAAAAAAAAAAAAAAAAAAAAAAAAAAAAAAAAAAAAAAAAAAAAAAAAAAAAAAAAAAAAAAAAAAAAAAAAAAAAAAAAAAAAAAAAAAAAAAAAAAAAAAAAAAAAAAAAAAAAAAAAAAAAAAAAAAAAAAAAAAAAAAAAAAAAAAAAAAAAAAAAAAAAAAAAAAAAAAAAAAAAAAAAAAAAAAAAAAAAAAAAAAAAAAAAAAAAAAAAAAAAAAAAAAAAAAAAAAAAAAAAAAAAAAAAAAAAAAAAAAAAAAAAAAAAAAAAAAAAAAAAAAAAAAAAAAAAAAAAAAAAAAAAAAAAAAAAAAAAAAAAAAAAAAAAAAAAAAAAAAAAAAAAAAAAAAAAAAAAAAAAAAAAAAAAAAAAAAAAAAAAAAAAAAAAAAAAAAAAAAAAAAAAAAAAAAAAAAAAAAAAAAAAAAAAAAAAAAAAAAAAAAAAAAAAAAAAAAAAAAAAAAAAAAAAAAAAAAAAAAAAAAAAAAAAAAAAAAAAAAAAAAAAAAAAAAAAAAAAAAAAAAAAAAAAAAAAAAAAAAAAAAAAAAAAAAAAAAAAAAAAAAAAAAAAAAAAAAAAAAAAAAAAAAAAAAAAAACwAAAAABQABAAAICAABABAQAEBAADs=\"><title>Layer: hidden (hidden)\n shape = (5,)\n Keras class = Dense\n activation = relu</title></image><text x=\"280.0\" y=\"122.0\" font-family=\"monospace\" font-size=\"12\" text-anchor=\"start\" alignment-baseline=\"central\">hidden</text><line x1=\"175.0\" y1=\"169\" x2=\"175.0\" y2=\"142\" stroke=\"black\" stroke-width=\"2\" marker-end=\"url(#arrow)\"><title>Weights from input to hidden\n hidden/kernel has shape (5, 5)\n hidden/bias has shape (5,)</title></line><rect x=\"74.0\" y=\"169\" width=\"202\" height=\"42\" style=\"fill:none;stroke:black;stroke-width:2\"/><image id=\"Autoencoder_input_9\" class=\"Autoencoder_input\" x=\"75.0\" y=\"170\" height=\"40\" width=\"200\" preserveAspectRatio=\"none\" href=\"data:image/gif;base64,R0lGODdhBQABAIcAAGcAHxoaGgAAAAAAAAAAAAAAAAAAAAAAAAAAAAAAAAAAAAAAAAAAAAAAAAAAAAAAAAAAAAAAAAAAAAAAAAAAAAAAAAAAAAAAAAAAAAAAAAAAAAAAAAAAAAAAAAAAAAAAAAAAAAAAAAAAAAAAAAAAAAAAAAAAAAAAAAAAAAAAAAAAAAAAAAAAAAAAAAAAAAAAAAAAAAAAAAAAAAAAAAAAAAAAAAAAAAAAAAAAAAAAAAAAAAAAAAAAAAAAAAAAAAAAAAAAAAAAAAAAAAAAAAAAAAAAAAAAAAAAAAAAAAAAAAAAAAAAAAAAAAAAAAAAAAAAAAAAAAAAAAAAAAAAAAAAAAAAAAAAAAAAAAAAAAAAAAAAAAAAAAAAAAAAAAAAAAAAAAAAAAAAAAAAAAAAAAAAAAAAAAAAAAAAAAAAAAAAAAAAAAAAAAAAAAAAAAAAAAAAAAAAAAAAAAAAAAAAAAAAAAAAAAAAAAAAAAAAAAAAAAAAAAAAAAAAAAAAAAAAAAAAAAAAAAAAAAAAAAAAAAAAAAAAAAAAAAAAAAAAAAAAAAAAAAAAAAAAAAAAAAAAAAAAAAAAAAAAAAAAAAAAAAAAAAAAAAAAAAAAAAAAAAAAAAAAAAAAAAAAAAAAAAAAAAAAAAAAAAAAAAAAAAAAAAAAAAAAAAAAAAAAAAAAAAAAAAAAAAAAAAAAAAAAAAAAAAAAAAAAAAAAAAAAAAAAAAAAAAAAAAAAAAAAAAAAAAAAAAAAAAAAAAAAAAAAAAAAAAAAAAAAAAAAAAAAAAAAAAAAAAAAAAAAAAAAAAAAAAAAAAAAAAAAAAAAAAAAAAAAAAAAAAAAAAAAAAAAAAAAAAAAAAAAAAAAAAAAAAAAAAAAAAAAAAAAAAAAAAAAAAAAAAAAAAAAAAAAAAAAAAAAAAAAAAAAAAAAAAAAAAAAAAAAAAAAAAAAAAAAAAAAAAAAAAAAAAAAAAAAAAAAAAAAAAAAAAAAAAAAAAAAAAAAAAAAAAAAAAAAAAAAAAAAAAAAAAAAACwAAAAABQABAAAIBwADABgIICAAOw==\"><title>Layer: input (input)\n shape = (5,)\n Keras class = Input</title></image><text x=\"280.0\" y=\"192.0\" font-family=\"monospace\" font-size=\"12\" text-anchor=\"start\" alignment-baseline=\"central\">input</text></svg></p>"
      }
     },
     "6cd465215609431682c4ac8b85c2c47c": {
      "model_module": "@jupyter-widgets/base",
      "model_module_version": "1.0.0",
      "model_name": "LayoutModel",
      "state": {
       "height": "550px",
       "width": "100%"
      }
     },
     "6d5411bbdc6e41e6a8588fd9505829b5": {
      "model_module": "@jupyter-widgets/base",
      "model_module_version": "1.0.0",
      "model_name": "LayoutModel",
      "state": {}
     },
     "6df1997a5c6a4abc8bee76378bfa2623": {
      "model_module": "@jupyter-widgets/controls",
      "model_module_version": "1.0.0",
      "model_name": "IntSliderModel",
      "state": {
       "continuous_update": false,
       "description": "Dataset index",
       "layout": "IPY_MODEL_bbe3b4d966ed4917987c061c4eb54c7e",
       "max": 4,
       "style": "IPY_MODEL_5fc7f3c9e4004cb3ba2e805c410b5823",
       "value": 2
      }
     },
     "6e5eb337fb634c229d516c18c01e6612": {
      "model_module": "@jupyter-widgets/controls",
      "model_module_version": "1.0.0",
      "model_name": "TabModel",
      "state": {
       "_titles": {
        "0": "Network",
        "1": "Help"
       },
       "children": [
        "IPY_MODEL_8f224ca8fe3b4f7e9c3bf3cdd9ce3c52",
        "IPY_MODEL_3318ac5cdba443008d5ab20123d730dd"
       ],
       "layout": "IPY_MODEL_1321e55327914b8cb10871cf045b8842"
      }
     },
     "6e74bf895b924462ae10e0196fa847f1": {
      "model_module": "@jupyter-widgets/controls",
      "model_module_version": "1.0.0",
      "model_name": "VBoxModel",
      "state": {
       "children": [
        "IPY_MODEL_891429df0dea4d57a5c56dff4de536fc",
        "IPY_MODEL_57fc04d3da704844a1cbad6ea89fb17a",
        "IPY_MODEL_9bbcde93237548eab19e89c5003c0e29"
       ],
       "layout": "IPY_MODEL_256235a1600e47f883f5f3376a5edc1b"
      }
     },
     "6e8ec78595604ba59bca34380c4b759c": {
      "model_module": "@jupyter-widgets/base",
      "model_module_version": "1.0.0",
      "model_name": "LayoutModel",
      "state": {
       "width": "100%"
      }
     },
     "6f30c899773741ca8c91e4af5ede46ca": {
      "model_module": "@jupyter-widgets/controls",
      "model_module_version": "1.0.0",
      "model_name": "ButtonStyleModel",
      "state": {}
     },
     "6f7053a8cca04c69b3cbfc470944e51a": {
      "model_module": "@jupyter-widgets/controls",
      "model_module_version": "1.0.0",
      "model_name": "ButtonModel",
      "state": {
       "icon": "fast-forward",
       "layout": "IPY_MODEL_2c07fbf37501432393d12c8b0b43530d",
       "style": "IPY_MODEL_9a1203e782844fddb065709496e2f9de"
      }
     },
     "6f829f4b8fe34199b9d75af9ef833084": {
      "model_module": "@jupyter-widgets/base",
      "model_module_version": "1.0.0",
      "model_name": "LayoutModel",
      "state": {
       "height": "550px",
       "width": "95%"
      }
     },
     "7003fb9b1ad5485a9431bcdf1a27fb44": {
      "model_module": "@jupyter-widgets/base",
      "model_module_version": "1.0.0",
      "model_name": "LayoutModel",
      "state": {}
     },
     "7053825bbb354582874dda58201fc647": {
      "model_module": "@jupyter-widgets/base",
      "model_module_version": "1.0.0",
      "model_name": "LayoutModel",
      "state": {
       "width": "100%"
      }
     },
     "7087f493c34a4524b27c5c7ebb202490": {
      "model_module": "@jupyter-widgets/controls",
      "model_module_version": "1.0.0",
      "model_name": "ButtonModel",
      "state": {
       "icon": "backward",
       "layout": "IPY_MODEL_52e720262fd4429088db80cc47287526",
       "style": "IPY_MODEL_497f0cac5d30455286dbac544b460842"
      }
     },
     "70d21cca1a904fb289be1c36b0e78ebb": {
      "model_module": "@jupyter-widgets/controls",
      "model_module_version": "1.0.0",
      "model_name": "SliderStyleModel",
      "state": {
       "description_width": ""
      }
     },
     "712255a9ad3f42b9b74745c39111af3a": {
      "model_module": "@jupyter-widgets/base",
      "model_module_version": "1.0.0",
      "model_name": "LayoutModel",
      "state": {}
     },
     "715e33074e5a48f7947ac9f1c15d377e": {
      "model_module": "@jupyter-widgets/controls",
      "model_module_version": "1.0.0",
      "model_name": "TabModel",
      "state": {
       "_titles": {
        "0": "Network",
        "1": "Help"
       },
       "children": [
        "IPY_MODEL_0275732be13646c1922b63138da43763",
        "IPY_MODEL_34a2657a54de464fb5209e3f4d7db530"
       ],
       "layout": "IPY_MODEL_beeef6232ab145f7956fd07d0c54975d"
      }
     },
     "71acb5be24a7421c99e52a02b4bf496c": {
      "model_module": "@jupyter-widgets/controls",
      "model_module_version": "1.0.0",
      "model_name": "ButtonModel",
      "state": {
       "icon": "fast-forward",
       "layout": "IPY_MODEL_b737156e93c04d0eb9f37363671c33cc",
       "style": "IPY_MODEL_44a2f1a4e4b04edea83da6f827c3a19f"
      }
     },
     "71ba846475e34d09917890b0167c4780": {
      "model_module": "@jupyter-widgets/controls",
      "model_module_version": "1.0.0",
      "model_name": "SelectModel",
      "state": {
       "_options_labels": [
        "Test",
        "Train"
       ],
       "description": "Dataset:",
       "index": 1,
       "layout": "IPY_MODEL_8ec810648d7b474cb374daa7cfac89cb",
       "style": "IPY_MODEL_3760b4104eb04520a29a7eae7966a307"
      }
     },
     "72417f8c99c749aa91b8a6b9b4beb593": {
      "model_module": "@jupyter-widgets/base",
      "model_module_version": "1.0.0",
      "model_name": "LayoutModel",
      "state": {
       "width": "100%"
      }
     },
     "72a51f0a0b4b40f9afebc9a7ecbe5774": {
      "model_module": "@jupyter-widgets/controls",
      "model_module_version": "1.0.0",
      "model_name": "HBoxModel",
      "state": {
       "children": [
        "IPY_MODEL_f63726f60f63445291897e7b0722eb33",
        "IPY_MODEL_c88852ec673e4f8a88cceaa62de705b1",
        "IPY_MODEL_e8f12a346fa04a299c41f638471ea932",
        "IPY_MODEL_596d62c1a5ca42f69261a392b4ef39fb",
        "IPY_MODEL_6f7053a8cca04c69b3cbfc470944e51a"
       ],
       "layout": "IPY_MODEL_7d67c6b308c342d99e0695a7058989d8"
      }
     },
     "72d71fdb62394108a10f6a3ddb56f490": {
      "model_module": "@jupyter-widgets/controls",
      "model_module_version": "1.0.0",
      "model_name": "HTMLModel",
      "state": {
       "layout": "IPY_MODEL_6cd465215609431682c4ac8b85c2c47c",
       "style": "IPY_MODEL_0a12a781b241472c9d4345da26ac778a",
       "value": "<iframe src=\"https://conx.readthedocs.io\" width=\"100%\" height=\"550px\"></frame>"
      }
     },
     "72ee4a025b6d409b99decb7e14a71d81": {
      "model_module": "@jupyter-widgets/controls",
      "model_module_version": "1.0.0",
      "model_name": "ButtonStyleModel",
      "state": {}
     },
     "73e1beb594b24d75bb178644eab36ab8": {
      "model_module": "@jupyter-widgets/controls",
      "model_module_version": "1.0.0",
      "model_name": "ButtonStyleModel",
      "state": {}
     },
     "74119cb41d3a4b5cbc813e8a6d3be553": {
      "model_module": "@jupyter-widgets/base",
      "model_module_version": "1.0.0",
      "model_name": "LayoutModel",
      "state": {
       "width": "100%"
      }
     },
     "74332709a1ab495d8e74ac500e414527": {
      "model_module": "@jupyter-widgets/controls",
      "model_module_version": "1.0.0",
      "model_name": "ButtonModel",
      "state": {
       "description": "Train",
       "disabled": true,
       "layout": "IPY_MODEL_964091e602394ab7aa2e1d855231937f",
       "style": "IPY_MODEL_fa17f701e9b24e30b773f6b7ecc07479"
      }
     },
     "7457dd3bc68e4995a9958752c3fd9403": {
      "model_module": "@jupyter-widgets/controls",
      "model_module_version": "1.0.0",
      "model_name": "DescriptionStyleModel",
      "state": {
       "description_width": ""
      }
     },
     "745b859e10934a86bde6a02252c5e2a8": {
      "model_module": "@jupyter-widgets/base",
      "model_module_version": "1.0.0",
      "model_name": "LayoutModel",
      "state": {}
     },
     "74686c66aa0f40c7b3fb2c8eba0d58ce": {
      "model_module": "@jupyter-widgets/controls",
      "model_module_version": "1.0.0",
      "model_name": "SliderStyleModel",
      "state": {
       "description_width": ""
      }
     },
     "74d3758b5f304242b5cef7303abec782": {
      "model_module": "@jupyter-widgets/controls",
      "model_module_version": "1.0.0",
      "model_name": "ButtonModel",
      "state": {
       "icon": "fast-forward",
       "layout": "IPY_MODEL_f64890dd119646f5b722aced813558e8",
       "style": "IPY_MODEL_857076fd0c6d496d97cc092593729d2a"
      }
     },
     "75921e4da5b148679132ba6cb1dea5b1": {
      "model_module": "@jupyter-widgets/controls",
      "model_module_version": "1.0.0",
      "model_name": "SelectModel",
      "state": {
       "_options_labels": [
        "Test",
        "Train"
       ],
       "description": "Dataset:",
       "index": 1,
       "layout": "IPY_MODEL_85f4e1d5b79844049b7c982fbfb2a43c",
       "rows": 1,
       "style": "IPY_MODEL_39f2196e397e469f978dc8aa86b8407f"
      }
     },
     "7606e9df4bbd4b109f356b7a7fd06293": {
      "model_module": "@jupyter-widgets/base",
      "model_module_version": "1.0.0",
      "model_name": "LayoutModel",
      "state": {
       "height": "550px",
       "width": "100%"
      }
     },
     "760f54c09e3649f9a96cb6879b311a2d": {
      "model_module": "@jupyter-widgets/base",
      "model_module_version": "1.0.0",
      "model_name": "LayoutModel",
      "state": {
       "width": "100%"
      }
     },
     "7611af78de9743458333e04c5bf459eb": {
      "model_module": "@jupyter-widgets/controls",
      "model_module_version": "1.0.0",
      "model_name": "HTMLModel",
      "state": {
       "layout": "IPY_MODEL_2e5c7f2905b04a18abb22b211c09da18",
       "style": "IPY_MODEL_b6bf6ffe420b4ec3b8613fecce89b6c4",
       "value": "<p style=\"text-align:center\"><svg id='Autoencoder' xmlns='http://www.w3.org/2000/svg' width=\"350\" height=\"235\" image-rendering=\"pixelated\">\n    <defs>\n        <marker id=\"arrow\" markerWidth=\"10\" markerHeight=\"10\" refX=\"9\" refY=\"3\" orient=\"auto\" markerUnits=\"strokeWidth\">\n          <path d=\"M0,0 L0,6 L9,3 z\" fill=\"black\" />\n        </marker>\n    </defs><text x=\"175.0\" y=\"12.5\" font-family=\"monospace\" font-size=\"15\" text-anchor=\"middle\" alignment-baseline=\"central\">Autoencoder</text><rect x=\"74.0\" y=\"29\" width=\"202\" height=\"42\" style=\"fill:none;stroke:black;stroke-width:2\"/><image id=\"Autoencoder_output_7\" class=\"Autoencoder_output\" x=\"75.0\" y=\"30\" height=\"40\" width=\"200\" preserveAspectRatio=\"none\" href=\"data:image/gif;base64,R0lGODdhBQABAIcAAGcAH4cKJK2tre+begAAAAAAAAAAAAAAAAAAAAAAAAAAAAAAAAAAAAAAAAAAAAAAAAAAAAAAAAAAAAAAAAAAAAAAAAAAAAAAAAAAAAAAAAAAAAAAAAAAAAAAAAAAAAAAAAAAAAAAAAAAAAAAAAAAAAAAAAAAAAAAAAAAAAAAAAAAAAAAAAAAAAAAAAAAAAAAAAAAAAAAAAAAAAAAAAAAAAAAAAAAAAAAAAAAAAAAAAAAAAAAAAAAAAAAAAAAAAAAAAAAAAAAAAAAAAAAAAAAAAAAAAAAAAAAAAAAAAAAAAAAAAAAAAAAAAAAAAAAAAAAAAAAAAAAAAAAAAAAAAAAAAAAAAAAAAAAAAAAAAAAAAAAAAAAAAAAAAAAAAAAAAAAAAAAAAAAAAAAAAAAAAAAAAAAAAAAAAAAAAAAAAAAAAAAAAAAAAAAAAAAAAAAAAAAAAAAAAAAAAAAAAAAAAAAAAAAAAAAAAAAAAAAAAAAAAAAAAAAAAAAAAAAAAAAAAAAAAAAAAAAAAAAAAAAAAAAAAAAAAAAAAAAAAAAAAAAAAAAAAAAAAAAAAAAAAAAAAAAAAAAAAAAAAAAAAAAAAAAAAAAAAAAAAAAAAAAAAAAAAAAAAAAAAAAAAAAAAAAAAAAAAAAAAAAAAAAAAAAAAAAAAAAAAAAAAAAAAAAAAAAAAAAAAAAAAAAAAAAAAAAAAAAAAAAAAAAAAAAAAAAAAAAAAAAAAAAAAAAAAAAAAAAAAAAAAAAAAAAAAAAAAAAAAAAAAAAAAAAAAAAAAAAAAAAAAAAAAAAAAAAAAAAAAAAAAAAAAAAAAAAAAAAAAAAAAAAAAAAAAAAAAAAAAAAAAAAAAAAAAAAAAAAAAAAAAAAAAAAAAAAAAAAAAAAAAAAAAAAAAAAAAAAAAAAAAAAAAAAAAAAAAAAAAAAAAAAAAAAAAAAAAAAAAAAAAAAAAAAAAAAAAAAAAAAAAAAAAAAAAAAAAAAAAAAAAAAAAAAAAAAAAAAAAAAAAAAAAAAAAAAAAAAACwAAAAABQABAAAICAAFAAgwAEBAADs=\"><title>Layer: output (output)\n shape = (5,)\n Keras class = Dense\n activation = sigmoid</title></image><text x=\"280.0\" y=\"52.0\" font-family=\"monospace\" font-size=\"12\" text-anchor=\"start\" alignment-baseline=\"central\">output</text><line x1=\"175.0\" y1=\"99\" x2=\"175.0\" y2=\"72\" stroke=\"black\" stroke-width=\"2\" marker-end=\"url(#arrow)\"><title>Weights from hidden to output\n output/kernel has shape (5, 5)\n output/bias has shape (5,)</title></line><rect x=\"74.0\" y=\"99\" width=\"202\" height=\"42\" style=\"fill:none;stroke:black;stroke-width:2\"/><image id=\"Autoencoder_hidden_8\" class=\"Autoencoder_hidden\" x=\"75.0\" y=\"100\" height=\"40\" width=\"200\" preserveAspectRatio=\"none\" href=\"data:image/gif;base64,R0lGODdhBQABAIcAAGcAHxoaGlRUVJGRkQAAAAAAAAAAAAAAAAAAAAAAAAAAAAAAAAAAAAAAAAAAAAAAAAAAAAAAAAAAAAAAAAAAAAAAAAAAAAAAAAAAAAAAAAAAAAAAAAAAAAAAAAAAAAAAAAAAAAAAAAAAAAAAAAAAAAAAAAAAAAAAAAAAAAAAAAAAAAAAAAAAAAAAAAAAAAAAAAAAAAAAAAAAAAAAAAAAAAAAAAAAAAAAAAAAAAAAAAAAAAAAAAAAAAAAAAAAAAAAAAAAAAAAAAAAAAAAAAAAAAAAAAAAAAAAAAAAAAAAAAAAAAAAAAAAAAAAAAAAAAAAAAAAAAAAAAAAAAAAAAAAAAAAAAAAAAAAAAAAAAAAAAAAAAAAAAAAAAAAAAAAAAAAAAAAAAAAAAAAAAAAAAAAAAAAAAAAAAAAAAAAAAAAAAAAAAAAAAAAAAAAAAAAAAAAAAAAAAAAAAAAAAAAAAAAAAAAAAAAAAAAAAAAAAAAAAAAAAAAAAAAAAAAAAAAAAAAAAAAAAAAAAAAAAAAAAAAAAAAAAAAAAAAAAAAAAAAAAAAAAAAAAAAAAAAAAAAAAAAAAAAAAAAAAAAAAAAAAAAAAAAAAAAAAAAAAAAAAAAAAAAAAAAAAAAAAAAAAAAAAAAAAAAAAAAAAAAAAAAAAAAAAAAAAAAAAAAAAAAAAAAAAAAAAAAAAAAAAAAAAAAAAAAAAAAAAAAAAAAAAAAAAAAAAAAAAAAAAAAAAAAAAAAAAAAAAAAAAAAAAAAAAAAAAAAAAAAAAAAAAAAAAAAAAAAAAAAAAAAAAAAAAAAAAAAAAAAAAAAAAAAAAAAAAAAAAAAAAAAAAAAAAAAAAAAAAAAAAAAAAAAAAAAAAAAAAAAAAAAAAAAAAAAAAAAAAAAAAAAAAAAAAAAAAAAAAAAAAAAAAAAAAAAAAAAAAAAAAAAAAAAAAAAAAAAAAAAAAAAAAAAAAAAAAAAAAAAAAAAAAAAAAAAAAAAAAAAAAAAAAAAAAAAAAAAAAAAAAAAAAAAAAAAACwAAAAABQABAAAICAABBBAwAEBAADs=\"><title>Layer: hidden (hidden)\n shape = (5,)\n Keras class = Dense\n activation = relu</title></image><text x=\"280.0\" y=\"122.0\" font-family=\"monospace\" font-size=\"12\" text-anchor=\"start\" alignment-baseline=\"central\">hidden</text><line x1=\"175.0\" y1=\"169\" x2=\"175.0\" y2=\"142\" stroke=\"black\" stroke-width=\"2\" marker-end=\"url(#arrow)\"><title>Weights from input to hidden\n hidden/kernel has shape (5, 5)\n hidden/bias has shape (5,)</title></line><rect x=\"74.0\" y=\"169\" width=\"202\" height=\"42\" style=\"fill:none;stroke:black;stroke-width:2\"/><image id=\"Autoencoder_input_9\" class=\"Autoencoder_input\" x=\"75.0\" y=\"170\" height=\"40\" width=\"200\" preserveAspectRatio=\"none\" href=\"data:image/gif;base64,R0lGODdhBQABAIcAAGcAHxoaGgAAAAAAAAAAAAAAAAAAAAAAAAAAAAAAAAAAAAAAAAAAAAAAAAAAAAAAAAAAAAAAAAAAAAAAAAAAAAAAAAAAAAAAAAAAAAAAAAAAAAAAAAAAAAAAAAAAAAAAAAAAAAAAAAAAAAAAAAAAAAAAAAAAAAAAAAAAAAAAAAAAAAAAAAAAAAAAAAAAAAAAAAAAAAAAAAAAAAAAAAAAAAAAAAAAAAAAAAAAAAAAAAAAAAAAAAAAAAAAAAAAAAAAAAAAAAAAAAAAAAAAAAAAAAAAAAAAAAAAAAAAAAAAAAAAAAAAAAAAAAAAAAAAAAAAAAAAAAAAAAAAAAAAAAAAAAAAAAAAAAAAAAAAAAAAAAAAAAAAAAAAAAAAAAAAAAAAAAAAAAAAAAAAAAAAAAAAAAAAAAAAAAAAAAAAAAAAAAAAAAAAAAAAAAAAAAAAAAAAAAAAAAAAAAAAAAAAAAAAAAAAAAAAAAAAAAAAAAAAAAAAAAAAAAAAAAAAAAAAAAAAAAAAAAAAAAAAAAAAAAAAAAAAAAAAAAAAAAAAAAAAAAAAAAAAAAAAAAAAAAAAAAAAAAAAAAAAAAAAAAAAAAAAAAAAAAAAAAAAAAAAAAAAAAAAAAAAAAAAAAAAAAAAAAAAAAAAAAAAAAAAAAAAAAAAAAAAAAAAAAAAAAAAAAAAAAAAAAAAAAAAAAAAAAAAAAAAAAAAAAAAAAAAAAAAAAAAAAAAAAAAAAAAAAAAAAAAAAAAAAAAAAAAAAAAAAAAAAAAAAAAAAAAAAAAAAAAAAAAAAAAAAAAAAAAAAAAAAAAAAAAAAAAAAAAAAAAAAAAAAAAAAAAAAAAAAAAAAAAAAAAAAAAAAAAAAAAAAAAAAAAAAAAAAAAAAAAAAAAAAAAAAAAAAAAAAAAAAAAAAAAAAAAAAAAAAAAAAAAAAAAAAAAAAAAAAAAAAAAAAAAAAAAAAAAAAAAAAAAAAAAAAAAAAAAAAAAAAAAAAAAAAAAAAAAAAAAAAAAAAAAAAAAAAAAAAAAACwAAAAABQABAAAIBwADABgIICAAOw==\"><title>Layer: input (input)\n shape = (5,)\n Keras class = Input</title></image><text x=\"280.0\" y=\"192.0\" font-family=\"monospace\" font-size=\"12\" text-anchor=\"start\" alignment-baseline=\"central\">input</text></svg></p>"
      }
     },
     "762545631c534ad6b714041a082ddaa6": {
      "model_module": "@jupyter-widgets/controls",
      "model_module_version": "1.0.0",
      "model_name": "ButtonModel",
      "state": {
       "icon": "fast-forward",
       "layout": "IPY_MODEL_496ae422a13c4f2db5bf208132d72974",
       "style": "IPY_MODEL_2e1639dc4c614122923034b6db037057"
      }
     },
     "765c192a5281436c9d0b10fba770267f": {
      "model_module": "@jupyter-widgets/base",
      "model_module_version": "1.0.0",
      "model_name": "LayoutModel",
      "state": {
       "width": "100%"
      }
     },
     "76b1b7cad27a40028944242dca545bd4": {
      "model_module": "@jupyter-widgets/controls",
      "model_module_version": "1.0.0",
      "model_name": "ButtonStyleModel",
      "state": {}
     },
     "770e19cc211245f99b49bffeaea5719d": {
      "model_module": "@jupyter-widgets/controls",
      "model_module_version": "1.0.0",
      "model_name": "DescriptionStyleModel",
      "state": {
       "description_width": ""
      }
     },
     "771c22b0b66b40e9a15fc134d42eb69b": {
      "model_module": "@jupyter-widgets/controls",
      "model_module_version": "1.0.0",
      "model_name": "SelectModel",
      "state": {
       "_options_labels": [
        "Test",
        "Train"
       ],
       "description": "Dataset:",
       "index": 1,
       "layout": "IPY_MODEL_b6dc859708694063b0e51dc85e9629ee",
       "rows": 1,
       "style": "IPY_MODEL_51e9026dc5b9454aade2ca52bb6395b2"
      }
     },
     "771d662c8d8245809217a3eb2ddfd938": {
      "model_module": "@jupyter-widgets/base",
      "model_module_version": "1.0.0",
      "model_name": "LayoutModel",
      "state": {
       "width": "100%"
      }
     },
     "77d85df9d5be4067864982a6a30a7eab": {
      "model_module": "@jupyter-widgets/base",
      "model_module_version": "1.0.0",
      "model_name": "LayoutModel",
      "state": {
       "height": "550px",
       "width": "100%"
      }
     },
     "78975be4e41c43f7b7e7c52cc48d0821": {
      "model_module": "@jupyter-widgets/controls",
      "model_module_version": "1.0.0",
      "model_name": "HTMLModel",
      "state": {
       "layout": "IPY_MODEL_db7d4ccb33004033ac16b31944be365b",
       "style": "IPY_MODEL_46df82d0ef4a45c79665c6b3684ed091",
       "value": "<p style=\"text-align:center\"><svg id='Autoencoder' xmlns='http://www.w3.org/2000/svg' width=\"350\" height=\"235\" image-rendering=\"pixelated\">\n    <defs>\n        <marker id=\"arrow\" markerWidth=\"10\" markerHeight=\"10\" refX=\"9\" refY=\"3\" orient=\"auto\" markerUnits=\"strokeWidth\">\n          <path d=\"M0,0 L0,6 L9,3 z\" fill=\"black\" />\n        </marker>\n    </defs><text x=\"175.0\" y=\"12.5\" font-family=\"monospace\" font-size=\"15\" text-anchor=\"middle\" alignment-baseline=\"central\">Autoencoder</text><rect x=\"74.0\" y=\"29\" width=\"202\" height=\"42\" style=\"fill:none;stroke:black;stroke-width:2\"/><image id=\"Autoencoder_output_7\" class=\"Autoencoder_output\" x=\"75.0\" y=\"30\" height=\"40\" width=\"200\" preserveAspectRatio=\"none\" href=\"data:image/gif;base64,R0lGODdhBQABAIcAAP728ve5m/vQufzWwQAAAAAAAAAAAAAAAAAAAAAAAAAAAAAAAAAAAAAAAAAAAAAAAAAAAAAAAAAAAAAAAAAAAAAAAAAAAAAAAAAAAAAAAAAAAAAAAAAAAAAAAAAAAAAAAAAAAAAAAAAAAAAAAAAAAAAAAAAAAAAAAAAAAAAAAAAAAAAAAAAAAAAAAAAAAAAAAAAAAAAAAAAAAAAAAAAAAAAAAAAAAAAAAAAAAAAAAAAAAAAAAAAAAAAAAAAAAAAAAAAAAAAAAAAAAAAAAAAAAAAAAAAAAAAAAAAAAAAAAAAAAAAAAAAAAAAAAAAAAAAAAAAAAAAAAAAAAAAAAAAAAAAAAAAAAAAAAAAAAAAAAAAAAAAAAAAAAAAAAAAAAAAAAAAAAAAAAAAAAAAAAAAAAAAAAAAAAAAAAAAAAAAAAAAAAAAAAAAAAAAAAAAAAAAAAAAAAAAAAAAAAAAAAAAAAAAAAAAAAAAAAAAAAAAAAAAAAAAAAAAAAAAAAAAAAAAAAAAAAAAAAAAAAAAAAAAAAAAAAAAAAAAAAAAAAAAAAAAAAAAAAAAAAAAAAAAAAAAAAAAAAAAAAAAAAAAAAAAAAAAAAAAAAAAAAAAAAAAAAAAAAAAAAAAAAAAAAAAAAAAAAAAAAAAAAAAAAAAAAAAAAAAAAAAAAAAAAAAAAAAAAAAAAAAAAAAAAAAAAAAAAAAAAAAAAAAAAAAAAAAAAAAAAAAAAAAAAAAAAAAAAAAAAAAAAAAAAAAAAAAAAAAAAAAAAAAAAAAAAAAAAAAAAAAAAAAAAAAAAAAAAAAAAAAAAAAAAAAAAAAAAAAAAAAAAAAAAAAAAAAAAAAAAAAAAAAAAAAAAAAAAAAAAAAAAAAAAAAAAAAAAAAAAAAAAAAAAAAAAAAAAAAAAAAAAAAAAAAAAAAAAAAAAAAAAAAAAAAAAAAAAAAAAAAAAAAAAAAAAAAAAAAAAAAAAAAAAAAAAAAAAAAAAAAAAAAAAAAAAAAAAAAAAAAAAAAAAAAAAAAAAAAAACwAAAAABQABAAAICAABDBAQAEBAADs=\"><title>Layer: output (output)\n shape = (5,)\n Keras class = Dense\n activation = sigmoid</title></image><text x=\"280.0\" y=\"52.0\" font-family=\"monospace\" font-size=\"12\" text-anchor=\"start\" alignment-baseline=\"central\">output</text><line x1=\"175.0\" y1=\"99\" x2=\"175.0\" y2=\"72\" stroke=\"black\" stroke-width=\"2\" marker-end=\"url(#arrow)\"><title>Weights from hidden to output\n output/kernel has shape (5, 5)\n output/bias has shape (5,)</title></line><rect x=\"74.0\" y=\"99\" width=\"202\" height=\"42\" style=\"fill:none;stroke:black;stroke-width:2\"/><image id=\"Autoencoder_hidden_8\" class=\"Autoencoder_hidden\" x=\"75.0\" y=\"100\" height=\"40\" width=\"200\" preserveAspectRatio=\"none\" href=\"data:image/gif;base64,R0lGODdhBQABAIcAAGcAHxoaGp+fnwAAAAAAAAAAAAAAAAAAAAAAAAAAAAAAAAAAAAAAAAAAAAAAAAAAAAAAAAAAAAAAAAAAAAAAAAAAAAAAAAAAAAAAAAAAAAAAAAAAAAAAAAAAAAAAAAAAAAAAAAAAAAAAAAAAAAAAAAAAAAAAAAAAAAAAAAAAAAAAAAAAAAAAAAAAAAAAAAAAAAAAAAAAAAAAAAAAAAAAAAAAAAAAAAAAAAAAAAAAAAAAAAAAAAAAAAAAAAAAAAAAAAAAAAAAAAAAAAAAAAAAAAAAAAAAAAAAAAAAAAAAAAAAAAAAAAAAAAAAAAAAAAAAAAAAAAAAAAAAAAAAAAAAAAAAAAAAAAAAAAAAAAAAAAAAAAAAAAAAAAAAAAAAAAAAAAAAAAAAAAAAAAAAAAAAAAAAAAAAAAAAAAAAAAAAAAAAAAAAAAAAAAAAAAAAAAAAAAAAAAAAAAAAAAAAAAAAAAAAAAAAAAAAAAAAAAAAAAAAAAAAAAAAAAAAAAAAAAAAAAAAAAAAAAAAAAAAAAAAAAAAAAAAAAAAAAAAAAAAAAAAAAAAAAAAAAAAAAAAAAAAAAAAAAAAAAAAAAAAAAAAAAAAAAAAAAAAAAAAAAAAAAAAAAAAAAAAAAAAAAAAAAAAAAAAAAAAAAAAAAAAAAAAAAAAAAAAAAAAAAAAAAAAAAAAAAAAAAAAAAAAAAAAAAAAAAAAAAAAAAAAAAAAAAAAAAAAAAAAAAAAAAAAAAAAAAAAAAAAAAAAAAAAAAAAAAAAAAAAAAAAAAAAAAAAAAAAAAAAAAAAAAAAAAAAAAAAAAAAAAAAAAAAAAAAAAAAAAAAAAAAAAAAAAAAAAAAAAAAAAAAAAAAAAAAAAAAAAAAAAAAAAAAAAAAAAAAAAAAAAAAAAAAAAAAAAAAAAAAAAAAAAAAAAAAAAAAAAAAAAAAAAAAAAAAAAAAAAAAAAAAAAAAAAAAAAAAAAAAAAAAAAAAAAAAAAAAAAAAAAAAAAAAAAAAAAAAAAAAAAAAAAAAAAAAACwAAAAABQABAAAICAABCAAAIEBAADs=\"><title>Layer: hidden (hidden)\n shape = (5,)\n Keras class = Dense\n activation = relu</title></image><text x=\"280.0\" y=\"122.0\" font-family=\"monospace\" font-size=\"12\" text-anchor=\"start\" alignment-baseline=\"central\">hidden</text><line x1=\"175.0\" y1=\"169\" x2=\"175.0\" y2=\"142\" stroke=\"black\" stroke-width=\"2\" marker-end=\"url(#arrow)\"><title>Weights from input to hidden\n hidden/kernel has shape (5, 5)\n hidden/bias has shape (5,)</title></line><rect x=\"74.0\" y=\"169\" width=\"202\" height=\"42\" style=\"fill:none;stroke:black;stroke-width:2\"/><image id=\"Autoencoder_input_9\" class=\"Autoencoder_input\" x=\"75.0\" y=\"170\" height=\"40\" width=\"200\" preserveAspectRatio=\"none\" href=\"data:image/gif;base64,R0lGODdhBQABAIcAAGcAHxoaGgAAAAAAAAAAAAAAAAAAAAAAAAAAAAAAAAAAAAAAAAAAAAAAAAAAAAAAAAAAAAAAAAAAAAAAAAAAAAAAAAAAAAAAAAAAAAAAAAAAAAAAAAAAAAAAAAAAAAAAAAAAAAAAAAAAAAAAAAAAAAAAAAAAAAAAAAAAAAAAAAAAAAAAAAAAAAAAAAAAAAAAAAAAAAAAAAAAAAAAAAAAAAAAAAAAAAAAAAAAAAAAAAAAAAAAAAAAAAAAAAAAAAAAAAAAAAAAAAAAAAAAAAAAAAAAAAAAAAAAAAAAAAAAAAAAAAAAAAAAAAAAAAAAAAAAAAAAAAAAAAAAAAAAAAAAAAAAAAAAAAAAAAAAAAAAAAAAAAAAAAAAAAAAAAAAAAAAAAAAAAAAAAAAAAAAAAAAAAAAAAAAAAAAAAAAAAAAAAAAAAAAAAAAAAAAAAAAAAAAAAAAAAAAAAAAAAAAAAAAAAAAAAAAAAAAAAAAAAAAAAAAAAAAAAAAAAAAAAAAAAAAAAAAAAAAAAAAAAAAAAAAAAAAAAAAAAAAAAAAAAAAAAAAAAAAAAAAAAAAAAAAAAAAAAAAAAAAAAAAAAAAAAAAAAAAAAAAAAAAAAAAAAAAAAAAAAAAAAAAAAAAAAAAAAAAAAAAAAAAAAAAAAAAAAAAAAAAAAAAAAAAAAAAAAAAAAAAAAAAAAAAAAAAAAAAAAAAAAAAAAAAAAAAAAAAAAAAAAAAAAAAAAAAAAAAAAAAAAAAAAAAAAAAAAAAAAAAAAAAAAAAAAAAAAAAAAAAAAAAAAAAAAAAAAAAAAAAAAAAAAAAAAAAAAAAAAAAAAAAAAAAAAAAAAAAAAAAAAAAAAAAAAAAAAAAAAAAAAAAAAAAAAAAAAAAAAAAAAAAAAAAAAAAAAAAAAAAAAAAAAAAAAAAAAAAAAAAAAAAAAAAAAAAAAAAAAAAAAAAAAAAAAAAAAAAAAAAAAAAAAAAAAAAAAAAAAAAAAAAAAAAAAAAAAAAAAAAAAAAAAAAAAAAAAAAAAAAACwAAAAABQABAAAIBwADABgIICAAOw==\"><title>Layer: input (input)\n shape = (5,)\n Keras class = Input</title></image><text x=\"280.0\" y=\"192.0\" font-family=\"monospace\" font-size=\"12\" text-anchor=\"start\" alignment-baseline=\"central\">input</text></svg></p>"
      }
     },
     "795a020ef0844b0ab1abb21d0072d5d8": {
      "model_module": "@jupyter-widgets/controls",
      "model_module_version": "1.0.0",
      "model_name": "IntSliderModel",
      "state": {
       "continuous_update": false,
       "description": "Dataset index",
       "disabled": true,
       "layout": "IPY_MODEL_f80138ab12be466abe5e134fa2d8cc26",
       "max": 0,
       "style": "IPY_MODEL_04fe15215e884e8eb1988e15785eccd1"
      }
     },
     "79e31d63f87240cf972d87ad90b563cf": {
      "model_module": "@jupyter-widgets/controls",
      "model_module_version": "1.0.0",
      "model_name": "ButtonModel",
      "state": {
       "icon": "forward",
       "layout": "IPY_MODEL_232fb9d7bf8247709b86b54694d7b356",
       "style": "IPY_MODEL_95b3bb24cb8e4bbca4304593956ba872"
      }
     },
     "7a7910aae4724923afda6318fb94fad7": {
      "model_module": "@jupyter-widgets/controls",
      "model_module_version": "1.0.0",
      "model_name": "IntSliderModel",
      "state": {
       "continuous_update": false,
       "description": "Dataset index",
       "layout": "IPY_MODEL_31fad5d8bc6b43f6ab462605a5995cd3",
       "max": 4,
       "style": "IPY_MODEL_e5d2aef97a3a45928d0f549d40d159fc"
      }
     },
     "7aa2acae67414eae9490cd126a39bf13": {
      "model_module": "@jupyter-widgets/base",
      "model_module_version": "1.0.0",
      "model_name": "LayoutModel",
      "state": {
       "height": "550px",
       "width": "95%"
      }
     },
     "7ad32b404d9a4d4d87a9d3d664a964ca": {
      "model_module": "@jupyter-widgets/controls",
      "model_module_version": "1.0.0",
      "model_name": "ButtonModel",
      "state": {
       "icon": "fast-backward",
       "layout": "IPY_MODEL_c3f201c667284b2099eabcd2aabb616c",
       "style": "IPY_MODEL_560b0327675d41d3ace3f559d36eeb85"
      }
     },
     "7b218ac9a6434ee4bea33abd10eb6a73": {
      "model_module": "@jupyter-widgets/base",
      "model_module_version": "1.0.0",
      "model_name": "LayoutModel",
      "state": {
       "width": "100%"
      }
     },
     "7b5a2acc81294f109875fffc19c6b7ec": {
      "model_module": "@jupyter-widgets/controls",
      "model_module_version": "1.0.0",
      "model_name": "DescriptionStyleModel",
      "state": {
       "description_width": ""
      }
     },
     "7c08f521db8747c786cb0cb0373c72db": {
      "model_module": "@jupyter-widgets/controls",
      "model_module_version": "1.0.0",
      "model_name": "ButtonStyleModel",
      "state": {}
     },
     "7cd144d204da4b8a8340ab7d73168e46": {
      "model_module": "@jupyter-widgets/controls",
      "model_module_version": "1.0.0",
      "model_name": "HTMLModel",
      "state": {
       "layout": "IPY_MODEL_070d2fcfde6d476eb6770893da004019",
       "style": "IPY_MODEL_4b035c4d6a6648e2807bd23abc6af308",
       "value": "<p style=\"text-align:center\"><svg id='Autoencoder' xmlns='http://www.w3.org/2000/svg' width=\"350\" height=\"235\" image-rendering=\"pixelated\">\n    <defs>\n        <marker id=\"arrow\" markerWidth=\"10\" markerHeight=\"10\" refX=\"9\" refY=\"3\" orient=\"auto\" markerUnits=\"strokeWidth\">\n          <path d=\"M0,0 L0,6 L9,3 z\" fill=\"black\" />\n        </marker>\n    </defs><text x=\"175.0\" y=\"12.5\" font-family=\"monospace\" font-size=\"15\" text-anchor=\"middle\" alignment-baseline=\"central\">Autoencoder</text><rect x=\"74.0\" y=\"29\" width=\"202\" height=\"42\" style=\"fill:none;stroke:black;stroke-width:2\"/><image id=\"Autoencoder_output_7\" class=\"Autoencoder_output\" x=\"75.0\" y=\"30\" height=\"40\" width=\"200\" preserveAspectRatio=\"none\" href=\"data:image/gif;base64,R0lGODdhBQABAIcAAGcAHzQ0NHUEIQAAAAAAAAAAAAAAAAAAAAAAAAAAAAAAAAAAAAAAAAAAAAAAAAAAAAAAAAAAAAAAAAAAAAAAAAAAAAAAAAAAAAAAAAAAAAAAAAAAAAAAAAAAAAAAAAAAAAAAAAAAAAAAAAAAAAAAAAAAAAAAAAAAAAAAAAAAAAAAAAAAAAAAAAAAAAAAAAAAAAAAAAAAAAAAAAAAAAAAAAAAAAAAAAAAAAAAAAAAAAAAAAAAAAAAAAAAAAAAAAAAAAAAAAAAAAAAAAAAAAAAAAAAAAAAAAAAAAAAAAAAAAAAAAAAAAAAAAAAAAAAAAAAAAAAAAAAAAAAAAAAAAAAAAAAAAAAAAAAAAAAAAAAAAAAAAAAAAAAAAAAAAAAAAAAAAAAAAAAAAAAAAAAAAAAAAAAAAAAAAAAAAAAAAAAAAAAAAAAAAAAAAAAAAAAAAAAAAAAAAAAAAAAAAAAAAAAAAAAAAAAAAAAAAAAAAAAAAAAAAAAAAAAAAAAAAAAAAAAAAAAAAAAAAAAAAAAAAAAAAAAAAAAAAAAAAAAAAAAAAAAAAAAAAAAAAAAAAAAAAAAAAAAAAAAAAAAAAAAAAAAAAAAAAAAAAAAAAAAAAAAAAAAAAAAAAAAAAAAAAAAAAAAAAAAAAAAAAAAAAAAAAAAAAAAAAAAAAAAAAAAAAAAAAAAAAAAAAAAAAAAAAAAAAAAAAAAAAAAAAAAAAAAAAAAAAAAAAAAAAAAAAAAAAAAAAAAAAAAAAAAAAAAAAAAAAAAAAAAAAAAAAAAAAAAAAAAAAAAAAAAAAAAAAAAAAAAAAAAAAAAAAAAAAAAAAAAAAAAAAAAAAAAAAAAAAAAAAAAAAAAAAAAAAAAAAAAAAAAAAAAAAAAAAAAAAAAAAAAAAAAAAAAAAAAAAAAAAAAAAAAAAAAAAAAAAAAAAAAAAAAAAAAAAAAAAAAAAAAAAAAAAAAAAAAAAAAAAAAAAAAAAAAAAAAAAAAAAAAAAAAAAAAAAAAAAAAAAAAAAAAAAAAAAAAACwAAAAABQABAAAICAADAAAgAEBAADs=\"><title>Layer: output (output)\n shape = (5,)\n Keras class = Dense\n activation = sigmoid</title></image><text x=\"280.0\" y=\"52.0\" font-family=\"monospace\" font-size=\"12\" text-anchor=\"start\" alignment-baseline=\"central\">output</text><line x1=\"175.0\" y1=\"99\" x2=\"175.0\" y2=\"72\" stroke=\"black\" stroke-width=\"2\" marker-end=\"url(#arrow)\"><title>Weights from hidden to output\n output/kernel has shape (5, 5)\n output/bias has shape (5,)</title></line><rect x=\"74.0\" y=\"99\" width=\"202\" height=\"42\" style=\"fill:none;stroke:black;stroke-width:2\"/><image id=\"Autoencoder_hidden_8\" class=\"Autoencoder_hidden\" x=\"75.0\" y=\"100\" height=\"40\" width=\"200\" preserveAspectRatio=\"none\" href=\"data:image/gif;base64,R0lGODdhBQABAIcAAPfy7xoaGiwsLKcUKQAAAAAAAAAAAAAAAAAAAAAAAAAAAAAAAAAAAAAAAAAAAAAAAAAAAAAAAAAAAAAAAAAAAAAAAAAAAAAAAAAAAAAAAAAAAAAAAAAAAAAAAAAAAAAAAAAAAAAAAAAAAAAAAAAAAAAAAAAAAAAAAAAAAAAAAAAAAAAAAAAAAAAAAAAAAAAAAAAAAAAAAAAAAAAAAAAAAAAAAAAAAAAAAAAAAAAAAAAAAAAAAAAAAAAAAAAAAAAAAAAAAAAAAAAAAAAAAAAAAAAAAAAAAAAAAAAAAAAAAAAAAAAAAAAAAAAAAAAAAAAAAAAAAAAAAAAAAAAAAAAAAAAAAAAAAAAAAAAAAAAAAAAAAAAAAAAAAAAAAAAAAAAAAAAAAAAAAAAAAAAAAAAAAAAAAAAAAAAAAAAAAAAAAAAAAAAAAAAAAAAAAAAAAAAAAAAAAAAAAAAAAAAAAAAAAAAAAAAAAAAAAAAAAAAAAAAAAAAAAAAAAAAAAAAAAAAAAAAAAAAAAAAAAAAAAAAAAAAAAAAAAAAAAAAAAAAAAAAAAAAAAAAAAAAAAAAAAAAAAAAAAAAAAAAAAAAAAAAAAAAAAAAAAAAAAAAAAAAAAAAAAAAAAAAAAAAAAAAAAAAAAAAAAAAAAAAAAAAAAAAAAAAAAAAAAAAAAAAAAAAAAAAAAAAAAAAAAAAAAAAAAAAAAAAAAAAAAAAAAAAAAAAAAAAAAAAAAAAAAAAAAAAAAAAAAAAAAAAAAAAAAAAAAAAAAAAAAAAAAAAAAAAAAAAAAAAAAAAAAAAAAAAAAAAAAAAAAAAAAAAAAAAAAAAAAAAAAAAAAAAAAAAAAAAAAAAAAAAAAAAAAAAAAAAAAAAAAAAAAAAAAAAAAAAAAAAAAAAAAAAAAAAAAAAAAAAAAAAAAAAAAAAAAAAAAAAAAAAAAAAAAAAAAAAAAAAAAAAAAAAAAAAAAAAAAAAAAAAAAAAAAAAAAAAAAAAAAAAAAAAAAAAAAAAAAAAAAAAAAAAAAAAAACwAAAAABQABAAAICAAHBAAAQEBAADs=\"><title>Layer: hidden (hidden)\n shape = (5,)\n Keras class = Dense\n activation = relu</title></image><text x=\"280.0\" y=\"122.0\" font-family=\"monospace\" font-size=\"12\" text-anchor=\"start\" alignment-baseline=\"central\">hidden</text><line x1=\"175.0\" y1=\"169\" x2=\"175.0\" y2=\"142\" stroke=\"black\" stroke-width=\"2\" marker-end=\"url(#arrow)\"><title>Weights from input to hidden\n hidden/kernel has shape (5, 5)\n hidden/bias has shape (5,)</title></line><rect x=\"74.0\" y=\"169\" width=\"202\" height=\"42\" style=\"fill:none;stroke:black;stroke-width:2\"/><image id=\"Autoencoder_input_9\" class=\"Autoencoder_input\" x=\"75.0\" y=\"170\" height=\"40\" width=\"200\" preserveAspectRatio=\"none\" href=\"data:image/gif;base64,R0lGODdhBQABAIcAAGcAHxoaGgAAAAAAAAAAAAAAAAAAAAAAAAAAAAAAAAAAAAAAAAAAAAAAAAAAAAAAAAAAAAAAAAAAAAAAAAAAAAAAAAAAAAAAAAAAAAAAAAAAAAAAAAAAAAAAAAAAAAAAAAAAAAAAAAAAAAAAAAAAAAAAAAAAAAAAAAAAAAAAAAAAAAAAAAAAAAAAAAAAAAAAAAAAAAAAAAAAAAAAAAAAAAAAAAAAAAAAAAAAAAAAAAAAAAAAAAAAAAAAAAAAAAAAAAAAAAAAAAAAAAAAAAAAAAAAAAAAAAAAAAAAAAAAAAAAAAAAAAAAAAAAAAAAAAAAAAAAAAAAAAAAAAAAAAAAAAAAAAAAAAAAAAAAAAAAAAAAAAAAAAAAAAAAAAAAAAAAAAAAAAAAAAAAAAAAAAAAAAAAAAAAAAAAAAAAAAAAAAAAAAAAAAAAAAAAAAAAAAAAAAAAAAAAAAAAAAAAAAAAAAAAAAAAAAAAAAAAAAAAAAAAAAAAAAAAAAAAAAAAAAAAAAAAAAAAAAAAAAAAAAAAAAAAAAAAAAAAAAAAAAAAAAAAAAAAAAAAAAAAAAAAAAAAAAAAAAAAAAAAAAAAAAAAAAAAAAAAAAAAAAAAAAAAAAAAAAAAAAAAAAAAAAAAAAAAAAAAAAAAAAAAAAAAAAAAAAAAAAAAAAAAAAAAAAAAAAAAAAAAAAAAAAAAAAAAAAAAAAAAAAAAAAAAAAAAAAAAAAAAAAAAAAAAAAAAAAAAAAAAAAAAAAAAAAAAAAAAAAAAAAAAAAAAAAAAAAAAAAAAAAAAAAAAAAAAAAAAAAAAAAAAAAAAAAAAAAAAAAAAAAAAAAAAAAAAAAAAAAAAAAAAAAAAAAAAAAAAAAAAAAAAAAAAAAAAAAAAAAAAAAAAAAAAAAAAAAAAAAAAAAAAAAAAAAAAAAAAAAAAAAAAAAAAAAAAAAAAAAAAAAAAAAAAAAAAAAAAAAAAAAAAAAAAAAAAAAAAAAAAAAAAAAAAAAAAAAAAAAAAAAAAAAAAAAAAAAAAACwAAAAABQABAAAIBwADABgIICAAOw==\"><title>Layer: input (input)\n shape = (5,)\n Keras class = Input</title></image><text x=\"280.0\" y=\"192.0\" font-family=\"monospace\" font-size=\"12\" text-anchor=\"start\" alignment-baseline=\"central\">input</text></svg></p>"
      }
     },
     "7cfe72f95a4243cfac75705a6ecfa06f": {
      "model_module": "@jupyter-widgets/controls",
      "model_module_version": "1.0.0",
      "model_name": "VBoxModel",
      "state": {
       "children": [
        "IPY_MODEL_2ba72760464b49a386a9bbb6aecb42d8",
        "IPY_MODEL_9a7c7c349fda4883a3ee214f2cf26366",
        "IPY_MODEL_2d09dff0e92148fcbd844151d20e1ea2"
       ],
       "layout": "IPY_MODEL_031caa7e9f2346ae836b6ce717148a83"
      }
     },
     "7d67c6b308c342d99e0695a7058989d8": {
      "model_module": "@jupyter-widgets/base",
      "model_module_version": "1.0.0",
      "model_name": "LayoutModel",
      "state": {
       "width": "95%"
      }
     },
     "7d6f30760bb547989738bf45e556de4b": {
      "model_module": "@jupyter-widgets/controls",
      "model_module_version": "1.0.0",
      "model_name": "ButtonModel",
      "state": {
       "description": "Train",
       "layout": "IPY_MODEL_31bcdfc28ec94965bc8e52b187070f20",
       "style": "IPY_MODEL_e132f1fd8f534bdb9896787967c77265"
      }
     },
     "7d978d23c13147619c3f78ae142ead2c": {
      "model_module": "@jupyter-widgets/controls",
      "model_module_version": "1.0.0",
      "model_name": "ButtonModel",
      "state": {
       "icon": "forward",
       "layout": "IPY_MODEL_a311090f559c4766b549804531b5e5db",
       "style": "IPY_MODEL_cd47333a64e442fcbd1afb3a4aef58d8"
      }
     },
     "7de4619db916487c94a786962009274f": {
      "model_module": "@jupyter-widgets/base",
      "model_module_version": "1.0.0",
      "model_name": "LayoutModel",
      "state": {
       "width": "100%"
      }
     },
     "7e31574062f34f4fa678850565dc4bed": {
      "model_module": "@jupyter-widgets/base",
      "model_module_version": "1.0.0",
      "model_name": "LayoutModel",
      "state": {
       "width": "95%"
      }
     },
     "7e6d652dc4c642dfbd7a39c6d47e7800": {
      "model_module": "@jupyter-widgets/controls",
      "model_module_version": "1.0.0",
      "model_name": "ButtonStyleModel",
      "state": {}
     },
     "7ea4d07cd2a840439052efa62559f451": {
      "model_module": "@jupyter-widgets/controls",
      "model_module_version": "1.0.0",
      "model_name": "SliderStyleModel",
      "state": {
       "description_width": ""
      }
     },
     "7eedbb2785394ff7be831b51872f633f": {
      "model_module": "@jupyter-widgets/controls",
      "model_module_version": "1.0.0",
      "model_name": "TabModel",
      "state": {
       "_titles": {
        "0": "Network",
        "1": "Help"
       },
       "children": [
        "IPY_MODEL_2e1aa150544f4896ad8ab9df0db56634",
        "IPY_MODEL_6adb175e70944ea194ad15178e75ac48"
       ],
       "layout": "IPY_MODEL_a4ca5d0c1faf48c2a3a3e41383abe3c3"
      }
     },
     "7f655ea677e5445d9e7a336f24f441d2": {
      "model_module": "@jupyter-widgets/controls",
      "model_module_version": "1.0.0",
      "model_name": "ButtonStyleModel",
      "state": {}
     },
     "7f7563201b29412da38aa0bff5f46a01": {
      "model_module": "@jupyter-widgets/base",
      "model_module_version": "1.0.0",
      "model_name": "LayoutModel",
      "state": {
       "height": "550px",
       "width": "95%"
      }
     },
     "7f7dbcdde9d64bfc9db498888c818b1d": {
      "model_module": "@jupyter-widgets/controls",
      "model_module_version": "1.0.0",
      "model_name": "ButtonStyleModel",
      "state": {}
     },
     "7fa5257ce434422ca9ee0e09c8029d87": {
      "model_module": "@jupyter-widgets/controls",
      "model_module_version": "1.0.0",
      "model_name": "VBoxModel",
      "state": {
       "children": [
        "IPY_MODEL_092aa9f304c34db89f2f959f9544f658",
        "IPY_MODEL_d0987f5fcf6d45efa3d118efcc740616",
        "IPY_MODEL_0c71c8cf13364592a39c0a0a75c02c0a"
       ],
       "layout": "IPY_MODEL_0cbc4de38e1d44978299e40e5631b33e"
      }
     },
     "8000b358b334440ba0a9550e5efb744e": {
      "model_module": "@jupyter-widgets/base",
      "model_module_version": "1.0.0",
      "model_name": "LayoutModel",
      "state": {}
     },
     "80ef20f8ccee4ebf80ec964b5ec1bb8e": {
      "model_module": "@jupyter-widgets/base",
      "model_module_version": "1.0.0",
      "model_name": "LayoutModel",
      "state": {}
     },
     "8135d64e4e7f4426a6d4daad3727c2d0": {
      "model_module": "@jupyter-widgets/base",
      "model_module_version": "1.0.0",
      "model_name": "LayoutModel",
      "state": {
       "width": "100%"
      }
     },
     "814e7a792ddf4fa8bc98e7a3028955f5": {
      "model_module": "@jupyter-widgets/base",
      "model_module_version": "1.0.0",
      "model_name": "LayoutModel",
      "state": {
       "width": "100%"
      }
     },
     "819193fd4c774f79a37a4d0ad4ca808d": {
      "model_module": "@jupyter-widgets/controls",
      "model_module_version": "1.0.0",
      "model_name": "ButtonStyleModel",
      "state": {}
     },
     "81d43484331449629a7d22f81f683663": {
      "model_module": "@jupyter-widgets/controls",
      "model_module_version": "1.0.0",
      "model_name": "DescriptionStyleModel",
      "state": {
       "description_width": ""
      }
     },
     "820786f869bb46909caf8165db43f17a": {
      "model_module": "@jupyter-widgets/controls",
      "model_module_version": "1.0.0",
      "model_name": "SliderStyleModel",
      "state": {
       "description_width": ""
      }
     },
     "8276ba1b11dd46ad82dff6577788859d": {
      "model_module": "@jupyter-widgets/controls",
      "model_module_version": "1.0.0",
      "model_name": "HTMLModel",
      "state": {
       "layout": "IPY_MODEL_1f0f78ef98c84b22bd1cc36108c4fac5",
       "style": "IPY_MODEL_027894057dcd4d40a0b6533c898e1c98",
       "value": "<p style=\"text-align:center\"><svg id='MNIST-Autoencoder' xmlns='http://www.w3.org/2000/svg' width=\"350\" height=\"705\" image-rendering=\"pixelated\">\n    <defs>\n        <marker id=\"arrow\" markerWidth=\"10\" markerHeight=\"10\" refX=\"9\" refY=\"3\" orient=\"auto\" markerUnits=\"strokeWidth\">\n          <path d=\"M0,0 L0,6 L9,3 z\" fill=\"black\" />\n        </marker>\n    </defs><text x=\"175.0\" y=\"12.5\" font-family=\"monospace\" font-size=\"15\" text-anchor=\"middle\" alignment-baseline=\"central\">MNIST-Autoencoder</text><rect x=\"74.0\" y=\"29\" width=\"202\" height=\"202\" style=\"fill:none;stroke:black;stroke-width:2\"/><image id=\"MNIST-Autoencoder_output_13\" class=\"MNIST-Autoencoder_output\" x=\"75.0\" y=\"30\" height=\"200\" width=\"200\" preserveAspectRatio=\"none\" href=\"data:image/gif;base64,R0lGODdhHAAcAIcAAP38/AAAAAAAAAAAAAAAAAAAAAAAAAAAAAAAAAAAAAAAAAAAAAAAAAAAAAAAAAAAAAAAAAAAAAAAAAAAAAAAAAAAAAAAAAAAAAAAAAAAAAAAAAAAAAAAAAAAAAAAAAAAAAAAAAAAAAAAAAAAAAAAAAAAAAAAAAAAAAAAAAAAAAAAAAAAAAAAAAAAAAAAAAAAAAAAAAAAAAAAAAAAAAAAAAAAAAAAAAAAAAAAAAAAAAAAAAAAAAAAAAAAAAAAAAAAAAAAAAAAAAAAAAAAAAAAAAAAAAAAAAAAAAAAAAAAAAAAAAAAAAAAAAAAAAAAAAAAAAAAAAAAAAAAAAAAAAAAAAAAAAAAAAAAAAAAAAAAAAAAAAAAAAAAAAAAAAAAAAAAAAAAAAAAAAAAAAAAAAAAAAAAAAAAAAAAAAAAAAAAAAAAAAAAAAAAAAAAAAAAAAAAAAAAAAAAAAAAAAAAAAAAAAAAAAAAAAAAAAAAAAAAAAAAAAAAAAAAAAAAAAAAAAAAAAAAAAAAAAAAAAAAAAAAAAAAAAAAAAAAAAAAAAAAAAAAAAAAAAAAAAAAAAAAAAAAAAAAAAAAAAAAAAAAAAAAAAAAAAAAAAAAAAAAAAAAAAAAAAAAAAAAAAAAAAAAAAAAAAAAAAAAAAAAAAAAAAAAAAAAAAAAAAAAAAAAAAAAAAAAAAAAAAAAAAAAAAAAAAAAAAAAAAAAAAAAAAAAAAAAAAAAAAAAAAAAAAAAAAAAAAAAAAAAAAAAAAAAAAAAAAAAAAAAAAAAAAAAAAAAAAAAAAAAAAAAAAAAAAAAAAAAAAAAAAAAAAAAAAAAAAAAAAAAAAAAAAAAAAAAAAAAAAAAAAAAAAAAAAAAAAAAAAAAAAAAAAAAAAAAAAAAAAAAAAAAAAAAAAAAAAAAAAAAAAAAAAAAAAAAAAAAAAAAAAAAAAAAAAAAAAAAAAAAAAAAAAAAAAAAAAAAAAAAAAAAAAAAAAAAAAAAAAAAAAAAAAAAAAAAAAAAAAAAAAAAAAAAAAAAACwAAAAAHAAcAEAIMAABCBxIsKDBgwgTKlzIsKHDhxAjSpxIsaLFixgzatzIsaPHjyBDihxJsqTJkwQDAgA7\"><title>Layer: output (output)\n shape = (28, 28, 1)\n Keras class = Dense\n activation = sigmoid</title></image><text x=\"280.0\" y=\"132.0\" font-family=\"monospace\" font-size=\"12\" text-anchor=\"start\" alignment-baseline=\"central\">output</text><line x1=\"175.0\" y1=\"259\" x2=\"175.0\" y2=\"232\" stroke=\"black\" stroke-width=\"2\" marker-end=\"url(#arrow)\"><title>Weights from hidden3 to output\n output/kernel has shape (25, 784)\n output/bias has shape (784,)</title></line><rect x=\"74.0\" y=\"259\" width=\"202\" height=\"27\" style=\"fill:none;stroke:black;stroke-width:2\"/><image id=\"MNIST-Autoencoder_hidden3_14\" class=\"MNIST-Autoencoder_hidden3\" x=\"75.0\" y=\"260\" height=\"25\" width=\"200\" preserveAspectRatio=\"none\" href=\"data:image/gif;base64,R0lGODdhGQABAIcAAGcAHxoaGoQJI5kQJ42Njb8yN8M7O81PRM5RRtpqVeB4X+yTdPWujv3dy/3n2gAAAAAAAAAAAAAAAAAAAAAAAAAAAAAAAAAAAAAAAAAAAAAAAAAAAAAAAAAAAAAAAAAAAAAAAAAAAAAAAAAAAAAAAAAAAAAAAAAAAAAAAAAAAAAAAAAAAAAAAAAAAAAAAAAAAAAAAAAAAAAAAAAAAAAAAAAAAAAAAAAAAAAAAAAAAAAAAAAAAAAAAAAAAAAAAAAAAAAAAAAAAAAAAAAAAAAAAAAAAAAAAAAAAAAAAAAAAAAAAAAAAAAAAAAAAAAAAAAAAAAAAAAAAAAAAAAAAAAAAAAAAAAAAAAAAAAAAAAAAAAAAAAAAAAAAAAAAAAAAAAAAAAAAAAAAAAAAAAAAAAAAAAAAAAAAAAAAAAAAAAAAAAAAAAAAAAAAAAAAAAAAAAAAAAAAAAAAAAAAAAAAAAAAAAAAAAAAAAAAAAAAAAAAAAAAAAAAAAAAAAAAAAAAAAAAAAAAAAAAAAAAAAAAAAAAAAAAAAAAAAAAAAAAAAAAAAAAAAAAAAAAAAAAAAAAAAAAAAAAAAAAAAAAAAAAAAAAAAAAAAAAAAAAAAAAAAAAAAAAAAAAAAAAAAAAAAAAAAAAAAAAAAAAAAAAAAAAAAAAAAAAAAAAAAAAAAAAAAAAAAAAAAAAAAAAAAAAAAAAAAAAAAAAAAAAAAAAAAAAAAAAAAAAAAAAAAAAAAAAAAAAAAAAAAAAAAAAAAAAAAAAAAAAAAAAAAAAAAAAAAAAAAAAAAAAAAAAAAAAAAAAAAAAAAAAAAAAAAAAAAAAAAAAAAAAAAAAAAAAAAAAAAAAAAAAAAAAAAAAAAAAAAAAAAAAAAAAAAAAAAAAAAAAAAAAAAAAAAAAAAAAAAAAAAAAAAAAAAAAAAAAAAAAAAAAAAAAAAAAAAAAAAAAAAAAAAAAAAAAAAAAAAAAAAAAAAAAAAAAAAAAAAAAAAAAAAAAAAAAAAAAAAAAAAAAAAAAAAAAAAAACwAAAAAGQABAAAIHwABDBAA4EABAAAUADCAAACABQAIAGAAAECDAA4SBAQAOw==\"><title>Layer: hidden3 (hidden)\n shape = (25,)\n Keras class = Dense\n activation = relu</title></image><text x=\"280.0\" y=\"274.5\" font-family=\"monospace\" font-size=\"12\" text-anchor=\"start\" alignment-baseline=\"central\">hidden3</text><line x1=\"175.0\" y1=\"314\" x2=\"175.0\" y2=\"287\" stroke=\"black\" stroke-width=\"2\" marker-end=\"url(#arrow)\"><title>Weights from hidden2 to hidden3\n hidden3/kernel has shape (25, 25)\n hidden3/bias has shape (25,)</title></line><rect x=\"74.0\" y=\"314\" width=\"202\" height=\"27\" style=\"fill:none;stroke:black;stroke-width:2\"/><image id=\"MNIST-Autoencoder_hidden2_15\" class=\"MNIST-Autoencoder_hidden2\" x=\"75.0\" y=\"315\" height=\"25\" width=\"200\" preserveAspectRatio=\"none\" href=\"data:image/gif;base64,R0lGODdhGQABAIcAAGcAH3gFIZENJRoaGrq6ut5yW+aFau2Wdve2mP3fzfLy8gAAAAAAAAAAAAAAAAAAAAAAAAAAAAAAAAAAAAAAAAAAAAAAAAAAAAAAAAAAAAAAAAAAAAAAAAAAAAAAAAAAAAAAAAAAAAAAAAAAAAAAAAAAAAAAAAAAAAAAAAAAAAAAAAAAAAAAAAAAAAAAAAAAAAAAAAAAAAAAAAAAAAAAAAAAAAAAAAAAAAAAAAAAAAAAAAAAAAAAAAAAAAAAAAAAAAAAAAAAAAAAAAAAAAAAAAAAAAAAAAAAAAAAAAAAAAAAAAAAAAAAAAAAAAAAAAAAAAAAAAAAAAAAAAAAAAAAAAAAAAAAAAAAAAAAAAAAAAAAAAAAAAAAAAAAAAAAAAAAAAAAAAAAAAAAAAAAAAAAAAAAAAAAAAAAAAAAAAAAAAAAAAAAAAAAAAAAAAAAAAAAAAAAAAAAAAAAAAAAAAAAAAAAAAAAAAAAAAAAAAAAAAAAAAAAAAAAAAAAAAAAAAAAAAAAAAAAAAAAAAAAAAAAAAAAAAAAAAAAAAAAAAAAAAAAAAAAAAAAAAAAAAAAAAAAAAAAAAAAAAAAAAAAAAAAAAAAAAAAAAAAAAAAAAAAAAAAAAAAAAAAAAAAAAAAAAAAAAAAAAAAAAAAAAAAAAAAAAAAAAAAAAAAAAAAAAAAAAAAAAAAAAAAAAAAAAAAAAAAAAAAAAAAAAAAAAAAAAAAAAAAAAAAAAAAAAAAAAAAAAAAAAAAAAAAAAAAAAAAAAAAAAAAAAAAAAAAAAAAAAAAAAAAAAAAAAAAAAAAAAAAAAAAAAAAAAAAAAAAAAAAAAAAAAAAAAAAAAAAAAAAAAAAAAAAAAAAAAAAAAAAAAAAAAAAAAAAAAAAAAAAAAAAAAAAAAAAAAAAAAAAAAAAAAAAAAAAAAAAAAAAAAAAAAAAAAAAAAAAAAAAAAAAAAAAAAAAAAAAAAAAAAAAAAAAAAAAAAAAAAAAAAAAAAAAAAAAAAAAAAAAAAAAAAAAAAAAAAAAACwAAAAAGQABAAAIHgARADAAoAAAAAIAKAwQAAAABQcIABAQAEACAAMCAgA7\"><title>Layer: hidden2 (hidden)\n shape = (25,)\n Keras class = Dense\n activation = relu</title></image><text x=\"280.0\" y=\"329.5\" font-family=\"monospace\" font-size=\"12\" text-anchor=\"start\" alignment-baseline=\"central\">hidden2</text><line x1=\"175.0\" y1=\"369\" x2=\"175.0\" y2=\"342\" stroke=\"black\" stroke-width=\"2\" marker-end=\"url(#arrow)\"><title>Weights from hidden1 to hidden2\n hidden2/kernel has shape (25, 25)\n hidden2/bias has shape (25,)</title></line><rect x=\"74.0\" y=\"369\" width=\"202\" height=\"27\" style=\"fill:none;stroke:black;stroke-width:2\"/><image id=\"MNIST-Autoencoder_hidden1_16\" class=\"MNIST-Autoencoder_hidden1\" x=\"75.0\" y=\"370\" height=\"25\" width=\"200\" preserveAspectRatio=\"none\" href=\"data:image/gif;base64,R0lGODdhGQABAIcAAGcAH/rz7xoaGjg4OLQcLbgkMcdDP9ttVwAAAAAAAAAAAAAAAAAAAAAAAAAAAAAAAAAAAAAAAAAAAAAAAAAAAAAAAAAAAAAAAAAAAAAAAAAAAAAAAAAAAAAAAAAAAAAAAAAAAAAAAAAAAAAAAAAAAAAAAAAAAAAAAAAAAAAAAAAAAAAAAAAAAAAAAAAAAAAAAAAAAAAAAAAAAAAAAAAAAAAAAAAAAAAAAAAAAAAAAAAAAAAAAAAAAAAAAAAAAAAAAAAAAAAAAAAAAAAAAAAAAAAAAAAAAAAAAAAAAAAAAAAAAAAAAAAAAAAAAAAAAAAAAAAAAAAAAAAAAAAAAAAAAAAAAAAAAAAAAAAAAAAAAAAAAAAAAAAAAAAAAAAAAAAAAAAAAAAAAAAAAAAAAAAAAAAAAAAAAAAAAAAAAAAAAAAAAAAAAAAAAAAAAAAAAAAAAAAAAAAAAAAAAAAAAAAAAAAAAAAAAAAAAAAAAAAAAAAAAAAAAAAAAAAAAAAAAAAAAAAAAAAAAAAAAAAAAAAAAAAAAAAAAAAAAAAAAAAAAAAAAAAAAAAAAAAAAAAAAAAAAAAAAAAAAAAAAAAAAAAAAAAAAAAAAAAAAAAAAAAAAAAAAAAAAAAAAAAAAAAAAAAAAAAAAAAAAAAAAAAAAAAAAAAAAAAAAAAAAAAAAAAAAAAAAAAAAAAAAAAAAAAAAAAAAAAAAAAAAAAAAAAAAAAAAAAAAAAAAAAAAAAAAAAAAAAAAAAAAAAAAAAAAAAAAAAAAAAAAAAAAAAAAAAAAAAAAAAAAAAAAAAAAAAAAAAAAAAAAAAAAAAAAAAAAAAAAAAAAAAAAAAAAAAAAAAAAAAAAAAAAAAAAAAAAAAAAAAAAAAAAAAAAAAAAAAAAAAAAAAAAAAAAAAAAAAAAAAAAAAAAAAAAAAAAAAAAAAAAAAAAAAAAAAAAAAAAAAAAAAAAAAAAAAAAAAAAAAAAAAAAAAAAAAAAAAAAAAAAAAAAAAAAAAAAAAAAAAAAAAAAAAAAAAAACwAAAAAGQABAAAIFwABFAgAoOABAAgTJiQgIACAAQYASAwIADs=\"><title>Layer: hidden1 (hidden)\n shape = (25,)\n Keras class = Dense\n activation = relu</title></image><text x=\"280.0\" y=\"384.5\" font-family=\"monospace\" font-size=\"12\" text-anchor=\"start\" alignment-baseline=\"central\">hidden1</text><line x1=\"175.0\" y1=\"424\" x2=\"175.0\" y2=\"397\" stroke=\"black\" stroke-width=\"2\" marker-end=\"url(#arrow)\"><title>Weights from flatten to hidden1\n hidden1/kernel has shape (784, 25)\n hidden1/bias has shape (25,)</title></line><rect x=\"74.0\" y=\"424\" width=\"202\" height=\"27\" style=\"fill:none;stroke:black;stroke-width:2\"/><image id=\"MNIST-Autoencoder_flatten_17\" class=\"MNIST-Autoencoder_flatten\" x=\"75.0\" y=\"425\" height=\"25\" width=\"200\" preserveAspectRatio=\"none\" href=\"data:image/gif;base64,R0lGODdhEAMBAIcAAP39/BwcHOjo6CUlJcbGxjk5OVdXV4eHh5qammVlZdfX13Nzc0dHR6enp7W1tQAAAAAAAAAAAAAAAAAAAAAAAAAAAAAAAAAAAAAAAAAAAAAAAAAAAAAAAAAAAAAAAAAAAAAAAAAAAAAAAAAAAAAAAAAAAAAAAAAAAAAAAAAAAAAAAAAAAAAAAAAAAAAAAAAAAAAAAAAAAAAAAAAAAAAAAAAAAAAAAAAAAAAAAAAAAAAAAAAAAAAAAAAAAAAAAAAAAAAAAAAAAAAAAAAAAAAAAAAAAAAAAAAAAAAAAAAAAAAAAAAAAAAAAAAAAAAAAAAAAAAAAAAAAAAAAAAAAAAAAAAAAAAAAAAAAAAAAAAAAAAAAAAAAAAAAAAAAAAAAAAAAAAAAAAAAAAAAAAAAAAAAAAAAAAAAAAAAAAAAAAAAAAAAAAAAAAAAAAAAAAAAAAAAAAAAAAAAAAAAAAAAAAAAAAAAAAAAAAAAAAAAAAAAAAAAAAAAAAAAAAAAAAAAAAAAAAAAAAAAAAAAAAAAAAAAAAAAAAAAAAAAAAAAAAAAAAAAAAAAAAAAAAAAAAAAAAAAAAAAAAAAAAAAAAAAAAAAAAAAAAAAAAAAAAAAAAAAAAAAAAAAAAAAAAAAAAAAAAAAAAAAAAAAAAAAAAAAAAAAAAAAAAAAAAAAAAAAAAAAAAAAAAAAAAAAAAAAAAAAAAAAAAAAAAAAAAAAAAAAAAAAAAAAAAAAAAAAAAAAAAAAAAAAAAAAAAAAAAAAAAAAAAAAAAAAAAAAAAAAAAAAAAAAAAAAAAAAAAAAAAAAAAAAAAAAAAAAAAAAAAAAAAAAAAAAAAAAAAAAAAAAAAAAAAAAAAAAAAAAAAAAAAAAAAAAAAAAAAAAAAAAAAAAAAAAAAAAAAAAAAAAAAAAAAAAAAAAAAAAAAAAAAAAAAAAAAAAAAAAAAAAAAAAAAAAAAAAAAAAAAAAAAAAAAAAAAAAAAAAAAAAAAAAAAAAAAAAAAAAAAAAAAAAAAAAAAAAAAAAAAAACwAAAAAEAMBAAAI/wABCBxIsKDBgwgTKlzIsKHDhxAjDmyAIIGABQEGNADAsaNHjgIEEDiwIIBJkwUWBBhgQAGAlzBjAhAwIIDNmzcJ6FQgAIDPn0B/FghAlKiBBAMGAFjKtKlTpgQOOAgQgAEAAAIOANjKtavXrwcCEABAtqzZs2jNIghgAIDbt3Djyo1rIIACAHjz6t3LV6+AAQUOOABAuLDhw4gLExgQIEADAQAiS55MuXJkAQkCBDggAIDnz6BDi/5MIECABABSq17NuvXqAQEGKABAu7bt27gFIEgQIAADAMCDCx8+XMCBAgGSD0gAoLnz59CfNygQoHoAAwQAaN/Ovft2BQwCiEIPYIAAgPPo06tHv6BAgPcBDBAAQL++/fv0FSwoEKB/AIADEAAgWNDgQYMIAixkgAABAIgRJU6kWNHiRYwZNW7EGBAAOw==\"><title>Layer: flatten (hidden)\n Keras class = Flatten</title></image><text x=\"280.0\" y=\"439.5\" font-family=\"monospace\" font-size=\"12\" text-anchor=\"start\" alignment-baseline=\"central\">flatten</text><line x1=\"175.0\" y1=\"479\" x2=\"175.0\" y2=\"452\" stroke=\"black\" stroke-width=\"2\" marker-end=\"url(#arrow)\"><title>Weights from input to flatten</title></line><rect x=\"74.0\" y=\"479\" width=\"202\" height=\"202\" style=\"fill:none;stroke:black;stroke-width:2\"/><image id=\"MNIST-Autoencoder_input_18\" class=\"MNIST-Autoencoder_input\" x=\"75.0\" y=\"480\" height=\"200\" width=\"200\" preserveAspectRatio=\"none\" href=\"data:image/gif;base64,R0lGODdhHAAcAIcAAP39/BwcHOjo6CUlJcbGxjk5OVdXV4eHh5qammVlZdfX13Nzc0dHR6enp7W1tQAAAAAAAAAAAAAAAAAAAAAAAAAAAAAAAAAAAAAAAAAAAAAAAAAAAAAAAAAAAAAAAAAAAAAAAAAAAAAAAAAAAAAAAAAAAAAAAAAAAAAAAAAAAAAAAAAAAAAAAAAAAAAAAAAAAAAAAAAAAAAAAAAAAAAAAAAAAAAAAAAAAAAAAAAAAAAAAAAAAAAAAAAAAAAAAAAAAAAAAAAAAAAAAAAAAAAAAAAAAAAAAAAAAAAAAAAAAAAAAAAAAAAAAAAAAAAAAAAAAAAAAAAAAAAAAAAAAAAAAAAAAAAAAAAAAAAAAAAAAAAAAAAAAAAAAAAAAAAAAAAAAAAAAAAAAAAAAAAAAAAAAAAAAAAAAAAAAAAAAAAAAAAAAAAAAAAAAAAAAAAAAAAAAAAAAAAAAAAAAAAAAAAAAAAAAAAAAAAAAAAAAAAAAAAAAAAAAAAAAAAAAAAAAAAAAAAAAAAAAAAAAAAAAAAAAAAAAAAAAAAAAAAAAAAAAAAAAAAAAAAAAAAAAAAAAAAAAAAAAAAAAAAAAAAAAAAAAAAAAAAAAAAAAAAAAAAAAAAAAAAAAAAAAAAAAAAAAAAAAAAAAAAAAAAAAAAAAAAAAAAAAAAAAAAAAAAAAAAAAAAAAAAAAAAAAAAAAAAAAAAAAAAAAAAAAAAAAAAAAAAAAAAAAAAAAAAAAAAAAAAAAAAAAAAAAAAAAAAAAAAAAAAAAAAAAAAAAAAAAAAAAAAAAAAAAAAAAAAAAAAAAAAAAAAAAAAAAAAAAAAAAAAAAAAAAAAAAAAAAAAAAAAAAAAAAAAAAAAAAAAAAAAAAAAAAAAAAAAAAAAAAAAAAAAAAAAAAAAAAAAAAAAAAAAAAAAAAAAAAAAAAAAAAAAAAAAAAAAAAAAAAAAAAAAAAAAAAAAAAAAAAAAAAAAAAAAAAAAAAAAAAAAAAAAAAAAAAAAAAAAAAAAAAAAAAAAAAAAAAAAAACwAAAAAHAAcAEAI/wABCBxIsKDBgwgLBFi40ECCAQMASJxIsaLFigQCBEgAoKPHjx0RBBjJAAECAChTqlzJsqXLlzBRGgigAIDNmzhz6rzZoECAnwEMEABAtKjRo0iTKl0qQACBAwsCSJVaYEGAAQYUANjKtavXAwEIABhLtqzZs2cJDAgQoIEAAHDjyp1LF64ABAkCBGAAoK/fv4AXFAhAOIABAgASK17MuLHjx5AjS55MufLjBggSCFgQYEADAKBDiwYgYECA06hRE1itQACA17BjwyZwwEGAAAwAABBwAIDv38CDC0cQwACA48iTK1+uXMCAAgccAJhOvbr169UFJAgQ4IAAAODDi0QfT178gAADFABYz769+/YCDhQIQH9AAgD48+vfj18BA4ABBAYwQADAQYQJFSpYUCDAwwADEACgWNHiRYwZNW7k2PFiQAA7\"><title>Layer: input (input)\n shape = (28, 28, 1)\n Keras class = Input</title></image><text x=\"280.0\" y=\"582.0\" font-family=\"monospace\" font-size=\"12\" text-anchor=\"start\" alignment-baseline=\"central\">input</text><text x=\"280.0\" y=\"485\" font-family=\"monospace\" font-size=\"12\" text-anchor=\"start\" alignment-baseline=\"central\">1</text><text x=\"63.0\" y=\"675\" font-family=\"monospace\" font-size=\"12\" text-anchor=\"start\" alignment-baseline=\"central\">0</text></svg></p>"
      }
     },
     "82cb31c5669e4b28bb40e0c21ffd088c": {
      "model_module": "@jupyter-widgets/controls",
      "model_module_version": "1.0.0",
      "model_name": "ButtonModel",
      "state": {
       "icon": "backward",
       "layout": "IPY_MODEL_7b218ac9a6434ee4bea33abd10eb6a73",
       "style": "IPY_MODEL_8a0bced624ed479eaf416fb135534471"
      }
     },
     "82d5e20ca2274e95ae31d751004b2869": {
      "model_module": "@jupyter-widgets/controls",
      "model_module_version": "1.0.0",
      "model_name": "HTMLModel",
      "state": {
       "layout": "IPY_MODEL_8854d46ff3c040a89ecd09a5e18d04ee",
       "style": "IPY_MODEL_5a4653e6bef1496da9917e788b0856db",
       "value": "<p style=\"text-align:center\"><svg id='Autoencoder' xmlns='http://www.w3.org/2000/svg' width=\"350\" height=\"235\" image-rendering=\"pixelated\">\n    <defs>\n        <marker id=\"arrow\" markerWidth=\"10\" markerHeight=\"10\" refX=\"9\" refY=\"3\" orient=\"auto\" markerUnits=\"strokeWidth\">\n          <path d=\"M0,0 L0,6 L9,3 z\" fill=\"black\" />\n        </marker>\n    </defs><text x=\"175.0\" y=\"12.5\" font-family=\"monospace\" font-size=\"15\" text-anchor=\"middle\" alignment-baseline=\"central\">Autoencoder</text><rect x=\"74.0\" y=\"29\" width=\"202\" height=\"42\" style=\"fill:none;stroke:black;stroke-width:2\"/><image id=\"Autoencoder_output_4\" class=\"Autoencoder_output\" x=\"75.0\" y=\"30\" height=\"40\" width=\"200\" preserveAspectRatio=\"none\" href=\"data:image/gif;base64,R0lGODdhBQABAIcAAP7+/QAAAAAAAAAAAAAAAAAAAAAAAAAAAAAAAAAAAAAAAAAAAAAAAAAAAAAAAAAAAAAAAAAAAAAAAAAAAAAAAAAAAAAAAAAAAAAAAAAAAAAAAAAAAAAAAAAAAAAAAAAAAAAAAAAAAAAAAAAAAAAAAAAAAAAAAAAAAAAAAAAAAAAAAAAAAAAAAAAAAAAAAAAAAAAAAAAAAAAAAAAAAAAAAAAAAAAAAAAAAAAAAAAAAAAAAAAAAAAAAAAAAAAAAAAAAAAAAAAAAAAAAAAAAAAAAAAAAAAAAAAAAAAAAAAAAAAAAAAAAAAAAAAAAAAAAAAAAAAAAAAAAAAAAAAAAAAAAAAAAAAAAAAAAAAAAAAAAAAAAAAAAAAAAAAAAAAAAAAAAAAAAAAAAAAAAAAAAAAAAAAAAAAAAAAAAAAAAAAAAAAAAAAAAAAAAAAAAAAAAAAAAAAAAAAAAAAAAAAAAAAAAAAAAAAAAAAAAAAAAAAAAAAAAAAAAAAAAAAAAAAAAAAAAAAAAAAAAAAAAAAAAAAAAAAAAAAAAAAAAAAAAAAAAAAAAAAAAAAAAAAAAAAAAAAAAAAAAAAAAAAAAAAAAAAAAAAAAAAAAAAAAAAAAAAAAAAAAAAAAAAAAAAAAAAAAAAAAAAAAAAAAAAAAAAAAAAAAAAAAAAAAAAAAAAAAAAAAAAAAAAAAAAAAAAAAAAAAAAAAAAAAAAAAAAAAAAAAAAAAAAAAAAAAAAAAAAAAAAAAAAAAAAAAAAAAAAAAAAAAAAAAAAAAAAAAAAAAAAAAAAAAAAAAAAAAAAAAAAAAAAAAAAAAAAAAAAAAAAAAAAAAAAAAAAAAAAAAAAAAAAAAAAAAAAAAAAAAAAAAAAAAAAAAAAAAAAAAAAAAAAAAAAAAAAAAAAAAAAAAAAAAAAAAAAAAAAAAAAAAAAAAAAAAAAAAAAAAAAAAAAAAAAAAAAAAAAAAAAAAAAAAAAAAAAAAAAAAAAAAAAAAAAAAAAAAAAAAAAAAAAAAAAAAAAAAAAAAAAAACwAAAAABQABAAAIBgABCBQYEAA7\"><title>Layer: output (output)\n shape = (5,)\n Keras class = Dense\n activation = sigmoid</title></image><text x=\"280.0\" y=\"52.0\" font-family=\"monospace\" font-size=\"12\" text-anchor=\"start\" alignment-baseline=\"central\">output</text><line x1=\"175.0\" y1=\"99\" x2=\"175.0\" y2=\"72\" stroke=\"black\" stroke-width=\"2\" marker-end=\"url(#arrow)\"><title>Weights from hidden to output\n output/kernel has shape (5, 5)\n output/bias has shape (5,)</title></line><rect x=\"74.0\" y=\"99\" width=\"202\" height=\"42\" style=\"fill:none;stroke:black;stroke-width:2\"/><image id=\"Autoencoder_hidden_5\" class=\"Autoencoder_hidden\" x=\"75.0\" y=\"100\" height=\"40\" width=\"200\" preserveAspectRatio=\"none\" href=\"data:image/gif;base64,R0lGODdhBQABAIcAAP7+/QAAAAAAAAAAAAAAAAAAAAAAAAAAAAAAAAAAAAAAAAAAAAAAAAAAAAAAAAAAAAAAAAAAAAAAAAAAAAAAAAAAAAAAAAAAAAAAAAAAAAAAAAAAAAAAAAAAAAAAAAAAAAAAAAAAAAAAAAAAAAAAAAAAAAAAAAAAAAAAAAAAAAAAAAAAAAAAAAAAAAAAAAAAAAAAAAAAAAAAAAAAAAAAAAAAAAAAAAAAAAAAAAAAAAAAAAAAAAAAAAAAAAAAAAAAAAAAAAAAAAAAAAAAAAAAAAAAAAAAAAAAAAAAAAAAAAAAAAAAAAAAAAAAAAAAAAAAAAAAAAAAAAAAAAAAAAAAAAAAAAAAAAAAAAAAAAAAAAAAAAAAAAAAAAAAAAAAAAAAAAAAAAAAAAAAAAAAAAAAAAAAAAAAAAAAAAAAAAAAAAAAAAAAAAAAAAAAAAAAAAAAAAAAAAAAAAAAAAAAAAAAAAAAAAAAAAAAAAAAAAAAAAAAAAAAAAAAAAAAAAAAAAAAAAAAAAAAAAAAAAAAAAAAAAAAAAAAAAAAAAAAAAAAAAAAAAAAAAAAAAAAAAAAAAAAAAAAAAAAAAAAAAAAAAAAAAAAAAAAAAAAAAAAAAAAAAAAAAAAAAAAAAAAAAAAAAAAAAAAAAAAAAAAAAAAAAAAAAAAAAAAAAAAAAAAAAAAAAAAAAAAAAAAAAAAAAAAAAAAAAAAAAAAAAAAAAAAAAAAAAAAAAAAAAAAAAAAAAAAAAAAAAAAAAAAAAAAAAAAAAAAAAAAAAAAAAAAAAAAAAAAAAAAAAAAAAAAAAAAAAAAAAAAAAAAAAAAAAAAAAAAAAAAAAAAAAAAAAAAAAAAAAAAAAAAAAAAAAAAAAAAAAAAAAAAAAAAAAAAAAAAAAAAAAAAAAAAAAAAAAAAAAAAAAAAAAAAAAAAAAAAAAAAAAAAAAAAAAAAAAAAAAAAAAAAAAAAAAAAAAAAAAAAAAAAAAAAAAAAAAAAAAAAAAAAAAAAAAAAAAAAAAAAAAAAAAAAAAAAACwAAAAABQABAAAIBgABCBQYEAA7\"><title>Layer: hidden (hidden)\n shape = (5,)\n Keras class = Dense\n activation = relu</title></image><text x=\"280.0\" y=\"122.0\" font-family=\"monospace\" font-size=\"12\" text-anchor=\"start\" alignment-baseline=\"central\">hidden</text><line x1=\"175.0\" y1=\"169\" x2=\"175.0\" y2=\"142\" stroke=\"black\" stroke-width=\"2\" marker-end=\"url(#arrow)\"><title>Weights from input to hidden\n hidden/kernel has shape (5, 5)\n hidden/bias has shape (5,)</title></line><rect x=\"74.0\" y=\"169\" width=\"202\" height=\"42\" style=\"fill:none;stroke:black;stroke-width:2\"/><image id=\"Autoencoder_input_6\" class=\"Autoencoder_input\" x=\"75.0\" y=\"170\" height=\"40\" width=\"200\" preserveAspectRatio=\"none\" href=\"data:image/gif;base64,R0lGODdhBQABAIcAAGcAHwAAAAAAAAAAAAAAAAAAAAAAAAAAAAAAAAAAAAAAAAAAAAAAAAAAAAAAAAAAAAAAAAAAAAAAAAAAAAAAAAAAAAAAAAAAAAAAAAAAAAAAAAAAAAAAAAAAAAAAAAAAAAAAAAAAAAAAAAAAAAAAAAAAAAAAAAAAAAAAAAAAAAAAAAAAAAAAAAAAAAAAAAAAAAAAAAAAAAAAAAAAAAAAAAAAAAAAAAAAAAAAAAAAAAAAAAAAAAAAAAAAAAAAAAAAAAAAAAAAAAAAAAAAAAAAAAAAAAAAAAAAAAAAAAAAAAAAAAAAAAAAAAAAAAAAAAAAAAAAAAAAAAAAAAAAAAAAAAAAAAAAAAAAAAAAAAAAAAAAAAAAAAAAAAAAAAAAAAAAAAAAAAAAAAAAAAAAAAAAAAAAAAAAAAAAAAAAAAAAAAAAAAAAAAAAAAAAAAAAAAAAAAAAAAAAAAAAAAAAAAAAAAAAAAAAAAAAAAAAAAAAAAAAAAAAAAAAAAAAAAAAAAAAAAAAAAAAAAAAAAAAAAAAAAAAAAAAAAAAAAAAAAAAAAAAAAAAAAAAAAAAAAAAAAAAAAAAAAAAAAAAAAAAAAAAAAAAAAAAAAAAAAAAAAAAAAAAAAAAAAAAAAAAAAAAAAAAAAAAAAAAAAAAAAAAAAAAAAAAAAAAAAAAAAAAAAAAAAAAAAAAAAAAAAAAAAAAAAAAAAAAAAAAAAAAAAAAAAAAAAAAAAAAAAAAAAAAAAAAAAAAAAAAAAAAAAAAAAAAAAAAAAAAAAAAAAAAAAAAAAAAAAAAAAAAAAAAAAAAAAAAAAAAAAAAAAAAAAAAAAAAAAAAAAAAAAAAAAAAAAAAAAAAAAAAAAAAAAAAAAAAAAAAAAAAAAAAAAAAAAAAAAAAAAAAAAAAAAAAAAAAAAAAAAAAAAAAAAAAAAAAAAAAAAAAAAAAAAAAAAAAAAAAAAAAAAAAAAAAAAAAAAAAAAAAAAAAAAAAAAAAAAAAAAAAAAAAAAAAAAAAAAAAAAAAAAAAAAAAACwAAAAABQABAAAIBgABCBQYEAA7\"><title>Layer: input (input)\n shape = (5,)\n Keras class = Input</title></image><text x=\"280.0\" y=\"192.0\" font-family=\"monospace\" font-size=\"12\" text-anchor=\"start\" alignment-baseline=\"central\">input</text></svg></p>"
      }
     },
     "837518246dd146e086adad14d5e495c8": {
      "model_module": "@jupyter-widgets/base",
      "model_module_version": "1.0.0",
      "model_name": "LayoutModel",
      "state": {
       "width": "100%"
      }
     },
     "8385ae0e0209493f930fabbe38cb6f29": {
      "model_module": "@jupyter-widgets/controls",
      "model_module_version": "1.0.0",
      "model_name": "TabModel",
      "state": {
       "_titles": {
        "0": "Network",
        "1": "Help"
       },
       "children": [
        "IPY_MODEL_d60f15120270477c9e73d85c05f83363",
        "IPY_MODEL_909d3ddd52d44c079fc72a7513e531fc"
       ],
       "layout": "IPY_MODEL_6c1dc69b16ef450a9ccb6114154b4ac4"
      }
     },
     "83fd2566bff745e08ae74295d7ba7a83": {
      "model_module": "@jupyter-widgets/base",
      "model_module_version": "1.0.0",
      "model_name": "LayoutModel",
      "state": {
       "width": "100%"
      }
     },
     "8451ca828f454a5e9683885bedd5414a": {
      "model_module": "@jupyter-widgets/base",
      "model_module_version": "1.0.0",
      "model_name": "LayoutModel",
      "state": {
       "width": "100%"
      }
     },
     "849c07ed16fb4ded922f679b9510e6df": {
      "model_module": "@jupyter-widgets/base",
      "model_module_version": "1.0.0",
      "model_name": "LayoutModel",
      "state": {
       "width": "100%"
      }
     },
     "84b4573eff4b4726b9c358b6b8e38487": {
      "model_module": "@jupyter-widgets/controls",
      "model_module_version": "1.0.0",
      "model_name": "HBoxModel",
      "state": {
       "children": [
        "IPY_MODEL_87d4a62c39ea43a880fa003f52fad241",
        "IPY_MODEL_bde70b2759d94f1d9aee8c7d1d9223c5",
        "IPY_MODEL_1ff54a6331e54215ba254076d1f95023",
        "IPY_MODEL_897820e8e96b4dd58aa1c46a436b7861",
        "IPY_MODEL_dbd4be8ea6e548bab70d49fb5071a35d"
       ],
       "layout": "IPY_MODEL_c68496259fac45f9846d789ebe8b014f"
      }
     },
     "84f402c4a3a346f2885c73f9d930edbb": {
      "model_module": "@jupyter-widgets/controls",
      "model_module_version": "1.0.0",
      "model_name": "ButtonStyleModel",
      "state": {}
     },
     "85036e8f45f04cb6a03bb4f137156ac3": {
      "model_module": "@jupyter-widgets/controls",
      "model_module_version": "1.0.0",
      "model_name": "ButtonModel",
      "state": {
       "icon": "fast-backward",
       "layout": "IPY_MODEL_837518246dd146e086adad14d5e495c8",
       "style": "IPY_MODEL_b96b14f030c14307bda536f6da315c4a"
      }
     },
     "8535115cfd79408c81c03273690c1461": {
      "model_module": "@jupyter-widgets/base",
      "model_module_version": "1.0.0",
      "model_name": "LayoutModel",
      "state": {
       "width": "95%"
      }
     },
     "857076fd0c6d496d97cc092593729d2a": {
      "model_module": "@jupyter-widgets/controls",
      "model_module_version": "1.0.0",
      "model_name": "ButtonStyleModel",
      "state": {}
     },
     "85b485152bb7400ea6a135fd2444cbc1": {
      "model_module": "@jupyter-widgets/base",
      "model_module_version": "1.0.0",
      "model_name": "LayoutModel",
      "state": {
       "height": "50px",
       "width": "95%"
      }
     },
     "85f4e1d5b79844049b7c982fbfb2a43c": {
      "model_module": "@jupyter-widgets/base",
      "model_module_version": "1.0.0",
      "model_name": "LayoutModel",
      "state": {}
     },
     "86402b242129466d8645ec38eb154aa3": {
      "model_module": "@jupyter-widgets/controls",
      "model_module_version": "1.0.0",
      "model_name": "ButtonStyleModel",
      "state": {}
     },
     "87afa1857b304b0cbcb1ed107e568aa9": {
      "model_module": "@jupyter-widgets/controls",
      "model_module_version": "1.0.0",
      "model_name": "ButtonStyleModel",
      "state": {}
     },
     "87b4fed9d2e843139808bddb961ff909": {
      "model_module": "@jupyter-widgets/controls",
      "model_module_version": "1.0.0",
      "model_name": "IntSliderModel",
      "state": {
       "continuous_update": false,
       "description": "Dataset index",
       "layout": "IPY_MODEL_1661d1b090ac41639a80a0d590de1da9",
       "max": 0,
       "style": "IPY_MODEL_a16e5748c34e498f970c74badcb29123"
      }
     },
     "87d4a62c39ea43a880fa003f52fad241": {
      "model_module": "@jupyter-widgets/controls",
      "model_module_version": "1.0.0",
      "model_name": "ButtonModel",
      "state": {
       "icon": "fast-backward",
       "layout": "IPY_MODEL_312522a94e2846c29c9dae595b58c986",
       "style": "IPY_MODEL_ccb97e89cf974c068775fa70bd0cdbb4"
      }
     },
     "8854d46ff3c040a89ecd09a5e18d04ee": {
      "model_module": "@jupyter-widgets/base",
      "model_module_version": "1.0.0",
      "model_name": "LayoutModel",
      "state": {
       "height": "550px",
       "justify_content": "center",
       "overflow_x": "auto",
       "width": "95%"
      }
     },
     "886342619e4f47ac8b41b1282a326e7f": {
      "model_module": "@jupyter-widgets/base",
      "model_module_version": "1.0.0",
      "model_name": "LayoutModel",
      "state": {
       "width": "100%"
      }
     },
     "88753c9cc07c472d9c9bfd34648aebb4": {
      "model_module": "@jupyter-widgets/controls",
      "model_module_version": "1.0.0",
      "model_name": "VBoxModel",
      "state": {
       "children": [
        "IPY_MODEL_6c828f890cb0421c9b67f456454104b4",
        "IPY_MODEL_d9302ca135a6411d8958ae44a9cd4558"
       ],
       "layout": "IPY_MODEL_0c5495ecbee94c099d7cd3a89a88f5f0"
      }
     },
     "888eecaadf134f568a2223ebaaf48698": {
      "model_module": "@jupyter-widgets/base",
      "model_module_version": "1.0.0",
      "model_name": "LayoutModel",
      "state": {
       "width": "100%"
      }
     },
     "891429df0dea4d57a5c56dff4de536fc": {
      "model_module": "@jupyter-widgets/controls",
      "model_module_version": "1.0.0",
      "model_name": "SelectModel",
      "state": {
       "_options_labels": [
        "Test",
        "Train"
       ],
       "description": "Dataset:",
       "index": 0,
       "layout": "IPY_MODEL_6d5411bbdc6e41e6a8588fd9505829b5",
       "style": "IPY_MODEL_b8c8139e0abc4853990597c1cfca14eb"
      }
     },
     "894b55de400a4525a9dc2f1e3f6c55ca": {
      "model_module": "@jupyter-widgets/controls",
      "model_module_version": "1.0.0",
      "model_name": "SelectModel",
      "state": {
       "_options_labels": [
        "Test",
        "Train"
       ],
       "description": "Dataset:",
       "index": 1,
       "layout": "IPY_MODEL_4be0e3d7b7704c64917f69028fb3d054",
       "rows": 1,
       "style": "IPY_MODEL_ae95207db6b149afb1c1c9ff825ff38d"
      }
     },
     "897820e8e96b4dd58aa1c46a436b7861": {
      "model_module": "@jupyter-widgets/controls",
      "model_module_version": "1.0.0",
      "model_name": "ButtonModel",
      "state": {
       "icon": "forward",
       "layout": "IPY_MODEL_ab9e8ffb079c4422a070f54477bca349",
       "style": "IPY_MODEL_5a4423f65d1143379d5f427b40841b77"
      }
     },
     "898e74e41a2847fb8505bb4735f6ead2": {
      "model_module": "@jupyter-widgets/base",
      "model_module_version": "1.0.0",
      "model_name": "LayoutModel",
      "state": {
       "width": "100%"
      }
     },
     "89d3a46a3a854850ba8e38a68fe3fbde": {
      "model_module": "@jupyter-widgets/controls",
      "model_module_version": "1.0.0",
      "model_name": "ButtonModel",
      "state": {
       "disabled": true,
       "icon": "fast-backward",
       "layout": "IPY_MODEL_01ca6e646aa8461cbc40fd910b1124ab",
       "style": "IPY_MODEL_d4d3e7a314114d4db06d2c5f57562d4f"
      }
     },
     "89fe7406c575419d80cd9a1c3821b04b": {
      "model_module": "@jupyter-widgets/controls",
      "model_module_version": "1.0.0",
      "model_name": "DescriptionStyleModel",
      "state": {
       "description_width": ""
      }
     },
     "8a0bced624ed479eaf416fb135534471": {
      "model_module": "@jupyter-widgets/controls",
      "model_module_version": "1.0.0",
      "model_name": "ButtonStyleModel",
      "state": {}
     },
     "8a3aba71f2e541a69c7c958ad6de2782": {
      "model_module": "@jupyter-widgets/controls",
      "model_module_version": "1.0.0",
      "model_name": "DescriptionStyleModel",
      "state": {
       "description_width": ""
      }
     },
     "8b5b87e59fb14546948e4e63cd954769": {
      "model_module": "@jupyter-widgets/controls",
      "model_module_version": "1.0.0",
      "model_name": "VBoxModel",
      "state": {
       "children": [
        "IPY_MODEL_6a62b1aa5531477d807be450835b6423",
        "IPY_MODEL_aa5646aee2724c3ebffc8c89075a8ff4"
       ],
       "layout": "IPY_MODEL_e7603818264d4c60870ce50771a37e3c"
      }
     },
     "8b637bb7c8334bef9f3c5805fd029f43": {
      "model_module": "@jupyter-widgets/base",
      "model_module_version": "1.0.0",
      "model_name": "LayoutModel",
      "state": {
       "width": "100%"
      }
     },
     "8bc3ad9a0188487b9ccadc6e7cd0cc89": {
      "model_module": "@jupyter-widgets/base",
      "model_module_version": "1.0.0",
      "model_name": "LayoutModel",
      "state": {
       "width": "100%"
      }
     },
     "8c30c963d8174b518143599f5ef91263": {
      "model_module": "@jupyter-widgets/controls",
      "model_module_version": "1.0.0",
      "model_name": "ButtonStyleModel",
      "state": {}
     },
     "8c44309515ef4fd09b951ef3dbe73ec2": {
      "model_module": "@jupyter-widgets/base",
      "model_module_version": "1.0.0",
      "model_name": "LayoutModel",
      "state": {
       "height": "550px",
       "justify_content": "center",
       "overflow_x": "auto",
       "width": "95%"
      }
     },
     "8ce4b52fb3a444a6a8db8708b3439539": {
      "model_module": "@jupyter-widgets/base",
      "model_module_version": "1.0.0",
      "model_name": "LayoutModel",
      "state": {
       "height": "550px",
       "width": "95%"
      }
     },
     "8dbb12deab21423f8d2b5fb2120d058b": {
      "model_module": "@jupyter-widgets/controls",
      "model_module_version": "1.0.0",
      "model_name": "ButtonModel",
      "state": {
       "disabled": true,
       "icon": "backward",
       "layout": "IPY_MODEL_63c6aae652d540c28e1a819669327e0e",
       "style": "IPY_MODEL_b7e3675ff469455fa923ffd4d638dac0"
      }
     },
     "8dbe8c8f9e8041b88eb319c81a8e5998": {
      "model_module": "@jupyter-widgets/controls",
      "model_module_version": "1.0.0",
      "model_name": "TabModel",
      "state": {
       "_titles": {
        "0": "Network",
        "1": "Help"
       },
       "children": [
        "IPY_MODEL_2b93432d14544d969b8a58e12f4100d0",
        "IPY_MODEL_45a80a5d6a7547fa86784bd5bd66d0c8"
       ],
       "layout": "IPY_MODEL_56a287ab50b04c25a149bb5c70de316f"
      }
     },
     "8e0fcd7c456b4c829b0c6adc59bae7ce": {
      "model_module": "@jupyter-widgets/controls",
      "model_module_version": "1.0.0",
      "model_name": "ButtonModel",
      "state": {
       "icon": "forward",
       "layout": "IPY_MODEL_407f39249be84c89aa3d8a7ffa994c9a",
       "style": "IPY_MODEL_ecc34c1c259c4804b7b6be3a8c462822"
      }
     },
     "8e62b88740fb47069495de09c66dc188": {
      "model_module": "@jupyter-widgets/base",
      "model_module_version": "1.0.0",
      "model_name": "LayoutModel",
      "state": {
       "width": "95%"
      }
     },
     "8e7a380f3239453082eac7db45392a10": {
      "model_module": "@jupyter-widgets/controls",
      "model_module_version": "1.0.0",
      "model_name": "HTMLModel",
      "state": {
       "layout": "IPY_MODEL_f46421e818cf4d55b61fc5e3a3372a11",
       "style": "IPY_MODEL_fc64d74be48d4d6ab89f4745f3ea0e47",
       "value": "<p style=\"text-align:center\"><svg id='Autoencoder' xmlns='http://www.w3.org/2000/svg' width=\"350\" height=\"235\" image-rendering=\"pixelated\">\n    <defs>\n        <marker id=\"arrow\" markerWidth=\"10\" markerHeight=\"10\" refX=\"9\" refY=\"3\" orient=\"auto\" markerUnits=\"strokeWidth\">\n          <path d=\"M0,0 L0,6 L9,3 z\" fill=\"black\" />\n        </marker>\n    </defs><text x=\"175.0\" y=\"12.5\" font-family=\"monospace\" font-size=\"15\" text-anchor=\"middle\" alignment-baseline=\"central\">Autoencoder</text><rect x=\"74.0\" y=\"29\" width=\"202\" height=\"42\" style=\"fill:none;stroke:black;stroke-width:2\"/><image id=\"Autoencoder_output_7\" class=\"Autoencoder_output\" x=\"75.0\" y=\"30\" height=\"40\" width=\"200\" preserveAspectRatio=\"none\" href=\"data:image/gif;base64,R0lGODdhBQABAIcAAIgKJGcAH3t7e5sQJwAAAAAAAAAAAAAAAAAAAAAAAAAAAAAAAAAAAAAAAAAAAAAAAAAAAAAAAAAAAAAAAAAAAAAAAAAAAAAAAAAAAAAAAAAAAAAAAAAAAAAAAAAAAAAAAAAAAAAAAAAAAAAAAAAAAAAAAAAAAAAAAAAAAAAAAAAAAAAAAAAAAAAAAAAAAAAAAAAAAAAAAAAAAAAAAAAAAAAAAAAAAAAAAAAAAAAAAAAAAAAAAAAAAAAAAAAAAAAAAAAAAAAAAAAAAAAAAAAAAAAAAAAAAAAAAAAAAAAAAAAAAAAAAAAAAAAAAAAAAAAAAAAAAAAAAAAAAAAAAAAAAAAAAAAAAAAAAAAAAAAAAAAAAAAAAAAAAAAAAAAAAAAAAAAAAAAAAAAAAAAAAAAAAAAAAAAAAAAAAAAAAAAAAAAAAAAAAAAAAAAAAAAAAAAAAAAAAAAAAAAAAAAAAAAAAAAAAAAAAAAAAAAAAAAAAAAAAAAAAAAAAAAAAAAAAAAAAAAAAAAAAAAAAAAAAAAAAAAAAAAAAAAAAAAAAAAAAAAAAAAAAAAAAAAAAAAAAAAAAAAAAAAAAAAAAAAAAAAAAAAAAAAAAAAAAAAAAAAAAAAAAAAAAAAAAAAAAAAAAAAAAAAAAAAAAAAAAAAAAAAAAAAAAAAAAAAAAAAAAAAAAAAAAAAAAAAAAAAAAAAAAAAAAAAAAAAAAAAAAAAAAAAAAAAAAAAAAAAAAAAAAAAAAAAAAAAAAAAAAAAAAAAAAAAAAAAAAAAAAAAAAAAAAAAAAAAAAAAAAAAAAAAAAAAAAAAAAAAAAAAAAAAAAAAAAAAAAAAAAAAAAAAAAAAAAAAAAAAAAAAAAAAAAAAAAAAAAAAAAAAAAAAAAAAAAAAAAAAAAAAAAAAAAAAAAAAAAAAAAAAAAAAAAAAAAAAAAAAAAAAAAAAAAAAAAAAAAAAAAAAAAAAAAAAAAAAAAAAAAAAAAAAAAAAAAAAAAAAAAAAAAAAAAAAAAAAAAAAAAAAAAAAAACwAAAAABQABAAAICAAFAAAwIEBAADs=\"><title>Layer: output (output)\n shape = (5,)\n Keras class = Dense\n activation = sigmoid</title></image><text x=\"280.0\" y=\"52.0\" font-family=\"monospace\" font-size=\"12\" text-anchor=\"start\" alignment-baseline=\"central\">output</text><line x1=\"175.0\" y1=\"99\" x2=\"175.0\" y2=\"72\" stroke=\"black\" stroke-width=\"2\" marker-end=\"url(#arrow)\"><title>Weights from hidden to output\n output/kernel has shape (5, 5)\n output/bias has shape (5,)</title></line><rect x=\"74.0\" y=\"99\" width=\"202\" height=\"42\" style=\"fill:none;stroke:black;stroke-width:2\"/><image id=\"Autoencoder_hidden_8\" class=\"Autoencoder_hidden\" x=\"75.0\" y=\"100\" height=\"40\" width=\"200\" preserveAspectRatio=\"none\" href=\"data:image/gif;base64,R0lGODdhBQABAIcAABoaGi4uLmcAH3sGIvv7+wAAAAAAAAAAAAAAAAAAAAAAAAAAAAAAAAAAAAAAAAAAAAAAAAAAAAAAAAAAAAAAAAAAAAAAAAAAAAAAAAAAAAAAAAAAAAAAAAAAAAAAAAAAAAAAAAAAAAAAAAAAAAAAAAAAAAAAAAAAAAAAAAAAAAAAAAAAAAAAAAAAAAAAAAAAAAAAAAAAAAAAAAAAAAAAAAAAAAAAAAAAAAAAAAAAAAAAAAAAAAAAAAAAAAAAAAAAAAAAAAAAAAAAAAAAAAAAAAAAAAAAAAAAAAAAAAAAAAAAAAAAAAAAAAAAAAAAAAAAAAAAAAAAAAAAAAAAAAAAAAAAAAAAAAAAAAAAAAAAAAAAAAAAAAAAAAAAAAAAAAAAAAAAAAAAAAAAAAAAAAAAAAAAAAAAAAAAAAAAAAAAAAAAAAAAAAAAAAAAAAAAAAAAAAAAAAAAAAAAAAAAAAAAAAAAAAAAAAAAAAAAAAAAAAAAAAAAAAAAAAAAAAAAAAAAAAAAAAAAAAAAAAAAAAAAAAAAAAAAAAAAAAAAAAAAAAAAAAAAAAAAAAAAAAAAAAAAAAAAAAAAAAAAAAAAAAAAAAAAAAAAAAAAAAAAAAAAAAAAAAAAAAAAAAAAAAAAAAAAAAAAAAAAAAAAAAAAAAAAAAAAAAAAAAAAAAAAAAAAAAAAAAAAAAAAAAAAAAAAAAAAAAAAAAAAAAAAAAAAAAAAAAAAAAAAAAAAAAAAAAAAAAAAAAAAAAAAAAAAAAAAAAAAAAAAAAAAAAAAAAAAAAAAAAAAAAAAAAAAAAAAAAAAAAAAAAAAAAAAAAAAAAAAAAAAAAAAAAAAAAAAAAAAAAAAAAAAAAAAAAAAAAAAAAAAAAAAAAAAAAAAAAAAAAAAAAAAAAAAAAAAAAAAAAAAAAAAAAAAAAAAAAAAAAAAAAAAAAAAAAAAAAAAAAAAAAAAAAAAAAAAAAAAAAAAAAAAAAAAAAAAAAAAAAAAAAAAAAAAAAAAAAAAAAAAAAAAAAAAAAAAACwAAAAABQABAAAICAAJCAgAYEBAADs=\"><title>Layer: hidden (hidden)\n shape = (5,)\n Keras class = Dense\n activation = relu</title></image><text x=\"280.0\" y=\"122.0\" font-family=\"monospace\" font-size=\"12\" text-anchor=\"start\" alignment-baseline=\"central\">hidden</text><line x1=\"175.0\" y1=\"169\" x2=\"175.0\" y2=\"142\" stroke=\"black\" stroke-width=\"2\" marker-end=\"url(#arrow)\"><title>Weights from input to hidden\n hidden/kernel has shape (5, 5)\n hidden/bias has shape (5,)</title></line><rect x=\"74.0\" y=\"169\" width=\"202\" height=\"42\" style=\"fill:none;stroke:black;stroke-width:2\"/><image id=\"Autoencoder_input_9\" class=\"Autoencoder_input\" x=\"75.0\" y=\"170\" height=\"40\" width=\"200\" preserveAspectRatio=\"none\" href=\"data:image/gif;base64,R0lGODdhBQABAIcAAGcAHxoaGgAAAAAAAAAAAAAAAAAAAAAAAAAAAAAAAAAAAAAAAAAAAAAAAAAAAAAAAAAAAAAAAAAAAAAAAAAAAAAAAAAAAAAAAAAAAAAAAAAAAAAAAAAAAAAAAAAAAAAAAAAAAAAAAAAAAAAAAAAAAAAAAAAAAAAAAAAAAAAAAAAAAAAAAAAAAAAAAAAAAAAAAAAAAAAAAAAAAAAAAAAAAAAAAAAAAAAAAAAAAAAAAAAAAAAAAAAAAAAAAAAAAAAAAAAAAAAAAAAAAAAAAAAAAAAAAAAAAAAAAAAAAAAAAAAAAAAAAAAAAAAAAAAAAAAAAAAAAAAAAAAAAAAAAAAAAAAAAAAAAAAAAAAAAAAAAAAAAAAAAAAAAAAAAAAAAAAAAAAAAAAAAAAAAAAAAAAAAAAAAAAAAAAAAAAAAAAAAAAAAAAAAAAAAAAAAAAAAAAAAAAAAAAAAAAAAAAAAAAAAAAAAAAAAAAAAAAAAAAAAAAAAAAAAAAAAAAAAAAAAAAAAAAAAAAAAAAAAAAAAAAAAAAAAAAAAAAAAAAAAAAAAAAAAAAAAAAAAAAAAAAAAAAAAAAAAAAAAAAAAAAAAAAAAAAAAAAAAAAAAAAAAAAAAAAAAAAAAAAAAAAAAAAAAAAAAAAAAAAAAAAAAAAAAAAAAAAAAAAAAAAAAAAAAAAAAAAAAAAAAAAAAAAAAAAAAAAAAAAAAAAAAAAAAAAAAAAAAAAAAAAAAAAAAAAAAAAAAAAAAAAAAAAAAAAAAAAAAAAAAAAAAAAAAAAAAAAAAAAAAAAAAAAAAAAAAAAAAAAAAAAAAAAAAAAAAAAAAAAAAAAAAAAAAAAAAAAAAAAAAAAAAAAAAAAAAAAAAAAAAAAAAAAAAAAAAAAAAAAAAAAAAAAAAAAAAAAAAAAAAAAAAAAAAAAAAAAAAAAAAAAAAAAAAAAAAAAAAAAAAAAAAAAAAAAAAAAAAAAAAAAAAAAAAAAAAAAAAAAAAAAAAAAAAAAAAAAAAAAAAAAAAAAAAAAAAAAAACwAAAAABQABAAAIBwADABgIICAAOw==\"><title>Layer: input (input)\n shape = (5,)\n Keras class = Input</title></image><text x=\"280.0\" y=\"192.0\" font-family=\"monospace\" font-size=\"12\" text-anchor=\"start\" alignment-baseline=\"central\">input</text></svg></p>"
      }
     },
     "8eacaa4d34864c199d49342fb4cf6d5e": {
      "model_module": "@jupyter-widgets/controls",
      "model_module_version": "1.0.0",
      "model_name": "ButtonModel",
      "state": {
       "disabled": true,
       "icon": "fast-forward",
       "layout": "IPY_MODEL_849c07ed16fb4ded922f679b9510e6df",
       "style": "IPY_MODEL_9509cf1b6f0f43e38e3137c04beec3bc"
      }
     },
     "8ec810648d7b474cb374daa7cfac89cb": {
      "model_module": "@jupyter-widgets/base",
      "model_module_version": "1.0.0",
      "model_name": "LayoutModel",
      "state": {}
     },
     "8eed920729f643189e259c406437678a": {
      "model_module": "@jupyter-widgets/base",
      "model_module_version": "1.0.0",
      "model_name": "LayoutModel",
      "state": {
       "width": "100%"
      }
     },
     "8f224ca8fe3b4f7e9c3bf3cdd9ce3c52": {
      "model_module": "@jupyter-widgets/controls",
      "model_module_version": "1.0.0",
      "model_name": "VBoxModel",
      "state": {
       "children": [
        "IPY_MODEL_55b3d4a7ab5949a9871494f2c9f87e2d",
        "IPY_MODEL_1ec69ddabdca4a638fabf305ff453ae9"
       ],
       "layout": "IPY_MODEL_aa45d023ec1e4c11876f6b69023fa707"
      }
     },
     "90258d7babcc4ff9bf1808daae28dccc": {
      "model_module": "@jupyter-widgets/controls",
      "model_module_version": "1.0.0",
      "model_name": "SliderStyleModel",
      "state": {
       "description_width": ""
      }
     },
     "909d3ddd52d44c079fc72a7513e531fc": {
      "model_module": "@jupyter-widgets/controls",
      "model_module_version": "1.0.0",
      "model_name": "HTMLModel",
      "state": {
       "layout": "IPY_MODEL_0ffe14eabdcc42f5a49e72d5e4059b1d",
       "style": "IPY_MODEL_4e4e81f8550b448e88b1fdef38c720ac",
       "value": "<iframe src=\"https://conx.readthedocs.io\" width=\"100%\" height=\"550px\"></frame>"
      }
     },
     "90edd89f2c6140f8a4da84fceab6ecc6": {
      "model_module": "@jupyter-widgets/base",
      "model_module_version": "1.0.0",
      "model_name": "LayoutModel",
      "state": {
       "height": "550px",
       "width": "95%"
      }
     },
     "910b6315c454440aa9df02b16fe762cb": {
      "model_module": "@jupyter-widgets/controls",
      "model_module_version": "1.0.0",
      "model_name": "ButtonStyleModel",
      "state": {}
     },
     "91413a9c90a74c2f893f321950b9b43d": {
      "model_module": "@jupyter-widgets/controls",
      "model_module_version": "1.0.0",
      "model_name": "ButtonStyleModel",
      "state": {}
     },
     "91d55a0c767241488344e5008c89ea47": {
      "model_module": "@jupyter-widgets/controls",
      "model_module_version": "1.0.0",
      "model_name": "SliderStyleModel",
      "state": {
       "description_width": ""
      }
     },
     "91fe1d6ab2f442b1aa02fa0c4afd5527": {
      "model_module": "@jupyter-widgets/base",
      "model_module_version": "1.0.0",
      "model_name": "LayoutModel",
      "state": {}
     },
     "9221d0660f9240b5b8265ef0f039df51": {
      "model_module": "@jupyter-widgets/controls",
      "model_module_version": "1.0.0",
      "model_name": "ButtonStyleModel",
      "state": {}
     },
     "925bbf5342ed4304be49bdb06a6ace49": {
      "model_module": "@jupyter-widgets/controls",
      "model_module_version": "1.0.0",
      "model_name": "ButtonModel",
      "state": {
       "icon": "refresh",
       "layout": "IPY_MODEL_771d662c8d8245809217a3eb2ddfd938",
       "style": "IPY_MODEL_9f443eb789bc44779b5150eddd2d825e"
      }
     },
     "925e856d43c7449b849dd562c87d7147": {
      "model_module": "@jupyter-widgets/controls",
      "model_module_version": "1.0.0",
      "model_name": "ButtonModel",
      "state": {
       "description": "Train",
       "layout": "IPY_MODEL_3739f81ef96649338a3bb544ee24f4ab",
       "style": "IPY_MODEL_0e889d6517984840bfc8c3b94872b193"
      }
     },
     "92981b74e5b84b64bbbe70c790680379": {
      "model_module": "@jupyter-widgets/base",
      "model_module_version": "1.0.0",
      "model_name": "LayoutModel",
      "state": {
       "width": "95%"
      }
     },
     "933e3fac5f024f50bb8f341c0fd3cb68": {
      "model_module": "@jupyter-widgets/controls",
      "model_module_version": "1.0.0",
      "model_name": "DescriptionStyleModel",
      "state": {
       "description_width": ""
      }
     },
     "94a524d7aca4490a9ec0d708219c1021": {
      "model_module": "@jupyter-widgets/controls",
      "model_module_version": "1.0.0",
      "model_name": "VBoxModel",
      "state": {
       "children": [
        "IPY_MODEL_411120a928a84e18a3647a542aabd767",
        "IPY_MODEL_6e74bf895b924462ae10e0196fa847f1"
       ],
       "layout": "IPY_MODEL_a574cc04fb084946999633cd43b6c922"
      }
     },
     "94bbdf1cbe4d494793eda8d49b2bb044": {
      "model_module": "@jupyter-widgets/base",
      "model_module_version": "1.0.0",
      "model_name": "LayoutModel",
      "state": {
       "width": "100%"
      }
     },
     "94dd2bf8f194449f9c915a9566f67360": {
      "model_module": "@jupyter-widgets/controls",
      "model_module_version": "1.0.0",
      "model_name": "ButtonStyleModel",
      "state": {}
     },
     "9509cf1b6f0f43e38e3137c04beec3bc": {
      "model_module": "@jupyter-widgets/controls",
      "model_module_version": "1.0.0",
      "model_name": "ButtonStyleModel",
      "state": {}
     },
     "951ce0d25a18426492956336c2726270": {
      "model_module": "@jupyter-widgets/controls",
      "model_module_version": "1.0.0",
      "model_name": "HTMLModel",
      "state": {
       "layout": "IPY_MODEL_13f8372e0d2a4be08a4f2b16c740ae3c",
       "style": "IPY_MODEL_36cb2212714b44c68d8612ad3aefd67b",
       "value": "<p style=\"text-align:center\"><svg id='Autoencoder' xmlns='http://www.w3.org/2000/svg' width=\"350\" height=\"235\" image-rendering=\"pixelated\">\n    <defs>\n        <marker id=\"arrow\" markerWidth=\"10\" markerHeight=\"10\" refX=\"9\" refY=\"3\" orient=\"auto\" markerUnits=\"strokeWidth\">\n          <path d=\"M0,0 L0,6 L9,3 z\" fill=\"black\" />\n        </marker>\n    </defs><text x=\"175.0\" y=\"12.5\" font-family=\"monospace\" font-size=\"15\" text-anchor=\"middle\" alignment-baseline=\"central\">Autoencoder</text><rect x=\"74.0\" y=\"29\" width=\"202\" height=\"42\" style=\"fill:none;stroke:black;stroke-width:2\"/><image id=\"Autoencoder_output_25\" class=\"Autoencoder_output\" x=\"75.0\" y=\"30\" height=\"40\" width=\"200\" preserveAspectRatio=\"none\" href=\"data:image/gif;base64,R0lGODdhBQABAIcAAKWlpcbGxtHR0e/v7/7w5wAAAAAAAAAAAAAAAAAAAAAAAAAAAAAAAAAAAAAAAAAAAAAAAAAAAAAAAAAAAAAAAAAAAAAAAAAAAAAAAAAAAAAAAAAAAAAAAAAAAAAAAAAAAAAAAAAAAAAAAAAAAAAAAAAAAAAAAAAAAAAAAAAAAAAAAAAAAAAAAAAAAAAAAAAAAAAAAAAAAAAAAAAAAAAAAAAAAAAAAAAAAAAAAAAAAAAAAAAAAAAAAAAAAAAAAAAAAAAAAAAAAAAAAAAAAAAAAAAAAAAAAAAAAAAAAAAAAAAAAAAAAAAAAAAAAAAAAAAAAAAAAAAAAAAAAAAAAAAAAAAAAAAAAAAAAAAAAAAAAAAAAAAAAAAAAAAAAAAAAAAAAAAAAAAAAAAAAAAAAAAAAAAAAAAAAAAAAAAAAAAAAAAAAAAAAAAAAAAAAAAAAAAAAAAAAAAAAAAAAAAAAAAAAAAAAAAAAAAAAAAAAAAAAAAAAAAAAAAAAAAAAAAAAAAAAAAAAAAAAAAAAAAAAAAAAAAAAAAAAAAAAAAAAAAAAAAAAAAAAAAAAAAAAAAAAAAAAAAAAAAAAAAAAAAAAAAAAAAAAAAAAAAAAAAAAAAAAAAAAAAAAAAAAAAAAAAAAAAAAAAAAAAAAAAAAAAAAAAAAAAAAAAAAAAAAAAAAAAAAAAAAAAAAAAAAAAAAAAAAAAAAAAAAAAAAAAAAAAAAAAAAAAAAAAAAAAAAAAAAAAAAAAAAAAAAAAAAAAAAAAAAAAAAAAAAAAAAAAAAAAAAAAAAAAAAAAAAAAAAAAAAAAAAAAAAAAAAAAAAAAAAAAAAAAAAAAAAAAAAAAAAAAAAAAAAAAAAAAAAAAAAAAAAAAAAAAAAAAAAAAAAAAAAAAAAAAAAAAAAAAAAAAAAAAAAAAAAAAAAAAAAAAAAAAAAAAAAAAAAAAAAAAAAAAAAAAAAAAAAAAAAAAAAAAAAAAAAAAAAAAAAAAAAAAAAAAAAAAAAAAAAAAAAAAAAAAAAAAAAAAAACwAAAAABQABAAAICAAFABhAIEBAADs=\"><title>Layer: output (output)\n shape = (5,)\n Keras class = Dense\n activation = sigmoid</title></image><text x=\"280.0\" y=\"52.0\" font-family=\"monospace\" font-size=\"12\" text-anchor=\"start\" alignment-baseline=\"central\">output</text><line x1=\"175.0\" y1=\"99\" x2=\"175.0\" y2=\"72\" stroke=\"black\" stroke-width=\"2\" marker-end=\"url(#arrow)\"><title>Weights from hidden to output\n output/kernel has shape (5, 5)\n output/bias has shape (5,)</title></line><rect x=\"74.0\" y=\"99\" width=\"202\" height=\"42\" style=\"fill:none;stroke:black;stroke-width:2\"/><image id=\"Autoencoder_hidden_26\" class=\"Autoencoder_hidden\" x=\"75.0\" y=\"100\" height=\"40\" width=\"200\" preserveAspectRatio=\"none\" href=\"data:image/gif;base64,R0lGODdhBQABAIcAABoaGmcAH87Ozv3i0f7t4wAAAAAAAAAAAAAAAAAAAAAAAAAAAAAAAAAAAAAAAAAAAAAAAAAAAAAAAAAAAAAAAAAAAAAAAAAAAAAAAAAAAAAAAAAAAAAAAAAAAAAAAAAAAAAAAAAAAAAAAAAAAAAAAAAAAAAAAAAAAAAAAAAAAAAAAAAAAAAAAAAAAAAAAAAAAAAAAAAAAAAAAAAAAAAAAAAAAAAAAAAAAAAAAAAAAAAAAAAAAAAAAAAAAAAAAAAAAAAAAAAAAAAAAAAAAAAAAAAAAAAAAAAAAAAAAAAAAAAAAAAAAAAAAAAAAAAAAAAAAAAAAAAAAAAAAAAAAAAAAAAAAAAAAAAAAAAAAAAAAAAAAAAAAAAAAAAAAAAAAAAAAAAAAAAAAAAAAAAAAAAAAAAAAAAAAAAAAAAAAAAAAAAAAAAAAAAAAAAAAAAAAAAAAAAAAAAAAAAAAAAAAAAAAAAAAAAAAAAAAAAAAAAAAAAAAAAAAAAAAAAAAAAAAAAAAAAAAAAAAAAAAAAAAAAAAAAAAAAAAAAAAAAAAAAAAAAAAAAAAAAAAAAAAAAAAAAAAAAAAAAAAAAAAAAAAAAAAAAAAAAAAAAAAAAAAAAAAAAAAAAAAAAAAAAAAAAAAAAAAAAAAAAAAAAAAAAAAAAAAAAAAAAAAAAAAAAAAAAAAAAAAAAAAAAAAAAAAAAAAAAAAAAAAAAAAAAAAAAAAAAAAAAAAAAAAAAAAAAAAAAAAAAAAAAAAAAAAAAAAAAAAAAAAAAAAAAAAAAAAAAAAAAAAAAAAAAAAAAAAAAAAAAAAAAAAAAAAAAAAAAAAAAAAAAAAAAAAAAAAAAAAAAAAAAAAAAAAAAAAAAAAAAAAAAAAAAAAAAAAAAAAAAAAAAAAAAAAAAAAAAAAAAAAAAAAAAAAAAAAAAAAAAAAAAAAAAAAAAAAAAAAAAAAAAAAAAAAAAAAAAAAAAAAAAAAAAAAAAAAAAAAAAAAAAAAAAAAAAAAAAAAAAAAAAAAAAAAAAAAAAAACwAAAAABQABAAAICAADABBAYEBAADs=\"><title>Layer: hidden (hidden)\n shape = (5,)\n Keras class = Dense\n activation = relu</title></image><text x=\"280.0\" y=\"122.0\" font-family=\"monospace\" font-size=\"12\" text-anchor=\"start\" alignment-baseline=\"central\">hidden</text><line x1=\"175.0\" y1=\"169\" x2=\"175.0\" y2=\"142\" stroke=\"black\" stroke-width=\"2\" marker-end=\"url(#arrow)\"><title>Weights from input to hidden\n hidden/kernel has shape (5, 5)\n hidden/bias has shape (5,)</title></line><rect x=\"74.0\" y=\"169\" width=\"202\" height=\"42\" style=\"fill:none;stroke:black;stroke-width:2\"/><image id=\"Autoencoder_input_27\" class=\"Autoencoder_input\" x=\"75.0\" y=\"170\" height=\"40\" width=\"200\" preserveAspectRatio=\"none\" href=\"data:image/gif;base64,R0lGODdhBQABAIcAAGcAHxoaGgAAAAAAAAAAAAAAAAAAAAAAAAAAAAAAAAAAAAAAAAAAAAAAAAAAAAAAAAAAAAAAAAAAAAAAAAAAAAAAAAAAAAAAAAAAAAAAAAAAAAAAAAAAAAAAAAAAAAAAAAAAAAAAAAAAAAAAAAAAAAAAAAAAAAAAAAAAAAAAAAAAAAAAAAAAAAAAAAAAAAAAAAAAAAAAAAAAAAAAAAAAAAAAAAAAAAAAAAAAAAAAAAAAAAAAAAAAAAAAAAAAAAAAAAAAAAAAAAAAAAAAAAAAAAAAAAAAAAAAAAAAAAAAAAAAAAAAAAAAAAAAAAAAAAAAAAAAAAAAAAAAAAAAAAAAAAAAAAAAAAAAAAAAAAAAAAAAAAAAAAAAAAAAAAAAAAAAAAAAAAAAAAAAAAAAAAAAAAAAAAAAAAAAAAAAAAAAAAAAAAAAAAAAAAAAAAAAAAAAAAAAAAAAAAAAAAAAAAAAAAAAAAAAAAAAAAAAAAAAAAAAAAAAAAAAAAAAAAAAAAAAAAAAAAAAAAAAAAAAAAAAAAAAAAAAAAAAAAAAAAAAAAAAAAAAAAAAAAAAAAAAAAAAAAAAAAAAAAAAAAAAAAAAAAAAAAAAAAAAAAAAAAAAAAAAAAAAAAAAAAAAAAAAAAAAAAAAAAAAAAAAAAAAAAAAAAAAAAAAAAAAAAAAAAAAAAAAAAAAAAAAAAAAAAAAAAAAAAAAAAAAAAAAAAAAAAAAAAAAAAAAAAAAAAAAAAAAAAAAAAAAAAAAAAAAAAAAAAAAAAAAAAAAAAAAAAAAAAAAAAAAAAAAAAAAAAAAAAAAAAAAAAAAAAAAAAAAAAAAAAAAAAAAAAAAAAAAAAAAAAAAAAAAAAAAAAAAAAAAAAAAAAAAAAAAAAAAAAAAAAAAAAAAAAAAAAAAAAAAAAAAAAAAAAAAAAAAAAAAAAAAAAAAAAAAAAAAAAAAAAAAAAAAAAAAAAAAAAAAAAAAAAAAAAAAAAAAAAAAAAAAAAAAAAAAAAAAAAAAAAAAAAAAAAAAAAAAACwAAAAABQABAAAIBwADABgIICAAOw==\"><title>Layer: input (input)\n shape = (5,)\n Keras class = Input</title></image><text x=\"280.0\" y=\"192.0\" font-family=\"monospace\" font-size=\"12\" text-anchor=\"start\" alignment-baseline=\"central\">input</text></svg></p>"
      }
     },
     "951fd1ce2e0a4b0ea5cc337f478217e6": {
      "model_module": "@jupyter-widgets/base",
      "model_module_version": "1.0.0",
      "model_name": "LayoutModel",
      "state": {
       "width": "95%"
      }
     },
     "959cee17369149bba3fa675fda0db9d3": {
      "model_module": "@jupyter-widgets/controls",
      "model_module_version": "1.0.0",
      "model_name": "HBoxModel",
      "state": {
       "children": [
        "IPY_MODEL_9a377968a4f64d22a69c76b47a57fa2b",
        "IPY_MODEL_8dbb12deab21423f8d2b5fb2120d058b",
        "IPY_MODEL_3f9559f4462c4b2c9814677294d4ef34",
        "IPY_MODEL_119b17b2796a4622829690805d0b655e",
        "IPY_MODEL_fa145d01efed4d6eb824e4b6ed2c0e54"
       ],
       "layout": "IPY_MODEL_e6b024d397284c0c8a78390e4e2b3592"
      }
     },
     "95b3bb24cb8e4bbca4304593956ba872": {
      "model_module": "@jupyter-widgets/controls",
      "model_module_version": "1.0.0",
      "model_name": "ButtonStyleModel",
      "state": {}
     },
     "95d28a206efb46bc9f3566a04d2310e3": {
      "model_module": "@jupyter-widgets/controls",
      "model_module_version": "1.0.0",
      "model_name": "SelectModel",
      "state": {
       "_options_labels": [
        "Test",
        "Train"
       ],
       "description": "Dataset:",
       "index": 1,
       "layout": "IPY_MODEL_d2ae73a809b946c38fb4d9db3278573f",
       "rows": 1,
       "style": "IPY_MODEL_d3ebcc4fd3824039bd14839caf757918"
      }
     },
     "960a6206f4bc47d7a3623b37a65ee01e": {
      "model_module": "@jupyter-widgets/base",
      "model_module_version": "1.0.0",
      "model_name": "LayoutModel",
      "state": {}
     },
     "96328d67d597418abf646235109e3496": {
      "model_module": "@jupyter-widgets/base",
      "model_module_version": "1.0.0",
      "model_name": "LayoutModel",
      "state": {
       "height": "550px",
       "justify_content": "center",
       "overflow_x": "auto",
       "width": "100%"
      }
     },
     "963dfdc83e0641f8942f57774bc250f0": {
      "model_module": "@jupyter-widgets/controls",
      "model_module_version": "1.0.0",
      "model_name": "ButtonModel",
      "state": {
       "icon": "fast-forward",
       "layout": "IPY_MODEL_6750a4ea93f5463ea1b8d9a88ddc0eda",
       "style": "IPY_MODEL_19c550ec982b4679895d2a23211f5a62"
      }
     },
     "964091e602394ab7aa2e1d855231937f": {
      "model_module": "@jupyter-widgets/base",
      "model_module_version": "1.0.0",
      "model_name": "LayoutModel",
      "state": {
       "width": "100%"
      }
     },
     "971b7d65685341ee98df2053402731ad": {
      "model_module": "@jupyter-widgets/base",
      "model_module_version": "1.0.0",
      "model_name": "LayoutModel",
      "state": {
       "width": "100%"
      }
     },
     "973d1998fa8c4c5cb48f102f80395a8d": {
      "model_module": "@jupyter-widgets/controls",
      "model_module_version": "1.0.0",
      "model_name": "ButtonStyleModel",
      "state": {}
     },
     "973f59df59ee44e5adda5c2ed629da5c": {
      "model_module": "@jupyter-widgets/controls",
      "model_module_version": "1.0.0",
      "model_name": "ButtonModel",
      "state": {
       "icon": "backward",
       "layout": "IPY_MODEL_303fe5af8dbe4097b11467360d18e8cd",
       "style": "IPY_MODEL_22d9d593f8dc42219485cc954f5f65bf"
      }
     },
     "97fcdd949ef9421a83f678e511ffd580": {
      "model_module": "@jupyter-widgets/controls",
      "model_module_version": "1.0.0",
      "model_name": "HTMLModel",
      "state": {
       "layout": "IPY_MODEL_f69a9d7839d84ed5b525020aae367333",
       "style": "IPY_MODEL_d0f4da72187e49fea072c259323a5a26",
       "value": "<iframe src=\"https://conx.readthedocs.io\" width=\"100%\" height=\"550px\"></frame>"
      }
     },
     "98e06d662c1c4acb8f5f11d5a630d690": {
      "model_module": "@jupyter-widgets/controls",
      "model_module_version": "1.0.0",
      "model_name": "ButtonModel",
      "state": {
       "icon": "fast-forward",
       "layout": "IPY_MODEL_ed13d3f55db14ff19ea388796005f0ff",
       "style": "IPY_MODEL_4b9fb365cb2643f59c1de3039e841a99"
      }
     },
     "9934f616313e4b328e4eabb104141324": {
      "model_module": "@jupyter-widgets/controls",
      "model_module_version": "1.0.0",
      "model_name": "ButtonModel",
      "state": {
       "icon": "fast-forward",
       "layout": "IPY_MODEL_4e0f2dba1f604765b7fa28c3c8769d15",
       "style": "IPY_MODEL_d30c4001caec42c6b94ad533182d9b0a"
      }
     },
     "995fad39df574d51a1495cebcf003ce3": {
      "model_module": "@jupyter-widgets/controls",
      "model_module_version": "1.0.0",
      "model_name": "IntSliderModel",
      "state": {
       "continuous_update": false,
       "description": "Dataset index",
       "layout": "IPY_MODEL_a5ff56db243644f6a2d49f9b008a1165",
       "max": 4,
       "style": "IPY_MODEL_820786f869bb46909caf8165db43f17a"
      }
     },
     "99633d9b23f149059cd860e41f5402e9": {
      "model_module": "@jupyter-widgets/base",
      "model_module_version": "1.0.0",
      "model_name": "LayoutModel",
      "state": {}
     },
     "9a105e2340e24a719390a62b10a7c707": {
      "model_module": "@jupyter-widgets/controls",
      "model_module_version": "1.0.0",
      "model_name": "ButtonModel",
      "state": {
       "description": "Train",
       "disabled": true,
       "layout": "IPY_MODEL_00be8386c1b84d93969d290bf93de1a5",
       "style": "IPY_MODEL_bd2e710444304335bf2e7417d6d5be18"
      }
     },
     "9a1203e782844fddb065709496e2f9de": {
      "model_module": "@jupyter-widgets/controls",
      "model_module_version": "1.0.0",
      "model_name": "ButtonStyleModel",
      "state": {}
     },
     "9a13229c5b8c476a82423e27d55337d5": {
      "model_module": "@jupyter-widgets/controls",
      "model_module_version": "1.0.0",
      "model_name": "VBoxModel",
      "state": {
       "children": [
        "IPY_MODEL_b79ad73fd2624a96bf598f36b0434d28",
        "IPY_MODEL_4a51ccbcb516402d863feb84f8cb5b05",
        "IPY_MODEL_84b4573eff4b4726b9c358b6b8e38487"
       ],
       "layout": "IPY_MODEL_92981b74e5b84b64bbbe70c790680379"
      }
     },
     "9a377968a4f64d22a69c76b47a57fa2b": {
      "model_module": "@jupyter-widgets/controls",
      "model_module_version": "1.0.0",
      "model_name": "ButtonModel",
      "state": {
       "disabled": true,
       "icon": "fast-backward",
       "layout": "IPY_MODEL_fef124c330524566800bcca1a3a740f9",
       "style": "IPY_MODEL_910b6315c454440aa9df02b16fe762cb"
      }
     },
     "9a7c7c349fda4883a3ee214f2cf26366": {
      "model_module": "@jupyter-widgets/controls",
      "model_module_version": "1.0.0",
      "model_name": "IntSliderModel",
      "state": {
       "continuous_update": false,
       "description": "Dataset index",
       "layout": "IPY_MODEL_2eeacc467f1745d4b2746203d6729d48",
       "max": 4,
       "style": "IPY_MODEL_91d55a0c767241488344e5008c89ea47"
      }
     },
     "9ae057fa6e1544748d83a855576743ca": {
      "model_module": "@jupyter-widgets/controls",
      "model_module_version": "1.0.0",
      "model_name": "HTMLModel",
      "state": {
       "layout": "IPY_MODEL_3ee017b483f041948d7eb8b79c68e746",
       "style": "IPY_MODEL_0caa6fe2b4cc4c7c80cbb173367618e9",
       "value": "<iframe src=\"https://conx.readthedocs.io\" width=\"100%\" height=\"550px\"></frame>"
      }
     },
     "9b57619c4b9f40f78afa20d59f65b592": {
      "model_module": "@jupyter-widgets/base",
      "model_module_version": "1.0.0",
      "model_name": "LayoutModel",
      "state": {
       "height": "550px",
       "width": "100%"
      }
     },
     "9bbcde93237548eab19e89c5003c0e29": {
      "model_module": "@jupyter-widgets/controls",
      "model_module_version": "1.0.0",
      "model_name": "HBoxModel",
      "state": {
       "children": [
        "IPY_MODEL_ded9c0798f934a7681bcf6955b5be25a",
        "IPY_MODEL_d35feedde61f4fafad4fc4ffd420fdf1",
        "IPY_MODEL_74332709a1ab495d8e74ac500e414527",
        "IPY_MODEL_1755ac5d31a04060b42d36bf58b3d880",
        "IPY_MODEL_8eacaa4d34864c199d49342fb4cf6d5e"
       ],
       "layout": "IPY_MODEL_1148f6e57bcd4c40ac1f0935d69e580b"
      }
     },
     "9bde0cdf54944177b84387bcd387dfb5": {
      "model_module": "@jupyter-widgets/controls",
      "model_module_version": "1.0.0",
      "model_name": "TabModel",
      "state": {
       "_titles": {
        "0": "Network",
        "1": "Help"
       },
       "children": [
        "IPY_MODEL_64b0018c7e984278bd5eecd69fda455e",
        "IPY_MODEL_69c86aef7fc644958ada7549024f75df"
       ],
       "layout": "IPY_MODEL_57b7549f375145268cbcf9d73a88ea9a"
      }
     },
     "9c5090e8fa7147d594695cb3cc0bb027": {
      "model_module": "@jupyter-widgets/controls",
      "model_module_version": "1.0.0",
      "model_name": "ButtonStyleModel",
      "state": {}
     },
     "9c7f21eb3a844579a6c11eb80bb4df1d": {
      "model_module": "@jupyter-widgets/controls",
      "model_module_version": "1.0.0",
      "model_name": "ButtonStyleModel",
      "state": {}
     },
     "9cfec0179c674cd29c92e715709b486b": {
      "model_module": "@jupyter-widgets/controls",
      "model_module_version": "1.0.0",
      "model_name": "IntSliderModel",
      "state": {
       "continuous_update": false,
       "description": "Dataset index",
       "disabled": true,
       "layout": "IPY_MODEL_898e74e41a2847fb8505bb4735f6ead2",
       "max": 0,
       "style": "IPY_MODEL_259d64ebd5bc4f94b1034ef8be78cb50"
      }
     },
     "9d2b4a140af54198b7b6fc83725d4348": {
      "model_module": "@jupyter-widgets/controls",
      "model_module_version": "1.0.0",
      "model_name": "DescriptionStyleModel",
      "state": {
       "description_width": ""
      }
     },
     "9d37ca9a9ec349968777d43461e179b0": {
      "model_module": "@jupyter-widgets/controls",
      "model_module_version": "1.0.0",
      "model_name": "HBoxModel",
      "state": {
       "children": [
        "IPY_MODEL_85036e8f45f04cb6a03bb4f137156ac3",
        "IPY_MODEL_1629262ba39f4cb0b2ed9ec1ce1bc29f",
        "IPY_MODEL_01122caa9ef14988915feb5e2264dc70",
        "IPY_MODEL_6b386400b5c646728a06157fc71bdea3",
        "IPY_MODEL_71acb5be24a7421c99e52a02b4bf496c"
       ],
       "layout": "IPY_MODEL_a031cc57d6594c65b46cf74470a7f722"
      }
     },
     "9dcd114453a747c9a3bde91c5a6192bd": {
      "model_module": "@jupyter-widgets/base",
      "model_module_version": "1.0.0",
      "model_name": "LayoutModel",
      "state": {}
     },
     "9e20825455a546f09cb7917ce4607e42": {
      "model_module": "@jupyter-widgets/controls",
      "model_module_version": "1.0.0",
      "model_name": "SelectModel",
      "state": {
       "_options_labels": [
        "Test",
        "Train"
       ],
       "description": "Dataset:",
       "index": 1,
       "layout": "IPY_MODEL_d2f8f17909b244219c7a54bdd1abc06e",
       "rows": 1,
       "style": "IPY_MODEL_e841ba3721014d19bd091e1ec0d95718"
      }
     },
     "9e24d6519e0245f9a37f1f0ac10585f7": {
      "model_module": "@jupyter-widgets/controls",
      "model_module_version": "1.0.0",
      "model_name": "ButtonStyleModel",
      "state": {}
     },
     "9e7d8efe8dc243f09e8457d05f099fd9": {
      "model_module": "@jupyter-widgets/base",
      "model_module_version": "1.0.0",
      "model_name": "LayoutModel",
      "state": {
       "width": "95%"
      }
     },
     "9ede2c5d48664cb5bf320d689dbeae47": {
      "model_module": "@jupyter-widgets/controls",
      "model_module_version": "1.0.0",
      "model_name": "ButtonModel",
      "state": {
       "icon": "fast-backward",
       "layout": "IPY_MODEL_b62f6dc8cbe54e7c81c430dcbd8b5426",
       "style": "IPY_MODEL_a3adb7aefdfb49d0b87023de9c3e7b4d"
      }
     },
     "9f443eb789bc44779b5150eddd2d825e": {
      "model_module": "@jupyter-widgets/controls",
      "model_module_version": "1.0.0",
      "model_name": "ButtonStyleModel",
      "state": {}
     },
     "a031cc57d6594c65b46cf74470a7f722": {
      "model_module": "@jupyter-widgets/base",
      "model_module_version": "1.0.0",
      "model_name": "LayoutModel",
      "state": {
       "height": "50px",
       "width": "95%"
      }
     },
     "a1139044da9b4d828bd2296aeb596ed9": {
      "model_module": "@jupyter-widgets/base",
      "model_module_version": "1.0.0",
      "model_name": "LayoutModel",
      "state": {
       "width": "95%"
      }
     },
     "a16e5748c34e498f970c74badcb29123": {
      "model_module": "@jupyter-widgets/controls",
      "model_module_version": "1.0.0",
      "model_name": "SliderStyleModel",
      "state": {
       "description_width": ""
      }
     },
     "a2507dd4ccdd4ce68153fbe52497fa35": {
      "model_module": "@jupyter-widgets/controls",
      "model_module_version": "1.0.0",
      "model_name": "VBoxModel",
      "state": {
       "children": [
        "IPY_MODEL_d78d8993f2de4da2983d17ef9509440e",
        "IPY_MODEL_5e09f2b2b8ff4f74ba732ae4dd2af7d1"
       ],
       "layout": "IPY_MODEL_44b49e02785646368ce27f11758caa9d"
      }
     },
     "a25b39bd39714b1c882c79ec11e77dfa": {
      "model_module": "@jupyter-widgets/controls",
      "model_module_version": "1.0.0",
      "model_name": "ButtonStyleModel",
      "state": {}
     },
     "a2676b967d424698a6c0aa6dfa4d6902": {
      "model_module": "@jupyter-widgets/base",
      "model_module_version": "1.0.0",
      "model_name": "LayoutModel",
      "state": {
       "width": "100%"
      }
     },
     "a2dc3d4be44247d5b12df81893add602": {
      "model_module": "@jupyter-widgets/base",
      "model_module_version": "1.0.0",
      "model_name": "LayoutModel",
      "state": {
       "width": "100%"
      }
     },
     "a311090f559c4766b549804531b5e5db": {
      "model_module": "@jupyter-widgets/base",
      "model_module_version": "1.0.0",
      "model_name": "LayoutModel",
      "state": {
       "width": "100%"
      }
     },
     "a359d83662b44479957daf9ee56f639f": {
      "model_module": "@jupyter-widgets/controls",
      "model_module_version": "1.0.0",
      "model_name": "TabModel",
      "state": {
       "_titles": {
        "0": "Network",
        "1": "Help"
       },
       "children": [
        "IPY_MODEL_48b1923e4df441d89942045d7a57c2f5",
        "IPY_MODEL_63f25326a84b4b24a7b37027b3340426"
       ],
       "layout": "IPY_MODEL_c6ae2b43bbfd42a3aba71976bbb97c2f"
      }
     },
     "a3720946425e4bbb9249f88b4d2a3f0b": {
      "model_module": "@jupyter-widgets/controls",
      "model_module_version": "1.0.0",
      "model_name": "ButtonModel",
      "state": {
       "icon": "forward",
       "layout": "IPY_MODEL_4b5e7ef5e0ac474a8688fd1ca9a6e993",
       "style": "IPY_MODEL_94dd2bf8f194449f9c915a9566f67360"
      }
     },
     "a3adb7aefdfb49d0b87023de9c3e7b4d": {
      "model_module": "@jupyter-widgets/controls",
      "model_module_version": "1.0.0",
      "model_name": "ButtonStyleModel",
      "state": {}
     },
     "a3cca75e275a4cca8b4ed408ba71806a": {
      "model_module": "@jupyter-widgets/controls",
      "model_module_version": "1.0.0",
      "model_name": "HTMLModel",
      "state": {
       "layout": "IPY_MODEL_8c44309515ef4fd09b951ef3dbe73ec2",
       "style": "IPY_MODEL_bf74232cef7a41688d6a646ba433d8b8",
       "value": "<p style=\"text-align:center\"><svg id='Autoencoder' xmlns='http://www.w3.org/2000/svg' width=\"350\" height=\"235\" image-rendering=\"pixelated\">\n    <defs>\n        <marker id=\"arrow\" markerWidth=\"10\" markerHeight=\"10\" refX=\"9\" refY=\"3\" orient=\"auto\" markerUnits=\"strokeWidth\">\n          <path d=\"M0,0 L0,6 L9,3 z\" fill=\"black\" />\n        </marker>\n    </defs><text x=\"175.0\" y=\"12.5\" font-family=\"monospace\" font-size=\"15\" text-anchor=\"middle\" alignment-baseline=\"central\">Autoencoder</text><rect x=\"74.0\" y=\"29\" width=\"202\" height=\"42\" style=\"fill:none;stroke:black;stroke-width:2\"/><image id=\"Autoencoder_output_7\" class=\"Autoencoder_output\" x=\"75.0\" y=\"30\" height=\"40\" width=\"200\" preserveAspectRatio=\"none\" href=\"data:image/gif;base64,R0lGODdhBQABAIcAAGoAHzw8PG8CIAAAAAAAAAAAAAAAAAAAAAAAAAAAAAAAAAAAAAAAAAAAAAAAAAAAAAAAAAAAAAAAAAAAAAAAAAAAAAAAAAAAAAAAAAAAAAAAAAAAAAAAAAAAAAAAAAAAAAAAAAAAAAAAAAAAAAAAAAAAAAAAAAAAAAAAAAAAAAAAAAAAAAAAAAAAAAAAAAAAAAAAAAAAAAAAAAAAAAAAAAAAAAAAAAAAAAAAAAAAAAAAAAAAAAAAAAAAAAAAAAAAAAAAAAAAAAAAAAAAAAAAAAAAAAAAAAAAAAAAAAAAAAAAAAAAAAAAAAAAAAAAAAAAAAAAAAAAAAAAAAAAAAAAAAAAAAAAAAAAAAAAAAAAAAAAAAAAAAAAAAAAAAAAAAAAAAAAAAAAAAAAAAAAAAAAAAAAAAAAAAAAAAAAAAAAAAAAAAAAAAAAAAAAAAAAAAAAAAAAAAAAAAAAAAAAAAAAAAAAAAAAAAAAAAAAAAAAAAAAAAAAAAAAAAAAAAAAAAAAAAAAAAAAAAAAAAAAAAAAAAAAAAAAAAAAAAAAAAAAAAAAAAAAAAAAAAAAAAAAAAAAAAAAAAAAAAAAAAAAAAAAAAAAAAAAAAAAAAAAAAAAAAAAAAAAAAAAAAAAAAAAAAAAAAAAAAAAAAAAAAAAAAAAAAAAAAAAAAAAAAAAAAAAAAAAAAAAAAAAAAAAAAAAAAAAAAAAAAAAAAAAAAAAAAAAAAAAAAAAAAAAAAAAAAAAAAAAAAAAAAAAAAAAAAAAAAAAAAAAAAAAAAAAAAAAAAAAAAAAAAAAAAAAAAAAAAAAAAAAAAAAAAAAAAAAAAAAAAAAAAAAAAAAAAAAAAAAAAAAAAAAAAAAAAAAAAAAAAAAAAAAAAAAAAAAAAAAAAAAAAAAAAAAAAAAAAAAAAAAAAAAAAAAAAAAAAAAAAAAAAAAAAAAAAAAAAAAAAAAAAAAAAAAAAAAAAAAAAAAAAAAAAAAAAAAAAAAAAAAAAAAAAAAAAAAAAAAAAAAAAAAAAAAAAAAACwAAAAABQABAAAIBwADABgoICAAOw==\"><title>Layer: output (output)\n shape = (5,)\n Keras class = Dense\n activation = sigmoid</title></image><text x=\"280.0\" y=\"52.0\" font-family=\"monospace\" font-size=\"12\" text-anchor=\"start\" alignment-baseline=\"central\">output</text><line x1=\"175.0\" y1=\"99\" x2=\"175.0\" y2=\"72\" stroke=\"black\" stroke-width=\"2\" marker-end=\"url(#arrow)\"><title>Weights from hidden to output\n output/kernel has shape (5, 5)\n output/bias has shape (5,)</title></line><rect x=\"74.0\" y=\"99\" width=\"202\" height=\"42\" style=\"fill:none;stroke:black;stroke-width:2\"/><image id=\"Autoencoder_hidden_8\" class=\"Autoencoder_hidden\" x=\"75.0\" y=\"100\" height=\"40\" width=\"200\" preserveAspectRatio=\"none\" href=\"data:image/gif;base64,R0lGODdhBQABAIcAAGcAHxoaGs7Ozu7u7gAAAAAAAAAAAAAAAAAAAAAAAAAAAAAAAAAAAAAAAAAAAAAAAAAAAAAAAAAAAAAAAAAAAAAAAAAAAAAAAAAAAAAAAAAAAAAAAAAAAAAAAAAAAAAAAAAAAAAAAAAAAAAAAAAAAAAAAAAAAAAAAAAAAAAAAAAAAAAAAAAAAAAAAAAAAAAAAAAAAAAAAAAAAAAAAAAAAAAAAAAAAAAAAAAAAAAAAAAAAAAAAAAAAAAAAAAAAAAAAAAAAAAAAAAAAAAAAAAAAAAAAAAAAAAAAAAAAAAAAAAAAAAAAAAAAAAAAAAAAAAAAAAAAAAAAAAAAAAAAAAAAAAAAAAAAAAAAAAAAAAAAAAAAAAAAAAAAAAAAAAAAAAAAAAAAAAAAAAAAAAAAAAAAAAAAAAAAAAAAAAAAAAAAAAAAAAAAAAAAAAAAAAAAAAAAAAAAAAAAAAAAAAAAAAAAAAAAAAAAAAAAAAAAAAAAAAAAAAAAAAAAAAAAAAAAAAAAAAAAAAAAAAAAAAAAAAAAAAAAAAAAAAAAAAAAAAAAAAAAAAAAAAAAAAAAAAAAAAAAAAAAAAAAAAAAAAAAAAAAAAAAAAAAAAAAAAAAAAAAAAAAAAAAAAAAAAAAAAAAAAAAAAAAAAAAAAAAAAAAAAAAAAAAAAAAAAAAAAAAAAAAAAAAAAAAAAAAAAAAAAAAAAAAAAAAAAAAAAAAAAAAAAAAAAAAAAAAAAAAAAAAAAAAAAAAAAAAAAAAAAAAAAAAAAAAAAAAAAAAAAAAAAAAAAAAAAAAAAAAAAAAAAAAAAAAAAAAAAAAAAAAAAAAAAAAAAAAAAAAAAAAAAAAAAAAAAAAAAAAAAAAAAAAAAAAAAAAAAAAAAAAAAAAAAAAAAAAAAAAAAAAAAAAAAAAAAAAAAAAAAAAAAAAAAAAAAAAAAAAAAAAAAAAAAAAAAAAAAAAAAAAAAAAAAAAAAAAAAAAAAAAAAAAAAAAAAAAAAAAAAAAAAAAAAAAAAAAAAAAAAAAAAAACwAAAAABQABAAAICAAHABAAIEBAADs=\"><title>Layer: hidden (hidden)\n shape = (5,)\n Keras class = Dense\n activation = relu</title></image><text x=\"280.0\" y=\"122.0\" font-family=\"monospace\" font-size=\"12\" text-anchor=\"start\" alignment-baseline=\"central\">hidden</text><line x1=\"175.0\" y1=\"169\" x2=\"175.0\" y2=\"142\" stroke=\"black\" stroke-width=\"2\" marker-end=\"url(#arrow)\"><title>Weights from input to hidden\n hidden/kernel has shape (5, 5)\n hidden/bias has shape (5,)</title></line><rect x=\"74.0\" y=\"169\" width=\"202\" height=\"42\" style=\"fill:none;stroke:black;stroke-width:2\"/><image id=\"Autoencoder_input_9\" class=\"Autoencoder_input\" x=\"75.0\" y=\"170\" height=\"40\" width=\"200\" preserveAspectRatio=\"none\" href=\"data:image/gif;base64,R0lGODdhBQABAIcAAGcAHxoaGgAAAAAAAAAAAAAAAAAAAAAAAAAAAAAAAAAAAAAAAAAAAAAAAAAAAAAAAAAAAAAAAAAAAAAAAAAAAAAAAAAAAAAAAAAAAAAAAAAAAAAAAAAAAAAAAAAAAAAAAAAAAAAAAAAAAAAAAAAAAAAAAAAAAAAAAAAAAAAAAAAAAAAAAAAAAAAAAAAAAAAAAAAAAAAAAAAAAAAAAAAAAAAAAAAAAAAAAAAAAAAAAAAAAAAAAAAAAAAAAAAAAAAAAAAAAAAAAAAAAAAAAAAAAAAAAAAAAAAAAAAAAAAAAAAAAAAAAAAAAAAAAAAAAAAAAAAAAAAAAAAAAAAAAAAAAAAAAAAAAAAAAAAAAAAAAAAAAAAAAAAAAAAAAAAAAAAAAAAAAAAAAAAAAAAAAAAAAAAAAAAAAAAAAAAAAAAAAAAAAAAAAAAAAAAAAAAAAAAAAAAAAAAAAAAAAAAAAAAAAAAAAAAAAAAAAAAAAAAAAAAAAAAAAAAAAAAAAAAAAAAAAAAAAAAAAAAAAAAAAAAAAAAAAAAAAAAAAAAAAAAAAAAAAAAAAAAAAAAAAAAAAAAAAAAAAAAAAAAAAAAAAAAAAAAAAAAAAAAAAAAAAAAAAAAAAAAAAAAAAAAAAAAAAAAAAAAAAAAAAAAAAAAAAAAAAAAAAAAAAAAAAAAAAAAAAAAAAAAAAAAAAAAAAAAAAAAAAAAAAAAAAAAAAAAAAAAAAAAAAAAAAAAAAAAAAAAAAAAAAAAAAAAAAAAAAAAAAAAAAAAAAAAAAAAAAAAAAAAAAAAAAAAAAAAAAAAAAAAAAAAAAAAAAAAAAAAAAAAAAAAAAAAAAAAAAAAAAAAAAAAAAAAAAAAAAAAAAAAAAAAAAAAAAAAAAAAAAAAAAAAAAAAAAAAAAAAAAAAAAAAAAAAAAAAAAAAAAAAAAAAAAAAAAAAAAAAAAAAAAAAAAAAAAAAAAAAAAAAAAAAAAAAAAAAAAAAAAAAAAAAAAAAAAAAAAAAAAAAAAAAAAAAAAAAAAAAAACwAAAAABQABAAAIBwADABgIICAAOw==\"><title>Layer: input (input)\n shape = (5,)\n Keras class = Input</title></image><text x=\"280.0\" y=\"192.0\" font-family=\"monospace\" font-size=\"12\" text-anchor=\"start\" alignment-baseline=\"central\">input</text></svg></p>"
      }
     },
     "a3f6847a88cd434dbf5593a187d88225": {
      "model_module": "@jupyter-widgets/controls",
      "model_module_version": "1.0.0",
      "model_name": "ButtonModel",
      "state": {
       "icon": "backward",
       "layout": "IPY_MODEL_5a27b9d9108e460493218762293af3f3",
       "style": "IPY_MODEL_76b1b7cad27a40028944242dca545bd4"
      }
     },
     "a439ddd3f67e4e9da4cafaafa985286a": {
      "model_module": "@jupyter-widgets/controls",
      "model_module_version": "1.0.0",
      "model_name": "ButtonStyleModel",
      "state": {}
     },
     "a4c490e4181f48bb97e691c63a8b4c95": {
      "model_module": "@jupyter-widgets/base",
      "model_module_version": "1.0.0",
      "model_name": "LayoutModel",
      "state": {
       "width": "100%"
      }
     },
     "a4ca5d0c1faf48c2a3a3e41383abe3c3": {
      "model_module": "@jupyter-widgets/base",
      "model_module_version": "1.0.0",
      "model_name": "LayoutModel",
      "state": {}
     },
     "a52f524ef5854db490b56e00395af3da": {
      "model_module": "@jupyter-widgets/controls",
      "model_module_version": "1.0.0",
      "model_name": "HBoxModel",
      "state": {
       "children": [
        "IPY_MODEL_4f7d4943c8c540ea92d9bddfce114304",
        "IPY_MODEL_d8e8b84cf05a4ebc96945863afb0f4d2"
       ],
       "layout": "IPY_MODEL_7003fb9b1ad5485a9431bcdf1a27fb44"
      }
     },
     "a5586b2f489c4ab68c215f37c51a2596": {
      "model_module": "@jupyter-widgets/controls",
      "model_module_version": "1.0.0",
      "model_name": "ButtonModel",
      "state": {
       "icon": "backward",
       "layout": "IPY_MODEL_f2fc5bd67c6a49bc8c9f4c60d2608307",
       "style": "IPY_MODEL_7f7dbcdde9d64bfc9db498888c818b1d"
      }
     },
     "a574cc04fb084946999633cd43b6c922": {
      "model_module": "@jupyter-widgets/base",
      "model_module_version": "1.0.0",
      "model_name": "LayoutModel",
      "state": {
       "height": "550px",
       "width": "100%"
      }
     },
     "a5ff56db243644f6a2d49f9b008a1165": {
      "model_module": "@jupyter-widgets/base",
      "model_module_version": "1.0.0",
      "model_name": "LayoutModel",
      "state": {
       "width": "95%"
      }
     },
     "a647c77704a84b8ca72c140f1c6ed208": {
      "model_module": "@jupyter-widgets/controls",
      "model_module_version": "1.0.0",
      "model_name": "SelectModel",
      "state": {
       "_options_labels": [
        "Test",
        "Train"
       ],
       "description": "Dataset:",
       "index": 1,
       "layout": "IPY_MODEL_a66f3e5f3460495f9219131a0756c263",
       "rows": 1,
       "style": "IPY_MODEL_5c03469683974e4c95a3a8b235a25a5d"
      }
     },
     "a66f3e5f3460495f9219131a0756c263": {
      "model_module": "@jupyter-widgets/base",
      "model_module_version": "1.0.0",
      "model_name": "LayoutModel",
      "state": {}
     },
     "a680929160124266baae60a0560e6c56": {
      "model_module": "@jupyter-widgets/base",
      "model_module_version": "1.0.0",
      "model_name": "LayoutModel",
      "state": {}
     },
     "a6b4abf651ec47819f37aa7ad8fbc816": {
      "model_module": "@jupyter-widgets/controls",
      "model_module_version": "1.0.0",
      "model_name": "ButtonModel",
      "state": {
       "description": "Train",
       "layout": "IPY_MODEL_b9626e70b4e741c59fb85eb3f5bee699",
       "style": "IPY_MODEL_3312ca852ee2456a95aa4398c08e8795"
      }
     },
     "a775b635796c4ddb95cd74a74ff6b021": {
      "model_module": "@jupyter-widgets/controls",
      "model_module_version": "1.0.0",
      "model_name": "DescriptionStyleModel",
      "state": {
       "description_width": ""
      }
     },
     "a7c361b9876d456eaf7267cf3386bccd": {
      "model_module": "@jupyter-widgets/controls",
      "model_module_version": "1.0.0",
      "model_name": "ButtonStyleModel",
      "state": {}
     },
     "a8716c5971a44bb89eb1328ad8029abe": {
      "model_module": "@jupyter-widgets/controls",
      "model_module_version": "1.0.0",
      "model_name": "ButtonModel",
      "state": {
       "icon": "forward",
       "layout": "IPY_MODEL_66e6f63f75e642d7b23200935e5c3891",
       "style": "IPY_MODEL_e2e364ad9b9440e9b7f90407ab571b5f"
      }
     },
     "a87402710ab34e29a5a49402961429ef": {
      "model_module": "@jupyter-widgets/controls",
      "model_module_version": "1.0.0",
      "model_name": "ButtonModel",
      "state": {
       "disabled": true,
       "icon": "backward",
       "layout": "IPY_MODEL_3499f7ea507542e88c285c90aa393659",
       "style": "IPY_MODEL_14ec05b94c6b4bc193a618a1202e7fe4"
      }
     },
     "a921172608954ebea2fb5654ac60cd63": {
      "model_module": "@jupyter-widgets/base",
      "model_module_version": "1.0.0",
      "model_name": "LayoutModel",
      "state": {
       "width": "100%"
      }
     },
     "a9b254b9ae614afbad27375b52bf799e": {
      "model_module": "@jupyter-widgets/controls",
      "model_module_version": "1.0.0",
      "model_name": "ButtonModel",
      "state": {
       "icon": "fast-forward",
       "layout": "IPY_MODEL_68ed8027d07a4efc87bdaf6de9d91b5f",
       "style": "IPY_MODEL_7e6d652dc4c642dfbd7a39c6d47e7800"
      }
     },
     "a9e4efc5e3a947e7b069a0522ff76010": {
      "model_module": "@jupyter-widgets/controls",
      "model_module_version": "1.0.0",
      "model_name": "ButtonModel",
      "state": {
       "icon": "fast-backward",
       "layout": "IPY_MODEL_0239b5efc761414cb3cf470cbe02b622",
       "style": "IPY_MODEL_f60e3967fac94bd89cab7cbe15762c5f"
      }
     },
     "aa45d023ec1e4c11876f6b69023fa707": {
      "model_module": "@jupyter-widgets/base",
      "model_module_version": "1.0.0",
      "model_name": "LayoutModel",
      "state": {
       "height": "550px",
       "width": "95%"
      }
     },
     "aa5646aee2724c3ebffc8c89075a8ff4": {
      "model_module": "@jupyter-widgets/controls",
      "model_module_version": "1.0.0",
      "model_name": "VBoxModel",
      "state": {
       "children": [
        "IPY_MODEL_388d73ba60314243833f633449cf9a1c",
        "IPY_MODEL_0af3eddbae804e1393e6014272895b60",
        "IPY_MODEL_5a61df43abe342ff869b3380f03033e8"
       ],
       "layout": "IPY_MODEL_cf8cf23a10a547e6b9b28e2b09175962"
      }
     },
     "ab1b9d206dfb44aeabe9f4f7bfad963f": {
      "model_module": "@jupyter-widgets/controls",
      "model_module_version": "1.0.0",
      "model_name": "ButtonModel",
      "state": {
       "icon": "refresh",
       "layout": "IPY_MODEL_83fd2566bff745e08ae74295d7ba7a83",
       "style": "IPY_MODEL_3e0f495078604d33a696e2479ac5b730"
      }
     },
     "ab9e8ffb079c4422a070f54477bca349": {
      "model_module": "@jupyter-widgets/base",
      "model_module_version": "1.0.0",
      "model_name": "LayoutModel",
      "state": {
       "width": "100%"
      }
     },
     "aba0142303434625b9a49885fc6c2edb": {
      "model_module": "@jupyter-widgets/controls",
      "model_module_version": "1.0.0",
      "model_name": "ButtonModel",
      "state": {
       "icon": "backward",
       "layout": "IPY_MODEL_3a4bdadcf00741f1add463b1e49bffcd",
       "style": "IPY_MODEL_014d9d03d71a41a2bd0d6e31fc15e84e"
      }
     },
     "abd9b6f864644ce6b5795de7da1a34af": {
      "model_module": "@jupyter-widgets/controls",
      "model_module_version": "1.0.0",
      "model_name": "HTMLModel",
      "state": {
       "layout": "IPY_MODEL_ba82b2905f3a405d882589c601549943",
       "style": "IPY_MODEL_4351d1ab64d54180887e5fadf6b50751",
       "value": "<iframe src=\"https://conx.readthedocs.io\" width=\"100%\" height=\"550px\"></frame>"
      }
     },
     "ac00171f87704e67b5bc80f210c637b5": {
      "model_module": "@jupyter-widgets/controls",
      "model_module_version": "1.0.0",
      "model_name": "ButtonModel",
      "state": {
       "icon": "forward",
       "layout": "IPY_MODEL_e9f42c5fac29462ea3fda48ca0d51256",
       "style": "IPY_MODEL_973d1998fa8c4c5cb48f102f80395a8d"
      }
     },
     "ac5270acc7b9472c9f4ff52db75cb532": {
      "model_module": "@jupyter-widgets/controls",
      "model_module_version": "1.0.0",
      "model_name": "SelectModel",
      "state": {
       "_options_labels": [
        "Test",
        "Train"
       ],
       "description": "Dataset:",
       "index": 1,
       "layout": "IPY_MODEL_e1e29a5b402247fc9a692ce5279f6119",
       "rows": 1,
       "style": "IPY_MODEL_89fe7406c575419d80cd9a1c3821b04b"
      }
     },
     "acd7db2d38a94dd5933cff46c278c45e": {
      "model_module": "@jupyter-widgets/base",
      "model_module_version": "1.0.0",
      "model_name": "LayoutModel",
      "state": {
       "width": "95%"
      }
     },
     "ad385066f59d4d13a72f56c7bf885a12": {
      "model_module": "@jupyter-widgets/controls",
      "model_module_version": "1.0.0",
      "model_name": "ButtonStyleModel",
      "state": {}
     },
     "ae371f87c8804d30ae5bacf1c1c33f98": {
      "model_module": "@jupyter-widgets/controls",
      "model_module_version": "1.0.0",
      "model_name": "DescriptionStyleModel",
      "state": {
       "description_width": ""
      }
     },
     "ae3f07d76812439589b1962eebd89820": {
      "model_module": "@jupyter-widgets/base",
      "model_module_version": "1.0.0",
      "model_name": "LayoutModel",
      "state": {}
     },
     "ae95207db6b149afb1c1c9ff825ff38d": {
      "model_module": "@jupyter-widgets/controls",
      "model_module_version": "1.0.0",
      "model_name": "DescriptionStyleModel",
      "state": {
       "description_width": ""
      }
     },
     "af083f280c154c35bad03b08966f323b": {
      "model_module": "@jupyter-widgets/base",
      "model_module_version": "1.0.0",
      "model_name": "LayoutModel",
      "state": {}
     },
     "af585e1f781e470f952e5784f47ac367": {
      "model_module": "@jupyter-widgets/base",
      "model_module_version": "1.0.0",
      "model_name": "LayoutModel",
      "state": {
       "width": "100%"
      }
     },
     "afbe0fbe46b54179a1afbe51e34c2c30": {
      "model_module": "@jupyter-widgets/base",
      "model_module_version": "1.0.0",
      "model_name": "LayoutModel",
      "state": {}
     },
     "b03418fb437c43ec8ef8ab2986c1c3df": {
      "model_module": "@jupyter-widgets/controls",
      "model_module_version": "1.0.0",
      "model_name": "HBoxModel",
      "state": {
       "children": [
        "IPY_MODEL_a9e4efc5e3a947e7b069a0522ff76010",
        "IPY_MODEL_4dfead9586004d2b989dab6f2b515ce7",
        "IPY_MODEL_06aca067f09a4025b376017484a1eb80",
        "IPY_MODEL_5dd5b92b037f4ca0aa511d069ed4bca6",
        "IPY_MODEL_c3818cd918e44bfbaf81bed223ad03e6"
       ],
       "layout": "IPY_MODEL_ba0a18a8a0704b7291befe362e2a135a"
      }
     },
     "b0bd6882b5804f04bf1a34bb2b765afa": {
      "model_module": "@jupyter-widgets/controls",
      "model_module_version": "1.0.0",
      "model_name": "VBoxModel",
      "state": {
       "children": [
        "IPY_MODEL_a52f524ef5854db490b56e00395af3da",
        "IPY_MODEL_7a7910aae4724923afda6318fb94fad7",
        "IPY_MODEL_04a4870372b544de81ab6298f5bdacac"
       ],
       "layout": "IPY_MODEL_cfee0fe1551a48d980984a16f8877004"
      }
     },
     "b0e0a2dbcda3486b9cbcf15cce766056": {
      "model_module": "@jupyter-widgets/controls",
      "model_module_version": "1.0.0",
      "model_name": "ButtonStyleModel",
      "state": {}
     },
     "b1036952a5b04c0ba836a5cbf4a941f9": {
      "model_module": "@jupyter-widgets/controls",
      "model_module_version": "1.0.0",
      "model_name": "DescriptionStyleModel",
      "state": {
       "description_width": ""
      }
     },
     "b118c2d20fbb43bb82740107172ae1a3": {
      "model_module": "@jupyter-widgets/controls",
      "model_module_version": "1.0.0",
      "model_name": "DescriptionStyleModel",
      "state": {
       "description_width": ""
      }
     },
     "b12eb35cdca446d6ba519ef45b522ce1": {
      "model_module": "@jupyter-widgets/controls",
      "model_module_version": "1.0.0",
      "model_name": "DescriptionStyleModel",
      "state": {
       "description_width": ""
      }
     },
     "b1a488c35cec4600b9a194dab338b9ab": {
      "model_module": "@jupyter-widgets/controls",
      "model_module_version": "1.0.0",
      "model_name": "TabModel",
      "state": {
       "_titles": {
        "0": "Network",
        "1": "Help"
       },
       "children": [
        "IPY_MODEL_94a524d7aca4490a9ec0d708219c1021",
        "IPY_MODEL_1014e6e885a342d491d9a3609a773a3a"
       ],
       "layout": "IPY_MODEL_99633d9b23f149059cd860e41f5402e9"
      }
     },
     "b1cba2726c7f42c4817335c7420acef9": {
      "model_module": "@jupyter-widgets/base",
      "model_module_version": "1.0.0",
      "model_name": "LayoutModel",
      "state": {}
     },
     "b1f868599dde4263a9c5980598669265": {
      "model_module": "@jupyter-widgets/base",
      "model_module_version": "1.0.0",
      "model_name": "LayoutModel",
      "state": {}
     },
     "b232da1c1b6b4d258aa49d21b8226ba9": {
      "model_module": "@jupyter-widgets/base",
      "model_module_version": "1.0.0",
      "model_name": "LayoutModel",
      "state": {
       "width": "100%"
      }
     },
     "b25cddf22740469dbc68c3e60634e7da": {
      "model_module": "@jupyter-widgets/controls",
      "model_module_version": "1.0.0",
      "model_name": "ButtonModel",
      "state": {
       "icon": "fast-forward",
       "layout": "IPY_MODEL_32a8a60fa040401392998a2263398a53",
       "style": "IPY_MODEL_73e1beb594b24d75bb178644eab36ab8"
      }
     },
     "b27142cc9b684cb998839dac5d3c92be": {
      "model_module": "@jupyter-widgets/controls",
      "model_module_version": "1.0.0",
      "model_name": "ButtonModel",
      "state": {
       "description": "Train",
       "layout": "IPY_MODEL_51e148c13c2e4763b43eb5e5dd71c565",
       "style": "IPY_MODEL_3b19e9f02c174a518ae05d45e6165982"
      }
     },
     "b279f1fd12bc4607be018a99e6c2431c": {
      "model_module": "@jupyter-widgets/base",
      "model_module_version": "1.0.0",
      "model_name": "LayoutModel",
      "state": {
       "height": "550px",
       "justify_content": "center",
       "overflow_x": "auto",
       "width": "95%"
      }
     },
     "b328ce1975ca4d0ca77e1df2841119fb": {
      "model_module": "@jupyter-widgets/controls",
      "model_module_version": "1.0.0",
      "model_name": "ButtonModel",
      "state": {
       "icon": "fast-forward",
       "layout": "IPY_MODEL_26943362351d43f0934417d34fbae797",
       "style": "IPY_MODEL_6b55222ce48143bfa6c85e04a6716f04"
      }
     },
     "b3a32bd9046a4f17ad9bd1fae0f42efc": {
      "model_module": "@jupyter-widgets/controls",
      "model_module_version": "1.0.0",
      "model_name": "ButtonStyleModel",
      "state": {}
     },
     "b3b9679a73f44d8b81f98522ba7f833f": {
      "model_module": "@jupyter-widgets/controls",
      "model_module_version": "1.0.0",
      "model_name": "ButtonStyleModel",
      "state": {}
     },
     "b4cc2a60252f4c6b99893ef634ea85f3": {
      "model_module": "@jupyter-widgets/controls",
      "model_module_version": "1.0.0",
      "model_name": "HBoxModel",
      "state": {
       "children": [
        "IPY_MODEL_894b55de400a4525a9dc2f1e3f6c55ca",
        "IPY_MODEL_35a6e477a0b2414cb4a7c2a50320b5a6"
       ],
       "layout": "IPY_MODEL_9dcd114453a747c9a3bde91c5a6192bd"
      }
     },
     "b4e0533d72374948a03a30c4061d1b74": {
      "model_module": "@jupyter-widgets/base",
      "model_module_version": "1.0.0",
      "model_name": "LayoutModel",
      "state": {
       "width": "100%"
      }
     },
     "b505bc2c344242febcda25947be69bd4": {
      "model_module": "@jupyter-widgets/base",
      "model_module_version": "1.0.0",
      "model_name": "LayoutModel",
      "state": {
       "height": "550px",
       "width": "95%"
      }
     },
     "b5d57c87cdf943c499bb9a3db425d94f": {
      "model_module": "@jupyter-widgets/controls",
      "model_module_version": "1.0.0",
      "model_name": "ButtonStyleModel",
      "state": {}
     },
     "b62f6dc8cbe54e7c81c430dcbd8b5426": {
      "model_module": "@jupyter-widgets/base",
      "model_module_version": "1.0.0",
      "model_name": "LayoutModel",
      "state": {
       "width": "100%"
      }
     },
     "b664839719974026b3fdc372b3c4436f": {
      "model_module": "@jupyter-widgets/base",
      "model_module_version": "1.0.0",
      "model_name": "LayoutModel",
      "state": {
       "width": "95%"
      }
     },
     "b6b89d6658824d8db8a192d589fbd70a": {
      "model_module": "@jupyter-widgets/base",
      "model_module_version": "1.0.0",
      "model_name": "LayoutModel",
      "state": {
       "width": "100%"
      }
     },
     "b6bf6ffe420b4ec3b8613fecce89b6c4": {
      "model_module": "@jupyter-widgets/controls",
      "model_module_version": "1.0.0",
      "model_name": "DescriptionStyleModel",
      "state": {
       "description_width": ""
      }
     },
     "b6dc859708694063b0e51dc85e9629ee": {
      "model_module": "@jupyter-widgets/base",
      "model_module_version": "1.0.0",
      "model_name": "LayoutModel",
      "state": {}
     },
     "b6dfcacb20694b25a6b373d65a74f688": {
      "model_module": "@jupyter-widgets/base",
      "model_module_version": "1.0.0",
      "model_name": "LayoutModel",
      "state": {}
     },
     "b6e28f433d604def8cf7ebac4bc86a3f": {
      "model_module": "@jupyter-widgets/controls",
      "model_module_version": "1.0.0",
      "model_name": "DescriptionStyleModel",
      "state": {
       "description_width": ""
      }
     },
     "b737156e93c04d0eb9f37363671c33cc": {
      "model_module": "@jupyter-widgets/base",
      "model_module_version": "1.0.0",
      "model_name": "LayoutModel",
      "state": {
       "width": "100%"
      }
     },
     "b776aa69bcf748649fbfbebcdcad276a": {
      "model_module": "@jupyter-widgets/controls",
      "model_module_version": "1.0.0",
      "model_name": "ButtonModel",
      "state": {
       "icon": "fast-forward",
       "layout": "IPY_MODEL_43280e4394f14ae4a1aee1a50476d508",
       "style": "IPY_MODEL_e061712bafe24b5d9297188ceb5e8780"
      }
     },
     "b79ad73fd2624a96bf598f36b0434d28": {
      "model_module": "@jupyter-widgets/controls",
      "model_module_version": "1.0.0",
      "model_name": "HBoxModel",
      "state": {
       "children": [
        "IPY_MODEL_9e20825455a546f09cb7917ce4607e42",
        "IPY_MODEL_49608344175d46b8ac1177a219f9d207"
       ],
       "layout": "IPY_MODEL_f05d40489cab4cfdb1c62f2575c7ff2d"
      }
     },
     "b7ad0b065f0745149ebc8c093ec12429": {
      "model_module": "@jupyter-widgets/controls",
      "model_module_version": "1.0.0",
      "model_name": "ButtonModel",
      "state": {
       "icon": "fast-forward",
       "layout": "IPY_MODEL_e516176225e047118165f3d8353f0413",
       "style": "IPY_MODEL_7f655ea677e5445d9e7a336f24f441d2"
      }
     },
     "b7e3675ff469455fa923ffd4d638dac0": {
      "model_module": "@jupyter-widgets/controls",
      "model_module_version": "1.0.0",
      "model_name": "ButtonStyleModel",
      "state": {}
     },
     "b810b87ce9f44bb487f1245f41191828": {
      "model_module": "@jupyter-widgets/base",
      "model_module_version": "1.0.0",
      "model_name": "LayoutModel",
      "state": {}
     },
     "b84cafa3a9ae4cbbaa3ef935fba25e95": {
      "model_module": "@jupyter-widgets/base",
      "model_module_version": "1.0.0",
      "model_name": "LayoutModel",
      "state": {}
     },
     "b8c8139e0abc4853990597c1cfca14eb": {
      "model_module": "@jupyter-widgets/controls",
      "model_module_version": "1.0.0",
      "model_name": "DescriptionStyleModel",
      "state": {
       "description_width": ""
      }
     },
     "b8eec49952224295a1d44664da197230": {
      "model_module": "@jupyter-widgets/controls",
      "model_module_version": "1.0.0",
      "model_name": "ButtonStyleModel",
      "state": {}
     },
     "b9626e70b4e741c59fb85eb3f5bee699": {
      "model_module": "@jupyter-widgets/base",
      "model_module_version": "1.0.0",
      "model_name": "LayoutModel",
      "state": {
       "width": "100%"
      }
     },
     "b96b14f030c14307bda536f6da315c4a": {
      "model_module": "@jupyter-widgets/controls",
      "model_module_version": "1.0.0",
      "model_name": "ButtonStyleModel",
      "state": {}
     },
     "b99bece4d2054013b094c97f9d582fa3": {
      "model_module": "@jupyter-widgets/controls",
      "model_module_version": "1.0.0",
      "model_name": "HBoxModel",
      "state": {
       "children": [
        "IPY_MODEL_d3fd49a2daa84200a3a38c145aba086f",
        "IPY_MODEL_0c382e7934d4463ab44df0ce59123a1c",
        "IPY_MODEL_07a52d47093641e19b9ac5ea5d7e2358",
        "IPY_MODEL_ac00171f87704e67b5bc80f210c637b5",
        "IPY_MODEL_963dfdc83e0641f8942f57774bc250f0"
       ],
       "layout": "IPY_MODEL_d0bd2b67ab2548cfb92ca5b0d98c5cf6"
      }
     },
     "ba0a18a8a0704b7291befe362e2a135a": {
      "model_module": "@jupyter-widgets/base",
      "model_module_version": "1.0.0",
      "model_name": "LayoutModel",
      "state": {
       "width": "95%"
      }
     },
     "ba4b09106d344061bc48216730a79aae": {
      "model_module": "@jupyter-widgets/controls",
      "model_module_version": "1.0.0",
      "model_name": "IntSliderModel",
      "state": {
       "continuous_update": false,
       "description": "Dataset index",
       "layout": "IPY_MODEL_8451ca828f454a5e9683885bedd5414a",
       "max": 69999,
       "style": "IPY_MODEL_c37af349180643ef840cbe87e8da7fee"
      }
     },
     "ba82b2905f3a405d882589c601549943": {
      "model_module": "@jupyter-widgets/base",
      "model_module_version": "1.0.0",
      "model_name": "LayoutModel",
      "state": {
       "height": "550px",
       "width": "95%"
      }
     },
     "ba967a525e84453f990a53b0561aa607": {
      "model_module": "@jupyter-widgets/controls",
      "model_module_version": "1.0.0",
      "model_name": "HTMLModel",
      "state": {
       "layout": "IPY_MODEL_2bb29e5d0fab4f498a77909b04d5d9c5",
       "style": "IPY_MODEL_1f2c4fd2fbbd4513b0331da44883d29e",
       "value": "<p style=\"text-align:center\"><svg id='Autoencoder' xmlns='http://www.w3.org/2000/svg' width=\"350\" height=\"235\" image-rendering=\"pixelated\">\n    <defs>\n        <marker id=\"arrow\" markerWidth=\"10\" markerHeight=\"10\" refX=\"9\" refY=\"3\" orient=\"auto\" markerUnits=\"strokeWidth\">\n          <path d=\"M0,0 L0,6 L9,3 z\" fill=\"black\" />\n        </marker>\n    </defs><text x=\"175.0\" y=\"12.5\" font-family=\"monospace\" font-size=\"15\" text-anchor=\"middle\" alignment-baseline=\"central\">Autoencoder</text><rect x=\"74.0\" y=\"29\" width=\"202\" height=\"42\" style=\"fill:none;stroke:black;stroke-width:2\"/><image id=\"Autoencoder_output_7\" class=\"Autoencoder_output\" x=\"75.0\" y=\"30\" height=\"40\" width=\"200\" preserveAspectRatio=\"none\" href=\"data:image/gif;base64,R0lGODdhBQABAIcAAGwBH3IDIGBgYJsQJ6oVKQAAAAAAAAAAAAAAAAAAAAAAAAAAAAAAAAAAAAAAAAAAAAAAAAAAAAAAAAAAAAAAAAAAAAAAAAAAAAAAAAAAAAAAAAAAAAAAAAAAAAAAAAAAAAAAAAAAAAAAAAAAAAAAAAAAAAAAAAAAAAAAAAAAAAAAAAAAAAAAAAAAAAAAAAAAAAAAAAAAAAAAAAAAAAAAAAAAAAAAAAAAAAAAAAAAAAAAAAAAAAAAAAAAAAAAAAAAAAAAAAAAAAAAAAAAAAAAAAAAAAAAAAAAAAAAAAAAAAAAAAAAAAAAAAAAAAAAAAAAAAAAAAAAAAAAAAAAAAAAAAAAAAAAAAAAAAAAAAAAAAAAAAAAAAAAAAAAAAAAAAAAAAAAAAAAAAAAAAAAAAAAAAAAAAAAAAAAAAAAAAAAAAAAAAAAAAAAAAAAAAAAAAAAAAAAAAAAAAAAAAAAAAAAAAAAAAAAAAAAAAAAAAAAAAAAAAAAAAAAAAAAAAAAAAAAAAAAAAAAAAAAAAAAAAAAAAAAAAAAAAAAAAAAAAAAAAAAAAAAAAAAAAAAAAAAAAAAAAAAAAAAAAAAAAAAAAAAAAAAAAAAAAAAAAAAAAAAAAAAAAAAAAAAAAAAAAAAAAAAAAAAAAAAAAAAAAAAAAAAAAAAAAAAAAAAAAAAAAAAAAAAAAAAAAAAAAAAAAAAAAAAAAAAAAAAAAAAAAAAAAAAAAAAAAAAAAAAAAAAAAAAAAAAAAAAAAAAAAAAAAAAAAAAAAAAAAAAAAAAAAAAAAAAAAAAAAAAAAAAAAAAAAAAAAAAAAAAAAAAAAAAAAAAAAAAAAAAAAAAAAAAAAAAAAAAAAAAAAAAAAAAAAAAAAAAAAAAAAAAAAAAAAAAAAAAAAAAAAAAAAAAAAAAAAAAAAAAAAAAAAAAAAAAAAAAAAAAAAAAAAAAAAAAAAAAAAAAAAAAAAAAAAAAAAAAAAAAAAAAAAAAAAAAAAAAAAAAAAAAAAAAAAAAAAAAAAAAAAAAAAAAACwAAAAABQABAAAICAAFABhAIEBAADs=\"><title>Layer: output (output)\n shape = (5,)\n Keras class = Dense\n activation = sigmoid</title></image><text x=\"280.0\" y=\"52.0\" font-family=\"monospace\" font-size=\"12\" text-anchor=\"start\" alignment-baseline=\"central\">output</text><line x1=\"175.0\" y1=\"99\" x2=\"175.0\" y2=\"72\" stroke=\"black\" stroke-width=\"2\" marker-end=\"url(#arrow)\"><title>Weights from hidden to output\n output/kernel has shape (5, 5)\n output/bias has shape (5,)</title></line><rect x=\"74.0\" y=\"99\" width=\"202\" height=\"42\" style=\"fill:none;stroke:black;stroke-width:2\"/><image id=\"Autoencoder_hidden_8\" class=\"Autoencoder_hidden\" x=\"75.0\" y=\"100\" height=\"40\" width=\"200\" preserveAspectRatio=\"none\" href=\"data:image/gif;base64,R0lGODdhBQABAIcAAGcAHxoaGiwsLNLS0gAAAAAAAAAAAAAAAAAAAAAAAAAAAAAAAAAAAAAAAAAAAAAAAAAAAAAAAAAAAAAAAAAAAAAAAAAAAAAAAAAAAAAAAAAAAAAAAAAAAAAAAAAAAAAAAAAAAAAAAAAAAAAAAAAAAAAAAAAAAAAAAAAAAAAAAAAAAAAAAAAAAAAAAAAAAAAAAAAAAAAAAAAAAAAAAAAAAAAAAAAAAAAAAAAAAAAAAAAAAAAAAAAAAAAAAAAAAAAAAAAAAAAAAAAAAAAAAAAAAAAAAAAAAAAAAAAAAAAAAAAAAAAAAAAAAAAAAAAAAAAAAAAAAAAAAAAAAAAAAAAAAAAAAAAAAAAAAAAAAAAAAAAAAAAAAAAAAAAAAAAAAAAAAAAAAAAAAAAAAAAAAAAAAAAAAAAAAAAAAAAAAAAAAAAAAAAAAAAAAAAAAAAAAAAAAAAAAAAAAAAAAAAAAAAAAAAAAAAAAAAAAAAAAAAAAAAAAAAAAAAAAAAAAAAAAAAAAAAAAAAAAAAAAAAAAAAAAAAAAAAAAAAAAAAAAAAAAAAAAAAAAAAAAAAAAAAAAAAAAAAAAAAAAAAAAAAAAAAAAAAAAAAAAAAAAAAAAAAAAAAAAAAAAAAAAAAAAAAAAAAAAAAAAAAAAAAAAAAAAAAAAAAAAAAAAAAAAAAAAAAAAAAAAAAAAAAAAAAAAAAAAAAAAAAAAAAAAAAAAAAAAAAAAAAAAAAAAAAAAAAAAAAAAAAAAAAAAAAAAAAAAAAAAAAAAAAAAAAAAAAAAAAAAAAAAAAAAAAAAAAAAAAAAAAAAAAAAAAAAAAAAAAAAAAAAAAAAAAAAAAAAAAAAAAAAAAAAAAAAAAAAAAAAAAAAAAAAAAAAAAAAAAAAAAAAAAAAAAAAAAAAAAAAAAAAAAAAAAAAAAAAAAAAAAAAAAAAAAAAAAAAAAAAAAAAAAAAAAAAAAAAAAAAAAAAAAAAAAAAAAAAAAAAAAAAAAAAAAAAAAAAAAAAAAAAAAAAAAAAAAAAAAAACwAAAAABQABAAAICAAFBAAAYEBAADs=\"><title>Layer: hidden (hidden)\n shape = (5,)\n Keras class = Dense\n activation = relu</title></image><text x=\"280.0\" y=\"122.0\" font-family=\"monospace\" font-size=\"12\" text-anchor=\"start\" alignment-baseline=\"central\">hidden</text><line x1=\"175.0\" y1=\"169\" x2=\"175.0\" y2=\"142\" stroke=\"black\" stroke-width=\"2\" marker-end=\"url(#arrow)\"><title>Weights from input to hidden\n hidden/kernel has shape (5, 5)\n hidden/bias has shape (5,)</title></line><rect x=\"74.0\" y=\"169\" width=\"202\" height=\"42\" style=\"fill:none;stroke:black;stroke-width:2\"/><image id=\"Autoencoder_input_9\" class=\"Autoencoder_input\" x=\"75.0\" y=\"170\" height=\"40\" width=\"200\" preserveAspectRatio=\"none\" href=\"data:image/gif;base64,R0lGODdhBQABAIcAAGcAHxoaGgAAAAAAAAAAAAAAAAAAAAAAAAAAAAAAAAAAAAAAAAAAAAAAAAAAAAAAAAAAAAAAAAAAAAAAAAAAAAAAAAAAAAAAAAAAAAAAAAAAAAAAAAAAAAAAAAAAAAAAAAAAAAAAAAAAAAAAAAAAAAAAAAAAAAAAAAAAAAAAAAAAAAAAAAAAAAAAAAAAAAAAAAAAAAAAAAAAAAAAAAAAAAAAAAAAAAAAAAAAAAAAAAAAAAAAAAAAAAAAAAAAAAAAAAAAAAAAAAAAAAAAAAAAAAAAAAAAAAAAAAAAAAAAAAAAAAAAAAAAAAAAAAAAAAAAAAAAAAAAAAAAAAAAAAAAAAAAAAAAAAAAAAAAAAAAAAAAAAAAAAAAAAAAAAAAAAAAAAAAAAAAAAAAAAAAAAAAAAAAAAAAAAAAAAAAAAAAAAAAAAAAAAAAAAAAAAAAAAAAAAAAAAAAAAAAAAAAAAAAAAAAAAAAAAAAAAAAAAAAAAAAAAAAAAAAAAAAAAAAAAAAAAAAAAAAAAAAAAAAAAAAAAAAAAAAAAAAAAAAAAAAAAAAAAAAAAAAAAAAAAAAAAAAAAAAAAAAAAAAAAAAAAAAAAAAAAAAAAAAAAAAAAAAAAAAAAAAAAAAAAAAAAAAAAAAAAAAAAAAAAAAAAAAAAAAAAAAAAAAAAAAAAAAAAAAAAAAAAAAAAAAAAAAAAAAAAAAAAAAAAAAAAAAAAAAAAAAAAAAAAAAAAAAAAAAAAAAAAAAAAAAAAAAAAAAAAAAAAAAAAAAAAAAAAAAAAAAAAAAAAAAAAAAAAAAAAAAAAAAAAAAAAAAAAAAAAAAAAAAAAAAAAAAAAAAAAAAAAAAAAAAAAAAAAAAAAAAAAAAAAAAAAAAAAAAAAAAAAAAAAAAAAAAAAAAAAAAAAAAAAAAAAAAAAAAAAAAAAAAAAAAAAAAAAAAAAAAAAAAAAAAAAAAAAAAAAAAAAAAAAAAAAAAAAAAAAAAAAAAAAAAAAAAAAAAAAAAAAAAAAAAAAAAAAAAAAAAACwAAAAABQABAAAIBwADABgIICAAOw==\"><title>Layer: input (input)\n shape = (5,)\n Keras class = Input</title></image><text x=\"280.0\" y=\"192.0\" font-family=\"monospace\" font-size=\"12\" text-anchor=\"start\" alignment-baseline=\"central\">input</text></svg></p>"
      }
     },
     "bb1d0904b8d143d08917b02be5ec1ffe": {
      "model_module": "@jupyter-widgets/base",
      "model_module_version": "1.0.0",
      "model_name": "LayoutModel",
      "state": {
       "height": "50px",
       "width": "95%"
      }
     },
     "bb3422c67441485b957950fd5471ef6b": {
      "model_module": "@jupyter-widgets/controls",
      "model_module_version": "1.0.0",
      "model_name": "SliderStyleModel",
      "state": {
       "description_width": ""
      }
     },
     "bbe3b4d966ed4917987c061c4eb54c7e": {
      "model_module": "@jupyter-widgets/base",
      "model_module_version": "1.0.0",
      "model_name": "LayoutModel",
      "state": {
       "width": "100%"
      }
     },
     "bca3ff43acb445b88bf2e3dc6217047e": {
      "model_module": "@jupyter-widgets/controls",
      "model_module_version": "1.0.0",
      "model_name": "TabModel",
      "state": {
       "_titles": {
        "0": "Network",
        "1": "Help"
       },
       "children": [
        "IPY_MODEL_5897565ac8394b1d96df3c7ba9caa404",
        "IPY_MODEL_0e09b2e0cccf4e55aaaf655b88eff0fa"
       ],
       "layout": "IPY_MODEL_a680929160124266baae60a0560e6c56"
      }
     },
     "bd2e710444304335bf2e7417d6d5be18": {
      "model_module": "@jupyter-widgets/controls",
      "model_module_version": "1.0.0",
      "model_name": "ButtonStyleModel",
      "state": {}
     },
     "bd6665544c35498ebd8906d4e0d6900b": {
      "model_module": "@jupyter-widgets/controls",
      "model_module_version": "1.0.0",
      "model_name": "SliderStyleModel",
      "state": {
       "description_width": ""
      }
     },
     "bde70b2759d94f1d9aee8c7d1d9223c5": {
      "model_module": "@jupyter-widgets/controls",
      "model_module_version": "1.0.0",
      "model_name": "ButtonModel",
      "state": {
       "icon": "backward",
       "layout": "IPY_MODEL_765c192a5281436c9d0b10fba770267f",
       "style": "IPY_MODEL_57379c9486204da7b4aeb59d389da4e4"
      }
     },
     "be11a18265b346f48598522d63b1e0e1": {
      "model_module": "@jupyter-widgets/controls",
      "model_module_version": "1.0.0",
      "model_name": "ButtonStyleModel",
      "state": {}
     },
     "be6e48cd13714b2c90518c338b89399d": {
      "model_module": "@jupyter-widgets/controls",
      "model_module_version": "1.0.0",
      "model_name": "ButtonModel",
      "state": {
       "icon": "backward",
       "layout": "IPY_MODEL_665fbacce44546cf82a41ca40cd0bd20",
       "style": "IPY_MODEL_185f41886d87454c9a1da8724da652fd"
      }
     },
     "be9d51871e6344259cafe340b699bede": {
      "model_module": "@jupyter-widgets/controls",
      "model_module_version": "1.0.0",
      "model_name": "ButtonModel",
      "state": {
       "icon": "fast-forward",
       "layout": "IPY_MODEL_c756ad7be09a4d2c83fe33b9e99a86ae",
       "style": "IPY_MODEL_b0e0a2dbcda3486b9cbcf15cce766056"
      }
     },
     "bebc533ad5204bb1aafeaff90bbe0f81": {
      "model_module": "@jupyter-widgets/controls",
      "model_module_version": "1.0.0",
      "model_name": "ButtonModel",
      "state": {
       "icon": "refresh",
       "layout": "IPY_MODEL_084ac1f9882b40d388e156ccc08a0e1f",
       "style": "IPY_MODEL_cf648854a6924a56bf77d2431a4d696a"
      }
     },
     "beeef6232ab145f7956fd07d0c54975d": {
      "model_module": "@jupyter-widgets/base",
      "model_module_version": "1.0.0",
      "model_name": "LayoutModel",
      "state": {}
     },
     "bf230808b09c4caaba23b1b1bb6c7bb7": {
      "model_module": "@jupyter-widgets/controls",
      "model_module_version": "1.0.0",
      "model_name": "HTMLModel",
      "state": {
       "layout": "IPY_MODEL_2aacd5895cdb479ebf5c8ed39f92b2de",
       "style": "IPY_MODEL_088b706a07ef417d80ceaf3530304939",
       "value": "<p style=\"text-align:center\"><svg id='Autoencoder' xmlns='http://www.w3.org/2000/svg' width=\"350\" height=\"235\" image-rendering=\"pixelated\">\n    <defs>\n        <marker id=\"arrow\" markerWidth=\"10\" markerHeight=\"10\" refX=\"9\" refY=\"3\" orient=\"auto\" markerUnits=\"strokeWidth\">\n          <path d=\"M0,0 L0,6 L9,3 z\" fill=\"black\" />\n        </marker>\n    </defs><text x=\"175.0\" y=\"12.5\" font-family=\"monospace\" font-size=\"15\" text-anchor=\"middle\" alignment-baseline=\"central\">Autoencoder</text><rect x=\"74.0\" y=\"29\" width=\"202\" height=\"42\" style=\"fill:none;stroke:black;stroke-width:2\"/><image id=\"Autoencoder_output_7\" class=\"Autoencoder_output\" x=\"75.0\" y=\"30\" height=\"40\" width=\"200\" preserveAspectRatio=\"none\" href=\"data:image/gif;base64,R0lGODdhBQABAIcAAHsGIpANJZkQJ95yW8/PzwAAAAAAAAAAAAAAAAAAAAAAAAAAAAAAAAAAAAAAAAAAAAAAAAAAAAAAAAAAAAAAAAAAAAAAAAAAAAAAAAAAAAAAAAAAAAAAAAAAAAAAAAAAAAAAAAAAAAAAAAAAAAAAAAAAAAAAAAAAAAAAAAAAAAAAAAAAAAAAAAAAAAAAAAAAAAAAAAAAAAAAAAAAAAAAAAAAAAAAAAAAAAAAAAAAAAAAAAAAAAAAAAAAAAAAAAAAAAAAAAAAAAAAAAAAAAAAAAAAAAAAAAAAAAAAAAAAAAAAAAAAAAAAAAAAAAAAAAAAAAAAAAAAAAAAAAAAAAAAAAAAAAAAAAAAAAAAAAAAAAAAAAAAAAAAAAAAAAAAAAAAAAAAAAAAAAAAAAAAAAAAAAAAAAAAAAAAAAAAAAAAAAAAAAAAAAAAAAAAAAAAAAAAAAAAAAAAAAAAAAAAAAAAAAAAAAAAAAAAAAAAAAAAAAAAAAAAAAAAAAAAAAAAAAAAAAAAAAAAAAAAAAAAAAAAAAAAAAAAAAAAAAAAAAAAAAAAAAAAAAAAAAAAAAAAAAAAAAAAAAAAAAAAAAAAAAAAAAAAAAAAAAAAAAAAAAAAAAAAAAAAAAAAAAAAAAAAAAAAAAAAAAAAAAAAAAAAAAAAAAAAAAAAAAAAAAAAAAAAAAAAAAAAAAAAAAAAAAAAAAAAAAAAAAAAAAAAAAAAAAAAAAAAAAAAAAAAAAAAAAAAAAAAAAAAAAAAAAAAAAAAAAAAAAAAAAAAAAAAAAAAAAAAAAAAAAAAAAAAAAAAAAAAAAAAAAAAAAAAAAAAAAAAAAAAAAAAAAAAAAAAAAAAAAAAAAAAAAAAAAAAAAAAAAAAAAAAAAAAAAAAAAAAAAAAAAAAAAAAAAAAAAAAAAAAAAAAAAAAAAAAAAAAAAAAAAAAAAAAAAAAAAAAAAAAAAAAAAAAAAAAAAAAAAAAAAAAAAAAAAAAAAAAAAAAAAAAAAAAAAAAAAAAAAAAAAAAAAAAAAAAACwAAAAABQABAAAICAAJCAAQYEBAADs=\"><title>Layer: output (output)\n shape = (5,)\n Keras class = Dense\n activation = sigmoid</title></image><text x=\"280.0\" y=\"52.0\" font-family=\"monospace\" font-size=\"12\" text-anchor=\"start\" alignment-baseline=\"central\">output</text><line x1=\"175.0\" y1=\"99\" x2=\"175.0\" y2=\"72\" stroke=\"black\" stroke-width=\"2\" marker-end=\"url(#arrow)\"><title>Weights from hidden to output\n output/kernel has shape (5, 5)\n output/bias has shape (5,)</title></line><rect x=\"74.0\" y=\"99\" width=\"202\" height=\"42\" style=\"fill:none;stroke:black;stroke-width:2\"/><image id=\"Autoencoder_hidden_8\" class=\"Autoencoder_hidden\" x=\"75.0\" y=\"100\" height=\"40\" width=\"200\" preserveAspectRatio=\"none\" href=\"data:image/gif;base64,R0lGODdhBQABAIcAABoaGlBQUGcAH7AXKve2mAAAAAAAAAAAAAAAAAAAAAAAAAAAAAAAAAAAAAAAAAAAAAAAAAAAAAAAAAAAAAAAAAAAAAAAAAAAAAAAAAAAAAAAAAAAAAAAAAAAAAAAAAAAAAAAAAAAAAAAAAAAAAAAAAAAAAAAAAAAAAAAAAAAAAAAAAAAAAAAAAAAAAAAAAAAAAAAAAAAAAAAAAAAAAAAAAAAAAAAAAAAAAAAAAAAAAAAAAAAAAAAAAAAAAAAAAAAAAAAAAAAAAAAAAAAAAAAAAAAAAAAAAAAAAAAAAAAAAAAAAAAAAAAAAAAAAAAAAAAAAAAAAAAAAAAAAAAAAAAAAAAAAAAAAAAAAAAAAAAAAAAAAAAAAAAAAAAAAAAAAAAAAAAAAAAAAAAAAAAAAAAAAAAAAAAAAAAAAAAAAAAAAAAAAAAAAAAAAAAAAAAAAAAAAAAAAAAAAAAAAAAAAAAAAAAAAAAAAAAAAAAAAAAAAAAAAAAAAAAAAAAAAAAAAAAAAAAAAAAAAAAAAAAAAAAAAAAAAAAAAAAAAAAAAAAAAAAAAAAAAAAAAAAAAAAAAAAAAAAAAAAAAAAAAAAAAAAAAAAAAAAAAAAAAAAAAAAAAAAAAAAAAAAAAAAAAAAAAAAAAAAAAAAAAAAAAAAAAAAAAAAAAAAAAAAAAAAAAAAAAAAAAAAAAAAAAAAAAAAAAAAAAAAAAAAAAAAAAAAAAAAAAAAAAAAAAAAAAAAAAAAAAAAAAAAAAAAAAAAAAAAAAAAAAAAAAAAAAAAAAAAAAAAAAAAAAAAAAAAAAAAAAAAAAAAAAAAAAAAAAAAAAAAAAAAAAAAAAAAAAAAAAAAAAAAAAAAAAAAAAAAAAAAAAAAAAAAAAAAAAAAAAAAAAAAAAAAAAAAAAAAAAAAAAAAAAAAAAAAAAAAAAAAAAAAAAAAAAAAAAAAAAAAAAAAAAAAAAAAAAAAAAAAAAAAAAAAAAAAAAAAAAAAAAAAAAAAAAAAAAAAAAAAAAAAAAAAAAAAAAAAACwAAAAABQABAAAICAAFAAhAYEBAADs=\"><title>Layer: hidden (hidden)\n shape = (5,)\n Keras class = Dense\n activation = relu</title></image><text x=\"280.0\" y=\"122.0\" font-family=\"monospace\" font-size=\"12\" text-anchor=\"start\" alignment-baseline=\"central\">hidden</text><line x1=\"175.0\" y1=\"169\" x2=\"175.0\" y2=\"142\" stroke=\"black\" stroke-width=\"2\" marker-end=\"url(#arrow)\"><title>Weights from input to hidden\n hidden/kernel has shape (5, 5)\n hidden/bias has shape (5,)</title></line><rect x=\"74.0\" y=\"169\" width=\"202\" height=\"42\" style=\"fill:none;stroke:black;stroke-width:2\"/><image id=\"Autoencoder_input_9\" class=\"Autoencoder_input\" x=\"75.0\" y=\"170\" height=\"40\" width=\"200\" preserveAspectRatio=\"none\" href=\"data:image/gif;base64,R0lGODdhBQABAIcAAGcAHxoaGgAAAAAAAAAAAAAAAAAAAAAAAAAAAAAAAAAAAAAAAAAAAAAAAAAAAAAAAAAAAAAAAAAAAAAAAAAAAAAAAAAAAAAAAAAAAAAAAAAAAAAAAAAAAAAAAAAAAAAAAAAAAAAAAAAAAAAAAAAAAAAAAAAAAAAAAAAAAAAAAAAAAAAAAAAAAAAAAAAAAAAAAAAAAAAAAAAAAAAAAAAAAAAAAAAAAAAAAAAAAAAAAAAAAAAAAAAAAAAAAAAAAAAAAAAAAAAAAAAAAAAAAAAAAAAAAAAAAAAAAAAAAAAAAAAAAAAAAAAAAAAAAAAAAAAAAAAAAAAAAAAAAAAAAAAAAAAAAAAAAAAAAAAAAAAAAAAAAAAAAAAAAAAAAAAAAAAAAAAAAAAAAAAAAAAAAAAAAAAAAAAAAAAAAAAAAAAAAAAAAAAAAAAAAAAAAAAAAAAAAAAAAAAAAAAAAAAAAAAAAAAAAAAAAAAAAAAAAAAAAAAAAAAAAAAAAAAAAAAAAAAAAAAAAAAAAAAAAAAAAAAAAAAAAAAAAAAAAAAAAAAAAAAAAAAAAAAAAAAAAAAAAAAAAAAAAAAAAAAAAAAAAAAAAAAAAAAAAAAAAAAAAAAAAAAAAAAAAAAAAAAAAAAAAAAAAAAAAAAAAAAAAAAAAAAAAAAAAAAAAAAAAAAAAAAAAAAAAAAAAAAAAAAAAAAAAAAAAAAAAAAAAAAAAAAAAAAAAAAAAAAAAAAAAAAAAAAAAAAAAAAAAAAAAAAAAAAAAAAAAAAAAAAAAAAAAAAAAAAAAAAAAAAAAAAAAAAAAAAAAAAAAAAAAAAAAAAAAAAAAAAAAAAAAAAAAAAAAAAAAAAAAAAAAAAAAAAAAAAAAAAAAAAAAAAAAAAAAAAAAAAAAAAAAAAAAAAAAAAAAAAAAAAAAAAAAAAAAAAAAAAAAAAAAAAAAAAAAAAAAAAAAAAAAAAAAAAAAAAAAAAAAAAAAAAAAAAAAAAAAAAAAAAAAAAAAAAAAAAAAAAAAAAAAAAAAAAAACwAAAAABQABAAAIBwADABgIICAAOw==\"><title>Layer: input (input)\n shape = (5,)\n Keras class = Input</title></image><text x=\"280.0\" y=\"192.0\" font-family=\"monospace\" font-size=\"12\" text-anchor=\"start\" alignment-baseline=\"central\">input</text></svg></p>"
      }
     },
     "bf4d6253d18d43719ee96b2cb14d5d9e": {
      "model_module": "@jupyter-widgets/controls",
      "model_module_version": "1.0.0",
      "model_name": "DescriptionStyleModel",
      "state": {
       "description_width": ""
      }
     },
     "bf74232cef7a41688d6a646ba433d8b8": {
      "model_module": "@jupyter-widgets/controls",
      "model_module_version": "1.0.0",
      "model_name": "DescriptionStyleModel",
      "state": {
       "description_width": ""
      }
     },
     "c080e082f7554ac88359cf579a8f2483": {
      "model_module": "@jupyter-widgets/base",
      "model_module_version": "1.0.0",
      "model_name": "LayoutModel",
      "state": {}
     },
     "c10da94b69ff4b27ae42a40a327e05cc": {
      "model_module": "@jupyter-widgets/base",
      "model_module_version": "1.0.0",
      "model_name": "LayoutModel",
      "state": {
       "width": "100%"
      }
     },
     "c2049cc85b1f4feb83d34cb4c0f42008": {
      "model_module": "@jupyter-widgets/base",
      "model_module_version": "1.0.0",
      "model_name": "LayoutModel",
      "state": {
       "height": "550px",
       "width": "95%"
      }
     },
     "c2666b9aedb7453c8bd1d40d18ff0228": {
      "model_module": "@jupyter-widgets/controls",
      "model_module_version": "1.0.0",
      "model_name": "DescriptionStyleModel",
      "state": {
       "description_width": ""
      }
     },
     "c292613ba6174c28ba61a2a350385769": {
      "model_module": "@jupyter-widgets/controls",
      "model_module_version": "1.0.0",
      "model_name": "ButtonModel",
      "state": {
       "icon": "backward",
       "layout": "IPY_MODEL_f01912d9b2554bc3956ab24b02a431a7",
       "style": "IPY_MODEL_c2d641d5698d44b7b962278f9780e2ea"
      }
     },
     "c2d641d5698d44b7b962278f9780e2ea": {
      "model_module": "@jupyter-widgets/controls",
      "model_module_version": "1.0.0",
      "model_name": "ButtonStyleModel",
      "state": {}
     },
     "c2dab89f55844bb8b46771b81e3b8311": {
      "model_module": "@jupyter-widgets/base",
      "model_module_version": "1.0.0",
      "model_name": "LayoutModel",
      "state": {
       "width": "100%"
      }
     },
     "c2dd78789cc3447cb440f26bb486242a": {
      "model_module": "@jupyter-widgets/base",
      "model_module_version": "1.0.0",
      "model_name": "LayoutModel",
      "state": {
       "width": "100%"
      }
     },
     "c37af349180643ef840cbe87e8da7fee": {
      "model_module": "@jupyter-widgets/controls",
      "model_module_version": "1.0.0",
      "model_name": "SliderStyleModel",
      "state": {
       "description_width": ""
      }
     },
     "c3818cd918e44bfbaf81bed223ad03e6": {
      "model_module": "@jupyter-widgets/controls",
      "model_module_version": "1.0.0",
      "model_name": "ButtonModel",
      "state": {
       "icon": "fast-forward",
       "layout": "IPY_MODEL_fd27e12cc9bf4d73a58cbfd0b9bb9fc3",
       "style": "IPY_MODEL_a7c361b9876d456eaf7267cf3386bccd"
      }
     },
     "c394bad2c6fe4b248ac594b1cd9f6c3d": {
      "model_module": "@jupyter-widgets/base",
      "model_module_version": "1.0.0",
      "model_name": "LayoutModel",
      "state": {
       "width": "100%"
      }
     },
     "c3f201c667284b2099eabcd2aabb616c": {
      "model_module": "@jupyter-widgets/base",
      "model_module_version": "1.0.0",
      "model_name": "LayoutModel",
      "state": {
       "width": "100%"
      }
     },
     "c4739426dc324c2580a9428d1757be87": {
      "model_module": "@jupyter-widgets/base",
      "model_module_version": "1.0.0",
      "model_name": "LayoutModel",
      "state": {
       "width": "100%"
      }
     },
     "c5c91e011cff4ba4bd3283ab52eac27c": {
      "model_module": "@jupyter-widgets/controls",
      "model_module_version": "1.0.0",
      "model_name": "ButtonModel",
      "state": {
       "disabled": true,
       "icon": "fast-forward",
       "layout": "IPY_MODEL_c89c793f27724fc7a48bf7778de6856b",
       "style": "IPY_MODEL_91413a9c90a74c2f893f321950b9b43d"
      }
     },
     "c68496259fac45f9846d789ebe8b014f": {
      "model_module": "@jupyter-widgets/base",
      "model_module_version": "1.0.0",
      "model_name": "LayoutModel",
      "state": {
       "height": "50px",
       "width": "95%"
      }
     },
     "c6a1f23d656042eeaf8438a724b85db3": {
      "model_module": "@jupyter-widgets/base",
      "model_module_version": "1.0.0",
      "model_name": "LayoutModel",
      "state": {
       "height": "550px",
       "width": "95%"
      }
     },
     "c6ae2b43bbfd42a3aba71976bbb97c2f": {
      "model_module": "@jupyter-widgets/base",
      "model_module_version": "1.0.0",
      "model_name": "LayoutModel",
      "state": {}
     },
     "c744d78ccd8b4b049954cbadaf436ff6": {
      "model_module": "@jupyter-widgets/controls",
      "model_module_version": "1.0.0",
      "model_name": "DescriptionStyleModel",
      "state": {
       "description_width": ""
      }
     },
     "c756ad7be09a4d2c83fe33b9e99a86ae": {
      "model_module": "@jupyter-widgets/base",
      "model_module_version": "1.0.0",
      "model_name": "LayoutModel",
      "state": {
       "width": "100%"
      }
     },
     "c88852ec673e4f8a88cceaa62de705b1": {
      "model_module": "@jupyter-widgets/controls",
      "model_module_version": "1.0.0",
      "model_name": "ButtonModel",
      "state": {
       "icon": "backward",
       "layout": "IPY_MODEL_de199c0c23d949aab3f80b75e61115fd",
       "style": "IPY_MODEL_66a579685fe7499a9ce40ccc58de84b5"
      }
     },
     "c89c793f27724fc7a48bf7778de6856b": {
      "model_module": "@jupyter-widgets/base",
      "model_module_version": "1.0.0",
      "model_name": "LayoutModel",
      "state": {
       "width": "100%"
      }
     },
     "c9689c4ea45f428daa0f5b8314528263": {
      "model_module": "@jupyter-widgets/base",
      "model_module_version": "1.0.0",
      "model_name": "LayoutModel",
      "state": {
       "width": "95%"
      }
     },
     "c97867e6c6e045628c7cfe0aa97b85c1": {
      "model_module": "@jupyter-widgets/base",
      "model_module_version": "1.0.0",
      "model_name": "LayoutModel",
      "state": {}
     },
     "c9e7d3bda850437cb3a5362956f64e5f": {
      "model_module": "@jupyter-widgets/base",
      "model_module_version": "1.0.0",
      "model_name": "LayoutModel",
      "state": {
       "width": "100%"
      }
     },
     "ca1203cafdae4e36a4f6d48cb66a27f0": {
      "model_module": "@jupyter-widgets/controls",
      "model_module_version": "1.0.0",
      "model_name": "ButtonModel",
      "state": {
       "icon": "backward",
       "layout": "IPY_MODEL_dd2e7212aa99403891ec14255d90536b",
       "style": "IPY_MODEL_b3b9679a73f44d8b81f98522ba7f833f"
      }
     },
     "ca2f119a5ff64be9b4d7e82789560cc4": {
      "model_module": "@jupyter-widgets/controls",
      "model_module_version": "1.0.0",
      "model_name": "HTMLModel",
      "state": {
       "layout": "IPY_MODEL_69395d2a746643cfb1153ed8380a0e2f",
       "style": "IPY_MODEL_fc481cc2222d4d0e8de24da7a3b9ec08",
       "value": "<p style=\"text-align:center\"><svg id='Autoencoder' xmlns='http://www.w3.org/2000/svg' width=\"350\" height=\"235\" image-rendering=\"pixelated\">\n    <defs>\n        <marker id=\"arrow\" markerWidth=\"10\" markerHeight=\"10\" refX=\"9\" refY=\"3\" orient=\"auto\" markerUnits=\"strokeWidth\">\n          <path d=\"M0,0 L0,6 L9,3 z\" fill=\"black\" />\n        </marker>\n    </defs><text x=\"175.0\" y=\"12.5\" font-family=\"monospace\" font-size=\"15\" text-anchor=\"middle\" alignment-baseline=\"central\">Autoencoder</text><rect x=\"74.0\" y=\"29\" width=\"202\" height=\"42\" style=\"fill:none;stroke:black;stroke-width:2\"/><image id=\"Autoencoder_output_7\" class=\"Autoencoder_output\" x=\"75.0\" y=\"30\" height=\"40\" width=\"200\" preserveAspectRatio=\"none\" href=\"data:image/gif;base64,R0lGODdhBQABAIcAAP359ve5m/nFq+np6QAAAAAAAAAAAAAAAAAAAAAAAAAAAAAAAAAAAAAAAAAAAAAAAAAAAAAAAAAAAAAAAAAAAAAAAAAAAAAAAAAAAAAAAAAAAAAAAAAAAAAAAAAAAAAAAAAAAAAAAAAAAAAAAAAAAAAAAAAAAAAAAAAAAAAAAAAAAAAAAAAAAAAAAAAAAAAAAAAAAAAAAAAAAAAAAAAAAAAAAAAAAAAAAAAAAAAAAAAAAAAAAAAAAAAAAAAAAAAAAAAAAAAAAAAAAAAAAAAAAAAAAAAAAAAAAAAAAAAAAAAAAAAAAAAAAAAAAAAAAAAAAAAAAAAAAAAAAAAAAAAAAAAAAAAAAAAAAAAAAAAAAAAAAAAAAAAAAAAAAAAAAAAAAAAAAAAAAAAAAAAAAAAAAAAAAAAAAAAAAAAAAAAAAAAAAAAAAAAAAAAAAAAAAAAAAAAAAAAAAAAAAAAAAAAAAAAAAAAAAAAAAAAAAAAAAAAAAAAAAAAAAAAAAAAAAAAAAAAAAAAAAAAAAAAAAAAAAAAAAAAAAAAAAAAAAAAAAAAAAAAAAAAAAAAAAAAAAAAAAAAAAAAAAAAAAAAAAAAAAAAAAAAAAAAAAAAAAAAAAAAAAAAAAAAAAAAAAAAAAAAAAAAAAAAAAAAAAAAAAAAAAAAAAAAAAAAAAAAAAAAAAAAAAAAAAAAAAAAAAAAAAAAAAAAAAAAAAAAAAAAAAAAAAAAAAAAAAAAAAAAAAAAAAAAAAAAAAAAAAAAAAAAAAAAAAAAAAAAAAAAAAAAAAAAAAAAAAAAAAAAAAAAAAAAAAAAAAAAAAAAAAAAAAAAAAAAAAAAAAAAAAAAAAAAAAAAAAAAAAAAAAAAAAAAAAAAAAAAAAAAAAAAAAAAAAAAAAAAAAAAAAAAAAAAAAAAAAAAAAAAAAAAAAAAAAAAAAAAAAAAAAAAAAAAAAAAAAAAAAAAAAAAAAAAAAAAAAAAAAAAAAAAAAAAAAAAAAAAAAAAAAAAAAAAAAAAAAAAAAAAAAAAAACwAAAAABQABAAAICAAFDAAQAEBAADs=\"><title>Layer: output (output)\n shape = (5,)\n Keras class = Dense\n activation = sigmoid</title></image><text x=\"280.0\" y=\"52.0\" font-family=\"monospace\" font-size=\"12\" text-anchor=\"start\" alignment-baseline=\"central\">output</text><line x1=\"175.0\" y1=\"99\" x2=\"175.0\" y2=\"72\" stroke=\"black\" stroke-width=\"2\" marker-end=\"url(#arrow)\"><title>Weights from hidden to output\n output/kernel has shape (5, 5)\n output/bias has shape (5,)</title></line><rect x=\"74.0\" y=\"99\" width=\"202\" height=\"42\" style=\"fill:none;stroke:black;stroke-width:2\"/><image id=\"Autoencoder_hidden_8\" class=\"Autoencoder_hidden\" x=\"75.0\" y=\"100\" height=\"40\" width=\"200\" preserveAspectRatio=\"none\" href=\"data:image/gif;base64,R0lGODdhBQABAIcAABoaGiAgIGcAH3R0dL4wNgAAAAAAAAAAAAAAAAAAAAAAAAAAAAAAAAAAAAAAAAAAAAAAAAAAAAAAAAAAAAAAAAAAAAAAAAAAAAAAAAAAAAAAAAAAAAAAAAAAAAAAAAAAAAAAAAAAAAAAAAAAAAAAAAAAAAAAAAAAAAAAAAAAAAAAAAAAAAAAAAAAAAAAAAAAAAAAAAAAAAAAAAAAAAAAAAAAAAAAAAAAAAAAAAAAAAAAAAAAAAAAAAAAAAAAAAAAAAAAAAAAAAAAAAAAAAAAAAAAAAAAAAAAAAAAAAAAAAAAAAAAAAAAAAAAAAAAAAAAAAAAAAAAAAAAAAAAAAAAAAAAAAAAAAAAAAAAAAAAAAAAAAAAAAAAAAAAAAAAAAAAAAAAAAAAAAAAAAAAAAAAAAAAAAAAAAAAAAAAAAAAAAAAAAAAAAAAAAAAAAAAAAAAAAAAAAAAAAAAAAAAAAAAAAAAAAAAAAAAAAAAAAAAAAAAAAAAAAAAAAAAAAAAAAAAAAAAAAAAAAAAAAAAAAAAAAAAAAAAAAAAAAAAAAAAAAAAAAAAAAAAAAAAAAAAAAAAAAAAAAAAAAAAAAAAAAAAAAAAAAAAAAAAAAAAAAAAAAAAAAAAAAAAAAAAAAAAAAAAAAAAAAAAAAAAAAAAAAAAAAAAAAAAAAAAAAAAAAAAAAAAAAAAAAAAAAAAAAAAAAAAAAAAAAAAAAAAAAAAAAAAAAAAAAAAAAAAAAAAAAAAAAAAAAAAAAAAAAAAAAAAAAAAAAAAAAAAAAAAAAAAAAAAAAAAAAAAAAAAAAAAAAAAAAAAAAAAAAAAAAAAAAAAAAAAAAAAAAAAAAAAAAAAAAAAAAAAAAAAAAAAAAAAAAAAAAAAAAAAAAAAAAAAAAAAAAAAAAAAAAAAAAAAAAAAAAAAAAAAAAAAAAAAAAAAAAAAAAAAAAAAAAAAAAAAAAAAAAAAAAAAAAAAAAAAAAAAAAAAAAAAAAAAAAAAAAAAAAAAAAAAAAAAAAAAAAAAAAAAAAAAACwAAAAABQABAAAICAADEBggAEBAADs=\"><title>Layer: hidden (hidden)\n shape = (5,)\n Keras class = Dense\n activation = relu</title></image><text x=\"280.0\" y=\"122.0\" font-family=\"monospace\" font-size=\"12\" text-anchor=\"start\" alignment-baseline=\"central\">hidden</text><line x1=\"175.0\" y1=\"169\" x2=\"175.0\" y2=\"142\" stroke=\"black\" stroke-width=\"2\" marker-end=\"url(#arrow)\"><title>Weights from input to hidden\n hidden/kernel has shape (5, 5)\n hidden/bias has shape (5,)</title></line><rect x=\"74.0\" y=\"169\" width=\"202\" height=\"42\" style=\"fill:none;stroke:black;stroke-width:2\"/><image id=\"Autoencoder_input_9\" class=\"Autoencoder_input\" x=\"75.0\" y=\"170\" height=\"40\" width=\"200\" preserveAspectRatio=\"none\" href=\"data:image/gif;base64,R0lGODdhBQABAIcAAGcAHxoaGgAAAAAAAAAAAAAAAAAAAAAAAAAAAAAAAAAAAAAAAAAAAAAAAAAAAAAAAAAAAAAAAAAAAAAAAAAAAAAAAAAAAAAAAAAAAAAAAAAAAAAAAAAAAAAAAAAAAAAAAAAAAAAAAAAAAAAAAAAAAAAAAAAAAAAAAAAAAAAAAAAAAAAAAAAAAAAAAAAAAAAAAAAAAAAAAAAAAAAAAAAAAAAAAAAAAAAAAAAAAAAAAAAAAAAAAAAAAAAAAAAAAAAAAAAAAAAAAAAAAAAAAAAAAAAAAAAAAAAAAAAAAAAAAAAAAAAAAAAAAAAAAAAAAAAAAAAAAAAAAAAAAAAAAAAAAAAAAAAAAAAAAAAAAAAAAAAAAAAAAAAAAAAAAAAAAAAAAAAAAAAAAAAAAAAAAAAAAAAAAAAAAAAAAAAAAAAAAAAAAAAAAAAAAAAAAAAAAAAAAAAAAAAAAAAAAAAAAAAAAAAAAAAAAAAAAAAAAAAAAAAAAAAAAAAAAAAAAAAAAAAAAAAAAAAAAAAAAAAAAAAAAAAAAAAAAAAAAAAAAAAAAAAAAAAAAAAAAAAAAAAAAAAAAAAAAAAAAAAAAAAAAAAAAAAAAAAAAAAAAAAAAAAAAAAAAAAAAAAAAAAAAAAAAAAAAAAAAAAAAAAAAAAAAAAAAAAAAAAAAAAAAAAAAAAAAAAAAAAAAAAAAAAAAAAAAAAAAAAAAAAAAAAAAAAAAAAAAAAAAAAAAAAAAAAAAAAAAAAAAAAAAAAAAAAAAAAAAAAAAAAAAAAAAAAAAAAAAAAAAAAAAAAAAAAAAAAAAAAAAAAAAAAAAAAAAAAAAAAAAAAAAAAAAAAAAAAAAAAAAAAAAAAAAAAAAAAAAAAAAAAAAAAAAAAAAAAAAAAAAAAAAAAAAAAAAAAAAAAAAAAAAAAAAAAAAAAAAAAAAAAAAAAAAAAAAAAAAAAAAAAAAAAAAAAAAAAAAAAAAAAAAAAAAAAAAAAAAAAAAAAAAAAAAAAAAAAAAAAAAAAAAAAAAAAAAAAAACwAAAAABQABAAAIBwADABgIICAAOw==\"><title>Layer: input (input)\n shape = (5,)\n Keras class = Input</title></image><text x=\"280.0\" y=\"192.0\" font-family=\"monospace\" font-size=\"12\" text-anchor=\"start\" alignment-baseline=\"central\">input</text></svg></p>"
      }
     },
     "caec24cd2be1492fb3403a2a0ed0afe1": {
      "model_module": "@jupyter-widgets/base",
      "model_module_version": "1.0.0",
      "model_name": "LayoutModel",
      "state": {
       "width": "100%"
      }
     },
     "cc3f11bab41f4731b5c51cf4fd8a10ce": {
      "model_module": "@jupyter-widgets/controls",
      "model_module_version": "1.0.0",
      "model_name": "ButtonModel",
      "state": {
       "icon": "refresh",
       "layout": "IPY_MODEL_712255a9ad3f42b9b74745c39111af3a",
       "style": "IPY_MODEL_a25b39bd39714b1c882c79ec11e77dfa"
      }
     },
     "ccb97e89cf974c068775fa70bd0cdbb4": {
      "model_module": "@jupyter-widgets/controls",
      "model_module_version": "1.0.0",
      "model_name": "ButtonStyleModel",
      "state": {}
     },
     "ccbd13cc14bb4db0bcf2248104786cfe": {
      "model_module": "@jupyter-widgets/controls",
      "model_module_version": "1.0.0",
      "model_name": "ButtonModel",
      "state": {
       "icon": "backward",
       "layout": "IPY_MODEL_6420ba8e6a454d85984a95bd40c85219",
       "style": "IPY_MODEL_252455a7637a4228bdf47f199ead7a84"
      }
     },
     "ccf140164d764949a364e45917f94e7b": {
      "model_module": "@jupyter-widgets/base",
      "model_module_version": "1.0.0",
      "model_name": "LayoutModel",
      "state": {
       "height": "550px",
       "justify_content": "center",
       "overflow_x": "auto",
       "width": "95%"
      }
     },
     "cd352f098db2452fb2d6ea45562abc70": {
      "model_module": "@jupyter-widgets/controls",
      "model_module_version": "1.0.0",
      "model_name": "ButtonStyleModel",
      "state": {}
     },
     "cd47333a64e442fcbd1afb3a4aef58d8": {
      "model_module": "@jupyter-widgets/controls",
      "model_module_version": "1.0.0",
      "model_name": "ButtonStyleModel",
      "state": {}
     },
     "cdd49923f21a4947a10eac7e672110c4": {
      "model_module": "@jupyter-widgets/base",
      "model_module_version": "1.0.0",
      "model_name": "LayoutModel",
      "state": {
       "height": "550px",
       "justify_content": "center",
       "overflow_x": "auto",
       "width": "95%"
      }
     },
     "ce5be461277c48ac90fbb8324bf9447a": {
      "model_module": "@jupyter-widgets/controls",
      "model_module_version": "1.0.0",
      "model_name": "ButtonModel",
      "state": {
       "icon": "forward",
       "layout": "IPY_MODEL_dec918a0915a426281d5b57ec03008ef",
       "style": "IPY_MODEL_5398df01f2284753bc92b3859b99f9a1"
      }
     },
     "cefdd0eca7b64c60a6b903260f8c8a02": {
      "model_module": "@jupyter-widgets/base",
      "model_module_version": "1.0.0",
      "model_name": "LayoutModel",
      "state": {
       "width": "100%"
      }
     },
     "cf31584598dd4f2f86664456dce0b4b4": {
      "model_module": "@jupyter-widgets/base",
      "model_module_version": "1.0.0",
      "model_name": "LayoutModel",
      "state": {
       "height": "50px",
       "width": "95%"
      }
     },
     "cf648854a6924a56bf77d2431a4d696a": {
      "model_module": "@jupyter-widgets/controls",
      "model_module_version": "1.0.0",
      "model_name": "ButtonStyleModel",
      "state": {}
     },
     "cf8cf23a10a547e6b9b28e2b09175962": {
      "model_module": "@jupyter-widgets/base",
      "model_module_version": "1.0.0",
      "model_name": "LayoutModel",
      "state": {
       "width": "95%"
      }
     },
     "cfee0fe1551a48d980984a16f8877004": {
      "model_module": "@jupyter-widgets/base",
      "model_module_version": "1.0.0",
      "model_name": "LayoutModel",
      "state": {
       "width": "95%"
      }
     },
     "d0987f5fcf6d45efa3d118efcc740616": {
      "model_module": "@jupyter-widgets/controls",
      "model_module_version": "1.0.0",
      "model_name": "IntSliderModel",
      "state": {
       "continuous_update": false,
       "description": "Dataset index",
       "layout": "IPY_MODEL_c2dd78789cc3447cb440f26bb486242a",
       "max": 4,
       "style": "IPY_MODEL_3f09ca0346c84302b994063e9631abbc"
      }
     },
     "d0b71597a9304a9dbc6e4acc60cf01ef": {
      "model_module": "@jupyter-widgets/controls",
      "model_module_version": "1.0.0",
      "model_name": "SelectModel",
      "state": {
       "_options_labels": [
        "Test",
        "Train"
       ],
       "description": "Dataset:",
       "index": 1,
       "layout": "IPY_MODEL_745b859e10934a86bde6a02252c5e2a8",
       "rows": 1,
       "style": "IPY_MODEL_f7fbb2d67a664910a6cb923f7bdccdc1"
      }
     },
     "d0bd2b67ab2548cfb92ca5b0d98c5cf6": {
      "model_module": "@jupyter-widgets/base",
      "model_module_version": "1.0.0",
      "model_name": "LayoutModel",
      "state": {
       "width": "100%"
      }
     },
     "d0c9f5bd4b6c4b44a52c19f01544d2cb": {
      "model_module": "@jupyter-widgets/controls",
      "model_module_version": "1.0.0",
      "model_name": "ButtonModel",
      "state": {
       "disabled": true,
       "icon": "forward",
       "layout": "IPY_MODEL_e48dfaaca7ab460ca93c486b2a4ae792",
       "style": "IPY_MODEL_d4dd5afe3ccc4a92854e29f1529962ca"
      }
     },
     "d0f4da72187e49fea072c259323a5a26": {
      "model_module": "@jupyter-widgets/controls",
      "model_module_version": "1.0.0",
      "model_name": "DescriptionStyleModel",
      "state": {
       "description_width": ""
      }
     },
     "d13022c41284401aacd0e8c7c274c93f": {
      "model_module": "@jupyter-widgets/controls",
      "model_module_version": "1.0.0",
      "model_name": "ButtonModel",
      "state": {
       "description": "Train",
       "layout": "IPY_MODEL_8b637bb7c8334bef9f3c5805fd029f43",
       "style": "IPY_MODEL_84f402c4a3a346f2885c73f9d930edbb"
      }
     },
     "d1538657f08b40a48b21b08eaceb94bb": {
      "model_module": "@jupyter-widgets/base",
      "model_module_version": "1.0.0",
      "model_name": "LayoutModel",
      "state": {
       "width": "95%"
      }
     },
     "d1aca1517a7d4a65b770ca7886690625": {
      "model_module": "@jupyter-widgets/controls",
      "model_module_version": "1.0.0",
      "model_name": "ButtonModel",
      "state": {
       "description": "Train",
       "layout": "IPY_MODEL_4fc8bf746e7840e28479f67036db8159",
       "style": "IPY_MODEL_87afa1857b304b0cbcb1ed107e568aa9"
      }
     },
     "d2ae73a809b946c38fb4d9db3278573f": {
      "model_module": "@jupyter-widgets/base",
      "model_module_version": "1.0.0",
      "model_name": "LayoutModel",
      "state": {}
     },
     "d2f8f17909b244219c7a54bdd1abc06e": {
      "model_module": "@jupyter-widgets/base",
      "model_module_version": "1.0.0",
      "model_name": "LayoutModel",
      "state": {}
     },
     "d3003a29a869429db349cdf1097dcfd1": {
      "model_module": "@jupyter-widgets/controls",
      "model_module_version": "1.0.0",
      "model_name": "TabModel",
      "state": {
       "_titles": {
        "0": "Network",
        "1": "Help"
       },
       "children": [
        "IPY_MODEL_fd2a0b09596f494caa2b3e4bfba7ddcc",
        "IPY_MODEL_12df8d0975dd434fa85bc777d6dc6cd6"
       ],
       "layout": "IPY_MODEL_afbe0fbe46b54179a1afbe51e34c2c30"
      }
     },
     "d30c4001caec42c6b94ad533182d9b0a": {
      "model_module": "@jupyter-widgets/controls",
      "model_module_version": "1.0.0",
      "model_name": "ButtonStyleModel",
      "state": {}
     },
     "d35feedde61f4fafad4fc4ffd420fdf1": {
      "model_module": "@jupyter-widgets/controls",
      "model_module_version": "1.0.0",
      "model_name": "ButtonModel",
      "state": {
       "disabled": true,
       "icon": "backward",
       "layout": "IPY_MODEL_2f9ed4ba7bcc46f089406a11d79a7288",
       "style": "IPY_MODEL_64c424539c864fa98fffdb0cc90848e2"
      }
     },
     "d37f07f295f64fa2996ff8b7e7ba3465": {
      "model_module": "@jupyter-widgets/base",
      "model_module_version": "1.0.0",
      "model_name": "LayoutModel",
      "state": {
       "height": "550px",
       "width": "100%"
      }
     },
     "d3ebcc4fd3824039bd14839caf757918": {
      "model_module": "@jupyter-widgets/controls",
      "model_module_version": "1.0.0",
      "model_name": "DescriptionStyleModel",
      "state": {
       "description_width": ""
      }
     },
     "d3fd49a2daa84200a3a38c145aba086f": {
      "model_module": "@jupyter-widgets/controls",
      "model_module_version": "1.0.0",
      "model_name": "ButtonModel",
      "state": {
       "icon": "fast-backward",
       "layout": "IPY_MODEL_971b7d65685341ee98df2053402731ad",
       "style": "IPY_MODEL_3f3377d83f824f72b6603092fcf811c9"
      }
     },
     "d48a3eca372f4eee9f8c17d8d2893ff6": {
      "model_module": "@jupyter-widgets/controls",
      "model_module_version": "1.0.0",
      "model_name": "HTMLModel",
      "state": {
       "layout": "IPY_MODEL_96328d67d597418abf646235109e3496",
       "style": "IPY_MODEL_ae371f87c8804d30ae5bacf1c1c33f98",
       "value": "<p style=\"text-align:center\"><svg id='MNIST-Autoencoder' xmlns='http://www.w3.org/2000/svg' width=\"350\" height=\"705\" image-rendering=\"pixelated\">\n    <defs>\n        <marker id=\"arrow\" markerWidth=\"10\" markerHeight=\"10\" refX=\"9\" refY=\"3\" orient=\"auto\" markerUnits=\"strokeWidth\">\n          <path d=\"M0,0 L0,6 L9,3 z\" fill=\"black\" />\n        </marker>\n    </defs><text x=\"175.0\" y=\"12.5\" font-family=\"monospace\" font-size=\"15\" text-anchor=\"middle\" alignment-baseline=\"central\">MNIST-Autoencoder</text><rect x=\"74.0\" y=\"29\" width=\"202\" height=\"202\" style=\"fill:none;stroke:black;stroke-width:2\"/><image id=\"MNIST-Autoencoder_output_7\" class=\"MNIST-Autoencoder_output\" x=\"75.0\" y=\"30\" height=\"200\" width=\"200\" preserveAspectRatio=\"none\" href=\"data:image/gif;base64,R0lGODdhHAAcAIcAAP38/AAAAAAAAAAAAAAAAAAAAAAAAAAAAAAAAAAAAAAAAAAAAAAAAAAAAAAAAAAAAAAAAAAAAAAAAAAAAAAAAAAAAAAAAAAAAAAAAAAAAAAAAAAAAAAAAAAAAAAAAAAAAAAAAAAAAAAAAAAAAAAAAAAAAAAAAAAAAAAAAAAAAAAAAAAAAAAAAAAAAAAAAAAAAAAAAAAAAAAAAAAAAAAAAAAAAAAAAAAAAAAAAAAAAAAAAAAAAAAAAAAAAAAAAAAAAAAAAAAAAAAAAAAAAAAAAAAAAAAAAAAAAAAAAAAAAAAAAAAAAAAAAAAAAAAAAAAAAAAAAAAAAAAAAAAAAAAAAAAAAAAAAAAAAAAAAAAAAAAAAAAAAAAAAAAAAAAAAAAAAAAAAAAAAAAAAAAAAAAAAAAAAAAAAAAAAAAAAAAAAAAAAAAAAAAAAAAAAAAAAAAAAAAAAAAAAAAAAAAAAAAAAAAAAAAAAAAAAAAAAAAAAAAAAAAAAAAAAAAAAAAAAAAAAAAAAAAAAAAAAAAAAAAAAAAAAAAAAAAAAAAAAAAAAAAAAAAAAAAAAAAAAAAAAAAAAAAAAAAAAAAAAAAAAAAAAAAAAAAAAAAAAAAAAAAAAAAAAAAAAAAAAAAAAAAAAAAAAAAAAAAAAAAAAAAAAAAAAAAAAAAAAAAAAAAAAAAAAAAAAAAAAAAAAAAAAAAAAAAAAAAAAAAAAAAAAAAAAAAAAAAAAAAAAAAAAAAAAAAAAAAAAAAAAAAAAAAAAAAAAAAAAAAAAAAAAAAAAAAAAAAAAAAAAAAAAAAAAAAAAAAAAAAAAAAAAAAAAAAAAAAAAAAAAAAAAAAAAAAAAAAAAAAAAAAAAAAAAAAAAAAAAAAAAAAAAAAAAAAAAAAAAAAAAAAAAAAAAAAAAAAAAAAAAAAAAAAAAAAAAAAAAAAAAAAAAAAAAAAAAAAAAAAAAAAAAAAAAAAAAAAAAAAAAAAAAAAAAAAAAAAAAAAAAAAAAAAAAAAAAAAAAAAAAAAAAAAAAAAAACwAAAAAHAAcAEAIMAABCBxIsKDBgwgTKlzIsKHDhxAjSpxIsaLFixgzatzIsaPHjyBDihxJsqTJkwQDAgA7\"><title>Layer: output (output)\n shape = (28, 28, 1)\n Keras class = Dense\n activation = sigmoid</title></image><text x=\"280.0\" y=\"132.0\" font-family=\"monospace\" font-size=\"12\" text-anchor=\"start\" alignment-baseline=\"central\">output</text><line x1=\"175.0\" y1=\"259\" x2=\"175.0\" y2=\"232\" stroke=\"black\" stroke-width=\"2\" marker-end=\"url(#arrow)\"><title>Weights from hidden3 to output\n output/kernel has shape (25, 784)\n output/bias has shape (784,)</title></line><rect x=\"74.0\" y=\"259\" width=\"202\" height=\"27\" style=\"fill:none;stroke:black;stroke-width:2\"/><image id=\"MNIST-Autoencoder_hidden3_8\" class=\"MNIST-Autoencoder_hidden3\" x=\"75.0\" y=\"260\" height=\"25\" width=\"200\" preserveAspectRatio=\"none\" href=\"data:image/gif;base64,R0lGODdhGQABAIcAAGcAHxoaGoQJI5kQJ42Njb8yN8M7O81PRM5RRtpqVeB4X+yTdPWujv3dy/3n2gAAAAAAAAAAAAAAAAAAAAAAAAAAAAAAAAAAAAAAAAAAAAAAAAAAAAAAAAAAAAAAAAAAAAAAAAAAAAAAAAAAAAAAAAAAAAAAAAAAAAAAAAAAAAAAAAAAAAAAAAAAAAAAAAAAAAAAAAAAAAAAAAAAAAAAAAAAAAAAAAAAAAAAAAAAAAAAAAAAAAAAAAAAAAAAAAAAAAAAAAAAAAAAAAAAAAAAAAAAAAAAAAAAAAAAAAAAAAAAAAAAAAAAAAAAAAAAAAAAAAAAAAAAAAAAAAAAAAAAAAAAAAAAAAAAAAAAAAAAAAAAAAAAAAAAAAAAAAAAAAAAAAAAAAAAAAAAAAAAAAAAAAAAAAAAAAAAAAAAAAAAAAAAAAAAAAAAAAAAAAAAAAAAAAAAAAAAAAAAAAAAAAAAAAAAAAAAAAAAAAAAAAAAAAAAAAAAAAAAAAAAAAAAAAAAAAAAAAAAAAAAAAAAAAAAAAAAAAAAAAAAAAAAAAAAAAAAAAAAAAAAAAAAAAAAAAAAAAAAAAAAAAAAAAAAAAAAAAAAAAAAAAAAAAAAAAAAAAAAAAAAAAAAAAAAAAAAAAAAAAAAAAAAAAAAAAAAAAAAAAAAAAAAAAAAAAAAAAAAAAAAAAAAAAAAAAAAAAAAAAAAAAAAAAAAAAAAAAAAAAAAAAAAAAAAAAAAAAAAAAAAAAAAAAAAAAAAAAAAAAAAAAAAAAAAAAAAAAAAAAAAAAAAAAAAAAAAAAAAAAAAAAAAAAAAAAAAAAAAAAAAAAAAAAAAAAAAAAAAAAAAAAAAAAAAAAAAAAAAAAAAAAAAAAAAAAAAAAAAAAAAAAAAAAAAAAAAAAAAAAAAAAAAAAAAAAAAAAAAAAAAAAAAAAAAAAAAAAAAAAAAAAAAAAAAAAAAAAAAAAAAAAAAAAAAAAAAAAAAAAAAAAAAAAAAAAAAAAAAAAAAAAAAAAAAAAAAAAAAAAAAACwAAAAAGQABAAAIHwABDBAA4EABAAAUADCAAACABQAIAGAAAECDAA4SBAQAOw==\"><title>Layer: hidden3 (hidden)\n shape = (25,)\n Keras class = Dense\n activation = relu</title></image><text x=\"280.0\" y=\"274.5\" font-family=\"monospace\" font-size=\"12\" text-anchor=\"start\" alignment-baseline=\"central\">hidden3</text><line x1=\"175.0\" y1=\"314\" x2=\"175.0\" y2=\"287\" stroke=\"black\" stroke-width=\"2\" marker-end=\"url(#arrow)\"><title>Weights from hidden2 to hidden3\n hidden3/kernel has shape (25, 25)\n hidden3/bias has shape (25,)</title></line><rect x=\"74.0\" y=\"314\" width=\"202\" height=\"27\" style=\"fill:none;stroke:black;stroke-width:2\"/><image id=\"MNIST-Autoencoder_hidden2_9\" class=\"MNIST-Autoencoder_hidden2\" x=\"75.0\" y=\"315\" height=\"25\" width=\"200\" preserveAspectRatio=\"none\" href=\"data:image/gif;base64,R0lGODdhGQABAIcAAGcAH3gFIZENJRoaGrq6ut5yW+aFau2Wdve2mP3fzfLy8gAAAAAAAAAAAAAAAAAAAAAAAAAAAAAAAAAAAAAAAAAAAAAAAAAAAAAAAAAAAAAAAAAAAAAAAAAAAAAAAAAAAAAAAAAAAAAAAAAAAAAAAAAAAAAAAAAAAAAAAAAAAAAAAAAAAAAAAAAAAAAAAAAAAAAAAAAAAAAAAAAAAAAAAAAAAAAAAAAAAAAAAAAAAAAAAAAAAAAAAAAAAAAAAAAAAAAAAAAAAAAAAAAAAAAAAAAAAAAAAAAAAAAAAAAAAAAAAAAAAAAAAAAAAAAAAAAAAAAAAAAAAAAAAAAAAAAAAAAAAAAAAAAAAAAAAAAAAAAAAAAAAAAAAAAAAAAAAAAAAAAAAAAAAAAAAAAAAAAAAAAAAAAAAAAAAAAAAAAAAAAAAAAAAAAAAAAAAAAAAAAAAAAAAAAAAAAAAAAAAAAAAAAAAAAAAAAAAAAAAAAAAAAAAAAAAAAAAAAAAAAAAAAAAAAAAAAAAAAAAAAAAAAAAAAAAAAAAAAAAAAAAAAAAAAAAAAAAAAAAAAAAAAAAAAAAAAAAAAAAAAAAAAAAAAAAAAAAAAAAAAAAAAAAAAAAAAAAAAAAAAAAAAAAAAAAAAAAAAAAAAAAAAAAAAAAAAAAAAAAAAAAAAAAAAAAAAAAAAAAAAAAAAAAAAAAAAAAAAAAAAAAAAAAAAAAAAAAAAAAAAAAAAAAAAAAAAAAAAAAAAAAAAAAAAAAAAAAAAAAAAAAAAAAAAAAAAAAAAAAAAAAAAAAAAAAAAAAAAAAAAAAAAAAAAAAAAAAAAAAAAAAAAAAAAAAAAAAAAAAAAAAAAAAAAAAAAAAAAAAAAAAAAAAAAAAAAAAAAAAAAAAAAAAAAAAAAAAAAAAAAAAAAAAAAAAAAAAAAAAAAAAAAAAAAAAAAAAAAAAAAAAAAAAAAAAAAAAAAAAAAAAAAAAAAAAAAAAAAAAAAAAAAAAAAAAAAAAAAAAAAAAAAAAAAAAAAAAAAAACwAAAAAGQABAAAIHgARADAAoAAAAAIAKAwQAAAABQcIABAQAEACAAMCAgA7\"><title>Layer: hidden2 (hidden)\n shape = (25,)\n Keras class = Dense\n activation = relu</title></image><text x=\"280.0\" y=\"329.5\" font-family=\"monospace\" font-size=\"12\" text-anchor=\"start\" alignment-baseline=\"central\">hidden2</text><line x1=\"175.0\" y1=\"369\" x2=\"175.0\" y2=\"342\" stroke=\"black\" stroke-width=\"2\" marker-end=\"url(#arrow)\"><title>Weights from hidden1 to hidden2\n hidden2/kernel has shape (25, 25)\n hidden2/bias has shape (25,)</title></line><rect x=\"74.0\" y=\"369\" width=\"202\" height=\"27\" style=\"fill:none;stroke:black;stroke-width:2\"/><image id=\"MNIST-Autoencoder_hidden1_10\" class=\"MNIST-Autoencoder_hidden1\" x=\"75.0\" y=\"370\" height=\"25\" width=\"200\" preserveAspectRatio=\"none\" href=\"data:image/gif;base64,R0lGODdhGQABAIcAAGcAH/rz7xoaGjg4OLQcLbgkMcdDP9ttVwAAAAAAAAAAAAAAAAAAAAAAAAAAAAAAAAAAAAAAAAAAAAAAAAAAAAAAAAAAAAAAAAAAAAAAAAAAAAAAAAAAAAAAAAAAAAAAAAAAAAAAAAAAAAAAAAAAAAAAAAAAAAAAAAAAAAAAAAAAAAAAAAAAAAAAAAAAAAAAAAAAAAAAAAAAAAAAAAAAAAAAAAAAAAAAAAAAAAAAAAAAAAAAAAAAAAAAAAAAAAAAAAAAAAAAAAAAAAAAAAAAAAAAAAAAAAAAAAAAAAAAAAAAAAAAAAAAAAAAAAAAAAAAAAAAAAAAAAAAAAAAAAAAAAAAAAAAAAAAAAAAAAAAAAAAAAAAAAAAAAAAAAAAAAAAAAAAAAAAAAAAAAAAAAAAAAAAAAAAAAAAAAAAAAAAAAAAAAAAAAAAAAAAAAAAAAAAAAAAAAAAAAAAAAAAAAAAAAAAAAAAAAAAAAAAAAAAAAAAAAAAAAAAAAAAAAAAAAAAAAAAAAAAAAAAAAAAAAAAAAAAAAAAAAAAAAAAAAAAAAAAAAAAAAAAAAAAAAAAAAAAAAAAAAAAAAAAAAAAAAAAAAAAAAAAAAAAAAAAAAAAAAAAAAAAAAAAAAAAAAAAAAAAAAAAAAAAAAAAAAAAAAAAAAAAAAAAAAAAAAAAAAAAAAAAAAAAAAAAAAAAAAAAAAAAAAAAAAAAAAAAAAAAAAAAAAAAAAAAAAAAAAAAAAAAAAAAAAAAAAAAAAAAAAAAAAAAAAAAAAAAAAAAAAAAAAAAAAAAAAAAAAAAAAAAAAAAAAAAAAAAAAAAAAAAAAAAAAAAAAAAAAAAAAAAAAAAAAAAAAAAAAAAAAAAAAAAAAAAAAAAAAAAAAAAAAAAAAAAAAAAAAAAAAAAAAAAAAAAAAAAAAAAAAAAAAAAAAAAAAAAAAAAAAAAAAAAAAAAAAAAAAAAAAAAAAAAAAAAAAAAAAAAAAAAAAAAAAAAAAAAAAAAAAAAAAAAAAAAAAAAAAAAAAAAACwAAAAAGQABAAAIFwABFAgAoOABAAgTJiQgIACAAQYASAwIADs=\"><title>Layer: hidden1 (hidden)\n shape = (25,)\n Keras class = Dense\n activation = relu</title></image><text x=\"280.0\" y=\"384.5\" font-family=\"monospace\" font-size=\"12\" text-anchor=\"start\" alignment-baseline=\"central\">hidden1</text><line x1=\"175.0\" y1=\"424\" x2=\"175.0\" y2=\"397\" stroke=\"black\" stroke-width=\"2\" marker-end=\"url(#arrow)\"><title>Weights from flatten to hidden1\n hidden1/kernel has shape (784, 25)\n hidden1/bias has shape (25,)</title></line><rect x=\"74.0\" y=\"424\" width=\"202\" height=\"27\" style=\"fill:none;stroke:black;stroke-width:2\"/><image id=\"MNIST-Autoencoder_flatten_11\" class=\"MNIST-Autoencoder_flatten\" x=\"75.0\" y=\"425\" height=\"25\" width=\"200\" preserveAspectRatio=\"none\" href=\"data:image/gif;base64,R0lGODdhEAMBAIcAAP39/BwcHOjo6CUlJcbGxjk5OVdXV4eHh5qammVlZdfX13Nzc0dHR6enp7W1tQAAAAAAAAAAAAAAAAAAAAAAAAAAAAAAAAAAAAAAAAAAAAAAAAAAAAAAAAAAAAAAAAAAAAAAAAAAAAAAAAAAAAAAAAAAAAAAAAAAAAAAAAAAAAAAAAAAAAAAAAAAAAAAAAAAAAAAAAAAAAAAAAAAAAAAAAAAAAAAAAAAAAAAAAAAAAAAAAAAAAAAAAAAAAAAAAAAAAAAAAAAAAAAAAAAAAAAAAAAAAAAAAAAAAAAAAAAAAAAAAAAAAAAAAAAAAAAAAAAAAAAAAAAAAAAAAAAAAAAAAAAAAAAAAAAAAAAAAAAAAAAAAAAAAAAAAAAAAAAAAAAAAAAAAAAAAAAAAAAAAAAAAAAAAAAAAAAAAAAAAAAAAAAAAAAAAAAAAAAAAAAAAAAAAAAAAAAAAAAAAAAAAAAAAAAAAAAAAAAAAAAAAAAAAAAAAAAAAAAAAAAAAAAAAAAAAAAAAAAAAAAAAAAAAAAAAAAAAAAAAAAAAAAAAAAAAAAAAAAAAAAAAAAAAAAAAAAAAAAAAAAAAAAAAAAAAAAAAAAAAAAAAAAAAAAAAAAAAAAAAAAAAAAAAAAAAAAAAAAAAAAAAAAAAAAAAAAAAAAAAAAAAAAAAAAAAAAAAAAAAAAAAAAAAAAAAAAAAAAAAAAAAAAAAAAAAAAAAAAAAAAAAAAAAAAAAAAAAAAAAAAAAAAAAAAAAAAAAAAAAAAAAAAAAAAAAAAAAAAAAAAAAAAAAAAAAAAAAAAAAAAAAAAAAAAAAAAAAAAAAAAAAAAAAAAAAAAAAAAAAAAAAAAAAAAAAAAAAAAAAAAAAAAAAAAAAAAAAAAAAAAAAAAAAAAAAAAAAAAAAAAAAAAAAAAAAAAAAAAAAAAAAAAAAAAAAAAAAAAAAAAAAAAAAAAAAAAAAAAAAAAAAAAAAAAAAAAAAAAAAAAAAAAAAAAAAAAAAAAAAAAAAAAAAAAAAAAAAAAAAAAACwAAAAAEAMBAAAI/wABCBxIsKDBgwgTKlzIsKHDhxAjDmyAIIGABQEGNADAsaNHjgIEEDiwIIBJkwUWBBhgQAGAlzBjAhAwIIDNmzcJ6FQgAIDPn0B/FghAlKiBBAMGAFjKtKlTpgQOOAgQgAEAAAIOANjKtavXrwcCEABAtqzZs2jNIghgAIDbt3Djyo1rIIACAHjz6t3LV6+AAQUOOABAuLDhw4gLExgQIEADAQAiS55MuXJkAQkCBDggAIDnz6BDi/5MIECABABSq17NuvXqAQEGKABAu7bt27gFIEgQIAADAMCDCx8+XMCBAgGSD0gAoLnz59CfNygQoHoAAwQAaN/Ovft2BQwCiEIPYIAAgPPo06tHv6BAgPcBDBAAQL++/fv0FSwoEKB/AIADEAAgWNDgQYMIAixkgAABAIgRJU6kWNHiRYwZNW7EGBAAOw==\"><title>Layer: flatten (hidden)\n Keras class = Flatten</title></image><text x=\"280.0\" y=\"439.5\" font-family=\"monospace\" font-size=\"12\" text-anchor=\"start\" alignment-baseline=\"central\">flatten</text><line x1=\"175.0\" y1=\"479\" x2=\"175.0\" y2=\"452\" stroke=\"black\" stroke-width=\"2\" marker-end=\"url(#arrow)\"><title>Weights from input to flatten</title></line><rect x=\"74.0\" y=\"479\" width=\"202\" height=\"202\" style=\"fill:none;stroke:black;stroke-width:2\"/><image id=\"MNIST-Autoencoder_input_12\" class=\"MNIST-Autoencoder_input\" x=\"75.0\" y=\"480\" height=\"200\" width=\"200\" preserveAspectRatio=\"none\" href=\"data:image/gif;base64,R0lGODdhHAAcAIcAAP39/BwcHOjo6CUlJcbGxjk5OVdXV4eHh5qammVlZdfX13Nzc0dHR6enp7W1tQAAAAAAAAAAAAAAAAAAAAAAAAAAAAAAAAAAAAAAAAAAAAAAAAAAAAAAAAAAAAAAAAAAAAAAAAAAAAAAAAAAAAAAAAAAAAAAAAAAAAAAAAAAAAAAAAAAAAAAAAAAAAAAAAAAAAAAAAAAAAAAAAAAAAAAAAAAAAAAAAAAAAAAAAAAAAAAAAAAAAAAAAAAAAAAAAAAAAAAAAAAAAAAAAAAAAAAAAAAAAAAAAAAAAAAAAAAAAAAAAAAAAAAAAAAAAAAAAAAAAAAAAAAAAAAAAAAAAAAAAAAAAAAAAAAAAAAAAAAAAAAAAAAAAAAAAAAAAAAAAAAAAAAAAAAAAAAAAAAAAAAAAAAAAAAAAAAAAAAAAAAAAAAAAAAAAAAAAAAAAAAAAAAAAAAAAAAAAAAAAAAAAAAAAAAAAAAAAAAAAAAAAAAAAAAAAAAAAAAAAAAAAAAAAAAAAAAAAAAAAAAAAAAAAAAAAAAAAAAAAAAAAAAAAAAAAAAAAAAAAAAAAAAAAAAAAAAAAAAAAAAAAAAAAAAAAAAAAAAAAAAAAAAAAAAAAAAAAAAAAAAAAAAAAAAAAAAAAAAAAAAAAAAAAAAAAAAAAAAAAAAAAAAAAAAAAAAAAAAAAAAAAAAAAAAAAAAAAAAAAAAAAAAAAAAAAAAAAAAAAAAAAAAAAAAAAAAAAAAAAAAAAAAAAAAAAAAAAAAAAAAAAAAAAAAAAAAAAAAAAAAAAAAAAAAAAAAAAAAAAAAAAAAAAAAAAAAAAAAAAAAAAAAAAAAAAAAAAAAAAAAAAAAAAAAAAAAAAAAAAAAAAAAAAAAAAAAAAAAAAAAAAAAAAAAAAAAAAAAAAAAAAAAAAAAAAAAAAAAAAAAAAAAAAAAAAAAAAAAAAAAAAAAAAAAAAAAAAAAAAAAAAAAAAAAAAAAAAAAAAAAAAAAAAAAAAAAAAAAAAAAAAAAAAAAAAAAAAAAAAAAACwAAAAAHAAcAEAI/wABCBxIsKDBgwgLBFi40ECCAQMASJxIsaLFigQCBEgAoKPHjx0RBBjJAAECAChTqlzJsqXLlzBRGgigAIDNmzhz6rzZoECAnwEMEABAtKjRo0iTKl0qQACBAwsCSJVaYEGAAQYUANjKtavXAwEIABhLtqzZs2cJDAgQoIEAAHDjyp1LF64ABAkCBGAAoK/fv4AXFAhAOIABAgASK17MuLHjx5AjS55MufLjBggSCFgQYEADAKBDiwYgYECA06hRE1itQACA17BjwyZwwEGAAAwAABBwAIDv38CDC0cQwACA48iTK1+uXMCAAgccAJhOvbr169UFJAgQ4IAAAODDi0QfT178gAADFABYz769+/YCDhQIQH9AAgD48+vfj18BA4ABBAYwQADAQYQJFSpYUCDAwwADEACgWNHiRYwZNW7k2PFiQAA7\"><title>Layer: input (input)\n shape = (28, 28, 1)\n Keras class = Input</title></image><text x=\"280.0\" y=\"582.0\" font-family=\"monospace\" font-size=\"12\" text-anchor=\"start\" alignment-baseline=\"central\">input</text><text x=\"280.0\" y=\"485\" font-family=\"monospace\" font-size=\"12\" text-anchor=\"start\" alignment-baseline=\"central\">1</text><text x=\"63.0\" y=\"675\" font-family=\"monospace\" font-size=\"12\" text-anchor=\"start\" alignment-baseline=\"central\">0</text></svg></p>"
      }
     },
     "d4b9c0b8f75046819860ec4fc42bdc4f": {
      "model_module": "@jupyter-widgets/base",
      "model_module_version": "1.0.0",
      "model_name": "LayoutModel",
      "state": {}
     },
     "d4d3e7a314114d4db06d2c5f57562d4f": {
      "model_module": "@jupyter-widgets/controls",
      "model_module_version": "1.0.0",
      "model_name": "ButtonStyleModel",
      "state": {}
     },
     "d4dd5afe3ccc4a92854e29f1529962ca": {
      "model_module": "@jupyter-widgets/controls",
      "model_module_version": "1.0.0",
      "model_name": "ButtonStyleModel",
      "state": {}
     },
     "d528c75ecbb84fa3a66b034fbad534c3": {
      "model_module": "@jupyter-widgets/controls",
      "model_module_version": "1.0.0",
      "model_name": "ButtonStyleModel",
      "state": {}
     },
     "d60f15120270477c9e73d85c05f83363": {
      "model_module": "@jupyter-widgets/controls",
      "model_module_version": "1.0.0",
      "model_name": "VBoxModel",
      "state": {
       "children": [
        "IPY_MODEL_f35b096976f44e389835d94cc97e3e09",
        "IPY_MODEL_13e0fa746c5e45e397d56f818a861746"
       ],
       "layout": "IPY_MODEL_6f829f4b8fe34199b9d75af9ef833084"
      }
     },
     "d76c639f01b64e1886d1e44152f68fe7": {
      "model_module": "@jupyter-widgets/controls",
      "model_module_version": "1.0.0",
      "model_name": "HBoxModel",
      "state": {
       "children": [
        "IPY_MODEL_2c709788340848379308b3ea3bf527ad",
        "IPY_MODEL_be6e48cd13714b2c90518c338b89399d",
        "IPY_MODEL_d1aca1517a7d4a65b770ca7886690625",
        "IPY_MODEL_8e0fcd7c456b4c829b0c6adc59bae7ce",
        "IPY_MODEL_b7ad0b065f0745149ebc8c093ec12429"
       ],
       "layout": "IPY_MODEL_e7c9a5392b83409e8d3320ac646ff520"
      }
     },
     "d78d8993f2de4da2983d17ef9509440e": {
      "model_module": "@jupyter-widgets/controls",
      "model_module_version": "1.0.0",
      "model_name": "HTMLModel",
      "state": {
       "layout": "IPY_MODEL_ccf140164d764949a364e45917f94e7b",
       "style": "IPY_MODEL_09ae020e19b645609dcd09d8e7949e39",
       "value": "<p style=\"text-align:center\"><svg id='Autoencoder' xmlns='http://www.w3.org/2000/svg' width=\"350\" height=\"235\" image-rendering=\"pixelated\">\n    <defs>\n        <marker id=\"arrow\" markerWidth=\"10\" markerHeight=\"10\" refX=\"9\" refY=\"3\" orient=\"auto\" markerUnits=\"strokeWidth\">\n          <path d=\"M0,0 L0,6 L9,3 z\" fill=\"black\" />\n        </marker>\n    </defs><text x=\"175.0\" y=\"12.5\" font-family=\"monospace\" font-size=\"15\" text-anchor=\"middle\" alignment-baseline=\"central\">Autoencoder</text><rect x=\"74.0\" y=\"29\" width=\"202\" height=\"42\" style=\"fill:none;stroke:black;stroke-width:2\"/><image id=\"Autoencoder_output_7\" class=\"Autoencoder_output\" x=\"75.0\" y=\"30\" height=\"40\" width=\"200\" preserveAspectRatio=\"none\" href=\"data:image/gif;base64,R0lGODdhBQABAIcAAHUEIbwtNMA1OPSmg+Dg4AAAAAAAAAAAAAAAAAAAAAAAAAAAAAAAAAAAAAAAAAAAAAAAAAAAAAAAAAAAAAAAAAAAAAAAAAAAAAAAAAAAAAAAAAAAAAAAAAAAAAAAAAAAAAAAAAAAAAAAAAAAAAAAAAAAAAAAAAAAAAAAAAAAAAAAAAAAAAAAAAAAAAAAAAAAAAAAAAAAAAAAAAAAAAAAAAAAAAAAAAAAAAAAAAAAAAAAAAAAAAAAAAAAAAAAAAAAAAAAAAAAAAAAAAAAAAAAAAAAAAAAAAAAAAAAAAAAAAAAAAAAAAAAAAAAAAAAAAAAAAAAAAAAAAAAAAAAAAAAAAAAAAAAAAAAAAAAAAAAAAAAAAAAAAAAAAAAAAAAAAAAAAAAAAAAAAAAAAAAAAAAAAAAAAAAAAAAAAAAAAAAAAAAAAAAAAAAAAAAAAAAAAAAAAAAAAAAAAAAAAAAAAAAAAAAAAAAAAAAAAAAAAAAAAAAAAAAAAAAAAAAAAAAAAAAAAAAAAAAAAAAAAAAAAAAAAAAAAAAAAAAAAAAAAAAAAAAAAAAAAAAAAAAAAAAAAAAAAAAAAAAAAAAAAAAAAAAAAAAAAAAAAAAAAAAAAAAAAAAAAAAAAAAAAAAAAAAAAAAAAAAAAAAAAAAAAAAAAAAAAAAAAAAAAAAAAAAAAAAAAAAAAAAAAAAAAAAAAAAAAAAAAAAAAAAAAAAAAAAAAAAAAAAAAAAAAAAAAAAAAAAAAAAAAAAAAAAAAAAAAAAAAAAAAAAAAAAAAAAAAAAAAAAAAAAAAAAAAAAAAAAAAAAAAAAAAAAAAAAAAAAAAAAAAAAAAAAAAAAAAAAAAAAAAAAAAAAAAAAAAAAAAAAAAAAAAAAAAAAAAAAAAAAAAAAAAAAAAAAAAAAAAAAAAAAAAAAAAAAAAAAAAAAAAAAAAAAAAAAAAAAAAAAAAAAAAAAAAAAAAAAAAAAAAAAAAAAAAAAAAAAAAAAAAAAAAAAAAAAAAAAAAAAAAAAAAAAAAAAAAAAACwAAAAABQABAAAICAAJBBAAYEBAADs=\"><title>Layer: output (output)\n shape = (5,)\n Keras class = Dense\n activation = sigmoid</title></image><text x=\"280.0\" y=\"52.0\" font-family=\"monospace\" font-size=\"12\" text-anchor=\"start\" alignment-baseline=\"central\">output</text><line x1=\"175.0\" y1=\"99\" x2=\"175.0\" y2=\"72\" stroke=\"black\" stroke-width=\"2\" marker-end=\"url(#arrow)\"><title>Weights from hidden to output\n output/kernel has shape (5, 5)\n output/bias has shape (5,)</title></line><rect x=\"74.0\" y=\"99\" width=\"202\" height=\"42\" style=\"fill:none;stroke:black;stroke-width:2\"/><image id=\"Autoencoder_hidden_8\" class=\"Autoencoder_hidden\" x=\"75.0\" y=\"100\" height=\"40\" width=\"200\" preserveAspectRatio=\"none\" href=\"data:image/gif;base64,R0lGODdhBQABAIcAAGcAHxoaGvvSvP3k1gAAAAAAAAAAAAAAAAAAAAAAAAAAAAAAAAAAAAAAAAAAAAAAAAAAAAAAAAAAAAAAAAAAAAAAAAAAAAAAAAAAAAAAAAAAAAAAAAAAAAAAAAAAAAAAAAAAAAAAAAAAAAAAAAAAAAAAAAAAAAAAAAAAAAAAAAAAAAAAAAAAAAAAAAAAAAAAAAAAAAAAAAAAAAAAAAAAAAAAAAAAAAAAAAAAAAAAAAAAAAAAAAAAAAAAAAAAAAAAAAAAAAAAAAAAAAAAAAAAAAAAAAAAAAAAAAAAAAAAAAAAAAAAAAAAAAAAAAAAAAAAAAAAAAAAAAAAAAAAAAAAAAAAAAAAAAAAAAAAAAAAAAAAAAAAAAAAAAAAAAAAAAAAAAAAAAAAAAAAAAAAAAAAAAAAAAAAAAAAAAAAAAAAAAAAAAAAAAAAAAAAAAAAAAAAAAAAAAAAAAAAAAAAAAAAAAAAAAAAAAAAAAAAAAAAAAAAAAAAAAAAAAAAAAAAAAAAAAAAAAAAAAAAAAAAAAAAAAAAAAAAAAAAAAAAAAAAAAAAAAAAAAAAAAAAAAAAAAAAAAAAAAAAAAAAAAAAAAAAAAAAAAAAAAAAAAAAAAAAAAAAAAAAAAAAAAAAAAAAAAAAAAAAAAAAAAAAAAAAAAAAAAAAAAAAAAAAAAAAAAAAAAAAAAAAAAAAAAAAAAAAAAAAAAAAAAAAAAAAAAAAAAAAAAAAAAAAAAAAAAAAAAAAAAAAAAAAAAAAAAAAAAAAAAAAAAAAAAAAAAAAAAAAAAAAAAAAAAAAAAAAAAAAAAAAAAAAAAAAAAAAAAAAAAAAAAAAAAAAAAAAAAAAAAAAAAAAAAAAAAAAAAAAAAAAAAAAAAAAAAAAAAAAAAAAAAAAAAAAAAAAAAAAAAAAAAAAAAAAAAAAAAAAAAAAAAAAAAAAAAAAAAAAAAAAAAAAAAAAAAAAAAAAAAAAAAAAAAAAAAAAAAAAAAAAAAAAAAAAAAAAAAAAAAAAAAAAAAAAAAAAAAAAACwAAAAABQABAAAICAABDBAAIEBAADs=\"><title>Layer: hidden (hidden)\n shape = (5,)\n Keras class = Dense\n activation = relu</title></image><text x=\"280.0\" y=\"122.0\" font-family=\"monospace\" font-size=\"12\" text-anchor=\"start\" alignment-baseline=\"central\">hidden</text><line x1=\"175.0\" y1=\"169\" x2=\"175.0\" y2=\"142\" stroke=\"black\" stroke-width=\"2\" marker-end=\"url(#arrow)\"><title>Weights from input to hidden\n hidden/kernel has shape (5, 5)\n hidden/bias has shape (5,)</title></line><rect x=\"74.0\" y=\"169\" width=\"202\" height=\"42\" style=\"fill:none;stroke:black;stroke-width:2\"/><image id=\"Autoencoder_input_9\" class=\"Autoencoder_input\" x=\"75.0\" y=\"170\" height=\"40\" width=\"200\" preserveAspectRatio=\"none\" href=\"data:image/gif;base64,R0lGODdhBQABAIcAAGcAHxoaGgAAAAAAAAAAAAAAAAAAAAAAAAAAAAAAAAAAAAAAAAAAAAAAAAAAAAAAAAAAAAAAAAAAAAAAAAAAAAAAAAAAAAAAAAAAAAAAAAAAAAAAAAAAAAAAAAAAAAAAAAAAAAAAAAAAAAAAAAAAAAAAAAAAAAAAAAAAAAAAAAAAAAAAAAAAAAAAAAAAAAAAAAAAAAAAAAAAAAAAAAAAAAAAAAAAAAAAAAAAAAAAAAAAAAAAAAAAAAAAAAAAAAAAAAAAAAAAAAAAAAAAAAAAAAAAAAAAAAAAAAAAAAAAAAAAAAAAAAAAAAAAAAAAAAAAAAAAAAAAAAAAAAAAAAAAAAAAAAAAAAAAAAAAAAAAAAAAAAAAAAAAAAAAAAAAAAAAAAAAAAAAAAAAAAAAAAAAAAAAAAAAAAAAAAAAAAAAAAAAAAAAAAAAAAAAAAAAAAAAAAAAAAAAAAAAAAAAAAAAAAAAAAAAAAAAAAAAAAAAAAAAAAAAAAAAAAAAAAAAAAAAAAAAAAAAAAAAAAAAAAAAAAAAAAAAAAAAAAAAAAAAAAAAAAAAAAAAAAAAAAAAAAAAAAAAAAAAAAAAAAAAAAAAAAAAAAAAAAAAAAAAAAAAAAAAAAAAAAAAAAAAAAAAAAAAAAAAAAAAAAAAAAAAAAAAAAAAAAAAAAAAAAAAAAAAAAAAAAAAAAAAAAAAAAAAAAAAAAAAAAAAAAAAAAAAAAAAAAAAAAAAAAAAAAAAAAAAAAAAAAAAAAAAAAAAAAAAAAAAAAAAAAAAAAAAAAAAAAAAAAAAAAAAAAAAAAAAAAAAAAAAAAAAAAAAAAAAAAAAAAAAAAAAAAAAAAAAAAAAAAAAAAAAAAAAAAAAAAAAAAAAAAAAAAAAAAAAAAAAAAAAAAAAAAAAAAAAAAAAAAAAAAAAAAAAAAAAAAAAAAAAAAAAAAAAAAAAAAAAAAAAAAAAAAAAAAAAAAAAAAAAAAAAAAAAAAAAAAAAAAAAAAAAAAAAAAAAAAAAAAAAAAAAAAAAAAAAACwAAAAABQABAAAIBwADABgIICAAOw==\"><title>Layer: input (input)\n shape = (5,)\n Keras class = Input</title></image><text x=\"280.0\" y=\"192.0\" font-family=\"monospace\" font-size=\"12\" text-anchor=\"start\" alignment-baseline=\"central\">input</text></svg></p>"
      }
     },
     "d830fb51c5aa4174a872e8961e4ec886": {
      "model_module": "@jupyter-widgets/controls",
      "model_module_version": "1.0.0",
      "model_name": "SliderStyleModel",
      "state": {
       "description_width": ""
      }
     },
     "d8e8b84cf05a4ebc96945863afb0f4d2": {
      "model_module": "@jupyter-widgets/controls",
      "model_module_version": "1.0.0",
      "model_name": "ButtonModel",
      "state": {
       "icon": "refresh",
       "layout": "IPY_MODEL_4ef604671a1e4eff98ce9c0d0e5882ad",
       "style": "IPY_MODEL_8c30c963d8174b518143599f5ef91263"
      }
     },
     "d926409e091e461b956d8cd4a9630bc7": {
      "model_module": "@jupyter-widgets/controls",
      "model_module_version": "1.0.0",
      "model_name": "HBoxModel",
      "state": {
       "children": [
        "IPY_MODEL_60f4068737ee43ae97edb0d5e7468a40",
        "IPY_MODEL_188be146c7914941a0f87ac0b517849b",
        "IPY_MODEL_7d6f30760bb547989738bf45e556de4b",
        "IPY_MODEL_f003f5cc15fe4283aa347680e5d4e4b5",
        "IPY_MODEL_a9b254b9ae614afbad27375b52bf799e"
       ],
       "layout": "IPY_MODEL_8e62b88740fb47069495de09c66dc188"
      }
     },
     "d9302ca135a6411d8958ae44a9cd4558": {
      "model_module": "@jupyter-widgets/controls",
      "model_module_version": "1.0.0",
      "model_name": "VBoxModel",
      "state": {
       "children": [
        "IPY_MODEL_75921e4da5b148679132ba6cb1dea5b1",
        "IPY_MODEL_661d1b62d9fb46c5a9524608b806abc0",
        "IPY_MODEL_d926409e091e461b956d8cd4a9630bc7"
       ],
       "layout": "IPY_MODEL_bb1d0904b8d143d08917b02be5ec1ffe"
      }
     },
     "da985cc80e2547b69b94fc92b83bae94": {
      "model_module": "@jupyter-widgets/base",
      "model_module_version": "1.0.0",
      "model_name": "LayoutModel",
      "state": {
       "width": "100%"
      }
     },
     "db7d4ccb33004033ac16b31944be365b": {
      "model_module": "@jupyter-widgets/base",
      "model_module_version": "1.0.0",
      "model_name": "LayoutModel",
      "state": {
       "height": "550px",
       "justify_content": "center",
       "overflow_x": "auto",
       "width": "95%"
      }
     },
     "dba6f66d8d654a26bdc2691dc44b33f7": {
      "model_module": "@jupyter-widgets/controls",
      "model_module_version": "1.0.0",
      "model_name": "ButtonModel",
      "state": {
       "disabled": true,
       "icon": "fast-forward",
       "layout": "IPY_MODEL_72417f8c99c749aa91b8a6b9b4beb593",
       "style": "IPY_MODEL_13dfb3942d614a7db03bdc1d40df03fc"
      }
     },
     "dbd4be8ea6e548bab70d49fb5071a35d": {
      "model_module": "@jupyter-widgets/controls",
      "model_module_version": "1.0.0",
      "model_name": "ButtonModel",
      "state": {
       "icon": "fast-forward",
       "layout": "IPY_MODEL_135e89277bf443979ecd8661c2df0ec1",
       "style": "IPY_MODEL_3ab0783cdb4c426fbcf1137c13a5e8dd"
      }
     },
     "dc1a17a126c84e2c8ab639978ff37690": {
      "model_module": "@jupyter-widgets/controls",
      "model_module_version": "1.0.0",
      "model_name": "TabModel",
      "state": {
       "_titles": {
        "0": "Network",
        "1": "Help"
       },
       "children": [
        "IPY_MODEL_4ed96e8423054751857d64fa25a2d152",
        "IPY_MODEL_112fc5529fe14be59d49217e022e69ef"
       ],
       "layout": "IPY_MODEL_d4b9c0b8f75046819860ec4fc42bdc4f"
      }
     },
     "dc45f531956540acaddb36013d1e5867": {
      "model_module": "@jupyter-widgets/controls",
      "model_module_version": "1.0.0",
      "model_name": "ButtonModel",
      "state": {
       "disabled": true,
       "icon": "fast-backward",
       "layout": "IPY_MODEL_6738aa3d55394159bf157db8242e2ffd",
       "style": "IPY_MODEL_e7df2b4574a04ad194efa5583fac80e9"
      }
     },
     "dd2e7212aa99403891ec14255d90536b": {
      "model_module": "@jupyter-widgets/base",
      "model_module_version": "1.0.0",
      "model_name": "LayoutModel",
      "state": {
       "width": "100%"
      }
     },
     "dd4606284d2a4b6e8573b0fe1a3afe73": {
      "model_module": "@jupyter-widgets/base",
      "model_module_version": "1.0.0",
      "model_name": "LayoutModel",
      "state": {
       "width": "100%"
      }
     },
     "dd52db1b4bf14ad78d5a7b74cc18eb33": {
      "model_module": "@jupyter-widgets/base",
      "model_module_version": "1.0.0",
      "model_name": "LayoutModel",
      "state": {
       "width": "100%"
      }
     },
     "ddd046960f9544b78a9dba41056b9a14": {
      "model_module": "@jupyter-widgets/controls",
      "model_module_version": "1.0.0",
      "model_name": "VBoxModel",
      "state": {
       "children": [
        "IPY_MODEL_b4cc2a60252f4c6b99893ef634ea85f3",
        "IPY_MODEL_87b4fed9d2e843139808bddb961ff909",
        "IPY_MODEL_f3f5a670c606447fab699c8c2dd80cd4"
       ],
       "layout": "IPY_MODEL_f01407cc75a24ebf8bf3653710a25e1f"
      }
     },
     "de199c0c23d949aab3f80b75e61115fd": {
      "model_module": "@jupyter-widgets/base",
      "model_module_version": "1.0.0",
      "model_name": "LayoutModel",
      "state": {
       "width": "100%"
      }
     },
     "de3964f05c9b4273b4970c52975f3d23": {
      "model_module": "@jupyter-widgets/controls",
      "model_module_version": "1.0.0",
      "model_name": "ButtonModel",
      "state": {
       "description": "Train",
       "layout": "IPY_MODEL_760f54c09e3649f9a96cb6879b311a2d",
       "style": "IPY_MODEL_224dd0f8ad14410d94964a4c40632015"
      }
     },
     "dec918a0915a426281d5b57ec03008ef": {
      "model_module": "@jupyter-widgets/base",
      "model_module_version": "1.0.0",
      "model_name": "LayoutModel",
      "state": {
       "width": "100%"
      }
     },
     "ded9c0798f934a7681bcf6955b5be25a": {
      "model_module": "@jupyter-widgets/controls",
      "model_module_version": "1.0.0",
      "model_name": "ButtonModel",
      "state": {
       "disabled": true,
       "icon": "fast-backward",
       "layout": "IPY_MODEL_327846716a5b424990222db45b278570",
       "style": "IPY_MODEL_14e16e3579b94d989ee29b57f7c38320"
      }
     },
     "df39a7b8a2364d5d8459a4d0888bb209": {
      "model_module": "@jupyter-widgets/base",
      "model_module_version": "1.0.0",
      "model_name": "LayoutModel",
      "state": {
       "width": "95%"
      }
     },
     "df9bd2cde61c4f69b1e43dd0d1c8a5f3": {
      "model_module": "@jupyter-widgets/controls",
      "model_module_version": "1.0.0",
      "model_name": "HTMLModel",
      "state": {
       "layout": "IPY_MODEL_0fd89cbe5a7d4f42869aecc74536e50c",
       "style": "IPY_MODEL_0bf1ee17807a48eeb638b948bd668ffe",
       "value": "<p style=\"text-align:center\"><svg id='Autoencoder' xmlns='http://www.w3.org/2000/svg' width=\"350\" height=\"235\" image-rendering=\"pixelated\">\n    <defs>\n        <marker id=\"arrow\" markerWidth=\"10\" markerHeight=\"10\" refX=\"9\" refY=\"3\" orient=\"auto\" markerUnits=\"strokeWidth\">\n          <path d=\"M0,0 L0,6 L9,3 z\" fill=\"black\" />\n        </marker>\n    </defs><text x=\"175.0\" y=\"12.5\" font-family=\"monospace\" font-size=\"15\" text-anchor=\"middle\" alignment-baseline=\"central\">Autoencoder</text><rect x=\"74.0\" y=\"29\" width=\"202\" height=\"42\" style=\"fill:none;stroke:black;stroke-width:2\"/><image id=\"Autoencoder_output_7\" class=\"Autoencoder_output\" x=\"75.0\" y=\"30\" height=\"40\" width=\"200\" preserveAspectRatio=\"none\" href=\"data:image/gif;base64,R0lGODdhBQABAIcAAGgAH3gFIWRkZIQJIwAAAAAAAAAAAAAAAAAAAAAAAAAAAAAAAAAAAAAAAAAAAAAAAAAAAAAAAAAAAAAAAAAAAAAAAAAAAAAAAAAAAAAAAAAAAAAAAAAAAAAAAAAAAAAAAAAAAAAAAAAAAAAAAAAAAAAAAAAAAAAAAAAAAAAAAAAAAAAAAAAAAAAAAAAAAAAAAAAAAAAAAAAAAAAAAAAAAAAAAAAAAAAAAAAAAAAAAAAAAAAAAAAAAAAAAAAAAAAAAAAAAAAAAAAAAAAAAAAAAAAAAAAAAAAAAAAAAAAAAAAAAAAAAAAAAAAAAAAAAAAAAAAAAAAAAAAAAAAAAAAAAAAAAAAAAAAAAAAAAAAAAAAAAAAAAAAAAAAAAAAAAAAAAAAAAAAAAAAAAAAAAAAAAAAAAAAAAAAAAAAAAAAAAAAAAAAAAAAAAAAAAAAAAAAAAAAAAAAAAAAAAAAAAAAAAAAAAAAAAAAAAAAAAAAAAAAAAAAAAAAAAAAAAAAAAAAAAAAAAAAAAAAAAAAAAAAAAAAAAAAAAAAAAAAAAAAAAAAAAAAAAAAAAAAAAAAAAAAAAAAAAAAAAAAAAAAAAAAAAAAAAAAAAAAAAAAAAAAAAAAAAAAAAAAAAAAAAAAAAAAAAAAAAAAAAAAAAAAAAAAAAAAAAAAAAAAAAAAAAAAAAAAAAAAAAAAAAAAAAAAAAAAAAAAAAAAAAAAAAAAAAAAAAAAAAAAAAAAAAAAAAAAAAAAAAAAAAAAAAAAAAAAAAAAAAAAAAAAAAAAAAAAAAAAAAAAAAAAAAAAAAAAAAAAAAAAAAAAAAAAAAAAAAAAAAAAAAAAAAAAAAAAAAAAAAAAAAAAAAAAAAAAAAAAAAAAAAAAAAAAAAAAAAAAAAAAAAAAAAAAAAAAAAAAAAAAAAAAAAAAAAAAAAAAAAAAAAAAAAAAAAAAAAAAAAAAAAAAAAAAAAAAAAAAAAAAAAAAAAAAAAAAAAAAAAAAAAAAAAAAAAAAAAAAAAAAAAAAAAAAAAAAAACwAAAAABQABAAAICAAFDAAAIEBAADs=\"><title>Layer: output (output)\n shape = (5,)\n Keras class = Dense\n activation = sigmoid</title></image><text x=\"280.0\" y=\"52.0\" font-family=\"monospace\" font-size=\"12\" text-anchor=\"start\" alignment-baseline=\"central\">output</text><line x1=\"175.0\" y1=\"99\" x2=\"175.0\" y2=\"72\" stroke=\"black\" stroke-width=\"2\" marker-end=\"url(#arrow)\"><title>Weights from hidden to output\n output/kernel has shape (5, 5)\n output/bias has shape (5,)</title></line><rect x=\"74.0\" y=\"99\" width=\"202\" height=\"42\" style=\"fill:none;stroke:black;stroke-width:2\"/><image id=\"Autoencoder_hidden_8\" class=\"Autoencoder_hidden\" x=\"75.0\" y=\"100\" height=\"40\" width=\"200\" preserveAspectRatio=\"none\" href=\"data:image/gif;base64,R0lGODdhBQABAIcAABoaGmcAH2tra3l5eenp6QAAAAAAAAAAAAAAAAAAAAAAAAAAAAAAAAAAAAAAAAAAAAAAAAAAAAAAAAAAAAAAAAAAAAAAAAAAAAAAAAAAAAAAAAAAAAAAAAAAAAAAAAAAAAAAAAAAAAAAAAAAAAAAAAAAAAAAAAAAAAAAAAAAAAAAAAAAAAAAAAAAAAAAAAAAAAAAAAAAAAAAAAAAAAAAAAAAAAAAAAAAAAAAAAAAAAAAAAAAAAAAAAAAAAAAAAAAAAAAAAAAAAAAAAAAAAAAAAAAAAAAAAAAAAAAAAAAAAAAAAAAAAAAAAAAAAAAAAAAAAAAAAAAAAAAAAAAAAAAAAAAAAAAAAAAAAAAAAAAAAAAAAAAAAAAAAAAAAAAAAAAAAAAAAAAAAAAAAAAAAAAAAAAAAAAAAAAAAAAAAAAAAAAAAAAAAAAAAAAAAAAAAAAAAAAAAAAAAAAAAAAAAAAAAAAAAAAAAAAAAAAAAAAAAAAAAAAAAAAAAAAAAAAAAAAAAAAAAAAAAAAAAAAAAAAAAAAAAAAAAAAAAAAAAAAAAAAAAAAAAAAAAAAAAAAAAAAAAAAAAAAAAAAAAAAAAAAAAAAAAAAAAAAAAAAAAAAAAAAAAAAAAAAAAAAAAAAAAAAAAAAAAAAAAAAAAAAAAAAAAAAAAAAAAAAAAAAAAAAAAAAAAAAAAAAAAAAAAAAAAAAAAAAAAAAAAAAAAAAAAAAAAAAAAAAAAAAAAAAAAAAAAAAAAAAAAAAAAAAAAAAAAAAAAAAAAAAAAAAAAAAAAAAAAAAAAAAAAAAAAAAAAAAAAAAAAAAAAAAAAAAAAAAAAAAAAAAAAAAAAAAAAAAAAAAAAAAAAAAAAAAAAAAAAAAAAAAAAAAAAAAAAAAAAAAAAAAAAAAAAAAAAAAAAAAAAAAAAAAAAAAAAAAAAAAAAAAAAAAAAAAAAAAAAAAAAAAAAAAAAAAAAAAAAAAAAAAAAAAAAAAAAAAAAAAAAAAAAAAAAAAAAAAAAAAAAAAAAAAAAAAACwAAAAABQABAAAICAAFEAAwIEBAADs=\"><title>Layer: hidden (hidden)\n shape = (5,)\n Keras class = Dense\n activation = relu</title></image><text x=\"280.0\" y=\"122.0\" font-family=\"monospace\" font-size=\"12\" text-anchor=\"start\" alignment-baseline=\"central\">hidden</text><line x1=\"175.0\" y1=\"169\" x2=\"175.0\" y2=\"142\" stroke=\"black\" stroke-width=\"2\" marker-end=\"url(#arrow)\"><title>Weights from input to hidden\n hidden/kernel has shape (5, 5)\n hidden/bias has shape (5,)</title></line><rect x=\"74.0\" y=\"169\" width=\"202\" height=\"42\" style=\"fill:none;stroke:black;stroke-width:2\"/><image id=\"Autoencoder_input_9\" class=\"Autoencoder_input\" x=\"75.0\" y=\"170\" height=\"40\" width=\"200\" preserveAspectRatio=\"none\" href=\"data:image/gif;base64,R0lGODdhBQABAIcAAGcAHxoaGgAAAAAAAAAAAAAAAAAAAAAAAAAAAAAAAAAAAAAAAAAAAAAAAAAAAAAAAAAAAAAAAAAAAAAAAAAAAAAAAAAAAAAAAAAAAAAAAAAAAAAAAAAAAAAAAAAAAAAAAAAAAAAAAAAAAAAAAAAAAAAAAAAAAAAAAAAAAAAAAAAAAAAAAAAAAAAAAAAAAAAAAAAAAAAAAAAAAAAAAAAAAAAAAAAAAAAAAAAAAAAAAAAAAAAAAAAAAAAAAAAAAAAAAAAAAAAAAAAAAAAAAAAAAAAAAAAAAAAAAAAAAAAAAAAAAAAAAAAAAAAAAAAAAAAAAAAAAAAAAAAAAAAAAAAAAAAAAAAAAAAAAAAAAAAAAAAAAAAAAAAAAAAAAAAAAAAAAAAAAAAAAAAAAAAAAAAAAAAAAAAAAAAAAAAAAAAAAAAAAAAAAAAAAAAAAAAAAAAAAAAAAAAAAAAAAAAAAAAAAAAAAAAAAAAAAAAAAAAAAAAAAAAAAAAAAAAAAAAAAAAAAAAAAAAAAAAAAAAAAAAAAAAAAAAAAAAAAAAAAAAAAAAAAAAAAAAAAAAAAAAAAAAAAAAAAAAAAAAAAAAAAAAAAAAAAAAAAAAAAAAAAAAAAAAAAAAAAAAAAAAAAAAAAAAAAAAAAAAAAAAAAAAAAAAAAAAAAAAAAAAAAAAAAAAAAAAAAAAAAAAAAAAAAAAAAAAAAAAAAAAAAAAAAAAAAAAAAAAAAAAAAAAAAAAAAAAAAAAAAAAAAAAAAAAAAAAAAAAAAAAAAAAAAAAAAAAAAAAAAAAAAAAAAAAAAAAAAAAAAAAAAAAAAAAAAAAAAAAAAAAAAAAAAAAAAAAAAAAAAAAAAAAAAAAAAAAAAAAAAAAAAAAAAAAAAAAAAAAAAAAAAAAAAAAAAAAAAAAAAAAAAAAAAAAAAAAAAAAAAAAAAAAAAAAAAAAAAAAAAAAAAAAAAAAAAAAAAAAAAAAAAAAAAAAAAAAAAAAAAAAAAAAAAAAAAAAAAAAAAAAAAAAAAAAAAAAAACwAAAAABQABAAAIBwADABgIICAAOw==\"><title>Layer: input (input)\n shape = (5,)\n Keras class = Input</title></image><text x=\"280.0\" y=\"192.0\" font-family=\"monospace\" font-size=\"12\" text-anchor=\"start\" alignment-baseline=\"central\">input</text></svg></p>"
      }
     },
     "e061712bafe24b5d9297188ceb5e8780": {
      "model_module": "@jupyter-widgets/controls",
      "model_module_version": "1.0.0",
      "model_name": "ButtonStyleModel",
      "state": {}
     },
     "e0778c0daf9847c99d020481990677cf": {
      "model_module": "@jupyter-widgets/controls",
      "model_module_version": "1.0.0",
      "model_name": "VBoxModel",
      "state": {
       "children": [
        "IPY_MODEL_82d5e20ca2274e95ae31d751004b2869",
        "IPY_MODEL_ddd046960f9544b78a9dba41056b9a14"
       ],
       "layout": "IPY_MODEL_6a114bde75ab4adcafbf830bdcb15a08"
      }
     },
     "e09e3766ee1b492388a7d882de50f156": {
      "model_module": "@jupyter-widgets/controls",
      "model_module_version": "1.0.0",
      "model_name": "ButtonModel",
      "state": {
       "icon": "fast-backward",
       "layout": "IPY_MODEL_c9e7d3bda850437cb3a5362956f64e5f",
       "style": "IPY_MODEL_66214f1211b94574aa826db0f75b6807"
      }
     },
     "e132f1fd8f534bdb9896787967c77265": {
      "model_module": "@jupyter-widgets/controls",
      "model_module_version": "1.0.0",
      "model_name": "ButtonStyleModel",
      "state": {}
     },
     "e1e29a5b402247fc9a692ce5279f6119": {
      "model_module": "@jupyter-widgets/base",
      "model_module_version": "1.0.0",
      "model_name": "LayoutModel",
      "state": {}
     },
     "e26aa2f0335447cbb69fff9fe9ea68a2": {
      "model_module": "@jupyter-widgets/base",
      "model_module_version": "1.0.0",
      "model_name": "LayoutModel",
      "state": {
       "width": "100%"
      }
     },
     "e27d5f6f9b874fe690a3729226dea680": {
      "model_module": "@jupyter-widgets/controls",
      "model_module_version": "1.0.0",
      "model_name": "HBoxModel",
      "state": {
       "children": [
        "IPY_MODEL_771c22b0b66b40e9a15fc134d42eb69b",
        "IPY_MODEL_0d97438911cf48c38817990baeaa3353"
       ],
       "layout": "IPY_MODEL_21df2125a6ea429ea3096e049b0f7e0f"
      }
     },
     "e2b460d639a747498ae2776afd640733": {
      "model_module": "@jupyter-widgets/controls",
      "model_module_version": "1.0.0",
      "model_name": "ButtonModel",
      "state": {
       "icon": "fast-backward",
       "layout": "IPY_MODEL_1dde7dd8cd284bd780100ecd925c5c18",
       "style": "IPY_MODEL_1652106cc2db4abb9efbbb0701dd794a"
      }
     },
     "e2e364ad9b9440e9b7f90407ab571b5f": {
      "model_module": "@jupyter-widgets/controls",
      "model_module_version": "1.0.0",
      "model_name": "ButtonStyleModel",
      "state": {}
     },
     "e41024ead98c4e86b33ae396fea026e2": {
      "model_module": "@jupyter-widgets/controls",
      "model_module_version": "1.0.0",
      "model_name": "ButtonModel",
      "state": {
       "description": "Train",
       "layout": "IPY_MODEL_243e1bee72264b659a7f49ee6bdae721",
       "style": "IPY_MODEL_f0307ecd9be84a6799a663423384adf8"
      }
     },
     "e472861602d940b6ad77905ce2940e23": {
      "model_module": "@jupyter-widgets/base",
      "model_module_version": "1.0.0",
      "model_name": "LayoutModel",
      "state": {
       "width": "100%"
      }
     },
     "e48dfaaca7ab460ca93c486b2a4ae792": {
      "model_module": "@jupyter-widgets/base",
      "model_module_version": "1.0.0",
      "model_name": "LayoutModel",
      "state": {
       "width": "100%"
      }
     },
     "e4f28830405e49c2a09266ed8005de6b": {
      "model_module": "@jupyter-widgets/controls",
      "model_module_version": "1.0.0",
      "model_name": "IntSliderModel",
      "state": {
       "continuous_update": false,
       "description": "Dataset index",
       "layout": "IPY_MODEL_1fa0e29ec18c45ecb8998097c6ab9e67",
       "max": 4,
       "style": "IPY_MODEL_1b85f73a01a74cba9630f9379341d07b"
      }
     },
     "e516176225e047118165f3d8353f0413": {
      "model_module": "@jupyter-widgets/base",
      "model_module_version": "1.0.0",
      "model_name": "LayoutModel",
      "state": {
       "width": "100%"
      }
     },
     "e57d083af86444e1b30aee72bd37487a": {
      "model_module": "@jupyter-widgets/base",
      "model_module_version": "1.0.0",
      "model_name": "LayoutModel",
      "state": {
       "height": "550px",
       "width": "95%"
      }
     },
     "e5d2aef97a3a45928d0f549d40d159fc": {
      "model_module": "@jupyter-widgets/controls",
      "model_module_version": "1.0.0",
      "model_name": "SliderStyleModel",
      "state": {
       "description_width": ""
      }
     },
     "e6113324a987461790b810f490c80afe": {
      "model_module": "@jupyter-widgets/controls",
      "model_module_version": "1.0.0",
      "model_name": "ButtonStyleModel",
      "state": {}
     },
     "e64decd58c0e46d59e76097e19df6386": {
      "model_module": "@jupyter-widgets/base",
      "model_module_version": "1.0.0",
      "model_name": "LayoutModel",
      "state": {
       "height": "550px",
       "width": "95%"
      }
     },
     "e69b3889af134b14b3962fbdb1d792fc": {
      "model_module": "@jupyter-widgets/base",
      "model_module_version": "1.0.0",
      "model_name": "LayoutModel",
      "state": {
       "width": "100%"
      }
     },
     "e69dbfd7b3e8425d8847435345651e9c": {
      "model_module": "@jupyter-widgets/controls",
      "model_module_version": "1.0.0",
      "model_name": "VBoxModel",
      "state": {
       "children": [
        "IPY_MODEL_a647c77704a84b8ca72c140f1c6ed208",
        "IPY_MODEL_995fad39df574d51a1495cebcf003ce3",
        "IPY_MODEL_365ceb786c514680bd87e05c4a55ff27"
       ],
       "layout": "IPY_MODEL_0238ba437dc5418aa09686b079a6b85f"
      }
     },
     "e6b024d397284c0c8a78390e4e2b3592": {
      "model_module": "@jupyter-widgets/base",
      "model_module_version": "1.0.0",
      "model_name": "LayoutModel",
      "state": {
       "width": "100%"
      }
     },
     "e7603818264d4c60870ce50771a37e3c": {
      "model_module": "@jupyter-widgets/base",
      "model_module_version": "1.0.0",
      "model_name": "LayoutModel",
      "state": {
       "height": "550px",
       "width": "95%"
      }
     },
     "e7c9a5392b83409e8d3320ac646ff520": {
      "model_module": "@jupyter-widgets/base",
      "model_module_version": "1.0.0",
      "model_name": "LayoutModel",
      "state": {
       "height": "50px",
       "width": "95%"
      }
     },
     "e7df2b4574a04ad194efa5583fac80e9": {
      "model_module": "@jupyter-widgets/controls",
      "model_module_version": "1.0.0",
      "model_name": "ButtonStyleModel",
      "state": {}
     },
     "e7feae26c9c046249cf6c19b1be842f4": {
      "model_module": "@jupyter-widgets/controls",
      "model_module_version": "1.0.0",
      "model_name": "ButtonModel",
      "state": {
       "icon": "fast-backward",
       "layout": "IPY_MODEL_a921172608954ebea2fb5654ac60cd63",
       "style": "IPY_MODEL_04f3153e1fbf47f186a3f6dac4653826"
      }
     },
     "e841ba3721014d19bd091e1ec0d95718": {
      "model_module": "@jupyter-widgets/controls",
      "model_module_version": "1.0.0",
      "model_name": "DescriptionStyleModel",
      "state": {
       "description_width": ""
      }
     },
     "e84a2ecefffb45edbd91bb6440cfa359": {
      "model_module": "@jupyter-widgets/controls",
      "model_module_version": "1.0.0",
      "model_name": "ButtonModel",
      "state": {
       "icon": "forward",
       "layout": "IPY_MODEL_8135d64e4e7f4426a6d4daad3727c2d0",
       "style": "IPY_MODEL_cd352f098db2452fb2d6ea45562abc70"
      }
     },
     "e8ef1d86c4964bdea8f4d73cf639bb43": {
      "model_module": "@jupyter-widgets/controls",
      "model_module_version": "1.0.0",
      "model_name": "ButtonStyleModel",
      "state": {}
     },
     "e8f12a346fa04a299c41f638471ea932": {
      "model_module": "@jupyter-widgets/controls",
      "model_module_version": "1.0.0",
      "model_name": "ButtonModel",
      "state": {
       "description": "Train",
       "layout": "IPY_MODEL_888eecaadf134f568a2223ebaaf48698",
       "style": "IPY_MODEL_f17fa89d3cfa4dd8a50e0ea0bfbd10bb"
      }
     },
     "e910b4ebae6e4456b8a54e897951af27": {
      "model_module": "@jupyter-widgets/controls",
      "model_module_version": "1.0.0",
      "model_name": "DescriptionStyleModel",
      "state": {
       "description_width": ""
      }
     },
     "e9f42c5fac29462ea3fda48ca0d51256": {
      "model_module": "@jupyter-widgets/base",
      "model_module_version": "1.0.0",
      "model_name": "LayoutModel",
      "state": {
       "width": "100%"
      }
     },
     "eb634099f6ed429799ce6e22ed224210": {
      "model_module": "@jupyter-widgets/base",
      "model_module_version": "1.0.0",
      "model_name": "LayoutModel",
      "state": {
       "height": "550px",
       "width": "100%"
      }
     },
     "ebaebfc3f0734257b13d105c8928e084": {
      "model_module": "@jupyter-widgets/base",
      "model_module_version": "1.0.0",
      "model_name": "LayoutModel",
      "state": {
       "height": "50px",
       "width": "95%"
      }
     },
     "ecc34c1c259c4804b7b6be3a8c462822": {
      "model_module": "@jupyter-widgets/controls",
      "model_module_version": "1.0.0",
      "model_name": "ButtonStyleModel",
      "state": {}
     },
     "ed13d3f55db14ff19ea388796005f0ff": {
      "model_module": "@jupyter-widgets/base",
      "model_module_version": "1.0.0",
      "model_name": "LayoutModel",
      "state": {
       "width": "100%"
      }
     },
     "ed42d9b246d44848a87b5d9c878953e3": {
      "model_module": "@jupyter-widgets/controls",
      "model_module_version": "1.0.0",
      "model_name": "ButtonStyleModel",
      "state": {}
     },
     "edfe9e95e5774b5cb6a4c2478fa7970d": {
      "model_module": "@jupyter-widgets/controls",
      "model_module_version": "1.0.0",
      "model_name": "ButtonStyleModel",
      "state": {}
     },
     "efa75a1dc731407f991dae2b0a0820ea": {
      "model_module": "@jupyter-widgets/controls",
      "model_module_version": "1.0.0",
      "model_name": "ButtonModel",
      "state": {
       "icon": "fast-forward",
       "layout": "IPY_MODEL_f3864a08a73a4a468cacae1c7530d4a4",
       "style": "IPY_MODEL_b8eec49952224295a1d44664da197230"
      }
     },
     "f003f5cc15fe4283aa347680e5d4e4b5": {
      "model_module": "@jupyter-widgets/controls",
      "model_module_version": "1.0.0",
      "model_name": "ButtonModel",
      "state": {
       "icon": "forward",
       "layout": "IPY_MODEL_b232da1c1b6b4d258aa49d21b8226ba9",
       "style": "IPY_MODEL_b3a32bd9046a4f17ad9bd1fae0f42efc"
      }
     },
     "f01407cc75a24ebf8bf3653710a25e1f": {
      "model_module": "@jupyter-widgets/base",
      "model_module_version": "1.0.0",
      "model_name": "LayoutModel",
      "state": {
       "width": "95%"
      }
     },
     "f01912d9b2554bc3956ab24b02a431a7": {
      "model_module": "@jupyter-widgets/base",
      "model_module_version": "1.0.0",
      "model_name": "LayoutModel",
      "state": {
       "width": "100%"
      }
     },
     "f0307ecd9be84a6799a663423384adf8": {
      "model_module": "@jupyter-widgets/controls",
      "model_module_version": "1.0.0",
      "model_name": "ButtonStyleModel",
      "state": {}
     },
     "f044c4e556ff43a28b17564db8d795ad": {
      "model_module": "@jupyter-widgets/controls",
      "model_module_version": "1.0.0",
      "model_name": "SelectModel",
      "state": {
       "_options_labels": [
        "Test",
        "Train"
       ],
       "description": "Dataset:",
       "index": 1,
       "layout": "IPY_MODEL_c97867e6c6e045628c7cfe0aa97b85c1",
       "rows": 1,
       "style": "IPY_MODEL_500c8eec634e46bdbaf5a064cc8aec91"
      }
     },
     "f05d40489cab4cfdb1c62f2575c7ff2d": {
      "model_module": "@jupyter-widgets/base",
      "model_module_version": "1.0.0",
      "model_name": "LayoutModel",
      "state": {}
     },
     "f17fa89d3cfa4dd8a50e0ea0bfbd10bb": {
      "model_module": "@jupyter-widgets/controls",
      "model_module_version": "1.0.0",
      "model_name": "ButtonStyleModel",
      "state": {}
     },
     "f250828c90ba43d1904c591b6de11217": {
      "model_module": "@jupyter-widgets/controls",
      "model_module_version": "1.0.0",
      "model_name": "ButtonStyleModel",
      "state": {}
     },
     "f2fc5bd67c6a49bc8c9f4c60d2608307": {
      "model_module": "@jupyter-widgets/base",
      "model_module_version": "1.0.0",
      "model_name": "LayoutModel",
      "state": {
       "width": "100%"
      }
     },
     "f32e5eb2558d43099342e9195b801d70": {
      "model_module": "@jupyter-widgets/controls",
      "model_module_version": "1.0.0",
      "model_name": "ButtonModel",
      "state": {
       "description": "Train",
       "layout": "IPY_MODEL_a2dc3d4be44247d5b12df81893add602",
       "style": "IPY_MODEL_ed42d9b246d44848a87b5d9c878953e3"
      }
     },
     "f35b096976f44e389835d94cc97e3e09": {
      "model_module": "@jupyter-widgets/controls",
      "model_module_version": "1.0.0",
      "model_name": "HTMLModel",
      "state": {
       "layout": "IPY_MODEL_3d8d194bc6cc4c2db2c7a849e10d6919",
       "style": "IPY_MODEL_05d82fa555884b268eb3725d3b23d5aa",
       "value": "<p style=\"text-align:center\"><svg id='MNIST-Autoencoder' xmlns='http://www.w3.org/2000/svg' width=\"350\" height=\"705\" image-rendering=\"pixelated\">\n    <defs>\n        <marker id=\"arrow\" markerWidth=\"10\" markerHeight=\"10\" refX=\"9\" refY=\"3\" orient=\"auto\" markerUnits=\"strokeWidth\">\n          <path d=\"M0,0 L0,6 L9,3 z\" fill=\"black\" />\n        </marker>\n    </defs><text x=\"175.0\" y=\"12.5\" font-family=\"monospace\" font-size=\"15\" text-anchor=\"middle\" alignment-baseline=\"central\">MNIST-Autoencoder</text><rect x=\"74.0\" y=\"29\" width=\"202\" height=\"202\" style=\"fill:none;stroke:black;stroke-width:2\"/><image id=\"MNIST-Autoencoder_output_7\" class=\"MNIST-Autoencoder_output\" x=\"75.0\" y=\"30\" height=\"200\" width=\"200\" preserveAspectRatio=\"none\" href=\"data:image/gif;base64,R0lGODdhHAAcAIcAAP7+/QAAAAAAAAAAAAAAAAAAAAAAAAAAAAAAAAAAAAAAAAAAAAAAAAAAAAAAAAAAAAAAAAAAAAAAAAAAAAAAAAAAAAAAAAAAAAAAAAAAAAAAAAAAAAAAAAAAAAAAAAAAAAAAAAAAAAAAAAAAAAAAAAAAAAAAAAAAAAAAAAAAAAAAAAAAAAAAAAAAAAAAAAAAAAAAAAAAAAAAAAAAAAAAAAAAAAAAAAAAAAAAAAAAAAAAAAAAAAAAAAAAAAAAAAAAAAAAAAAAAAAAAAAAAAAAAAAAAAAAAAAAAAAAAAAAAAAAAAAAAAAAAAAAAAAAAAAAAAAAAAAAAAAAAAAAAAAAAAAAAAAAAAAAAAAAAAAAAAAAAAAAAAAAAAAAAAAAAAAAAAAAAAAAAAAAAAAAAAAAAAAAAAAAAAAAAAAAAAAAAAAAAAAAAAAAAAAAAAAAAAAAAAAAAAAAAAAAAAAAAAAAAAAAAAAAAAAAAAAAAAAAAAAAAAAAAAAAAAAAAAAAAAAAAAAAAAAAAAAAAAAAAAAAAAAAAAAAAAAAAAAAAAAAAAAAAAAAAAAAAAAAAAAAAAAAAAAAAAAAAAAAAAAAAAAAAAAAAAAAAAAAAAAAAAAAAAAAAAAAAAAAAAAAAAAAAAAAAAAAAAAAAAAAAAAAAAAAAAAAAAAAAAAAAAAAAAAAAAAAAAAAAAAAAAAAAAAAAAAAAAAAAAAAAAAAAAAAAAAAAAAAAAAAAAAAAAAAAAAAAAAAAAAAAAAAAAAAAAAAAAAAAAAAAAAAAAAAAAAAAAAAAAAAAAAAAAAAAAAAAAAAAAAAAAAAAAAAAAAAAAAAAAAAAAAAAAAAAAAAAAAAAAAAAAAAAAAAAAAAAAAAAAAAAAAAAAAAAAAAAAAAAAAAAAAAAAAAAAAAAAAAAAAAAAAAAAAAAAAAAAAAAAAAAAAAAAAAAAAAAAAAAAAAAAAAAAAAAAAAAAAAAAAAAAAAAAAAAAAAAAAAAAAAAAAAAAAAAAAAAAAAAAAAAAAAAAAAAAAAACwAAAAAHAAcAEAIMAABCBxIsKDBgwgTKlzIsKHDhxAjSpxIsaLFixgzatzIsaPHjyBDihxJsqTJkwQDAgA7\"><title>Layer: output (output)\n shape = (28, 28, 1)\n Keras class = Dense\n activation = sigmoid</title></image><text x=\"280.0\" y=\"132.0\" font-family=\"monospace\" font-size=\"12\" text-anchor=\"start\" alignment-baseline=\"central\">output</text><line x1=\"175.0\" y1=\"259\" x2=\"175.0\" y2=\"232\" stroke=\"black\" stroke-width=\"2\" marker-end=\"url(#arrow)\"><title>Weights from hidden3 to output\n output/kernel has shape (25, 784)\n output/bias has shape (784,)</title></line><rect x=\"74.0\" y=\"259\" width=\"202\" height=\"27\" style=\"fill:none;stroke:black;stroke-width:2\"/><image id=\"MNIST-Autoencoder_hidden3_8\" class=\"MNIST-Autoencoder_hidden3\" x=\"75.0\" y=\"260\" height=\"25\" width=\"200\" preserveAspectRatio=\"none\" href=\"data:image/gif;base64,R0lGODdhGQABAIcAAP7+/QAAAAAAAAAAAAAAAAAAAAAAAAAAAAAAAAAAAAAAAAAAAAAAAAAAAAAAAAAAAAAAAAAAAAAAAAAAAAAAAAAAAAAAAAAAAAAAAAAAAAAAAAAAAAAAAAAAAAAAAAAAAAAAAAAAAAAAAAAAAAAAAAAAAAAAAAAAAAAAAAAAAAAAAAAAAAAAAAAAAAAAAAAAAAAAAAAAAAAAAAAAAAAAAAAAAAAAAAAAAAAAAAAAAAAAAAAAAAAAAAAAAAAAAAAAAAAAAAAAAAAAAAAAAAAAAAAAAAAAAAAAAAAAAAAAAAAAAAAAAAAAAAAAAAAAAAAAAAAAAAAAAAAAAAAAAAAAAAAAAAAAAAAAAAAAAAAAAAAAAAAAAAAAAAAAAAAAAAAAAAAAAAAAAAAAAAAAAAAAAAAAAAAAAAAAAAAAAAAAAAAAAAAAAAAAAAAAAAAAAAAAAAAAAAAAAAAAAAAAAAAAAAAAAAAAAAAAAAAAAAAAAAAAAAAAAAAAAAAAAAAAAAAAAAAAAAAAAAAAAAAAAAAAAAAAAAAAAAAAAAAAAAAAAAAAAAAAAAAAAAAAAAAAAAAAAAAAAAAAAAAAAAAAAAAAAAAAAAAAAAAAAAAAAAAAAAAAAAAAAAAAAAAAAAAAAAAAAAAAAAAAAAAAAAAAAAAAAAAAAAAAAAAAAAAAAAAAAAAAAAAAAAAAAAAAAAAAAAAAAAAAAAAAAAAAAAAAAAAAAAAAAAAAAAAAAAAAAAAAAAAAAAAAAAAAAAAAAAAAAAAAAAAAAAAAAAAAAAAAAAAAAAAAAAAAAAAAAAAAAAAAAAAAAAAAAAAAAAAAAAAAAAAAAAAAAAAAAAAAAAAAAAAAAAAAAAAAAAAAAAAAAAAAAAAAAAAAAAAAAAAAAAAAAAAAAAAAAAAAAAAAAAAAAAAAAAAAAAAAAAAAAAAAAAAAAAAAAAAAAAAAAAAAAAAAAAAAAAAAAAAAAAAAAAAAAAAAAAAAAAAAAAAAAAAAAAAAAAAAAAAAAAAAAAAAAAAAAAAAACwAAAAAGQABAAAICwABCBxIsKBBggEBADs=\"><title>Layer: hidden3 (hidden)\n shape = (25,)\n Keras class = Dense\n activation = relu</title></image><text x=\"280.0\" y=\"274.5\" font-family=\"monospace\" font-size=\"12\" text-anchor=\"start\" alignment-baseline=\"central\">hidden3</text><line x1=\"175.0\" y1=\"314\" x2=\"175.0\" y2=\"287\" stroke=\"black\" stroke-width=\"2\" marker-end=\"url(#arrow)\"><title>Weights from hidden2 to hidden3\n hidden3/kernel has shape (25, 25)\n hidden3/bias has shape (25,)</title></line><rect x=\"74.0\" y=\"314\" width=\"202\" height=\"27\" style=\"fill:none;stroke:black;stroke-width:2\"/><image id=\"MNIST-Autoencoder_hidden2_9\" class=\"MNIST-Autoencoder_hidden2\" x=\"75.0\" y=\"315\" height=\"25\" width=\"200\" preserveAspectRatio=\"none\" href=\"data:image/gif;base64,R0lGODdhGQABAIcAAP7+/QAAAAAAAAAAAAAAAAAAAAAAAAAAAAAAAAAAAAAAAAAAAAAAAAAAAAAAAAAAAAAAAAAAAAAAAAAAAAAAAAAAAAAAAAAAAAAAAAAAAAAAAAAAAAAAAAAAAAAAAAAAAAAAAAAAAAAAAAAAAAAAAAAAAAAAAAAAAAAAAAAAAAAAAAAAAAAAAAAAAAAAAAAAAAAAAAAAAAAAAAAAAAAAAAAAAAAAAAAAAAAAAAAAAAAAAAAAAAAAAAAAAAAAAAAAAAAAAAAAAAAAAAAAAAAAAAAAAAAAAAAAAAAAAAAAAAAAAAAAAAAAAAAAAAAAAAAAAAAAAAAAAAAAAAAAAAAAAAAAAAAAAAAAAAAAAAAAAAAAAAAAAAAAAAAAAAAAAAAAAAAAAAAAAAAAAAAAAAAAAAAAAAAAAAAAAAAAAAAAAAAAAAAAAAAAAAAAAAAAAAAAAAAAAAAAAAAAAAAAAAAAAAAAAAAAAAAAAAAAAAAAAAAAAAAAAAAAAAAAAAAAAAAAAAAAAAAAAAAAAAAAAAAAAAAAAAAAAAAAAAAAAAAAAAAAAAAAAAAAAAAAAAAAAAAAAAAAAAAAAAAAAAAAAAAAAAAAAAAAAAAAAAAAAAAAAAAAAAAAAAAAAAAAAAAAAAAAAAAAAAAAAAAAAAAAAAAAAAAAAAAAAAAAAAAAAAAAAAAAAAAAAAAAAAAAAAAAAAAAAAAAAAAAAAAAAAAAAAAAAAAAAAAAAAAAAAAAAAAAAAAAAAAAAAAAAAAAAAAAAAAAAAAAAAAAAAAAAAAAAAAAAAAAAAAAAAAAAAAAAAAAAAAAAAAAAAAAAAAAAAAAAAAAAAAAAAAAAAAAAAAAAAAAAAAAAAAAAAAAAAAAAAAAAAAAAAAAAAAAAAAAAAAAAAAAAAAAAAAAAAAAAAAAAAAAAAAAAAAAAAAAAAAAAAAAAAAAAAAAAAAAAAAAAAAAAAAAAAAAAAAAAAAAAAAAAAAAAAAAAAAAAAAAAAAAAAAAAAAAAAAAAAAAAAAAAAAAAAAAACwAAAAAGQABAAAICwABCBxIsKBBggEBADs=\"><title>Layer: hidden2 (hidden)\n shape = (25,)\n Keras class = Dense\n activation = relu</title></image><text x=\"280.0\" y=\"329.5\" font-family=\"monospace\" font-size=\"12\" text-anchor=\"start\" alignment-baseline=\"central\">hidden2</text><line x1=\"175.0\" y1=\"369\" x2=\"175.0\" y2=\"342\" stroke=\"black\" stroke-width=\"2\" marker-end=\"url(#arrow)\"><title>Weights from hidden1 to hidden2\n hidden2/kernel has shape (25, 25)\n hidden2/bias has shape (25,)</title></line><rect x=\"74.0\" y=\"369\" width=\"202\" height=\"27\" style=\"fill:none;stroke:black;stroke-width:2\"/><image id=\"MNIST-Autoencoder_hidden1_10\" class=\"MNIST-Autoencoder_hidden1\" x=\"75.0\" y=\"370\" height=\"25\" width=\"200\" preserveAspectRatio=\"none\" href=\"data:image/gif;base64,R0lGODdhGQABAIcAAP7+/QAAAAAAAAAAAAAAAAAAAAAAAAAAAAAAAAAAAAAAAAAAAAAAAAAAAAAAAAAAAAAAAAAAAAAAAAAAAAAAAAAAAAAAAAAAAAAAAAAAAAAAAAAAAAAAAAAAAAAAAAAAAAAAAAAAAAAAAAAAAAAAAAAAAAAAAAAAAAAAAAAAAAAAAAAAAAAAAAAAAAAAAAAAAAAAAAAAAAAAAAAAAAAAAAAAAAAAAAAAAAAAAAAAAAAAAAAAAAAAAAAAAAAAAAAAAAAAAAAAAAAAAAAAAAAAAAAAAAAAAAAAAAAAAAAAAAAAAAAAAAAAAAAAAAAAAAAAAAAAAAAAAAAAAAAAAAAAAAAAAAAAAAAAAAAAAAAAAAAAAAAAAAAAAAAAAAAAAAAAAAAAAAAAAAAAAAAAAAAAAAAAAAAAAAAAAAAAAAAAAAAAAAAAAAAAAAAAAAAAAAAAAAAAAAAAAAAAAAAAAAAAAAAAAAAAAAAAAAAAAAAAAAAAAAAAAAAAAAAAAAAAAAAAAAAAAAAAAAAAAAAAAAAAAAAAAAAAAAAAAAAAAAAAAAAAAAAAAAAAAAAAAAAAAAAAAAAAAAAAAAAAAAAAAAAAAAAAAAAAAAAAAAAAAAAAAAAAAAAAAAAAAAAAAAAAAAAAAAAAAAAAAAAAAAAAAAAAAAAAAAAAAAAAAAAAAAAAAAAAAAAAAAAAAAAAAAAAAAAAAAAAAAAAAAAAAAAAAAAAAAAAAAAAAAAAAAAAAAAAAAAAAAAAAAAAAAAAAAAAAAAAAAAAAAAAAAAAAAAAAAAAAAAAAAAAAAAAAAAAAAAAAAAAAAAAAAAAAAAAAAAAAAAAAAAAAAAAAAAAAAAAAAAAAAAAAAAAAAAAAAAAAAAAAAAAAAAAAAAAAAAAAAAAAAAAAAAAAAAAAAAAAAAAAAAAAAAAAAAAAAAAAAAAAAAAAAAAAAAAAAAAAAAAAAAAAAAAAAAAAAAAAAAAAAAAAAAAAAAAAAAAAAAAAAAAAAAAAAAAAAAAAAAAAAAAAAAAAAAAACwAAAAAGQABAAAICwABCBxIsKBBggEBADs=\"><title>Layer: hidden1 (hidden)\n shape = (25,)\n Keras class = Dense\n activation = relu</title></image><text x=\"280.0\" y=\"384.5\" font-family=\"monospace\" font-size=\"12\" text-anchor=\"start\" alignment-baseline=\"central\">hidden1</text><line x1=\"175.0\" y1=\"424\" x2=\"175.0\" y2=\"397\" stroke=\"black\" stroke-width=\"2\" marker-end=\"url(#arrow)\"><title>Weights from flatten to hidden1\n hidden1/kernel has shape (784, 25)\n hidden1/bias has shape (25,)</title></line><rect x=\"74.0\" y=\"424\" width=\"202\" height=\"27\" style=\"fill:none;stroke:black;stroke-width:2\"/><image id=\"MNIST-Autoencoder_flatten_11\" class=\"MNIST-Autoencoder_flatten\" x=\"75.0\" y=\"425\" height=\"25\" width=\"200\" preserveAspectRatio=\"none\" href=\"data:image/gif;base64,R0lGODdhEAMBAIcAAP7+/QAAAAAAAAAAAAAAAAAAAAAAAAAAAAAAAAAAAAAAAAAAAAAAAAAAAAAAAAAAAAAAAAAAAAAAAAAAAAAAAAAAAAAAAAAAAAAAAAAAAAAAAAAAAAAAAAAAAAAAAAAAAAAAAAAAAAAAAAAAAAAAAAAAAAAAAAAAAAAAAAAAAAAAAAAAAAAAAAAAAAAAAAAAAAAAAAAAAAAAAAAAAAAAAAAAAAAAAAAAAAAAAAAAAAAAAAAAAAAAAAAAAAAAAAAAAAAAAAAAAAAAAAAAAAAAAAAAAAAAAAAAAAAAAAAAAAAAAAAAAAAAAAAAAAAAAAAAAAAAAAAAAAAAAAAAAAAAAAAAAAAAAAAAAAAAAAAAAAAAAAAAAAAAAAAAAAAAAAAAAAAAAAAAAAAAAAAAAAAAAAAAAAAAAAAAAAAAAAAAAAAAAAAAAAAAAAAAAAAAAAAAAAAAAAAAAAAAAAAAAAAAAAAAAAAAAAAAAAAAAAAAAAAAAAAAAAAAAAAAAAAAAAAAAAAAAAAAAAAAAAAAAAAAAAAAAAAAAAAAAAAAAAAAAAAAAAAAAAAAAAAAAAAAAAAAAAAAAAAAAAAAAAAAAAAAAAAAAAAAAAAAAAAAAAAAAAAAAAAAAAAAAAAAAAAAAAAAAAAAAAAAAAAAAAAAAAAAAAAAAAAAAAAAAAAAAAAAAAAAAAAAAAAAAAAAAAAAAAAAAAAAAAAAAAAAAAAAAAAAAAAAAAAAAAAAAAAAAAAAAAAAAAAAAAAAAAAAAAAAAAAAAAAAAAAAAAAAAAAAAAAAAAAAAAAAAAAAAAAAAAAAAAAAAAAAAAAAAAAAAAAAAAAAAAAAAAAAAAAAAAAAAAAAAAAAAAAAAAAAAAAAAAAAAAAAAAAAAAAAAAAAAAAAAAAAAAAAAAAAAAAAAAAAAAAAAAAAAAAAAAAAAAAAAAAAAAAAAAAAAAAAAAAAAAAAAAAAAAAAAAAAAAAAAAAAAAAAAAAAAAAAAAAAAAAAAAAAAAAAAAAAAAAAAAAAAAAAAAAAACwAAAAAEAMBAAAIMAABCBxIsKDBgwgTKlzIsKHDhxAjSpxIsaLFixgzatzIsaPHjyBDihxJsqTJkwQDAgA7\"><title>Layer: flatten (hidden)\n Keras class = Flatten</title></image><text x=\"280.0\" y=\"439.5\" font-family=\"monospace\" font-size=\"12\" text-anchor=\"start\" alignment-baseline=\"central\">flatten</text><line x1=\"175.0\" y1=\"479\" x2=\"175.0\" y2=\"452\" stroke=\"black\" stroke-width=\"2\" marker-end=\"url(#arrow)\"><title>Weights from input to flatten</title></line><rect x=\"74.0\" y=\"479\" width=\"202\" height=\"202\" style=\"fill:none;stroke:black;stroke-width:2\"/><image id=\"MNIST-Autoencoder_input_12\" class=\"MNIST-Autoencoder_input\" x=\"75.0\" y=\"480\" height=\"200\" width=\"200\" preserveAspectRatio=\"none\" href=\"data:image/gif;base64,R0lGODdhHAAcAIcAAP7+/QAAAAAAAAAAAAAAAAAAAAAAAAAAAAAAAAAAAAAAAAAAAAAAAAAAAAAAAAAAAAAAAAAAAAAAAAAAAAAAAAAAAAAAAAAAAAAAAAAAAAAAAAAAAAAAAAAAAAAAAAAAAAAAAAAAAAAAAAAAAAAAAAAAAAAAAAAAAAAAAAAAAAAAAAAAAAAAAAAAAAAAAAAAAAAAAAAAAAAAAAAAAAAAAAAAAAAAAAAAAAAAAAAAAAAAAAAAAAAAAAAAAAAAAAAAAAAAAAAAAAAAAAAAAAAAAAAAAAAAAAAAAAAAAAAAAAAAAAAAAAAAAAAAAAAAAAAAAAAAAAAAAAAAAAAAAAAAAAAAAAAAAAAAAAAAAAAAAAAAAAAAAAAAAAAAAAAAAAAAAAAAAAAAAAAAAAAAAAAAAAAAAAAAAAAAAAAAAAAAAAAAAAAAAAAAAAAAAAAAAAAAAAAAAAAAAAAAAAAAAAAAAAAAAAAAAAAAAAAAAAAAAAAAAAAAAAAAAAAAAAAAAAAAAAAAAAAAAAAAAAAAAAAAAAAAAAAAAAAAAAAAAAAAAAAAAAAAAAAAAAAAAAAAAAAAAAAAAAAAAAAAAAAAAAAAAAAAAAAAAAAAAAAAAAAAAAAAAAAAAAAAAAAAAAAAAAAAAAAAAAAAAAAAAAAAAAAAAAAAAAAAAAAAAAAAAAAAAAAAAAAAAAAAAAAAAAAAAAAAAAAAAAAAAAAAAAAAAAAAAAAAAAAAAAAAAAAAAAAAAAAAAAAAAAAAAAAAAAAAAAAAAAAAAAAAAAAAAAAAAAAAAAAAAAAAAAAAAAAAAAAAAAAAAAAAAAAAAAAAAAAAAAAAAAAAAAAAAAAAAAAAAAAAAAAAAAAAAAAAAAAAAAAAAAAAAAAAAAAAAAAAAAAAAAAAAAAAAAAAAAAAAAAAAAAAAAAAAAAAAAAAAAAAAAAAAAAAAAAAAAAAAAAAAAAAAAAAAAAAAAAAAAAAAAAAAAAAAAAAAAAAAAAAAAAAAAAAAAAAAAAAAAAAAAAAAAAAAAAAACwAAAAAHAAcAEAIMAABCBxIsKDBgwgTKlzIsKHDhxAjSpxIsaLFixgzatzIsaPHjyBDihxJsqTJkwQDAgA7\"><title>Layer: input (input)\n shape = (28, 28, 1)\n Keras class = Input</title></image><text x=\"280.0\" y=\"582.0\" font-family=\"monospace\" font-size=\"12\" text-anchor=\"start\" alignment-baseline=\"central\">input</text><text x=\"280.0\" y=\"485\" font-family=\"monospace\" font-size=\"12\" text-anchor=\"start\" alignment-baseline=\"central\">1</text><text x=\"63.0\" y=\"675\" font-family=\"monospace\" font-size=\"12\" text-anchor=\"start\" alignment-baseline=\"central\">0</text></svg></p>"
      }
     },
     "f3864a08a73a4a468cacae1c7530d4a4": {
      "model_module": "@jupyter-widgets/base",
      "model_module_version": "1.0.0",
      "model_name": "LayoutModel",
      "state": {
       "width": "100%"
      }
     },
     "f3a1ccd818ec470593af3bab5cecbad3": {
      "model_module": "@jupyter-widgets/controls",
      "model_module_version": "1.0.0",
      "model_name": "SelectModel",
      "state": {
       "_options_labels": [
        "Test",
        "Train"
       ],
       "description": "Dataset:",
       "index": 1,
       "layout": "IPY_MODEL_105846af72724c58b988817bae65fa18",
       "rows": 1,
       "style": "IPY_MODEL_b6e28f433d604def8cf7ebac4bc86a3f"
      }
     },
     "f3c205984d9944e7ba251142cffde0b6": {
      "model_module": "@jupyter-widgets/controls",
      "model_module_version": "1.0.0",
      "model_name": "IntSliderModel",
      "state": {
       "continuous_update": false,
       "description": "Dataset index",
       "layout": "IPY_MODEL_d1538657f08b40a48b21b08eaceb94bb",
       "max": 0,
       "style": "IPY_MODEL_74686c66aa0f40c7b3fb2c8eba0d58ce"
      }
     },
     "f3f5a670c606447fab699c8c2dd80cd4": {
      "model_module": "@jupyter-widgets/controls",
      "model_module_version": "1.0.0",
      "model_name": "HBoxModel",
      "state": {
       "children": [
        "IPY_MODEL_e2b460d639a747498ae2776afd640733",
        "IPY_MODEL_390c73671173454793cf69f34821e33a",
        "IPY_MODEL_b27142cc9b684cb998839dac5d3c92be",
        "IPY_MODEL_e84a2ecefffb45edbd91bb6440cfa359",
        "IPY_MODEL_efa75a1dc731407f991dae2b0a0820ea"
       ],
       "layout": "IPY_MODEL_0d4bdc9d140a4c92a594a4f1c34b7043"
      }
     },
     "f420bbe527884612816c4cf2f1e94705": {
      "model_module": "@jupyter-widgets/base",
      "model_module_version": "1.0.0",
      "model_name": "LayoutModel",
      "state": {
       "width": "100%"
      }
     },
     "f46421e818cf4d55b61fc5e3a3372a11": {
      "model_module": "@jupyter-widgets/base",
      "model_module_version": "1.0.0",
      "model_name": "LayoutModel",
      "state": {
       "height": "550px",
       "justify_content": "center",
       "overflow_x": "auto",
       "width": "100%"
      }
     },
     "f5867c324cc94073b64654e9a87afff5": {
      "model_module": "@jupyter-widgets/base",
      "model_module_version": "1.0.0",
      "model_name": "LayoutModel",
      "state": {
       "width": "100%"
      }
     },
     "f5b861dd06854a18afcc448c2d27932c": {
      "model_module": "@jupyter-widgets/base",
      "model_module_version": "1.0.0",
      "model_name": "LayoutModel",
      "state": {
       "width": "95%"
      }
     },
     "f60e3967fac94bd89cab7cbe15762c5f": {
      "model_module": "@jupyter-widgets/controls",
      "model_module_version": "1.0.0",
      "model_name": "ButtonStyleModel",
      "state": {}
     },
     "f63726f60f63445291897e7b0722eb33": {
      "model_module": "@jupyter-widgets/controls",
      "model_module_version": "1.0.0",
      "model_name": "ButtonModel",
      "state": {
       "icon": "fast-backward",
       "layout": "IPY_MODEL_74119cb41d3a4b5cbc813e8a6d3be553",
       "style": "IPY_MODEL_86402b242129466d8645ec38eb154aa3"
      }
     },
     "f64890dd119646f5b722aced813558e8": {
      "model_module": "@jupyter-widgets/base",
      "model_module_version": "1.0.0",
      "model_name": "LayoutModel",
      "state": {
       "width": "100%"
      }
     },
     "f662cc38e38b492e924a9895a744687d": {
      "model_module": "@jupyter-widgets/controls",
      "model_module_version": "1.0.0",
      "model_name": "ButtonModel",
      "state": {
       "disabled": true,
       "icon": "forward",
       "layout": "IPY_MODEL_c394bad2c6fe4b248ac594b1cd9f6c3d",
       "style": "IPY_MODEL_67f58da9d81946898156b105e366bfe1"
      }
     },
     "f69a9d7839d84ed5b525020aae367333": {
      "model_module": "@jupyter-widgets/base",
      "model_module_version": "1.0.0",
      "model_name": "LayoutModel",
      "state": {
       "height": "550px",
       "width": "95%"
      }
     },
     "f710706f1fc049b5b9656997df2fab12": {
      "model_module": "@jupyter-widgets/controls",
      "model_module_version": "1.0.0",
      "model_name": "DescriptionStyleModel",
      "state": {
       "description_width": ""
      }
     },
     "f7c458ffd5b84489bd35e1ee0d1585f0": {
      "model_module": "@jupyter-widgets/controls",
      "model_module_version": "1.0.0",
      "model_name": "SliderStyleModel",
      "state": {
       "description_width": ""
      }
     },
     "f7fbb2d67a664910a6cb923f7bdccdc1": {
      "model_module": "@jupyter-widgets/controls",
      "model_module_version": "1.0.0",
      "model_name": "DescriptionStyleModel",
      "state": {
       "description_width": ""
      }
     },
     "f80138ab12be466abe5e134fa2d8cc26": {
      "model_module": "@jupyter-widgets/base",
      "model_module_version": "1.0.0",
      "model_name": "LayoutModel",
      "state": {
       "width": "100%"
      }
     },
     "f8382ebe73a1445db942e820f862a9ea": {
      "model_module": "@jupyter-widgets/controls",
      "model_module_version": "1.0.0",
      "model_name": "VBoxModel",
      "state": {
       "children": [
        "IPY_MODEL_8e7a380f3239453082eac7db45392a10",
        "IPY_MODEL_525e30db08fa42c6a793aab15b0d0de8"
       ],
       "layout": "IPY_MODEL_8ce4b52fb3a444a6a8db8708b3439539"
      }
     },
     "f8b39073379f4784a0422da336328345": {
      "model_module": "@jupyter-widgets/base",
      "model_module_version": "1.0.0",
      "model_name": "LayoutModel",
      "state": {
       "height": "550px",
       "justify_content": "center",
       "overflow_x": "auto",
       "width": "95%"
      }
     },
     "f8cdb42da6fa4fa4a193c3ccf71f264a": {
      "model_module": "@jupyter-widgets/controls",
      "model_module_version": "1.0.0",
      "model_name": "SelectModel",
      "state": {
       "_options_labels": [
        "Test",
        "Train"
       ],
       "description": "Dataset:",
       "index": 1,
       "layout": "IPY_MODEL_b1cba2726c7f42c4817335c7420acef9",
       "style": "IPY_MODEL_7457dd3bc68e4995a9958752c3fd9403"
      }
     },
     "f8db730c7b844c1f82eb37fdb4fbb041": {
      "model_module": "@jupyter-widgets/controls",
      "model_module_version": "1.0.0",
      "model_name": "ButtonStyleModel",
      "state": {}
     },
     "f985c2ce1040414cb385081644c9234e": {
      "model_module": "@jupyter-widgets/base",
      "model_module_version": "1.0.0",
      "model_name": "LayoutModel",
      "state": {
       "height": "550px",
       "width": "95%"
      }
     },
     "fa0f64a361904dd39da87be68ba89ce6": {
      "model_module": "@jupyter-widgets/controls",
      "model_module_version": "1.0.0",
      "model_name": "ButtonStyleModel",
      "state": {}
     },
     "fa145d01efed4d6eb824e4b6ed2c0e54": {
      "model_module": "@jupyter-widgets/controls",
      "model_module_version": "1.0.0",
      "model_name": "ButtonModel",
      "state": {
       "disabled": true,
       "icon": "fast-forward",
       "layout": "IPY_MODEL_4424524fd76548faab94a7a12907655c",
       "style": "IPY_MODEL_5269a11e03564e4086a67005e43beb14"
      }
     },
     "fa17f701e9b24e30b773f6b7ecc07479": {
      "model_module": "@jupyter-widgets/controls",
      "model_module_version": "1.0.0",
      "model_name": "ButtonStyleModel",
      "state": {}
     },
     "fb41b23a9aab4e8cae4eb0d0704303b9": {
      "model_module": "@jupyter-widgets/controls",
      "model_module_version": "1.0.0",
      "model_name": "DescriptionStyleModel",
      "state": {
       "description_width": ""
      }
     },
     "fc481cc2222d4d0e8de24da7a3b9ec08": {
      "model_module": "@jupyter-widgets/controls",
      "model_module_version": "1.0.0",
      "model_name": "DescriptionStyleModel",
      "state": {
       "description_width": ""
      }
     },
     "fc64d74be48d4d6ab89f4745f3ea0e47": {
      "model_module": "@jupyter-widgets/controls",
      "model_module_version": "1.0.0",
      "model_name": "DescriptionStyleModel",
      "state": {
       "description_width": ""
      }
     },
     "fd27e12cc9bf4d73a58cbfd0b9bb9fc3": {
      "model_module": "@jupyter-widgets/base",
      "model_module_version": "1.0.0",
      "model_name": "LayoutModel",
      "state": {
       "width": "100%"
      }
     },
     "fd2a0b09596f494caa2b3e4bfba7ddcc": {
      "model_module": "@jupyter-widgets/controls",
      "model_module_version": "1.0.0",
      "model_name": "VBoxModel",
      "state": {
       "children": [
        "IPY_MODEL_951ce0d25a18426492956336c2726270",
        "IPY_MODEL_9a13229c5b8c476a82423e27d55337d5"
       ],
       "layout": "IPY_MODEL_e57d083af86444e1b30aee72bd37487a"
      }
     },
     "fda4b70ca9fd4e818703f408326615ff": {
      "model_module": "@jupyter-widgets/controls",
      "model_module_version": "1.0.0",
      "model_name": "IntSliderModel",
      "state": {
       "continuous_update": false,
       "description": "Dataset index",
       "layout": "IPY_MODEL_58f676640dbc48b1865f1e7e6f91254d",
       "max": 4,
       "style": "IPY_MODEL_70d21cca1a904fb289be1c36b0e78ebb",
       "value": 1
      }
     },
     "feaa016c94084985a294079060d74413": {
      "model_module": "@jupyter-widgets/controls",
      "model_module_version": "1.0.0",
      "model_name": "VBoxModel",
      "state": {
       "children": [
        "IPY_MODEL_4a9f3daba9df45dda9f4e47ab68cdc5b",
        "IPY_MODEL_65ad20fd393d4a5893588f5506546096"
       ],
       "layout": "IPY_MODEL_2ff3c1722cae4024ba3e6fcc42723956"
      }
     },
     "fedfbe8889ad44e78603bfbf27d95d4e": {
      "model_module": "@jupyter-widgets/base",
      "model_module_version": "1.0.0",
      "model_name": "LayoutModel",
      "state": {
       "height": "550px",
       "width": "100%"
      }
     },
     "fef124c330524566800bcca1a3a740f9": {
      "model_module": "@jupyter-widgets/base",
      "model_module_version": "1.0.0",
      "model_name": "LayoutModel",
      "state": {
       "width": "100%"
      }
     },
     "ffca4baf2644488480f3f48bd7a45a4d": {
      "model_module": "@jupyter-widgets/controls",
      "model_module_version": "1.0.0",
      "model_name": "ButtonStyleModel",
      "state": {}
     }
    },
    "version_major": 2,
    "version_minor": 0
   }
  }
 },
 "nbformat": 4,
 "nbformat_minor": 2
}
