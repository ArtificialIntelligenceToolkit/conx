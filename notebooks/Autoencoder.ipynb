{
 "cells": [
  {
   "cell_type": "markdown",
   "metadata": {},
   "source": [
    "# Autoencoding"
   ]
  },
  {
   "cell_type": "markdown",
   "metadata": {},
   "source": [
    "## One-hot Encoder"
   ]
  },
  {
   "cell_type": "code",
   "execution_count": 1,
   "metadata": {},
   "outputs": [
    {
     "name": "stderr",
     "output_type": "stream",
     "text": [
      "Using Theano backend.\n"
     ]
    }
   ],
   "source": [
    "from conx import *"
   ]
  },
  {
   "cell_type": "code",
   "execution_count": 2,
   "metadata": {},
   "outputs": [],
   "source": [
    "size = 5"
   ]
  },
  {
   "cell_type": "code",
   "execution_count": 3,
   "metadata": {},
   "outputs": [],
   "source": [
    "net = Network(\"Autoencoder\")\n",
    "net.add(Layer(\"input\", size, minmax=(0,1)))\n",
    "net.add(Layer(\"hidden\", 5, activation=\"relu\", visible=True))\n",
    "net.add(Layer(\"output\", size, activation=\"sigmoid\"))\n",
    "net.config[\"font_family\"] = \"monospace\""
   ]
  },
  {
   "cell_type": "code",
   "execution_count": 4,
   "metadata": {},
   "outputs": [],
   "source": [
    "net.connect()"
   ]
  },
  {
   "cell_type": "code",
   "execution_count": 5,
   "metadata": {},
   "outputs": [],
   "source": [
    "net.compile(error='binary_crossentropy', optimizer=\"adam\")"
   ]
  },
  {
   "cell_type": "code",
   "execution_count": 6,
   "metadata": {},
   "outputs": [
    {
     "data": {
      "application/javascript": [
       "\n",
       "require(['base/js/namespace'], function(Jupyter) {\n",
       "    Jupyter.notebook.kernel.comm_manager.register_target('conx_svg_control', function(comm, msg) {\n",
       "        comm.on_msg(function(msg) {\n",
       "            var data = msg[\"content\"][\"data\"];\n",
       "            var images = document.getElementsByClassName(data[\"class\"]);\n",
       "            for (var i = 0; i < images.length; i++) {\n",
       "                images[i].setAttributeNS(null, \"href\", data[\"href\"]);\n",
       "            }\n",
       "        });\n",
       "    });\n",
       "});\n"
      ],
      "text/plain": [
       "<IPython.core.display.Javascript object>"
      ]
     },
     "metadata": {},
     "output_type": "display_data"
    },
    {
     "data": {
      "image/svg+xml": [
       "<svg id='Autoencoder' xmlns='http://www.w3.org/2000/svg' width=\"350\" height=\"235\" image-rendering=\"pixelated\">\n",
       "    <defs>\n",
       "        <marker id=\"arrow\" markerWidth=\"10\" markerHeight=\"10\" refX=\"9\" refY=\"3\" orient=\"auto\" markerUnits=\"strokeWidth\">\n",
       "          <path d=\"M0,0 L0,6 L9,3 z\" fill=\"black\" />\n",
       "        </marker>\n",
       "    </defs><text x=\"175.0\" y=\"12.5\" font-family=\"monospace\" font-size=\"15\" text-anchor=\"middle\" alignment-baseline=\"central\">Autoencoder</text><rect x=\"74.0\" y=\"29\" width=\"202\" height=\"42\" style=\"fill:none;stroke:black;stroke-width:2\"/><image id=\"Autoencoder_output_1\" class=\"Autoencoder_output\" x=\"75.0\" y=\"30\" height=\"40\" width=\"200\" preserveAspectRatio=\"none\" href=\"data:image/gif;base64,R0lGODdhBQABAIcAAP7+/QAAAAAAAAAAAAAAAAAAAAAAAAAAAAAAAAAAAAAAAAAAAAAAAAAAAAAAAAAAAAAAAAAAAAAAAAAAAAAAAAAAAAAAAAAAAAAAAAAAAAAAAAAAAAAAAAAAAAAAAAAAAAAAAAAAAAAAAAAAAAAAAAAAAAAAAAAAAAAAAAAAAAAAAAAAAAAAAAAAAAAAAAAAAAAAAAAAAAAAAAAAAAAAAAAAAAAAAAAAAAAAAAAAAAAAAAAAAAAAAAAAAAAAAAAAAAAAAAAAAAAAAAAAAAAAAAAAAAAAAAAAAAAAAAAAAAAAAAAAAAAAAAAAAAAAAAAAAAAAAAAAAAAAAAAAAAAAAAAAAAAAAAAAAAAAAAAAAAAAAAAAAAAAAAAAAAAAAAAAAAAAAAAAAAAAAAAAAAAAAAAAAAAAAAAAAAAAAAAAAAAAAAAAAAAAAAAAAAAAAAAAAAAAAAAAAAAAAAAAAAAAAAAAAAAAAAAAAAAAAAAAAAAAAAAAAAAAAAAAAAAAAAAAAAAAAAAAAAAAAAAAAAAAAAAAAAAAAAAAAAAAAAAAAAAAAAAAAAAAAAAAAAAAAAAAAAAAAAAAAAAAAAAAAAAAAAAAAAAAAAAAAAAAAAAAAAAAAAAAAAAAAAAAAAAAAAAAAAAAAAAAAAAAAAAAAAAAAAAAAAAAAAAAAAAAAAAAAAAAAAAAAAAAAAAAAAAAAAAAAAAAAAAAAAAAAAAAAAAAAAAAAAAAAAAAAAAAAAAAAAAAAAAAAAAAAAAAAAAAAAAAAAAAAAAAAAAAAAAAAAAAAAAAAAAAAAAAAAAAAAAAAAAAAAAAAAAAAAAAAAAAAAAAAAAAAAAAAAAAAAAAAAAAAAAAAAAAAAAAAAAAAAAAAAAAAAAAAAAAAAAAAAAAAAAAAAAAAAAAAAAAAAAAAAAAAAAAAAAAAAAAAAAAAAAAAAAAAAAAAAAAAAAAAAAAAAAAAAAAAAAAAAAAAAAAAAAAAAAAAAAAAAAAAAAAAAAAAAAAAAAAAAAAAAAAAAAAAAAAACwAAAAABQABAAAIBgABCBQYEAA7\"><title>Layer: output (output)\n",
       " shape = (5,)\n",
       " Keras class = Dense\n",
       " activation = sigmoid</title></image><text x=\"280.0\" y=\"52.0\" font-family=\"monospace\" font-size=\"12\" text-anchor=\"start\" alignment-baseline=\"central\">output</text><line x1=\"175.0\" y1=\"99\" x2=\"175.0\" y2=\"72\" stroke=\"black\" stroke-width=\"2\" marker-end=\"url(#arrow)\"><title>Weights from hidden to output\n",
       " output/kernel has shape (5, 5)\n",
       " output/bias has shape (5,)</title></line><rect x=\"74.0\" y=\"99\" width=\"202\" height=\"42\" style=\"fill:none;stroke:black;stroke-width:2\"/><image id=\"Autoencoder_hidden_2\" class=\"Autoencoder_hidden\" x=\"75.0\" y=\"100\" height=\"40\" width=\"200\" preserveAspectRatio=\"none\" href=\"data:image/gif;base64,R0lGODdhBQABAIcAAP7+/QAAAAAAAAAAAAAAAAAAAAAAAAAAAAAAAAAAAAAAAAAAAAAAAAAAAAAAAAAAAAAAAAAAAAAAAAAAAAAAAAAAAAAAAAAAAAAAAAAAAAAAAAAAAAAAAAAAAAAAAAAAAAAAAAAAAAAAAAAAAAAAAAAAAAAAAAAAAAAAAAAAAAAAAAAAAAAAAAAAAAAAAAAAAAAAAAAAAAAAAAAAAAAAAAAAAAAAAAAAAAAAAAAAAAAAAAAAAAAAAAAAAAAAAAAAAAAAAAAAAAAAAAAAAAAAAAAAAAAAAAAAAAAAAAAAAAAAAAAAAAAAAAAAAAAAAAAAAAAAAAAAAAAAAAAAAAAAAAAAAAAAAAAAAAAAAAAAAAAAAAAAAAAAAAAAAAAAAAAAAAAAAAAAAAAAAAAAAAAAAAAAAAAAAAAAAAAAAAAAAAAAAAAAAAAAAAAAAAAAAAAAAAAAAAAAAAAAAAAAAAAAAAAAAAAAAAAAAAAAAAAAAAAAAAAAAAAAAAAAAAAAAAAAAAAAAAAAAAAAAAAAAAAAAAAAAAAAAAAAAAAAAAAAAAAAAAAAAAAAAAAAAAAAAAAAAAAAAAAAAAAAAAAAAAAAAAAAAAAAAAAAAAAAAAAAAAAAAAAAAAAAAAAAAAAAAAAAAAAAAAAAAAAAAAAAAAAAAAAAAAAAAAAAAAAAAAAAAAAAAAAAAAAAAAAAAAAAAAAAAAAAAAAAAAAAAAAAAAAAAAAAAAAAAAAAAAAAAAAAAAAAAAAAAAAAAAAAAAAAAAAAAAAAAAAAAAAAAAAAAAAAAAAAAAAAAAAAAAAAAAAAAAAAAAAAAAAAAAAAAAAAAAAAAAAAAAAAAAAAAAAAAAAAAAAAAAAAAAAAAAAAAAAAAAAAAAAAAAAAAAAAAAAAAAAAAAAAAAAAAAAAAAAAAAAAAAAAAAAAAAAAAAAAAAAAAAAAAAAAAAAAAAAAAAAAAAAAAAAAAAAAAAAAAAAAAAAAAAAAAAAAAAAAAAAAAAAAAAAAAAAAAAAAAAAAAAAAAAAAACwAAAAABQABAAAIBgABCBQYEAA7\"><title>Layer: hidden (hidden)\n",
       " shape = (5,)\n",
       " Keras class = Dense\n",
       " activation = relu</title></image><text x=\"280.0\" y=\"122.0\" font-family=\"monospace\" font-size=\"12\" text-anchor=\"start\" alignment-baseline=\"central\">hidden</text><line x1=\"175.0\" y1=\"169\" x2=\"175.0\" y2=\"142\" stroke=\"black\" stroke-width=\"2\" marker-end=\"url(#arrow)\"><title>Weights from input to hidden\n",
       " hidden/kernel has shape (5, 5)\n",
       " hidden/bias has shape (5,)</title></line><rect x=\"74.0\" y=\"169\" width=\"202\" height=\"42\" style=\"fill:none;stroke:black;stroke-width:2\"/><image id=\"Autoencoder_input_3\" class=\"Autoencoder_input\" x=\"75.0\" y=\"170\" height=\"40\" width=\"200\" preserveAspectRatio=\"none\" href=\"data:image/gif;base64,R0lGODdhBQABAIcAAGcAHwAAAAAAAAAAAAAAAAAAAAAAAAAAAAAAAAAAAAAAAAAAAAAAAAAAAAAAAAAAAAAAAAAAAAAAAAAAAAAAAAAAAAAAAAAAAAAAAAAAAAAAAAAAAAAAAAAAAAAAAAAAAAAAAAAAAAAAAAAAAAAAAAAAAAAAAAAAAAAAAAAAAAAAAAAAAAAAAAAAAAAAAAAAAAAAAAAAAAAAAAAAAAAAAAAAAAAAAAAAAAAAAAAAAAAAAAAAAAAAAAAAAAAAAAAAAAAAAAAAAAAAAAAAAAAAAAAAAAAAAAAAAAAAAAAAAAAAAAAAAAAAAAAAAAAAAAAAAAAAAAAAAAAAAAAAAAAAAAAAAAAAAAAAAAAAAAAAAAAAAAAAAAAAAAAAAAAAAAAAAAAAAAAAAAAAAAAAAAAAAAAAAAAAAAAAAAAAAAAAAAAAAAAAAAAAAAAAAAAAAAAAAAAAAAAAAAAAAAAAAAAAAAAAAAAAAAAAAAAAAAAAAAAAAAAAAAAAAAAAAAAAAAAAAAAAAAAAAAAAAAAAAAAAAAAAAAAAAAAAAAAAAAAAAAAAAAAAAAAAAAAAAAAAAAAAAAAAAAAAAAAAAAAAAAAAAAAAAAAAAAAAAAAAAAAAAAAAAAAAAAAAAAAAAAAAAAAAAAAAAAAAAAAAAAAAAAAAAAAAAAAAAAAAAAAAAAAAAAAAAAAAAAAAAAAAAAAAAAAAAAAAAAAAAAAAAAAAAAAAAAAAAAAAAAAAAAAAAAAAAAAAAAAAAAAAAAAAAAAAAAAAAAAAAAAAAAAAAAAAAAAAAAAAAAAAAAAAAAAAAAAAAAAAAAAAAAAAAAAAAAAAAAAAAAAAAAAAAAAAAAAAAAAAAAAAAAAAAAAAAAAAAAAAAAAAAAAAAAAAAAAAAAAAAAAAAAAAAAAAAAAAAAAAAAAAAAAAAAAAAAAAAAAAAAAAAAAAAAAAAAAAAAAAAAAAAAAAAAAAAAAAAAAAAAAAAAAAAAAAAAAAAAAAAAAAAAAAAAAAAAAAAAAAAAAAAAAAAAAAACwAAAAABQABAAAIBgABCBQYEAA7\"><title>Layer: input (input)\n",
       " shape = (5,)\n",
       " Keras class = Input</title></image><text x=\"280.0\" y=\"192.0\" font-family=\"monospace\" font-size=\"12\" text-anchor=\"start\" alignment-baseline=\"central\">input</text></svg>"
      ],
      "text/plain": [
       "<Network name='Autoencoder' (compiled)>"
      ]
     },
     "execution_count": 6,
     "metadata": {},
     "output_type": "execute_result"
    }
   ],
   "source": [
    "net"
   ]
  },
  {
   "cell_type": "code",
   "execution_count": 7,
   "metadata": {},
   "outputs": [],
   "source": [
    "patterns = [one_hot(i, size) for i in range(size)]"
   ]
  },
  {
   "cell_type": "code",
   "execution_count": 8,
   "metadata": {},
   "outputs": [
    {
     "data": {
      "text/plain": [
       "[1.0, 0.0, 0.0, 0.0, 0.0]"
      ]
     },
     "execution_count": 8,
     "metadata": {},
     "output_type": "execute_result"
    }
   ],
   "source": [
    "patterns[0]"
   ]
  },
  {
   "cell_type": "code",
   "execution_count": 9,
   "metadata": {},
   "outputs": [],
   "source": [
    "net.dataset.load([(p,p) for p in patterns])"
   ]
  },
  {
   "cell_type": "code",
   "execution_count": 10,
   "metadata": {},
   "outputs": [
    {
     "data": {
      "application/javascript": [
       "\n",
       "require(['base/js/namespace'], function(Jupyter) {\n",
       "    Jupyter.notebook.kernel.comm_manager.register_target('conx_svg_control', function(comm, msg) {\n",
       "        comm.on_msg(function(msg) {\n",
       "            var data = msg[\"content\"][\"data\"];\n",
       "            var images = document.getElementsByClassName(data[\"class\"]);\n",
       "            for (var i = 0; i < images.length; i++) {\n",
       "                images[i].setAttributeNS(null, \"href\", data[\"href\"]);\n",
       "            }\n",
       "        });\n",
       "    });\n",
       "});\n"
      ],
      "text/plain": [
       "<IPython.core.display.Javascript object>"
      ]
     },
     "metadata": {},
     "output_type": "display_data"
    },
    {
     "data": {
      "image/svg+xml": [
       "<svg id='Autoencoder' xmlns='http://www.w3.org/2000/svg' width=\"350\" height=\"235\" image-rendering=\"pixelated\">\n",
       "    <defs>\n",
       "        <marker id=\"arrow\" markerWidth=\"10\" markerHeight=\"10\" refX=\"9\" refY=\"3\" orient=\"auto\" markerUnits=\"strokeWidth\">\n",
       "          <path d=\"M0,0 L0,6 L9,3 z\" fill=\"black\" />\n",
       "        </marker>\n",
       "    </defs><text x=\"175.0\" y=\"12.5\" font-family=\"monospace\" font-size=\"15\" text-anchor=\"middle\" alignment-baseline=\"central\">Autoencoder</text><rect x=\"74.0\" y=\"29\" width=\"202\" height=\"42\" style=\"fill:none;stroke:black;stroke-width:2\"/><image id=\"Autoencoder_output_4\" class=\"Autoencoder_output\" x=\"75.0\" y=\"30\" height=\"40\" width=\"200\" preserveAspectRatio=\"none\" href=\"data:image/gif;base64,R0lGODdhBQABAIcAAP359ve5m/nFq+np6QAAAAAAAAAAAAAAAAAAAAAAAAAAAAAAAAAAAAAAAAAAAAAAAAAAAAAAAAAAAAAAAAAAAAAAAAAAAAAAAAAAAAAAAAAAAAAAAAAAAAAAAAAAAAAAAAAAAAAAAAAAAAAAAAAAAAAAAAAAAAAAAAAAAAAAAAAAAAAAAAAAAAAAAAAAAAAAAAAAAAAAAAAAAAAAAAAAAAAAAAAAAAAAAAAAAAAAAAAAAAAAAAAAAAAAAAAAAAAAAAAAAAAAAAAAAAAAAAAAAAAAAAAAAAAAAAAAAAAAAAAAAAAAAAAAAAAAAAAAAAAAAAAAAAAAAAAAAAAAAAAAAAAAAAAAAAAAAAAAAAAAAAAAAAAAAAAAAAAAAAAAAAAAAAAAAAAAAAAAAAAAAAAAAAAAAAAAAAAAAAAAAAAAAAAAAAAAAAAAAAAAAAAAAAAAAAAAAAAAAAAAAAAAAAAAAAAAAAAAAAAAAAAAAAAAAAAAAAAAAAAAAAAAAAAAAAAAAAAAAAAAAAAAAAAAAAAAAAAAAAAAAAAAAAAAAAAAAAAAAAAAAAAAAAAAAAAAAAAAAAAAAAAAAAAAAAAAAAAAAAAAAAAAAAAAAAAAAAAAAAAAAAAAAAAAAAAAAAAAAAAAAAAAAAAAAAAAAAAAAAAAAAAAAAAAAAAAAAAAAAAAAAAAAAAAAAAAAAAAAAAAAAAAAAAAAAAAAAAAAAAAAAAAAAAAAAAAAAAAAAAAAAAAAAAAAAAAAAAAAAAAAAAAAAAAAAAAAAAAAAAAAAAAAAAAAAAAAAAAAAAAAAAAAAAAAAAAAAAAAAAAAAAAAAAAAAAAAAAAAAAAAAAAAAAAAAAAAAAAAAAAAAAAAAAAAAAAAAAAAAAAAAAAAAAAAAAAAAAAAAAAAAAAAAAAAAAAAAAAAAAAAAAAAAAAAAAAAAAAAAAAAAAAAAAAAAAAAAAAAAAAAAAAAAAAAAAAAAAAAAAAAAAAAAAAAAAAAAAAAAAAAAAAAAAAAAAAAAAAAAAAAAAAACwAAAAABQABAAAICAAFDAAQAEBAADs=\"><title>Layer: output (output)\n",
       " shape = (5,)\n",
       " Keras class = Dense\n",
       " activation = sigmoid</title></image><text x=\"280.0\" y=\"52.0\" font-family=\"monospace\" font-size=\"12\" text-anchor=\"start\" alignment-baseline=\"central\">output</text><line x1=\"175.0\" y1=\"99\" x2=\"175.0\" y2=\"72\" stroke=\"black\" stroke-width=\"2\" marker-end=\"url(#arrow)\"><title>Weights from hidden to output\n",
       " output/kernel has shape (5, 5)\n",
       " output/bias has shape (5,)</title></line><rect x=\"74.0\" y=\"99\" width=\"202\" height=\"42\" style=\"fill:none;stroke:black;stroke-width:2\"/><image id=\"Autoencoder_hidden_5\" class=\"Autoencoder_hidden\" x=\"75.0\" y=\"100\" height=\"40\" width=\"200\" preserveAspectRatio=\"none\" href=\"data:image/gif;base64,R0lGODdhBQABAIcAABoaGiAgIGcAH3R0dL4wNgAAAAAAAAAAAAAAAAAAAAAAAAAAAAAAAAAAAAAAAAAAAAAAAAAAAAAAAAAAAAAAAAAAAAAAAAAAAAAAAAAAAAAAAAAAAAAAAAAAAAAAAAAAAAAAAAAAAAAAAAAAAAAAAAAAAAAAAAAAAAAAAAAAAAAAAAAAAAAAAAAAAAAAAAAAAAAAAAAAAAAAAAAAAAAAAAAAAAAAAAAAAAAAAAAAAAAAAAAAAAAAAAAAAAAAAAAAAAAAAAAAAAAAAAAAAAAAAAAAAAAAAAAAAAAAAAAAAAAAAAAAAAAAAAAAAAAAAAAAAAAAAAAAAAAAAAAAAAAAAAAAAAAAAAAAAAAAAAAAAAAAAAAAAAAAAAAAAAAAAAAAAAAAAAAAAAAAAAAAAAAAAAAAAAAAAAAAAAAAAAAAAAAAAAAAAAAAAAAAAAAAAAAAAAAAAAAAAAAAAAAAAAAAAAAAAAAAAAAAAAAAAAAAAAAAAAAAAAAAAAAAAAAAAAAAAAAAAAAAAAAAAAAAAAAAAAAAAAAAAAAAAAAAAAAAAAAAAAAAAAAAAAAAAAAAAAAAAAAAAAAAAAAAAAAAAAAAAAAAAAAAAAAAAAAAAAAAAAAAAAAAAAAAAAAAAAAAAAAAAAAAAAAAAAAAAAAAAAAAAAAAAAAAAAAAAAAAAAAAAAAAAAAAAAAAAAAAAAAAAAAAAAAAAAAAAAAAAAAAAAAAAAAAAAAAAAAAAAAAAAAAAAAAAAAAAAAAAAAAAAAAAAAAAAAAAAAAAAAAAAAAAAAAAAAAAAAAAAAAAAAAAAAAAAAAAAAAAAAAAAAAAAAAAAAAAAAAAAAAAAAAAAAAAAAAAAAAAAAAAAAAAAAAAAAAAAAAAAAAAAAAAAAAAAAAAAAAAAAAAAAAAAAAAAAAAAAAAAAAAAAAAAAAAAAAAAAAAAAAAAAAAAAAAAAAAAAAAAAAAAAAAAAAAAAAAAAAAAAAAAAAAAAAAAAAAAAAAAAAAAAAAAAAAAAAAAAAAAAAAAAAACwAAAAABQABAAAICAADEBggAEBAADs=\"><title>Layer: hidden (hidden)\n",
       " shape = (5,)\n",
       " Keras class = Dense\n",
       " activation = relu</title></image><text x=\"280.0\" y=\"122.0\" font-family=\"monospace\" font-size=\"12\" text-anchor=\"start\" alignment-baseline=\"central\">hidden</text><line x1=\"175.0\" y1=\"169\" x2=\"175.0\" y2=\"142\" stroke=\"black\" stroke-width=\"2\" marker-end=\"url(#arrow)\"><title>Weights from input to hidden\n",
       " hidden/kernel has shape (5, 5)\n",
       " hidden/bias has shape (5,)</title></line><rect x=\"74.0\" y=\"169\" width=\"202\" height=\"42\" style=\"fill:none;stroke:black;stroke-width:2\"/><image id=\"Autoencoder_input_6\" class=\"Autoencoder_input\" x=\"75.0\" y=\"170\" height=\"40\" width=\"200\" preserveAspectRatio=\"none\" href=\"data:image/gif;base64,R0lGODdhBQABAIcAAGcAHxoaGgAAAAAAAAAAAAAAAAAAAAAAAAAAAAAAAAAAAAAAAAAAAAAAAAAAAAAAAAAAAAAAAAAAAAAAAAAAAAAAAAAAAAAAAAAAAAAAAAAAAAAAAAAAAAAAAAAAAAAAAAAAAAAAAAAAAAAAAAAAAAAAAAAAAAAAAAAAAAAAAAAAAAAAAAAAAAAAAAAAAAAAAAAAAAAAAAAAAAAAAAAAAAAAAAAAAAAAAAAAAAAAAAAAAAAAAAAAAAAAAAAAAAAAAAAAAAAAAAAAAAAAAAAAAAAAAAAAAAAAAAAAAAAAAAAAAAAAAAAAAAAAAAAAAAAAAAAAAAAAAAAAAAAAAAAAAAAAAAAAAAAAAAAAAAAAAAAAAAAAAAAAAAAAAAAAAAAAAAAAAAAAAAAAAAAAAAAAAAAAAAAAAAAAAAAAAAAAAAAAAAAAAAAAAAAAAAAAAAAAAAAAAAAAAAAAAAAAAAAAAAAAAAAAAAAAAAAAAAAAAAAAAAAAAAAAAAAAAAAAAAAAAAAAAAAAAAAAAAAAAAAAAAAAAAAAAAAAAAAAAAAAAAAAAAAAAAAAAAAAAAAAAAAAAAAAAAAAAAAAAAAAAAAAAAAAAAAAAAAAAAAAAAAAAAAAAAAAAAAAAAAAAAAAAAAAAAAAAAAAAAAAAAAAAAAAAAAAAAAAAAAAAAAAAAAAAAAAAAAAAAAAAAAAAAAAAAAAAAAAAAAAAAAAAAAAAAAAAAAAAAAAAAAAAAAAAAAAAAAAAAAAAAAAAAAAAAAAAAAAAAAAAAAAAAAAAAAAAAAAAAAAAAAAAAAAAAAAAAAAAAAAAAAAAAAAAAAAAAAAAAAAAAAAAAAAAAAAAAAAAAAAAAAAAAAAAAAAAAAAAAAAAAAAAAAAAAAAAAAAAAAAAAAAAAAAAAAAAAAAAAAAAAAAAAAAAAAAAAAAAAAAAAAAAAAAAAAAAAAAAAAAAAAAAAAAAAAAAAAAAAAAAAAAAAAAAAAAAAAAAAAAAAAAAAAAAAAAAAAAAAAAAAAAAAAAAAAAACwAAAAABQABAAAIBwADABgIICAAOw==\"><title>Layer: input (input)\n",
       " shape = (5,)\n",
       " Keras class = Input</title></image><text x=\"280.0\" y=\"192.0\" font-family=\"monospace\" font-size=\"12\" text-anchor=\"start\" alignment-baseline=\"central\">input</text></svg>"
      ],
      "text/plain": [
       "<Network name='Autoencoder' (compiled)>"
      ]
     },
     "execution_count": 10,
     "metadata": {},
     "output_type": "execute_result"
    }
   ],
   "source": [
    "net"
   ]
  },
  {
   "cell_type": "code",
   "execution_count": 11,
   "metadata": {},
   "outputs": [],
   "source": [
    "import time\n",
    "for i in range(size):\n",
    "    net.propagate(net.dataset.inputs[i])\n",
    "    time.sleep(1)"
   ]
  },
  {
   "cell_type": "code",
   "execution_count": 11,
   "metadata": {},
   "outputs": [
    {
     "name": "stdout",
     "output_type": "stream",
     "text": [
      "Input Summary:\n",
      "   count  : 5 (5 for training, 0 for testing)\n",
      "   shape  : (5,)\n",
      "   range  : (0.0, 1.0)\n",
      "Target Summary:\n",
      "   count  : 5 (5 for training, 0 for testing)\n",
      "   shape  : (5,)\n",
      "   range  : (0.0, 1.0)\n"
     ]
    }
   ],
   "source": [
    "net.dataset.summary()"
   ]
  },
  {
   "cell_type": "code",
   "execution_count": 13,
   "metadata": {},
   "outputs": [
    {
     "name": "stdout",
     "output_type": "stream",
     "text": [
      "Training...\n",
      "Epoch #  200 | train error 0.59362 | train accuracy 0.76000 | validate% 0.00000\n",
      "Epoch #  400 | train error 0.44315 | train accuracy 0.84000 | validate% 0.20000\n",
      "Epoch #  600 | train error 0.31234 | train accuracy 0.92000 | validate% 0.60000\n",
      "Epoch #  800 | train error 0.21716 | train accuracy 0.96000 | validate% 0.80000\n",
      "Epoch # 1000 | train error 0.15455 | train accuracy 0.96000 | validate% 0.80000\n",
      "Epoch # 1200 | train error 0.10758 | train accuracy 1.00000 | validate% 0.80000\n",
      "========================================================================\n",
      "Epoch # 1256 | train error 0.09608 | train accuracy 1.00000 | validate% 1.00000\n"
     ]
    }
   ],
   "source": [
    "net.train(accuracy=1, epochs=10000, report_rate=200, tolerance=0.4)"
   ]
  },
  {
   "cell_type": "code",
   "execution_count": 12,
   "metadata": {},
   "outputs": [
    {
     "data": {
      "text/plain": [
       "[0.3615245223045349,\n",
       " 0.5687549114227295,\n",
       " 0.5065064430236816,\n",
       " 0.3402385413646698,\n",
       " 0.47671398520469666]"
      ]
     },
     "execution_count": 12,
     "metadata": {},
     "output_type": "execute_result"
    }
   ],
   "source": [
    "net.propagate(net.dataset.inputs[0])"
   ]
  },
  {
   "cell_type": "code",
   "execution_count": 15,
   "metadata": {},
   "outputs": [
    {
     "name": "stdout",
     "output_type": "stream",
     "text": [
      "Testing on training dataset...\n",
      "# | inputs | targets | outputs | result\n",
      "---------------------------------------\n",
      "0 | [1.00,0.00,0.00,0.00,0.00] | [1.00,0.00,0.00,0.00,0.00] | [0.60,0.13,0.14,0.02,0.30] | X\n",
      "1 | [0.00,1.00,0.00,0.00,0.00] | [0.00,1.00,0.00,0.00,0.00] | [0.04,0.94,0.01,0.02,0.03] | X\n",
      "2 | [0.00,0.00,1.00,0.00,0.00] | [0.00,0.00,1.00,0.00,0.00] | [0.07,0.01,0.92,0.03,0.02] | X\n",
      "3 | [0.00,0.00,0.00,1.00,0.00] | [0.00,0.00,0.00,1.00,0.00] | [0.01,0.05,0.03,0.85,0.17] | correct\n",
      "4 | [0.00,0.00,0.00,0.00,1.00] | [0.00,0.00,0.00,0.00,1.00] | [0.09,0.00,0.01,0.03,0.80] | X\n",
      "Total count: 25\n",
      "Total percentage correct: 0.72\n"
     ]
    }
   ],
   "source": [
    "net.test()"
   ]
  },
  {
   "cell_type": "code",
   "execution_count": 16,
   "metadata": {},
   "outputs": [],
   "source": [
    "for i in range(size):\n",
    "    net.propagate(net.dataset.inputs[i])\n",
    "    time.sleep(1)"
   ]
  },
  {
   "cell_type": "code",
   "execution_count": 13,
   "metadata": {},
   "outputs": [
    {
     "data": {
      "application/javascript": [
       "\n",
       "require(['base/js/namespace'], function(Jupyter) {\n",
       "    Jupyter.notebook.kernel.comm_manager.register_target('conx_svg_control', function(comm, msg) {\n",
       "        comm.on_msg(function(msg) {\n",
       "            var data = msg[\"content\"][\"data\"];\n",
       "            var images = document.getElementsByClassName(data[\"class\"]);\n",
       "            for (var i = 0; i < images.length; i++) {\n",
       "                images[i].setAttributeNS(null, \"href\", data[\"href\"]);\n",
       "            }\n",
       "        });\n",
       "    });\n",
       "});\n"
      ],
      "text/plain": [
       "<IPython.core.display.Javascript object>"
      ]
     },
     "metadata": {},
     "output_type": "display_data"
    },
    {
     "data": {
      "application/vnd.jupyter.widget-view+json": {
       "model_id": "a359d83662b44479957daf9ee56f639f",
       "version_major": 2,
       "version_minor": 0
      },
      "text/html": [
       "<p>Failed to display Jupyter Widget of type <code>Tab</code>.</p>\n",
       "<p>\n",
       "  If you're reading this message in Jupyter Notebook or JupyterLab, it may mean\n",
       "  that the widgets JavaScript is still loading. If this message persists, it\n",
       "  likely means that the widgets JavaScript library is either not installed or\n",
       "  not enabled. See the <a href=\"https://ipywidgets.readthedocs.io/en/stable/user_install.html\">Jupyter\n",
       "  Widgets Documentation</a> for setup instructions.\n",
       "</p>\n",
       "<p>\n",
       "  If you're reading this message in another notebook frontend (for example, a static\n",
       "  rendering on GitHub or <a href=\"https://nbviewer.jupyter.org/\">NBViewer</a>),\n",
       "  it may mean that your frontend doesn't currently support widgets.\n",
       "</p>\n"
      ],
      "text/plain": [
       "Tab(children=(VBox(children=(HTML(value='<p style=\"text-align:center\"><svg id=\\'Autoencoder\\' xmlns=\\'http://www.w3.org/2000/svg\\' width=\"350\" height=\"235\" image-rendering=\"pixelated\">\\n    <defs>\\n        <marker id=\"arrow\" markerWidth=\"10\" markerHeight=\"10\" refX=\"9\" refY=\"3\" orient=\"auto\" markerUnits=\"strokeWidth\">\\n          <path d=\"M0,0 L0,6 L9,3 z\" fill=\"black\" />\\n        </marker>\\n    </defs><text x=\"175.0\" y=\"12.5\" font-family=\"monospace\" font-size=\"15\" text-anchor=\"middle\" alignment-baseline=\"central\">Autoencoder</text><rect x=\"74.0\" y=\"29\" width=\"202\" height=\"42\" style=\"fill:none;stroke:black;stroke-width:2\"/><image id=\"Autoencoder_output_7\" class=\"Autoencoder_output\" x=\"75.0\" y=\"30\" height=\"40\" width=\"200\" preserveAspectRatio=\"none\" href=\"data:image/gif;base64,R0lGODdhBQABAIcAAP359ve5m/nFq+np6QAAAAAAAAAAAAAAAAAAAAAAAAAAAAAAAAAAAAAAAAAAAAAAAAAAAAAAAAAAAAAAAAAAAAAAAAAAAAAAAAAAAAAAAAAAAAAAAAAAAAAAAAAAAAAAAAAAAAAAAAAAAAAAAAAAAAAAAAAAAAAAAAAAAAAAAAAAAAAAAAAAAAAAAAAAAAAAAAAAAAAAAAAAAAAAAAAAAAAAAAAAAAAAAAAAAAAAAAAAAAAAAAAAAAAAAAAAAAAAAAAAAAAAAAAAAAAAAAAAAAAAAAAAAAAAAAAAAAAAAAAAAAAAAAAAAAAAAAAAAAAAAAAAAAAAAAAAAAAAAAAAAAAAAAAAAAAAAAAAAAAAAAAAAAAAAAAAAAAAAAAAAAAAAAAAAAAAAAAAAAAAAAAAAAAAAAAAAAAAAAAAAAAAAAAAAAAAAAAAAAAAAAAAAAAAAAAAAAAAAAAAAAAAAAAAAAAAAAAAAAAAAAAAAAAAAAAAAAAAAAAAAAAAAAAAAAAAAAAAAAAAAAAAAAAAAAAAAAAAAAAAAAAAAAAAAAAAAAAAAAAAAAAAAAAAAAAAAAAAAAAAAAAAAAAAAAAAAAAAAAAAAAAAAAAAAAAAAAAAAAAAAAAAAAAAAAAAAAAAAAAAAAAAAAAAAAAAAAAAAAAAAAAAAAAAAAAAAAAAAAAAAAAAAAAAAAAAAAAAAAAAAAAAAAAAAAAAAAAAAAAAAAAAAAAAAAAAAAAAAAAAAAAAAAAAAAAAAAAAAAAAAAAAAAAAAAAAAAAAAAAAAAAAAAAAAAAAAAAAAAAAAAAAAAAAAAAAAAAAAAAAAAAAAAAAAAAAAAAAAAAAAAAAAAAAAAAAAAAAAAAAAAAAAAAAAAAAAAAAAAAAAAAAAAAAAAAAAAAAAAAAAAAAAAAAAAAAAAAAAAAAAAAAAAAAAAAAAAAAAAAAAAAAAAAAAAAAAAAAAAAAAAAAAAAAAAAAAAAAAAAAAAAAAAAAAAAAAAAAAAAAAAAAAAAAAAAAAAAAAAAAAAAAACwAAAAABQABAAAICAAFDAAQAEBAADs=\"><title>Layer: output (output)\\n shape = (5,)\\n Keras class = Dense\\n activation = sigmoid</title></image><text x=\"280.0\" y=\"52.0\" font-family=\"monospace\" font-size=\"12\" text-anchor=\"start\" alignment-baseline=\"central\">output</text><line x1=\"175.0\" y1=\"99\" x2=\"175.0\" y2=\"72\" stroke=\"black\" stroke-width=\"2\" marker-end=\"url(#arrow)\"><title>Weights from hidden to output\\n output/kernel has shape (5, 5)\\n output/bias has shape (5,)</title></line><rect x=\"74.0\" y=\"99\" width=\"202\" height=\"42\" style=\"fill:none;stroke:black;stroke-width:2\"/><image id=\"Autoencoder_hidden_8\" class=\"Autoencoder_hidden\" x=\"75.0\" y=\"100\" height=\"40\" width=\"200\" preserveAspectRatio=\"none\" href=\"data:image/gif;base64,R0lGODdhBQABAIcAABoaGiAgIGcAH3R0dL4wNgAAAAAAAAAAAAAAAAAAAAAAAAAAAAAAAAAAAAAAAAAAAAAAAAAAAAAAAAAAAAAAAAAAAAAAAAAAAAAAAAAAAAAAAAAAAAAAAAAAAAAAAAAAAAAAAAAAAAAAAAAAAAAAAAAAAAAAAAAAAAAAAAAAAAAAAAAAAAAAAAAAAAAAAAAAAAAAAAAAAAAAAAAAAAAAAAAAAAAAAAAAAAAAAAAAAAAAAAAAAAAAAAAAAAAAAAAAAAAAAAAAAAAAAAAAAAAAAAAAAAAAAAAAAAAAAAAAAAAAAAAAAAAAAAAAAAAAAAAAAAAAAAAAAAAAAAAAAAAAAAAAAAAAAAAAAAAAAAAAAAAAAAAAAAAAAAAAAAAAAAAAAAAAAAAAAAAAAAAAAAAAAAAAAAAAAAAAAAAAAAAAAAAAAAAAAAAAAAAAAAAAAAAAAAAAAAAAAAAAAAAAAAAAAAAAAAAAAAAAAAAAAAAAAAAAAAAAAAAAAAAAAAAAAAAAAAAAAAAAAAAAAAAAAAAAAAAAAAAAAAAAAAAAAAAAAAAAAAAAAAAAAAAAAAAAAAAAAAAAAAAAAAAAAAAAAAAAAAAAAAAAAAAAAAAAAAAAAAAAAAAAAAAAAAAAAAAAAAAAAAAAAAAAAAAAAAAAAAAAAAAAAAAAAAAAAAAAAAAAAAAAAAAAAAAAAAAAAAAAAAAAAAAAAAAAAAAAAAAAAAAAAAAAAAAAAAAAAAAAAAAAAAAAAAAAAAAAAAAAAAAAAAAAAAAAAAAAAAAAAAAAAAAAAAAAAAAAAAAAAAAAAAAAAAAAAAAAAAAAAAAAAAAAAAAAAAAAAAAAAAAAAAAAAAAAAAAAAAAAAAAAAAAAAAAAAAAAAAAAAAAAAAAAAAAAAAAAAAAAAAAAAAAAAAAAAAAAAAAAAAAAAAAAAAAAAAAAAAAAAAAAAAAAAAAAAAAAAAAAAAAAAAAAAAAAAAAAAAAAAAAAAAAAAAAAAAAAAAAAAAAAAAAAAAAAAAAAAAAAAAAAACwAAAAABQABAAAICAADEBggAEBAADs=\"><title>Layer: hidden (hidden)\\n shape = (5,)\\n Keras class = Dense\\n activation = relu</title></image><text x=\"280.0\" y=\"122.0\" font-family=\"monospace\" font-size=\"12\" text-anchor=\"start\" alignment-baseline=\"central\">hidden</text><line x1=\"175.0\" y1=\"169\" x2=\"175.0\" y2=\"142\" stroke=\"black\" stroke-width=\"2\" marker-end=\"url(#arrow)\"><title>Weights from input to hidden\\n hidden/kernel has shape (5, 5)\\n hidden/bias has shape (5,)</title></line><rect x=\"74.0\" y=\"169\" width=\"202\" height=\"42\" style=\"fill:none;stroke:black;stroke-width:2\"/><image id=\"Autoencoder_input_9\" class=\"Autoencoder_input\" x=\"75.0\" y=\"170\" height=\"40\" width=\"200\" preserveAspectRatio=\"none\" href=\"data:image/gif;base64,R0lGODdhBQABAIcAAGcAHxoaGgAAAAAAAAAAAAAAAAAAAAAAAAAAAAAAAAAAAAAAAAAAAAAAAAAAAAAAAAAAAAAAAAAAAAAAAAAAAAAAAAAAAAAAAAAAAAAAAAAAAAAAAAAAAAAAAAAAAAAAAAAAAAAAAAAAAAAAAAAAAAAAAAAAAAAAAAAAAAAAAAAAAAAAAAAAAAAAAAAAAAAAAAAAAAAAAAAAAAAAAAAAAAAAAAAAAAAAAAAAAAAAAAAAAAAAAAAAAAAAAAAAAAAAAAAAAAAAAAAAAAAAAAAAAAAAAAAAAAAAAAAAAAAAAAAAAAAAAAAAAAAAAAAAAAAAAAAAAAAAAAAAAAAAAAAAAAAAAAAAAAAAAAAAAAAAAAAAAAAAAAAAAAAAAAAAAAAAAAAAAAAAAAAAAAAAAAAAAAAAAAAAAAAAAAAAAAAAAAAAAAAAAAAAAAAAAAAAAAAAAAAAAAAAAAAAAAAAAAAAAAAAAAAAAAAAAAAAAAAAAAAAAAAAAAAAAAAAAAAAAAAAAAAAAAAAAAAAAAAAAAAAAAAAAAAAAAAAAAAAAAAAAAAAAAAAAAAAAAAAAAAAAAAAAAAAAAAAAAAAAAAAAAAAAAAAAAAAAAAAAAAAAAAAAAAAAAAAAAAAAAAAAAAAAAAAAAAAAAAAAAAAAAAAAAAAAAAAAAAAAAAAAAAAAAAAAAAAAAAAAAAAAAAAAAAAAAAAAAAAAAAAAAAAAAAAAAAAAAAAAAAAAAAAAAAAAAAAAAAAAAAAAAAAAAAAAAAAAAAAAAAAAAAAAAAAAAAAAAAAAAAAAAAAAAAAAAAAAAAAAAAAAAAAAAAAAAAAAAAAAAAAAAAAAAAAAAAAAAAAAAAAAAAAAAAAAAAAAAAAAAAAAAAAAAAAAAAAAAAAAAAAAAAAAAAAAAAAAAAAAAAAAAAAAAAAAAAAAAAAAAAAAAAAAAAAAAAAAAAAAAAAAAAAAAAAAAAAAAAAAAAAAAAAAAAAAAAAAAAAAAAAAAAAAAAAAAAAAAAAAAAAAAAAAAAAAAAAACwAAAAABQABAAAIBwADABgIICAAOw==\"><title>Layer: input (input)\\n shape = (5,)\\n Keras class = Input</title></image><text x=\"280.0\" y=\"192.0\" font-family=\"monospace\" font-size=\"12\" text-anchor=\"start\" alignment-baseline=\"central\">input</text></svg></p>', layout=Layout(height='550px', justify_content='center', overflow_x='auto', width='95%')), VBox(children=(Select(description='Dataset:', index=1, options=('Test', 'Train'), rows=1, value='Train'), IntSlider(value=0, continuous_update=False, description='Dataset index', layout=Layout(width='95%'), max=4), HBox(children=(Button(icon='fast-backward', layout=Layout(width='100%'), style=ButtonStyle()), Button(icon='backward', layout=Layout(width='100%'), style=ButtonStyle()), Button(description='Train', layout=Layout(width='100%'), style=ButtonStyle()), Button(icon='forward', layout=Layout(width='100%'), style=ButtonStyle()), Button(icon='fast-forward', layout=Layout(width='100%'), style=ButtonStyle())), layout=Layout(height='50px', width='95%'))), layout=Layout(width='95%'))), layout=Layout(height='550px', width='95%')), HTML(value='<iframe src=\"https://conx.readthedocs.io\" width=\"100%\" height=\"550px\"></frame>', layout=Layout(height='550px', width='95%'))), _titles={'0': 'Network', '1': 'Help'})"
      ]
     },
     "metadata": {},
     "output_type": "display_data"
    }
   ],
   "source": [
    "net.dashboard()"
   ]
  },
  {
   "cell_type": "markdown",
   "metadata": {},
   "source": [
    "## MNIST Autoencoding"
   ]
  },
  {
   "cell_type": "code",
   "execution_count": 14,
   "metadata": {},
   "outputs": [],
   "source": [
    "from conx import Network, Layer, FlattenLayer"
   ]
  },
  {
   "cell_type": "code",
   "execution_count": 15,
   "metadata": {},
   "outputs": [],
   "source": [
    "net = Network(\"MNIST-Autoencoder\")"
   ]
  },
  {
   "cell_type": "code",
   "execution_count": 16,
   "metadata": {},
   "outputs": [],
   "source": [
    "net.add(Layer(\"input\", (28,28,1)))\n",
    "net.add(FlattenLayer(\"flatten\"))\n",
    "net.add(Layer(\"hidden1\", 25, activation=\"relu\"))\n",
    "net.add(Layer(\"hidden2\", 25, activation=\"relu\"))\n",
    "net.add(Layer(\"hidden3\", 25, activation=\"relu\"))\n",
    "net.add(Layer(\"output\", (28,28,1), activation=\"sigmoid\"))"
   ]
  },
  {
   "cell_type": "code",
   "execution_count": 17,
   "metadata": {},
   "outputs": [
    {
     "data": {
      "application/javascript": [
       "\n",
       "require(['base/js/namespace'], function(Jupyter) {\n",
       "    Jupyter.notebook.kernel.comm_manager.register_target('conx_svg_control', function(comm, msg) {\n",
       "        comm.on_msg(function(msg) {\n",
       "            var data = msg[\"content\"][\"data\"];\n",
       "            var images = document.getElementsByClassName(data[\"class\"]);\n",
       "            for (var i = 0; i < images.length; i++) {\n",
       "                images[i].setAttributeNS(null, \"href\", data[\"href\"]);\n",
       "            }\n",
       "        });\n",
       "    });\n",
       "});\n"
      ],
      "text/plain": [
       "<IPython.core.display.Javascript object>"
      ]
     },
     "metadata": {},
     "output_type": "display_data"
    },
    {
     "data": {
      "image/svg+xml": [
       "<svg id='MNIST-Autoencoder' xmlns='http://www.w3.org/2000/svg' width=\"350\" height=\"705\" image-rendering=\"pixelated\">\n",
       "    <defs>\n",
       "        <marker id=\"arrow\" markerWidth=\"10\" markerHeight=\"10\" refX=\"9\" refY=\"3\" orient=\"auto\" markerUnits=\"strokeWidth\">\n",
       "          <path d=\"M0,0 L0,6 L9,3 z\" fill=\"black\" />\n",
       "        </marker>\n",
       "    </defs><text x=\"175.0\" y=\"12.5\" font-family=\"monospace\" font-size=\"15\" text-anchor=\"middle\" alignment-baseline=\"central\">MNIST-Autoencoder</text><rect x=\"74.0\" y=\"29\" width=\"202\" height=\"202\" style=\"fill:none;stroke:black;stroke-width:2\"/><image id=\"MNIST-Autoencoder_output_1\" class=\"MNIST-Autoencoder_output\" x=\"75.0\" y=\"30\" height=\"200\" width=\"200\" preserveAspectRatio=\"none\" href=\"data:image/gif;base64,R0lGODdhHAAcAIcAAP7+/QAAAAAAAAAAAAAAAAAAAAAAAAAAAAAAAAAAAAAAAAAAAAAAAAAAAAAAAAAAAAAAAAAAAAAAAAAAAAAAAAAAAAAAAAAAAAAAAAAAAAAAAAAAAAAAAAAAAAAAAAAAAAAAAAAAAAAAAAAAAAAAAAAAAAAAAAAAAAAAAAAAAAAAAAAAAAAAAAAAAAAAAAAAAAAAAAAAAAAAAAAAAAAAAAAAAAAAAAAAAAAAAAAAAAAAAAAAAAAAAAAAAAAAAAAAAAAAAAAAAAAAAAAAAAAAAAAAAAAAAAAAAAAAAAAAAAAAAAAAAAAAAAAAAAAAAAAAAAAAAAAAAAAAAAAAAAAAAAAAAAAAAAAAAAAAAAAAAAAAAAAAAAAAAAAAAAAAAAAAAAAAAAAAAAAAAAAAAAAAAAAAAAAAAAAAAAAAAAAAAAAAAAAAAAAAAAAAAAAAAAAAAAAAAAAAAAAAAAAAAAAAAAAAAAAAAAAAAAAAAAAAAAAAAAAAAAAAAAAAAAAAAAAAAAAAAAAAAAAAAAAAAAAAAAAAAAAAAAAAAAAAAAAAAAAAAAAAAAAAAAAAAAAAAAAAAAAAAAAAAAAAAAAAAAAAAAAAAAAAAAAAAAAAAAAAAAAAAAAAAAAAAAAAAAAAAAAAAAAAAAAAAAAAAAAAAAAAAAAAAAAAAAAAAAAAAAAAAAAAAAAAAAAAAAAAAAAAAAAAAAAAAAAAAAAAAAAAAAAAAAAAAAAAAAAAAAAAAAAAAAAAAAAAAAAAAAAAAAAAAAAAAAAAAAAAAAAAAAAAAAAAAAAAAAAAAAAAAAAAAAAAAAAAAAAAAAAAAAAAAAAAAAAAAAAAAAAAAAAAAAAAAAAAAAAAAAAAAAAAAAAAAAAAAAAAAAAAAAAAAAAAAAAAAAAAAAAAAAAAAAAAAAAAAAAAAAAAAAAAAAAAAAAAAAAAAAAAAAAAAAAAAAAAAAAAAAAAAAAAAAAAAAAAAAAAAAAAAAAAAAAAAAAAAAAAAAAAAAAAAAAAAAAAAAAAAAAAAAAAACwAAAAAHAAcAEAIMAABCBxIsKDBgwgTKlzIsKHDhxAjSpxIsaLFixgzatzIsaPHjyBDihxJsqTJkwQDAgA7\"><title>Layer: output (output)\n",
       " shape = (28, 28, 1)\n",
       " Keras class = Dense\n",
       " activation = sigmoid</title></image><text x=\"280.0\" y=\"132.0\" font-family=\"monospace\" font-size=\"12\" text-anchor=\"start\" alignment-baseline=\"central\">output</text><line x1=\"175.0\" y1=\"259\" x2=\"175.0\" y2=\"232\" stroke=\"black\" stroke-width=\"2\" marker-end=\"url(#arrow)\"><title>Weights from hidden3 to output\n",
       " output/kernel has shape (25, 784)\n",
       " output/bias has shape (784,)</title></line><rect x=\"74.0\" y=\"259\" width=\"202\" height=\"27\" style=\"fill:none;stroke:black;stroke-width:2\"/><image id=\"MNIST-Autoencoder_hidden3_2\" class=\"MNIST-Autoencoder_hidden3\" x=\"75.0\" y=\"260\" height=\"25\" width=\"200\" preserveAspectRatio=\"none\" href=\"data:image/gif;base64,R0lGODdhGQABAIcAAP7+/QAAAAAAAAAAAAAAAAAAAAAAAAAAAAAAAAAAAAAAAAAAAAAAAAAAAAAAAAAAAAAAAAAAAAAAAAAAAAAAAAAAAAAAAAAAAAAAAAAAAAAAAAAAAAAAAAAAAAAAAAAAAAAAAAAAAAAAAAAAAAAAAAAAAAAAAAAAAAAAAAAAAAAAAAAAAAAAAAAAAAAAAAAAAAAAAAAAAAAAAAAAAAAAAAAAAAAAAAAAAAAAAAAAAAAAAAAAAAAAAAAAAAAAAAAAAAAAAAAAAAAAAAAAAAAAAAAAAAAAAAAAAAAAAAAAAAAAAAAAAAAAAAAAAAAAAAAAAAAAAAAAAAAAAAAAAAAAAAAAAAAAAAAAAAAAAAAAAAAAAAAAAAAAAAAAAAAAAAAAAAAAAAAAAAAAAAAAAAAAAAAAAAAAAAAAAAAAAAAAAAAAAAAAAAAAAAAAAAAAAAAAAAAAAAAAAAAAAAAAAAAAAAAAAAAAAAAAAAAAAAAAAAAAAAAAAAAAAAAAAAAAAAAAAAAAAAAAAAAAAAAAAAAAAAAAAAAAAAAAAAAAAAAAAAAAAAAAAAAAAAAAAAAAAAAAAAAAAAAAAAAAAAAAAAAAAAAAAAAAAAAAAAAAAAAAAAAAAAAAAAAAAAAAAAAAAAAAAAAAAAAAAAAAAAAAAAAAAAAAAAAAAAAAAAAAAAAAAAAAAAAAAAAAAAAAAAAAAAAAAAAAAAAAAAAAAAAAAAAAAAAAAAAAAAAAAAAAAAAAAAAAAAAAAAAAAAAAAAAAAAAAAAAAAAAAAAAAAAAAAAAAAAAAAAAAAAAAAAAAAAAAAAAAAAAAAAAAAAAAAAAAAAAAAAAAAAAAAAAAAAAAAAAAAAAAAAAAAAAAAAAAAAAAAAAAAAAAAAAAAAAAAAAAAAAAAAAAAAAAAAAAAAAAAAAAAAAAAAAAAAAAAAAAAAAAAAAAAAAAAAAAAAAAAAAAAAAAAAAAAAAAAAAAAAAAAAAAAAAAAAAAAAAAAAAAAAAAAAAAAAAAAAAAAAAAAAAAAAAAACwAAAAAGQABAAAICwABCBxIsKBBggEBADs=\"><title>Layer: hidden3 (hidden)\n",
       " shape = (25,)\n",
       " Keras class = Dense\n",
       " activation = relu</title></image><text x=\"280.0\" y=\"274.5\" font-family=\"monospace\" font-size=\"12\" text-anchor=\"start\" alignment-baseline=\"central\">hidden3</text><line x1=\"175.0\" y1=\"314\" x2=\"175.0\" y2=\"287\" stroke=\"black\" stroke-width=\"2\" marker-end=\"url(#arrow)\"><title>Weights from hidden2 to hidden3\n",
       " hidden3/kernel has shape (25, 25)\n",
       " hidden3/bias has shape (25,)</title></line><rect x=\"74.0\" y=\"314\" width=\"202\" height=\"27\" style=\"fill:none;stroke:black;stroke-width:2\"/><image id=\"MNIST-Autoencoder_hidden2_3\" class=\"MNIST-Autoencoder_hidden2\" x=\"75.0\" y=\"315\" height=\"25\" width=\"200\" preserveAspectRatio=\"none\" href=\"data:image/gif;base64,R0lGODdhGQABAIcAAP7+/QAAAAAAAAAAAAAAAAAAAAAAAAAAAAAAAAAAAAAAAAAAAAAAAAAAAAAAAAAAAAAAAAAAAAAAAAAAAAAAAAAAAAAAAAAAAAAAAAAAAAAAAAAAAAAAAAAAAAAAAAAAAAAAAAAAAAAAAAAAAAAAAAAAAAAAAAAAAAAAAAAAAAAAAAAAAAAAAAAAAAAAAAAAAAAAAAAAAAAAAAAAAAAAAAAAAAAAAAAAAAAAAAAAAAAAAAAAAAAAAAAAAAAAAAAAAAAAAAAAAAAAAAAAAAAAAAAAAAAAAAAAAAAAAAAAAAAAAAAAAAAAAAAAAAAAAAAAAAAAAAAAAAAAAAAAAAAAAAAAAAAAAAAAAAAAAAAAAAAAAAAAAAAAAAAAAAAAAAAAAAAAAAAAAAAAAAAAAAAAAAAAAAAAAAAAAAAAAAAAAAAAAAAAAAAAAAAAAAAAAAAAAAAAAAAAAAAAAAAAAAAAAAAAAAAAAAAAAAAAAAAAAAAAAAAAAAAAAAAAAAAAAAAAAAAAAAAAAAAAAAAAAAAAAAAAAAAAAAAAAAAAAAAAAAAAAAAAAAAAAAAAAAAAAAAAAAAAAAAAAAAAAAAAAAAAAAAAAAAAAAAAAAAAAAAAAAAAAAAAAAAAAAAAAAAAAAAAAAAAAAAAAAAAAAAAAAAAAAAAAAAAAAAAAAAAAAAAAAAAAAAAAAAAAAAAAAAAAAAAAAAAAAAAAAAAAAAAAAAAAAAAAAAAAAAAAAAAAAAAAAAAAAAAAAAAAAAAAAAAAAAAAAAAAAAAAAAAAAAAAAAAAAAAAAAAAAAAAAAAAAAAAAAAAAAAAAAAAAAAAAAAAAAAAAAAAAAAAAAAAAAAAAAAAAAAAAAAAAAAAAAAAAAAAAAAAAAAAAAAAAAAAAAAAAAAAAAAAAAAAAAAAAAAAAAAAAAAAAAAAAAAAAAAAAAAAAAAAAAAAAAAAAAAAAAAAAAAAAAAAAAAAAAAAAAAAAAAAAAAAAAAAAAAAAAAAAAAAAAAAAAAAAAAAAAAAAAAAAAAACwAAAAAGQABAAAICwABCBxIsKBBggEBADs=\"><title>Layer: hidden2 (hidden)\n",
       " shape = (25,)\n",
       " Keras class = Dense\n",
       " activation = relu</title></image><text x=\"280.0\" y=\"329.5\" font-family=\"monospace\" font-size=\"12\" text-anchor=\"start\" alignment-baseline=\"central\">hidden2</text><line x1=\"175.0\" y1=\"369\" x2=\"175.0\" y2=\"342\" stroke=\"black\" stroke-width=\"2\" marker-end=\"url(#arrow)\"><title>Weights from hidden1 to hidden2\n",
       " hidden2/kernel has shape (25, 25)\n",
       " hidden2/bias has shape (25,)</title></line><rect x=\"74.0\" y=\"369\" width=\"202\" height=\"27\" style=\"fill:none;stroke:black;stroke-width:2\"/><image id=\"MNIST-Autoencoder_hidden1_4\" class=\"MNIST-Autoencoder_hidden1\" x=\"75.0\" y=\"370\" height=\"25\" width=\"200\" preserveAspectRatio=\"none\" href=\"data:image/gif;base64,R0lGODdhGQABAIcAAP7+/QAAAAAAAAAAAAAAAAAAAAAAAAAAAAAAAAAAAAAAAAAAAAAAAAAAAAAAAAAAAAAAAAAAAAAAAAAAAAAAAAAAAAAAAAAAAAAAAAAAAAAAAAAAAAAAAAAAAAAAAAAAAAAAAAAAAAAAAAAAAAAAAAAAAAAAAAAAAAAAAAAAAAAAAAAAAAAAAAAAAAAAAAAAAAAAAAAAAAAAAAAAAAAAAAAAAAAAAAAAAAAAAAAAAAAAAAAAAAAAAAAAAAAAAAAAAAAAAAAAAAAAAAAAAAAAAAAAAAAAAAAAAAAAAAAAAAAAAAAAAAAAAAAAAAAAAAAAAAAAAAAAAAAAAAAAAAAAAAAAAAAAAAAAAAAAAAAAAAAAAAAAAAAAAAAAAAAAAAAAAAAAAAAAAAAAAAAAAAAAAAAAAAAAAAAAAAAAAAAAAAAAAAAAAAAAAAAAAAAAAAAAAAAAAAAAAAAAAAAAAAAAAAAAAAAAAAAAAAAAAAAAAAAAAAAAAAAAAAAAAAAAAAAAAAAAAAAAAAAAAAAAAAAAAAAAAAAAAAAAAAAAAAAAAAAAAAAAAAAAAAAAAAAAAAAAAAAAAAAAAAAAAAAAAAAAAAAAAAAAAAAAAAAAAAAAAAAAAAAAAAAAAAAAAAAAAAAAAAAAAAAAAAAAAAAAAAAAAAAAAAAAAAAAAAAAAAAAAAAAAAAAAAAAAAAAAAAAAAAAAAAAAAAAAAAAAAAAAAAAAAAAAAAAAAAAAAAAAAAAAAAAAAAAAAAAAAAAAAAAAAAAAAAAAAAAAAAAAAAAAAAAAAAAAAAAAAAAAAAAAAAAAAAAAAAAAAAAAAAAAAAAAAAAAAAAAAAAAAAAAAAAAAAAAAAAAAAAAAAAAAAAAAAAAAAAAAAAAAAAAAAAAAAAAAAAAAAAAAAAAAAAAAAAAAAAAAAAAAAAAAAAAAAAAAAAAAAAAAAAAAAAAAAAAAAAAAAAAAAAAAAAAAAAAAAAAAAAAAAAAAAAAAAAAAAAAAAAAAAAAAAAAAAAAAAAAAAAAAAAACwAAAAAGQABAAAICwABCBxIsKBBggEBADs=\"><title>Layer: hidden1 (hidden)\n",
       " shape = (25,)\n",
       " Keras class = Dense\n",
       " activation = relu</title></image><text x=\"280.0\" y=\"384.5\" font-family=\"monospace\" font-size=\"12\" text-anchor=\"start\" alignment-baseline=\"central\">hidden1</text><line x1=\"175.0\" y1=\"424\" x2=\"175.0\" y2=\"397\" stroke=\"black\" stroke-width=\"2\" marker-end=\"url(#arrow)\"><title>Weights from flatten to hidden1\n",
       " hidden1/kernel has shape (784, 25)\n",
       " hidden1/bias has shape (25,)</title></line><rect x=\"74.0\" y=\"424\" width=\"202\" height=\"27\" style=\"fill:none;stroke:black;stroke-width:2\"/><image id=\"MNIST-Autoencoder_flatten_5\" class=\"MNIST-Autoencoder_flatten\" x=\"75.0\" y=\"425\" height=\"25\" width=\"200\" preserveAspectRatio=\"none\" href=\"data:image/gif;base64,R0lGODdhEAMBAIcAAP7+/QAAAAAAAAAAAAAAAAAAAAAAAAAAAAAAAAAAAAAAAAAAAAAAAAAAAAAAAAAAAAAAAAAAAAAAAAAAAAAAAAAAAAAAAAAAAAAAAAAAAAAAAAAAAAAAAAAAAAAAAAAAAAAAAAAAAAAAAAAAAAAAAAAAAAAAAAAAAAAAAAAAAAAAAAAAAAAAAAAAAAAAAAAAAAAAAAAAAAAAAAAAAAAAAAAAAAAAAAAAAAAAAAAAAAAAAAAAAAAAAAAAAAAAAAAAAAAAAAAAAAAAAAAAAAAAAAAAAAAAAAAAAAAAAAAAAAAAAAAAAAAAAAAAAAAAAAAAAAAAAAAAAAAAAAAAAAAAAAAAAAAAAAAAAAAAAAAAAAAAAAAAAAAAAAAAAAAAAAAAAAAAAAAAAAAAAAAAAAAAAAAAAAAAAAAAAAAAAAAAAAAAAAAAAAAAAAAAAAAAAAAAAAAAAAAAAAAAAAAAAAAAAAAAAAAAAAAAAAAAAAAAAAAAAAAAAAAAAAAAAAAAAAAAAAAAAAAAAAAAAAAAAAAAAAAAAAAAAAAAAAAAAAAAAAAAAAAAAAAAAAAAAAAAAAAAAAAAAAAAAAAAAAAAAAAAAAAAAAAAAAAAAAAAAAAAAAAAAAAAAAAAAAAAAAAAAAAAAAAAAAAAAAAAAAAAAAAAAAAAAAAAAAAAAAAAAAAAAAAAAAAAAAAAAAAAAAAAAAAAAAAAAAAAAAAAAAAAAAAAAAAAAAAAAAAAAAAAAAAAAAAAAAAAAAAAAAAAAAAAAAAAAAAAAAAAAAAAAAAAAAAAAAAAAAAAAAAAAAAAAAAAAAAAAAAAAAAAAAAAAAAAAAAAAAAAAAAAAAAAAAAAAAAAAAAAAAAAAAAAAAAAAAAAAAAAAAAAAAAAAAAAAAAAAAAAAAAAAAAAAAAAAAAAAAAAAAAAAAAAAAAAAAAAAAAAAAAAAAAAAAAAAAAAAAAAAAAAAAAAAAAAAAAAAAAAAAAAAAAAAAAAAAAAAAAAAAAAAAAAAAAAAAAAAAAAAAAAAAAAACwAAAAAEAMBAAAIMAABCBxIsKDBgwgTKlzIsKHDhxAjSpxIsaLFixgzatzIsaPHjyBDihxJsqTJkwQDAgA7\"><title>Layer: flatten (hidden)\n",
       " Keras class = Flatten</title></image><text x=\"280.0\" y=\"439.5\" font-family=\"monospace\" font-size=\"12\" text-anchor=\"start\" alignment-baseline=\"central\">flatten</text><line x1=\"175.0\" y1=\"479\" x2=\"175.0\" y2=\"452\" stroke=\"black\" stroke-width=\"2\" marker-end=\"url(#arrow)\"><title>Weights from input to flatten</title></line><rect x=\"74.0\" y=\"479\" width=\"202\" height=\"202\" style=\"fill:none;stroke:black;stroke-width:2\"/><image id=\"MNIST-Autoencoder_input_6\" class=\"MNIST-Autoencoder_input\" x=\"75.0\" y=\"480\" height=\"200\" width=\"200\" preserveAspectRatio=\"none\" href=\"data:image/gif;base64,R0lGODdhHAAcAIcAAP7+/QAAAAAAAAAAAAAAAAAAAAAAAAAAAAAAAAAAAAAAAAAAAAAAAAAAAAAAAAAAAAAAAAAAAAAAAAAAAAAAAAAAAAAAAAAAAAAAAAAAAAAAAAAAAAAAAAAAAAAAAAAAAAAAAAAAAAAAAAAAAAAAAAAAAAAAAAAAAAAAAAAAAAAAAAAAAAAAAAAAAAAAAAAAAAAAAAAAAAAAAAAAAAAAAAAAAAAAAAAAAAAAAAAAAAAAAAAAAAAAAAAAAAAAAAAAAAAAAAAAAAAAAAAAAAAAAAAAAAAAAAAAAAAAAAAAAAAAAAAAAAAAAAAAAAAAAAAAAAAAAAAAAAAAAAAAAAAAAAAAAAAAAAAAAAAAAAAAAAAAAAAAAAAAAAAAAAAAAAAAAAAAAAAAAAAAAAAAAAAAAAAAAAAAAAAAAAAAAAAAAAAAAAAAAAAAAAAAAAAAAAAAAAAAAAAAAAAAAAAAAAAAAAAAAAAAAAAAAAAAAAAAAAAAAAAAAAAAAAAAAAAAAAAAAAAAAAAAAAAAAAAAAAAAAAAAAAAAAAAAAAAAAAAAAAAAAAAAAAAAAAAAAAAAAAAAAAAAAAAAAAAAAAAAAAAAAAAAAAAAAAAAAAAAAAAAAAAAAAAAAAAAAAAAAAAAAAAAAAAAAAAAAAAAAAAAAAAAAAAAAAAAAAAAAAAAAAAAAAAAAAAAAAAAAAAAAAAAAAAAAAAAAAAAAAAAAAAAAAAAAAAAAAAAAAAAAAAAAAAAAAAAAAAAAAAAAAAAAAAAAAAAAAAAAAAAAAAAAAAAAAAAAAAAAAAAAAAAAAAAAAAAAAAAAAAAAAAAAAAAAAAAAAAAAAAAAAAAAAAAAAAAAAAAAAAAAAAAAAAAAAAAAAAAAAAAAAAAAAAAAAAAAAAAAAAAAAAAAAAAAAAAAAAAAAAAAAAAAAAAAAAAAAAAAAAAAAAAAAAAAAAAAAAAAAAAAAAAAAAAAAAAAAAAAAAAAAAAAAAAAAAAAAAAAAAAAAAAAAAAAAAAAAAAAAAAAAAAAAAAACwAAAAAHAAcAEAIMAABCBxIsKDBgwgTKlzIsKHDhxAjSpxIsaLFixgzatzIsaPHjyBDihxJsqTJkwQDAgA7\"><title>Layer: input (input)\n",
       " shape = (28, 28, 1)\n",
       " Keras class = Input</title></image><text x=\"280.0\" y=\"582.0\" font-family=\"monospace\" font-size=\"12\" text-anchor=\"start\" alignment-baseline=\"central\">input</text><text x=\"280.0\" y=\"485\" font-family=\"monospace\" font-size=\"12\" text-anchor=\"start\" alignment-baseline=\"central\">1</text><text x=\"63.0\" y=\"675\" font-family=\"monospace\" font-size=\"12\" text-anchor=\"start\" alignment-baseline=\"central\">0</text></svg>"
      ],
      "text/plain": [
       "<Network name='MNIST-Autoencoder' (compiled)>"
      ]
     },
     "execution_count": 17,
     "metadata": {},
     "output_type": "execute_result"
    }
   ],
   "source": [
    "net.connect()\n",
    "net.compile(error=\"binary_crossentropy\", optimizer=\"adam\")\n",
    "net"
   ]
  },
  {
   "cell_type": "code",
   "execution_count": 18,
   "metadata": {},
   "outputs": [
    {
     "name": "stdout",
     "output_type": "stream",
     "text": [
      "Input Summary:\n",
      "   count  : 70000 (70000 for training, 0 for testing)\n",
      "   shape  : (28, 28, 1)\n",
      "   range  : (0.0, 1.0)\n",
      "Target Summary:\n",
      "   count  : 70000 (70000 for training, 0 for testing)\n",
      "   shape  : (784,)\n",
      "   range  : (0.0, 1.0)\n"
     ]
    }
   ],
   "source": [
    "net.dataset.get('mnist')\n",
    "net.dataset.set_targets_from_inputs()\n",
    "net.dataset.targets.reshape(0, (28 * 28))\n",
    "net.dataset.summary()"
   ]
  },
  {
   "cell_type": "code",
   "execution_count": 19,
   "metadata": {},
   "outputs": [
    {
     "data": {
      "application/javascript": [
       "\n",
       "require(['base/js/namespace'], function(Jupyter) {\n",
       "    Jupyter.notebook.kernel.comm_manager.register_target('conx_svg_control', function(comm, msg) {\n",
       "        comm.on_msg(function(msg) {\n",
       "            var data = msg[\"content\"][\"data\"];\n",
       "            var images = document.getElementsByClassName(data[\"class\"]);\n",
       "            for (var i = 0; i < images.length; i++) {\n",
       "                images[i].setAttributeNS(null, \"href\", data[\"href\"]);\n",
       "            }\n",
       "        });\n",
       "    });\n",
       "});\n"
      ],
      "text/plain": [
       "<IPython.core.display.Javascript object>"
      ]
     },
     "metadata": {},
     "output_type": "display_data"
    },
    {
     "data": {
      "application/vnd.jupyter.widget-view+json": {
       "model_id": "6e5eb337fb634c229d516c18c01e6612",
       "version_major": 2,
       "version_minor": 0
      },
      "text/html": [
       "<p>Failed to display Jupyter Widget of type <code>Tab</code>.</p>\n",
       "<p>\n",
       "  If you're reading this message in Jupyter Notebook or JupyterLab, it may mean\n",
       "  that the widgets JavaScript is still loading. If this message persists, it\n",
       "  likely means that the widgets JavaScript library is either not installed or\n",
       "  not enabled. See the <a href=\"https://ipywidgets.readthedocs.io/en/stable/user_install.html\">Jupyter\n",
       "  Widgets Documentation</a> for setup instructions.\n",
       "</p>\n",
       "<p>\n",
       "  If you're reading this message in another notebook frontend (for example, a static\n",
       "  rendering on GitHub or <a href=\"https://nbviewer.jupyter.org/\">NBViewer</a>),\n",
       "  it may mean that your frontend doesn't currently support widgets.\n",
       "</p>\n"
      ],
      "text/plain": [
       "Tab(children=(VBox(children=(HTML(value='<p style=\"text-align:center\"><svg id=\\'MNIST-Autoencoder\\' xmlns=\\'http://www.w3.org/2000/svg\\' width=\"350\" height=\"705\" image-rendering=\"pixelated\">\\n    <defs>\\n        <marker id=\"arrow\" markerWidth=\"10\" markerHeight=\"10\" refX=\"9\" refY=\"3\" orient=\"auto\" markerUnits=\"strokeWidth\">\\n          <path d=\"M0,0 L0,6 L9,3 z\" fill=\"black\" />\\n        </marker>\\n    </defs><text x=\"175.0\" y=\"12.5\" font-family=\"monospace\" font-size=\"15\" text-anchor=\"middle\" alignment-baseline=\"central\">MNIST-Autoencoder</text><rect x=\"74.0\" y=\"29\" width=\"202\" height=\"202\" style=\"fill:none;stroke:black;stroke-width:2\"/><image id=\"MNIST-Autoencoder_output_7\" class=\"MNIST-Autoencoder_output\" x=\"75.0\" y=\"30\" height=\"200\" width=\"200\" preserveAspectRatio=\"none\" href=\"data:image/gif;base64,R0lGODdhHAAcAIcAAPz5+Pru5wAAAAAAAAAAAAAAAAAAAAAAAAAAAAAAAAAAAAAAAAAAAAAAAAAAAAAAAAAAAAAAAAAAAAAAAAAAAAAAAAAAAAAAAAAAAAAAAAAAAAAAAAAAAAAAAAAAAAAAAAAAAAAAAAAAAAAAAAAAAAAAAAAAAAAAAAAAAAAAAAAAAAAAAAAAAAAAAAAAAAAAAAAAAAAAAAAAAAAAAAAAAAAAAAAAAAAAAAAAAAAAAAAAAAAAAAAAAAAAAAAAAAAAAAAAAAAAAAAAAAAAAAAAAAAAAAAAAAAAAAAAAAAAAAAAAAAAAAAAAAAAAAAAAAAAAAAAAAAAAAAAAAAAAAAAAAAAAAAAAAAAAAAAAAAAAAAAAAAAAAAAAAAAAAAAAAAAAAAAAAAAAAAAAAAAAAAAAAAAAAAAAAAAAAAAAAAAAAAAAAAAAAAAAAAAAAAAAAAAAAAAAAAAAAAAAAAAAAAAAAAAAAAAAAAAAAAAAAAAAAAAAAAAAAAAAAAAAAAAAAAAAAAAAAAAAAAAAAAAAAAAAAAAAAAAAAAAAAAAAAAAAAAAAAAAAAAAAAAAAAAAAAAAAAAAAAAAAAAAAAAAAAAAAAAAAAAAAAAAAAAAAAAAAAAAAAAAAAAAAAAAAAAAAAAAAAAAAAAAAAAAAAAAAAAAAAAAAAAAAAAAAAAAAAAAAAAAAAAAAAAAAAAAAAAAAAAAAAAAAAAAAAAAAAAAAAAAAAAAAAAAAAAAAAAAAAAAAAAAAAAAAAAAAAAAAAAAAAAAAAAAAAAAAAAAAAAAAAAAAAAAAAAAAAAAAAAAAAAAAAAAAAAAAAAAAAAAAAAAAAAAAAAAAAAAAAAAAAAAAAAAAAAAAAAAAAAAAAAAAAAAAAAAAAAAAAAAAAAAAAAAAAAAAAAAAAAAAAAAAAAAAAAAAAAAAAAAAAAAAAAAAAAAAAAAAAAAAAAAAAAAAAAAAAAAAAAAAAAAAAAAAAAAAAAAAAAAAAAAAAAAAAAAAAAAAAAAAAAAAAAAAAAAAAAAAAAAACwAAAAAHAAcAEAIVgABAAgAoKDBgwgTKlxYMACAhxAjSpxIsaLFixgzatzIsaPHjyBDihxJsqTJkyhTqlzJkmQAADBjypxJs6bNmzhz6tzJs6fPn0CDxgwAoKjRo0iTKg0IADs=\"><title>Layer: output (output)\\n shape = (28, 28, 1)\\n Keras class = Dense\\n activation = sigmoid</title></image><text x=\"280.0\" y=\"132.0\" font-family=\"monospace\" font-size=\"12\" text-anchor=\"start\" alignment-baseline=\"central\">output</text><line x1=\"175.0\" y1=\"259\" x2=\"175.0\" y2=\"232\" stroke=\"black\" stroke-width=\"2\" marker-end=\"url(#arrow)\"><title>Weights from hidden3 to output\\n output/kernel has shape (25, 784)\\n output/bias has shape (784,)</title></line><rect x=\"74.0\" y=\"259\" width=\"202\" height=\"27\" style=\"fill:none;stroke:black;stroke-width:2\"/><image id=\"MNIST-Autoencoder_hidden3_8\" class=\"MNIST-Autoencoder_hidden3\" x=\"75.0\" y=\"260\" height=\"25\" width=\"200\" preserveAspectRatio=\"none\" href=\"data:image/gif;base64,R0lGODdhGQABAIcAAGcAH/Sohe3n5NlnUxoaGigoKLQcLcU+PN91Xd3d3eyTdPnHrv7w5wAAAAAAAAAAAAAAAAAAAAAAAAAAAAAAAAAAAAAAAAAAAAAAAAAAAAAAAAAAAAAAAAAAAAAAAAAAAAAAAAAAAAAAAAAAAAAAAAAAAAAAAAAAAAAAAAAAAAAAAAAAAAAAAAAAAAAAAAAAAAAAAAAAAAAAAAAAAAAAAAAAAAAAAAAAAAAAAAAAAAAAAAAAAAAAAAAAAAAAAAAAAAAAAAAAAAAAAAAAAAAAAAAAAAAAAAAAAAAAAAAAAAAAAAAAAAAAAAAAAAAAAAAAAAAAAAAAAAAAAAAAAAAAAAAAAAAAAAAAAAAAAAAAAAAAAAAAAAAAAAAAAAAAAAAAAAAAAAAAAAAAAAAAAAAAAAAAAAAAAAAAAAAAAAAAAAAAAAAAAAAAAAAAAAAAAAAAAAAAAAAAAAAAAAAAAAAAAAAAAAAAAAAAAAAAAAAAAAAAAAAAAAAAAAAAAAAAAAAAAAAAAAAAAAAAAAAAAAAAAAAAAAAAAAAAAAAAAAAAAAAAAAAAAAAAAAAAAAAAAAAAAAAAAAAAAAAAAAAAAAAAAAAAAAAAAAAAAAAAAAAAAAAAAAAAAAAAAAAAAAAAAAAAAAAAAAAAAAAAAAAAAAAAAAAAAAAAAAAAAAAAAAAAAAAAAAAAAAAAAAAAAAAAAAAAAAAAAAAAAAAAAAAAAAAAAAAAAAAAAAAAAAAAAAAAAAAAAAAAAAAAAAAAAAAAAAAAAAAAAAAAAAAAAAAAAAAAAAAAAAAAAAAAAAAAAAAAAAAAAAAAAAAAAAAAAAAAAAAAAAAAAAAAAAAAAAAAAAAAAAAAAAAAAAAAAAAAAAAAAAAAAAAAAAAAAAAAAAAAAAAAAAAAAAAAAAAAAAAAAAAAAAAAAAAAAAAAAAAAAAAAAAAAAAAAAAAAAAAAAAAAAAAAAAAAAAAAAAAAAAAAAAAAAAAAAAAAAAAAAAAAAAAAAAAAAAAAAAAAAAAAAAAAAAAAACwAAAAAGQABAAAIHgADKABQgMCAAAgEJGAAYMABABABLDAAQICAAAACAgA7\"><title>Layer: hidden3 (hidden)\\n shape = (25,)\\n Keras class = Dense\\n activation = relu</title></image><text x=\"280.0\" y=\"274.5\" font-family=\"monospace\" font-size=\"12\" text-anchor=\"start\" alignment-baseline=\"central\">hidden3</text><line x1=\"175.0\" y1=\"314\" x2=\"175.0\" y2=\"287\" stroke=\"black\" stroke-width=\"2\" marker-end=\"url(#arrow)\"><title>Weights from hidden2 to hidden3\\n hidden3/kernel has shape (25, 25)\\n hidden3/bias has shape (25,)</title></line><rect x=\"74.0\" y=\"314\" width=\"202\" height=\"27\" style=\"fill:none;stroke:black;stroke-width:2\"/><image id=\"MNIST-Autoencoder_hidden2_9\" class=\"MNIST-Autoencoder_hidden2\" x=\"75.0\" y=\"315\" height=\"25\" width=\"200\" preserveAspectRatio=\"none\" href=\"data:image/gif;base64,R0lGODdhGQABAIcAAGcAH1RUVO6YeObm5vf39xoaGoSEhLAXKsxMQ+J9Y/SqiPi/o/3bxwAAAAAAAAAAAAAAAAAAAAAAAAAAAAAAAAAAAAAAAAAAAAAAAAAAAAAAAAAAAAAAAAAAAAAAAAAAAAAAAAAAAAAAAAAAAAAAAAAAAAAAAAAAAAAAAAAAAAAAAAAAAAAAAAAAAAAAAAAAAAAAAAAAAAAAAAAAAAAAAAAAAAAAAAAAAAAAAAAAAAAAAAAAAAAAAAAAAAAAAAAAAAAAAAAAAAAAAAAAAAAAAAAAAAAAAAAAAAAAAAAAAAAAAAAAAAAAAAAAAAAAAAAAAAAAAAAAAAAAAAAAAAAAAAAAAAAAAAAAAAAAAAAAAAAAAAAAAAAAAAAAAAAAAAAAAAAAAAAAAAAAAAAAAAAAAAAAAAAAAAAAAAAAAAAAAAAAAAAAAAAAAAAAAAAAAAAAAAAAAAAAAAAAAAAAAAAAAAAAAAAAAAAAAAAAAAAAAAAAAAAAAAAAAAAAAAAAAAAAAAAAAAAAAAAAAAAAAAAAAAAAAAAAAAAAAAAAAAAAAAAAAAAAAAAAAAAAAAAAAAAAAAAAAAAAAAAAAAAAAAAAAAAAAAAAAAAAAAAAAAAAAAAAAAAAAAAAAAAAAAAAAAAAAAAAAAAAAAAAAAAAAAAAAAAAAAAAAAAAAAAAAAAAAAAAAAAAAAAAAAAAAAAAAAAAAAAAAAAAAAAAAAAAAAAAAAAAAAAAAAAAAAAAAAAAAAAAAAAAAAAAAAAAAAAAAAAAAAAAAAAAAAAAAAAAAAAAAAAAAAAAAAAAAAAAAAAAAAAAAAAAAAAAAAAAAAAAAAAAAAAAAAAAAAAAAAAAAAAAAAAAAAAAAAAAAAAAAAAAAAAAAAAAAAAAAAAAAAAAAAAAAAAAAAAAAAAAAAAAAAAAAAAAAAAAAAAAAAAAAAAAAAAAAAAAAAAAAAAAAAAAAAAAAAAAAAAAAAAAAAAAAAAAAAAAAAAAAAAAAAAAAAAAAAAAAAAAAAAAAAAAAAAAAAAAACwAAAAAGQABAAAIHwALCAAQIMACAAQAACAgAMABBQYQJAAwYAAABgAABAQAOw==\"><title>Layer: hidden2 (hidden)\\n shape = (25,)\\n Keras class = Dense\\n activation = relu</title></image><text x=\"280.0\" y=\"329.5\" font-family=\"monospace\" font-size=\"12\" text-anchor=\"start\" alignment-baseline=\"central\">hidden2</text><line x1=\"175.0\" y1=\"369\" x2=\"175.0\" y2=\"342\" stroke=\"black\" stroke-width=\"2\" marker-end=\"url(#arrow)\"><title>Weights from hidden1 to hidden2\\n hidden2/kernel has shape (25, 25)\\n hidden2/bias has shape (25,)</title></line><rect x=\"74.0\" y=\"369\" width=\"202\" height=\"27\" style=\"fill:none;stroke:black;stroke-width:2\"/><image id=\"MNIST-Autoencoder_hidden1_10\" class=\"MNIST-Autoencoder_hidden1\" x=\"75.0\" y=\"370\" height=\"25\" width=\"200\" preserveAspectRatio=\"none\" href=\"data:image/gif;base64,R0lGODdhGQABAIcAAGcAH3IDIOaHaxoaGo0MJaQTKNloU/SqiPnFq/vQuePj4wAAAAAAAAAAAAAAAAAAAAAAAAAAAAAAAAAAAAAAAAAAAAAAAAAAAAAAAAAAAAAAAAAAAAAAAAAAAAAAAAAAAAAAAAAAAAAAAAAAAAAAAAAAAAAAAAAAAAAAAAAAAAAAAAAAAAAAAAAAAAAAAAAAAAAAAAAAAAAAAAAAAAAAAAAAAAAAAAAAAAAAAAAAAAAAAAAAAAAAAAAAAAAAAAAAAAAAAAAAAAAAAAAAAAAAAAAAAAAAAAAAAAAAAAAAAAAAAAAAAAAAAAAAAAAAAAAAAAAAAAAAAAAAAAAAAAAAAAAAAAAAAAAAAAAAAAAAAAAAAAAAAAAAAAAAAAAAAAAAAAAAAAAAAAAAAAAAAAAAAAAAAAAAAAAAAAAAAAAAAAAAAAAAAAAAAAAAAAAAAAAAAAAAAAAAAAAAAAAAAAAAAAAAAAAAAAAAAAAAAAAAAAAAAAAAAAAAAAAAAAAAAAAAAAAAAAAAAAAAAAAAAAAAAAAAAAAAAAAAAAAAAAAAAAAAAAAAAAAAAAAAAAAAAAAAAAAAAAAAAAAAAAAAAAAAAAAAAAAAAAAAAAAAAAAAAAAAAAAAAAAAAAAAAAAAAAAAAAAAAAAAAAAAAAAAAAAAAAAAAAAAAAAAAAAAAAAAAAAAAAAAAAAAAAAAAAAAAAAAAAAAAAAAAAAAAAAAAAAAAAAAAAAAAAAAAAAAAAAAAAAAAAAAAAAAAAAAAAAAAAAAAAAAAAAAAAAAAAAAAAAAAAAAAAAAAAAAAAAAAAAAAAAAAAAAAAAAAAAAAAAAAAAAAAAAAAAAAAAAAAAAAAAAAAAAAAAAAAAAAAAAAAAAAAAAAAAAAAAAAAAAAAAAAAAAAAAAAAAAAAAAAAAAAAAAAAAAAAAAAAAAAAAAAAAAAAAAAAAAAAAAAAAAAAAAAAAAAAAAAAAAAAAAAAAAAAAAAAAAAAAAAAAAAAAAAAAAAAAAAAAAAAAAAAAAAAAAAAAAACwAAAAAGQABAAAIGgABCBwYQEABAAcCDBAAoCEABAkIAACgwEBAADs=\"><title>Layer: hidden1 (hidden)\\n shape = (25,)\\n Keras class = Dense\\n activation = relu</title></image><text x=\"280.0\" y=\"384.5\" font-family=\"monospace\" font-size=\"12\" text-anchor=\"start\" alignment-baseline=\"central\">hidden1</text><line x1=\"175.0\" y1=\"424\" x2=\"175.0\" y2=\"397\" stroke=\"black\" stroke-width=\"2\" marker-end=\"url(#arrow)\"><title>Weights from flatten to hidden1\\n hidden1/kernel has shape (784, 25)\\n hidden1/bias has shape (25,)</title></line><rect x=\"74.0\" y=\"424\" width=\"202\" height=\"27\" style=\"fill:none;stroke:black;stroke-width:2\"/><image id=\"MNIST-Autoencoder_flatten_11\" class=\"MNIST-Autoencoder_flatten\" x=\"75.0\" y=\"425\" height=\"25\" width=\"200\" preserveAspectRatio=\"none\" href=\"data:image/gif;base64,R0lGODdhEAMBAIcAAP39/BwcHOjo6CUlJcbGxjk5OVdXV4eHh5qammVlZdfX13Nzc0dHR6enp7W1tQAAAAAAAAAAAAAAAAAAAAAAAAAAAAAAAAAAAAAAAAAAAAAAAAAAAAAAAAAAAAAAAAAAAAAAAAAAAAAAAAAAAAAAAAAAAAAAAAAAAAAAAAAAAAAAAAAAAAAAAAAAAAAAAAAAAAAAAAAAAAAAAAAAAAAAAAAAAAAAAAAAAAAAAAAAAAAAAAAAAAAAAAAAAAAAAAAAAAAAAAAAAAAAAAAAAAAAAAAAAAAAAAAAAAAAAAAAAAAAAAAAAAAAAAAAAAAAAAAAAAAAAAAAAAAAAAAAAAAAAAAAAAAAAAAAAAAAAAAAAAAAAAAAAAAAAAAAAAAAAAAAAAAAAAAAAAAAAAAAAAAAAAAAAAAAAAAAAAAAAAAAAAAAAAAAAAAAAAAAAAAAAAAAAAAAAAAAAAAAAAAAAAAAAAAAAAAAAAAAAAAAAAAAAAAAAAAAAAAAAAAAAAAAAAAAAAAAAAAAAAAAAAAAAAAAAAAAAAAAAAAAAAAAAAAAAAAAAAAAAAAAAAAAAAAAAAAAAAAAAAAAAAAAAAAAAAAAAAAAAAAAAAAAAAAAAAAAAAAAAAAAAAAAAAAAAAAAAAAAAAAAAAAAAAAAAAAAAAAAAAAAAAAAAAAAAAAAAAAAAAAAAAAAAAAAAAAAAAAAAAAAAAAAAAAAAAAAAAAAAAAAAAAAAAAAAAAAAAAAAAAAAAAAAAAAAAAAAAAAAAAAAAAAAAAAAAAAAAAAAAAAAAAAAAAAAAAAAAAAAAAAAAAAAAAAAAAAAAAAAAAAAAAAAAAAAAAAAAAAAAAAAAAAAAAAAAAAAAAAAAAAAAAAAAAAAAAAAAAAAAAAAAAAAAAAAAAAAAAAAAAAAAAAAAAAAAAAAAAAAAAAAAAAAAAAAAAAAAAAAAAAAAAAAAAAAAAAAAAAAAAAAAAAAAAAAAAAAAAAAAAAAAAAAAAAAAAAAAAAAAAAAAAAAAAAAAAAAAAAAAAAACwAAAAAEAMBAAAI/wABCBxIsKDBgwgTKlzIsKHDhxAjDmyAIIGABQEGNADAsaNHjgIEEDiwIIBJkwUWBBhgQAGAlzBjAhAwIIDNmzcJ6FQgAIDPn0B/FghAlKiBBAMGAFjKtKlTpgQOOAgQgAEAAAIOANjKtavXrwcCEABAtqzZs2jNIghgAIDbt3Djyo1rIIACAHjz6t3LV6+AAQUOOABAuLDhw4gLExgQIEADAQAiS55MuXJkAQkCBDggAIDnz6BDi/5MIECABABSq17NuvXqAQEGKABAu7bt27gFIEgQIAADAMCDCx8+XMCBAgGSD0gAoLnz59CfNygQoHoAAwQAaN/Ovft2BQwCiEIPYIAAgPPo06tHv6BAgPcBDBAAQL++/fv0FSwoEKB/AIADEAAgWNDgQYMIAixkgAABAIgRJU6kWNHiRYwZNW7EGBAAOw==\"><title>Layer: flatten (hidden)\\n Keras class = Flatten</title></image><text x=\"280.0\" y=\"439.5\" font-family=\"monospace\" font-size=\"12\" text-anchor=\"start\" alignment-baseline=\"central\">flatten</text><line x1=\"175.0\" y1=\"479\" x2=\"175.0\" y2=\"452\" stroke=\"black\" stroke-width=\"2\" marker-end=\"url(#arrow)\"><title>Weights from input to flatten</title></line><rect x=\"74.0\" y=\"479\" width=\"202\" height=\"202\" style=\"fill:none;stroke:black;stroke-width:2\"/><image id=\"MNIST-Autoencoder_input_12\" class=\"MNIST-Autoencoder_input\" x=\"75.0\" y=\"480\" height=\"200\" width=\"200\" preserveAspectRatio=\"none\" href=\"data:image/gif;base64,R0lGODdhHAAcAIcAAP39/BwcHOjo6CUlJcbGxjk5OVdXV4eHh5qammVlZdfX13Nzc0dHR6enp7W1tQAAAAAAAAAAAAAAAAAAAAAAAAAAAAAAAAAAAAAAAAAAAAAAAAAAAAAAAAAAAAAAAAAAAAAAAAAAAAAAAAAAAAAAAAAAAAAAAAAAAAAAAAAAAAAAAAAAAAAAAAAAAAAAAAAAAAAAAAAAAAAAAAAAAAAAAAAAAAAAAAAAAAAAAAAAAAAAAAAAAAAAAAAAAAAAAAAAAAAAAAAAAAAAAAAAAAAAAAAAAAAAAAAAAAAAAAAAAAAAAAAAAAAAAAAAAAAAAAAAAAAAAAAAAAAAAAAAAAAAAAAAAAAAAAAAAAAAAAAAAAAAAAAAAAAAAAAAAAAAAAAAAAAAAAAAAAAAAAAAAAAAAAAAAAAAAAAAAAAAAAAAAAAAAAAAAAAAAAAAAAAAAAAAAAAAAAAAAAAAAAAAAAAAAAAAAAAAAAAAAAAAAAAAAAAAAAAAAAAAAAAAAAAAAAAAAAAAAAAAAAAAAAAAAAAAAAAAAAAAAAAAAAAAAAAAAAAAAAAAAAAAAAAAAAAAAAAAAAAAAAAAAAAAAAAAAAAAAAAAAAAAAAAAAAAAAAAAAAAAAAAAAAAAAAAAAAAAAAAAAAAAAAAAAAAAAAAAAAAAAAAAAAAAAAAAAAAAAAAAAAAAAAAAAAAAAAAAAAAAAAAAAAAAAAAAAAAAAAAAAAAAAAAAAAAAAAAAAAAAAAAAAAAAAAAAAAAAAAAAAAAAAAAAAAAAAAAAAAAAAAAAAAAAAAAAAAAAAAAAAAAAAAAAAAAAAAAAAAAAAAAAAAAAAAAAAAAAAAAAAAAAAAAAAAAAAAAAAAAAAAAAAAAAAAAAAAAAAAAAAAAAAAAAAAAAAAAAAAAAAAAAAAAAAAAAAAAAAAAAAAAAAAAAAAAAAAAAAAAAAAAAAAAAAAAAAAAAAAAAAAAAAAAAAAAAAAAAAAAAAAAAAAAAAAAAAAAAAAAAAAAAAAAAAAAAAAAAAAAAAAAAACwAAAAAHAAcAEAI/wABCBxIsKDBgwgLBFi40ECCAQMASJxIsaLFigQCBEgAoKPHjx0RBBjJAAECAChTqlzJsqXLlzBRGgigAIDNmzhz6rzZoECAnwEMEABAtKjRo0iTKl0qQACBAwsCSJVaYEGAAQYUANjKtavXAwEIABhLtqzZs2cJDAgQoIEAAHDjyp1LF64ABAkCBGAAoK/fv4AXFAhAOIABAgASK17MuLHjx5AjS55MufLjBggSCFgQYEADAKBDiwYgYECA06hRE1itQACA17BjwyZwwEGAAAwAABBwAIDv38CDC0cQwACA48iTK1+uXMCAAgccAJhOvbr169UFJAgQ4IAAAODDi0QfT178gAADFABYz769+/YCDhQIQH9AAgD48+vfj18BA4ABBAYwQADAQYQJFSpYUCDAwwADEACgWNHiRYwZNW7k2PFiQAA7\"><title>Layer: input (input)\\n shape = (28, 28, 1)\\n Keras class = Input</title></image><text x=\"280.0\" y=\"582.0\" font-family=\"monospace\" font-size=\"12\" text-anchor=\"start\" alignment-baseline=\"central\">input</text><text x=\"280.0\" y=\"485\" font-family=\"monospace\" font-size=\"12\" text-anchor=\"start\" alignment-baseline=\"central\">1</text><text x=\"63.0\" y=\"675\" font-family=\"monospace\" font-size=\"12\" text-anchor=\"start\" alignment-baseline=\"central\">0</text></svg></p>', layout=Layout(height='550px', justify_content='center', overflow_x='auto', width='95%')), VBox(children=(Select(description='Dataset:', index=1, options=('Test', 'Train'), rows=1, value='Train'), IntSlider(value=0, continuous_update=False, description='Dataset index', layout=Layout(width='95%'), max=69999), HBox(children=(Button(icon='fast-backward', layout=Layout(width='100%'), style=ButtonStyle()), Button(icon='backward', layout=Layout(width='100%'), style=ButtonStyle()), Button(description='Train', layout=Layout(width='100%'), style=ButtonStyle()), Button(icon='forward', layout=Layout(width='100%'), style=ButtonStyle()), Button(icon='fast-forward', layout=Layout(width='100%'), style=ButtonStyle())), layout=Layout(height='50px', width='95%'))), layout=Layout(width='95%'))), layout=Layout(height='550px', width='95%')), HTML(value='<iframe src=\"https://conx.readthedocs.io\" width=\"100%\" height=\"550px\"></frame>', layout=Layout(height='550px', width='95%'))), _titles={'0': 'Network', '1': 'Help'})"
      ]
     },
     "metadata": {},
     "output_type": "display_data"
    }
   ],
   "source": [
    "net.dashboard()"
   ]
  },
  {
   "cell_type": "code",
   "execution_count": 20,
   "metadata": {},
   "outputs": [],
   "source": [
    "import numpy as np\n",
    "from conx import get_form\n",
    "image = np.random.rand(784).reshape((28, 28, 1))"
   ]
  },
  {
   "cell_type": "code",
   "execution_count": 21,
   "metadata": {},
   "outputs": [
    {
     "data": {
      "text/plain": [
       "[[[numbers.Number, 1], 28], 28]"
      ]
     },
     "execution_count": 21,
     "metadata": {},
     "output_type": "execute_result"
    }
   ],
   "source": [
    "get_form(net.propagate(image))"
   ]
  },
  {
   "cell_type": "code",
   "execution_count": 22,
   "metadata": {},
   "outputs": [
    {
     "data": {
      "text/plain": [
       "(28, 28)"
      ]
     },
     "execution_count": 22,
     "metadata": {},
     "output_type": "execute_result"
    }
   ],
   "source": [
    "output = net.propagate_to_image(\"output\", image)\n",
    "output.size"
   ]
  },
  {
   "cell_type": "code",
   "execution_count": 23,
   "metadata": {},
   "outputs": [
    {
     "data": {
      "text/plain": [
       "[0.0,\n",
       " 0.0,\n",
       " 0.1438884139060974,\n",
       " 0.3666132986545563,\n",
       " 0.10563445836305618,\n",
       " 0.19460301101207733,\n",
       " 0.4434424936771393,\n",
       " 0.0869302973151207,\n",
       " 0.2207506000995636,\n",
       " 0.0,\n",
       " 0.26851555705070496,\n",
       " 0.022466666996479034,\n",
       " 0.2725634276866913,\n",
       " 0.0,\n",
       " 0.0,\n",
       " 0.0,\n",
       " 0.0,\n",
       " 0.0,\n",
       " 0.049802228808403015,\n",
       " 0.14967532455921173,\n",
       " 0.0,\n",
       " 0.048789914697408676,\n",
       " 0.0,\n",
       " 0.2274349331855774,\n",
       " 0.07657880336046219]"
      ]
     },
     "execution_count": 23,
     "metadata": {},
     "output_type": "execute_result"
    }
   ],
   "source": [
    "net.propagate_to(\"hidden3\", image)"
   ]
  },
  {
   "cell_type": "code",
   "execution_count": 24,
   "metadata": {},
   "outputs": [],
   "source": [
    "net.dataset.slice(10)"
   ]
  },
  {
   "cell_type": "code",
   "execution_count": 25,
   "metadata": {},
   "outputs": [
    {
     "data": {
      "text/plain": [
       "[numbers.Number, 784]"
      ]
     },
     "execution_count": 25,
     "metadata": {},
     "output_type": "execute_result"
    }
   ],
   "source": [
    "get_form(net.dataset.train_targets[0])"
   ]
  },
  {
   "cell_type": "code",
   "execution_count": 26,
   "metadata": {},
   "outputs": [
    {
     "name": "stdout",
     "output_type": "stream",
     "text": [
      "Training...\n",
      "Epoch #  100 | train error 0.15547 | train accuracy 0.81773 | validate% 0.00000\n",
      "========================================================================\n",
      "Epoch #  189 | train error 0.07537 | train accuracy 0.82640 | validate% 0.50000\n"
     ]
    }
   ],
   "source": [
    "net.train(accuracy=0.5, epochs=1000, report_rate=100, tolerance=.4)"
   ]
  },
  {
   "cell_type": "code",
   "execution_count": 40,
   "metadata": {},
   "outputs": [],
   "source": [
    "for i in range(10):\n",
    "    net.propagate(net.dataset.inputs[i])"
   ]
  },
  {
   "cell_type": "code",
   "execution_count": 27,
   "metadata": {},
   "outputs": [
    {
     "name": "stdout",
     "output_type": "stream",
     "text": [
      "Testing on training dataset...\n",
      "# | inputs | targets | outputs | result\n",
      "---------------------------------------\n",
      "0 | [[[0.00],  [0.00],  [0.00],  [0.00],  [0.00],  [0.00],  [0.00],  [0.00],  [0.00],  [0.00],  [0.00],  [0.00],  [0.00],  [0.00],  [0.00],  [0.00],  [0.00],  [0.00],  [0.00],  [0.00],  [0.00],  [0.00],  [0.00],  [0.00],  [0.00],  [0.00],  [0.00],  [0.00]], [[0.00],  [0.00],  [0.00],  [0.00],  [0.00],  [0.00],  [0.00],  [0.00],  [0.00],  [0.00],  [0.00],  [0.00],  [0.00],  [0.00],  [0.00],  [0.00],  [0.00],  [0.00],  [0.00],  [0.00],  [0.00],  [0.00],  [0.00],  [0.00],  [0.00],  [0.00],  [0.00],  [0.00]], [[0.00],  [0.00],  [0.00],  [0.00],  [0.00],  [0.00],  [0.00],  [0.00],  [0.00],  [0.00],  [0.00],  [0.00],  [0.00],  [0.00],  [0.00],  [0.00],  [0.00],  [0.00],  [0.00],  [0.00],  [0.00],  [0.00],  [0.00],  [0.00],  [0.00],  [0.00],  [0.00],  [0.00]], [[0.00],  [0.00],  [0.00],  [0.00],  [0.00],  [0.00],  [0.00],  [0.00],  [0.00],  [0.00],  [0.00],  [0.00],  [0.00],  [0.00],  [0.00],  [0.00],  [0.00],  [0.00],  [0.00],  [0.00],  [0.00],  [0.00],  [0.00],  [0.00],  [0.00],  [0.00],  [0.00],  [0.00]], [[0.00],  [0.00],  [0.00],  [0.00],  [0.00],  [0.00],  [0.00],  [0.00],  [0.00],  [0.00],  [0.00],  [0.00],  [0.00],  [0.00],  [0.00],  [0.00],  [0.00],  [0.00],  [0.00],  [0.00],  [0.00],  [0.00],  [0.00],  [0.00],  [0.00],  [0.00],  [0.00],  [0.00]], [[0.00],  [0.00],  [0.00],  [0.00],  [0.00],  [0.00],  [0.00],  [0.00],  [0.00],  [0.00],  [0.00],  [0.00],  [0.01],  [0.07],  [0.07],  [0.07],  [0.49],  [0.53],  [0.69],  [0.10],  [0.65],  [1.00],  [0.97],  [0.50],  [0.00],  [0.00],  [0.00],  [0.00]], [[0.00],  [0.00],  [0.00],  [0.00],  [0.00],  [0.00],  [0.00],  [0.00],  [0.12],  [0.14],  [0.37],  [0.60],  [0.67],  [0.99],  [0.99],  [0.99],  [0.99],  [0.99],  [0.88],  [0.67],  [0.99],  [0.95],  [0.76],  [0.25],  [0.00],  [0.00],  [0.00],  [0.00]], [[0.00],  [0.00],  [0.00],  [0.00],  [0.00],  [0.00],  [0.00],  [0.19],  [0.93],  [0.99],  [0.99],  [0.99],  [0.99],  [0.99],  [0.99],  [0.99],  [0.99],  [0.98],  [0.36],  [0.32],  [0.32],  [0.22],  [0.15],  [0.00],  [0.00],  [0.00],  [0.00],  [0.00]], [[0.00],  [0.00],  [0.00],  [0.00],  [0.00],  [0.00],  [0.00],  [0.07],  [0.86],  [0.99],  [0.99],  [0.99],  [0.99],  [0.99],  [0.78],  [0.71],  [0.97],  [0.95],  [0.00],  [0.00],  [0.00],  [0.00],  [0.00],  [0.00],  [0.00],  [0.00],  [0.00],  [0.00]], [[0.00],  [0.00],  [0.00],  [0.00],  [0.00],  [0.00],  [0.00],  [0.00],  [0.31],  [0.61],  [0.42],  [0.99],  [0.99],  [0.80],  [0.04],  [0.00],  [0.17],  [0.60],  [0.00],  [0.00],  [0.00],  [0.00],  [0.00],  [0.00],  [0.00],  [0.00],  [0.00],  [0.00]], [[0.00],  [0.00],  [0.00],  [0.00],  [0.00],  [0.00],  [0.00],  [0.00],  [0.00],  [0.05],  [0.00],  [0.60],  [0.99],  [0.35],  [0.00],  [0.00],  [0.00],  [0.00],  [0.00],  [0.00],  [0.00],  [0.00],  [0.00],  [0.00],  [0.00],  [0.00],  [0.00],  [0.00]], [[0.00],  [0.00],  [0.00],  [0.00],  [0.00],  [0.00],  [0.00],  [0.00],  [0.00],  [0.00],  [0.00],  [0.55],  [0.99],  [0.75],  [0.01],  [0.00],  [0.00],  [0.00],  [0.00],  [0.00],  [0.00],  [0.00],  [0.00],  [0.00],  [0.00],  [0.00],  [0.00],  [0.00]], [[0.00],  [0.00],  [0.00],  [0.00],  [0.00],  [0.00],  [0.00],  [0.00],  [0.00],  [0.00],  [0.00],  [0.04],  [0.75],  [0.99],  [0.27],  [0.00],  [0.00],  [0.00],  [0.00],  [0.00],  [0.00],  [0.00],  [0.00],  [0.00],  [0.00],  [0.00],  [0.00],  [0.00]], [[0.00],  [0.00],  [0.00],  [0.00],  [0.00],  [0.00],  [0.00],  [0.00],  [0.00],  [0.00],  [0.00],  [0.00],  [0.14],  [0.95],  [0.88],  [0.63],  [0.42],  [0.00],  [0.00],  [0.00],  [0.00],  [0.00],  [0.00],  [0.00],  [0.00],  [0.00],  [0.00],  [0.00]], [[0.00],  [0.00],  [0.00],  [0.00],  [0.00],  [0.00],  [0.00],  [0.00],  [0.00],  [0.00],  [0.00],  [0.00],  [0.00],  [0.32],  [0.94],  [0.99],  [0.99],  [0.47],  [0.10],  [0.00],  [0.00],  [0.00],  [0.00],  [0.00],  [0.00],  [0.00],  [0.00],  [0.00]], [[0.00],  [0.00],  [0.00],  [0.00],  [0.00],  [0.00],  [0.00],  [0.00],  [0.00],  [0.00],  [0.00],  [0.00],  [0.00],  [0.00],  [0.18],  [0.73],  [0.99],  [0.99],  [0.59],  [0.11],  [0.00],  [0.00],  [0.00],  [0.00],  [0.00],  [0.00],  [0.00],  [0.00]], [[0.00],  [0.00],  [0.00],  [0.00],  [0.00],  [0.00],  [0.00],  [0.00],  [0.00],  [0.00],  [0.00],  [0.00],  [0.00],  [0.00],  [0.00],  [0.06],  [0.36],  [0.99],  [0.99],  [0.73],  [0.00],  [0.00],  [0.00],  [0.00],  [0.00],  [0.00],  [0.00],  [0.00]], [[0.00],  [0.00],  [0.00],  [0.00],  [0.00],  [0.00],  [0.00],  [0.00],  [0.00],  [0.00],  [0.00],  [0.00],  [0.00],  [0.00],  [0.00],  [0.00],  [0.00],  [0.98],  [0.99],  [0.98],  [0.25],  [0.00],  [0.00],  [0.00],  [0.00],  [0.00],  [0.00],  [0.00]], [[0.00],  [0.00],  [0.00],  [0.00],  [0.00],  [0.00],  [0.00],  [0.00],  [0.00],  [0.00],  [0.00],  [0.00],  [0.00],  [0.00],  [0.18],  [0.51],  [0.72],  [0.99],  [0.99],  [0.81],  [0.01],  [0.00],  [0.00],  [0.00],  [0.00],  [0.00],  [0.00],  [0.00]], [[0.00],  [0.00],  [0.00],  [0.00],  [0.00],  [0.00],  [0.00],  [0.00],  [0.00],  [0.00],  [0.00],  [0.00],  [0.15],  [0.58],  [0.90],  [0.99],  [0.99],  [0.99],  [0.98],  [0.71],  [0.00],  [0.00],  [0.00],  [0.00],  [0.00],  [0.00],  [0.00],  [0.00]], [[0.00],  [0.00],  [0.00],  [0.00],  [0.00],  [0.00],  [0.00],  [0.00],  [0.00],  [0.00],  [0.09],  [0.45],  [0.87],  [0.99],  [0.99],  [0.99],  [0.99],  [0.79],  [0.31],  [0.00],  [0.00],  [0.00],  [0.00],  [0.00],  [0.00],  [0.00],  [0.00],  [0.00]], [[0.00],  [0.00],  [0.00],  [0.00],  [0.00],  [0.00],  [0.00],  [0.00],  [0.09],  [0.26],  [0.84],  [0.99],  [0.99],  [0.99],  [0.99],  [0.78],  [0.32],  [0.01],  [0.00],  [0.00],  [0.00],  [0.00],  [0.00],  [0.00],  [0.00],  [0.00],  [0.00],  [0.00]], [[0.00],  [0.00],  [0.00],  [0.00],  [0.00],  [0.00],  [0.07],  [0.67],  [0.86],  [0.99],  [0.99],  [0.99],  [0.99],  [0.76],  [0.31],  [0.04],  [0.00],  [0.00],  [0.00],  [0.00],  [0.00],  [0.00],  [0.00],  [0.00],  [0.00],  [0.00],  [0.00],  [0.00]], [[0.00],  [0.00],  [0.00],  [0.00],  [0.22],  [0.67],  [0.89],  [0.99],  [0.99],  [0.99],  [0.99],  [0.96],  [0.52],  [0.04],  [0.00],  [0.00],  [0.00],  [0.00],  [0.00],  [0.00],  [0.00],  [0.00],  [0.00],  [0.00],  [0.00],  [0.00],  [0.00],  [0.00]], [[0.00],  [0.00],  [0.00],  [0.00],  [0.53],  [0.99],  [0.99],  [0.99],  [0.83],  [0.53],  [0.52],  [0.06],  [0.00],  [0.00],  [0.00],  [0.00],  [0.00],  [0.00],  [0.00],  [0.00],  [0.00],  [0.00],  [0.00],  [0.00],  [0.00],  [0.00],  [0.00],  [0.00]], [[0.00],  [0.00],  [0.00],  [0.00],  [0.00],  [0.00],  [0.00],  [0.00],  [0.00],  [0.00],  [0.00],  [0.00],  [0.00],  [0.00],  [0.00],  [0.00],  [0.00],  [0.00],  [0.00],  [0.00],  [0.00],  [0.00],  [0.00],  [0.00],  [0.00],  [0.00],  [0.00],  [0.00]], [[0.00],  [0.00],  [0.00],  [0.00],  [0.00],  [0.00],  [0.00],  [0.00],  [0.00],  [0.00],  [0.00],  [0.00],  [0.00],  [0.00],  [0.00],  [0.00],  [0.00],  [0.00],  [0.00],  [0.00],  [0.00],  [0.00],  [0.00],  [0.00],  [0.00],  [0.00],  [0.00],  [0.00]], [[0.00],  [0.00],  [0.00],  [0.00],  [0.00],  [0.00],  [0.00],  [0.00],  [0.00],  [0.00],  [0.00],  [0.00],  [0.00],  [0.00],  [0.00],  [0.00],  [0.00],  [0.00],  [0.00],  [0.00],  [0.00],  [0.00],  [0.00],  [0.00],  [0.00],  [0.00],  [0.00],  [0.00]]] | [0.00,0.00,0.00,0.00,0.00,0.00,0.00,0.00,0.00,0.00,0.00,0.00,0.00,0.00,0.00, 0.00,0.00,0.00,0.00,0.00,0.00,0.00,0.00,0.00,0.00,0.00,0.00,0.00,0.00,0.00, 0.00,0.00,0.00,0.00,0.00,0.00,0.00,0.00,0.00,0.00,0.00,0.00,0.00,0.00,0.00, 0.00,0.00,0.00,0.00,0.00,0.00,0.00,0.00,0.00,0.00,0.00,0.00,0.00,0.00,0.00, 0.00,0.00,0.00,0.00,0.00,0.00,0.00,0.00,0.00,0.00,0.00,0.00,0.00,0.00,0.00, 0.00,0.00,0.00,0.00,0.00,0.00,0.00,0.00,0.00,0.00,0.00,0.00,0.00,0.00,0.00, 0.00,0.00,0.00,0.00,0.00,0.00,0.00,0.00,0.00,0.00,0.00,0.00,0.00,0.00,0.00, 0.00,0.00,0.00,0.00,0.00,0.00,0.00,0.00,0.00,0.00,0.00,0.00,0.00,0.00,0.00, 0.00,0.00,0.00,0.00,0.00,0.00,0.00,0.00,0.00,0.00,0.00,0.00,0.00,0.00,0.00, 0.00,0.00,0.00,0.00,0.00,0.00,0.00,0.00,0.00,0.00,0.00,0.00,0.00,0.00,0.00, 0.00,0.00,0.01,0.07,0.07,0.07,0.49,0.53,0.69,0.10,0.65,1.00,0.97,0.50,0.00, 0.00,0.00,0.00,0.00,0.00,0.00,0.00,0.00,0.00,0.00,0.00,0.12,0.14,0.37,0.60, 0.67,0.99,0.99,0.99,0.99,0.99,0.88,0.67,0.99,0.95,0.76,0.25,0.00,0.00,0.00, 0.00,0.00,0.00,0.00,0.00,0.00,0.00,0.00,0.19,0.93,0.99,0.99,0.99,0.99,0.99, 0.99,0.99,0.99,0.98,0.36,0.32,0.32,0.22,0.15,0.00,0.00,0.00,0.00,0.00,0.00, 0.00,0.00,0.00,0.00,0.00,0.00,0.07,0.86,0.99,0.99,0.99,0.99,0.99,0.78,0.71, 0.97,0.95,0.00,0.00,0.00,0.00,0.00,0.00,0.00,0.00,0.00,0.00,0.00,0.00,0.00, 0.00,0.00,0.00,0.00,0.00,0.31,0.61,0.42,0.99,0.99,0.80,0.04,0.00,0.17,0.60, 0.00,0.00,0.00,0.00,0.00,0.00,0.00,0.00,0.00,0.00,0.00,0.00,0.00,0.00,0.00, 0.00,0.00,0.00,0.00,0.05,0.00,0.60,0.99,0.35,0.00,0.00,0.00,0.00,0.00,0.00, 0.00,0.00,0.00,0.00,0.00,0.00,0.00,0.00,0.00,0.00,0.00,0.00,0.00,0.00,0.00, 0.00,0.00,0.00,0.00,0.55,0.99,0.75,0.01,0.00,0.00,0.00,0.00,0.00,0.00,0.00, 0.00,0.00,0.00,0.00,0.00,0.00,0.00,0.00,0.00,0.00,0.00,0.00,0.00,0.00,0.00, 0.00,0.00,0.04,0.75,0.99,0.27,0.00,0.00,0.00,0.00,0.00,0.00,0.00,0.00,0.00, 0.00,0.00,0.00,0.00,0.00,0.00,0.00,0.00,0.00,0.00,0.00,0.00,0.00,0.00,0.00, 0.00,0.14,0.95,0.88,0.63,0.42,0.00,0.00,0.00,0.00,0.00,0.00,0.00,0.00,0.00, 0.00,0.00,0.00,0.00,0.00,0.00,0.00,0.00,0.00,0.00,0.00,0.00,0.00,0.00,0.00, 0.32,0.94,0.99,0.99,0.47,0.10,0.00,0.00,0.00,0.00,0.00,0.00,0.00,0.00,0.00, 0.00,0.00,0.00,0.00,0.00,0.00,0.00,0.00,0.00,0.00,0.00,0.00,0.00,0.00,0.18, 0.73,0.99,0.99,0.59,0.11,0.00,0.00,0.00,0.00,0.00,0.00,0.00,0.00,0.00,0.00, 0.00,0.00,0.00,0.00,0.00,0.00,0.00,0.00,0.00,0.00,0.00,0.00,0.00,0.06,0.36, 0.99,0.99,0.73,0.00,0.00,0.00,0.00,0.00,0.00,0.00,0.00,0.00,0.00,0.00,0.00, 0.00,0.00,0.00,0.00,0.00,0.00,0.00,0.00,0.00,0.00,0.00,0.00,0.00,0.98,0.99, 0.98,0.25,0.00,0.00,0.00,0.00,0.00,0.00,0.00,0.00,0.00,0.00,0.00,0.00,0.00, 0.00,0.00,0.00,0.00,0.00,0.00,0.00,0.00,0.18,0.51,0.72,0.99,0.99,0.81,0.01, 0.00,0.00,0.00,0.00,0.00,0.00,0.00,0.00,0.00,0.00,0.00,0.00,0.00,0.00,0.00, 0.00,0.00,0.00,0.00,0.15,0.58,0.90,0.99,0.99,0.99,0.98,0.71,0.00,0.00,0.00, 0.00,0.00,0.00,0.00,0.00,0.00,0.00,0.00,0.00,0.00,0.00,0.00,0.00,0.00,0.00, 0.09,0.45,0.87,0.99,0.99,0.99,0.99,0.79,0.31,0.00,0.00,0.00,0.00,0.00,0.00, 0.00,0.00,0.00,0.00,0.00,0.00,0.00,0.00,0.00,0.00,0.00,0.09,0.26,0.84,0.99, 0.99,0.99,0.99,0.78,0.32,0.01,0.00,0.00,0.00,0.00,0.00,0.00,0.00,0.00,0.00, 0.00,0.00,0.00,0.00,0.00,0.00,0.00,0.07,0.67,0.86,0.99,0.99,0.99,0.99,0.76, 0.31,0.04,0.00,0.00,0.00,0.00,0.00,0.00,0.00,0.00,0.00,0.00,0.00,0.00,0.00, 0.00,0.00,0.00,0.22,0.67,0.89,0.99,0.99,0.99,0.99,0.96,0.52,0.04,0.00,0.00, 0.00,0.00,0.00,0.00,0.00,0.00,0.00,0.00,0.00,0.00,0.00,0.00,0.00,0.00,0.00, 0.00,0.53,0.99,0.99,0.99,0.83,0.53,0.52,0.06,0.00,0.00,0.00,0.00,0.00,0.00, 0.00,0.00,0.00,0.00,0.00,0.00,0.00,0.00,0.00,0.00,0.00,0.00,0.00,0.00,0.00, 0.00,0.00,0.00,0.00,0.00,0.00,0.00,0.00,0.00,0.00,0.00,0.00,0.00,0.00,0.00, 0.00,0.00,0.00,0.00,0.00,0.00,0.00,0.00,0.00,0.00,0.00,0.00,0.00,0.00,0.00, 0.00,0.00,0.00,0.00,0.00,0.00,0.00,0.00,0.00,0.00,0.00,0.00,0.00,0.00,0.00, 0.00,0.00,0.00,0.00,0.00,0.00,0.00,0.00,0.00,0.00,0.00,0.00,0.00,0.00,0.00, 0.00,0.00,0.00,0.00,0.00,0.00,0.00,0.00,0.00,0.00,0.00,0.00,0.00,0.00,0.00, 0.00,0.00,0.00,0.00] | [0.00,0.00,0.00,0.00,0.00,0.00,0.00,0.00,0.00,0.00,0.00,0.00,0.00,0.00,0.00, 0.00,0.00,0.00,0.00,0.00,0.00,0.00,0.00,0.00,0.00,0.00,0.00,0.00,0.00,0.00, 0.00,0.00,0.00,0.00,0.00,0.00,0.00,0.00,0.00,0.00,0.00,0.00,0.00,0.00,0.00, 0.00,0.00,0.00,0.00,0.00,0.00,0.00,0.00,0.00,0.00,0.00,0.00,0.00,0.00,0.00, 0.00,0.00,0.00,0.00,0.00,0.00,0.00,0.00,0.00,0.00,0.00,0.00,0.00,0.00,0.00, 0.00,0.00,0.00,0.00,0.00,0.00,0.00,0.00,0.00,0.00,0.00,0.00,0.00,0.00,0.00, 0.00,0.00,0.00,0.00,0.00,0.00,0.00,0.00,0.00,0.00,0.00,0.00,0.00,0.00,0.00, 0.00,0.00,0.00,0.00,0.00,0.00,0.00,0.00,0.00,0.00,0.00,0.00,0.00,0.00,0.00, 0.00,0.00,0.00,0.00,0.01,0.01,0.00,0.01,0.00,0.01,0.00,0.00,0.00,0.00,0.00, 0.00,0.00,0.00,0.00,0.00,0.00,0.00,0.00,0.00,0.00,0.00,0.00,0.00,0.00,0.00, 0.00,0.06,0.15,0.32,0.48,0.48,0.50,0.51,0.71,0.15,0.67,0.88,0.76,0.37,0.00, 0.00,0.00,0.00,0.00,0.00,0.00,0.00,0.00,0.00,0.00,0.00,0.11,0.11,0.34,0.62, 0.74,1.00,1.00,1.00,0.98,0.96,0.89,0.69,0.97,0.90,0.63,0.18,0.00,0.00,0.00, 0.00,0.00,0.00,0.00,0.00,0.00,0.00,0.00,0.18,0.91,0.94,0.96,0.97,0.97,0.99, 0.99,0.87,0.90,0.88,0.36,0.33,0.33,0.29,0.13,0.00,0.00,0.00,0.00,0.00,0.00, 0.00,0.00,0.00,0.00,0.00,0.00,0.05,0.83,0.90,0.94,0.91,0.89,0.90,0.80,0.71, 0.89,0.90,0.00,0.01,0.20,0.14,0.01,0.00,0.00,0.00,0.00,0.00,0.00,0.00,0.00, 0.00,0.00,0.00,0.00,0.00,0.30,0.44,0.17,0.86,0.89,0.78,0.13,0.05,0.24,0.48, 0.00,0.00,0.27,0.08,0.01,0.00,0.00,0.00,0.00,0.00,0.00,0.00,0.00,0.00,0.00, 0.00,0.00,0.00,0.00,0.00,0.00,0.45,0.95,0.49,0.04,0.11,0.02,0.01,0.00,0.00, 0.10,0.13,0.00,0.00,0.00,0.00,0.00,0.00,0.00,0.00,0.00,0.00,0.00,0.00,0.00, 0.00,0.00,0.00,0.00,0.38,0.79,0.81,0.02,0.04,0.02,0.02,0.00,0.00,0.11,0.07, 0.00,0.00,0.00,0.00,0.00,0.00,0.00,0.00,0.00,0.00,0.00,0.00,0.00,0.00,0.00, 0.00,0.00,0.03,0.54,0.96,0.42,0.20,0.07,0.01,0.01,0.01,0.07,0.05,0.00,0.00, 0.00,0.00,0.00,0.00,0.00,0.00,0.00,0.00,0.00,0.00,0.00,0.00,0.00,0.02,0.09, 0.05,0.13,0.82,0.90,0.59,0.32,0.02,0.01,0.01,0.05,0.00,0.00,0.00,0.00,0.00, 0.00,0.00,0.00,0.00,0.00,0.00,0.00,0.00,0.00,0.00,0.03,0.21,0.06,0.10,0.02, 0.31,0.94,0.90,0.79,0.43,0.05,0.00,0.03,0.01,0.00,0.00,0.00,0.00,0.00,0.00, 0.00,0.00,0.00,0.00,0.00,0.00,0.02,0.00,0.03,0.08,0.01,0.00,0.01,0.05,0.28, 0.67,0.90,0.93,0.57,0.12,0.01,0.02,0.00,0.00,0.00,0.00,0.00,0.00,0.00,0.00, 0.00,0.00,0.00,0.00,0.03,0.01,0.00,0.00,0.00,0.01,0.01,0.22,0.09,0.05,0.32, 0.96,0.94,0.62,0.00,0.00,0.00,0.00,0.00,0.00,0.00,0.00,0.00,0.00,0.00,0.00, 0.00,0.00,0.01,0.02,0.00,0.00,0.00,0.00,0.00,0.07,0.00,0.00,0.02,0.97,0.98, 0.90,0.04,0.00,0.00,0.00,0.00,0.00,0.00,0.00,0.00,0.00,0.00,0.00,0.00,0.00, 0.00,0.00,0.00,0.00,0.00,0.00,0.00,0.02,0.04,0.38,0.74,1.00,1.00,0.70,0.00, 0.00,0.00,0.00,0.00,0.00,0.00,0.00,0.00,0.00,0.00,0.00,0.00,0.00,0.00,0.01, 0.00,0.00,0.00,0.00,0.01,0.46,0.78,0.96,1.00,1.00,0.99,0.68,0.00,0.00,0.00, 0.00,0.00,0.00,0.00,0.00,0.00,0.00,0.00,0.00,0.00,0.00,0.01,0.01,0.00,0.00, 0.00,0.28,0.58,0.75,0.88,0.99,1.00,1.00,0.58,0.02,0.00,0.00,0.00,0.00,0.00, 0.00,0.00,0.00,0.00,0.00,0.00,0.00,0.00,0.00,0.02,0.01,0.02,0.15,0.82,0.80, 0.88,0.89,0.97,0.84,0.59,0.25,0.19,0.00,0.00,0.00,0.00,0.00,0.00,0.00,0.00, 0.00,0.00,0.00,0.00,0.00,0.00,0.01,0.08,0.67,0.85,0.98,1.00,1.00,0.98,0.73, 0.28,0.23,0.13,0.02,0.00,0.00,0.00,0.00,0.00,0.00,0.00,0.00,0.00,0.00,0.00, 0.00,0.00,0.00,0.21,0.64,0.87,0.98,0.98,0.98,1.00,0.99,0.54,0.03,0.05,0.01, 0.00,0.01,0.00,0.00,0.00,0.00,0.00,0.00,0.00,0.00,0.00,0.00,0.00,0.00,0.00, 0.00,0.51,0.94,0.91,0.90,0.81,0.48,0.48,0.03,0.00,0.00,0.00,0.00,0.00,0.00, 0.00,0.00,0.00,0.00,0.00,0.00,0.00,0.00,0.00,0.00,0.00,0.00,0.00,0.00,0.00, 0.00,0.00,0.00,0.00,0.00,0.00,0.00,0.00,0.00,0.00,0.00,0.00,0.00,0.00,0.00, 0.00,0.00,0.00,0.00,0.00,0.00,0.00,0.00,0.00,0.00,0.00,0.00,0.00,0.00,0.00, 0.00,0.00,0.00,0.00,0.00,0.00,0.00,0.00,0.00,0.00,0.00,0.00,0.00,0.00,0.00, 0.00,0.00,0.00,0.00,0.00,0.00,0.00,0.00,0.00,0.00,0.00,0.00,0.00,0.00,0.00, 0.00,0.00,0.00,0.00,0.00,0.00,0.00,0.00,0.00,0.00,0.00,0.00,0.00,0.00,0.00, 0.00,0.00,0.00,0.00] | correct\n",
      "1 | [[[0.00],  [0.00],  [0.00],  [0.00],  [0.00],  [0.00],  [0.00],  [0.00],  [0.00],  [0.00],  [0.00],  [0.00],  [0.00],  [0.00],  [0.00],  [0.00],  [0.00],  [0.00],  [0.00],  [0.00],  [0.00],  [0.00],  [0.00],  [0.00],  [0.00],  [0.00],  [0.00],  [0.00]], [[0.00],  [0.00],  [0.00],  [0.00],  [0.00],  [0.00],  [0.00],  [0.00],  [0.00],  [0.00],  [0.00],  [0.00],  [0.00],  [0.00],  [0.00],  [0.00],  [0.00],  [0.00],  [0.00],  [0.00],  [0.00],  [0.00],  [0.00],  [0.00],  [0.00],  [0.00],  [0.00],  [0.00]], [[0.00],  [0.00],  [0.00],  [0.00],  [0.00],  [0.00],  [0.00],  [0.00],  [0.00],  [0.00],  [0.00],  [0.00],  [0.00],  [0.00],  [0.00],  [0.00],  [0.00],  [0.00],  [0.00],  [0.00],  [0.00],  [0.00],  [0.00],  [0.00],  [0.00],  [0.00],  [0.00],  [0.00]], [[0.00],  [0.00],  [0.00],  [0.00],  [0.00],  [0.00],  [0.00],  [0.00],  [0.00],  [0.00],  [0.00],  [0.00],  [0.00],  [0.00],  [0.00],  [0.00],  [0.00],  [0.00],  [0.00],  [0.00],  [0.00],  [0.00],  [0.00],  [0.00],  [0.00],  [0.00],  [0.00],  [0.00]], [[0.00],  [0.00],  [0.00],  [0.00],  [0.00],  [0.00],  [0.00],  [0.00],  [0.00],  [0.00],  [0.00],  [0.00],  [0.00],  [0.00],  [0.00],  [0.20],  [0.62],  [0.99],  [0.62],  [0.20],  [0.00],  [0.00],  [0.00],  [0.00],  [0.00],  [0.00],  [0.00],  [0.00]], [[0.00],  [0.00],  [0.00],  [0.00],  [0.00],  [0.00],  [0.00],  [0.00],  [0.00],  [0.00],  [0.00],  [0.00],  [0.00],  [0.00],  [0.19],  [0.93],  [0.99],  [0.99],  [0.99],  [0.93],  [0.00],  [0.00],  [0.00],  [0.00],  [0.00],  [0.00],  [0.00],  [0.00]], [[0.00],  [0.00],  [0.00],  [0.00],  [0.00],  [0.00],  [0.00],  [0.00],  [0.00],  [0.00],  [0.00],  [0.00],  [0.00],  [0.21],  [0.89],  [0.99],  [0.99],  [0.94],  [0.91],  [0.99],  [0.22],  [0.02],  [0.00],  [0.00],  [0.00],  [0.00],  [0.00],  [0.00]], [[0.00],  [0.00],  [0.00],  [0.00],  [0.00],  [0.00],  [0.00],  [0.00],  [0.00],  [0.00],  [0.00],  [0.04],  [0.24],  [0.88],  [0.99],  [0.99],  [0.99],  [0.79],  [0.33],  [0.99],  [0.99],  [0.48],  [0.00],  [0.00],  [0.00],  [0.00],  [0.00],  [0.00]], [[0.00],  [0.00],  [0.00],  [0.00],  [0.00],  [0.00],  [0.00],  [0.00],  [0.00],  [0.00],  [0.00],  [0.64],  [0.99],  [0.99],  [0.99],  [0.99],  [0.99],  [0.99],  [0.38],  [0.74],  [0.99],  [0.65],  [0.00],  [0.00],  [0.00],  [0.00],  [0.00],  [0.00]], [[0.00],  [0.00],  [0.00],  [0.00],  [0.00],  [0.00],  [0.00],  [0.00],  [0.00],  [0.00],  [0.20],  [0.93],  [0.99],  [0.99],  [0.75],  [0.45],  [0.99],  [0.89],  [0.18],  [0.31],  [1.00],  [0.66],  [0.00],  [0.00],  [0.00],  [0.00],  [0.00],  [0.00]], [[0.00],  [0.00],  [0.00],  [0.00],  [0.00],  [0.00],  [0.00],  [0.00],  [0.00],  [0.19],  [0.93],  [0.99],  [0.99],  [0.70],  [0.05],  [0.29],  [0.47],  [0.08],  [0.00],  [0.00],  [0.99],  [0.95],  [0.20],  [0.00],  [0.00],  [0.00],  [0.00],  [0.00]], [[0.00],  [0.00],  [0.00],  [0.00],  [0.00],  [0.00],  [0.00],  [0.00],  [0.15],  [0.65],  [0.99],  [0.91],  [0.82],  [0.33],  [0.00],  [0.00],  [0.00],  [0.00],  [0.00],  [0.00],  [0.99],  [0.99],  [0.65],  [0.00],  [0.00],  [0.00],  [0.00],  [0.00]], [[0.00],  [0.00],  [0.00],  [0.00],  [0.00],  [0.00],  [0.00],  [0.03],  [0.70],  [0.99],  [0.94],  [0.28],  [0.07],  [0.11],  [0.00],  [0.00],  [0.00],  [0.00],  [0.00],  [0.00],  [0.99],  [0.99],  [0.76],  [0.00],  [0.00],  [0.00],  [0.00],  [0.00]], [[0.00],  [0.00],  [0.00],  [0.00],  [0.00],  [0.00],  [0.00],  [0.22],  [0.99],  [0.99],  [0.25],  [0.00],  [0.00],  [0.00],  [0.00],  [0.00],  [0.00],  [0.00],  [0.00],  [0.00],  [0.99],  [0.99],  [0.76],  [0.00],  [0.00],  [0.00],  [0.00],  [0.00]], [[0.00],  [0.00],  [0.00],  [0.00],  [0.00],  [0.00],  [0.00],  [0.78],  [0.99],  [0.75],  [0.00],  [0.00],  [0.00],  [0.00],  [0.00],  [0.00],  [0.00],  [0.00],  [0.00],  [0.00],  [1.00],  [0.99],  [0.77],  [0.00],  [0.00],  [0.00],  [0.00],  [0.00]], [[0.00],  [0.00],  [0.00],  [0.00],  [0.00],  [0.00],  [0.30],  [0.96],  [0.99],  [0.44],  [0.00],  [0.00],  [0.00],  [0.00],  [0.00],  [0.00],  [0.00],  [0.00],  [0.00],  [0.00],  [0.99],  [0.99],  [0.58],  [0.00],  [0.00],  [0.00],  [0.00],  [0.00]], [[0.00],  [0.00],  [0.00],  [0.00],  [0.00],  [0.00],  [0.33],  [0.99],  [0.90],  [0.10],  [0.00],  [0.00],  [0.00],  [0.00],  [0.00],  [0.00],  [0.00],  [0.00],  [0.03],  [0.53],  [0.99],  [0.73],  [0.05],  [0.00],  [0.00],  [0.00],  [0.00],  [0.00]], [[0.00],  [0.00],  [0.00],  [0.00],  [0.00],  [0.00],  [0.33],  [0.99],  [0.87],  [0.00],  [0.00],  [0.00],  [0.00],  [0.00],  [0.00],  [0.00],  [0.00],  [0.03],  [0.51],  [0.99],  [0.88],  [0.28],  [0.00],  [0.00],  [0.00],  [0.00],  [0.00],  [0.00]], [[0.00],  [0.00],  [0.00],  [0.00],  [0.00],  [0.00],  [0.33],  [0.99],  [0.57],  [0.00],  [0.00],  [0.00],  [0.00],  [0.00],  [0.00],  [0.00],  [0.19],  [0.65],  [0.99],  [0.68],  [0.00],  [0.00],  [0.00],  [0.00],  [0.00],  [0.00],  [0.00],  [0.00]], [[0.00],  [0.00],  [0.00],  [0.00],  [0.00],  [0.00],  [0.34],  [0.99],  [0.88],  [0.00],  [0.00],  [0.00],  [0.00],  [0.00],  [0.00],  [0.45],  [0.93],  [0.99],  [0.64],  [0.00],  [0.00],  [0.00],  [0.00],  [0.00],  [0.00],  [0.00],  [0.00],  [0.00]], [[0.00],  [0.00],  [0.00],  [0.00],  [0.00],  [0.00],  [0.33],  [0.99],  [0.98],  [0.57],  [0.19],  [0.11],  [0.33],  [0.70],  [0.88],  [0.99],  [0.87],  [0.65],  [0.22],  [0.00],  [0.00],  [0.00],  [0.00],  [0.00],  [0.00],  [0.00],  [0.00],  [0.00]], [[0.00],  [0.00],  [0.00],  [0.00],  [0.00],  [0.00],  [0.33],  [0.99],  [0.99],  [0.99],  [0.90],  [0.84],  [0.99],  [0.99],  [0.99],  [0.77],  [0.51],  [0.00],  [0.00],  [0.00],  [0.00],  [0.00],  [0.00],  [0.00],  [0.00],  [0.00],  [0.00],  [0.00]], [[0.00],  [0.00],  [0.00],  [0.00],  [0.00],  [0.00],  [0.11],  [0.78],  [0.99],  [0.99],  [0.99],  [0.99],  [0.99],  [0.91],  [0.57],  [0.00],  [0.00],  [0.00],  [0.00],  [0.00],  [0.00],  [0.00],  [0.00],  [0.00],  [0.00],  [0.00],  [0.00],  [0.00]], [[0.00],  [0.00],  [0.00],  [0.00],  [0.00],  [0.00],  [0.00],  [0.10],  [0.50],  [0.99],  [0.99],  [0.99],  [0.55],  [0.15],  [0.00],  [0.00],  [0.00],  [0.00],  [0.00],  [0.00],  [0.00],  [0.00],  [0.00],  [0.00],  [0.00],  [0.00],  [0.00],  [0.00]], [[0.00],  [0.00],  [0.00],  [0.00],  [0.00],  [0.00],  [0.00],  [0.00],  [0.00],  [0.00],  [0.00],  [0.00],  [0.00],  [0.00],  [0.00],  [0.00],  [0.00],  [0.00],  [0.00],  [0.00],  [0.00],  [0.00],  [0.00],  [0.00],  [0.00],  [0.00],  [0.00],  [0.00]], [[0.00],  [0.00],  [0.00],  [0.00],  [0.00],  [0.00],  [0.00],  [0.00],  [0.00],  [0.00],  [0.00],  [0.00],  [0.00],  [0.00],  [0.00],  [0.00],  [0.00],  [0.00],  [0.00],  [0.00],  [0.00],  [0.00],  [0.00],  [0.00],  [0.00],  [0.00],  [0.00],  [0.00]], [[0.00],  [0.00],  [0.00],  [0.00],  [0.00],  [0.00],  [0.00],  [0.00],  [0.00],  [0.00],  [0.00],  [0.00],  [0.00],  [0.00],  [0.00],  [0.00],  [0.00],  [0.00],  [0.00],  [0.00],  [0.00],  [0.00],  [0.00],  [0.00],  [0.00],  [0.00],  [0.00],  [0.00]], [[0.00],  [0.00],  [0.00],  [0.00],  [0.00],  [0.00],  [0.00],  [0.00],  [0.00],  [0.00],  [0.00],  [0.00],  [0.00],  [0.00],  [0.00],  [0.00],  [0.00],  [0.00],  [0.00],  [0.00],  [0.00],  [0.00],  [0.00],  [0.00],  [0.00],  [0.00],  [0.00],  [0.00]]] | [0.00,0.00,0.00,0.00,0.00,0.00,0.00,0.00,0.00,0.00,0.00,0.00,0.00,0.00,0.00, 0.00,0.00,0.00,0.00,0.00,0.00,0.00,0.00,0.00,0.00,0.00,0.00,0.00,0.00,0.00, 0.00,0.00,0.00,0.00,0.00,0.00,0.00,0.00,0.00,0.00,0.00,0.00,0.00,0.00,0.00, 0.00,0.00,0.00,0.00,0.00,0.00,0.00,0.00,0.00,0.00,0.00,0.00,0.00,0.00,0.00, 0.00,0.00,0.00,0.00,0.00,0.00,0.00,0.00,0.00,0.00,0.00,0.00,0.00,0.00,0.00, 0.00,0.00,0.00,0.00,0.00,0.00,0.00,0.00,0.00,0.00,0.00,0.00,0.00,0.00,0.00, 0.00,0.00,0.00,0.00,0.00,0.00,0.00,0.00,0.00,0.00,0.00,0.00,0.00,0.00,0.00, 0.00,0.00,0.00,0.00,0.00,0.00,0.00,0.00,0.00,0.00,0.00,0.00,0.00,0.00,0.00, 0.00,0.00,0.00,0.00,0.00,0.00,0.00,0.20,0.62,0.99,0.62,0.20,0.00,0.00,0.00, 0.00,0.00,0.00,0.00,0.00,0.00,0.00,0.00,0.00,0.00,0.00,0.00,0.00,0.00,0.00, 0.00,0.00,0.00,0.00,0.19,0.93,0.99,0.99,0.99,0.93,0.00,0.00,0.00,0.00,0.00, 0.00,0.00,0.00,0.00,0.00,0.00,0.00,0.00,0.00,0.00,0.00,0.00,0.00,0.00,0.00, 0.00,0.21,0.89,0.99,0.99,0.94,0.91,0.99,0.22,0.02,0.00,0.00,0.00,0.00,0.00, 0.00,0.00,0.00,0.00,0.00,0.00,0.00,0.00,0.00,0.00,0.00,0.00,0.04,0.24,0.88, 0.99,0.99,0.99,0.79,0.33,0.99,0.99,0.48,0.00,0.00,0.00,0.00,0.00,0.00,0.00, 0.00,0.00,0.00,0.00,0.00,0.00,0.00,0.00,0.00,0.00,0.64,0.99,0.99,0.99,0.99, 0.99,0.99,0.38,0.74,0.99,0.65,0.00,0.00,0.00,0.00,0.00,0.00,0.00,0.00,0.00, 0.00,0.00,0.00,0.00,0.00,0.00,0.00,0.20,0.93,0.99,0.99,0.75,0.45,0.99,0.89, 0.18,0.31,1.00,0.66,0.00,0.00,0.00,0.00,0.00,0.00,0.00,0.00,0.00,0.00,0.00, 0.00,0.00,0.00,0.00,0.19,0.93,0.99,0.99,0.70,0.05,0.29,0.47,0.08,0.00,0.00, 0.99,0.95,0.20,0.00,0.00,0.00,0.00,0.00,0.00,0.00,0.00,0.00,0.00,0.00,0.00, 0.00,0.15,0.65,0.99,0.91,0.82,0.33,0.00,0.00,0.00,0.00,0.00,0.00,0.99,0.99, 0.65,0.00,0.00,0.00,0.00,0.00,0.00,0.00,0.00,0.00,0.00,0.00,0.00,0.03,0.70, 0.99,0.94,0.28,0.07,0.11,0.00,0.00,0.00,0.00,0.00,0.00,0.99,0.99,0.76,0.00, 0.00,0.00,0.00,0.00,0.00,0.00,0.00,0.00,0.00,0.00,0.00,0.22,0.99,0.99,0.25, 0.00,0.00,0.00,0.00,0.00,0.00,0.00,0.00,0.00,0.99,0.99,0.76,0.00,0.00,0.00, 0.00,0.00,0.00,0.00,0.00,0.00,0.00,0.00,0.00,0.78,0.99,0.75,0.00,0.00,0.00, 0.00,0.00,0.00,0.00,0.00,0.00,0.00,1.00,0.99,0.77,0.00,0.00,0.00,0.00,0.00, 0.00,0.00,0.00,0.00,0.00,0.00,0.30,0.96,0.99,0.44,0.00,0.00,0.00,0.00,0.00, 0.00,0.00,0.00,0.00,0.00,0.99,0.99,0.58,0.00,0.00,0.00,0.00,0.00,0.00,0.00, 0.00,0.00,0.00,0.00,0.33,0.99,0.90,0.10,0.00,0.00,0.00,0.00,0.00,0.00,0.00, 0.00,0.03,0.53,0.99,0.73,0.05,0.00,0.00,0.00,0.00,0.00,0.00,0.00,0.00,0.00, 0.00,0.00,0.33,0.99,0.87,0.00,0.00,0.00,0.00,0.00,0.00,0.00,0.00,0.03,0.51, 0.99,0.88,0.28,0.00,0.00,0.00,0.00,0.00,0.00,0.00,0.00,0.00,0.00,0.00,0.00, 0.33,0.99,0.57,0.00,0.00,0.00,0.00,0.00,0.00,0.00,0.19,0.65,0.99,0.68,0.00, 0.00,0.00,0.00,0.00,0.00,0.00,0.00,0.00,0.00,0.00,0.00,0.00,0.00,0.34,0.99, 0.88,0.00,0.00,0.00,0.00,0.00,0.00,0.45,0.93,0.99,0.64,0.00,0.00,0.00,0.00, 0.00,0.00,0.00,0.00,0.00,0.00,0.00,0.00,0.00,0.00,0.00,0.33,0.99,0.98,0.57, 0.19,0.11,0.33,0.70,0.88,0.99,0.87,0.65,0.22,0.00,0.00,0.00,0.00,0.00,0.00, 0.00,0.00,0.00,0.00,0.00,0.00,0.00,0.00,0.00,0.33,0.99,0.99,0.99,0.90,0.84, 0.99,0.99,0.99,0.77,0.51,0.00,0.00,0.00,0.00,0.00,0.00,0.00,0.00,0.00,0.00, 0.00,0.00,0.00,0.00,0.00,0.00,0.00,0.11,0.78,0.99,0.99,0.99,0.99,0.99,0.91, 0.57,0.00,0.00,0.00,0.00,0.00,0.00,0.00,0.00,0.00,0.00,0.00,0.00,0.00,0.00, 0.00,0.00,0.00,0.00,0.00,0.00,0.10,0.50,0.99,0.99,0.99,0.55,0.15,0.00,0.00, 0.00,0.00,0.00,0.00,0.00,0.00,0.00,0.00,0.00,0.00,0.00,0.00,0.00,0.00,0.00, 0.00,0.00,0.00,0.00,0.00,0.00,0.00,0.00,0.00,0.00,0.00,0.00,0.00,0.00,0.00, 0.00,0.00,0.00,0.00,0.00,0.00,0.00,0.00,0.00,0.00,0.00,0.00,0.00,0.00,0.00, 0.00,0.00,0.00,0.00,0.00,0.00,0.00,0.00,0.00,0.00,0.00,0.00,0.00,0.00,0.00, 0.00,0.00,0.00,0.00,0.00,0.00,0.00,0.00,0.00,0.00,0.00,0.00,0.00,0.00,0.00, 0.00,0.00,0.00,0.00,0.00,0.00,0.00,0.00,0.00,0.00,0.00,0.00,0.00,0.00,0.00, 0.00,0.00,0.00,0.00,0.00,0.00,0.00,0.00,0.00,0.00,0.00,0.00,0.00,0.00,0.00, 0.00,0.00,0.00,0.00,0.00,0.00,0.00,0.00,0.00,0.00,0.00,0.00,0.00,0.00,0.00, 0.00,0.00,0.00,0.00] | [0.00,0.00,0.00,0.00,0.00,0.00,0.00,0.00,0.00,0.00,0.00,0.00,0.00,0.00,0.00, 0.00,0.00,0.00,0.00,0.00,0.00,0.00,0.00,0.00,0.00,0.00,0.00,0.00,0.00,0.00, 0.00,0.00,0.00,0.00,0.00,0.00,0.00,0.00,0.00,0.00,0.00,0.00,0.00,0.00,0.00, 0.00,0.00,0.00,0.00,0.00,0.00,0.00,0.00,0.00,0.00,0.00,0.00,0.00,0.00,0.00, 0.00,0.00,0.00,0.00,0.00,0.00,0.00,0.00,0.00,0.00,0.00,0.00,0.00,0.00,0.00, 0.00,0.00,0.00,0.00,0.00,0.00,0.00,0.00,0.00,0.00,0.00,0.00,0.00,0.00,0.00, 0.00,0.00,0.00,0.00,0.00,0.00,0.00,0.00,0.00,0.00,0.00,0.00,0.00,0.00,0.00, 0.00,0.00,0.00,0.00,0.00,0.00,0.00,0.00,0.00,0.00,0.00,0.00,0.00,0.00,0.00, 0.00,0.00,0.00,0.00,0.00,0.00,0.00,0.18,0.57,0.96,0.62,0.19,0.00,0.00,0.00, 0.00,0.00,0.00,0.00,0.00,0.00,0.00,0.00,0.00,0.00,0.00,0.00,0.00,0.00,0.00, 0.00,0.00,0.00,0.00,0.02,0.81,0.94,0.93,0.97,0.97,0.07,0.10,0.06,0.08,0.00, 0.00,0.00,0.00,0.00,0.00,0.00,0.00,0.00,0.00,0.00,0.00,0.00,0.01,0.01,0.01, 0.02,0.20,0.91,0.98,0.99,0.99,0.97,0.99,0.21,0.06,0.02,0.01,0.00,0.00,0.00, 0.00,0.00,0.00,0.00,0.00,0.00,0.00,0.00,0.01,0.01,0.04,0.02,0.09,0.18,0.92, 0.99,0.99,1.00,0.90,0.38,0.99,0.98,0.41,0.01,0.00,0.00,0.00,0.00,0.00,0.00, 0.00,0.00,0.00,0.00,0.00,0.00,0.01,0.01,0.05,0.04,0.70,0.96,0.98,0.93,0.99, 1.00,1.00,0.38,0.77,0.97,0.60,0.00,0.00,0.00,0.00,0.00,0.00,0.00,0.00,0.00, 0.00,0.00,0.00,0.00,0.00,0.01,0.06,0.32,1.00,0.99,0.95,0.66,0.43,0.99,1.00, 0.25,0.36,0.95,0.62,0.01,0.00,0.00,0.00,0.00,0.00,0.00,0.00,0.00,0.00,0.00, 0.00,0.00,0.00,0.00,0.22,0.95,1.00,1.00,0.60,0.01,0.26,0.50,0.11,0.01,0.00, 0.98,0.90,0.19,0.00,0.00,0.00,0.00,0.00,0.00,0.00,0.00,0.00,0.00,0.00,0.00, 0.00,0.11,0.60,0.89,0.97,0.88,0.24,0.01,0.03,0.03,0.04,0.03,0.00,0.95,0.96, 0.65,0.00,0.00,0.00,0.00,0.00,0.00,0.00,0.00,0.00,0.00,0.00,0.00,0.01,0.67, 0.94,0.94,0.26,0.06,0.10,0.01,0.01,0.03,0.02,0.00,0.00,0.95,0.97,0.76,0.00, 0.00,0.00,0.00,0.00,0.00,0.00,0.00,0.00,0.00,0.00,0.00,0.16,0.95,0.98,0.21, 0.00,0.01,0.02,0.02,0.02,0.02,0.01,0.00,0.00,0.95,0.95,0.76,0.00,0.00,0.00, 0.00,0.00,0.00,0.00,0.00,0.00,0.00,0.00,0.00,0.77,0.98,0.68,0.01,0.04,0.01, 0.01,0.03,0.03,0.04,0.01,0.00,0.00,0.94,0.97,0.75,0.00,0.00,0.00,0.00,0.00, 0.00,0.00,0.00,0.00,0.00,0.00,0.29,0.92,0.98,0.48,0.01,0.01,0.03,0.00,0.01, 0.01,0.07,0.03,0.01,0.01,0.97,0.92,0.58,0.00,0.00,0.00,0.00,0.00,0.00,0.00, 0.00,0.00,0.00,0.00,0.27,0.96,0.93,0.05,0.01,0.02,0.09,0.03,0.01,0.01,0.00, 0.02,0.07,0.58,0.95,0.74,0.04,0.00,0.00,0.00,0.00,0.00,0.00,0.00,0.00,0.00, 0.00,0.00,0.30,0.90,0.88,0.00,0.01,0.02,0.03,0.01,0.00,0.00,0.00,0.04,0.51, 0.99,0.92,0.24,0.00,0.00,0.00,0.00,0.00,0.00,0.00,0.00,0.00,0.00,0.00,0.00, 0.32,0.92,0.54,0.00,0.02,0.03,0.06,0.00,0.02,0.02,0.09,0.61,0.95,0.73,0.00, 0.00,0.00,0.00,0.00,0.00,0.00,0.00,0.00,0.00,0.00,0.00,0.00,0.00,0.30,0.95, 0.87,0.00,0.02,0.04,0.06,0.05,0.05,0.44,0.98,0.95,0.58,0.00,0.00,0.00,0.00, 0.00,0.00,0.00,0.00,0.00,0.00,0.00,0.00,0.00,0.00,0.01,0.32,0.95,0.94,0.57, 0.23,0.20,0.37,0.84,0.96,0.99,0.83,0.53,0.08,0.00,0.00,0.00,0.00,0.00,0.00, 0.00,0.00,0.00,0.00,0.00,0.00,0.00,0.00,0.01,0.27,0.95,0.94,0.95,0.97,0.88, 0.99,0.98,1.00,0.80,0.32,0.00,0.00,0.00,0.00,0.00,0.00,0.00,0.00,0.00,0.00, 0.00,0.00,0.00,0.00,0.00,0.00,0.00,0.07,0.77,0.98,0.99,0.99,0.99,0.97,0.94, 0.65,0.01,0.00,0.01,0.00,0.00,0.00,0.00,0.00,0.00,0.00,0.00,0.00,0.00,0.00, 0.00,0.00,0.00,0.01,0.04,0.01,0.10,0.46,0.97,0.99,0.94,0.53,0.07,0.04,0.03, 0.00,0.00,0.00,0.00,0.00,0.00,0.00,0.00,0.00,0.00,0.00,0.00,0.00,0.00,0.00, 0.00,0.01,0.02,0.04,0.04,0.06,0.03,0.05,0.02,0.01,0.00,0.02,0.02,0.00,0.01, 0.00,0.00,0.00,0.00,0.00,0.00,0.00,0.00,0.00,0.00,0.00,0.00,0.00,0.00,0.00, 0.00,0.00,0.00,0.00,0.00,0.00,0.00,0.00,0.00,0.01,0.01,0.00,0.00,0.00,0.00, 0.00,0.00,0.00,0.00,0.00,0.00,0.00,0.00,0.00,0.00,0.00,0.00,0.00,0.00,0.00, 0.00,0.00,0.00,0.00,0.00,0.00,0.00,0.00,0.01,0.00,0.00,0.00,0.00,0.00,0.00, 0.00,0.00,0.00,0.00,0.00,0.00,0.00,0.00,0.00,0.00,0.00,0.00,0.00,0.00,0.00, 0.00,0.00,0.00,0.00,0.00,0.00,0.00,0.00,0.00,0.00,0.00,0.00,0.00,0.00,0.00, 0.00,0.00,0.00,0.00] | correct\n",
      "2 | [[[0.00],  [0.00],  [0.00],  [0.00],  [0.00],  [0.00],  [0.00],  [0.00],  [0.00],  [0.00],  [0.00],  [0.00],  [0.00],  [0.00],  [0.00],  [0.00],  [0.00],  [0.00],  [0.00],  [0.00],  [0.00],  [0.00],  [0.00],  [0.00],  [0.00],  [0.00],  [0.00],  [0.00]], [[0.00],  [0.00],  [0.00],  [0.00],  [0.00],  [0.00],  [0.00],  [0.00],  [0.00],  [0.00],  [0.00],  [0.00],  [0.00],  [0.00],  [0.00],  [0.00],  [0.00],  [0.00],  [0.00],  [0.00],  [0.00],  [0.00],  [0.00],  [0.00],  [0.00],  [0.00],  [0.00],  [0.00]], [[0.00],  [0.00],  [0.00],  [0.00],  [0.00],  [0.00],  [0.00],  [0.00],  [0.00],  [0.00],  [0.00],  [0.00],  [0.00],  [0.00],  [0.00],  [0.00],  [0.00],  [0.00],  [0.00],  [0.00],  [0.00],  [0.00],  [0.00],  [0.00],  [0.00],  [0.00],  [0.00],  [0.00]], [[0.00],  [0.00],  [0.00],  [0.00],  [0.00],  [0.00],  [0.00],  [0.00],  [0.00],  [0.00],  [0.00],  [0.00],  [0.00],  [0.00],  [0.00],  [0.00],  [0.00],  [0.00],  [0.00],  [0.00],  [0.00],  [0.00],  [0.00],  [0.00],  [0.00],  [0.00],  [0.00],  [0.00]], [[0.00],  [0.00],  [0.00],  [0.00],  [0.00],  [0.00],  [0.00],  [0.00],  [0.00],  [0.00],  [0.00],  [0.00],  [0.00],  [0.00],  [0.00],  [0.00],  [0.00],  [0.00],  [0.00],  [0.00],  [0.00],  [0.00],  [0.00],  [0.00],  [0.00],  [0.00],  [0.00],  [0.00]], [[0.00],  [0.00],  [0.00],  [0.00],  [0.00],  [0.00],  [0.00],  [0.00],  [0.00],  [0.00],  [0.00],  [0.00],  [0.00],  [0.00],  [0.00],  [0.00],  [0.00],  [0.00],  [0.00],  [0.00],  [0.26],  [0.91],  [0.15],  [0.00],  [0.00],  [0.00],  [0.00],  [0.00]], [[0.00],  [0.00],  [0.00],  [0.00],  [0.24],  [0.32],  [0.00],  [0.00],  [0.00],  [0.00],  [0.00],  [0.00],  [0.00],  [0.00],  [0.00],  [0.00],  [0.00],  [0.00],  [0.00],  [0.00],  [0.47],  [0.71],  [0.15],  [0.00],  [0.00],  [0.00],  [0.00],  [0.00]], [[0.00],  [0.00],  [0.00],  [0.00],  [0.49],  [0.64],  [0.00],  [0.00],  [0.00],  [0.00],  [0.00],  [0.00],  [0.00],  [0.00],  [0.00],  [0.00],  [0.00],  [0.00],  [0.00],  [0.01],  [0.60],  [0.82],  [0.16],  [0.00],  [0.00],  [0.00],  [0.00],  [0.00]], [[0.00],  [0.00],  [0.00],  [0.00],  [0.86],  [0.64],  [0.00],  [0.00],  [0.00],  [0.00],  [0.00],  [0.00],  [0.00],  [0.00],  [0.00],  [0.00],  [0.00],  [0.00],  [0.00],  [0.11],  [1.00],  [0.64],  [0.00],  [0.00],  [0.00],  [0.00],  [0.00],  [0.00]], [[0.00],  [0.00],  [0.00],  [0.00],  [0.87],  [0.64],  [0.00],  [0.00],  [0.00],  [0.00],  [0.00],  [0.00],  [0.00],  [0.00],  [0.00],  [0.00],  [0.00],  [0.00],  [0.00],  [0.72],  [1.00],  [0.49],  [0.00],  [0.00],  [0.00],  [0.00],  [0.00],  [0.00]], [[0.00],  [0.00],  [0.00],  [0.18],  [0.96],  [0.64],  [0.00],  [0.00],  [0.00],  [0.00],  [0.00],  [0.00],  [0.00],  [0.00],  [0.00],  [0.00],  [0.00],  [0.00],  [0.00],  [0.78],  [1.00],  [0.22],  [0.00],  [0.00],  [0.00],  [0.00],  [0.00],  [0.00]], [[0.00],  [0.00],  [0.00],  [0.47],  [1.00],  [0.64],  [0.00],  [0.00],  [0.00],  [0.00],  [0.00],  [0.00],  [0.00],  [0.00],  [0.00],  [0.00],  [0.00],  [0.00],  [0.09],  [0.91],  [1.00],  [0.11],  [0.00],  [0.00],  [0.00],  [0.00],  [0.00],  [0.00]], [[0.00],  [0.00],  [0.00],  [0.62],  [1.00],  [0.47],  [0.00],  [0.00],  [0.00],  [0.00],  [0.00],  [0.00],  [0.00],  [0.00],  [0.00],  [0.00],  [0.00],  [0.00],  [0.64],  [1.00],  [0.85],  [0.06],  [0.00],  [0.00],  [0.00],  [0.00],  [0.00],  [0.00]], [[0.00],  [0.00],  [0.00],  [0.62],  [1.00],  [0.26],  [0.00],  [0.00],  [0.00],  [0.00],  [0.00],  [0.00],  [0.00],  [0.00],  [0.00],  [0.05],  [0.34],  [0.70],  [0.97],  [1.00],  [0.36],  [0.00],  [0.00],  [0.00],  [0.00],  [0.00],  [0.00],  [0.00]], [[0.00],  [0.00],  [0.00],  [0.62],  [1.00],  [0.33],  [0.00],  [0.00],  [0.00],  [0.18],  [0.19],  [0.45],  [0.56],  [0.59],  [0.95],  [0.95],  [0.92],  [0.70],  [0.95],  [0.99],  [0.16],  [0.00],  [0.00],  [0.00],  [0.00],  [0.00],  [0.00],  [0.00]], [[0.00],  [0.00],  [0.00],  [0.59],  [0.99],  [0.93],  [0.81],  [0.81],  [0.81],  [0.99],  [1.00],  [0.98],  [0.94],  [0.78],  [0.56],  [0.36],  [0.11],  [0.02],  [0.91],  [0.98],  [0.00],  [0.00],  [0.00],  [0.00],  [0.00],  [0.00],  [0.00],  [0.00]], [[0.00],  [0.00],  [0.00],  [0.00],  [0.47],  [0.69],  [0.69],  [0.69],  [0.69],  [0.69],  [0.38],  [0.22],  [0.00],  [0.00],  [0.00],  [0.00],  [0.00],  [0.40],  [1.00],  [0.86],  [0.00],  [0.00],  [0.00],  [0.00],  [0.00],  [0.00],  [0.00],  [0.00]], [[0.00],  [0.00],  [0.00],  [0.00],  [0.00],  [0.00],  [0.00],  [0.00],  [0.00],  [0.00],  [0.00],  [0.00],  [0.00],  [0.00],  [0.00],  [0.00],  [0.00],  [0.66],  [1.00],  [0.54],  [0.00],  [0.00],  [0.00],  [0.00],  [0.00],  [0.00],  [0.00],  [0.00]], [[0.00],  [0.00],  [0.00],  [0.00],  [0.00],  [0.00],  [0.00],  [0.00],  [0.00],  [0.00],  [0.00],  [0.00],  [0.00],  [0.00],  [0.00],  [0.00],  [0.00],  [0.66],  [1.00],  [0.22],  [0.00],  [0.00],  [0.00],  [0.00],  [0.00],  [0.00],  [0.00],  [0.00]], [[0.00],  [0.00],  [0.00],  [0.00],  [0.00],  [0.00],  [0.00],  [0.00],  [0.00],  [0.00],  [0.00],  [0.00],  [0.00],  [0.00],  [0.00],  [0.00],  [0.00],  [0.66],  [1.00],  [0.22],  [0.00],  [0.00],  [0.00],  [0.00],  [0.00],  [0.00],  [0.00],  [0.00]], [[0.00],  [0.00],  [0.00],  [0.00],  [0.00],  [0.00],  [0.00],  [0.00],  [0.00],  [0.00],  [0.00],  [0.00],  [0.00],  [0.00],  [0.00],  [0.00],  [0.00],  [0.66],  [1.00],  [0.37],  [0.00],  [0.00],  [0.00],  [0.00],  [0.00],  [0.00],  [0.00],  [0.00]], [[0.00],  [0.00],  [0.00],  [0.00],  [0.00],  [0.00],  [0.00],  [0.00],  [0.00],  [0.00],  [0.00],  [0.00],  [0.00],  [0.00],  [0.00],  [0.00],  [0.00],  [0.66],  [1.00],  [0.38],  [0.00],  [0.00],  [0.00],  [0.00],  [0.00],  [0.00],  [0.00],  [0.00]], [[0.00],  [0.00],  [0.00],  [0.00],  [0.00],  [0.00],  [0.00],  [0.00],  [0.00],  [0.00],  [0.00],  [0.00],  [0.00],  [0.00],  [0.00],  [0.00],  [0.00],  [0.66],  [1.00],  [0.60],  [0.00],  [0.00],  [0.00],  [0.00],  [0.00],  [0.00],  [0.00],  [0.00]], [[0.00],  [0.00],  [0.00],  [0.00],  [0.00],  [0.00],  [0.00],  [0.00],  [0.00],  [0.00],  [0.00],  [0.00],  [0.00],  [0.00],  [0.00],  [0.00],  [0.00],  [0.66],  [1.00],  [0.60],  [0.00],  [0.00],  [0.00],  [0.00],  [0.00],  [0.00],  [0.00],  [0.00]], [[0.00],  [0.00],  [0.00],  [0.00],  [0.00],  [0.00],  [0.00],  [0.00],  [0.00],  [0.00],  [0.00],  [0.00],  [0.00],  [0.00],  [0.00],  [0.00],  [0.00],  [0.38],  [1.00],  [0.60],  [0.00],  [0.00],  [0.00],  [0.00],  [0.00],  [0.00],  [0.00],  [0.00]], [[0.00],  [0.00],  [0.00],  [0.00],  [0.00],  [0.00],  [0.00],  [0.00],  [0.00],  [0.00],  [0.00],  [0.00],  [0.00],  [0.00],  [0.00],  [0.00],  [0.00],  [0.00],  [0.00],  [0.00],  [0.00],  [0.00],  [0.00],  [0.00],  [0.00],  [0.00],  [0.00],  [0.00]], [[0.00],  [0.00],  [0.00],  [0.00],  [0.00],  [0.00],  [0.00],  [0.00],  [0.00],  [0.00],  [0.00],  [0.00],  [0.00],  [0.00],  [0.00],  [0.00],  [0.00],  [0.00],  [0.00],  [0.00],  [0.00],  [0.00],  [0.00],  [0.00],  [0.00],  [0.00],  [0.00],  [0.00]], [[0.00],  [0.00],  [0.00],  [0.00],  [0.00],  [0.00],  [0.00],  [0.00],  [0.00],  [0.00],  [0.00],  [0.00],  [0.00],  [0.00],  [0.00],  [0.00],  [0.00],  [0.00],  [0.00],  [0.00],  [0.00],  [0.00],  [0.00],  [0.00],  [0.00],  [0.00],  [0.00],  [0.00]]] | [0.00,0.00,0.00,0.00,0.00,0.00,0.00,0.00,0.00,0.00,0.00,0.00,0.00,0.00,0.00, 0.00,0.00,0.00,0.00,0.00,0.00,0.00,0.00,0.00,0.00,0.00,0.00,0.00,0.00,0.00, 0.00,0.00,0.00,0.00,0.00,0.00,0.00,0.00,0.00,0.00,0.00,0.00,0.00,0.00,0.00, 0.00,0.00,0.00,0.00,0.00,0.00,0.00,0.00,0.00,0.00,0.00,0.00,0.00,0.00,0.00, 0.00,0.00,0.00,0.00,0.00,0.00,0.00,0.00,0.00,0.00,0.00,0.00,0.00,0.00,0.00, 0.00,0.00,0.00,0.00,0.00,0.00,0.00,0.00,0.00,0.00,0.00,0.00,0.00,0.00,0.00, 0.00,0.00,0.00,0.00,0.00,0.00,0.00,0.00,0.00,0.00,0.00,0.00,0.00,0.00,0.00, 0.00,0.00,0.00,0.00,0.00,0.00,0.00,0.00,0.00,0.00,0.00,0.00,0.00,0.00,0.00, 0.00,0.00,0.00,0.00,0.00,0.00,0.00,0.00,0.00,0.00,0.00,0.00,0.00,0.00,0.00, 0.00,0.00,0.00,0.00,0.00,0.00,0.00,0.00,0.00,0.00,0.00,0.00,0.00,0.00,0.00, 0.00,0.00,0.00,0.00,0.00,0.00,0.00,0.00,0.00,0.00,0.26,0.91,0.15,0.00,0.00, 0.00,0.00,0.00,0.00,0.00,0.00,0.00,0.24,0.32,0.00,0.00,0.00,0.00,0.00,0.00, 0.00,0.00,0.00,0.00,0.00,0.00,0.00,0.00,0.47,0.71,0.15,0.00,0.00,0.00,0.00, 0.00,0.00,0.00,0.00,0.00,0.49,0.64,0.00,0.00,0.00,0.00,0.00,0.00,0.00,0.00, 0.00,0.00,0.00,0.00,0.00,0.01,0.60,0.82,0.16,0.00,0.00,0.00,0.00,0.00,0.00, 0.00,0.00,0.00,0.86,0.64,0.00,0.00,0.00,0.00,0.00,0.00,0.00,0.00,0.00,0.00, 0.00,0.00,0.00,0.11,1.00,0.64,0.00,0.00,0.00,0.00,0.00,0.00,0.00,0.00,0.00, 0.00,0.87,0.64,0.00,0.00,0.00,0.00,0.00,0.00,0.00,0.00,0.00,0.00,0.00,0.00, 0.00,0.72,1.00,0.49,0.00,0.00,0.00,0.00,0.00,0.00,0.00,0.00,0.00,0.18,0.96, 0.64,0.00,0.00,0.00,0.00,0.00,0.00,0.00,0.00,0.00,0.00,0.00,0.00,0.00,0.78, 1.00,0.22,0.00,0.00,0.00,0.00,0.00,0.00,0.00,0.00,0.00,0.47,1.00,0.64,0.00, 0.00,0.00,0.00,0.00,0.00,0.00,0.00,0.00,0.00,0.00,0.00,0.09,0.91,1.00,0.11, 0.00,0.00,0.00,0.00,0.00,0.00,0.00,0.00,0.00,0.62,1.00,0.47,0.00,0.00,0.00, 0.00,0.00,0.00,0.00,0.00,0.00,0.00,0.00,0.00,0.64,1.00,0.85,0.06,0.00,0.00, 0.00,0.00,0.00,0.00,0.00,0.00,0.00,0.62,1.00,0.26,0.00,0.00,0.00,0.00,0.00, 0.00,0.00,0.00,0.00,0.05,0.34,0.70,0.97,1.00,0.36,0.00,0.00,0.00,0.00,0.00, 0.00,0.00,0.00,0.00,0.00,0.62,1.00,0.33,0.00,0.00,0.00,0.18,0.19,0.45,0.56, 0.59,0.95,0.95,0.92,0.70,0.95,0.99,0.16,0.00,0.00,0.00,0.00,0.00,0.00,0.00, 0.00,0.00,0.00,0.59,0.99,0.93,0.81,0.81,0.81,0.99,1.00,0.98,0.94,0.78,0.56, 0.36,0.11,0.02,0.91,0.98,0.00,0.00,0.00,0.00,0.00,0.00,0.00,0.00,0.00,0.00, 0.00,0.00,0.47,0.69,0.69,0.69,0.69,0.69,0.38,0.22,0.00,0.00,0.00,0.00,0.00, 0.40,1.00,0.86,0.00,0.00,0.00,0.00,0.00,0.00,0.00,0.00,0.00,0.00,0.00,0.00, 0.00,0.00,0.00,0.00,0.00,0.00,0.00,0.00,0.00,0.00,0.00,0.00,0.00,0.66,1.00, 0.54,0.00,0.00,0.00,0.00,0.00,0.00,0.00,0.00,0.00,0.00,0.00,0.00,0.00,0.00, 0.00,0.00,0.00,0.00,0.00,0.00,0.00,0.00,0.00,0.00,0.00,0.66,1.00,0.22,0.00, 0.00,0.00,0.00,0.00,0.00,0.00,0.00,0.00,0.00,0.00,0.00,0.00,0.00,0.00,0.00, 0.00,0.00,0.00,0.00,0.00,0.00,0.00,0.00,0.00,0.66,1.00,0.22,0.00,0.00,0.00, 0.00,0.00,0.00,0.00,0.00,0.00,0.00,0.00,0.00,0.00,0.00,0.00,0.00,0.00,0.00, 0.00,0.00,0.00,0.00,0.00,0.00,0.00,0.66,1.00,0.37,0.00,0.00,0.00,0.00,0.00, 0.00,0.00,0.00,0.00,0.00,0.00,0.00,0.00,0.00,0.00,0.00,0.00,0.00,0.00,0.00, 0.00,0.00,0.00,0.00,0.00,0.66,1.00,0.38,0.00,0.00,0.00,0.00,0.00,0.00,0.00, 0.00,0.00,0.00,0.00,0.00,0.00,0.00,0.00,0.00,0.00,0.00,0.00,0.00,0.00,0.00, 0.00,0.00,0.00,0.66,1.00,0.60,0.00,0.00,0.00,0.00,0.00,0.00,0.00,0.00,0.00, 0.00,0.00,0.00,0.00,0.00,0.00,0.00,0.00,0.00,0.00,0.00,0.00,0.00,0.00,0.00, 0.00,0.66,1.00,0.60,0.00,0.00,0.00,0.00,0.00,0.00,0.00,0.00,0.00,0.00,0.00, 0.00,0.00,0.00,0.00,0.00,0.00,0.00,0.00,0.00,0.00,0.00,0.00,0.00,0.00,0.38, 1.00,0.60,0.00,0.00,0.00,0.00,0.00,0.00,0.00,0.00,0.00,0.00,0.00,0.00,0.00, 0.00,0.00,0.00,0.00,0.00,0.00,0.00,0.00,0.00,0.00,0.00,0.00,0.00,0.00,0.00, 0.00,0.00,0.00,0.00,0.00,0.00,0.00,0.00,0.00,0.00,0.00,0.00,0.00,0.00,0.00, 0.00,0.00,0.00,0.00,0.00,0.00,0.00,0.00,0.00,0.00,0.00,0.00,0.00,0.00,0.00, 0.00,0.00,0.00,0.00,0.00,0.00,0.00,0.00,0.00,0.00,0.00,0.00,0.00,0.00,0.00, 0.00,0.00,0.00,0.00,0.00,0.00,0.00,0.00,0.00,0.00,0.00,0.00,0.00,0.00,0.00, 0.00,0.00,0.00,0.00] | [0.00,0.00,0.00,0.00,0.00,0.00,0.00,0.00,0.00,0.00,0.00,0.00,0.00,0.00,0.00, 0.00,0.00,0.00,0.00,0.00,0.00,0.00,0.00,0.00,0.00,0.00,0.00,0.00,0.00,0.00, 0.00,0.00,0.00,0.00,0.00,0.00,0.00,0.00,0.00,0.00,0.00,0.00,0.00,0.00,0.00, 0.00,0.00,0.00,0.00,0.00,0.00,0.00,0.00,0.00,0.00,0.00,0.00,0.00,0.00,0.00, 0.00,0.00,0.00,0.00,0.00,0.00,0.00,0.00,0.00,0.00,0.00,0.00,0.00,0.00,0.00, 0.00,0.00,0.00,0.00,0.00,0.00,0.00,0.00,0.00,0.00,0.00,0.00,0.00,0.00,0.00, 0.00,0.00,0.00,0.00,0.00,0.00,0.00,0.00,0.00,0.00,0.00,0.00,0.00,0.00,0.00, 0.00,0.00,0.00,0.00,0.00,0.00,0.00,0.00,0.00,0.00,0.00,0.00,0.00,0.00,0.00, 0.00,0.00,0.00,0.00,0.01,0.01,0.01,0.00,0.00,0.00,0.00,0.00,0.00,0.00,0.05, 0.04,0.00,0.00,0.00,0.00,0.00,0.00,0.00,0.00,0.00,0.00,0.00,0.00,0.00,0.00, 0.00,0.01,0.00,0.01,0.01,0.00,0.00,0.00,0.00,0.00,0.13,0.92,0.29,0.12,0.00, 0.00,0.00,0.00,0.00,0.00,0.00,0.00,0.24,0.30,0.00,0.00,0.00,0.00,0.00,0.00, 0.03,0.01,0.03,0.00,0.00,0.00,0.00,0.00,0.43,0.75,0.23,0.04,0.00,0.00,0.00, 0.00,0.00,0.00,0.00,0.00,0.49,0.65,0.00,0.00,0.00,0.01,0.00,0.01,0.01,0.03, 0.02,0.00,0.00,0.00,0.00,0.00,0.60,0.85,0.17,0.00,0.00,0.00,0.00,0.00,0.00, 0.00,0.00,0.00,0.85,0.64,0.00,0.00,0.00,0.01,0.00,0.00,0.02,0.18,0.02,0.00, 0.00,0.00,0.00,0.01,0.99,0.64,0.03,0.00,0.00,0.00,0.00,0.00,0.00,0.00,0.00, 0.00,0.88,0.64,0.00,0.00,0.00,0.01,0.01,0.00,0.07,0.16,0.06,0.01,0.00,0.00, 0.00,0.68,1.00,0.46,0.00,0.00,0.00,0.00,0.00,0.00,0.00,0.00,0.00,0.18,0.95, 0.64,0.00,0.00,0.00,0.00,0.00,0.01,0.05,0.23,0.09,0.00,0.00,0.00,0.00,0.77, 1.00,0.22,0.00,0.00,0.00,0.00,0.00,0.00,0.00,0.00,0.00,0.47,0.97,0.64,0.00, 0.00,0.00,0.00,0.00,0.04,0.18,0.28,0.03,0.00,0.00,0.00,0.05,0.91,0.98,0.07, 0.00,0.00,0.00,0.00,0.00,0.00,0.00,0.00,0.00,0.62,0.99,0.47,0.00,0.00,0.00, 0.00,0.00,0.10,0.16,0.06,0.00,0.00,0.00,0.01,0.63,0.98,0.81,0.00,0.00,0.00, 0.00,0.00,0.00,0.00,0.00,0.00,0.00,0.62,0.99,0.26,0.00,0.00,0.00,0.00,0.06, 0.09,0.04,0.02,0.00,0.00,0.27,0.71,0.96,0.96,0.33,0.00,0.00,0.00,0.00,0.00, 0.00,0.00,0.00,0.00,0.00,0.63,0.99,0.34,0.00,0.00,0.02,0.27,0.21,0.47,0.55, 0.52,0.83,0.78,0.89,0.68,0.94,0.98,0.13,0.00,0.00,0.00,0.00,0.00,0.00,0.00, 0.00,0.00,0.00,0.59,0.98,0.93,0.78,0.79,0.86,0.99,1.00,0.96,0.91,0.78,0.59, 0.41,0.11,0.06,0.82,0.92,0.00,0.00,0.00,0.00,0.00,0.00,0.00,0.00,0.00,0.00, 0.00,0.00,0.46,0.69,0.70,0.72,0.70,0.69,0.23,0.09,0.01,0.16,0.06,0.10,0.04, 0.40,1.00,0.87,0.00,0.00,0.00,0.00,0.00,0.00,0.00,0.00,0.00,0.00,0.00,0.00, 0.00,0.00,0.05,0.04,0.00,0.00,0.00,0.00,0.00,0.09,0.10,0.18,0.14,0.73,0.99, 0.48,0.00,0.00,0.00,0.00,0.00,0.00,0.00,0.00,0.00,0.00,0.00,0.00,0.00,0.00, 0.01,0.00,0.00,0.00,0.00,0.00,0.00,0.12,0.18,0.06,0.02,0.68,0.97,0.23,0.00, 0.00,0.00,0.00,0.00,0.00,0.00,0.00,0.00,0.00,0.00,0.00,0.00,0.00,0.00,0.00, 0.00,0.00,0.00,0.00,0.01,0.18,0.04,0.02,0.01,0.64,0.97,0.22,0.00,0.00,0.00, 0.00,0.00,0.00,0.00,0.00,0.00,0.00,0.00,0.00,0.00,0.00,0.00,0.00,0.00,0.00, 0.00,0.03,0.09,0.10,0.01,0.02,0.01,0.64,0.95,0.36,0.00,0.00,0.00,0.00,0.00, 0.00,0.00,0.00,0.00,0.00,0.00,0.00,0.00,0.00,0.00,0.00,0.00,0.00,0.00,0.10, 0.10,0.04,0.00,0.01,0.00,0.63,0.97,0.37,0.00,0.00,0.00,0.00,0.00,0.00,0.00, 0.00,0.00,0.00,0.00,0.00,0.00,0.00,0.00,0.00,0.00,0.00,0.03,0.07,0.05,0.00, 0.00,0.01,0.01,0.63,0.99,0.61,0.00,0.00,0.00,0.00,0.00,0.00,0.00,0.00,0.00, 0.00,0.00,0.00,0.00,0.00,0.00,0.01,0.00,0.00,0.01,0.04,0.01,0.00,0.01,0.00, 0.01,0.68,1.00,0.60,0.00,0.00,0.00,0.00,0.00,0.00,0.00,0.00,0.00,0.00,0.00, 0.00,0.00,0.00,0.01,0.01,0.01,0.00,0.00,0.00,0.00,0.00,0.01,0.00,0.00,0.33, 0.99,0.60,0.00,0.00,0.00,0.00,0.00,0.00,0.00,0.00,0.00,0.00,0.00,0.00,0.00, 0.00,0.00,0.00,0.00,0.00,0.00,0.00,0.00,0.00,0.00,0.00,0.00,0.00,0.00,0.00, 0.00,0.00,0.00,0.00,0.00,0.00,0.00,0.00,0.00,0.00,0.00,0.00,0.00,0.00,0.00, 0.00,0.00,0.00,0.00,0.00,0.00,0.00,0.00,0.00,0.00,0.00,0.00,0.00,0.00,0.00, 0.00,0.00,0.00,0.00,0.00,0.00,0.00,0.00,0.00,0.00,0.00,0.00,0.00,0.00,0.00, 0.00,0.00,0.00,0.00,0.00,0.00,0.00,0.00,0.00,0.00,0.00,0.00,0.00,0.00,0.00, 0.00,0.00,0.00,0.00] | correct\n",
      "3 | [[[0.00],  [0.00],  [0.00],  [0.00],  [0.00],  [0.00],  [0.00],  [0.00],  [0.00],  [0.00],  [0.00],  [0.00],  [0.00],  [0.00],  [0.00],  [0.00],  [0.00],  [0.00],  [0.00],  [0.00],  [0.00],  [0.00],  [0.00],  [0.00],  [0.00],  [0.00],  [0.00],  [0.00]], [[0.00],  [0.00],  [0.00],  [0.00],  [0.00],  [0.00],  [0.00],  [0.00],  [0.00],  [0.00],  [0.00],  [0.00],  [0.00],  [0.00],  [0.00],  [0.00],  [0.00],  [0.00],  [0.00],  [0.00],  [0.00],  [0.00],  [0.00],  [0.00],  [0.00],  [0.00],  [0.00],  [0.00]], [[0.00],  [0.00],  [0.00],  [0.00],  [0.00],  [0.00],  [0.00],  [0.00],  [0.00],  [0.00],  [0.00],  [0.00],  [0.00],  [0.00],  [0.00],  [0.00],  [0.00],  [0.00],  [0.00],  [0.00],  [0.00],  [0.00],  [0.00],  [0.00],  [0.00],  [0.00],  [0.00],  [0.00]], [[0.00],  [0.00],  [0.00],  [0.00],  [0.00],  [0.00],  [0.00],  [0.00],  [0.00],  [0.00],  [0.00],  [0.00],  [0.00],  [0.00],  [0.00],  [0.00],  [0.00],  [0.00],  [0.00],  [0.00],  [0.00],  [0.00],  [0.00],  [0.00],  [0.00],  [0.00],  [0.00],  [0.00]], [[0.00],  [0.00],  [0.00],  [0.00],  [0.00],  [0.00],  [0.00],  [0.00],  [0.00],  [0.00],  [0.00],  [0.00],  [0.00],  [0.00],  [0.00],  [0.00],  [0.00],  [0.00],  [0.00],  [0.00],  [0.00],  [0.00],  [0.00],  [0.00],  [0.00],  [0.00],  [0.00],  [0.00]], [[0.00],  [0.00],  [0.00],  [0.00],  [0.00],  [0.00],  [0.00],  [0.00],  [0.00],  [0.00],  [0.00],  [0.00],  [0.00],  [0.00],  [0.00],  [0.00],  [0.00],  [0.00],  [0.49],  [0.99],  [1.00],  [0.25],  [0.00],  [0.00],  [0.00],  [0.00],  [0.00],  [0.00]], [[0.00],  [0.00],  [0.00],  [0.00],  [0.00],  [0.00],  [0.00],  [0.00],  [0.00],  [0.00],  [0.00],  [0.00],  [0.00],  [0.00],  [0.00],  [0.00],  [0.00],  [0.38],  [0.96],  [0.98],  [0.99],  [0.24],  [0.00],  [0.00],  [0.00],  [0.00],  [0.00],  [0.00]], [[0.00],  [0.00],  [0.00],  [0.00],  [0.00],  [0.00],  [0.00],  [0.00],  [0.00],  [0.00],  [0.00],  [0.00],  [0.00],  [0.00],  [0.00],  [0.00],  [0.00],  [0.50],  [0.98],  [0.98],  [0.99],  [0.24],  [0.00],  [0.00],  [0.00],  [0.00],  [0.00],  [0.00]], [[0.00],  [0.00],  [0.00],  [0.00],  [0.00],  [0.00],  [0.00],  [0.00],  [0.00],  [0.00],  [0.00],  [0.00],  [0.00],  [0.00],  [0.00],  [0.00],  [0.27],  [0.93],  [0.98],  [0.83],  [0.12],  [0.03],  [0.00],  [0.00],  [0.00],  [0.00],  [0.00],  [0.00]], [[0.00],  [0.00],  [0.00],  [0.00],  [0.00],  [0.00],  [0.00],  [0.00],  [0.00],  [0.00],  [0.00],  [0.00],  [0.00],  [0.00],  [0.00],  [0.24],  [0.89],  [0.98],  [0.98],  [0.37],  [0.00],  [0.00],  [0.00],  [0.00],  [0.00],  [0.00],  [0.00],  [0.00]], [[0.00],  [0.00],  [0.00],  [0.00],  [0.00],  [0.00],  [0.00],  [0.00],  [0.00],  [0.00],  [0.00],  [0.00],  [0.00],  [0.00],  [0.00],  [0.61],  [0.99],  [0.99],  [0.74],  [0.00],  [0.00],  [0.00],  [0.00],  [0.00],  [0.00],  [0.00],  [0.00],  [0.00]], [[0.00],  [0.00],  [0.00],  [0.00],  [0.00],  [0.00],  [0.00],  [0.00],  [0.00],  [0.00],  [0.00],  [0.00],  [0.00],  [0.00],  [0.08],  [0.99],  [0.98],  [0.92],  [0.26],  [0.00],  [0.00],  [0.00],  [0.00],  [0.00],  [0.00],  [0.00],  [0.00],  [0.00]], [[0.00],  [0.00],  [0.00],  [0.00],  [0.00],  [0.00],  [0.00],  [0.00],  [0.00],  [0.00],  [0.00],  [0.00],  [0.00],  [0.13],  [0.80],  [0.99],  [0.98],  [0.49],  [0.00],  [0.00],  [0.00],  [0.00],  [0.00],  [0.00],  [0.00],  [0.00],  [0.00],  [0.00]], [[0.00],  [0.00],  [0.00],  [0.00],  [0.00],  [0.00],  [0.00],  [0.00],  [0.00],  [0.00],  [0.00],  [0.00],  [0.00],  [0.41],  [0.98],  [0.99],  [0.72],  [0.06],  [0.00],  [0.00],  [0.00],  [0.00],  [0.00],  [0.00],  [0.00],  [0.00],  [0.00],  [0.00]], [[0.00],  [0.00],  [0.00],  [0.00],  [0.00],  [0.00],  [0.00],  [0.00],  [0.00],  [0.00],  [0.00],  [0.00],  [0.31],  [0.94],  [0.98],  [0.76],  [0.09],  [0.00],  [0.00],  [0.00],  [0.00],  [0.00],  [0.00],  [0.00],  [0.00],  [0.00],  [0.00],  [0.00]], [[0.00],  [0.00],  [0.00],  [0.00],  [0.00],  [0.00],  [0.00],  [0.00],  [0.00],  [0.00],  [0.00],  [0.13],  [0.99],  [0.99],  [0.99],  [0.62],  [0.00],  [0.00],  [0.00],  [0.00],  [0.00],  [0.00],  [0.00],  [0.00],  [0.00],  [0.00],  [0.00],  [0.00]], [[0.00],  [0.00],  [0.00],  [0.00],  [0.00],  [0.00],  [0.00],  [0.00],  [0.00],  [0.00],  [0.00],  [0.59],  [0.98],  [0.98],  [0.98],  [0.15],  [0.00],  [0.00],  [0.00],  [0.00],  [0.00],  [0.00],  [0.00],  [0.00],  [0.00],  [0.00],  [0.00],  [0.00]], [[0.00],  [0.00],  [0.00],  [0.00],  [0.00],  [0.00],  [0.00],  [0.00],  [0.00],  [0.00],  [0.19],  [0.87],  [0.98],  [0.98],  [0.67],  [0.00],  [0.00],  [0.00],  [0.00],  [0.00],  [0.00],  [0.00],  [0.00],  [0.00],  [0.00],  [0.00],  [0.00],  [0.00]], [[0.00],  [0.00],  [0.00],  [0.00],  [0.00],  [0.00],  [0.00],  [0.00],  [0.00],  [0.00],  [0.92],  [0.98],  [0.98],  [0.77],  [0.05],  [0.00],  [0.00],  [0.00],  [0.00],  [0.00],  [0.00],  [0.00],  [0.00],  [0.00],  [0.00],  [0.00],  [0.00],  [0.00]], [[0.00],  [0.00],  [0.00],  [0.00],  [0.00],  [0.00],  [0.00],  [0.00],  [0.00],  [0.00],  [0.99],  [0.98],  [0.98],  [0.35],  [0.00],  [0.00],  [0.00],  [0.00],  [0.00],  [0.00],  [0.00],  [0.00],  [0.00],  [0.00],  [0.00],  [0.00],  [0.00],  [0.00]], [[0.00],  [0.00],  [0.00],  [0.00],  [0.00],  [0.00],  [0.00],  [0.00],  [0.00],  [0.62],  [1.00],  [0.99],  [0.99],  [0.12],  [0.00],  [0.00],  [0.00],  [0.00],  [0.00],  [0.00],  [0.00],  [0.00],  [0.00],  [0.00],  [0.00],  [0.00],  [0.00],  [0.00]], [[0.00],  [0.00],  [0.00],  [0.00],  [0.00],  [0.00],  [0.00],  [0.00],  [0.19],  [0.89],  [0.99],  [0.97],  [0.55],  [0.03],  [0.00],  [0.00],  [0.00],  [0.00],  [0.00],  [0.00],  [0.00],  [0.00],  [0.00],  [0.00],  [0.00],  [0.00],  [0.00],  [0.00]], [[0.00],  [0.00],  [0.00],  [0.00],  [0.00],  [0.00],  [0.00],  [0.00],  [0.25],  [0.98],  [0.99],  [0.86],  [0.00],  [0.00],  [0.00],  [0.00],  [0.00],  [0.00],  [0.00],  [0.00],  [0.00],  [0.00],  [0.00],  [0.00],  [0.00],  [0.00],  [0.00],  [0.00]], [[0.00],  [0.00],  [0.00],  [0.00],  [0.00],  [0.00],  [0.00],  [0.00],  [0.25],  [0.98],  [0.99],  [0.86],  [0.00],  [0.00],  [0.00],  [0.00],  [0.00],  [0.00],  [0.00],  [0.00],  [0.00],  [0.00],  [0.00],  [0.00],  [0.00],  [0.00],  [0.00],  [0.00]], [[0.00],  [0.00],  [0.00],  [0.00],  [0.00],  [0.00],  [0.00],  [0.00],  [0.09],  [0.76],  [0.99],  [0.86],  [0.00],  [0.00],  [0.00],  [0.00],  [0.00],  [0.00],  [0.00],  [0.00],  [0.00],  [0.00],  [0.00],  [0.00],  [0.00],  [0.00],  [0.00],  [0.00]], [[0.00],  [0.00],  [0.00],  [0.00],  [0.00],  [0.00],  [0.00],  [0.00],  [0.00],  [0.00],  [0.00],  [0.00],  [0.00],  [0.00],  [0.00],  [0.00],  [0.00],  [0.00],  [0.00],  [0.00],  [0.00],  [0.00],  [0.00],  [0.00],  [0.00],  [0.00],  [0.00],  [0.00]], [[0.00],  [0.00],  [0.00],  [0.00],  [0.00],  [0.00],  [0.00],  [0.00],  [0.00],  [0.00],  [0.00],  [0.00],  [0.00],  [0.00],  [0.00],  [0.00],  [0.00],  [0.00],  [0.00],  [0.00],  [0.00],  [0.00],  [0.00],  [0.00],  [0.00],  [0.00],  [0.00],  [0.00]], [[0.00],  [0.00],  [0.00],  [0.00],  [0.00],  [0.00],  [0.00],  [0.00],  [0.00],  [0.00],  [0.00],  [0.00],  [0.00],  [0.00],  [0.00],  [0.00],  [0.00],  [0.00],  [0.00],  [0.00],  [0.00],  [0.00],  [0.00],  [0.00],  [0.00],  [0.00],  [0.00],  [0.00]]] | [0.00,0.00,0.00,0.00,0.00,0.00,0.00,0.00,0.00,0.00,0.00,0.00,0.00,0.00,0.00, 0.00,0.00,0.00,0.00,0.00,0.00,0.00,0.00,0.00,0.00,0.00,0.00,0.00,0.00,0.00, 0.00,0.00,0.00,0.00,0.00,0.00,0.00,0.00,0.00,0.00,0.00,0.00,0.00,0.00,0.00, 0.00,0.00,0.00,0.00,0.00,0.00,0.00,0.00,0.00,0.00,0.00,0.00,0.00,0.00,0.00, 0.00,0.00,0.00,0.00,0.00,0.00,0.00,0.00,0.00,0.00,0.00,0.00,0.00,0.00,0.00, 0.00,0.00,0.00,0.00,0.00,0.00,0.00,0.00,0.00,0.00,0.00,0.00,0.00,0.00,0.00, 0.00,0.00,0.00,0.00,0.00,0.00,0.00,0.00,0.00,0.00,0.00,0.00,0.00,0.00,0.00, 0.00,0.00,0.00,0.00,0.00,0.00,0.00,0.00,0.00,0.00,0.00,0.00,0.00,0.00,0.00, 0.00,0.00,0.00,0.00,0.00,0.00,0.00,0.00,0.00,0.00,0.00,0.00,0.00,0.00,0.00, 0.00,0.00,0.00,0.00,0.00,0.00,0.00,0.00,0.00,0.00,0.00,0.00,0.00,0.00,0.00, 0.00,0.00,0.00,0.00,0.00,0.00,0.00,0.00,0.49,0.99,1.00,0.25,0.00,0.00,0.00, 0.00,0.00,0.00,0.00,0.00,0.00,0.00,0.00,0.00,0.00,0.00,0.00,0.00,0.00,0.00, 0.00,0.00,0.00,0.00,0.00,0.38,0.96,0.98,0.99,0.24,0.00,0.00,0.00,0.00,0.00, 0.00,0.00,0.00,0.00,0.00,0.00,0.00,0.00,0.00,0.00,0.00,0.00,0.00,0.00,0.00, 0.00,0.00,0.00,0.50,0.98,0.98,0.99,0.24,0.00,0.00,0.00,0.00,0.00,0.00,0.00, 0.00,0.00,0.00,0.00,0.00,0.00,0.00,0.00,0.00,0.00,0.00,0.00,0.00,0.00,0.00, 0.27,0.93,0.98,0.83,0.12,0.03,0.00,0.00,0.00,0.00,0.00,0.00,0.00,0.00,0.00, 0.00,0.00,0.00,0.00,0.00,0.00,0.00,0.00,0.00,0.00,0.00,0.00,0.24,0.89,0.98, 0.98,0.37,0.00,0.00,0.00,0.00,0.00,0.00,0.00,0.00,0.00,0.00,0.00,0.00,0.00, 0.00,0.00,0.00,0.00,0.00,0.00,0.00,0.00,0.00,0.00,0.61,0.99,0.99,0.74,0.00, 0.00,0.00,0.00,0.00,0.00,0.00,0.00,0.00,0.00,0.00,0.00,0.00,0.00,0.00,0.00, 0.00,0.00,0.00,0.00,0.00,0.00,0.00,0.08,0.99,0.98,0.92,0.26,0.00,0.00,0.00, 0.00,0.00,0.00,0.00,0.00,0.00,0.00,0.00,0.00,0.00,0.00,0.00,0.00,0.00,0.00, 0.00,0.00,0.00,0.00,0.13,0.80,0.99,0.98,0.49,0.00,0.00,0.00,0.00,0.00,0.00, 0.00,0.00,0.00,0.00,0.00,0.00,0.00,0.00,0.00,0.00,0.00,0.00,0.00,0.00,0.00, 0.00,0.00,0.41,0.98,0.99,0.72,0.06,0.00,0.00,0.00,0.00,0.00,0.00,0.00,0.00, 0.00,0.00,0.00,0.00,0.00,0.00,0.00,0.00,0.00,0.00,0.00,0.00,0.00,0.00,0.31, 0.94,0.98,0.76,0.09,0.00,0.00,0.00,0.00,0.00,0.00,0.00,0.00,0.00,0.00,0.00, 0.00,0.00,0.00,0.00,0.00,0.00,0.00,0.00,0.00,0.00,0.00,0.13,0.99,0.99,0.99, 0.62,0.00,0.00,0.00,0.00,0.00,0.00,0.00,0.00,0.00,0.00,0.00,0.00,0.00,0.00, 0.00,0.00,0.00,0.00,0.00,0.00,0.00,0.00,0.00,0.59,0.98,0.98,0.98,0.15,0.00, 0.00,0.00,0.00,0.00,0.00,0.00,0.00,0.00,0.00,0.00,0.00,0.00,0.00,0.00,0.00, 0.00,0.00,0.00,0.00,0.00,0.00,0.19,0.87,0.98,0.98,0.67,0.00,0.00,0.00,0.00, 0.00,0.00,0.00,0.00,0.00,0.00,0.00,0.00,0.00,0.00,0.00,0.00,0.00,0.00,0.00, 0.00,0.00,0.00,0.00,0.92,0.98,0.98,0.77,0.05,0.00,0.00,0.00,0.00,0.00,0.00, 0.00,0.00,0.00,0.00,0.00,0.00,0.00,0.00,0.00,0.00,0.00,0.00,0.00,0.00,0.00, 0.00,0.00,0.99,0.98,0.98,0.35,0.00,0.00,0.00,0.00,0.00,0.00,0.00,0.00,0.00, 0.00,0.00,0.00,0.00,0.00,0.00,0.00,0.00,0.00,0.00,0.00,0.00,0.00,0.00,0.62, 1.00,0.99,0.99,0.12,0.00,0.00,0.00,0.00,0.00,0.00,0.00,0.00,0.00,0.00,0.00, 0.00,0.00,0.00,0.00,0.00,0.00,0.00,0.00,0.00,0.00,0.00,0.19,0.89,0.99,0.97, 0.55,0.03,0.00,0.00,0.00,0.00,0.00,0.00,0.00,0.00,0.00,0.00,0.00,0.00,0.00, 0.00,0.00,0.00,0.00,0.00,0.00,0.00,0.00,0.00,0.25,0.98,0.99,0.86,0.00,0.00, 0.00,0.00,0.00,0.00,0.00,0.00,0.00,0.00,0.00,0.00,0.00,0.00,0.00,0.00,0.00, 0.00,0.00,0.00,0.00,0.00,0.00,0.00,0.25,0.98,0.99,0.86,0.00,0.00,0.00,0.00, 0.00,0.00,0.00,0.00,0.00,0.00,0.00,0.00,0.00,0.00,0.00,0.00,0.00,0.00,0.00, 0.00,0.00,0.00,0.00,0.00,0.09,0.76,0.99,0.86,0.00,0.00,0.00,0.00,0.00,0.00, 0.00,0.00,0.00,0.00,0.00,0.00,0.00,0.00,0.00,0.00,0.00,0.00,0.00,0.00,0.00, 0.00,0.00,0.00,0.00,0.00,0.00,0.00,0.00,0.00,0.00,0.00,0.00,0.00,0.00,0.00, 0.00,0.00,0.00,0.00,0.00,0.00,0.00,0.00,0.00,0.00,0.00,0.00,0.00,0.00,0.00, 0.00,0.00,0.00,0.00,0.00,0.00,0.00,0.00,0.00,0.00,0.00,0.00,0.00,0.00,0.00, 0.00,0.00,0.00,0.00,0.00,0.00,0.00,0.00,0.00,0.00,0.00,0.00,0.00,0.00,0.00, 0.00,0.00,0.00,0.00,0.00,0.00,0.00,0.00,0.00,0.00,0.00,0.00,0.00,0.00,0.00, 0.00,0.00,0.00,0.00] | [0.00,0.00,0.00,0.00,0.00,0.00,0.00,0.00,0.00,0.00,0.00,0.00,0.00,0.00,0.00, 0.00,0.00,0.00,0.00,0.00,0.00,0.00,0.00,0.00,0.00,0.00,0.00,0.00,0.00,0.00, 0.00,0.00,0.00,0.00,0.00,0.00,0.00,0.00,0.00,0.00,0.00,0.00,0.00,0.00,0.00, 0.00,0.00,0.00,0.00,0.00,0.00,0.00,0.00,0.00,0.00,0.00,0.00,0.00,0.00,0.00, 0.00,0.00,0.00,0.00,0.00,0.00,0.00,0.00,0.00,0.00,0.00,0.00,0.00,0.00,0.00, 0.00,0.00,0.00,0.00,0.00,0.00,0.00,0.00,0.00,0.00,0.00,0.00,0.00,0.00,0.00, 0.00,0.00,0.00,0.00,0.00,0.00,0.00,0.00,0.00,0.00,0.00,0.00,0.00,0.00,0.00, 0.00,0.00,0.00,0.00,0.00,0.00,0.00,0.00,0.00,0.00,0.00,0.00,0.00,0.00,0.00, 0.00,0.00,0.00,0.00,0.01,0.00,0.00,0.00,0.05,0.01,0.01,0.00,0.00,0.00,0.01, 0.01,0.00,0.00,0.00,0.00,0.00,0.00,0.00,0.00,0.00,0.00,0.00,0.00,0.00,0.00, 0.00,0.01,0.01,0.04,0.06,0.05,0.02,0.07,0.41,0.85,0.80,0.10,0.09,0.03,0.00, 0.00,0.00,0.00,0.00,0.00,0.00,0.00,0.00,0.00,0.00,0.00,0.00,0.01,0.01,0.01, 0.10,0.04,0.08,0.01,0.00,0.34,0.80,0.94,0.89,0.22,0.04,0.06,0.00,0.00,0.00, 0.00,0.00,0.00,0.00,0.00,0.00,0.00,0.00,0.00,0.00,0.00,0.02,0.00,0.22,0.25, 0.10,0.20,0.10,0.66,0.96,0.99,0.99,0.33,0.05,0.00,0.00,0.00,0.00,0.00,0.00, 0.00,0.00,0.00,0.00,0.00,0.00,0.00,0.00,0.03,0.07,0.07,0.28,0.25,0.10,0.05, 0.32,0.98,0.98,0.80,0.23,0.01,0.01,0.00,0.00,0.00,0.00,0.00,0.00,0.00,0.00, 0.00,0.00,0.00,0.00,0.00,0.00,0.05,0.13,0.07,0.07,0.10,0.01,0.18,0.72,0.95, 0.90,0.36,0.08,0.03,0.00,0.00,0.00,0.00,0.00,0.00,0.00,0.00,0.00,0.00,0.00, 0.00,0.00,0.00,0.00,0.05,0.06,0.12,0.00,0.00,0.12,0.29,0.70,0.99,0.87,0.07, 0.01,0.01,0.00,0.00,0.00,0.00,0.00,0.00,0.00,0.00,0.00,0.00,0.00,0.00,0.00, 0.00,0.04,0.22,0.21,0.15,0.12,0.20,0.02,0.70,0.97,0.94,0.32,0.14,0.00,0.02, 0.00,0.00,0.00,0.00,0.00,0.00,0.00,0.00,0.00,0.00,0.00,0.00,0.00,0.06,0.16, 0.13,0.05,0.03,0.10,0.18,0.81,0.76,0.98,0.79,0.06,0.01,0.00,0.02,0.00,0.00, 0.00,0.00,0.00,0.00,0.00,0.00,0.00,0.00,0.00,0.00,0.04,0.16,0.09,0.10,0.03, 0.06,0.01,0.61,0.99,0.99,0.92,0.14,0.01,0.01,0.01,0.01,0.00,0.00,0.00,0.00, 0.00,0.00,0.00,0.00,0.00,0.00,0.00,0.00,0.04,0.06,0.27,0.07,0.04,0.12,0.40, 0.91,0.97,0.85,0.51,0.04,0.00,0.00,0.01,0.00,0.01,0.00,0.00,0.00,0.00,0.00, 0.00,0.00,0.00,0.00,0.00,0.00,0.00,0.16,0.11,0.14,0.11,0.22,0.90,0.96,0.95, 0.83,0.13,0.12,0.00,0.00,0.01,0.01,0.00,0.00,0.00,0.00,0.00,0.00,0.00,0.00, 0.00,0.00,0.00,0.00,0.04,0.03,0.02,0.13,0.17,0.62,0.74,0.89,0.93,0.14,0.04, 0.03,0.01,0.04,0.01,0.01,0.00,0.00,0.00,0.00,0.00,0.00,0.00,0.00,0.00,0.00, 0.00,0.00,0.04,0.05,0.02,0.00,0.04,0.79,0.82,0.79,0.71,0.22,0.09,0.11,0.00, 0.01,0.08,0.03,0.00,0.00,0.00,0.00,0.00,0.00,0.00,0.00,0.00,0.00,0.00,0.00, 0.03,0.05,0.02,0.00,0.84,0.86,0.80,0.71,0.21,0.09,0.06,0.05,0.01,0.03,0.00, 0.01,0.00,0.02,0.00,0.00,0.00,0.00,0.00,0.00,0.00,0.00,0.00,0.00,0.02,0.02, 0.01,0.00,0.91,0.82,0.82,0.25,0.03,0.35,0.05,0.03,0.02,0.00,0.00,0.00,0.00, 0.00,0.01,0.00,0.00,0.00,0.00,0.00,0.00,0.00,0.00,0.03,0.04,0.02,0.01,0.53, 0.81,0.84,0.91,0.20,0.10,0.45,0.11,0.00,0.01,0.00,0.00,0.00,0.00,0.00,0.00, 0.00,0.00,0.00,0.00,0.00,0.00,0.00,0.00,0.03,0.03,0.03,0.16,0.77,0.84,0.90, 0.58,0.19,0.07,0.10,0.06,0.03,0.01,0.00,0.00,0.00,0.00,0.00,0.00,0.00,0.00, 0.00,0.00,0.00,0.00,0.00,0.00,0.00,0.01,0.03,0.29,0.91,0.94,0.82,0.03,0.20, 0.23,0.31,0.05,0.00,0.00,0.00,0.00,0.00,0.00,0.00,0.00,0.00,0.00,0.00,0.00, 0.00,0.00,0.00,0.00,0.00,0.01,0.01,0.27,0.74,0.96,0.80,0.07,0.01,0.34,0.27, 0.06,0.00,0.00,0.00,0.00,0.00,0.00,0.00,0.00,0.00,0.00,0.00,0.00,0.00,0.00, 0.00,0.00,0.00,0.00,0.02,0.02,0.81,0.90,0.83,0.00,0.00,0.03,0.18,0.06,0.01, 0.00,0.00,0.00,0.00,0.00,0.00,0.00,0.00,0.00,0.00,0.00,0.00,0.00,0.00,0.00, 0.00,0.00,0.00,0.00,0.00,0.00,0.00,0.00,0.00,0.01,0.04,0.05,0.04,0.00,0.00, 0.00,0.00,0.00,0.00,0.00,0.00,0.00,0.00,0.00,0.00,0.00,0.00,0.00,0.00,0.00, 0.00,0.00,0.00,0.00,0.00,0.00,0.00,0.00,0.00,0.02,0.07,0.05,0.00,0.00,0.00, 0.00,0.00,0.00,0.00,0.00,0.00,0.00,0.00,0.00,0.00,0.00,0.00,0.00,0.00,0.00, 0.00,0.00,0.00,0.00,0.00,0.00,0.00,0.00,0.00,0.00,0.00,0.00,0.00,0.00,0.00, 0.00,0.00,0.00,0.00] | correct\n",
      "4 | [[[0.00],  [0.00],  [0.00],  [0.00],  [0.00],  [0.00],  [0.00],  [0.00],  [0.00],  [0.00],  [0.00],  [0.00],  [0.00],  [0.00],  [0.00],  [0.00],  [0.00],  [0.00],  [0.00],  [0.00],  [0.00],  [0.00],  [0.00],  [0.00],  [0.00],  [0.00],  [0.00],  [0.00]], [[0.00],  [0.00],  [0.00],  [0.00],  [0.00],  [0.00],  [0.00],  [0.00],  [0.00],  [0.00],  [0.00],  [0.00],  [0.00],  [0.00],  [0.00],  [0.00],  [0.00],  [0.00],  [0.00],  [0.00],  [0.00],  [0.00],  [0.00],  [0.00],  [0.00],  [0.00],  [0.00],  [0.00]], [[0.00],  [0.00],  [0.00],  [0.00],  [0.00],  [0.00],  [0.00],  [0.00],  [0.00],  [0.00],  [0.00],  [0.00],  [0.00],  [0.00],  [0.00],  [0.00],  [0.00],  [0.00],  [0.00],  [0.00],  [0.00],  [0.00],  [0.00],  [0.00],  [0.00],  [0.00],  [0.00],  [0.00]], [[0.00],  [0.00],  [0.00],  [0.00],  [0.00],  [0.00],  [0.00],  [0.00],  [0.00],  [0.00],  [0.00],  [0.00],  [0.00],  [0.00],  [0.00],  [0.00],  [0.00],  [0.00],  [0.00],  [0.00],  [0.00],  [0.00],  [0.00],  [0.00],  [0.00],  [0.00],  [0.00],  [0.00]], [[0.00],  [0.00],  [0.00],  [0.00],  [0.00],  [0.00],  [0.00],  [0.00],  [0.00],  [0.00],  [0.00],  [0.00],  [0.00],  [0.00],  [0.00],  [0.00],  [0.00],  [0.00],  [0.00],  [0.00],  [0.00],  [0.00],  [0.00],  [0.00],  [0.00],  [0.00],  [0.00],  [0.00]], [[0.00],  [0.00],  [0.00],  [0.00],  [0.00],  [0.00],  [0.00],  [0.00],  [0.00],  [0.00],  [0.00],  [0.00],  [0.00],  [0.00],  [0.00],  [0.00],  [0.00],  [0.00],  [0.00],  [0.00],  [0.00],  [0.00],  [0.00],  [0.00],  [0.00],  [0.00],  [0.00],  [0.00]], [[0.00],  [0.00],  [0.00],  [0.00],  [0.00],  [0.00],  [0.00],  [0.00],  [0.00],  [0.00],  [0.00],  [0.00],  [0.00],  [0.00],  [0.00],  [0.00],  [0.00],  [0.00],  [0.00],  [0.00],  [0.00],  [0.00],  [0.00],  [0.00],  [0.00],  [0.00],  [0.00],  [0.00]], [[0.00],  [0.00],  [0.00],  [0.00],  [0.00],  [0.00],  [0.00],  [0.00],  [0.00],  [0.00],  [0.00],  [0.00],  [0.22],  [0.58],  [0.82],  [0.99],  [0.99],  [0.44],  [0.34],  [0.58],  [0.22],  [0.00],  [0.00],  [0.00],  [0.00],  [0.00],  [0.00],  [0.00]], [[0.00],  [0.00],  [0.00],  [0.00],  [0.00],  [0.00],  [0.00],  [0.00],  [0.00],  [0.00],  [0.00],  [0.34],  [0.91],  [0.99],  [0.99],  [0.74],  [0.82],  [0.99],  [0.99],  [0.99],  [0.66],  [0.00],  [0.00],  [0.00],  [0.00],  [0.00],  [0.00],  [0.00]], [[0.00],  [0.00],  [0.00],  [0.00],  [0.00],  [0.00],  [0.00],  [0.00],  [0.00],  [0.02],  [0.22],  [0.95],  [0.99],  [0.75],  [0.25],  [0.02],  [0.05],  [0.71],  [0.99],  [0.99],  [0.45],  [0.00],  [0.00],  [0.00],  [0.00],  [0.00],  [0.00],  [0.00]], [[0.00],  [0.00],  [0.00],  [0.00],  [0.00],  [0.00],  [0.00],  [0.00],  [0.00],  [0.38],  [0.99],  [0.99],  [0.72],  [0.05],  [0.00],  [0.00],  [0.36],  [0.99],  [0.99],  [0.88],  [0.08],  [0.00],  [0.00],  [0.00],  [0.00],  [0.00],  [0.00],  [0.00]], [[0.00],  [0.00],  [0.00],  [0.00],  [0.00],  [0.00],  [0.00],  [0.00],  [0.52],  [0.99],  [0.99],  [0.57],  [0.05],  [0.00],  [0.00],  [0.00],  [0.84],  [0.99],  [0.99],  [0.31],  [0.00],  [0.00],  [0.00],  [0.00],  [0.00],  [0.00],  [0.00],  [0.00]], [[0.00],  [0.00],  [0.00],  [0.00],  [0.00],  [0.00],  [0.00],  [0.49],  [0.99],  [0.97],  [0.69],  [0.04],  [0.00],  [0.00],  [0.03],  [0.31],  [0.96],  [0.99],  [0.51],  [0.00],  [0.00],  [0.00],  [0.00],  [0.00],  [0.00],  [0.00],  [0.00],  [0.00]], [[0.00],  [0.00],  [0.00],  [0.00],  [0.00],  [0.00],  [0.06],  [0.91],  [0.99],  [0.69],  [0.00],  [0.00],  [0.00],  [0.14],  [0.79],  [0.99],  [0.99],  [0.66],  [0.04],  [0.00],  [0.00],  [0.00],  [0.00],  [0.00],  [0.00],  [0.00],  [0.00],  [0.00]], [[0.00],  [0.00],  [0.00],  [0.00],  [0.00],  [0.00],  [0.09],  [0.99],  [0.99],  [0.12],  [0.09],  [0.47],  [0.77],  [0.95],  [0.99],  [0.99],  [0.98],  [0.30],  [0.00],  [0.00],  [0.00],  [0.00],  [0.00],  [0.00],  [0.00],  [0.00],  [0.00],  [0.00]], [[0.00],  [0.00],  [0.00],  [0.00],  [0.00],  [0.00],  [0.06],  [0.91],  [0.99],  [0.99],  [0.99],  [0.99],  [0.99],  [0.89],  [0.89],  [0.99],  [0.91],  [0.00],  [0.00],  [0.00],  [0.00],  [0.00],  [0.00],  [0.00],  [0.00],  [0.00],  [0.00],  [0.00]], [[0.00],  [0.00],  [0.00],  [0.00],  [0.00],  [0.00],  [0.00],  [0.22],  [0.92],  [0.99],  [0.85],  [0.54],  [0.16],  [0.09],  [0.75],  [0.99],  [0.56],  [0.00],  [0.00],  [0.00],  [0.00],  [0.00],  [0.00],  [0.00],  [0.00],  [0.00],  [0.00],  [0.00]], [[0.00],  [0.00],  [0.00],  [0.00],  [0.00],  [0.00],  [0.00],  [0.00],  [0.00],  [0.00],  [0.00],  [0.00],  [0.00],  [0.24],  [1.00],  [0.99],  [0.43],  [0.00],  [0.00],  [0.00],  [0.00],  [0.00],  [0.00],  [0.00],  [0.00],  [0.00],  [0.00],  [0.00]], [[0.00],  [0.00],  [0.00],  [0.00],  [0.00],  [0.00],  [0.00],  [0.00],  [0.00],  [0.00],  [0.00],  [0.00],  [0.00],  [0.28],  [0.99],  [0.99],  [0.08],  [0.00],  [0.00],  [0.00],  [0.00],  [0.00],  [0.00],  [0.00],  [0.00],  [0.00],  [0.00],  [0.00]], [[0.00],  [0.00],  [0.00],  [0.00],  [0.00],  [0.00],  [0.00],  [0.00],  [0.00],  [0.00],  [0.00],  [0.00],  [0.00],  [0.00],  [0.99],  [0.99],  [0.08],  [0.00],  [0.00],  [0.00],  [0.00],  [0.00],  [0.00],  [0.00],  [0.00],  [0.00],  [0.00],  [0.00]], [[0.00],  [0.00],  [0.00],  [0.00],  [0.00],  [0.00],  [0.00],  [0.00],  [0.00],  [0.00],  [0.00],  [0.00],  [0.00],  [0.28],  [0.99],  [0.99],  [0.08],  [0.00],  [0.00],  [0.00],  [0.00],  [0.00],  [0.00],  [0.00],  [0.00],  [0.00],  [0.00],  [0.00]], [[0.00],  [0.00],  [0.00],  [0.00],  [0.00],  [0.00],  [0.00],  [0.00],  [0.00],  [0.00],  [0.00],  [0.00],  [0.00],  [0.42],  [0.99],  [0.99],  [0.08],  [0.00],  [0.00],  [0.00],  [0.00],  [0.00],  [0.00],  [0.00],  [0.00],  [0.00],  [0.00],  [0.00]], [[0.00],  [0.00],  [0.00],  [0.00],  [0.00],  [0.00],  [0.00],  [0.00],  [0.00],  [0.00],  [0.00],  [0.00],  [0.00],  [0.18],  [1.00],  [0.99],  [0.08],  [0.00],  [0.00],  [0.00],  [0.00],  [0.00],  [0.00],  [0.00],  [0.00],  [0.00],  [0.00],  [0.00]], [[0.00],  [0.00],  [0.00],  [0.00],  [0.00],  [0.00],  [0.00],  [0.00],  [0.00],  [0.00],  [0.00],  [0.00],  [0.00],  [0.00],  [0.85],  [0.99],  [0.22],  [0.00],  [0.00],  [0.00],  [0.00],  [0.00],  [0.00],  [0.00],  [0.00],  [0.00],  [0.00],  [0.00]], [[0.00],  [0.00],  [0.00],  [0.00],  [0.00],  [0.00],  [0.00],  [0.00],  [0.00],  [0.00],  [0.00],  [0.00],  [0.00],  [0.00],  [0.38],  [0.99],  [0.74],  [0.16],  [0.00],  [0.00],  [0.00],  [0.00],  [0.00],  [0.00],  [0.00],  [0.00],  [0.00],  [0.00]], [[0.00],  [0.00],  [0.00],  [0.00],  [0.00],  [0.00],  [0.00],  [0.00],  [0.00],  [0.00],  [0.00],  [0.00],  [0.00],  [0.00],  [0.05],  [0.72],  [0.99],  [0.67],  [0.04],  [0.00],  [0.00],  [0.00],  [0.00],  [0.00],  [0.00],  [0.00],  [0.00],  [0.00]], [[0.00],  [0.00],  [0.00],  [0.00],  [0.00],  [0.00],  [0.00],  [0.00],  [0.00],  [0.00],  [0.00],  [0.00],  [0.00],  [0.00],  [0.00],  [0.05],  [0.58],  [0.99],  [0.16],  [0.00],  [0.00],  [0.00],  [0.00],  [0.00],  [0.00],  [0.00],  [0.00],  [0.00]], [[0.00],  [0.00],  [0.00],  [0.00],  [0.00],  [0.00],  [0.00],  [0.00],  [0.00],  [0.00],  [0.00],  [0.00],  [0.00],  [0.00],  [0.00],  [0.00],  [0.00],  [0.00],  [0.00],  [0.00],  [0.00],  [0.00],  [0.00],  [0.00],  [0.00],  [0.00],  [0.00],  [0.00]]] | [0.00,0.00,0.00,0.00,0.00,0.00,0.00,0.00,0.00,0.00,0.00,0.00,0.00,0.00,0.00, 0.00,0.00,0.00,0.00,0.00,0.00,0.00,0.00,0.00,0.00,0.00,0.00,0.00,0.00,0.00, 0.00,0.00,0.00,0.00,0.00,0.00,0.00,0.00,0.00,0.00,0.00,0.00,0.00,0.00,0.00, 0.00,0.00,0.00,0.00,0.00,0.00,0.00,0.00,0.00,0.00,0.00,0.00,0.00,0.00,0.00, 0.00,0.00,0.00,0.00,0.00,0.00,0.00,0.00,0.00,0.00,0.00,0.00,0.00,0.00,0.00, 0.00,0.00,0.00,0.00,0.00,0.00,0.00,0.00,0.00,0.00,0.00,0.00,0.00,0.00,0.00, 0.00,0.00,0.00,0.00,0.00,0.00,0.00,0.00,0.00,0.00,0.00,0.00,0.00,0.00,0.00, 0.00,0.00,0.00,0.00,0.00,0.00,0.00,0.00,0.00,0.00,0.00,0.00,0.00,0.00,0.00, 0.00,0.00,0.00,0.00,0.00,0.00,0.00,0.00,0.00,0.00,0.00,0.00,0.00,0.00,0.00, 0.00,0.00,0.00,0.00,0.00,0.00,0.00,0.00,0.00,0.00,0.00,0.00,0.00,0.00,0.00, 0.00,0.00,0.00,0.00,0.00,0.00,0.00,0.00,0.00,0.00,0.00,0.00,0.00,0.00,0.00, 0.00,0.00,0.00,0.00,0.00,0.00,0.00,0.00,0.00,0.00,0.00,0.00,0.00,0.00,0.00, 0.00,0.00,0.00,0.00,0.00,0.00,0.00,0.00,0.00,0.00,0.00,0.00,0.00,0.00,0.00, 0.00,0.00,0.00,0.00,0.00,0.00,0.00,0.00,0.00,0.00,0.00,0.00,0.00,0.22,0.58, 0.82,0.99,0.99,0.44,0.34,0.58,0.22,0.00,0.00,0.00,0.00,0.00,0.00,0.00,0.00, 0.00,0.00,0.00,0.00,0.00,0.00,0.00,0.00,0.00,0.00,0.34,0.91,0.99,0.99,0.74, 0.82,0.99,0.99,0.99,0.66,0.00,0.00,0.00,0.00,0.00,0.00,0.00,0.00,0.00,0.00, 0.00,0.00,0.00,0.00,0.00,0.00,0.02,0.22,0.95,0.99,0.75,0.25,0.02,0.05,0.71, 0.99,0.99,0.45,0.00,0.00,0.00,0.00,0.00,0.00,0.00,0.00,0.00,0.00,0.00,0.00, 0.00,0.00,0.00,0.00,0.38,0.99,0.99,0.72,0.05,0.00,0.00,0.36,0.99,0.99,0.88, 0.08,0.00,0.00,0.00,0.00,0.00,0.00,0.00,0.00,0.00,0.00,0.00,0.00,0.00,0.00, 0.00,0.52,0.99,0.99,0.57,0.05,0.00,0.00,0.00,0.84,0.99,0.99,0.31,0.00,0.00, 0.00,0.00,0.00,0.00,0.00,0.00,0.00,0.00,0.00,0.00,0.00,0.00,0.00,0.49,0.99, 0.97,0.69,0.04,0.00,0.00,0.03,0.31,0.96,0.99,0.51,0.00,0.00,0.00,0.00,0.00, 0.00,0.00,0.00,0.00,0.00,0.00,0.00,0.00,0.00,0.00,0.06,0.91,0.99,0.69,0.00, 0.00,0.00,0.14,0.79,0.99,0.99,0.66,0.04,0.00,0.00,0.00,0.00,0.00,0.00,0.00, 0.00,0.00,0.00,0.00,0.00,0.00,0.00,0.00,0.09,0.99,0.99,0.12,0.09,0.47,0.77, 0.95,0.99,0.99,0.98,0.30,0.00,0.00,0.00,0.00,0.00,0.00,0.00,0.00,0.00,0.00, 0.00,0.00,0.00,0.00,0.00,0.00,0.06,0.91,0.99,0.99,0.99,0.99,0.99,0.89,0.89, 0.99,0.91,0.00,0.00,0.00,0.00,0.00,0.00,0.00,0.00,0.00,0.00,0.00,0.00,0.00, 0.00,0.00,0.00,0.00,0.00,0.22,0.92,0.99,0.85,0.54,0.16,0.09,0.75,0.99,0.56, 0.00,0.00,0.00,0.00,0.00,0.00,0.00,0.00,0.00,0.00,0.00,0.00,0.00,0.00,0.00, 0.00,0.00,0.00,0.00,0.00,0.00,0.00,0.00,0.00,0.24,1.00,0.99,0.43,0.00,0.00, 0.00,0.00,0.00,0.00,0.00,0.00,0.00,0.00,0.00,0.00,0.00,0.00,0.00,0.00,0.00, 0.00,0.00,0.00,0.00,0.00,0.00,0.00,0.28,0.99,0.99,0.08,0.00,0.00,0.00,0.00, 0.00,0.00,0.00,0.00,0.00,0.00,0.00,0.00,0.00,0.00,0.00,0.00,0.00,0.00,0.00, 0.00,0.00,0.00,0.00,0.00,0.00,0.99,0.99,0.08,0.00,0.00,0.00,0.00,0.00,0.00, 0.00,0.00,0.00,0.00,0.00,0.00,0.00,0.00,0.00,0.00,0.00,0.00,0.00,0.00,0.00, 0.00,0.00,0.00,0.28,0.99,0.99,0.08,0.00,0.00,0.00,0.00,0.00,0.00,0.00,0.00, 0.00,0.00,0.00,0.00,0.00,0.00,0.00,0.00,0.00,0.00,0.00,0.00,0.00,0.00,0.00, 0.00,0.42,0.99,0.99,0.08,0.00,0.00,0.00,0.00,0.00,0.00,0.00,0.00,0.00,0.00, 0.00,0.00,0.00,0.00,0.00,0.00,0.00,0.00,0.00,0.00,0.00,0.00,0.00,0.00,0.18, 1.00,0.99,0.08,0.00,0.00,0.00,0.00,0.00,0.00,0.00,0.00,0.00,0.00,0.00,0.00, 0.00,0.00,0.00,0.00,0.00,0.00,0.00,0.00,0.00,0.00,0.00,0.00,0.00,0.85,0.99, 0.22,0.00,0.00,0.00,0.00,0.00,0.00,0.00,0.00,0.00,0.00,0.00,0.00,0.00,0.00, 0.00,0.00,0.00,0.00,0.00,0.00,0.00,0.00,0.00,0.00,0.00,0.38,0.99,0.74,0.16, 0.00,0.00,0.00,0.00,0.00,0.00,0.00,0.00,0.00,0.00,0.00,0.00,0.00,0.00,0.00, 0.00,0.00,0.00,0.00,0.00,0.00,0.00,0.00,0.00,0.05,0.72,0.99,0.67,0.04,0.00, 0.00,0.00,0.00,0.00,0.00,0.00,0.00,0.00,0.00,0.00,0.00,0.00,0.00,0.00,0.00, 0.00,0.00,0.00,0.00,0.00,0.00,0.00,0.00,0.05,0.58,0.99,0.16,0.00,0.00,0.00, 0.00,0.00,0.00,0.00,0.00,0.00,0.00,0.00,0.00,0.00,0.00,0.00,0.00,0.00,0.00, 0.00,0.00,0.00,0.00,0.00,0.00,0.00,0.00,0.00,0.00,0.00,0.00,0.00,0.00,0.00, 0.00,0.00,0.00,0.00] | [0.00,0.00,0.00,0.00,0.00,0.00,0.00,0.00,0.00,0.00,0.00,0.00,0.00,0.00,0.00, 0.00,0.00,0.00,0.00,0.00,0.00,0.00,0.00,0.00,0.00,0.00,0.00,0.00,0.00,0.00, 0.00,0.00,0.00,0.00,0.00,0.00,0.00,0.00,0.00,0.00,0.00,0.00,0.00,0.00,0.00, 0.00,0.00,0.00,0.00,0.00,0.00,0.00,0.00,0.00,0.00,0.00,0.00,0.00,0.00,0.00, 0.00,0.00,0.00,0.00,0.00,0.00,0.00,0.00,0.00,0.00,0.00,0.00,0.00,0.00,0.00, 0.00,0.00,0.00,0.00,0.00,0.00,0.00,0.00,0.00,0.00,0.00,0.00,0.00,0.00,0.00, 0.00,0.00,0.00,0.00,0.00,0.00,0.00,0.00,0.00,0.00,0.00,0.00,0.00,0.00,0.00, 0.00,0.00,0.00,0.00,0.00,0.00,0.00,0.00,0.00,0.00,0.00,0.00,0.00,0.00,0.00, 0.00,0.00,0.00,0.00,0.01,0.00,0.00,0.01,0.00,0.00,0.00,0.00,0.00,0.00,0.03, 0.06,0.00,0.00,0.00,0.00,0.00,0.00,0.00,0.00,0.00,0.00,0.00,0.00,0.00,0.00, 0.00,0.00,0.01,0.03,0.12,0.04,0.00,0.00,0.03,0.04,0.02,0.00,0.01,0.01,0.00, 0.00,0.00,0.00,0.00,0.00,0.00,0.00,0.00,0.00,0.00,0.00,0.00,0.00,0.00,0.00, 0.00,0.02,0.03,0.00,0.00,0.01,0.07,0.03,0.03,0.01,0.01,0.00,0.00,0.00,0.00, 0.00,0.00,0.00,0.00,0.00,0.00,0.00,0.00,0.00,0.00,0.00,0.00,0.00,0.02,0.39, 0.75,0.68,0.76,0.17,0.24,0.51,0.19,0.01,0.00,0.00,0.00,0.00,0.00,0.00,0.00, 0.00,0.00,0.00,0.00,0.00,0.00,0.00,0.00,0.00,0.00,0.10,0.61,0.95,0.93,0.65, 0.57,0.81,0.94,0.93,0.37,0.00,0.00,0.00,0.00,0.00,0.00,0.00,0.00,0.00,0.00, 0.00,0.00,0.00,0.00,0.00,0.00,0.00,0.10,0.75,0.91,0.93,0.52,0.13,0.21,0.61, 0.88,0.90,0.19,0.00,0.00,0.00,0.00,0.00,0.00,0.00,0.00,0.00,0.00,0.00,0.00, 0.00,0.00,0.00,0.00,0.30,0.87,0.78,0.75,0.45,0.17,0.23,0.59,0.83,0.88,0.81, 0.01,0.01,0.00,0.00,0.00,0.00,0.00,0.00,0.00,0.00,0.00,0.00,0.00,0.00,0.00, 0.00,0.46,0.76,0.77,0.43,0.05,0.22,0.11,0.27,0.65,0.79,0.82,0.17,0.00,0.02, 0.00,0.00,0.00,0.00,0.00,0.00,0.00,0.00,0.00,0.00,0.00,0.00,0.00,0.42,0.76, 0.75,0.61,0.07,0.01,0.03,0.16,0.33,0.65,0.62,0.47,0.00,0.00,0.01,0.00,0.00, 0.00,0.00,0.00,0.00,0.00,0.00,0.00,0.00,0.00,0.00,0.01,0.75,0.78,0.56,0.01, 0.01,0.00,0.08,0.75,0.72,0.65,0.48,0.03,0.00,0.01,0.00,0.00,0.00,0.00,0.00, 0.00,0.00,0.00,0.00,0.00,0.00,0.00,0.00,0.03,0.82,0.71,0.02,0.01,0.12,0.54, 0.85,0.88,0.61,0.44,0.23,0.00,0.00,0.01,0.00,0.00,0.00,0.00,0.00,0.00,0.00, 0.00,0.00,0.00,0.00,0.00,0.00,0.01,0.67,0.77,0.62,0.81,0.82,0.96,0.92,0.93, 0.86,0.67,0.00,0.00,0.00,0.00,0.01,0.00,0.00,0.00,0.00,0.00,0.00,0.00,0.00, 0.00,0.00,0.00,0.00,0.01,0.25,0.87,0.88,0.55,0.40,0.37,0.43,0.96,0.97,0.51, 0.00,0.00,0.01,0.01,0.00,0.00,0.00,0.00,0.00,0.00,0.00,0.00,0.00,0.00,0.00, 0.00,0.00,0.03,0.20,0.07,0.01,0.03,0.10,0.18,0.59,1.00,0.97,0.56,0.01,0.00, 0.01,0.05,0.01,0.00,0.00,0.00,0.00,0.00,0.00,0.00,0.00,0.00,0.00,0.00,0.00, 0.04,0.09,0.03,0.00,0.06,0.08,0.22,0.51,0.98,0.93,0.10,0.00,0.00,0.00,0.00, 0.01,0.01,0.01,0.00,0.00,0.00,0.00,0.00,0.00,0.00,0.00,0.00,0.00,0.02,0.03, 0.01,0.00,0.09,0.16,0.19,0.22,0.91,0.72,0.00,0.00,0.00,0.00,0.00,0.00,0.00, 0.00,0.00,0.00,0.00,0.00,0.00,0.00,0.00,0.00,0.00,0.01,0.01,0.00,0.03,0.09, 0.17,0.16,0.17,0.17,0.77,0.62,0.00,0.00,0.00,0.00,0.00,0.00,0.00,0.00,0.00, 0.00,0.00,0.00,0.00,0.00,0.00,0.00,0.00,0.00,0.01,0.00,0.05,0.16,0.15,0.12, 0.07,0.19,0.78,0.84,0.06,0.00,0.00,0.00,0.00,0.00,0.00,0.00,0.00,0.00,0.00, 0.00,0.00,0.00,0.00,0.00,0.00,0.00,0.00,0.00,0.00,0.04,0.04,0.04,0.00,0.01, 0.64,0.72,0.03,0.01,0.00,0.00,0.00,0.00,0.00,0.00,0.00,0.00,0.00,0.00,0.00, 0.00,0.00,0.00,0.00,0.00,0.00,0.00,0.00,0.06,0.03,0.08,0.01,0.00,0.54,0.80, 0.08,0.00,0.00,0.00,0.00,0.00,0.00,0.00,0.00,0.00,0.00,0.00,0.00,0.00,0.00, 0.00,0.00,0.00,0.00,0.00,0.00,0.00,0.02,0.03,0.00,0.00,0.36,0.80,0.66,0.06, 0.00,0.00,0.00,0.00,0.00,0.00,0.00,0.00,0.00,0.00,0.00,0.00,0.00,0.00,0.00, 0.00,0.00,0.00,0.00,0.00,0.00,0.00,0.00,0.00,0.02,0.65,0.84,0.59,0.00,0.00, 0.00,0.00,0.00,0.00,0.00,0.00,0.00,0.00,0.00,0.00,0.00,0.00,0.00,0.00,0.00, 0.00,0.00,0.00,0.00,0.00,0.00,0.00,0.00,0.01,0.53,0.83,0.10,0.00,0.00,0.00, 0.00,0.00,0.00,0.00,0.00,0.00,0.00,0.00,0.00,0.00,0.00,0.00,0.00,0.00,0.00, 0.00,0.00,0.00,0.00,0.00,0.00,0.00,0.00,0.00,0.00,0.00,0.00,0.00,0.00,0.00, 0.00,0.00,0.00,0.00] | correct\n",
      "5 | [[[0.00],  [0.00],  [0.00],  [0.00],  [0.00],  [0.00],  [0.00],  [0.00],  [0.00],  [0.00],  [0.00],  [0.00],  [0.00],  [0.00],  [0.00],  [0.00],  [0.00],  [0.00],  [0.00],  [0.00],  [0.00],  [0.00],  [0.00],  [0.00],  [0.00],  [0.00],  [0.00],  [0.00]], [[0.00],  [0.00],  [0.00],  [0.00],  [0.00],  [0.00],  [0.00],  [0.00],  [0.00],  [0.00],  [0.00],  [0.00],  [0.00],  [0.00],  [0.00],  [0.00],  [0.00],  [0.00],  [0.00],  [0.00],  [0.00],  [0.00],  [0.00],  [0.00],  [0.00],  [0.00],  [0.00],  [0.00]], [[0.00],  [0.00],  [0.00],  [0.00],  [0.00],  [0.00],  [0.00],  [0.00],  [0.00],  [0.00],  [0.00],  [0.00],  [0.00],  [0.00],  [0.00],  [0.00],  [0.00],  [0.00],  [0.00],  [0.00],  [0.00],  [0.00],  [0.00],  [0.00],  [0.00],  [0.00],  [0.00],  [0.00]], [[0.00],  [0.00],  [0.00],  [0.00],  [0.00],  [0.00],  [0.00],  [0.00],  [0.00],  [0.00],  [0.00],  [0.00],  [0.00],  [0.00],  [0.00],  [0.00],  [0.00],  [0.00],  [0.00],  [0.00],  [0.00],  [0.00],  [0.00],  [0.00],  [0.00],  [0.00],  [0.00],  [0.00]], [[0.00],  [0.00],  [0.00],  [0.00],  [0.00],  [0.00],  [0.00],  [0.00],  [0.00],  [0.00],  [0.00],  [0.00],  [0.00],  [0.00],  [0.00],  [0.00],  [0.00],  [0.00],  [0.00],  [0.00],  [0.00],  [0.00],  [0.00],  [0.00],  [0.00],  [0.00],  [0.00],  [0.00]], [[0.00],  [0.00],  [0.00],  [0.00],  [0.00],  [0.00],  [0.00],  [0.00],  [0.00],  [0.00],  [0.00],  [0.00],  [0.00],  [0.00],  [0.00],  [0.05],  [0.10],  [0.39],  [0.48],  [0.03],  [0.00],  [0.00],  [0.00],  [0.00],  [0.00],  [0.00],  [0.00],  [0.00]], [[0.00],  [0.00],  [0.00],  [0.00],  [0.00],  [0.00],  [0.00],  [0.00],  [0.00],  [0.00],  [0.00],  [0.00],  [0.00],  [0.13],  [0.59],  [0.82],  [0.99],  [0.99],  [0.99],  [0.57],  [0.00],  [0.00],  [0.00],  [0.00],  [0.00],  [0.00],  [0.00],  [0.00]], [[0.00],  [0.00],  [0.00],  [0.00],  [0.00],  [0.00],  [0.00],  [0.00],  [0.00],  [0.00],  [0.00],  [0.16],  [0.60],  [0.96],  [0.99],  [0.99],  [0.88],  [0.83],  [0.99],  [0.91],  [0.16],  [0.00],  [0.00],  [0.00],  [0.00],  [0.00],  [0.00],  [0.00]], [[0.00],  [0.00],  [0.00],  [0.00],  [0.00],  [0.00],  [0.00],  [0.00],  [0.00],  [0.06],  [0.60],  [0.94],  [0.99],  [0.99],  [0.99],  [0.85],  [0.12],  [0.15],  [0.99],  [0.99],  [0.24],  [0.00],  [0.00],  [0.00],  [0.00],  [0.00],  [0.00],  [0.00]], [[0.00],  [0.00],  [0.00],  [0.00],  [0.00],  [0.00],  [0.00],  [0.00],  [0.00],  [0.38],  [0.99],  [0.99],  [0.99],  [0.99],  [0.85],  [0.11],  [0.00],  [0.15],  [0.99],  [0.99],  [0.24],  [0.00],  [0.00],  [0.00],  [0.00],  [0.00],  [0.00],  [0.00]], [[0.00],  [0.00],  [0.00],  [0.00],  [0.00],  [0.00],  [0.00],  [0.00],  [0.00],  [0.71],  [0.99],  [0.99],  [0.86],  [0.65],  [0.12],  [0.00],  [0.00],  [0.30],  [0.99],  [0.99],  [0.24],  [0.00],  [0.00],  [0.00],  [0.00],  [0.00],  [0.00],  [0.00]], [[0.00],  [0.00],  [0.00],  [0.00],  [0.00],  [0.00],  [0.00],  [0.00],  [0.00],  [0.10],  [0.50],  [0.23],  [0.09],  [0.00],  [0.00],  [0.00],  [0.00],  [0.39],  [0.99],  [0.99],  [0.24],  [0.00],  [0.00],  [0.00],  [0.00],  [0.00],  [0.00],  [0.00]], [[0.00],  [0.00],  [0.00],  [0.00],  [0.00],  [0.00],  [0.00],  [0.00],  [0.00],  [0.00],  [0.00],  [0.00],  [0.00],  [0.00],  [0.00],  [0.00],  [0.00],  [0.62],  [0.99],  [0.99],  [0.24],  [0.00],  [0.00],  [0.00],  [0.00],  [0.00],  [0.00],  [0.00]], [[0.00],  [0.00],  [0.00],  [0.00],  [0.00],  [0.00],  [0.00],  [0.00],  [0.00],  [0.00],  [0.00],  [0.00],  [0.00],  [0.43],  [0.47],  [0.48],  [0.47],  [0.79],  [0.99],  [0.76],  [0.01],  [0.00],  [0.00],  [0.00],  [0.00],  [0.00],  [0.00],  [0.00]], [[0.00],  [0.00],  [0.00],  [0.00],  [0.00],  [0.00],  [0.00],  [0.00],  [0.00],  [0.00],  [0.04],  [0.21],  [0.70],  [0.99],  [0.99],  [1.00],  [0.99],  [0.99],  [0.89],  [0.14],  [0.00],  [0.00],  [0.00],  [0.00],  [0.00],  [0.00],  [0.00],  [0.00]], [[0.00],  [0.00],  [0.00],  [0.00],  [0.00],  [0.00],  [0.00],  [0.00],  [0.02],  [0.21],  [0.89],  [0.99],  [0.95],  [0.89],  [0.67],  [0.95],  [0.99],  [0.99],  [0.91],  [0.46],  [0.02],  [0.00],  [0.00],  [0.00],  [0.00],  [0.00],  [0.00],  [0.00]], [[0.00],  [0.00],  [0.00],  [0.00],  [0.00],  [0.00],  [0.00],  [0.02],  [0.31],  [0.99],  [0.99],  [0.49],  [0.23],  [0.00],  [0.07],  [0.82],  [0.99],  [0.99],  [0.99],  [0.99],  [0.34],  [0.03],  [0.00],  [0.00],  [0.00],  [0.00],  [0.00],  [0.00]], [[0.00],  [0.00],  [0.00],  [0.00],  [0.00],  [0.00],  [0.02],  [0.53],  [0.99],  [0.99],  [0.71],  [0.06],  [0.00],  [0.08],  [0.80],  [0.99],  [0.97],  [0.51],  [0.68],  [0.99],  [0.99],  [0.72],  [0.26],  [0.19],  [0.19],  [0.00],  [0.00],  [0.00]], [[0.00],  [0.00],  [0.00],  [0.00],  [0.00],  [0.01],  [0.53],  [0.99],  [0.95],  [0.42],  [0.07],  [0.00],  [0.21],  [0.78],  [0.99],  [0.85],  [0.25],  [0.00],  [0.05],  [0.28],  [0.64],  [0.95],  [0.99],  [0.99],  [0.87],  [0.00],  [0.00],  [0.00]], [[0.00],  [0.00],  [0.00],  [0.00],  [0.00],  [0.41],  [0.99],  [0.95],  [0.35],  [0.07],  [0.29],  [0.67],  [0.96],  [0.99],  [0.49],  [0.11],  [0.00],  [0.00],  [0.00],  [0.00],  [0.00],  [0.35],  [0.71],  [0.71],  [0.15],  [0.00],  [0.00],  [0.00]], [[0.00],  [0.00],  [0.00],  [0.00],  [0.00],  [0.91],  [0.99],  [0.96],  [0.80],  [0.85],  [0.99],  [0.99],  [0.99],  [0.49],  [0.01],  [0.00],  [0.00],  [0.00],  [0.00],  [0.00],  [0.00],  [0.00],  [0.00],  [0.00],  [0.00],  [0.00],  [0.00],  [0.00]], [[0.00],  [0.00],  [0.00],  [0.00],  [0.00],  [0.81],  [0.99],  [0.99],  [0.99],  [0.99],  [0.70],  [0.45],  [0.14],  [0.02],  [0.00],  [0.00],  [0.00],  [0.00],  [0.00],  [0.00],  [0.00],  [0.00],  [0.00],  [0.00],  [0.00],  [0.00],  [0.00],  [0.00]], [[0.00],  [0.00],  [0.00],  [0.00],  [0.00],  [0.05],  [0.36],  [0.56],  [0.47],  [0.09],  [0.02],  [0.00],  [0.00],  [0.00],  [0.00],  [0.00],  [0.00],  [0.00],  [0.00],  [0.00],  [0.00],  [0.00],  [0.00],  [0.00],  [0.00],  [0.00],  [0.00],  [0.00]], [[0.00],  [0.00],  [0.00],  [0.00],  [0.00],  [0.00],  [0.00],  [0.00],  [0.00],  [0.00],  [0.00],  [0.00],  [0.00],  [0.00],  [0.00],  [0.00],  [0.00],  [0.00],  [0.00],  [0.00],  [0.00],  [0.00],  [0.00],  [0.00],  [0.00],  [0.00],  [0.00],  [0.00]], [[0.00],  [0.00],  [0.00],  [0.00],  [0.00],  [0.00],  [0.00],  [0.00],  [0.00],  [0.00],  [0.00],  [0.00],  [0.00],  [0.00],  [0.00],  [0.00],  [0.00],  [0.00],  [0.00],  [0.00],  [0.00],  [0.00],  [0.00],  [0.00],  [0.00],  [0.00],  [0.00],  [0.00]], [[0.00],  [0.00],  [0.00],  [0.00],  [0.00],  [0.00],  [0.00],  [0.00],  [0.00],  [0.00],  [0.00],  [0.00],  [0.00],  [0.00],  [0.00],  [0.00],  [0.00],  [0.00],  [0.00],  [0.00],  [0.00],  [0.00],  [0.00],  [0.00],  [0.00],  [0.00],  [0.00],  [0.00]], [[0.00],  [0.00],  [0.00],  [0.00],  [0.00],  [0.00],  [0.00],  [0.00],  [0.00],  [0.00],  [0.00],  [0.00],  [0.00],  [0.00],  [0.00],  [0.00],  [0.00],  [0.00],  [0.00],  [0.00],  [0.00],  [0.00],  [0.00],  [0.00],  [0.00],  [0.00],  [0.00],  [0.00]], [[0.00],  [0.00],  [0.00],  [0.00],  [0.00],  [0.00],  [0.00],  [0.00],  [0.00],  [0.00],  [0.00],  [0.00],  [0.00],  [0.00],  [0.00],  [0.00],  [0.00],  [0.00],  [0.00],  [0.00],  [0.00],  [0.00],  [0.00],  [0.00],  [0.00],  [0.00],  [0.00],  [0.00]]] | [0.00,0.00,0.00,0.00,0.00,0.00,0.00,0.00,0.00,0.00,0.00,0.00,0.00,0.00,0.00, 0.00,0.00,0.00,0.00,0.00,0.00,0.00,0.00,0.00,0.00,0.00,0.00,0.00,0.00,0.00, 0.00,0.00,0.00,0.00,0.00,0.00,0.00,0.00,0.00,0.00,0.00,0.00,0.00,0.00,0.00, 0.00,0.00,0.00,0.00,0.00,0.00,0.00,0.00,0.00,0.00,0.00,0.00,0.00,0.00,0.00, 0.00,0.00,0.00,0.00,0.00,0.00,0.00,0.00,0.00,0.00,0.00,0.00,0.00,0.00,0.00, 0.00,0.00,0.00,0.00,0.00,0.00,0.00,0.00,0.00,0.00,0.00,0.00,0.00,0.00,0.00, 0.00,0.00,0.00,0.00,0.00,0.00,0.00,0.00,0.00,0.00,0.00,0.00,0.00,0.00,0.00, 0.00,0.00,0.00,0.00,0.00,0.00,0.00,0.00,0.00,0.00,0.00,0.00,0.00,0.00,0.00, 0.00,0.00,0.00,0.00,0.00,0.00,0.00,0.00,0.00,0.00,0.00,0.00,0.00,0.00,0.00, 0.00,0.00,0.00,0.00,0.00,0.00,0.00,0.00,0.00,0.00,0.00,0.00,0.00,0.00,0.00, 0.00,0.00,0.00,0.00,0.00,0.05,0.10,0.39,0.48,0.03,0.00,0.00,0.00,0.00,0.00, 0.00,0.00,0.00,0.00,0.00,0.00,0.00,0.00,0.00,0.00,0.00,0.00,0.00,0.00,0.00, 0.00,0.13,0.59,0.82,0.99,0.99,0.99,0.57,0.00,0.00,0.00,0.00,0.00,0.00,0.00, 0.00,0.00,0.00,0.00,0.00,0.00,0.00,0.00,0.00,0.00,0.00,0.00,0.16,0.60,0.96, 0.99,0.99,0.88,0.83,0.99,0.91,0.16,0.00,0.00,0.00,0.00,0.00,0.00,0.00,0.00, 0.00,0.00,0.00,0.00,0.00,0.00,0.00,0.00,0.06,0.60,0.94,0.99,0.99,0.99,0.85, 0.12,0.15,0.99,0.99,0.24,0.00,0.00,0.00,0.00,0.00,0.00,0.00,0.00,0.00,0.00, 0.00,0.00,0.00,0.00,0.00,0.00,0.38,0.99,0.99,0.99,0.99,0.85,0.11,0.00,0.15, 0.99,0.99,0.24,0.00,0.00,0.00,0.00,0.00,0.00,0.00,0.00,0.00,0.00,0.00,0.00, 0.00,0.00,0.00,0.00,0.71,0.99,0.99,0.86,0.65,0.12,0.00,0.00,0.30,0.99,0.99, 0.24,0.00,0.00,0.00,0.00,0.00,0.00,0.00,0.00,0.00,0.00,0.00,0.00,0.00,0.00, 0.00,0.00,0.10,0.50,0.23,0.09,0.00,0.00,0.00,0.00,0.39,0.99,0.99,0.24,0.00, 0.00,0.00,0.00,0.00,0.00,0.00,0.00,0.00,0.00,0.00,0.00,0.00,0.00,0.00,0.00, 0.00,0.00,0.00,0.00,0.00,0.00,0.00,0.00,0.62,0.99,0.99,0.24,0.00,0.00,0.00, 0.00,0.00,0.00,0.00,0.00,0.00,0.00,0.00,0.00,0.00,0.00,0.00,0.00,0.00,0.00, 0.00,0.00,0.43,0.47,0.48,0.47,0.79,0.99,0.76,0.01,0.00,0.00,0.00,0.00,0.00, 0.00,0.00,0.00,0.00,0.00,0.00,0.00,0.00,0.00,0.00,0.00,0.00,0.04,0.21,0.70, 0.99,0.99,1.00,0.99,0.99,0.89,0.14,0.00,0.00,0.00,0.00,0.00,0.00,0.00,0.00, 0.00,0.00,0.00,0.00,0.00,0.00,0.00,0.00,0.02,0.21,0.89,0.99,0.95,0.89,0.67, 0.95,0.99,0.99,0.91,0.46,0.02,0.00,0.00,0.00,0.00,0.00,0.00,0.00,0.00,0.00, 0.00,0.00,0.00,0.00,0.00,0.02,0.31,0.99,0.99,0.49,0.23,0.00,0.07,0.82,0.99, 0.99,0.99,0.99,0.34,0.03,0.00,0.00,0.00,0.00,0.00,0.00,0.00,0.00,0.00,0.00, 0.00,0.00,0.02,0.53,0.99,0.99,0.71,0.06,0.00,0.08,0.80,0.99,0.97,0.51,0.68, 0.99,0.99,0.72,0.26,0.19,0.19,0.00,0.00,0.00,0.00,0.00,0.00,0.00,0.00,0.01, 0.53,0.99,0.95,0.42,0.07,0.00,0.21,0.78,0.99,0.85,0.25,0.00,0.05,0.28,0.64, 0.95,0.99,0.99,0.87,0.00,0.00,0.00,0.00,0.00,0.00,0.00,0.00,0.41,0.99,0.95, 0.35,0.07,0.29,0.67,0.96,0.99,0.49,0.11,0.00,0.00,0.00,0.00,0.00,0.35,0.71, 0.71,0.15,0.00,0.00,0.00,0.00,0.00,0.00,0.00,0.00,0.91,0.99,0.96,0.80,0.85, 0.99,0.99,0.99,0.49,0.01,0.00,0.00,0.00,0.00,0.00,0.00,0.00,0.00,0.00,0.00, 0.00,0.00,0.00,0.00,0.00,0.00,0.00,0.00,0.81,0.99,0.99,0.99,0.99,0.70,0.45, 0.14,0.02,0.00,0.00,0.00,0.00,0.00,0.00,0.00,0.00,0.00,0.00,0.00,0.00,0.00, 0.00,0.00,0.00,0.00,0.00,0.00,0.05,0.36,0.56,0.47,0.09,0.02,0.00,0.00,0.00, 0.00,0.00,0.00,0.00,0.00,0.00,0.00,0.00,0.00,0.00,0.00,0.00,0.00,0.00,0.00, 0.00,0.00,0.00,0.00,0.00,0.00,0.00,0.00,0.00,0.00,0.00,0.00,0.00,0.00,0.00, 0.00,0.00,0.00,0.00,0.00,0.00,0.00,0.00,0.00,0.00,0.00,0.00,0.00,0.00,0.00, 0.00,0.00,0.00,0.00,0.00,0.00,0.00,0.00,0.00,0.00,0.00,0.00,0.00,0.00,0.00, 0.00,0.00,0.00,0.00,0.00,0.00,0.00,0.00,0.00,0.00,0.00,0.00,0.00,0.00,0.00, 0.00,0.00,0.00,0.00,0.00,0.00,0.00,0.00,0.00,0.00,0.00,0.00,0.00,0.00,0.00, 0.00,0.00,0.00,0.00,0.00,0.00,0.00,0.00,0.00,0.00,0.00,0.00,0.00,0.00,0.00, 0.00,0.00,0.00,0.00,0.00,0.00,0.00,0.00,0.00,0.00,0.00,0.00,0.00,0.00,0.00, 0.00,0.00,0.00,0.00,0.00,0.00,0.00,0.00,0.00,0.00,0.00,0.00,0.00,0.00,0.00, 0.00,0.00,0.00,0.00,0.00,0.00,0.00,0.00,0.00,0.00,0.00,0.00,0.00,0.00,0.00, 0.00,0.00,0.00,0.00] | [0.00,0.00,0.00,0.00,0.00,0.00,0.00,0.00,0.00,0.00,0.00,0.00,0.00,0.00,0.00, 0.00,0.00,0.00,0.00,0.00,0.00,0.00,0.00,0.00,0.00,0.00,0.00,0.00,0.00,0.00, 0.00,0.00,0.00,0.00,0.00,0.00,0.00,0.00,0.00,0.00,0.00,0.00,0.00,0.00,0.00, 0.00,0.00,0.00,0.00,0.00,0.00,0.00,0.00,0.00,0.00,0.00,0.00,0.00,0.00,0.00, 0.00,0.00,0.00,0.00,0.00,0.00,0.00,0.00,0.00,0.00,0.00,0.00,0.00,0.00,0.00, 0.00,0.00,0.00,0.00,0.00,0.00,0.00,0.00,0.00,0.00,0.00,0.00,0.00,0.00,0.00, 0.00,0.00,0.00,0.00,0.00,0.00,0.00,0.00,0.00,0.00,0.00,0.00,0.00,0.00,0.00, 0.00,0.00,0.00,0.00,0.00,0.00,0.00,0.00,0.00,0.00,0.00,0.00,0.00,0.00,0.00, 0.00,0.00,0.00,0.00,0.00,0.00,0.00,0.00,0.00,0.00,0.00,0.00,0.00,0.00,0.06, 0.03,0.00,0.00,0.00,0.00,0.00,0.00,0.00,0.00,0.00,0.00,0.00,0.00,0.00,0.00, 0.00,0.02,0.00,0.04,0.13,0.25,0.17,0.42,0.56,0.15,0.09,0.01,0.00,0.03,0.00, 0.00,0.00,0.00,0.00,0.00,0.00,0.00,0.00,0.00,0.00,0.00,0.00,0.00,0.01,0.02, 0.02,0.08,0.52,0.79,0.98,0.98,1.00,0.58,0.04,0.06,0.01,0.00,0.00,0.00,0.00, 0.00,0.00,0.00,0.00,0.00,0.00,0.00,0.00,0.00,0.00,0.01,0.01,0.11,0.58,0.88, 0.95,0.97,0.95,0.86,0.99,0.99,0.17,0.12,0.03,0.00,0.00,0.00,0.00,0.00,0.00, 0.00,0.00,0.00,0.00,0.00,0.00,0.00,0.00,0.00,0.50,0.96,0.95,0.92,0.93,0.87, 0.29,0.24,1.00,1.00,0.55,0.18,0.04,0.00,0.00,0.00,0.00,0.00,0.00,0.00,0.00, 0.00,0.00,0.00,0.00,0.00,0.00,0.14,0.79,0.94,0.94,0.88,0.80,0.03,0.02,0.13, 0.99,1.00,0.62,0.08,0.00,0.00,0.00,0.00,0.00,0.00,0.00,0.00,0.00,0.00,0.00, 0.00,0.00,0.00,0.00,0.73,0.98,0.94,0.87,0.65,0.00,0.02,0.03,0.39,1.00,1.00, 0.37,0.20,0.00,0.00,0.00,0.00,0.00,0.00,0.00,0.00,0.00,0.00,0.00,0.00,0.00, 0.00,0.03,0.11,0.55,0.16,0.05,0.01,0.00,0.01,0.11,0.52,1.00,0.99,0.34,0.03, 0.00,0.00,0.00,0.00,0.00,0.00,0.00,0.00,0.00,0.00,0.00,0.00,0.00,0.00,0.05, 0.07,0.06,0.07,0.01,0.00,0.02,0.20,0.23,0.91,1.00,0.95,0.29,0.02,0.00,0.00, 0.00,0.00,0.00,0.00,0.00,0.00,0.00,0.00,0.00,0.00,0.00,0.03,0.11,0.16,0.17, 0.14,0.07,0.24,0.47,0.60,0.51,0.98,0.99,0.68,0.06,0.01,0.00,0.00,0.00,0.00, 0.00,0.00,0.00,0.00,0.00,0.00,0.00,0.00,0.00,0.05,0.24,0.33,0.22,0.60,0.84, 0.99,0.87,0.96,0.98,1.00,0.84,0.02,0.00,0.00,0.01,0.00,0.00,0.00,0.00,0.00, 0.00,0.00,0.00,0.00,0.00,0.00,0.01,0.06,0.28,0.53,1.00,1.00,1.00,0.97,0.78, 0.95,1.00,0.93,0.79,0.39,0.01,0.02,0.00,0.00,0.00,0.00,0.00,0.00,0.00,0.00, 0.00,0.00,0.00,0.00,0.01,0.11,0.36,0.99,0.96,0.48,0.31,0.07,0.13,0.94,0.98, 0.97,0.92,0.85,0.34,0.00,0.01,0.00,0.00,0.00,0.00,0.00,0.00,0.00,0.00,0.00, 0.00,0.00,0.06,0.45,0.93,0.94,0.78,0.06,0.05,0.12,0.88,0.96,0.88,0.47,0.64, 0.88,0.77,0.72,0.25,0.18,0.17,0.00,0.00,0.00,0.00,0.00,0.00,0.00,0.00,0.00, 0.53,0.91,0.89,0.41,0.06,0.02,0.18,0.71,0.93,0.78,0.18,0.01,0.03,0.13,0.64, 0.92,0.96,0.90,0.87,0.00,0.00,0.00,0.00,0.00,0.00,0.00,0.00,0.40,0.91,0.93, 0.36,0.06,0.22,0.66,0.86,0.88,0.51,0.05,0.00,0.00,0.01,0.00,0.00,0.34,0.69, 0.69,0.12,0.00,0.00,0.00,0.00,0.00,0.00,0.00,0.00,0.88,0.94,0.98,0.84,0.82, 0.92,0.76,0.75,0.42,0.08,0.04,0.00,0.01,0.10,0.01,0.00,0.00,0.00,0.00,0.00, 0.00,0.00,0.00,0.00,0.00,0.00,0.00,0.00,0.77,0.96,0.98,0.88,0.84,0.63,0.34, 0.10,0.12,0.16,0.13,0.16,0.05,0.02,0.00,0.00,0.00,0.00,0.00,0.00,0.00,0.00, 0.00,0.00,0.00,0.00,0.00,0.00,0.05,0.41,0.56,0.45,0.10,0.08,0.14,0.08,0.06, 0.19,0.23,0.08,0.00,0.00,0.00,0.00,0.00,0.00,0.00,0.00,0.00,0.00,0.00,0.00, 0.00,0.00,0.00,0.00,0.00,0.00,0.01,0.03,0.17,0.05,0.15,0.08,0.03,0.16,0.03, 0.00,0.00,0.00,0.00,0.00,0.00,0.00,0.00,0.00,0.00,0.00,0.00,0.00,0.00,0.00, 0.00,0.00,0.00,0.00,0.00,0.02,0.05,0.05,0.04,0.01,0.00,0.00,0.01,0.01,0.01, 0.00,0.00,0.00,0.00,0.00,0.00,0.00,0.00,0.00,0.00,0.00,0.00,0.00,0.00,0.00, 0.00,0.00,0.00,0.00,0.00,0.00,0.00,0.00,0.00,0.00,0.01,0.03,0.01,0.00,0.00, 0.00,0.00,0.00,0.00,0.00,0.00,0.00,0.00,0.00,0.00,0.00,0.00,0.00,0.00,0.00, 0.00,0.00,0.00,0.00,0.00,0.00,0.00,0.00,0.00,0.01,0.02,0.00,0.00,0.00,0.00, 0.00,0.00,0.00,0.00,0.00,0.00,0.00,0.00,0.00,0.00,0.00,0.00,0.00,0.00,0.00, 0.00,0.00,0.00,0.00,0.00,0.00,0.00,0.00,0.00,0.00,0.00,0.00,0.00,0.00,0.00, 0.00,0.00,0.00,0.00] | correct\n",
      "6 | [[[0.00],  [0.00],  [0.00],  [0.00],  [0.00],  [0.00],  [0.00],  [0.00],  [0.00],  [0.00],  [0.00],  [0.00],  [0.00],  [0.00],  [0.00],  [0.00],  [0.00],  [0.00],  [0.00],  [0.00],  [0.00],  [0.00],  [0.00],  [0.00],  [0.00],  [0.00],  [0.00],  [0.00]], [[0.00],  [0.00],  [0.00],  [0.00],  [0.00],  [0.00],  [0.00],  [0.00],  [0.00],  [0.00],  [0.00],  [0.00],  [0.00],  [0.00],  [0.00],  [0.00],  [0.00],  [0.00],  [0.00],  [0.00],  [0.00],  [0.00],  [0.00],  [0.00],  [0.00],  [0.00],  [0.00],  [0.00]], [[0.00],  [0.00],  [0.00],  [0.00],  [0.00],  [0.00],  [0.00],  [0.00],  [0.00],  [0.00],  [0.00],  [0.00],  [0.00],  [0.00],  [0.00],  [0.00],  [0.00],  [0.00],  [0.00],  [0.00],  [0.00],  [0.00],  [0.00],  [0.00],  [0.00],  [0.00],  [0.00],  [0.00]], [[0.00],  [0.00],  [0.00],  [0.00],  [0.00],  [0.00],  [0.00],  [0.00],  [0.00],  [0.00],  [0.00],  [0.00],  [0.00],  [0.00],  [0.00],  [0.00],  [0.00],  [0.00],  [0.00],  [0.00],  [0.00],  [0.00],  [0.00],  [0.00],  [0.00],  [0.00],  [0.00],  [0.00]], [[0.00],  [0.00],  [0.00],  [0.00],  [0.00],  [0.00],  [0.00],  [0.00],  [0.00],  [0.00],  [0.00],  [0.00],  [0.57],  [1.00],  [0.83],  [0.12],  [0.00],  [0.00],  [0.00],  [0.00],  [0.00],  [0.00],  [0.00],  [0.00],  [0.00],  [0.00],  [0.00],  [0.00]], [[0.00],  [0.00],  [0.00],  [0.00],  [0.00],  [0.00],  [0.00],  [0.00],  [0.00],  [0.00],  [0.00],  [0.13],  [0.93],  [0.99],  [0.99],  [0.28],  [0.00],  [0.00],  [0.00],  [0.00],  [0.00],  [0.00],  [0.00],  [0.00],  [0.00],  [0.00],  [0.00],  [0.00]], [[0.00],  [0.00],  [0.00],  [0.00],  [0.00],  [0.00],  [0.00],  [0.00],  [0.00],  [0.00],  [0.00],  [0.04],  [0.69],  [0.99],  [0.99],  [0.28],  [0.00],  [0.00],  [0.00],  [0.00],  [0.00],  [0.00],  [0.00],  [0.00],  [0.00],  [0.00],  [0.00],  [0.00]], [[0.00],  [0.00],  [0.00],  [0.00],  [0.00],  [0.00],  [0.00],  [0.00],  [0.00],  [0.00],  [0.00],  [0.00],  [0.56],  [0.99],  [0.99],  [0.28],  [0.00],  [0.00],  [0.00],  [0.00],  [0.00],  [0.00],  [0.00],  [0.00],  [0.00],  [0.00],  [0.00],  [0.00]], [[0.00],  [0.00],  [0.00],  [0.00],  [0.00],  [0.00],  [0.00],  [0.00],  [0.00],  [0.00],  [0.00],  [0.06],  [0.75],  [0.99],  [0.99],  [0.28],  [0.00],  [0.00],  [0.00],  [0.00],  [0.00],  [0.00],  [0.00],  [0.00],  [0.00],  [0.00],  [0.00],  [0.00]], [[0.00],  [0.00],  [0.00],  [0.00],  [0.00],  [0.00],  [0.00],  [0.00],  [0.00],  [0.00],  [0.00],  [0.10],  [0.87],  [0.99],  [0.99],  [0.49],  [0.12],  [0.00],  [0.00],  [0.00],  [0.00],  [0.00],  [0.00],  [0.00],  [0.00],  [0.00],  [0.00],  [0.00]], [[0.00],  [0.00],  [0.00],  [0.00],  [0.00],  [0.00],  [0.00],  [0.00],  [0.00],  [0.00],  [0.00],  [0.00],  [0.49],  [0.99],  [0.99],  [0.99],  [0.42],  [0.00],  [0.00],  [0.00],  [0.00],  [0.00],  [0.00],  [0.00],  [0.00],  [0.00],  [0.00],  [0.00]], [[0.00],  [0.00],  [0.00],  [0.00],  [0.00],  [0.00],  [0.00],  [0.00],  [0.00],  [0.00],  [0.00],  [0.00],  [0.00],  [0.99],  [0.99],  [0.99],  [0.42],  [0.00],  [0.00],  [0.00],  [0.00],  [0.00],  [0.00],  [0.00],  [0.00],  [0.00],  [0.00],  [0.00]], [[0.00],  [0.00],  [0.00],  [0.00],  [0.00],  [0.00],  [0.00],  [0.00],  [0.00],  [0.00],  [0.00],  [0.00],  [0.00],  [1.00],  [0.99],  [0.99],  [0.42],  [0.00],  [0.00],  [0.00],  [0.00],  [0.00],  [0.00],  [0.00],  [0.00],  [0.00],  [0.00],  [0.00]], [[0.00],  [0.00],  [0.00],  [0.00],  [0.00],  [0.00],  [0.00],  [0.00],  [0.00],  [0.00],  [0.00],  [0.00],  [0.00],  [0.99],  [0.99],  [0.99],  [0.42],  [0.00],  [0.00],  [0.00],  [0.00],  [0.00],  [0.00],  [0.00],  [0.00],  [0.00],  [0.00],  [0.00]], [[0.00],  [0.00],  [0.00],  [0.00],  [0.00],  [0.00],  [0.00],  [0.00],  [0.00],  [0.00],  [0.00],  [0.00],  [0.00],  [0.99],  [0.99],  [0.99],  [0.42],  [0.00],  [0.00],  [0.00],  [0.00],  [0.00],  [0.00],  [0.00],  [0.00],  [0.00],  [0.00],  [0.00]], [[0.00],  [0.00],  [0.00],  [0.00],  [0.00],  [0.00],  [0.00],  [0.00],  [0.00],  [0.00],  [0.00],  [0.00],  [0.00],  [0.99],  [0.99],  [0.99],  [0.42],  [0.00],  [0.00],  [0.00],  [0.00],  [0.00],  [0.00],  [0.00],  [0.00],  [0.00],  [0.00],  [0.00]], [[0.00],  [0.00],  [0.00],  [0.00],  [0.00],  [0.00],  [0.00],  [0.00],  [0.00],  [0.00],  [0.00],  [0.00],  [0.00],  [1.00],  [0.99],  [0.99],  [0.67],  [0.00],  [0.00],  [0.00],  [0.00],  [0.00],  [0.00],  [0.00],  [0.00],  [0.00],  [0.00],  [0.00]], [[0.00],  [0.00],  [0.00],  [0.00],  [0.00],  [0.00],  [0.00],  [0.00],  [0.00],  [0.00],  [0.00],  [0.00],  [0.00],  [0.99],  [0.99],  [0.99],  [0.99],  [0.16],  [0.00],  [0.00],  [0.00],  [0.00],  [0.00],  [0.00],  [0.00],  [0.00],  [0.00],  [0.00]], [[0.00],  [0.00],  [0.00],  [0.00],  [0.00],  [0.00],  [0.00],  [0.00],  [0.00],  [0.00],  [0.00],  [0.00],  [0.00],  [0.58],  [0.99],  [0.99],  [0.99],  [0.56],  [0.00],  [0.00],  [0.00],  [0.00],  [0.00],  [0.00],  [0.00],  [0.00],  [0.00],  [0.00]], [[0.00],  [0.00],  [0.00],  [0.00],  [0.00],  [0.00],  [0.00],  [0.00],  [0.00],  [0.00],  [0.00],  [0.00],  [0.00],  [0.43],  [0.99],  [0.99],  [0.99],  [0.56],  [0.00],  [0.00],  [0.00],  [0.00],  [0.00],  [0.00],  [0.00],  [0.00],  [0.00],  [0.00]], [[0.00],  [0.00],  [0.00],  [0.00],  [0.00],  [0.00],  [0.00],  [0.00],  [0.00],  [0.00],  [0.00],  [0.00],  [0.00],  [0.00],  [0.85],  [0.99],  [0.99],  [1.00],  [0.14],  [0.00],  [0.00],  [0.00],  [0.00],  [0.00],  [0.00],  [0.00],  [0.00],  [0.00]], [[0.00],  [0.00],  [0.00],  [0.00],  [0.00],  [0.00],  [0.00],  [0.00],  [0.00],  [0.00],  [0.00],  [0.00],  [0.00],  [0.00],  [0.69],  [0.99],  [0.99],  [0.99],  [0.14],  [0.00],  [0.00],  [0.00],  [0.00],  [0.00],  [0.00],  [0.00],  [0.00],  [0.00]], [[0.00],  [0.00],  [0.00],  [0.00],  [0.00],  [0.00],  [0.00],  [0.00],  [0.00],  [0.00],  [0.00],  [0.00],  [0.00],  [0.00],  [0.29],  [0.99],  [0.99],  [0.99],  [0.14],  [0.00],  [0.00],  [0.00],  [0.00],  [0.00],  [0.00],  [0.00],  [0.00],  [0.00]], [[0.00],  [0.00],  [0.00],  [0.00],  [0.00],  [0.00],  [0.00],  [0.00],  [0.00],  [0.00],  [0.00],  [0.00],  [0.00],  [0.00],  [0.12],  [0.83],  [0.99],  [0.99],  [0.14],  [0.00],  [0.00],  [0.00],  [0.00],  [0.00],  [0.00],  [0.00],  [0.00],  [0.00]], [[0.00],  [0.00],  [0.00],  [0.00],  [0.00],  [0.00],  [0.00],  [0.00],  [0.00],  [0.00],  [0.00],  [0.00],  [0.00],  [0.00],  [0.00],  [0.00],  [0.00],  [0.00],  [0.00],  [0.00],  [0.00],  [0.00],  [0.00],  [0.00],  [0.00],  [0.00],  [0.00],  [0.00]], [[0.00],  [0.00],  [0.00],  [0.00],  [0.00],  [0.00],  [0.00],  [0.00],  [0.00],  [0.00],  [0.00],  [0.00],  [0.00],  [0.00],  [0.00],  [0.00],  [0.00],  [0.00],  [0.00],  [0.00],  [0.00],  [0.00],  [0.00],  [0.00],  [0.00],  [0.00],  [0.00],  [0.00]], [[0.00],  [0.00],  [0.00],  [0.00],  [0.00],  [0.00],  [0.00],  [0.00],  [0.00],  [0.00],  [0.00],  [0.00],  [0.00],  [0.00],  [0.00],  [0.00],  [0.00],  [0.00],  [0.00],  [0.00],  [0.00],  [0.00],  [0.00],  [0.00],  [0.00],  [0.00],  [0.00],  [0.00]], [[0.00],  [0.00],  [0.00],  [0.00],  [0.00],  [0.00],  [0.00],  [0.00],  [0.00],  [0.00],  [0.00],  [0.00],  [0.00],  [0.00],  [0.00],  [0.00],  [0.00],  [0.00],  [0.00],  [0.00],  [0.00],  [0.00],  [0.00],  [0.00],  [0.00],  [0.00],  [0.00],  [0.00]]] | [0.00,0.00,0.00,0.00,0.00,0.00,0.00,0.00,0.00,0.00,0.00,0.00,0.00,0.00,0.00, 0.00,0.00,0.00,0.00,0.00,0.00,0.00,0.00,0.00,0.00,0.00,0.00,0.00,0.00,0.00, 0.00,0.00,0.00,0.00,0.00,0.00,0.00,0.00,0.00,0.00,0.00,0.00,0.00,0.00,0.00, 0.00,0.00,0.00,0.00,0.00,0.00,0.00,0.00,0.00,0.00,0.00,0.00,0.00,0.00,0.00, 0.00,0.00,0.00,0.00,0.00,0.00,0.00,0.00,0.00,0.00,0.00,0.00,0.00,0.00,0.00, 0.00,0.00,0.00,0.00,0.00,0.00,0.00,0.00,0.00,0.00,0.00,0.00,0.00,0.00,0.00, 0.00,0.00,0.00,0.00,0.00,0.00,0.00,0.00,0.00,0.00,0.00,0.00,0.00,0.00,0.00, 0.00,0.00,0.00,0.00,0.00,0.00,0.00,0.00,0.00,0.00,0.00,0.00,0.00,0.00,0.00, 0.00,0.00,0.00,0.00,0.57,1.00,0.83,0.12,0.00,0.00,0.00,0.00,0.00,0.00,0.00, 0.00,0.00,0.00,0.00,0.00,0.00,0.00,0.00,0.00,0.00,0.00,0.00,0.00,0.00,0.00, 0.00,0.13,0.93,0.99,0.99,0.28,0.00,0.00,0.00,0.00,0.00,0.00,0.00,0.00,0.00, 0.00,0.00,0.00,0.00,0.00,0.00,0.00,0.00,0.00,0.00,0.00,0.00,0.00,0.00,0.04, 0.69,0.99,0.99,0.28,0.00,0.00,0.00,0.00,0.00,0.00,0.00,0.00,0.00,0.00,0.00, 0.00,0.00,0.00,0.00,0.00,0.00,0.00,0.00,0.00,0.00,0.00,0.00,0.00,0.56,0.99, 0.99,0.28,0.00,0.00,0.00,0.00,0.00,0.00,0.00,0.00,0.00,0.00,0.00,0.00,0.00, 0.00,0.00,0.00,0.00,0.00,0.00,0.00,0.00,0.00,0.00,0.06,0.75,0.99,0.99,0.28, 0.00,0.00,0.00,0.00,0.00,0.00,0.00,0.00,0.00,0.00,0.00,0.00,0.00,0.00,0.00, 0.00,0.00,0.00,0.00,0.00,0.00,0.00,0.00,0.10,0.87,0.99,0.99,0.49,0.12,0.00, 0.00,0.00,0.00,0.00,0.00,0.00,0.00,0.00,0.00,0.00,0.00,0.00,0.00,0.00,0.00, 0.00,0.00,0.00,0.00,0.00,0.00,0.00,0.49,0.99,0.99,0.99,0.42,0.00,0.00,0.00, 0.00,0.00,0.00,0.00,0.00,0.00,0.00,0.00,0.00,0.00,0.00,0.00,0.00,0.00,0.00, 0.00,0.00,0.00,0.00,0.00,0.00,0.99,0.99,0.99,0.42,0.00,0.00,0.00,0.00,0.00, 0.00,0.00,0.00,0.00,0.00,0.00,0.00,0.00,0.00,0.00,0.00,0.00,0.00,0.00,0.00, 0.00,0.00,0.00,0.00,1.00,0.99,0.99,0.42,0.00,0.00,0.00,0.00,0.00,0.00,0.00, 0.00,0.00,0.00,0.00,0.00,0.00,0.00,0.00,0.00,0.00,0.00,0.00,0.00,0.00,0.00, 0.00,0.00,0.99,0.99,0.99,0.42,0.00,0.00,0.00,0.00,0.00,0.00,0.00,0.00,0.00, 0.00,0.00,0.00,0.00,0.00,0.00,0.00,0.00,0.00,0.00,0.00,0.00,0.00,0.00,0.00, 0.99,0.99,0.99,0.42,0.00,0.00,0.00,0.00,0.00,0.00,0.00,0.00,0.00,0.00,0.00, 0.00,0.00,0.00,0.00,0.00,0.00,0.00,0.00,0.00,0.00,0.00,0.00,0.00,0.99,0.99, 0.99,0.42,0.00,0.00,0.00,0.00,0.00,0.00,0.00,0.00,0.00,0.00,0.00,0.00,0.00, 0.00,0.00,0.00,0.00,0.00,0.00,0.00,0.00,0.00,0.00,0.00,1.00,0.99,0.99,0.67, 0.00,0.00,0.00,0.00,0.00,0.00,0.00,0.00,0.00,0.00,0.00,0.00,0.00,0.00,0.00, 0.00,0.00,0.00,0.00,0.00,0.00,0.00,0.00,0.00,0.99,0.99,0.99,0.99,0.16,0.00, 0.00,0.00,0.00,0.00,0.00,0.00,0.00,0.00,0.00,0.00,0.00,0.00,0.00,0.00,0.00, 0.00,0.00,0.00,0.00,0.00,0.00,0.00,0.58,0.99,0.99,0.99,0.56,0.00,0.00,0.00, 0.00,0.00,0.00,0.00,0.00,0.00,0.00,0.00,0.00,0.00,0.00,0.00,0.00,0.00,0.00, 0.00,0.00,0.00,0.00,0.00,0.43,0.99,0.99,0.99,0.56,0.00,0.00,0.00,0.00,0.00, 0.00,0.00,0.00,0.00,0.00,0.00,0.00,0.00,0.00,0.00,0.00,0.00,0.00,0.00,0.00, 0.00,0.00,0.00,0.00,0.85,0.99,0.99,1.00,0.14,0.00,0.00,0.00,0.00,0.00,0.00, 0.00,0.00,0.00,0.00,0.00,0.00,0.00,0.00,0.00,0.00,0.00,0.00,0.00,0.00,0.00, 0.00,0.00,0.69,0.99,0.99,0.99,0.14,0.00,0.00,0.00,0.00,0.00,0.00,0.00,0.00, 0.00,0.00,0.00,0.00,0.00,0.00,0.00,0.00,0.00,0.00,0.00,0.00,0.00,0.00,0.00, 0.29,0.99,0.99,0.99,0.14,0.00,0.00,0.00,0.00,0.00,0.00,0.00,0.00,0.00,0.00, 0.00,0.00,0.00,0.00,0.00,0.00,0.00,0.00,0.00,0.00,0.00,0.00,0.00,0.12,0.83, 0.99,0.99,0.14,0.00,0.00,0.00,0.00,0.00,0.00,0.00,0.00,0.00,0.00,0.00,0.00, 0.00,0.00,0.00,0.00,0.00,0.00,0.00,0.00,0.00,0.00,0.00,0.00,0.00,0.00,0.00, 0.00,0.00,0.00,0.00,0.00,0.00,0.00,0.00,0.00,0.00,0.00,0.00,0.00,0.00,0.00, 0.00,0.00,0.00,0.00,0.00,0.00,0.00,0.00,0.00,0.00,0.00,0.00,0.00,0.00,0.00, 0.00,0.00,0.00,0.00,0.00,0.00,0.00,0.00,0.00,0.00,0.00,0.00,0.00,0.00,0.00, 0.00,0.00,0.00,0.00,0.00,0.00,0.00,0.00,0.00,0.00,0.00,0.00,0.00,0.00,0.00, 0.00,0.00,0.00,0.00,0.00,0.00,0.00,0.00,0.00,0.00,0.00,0.00,0.00,0.00,0.00, 0.00,0.00,0.00,0.00,0.00,0.00,0.00,0.00,0.00,0.00,0.00,0.00,0.00,0.00,0.00, 0.00,0.00,0.00,0.00] | [0.00,0.00,0.00,0.00,0.00,0.00,0.00,0.00,0.00,0.00,0.00,0.00,0.00,0.00,0.00, 0.00,0.00,0.00,0.00,0.00,0.00,0.00,0.00,0.00,0.00,0.00,0.00,0.00,0.00,0.00, 0.00,0.00,0.00,0.00,0.00,0.00,0.00,0.00,0.00,0.00,0.00,0.00,0.00,0.00,0.00, 0.00,0.00,0.00,0.00,0.00,0.00,0.00,0.00,0.00,0.00,0.00,0.00,0.00,0.00,0.00, 0.00,0.00,0.00,0.00,0.00,0.00,0.00,0.00,0.00,0.00,0.00,0.00,0.00,0.00,0.00, 0.00,0.00,0.00,0.00,0.00,0.00,0.00,0.00,0.00,0.00,0.00,0.00,0.00,0.00,0.00, 0.00,0.00,0.00,0.00,0.00,0.00,0.00,0.00,0.00,0.00,0.00,0.00,0.00,0.00,0.00, 0.00,0.00,0.00,0.00,0.00,0.00,0.00,0.00,0.00,0.00,0.00,0.00,0.00,0.00,0.00, 0.00,0.00,0.00,0.00,0.36,0.67,0.55,0.05,0.00,0.00,0.00,0.00,0.00,0.00,0.00, 0.00,0.00,0.00,0.00,0.00,0.00,0.00,0.00,0.00,0.00,0.00,0.00,0.00,0.00,0.00, 0.00,0.05,0.64,0.74,0.87,0.02,0.00,0.00,0.00,0.00,0.06,0.03,0.01,0.01,0.00, 0.00,0.00,0.00,0.00,0.00,0.00,0.00,0.00,0.00,0.00,0.00,0.00,0.00,0.00,0.00, 0.47,1.00,0.97,0.25,0.00,0.00,0.00,0.00,0.03,0.02,0.01,0.00,0.00,0.00,0.00, 0.00,0.00,0.00,0.00,0.00,0.00,0.00,0.00,0.00,0.01,0.00,0.00,0.00,0.48,0.99, 0.99,0.28,0.03,0.01,0.00,0.00,0.00,0.00,0.00,0.00,0.00,0.00,0.00,0.00,0.00, 0.00,0.00,0.00,0.00,0.00,0.00,0.00,0.01,0.00,0.00,0.09,0.55,0.97,0.99,0.21, 0.05,0.03,0.00,0.00,0.00,0.00,0.00,0.00,0.00,0.00,0.00,0.00,0.00,0.00,0.00, 0.00,0.00,0.00,0.00,0.00,0.00,0.02,0.02,0.08,0.56,0.96,0.93,0.34,0.02,0.02, 0.00,0.00,0.00,0.00,0.00,0.00,0.00,0.00,0.00,0.00,0.00,0.00,0.00,0.00,0.00, 0.00,0.00,0.00,0.00,0.00,0.00,0.02,0.27,0.90,0.97,0.79,0.20,0.02,0.00,0.00, 0.00,0.00,0.00,0.00,0.00,0.00,0.00,0.00,0.00,0.00,0.00,0.00,0.01,0.00,0.00, 0.00,0.00,0.00,0.00,0.01,0.01,0.90,0.99,0.84,0.28,0.03,0.00,0.00,0.00,0.00, 0.00,0.00,0.00,0.00,0.00,0.00,0.00,0.00,0.00,0.00,0.00,0.00,0.00,0.00,0.00, 0.01,0.00,0.00,0.01,0.97,0.97,0.86,0.33,0.01,0.00,0.00,0.00,0.00,0.00,0.00, 0.00,0.00,0.00,0.00,0.00,0.00,0.00,0.00,0.00,0.00,0.00,0.00,0.00,0.00,0.00, 0.00,0.00,0.95,1.00,0.97,0.36,0.01,0.00,0.00,0.00,0.00,0.00,0.00,0.00,0.00, 0.00,0.00,0.00,0.00,0.00,0.00,0.00,0.00,0.00,0.00,0.00,0.00,0.00,0.01,0.01, 0.96,1.00,0.99,0.37,0.01,0.00,0.00,0.00,0.00,0.00,0.00,0.00,0.00,0.00,0.00, 0.00,0.00,0.00,0.00,0.00,0.00,0.00,0.00,0.01,0.03,0.01,0.00,0.01,0.89,0.98, 0.99,0.37,0.00,0.00,0.00,0.00,0.00,0.00,0.00,0.00,0.00,0.00,0.00,0.00,0.00, 0.00,0.00,0.00,0.00,0.00,0.00,0.00,0.00,0.03,0.01,0.00,0.70,0.97,0.98,0.48, 0.00,0.01,0.00,0.00,0.00,0.00,0.00,0.00,0.00,0.00,0.00,0.00,0.00,0.00,0.00, 0.00,0.00,0.00,0.00,0.00,0.00,0.00,0.00,0.00,0.73,0.97,0.93,0.61,0.07,0.00, 0.01,0.00,0.00,0.00,0.00,0.00,0.00,0.00,0.00,0.00,0.00,0.00,0.00,0.00,0.00, 0.00,0.00,0.00,0.00,0.00,0.00,0.00,0.44,0.98,1.00,0.77,0.43,0.00,0.01,0.00, 0.00,0.00,0.00,0.00,0.00,0.00,0.00,0.00,0.00,0.00,0.00,0.00,0.00,0.00,0.00, 0.00,0.00,0.00,0.00,0.00,0.24,0.99,1.00,0.95,0.45,0.01,0.01,0.00,0.00,0.00, 0.00,0.00,0.00,0.00,0.00,0.00,0.00,0.00,0.00,0.00,0.00,0.00,0.00,0.00,0.00, 0.00,0.01,0.01,0.02,0.84,0.99,0.80,0.71,0.01,0.00,0.00,0.00,0.00,0.00,0.00, 0.00,0.00,0.00,0.00,0.00,0.00,0.00,0.00,0.00,0.00,0.00,0.00,0.00,0.00,0.01, 0.00,0.03,0.69,0.98,0.61,0.65,0.02,0.00,0.00,0.00,0.00,0.00,0.00,0.00,0.00, 0.00,0.00,0.00,0.00,0.00,0.00,0.00,0.00,0.00,0.00,0.00,0.01,0.02,0.00,0.00, 0.45,0.97,0.79,0.64,0.07,0.00,0.00,0.00,0.00,0.00,0.00,0.00,0.00,0.00,0.00, 0.00,0.00,0.00,0.00,0.00,0.00,0.00,0.00,0.02,0.01,0.01,0.00,0.00,0.41,0.93, 0.74,0.64,0.05,0.00,0.00,0.00,0.00,0.00,0.00,0.00,0.00,0.00,0.00,0.00,0.00, 0.00,0.01,0.01,0.03,0.01,0.00,0.00,0.01,0.00,0.00,0.00,0.17,0.21,0.01,0.01, 0.00,0.00,0.00,0.00,0.00,0.00,0.00,0.00,0.00,0.00,0.00,0.00,0.00,0.00,0.00, 0.00,0.00,0.00,0.00,0.00,0.00,0.00,0.00,0.00,0.00,0.00,0.00,0.00,0.00,0.00, 0.00,0.00,0.00,0.00,0.00,0.00,0.00,0.00,0.00,0.00,0.00,0.00,0.00,0.00,0.00, 0.00,0.00,0.00,0.00,0.00,0.00,0.00,0.00,0.00,0.00,0.00,0.00,0.00,0.00,0.00, 0.00,0.00,0.00,0.00,0.00,0.00,0.00,0.00,0.00,0.00,0.00,0.00,0.00,0.00,0.00, 0.00,0.00,0.00,0.00,0.00,0.00,0.00,0.00,0.00,0.00,0.00,0.00,0.00,0.00,0.00, 0.00,0.00,0.00,0.00] | correct\n",
      "7 | [[[0.00],  [0.00],  [0.00],  [0.00],  [0.00],  [0.00],  [0.00],  [0.00],  [0.00],  [0.00],  [0.00],  [0.00],  [0.00],  [0.00],  [0.00],  [0.00],  [0.00],  [0.00],  [0.00],  [0.00],  [0.00],  [0.00],  [0.00],  [0.00],  [0.00],  [0.00],  [0.00],  [0.00]], [[0.00],  [0.00],  [0.00],  [0.00],  [0.00],  [0.00],  [0.00],  [0.00],  [0.00],  [0.00],  [0.00],  [0.00],  [0.00],  [0.00],  [0.00],  [0.00],  [0.00],  [0.00],  [0.00],  [0.00],  [0.00],  [0.00],  [0.00],  [0.00],  [0.00],  [0.00],  [0.00],  [0.00]], [[0.00],  [0.00],  [0.00],  [0.00],  [0.00],  [0.00],  [0.00],  [0.00],  [0.00],  [0.00],  [0.00],  [0.00],  [0.00],  [0.00],  [0.00],  [0.00],  [0.00],  [0.00],  [0.00],  [0.00],  [0.00],  [0.00],  [0.00],  [0.00],  [0.00],  [0.00],  [0.00],  [0.00]], [[0.00],  [0.00],  [0.00],  [0.00],  [0.00],  [0.00],  [0.00],  [0.00],  [0.00],  [0.00],  [0.00],  [0.00],  [0.00],  [0.00],  [0.00],  [0.00],  [0.00],  [0.00],  [0.00],  [0.00],  [0.00],  [0.00],  [0.00],  [0.00],  [0.00],  [0.00],  [0.00],  [0.00]], [[0.00],  [0.00],  [0.00],  [0.00],  [0.00],  [0.00],  [0.00],  [0.00],  [0.00],  [0.00],  [0.00],  [0.00],  [0.00],  [0.00],  [0.00],  [0.00],  [0.00],  [0.00],  [0.00],  [0.00],  [0.00],  [0.00],  [0.00],  [0.00],  [0.00],  [0.00],  [0.00],  [0.00]], [[0.00],  [0.00],  [0.00],  [0.00],  [0.00],  [0.00],  [0.00],  [0.00],  [0.00],  [0.00],  [0.00],  [0.15],  [0.17],  [0.41],  [1.00],  [0.99],  [0.99],  [0.99],  [0.99],  [0.99],  [0.68],  [0.02],  [0.00],  [0.00],  [0.00],  [0.00],  [0.00],  [0.00]], [[0.00],  [0.00],  [0.00],  [0.00],  [0.00],  [0.00],  [0.00],  [0.00],  [0.00],  [0.17],  [0.55],  [0.88],  [0.89],  [0.99],  [0.99],  [0.99],  [0.99],  [0.99],  [0.99],  [0.99],  [0.99],  [0.62],  [0.05],  [0.00],  [0.00],  [0.00],  [0.00],  [0.00]], [[0.00],  [0.00],  [0.00],  [0.00],  [0.00],  [0.00],  [0.00],  [0.00],  [0.00],  [0.70],  [0.99],  [0.99],  [0.99],  [0.99],  [0.99],  [0.99],  [0.99],  [0.99],  [0.99],  [0.99],  [0.99],  [0.99],  [0.23],  [0.00],  [0.00],  [0.00],  [0.00],  [0.00]], [[0.00],  [0.00],  [0.00],  [0.00],  [0.00],  [0.00],  [0.00],  [0.00],  [0.00],  [0.43],  [0.99],  [0.99],  [0.90],  [0.52],  [0.52],  [0.52],  [0.52],  [0.74],  [0.99],  [0.99],  [0.99],  [0.99],  [0.23],  [0.00],  [0.00],  [0.00],  [0.00],  [0.00]], [[0.00],  [0.00],  [0.00],  [0.00],  [0.00],  [0.00],  [0.00],  [0.00],  [0.00],  [0.02],  [0.11],  [0.11],  [0.09],  [0.00],  [0.00],  [0.00],  [0.00],  [0.05],  [0.89],  [0.99],  [0.99],  [0.67],  [0.03],  [0.00],  [0.00],  [0.00],  [0.00],  [0.00]], [[0.00],  [0.00],  [0.00],  [0.00],  [0.00],  [0.00],  [0.00],  [0.00],  [0.00],  [0.00],  [0.00],  [0.00],  [0.00],  [0.00],  [0.00],  [0.00],  [0.00],  [0.33],  [0.95],  [0.99],  [0.99],  [0.56],  [0.00],  [0.00],  [0.00],  [0.00],  [0.00],  [0.00]], [[0.00],  [0.00],  [0.00],  [0.00],  [0.00],  [0.00],  [0.00],  [0.00],  [0.00],  [0.00],  [0.00],  [0.00],  [0.00],  [0.00],  [0.00],  [0.00],  [0.35],  [0.74],  [0.99],  [0.99],  [0.99],  [0.05],  [0.00],  [0.00],  [0.00],  [0.00],  [0.00],  [0.00]], [[0.00],  [0.00],  [0.00],  [0.00],  [0.00],  [0.00],  [0.00],  [0.00],  [0.00],  [0.00],  [0.00],  [0.00],  [0.00],  [0.00],  [0.36],  [0.83],  [0.97],  [0.99],  [0.99],  [0.99],  [0.80],  [0.04],  [0.00],  [0.00],  [0.00],  [0.00],  [0.00],  [0.00]], [[0.00],  [0.00],  [0.00],  [0.00],  [0.00],  [0.00],  [0.00],  [0.00],  [0.00],  [0.13],  [0.49],  [0.76],  [0.76],  [0.76],  [0.99],  [0.99],  [0.99],  [0.99],  [0.93],  [0.40],  [0.11],  [0.00],  [0.00],  [0.00],  [0.00],  [0.00],  [0.00],  [0.00]], [[0.00],  [0.00],  [0.00],  [0.00],  [0.00],  [0.00],  [0.00],  [0.00],  [0.18],  [0.87],  [0.99],  [0.99],  [0.99],  [0.99],  [0.99],  [0.99],  [0.99],  [0.99],  [0.69],  [0.00],  [0.00],  [0.00],  [0.00],  [0.00],  [0.00],  [0.00],  [0.00],  [0.00]], [[0.00],  [0.00],  [0.00],  [0.00],  [0.00],  [0.00],  [0.00],  [0.00],  [0.18],  [0.87],  [0.99],  [0.99],  [0.99],  [0.99],  [1.00],  [0.99],  [0.99],  [0.99],  [0.99],  [0.29],  [0.00],  [0.00],  [0.00],  [0.00],  [0.00],  [0.00],  [0.00],  [0.00]], [[0.00],  [0.00],  [0.00],  [0.00],  [0.00],  [0.00],  [0.00],  [0.00],  [0.00],  [0.12],  [0.48],  [0.20],  [0.17],  [0.17],  [0.17],  [0.17],  [0.56],  [0.99],  [0.99],  [0.29],  [0.00],  [0.00],  [0.00],  [0.00],  [0.00],  [0.00],  [0.00],  [0.00]], [[0.00],  [0.00],  [0.00],  [0.00],  [0.00],  [0.00],  [0.00],  [0.00],  [0.00],  [0.00],  [0.00],  [0.00],  [0.00],  [0.00],  [0.00],  [0.00],  [0.06],  [0.99],  [0.99],  [0.29],  [0.00],  [0.00],  [0.00],  [0.00],  [0.00],  [0.00],  [0.00],  [0.00]], [[0.00],  [0.00],  [0.00],  [0.00],  [0.00],  [0.00],  [0.00],  [0.00],  [0.00],  [0.00],  [0.00],  [0.00],  [0.00],  [0.00],  [0.00],  [0.00],  [0.34],  [0.99],  [0.99],  [0.29],  [0.00],  [0.00],  [0.00],  [0.00],  [0.00],  [0.00],  [0.00],  [0.00]], [[0.00],  [0.00],  [0.00],  [0.00],  [0.00],  [0.00],  [0.02],  [0.29],  [0.04],  [0.00],  [0.00],  [0.00],  [0.00],  [0.00],  [0.00],  [0.38],  [0.95],  [0.99],  [0.99],  [0.29],  [0.00],  [0.00],  [0.00],  [0.00],  [0.00],  [0.00],  [0.00],  [0.00]], [[0.00],  [0.00],  [0.00],  [0.00],  [0.00],  [0.24],  [0.72],  [0.99],  [0.11],  [0.00],  [0.00],  [0.00],  [0.00],  [0.07],  [0.36],  [0.94],  [0.99],  [0.99],  [0.95],  [0.25],  [0.00],  [0.00],  [0.00],  [0.00],  [0.00],  [0.00],  [0.00],  [0.00]], [[0.00],  [0.00],  [0.00],  [0.00],  [0.00],  [0.82],  [0.99],  [0.99],  [0.58],  [0.53],  [0.53],  [0.53],  [0.53],  [0.80],  [0.99],  [0.99],  [0.99],  [0.74],  [0.33],  [0.00],  [0.00],  [0.00],  [0.00],  [0.00],  [0.00],  [0.00],  [0.00],  [0.00]], [[0.00],  [0.00],  [0.00],  [0.00],  [0.00],  [0.82],  [0.99],  [0.99],  [0.99],  [0.99],  [0.99],  [0.99],  [0.99],  [0.99],  [0.99],  [0.90],  [0.60],  [0.03],  [0.00],  [0.00],  [0.00],  [0.00],  [0.00],  [0.00],  [0.00],  [0.00],  [0.00],  [0.00]], [[0.00],  [0.00],  [0.00],  [0.00],  [0.00],  [0.19],  [0.62],  [0.99],  [0.99],  [0.99],  [0.99],  [0.99],  [0.85],  [0.81],  [0.57],  [0.18],  [0.00],  [0.00],  [0.00],  [0.00],  [0.00],  [0.00],  [0.00],  [0.00],  [0.00],  [0.00],  [0.00],  [0.00]], [[0.00],  [0.00],  [0.00],  [0.00],  [0.00],  [0.00],  [0.03],  [0.40],  [0.92],  [0.99],  [0.67],  [0.40],  [0.09],  [0.00],  [0.00],  [0.00],  [0.00],  [0.00],  [0.00],  [0.00],  [0.00],  [0.00],  [0.00],  [0.00],  [0.00],  [0.00],  [0.00],  [0.00]], [[0.00],  [0.00],  [0.00],  [0.00],  [0.00],  [0.00],  [0.00],  [0.00],  [0.00],  [0.00],  [0.00],  [0.00],  [0.00],  [0.00],  [0.00],  [0.00],  [0.00],  [0.00],  [0.00],  [0.00],  [0.00],  [0.00],  [0.00],  [0.00],  [0.00],  [0.00],  [0.00],  [0.00]], [[0.00],  [0.00],  [0.00],  [0.00],  [0.00],  [0.00],  [0.00],  [0.00],  [0.00],  [0.00],  [0.00],  [0.00],  [0.00],  [0.00],  [0.00],  [0.00],  [0.00],  [0.00],  [0.00],  [0.00],  [0.00],  [0.00],  [0.00],  [0.00],  [0.00],  [0.00],  [0.00],  [0.00]], [[0.00],  [0.00],  [0.00],  [0.00],  [0.00],  [0.00],  [0.00],  [0.00],  [0.00],  [0.00],  [0.00],  [0.00],  [0.00],  [0.00],  [0.00],  [0.00],  [0.00],  [0.00],  [0.00],  [0.00],  [0.00],  [0.00],  [0.00],  [0.00],  [0.00],  [0.00],  [0.00],  [0.00]]] | [0.00,0.00,0.00,0.00,0.00,0.00,0.00,0.00,0.00,0.00,0.00,0.00,0.00,0.00,0.00, 0.00,0.00,0.00,0.00,0.00,0.00,0.00,0.00,0.00,0.00,0.00,0.00,0.00,0.00,0.00, 0.00,0.00,0.00,0.00,0.00,0.00,0.00,0.00,0.00,0.00,0.00,0.00,0.00,0.00,0.00, 0.00,0.00,0.00,0.00,0.00,0.00,0.00,0.00,0.00,0.00,0.00,0.00,0.00,0.00,0.00, 0.00,0.00,0.00,0.00,0.00,0.00,0.00,0.00,0.00,0.00,0.00,0.00,0.00,0.00,0.00, 0.00,0.00,0.00,0.00,0.00,0.00,0.00,0.00,0.00,0.00,0.00,0.00,0.00,0.00,0.00, 0.00,0.00,0.00,0.00,0.00,0.00,0.00,0.00,0.00,0.00,0.00,0.00,0.00,0.00,0.00, 0.00,0.00,0.00,0.00,0.00,0.00,0.00,0.00,0.00,0.00,0.00,0.00,0.00,0.00,0.00, 0.00,0.00,0.00,0.00,0.00,0.00,0.00,0.00,0.00,0.00,0.00,0.00,0.00,0.00,0.00, 0.00,0.00,0.00,0.00,0.00,0.00,0.00,0.00,0.00,0.00,0.00,0.00,0.00,0.00,0.00, 0.00,0.15,0.17,0.41,1.00,0.99,0.99,0.99,0.99,0.99,0.68,0.02,0.00,0.00,0.00, 0.00,0.00,0.00,0.00,0.00,0.00,0.00,0.00,0.00,0.00,0.00,0.00,0.17,0.55,0.88, 0.89,0.99,0.99,0.99,0.99,0.99,0.99,0.99,0.99,0.62,0.05,0.00,0.00,0.00,0.00, 0.00,0.00,0.00,0.00,0.00,0.00,0.00,0.00,0.00,0.00,0.70,0.99,0.99,0.99,0.99, 0.99,0.99,0.99,0.99,0.99,0.99,0.99,0.99,0.23,0.00,0.00,0.00,0.00,0.00,0.00, 0.00,0.00,0.00,0.00,0.00,0.00,0.00,0.00,0.43,0.99,0.99,0.90,0.52,0.52,0.52, 0.52,0.74,0.99,0.99,0.99,0.99,0.23,0.00,0.00,0.00,0.00,0.00,0.00,0.00,0.00, 0.00,0.00,0.00,0.00,0.00,0.00,0.02,0.11,0.11,0.09,0.00,0.00,0.00,0.00,0.05, 0.89,0.99,0.99,0.67,0.03,0.00,0.00,0.00,0.00,0.00,0.00,0.00,0.00,0.00,0.00, 0.00,0.00,0.00,0.00,0.00,0.00,0.00,0.00,0.00,0.00,0.00,0.00,0.33,0.95,0.99, 0.99,0.56,0.00,0.00,0.00,0.00,0.00,0.00,0.00,0.00,0.00,0.00,0.00,0.00,0.00, 0.00,0.00,0.00,0.00,0.00,0.00,0.00,0.00,0.00,0.35,0.74,0.99,0.99,0.99,0.05, 0.00,0.00,0.00,0.00,0.00,0.00,0.00,0.00,0.00,0.00,0.00,0.00,0.00,0.00,0.00, 0.00,0.00,0.00,0.00,0.00,0.36,0.83,0.97,0.99,0.99,0.99,0.80,0.04,0.00,0.00, 0.00,0.00,0.00,0.00,0.00,0.00,0.00,0.00,0.00,0.00,0.00,0.00,0.00,0.13,0.49, 0.76,0.76,0.76,0.99,0.99,0.99,0.99,0.93,0.40,0.11,0.00,0.00,0.00,0.00,0.00, 0.00,0.00,0.00,0.00,0.00,0.00,0.00,0.00,0.00,0.00,0.18,0.87,0.99,0.99,0.99, 0.99,0.99,0.99,0.99,0.99,0.69,0.00,0.00,0.00,0.00,0.00,0.00,0.00,0.00,0.00, 0.00,0.00,0.00,0.00,0.00,0.00,0.00,0.00,0.18,0.87,0.99,0.99,0.99,0.99,1.00, 0.99,0.99,0.99,0.99,0.29,0.00,0.00,0.00,0.00,0.00,0.00,0.00,0.00,0.00,0.00, 0.00,0.00,0.00,0.00,0.00,0.00,0.00,0.12,0.48,0.20,0.17,0.17,0.17,0.17,0.56, 0.99,0.99,0.29,0.00,0.00,0.00,0.00,0.00,0.00,0.00,0.00,0.00,0.00,0.00,0.00, 0.00,0.00,0.00,0.00,0.00,0.00,0.00,0.00,0.00,0.00,0.00,0.00,0.06,0.99,0.99, 0.29,0.00,0.00,0.00,0.00,0.00,0.00,0.00,0.00,0.00,0.00,0.00,0.00,0.00,0.00, 0.00,0.00,0.00,0.00,0.00,0.00,0.00,0.00,0.00,0.00,0.34,0.99,0.99,0.29,0.00, 0.00,0.00,0.00,0.00,0.00,0.00,0.00,0.00,0.00,0.00,0.00,0.00,0.00,0.02,0.29, 0.04,0.00,0.00,0.00,0.00,0.00,0.00,0.38,0.95,0.99,0.99,0.29,0.00,0.00,0.00, 0.00,0.00,0.00,0.00,0.00,0.00,0.00,0.00,0.00,0.00,0.24,0.72,0.99,0.11,0.00, 0.00,0.00,0.00,0.07,0.36,0.94,0.99,0.99,0.95,0.25,0.00,0.00,0.00,0.00,0.00, 0.00,0.00,0.00,0.00,0.00,0.00,0.00,0.00,0.82,0.99,0.99,0.58,0.53,0.53,0.53, 0.53,0.80,0.99,0.99,0.99,0.74,0.33,0.00,0.00,0.00,0.00,0.00,0.00,0.00,0.00, 0.00,0.00,0.00,0.00,0.00,0.00,0.82,0.99,0.99,0.99,0.99,0.99,0.99,0.99,0.99, 0.99,0.90,0.60,0.03,0.00,0.00,0.00,0.00,0.00,0.00,0.00,0.00,0.00,0.00,0.00, 0.00,0.00,0.00,0.00,0.19,0.62,0.99,0.99,0.99,0.99,0.99,0.85,0.81,0.57,0.18, 0.00,0.00,0.00,0.00,0.00,0.00,0.00,0.00,0.00,0.00,0.00,0.00,0.00,0.00,0.00, 0.00,0.00,0.00,0.03,0.40,0.92,0.99,0.67,0.40,0.09,0.00,0.00,0.00,0.00,0.00, 0.00,0.00,0.00,0.00,0.00,0.00,0.00,0.00,0.00,0.00,0.00,0.00,0.00,0.00,0.00, 0.00,0.00,0.00,0.00,0.00,0.00,0.00,0.00,0.00,0.00,0.00,0.00,0.00,0.00,0.00, 0.00,0.00,0.00,0.00,0.00,0.00,0.00,0.00,0.00,0.00,0.00,0.00,0.00,0.00,0.00, 0.00,0.00,0.00,0.00,0.00,0.00,0.00,0.00,0.00,0.00,0.00,0.00,0.00,0.00,0.00, 0.00,0.00,0.00,0.00,0.00,0.00,0.00,0.00,0.00,0.00,0.00,0.00,0.00,0.00,0.00, 0.00,0.00,0.00,0.00,0.00,0.00,0.00,0.00,0.00,0.00,0.00,0.00,0.00,0.00,0.00, 0.00,0.00,0.00,0.00] | [0.00,0.00,0.00,0.00,0.00,0.00,0.00,0.00,0.00,0.00,0.00,0.00,0.00,0.00,0.00, 0.00,0.00,0.00,0.00,0.00,0.00,0.00,0.00,0.00,0.00,0.00,0.00,0.00,0.00,0.00, 0.00,0.00,0.00,0.00,0.00,0.00,0.00,0.00,0.00,0.00,0.00,0.00,0.00,0.00,0.00, 0.00,0.00,0.00,0.00,0.00,0.00,0.00,0.00,0.00,0.00,0.00,0.00,0.00,0.00,0.00, 0.00,0.00,0.00,0.00,0.00,0.00,0.00,0.00,0.00,0.00,0.00,0.00,0.00,0.00,0.00, 0.00,0.00,0.00,0.00,0.00,0.00,0.00,0.00,0.00,0.00,0.00,0.00,0.00,0.00,0.00, 0.00,0.00,0.00,0.00,0.00,0.00,0.00,0.00,0.00,0.00,0.00,0.00,0.00,0.00,0.00, 0.00,0.00,0.00,0.00,0.00,0.00,0.00,0.00,0.00,0.00,0.00,0.00,0.00,0.00,0.00, 0.00,0.00,0.00,0.00,0.00,0.00,0.00,0.00,0.00,0.00,0.00,0.00,0.00,0.00,0.00, 0.00,0.00,0.00,0.00,0.00,0.00,0.00,0.00,0.00,0.00,0.00,0.00,0.00,0.00,0.00, 0.00,0.10,0.07,0.19,0.70,0.71,0.98,0.99,0.99,0.93,0.62,0.10,0.14,0.06,0.00, 0.00,0.00,0.00,0.00,0.00,0.00,0.00,0.00,0.00,0.00,0.00,0.00,0.19,0.56,0.89, 0.80,0.99,1.00,1.00,1.00,1.00,1.00,0.98,0.99,0.63,0.18,0.03,0.00,0.00,0.00, 0.00,0.00,0.00,0.00,0.00,0.00,0.00,0.00,0.00,0.00,0.71,0.99,0.99,0.99,0.99, 0.98,0.99,0.96,0.99,1.00,0.99,0.98,0.89,0.21,0.00,0.00,0.00,0.00,0.00,0.00, 0.00,0.00,0.00,0.00,0.00,0.00,0.01,0.01,0.48,1.00,0.99,0.93,0.57,0.52,0.47, 0.47,0.72,0.99,0.95,0.71,0.86,0.24,0.00,0.00,0.00,0.00,0.00,0.00,0.00,0.00, 0.00,0.00,0.00,0.00,0.00,0.00,0.17,0.25,0.13,0.19,0.08,0.01,0.00,0.01,0.12, 0.92,0.94,0.68,0.59,0.01,0.00,0.00,0.00,0.00,0.00,0.00,0.00,0.00,0.00,0.00, 0.00,0.00,0.00,0.00,0.01,0.00,0.05,0.05,0.02,0.00,0.00,0.00,0.30,0.94,0.95, 0.89,0.41,0.00,0.00,0.00,0.00,0.00,0.00,0.00,0.00,0.00,0.00,0.00,0.00,0.00, 0.00,0.00,0.00,0.01,0.07,0.16,0.02,0.00,0.00,0.32,0.68,0.92,0.97,0.88,0.01, 0.00,0.00,0.00,0.00,0.00,0.00,0.00,0.00,0.00,0.00,0.00,0.00,0.00,0.00,0.00, 0.00,0.00,0.00,0.20,0.02,0.24,0.73,0.86,0.82,0.95,0.96,0.72,0.01,0.00,0.00, 0.00,0.00,0.00,0.00,0.00,0.00,0.00,0.00,0.00,0.00,0.00,0.00,0.00,0.02,0.37, 0.70,0.74,0.86,0.99,0.98,0.97,0.89,0.92,0.40,0.05,0.00,0.00,0.00,0.00,0.00, 0.00,0.00,0.00,0.00,0.00,0.00,0.00,0.00,0.00,0.00,0.01,0.65,0.90,0.78,0.89, 0.98,0.99,0.99,1.00,1.00,0.73,0.00,0.00,0.00,0.00,0.00,0.00,0.00,0.00,0.00, 0.00,0.00,0.00,0.00,0.00,0.00,0.00,0.00,0.02,0.65,0.90,0.92,0.99,0.95,0.89, 0.99,1.00,1.00,0.99,0.25,0.00,0.00,0.00,0.00,0.00,0.00,0.00,0.00,0.00,0.00, 0.00,0.00,0.00,0.00,0.01,0.00,0.00,0.07,0.38,0.18,0.13,0.09,0.11,0.17,0.61, 1.00,1.00,0.37,0.01,0.00,0.00,0.00,0.00,0.00,0.00,0.00,0.00,0.00,0.00,0.00, 0.00,0.00,0.01,0.04,0.02,0.01,0.01,0.00,0.01,0.02,0.00,0.02,0.11,1.00,1.00, 0.34,0.18,0.02,0.00,0.00,0.01,0.00,0.00,0.00,0.00,0.00,0.00,0.00,0.00,0.00, 0.01,0.05,0.03,0.00,0.01,0.00,0.01,0.05,0.10,0.09,0.40,0.99,1.00,0.38,0.00, 0.01,0.00,0.02,0.00,0.00,0.00,0.00,0.00,0.00,0.00,0.00,0.00,0.01,0.05,0.29, 0.03,0.01,0.02,0.01,0.14,0.20,0.07,0.35,0.93,1.00,0.97,0.30,0.00,0.00,0.01, 0.01,0.01,0.00,0.00,0.00,0.00,0.00,0.00,0.00,0.00,0.22,0.70,0.99,0.10,0.03, 0.09,0.20,0.34,0.22,0.34,0.83,0.97,0.92,0.77,0.23,0.00,0.00,0.00,0.00,0.00, 0.00,0.00,0.00,0.00,0.00,0.00,0.00,0.00,0.81,0.98,0.99,0.70,0.71,0.56,0.78, 0.66,0.80,0.90,0.86,0.82,0.51,0.15,0.00,0.00,0.00,0.00,0.00,0.00,0.00,0.00, 0.00,0.00,0.00,0.00,0.00,0.00,0.81,0.96,0.99,1.00,0.99,1.00,1.00,0.99,0.96, 0.82,0.57,0.50,0.00,0.00,0.00,0.00,0.00,0.00,0.00,0.00,0.00,0.00,0.00,0.00, 0.00,0.00,0.00,0.00,0.19,0.61,0.99,0.99,0.99,1.00,1.00,0.81,0.85,0.38,0.00, 0.00,0.00,0.00,0.00,0.00,0.00,0.00,0.00,0.00,0.00,0.00,0.00,0.00,0.00,0.00, 0.00,0.01,0.02,0.04,0.43,0.93,0.96,0.68,0.42,0.08,0.00,0.00,0.00,0.00,0.00, 0.00,0.00,0.00,0.00,0.00,0.00,0.00,0.00,0.00,0.00,0.00,0.00,0.00,0.00,0.00, 0.00,0.00,0.00,0.00,0.00,0.00,0.00,0.00,0.00,0.00,0.00,0.00,0.00,0.00,0.00, 0.00,0.00,0.00,0.00,0.00,0.00,0.00,0.00,0.00,0.00,0.00,0.00,0.00,0.00,0.00, 0.00,0.00,0.00,0.00,0.00,0.00,0.00,0.00,0.00,0.00,0.00,0.00,0.00,0.00,0.00, 0.00,0.00,0.00,0.00,0.00,0.00,0.00,0.00,0.00,0.00,0.00,0.00,0.00,0.00,0.00, 0.00,0.00,0.00,0.00,0.00,0.00,0.00,0.00,0.00,0.00,0.00,0.00,0.00,0.00,0.00, 0.00,0.00,0.00,0.00] | correct\n",
      "8 | [[[0.00],  [0.00],  [0.00],  [0.00],  [0.00],  [0.00],  [0.00],  [0.00],  [0.00],  [0.00],  [0.00],  [0.00],  [0.00],  [0.00],  [0.00],  [0.00],  [0.00],  [0.00],  [0.00],  [0.00],  [0.00],  [0.00],  [0.00],  [0.00],  [0.00],  [0.00],  [0.00],  [0.00]], [[0.00],  [0.00],  [0.00],  [0.00],  [0.00],  [0.00],  [0.00],  [0.00],  [0.00],  [0.00],  [0.00],  [0.00],  [0.00],  [0.00],  [0.00],  [0.00],  [0.00],  [0.00],  [0.00],  [0.00],  [0.00],  [0.00],  [0.00],  [0.00],  [0.00],  [0.00],  [0.00],  [0.00]], [[0.00],  [0.00],  [0.00],  [0.00],  [0.00],  [0.00],  [0.00],  [0.00],  [0.00],  [0.00],  [0.00],  [0.00],  [0.00],  [0.00],  [0.00],  [0.00],  [0.00],  [0.00],  [0.00],  [0.00],  [0.00],  [0.00],  [0.00],  [0.00],  [0.00],  [0.00],  [0.00],  [0.00]], [[0.00],  [0.00],  [0.00],  [0.00],  [0.00],  [0.00],  [0.00],  [0.00],  [0.00],  [0.00],  [0.00],  [0.00],  [0.00],  [0.00],  [0.00],  [0.00],  [0.00],  [0.00],  [0.00],  [0.00],  [0.00],  [0.00],  [0.00],  [0.00],  [0.00],  [0.00],  [0.00],  [0.00]], [[0.00],  [0.00],  [0.00],  [0.00],  [0.00],  [0.00],  [0.00],  [0.00],  [0.00],  [0.00],  [0.00],  [0.00],  [0.00],  [0.00],  [0.00],  [0.00],  [0.00],  [0.00],  [0.00],  [0.00],  [0.00],  [0.00],  [0.00],  [0.00],  [0.00],  [0.00],  [0.00],  [0.00]], [[0.00],  [0.00],  [0.00],  [0.00],  [0.00],  [0.00],  [0.00],  [0.00],  [0.00],  [0.00],  [0.00],  [0.00],  [0.02],  [0.25],  [0.77],  [0.00],  [0.00],  [0.00],  [0.00],  [0.00],  [0.00],  [0.00],  [0.00],  [0.00],  [0.00],  [0.00],  [0.00],  [0.00]], [[0.00],  [0.00],  [0.00],  [0.00],  [0.00],  [0.00],  [0.00],  [0.00],  [0.00],  [0.00],  [0.00],  [0.00],  [0.08],  [1.00],  [0.90],  [0.09],  [0.00],  [0.00],  [0.00],  [0.00],  [0.00],  [0.00],  [0.00],  [0.00],  [0.00],  [0.00],  [0.00],  [0.00]], [[0.00],  [0.00],  [0.00],  [0.00],  [0.00],  [0.00],  [0.00],  [0.00],  [0.00],  [0.00],  [0.00],  [0.00],  [0.08],  [1.00],  [1.00],  [0.19],  [0.00],  [0.00],  [0.00],  [0.00],  [0.00],  [0.00],  [0.00],  [0.00],  [0.00],  [0.00],  [0.00],  [0.00]], [[0.00],  [0.00],  [0.00],  [0.00],  [0.00],  [0.00],  [0.00],  [0.00],  [0.00],  [0.00],  [0.00],  [0.00],  [0.08],  [1.00],  [1.00],  [0.19],  [0.00],  [0.00],  [0.00],  [0.00],  [0.00],  [0.00],  [0.00],  [0.00],  [0.00],  [0.00],  [0.00],  [0.00]], [[0.00],  [0.00],  [0.00],  [0.00],  [0.00],  [0.00],  [0.00],  [0.00],  [0.00],  [0.00],  [0.00],  [0.00],  [0.08],  [1.00],  [1.00],  [0.22],  [0.00],  [0.00],  [0.00],  [0.00],  [0.00],  [0.00],  [0.00],  [0.00],  [0.00],  [0.00],  [0.00],  [0.00]], [[0.00],  [0.00],  [0.00],  [0.00],  [0.00],  [0.00],  [0.00],  [0.00],  [0.00],  [0.00],  [0.00],  [0.00],  [0.08],  [1.00],  [1.00],  [0.42],  [0.00],  [0.00],  [0.00],  [0.00],  [0.00],  [0.00],  [0.00],  [0.00],  [0.00],  [0.00],  [0.00],  [0.00]], [[0.00],  [0.00],  [0.00],  [0.00],  [0.00],  [0.00],  [0.00],  [0.00],  [0.00],  [0.00],  [0.00],  [0.00],  [0.06],  [0.94],  [1.00],  [0.56],  [0.00],  [0.00],  [0.00],  [0.00],  [0.00],  [0.00],  [0.00],  [0.00],  [0.00],  [0.00],  [0.00],  [0.00]], [[0.00],  [0.00],  [0.00],  [0.00],  [0.00],  [0.00],  [0.00],  [0.00],  [0.00],  [0.00],  [0.00],  [0.00],  [0.00],  [0.70],  [1.00],  [0.56],  [0.00],  [0.00],  [0.00],  [0.00],  [0.00],  [0.00],  [0.00],  [0.00],  [0.00],  [0.00],  [0.00],  [0.00]], [[0.00],  [0.00],  [0.00],  [0.00],  [0.00],  [0.00],  [0.00],  [0.00],  [0.00],  [0.00],  [0.00],  [0.00],  [0.00],  [0.70],  [1.00],  [0.56],  [0.00],  [0.00],  [0.00],  [0.00],  [0.00],  [0.00],  [0.00],  [0.00],  [0.00],  [0.00],  [0.00],  [0.00]], [[0.00],  [0.00],  [0.00],  [0.00],  [0.00],  [0.00],  [0.00],  [0.00],  [0.00],  [0.00],  [0.00],  [0.00],  [0.00],  [0.70],  [1.00],  [0.64],  [0.00],  [0.00],  [0.00],  [0.00],  [0.00],  [0.00],  [0.00],  [0.00],  [0.00],  [0.00],  [0.00],  [0.00]], [[0.00],  [0.00],  [0.00],  [0.00],  [0.00],  [0.00],  [0.00],  [0.00],  [0.00],  [0.00],  [0.00],  [0.00],  [0.00],  [0.70],  [1.00],  [0.94],  [0.00],  [0.00],  [0.00],  [0.00],  [0.00],  [0.00],  [0.00],  [0.00],  [0.00],  [0.00],  [0.00],  [0.00]], [[0.00],  [0.00],  [0.00],  [0.00],  [0.00],  [0.00],  [0.00],  [0.00],  [0.00],  [0.00],  [0.00],  [0.00],  [0.00],  [0.44],  [1.00],  [0.94],  [0.00],  [0.00],  [0.00],  [0.00],  [0.00],  [0.00],  [0.00],  [0.00],  [0.00],  [0.00],  [0.00],  [0.00]], [[0.00],  [0.00],  [0.00],  [0.00],  [0.00],  [0.00],  [0.00],  [0.00],  [0.00],  [0.00],  [0.00],  [0.00],  [0.00],  [0.33],  [1.00],  [0.96],  [0.12],  [0.00],  [0.00],  [0.00],  [0.00],  [0.00],  [0.00],  [0.00],  [0.00],  [0.00],  [0.00],  [0.00]], [[0.00],  [0.00],  [0.00],  [0.00],  [0.00],  [0.00],  [0.00],  [0.00],  [0.00],  [0.00],  [0.00],  [0.00],  [0.00],  [0.31],  [1.00],  [0.96],  [0.15],  [0.00],  [0.00],  [0.00],  [0.00],  [0.00],  [0.00],  [0.00],  [0.00],  [0.00],  [0.00],  [0.00]], [[0.00],  [0.00],  [0.00],  [0.00],  [0.00],  [0.00],  [0.00],  [0.00],  [0.00],  [0.00],  [0.00],  [0.00],  [0.00],  [0.00],  [0.84],  [1.00],  [0.59],  [0.00],  [0.00],  [0.00],  [0.00],  [0.00],  [0.00],  [0.00],  [0.00],  [0.00],  [0.00],  [0.00]], [[0.00],  [0.00],  [0.00],  [0.00],  [0.00],  [0.00],  [0.00],  [0.00],  [0.00],  [0.00],  [0.00],  [0.00],  [0.00],  [0.00],  [0.56],  [0.95],  [0.03],  [0.00],  [0.00],  [0.00],  [0.00],  [0.00],  [0.00],  [0.00],  [0.00],  [0.00],  [0.00],  [0.00]], [[0.00],  [0.00],  [0.00],  [0.00],  [0.00],  [0.00],  [0.00],  [0.00],  [0.00],  [0.00],  [0.00],  [0.00],  [0.00],  [0.00],  [0.56],  [0.94],  [0.01],  [0.00],  [0.00],  [0.00],  [0.00],  [0.00],  [0.00],  [0.00],  [0.00],  [0.00],  [0.00],  [0.00]], [[0.00],  [0.00],  [0.00],  [0.00],  [0.00],  [0.00],  [0.00],  [0.00],  [0.00],  [0.00],  [0.00],  [0.00],  [0.00],  [0.00],  [0.56],  [1.00],  [0.32],  [0.00],  [0.00],  [0.00],  [0.00],  [0.00],  [0.00],  [0.00],  [0.00],  [0.00],  [0.00],  [0.00]], [[0.00],  [0.00],  [0.00],  [0.00],  [0.00],  [0.00],  [0.00],  [0.00],  [0.00],  [0.00],  [0.00],  [0.00],  [0.00],  [0.00],  [0.90],  [0.97],  [0.16],  [0.00],  [0.00],  [0.00],  [0.00],  [0.00],  [0.00],  [0.00],  [0.00],  [0.00],  [0.00],  [0.00]], [[0.00],  [0.00],  [0.00],  [0.00],  [0.00],  [0.00],  [0.00],  [0.00],  [0.00],  [0.00],  [0.00],  [0.00],  [0.00],  [0.00],  [0.66],  [0.82],  [0.12],  [0.00],  [0.00],  [0.00],  [0.00],  [0.00],  [0.00],  [0.00],  [0.00],  [0.00],  [0.00],  [0.00]], [[0.00],  [0.00],  [0.00],  [0.00],  [0.00],  [0.00],  [0.00],  [0.00],  [0.00],  [0.00],  [0.00],  [0.00],  [0.00],  [0.00],  [0.00],  [0.00],  [0.00],  [0.00],  [0.00],  [0.00],  [0.00],  [0.00],  [0.00],  [0.00],  [0.00],  [0.00],  [0.00],  [0.00]], [[0.00],  [0.00],  [0.00],  [0.00],  [0.00],  [0.00],  [0.00],  [0.00],  [0.00],  [0.00],  [0.00],  [0.00],  [0.00],  [0.00],  [0.00],  [0.00],  [0.00],  [0.00],  [0.00],  [0.00],  [0.00],  [0.00],  [0.00],  [0.00],  [0.00],  [0.00],  [0.00],  [0.00]], [[0.00],  [0.00],  [0.00],  [0.00],  [0.00],  [0.00],  [0.00],  [0.00],  [0.00],  [0.00],  [0.00],  [0.00],  [0.00],  [0.00],  [0.00],  [0.00],  [0.00],  [0.00],  [0.00],  [0.00],  [0.00],  [0.00],  [0.00],  [0.00],  [0.00],  [0.00],  [0.00],  [0.00]]] | [0.00,0.00,0.00,0.00,0.00,0.00,0.00,0.00,0.00,0.00,0.00,0.00,0.00,0.00,0.00, 0.00,0.00,0.00,0.00,0.00,0.00,0.00,0.00,0.00,0.00,0.00,0.00,0.00,0.00,0.00, 0.00,0.00,0.00,0.00,0.00,0.00,0.00,0.00,0.00,0.00,0.00,0.00,0.00,0.00,0.00, 0.00,0.00,0.00,0.00,0.00,0.00,0.00,0.00,0.00,0.00,0.00,0.00,0.00,0.00,0.00, 0.00,0.00,0.00,0.00,0.00,0.00,0.00,0.00,0.00,0.00,0.00,0.00,0.00,0.00,0.00, 0.00,0.00,0.00,0.00,0.00,0.00,0.00,0.00,0.00,0.00,0.00,0.00,0.00,0.00,0.00, 0.00,0.00,0.00,0.00,0.00,0.00,0.00,0.00,0.00,0.00,0.00,0.00,0.00,0.00,0.00, 0.00,0.00,0.00,0.00,0.00,0.00,0.00,0.00,0.00,0.00,0.00,0.00,0.00,0.00,0.00, 0.00,0.00,0.00,0.00,0.00,0.00,0.00,0.00,0.00,0.00,0.00,0.00,0.00,0.00,0.00, 0.00,0.00,0.00,0.00,0.00,0.00,0.00,0.00,0.00,0.00,0.00,0.00,0.00,0.00,0.00, 0.00,0.00,0.02,0.25,0.77,0.00,0.00,0.00,0.00,0.00,0.00,0.00,0.00,0.00,0.00, 0.00,0.00,0.00,0.00,0.00,0.00,0.00,0.00,0.00,0.00,0.00,0.00,0.00,0.00,0.00, 0.08,1.00,0.90,0.09,0.00,0.00,0.00,0.00,0.00,0.00,0.00,0.00,0.00,0.00,0.00, 0.00,0.00,0.00,0.00,0.00,0.00,0.00,0.00,0.00,0.00,0.00,0.00,0.00,0.08,1.00, 1.00,0.19,0.00,0.00,0.00,0.00,0.00,0.00,0.00,0.00,0.00,0.00,0.00,0.00,0.00, 0.00,0.00,0.00,0.00,0.00,0.00,0.00,0.00,0.00,0.00,0.00,0.08,1.00,1.00,0.19, 0.00,0.00,0.00,0.00,0.00,0.00,0.00,0.00,0.00,0.00,0.00,0.00,0.00,0.00,0.00, 0.00,0.00,0.00,0.00,0.00,0.00,0.00,0.00,0.00,0.08,1.00,1.00,0.22,0.00,0.00, 0.00,0.00,0.00,0.00,0.00,0.00,0.00,0.00,0.00,0.00,0.00,0.00,0.00,0.00,0.00, 0.00,0.00,0.00,0.00,0.00,0.00,0.00,0.08,1.00,1.00,0.42,0.00,0.00,0.00,0.00, 0.00,0.00,0.00,0.00,0.00,0.00,0.00,0.00,0.00,0.00,0.00,0.00,0.00,0.00,0.00, 0.00,0.00,0.00,0.00,0.00,0.06,0.94,1.00,0.56,0.00,0.00,0.00,0.00,0.00,0.00, 0.00,0.00,0.00,0.00,0.00,0.00,0.00,0.00,0.00,0.00,0.00,0.00,0.00,0.00,0.00, 0.00,0.00,0.00,0.00,0.70,1.00,0.56,0.00,0.00,0.00,0.00,0.00,0.00,0.00,0.00, 0.00,0.00,0.00,0.00,0.00,0.00,0.00,0.00,0.00,0.00,0.00,0.00,0.00,0.00,0.00, 0.00,0.00,0.70,1.00,0.56,0.00,0.00,0.00,0.00,0.00,0.00,0.00,0.00,0.00,0.00, 0.00,0.00,0.00,0.00,0.00,0.00,0.00,0.00,0.00,0.00,0.00,0.00,0.00,0.00,0.00, 0.70,1.00,0.64,0.00,0.00,0.00,0.00,0.00,0.00,0.00,0.00,0.00,0.00,0.00,0.00, 0.00,0.00,0.00,0.00,0.00,0.00,0.00,0.00,0.00,0.00,0.00,0.00,0.00,0.70,1.00, 0.94,0.00,0.00,0.00,0.00,0.00,0.00,0.00,0.00,0.00,0.00,0.00,0.00,0.00,0.00, 0.00,0.00,0.00,0.00,0.00,0.00,0.00,0.00,0.00,0.00,0.00,0.44,1.00,0.94,0.00, 0.00,0.00,0.00,0.00,0.00,0.00,0.00,0.00,0.00,0.00,0.00,0.00,0.00,0.00,0.00, 0.00,0.00,0.00,0.00,0.00,0.00,0.00,0.00,0.00,0.33,1.00,0.96,0.12,0.00,0.00, 0.00,0.00,0.00,0.00,0.00,0.00,0.00,0.00,0.00,0.00,0.00,0.00,0.00,0.00,0.00, 0.00,0.00,0.00,0.00,0.00,0.00,0.00,0.31,1.00,0.96,0.15,0.00,0.00,0.00,0.00, 0.00,0.00,0.00,0.00,0.00,0.00,0.00,0.00,0.00,0.00,0.00,0.00,0.00,0.00,0.00, 0.00,0.00,0.00,0.00,0.00,0.00,0.84,1.00,0.59,0.00,0.00,0.00,0.00,0.00,0.00, 0.00,0.00,0.00,0.00,0.00,0.00,0.00,0.00,0.00,0.00,0.00,0.00,0.00,0.00,0.00, 0.00,0.00,0.00,0.00,0.56,0.95,0.03,0.00,0.00,0.00,0.00,0.00,0.00,0.00,0.00, 0.00,0.00,0.00,0.00,0.00,0.00,0.00,0.00,0.00,0.00,0.00,0.00,0.00,0.00,0.00, 0.00,0.00,0.56,0.94,0.01,0.00,0.00,0.00,0.00,0.00,0.00,0.00,0.00,0.00,0.00, 0.00,0.00,0.00,0.00,0.00,0.00,0.00,0.00,0.00,0.00,0.00,0.00,0.00,0.00,0.00, 0.56,1.00,0.32,0.00,0.00,0.00,0.00,0.00,0.00,0.00,0.00,0.00,0.00,0.00,0.00, 0.00,0.00,0.00,0.00,0.00,0.00,0.00,0.00,0.00,0.00,0.00,0.00,0.00,0.90,0.97, 0.16,0.00,0.00,0.00,0.00,0.00,0.00,0.00,0.00,0.00,0.00,0.00,0.00,0.00,0.00, 0.00,0.00,0.00,0.00,0.00,0.00,0.00,0.00,0.00,0.00,0.00,0.66,0.82,0.12,0.00, 0.00,0.00,0.00,0.00,0.00,0.00,0.00,0.00,0.00,0.00,0.00,0.00,0.00,0.00,0.00, 0.00,0.00,0.00,0.00,0.00,0.00,0.00,0.00,0.00,0.00,0.00,0.00,0.00,0.00,0.00, 0.00,0.00,0.00,0.00,0.00,0.00,0.00,0.00,0.00,0.00,0.00,0.00,0.00,0.00,0.00, 0.00,0.00,0.00,0.00,0.00,0.00,0.00,0.00,0.00,0.00,0.00,0.00,0.00,0.00,0.00, 0.00,0.00,0.00,0.00,0.00,0.00,0.00,0.00,0.00,0.00,0.00,0.00,0.00,0.00,0.00, 0.00,0.00,0.00,0.00,0.00,0.00,0.00,0.00,0.00,0.00,0.00,0.00,0.00,0.00,0.00, 0.00,0.00,0.00,0.00] | [0.00,0.00,0.00,0.00,0.00,0.00,0.00,0.00,0.00,0.00,0.00,0.00,0.00,0.00,0.00, 0.00,0.00,0.00,0.00,0.00,0.00,0.00,0.00,0.00,0.00,0.00,0.00,0.00,0.00,0.00, 0.00,0.00,0.00,0.00,0.00,0.00,0.00,0.00,0.00,0.00,0.00,0.00,0.00,0.00,0.00, 0.00,0.00,0.00,0.00,0.00,0.00,0.00,0.00,0.00,0.00,0.00,0.00,0.00,0.00,0.00, 0.00,0.00,0.00,0.00,0.00,0.00,0.00,0.00,0.00,0.00,0.00,0.00,0.00,0.00,0.00, 0.00,0.00,0.00,0.00,0.00,0.00,0.00,0.00,0.00,0.00,0.00,0.00,0.00,0.00,0.00, 0.00,0.00,0.00,0.00,0.00,0.00,0.00,0.00,0.00,0.00,0.00,0.00,0.00,0.00,0.00, 0.00,0.00,0.00,0.00,0.00,0.00,0.00,0.00,0.00,0.00,0.00,0.00,0.00,0.00,0.00, 0.00,0.00,0.00,0.00,0.27,0.46,0.41,0.10,0.00,0.00,0.00,0.00,0.00,0.00,0.00, 0.00,0.00,0.00,0.00,0.00,0.00,0.00,0.00,0.00,0.00,0.00,0.00,0.00,0.00,0.00, 0.00,0.06,0.36,0.45,0.64,0.05,0.00,0.00,0.01,0.00,0.07,0.05,0.02,0.03,0.00, 0.00,0.00,0.00,0.00,0.00,0.00,0.00,0.00,0.01,0.00,0.00,0.00,0.00,0.00,0.01, 0.25,0.94,0.76,0.11,0.00,0.00,0.00,0.00,0.04,0.04,0.02,0.01,0.00,0.00,0.00, 0.00,0.00,0.00,0.00,0.00,0.00,0.00,0.00,0.00,0.01,0.01,0.00,0.00,0.23,0.90, 0.95,0.36,0.09,0.03,0.02,0.00,0.00,0.00,0.01,0.00,0.00,0.00,0.00,0.00,0.00, 0.00,0.00,0.00,0.00,0.00,0.00,0.01,0.01,0.01,0.00,0.09,0.49,0.92,0.96,0.31, 0.14,0.09,0.01,0.03,0.05,0.00,0.00,0.00,0.00,0.00,0.00,0.00,0.00,0.00,0.00, 0.00,0.00,0.01,0.00,0.00,0.00,0.03,0.05,0.18,0.61,0.91,0.87,0.39,0.06,0.09, 0.02,0.01,0.05,0.00,0.00,0.00,0.00,0.00,0.00,0.00,0.00,0.00,0.00,0.00,0.01, 0.00,0.00,0.00,0.00,0.01,0.02,0.13,0.41,0.80,0.90,0.66,0.31,0.07,0.00,0.01, 0.00,0.00,0.00,0.00,0.00,0.00,0.00,0.00,0.00,0.00,0.00,0.00,0.02,0.00,0.00, 0.00,0.03,0.04,0.02,0.07,0.05,0.77,0.95,0.71,0.31,0.07,0.02,0.01,0.00,0.01, 0.00,0.00,0.00,0.00,0.00,0.00,0.00,0.00,0.00,0.01,0.01,0.01,0.00,0.03,0.05, 0.06,0.05,0.01,0.03,0.79,0.81,0.66,0.31,0.05,0.01,0.00,0.00,0.00,0.00,0.00, 0.00,0.00,0.00,0.00,0.00,0.00,0.00,0.01,0.00,0.00,0.01,0.04,0.04,0.04,0.00, 0.00,0.00,0.73,0.96,0.84,0.30,0.03,0.00,0.00,0.01,0.00,0.00,0.00,0.00,0.00, 0.00,0.00,0.00,0.00,0.00,0.00,0.01,0.01,0.01,0.06,0.05,0.00,0.00,0.05,0.05, 0.85,0.99,0.94,0.31,0.02,0.01,0.01,0.01,0.00,0.00,0.00,0.00,0.00,0.00,0.00, 0.00,0.00,0.00,0.01,0.01,0.01,0.02,0.07,0.12,0.14,0.06,0.03,0.05,0.82,0.94, 0.94,0.26,0.00,0.00,0.01,0.00,0.00,0.00,0.00,0.00,0.00,0.00,0.00,0.00,0.00, 0.00,0.00,0.01,0.00,0.01,0.02,0.03,0.03,0.09,0.07,0.01,0.57,0.92,0.94,0.33, 0.00,0.02,0.02,0.00,0.00,0.00,0.00,0.00,0.00,0.00,0.00,0.00,0.00,0.00,0.00, 0.00,0.00,0.00,0.00,0.00,0.00,0.00,0.00,0.01,0.60,0.97,0.90,0.52,0.06,0.00, 0.03,0.00,0.00,0.00,0.00,0.00,0.00,0.00,0.00,0.00,0.00,0.00,0.00,0.00,0.00, 0.00,0.00,0.00,0.00,0.01,0.00,0.01,0.40,0.95,0.98,0.50,0.19,0.01,0.02,0.00, 0.00,0.00,0.00,0.00,0.00,0.00,0.00,0.00,0.00,0.00,0.00,0.00,0.00,0.00,0.00, 0.00,0.00,0.00,0.00,0.01,0.21,0.93,0.99,0.65,0.16,0.01,0.01,0.00,0.00,0.00, 0.00,0.00,0.00,0.00,0.00,0.00,0.00,0.00,0.00,0.00,0.00,0.00,0.00,0.00,0.00, 0.00,0.04,0.04,0.06,0.76,0.95,0.33,0.35,0.02,0.00,0.00,0.00,0.00,0.00,0.00, 0.00,0.00,0.00,0.00,0.00,0.00,0.00,0.00,0.00,0.00,0.00,0.00,0.01,0.02,0.03, 0.01,0.08,0.68,0.93,0.41,0.34,0.03,0.01,0.00,0.00,0.00,0.00,0.00,0.00,0.00, 0.00,0.00,0.00,0.00,0.00,0.00,0.00,0.00,0.00,0.00,0.01,0.02,0.04,0.01,0.00, 0.50,0.89,0.53,0.53,0.08,0.00,0.00,0.00,0.00,0.00,0.00,0.00,0.00,0.00,0.00, 0.00,0.00,0.00,0.00,0.01,0.00,0.00,0.01,0.03,0.01,0.02,0.00,0.00,0.45,0.85, 0.60,0.49,0.10,0.00,0.00,0.00,0.00,0.00,0.00,0.00,0.00,0.00,0.00,0.00,0.00, 0.00,0.01,0.01,0.02,0.01,0.00,0.00,0.02,0.01,0.00,0.00,0.37,0.48,0.11,0.05, 0.01,0.00,0.00,0.00,0.00,0.00,0.00,0.00,0.00,0.00,0.00,0.00,0.00,0.00,0.00, 0.00,0.00,0.00,0.00,0.00,0.00,0.00,0.00,0.00,0.01,0.02,0.05,0.02,0.00,0.00, 0.00,0.00,0.00,0.00,0.00,0.00,0.00,0.00,0.00,0.00,0.00,0.00,0.00,0.00,0.00, 0.00,0.00,0.00,0.00,0.00,0.00,0.00,0.00,0.00,0.02,0.06,0.01,0.00,0.00,0.00, 0.00,0.00,0.00,0.00,0.00,0.00,0.00,0.00,0.00,0.00,0.00,0.00,0.00,0.00,0.00, 0.00,0.00,0.00,0.00,0.00,0.00,0.00,0.00,0.00,0.00,0.00,0.00,0.00,0.00,0.00, 0.00,0.00,0.00,0.00] | correct\n",
      "9 | [[[0.00],  [0.00],  [0.00],  [0.00],  [0.00],  [0.00],  [0.00],  [0.00],  [0.00],  [0.00],  [0.00],  [0.00],  [0.00],  [0.00],  [0.00],  [0.00],  [0.00],  [0.00],  [0.00],  [0.00],  [0.00],  [0.00],  [0.00],  [0.00],  [0.00],  [0.00],  [0.00],  [0.00]], [[0.00],  [0.00],  [0.00],  [0.00],  [0.00],  [0.00],  [0.00],  [0.00],  [0.00],  [0.00],  [0.00],  [0.00],  [0.00],  [0.00],  [0.00],  [0.00],  [0.00],  [0.00],  [0.00],  [0.00],  [0.00],  [0.00],  [0.00],  [0.00],  [0.00],  [0.00],  [0.00],  [0.00]], [[0.00],  [0.00],  [0.00],  [0.00],  [0.00],  [0.00],  [0.00],  [0.00],  [0.00],  [0.00],  [0.00],  [0.00],  [0.00],  [0.00],  [0.00],  [0.00],  [0.00],  [0.00],  [0.00],  [0.00],  [0.00],  [0.00],  [0.00],  [0.00],  [0.00],  [0.00],  [0.00],  [0.00]], [[0.00],  [0.00],  [0.00],  [0.00],  [0.00],  [0.00],  [0.00],  [0.00],  [0.00],  [0.00],  [0.00],  [0.00],  [0.00],  [0.00],  [0.00],  [0.00],  [0.00],  [0.00],  [0.00],  [0.00],  [0.00],  [0.00],  [0.00],  [0.00],  [0.00],  [0.00],  [0.00],  [0.00]], [[0.00],  [0.00],  [0.00],  [0.00],  [0.00],  [0.00],  [0.00],  [0.00],  [0.00],  [0.00],  [0.00],  [0.00],  [0.00],  [0.00],  [0.00],  [0.00],  [0.00],  [0.00],  [0.00],  [0.00],  [0.00],  [0.00],  [0.74],  [0.75],  [0.00],  [0.00],  [0.00],  [0.00]], [[0.00],  [0.00],  [0.00],  [0.00],  [0.00],  [0.00],  [0.00],  [0.00],  [0.00],  [0.00],  [0.00],  [0.00],  [0.00],  [0.00],  [0.00],  [0.00],  [0.00],  [0.00],  [0.00],  [0.00],  [0.00],  [0.56],  [0.97],  [0.60],  [0.00],  [0.00],  [0.00],  [0.00]], [[0.00],  [0.00],  [0.00],  [0.00],  [0.00],  [0.00],  [0.00],  [0.00],  [0.00],  [0.00],  [0.00],  [0.00],  [0.00],  [0.00],  [0.00],  [0.00],  [0.00],  [0.00],  [0.00],  [0.00],  [0.53],  [0.97],  [0.95],  [0.34],  [0.00],  [0.00],  [0.00],  [0.00]], [[0.00],  [0.00],  [0.00],  [0.00],  [0.00],  [0.00],  [0.00],  [0.00],  [0.00],  [0.00],  [0.00],  [0.00],  [0.00],  [0.00],  [0.00],  [0.00],  [0.00],  [0.00],  [0.00],  [0.00],  [0.75],  [0.99],  [0.73],  [0.00],  [0.00],  [0.00],  [0.00],  [0.00]], [[0.00],  [0.00],  [0.00],  [0.00],  [0.00],  [0.00],  [0.00],  [0.00],  [0.00],  [0.00],  [0.00],  [0.00],  [0.24],  [0.73],  [0.07],  [0.00],  [0.00],  [0.00],  [0.00],  [0.35],  [0.93],  [0.85],  [0.18],  [0.00],  [0.00],  [0.00],  [0.00],  [0.00]], [[0.00],  [0.00],  [0.00],  [0.00],  [0.00],  [0.00],  [0.00],  [0.00],  [0.00],  [0.00],  [0.00],  [0.00],  [0.85],  [0.99],  [0.24],  [0.00],  [0.00],  [0.00],  [0.00],  [0.83],  [1.00],  [0.32],  [0.00],  [0.00],  [0.00],  [0.00],  [0.00],  [0.00]], [[0.00],  [0.00],  [0.00],  [0.00],  [0.00],  [0.00],  [0.00],  [0.00],  [0.00],  [0.00],  [0.00],  [0.00],  [0.81],  [0.99],  [0.27],  [0.00],  [0.00],  [0.00],  [0.19],  [0.95],  [0.99],  [0.35],  [0.00],  [0.00],  [0.00],  [0.00],  [0.00],  [0.00]], [[0.00],  [0.00],  [0.00],  [0.00],  [0.00],  [0.00],  [0.00],  [0.00],  [0.00],  [0.00],  [0.00],  [0.51],  [0.98],  [0.83],  [0.08],  [0.00],  [0.00],  [0.04],  [0.65],  [0.99],  [0.77],  [0.02],  [0.00],  [0.00],  [0.00],  [0.00],  [0.00],  [0.00]], [[0.00],  [0.00],  [0.00],  [0.00],  [0.00],  [0.00],  [0.00],  [0.00],  [0.00],  [0.00],  [0.11],  [0.91],  [0.97],  [0.25],  [0.00],  [0.00],  [0.00],  [0.60],  [0.99],  [0.89],  [0.00],  [0.00],  [0.00],  [0.00],  [0.00],  [0.00],  [0.00],  [0.00]], [[0.00],  [0.00],  [0.00],  [0.00],  [0.00],  [0.00],  [0.00],  [0.00],  [0.00],  [0.18],  [0.86],  [0.99],  [0.56],  [0.00],  [0.00],  [0.00],  [0.45],  [0.98],  [0.99],  [0.40],  [0.00],  [0.00],  [0.00],  [0.00],  [0.00],  [0.00],  [0.00],  [0.00]], [[0.00],  [0.00],  [0.00],  [0.00],  [0.00],  [0.00],  [0.00],  [0.02],  [0.38],  [0.99],  [1.00],  [0.99],  [0.78],  [0.48],  [0.03],  [0.10],  [0.79],  [0.98],  [0.62],  [0.00],  [0.00],  [0.00],  [0.00],  [0.00],  [0.00],  [0.00],  [0.00],  [0.00]], [[0.00],  [0.00],  [0.00],  [0.00],  [0.00],  [0.00],  [0.00],  [0.36],  [0.99],  [0.99],  [0.99],  [0.85],  [0.99],  [0.99],  [0.78],  [0.89],  [0.99],  [0.91],  [0.00],  [0.00],  [0.00],  [0.00],  [0.00],  [0.00],  [0.00],  [0.00],  [0.00],  [0.00]], [[0.00],  [0.00],  [0.00],  [0.00],  [0.00],  [0.00],  [0.34],  [0.98],  [0.97],  [0.91],  [0.25],  [0.19],  [0.74],  [0.99],  [0.99],  [0.99],  [0.99],  [0.98],  [0.89],  [0.14],  [0.00],  [0.00],  [0.00],  [0.00],  [0.00],  [0.00],  [0.00],  [0.00]], [[0.00],  [0.00],  [0.00],  [0.00],  [0.00],  [0.00],  [0.75],  [0.87],  [0.38],  [0.00],  [0.00],  [0.00],  [0.16],  [0.77],  [0.99],  [0.99],  [0.99],  [0.99],  [0.64],  [0.00],  [0.00],  [0.00],  [0.00],  [0.00],  [0.00],  [0.00],  [0.00],  [0.00]], [[0.00],  [0.00],  [0.00],  [0.00],  [0.00],  [0.00],  [0.44],  [0.11],  [0.00],  [0.00],  [0.00],  [0.00],  [0.24],  [0.94],  [0.99],  [0.34],  [0.16],  [0.16],  [0.05],  [0.00],  [0.00],  [0.00],  [0.00],  [0.00],  [0.00],  [0.00],  [0.00],  [0.00]], [[0.00],  [0.00],  [0.00],  [0.00],  [0.00],  [0.00],  [0.00],  [0.00],  [0.00],  [0.00],  [0.00],  [0.06],  [0.58],  [0.99],  [0.85],  [0.00],  [0.00],  [0.00],  [0.00],  [0.00],  [0.00],  [0.00],  [0.00],  [0.00],  [0.00],  [0.00],  [0.00],  [0.00]], [[0.00],  [0.00],  [0.00],  [0.00],  [0.00],  [0.00],  [0.00],  [0.00],  [0.00],  [0.00],  [0.00],  [0.47],  [0.99],  [0.91],  [0.11],  [0.00],  [0.00],  [0.00],  [0.00],  [0.00],  [0.00],  [0.00],  [0.00],  [0.00],  [0.00],  [0.00],  [0.00],  [0.00]], [[0.00],  [0.00],  [0.00],  [0.00],  [0.00],  [0.00],  [0.00],  [0.00],  [0.00],  [0.00],  [0.12],  [0.87],  [0.98],  [0.51],  [0.00],  [0.00],  [0.00],  [0.00],  [0.00],  [0.00],  [0.00],  [0.00],  [0.00],  [0.00],  [0.00],  [0.00],  [0.00],  [0.00]], [[0.00],  [0.00],  [0.00],  [0.00],  [0.00],  [0.00],  [0.00],  [0.00],  [0.00],  [0.00],  [0.85],  [0.99],  [0.63],  [0.00],  [0.00],  [0.00],  [0.00],  [0.00],  [0.00],  [0.00],  [0.00],  [0.00],  [0.00],  [0.00],  [0.00],  [0.00],  [0.00],  [0.00]], [[0.00],  [0.00],  [0.00],  [0.00],  [0.00],  [0.00],  [0.00],  [0.00],  [0.00],  [0.00],  [0.48],  [0.99],  [0.32],  [0.00],  [0.00],  [0.00],  [0.00],  [0.00],  [0.00],  [0.00],  [0.00],  [0.00],  [0.00],  [0.00],  [0.00],  [0.00],  [0.00],  [0.00]], [[0.00],  [0.00],  [0.00],  [0.00],  [0.00],  [0.00],  [0.00],  [0.00],  [0.00],  [0.00],  [0.00],  [0.00],  [0.00],  [0.00],  [0.00],  [0.00],  [0.00],  [0.00],  [0.00],  [0.00],  [0.00],  [0.00],  [0.00],  [0.00],  [0.00],  [0.00],  [0.00],  [0.00]], [[0.00],  [0.00],  [0.00],  [0.00],  [0.00],  [0.00],  [0.00],  [0.00],  [0.00],  [0.00],  [0.00],  [0.00],  [0.00],  [0.00],  [0.00],  [0.00],  [0.00],  [0.00],  [0.00],  [0.00],  [0.00],  [0.00],  [0.00],  [0.00],  [0.00],  [0.00],  [0.00],  [0.00]], [[0.00],  [0.00],  [0.00],  [0.00],  [0.00],  [0.00],  [0.00],  [0.00],  [0.00],  [0.00],  [0.00],  [0.00],  [0.00],  [0.00],  [0.00],  [0.00],  [0.00],  [0.00],  [0.00],  [0.00],  [0.00],  [0.00],  [0.00],  [0.00],  [0.00],  [0.00],  [0.00],  [0.00]], [[0.00],  [0.00],  [0.00],  [0.00],  [0.00],  [0.00],  [0.00],  [0.00],  [0.00],  [0.00],  [0.00],  [0.00],  [0.00],  [0.00],  [0.00],  [0.00],  [0.00],  [0.00],  [0.00],  [0.00],  [0.00],  [0.00],  [0.00],  [0.00],  [0.00],  [0.00],  [0.00],  [0.00]]] | [0.00,0.00,0.00,0.00,0.00,0.00,0.00,0.00,0.00,0.00,0.00,0.00,0.00,0.00,0.00, 0.00,0.00,0.00,0.00,0.00,0.00,0.00,0.00,0.00,0.00,0.00,0.00,0.00,0.00,0.00, 0.00,0.00,0.00,0.00,0.00,0.00,0.00,0.00,0.00,0.00,0.00,0.00,0.00,0.00,0.00, 0.00,0.00,0.00,0.00,0.00,0.00,0.00,0.00,0.00,0.00,0.00,0.00,0.00,0.00,0.00, 0.00,0.00,0.00,0.00,0.00,0.00,0.00,0.00,0.00,0.00,0.00,0.00,0.00,0.00,0.00, 0.00,0.00,0.00,0.00,0.00,0.00,0.00,0.00,0.00,0.00,0.00,0.00,0.00,0.00,0.00, 0.00,0.00,0.00,0.00,0.00,0.00,0.00,0.00,0.00,0.00,0.00,0.00,0.00,0.00,0.00, 0.00,0.00,0.00,0.00,0.00,0.00,0.00,0.00,0.00,0.00,0.00,0.00,0.00,0.00,0.00, 0.00,0.00,0.00,0.00,0.00,0.00,0.00,0.00,0.00,0.00,0.00,0.00,0.00,0.00,0.74, 0.75,0.00,0.00,0.00,0.00,0.00,0.00,0.00,0.00,0.00,0.00,0.00,0.00,0.00,0.00, 0.00,0.00,0.00,0.00,0.00,0.00,0.00,0.00,0.00,0.00,0.00,0.56,0.97,0.60,0.00, 0.00,0.00,0.00,0.00,0.00,0.00,0.00,0.00,0.00,0.00,0.00,0.00,0.00,0.00,0.00, 0.00,0.00,0.00,0.00,0.00,0.00,0.00,0.00,0.53,0.97,0.95,0.34,0.00,0.00,0.00, 0.00,0.00,0.00,0.00,0.00,0.00,0.00,0.00,0.00,0.00,0.00,0.00,0.00,0.00,0.00, 0.00,0.00,0.00,0.00,0.00,0.00,0.75,0.99,0.73,0.00,0.00,0.00,0.00,0.00,0.00, 0.00,0.00,0.00,0.00,0.00,0.00,0.00,0.00,0.00,0.00,0.00,0.24,0.73,0.07,0.00, 0.00,0.00,0.00,0.35,0.93,0.85,0.18,0.00,0.00,0.00,0.00,0.00,0.00,0.00,0.00, 0.00,0.00,0.00,0.00,0.00,0.00,0.00,0.00,0.00,0.85,0.99,0.24,0.00,0.00,0.00, 0.00,0.83,1.00,0.32,0.00,0.00,0.00,0.00,0.00,0.00,0.00,0.00,0.00,0.00,0.00, 0.00,0.00,0.00,0.00,0.00,0.00,0.00,0.81,0.99,0.27,0.00,0.00,0.00,0.19,0.95, 0.99,0.35,0.00,0.00,0.00,0.00,0.00,0.00,0.00,0.00,0.00,0.00,0.00,0.00,0.00, 0.00,0.00,0.00,0.00,0.51,0.98,0.83,0.08,0.00,0.00,0.04,0.65,0.99,0.77,0.02, 0.00,0.00,0.00,0.00,0.00,0.00,0.00,0.00,0.00,0.00,0.00,0.00,0.00,0.00,0.00, 0.00,0.11,0.91,0.97,0.25,0.00,0.00,0.00,0.60,0.99,0.89,0.00,0.00,0.00,0.00, 0.00,0.00,0.00,0.00,0.00,0.00,0.00,0.00,0.00,0.00,0.00,0.00,0.00,0.18,0.86, 0.99,0.56,0.00,0.00,0.00,0.45,0.98,0.99,0.40,0.00,0.00,0.00,0.00,0.00,0.00, 0.00,0.00,0.00,0.00,0.00,0.00,0.00,0.00,0.00,0.02,0.38,0.99,1.00,0.99,0.78, 0.48,0.03,0.10,0.79,0.98,0.62,0.00,0.00,0.00,0.00,0.00,0.00,0.00,0.00,0.00, 0.00,0.00,0.00,0.00,0.00,0.00,0.00,0.36,0.99,0.99,0.99,0.85,0.99,0.99,0.78, 0.89,0.99,0.91,0.00,0.00,0.00,0.00,0.00,0.00,0.00,0.00,0.00,0.00,0.00,0.00, 0.00,0.00,0.00,0.00,0.34,0.98,0.97,0.91,0.25,0.19,0.74,0.99,0.99,0.99,0.99, 0.98,0.89,0.14,0.00,0.00,0.00,0.00,0.00,0.00,0.00,0.00,0.00,0.00,0.00,0.00, 0.00,0.00,0.75,0.87,0.38,0.00,0.00,0.00,0.16,0.77,0.99,0.99,0.99,0.99,0.64, 0.00,0.00,0.00,0.00,0.00,0.00,0.00,0.00,0.00,0.00,0.00,0.00,0.00,0.00,0.00, 0.44,0.11,0.00,0.00,0.00,0.00,0.24,0.94,0.99,0.34,0.16,0.16,0.05,0.00,0.00, 0.00,0.00,0.00,0.00,0.00,0.00,0.00,0.00,0.00,0.00,0.00,0.00,0.00,0.00,0.00, 0.00,0.00,0.00,0.06,0.58,0.99,0.85,0.00,0.00,0.00,0.00,0.00,0.00,0.00,0.00, 0.00,0.00,0.00,0.00,0.00,0.00,0.00,0.00,0.00,0.00,0.00,0.00,0.00,0.00,0.00, 0.00,0.47,0.99,0.91,0.11,0.00,0.00,0.00,0.00,0.00,0.00,0.00,0.00,0.00,0.00, 0.00,0.00,0.00,0.00,0.00,0.00,0.00,0.00,0.00,0.00,0.00,0.00,0.00,0.12,0.87, 0.98,0.51,0.00,0.00,0.00,0.00,0.00,0.00,0.00,0.00,0.00,0.00,0.00,0.00,0.00, 0.00,0.00,0.00,0.00,0.00,0.00,0.00,0.00,0.00,0.00,0.00,0.85,0.99,0.63,0.00, 0.00,0.00,0.00,0.00,0.00,0.00,0.00,0.00,0.00,0.00,0.00,0.00,0.00,0.00,0.00, 0.00,0.00,0.00,0.00,0.00,0.00,0.00,0.00,0.00,0.48,0.99,0.32,0.00,0.00,0.00, 0.00,0.00,0.00,0.00,0.00,0.00,0.00,0.00,0.00,0.00,0.00,0.00,0.00,0.00,0.00, 0.00,0.00,0.00,0.00,0.00,0.00,0.00,0.00,0.00,0.00,0.00,0.00,0.00,0.00,0.00, 0.00,0.00,0.00,0.00,0.00,0.00,0.00,0.00,0.00,0.00,0.00,0.00,0.00,0.00,0.00, 0.00,0.00,0.00,0.00,0.00,0.00,0.00,0.00,0.00,0.00,0.00,0.00,0.00,0.00,0.00, 0.00,0.00,0.00,0.00,0.00,0.00,0.00,0.00,0.00,0.00,0.00,0.00,0.00,0.00,0.00, 0.00,0.00,0.00,0.00,0.00,0.00,0.00,0.00,0.00,0.00,0.00,0.00,0.00,0.00,0.00, 0.00,0.00,0.00,0.00,0.00,0.00,0.00,0.00,0.00,0.00,0.00,0.00,0.00,0.00,0.00, 0.00,0.00,0.00,0.00,0.00,0.00,0.00,0.00,0.00,0.00,0.00,0.00,0.00,0.00,0.00, 0.00,0.00,0.00,0.00] | [0.00,0.00,0.00,0.00,0.00,0.00,0.00,0.00,0.00,0.00,0.00,0.00,0.00,0.00,0.00, 0.00,0.00,0.00,0.00,0.00,0.00,0.00,0.00,0.00,0.00,0.00,0.00,0.00,0.00,0.00, 0.00,0.00,0.00,0.00,0.00,0.00,0.00,0.00,0.00,0.00,0.00,0.00,0.00,0.00,0.00, 0.00,0.00,0.00,0.00,0.00,0.00,0.00,0.00,0.00,0.00,0.00,0.00,0.00,0.00,0.00, 0.00,0.00,0.00,0.00,0.00,0.00,0.00,0.00,0.00,0.00,0.00,0.00,0.00,0.00,0.00, 0.00,0.00,0.00,0.00,0.00,0.00,0.00,0.00,0.00,0.00,0.00,0.00,0.00,0.00,0.00, 0.00,0.00,0.00,0.00,0.00,0.00,0.00,0.00,0.00,0.00,0.00,0.00,0.00,0.00,0.00, 0.00,0.00,0.00,0.00,0.00,0.00,0.00,0.00,0.00,0.00,0.00,0.00,0.00,0.00,0.00, 0.00,0.00,0.00,0.00,0.00,0.00,0.00,0.00,0.00,0.00,0.00,0.00,0.00,0.00,0.58, 0.59,0.00,0.00,0.00,0.00,0.00,0.00,0.00,0.00,0.00,0.00,0.00,0.00,0.00,0.00, 0.00,0.01,0.00,0.03,0.04,0.03,0.00,0.02,0.01,0.00,0.11,0.56,0.69,0.35,0.00, 0.00,0.00,0.00,0.00,0.00,0.00,0.00,0.00,0.00,0.00,0.00,0.00,0.00,0.01,0.00, 0.01,0.01,0.04,0.02,0.01,0.05,0.02,0.00,0.62,0.83,0.74,0.26,0.00,0.00,0.00, 0.00,0.00,0.00,0.00,0.00,0.00,0.00,0.00,0.00,0.00,0.00,0.00,0.02,0.05,0.06, 0.06,0.12,0.12,0.09,0.07,0.00,0.77,0.86,0.67,0.00,0.00,0.00,0.00,0.00,0.00, 0.00,0.00,0.00,0.01,0.00,0.00,0.00,0.00,0.01,0.05,0.10,0.29,0.53,0.11,0.09, 0.02,0.00,0.04,0.53,0.95,0.76,0.08,0.00,0.00,0.00,0.00,0.00,0.00,0.00,0.00, 0.00,0.01,0.00,0.00,0.00,0.00,0.03,0.09,0.16,0.74,0.70,0.05,0.01,0.00,0.01, 0.11,0.97,0.96,0.31,0.00,0.00,0.00,0.00,0.00,0.00,0.00,0.00,0.00,0.00,0.01, 0.01,0.00,0.00,0.00,0.05,0.05,0.13,0.67,0.53,0.02,0.00,0.01,0.03,0.17,1.00, 0.97,0.27,0.00,0.00,0.00,0.00,0.00,0.00,0.00,0.00,0.00,0.00,0.03,0.00,0.00, 0.00,0.01,0.02,0.05,0.53,0.69,0.34,0.00,0.00,0.01,0.04,0.83,0.99,0.73,0.02, 0.00,0.00,0.00,0.00,0.00,0.00,0.00,0.00,0.00,0.00,0.02,0.01,0.00,0.01,0.03, 0.01,0.04,0.70,0.63,0.05,0.01,0.03,0.03,0.58,0.99,0.96,0.10,0.01,0.00,0.00, 0.00,0.00,0.00,0.00,0.00,0.00,0.00,0.00,0.02,0.00,0.00,0.01,0.03,0.16,0.67, 0.70,0.47,0.02,0.04,0.04,0.59,0.98,0.99,0.51,0.05,0.00,0.00,0.00,0.00,0.00, 0.00,0.00,0.00,0.00,0.00,0.01,0.01,0.00,0.01,0.03,0.32,0.73,0.86,0.90,0.89, 0.59,0.39,0.41,0.97,1.00,0.67,0.10,0.01,0.00,0.00,0.00,0.00,0.00,0.00,0.00, 0.00,0.00,0.00,0.01,0.00,0.00,0.05,0.40,0.87,0.98,1.00,0.99,1.00,0.95,0.71, 0.80,0.97,0.84,0.21,0.17,0.00,0.01,0.00,0.00,0.00,0.00,0.00,0.00,0.00,0.00, 0.00,0.00,0.00,0.00,0.30,0.79,0.88,0.96,0.61,0.42,0.65,0.58,0.74,0.81,0.89, 0.95,0.94,0.18,0.00,0.00,0.00,0.00,0.00,0.00,0.00,0.00,0.00,0.00,0.00,0.00, 0.00,0.00,0.59,0.63,0.31,0.01,0.02,0.00,0.03,0.41,0.83,0.68,0.70,0.86,0.65, 0.12,0.02,0.00,0.00,0.00,0.00,0.00,0.00,0.00,0.00,0.00,0.00,0.00,0.00,0.00, 0.36,0.01,0.01,0.01,0.00,0.00,0.14,0.67,0.76,0.29,0.06,0.12,0.11,0.04,0.00, 0.01,0.01,0.02,0.01,0.00,0.00,0.00,0.00,0.00,0.00,0.00,0.00,0.00,0.03,0.01, 0.00,0.00,0.00,0.02,0.55,0.63,0.78,0.05,0.00,0.01,0.08,0.00,0.00,0.00,0.00, 0.01,0.01,0.00,0.00,0.00,0.00,0.00,0.00,0.00,0.00,0.02,0.03,0.01,0.01,0.00, 0.01,0.41,0.80,0.76,0.12,0.05,0.00,0.03,0.15,0.04,0.00,0.00,0.00,0.00,0.00, 0.00,0.00,0.00,0.00,0.00,0.00,0.00,0.00,0.02,0.05,0.01,0.02,0.01,0.04,0.62, 0.77,0.50,0.05,0.05,0.01,0.09,0.12,0.00,0.00,0.00,0.00,0.00,0.00,0.00,0.00, 0.00,0.00,0.00,0.00,0.00,0.00,0.00,0.02,0.01,0.00,0.02,0.72,0.72,0.50,0.01, 0.05,0.08,0.01,0.01,0.02,0.00,0.00,0.00,0.00,0.00,0.00,0.00,0.00,0.00,0.00, 0.00,0.00,0.00,0.00,0.00,0.01,0.01,0.00,0.01,0.41,0.77,0.21,0.00,0.09,0.06, 0.00,0.00,0.02,0.00,0.00,0.00,0.00,0.00,0.00,0.00,0.00,0.00,0.00,0.00,0.00, 0.00,0.00,0.00,0.00,0.00,0.02,0.01,0.00,0.00,0.00,0.00,0.02,0.03,0.01,0.08, 0.01,0.00,0.00,0.00,0.00,0.00,0.00,0.00,0.00,0.00,0.00,0.00,0.00,0.00,0.00, 0.00,0.00,0.00,0.00,0.00,0.00,0.00,0.00,0.00,0.00,0.01,0.03,0.01,0.00,0.00, 0.00,0.00,0.00,0.00,0.00,0.00,0.00,0.00,0.00,0.00,0.00,0.00,0.00,0.00,0.00, 0.00,0.00,0.00,0.00,0.00,0.00,0.00,0.00,0.00,0.01,0.01,0.01,0.00,0.00,0.00, 0.00,0.00,0.00,0.00,0.00,0.00,0.00,0.00,0.00,0.00,0.00,0.00,0.00,0.00,0.00, 0.00,0.00,0.00,0.00,0.00,0.00,0.00,0.00,0.00,0.00,0.00,0.00,0.00,0.00,0.00, 0.00,0.00,0.00,0.00] | correct\n",
      "Total count: 7840\n",
      "Total percentage correct: 0.9283163265306122\n"
     ]
    }
   ],
   "source": [
    "net.test()"
   ]
  },
  {
   "cell_type": "code",
   "execution_count": null,
   "metadata": {},
   "outputs": [],
   "source": []
  }
 ],
 "metadata": {
  "kernelspec": {
   "display_name": "Python 3",
   "language": "python",
   "name": "python3"
  },
  "language_info": {
   "codemirror_mode": {
    "name": "ipython",
    "version": 3
   },
   "file_extension": ".py",
   "mimetype": "text/x-python",
   "name": "python",
   "nbconvert_exporter": "python",
   "pygments_lexer": "ipython3",
   "version": "3.5.3"
  },
  "widgets": {
   "application/vnd.jupyter.widget-state+json": {
    "state": {
     "0033461cecb7413eaaeac8827320e103": {
      "model_module": "@jupyter-widgets/base",
      "model_module_version": "1.0.0",
      "model_name": "LayoutModel",
      "state": {}
     },
     "00be8386c1b84d93969d290bf93de1a5": {
      "model_module": "@jupyter-widgets/base",
      "model_module_version": "1.0.0",
      "model_name": "LayoutModel",
      "state": {
       "width": "100%"
      }
     },
     "010fab61e23a4eb2a8cda16dca6b04d9": {
      "model_module": "@jupyter-widgets/controls",
      "model_module_version": "1.0.0",
      "model_name": "HTMLModel",
      "state": {
       "layout": "IPY_MODEL_d37f07f295f64fa2996ff8b7e7ba3465",
       "style": "IPY_MODEL_11d7c54a6cb2468cbd45ceeb28944e09",
       "value": "<iframe src=\"https://conx.readthedocs.io\" width=\"100%\" height=\"550px\"></frame>"
      }
     },
     "014d9d03d71a41a2bd0d6e31fc15e84e": {
      "model_module": "@jupyter-widgets/controls",
      "model_module_version": "1.0.0",
      "model_name": "ButtonStyleModel",
      "state": {}
     },
     "015b466cd8b54511afac1448e8a7df2f": {
      "model_module": "@jupyter-widgets/controls",
      "model_module_version": "1.0.0",
      "model_name": "HTMLModel",
      "state": {
       "layout": "IPY_MODEL_43d63cd508364c3eb81ca7716f54bfd3",
       "style": "IPY_MODEL_f710706f1fc049b5b9656997df2fab12",
       "value": "<iframe src=\"https://conx.readthedocs.io\" width=\"100%\" height=\"550px\"></frame>"
      }
     },
     "01ca6e646aa8461cbc40fd910b1124ab": {
      "model_module": "@jupyter-widgets/base",
      "model_module_version": "1.0.0",
      "model_name": "LayoutModel",
      "state": {
       "width": "100%"
      }
     },
     "01d4144db9ea457aa25318f9bcb0a6d2": {
      "model_module": "@jupyter-widgets/controls",
      "model_module_version": "1.0.0",
      "model_name": "ButtonStyleModel",
      "state": {}
     },
     "0238ba437dc5418aa09686b079a6b85f": {
      "model_module": "@jupyter-widgets/base",
      "model_module_version": "1.0.0",
      "model_name": "LayoutModel",
      "state": {
       "width": "95%"
      }
     },
     "0239b5efc761414cb3cf470cbe02b622": {
      "model_module": "@jupyter-widgets/base",
      "model_module_version": "1.0.0",
      "model_name": "LayoutModel",
      "state": {
       "width": "100%"
      }
     },
     "0275732be13646c1922b63138da43763": {
      "model_module": "@jupyter-widgets/controls",
      "model_module_version": "1.0.0",
      "model_name": "VBoxModel",
      "state": {
       "children": [
        "IPY_MODEL_ba967a525e84453f990a53b0561aa607",
        "IPY_MODEL_7fa5257ce434422ca9ee0e09c8029d87"
       ],
       "layout": "IPY_MODEL_11225481cb554f2388fd6d0ba61d0b99"
      }
     },
     "027894057dcd4d40a0b6533c898e1c98": {
      "model_module": "@jupyter-widgets/controls",
      "model_module_version": "1.0.0",
      "model_name": "DescriptionStyleModel",
      "state": {
       "description_width": ""
      }
     },
     "031caa7e9f2346ae836b6ce717148a83": {
      "model_module": "@jupyter-widgets/base",
      "model_module_version": "1.0.0",
      "model_name": "LayoutModel",
      "state": {
       "width": "95%"
      }
     },
     "034b49a6d0984e12893f24ab077fc1e5": {
      "model_module": "@jupyter-widgets/base",
      "model_module_version": "1.0.0",
      "model_name": "LayoutModel",
      "state": {
       "width": "95%"
      }
     },
     "03a94032ae784ae9aa7f2ec58078a4d5": {
      "model_module": "@jupyter-widgets/base",
      "model_module_version": "1.0.0",
      "model_name": "LayoutModel",
      "state": {
       "width": "100%"
      }
     },
     "03b75b4ba0f8498e82b1ea2f55454e96": {
      "model_module": "@jupyter-widgets/controls",
      "model_module_version": "1.0.0",
      "model_name": "ButtonModel",
      "state": {
       "icon": "forward",
       "layout": "IPY_MODEL_164f79242f5c49bdab0fb84317778a10",
       "style": "IPY_MODEL_7c08f521db8747c786cb0cb0373c72db"
      }
     },
     "04356e711a284875aa0f34eaf6538345": {
      "model_module": "@jupyter-widgets/base",
      "model_module_version": "1.0.0",
      "model_name": "LayoutModel",
      "state": {
       "width": "95%"
      }
     },
     "04f3153e1fbf47f186a3f6dac4653826": {
      "model_module": "@jupyter-widgets/controls",
      "model_module_version": "1.0.0",
      "model_name": "ButtonStyleModel",
      "state": {}
     },
     "04fe15215e884e8eb1988e15785eccd1": {
      "model_module": "@jupyter-widgets/controls",
      "model_module_version": "1.0.0",
      "model_name": "SliderStyleModel",
      "state": {
       "description_width": ""
      }
     },
     "05538dba16b4439ca41f7888b7af158e": {
      "model_module": "@jupyter-widgets/base",
      "model_module_version": "1.0.0",
      "model_name": "LayoutModel",
      "state": {
       "width": "95%"
      }
     },
     "05873433c6b24837aa85426811527d5b": {
      "model_module": "@jupyter-widgets/controls",
      "model_module_version": "1.0.0",
      "model_name": "ButtonModel",
      "state": {
       "icon": "backward",
       "layout": "IPY_MODEL_dd4606284d2a4b6e8573b0fe1a3afe73",
       "style": "IPY_MODEL_01d4144db9ea457aa25318f9bcb0a6d2"
      }
     },
     "065b9813a6074a45b4bdd80e2f3ed00c": {
      "model_module": "@jupyter-widgets/base",
      "model_module_version": "1.0.0",
      "model_name": "LayoutModel",
      "state": {
       "width": "100%"
      }
     },
     "06709219d44c482eae0347c62855dbe8": {
      "model_module": "@jupyter-widgets/controls",
      "model_module_version": "1.0.0",
      "model_name": "VBoxModel",
      "state": {
       "children": [
        "IPY_MODEL_22bb6a1324594fff8df4d52ee47a45c3",
        "IPY_MODEL_fda4b70ca9fd4e818703f408326615ff",
        "IPY_MODEL_b03418fb437c43ec8ef8ab2986c1c3df"
       ],
       "layout": "IPY_MODEL_04356e711a284875aa0f34eaf6538345"
      }
     },
     "06aca067f09a4025b376017484a1eb80": {
      "model_module": "@jupyter-widgets/controls",
      "model_module_version": "1.0.0",
      "model_name": "ButtonModel",
      "state": {
       "description": "Train",
       "layout": "IPY_MODEL_659d0777f9104016a80d8be12bd053f1",
       "style": "IPY_MODEL_53cf5249a96443988216ca1fa3554978"
      }
     },
     "070d2fcfde6d476eb6770893da004019": {
      "model_module": "@jupyter-widgets/base",
      "model_module_version": "1.0.0",
      "model_name": "LayoutModel",
      "state": {
       "height": "550px",
       "justify_content": "center",
       "overflow_x": "auto",
       "width": "100%"
      }
     },
     "0719ff72f2f34d168639deaa4829bbbb": {
      "model_module": "@jupyter-widgets/controls",
      "model_module_version": "1.0.0",
      "model_name": "DescriptionStyleModel",
      "state": {
       "description_width": ""
      }
     },
     "07a52d47093641e19b9ac5ea5d7e2358": {
      "model_module": "@jupyter-widgets/controls",
      "model_module_version": "1.0.0",
      "model_name": "ButtonModel",
      "state": {
       "description": "Train",
       "layout": "IPY_MODEL_1366c21a94b142d498b8937277861630",
       "style": "IPY_MODEL_5fc4f78782bc47ab9b971ec61f30fe70"
      }
     },
     "07c8e3f0bd9d411ea41d436f8f6019bf": {
      "model_module": "@jupyter-widgets/base",
      "model_module_version": "1.0.0",
      "model_name": "LayoutModel",
      "state": {
       "width": "95%"
      }
     },
     "088b706a07ef417d80ceaf3530304939": {
      "model_module": "@jupyter-widgets/controls",
      "model_module_version": "1.0.0",
      "model_name": "DescriptionStyleModel",
      "state": {
       "description_width": ""
      }
     },
     "090747def03a4c54a885e156353c7042": {
      "model_module": "@jupyter-widgets/controls",
      "model_module_version": "1.0.0",
      "model_name": "DescriptionStyleModel",
      "state": {
       "description_width": ""
      }
     },
     "092aa9f304c34db89f2f959f9544f658": {
      "model_module": "@jupyter-widgets/controls",
      "model_module_version": "1.0.0",
      "model_name": "SelectModel",
      "state": {
       "_options_labels": [
        "Test",
        "Train"
       ],
       "description": "Dataset:",
       "index": 1,
       "layout": "IPY_MODEL_0033461cecb7413eaaeac8827320e103",
       "rows": 1,
       "style": "IPY_MODEL_52071c823b844e4c8a53ea64d34aa1e7"
      }
     },
     "0975162eedee4785bf5a31de303edee6": {
      "model_module": "@jupyter-widgets/controls",
      "model_module_version": "1.0.0",
      "model_name": "DescriptionStyleModel",
      "state": {
       "description_width": ""
      }
     },
     "09ae020e19b645609dcd09d8e7949e39": {
      "model_module": "@jupyter-widgets/controls",
      "model_module_version": "1.0.0",
      "model_name": "DescriptionStyleModel",
      "state": {
       "description_width": ""
      }
     },
     "0a12a781b241472c9d4345da26ac778a": {
      "model_module": "@jupyter-widgets/controls",
      "model_module_version": "1.0.0",
      "model_name": "DescriptionStyleModel",
      "state": {
       "description_width": ""
      }
     },
     "0b14a14362284bf38b55fd63243fa19a": {
      "model_module": "@jupyter-widgets/controls",
      "model_module_version": "1.0.0",
      "model_name": "ButtonModel",
      "state": {
       "icon": "forward",
       "layout": "IPY_MODEL_67841f87e4714772879de0cb943dbd17",
       "style": "IPY_MODEL_4d9ba66180c94583acafb3818e959df3"
      }
     },
     "0b8baf7066ef4af980bbb66216c23b25": {
      "model_module": "@jupyter-widgets/controls",
      "model_module_version": "1.0.0",
      "model_name": "ButtonModel",
      "state": {
       "description": "Train",
       "layout": "IPY_MODEL_8eed920729f643189e259c406437678a",
       "style": "IPY_MODEL_f250828c90ba43d1904c591b6de11217"
      }
     },
     "0bf1ee17807a48eeb638b948bd668ffe": {
      "model_module": "@jupyter-widgets/controls",
      "model_module_version": "1.0.0",
      "model_name": "DescriptionStyleModel",
      "state": {
       "description_width": ""
      }
     },
     "0c211772d1c84256a9499ed6143984d7": {
      "model_module": "@jupyter-widgets/base",
      "model_module_version": "1.0.0",
      "model_name": "LayoutModel",
      "state": {
       "width": "95%"
      }
     },
     "0c382e7934d4463ab44df0ce59123a1c": {
      "model_module": "@jupyter-widgets/controls",
      "model_module_version": "1.0.0",
      "model_name": "ButtonModel",
      "state": {
       "icon": "backward",
       "layout": "IPY_MODEL_03a94032ae784ae9aa7f2ec58078a4d5",
       "style": "IPY_MODEL_29671342a22543b5aa718b5bd10571a1"
      }
     },
     "0c5495ecbee94c099d7cd3a89a88f5f0": {
      "model_module": "@jupyter-widgets/base",
      "model_module_version": "1.0.0",
      "model_name": "LayoutModel",
      "state": {
       "height": "550px",
       "width": "95%"
      }
     },
     "0c71c8cf13364592a39c0a0a75c02c0a": {
      "model_module": "@jupyter-widgets/controls",
      "model_module_version": "1.0.0",
      "model_name": "HBoxModel",
      "state": {
       "children": [
        "IPY_MODEL_7ad32b404d9a4d4d87a9d3d664a964ca",
        "IPY_MODEL_ccbd13cc14bb4db0bcf2248104786cfe",
        "IPY_MODEL_2c9b1768ad0945d18e039e04a1ebd669",
        "IPY_MODEL_a3720946425e4bbb9249f88b4d2a3f0b",
        "IPY_MODEL_b776aa69bcf748649fbfbebcdcad276a"
       ],
       "layout": "IPY_MODEL_dd52db1b4bf14ad78d5a7b74cc18eb33"
      }
     },
     "0caa6fe2b4cc4c7c80cbb173367618e9": {
      "model_module": "@jupyter-widgets/controls",
      "model_module_version": "1.0.0",
      "model_name": "DescriptionStyleModel",
      "state": {
       "description_width": ""
      }
     },
     "0cbc4de38e1d44978299e40e5631b33e": {
      "model_module": "@jupyter-widgets/base",
      "model_module_version": "1.0.0",
      "model_name": "LayoutModel",
      "state": {
       "width": "100%"
      }
     },
     "0d132f5bda5b4560ad84478cd7cad3c2": {
      "model_module": "@jupyter-widgets/base",
      "model_module_version": "1.0.0",
      "model_name": "LayoutModel",
      "state": {
       "width": "100%"
      }
     },
     "0e09b2e0cccf4e55aaaf655b88eff0fa": {
      "model_module": "@jupyter-widgets/controls",
      "model_module_version": "1.0.0",
      "model_name": "HTMLModel",
      "state": {
       "layout": "IPY_MODEL_5a643b0a4b6b4368996b2a337ab2f6d4",
       "style": "IPY_MODEL_b12eb35cdca446d6ba519ef45b522ce1",
       "value": "<iframe src=\"https://conx.readthedocs.io\" width=\"100%\" height=\"550px\"></frame>"
      }
     },
     "0e889d6517984840bfc8c3b94872b193": {
      "model_module": "@jupyter-widgets/controls",
      "model_module_version": "1.0.0",
      "model_name": "ButtonStyleModel",
      "state": {}
     },
     "0f099501928c433f971719e2c85b86e2": {
      "model_module": "@jupyter-widgets/controls",
      "model_module_version": "1.0.0",
      "model_name": "ButtonModel",
      "state": {
       "icon": "fast-forward",
       "layout": "IPY_MODEL_4a2241af7bd647adafa730bf69160648",
       "style": "IPY_MODEL_72ee4a025b6d409b99decb7e14a71d81"
      }
     },
     "0fd89cbe5a7d4f42869aecc74536e50c": {
      "model_module": "@jupyter-widgets/base",
      "model_module_version": "1.0.0",
      "model_name": "LayoutModel",
      "state": {
       "height": "550px",
       "justify_content": "center",
       "overflow_x": "auto",
       "width": "100%"
      }
     },
     "1014e6e885a342d491d9a3609a773a3a": {
      "model_module": "@jupyter-widgets/controls",
      "model_module_version": "1.0.0",
      "model_name": "HTMLModel",
      "state": {
       "layout": "IPY_MODEL_7606e9df4bbd4b109f356b7a7fd06293",
       "style": "IPY_MODEL_b118c2d20fbb43bb82740107172ae1a3",
       "value": "<iframe src=\"https://conx.readthedocs.io\" width=\"100%\" height=\"550px\"></frame>"
      }
     },
     "11225481cb554f2388fd6d0ba61d0b99": {
      "model_module": "@jupyter-widgets/base",
      "model_module_version": "1.0.0",
      "model_name": "LayoutModel",
      "state": {
       "height": "550px",
       "width": "100%"
      }
     },
     "112fc5529fe14be59d49217e022e69ef": {
      "model_module": "@jupyter-widgets/controls",
      "model_module_version": "1.0.0",
      "model_name": "HTMLModel",
      "state": {
       "layout": "IPY_MODEL_fedfbe8889ad44e78603bfbf27d95d4e",
       "style": "IPY_MODEL_933e3fac5f024f50bb8f341c0fd3cb68",
       "value": "<iframe src=\"https://conx.readthedocs.io\" width=\"100%\" height=\"550px\"></frame>"
      }
     },
     "1148f6e57bcd4c40ac1f0935d69e580b": {
      "model_module": "@jupyter-widgets/base",
      "model_module_version": "1.0.0",
      "model_name": "LayoutModel",
      "state": {
       "width": "100%"
      }
     },
     "119b17b2796a4622829690805d0b655e": {
      "model_module": "@jupyter-widgets/controls",
      "model_module_version": "1.0.0",
      "model_name": "ButtonModel",
      "state": {
       "disabled": true,
       "icon": "forward",
       "layout": "IPY_MODEL_065b9813a6074a45b4bdd80e2f3ed00c",
       "style": "IPY_MODEL_d528c75ecbb84fa3a66b034fbad534c3"
      }
     },
     "11d7c54a6cb2468cbd45ceeb28944e09": {
      "model_module": "@jupyter-widgets/controls",
      "model_module_version": "1.0.0",
      "model_name": "DescriptionStyleModel",
      "state": {
       "description_width": ""
      }
     },
     "1211a74028034bf0ae0572ab77931e7e": {
      "model_module": "@jupyter-widgets/controls",
      "model_module_version": "1.0.0",
      "model_name": "VBoxModel",
      "state": {
       "children": [
        "IPY_MODEL_d48a3eca372f4eee9f8c17d8d2893ff6",
        "IPY_MODEL_4d22f4ccde374a6b8b5eb9d93873a99e"
       ],
       "layout": "IPY_MODEL_77d85df9d5be4067864982a6a30a7eab"
      }
     },
     "1237c0cd61ab4ab3a4c913385da75f18": {
      "model_module": "@jupyter-widgets/base",
      "model_module_version": "1.0.0",
      "model_name": "LayoutModel",
      "state": {
       "width": "100%"
      }
     },
     "127f2b95a5af4f5f95943440140fe80f": {
      "model_module": "@jupyter-widgets/base",
      "model_module_version": "1.0.0",
      "model_name": "LayoutModel",
      "state": {
       "height": "550px",
       "width": "100%"
      }
     },
     "128df837dc3c49d18a0553e8e238ec29": {
      "model_module": "@jupyter-widgets/controls",
      "model_module_version": "1.0.0",
      "model_name": "ButtonStyleModel",
      "state": {}
     },
     "1321e55327914b8cb10871cf045b8842": {
      "model_module": "@jupyter-widgets/base",
      "model_module_version": "1.0.0",
      "model_name": "LayoutModel",
      "state": {}
     },
     "1366c21a94b142d498b8937277861630": {
      "model_module": "@jupyter-widgets/base",
      "model_module_version": "1.0.0",
      "model_name": "LayoutModel",
      "state": {
       "width": "100%"
      }
     },
     "1386251c384849e79f6a646b506cdcfa": {
      "model_module": "@jupyter-widgets/base",
      "model_module_version": "1.0.0",
      "model_name": "LayoutModel",
      "state": {
       "width": "100%"
      }
     },
     "13dfb3942d614a7db03bdc1d40df03fc": {
      "model_module": "@jupyter-widgets/controls",
      "model_module_version": "1.0.0",
      "model_name": "ButtonStyleModel",
      "state": {}
     },
     "14e16e3579b94d989ee29b57f7c38320": {
      "model_module": "@jupyter-widgets/controls",
      "model_module_version": "1.0.0",
      "model_name": "ButtonStyleModel",
      "state": {}
     },
     "14ec05b94c6b4bc193a618a1202e7fe4": {
      "model_module": "@jupyter-widgets/controls",
      "model_module_version": "1.0.0",
      "model_name": "ButtonStyleModel",
      "state": {}
     },
     "164f79242f5c49bdab0fb84317778a10": {
      "model_module": "@jupyter-widgets/base",
      "model_module_version": "1.0.0",
      "model_name": "LayoutModel",
      "state": {
       "width": "100%"
      }
     },
     "173cae6b79254c46bac184b3cbd6ebb3": {
      "model_module": "@jupyter-widgets/base",
      "model_module_version": "1.0.0",
      "model_name": "LayoutModel",
      "state": {
       "height": "550px",
       "width": "95%"
      }
     },
     "1755ac5d31a04060b42d36bf58b3d880": {
      "model_module": "@jupyter-widgets/controls",
      "model_module_version": "1.0.0",
      "model_name": "ButtonModel",
      "state": {
       "disabled": true,
       "icon": "forward",
       "layout": "IPY_MODEL_373b539f51644bd1bf8f1fc61346b75b",
       "style": "IPY_MODEL_9e24d6519e0245f9a37f1f0ac10585f7"
      }
     },
     "185f41886d87454c9a1da8724da652fd": {
      "model_module": "@jupyter-widgets/controls",
      "model_module_version": "1.0.0",
      "model_name": "ButtonStyleModel",
      "state": {}
     },
     "188be146c7914941a0f87ac0b517849b": {
      "model_module": "@jupyter-widgets/controls",
      "model_module_version": "1.0.0",
      "model_name": "ButtonModel",
      "state": {
       "icon": "backward",
       "layout": "IPY_MODEL_c2dab89f55844bb8b46771b81e3b8311",
       "style": "IPY_MODEL_190c3e9da3794848bf3ac1de18a99a4c"
      }
     },
     "190c3e9da3794848bf3ac1de18a99a4c": {
      "model_module": "@jupyter-widgets/controls",
      "model_module_version": "1.0.0",
      "model_name": "ButtonStyleModel",
      "state": {}
     },
     "19c550ec982b4679895d2a23211f5a62": {
      "model_module": "@jupyter-widgets/controls",
      "model_module_version": "1.0.0",
      "model_name": "ButtonStyleModel",
      "state": {}
     },
     "1b85f73a01a74cba9630f9379341d07b": {
      "model_module": "@jupyter-widgets/controls",
      "model_module_version": "1.0.0",
      "model_name": "SliderStyleModel",
      "state": {
       "description_width": ""
      }
     },
     "1ba71fc2847f4e448e4bea94d4bf3515": {
      "model_module": "@jupyter-widgets/controls",
      "model_module_version": "1.0.0",
      "model_name": "DescriptionStyleModel",
      "state": {
       "description_width": ""
      }
     },
     "1cd8836073534afabe6cc020ebe1834d": {
      "model_module": "@jupyter-widgets/controls",
      "model_module_version": "1.0.0",
      "model_name": "IntSliderModel",
      "state": {
       "continuous_update": false,
       "description": "Dataset index",
       "layout": "IPY_MODEL_034b49a6d0984e12893f24ab077fc1e5",
       "max": 4,
       "style": "IPY_MODEL_bb3422c67441485b957950fd5471ef6b"
      }
     },
     "1ec69ddabdca4a638fabf305ff453ae9": {
      "model_module": "@jupyter-widgets/controls",
      "model_module_version": "1.0.0",
      "model_name": "VBoxModel",
      "state": {
       "children": [
        "IPY_MODEL_95d28a206efb46bc9f3566a04d2310e3",
        "IPY_MODEL_3d95f349fb914223b903cd37fba4a32c",
        "IPY_MODEL_d76c639f01b64e1886d1e44152f68fe7"
       ],
       "layout": "IPY_MODEL_a1139044da9b4d828bd2296aeb596ed9"
      }
     },
     "1f0f78ef98c84b22bd1cc36108c4fac5": {
      "model_module": "@jupyter-widgets/base",
      "model_module_version": "1.0.0",
      "model_name": "LayoutModel",
      "state": {
       "height": "550px",
       "justify_content": "center",
       "overflow_x": "auto",
       "width": "100%"
      }
     },
     "1f2c4fd2fbbd4513b0331da44883d29e": {
      "model_module": "@jupyter-widgets/controls",
      "model_module_version": "1.0.0",
      "model_name": "DescriptionStyleModel",
      "state": {
       "description_width": ""
      }
     },
     "1fa0e29ec18c45ecb8998097c6ab9e67": {
      "model_module": "@jupyter-widgets/base",
      "model_module_version": "1.0.0",
      "model_name": "LayoutModel",
      "state": {
       "width": "95%"
      }
     },
     "20f27b04e0af475391e6f2093d5e30ba": {
      "model_module": "@jupyter-widgets/controls",
      "model_module_version": "1.0.0",
      "model_name": "ButtonStyleModel",
      "state": {}
     },
     "22bb6a1324594fff8df4d52ee47a45c3": {
      "model_module": "@jupyter-widgets/controls",
      "model_module_version": "1.0.0",
      "model_name": "SelectModel",
      "state": {
       "_options_labels": [
        "Test",
        "Train"
       ],
       "description": "Dataset:",
       "index": 1,
       "layout": "IPY_MODEL_b84cafa3a9ae4cbbaa3ef935fba25e95",
       "rows": 1,
       "style": "IPY_MODEL_0719ff72f2f34d168639deaa4829bbbb"
      }
     },
     "22d9d593f8dc42219485cc954f5f65bf": {
      "model_module": "@jupyter-widgets/controls",
      "model_module_version": "1.0.0",
      "model_name": "ButtonStyleModel",
      "state": {}
     },
     "24fdeb88820c4415a30604f9fcb2009c": {
      "model_module": "@jupyter-widgets/controls",
      "model_module_version": "1.0.0",
      "model_name": "SelectModel",
      "state": {
       "_options_labels": [
        "Test",
        "Train"
       ],
       "description": "Dataset:",
       "index": 0,
       "layout": "IPY_MODEL_4bbedcd6977549a28ca488eea6a897f1",
       "style": "IPY_MODEL_fb41b23a9aab4e8cae4eb0d0704303b9"
      }
     },
     "252455a7637a4228bdf47f199ead7a84": {
      "model_module": "@jupyter-widgets/controls",
      "model_module_version": "1.0.0",
      "model_name": "ButtonStyleModel",
      "state": {}
     },
     "256235a1600e47f883f5f3376a5edc1b": {
      "model_module": "@jupyter-widgets/base",
      "model_module_version": "1.0.0",
      "model_name": "LayoutModel",
      "state": {
       "width": "100%"
      }
     },
     "259d64ebd5bc4f94b1034ef8be78cb50": {
      "model_module": "@jupyter-widgets/controls",
      "model_module_version": "1.0.0",
      "model_name": "SliderStyleModel",
      "state": {
       "description_width": ""
      }
     },
     "277d7d71a7e747cdaf71e1387be4fef8": {
      "model_module": "@jupyter-widgets/controls",
      "model_module_version": "1.0.0",
      "model_name": "ButtonStyleModel",
      "state": {}
     },
     "27b6d83543314c15ae8bdae7078d2d08": {
      "model_module": "@jupyter-widgets/base",
      "model_module_version": "1.0.0",
      "model_name": "LayoutModel",
      "state": {}
     },
     "27d9cbf6e8664d11a3fbd424265fa736": {
      "model_module": "@jupyter-widgets/controls",
      "model_module_version": "1.0.0",
      "model_name": "ButtonStyleModel",
      "state": {}
     },
     "28593adbbc7945e6933f9898ed9faaf1": {
      "model_module": "@jupyter-widgets/controls",
      "model_module_version": "1.0.0",
      "model_name": "TabModel",
      "state": {
       "_titles": {
        "0": "Network",
        "1": "Help"
       },
       "children": [
        "IPY_MODEL_f8382ebe73a1445db942e820f862a9ea",
        "IPY_MODEL_72d71fdb62394108a10f6a3ddb56f490"
       ],
       "layout": "IPY_MODEL_3c6c77a00dcd4793af88b27fe470ab19"
      }
     },
     "29671342a22543b5aa718b5bd10571a1": {
      "model_module": "@jupyter-widgets/controls",
      "model_module_version": "1.0.0",
      "model_name": "ButtonStyleModel",
      "state": {}
     },
     "2aacd5895cdb479ebf5c8ed39f92b2de": {
      "model_module": "@jupyter-widgets/base",
      "model_module_version": "1.0.0",
      "model_name": "LayoutModel",
      "state": {
       "height": "550px",
       "justify_content": "center",
       "overflow_x": "auto",
       "width": "100%"
      }
     },
     "2ba72760464b49a386a9bbb6aecb42d8": {
      "model_module": "@jupyter-widgets/controls",
      "model_module_version": "1.0.0",
      "model_name": "SelectModel",
      "state": {
       "_options_labels": [
        "Test",
        "Train"
       ],
       "description": "Dataset:",
       "index": 1,
       "layout": "IPY_MODEL_80ef20f8ccee4ebf80ec964b5ec1bb8e",
       "rows": 1,
       "style": "IPY_MODEL_39abaac43a3e412f84d6f63d6b9f1203"
      }
     },
     "2bb29e5d0fab4f498a77909b04d5d9c5": {
      "model_module": "@jupyter-widgets/base",
      "model_module_version": "1.0.0",
      "model_name": "LayoutModel",
      "state": {
       "height": "550px",
       "justify_content": "center",
       "overflow_x": "auto",
       "width": "100%"
      }
     },
     "2bf4be58c31341829227d141cc3b1b49": {
      "model_module": "@jupyter-widgets/controls",
      "model_module_version": "1.0.0",
      "model_name": "VBoxModel",
      "state": {
       "children": [
        "IPY_MODEL_7cd144d204da4b8a8340ab7d73168e46",
        "IPY_MODEL_5b1d346bb80a47abbdc43e45b5efe745"
       ],
       "layout": "IPY_MODEL_eb634099f6ed429799ce6e22ed224210"
      }
     },
     "2c07fbf37501432393d12c8b0b43530d": {
      "model_module": "@jupyter-widgets/base",
      "model_module_version": "1.0.0",
      "model_name": "LayoutModel",
      "state": {
       "width": "100%"
      }
     },
     "2c709788340848379308b3ea3bf527ad": {
      "model_module": "@jupyter-widgets/controls",
      "model_module_version": "1.0.0",
      "model_name": "ButtonModel",
      "state": {
       "icon": "fast-backward",
       "layout": "IPY_MODEL_b6b89d6658824d8db8a192d589fbd70a",
       "style": "IPY_MODEL_36aca52885174c1bbc37119c6491e46b"
      }
     },
     "2c9b1768ad0945d18e039e04a1ebd669": {
      "model_module": "@jupyter-widgets/controls",
      "model_module_version": "1.0.0",
      "model_name": "ButtonModel",
      "state": {
       "description": "Train",
       "layout": "IPY_MODEL_e26aa2f0335447cbb69fff9fe9ea68a2",
       "style": "IPY_MODEL_20f27b04e0af475391e6f2093d5e30ba"
      }
     },
     "2d09dff0e92148fcbd844151d20e1ea2": {
      "model_module": "@jupyter-widgets/controls",
      "model_module_version": "1.0.0",
      "model_name": "HBoxModel",
      "state": {
       "children": [
        "IPY_MODEL_47bb5b47dbb84af5bf2863c310abc114",
        "IPY_MODEL_7087f493c34a4524b27c5c7ebb202490",
        "IPY_MODEL_4861d3efaaa4478fabf741027271acac",
        "IPY_MODEL_7d978d23c13147619c3f78ae142ead2c",
        "IPY_MODEL_98e06d662c1c4acb8f5f11d5a630d690"
       ],
       "layout": "IPY_MODEL_8535115cfd79408c81c03273690c1461"
      }
     },
     "2d69d6a6964d452c86af7a9b5dcbb098": {
      "model_module": "@jupyter-widgets/controls",
      "model_module_version": "1.0.0",
      "model_name": "DescriptionStyleModel",
      "state": {
       "description_width": ""
      }
     },
     "2e1639dc4c614122923034b6db037057": {
      "model_module": "@jupyter-widgets/controls",
      "model_module_version": "1.0.0",
      "model_name": "ButtonStyleModel",
      "state": {}
     },
     "2e1aa150544f4896ad8ab9df0db56634": {
      "model_module": "@jupyter-widgets/controls",
      "model_module_version": "1.0.0",
      "model_name": "VBoxModel",
      "state": {
       "children": [
        "IPY_MODEL_4f2024e496e2434c81cd13b60c6c9f14",
        "IPY_MODEL_7cfe72f95a4243cfac75705a6ecfa06f"
       ],
       "layout": "IPY_MODEL_173cae6b79254c46bac184b3cbd6ebb3"
      }
     },
     "2e5c7f2905b04a18abb22b211c09da18": {
      "model_module": "@jupyter-widgets/base",
      "model_module_version": "1.0.0",
      "model_name": "LayoutModel",
      "state": {
       "height": "550px",
       "justify_content": "center",
       "overflow_x": "auto",
       "width": "95%"
      }
     },
     "2e6e160ab2374bd1af2ca6c2023129ed": {
      "model_module": "@jupyter-widgets/base",
      "model_module_version": "1.0.0",
      "model_name": "LayoutModel",
      "state": {
       "width": "100%"
      }
     },
     "2eeacc467f1745d4b2746203d6729d48": {
      "model_module": "@jupyter-widgets/base",
      "model_module_version": "1.0.0",
      "model_name": "LayoutModel",
      "state": {
       "width": "95%"
      }
     },
     "2f9ed4ba7bcc46f089406a11d79a7288": {
      "model_module": "@jupyter-widgets/base",
      "model_module_version": "1.0.0",
      "model_name": "LayoutModel",
      "state": {
       "width": "100%"
      }
     },
     "303fe5af8dbe4097b11467360d18e8cd": {
      "model_module": "@jupyter-widgets/base",
      "model_module_version": "1.0.0",
      "model_name": "LayoutModel",
      "state": {
       "width": "100%"
      }
     },
     "31bbb72d492945778d1e108756e81763": {
      "model_module": "@jupyter-widgets/controls",
      "model_module_version": "1.0.0",
      "model_name": "ButtonStyleModel",
      "state": {}
     },
     "31bcdfc28ec94965bc8e52b187070f20": {
      "model_module": "@jupyter-widgets/base",
      "model_module_version": "1.0.0",
      "model_name": "LayoutModel",
      "state": {
       "width": "100%"
      }
     },
     "327846716a5b424990222db45b278570": {
      "model_module": "@jupyter-widgets/base",
      "model_module_version": "1.0.0",
      "model_name": "LayoutModel",
      "state": {
       "width": "100%"
      }
     },
     "3312ca852ee2456a95aa4398c08e8795": {
      "model_module": "@jupyter-widgets/controls",
      "model_module_version": "1.0.0",
      "model_name": "ButtonStyleModel",
      "state": {}
     },
     "3318ac5cdba443008d5ab20123d730dd": {
      "model_module": "@jupyter-widgets/controls",
      "model_module_version": "1.0.0",
      "model_name": "HTMLModel",
      "state": {
       "layout": "IPY_MODEL_7aa2acae67414eae9490cd126a39bf13",
       "style": "IPY_MODEL_0975162eedee4785bf5a31de303edee6",
       "value": "<iframe src=\"https://conx.readthedocs.io\" width=\"100%\" height=\"550px\"></frame>"
      }
     },
     "33b8654dd9ce435b9288598024a99c88": {
      "model_module": "@jupyter-widgets/controls",
      "model_module_version": "1.0.0",
      "model_name": "VBoxModel",
      "state": {
       "children": [
        "IPY_MODEL_24fdeb88820c4415a30604f9fcb2009c",
        "IPY_MODEL_9cfec0179c674cd29c92e715709b486b",
        "IPY_MODEL_959cee17369149bba3fa675fda0db9d3"
       ],
       "layout": "IPY_MODEL_1386251c384849e79f6a646b506cdcfa"
      }
     },
     "33f3be0dceef40e5bd0510bf2122f7ef": {
      "model_module": "@jupyter-widgets/controls",
      "model_module_version": "1.0.0",
      "model_name": "ButtonModel",
      "state": {
       "icon": "fast-backward",
       "layout": "IPY_MODEL_5d3a4e79aa5d4b2ba1498fc4070a1773",
       "style": "IPY_MODEL_819193fd4c774f79a37a4d0ad4ca808d"
      }
     },
     "3469c6397333484bb8726577a8aeedb9": {
      "model_module": "@jupyter-widgets/base",
      "model_module_version": "1.0.0",
      "model_name": "LayoutModel",
      "state": {
       "height": "550px",
       "justify_content": "center",
       "overflow_x": "auto",
       "width": "95%"
      }
     },
     "346dd63d6dd44f87beb13bd550ad51ee": {
      "model_module": "@jupyter-widgets/base",
      "model_module_version": "1.0.0",
      "model_name": "LayoutModel",
      "state": {
       "width": "100%"
      }
     },
     "3499f7ea507542e88c285c90aa393659": {
      "model_module": "@jupyter-widgets/base",
      "model_module_version": "1.0.0",
      "model_name": "LayoutModel",
      "state": {
       "width": "100%"
      }
     },
     "34a2657a54de464fb5209e3f4d7db530": {
      "model_module": "@jupyter-widgets/controls",
      "model_module_version": "1.0.0",
      "model_name": "HTMLModel",
      "state": {
       "layout": "IPY_MODEL_68535d62993747eca2d47071f656d855",
       "style": "IPY_MODEL_455503e8c60d4baabc595c28844dd001",
       "value": "<iframe src=\"https://conx.readthedocs.io\" width=\"100%\" height=\"550px\"></frame>"
      }
     },
     "365ceb786c514680bd87e05c4a55ff27": {
      "model_module": "@jupyter-widgets/controls",
      "model_module_version": "1.0.0",
      "model_name": "HBoxModel",
      "state": {
       "children": [
        "IPY_MODEL_e09e3766ee1b492388a7d882de50f156",
        "IPY_MODEL_a5586b2f489c4ab68c215f37c51a2596",
        "IPY_MODEL_a6b4abf651ec47819f37aa7ad8fbc816",
        "IPY_MODEL_6135bf2397cd471ca439a9aaf874b8a7",
        "IPY_MODEL_762545631c534ad6b714041a082ddaa6"
       ],
       "layout": "IPY_MODEL_cf31584598dd4f2f86664456dce0b4b4"
      }
     },
     "36aca52885174c1bbc37119c6491e46b": {
      "model_module": "@jupyter-widgets/controls",
      "model_module_version": "1.0.0",
      "model_name": "ButtonStyleModel",
      "state": {}
     },
     "37386bfdec024b7c9af74fcac8d024bb": {
      "model_module": "@jupyter-widgets/controls",
      "model_module_version": "1.0.0",
      "model_name": "ButtonModel",
      "state": {
       "description": "Train",
       "layout": "IPY_MODEL_814e7a792ddf4fa8bc98e7a3028955f5",
       "style": "IPY_MODEL_4c3ad168c3bb43bda99c6d9d77a707af"
      }
     },
     "3739f81ef96649338a3bb544ee24f4ab": {
      "model_module": "@jupyter-widgets/base",
      "model_module_version": "1.0.0",
      "model_name": "LayoutModel",
      "state": {
       "width": "100%"
      }
     },
     "373b539f51644bd1bf8f1fc61346b75b": {
      "model_module": "@jupyter-widgets/base",
      "model_module_version": "1.0.0",
      "model_name": "LayoutModel",
      "state": {
       "width": "100%"
      }
     },
     "3760b4104eb04520a29a7eae7966a307": {
      "model_module": "@jupyter-widgets/controls",
      "model_module_version": "1.0.0",
      "model_name": "DescriptionStyleModel",
      "state": {
       "description_width": ""
      }
     },
     "3808ed62bcf24a319b988fe9f96080cc": {
      "model_module": "@jupyter-widgets/controls",
      "model_module_version": "1.0.0",
      "model_name": "SelectModel",
      "state": {
       "_options_labels": [
        "Test",
        "Train"
       ],
       "description": "Dataset:",
       "index": 1,
       "layout": "IPY_MODEL_692b842aab5b4fadba2b25f414d70e29",
       "rows": 1,
       "style": "IPY_MODEL_e910b4ebae6e4456b8a54e897951af27"
      }
     },
     "38a6a2ce38fb4e9b89b7b1ef7e2a796c": {
      "model_module": "@jupyter-widgets/controls",
      "model_module_version": "1.0.0",
      "model_name": "HBoxModel",
      "state": {
       "children": [
        "IPY_MODEL_33f3be0dceef40e5bd0510bf2122f7ef",
        "IPY_MODEL_aba0142303434625b9a49885fc6c2edb",
        "IPY_MODEL_0b8baf7066ef4af980bbb66216c23b25",
        "IPY_MODEL_03b75b4ba0f8498e82b1ea2f55454e96",
        "IPY_MODEL_0f099501928c433f971719e2c85b86e2"
       ],
       "layout": "IPY_MODEL_9e7d8efe8dc243f09e8457d05f099fd9"
      }
     },
     "393b3ab25d6745a79bb928e10ebdf26b": {
      "model_module": "@jupyter-widgets/controls",
      "model_module_version": "1.0.0",
      "model_name": "HTMLModel",
      "state": {
       "layout": "IPY_MODEL_c6a1f23d656042eeaf8438a724b85db3",
       "style": "IPY_MODEL_c744d78ccd8b4b049954cbadaf436ff6",
       "value": "<iframe src=\"https://conx.readthedocs.io\" width=\"100%\" height=\"550px\"></frame>"
      }
     },
     "39618a1d996e43e294b2ffef38cc0d81": {
      "model_module": "@jupyter-widgets/controls",
      "model_module_version": "1.0.0",
      "model_name": "TabModel",
      "state": {
       "_titles": {
        "0": "Network",
        "1": "Help"
       },
       "children": [
        "IPY_MODEL_88753c9cc07c472d9c9bfd34648aebb4",
        "IPY_MODEL_9ae057fa6e1544748d83a855576743ca"
       ],
       "layout": "IPY_MODEL_ae3f07d76812439589b1962eebd89820"
      }
     },
     "39abaac43a3e412f84d6f63d6b9f1203": {
      "model_module": "@jupyter-widgets/controls",
      "model_module_version": "1.0.0",
      "model_name": "DescriptionStyleModel",
      "state": {
       "description_width": ""
      }
     },
     "39f2196e397e469f978dc8aa86b8407f": {
      "model_module": "@jupyter-widgets/controls",
      "model_module_version": "1.0.0",
      "model_name": "DescriptionStyleModel",
      "state": {
       "description_width": ""
      }
     },
     "3a4bdadcf00741f1add463b1e49bffcd": {
      "model_module": "@jupyter-widgets/base",
      "model_module_version": "1.0.0",
      "model_name": "LayoutModel",
      "state": {
       "width": "100%"
      }
     },
     "3aff94d6e6c24883ab5d3511262cf042": {
      "model_module": "@jupyter-widgets/base",
      "model_module_version": "1.0.0",
      "model_name": "LayoutModel",
      "state": {
       "height": "550px",
       "width": "95%"
      }
     },
     "3c6c77a00dcd4793af88b27fe470ab19": {
      "model_module": "@jupyter-widgets/base",
      "model_module_version": "1.0.0",
      "model_name": "LayoutModel",
      "state": {}
     },
     "3ce92c7bb099465cbb6d4638afc05a57": {
      "model_module": "@jupyter-widgets/controls",
      "model_module_version": "1.0.0",
      "model_name": "TabModel",
      "state": {
       "_titles": {
        "0": "Network",
        "1": "Help"
       },
       "children": [
        "IPY_MODEL_2bf4be58c31341829227d141cc3b1b49",
        "IPY_MODEL_010fab61e23a4eb2a8cda16dca6b04d9"
       ],
       "layout": "IPY_MODEL_27b6d83543314c15ae8bdae7078d2d08"
      }
     },
     "3d95f349fb914223b903cd37fba4a32c": {
      "model_module": "@jupyter-widgets/controls",
      "model_module_version": "1.0.0",
      "model_name": "IntSliderModel",
      "state": {
       "continuous_update": false,
       "description": "Dataset index",
       "layout": "IPY_MODEL_0c211772d1c84256a9499ed6143984d7",
       "max": 69999,
       "style": "IPY_MODEL_7ea4d07cd2a840439052efa62559f451"
      }
     },
     "3ee017b483f041948d7eb8b79c68e746": {
      "model_module": "@jupyter-widgets/base",
      "model_module_version": "1.0.0",
      "model_name": "LayoutModel",
      "state": {
       "height": "550px",
       "width": "95%"
      }
     },
     "3f09ca0346c84302b994063e9631abbc": {
      "model_module": "@jupyter-widgets/controls",
      "model_module_version": "1.0.0",
      "model_name": "SliderStyleModel",
      "state": {
       "description_width": ""
      }
     },
     "3f3377d83f824f72b6603092fcf811c9": {
      "model_module": "@jupyter-widgets/controls",
      "model_module_version": "1.0.0",
      "model_name": "ButtonStyleModel",
      "state": {}
     },
     "3f9559f4462c4b2c9814677294d4ef34": {
      "model_module": "@jupyter-widgets/controls",
      "model_module_version": "1.0.0",
      "model_name": "ButtonModel",
      "state": {
       "description": "Train",
       "disabled": true,
       "layout": "IPY_MODEL_0d132f5bda5b4560ad84478cd7cad3c2",
       "style": "IPY_MODEL_27d9cbf6e8664d11a3fbd424265fa736"
      }
     },
     "407f39249be84c89aa3d8a7ffa994c9a": {
      "model_module": "@jupyter-widgets/base",
      "model_module_version": "1.0.0",
      "model_name": "LayoutModel",
      "state": {
       "width": "100%"
      }
     },
     "411120a928a84e18a3647a542aabd767": {
      "model_module": "@jupyter-widgets/controls",
      "model_module_version": "1.0.0",
      "model_name": "HTMLModel",
      "state": {
       "layout": "IPY_MODEL_57a9361dc46d4ca6bce353fd10912949",
       "style": "IPY_MODEL_2d69d6a6964d452c86af7a9b5dcbb098",
       "value": "<p style=\"text-align:center\"><svg id='MNIST-Autoencoder' xmlns='http://www.w3.org/2000/svg' width=\"350\" height=\"705\" image-rendering=\"pixelated\">\n    <defs>\n        <marker id=\"arrow\" markerWidth=\"10\" markerHeight=\"10\" refX=\"9\" refY=\"3\" orient=\"auto\" markerUnits=\"strokeWidth\">\n          <path d=\"M0,0 L0,6 L9,3 z\" fill=\"black\" />\n        </marker>\n    </defs><text x=\"175.0\" y=\"12.5\" font-family=\"monospace\" font-size=\"15\" text-anchor=\"middle\" alignment-baseline=\"central\">MNIST-Autoencoder</text><rect x=\"74.0\" y=\"29\" width=\"202\" height=\"202\" style=\"fill:none;stroke:black;stroke-width:2\"/><image id=\"MNIST-Autoencoder_output_19\" class=\"MNIST-Autoencoder_output\" x=\"75.0\" y=\"30\" height=\"200\" width=\"200\" preserveAspectRatio=\"none\" href=\"data:image/gif;base64,R0lGODdhHAAcAIcAAGcAH3MDIBwcHCUlJYkKJDU1NagUKfr29EVFRfHq5VRUVJWVlaamptbW1mRkZHZ2dsrKyuyTdPzZxp0QJ7knMbi4uPnGrf3m2b8yN8dDP/i+osU+PMlGQdRdS9pqVd91XeiLbvKgfvWsi/e2mPvSvAAAAAAAAAAAAAAAAAAAAAAAAAAAAAAAAAAAAAAAAAAAAAAAAAAAAAAAAAAAAAAAAAAAAAAAAAAAAAAAAAAAAAAAAAAAAAAAAAAAAAAAAAAAAAAAAAAAAAAAAAAAAAAAAAAAAAAAAAAAAAAAAAAAAAAAAAAAAAAAAAAAAAAAAAAAAAAAAAAAAAAAAAAAAAAAAAAAAAAAAAAAAAAAAAAAAAAAAAAAAAAAAAAAAAAAAAAAAAAAAAAAAAAAAAAAAAAAAAAAAAAAAAAAAAAAAAAAAAAAAAAAAAAAAAAAAAAAAAAAAAAAAAAAAAAAAAAAAAAAAAAAAAAAAAAAAAAAAAAAAAAAAAAAAAAAAAAAAAAAAAAAAAAAAAAAAAAAAAAAAAAAAAAAAAAAAAAAAAAAAAAAAAAAAAAAAAAAAAAAAAAAAAAAAAAAAAAAAAAAAAAAAAAAAAAAAAAAAAAAAAAAAAAAAAAAAAAAAAAAAAAAAAAAAAAAAAAAAAAAAAAAAAAAAAAAAAAAAAAAAAAAAAAAAAAAAAAAAAAAAAAAAAAAAAAAAAAAAAAAAAAAAAAAAAAAAAAAAAAAAAAAAAAAAAAAAAAAAAAAAAAAAAAAAAAAAAAAAAAAAAAAAAAAAAAAAAAAAAAAAAAAAAAAAAAAAAAAAAAAAAAAAAAAAAAAAAAAAAAAAAAAAAAAAAAAAAAAAAAAAAAAAAAAAAAAAAAAAAAAAAAAAAAAAAAAAAAAAAAAAAAAAAAAAAAAAAAAAAAAAAAAAAAAAAAAAAAAAAAAAAAAAAAAAAAAAAAAAAAAAAAAAAAAAAAAAAAAAAAAAAAAAAAAAAAAAAAAAAAAAAAAAAAAAAAAAAAAAAAAAAAAAAAAAAAAAAAAACwAAAAAHAAcAEAI/wABCBxIsKDBgwcJPFAwoMCAAg8YDBAQAICBAAAyatzIkWMAAhEKFCABoKTJkyUPKEBQwEGCAwYAyJxJs6bNmzMDANjJs6fPnzwTFBBhgACAowECAFjKtCnTAAEIGBhRYcEAAQIKXADAtavXr2DDih1rAIOFBhUEqB0wQEEFAQsOcABAt67duwkKSJhgwAAFAAACEABAuLBhwwQmAFisocADBwkCAJhMubLly5MxHGAgYEADAKBDiw4dYAIEBQJSD3AggUCAAABiy55Nu7bt27hz697Nu3eAAAZAJDhwYEEECAwgWADAvLlzABkcIBhAXYD1AQMsaDggIQCA7+DDg5sPcSBCAQQLMlDw0IBAgAAEAMifT7++/AsPFgAAEKA/AIAACAAgWNDgwQABABBAUKCBBAARCQCgWNHixYsEPjAoMOBCAAAhRY4kWTIAAJQDEBTYAMDlS5gwAwCgCYBAAgYDBAgY0ADAT6BBgwYgQCECggIDCgxAcMAAAQBRpU6V2gGCggECtApIQCBAAABhxY4lW9bsWbRp1YYNCAA7\"><title>Layer: output (output)\n shape = (28, 28, 1)\n Keras class = Dense\n activation = sigmoid</title></image><text x=\"280.0\" y=\"132.0\" font-family=\"monospace\" font-size=\"12\" text-anchor=\"start\" alignment-baseline=\"central\">output</text><line x1=\"175.0\" y1=\"259\" x2=\"175.0\" y2=\"232\" stroke=\"black\" stroke-width=\"2\" marker-end=\"url(#arrow)\"><title>Weights from hidden3 to output\n output/kernel has shape (25, 784)\n output/bias has shape (784,)</title></line><rect x=\"74.0\" y=\"259\" width=\"202\" height=\"27\" style=\"fill:none;stroke:black;stroke-width:2\"/><image id=\"MNIST-Autoencoder_hidden3_20\" class=\"MNIST-Autoencoder_hidden3\" x=\"75.0\" y=\"260\" height=\"25\" width=\"200\" preserveAspectRatio=\"none\" href=\"data:image/gif;base64,R0lGODdhGQABAIcAAGcAH/v08fe3mf3i0vXt6RoaGlRUVMI4Ot5yW8XFxeWDaOuQcvi/o/vSvAAAAAAAAAAAAAAAAAAAAAAAAAAAAAAAAAAAAAAAAAAAAAAAAAAAAAAAAAAAAAAAAAAAAAAAAAAAAAAAAAAAAAAAAAAAAAAAAAAAAAAAAAAAAAAAAAAAAAAAAAAAAAAAAAAAAAAAAAAAAAAAAAAAAAAAAAAAAAAAAAAAAAAAAAAAAAAAAAAAAAAAAAAAAAAAAAAAAAAAAAAAAAAAAAAAAAAAAAAAAAAAAAAAAAAAAAAAAAAAAAAAAAAAAAAAAAAAAAAAAAAAAAAAAAAAAAAAAAAAAAAAAAAAAAAAAAAAAAAAAAAAAAAAAAAAAAAAAAAAAAAAAAAAAAAAAAAAAAAAAAAAAAAAAAAAAAAAAAAAAAAAAAAAAAAAAAAAAAAAAAAAAAAAAAAAAAAAAAAAAAAAAAAAAAAAAAAAAAAAAAAAAAAAAAAAAAAAAAAAAAAAAAAAAAAAAAAAAAAAAAAAAAAAAAAAAAAAAAAAAAAAAAAAAAAAAAAAAAAAAAAAAAAAAAAAAAAAAAAAAAAAAAAAAAAAAAAAAAAAAAAAAAAAAAAAAAAAAAAAAAAAAAAAAAAAAAAAAAAAAAAAAAAAAAAAAAAAAAAAAAAAAAAAAAAAAAAAAAAAAAAAAAAAAAAAAAAAAAAAAAAAAAAAAAAAAAAAAAAAAAAAAAAAAAAAAAAAAAAAAAAAAAAAAAAAAAAAAAAAAAAAAAAAAAAAAAAAAAAAAAAAAAAAAAAAAAAAAAAAAAAAAAAAAAAAAAAAAAAAAAAAAAAAAAAAAAAAAAAAAAAAAAAAAAAAAAAAAAAAAAAAAAAAAAAAAAAAAAAAAAAAAAAAAAAAAAAAAAAAAAAAAAAAAAAAAAAAAAAAAAAAAAAAAAAAAAAAAAAAAAAAAAAAAAAAAAAAAAAAAAAAAAAAAAAAAAAAAAAAAAAAAAAAAAAAAAAAAAAAAAAAAAAAAAAAAAAAAAAAAAAAAAAAACwAAAAAGQABAAAIHwABCGAAYAEAAQAGAEhAYACCAAEKAGgAQMEBAwQCBAQAOw==\"><title>Layer: hidden3 (hidden)\n shape = (25,)\n Keras class = Dense\n activation = relu</title></image><text x=\"280.0\" y=\"274.5\" font-family=\"monospace\" font-size=\"12\" text-anchor=\"start\" alignment-baseline=\"central\">hidden3</text><line x1=\"175.0\" y1=\"314\" x2=\"175.0\" y2=\"287\" stroke=\"black\" stroke-width=\"2\" marker-end=\"url(#arrow)\"><title>Weights from hidden2 to hidden3\n hidden3/kernel has shape (25, 25)\n hidden3/bias has shape (25,)</title></line><rect x=\"74.0\" y=\"314\" width=\"202\" height=\"27\" style=\"fill:none;stroke:black;stroke-width:2\"/><image id=\"MNIST-Autoencoder_hidden2_21\" class=\"MNIST-Autoencoder_hidden2\" x=\"75.0\" y=\"315\" height=\"25\" width=\"200\" preserveAspectRatio=\"none\" href=\"data:image/gif;base64,R0lGODdhGQABAIcAAGcAH9FYSfa0lvzZxv3k1BoaGiwsLEVFRXgFIZANJaOjo+iLbvjBpgAAAAAAAAAAAAAAAAAAAAAAAAAAAAAAAAAAAAAAAAAAAAAAAAAAAAAAAAAAAAAAAAAAAAAAAAAAAAAAAAAAAAAAAAAAAAAAAAAAAAAAAAAAAAAAAAAAAAAAAAAAAAAAAAAAAAAAAAAAAAAAAAAAAAAAAAAAAAAAAAAAAAAAAAAAAAAAAAAAAAAAAAAAAAAAAAAAAAAAAAAAAAAAAAAAAAAAAAAAAAAAAAAAAAAAAAAAAAAAAAAAAAAAAAAAAAAAAAAAAAAAAAAAAAAAAAAAAAAAAAAAAAAAAAAAAAAAAAAAAAAAAAAAAAAAAAAAAAAAAAAAAAAAAAAAAAAAAAAAAAAAAAAAAAAAAAAAAAAAAAAAAAAAAAAAAAAAAAAAAAAAAAAAAAAAAAAAAAAAAAAAAAAAAAAAAAAAAAAAAAAAAAAAAAAAAAAAAAAAAAAAAAAAAAAAAAAAAAAAAAAAAAAAAAAAAAAAAAAAAAAAAAAAAAAAAAAAAAAAAAAAAAAAAAAAAAAAAAAAAAAAAAAAAAAAAAAAAAAAAAAAAAAAAAAAAAAAAAAAAAAAAAAAAAAAAAAAAAAAAAAAAAAAAAAAAAAAAAAAAAAAAAAAAAAAAAAAAAAAAAAAAAAAAAAAAAAAAAAAAAAAAAAAAAAAAAAAAAAAAAAAAAAAAAAAAAAAAAAAAAAAAAAAAAAAAAAAAAAAAAAAAAAAAAAAAAAAAAAAAAAAAAAAAAAAAAAAAAAAAAAAAAAAAAAAAAAAAAAAAAAAAAAAAAAAAAAAAAAAAAAAAAAAAAAAAAAAAAAAAAAAAAAAAAAAAAAAAAAAAAAAAAAAAAAAAAAAAAAAAAAAAAAAAAAAAAAAAAAAAAAAAAAAAAAAAAAAAAAAAAAAAAAAAAAAAAAAAAAAAAAAAAAAAAAAAAAAAAAAAAAAAAAAAAAAAAAAAAAAAAAAAAAAAAAAAAAAAAAAAAAAAAAAAAAAACwAAAAAGQABAAAIHwANABgQAAEDAAAWAACQgEAAAAQAFAggAIAABQMOBAQAOw==\"><title>Layer: hidden2 (hidden)\n shape = (25,)\n Keras class = Dense\n activation = relu</title></image><text x=\"280.0\" y=\"329.5\" font-family=\"monospace\" font-size=\"12\" text-anchor=\"start\" alignment-baseline=\"central\">hidden2</text><line x1=\"175.0\" y1=\"369\" x2=\"175.0\" y2=\"342\" stroke=\"black\" stroke-width=\"2\" marker-end=\"url(#arrow)\"><title>Weights from hidden1 to hidden2\n hidden2/kernel has shape (25, 25)\n hidden2/bias has shape (25,)</title></line><rect x=\"74.0\" y=\"369\" width=\"202\" height=\"27\" style=\"fill:none;stroke:black;stroke-width:2\"/><image id=\"MNIST-Autoencoder_hidden1_22\" class=\"MNIST-Autoencoder_hidden1\" x=\"75.0\" y=\"370\" height=\"25\" width=\"200\" preserveAspectRatio=\"none\" href=\"data:image/gif;base64,R0lGODdhGQABAIcAAGcAH3Z2duLi4hoaGi4uLkBAQIoLJKOjo+yTdPWujv3cyf3q3/Pz8wAAAAAAAAAAAAAAAAAAAAAAAAAAAAAAAAAAAAAAAAAAAAAAAAAAAAAAAAAAAAAAAAAAAAAAAAAAAAAAAAAAAAAAAAAAAAAAAAAAAAAAAAAAAAAAAAAAAAAAAAAAAAAAAAAAAAAAAAAAAAAAAAAAAAAAAAAAAAAAAAAAAAAAAAAAAAAAAAAAAAAAAAAAAAAAAAAAAAAAAAAAAAAAAAAAAAAAAAAAAAAAAAAAAAAAAAAAAAAAAAAAAAAAAAAAAAAAAAAAAAAAAAAAAAAAAAAAAAAAAAAAAAAAAAAAAAAAAAAAAAAAAAAAAAAAAAAAAAAAAAAAAAAAAAAAAAAAAAAAAAAAAAAAAAAAAAAAAAAAAAAAAAAAAAAAAAAAAAAAAAAAAAAAAAAAAAAAAAAAAAAAAAAAAAAAAAAAAAAAAAAAAAAAAAAAAAAAAAAAAAAAAAAAAAAAAAAAAAAAAAAAAAAAAAAAAAAAAAAAAAAAAAAAAAAAAAAAAAAAAAAAAAAAAAAAAAAAAAAAAAAAAAAAAAAAAAAAAAAAAAAAAAAAAAAAAAAAAAAAAAAAAAAAAAAAAAAAAAAAAAAAAAAAAAAAAAAAAAAAAAAAAAAAAAAAAAAAAAAAAAAAAAAAAAAAAAAAAAAAAAAAAAAAAAAAAAAAAAAAAAAAAAAAAAAAAAAAAAAAAAAAAAAAAAAAAAAAAAAAAAAAAAAAAAAAAAAAAAAAAAAAAAAAAAAAAAAAAAAAAAAAAAAAAAAAAAAAAAAAAAAAAAAAAAAAAAAAAAAAAAAAAAAAAAAAAAAAAAAAAAAAAAAAAAAAAAAAAAAAAAAAAAAAAAAAAAAAAAAAAAAAAAAAAAAAAAAAAAAAAAAAAAAAAAAAAAAAAAAAAAAAAAAAAAAAAAAAAAAAAAAAAAAAAAAAAAAAAAAAAAAAAAAAAAAAAAAAAAAAAAAAAAAAAAAAAAAAAAAAAAAAAAAAAAAAACwAAAAAGQABAAAIGwAZBABgYAEAAQgUAFi4cECABAQOACggAIDFgAA7\"><title>Layer: hidden1 (hidden)\n shape = (25,)\n Keras class = Dense\n activation = relu</title></image><text x=\"280.0\" y=\"384.5\" font-family=\"monospace\" font-size=\"12\" text-anchor=\"start\" alignment-baseline=\"central\">hidden1</text><line x1=\"175.0\" y1=\"424\" x2=\"175.0\" y2=\"397\" stroke=\"black\" stroke-width=\"2\" marker-end=\"url(#arrow)\"><title>Weights from flatten to hidden1\n hidden1/kernel has shape (784, 25)\n hidden1/bias has shape (25,)</title></line><rect x=\"74.0\" y=\"424\" width=\"202\" height=\"27\" style=\"fill:none;stroke:black;stroke-width:2\"/><image id=\"MNIST-Autoencoder_flatten_23\" class=\"MNIST-Autoencoder_flatten\" x=\"75.0\" y=\"425\" height=\"25\" width=\"200\" preserveAspectRatio=\"none\" href=\"data:image/gif;base64,R0lGODdhEAMBAIcAAP39/BwcHOjo6CUlJcbGxjk5OVdXV4eHh5qammVlZdfX13Nzc0dHR6enp7W1tQAAAAAAAAAAAAAAAAAAAAAAAAAAAAAAAAAAAAAAAAAAAAAAAAAAAAAAAAAAAAAAAAAAAAAAAAAAAAAAAAAAAAAAAAAAAAAAAAAAAAAAAAAAAAAAAAAAAAAAAAAAAAAAAAAAAAAAAAAAAAAAAAAAAAAAAAAAAAAAAAAAAAAAAAAAAAAAAAAAAAAAAAAAAAAAAAAAAAAAAAAAAAAAAAAAAAAAAAAAAAAAAAAAAAAAAAAAAAAAAAAAAAAAAAAAAAAAAAAAAAAAAAAAAAAAAAAAAAAAAAAAAAAAAAAAAAAAAAAAAAAAAAAAAAAAAAAAAAAAAAAAAAAAAAAAAAAAAAAAAAAAAAAAAAAAAAAAAAAAAAAAAAAAAAAAAAAAAAAAAAAAAAAAAAAAAAAAAAAAAAAAAAAAAAAAAAAAAAAAAAAAAAAAAAAAAAAAAAAAAAAAAAAAAAAAAAAAAAAAAAAAAAAAAAAAAAAAAAAAAAAAAAAAAAAAAAAAAAAAAAAAAAAAAAAAAAAAAAAAAAAAAAAAAAAAAAAAAAAAAAAAAAAAAAAAAAAAAAAAAAAAAAAAAAAAAAAAAAAAAAAAAAAAAAAAAAAAAAAAAAAAAAAAAAAAAAAAAAAAAAAAAAAAAAAAAAAAAAAAAAAAAAAAAAAAAAAAAAAAAAAAAAAAAAAAAAAAAAAAAAAAAAAAAAAAAAAAAAAAAAAAAAAAAAAAAAAAAAAAAAAAAAAAAAAAAAAAAAAAAAAAAAAAAAAAAAAAAAAAAAAAAAAAAAAAAAAAAAAAAAAAAAAAAAAAAAAAAAAAAAAAAAAAAAAAAAAAAAAAAAAAAAAAAAAAAAAAAAAAAAAAAAAAAAAAAAAAAAAAAAAAAAAAAAAAAAAAAAAAAAAAAAAAAAAAAAAAAAAAAAAAAAAAAAAAAAAAAAAAAAAAAAAAAAAAAAAAAAAAAAAAAAAAAAAAAAAAAAAAAAAAACwAAAAAEAMBAAAI/wABCBxIsKDBgwgTKlzIsKHDhxAjDmyAIIGABQEGNADAsaNHjgIEEDiwIIBJkwUWBBhgQAGAlzBjAhAwIIDNmzcJ6FQgAIDPn0B/FghAlKiBBAMGAFjKtKlTpgQOOAgQgAEAAAIOANjKtavXrwcCEABAtqzZs2jNIghgAIDbt3Djyo1rIIACAHjz6t3LV6+AAQUOOABAuLDhw4gLExgQIEADAQAiS55MuXJkAQkCBDggAIDnz6BDi/5MIECABABSq17NuvXqAQEGKABAu7bt27gFIEgQIAADAMCDCx8+XMCBAgGSD0gAoLnz59CfNygQoHoAAwQAaN/Ovft2BQwCiEIPYIAAgPPo06tHv6BAgPcBDBAAQL++/fv0FSwoEKB/AIADEAAgWNDgQYMIAixkgAABAIgRJU6kWNHiRYwZNW7EGBAAOw==\"><title>Layer: flatten (hidden)\n Keras class = Flatten</title></image><text x=\"280.0\" y=\"439.5\" font-family=\"monospace\" font-size=\"12\" text-anchor=\"start\" alignment-baseline=\"central\">flatten</text><line x1=\"175.0\" y1=\"479\" x2=\"175.0\" y2=\"452\" stroke=\"black\" stroke-width=\"2\" marker-end=\"url(#arrow)\"><title>Weights from input to flatten</title></line><rect x=\"74.0\" y=\"479\" width=\"202\" height=\"202\" style=\"fill:none;stroke:black;stroke-width:2\"/><image id=\"MNIST-Autoencoder_input_24\" class=\"MNIST-Autoencoder_input\" x=\"75.0\" y=\"480\" height=\"200\" width=\"200\" preserveAspectRatio=\"none\" href=\"data:image/gif;base64,R0lGODdhHAAcAIcAAP39/BwcHOjo6CUlJcbGxjk5OVdXV4eHh5qammVlZdfX13Nzc0dHR6enp7W1tQAAAAAAAAAAAAAAAAAAAAAAAAAAAAAAAAAAAAAAAAAAAAAAAAAAAAAAAAAAAAAAAAAAAAAAAAAAAAAAAAAAAAAAAAAAAAAAAAAAAAAAAAAAAAAAAAAAAAAAAAAAAAAAAAAAAAAAAAAAAAAAAAAAAAAAAAAAAAAAAAAAAAAAAAAAAAAAAAAAAAAAAAAAAAAAAAAAAAAAAAAAAAAAAAAAAAAAAAAAAAAAAAAAAAAAAAAAAAAAAAAAAAAAAAAAAAAAAAAAAAAAAAAAAAAAAAAAAAAAAAAAAAAAAAAAAAAAAAAAAAAAAAAAAAAAAAAAAAAAAAAAAAAAAAAAAAAAAAAAAAAAAAAAAAAAAAAAAAAAAAAAAAAAAAAAAAAAAAAAAAAAAAAAAAAAAAAAAAAAAAAAAAAAAAAAAAAAAAAAAAAAAAAAAAAAAAAAAAAAAAAAAAAAAAAAAAAAAAAAAAAAAAAAAAAAAAAAAAAAAAAAAAAAAAAAAAAAAAAAAAAAAAAAAAAAAAAAAAAAAAAAAAAAAAAAAAAAAAAAAAAAAAAAAAAAAAAAAAAAAAAAAAAAAAAAAAAAAAAAAAAAAAAAAAAAAAAAAAAAAAAAAAAAAAAAAAAAAAAAAAAAAAAAAAAAAAAAAAAAAAAAAAAAAAAAAAAAAAAAAAAAAAAAAAAAAAAAAAAAAAAAAAAAAAAAAAAAAAAAAAAAAAAAAAAAAAAAAAAAAAAAAAAAAAAAAAAAAAAAAAAAAAAAAAAAAAAAAAAAAAAAAAAAAAAAAAAAAAAAAAAAAAAAAAAAAAAAAAAAAAAAAAAAAAAAAAAAAAAAAAAAAAAAAAAAAAAAAAAAAAAAAAAAAAAAAAAAAAAAAAAAAAAAAAAAAAAAAAAAAAAAAAAAAAAAAAAAAAAAAAAAAAAAAAAAAAAAAAAAAAAAAAAAAAAAAAAAAAAAAAAAAAAAAAAAAAAAAAAAAAAAACwAAAAAHAAcAEAI/wABCBxIsKDBgwgLBFi40ECCAQMASJxIsaLFigQCBEgAoKPHjx0RBBjJAAECAChTqlzJsqXLlzBRGgigAIDNmzhz6rzZoECAnwEMEABAtKjRo0iTKl0qQACBAwsCSJVaYEGAAQYUANjKtavXAwEIABhLtqzZs2cJDAgQoIEAAHDjyp1LF64ABAkCBGAAoK/fv4AXFAhAOIABAgASK17MuLHjx5AjS55MufLjBggSCFgQYEADAKBDiwYgYECA06hRE1itQACA17BjwyZwwEGAAAwAABBwAIDv38CDC0cQwACA48iTK1+uXMCAAgccAJhOvbr169UFJAgQ4IAAAODDi0QfT178gAADFABYz769+/YCDhQIQH9AAgD48+vfj18BA4ABBAYwQADAQYQJFSpYUCDAwwADEACgWNHiRYwZNW7k2PFiQAA7\"><title>Layer: input (input)\n shape = (28, 28, 1)\n Keras class = Input</title></image><text x=\"280.0\" y=\"582.0\" font-family=\"monospace\" font-size=\"12\" text-anchor=\"start\" alignment-baseline=\"central\">input</text><text x=\"280.0\" y=\"485\" font-family=\"monospace\" font-size=\"12\" text-anchor=\"start\" alignment-baseline=\"central\">1</text><text x=\"63.0\" y=\"675\" font-family=\"monospace\" font-size=\"12\" text-anchor=\"start\" alignment-baseline=\"central\">0</text></svg></p>"
      }
     },
     "416cd81be4134ddd93c40dd96c58561a": {
      "model_module": "@jupyter-widgets/base",
      "model_module_version": "1.0.0",
      "model_name": "LayoutModel",
      "state": {
       "height": "50px",
       "width": "95%"
      }
     },
     "42e8598e2e7140fda76d19cbba855ef3": {
      "model_module": "@jupyter-widgets/controls",
      "model_module_version": "1.0.0",
      "model_name": "HBoxModel",
      "state": {
       "children": [
        "IPY_MODEL_5e073fbbc2d64f0e8a38783f1b278a66",
        "IPY_MODEL_973f59df59ee44e5adda5c2ed629da5c",
        "IPY_MODEL_37386bfdec024b7c9af74fcac8d024bb",
        "IPY_MODEL_593f0f4ea5024d02824bbe6f4099e07e",
        "IPY_MODEL_9934f616313e4b328e4eabb104141324"
       ],
       "layout": "IPY_MODEL_58ce8628f7fd426abfd963382fe41272"
      }
     },
     "43280e4394f14ae4a1aee1a50476d508": {
      "model_module": "@jupyter-widgets/base",
      "model_module_version": "1.0.0",
      "model_name": "LayoutModel",
      "state": {
       "width": "100%"
      }
     },
     "43d63cd508364c3eb81ca7716f54bfd3": {
      "model_module": "@jupyter-widgets/base",
      "model_module_version": "1.0.0",
      "model_name": "LayoutModel",
      "state": {
       "height": "550px",
       "width": "100%"
      }
     },
     "4424524fd76548faab94a7a12907655c": {
      "model_module": "@jupyter-widgets/base",
      "model_module_version": "1.0.0",
      "model_name": "LayoutModel",
      "state": {
       "width": "100%"
      }
     },
     "44b49e02785646368ce27f11758caa9d": {
      "model_module": "@jupyter-widgets/base",
      "model_module_version": "1.0.0",
      "model_name": "LayoutModel",
      "state": {
       "height": "550px",
       "width": "95%"
      }
     },
     "455503e8c60d4baabc595c28844dd001": {
      "model_module": "@jupyter-widgets/controls",
      "model_module_version": "1.0.0",
      "model_name": "DescriptionStyleModel",
      "state": {
       "description_width": ""
      }
     },
     "47bb5b47dbb84af5bf2863c310abc114": {
      "model_module": "@jupyter-widgets/controls",
      "model_module_version": "1.0.0",
      "model_name": "ButtonModel",
      "state": {
       "icon": "fast-backward",
       "layout": "IPY_MODEL_f420bbe527884612816c4cf2f1e94705",
       "style": "IPY_MODEL_31bbb72d492945778d1e108756e81763"
      }
     },
     "4861d3efaaa4478fabf741027271acac": {
      "model_module": "@jupyter-widgets/controls",
      "model_module_version": "1.0.0",
      "model_name": "ButtonModel",
      "state": {
       "description": "Train",
       "layout": "IPY_MODEL_94bbdf1cbe4d494793eda8d49b2bb044",
       "style": "IPY_MODEL_b5d57c87cdf943c499bb9a3db425d94f"
      }
     },
     "48b1923e4df441d89942045d7a57c2f5": {
      "model_module": "@jupyter-widgets/controls",
      "model_module_version": "1.0.0",
      "model_name": "VBoxModel",
      "state": {
       "children": [
        "IPY_MODEL_ca2f119a5ff64be9b4d7e82789560cc4",
        "IPY_MODEL_e69dbfd7b3e8425d8847435345651e9c"
       ],
       "layout": "IPY_MODEL_4d87dd9c5b784cdba74e3e9d3616c5b0"
      }
     },
     "496ae422a13c4f2db5bf208132d72974": {
      "model_module": "@jupyter-widgets/base",
      "model_module_version": "1.0.0",
      "model_name": "LayoutModel",
      "state": {
       "width": "100%"
      }
     },
     "497f0cac5d30455286dbac544b460842": {
      "model_module": "@jupyter-widgets/controls",
      "model_module_version": "1.0.0",
      "model_name": "ButtonStyleModel",
      "state": {}
     },
     "49b700f12b4a45698e684b05042d23d2": {
      "model_module": "@jupyter-widgets/base",
      "model_module_version": "1.0.0",
      "model_name": "LayoutModel",
      "state": {
       "width": "100%"
      }
     },
     "4a1a05f779dd4e2492bf51546afc4c32": {
      "model_module": "@jupyter-widgets/base",
      "model_module_version": "1.0.0",
      "model_name": "LayoutModel",
      "state": {}
     },
     "4a2241af7bd647adafa730bf69160648": {
      "model_module": "@jupyter-widgets/base",
      "model_module_version": "1.0.0",
      "model_name": "LayoutModel",
      "state": {
       "width": "100%"
      }
     },
     "4b035c4d6a6648e2807bd23abc6af308": {
      "model_module": "@jupyter-widgets/controls",
      "model_module_version": "1.0.0",
      "model_name": "DescriptionStyleModel",
      "state": {
       "description_width": ""
      }
     },
     "4b1edb5bd03940c3b1868c0801d0a61c": {
      "model_module": "@jupyter-widgets/controls",
      "model_module_version": "1.0.0",
      "model_name": "HBoxModel",
      "state": {
       "children": [
        "IPY_MODEL_89d3a46a3a854850ba8e38a68fe3fbde",
        "IPY_MODEL_a87402710ab34e29a5a49402961429ef",
        "IPY_MODEL_9a105e2340e24a719390a62b10a7c707",
        "IPY_MODEL_d0c9f5bd4b6c4b44a52c19f01544d2cb",
        "IPY_MODEL_dba6f66d8d654a26bdc2691dc44b33f7"
       ],
       "layout": "IPY_MODEL_cefdd0eca7b64c60a6b903260f8c8a02"
      }
     },
     "4b3dce59e6754caeb916a875a3490f64": {
      "model_module": "@jupyter-widgets/base",
      "model_module_version": "1.0.0",
      "model_name": "LayoutModel",
      "state": {
       "width": "100%"
      }
     },
     "4b5e7ef5e0ac474a8688fd1ca9a6e993": {
      "model_module": "@jupyter-widgets/base",
      "model_module_version": "1.0.0",
      "model_name": "LayoutModel",
      "state": {
       "width": "100%"
      }
     },
     "4b9fb365cb2643f59c1de3039e841a99": {
      "model_module": "@jupyter-widgets/controls",
      "model_module_version": "1.0.0",
      "model_name": "ButtonStyleModel",
      "state": {}
     },
     "4bbedcd6977549a28ca488eea6a897f1": {
      "model_module": "@jupyter-widgets/base",
      "model_module_version": "1.0.0",
      "model_name": "LayoutModel",
      "state": {}
     },
     "4c3ad168c3bb43bda99c6d9d77a707af": {
      "model_module": "@jupyter-widgets/controls",
      "model_module_version": "1.0.0",
      "model_name": "ButtonStyleModel",
      "state": {}
     },
     "4d22f4ccde374a6b8b5eb9d93873a99e": {
      "model_module": "@jupyter-widgets/controls",
      "model_module_version": "1.0.0",
      "model_name": "VBoxModel",
      "state": {
       "children": [
        "IPY_MODEL_71ba846475e34d09917890b0167c4780",
        "IPY_MODEL_ba4b09106d344061bc48216730a79aae",
        "IPY_MODEL_42e8598e2e7140fda76d19cbba855ef3"
       ],
       "layout": "IPY_MODEL_a2676b967d424698a6c0aa6dfa4d6902"
      }
     },
     "4d87dd9c5b784cdba74e3e9d3616c5b0": {
      "model_module": "@jupyter-widgets/base",
      "model_module_version": "1.0.0",
      "model_name": "LayoutModel",
      "state": {
       "height": "550px",
       "width": "95%"
      }
     },
     "4d9ba66180c94583acafb3818e959df3": {
      "model_module": "@jupyter-widgets/controls",
      "model_module_version": "1.0.0",
      "model_name": "ButtonStyleModel",
      "state": {}
     },
     "4dfead9586004d2b989dab6f2b515ce7": {
      "model_module": "@jupyter-widgets/controls",
      "model_module_version": "1.0.0",
      "model_name": "ButtonModel",
      "state": {
       "icon": "backward",
       "layout": "IPY_MODEL_e472861602d940b6ad77905ce2940e23",
       "style": "IPY_MODEL_277d7d71a7e747cdaf71e1387be4fef8"
      }
     },
     "4e0f2dba1f604765b7fa28c3c8769d15": {
      "model_module": "@jupyter-widgets/base",
      "model_module_version": "1.0.0",
      "model_name": "LayoutModel",
      "state": {
       "width": "100%"
      }
     },
     "4e89dd8476c44e61b95c2468ddcfbe60": {
      "model_module": "@jupyter-widgets/controls",
      "model_module_version": "1.0.0",
      "model_name": "VBoxModel",
      "state": {
       "children": [
        "IPY_MODEL_5d6ce22a531d4d1da7295faa1928142e",
        "IPY_MODEL_795a020ef0844b0ab1abb21d0072d5d8",
        "IPY_MODEL_4b1edb5bd03940c3b1868c0801d0a61c"
       ],
       "layout": "IPY_MODEL_49b700f12b4a45698e684b05042d23d2"
      }
     },
     "4ed96e8423054751857d64fa25a2d152": {
      "model_module": "@jupyter-widgets/controls",
      "model_module_version": "1.0.0",
      "model_name": "VBoxModel",
      "state": {
       "children": [
        "IPY_MODEL_df9bd2cde61c4f69b1e43dd0d1c8a5f3",
        "IPY_MODEL_33b8654dd9ce435b9288598024a99c88"
       ],
       "layout": "IPY_MODEL_127f2b95a5af4f5f95943440140fe80f"
      }
     },
     "4f2024e496e2434c81cd13b60c6c9f14": {
      "model_module": "@jupyter-widgets/controls",
      "model_module_version": "1.0.0",
      "model_name": "HTMLModel",
      "state": {
       "layout": "IPY_MODEL_b279f1fd12bc4607be018a99e6c2431c",
       "style": "IPY_MODEL_5f4b47705efe443782bab8e1e4a48f07",
       "value": "<p style=\"text-align:center\"><svg id='Autoencoder' xmlns='http://www.w3.org/2000/svg' width=\"350\" height=\"235\" image-rendering=\"pixelated\">\n    <defs>\n        <marker id=\"arrow\" markerWidth=\"10\" markerHeight=\"10\" refX=\"9\" refY=\"3\" orient=\"auto\" markerUnits=\"strokeWidth\">\n          <path d=\"M0,0 L0,6 L9,3 z\" fill=\"black\" />\n        </marker>\n    </defs><text x=\"175.0\" y=\"12.5\" font-family=\"monospace\" font-size=\"15\" text-anchor=\"middle\" alignment-baseline=\"central\">Autoencoder</text><rect x=\"74.0\" y=\"29\" width=\"202\" height=\"42\" style=\"fill:none;stroke:black;stroke-width:2\"/><image id=\"Autoencoder_output_7\" class=\"Autoencoder_output\" x=\"75.0\" y=\"30\" height=\"40\" width=\"200\" preserveAspectRatio=\"none\" href=\"data:image/gif;base64,R0lGODdhBQABAIcAAFdXV2kAH3IDIJYPJrgkMQAAAAAAAAAAAAAAAAAAAAAAAAAAAAAAAAAAAAAAAAAAAAAAAAAAAAAAAAAAAAAAAAAAAAAAAAAAAAAAAAAAAAAAAAAAAAAAAAAAAAAAAAAAAAAAAAAAAAAAAAAAAAAAAAAAAAAAAAAAAAAAAAAAAAAAAAAAAAAAAAAAAAAAAAAAAAAAAAAAAAAAAAAAAAAAAAAAAAAAAAAAAAAAAAAAAAAAAAAAAAAAAAAAAAAAAAAAAAAAAAAAAAAAAAAAAAAAAAAAAAAAAAAAAAAAAAAAAAAAAAAAAAAAAAAAAAAAAAAAAAAAAAAAAAAAAAAAAAAAAAAAAAAAAAAAAAAAAAAAAAAAAAAAAAAAAAAAAAAAAAAAAAAAAAAAAAAAAAAAAAAAAAAAAAAAAAAAAAAAAAAAAAAAAAAAAAAAAAAAAAAAAAAAAAAAAAAAAAAAAAAAAAAAAAAAAAAAAAAAAAAAAAAAAAAAAAAAAAAAAAAAAAAAAAAAAAAAAAAAAAAAAAAAAAAAAAAAAAAAAAAAAAAAAAAAAAAAAAAAAAAAAAAAAAAAAAAAAAAAAAAAAAAAAAAAAAAAAAAAAAAAAAAAAAAAAAAAAAAAAAAAAAAAAAAAAAAAAAAAAAAAAAAAAAAAAAAAAAAAAAAAAAAAAAAAAAAAAAAAAAAAAAAAAAAAAAAAAAAAAAAAAAAAAAAAAAAAAAAAAAAAAAAAAAAAAAAAAAAAAAAAAAAAAAAAAAAAAAAAAAAAAAAAAAAAAAAAAAAAAAAAAAAAAAAAAAAAAAAAAAAAAAAAAAAAAAAAAAAAAAAAAAAAAAAAAAAAAAAAAAAAAAAAAAAAAAAAAAAAAAAAAAAAAAAAAAAAAAAAAAAAAAAAAAAAAAAAAAAAAAAAAAAAAAAAAAAAAAAAAAAAAAAAAAAAAAAAAAAAAAAAAAAAAAAAAAAAAAAAAAAAAAAAAAAAAAAAAAAAAAAAAAAAAAAAAAAAAAAAAAAAAAAAAAAAAAAAAAAAAAAAACwAAAAABQABAAAICAABEBgQQEBAADs=\"><title>Layer: output (output)\n shape = (5,)\n Keras class = Dense\n activation = sigmoid</title></image><text x=\"280.0\" y=\"52.0\" font-family=\"monospace\" font-size=\"12\" text-anchor=\"start\" alignment-baseline=\"central\">output</text><line x1=\"175.0\" y1=\"99\" x2=\"175.0\" y2=\"72\" stroke=\"black\" stroke-width=\"2\" marker-end=\"url(#arrow)\"><title>Weights from hidden to output\n output/kernel has shape (5, 5)\n output/bias has shape (5,)</title></line><rect x=\"74.0\" y=\"99\" width=\"202\" height=\"42\" style=\"fill:none;stroke:black;stroke-width:2\"/><image id=\"Autoencoder_hidden_8\" class=\"Autoencoder_hidden\" x=\"75.0\" y=\"100\" height=\"40\" width=\"200\" preserveAspectRatio=\"none\" href=\"data:image/gif;base64,R0lGODdhBQABAIcAAGcAHxoaGocKJJ4RJwAAAAAAAAAAAAAAAAAAAAAAAAAAAAAAAAAAAAAAAAAAAAAAAAAAAAAAAAAAAAAAAAAAAAAAAAAAAAAAAAAAAAAAAAAAAAAAAAAAAAAAAAAAAAAAAAAAAAAAAAAAAAAAAAAAAAAAAAAAAAAAAAAAAAAAAAAAAAAAAAAAAAAAAAAAAAAAAAAAAAAAAAAAAAAAAAAAAAAAAAAAAAAAAAAAAAAAAAAAAAAAAAAAAAAAAAAAAAAAAAAAAAAAAAAAAAAAAAAAAAAAAAAAAAAAAAAAAAAAAAAAAAAAAAAAAAAAAAAAAAAAAAAAAAAAAAAAAAAAAAAAAAAAAAAAAAAAAAAAAAAAAAAAAAAAAAAAAAAAAAAAAAAAAAAAAAAAAAAAAAAAAAAAAAAAAAAAAAAAAAAAAAAAAAAAAAAAAAAAAAAAAAAAAAAAAAAAAAAAAAAAAAAAAAAAAAAAAAAAAAAAAAAAAAAAAAAAAAAAAAAAAAAAAAAAAAAAAAAAAAAAAAAAAAAAAAAAAAAAAAAAAAAAAAAAAAAAAAAAAAAAAAAAAAAAAAAAAAAAAAAAAAAAAAAAAAAAAAAAAAAAAAAAAAAAAAAAAAAAAAAAAAAAAAAAAAAAAAAAAAAAAAAAAAAAAAAAAAAAAAAAAAAAAAAAAAAAAAAAAAAAAAAAAAAAAAAAAAAAAAAAAAAAAAAAAAAAAAAAAAAAAAAAAAAAAAAAAAAAAAAAAAAAAAAAAAAAAAAAAAAAAAAAAAAAAAAAAAAAAAAAAAAAAAAAAAAAAAAAAAAAAAAAAAAAAAAAAAAAAAAAAAAAAAAAAAAAAAAAAAAAAAAAAAAAAAAAAAAAAAAAAAAAAAAAAAAAAAAAAAAAAAAAAAAAAAAAAAAAAAAAAAAAAAAAAAAAAAAAAAAAAAAAAAAAAAAAAAAAAAAAAAAAAAAAAAAAAAAAAAAAAAAAAAAAAAAAAAAAAAAAAAAAAAAAAAAAAAAAAAAAAAAAAAAAAAAAAAAAAAAAAAAAACwAAAAABQABAAAICAABBBggAEBAADs=\"><title>Layer: hidden (hidden)\n shape = (5,)\n Keras class = Dense\n activation = relu</title></image><text x=\"280.0\" y=\"122.0\" font-family=\"monospace\" font-size=\"12\" text-anchor=\"start\" alignment-baseline=\"central\">hidden</text><line x1=\"175.0\" y1=\"169\" x2=\"175.0\" y2=\"142\" stroke=\"black\" stroke-width=\"2\" marker-end=\"url(#arrow)\"><title>Weights from input to hidden\n hidden/kernel has shape (5, 5)\n hidden/bias has shape (5,)</title></line><rect x=\"74.0\" y=\"169\" width=\"202\" height=\"42\" style=\"fill:none;stroke:black;stroke-width:2\"/><image id=\"Autoencoder_input_9\" class=\"Autoencoder_input\" x=\"75.0\" y=\"170\" height=\"40\" width=\"200\" preserveAspectRatio=\"none\" href=\"data:image/gif;base64,R0lGODdhBQABAIcAAGcAHxoaGgAAAAAAAAAAAAAAAAAAAAAAAAAAAAAAAAAAAAAAAAAAAAAAAAAAAAAAAAAAAAAAAAAAAAAAAAAAAAAAAAAAAAAAAAAAAAAAAAAAAAAAAAAAAAAAAAAAAAAAAAAAAAAAAAAAAAAAAAAAAAAAAAAAAAAAAAAAAAAAAAAAAAAAAAAAAAAAAAAAAAAAAAAAAAAAAAAAAAAAAAAAAAAAAAAAAAAAAAAAAAAAAAAAAAAAAAAAAAAAAAAAAAAAAAAAAAAAAAAAAAAAAAAAAAAAAAAAAAAAAAAAAAAAAAAAAAAAAAAAAAAAAAAAAAAAAAAAAAAAAAAAAAAAAAAAAAAAAAAAAAAAAAAAAAAAAAAAAAAAAAAAAAAAAAAAAAAAAAAAAAAAAAAAAAAAAAAAAAAAAAAAAAAAAAAAAAAAAAAAAAAAAAAAAAAAAAAAAAAAAAAAAAAAAAAAAAAAAAAAAAAAAAAAAAAAAAAAAAAAAAAAAAAAAAAAAAAAAAAAAAAAAAAAAAAAAAAAAAAAAAAAAAAAAAAAAAAAAAAAAAAAAAAAAAAAAAAAAAAAAAAAAAAAAAAAAAAAAAAAAAAAAAAAAAAAAAAAAAAAAAAAAAAAAAAAAAAAAAAAAAAAAAAAAAAAAAAAAAAAAAAAAAAAAAAAAAAAAAAAAAAAAAAAAAAAAAAAAAAAAAAAAAAAAAAAAAAAAAAAAAAAAAAAAAAAAAAAAAAAAAAAAAAAAAAAAAAAAAAAAAAAAAAAAAAAAAAAAAAAAAAAAAAAAAAAAAAAAAAAAAAAAAAAAAAAAAAAAAAAAAAAAAAAAAAAAAAAAAAAAAAAAAAAAAAAAAAAAAAAAAAAAAAAAAAAAAAAAAAAAAAAAAAAAAAAAAAAAAAAAAAAAAAAAAAAAAAAAAAAAAAAAAAAAAAAAAAAAAAAAAAAAAAAAAAAAAAAAAAAAAAAAAAAAAAAAAAAAAAAAAAAAAAAAAAAAAAAAAAAAAAAAAAAAAAAAAAAAAAAAAAAAAAAAAAAAAAAACwAAAAABQABAAAIBwADABgIICAAOw==\"><title>Layer: input (input)\n shape = (5,)\n Keras class = Input</title></image><text x=\"280.0\" y=\"192.0\" font-family=\"monospace\" font-size=\"12\" text-anchor=\"start\" alignment-baseline=\"central\">input</text></svg></p>"
      }
     },
     "4fc8bf746e7840e28479f67036db8159": {
      "model_module": "@jupyter-widgets/base",
      "model_module_version": "1.0.0",
      "model_name": "LayoutModel",
      "state": {
       "width": "100%"
      }
     },
     "500c8eec634e46bdbaf5a064cc8aec91": {
      "model_module": "@jupyter-widgets/controls",
      "model_module_version": "1.0.0",
      "model_name": "DescriptionStyleModel",
      "state": {
       "description_width": ""
      }
     },
     "52071c823b844e4c8a53ea64d34aa1e7": {
      "model_module": "@jupyter-widgets/controls",
      "model_module_version": "1.0.0",
      "model_name": "DescriptionStyleModel",
      "state": {
       "description_width": ""
      }
     },
     "525e30db08fa42c6a793aab15b0d0de8": {
      "model_module": "@jupyter-widgets/controls",
      "model_module_version": "1.0.0",
      "model_name": "VBoxModel",
      "state": {
       "children": [
        "IPY_MODEL_3808ed62bcf24a319b988fe9f96080cc",
        "IPY_MODEL_e4f28830405e49c2a09266ed8005de6b",
        "IPY_MODEL_38a6a2ce38fb4e9b89b7b1ef7e2a796c"
       ],
       "layout": "IPY_MODEL_7e31574062f34f4fa678850565dc4bed"
      }
     },
     "5269a11e03564e4086a67005e43beb14": {
      "model_module": "@jupyter-widgets/controls",
      "model_module_version": "1.0.0",
      "model_name": "ButtonStyleModel",
      "state": {}
     },
     "52e720262fd4429088db80cc47287526": {
      "model_module": "@jupyter-widgets/base",
      "model_module_version": "1.0.0",
      "model_name": "LayoutModel",
      "state": {
       "width": "100%"
      }
     },
     "53cf5249a96443988216ca1fa3554978": {
      "model_module": "@jupyter-widgets/controls",
      "model_module_version": "1.0.0",
      "model_name": "ButtonStyleModel",
      "state": {}
     },
     "55b3d4a7ab5949a9871494f2c9f87e2d": {
      "model_module": "@jupyter-widgets/controls",
      "model_module_version": "1.0.0",
      "model_name": "HTMLModel",
      "state": {
       "layout": "IPY_MODEL_3469c6397333484bb8726577a8aeedb9",
       "style": "IPY_MODEL_1ba71fc2847f4e448e4bea94d4bf3515",
       "value": "<p style=\"text-align:center\"><svg id='MNIST-Autoencoder' xmlns='http://www.w3.org/2000/svg' width=\"350\" height=\"705\" image-rendering=\"pixelated\">\n    <defs>\n        <marker id=\"arrow\" markerWidth=\"10\" markerHeight=\"10\" refX=\"9\" refY=\"3\" orient=\"auto\" markerUnits=\"strokeWidth\">\n          <path d=\"M0,0 L0,6 L9,3 z\" fill=\"black\" />\n        </marker>\n    </defs><text x=\"175.0\" y=\"12.5\" font-family=\"monospace\" font-size=\"15\" text-anchor=\"middle\" alignment-baseline=\"central\">MNIST-Autoencoder</text><rect x=\"74.0\" y=\"29\" width=\"202\" height=\"202\" style=\"fill:none;stroke:black;stroke-width:2\"/><image id=\"MNIST-Autoencoder_output_7\" class=\"MNIST-Autoencoder_output\" x=\"75.0\" y=\"30\" height=\"200\" width=\"200\" preserveAspectRatio=\"none\" href=\"data:image/gif;base64,R0lGODdhHAAcAIcAAPz5+Pru5wAAAAAAAAAAAAAAAAAAAAAAAAAAAAAAAAAAAAAAAAAAAAAAAAAAAAAAAAAAAAAAAAAAAAAAAAAAAAAAAAAAAAAAAAAAAAAAAAAAAAAAAAAAAAAAAAAAAAAAAAAAAAAAAAAAAAAAAAAAAAAAAAAAAAAAAAAAAAAAAAAAAAAAAAAAAAAAAAAAAAAAAAAAAAAAAAAAAAAAAAAAAAAAAAAAAAAAAAAAAAAAAAAAAAAAAAAAAAAAAAAAAAAAAAAAAAAAAAAAAAAAAAAAAAAAAAAAAAAAAAAAAAAAAAAAAAAAAAAAAAAAAAAAAAAAAAAAAAAAAAAAAAAAAAAAAAAAAAAAAAAAAAAAAAAAAAAAAAAAAAAAAAAAAAAAAAAAAAAAAAAAAAAAAAAAAAAAAAAAAAAAAAAAAAAAAAAAAAAAAAAAAAAAAAAAAAAAAAAAAAAAAAAAAAAAAAAAAAAAAAAAAAAAAAAAAAAAAAAAAAAAAAAAAAAAAAAAAAAAAAAAAAAAAAAAAAAAAAAAAAAAAAAAAAAAAAAAAAAAAAAAAAAAAAAAAAAAAAAAAAAAAAAAAAAAAAAAAAAAAAAAAAAAAAAAAAAAAAAAAAAAAAAAAAAAAAAAAAAAAAAAAAAAAAAAAAAAAAAAAAAAAAAAAAAAAAAAAAAAAAAAAAAAAAAAAAAAAAAAAAAAAAAAAAAAAAAAAAAAAAAAAAAAAAAAAAAAAAAAAAAAAAAAAAAAAAAAAAAAAAAAAAAAAAAAAAAAAAAAAAAAAAAAAAAAAAAAAAAAAAAAAAAAAAAAAAAAAAAAAAAAAAAAAAAAAAAAAAAAAAAAAAAAAAAAAAAAAAAAAAAAAAAAAAAAAAAAAAAAAAAAAAAAAAAAAAAAAAAAAAAAAAAAAAAAAAAAAAAAAAAAAAAAAAAAAAAAAAAAAAAAAAAAAAAAAAAAAAAAAAAAAAAAAAAAAAAAAAAAAAAAAAAAAAAAAAAAAAAAAAAAAAAAAAAAAAAAAAAAAAAAAAAAAAAAAAAAACwAAAAAHAAcAEAIVgABAAgAoKDBgwgTKlxYMACAhxAjSpxIsaLFixgzatzIsaPHjyBDihxJsqTJkyhTqlzJkmQAADBjypxJs6bNmzhz6tzJs6fPn0CDxgwAoKjRo0iTKg0IADs=\"><title>Layer: output (output)\n shape = (28, 28, 1)\n Keras class = Dense\n activation = sigmoid</title></image><text x=\"280.0\" y=\"132.0\" font-family=\"monospace\" font-size=\"12\" text-anchor=\"start\" alignment-baseline=\"central\">output</text><line x1=\"175.0\" y1=\"259\" x2=\"175.0\" y2=\"232\" stroke=\"black\" stroke-width=\"2\" marker-end=\"url(#arrow)\"><title>Weights from hidden3 to output\n output/kernel has shape (25, 784)\n output/bias has shape (784,)</title></line><rect x=\"74.0\" y=\"259\" width=\"202\" height=\"27\" style=\"fill:none;stroke:black;stroke-width:2\"/><image id=\"MNIST-Autoencoder_hidden3_8\" class=\"MNIST-Autoencoder_hidden3\" x=\"75.0\" y=\"260\" height=\"25\" width=\"200\" preserveAspectRatio=\"none\" href=\"data:image/gif;base64,R0lGODdhGQABAIcAAGcAH/Sohe3n5NlnUxoaGigoKLQcLcU+PN91Xd3d3eyTdPnHrv7w5wAAAAAAAAAAAAAAAAAAAAAAAAAAAAAAAAAAAAAAAAAAAAAAAAAAAAAAAAAAAAAAAAAAAAAAAAAAAAAAAAAAAAAAAAAAAAAAAAAAAAAAAAAAAAAAAAAAAAAAAAAAAAAAAAAAAAAAAAAAAAAAAAAAAAAAAAAAAAAAAAAAAAAAAAAAAAAAAAAAAAAAAAAAAAAAAAAAAAAAAAAAAAAAAAAAAAAAAAAAAAAAAAAAAAAAAAAAAAAAAAAAAAAAAAAAAAAAAAAAAAAAAAAAAAAAAAAAAAAAAAAAAAAAAAAAAAAAAAAAAAAAAAAAAAAAAAAAAAAAAAAAAAAAAAAAAAAAAAAAAAAAAAAAAAAAAAAAAAAAAAAAAAAAAAAAAAAAAAAAAAAAAAAAAAAAAAAAAAAAAAAAAAAAAAAAAAAAAAAAAAAAAAAAAAAAAAAAAAAAAAAAAAAAAAAAAAAAAAAAAAAAAAAAAAAAAAAAAAAAAAAAAAAAAAAAAAAAAAAAAAAAAAAAAAAAAAAAAAAAAAAAAAAAAAAAAAAAAAAAAAAAAAAAAAAAAAAAAAAAAAAAAAAAAAAAAAAAAAAAAAAAAAAAAAAAAAAAAAAAAAAAAAAAAAAAAAAAAAAAAAAAAAAAAAAAAAAAAAAAAAAAAAAAAAAAAAAAAAAAAAAAAAAAAAAAAAAAAAAAAAAAAAAAAAAAAAAAAAAAAAAAAAAAAAAAAAAAAAAAAAAAAAAAAAAAAAAAAAAAAAAAAAAAAAAAAAAAAAAAAAAAAAAAAAAAAAAAAAAAAAAAAAAAAAAAAAAAAAAAAAAAAAAAAAAAAAAAAAAAAAAAAAAAAAAAAAAAAAAAAAAAAAAAAAAAAAAAAAAAAAAAAAAAAAAAAAAAAAAAAAAAAAAAAAAAAAAAAAAAAAAAAAAAAAAAAAAAAAAAAAAAAAAAAAAAAAAAAAAAAAAAAAAAAAAAAAAAAAAAAAAAAAAAAAAAACwAAAAAGQABAAAIHgADKABQgMCAAAgEJGAAYMABABABLDAAQICAAAACAgA7\"><title>Layer: hidden3 (hidden)\n shape = (25,)\n Keras class = Dense\n activation = relu</title></image><text x=\"280.0\" y=\"274.5\" font-family=\"monospace\" font-size=\"12\" text-anchor=\"start\" alignment-baseline=\"central\">hidden3</text><line x1=\"175.0\" y1=\"314\" x2=\"175.0\" y2=\"287\" stroke=\"black\" stroke-width=\"2\" marker-end=\"url(#arrow)\"><title>Weights from hidden2 to hidden3\n hidden3/kernel has shape (25, 25)\n hidden3/bias has shape (25,)</title></line><rect x=\"74.0\" y=\"314\" width=\"202\" height=\"27\" style=\"fill:none;stroke:black;stroke-width:2\"/><image id=\"MNIST-Autoencoder_hidden2_9\" class=\"MNIST-Autoencoder_hidden2\" x=\"75.0\" y=\"315\" height=\"25\" width=\"200\" preserveAspectRatio=\"none\" href=\"data:image/gif;base64,R0lGODdhGQABAIcAAGcAH1RUVO6YeObm5vf39xoaGoSEhLAXKsxMQ+J9Y/SqiPi/o/3bxwAAAAAAAAAAAAAAAAAAAAAAAAAAAAAAAAAAAAAAAAAAAAAAAAAAAAAAAAAAAAAAAAAAAAAAAAAAAAAAAAAAAAAAAAAAAAAAAAAAAAAAAAAAAAAAAAAAAAAAAAAAAAAAAAAAAAAAAAAAAAAAAAAAAAAAAAAAAAAAAAAAAAAAAAAAAAAAAAAAAAAAAAAAAAAAAAAAAAAAAAAAAAAAAAAAAAAAAAAAAAAAAAAAAAAAAAAAAAAAAAAAAAAAAAAAAAAAAAAAAAAAAAAAAAAAAAAAAAAAAAAAAAAAAAAAAAAAAAAAAAAAAAAAAAAAAAAAAAAAAAAAAAAAAAAAAAAAAAAAAAAAAAAAAAAAAAAAAAAAAAAAAAAAAAAAAAAAAAAAAAAAAAAAAAAAAAAAAAAAAAAAAAAAAAAAAAAAAAAAAAAAAAAAAAAAAAAAAAAAAAAAAAAAAAAAAAAAAAAAAAAAAAAAAAAAAAAAAAAAAAAAAAAAAAAAAAAAAAAAAAAAAAAAAAAAAAAAAAAAAAAAAAAAAAAAAAAAAAAAAAAAAAAAAAAAAAAAAAAAAAAAAAAAAAAAAAAAAAAAAAAAAAAAAAAAAAAAAAAAAAAAAAAAAAAAAAAAAAAAAAAAAAAAAAAAAAAAAAAAAAAAAAAAAAAAAAAAAAAAAAAAAAAAAAAAAAAAAAAAAAAAAAAAAAAAAAAAAAAAAAAAAAAAAAAAAAAAAAAAAAAAAAAAAAAAAAAAAAAAAAAAAAAAAAAAAAAAAAAAAAAAAAAAAAAAAAAAAAAAAAAAAAAAAAAAAAAAAAAAAAAAAAAAAAAAAAAAAAAAAAAAAAAAAAAAAAAAAAAAAAAAAAAAAAAAAAAAAAAAAAAAAAAAAAAAAAAAAAAAAAAAAAAAAAAAAAAAAAAAAAAAAAAAAAAAAAAAAAAAAAAAAAAAAAAAAAAAAAAAAAAAAAAAAAAAAAAAAAAAAAAAAAAAAAAAACwAAAAAGQABAAAIHwALCAAQIMACAAQAACAgAMABBQYQJAAwYAAABgAABAQAOw==\"><title>Layer: hidden2 (hidden)\n shape = (25,)\n Keras class = Dense\n activation = relu</title></image><text x=\"280.0\" y=\"329.5\" font-family=\"monospace\" font-size=\"12\" text-anchor=\"start\" alignment-baseline=\"central\">hidden2</text><line x1=\"175.0\" y1=\"369\" x2=\"175.0\" y2=\"342\" stroke=\"black\" stroke-width=\"2\" marker-end=\"url(#arrow)\"><title>Weights from hidden1 to hidden2\n hidden2/kernel has shape (25, 25)\n hidden2/bias has shape (25,)</title></line><rect x=\"74.0\" y=\"369\" width=\"202\" height=\"27\" style=\"fill:none;stroke:black;stroke-width:2\"/><image id=\"MNIST-Autoencoder_hidden1_10\" class=\"MNIST-Autoencoder_hidden1\" x=\"75.0\" y=\"370\" height=\"25\" width=\"200\" preserveAspectRatio=\"none\" href=\"data:image/gif;base64,R0lGODdhGQABAIcAAGcAH3IDIOaHaxoaGo0MJaQTKNloU/SqiPnFq/vQuePj4wAAAAAAAAAAAAAAAAAAAAAAAAAAAAAAAAAAAAAAAAAAAAAAAAAAAAAAAAAAAAAAAAAAAAAAAAAAAAAAAAAAAAAAAAAAAAAAAAAAAAAAAAAAAAAAAAAAAAAAAAAAAAAAAAAAAAAAAAAAAAAAAAAAAAAAAAAAAAAAAAAAAAAAAAAAAAAAAAAAAAAAAAAAAAAAAAAAAAAAAAAAAAAAAAAAAAAAAAAAAAAAAAAAAAAAAAAAAAAAAAAAAAAAAAAAAAAAAAAAAAAAAAAAAAAAAAAAAAAAAAAAAAAAAAAAAAAAAAAAAAAAAAAAAAAAAAAAAAAAAAAAAAAAAAAAAAAAAAAAAAAAAAAAAAAAAAAAAAAAAAAAAAAAAAAAAAAAAAAAAAAAAAAAAAAAAAAAAAAAAAAAAAAAAAAAAAAAAAAAAAAAAAAAAAAAAAAAAAAAAAAAAAAAAAAAAAAAAAAAAAAAAAAAAAAAAAAAAAAAAAAAAAAAAAAAAAAAAAAAAAAAAAAAAAAAAAAAAAAAAAAAAAAAAAAAAAAAAAAAAAAAAAAAAAAAAAAAAAAAAAAAAAAAAAAAAAAAAAAAAAAAAAAAAAAAAAAAAAAAAAAAAAAAAAAAAAAAAAAAAAAAAAAAAAAAAAAAAAAAAAAAAAAAAAAAAAAAAAAAAAAAAAAAAAAAAAAAAAAAAAAAAAAAAAAAAAAAAAAAAAAAAAAAAAAAAAAAAAAAAAAAAAAAAAAAAAAAAAAAAAAAAAAAAAAAAAAAAAAAAAAAAAAAAAAAAAAAAAAAAAAAAAAAAAAAAAAAAAAAAAAAAAAAAAAAAAAAAAAAAAAAAAAAAAAAAAAAAAAAAAAAAAAAAAAAAAAAAAAAAAAAAAAAAAAAAAAAAAAAAAAAAAAAAAAAAAAAAAAAAAAAAAAAAAAAAAAAAAAAAAAAAAAAAAAAAAAAAAAAAAAAAAAAAAAAAAAAAAAAAAAAAAAAAAAAAAAAAAAAACwAAAAAGQABAAAIGgABCBwYQEABAAcCDBAAoCEABAkIAACgwEBAADs=\"><title>Layer: hidden1 (hidden)\n shape = (25,)\n Keras class = Dense\n activation = relu</title></image><text x=\"280.0\" y=\"384.5\" font-family=\"monospace\" font-size=\"12\" text-anchor=\"start\" alignment-baseline=\"central\">hidden1</text><line x1=\"175.0\" y1=\"424\" x2=\"175.0\" y2=\"397\" stroke=\"black\" stroke-width=\"2\" marker-end=\"url(#arrow)\"><title>Weights from flatten to hidden1\n hidden1/kernel has shape (784, 25)\n hidden1/bias has shape (25,)</title></line><rect x=\"74.0\" y=\"424\" width=\"202\" height=\"27\" style=\"fill:none;stroke:black;stroke-width:2\"/><image id=\"MNIST-Autoencoder_flatten_11\" class=\"MNIST-Autoencoder_flatten\" x=\"75.0\" y=\"425\" height=\"25\" width=\"200\" preserveAspectRatio=\"none\" href=\"data:image/gif;base64,R0lGODdhEAMBAIcAAP39/BwcHOjo6CUlJcbGxjk5OVdXV4eHh5qammVlZdfX13Nzc0dHR6enp7W1tQAAAAAAAAAAAAAAAAAAAAAAAAAAAAAAAAAAAAAAAAAAAAAAAAAAAAAAAAAAAAAAAAAAAAAAAAAAAAAAAAAAAAAAAAAAAAAAAAAAAAAAAAAAAAAAAAAAAAAAAAAAAAAAAAAAAAAAAAAAAAAAAAAAAAAAAAAAAAAAAAAAAAAAAAAAAAAAAAAAAAAAAAAAAAAAAAAAAAAAAAAAAAAAAAAAAAAAAAAAAAAAAAAAAAAAAAAAAAAAAAAAAAAAAAAAAAAAAAAAAAAAAAAAAAAAAAAAAAAAAAAAAAAAAAAAAAAAAAAAAAAAAAAAAAAAAAAAAAAAAAAAAAAAAAAAAAAAAAAAAAAAAAAAAAAAAAAAAAAAAAAAAAAAAAAAAAAAAAAAAAAAAAAAAAAAAAAAAAAAAAAAAAAAAAAAAAAAAAAAAAAAAAAAAAAAAAAAAAAAAAAAAAAAAAAAAAAAAAAAAAAAAAAAAAAAAAAAAAAAAAAAAAAAAAAAAAAAAAAAAAAAAAAAAAAAAAAAAAAAAAAAAAAAAAAAAAAAAAAAAAAAAAAAAAAAAAAAAAAAAAAAAAAAAAAAAAAAAAAAAAAAAAAAAAAAAAAAAAAAAAAAAAAAAAAAAAAAAAAAAAAAAAAAAAAAAAAAAAAAAAAAAAAAAAAAAAAAAAAAAAAAAAAAAAAAAAAAAAAAAAAAAAAAAAAAAAAAAAAAAAAAAAAAAAAAAAAAAAAAAAAAAAAAAAAAAAAAAAAAAAAAAAAAAAAAAAAAAAAAAAAAAAAAAAAAAAAAAAAAAAAAAAAAAAAAAAAAAAAAAAAAAAAAAAAAAAAAAAAAAAAAAAAAAAAAAAAAAAAAAAAAAAAAAAAAAAAAAAAAAAAAAAAAAAAAAAAAAAAAAAAAAAAAAAAAAAAAAAAAAAAAAAAAAAAAAAAAAAAAAAAAAAAAAAAAAAAAAAAAAAAAAAAAAAAAAAAAAAAAAAAAACwAAAAAEAMBAAAI/wABCBxIsKDBgwgTKlzIsKHDhxAjDmyAIIGABQEGNADAsaNHjgIEEDiwIIBJkwUWBBhgQAGAlzBjAhAwIIDNmzcJ6FQgAIDPn0B/FghAlKiBBAMGAFjKtKlTpgQOOAgQgAEAAAIOANjKtavXrwcCEABAtqzZs2jNIghgAIDbt3Djyo1rIIACAHjz6t3LV6+AAQUOOABAuLDhw4gLExgQIEADAQAiS55MuXJkAQkCBDggAIDnz6BDi/5MIECABABSq17NuvXqAQEGKABAu7bt27gFIEgQIAADAMCDCx8+XMCBAgGSD0gAoLnz59CfNygQoHoAAwQAaN/Ovft2BQwCiEIPYIAAgPPo06tHv6BAgPcBDBAAQL++/fv0FSwoEKB/AIADEAAgWNDgQYMIAixkgAABAIgRJU6kWNHiRYwZNW7EGBAAOw==\"><title>Layer: flatten (hidden)\n Keras class = Flatten</title></image><text x=\"280.0\" y=\"439.5\" font-family=\"monospace\" font-size=\"12\" text-anchor=\"start\" alignment-baseline=\"central\">flatten</text><line x1=\"175.0\" y1=\"479\" x2=\"175.0\" y2=\"452\" stroke=\"black\" stroke-width=\"2\" marker-end=\"url(#arrow)\"><title>Weights from input to flatten</title></line><rect x=\"74.0\" y=\"479\" width=\"202\" height=\"202\" style=\"fill:none;stroke:black;stroke-width:2\"/><image id=\"MNIST-Autoencoder_input_12\" class=\"MNIST-Autoencoder_input\" x=\"75.0\" y=\"480\" height=\"200\" width=\"200\" preserveAspectRatio=\"none\" href=\"data:image/gif;base64,R0lGODdhHAAcAIcAAP39/BwcHOjo6CUlJcbGxjk5OVdXV4eHh5qammVlZdfX13Nzc0dHR6enp7W1tQAAAAAAAAAAAAAAAAAAAAAAAAAAAAAAAAAAAAAAAAAAAAAAAAAAAAAAAAAAAAAAAAAAAAAAAAAAAAAAAAAAAAAAAAAAAAAAAAAAAAAAAAAAAAAAAAAAAAAAAAAAAAAAAAAAAAAAAAAAAAAAAAAAAAAAAAAAAAAAAAAAAAAAAAAAAAAAAAAAAAAAAAAAAAAAAAAAAAAAAAAAAAAAAAAAAAAAAAAAAAAAAAAAAAAAAAAAAAAAAAAAAAAAAAAAAAAAAAAAAAAAAAAAAAAAAAAAAAAAAAAAAAAAAAAAAAAAAAAAAAAAAAAAAAAAAAAAAAAAAAAAAAAAAAAAAAAAAAAAAAAAAAAAAAAAAAAAAAAAAAAAAAAAAAAAAAAAAAAAAAAAAAAAAAAAAAAAAAAAAAAAAAAAAAAAAAAAAAAAAAAAAAAAAAAAAAAAAAAAAAAAAAAAAAAAAAAAAAAAAAAAAAAAAAAAAAAAAAAAAAAAAAAAAAAAAAAAAAAAAAAAAAAAAAAAAAAAAAAAAAAAAAAAAAAAAAAAAAAAAAAAAAAAAAAAAAAAAAAAAAAAAAAAAAAAAAAAAAAAAAAAAAAAAAAAAAAAAAAAAAAAAAAAAAAAAAAAAAAAAAAAAAAAAAAAAAAAAAAAAAAAAAAAAAAAAAAAAAAAAAAAAAAAAAAAAAAAAAAAAAAAAAAAAAAAAAAAAAAAAAAAAAAAAAAAAAAAAAAAAAAAAAAAAAAAAAAAAAAAAAAAAAAAAAAAAAAAAAAAAAAAAAAAAAAAAAAAAAAAAAAAAAAAAAAAAAAAAAAAAAAAAAAAAAAAAAAAAAAAAAAAAAAAAAAAAAAAAAAAAAAAAAAAAAAAAAAAAAAAAAAAAAAAAAAAAAAAAAAAAAAAAAAAAAAAAAAAAAAAAAAAAAAAAAAAAAAAAAAAAAAAAAAAAAAAAAAAAAAAAAAAAAAAAAAAAAAAAAAAAAAAACwAAAAAHAAcAEAI/wABCBxIsKDBgwgLBFi40ECCAQMASJxIsaLFigQCBEgAoKPHjx0RBBjJAAECAChTqlzJsqXLlzBRGgigAIDNmzhz6rzZoECAnwEMEABAtKjRo0iTKl0qQACBAwsCSJVaYEGAAQYUANjKtavXAwEIABhLtqzZs2cJDAgQoIEAAHDjyp1LF64ABAkCBGAAoK/fv4AXFAhAOIABAgASK17MuLHjx5AjS55MufLjBggSCFgQYEADAKBDiwYgYECA06hRE1itQACA17BjwyZwwEGAAAwAABBwAIDv38CDC0cQwACA48iTK1+uXMCAAgccAJhOvbr169UFJAgQ4IAAAODDi0QfT178gAADFABYz769+/YCDhQIQH9AAgD48+vfj18BA4ABBAYwQADAQYQJFSpYUCDAwwADEACgWNHiRYwZNW7k2PFiQAA7\"><title>Layer: input (input)\n shape = (28, 28, 1)\n Keras class = Input</title></image><text x=\"280.0\" y=\"582.0\" font-family=\"monospace\" font-size=\"12\" text-anchor=\"start\" alignment-baseline=\"central\">input</text><text x=\"280.0\" y=\"485\" font-family=\"monospace\" font-size=\"12\" text-anchor=\"start\" alignment-baseline=\"central\">1</text><text x=\"63.0\" y=\"675\" font-family=\"monospace\" font-size=\"12\" text-anchor=\"start\" alignment-baseline=\"central\">0</text></svg></p>"
      }
     },
     "560b0327675d41d3ace3f559d36eeb85": {
      "model_module": "@jupyter-widgets/controls",
      "model_module_version": "1.0.0",
      "model_name": "ButtonStyleModel",
      "state": {}
     },
     "562c069069674b2ebaa20a01ffb4ee9f": {
      "model_module": "@jupyter-widgets/controls",
      "model_module_version": "1.0.0",
      "model_name": "TabModel",
      "state": {
       "_titles": {
        "0": "Network",
        "1": "Help"
       },
       "children": [
        "IPY_MODEL_1211a74028034bf0ae0572ab77931e7e",
        "IPY_MODEL_015b466cd8b54511afac1448e8a7df2f"
       ],
       "layout": "IPY_MODEL_b810b87ce9f44bb487f1245f41191828"
      }
     },
     "57a9361dc46d4ca6bce353fd10912949": {
      "model_module": "@jupyter-widgets/base",
      "model_module_version": "1.0.0",
      "model_name": "LayoutModel",
      "state": {
       "height": "550px",
       "justify_content": "center",
       "overflow_x": "auto",
       "width": "100%"
      }
     },
     "57b7549f375145268cbcf9d73a88ea9a": {
      "model_module": "@jupyter-widgets/base",
      "model_module_version": "1.0.0",
      "model_name": "LayoutModel",
      "state": {}
     },
     "57fc04d3da704844a1cbad6ea89fb17a": {
      "model_module": "@jupyter-widgets/controls",
      "model_module_version": "1.0.0",
      "model_name": "IntSliderModel",
      "state": {
       "continuous_update": false,
       "description": "Dataset index",
       "disabled": true,
       "layout": "IPY_MODEL_2e6e160ab2374bd1af2ca6c2023129ed",
       "max": 0,
       "style": "IPY_MODEL_bd6665544c35498ebd8906d4e0d6900b"
      }
     },
     "5897565ac8394b1d96df3c7ba9caa404": {
      "model_module": "@jupyter-widgets/controls",
      "model_module_version": "1.0.0",
      "model_name": "VBoxModel",
      "state": {
       "children": [
        "IPY_MODEL_8276ba1b11dd46ad82dff6577788859d",
        "IPY_MODEL_4e89dd8476c44e61b95c2468ddcfbe60"
       ],
       "layout": "IPY_MODEL_9b57619c4b9f40f78afa20d59f65b592"
      }
     },
     "58ce8628f7fd426abfd963382fe41272": {
      "model_module": "@jupyter-widgets/base",
      "model_module_version": "1.0.0",
      "model_name": "LayoutModel",
      "state": {
       "width": "100%"
      }
     },
     "58f676640dbc48b1865f1e7e6f91254d": {
      "model_module": "@jupyter-widgets/base",
      "model_module_version": "1.0.0",
      "model_name": "LayoutModel",
      "state": {
       "width": "95%"
      }
     },
     "593f0f4ea5024d02824bbe6f4099e07e": {
      "model_module": "@jupyter-widgets/controls",
      "model_module_version": "1.0.0",
      "model_name": "ButtonModel",
      "state": {
       "icon": "forward",
       "layout": "IPY_MODEL_7de4619db916487c94a786962009274f",
       "style": "IPY_MODEL_6f30c899773741ca8c91e4af5ede46ca"
      }
     },
     "596d62c1a5ca42f69261a392b4ef39fb": {
      "model_module": "@jupyter-widgets/controls",
      "model_module_version": "1.0.0",
      "model_name": "ButtonModel",
      "state": {
       "icon": "forward",
       "layout": "IPY_MODEL_4b3dce59e6754caeb916a875a3490f64",
       "style": "IPY_MODEL_ffca4baf2644488480f3f48bd7a45a4d"
      }
     },
     "5a643b0a4b6b4368996b2a337ab2f6d4": {
      "model_module": "@jupyter-widgets/base",
      "model_module_version": "1.0.0",
      "model_name": "LayoutModel",
      "state": {
       "height": "550px",
       "width": "100%"
      }
     },
     "5ab7566d3a2e44bfbb4a454497280eac": {
      "model_module": "@jupyter-widgets/controls",
      "model_module_version": "1.0.0",
      "model_name": "TabModel",
      "state": {
       "_titles": {
        "0": "Network",
        "1": "Help"
       },
       "children": [
        "IPY_MODEL_a2507dd4ccdd4ce68153fbe52497fa35",
        "IPY_MODEL_393b3ab25d6745a79bb928e10ebdf26b"
       ],
       "layout": "IPY_MODEL_b1f868599dde4263a9c5980598669265"
      }
     },
     "5b1d346bb80a47abbdc43e45b5efe745": {
      "model_module": "@jupyter-widgets/controls",
      "model_module_version": "1.0.0",
      "model_name": "VBoxModel",
      "state": {
       "children": [
        "IPY_MODEL_f8cdb42da6fa4fa4a193c3ccf71f264a",
        "IPY_MODEL_6df1997a5c6a4abc8bee76378bfa2623",
        "IPY_MODEL_b99bece4d2054013b094c97f9d582fa3"
       ],
       "layout": "IPY_MODEL_1237c0cd61ab4ab3a4c913385da75f18"
      }
     },
     "5c03469683974e4c95a3a8b235a25a5d": {
      "model_module": "@jupyter-widgets/controls",
      "model_module_version": "1.0.0",
      "model_name": "DescriptionStyleModel",
      "state": {
       "description_width": ""
      }
     },
     "5d3a4e79aa5d4b2ba1498fc4070a1773": {
      "model_module": "@jupyter-widgets/base",
      "model_module_version": "1.0.0",
      "model_name": "LayoutModel",
      "state": {
       "width": "100%"
      }
     },
     "5d6ce22a531d4d1da7295faa1928142e": {
      "model_module": "@jupyter-widgets/controls",
      "model_module_version": "1.0.0",
      "model_name": "SelectModel",
      "state": {
       "_options_labels": [
        "Test",
        "Train"
       ],
       "description": "Dataset:",
       "index": 0,
       "layout": "IPY_MODEL_4a1a05f779dd4e2492bf51546afc4c32",
       "style": "IPY_MODEL_8a3aba71f2e541a69c7c958ad6de2782"
      }
     },
     "5dd5b92b037f4ca0aa511d069ed4bca6": {
      "model_module": "@jupyter-widgets/controls",
      "model_module_version": "1.0.0",
      "model_name": "ButtonModel",
      "state": {
       "icon": "forward",
       "layout": "IPY_MODEL_6e8ec78595604ba59bca34380c4b759c",
       "style": "IPY_MODEL_be11a18265b346f48598522d63b1e0e1"
      }
     },
     "5e073fbbc2d64f0e8a38783f1b278a66": {
      "model_module": "@jupyter-widgets/controls",
      "model_module_version": "1.0.0",
      "model_name": "ButtonModel",
      "state": {
       "icon": "fast-backward",
       "layout": "IPY_MODEL_caec24cd2be1492fb3403a2a0ed0afe1",
       "style": "IPY_MODEL_128df837dc3c49d18a0553e8e238ec29"
      }
     },
     "5e09f2b2b8ff4f74ba732ae4dd2af7d1": {
      "model_module": "@jupyter-widgets/controls",
      "model_module_version": "1.0.0",
      "model_name": "VBoxModel",
      "state": {
       "children": [
        "IPY_MODEL_f044c4e556ff43a28b17564db8d795ad",
        "IPY_MODEL_1cd8836073534afabe6cc020ebe1834d",
        "IPY_MODEL_72a51f0a0b4b40f9afebc9a7ecbe5774"
       ],
       "layout": "IPY_MODEL_05538dba16b4439ca41f7888b7af158e"
      }
     },
     "5f4b47705efe443782bab8e1e4a48f07": {
      "model_module": "@jupyter-widgets/controls",
      "model_module_version": "1.0.0",
      "model_name": "DescriptionStyleModel",
      "state": {
       "description_width": ""
      }
     },
     "5fc4f78782bc47ab9b971ec61f30fe70": {
      "model_module": "@jupyter-widgets/controls",
      "model_module_version": "1.0.0",
      "model_name": "ButtonStyleModel",
      "state": {}
     },
     "5fc7f3c9e4004cb3ba2e805c410b5823": {
      "model_module": "@jupyter-widgets/controls",
      "model_module_version": "1.0.0",
      "model_name": "SliderStyleModel",
      "state": {
       "description_width": ""
      }
     },
     "60f4068737ee43ae97edb0d5e7468a40": {
      "model_module": "@jupyter-widgets/controls",
      "model_module_version": "1.0.0",
      "model_name": "ButtonModel",
      "state": {
       "icon": "fast-backward",
       "layout": "IPY_MODEL_da985cc80e2547b69b94fc92b83bae94",
       "style": "IPY_MODEL_e8ef1d86c4964bdea8f4d73cf639bb43"
      }
     },
     "6135bf2397cd471ca439a9aaf874b8a7": {
      "model_module": "@jupyter-widgets/controls",
      "model_module_version": "1.0.0",
      "model_name": "ButtonModel",
      "state": {
       "icon": "forward",
       "layout": "IPY_MODEL_c4739426dc324c2580a9428d1757be87",
       "style": "IPY_MODEL_9c5090e8fa7147d594695cb3cc0bb027"
      }
     },
     "63c6aae652d540c28e1a819669327e0e": {
      "model_module": "@jupyter-widgets/base",
      "model_module_version": "1.0.0",
      "model_name": "LayoutModel",
      "state": {
       "width": "100%"
      }
     },
     "63f25326a84b4b24a7b37027b3340426": {
      "model_module": "@jupyter-widgets/controls",
      "model_module_version": "1.0.0",
      "model_name": "HTMLModel",
      "state": {
       "layout": "IPY_MODEL_c2049cc85b1f4feb83d34cb4c0f42008",
       "style": "IPY_MODEL_bf4d6253d18d43719ee96b2cb14d5d9e",
       "value": "<iframe src=\"https://conx.readthedocs.io\" width=\"100%\" height=\"550px\"></frame>"
      }
     },
     "6420ba8e6a454d85984a95bd40c85219": {
      "model_module": "@jupyter-widgets/base",
      "model_module_version": "1.0.0",
      "model_name": "LayoutModel",
      "state": {
       "width": "100%"
      }
     },
     "64b0018c7e984278bd5eecd69fda455e": {
      "model_module": "@jupyter-widgets/controls",
      "model_module_version": "1.0.0",
      "model_name": "VBoxModel",
      "state": {
       "children": [
        "IPY_MODEL_7611af78de9743458333e04c5bf459eb",
        "IPY_MODEL_06709219d44c482eae0347c62855dbe8"
       ],
       "layout": "IPY_MODEL_3aff94d6e6c24883ab5d3511262cf042"
      }
     },
     "64c424539c864fa98fffdb0cc90848e2": {
      "model_module": "@jupyter-widgets/controls",
      "model_module_version": "1.0.0",
      "model_name": "ButtonStyleModel",
      "state": {}
     },
     "659d0777f9104016a80d8be12bd053f1": {
      "model_module": "@jupyter-widgets/base",
      "model_module_version": "1.0.0",
      "model_name": "LayoutModel",
      "state": {
       "width": "100%"
      }
     },
     "65ed5403f1f644cd9267a6a8d7b12dad": {
      "model_module": "@jupyter-widgets/controls",
      "model_module_version": "1.0.0",
      "model_name": "HBoxModel",
      "state": {
       "children": [
        "IPY_MODEL_e7feae26c9c046249cf6c19b1be842f4",
        "IPY_MODEL_05873433c6b24837aa85426811527d5b",
        "IPY_MODEL_925e856d43c7449b849dd562c87d7147",
        "IPY_MODEL_0b14a14362284bf38b55fd63243fa19a",
        "IPY_MODEL_be9d51871e6344259cafe340b699bede"
       ],
       "layout": "IPY_MODEL_346dd63d6dd44f87beb13bd550ad51ee"
      }
     },
     "661d1b62d9fb46c5a9524608b806abc0": {
      "model_module": "@jupyter-widgets/controls",
      "model_module_version": "1.0.0",
      "model_name": "IntSliderModel",
      "state": {
       "continuous_update": false,
       "description": "Dataset index",
       "layout": "IPY_MODEL_951fd1ce2e0a4b0ea5cc337f478217e6",
       "max": 4,
       "style": "IPY_MODEL_90258d7babcc4ff9bf1808daae28dccc"
      }
     },
     "66214f1211b94574aa826db0f75b6807": {
      "model_module": "@jupyter-widgets/controls",
      "model_module_version": "1.0.0",
      "model_name": "ButtonStyleModel",
      "state": {}
     },
     "665fbacce44546cf82a41ca40cd0bd20": {
      "model_module": "@jupyter-widgets/base",
      "model_module_version": "1.0.0",
      "model_name": "LayoutModel",
      "state": {
       "width": "100%"
      }
     },
     "66a579685fe7499a9ce40ccc58de84b5": {
      "model_module": "@jupyter-widgets/controls",
      "model_module_version": "1.0.0",
      "model_name": "ButtonStyleModel",
      "state": {}
     },
     "6750a4ea93f5463ea1b8d9a88ddc0eda": {
      "model_module": "@jupyter-widgets/base",
      "model_module_version": "1.0.0",
      "model_name": "LayoutModel",
      "state": {
       "width": "100%"
      }
     },
     "67841f87e4714772879de0cb943dbd17": {
      "model_module": "@jupyter-widgets/base",
      "model_module_version": "1.0.0",
      "model_name": "LayoutModel",
      "state": {
       "width": "100%"
      }
     },
     "68535d62993747eca2d47071f656d855": {
      "model_module": "@jupyter-widgets/base",
      "model_module_version": "1.0.0",
      "model_name": "LayoutModel",
      "state": {
       "height": "550px",
       "width": "100%"
      }
     },
     "68ed8027d07a4efc87bdaf6de9d91b5f": {
      "model_module": "@jupyter-widgets/base",
      "model_module_version": "1.0.0",
      "model_name": "LayoutModel",
      "state": {
       "width": "100%"
      }
     },
     "692b842aab5b4fadba2b25f414d70e29": {
      "model_module": "@jupyter-widgets/base",
      "model_module_version": "1.0.0",
      "model_name": "LayoutModel",
      "state": {}
     },
     "69395d2a746643cfb1153ed8380a0e2f": {
      "model_module": "@jupyter-widgets/base",
      "model_module_version": "1.0.0",
      "model_name": "LayoutModel",
      "state": {
       "height": "550px",
       "justify_content": "center",
       "overflow_x": "auto",
       "width": "95%"
      }
     },
     "69c86aef7fc644958ada7549024f75df": {
      "model_module": "@jupyter-widgets/controls",
      "model_module_version": "1.0.0",
      "model_name": "HTMLModel",
      "state": {
       "layout": "IPY_MODEL_90edd89f2c6140f8a4da84fceab6ecc6",
       "style": "IPY_MODEL_090747def03a4c54a885e156353c7042",
       "value": "<iframe src=\"https://conx.readthedocs.io\" width=\"100%\" height=\"550px\"></frame>"
      }
     },
     "6adb175e70944ea194ad15178e75ac48": {
      "model_module": "@jupyter-widgets/controls",
      "model_module_version": "1.0.0",
      "model_name": "HTMLModel",
      "state": {
       "layout": "IPY_MODEL_b505bc2c344242febcda25947be69bd4",
       "style": "IPY_MODEL_7b5a2acc81294f109875fffc19c6b7ec",
       "value": "<iframe src=\"https://conx.readthedocs.io\" width=\"100%\" height=\"550px\"></frame>"
      }
     },
     "6c828f890cb0421c9b67f456454104b4": {
      "model_module": "@jupyter-widgets/controls",
      "model_module_version": "1.0.0",
      "model_name": "HTMLModel",
      "state": {
       "layout": "IPY_MODEL_cdd49923f21a4947a10eac7e672110c4",
       "style": "IPY_MODEL_c2666b9aedb7453c8bd1d40d18ff0228",
       "value": "<p style=\"text-align:center\"><svg id='Autoencoder' xmlns='http://www.w3.org/2000/svg' width=\"350\" height=\"235\" image-rendering=\"pixelated\">\n    <defs>\n        <marker id=\"arrow\" markerWidth=\"10\" markerHeight=\"10\" refX=\"9\" refY=\"3\" orient=\"auto\" markerUnits=\"strokeWidth\">\n          <path d=\"M0,0 L0,6 L9,3 z\" fill=\"black\" />\n        </marker>\n    </defs><text x=\"175.0\" y=\"12.5\" font-family=\"monospace\" font-size=\"15\" text-anchor=\"middle\" alignment-baseline=\"central\">Autoencoder</text><rect x=\"74.0\" y=\"29\" width=\"202\" height=\"42\" style=\"fill:none;stroke:black;stroke-width:2\"/><image id=\"Autoencoder_output_7\" class=\"Autoencoder_output\" x=\"75.0\" y=\"30\" height=\"40\" width=\"200\" preserveAspectRatio=\"none\" href=\"data:image/gif;base64,R0lGODdhBQABAIcAAHIDIHt7e5MOJs5RRgAAAAAAAAAAAAAAAAAAAAAAAAAAAAAAAAAAAAAAAAAAAAAAAAAAAAAAAAAAAAAAAAAAAAAAAAAAAAAAAAAAAAAAAAAAAAAAAAAAAAAAAAAAAAAAAAAAAAAAAAAAAAAAAAAAAAAAAAAAAAAAAAAAAAAAAAAAAAAAAAAAAAAAAAAAAAAAAAAAAAAAAAAAAAAAAAAAAAAAAAAAAAAAAAAAAAAAAAAAAAAAAAAAAAAAAAAAAAAAAAAAAAAAAAAAAAAAAAAAAAAAAAAAAAAAAAAAAAAAAAAAAAAAAAAAAAAAAAAAAAAAAAAAAAAAAAAAAAAAAAAAAAAAAAAAAAAAAAAAAAAAAAAAAAAAAAAAAAAAAAAAAAAAAAAAAAAAAAAAAAAAAAAAAAAAAAAAAAAAAAAAAAAAAAAAAAAAAAAAAAAAAAAAAAAAAAAAAAAAAAAAAAAAAAAAAAAAAAAAAAAAAAAAAAAAAAAAAAAAAAAAAAAAAAAAAAAAAAAAAAAAAAAAAAAAAAAAAAAAAAAAAAAAAAAAAAAAAAAAAAAAAAAAAAAAAAAAAAAAAAAAAAAAAAAAAAAAAAAAAAAAAAAAAAAAAAAAAAAAAAAAAAAAAAAAAAAAAAAAAAAAAAAAAAAAAAAAAAAAAAAAAAAAAAAAAAAAAAAAAAAAAAAAAAAAAAAAAAAAAAAAAAAAAAAAAAAAAAAAAAAAAAAAAAAAAAAAAAAAAAAAAAAAAAAAAAAAAAAAAAAAAAAAAAAAAAAAAAAAAAAAAAAAAAAAAAAAAAAAAAAAAAAAAAAAAAAAAAAAAAAAAAAAAAAAAAAAAAAAAAAAAAAAAAAAAAAAAAAAAAAAAAAAAAAAAAAAAAAAAAAAAAAAAAAAAAAAAAAAAAAAAAAAAAAAAAAAAAAAAAAAAAAAAAAAAAAAAAAAAAAAAAAAAAAAAAAAAAAAAAAAAAAAAAAAAAAAAAAAAAAAAAAAAAAAAAAAAAAAAAAAAAAAAAAAAAAAAAAAAAAAAAAAACwAAAAABQABAAAICAADDAAAQEBAADs=\"><title>Layer: output (output)\n shape = (5,)\n Keras class = Dense\n activation = sigmoid</title></image><text x=\"280.0\" y=\"52.0\" font-family=\"monospace\" font-size=\"12\" text-anchor=\"start\" alignment-baseline=\"central\">output</text><line x1=\"175.0\" y1=\"99\" x2=\"175.0\" y2=\"72\" stroke=\"black\" stroke-width=\"2\" marker-end=\"url(#arrow)\"><title>Weights from hidden to output\n output/kernel has shape (5, 5)\n output/bias has shape (5,)</title></line><rect x=\"74.0\" y=\"99\" width=\"202\" height=\"42\" style=\"fill:none;stroke:black;stroke-width:2\"/><image id=\"Autoencoder_hidden_8\" class=\"Autoencoder_hidden\" x=\"75.0\" y=\"100\" height=\"40\" width=\"200\" preserveAspectRatio=\"none\" href=\"data:image/gif;base64,R0lGODdhBQABAIcAAGcAHxoaGsM7OwAAAAAAAAAAAAAAAAAAAAAAAAAAAAAAAAAAAAAAAAAAAAAAAAAAAAAAAAAAAAAAAAAAAAAAAAAAAAAAAAAAAAAAAAAAAAAAAAAAAAAAAAAAAAAAAAAAAAAAAAAAAAAAAAAAAAAAAAAAAAAAAAAAAAAAAAAAAAAAAAAAAAAAAAAAAAAAAAAAAAAAAAAAAAAAAAAAAAAAAAAAAAAAAAAAAAAAAAAAAAAAAAAAAAAAAAAAAAAAAAAAAAAAAAAAAAAAAAAAAAAAAAAAAAAAAAAAAAAAAAAAAAAAAAAAAAAAAAAAAAAAAAAAAAAAAAAAAAAAAAAAAAAAAAAAAAAAAAAAAAAAAAAAAAAAAAAAAAAAAAAAAAAAAAAAAAAAAAAAAAAAAAAAAAAAAAAAAAAAAAAAAAAAAAAAAAAAAAAAAAAAAAAAAAAAAAAAAAAAAAAAAAAAAAAAAAAAAAAAAAAAAAAAAAAAAAAAAAAAAAAAAAAAAAAAAAAAAAAAAAAAAAAAAAAAAAAAAAAAAAAAAAAAAAAAAAAAAAAAAAAAAAAAAAAAAAAAAAAAAAAAAAAAAAAAAAAAAAAAAAAAAAAAAAAAAAAAAAAAAAAAAAAAAAAAAAAAAAAAAAAAAAAAAAAAAAAAAAAAAAAAAAAAAAAAAAAAAAAAAAAAAAAAAAAAAAAAAAAAAAAAAAAAAAAAAAAAAAAAAAAAAAAAAAAAAAAAAAAAAAAAAAAAAAAAAAAAAAAAAAAAAAAAAAAAAAAAAAAAAAAAAAAAAAAAAAAAAAAAAAAAAAAAAAAAAAAAAAAAAAAAAAAAAAAAAAAAAAAAAAAAAAAAAAAAAAAAAAAAAAAAAAAAAAAAAAAAAAAAAAAAAAAAAAAAAAAAAAAAAAAAAAAAAAAAAAAAAAAAAAAAAAAAAAAAAAAAAAAAAAAAAAAAAAAAAAAAAAAAAAAAAAAAAAAAAAAAAAAAAAAAAAAAAAAAAAAAAAAAAAAAAAAAAAAAAAAAAAAAAAAAAAAAAAAAACwAAAAABQABAAAICAABABAQAEBAADs=\"><title>Layer: hidden (hidden)\n shape = (5,)\n Keras class = Dense\n activation = relu</title></image><text x=\"280.0\" y=\"122.0\" font-family=\"monospace\" font-size=\"12\" text-anchor=\"start\" alignment-baseline=\"central\">hidden</text><line x1=\"175.0\" y1=\"169\" x2=\"175.0\" y2=\"142\" stroke=\"black\" stroke-width=\"2\" marker-end=\"url(#arrow)\"><title>Weights from input to hidden\n hidden/kernel has shape (5, 5)\n hidden/bias has shape (5,)</title></line><rect x=\"74.0\" y=\"169\" width=\"202\" height=\"42\" style=\"fill:none;stroke:black;stroke-width:2\"/><image id=\"Autoencoder_input_9\" class=\"Autoencoder_input\" x=\"75.0\" y=\"170\" height=\"40\" width=\"200\" preserveAspectRatio=\"none\" href=\"data:image/gif;base64,R0lGODdhBQABAIcAAGcAHxoaGgAAAAAAAAAAAAAAAAAAAAAAAAAAAAAAAAAAAAAAAAAAAAAAAAAAAAAAAAAAAAAAAAAAAAAAAAAAAAAAAAAAAAAAAAAAAAAAAAAAAAAAAAAAAAAAAAAAAAAAAAAAAAAAAAAAAAAAAAAAAAAAAAAAAAAAAAAAAAAAAAAAAAAAAAAAAAAAAAAAAAAAAAAAAAAAAAAAAAAAAAAAAAAAAAAAAAAAAAAAAAAAAAAAAAAAAAAAAAAAAAAAAAAAAAAAAAAAAAAAAAAAAAAAAAAAAAAAAAAAAAAAAAAAAAAAAAAAAAAAAAAAAAAAAAAAAAAAAAAAAAAAAAAAAAAAAAAAAAAAAAAAAAAAAAAAAAAAAAAAAAAAAAAAAAAAAAAAAAAAAAAAAAAAAAAAAAAAAAAAAAAAAAAAAAAAAAAAAAAAAAAAAAAAAAAAAAAAAAAAAAAAAAAAAAAAAAAAAAAAAAAAAAAAAAAAAAAAAAAAAAAAAAAAAAAAAAAAAAAAAAAAAAAAAAAAAAAAAAAAAAAAAAAAAAAAAAAAAAAAAAAAAAAAAAAAAAAAAAAAAAAAAAAAAAAAAAAAAAAAAAAAAAAAAAAAAAAAAAAAAAAAAAAAAAAAAAAAAAAAAAAAAAAAAAAAAAAAAAAAAAAAAAAAAAAAAAAAAAAAAAAAAAAAAAAAAAAAAAAAAAAAAAAAAAAAAAAAAAAAAAAAAAAAAAAAAAAAAAAAAAAAAAAAAAAAAAAAAAAAAAAAAAAAAAAAAAAAAAAAAAAAAAAAAAAAAAAAAAAAAAAAAAAAAAAAAAAAAAAAAAAAAAAAAAAAAAAAAAAAAAAAAAAAAAAAAAAAAAAAAAAAAAAAAAAAAAAAAAAAAAAAAAAAAAAAAAAAAAAAAAAAAAAAAAAAAAAAAAAAAAAAAAAAAAAAAAAAAAAAAAAAAAAAAAAAAAAAAAAAAAAAAAAAAAAAAAAAAAAAAAAAAAAAAAAAAAAAAAAAAAAAAAAAAAAAAAAAAAAAAAAAAAAAAAAAAAAAACwAAAAABQABAAAIBwADABgIICAAOw==\"><title>Layer: input (input)\n shape = (5,)\n Keras class = Input</title></image><text x=\"280.0\" y=\"192.0\" font-family=\"monospace\" font-size=\"12\" text-anchor=\"start\" alignment-baseline=\"central\">input</text></svg></p>"
      }
     },
     "6cd465215609431682c4ac8b85c2c47c": {
      "model_module": "@jupyter-widgets/base",
      "model_module_version": "1.0.0",
      "model_name": "LayoutModel",
      "state": {
       "height": "550px",
       "width": "100%"
      }
     },
     "6d5411bbdc6e41e6a8588fd9505829b5": {
      "model_module": "@jupyter-widgets/base",
      "model_module_version": "1.0.0",
      "model_name": "LayoutModel",
      "state": {}
     },
     "6df1997a5c6a4abc8bee76378bfa2623": {
      "model_module": "@jupyter-widgets/controls",
      "model_module_version": "1.0.0",
      "model_name": "IntSliderModel",
      "state": {
       "continuous_update": false,
       "description": "Dataset index",
       "layout": "IPY_MODEL_bbe3b4d966ed4917987c061c4eb54c7e",
       "max": 4,
       "style": "IPY_MODEL_5fc7f3c9e4004cb3ba2e805c410b5823",
       "value": 2
      }
     },
     "6e5eb337fb634c229d516c18c01e6612": {
      "model_module": "@jupyter-widgets/controls",
      "model_module_version": "1.0.0",
      "model_name": "TabModel",
      "state": {
       "_titles": {
        "0": "Network",
        "1": "Help"
       },
       "children": [
        "IPY_MODEL_8f224ca8fe3b4f7e9c3bf3cdd9ce3c52",
        "IPY_MODEL_3318ac5cdba443008d5ab20123d730dd"
       ],
       "layout": "IPY_MODEL_1321e55327914b8cb10871cf045b8842"
      }
     },
     "6e74bf895b924462ae10e0196fa847f1": {
      "model_module": "@jupyter-widgets/controls",
      "model_module_version": "1.0.0",
      "model_name": "VBoxModel",
      "state": {
       "children": [
        "IPY_MODEL_891429df0dea4d57a5c56dff4de536fc",
        "IPY_MODEL_57fc04d3da704844a1cbad6ea89fb17a",
        "IPY_MODEL_9bbcde93237548eab19e89c5003c0e29"
       ],
       "layout": "IPY_MODEL_256235a1600e47f883f5f3376a5edc1b"
      }
     },
     "6e8ec78595604ba59bca34380c4b759c": {
      "model_module": "@jupyter-widgets/base",
      "model_module_version": "1.0.0",
      "model_name": "LayoutModel",
      "state": {
       "width": "100%"
      }
     },
     "6f30c899773741ca8c91e4af5ede46ca": {
      "model_module": "@jupyter-widgets/controls",
      "model_module_version": "1.0.0",
      "model_name": "ButtonStyleModel",
      "state": {}
     },
     "6f7053a8cca04c69b3cbfc470944e51a": {
      "model_module": "@jupyter-widgets/controls",
      "model_module_version": "1.0.0",
      "model_name": "ButtonModel",
      "state": {
       "icon": "fast-forward",
       "layout": "IPY_MODEL_2c07fbf37501432393d12c8b0b43530d",
       "style": "IPY_MODEL_9a1203e782844fddb065709496e2f9de"
      }
     },
     "7087f493c34a4524b27c5c7ebb202490": {
      "model_module": "@jupyter-widgets/controls",
      "model_module_version": "1.0.0",
      "model_name": "ButtonModel",
      "state": {
       "icon": "backward",
       "layout": "IPY_MODEL_52e720262fd4429088db80cc47287526",
       "style": "IPY_MODEL_497f0cac5d30455286dbac544b460842"
      }
     },
     "70d21cca1a904fb289be1c36b0e78ebb": {
      "model_module": "@jupyter-widgets/controls",
      "model_module_version": "1.0.0",
      "model_name": "SliderStyleModel",
      "state": {
       "description_width": ""
      }
     },
     "715e33074e5a48f7947ac9f1c15d377e": {
      "model_module": "@jupyter-widgets/controls",
      "model_module_version": "1.0.0",
      "model_name": "TabModel",
      "state": {
       "_titles": {
        "0": "Network",
        "1": "Help"
       },
       "children": [
        "IPY_MODEL_0275732be13646c1922b63138da43763",
        "IPY_MODEL_34a2657a54de464fb5209e3f4d7db530"
       ],
       "layout": "IPY_MODEL_beeef6232ab145f7956fd07d0c54975d"
      }
     },
     "71ba846475e34d09917890b0167c4780": {
      "model_module": "@jupyter-widgets/controls",
      "model_module_version": "1.0.0",
      "model_name": "SelectModel",
      "state": {
       "_options_labels": [
        "Test",
        "Train"
       ],
       "description": "Dataset:",
       "index": 1,
       "layout": "IPY_MODEL_8ec810648d7b474cb374daa7cfac89cb",
       "style": "IPY_MODEL_3760b4104eb04520a29a7eae7966a307"
      }
     },
     "72417f8c99c749aa91b8a6b9b4beb593": {
      "model_module": "@jupyter-widgets/base",
      "model_module_version": "1.0.0",
      "model_name": "LayoutModel",
      "state": {
       "width": "100%"
      }
     },
     "72a51f0a0b4b40f9afebc9a7ecbe5774": {
      "model_module": "@jupyter-widgets/controls",
      "model_module_version": "1.0.0",
      "model_name": "HBoxModel",
      "state": {
       "children": [
        "IPY_MODEL_f63726f60f63445291897e7b0722eb33",
        "IPY_MODEL_c88852ec673e4f8a88cceaa62de705b1",
        "IPY_MODEL_e8f12a346fa04a299c41f638471ea932",
        "IPY_MODEL_596d62c1a5ca42f69261a392b4ef39fb",
        "IPY_MODEL_6f7053a8cca04c69b3cbfc470944e51a"
       ],
       "layout": "IPY_MODEL_7d67c6b308c342d99e0695a7058989d8"
      }
     },
     "72d71fdb62394108a10f6a3ddb56f490": {
      "model_module": "@jupyter-widgets/controls",
      "model_module_version": "1.0.0",
      "model_name": "HTMLModel",
      "state": {
       "layout": "IPY_MODEL_6cd465215609431682c4ac8b85c2c47c",
       "style": "IPY_MODEL_0a12a781b241472c9d4345da26ac778a",
       "value": "<iframe src=\"https://conx.readthedocs.io\" width=\"100%\" height=\"550px\"></frame>"
      }
     },
     "72ee4a025b6d409b99decb7e14a71d81": {
      "model_module": "@jupyter-widgets/controls",
      "model_module_version": "1.0.0",
      "model_name": "ButtonStyleModel",
      "state": {}
     },
     "74119cb41d3a4b5cbc813e8a6d3be553": {
      "model_module": "@jupyter-widgets/base",
      "model_module_version": "1.0.0",
      "model_name": "LayoutModel",
      "state": {
       "width": "100%"
      }
     },
     "74332709a1ab495d8e74ac500e414527": {
      "model_module": "@jupyter-widgets/controls",
      "model_module_version": "1.0.0",
      "model_name": "ButtonModel",
      "state": {
       "description": "Train",
       "disabled": true,
       "layout": "IPY_MODEL_964091e602394ab7aa2e1d855231937f",
       "style": "IPY_MODEL_fa17f701e9b24e30b773f6b7ecc07479"
      }
     },
     "7457dd3bc68e4995a9958752c3fd9403": {
      "model_module": "@jupyter-widgets/controls",
      "model_module_version": "1.0.0",
      "model_name": "DescriptionStyleModel",
      "state": {
       "description_width": ""
      }
     },
     "75921e4da5b148679132ba6cb1dea5b1": {
      "model_module": "@jupyter-widgets/controls",
      "model_module_version": "1.0.0",
      "model_name": "SelectModel",
      "state": {
       "_options_labels": [
        "Test",
        "Train"
       ],
       "description": "Dataset:",
       "index": 1,
       "layout": "IPY_MODEL_85f4e1d5b79844049b7c982fbfb2a43c",
       "rows": 1,
       "style": "IPY_MODEL_39f2196e397e469f978dc8aa86b8407f"
      }
     },
     "7606e9df4bbd4b109f356b7a7fd06293": {
      "model_module": "@jupyter-widgets/base",
      "model_module_version": "1.0.0",
      "model_name": "LayoutModel",
      "state": {
       "height": "550px",
       "width": "100%"
      }
     },
     "7611af78de9743458333e04c5bf459eb": {
      "model_module": "@jupyter-widgets/controls",
      "model_module_version": "1.0.0",
      "model_name": "HTMLModel",
      "state": {
       "layout": "IPY_MODEL_2e5c7f2905b04a18abb22b211c09da18",
       "style": "IPY_MODEL_b6bf6ffe420b4ec3b8613fecce89b6c4",
       "value": "<p style=\"text-align:center\"><svg id='Autoencoder' xmlns='http://www.w3.org/2000/svg' width=\"350\" height=\"235\" image-rendering=\"pixelated\">\n    <defs>\n        <marker id=\"arrow\" markerWidth=\"10\" markerHeight=\"10\" refX=\"9\" refY=\"3\" orient=\"auto\" markerUnits=\"strokeWidth\">\n          <path d=\"M0,0 L0,6 L9,3 z\" fill=\"black\" />\n        </marker>\n    </defs><text x=\"175.0\" y=\"12.5\" font-family=\"monospace\" font-size=\"15\" text-anchor=\"middle\" alignment-baseline=\"central\">Autoencoder</text><rect x=\"74.0\" y=\"29\" width=\"202\" height=\"42\" style=\"fill:none;stroke:black;stroke-width:2\"/><image id=\"Autoencoder_output_7\" class=\"Autoencoder_output\" x=\"75.0\" y=\"30\" height=\"40\" width=\"200\" preserveAspectRatio=\"none\" href=\"data:image/gif;base64,R0lGODdhBQABAIcAAGcAH4cKJK2tre+begAAAAAAAAAAAAAAAAAAAAAAAAAAAAAAAAAAAAAAAAAAAAAAAAAAAAAAAAAAAAAAAAAAAAAAAAAAAAAAAAAAAAAAAAAAAAAAAAAAAAAAAAAAAAAAAAAAAAAAAAAAAAAAAAAAAAAAAAAAAAAAAAAAAAAAAAAAAAAAAAAAAAAAAAAAAAAAAAAAAAAAAAAAAAAAAAAAAAAAAAAAAAAAAAAAAAAAAAAAAAAAAAAAAAAAAAAAAAAAAAAAAAAAAAAAAAAAAAAAAAAAAAAAAAAAAAAAAAAAAAAAAAAAAAAAAAAAAAAAAAAAAAAAAAAAAAAAAAAAAAAAAAAAAAAAAAAAAAAAAAAAAAAAAAAAAAAAAAAAAAAAAAAAAAAAAAAAAAAAAAAAAAAAAAAAAAAAAAAAAAAAAAAAAAAAAAAAAAAAAAAAAAAAAAAAAAAAAAAAAAAAAAAAAAAAAAAAAAAAAAAAAAAAAAAAAAAAAAAAAAAAAAAAAAAAAAAAAAAAAAAAAAAAAAAAAAAAAAAAAAAAAAAAAAAAAAAAAAAAAAAAAAAAAAAAAAAAAAAAAAAAAAAAAAAAAAAAAAAAAAAAAAAAAAAAAAAAAAAAAAAAAAAAAAAAAAAAAAAAAAAAAAAAAAAAAAAAAAAAAAAAAAAAAAAAAAAAAAAAAAAAAAAAAAAAAAAAAAAAAAAAAAAAAAAAAAAAAAAAAAAAAAAAAAAAAAAAAAAAAAAAAAAAAAAAAAAAAAAAAAAAAAAAAAAAAAAAAAAAAAAAAAAAAAAAAAAAAAAAAAAAAAAAAAAAAAAAAAAAAAAAAAAAAAAAAAAAAAAAAAAAAAAAAAAAAAAAAAAAAAAAAAAAAAAAAAAAAAAAAAAAAAAAAAAAAAAAAAAAAAAAAAAAAAAAAAAAAAAAAAAAAAAAAAAAAAAAAAAAAAAAAAAAAAAAAAAAAAAAAAAAAAAAAAAAAAAAAAAAAAAAAAAAAAAAAAAAAAAAAAAAAAAAAAAAAAAAAAAAAAAAAAAAACwAAAAABQABAAAICAAFAAgwAEBAADs=\"><title>Layer: output (output)\n shape = (5,)\n Keras class = Dense\n activation = sigmoid</title></image><text x=\"280.0\" y=\"52.0\" font-family=\"monospace\" font-size=\"12\" text-anchor=\"start\" alignment-baseline=\"central\">output</text><line x1=\"175.0\" y1=\"99\" x2=\"175.0\" y2=\"72\" stroke=\"black\" stroke-width=\"2\" marker-end=\"url(#arrow)\"><title>Weights from hidden to output\n output/kernel has shape (5, 5)\n output/bias has shape (5,)</title></line><rect x=\"74.0\" y=\"99\" width=\"202\" height=\"42\" style=\"fill:none;stroke:black;stroke-width:2\"/><image id=\"Autoencoder_hidden_8\" class=\"Autoencoder_hidden\" x=\"75.0\" y=\"100\" height=\"40\" width=\"200\" preserveAspectRatio=\"none\" href=\"data:image/gif;base64,R0lGODdhBQABAIcAAGcAHxoaGlRUVJGRkQAAAAAAAAAAAAAAAAAAAAAAAAAAAAAAAAAAAAAAAAAAAAAAAAAAAAAAAAAAAAAAAAAAAAAAAAAAAAAAAAAAAAAAAAAAAAAAAAAAAAAAAAAAAAAAAAAAAAAAAAAAAAAAAAAAAAAAAAAAAAAAAAAAAAAAAAAAAAAAAAAAAAAAAAAAAAAAAAAAAAAAAAAAAAAAAAAAAAAAAAAAAAAAAAAAAAAAAAAAAAAAAAAAAAAAAAAAAAAAAAAAAAAAAAAAAAAAAAAAAAAAAAAAAAAAAAAAAAAAAAAAAAAAAAAAAAAAAAAAAAAAAAAAAAAAAAAAAAAAAAAAAAAAAAAAAAAAAAAAAAAAAAAAAAAAAAAAAAAAAAAAAAAAAAAAAAAAAAAAAAAAAAAAAAAAAAAAAAAAAAAAAAAAAAAAAAAAAAAAAAAAAAAAAAAAAAAAAAAAAAAAAAAAAAAAAAAAAAAAAAAAAAAAAAAAAAAAAAAAAAAAAAAAAAAAAAAAAAAAAAAAAAAAAAAAAAAAAAAAAAAAAAAAAAAAAAAAAAAAAAAAAAAAAAAAAAAAAAAAAAAAAAAAAAAAAAAAAAAAAAAAAAAAAAAAAAAAAAAAAAAAAAAAAAAAAAAAAAAAAAAAAAAAAAAAAAAAAAAAAAAAAAAAAAAAAAAAAAAAAAAAAAAAAAAAAAAAAAAAAAAAAAAAAAAAAAAAAAAAAAAAAAAAAAAAAAAAAAAAAAAAAAAAAAAAAAAAAAAAAAAAAAAAAAAAAAAAAAAAAAAAAAAAAAAAAAAAAAAAAAAAAAAAAAAAAAAAAAAAAAAAAAAAAAAAAAAAAAAAAAAAAAAAAAAAAAAAAAAAAAAAAAAAAAAAAAAAAAAAAAAAAAAAAAAAAAAAAAAAAAAAAAAAAAAAAAAAAAAAAAAAAAAAAAAAAAAAAAAAAAAAAAAAAAAAAAAAAAAAAAAAAAAAAAAAAAAAAAAAAAAAAAAAAAAAAAAAAAAAAAAAAAAAAAAAAAAAAAAAAAAAAAAAACwAAAAABQABAAAICAABBBAwAEBAADs=\"><title>Layer: hidden (hidden)\n shape = (5,)\n Keras class = Dense\n activation = relu</title></image><text x=\"280.0\" y=\"122.0\" font-family=\"monospace\" font-size=\"12\" text-anchor=\"start\" alignment-baseline=\"central\">hidden</text><line x1=\"175.0\" y1=\"169\" x2=\"175.0\" y2=\"142\" stroke=\"black\" stroke-width=\"2\" marker-end=\"url(#arrow)\"><title>Weights from input to hidden\n hidden/kernel has shape (5, 5)\n hidden/bias has shape (5,)</title></line><rect x=\"74.0\" y=\"169\" width=\"202\" height=\"42\" style=\"fill:none;stroke:black;stroke-width:2\"/><image id=\"Autoencoder_input_9\" class=\"Autoencoder_input\" x=\"75.0\" y=\"170\" height=\"40\" width=\"200\" preserveAspectRatio=\"none\" href=\"data:image/gif;base64,R0lGODdhBQABAIcAAGcAHxoaGgAAAAAAAAAAAAAAAAAAAAAAAAAAAAAAAAAAAAAAAAAAAAAAAAAAAAAAAAAAAAAAAAAAAAAAAAAAAAAAAAAAAAAAAAAAAAAAAAAAAAAAAAAAAAAAAAAAAAAAAAAAAAAAAAAAAAAAAAAAAAAAAAAAAAAAAAAAAAAAAAAAAAAAAAAAAAAAAAAAAAAAAAAAAAAAAAAAAAAAAAAAAAAAAAAAAAAAAAAAAAAAAAAAAAAAAAAAAAAAAAAAAAAAAAAAAAAAAAAAAAAAAAAAAAAAAAAAAAAAAAAAAAAAAAAAAAAAAAAAAAAAAAAAAAAAAAAAAAAAAAAAAAAAAAAAAAAAAAAAAAAAAAAAAAAAAAAAAAAAAAAAAAAAAAAAAAAAAAAAAAAAAAAAAAAAAAAAAAAAAAAAAAAAAAAAAAAAAAAAAAAAAAAAAAAAAAAAAAAAAAAAAAAAAAAAAAAAAAAAAAAAAAAAAAAAAAAAAAAAAAAAAAAAAAAAAAAAAAAAAAAAAAAAAAAAAAAAAAAAAAAAAAAAAAAAAAAAAAAAAAAAAAAAAAAAAAAAAAAAAAAAAAAAAAAAAAAAAAAAAAAAAAAAAAAAAAAAAAAAAAAAAAAAAAAAAAAAAAAAAAAAAAAAAAAAAAAAAAAAAAAAAAAAAAAAAAAAAAAAAAAAAAAAAAAAAAAAAAAAAAAAAAAAAAAAAAAAAAAAAAAAAAAAAAAAAAAAAAAAAAAAAAAAAAAAAAAAAAAAAAAAAAAAAAAAAAAAAAAAAAAAAAAAAAAAAAAAAAAAAAAAAAAAAAAAAAAAAAAAAAAAAAAAAAAAAAAAAAAAAAAAAAAAAAAAAAAAAAAAAAAAAAAAAAAAAAAAAAAAAAAAAAAAAAAAAAAAAAAAAAAAAAAAAAAAAAAAAAAAAAAAAAAAAAAAAAAAAAAAAAAAAAAAAAAAAAAAAAAAAAAAAAAAAAAAAAAAAAAAAAAAAAAAAAAAAAAAAAAAAAAAAAAAAAAAAAAAAAAAAAAAAAAAAAAAAAAAACwAAAAABQABAAAIBwADABgIICAAOw==\"><title>Layer: input (input)\n shape = (5,)\n Keras class = Input</title></image><text x=\"280.0\" y=\"192.0\" font-family=\"monospace\" font-size=\"12\" text-anchor=\"start\" alignment-baseline=\"central\">input</text></svg></p>"
      }
     },
     "762545631c534ad6b714041a082ddaa6": {
      "model_module": "@jupyter-widgets/controls",
      "model_module_version": "1.0.0",
      "model_name": "ButtonModel",
      "state": {
       "icon": "fast-forward",
       "layout": "IPY_MODEL_496ae422a13c4f2db5bf208132d72974",
       "style": "IPY_MODEL_2e1639dc4c614122923034b6db037057"
      }
     },
     "77d85df9d5be4067864982a6a30a7eab": {
      "model_module": "@jupyter-widgets/base",
      "model_module_version": "1.0.0",
      "model_name": "LayoutModel",
      "state": {
       "height": "550px",
       "width": "100%"
      }
     },
     "795a020ef0844b0ab1abb21d0072d5d8": {
      "model_module": "@jupyter-widgets/controls",
      "model_module_version": "1.0.0",
      "model_name": "IntSliderModel",
      "state": {
       "continuous_update": false,
       "description": "Dataset index",
       "disabled": true,
       "layout": "IPY_MODEL_f80138ab12be466abe5e134fa2d8cc26",
       "max": 0,
       "style": "IPY_MODEL_04fe15215e884e8eb1988e15785eccd1"
      }
     },
     "7aa2acae67414eae9490cd126a39bf13": {
      "model_module": "@jupyter-widgets/base",
      "model_module_version": "1.0.0",
      "model_name": "LayoutModel",
      "state": {
       "height": "550px",
       "width": "95%"
      }
     },
     "7ad32b404d9a4d4d87a9d3d664a964ca": {
      "model_module": "@jupyter-widgets/controls",
      "model_module_version": "1.0.0",
      "model_name": "ButtonModel",
      "state": {
       "icon": "fast-backward",
       "layout": "IPY_MODEL_c3f201c667284b2099eabcd2aabb616c",
       "style": "IPY_MODEL_560b0327675d41d3ace3f559d36eeb85"
      }
     },
     "7b5a2acc81294f109875fffc19c6b7ec": {
      "model_module": "@jupyter-widgets/controls",
      "model_module_version": "1.0.0",
      "model_name": "DescriptionStyleModel",
      "state": {
       "description_width": ""
      }
     },
     "7c08f521db8747c786cb0cb0373c72db": {
      "model_module": "@jupyter-widgets/controls",
      "model_module_version": "1.0.0",
      "model_name": "ButtonStyleModel",
      "state": {}
     },
     "7cd144d204da4b8a8340ab7d73168e46": {
      "model_module": "@jupyter-widgets/controls",
      "model_module_version": "1.0.0",
      "model_name": "HTMLModel",
      "state": {
       "layout": "IPY_MODEL_070d2fcfde6d476eb6770893da004019",
       "style": "IPY_MODEL_4b035c4d6a6648e2807bd23abc6af308",
       "value": "<p style=\"text-align:center\"><svg id='Autoencoder' xmlns='http://www.w3.org/2000/svg' width=\"350\" height=\"235\" image-rendering=\"pixelated\">\n    <defs>\n        <marker id=\"arrow\" markerWidth=\"10\" markerHeight=\"10\" refX=\"9\" refY=\"3\" orient=\"auto\" markerUnits=\"strokeWidth\">\n          <path d=\"M0,0 L0,6 L9,3 z\" fill=\"black\" />\n        </marker>\n    </defs><text x=\"175.0\" y=\"12.5\" font-family=\"monospace\" font-size=\"15\" text-anchor=\"middle\" alignment-baseline=\"central\">Autoencoder</text><rect x=\"74.0\" y=\"29\" width=\"202\" height=\"42\" style=\"fill:none;stroke:black;stroke-width:2\"/><image id=\"Autoencoder_output_7\" class=\"Autoencoder_output\" x=\"75.0\" y=\"30\" height=\"40\" width=\"200\" preserveAspectRatio=\"none\" href=\"data:image/gif;base64,R0lGODdhBQABAIcAAGcAHzQ0NHUEIQAAAAAAAAAAAAAAAAAAAAAAAAAAAAAAAAAAAAAAAAAAAAAAAAAAAAAAAAAAAAAAAAAAAAAAAAAAAAAAAAAAAAAAAAAAAAAAAAAAAAAAAAAAAAAAAAAAAAAAAAAAAAAAAAAAAAAAAAAAAAAAAAAAAAAAAAAAAAAAAAAAAAAAAAAAAAAAAAAAAAAAAAAAAAAAAAAAAAAAAAAAAAAAAAAAAAAAAAAAAAAAAAAAAAAAAAAAAAAAAAAAAAAAAAAAAAAAAAAAAAAAAAAAAAAAAAAAAAAAAAAAAAAAAAAAAAAAAAAAAAAAAAAAAAAAAAAAAAAAAAAAAAAAAAAAAAAAAAAAAAAAAAAAAAAAAAAAAAAAAAAAAAAAAAAAAAAAAAAAAAAAAAAAAAAAAAAAAAAAAAAAAAAAAAAAAAAAAAAAAAAAAAAAAAAAAAAAAAAAAAAAAAAAAAAAAAAAAAAAAAAAAAAAAAAAAAAAAAAAAAAAAAAAAAAAAAAAAAAAAAAAAAAAAAAAAAAAAAAAAAAAAAAAAAAAAAAAAAAAAAAAAAAAAAAAAAAAAAAAAAAAAAAAAAAAAAAAAAAAAAAAAAAAAAAAAAAAAAAAAAAAAAAAAAAAAAAAAAAAAAAAAAAAAAAAAAAAAAAAAAAAAAAAAAAAAAAAAAAAAAAAAAAAAAAAAAAAAAAAAAAAAAAAAAAAAAAAAAAAAAAAAAAAAAAAAAAAAAAAAAAAAAAAAAAAAAAAAAAAAAAAAAAAAAAAAAAAAAAAAAAAAAAAAAAAAAAAAAAAAAAAAAAAAAAAAAAAAAAAAAAAAAAAAAAAAAAAAAAAAAAAAAAAAAAAAAAAAAAAAAAAAAAAAAAAAAAAAAAAAAAAAAAAAAAAAAAAAAAAAAAAAAAAAAAAAAAAAAAAAAAAAAAAAAAAAAAAAAAAAAAAAAAAAAAAAAAAAAAAAAAAAAAAAAAAAAAAAAAAAAAAAAAAAAAAAAAAAAAAAAAAAAAAAAAAAAAAAAAAAAAAAAAAAAAAACwAAAAABQABAAAICAADAAAgAEBAADs=\"><title>Layer: output (output)\n shape = (5,)\n Keras class = Dense\n activation = sigmoid</title></image><text x=\"280.0\" y=\"52.0\" font-family=\"monospace\" font-size=\"12\" text-anchor=\"start\" alignment-baseline=\"central\">output</text><line x1=\"175.0\" y1=\"99\" x2=\"175.0\" y2=\"72\" stroke=\"black\" stroke-width=\"2\" marker-end=\"url(#arrow)\"><title>Weights from hidden to output\n output/kernel has shape (5, 5)\n output/bias has shape (5,)</title></line><rect x=\"74.0\" y=\"99\" width=\"202\" height=\"42\" style=\"fill:none;stroke:black;stroke-width:2\"/><image id=\"Autoencoder_hidden_8\" class=\"Autoencoder_hidden\" x=\"75.0\" y=\"100\" height=\"40\" width=\"200\" preserveAspectRatio=\"none\" href=\"data:image/gif;base64,R0lGODdhBQABAIcAAPfy7xoaGiwsLKcUKQAAAAAAAAAAAAAAAAAAAAAAAAAAAAAAAAAAAAAAAAAAAAAAAAAAAAAAAAAAAAAAAAAAAAAAAAAAAAAAAAAAAAAAAAAAAAAAAAAAAAAAAAAAAAAAAAAAAAAAAAAAAAAAAAAAAAAAAAAAAAAAAAAAAAAAAAAAAAAAAAAAAAAAAAAAAAAAAAAAAAAAAAAAAAAAAAAAAAAAAAAAAAAAAAAAAAAAAAAAAAAAAAAAAAAAAAAAAAAAAAAAAAAAAAAAAAAAAAAAAAAAAAAAAAAAAAAAAAAAAAAAAAAAAAAAAAAAAAAAAAAAAAAAAAAAAAAAAAAAAAAAAAAAAAAAAAAAAAAAAAAAAAAAAAAAAAAAAAAAAAAAAAAAAAAAAAAAAAAAAAAAAAAAAAAAAAAAAAAAAAAAAAAAAAAAAAAAAAAAAAAAAAAAAAAAAAAAAAAAAAAAAAAAAAAAAAAAAAAAAAAAAAAAAAAAAAAAAAAAAAAAAAAAAAAAAAAAAAAAAAAAAAAAAAAAAAAAAAAAAAAAAAAAAAAAAAAAAAAAAAAAAAAAAAAAAAAAAAAAAAAAAAAAAAAAAAAAAAAAAAAAAAAAAAAAAAAAAAAAAAAAAAAAAAAAAAAAAAAAAAAAAAAAAAAAAAAAAAAAAAAAAAAAAAAAAAAAAAAAAAAAAAAAAAAAAAAAAAAAAAAAAAAAAAAAAAAAAAAAAAAAAAAAAAAAAAAAAAAAAAAAAAAAAAAAAAAAAAAAAAAAAAAAAAAAAAAAAAAAAAAAAAAAAAAAAAAAAAAAAAAAAAAAAAAAAAAAAAAAAAAAAAAAAAAAAAAAAAAAAAAAAAAAAAAAAAAAAAAAAAAAAAAAAAAAAAAAAAAAAAAAAAAAAAAAAAAAAAAAAAAAAAAAAAAAAAAAAAAAAAAAAAAAAAAAAAAAAAAAAAAAAAAAAAAAAAAAAAAAAAAAAAAAAAAAAAAAAAAAAAAAAAAAAAAAAAAAAAAAAAAAAAAAAAAAAAAAAAAAAAAAAAAAACwAAAAABQABAAAICAAHBAAAQEBAADs=\"><title>Layer: hidden (hidden)\n shape = (5,)\n Keras class = Dense\n activation = relu</title></image><text x=\"280.0\" y=\"122.0\" font-family=\"monospace\" font-size=\"12\" text-anchor=\"start\" alignment-baseline=\"central\">hidden</text><line x1=\"175.0\" y1=\"169\" x2=\"175.0\" y2=\"142\" stroke=\"black\" stroke-width=\"2\" marker-end=\"url(#arrow)\"><title>Weights from input to hidden\n hidden/kernel has shape (5, 5)\n hidden/bias has shape (5,)</title></line><rect x=\"74.0\" y=\"169\" width=\"202\" height=\"42\" style=\"fill:none;stroke:black;stroke-width:2\"/><image id=\"Autoencoder_input_9\" class=\"Autoencoder_input\" x=\"75.0\" y=\"170\" height=\"40\" width=\"200\" preserveAspectRatio=\"none\" href=\"data:image/gif;base64,R0lGODdhBQABAIcAAGcAHxoaGgAAAAAAAAAAAAAAAAAAAAAAAAAAAAAAAAAAAAAAAAAAAAAAAAAAAAAAAAAAAAAAAAAAAAAAAAAAAAAAAAAAAAAAAAAAAAAAAAAAAAAAAAAAAAAAAAAAAAAAAAAAAAAAAAAAAAAAAAAAAAAAAAAAAAAAAAAAAAAAAAAAAAAAAAAAAAAAAAAAAAAAAAAAAAAAAAAAAAAAAAAAAAAAAAAAAAAAAAAAAAAAAAAAAAAAAAAAAAAAAAAAAAAAAAAAAAAAAAAAAAAAAAAAAAAAAAAAAAAAAAAAAAAAAAAAAAAAAAAAAAAAAAAAAAAAAAAAAAAAAAAAAAAAAAAAAAAAAAAAAAAAAAAAAAAAAAAAAAAAAAAAAAAAAAAAAAAAAAAAAAAAAAAAAAAAAAAAAAAAAAAAAAAAAAAAAAAAAAAAAAAAAAAAAAAAAAAAAAAAAAAAAAAAAAAAAAAAAAAAAAAAAAAAAAAAAAAAAAAAAAAAAAAAAAAAAAAAAAAAAAAAAAAAAAAAAAAAAAAAAAAAAAAAAAAAAAAAAAAAAAAAAAAAAAAAAAAAAAAAAAAAAAAAAAAAAAAAAAAAAAAAAAAAAAAAAAAAAAAAAAAAAAAAAAAAAAAAAAAAAAAAAAAAAAAAAAAAAAAAAAAAAAAAAAAAAAAAAAAAAAAAAAAAAAAAAAAAAAAAAAAAAAAAAAAAAAAAAAAAAAAAAAAAAAAAAAAAAAAAAAAAAAAAAAAAAAAAAAAAAAAAAAAAAAAAAAAAAAAAAAAAAAAAAAAAAAAAAAAAAAAAAAAAAAAAAAAAAAAAAAAAAAAAAAAAAAAAAAAAAAAAAAAAAAAAAAAAAAAAAAAAAAAAAAAAAAAAAAAAAAAAAAAAAAAAAAAAAAAAAAAAAAAAAAAAAAAAAAAAAAAAAAAAAAAAAAAAAAAAAAAAAAAAAAAAAAAAAAAAAAAAAAAAAAAAAAAAAAAAAAAAAAAAAAAAAAAAAAAAAAAAAAAAAAAAAAAAAAAAAAAAAAAAAAAAAAAAACwAAAAABQABAAAIBwADABgIICAAOw==\"><title>Layer: input (input)\n shape = (5,)\n Keras class = Input</title></image><text x=\"280.0\" y=\"192.0\" font-family=\"monospace\" font-size=\"12\" text-anchor=\"start\" alignment-baseline=\"central\">input</text></svg></p>"
      }
     },
     "7cfe72f95a4243cfac75705a6ecfa06f": {
      "model_module": "@jupyter-widgets/controls",
      "model_module_version": "1.0.0",
      "model_name": "VBoxModel",
      "state": {
       "children": [
        "IPY_MODEL_2ba72760464b49a386a9bbb6aecb42d8",
        "IPY_MODEL_9a7c7c349fda4883a3ee214f2cf26366",
        "IPY_MODEL_2d09dff0e92148fcbd844151d20e1ea2"
       ],
       "layout": "IPY_MODEL_031caa7e9f2346ae836b6ce717148a83"
      }
     },
     "7d67c6b308c342d99e0695a7058989d8": {
      "model_module": "@jupyter-widgets/base",
      "model_module_version": "1.0.0",
      "model_name": "LayoutModel",
      "state": {
       "width": "95%"
      }
     },
     "7d6f30760bb547989738bf45e556de4b": {
      "model_module": "@jupyter-widgets/controls",
      "model_module_version": "1.0.0",
      "model_name": "ButtonModel",
      "state": {
       "description": "Train",
       "layout": "IPY_MODEL_31bcdfc28ec94965bc8e52b187070f20",
       "style": "IPY_MODEL_e132f1fd8f534bdb9896787967c77265"
      }
     },
     "7d978d23c13147619c3f78ae142ead2c": {
      "model_module": "@jupyter-widgets/controls",
      "model_module_version": "1.0.0",
      "model_name": "ButtonModel",
      "state": {
       "icon": "forward",
       "layout": "IPY_MODEL_a311090f559c4766b549804531b5e5db",
       "style": "IPY_MODEL_cd47333a64e442fcbd1afb3a4aef58d8"
      }
     },
     "7de4619db916487c94a786962009274f": {
      "model_module": "@jupyter-widgets/base",
      "model_module_version": "1.0.0",
      "model_name": "LayoutModel",
      "state": {
       "width": "100%"
      }
     },
     "7e31574062f34f4fa678850565dc4bed": {
      "model_module": "@jupyter-widgets/base",
      "model_module_version": "1.0.0",
      "model_name": "LayoutModel",
      "state": {
       "width": "95%"
      }
     },
     "7e6d652dc4c642dfbd7a39c6d47e7800": {
      "model_module": "@jupyter-widgets/controls",
      "model_module_version": "1.0.0",
      "model_name": "ButtonStyleModel",
      "state": {}
     },
     "7ea4d07cd2a840439052efa62559f451": {
      "model_module": "@jupyter-widgets/controls",
      "model_module_version": "1.0.0",
      "model_name": "SliderStyleModel",
      "state": {
       "description_width": ""
      }
     },
     "7eedbb2785394ff7be831b51872f633f": {
      "model_module": "@jupyter-widgets/controls",
      "model_module_version": "1.0.0",
      "model_name": "TabModel",
      "state": {
       "_titles": {
        "0": "Network",
        "1": "Help"
       },
       "children": [
        "IPY_MODEL_2e1aa150544f4896ad8ab9df0db56634",
        "IPY_MODEL_6adb175e70944ea194ad15178e75ac48"
       ],
       "layout": "IPY_MODEL_a4ca5d0c1faf48c2a3a3e41383abe3c3"
      }
     },
     "7f655ea677e5445d9e7a336f24f441d2": {
      "model_module": "@jupyter-widgets/controls",
      "model_module_version": "1.0.0",
      "model_name": "ButtonStyleModel",
      "state": {}
     },
     "7f7dbcdde9d64bfc9db498888c818b1d": {
      "model_module": "@jupyter-widgets/controls",
      "model_module_version": "1.0.0",
      "model_name": "ButtonStyleModel",
      "state": {}
     },
     "7fa5257ce434422ca9ee0e09c8029d87": {
      "model_module": "@jupyter-widgets/controls",
      "model_module_version": "1.0.0",
      "model_name": "VBoxModel",
      "state": {
       "children": [
        "IPY_MODEL_092aa9f304c34db89f2f959f9544f658",
        "IPY_MODEL_d0987f5fcf6d45efa3d118efcc740616",
        "IPY_MODEL_0c71c8cf13364592a39c0a0a75c02c0a"
       ],
       "layout": "IPY_MODEL_0cbc4de38e1d44978299e40e5631b33e"
      }
     },
     "80ef20f8ccee4ebf80ec964b5ec1bb8e": {
      "model_module": "@jupyter-widgets/base",
      "model_module_version": "1.0.0",
      "model_name": "LayoutModel",
      "state": {}
     },
     "814e7a792ddf4fa8bc98e7a3028955f5": {
      "model_module": "@jupyter-widgets/base",
      "model_module_version": "1.0.0",
      "model_name": "LayoutModel",
      "state": {
       "width": "100%"
      }
     },
     "819193fd4c774f79a37a4d0ad4ca808d": {
      "model_module": "@jupyter-widgets/controls",
      "model_module_version": "1.0.0",
      "model_name": "ButtonStyleModel",
      "state": {}
     },
     "820786f869bb46909caf8165db43f17a": {
      "model_module": "@jupyter-widgets/controls",
      "model_module_version": "1.0.0",
      "model_name": "SliderStyleModel",
      "state": {
       "description_width": ""
      }
     },
     "8276ba1b11dd46ad82dff6577788859d": {
      "model_module": "@jupyter-widgets/controls",
      "model_module_version": "1.0.0",
      "model_name": "HTMLModel",
      "state": {
       "layout": "IPY_MODEL_1f0f78ef98c84b22bd1cc36108c4fac5",
       "style": "IPY_MODEL_027894057dcd4d40a0b6533c898e1c98",
       "value": "<p style=\"text-align:center\"><svg id='MNIST-Autoencoder' xmlns='http://www.w3.org/2000/svg' width=\"350\" height=\"705\" image-rendering=\"pixelated\">\n    <defs>\n        <marker id=\"arrow\" markerWidth=\"10\" markerHeight=\"10\" refX=\"9\" refY=\"3\" orient=\"auto\" markerUnits=\"strokeWidth\">\n          <path d=\"M0,0 L0,6 L9,3 z\" fill=\"black\" />\n        </marker>\n    </defs><text x=\"175.0\" y=\"12.5\" font-family=\"monospace\" font-size=\"15\" text-anchor=\"middle\" alignment-baseline=\"central\">MNIST-Autoencoder</text><rect x=\"74.0\" y=\"29\" width=\"202\" height=\"202\" style=\"fill:none;stroke:black;stroke-width:2\"/><image id=\"MNIST-Autoencoder_output_13\" class=\"MNIST-Autoencoder_output\" x=\"75.0\" y=\"30\" height=\"200\" width=\"200\" preserveAspectRatio=\"none\" href=\"data:image/gif;base64,R0lGODdhHAAcAIcAAP38/AAAAAAAAAAAAAAAAAAAAAAAAAAAAAAAAAAAAAAAAAAAAAAAAAAAAAAAAAAAAAAAAAAAAAAAAAAAAAAAAAAAAAAAAAAAAAAAAAAAAAAAAAAAAAAAAAAAAAAAAAAAAAAAAAAAAAAAAAAAAAAAAAAAAAAAAAAAAAAAAAAAAAAAAAAAAAAAAAAAAAAAAAAAAAAAAAAAAAAAAAAAAAAAAAAAAAAAAAAAAAAAAAAAAAAAAAAAAAAAAAAAAAAAAAAAAAAAAAAAAAAAAAAAAAAAAAAAAAAAAAAAAAAAAAAAAAAAAAAAAAAAAAAAAAAAAAAAAAAAAAAAAAAAAAAAAAAAAAAAAAAAAAAAAAAAAAAAAAAAAAAAAAAAAAAAAAAAAAAAAAAAAAAAAAAAAAAAAAAAAAAAAAAAAAAAAAAAAAAAAAAAAAAAAAAAAAAAAAAAAAAAAAAAAAAAAAAAAAAAAAAAAAAAAAAAAAAAAAAAAAAAAAAAAAAAAAAAAAAAAAAAAAAAAAAAAAAAAAAAAAAAAAAAAAAAAAAAAAAAAAAAAAAAAAAAAAAAAAAAAAAAAAAAAAAAAAAAAAAAAAAAAAAAAAAAAAAAAAAAAAAAAAAAAAAAAAAAAAAAAAAAAAAAAAAAAAAAAAAAAAAAAAAAAAAAAAAAAAAAAAAAAAAAAAAAAAAAAAAAAAAAAAAAAAAAAAAAAAAAAAAAAAAAAAAAAAAAAAAAAAAAAAAAAAAAAAAAAAAAAAAAAAAAAAAAAAAAAAAAAAAAAAAAAAAAAAAAAAAAAAAAAAAAAAAAAAAAAAAAAAAAAAAAAAAAAAAAAAAAAAAAAAAAAAAAAAAAAAAAAAAAAAAAAAAAAAAAAAAAAAAAAAAAAAAAAAAAAAAAAAAAAAAAAAAAAAAAAAAAAAAAAAAAAAAAAAAAAAAAAAAAAAAAAAAAAAAAAAAAAAAAAAAAAAAAAAAAAAAAAAAAAAAAAAAAAAAAAAAAAAAAAAAAAAAAAAAAAAAAAAAAAAAAAAAAAAAAAAAAACwAAAAAHAAcAEAIMAABCBxIsKDBgwgTKlzIsKHDhxAjSpxIsaLFixgzatzIsaPHjyBDihxJsqTJkwQDAgA7\"><title>Layer: output (output)\n shape = (28, 28, 1)\n Keras class = Dense\n activation = sigmoid</title></image><text x=\"280.0\" y=\"132.0\" font-family=\"monospace\" font-size=\"12\" text-anchor=\"start\" alignment-baseline=\"central\">output</text><line x1=\"175.0\" y1=\"259\" x2=\"175.0\" y2=\"232\" stroke=\"black\" stroke-width=\"2\" marker-end=\"url(#arrow)\"><title>Weights from hidden3 to output\n output/kernel has shape (25, 784)\n output/bias has shape (784,)</title></line><rect x=\"74.0\" y=\"259\" width=\"202\" height=\"27\" style=\"fill:none;stroke:black;stroke-width:2\"/><image id=\"MNIST-Autoencoder_hidden3_14\" class=\"MNIST-Autoencoder_hidden3\" x=\"75.0\" y=\"260\" height=\"25\" width=\"200\" preserveAspectRatio=\"none\" href=\"data:image/gif;base64,R0lGODdhGQABAIcAAGcAHxoaGoQJI5kQJ42Njb8yN8M7O81PRM5RRtpqVeB4X+yTdPWujv3dy/3n2gAAAAAAAAAAAAAAAAAAAAAAAAAAAAAAAAAAAAAAAAAAAAAAAAAAAAAAAAAAAAAAAAAAAAAAAAAAAAAAAAAAAAAAAAAAAAAAAAAAAAAAAAAAAAAAAAAAAAAAAAAAAAAAAAAAAAAAAAAAAAAAAAAAAAAAAAAAAAAAAAAAAAAAAAAAAAAAAAAAAAAAAAAAAAAAAAAAAAAAAAAAAAAAAAAAAAAAAAAAAAAAAAAAAAAAAAAAAAAAAAAAAAAAAAAAAAAAAAAAAAAAAAAAAAAAAAAAAAAAAAAAAAAAAAAAAAAAAAAAAAAAAAAAAAAAAAAAAAAAAAAAAAAAAAAAAAAAAAAAAAAAAAAAAAAAAAAAAAAAAAAAAAAAAAAAAAAAAAAAAAAAAAAAAAAAAAAAAAAAAAAAAAAAAAAAAAAAAAAAAAAAAAAAAAAAAAAAAAAAAAAAAAAAAAAAAAAAAAAAAAAAAAAAAAAAAAAAAAAAAAAAAAAAAAAAAAAAAAAAAAAAAAAAAAAAAAAAAAAAAAAAAAAAAAAAAAAAAAAAAAAAAAAAAAAAAAAAAAAAAAAAAAAAAAAAAAAAAAAAAAAAAAAAAAAAAAAAAAAAAAAAAAAAAAAAAAAAAAAAAAAAAAAAAAAAAAAAAAAAAAAAAAAAAAAAAAAAAAAAAAAAAAAAAAAAAAAAAAAAAAAAAAAAAAAAAAAAAAAAAAAAAAAAAAAAAAAAAAAAAAAAAAAAAAAAAAAAAAAAAAAAAAAAAAAAAAAAAAAAAAAAAAAAAAAAAAAAAAAAAAAAAAAAAAAAAAAAAAAAAAAAAAAAAAAAAAAAAAAAAAAAAAAAAAAAAAAAAAAAAAAAAAAAAAAAAAAAAAAAAAAAAAAAAAAAAAAAAAAAAAAAAAAAAAAAAAAAAAAAAAAAAAAAAAAAAAAAAAAAAAAAAAAAAAAAAAAAAAAAAAAAAAAAAAAAAAAAAAAAAAAAACwAAAAAGQABAAAIHwABDBAA4EABAAAUADCAAACABQAIAGAAAECDAA4SBAQAOw==\"><title>Layer: hidden3 (hidden)\n shape = (25,)\n Keras class = Dense\n activation = relu</title></image><text x=\"280.0\" y=\"274.5\" font-family=\"monospace\" font-size=\"12\" text-anchor=\"start\" alignment-baseline=\"central\">hidden3</text><line x1=\"175.0\" y1=\"314\" x2=\"175.0\" y2=\"287\" stroke=\"black\" stroke-width=\"2\" marker-end=\"url(#arrow)\"><title>Weights from hidden2 to hidden3\n hidden3/kernel has shape (25, 25)\n hidden3/bias has shape (25,)</title></line><rect x=\"74.0\" y=\"314\" width=\"202\" height=\"27\" style=\"fill:none;stroke:black;stroke-width:2\"/><image id=\"MNIST-Autoencoder_hidden2_15\" class=\"MNIST-Autoencoder_hidden2\" x=\"75.0\" y=\"315\" height=\"25\" width=\"200\" preserveAspectRatio=\"none\" href=\"data:image/gif;base64,R0lGODdhGQABAIcAAGcAH3gFIZENJRoaGrq6ut5yW+aFau2Wdve2mP3fzfLy8gAAAAAAAAAAAAAAAAAAAAAAAAAAAAAAAAAAAAAAAAAAAAAAAAAAAAAAAAAAAAAAAAAAAAAAAAAAAAAAAAAAAAAAAAAAAAAAAAAAAAAAAAAAAAAAAAAAAAAAAAAAAAAAAAAAAAAAAAAAAAAAAAAAAAAAAAAAAAAAAAAAAAAAAAAAAAAAAAAAAAAAAAAAAAAAAAAAAAAAAAAAAAAAAAAAAAAAAAAAAAAAAAAAAAAAAAAAAAAAAAAAAAAAAAAAAAAAAAAAAAAAAAAAAAAAAAAAAAAAAAAAAAAAAAAAAAAAAAAAAAAAAAAAAAAAAAAAAAAAAAAAAAAAAAAAAAAAAAAAAAAAAAAAAAAAAAAAAAAAAAAAAAAAAAAAAAAAAAAAAAAAAAAAAAAAAAAAAAAAAAAAAAAAAAAAAAAAAAAAAAAAAAAAAAAAAAAAAAAAAAAAAAAAAAAAAAAAAAAAAAAAAAAAAAAAAAAAAAAAAAAAAAAAAAAAAAAAAAAAAAAAAAAAAAAAAAAAAAAAAAAAAAAAAAAAAAAAAAAAAAAAAAAAAAAAAAAAAAAAAAAAAAAAAAAAAAAAAAAAAAAAAAAAAAAAAAAAAAAAAAAAAAAAAAAAAAAAAAAAAAAAAAAAAAAAAAAAAAAAAAAAAAAAAAAAAAAAAAAAAAAAAAAAAAAAAAAAAAAAAAAAAAAAAAAAAAAAAAAAAAAAAAAAAAAAAAAAAAAAAAAAAAAAAAAAAAAAAAAAAAAAAAAAAAAAAAAAAAAAAAAAAAAAAAAAAAAAAAAAAAAAAAAAAAAAAAAAAAAAAAAAAAAAAAAAAAAAAAAAAAAAAAAAAAAAAAAAAAAAAAAAAAAAAAAAAAAAAAAAAAAAAAAAAAAAAAAAAAAAAAAAAAAAAAAAAAAAAAAAAAAAAAAAAAAAAAAAAAAAAAAAAAAAAAAAAAAAAAAAAAAAAAAAAAAAAAAAAAAAAAAAAAAAAAAAAAAAAAAAACwAAAAAGQABAAAIHgARADAAoAAAAAIAKAwQAAAABQcIABAQAEACAAMCAgA7\"><title>Layer: hidden2 (hidden)\n shape = (25,)\n Keras class = Dense\n activation = relu</title></image><text x=\"280.0\" y=\"329.5\" font-family=\"monospace\" font-size=\"12\" text-anchor=\"start\" alignment-baseline=\"central\">hidden2</text><line x1=\"175.0\" y1=\"369\" x2=\"175.0\" y2=\"342\" stroke=\"black\" stroke-width=\"2\" marker-end=\"url(#arrow)\"><title>Weights from hidden1 to hidden2\n hidden2/kernel has shape (25, 25)\n hidden2/bias has shape (25,)</title></line><rect x=\"74.0\" y=\"369\" width=\"202\" height=\"27\" style=\"fill:none;stroke:black;stroke-width:2\"/><image id=\"MNIST-Autoencoder_hidden1_16\" class=\"MNIST-Autoencoder_hidden1\" x=\"75.0\" y=\"370\" height=\"25\" width=\"200\" preserveAspectRatio=\"none\" href=\"data:image/gif;base64,R0lGODdhGQABAIcAAGcAH/rz7xoaGjg4OLQcLbgkMcdDP9ttVwAAAAAAAAAAAAAAAAAAAAAAAAAAAAAAAAAAAAAAAAAAAAAAAAAAAAAAAAAAAAAAAAAAAAAAAAAAAAAAAAAAAAAAAAAAAAAAAAAAAAAAAAAAAAAAAAAAAAAAAAAAAAAAAAAAAAAAAAAAAAAAAAAAAAAAAAAAAAAAAAAAAAAAAAAAAAAAAAAAAAAAAAAAAAAAAAAAAAAAAAAAAAAAAAAAAAAAAAAAAAAAAAAAAAAAAAAAAAAAAAAAAAAAAAAAAAAAAAAAAAAAAAAAAAAAAAAAAAAAAAAAAAAAAAAAAAAAAAAAAAAAAAAAAAAAAAAAAAAAAAAAAAAAAAAAAAAAAAAAAAAAAAAAAAAAAAAAAAAAAAAAAAAAAAAAAAAAAAAAAAAAAAAAAAAAAAAAAAAAAAAAAAAAAAAAAAAAAAAAAAAAAAAAAAAAAAAAAAAAAAAAAAAAAAAAAAAAAAAAAAAAAAAAAAAAAAAAAAAAAAAAAAAAAAAAAAAAAAAAAAAAAAAAAAAAAAAAAAAAAAAAAAAAAAAAAAAAAAAAAAAAAAAAAAAAAAAAAAAAAAAAAAAAAAAAAAAAAAAAAAAAAAAAAAAAAAAAAAAAAAAAAAAAAAAAAAAAAAAAAAAAAAAAAAAAAAAAAAAAAAAAAAAAAAAAAAAAAAAAAAAAAAAAAAAAAAAAAAAAAAAAAAAAAAAAAAAAAAAAAAAAAAAAAAAAAAAAAAAAAAAAAAAAAAAAAAAAAAAAAAAAAAAAAAAAAAAAAAAAAAAAAAAAAAAAAAAAAAAAAAAAAAAAAAAAAAAAAAAAAAAAAAAAAAAAAAAAAAAAAAAAAAAAAAAAAAAAAAAAAAAAAAAAAAAAAAAAAAAAAAAAAAAAAAAAAAAAAAAAAAAAAAAAAAAAAAAAAAAAAAAAAAAAAAAAAAAAAAAAAAAAAAAAAAAAAAAAAAAAAAAAAAAAAAAAAAAAAAAAAAAAAAAAAAAAAAAAAAAAAAAAAAAAAAAAACwAAAAAGQABAAAIFwABFAgAoOABAAgTJiQgIACAAQYASAwIADs=\"><title>Layer: hidden1 (hidden)\n shape = (25,)\n Keras class = Dense\n activation = relu</title></image><text x=\"280.0\" y=\"384.5\" font-family=\"monospace\" font-size=\"12\" text-anchor=\"start\" alignment-baseline=\"central\">hidden1</text><line x1=\"175.0\" y1=\"424\" x2=\"175.0\" y2=\"397\" stroke=\"black\" stroke-width=\"2\" marker-end=\"url(#arrow)\"><title>Weights from flatten to hidden1\n hidden1/kernel has shape (784, 25)\n hidden1/bias has shape (25,)</title></line><rect x=\"74.0\" y=\"424\" width=\"202\" height=\"27\" style=\"fill:none;stroke:black;stroke-width:2\"/><image id=\"MNIST-Autoencoder_flatten_17\" class=\"MNIST-Autoencoder_flatten\" x=\"75.0\" y=\"425\" height=\"25\" width=\"200\" preserveAspectRatio=\"none\" href=\"data:image/gif;base64,R0lGODdhEAMBAIcAAP39/BwcHOjo6CUlJcbGxjk5OVdXV4eHh5qammVlZdfX13Nzc0dHR6enp7W1tQAAAAAAAAAAAAAAAAAAAAAAAAAAAAAAAAAAAAAAAAAAAAAAAAAAAAAAAAAAAAAAAAAAAAAAAAAAAAAAAAAAAAAAAAAAAAAAAAAAAAAAAAAAAAAAAAAAAAAAAAAAAAAAAAAAAAAAAAAAAAAAAAAAAAAAAAAAAAAAAAAAAAAAAAAAAAAAAAAAAAAAAAAAAAAAAAAAAAAAAAAAAAAAAAAAAAAAAAAAAAAAAAAAAAAAAAAAAAAAAAAAAAAAAAAAAAAAAAAAAAAAAAAAAAAAAAAAAAAAAAAAAAAAAAAAAAAAAAAAAAAAAAAAAAAAAAAAAAAAAAAAAAAAAAAAAAAAAAAAAAAAAAAAAAAAAAAAAAAAAAAAAAAAAAAAAAAAAAAAAAAAAAAAAAAAAAAAAAAAAAAAAAAAAAAAAAAAAAAAAAAAAAAAAAAAAAAAAAAAAAAAAAAAAAAAAAAAAAAAAAAAAAAAAAAAAAAAAAAAAAAAAAAAAAAAAAAAAAAAAAAAAAAAAAAAAAAAAAAAAAAAAAAAAAAAAAAAAAAAAAAAAAAAAAAAAAAAAAAAAAAAAAAAAAAAAAAAAAAAAAAAAAAAAAAAAAAAAAAAAAAAAAAAAAAAAAAAAAAAAAAAAAAAAAAAAAAAAAAAAAAAAAAAAAAAAAAAAAAAAAAAAAAAAAAAAAAAAAAAAAAAAAAAAAAAAAAAAAAAAAAAAAAAAAAAAAAAAAAAAAAAAAAAAAAAAAAAAAAAAAAAAAAAAAAAAAAAAAAAAAAAAAAAAAAAAAAAAAAAAAAAAAAAAAAAAAAAAAAAAAAAAAAAAAAAAAAAAAAAAAAAAAAAAAAAAAAAAAAAAAAAAAAAAAAAAAAAAAAAAAAAAAAAAAAAAAAAAAAAAAAAAAAAAAAAAAAAAAAAAAAAAAAAAAAAAAAAAAAAAAAAAAAAAAAAAAAAAAAAAAAAAAAAAAAAAAAAAAAAAAAAACwAAAAAEAMBAAAI/wABCBxIsKDBgwgTKlzIsKHDhxAjDmyAIIGABQEGNADAsaNHjgIEEDiwIIBJkwUWBBhgQAGAlzBjAhAwIIDNmzcJ6FQgAIDPn0B/FghAlKiBBAMGAFjKtKlTpgQOOAgQgAEAAAIOANjKtavXrwcCEABAtqzZs2jNIghgAIDbt3Djyo1rIIACAHjz6t3LV6+AAQUOOABAuLDhw4gLExgQIEADAQAiS55MuXJkAQkCBDggAIDnz6BDi/5MIECABABSq17NuvXqAQEGKABAu7bt27gFIEgQIAADAMCDCx8+XMCBAgGSD0gAoLnz59CfNygQoHoAAwQAaN/Ovft2BQwCiEIPYIAAgPPo06tHv6BAgPcBDBAAQL++/fv0FSwoEKB/AIADEAAgWNDgQYMIAixkgAABAIgRJU6kWNHiRYwZNW7EGBAAOw==\"><title>Layer: flatten (hidden)\n Keras class = Flatten</title></image><text x=\"280.0\" y=\"439.5\" font-family=\"monospace\" font-size=\"12\" text-anchor=\"start\" alignment-baseline=\"central\">flatten</text><line x1=\"175.0\" y1=\"479\" x2=\"175.0\" y2=\"452\" stroke=\"black\" stroke-width=\"2\" marker-end=\"url(#arrow)\"><title>Weights from input to flatten</title></line><rect x=\"74.0\" y=\"479\" width=\"202\" height=\"202\" style=\"fill:none;stroke:black;stroke-width:2\"/><image id=\"MNIST-Autoencoder_input_18\" class=\"MNIST-Autoencoder_input\" x=\"75.0\" y=\"480\" height=\"200\" width=\"200\" preserveAspectRatio=\"none\" href=\"data:image/gif;base64,R0lGODdhHAAcAIcAAP39/BwcHOjo6CUlJcbGxjk5OVdXV4eHh5qammVlZdfX13Nzc0dHR6enp7W1tQAAAAAAAAAAAAAAAAAAAAAAAAAAAAAAAAAAAAAAAAAAAAAAAAAAAAAAAAAAAAAAAAAAAAAAAAAAAAAAAAAAAAAAAAAAAAAAAAAAAAAAAAAAAAAAAAAAAAAAAAAAAAAAAAAAAAAAAAAAAAAAAAAAAAAAAAAAAAAAAAAAAAAAAAAAAAAAAAAAAAAAAAAAAAAAAAAAAAAAAAAAAAAAAAAAAAAAAAAAAAAAAAAAAAAAAAAAAAAAAAAAAAAAAAAAAAAAAAAAAAAAAAAAAAAAAAAAAAAAAAAAAAAAAAAAAAAAAAAAAAAAAAAAAAAAAAAAAAAAAAAAAAAAAAAAAAAAAAAAAAAAAAAAAAAAAAAAAAAAAAAAAAAAAAAAAAAAAAAAAAAAAAAAAAAAAAAAAAAAAAAAAAAAAAAAAAAAAAAAAAAAAAAAAAAAAAAAAAAAAAAAAAAAAAAAAAAAAAAAAAAAAAAAAAAAAAAAAAAAAAAAAAAAAAAAAAAAAAAAAAAAAAAAAAAAAAAAAAAAAAAAAAAAAAAAAAAAAAAAAAAAAAAAAAAAAAAAAAAAAAAAAAAAAAAAAAAAAAAAAAAAAAAAAAAAAAAAAAAAAAAAAAAAAAAAAAAAAAAAAAAAAAAAAAAAAAAAAAAAAAAAAAAAAAAAAAAAAAAAAAAAAAAAAAAAAAAAAAAAAAAAAAAAAAAAAAAAAAAAAAAAAAAAAAAAAAAAAAAAAAAAAAAAAAAAAAAAAAAAAAAAAAAAAAAAAAAAAAAAAAAAAAAAAAAAAAAAAAAAAAAAAAAAAAAAAAAAAAAAAAAAAAAAAAAAAAAAAAAAAAAAAAAAAAAAAAAAAAAAAAAAAAAAAAAAAAAAAAAAAAAAAAAAAAAAAAAAAAAAAAAAAAAAAAAAAAAAAAAAAAAAAAAAAAAAAAAAAAAAAAAAAAAAAAAAAAAAAAAAAAAAAAAAAAAAAAAAAAAAAAAAACwAAAAAHAAcAEAI/wABCBxIsKDBgwgLBFi40ECCAQMASJxIsaLFigQCBEgAoKPHjx0RBBjJAAECAChTqlzJsqXLlzBRGgigAIDNmzhz6rzZoECAnwEMEABAtKjRo0iTKl0qQACBAwsCSJVaYEGAAQYUANjKtavXAwEIABhLtqzZs2cJDAgQoIEAAHDjyp1LF64ABAkCBGAAoK/fv4AXFAhAOIABAgASK17MuLHjx5AjS55MufLjBggSCFgQYEADAKBDiwYgYECA06hRE1itQACA17BjwyZwwEGAAAwAABBwAIDv38CDC0cQwACA48iTK1+uXMCAAgccAJhOvbr169UFJAgQ4IAAAODDi0QfT178gAADFABYz769+/YCDhQIQH9AAgD48+vfj18BA4ABBAYwQADAQYQJFSpYUCDAwwADEACgWNHiRYwZNW7k2PFiQAA7\"><title>Layer: input (input)\n shape = (28, 28, 1)\n Keras class = Input</title></image><text x=\"280.0\" y=\"582.0\" font-family=\"monospace\" font-size=\"12\" text-anchor=\"start\" alignment-baseline=\"central\">input</text><text x=\"280.0\" y=\"485\" font-family=\"monospace\" font-size=\"12\" text-anchor=\"start\" alignment-baseline=\"central\">1</text><text x=\"63.0\" y=\"675\" font-family=\"monospace\" font-size=\"12\" text-anchor=\"start\" alignment-baseline=\"central\">0</text></svg></p>"
      }
     },
     "8451ca828f454a5e9683885bedd5414a": {
      "model_module": "@jupyter-widgets/base",
      "model_module_version": "1.0.0",
      "model_name": "LayoutModel",
      "state": {
       "width": "100%"
      }
     },
     "849c07ed16fb4ded922f679b9510e6df": {
      "model_module": "@jupyter-widgets/base",
      "model_module_version": "1.0.0",
      "model_name": "LayoutModel",
      "state": {
       "width": "100%"
      }
     },
     "8535115cfd79408c81c03273690c1461": {
      "model_module": "@jupyter-widgets/base",
      "model_module_version": "1.0.0",
      "model_name": "LayoutModel",
      "state": {
       "width": "95%"
      }
     },
     "85f4e1d5b79844049b7c982fbfb2a43c": {
      "model_module": "@jupyter-widgets/base",
      "model_module_version": "1.0.0",
      "model_name": "LayoutModel",
      "state": {}
     },
     "86402b242129466d8645ec38eb154aa3": {
      "model_module": "@jupyter-widgets/controls",
      "model_module_version": "1.0.0",
      "model_name": "ButtonStyleModel",
      "state": {}
     },
     "87afa1857b304b0cbcb1ed107e568aa9": {
      "model_module": "@jupyter-widgets/controls",
      "model_module_version": "1.0.0",
      "model_name": "ButtonStyleModel",
      "state": {}
     },
     "88753c9cc07c472d9c9bfd34648aebb4": {
      "model_module": "@jupyter-widgets/controls",
      "model_module_version": "1.0.0",
      "model_name": "VBoxModel",
      "state": {
       "children": [
        "IPY_MODEL_6c828f890cb0421c9b67f456454104b4",
        "IPY_MODEL_d9302ca135a6411d8958ae44a9cd4558"
       ],
       "layout": "IPY_MODEL_0c5495ecbee94c099d7cd3a89a88f5f0"
      }
     },
     "888eecaadf134f568a2223ebaaf48698": {
      "model_module": "@jupyter-widgets/base",
      "model_module_version": "1.0.0",
      "model_name": "LayoutModel",
      "state": {
       "width": "100%"
      }
     },
     "891429df0dea4d57a5c56dff4de536fc": {
      "model_module": "@jupyter-widgets/controls",
      "model_module_version": "1.0.0",
      "model_name": "SelectModel",
      "state": {
       "_options_labels": [
        "Test",
        "Train"
       ],
       "description": "Dataset:",
       "index": 0,
       "layout": "IPY_MODEL_6d5411bbdc6e41e6a8588fd9505829b5",
       "style": "IPY_MODEL_b8c8139e0abc4853990597c1cfca14eb"
      }
     },
     "898e74e41a2847fb8505bb4735f6ead2": {
      "model_module": "@jupyter-widgets/base",
      "model_module_version": "1.0.0",
      "model_name": "LayoutModel",
      "state": {
       "width": "100%"
      }
     },
     "89d3a46a3a854850ba8e38a68fe3fbde": {
      "model_module": "@jupyter-widgets/controls",
      "model_module_version": "1.0.0",
      "model_name": "ButtonModel",
      "state": {
       "disabled": true,
       "icon": "fast-backward",
       "layout": "IPY_MODEL_01ca6e646aa8461cbc40fd910b1124ab",
       "style": "IPY_MODEL_d4d3e7a314114d4db06d2c5f57562d4f"
      }
     },
     "8a3aba71f2e541a69c7c958ad6de2782": {
      "model_module": "@jupyter-widgets/controls",
      "model_module_version": "1.0.0",
      "model_name": "DescriptionStyleModel",
      "state": {
       "description_width": ""
      }
     },
     "8ce4b52fb3a444a6a8db8708b3439539": {
      "model_module": "@jupyter-widgets/base",
      "model_module_version": "1.0.0",
      "model_name": "LayoutModel",
      "state": {
       "height": "550px",
       "width": "95%"
      }
     },
     "8dbb12deab21423f8d2b5fb2120d058b": {
      "model_module": "@jupyter-widgets/controls",
      "model_module_version": "1.0.0",
      "model_name": "ButtonModel",
      "state": {
       "disabled": true,
       "icon": "backward",
       "layout": "IPY_MODEL_63c6aae652d540c28e1a819669327e0e",
       "style": "IPY_MODEL_b7e3675ff469455fa923ffd4d638dac0"
      }
     },
     "8e0fcd7c456b4c829b0c6adc59bae7ce": {
      "model_module": "@jupyter-widgets/controls",
      "model_module_version": "1.0.0",
      "model_name": "ButtonModel",
      "state": {
       "icon": "forward",
       "layout": "IPY_MODEL_407f39249be84c89aa3d8a7ffa994c9a",
       "style": "IPY_MODEL_ecc34c1c259c4804b7b6be3a8c462822"
      }
     },
     "8e62b88740fb47069495de09c66dc188": {
      "model_module": "@jupyter-widgets/base",
      "model_module_version": "1.0.0",
      "model_name": "LayoutModel",
      "state": {
       "width": "95%"
      }
     },
     "8e7a380f3239453082eac7db45392a10": {
      "model_module": "@jupyter-widgets/controls",
      "model_module_version": "1.0.0",
      "model_name": "HTMLModel",
      "state": {
       "layout": "IPY_MODEL_f46421e818cf4d55b61fc5e3a3372a11",
       "style": "IPY_MODEL_fc64d74be48d4d6ab89f4745f3ea0e47",
       "value": "<p style=\"text-align:center\"><svg id='Autoencoder' xmlns='http://www.w3.org/2000/svg' width=\"350\" height=\"235\" image-rendering=\"pixelated\">\n    <defs>\n        <marker id=\"arrow\" markerWidth=\"10\" markerHeight=\"10\" refX=\"9\" refY=\"3\" orient=\"auto\" markerUnits=\"strokeWidth\">\n          <path d=\"M0,0 L0,6 L9,3 z\" fill=\"black\" />\n        </marker>\n    </defs><text x=\"175.0\" y=\"12.5\" font-family=\"monospace\" font-size=\"15\" text-anchor=\"middle\" alignment-baseline=\"central\">Autoencoder</text><rect x=\"74.0\" y=\"29\" width=\"202\" height=\"42\" style=\"fill:none;stroke:black;stroke-width:2\"/><image id=\"Autoencoder_output_7\" class=\"Autoencoder_output\" x=\"75.0\" y=\"30\" height=\"40\" width=\"200\" preserveAspectRatio=\"none\" href=\"data:image/gif;base64,R0lGODdhBQABAIcAAIgKJGcAH3t7e5sQJwAAAAAAAAAAAAAAAAAAAAAAAAAAAAAAAAAAAAAAAAAAAAAAAAAAAAAAAAAAAAAAAAAAAAAAAAAAAAAAAAAAAAAAAAAAAAAAAAAAAAAAAAAAAAAAAAAAAAAAAAAAAAAAAAAAAAAAAAAAAAAAAAAAAAAAAAAAAAAAAAAAAAAAAAAAAAAAAAAAAAAAAAAAAAAAAAAAAAAAAAAAAAAAAAAAAAAAAAAAAAAAAAAAAAAAAAAAAAAAAAAAAAAAAAAAAAAAAAAAAAAAAAAAAAAAAAAAAAAAAAAAAAAAAAAAAAAAAAAAAAAAAAAAAAAAAAAAAAAAAAAAAAAAAAAAAAAAAAAAAAAAAAAAAAAAAAAAAAAAAAAAAAAAAAAAAAAAAAAAAAAAAAAAAAAAAAAAAAAAAAAAAAAAAAAAAAAAAAAAAAAAAAAAAAAAAAAAAAAAAAAAAAAAAAAAAAAAAAAAAAAAAAAAAAAAAAAAAAAAAAAAAAAAAAAAAAAAAAAAAAAAAAAAAAAAAAAAAAAAAAAAAAAAAAAAAAAAAAAAAAAAAAAAAAAAAAAAAAAAAAAAAAAAAAAAAAAAAAAAAAAAAAAAAAAAAAAAAAAAAAAAAAAAAAAAAAAAAAAAAAAAAAAAAAAAAAAAAAAAAAAAAAAAAAAAAAAAAAAAAAAAAAAAAAAAAAAAAAAAAAAAAAAAAAAAAAAAAAAAAAAAAAAAAAAAAAAAAAAAAAAAAAAAAAAAAAAAAAAAAAAAAAAAAAAAAAAAAAAAAAAAAAAAAAAAAAAAAAAAAAAAAAAAAAAAAAAAAAAAAAAAAAAAAAAAAAAAAAAAAAAAAAAAAAAAAAAAAAAAAAAAAAAAAAAAAAAAAAAAAAAAAAAAAAAAAAAAAAAAAAAAAAAAAAAAAAAAAAAAAAAAAAAAAAAAAAAAAAAAAAAAAAAAAAAAAAAAAAAAAAAAAAAAAAAAAAAAAAAAAAAAAAAAAAAAAAAAAAAAAAAAAAAAAAAAAAAAAAAAAAAAAAAAACwAAAAABQABAAAICAAFAAAwIEBAADs=\"><title>Layer: output (output)\n shape = (5,)\n Keras class = Dense\n activation = sigmoid</title></image><text x=\"280.0\" y=\"52.0\" font-family=\"monospace\" font-size=\"12\" text-anchor=\"start\" alignment-baseline=\"central\">output</text><line x1=\"175.0\" y1=\"99\" x2=\"175.0\" y2=\"72\" stroke=\"black\" stroke-width=\"2\" marker-end=\"url(#arrow)\"><title>Weights from hidden to output\n output/kernel has shape (5, 5)\n output/bias has shape (5,)</title></line><rect x=\"74.0\" y=\"99\" width=\"202\" height=\"42\" style=\"fill:none;stroke:black;stroke-width:2\"/><image id=\"Autoencoder_hidden_8\" class=\"Autoencoder_hidden\" x=\"75.0\" y=\"100\" height=\"40\" width=\"200\" preserveAspectRatio=\"none\" href=\"data:image/gif;base64,R0lGODdhBQABAIcAABoaGi4uLmcAH3sGIvv7+wAAAAAAAAAAAAAAAAAAAAAAAAAAAAAAAAAAAAAAAAAAAAAAAAAAAAAAAAAAAAAAAAAAAAAAAAAAAAAAAAAAAAAAAAAAAAAAAAAAAAAAAAAAAAAAAAAAAAAAAAAAAAAAAAAAAAAAAAAAAAAAAAAAAAAAAAAAAAAAAAAAAAAAAAAAAAAAAAAAAAAAAAAAAAAAAAAAAAAAAAAAAAAAAAAAAAAAAAAAAAAAAAAAAAAAAAAAAAAAAAAAAAAAAAAAAAAAAAAAAAAAAAAAAAAAAAAAAAAAAAAAAAAAAAAAAAAAAAAAAAAAAAAAAAAAAAAAAAAAAAAAAAAAAAAAAAAAAAAAAAAAAAAAAAAAAAAAAAAAAAAAAAAAAAAAAAAAAAAAAAAAAAAAAAAAAAAAAAAAAAAAAAAAAAAAAAAAAAAAAAAAAAAAAAAAAAAAAAAAAAAAAAAAAAAAAAAAAAAAAAAAAAAAAAAAAAAAAAAAAAAAAAAAAAAAAAAAAAAAAAAAAAAAAAAAAAAAAAAAAAAAAAAAAAAAAAAAAAAAAAAAAAAAAAAAAAAAAAAAAAAAAAAAAAAAAAAAAAAAAAAAAAAAAAAAAAAAAAAAAAAAAAAAAAAAAAAAAAAAAAAAAAAAAAAAAAAAAAAAAAAAAAAAAAAAAAAAAAAAAAAAAAAAAAAAAAAAAAAAAAAAAAAAAAAAAAAAAAAAAAAAAAAAAAAAAAAAAAAAAAAAAAAAAAAAAAAAAAAAAAAAAAAAAAAAAAAAAAAAAAAAAAAAAAAAAAAAAAAAAAAAAAAAAAAAAAAAAAAAAAAAAAAAAAAAAAAAAAAAAAAAAAAAAAAAAAAAAAAAAAAAAAAAAAAAAAAAAAAAAAAAAAAAAAAAAAAAAAAAAAAAAAAAAAAAAAAAAAAAAAAAAAAAAAAAAAAAAAAAAAAAAAAAAAAAAAAAAAAAAAAAAAAAAAAAAAAAAAAAAAAAAAAAAAAAAAAAAAAAAAAAAAAAAAAAAAAAAAAAAAAAACwAAAAABQABAAAICAAJCAgAYEBAADs=\"><title>Layer: hidden (hidden)\n shape = (5,)\n Keras class = Dense\n activation = relu</title></image><text x=\"280.0\" y=\"122.0\" font-family=\"monospace\" font-size=\"12\" text-anchor=\"start\" alignment-baseline=\"central\">hidden</text><line x1=\"175.0\" y1=\"169\" x2=\"175.0\" y2=\"142\" stroke=\"black\" stroke-width=\"2\" marker-end=\"url(#arrow)\"><title>Weights from input to hidden\n hidden/kernel has shape (5, 5)\n hidden/bias has shape (5,)</title></line><rect x=\"74.0\" y=\"169\" width=\"202\" height=\"42\" style=\"fill:none;stroke:black;stroke-width:2\"/><image id=\"Autoencoder_input_9\" class=\"Autoencoder_input\" x=\"75.0\" y=\"170\" height=\"40\" width=\"200\" preserveAspectRatio=\"none\" href=\"data:image/gif;base64,R0lGODdhBQABAIcAAGcAHxoaGgAAAAAAAAAAAAAAAAAAAAAAAAAAAAAAAAAAAAAAAAAAAAAAAAAAAAAAAAAAAAAAAAAAAAAAAAAAAAAAAAAAAAAAAAAAAAAAAAAAAAAAAAAAAAAAAAAAAAAAAAAAAAAAAAAAAAAAAAAAAAAAAAAAAAAAAAAAAAAAAAAAAAAAAAAAAAAAAAAAAAAAAAAAAAAAAAAAAAAAAAAAAAAAAAAAAAAAAAAAAAAAAAAAAAAAAAAAAAAAAAAAAAAAAAAAAAAAAAAAAAAAAAAAAAAAAAAAAAAAAAAAAAAAAAAAAAAAAAAAAAAAAAAAAAAAAAAAAAAAAAAAAAAAAAAAAAAAAAAAAAAAAAAAAAAAAAAAAAAAAAAAAAAAAAAAAAAAAAAAAAAAAAAAAAAAAAAAAAAAAAAAAAAAAAAAAAAAAAAAAAAAAAAAAAAAAAAAAAAAAAAAAAAAAAAAAAAAAAAAAAAAAAAAAAAAAAAAAAAAAAAAAAAAAAAAAAAAAAAAAAAAAAAAAAAAAAAAAAAAAAAAAAAAAAAAAAAAAAAAAAAAAAAAAAAAAAAAAAAAAAAAAAAAAAAAAAAAAAAAAAAAAAAAAAAAAAAAAAAAAAAAAAAAAAAAAAAAAAAAAAAAAAAAAAAAAAAAAAAAAAAAAAAAAAAAAAAAAAAAAAAAAAAAAAAAAAAAAAAAAAAAAAAAAAAAAAAAAAAAAAAAAAAAAAAAAAAAAAAAAAAAAAAAAAAAAAAAAAAAAAAAAAAAAAAAAAAAAAAAAAAAAAAAAAAAAAAAAAAAAAAAAAAAAAAAAAAAAAAAAAAAAAAAAAAAAAAAAAAAAAAAAAAAAAAAAAAAAAAAAAAAAAAAAAAAAAAAAAAAAAAAAAAAAAAAAAAAAAAAAAAAAAAAAAAAAAAAAAAAAAAAAAAAAAAAAAAAAAAAAAAAAAAAAAAAAAAAAAAAAAAAAAAAAAAAAAAAAAAAAAAAAAAAAAAAAAAAAAAAAAAAAAAAAAAAAAAAAAAAAAAAAAAAAAAAAAAAACwAAAAABQABAAAIBwADABgIICAAOw==\"><title>Layer: input (input)\n shape = (5,)\n Keras class = Input</title></image><text x=\"280.0\" y=\"192.0\" font-family=\"monospace\" font-size=\"12\" text-anchor=\"start\" alignment-baseline=\"central\">input</text></svg></p>"
      }
     },
     "8eacaa4d34864c199d49342fb4cf6d5e": {
      "model_module": "@jupyter-widgets/controls",
      "model_module_version": "1.0.0",
      "model_name": "ButtonModel",
      "state": {
       "disabled": true,
       "icon": "fast-forward",
       "layout": "IPY_MODEL_849c07ed16fb4ded922f679b9510e6df",
       "style": "IPY_MODEL_9509cf1b6f0f43e38e3137c04beec3bc"
      }
     },
     "8ec810648d7b474cb374daa7cfac89cb": {
      "model_module": "@jupyter-widgets/base",
      "model_module_version": "1.0.0",
      "model_name": "LayoutModel",
      "state": {}
     },
     "8eed920729f643189e259c406437678a": {
      "model_module": "@jupyter-widgets/base",
      "model_module_version": "1.0.0",
      "model_name": "LayoutModel",
      "state": {
       "width": "100%"
      }
     },
     "8f224ca8fe3b4f7e9c3bf3cdd9ce3c52": {
      "model_module": "@jupyter-widgets/controls",
      "model_module_version": "1.0.0",
      "model_name": "VBoxModel",
      "state": {
       "children": [
        "IPY_MODEL_55b3d4a7ab5949a9871494f2c9f87e2d",
        "IPY_MODEL_1ec69ddabdca4a638fabf305ff453ae9"
       ],
       "layout": "IPY_MODEL_aa45d023ec1e4c11876f6b69023fa707"
      }
     },
     "90258d7babcc4ff9bf1808daae28dccc": {
      "model_module": "@jupyter-widgets/controls",
      "model_module_version": "1.0.0",
      "model_name": "SliderStyleModel",
      "state": {
       "description_width": ""
      }
     },
     "90edd89f2c6140f8a4da84fceab6ecc6": {
      "model_module": "@jupyter-widgets/base",
      "model_module_version": "1.0.0",
      "model_name": "LayoutModel",
      "state": {
       "height": "550px",
       "width": "95%"
      }
     },
     "910b6315c454440aa9df02b16fe762cb": {
      "model_module": "@jupyter-widgets/controls",
      "model_module_version": "1.0.0",
      "model_name": "ButtonStyleModel",
      "state": {}
     },
     "91d55a0c767241488344e5008c89ea47": {
      "model_module": "@jupyter-widgets/controls",
      "model_module_version": "1.0.0",
      "model_name": "SliderStyleModel",
      "state": {
       "description_width": ""
      }
     },
     "925e856d43c7449b849dd562c87d7147": {
      "model_module": "@jupyter-widgets/controls",
      "model_module_version": "1.0.0",
      "model_name": "ButtonModel",
      "state": {
       "description": "Train",
       "layout": "IPY_MODEL_3739f81ef96649338a3bb544ee24f4ab",
       "style": "IPY_MODEL_0e889d6517984840bfc8c3b94872b193"
      }
     },
     "933e3fac5f024f50bb8f341c0fd3cb68": {
      "model_module": "@jupyter-widgets/controls",
      "model_module_version": "1.0.0",
      "model_name": "DescriptionStyleModel",
      "state": {
       "description_width": ""
      }
     },
     "94a524d7aca4490a9ec0d708219c1021": {
      "model_module": "@jupyter-widgets/controls",
      "model_module_version": "1.0.0",
      "model_name": "VBoxModel",
      "state": {
       "children": [
        "IPY_MODEL_411120a928a84e18a3647a542aabd767",
        "IPY_MODEL_6e74bf895b924462ae10e0196fa847f1"
       ],
       "layout": "IPY_MODEL_a574cc04fb084946999633cd43b6c922"
      }
     },
     "94bbdf1cbe4d494793eda8d49b2bb044": {
      "model_module": "@jupyter-widgets/base",
      "model_module_version": "1.0.0",
      "model_name": "LayoutModel",
      "state": {
       "width": "100%"
      }
     },
     "94dd2bf8f194449f9c915a9566f67360": {
      "model_module": "@jupyter-widgets/controls",
      "model_module_version": "1.0.0",
      "model_name": "ButtonStyleModel",
      "state": {}
     },
     "9509cf1b6f0f43e38e3137c04beec3bc": {
      "model_module": "@jupyter-widgets/controls",
      "model_module_version": "1.0.0",
      "model_name": "ButtonStyleModel",
      "state": {}
     },
     "951fd1ce2e0a4b0ea5cc337f478217e6": {
      "model_module": "@jupyter-widgets/base",
      "model_module_version": "1.0.0",
      "model_name": "LayoutModel",
      "state": {
       "width": "95%"
      }
     },
     "959cee17369149bba3fa675fda0db9d3": {
      "model_module": "@jupyter-widgets/controls",
      "model_module_version": "1.0.0",
      "model_name": "HBoxModel",
      "state": {
       "children": [
        "IPY_MODEL_9a377968a4f64d22a69c76b47a57fa2b",
        "IPY_MODEL_8dbb12deab21423f8d2b5fb2120d058b",
        "IPY_MODEL_3f9559f4462c4b2c9814677294d4ef34",
        "IPY_MODEL_119b17b2796a4622829690805d0b655e",
        "IPY_MODEL_fa145d01efed4d6eb824e4b6ed2c0e54"
       ],
       "layout": "IPY_MODEL_e6b024d397284c0c8a78390e4e2b3592"
      }
     },
     "95d28a206efb46bc9f3566a04d2310e3": {
      "model_module": "@jupyter-widgets/controls",
      "model_module_version": "1.0.0",
      "model_name": "SelectModel",
      "state": {
       "_options_labels": [
        "Test",
        "Train"
       ],
       "description": "Dataset:",
       "index": 1,
       "layout": "IPY_MODEL_d2ae73a809b946c38fb4d9db3278573f",
       "rows": 1,
       "style": "IPY_MODEL_d3ebcc4fd3824039bd14839caf757918"
      }
     },
     "96328d67d597418abf646235109e3496": {
      "model_module": "@jupyter-widgets/base",
      "model_module_version": "1.0.0",
      "model_name": "LayoutModel",
      "state": {
       "height": "550px",
       "justify_content": "center",
       "overflow_x": "auto",
       "width": "100%"
      }
     },
     "963dfdc83e0641f8942f57774bc250f0": {
      "model_module": "@jupyter-widgets/controls",
      "model_module_version": "1.0.0",
      "model_name": "ButtonModel",
      "state": {
       "icon": "fast-forward",
       "layout": "IPY_MODEL_6750a4ea93f5463ea1b8d9a88ddc0eda",
       "style": "IPY_MODEL_19c550ec982b4679895d2a23211f5a62"
      }
     },
     "964091e602394ab7aa2e1d855231937f": {
      "model_module": "@jupyter-widgets/base",
      "model_module_version": "1.0.0",
      "model_name": "LayoutModel",
      "state": {
       "width": "100%"
      }
     },
     "971b7d65685341ee98df2053402731ad": {
      "model_module": "@jupyter-widgets/base",
      "model_module_version": "1.0.0",
      "model_name": "LayoutModel",
      "state": {
       "width": "100%"
      }
     },
     "973d1998fa8c4c5cb48f102f80395a8d": {
      "model_module": "@jupyter-widgets/controls",
      "model_module_version": "1.0.0",
      "model_name": "ButtonStyleModel",
      "state": {}
     },
     "973f59df59ee44e5adda5c2ed629da5c": {
      "model_module": "@jupyter-widgets/controls",
      "model_module_version": "1.0.0",
      "model_name": "ButtonModel",
      "state": {
       "icon": "backward",
       "layout": "IPY_MODEL_303fe5af8dbe4097b11467360d18e8cd",
       "style": "IPY_MODEL_22d9d593f8dc42219485cc954f5f65bf"
      }
     },
     "98e06d662c1c4acb8f5f11d5a630d690": {
      "model_module": "@jupyter-widgets/controls",
      "model_module_version": "1.0.0",
      "model_name": "ButtonModel",
      "state": {
       "icon": "fast-forward",
       "layout": "IPY_MODEL_ed13d3f55db14ff19ea388796005f0ff",
       "style": "IPY_MODEL_4b9fb365cb2643f59c1de3039e841a99"
      }
     },
     "9934f616313e4b328e4eabb104141324": {
      "model_module": "@jupyter-widgets/controls",
      "model_module_version": "1.0.0",
      "model_name": "ButtonModel",
      "state": {
       "icon": "fast-forward",
       "layout": "IPY_MODEL_4e0f2dba1f604765b7fa28c3c8769d15",
       "style": "IPY_MODEL_d30c4001caec42c6b94ad533182d9b0a"
      }
     },
     "995fad39df574d51a1495cebcf003ce3": {
      "model_module": "@jupyter-widgets/controls",
      "model_module_version": "1.0.0",
      "model_name": "IntSliderModel",
      "state": {
       "continuous_update": false,
       "description": "Dataset index",
       "layout": "IPY_MODEL_a5ff56db243644f6a2d49f9b008a1165",
       "max": 4,
       "style": "IPY_MODEL_820786f869bb46909caf8165db43f17a"
      }
     },
     "99633d9b23f149059cd860e41f5402e9": {
      "model_module": "@jupyter-widgets/base",
      "model_module_version": "1.0.0",
      "model_name": "LayoutModel",
      "state": {}
     },
     "9a105e2340e24a719390a62b10a7c707": {
      "model_module": "@jupyter-widgets/controls",
      "model_module_version": "1.0.0",
      "model_name": "ButtonModel",
      "state": {
       "description": "Train",
       "disabled": true,
       "layout": "IPY_MODEL_00be8386c1b84d93969d290bf93de1a5",
       "style": "IPY_MODEL_bd2e710444304335bf2e7417d6d5be18"
      }
     },
     "9a1203e782844fddb065709496e2f9de": {
      "model_module": "@jupyter-widgets/controls",
      "model_module_version": "1.0.0",
      "model_name": "ButtonStyleModel",
      "state": {}
     },
     "9a377968a4f64d22a69c76b47a57fa2b": {
      "model_module": "@jupyter-widgets/controls",
      "model_module_version": "1.0.0",
      "model_name": "ButtonModel",
      "state": {
       "disabled": true,
       "icon": "fast-backward",
       "layout": "IPY_MODEL_fef124c330524566800bcca1a3a740f9",
       "style": "IPY_MODEL_910b6315c454440aa9df02b16fe762cb"
      }
     },
     "9a7c7c349fda4883a3ee214f2cf26366": {
      "model_module": "@jupyter-widgets/controls",
      "model_module_version": "1.0.0",
      "model_name": "IntSliderModel",
      "state": {
       "continuous_update": false,
       "description": "Dataset index",
       "layout": "IPY_MODEL_2eeacc467f1745d4b2746203d6729d48",
       "max": 4,
       "style": "IPY_MODEL_91d55a0c767241488344e5008c89ea47"
      }
     },
     "9ae057fa6e1544748d83a855576743ca": {
      "model_module": "@jupyter-widgets/controls",
      "model_module_version": "1.0.0",
      "model_name": "HTMLModel",
      "state": {
       "layout": "IPY_MODEL_3ee017b483f041948d7eb8b79c68e746",
       "style": "IPY_MODEL_0caa6fe2b4cc4c7c80cbb173367618e9",
       "value": "<iframe src=\"https://conx.readthedocs.io\" width=\"100%\" height=\"550px\"></frame>"
      }
     },
     "9b57619c4b9f40f78afa20d59f65b592": {
      "model_module": "@jupyter-widgets/base",
      "model_module_version": "1.0.0",
      "model_name": "LayoutModel",
      "state": {
       "height": "550px",
       "width": "100%"
      }
     },
     "9bbcde93237548eab19e89c5003c0e29": {
      "model_module": "@jupyter-widgets/controls",
      "model_module_version": "1.0.0",
      "model_name": "HBoxModel",
      "state": {
       "children": [
        "IPY_MODEL_ded9c0798f934a7681bcf6955b5be25a",
        "IPY_MODEL_d35feedde61f4fafad4fc4ffd420fdf1",
        "IPY_MODEL_74332709a1ab495d8e74ac500e414527",
        "IPY_MODEL_1755ac5d31a04060b42d36bf58b3d880",
        "IPY_MODEL_8eacaa4d34864c199d49342fb4cf6d5e"
       ],
       "layout": "IPY_MODEL_1148f6e57bcd4c40ac1f0935d69e580b"
      }
     },
     "9bde0cdf54944177b84387bcd387dfb5": {
      "model_module": "@jupyter-widgets/controls",
      "model_module_version": "1.0.0",
      "model_name": "TabModel",
      "state": {
       "_titles": {
        "0": "Network",
        "1": "Help"
       },
       "children": [
        "IPY_MODEL_64b0018c7e984278bd5eecd69fda455e",
        "IPY_MODEL_69c86aef7fc644958ada7549024f75df"
       ],
       "layout": "IPY_MODEL_57b7549f375145268cbcf9d73a88ea9a"
      }
     },
     "9c5090e8fa7147d594695cb3cc0bb027": {
      "model_module": "@jupyter-widgets/controls",
      "model_module_version": "1.0.0",
      "model_name": "ButtonStyleModel",
      "state": {}
     },
     "9cfec0179c674cd29c92e715709b486b": {
      "model_module": "@jupyter-widgets/controls",
      "model_module_version": "1.0.0",
      "model_name": "IntSliderModel",
      "state": {
       "continuous_update": false,
       "description": "Dataset index",
       "disabled": true,
       "layout": "IPY_MODEL_898e74e41a2847fb8505bb4735f6ead2",
       "max": 0,
       "style": "IPY_MODEL_259d64ebd5bc4f94b1034ef8be78cb50"
      }
     },
     "9e24d6519e0245f9a37f1f0ac10585f7": {
      "model_module": "@jupyter-widgets/controls",
      "model_module_version": "1.0.0",
      "model_name": "ButtonStyleModel",
      "state": {}
     },
     "9e7d8efe8dc243f09e8457d05f099fd9": {
      "model_module": "@jupyter-widgets/base",
      "model_module_version": "1.0.0",
      "model_name": "LayoutModel",
      "state": {
       "width": "95%"
      }
     },
     "a1139044da9b4d828bd2296aeb596ed9": {
      "model_module": "@jupyter-widgets/base",
      "model_module_version": "1.0.0",
      "model_name": "LayoutModel",
      "state": {
       "width": "95%"
      }
     },
     "a2507dd4ccdd4ce68153fbe52497fa35": {
      "model_module": "@jupyter-widgets/controls",
      "model_module_version": "1.0.0",
      "model_name": "VBoxModel",
      "state": {
       "children": [
        "IPY_MODEL_d78d8993f2de4da2983d17ef9509440e",
        "IPY_MODEL_5e09f2b2b8ff4f74ba732ae4dd2af7d1"
       ],
       "layout": "IPY_MODEL_44b49e02785646368ce27f11758caa9d"
      }
     },
     "a2676b967d424698a6c0aa6dfa4d6902": {
      "model_module": "@jupyter-widgets/base",
      "model_module_version": "1.0.0",
      "model_name": "LayoutModel",
      "state": {
       "width": "100%"
      }
     },
     "a311090f559c4766b549804531b5e5db": {
      "model_module": "@jupyter-widgets/base",
      "model_module_version": "1.0.0",
      "model_name": "LayoutModel",
      "state": {
       "width": "100%"
      }
     },
     "a359d83662b44479957daf9ee56f639f": {
      "model_module": "@jupyter-widgets/controls",
      "model_module_version": "1.0.0",
      "model_name": "TabModel",
      "state": {
       "_titles": {
        "0": "Network",
        "1": "Help"
       },
       "children": [
        "IPY_MODEL_48b1923e4df441d89942045d7a57c2f5",
        "IPY_MODEL_63f25326a84b4b24a7b37027b3340426"
       ],
       "layout": "IPY_MODEL_c6ae2b43bbfd42a3aba71976bbb97c2f"
      }
     },
     "a3720946425e4bbb9249f88b4d2a3f0b": {
      "model_module": "@jupyter-widgets/controls",
      "model_module_version": "1.0.0",
      "model_name": "ButtonModel",
      "state": {
       "icon": "forward",
       "layout": "IPY_MODEL_4b5e7ef5e0ac474a8688fd1ca9a6e993",
       "style": "IPY_MODEL_94dd2bf8f194449f9c915a9566f67360"
      }
     },
     "a4ca5d0c1faf48c2a3a3e41383abe3c3": {
      "model_module": "@jupyter-widgets/base",
      "model_module_version": "1.0.0",
      "model_name": "LayoutModel",
      "state": {}
     },
     "a5586b2f489c4ab68c215f37c51a2596": {
      "model_module": "@jupyter-widgets/controls",
      "model_module_version": "1.0.0",
      "model_name": "ButtonModel",
      "state": {
       "icon": "backward",
       "layout": "IPY_MODEL_f2fc5bd67c6a49bc8c9f4c60d2608307",
       "style": "IPY_MODEL_7f7dbcdde9d64bfc9db498888c818b1d"
      }
     },
     "a574cc04fb084946999633cd43b6c922": {
      "model_module": "@jupyter-widgets/base",
      "model_module_version": "1.0.0",
      "model_name": "LayoutModel",
      "state": {
       "height": "550px",
       "width": "100%"
      }
     },
     "a5ff56db243644f6a2d49f9b008a1165": {
      "model_module": "@jupyter-widgets/base",
      "model_module_version": "1.0.0",
      "model_name": "LayoutModel",
      "state": {
       "width": "95%"
      }
     },
     "a647c77704a84b8ca72c140f1c6ed208": {
      "model_module": "@jupyter-widgets/controls",
      "model_module_version": "1.0.0",
      "model_name": "SelectModel",
      "state": {
       "_options_labels": [
        "Test",
        "Train"
       ],
       "description": "Dataset:",
       "index": 1,
       "layout": "IPY_MODEL_a66f3e5f3460495f9219131a0756c263",
       "rows": 1,
       "style": "IPY_MODEL_5c03469683974e4c95a3a8b235a25a5d"
      }
     },
     "a66f3e5f3460495f9219131a0756c263": {
      "model_module": "@jupyter-widgets/base",
      "model_module_version": "1.0.0",
      "model_name": "LayoutModel",
      "state": {}
     },
     "a680929160124266baae60a0560e6c56": {
      "model_module": "@jupyter-widgets/base",
      "model_module_version": "1.0.0",
      "model_name": "LayoutModel",
      "state": {}
     },
     "a6b4abf651ec47819f37aa7ad8fbc816": {
      "model_module": "@jupyter-widgets/controls",
      "model_module_version": "1.0.0",
      "model_name": "ButtonModel",
      "state": {
       "description": "Train",
       "layout": "IPY_MODEL_b9626e70b4e741c59fb85eb3f5bee699",
       "style": "IPY_MODEL_3312ca852ee2456a95aa4398c08e8795"
      }
     },
     "a7c361b9876d456eaf7267cf3386bccd": {
      "model_module": "@jupyter-widgets/controls",
      "model_module_version": "1.0.0",
      "model_name": "ButtonStyleModel",
      "state": {}
     },
     "a87402710ab34e29a5a49402961429ef": {
      "model_module": "@jupyter-widgets/controls",
      "model_module_version": "1.0.0",
      "model_name": "ButtonModel",
      "state": {
       "disabled": true,
       "icon": "backward",
       "layout": "IPY_MODEL_3499f7ea507542e88c285c90aa393659",
       "style": "IPY_MODEL_14ec05b94c6b4bc193a618a1202e7fe4"
      }
     },
     "a921172608954ebea2fb5654ac60cd63": {
      "model_module": "@jupyter-widgets/base",
      "model_module_version": "1.0.0",
      "model_name": "LayoutModel",
      "state": {
       "width": "100%"
      }
     },
     "a9b254b9ae614afbad27375b52bf799e": {
      "model_module": "@jupyter-widgets/controls",
      "model_module_version": "1.0.0",
      "model_name": "ButtonModel",
      "state": {
       "icon": "fast-forward",
       "layout": "IPY_MODEL_68ed8027d07a4efc87bdaf6de9d91b5f",
       "style": "IPY_MODEL_7e6d652dc4c642dfbd7a39c6d47e7800"
      }
     },
     "a9e4efc5e3a947e7b069a0522ff76010": {
      "model_module": "@jupyter-widgets/controls",
      "model_module_version": "1.0.0",
      "model_name": "ButtonModel",
      "state": {
       "icon": "fast-backward",
       "layout": "IPY_MODEL_0239b5efc761414cb3cf470cbe02b622",
       "style": "IPY_MODEL_f60e3967fac94bd89cab7cbe15762c5f"
      }
     },
     "aa45d023ec1e4c11876f6b69023fa707": {
      "model_module": "@jupyter-widgets/base",
      "model_module_version": "1.0.0",
      "model_name": "LayoutModel",
      "state": {
       "height": "550px",
       "width": "95%"
      }
     },
     "aba0142303434625b9a49885fc6c2edb": {
      "model_module": "@jupyter-widgets/controls",
      "model_module_version": "1.0.0",
      "model_name": "ButtonModel",
      "state": {
       "icon": "backward",
       "layout": "IPY_MODEL_3a4bdadcf00741f1add463b1e49bffcd",
       "style": "IPY_MODEL_014d9d03d71a41a2bd0d6e31fc15e84e"
      }
     },
     "ac00171f87704e67b5bc80f210c637b5": {
      "model_module": "@jupyter-widgets/controls",
      "model_module_version": "1.0.0",
      "model_name": "ButtonModel",
      "state": {
       "icon": "forward",
       "layout": "IPY_MODEL_e9f42c5fac29462ea3fda48ca0d51256",
       "style": "IPY_MODEL_973d1998fa8c4c5cb48f102f80395a8d"
      }
     },
     "ae371f87c8804d30ae5bacf1c1c33f98": {
      "model_module": "@jupyter-widgets/controls",
      "model_module_version": "1.0.0",
      "model_name": "DescriptionStyleModel",
      "state": {
       "description_width": ""
      }
     },
     "ae3f07d76812439589b1962eebd89820": {
      "model_module": "@jupyter-widgets/base",
      "model_module_version": "1.0.0",
      "model_name": "LayoutModel",
      "state": {}
     },
     "b03418fb437c43ec8ef8ab2986c1c3df": {
      "model_module": "@jupyter-widgets/controls",
      "model_module_version": "1.0.0",
      "model_name": "HBoxModel",
      "state": {
       "children": [
        "IPY_MODEL_a9e4efc5e3a947e7b069a0522ff76010",
        "IPY_MODEL_4dfead9586004d2b989dab6f2b515ce7",
        "IPY_MODEL_06aca067f09a4025b376017484a1eb80",
        "IPY_MODEL_5dd5b92b037f4ca0aa511d069ed4bca6",
        "IPY_MODEL_c3818cd918e44bfbaf81bed223ad03e6"
       ],
       "layout": "IPY_MODEL_ba0a18a8a0704b7291befe362e2a135a"
      }
     },
     "b0e0a2dbcda3486b9cbcf15cce766056": {
      "model_module": "@jupyter-widgets/controls",
      "model_module_version": "1.0.0",
      "model_name": "ButtonStyleModel",
      "state": {}
     },
     "b118c2d20fbb43bb82740107172ae1a3": {
      "model_module": "@jupyter-widgets/controls",
      "model_module_version": "1.0.0",
      "model_name": "DescriptionStyleModel",
      "state": {
       "description_width": ""
      }
     },
     "b12eb35cdca446d6ba519ef45b522ce1": {
      "model_module": "@jupyter-widgets/controls",
      "model_module_version": "1.0.0",
      "model_name": "DescriptionStyleModel",
      "state": {
       "description_width": ""
      }
     },
     "b1a488c35cec4600b9a194dab338b9ab": {
      "model_module": "@jupyter-widgets/controls",
      "model_module_version": "1.0.0",
      "model_name": "TabModel",
      "state": {
       "_titles": {
        "0": "Network",
        "1": "Help"
       },
       "children": [
        "IPY_MODEL_94a524d7aca4490a9ec0d708219c1021",
        "IPY_MODEL_1014e6e885a342d491d9a3609a773a3a"
       ],
       "layout": "IPY_MODEL_99633d9b23f149059cd860e41f5402e9"
      }
     },
     "b1cba2726c7f42c4817335c7420acef9": {
      "model_module": "@jupyter-widgets/base",
      "model_module_version": "1.0.0",
      "model_name": "LayoutModel",
      "state": {}
     },
     "b1f868599dde4263a9c5980598669265": {
      "model_module": "@jupyter-widgets/base",
      "model_module_version": "1.0.0",
      "model_name": "LayoutModel",
      "state": {}
     },
     "b232da1c1b6b4d258aa49d21b8226ba9": {
      "model_module": "@jupyter-widgets/base",
      "model_module_version": "1.0.0",
      "model_name": "LayoutModel",
      "state": {
       "width": "100%"
      }
     },
     "b279f1fd12bc4607be018a99e6c2431c": {
      "model_module": "@jupyter-widgets/base",
      "model_module_version": "1.0.0",
      "model_name": "LayoutModel",
      "state": {
       "height": "550px",
       "justify_content": "center",
       "overflow_x": "auto",
       "width": "95%"
      }
     },
     "b3a32bd9046a4f17ad9bd1fae0f42efc": {
      "model_module": "@jupyter-widgets/controls",
      "model_module_version": "1.0.0",
      "model_name": "ButtonStyleModel",
      "state": {}
     },
     "b505bc2c344242febcda25947be69bd4": {
      "model_module": "@jupyter-widgets/base",
      "model_module_version": "1.0.0",
      "model_name": "LayoutModel",
      "state": {
       "height": "550px",
       "width": "95%"
      }
     },
     "b5d57c87cdf943c499bb9a3db425d94f": {
      "model_module": "@jupyter-widgets/controls",
      "model_module_version": "1.0.0",
      "model_name": "ButtonStyleModel",
      "state": {}
     },
     "b6b89d6658824d8db8a192d589fbd70a": {
      "model_module": "@jupyter-widgets/base",
      "model_module_version": "1.0.0",
      "model_name": "LayoutModel",
      "state": {
       "width": "100%"
      }
     },
     "b6bf6ffe420b4ec3b8613fecce89b6c4": {
      "model_module": "@jupyter-widgets/controls",
      "model_module_version": "1.0.0",
      "model_name": "DescriptionStyleModel",
      "state": {
       "description_width": ""
      }
     },
     "b776aa69bcf748649fbfbebcdcad276a": {
      "model_module": "@jupyter-widgets/controls",
      "model_module_version": "1.0.0",
      "model_name": "ButtonModel",
      "state": {
       "icon": "fast-forward",
       "layout": "IPY_MODEL_43280e4394f14ae4a1aee1a50476d508",
       "style": "IPY_MODEL_e061712bafe24b5d9297188ceb5e8780"
      }
     },
     "b7ad0b065f0745149ebc8c093ec12429": {
      "model_module": "@jupyter-widgets/controls",
      "model_module_version": "1.0.0",
      "model_name": "ButtonModel",
      "state": {
       "icon": "fast-forward",
       "layout": "IPY_MODEL_e516176225e047118165f3d8353f0413",
       "style": "IPY_MODEL_7f655ea677e5445d9e7a336f24f441d2"
      }
     },
     "b7e3675ff469455fa923ffd4d638dac0": {
      "model_module": "@jupyter-widgets/controls",
      "model_module_version": "1.0.0",
      "model_name": "ButtonStyleModel",
      "state": {}
     },
     "b810b87ce9f44bb487f1245f41191828": {
      "model_module": "@jupyter-widgets/base",
      "model_module_version": "1.0.0",
      "model_name": "LayoutModel",
      "state": {}
     },
     "b84cafa3a9ae4cbbaa3ef935fba25e95": {
      "model_module": "@jupyter-widgets/base",
      "model_module_version": "1.0.0",
      "model_name": "LayoutModel",
      "state": {}
     },
     "b8c8139e0abc4853990597c1cfca14eb": {
      "model_module": "@jupyter-widgets/controls",
      "model_module_version": "1.0.0",
      "model_name": "DescriptionStyleModel",
      "state": {
       "description_width": ""
      }
     },
     "b9626e70b4e741c59fb85eb3f5bee699": {
      "model_module": "@jupyter-widgets/base",
      "model_module_version": "1.0.0",
      "model_name": "LayoutModel",
      "state": {
       "width": "100%"
      }
     },
     "b99bece4d2054013b094c97f9d582fa3": {
      "model_module": "@jupyter-widgets/controls",
      "model_module_version": "1.0.0",
      "model_name": "HBoxModel",
      "state": {
       "children": [
        "IPY_MODEL_d3fd49a2daa84200a3a38c145aba086f",
        "IPY_MODEL_0c382e7934d4463ab44df0ce59123a1c",
        "IPY_MODEL_07a52d47093641e19b9ac5ea5d7e2358",
        "IPY_MODEL_ac00171f87704e67b5bc80f210c637b5",
        "IPY_MODEL_963dfdc83e0641f8942f57774bc250f0"
       ],
       "layout": "IPY_MODEL_d0bd2b67ab2548cfb92ca5b0d98c5cf6"
      }
     },
     "ba0a18a8a0704b7291befe362e2a135a": {
      "model_module": "@jupyter-widgets/base",
      "model_module_version": "1.0.0",
      "model_name": "LayoutModel",
      "state": {
       "width": "95%"
      }
     },
     "ba4b09106d344061bc48216730a79aae": {
      "model_module": "@jupyter-widgets/controls",
      "model_module_version": "1.0.0",
      "model_name": "IntSliderModel",
      "state": {
       "continuous_update": false,
       "description": "Dataset index",
       "layout": "IPY_MODEL_8451ca828f454a5e9683885bedd5414a",
       "max": 69999,
       "style": "IPY_MODEL_c37af349180643ef840cbe87e8da7fee"
      }
     },
     "ba967a525e84453f990a53b0561aa607": {
      "model_module": "@jupyter-widgets/controls",
      "model_module_version": "1.0.0",
      "model_name": "HTMLModel",
      "state": {
       "layout": "IPY_MODEL_2bb29e5d0fab4f498a77909b04d5d9c5",
       "style": "IPY_MODEL_1f2c4fd2fbbd4513b0331da44883d29e",
       "value": "<p style=\"text-align:center\"><svg id='Autoencoder' xmlns='http://www.w3.org/2000/svg' width=\"350\" height=\"235\" image-rendering=\"pixelated\">\n    <defs>\n        <marker id=\"arrow\" markerWidth=\"10\" markerHeight=\"10\" refX=\"9\" refY=\"3\" orient=\"auto\" markerUnits=\"strokeWidth\">\n          <path d=\"M0,0 L0,6 L9,3 z\" fill=\"black\" />\n        </marker>\n    </defs><text x=\"175.0\" y=\"12.5\" font-family=\"monospace\" font-size=\"15\" text-anchor=\"middle\" alignment-baseline=\"central\">Autoencoder</text><rect x=\"74.0\" y=\"29\" width=\"202\" height=\"42\" style=\"fill:none;stroke:black;stroke-width:2\"/><image id=\"Autoencoder_output_7\" class=\"Autoencoder_output\" x=\"75.0\" y=\"30\" height=\"40\" width=\"200\" preserveAspectRatio=\"none\" href=\"data:image/gif;base64,R0lGODdhBQABAIcAAGwBH3IDIGBgYJsQJ6oVKQAAAAAAAAAAAAAAAAAAAAAAAAAAAAAAAAAAAAAAAAAAAAAAAAAAAAAAAAAAAAAAAAAAAAAAAAAAAAAAAAAAAAAAAAAAAAAAAAAAAAAAAAAAAAAAAAAAAAAAAAAAAAAAAAAAAAAAAAAAAAAAAAAAAAAAAAAAAAAAAAAAAAAAAAAAAAAAAAAAAAAAAAAAAAAAAAAAAAAAAAAAAAAAAAAAAAAAAAAAAAAAAAAAAAAAAAAAAAAAAAAAAAAAAAAAAAAAAAAAAAAAAAAAAAAAAAAAAAAAAAAAAAAAAAAAAAAAAAAAAAAAAAAAAAAAAAAAAAAAAAAAAAAAAAAAAAAAAAAAAAAAAAAAAAAAAAAAAAAAAAAAAAAAAAAAAAAAAAAAAAAAAAAAAAAAAAAAAAAAAAAAAAAAAAAAAAAAAAAAAAAAAAAAAAAAAAAAAAAAAAAAAAAAAAAAAAAAAAAAAAAAAAAAAAAAAAAAAAAAAAAAAAAAAAAAAAAAAAAAAAAAAAAAAAAAAAAAAAAAAAAAAAAAAAAAAAAAAAAAAAAAAAAAAAAAAAAAAAAAAAAAAAAAAAAAAAAAAAAAAAAAAAAAAAAAAAAAAAAAAAAAAAAAAAAAAAAAAAAAAAAAAAAAAAAAAAAAAAAAAAAAAAAAAAAAAAAAAAAAAAAAAAAAAAAAAAAAAAAAAAAAAAAAAAAAAAAAAAAAAAAAAAAAAAAAAAAAAAAAAAAAAAAAAAAAAAAAAAAAAAAAAAAAAAAAAAAAAAAAAAAAAAAAAAAAAAAAAAAAAAAAAAAAAAAAAAAAAAAAAAAAAAAAAAAAAAAAAAAAAAAAAAAAAAAAAAAAAAAAAAAAAAAAAAAAAAAAAAAAAAAAAAAAAAAAAAAAAAAAAAAAAAAAAAAAAAAAAAAAAAAAAAAAAAAAAAAAAAAAAAAAAAAAAAAAAAAAAAAAAAAAAAAAAAAAAAAAAAAAAAAAAAAAAAAAAAAAAAAAAAAAAAAAAAAAAAAAAAAAAAAAACwAAAAABQABAAAICAAFABhAIEBAADs=\"><title>Layer: output (output)\n shape = (5,)\n Keras class = Dense\n activation = sigmoid</title></image><text x=\"280.0\" y=\"52.0\" font-family=\"monospace\" font-size=\"12\" text-anchor=\"start\" alignment-baseline=\"central\">output</text><line x1=\"175.0\" y1=\"99\" x2=\"175.0\" y2=\"72\" stroke=\"black\" stroke-width=\"2\" marker-end=\"url(#arrow)\"><title>Weights from hidden to output\n output/kernel has shape (5, 5)\n output/bias has shape (5,)</title></line><rect x=\"74.0\" y=\"99\" width=\"202\" height=\"42\" style=\"fill:none;stroke:black;stroke-width:2\"/><image id=\"Autoencoder_hidden_8\" class=\"Autoencoder_hidden\" x=\"75.0\" y=\"100\" height=\"40\" width=\"200\" preserveAspectRatio=\"none\" href=\"data:image/gif;base64,R0lGODdhBQABAIcAAGcAHxoaGiwsLNLS0gAAAAAAAAAAAAAAAAAAAAAAAAAAAAAAAAAAAAAAAAAAAAAAAAAAAAAAAAAAAAAAAAAAAAAAAAAAAAAAAAAAAAAAAAAAAAAAAAAAAAAAAAAAAAAAAAAAAAAAAAAAAAAAAAAAAAAAAAAAAAAAAAAAAAAAAAAAAAAAAAAAAAAAAAAAAAAAAAAAAAAAAAAAAAAAAAAAAAAAAAAAAAAAAAAAAAAAAAAAAAAAAAAAAAAAAAAAAAAAAAAAAAAAAAAAAAAAAAAAAAAAAAAAAAAAAAAAAAAAAAAAAAAAAAAAAAAAAAAAAAAAAAAAAAAAAAAAAAAAAAAAAAAAAAAAAAAAAAAAAAAAAAAAAAAAAAAAAAAAAAAAAAAAAAAAAAAAAAAAAAAAAAAAAAAAAAAAAAAAAAAAAAAAAAAAAAAAAAAAAAAAAAAAAAAAAAAAAAAAAAAAAAAAAAAAAAAAAAAAAAAAAAAAAAAAAAAAAAAAAAAAAAAAAAAAAAAAAAAAAAAAAAAAAAAAAAAAAAAAAAAAAAAAAAAAAAAAAAAAAAAAAAAAAAAAAAAAAAAAAAAAAAAAAAAAAAAAAAAAAAAAAAAAAAAAAAAAAAAAAAAAAAAAAAAAAAAAAAAAAAAAAAAAAAAAAAAAAAAAAAAAAAAAAAAAAAAAAAAAAAAAAAAAAAAAAAAAAAAAAAAAAAAAAAAAAAAAAAAAAAAAAAAAAAAAAAAAAAAAAAAAAAAAAAAAAAAAAAAAAAAAAAAAAAAAAAAAAAAAAAAAAAAAAAAAAAAAAAAAAAAAAAAAAAAAAAAAAAAAAAAAAAAAAAAAAAAAAAAAAAAAAAAAAAAAAAAAAAAAAAAAAAAAAAAAAAAAAAAAAAAAAAAAAAAAAAAAAAAAAAAAAAAAAAAAAAAAAAAAAAAAAAAAAAAAAAAAAAAAAAAAAAAAAAAAAAAAAAAAAAAAAAAAAAAAAAAAAAAAAAAAAAAAAAAAAAAAAAAAAAAAAAAAAAAAAAAAAAAAAAAAAAAAACwAAAAABQABAAAICAAFBAAAYEBAADs=\"><title>Layer: hidden (hidden)\n shape = (5,)\n Keras class = Dense\n activation = relu</title></image><text x=\"280.0\" y=\"122.0\" font-family=\"monospace\" font-size=\"12\" text-anchor=\"start\" alignment-baseline=\"central\">hidden</text><line x1=\"175.0\" y1=\"169\" x2=\"175.0\" y2=\"142\" stroke=\"black\" stroke-width=\"2\" marker-end=\"url(#arrow)\"><title>Weights from input to hidden\n hidden/kernel has shape (5, 5)\n hidden/bias has shape (5,)</title></line><rect x=\"74.0\" y=\"169\" width=\"202\" height=\"42\" style=\"fill:none;stroke:black;stroke-width:2\"/><image id=\"Autoencoder_input_9\" class=\"Autoencoder_input\" x=\"75.0\" y=\"170\" height=\"40\" width=\"200\" preserveAspectRatio=\"none\" href=\"data:image/gif;base64,R0lGODdhBQABAIcAAGcAHxoaGgAAAAAAAAAAAAAAAAAAAAAAAAAAAAAAAAAAAAAAAAAAAAAAAAAAAAAAAAAAAAAAAAAAAAAAAAAAAAAAAAAAAAAAAAAAAAAAAAAAAAAAAAAAAAAAAAAAAAAAAAAAAAAAAAAAAAAAAAAAAAAAAAAAAAAAAAAAAAAAAAAAAAAAAAAAAAAAAAAAAAAAAAAAAAAAAAAAAAAAAAAAAAAAAAAAAAAAAAAAAAAAAAAAAAAAAAAAAAAAAAAAAAAAAAAAAAAAAAAAAAAAAAAAAAAAAAAAAAAAAAAAAAAAAAAAAAAAAAAAAAAAAAAAAAAAAAAAAAAAAAAAAAAAAAAAAAAAAAAAAAAAAAAAAAAAAAAAAAAAAAAAAAAAAAAAAAAAAAAAAAAAAAAAAAAAAAAAAAAAAAAAAAAAAAAAAAAAAAAAAAAAAAAAAAAAAAAAAAAAAAAAAAAAAAAAAAAAAAAAAAAAAAAAAAAAAAAAAAAAAAAAAAAAAAAAAAAAAAAAAAAAAAAAAAAAAAAAAAAAAAAAAAAAAAAAAAAAAAAAAAAAAAAAAAAAAAAAAAAAAAAAAAAAAAAAAAAAAAAAAAAAAAAAAAAAAAAAAAAAAAAAAAAAAAAAAAAAAAAAAAAAAAAAAAAAAAAAAAAAAAAAAAAAAAAAAAAAAAAAAAAAAAAAAAAAAAAAAAAAAAAAAAAAAAAAAAAAAAAAAAAAAAAAAAAAAAAAAAAAAAAAAAAAAAAAAAAAAAAAAAAAAAAAAAAAAAAAAAAAAAAAAAAAAAAAAAAAAAAAAAAAAAAAAAAAAAAAAAAAAAAAAAAAAAAAAAAAAAAAAAAAAAAAAAAAAAAAAAAAAAAAAAAAAAAAAAAAAAAAAAAAAAAAAAAAAAAAAAAAAAAAAAAAAAAAAAAAAAAAAAAAAAAAAAAAAAAAAAAAAAAAAAAAAAAAAAAAAAAAAAAAAAAAAAAAAAAAAAAAAAAAAAAAAAAAAAAAAAAAAAAAAAAAAAAAAAAAAAAAAAAAAAAAAAAAAAAAACwAAAAABQABAAAIBwADABgIICAAOw==\"><title>Layer: input (input)\n shape = (5,)\n Keras class = Input</title></image><text x=\"280.0\" y=\"192.0\" font-family=\"monospace\" font-size=\"12\" text-anchor=\"start\" alignment-baseline=\"central\">input</text></svg></p>"
      }
     },
     "bb1d0904b8d143d08917b02be5ec1ffe": {
      "model_module": "@jupyter-widgets/base",
      "model_module_version": "1.0.0",
      "model_name": "LayoutModel",
      "state": {
       "height": "50px",
       "width": "95%"
      }
     },
     "bb3422c67441485b957950fd5471ef6b": {
      "model_module": "@jupyter-widgets/controls",
      "model_module_version": "1.0.0",
      "model_name": "SliderStyleModel",
      "state": {
       "description_width": ""
      }
     },
     "bbe3b4d966ed4917987c061c4eb54c7e": {
      "model_module": "@jupyter-widgets/base",
      "model_module_version": "1.0.0",
      "model_name": "LayoutModel",
      "state": {
       "width": "100%"
      }
     },
     "bca3ff43acb445b88bf2e3dc6217047e": {
      "model_module": "@jupyter-widgets/controls",
      "model_module_version": "1.0.0",
      "model_name": "TabModel",
      "state": {
       "_titles": {
        "0": "Network",
        "1": "Help"
       },
       "children": [
        "IPY_MODEL_5897565ac8394b1d96df3c7ba9caa404",
        "IPY_MODEL_0e09b2e0cccf4e55aaaf655b88eff0fa"
       ],
       "layout": "IPY_MODEL_a680929160124266baae60a0560e6c56"
      }
     },
     "bd2e710444304335bf2e7417d6d5be18": {
      "model_module": "@jupyter-widgets/controls",
      "model_module_version": "1.0.0",
      "model_name": "ButtonStyleModel",
      "state": {}
     },
     "bd6665544c35498ebd8906d4e0d6900b": {
      "model_module": "@jupyter-widgets/controls",
      "model_module_version": "1.0.0",
      "model_name": "SliderStyleModel",
      "state": {
       "description_width": ""
      }
     },
     "be11a18265b346f48598522d63b1e0e1": {
      "model_module": "@jupyter-widgets/controls",
      "model_module_version": "1.0.0",
      "model_name": "ButtonStyleModel",
      "state": {}
     },
     "be6e48cd13714b2c90518c338b89399d": {
      "model_module": "@jupyter-widgets/controls",
      "model_module_version": "1.0.0",
      "model_name": "ButtonModel",
      "state": {
       "icon": "backward",
       "layout": "IPY_MODEL_665fbacce44546cf82a41ca40cd0bd20",
       "style": "IPY_MODEL_185f41886d87454c9a1da8724da652fd"
      }
     },
     "be9d51871e6344259cafe340b699bede": {
      "model_module": "@jupyter-widgets/controls",
      "model_module_version": "1.0.0",
      "model_name": "ButtonModel",
      "state": {
       "icon": "fast-forward",
       "layout": "IPY_MODEL_c756ad7be09a4d2c83fe33b9e99a86ae",
       "style": "IPY_MODEL_b0e0a2dbcda3486b9cbcf15cce766056"
      }
     },
     "beeef6232ab145f7956fd07d0c54975d": {
      "model_module": "@jupyter-widgets/base",
      "model_module_version": "1.0.0",
      "model_name": "LayoutModel",
      "state": {}
     },
     "bf230808b09c4caaba23b1b1bb6c7bb7": {
      "model_module": "@jupyter-widgets/controls",
      "model_module_version": "1.0.0",
      "model_name": "HTMLModel",
      "state": {
       "layout": "IPY_MODEL_2aacd5895cdb479ebf5c8ed39f92b2de",
       "style": "IPY_MODEL_088b706a07ef417d80ceaf3530304939",
       "value": "<p style=\"text-align:center\"><svg id='Autoencoder' xmlns='http://www.w3.org/2000/svg' width=\"350\" height=\"235\" image-rendering=\"pixelated\">\n    <defs>\n        <marker id=\"arrow\" markerWidth=\"10\" markerHeight=\"10\" refX=\"9\" refY=\"3\" orient=\"auto\" markerUnits=\"strokeWidth\">\n          <path d=\"M0,0 L0,6 L9,3 z\" fill=\"black\" />\n        </marker>\n    </defs><text x=\"175.0\" y=\"12.5\" font-family=\"monospace\" font-size=\"15\" text-anchor=\"middle\" alignment-baseline=\"central\">Autoencoder</text><rect x=\"74.0\" y=\"29\" width=\"202\" height=\"42\" style=\"fill:none;stroke:black;stroke-width:2\"/><image id=\"Autoencoder_output_7\" class=\"Autoencoder_output\" x=\"75.0\" y=\"30\" height=\"40\" width=\"200\" preserveAspectRatio=\"none\" href=\"data:image/gif;base64,R0lGODdhBQABAIcAAHsGIpANJZkQJ95yW8/PzwAAAAAAAAAAAAAAAAAAAAAAAAAAAAAAAAAAAAAAAAAAAAAAAAAAAAAAAAAAAAAAAAAAAAAAAAAAAAAAAAAAAAAAAAAAAAAAAAAAAAAAAAAAAAAAAAAAAAAAAAAAAAAAAAAAAAAAAAAAAAAAAAAAAAAAAAAAAAAAAAAAAAAAAAAAAAAAAAAAAAAAAAAAAAAAAAAAAAAAAAAAAAAAAAAAAAAAAAAAAAAAAAAAAAAAAAAAAAAAAAAAAAAAAAAAAAAAAAAAAAAAAAAAAAAAAAAAAAAAAAAAAAAAAAAAAAAAAAAAAAAAAAAAAAAAAAAAAAAAAAAAAAAAAAAAAAAAAAAAAAAAAAAAAAAAAAAAAAAAAAAAAAAAAAAAAAAAAAAAAAAAAAAAAAAAAAAAAAAAAAAAAAAAAAAAAAAAAAAAAAAAAAAAAAAAAAAAAAAAAAAAAAAAAAAAAAAAAAAAAAAAAAAAAAAAAAAAAAAAAAAAAAAAAAAAAAAAAAAAAAAAAAAAAAAAAAAAAAAAAAAAAAAAAAAAAAAAAAAAAAAAAAAAAAAAAAAAAAAAAAAAAAAAAAAAAAAAAAAAAAAAAAAAAAAAAAAAAAAAAAAAAAAAAAAAAAAAAAAAAAAAAAAAAAAAAAAAAAAAAAAAAAAAAAAAAAAAAAAAAAAAAAAAAAAAAAAAAAAAAAAAAAAAAAAAAAAAAAAAAAAAAAAAAAAAAAAAAAAAAAAAAAAAAAAAAAAAAAAAAAAAAAAAAAAAAAAAAAAAAAAAAAAAAAAAAAAAAAAAAAAAAAAAAAAAAAAAAAAAAAAAAAAAAAAAAAAAAAAAAAAAAAAAAAAAAAAAAAAAAAAAAAAAAAAAAAAAAAAAAAAAAAAAAAAAAAAAAAAAAAAAAAAAAAAAAAAAAAAAAAAAAAAAAAAAAAAAAAAAAAAAAAAAAAAAAAAAAAAAAAAAAAAAAAAAAAAAAAAAAAAAAAAAAAAAAAAAAAAAAAAAAAAAAAAAAAAAAAAAAAAAACwAAAAABQABAAAICAAJCAAQYEBAADs=\"><title>Layer: output (output)\n shape = (5,)\n Keras class = Dense\n activation = sigmoid</title></image><text x=\"280.0\" y=\"52.0\" font-family=\"monospace\" font-size=\"12\" text-anchor=\"start\" alignment-baseline=\"central\">output</text><line x1=\"175.0\" y1=\"99\" x2=\"175.0\" y2=\"72\" stroke=\"black\" stroke-width=\"2\" marker-end=\"url(#arrow)\"><title>Weights from hidden to output\n output/kernel has shape (5, 5)\n output/bias has shape (5,)</title></line><rect x=\"74.0\" y=\"99\" width=\"202\" height=\"42\" style=\"fill:none;stroke:black;stroke-width:2\"/><image id=\"Autoencoder_hidden_8\" class=\"Autoencoder_hidden\" x=\"75.0\" y=\"100\" height=\"40\" width=\"200\" preserveAspectRatio=\"none\" href=\"data:image/gif;base64,R0lGODdhBQABAIcAABoaGlBQUGcAH7AXKve2mAAAAAAAAAAAAAAAAAAAAAAAAAAAAAAAAAAAAAAAAAAAAAAAAAAAAAAAAAAAAAAAAAAAAAAAAAAAAAAAAAAAAAAAAAAAAAAAAAAAAAAAAAAAAAAAAAAAAAAAAAAAAAAAAAAAAAAAAAAAAAAAAAAAAAAAAAAAAAAAAAAAAAAAAAAAAAAAAAAAAAAAAAAAAAAAAAAAAAAAAAAAAAAAAAAAAAAAAAAAAAAAAAAAAAAAAAAAAAAAAAAAAAAAAAAAAAAAAAAAAAAAAAAAAAAAAAAAAAAAAAAAAAAAAAAAAAAAAAAAAAAAAAAAAAAAAAAAAAAAAAAAAAAAAAAAAAAAAAAAAAAAAAAAAAAAAAAAAAAAAAAAAAAAAAAAAAAAAAAAAAAAAAAAAAAAAAAAAAAAAAAAAAAAAAAAAAAAAAAAAAAAAAAAAAAAAAAAAAAAAAAAAAAAAAAAAAAAAAAAAAAAAAAAAAAAAAAAAAAAAAAAAAAAAAAAAAAAAAAAAAAAAAAAAAAAAAAAAAAAAAAAAAAAAAAAAAAAAAAAAAAAAAAAAAAAAAAAAAAAAAAAAAAAAAAAAAAAAAAAAAAAAAAAAAAAAAAAAAAAAAAAAAAAAAAAAAAAAAAAAAAAAAAAAAAAAAAAAAAAAAAAAAAAAAAAAAAAAAAAAAAAAAAAAAAAAAAAAAAAAAAAAAAAAAAAAAAAAAAAAAAAAAAAAAAAAAAAAAAAAAAAAAAAAAAAAAAAAAAAAAAAAAAAAAAAAAAAAAAAAAAAAAAAAAAAAAAAAAAAAAAAAAAAAAAAAAAAAAAAAAAAAAAAAAAAAAAAAAAAAAAAAAAAAAAAAAAAAAAAAAAAAAAAAAAAAAAAAAAAAAAAAAAAAAAAAAAAAAAAAAAAAAAAAAAAAAAAAAAAAAAAAAAAAAAAAAAAAAAAAAAAAAAAAAAAAAAAAAAAAAAAAAAAAAAAAAAAAAAAAAAAAAAAAAAAAAAAAAAAAAAAAAAAAAAAAAAAAAAAAAAAACwAAAAABQABAAAICAAFAAhAYEBAADs=\"><title>Layer: hidden (hidden)\n shape = (5,)\n Keras class = Dense\n activation = relu</title></image><text x=\"280.0\" y=\"122.0\" font-family=\"monospace\" font-size=\"12\" text-anchor=\"start\" alignment-baseline=\"central\">hidden</text><line x1=\"175.0\" y1=\"169\" x2=\"175.0\" y2=\"142\" stroke=\"black\" stroke-width=\"2\" marker-end=\"url(#arrow)\"><title>Weights from input to hidden\n hidden/kernel has shape (5, 5)\n hidden/bias has shape (5,)</title></line><rect x=\"74.0\" y=\"169\" width=\"202\" height=\"42\" style=\"fill:none;stroke:black;stroke-width:2\"/><image id=\"Autoencoder_input_9\" class=\"Autoencoder_input\" x=\"75.0\" y=\"170\" height=\"40\" width=\"200\" preserveAspectRatio=\"none\" href=\"data:image/gif;base64,R0lGODdhBQABAIcAAGcAHxoaGgAAAAAAAAAAAAAAAAAAAAAAAAAAAAAAAAAAAAAAAAAAAAAAAAAAAAAAAAAAAAAAAAAAAAAAAAAAAAAAAAAAAAAAAAAAAAAAAAAAAAAAAAAAAAAAAAAAAAAAAAAAAAAAAAAAAAAAAAAAAAAAAAAAAAAAAAAAAAAAAAAAAAAAAAAAAAAAAAAAAAAAAAAAAAAAAAAAAAAAAAAAAAAAAAAAAAAAAAAAAAAAAAAAAAAAAAAAAAAAAAAAAAAAAAAAAAAAAAAAAAAAAAAAAAAAAAAAAAAAAAAAAAAAAAAAAAAAAAAAAAAAAAAAAAAAAAAAAAAAAAAAAAAAAAAAAAAAAAAAAAAAAAAAAAAAAAAAAAAAAAAAAAAAAAAAAAAAAAAAAAAAAAAAAAAAAAAAAAAAAAAAAAAAAAAAAAAAAAAAAAAAAAAAAAAAAAAAAAAAAAAAAAAAAAAAAAAAAAAAAAAAAAAAAAAAAAAAAAAAAAAAAAAAAAAAAAAAAAAAAAAAAAAAAAAAAAAAAAAAAAAAAAAAAAAAAAAAAAAAAAAAAAAAAAAAAAAAAAAAAAAAAAAAAAAAAAAAAAAAAAAAAAAAAAAAAAAAAAAAAAAAAAAAAAAAAAAAAAAAAAAAAAAAAAAAAAAAAAAAAAAAAAAAAAAAAAAAAAAAAAAAAAAAAAAAAAAAAAAAAAAAAAAAAAAAAAAAAAAAAAAAAAAAAAAAAAAAAAAAAAAAAAAAAAAAAAAAAAAAAAAAAAAAAAAAAAAAAAAAAAAAAAAAAAAAAAAAAAAAAAAAAAAAAAAAAAAAAAAAAAAAAAAAAAAAAAAAAAAAAAAAAAAAAAAAAAAAAAAAAAAAAAAAAAAAAAAAAAAAAAAAAAAAAAAAAAAAAAAAAAAAAAAAAAAAAAAAAAAAAAAAAAAAAAAAAAAAAAAAAAAAAAAAAAAAAAAAAAAAAAAAAAAAAAAAAAAAAAAAAAAAAAAAAAAAAAAAAAAAAAAAAAAAAAAAAAAAAAAAAAAAAAAAAAAAAAAAACwAAAAABQABAAAIBwADABgIICAAOw==\"><title>Layer: input (input)\n shape = (5,)\n Keras class = Input</title></image><text x=\"280.0\" y=\"192.0\" font-family=\"monospace\" font-size=\"12\" text-anchor=\"start\" alignment-baseline=\"central\">input</text></svg></p>"
      }
     },
     "bf4d6253d18d43719ee96b2cb14d5d9e": {
      "model_module": "@jupyter-widgets/controls",
      "model_module_version": "1.0.0",
      "model_name": "DescriptionStyleModel",
      "state": {
       "description_width": ""
      }
     },
     "c2049cc85b1f4feb83d34cb4c0f42008": {
      "model_module": "@jupyter-widgets/base",
      "model_module_version": "1.0.0",
      "model_name": "LayoutModel",
      "state": {
       "height": "550px",
       "width": "95%"
      }
     },
     "c2666b9aedb7453c8bd1d40d18ff0228": {
      "model_module": "@jupyter-widgets/controls",
      "model_module_version": "1.0.0",
      "model_name": "DescriptionStyleModel",
      "state": {
       "description_width": ""
      }
     },
     "c2dab89f55844bb8b46771b81e3b8311": {
      "model_module": "@jupyter-widgets/base",
      "model_module_version": "1.0.0",
      "model_name": "LayoutModel",
      "state": {
       "width": "100%"
      }
     },
     "c2dd78789cc3447cb440f26bb486242a": {
      "model_module": "@jupyter-widgets/base",
      "model_module_version": "1.0.0",
      "model_name": "LayoutModel",
      "state": {
       "width": "100%"
      }
     },
     "c37af349180643ef840cbe87e8da7fee": {
      "model_module": "@jupyter-widgets/controls",
      "model_module_version": "1.0.0",
      "model_name": "SliderStyleModel",
      "state": {
       "description_width": ""
      }
     },
     "c3818cd918e44bfbaf81bed223ad03e6": {
      "model_module": "@jupyter-widgets/controls",
      "model_module_version": "1.0.0",
      "model_name": "ButtonModel",
      "state": {
       "icon": "fast-forward",
       "layout": "IPY_MODEL_fd27e12cc9bf4d73a58cbfd0b9bb9fc3",
       "style": "IPY_MODEL_a7c361b9876d456eaf7267cf3386bccd"
      }
     },
     "c3f201c667284b2099eabcd2aabb616c": {
      "model_module": "@jupyter-widgets/base",
      "model_module_version": "1.0.0",
      "model_name": "LayoutModel",
      "state": {
       "width": "100%"
      }
     },
     "c4739426dc324c2580a9428d1757be87": {
      "model_module": "@jupyter-widgets/base",
      "model_module_version": "1.0.0",
      "model_name": "LayoutModel",
      "state": {
       "width": "100%"
      }
     },
     "c6a1f23d656042eeaf8438a724b85db3": {
      "model_module": "@jupyter-widgets/base",
      "model_module_version": "1.0.0",
      "model_name": "LayoutModel",
      "state": {
       "height": "550px",
       "width": "95%"
      }
     },
     "c6ae2b43bbfd42a3aba71976bbb97c2f": {
      "model_module": "@jupyter-widgets/base",
      "model_module_version": "1.0.0",
      "model_name": "LayoutModel",
      "state": {}
     },
     "c744d78ccd8b4b049954cbadaf436ff6": {
      "model_module": "@jupyter-widgets/controls",
      "model_module_version": "1.0.0",
      "model_name": "DescriptionStyleModel",
      "state": {
       "description_width": ""
      }
     },
     "c756ad7be09a4d2c83fe33b9e99a86ae": {
      "model_module": "@jupyter-widgets/base",
      "model_module_version": "1.0.0",
      "model_name": "LayoutModel",
      "state": {
       "width": "100%"
      }
     },
     "c88852ec673e4f8a88cceaa62de705b1": {
      "model_module": "@jupyter-widgets/controls",
      "model_module_version": "1.0.0",
      "model_name": "ButtonModel",
      "state": {
       "icon": "backward",
       "layout": "IPY_MODEL_de199c0c23d949aab3f80b75e61115fd",
       "style": "IPY_MODEL_66a579685fe7499a9ce40ccc58de84b5"
      }
     },
     "c97867e6c6e045628c7cfe0aa97b85c1": {
      "model_module": "@jupyter-widgets/base",
      "model_module_version": "1.0.0",
      "model_name": "LayoutModel",
      "state": {}
     },
     "c9e7d3bda850437cb3a5362956f64e5f": {
      "model_module": "@jupyter-widgets/base",
      "model_module_version": "1.0.0",
      "model_name": "LayoutModel",
      "state": {
       "width": "100%"
      }
     },
     "ca2f119a5ff64be9b4d7e82789560cc4": {
      "model_module": "@jupyter-widgets/controls",
      "model_module_version": "1.0.0",
      "model_name": "HTMLModel",
      "state": {
       "layout": "IPY_MODEL_69395d2a746643cfb1153ed8380a0e2f",
       "style": "IPY_MODEL_fc481cc2222d4d0e8de24da7a3b9ec08",
       "value": "<p style=\"text-align:center\"><svg id='Autoencoder' xmlns='http://www.w3.org/2000/svg' width=\"350\" height=\"235\" image-rendering=\"pixelated\">\n    <defs>\n        <marker id=\"arrow\" markerWidth=\"10\" markerHeight=\"10\" refX=\"9\" refY=\"3\" orient=\"auto\" markerUnits=\"strokeWidth\">\n          <path d=\"M0,0 L0,6 L9,3 z\" fill=\"black\" />\n        </marker>\n    </defs><text x=\"175.0\" y=\"12.5\" font-family=\"monospace\" font-size=\"15\" text-anchor=\"middle\" alignment-baseline=\"central\">Autoencoder</text><rect x=\"74.0\" y=\"29\" width=\"202\" height=\"42\" style=\"fill:none;stroke:black;stroke-width:2\"/><image id=\"Autoencoder_output_7\" class=\"Autoencoder_output\" x=\"75.0\" y=\"30\" height=\"40\" width=\"200\" preserveAspectRatio=\"none\" href=\"data:image/gif;base64,R0lGODdhBQABAIcAAP359ve5m/nFq+np6QAAAAAAAAAAAAAAAAAAAAAAAAAAAAAAAAAAAAAAAAAAAAAAAAAAAAAAAAAAAAAAAAAAAAAAAAAAAAAAAAAAAAAAAAAAAAAAAAAAAAAAAAAAAAAAAAAAAAAAAAAAAAAAAAAAAAAAAAAAAAAAAAAAAAAAAAAAAAAAAAAAAAAAAAAAAAAAAAAAAAAAAAAAAAAAAAAAAAAAAAAAAAAAAAAAAAAAAAAAAAAAAAAAAAAAAAAAAAAAAAAAAAAAAAAAAAAAAAAAAAAAAAAAAAAAAAAAAAAAAAAAAAAAAAAAAAAAAAAAAAAAAAAAAAAAAAAAAAAAAAAAAAAAAAAAAAAAAAAAAAAAAAAAAAAAAAAAAAAAAAAAAAAAAAAAAAAAAAAAAAAAAAAAAAAAAAAAAAAAAAAAAAAAAAAAAAAAAAAAAAAAAAAAAAAAAAAAAAAAAAAAAAAAAAAAAAAAAAAAAAAAAAAAAAAAAAAAAAAAAAAAAAAAAAAAAAAAAAAAAAAAAAAAAAAAAAAAAAAAAAAAAAAAAAAAAAAAAAAAAAAAAAAAAAAAAAAAAAAAAAAAAAAAAAAAAAAAAAAAAAAAAAAAAAAAAAAAAAAAAAAAAAAAAAAAAAAAAAAAAAAAAAAAAAAAAAAAAAAAAAAAAAAAAAAAAAAAAAAAAAAAAAAAAAAAAAAAAAAAAAAAAAAAAAAAAAAAAAAAAAAAAAAAAAAAAAAAAAAAAAAAAAAAAAAAAAAAAAAAAAAAAAAAAAAAAAAAAAAAAAAAAAAAAAAAAAAAAAAAAAAAAAAAAAAAAAAAAAAAAAAAAAAAAAAAAAAAAAAAAAAAAAAAAAAAAAAAAAAAAAAAAAAAAAAAAAAAAAAAAAAAAAAAAAAAAAAAAAAAAAAAAAAAAAAAAAAAAAAAAAAAAAAAAAAAAAAAAAAAAAAAAAAAAAAAAAAAAAAAAAAAAAAAAAAAAAAAAAAAAAAAAAAAAAAAAAAAAAAAAAAAAAAAAAAAAAAAAAAAAAAAAAAAACwAAAAABQABAAAICAAFDAAQAEBAADs=\"><title>Layer: output (output)\n shape = (5,)\n Keras class = Dense\n activation = sigmoid</title></image><text x=\"280.0\" y=\"52.0\" font-family=\"monospace\" font-size=\"12\" text-anchor=\"start\" alignment-baseline=\"central\">output</text><line x1=\"175.0\" y1=\"99\" x2=\"175.0\" y2=\"72\" stroke=\"black\" stroke-width=\"2\" marker-end=\"url(#arrow)\"><title>Weights from hidden to output\n output/kernel has shape (5, 5)\n output/bias has shape (5,)</title></line><rect x=\"74.0\" y=\"99\" width=\"202\" height=\"42\" style=\"fill:none;stroke:black;stroke-width:2\"/><image id=\"Autoencoder_hidden_8\" class=\"Autoencoder_hidden\" x=\"75.0\" y=\"100\" height=\"40\" width=\"200\" preserveAspectRatio=\"none\" href=\"data:image/gif;base64,R0lGODdhBQABAIcAABoaGiAgIGcAH3R0dL4wNgAAAAAAAAAAAAAAAAAAAAAAAAAAAAAAAAAAAAAAAAAAAAAAAAAAAAAAAAAAAAAAAAAAAAAAAAAAAAAAAAAAAAAAAAAAAAAAAAAAAAAAAAAAAAAAAAAAAAAAAAAAAAAAAAAAAAAAAAAAAAAAAAAAAAAAAAAAAAAAAAAAAAAAAAAAAAAAAAAAAAAAAAAAAAAAAAAAAAAAAAAAAAAAAAAAAAAAAAAAAAAAAAAAAAAAAAAAAAAAAAAAAAAAAAAAAAAAAAAAAAAAAAAAAAAAAAAAAAAAAAAAAAAAAAAAAAAAAAAAAAAAAAAAAAAAAAAAAAAAAAAAAAAAAAAAAAAAAAAAAAAAAAAAAAAAAAAAAAAAAAAAAAAAAAAAAAAAAAAAAAAAAAAAAAAAAAAAAAAAAAAAAAAAAAAAAAAAAAAAAAAAAAAAAAAAAAAAAAAAAAAAAAAAAAAAAAAAAAAAAAAAAAAAAAAAAAAAAAAAAAAAAAAAAAAAAAAAAAAAAAAAAAAAAAAAAAAAAAAAAAAAAAAAAAAAAAAAAAAAAAAAAAAAAAAAAAAAAAAAAAAAAAAAAAAAAAAAAAAAAAAAAAAAAAAAAAAAAAAAAAAAAAAAAAAAAAAAAAAAAAAAAAAAAAAAAAAAAAAAAAAAAAAAAAAAAAAAAAAAAAAAAAAAAAAAAAAAAAAAAAAAAAAAAAAAAAAAAAAAAAAAAAAAAAAAAAAAAAAAAAAAAAAAAAAAAAAAAAAAAAAAAAAAAAAAAAAAAAAAAAAAAAAAAAAAAAAAAAAAAAAAAAAAAAAAAAAAAAAAAAAAAAAAAAAAAAAAAAAAAAAAAAAAAAAAAAAAAAAAAAAAAAAAAAAAAAAAAAAAAAAAAAAAAAAAAAAAAAAAAAAAAAAAAAAAAAAAAAAAAAAAAAAAAAAAAAAAAAAAAAAAAAAAAAAAAAAAAAAAAAAAAAAAAAAAAAAAAAAAAAAAAAAAAAAAAAAAAAAAAAAAAAAAAAAAAAAAAAAAAAAAACwAAAAABQABAAAICAADEBggAEBAADs=\"><title>Layer: hidden (hidden)\n shape = (5,)\n Keras class = Dense\n activation = relu</title></image><text x=\"280.0\" y=\"122.0\" font-family=\"monospace\" font-size=\"12\" text-anchor=\"start\" alignment-baseline=\"central\">hidden</text><line x1=\"175.0\" y1=\"169\" x2=\"175.0\" y2=\"142\" stroke=\"black\" stroke-width=\"2\" marker-end=\"url(#arrow)\"><title>Weights from input to hidden\n hidden/kernel has shape (5, 5)\n hidden/bias has shape (5,)</title></line><rect x=\"74.0\" y=\"169\" width=\"202\" height=\"42\" style=\"fill:none;stroke:black;stroke-width:2\"/><image id=\"Autoencoder_input_9\" class=\"Autoencoder_input\" x=\"75.0\" y=\"170\" height=\"40\" width=\"200\" preserveAspectRatio=\"none\" href=\"data:image/gif;base64,R0lGODdhBQABAIcAAGcAHxoaGgAAAAAAAAAAAAAAAAAAAAAAAAAAAAAAAAAAAAAAAAAAAAAAAAAAAAAAAAAAAAAAAAAAAAAAAAAAAAAAAAAAAAAAAAAAAAAAAAAAAAAAAAAAAAAAAAAAAAAAAAAAAAAAAAAAAAAAAAAAAAAAAAAAAAAAAAAAAAAAAAAAAAAAAAAAAAAAAAAAAAAAAAAAAAAAAAAAAAAAAAAAAAAAAAAAAAAAAAAAAAAAAAAAAAAAAAAAAAAAAAAAAAAAAAAAAAAAAAAAAAAAAAAAAAAAAAAAAAAAAAAAAAAAAAAAAAAAAAAAAAAAAAAAAAAAAAAAAAAAAAAAAAAAAAAAAAAAAAAAAAAAAAAAAAAAAAAAAAAAAAAAAAAAAAAAAAAAAAAAAAAAAAAAAAAAAAAAAAAAAAAAAAAAAAAAAAAAAAAAAAAAAAAAAAAAAAAAAAAAAAAAAAAAAAAAAAAAAAAAAAAAAAAAAAAAAAAAAAAAAAAAAAAAAAAAAAAAAAAAAAAAAAAAAAAAAAAAAAAAAAAAAAAAAAAAAAAAAAAAAAAAAAAAAAAAAAAAAAAAAAAAAAAAAAAAAAAAAAAAAAAAAAAAAAAAAAAAAAAAAAAAAAAAAAAAAAAAAAAAAAAAAAAAAAAAAAAAAAAAAAAAAAAAAAAAAAAAAAAAAAAAAAAAAAAAAAAAAAAAAAAAAAAAAAAAAAAAAAAAAAAAAAAAAAAAAAAAAAAAAAAAAAAAAAAAAAAAAAAAAAAAAAAAAAAAAAAAAAAAAAAAAAAAAAAAAAAAAAAAAAAAAAAAAAAAAAAAAAAAAAAAAAAAAAAAAAAAAAAAAAAAAAAAAAAAAAAAAAAAAAAAAAAAAAAAAAAAAAAAAAAAAAAAAAAAAAAAAAAAAAAAAAAAAAAAAAAAAAAAAAAAAAAAAAAAAAAAAAAAAAAAAAAAAAAAAAAAAAAAAAAAAAAAAAAAAAAAAAAAAAAAAAAAAAAAAAAAAAAAAAAAAAAAAAAAAAAAAAAAAAAAAAAAAAAAAAAAACwAAAAABQABAAAIBwADABgIICAAOw==\"><title>Layer: input (input)\n shape = (5,)\n Keras class = Input</title></image><text x=\"280.0\" y=\"192.0\" font-family=\"monospace\" font-size=\"12\" text-anchor=\"start\" alignment-baseline=\"central\">input</text></svg></p>"
      }
     },
     "caec24cd2be1492fb3403a2a0ed0afe1": {
      "model_module": "@jupyter-widgets/base",
      "model_module_version": "1.0.0",
      "model_name": "LayoutModel",
      "state": {
       "width": "100%"
      }
     },
     "ccbd13cc14bb4db0bcf2248104786cfe": {
      "model_module": "@jupyter-widgets/controls",
      "model_module_version": "1.0.0",
      "model_name": "ButtonModel",
      "state": {
       "icon": "backward",
       "layout": "IPY_MODEL_6420ba8e6a454d85984a95bd40c85219",
       "style": "IPY_MODEL_252455a7637a4228bdf47f199ead7a84"
      }
     },
     "ccf140164d764949a364e45917f94e7b": {
      "model_module": "@jupyter-widgets/base",
      "model_module_version": "1.0.0",
      "model_name": "LayoutModel",
      "state": {
       "height": "550px",
       "justify_content": "center",
       "overflow_x": "auto",
       "width": "95%"
      }
     },
     "cd47333a64e442fcbd1afb3a4aef58d8": {
      "model_module": "@jupyter-widgets/controls",
      "model_module_version": "1.0.0",
      "model_name": "ButtonStyleModel",
      "state": {}
     },
     "cdd49923f21a4947a10eac7e672110c4": {
      "model_module": "@jupyter-widgets/base",
      "model_module_version": "1.0.0",
      "model_name": "LayoutModel",
      "state": {
       "height": "550px",
       "justify_content": "center",
       "overflow_x": "auto",
       "width": "95%"
      }
     },
     "cefdd0eca7b64c60a6b903260f8c8a02": {
      "model_module": "@jupyter-widgets/base",
      "model_module_version": "1.0.0",
      "model_name": "LayoutModel",
      "state": {
       "width": "100%"
      }
     },
     "cf31584598dd4f2f86664456dce0b4b4": {
      "model_module": "@jupyter-widgets/base",
      "model_module_version": "1.0.0",
      "model_name": "LayoutModel",
      "state": {
       "height": "50px",
       "width": "95%"
      }
     },
     "d0987f5fcf6d45efa3d118efcc740616": {
      "model_module": "@jupyter-widgets/controls",
      "model_module_version": "1.0.0",
      "model_name": "IntSliderModel",
      "state": {
       "continuous_update": false,
       "description": "Dataset index",
       "layout": "IPY_MODEL_c2dd78789cc3447cb440f26bb486242a",
       "max": 4,
       "style": "IPY_MODEL_3f09ca0346c84302b994063e9631abbc"
      }
     },
     "d0bd2b67ab2548cfb92ca5b0d98c5cf6": {
      "model_module": "@jupyter-widgets/base",
      "model_module_version": "1.0.0",
      "model_name": "LayoutModel",
      "state": {
       "width": "100%"
      }
     },
     "d0c9f5bd4b6c4b44a52c19f01544d2cb": {
      "model_module": "@jupyter-widgets/controls",
      "model_module_version": "1.0.0",
      "model_name": "ButtonModel",
      "state": {
       "disabled": true,
       "icon": "forward",
       "layout": "IPY_MODEL_e48dfaaca7ab460ca93c486b2a4ae792",
       "style": "IPY_MODEL_d4dd5afe3ccc4a92854e29f1529962ca"
      }
     },
     "d1aca1517a7d4a65b770ca7886690625": {
      "model_module": "@jupyter-widgets/controls",
      "model_module_version": "1.0.0",
      "model_name": "ButtonModel",
      "state": {
       "description": "Train",
       "layout": "IPY_MODEL_4fc8bf746e7840e28479f67036db8159",
       "style": "IPY_MODEL_87afa1857b304b0cbcb1ed107e568aa9"
      }
     },
     "d2ae73a809b946c38fb4d9db3278573f": {
      "model_module": "@jupyter-widgets/base",
      "model_module_version": "1.0.0",
      "model_name": "LayoutModel",
      "state": {}
     },
     "d30c4001caec42c6b94ad533182d9b0a": {
      "model_module": "@jupyter-widgets/controls",
      "model_module_version": "1.0.0",
      "model_name": "ButtonStyleModel",
      "state": {}
     },
     "d35feedde61f4fafad4fc4ffd420fdf1": {
      "model_module": "@jupyter-widgets/controls",
      "model_module_version": "1.0.0",
      "model_name": "ButtonModel",
      "state": {
       "disabled": true,
       "icon": "backward",
       "layout": "IPY_MODEL_2f9ed4ba7bcc46f089406a11d79a7288",
       "style": "IPY_MODEL_64c424539c864fa98fffdb0cc90848e2"
      }
     },
     "d37f07f295f64fa2996ff8b7e7ba3465": {
      "model_module": "@jupyter-widgets/base",
      "model_module_version": "1.0.0",
      "model_name": "LayoutModel",
      "state": {
       "height": "550px",
       "width": "100%"
      }
     },
     "d3ebcc4fd3824039bd14839caf757918": {
      "model_module": "@jupyter-widgets/controls",
      "model_module_version": "1.0.0",
      "model_name": "DescriptionStyleModel",
      "state": {
       "description_width": ""
      }
     },
     "d3fd49a2daa84200a3a38c145aba086f": {
      "model_module": "@jupyter-widgets/controls",
      "model_module_version": "1.0.0",
      "model_name": "ButtonModel",
      "state": {
       "icon": "fast-backward",
       "layout": "IPY_MODEL_971b7d65685341ee98df2053402731ad",
       "style": "IPY_MODEL_3f3377d83f824f72b6603092fcf811c9"
      }
     },
     "d48a3eca372f4eee9f8c17d8d2893ff6": {
      "model_module": "@jupyter-widgets/controls",
      "model_module_version": "1.0.0",
      "model_name": "HTMLModel",
      "state": {
       "layout": "IPY_MODEL_96328d67d597418abf646235109e3496",
       "style": "IPY_MODEL_ae371f87c8804d30ae5bacf1c1c33f98",
       "value": "<p style=\"text-align:center\"><svg id='MNIST-Autoencoder' xmlns='http://www.w3.org/2000/svg' width=\"350\" height=\"705\" image-rendering=\"pixelated\">\n    <defs>\n        <marker id=\"arrow\" markerWidth=\"10\" markerHeight=\"10\" refX=\"9\" refY=\"3\" orient=\"auto\" markerUnits=\"strokeWidth\">\n          <path d=\"M0,0 L0,6 L9,3 z\" fill=\"black\" />\n        </marker>\n    </defs><text x=\"175.0\" y=\"12.5\" font-family=\"monospace\" font-size=\"15\" text-anchor=\"middle\" alignment-baseline=\"central\">MNIST-Autoencoder</text><rect x=\"74.0\" y=\"29\" width=\"202\" height=\"202\" style=\"fill:none;stroke:black;stroke-width:2\"/><image id=\"MNIST-Autoencoder_output_7\" class=\"MNIST-Autoencoder_output\" x=\"75.0\" y=\"30\" height=\"200\" width=\"200\" preserveAspectRatio=\"none\" href=\"data:image/gif;base64,R0lGODdhHAAcAIcAAP38/AAAAAAAAAAAAAAAAAAAAAAAAAAAAAAAAAAAAAAAAAAAAAAAAAAAAAAAAAAAAAAAAAAAAAAAAAAAAAAAAAAAAAAAAAAAAAAAAAAAAAAAAAAAAAAAAAAAAAAAAAAAAAAAAAAAAAAAAAAAAAAAAAAAAAAAAAAAAAAAAAAAAAAAAAAAAAAAAAAAAAAAAAAAAAAAAAAAAAAAAAAAAAAAAAAAAAAAAAAAAAAAAAAAAAAAAAAAAAAAAAAAAAAAAAAAAAAAAAAAAAAAAAAAAAAAAAAAAAAAAAAAAAAAAAAAAAAAAAAAAAAAAAAAAAAAAAAAAAAAAAAAAAAAAAAAAAAAAAAAAAAAAAAAAAAAAAAAAAAAAAAAAAAAAAAAAAAAAAAAAAAAAAAAAAAAAAAAAAAAAAAAAAAAAAAAAAAAAAAAAAAAAAAAAAAAAAAAAAAAAAAAAAAAAAAAAAAAAAAAAAAAAAAAAAAAAAAAAAAAAAAAAAAAAAAAAAAAAAAAAAAAAAAAAAAAAAAAAAAAAAAAAAAAAAAAAAAAAAAAAAAAAAAAAAAAAAAAAAAAAAAAAAAAAAAAAAAAAAAAAAAAAAAAAAAAAAAAAAAAAAAAAAAAAAAAAAAAAAAAAAAAAAAAAAAAAAAAAAAAAAAAAAAAAAAAAAAAAAAAAAAAAAAAAAAAAAAAAAAAAAAAAAAAAAAAAAAAAAAAAAAAAAAAAAAAAAAAAAAAAAAAAAAAAAAAAAAAAAAAAAAAAAAAAAAAAAAAAAAAAAAAAAAAAAAAAAAAAAAAAAAAAAAAAAAAAAAAAAAAAAAAAAAAAAAAAAAAAAAAAAAAAAAAAAAAAAAAAAAAAAAAAAAAAAAAAAAAAAAAAAAAAAAAAAAAAAAAAAAAAAAAAAAAAAAAAAAAAAAAAAAAAAAAAAAAAAAAAAAAAAAAAAAAAAAAAAAAAAAAAAAAAAAAAAAAAAAAAAAAAAAAAAAAAAAAAAAAAAAAAAAAAAAAAAAAAAAAAAAAAAAAAAAAAAAAAAAAAAAAACwAAAAAHAAcAEAIMAABCBxIsKDBgwgTKlzIsKHDhxAjSpxIsaLFixgzatzIsaPHjyBDihxJsqTJkwQDAgA7\"><title>Layer: output (output)\n shape = (28, 28, 1)\n Keras class = Dense\n activation = sigmoid</title></image><text x=\"280.0\" y=\"132.0\" font-family=\"monospace\" font-size=\"12\" text-anchor=\"start\" alignment-baseline=\"central\">output</text><line x1=\"175.0\" y1=\"259\" x2=\"175.0\" y2=\"232\" stroke=\"black\" stroke-width=\"2\" marker-end=\"url(#arrow)\"><title>Weights from hidden3 to output\n output/kernel has shape (25, 784)\n output/bias has shape (784,)</title></line><rect x=\"74.0\" y=\"259\" width=\"202\" height=\"27\" style=\"fill:none;stroke:black;stroke-width:2\"/><image id=\"MNIST-Autoencoder_hidden3_8\" class=\"MNIST-Autoencoder_hidden3\" x=\"75.0\" y=\"260\" height=\"25\" width=\"200\" preserveAspectRatio=\"none\" href=\"data:image/gif;base64,R0lGODdhGQABAIcAAGcAHxoaGoQJI5kQJ42Njb8yN8M7O81PRM5RRtpqVeB4X+yTdPWujv3dy/3n2gAAAAAAAAAAAAAAAAAAAAAAAAAAAAAAAAAAAAAAAAAAAAAAAAAAAAAAAAAAAAAAAAAAAAAAAAAAAAAAAAAAAAAAAAAAAAAAAAAAAAAAAAAAAAAAAAAAAAAAAAAAAAAAAAAAAAAAAAAAAAAAAAAAAAAAAAAAAAAAAAAAAAAAAAAAAAAAAAAAAAAAAAAAAAAAAAAAAAAAAAAAAAAAAAAAAAAAAAAAAAAAAAAAAAAAAAAAAAAAAAAAAAAAAAAAAAAAAAAAAAAAAAAAAAAAAAAAAAAAAAAAAAAAAAAAAAAAAAAAAAAAAAAAAAAAAAAAAAAAAAAAAAAAAAAAAAAAAAAAAAAAAAAAAAAAAAAAAAAAAAAAAAAAAAAAAAAAAAAAAAAAAAAAAAAAAAAAAAAAAAAAAAAAAAAAAAAAAAAAAAAAAAAAAAAAAAAAAAAAAAAAAAAAAAAAAAAAAAAAAAAAAAAAAAAAAAAAAAAAAAAAAAAAAAAAAAAAAAAAAAAAAAAAAAAAAAAAAAAAAAAAAAAAAAAAAAAAAAAAAAAAAAAAAAAAAAAAAAAAAAAAAAAAAAAAAAAAAAAAAAAAAAAAAAAAAAAAAAAAAAAAAAAAAAAAAAAAAAAAAAAAAAAAAAAAAAAAAAAAAAAAAAAAAAAAAAAAAAAAAAAAAAAAAAAAAAAAAAAAAAAAAAAAAAAAAAAAAAAAAAAAAAAAAAAAAAAAAAAAAAAAAAAAAAAAAAAAAAAAAAAAAAAAAAAAAAAAAAAAAAAAAAAAAAAAAAAAAAAAAAAAAAAAAAAAAAAAAAAAAAAAAAAAAAAAAAAAAAAAAAAAAAAAAAAAAAAAAAAAAAAAAAAAAAAAAAAAAAAAAAAAAAAAAAAAAAAAAAAAAAAAAAAAAAAAAAAAAAAAAAAAAAAAAAAAAAAAAAAAAAAAAAAAAAAAAAAAAAAAAAAAAAAAAAAAAAAAAAAAAAAAACwAAAAAGQABAAAIHwABDBAA4EABAAAUADCAAACABQAIAGAAAECDAA4SBAQAOw==\"><title>Layer: hidden3 (hidden)\n shape = (25,)\n Keras class = Dense\n activation = relu</title></image><text x=\"280.0\" y=\"274.5\" font-family=\"monospace\" font-size=\"12\" text-anchor=\"start\" alignment-baseline=\"central\">hidden3</text><line x1=\"175.0\" y1=\"314\" x2=\"175.0\" y2=\"287\" stroke=\"black\" stroke-width=\"2\" marker-end=\"url(#arrow)\"><title>Weights from hidden2 to hidden3\n hidden3/kernel has shape (25, 25)\n hidden3/bias has shape (25,)</title></line><rect x=\"74.0\" y=\"314\" width=\"202\" height=\"27\" style=\"fill:none;stroke:black;stroke-width:2\"/><image id=\"MNIST-Autoencoder_hidden2_9\" class=\"MNIST-Autoencoder_hidden2\" x=\"75.0\" y=\"315\" height=\"25\" width=\"200\" preserveAspectRatio=\"none\" href=\"data:image/gif;base64,R0lGODdhGQABAIcAAGcAH3gFIZENJRoaGrq6ut5yW+aFau2Wdve2mP3fzfLy8gAAAAAAAAAAAAAAAAAAAAAAAAAAAAAAAAAAAAAAAAAAAAAAAAAAAAAAAAAAAAAAAAAAAAAAAAAAAAAAAAAAAAAAAAAAAAAAAAAAAAAAAAAAAAAAAAAAAAAAAAAAAAAAAAAAAAAAAAAAAAAAAAAAAAAAAAAAAAAAAAAAAAAAAAAAAAAAAAAAAAAAAAAAAAAAAAAAAAAAAAAAAAAAAAAAAAAAAAAAAAAAAAAAAAAAAAAAAAAAAAAAAAAAAAAAAAAAAAAAAAAAAAAAAAAAAAAAAAAAAAAAAAAAAAAAAAAAAAAAAAAAAAAAAAAAAAAAAAAAAAAAAAAAAAAAAAAAAAAAAAAAAAAAAAAAAAAAAAAAAAAAAAAAAAAAAAAAAAAAAAAAAAAAAAAAAAAAAAAAAAAAAAAAAAAAAAAAAAAAAAAAAAAAAAAAAAAAAAAAAAAAAAAAAAAAAAAAAAAAAAAAAAAAAAAAAAAAAAAAAAAAAAAAAAAAAAAAAAAAAAAAAAAAAAAAAAAAAAAAAAAAAAAAAAAAAAAAAAAAAAAAAAAAAAAAAAAAAAAAAAAAAAAAAAAAAAAAAAAAAAAAAAAAAAAAAAAAAAAAAAAAAAAAAAAAAAAAAAAAAAAAAAAAAAAAAAAAAAAAAAAAAAAAAAAAAAAAAAAAAAAAAAAAAAAAAAAAAAAAAAAAAAAAAAAAAAAAAAAAAAAAAAAAAAAAAAAAAAAAAAAAAAAAAAAAAAAAAAAAAAAAAAAAAAAAAAAAAAAAAAAAAAAAAAAAAAAAAAAAAAAAAAAAAAAAAAAAAAAAAAAAAAAAAAAAAAAAAAAAAAAAAAAAAAAAAAAAAAAAAAAAAAAAAAAAAAAAAAAAAAAAAAAAAAAAAAAAAAAAAAAAAAAAAAAAAAAAAAAAAAAAAAAAAAAAAAAAAAAAAAAAAAAAAAAAAAAAAAAAAAAAAAAAAAAAAAAAAAAAAAAAAAAAAAAAAAAAAAAAACwAAAAAGQABAAAIHgARADAAoAAAAAIAKAwQAAAABQcIABAQAEACAAMCAgA7\"><title>Layer: hidden2 (hidden)\n shape = (25,)\n Keras class = Dense\n activation = relu</title></image><text x=\"280.0\" y=\"329.5\" font-family=\"monospace\" font-size=\"12\" text-anchor=\"start\" alignment-baseline=\"central\">hidden2</text><line x1=\"175.0\" y1=\"369\" x2=\"175.0\" y2=\"342\" stroke=\"black\" stroke-width=\"2\" marker-end=\"url(#arrow)\"><title>Weights from hidden1 to hidden2\n hidden2/kernel has shape (25, 25)\n hidden2/bias has shape (25,)</title></line><rect x=\"74.0\" y=\"369\" width=\"202\" height=\"27\" style=\"fill:none;stroke:black;stroke-width:2\"/><image id=\"MNIST-Autoencoder_hidden1_10\" class=\"MNIST-Autoencoder_hidden1\" x=\"75.0\" y=\"370\" height=\"25\" width=\"200\" preserveAspectRatio=\"none\" href=\"data:image/gif;base64,R0lGODdhGQABAIcAAGcAH/rz7xoaGjg4OLQcLbgkMcdDP9ttVwAAAAAAAAAAAAAAAAAAAAAAAAAAAAAAAAAAAAAAAAAAAAAAAAAAAAAAAAAAAAAAAAAAAAAAAAAAAAAAAAAAAAAAAAAAAAAAAAAAAAAAAAAAAAAAAAAAAAAAAAAAAAAAAAAAAAAAAAAAAAAAAAAAAAAAAAAAAAAAAAAAAAAAAAAAAAAAAAAAAAAAAAAAAAAAAAAAAAAAAAAAAAAAAAAAAAAAAAAAAAAAAAAAAAAAAAAAAAAAAAAAAAAAAAAAAAAAAAAAAAAAAAAAAAAAAAAAAAAAAAAAAAAAAAAAAAAAAAAAAAAAAAAAAAAAAAAAAAAAAAAAAAAAAAAAAAAAAAAAAAAAAAAAAAAAAAAAAAAAAAAAAAAAAAAAAAAAAAAAAAAAAAAAAAAAAAAAAAAAAAAAAAAAAAAAAAAAAAAAAAAAAAAAAAAAAAAAAAAAAAAAAAAAAAAAAAAAAAAAAAAAAAAAAAAAAAAAAAAAAAAAAAAAAAAAAAAAAAAAAAAAAAAAAAAAAAAAAAAAAAAAAAAAAAAAAAAAAAAAAAAAAAAAAAAAAAAAAAAAAAAAAAAAAAAAAAAAAAAAAAAAAAAAAAAAAAAAAAAAAAAAAAAAAAAAAAAAAAAAAAAAAAAAAAAAAAAAAAAAAAAAAAAAAAAAAAAAAAAAAAAAAAAAAAAAAAAAAAAAAAAAAAAAAAAAAAAAAAAAAAAAAAAAAAAAAAAAAAAAAAAAAAAAAAAAAAAAAAAAAAAAAAAAAAAAAAAAAAAAAAAAAAAAAAAAAAAAAAAAAAAAAAAAAAAAAAAAAAAAAAAAAAAAAAAAAAAAAAAAAAAAAAAAAAAAAAAAAAAAAAAAAAAAAAAAAAAAAAAAAAAAAAAAAAAAAAAAAAAAAAAAAAAAAAAAAAAAAAAAAAAAAAAAAAAAAAAAAAAAAAAAAAAAAAAAAAAAAAAAAAAAAAAAAAAAAAAAAAAAAAAAAAAAAAAAAAAAAAAAAAAAAAAAAAAAACwAAAAAGQABAAAIFwABFAgAoOABAAgTJiQgIACAAQYASAwIADs=\"><title>Layer: hidden1 (hidden)\n shape = (25,)\n Keras class = Dense\n activation = relu</title></image><text x=\"280.0\" y=\"384.5\" font-family=\"monospace\" font-size=\"12\" text-anchor=\"start\" alignment-baseline=\"central\">hidden1</text><line x1=\"175.0\" y1=\"424\" x2=\"175.0\" y2=\"397\" stroke=\"black\" stroke-width=\"2\" marker-end=\"url(#arrow)\"><title>Weights from flatten to hidden1\n hidden1/kernel has shape (784, 25)\n hidden1/bias has shape (25,)</title></line><rect x=\"74.0\" y=\"424\" width=\"202\" height=\"27\" style=\"fill:none;stroke:black;stroke-width:2\"/><image id=\"MNIST-Autoencoder_flatten_11\" class=\"MNIST-Autoencoder_flatten\" x=\"75.0\" y=\"425\" height=\"25\" width=\"200\" preserveAspectRatio=\"none\" href=\"data:image/gif;base64,R0lGODdhEAMBAIcAAP39/BwcHOjo6CUlJcbGxjk5OVdXV4eHh5qammVlZdfX13Nzc0dHR6enp7W1tQAAAAAAAAAAAAAAAAAAAAAAAAAAAAAAAAAAAAAAAAAAAAAAAAAAAAAAAAAAAAAAAAAAAAAAAAAAAAAAAAAAAAAAAAAAAAAAAAAAAAAAAAAAAAAAAAAAAAAAAAAAAAAAAAAAAAAAAAAAAAAAAAAAAAAAAAAAAAAAAAAAAAAAAAAAAAAAAAAAAAAAAAAAAAAAAAAAAAAAAAAAAAAAAAAAAAAAAAAAAAAAAAAAAAAAAAAAAAAAAAAAAAAAAAAAAAAAAAAAAAAAAAAAAAAAAAAAAAAAAAAAAAAAAAAAAAAAAAAAAAAAAAAAAAAAAAAAAAAAAAAAAAAAAAAAAAAAAAAAAAAAAAAAAAAAAAAAAAAAAAAAAAAAAAAAAAAAAAAAAAAAAAAAAAAAAAAAAAAAAAAAAAAAAAAAAAAAAAAAAAAAAAAAAAAAAAAAAAAAAAAAAAAAAAAAAAAAAAAAAAAAAAAAAAAAAAAAAAAAAAAAAAAAAAAAAAAAAAAAAAAAAAAAAAAAAAAAAAAAAAAAAAAAAAAAAAAAAAAAAAAAAAAAAAAAAAAAAAAAAAAAAAAAAAAAAAAAAAAAAAAAAAAAAAAAAAAAAAAAAAAAAAAAAAAAAAAAAAAAAAAAAAAAAAAAAAAAAAAAAAAAAAAAAAAAAAAAAAAAAAAAAAAAAAAAAAAAAAAAAAAAAAAAAAAAAAAAAAAAAAAAAAAAAAAAAAAAAAAAAAAAAAAAAAAAAAAAAAAAAAAAAAAAAAAAAAAAAAAAAAAAAAAAAAAAAAAAAAAAAAAAAAAAAAAAAAAAAAAAAAAAAAAAAAAAAAAAAAAAAAAAAAAAAAAAAAAAAAAAAAAAAAAAAAAAAAAAAAAAAAAAAAAAAAAAAAAAAAAAAAAAAAAAAAAAAAAAAAAAAAAAAAAAAAAAAAAAAAAAAAAAAAAAAAAAAAAAAAAAAAAAAAAAAAAAAAAAAAAAAAAAACwAAAAAEAMBAAAI/wABCBxIsKDBgwgTKlzIsKHDhxAjDmyAIIGABQEGNADAsaNHjgIEEDiwIIBJkwUWBBhgQAGAlzBjAhAwIIDNmzcJ6FQgAIDPn0B/FghAlKiBBAMGAFjKtKlTpgQOOAgQgAEAAAIOANjKtavXrwcCEABAtqzZs2jNIghgAIDbt3Djyo1rIIACAHjz6t3LV6+AAQUOOABAuLDhw4gLExgQIEADAQAiS55MuXJkAQkCBDggAIDnz6BDi/5MIECABABSq17NuvXqAQEGKABAu7bt27gFIEgQIAADAMCDCx8+XMCBAgGSD0gAoLnz59CfNygQoHoAAwQAaN/Ovft2BQwCiEIPYIAAgPPo06tHv6BAgPcBDBAAQL++/fv0FSwoEKB/AIADEAAgWNDgQYMIAixkgAABAIgRJU6kWNHiRYwZNW7EGBAAOw==\"><title>Layer: flatten (hidden)\n Keras class = Flatten</title></image><text x=\"280.0\" y=\"439.5\" font-family=\"monospace\" font-size=\"12\" text-anchor=\"start\" alignment-baseline=\"central\">flatten</text><line x1=\"175.0\" y1=\"479\" x2=\"175.0\" y2=\"452\" stroke=\"black\" stroke-width=\"2\" marker-end=\"url(#arrow)\"><title>Weights from input to flatten</title></line><rect x=\"74.0\" y=\"479\" width=\"202\" height=\"202\" style=\"fill:none;stroke:black;stroke-width:2\"/><image id=\"MNIST-Autoencoder_input_12\" class=\"MNIST-Autoencoder_input\" x=\"75.0\" y=\"480\" height=\"200\" width=\"200\" preserveAspectRatio=\"none\" href=\"data:image/gif;base64,R0lGODdhHAAcAIcAAP39/BwcHOjo6CUlJcbGxjk5OVdXV4eHh5qammVlZdfX13Nzc0dHR6enp7W1tQAAAAAAAAAAAAAAAAAAAAAAAAAAAAAAAAAAAAAAAAAAAAAAAAAAAAAAAAAAAAAAAAAAAAAAAAAAAAAAAAAAAAAAAAAAAAAAAAAAAAAAAAAAAAAAAAAAAAAAAAAAAAAAAAAAAAAAAAAAAAAAAAAAAAAAAAAAAAAAAAAAAAAAAAAAAAAAAAAAAAAAAAAAAAAAAAAAAAAAAAAAAAAAAAAAAAAAAAAAAAAAAAAAAAAAAAAAAAAAAAAAAAAAAAAAAAAAAAAAAAAAAAAAAAAAAAAAAAAAAAAAAAAAAAAAAAAAAAAAAAAAAAAAAAAAAAAAAAAAAAAAAAAAAAAAAAAAAAAAAAAAAAAAAAAAAAAAAAAAAAAAAAAAAAAAAAAAAAAAAAAAAAAAAAAAAAAAAAAAAAAAAAAAAAAAAAAAAAAAAAAAAAAAAAAAAAAAAAAAAAAAAAAAAAAAAAAAAAAAAAAAAAAAAAAAAAAAAAAAAAAAAAAAAAAAAAAAAAAAAAAAAAAAAAAAAAAAAAAAAAAAAAAAAAAAAAAAAAAAAAAAAAAAAAAAAAAAAAAAAAAAAAAAAAAAAAAAAAAAAAAAAAAAAAAAAAAAAAAAAAAAAAAAAAAAAAAAAAAAAAAAAAAAAAAAAAAAAAAAAAAAAAAAAAAAAAAAAAAAAAAAAAAAAAAAAAAAAAAAAAAAAAAAAAAAAAAAAAAAAAAAAAAAAAAAAAAAAAAAAAAAAAAAAAAAAAAAAAAAAAAAAAAAAAAAAAAAAAAAAAAAAAAAAAAAAAAAAAAAAAAAAAAAAAAAAAAAAAAAAAAAAAAAAAAAAAAAAAAAAAAAAAAAAAAAAAAAAAAAAAAAAAAAAAAAAAAAAAAAAAAAAAAAAAAAAAAAAAAAAAAAAAAAAAAAAAAAAAAAAAAAAAAAAAAAAAAAAAAAAAAAAAAAAAAAAAAAAAAAAAAAAAAAAAAAAAAAAAAAAAAAACwAAAAAHAAcAEAI/wABCBxIsKDBgwgLBFi40ECCAQMASJxIsaLFigQCBEgAoKPHjx0RBBjJAAECAChTqlzJsqXLlzBRGgigAIDNmzhz6rzZoECAnwEMEABAtKjRo0iTKl0qQACBAwsCSJVaYEGAAQYUANjKtavXAwEIABhLtqzZs2cJDAgQoIEAAHDjyp1LF64ABAkCBGAAoK/fv4AXFAhAOIABAgASK17MuLHjx5AjS55MufLjBggSCFgQYEADAKBDiwYgYECA06hRE1itQACA17BjwyZwwEGAAAwAABBwAIDv38CDC0cQwACA48iTK1+uXMCAAgccAJhOvbr169UFJAgQ4IAAAODDi0QfT178gAADFABYz769+/YCDhQIQH9AAgD48+vfj18BA4ABBAYwQADAQYQJFSpYUCDAwwADEACgWNHiRYwZNW7k2PFiQAA7\"><title>Layer: input (input)\n shape = (28, 28, 1)\n Keras class = Input</title></image><text x=\"280.0\" y=\"582.0\" font-family=\"monospace\" font-size=\"12\" text-anchor=\"start\" alignment-baseline=\"central\">input</text><text x=\"280.0\" y=\"485\" font-family=\"monospace\" font-size=\"12\" text-anchor=\"start\" alignment-baseline=\"central\">1</text><text x=\"63.0\" y=\"675\" font-family=\"monospace\" font-size=\"12\" text-anchor=\"start\" alignment-baseline=\"central\">0</text></svg></p>"
      }
     },
     "d4b9c0b8f75046819860ec4fc42bdc4f": {
      "model_module": "@jupyter-widgets/base",
      "model_module_version": "1.0.0",
      "model_name": "LayoutModel",
      "state": {}
     },
     "d4d3e7a314114d4db06d2c5f57562d4f": {
      "model_module": "@jupyter-widgets/controls",
      "model_module_version": "1.0.0",
      "model_name": "ButtonStyleModel",
      "state": {}
     },
     "d4dd5afe3ccc4a92854e29f1529962ca": {
      "model_module": "@jupyter-widgets/controls",
      "model_module_version": "1.0.0",
      "model_name": "ButtonStyleModel",
      "state": {}
     },
     "d528c75ecbb84fa3a66b034fbad534c3": {
      "model_module": "@jupyter-widgets/controls",
      "model_module_version": "1.0.0",
      "model_name": "ButtonStyleModel",
      "state": {}
     },
     "d76c639f01b64e1886d1e44152f68fe7": {
      "model_module": "@jupyter-widgets/controls",
      "model_module_version": "1.0.0",
      "model_name": "HBoxModel",
      "state": {
       "children": [
        "IPY_MODEL_2c709788340848379308b3ea3bf527ad",
        "IPY_MODEL_be6e48cd13714b2c90518c338b89399d",
        "IPY_MODEL_d1aca1517a7d4a65b770ca7886690625",
        "IPY_MODEL_8e0fcd7c456b4c829b0c6adc59bae7ce",
        "IPY_MODEL_b7ad0b065f0745149ebc8c093ec12429"
       ],
       "layout": "IPY_MODEL_e7c9a5392b83409e8d3320ac646ff520"
      }
     },
     "d78d8993f2de4da2983d17ef9509440e": {
      "model_module": "@jupyter-widgets/controls",
      "model_module_version": "1.0.0",
      "model_name": "HTMLModel",
      "state": {
       "layout": "IPY_MODEL_ccf140164d764949a364e45917f94e7b",
       "style": "IPY_MODEL_09ae020e19b645609dcd09d8e7949e39",
       "value": "<p style=\"text-align:center\"><svg id='Autoencoder' xmlns='http://www.w3.org/2000/svg' width=\"350\" height=\"235\" image-rendering=\"pixelated\">\n    <defs>\n        <marker id=\"arrow\" markerWidth=\"10\" markerHeight=\"10\" refX=\"9\" refY=\"3\" orient=\"auto\" markerUnits=\"strokeWidth\">\n          <path d=\"M0,0 L0,6 L9,3 z\" fill=\"black\" />\n        </marker>\n    </defs><text x=\"175.0\" y=\"12.5\" font-family=\"monospace\" font-size=\"15\" text-anchor=\"middle\" alignment-baseline=\"central\">Autoencoder</text><rect x=\"74.0\" y=\"29\" width=\"202\" height=\"42\" style=\"fill:none;stroke:black;stroke-width:2\"/><image id=\"Autoencoder_output_7\" class=\"Autoencoder_output\" x=\"75.0\" y=\"30\" height=\"40\" width=\"200\" preserveAspectRatio=\"none\" href=\"data:image/gif;base64,R0lGODdhBQABAIcAAHUEIbwtNMA1OPSmg+Dg4AAAAAAAAAAAAAAAAAAAAAAAAAAAAAAAAAAAAAAAAAAAAAAAAAAAAAAAAAAAAAAAAAAAAAAAAAAAAAAAAAAAAAAAAAAAAAAAAAAAAAAAAAAAAAAAAAAAAAAAAAAAAAAAAAAAAAAAAAAAAAAAAAAAAAAAAAAAAAAAAAAAAAAAAAAAAAAAAAAAAAAAAAAAAAAAAAAAAAAAAAAAAAAAAAAAAAAAAAAAAAAAAAAAAAAAAAAAAAAAAAAAAAAAAAAAAAAAAAAAAAAAAAAAAAAAAAAAAAAAAAAAAAAAAAAAAAAAAAAAAAAAAAAAAAAAAAAAAAAAAAAAAAAAAAAAAAAAAAAAAAAAAAAAAAAAAAAAAAAAAAAAAAAAAAAAAAAAAAAAAAAAAAAAAAAAAAAAAAAAAAAAAAAAAAAAAAAAAAAAAAAAAAAAAAAAAAAAAAAAAAAAAAAAAAAAAAAAAAAAAAAAAAAAAAAAAAAAAAAAAAAAAAAAAAAAAAAAAAAAAAAAAAAAAAAAAAAAAAAAAAAAAAAAAAAAAAAAAAAAAAAAAAAAAAAAAAAAAAAAAAAAAAAAAAAAAAAAAAAAAAAAAAAAAAAAAAAAAAAAAAAAAAAAAAAAAAAAAAAAAAAAAAAAAAAAAAAAAAAAAAAAAAAAAAAAAAAAAAAAAAAAAAAAAAAAAAAAAAAAAAAAAAAAAAAAAAAAAAAAAAAAAAAAAAAAAAAAAAAAAAAAAAAAAAAAAAAAAAAAAAAAAAAAAAAAAAAAAAAAAAAAAAAAAAAAAAAAAAAAAAAAAAAAAAAAAAAAAAAAAAAAAAAAAAAAAAAAAAAAAAAAAAAAAAAAAAAAAAAAAAAAAAAAAAAAAAAAAAAAAAAAAAAAAAAAAAAAAAAAAAAAAAAAAAAAAAAAAAAAAAAAAAAAAAAAAAAAAAAAAAAAAAAAAAAAAAAAAAAAAAAAAAAAAAAAAAAAAAAAAAAAAAAAAAAAAAAAAAAAAAAAAAAAAAAAAAAAAAAAAAAAACwAAAAABQABAAAICAAJBBAAYEBAADs=\"><title>Layer: output (output)\n shape = (5,)\n Keras class = Dense\n activation = sigmoid</title></image><text x=\"280.0\" y=\"52.0\" font-family=\"monospace\" font-size=\"12\" text-anchor=\"start\" alignment-baseline=\"central\">output</text><line x1=\"175.0\" y1=\"99\" x2=\"175.0\" y2=\"72\" stroke=\"black\" stroke-width=\"2\" marker-end=\"url(#arrow)\"><title>Weights from hidden to output\n output/kernel has shape (5, 5)\n output/bias has shape (5,)</title></line><rect x=\"74.0\" y=\"99\" width=\"202\" height=\"42\" style=\"fill:none;stroke:black;stroke-width:2\"/><image id=\"Autoencoder_hidden_8\" class=\"Autoencoder_hidden\" x=\"75.0\" y=\"100\" height=\"40\" width=\"200\" preserveAspectRatio=\"none\" href=\"data:image/gif;base64,R0lGODdhBQABAIcAAGcAHxoaGvvSvP3k1gAAAAAAAAAAAAAAAAAAAAAAAAAAAAAAAAAAAAAAAAAAAAAAAAAAAAAAAAAAAAAAAAAAAAAAAAAAAAAAAAAAAAAAAAAAAAAAAAAAAAAAAAAAAAAAAAAAAAAAAAAAAAAAAAAAAAAAAAAAAAAAAAAAAAAAAAAAAAAAAAAAAAAAAAAAAAAAAAAAAAAAAAAAAAAAAAAAAAAAAAAAAAAAAAAAAAAAAAAAAAAAAAAAAAAAAAAAAAAAAAAAAAAAAAAAAAAAAAAAAAAAAAAAAAAAAAAAAAAAAAAAAAAAAAAAAAAAAAAAAAAAAAAAAAAAAAAAAAAAAAAAAAAAAAAAAAAAAAAAAAAAAAAAAAAAAAAAAAAAAAAAAAAAAAAAAAAAAAAAAAAAAAAAAAAAAAAAAAAAAAAAAAAAAAAAAAAAAAAAAAAAAAAAAAAAAAAAAAAAAAAAAAAAAAAAAAAAAAAAAAAAAAAAAAAAAAAAAAAAAAAAAAAAAAAAAAAAAAAAAAAAAAAAAAAAAAAAAAAAAAAAAAAAAAAAAAAAAAAAAAAAAAAAAAAAAAAAAAAAAAAAAAAAAAAAAAAAAAAAAAAAAAAAAAAAAAAAAAAAAAAAAAAAAAAAAAAAAAAAAAAAAAAAAAAAAAAAAAAAAAAAAAAAAAAAAAAAAAAAAAAAAAAAAAAAAAAAAAAAAAAAAAAAAAAAAAAAAAAAAAAAAAAAAAAAAAAAAAAAAAAAAAAAAAAAAAAAAAAAAAAAAAAAAAAAAAAAAAAAAAAAAAAAAAAAAAAAAAAAAAAAAAAAAAAAAAAAAAAAAAAAAAAAAAAAAAAAAAAAAAAAAAAAAAAAAAAAAAAAAAAAAAAAAAAAAAAAAAAAAAAAAAAAAAAAAAAAAAAAAAAAAAAAAAAAAAAAAAAAAAAAAAAAAAAAAAAAAAAAAAAAAAAAAAAAAAAAAAAAAAAAAAAAAAAAAAAAAAAAAAAAAAAAAAAAAAAAAAAAAAAAAAAAAAAAAAAAAAAAAAAAAAAAACwAAAAABQABAAAICAABDBAAIEBAADs=\"><title>Layer: hidden (hidden)\n shape = (5,)\n Keras class = Dense\n activation = relu</title></image><text x=\"280.0\" y=\"122.0\" font-family=\"monospace\" font-size=\"12\" text-anchor=\"start\" alignment-baseline=\"central\">hidden</text><line x1=\"175.0\" y1=\"169\" x2=\"175.0\" y2=\"142\" stroke=\"black\" stroke-width=\"2\" marker-end=\"url(#arrow)\"><title>Weights from input to hidden\n hidden/kernel has shape (5, 5)\n hidden/bias has shape (5,)</title></line><rect x=\"74.0\" y=\"169\" width=\"202\" height=\"42\" style=\"fill:none;stroke:black;stroke-width:2\"/><image id=\"Autoencoder_input_9\" class=\"Autoencoder_input\" x=\"75.0\" y=\"170\" height=\"40\" width=\"200\" preserveAspectRatio=\"none\" href=\"data:image/gif;base64,R0lGODdhBQABAIcAAGcAHxoaGgAAAAAAAAAAAAAAAAAAAAAAAAAAAAAAAAAAAAAAAAAAAAAAAAAAAAAAAAAAAAAAAAAAAAAAAAAAAAAAAAAAAAAAAAAAAAAAAAAAAAAAAAAAAAAAAAAAAAAAAAAAAAAAAAAAAAAAAAAAAAAAAAAAAAAAAAAAAAAAAAAAAAAAAAAAAAAAAAAAAAAAAAAAAAAAAAAAAAAAAAAAAAAAAAAAAAAAAAAAAAAAAAAAAAAAAAAAAAAAAAAAAAAAAAAAAAAAAAAAAAAAAAAAAAAAAAAAAAAAAAAAAAAAAAAAAAAAAAAAAAAAAAAAAAAAAAAAAAAAAAAAAAAAAAAAAAAAAAAAAAAAAAAAAAAAAAAAAAAAAAAAAAAAAAAAAAAAAAAAAAAAAAAAAAAAAAAAAAAAAAAAAAAAAAAAAAAAAAAAAAAAAAAAAAAAAAAAAAAAAAAAAAAAAAAAAAAAAAAAAAAAAAAAAAAAAAAAAAAAAAAAAAAAAAAAAAAAAAAAAAAAAAAAAAAAAAAAAAAAAAAAAAAAAAAAAAAAAAAAAAAAAAAAAAAAAAAAAAAAAAAAAAAAAAAAAAAAAAAAAAAAAAAAAAAAAAAAAAAAAAAAAAAAAAAAAAAAAAAAAAAAAAAAAAAAAAAAAAAAAAAAAAAAAAAAAAAAAAAAAAAAAAAAAAAAAAAAAAAAAAAAAAAAAAAAAAAAAAAAAAAAAAAAAAAAAAAAAAAAAAAAAAAAAAAAAAAAAAAAAAAAAAAAAAAAAAAAAAAAAAAAAAAAAAAAAAAAAAAAAAAAAAAAAAAAAAAAAAAAAAAAAAAAAAAAAAAAAAAAAAAAAAAAAAAAAAAAAAAAAAAAAAAAAAAAAAAAAAAAAAAAAAAAAAAAAAAAAAAAAAAAAAAAAAAAAAAAAAAAAAAAAAAAAAAAAAAAAAAAAAAAAAAAAAAAAAAAAAAAAAAAAAAAAAAAAAAAAAAAAAAAAAAAAAAAAAAAAAAAAAAAAAAAAAAAAAAAAAAAAAAAAAAAAAAAAAAAACwAAAAABQABAAAIBwADABgIICAAOw==\"><title>Layer: input (input)\n shape = (5,)\n Keras class = Input</title></image><text x=\"280.0\" y=\"192.0\" font-family=\"monospace\" font-size=\"12\" text-anchor=\"start\" alignment-baseline=\"central\">input</text></svg></p>"
      }
     },
     "d926409e091e461b956d8cd4a9630bc7": {
      "model_module": "@jupyter-widgets/controls",
      "model_module_version": "1.0.0",
      "model_name": "HBoxModel",
      "state": {
       "children": [
        "IPY_MODEL_60f4068737ee43ae97edb0d5e7468a40",
        "IPY_MODEL_188be146c7914941a0f87ac0b517849b",
        "IPY_MODEL_7d6f30760bb547989738bf45e556de4b",
        "IPY_MODEL_f003f5cc15fe4283aa347680e5d4e4b5",
        "IPY_MODEL_a9b254b9ae614afbad27375b52bf799e"
       ],
       "layout": "IPY_MODEL_8e62b88740fb47069495de09c66dc188"
      }
     },
     "d9302ca135a6411d8958ae44a9cd4558": {
      "model_module": "@jupyter-widgets/controls",
      "model_module_version": "1.0.0",
      "model_name": "VBoxModel",
      "state": {
       "children": [
        "IPY_MODEL_75921e4da5b148679132ba6cb1dea5b1",
        "IPY_MODEL_661d1b62d9fb46c5a9524608b806abc0",
        "IPY_MODEL_d926409e091e461b956d8cd4a9630bc7"
       ],
       "layout": "IPY_MODEL_bb1d0904b8d143d08917b02be5ec1ffe"
      }
     },
     "da985cc80e2547b69b94fc92b83bae94": {
      "model_module": "@jupyter-widgets/base",
      "model_module_version": "1.0.0",
      "model_name": "LayoutModel",
      "state": {
       "width": "100%"
      }
     },
     "dba6f66d8d654a26bdc2691dc44b33f7": {
      "model_module": "@jupyter-widgets/controls",
      "model_module_version": "1.0.0",
      "model_name": "ButtonModel",
      "state": {
       "disabled": true,
       "icon": "fast-forward",
       "layout": "IPY_MODEL_72417f8c99c749aa91b8a6b9b4beb593",
       "style": "IPY_MODEL_13dfb3942d614a7db03bdc1d40df03fc"
      }
     },
     "dc1a17a126c84e2c8ab639978ff37690": {
      "model_module": "@jupyter-widgets/controls",
      "model_module_version": "1.0.0",
      "model_name": "TabModel",
      "state": {
       "_titles": {
        "0": "Network",
        "1": "Help"
       },
       "children": [
        "IPY_MODEL_4ed96e8423054751857d64fa25a2d152",
        "IPY_MODEL_112fc5529fe14be59d49217e022e69ef"
       ],
       "layout": "IPY_MODEL_d4b9c0b8f75046819860ec4fc42bdc4f"
      }
     },
     "dd4606284d2a4b6e8573b0fe1a3afe73": {
      "model_module": "@jupyter-widgets/base",
      "model_module_version": "1.0.0",
      "model_name": "LayoutModel",
      "state": {
       "width": "100%"
      }
     },
     "dd52db1b4bf14ad78d5a7b74cc18eb33": {
      "model_module": "@jupyter-widgets/base",
      "model_module_version": "1.0.0",
      "model_name": "LayoutModel",
      "state": {
       "width": "100%"
      }
     },
     "de199c0c23d949aab3f80b75e61115fd": {
      "model_module": "@jupyter-widgets/base",
      "model_module_version": "1.0.0",
      "model_name": "LayoutModel",
      "state": {
       "width": "100%"
      }
     },
     "ded9c0798f934a7681bcf6955b5be25a": {
      "model_module": "@jupyter-widgets/controls",
      "model_module_version": "1.0.0",
      "model_name": "ButtonModel",
      "state": {
       "disabled": true,
       "icon": "fast-backward",
       "layout": "IPY_MODEL_327846716a5b424990222db45b278570",
       "style": "IPY_MODEL_14e16e3579b94d989ee29b57f7c38320"
      }
     },
     "df9bd2cde61c4f69b1e43dd0d1c8a5f3": {
      "model_module": "@jupyter-widgets/controls",
      "model_module_version": "1.0.0",
      "model_name": "HTMLModel",
      "state": {
       "layout": "IPY_MODEL_0fd89cbe5a7d4f42869aecc74536e50c",
       "style": "IPY_MODEL_0bf1ee17807a48eeb638b948bd668ffe",
       "value": "<p style=\"text-align:center\"><svg id='Autoencoder' xmlns='http://www.w3.org/2000/svg' width=\"350\" height=\"235\" image-rendering=\"pixelated\">\n    <defs>\n        <marker id=\"arrow\" markerWidth=\"10\" markerHeight=\"10\" refX=\"9\" refY=\"3\" orient=\"auto\" markerUnits=\"strokeWidth\">\n          <path d=\"M0,0 L0,6 L9,3 z\" fill=\"black\" />\n        </marker>\n    </defs><text x=\"175.0\" y=\"12.5\" font-family=\"monospace\" font-size=\"15\" text-anchor=\"middle\" alignment-baseline=\"central\">Autoencoder</text><rect x=\"74.0\" y=\"29\" width=\"202\" height=\"42\" style=\"fill:none;stroke:black;stroke-width:2\"/><image id=\"Autoencoder_output_7\" class=\"Autoencoder_output\" x=\"75.0\" y=\"30\" height=\"40\" width=\"200\" preserveAspectRatio=\"none\" href=\"data:image/gif;base64,R0lGODdhBQABAIcAAGgAH3gFIWRkZIQJIwAAAAAAAAAAAAAAAAAAAAAAAAAAAAAAAAAAAAAAAAAAAAAAAAAAAAAAAAAAAAAAAAAAAAAAAAAAAAAAAAAAAAAAAAAAAAAAAAAAAAAAAAAAAAAAAAAAAAAAAAAAAAAAAAAAAAAAAAAAAAAAAAAAAAAAAAAAAAAAAAAAAAAAAAAAAAAAAAAAAAAAAAAAAAAAAAAAAAAAAAAAAAAAAAAAAAAAAAAAAAAAAAAAAAAAAAAAAAAAAAAAAAAAAAAAAAAAAAAAAAAAAAAAAAAAAAAAAAAAAAAAAAAAAAAAAAAAAAAAAAAAAAAAAAAAAAAAAAAAAAAAAAAAAAAAAAAAAAAAAAAAAAAAAAAAAAAAAAAAAAAAAAAAAAAAAAAAAAAAAAAAAAAAAAAAAAAAAAAAAAAAAAAAAAAAAAAAAAAAAAAAAAAAAAAAAAAAAAAAAAAAAAAAAAAAAAAAAAAAAAAAAAAAAAAAAAAAAAAAAAAAAAAAAAAAAAAAAAAAAAAAAAAAAAAAAAAAAAAAAAAAAAAAAAAAAAAAAAAAAAAAAAAAAAAAAAAAAAAAAAAAAAAAAAAAAAAAAAAAAAAAAAAAAAAAAAAAAAAAAAAAAAAAAAAAAAAAAAAAAAAAAAAAAAAAAAAAAAAAAAAAAAAAAAAAAAAAAAAAAAAAAAAAAAAAAAAAAAAAAAAAAAAAAAAAAAAAAAAAAAAAAAAAAAAAAAAAAAAAAAAAAAAAAAAAAAAAAAAAAAAAAAAAAAAAAAAAAAAAAAAAAAAAAAAAAAAAAAAAAAAAAAAAAAAAAAAAAAAAAAAAAAAAAAAAAAAAAAAAAAAAAAAAAAAAAAAAAAAAAAAAAAAAAAAAAAAAAAAAAAAAAAAAAAAAAAAAAAAAAAAAAAAAAAAAAAAAAAAAAAAAAAAAAAAAAAAAAAAAAAAAAAAAAAAAAAAAAAAAAAAAAAAAAAAAAAAAAAAAAAAAAAAAAAAAAAAAAAAAAAAAAAAAAAAAAAAAAAAAAAAAAAAAACwAAAAABQABAAAICAAFDAAAIEBAADs=\"><title>Layer: output (output)\n shape = (5,)\n Keras class = Dense\n activation = sigmoid</title></image><text x=\"280.0\" y=\"52.0\" font-family=\"monospace\" font-size=\"12\" text-anchor=\"start\" alignment-baseline=\"central\">output</text><line x1=\"175.0\" y1=\"99\" x2=\"175.0\" y2=\"72\" stroke=\"black\" stroke-width=\"2\" marker-end=\"url(#arrow)\"><title>Weights from hidden to output\n output/kernel has shape (5, 5)\n output/bias has shape (5,)</title></line><rect x=\"74.0\" y=\"99\" width=\"202\" height=\"42\" style=\"fill:none;stroke:black;stroke-width:2\"/><image id=\"Autoencoder_hidden_8\" class=\"Autoencoder_hidden\" x=\"75.0\" y=\"100\" height=\"40\" width=\"200\" preserveAspectRatio=\"none\" href=\"data:image/gif;base64,R0lGODdhBQABAIcAABoaGmcAH2tra3l5eenp6QAAAAAAAAAAAAAAAAAAAAAAAAAAAAAAAAAAAAAAAAAAAAAAAAAAAAAAAAAAAAAAAAAAAAAAAAAAAAAAAAAAAAAAAAAAAAAAAAAAAAAAAAAAAAAAAAAAAAAAAAAAAAAAAAAAAAAAAAAAAAAAAAAAAAAAAAAAAAAAAAAAAAAAAAAAAAAAAAAAAAAAAAAAAAAAAAAAAAAAAAAAAAAAAAAAAAAAAAAAAAAAAAAAAAAAAAAAAAAAAAAAAAAAAAAAAAAAAAAAAAAAAAAAAAAAAAAAAAAAAAAAAAAAAAAAAAAAAAAAAAAAAAAAAAAAAAAAAAAAAAAAAAAAAAAAAAAAAAAAAAAAAAAAAAAAAAAAAAAAAAAAAAAAAAAAAAAAAAAAAAAAAAAAAAAAAAAAAAAAAAAAAAAAAAAAAAAAAAAAAAAAAAAAAAAAAAAAAAAAAAAAAAAAAAAAAAAAAAAAAAAAAAAAAAAAAAAAAAAAAAAAAAAAAAAAAAAAAAAAAAAAAAAAAAAAAAAAAAAAAAAAAAAAAAAAAAAAAAAAAAAAAAAAAAAAAAAAAAAAAAAAAAAAAAAAAAAAAAAAAAAAAAAAAAAAAAAAAAAAAAAAAAAAAAAAAAAAAAAAAAAAAAAAAAAAAAAAAAAAAAAAAAAAAAAAAAAAAAAAAAAAAAAAAAAAAAAAAAAAAAAAAAAAAAAAAAAAAAAAAAAAAAAAAAAAAAAAAAAAAAAAAAAAAAAAAAAAAAAAAAAAAAAAAAAAAAAAAAAAAAAAAAAAAAAAAAAAAAAAAAAAAAAAAAAAAAAAAAAAAAAAAAAAAAAAAAAAAAAAAAAAAAAAAAAAAAAAAAAAAAAAAAAAAAAAAAAAAAAAAAAAAAAAAAAAAAAAAAAAAAAAAAAAAAAAAAAAAAAAAAAAAAAAAAAAAAAAAAAAAAAAAAAAAAAAAAAAAAAAAAAAAAAAAAAAAAAAAAAAAAAAAAAAAAAAAAAAAAAAAAAAAAAAAAAAAAAAAAAAAAAAACwAAAAABQABAAAICAAFEAAwIEBAADs=\"><title>Layer: hidden (hidden)\n shape = (5,)\n Keras class = Dense\n activation = relu</title></image><text x=\"280.0\" y=\"122.0\" font-family=\"monospace\" font-size=\"12\" text-anchor=\"start\" alignment-baseline=\"central\">hidden</text><line x1=\"175.0\" y1=\"169\" x2=\"175.0\" y2=\"142\" stroke=\"black\" stroke-width=\"2\" marker-end=\"url(#arrow)\"><title>Weights from input to hidden\n hidden/kernel has shape (5, 5)\n hidden/bias has shape (5,)</title></line><rect x=\"74.0\" y=\"169\" width=\"202\" height=\"42\" style=\"fill:none;stroke:black;stroke-width:2\"/><image id=\"Autoencoder_input_9\" class=\"Autoencoder_input\" x=\"75.0\" y=\"170\" height=\"40\" width=\"200\" preserveAspectRatio=\"none\" href=\"data:image/gif;base64,R0lGODdhBQABAIcAAGcAHxoaGgAAAAAAAAAAAAAAAAAAAAAAAAAAAAAAAAAAAAAAAAAAAAAAAAAAAAAAAAAAAAAAAAAAAAAAAAAAAAAAAAAAAAAAAAAAAAAAAAAAAAAAAAAAAAAAAAAAAAAAAAAAAAAAAAAAAAAAAAAAAAAAAAAAAAAAAAAAAAAAAAAAAAAAAAAAAAAAAAAAAAAAAAAAAAAAAAAAAAAAAAAAAAAAAAAAAAAAAAAAAAAAAAAAAAAAAAAAAAAAAAAAAAAAAAAAAAAAAAAAAAAAAAAAAAAAAAAAAAAAAAAAAAAAAAAAAAAAAAAAAAAAAAAAAAAAAAAAAAAAAAAAAAAAAAAAAAAAAAAAAAAAAAAAAAAAAAAAAAAAAAAAAAAAAAAAAAAAAAAAAAAAAAAAAAAAAAAAAAAAAAAAAAAAAAAAAAAAAAAAAAAAAAAAAAAAAAAAAAAAAAAAAAAAAAAAAAAAAAAAAAAAAAAAAAAAAAAAAAAAAAAAAAAAAAAAAAAAAAAAAAAAAAAAAAAAAAAAAAAAAAAAAAAAAAAAAAAAAAAAAAAAAAAAAAAAAAAAAAAAAAAAAAAAAAAAAAAAAAAAAAAAAAAAAAAAAAAAAAAAAAAAAAAAAAAAAAAAAAAAAAAAAAAAAAAAAAAAAAAAAAAAAAAAAAAAAAAAAAAAAAAAAAAAAAAAAAAAAAAAAAAAAAAAAAAAAAAAAAAAAAAAAAAAAAAAAAAAAAAAAAAAAAAAAAAAAAAAAAAAAAAAAAAAAAAAAAAAAAAAAAAAAAAAAAAAAAAAAAAAAAAAAAAAAAAAAAAAAAAAAAAAAAAAAAAAAAAAAAAAAAAAAAAAAAAAAAAAAAAAAAAAAAAAAAAAAAAAAAAAAAAAAAAAAAAAAAAAAAAAAAAAAAAAAAAAAAAAAAAAAAAAAAAAAAAAAAAAAAAAAAAAAAAAAAAAAAAAAAAAAAAAAAAAAAAAAAAAAAAAAAAAAAAAAAAAAAAAAAAAAAAAAAAAAAAAAAAAAAAAAAAAAAAAAAAAAAAAACwAAAAABQABAAAIBwADABgIICAAOw==\"><title>Layer: input (input)\n shape = (5,)\n Keras class = Input</title></image><text x=\"280.0\" y=\"192.0\" font-family=\"monospace\" font-size=\"12\" text-anchor=\"start\" alignment-baseline=\"central\">input</text></svg></p>"
      }
     },
     "e061712bafe24b5d9297188ceb5e8780": {
      "model_module": "@jupyter-widgets/controls",
      "model_module_version": "1.0.0",
      "model_name": "ButtonStyleModel",
      "state": {}
     },
     "e09e3766ee1b492388a7d882de50f156": {
      "model_module": "@jupyter-widgets/controls",
      "model_module_version": "1.0.0",
      "model_name": "ButtonModel",
      "state": {
       "icon": "fast-backward",
       "layout": "IPY_MODEL_c9e7d3bda850437cb3a5362956f64e5f",
       "style": "IPY_MODEL_66214f1211b94574aa826db0f75b6807"
      }
     },
     "e132f1fd8f534bdb9896787967c77265": {
      "model_module": "@jupyter-widgets/controls",
      "model_module_version": "1.0.0",
      "model_name": "ButtonStyleModel",
      "state": {}
     },
     "e26aa2f0335447cbb69fff9fe9ea68a2": {
      "model_module": "@jupyter-widgets/base",
      "model_module_version": "1.0.0",
      "model_name": "LayoutModel",
      "state": {
       "width": "100%"
      }
     },
     "e472861602d940b6ad77905ce2940e23": {
      "model_module": "@jupyter-widgets/base",
      "model_module_version": "1.0.0",
      "model_name": "LayoutModel",
      "state": {
       "width": "100%"
      }
     },
     "e48dfaaca7ab460ca93c486b2a4ae792": {
      "model_module": "@jupyter-widgets/base",
      "model_module_version": "1.0.0",
      "model_name": "LayoutModel",
      "state": {
       "width": "100%"
      }
     },
     "e4f28830405e49c2a09266ed8005de6b": {
      "model_module": "@jupyter-widgets/controls",
      "model_module_version": "1.0.0",
      "model_name": "IntSliderModel",
      "state": {
       "continuous_update": false,
       "description": "Dataset index",
       "layout": "IPY_MODEL_1fa0e29ec18c45ecb8998097c6ab9e67",
       "max": 4,
       "style": "IPY_MODEL_1b85f73a01a74cba9630f9379341d07b"
      }
     },
     "e516176225e047118165f3d8353f0413": {
      "model_module": "@jupyter-widgets/base",
      "model_module_version": "1.0.0",
      "model_name": "LayoutModel",
      "state": {
       "width": "100%"
      }
     },
     "e69dbfd7b3e8425d8847435345651e9c": {
      "model_module": "@jupyter-widgets/controls",
      "model_module_version": "1.0.0",
      "model_name": "VBoxModel",
      "state": {
       "children": [
        "IPY_MODEL_a647c77704a84b8ca72c140f1c6ed208",
        "IPY_MODEL_995fad39df574d51a1495cebcf003ce3",
        "IPY_MODEL_365ceb786c514680bd87e05c4a55ff27"
       ],
       "layout": "IPY_MODEL_0238ba437dc5418aa09686b079a6b85f"
      }
     },
     "e6b024d397284c0c8a78390e4e2b3592": {
      "model_module": "@jupyter-widgets/base",
      "model_module_version": "1.0.0",
      "model_name": "LayoutModel",
      "state": {
       "width": "100%"
      }
     },
     "e7c9a5392b83409e8d3320ac646ff520": {
      "model_module": "@jupyter-widgets/base",
      "model_module_version": "1.0.0",
      "model_name": "LayoutModel",
      "state": {
       "height": "50px",
       "width": "95%"
      }
     },
     "e7feae26c9c046249cf6c19b1be842f4": {
      "model_module": "@jupyter-widgets/controls",
      "model_module_version": "1.0.0",
      "model_name": "ButtonModel",
      "state": {
       "icon": "fast-backward",
       "layout": "IPY_MODEL_a921172608954ebea2fb5654ac60cd63",
       "style": "IPY_MODEL_04f3153e1fbf47f186a3f6dac4653826"
      }
     },
     "e8ef1d86c4964bdea8f4d73cf639bb43": {
      "model_module": "@jupyter-widgets/controls",
      "model_module_version": "1.0.0",
      "model_name": "ButtonStyleModel",
      "state": {}
     },
     "e8f12a346fa04a299c41f638471ea932": {
      "model_module": "@jupyter-widgets/controls",
      "model_module_version": "1.0.0",
      "model_name": "ButtonModel",
      "state": {
       "description": "Train",
       "layout": "IPY_MODEL_888eecaadf134f568a2223ebaaf48698",
       "style": "IPY_MODEL_f17fa89d3cfa4dd8a50e0ea0bfbd10bb"
      }
     },
     "e910b4ebae6e4456b8a54e897951af27": {
      "model_module": "@jupyter-widgets/controls",
      "model_module_version": "1.0.0",
      "model_name": "DescriptionStyleModel",
      "state": {
       "description_width": ""
      }
     },
     "e9f42c5fac29462ea3fda48ca0d51256": {
      "model_module": "@jupyter-widgets/base",
      "model_module_version": "1.0.0",
      "model_name": "LayoutModel",
      "state": {
       "width": "100%"
      }
     },
     "eb634099f6ed429799ce6e22ed224210": {
      "model_module": "@jupyter-widgets/base",
      "model_module_version": "1.0.0",
      "model_name": "LayoutModel",
      "state": {
       "height": "550px",
       "width": "100%"
      }
     },
     "ecc34c1c259c4804b7b6be3a8c462822": {
      "model_module": "@jupyter-widgets/controls",
      "model_module_version": "1.0.0",
      "model_name": "ButtonStyleModel",
      "state": {}
     },
     "ed13d3f55db14ff19ea388796005f0ff": {
      "model_module": "@jupyter-widgets/base",
      "model_module_version": "1.0.0",
      "model_name": "LayoutModel",
      "state": {
       "width": "100%"
      }
     },
     "f003f5cc15fe4283aa347680e5d4e4b5": {
      "model_module": "@jupyter-widgets/controls",
      "model_module_version": "1.0.0",
      "model_name": "ButtonModel",
      "state": {
       "icon": "forward",
       "layout": "IPY_MODEL_b232da1c1b6b4d258aa49d21b8226ba9",
       "style": "IPY_MODEL_b3a32bd9046a4f17ad9bd1fae0f42efc"
      }
     },
     "f044c4e556ff43a28b17564db8d795ad": {
      "model_module": "@jupyter-widgets/controls",
      "model_module_version": "1.0.0",
      "model_name": "SelectModel",
      "state": {
       "_options_labels": [
        "Test",
        "Train"
       ],
       "description": "Dataset:",
       "index": 1,
       "layout": "IPY_MODEL_c97867e6c6e045628c7cfe0aa97b85c1",
       "rows": 1,
       "style": "IPY_MODEL_500c8eec634e46bdbaf5a064cc8aec91"
      }
     },
     "f17fa89d3cfa4dd8a50e0ea0bfbd10bb": {
      "model_module": "@jupyter-widgets/controls",
      "model_module_version": "1.0.0",
      "model_name": "ButtonStyleModel",
      "state": {}
     },
     "f250828c90ba43d1904c591b6de11217": {
      "model_module": "@jupyter-widgets/controls",
      "model_module_version": "1.0.0",
      "model_name": "ButtonStyleModel",
      "state": {}
     },
     "f2fc5bd67c6a49bc8c9f4c60d2608307": {
      "model_module": "@jupyter-widgets/base",
      "model_module_version": "1.0.0",
      "model_name": "LayoutModel",
      "state": {
       "width": "100%"
      }
     },
     "f420bbe527884612816c4cf2f1e94705": {
      "model_module": "@jupyter-widgets/base",
      "model_module_version": "1.0.0",
      "model_name": "LayoutModel",
      "state": {
       "width": "100%"
      }
     },
     "f46421e818cf4d55b61fc5e3a3372a11": {
      "model_module": "@jupyter-widgets/base",
      "model_module_version": "1.0.0",
      "model_name": "LayoutModel",
      "state": {
       "height": "550px",
       "justify_content": "center",
       "overflow_x": "auto",
       "width": "100%"
      }
     },
     "f60e3967fac94bd89cab7cbe15762c5f": {
      "model_module": "@jupyter-widgets/controls",
      "model_module_version": "1.0.0",
      "model_name": "ButtonStyleModel",
      "state": {}
     },
     "f63726f60f63445291897e7b0722eb33": {
      "model_module": "@jupyter-widgets/controls",
      "model_module_version": "1.0.0",
      "model_name": "ButtonModel",
      "state": {
       "icon": "fast-backward",
       "layout": "IPY_MODEL_74119cb41d3a4b5cbc813e8a6d3be553",
       "style": "IPY_MODEL_86402b242129466d8645ec38eb154aa3"
      }
     },
     "f710706f1fc049b5b9656997df2fab12": {
      "model_module": "@jupyter-widgets/controls",
      "model_module_version": "1.0.0",
      "model_name": "DescriptionStyleModel",
      "state": {
       "description_width": ""
      }
     },
     "f80138ab12be466abe5e134fa2d8cc26": {
      "model_module": "@jupyter-widgets/base",
      "model_module_version": "1.0.0",
      "model_name": "LayoutModel",
      "state": {
       "width": "100%"
      }
     },
     "f8382ebe73a1445db942e820f862a9ea": {
      "model_module": "@jupyter-widgets/controls",
      "model_module_version": "1.0.0",
      "model_name": "VBoxModel",
      "state": {
       "children": [
        "IPY_MODEL_8e7a380f3239453082eac7db45392a10",
        "IPY_MODEL_525e30db08fa42c6a793aab15b0d0de8"
       ],
       "layout": "IPY_MODEL_8ce4b52fb3a444a6a8db8708b3439539"
      }
     },
     "f8cdb42da6fa4fa4a193c3ccf71f264a": {
      "model_module": "@jupyter-widgets/controls",
      "model_module_version": "1.0.0",
      "model_name": "SelectModel",
      "state": {
       "_options_labels": [
        "Test",
        "Train"
       ],
       "description": "Dataset:",
       "index": 1,
       "layout": "IPY_MODEL_b1cba2726c7f42c4817335c7420acef9",
       "style": "IPY_MODEL_7457dd3bc68e4995a9958752c3fd9403"
      }
     },
     "fa145d01efed4d6eb824e4b6ed2c0e54": {
      "model_module": "@jupyter-widgets/controls",
      "model_module_version": "1.0.0",
      "model_name": "ButtonModel",
      "state": {
       "disabled": true,
       "icon": "fast-forward",
       "layout": "IPY_MODEL_4424524fd76548faab94a7a12907655c",
       "style": "IPY_MODEL_5269a11e03564e4086a67005e43beb14"
      }
     },
     "fa17f701e9b24e30b773f6b7ecc07479": {
      "model_module": "@jupyter-widgets/controls",
      "model_module_version": "1.0.0",
      "model_name": "ButtonStyleModel",
      "state": {}
     },
     "fb41b23a9aab4e8cae4eb0d0704303b9": {
      "model_module": "@jupyter-widgets/controls",
      "model_module_version": "1.0.0",
      "model_name": "DescriptionStyleModel",
      "state": {
       "description_width": ""
      }
     },
     "fc481cc2222d4d0e8de24da7a3b9ec08": {
      "model_module": "@jupyter-widgets/controls",
      "model_module_version": "1.0.0",
      "model_name": "DescriptionStyleModel",
      "state": {
       "description_width": ""
      }
     },
     "fc64d74be48d4d6ab89f4745f3ea0e47": {
      "model_module": "@jupyter-widgets/controls",
      "model_module_version": "1.0.0",
      "model_name": "DescriptionStyleModel",
      "state": {
       "description_width": ""
      }
     },
     "fd27e12cc9bf4d73a58cbfd0b9bb9fc3": {
      "model_module": "@jupyter-widgets/base",
      "model_module_version": "1.0.0",
      "model_name": "LayoutModel",
      "state": {
       "width": "100%"
      }
     },
     "fda4b70ca9fd4e818703f408326615ff": {
      "model_module": "@jupyter-widgets/controls",
      "model_module_version": "1.0.0",
      "model_name": "IntSliderModel",
      "state": {
       "continuous_update": false,
       "description": "Dataset index",
       "layout": "IPY_MODEL_58f676640dbc48b1865f1e7e6f91254d",
       "max": 4,
       "style": "IPY_MODEL_70d21cca1a904fb289be1c36b0e78ebb",
       "value": 1
      }
     },
     "fedfbe8889ad44e78603bfbf27d95d4e": {
      "model_module": "@jupyter-widgets/base",
      "model_module_version": "1.0.0",
      "model_name": "LayoutModel",
      "state": {
       "height": "550px",
       "width": "100%"
      }
     },
     "fef124c330524566800bcca1a3a740f9": {
      "model_module": "@jupyter-widgets/base",
      "model_module_version": "1.0.0",
      "model_name": "LayoutModel",
      "state": {
       "width": "100%"
      }
     },
     "ffca4baf2644488480f3f48bd7a45a4d": {
      "model_module": "@jupyter-widgets/controls",
      "model_module_version": "1.0.0",
      "model_name": "ButtonStyleModel",
      "state": {}
     }
    },
    "version_major": 2,
    "version_minor": 0
   }
  }
 },
 "nbformat": 4,
 "nbformat_minor": 2
}
