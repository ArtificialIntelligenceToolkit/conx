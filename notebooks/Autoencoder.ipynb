{
 "cells": [
  {
   "cell_type": "markdown",
   "metadata": {},
   "source": [
    "# Autoencoder"
   ]
  },
  {
   "cell_type": "code",
   "execution_count": 1,
   "metadata": {},
   "outputs": [
    {
     "name": "stderr",
     "output_type": "stream",
     "text": [
      "Using Theano backend.\n"
     ]
    }
   ],
   "source": [
    "from conx import *\n",
    "import random"
   ]
  },
  {
   "cell_type": "code",
   "execution_count": 90,
   "metadata": {},
   "outputs": [],
   "source": [
    "net = Network(\"Autoencoder\")\n",
    "net.add(Layer(\"input\", 10, minmax=(0,1)))\n",
    "net.add(Layer(\"hidden\", 5, activation=\"relu\"))\n",
    "net.add(Layer(\"output\", 10, activation=\"sigmoid\"))"
   ]
  },
  {
   "cell_type": "code",
   "execution_count": 91,
   "metadata": {
    "collapsed": true
   },
   "outputs": [],
   "source": [
    "net.connect()"
   ]
  },
  {
   "cell_type": "code",
   "execution_count": 92,
   "metadata": {
    "collapsed": true
   },
   "outputs": [],
   "source": [
    "net.compile(loss='binary_crossentropy', optimizer=\"adam\")"
   ]
  },
  {
   "cell_type": "code",
   "execution_count": 93,
   "metadata": {},
   "outputs": [
    {
     "data": {
      "application/javascript": [
       "\n",
       "require(['base/js/namespace'], function(Jupyter) {\n",
       "    Jupyter.notebook.kernel.comm_manager.register_target('conx_svg_control', function(comm, msg) {\n",
       "        comm.on_msg(function(msg) {\n",
       "            var data = msg[\"content\"][\"data\"];\n",
       "            var image = document.getElementById(data[\"id\"]);\n",
       "            if (image) {\n",
       "                image.setAttributeNS(null, \"href\", data[\"href\"]);\n",
       "            }\n",
       "        });\n",
       "    });\n",
       "});\n"
      ],
      "text/plain": [
       "<IPython.core.display.Javascript object>"
      ]
     },
     "metadata": {},
     "output_type": "display_data"
    },
    {
     "data": {
      "image/svg+xml": [
       "\n",
       "        <svg id='Autoencoder' xmlns='http://www.w3.org/2000/svg' width=\"300\" height=\"240\">\n",
       "    <defs>\n",
       "        <marker id=\"arrow\" markerWidth=\"10\" markerHeight=\"10\" refX=\"9\" refY=\"3\" orient=\"auto\" markerUnits=\"strokeWidth\">\n",
       "          <path d=\"M0,0 L0,6 L9,3 z\" fill=\"blue\" />\n",
       "        </marker>\n",
       "    </defs>\n",
       "<rect x=\"49.0\" y=\"24\" width=\"202\" height=\"22\" style=\"fill:none;stroke:blue;stroke-width:2\"/><image id=\"Autoencoder_output\" x=\"50.0\" y=\"25\" height=\"20\" width=\"200\" href=\"data:image/gif;base64,R0lGODdhyAAUAIMAAGVlZWlpaXBwcHR0dHV1dXh4eH5+foiIiJCQkAAAAAAAAAAAAAAAAAAAAAAAAAAAACwAAAAAyAAUAEAI/wAPCBxIsGBBAggTKly40IDDhxAjRhxAsaLFixcLaNzIsWNHACBDihw5UoDJkyhTpkTAsqXLly8HyJxJs2bNADhz6ty584DPn0CDBiVAtKjRo0cNKF3KtGnTAVCjSp06tYDVq1izZgXAtavXr18FiB1LtmxZBGjTql27doDbt3Djxg1At67du3cP6N3Lt29fAoADCx482IDhw4gTJx7AuLHjx48LSJ5MuXJlAJgza968WYDnz6BDh0ZAurTp06cHqF7NunXrALBjy549+4Dt27hz5ybAu7fv378NCB9OvHjxAciTK1++vIDz59CjRwdAvbr169cFaN/OvXt3BODDi/8fP36A+fPo06cPwL69+/fvD8ifT79+fQL48+vfv9+Af4AGBA4kWFDgAIQJFS5cWMDhQ4gRIwKgWNHixYsCNG7k2LEjApAhRY4cOcDkSZQpUwZg2dLly5cHZM6kWbMmAZw5de7cacDnT6BBgw4gWtTo0aMFlC5l2rQpAKhRpU6dKsDqVaxZsyLg2tXr168DxI4lW7ZsALRp1a5de8DtW7hx4xKgW9fu3bsG9O7l27fvAMCBBQ8eXMDwYcSJEwNg3Njx48cCJE+mXLkyAsyZNW/ePMDzZ9ChQwcgXdr06dMHVK9m3bo1AdixZc+ebcD2bdy5cw/g3dv3798FhA8nXrz/OADkyZUvXy7A+XPo0aMjoF7d+vXrA7Rv5969ewDw4cWPH3/A/Hn06dMTYN/e/fv3BuTPp1+//gD8+fXv31/AP8ACAgcSLCgQAMKEChcuFODwIcSIERFQrGjx4sUBGjdy7NgxAMiQIkeOPGDyJMqUKQmwbOny5UsDMmfSrFlzAM6cOnfuLODzJ9CgQQEQLWr06FEBSpcybdoUAdSoUqdOHWD1KtasWQNw7er169cDYseSLVuWANq0ateuNeD2Ldy4cQfQrWv37t0Cevfy7dsXAODAggcPFmD4MOLEiREwbuz48eMBkidTrlw5AObMmjdvPuD5M+jQoQmQLm369GkD/6pXs27degDs2LJnzy5g+zbu3LkB8O7t+/dvAcKHEy9eHAHy5MqXLx/g/Dn06NEDUK9u/fr1A9q3c+/enQD48OLHjzdg/jz69OkHsG/v/v37AvLn069fHwD+/Pr37xfgH6AAgQMJFhSIAGFChQsXDnD4EGLEiAEoVrR48eIBjRs5duxIAGRIkSNHGjB5EmXKlANYtnT58mUBmTNp1qwJAGdOnTt3CvD5E2jQoAiIFjV69OgApUuZNm0aAGpUqVOnHrB6FWvWrAS4dvX69asBsWPJli07AG1atWvXFnD7Fm7cuADo1rV7964AvXv59u2LAHBgwYMHDzB8GHHixAEYN/92/PjxAcmTKVeuTABzZs2bNxvw/Bl06NADSJc2ffp0AdWrWbduDQB2bNmzZwuwfRt37twIePf2/fv3AOHDiRcvHgB5cuXLlx9w/hx69OgEqFe3fv26Ae3buXfvPgB8ePHjxxcwfx59+vQA2Ld3//69APnz6devjwB/fv379w/wD3CAwIEECwoMgDChwoULDzh8CDFiRAIUK1q8eNGAxo0cO3YcADKkyJEjC5g8iTJlSgAsW7p8+VKAzJk0a9ZEgDOnzp07B/j8CTRo0ABEixo9evSA0qVMmzYlADWq1KlTDVi9ijVr1gFcu3r9+rWA2LFky5YFgDat2rVrBbh9CzdbblwEdOvavXt3gN69fPv2DQA4sODBgw8YPow4cWICjBs7fvzYgOTJlCtXHoA5s+bNmwt4/gw6dGgApEubPn1agOrVrFu3RgA7tuzZswfYvo07d+4AvHv7/v07IAA7\"><title>Layer: output (output)\n",
       " shape = (10,)\n",
       " Keras class = Dense\n",
       " activation = sigmoid</title></image><text x=\"255.0\" y=\"37.0\" font-family=\"Verdana\" font-size=\"12\">output</text><rect x=\"140.0\" y=\"47\" width=\"20.0\" height=\"47\" style=\"fill:white;stroke:none\"><title>Weights from hidden to output\n",
       " output/kernel has shape (5, 10)\n",
       " output/bias has shape (10,)</title></rect><line x1=\"150.0\" y1=\"94\" x2=\"150.0\" y2=\"47\" stroke=\"blue\" stroke-width=\"2\" marker-end=\"url(#arrow)\"><title>Weights from hidden to output\n",
       " output/kernel has shape (5, 10)\n",
       " output/bias has shape (10,)</title></line><rect x=\"86.5\" y=\"94\" width=\"127\" height=\"27\" style=\"fill:none;stroke:blue;stroke-width:2\"/><image id=\"Autoencoder_hidden\" x=\"87.5\" y=\"95\" height=\"25\" width=\"125\" href=\"data:image/gif;base64,R0lGODdhfQAZAIEAAAAAAPv7+////wAAACwAAAAAfQAZAEAI/wABCBxIsKDBgwgTFgzAsKHDhxAdCphIsaLFixUBaNzIsaPHjyBDihwZMoDJkyhTqkQpoKXLlzBjvgRAs6bNmzhz6tzJs+fOAECDCh1KVKiAo0iTKl2aFIDTp1CjSp1KtarVq1UDaN3KtatXrgLCih1LtuxYAGjTql3Ltq3bt3Djvg1At67du3jtCtjLt6/fv30BCB5MuLDhw4gTK16cOIDjx5AjS4YsoLLly5gzXwbAubPnz6BDix5NuvToAKhTq17NWrWA17Bjy54dG4Dt27hz697Nu7fv370DCB9OvLhx4gKSK1/OvPlyANCjS59Ovbr169izXw/Avbv37+C9C/8YT768+fPlAahfz769+/fw48ufHz+A/fv48+vHL6C/f4ACBA4kWJAgAIQJFS5k2NDhQ4gRHwagWNHiRYwWBWzk2NHjx44ARI4kWdLkSZQpVa5MGcDlS5gxZcIUUNPmTZw5bwLg2dPnT6BBhQ4lWnRoAKRJlS5lqlTAU6hRpU6NCsDqVaxZtW7l2tXr164BxI4lW9YsWQFp1a5l23YtALhx5c6lW9fuXbx57wbg29fvX8B+BQwmXNjw4cIAFC9m3NjxY8iRJU+OHMDyZcyZNWMW0NnzZ9ChPwMgXdr0adSpVa9m3Xp1ANixZc+mLVvAbdy5de/ODcD3b+DBhQ8nXtzs+PHiAZQvZ97cOXMB0aVPp159OgDs2bVv597d+3fw4b8HIF/e/Hn05gWsZ9/e/fv2AOTPp1/f/n38+fXvzx/AP8AAAgcSLGgwgICEChcybLgQAMSIEidSrGjxIsaMFwNw7OjxI0iPAkaSLGnyZEkAKleybOnyJcyYMmfGDGDzJs6cOnEK6OnzJ9CgPwEQLWr0KNKkSpcybbo0ANSoUqdSlSrgKtasWrdmBeD1K9iwYseSLWv2bNkAateybeuWrYC4cufSrTsXAN68evfy7ev3L+DAfwMQLmz4MGLDAhYzbuz4cWMAkidTrmyZckAAOw==\"><title>Layer: hidden (hidden)\n",
       " shape = (5,)\n",
       " Keras class = Dense\n",
       " activation = relu</title></image><text x=\"217.5\" y=\"109.5\" font-family=\"Verdana\" font-size=\"12\">hidden</text><rect x=\"140.0\" y=\"122\" width=\"20.0\" height=\"47\" style=\"fill:white;stroke:none\"><title>Weights from input to hidden\n",
       " hidden/kernel has shape (10, 5)\n",
       " hidden/bias has shape (5,)</title></rect><line x1=\"150.0\" y1=\"169\" x2=\"150.0\" y2=\"122\" stroke=\"blue\" stroke-width=\"2\" marker-end=\"url(#arrow)\"><title>Weights from input to hidden\n",
       " hidden/kernel has shape (10, 5)\n",
       " hidden/bias has shape (5,)</title></line><rect x=\"49.0\" y=\"169\" width=\"202\" height=\"22\" style=\"fill:none;stroke:blue;stroke-width:2\"/><image id=\"Autoencoder_input\" x=\"50.0\" y=\"170\" height=\"20\" width=\"200\" href=\"data:image/gif;base64,R0lGODdhyAAUAIAAAH9/fwAAACwAAAAAyAAUAEAIZwABCBxIsKDBgwgTKlzIsKHDhxAjSpxIsaLFixgzatzIsaPHjyBDihxJsqTJkyhTqlzJsqXLlzBjypxJs6bNmzhz6tzJs6fPn0CDCh1KtKjRo0iTKl3KtKnTp1CjSp1KtarVq1ipBgQAOw==\"><title>Layer: input (input)\n",
       " shape = (10,)\n",
       " Keras class = Input</title></image><text x=\"255.0\" y=\"182.0\" font-family=\"Verdana\" font-size=\"12\">input</text></svg>"
      ],
      "text/plain": [
       "<Network name='Autoencoder'>"
      ]
     },
     "execution_count": 93,
     "metadata": {},
     "output_type": "execute_result"
    }
   ],
   "source": [
    "net"
   ]
  },
  {
   "cell_type": "code",
   "execution_count": 103,
   "metadata": {},
   "outputs": [],
   "source": [
    "import time\n",
    "for i in range(10):\n",
    "    net.propagate(dataset[i][0])\n",
    "    time.sleep(1)"
   ]
  },
  {
   "cell_type": "code",
   "execution_count": 97,
   "metadata": {
    "collapsed": true
   },
   "outputs": [],
   "source": [
    "patterns = [one_hot(i, 10) for i in range(10)]"
   ]
  },
  {
   "cell_type": "code",
   "execution_count": 98,
   "metadata": {},
   "outputs": [
    {
     "data": {
      "text/plain": [
       "[1.0, 0.0, 0.0, 0.0, 0.0, 0.0, 0.0, 0.0, 0.0, 0.0]"
      ]
     },
     "execution_count": 98,
     "metadata": {},
     "output_type": "execute_result"
    }
   ],
   "source": [
    "patterns[0]"
   ]
  },
  {
   "cell_type": "code",
   "execution_count": 99,
   "metadata": {
    "collapsed": true
   },
   "outputs": [],
   "source": [
    "dataset = [(p,p) for p in patterns]"
   ]
  },
  {
   "cell_type": "code",
   "execution_count": 100,
   "metadata": {},
   "outputs": [
    {
     "data": {
      "text/plain": [
       "([1.0, 0.0, 0.0, 0.0, 0.0, 0.0, 0.0, 0.0, 0.0, 0.0],\n",
       " [1.0, 0.0, 0.0, 0.0, 0.0, 0.0, 0.0, 0.0, 0.0, 0.0])"
      ]
     },
     "execution_count": 100,
     "metadata": {},
     "output_type": "execute_result"
    }
   ],
   "source": [
    "dataset[0]"
   ]
  },
  {
   "cell_type": "code",
   "execution_count": 101,
   "metadata": {},
   "outputs": [
    {
     "name": "stdout",
     "output_type": "stream",
     "text": [
      "10 train inputs, 0 test inputs\n",
      "Set 10 inputs and targets\n",
      "Input data shape: (10,), range: (0.0, 1.0), type: float32\n",
      "Target data shape: (10,), range: (0.0, 1.0), type: float32\n"
     ]
    }
   ],
   "source": [
    "net.set_dataset(dataset)"
   ]
  },
  {
   "cell_type": "code",
   "execution_count": 102,
   "metadata": {},
   "outputs": [
    {
     "name": "stdout",
     "output_type": "stream",
     "text": [
      "Training...\n",
      "Epoch #  200 | train loss 0.48572 | train acc 0.90000 | validate% 0.00000\n",
      "Epoch #  400 | train loss 0.32412 | train acc 0.90000 | validate% 0.00000\n",
      "Epoch #  600 | train loss 0.26450 | train acc 0.90000 | validate% 0.00000\n",
      "Epoch #  800 | train loss 0.22244 | train acc 0.91000 | validate% 0.00000\n",
      "Epoch # 1000 | train loss 0.17916 | train acc 0.92000 | validate% 0.20000\n",
      "Epoch # 1200 | train loss 0.13943 | train acc 0.96000 | validate% 0.20000\n",
      "Epoch # 1400 | train loss 0.10838 | train acc 0.97000 | validate% 0.70000\n",
      "Epoch # 1600 | train loss 0.08450 | train acc 0.97000 | validate% 0.70000\n",
      "Epoch # 1800 | train loss 0.06514 | train acc 0.98000 | validate% 0.70000\n",
      "Epoch # 2000 | train loss 0.04912 | train acc 1.00000 | validate% 0.80000\n",
      "========================================================================\n",
      "Epoch # 2090 | train loss 0.04305 | train acc 1.00000 | validate% 1.00000\n"
     ]
    }
   ],
   "source": [
    "net.train(accuracy=1, epochs=10000, report_rate=200, tolerance=0.4)"
   ]
  },
  {
   "cell_type": "code",
   "execution_count": 88,
   "metadata": {},
   "outputs": [
    {
     "data": {
      "text/plain": [
       "[0.91529089,\n",
       " 0.061371062,\n",
       " 1.1694119e-09,\n",
       " 0.01489951,\n",
       " 0.0,\n",
       " 0.0,\n",
       " 0.0,\n",
       " 0.0,\n",
       " 1.9001043e-26,\n",
       " 0.0]"
      ]
     },
     "execution_count": 88,
     "metadata": {},
     "output_type": "execute_result"
    }
   ],
   "source": [
    "net.propagate(dataset[0][0])"
   ]
  },
  {
   "cell_type": "code",
   "execution_count": 23,
   "metadata": {},
   "outputs": [],
   "source": [
    "net.reset()"
   ]
  },
  {
   "cell_type": "code",
   "execution_count": 281,
   "metadata": {
    "collapsed": true
   },
   "outputs": [],
   "source": [
    "from keras.datasets import mnist\n",
    "(train_inputs, train_targets), (test_inputs, test_targets) = mnist.load_data()"
   ]
  },
  {
   "cell_type": "code",
   "execution_count": 282,
   "metadata": {},
   "outputs": [
    {
     "data": {
      "text/plain": [
       "(28, 28)"
      ]
     },
     "execution_count": 282,
     "metadata": {},
     "output_type": "execute_result"
    }
   ],
   "source": [
    "train_inputs[0].shape"
   ]
  },
  {
   "cell_type": "code",
   "execution_count": 283,
   "metadata": {},
   "outputs": [
    {
     "data": {
      "text/plain": [
       "784"
      ]
     },
     "execution_count": 283,
     "metadata": {},
     "output_type": "execute_result"
    }
   ],
   "source": [
    "28 * 28"
   ]
  },
  {
   "cell_type": "code",
   "execution_count": 319,
   "metadata": {
    "collapsed": true
   },
   "outputs": [],
   "source": [
    "net = Network(\"MNIST-Autoencoder\")\n",
    "net.add(Layer(\"input\", 784, vshape=(28,28), minmax=(0,255)))\n",
    "net.add(Layer(\"hidden1\", 25, vshape=(5,5), activation=\"relu\"))\n",
    "net.add(Layer(\"hidden2\", 25, vshape=(5,5), activation=\"relu\"))\n",
    "net.add(Layer(\"hidden3\", 25, vshape=(5,5), activation=\"relu\"))\n",
    "net.add(Layer(\"output\", 784, vshape=(28,28), activation=\"sigmoid\"))"
   ]
  },
  {
   "cell_type": "code",
   "execution_count": 320,
   "metadata": {
    "collapsed": true
   },
   "outputs": [],
   "source": [
    "net.connect()\n",
    "net.compile(loss=\"binary_crossentropy\", optimizer=\"adam\")"
   ]
  },
  {
   "cell_type": "code",
   "execution_count": 335,
   "metadata": {},
   "outputs": [
    {
     "data": {
      "application/javascript": [
       "\n",
       "require(['base/js/namespace'], function(Jupyter) {\n",
       "    Jupyter.notebook.kernel.comm_manager.register_target('conx_svg_control', function(comm, msg) {\n",
       "        comm.on_msg(function(msg) {\n",
       "            var data = msg[\"content\"][\"data\"];\n",
       "            var image = document.getElementById(data[\"id\"]);\n",
       "            if (image) {\n",
       "                image.setAttributeNS(null, \"href\", data[\"href\"]);\n",
       "            }\n",
       "        });\n",
       "    });\n",
       "});\n"
      ],
      "text/plain": [
       "<IPython.core.display.Javascript object>"
      ]
     },
     "metadata": {},
     "output_type": "display_data"
    },
    {
     "data": {
      "image/svg+xml": [
       "\n",
       "        <svg id='MNIST-Autoencoder' xmlns='http://www.w3.org/2000/svg' width=\"300\" height=\"1050\">\n",
       "    <defs>\n",
       "        <marker id=\"arrow\" markerWidth=\"10\" markerHeight=\"10\" refX=\"9\" refY=\"3\" orient=\"auto\" markerUnits=\"strokeWidth\">\n",
       "          <path d=\"M0,0 L0,6 L9,3 z\" fill=\"blue\" />\n",
       "        </marker>\n",
       "    </defs>\n",
       "<rect x=\"49.0\" y=\"24\" width=\"202\" height=\"202\" style=\"fill:none;stroke:blue;stroke-width:2\"/><image id=\"MNIST-Autoencoder_output\" x=\"50.0\" y=\"25\" height=\"200\" width=\"200\" href=\"data:image/gif;base64,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\"><title>Layer: output (output)\n",
       " shape = (784,)\n",
       " Keras class = Dense\n",
       " activation = sigmoid</title></image><text x=\"255.0\" y=\"127.0\" font-family=\"Verdana\" font-size=\"12\">output</text><rect x=\"140.0\" y=\"227\" width=\"20.0\" height=\"47\" style=\"fill:white;stroke:none\"><title>Weights from hidden3 to output\n",
       " output/kernel has shape (25, 784)\n",
       " output/bias has shape (784,)</title></rect><line x1=\"150.0\" y1=\"274\" x2=\"150.0\" y2=\"227\" stroke=\"blue\" stroke-width=\"2\" marker-end=\"url(#arrow)\"><title>Weights from hidden3 to output\n",
       " output/kernel has shape (25, 784)\n",
       " output/bias has shape (784,)</title></line><rect x=\"86.5\" y=\"274\" width=\"127\" height=\"127\" style=\"fill:none;stroke:blue;stroke-width:2\"/><image id=\"MNIST-Autoencoder_hidden3\" x=\"87.5\" y=\"275\" height=\"125\" width=\"125\" href=\"data:image/gif;base64,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\"><title>Layer: hidden3 (hidden)\n",
       " shape = (25,)\n",
       " Keras class = Dense\n",
       " activation = relu</title></image><text x=\"217.5\" y=\"339.5\" font-family=\"Verdana\" font-size=\"12\">hidden3</text><rect x=\"140.0\" y=\"402\" width=\"20.0\" height=\"47\" style=\"fill:white;stroke:none\"><title>Weights from hidden2 to hidden3\n",
       " hidden3/kernel has shape (25, 25)\n",
       " hidden3/bias has shape (25,)</title></rect><line x1=\"150.0\" y1=\"449\" x2=\"150.0\" y2=\"402\" stroke=\"blue\" stroke-width=\"2\" marker-end=\"url(#arrow)\"><title>Weights from hidden2 to hidden3\n",
       " hidden3/kernel has shape (25, 25)\n",
       " hidden3/bias has shape (25,)</title></line><rect x=\"86.5\" y=\"449\" width=\"127\" height=\"127\" style=\"fill:none;stroke:blue;stroke-width:2\"/><image id=\"MNIST-Autoencoder_hidden2\" x=\"87.5\" y=\"450\" height=\"125\" width=\"125\" href=\"data:image/gif;base64,R0lGODdhfQB9AIMAAAAAABQUFBUVFT4+PlFRUVhYWICAgJycnP///wAAAAAAAAAAAAAAAAAAAAAAAAAAACwAAAAAfQB9AEAI/wABCBxIsKDBgwgTKlzIsGHCAxAjSpxIUSKAixgzatzIsaPHjyBDivR4oKTJkyhTngTAsqXLlzBjypxJs6bNmzMP6NzJs6dPngCCCh1KtKjRo0iTKl3KFOmBp1CjSp0aFYDVq1izat3KtavXr2DDih1LtqzZs2jTql3Ltq1btgPiyp1Lt+5cBHjz6t3LV2+Bv4ADCx4cGIDhw4gTK0YcoLHjx5AjPx5AubLly5gtI9jMubPnz50LiB5NurRp0gBSq17NuvXqALBjy55NW/aA27hz696dG4Hv38CDCwdeoLjx48iTHwfAvLnz59CdB5hOvbr169UBaN/Ovbv37+DDi/8fT758eALo06tfz149gPfw48ufT7++/fv48+u3T6C/f4AEBA4kWJAgAIQJFS5k2NDhQ4gRJU58SMDiRYwZNWI00NHjR5AhPwogWdLkSZQmAaxk2dLlS5gxZc6kKdPATZw5de7MKcDnT6BBhQIFUNToUaRJlS5l2tQpUwNRpU6lWnWqAKxZtW7lqhXAV7BhxY4lW9bsWbRp1a5l29bt27AH5M6lW9cuXQB59e7l29fvX8CBBQ8mDPjAYcSJFS9ODMDxY8iRJU+mXNnyZcyZKx/g3NnzZ9CeAYwmXdr0adSpVa9m3dr1a9ixZc+mXdv2bdy5de/OPcD3b+DBhQNHUNz/+HHkyY8XYN7c+XPozgFMp17d+vXqAbRv597dO/cB4cWPJ19+PAL06dWvZ6++wHv48eXPjw/A/n38+fXjD9DfP8AAAgcSLEhwAMKEChcyVIjgIcSIEidGLGDxIsaMGjEC6OjxI8iQHwOQLGnyJEqTAFaybOnyJcyYMmfSrGlTJoGcOnfy7LkTANCgQocSLWr0KNKkSpceJeD0KdSoUqECqGr1KtasWrdy7er1K1iuBMaSLWv2bFkDateybeuWrYC4cufSrTsXAN68evfy7ev3L+DAfw0QLmz4MGLDAhYzbuz4cWMAkidTrmz5MubMmjdnNuD5M+jQokELKG36NOrU/6cBsG7t+jXs2LJn06492wDu3Lp389Yt4Dfw4MKHBwdg/Djy5MqXM2/u/Dn06NKnU69uHfmB7Nq3c+++HQD48OLHky9v/jz69OrXnz/g/j38+PLhA6hv/z7+/Pr38+/vHyAAgQMJFjR40OABhQsZNnTIEEBEiRMpVrR4EWNGjRs5YjzwEWRIkSNDAjB5EmVKlStZtnT5EmbMlgdo1rR5E6dNADt59vT5E2hQoUOJFjUq9EBSpUuZNl0KAGpUqVOpVrV6FWtWrVu5dvX6FWxYsWPJljV7Fm1atWvZtnX7Fm5cuXPpXh1wF29evXvzIvD7F3BgwYALFDZ8GHHiwwAYN/92/Biy4wCTKVe2fLnyAM2bOXf2zBlBaNGjSZceXQB1atWrWasG8Bp2bNmzYwewfRt3bt24B/T2/Rt48N8IiBc3fhy58QLLmTd3/rw5AOnTqVe3Tj1Adu3buXffPgB8ePHjyYtHcB59evXr0xdw/x5+fPnwAdS3fx9//vsB+Pf3DzCAwIEECw44iDChwoUJETh8CDGiRIgFKlq8iDHjRQAcO3r8CNJjgJEkS5o8WXKAypUsW7pkiSCmzJk0a84sgDOnzp08dQL4CTSo0KFBAxg9ijSpUqQDmjp9CjXqUwRUq1q9itVqga1cu3r92hWA2LFky5olGyCt2rVs264FADf/rty5dOvavYs3r969dwn4/Qs4sGDAAAobPow4seLFjBs7fgyZMYHJlCtbvlwZgObNnDt7/gw6tOjRpEuHJoA6terVrFUDeA07tuzZtGvbvo07t27bBHr7/g08+G8AxIsbP448ufLlzJs7f76cgPTp1Ktbpw4gu/bt3Lt7/w4+vPjx5METOI8+vfr16Q24fw8/vnz4Aurbv48//30A/Pv7BwhA4ECCBQ0eRJhQoUIDDR0+hBjxoQCKFS1exGgRwEaOHT1+BBlS5EiSIg2cRJlS5cqUAly+hBlTJkwANW3exJlT506ePX3yNBBU6FCiRYcKQJpU6VKmSgE8hRpV6lSq/1WtXsVq1cBWrl29fu0qQOxYsmXNkgWQVu1atm3dvoUbVy5cA3Xt3sWb964Avn39/gXsF8BgwoUNH0acWPFixo0dP4YcWfLkwgcsX8acWTNmAJ09fwYdWvRo0qVNn0ZN+sBq1q1dv24NQPZs2rVt38adW/du3r1zHwAeXPhw4sIBHEeeXPly5s2dP4ceXbrzA9WtX8ee/ToA7t29fwcfXvx48uXNnx9/QP169u3dswcQX/58+vXt38efX/9+/vgPADwgcCDBggYHAkiocCHDhg4fQowocSJFiAcuYsyocWNGAB4/ggwpciTJkiZPokxZ8gDLli5fwnQJYCbNmjZv4v/MqXMnz54+dR4IKnQo0aJDASBNqnQp06ZOn0KNKnXq0wNWr2LNqhUrgK5ev4INK3Ys2bJmz6Ile2At27Zu37YFIHcu3bp27+LNq3cv3755DwAOLHgwYcEADiNOrHgx48aOH0OOLHky5cqWL2POrHkz586eP4MOLXo06dKmT6NOrXo169auX8OOLXs27dq2b+POrXs3796iBwAPLnw4ceEIjiNPrnx58gLOn0OPLh06gOrWr2PPfj0A9+7ev4P3PmA8+fLmz5dHoH49+/bu2ReIL38+/frzAeDPr38/f/0BAAYQOJBgQYMDByRUuJBhw4UIIEaUOJGixAIXMWbUuDH/IwCPH0GGFAkyQEmTJ1GmPDmAZUuXL2G6RDCTZk2bN2sW0LmTZ0+fPAEEFTqUaNGhAZAmVbqUqdIBT6FGlTo1KgKrV7Fm1Yq1QFevX8GG/QqAbFmzZ9GaDbCWbVu3b9sOkDuXbl27dBHk1buXb9+9BQAHFjyYsGAAhxEnVrw4cQDHjyFHlgx5QGXLlzFnvoyAc2fPn0F7LjCadGnTp0sDUL2adWvXrAPElj2bdu3ZA3Dn1r2bt24Ev4EHFz48eAHjx5EnV44cQHPnz6FHfx6AenXr17FbH7Cde3fv37sjED+efHnz5AukV7+effv1AODHlz+fvvwA9/Hn178//wD//wAHCBxIsKDBAQgSKlzIsOHCAhAjSpxIUSKAixgzatyYMYDHjyBDigQ5oKTJkyhTnkTAsqXLlzBdFphJs6bNmzUB6NzJs6dPngGCCh1KtOjQAUiTKl3KVCmCp1CjSp0atYDVq1izasUKoKvXr2DDfg1AtqzZs2jNAljLtq3bt3Djyp1Lt65duQTy6t3Lt+9eAIADCx5MuLDhw4gTK158mIDjx5AjS4YMoLLly5gza97MubPnz6A5ExhNurTp06UBqF7NurXr17Bjy55Nu3ZsArhz697NWzeA38CDCx9OvLjx48iTKzdOoLnz59CjPwdAvbr169iza9/Ovbv379sJiP8fT768efIA0qtfz769+/fw48ufTx8+gfv48+vfnx+Af4AABA4kWNDgQYQJFS5k2NAgAYgRJU6kKBHARYwZNW7k2NHjR5AhRXokUNLkSZQpTwJg2dLlS5gxZc6kWdPmzZkEdO7k2dMnTwBBhQ4lWtToUaRJlS5lipTAU6hRpU6NCsDqVaxZtW7l2tXrV7BhuxIgW9bsWbRmAaxl29btW7hx5c6lW9euXAJ59e7l23evAcCBBQ8mLFjAYcSJFS9ODMDxY8iRJU+mXNny5coGNG/m3NkzZwGhRY8mXXo0ANSpVa9m3dr1a9ixXxugXdv2bdy2Bezm3dv3794AhA8nXtz/+HHkyZUvT27A+XPo0aVDF1Dd+nXs2a8D4N7d+3fw4cWPJ19+vAH06dWvZ69ewHv48eXPjw/A/n38+fXv59/fP0AAAgcSLFjQAMKEChcyVCjgIcSIEidGBGDxIsaMGjdy7OjxY0cDIkeSLGmSpICUKleybLkSAMyYMmfSrGnzJs6cNw3w7OnzJ1CfAoYSLWr0aFEASpcyber0KdSoUqdGNWD1KtasWrEK6Or1K9iwXwGQLWv2LNq0ateybbvWANy4cufSlSvgLt68evfmBeD3L+DAggcTLmz4cGEDihczbuyYsYDIkidTrjwZAObMmjdz7uz5M+jQnw2QLm36NGrTFwJWs27t+nVrALJn065t+zbu3Lp35w4IADs=\"><title>Layer: hidden2 (hidden)\n",
       " shape = (25,)\n",
       " Keras class = Dense\n",
       " activation = relu</title></image><text x=\"217.5\" y=\"514.5\" font-family=\"Verdana\" font-size=\"12\">hidden2</text><rect x=\"140.0\" y=\"577\" width=\"20.0\" height=\"47\" style=\"fill:white;stroke:none\"><title>Weights from hidden1 to hidden2\n",
       " hidden2/kernel has shape (25, 25)\n",
       " hidden2/bias has shape (25,)</title></rect><line x1=\"150.0\" y1=\"624\" x2=\"150.0\" y2=\"577\" stroke=\"blue\" stroke-width=\"2\" marker-end=\"url(#arrow)\"><title>Weights from hidden1 to hidden2\n",
       " hidden2/kernel has shape (25, 25)\n",
       " hidden2/bias has shape (25,)</title></line><rect x=\"86.5\" y=\"624\" width=\"127\" height=\"127\" style=\"fill:none;stroke:blue;stroke-width:2\"/><image id=\"MNIST-Autoencoder_hidden1\" x=\"87.5\" y=\"625\" height=\"125\" width=\"125\" href=\"data:image/gif;base64,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\"><title>Layer: hidden1 (hidden)\n",
       " shape = (25,)\n",
       " Keras class = Dense\n",
       " activation = relu</title></image><text x=\"217.5\" y=\"689.5\" font-family=\"Verdana\" font-size=\"12\">hidden1</text><rect x=\"140.0\" y=\"752\" width=\"20.0\" height=\"47\" style=\"fill:white;stroke:none\"><title>Weights from input to hidden1\n",
       " hidden1/kernel has shape (784, 25)\n",
       " hidden1/bias has shape (25,)</title></rect><line x1=\"150.0\" y1=\"799\" x2=\"150.0\" y2=\"752\" stroke=\"blue\" stroke-width=\"2\" marker-end=\"url(#arrow)\"><title>Weights from input to hidden1\n",
       " hidden1/kernel has shape (784, 25)\n",
       " hidden1/bias has shape (25,)</title></line><rect x=\"49.0\" y=\"799\" width=\"202\" height=\"202\" style=\"fill:none;stroke:blue;stroke-width:2\"/><image id=\"MNIST-Autoencoder_input\" x=\"50.0\" y=\"800\" height=\"200\" width=\"200\" href=\"data:image/gif;base64,R0lGODdhyADIAIYAAAAAAAEBAQICAgMDAwkJCQsLCw4ODhAQEBISEhcXFxgYGBkZGRoaGhsbGx4eHiMjIyQkJCcnJysrKy0tLS4uLjExMTc3Nzg4OEBAQEJCQkZGRk5OTlBQUFFRUVJSUlpaWl1dXV5eXmtra2xsbHJycnd3d35+fn9/f4KCgoSEhIWFhYeHh4iIiIuLi5SUlJaWlpqampycnKCgoKampqqqqqurq6ysrK+vr7a2tre3t7q6uru7u76+vsPDw8bGxsnJyc3Nzc/Pz9TU1NXV1dvb293d3eHh4eLi4uXl5e7u7vDw8PHx8fLy8vT09Pf39/n5+fr6+vv7+/z8/P39/f///wAAAAAAAAAAAAAAAAAAAAAAAAAAAAAAAAAAAAAAAAAAAAAAAAAAAAAAAAAAAAAAAAAAAAAAAAAAAAAAAAAAAAAAAAAAAAAAAAAAAAAAAAAAAAAAAAAAAAAAAAAAAAAAAAAAAAAAAAAAAAAAAAAAAAAAAAAAAAAAAAAAAAAAAAAAACwAAAAAyADIAEAI/wABCBxIsKDBgwgTKlzIsKHDhxAjSpxIsaLFixgzatzIsaPHjyBDihxJsqTJkyhTqlzJsqXLggNiyhyAoKbNmzhzmtjJ0wSLn0B/3hhK9AaDo0gZzFjKdAaVp1CpOJlK1cmJq1hPANjKtavXr2DDih1LtmxYB2jTOoDAti2EEHDjwoVBty4MGnjz0pjCt6/fv4ADCzZCuLARG4gT25jCuPEUJpAjM+lBuXIPDJgzYwDAubPnz6BDix5NurRpABVSq66QpLXrJFNiy55Nu7bt27hzx47CuzdvEMCDg/BAvLhx4xeSK78QobnzCACiS59Ovbr169iza9/OPTqH7+A5xP8YTz6GiPPoz09Zz759eyDw4wMpQL9+AQD48wOQwL+/BIAwBA4UCMDgQYQJFS5k2NDhQ4gRJU6caMDiRQMBNG7UCMPjRxhTRI6c8sHkyQ8AVK5k2dLlS5gxZc6kWdPmTZw5dcJs0dNniylBhU7hUdQoDwFJlQoA0NTpU6hRpU6lWtXqVaxZtW7l2hVAAbBhC/AgW5bHFLRpp2hg21YDALhx5c6lW9fuXbx59e7l29fvX8B2Hwwm/GDJYcRLjCxmbETGY8gyRkymPCLAZcyXAWzm3NnzZ9ChRY8mXdr0adSpVZPu0Np1ByWxZSuZUtv27dsldO/WvcD37wUAhA8nXtz/+HHkyZUvZ97c+XPo0ZdPoF59gg7s2XVM4d7d+/cX4cW/aFDefAMA6dWvZ9/e/Xv48eXPp1/f/n388g/s538ABEAQAgdKKWiw4JSECqfsaOhwB4CIEidSrGjxIsaMGjdy7OjxI8iQFp+QLElyCsqUU56wbPkEA8yYGADQrGnzJs6cOnfy7OnzJ9CgQiMQLRrBBdKkLpAwbYpkCtSoUqdSnQLlKlYoOLZyxQHgK9iwYseSLWv2LNq0ateyLavgLdy3JObSJVHkLt4iU/by7ev3L+AfggcL3mD48AYAihczbuz4MeTIkidTrmz5MoAEmjcnyOD5c4YhokeLnmL6NOrU/6pX+2jt2keH2LI7CKhtuzaA3Lp38+7t+zfw4MKHEy8OHAHy5AhqMG9egwj06ESmUK9u/Tr27FN6cO/egwP48BwIkC9PAAD69OrXs2/v/j38+PLn04dv4T5+Czb287dxBOARgQOnFDR4EGFChVOaNHTYREVEiSoKVLRYAEBGjRs5dvT4EWRIkSNJljQJkkVKlSymtHT5EmZMITNpCllxE+eKFDt57jzwE+gBAEOJFjV6FGlSpUuZNnX6FGpUqVOpVrV6FWtWrVu5dvX6FWxYsWPJljV7Fm1atWvZtnX7Fm5cuXPp1r06AG/eAQj49vX7F7AJwYNNsDB82PANxYtvMP9w/JjBDMmTZ1CxfJmKE82bnZzw/PkEANGjSZc2fRp1atWrWaN28Bq2AwizaUMIcRv3bRi7ecOg8Rs4jSnDiRc3fhx5ciPLmRux8Ry6jSnTqU9hch07kx7buffA8B08BgDjyZc3fx59evXr2bcHUAF+/ApJ6NdPMgV/fv37+ff3D3CKwIEECxqMgjAhQhAMG4LwADGiRIkXKlq8ECGjxggAOnr8CDKkyJEkS5o8ORKBypUIiLh8SWSKzJk0a9q8idOHzp0+cPj8icOJ0KFOlhg9ahSA0qVMmzp9CjWq1KlUq1q9CpWD1q0cYnj9GkOE2LFip5g9ixYtkLVsgRR4C7f/AIC5dAFIuItXAoy9fPcC+As4sODBhAsbPow4seLFjBkbeAzZQIDJlCfDuIwZxpTNnKd8+Az6A4DRpEubPo06terVrFu7fg07tuzZqVvYvt1iiu7dU3j4/s1DgPDhAgAYP448ufLlzJs7fw49uvTp1KtbB1Agu/YCPLp75zElvPgpGsqb1wAgvfr17Nu7fw8/vvz59Ovbv48/v/0O/Pt3AKhE4EAlUwweRIiwxEKGCxc8hLgAwESKFS1exJhR40aOHT1+BBlSJMcJJU1O0JFSpY4pLV2+hPlC5swXDWzebABA506ePX3+BBpU6FCiRY0eRZp06AGmTQ+AgBoVhBSq/1WpTsGadcoOrl13AAAbVuxYsmXNnkWbVu1atm3dvoVb9slcunOn3MU75clevk8w/AWMAcBgwoUNH0acWPFixo0dP4Yc+TEFypUpoMCcGUUOzp1zTAEdWvToIKVNBxGQWrUAAK1dv4YdW/Zs2rVt38adW/fuCL19R3ARXLgLJMWNI5mSXPly5s2nQIEeHQoO6tVxAMCeXft27t29fwcfXvx48uW9K0CfHj0J9u1JFIEfv8gU+vXt38ef/8d+/vs3ANwgcCCAggYPIkyocCHDhg4fQowoEUCCihYTZMioMcOQjh47TgkpciTJkiZ9oEzpowPLlh0EwIwJEwDNmjZv4v/MqXMnz54+f+60IHSoBRtGj9o4onTpkSlOn0KNKnXqlCZWrzZRoXWrigJevxYAIHYs2bJmz6JNq3Yt27Zu36ZlIXcuiyl27+LNq1cI375CVgAOvCIF4cKEDyBOfAAA48aOH0OOLHky5cqWL2POrHkz586eP4MOLXo06dKmT6NOrXo169auX8OOLXs27dq2b+POrXs3796+fwMPLnw48eLGjyNPrnw58+bOn0OPbnsA9eoDEGDPrn07dxPev5tgIX68+Bvmz99goH49gxnu38+gIn8+FSf27zs5oX//CQD+AQIQOJBgQYMHESZUuJBhQ4cHB0SUOABBRYsXMWY0sZH/owkWH0F+vDGS5A0GJ1EymLGS5QwqL2FScTKTppMTN3GeALCTZ0+fP4EGFTqUaNGgDpAmdQCBaVMIIaBGhQqDalUYNLBmpTGFa1evX8GGFWuEbFkjNtCmtTGFbdspTODGZdKDbt0eGPDmxQCAb1+/fwEHFjyYcGHDACokVlwhSWPHSaZEljyZcmXLlzFnjhyFc2fOIECHBuGBdGnTpi+kVn0hQmvXEQDElj2bdm3bt3Hn1r37dgXfvyskET48yRTjx5EnV76ceXPnxqNElx4dRHXrIDxk1759+wXv3y9EED8+AgDz59GnV7+efXv37+GzRzCfPgIi9/ETmbKff3///wCnCBxIsKBBHwgT+sDBsCEOJxAjOllCsSJFABgzatzIsaPHjyBDihxJsiQABChTIiDCsiWRKTBjypxJs6ZNHzhz+sDBsycOJ0CDOllCtChRAEiTKl3KtKnTp1CjSp1KtapTDlizcojBtWsMEWDDgp1CtqxZs0DSqgVSoK3bAgDiygUgoa5dCTDy6s0LoK/fv4ADCx5MuLDhw4gTKx7MobFjDjEiS44horLlylMya968GYjnz0AKiB5dAIDp0wAkqF4tAYbr164ByJ5Nu7bt27hz697Nu7fv378NCB9uIIDx48ZhKF8OY4rz51M+SJ/+AYD169iza9/Ovbv37+DDi/8fT778dwPo0xsIwL49exjw48OYQr/+lA/4838AwL+/f4AABA4kWNDgQYQJFS5k2NDhQ4gRIbagWLHFFIwZp/Dg2JGHAJAhBQAgWdLkSZQpVa5k2dLlS5gxZc6kCaDATZwFeOzkyWPKT6BTNAwlqgHAUaRJlS5l2tTpU6hRpU6lWtXqVQAFtG4twMPrVx5TxI6dosHsWQ0A1K5l29btW7hx5c6lW9fuXbx59cJ90NfvgyWBBS8xUtiwERmJFcsY0djxiACRJUcGUNnyZcyZNW/m3NnzZ9ChRY8mffnBadQPlqxmvcTIa9hGZMymLWPEbdwjAuzmvRvAb+DBhQ8nXtz/+HHkyZUvZ97cOfIO0aV3UFLdupIp2bVv317C+3fvC8SPXwDA/Hn06dWvZ9/e/Xv48eXPp18ffQf8+Tso4d9fCcApAgcSJFjiIMKDCxYyXADgIcSIEidSrGjxIsaMGjdy7OgR44SQIifoKGlSx5SUKleyfOHy5YsGMmc2AGDzJs6cOnfy7OnzJ9CgQocSLfrzANKkB0AwbQpCCtSoUKdQrTplB9asOwBw7er1K9iwYseSLWv2LNq0ateWPeD27QEQcueCkGL3rt0pevdO2eH37w4AggcTLmz4MOLEihczbuz4MeTIkg8/qWy58pTMmqc86ez5CYbQojEAKG36NOrU/6pXs27t+jXs2LJn06795Dbu21N2857y5DfwJxiGE8cA4Djy5MqXM2/u/Dn06NKnU68+nQL27BRQcO+OIgf48DmmkC9v/nyQ9OqDCGjvXgCA+PLn069v/z7+/Pr38+/vHyAAgQMJFjR4UCAFhQspoHD4EEUOiRNzTLF4EWPGIBs5BhHwEaQAACNJljR5EmVKlStZtnT5EmbMCDNpRnBxE6cLJDt5IpnyE2hQoUOnQDF6FAoOpUtxAHD6FGpUqVOpVrV6FWtWrVu5To3wFWwEF2PJukByFi2SKWvZtnX7dgoUuXOh4LB7FwcAvXv59vX7F3BgwYMJFzZ8GLACxYsVk/9w/JhEEcmTi0yxfBlzZs2bf3T23HlDaNEbAJQ2fRp1atWrWbd2/Rp2bNkAEtS2nSBDbt0ZhvT23XtKcOHDiRc37gN5ch8dmDfvIAB6dOgAqFe3fh17du3buXf3/h18eO0JyJdPkAF9+gxD2LdnPwV+fPnz6df3cR+/jw77+XcQAFCAwIECABg8iDChwoUMGzp8CDGixIYIKlpEUCOjxhpEOnokMiWkyJEkS5qc0iOlyh4cWrrkQCCmTAIAatq8iTOnzp08e/r8CTSoUJ4IihpFUCOp0hpEmjolMiWq1KlUq1qd0iOr1h4cunrlQCCsWAIAypo9izat2rVs27p9Czf/blsLdOtasIE3r40jfPsemQI4sODBhAtPaYI4cRMVjBurKAA5cgEAlCtbvow5s+bNnDt7/gw69GYLpEtbsIE6tY0jrFsfmQI7tuzZtGtPaYI7dxMVvHurKAA8eAEAxIsbP448ufLlzJs7fw49+nIW1KuzmII9u/bt3IV4/y5khfjxK1KYP2/+gPr1BwC4fw8/vvz59Ovbv48/v/79/OezAMhC4MApBQ0eRJhQyEKGQlY8hLgixUSKEw9cxHgAwEaOHT1+BBlS5EiSJU2eRJlS5UqWLV2+hBlT5kyaNW3exJlT506ePX3+BBpU6FCiRY0eRZpU6VKmTZ0+hRpV6lSq/1WtXsWaVetWrl29fgUbVuxYsmXNnkWbVu1atm3dvoUbV+5cunXt3sWbVy/SAX39DkAQWPBgwoVNHEZsgsVixotvPIZ8g8FkygxmXMY8g8pmzlScfAbt5MRo0icAnEadWvVq1q1dv4YdW/bs1wNs3x6AQPdu3r19mwAe3AQL4sWJ30Ce/AYD5s0ZzIAefQYV6tWpOMGe3ckJ7t1PAAAfXvx48uXNn0efXv169ugHvIc/AMF8+vXt3zeRX78JFv39A2TB4gbBgjcYIEzIYAbDhjOoQIxIxQnFik5OYMx4AgDHjh4/ggwpciTJkiZFOkip0gGEli4hhIgpMyaMmjZh0P/IqZPGlJ4+fwINKnSokaJGjdhIqtTGlKZOpzCJKpVJj6pWe2DIqhUDgK5ev4INK3Ys2bJmz451oHatAwhu30IIIXeuXBh278KgoXcvjSl+/wIOLHgwYSOGDxuxoXixjSmOH09hInkykx6WL/fAoHkzBgCeP4MOLXo06dKmT6Mm7WA1awcQXsOGEGI27dkwbuOGQWM3bxpTfgMPLnw48eJGjiM3YmM5cxtTnkOfwmQ6dSY9rmPvgWE7dwwAvoMPL348+fLmz6NPX94B+/YOIMCPDyEE/fr0YeDPD4MG//40AE4ROJBgQYMHERpRuNCIDYcPbUyROHEKE4sXmfTQuLH/BwaPHzEAEDmSZEmTJ1GmVLmSJYAKL2FWSDKTZpIpN3Hm1LmTZ0+fP29GETpUKAijR0F4ULqUKdMLT6FeiDCVagQAV7Fm1bqVa1evX8GG7VqBbNkKSdCmTTKFbVu3b+HGlTuXLtsod/HeBbGXLwgPfwEHDnyBcOELERAnjgCAcWPHjyFHljyZcmXLkitk1lwhSWfPSaaEFj2adGnTp1GnDh2FdWvWIGDHBuGBdm3bti/k1n0hQm/fEQAEFz6ceHHjx5EnV778OALnzxEQkT6dyBTr17Fn176duw/v333gED8ehxPz550sUb9ePQD37+HHlz+ffn379/Hn178fAAL//wARCERApKBBIlMSKlzIsKHDhz4iSvSBo6JFHE4yanSypKPHjgBCihxJsqTJkyhTqlzJsqVLAAhiykRApKZNIlNy6tzJs6fPnz6CCvWBo6hRHE6SKnWypKnTpgCiSp1KtarVq1izat3KtatXAAjCikVApKxZIlPSql3Ltq3btz7iyvWBo65dHE7y6nWypK/fvgACCx5MuLDhw4gTK17MuLHjwxwiS+YQo7LlGCIya848pbPnz5+BiB4NpIDp0wUAqF4NQILr1xJgyJ4tG4Dt27hz697Nu7fv38CDCx/Om4Px4xxiKF8eQ4Tz586nSJ9OnTqQ69iBFNjOvQCA7+ABSP8YT14CjPPozwNYz769+/fw48ufT7++/fv443PYz59DDIAxBA4UUdBgwSkJFS5cCMThQyAFJE4sAMDiRQASNG6UAMPjR48ARI4kWdLkSZQpVa5k2dLly5cGZM40EMDmTZswdO6EMcXnzykfhA79AMDoUaRJlS5l2tTpU6hRpU6lWvWpAaxZDQTg2pUrDLBhYUwhW3bKB7RpPwBg29btW7hx5c6lW9fuXbx59e6ta8DvXwMBBA8WDMPwYRhTFC+e8sHx4w8AJE+mXNnyZcyZNW/m3NnzZ9ChNxsgXdpAANSpUcNg3RrGFNixp3ygXfsDANy5de/m3dv3b+DBhQ8nXtz/+HHkvlssZ95iynPoU3hMp85DwHXsAgBs597d+3fw4cWPJ1/e/Hn06dWvB9DC/fsWU+TPn8LD/n0eAvTvFwDAP0AAAgcSLGjwIMKEChcybOjwIcSIEFtQrNhiCsaMU3hw7MhDAMiQAgCQLGnyJMqUKleybOnyJcyYMmfSBNDiJs4WU3bynMLjJ1AeAoYSFQDgKNKkSpcyber0KdSoUqdSrWr1KoACWrcW4OH1K48pYsdO0WD2rAYAateybev2Ldy4cufSrWv3Lt68egEU6Ou3AI/AgnlMKWx4iobEijUAaOz4MeTIkidTrmz5MubMmjdz7gygAOjQBXiQLs1jCurU/1M0sG6tAQDs2LJn065t+zbu3Lp38+7t+zdw2w+GE3+w5DjyJUaWMzci4zl0GSOmUx8R4Dr26wC2c+/u/Tv48OLHky9v/jz69Oq7P2jv/sGS+PKXGKlv34iM/PpljOjvH+CIAAMJDgRwEGFChQsZNnT4EGJEiRMpVrSY8EFGjQ+WdPS4xEhIkUZklDQpY0RKlSMCtHTZEkBMmTNp1rR5E2dOnTt59vT5E+jMB0OJPlhyFOkSI0uZGpHxFKqMEVOpjghwFetVAFu5dvX6FWxYsWPJljV7Fm1atWQ7tHXbQUlcuUqm1LV7924JvXv1LvD7dwEAwYMJFzZ8GHFixYsZN/92/BhyZMIdKFfuoARzZiVTOHf27LlEaNGhF5Q2vQBAatWrWbd2/Rp2bNmzade2fRv36g67eXdQ8hu4kinDiRcvXgJ5cuQLmDdfAAB6dOnTqVe3fh17du3buXf3/j37BPHjJ+gwf17HFPXr2bd/8R7+iwbz6TcAcB9/fv37+ff3DxCAwIEECxo8iDChwoUMGzo8OCGixAk6KlrUMSWjxo0cX3j8+KKByJENAJg8iTKlypUsW7p8CTOmzJk0a6KcgDPnBB08e+qYAjSo0KEvihp90SCp0gYAmjp9CjWq1KlUq1q9ijWr1q1cn074CnaCjrFkdUw5izat2hds275oADf/bgMAdOvavYs3r969fPv6/Qs4sODBfQ8YPnwAhOLFIKQ4fux4iuTJU3ZYvrwDgObNnDt7/gw6tOjRpEubPo069egDrFsfAAE7NggptGvTnoI795QdvHvvAAA8uPDhxIsbP448ufLlzJs7f578gPTpB0BYvw5Civbt2qd4/z5lh/jxOwCYP48+vfr17Nu7fw8/vvz59OvbX/8kv/78U/r7BzjlyUCCTzAcRIgBwEKGDR0+hBhR4kSKFS1exJhR48YnHT12nBJS5JQnJU0+wZBSJQYALV2+hBlT5kyaNW3exJlT506ePZ/8BPpzylCiU54cRfoEw1KmGAA8hRpV6lSq/1WtXsWaVetWrl29fn0SVmzYKWXNTnmSVu0TDG3dYgAQV+5cunXt3sWbV+9evn39/u1LQfBgCigMH0aRQ/HiHFMcP4YcOchkykEEXMYsAMBmzp09fwYdWvRo0qVNn0ad+jQF1q0poIAdG0UO2rVzTMGdW/fuIL19BxEQXLgAAMWNH0eeXPly5s2dP4ceXfr06BSsX6eAQvt2FDm8f88xRfx48uWDnEcfRMB69gIAvIcfX/58+vXt38efX/9+/v33A6QgcCAFFAYPosihcGGOKQ4fQowYZCLFIAIuYhQAYCPHjh4/ggwpciTJkiZPokwZYSXLCC5ewnSBZCZNJFNu4v/MqXPnFCg+f0LBIXQoDgBGjyJNqnQp06ZOn0KNKnUq1aURrmKN4GIrVxdIvoJFMmUs2bJmz06BonYtFBxu3+IAIHcu3bp27+LNq3cv375+/wK+G2Ew4QguDiN2gWQxYyRTHkOOLHnyFCiWL0PBoXkzDgCeP4MOLXo06dKmT6NOrXo1aQWuX7smIXs2iSK2bxeZons3796+f/8ILjz4huLGNwBIrnw58+bOn0OPLn069erWrSvIrj07ie7eSRQJL77IlPLmz6NPr/4H+/bsN8CPvwEA/fr27+PPr38///7+AQIQOJBgQYMHESZUKFBBQ4cNSUSUSKJIRYtFpmTUuJH/Y0ePP0CGBLmBZMkNAFCmVLmSZUuXL2HGlDmTZs2aCnDmxEmCZ08SRYAGLTKFaFGjR5Em/bGU6dINT6FuADCValWrV7Fm1bqVa1evX8ECSDCWbIIMZ9FmGLKW7dopb+HGlTuXrg+7d3100Lu3gwC/f/0CEDyYcGHDhxEnVryYcWPHjxEnkDw5QQbLlzMM0bxZ8xTPn0GHFj3aR2nTPjqkVt1BQGvXrQHElj2bdm3bt3Hn1r2bd2/ftxMEF54gQ3HjGYYkV558SnPnz6FHl+6DenUfHbBn7yCAe3fuAMCHFz+efHnz59GnV7+e/XkE7+EjqDGffg0i9/ETmbKff3///wCnCBxIkGCPgwh7cFjIkAOBhxAJAJhIsaLFixgzatzIsaPHjyA1IhhJEkGNkyhrEFnJksiUlzBjypxJc0qPmzh7cNjJkwOBn0AJABhKtKjRo0iTKl3KtKnTp1CVIphKFUGNq1hrENnKlciUr2DDih1LdkqPs2h7cFjLlgOBt3AJAJhLt67du3jz6t3Lt6/fv4D1IhhMGEGNw4hrEFnMmMiUx5AjS55MeUqPy5h7cNjMmQOBz6AJABhNurTp06hTq17NurXr16styJ5twYbt2zaO6N59ZIrv38CDCx8+pYnx401UKF+uooDz5wUASJ9Ovbr169iza9/Ovbv379ktiP8fb8GG+fM2jqhff2SK+/fw48ufP6WJ/ftNVOjfr6KAf4AFBBYAUNDgQYQJFS5k2NDhQ4gRJTK0UNGiBRsZNdo40tHjkSkhRY4kWdLklCYpVTZR0dKligIxZRYAUNPmTZw5de7k2dPnT6BBhfJkUdQoiylJlS5l2lTIU6hCVkyluiLFVaxXD2zlegDAV7BhxY4lW9bsWbRp1a5l25YsC7hxWUyhW9fuXbxC9O4VssLv3xUpBA8WfMDw4QMAFC9m3NjxY8iRJU+mXNnyZcyPWWzmzGLKZ9ChRY8WUtq0kBWpVa9I0dp16wOxZR8AUNv2bdy5de/m3dv3b+DBhQ/XzcKG+HEWU5QvZ97cuRDo0YWsoF59RQrs2bEf4N79AADw4cWPJ1/e/Hn06dWvZ9/e/Xv48eXPp1/f/n38+fXv59/fP0AAAgcSLGjwIMKEChcybOjwIcSIEidSrGjxIsaMGjdy7OjxI8iQIkeSLGnyJMqUKleybOnyJcyYMmfSrGnzJs6cOndCDAgAOw==\"><title>Layer: input (input)\n",
       " shape = (784,)\n",
       " Keras class = Input</title></image><text x=\"255.0\" y=\"902.0\" font-family=\"Verdana\" font-size=\"12\">input</text></svg>"
      ],
      "text/plain": [
       "<Network name='MNIST-Autoencoder'>"
      ]
     },
     "execution_count": 335,
     "metadata": {},
     "output_type": "execute_result"
    }
   ],
   "source": [
    "net"
   ]
  },
  {
   "cell_type": "code",
   "execution_count": 336,
   "metadata": {},
   "outputs": [
    {
     "data": {
      "application/javascript": [
       "\n",
       "require(['base/js/namespace'], function(Jupyter) {\n",
       "    Jupyter.notebook.kernel.comm_manager.register_target('conx_svg_control', function(comm, msg) {\n",
       "        comm.on_msg(function(msg) {\n",
       "            var data = msg[\"content\"][\"data\"];\n",
       "            var image = document.getElementById(data[\"id\"]);\n",
       "            if (image) {\n",
       "                image.setAttributeNS(null, \"href\", data[\"href\"]);\n",
       "            }\n",
       "        });\n",
       "    });\n",
       "});\n"
      ],
      "text/plain": [
       "<IPython.core.display.Javascript object>"
      ]
     },
     "metadata": {},
     "output_type": "display_data"
    },
    {
     "data": {
      "image/svg+xml": [
       "\n",
       "        <svg id='MNIST-Autoencoder' xmlns='http://www.w3.org/2000/svg' width=\"300\" height=\"1050\">\n",
       "    <defs>\n",
       "        <marker id=\"arrow\" markerWidth=\"10\" markerHeight=\"10\" refX=\"9\" refY=\"3\" orient=\"auto\" markerUnits=\"strokeWidth\">\n",
       "          <path d=\"M0,0 L0,6 L9,3 z\" fill=\"blue\" />\n",
       "        </marker>\n",
       "    </defs>\n",
       "<rect x=\"49.0\" y=\"24\" width=\"202\" height=\"202\" style=\"fill:none;stroke:blue;stroke-width:2\"/><image id=\"MNIST-Autoencoder_output\" x=\"50.0\" y=\"25\" height=\"200\" width=\"200\" href=\"data:image/gif;base64,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\"><title>Layer: output (output)\n",
       " shape = (784,)\n",
       " Keras class = Dense\n",
       " activation = sigmoid</title></image><text x=\"255.0\" y=\"127.0\" font-family=\"Verdana\" font-size=\"12\">output</text><rect x=\"140.0\" y=\"227\" width=\"20.0\" height=\"47\" style=\"fill:white;stroke:none\"><title>Weights from hidden3 to output\n",
       " output/kernel has shape (25, 784)\n",
       " output/bias has shape (784,)</title></rect><line x1=\"150.0\" y1=\"274\" x2=\"150.0\" y2=\"227\" stroke=\"blue\" stroke-width=\"2\" marker-end=\"url(#arrow)\"><title>Weights from hidden3 to output\n",
       " output/kernel has shape (25, 784)\n",
       " output/bias has shape (784,)</title></line><rect x=\"86.5\" y=\"274\" width=\"127\" height=\"127\" style=\"fill:none;stroke:blue;stroke-width:2\"/><image id=\"MNIST-Autoencoder_hidden3\" x=\"87.5\" y=\"275\" height=\"125\" width=\"125\" href=\"data:image/gif;base64,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\"><title>Layer: hidden3 (hidden)\n",
       " shape = (25,)\n",
       " Keras class = Dense\n",
       " activation = relu</title></image><text x=\"217.5\" y=\"339.5\" font-family=\"Verdana\" font-size=\"12\">hidden3</text><rect x=\"140.0\" y=\"402\" width=\"20.0\" height=\"47\" style=\"fill:white;stroke:none\"><title>Weights from hidden2 to hidden3\n",
       " hidden3/kernel has shape (25, 25)\n",
       " hidden3/bias has shape (25,)</title></rect><line x1=\"150.0\" y1=\"449\" x2=\"150.0\" y2=\"402\" stroke=\"blue\" stroke-width=\"2\" marker-end=\"url(#arrow)\"><title>Weights from hidden2 to hidden3\n",
       " hidden3/kernel has shape (25, 25)\n",
       " hidden3/bias has shape (25,)</title></line><rect x=\"86.5\" y=\"449\" width=\"127\" height=\"127\" style=\"fill:none;stroke:blue;stroke-width:2\"/><image id=\"MNIST-Autoencoder_hidden2\" x=\"87.5\" y=\"450\" height=\"125\" width=\"125\" href=\"data:image/gif;base64,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\"><title>Layer: hidden2 (hidden)\n",
       " shape = (25,)\n",
       " Keras class = Dense\n",
       " activation = relu</title></image><text x=\"217.5\" y=\"514.5\" font-family=\"Verdana\" font-size=\"12\">hidden2</text><rect x=\"140.0\" y=\"577\" width=\"20.0\" height=\"47\" style=\"fill:white;stroke:none\"><title>Weights from hidden1 to hidden2\n",
       " hidden2/kernel has shape (25, 25)\n",
       " hidden2/bias has shape (25,)</title></rect><line x1=\"150.0\" y1=\"624\" x2=\"150.0\" y2=\"577\" stroke=\"blue\" stroke-width=\"2\" marker-end=\"url(#arrow)\"><title>Weights from hidden1 to hidden2\n",
       " hidden2/kernel has shape (25, 25)\n",
       " hidden2/bias has shape (25,)</title></line><rect x=\"86.5\" y=\"624\" width=\"127\" height=\"127\" style=\"fill:none;stroke:blue;stroke-width:2\"/><image id=\"MNIST-Autoencoder_hidden1\" x=\"87.5\" y=\"625\" height=\"125\" width=\"125\" href=\"data:image/gif;base64,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\"><title>Layer: hidden1 (hidden)\n",
       " shape = (25,)\n",
       " Keras class = Dense\n",
       " activation = relu</title></image><text x=\"217.5\" y=\"689.5\" font-family=\"Verdana\" font-size=\"12\">hidden1</text><rect x=\"140.0\" y=\"752\" width=\"20.0\" height=\"47\" style=\"fill:white;stroke:none\"><title>Weights from input to hidden1\n",
       " hidden1/kernel has shape (784, 25)\n",
       " hidden1/bias has shape (25,)</title></rect><line x1=\"150.0\" y1=\"799\" x2=\"150.0\" y2=\"752\" stroke=\"blue\" stroke-width=\"2\" marker-end=\"url(#arrow)\"><title>Weights from input to hidden1\n",
       " hidden1/kernel has shape (784, 25)\n",
       " hidden1/bias has shape (25,)</title></line><rect x=\"49.0\" y=\"799\" width=\"202\" height=\"202\" style=\"fill:none;stroke:blue;stroke-width:2\"/><image id=\"MNIST-Autoencoder_input\" x=\"50.0\" y=\"800\" height=\"200\" width=\"200\" href=\"data:image/gif;base64,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\"><title>Layer: input (input)\n",
       " shape = (784,)\n",
       " Keras class = Input</title></image><text x=\"255.0\" y=\"902.0\" font-family=\"Verdana\" font-size=\"12\">input</text></svg>"
      ],
      "text/plain": [
       "<Network name='MNIST-Autoencoder'>"
      ]
     },
     "execution_count": 336,
     "metadata": {},
     "output_type": "execute_result"
    }
   ],
   "source": [
    "net"
   ]
  },
  {
   "cell_type": "code",
   "execution_count": null,
   "metadata": {
    "collapsed": true
   },
   "outputs": [],
   "source": []
  },
  {
   "cell_type": "code",
   "execution_count": 337,
   "metadata": {},
   "outputs": [],
   "source": [
    "output = net.propagate(train_inputs[random.randint(0,1000)].reshape((784, )))"
   ]
  },
  {
   "cell_type": "code",
   "execution_count": 294,
   "metadata": {},
   "outputs": [],
   "source": [
    "train_inputs = np.array([pattern.reshape((784,)) for pattern in train_inputs])"
   ]
  },
  {
   "cell_type": "code",
   "execution_count": 329,
   "metadata": {},
   "outputs": [
    {
     "name": "stdout",
     "output_type": "stream",
     "text": [
      "60000 train inputs, 0 test inputs\n",
      "Set 60000 inputs and targets\n",
      "Input data shape: (784,), range: (0, 255), type: uint8\n",
      "Target data shape: (784,), range: (0, 255), type: uint8\n"
     ]
    }
   ],
   "source": [
    "net.set_dataset_direct(train_inputs, train_inputs)"
   ]
  },
  {
   "cell_type": "code",
   "execution_count": 330,
   "metadata": {},
   "outputs": [
    {
     "name": "stdout",
     "output_type": "stream",
     "text": [
      "Split dataset into:\n",
      "   6000 train inputs\n",
      "   54000 test inputs\n"
     ]
    }
   ],
   "source": [
    "net.split_dataset(0.10)"
   ]
  },
  {
   "cell_type": "code",
   "execution_count": 331,
   "metadata": {},
   "outputs": [
    {
     "name": "stdout",
     "output_type": "stream",
     "text": [
      "Training...\n",
      "Epoch #    1 | train loss -1.51523 | train acc 0.38287 | validate% 0.00000\n",
      "Epoch #    2 | train loss -21.10456 | train acc 0.37622 | validate% 0.00000\n",
      "Epoch #    3 | train loss -43.95176 | train acc 0.37033 | validate% 0.00000\n",
      "Epoch #    4 | train loss -70.30525 | train acc 0.36482 | validate% 0.00000\n",
      "Epoch #    5 | train loss -99.15157 | train acc 0.35929 | validate% 0.00000\n",
      "Epoch #    6 | train loss -130.02003 | train acc 0.35347 | validate% 0.00000\n",
      "Epoch #    7 | train loss -162.95244 | train acc 0.34821 | validate% 0.00000\n",
      "Epoch #    8 | train loss -197.47273 | train acc 0.34270 | validate% 0.00000\n",
      "Epoch #    9 | train loss -231.85010 | train acc 0.33682 | validate% 0.00000\n",
      "Epoch #   10 | train loss -264.01199 | train acc 0.33067 | validate% 0.00000\n",
      "Epoch #   11 | train loss -292.75897 | train acc 0.32446 | validate% 0.00000\n",
      "Epoch #   12 | train loss -318.09982 | train acc 0.31983 | validate% 0.00000\n",
      "Epoch #   13 | train loss -340.10260 | train acc 0.31826 | validate% 0.00000\n",
      "Epoch #   14 | train loss -359.09000 | train acc 0.31910 | validate% 0.00000\n",
      "Epoch #   15 | train loss -376.11014 | train acc 0.32127 | validate% 0.00000\n",
      "Epoch #   16 | train loss -391.66550 | train acc 0.32253 | validate% 0.00000\n",
      "Epoch #   17 | train loss -405.60562 | train acc 0.32363 | validate% 0.00000\n",
      "Epoch #   18 | train loss -417.92389 | train acc 0.32440 | validate% 0.00000\n",
      "Epoch #   19 | train loss -428.96921 | train acc 0.32479 | validate% 0.00000\n",
      "Epoch #   20 | train loss -438.89493 | train acc 0.32482 | validate% 0.00000\n",
      "Epoch #   21 | train loss -447.77963 | train acc 0.32440 | validate% 0.00000\n",
      "Epoch #   22 | train loss -456.32941 | train acc 0.32268 | validate% 0.00000\n",
      "Epoch #   23 | train loss -465.09909 | train acc 0.32059 | validate% 0.00000\n",
      "Epoch #   24 | train loss -473.83087 | train acc 0.31884 | validate% 0.00000\n",
      "Epoch #   25 | train loss -481.65820 | train acc 0.31694 | validate% 0.00000\n",
      "Epoch #   26 | train loss -488.01657 | train acc 0.31581 | validate% 0.00000\n",
      "Epoch #   27 | train loss -492.57709 | train acc 0.31630 | validate% 0.00000\n",
      "Epoch #   28 | train loss -495.52408 | train acc 0.31772 | validate% 0.00000\n",
      "Epoch #   29 | train loss -497.50900 | train acc 0.31924 | validate% 0.00000\n",
      "Epoch #   30 | train loss -499.19955 | train acc 0.32102 | validate% 0.00000\n",
      "Epoch #   31 | train loss -500.89642 | train acc 0.32239 | validate% 0.00000\n",
      "Epoch #   32 | train loss -502.67145 | train acc 0.32328 | validate% 0.00000\n",
      "Epoch #   33 | train loss -504.44049 | train acc 0.32362 | validate% 0.00000\n",
      "Epoch #   34 | train loss -505.93741 | train acc 0.32298 | validate% 0.00000\n",
      "Epoch #   35 | train loss -506.97238 | train acc 0.32166 | validate% 0.00000\n",
      "Epoch #   36 | train loss -507.56137 | train acc 0.32101 | validate% 0.00000\n",
      "Epoch #   37 | train loss -507.86313 | train acc 0.32108 | validate% 0.00000\n",
      "Epoch #   38 | train loss -508.00513 | train acc 0.32146 | validate% 0.00000\n",
      "Epoch #   39 | train loss -508.07178 | train acc 0.32191 | validate% 0.00000\n",
      "\n",
      "Stopping at end of epoch... (^C again to quit now)...\n",
      "Epoch #   40 | train loss -508.10458 | train acc 0.32227 | validate% 0.00000\n",
      "========================================================================\n",
      "Epoch #   40 | train loss -508.10458 | train acc 0.32227 | validate% 0.00000\n"
     ]
    },
    {
     "ename": "KeyboardInterrupt",
     "evalue": "",
     "output_type": "error",
     "traceback": [
      "\u001b[0;31m---------------------------------------------------------------------------\u001b[0m",
      "\u001b[0;31mKeyboardInterrupt\u001b[0m                         Traceback (most recent call last)",
      "\u001b[0;32m<ipython-input-331-51a2d86fbb4c>\u001b[0m in \u001b[0;36m<module>\u001b[0;34m()\u001b[0m\n\u001b[0;32m----> 1\u001b[0;31m \u001b[0mnet\u001b[0m\u001b[0;34m.\u001b[0m\u001b[0mtrain\u001b[0m\u001b[0;34m(\u001b[0m\u001b[0maccuracy\u001b[0m\u001b[0;34m=\u001b[0m\u001b[0;36m0.5\u001b[0m\u001b[0;34m,\u001b[0m \u001b[0mepochs\u001b[0m\u001b[0;34m=\u001b[0m\u001b[0;36m1000\u001b[0m\u001b[0;34m,\u001b[0m \u001b[0mreport_rate\u001b[0m\u001b[0;34m=\u001b[0m\u001b[0;36m1\u001b[0m\u001b[0;34m,\u001b[0m \u001b[0mtolerance\u001b[0m\u001b[0;34m=\u001b[0m\u001b[0;36m0.4\u001b[0m\u001b[0;34m)\u001b[0m\u001b[0;34m\u001b[0m\u001b[0m\n\u001b[0m",
      "\u001b[0;32m/usr/local/lib/python3.5/dist-packages/conx/network.py\u001b[0m in \u001b[0;36mtrain\u001b[0;34m(self, epochs, accuracy, batch_size, report_rate, tolerance, verbose, shuffle, class_weight, sample_weight)\u001b[0m\n\u001b[1;32m    495\u001b[0m                 print(\"Epoch #%5d | train loss %7.5f | train acc %7.5f | validate%% %7.5f\" %\n\u001b[1;32m    496\u001b[0m                       (self.epoch_count, loss, acc, val_percent))\n\u001b[0;32m--> 497\u001b[0;31m                 \u001b[0;32mraise\u001b[0m \u001b[0mKeyboardInterrupt\u001b[0m\u001b[0;34m\u001b[0m\u001b[0m\n\u001b[0m\u001b[1;32m    498\u001b[0m         \u001b[0;32mif\u001b[0m \u001b[0mverbose\u001b[0m\u001b[0;34m:\u001b[0m\u001b[0;34m\u001b[0m\u001b[0m\n\u001b[1;32m    499\u001b[0m             \u001b[0mprint\u001b[0m\u001b[0;34m(\u001b[0m\u001b[0;34m\"=\"\u001b[0m \u001b[0;34m*\u001b[0m \u001b[0;36m72\u001b[0m\u001b[0;34m)\u001b[0m\u001b[0;34m\u001b[0m\u001b[0m\n",
      "\u001b[0;31mKeyboardInterrupt\u001b[0m: "
     ]
    }
   ],
   "source": [
    "net.train(accuracy=0.5, epochs=1000, report_rate=1, tolerance=0.4)"
   ]
  },
  {
   "cell_type": "code",
   "execution_count": null,
   "metadata": {
    "collapsed": true
   },
   "outputs": [],
   "source": []
  }
 ],
 "metadata": {
  "kernelspec": {
   "display_name": "Python 3",
   "language": "python",
   "name": "python3"
  },
  "language_info": {
   "codemirror_mode": {
    "name": "ipython",
    "version": 3
   },
   "file_extension": ".py",
   "mimetype": "text/x-python",
   "name": "python",
   "nbconvert_exporter": "python",
   "pygments_lexer": "ipython3",
   "version": "3.5.3"
  }
 },
 "nbformat": 4,
 "nbformat_minor": 2
}
