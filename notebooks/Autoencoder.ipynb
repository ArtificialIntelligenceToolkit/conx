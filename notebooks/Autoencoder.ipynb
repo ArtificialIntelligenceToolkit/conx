{
 "cells": [
  {
   "cell_type": "markdown",
   "metadata": {},
   "source": [
    "# Autoencoder"
   ]
  },
  {
   "cell_type": "code",
   "execution_count": 1,
   "metadata": {},
   "outputs": [
    {
     "name": "stderr",
     "output_type": "stream",
     "text": [
      "Using Theano backend.\n"
     ]
    }
   ],
   "source": [
    "from conx import *\n",
    "import random"
   ]
  },
  {
   "cell_type": "code",
   "execution_count": 2,
   "metadata": {
    "collapsed": true
   },
   "outputs": [],
   "source": [
    "net = Network(\"Autoencoder\", arrow_color=\"red\", arrow_width=2, border_color=\"blue\", border_width=3)\n",
    "net.add(Layer(\"input\", 10, minmax=(0,1)))\n",
    "net.add(Layer(\"hidden\", 5, activation=\"relu\", visible=True))\n",
    "net.add(Layer(\"output\", 10, activation=\"sigmoid\"))\n",
    "net.config[\"font_family\"] = \"monospace\""
   ]
  },
  {
   "cell_type": "code",
   "execution_count": 3,
   "metadata": {
    "collapsed": true
   },
   "outputs": [],
   "source": [
    "net.connect()"
   ]
  },
  {
   "cell_type": "code",
   "execution_count": 4,
   "metadata": {
    "collapsed": true
   },
   "outputs": [],
   "source": [
    "net.compile(loss='binary_crossentropy', optimizer=\"adam\")"
   ]
  },
  {
   "cell_type": "code",
   "execution_count": 5,
   "metadata": {},
   "outputs": [
    {
     "data": {
      "application/javascript": [
       "\n",
       "require(['base/js/namespace'], function(Jupyter) {\n",
       "    Jupyter.notebook.kernel.comm_manager.register_target('conx_svg_control', function(comm, msg) {\n",
       "        comm.on_msg(function(msg) {\n",
       "            var data = msg[\"content\"][\"data\"];\n",
       "            var images = document.getElementsByClassName(data[\"class\"]);\n",
       "            for (var i = 0; i < images.length; i++) {\n",
       "                images[i].setAttributeNS(null, \"href\", data[\"href\"]);\n",
       "            }\n",
       "        });\n",
       "    });\n",
       "});\n"
      ],
      "text/plain": [
       "<IPython.core.display.Javascript object>"
      ]
     },
     "metadata": {},
     "output_type": "display_data"
    },
    {
     "data": {
      "image/svg+xml": [
       "\n",
       "        <svg id='Autoencoder' xmlns='http://www.w3.org/2000/svg' width=\"300\" height=\"220\">\n",
       "    <defs>\n",
       "        <marker id=\"arrow\" markerWidth=\"10\" markerHeight=\"10\" refX=\"9\" refY=\"3\" orient=\"auto\" markerUnits=\"strokeWidth\">\n",
       "          <path d=\"M0,0 L0,6 L9,3 z\" fill=\"red\" />\n",
       "        </marker>\n",
       "    </defs>\n",
       "<rect x=\"49.0\" y=\"29\" width=\"202\" height=\"22\" style=\"fill:none;stroke:blue;stroke-width:3\"/><image id=\"Autoencoder_output_1\" class=\"Autoencoder_output\" x=\"50.0\" y=\"30\" height=\"20\" width=\"200\" href=\"data:image/gif;base64,R0lGODdhyAAUAIMAAGpqam9vb3Nzc3Z2domJiY6OjpCQkJKSkpSUlAAAAAAAAAAAAAAAAAAAAAAAAAAAACwAAAAAyAAUAEAI/wALCBxIsGBBAwgTKly4sIDDhxAjRjxAsaLFixcDaNzIsWNHBCBDihw5coDJkyhTpiTAsqXLly8ByJxJs2ZNAThz6ty5s4DPn0CDBjVAtKjRo0cLKF3KtGnTA1CjSp06NYDVq1izZkXAtavXr18HiB1LtmxZAmjTql27FoDbt3DjxhVAt67du3cL6N3Lt29fA4ADCx48uIDhw4gTJz7AuLHjx48DSJ5MuXJlBJgza968eYDnz6BDhyZAurTp06cBqF7NunVrAbBjy549u4Dt27hz5zbAu7fv378LCB9OvHjxA8iTK1++PIDz59CjR0dAvbr169cHaN/OvXt3AuDDi/8fPx6A+fPo06cXwL69+/fvC8ifT79+fQP48+vfv7+Af4AFBA4kWFDgAYQJFS5cGMDhQ4gRIyKgWNHixYsDNG7k2LEjAZAhRY4cCcDkSZQpUwpg2dLly5cFZM6kWbOmAZw5de7cWcDnT6BBgx4gWtTo0aMBlC5l2rQpAqhRpU6dOsDqVaxZsxLg2tXr168AxI4lW7asALRp1a5dW8DtW7hx4xqgW9fu3bsF9O7l27fvAcCBBQ8eHMDwYcSJEyNg3Njx48cDJE+mXLkyAcyZNW/eDMDzZ9ChQwsgXdr06dMFVK9m3bq1AdixZc+eXcD2bdy5cx/g3dv3798BhA8nXrz/OALkyZUvXz7A+XPo0aMToF7d+vXrALRv5969uwDw4cWPH1/A/Hn06dMbYN/e/fv3BeTPp1+//gH8+fXv3x/AP8AAAgcSLCgQAcKEChcuHODwIcSIEQlQrGjx4kUAGjdy7NhRAMiQIkeOLGDyJMqUKQ2wbOny5csCMmfSrFnzAM6cOnfuDODzJ9CgQREQLWr06NEBSpcybdqUANSoUqdOBWD1KtasWQVw7er169cCYseSLVvWANq0ateuLeD2Ldy4cQ/QrWv37t0Aevfy7dsXAeDAggcPHmD4MOLEiQkwbuz48WMAkidTrlxZAObMmjdvLuD5M+jQoQ2QLm369OkC/6pXs27d+gDs2LJnzw5g+zbu3LkR8O7t+/fvAcKHEy9enADy5MqXLwfg/Dn06NEFUK9u/fr1Atq3c+/e3QD48OLHjy9g/jz69OkPsG/v/v37APLn069fHwH+/Pr37x/gH+AAgQMJFhRIAGFChQsXAnD4EGLEiAIoVrR48WIBjRs5duxoAGRIkSNHFjB5EmXKlAdYtnT58mUAmTNp1qyJAGdOnTt3DvD5E2jQoASIFjV69CgApUuZNm0qAGpUqVOnFrB6FWvWrAa4dvX69WsBsWPJli17AG1atWvXBnD7Fm7cuAjo1rV79+4AvXv59u1LAHBgwYMHAzB8GHHixAIYN/92/PhxAcmTKVeubABzZs2bNxfw/Bl06NAHSJc2ffp0ANWrWbdujQB2bNmzZw+wfRt37twEePf2/fs3AOHDiRcvLgB5cuXLlxdw/hx69OgGqFe3fv16Ae3buXfvfgB8ePHjxwcwfx59+vQI2Ld3//79APnz6devTwB/fv379wPwDxCAwIEECwoUgDChwoULCzh8CDFiRAMUK1q8eLGAxo0cO3Y8ADKkyJEjA5g8iTJlSgQsW7p8+XKAzJk0a9YkgDOnzp07Afj8CTRoUAFEixo9erSA0qVMmzY1ADWq1KlTC1i9ijVr1gNcu3r9+jWA2LFky5ZFgDat2rVrB7h9CzdbblwCdOvavXsXgN69fPv2FQA4sODBgwsYPow4cWIDjBs7fvy4gOTJlCtXPoA5s+bNmwN4/gw6dGgEpEubPn16gOrVrFu3JgA7tuzZswHYvo07d24BvHv7/v07IAA7\"><title>Layer: output (output)\n",
       " shape = (10,)\n",
       " Keras class = Dense\n",
       " activation = sigmoid</title></image><text x=\"255.0\" y=\"42.0\" font-family=\"monospace\" font-size=\"12\">output</text><rect x=\"140.0\" y=\"52\" width=\"20.0\" height=\"47\" style=\"fill:white;stroke:none\"><title>Weights from hidden to output\n",
       " output/kernel has shape (5, 10)\n",
       " output/bias has shape (10,)</title></rect><line x1=\"150.0\" y1=\"99\" x2=\"150.0\" y2=\"52\" stroke=\"red\" stroke-width=\"2\" marker-end=\"url(#arrow)\"><title>Weights from hidden to output\n",
       " output/kernel has shape (5, 10)\n",
       " output/bias has shape (10,)</title></line><rect x=\"86.5\" y=\"99\" width=\"127\" height=\"27\" style=\"fill:none;stroke:blue;stroke-width:3\"/><image id=\"Autoencoder_hidden_1\" class=\"Autoencoder_hidden\" x=\"87.5\" y=\"100\" height=\"25\" width=\"125\" href=\"data:image/gif;base64,R0lGODdhfQAZAIAAAAAAAP///ywAAAAAfQAZAEAI/wABCBxIsKDBgwgTFgzAsKHDhxAdAphIsaLFixgzatzIsaNHjQFCihxJsuRIAChTqlzJsqXLlzBjypz5MoDNmzhz6sQJoKfPn0CDCh1KtKjRo0iJBljKtKnTp00BSJ1KtarVq1izat3KtWvWAGDDih1LViyAs2jTql3Ltq3bt3DjynUboK7du3jz3gXAt6/fv4ADCx5MuLDhw4MDKF7MuLFjxgAiS55MubLly5gza97MGXOAz6BDix4dGoDp06hTq17NurXr17Bjtw5Au7bt27htA9jNu7fv38CDCx9OvLhx4QGSK1/OvPlyANCjS59Ovbr169iza99+PYD37+DDi/8HD6C8+fPo06tfz769+/fw2QeYT7++/fv1Aejfz7+/f4AABA4kWNDgQYQJFS5kCCDAQ4gRJU6MCMDiRYwZNW7k2NHjR5AhOwYgWdLkSZQmAaxk2dLlS5gxZc6kWdOmzAA5de7k2XMnAKBBhQ4lWtToUaRJlS49GsDpU6hRpUIFUNXqVaxZtW7l2tXrV7BcA4wlW9bs2bIA1K5l29btW7hx5c6lWzduALx59e7lqxfAX8CBBQ8mXNjwYcSJFRsO0NjxY8iRHwOgXNnyZcyZNW/m3Nnz580BRI8mXdo0aQCpVa9m3dr1a9ixZc+mDTvAbdy5de/ODcD3b+DBhQ8nXtxl+HHkyYsHYN7c+XPozgFMp17d+nXs2bVv597du/YA4cWPJ19+PAD06dWvZ9/e/Xv48eXPfx/A/n38+fXjB9DfP0AAAgcSLGjwIMKEChcybDgwAMSIEidSlAjgIsaMGjdy7OhRY0AAOw==\"><title>Layer: hidden (hidden)\n",
       " shape = (5,)\n",
       " Keras class = Dense\n",
       " activation = relu</title></image><text x=\"217.5\" y=\"114.5\" font-family=\"monospace\" font-size=\"12\">hidden</text><rect x=\"140.0\" y=\"127\" width=\"20.0\" height=\"47\" style=\"fill:white;stroke:none\"><title>Weights from input to hidden\n",
       " hidden/kernel has shape (10, 5)\n",
       " hidden/bias has shape (5,)</title></rect><line x1=\"150.0\" y1=\"174\" x2=\"150.0\" y2=\"127\" stroke=\"red\" stroke-width=\"2\" marker-end=\"url(#arrow)\"><title>Weights from input to hidden\n",
       " hidden/kernel has shape (10, 5)\n",
       " hidden/bias has shape (5,)</title></line><rect x=\"49.0\" y=\"174\" width=\"202\" height=\"22\" style=\"fill:none;stroke:blue;stroke-width:3\"/><image id=\"Autoencoder_input_1\" class=\"Autoencoder_input\" x=\"50.0\" y=\"175\" height=\"20\" width=\"200\" href=\"data:image/gif;base64,R0lGODdhyAAUAIAAAH9/fwAAACwAAAAAyAAUAEAIZwABCBxIsKDBgwgTKlzIsKHDhxAjSpxIsaLFixgzatzIsaPHjyBDihxJsqTJkyhTqlzJsqXLlzBjypxJs6bNmzhz6tzJs6fPn0CDCh1KtKjRo0iTKl3KtKnTp1CjSp1KtarVq1ipBgQAOw==\"><title>Layer: input (input)\n",
       " shape = (10,)\n",
       " Keras class = Input</title></image><text x=\"255.0\" y=\"187.0\" font-family=\"monospace\" font-size=\"12\">input</text></svg>"
      ],
      "text/plain": [
       "<Network name='Autoencoder'>"
      ]
     },
     "execution_count": 5,
     "metadata": {},
     "output_type": "execute_result"
    }
   ],
   "source": [
    "net"
   ]
  },
  {
   "cell_type": "code",
   "execution_count": 6,
   "metadata": {},
   "outputs": [],
   "source": [
    "net[\"hidden\"].visible = False"
   ]
  },
  {
   "cell_type": "code",
   "execution_count": 7,
   "metadata": {
    "collapsed": true
   },
   "outputs": [],
   "source": [
    "patterns = [one_hot(i, 10) for i in range(10)]"
   ]
  },
  {
   "cell_type": "code",
   "execution_count": 8,
   "metadata": {},
   "outputs": [
    {
     "data": {
      "text/plain": [
       "[1.0, 0.0, 0.0, 0.0, 0.0, 0.0, 0.0, 0.0, 0.0, 0.0]"
      ]
     },
     "execution_count": 8,
     "metadata": {},
     "output_type": "execute_result"
    }
   ],
   "source": [
    "patterns[0]"
   ]
  },
  {
   "cell_type": "code",
   "execution_count": 9,
   "metadata": {
    "collapsed": true
   },
   "outputs": [],
   "source": [
    "dataset = [(p,p) for p in patterns]"
   ]
  },
  {
   "cell_type": "code",
   "execution_count": 10,
   "metadata": {
    "collapsed": true
   },
   "outputs": [],
   "source": [
    "import time\n",
    "for i in range(10):\n",
    "    net.propagate(dataset[i][0])\n",
    "    time.sleep(1)"
   ]
  },
  {
   "cell_type": "code",
   "execution_count": 11,
   "metadata": {},
   "outputs": [
    {
     "data": {
      "text/plain": [
       "([1.0, 0.0, 0.0, 0.0, 0.0, 0.0, 0.0, 0.0, 0.0, 0.0],\n",
       " [1.0, 0.0, 0.0, 0.0, 0.0, 0.0, 0.0, 0.0, 0.0, 0.0])"
      ]
     },
     "execution_count": 11,
     "metadata": {},
     "output_type": "execute_result"
    }
   ],
   "source": [
    "dataset[0]"
   ]
  },
  {
   "cell_type": "code",
   "execution_count": 12,
   "metadata": {},
   "outputs": [
    {
     "name": "stdout",
     "output_type": "stream",
     "text": [
      "10 train inputs, 0 test inputs\n",
      "Set 10 inputs and targets\n",
      "Input data shape: (10,), range: (0.0, 1.0), type: float32\n",
      "Target data shape: (10,), range: (0.0, 1.0), type: float32\n"
     ]
    }
   ],
   "source": [
    "net.set_dataset(dataset)"
   ]
  },
  {
   "cell_type": "code",
   "execution_count": 13,
   "metadata": {},
   "outputs": [
    {
     "name": "stdout",
     "output_type": "stream",
     "text": [
      "Training...\n",
      "Epoch #  200 | train loss 0.52925 | train acc 0.90000 | validate% 0.00000\n",
      "Epoch #  400 | train loss 0.33666 | train acc 0.90000 | validate% 0.00000\n",
      "Epoch #  600 | train loss 0.26295 | train acc 0.91000 | validate% 0.10000\n",
      "Epoch #  800 | train loss 0.21127 | train acc 0.92000 | validate% 0.10000\n",
      "Epoch # 1000 | train loss 0.16883 | train acc 0.93000 | validate% 0.30000\n",
      "Epoch # 1200 | train loss 0.13417 | train acc 0.96000 | validate% 0.30000\n",
      "Epoch # 1400 | train loss 0.10659 | train acc 0.97000 | validate% 0.60000\n",
      "Epoch # 1600 | train loss 0.08198 | train acc 0.97000 | validate% 0.70000\n",
      "Epoch # 1800 | train loss 0.06032 | train acc 1.00000 | validate% 0.90000\n",
      "========================================================================\n",
      "Epoch # 1916 | train loss 0.04988 | train acc 1.00000 | validate% 1.00000\n"
     ]
    }
   ],
   "source": [
    "net.train(accuracy=1, epochs=10000, report_rate=200, tolerance=0.4)"
   ]
  },
  {
   "cell_type": "code",
   "execution_count": 14,
   "metadata": {},
   "outputs": [
    {
     "data": {
      "text/plain": [
       "[0.88720727,\n",
       " 0.00025744713,\n",
       " 0.049273584,\n",
       " 0.00048073832,\n",
       " 0.0034091093,\n",
       " 0.018396527,\n",
       " 0.00067062909,\n",
       " 0.053740155,\n",
       " 0.017888974,\n",
       " 0.0001633966]"
      ]
     },
     "execution_count": 14,
     "metadata": {},
     "output_type": "execute_result"
    }
   ],
   "source": [
    "net.propagate(dataset[0][0])"
   ]
  },
  {
   "cell_type": "code",
   "execution_count": 15,
   "metadata": {},
   "outputs": [
    {
     "name": "stdout",
     "output_type": "stream",
     "text": [
      "Testing...\n",
      "# | inputs | outputs\n",
      "0 | [1.0, 0.0, 0.0, 0.0, 0.0, 0.0, 0.0, 0.0, 0.0, 0.0] | [0.9, 0.0, 0.0, 0.0, 0.0, 0.0, 0.0, 0.1, 0.0, 0.0]\n",
      "1 | [0.0, 1.0, 0.0, 0.0, 0.0, 0.0, 0.0, 0.0, 0.0, 0.0] | [0.0, 0.9, 0.0, 0.1, 0.1, 0.0, 0.0, 0.0, 0.0, 0.0]\n",
      "2 | [0.0, 0.0, 1.0, 0.0, 0.0, 0.0, 0.0, 0.0, 0.0, 0.0] | [0.0, 0.0, 0.8, 0.0, 0.0, 0.1, 0.0, 0.0, 0.1, 0.0]\n",
      "3 | [0.0, 0.0, 0.0, 1.0, 0.0, 0.0, 0.0, 0.0, 0.0, 0.0] | [0.0, 0.1, 0.0, 0.7, 0.0, 0.0, 0.0, 0.1, 0.0, 0.1]\n",
      "4 | [0.0, 0.0, 0.0, 0.0, 1.0, 0.0, 0.0, 0.0, 0.0, 0.0] | [0.0, 0.1, 0.0, 0.0, 0.6, 0.0, 0.0, 0.0, 0.1, 0.0]\n",
      "5 | [0.0, 0.0, 0.0, 0.0, 0.0, 1.0, 0.0, 0.0, 0.0, 0.0] | [0.0, 0.0, 0.1, 0.0, 0.0, 0.9, 0.0, 0.1, 0.0, 0.1]\n",
      "6 | [0.0, 0.0, 0.0, 0.0, 0.0, 0.0, 1.0, 0.0, 0.0, 0.0] | [0.0, 0.0, 0.0, 0.0, 0.0, 0.0, 0.9, 0.0, 0.0, 0.0]\n",
      "7 | [0.0, 0.0, 0.0, 0.0, 0.0, 0.0, 0.0, 1.0, 0.0, 0.0] | [0.0, 0.0, 0.0, 0.1, 0.0, 0.0, 0.0, 0.8, 0.0, 0.0]\n",
      "8 | [0.0, 0.0, 0.0, 0.0, 0.0, 0.0, 0.0, 0.0, 1.0, 0.0] | [0.0, 0.0, 0.1, 0.0, 0.1, 0.0, 0.0, 0.0, 0.8, 0.0]\n",
      "9 | [0.0, 0.0, 0.0, 0.0, 0.0, 0.0, 0.0, 0.0, 0.0, 1.0] | [0.0, 0.0, 0.0, 0.1, 0.0, 0.1, 0.0, 0.0, 0.0, 0.7]\n"
     ]
    }
   ],
   "source": [
    "net.test()"
   ]
  },
  {
   "cell_type": "code",
   "execution_count": 23,
   "metadata": {
    "collapsed": true
   },
   "outputs": [],
   "source": [
    "net.reset()"
   ]
  },
  {
   "cell_type": "code",
   "execution_count": 18,
   "metadata": {
    "collapsed": true
   },
   "outputs": [],
   "source": [
    "from keras.datasets import mnist\n",
    "(train_inputs, train_targets), (test_inputs, test_targets) = mnist.load_data()"
   ]
  },
  {
   "cell_type": "code",
   "execution_count": 19,
   "metadata": {},
   "outputs": [
    {
     "data": {
      "text/plain": [
       "(28, 28)"
      ]
     },
     "execution_count": 19,
     "metadata": {},
     "output_type": "execute_result"
    }
   ],
   "source": [
    "train_inputs[0].shape"
   ]
  },
  {
   "cell_type": "code",
   "execution_count": 20,
   "metadata": {},
   "outputs": [
    {
     "data": {
      "text/plain": [
       "784"
      ]
     },
     "execution_count": 20,
     "metadata": {},
     "output_type": "execute_result"
    }
   ],
   "source": [
    "28 * 28"
   ]
  },
  {
   "cell_type": "code",
   "execution_count": 21,
   "metadata": {
    "collapsed": true
   },
   "outputs": [],
   "source": [
    "net = Network(\"MNIST-Autoencoder\")\n",
    "net.add(Layer(\"input\", 784, vshape=(28,28), minmax=(0,255)))\n",
    "net.add(Layer(\"hidden1\", 25, vshape=(5,5), activation=\"relu\"))\n",
    "net.add(Layer(\"hidden2\", 25, vshape=(5,5), activation=\"relu\"))\n",
    "net.add(Layer(\"hidden3\", 25, vshape=(5,5), activation=\"relu\"))\n",
    "net.add(Layer(\"output\", 784, vshape=(28,28), activation=\"sigmoid\"))"
   ]
  },
  {
   "cell_type": "code",
   "execution_count": 22,
   "metadata": {
    "collapsed": true
   },
   "outputs": [],
   "source": [
    "net.connect()\n",
    "net.compile(loss=\"binary_crossentropy\", optimizer=\"adam\")"
   ]
  },
  {
   "cell_type": "code",
   "execution_count": 23,
   "metadata": {},
   "outputs": [
    {
     "data": {
      "application/javascript": [
       "\n",
       "require(['base/js/namespace'], function(Jupyter) {\n",
       "    Jupyter.notebook.kernel.comm_manager.register_target('conx_svg_control', function(comm, msg) {\n",
       "        comm.on_msg(function(msg) {\n",
       "            var data = msg[\"content\"][\"data\"];\n",
       "            var images = document.getElementsByClassName(data[\"class\"]);\n",
       "            for (var i = 0; i < images.length; i++) {\n",
       "                images[i].setAttributeNS(null, \"href\", data[\"href\"]);\n",
       "            }\n",
       "        });\n",
       "    });\n",
       "});\n"
      ],
      "text/plain": [
       "<IPython.core.display.Javascript object>"
      ]
     },
     "metadata": {},
     "output_type": "display_data"
    },
    {
     "data": {
      "image/svg+xml": [
       "\n",
       "        <svg id='MNIST-Autoencoder' xmlns='http://www.w3.org/2000/svg' width=\"300\" height=\"1050\">\n",
       "    <defs>\n",
       "        <marker id=\"arrow\" markerWidth=\"10\" markerHeight=\"10\" refX=\"9\" refY=\"3\" orient=\"auto\" markerUnits=\"strokeWidth\">\n",
       "          <path d=\"M0,0 L0,6 L9,3 z\" fill=\"blue\" />\n",
       "        </marker>\n",
       "    </defs>\n",
       "<rect x=\"49.0\" y=\"24\" width=\"202\" height=\"202\" style=\"fill:none;stroke:blue;stroke-width:2\"/><image id=\"MNIST-Autoencoder_output_1\" class=\"MNIST-Autoencoder_output\" x=\"50.0\" y=\"25\" height=\"200\" width=\"200\" href=\"data:image/gif;base64,R0lGODdhyADIAIYAAAAAAAEBAQICAgMDAwQEBAUFBQYGBgcHBwgICAkJCQoKCgsLCw4ODhISEhMTExQUFBUVFRoaGhsbGxwcHB0dHR4eHiEhISIiIiMjIyYmJigoKCoqKiwsLC4uLjQ0NDg4ODs7Oz8/P0REREVFRUZGRkdHR0pKSkxMTE5OTlFRUVNTU1VVVVdXV2JiYmNjY2ZmZmpqamtra2xsbG1tbXNzc3V1dXx8fIODg4SEhIeHh4iIiIqKiouLi5KSkpOTk5qamp2dnaGhoaysrK+vr7GxsbW1tbm5uby8vL6+vr+/v8TExMXFxcbGxsfHx8jIyMnJyc7OztDQ0NHR0dLS0tTU1Nvb29zc3N7e3uDg4OHh4eXl5efn5+jo6Onp6erq6uvr6+3t7e7u7u/v7/Hx8fLy8vPz8/T09PX19fb29vf39/j4+Pn5+fr6+vv7+/z8/P39/f7+/v///wAAAAAAAAAAAAAAAAAAAAAAAAAAAAAAAAAAAAAAAAAAAAAAAAAAAAAAACwAAAAAyADIAEAI/wDhCBwIB4DBgwB0KFyoA47DhxAjSoQTp6LFODwyauSxo6PHHVxCiuSypqTJknBSqoQTp6XLOHBiyoQDoKbNmzfh6NwJR43Pnz4BCB0KII7Ro3HgKF0KB4DTp1ChxplKNQ6Aq1ivwtnKFU6Or2BzTBlLdgqAs2gBxFnLNg6ct3DhAJhLd66au3jVxNnLNw6cv4DhABhMuLDhw4gBHFjM+ECcx5DjXJlM+Uqcy5jjwNnMGU6Cz6ATABhNurRpI6hTGwHAurVr13Biy4YDoLZtAGJy684Np7fv378BCB8OwIbx4zYkKF8uAY7z59CjQ5hOHUKc69jjwNnOHc6B7+APjP8YT34EgPPoAcBZz349gPfwASCYTx8BgPv4AcDZz79/f4AnBA48AcDgQYNwFC6EE8fhwzgAJE4EcMDixQMANG7kyBHOR5Af44wkGYfISZREAKxkCSDCS5gRhMykKSTOTZxxAOzk2dPnGqBB18QhWjQOHKRJ4cRh2jQOAKhRAcShWpUqAKxZAcDh2hUOALBhAcQhWzaOG7Rp3QBg29btW7gA4MylW9fuXQB59QKA09cvnDiBBQ8m7MTwYSdxFC9mzBjAY8gA4kymHKfAZcyXAWzmDADOZ9BwuIwmzQXOadRwsKxmjSXOa9hxAMymPbvAbdwF4OzmDafDb+Ad4AwnDgf/wHHkAG4sZ34DxHPozwFMpw4AznXscNxs5+4GwHfw4cWPJ18eyXn0SNysZ+8Gznv4cJrMp98EwH38AODs578fAEAAAgeqKWhQDYCEChcujOPwYRw4EidSrGgRDoCMGgFQ6eiRCoGQIgkAKGkSgIeUKj3AaenyJcyYcADQrGnzJs44Onfy7AnnJ1A4AIYSBTDgKNIBcJYyhRPnKdQ4C6ZSXRDnKtarcLZyhRPnK9g4AMaSBSDgLFoBcdaybdtWCty4cOHQrWvXLoC8egHg6OsXB5zAguEAKGwYQJzEihObaezYDIDIkgHAqWz58mUAmjcDMOP5sxkAokeTLm36NOow/6pXh4Hj+jUcALJn065tG0Cc3LrjGOnt20iW4MKzAChu/DjyOMqXxzHg/LkBANKnU6d+4Tr2CwS2cycA5zv473HGk4/T5Tz6LgDWs2/fHg78+HAA0K9v/36W/PqzAOjvHyAAgQMFwjF4ECHCBwsZPojzEOJDOBMpwgFwESOAOBs5xoHzEWRIkSMBlDR5EiUclSvhtHD5sgUAmTNp1rQJB2dOnAB49vTpE0hQoUDeFDX6Bk5SpXAGNHU6AEBUqVHhVLUKB0BWrQC4dPXKxUJYsRYAlDULAE5atXDKtHXbFkBcuXPnxrF7F29evXD49oUDAHBgwYNpFDZMA0BixQBQNP92jAJAZMkA4lS2HAdAZs2bOXf2DMBAaNEG4JQ2DQdAatWrWQtw/VpAHNmz4wCwfRsAHN274QDw/RsAHOHD4QAwfty4A+XLHQBw/hw69CjTqUcBcB07gCPbuR+J8x38dzjjycMBcB59evXrzbR3bwZAfPnz6Q+wf39AGv3708TxDzCOwDgAChoE0CChwgYAGjoEACeixIkUAVi8CACOxo1wCHj8SCCOyJFxAJg8CWCCypUqY7h8GQOOzJlw4ti8iRMnnJ084QD4CTSo0AVEiy4AgDSp0qVMyTh9SiaO1Klx4Fi9ajWO1q1x4Hj9CkeN2LFqAJg9CwCO2rVwALh9Czf/Lom5dEkAuIsXQIC9fAMQ+AuYQIbBhDMAOIwYwJfFjBdreAxZA5zJlCtbvgwgs2YAWzp73gIntOjRpEvDiYM6tWrVXlq79gIgtuzZtGsDiIM7d5wBvHsPcAM8uJsQxIuHUII8uZI4zJszhwM9OhwA1KsDgIM9O5w03LunAQA+PAA45MvDAYA+vfr1cdq7fw8/vo759HUAuI8/v/79ABb4B7hA4AIBBQ0KAJBQIQAYDR3CgBNRIpw4FS1WhJNRI5w4HT3GWRNS5BoAJU0CiJNSZRwALV0CgBNTZsw4NW3GgZNTJ5w4PX3+BBoUzlCicNwcRXoUwFKmAOA8hQoHwFSq/1WrwsGaFQ4Arl29fgULIM5YsnHgnEULJ85atnEAvIULwMBcugbi3MV7F85evnAA/AUcODAcwoXhAECcGAAcxo0dP3YTWbKbOJUtX74MQPNmzpzhfAYdWnQc0qXjAECdWrXqJa1dL6EQWzYFALVtA6iQW3fuNL19pwEQXDiACMWNR4CTXDkcAM2dA4ATXTocANWtVx+QXfuAON29f/8OR/x4OG3Mn28DQP16AHDcv3e/Qf78DQHs3w8AQP9+ABD8A4QgEEKcggbjwEmoEM6Phg4bsokokQ2AihYvXvygceMHFx4/ugAgciQAOCZPmgShciWIIC5fBgEgcyaAMzZvnv+Jo3NnnDY+f7aJI3Qo0aJwjiKFE2cp0zhvnkJ9s2Iq1RUMrmJlAGAr161xvoKNY2AsWQMmzqI1AWAtWwBw3sKFA2AuXQBx7uLNq3dvHAB+/wIOLPgN4cJvACBOjJgM48Zk1ECOrCYO5cpxAGDODGAM585j4oAOHQcO6dKkS6BOXQIA69YAtsCOvQUA7doA4uDOHQcB794I4AAPLnw4guLGEQBIrhyAmebOzQCILh0AnOrWr2N3o327mwLevxcAIH48ADjmz8PhoH49Bzju38OPH2A+/QBw7uPPnz8O//5xABYQOLBAHIMH48BRuFDhDIcPZ6CROBENAIsXAXzRuPH/CwCPHwHEETkyDgKTJ00CULkSAByXL2HCHDOT5hg4N3HCIbCTJwEAP4EGFWqCaFETAJAmVaoUTlOncIZElToETlWrVWdk1TojTlevX78CEDuWbFmzcNCmRYuBbVsMAODGBVCEbt0icPDmhQOAb18AWwAH3gKHcGHCcRAnjgOAcWPHjuFElgwnTmXLly/30LxZcwDPnwPAET0aThzTp+OoUb1aDRjXr8EAkD0bABzbt23H0b07Tgnfv0sAED4cABzjx+EAUL4cgArnz1X4kD5dOgDr1wEE0L49QBzv3+PAET8eDgDz59GjF7Ge/Xo47+HDATCffn3795/k1/8EQH///wABxBlIsKBBAAgTAojDsGEcOBAjwgFAsaJFi28yaswIp6PHjx8JiBxJwIDJkwbYqFzJBoDLlwB2yJwpE4DNmwDg6NwJB4DPn0CBwhlKFE6co0jjAFjKtKnTpwDeSJ36Bo7Vq1izah3AtStXOGDDihUbp6zZOGvSql3DoK1bBnDiyoUjoK7dugDy6gUQp6/fOAACCx5MuHCcw4gTKwbAuDGAApAjF4hDuXIcOJgzw4HCuTOUOKBDxwFBujRpBqhTMwDAujWALbBjbwFAuzaAOLhzxwHAu7fv38CDC4dDvDgcFsiTswDAvLnz59CjS99CvfqWKtizV3nDvfsbAODDi/8fD6e8eThx0quPA6C9+/fv48ifHweO/fv488fZzz8OAIAABA4kWNCgwQUJFSYE0NAhAAgRJUIAUNEigDgZNW7k2DHFR5AfrYwkaQXASZQA4qxkGQfAS5gAZMykKSPNTZxptOzkuTPOT6BxAAwlWtTo0ThJlcaB09QpHDZRpUZ9U9XqmxpZtdaA09Xr168AxI4FoMPsWR1w1K5l29YtnDhx5cbhUdcujx159e7g0tcvlzWBBQeGU9gwnDiJFceB09gxHACRJU+eDMfyZThqNG/WDMDzZwBxRI+OA8f0aTgAVK9mzTrOa9hxAMymPRvObdxwcuzmnWPKb+BTAAwnDiD/znHkceAsZw4HwHPoz9VMp64mznXsceBs5w4HwHfw4cWPJw/gwHn0B+KsZx/nynv4V+LMpx8Hzn38cBLs558AAEAAAgcSJGjkIEIjABYybNgQDsSIcABQrAhADMaMGOFw7OjRI4CQIgHYKGnShoSUKiXAaenyJUwIMmdCiGPzZhw4OnfCOeDz54ERQoeOAGD0KAA4SpcqBeD0KQAEUqciAGD1KgA4Wrdy5XriK9gTAMaSHQvnLFo4cdayjQPgLVwAB+bSPQDgLt68eeHw7cs3DuDAcYgQLkwEAOLEACIwbhxBCOTIQuJQrhwHAObMmjev6ex5TZzQouPAKW0aTpzU/6rjAGjtGkCc2LJjA6htGwCc3LrhAOjtG0Cc4MLjuClu3A2A5MqXM28OAA706NKnUwdg/ToAONq3w4nj/Tv48E7Gk3cS5zz6OHDWs4fT5D38JgDm0wcA5z7++wD28wegBqAagQMBFDR48GAchQvjwHH4EGJEiXAAVLQIgEpGjVQIdPRIAEBIkQA8lDTpAU5KlStZtoQDAGZMmTNpxrF5E2dOODt5wgHwEyiAAUOJDoBzFCmcOEuZxlnwFOqCOFOpToVzFSucOFu5xgHwFSwAAWPJCohzFm3atFLYtmULB25cuXIB1LULAEdevTjg9PULB0BgwQDiFDZc2ExixWYANP92DABOZMmTJwOwfBmAGc2bzQDw/Bl0aNGjSYcxfToMHNWr4QBw/Rp2bNkA4tS2HcdIbt1GsvT2nQVAcOHDiccxfjyOAeXLDQBw/hw69AvTqV8gcB07ATjbuW+P8x18nC7jyXcBcB59+vRw2LeHAwB+fPnzs9S3nwVAfv3798PxDxCOwIEE4QA4iBBAnIUMF754CPFFgYkUCwS4iDEAnI0c4QD4CBKAkZEkjWg4ifLkm5Us38R5CTNOkpk0k8C5iRNOnJ084wD4CTSo0A1Ei26AgzSpUqUHmjo9ACCqVABvqlp9Ayer1qwAunr9CjYsnLFky5Z9gDbtgzhs27KFAzf/LhwAdOsCiIM3bxw4fPv6/QsYgODBhAvDOYwYTovFjFsAeAw5suTJcCpbrgwgs+bNm4F4/gzkjejRb+CYPg1ngOrVAwC4fu0ajuzZcADYvg2Ai+7dXCz4/m0BgPDhAOAYPw6njPLlygE4fw4depzp1Ktbvw4nu3Y4ALp7/w6ehvjxNACYPw8Ahfr1KAC4fw8gjvz5cQDYv48/v/79AAz4B2hAoAE4BQ3CAZBQ4UKGAhw+FBBH4sQ4ACxeBABH40Y4ADx+BABH5Eg4AEyeNOlA5UoHAFy+hAkzykyaUQDcxAngyE6eR+L8BPoTzlCicAAcRZpU6VIzTZ2aARBV6lSq/wOsXh2QRuvWNHG8fo0DQOxYAA3Mnm0AQO1aAHDcvoUbF8BcugDg3MULh8BevgTi/AUcB8BgwgAmHEZ8OMZixjHgPIYMJ85kypUrw8GcGQ4Azp09f14QWvQCAKVNn0admsxq1mTivIYdB85s2rPj3MYdB85u3nDU/AauBsBw4gDgHEcOB8By5s2dk4AenQQA6tUBBMCePUAa7t3TAAAfHgAc8uXhAECfXv36OO3dv4cfX8d8+joA3MefX/9+AAv8A1wgcIGAggYFAEioEACMhg5hwIkoEU6cihYrwsmoEU6cjh7jrAkpcg2AkiYBxEmpMg6Ali4BwIkpM2acmjbjwP/JqRNOnJ4+fwINCmcoUThujiI9CmApUwBwnkKFA2Aq1apV4WDNCgcA165ev4IFEGcs2ThwzqKFE2ct2zgA3sIFYGAuXQNx7uK9C2cvXzgA/gIOHBgO4cJwACBODAAO48aOH7uJLNlNnMqWL18GoHkzZ85wPoMOLToO6dJxAKBOrVr1ktaul1CILZsCgNq2AVTIrTt3mt6+0wAILhxAhOLGI8BJrhwOgObOAcCJLh0OgOrWqw/Irn1AnO7ev3+HI348nDbmz7cBoH49ADju37vfIH/+hgD27wcAoH8/AAj+AUIQCCFOQYNx4CRUCOdHQ4cN2USUyAZARYsXL37QuPH/gwuPH10AEDkSAByTJ02CULkSRBCXL4MAkDkTwBmbN8/E0bkzThufP9vEETqUaFE4R5HCibOUaZw3T6G+WTGV6goGV7EyALCV69Y4X8HGMTCWrAETZ9Ga0LKWrZY4b+HGjQuHbl26cfDmjQOHb1+/fkMEFhwCTmHDhw8DULyYcWPHAOJElhwHQGXLly8H0Lw5ABzPnz2nET06DQDTpwHAUb0aTgLXrxPEkT07Dhzbt+EA0L1btwLfvxUAED6ceHHjcJAnhwOAeXMAcaBHlz6dehwA17Fn1779TXfvbwCEFx+eTHnzZNSkV68mTnv3cQDElw9gTH37Y+Lk1x8HTn///wDhwClBsGAJAAgTAtjCsOEWABAjAohDsWIcBBgzIoDDsaPHjwhCikQAoKRJAGZSqjQDoKVLAHBiypxJ043Nm24K6NxZAIDPnwDgCB0Kh4PRoxzgKF3KtGmAp1ADwJlKtWrVOFizxinAtWuBOGDDxoFDtizZGWjTzkDDti0aAHDjAvhCt+4XAHjzAojDt28cBIADAwZAuDAAOIgTK1Y8prHjMXAiS4ZDoLJlAgAya97M2YTnzyYAiB5NmjSc06jhDFnNegic17Bfz5hNe0ac27hz5wbAu7fv38DhCB8uHIPx4xgAKF8OoIjz50XgSJ8OB4D16wC2aN++BY73797jiP8fHweA+fPo06t/wr79EwDw4wOIQ7++/fsA8usHEKe/f4Bx4AwkCAfAQYQJE75h2JAhHIgRJUokUNEiAQMZNRpg09EjGwAhRQLYUdJkSQApVQKA09IlHAAxZc6cCcfmTThxdO6MA8DnT6BBhQJ4U9ToGzhJlS5l2nTAU6hP4UylWrVqHKxZ46zh2nUNA7BhGcAhWxaOALRp0QJg2xZAHLhx4wCgW9fuXbxx9O7l2xfAX8AACgwmXCDOYcRx4CxmDAfKY8hQ4kymHAfEZcyXGWzmzADAZ9AAtowmvQXAadQA4qxmHQfAa9ixZc+mXRvObdxwWOzmzQLAb+DBhQ8nXnz/y3HkW6osZ17lzXPobwBMp17dOhzs2eHE4d49DgDw4cWLj1PefBw46dWvZx/H/fs4AOTPp1/f/v0F+fXnB9DfP0AAEAYShADgIEIAcRYybOjwYYqIEiNaqWjRCoCMGgHE6egxDoCQIgHIKGlSRpqUKtNoaemyZZyYMuMAqGnzJs6ccXbyjAPnJ1A4bIYSHfrmKNI3NZYyrQHnKVQ4DqZSdRDnKtY4ALZy7erVCdiwTgCQLQsgANq0AQCwbQsADty4cufSrQsHAN68AOLw7RvnDeDAbwAQLgwgDuLEcQAwbswYDuTIcJhQrswkDubMceBw7gwnDujQcQCQLm369JvU/6rfAGjt+vVrOLJnwwFg+zYAHbp364Dj+zfw4MLhxCluPA6P5Mp57GjufAeX6NK5rKluvTqc7NrhxOnuPQ6c8OLhAChv/vx5OOrXw1Hj/r17APLnA4hj/34cOPr3wwHgHyAAgQMJAohzEGEcAAsZLoTzECKcHBMp5phyEeMUOBs5wgHwESQAHSNJ6oBzEmVKlSvhxHH5Mg4PmTN57LB5cwcXnTu5rPH50yccoUPhxDF6NA4cpUvhAHD6FCpUOFOpwlFzFetVAFu5AojzFWwcOGPJwgFwFm3atHHYto0DAG5cuHDo1oWTA2/eHFP49p0CAHBgAHEIF44DB3FiOAAYN/9mrAZyZDVxKFeOAwdzZjgAOHf2/Bl0aAAHSJc+EAd16jhXWLe+Egd27DhwaNeGkwB37gQAePf2/dtIcOFGABQ3fvw4HOXL4QBw/hyAGOnTpcOxfh07dgDbuQOw8R28DQnjyUuAcx59evUQ2LeHEAd+/Dhw6NeHcwB//gMj+PcfARCAwIEA4Bg8aBCAwoUAEDh8iACAxIkA4Fi8iBHjiY0cTwD4CPIjnJEk4cQ5iTIOgJUsARx4CfMAgJk0a9aEgzMnzjg8e8YhAjQoEQBEiwKwgTSpDQlMm0qAAzWq1KkQqlqFECer1jhwunqFcyCs2AMjypodASCtWgBw2rptCyD/rlwACOraRQAgr14AcPr6/fv3hODBJwAYPmwYjuLFcOI4fhwHgOTJAA5YvnwAgObNnDnD+Qz6c5zRpOMQOY2aCIDVrAFEeA07gpDZtIXEuY07DoDdvHv7XgM8+Jo4xIvHgYM8OZw4zJvHAQA9OoA41KtTB4A9OwA43LvDAQA+PIA45MvHcYM+vRsA7Nu7fw8fAJz59Ovbvw8gv34AcPr7BwgnzkCCBQ06QZjQSRyGDeNEgBgxghCKFYXEwZgxDgCOHT1+XBNS5Jo4JU3GgZNSJZw4LV3GARBTJoA4NW3WBJBTJwA4PX3CARBUKIA4RY3GcZNUqRsATZ0+hRoVAByq/1WtXsUKQOtWAHC8foUTR+xYsmWdnEXrJM5atm3bAoAbF0AcunXjFMCbFy8Avn0BwAEcGA4XwoW5wEGcGA4Wxo2xxIEcOQ4AypUpF8CcuQAczp3hdAAdugMc0qXhAECdGsAN1q1vgIAdGzYA2rUBwMGdG44b3r3dAAAeXPhw4sWNI0GeHIkb5s3dxIEePQ4A6tUBxMGePU4B7t25AwAfHgAc8uXhcEGfngsc9u3hYIEfH0sc+vXjAMCfH38B/v0LAIQjcCCcDgYPdoCjcCEcAA4fArghceINEBYvWgSgcSMAOB4/wnEjcqQbACZPokypciVLJC5fInEjc6YbODZvwv9ponNnEwA+fwKAI3SoUABGjwJQo3SpGgBOn0KFGmcq1ThwrmLNqnUrHABevwKgInYsFQJmzxIAoHYtAA9u33qAI3cu3bp24QDIq3cv375x/gIOLBgO4cJwACBODGAA48YD4ECODKcJ5cpNAGDODAAO586cAYAODUAN6dJqAKBOrVp1nNau48CJLXs27dpwAODODYAK795UCAAPTgAA8eIAPCBP7gEO8+bOn0OHA2A69erWr8fJrn07dzjev8MBIH48gAHmzw+Ao349nDju38dZIH/+gjj279uHo38/nDj+AcYRGAdAQYMABCRUKCBOQ4cPH0qROFEiHIsXMWIEsJH/IwAcH0HigDOSJBwAJ1ECiLOS5UozL2GaATCTJgA4N3HmzAmAZ08AZoAGNQOAaFGjR5EmVRqGadMwcKBGhQOAalWrV7ECiLOVaxwjX8EayTKWbBYAZ9GmVRuHbds4BuDGNQCAbl27di/k1XuBQF+/BOAEFhw4TmHDcbokVtwFQGPHjx/DkTwZDgDLlzFnzrKZcxYAn0GHFj06TGnTYeCkVg0HQGvXr2HHBhCHdu04RnDnNpKFd+8sAIAHFz48TnHjcQwkV24AQHPnz59fkD79AgHr1wnA0b5dexzv3+N0ET++CwDz59Gjh7OePRwA7+HHl5+Ffv0sAPDn168fTn///wDhCBwoEIDBgwDiKFyo8IXDhy8KSJxYIIDFiwHgaNwIB4DHjwCMiBxpRIPJkybfqFz5Jo7Ll3GSyJyZBI7Nm3Di6NwZB4DPn0CDbhhKdAOco0iTJj3AtOkBAFCjAnhDteobOFizYgXAtavXr2DhiB1LliyAs2gBxFnLdu2Lt3BfFJhLt0CAu3gDwNnLFw6Av4ABGBlM2IiGw4gPv1nM+E2cx5DjJJlMOQmcy5jhxNnMOQ6Az6BDi95AuvQGOKhTq1Z9oLXrAwBiywbwprbtN3By684NoLfv38CDwxlOvHjxB8iTP4jDvDlzONCjwwFAvTqAONizx4HDvbv37+ABiP8fT748nPPo4bRYz74FgPfw48ufD6e+/foA8uvfvx+If4BABAJ5U9DgGzgJFcIZ0NDhAAARJUaEU9EiHAAZNQLg0tEjFzghRY4c+cDkyQdxVK5UCcflSzgAZM4EEMfmzThwdO7k2dMnAKBBhQ6FU9QonBZJlbYA0NTpU6hR4UylOhXAVaxZswLh2hXIG7Bh38AhWxbOALRpBwBg25YtHLhx4QCgWxcAF7x5uVjg29cCAMCBAcAhXBhOGcSJEQNg3Nix4ziRJU+mXBnOZcxwAGzm3NkzDdChaQAgXRoACtSpUQBg3RpAHNix4wCgXdv2bdy5ARjg3dsAHODB4QAgXtz/+HEByZULiNPceRwA0aUDsFDdugUA2bUDgNPdO5wy4cWHB1De/PnzcdSvZ9/ePRz48eEAoF/f/n0a+fXTANDfP0AAKAYSRAHgIEIAcRYyjAPgIcSIEidSBGDgIkYDcDZyhAPgI8iQIgWQLCkgDsqUcQCwbAkADsyYcADQrAkADs6ccADw7MnTAdCgDgAQLWrUaJSkSqMAaOoUwJGoUo/EqWq1KpysWuEA6Or1K9iwZsaSNQPgLNq0agewbTsgDdy4aeLQrRsHAN68ABrw7dsAAODAAOAQLmz4MIDEigHAaewYDoHIkgnEqWw5DoDMmgFM6Oy5c4zQomPAKW0aTpzU/6pXr4bj+jUcALJn06694DbuBQB28+7t+zeZ4MLJxCluPA6c5MqTx2nuPA6c6NLhqKluXQ2A7NoBwOnuHQ6A8OLHkydh/jwJAOrXAwjg/n0AAvLnE4hj/34cAPr3A5jgH+AEgQJjFDQYA05ChXDiNHT48CEciRPhALB4EWPGBRs5LgDwEWRIkSPJlDRJJk5KlXHgtHTZMk5MmXHg1LQJR01OnWoA9PQJAE5QoXAAFDV6FCkJpUtJAHD6FEAAqVMDELB6lUAGrVszAPD6FcAXsWPFajB7VgMctWvZtnULAG5cAFvo1t0CB29evXv5wonzF3DgwF4IF/YCAHFixYsZA/+I8xhynAGTKQ9wcxmzmxCbOYdQ8hm0kjijSY+Gcxo1HACrWQOA8xo2HAKzaRPIcBt3BgC7eQP48hv4bw3DiWuAcxx5cuXLATR3DmBLdOlb4FS3fh17djhxuHf37t1LePFeAJQ3fx59egBx2LePMwB+/AFu6Nd3EwJ//hBK+PdXAjCOwIEC4Rg8CAeAwoUA4Dh8CCeNxIlpAFi8CACOxo1wAHj8CDJknJEkS5o8qSOlSh0AWrp8CTMmgAU0ay4QgDOnAAA8ewKAATQoDDhEi8KJgzQpUjhMm8KJAzVqnDVUq64BgDUrgDhcu8YBADYsADhky5KNgzZtHDhs28KJAzf/bpw0dOumAYA3LwA4fPvCAQA4sODBcQobPow4sY7FjHUAeAw5suTJABZYvrxAgObNAgB4/gwAhujRMOCYPg0njurVquG4fg0njuzZcdbYvr0GgO7dAOL4/h0HgPDhAOAYP248jvLlceA4fw4njvTp1Ktbh4M9Oxw33LtzBwA+PAA45MvDAYA+vXr1cNq7hwMgvvz59OsDiIM/fxw4/PvDARhH4MA4AAweBGBA4UIDcRw+dAhH4kQ4ACxexIgRzkaOcAB8BAkAzkiSJU26QZnSTRyWLV26BBBT5syZcGzexJkzzk6ecQD8BBo06BKiRZdQQJqUAgCmTQFUgBoVahqq/1XTAMCaFUAErl0jwAEbFg4AsmUBwEGbFg4Atm3ZDoAbd0AcunXt2oWTVy+cNn39tgEQWDAAOIUNF96QWPGGAI0dBwAQWfJkypXhXMacWXMczp3jAAAdWrToJaVNL6GQWjUFAK1dA6gQW3bsNLVtpwGQWzeACL19R4ATXDgcAMWNA4CTXDkcAM2dNx8QXfqAONWtX78OR/t2OG28f28DQPx4AHDMnze/Qf36DQHcvw8AQP58ABDs34cQR//+OHD8A4QjEM6PggYLskmokA2Ahg4fPvwgceIHFxYvugCgcSMAOB4/egQhciSIICZPBgGgciWAMy5fnokjc2acNjZvtv+Jo3Mnz55wfgKFE2co0ThvjiJ9s2Ip0xUMnkJlAGAq1alxrmKNY2ArVwMmvoI1AWEsWQhxzqKNA2ctWzg/3sJ9y2YuXTYA7uLNm/cD374fXAAO7AIA4cIA4CBOjBgE48YggkCOHAQA5coAzmDOfCYO585x2oAO3SYO6dKmT8NJrRpOnNau47yJLfvNitq2VzDIrZsBgN6+e8cJLjyOgeLGDZhIrtyElubOtcSJLn36dDjWr1uPo317HDjev4MHH2I8+RBwzqNPnx4A+/bu38MHEGc+/TgA7uPPnz8A//4BAMIROFBgGoMH0wBQuBAAHIcP4SSQODFBHIsX48DRuBH/DgCPHz0qEDlSAQCTJ1Gi1LKSpZY4L2HGjAmHZk2acXDmjAOHZ0+fPkMEFRoCTlGjR48CULqUaVOnAOJElRoHQFWrV68G0Lo1AByvX72mETs2DQCzZwHAUbsWTgK3bxPEkTs3Dhy7d+EA0LtXrwK/fxUAEDyYcGHDcBAnhgOAcWMAcSBHljyZchwAlzFn1rz5TWfPbwCEFh2aTGnTZNSkVq0mTmvXcQDElg1gTG3bY+Lk1h0HTm/fvUsEF14CQHHjALYkV74FQHPnAOJElx4HQXXrCOBk176dOwLv3xEAED+ePHk459HDAbCePYA47+HHlz8/DgD79/Hn1/+Gf/83/wABCBwokIzBg2TUKFyoJo7Dh3EASJwIYIzFi2PiaNwYB47Hjx5LiBxZAoDJkwC2qFy5BYDLlwDiyJwZB4HNmwjg6NzJsyeCn0ARABhKFICZo0jNAFjKFACcp1CjSnVDtaqbAlizFgDAtSsAOGDDwuFAtiwHOGjTql0boK3bAHDiyp07N47du3EK6N1bII7fv3HgCB4seIbhwzPQKF6MBoDjxwC+SJ78BYDlywDiaN4cB4Hnz54BiB4NAI7p06hRj1nNegyc17DhEJhNmwCA27hz6zbBu7cJAMCDCxcOp7hxOEOSKx8Cp7nz5jOiS58Rp7r169cBaN/Ovbt3OODDg//HQL48BgDo0wMowr59ETjw48MBQL8+gC3482+Bw78/f4BxBA6MA8DgQYQIxyxkOAbOQ4hwCEykSADARYwZNZrg2NEEAJAhRYqEU9IknCEpVQ6B09JlyxkxZc6IU9PmzZsAdO7k2dMnHKBBgWIgWhQDAKRJARRh2rQIHKhR4QCgWhXAFqxZt8Dh2pVrHLBh4wAgW9asWThp1cKJ09bt27c95M6VG8Du3QBw9O6FE8fv3zhqBA9WA8bwYTAAFC8GAMfxY8dxJE+OU8Ly5RIANG8GAMfzZzgARI8GoML0aRU+VK9WDcD1awABZM8OEMf27ThwdO+GA8D3b+DARQwnPhz/znHkcAAsZ968ORzo0eHEoV7duvUe2bVnD9DdewA44cXDiVPefBw16dWrAdPePRgA8eUDgFPffv04+fXHKdHfP8ASAAYSBADnIEI4ABYyBKDiIUQVPiZSnAjgIkYAATZyDBDnI8g4cEaShAPgJMqUKUWwbMkSDsyYcADQrGnzJs4nOnc+AeDzJ4A4QocSLQrgKFIAcZYyjQPnKVQ4AKZSrVr1DdasWOFw7erVK4GwYgkYKGvWAJu0atkAaOsWwI64cuMCqGsXAJy8euEA6Ov37184ggfDiWP4cBwAihczbuwYwJvIkt8AqGwZwJPMmp8A6OwZQJzQokeTBmD6NIA4/6pXx4Hj+jUcALJn06b95jbu23B28+7dmwDw4AQMEC9ugA3y5GwAMG8OYAf06NABUK8OAA727HAAcO/u3Tuc8OLhxClvPg6A9OrXs28P4A38+G/g0K9v/z7+Afr364fjHyAcgQMJwolzEGGcNQsZrmHwECIDOBMpwhFwEeNFABs5AojzEWQcACNJljR5Mk5KlStZAnD5EkABmTMLxLF5Mw4cnTvhQPH5E0ocoUPjgDB61CgDpUsZAHD6FMAWqVO3wLF6FWtWrQO4duUKB2xYsWLjlDUbZ01atWsYtHXLAE5cuXAE1LVbF0BevQDi9PUbB0BgwYMJF45zGHFixQAYN/8GUABy5AJxKFeOAwdzZjhQOHeGEgd06DggSJcmzQB1agYAWLcGsAV27C0AaNcGEAd37jgAePf2/Rt4cOFwiBeHwwJ5chYAmDd3/hx6dOlbqFffUgV79ipvuHd/AwB8ePHj4ZQ3DydOevVxALR3//59HPnz48Cxfx9//jj7+ccBABCAwIEECxo0uCChwoQAGjoEACGiRAgAKloEECejxo0cO6b4CPKjlZEkrQA4iRJAnJUs4wB4CROAjJk0ZaS5iTONlp08d8b5CTQOgKFEixo9Giep0jhwmjqFwyaq1Khvqlp9UyOr1hpwunqFAyCs2LFkyy44i/YsgLVsAUB4Cxf/AoC5dAHEuYs3r969Kfr67WslsGArAAobBhAnseI4ABo7BiAjsmQZaSpbTqMls+bMcTp7jgMgtOjRpEvHOY06DpzVrOGweQ379ZvZtN/UuI27BpzdvOE4+A3cQZzhxOMAOI48uXInzJs7AQA9OoAA1KsHAIA9OwA43Lt7/w4+PBwA5MsDiIM+fZw37Nu/AQA/PoA49OvHAYA/P344/PvDAchE4EAmcQwejANH4UI4cRw+jANA4kSKFd9cxPgGwEaOHTs6ABnSQRySJeMAQJlS5UonLV06ARBTJoAANW0GAJBTJwA4PX3+BBpUKBwARY0CiJNUaZw3TZ2+ARBVKoA4/1WtxgGQVWtWOF29wmESViyTOGXNxoGTVi2cOG3dxgEQV+5cum/s3n0DQO9evnzh/AUMB8BgwgB0HEasA85ixo0dP4YTR/LkODwsX+axQ/PmHVw8f+ayRvRo0XBMn4YTR/XqOHBcv4YDQPZs2rTh3MYNR81u3rsB/AYOIM5w4nHgHEcOB8By5s2bx4EePQ4A6tWpw8GeHU4O7t1zTAEffgoc8uXhAECfHoAO9u11wIEfX/58+nDi3Mcfh8d+/jx2ANwhcCCXgga5rEmoMCGchg7hxIkoMQ6cihbhAMioceNGOB4/wlEjcqRIACZPAoijcmUcOC5fwgEgcyZNmnFu4v+MA2Anz51wfgKFk2Mo0RxTjiKdAmcpUzgAnkIFoGMqVR1wrmLNqnUrnDhev8bhIXYsjx1mz+7gonYtlzVu37qFI3cunDh278aBo3cvHAB+/wIGDGcwYThqDiM+DGAxYwBxHkOOA2cyZTgALmPOnDkO585xAIAODRoO6dJwcqBOnWMK69ZTAMCODSAO7dpx4ODODQcA79681QAPriYO8eJx4CBPDgcA8+bOn0OPDuAA9eoH4mDPHucK9+5X4oAPHwcO+fJwEqBPnwAA+/bu3xuJL98IgPr279+Ho38/HAD+AQIQCEBMQYMF4SRUuHAhAIcPIUKMM5FiHDgXMcIBsJH/40Y1H0GqiTOSZBw4J1HCAbCSZUuXL2ECODCT5oE4N3HGubKT55U4P4HGgTOUKJwER5EmALCUaVOnRqBGNQKAalWrVuFk1QoHQFevAMSEFRsWTlmzZ88CULuWLds4b+HGgTOXLhwAd/HeVbOXr5o4fwHHgTOYMBwAhxEnVryYMYADjyEfiDOZcpwrlzFfibOZcxw4n0HDSTCadAIAp1GnVm2EdWsjAGDHli0bTm3bcADk1g1ATG/fveEEFz58OADjx5Ejj7OceRw4z6HDATCd+nQ117GribOdexw438HDATCefHnz59EDOLCe/YE47+HHuTKf/pU49/HHgbOfP5wE/wATCBwIoKDBgwiNKFxoBIDDhxAhwplIEQ6AixgBiNnIcSOcjyBDhgRAsiQAGyhT2pDAsqUEODBjypwJoaZNCHFy6owDp6dPOAeCCj0woqjREQCSKgUAp6nTpgCiSgWAoKpVBACyagUAp6vXr19PiB17AoDZs2bhqF0LJ47bt3EAyJ0L4IDduwcA6N3Lly+cv4D/xhlMOA6Rw4iJAFjMGICNx5BtSJhMWQKcy5gza4bAuTOEOKBDx4FDujScA6hTHxjBuvUIALBjA4BDuzZtALhzA0DAuzcCAMCDA4BDvLhx4yeSKz8BoLnz5nCiS4cTp7r1OACyawdwoLv3AwDCi/8fPx6O+fPm46hfH4eI+/dEAMifD8CG/fs2JOjfLwGOf4BwBA4kKBDCQYQQ4ixkGAfOQ4hwDkykeGDERYwjAGzkCADOR5AfAYwkCQDBSZQIAKxkCQDOS5gxY56gWfMEAJw5ccLh2RNOHKBB4wAgWhTAAaRJDwBg2tSpUzhRpUaNU9VqHCJZtRIB0NUrgAhhxUYQUtaskDhp1cYB0NbtW7hr5M5dE8fu3Thw9O6FE8fv3zgABA8GEMfwYcMAFC8GAMfxYzgAJE8GEMfy5ThuNG92A8DzZ9ChRQOAU9r0adSpAaxmDQDOa9hw4symXdu2E9y5ncTh3TtOBODBIwghXlz/SBzkyeMAYN7c+fM10aWviVPdehw42bXDidPdexwA4cUDiFPefHkA6dUDgNPePRwA8eUDiFPffhw3+fW7AdDfP0AAAgcSLAgADsKEChcyBODwIQA4EifCiWPxIsaMTjZydBLnI8g4EUaSjCDkJEohcVayjAPgJcyYMtfQrLkmDs6cceDw7AknDtCgcQAQLQogDtKkSAEwbQoADtSocABQrQogDtascdxw7eoGANiwYseSBQDnLNq0atcCaOsWAJy4cuHEqWv3Ll4nevc6ieP3b5wIggdHEGL4sJA4ihfHAeD4MeTIayZTXhPnMuY4cDZzhhPnM+g4AEaTBhDnNOrT/wBWswYA5zVsOABm0wYQ5zbuOG5283YD4Dfw4MKHA4Bj/Djy5MoBMG8OAA706HDiUK9u/bqT7NqdxOnu/ft3AOLHA4hj/nycAurXqwfg/j0AOPLnw+Fi/z4XOPr3w8HiHyAWgVjiFDQYB0BChQkLNHRYAE5EiXA6VLTYAU5GjXAAdPQI4EZIkTdAlDRZEkBKlQDgtHQJx01MmW4A1LR5E2dOnTuR9PSJxE1QoW7iFDUaB0BSpQDiNHUap0BUqVEBVLUKAE5WrXC4dPXKBU5YsXCwlDWLJU5atXEAtHXbtkBcuQXg1LULp0NevR3g9PULB0BgwQBuFDZ8A0RixYkBNP92DABOZMlw3FS27AZAZs2bOXf2/BlJaNFI3JQ27SZOatVxALR2DSBObNlxCtS2XRtAbt0A4PT2DYdLcOFc4BQ3DgdLcuVY4jR3HgdAdOnRC1S3XgBOdu1wOnT33gFOePFwAJQ3D+BGevU3QLR33x5AfPkA4NS3D8dNfv1uAPT3DxCAwIEECxo8KBCJwoVI3Dh86CaOxIlxAFi8CCCOxo1xCnj86BGAyJEA4Jg8CYeLypVc4Lh8CQeLzJlY4ti8GQeAzp06C/j8WQCO0KFwOhg92gGO0qVwADh9CuCG1Kk3QFi9ahWA1q0A4Hj9CseN2LFuAJg9izat2rVskbh9i8T/jdy5buDYvQunid69TQD4/QsAjuDBggEYPgxAjeLFagA4fgwZcpzJlOPAuYw5s+bNcAB4/gyAiujRVAiYPk0AgOrVADy4fu0BjuzZtGvbhgMgt+7dvHvH+Q08uHA4xIvDAYA8OYABzJsPgAM9Opwm1Ks3AYA9OwA43LtzBwA+PAA15MurAYA+vXr1cdq7jwMnvvz59OvDAYA/PwAq/PtTAUhA4EACAAweBOBB4UIPcBw+hBhRIhwAFS1exJgxzkaOHT3CARkSDgCSJQEMQJlyAByWLeE0gRmzCQCaNQHAwZkTJwCePQGoARpUDQCiRY0ajZNUaRw4TZ0+hRoVDgCq/1UBUMGalQoBrl0JAAAbFoAHsmU9wEGbVu1atnAAvIUbV+7cOHXt3sULR+9eOAD8/gUwQPDgAXAMH4YTR/HiOAscP14QR/JkyXAsX4YTR/PmOAA8fwYgQPRoAXFMn0aNWspq1qvhvIYdOzYA2rUB4MCdGwcc3r3hAAAeHEAc4sWJm0Ge3AwA5s0BwIEeXbp0ANWtAzCTXbsZAN29fwcfXjwAOOXNw4mTXn2cBe3dL4gTX358OPXtw4mTX38cAP39AwQgYCBBAXEOIkyYUArDhgzhQIwoUSKAihYB4MioEQecjh7hAAgpEkCckiZLmkmp0gyAli4BwIkpc+ZMADZvAv8wo3OnGQA+fwINKnQoADhGj8KJo3RpnAVOny6II3WqVDhWr8KJo3VrHABevwIQIHasgDhmz6JFK2Ut27Vw3sKNGxcA3boAcODNiwMO375wAAAODCAO4cKEzSBObAYA48YA4ECOLFkygMqWAZjJrNkMgM6eP4MOLRoAnNKm4cRJrTrOgtauF8SJLTs2nNq24cTJrTsOgN6+AQgILlxAnOLGjx+Xony5cjjOn0OHDmA6dQA4rmPHAWc7dzgAvoMHEGc8+fFmzqM3A2A9ewBw3sOPHx8A/foAzODPbwYA//7+AQIQOJBgQYMFwyRUGAZOQ4dwAESUOJFiRQBxMGaMY4T/Y0cjWUCGzAKAZEmTJ+OkVBnHQEuXBgDElDlz5gWbNy8Q0LmTAByfP33GETo0ThejR7sAULqUKVM4T6HCATCValWrWbBmzQKAa1evX8GGETs2DByzZ+EAULuWbVu3AOLElRvHSF27RrLk1ZsFQF+/fwHHETw4jgHDhw0AULyYMeMLjyFfIDCZMgE4lzFfjrOZc5wun0F3ATCadOnScFCnhgOAdWvXr7PElp0FQG3bt3HnDrObdxg4v4HDATCceHHjxwHEUb48jhHnz41kkT49CwDr17Fnj7OdexwD38EbADCefPnyF9Cnv0CAfXsCcODHhx+Hfv04XfDn7wKAf3///wABCAQAp6BBOAASKlzIMIvDh1kASJxIkSKcixgzZgTAsSOAOCBDgnxBsuSLAihTFgjAsmUAODBjwgFAsyYAIzhzGtHAsyfPN0CDvolDtGicJEiTJoHDtCmcOFCjxgFAtarVqxuyat0Ap6vXr18PiB17AIDZswDeqF37Bo7bt24ByJ1Lt65dOHjz6tULoK9fAHECCw78orDhFwUSKy4QoLHjAHAiS4YDoLJlAEYyazaiobPnzm9Ci34Tp7TpOElSq04Cp7VrOHFiy44DoLbt27g36N69AY7v38CBHxhO/ACA48gBvFnO/A2c59CfA5hOvbr163Cya9++HYD37wDiiP8fL/6F+fMvCqhfXyCA+/cB4MifDweA/fsAjOjfb0SDf4AaBAp8U9DgmzgJFcZJ0tBhEjgRJcKJU9FiHAAZNW7kuMHjxw1wRI4kSfLASZQHAKxkCeDNS5hv4MykORPATZw5de6E09Pnz58AhA4FEMfoUaMvlC59UcDp0wIBpE4NAMfqVTgAtG4FYMTrVyMaxI4V+8bs2Tdx1K6Nk8Tt2yRw5M6FE8fu3TgA9O7l23fDX8Ab4AwmXLjwAcSJDwBg3BjAG8iR38ChXJkyAMyZNW/mDMfzZ9CgH4wm/SDOadSn4axmDQfAa9gA4symHQfObdy5de8G0Nv3b+BwhA+H08L/+PEWAJQvZ97cORzo0aEDoF7dunUg2bUDedPd+xs44cXDGVDe/AAA6dWnh9PePRwA8eUD4FLfPhc4+fXv3//AP8AHAh/EKWiwIJyECuEAaOgQQJyIEuPAqWjxIsaMADZy7OgRDsiQcFqQLNkCAMqUKleyhOPypUsAMmfSpAnkJk4gb3byfAPnJ1A4A4YSHQDgKNKjcJYyhQPgKVQAXKZS5QLnKtasWR9w7fogDtiwYOGQLQsHANq0AOKwbRsHDty4cufSBWD3Lt68cPbyhdPiL+AWAAYTLmz4MJzEihMDaOz48WMgkicDeWP58hs4mjfDGeD58wAAokeLhmP6NBwA/6pXA+Di+jUXC7JnWwBg+zYAOLp3wynj+7dvAMKHEyce5zjy5MqXw2nuHA6A6NKnU6dh/ToNANq3A0Dh/TsKAOLHA4hj/nwcAOrXs2/v/j0AA/LnG4Bj/z4cAPr38+8vAKAAgQPjFDQYB0BChQAsNHRoAUBEiQDgVLQIp0xGjRkBdPT48WMckSNJljQJB2VKOABYtnT5kkZMmTQA1LQJAEVOnSgA9PQJIE5QoXEAFDV6FGlSpQAMNHVqAE5UqXAAVLV6FasArVsFxPH6NQ4AsWMBWDB71gIAtWsBwHH7Fk4ZuXPlArB7Fy/eOHv59vX7F05gwXAAFDZ8GDENxYtpAP9w/BgACsmTUQCwfBlAHM2b4wDw/Bl0aNGjARgwfdoAHNWr4QBw/Rp2bAGzaQuIcxt3HAC7eQOw8Bu4BQDDiQOAcxw5nDLLmS8H8Bx69OhxqFe3fh07HO3b4QDw/h18eBrjydMAcB49ABTr2aMA8B4+gDjz6ccBcB9/fv37+QMwANCAwIFwChqEAyChwoUMBTh8KCCOxIlxAFi8CACOxo1wAHj8CACOyJFwAJg8adKBypUOALh8CRNmlJk0owC4iRPAkZ08j8T5CfQnnKFE4QA4ijSp0qVmmjo1AyCq1KlUB1i9OiCN1q1p4nj9GgeA2LEAGpg92wCA2rUA4Lh9Czf/LoC5dAHAuYs3b14AfPsCgAM4MBwAhAsTdoA4sQMAjBs7dhwlsuQoACpbBnAks+YjcTp77gwntGg4AEqbPo06tZnVrM0AeA07tuwBtGsPSIM7d5o4vHvHAQA8OIAGxIs3AIA8OQA4zJs7fw4gunQAcKpbv34dgPbtAOB4/w4HgPjx4h2YP+8AgPr17NlHeQ8/CoD59AEcuY//SJz9/PfDAQhH4EAABQ0eRJjQzEKGZgA8hBhR4gCKFQekwZgxTRyOHeMAABkSQAOSJRsAQJkSAByWLV2+BBBTJgA4NW3evAlA504AcHz+hANA6FChDowedQBA6VKmTKM8hRoFwFSq/wCOXMV6JM5WrlvhfAULB8BYsmXNnjWTVq0ZAG3dvoU7QO7cAWns3k0TR+/eOAD8/gXQQPDgBgAMHwYAR/Fixo0BPIYMAM5kynAIXMZMIM5mznEAfAYNYMJo0qNjnEYdA85q1nDivIYdOzYc2rXhAMCdW/fuBb19LwAQXPhw4sXJHEdOJs5y5nHgPIf+PM506nHgXMcOR8127moAfAcPAM548nAAnEefXj0J9u1JAIAfH0AA+vUDEMCfn0Ac/v3jAAQgcCCACQYPGoyhcGEMOA4fwokjcSJFinAuYoQDYCPHjh4XgAy5AADJkiZPoiSjciWZOC5fxoEjc6bMODZvxv+Bo3MnHDU+f6oBIHQoADhGj8IBoHQp06YknkIlAWAqVQABrmINQGArVwJxvoKNA2AsWQATzqI9G2Mt2xhw3sKFE2cu3bp14eDNCwcA375+/y4ILHgBgMKGDyNOTGYxYzJxHkOOA2cy5clxLmOOA2czZzhqPoNWA2A0aQBwTqOGA2A169auScCOTQIA7doAAuDOHYAA794EMgAPngEA8eIAviBPjlwD8+Ya4ECPLn06dQDWrwPYon37Fjjev4MPLx5OnPLmz5/3on69FwDu38OPLx9AnPr24wzIr3+Am/7+AboJMZBgCCUHESqJs5DhQjgPIcIBMJEiADgXMcIhsJH/I4EMH0FmADCSJIAvJ1Ge1LCSpQY4L2HGlDkTQE2bALbk1LkFTk+fP4EGhROHaFGjRr0kVeoFQFOnT6FGBRCHatU4A7BmHeCGa1c3IcCGDaGEbFklcdCmRQuHbVs4AODGBQCHbl04BPDmJZCBb98MAAAHBvCFcGHCGhAn1gCHcWPHjyEDkDwZwBbLl7fA0byZc2fPcOKEFj16tBfTp70AUL2adWvXAOLElh1nQG3bA9zk1u0mRG/fIZQEF64kTnHjxeEkVw4HQHPnAOBElw6HQHXrBDJk154BQHfvAL6EFx9eQ3nzGuCkV7+efXsA7+ED2DKf/hY49/Hn178fThz//wDjCBxIMI6Xgwi9AFjIsKHDhwDiSJwYZ4DFiwPcaNzoJoTHjyGUiBypJI7JkybhqFwJB4DLlwDgyJwJJ43Nm2kA6NwJAI7Pn3AACB1KtGico0iTKl2qo6lTHQCiSp1KtSqABVizLhDAtasAAGDDAoBBtiwMOGjTwonDti1bOHDjwolDt26cNXjzrgHAty+AOIADxwFAuDAAOIgTI47DuHEcOJAjw4lDuXKcNJgzpwHAuTMAOKBDwwFAurTp03FSq17NurWO17B1AJhNu7bt2wAW6N69QIDv3wIACB8OAIbx4zDgKF8OJ47z587hSJ8OJ47163HWaN++BoD37wDiiP8fHweA+fMA4Khfrz6O+/dx4MifDyeO/ftx0ujfnwaAf4AABAKAU9AgHAAJFS5kGMfhQ4gRJeqgWFEHAIwZNW7kCGDBR5ALBIwkKQDASZQAYKxkCQPOS5hw4sykORPOTZxw4uzkGWfNT6BrAAwlCiDOUaRxACxlCgDOU6hP40ylGgfOVaxw4mzl2tXrVzhhxcJxU9ZsWQBp1QKA09YtHABx5c6dC8fuXTgA9O7l29cvgDiBBceBU9gwnDiJFccB0NgxAAORJRuIU9lyZTiZNcMB0Nnz589wRI+GA8D0aQBwVK9m3drNa9hu4symXdv2bdxwdO+G48b3b98AhA8HAMf/+HE4AJQvZ84cznPocABMp17d+nUAcbRvjwPH+3c4ccSPjwPA/HkABtSvNxDH/Xv3cOTPhwPA/n38+OHs5w8HAEAAAgfCKWjwIEI3Che6iePwIcSIEifCqWgRjpuMGjMC6OgRAJyQIuEAKGny5Ek4KlfCAeDyJcyYMgHEqWkzDpycOuHE6ekzDoCgQgEYKGrUQJykSpPCaeoUDoCoUqdOhWP1KhwAWrcCgOP1K9iwbsaSdRPnLNq0ateyheP2LRw3cufKBWD3LgA4evfCAeD3L2DAcAYThgPgMOLEihcDiOP4cRw4kifDiWP5chwAmjcDMOD5s4E4okeLhmP6NBwA/6pXs2YN5zVsOABm0wYA5zbu3Lrd8O7tJg7w4MKFAyhu/PhxOMqXM28e5zn0OACmU69efQn27EsocO9OAQD48AAqkC9PPg369GkAsG8PIAL8+BHg0K8PBwD+/ADg8O8PByAAgQMFDjB4cEAchQsZMoTzECKcNhMptgFwESMAOBs5btzwEeSGACNJBgBwEmVKlSvhtHT5EmYcmTPjALB5EyfOJTt5LqHwEygFAEOJAqhwFOnRNEuZpgHwFCqACFOpRoBzFSscAFu5AoDzFSwcAGPJjh1wFu2AOGvZtm0LB25cOG3o1m0DAG9eAHD49uW7AXDgDQEIFw4AAHFixYsZw/9x/Bhy5DiTKccBcBlz5sxLOHdeQgF0aAoASJcGUAF1atRpWLdOAwB2bAARaNeOAAd3bjgAePcGAAd4cDgAiBcnPgB58gFxmDd37hxOdOlw2lS33gZAdu0A4HT33n1DePEbApQ3HwBAevUAILR3DyFOfPlx4NS3D+dHfv352fT3D5ANgIEECxb8gDDhBxcMG7oAADEiADgUK1IEgTEjiCAcOwYBADIkgDMkS56JgzJlnDYsW7aJAzOmzJlwatqEEyenzjhvevp8syKo0BUMihplACCp0qRxmjqNYyCqVAMmqlo1ASGrVghxunqNAyesWDg/ypotyyatWjYA2rp9+/b/g9y5H1zYvesCgN69AOD4/esXhODBIIIYPhwEgOLFAM44fnwmjuTJcdpYvtwmjubNnDvD+QwaTpzRpOO8OY36zYrVrFcweA2bAYDZtGfHuY07joHdvA2Y+A3cBIThxCHEOY48DpzlzOH8eA79OZvp1NkAuI49e/YP3Lt/cAE+vAsA5MsDgIM+PXoQ7NuDCAI/fhAA9OsDOIM//5k4/PvHAdhG4MA2cQweRJgQzkKGcOI8hBjnzUSKb1ZcxLiCwUaODAB8BPkxzkiScQycRGnAxEqWJiC8hAkhzkyaceDcxAnnx06eO9n8BMoGwFCiRYt+QJr0gwumTV0AgBoVAByq/1WpgsCaFUQQrl2DAAAbFsAZsmXPxEGbNk4btm3bxIEbV+5cOHXtwomTV2+cN339vlkRWPAKBoUNMwCQWHHiOI0dxzEQWbIBE5Utm9CSWbOWOJ09f/4MR/Ro0XFMn44DR/Vq1qxDvIYdAs5s2rVrA8CdW/du3gDi/AYeB8Bw4sWLB0CePAAc5s2Zp4EePQ0A6tUBwMGeHU4C7t0TxAEfPg4c8uXhAECfHr0C9u0VAIAfX758LfXta4mTX//+/XD8A4QjUGCcggbjwEmocOHCEA4fhoAjcSJFigAuYsyocSOAOB4/xgEgciRJkgFOogwAZyXLlWlewkwDYCZNAHBu4v+Ek2AnzwRxfgKNA2coUTgAjiI9qmApUwUAnkKNGlUL1apa4mDNqlUrnK5eu8YJKzYOnLJmz54NoXZtCDhu38KFC2Au3bp27wKIo3dvHAB+/wIGHGAw4QBwDiM+nGYx4zQAHkMGAGcyZTgJLmNOEGcz5zhwPoOGA2A06dEKTqNWAGA169attcCOrSUO7dq2bcPJrTt3nN6+48AJLnz48BDGj4eAo3w5c+YAnkOPLn06gDjWr8cBoH07d+4BvoMPAGc8+fFpzqNPA2A9ewBw3sOHk2A+/QRx7uOPA2c/fzgAAAIQOBCAAoMHFQBQuJBhQ4dwIEaEA4BiRQBxMGbUuJH/YxwAH0GGFDnyTUmTbwCkVJmSTEuXZNTElKkmTk2bcQDk1AlgTE+fY+IEFRoHTlGjRUskVVoCQFOnALZElboFQFWrAOJk1RoHQVevCOCEFTuWLAKzZxEAULuWLVs4b+HCATCXLoA4d/Hm1bs3DgC/fwEHFvyGcOE3ABAnRkyGcWMyaiBHVhOHcuU4ADBnBjCGc+cxcUCHjgOHdGnSJVCnLgGAdWsAW2DH3gKAdm0AcXDnjoOAd28EcIAHFz4cQXHjCAAkV758ORznz+EAkD4dQBzr17Fn1x4HQHfv38GHfzOe/BsA59GfJ7OePRk17+GriTOffhwA9/EDGLOf/5g4/wDjCBwIp6DBgiUSKiwBoKFDAFsiStwCoKJFAHEyaoyDoKNHBHBCihxJEoHJkwgAqFwJwIzLl2YAyJwJAI7NmzhzutnJ002Bn0ALABhKFACco0jhcFjKlAOcp1CjSg1AtWoAOFizatUap6vXOAXCii0Qp6zZOHDSqk07o63bGWjiykUDoK5dAF/y6v0CoK9fAHECC46DoLDhwgASKwYAp7Hjx4/NSJ5sBoDlywDgaN7MubObz6DdFBhNugCA06gBwFnNGg6H17A5wJlNu7btALhzB4DDu7dv33GCC49ToLjxAnGSK48Dp7nz5jOiS5+Bprp1NACyawfwpbv3LwDCi/8HEKe8+TgI0qtPD6C9ewBw4sufP9+M/ftmAOjfDwCOf4BwBA4kKNDNQYRuCixkWADAQ4gA4EykCIfDRYwc4Gzk2NFjAJAhA8AhWdKkyTgpVcYp0NJlgTgxZcaBU9NmzRk5dc5A09MnGgBBhQL4UtToFwBJlQKI09RpHARRpUYFUNUqADhZtW7dasbrVzMAxI4FAMfsWbRp3axl66bAW7gFAMylCwDOXbxwOOzlywHOX8CBBQcgXDgAHMSJFSuO09hxnAKRJReIU9lyHDiZNWee0dnzDDShRaMBUNo0gC+pVX8B0No1gDixZcdBUNt2bQC5dQOA09v3799jhA8fA8f/+HE4BJQvJwDA+XPo0U1Mp24CwHXs2bPD4d4dzhDw4YfAIV+e/Az06WfEYd/evXsA8eXPp18fzn389zHs548BAEAAAgcWKWiwCJyECuEAaOgQwJaIErfAqWixYpyMGuMA6Ojx48cxIkeOgWPyJBwCKlcSAODyJcyYJmbSNAHgJs6cOeHw7AlnCNCgQ+AQLUp0BtKkM+IwberUKYCoUqdSrQrnKtarGLZyxQDgK1gARcaSLQLnLFo4ANayBbDlLdwtcObSnRvnLt44APby7dt3DODAY+AQLgyHAOLEBAAwbuz4sYnIkk0AqGz58mU4mjfDGeL58xA4okeLnmH69Iw4/6pXs2YN4DXs2LJnw6ltuzaG3LoxAOjtG0CR4MKLwCluHA6A5MoBbGnufAuc6NKjx6luPQ6A7Nq3b4fj/TucOOLHkyff4zz68wHWsw8A5z18OHHm04+j5j5+NWD28wcDACAAgQPhFDRYME5ChXFKNHRYAkBEiQDgVLQIB0BGjQBUdPSowkdIkSEBlDQJIEBKlQHitHQZB05MmXAA1LR586YInTt1wvH5Ew4AoUOJEoVzFCmcOEuZNm3aA2pUqAGoVg0AB2tWOHG4do2jBmxYNWDIlgUDAG1aAHDYtmUbB27cOCXo1i0BAG9eAHD49oUDAHBgACoIF1bhA3FixAAYN/8GEABy5ABxKFeOAwdzZjgAOHf27FlEaNGh4ZQ2DQdAatWrV8Nx/RpOHNmzadPucRv37QC7eQeA8xs4nDjDicdRcxy5GjDLmYMB8Bw6ADjTqU+Pcx17nBLbuZcA8B08ADjjycMBcB49ABXr2avw8R7+ewDz6QMIcB9/gDj7+ceBAxCOwIEACho8eFCEwoUK4Th8CAeAxIkUKcK5iBFOnI0cO3bsATIkyAAkSwaAgzIlnDgsW8ZRAzOmGjA0a4IBgDMnADg8e/KMAzRonBJEi5YAgDQpADhMm8IBADUqABVUq6rwgTUrVgBcuwIIADZsgDhky8aBgzYtHABs27p1KyL/rty4cOrahQMgr969fPs++Qv4CYDBhAHEOYw4sWIAjBsDiAM5chw4lCvDAYA5s2bNbzp77gwntOjRowmYPk3AgOrVBti4fs0GgOzZAHbYvm0bgO7dAOD4/g0HgPDhxInDOY4cTpzlzOMAeA49uvTpAN5Yv/4GgPbtAJ54//4EgPjxAOKYP48+PYD17AHEeQ8/Dpz59OEAuI8/f/43/PvzBwhH4ECCBAkcREjAwEKGBtg8hMgGwESKAHZcxHgRwEaOAOB8BAkHwEiSJUvCQZkSThyWLeMAgBlT5kyaAN7cxPkGwE6eAJ78BPoEwFCiAOIcRZpUKQCmTQHEgRo1Dhyq/1XhAMCaVavWN129doUTVuzYsQTMniVgQO1aA2zcvmUDQO5cADvs3rULQO9eAHD8/oUDQPBgwoThHEYMJ85ixnEAPIYcWfJkAG8sX34DR/Nmzp09DwAdGjQc0qVNm46TWnWcNa1dr2EQWzYDOLVtwxGQW3duAL19A4gTXHgcAMWNH0eePM5y5s2dA4AeHUAB6tULxMGePQ4c7t3hQAEfHkoc8uXjgECfHj0D9u0ZAIAfH8AW+vW3wMGfX/9+/gP8AxwgUCCcggYPHoyjcGGcNQ4frmEgcSIDOBYvwhGgcaNGAB4/AogjcmQcACZPokypMg7Lli5fAogpE0CBmjYLxP/JqTMOnJ4+4UAJKhRKnKJG44BIqjQpg6ZOGQCIKhXAlqpWt8DJqnUr164DvoL9Cmcs2bJl46BNG2cN27ZrGMCNywAO3bpwBODNixcA374A4gAOHAcA4cKGDyOOo3gx48YAHkMGUGAy5QJxLmOOA2czZzhQPoOGEmc06TggTqM+zWA1awYAXsMGsGU27S1wbuPOrXv3gN6+e8MJLnz48DjGj8dZo3z5GgbOnzOAI306HAHWr1sHoH07gDjev8cBIH48+fLm46BPr349gPbuARSIL79AnPr248DJrx8OlP7+AUKJM5BgHBAHER5ksJAhAwAPIQLYMpHiFgAXMQKIs5H/YxwAH0GGFDmSZEk4J1HCYbGSJQsAL2HGlDmTZs0tN3FuqbKTZ5U3P4G+ATCUaFGjcJAmhROHadM4AKBGlSo1TlWrceBk1bqVaxyvX+MAEDuWLNk4Z9HGAbCWbVu3b+HGhTOXLhwWd/GyALCXb1+/fwEH3jKY8JYqhxFXebOY8RsAjyFHlgyHcmU4cTBnjgOAc2fPnuOEFh0HTmnTp1HHUb06DgDXr2HDjjObdhwAt3Hn1r2bd284v4HDYTGcOAsAx5EnV76cefMtz6FvqTKdepU317G/AbCde3fvcMCHhxOHfPk4ANCnV68+Tnv3ceDElz+ffhz79+MA0L+fP/84/wDjCBwIoKDBgwgTKlwIp6FDOCwiSmQBoKLFixgzaty4paPHLVVCiqzypqTJNwBSqlzJEo7Ll3DiyJwZB4DNmzhxxtnJMw6cn0CDCo1DtGgcAEiTKl3KtOmCp1CfAphKFQCEq1ghANjKFUCcr2DDih2boqzZslbSqrUCoK1bAHHiyo0DoK5dADLy6pWRpq/fNFoCCw4cp7DhOAASK17MuHGcx5DjwJlMGQ6by5gvv9nM+U2Nz6BrwBlNGg6A06hTq169oLXr1gBiywYAobZtCABy6wYQp7fv38CDpxhOfLiV48itAFjOHECc59DjAJhOHYCM69hlpNnOPY2W7+C/x/8ZTz4OgPPo06tfH6e9+zhw4suHw6a+/fpv8ut/U6O/f4A14AwkCAfAQYQJFS5c0NBhQwARJQKAUNEiBAAZNQKI09HjR5AhU4wkOdLKSZRWAKxkCSDOS5hxAMykCUDGTZwy0uzkmUbLT6A/4wwlGgfAUaRJlS6N09RpHDhRpcJhU9Vq1TdZtb6p0dVrDThhxcJxUNasgzhp1cYB0NbtW7hO5M51AsDuXQAB9O4NAMDvXwBwBA8mXNjwYTgAFC8GEMfx4zhvJE9+A8DyZQBxNG+OA8DzZ89wRI+Gw8T0aSZxVK+OA8f1azhxZM+OA8D2bdy53+zm/QbAb+DBgzsgXtz/QRzkyeMAYN7c+XMn0aU7AVDdOoAA2bUHANDdOwA44cWPJ1/ePBwA6dUDiNPefZw38eW/AVDfPoA4+fXHAdDfP0AAAOAQLAiHCcKETOIwbBgHDsSIcOJQrBgHAMaMGje+6ejxDYCQIkeOdGDypIM4KlfGAeDyJcyYTmbSdALgJk4AAXbyDADgJ1AAcIYSLWr0KFI4AJYyBRDnKdQ4b6ZSfQPgKlYAcbZyjQPgK9ivcMaShcPkLFomcdayjQPnLVw4cebSjQPgLt68et/w7fsGAODAggU7KGzYQZzEiuMAaOz4MWQnkic7AWD5MoAAmjcHAOD5MwA4okeTLm36NBwAQqpXA4jj+nWcN7JnvwFg+zaAOLp3xwHg+7dvOMKHw2Fi/DiTOMqXx4Hj/DmcONKnxwFg/Tr27G+2c38D4Dv48OEDAgA7\"><title>Layer: output (output)\n",
       " shape = (784,)\n",
       " Keras class = Dense\n",
       " activation = sigmoid</title></image><text x=\"255.0\" y=\"127.0\" font-family=\"Verdana\" font-size=\"12\">output</text><rect x=\"140.0\" y=\"227\" width=\"20.0\" height=\"47\" style=\"fill:white;stroke:none\"><title>Weights from hidden3 to output\n",
       " output/kernel has shape (25, 784)\n",
       " output/bias has shape (784,)</title></rect><line x1=\"150.0\" y1=\"274\" x2=\"150.0\" y2=\"227\" stroke=\"blue\" stroke-width=\"2\" marker-end=\"url(#arrow)\"><title>Weights from hidden3 to output\n",
       " output/kernel has shape (25, 784)\n",
       " output/bias has shape (784,)</title></line><rect x=\"86.5\" y=\"274\" width=\"127\" height=\"127\" style=\"fill:none;stroke:blue;stroke-width:2\"/><image id=\"MNIST-Autoencoder_hidden3_1\" class=\"MNIST-Autoencoder_hidden3\" x=\"87.5\" y=\"275\" height=\"125\" width=\"125\" href=\"data:image/gif;base64,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\"><title>Layer: hidden3 (hidden)\n",
       " shape = (25,)\n",
       " Keras class = Dense\n",
       " activation = relu</title></image><text x=\"217.5\" y=\"339.5\" font-family=\"Verdana\" font-size=\"12\">hidden3</text><rect x=\"140.0\" y=\"402\" width=\"20.0\" height=\"47\" style=\"fill:white;stroke:none\"><title>Weights from hidden2 to hidden3\n",
       " hidden3/kernel has shape (25, 25)\n",
       " hidden3/bias has shape (25,)</title></rect><line x1=\"150.0\" y1=\"449\" x2=\"150.0\" y2=\"402\" stroke=\"blue\" stroke-width=\"2\" marker-end=\"url(#arrow)\"><title>Weights from hidden2 to hidden3\n",
       " hidden3/kernel has shape (25, 25)\n",
       " hidden3/bias has shape (25,)</title></line><rect x=\"86.5\" y=\"449\" width=\"127\" height=\"127\" style=\"fill:none;stroke:blue;stroke-width:2\"/><image id=\"MNIST-Autoencoder_hidden2_1\" class=\"MNIST-Autoencoder_hidden2\" x=\"87.5\" y=\"450\" height=\"125\" width=\"125\" href=\"data:image/gif;base64,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\"><title>Layer: hidden2 (hidden)\n",
       " shape = (25,)\n",
       " Keras class = Dense\n",
       " activation = relu</title></image><text x=\"217.5\" y=\"514.5\" font-family=\"Verdana\" font-size=\"12\">hidden2</text><rect x=\"140.0\" y=\"577\" width=\"20.0\" height=\"47\" style=\"fill:white;stroke:none\"><title>Weights from hidden1 to hidden2\n",
       " hidden2/kernel has shape (25, 25)\n",
       " hidden2/bias has shape (25,)</title></rect><line x1=\"150.0\" y1=\"624\" x2=\"150.0\" y2=\"577\" stroke=\"blue\" stroke-width=\"2\" marker-end=\"url(#arrow)\"><title>Weights from hidden1 to hidden2\n",
       " hidden2/kernel has shape (25, 25)\n",
       " hidden2/bias has shape (25,)</title></line><rect x=\"86.5\" y=\"624\" width=\"127\" height=\"127\" style=\"fill:none;stroke:blue;stroke-width:2\"/><image id=\"MNIST-Autoencoder_hidden1_1\" class=\"MNIST-Autoencoder_hidden1\" x=\"87.5\" y=\"625\" height=\"125\" width=\"125\" href=\"data:image/gif;base64,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\"><title>Layer: hidden1 (hidden)\n",
       " shape = (25,)\n",
       " Keras class = Dense\n",
       " activation = relu</title></image><text x=\"217.5\" y=\"689.5\" font-family=\"Verdana\" font-size=\"12\">hidden1</text><rect x=\"140.0\" y=\"752\" width=\"20.0\" height=\"47\" style=\"fill:white;stroke:none\"><title>Weights from input to hidden1\n",
       " hidden1/kernel has shape (784, 25)\n",
       " hidden1/bias has shape (25,)</title></rect><line x1=\"150.0\" y1=\"799\" x2=\"150.0\" y2=\"752\" stroke=\"blue\" stroke-width=\"2\" marker-end=\"url(#arrow)\"><title>Weights from input to hidden1\n",
       " hidden1/kernel has shape (784, 25)\n",
       " hidden1/bias has shape (25,)</title></line><rect x=\"49.0\" y=\"799\" width=\"202\" height=\"202\" style=\"fill:none;stroke:blue;stroke-width:2\"/><image id=\"MNIST-Autoencoder_input_1\" class=\"MNIST-Autoencoder_input\" x=\"50.0\" y=\"800\" height=\"200\" width=\"200\" href=\"data:image/gif;base64,R0lGODdhyADIAIAAAH9/fwAAACwAAAAAyADIAEAI/wABCBxIsKDBgwgTKlzIsKHDhxAjSpxIsaLFixgzatzIsaPHjyBDihxJsqTJkyhTqlzJsqXLlzBjypxJs6bNmzhz6tzJs6fPn0CDCh1KtKjRo0iTKl3KtKnTp1CjSp1KtarVq1izat3KtavXr2DDih1LtqzZs2jTql3Ltq3bt3Djyp1Lt67du3jz6t3Lt6/fv4ADCx5MuLDhw4gTK17MuLHjx5AjS55MubLly5gza97MubPnz6BDix5NurTp06hTq17NurXr17Bjy55Nu7bt27hz697Nu7fv38CDCx9OvLjx48iTK1/OvLnz59CjS59Ovbr169iza9/Ovbv37+DDi60fT768+fPo06tfz769+/fw48ufT7++/fv48+vfz7+/f4AABA4kWNDgQYQJFS5k2NDhQ4gRJU6kWNHiRYwZNW7k2NHjR5AhRY4kWdLkSZQpVa5k2dLlS5gxZc6kWdPmTZw5de7k2dPnT6BBhQ4lWtToUaRJlS5l2tTpU6hRpU6lWtXqVaxZtW7l2tXrV7BhxY4lW9bsWbRp1a5l29btW7hx5c6lW9fuXbx59cINCAA7\"><title>Layer: input (input)\n",
       " shape = (784,)\n",
       " Keras class = Input</title></image><text x=\"255.0\" y=\"902.0\" font-family=\"Verdana\" font-size=\"12\">input</text></svg>"
      ],
      "text/plain": [
       "<Network name='MNIST-Autoencoder'>"
      ]
     },
     "execution_count": 23,
     "metadata": {},
     "output_type": "execute_result"
    }
   ],
   "source": [
    "net"
   ]
  },
  {
   "cell_type": "code",
   "execution_count": 24,
   "metadata": {},
   "outputs": [
    {
     "data": {
      "application/javascript": [
       "\n",
       "require(['base/js/namespace'], function(Jupyter) {\n",
       "    Jupyter.notebook.kernel.comm_manager.register_target('conx_svg_control', function(comm, msg) {\n",
       "        comm.on_msg(function(msg) {\n",
       "            var data = msg[\"content\"][\"data\"];\n",
       "            var images = document.getElementsByClassName(data[\"class\"]);\n",
       "            for (var i = 0; i < images.length; i++) {\n",
       "                images[i].setAttributeNS(null, \"href\", data[\"href\"]);\n",
       "            }\n",
       "        });\n",
       "    });\n",
       "});\n"
      ],
      "text/plain": [
       "<IPython.core.display.Javascript object>"
      ]
     },
     "metadata": {},
     "output_type": "display_data"
    },
    {
     "data": {
      "image/svg+xml": [
       "\n",
       "        <svg id='MNIST-Autoencoder' xmlns='http://www.w3.org/2000/svg' width=\"300\" height=\"1050\">\n",
       "    <defs>\n",
       "        <marker id=\"arrow\" markerWidth=\"10\" markerHeight=\"10\" refX=\"9\" refY=\"3\" orient=\"auto\" markerUnits=\"strokeWidth\">\n",
       "          <path d=\"M0,0 L0,6 L9,3 z\" fill=\"blue\" />\n",
       "        </marker>\n",
       "    </defs>\n",
       "<rect x=\"49.0\" y=\"24\" width=\"202\" height=\"202\" style=\"fill:none;stroke:blue;stroke-width:2\"/><image id=\"MNIST-Autoencoder_output_2\" class=\"MNIST-Autoencoder_output\" x=\"50.0\" y=\"25\" height=\"200\" width=\"200\" href=\"data:image/gif;base64,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\"><title>Layer: output (output)\n",
       " shape = (784,)\n",
       " Keras class = Dense\n",
       " activation = sigmoid</title></image><text x=\"255.0\" y=\"127.0\" font-family=\"Verdana\" font-size=\"12\">output</text><rect x=\"140.0\" y=\"227\" width=\"20.0\" height=\"47\" style=\"fill:white;stroke:none\"><title>Weights from hidden3 to output\n",
       " output/kernel has shape (25, 784)\n",
       " output/bias has shape (784,)</title></rect><line x1=\"150.0\" y1=\"274\" x2=\"150.0\" y2=\"227\" stroke=\"blue\" stroke-width=\"2\" marker-end=\"url(#arrow)\"><title>Weights from hidden3 to output\n",
       " output/kernel has shape (25, 784)\n",
       " output/bias has shape (784,)</title></line><rect x=\"86.5\" y=\"274\" width=\"127\" height=\"127\" style=\"fill:none;stroke:blue;stroke-width:2\"/><image id=\"MNIST-Autoencoder_hidden3_2\" class=\"MNIST-Autoencoder_hidden3\" x=\"87.5\" y=\"275\" height=\"125\" width=\"125\" href=\"data:image/gif;base64,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\"><title>Layer: hidden3 (hidden)\n",
       " shape = (25,)\n",
       " Keras class = Dense\n",
       " activation = relu</title></image><text x=\"217.5\" y=\"339.5\" font-family=\"Verdana\" font-size=\"12\">hidden3</text><rect x=\"140.0\" y=\"402\" width=\"20.0\" height=\"47\" style=\"fill:white;stroke:none\"><title>Weights from hidden2 to hidden3\n",
       " hidden3/kernel has shape (25, 25)\n",
       " hidden3/bias has shape (25,)</title></rect><line x1=\"150.0\" y1=\"449\" x2=\"150.0\" y2=\"402\" stroke=\"blue\" stroke-width=\"2\" marker-end=\"url(#arrow)\"><title>Weights from hidden2 to hidden3\n",
       " hidden3/kernel has shape (25, 25)\n",
       " hidden3/bias has shape (25,)</title></line><rect x=\"86.5\" y=\"449\" width=\"127\" height=\"127\" style=\"fill:none;stroke:blue;stroke-width:2\"/><image id=\"MNIST-Autoencoder_hidden2_2\" class=\"MNIST-Autoencoder_hidden2\" x=\"87.5\" y=\"450\" height=\"125\" width=\"125\" href=\"data:image/gif;base64,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\"><title>Layer: hidden2 (hidden)\n",
       " shape = (25,)\n",
       " Keras class = Dense\n",
       " activation = relu</title></image><text x=\"217.5\" y=\"514.5\" font-family=\"Verdana\" font-size=\"12\">hidden2</text><rect x=\"140.0\" y=\"577\" width=\"20.0\" height=\"47\" style=\"fill:white;stroke:none\"><title>Weights from hidden1 to hidden2\n",
       " hidden2/kernel has shape (25, 25)\n",
       " hidden2/bias has shape (25,)</title></rect><line x1=\"150.0\" y1=\"624\" x2=\"150.0\" y2=\"577\" stroke=\"blue\" stroke-width=\"2\" marker-end=\"url(#arrow)\"><title>Weights from hidden1 to hidden2\n",
       " hidden2/kernel has shape (25, 25)\n",
       " hidden2/bias has shape (25,)</title></line><rect x=\"86.5\" y=\"624\" width=\"127\" height=\"127\" style=\"fill:none;stroke:blue;stroke-width:2\"/><image id=\"MNIST-Autoencoder_hidden1_2\" class=\"MNIST-Autoencoder_hidden1\" x=\"87.5\" y=\"625\" height=\"125\" width=\"125\" href=\"data:image/gif;base64,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\"><title>Layer: hidden1 (hidden)\n",
       " shape = (25,)\n",
       " Keras class = Dense\n",
       " activation = relu</title></image><text x=\"217.5\" y=\"689.5\" font-family=\"Verdana\" font-size=\"12\">hidden1</text><rect x=\"140.0\" y=\"752\" width=\"20.0\" height=\"47\" style=\"fill:white;stroke:none\"><title>Weights from input to hidden1\n",
       " hidden1/kernel has shape (784, 25)\n",
       " hidden1/bias has shape (25,)</title></rect><line x1=\"150.0\" y1=\"799\" x2=\"150.0\" y2=\"752\" stroke=\"blue\" stroke-width=\"2\" marker-end=\"url(#arrow)\"><title>Weights from input to hidden1\n",
       " hidden1/kernel has shape (784, 25)\n",
       " hidden1/bias has shape (25,)</title></line><rect x=\"49.0\" y=\"799\" width=\"202\" height=\"202\" style=\"fill:none;stroke:blue;stroke-width:2\"/><image id=\"MNIST-Autoencoder_input_2\" class=\"MNIST-Autoencoder_input\" x=\"50.0\" y=\"800\" height=\"200\" width=\"200\" href=\"data:image/gif;base64,R0lGODdhyADIAIAAAH9/fwAAACwAAAAAyADIAEAI/wABCBxIsKDBgwgTKlzIsKHDhxAjSpxIsaLFixgzatzIsaPHjyBDihxJsqTJkyhTqlzJsqXLlzBjypxJs6bNmzhz6tzJs6fPn0CDCh1KtKjRo0iTKl3KtKnTp1CjSp1KtarVq1izat3KtavXr2DDih1LtqzZs2jTql3Ltq3bt3Djyp1Lt67du3jz6t3Lt6/fv4ADCx5MuLDhw4gTK17MuLHjx5AjS55MubLly5gza97MubPnz6BDix5NurTp06hTq17NurXr17Bjy55Nu7bt27hz697Nu7fv38CDCx9OvLjx48iTK1/OvLnz59CjS59Ovbr169iza9/Ovbv37+DDi60fT768+fPo06tfz769+/fw48ufT7++/fv48+vfz7+/f4AABA4kWNDgQYQJFS5k2NDhQ4gRJU6kWNHiRYwZNW7k2NHjR5AhRY4kWdLkSZQpVa5k2dLlS5gxZc6kWdPmTZw5de7k2dPnT6BBhQ4lWtToUaRJlS5l2tTpU6hRpU6lWtXqVaxZtW7l2tXrV7BhxY4lW9bsWbRp1a5l29btW7hx5c6lW9fuXbx59cINCAA7\"><title>Layer: input (input)\n",
       " shape = (784,)\n",
       " Keras class = Input</title></image><text x=\"255.0\" y=\"902.0\" font-family=\"Verdana\" font-size=\"12\">input</text></svg>"
      ],
      "text/plain": [
       "<Network name='MNIST-Autoencoder'>"
      ]
     },
     "execution_count": 24,
     "metadata": {},
     "output_type": "execute_result"
    }
   ],
   "source": [
    "net"
   ]
  },
  {
   "cell_type": "code",
   "execution_count": 25,
   "metadata": {
    "collapsed": true
   },
   "outputs": [],
   "source": [
    "output = net.propagate(train_inputs[random.randint(0,1000)].reshape((784, )))"
   ]
  },
  {
   "cell_type": "code",
   "execution_count": 24,
   "metadata": {
    "collapsed": true
   },
   "outputs": [],
   "source": [
    "train_inputs = np.array([pattern.reshape((784,)) for pattern in train_inputs])"
   ]
  },
  {
   "cell_type": "code",
   "execution_count": 25,
   "metadata": {},
   "outputs": [
    {
     "name": "stdout",
     "output_type": "stream",
     "text": [
      "60000 train inputs, 0 test inputs\n",
      "Set 60000 inputs and targets\n",
      "Input data shape: (784,), range: (0, 255), type: uint8\n",
      "Target data shape: (784,), range: (0, 255), type: uint8\n"
     ]
    }
   ],
   "source": [
    "net.set_dataset_direct(train_inputs, train_inputs)"
   ]
  },
  {
   "cell_type": "code",
   "execution_count": 26,
   "metadata": {},
   "outputs": [
    {
     "name": "stdout",
     "output_type": "stream",
     "text": [
      "Split dataset into:\n",
      "   6000 train inputs\n",
      "   54000 test inputs\n"
     ]
    }
   ],
   "source": [
    "net.split_dataset(0.10)"
   ]
  },
  {
   "cell_type": "code",
   "execution_count": 28,
   "metadata": {},
   "outputs": [
    {
     "name": "stdout",
     "output_type": "stream",
     "text": [
      "Training...\n",
      "Epoch #   23 | train loss -462.59628 | train acc 0.32373 | validate% 0.00000\n",
      "Epoch #   24 | train loss -468.51141 | train acc 0.32581 | validate% 0.00000\n",
      "Epoch #   25 | train loss -473.51440 | train acc 0.32803 | validate% 0.00000\n",
      "Epoch #   26 | train loss -476.82687 | train acc 0.32996 | validate% 0.00000\n",
      "Epoch #   27 | train loss -478.63983 | train acc 0.33102 | validate% 0.00000\n",
      "Epoch #   28 | train loss -479.63916 | train acc 0.33213 | validate% 0.00000\n",
      "Epoch #   29 | train loss -480.15137 | train acc 0.33374 | validate% 0.00000\n",
      "Epoch #   30 | train loss -480.40634 | train acc 0.33506 | validate% 0.00000\n",
      "Epoch #   31 | train loss -480.59192 | train acc 0.33625 | validate% 0.00000\n",
      "Epoch #   32 | train loss -480.87784 | train acc 0.33768 | validate% 0.00000\n",
      "Epoch #   33 | train loss -481.41568 | train acc 0.33916 | validate% 0.00000\n",
      "Epoch #   34 | train loss -482.26779 | train acc 0.34016 | validate% 0.00000\n",
      "Epoch #   35 | train loss -483.18649 | train acc 0.34037 | validate% 0.00000\n",
      "Epoch #   36 | train loss -483.75720 | train acc 0.33921 | validate% 0.00000\n",
      "Epoch #   37 | train loss -484.08347 | train acc 0.33732 | validate% 0.00000\n",
      "Epoch #   38 | train loss -484.47083 | train acc 0.33551 | validate% 0.00000\n",
      "Epoch #   39 | train loss -485.09818 | train acc 0.33461 | validate% 0.00000\n",
      "Epoch #   40 | train loss -486.04889 | train acc 0.33496 | validate% 0.00000\n",
      "Epoch #   41 | train loss -487.16830 | train acc 0.33605 | validate% 0.00000\n",
      "Epoch #   42 | train loss -488.08353 | train acc 0.33708 | validate% 0.00000\n",
      "Epoch #   43 | train loss -488.64236 | train acc 0.33791 | validate% 0.00000\n",
      "Epoch #   44 | train loss -489.19550 | train acc 0.33830 | validate% 0.00000\n",
      "Epoch #   45 | train loss -490.19421 | train acc 0.33840 | validate% 0.00000\n",
      "Epoch #   46 | train loss -491.95157 | train acc 0.33867 | validate% 0.00000\n",
      "Epoch #   47 | train loss -494.01303 | train acc 0.33943 | validate% 0.00000\n",
      "Epoch #   48 | train loss -495.18622 | train acc 0.34036 | validate% 0.00000\n",
      "Epoch #   49 | train loss -495.48334 | train acc 0.34117 | validate% 0.00000\n",
      "Epoch #   50 | train loss -495.57782 | train acc 0.34156 | validate% 0.00000\n",
      "Epoch #   51 | train loss -495.69171 | train acc 0.34156 | validate% 0.00000\n",
      "Epoch #   52 | train loss -495.91547 | train acc 0.34131 | validate% 0.00000\n",
      "Epoch #   53 | train loss -496.38632 | train acc 0.34082 | validate% 0.00000\n",
      "\n",
      "Stopping at end of epoch... (^C again to quit now)...\n",
      "Epoch #   54 | train loss -497.34674 | train acc 0.34057 | validate% 0.00000\n",
      "========================================================================\n",
      "Epoch #   54 | train loss -497.34674 | train acc 0.34057 | validate% 0.00000\n"
     ]
    },
    {
     "ename": "KeyboardInterrupt",
     "evalue": "",
     "output_type": "error",
     "traceback": [
      "\u001b[0;31m---------------------------------------------------------------------------\u001b[0m",
      "\u001b[0;31mKeyboardInterrupt\u001b[0m                         Traceback (most recent call last)",
      "\u001b[0;32m<ipython-input-28-95a0ff0890be>\u001b[0m in \u001b[0;36m<module>\u001b[0;34m()\u001b[0m\n\u001b[0;32m----> 1\u001b[0;31m \u001b[0mnet\u001b[0m\u001b[0;34m.\u001b[0m\u001b[0mtrain\u001b[0m\u001b[0;34m(\u001b[0m\u001b[0maccuracy\u001b[0m\u001b[0;34m=\u001b[0m\u001b[0;36m0.5\u001b[0m\u001b[0;34m,\u001b[0m \u001b[0mepochs\u001b[0m\u001b[0;34m=\u001b[0m\u001b[0;36m1000\u001b[0m\u001b[0;34m,\u001b[0m \u001b[0mreport_rate\u001b[0m\u001b[0;34m=\u001b[0m\u001b[0;36m1\u001b[0m\u001b[0;34m)\u001b[0m\u001b[0;34m\u001b[0m\u001b[0m\n\u001b[0m",
      "\u001b[0;32m/usr/local/lib/python3.5/dist-packages/conx/network.py\u001b[0m in \u001b[0;36mtrain\u001b[0;34m(self, epochs, accuracy, batch_size, report_rate, tolerance, verbose, shuffle, class_weight, sample_weight)\u001b[0m\n\u001b[1;32m    497\u001b[0m                 print(\"Epoch #%5d | train loss %7.5f | train acc %7.5f | validate%% %7.5f\" %\n\u001b[1;32m    498\u001b[0m                       (self.epoch_count, loss, acc, val_percent))\n\u001b[0;32m--> 499\u001b[0;31m                 \u001b[0;32mraise\u001b[0m \u001b[0mKeyboardInterrupt\u001b[0m\u001b[0;34m\u001b[0m\u001b[0m\n\u001b[0m\u001b[1;32m    500\u001b[0m         \u001b[0;32mif\u001b[0m \u001b[0mverbose\u001b[0m\u001b[0;34m:\u001b[0m\u001b[0;34m\u001b[0m\u001b[0m\n\u001b[1;32m    501\u001b[0m             \u001b[0mprint\u001b[0m\u001b[0;34m(\u001b[0m\u001b[0;34m\"=\"\u001b[0m \u001b[0;34m*\u001b[0m \u001b[0;36m72\u001b[0m\u001b[0;34m)\u001b[0m\u001b[0;34m\u001b[0m\u001b[0m\n",
      "\u001b[0;31mKeyboardInterrupt\u001b[0m: "
     ]
    }
   ],
   "source": [
    "net.train(accuracy=0.5, epochs=1000, report_rate=1)"
   ]
  },
  {
   "cell_type": "code",
   "execution_count": 29,
   "metadata": {
    "collapsed": true
   },
   "outputs": [],
   "source": [
    "import time\n",
    "for i in range(20):\n",
    "    net.propagate(net.get_input(i))\n",
    "    time.sleep(1)"
   ]
  },
  {
   "cell_type": "code",
   "execution_count": null,
   "metadata": {
    "collapsed": true
   },
   "outputs": [],
   "source": []
  }
 ],
 "metadata": {
  "kernelspec": {
   "display_name": "Python 3",
   "language": "python",
   "name": "python3"
  },
  "language_info": {
   "codemirror_mode": {
    "name": "ipython",
    "version": 3
   },
   "file_extension": ".py",
   "mimetype": "text/x-python",
   "name": "python",
   "nbconvert_exporter": "python",
   "pygments_lexer": "ipython3",
   "version": "3.5.3"
  }
 },
 "nbformat": 4,
 "nbformat_minor": 2
}
