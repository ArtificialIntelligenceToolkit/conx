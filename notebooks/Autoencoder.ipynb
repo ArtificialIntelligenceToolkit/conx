{
 "cells": [
  {
   "cell_type": "markdown",
   "metadata": {},
   "source": [
    "# Autoencoder"
   ]
  },
  {
   "cell_type": "code",
   "execution_count": 1,
   "metadata": {},
   "outputs": [
    {
     "name": "stderr",
     "output_type": "stream",
     "text": [
      "Using Theano backend.\n"
     ]
    }
   ],
   "source": [
    "from conx import *\n",
    "import random"
   ]
  },
  {
   "cell_type": "code",
   "execution_count": 2,
   "metadata": {
    "collapsed": true
   },
   "outputs": [],
   "source": [
    "net = Network(\"Autoencoder\")\n",
    "net.add(Layer(\"input\", 10, minmax=(0,1)))\n",
    "net.add(Layer(\"hidden\", 5, activation=\"relu\"))\n",
    "net.add(Layer(\"output\", 10, activation=\"sigmoid\"))"
   ]
  },
  {
   "cell_type": "code",
   "execution_count": 3,
   "metadata": {
    "collapsed": true
   },
   "outputs": [],
   "source": [
    "net.connect()"
   ]
  },
  {
   "cell_type": "code",
   "execution_count": 4,
   "metadata": {
    "collapsed": true
   },
   "outputs": [],
   "source": [
    "net.compile(loss='binary_crossentropy', optimizer=\"adam\")"
   ]
  },
  {
   "cell_type": "code",
   "execution_count": 5,
   "metadata": {},
   "outputs": [
    {
     "data": {
      "application/javascript": [
       "\n",
       "require(['base/js/namespace'], function(Jupyter) {\n",
       "    Jupyter.notebook.kernel.comm_manager.register_target('conx_svg_control', function(comm, msg) {\n",
       "        comm.on_msg(function(msg) {\n",
       "            var data = msg[\"content\"][\"data\"];\n",
       "            var images = document.getElementsByClassName(data[\"class\"]);\n",
       "            for (var i = 0; i < images.length; i++) {\n",
       "                images[i].setAttributeNS(null, \"href\", data[\"href\"]);\n",
       "            }\n",
       "        });\n",
       "    });\n",
       "});\n"
      ],
      "text/plain": [
       "<IPython.core.display.Javascript object>"
      ]
     },
     "metadata": {},
     "output_type": "display_data"
    },
    {
     "data": {
      "image/svg+xml": [
       "\n",
       "        <svg id='Autoencoder' xmlns='http://www.w3.org/2000/svg' width=\"300\" height=\"240\">\n",
       "    <defs>\n",
       "        <marker id=\"arrow\" markerWidth=\"10\" markerHeight=\"10\" refX=\"9\" refY=\"3\" orient=\"auto\" markerUnits=\"strokeWidth\">\n",
       "          <path d=\"M0,0 L0,6 L9,3 z\" fill=\"blue\" />\n",
       "        </marker>\n",
       "    </defs>\n",
       "<rect x=\"49.0\" y=\"24\" width=\"202\" height=\"22\" style=\"fill:none;stroke:blue;stroke-width:2\"/><image id=\"Autoencoder_output_1\" class=\"Autoencoder_output\" x=\"50.0\" y=\"25\" height=\"20\" width=\"200\" href=\"data:image/gif;base64,R0lGODdhyAAUAIMAAGRkZGZmZmlpaW9vb3Z2doaGhoeHh4qKio6OjpaWlgAAAAAAAAAAAAAAAAAAAAAAACwAAAAAyAAUAEAI/wAJCBxIsGBBAQgTKly4sIDDhxAjRjRAsaLFixcHaNzIsWNHACBDihw5EoHJkyhTpjzAsqXLly8TyJxJs2bNADhz6ty5k4DPn0CDBhVAtKjRo0cLKF3KtGlTA1CjSp06dYDVq1izZgXAtavXr18RiB1LtmzZA2jTql27NoHbt3Djxg1At67du3cJ6N3Lt29fAYADCx48uIDhw4gTJzbAuLHjx48HSJ5MuXJlAJgza968GYHnz6BDhz5AurTp06cTqF7NunXrALBjy549m4Dt27hz5xbAu7fv378LCB9OvHhxA8iTK1++fIDz59CjRwdAvbr169cRaN/OvXv3A+DDi/8fPz6B+fPo06cPwL69+/fvCcifT79+fQH48+vfv7+Af4AFBA4kWFCgAYQJFS5cOMDhQ4gRIwKgWNHixYsING7k2LHjAZAhRY4cmcDkSZQpUwZg2dLly5cEZM6kWbOmAJw5de7cWcDnT6BBgxogWtTo0aMDlC5l2rQpAKhRpU6disDqVaxZsx7g2tXr168JxI4lW7ZsALRp1a5dS8DtW7hx4wqgW9fu3bsF9O7l27evAcCBBQ8ePMDwYcSJEwNg3Njx48cIJE+mXLnyAcyZNW/enMDzZ9ChQwcgXdr06dMEVK9m3bq1ANixZc+eXcD2bdy5cxvg3dv3798DhA8nXrz/OADkyZUvX47A+XPo0aMfoF7d+vXrCbRv5969ewDw4cWPH0/A/Hn06dMLYN/e/fv3BeTPp1+/vgH8+fXv3z/AP8ABAgcSLCgQAMKEChcuRODwIcSIEQ9QrGjx4sUEGjdy7NgxAMiQIkeOJGDyJMqUKQWwbOny5csCMmfSrFnTAM6cOnfuHODzJ9CgQQEQLWr06FEESpcybdr0ANSoUqdOTWD1KtasWQNw7er161cCYseSLVtWANq0ateuLeD2Ldy4cQ3QrWv37t0Bevfy7dsXAODAggcPRmD4MOLEiQ8wbuz48eMEkidTrlw5AObMmjdvJuD5M+jQoQWQLm369OkC/6pXs27d2gDs2LJnzx5g+zbu3LkB8O7t+/dvBMKHEy9e/ADy5MqXL0/g/Dn06NEDUK9u/fp1Atq3c+/eXQD48OLHjy9g/jz69OkNsG/v/v37AfLn069fHwD+/Pr370fgHyACgQMJFhR4AGFChQsXJnD4EGLEiAEoVrR48SIBjRs5duwoAGRIkSNHFjB5EmXKlAZYtnT58uUAmTNp1qwJAGdOnTt3IvD5E2jQoAeIFjV69GgCpUuZNm0aAGpUqVOnErB6FWvWrAK4dvX69WsBsWPJli1rAG1atWvXDnD7Fm7cuADo1rV79y4CvXv59u17AHBgwYMHJzB8GHHixAEYN/92/PgxAcmTKVeuLABzZs2bNxfw/Bl06NAGSJc2ffr0ANWrWbduDQB2bNmzZyOwfRt37twHePf2/ft3AuHDiRcvHgB5cuXLlxNw/hx69OgCqFe3fv16Ae3buXfvbgB8ePHjxw8wfx59+vQA2Ld3//49Avnz6devfwB/fv379yfwDzCBwIEECwoMgDChwoULCTh8CDFiRAEUK1q8eLGAxo0cO3Y0ADKkyJEjB5g8iTJlSgAsW7p8+RKBzJk0a9Y8gDOnzp07E/j8CTRo0ABEixo9epSA0qVMmzYVADWq1KlTC1i9ijVrVgNcu3r9+nWA2LFky5YFgDat2rVrEbh9CzdbbtwDdOvavXs3gd69fPv2DQA4sODBgwkYPow4cWIBjBs7fvy4gOTJlCtXNoA5s+bNmwd4/gw6dGgApEubPn0agerVrFu3PgA7tuzZsxPYvo07d+4AvHv7/v07IAA7\"><title>Layer: output (output)\n",
       " shape = (10,)\n",
       " Keras class = Dense\n",
       " activation = sigmoid</title></image><text x=\"255.0\" y=\"37.0\" font-family=\"Verdana\" font-size=\"12\">output</text><rect x=\"140.0\" y=\"47\" width=\"20.0\" height=\"47\" style=\"fill:white;stroke:none\"><title>Weights from hidden to output\n",
       " output/kernel has shape (5, 10)\n",
       " output/bias has shape (10,)</title></rect><line x1=\"150.0\" y1=\"94\" x2=\"150.0\" y2=\"47\" stroke=\"blue\" stroke-width=\"2\" marker-end=\"url(#arrow)\"><title>Weights from hidden to output\n",
       " output/kernel has shape (5, 10)\n",
       " output/bias has shape (10,)</title></line><rect x=\"86.5\" y=\"94\" width=\"127\" height=\"27\" style=\"fill:none;stroke:blue;stroke-width:2\"/><image id=\"Autoencoder_hidden_1\" class=\"Autoencoder_hidden\" x=\"87.5\" y=\"95\" height=\"25\" width=\"125\" href=\"data:image/gif;base64,R0lGODdhfQAZAIEAAAAAAEJCQmpqav///ywAAAAAfQAZAEAI/wABCBxIsKDBgwgTFhzAsKHDhxAdCphIsaLFixUDaNzIsaNHjgBCihxJsqTJkyhJDljJsqXLly0FyJxJs6ZNmgFy6tzJs+dOAECDCh1KtKjRo0MHKF3KtKlTpgKiSp1KterUAFizat3KVSuAr2DDih1LtqxZsQPSql3Ltu1aAXDjyp1LV26Au3jz6t2bF4Dfv4ADCx5MuHDgAYgTK17MWLGAx5AjS54cOYDly5gza8YMoLPnz6BDix5NGvSA06hTq16dWoDr17Bjy4YdoLbt27hz3wbAu7fv38CDCx/+e4Dx48iTK0cuoLnz59CjPw9Avbr169itA9jOvbv37+DDi//3PqC8+fPo058XwL69+/fw3QeYT7++/fv1Aejfz7+/f4AABA4kWNDgQQADFC5k2NAhQwERJU6kWHFiAIwZNW7kqBHAR5AhRY4kWdKkyAEpVa5k2XKlAJgxZc6kKTPATZw5de7MCcDnT6BBhQ4lWjToAKRJlS5lqlTAU6hRpU6NGsDqVaxZtWIF0NXrV7BhxY4lC3bAWbRp1a5NK8DtW7hx5cINUNfuXbx57wLg29fvX8CBBQ/+O8DwYcSJFSMW0NjxY8iRHwegXNnyZcyWAWzm3NnzZ9ChRXseUNr0adSpTwtg3dr1a9iuA8ymXdv27doAdO/m3dv3b+DBew8gXtz/+HHkxgUsZ97c+fPmAaRPp17dOnUA2bVv597d+3fw3AeMJ1/e/PnyAtSvZ9/ePfsA8eXPp19/PgD8+fXv59/fP0AAAgcSJDjgIMKEChcmFODwIcSIEiEGqGjxIsaMFwFw7OjxI8iQIkd+HGDyJMqUKlEKaOnyJcyYLwPQrGnzJk6bAHby7OnzJ9CgQn0OKGr0KNKkRwUwber0KVSnAaZSrWr1alUAWrdy7er1K9iwXQeQLWv2LFqzAtaybev2bdsAcufSrWuXLoC8evfy7ev3L2C+AwYTLmz4cGEBihczbuyYcYDIkidTrjwZAObMmjdz7uz58+YBokeTLm2atIDUeqpXs269OgDs2LJn05YN4Dbu3Lp38+7tW/eA4MKHEy8+XADy5MqXM1ce4Dn06NKnRwdg/Tr27Nq3c++efQD48OLHkxcv4Dz69OrXpw/g/j38+PLhA6hv/z7+/Pr388c/AOAAgQMJFjQ4UEBChQsZNlwYAGJEiRMpSgwIADs=\"><title>Layer: hidden (hidden)\n",
       " shape = (5,)\n",
       " Keras class = Dense\n",
       " activation = relu</title></image><text x=\"217.5\" y=\"109.5\" font-family=\"Verdana\" font-size=\"12\">hidden</text><rect x=\"140.0\" y=\"122\" width=\"20.0\" height=\"47\" style=\"fill:white;stroke:none\"><title>Weights from input to hidden\n",
       " hidden/kernel has shape (10, 5)\n",
       " hidden/bias has shape (5,)</title></rect><line x1=\"150.0\" y1=\"169\" x2=\"150.0\" y2=\"122\" stroke=\"blue\" stroke-width=\"2\" marker-end=\"url(#arrow)\"><title>Weights from input to hidden\n",
       " hidden/kernel has shape (10, 5)\n",
       " hidden/bias has shape (5,)</title></line><rect x=\"49.0\" y=\"169\" width=\"202\" height=\"22\" style=\"fill:none;stroke:blue;stroke-width:2\"/><image id=\"Autoencoder_input_1\" class=\"Autoencoder_input\" x=\"50.0\" y=\"170\" height=\"20\" width=\"200\" href=\"data:image/gif;base64,R0lGODdhyAAUAIAAAH9/fwAAACwAAAAAyAAUAEAIZwABCBxIsKDBgwgTKlzIsKHDhxAjSpxIsaLFixgzatzIsaPHjyBDihxJsqTJkyhTqlzJsqXLlzBjypxJs6bNmzhz6tzJs6fPn0CDCh1KtKjRo0iTKl3KtKnTp1CjSp1KtarVq1ipBgQAOw==\"><title>Layer: input (input)\n",
       " shape = (10,)\n",
       " Keras class = Input</title></image><text x=\"255.0\" y=\"182.0\" font-family=\"Verdana\" font-size=\"12\">input</text></svg>"
      ],
      "text/plain": [
       "<Network name='Autoencoder'>"
      ]
     },
     "execution_count": 5,
     "metadata": {},
     "output_type": "execute_result"
    }
   ],
   "source": [
    "net"
   ]
  },
  {
   "cell_type": "code",
   "execution_count": 8,
   "metadata": {
    "collapsed": true
   },
   "outputs": [],
   "source": [
    "patterns = [one_hot(i, 10) for i in range(10)]"
   ]
  },
  {
   "cell_type": "code",
   "execution_count": 9,
   "metadata": {},
   "outputs": [
    {
     "data": {
      "text/plain": [
       "[1.0, 0.0, 0.0, 0.0, 0.0, 0.0, 0.0, 0.0, 0.0, 0.0]"
      ]
     },
     "execution_count": 9,
     "metadata": {},
     "output_type": "execute_result"
    }
   ],
   "source": [
    "patterns[0]"
   ]
  },
  {
   "cell_type": "code",
   "execution_count": 10,
   "metadata": {
    "collapsed": true
   },
   "outputs": [],
   "source": [
    "dataset = [(p,p) for p in patterns]"
   ]
  },
  {
   "cell_type": "code",
   "execution_count": 11,
   "metadata": {},
   "outputs": [],
   "source": [
    "import time\n",
    "for i in range(10):\n",
    "    net.propagate(dataset[i][0])\n",
    "    time.sleep(1)"
   ]
  },
  {
   "cell_type": "code",
   "execution_count": 100,
   "metadata": {},
   "outputs": [
    {
     "data": {
      "text/plain": [
       "([1.0, 0.0, 0.0, 0.0, 0.0, 0.0, 0.0, 0.0, 0.0, 0.0],\n",
       " [1.0, 0.0, 0.0, 0.0, 0.0, 0.0, 0.0, 0.0, 0.0, 0.0])"
      ]
     },
     "execution_count": 100,
     "metadata": {},
     "output_type": "execute_result"
    }
   ],
   "source": [
    "dataset[0]"
   ]
  },
  {
   "cell_type": "code",
   "execution_count": 12,
   "metadata": {},
   "outputs": [
    {
     "name": "stdout",
     "output_type": "stream",
     "text": [
      "10 train inputs, 0 test inputs\n",
      "Set 10 inputs and targets\n",
      "Input data shape: (10,), range: (0.0, 1.0), type: float32\n",
      "Target data shape: (10,), range: (0.0, 1.0), type: float32\n"
     ]
    }
   ],
   "source": [
    "net.set_dataset(dataset)"
   ]
  },
  {
   "cell_type": "code",
   "execution_count": 13,
   "metadata": {},
   "outputs": [
    {
     "name": "stdout",
     "output_type": "stream",
     "text": [
      "Training...\n",
      "Epoch #  200 | train loss 0.51270 | train acc 0.90000 | validate% 0.00000\n",
      "Epoch #  400 | train loss 0.37368 | train acc 0.91000 | validate% 0.00000\n",
      "Epoch #  600 | train loss 0.28741 | train acc 0.91000 | validate% 0.10000\n",
      "Epoch #  800 | train loss 0.23894 | train acc 0.91000 | validate% 0.10000\n",
      "Epoch # 1000 | train loss 0.19875 | train acc 0.93000 | validate% 0.20000\n",
      "Epoch # 1200 | train loss 0.16495 | train acc 0.93000 | validate% 0.20000\n",
      "Epoch # 1400 | train loss 0.13412 | train acc 0.93000 | validate% 0.30000\n",
      "Epoch # 1600 | train loss 0.10500 | train acc 0.97000 | validate% 0.60000\n",
      "Epoch # 1800 | train loss 0.07811 | train acc 0.99000 | validate% 0.80000\n",
      "Epoch # 2000 | train loss 0.05591 | train acc 1.00000 | validate% 0.90000\n",
      "========================================================================\n",
      "Epoch # 2090 | train loss 0.04813 | train acc 1.00000 | validate% 1.00000\n"
     ]
    }
   ],
   "source": [
    "net.train(accuracy=1, epochs=10000, report_rate=200, tolerance=0.4)"
   ]
  },
  {
   "cell_type": "code",
   "execution_count": 14,
   "metadata": {},
   "outputs": [
    {
     "data": {
      "text/plain": [
       "[0.88480675,\n",
       " 0.028964203,\n",
       " 3.9666302e-06,\n",
       " 0.0015957952,\n",
       " 0.05479214,\n",
       " 0.0079449853,\n",
       " 6.1485315e-07,\n",
       " 0.0033382899,\n",
       " 0.00037460736,\n",
       " 0.00043284288]"
      ]
     },
     "execution_count": 14,
     "metadata": {},
     "output_type": "execute_result"
    }
   ],
   "source": [
    "net.propagate(dataset[0][0])"
   ]
  },
  {
   "cell_type": "code",
   "execution_count": 15,
   "metadata": {},
   "outputs": [
    {
     "name": "stdout",
     "output_type": "stream",
     "text": [
      "Testing...\n",
      "# | inputs | outputs\n",
      "0 | [1.0, 0.0, 0.0, 0.0, 0.0, 0.0, 0.0, 0.0, 0.0, 0.0] | [0.884806752204895, 0.028964202851057053, 3.966630174545571e-06, 0.0015957951545715332, 0.0547921396791935, 0.007944985292851925, 6.148531497274234e-07, 0.00333828991279006, 0.0003746073634829372, 0.0004328428767621517]\n",
      "1 | [0.0, 1.0, 0.0, 0.0, 0.0, 0.0, 0.0, 0.0, 0.0, 0.0] | [0.07475854456424713, 0.8970427513122559, 0.0011110540945082903, 0.002047877525910735, 0.00015110056847333908, 0.0210459902882576, 0.007789914030581713, 0.0015051866648718715, 0.06723958998918533, 4.4245021854294464e-05]\n",
      "2 | [0.0, 0.0, 1.0, 0.0, 0.0, 0.0, 0.0, 0.0, 0.0, 0.0] | [0.00023754581343382597, 0.0007040677010081708, 0.6001310348510742, 0.00475058751180768, 0.0025045291986316442, 0.04679054766893387, 0.06131419539451599, 0.016071364283561707, 0.0679934173822403, 0.1140904352068901]\n",
      "3 | [0.0, 0.0, 0.0, 1.0, 0.0, 0.0, 0.0, 0.0, 0.0, 0.0] | [0.004909350071102381, 0.0005791845615021884, 0.0009721891256049275, 0.8083910346031189, 0.12342013418674469, 1.9355580661795102e-05, 0.034244269132614136, 0.0009725860436446965, 0.010283898562192917, 0.0007650035549886525]\n",
      "4 | [0.0, 0.0, 0.0, 0.0, 1.0, 0.0, 0.0, 0.0, 0.0, 0.0] | [0.08317741751670837, 3.540946272551082e-05, 0.0008840240770950913, 0.11168907582759857, 0.7530395984649658, 0.001380064175464213, 7.37070877221413e-05, 0.04080590605735779, 0.00048663842608220875, 0.10930994898080826]\n",
      "5 | [0.0, 0.0, 0.0, 0.0, 0.0, 1.0, 0.0, 0.0, 0.0, 0.0] | [0.03400600329041481, 0.005022197961807251, 0.041546713560819626, 1.5649322449462488e-05, 0.0009710440062917769, 0.8430429100990295, 1.2757424883602653e-05, 0.0030878272373229265, 0.03358261659741402, 0.08218254148960114]\n",
      "6 | [0.0, 0.0, 0.0, 0.0, 0.0, 0.0, 1.0, 0.0, 0.0, 0.0] | [0.0002416056813672185, 0.030816545709967613, 0.14849984645843506, 0.10115324705839157, 0.0010545935947448015, 0.0010217387462034822, 0.7976809740066528, 0.019719639793038368, 0.05507110431790352, 0.0016295453533530235]\n",
      "7 | [0.0, 0.0, 0.0, 0.0, 0.0, 0.0, 0.0, 1.0, 0.0, 0.0] | [0.004057982470840216, 0.0009595489245839417, 0.013539311476051807, 0.0006613100413233042, 0.014057189226150513, 0.01699666678905487, 0.0009574767900630832, 0.8847146034240723, 5.7501703849993646e-05, 0.07592333853244781]\n",
      "8 | [0.0, 0.0, 0.0, 0.0, 0.0, 0.0, 0.0, 0.0, 1.0, 0.0] | [0.015161640010774136, 0.0831337422132492, 0.02829029969871044, 0.011911800131201744, 0.0008482153061777353, 0.04518503323197365, 0.009022398851811886, 2.348127782170195e-05, 0.7737939953804016, 0.0010845388751477003]\n",
      "9 | [0.0, 0.0, 0.0, 0.0, 0.0, 0.0, 0.0, 0.0, 0.0, 1.0] | [0.002841826993972063, 6.940499133634148e-06, 0.09640669822692871, 0.0009289896697737277, 0.09120705723762512, 0.08806734532117844, 6.394666706910357e-05, 0.07439292222261429, 0.0013810889795422554, 0.7079065442085266]\n"
     ]
    }
   ],
   "source": [
    "net.test()"
   ]
  },
  {
   "cell_type": "code",
   "execution_count": 23,
   "metadata": {
    "collapsed": true
   },
   "outputs": [],
   "source": [
    "net.reset()"
   ]
  },
  {
   "cell_type": "code",
   "execution_count": 16,
   "metadata": {
    "collapsed": true
   },
   "outputs": [],
   "source": [
    "from keras.datasets import mnist\n",
    "(train_inputs, train_targets), (test_inputs, test_targets) = mnist.load_data()"
   ]
  },
  {
   "cell_type": "code",
   "execution_count": 17,
   "metadata": {},
   "outputs": [
    {
     "data": {
      "text/plain": [
       "(28, 28)"
      ]
     },
     "execution_count": 17,
     "metadata": {},
     "output_type": "execute_result"
    }
   ],
   "source": [
    "train_inputs[0].shape"
   ]
  },
  {
   "cell_type": "code",
   "execution_count": 18,
   "metadata": {},
   "outputs": [
    {
     "data": {
      "text/plain": [
       "784"
      ]
     },
     "execution_count": 18,
     "metadata": {},
     "output_type": "execute_result"
    }
   ],
   "source": [
    "28 * 28"
   ]
  },
  {
   "cell_type": "code",
   "execution_count": 19,
   "metadata": {
    "collapsed": true
   },
   "outputs": [],
   "source": [
    "net = Network(\"MNIST-Autoencoder\")\n",
    "net.add(Layer(\"input\", 784, vshape=(28,28), minmax=(0,255)))\n",
    "net.add(Layer(\"hidden1\", 25, vshape=(5,5), activation=\"relu\"))\n",
    "net.add(Layer(\"hidden2\", 25, vshape=(5,5), activation=\"relu\"))\n",
    "net.add(Layer(\"hidden3\", 25, vshape=(5,5), activation=\"relu\"))\n",
    "net.add(Layer(\"output\", 784, vshape=(28,28), activation=\"sigmoid\"))"
   ]
  },
  {
   "cell_type": "code",
   "execution_count": 20,
   "metadata": {
    "collapsed": true
   },
   "outputs": [],
   "source": [
    "net.connect()\n",
    "net.compile(loss=\"binary_crossentropy\", optimizer=\"adam\")"
   ]
  },
  {
   "cell_type": "code",
   "execution_count": 21,
   "metadata": {},
   "outputs": [
    {
     "data": {
      "application/javascript": [
       "\n",
       "require(['base/js/namespace'], function(Jupyter) {\n",
       "    Jupyter.notebook.kernel.comm_manager.register_target('conx_svg_control', function(comm, msg) {\n",
       "        comm.on_msg(function(msg) {\n",
       "            var data = msg[\"content\"][\"data\"];\n",
       "            var images = document.getElementsByClassName(data[\"class\"]);\n",
       "            for (var i = 0; i < images.length; i++) {\n",
       "                images[i].setAttributeNS(null, \"href\", data[\"href\"]);\n",
       "            }\n",
       "        });\n",
       "    });\n",
       "});\n"
      ],
      "text/plain": [
       "<IPython.core.display.Javascript object>"
      ]
     },
     "metadata": {},
     "output_type": "display_data"
    },
    {
     "data": {
      "image/svg+xml": [
       "\n",
       "        <svg id='MNIST-Autoencoder' xmlns='http://www.w3.org/2000/svg' width=\"300\" height=\"1050\">\n",
       "    <defs>\n",
       "        <marker id=\"arrow\" markerWidth=\"10\" markerHeight=\"10\" refX=\"9\" refY=\"3\" orient=\"auto\" markerUnits=\"strokeWidth\">\n",
       "          <path d=\"M0,0 L0,6 L9,3 z\" fill=\"blue\" />\n",
       "        </marker>\n",
       "    </defs>\n",
       "<rect x=\"49.0\" y=\"24\" width=\"202\" height=\"202\" style=\"fill:none;stroke:blue;stroke-width:2\"/><image id=\"MNIST-Autoencoder_output_1\" class=\"MNIST-Autoencoder_output\" x=\"50.0\" y=\"25\" height=\"200\" width=\"200\" href=\"data:image/gif;base64,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\"><title>Layer: output (output)\n",
       " shape = (784,)\n",
       " Keras class = Dense\n",
       " activation = sigmoid</title></image><text x=\"255.0\" y=\"127.0\" font-family=\"Verdana\" font-size=\"12\">output</text><rect x=\"140.0\" y=\"227\" width=\"20.0\" height=\"47\" style=\"fill:white;stroke:none\"><title>Weights from hidden3 to output\n",
       " output/kernel has shape (25, 784)\n",
       " output/bias has shape (784,)</title></rect><line x1=\"150.0\" y1=\"274\" x2=\"150.0\" y2=\"227\" stroke=\"blue\" stroke-width=\"2\" marker-end=\"url(#arrow)\"><title>Weights from hidden3 to output\n",
       " output/kernel has shape (25, 784)\n",
       " output/bias has shape (784,)</title></line><rect x=\"86.5\" y=\"274\" width=\"127\" height=\"127\" style=\"fill:none;stroke:blue;stroke-width:2\"/><image id=\"MNIST-Autoencoder_hidden3_1\" class=\"MNIST-Autoencoder_hidden3\" x=\"87.5\" y=\"275\" height=\"125\" width=\"125\" href=\"data:image/gif;base64,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\"><title>Layer: hidden3 (hidden)\n",
       " shape = (25,)\n",
       " Keras class = Dense\n",
       " activation = relu</title></image><text x=\"217.5\" y=\"339.5\" font-family=\"Verdana\" font-size=\"12\">hidden3</text><rect x=\"140.0\" y=\"402\" width=\"20.0\" height=\"47\" style=\"fill:white;stroke:none\"><title>Weights from hidden2 to hidden3\n",
       " hidden3/kernel has shape (25, 25)\n",
       " hidden3/bias has shape (25,)</title></rect><line x1=\"150.0\" y1=\"449\" x2=\"150.0\" y2=\"402\" stroke=\"blue\" stroke-width=\"2\" marker-end=\"url(#arrow)\"><title>Weights from hidden2 to hidden3\n",
       " hidden3/kernel has shape (25, 25)\n",
       " hidden3/bias has shape (25,)</title></line><rect x=\"86.5\" y=\"449\" width=\"127\" height=\"127\" style=\"fill:none;stroke:blue;stroke-width:2\"/><image id=\"MNIST-Autoencoder_hidden2_1\" class=\"MNIST-Autoencoder_hidden2\" x=\"87.5\" y=\"450\" height=\"125\" width=\"125\" href=\"data:image/gif;base64,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\"><title>Layer: hidden2 (hidden)\n",
       " shape = (25,)\n",
       " Keras class = Dense\n",
       " activation = relu</title></image><text x=\"217.5\" y=\"514.5\" font-family=\"Verdana\" font-size=\"12\">hidden2</text><rect x=\"140.0\" y=\"577\" width=\"20.0\" height=\"47\" style=\"fill:white;stroke:none\"><title>Weights from hidden1 to hidden2\n",
       " hidden2/kernel has shape (25, 25)\n",
       " hidden2/bias has shape (25,)</title></rect><line x1=\"150.0\" y1=\"624\" x2=\"150.0\" y2=\"577\" stroke=\"blue\" stroke-width=\"2\" marker-end=\"url(#arrow)\"><title>Weights from hidden1 to hidden2\n",
       " hidden2/kernel has shape (25, 25)\n",
       " hidden2/bias has shape (25,)</title></line><rect x=\"86.5\" y=\"624\" width=\"127\" height=\"127\" style=\"fill:none;stroke:blue;stroke-width:2\"/><image id=\"MNIST-Autoencoder_hidden1_1\" class=\"MNIST-Autoencoder_hidden1\" x=\"87.5\" y=\"625\" height=\"125\" width=\"125\" href=\"data:image/gif;base64,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\"><title>Layer: hidden1 (hidden)\n",
       " shape = (25,)\n",
       " Keras class = Dense\n",
       " activation = relu</title></image><text x=\"217.5\" y=\"689.5\" font-family=\"Verdana\" font-size=\"12\">hidden1</text><rect x=\"140.0\" y=\"752\" width=\"20.0\" height=\"47\" style=\"fill:white;stroke:none\"><title>Weights from input to hidden1\n",
       " hidden1/kernel has shape (784, 25)\n",
       " hidden1/bias has shape (25,)</title></rect><line x1=\"150.0\" y1=\"799\" x2=\"150.0\" y2=\"752\" stroke=\"blue\" stroke-width=\"2\" marker-end=\"url(#arrow)\"><title>Weights from input to hidden1\n",
       " hidden1/kernel has shape (784, 25)\n",
       " hidden1/bias has shape (25,)</title></line><rect x=\"49.0\" y=\"799\" width=\"202\" height=\"202\" style=\"fill:none;stroke:blue;stroke-width:2\"/><image id=\"MNIST-Autoencoder_input_1\" class=\"MNIST-Autoencoder_input\" x=\"50.0\" y=\"800\" height=\"200\" width=\"200\" href=\"data:image/gif;base64,R0lGODdhyADIAIAAAH9/fwAAACwAAAAAyADIAEAI/wABCBxIsKDBgwgTKlzIsKHDhxAjSpxIsaLFixgzatzIsaPHjyBDihxJsqTJkyhTqlzJsqXLlzBjypxJs6bNmzhz6tzJs6fPn0CDCh1KtKjRo0iTKl3KtKnTp1CjSp1KtarVq1izat3KtavXr2DDih1LtqzZs2jTql3Ltq3bt3Djyp1Lt67du3jz6t3Lt6/fv4ADCx5MuLDhw4gTK17MuLHjx5AjS55MubLly5gza97MubPnz6BDix5NurTp06hTq17NurXr17Bjy55Nu7bt27hz697Nu7fv38CDCx9OvLjx48iTK1/OvLnz59CjS59Ovbr169iza9/Ovbv37+DDi60fT768+fPo06tfz769+/fw48ufT7++/fv48+vfz7+/f4AABA4kWNDgQYQJFS5k2NDhQ4gRJU6kWNHiRYwZNW7k2NHjR5AhRY4kWdLkSZQpVa5k2dLlS5gxZc6kWdPmTZw5de7k2dPnT6BBhQ4lWtToUaRJlS5l2tTpU6hRpU6lWtXqVaxZtW7l2tXrV7BhxY4lW9bsWbRp1a5l29btW7hx5c6lW9fuXbx59cINCAA7\"><title>Layer: input (input)\n",
       " shape = (784,)\n",
       " Keras class = Input</title></image><text x=\"255.0\" y=\"902.0\" font-family=\"Verdana\" font-size=\"12\">input</text></svg>"
      ],
      "text/plain": [
       "<Network name='MNIST-Autoencoder'>"
      ]
     },
     "execution_count": 21,
     "metadata": {},
     "output_type": "execute_result"
    }
   ],
   "source": [
    "net"
   ]
  },
  {
   "cell_type": "code",
   "execution_count": 22,
   "metadata": {},
   "outputs": [
    {
     "data": {
      "application/javascript": [
       "\n",
       "require(['base/js/namespace'], function(Jupyter) {\n",
       "    Jupyter.notebook.kernel.comm_manager.register_target('conx_svg_control', function(comm, msg) {\n",
       "        comm.on_msg(function(msg) {\n",
       "            var data = msg[\"content\"][\"data\"];\n",
       "            var images = document.getElementsByClassName(data[\"class\"]);\n",
       "            for (var i = 0; i < images.length; i++) {\n",
       "                images[i].setAttributeNS(null, \"href\", data[\"href\"]);\n",
       "            }\n",
       "        });\n",
       "    });\n",
       "});\n"
      ],
      "text/plain": [
       "<IPython.core.display.Javascript object>"
      ]
     },
     "metadata": {},
     "output_type": "display_data"
    },
    {
     "data": {
      "image/svg+xml": [
       "\n",
       "        <svg id='MNIST-Autoencoder' xmlns='http://www.w3.org/2000/svg' width=\"300\" height=\"1050\">\n",
       "    <defs>\n",
       "        <marker id=\"arrow\" markerWidth=\"10\" markerHeight=\"10\" refX=\"9\" refY=\"3\" orient=\"auto\" markerUnits=\"strokeWidth\">\n",
       "          <path d=\"M0,0 L0,6 L9,3 z\" fill=\"blue\" />\n",
       "        </marker>\n",
       "    </defs>\n",
       "<rect x=\"49.0\" y=\"24\" width=\"202\" height=\"202\" style=\"fill:none;stroke:blue;stroke-width:2\"/><image id=\"MNIST-Autoencoder_output_2\" class=\"MNIST-Autoencoder_output\" x=\"50.0\" y=\"25\" height=\"200\" width=\"200\" href=\"data:image/gif;base64,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\"><title>Layer: output (output)\n",
       " shape = (784,)\n",
       " Keras class = Dense\n",
       " activation = sigmoid</title></image><text x=\"255.0\" y=\"127.0\" font-family=\"Verdana\" font-size=\"12\">output</text><rect x=\"140.0\" y=\"227\" width=\"20.0\" height=\"47\" style=\"fill:white;stroke:none\"><title>Weights from hidden3 to output\n",
       " output/kernel has shape (25, 784)\n",
       " output/bias has shape (784,)</title></rect><line x1=\"150.0\" y1=\"274\" x2=\"150.0\" y2=\"227\" stroke=\"blue\" stroke-width=\"2\" marker-end=\"url(#arrow)\"><title>Weights from hidden3 to output\n",
       " output/kernel has shape (25, 784)\n",
       " output/bias has shape (784,)</title></line><rect x=\"86.5\" y=\"274\" width=\"127\" height=\"127\" style=\"fill:none;stroke:blue;stroke-width:2\"/><image id=\"MNIST-Autoencoder_hidden3_2\" class=\"MNIST-Autoencoder_hidden3\" x=\"87.5\" y=\"275\" height=\"125\" width=\"125\" href=\"data:image/gif;base64,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\"><title>Layer: hidden3 (hidden)\n",
       " shape = (25,)\n",
       " Keras class = Dense\n",
       " activation = relu</title></image><text x=\"217.5\" y=\"339.5\" font-family=\"Verdana\" font-size=\"12\">hidden3</text><rect x=\"140.0\" y=\"402\" width=\"20.0\" height=\"47\" style=\"fill:white;stroke:none\"><title>Weights from hidden2 to hidden3\n",
       " hidden3/kernel has shape (25, 25)\n",
       " hidden3/bias has shape (25,)</title></rect><line x1=\"150.0\" y1=\"449\" x2=\"150.0\" y2=\"402\" stroke=\"blue\" stroke-width=\"2\" marker-end=\"url(#arrow)\"><title>Weights from hidden2 to hidden3\n",
       " hidden3/kernel has shape (25, 25)\n",
       " hidden3/bias has shape (25,)</title></line><rect x=\"86.5\" y=\"449\" width=\"127\" height=\"127\" style=\"fill:none;stroke:blue;stroke-width:2\"/><image id=\"MNIST-Autoencoder_hidden2_2\" class=\"MNIST-Autoencoder_hidden2\" x=\"87.5\" y=\"450\" height=\"125\" width=\"125\" href=\"data:image/gif;base64,R0lGODdhfQB9AIQAAAAAAAMDAwkJCQoKCh8fH0FBQUlJSU9PT1ZWVlhYWGtra4yMjI+Pj5mZmbe3t+3t7f///wAAAAAAAAAAAAAAAAAAAAAAAAAAAAAAAAAAAAAAAAAAAAAAAAAAAAAAAAAAACwAAAAAfQB9AEAI/wAPCBxIsKBBggQSKlzIsOFCABAjSpxIUWKAixgzatyYcYHHjyBDigR5oKTJkyhTniTAsqXLlzBdAphJs6bNmzUD6NzJs6dPnguCCh1KtOjQA0iTKl3KVCmBp1CjSp0aFYDVq1izasUaoKvXr2DDfl1AtqzZs2jNHljLtq3bt20JyJ1Lt65dugDy6t3Lt+/eAIADCx5MWPCCw4gTK16ceIDjx5AjS4bcoLLly5gzXwbAubPnz6BDix5NuvToAahTq17NWnWD17Bjy54dG4Dt27hz697Nu7fv370HCB9OvLhx4g2SK1/OvPlyANCjS59Ovbr169iza99+vYD37+DDi/8HL6C8+fPo058HwL69+/fw3TOYT7++/fv1Aejfz7+/f4AABAIoUNDgQYQJDwpg2NDhQ4gOAUykWNHixYoMNG7k2NEjRwAhRY4kWXJkAZQpVa5kqVLAS5gxZc6MCcDmTZw5deJk0NPnT6BBfz4gWtToUaRGASxl2tTp06YQpE6lWtUqVQBZtW7l2nUrArBhxY4lK/bBWbRp1a5NC8DtW7hx5cKFUNfuXbx57wLg29fvX8B+EQwmXNjw4cIPFC9m3NgxYwCRJU+mXHkyBMyZNW/mrBnAZ9ChRY8OjcD0adSpVaNO0Nr1a9ixXxugXdv2bdy2Hezm3dv3794AhA8nXtz/OHEFyZUvZ958eQLo0aVPpy7dwHXs2bVvz+7A+3fw4cWDB1De/Hn06c8rYN/e/Xv47hPMp1/f/v36BvTv59/fP0ADAg04KGjwIMKEBwEwbOjwIUSHCiZSrGjxYsUDGjdy7OiRI4GQIkeSLDkSAMqUKleyVBngJcyYMmfGXGDzJs6cOnEe6OnzJ9CgPwkQLWr0KFKjAJYyber0adMAUqdSrWqV6oKsWrdy7br1ANiwYseSFUvgLNq0atemBeD2Ldy4cuEGqGv3Lt68dxfw7ev3L2C/AwYTLmz4cOEGihczbuyYMYDIkidTrmz5MubMmjEP6Oz5M+jQnxuQLm36NGrT/wBWs27t+jXs2LJn05Y94Dbu3Lp3527g+zfw4MKBAyhu/Djy5MqXM2/u/Dl05gWmU69u/Xp1Adq3c+/unTuA8OLHky8/ngH69OrXs1cP4D38+PLnxy9g/z7+/PrxC+jvH6AAgQMJFiQIAGFChQsZKmTwEGJEiRMjArB4EWNGjRgLdPT4EWTIjwJIljR5EqVJACtZtnT5siUDmTNp1rRJ80FOnTt59twJAGhQoUOJCoVwFGlSpUuTAnD6FGpUqVARVLV6FWvWqw+4dvX6FaxXAGPJljV7tiwEtWvZtnXLFkBcuXPp1p2LAG9evXv56n3wF3BgwYMDAzB8GHFixYghNP92/Bhy5McAKFe2fBmzZQSbOXf2/LlzAtGjSZc2TdpAatWrWbde7QB2bNmzacsGcBt3bt27cyvw/Rt4cOHAExQ3fhx58uMGmDd3/hy6cwfTqVe3fr06AO3buXf3zl1BePHjyZcfnwB9evXr2as38B5+fPnz4zuwfx9/fv34AfT3DxCAwIEECxJUgDChwoUMFSZ4CDGixIkRDVi8iDGjRowOOnr8CDLkRwAkS5o8idKkgpUsW7p82fKAzJk0a9qkSSCnzp08e+4EADSo0KFEhQY4ijSp0qVJFzh9CjWqVKgHqlq9ijXrVQJcu3r9CtYrgLFky5o9WzaA2rVs27pluyD/rty5dOvOPYA3r969fPUS+As4sODBgQEYPow4sWLEARo7fgw58uMFlCtbvozZ8oHNnDt7/tyZgOjRpEubJg0gterVrFuvDgA7tuzZtGUvuI07t+7duQ/4/g08uHDgBIobP448+XEAzJs7fw7deYDp1Ktbv159gfbt3Lt7534gvPjx5MuPJ4A+vfr17NUDeA8/vvz58QPYv48/v378C/r7B7hA4ECCBQkOQJhQ4UKGChs8hBhR4sSIACxexJhR40aOHT1+7DhA5EiSJU2SbJBS5UqWLVcCgBlT5kyaNW3exJnz5gCePX3+BOqzwVCiRY0eLQpA6VKmTZ0+hRpV6tSo/wOsXsWaVSvWBl29fgUb9isAsmXNnkWbVu1atm3XDoAbV+5cunIb3MWbV+/evAD8/gUcWPBgwoUNHy48QPFixo0dM24QWfJkypUnA8CcWfNmzp09fwYdWvTozwVMn0adWjVqAa1dv4Yd+zUA2rVt38Ztm8Fu3r19/+4NQPhw4sWNEy+QXPly5s2XC4AeXfp06tIBXMeeXfv27Ay8fwcfXjx4AOXNn0ef/nwB9u3dv4fvXsB8+vXt368PQP9+/v39AwQgEACDggYPIkx4EADDhg4fQnRYYCLFihYvVhSgcSPHjh45AggpciTJkiMZoEypciVLlQBewowpc2bMAjZv4v/MqROngJ4+fwIN+hMA0aJGjyI1ymAp06ZOnzYFIHUq1apWqRbIqnUr165bBYANK3YsWbEAzqJNq3ZtWgZu38KNKxcugLp27+LNe7cA375+/wL2K2Aw4cKGDxcGoHgx48aOGTOILHky5cqTH2DOrHkzZ80APoMOLXp0aAimT6NOrRo1gNauX8OO/RoB7dq2b+O2/WA3796+f/cGIHw48eLGiUNIrnw58+bLAUCPLn06dekIrmPPrn179gfev4MPLx48gPLmz6NPfx4C+/bu38N3D2A+/fr279dHoH8///7+ASIQiOBBQYMHESY8CIBhQ4cPITqEMJFiRYsXKwLQuJH/Y0ePHBGEFDmSZMmRD1CmVLmSpUoAL2HGlDkzJgSbN3Hm1IkTQE+fP4EG/YmAaFGjR5EafbCUaVOnT5sCkDqValWrVCFk1bqVa9etAMCGFTuWrFgEZ9GmVbs2bQK3b+HGlQvXQF27d/HmveuAb1+/fwH7BTCYcGHDhwsrULyYcWPHjBNEljyZcuXJBjBn1ryZs2YHn0GHFj06NADTp1GnVo1aQWvXr2HHfp2Adm3bt3HbNrCbd2/fv3s7ED6ceHHjxAEkV76cefPlCqBHlz6duvQE17Fn1749uwHv38GHFw/eQXnz59GnPw+AfXv37+G7VzCffn379+sn0L+ff3///wATCExgoKDBgwgTHnTAsKHDhxAdAphIsaLFixUVaNzIsaNHjglCihxJsuRIAyhTqlzJUqWDlzBjypwZE4DNmzhz6sSpoKfPn0CD/jxAtKjRo0iNEljKtKnTp00BSJ1KtapVqgGyat3KtevWBWDDih1LVuyBs2jTql2bloDbt3DjyoULoK7du3jz3g3At6/fv4D9LhhMuLDhw4UPKF7MuLFjxgQiS55MufJkAJgza97MWXOAz6BDix4deoHp06hTq0Z9oLXr17BjvyZAu7bt27htA9jNu7fv370DCB9OvLhx4guSK1/OvPnyA9CjS59OXTqB69iza9+eHYD37+DDi/8HH6C8+fPo059fwL69+/fw3R+YT7++/fv1Cejfz7+/f4AEBBIAUNDgQYQJDwZg2NDhQ4gOF0ykWNHixYoHNG7k2NEjRwIhRY4kWXIkAJQpVa5kqTLAS5gxZc6MucDmTZw5deI80NPnT6BBfxIgWtToUaRGASxl2tTp06YBpE6lWtUq1QVZtW7l2nXrAbBhxY4lK5bAWbRp1a5NC8DtW7hx5cINUNfuXbx57y7g29fvX8B+DwwmXNjw4cIEFC9m3NgxYwCRJU+mXHlyAMyZNW/mrHnBZ9ChRY8OfcD0adSpVaMm0Nr1a9ixXwOgXdv2bdy2A+zm3dv3794LhA8nXtz/OPEDyZUvZ958OQHo0aVPpy4dwHXs2bVvzx7A+3fw4cWDX1De/Hn06c8PYN/e/Xv47hvMp1/f/v36APTv59/fP0AAAgcSLGjwIMKECQcwbOjwIUSHDSZSrGjxYkUAGjdy7OjxI8iQIkeGHGDyJMqUKlE2aOnyJcyYLwHQrGnzJs6cOnfy7LlzANCgQocSFdrgKNKkSpcmBeD0KdSoUqdSrWr1atUBWrdy7eqVa4OwYseSLTsWANq0ateybev2Ldy4bwfQrWv3Ll67Dfby7ev3b18AggcTLmz4MOLEihcnHuD4MeTIkiE3qGz5MubMlwFw7uz5M+jQokeTLj16AOrU/6pXs1bd4DXs2LJnxwZg+zbu3Lp38+7t+3fvAcKHEy9unHiD5MqXM2++HAD06NKnU69u/Tr27NcHcO/u/Tt47w3Gky9v/nx5AOrXs2/v/j38+PLnxx9g/z7+/PrxN+jvH2ADgQMJFiQIAGFChQsZNnT4EGLEhwMoVrR4EaPFBhs5dvT4sSMAkSNJljR5EmVKlStTDnD5EmZMmTAb1LR5E2fOmwB49vT5E2hQoUOJFjV6dGgBpUuZNnXKVEBUqVOpVp0KAGtWrVu5amXwFWxYsWPDAjB7Fm1atWgLtHX7Fm7ctwLo1rV7F69dAHv59vX7ty8DwYMJFzZMGEBixYsZN/9eXAByZMmTKUsWcBlzZs2bMwPw/Bl0aNGgGZQ2fRp16tMAWLd2/Rq26wKzade2fbu2AN27eff2zRtAcOHDiRcfzgB5cuXLmSsH8Bx6dOnToxewfh17du3YBXT3/h18+O8AyJc3fx69eQbr2bd3/749APnz6de3T79Afv37+fffD1CAwIEECxokCCChwoUMGy5kADGixIkUJQK4iDGjxo0ZC3j8CDKkSJACSpo8iTLlSQAsW7p8CdMlg5k0a9q8WROAzp08e/rkWSCo0KFEiw4VgDSp0qVMlQJ4CjWq1KlRGVi9ijWrVqwAunr9Cjbs1wJky5o9i9asgLVs27p92xb/gNy5dOvapcsgr969fPvuBQA4sODBhAUXOIw4seLFiQU4fgw5smTIACpbvow582UGnDt7/gzaM4DRpEubPl26gOrVrFu7Zi0gtuzZtGvPBoA7t+7dvHUz+A08uPDhwQEYP448uXLkBZo7fw49+nMB1Ktbv47dOoDt3Lt7/96dgfjx5MubJ/8gvfr17NuvBwA/vvz59OVDuI8/v/79+QH4BwhA4ECCBQ0CQJBQ4UKGDRc+gBhR4kSKEgFcxJhR48aMEDx+BBlSJEgAJU2eRJnyJAKWLV2+hOnywUyaNW3erAlA506ePX3yhBBU6FCiRYcCQJpU6VKmShE8hRpV6tSo/w+sXsWaVStWAF29fgUb9isEsmXNnkVrFsBatm3dvm2LQO5cunXt0n2QV+9evn33AgAcWPBgwoIhHEacWPHixAAcP4YcWTJkBJUtX8ac+fIDzp09fwbtGcBo0qVNny4NQfVq1q1dswYQW/Zs2rVnI8CdW/du3rof/AYeXPjw4ACMH0eeXDlyCM2dP4ce/TkA6tWtX8duHcF27t29f+/+QPx48uXNkweQXv169u3XQ4AfX/58+vIB3MefX//+/Aj8A0QgcCDBggYRPEiocCHDhgsBQIwocSJFiRAuYsyocWNGAB4/ggwpEiSCkiZPokx58gHLli5fwnQJYCbNmjZv1v+EoHMnz54+eQIIKnQo0aJDESBNqnQpU6UPnkKNKnVqVABWr2LNqhUrhK5ev4IN+xUA2bJmz6I1i2At27Zu37Z9IHcu3bp26QLIq3cv3757IQAOLHgwYcEADiNOrHhxYgSOH0OOLBnyg8qWL2POfBkA586eP4P2DGE06dKmT5cGoHo169auWSOILXs27dqzE+DOrXs3b90GfgMPLnx4cAfGjyNPrhw5gObOn0OP/lwB9erWr2O3nmA79+7ev3c3IH48+fLmyTtIr349+/brAcCPL38+ffkK7uPPr39//gT+ASYQOJBgQYMJDCRUuJBhw4UOIEaUOJGiRAAXMWbUuDH/owKPH0GGFAkyQUmTJ1GmPGmAZUuXL2G6dDCTZk2bN2sC0LmTZ0+fPBUEFTqUaNGhCZAmVbqUqVIDT6FGlTo1qgOrV7Fm1YoVQFevX8GG/aqAbFmzZ9GaTbCWbVu3b9sakDuXbl27dB3k1buXb9+9AAAHFjyYsGAFhxEnVrw4cQLHjyFHlgzZQGXLlzFnvuyAc2fPn0F7BjCadGnTp0srUL2adWvXrBPElj2bdu3ZBnDn1r2bt24Hv4EHFz48OADjx5EnV45cQXPnz6FHf56AenXr17FbN7Cde3fv37s7ED+efHnz5AGkV7+effv1CuDHlz+fvvwE9/Hn178/vwH/cQANCBxIsKBBAw4SKlzIsOFCABAjSpxIUaKCixgzatyYMYHHjyBDigRpoKTJkyhTnnTAsqXLlzBdAphJs6bNmzUV6NzJs6dPngmCCh1KtOhQA0iTKl3KVKmDp1CjSp0aFYDVq1izasWqoKvXr2DDfg0IADs=\"><title>Layer: hidden2 (hidden)\n",
       " shape = (25,)\n",
       " Keras class = Dense\n",
       " activation = relu</title></image><text x=\"217.5\" y=\"514.5\" font-family=\"Verdana\" font-size=\"12\">hidden2</text><rect x=\"140.0\" y=\"577\" width=\"20.0\" height=\"47\" style=\"fill:white;stroke:none\"><title>Weights from hidden1 to hidden2\n",
       " hidden2/kernel has shape (25, 25)\n",
       " hidden2/bias has shape (25,)</title></rect><line x1=\"150.0\" y1=\"624\" x2=\"150.0\" y2=\"577\" stroke=\"blue\" stroke-width=\"2\" marker-end=\"url(#arrow)\"><title>Weights from hidden1 to hidden2\n",
       " hidden2/kernel has shape (25, 25)\n",
       " hidden2/bias has shape (25,)</title></line><rect x=\"86.5\" y=\"624\" width=\"127\" height=\"127\" style=\"fill:none;stroke:blue;stroke-width:2\"/><image id=\"MNIST-Autoencoder_hidden1_2\" class=\"MNIST-Autoencoder_hidden1\" x=\"87.5\" y=\"625\" height=\"125\" width=\"125\" href=\"data:image/gif;base64,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\"><title>Layer: hidden1 (hidden)\n",
       " shape = (25,)\n",
       " Keras class = Dense\n",
       " activation = relu</title></image><text x=\"217.5\" y=\"689.5\" font-family=\"Verdana\" font-size=\"12\">hidden1</text><rect x=\"140.0\" y=\"752\" width=\"20.0\" height=\"47\" style=\"fill:white;stroke:none\"><title>Weights from input to hidden1\n",
       " hidden1/kernel has shape (784, 25)\n",
       " hidden1/bias has shape (25,)</title></rect><line x1=\"150.0\" y1=\"799\" x2=\"150.0\" y2=\"752\" stroke=\"blue\" stroke-width=\"2\" marker-end=\"url(#arrow)\"><title>Weights from input to hidden1\n",
       " hidden1/kernel has shape (784, 25)\n",
       " hidden1/bias has shape (25,)</title></line><rect x=\"49.0\" y=\"799\" width=\"202\" height=\"202\" style=\"fill:none;stroke:blue;stroke-width:2\"/><image id=\"MNIST-Autoencoder_input_2\" class=\"MNIST-Autoencoder_input\" x=\"50.0\" y=\"800\" height=\"200\" width=\"200\" href=\"data:image/gif;base64,R0lGODdhyADIAIAAAH9/fwAAACwAAAAAyADIAEAI/wABCBxIsKDBgwgTKlzIsKHDhxAjSpxIsaLFixgzatzIsaPHjyBDihxJsqTJkyhTqlzJsqXLlzBjypxJs6bNmzhz6tzJs6fPn0CDCh1KtKjRo0iTKl3KtKnTp1CjSp1KtarVq1izat3KtavXr2DDih1LtqzZs2jTql3Ltq3bt3Djyp1Lt67du3jz6t3Lt6/fv4ADCx5MuLDhw4gTK17MuLHjx5AjS55MubLly5gza97MubPnz6BDix5NurTp06hTq17NurXr17Bjy55Nu7bt27hz697Nu7fv38CDCx9OvLjx48iTK1/OvLnz59CjS59Ovbr169iza9/Ovbv37+DDi60fT768+fPo06tfz769+/fw48ufT7++/fv48+vfz7+/f4AABA4kWNDgQYQJFS5k2NDhQ4gRJU6kWNHiRYwZNW7k2NHjR5AhRY4kWdLkSZQpVa5k2dLlS5gxZc6kWdPmTZw5de7k2dPnT6BBhQ4lWtToUaRJlS5l2tTpU6hRpU6lWtXqVaxZtW7l2tXrV7BhxY4lW9bsWbRp1a5l29btW7hx5c6lW9fuXbx59cINCAA7\"><title>Layer: input (input)\n",
       " shape = (784,)\n",
       " Keras class = Input</title></image><text x=\"255.0\" y=\"902.0\" font-family=\"Verdana\" font-size=\"12\">input</text></svg>"
      ],
      "text/plain": [
       "<Network name='MNIST-Autoencoder'>"
      ]
     },
     "execution_count": 22,
     "metadata": {},
     "output_type": "execute_result"
    }
   ],
   "source": [
    "net"
   ]
  },
  {
   "cell_type": "code",
   "execution_count": 23,
   "metadata": {
    "collapsed": true
   },
   "outputs": [],
   "source": [
    "output = net.propagate(train_inputs[random.randint(0,1000)].reshape((784, )))"
   ]
  },
  {
   "cell_type": "code",
   "execution_count": 24,
   "metadata": {
    "collapsed": true
   },
   "outputs": [],
   "source": [
    "train_inputs = np.array([pattern.reshape((784,)) for pattern in train_inputs])"
   ]
  },
  {
   "cell_type": "code",
   "execution_count": 25,
   "metadata": {},
   "outputs": [
    {
     "name": "stdout",
     "output_type": "stream",
     "text": [
      "60000 train inputs, 0 test inputs\n",
      "Set 60000 inputs and targets\n",
      "Input data shape: (784,), range: (0, 255), type: uint8\n",
      "Target data shape: (784,), range: (0, 255), type: uint8\n"
     ]
    }
   ],
   "source": [
    "net.set_dataset_direct(train_inputs, train_inputs)"
   ]
  },
  {
   "cell_type": "code",
   "execution_count": 26,
   "metadata": {},
   "outputs": [
    {
     "name": "stdout",
     "output_type": "stream",
     "text": [
      "Split dataset into:\n",
      "   6000 train inputs\n",
      "   54000 test inputs\n"
     ]
    }
   ],
   "source": [
    "net.split_dataset(0.10)"
   ]
  },
  {
   "cell_type": "code",
   "execution_count": 28,
   "metadata": {},
   "outputs": [
    {
     "name": "stdout",
     "output_type": "stream",
     "text": [
      "Training...\n",
      "Epoch #   23 | train loss -462.59628 | train acc 0.32373 | validate% 0.00000\n",
      "Epoch #   24 | train loss -468.51141 | train acc 0.32581 | validate% 0.00000\n",
      "Epoch #   25 | train loss -473.51440 | train acc 0.32803 | validate% 0.00000\n",
      "Epoch #   26 | train loss -476.82687 | train acc 0.32996 | validate% 0.00000\n",
      "Epoch #   27 | train loss -478.63983 | train acc 0.33102 | validate% 0.00000\n",
      "Epoch #   28 | train loss -479.63916 | train acc 0.33213 | validate% 0.00000\n",
      "Epoch #   29 | train loss -480.15137 | train acc 0.33374 | validate% 0.00000\n",
      "Epoch #   30 | train loss -480.40634 | train acc 0.33506 | validate% 0.00000\n",
      "Epoch #   31 | train loss -480.59192 | train acc 0.33625 | validate% 0.00000\n",
      "Epoch #   32 | train loss -480.87784 | train acc 0.33768 | validate% 0.00000\n",
      "Epoch #   33 | train loss -481.41568 | train acc 0.33916 | validate% 0.00000\n",
      "Epoch #   34 | train loss -482.26779 | train acc 0.34016 | validate% 0.00000\n",
      "Epoch #   35 | train loss -483.18649 | train acc 0.34037 | validate% 0.00000\n",
      "Epoch #   36 | train loss -483.75720 | train acc 0.33921 | validate% 0.00000\n",
      "Epoch #   37 | train loss -484.08347 | train acc 0.33732 | validate% 0.00000\n",
      "Epoch #   38 | train loss -484.47083 | train acc 0.33551 | validate% 0.00000\n",
      "Epoch #   39 | train loss -485.09818 | train acc 0.33461 | validate% 0.00000\n",
      "Epoch #   40 | train loss -486.04889 | train acc 0.33496 | validate% 0.00000\n",
      "Epoch #   41 | train loss -487.16830 | train acc 0.33605 | validate% 0.00000\n",
      "Epoch #   42 | train loss -488.08353 | train acc 0.33708 | validate% 0.00000\n",
      "Epoch #   43 | train loss -488.64236 | train acc 0.33791 | validate% 0.00000\n",
      "Epoch #   44 | train loss -489.19550 | train acc 0.33830 | validate% 0.00000\n",
      "Epoch #   45 | train loss -490.19421 | train acc 0.33840 | validate% 0.00000\n",
      "Epoch #   46 | train loss -491.95157 | train acc 0.33867 | validate% 0.00000\n",
      "Epoch #   47 | train loss -494.01303 | train acc 0.33943 | validate% 0.00000\n",
      "Epoch #   48 | train loss -495.18622 | train acc 0.34036 | validate% 0.00000\n",
      "Epoch #   49 | train loss -495.48334 | train acc 0.34117 | validate% 0.00000\n",
      "Epoch #   50 | train loss -495.57782 | train acc 0.34156 | validate% 0.00000\n",
      "Epoch #   51 | train loss -495.69171 | train acc 0.34156 | validate% 0.00000\n",
      "Epoch #   52 | train loss -495.91547 | train acc 0.34131 | validate% 0.00000\n",
      "Epoch #   53 | train loss -496.38632 | train acc 0.34082 | validate% 0.00000\n",
      "\n",
      "Stopping at end of epoch... (^C again to quit now)...\n",
      "Epoch #   54 | train loss -497.34674 | train acc 0.34057 | validate% 0.00000\n",
      "========================================================================\n",
      "Epoch #   54 | train loss -497.34674 | train acc 0.34057 | validate% 0.00000\n"
     ]
    },
    {
     "ename": "KeyboardInterrupt",
     "evalue": "",
     "output_type": "error",
     "traceback": [
      "\u001b[0;31m---------------------------------------------------------------------------\u001b[0m",
      "\u001b[0;31mKeyboardInterrupt\u001b[0m                         Traceback (most recent call last)",
      "\u001b[0;32m<ipython-input-28-95a0ff0890be>\u001b[0m in \u001b[0;36m<module>\u001b[0;34m()\u001b[0m\n\u001b[0;32m----> 1\u001b[0;31m \u001b[0mnet\u001b[0m\u001b[0;34m.\u001b[0m\u001b[0mtrain\u001b[0m\u001b[0;34m(\u001b[0m\u001b[0maccuracy\u001b[0m\u001b[0;34m=\u001b[0m\u001b[0;36m0.5\u001b[0m\u001b[0;34m,\u001b[0m \u001b[0mepochs\u001b[0m\u001b[0;34m=\u001b[0m\u001b[0;36m1000\u001b[0m\u001b[0;34m,\u001b[0m \u001b[0mreport_rate\u001b[0m\u001b[0;34m=\u001b[0m\u001b[0;36m1\u001b[0m\u001b[0;34m)\u001b[0m\u001b[0;34m\u001b[0m\u001b[0m\n\u001b[0m",
      "\u001b[0;32m/usr/local/lib/python3.5/dist-packages/conx/network.py\u001b[0m in \u001b[0;36mtrain\u001b[0;34m(self, epochs, accuracy, batch_size, report_rate, tolerance, verbose, shuffle, class_weight, sample_weight)\u001b[0m\n\u001b[1;32m    497\u001b[0m                 print(\"Epoch #%5d | train loss %7.5f | train acc %7.5f | validate%% %7.5f\" %\n\u001b[1;32m    498\u001b[0m                       (self.epoch_count, loss, acc, val_percent))\n\u001b[0;32m--> 499\u001b[0;31m                 \u001b[0;32mraise\u001b[0m \u001b[0mKeyboardInterrupt\u001b[0m\u001b[0;34m\u001b[0m\u001b[0m\n\u001b[0m\u001b[1;32m    500\u001b[0m         \u001b[0;32mif\u001b[0m \u001b[0mverbose\u001b[0m\u001b[0;34m:\u001b[0m\u001b[0;34m\u001b[0m\u001b[0m\n\u001b[1;32m    501\u001b[0m             \u001b[0mprint\u001b[0m\u001b[0;34m(\u001b[0m\u001b[0;34m\"=\"\u001b[0m \u001b[0;34m*\u001b[0m \u001b[0;36m72\u001b[0m\u001b[0;34m)\u001b[0m\u001b[0;34m\u001b[0m\u001b[0m\n",
      "\u001b[0;31mKeyboardInterrupt\u001b[0m: "
     ]
    }
   ],
   "source": [
    "net.train(accuracy=0.5, epochs=1000, report_rate=1)"
   ]
  },
  {
   "cell_type": "code",
   "execution_count": 29,
   "metadata": {
    "collapsed": true
   },
   "outputs": [],
   "source": [
    "import time\n",
    "for i in range(20):\n",
    "    net.propagate(net.get_input(i))\n",
    "    time.sleep(1)"
   ]
  },
  {
   "cell_type": "code",
   "execution_count": null,
   "metadata": {
    "collapsed": true
   },
   "outputs": [],
   "source": []
  }
 ],
 "metadata": {
  "kernelspec": {
   "display_name": "Python 3",
   "language": "python",
   "name": "python3"
  },
  "language_info": {
   "codemirror_mode": {
    "name": "ipython",
    "version": 3
   },
   "file_extension": ".py",
   "mimetype": "text/x-python",
   "name": "python",
   "nbconvert_exporter": "python",
   "pygments_lexer": "ipython3",
   "version": "3.5.3"
  }
 },
 "nbformat": 4,
 "nbformat_minor": 2
}
