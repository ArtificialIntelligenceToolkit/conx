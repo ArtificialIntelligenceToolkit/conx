{
 "cells": [
  {
   "cell_type": "markdown",
   "metadata": {},
   "source": [
    "# Auto-encoder with Conv2D"
   ]
  },
  {
   "cell_type": "code",
   "execution_count": 1,
   "metadata": {},
   "outputs": [
    {
     "name": "stderr",
     "output_type": "stream",
     "text": [
      "conx, version 3.4.0\n",
      "Using Theano backend.\n"
     ]
    }
   ],
   "source": [
    "from conx import *"
   ]
  },
  {
   "cell_type": "code",
   "execution_count": 2,
   "metadata": {},
   "outputs": [],
   "source": [
    "net = Network(\"Auto-Encoding with Conv\")\n",
    "net.add(Layer(\"input\", (28,28,1), colormap=\"hot\", minmax=(0,1)))\n",
    "net.add(Conv2DLayer(\"Conv2D-1\", 16, (5,5), activation=\"relu\"))\n",
    "net.add(MaxPool2DLayer(\"maxpool1\", (2,2)))\n",
    "net.add(Conv2DLayer(\"Conv2D-2\", 132, (5,5), activation=\"relu\"))\n",
    "net.add(MaxPool2DLayer(\"maxpool2\", (2,2)))\n",
    "net.add(FlattenLayer(\"flatten\", visible=True))\n",
    "net.add(Layer(\"output\", 28 * 28, vshape=(28,28), activation='softmax'))"
   ]
  },
  {
   "cell_type": "code",
   "execution_count": 3,
   "metadata": {},
   "outputs": [],
   "source": [
    "net.connect()"
   ]
  },
  {
   "cell_type": "code",
   "execution_count": 4,
   "metadata": {},
   "outputs": [],
   "source": [
    "net.dataset.get(\"mnist\")"
   ]
  },
  {
   "cell_type": "code",
   "execution_count": 5,
   "metadata": {},
   "outputs": [],
   "source": [
    "net.compile(error=\"mse\", optimizer=\"adam\")"
   ]
  },
  {
   "cell_type": "code",
   "execution_count": 6,
   "metadata": {},
   "outputs": [
    {
     "data": {
      "application/javascript": [
       "\n",
       "require(['base/js/namespace'], function(Jupyter) {\n",
       "    Jupyter.notebook.kernel.comm_manager.register_target('conx_svg_control', function(comm, msg) {\n",
       "        comm.on_msg(function(msg) {\n",
       "            var data = msg[\"content\"][\"data\"];\n",
       "            var images = document.getElementsByClassName(data[\"class\"]);\n",
       "            for (var i = 0; i < images.length; i++) {\n",
       "                if (data[\"href\"]) {\n",
       "                    images[i].setAttributeNS(null, \"href\", data[\"href\"]);\n",
       "                }\n",
       "                if (data[\"src\"]) {\n",
       "                    images[i].setAttributeNS(null, \"src\", data[\"src\"]);\n",
       "                }\n",
       "            }\n",
       "        });\n",
       "    });\n",
       "});\n"
      ],
      "text/plain": [
       "<IPython.core.display.Javascript object>"
      ]
     },
     "metadata": {},
     "output_type": "display_data"
    },
    {
     "data": {
      "application/vnd.jupyter.widget-view+json": {
       "model_id": "24ad23a7756f43f1bcb1ffe9aab9baf8",
       "version_major": 2,
       "version_minor": 0
      },
      "text/html": [
       "<p>Failed to display Jupyter Widget of type <code>Dashboard</code>.</p>\n",
       "<p>\n",
       "  If you're reading this message in Jupyter Notebook or JupyterLab, it may mean\n",
       "  that the widgets JavaScript is still loading. If this message persists, it\n",
       "  likely means that the widgets JavaScript library is either not installed or\n",
       "  not enabled. See the <a href=\"https://ipywidgets.readthedocs.io/en/stable/user_install.html\">Jupyter\n",
       "  Widgets Documentation</a> for setup instructions.\n",
       "</p>\n",
       "<p>\n",
       "  If you're reading this message in another notebook frontend (for example, a static\n",
       "  rendering on GitHub or <a href=\"https://nbviewer.jupyter.org/\">NBViewer</a>),\n",
       "  it may mean that your frontend doesn't currently support widgets.\n",
       "</p>\n"
      ],
      "text/plain": [
       "Dashboard(children=(VBox(children=(VBox(children=(HBox(children=(Select(description='Dataset:', index=1, options=('Test', 'Train'), rows=1, value='Train'), Select(description='Features:', options=('', 'input', 'Conv2D-1', 'maxpool1', 'Conv2D-2', 'maxpool2'), rows=1, value=''), Button(icon='refresh', layout=Layout(width='40px'), style=ButtonStyle())), layout=Layout(height='40px')), HBox(children=(IntSlider(value=0, continuous_update=False, description='Dataset index', layout=Layout(width='95%'), max=69999), Label(value='of 0', layout=Layout(width='100px'))), layout=Layout(height='40px')), HBox(children=(Button(icon='fast-backward', layout=Layout(width='100%'), style=ButtonStyle()), Button(icon='backward', layout=Layout(width='100%'), style=ButtonStyle()), IntText(value=0, layout=Layout(width='100%')), Button(icon='forward', layout=Layout(width='100%'), style=ButtonStyle()), Button(icon='fast-forward', layout=Layout(width='100%'), style=ButtonStyle()), Button(description='Play', icon='play', layout=Layout(width='100%'), style=ButtonStyle())), layout=Layout(height='50px', width='100%'))), layout=Layout(width='95%')), HTML(value='<p style=\"text-align:center\"><svg id=\\'Auto-Encoding with Conv\\' xmlns=\\'http://www.w3.org/2000/svg\\' viewBox=\"0 0 350 1460\" height=\"780\" image-rendering=\"pixelated\">\\n    <defs>\\n        <marker id=\"arrow\" markerWidth=\"10\" markerHeight=\"10\" refX=\"9\" refY=\"3\" orient=\"auto\" markerUnits=\"strokeWidth\">\\n          <path d=\"M0,0 L0,6 L9,3 z\" fill=\"black\" />\\n        </marker>\\n    </defs><text x=\"175.0\" y=\"12.5\" font-family=\"monospace\" font-size=\"15\" text-anchor=\"middle\" alignment-baseline=\"central\">Auto-Encoding with Conv</text><rect x=\"74.0\" y=\"29\" width=\"202\" height=\"202\" style=\"fill:none;stroke:black;stroke-width:2\"/><image id=\"Auto-Encoding with Conv_output_1\" class=\"Auto-Encoding with Conv_output\" x=\"75.0\" y=\"30\" height=\"200\" width=\"200\" preserveAspectRatio=\"none\" href=\"data:image/gif;base64,R0lGODdhHAAcAIcAAP/9/QAAAAAAAAAAAAAAAAAAAAAAAAAAAAAAAAAAAAAAAAAAAAAAAAAAAAAAAAAAAAAAAAAAAAAAAAAAAAAAAAAAAAAAAAAAAAAAAAAAAAAAAAAAAAAAAAAAAAAAAAAAAAAAAAAAAAAAAAAAAAAAAAAAAAAAAAAAAAAAAAAAAAAAAAAAAAAAAAAAAAAAAAAAAAAAAAAAAAAAAAAAAAAAAAAAAAAAAAAAAAAAAAAAAAAAAAAAAAAAAAAAAAAAAAAAAAAAAAAAAAAAAAAAAAAAAAAAAAAAAAAAAAAAAAAAAAAAAAAAAAAAAAAAAAAAAAAAAAAAAAAAAAAAAAAAAAAAAAAAAAAAAAAAAAAAAAAAAAAAAAAAAAAAAAAAAAAAAAAAAAAAAAAAAAAAAAAAAAAAAAAAAAAAAAAAAAAAAAAAAAAAAAAAAAAAAAAAAAAAAAAAAAAAAAAAAAAAAAAAAAAAAAAAAAAAAAAAAAAAAAAAAAAAAAAAAAAAAAAAAAAAAAAAAAAAAAAAAAAAAAAAAAAAAAAAAAAAAAAAAAAAAAAAAAAAAAAAAAAAAAAAAAAAAAAAAAAAAAAAAAAAAAAAAAAAAAAAAAAAAAAAAAAAAAAAAAAAAAAAAAAAAAAAAAAAAAAAAAAAAAAAAAAAAAAAAAAAAAAAAAAAAAAAAAAAAAAAAAAAAAAAAAAAAAAAAAAAAAAAAAAAAAAAAAAAAAAAAAAAAAAAAAAAAAAAAAAAAAAAAAAAAAAAAAAAAAAAAAAAAAAAAAAAAAAAAAAAAAAAAAAAAAAAAAAAAAAAAAAAAAAAAAAAAAAAAAAAAAAAAAAAAAAAAAAAAAAAAAAAAAAAAAAAAAAAAAAAAAAAAAAAAAAAAAAAAAAAAAAAAAAAAAAAAAAAAAAAAAAAAAAAAAAAAAAAAAAAAAAAAAAAAAAAAAAAAAAAAAAAAAAAAAAAAAAAAAAAAAAAAAAAAAAAAAAAAAAAAAAAAAAAAAAAAAAAAAAAAAAAAAAAAAAAAAAAAAAAAAAAACwAAAAAHAAcAEAIMAABCBxIsKDBgwgTKlzIsKHDhxAjSpxIsaLFixgzatzIsaPHjyBDihxJsqTJkwQDAgA7\"><title>Layer: output (output)\\n shape = (784,)\\n Keras class = Dense\\n activation = softmax</title></image><text x=\"280.0\" y=\"132.0\" font-family=\"monospace\" font-size=\"12\" text-anchor=\"start\" alignment-baseline=\"central\">output</text><line x1=\"175.0\" y1=\"259\" x2=\"175.0\" y2=\"232\" stroke=\"black\" stroke-width=\"2\" marker-end=\"url(#arrow)\"><title>Weights from flatten to output\\n output/kernel has shape (2112, 784)\\n output/bias has shape (784,)</title></line><rect x=\"74.0\" y=\"259\" width=\"202\" height=\"27\" style=\"fill:none;stroke:black;stroke-width:2\"/><image id=\"Auto-Encoding with Conv_flatten_2\" class=\"Auto-Encoding with Conv_flatten\" x=\"75.0\" y=\"260\" height=\"25\" width=\"200\" preserveAspectRatio=\"none\" href=\"data:image/gif;base64,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\"><title>Layer: flatten (hidden)\\n Keras class = Flatten</title></image><text x=\"280.0\" y=\"274.5\" font-family=\"monospace\" font-size=\"12\" text-anchor=\"start\" alignment-baseline=\"central\">flatten</text><line x1=\"175.0\" y1=\"314\" x2=\"175.0\" y2=\"287\" stroke=\"black\" stroke-width=\"2\" marker-end=\"url(#arrow)\"><title>Weights from maxpool2 to flatten</title></line><rect x=\"74.0\" y=\"314\" width=\"202\" height=\"202\" style=\"fill:none;stroke:black;stroke-width:2\"/><image id=\"Auto-Encoding with Conv_maxpool2_3\" class=\"Auto-Encoding with Conv_maxpool2\" x=\"75.0\" y=\"315\" height=\"200\" width=\"200\" preserveAspectRatio=\"none\" href=\"data:image/gif;base64,R0lGODdhBAAEAIcAAP37/eXl/9nZ/wAAAAAAAAAAAAAAAAAAAAAAAAAAAAAAAAAAAAAAAAAAAAAAAAAAAAAAAAAAAAAAAAAAAAAAAAAAAAAAAAAAAAAAAAAAAAAAAAAAAAAAAAAAAAAAAAAAAAAAAAAAAAAAAAAAAAAAAAAAAAAAAAAAAAAAAAAAAAAAAAAAAAAAAAAAAAAAAAAAAAAAAAAAAAAAAAAAAAAAAAAAAAAAAAAAAAAAAAAAAAAAAAAAAAAAAAAAAAAAAAAAAAAAAAAAAAAAAAAAAAAAAAAAAAAAAAAAAAAAAAAAAAAAAAAAAAAAAAAAAAAAAAAAAAAAAAAAAAAAAAAAAAAAAAAAAAAAAAAAAAAAAAAAAAAAAAAAAAAAAAAAAAAAAAAAAAAAAAAAAAAAAAAAAAAAAAAAAAAAAAAAAAAAAAAAAAAAAAAAAAAAAAAAAAAAAAAAAAAAAAAAAAAAAAAAAAAAAAAAAAAAAAAAAAAAAAAAAAAAAAAAAAAAAAAAAAAAAAAAAAAAAAAAAAAAAAAAAAAAAAAAAAAAAAAAAAAAAAAAAAAAAAAAAAAAAAAAAAAAAAAAAAAAAAAAAAAAAAAAAAAAAAAAAAAAAAAAAAAAAAAAAAAAAAAAAAAAAAAAAAAAAAAAAAAAAAAAAAAAAAAAAAAAAAAAAAAAAAAAAAAAAAAAAAAAAAAAAAAAAAAAAAAAAAAAAAAAAAAAAAAAAAAAAAAAAAAAAAAAAAAAAAAAAAAAAAAAAAAAAAAAAAAAAAAAAAAAAAAAAAAAAAAAAAAAAAAAAAAAAAAAAAAAAAAAAAAAAAAAAAAAAAAAAAAAAAAAAAAAAAAAAAAAAAAAAAAAAAAAAAAAAAAAAAAAAAAAAAAAAAAAAAAAAAAAAAAAAAAAAAAAAAAAAAAAAAAAAAAAAAAAAAAAAAAAAAAAAAAAAAAAAAAAAAAAAAAAAAAAAAAAAAAAAAAAAAAAAAAAAAAAAAAAAAAAAAAAAAAAAAAAAAAAAAAAAAAAAAAAAAAAAAAAAAAAACwAAAAABAAEAAAIEAABAAgQAIDBAAASKhQQICAAOw==\"><title>Layer: maxpool2 (hidden)\\n Keras class = MaxPooling2D</title></image><text x=\"280.0\" y=\"417.0\" font-family=\"monospace\" font-size=\"12\" text-anchor=\"start\" alignment-baseline=\"central\">maxpool2</text><text x=\"280.0\" y=\"320\" font-family=\"monospace\" font-size=\"12\" text-anchor=\"start\" alignment-baseline=\"central\">132</text><text x=\"63.0\" y=\"510\" font-family=\"monospace\" font-size=\"12\" text-anchor=\"start\" alignment-baseline=\"central\">0</text><line x1=\"175.0\" y1=\"544\" x2=\"175.0\" y2=\"517\" stroke=\"black\" stroke-width=\"2\" marker-end=\"url(#arrow)\"><title>Weights from Conv2D-2 to maxpool2</title></line><rect x=\"74.0\" y=\"544\" width=\"202\" height=\"202\" style=\"fill:none;stroke:black;stroke-width:2\"/><image id=\"Auto-Encoding with Conv_Conv2D-2_4\" class=\"Auto-Encoding with Conv_Conv2D-2\" x=\"75.0\" y=\"545\" height=\"200\" width=\"200\" preserveAspectRatio=\"none\" href=\"data:image/gif;base64,R0lGODdhCAAIAIcAAP37/ejo/9nZ/wAAAAAAAAAAAAAAAAAAAAAAAAAAAAAAAAAAAAAAAAAAAAAAAAAAAAAAAAAAAAAAAAAAAAAAAAAAAAAAAAAAAAAAAAAAAAAAAAAAAAAAAAAAAAAAAAAAAAAAAAAAAAAAAAAAAAAAAAAAAAAAAAAAAAAAAAAAAAAAAAAAAAAAAAAAAAAAAAAAAAAAAAAAAAAAAAAAAAAAAAAAAAAAAAAAAAAAAAAAAAAAAAAAAAAAAAAAAAAAAAAAAAAAAAAAAAAAAAAAAAAAAAAAAAAAAAAAAAAAAAAAAAAAAAAAAAAAAAAAAAAAAAAAAAAAAAAAAAAAAAAAAAAAAAAAAAAAAAAAAAAAAAAAAAAAAAAAAAAAAAAAAAAAAAAAAAAAAAAAAAAAAAAAAAAAAAAAAAAAAAAAAAAAAAAAAAAAAAAAAAAAAAAAAAAAAAAAAAAAAAAAAAAAAAAAAAAAAAAAAAAAAAAAAAAAAAAAAAAAAAAAAAAAAAAAAAAAAAAAAAAAAAAAAAAAAAAAAAAAAAAAAAAAAAAAAAAAAAAAAAAAAAAAAAAAAAAAAAAAAAAAAAAAAAAAAAAAAAAAAAAAAAAAAAAAAAAAAAAAAAAAAAAAAAAAAAAAAAAAAAAAAAAAAAAAAAAAAAAAAAAAAAAAAAAAAAAAAAAAAAAAAAAAAAAAAAAAAAAAAAAAAAAAAAAAAAAAAAAAAAAAAAAAAAAAAAAAAAAAAAAAAAAAAAAAAAAAAAAAAAAAAAAAAAAAAAAAAAAAAAAAAAAAAAAAAAAAAAAAAAAAAAAAAAAAAAAAAAAAAAAAAAAAAAAAAAAAAAAAAAAAAAAAAAAAAAAAAAAAAAAAAAAAAAAAAAAAAAAAAAAAAAAAAAAAAAAAAAAAAAAAAAAAAAAAAAAAAAAAAAAAAAAAAAAAAAAAAAAAAAAAAAAAAAAAAAAAAAAAAAAAAAAAAAAAAAAAAAAAAAAAAAAAAAAAAAAAAAAAAAAAAAAAAAAAAAAAAAAAAAAAAAAAAAAAACwAAAAACAAIAAAIKgABCBQYIACAgwgDBADAsCGAAAEASJwYAIDFixgzagQgIEAAACBBBhgZEAA7\"><title>Layer: Conv2D-2 (hidden)\\n Keras class = Conv2D\\n activation = relu</title></image><text x=\"280.0\" y=\"647.0\" font-family=\"monospace\" font-size=\"12\" text-anchor=\"start\" alignment-baseline=\"central\">Conv2D-2</text><text x=\"280.0\" y=\"550\" font-family=\"monospace\" font-size=\"12\" text-anchor=\"start\" alignment-baseline=\"central\">132</text><text x=\"63.0\" y=\"740\" font-family=\"monospace\" font-size=\"12\" text-anchor=\"start\" alignment-baseline=\"central\">0</text><line x1=\"175.0\" y1=\"774\" x2=\"175.0\" y2=\"747\" stroke=\"black\" stroke-width=\"2\" marker-end=\"url(#arrow)\"><title>Weights from maxpool1 to Conv2D-2\\n Conv2D-2/kernel has shape (5, 5, 16, 132)\\n Conv2D-2/bias has shape (132,)</title></line><rect x=\"74.0\" y=\"774\" width=\"202\" height=\"202\" style=\"fill:none;stroke:black;stroke-width:2\"/><image id=\"Auto-Encoding with Conv_maxpool1_5\" class=\"Auto-Encoding with Conv_maxpool1\" x=\"75.0\" y=\"775\" height=\"200\" width=\"200\" preserveAspectRatio=\"none\" href=\"data:image/gif;base64,R0lGODdhDAAMAIcAAP38/ebm/9bW/8bG/wAAAAAAAAAAAAAAAAAAAAAAAAAAAAAAAAAAAAAAAAAAAAAAAAAAAAAAAAAAAAAAAAAAAAAAAAAAAAAAAAAAAAAAAAAAAAAAAAAAAAAAAAAAAAAAAAAAAAAAAAAAAAAAAAAAAAAAAAAAAAAAAAAAAAAAAAAAAAAAAAAAAAAAAAAAAAAAAAAAAAAAAAAAAAAAAAAAAAAAAAAAAAAAAAAAAAAAAAAAAAAAAAAAAAAAAAAAAAAAAAAAAAAAAAAAAAAAAAAAAAAAAAAAAAAAAAAAAAAAAAAAAAAAAAAAAAAAAAAAAAAAAAAAAAAAAAAAAAAAAAAAAAAAAAAAAAAAAAAAAAAAAAAAAAAAAAAAAAAAAAAAAAAAAAAAAAAAAAAAAAAAAAAAAAAAAAAAAAAAAAAAAAAAAAAAAAAAAAAAAAAAAAAAAAAAAAAAAAAAAAAAAAAAAAAAAAAAAAAAAAAAAAAAAAAAAAAAAAAAAAAAAAAAAAAAAAAAAAAAAAAAAAAAAAAAAAAAAAAAAAAAAAAAAAAAAAAAAAAAAAAAAAAAAAAAAAAAAAAAAAAAAAAAAAAAAAAAAAAAAAAAAAAAAAAAAAAAAAAAAAAAAAAAAAAAAAAAAAAAAAAAAAAAAAAAAAAAAAAAAAAAAAAAAAAAAAAAAAAAAAAAAAAAAAAAAAAAAAAAAAAAAAAAAAAAAAAAAAAAAAAAAAAAAAAAAAAAAAAAAAAAAAAAAAAAAAAAAAAAAAAAAAAAAAAAAAAAAAAAAAAAAAAAAAAAAAAAAAAAAAAAAAAAAAAAAAAAAAAAAAAAAAAAAAAAAAAAAAAAAAAAAAAAAAAAAAAAAAAAAAAAAAAAAAAAAAAAAAAAAAAAAAAAAAAAAAAAAAAAAAAAAAAAAAAAAAAAAAAAAAAAAAAAAAAAAAAAAAAAAAAAAAAAAAAAAAAAAAAAAAAAAAAAAAAAAAAAAAAAAAAAAAAAAAAAAAAAAAAAAAAAAAAAAAAAAAAAAAAAAAAAAAAAACwAAAAADAAMAAAIVAABCBxIEEAAAAgTBggwQICAAQAABABAsSKAAAAyatzIkaMAAQBCihwZQEAAAChTqgwwAIDLlzABDABAs6ZNAAEA6NzJMwCAnwICABhKtKjRowACAgA7\"><title>Layer: maxpool1 (hidden)\\n Keras class = MaxPooling2D</title></image><text x=\"280.0\" y=\"877.0\" font-family=\"monospace\" font-size=\"12\" text-anchor=\"start\" alignment-baseline=\"central\">maxpool1</text><text x=\"280.0\" y=\"780\" font-family=\"monospace\" font-size=\"12\" text-anchor=\"start\" alignment-baseline=\"central\">16</text><text x=\"63.0\" y=\"970\" font-family=\"monospace\" font-size=\"12\" text-anchor=\"start\" alignment-baseline=\"central\">0</text><line x1=\"175.0\" y1=\"1004\" x2=\"175.0\" y2=\"977\" stroke=\"black\" stroke-width=\"2\" marker-end=\"url(#arrow)\"><title>Weights from Conv2D-1 to maxpool1</title></line><rect x=\"74.0\" y=\"1004\" width=\"202\" height=\"202\" style=\"fill:none;stroke:black;stroke-width:2\"/><image id=\"Auto-Encoding with Conv_Conv2D-1_6\" class=\"Auto-Encoding with Conv_Conv2D-1\" x=\"75.0\" y=\"1005\" height=\"200\" width=\"200\" preserveAspectRatio=\"none\" href=\"data:image/gif;base64,R0lGODdhGAAYAIcAAP78/efn/9fX/8bG/wAAAAAAAAAAAAAAAAAAAAAAAAAAAAAAAAAAAAAAAAAAAAAAAAAAAAAAAAAAAAAAAAAAAAAAAAAAAAAAAAAAAAAAAAAAAAAAAAAAAAAAAAAAAAAAAAAAAAAAAAAAAAAAAAAAAAAAAAAAAAAAAAAAAAAAAAAAAAAAAAAAAAAAAAAAAAAAAAAAAAAAAAAAAAAAAAAAAAAAAAAAAAAAAAAAAAAAAAAAAAAAAAAAAAAAAAAAAAAAAAAAAAAAAAAAAAAAAAAAAAAAAAAAAAAAAAAAAAAAAAAAAAAAAAAAAAAAAAAAAAAAAAAAAAAAAAAAAAAAAAAAAAAAAAAAAAAAAAAAAAAAAAAAAAAAAAAAAAAAAAAAAAAAAAAAAAAAAAAAAAAAAAAAAAAAAAAAAAAAAAAAAAAAAAAAAAAAAAAAAAAAAAAAAAAAAAAAAAAAAAAAAAAAAAAAAAAAAAAAAAAAAAAAAAAAAAAAAAAAAAAAAAAAAAAAAAAAAAAAAAAAAAAAAAAAAAAAAAAAAAAAAAAAAAAAAAAAAAAAAAAAAAAAAAAAAAAAAAAAAAAAAAAAAAAAAAAAAAAAAAAAAAAAAAAAAAAAAAAAAAAAAAAAAAAAAAAAAAAAAAAAAAAAAAAAAAAAAAAAAAAAAAAAAAAAAAAAAAAAAAAAAAAAAAAAAAAAAAAAAAAAAAAAAAAAAAAAAAAAAAAAAAAAAAAAAAAAAAAAAAAAAAAAAAAAAAAAAAAAAAAAAAAAAAAAAAAAAAAAAAAAAAAAAAAAAAAAAAAAAAAAAAAAAAAAAAAAAAAAAAAAAAAAAAAAAAAAAAAAAAAAAAAAAAAAAAAAAAAAAAAAAAAAAAAAAAAAAAAAAAAAAAAAAAAAAAAAAAAAAAAAAAAAAAAAAAAAAAAAAAAAAAAAAAAAAAAAAAAAAAAAAAAAAAAAAAAAAAAAAAAAAAAAAAAAAAAAAAAAAAAAAAAAAAAAAAAAAAAAAAAAAAAAAAAAAAAAAAAAAAAAAAAAACwAAAAAGAAYAEAIvQABCBxIsKDBgwgHCggAoKHDhxAjPgwAoKLFixgzatzIEUAAAQIAiBxJsqTJkyhTBhAAIICAAQEAyJxJs6bNmzhlBgggAIDPn0CDCg06AIDRo0iTKl3KtKnTp0wDBABAtapVqgGyAgAwAIDXr2ADABhLtqxZAAEAqF3Ltq3bt3DdCgBAt67du3jpBhAQAIDfv4ADC/YbYACAw4gTK158OACAx5AjS55MubLlAAAyawYgIACAz6BDix5NurTpgAA7\"><title>Layer: Conv2D-1 (hidden)\\n Keras class = Conv2D\\n activation = relu</title></image><text x=\"280.0\" y=\"1107.0\" font-family=\"monospace\" font-size=\"12\" text-anchor=\"start\" alignment-baseline=\"central\">Conv2D-1</text><text x=\"280.0\" y=\"1010\" font-family=\"monospace\" font-size=\"12\" text-anchor=\"start\" alignment-baseline=\"central\">16</text><text x=\"63.0\" y=\"1200\" font-family=\"monospace\" font-size=\"12\" text-anchor=\"start\" alignment-baseline=\"central\">0</text><line x1=\"175.0\" y1=\"1234\" x2=\"175.0\" y2=\"1207\" stroke=\"black\" stroke-width=\"2\" marker-end=\"url(#arrow)\"><title>Weights from input to Conv2D-1\\n Conv2D-1/kernel has shape (5, 5, 1, 16)\\n Conv2D-1/bias has shape (16,)</title></line><rect x=\"74.0\" y=\"1234\" width=\"202\" height=\"202\" style=\"fill:none;stroke:black;stroke-width:2\"/><image id=\"Auto-Encoding with Conv_input_7\" class=\"Auto-Encoding with Conv_input\" x=\"75.0\" y=\"1235\" height=\"200\" width=\"200\" preserveAspectRatio=\"none\" href=\"data:image/gif;base64,R0lGODdhHAAcAIcAAAoAAP//9jAAAP/8DP//z00AANcAAPMAAG4AAI0AAP+aAP9nAP/MAP//jbMAAP9yAP/pAP//T///c/8lAP9XAP+qAP//Mv82AP9EAP+/AP/WAP//vAAAAAAAAAAAAAAAAAAAAAAAAAAAAAAAAAAAAAAAAAAAAAAAAAAAAAAAAAAAAAAAAAAAAAAAAAAAAAAAAAAAAAAAAAAAAAAAAAAAAAAAAAAAAAAAAAAAAAAAAAAAAAAAAAAAAAAAAAAAAAAAAAAAAAAAAAAAAAAAAAAAAAAAAAAAAAAAAAAAAAAAAAAAAAAAAAAAAAAAAAAAAAAAAAAAAAAAAAAAAAAAAAAAAAAAAAAAAAAAAAAAAAAAAAAAAAAAAAAAAAAAAAAAAAAAAAAAAAAAAAAAAAAAAAAAAAAAAAAAAAAAAAAAAAAAAAAAAAAAAAAAAAAAAAAAAAAAAAAAAAAAAAAAAAAAAAAAAAAAAAAAAAAAAAAAAAAAAAAAAAAAAAAAAAAAAAAAAAAAAAAAAAAAAAAAAAAAAAAAAAAAAAAAAAAAAAAAAAAAAAAAAAAAAAAAAAAAAAAAAAAAAAAAAAAAAAAAAAAAAAAAAAAAAAAAAAAAAAAAAAAAAAAAAAAAAAAAAAAAAAAAAAAAAAAAAAAAAAAAAAAAAAAAAAAAAAAAAAAAAAAAAAAAAAAAAAAAAAAAAAAAAAAAAAAAAAAAAAAAAAAAAAAAAAAAAAAAAAAAAAAAAAAAAAAAAAAAAAAAAAAAAAAAAAAAAAAAAAAAAAAAAAAAAAAAAAAAAAAAAAAAAAAAAAAAAAAAAAAAAAAAAAAAAAAAAAAAAAAAAAAAAAAAAAAAAAAAAAAAAAAAAAAAAAAAAAAAAAAAAAAAAAAAAAAAAAAAAAAAAAAAAAAAAAAAAAAAAAAAAAAAAAAAAAAAAAAAAAAAAAAAAAAAAAAAAAAAAAAAAAAAAAAAAAAAAAAAAAAAAAAAAAAAAAAAAAAAAAAAAAAAAAAAAAAAAAAAAAAAAAAAAAAAAAAAACwAAAAAHAAcAEAI/wABCBxIsKDBgwcFSAjAkOEACAQIAJhIsaLFixUFHAgQYACAjyBDfnwQoGSEBQsEAFjJsqXLlzBjypwpYEAAAwBy6tzJs2fOAhckBBgawIIBAEiTKl3KtKnTpwUQHFDAIIBVqw0YBCAwwAGAr2DDghUAQEGAAwDSql3Ltm1bAwQCBMBQAIDdu3jz6rWbYAGEAAEiABhMuHBhAQwkBFgcYIABAQAiS55MubLly5gza97MufNkAaApPNBQIEMAAhQAqF7NGkCCDQFiy5Z9oHYCBABy696t20CFCQECWBAAAIECAMiTK1/O/EGAAQCiS59OvTp1BAQaVJgAoLv37+DDf1FPMCBAAAUFAKhfz769e/YB4jsAQL++/fv2EShoEKB/AIAQAAwkWNAggAIOIgRgGGCAAQARJU6kmIBBgwAZAxBYIADAR5AhRY4kWdLkSZQhAwIAOw==\"><title>Layer: input (input)\\n shape = (28, 28, 1)\\n Keras class = Input</title></image><text x=\"280.0\" y=\"1337.0\" font-family=\"monospace\" font-size=\"12\" text-anchor=\"start\" alignment-baseline=\"central\">input</text><text x=\"280.0\" y=\"1240\" font-family=\"monospace\" font-size=\"12\" text-anchor=\"start\" alignment-baseline=\"central\">1</text><text x=\"63.0\" y=\"1430\" font-family=\"monospace\" font-size=\"12\" text-anchor=\"start\" alignment-baseline=\"central\">0</text></svg></p>', layout=Layout(justify_content='center', overflow_x='auto', overflow_y='auto', width='95%'))), layout=Layout(width='95%')), VBox(children=(Accordion(children=(VBox(children=(HTML(value='<p><h3>Network display:</h3></p>'), FloatSlider(value=1.0, continuous_update=False, description='Zoom', max=3.0, min=0.5), IntText(value=150, description='Horizontal space between banks:', style=DescriptionStyle(description_width='initial')), IntText(value=30, description='Vertical space between layers:', style=DescriptionStyle(description_width='initial')), Checkbox(value=False, description='Show Targets'), Checkbox(value=False, description='Show Errors'), IntText(value=3, description='Feature columns:', style=DescriptionStyle(description_width='initial')), FloatText(value=2.0, description='Feature scale:', style=DescriptionStyle(description_width='initial')))), VBox(children=(HTML(value='<p><hr/><h3>output bank:</h3></p>'), Checkbox(value=True, description='Visible'), HBox(children=(Select(description='Colormap:', options=('', 'Accent', 'Accent_r', 'Blues', 'Blues_r', 'BrBG', 'BrBG_r', 'BuGn', 'BuGn_r', 'BuPu', 'BuPu_r', 'CMRmap', 'CMRmap_r', 'Dark2', 'Dark2_r', 'GnBu', 'GnBu_r', 'Greens', 'Greens_r', 'Greys', 'Greys_r', 'OrRd', 'OrRd_r', 'Oranges', 'Oranges_r', 'PRGn', 'PRGn_r', 'Paired', 'Paired_r', 'Pastel1', 'Pastel1_r', 'Pastel2', 'Pastel2_r', 'PiYG', 'PiYG_r', 'PuBu', 'PuBuGn', 'PuBuGn_r', 'PuBu_r', 'PuOr', 'PuOr_r', 'PuRd', 'PuRd_r', 'Purples', 'Purples_r', 'RdBu', 'RdBu_r', 'RdGy', 'RdGy_r', 'RdPu', 'RdPu_r', 'RdYlBu', 'RdYlBu_r', 'RdYlGn', 'RdYlGn_r', 'Reds', 'Reds_r', 'Set1', 'Set1_r', 'Set2', 'Set2_r', 'Set3', 'Set3_r', 'Spectral', 'Spectral_r', 'Vega10', 'Vega10_r', 'Vega20', 'Vega20_r', 'Vega20b', 'Vega20b_r', 'Vega20c', 'Vega20c_r', 'Wistia', 'Wistia_r', 'YlGn', 'YlGnBu', 'YlGnBu_r', 'YlGn_r', 'YlOrBr', 'YlOrBr_r', 'YlOrRd', 'YlOrRd_r', 'afmhot', 'afmhot_r', 'autumn', 'autumn_r', 'binary', 'binary_r', 'bone', 'bone_r', 'brg', 'brg_r', 'bwr', 'bwr_r', 'cool', 'cool_r', 'coolwarm', 'coolwarm_r', 'copper', 'copper_r', 'cubehelix', 'cubehelix_r', 'flag', 'flag_r', 'gist_earth', 'gist_earth_r', 'gist_gray', 'gist_gray_r', 'gist_heat', 'gist_heat_r', 'gist_ncar', 'gist_ncar_r', 'gist_rainbow', 'gist_rainbow_r', 'gist_stern', 'gist_stern_r', 'gist_yarg', 'gist_yarg_r', 'gnuplot', 'gnuplot2', 'gnuplot2_r', 'gnuplot_r', 'gray', 'gray_r', 'hot', 'hot_r', 'hsv', 'hsv_r', 'inferno', 'inferno_r', 'jet', 'jet_r', 'magma', 'magma_r', 'nipy_spectral', 'nipy_spectral_r', 'ocean', 'ocean_r', 'pink', 'pink_r', 'plasma', 'plasma_r', 'prism', 'prism_r', 'rainbow', 'rainbow_r', 'seismic', 'seismic_r', 'spectral', 'spectral_r', 'spring', 'spring_r', 'summer', 'summer_r', 'tab10', 'tab10_r', 'tab20', 'tab20_r', 'tab20b', 'tab20b_r', 'tab20c', 'tab20c_r', 'terrain', 'terrain_r', 'viridis', 'viridis_r', 'winter', 'winter_r'), rows=1, value=''), HTML(value='<img src=\"data:image/gif;base64,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\"/>'))), HBox(children=(IntText(value=-1, description='Leftmost color maps to:', style=DescriptionStyle(description_width='initial')), IntText(value=1, description='Rightmost color maps to:', style=DescriptionStyle(description_width='initial')))))), VBox(children=(HTML(value='<p><hr/><h3>flatten bank:</h3></p>'), Checkbox(value=True, description='Visible'), HBox(children=(Select(description='Colormap:', options=('', 'Accent', 'Accent_r', 'Blues', 'Blues_r', 'BrBG', 'BrBG_r', 'BuGn', 'BuGn_r', 'BuPu', 'BuPu_r', 'CMRmap', 'CMRmap_r', 'Dark2', 'Dark2_r', 'GnBu', 'GnBu_r', 'Greens', 'Greens_r', 'Greys', 'Greys_r', 'OrRd', 'OrRd_r', 'Oranges', 'Oranges_r', 'PRGn', 'PRGn_r', 'Paired', 'Paired_r', 'Pastel1', 'Pastel1_r', 'Pastel2', 'Pastel2_r', 'PiYG', 'PiYG_r', 'PuBu', 'PuBuGn', 'PuBuGn_r', 'PuBu_r', 'PuOr', 'PuOr_r', 'PuRd', 'PuRd_r', 'Purples', 'Purples_r', 'RdBu', 'RdBu_r', 'RdGy', 'RdGy_r', 'RdPu', 'RdPu_r', 'RdYlBu', 'RdYlBu_r', 'RdYlGn', 'RdYlGn_r', 'Reds', 'Reds_r', 'Set1', 'Set1_r', 'Set2', 'Set2_r', 'Set3', 'Set3_r', 'Spectral', 'Spectral_r', 'Vega10', 'Vega10_r', 'Vega20', 'Vega20_r', 'Vega20b', 'Vega20b_r', 'Vega20c', 'Vega20c_r', 'Wistia', 'Wistia_r', 'YlGn', 'YlGnBu', 'YlGnBu_r', 'YlGn_r', 'YlOrBr', 'YlOrBr_r', 'YlOrRd', 'YlOrRd_r', 'afmhot', 'afmhot_r', 'autumn', 'autumn_r', 'binary', 'binary_r', 'bone', 'bone_r', 'brg', 'brg_r', 'bwr', 'bwr_r', 'cool', 'cool_r', 'coolwarm', 'coolwarm_r', 'copper', 'copper_r', 'cubehelix', 'cubehelix_r', 'flag', 'flag_r', 'gist_earth', 'gist_earth_r', 'gist_gray', 'gist_gray_r', 'gist_heat', 'gist_heat_r', 'gist_ncar', 'gist_ncar_r', 'gist_rainbow', 'gist_rainbow_r', 'gist_stern', 'gist_stern_r', 'gist_yarg', 'gist_yarg_r', 'gnuplot', 'gnuplot2', 'gnuplot2_r', 'gnuplot_r', 'gray', 'gray_r', 'hot', 'hot_r', 'hsv', 'hsv_r', 'inferno', 'inferno_r', 'jet', 'jet_r', 'magma', 'magma_r', 'nipy_spectral', 'nipy_spectral_r', 'ocean', 'ocean_r', 'pink', 'pink_r', 'plasma', 'plasma_r', 'prism', 'prism_r', 'rainbow', 'rainbow_r', 'seismic', 'seismic_r', 'spectral', 'spectral_r', 'spring', 'spring_r', 'summer', 'summer_r', 'tab10', 'tab10_r', 'tab20', 'tab20_r', 'tab20b', 'tab20b_r', 'tab20c', 'tab20c_r', 'terrain', 'terrain_r', 'viridis', 'viridis_r', 'winter', 'winter_r'), rows=1, value=''), HTML(value='<img src=\"data:image/gif;base64,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\"/>'))), HBox(children=(IntText(value=-1, description='Leftmost color maps to:', style=DescriptionStyle(description_width='initial')), IntText(value=1, description='Rightmost color maps to:', style=DescriptionStyle(description_width='initial')))))), VBox(children=(HTML(value='<p><hr/><h3>maxpool2 bank:</h3></p>'), Checkbox(value=True, description='Visible'), HBox(children=(Select(description='Colormap:', options=('', 'Accent', 'Accent_r', 'Blues', 'Blues_r', 'BrBG', 'BrBG_r', 'BuGn', 'BuGn_r', 'BuPu', 'BuPu_r', 'CMRmap', 'CMRmap_r', 'Dark2', 'Dark2_r', 'GnBu', 'GnBu_r', 'Greens', 'Greens_r', 'Greys', 'Greys_r', 'OrRd', 'OrRd_r', 'Oranges', 'Oranges_r', 'PRGn', 'PRGn_r', 'Paired', 'Paired_r', 'Pastel1', 'Pastel1_r', 'Pastel2', 'Pastel2_r', 'PiYG', 'PiYG_r', 'PuBu', 'PuBuGn', 'PuBuGn_r', 'PuBu_r', 'PuOr', 'PuOr_r', 'PuRd', 'PuRd_r', 'Purples', 'Purples_r', 'RdBu', 'RdBu_r', 'RdGy', 'RdGy_r', 'RdPu', 'RdPu_r', 'RdYlBu', 'RdYlBu_r', 'RdYlGn', 'RdYlGn_r', 'Reds', 'Reds_r', 'Set1', 'Set1_r', 'Set2', 'Set2_r', 'Set3', 'Set3_r', 'Spectral', 'Spectral_r', 'Vega10', 'Vega10_r', 'Vega20', 'Vega20_r', 'Vega20b', 'Vega20b_r', 'Vega20c', 'Vega20c_r', 'Wistia', 'Wistia_r', 'YlGn', 'YlGnBu', 'YlGnBu_r', 'YlGn_r', 'YlOrBr', 'YlOrBr_r', 'YlOrRd', 'YlOrRd_r', 'afmhot', 'afmhot_r', 'autumn', 'autumn_r', 'binary', 'binary_r', 'bone', 'bone_r', 'brg', 'brg_r', 'bwr', 'bwr_r', 'cool', 'cool_r', 'coolwarm', 'coolwarm_r', 'copper', 'copper_r', 'cubehelix', 'cubehelix_r', 'flag', 'flag_r', 'gist_earth', 'gist_earth_r', 'gist_gray', 'gist_gray_r', 'gist_heat', 'gist_heat_r', 'gist_ncar', 'gist_ncar_r', 'gist_rainbow', 'gist_rainbow_r', 'gist_stern', 'gist_stern_r', 'gist_yarg', 'gist_yarg_r', 'gnuplot', 'gnuplot2', 'gnuplot2_r', 'gnuplot_r', 'gray', 'gray_r', 'hot', 'hot_r', 'hsv', 'hsv_r', 'inferno', 'inferno_r', 'jet', 'jet_r', 'magma', 'magma_r', 'nipy_spectral', 'nipy_spectral_r', 'ocean', 'ocean_r', 'pink', 'pink_r', 'plasma', 'plasma_r', 'prism', 'prism_r', 'rainbow', 'rainbow_r', 'seismic', 'seismic_r', 'spectral', 'spectral_r', 'spring', 'spring_r', 'summer', 'summer_r', 'tab10', 'tab10_r', 'tab20', 'tab20_r', 'tab20b', 'tab20b_r', 'tab20c', 'tab20c_r', 'terrain', 'terrain_r', 'viridis', 'viridis_r', 'winter', 'winter_r'), rows=1, value=''), HTML(value='<img src=\"data:image/gif;base64,R0lGODdh+gAZAIcAAPMCAs8AAI8AAAEB8q4AAAAAbwAArwAAkAAAz/Po9Pv3+wAAVkZG/7i4//9YWP/X1xcX/zMz/1lZ/2lp/4SE/5SU/6Wl/9jY//8lJf82Nv9FRf94eP+Hh/+Zmf+0tP/ExCQk/3d3/8nJ//8XF/9oaP+mpn8AAAAAAAAAAAAAAAAAAAAAAAAAAAAAAAAAAAAAAAAAAAAAAAAAAAAAAAAAAAAAAAAAAAAAAAAAAAAAAAAAAAAAAAAAAAAAAAAAAAAAAAAAAAAAAAAAAAAAAAAAAAAAAAAAAAAAAAAAAAAAAAAAAAAAAAAAAAAAAAAAAAAAAAAAAAAAAAAAAAAAAAAAAAAAAAAAAAAAAAAAAAAAAAAAAAAAAAAAAAAAAAAAAAAAAAAAAAAAAAAAAAAAAAAAAAAAAAAAAAAAAAAAAAAAAAAAAAAAAAAAAAAAAAAAAAAAAAAAAAAAAAAAAAAAAAAAAAAAAAAAAAAAAAAAAAAAAAAAAAAAAAAAAAAAAAAAAAAAAAAAAAAAAAAAAAAAAAAAAAAAAAAAAAAAAAAAAAAAAAAAAAAAAAAAAAAAAAAAAAAAAAAAAAAAAAAAAAAAAAAAAAAAAAAAAAAAAAAAAAAAAAAAAAAAAAAAAAAAAAAAAAAAAAAAAAAAAAAAAAAAAAAAAAAAAAAAAAAAAAAAAAAAAAAAAAAAAAAAAAAAAAAAAAAAAAAAAAAAAAAAAAAAAAAAAAAAAAAAAAAAAAAAAAAAAAAAAAAAAAAAAAAAAAAAAAAAAAAAAAAAAAAAAAAAAAAAAAAAAAAAAAAAAAAAAAAAAAAAAAAAAAAAAAAAAAAAAAAAAAAAAAAAAAAAAAAAAAAAAAAAAAAAAAAAAAAAAAAAAAAAAAAAAAAAAAAAAAAAAAAAAAAAAAAAAAAAAAAAAAAAAAAAAAAAAAAAAAAAAAAAAAAAAAAAAAAAAAAAAAAAAAAAAAAAAAAAAAAAAAAAAAAAAAAAAAAAAAAAAAAAAAAAAAAAAAAAAAAAAAAAAAAAAAAAACwAAAAA+gAZAEAI/wBNCBhIsKBBAQQSKlzIMIDDhxAjOgRAsaLFixZHaMTAEUOGjxk0iNTgoGRJEig3qNzAoSWHDjA7lJjpoaaHDzg/PNi5M4HPBAqCClWQoGiCC0gviFjaoGlTC1AtVJhagYJVCiGyTtg6QYJXCQzCho1ANgKIsxDSQhjAtq3btwjiyp1roK7du3UP6N3Lt4Dfv4D/Lhg82ISAw4gTKxZAoLHjx5ADSJ5MubJkAJgza96seYRnDKAxZBidQYNpDQ5SpybBeoPrDRxic+hAu0OJ2x5ye/jA+8OD378TCE+goLhxBQmSJ7jA/IKI5w2iR7dA3UKF6xUoaKcQovuE7xMkiP+XwKB8+QjoI4BYD6E9hAHw48ufj6C+/fsG8uvfn/+Af4AHBA48UMDgQYQHFyxcaELAQ4gRJQogUNHiRYwBNG7k2FEjAJAhRY4UOcIkBpQYMqzMoMGlBgcxY5KgucHmBg45OXTg2aHETw9BPXwg+uHB0aMJlCZQ0NSpggRRE1ygekHE1QZZs1rgaqHC1woUxFIIUXbC2QkS1Epg0LZtBLgRQMyFUBfCALx59e5F0NfvXwOBBQ8OfMDwYcQFFC9mvHjB48cmBEymXNmyAAKZNW/mHMDzZ9ChPQMgXdr0adMjVGNgjSHD6wwaZGtwULs2CdwbdG/g0JtDB+AdSgz3UNz/wwfkHx4sX57AeQIF0aUrSFA9wQXsF0Rsb9C9uwXwFiqMr0DBPIUQ6SesnyDBvQQG8eNHoB8BxH0I+SEM4N/fP8ABAgUiKGjwoIGEChcmPODwIcQCEidSnLjg4kUTAjZy7OhRAIGQIkeSDGDyJMqUJgGwbOnypcsRMjHQxJDhZgYNOjU46NmTBNANQjdwKMqhA9IOJZZ6aOrhA9QPD6ZOTWA1gYKsWhUk6JrgAtgLIsY2KFvWAloLFdZWoOCWQoi4E+ZOkGBXAoO8eSPwjQDiL4TAEAYQLmz4MILEihcbaOz4ceMDkidTLmD5MubLCzZvNiHgM+jQogUQKG36NOoA/6pXs26tGgDs2LJnyx5hGwNuDBl2Z9DgW4OD4MFJEN9gfAOH5Bw6MO9Q4rmH6B4+UP/w4Pr1BNoTKOjuXUGC8AkukL8g4nyD9OktsLdQ4X0FCvIphKg/4f4ECfolMOjfH2AEgRFAFIRwEMIAhQsZNkTwEGJEAxMpVpx4AGNGjQU4dvTYcUHIkCYElDR5EqUAAitZtnQZAGZMmTNhArB5E2dOnCN4YvCJIUPQDBqIanBw9CgJpRuYbuDwlEMHqR1KVPVw1cMHrR8edO2aAGwCBWPJKkhwNsEFtRdEtG3w9q0FuRYq1K1AAS+FEHsn9J0gAbAEBoMHRzAcAURiCIshDP9w/BhyZASTKVc2cBlz5ssHOHf2XAB0aNGhF5QubUJAatWrWQsg8Bp2bNkBaNe2fZs2AN27effmPQI4BuEYMhTPoAG5BgfLl5NwvgH6Bg7TOXSw3qFEdg/bPXzw/uFB+PAJyCdQcB69ggTrE1xwf0FE/Abz51uwb6FC/goU+FMIATBEiAkEJ0g4KIGBQoURGkYAARGCRAgDKlq8iBGBxo0cDXj8CNLjgZEkSxY4iTIlygUsWZoQADOmzJkCCNi8iTNngJ08e/rcCSCo0KFEh444iiEphgxMM2h4qsGBVKkkqm64uoGDVg4dunYoAdaDWA8fyn54gBZtgrUJFLh9qyD/gdwEF+peEIG3gV69FvpaqAC4AoXBFEIYnoB4goTFEhg4dhwhcgQQlCFYhjAgs+bNnBF4/gzagOjRpEUfOI06dYHVrFuzXgAbtgkBtGvbvi2AgO7dvHsH+A08uPDfAIobP478+IjlGJpjyAA9g4bpGhxYt04i+4btGzh459AhfIcS5D2Y9/Ah/YcH7NkneJ9Agfz5ChLYT3Ah/wUR/Bv4B9iggQWCFiocrEBBIYUQDSc8nCBBogQGFStGwBgBxEYIHSEMABlS5EgEJU2eNJBS5cqUB1y+hFlA5kyaMxfcvGlCwE6ePX0KIBBU6FCiAYweRZrUKACmTZ0+dTpCKgaq/xgyXM2gQasGB127kgC7QewGDmU5dEDbocRaD209fID74cHcuQnsJlCQV6+CBH0TXAB8QcTgBoULW0BsocLiChQcUwgRecLkCRIsS2CQOXMEzhFAfIYQGsIA0qVNn0aQWvVqA61dv259QPZs2gVs38Z9e8Hu3SYE/AYeXLgAAsWNH0ceQPly5s2VA4AeXfp06SOsY8COIcP2DBq8a3AQPjwJ8hvMb+CQnkMH9h1KvPcQ38MH+h8e3L+fQH8CBf39A1SQYGCCCwYviEjYYOFCCw4tVIhYgQJFCiEuTsg4QQJHCQw+fowgMgKIkhBOQhigciXLlghewoxpYCbNmjMP4P/MqbMAz54+ey4IGtSEgKJGjyIVQGAp06ZOA0CNKnUqVABWr2LNinUEVwxeMWQIm0EDWQ0Ozp4loXYD2w0c3nLoILdDiboe7nr4oPfDg759EwBOoGAwYQUJDie4oPiCiMYNHj+2INlChcoVKGCmEGLzhM4TJICWwGD06AimI4BIDWE1hAGuX8OOjWA27doGbuPOffsA796+CwAPLjz4guLFTQhIrnw5cwEEnkOPLj0A9erWr1MHoH079+7cR4DHIB5DhvIZNKDX4GD9ehLuN8DfwGE+hw72O5TI72G/hw/+AX54MHBgAoMJFCRUqCBBwwQXIF4QMbFBxYoWMFqosLH/AgWPFEKEnDByggSTEhikTBmBZQQQLyHEhDCAZk2bNxHk1LnTQE+fP3seEDqUaAGjR5EeXbB0qQkBT6FGlSqAQFWrV7EG0LqVa1etAMCGFTtW7AizGNBiyLA2gwa3GhzEjUuC7ga7Gzjk5dCBb4cSfz0E9vCB8IcHhw8nUJxAQWPHChJETnCB8gURlxtkzmyBs4UKnytQEE0hROkJpydIUC2BQevWEWBHADEbQm0IA3Dn1r0bQW/fvw0EFz48+AHjx5EXUL6c+fIFz5+bEDCdenXrAghk176dewDv38GH9w6AfHnz582PUI+BPYYM7zNokK/BQf36JPBv0L+BQ38O/wA7COxQoqCHgx4+KPzwoGHDBBATKJhIUUGCiwkuaLwgomODjx8tiLRQoWQFCigphFg5oeUECTAlMJg5M4LNCCByQtgJYYDPn0CDIhhKtKiBo0iTHj3AtKnTAlCjSo26oGpVEwKyat3KVQCBr2DDig1AtqzZs2QBqF3Lti3bEXAxyMWQoW4GDXg1ONi7l4TfDYA3cBjMoYPhDiUSe1js4YPjDw8iR05AOYGCy5gVJNic4ILnCyJCNxg92oJpCxVSV6DAmkKI1xNiT5BAWwKD27cj6I4AojeE3xAGCB9OvDiC48iTG1jOvPnyA9CjSy9Avbr16guyZzchoLv37+AFEP8YT768+QDo06tfjx6A+/fw48MfQR+DfQwZ8mfQwF+DA4AOBDogUXDDwQ0cFHLo0LBDCYgeJHr4UPHDA4wYE2xMoMDjRwUJRCa4UPKCCJQNVKq00NJCBZgVKMykEMLmBJwTJOyUwMCnzwhBI4AgCsEohAFJlS5lisDpU6gGpE6lKvXAVaxZC2zl2pXrArBgTQggW9bsWQEE1K5l2zbAW7hx5b4FUNfuXbx3R+zF0BdDBsAZNAzW4MCwYRKJNyzewMExhw6RO5Sg7MGyhw+ZPzzgzDnB5wQKRI9WkMB0ggupL4hg3cC1awuxLVSgXYHCbQohdE/gPUHCbwkMhAuPUDz/AgjkEJRDGNDc+XPoCKRPp27A+nXs1g9s5969wHfw4cEvIE/ehAD06dWvF0DA/Xv48QPMp1/f/nwA+fXv579/BMARIzAQxJDhYAYNCjU4aNiQBMQNEjdwqMihA8YOJTZ66OjhA8gPD0aOTGAygYKUKhUkaJngAswLImY2qFnTAk4LFXZWoOCTQoigE4ZOkGBUAoOkSSMwjQDiKYSoEAZQrWr1KoKsWrca6Or1a9cDYseSLWD2LNqzC9auNSHgLdy4cgUQqGv3Lt4Aevfy7asXAODAggcLHmEYA2IMGRZn0OBYg4PIkUlQ3mB5A4fMHDpw7lDis4fQHj6Q/vDg9OkE/6oTKGjtWkGC2Aku0L4g4naD3Lkt8LZQ4XcFCsIphCg+4fgECcolMGjePAL0CCCmQ6gOYQD27Nq3I+ju/buB8OLHhz9g/jz6AurXs1+/4P17EwLm069vXwCB/Pr38w/gH2AAgQMJEgRwEGFChQlHNMTwEEMGiRk0VNTgACNGEhs3dNzAASSHDiM7lDDpAaWHDys/PHDpMkHMBApo1lSQAGeCCzsviPDZAChQC0MtVDBagUJSCiGYTnA6QUJUCQyoUo1wNQIIrRC4QhjwFWxYsQjIljVrAG1atWgPtHX7tkBcuXPlLrBr14QAvXv59hVAAHBgwYMDFDZ8GHFhAIsZN/923HhEZAyTMWSwnEFDZg0OOHMm8XlD6A0cSHPocLpDCdUeWHv48PrDA9myE9ROoAB3bgUJeCe48PuCCOENiBO3cNxCBeUVKDSnEAL6BOkTJFSXwAA79gjbI4DwDgE8hAHjyZc3jwB9evUG2Ld3z/5AfPnzC9S3f9/+Av36TQjwD1CAwIEEBxI4iDChwgAMGzp8yBCAxIkUK1IcgRGDRgwZOmbQAFKDg5EjSZjcgHIDh5UcOrjsUCKmh5kePtj88CBnzgQ8Eyj4CVRBgqEJLhi9ICJpg6VLLTi1UCFqBQpUKYS4OiHrBAlcJTD4+jWC2AggykI4C2GA2rVs2yJ4CzerroG5dOvOPYA3r94CfPv67bsgcGATAgobPoxYAIHFjBs7DgA5suTJkAFYvow5M+YRnDF4xpAhdAYNpDU4OH2ahOoNrDdweM2hg+wOJWp7uO3hg+4PD3r3TgA8gYLhxBUkOJ7ggvILIpo3eP7cgnQLFapXoICdQojtE7pPkABeAoPx4yOYjwAiPYT1EAa4fw8/PoL59OsbuI8///0D/Pv7B1hA4ECCAxccPBgQADs=\"/>'))), HBox(children=(IntText(value=-1, description='Leftmost color maps to:', style=DescriptionStyle(description_width='initial')), IntText(value=1, description='Rightmost color maps to:', style=DescriptionStyle(description_width='initial')))), IntText(value=0, description='Feature to show:', style=DescriptionStyle(description_width='initial')))), VBox(children=(HTML(value='<p><hr/><h3>Conv2D-2 bank:</h3></p>'), Checkbox(value=True, description='Visible'), HBox(children=(Select(description='Colormap:', options=('', 'Accent', 'Accent_r', 'Blues', 'Blues_r', 'BrBG', 'BrBG_r', 'BuGn', 'BuGn_r', 'BuPu', 'BuPu_r', 'CMRmap', 'CMRmap_r', 'Dark2', 'Dark2_r', 'GnBu', 'GnBu_r', 'Greens', 'Greens_r', 'Greys', 'Greys_r', 'OrRd', 'OrRd_r', 'Oranges', 'Oranges_r', 'PRGn', 'PRGn_r', 'Paired', 'Paired_r', 'Pastel1', 'Pastel1_r', 'Pastel2', 'Pastel2_r', 'PiYG', 'PiYG_r', 'PuBu', 'PuBuGn', 'PuBuGn_r', 'PuBu_r', 'PuOr', 'PuOr_r', 'PuRd', 'PuRd_r', 'Purples', 'Purples_r', 'RdBu', 'RdBu_r', 'RdGy', 'RdGy_r', 'RdPu', 'RdPu_r', 'RdYlBu', 'RdYlBu_r', 'RdYlGn', 'RdYlGn_r', 'Reds', 'Reds_r', 'Set1', 'Set1_r', 'Set2', 'Set2_r', 'Set3', 'Set3_r', 'Spectral', 'Spectral_r', 'Vega10', 'Vega10_r', 'Vega20', 'Vega20_r', 'Vega20b', 'Vega20b_r', 'Vega20c', 'Vega20c_r', 'Wistia', 'Wistia_r', 'YlGn', 'YlGnBu', 'YlGnBu_r', 'YlGn_r', 'YlOrBr', 'YlOrBr_r', 'YlOrRd', 'YlOrRd_r', 'afmhot', 'afmhot_r', 'autumn', 'autumn_r', 'binary', 'binary_r', 'bone', 'bone_r', 'brg', 'brg_r', 'bwr', 'bwr_r', 'cool', 'cool_r', 'coolwarm', 'coolwarm_r', 'copper', 'copper_r', 'cubehelix', 'cubehelix_r', 'flag', 'flag_r', 'gist_earth', 'gist_earth_r', 'gist_gray', 'gist_gray_r', 'gist_heat', 'gist_heat_r', 'gist_ncar', 'gist_ncar_r', 'gist_rainbow', 'gist_rainbow_r', 'gist_stern', 'gist_stern_r', 'gist_yarg', 'gist_yarg_r', 'gnuplot', 'gnuplot2', 'gnuplot2_r', 'gnuplot_r', 'gray', 'gray_r', 'hot', 'hot_r', 'hsv', 'hsv_r', 'inferno', 'inferno_r', 'jet', 'jet_r', 'magma', 'magma_r', 'nipy_spectral', 'nipy_spectral_r', 'ocean', 'ocean_r', 'pink', 'pink_r', 'plasma', 'plasma_r', 'prism', 'prism_r', 'rainbow', 'rainbow_r', 'seismic', 'seismic_r', 'spectral', 'spectral_r', 'spring', 'spring_r', 'summer', 'summer_r', 'tab10', 'tab10_r', 'tab20', 'tab20_r', 'tab20b', 'tab20b_r', 'tab20c', 'tab20c_r', 'terrain', 'terrain_r', 'viridis', 'viridis_r', 'winter', 'winter_r'), rows=1, value=''), HTML(value='<img src=\"data:image/gif;base64,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\"/>'))), HBox(children=(IntText(value=-1, description='Leftmost color maps to:', style=DescriptionStyle(description_width='initial')), IntText(value=1, description='Rightmost color maps to:', style=DescriptionStyle(description_width='initial')))), IntText(value=0, description='Feature to show:', style=DescriptionStyle(description_width='initial')))), VBox(children=(HTML(value='<p><hr/><h3>maxpool1 bank:</h3></p>'), Checkbox(value=True, description='Visible'), HBox(children=(Select(description='Colormap:', options=('', 'Accent', 'Accent_r', 'Blues', 'Blues_r', 'BrBG', 'BrBG_r', 'BuGn', 'BuGn_r', 'BuPu', 'BuPu_r', 'CMRmap', 'CMRmap_r', 'Dark2', 'Dark2_r', 'GnBu', 'GnBu_r', 'Greens', 'Greens_r', 'Greys', 'Greys_r', 'OrRd', 'OrRd_r', 'Oranges', 'Oranges_r', 'PRGn', 'PRGn_r', 'Paired', 'Paired_r', 'Pastel1', 'Pastel1_r', 'Pastel2', 'Pastel2_r', 'PiYG', 'PiYG_r', 'PuBu', 'PuBuGn', 'PuBuGn_r', 'PuBu_r', 'PuOr', 'PuOr_r', 'PuRd', 'PuRd_r', 'Purples', 'Purples_r', 'RdBu', 'RdBu_r', 'RdGy', 'RdGy_r', 'RdPu', 'RdPu_r', 'RdYlBu', 'RdYlBu_r', 'RdYlGn', 'RdYlGn_r', 'Reds', 'Reds_r', 'Set1', 'Set1_r', 'Set2', 'Set2_r', 'Set3', 'Set3_r', 'Spectral', 'Spectral_r', 'Vega10', 'Vega10_r', 'Vega20', 'Vega20_r', 'Vega20b', 'Vega20b_r', 'Vega20c', 'Vega20c_r', 'Wistia', 'Wistia_r', 'YlGn', 'YlGnBu', 'YlGnBu_r', 'YlGn_r', 'YlOrBr', 'YlOrBr_r', 'YlOrRd', 'YlOrRd_r', 'afmhot', 'afmhot_r', 'autumn', 'autumn_r', 'binary', 'binary_r', 'bone', 'bone_r', 'brg', 'brg_r', 'bwr', 'bwr_r', 'cool', 'cool_r', 'coolwarm', 'coolwarm_r', 'copper', 'copper_r', 'cubehelix', 'cubehelix_r', 'flag', 'flag_r', 'gist_earth', 'gist_earth_r', 'gist_gray', 'gist_gray_r', 'gist_heat', 'gist_heat_r', 'gist_ncar', 'gist_ncar_r', 'gist_rainbow', 'gist_rainbow_r', 'gist_stern', 'gist_stern_r', 'gist_yarg', 'gist_yarg_r', 'gnuplot', 'gnuplot2', 'gnuplot2_r', 'gnuplot_r', 'gray', 'gray_r', 'hot', 'hot_r', 'hsv', 'hsv_r', 'inferno', 'inferno_r', 'jet', 'jet_r', 'magma', 'magma_r', 'nipy_spectral', 'nipy_spectral_r', 'ocean', 'ocean_r', 'pink', 'pink_r', 'plasma', 'plasma_r', 'prism', 'prism_r', 'rainbow', 'rainbow_r', 'seismic', 'seismic_r', 'spectral', 'spectral_r', 'spring', 'spring_r', 'summer', 'summer_r', 'tab10', 'tab10_r', 'tab20', 'tab20_r', 'tab20b', 'tab20b_r', 'tab20c', 'tab20c_r', 'terrain', 'terrain_r', 'viridis', 'viridis_r', 'winter', 'winter_r'), rows=1, value=''), HTML(value='<img src=\"data:image/gif;base64,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\"/>'))), HBox(children=(IntText(value=-1, description='Leftmost color maps to:', style=DescriptionStyle(description_width='initial')), IntText(value=1, description='Rightmost color maps to:', style=DescriptionStyle(description_width='initial')))), IntText(value=0, description='Feature to show:', style=DescriptionStyle(description_width='initial')))), VBox(children=(HTML(value='<p><hr/><h3>Conv2D-1 bank:</h3></p>'), Checkbox(value=True, description='Visible'), HBox(children=(Select(description='Colormap:', options=('', 'Accent', 'Accent_r', 'Blues', 'Blues_r', 'BrBG', 'BrBG_r', 'BuGn', 'BuGn_r', 'BuPu', 'BuPu_r', 'CMRmap', 'CMRmap_r', 'Dark2', 'Dark2_r', 'GnBu', 'GnBu_r', 'Greens', 'Greens_r', 'Greys', 'Greys_r', 'OrRd', 'OrRd_r', 'Oranges', 'Oranges_r', 'PRGn', 'PRGn_r', 'Paired', 'Paired_r', 'Pastel1', 'Pastel1_r', 'Pastel2', 'Pastel2_r', 'PiYG', 'PiYG_r', 'PuBu', 'PuBuGn', 'PuBuGn_r', 'PuBu_r', 'PuOr', 'PuOr_r', 'PuRd', 'PuRd_r', 'Purples', 'Purples_r', 'RdBu', 'RdBu_r', 'RdGy', 'RdGy_r', 'RdPu', 'RdPu_r', 'RdYlBu', 'RdYlBu_r', 'RdYlGn', 'RdYlGn_r', 'Reds', 'Reds_r', 'Set1', 'Set1_r', 'Set2', 'Set2_r', 'Set3', 'Set3_r', 'Spectral', 'Spectral_r', 'Vega10', 'Vega10_r', 'Vega20', 'Vega20_r', 'Vega20b', 'Vega20b_r', 'Vega20c', 'Vega20c_r', 'Wistia', 'Wistia_r', 'YlGn', 'YlGnBu', 'YlGnBu_r', 'YlGn_r', 'YlOrBr', 'YlOrBr_r', 'YlOrRd', 'YlOrRd_r', 'afmhot', 'afmhot_r', 'autumn', 'autumn_r', 'binary', 'binary_r', 'bone', 'bone_r', 'brg', 'brg_r', 'bwr', 'bwr_r', 'cool', 'cool_r', 'coolwarm', 'coolwarm_r', 'copper', 'copper_r', 'cubehelix', 'cubehelix_r', 'flag', 'flag_r', 'gist_earth', 'gist_earth_r', 'gist_gray', 'gist_gray_r', 'gist_heat', 'gist_heat_r', 'gist_ncar', 'gist_ncar_r', 'gist_rainbow', 'gist_rainbow_r', 'gist_stern', 'gist_stern_r', 'gist_yarg', 'gist_yarg_r', 'gnuplot', 'gnuplot2', 'gnuplot2_r', 'gnuplot_r', 'gray', 'gray_r', 'hot', 'hot_r', 'hsv', 'hsv_r', 'inferno', 'inferno_r', 'jet', 'jet_r', 'magma', 'magma_r', 'nipy_spectral', 'nipy_spectral_r', 'ocean', 'ocean_r', 'pink', 'pink_r', 'plasma', 'plasma_r', 'prism', 'prism_r', 'rainbow', 'rainbow_r', 'seismic', 'seismic_r', 'spectral', 'spectral_r', 'spring', 'spring_r', 'summer', 'summer_r', 'tab10', 'tab10_r', 'tab20', 'tab20_r', 'tab20b', 'tab20b_r', 'tab20c', 'tab20c_r', 'terrain', 'terrain_r', 'viridis', 'viridis_r', 'winter', 'winter_r'), rows=1, value=''), HTML(value='<img src=\"data:image/gif;base64,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\"/>'))), HBox(children=(IntText(value=-1, description='Leftmost color maps to:', style=DescriptionStyle(description_width='initial')), IntText(value=1, description='Rightmost color maps to:', style=DescriptionStyle(description_width='initial')))), IntText(value=0, description='Feature to show:', style=DescriptionStyle(description_width='initial')))), VBox(children=(HTML(value='<p><hr/><h3>input bank:</h3></p>'), Checkbox(value=True, description='Visible'), HBox(children=(Select(description='Colormap:', index=125, options=('', 'Accent', 'Accent_r', 'Blues', 'Blues_r', 'BrBG', 'BrBG_r', 'BuGn', 'BuGn_r', 'BuPu', 'BuPu_r', 'CMRmap', 'CMRmap_r', 'Dark2', 'Dark2_r', 'GnBu', 'GnBu_r', 'Greens', 'Greens_r', 'Greys', 'Greys_r', 'OrRd', 'OrRd_r', 'Oranges', 'Oranges_r', 'PRGn', 'PRGn_r', 'Paired', 'Paired_r', 'Pastel1', 'Pastel1_r', 'Pastel2', 'Pastel2_r', 'PiYG', 'PiYG_r', 'PuBu', 'PuBuGn', 'PuBuGn_r', 'PuBu_r', 'PuOr', 'PuOr_r', 'PuRd', 'PuRd_r', 'Purples', 'Purples_r', 'RdBu', 'RdBu_r', 'RdGy', 'RdGy_r', 'RdPu', 'RdPu_r', 'RdYlBu', 'RdYlBu_r', 'RdYlGn', 'RdYlGn_r', 'Reds', 'Reds_r', 'Set1', 'Set1_r', 'Set2', 'Set2_r', 'Set3', 'Set3_r', 'Spectral', 'Spectral_r', 'Vega10', 'Vega10_r', 'Vega20', 'Vega20_r', 'Vega20b', 'Vega20b_r', 'Vega20c', 'Vega20c_r', 'Wistia', 'Wistia_r', 'YlGn', 'YlGnBu', 'YlGnBu_r', 'YlGn_r', 'YlOrBr', 'YlOrBr_r', 'YlOrRd', 'YlOrRd_r', 'afmhot', 'afmhot_r', 'autumn', 'autumn_r', 'binary', 'binary_r', 'bone', 'bone_r', 'brg', 'brg_r', 'bwr', 'bwr_r', 'cool', 'cool_r', 'coolwarm', 'coolwarm_r', 'copper', 'copper_r', 'cubehelix', 'cubehelix_r', 'flag', 'flag_r', 'gist_earth', 'gist_earth_r', 'gist_gray', 'gist_gray_r', 'gist_heat', 'gist_heat_r', 'gist_ncar', 'gist_ncar_r', 'gist_rainbow', 'gist_rainbow_r', 'gist_stern', 'gist_stern_r', 'gist_yarg', 'gist_yarg_r', 'gnuplot', 'gnuplot2', 'gnuplot2_r', 'gnuplot_r', 'gray', 'gray_r', 'hot', 'hot_r', 'hsv', 'hsv_r', 'inferno', 'inferno_r', 'jet', 'jet_r', 'magma', 'magma_r', 'nipy_spectral', 'nipy_spectral_r', 'ocean', 'ocean_r', 'pink', 'pink_r', 'plasma', 'plasma_r', 'prism', 'prism_r', 'rainbow', 'rainbow_r', 'seismic', 'seismic_r', 'spectral', 'spectral_r', 'spring', 'spring_r', 'summer', 'summer_r', 'tab10', 'tab10_r', 'tab20', 'tab20_r', 'tab20b', 'tab20b_r', 'tab20c', 'tab20c_r', 'terrain', 'terrain_r', 'viridis', 'viridis_r', 'winter', 'winter_r'), rows=1, value='hot'), HTML(value='<img src=\"data:image/gif;base64,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\"/>'))), HBox(children=(IntText(value=0, description='Leftmost color maps to:', style=DescriptionStyle(description_width='initial')), IntText(value=1, description='Rightmost color maps to:', style=DescriptionStyle(description_width='initial')))), IntText(value=0, description='Feature to show:', style=DescriptionStyle(description_width='initial'))))), _titles={'0': 'Network configuration', '1': 'output bank', '2': 'flatten bank', '3': 'maxpool2 bank', '4': 'Conv2D-2 bank', '5': 'maxpool1 bank', '6': 'Conv2D-1 bank', '7': 'input bank'}),), layout=Layout(overflow_x='auto', overflow_y='auto', width='95%')), HTML(value='<iframe src=\"https://conx.readthedocs.io\" width=\"100%\" height=\"550px\"></frame>', layout=Layout(width='95%'))), _titles={'0': 'Network', '1': 'Configuration', '2': 'Help'})"
      ]
     },
     "metadata": {},
     "output_type": "display_data"
    },
    {
     "data": {
      "application/javascript": [
       "\n",
       "require(['base/js/namespace'], function(Jupyter) {\n",
       "    Jupyter.notebook.kernel.comm_manager.register_target('conx_svg_control', function(comm, msg) {\n",
       "        comm.on_msg(function(msg) {\n",
       "            var data = msg[\"content\"][\"data\"];\n",
       "            var images = document.getElementsByClassName(data[\"class\"]);\n",
       "            for (var i = 0; i < images.length; i++) {\n",
       "                if (data[\"href\"]) {\n",
       "                    images[i].setAttributeNS(null, \"href\", data[\"href\"]);\n",
       "                }\n",
       "                if (data[\"src\"]) {\n",
       "                    images[i].setAttributeNS(null, \"src\", data[\"src\"]);\n",
       "                }\n",
       "            }\n",
       "        });\n",
       "    });\n",
       "});\n"
      ],
      "text/plain": [
       "<IPython.core.display.Javascript object>"
      ]
     },
     "metadata": {},
     "output_type": "display_data"
    },
    {
     "data": {
      "application/javascript": [
       "\n",
       "require(['base/js/namespace'], function(Jupyter) {\n",
       "    Jupyter.notebook.kernel.comm_manager.register_target('conx_svg_control', function(comm, msg) {\n",
       "        comm.on_msg(function(msg) {\n",
       "            var data = msg[\"content\"][\"data\"];\n",
       "            var images = document.getElementsByClassName(data[\"class\"]);\n",
       "            for (var i = 0; i < images.length; i++) {\n",
       "                if (data[\"href\"]) {\n",
       "                    images[i].setAttributeNS(null, \"href\", data[\"href\"]);\n",
       "                }\n",
       "                if (data[\"src\"]) {\n",
       "                    images[i].setAttributeNS(null, \"src\", data[\"src\"]);\n",
       "                }\n",
       "            }\n",
       "        });\n",
       "    });\n",
       "});\n"
      ],
      "text/plain": [
       "<IPython.core.display.Javascript object>"
      ]
     },
     "metadata": {},
     "output_type": "display_data"
    },
    {
     "data": {
      "application/javascript": [
       "\n",
       "require(['base/js/namespace'], function(Jupyter) {\n",
       "    Jupyter.notebook.kernel.comm_manager.register_target('conx_svg_control', function(comm, msg) {\n",
       "        comm.on_msg(function(msg) {\n",
       "            var data = msg[\"content\"][\"data\"];\n",
       "            var images = document.getElementsByClassName(data[\"class\"]);\n",
       "            for (var i = 0; i < images.length; i++) {\n",
       "                if (data[\"href\"]) {\n",
       "                    images[i].setAttributeNS(null, \"href\", data[\"href\"]);\n",
       "                }\n",
       "                if (data[\"src\"]) {\n",
       "                    images[i].setAttributeNS(null, \"src\", data[\"src\"]);\n",
       "                }\n",
       "            }\n",
       "        });\n",
       "    });\n",
       "});\n"
      ],
      "text/plain": [
       "<IPython.core.display.Javascript object>"
      ]
     },
     "metadata": {},
     "output_type": "display_data"
    },
    {
     "data": {
      "application/javascript": [
       "\n",
       "require(['base/js/namespace'], function(Jupyter) {\n",
       "    Jupyter.notebook.kernel.comm_manager.register_target('conx_svg_control', function(comm, msg) {\n",
       "        comm.on_msg(function(msg) {\n",
       "            var data = msg[\"content\"][\"data\"];\n",
       "            var images = document.getElementsByClassName(data[\"class\"]);\n",
       "            for (var i = 0; i < images.length; i++) {\n",
       "                if (data[\"href\"]) {\n",
       "                    images[i].setAttributeNS(null, \"href\", data[\"href\"]);\n",
       "                }\n",
       "                if (data[\"src\"]) {\n",
       "                    images[i].setAttributeNS(null, \"src\", data[\"src\"]);\n",
       "                }\n",
       "            }\n",
       "        });\n",
       "    });\n",
       "});\n"
      ],
      "text/plain": [
       "<IPython.core.display.Javascript object>"
      ]
     },
     "metadata": {},
     "output_type": "display_data"
    },
    {
     "data": {
      "application/javascript": [
       "\n",
       "require(['base/js/namespace'], function(Jupyter) {\n",
       "    Jupyter.notebook.kernel.comm_manager.register_target('conx_svg_control', function(comm, msg) {\n",
       "        comm.on_msg(function(msg) {\n",
       "            var data = msg[\"content\"][\"data\"];\n",
       "            var images = document.getElementsByClassName(data[\"class\"]);\n",
       "            for (var i = 0; i < images.length; i++) {\n",
       "                if (data[\"href\"]) {\n",
       "                    images[i].setAttributeNS(null, \"href\", data[\"href\"]);\n",
       "                }\n",
       "                if (data[\"src\"]) {\n",
       "                    images[i].setAttributeNS(null, \"src\", data[\"src\"]);\n",
       "                }\n",
       "            }\n",
       "        });\n",
       "    });\n",
       "});\n"
      ],
      "text/plain": [
       "<IPython.core.display.Javascript object>"
      ]
     },
     "metadata": {},
     "output_type": "display_data"
    },
    {
     "data": {
      "application/javascript": [
       "\n",
       "require(['base/js/namespace'], function(Jupyter) {\n",
       "    Jupyter.notebook.kernel.comm_manager.register_target('conx_svg_control', function(comm, msg) {\n",
       "        comm.on_msg(function(msg) {\n",
       "            var data = msg[\"content\"][\"data\"];\n",
       "            var images = document.getElementsByClassName(data[\"class\"]);\n",
       "            for (var i = 0; i < images.length; i++) {\n",
       "                if (data[\"href\"]) {\n",
       "                    images[i].setAttributeNS(null, \"href\", data[\"href\"]);\n",
       "                }\n",
       "                if (data[\"src\"]) {\n",
       "                    images[i].setAttributeNS(null, \"src\", data[\"src\"]);\n",
       "                }\n",
       "            }\n",
       "        });\n",
       "    });\n",
       "});\n"
      ],
      "text/plain": [
       "<IPython.core.display.Javascript object>"
      ]
     },
     "metadata": {},
     "output_type": "display_data"
    },
    {
     "data": {
      "application/javascript": [
       "\n",
       "require(['base/js/namespace'], function(Jupyter) {\n",
       "    Jupyter.notebook.kernel.comm_manager.register_target('conx_svg_control', function(comm, msg) {\n",
       "        comm.on_msg(function(msg) {\n",
       "            var data = msg[\"content\"][\"data\"];\n",
       "            var images = document.getElementsByClassName(data[\"class\"]);\n",
       "            for (var i = 0; i < images.length; i++) {\n",
       "                if (data[\"href\"]) {\n",
       "                    images[i].setAttributeNS(null, \"href\", data[\"href\"]);\n",
       "                }\n",
       "                if (data[\"src\"]) {\n",
       "                    images[i].setAttributeNS(null, \"src\", data[\"src\"]);\n",
       "                }\n",
       "            }\n",
       "        });\n",
       "    });\n",
       "});\n"
      ],
      "text/plain": [
       "<IPython.core.display.Javascript object>"
      ]
     },
     "metadata": {},
     "output_type": "display_data"
    },
    {
     "data": {
      "application/javascript": [
       "\n",
       "require(['base/js/namespace'], function(Jupyter) {\n",
       "    Jupyter.notebook.kernel.comm_manager.register_target('conx_svg_control', function(comm, msg) {\n",
       "        comm.on_msg(function(msg) {\n",
       "            var data = msg[\"content\"][\"data\"];\n",
       "            var images = document.getElementsByClassName(data[\"class\"]);\n",
       "            for (var i = 0; i < images.length; i++) {\n",
       "                if (data[\"href\"]) {\n",
       "                    images[i].setAttributeNS(null, \"href\", data[\"href\"]);\n",
       "                }\n",
       "                if (data[\"src\"]) {\n",
       "                    images[i].setAttributeNS(null, \"src\", data[\"src\"]);\n",
       "                }\n",
       "            }\n",
       "        });\n",
       "    });\n",
       "});\n"
      ],
      "text/plain": [
       "<IPython.core.display.Javascript object>"
      ]
     },
     "metadata": {},
     "output_type": "display_data"
    },
    {
     "data": {
      "application/javascript": [
       "\n",
       "require(['base/js/namespace'], function(Jupyter) {\n",
       "    Jupyter.notebook.kernel.comm_manager.register_target('conx_svg_control', function(comm, msg) {\n",
       "        comm.on_msg(function(msg) {\n",
       "            var data = msg[\"content\"][\"data\"];\n",
       "            var images = document.getElementsByClassName(data[\"class\"]);\n",
       "            for (var i = 0; i < images.length; i++) {\n",
       "                if (data[\"href\"]) {\n",
       "                    images[i].setAttributeNS(null, \"href\", data[\"href\"]);\n",
       "                }\n",
       "                if (data[\"src\"]) {\n",
       "                    images[i].setAttributeNS(null, \"src\", data[\"src\"]);\n",
       "                }\n",
       "            }\n",
       "        });\n",
       "    });\n",
       "});\n"
      ],
      "text/plain": [
       "<IPython.core.display.Javascript object>"
      ]
     },
     "metadata": {},
     "output_type": "display_data"
    }
   ],
   "source": [
    "net.dashboard()"
   ]
  },
  {
   "cell_type": "code",
   "execution_count": 7,
   "metadata": {},
   "outputs": [
    {
     "name": "stdout",
     "output_type": "stream",
     "text": [
      "Input Summary:\n",
      "   count  : 70000 (70000 for training, 0 for testing)\n",
      "   shape  : [(28, 28, 1)]\n",
      "   range  : (0.0, 1.0)\n",
      "Target Summary:\n",
      "   count  : 70000 (70000 for training, 0 for testing)\n",
      "   shape  : [(10,)]\n",
      "   range  : (0.0, 1.0)\n"
     ]
    }
   ],
   "source": [
    "net.dataset.summary()"
   ]
  },
  {
   "cell_type": "code",
   "execution_count": 8,
   "metadata": {},
   "outputs": [],
   "source": [
    "net.dataset.set_targets_from_inputs()"
   ]
  },
  {
   "cell_type": "code",
   "execution_count": 9,
   "metadata": {},
   "outputs": [
    {
     "name": "stdout",
     "output_type": "stream",
     "text": [
      "Input Summary:\n",
      "   count  : 70000 (70000 for training, 0 for testing)\n",
      "   shape  : [(28, 28, 1)]\n",
      "   range  : (0.0, 1.0)\n",
      "Target Summary:\n",
      "   count  : 70000 (70000 for training, 0 for testing)\n",
      "   shape  : [(28, 28, 1)]\n",
      "   range  : (0.0, 1.0)\n"
     ]
    }
   ],
   "source": [
    "net.dataset.summary()"
   ]
  },
  {
   "cell_type": "code",
   "execution_count": 10,
   "metadata": {},
   "outputs": [],
   "source": [
    "net.dataset.targets.reshape(28*28)"
   ]
  },
  {
   "cell_type": "code",
   "execution_count": 11,
   "metadata": {},
   "outputs": [
    {
     "name": "stdout",
     "output_type": "stream",
     "text": [
      "Input Summary:\n",
      "   count  : 70000 (70000 for training, 0 for testing)\n",
      "   shape  : [(28, 28, 1)]\n",
      "   range  : (0.0, 1.0)\n",
      "Target Summary:\n",
      "   count  : 70000 (70000 for training, 0 for testing)\n",
      "   shape  : [(784,)]\n",
      "   range  : (0.0, 1.0)\n"
     ]
    }
   ],
   "source": [
    "net.dataset.summary()"
   ]
  },
  {
   "cell_type": "code",
   "execution_count": 23,
   "metadata": {},
   "outputs": [],
   "source": [
    "net.dataset.chop(100)"
   ]
  },
  {
   "cell_type": "code",
   "execution_count": 24,
   "metadata": {},
   "outputs": [],
   "source": [
    "net.dataset.split(0.1)"
   ]
  },
  {
   "cell_type": "code",
   "execution_count": 26,
   "metadata": {},
   "outputs": [
    {
     "name": "stdout",
     "output_type": "stream",
     "text": [
      "Input Summary:\n",
      "   count  : 100 (90 for training, 10 for testing)\n",
      "   shape  : [(28, 28, 1)]\n",
      "   range  : (0.0, 1.0)\n",
      "Target Summary:\n",
      "   count  : 100 (90 for training, 10 for testing)\n",
      "   shape  : [(784,)]\n",
      "   range  : (0.0, 1.0)\n"
     ]
    }
   ],
   "source": [
    "net.dataset.summary()"
   ]
  },
  {
   "cell_type": "code",
   "execution_count": 29,
   "metadata": {},
   "outputs": [
    {
     "data": {
      "image/svg+xml": [
       "<svg height=\"288pt\" version=\"1.1\" viewBox=\"0 0 720 288\" width=\"720pt\" xmlns=\"http://www.w3.org/2000/svg\" xmlns:xlink=\"http://www.w3.org/1999/xlink\">\n",
       " <defs>\n",
       "  <style type=\"text/css\">\n",
       "*{stroke-linecap:butt;stroke-linejoin:round;}\n",
       "  </style>\n",
       " </defs>\n",
       " <g id=\"figure_1\">\n",
       "  <g id=\"patch_1\">\n",
       "   <path d=\"M 0 288  L 720 288  L 720 0  L 0 0  z \" style=\"fill:#ffffff;\"/>\n",
       "  </g>\n",
       "  <g id=\"axes_1\">\n",
       "   <g id=\"patch_2\">\n",
       "    <path d=\"M 90 252  L 343.636364 252  L 343.636364 34.56  L 90 34.56  z \" style=\"fill:#ffffff;\"/>\n",
       "   </g>\n",
       "   <g id=\"matplotlib.axis_1\">\n",
       "    <g id=\"xtick_1\">\n",
       "     <g id=\"line2d_1\">\n",
       "      <defs>\n",
       "       <path d=\"M 0 0  L 0 3.5  \" id=\"mdc372c7932\" style=\"stroke:#000000;stroke-width:0.8;\"/>\n",
       "      </defs>\n",
       "      <g>\n",
       "       <use style=\"stroke:#000000;stroke-width:0.8;\" x=\"101.528926\" xlink:href=\"#mdc372c7932\" y=\"252\"/>\n",
       "      </g>\n",
       "     </g>\n",
       "     <g id=\"text_1\">\n",
       "      <!-- 0 -->\n",
       "      <defs>\n",
       "       <path d=\"M 31.78125 66.40625  Q 24.171875 66.40625 20.328125 58.90625  Q 16.5 51.421875 16.5 36.375  Q 16.5 21.390625 20.328125 13.890625  Q 24.171875 6.390625 31.78125 6.390625  Q 39.453125 6.390625 43.28125 13.890625  Q 47.125 21.390625 47.125 36.375  Q 47.125 51.421875 43.28125 58.90625  Q 39.453125 66.40625 31.78125 66.40625  z M 31.78125 74.21875  Q 44.046875 74.21875 50.515625 64.515625  Q 56.984375 54.828125 56.984375 36.375  Q 56.984375 17.96875 50.515625 8.265625  Q 44.046875 -1.421875 31.78125 -1.421875  Q 19.53125 -1.421875 13.0625 8.265625  Q 6.59375 17.96875 6.59375 36.375  Q 6.59375 54.828125 13.0625 64.515625  Q 19.53125 74.21875 31.78125 74.21875  z \" id=\"DejaVuSans-30\"/>\n",
       "      </defs>\n",
       "      <g transform=\"translate(98.347676 266.598437)scale(0.1 -0.1)\">\n",
       "       <use xlink:href=\"#DejaVuSans-30\"/>\n",
       "      </g>\n",
       "     </g>\n",
       "    </g>\n",
       "    <g id=\"xtick_2\">\n",
       "     <g id=\"line2d_2\">\n",
       "      <g>\n",
       "       <use style=\"stroke:#000000;stroke-width:0.8;\" x=\"147.644628\" xlink:href=\"#mdc372c7932\" y=\"252\"/>\n",
       "      </g>\n",
       "     </g>\n",
       "     <g id=\"text_2\">\n",
       "      <!-- 10 -->\n",
       "      <defs>\n",
       "       <path d=\"M 12.40625 8.296875  L 28.515625 8.296875  L 28.515625 63.921875  L 10.984375 60.40625  L 10.984375 69.390625  L 28.421875 72.90625  L 38.28125 72.90625  L 38.28125 8.296875  L 54.390625 8.296875  L 54.390625 0  L 12.40625 0  z \" id=\"DejaVuSans-31\"/>\n",
       "      </defs>\n",
       "      <g transform=\"translate(141.282128 266.598437)scale(0.1 -0.1)\">\n",
       "       <use xlink:href=\"#DejaVuSans-31\"/>\n",
       "       <use x=\"63.623047\" xlink:href=\"#DejaVuSans-30\"/>\n",
       "      </g>\n",
       "     </g>\n",
       "    </g>\n",
       "    <g id=\"xtick_3\">\n",
       "     <g id=\"line2d_3\">\n",
       "      <g>\n",
       "       <use style=\"stroke:#000000;stroke-width:0.8;\" x=\"193.760331\" xlink:href=\"#mdc372c7932\" y=\"252\"/>\n",
       "      </g>\n",
       "     </g>\n",
       "     <g id=\"text_3\">\n",
       "      <!-- 20 -->\n",
       "      <defs>\n",
       "       <path d=\"M 19.1875 8.296875  L 53.609375 8.296875  L 53.609375 0  L 7.328125 0  L 7.328125 8.296875  Q 12.9375 14.109375 22.625 23.890625  Q 32.328125 33.6875 34.8125 36.53125  Q 39.546875 41.84375 41.421875 45.53125  Q 43.3125 49.21875 43.3125 52.78125  Q 43.3125 58.59375 39.234375 62.25  Q 35.15625 65.921875 28.609375 65.921875  Q 23.96875 65.921875 18.8125 64.3125  Q 13.671875 62.703125 7.8125 59.421875  L 7.8125 69.390625  Q 13.765625 71.78125 18.9375 73  Q 24.125 74.21875 28.421875 74.21875  Q 39.75 74.21875 46.484375 68.546875  Q 53.21875 62.890625 53.21875 53.421875  Q 53.21875 48.921875 51.53125 44.890625  Q 49.859375 40.875 45.40625 35.40625  Q 44.1875 33.984375 37.640625 27.21875  Q 31.109375 20.453125 19.1875 8.296875  z \" id=\"DejaVuSans-32\"/>\n",
       "      </defs>\n",
       "      <g transform=\"translate(187.397831 266.598437)scale(0.1 -0.1)\">\n",
       "       <use xlink:href=\"#DejaVuSans-32\"/>\n",
       "       <use x=\"63.623047\" xlink:href=\"#DejaVuSans-30\"/>\n",
       "      </g>\n",
       "     </g>\n",
       "    </g>\n",
       "    <g id=\"xtick_4\">\n",
       "     <g id=\"line2d_4\">\n",
       "      <g>\n",
       "       <use style=\"stroke:#000000;stroke-width:0.8;\" x=\"239.876033\" xlink:href=\"#mdc372c7932\" y=\"252\"/>\n",
       "      </g>\n",
       "     </g>\n",
       "     <g id=\"text_4\">\n",
       "      <!-- 30 -->\n",
       "      <defs>\n",
       "       <path d=\"M 40.578125 39.3125  Q 47.65625 37.796875 51.625 33  Q 55.609375 28.21875 55.609375 21.1875  Q 55.609375 10.40625 48.1875 4.484375  Q 40.765625 -1.421875 27.09375 -1.421875  Q 22.515625 -1.421875 17.65625 -0.515625  Q 12.796875 0.390625 7.625 2.203125  L 7.625 11.71875  Q 11.71875 9.328125 16.59375 8.109375  Q 21.484375 6.890625 26.8125 6.890625  Q 36.078125 6.890625 40.9375 10.546875  Q 45.796875 14.203125 45.796875 21.1875  Q 45.796875 27.640625 41.28125 31.265625  Q 36.765625 34.90625 28.71875 34.90625  L 20.21875 34.90625  L 20.21875 43.015625  L 29.109375 43.015625  Q 36.375 43.015625 40.234375 45.921875  Q 44.09375 48.828125 44.09375 54.296875  Q 44.09375 59.90625 40.109375 62.90625  Q 36.140625 65.921875 28.71875 65.921875  Q 24.65625 65.921875 20.015625 65.03125  Q 15.375 64.15625 9.8125 62.3125  L 9.8125 71.09375  Q 15.4375 72.65625 20.34375 73.4375  Q 25.25 74.21875 29.59375 74.21875  Q 40.828125 74.21875 47.359375 69.109375  Q 53.90625 64.015625 53.90625 55.328125  Q 53.90625 49.265625 50.4375 45.09375  Q 46.96875 40.921875 40.578125 39.3125  z \" id=\"DejaVuSans-33\"/>\n",
       "      </defs>\n",
       "      <g transform=\"translate(233.513533 266.598437)scale(0.1 -0.1)\">\n",
       "       <use xlink:href=\"#DejaVuSans-33\"/>\n",
       "       <use x=\"63.623047\" xlink:href=\"#DejaVuSans-30\"/>\n",
       "      </g>\n",
       "     </g>\n",
       "    </g>\n",
       "    <g id=\"xtick_5\">\n",
       "     <g id=\"line2d_5\">\n",
       "      <g>\n",
       "       <use style=\"stroke:#000000;stroke-width:0.8;\" x=\"285.991736\" xlink:href=\"#mdc372c7932\" y=\"252\"/>\n",
       "      </g>\n",
       "     </g>\n",
       "     <g id=\"text_5\">\n",
       "      <!-- 40 -->\n",
       "      <defs>\n",
       "       <path d=\"M 37.796875 64.3125  L 12.890625 25.390625  L 37.796875 25.390625  z M 35.203125 72.90625  L 47.609375 72.90625  L 47.609375 25.390625  L 58.015625 25.390625  L 58.015625 17.1875  L 47.609375 17.1875  L 47.609375 0  L 37.796875 0  L 37.796875 17.1875  L 4.890625 17.1875  L 4.890625 26.703125  z \" id=\"DejaVuSans-34\"/>\n",
       "      </defs>\n",
       "      <g transform=\"translate(279.629236 266.598437)scale(0.1 -0.1)\">\n",
       "       <use xlink:href=\"#DejaVuSans-34\"/>\n",
       "       <use x=\"63.623047\" xlink:href=\"#DejaVuSans-30\"/>\n",
       "      </g>\n",
       "     </g>\n",
       "    </g>\n",
       "    <g id=\"xtick_6\">\n",
       "     <g id=\"line2d_6\">\n",
       "      <g>\n",
       "       <use style=\"stroke:#000000;stroke-width:0.8;\" x=\"332.107438\" xlink:href=\"#mdc372c7932\" y=\"252\"/>\n",
       "      </g>\n",
       "     </g>\n",
       "     <g id=\"text_6\">\n",
       "      <!-- 50 -->\n",
       "      <defs>\n",
       "       <path d=\"M 10.796875 72.90625  L 49.515625 72.90625  L 49.515625 64.59375  L 19.828125 64.59375  L 19.828125 46.734375  Q 21.96875 47.46875 24.109375 47.828125  Q 26.265625 48.1875 28.421875 48.1875  Q 40.625 48.1875 47.75 41.5  Q 54.890625 34.8125 54.890625 23.390625  Q 54.890625 11.625 47.5625 5.09375  Q 40.234375 -1.421875 26.90625 -1.421875  Q 22.3125 -1.421875 17.546875 -0.640625  Q 12.796875 0.140625 7.71875 1.703125  L 7.71875 11.625  Q 12.109375 9.234375 16.796875 8.0625  Q 21.484375 6.890625 26.703125 6.890625  Q 35.15625 6.890625 40.078125 11.328125  Q 45.015625 15.765625 45.015625 23.390625  Q 45.015625 31 40.078125 35.4375  Q 35.15625 39.890625 26.703125 39.890625  Q 22.75 39.890625 18.8125 39.015625  Q 14.890625 38.140625 10.796875 36.28125  z \" id=\"DejaVuSans-35\"/>\n",
       "      </defs>\n",
       "      <g transform=\"translate(325.744938 266.598437)scale(0.1 -0.1)\">\n",
       "       <use xlink:href=\"#DejaVuSans-35\"/>\n",
       "       <use x=\"63.623047\" xlink:href=\"#DejaVuSans-30\"/>\n",
       "      </g>\n",
       "     </g>\n",
       "    </g>\n",
       "    <g id=\"text_7\">\n",
       "     <!-- Epoch -->\n",
       "     <defs>\n",
       "      <path d=\"M 9.8125 72.90625  L 55.90625 72.90625  L 55.90625 64.59375  L 19.671875 64.59375  L 19.671875 43.015625  L 54.390625 43.015625  L 54.390625 34.71875  L 19.671875 34.71875  L 19.671875 8.296875  L 56.78125 8.296875  L 56.78125 0  L 9.8125 0  z \" id=\"DejaVuSans-45\"/>\n",
       "      <path d=\"M 18.109375 8.203125  L 18.109375 -20.796875  L 9.078125 -20.796875  L 9.078125 54.6875  L 18.109375 54.6875  L 18.109375 46.390625  Q 20.953125 51.265625 25.265625 53.625  Q 29.59375 56 35.59375 56  Q 45.5625 56 51.78125 48.09375  Q 58.015625 40.1875 58.015625 27.296875  Q 58.015625 14.40625 51.78125 6.484375  Q 45.5625 -1.421875 35.59375 -1.421875  Q 29.59375 -1.421875 25.265625 0.953125  Q 20.953125 3.328125 18.109375 8.203125  z M 48.6875 27.296875  Q 48.6875 37.203125 44.609375 42.84375  Q 40.53125 48.484375 33.40625 48.484375  Q 26.265625 48.484375 22.1875 42.84375  Q 18.109375 37.203125 18.109375 27.296875  Q 18.109375 17.390625 22.1875 11.75  Q 26.265625 6.109375 33.40625 6.109375  Q 40.53125 6.109375 44.609375 11.75  Q 48.6875 17.390625 48.6875 27.296875  z \" id=\"DejaVuSans-70\"/>\n",
       "      <path d=\"M 30.609375 48.390625  Q 23.390625 48.390625 19.1875 42.75  Q 14.984375 37.109375 14.984375 27.296875  Q 14.984375 17.484375 19.15625 11.84375  Q 23.34375 6.203125 30.609375 6.203125  Q 37.796875 6.203125 41.984375 11.859375  Q 46.1875 17.53125 46.1875 27.296875  Q 46.1875 37.015625 41.984375 42.703125  Q 37.796875 48.390625 30.609375 48.390625  z M 30.609375 56  Q 42.328125 56 49.015625 48.375  Q 55.71875 40.765625 55.71875 27.296875  Q 55.71875 13.875 49.015625 6.21875  Q 42.328125 -1.421875 30.609375 -1.421875  Q 18.84375 -1.421875 12.171875 6.21875  Q 5.515625 13.875 5.515625 27.296875  Q 5.515625 40.765625 12.171875 48.375  Q 18.84375 56 30.609375 56  z \" id=\"DejaVuSans-6f\"/>\n",
       "      <path d=\"M 48.78125 52.59375  L 48.78125 44.1875  Q 44.96875 46.296875 41.140625 47.34375  Q 37.3125 48.390625 33.40625 48.390625  Q 24.65625 48.390625 19.8125 42.84375  Q 14.984375 37.3125 14.984375 27.296875  Q 14.984375 17.28125 19.8125 11.734375  Q 24.65625 6.203125 33.40625 6.203125  Q 37.3125 6.203125 41.140625 7.25  Q 44.96875 8.296875 48.78125 10.40625  L 48.78125 2.09375  Q 45.015625 0.34375 40.984375 -0.53125  Q 36.96875 -1.421875 32.421875 -1.421875  Q 20.0625 -1.421875 12.78125 6.34375  Q 5.515625 14.109375 5.515625 27.296875  Q 5.515625 40.671875 12.859375 48.328125  Q 20.21875 56 33.015625 56  Q 37.15625 56 41.109375 55.140625  Q 45.0625 54.296875 48.78125 52.59375  z \" id=\"DejaVuSans-63\"/>\n",
       "      <path d=\"M 54.890625 33.015625  L 54.890625 0  L 45.90625 0  L 45.90625 32.71875  Q 45.90625 40.484375 42.875 44.328125  Q 39.84375 48.1875 33.796875 48.1875  Q 26.515625 48.1875 22.3125 43.546875  Q 18.109375 38.921875 18.109375 30.90625  L 18.109375 0  L 9.078125 0  L 9.078125 75.984375  L 18.109375 75.984375  L 18.109375 46.1875  Q 21.34375 51.125 25.703125 53.5625  Q 30.078125 56 35.796875 56  Q 45.21875 56 50.046875 50.171875  Q 54.890625 44.34375 54.890625 33.015625  z \" id=\"DejaVuSans-68\"/>\n",
       "     </defs>\n",
       "     <g transform=\"translate(201.507244 280.276563)scale(0.1 -0.1)\">\n",
       "      <use xlink:href=\"#DejaVuSans-45\"/>\n",
       "      <use x=\"63.183594\" xlink:href=\"#DejaVuSans-70\"/>\n",
       "      <use x=\"126.660156\" xlink:href=\"#DejaVuSans-6f\"/>\n",
       "      <use x=\"187.841797\" xlink:href=\"#DejaVuSans-63\"/>\n",
       "      <use x=\"242.822266\" xlink:href=\"#DejaVuSans-68\"/>\n",
       "     </g>\n",
       "    </g>\n",
       "   </g>\n",
       "   <g id=\"matplotlib.axis_2\">\n",
       "    <g id=\"ytick_1\">\n",
       "     <g id=\"line2d_7\">\n",
       "      <defs>\n",
       "       <path d=\"M 0 0  L -3.5 0  \" id=\"mb18e596a6e\" style=\"stroke:#000000;stroke-width:0.8;\"/>\n",
       "      </defs>\n",
       "      <g>\n",
       "       <use style=\"stroke:#000000;stroke-width:0.8;\" x=\"90\" xlink:href=\"#mb18e596a6e\" y=\"252\"/>\n",
       "      </g>\n",
       "     </g>\n",
       "     <g id=\"text_8\">\n",
       "      <!-- 0.00 -->\n",
       "      <defs>\n",
       "       <path d=\"M 10.6875 12.40625  L 21 12.40625  L 21 0  L 10.6875 0  z \" id=\"DejaVuSans-2e\"/>\n",
       "      </defs>\n",
       "      <g transform=\"translate(60.734375 255.799219)scale(0.1 -0.1)\">\n",
       "       <use xlink:href=\"#DejaVuSans-30\"/>\n",
       "       <use x=\"63.623047\" xlink:href=\"#DejaVuSans-2e\"/>\n",
       "       <use x=\"95.410156\" xlink:href=\"#DejaVuSans-30\"/>\n",
       "       <use x=\"159.033203\" xlink:href=\"#DejaVuSans-30\"/>\n",
       "      </g>\n",
       "     </g>\n",
       "    </g>\n",
       "    <g id=\"ytick_2\">\n",
       "     <g id=\"line2d_8\">\n",
       "      <g>\n",
       "       <use style=\"stroke:#000000;stroke-width:0.8;\" x=\"90\" xlink:href=\"#mb18e596a6e\" y=\"211.813622\"/>\n",
       "      </g>\n",
       "     </g>\n",
       "     <g id=\"text_9\">\n",
       "      <!-- 0.02 -->\n",
       "      <g transform=\"translate(60.734375 215.612841)scale(0.1 -0.1)\">\n",
       "       <use xlink:href=\"#DejaVuSans-30\"/>\n",
       "       <use x=\"63.623047\" xlink:href=\"#DejaVuSans-2e\"/>\n",
       "       <use x=\"95.410156\" xlink:href=\"#DejaVuSans-30\"/>\n",
       "       <use x=\"159.033203\" xlink:href=\"#DejaVuSans-32\"/>\n",
       "      </g>\n",
       "     </g>\n",
       "    </g>\n",
       "    <g id=\"ytick_3\">\n",
       "     <g id=\"line2d_9\">\n",
       "      <g>\n",
       "       <use style=\"stroke:#000000;stroke-width:0.8;\" x=\"90\" xlink:href=\"#mb18e596a6e\" y=\"171.627245\"/>\n",
       "      </g>\n",
       "     </g>\n",
       "     <g id=\"text_10\">\n",
       "      <!-- 0.04 -->\n",
       "      <g transform=\"translate(60.734375 175.426464)scale(0.1 -0.1)\">\n",
       "       <use xlink:href=\"#DejaVuSans-30\"/>\n",
       "       <use x=\"63.623047\" xlink:href=\"#DejaVuSans-2e\"/>\n",
       "       <use x=\"95.410156\" xlink:href=\"#DejaVuSans-30\"/>\n",
       "       <use x=\"159.033203\" xlink:href=\"#DejaVuSans-34\"/>\n",
       "      </g>\n",
       "     </g>\n",
       "    </g>\n",
       "    <g id=\"ytick_4\">\n",
       "     <g id=\"line2d_10\">\n",
       "      <g>\n",
       "       <use style=\"stroke:#000000;stroke-width:0.8;\" x=\"90\" xlink:href=\"#mb18e596a6e\" y=\"131.440867\"/>\n",
       "      </g>\n",
       "     </g>\n",
       "     <g id=\"text_11\">\n",
       "      <!-- 0.06 -->\n",
       "      <defs>\n",
       "       <path d=\"M 33.015625 40.375  Q 26.375 40.375 22.484375 35.828125  Q 18.609375 31.296875 18.609375 23.390625  Q 18.609375 15.53125 22.484375 10.953125  Q 26.375 6.390625 33.015625 6.390625  Q 39.65625 6.390625 43.53125 10.953125  Q 47.40625 15.53125 47.40625 23.390625  Q 47.40625 31.296875 43.53125 35.828125  Q 39.65625 40.375 33.015625 40.375  z M 52.59375 71.296875  L 52.59375 62.3125  Q 48.875 64.0625 45.09375 64.984375  Q 41.3125 65.921875 37.59375 65.921875  Q 27.828125 65.921875 22.671875 59.328125  Q 17.53125 52.734375 16.796875 39.40625  Q 19.671875 43.65625 24.015625 45.921875  Q 28.375 48.1875 33.59375 48.1875  Q 44.578125 48.1875 50.953125 41.515625  Q 57.328125 34.859375 57.328125 23.390625  Q 57.328125 12.15625 50.6875 5.359375  Q 44.046875 -1.421875 33.015625 -1.421875  Q 20.359375 -1.421875 13.671875 8.265625  Q 6.984375 17.96875 6.984375 36.375  Q 6.984375 53.65625 15.1875 63.9375  Q 23.390625 74.21875 37.203125 74.21875  Q 40.921875 74.21875 44.703125 73.484375  Q 48.484375 72.75 52.59375 71.296875  z \" id=\"DejaVuSans-36\"/>\n",
       "      </defs>\n",
       "      <g transform=\"translate(60.734375 135.240086)scale(0.1 -0.1)\">\n",
       "       <use xlink:href=\"#DejaVuSans-30\"/>\n",
       "       <use x=\"63.623047\" xlink:href=\"#DejaVuSans-2e\"/>\n",
       "       <use x=\"95.410156\" xlink:href=\"#DejaVuSans-30\"/>\n",
       "       <use x=\"159.033203\" xlink:href=\"#DejaVuSans-36\"/>\n",
       "      </g>\n",
       "     </g>\n",
       "    </g>\n",
       "    <g id=\"ytick_5\">\n",
       "     <g id=\"line2d_11\">\n",
       "      <g>\n",
       "       <use style=\"stroke:#000000;stroke-width:0.8;\" x=\"90\" xlink:href=\"#mb18e596a6e\" y=\"91.25449\"/>\n",
       "      </g>\n",
       "     </g>\n",
       "     <g id=\"text_12\">\n",
       "      <!-- 0.08 -->\n",
       "      <defs>\n",
       "       <path d=\"M 31.78125 34.625  Q 24.75 34.625 20.71875 30.859375  Q 16.703125 27.09375 16.703125 20.515625  Q 16.703125 13.921875 20.71875 10.15625  Q 24.75 6.390625 31.78125 6.390625  Q 38.8125 6.390625 42.859375 10.171875  Q 46.921875 13.96875 46.921875 20.515625  Q 46.921875 27.09375 42.890625 30.859375  Q 38.875 34.625 31.78125 34.625  z M 21.921875 38.8125  Q 15.578125 40.375 12.03125 44.71875  Q 8.5 49.078125 8.5 55.328125  Q 8.5 64.0625 14.71875 69.140625  Q 20.953125 74.21875 31.78125 74.21875  Q 42.671875 74.21875 48.875 69.140625  Q 55.078125 64.0625 55.078125 55.328125  Q 55.078125 49.078125 51.53125 44.71875  Q 48 40.375 41.703125 38.8125  Q 48.828125 37.15625 52.796875 32.3125  Q 56.78125 27.484375 56.78125 20.515625  Q 56.78125 9.90625 50.3125 4.234375  Q 43.84375 -1.421875 31.78125 -1.421875  Q 19.734375 -1.421875 13.25 4.234375  Q 6.78125 9.90625 6.78125 20.515625  Q 6.78125 27.484375 10.78125 32.3125  Q 14.796875 37.15625 21.921875 38.8125  z M 18.3125 54.390625  Q 18.3125 48.734375 21.84375 45.5625  Q 25.390625 42.390625 31.78125 42.390625  Q 38.140625 42.390625 41.71875 45.5625  Q 45.3125 48.734375 45.3125 54.390625  Q 45.3125 60.0625 41.71875 63.234375  Q 38.140625 66.40625 31.78125 66.40625  Q 25.390625 66.40625 21.84375 63.234375  Q 18.3125 60.0625 18.3125 54.390625  z \" id=\"DejaVuSans-38\"/>\n",
       "      </defs>\n",
       "      <g transform=\"translate(60.734375 95.053708)scale(0.1 -0.1)\">\n",
       "       <use xlink:href=\"#DejaVuSans-30\"/>\n",
       "       <use x=\"63.623047\" xlink:href=\"#DejaVuSans-2e\"/>\n",
       "       <use x=\"95.410156\" xlink:href=\"#DejaVuSans-30\"/>\n",
       "       <use x=\"159.033203\" xlink:href=\"#DejaVuSans-38\"/>\n",
       "      </g>\n",
       "     </g>\n",
       "    </g>\n",
       "    <g id=\"ytick_6\">\n",
       "     <g id=\"line2d_12\">\n",
       "      <g>\n",
       "       <use style=\"stroke:#000000;stroke-width:0.8;\" x=\"90\" xlink:href=\"#mb18e596a6e\" y=\"51.068112\"/>\n",
       "      </g>\n",
       "     </g>\n",
       "     <g id=\"text_13\">\n",
       "      <!-- 0.10 -->\n",
       "      <g transform=\"translate(60.734375 54.867331)scale(0.1 -0.1)\">\n",
       "       <use xlink:href=\"#DejaVuSans-30\"/>\n",
       "       <use x=\"63.623047\" xlink:href=\"#DejaVuSans-2e\"/>\n",
       "       <use x=\"95.410156\" xlink:href=\"#DejaVuSans-31\"/>\n",
       "       <use x=\"159.033203\" xlink:href=\"#DejaVuSans-30\"/>\n",
       "      </g>\n",
       "     </g>\n",
       "    </g>\n",
       "   </g>\n",
       "   <g id=\"line2d_13\">\n",
       "    <path clip-path=\"url(#pc19af40c92)\" d=\"M 101.528926 35.695205  L 106.140496 35.041115  L 110.752066 35.126034  L 115.363636 35.374854  L 119.975207 36.004674  L 124.586777 36.622024  L 129.198347 36.970545  L 133.809917 37.051932  L 138.421488 37.211801  L 143.033058 37.319638  L 147.644628 37.421691  L 152.256198 37.39975  L 156.867769 37.467879  L 161.479339 37.442718  L 166.090909 37.420766  L 170.702479 37.581725  L 175.31405 37.45884  L 179.92562 37.587698  L 184.53719 37.551462  L 189.14876 37.764027  L 193.760331 37.73817  L 198.371901 37.843198  L 202.983471 37.813183  L 207.595041 37.920788  L 212.206612 37.975807  L 216.818182 38.006559  L 221.429752 38.094892  L 226.041322 38.114134  L 230.652893 38.171982  L 235.264463 38.192116  L 239.876033 38.226884  L 244.487603 38.251687  L 249.099174 38.274698  L 253.710744 38.301493  L 258.322314 38.320719  L 262.933884 38.326285  L 267.545455 38.362985  L 272.157025 38.362686  L 276.768595 38.384319  L 281.380165 38.390794  L 285.991736 38.426078  L 290.603306 38.451886  L 295.214876 38.460983  L 299.826446 38.470691  L 304.438017 38.498356  L 309.049587 38.498343  L 313.661157 38.51191  L 318.272727 38.52215  L 322.884298 38.535732  L 327.495868 38.541817  L 332.107438 38.548619  \" style=\"fill:none;stroke:#1f77b4;stroke-linecap:square;stroke-width:1.5;\"/>\n",
       "   </g>\n",
       "   <g id=\"line2d_14\">\n",
       "    <path clip-path=\"url(#pc19af40c92)\" d=\"M 106.140496 41.764949  L 110.752066 41.953099  L 115.363636 42.517131  L 119.975207 43.278775  L 124.586777 43.556375  L 129.198347 43.559698  L 133.809917 43.696305  L 138.421488 43.812746  L 143.033058 43.948694  L 147.644628 44.007603  L 152.256198 43.824842  L 156.867769 44.040748  L 161.479339 44.065989  L 166.090909 43.967692  L 170.702479 43.771607  L 175.31405 44.059147  L 179.92562 43.674553  L 184.53719 44.027365  L 189.14876 44.164615  L 193.760331 44.08334  L 198.371901 44.176951  L 202.983471 44.182834  L 207.595041 44.249858  L 212.206612 44.353664  L 216.818182 44.432184  L 221.429752 44.446661  L 226.041322 44.387737  L 230.652893 44.463069  L 235.264463 44.499013  L 239.876033 44.524598  L 244.487603 44.595708  L 249.099174 44.520601  L 253.710744 44.525436  L 258.322314 44.574824  L 262.933884 44.561934  L 267.545455 44.572908  L 272.157025 44.621083  L 276.768595 44.572743  L 281.380165 44.610619  L 285.991736 44.648749  L 290.603306 44.59234  L 295.214876 44.615903  L 299.826446 44.628284  L 304.438017 44.611068  L 309.049587 44.631398  L 313.661157 44.661818  L 318.272727 44.663405  L 322.884298 44.656968  L 327.495868 44.659977  L 332.107438 44.648884  \" style=\"fill:none;stroke:#ff7f0e;stroke-linecap:square;stroke-width:1.5;\"/>\n",
       "   </g>\n",
       "   <g id=\"patch_3\">\n",
       "    <path d=\"M 90 252  L 90 34.56  \" style=\"fill:none;stroke:#000000;stroke-linecap:square;stroke-linejoin:miter;stroke-width:0.8;\"/>\n",
       "   </g>\n",
       "   <g id=\"patch_4\">\n",
       "    <path d=\"M 343.636364 252  L 343.636364 34.56  \" style=\"fill:none;stroke:#000000;stroke-linecap:square;stroke-linejoin:miter;stroke-width:0.8;\"/>\n",
       "   </g>\n",
       "   <g id=\"patch_5\">\n",
       "    <path d=\"M 90 252  L 343.636364 252  \" style=\"fill:none;stroke:#000000;stroke-linecap:square;stroke-linejoin:miter;stroke-width:0.8;\"/>\n",
       "   </g>\n",
       "   <g id=\"patch_6\">\n",
       "    <path d=\"M 90 34.56  L 343.636364 34.56  \" style=\"fill:none;stroke:#000000;stroke-linecap:square;stroke-linejoin:miter;stroke-width:0.8;\"/>\n",
       "   </g>\n",
       "   <g id=\"text_14\">\n",
       "    <!-- Auto-Encoding with Conv: Loss -->\n",
       "    <defs>\n",
       "     <path d=\"M 34.1875 63.1875  L 20.796875 26.90625  L 47.609375 26.90625  z M 28.609375 72.90625  L 39.796875 72.90625  L 67.578125 0  L 57.328125 0  L 50.6875 18.703125  L 17.828125 18.703125  L 11.1875 0  L 0.78125 0  z \" id=\"DejaVuSans-41\"/>\n",
       "     <path d=\"M 8.5 21.578125  L 8.5 54.6875  L 17.484375 54.6875  L 17.484375 21.921875  Q 17.484375 14.15625 20.5 10.265625  Q 23.53125 6.390625 29.59375 6.390625  Q 36.859375 6.390625 41.078125 11.03125  Q 45.3125 15.671875 45.3125 23.6875  L 45.3125 54.6875  L 54.296875 54.6875  L 54.296875 0  L 45.3125 0  L 45.3125 8.40625  Q 42.046875 3.421875 37.71875 1  Q 33.40625 -1.421875 27.6875 -1.421875  Q 18.265625 -1.421875 13.375 4.4375  Q 8.5 10.296875 8.5 21.578125  z M 31.109375 56  z \" id=\"DejaVuSans-75\"/>\n",
       "     <path d=\"M 18.3125 70.21875  L 18.3125 54.6875  L 36.8125 54.6875  L 36.8125 47.703125  L 18.3125 47.703125  L 18.3125 18.015625  Q 18.3125 11.328125 20.140625 9.421875  Q 21.96875 7.515625 27.59375 7.515625  L 36.8125 7.515625  L 36.8125 0  L 27.59375 0  Q 17.1875 0 13.234375 3.875  Q 9.28125 7.765625 9.28125 18.015625  L 9.28125 47.703125  L 2.6875 47.703125  L 2.6875 54.6875  L 9.28125 54.6875  L 9.28125 70.21875  z \" id=\"DejaVuSans-74\"/>\n",
       "     <path d=\"M 4.890625 31.390625  L 31.203125 31.390625  L 31.203125 23.390625  L 4.890625 23.390625  z \" id=\"DejaVuSans-2d\"/>\n",
       "     <path d=\"M 54.890625 33.015625  L 54.890625 0  L 45.90625 0  L 45.90625 32.71875  Q 45.90625 40.484375 42.875 44.328125  Q 39.84375 48.1875 33.796875 48.1875  Q 26.515625 48.1875 22.3125 43.546875  Q 18.109375 38.921875 18.109375 30.90625  L 18.109375 0  L 9.078125 0  L 9.078125 54.6875  L 18.109375 54.6875  L 18.109375 46.1875  Q 21.34375 51.125 25.703125 53.5625  Q 30.078125 56 35.796875 56  Q 45.21875 56 50.046875 50.171875  Q 54.890625 44.34375 54.890625 33.015625  z \" id=\"DejaVuSans-6e\"/>\n",
       "     <path d=\"M 45.40625 46.390625  L 45.40625 75.984375  L 54.390625 75.984375  L 54.390625 0  L 45.40625 0  L 45.40625 8.203125  Q 42.578125 3.328125 38.25 0.953125  Q 33.9375 -1.421875 27.875 -1.421875  Q 17.96875 -1.421875 11.734375 6.484375  Q 5.515625 14.40625 5.515625 27.296875  Q 5.515625 40.1875 11.734375 48.09375  Q 17.96875 56 27.875 56  Q 33.9375 56 38.25 53.625  Q 42.578125 51.265625 45.40625 46.390625  z M 14.796875 27.296875  Q 14.796875 17.390625 18.875 11.75  Q 22.953125 6.109375 30.078125 6.109375  Q 37.203125 6.109375 41.296875 11.75  Q 45.40625 17.390625 45.40625 27.296875  Q 45.40625 37.203125 41.296875 42.84375  Q 37.203125 48.484375 30.078125 48.484375  Q 22.953125 48.484375 18.875 42.84375  Q 14.796875 37.203125 14.796875 27.296875  z \" id=\"DejaVuSans-64\"/>\n",
       "     <path d=\"M 9.421875 54.6875  L 18.40625 54.6875  L 18.40625 0  L 9.421875 0  z M 9.421875 75.984375  L 18.40625 75.984375  L 18.40625 64.59375  L 9.421875 64.59375  z \" id=\"DejaVuSans-69\"/>\n",
       "     <path d=\"M 45.40625 27.984375  Q 45.40625 37.75 41.375 43.109375  Q 37.359375 48.484375 30.078125 48.484375  Q 22.859375 48.484375 18.828125 43.109375  Q 14.796875 37.75 14.796875 27.984375  Q 14.796875 18.265625 18.828125 12.890625  Q 22.859375 7.515625 30.078125 7.515625  Q 37.359375 7.515625 41.375 12.890625  Q 45.40625 18.265625 45.40625 27.984375  z M 54.390625 6.78125  Q 54.390625 -7.171875 48.1875 -13.984375  Q 42 -20.796875 29.203125 -20.796875  Q 24.46875 -20.796875 20.265625 -20.09375  Q 16.0625 -19.390625 12.109375 -17.921875  L 12.109375 -9.1875  Q 16.0625 -11.328125 19.921875 -12.34375  Q 23.78125 -13.375 27.78125 -13.375  Q 36.625 -13.375 41.015625 -8.765625  Q 45.40625 -4.15625 45.40625 5.171875  L 45.40625 9.625  Q 42.625 4.78125 38.28125 2.390625  Q 33.9375 0 27.875 0  Q 17.828125 0 11.671875 7.65625  Q 5.515625 15.328125 5.515625 27.984375  Q 5.515625 40.671875 11.671875 48.328125  Q 17.828125 56 27.875 56  Q 33.9375 56 38.28125 53.609375  Q 42.625 51.21875 45.40625 46.390625  L 45.40625 54.6875  L 54.390625 54.6875  z \" id=\"DejaVuSans-67\"/>\n",
       "     <path id=\"DejaVuSans-20\"/>\n",
       "     <path d=\"M 4.203125 54.6875  L 13.1875 54.6875  L 24.421875 12.015625  L 35.59375 54.6875  L 46.1875 54.6875  L 57.421875 12.015625  L 68.609375 54.6875  L 77.59375 54.6875  L 63.28125 0  L 52.6875 0  L 40.921875 44.828125  L 29.109375 0  L 18.5 0  z \" id=\"DejaVuSans-77\"/>\n",
       "     <path d=\"M 64.40625 67.28125  L 64.40625 56.890625  Q 59.421875 61.53125 53.78125 63.8125  Q 48.140625 66.109375 41.796875 66.109375  Q 29.296875 66.109375 22.65625 58.46875  Q 16.015625 50.828125 16.015625 36.375  Q 16.015625 21.96875 22.65625 14.328125  Q 29.296875 6.6875 41.796875 6.6875  Q 48.140625 6.6875 53.78125 8.984375  Q 59.421875 11.28125 64.40625 15.921875  L 64.40625 5.609375  Q 59.234375 2.09375 53.4375 0.328125  Q 47.65625 -1.421875 41.21875 -1.421875  Q 24.65625 -1.421875 15.125 8.703125  Q 5.609375 18.84375 5.609375 36.375  Q 5.609375 53.953125 15.125 64.078125  Q 24.65625 74.21875 41.21875 74.21875  Q 47.75 74.21875 53.53125 72.484375  Q 59.328125 70.75 64.40625 67.28125  z \" id=\"DejaVuSans-43\"/>\n",
       "     <path d=\"M 2.984375 54.6875  L 12.5 54.6875  L 29.59375 8.796875  L 46.6875 54.6875  L 56.203125 54.6875  L 35.6875 0  L 23.484375 0  z \" id=\"DejaVuSans-76\"/>\n",
       "     <path d=\"M 11.71875 12.40625  L 22.015625 12.40625  L 22.015625 0  L 11.71875 0  z M 11.71875 51.703125  L 22.015625 51.703125  L 22.015625 39.3125  L 11.71875 39.3125  z \" id=\"DejaVuSans-3a\"/>\n",
       "     <path d=\"M 9.8125 72.90625  L 19.671875 72.90625  L 19.671875 8.296875  L 55.171875 8.296875  L 55.171875 0  L 9.8125 0  z \" id=\"DejaVuSans-4c\"/>\n",
       "     <path d=\"M 44.28125 53.078125  L 44.28125 44.578125  Q 40.484375 46.53125 36.375 47.5  Q 32.28125 48.484375 27.875 48.484375  Q 21.1875 48.484375 17.84375 46.4375  Q 14.5 44.390625 14.5 40.28125  Q 14.5 37.15625 16.890625 35.375  Q 19.28125 33.59375 26.515625 31.984375  L 29.59375 31.296875  Q 39.15625 29.25 43.1875 25.515625  Q 47.21875 21.78125 47.21875 15.09375  Q 47.21875 7.46875 41.1875 3.015625  Q 35.15625 -1.421875 24.609375 -1.421875  Q 20.21875 -1.421875 15.453125 -0.5625  Q 10.6875 0.296875 5.421875 2  L 5.421875 11.28125  Q 10.40625 8.6875 15.234375 7.390625  Q 20.0625 6.109375 24.8125 6.109375  Q 31.15625 6.109375 34.5625 8.28125  Q 37.984375 10.453125 37.984375 14.40625  Q 37.984375 18.0625 35.515625 20.015625  Q 33.0625 21.96875 24.703125 23.78125  L 21.578125 24.515625  Q 13.234375 26.265625 9.515625 29.90625  Q 5.8125 33.546875 5.8125 39.890625  Q 5.8125 47.609375 11.28125 51.796875  Q 16.75 56 26.8125 56  Q 31.78125 56 36.171875 55.265625  Q 40.578125 54.546875 44.28125 53.078125  z \" id=\"DejaVuSans-73\"/>\n",
       "    </defs>\n",
       "    <g transform=\"translate(124.125682 28.56)scale(0.12 -0.12)\">\n",
       "     <use xlink:href=\"#DejaVuSans-41\"/>\n",
       "     <use x=\"68.408203\" xlink:href=\"#DejaVuSans-75\"/>\n",
       "     <use x=\"131.787109\" xlink:href=\"#DejaVuSans-74\"/>\n",
       "     <use x=\"170.996094\" xlink:href=\"#DejaVuSans-6f\"/>\n",
       "     <use x=\"232.193359\" xlink:href=\"#DejaVuSans-2d\"/>\n",
       "     <use x=\"268.277344\" xlink:href=\"#DejaVuSans-45\"/>\n",
       "     <use x=\"331.460938\" xlink:href=\"#DejaVuSans-6e\"/>\n",
       "     <use x=\"394.839844\" xlink:href=\"#DejaVuSans-63\"/>\n",
       "     <use x=\"449.820312\" xlink:href=\"#DejaVuSans-6f\"/>\n",
       "     <use x=\"511.001953\" xlink:href=\"#DejaVuSans-64\"/>\n",
       "     <use x=\"574.478516\" xlink:href=\"#DejaVuSans-69\"/>\n",
       "     <use x=\"602.261719\" xlink:href=\"#DejaVuSans-6e\"/>\n",
       "     <use x=\"665.640625\" xlink:href=\"#DejaVuSans-67\"/>\n",
       "     <use x=\"729.117188\" xlink:href=\"#DejaVuSans-20\"/>\n",
       "     <use x=\"760.904297\" xlink:href=\"#DejaVuSans-77\"/>\n",
       "     <use x=\"842.691406\" xlink:href=\"#DejaVuSans-69\"/>\n",
       "     <use x=\"870.474609\" xlink:href=\"#DejaVuSans-74\"/>\n",
       "     <use x=\"909.683594\" xlink:href=\"#DejaVuSans-68\"/>\n",
       "     <use x=\"973.0625\" xlink:href=\"#DejaVuSans-20\"/>\n",
       "     <use x=\"1004.849609\" xlink:href=\"#DejaVuSans-43\"/>\n",
       "     <use x=\"1074.673828\" xlink:href=\"#DejaVuSans-6f\"/>\n",
       "     <use x=\"1135.855469\" xlink:href=\"#DejaVuSans-6e\"/>\n",
       "     <use x=\"1199.234375\" xlink:href=\"#DejaVuSans-76\"/>\n",
       "     <use x=\"1258.335938\" xlink:href=\"#DejaVuSans-3a\"/>\n",
       "     <use x=\"1292.027344\" xlink:href=\"#DejaVuSans-20\"/>\n",
       "     <use x=\"1323.814453\" xlink:href=\"#DejaVuSans-4c\"/>\n",
       "     <use x=\"1379.511719\" xlink:href=\"#DejaVuSans-6f\"/>\n",
       "     <use x=\"1440.693359\" xlink:href=\"#DejaVuSans-73\"/>\n",
       "     <use x=\"1492.792969\" xlink:href=\"#DejaVuSans-73\"/>\n",
       "    </g>\n",
       "   </g>\n",
       "   <g id=\"legend_1\">\n",
       "    <g id=\"patch_7\">\n",
       "     <path d=\"M 97 247  L 197.60625 247  Q 199.60625 247 199.60625 245  L 199.60625 216.64375  Q 199.60625 214.64375 197.60625 214.64375  L 97 214.64375  Q 95 214.64375 95 216.64375  L 95 245  Q 95 247 97 247  z \" style=\"fill:#ffffff;opacity:0.8;stroke:#cccccc;stroke-linejoin:miter;\"/>\n",
       "    </g>\n",
       "    <g id=\"line2d_15\">\n",
       "     <path d=\"M 99 222.742188  L 119 222.742188  \" style=\"fill:none;stroke:#1f77b4;stroke-linecap:square;stroke-width:1.5;\"/>\n",
       "    </g>\n",
       "    <g id=\"line2d_16\"/>\n",
       "    <g id=\"text_15\">\n",
       "     <!-- Training set -->\n",
       "     <defs>\n",
       "      <path d=\"M -0.296875 72.90625  L 61.375 72.90625  L 61.375 64.59375  L 35.5 64.59375  L 35.5 0  L 25.59375 0  L 25.59375 64.59375  L -0.296875 64.59375  z \" id=\"DejaVuSans-54\"/>\n",
       "      <path d=\"M 41.109375 46.296875  Q 39.59375 47.171875 37.8125 47.578125  Q 36.03125 48 33.890625 48  Q 26.265625 48 22.1875 43.046875  Q 18.109375 38.09375 18.109375 28.8125  L 18.109375 0  L 9.078125 0  L 9.078125 54.6875  L 18.109375 54.6875  L 18.109375 46.1875  Q 20.953125 51.171875 25.484375 53.578125  Q 30.03125 56 36.53125 56  Q 37.453125 56 38.578125 55.875  Q 39.703125 55.765625 41.0625 55.515625  z \" id=\"DejaVuSans-72\"/>\n",
       "      <path d=\"M 34.28125 27.484375  Q 23.390625 27.484375 19.1875 25  Q 14.984375 22.515625 14.984375 16.5  Q 14.984375 11.71875 18.140625 8.90625  Q 21.296875 6.109375 26.703125 6.109375  Q 34.1875 6.109375 38.703125 11.40625  Q 43.21875 16.703125 43.21875 25.484375  L 43.21875 27.484375  z M 52.203125 31.203125  L 52.203125 0  L 43.21875 0  L 43.21875 8.296875  Q 40.140625 3.328125 35.546875 0.953125  Q 30.953125 -1.421875 24.3125 -1.421875  Q 15.921875 -1.421875 10.953125 3.296875  Q 6 8.015625 6 15.921875  Q 6 25.140625 12.171875 29.828125  Q 18.359375 34.515625 30.609375 34.515625  L 43.21875 34.515625  L 43.21875 35.40625  Q 43.21875 41.609375 39.140625 45  Q 35.0625 48.390625 27.6875 48.390625  Q 23 48.390625 18.546875 47.265625  Q 14.109375 46.140625 10.015625 43.890625  L 10.015625 52.203125  Q 14.9375 54.109375 19.578125 55.046875  Q 24.21875 56 28.609375 56  Q 40.484375 56 46.34375 49.84375  Q 52.203125 43.703125 52.203125 31.203125  z \" id=\"DejaVuSans-61\"/>\n",
       "      <path d=\"M 56.203125 29.59375  L 56.203125 25.203125  L 14.890625 25.203125  Q 15.484375 15.921875 20.484375 11.0625  Q 25.484375 6.203125 34.421875 6.203125  Q 39.59375 6.203125 44.453125 7.46875  Q 49.3125 8.734375 54.109375 11.28125  L 54.109375 2.78125  Q 49.265625 0.734375 44.1875 -0.34375  Q 39.109375 -1.421875 33.890625 -1.421875  Q 20.796875 -1.421875 13.15625 6.1875  Q 5.515625 13.8125 5.515625 26.8125  Q 5.515625 40.234375 12.765625 48.109375  Q 20.015625 56 32.328125 56  Q 43.359375 56 49.78125 48.890625  Q 56.203125 41.796875 56.203125 29.59375  z M 47.21875 32.234375  Q 47.125 39.59375 43.09375 43.984375  Q 39.0625 48.390625 32.421875 48.390625  Q 24.90625 48.390625 20.390625 44.140625  Q 15.875 39.890625 15.1875 32.171875  z \" id=\"DejaVuSans-65\"/>\n",
       "     </defs>\n",
       "     <g transform=\"translate(127 226.242188)scale(0.1 -0.1)\">\n",
       "      <use xlink:href=\"#DejaVuSans-54\"/>\n",
       "      <use x=\"60.865234\" xlink:href=\"#DejaVuSans-72\"/>\n",
       "      <use x=\"101.978516\" xlink:href=\"#DejaVuSans-61\"/>\n",
       "      <use x=\"163.257812\" xlink:href=\"#DejaVuSans-69\"/>\n",
       "      <use x=\"191.041016\" xlink:href=\"#DejaVuSans-6e\"/>\n",
       "      <use x=\"254.419922\" xlink:href=\"#DejaVuSans-69\"/>\n",
       "      <use x=\"282.203125\" xlink:href=\"#DejaVuSans-6e\"/>\n",
       "      <use x=\"345.582031\" xlink:href=\"#DejaVuSans-67\"/>\n",
       "      <use x=\"409.058594\" xlink:href=\"#DejaVuSans-20\"/>\n",
       "      <use x=\"440.845703\" xlink:href=\"#DejaVuSans-73\"/>\n",
       "      <use x=\"492.945312\" xlink:href=\"#DejaVuSans-65\"/>\n",
       "      <use x=\"554.46875\" xlink:href=\"#DejaVuSans-74\"/>\n",
       "     </g>\n",
       "    </g>\n",
       "    <g id=\"line2d_17\">\n",
       "     <path d=\"M 99 237.420312  L 119 237.420312  \" style=\"fill:none;stroke:#ff7f0e;stroke-linecap:square;stroke-width:1.5;\"/>\n",
       "    </g>\n",
       "    <g id=\"line2d_18\"/>\n",
       "    <g id=\"text_16\">\n",
       "     <!-- Validation set -->\n",
       "     <defs>\n",
       "      <path d=\"M 28.609375 0  L 0.78125 72.90625  L 11.078125 72.90625  L 34.1875 11.53125  L 57.328125 72.90625  L 67.578125 72.90625  L 39.796875 0  z \" id=\"DejaVuSans-56\"/>\n",
       "      <path d=\"M 9.421875 75.984375  L 18.40625 75.984375  L 18.40625 0  L 9.421875 0  z \" id=\"DejaVuSans-6c\"/>\n",
       "     </defs>\n",
       "     <g transform=\"translate(127 240.920312)scale(0.1 -0.1)\">\n",
       "      <use xlink:href=\"#DejaVuSans-56\"/>\n",
       "      <use x=\"68.298828\" xlink:href=\"#DejaVuSans-61\"/>\n",
       "      <use x=\"129.578125\" xlink:href=\"#DejaVuSans-6c\"/>\n",
       "      <use x=\"157.361328\" xlink:href=\"#DejaVuSans-69\"/>\n",
       "      <use x=\"185.144531\" xlink:href=\"#DejaVuSans-64\"/>\n",
       "      <use x=\"248.621094\" xlink:href=\"#DejaVuSans-61\"/>\n",
       "      <use x=\"309.900391\" xlink:href=\"#DejaVuSans-74\"/>\n",
       "      <use x=\"349.109375\" xlink:href=\"#DejaVuSans-69\"/>\n",
       "      <use x=\"376.892578\" xlink:href=\"#DejaVuSans-6f\"/>\n",
       "      <use x=\"438.074219\" xlink:href=\"#DejaVuSans-6e\"/>\n",
       "      <use x=\"501.453125\" xlink:href=\"#DejaVuSans-20\"/>\n",
       "      <use x=\"533.240234\" xlink:href=\"#DejaVuSans-73\"/>\n",
       "      <use x=\"585.339844\" xlink:href=\"#DejaVuSans-65\"/>\n",
       "      <use x=\"646.863281\" xlink:href=\"#DejaVuSans-74\"/>\n",
       "     </g>\n",
       "    </g>\n",
       "   </g>\n",
       "  </g>\n",
       "  <g id=\"axes_2\">\n",
       "   <g id=\"patch_8\">\n",
       "    <path d=\"M 394.363636 252  L 648 252  L 648 34.56  L 394.363636 34.56  z \" style=\"fill:#ffffff;\"/>\n",
       "   </g>\n",
       "   <g id=\"matplotlib.axis_3\">\n",
       "    <g id=\"xtick_7\">\n",
       "     <g id=\"line2d_19\">\n",
       "      <g>\n",
       "       <use style=\"stroke:#000000;stroke-width:0.8;\" x=\"405.892562\" xlink:href=\"#mdc372c7932\" y=\"252\"/>\n",
       "      </g>\n",
       "     </g>\n",
       "     <g id=\"text_17\">\n",
       "      <!-- 0 -->\n",
       "      <g transform=\"translate(402.711312 266.598437)scale(0.1 -0.1)\">\n",
       "       <use xlink:href=\"#DejaVuSans-30\"/>\n",
       "      </g>\n",
       "     </g>\n",
       "    </g>\n",
       "    <g id=\"xtick_8\">\n",
       "     <g id=\"line2d_20\">\n",
       "      <g>\n",
       "       <use style=\"stroke:#000000;stroke-width:0.8;\" x=\"452.008264\" xlink:href=\"#mdc372c7932\" y=\"252\"/>\n",
       "      </g>\n",
       "     </g>\n",
       "     <g id=\"text_18\">\n",
       "      <!-- 10 -->\n",
       "      <g transform=\"translate(445.645764 266.598437)scale(0.1 -0.1)\">\n",
       "       <use xlink:href=\"#DejaVuSans-31\"/>\n",
       "       <use x=\"63.623047\" xlink:href=\"#DejaVuSans-30\"/>\n",
       "      </g>\n",
       "     </g>\n",
       "    </g>\n",
       "    <g id=\"xtick_9\">\n",
       "     <g id=\"line2d_21\">\n",
       "      <g>\n",
       "       <use style=\"stroke:#000000;stroke-width:0.8;\" x=\"498.123967\" xlink:href=\"#mdc372c7932\" y=\"252\"/>\n",
       "      </g>\n",
       "     </g>\n",
       "     <g id=\"text_19\">\n",
       "      <!-- 20 -->\n",
       "      <g transform=\"translate(491.761467 266.598437)scale(0.1 -0.1)\">\n",
       "       <use xlink:href=\"#DejaVuSans-32\"/>\n",
       "       <use x=\"63.623047\" xlink:href=\"#DejaVuSans-30\"/>\n",
       "      </g>\n",
       "     </g>\n",
       "    </g>\n",
       "    <g id=\"xtick_10\">\n",
       "     <g id=\"line2d_22\">\n",
       "      <g>\n",
       "       <use style=\"stroke:#000000;stroke-width:0.8;\" x=\"544.239669\" xlink:href=\"#mdc372c7932\" y=\"252\"/>\n",
       "      </g>\n",
       "     </g>\n",
       "     <g id=\"text_20\">\n",
       "      <!-- 30 -->\n",
       "      <g transform=\"translate(537.877169 266.598437)scale(0.1 -0.1)\">\n",
       "       <use xlink:href=\"#DejaVuSans-33\"/>\n",
       "       <use x=\"63.623047\" xlink:href=\"#DejaVuSans-30\"/>\n",
       "      </g>\n",
       "     </g>\n",
       "    </g>\n",
       "    <g id=\"xtick_11\">\n",
       "     <g id=\"line2d_23\">\n",
       "      <g>\n",
       "       <use style=\"stroke:#000000;stroke-width:0.8;\" x=\"590.355372\" xlink:href=\"#mdc372c7932\" y=\"252\"/>\n",
       "      </g>\n",
       "     </g>\n",
       "     <g id=\"text_21\">\n",
       "      <!-- 40 -->\n",
       "      <g transform=\"translate(583.992872 266.598437)scale(0.1 -0.1)\">\n",
       "       <use xlink:href=\"#DejaVuSans-34\"/>\n",
       "       <use x=\"63.623047\" xlink:href=\"#DejaVuSans-30\"/>\n",
       "      </g>\n",
       "     </g>\n",
       "    </g>\n",
       "    <g id=\"xtick_12\">\n",
       "     <g id=\"line2d_24\">\n",
       "      <g>\n",
       "       <use style=\"stroke:#000000;stroke-width:0.8;\" x=\"636.471074\" xlink:href=\"#mdc372c7932\" y=\"252\"/>\n",
       "      </g>\n",
       "     </g>\n",
       "     <g id=\"text_22\">\n",
       "      <!-- 50 -->\n",
       "      <g transform=\"translate(630.108574 266.598437)scale(0.1 -0.1)\">\n",
       "       <use xlink:href=\"#DejaVuSans-35\"/>\n",
       "       <use x=\"63.623047\" xlink:href=\"#DejaVuSans-30\"/>\n",
       "      </g>\n",
       "     </g>\n",
       "    </g>\n",
       "    <g id=\"text_23\">\n",
       "     <!-- Epoch -->\n",
       "     <g transform=\"translate(505.870881 280.276563)scale(0.1 -0.1)\">\n",
       "      <use xlink:href=\"#DejaVuSans-45\"/>\n",
       "      <use x=\"63.183594\" xlink:href=\"#DejaVuSans-70\"/>\n",
       "      <use x=\"126.660156\" xlink:href=\"#DejaVuSans-6f\"/>\n",
       "      <use x=\"187.841797\" xlink:href=\"#DejaVuSans-63\"/>\n",
       "      <use x=\"242.822266\" xlink:href=\"#DejaVuSans-68\"/>\n",
       "     </g>\n",
       "    </g>\n",
       "   </g>\n",
       "   <g id=\"matplotlib.axis_4\">\n",
       "    <g id=\"ytick_7\">\n",
       "     <g id=\"line2d_25\">\n",
       "      <g>\n",
       "       <use style=\"stroke:#000000;stroke-width:0.8;\" x=\"394.363636\" xlink:href=\"#mb18e596a6e\" y=\"233.88\"/>\n",
       "      </g>\n",
       "     </g>\n",
       "     <g id=\"text_24\">\n",
       "      <!-- 0.0 -->\n",
       "      <g transform=\"translate(371.460511 237.679219)scale(0.1 -0.1)\">\n",
       "       <use xlink:href=\"#DejaVuSans-30\"/>\n",
       "       <use x=\"63.623047\" xlink:href=\"#DejaVuSans-2e\"/>\n",
       "       <use x=\"95.410156\" xlink:href=\"#DejaVuSans-30\"/>\n",
       "      </g>\n",
       "     </g>\n",
       "    </g>\n",
       "    <g id=\"ytick_8\">\n",
       "     <g id=\"line2d_26\">\n",
       "      <g>\n",
       "       <use style=\"stroke:#000000;stroke-width:0.8;\" x=\"394.363636\" xlink:href=\"#mb18e596a6e\" y=\"197.64\"/>\n",
       "      </g>\n",
       "     </g>\n",
       "     <g id=\"text_25\">\n",
       "      <!-- 0.2 -->\n",
       "      <g transform=\"translate(371.460511 201.439219)scale(0.1 -0.1)\">\n",
       "       <use xlink:href=\"#DejaVuSans-30\"/>\n",
       "       <use x=\"63.623047\" xlink:href=\"#DejaVuSans-2e\"/>\n",
       "       <use x=\"95.410156\" xlink:href=\"#DejaVuSans-32\"/>\n",
       "      </g>\n",
       "     </g>\n",
       "    </g>\n",
       "    <g id=\"ytick_9\">\n",
       "     <g id=\"line2d_27\">\n",
       "      <g>\n",
       "       <use style=\"stroke:#000000;stroke-width:0.8;\" x=\"394.363636\" xlink:href=\"#mb18e596a6e\" y=\"161.4\"/>\n",
       "      </g>\n",
       "     </g>\n",
       "     <g id=\"text_26\">\n",
       "      <!-- 0.4 -->\n",
       "      <g transform=\"translate(371.460511 165.199219)scale(0.1 -0.1)\">\n",
       "       <use xlink:href=\"#DejaVuSans-30\"/>\n",
       "       <use x=\"63.623047\" xlink:href=\"#DejaVuSans-2e\"/>\n",
       "       <use x=\"95.410156\" xlink:href=\"#DejaVuSans-34\"/>\n",
       "      </g>\n",
       "     </g>\n",
       "    </g>\n",
       "    <g id=\"ytick_10\">\n",
       "     <g id=\"line2d_28\">\n",
       "      <g>\n",
       "       <use style=\"stroke:#000000;stroke-width:0.8;\" x=\"394.363636\" xlink:href=\"#mb18e596a6e\" y=\"125.16\"/>\n",
       "      </g>\n",
       "     </g>\n",
       "     <g id=\"text_27\">\n",
       "      <!-- 0.6 -->\n",
       "      <g transform=\"translate(371.460511 128.959219)scale(0.1 -0.1)\">\n",
       "       <use xlink:href=\"#DejaVuSans-30\"/>\n",
       "       <use x=\"63.623047\" xlink:href=\"#DejaVuSans-2e\"/>\n",
       "       <use x=\"95.410156\" xlink:href=\"#DejaVuSans-36\"/>\n",
       "      </g>\n",
       "     </g>\n",
       "    </g>\n",
       "    <g id=\"ytick_11\">\n",
       "     <g id=\"line2d_29\">\n",
       "      <g>\n",
       "       <use style=\"stroke:#000000;stroke-width:0.8;\" x=\"394.363636\" xlink:href=\"#mb18e596a6e\" y=\"88.92\"/>\n",
       "      </g>\n",
       "     </g>\n",
       "     <g id=\"text_28\">\n",
       "      <!-- 0.8 -->\n",
       "      <g transform=\"translate(371.460511 92.719219)scale(0.1 -0.1)\">\n",
       "       <use xlink:href=\"#DejaVuSans-30\"/>\n",
       "       <use x=\"63.623047\" xlink:href=\"#DejaVuSans-2e\"/>\n",
       "       <use x=\"95.410156\" xlink:href=\"#DejaVuSans-38\"/>\n",
       "      </g>\n",
       "     </g>\n",
       "    </g>\n",
       "    <g id=\"ytick_12\">\n",
       "     <g id=\"line2d_30\">\n",
       "      <g>\n",
       "       <use style=\"stroke:#000000;stroke-width:0.8;\" x=\"394.363636\" xlink:href=\"#mb18e596a6e\" y=\"52.68\"/>\n",
       "      </g>\n",
       "     </g>\n",
       "     <g id=\"text_29\">\n",
       "      <!-- 1.0 -->\n",
       "      <g transform=\"translate(371.460511 56.479219)scale(0.1 -0.1)\">\n",
       "       <use xlink:href=\"#DejaVuSans-31\"/>\n",
       "       <use x=\"63.623047\" xlink:href=\"#DejaVuSans-2e\"/>\n",
       "       <use x=\"95.410156\" xlink:href=\"#DejaVuSans-30\"/>\n",
       "      </g>\n",
       "     </g>\n",
       "    </g>\n",
       "   </g>\n",
       "   <g id=\"line2d_31\">\n",
       "    <path clip-path=\"url(#p4830a2bc32)\" d=\"M 405.892562 233.88  L 410.504132 233.88  L 415.115702 233.88  L 419.727273 233.88  L 424.338843 233.88  L 428.950413 233.88  L 433.561983 233.88  L 438.173554 233.88  L 442.785124 233.88  L 447.396694 233.88  L 452.008264 233.88  L 456.619835 233.88  L 461.231405 233.88  L 465.842975 233.88  L 470.454545 233.88  L 475.066116 233.88  L 479.677686 233.88  L 484.289256 233.88  L 488.900826 233.88  L 493.512397 233.88  L 498.123967 233.88  L 502.735537 233.88  L 507.347107 233.88  L 511.958678 233.88  L 516.570248 233.88  L 521.181818 233.88  L 525.793388 233.88  L 530.404959 233.88  L 535.016529 233.88  L 539.628099 233.88  L 544.239669 233.88  L 548.85124 233.88  L 553.46281 233.88  L 558.07438 233.88  L 562.68595 233.88  L 567.297521 233.88  L 571.909091 233.88  L 576.520661 233.88  L 581.132231 233.88  L 585.743802 233.88  L 590.355372 233.88  L 594.966942 233.88  L 599.578512 233.88  L 604.190083 233.88  L 608.801653 233.88  L 613.413223 233.88  L 618.024793 233.88  L 622.636364 233.88  L 627.247934 233.88  L 631.859504 233.88  L 636.471074 233.88  \" style=\"fill:none;stroke:#1f77b4;stroke-linecap:square;stroke-width:1.5;\"/>\n",
       "   </g>\n",
       "   <g id=\"line2d_32\">\n",
       "    <path clip-path=\"url(#p4830a2bc32)\" d=\"M 410.504132 233.88  L 415.115702 233.88  L 419.727273 233.88  L 424.338843 233.88  L 428.950413 233.88  L 433.561983 233.88  L 438.173554 233.88  L 442.785124 233.88  L 447.396694 233.88  L 452.008264 233.88  L 456.619835 233.88  L 461.231405 233.88  L 465.842975 233.88  L 470.454545 233.88  L 475.066116 233.88  L 479.677686 233.88  L 484.289256 233.88  L 488.900826 233.88  L 493.512397 233.88  L 498.123967 233.88  L 502.735537 233.88  L 507.347107 233.88  L 511.958678 233.88  L 516.570248 233.88  L 521.181818 233.88  L 525.793388 233.88  L 530.404959 233.88  L 535.016529 233.88  L 539.628099 233.88  L 544.239669 233.88  L 548.85124 233.88  L 553.46281 233.88  L 558.07438 233.88  L 562.68595 233.88  L 567.297521 233.88  L 571.909091 233.88  L 576.520661 233.88  L 581.132231 233.88  L 585.743802 233.88  L 590.355372 233.88  L 594.966942 233.88  L 599.578512 233.88  L 604.190083 233.88  L 608.801653 233.88  L 613.413223 233.88  L 618.024793 233.88  L 622.636364 233.88  L 627.247934 233.88  L 631.859504 233.88  L 636.471074 233.88  \" style=\"fill:none;stroke:#ff7f0e;stroke-linecap:square;stroke-width:1.5;\"/>\n",
       "   </g>\n",
       "   <g id=\"patch_9\">\n",
       "    <path d=\"M 394.363636 252  L 394.363636 34.56  \" style=\"fill:none;stroke:#000000;stroke-linecap:square;stroke-linejoin:miter;stroke-width:0.8;\"/>\n",
       "   </g>\n",
       "   <g id=\"patch_10\">\n",
       "    <path d=\"M 648 252  L 648 34.56  \" style=\"fill:none;stroke:#000000;stroke-linecap:square;stroke-linejoin:miter;stroke-width:0.8;\"/>\n",
       "   </g>\n",
       "   <g id=\"patch_11\">\n",
       "    <path d=\"M 394.363636 252  L 648 252  \" style=\"fill:none;stroke:#000000;stroke-linecap:square;stroke-linejoin:miter;stroke-width:0.8;\"/>\n",
       "   </g>\n",
       "   <g id=\"patch_12\">\n",
       "    <path d=\"M 394.363636 34.56  L 648 34.56  \" style=\"fill:none;stroke:#000000;stroke-linecap:square;stroke-linejoin:miter;stroke-width:0.8;\"/>\n",
       "   </g>\n",
       "   <g id=\"text_30\">\n",
       "    <!-- Auto-Encoding with Conv: Accuracy -->\n",
       "    <defs>\n",
       "     <path d=\"M 32.171875 -5.078125  Q 28.375 -14.84375 24.75 -17.8125  Q 21.140625 -20.796875 15.09375 -20.796875  L 7.90625 -20.796875  L 7.90625 -13.28125  L 13.1875 -13.28125  Q 16.890625 -13.28125 18.9375 -11.515625  Q 21 -9.765625 23.484375 -3.21875  L 25.09375 0.875  L 2.984375 54.6875  L 12.5 54.6875  L 29.59375 11.921875  L 46.6875 54.6875  L 56.203125 54.6875  z \" id=\"DejaVuSans-79\"/>\n",
       "    </defs>\n",
       "    <g transform=\"translate(414.256193 28.56)scale(0.12 -0.12)\">\n",
       "     <use xlink:href=\"#DejaVuSans-41\"/>\n",
       "     <use x=\"68.408203\" xlink:href=\"#DejaVuSans-75\"/>\n",
       "     <use x=\"131.787109\" xlink:href=\"#DejaVuSans-74\"/>\n",
       "     <use x=\"170.996094\" xlink:href=\"#DejaVuSans-6f\"/>\n",
       "     <use x=\"232.193359\" xlink:href=\"#DejaVuSans-2d\"/>\n",
       "     <use x=\"268.277344\" xlink:href=\"#DejaVuSans-45\"/>\n",
       "     <use x=\"331.460938\" xlink:href=\"#DejaVuSans-6e\"/>\n",
       "     <use x=\"394.839844\" xlink:href=\"#DejaVuSans-63\"/>\n",
       "     <use x=\"449.820312\" xlink:href=\"#DejaVuSans-6f\"/>\n",
       "     <use x=\"511.001953\" xlink:href=\"#DejaVuSans-64\"/>\n",
       "     <use x=\"574.478516\" xlink:href=\"#DejaVuSans-69\"/>\n",
       "     <use x=\"602.261719\" xlink:href=\"#DejaVuSans-6e\"/>\n",
       "     <use x=\"665.640625\" xlink:href=\"#DejaVuSans-67\"/>\n",
       "     <use x=\"729.117188\" xlink:href=\"#DejaVuSans-20\"/>\n",
       "     <use x=\"760.904297\" xlink:href=\"#DejaVuSans-77\"/>\n",
       "     <use x=\"842.691406\" xlink:href=\"#DejaVuSans-69\"/>\n",
       "     <use x=\"870.474609\" xlink:href=\"#DejaVuSans-74\"/>\n",
       "     <use x=\"909.683594\" xlink:href=\"#DejaVuSans-68\"/>\n",
       "     <use x=\"973.0625\" xlink:href=\"#DejaVuSans-20\"/>\n",
       "     <use x=\"1004.849609\" xlink:href=\"#DejaVuSans-43\"/>\n",
       "     <use x=\"1074.673828\" xlink:href=\"#DejaVuSans-6f\"/>\n",
       "     <use x=\"1135.855469\" xlink:href=\"#DejaVuSans-6e\"/>\n",
       "     <use x=\"1199.234375\" xlink:href=\"#DejaVuSans-76\"/>\n",
       "     <use x=\"1258.335938\" xlink:href=\"#DejaVuSans-3a\"/>\n",
       "     <use x=\"1292.027344\" xlink:href=\"#DejaVuSans-20\"/>\n",
       "     <use x=\"1323.814453\" xlink:href=\"#DejaVuSans-41\"/>\n",
       "     <use x=\"1392.207031\" xlink:href=\"#DejaVuSans-63\"/>\n",
       "     <use x=\"1447.1875\" xlink:href=\"#DejaVuSans-63\"/>\n",
       "     <use x=\"1502.167969\" xlink:href=\"#DejaVuSans-75\"/>\n",
       "     <use x=\"1565.546875\" xlink:href=\"#DejaVuSans-72\"/>\n",
       "     <use x=\"1606.660156\" xlink:href=\"#DejaVuSans-61\"/>\n",
       "     <use x=\"1667.939453\" xlink:href=\"#DejaVuSans-63\"/>\n",
       "     <use x=\"1722.919922\" xlink:href=\"#DejaVuSans-79\"/>\n",
       "    </g>\n",
       "   </g>\n",
       "   <g id=\"legend_2\">\n",
       "    <g id=\"patch_13\">\n",
       "     <path d=\"M 540.39375 71.91625  L 641 71.91625  Q 643 71.91625 643 69.91625  L 643 41.56  Q 643 39.56 641 39.56  L 540.39375 39.56  Q 538.39375 39.56 538.39375 41.56  L 538.39375 69.91625  Q 538.39375 71.91625 540.39375 71.91625  z \" style=\"fill:#ffffff;opacity:0.8;stroke:#cccccc;stroke-linejoin:miter;\"/>\n",
       "    </g>\n",
       "    <g id=\"line2d_33\">\n",
       "     <path d=\"M 542.39375 47.658437  L 562.39375 47.658437  \" style=\"fill:none;stroke:#1f77b4;stroke-linecap:square;stroke-width:1.5;\"/>\n",
       "    </g>\n",
       "    <g id=\"line2d_34\"/>\n",
       "    <g id=\"text_31\">\n",
       "     <!-- Training set -->\n",
       "     <g transform=\"translate(570.39375 51.158437)scale(0.1 -0.1)\">\n",
       "      <use xlink:href=\"#DejaVuSans-54\"/>\n",
       "      <use x=\"60.865234\" xlink:href=\"#DejaVuSans-72\"/>\n",
       "      <use x=\"101.978516\" xlink:href=\"#DejaVuSans-61\"/>\n",
       "      <use x=\"163.257812\" xlink:href=\"#DejaVuSans-69\"/>\n",
       "      <use x=\"191.041016\" xlink:href=\"#DejaVuSans-6e\"/>\n",
       "      <use x=\"254.419922\" xlink:href=\"#DejaVuSans-69\"/>\n",
       "      <use x=\"282.203125\" xlink:href=\"#DejaVuSans-6e\"/>\n",
       "      <use x=\"345.582031\" xlink:href=\"#DejaVuSans-67\"/>\n",
       "      <use x=\"409.058594\" xlink:href=\"#DejaVuSans-20\"/>\n",
       "      <use x=\"440.845703\" xlink:href=\"#DejaVuSans-73\"/>\n",
       "      <use x=\"492.945312\" xlink:href=\"#DejaVuSans-65\"/>\n",
       "      <use x=\"554.46875\" xlink:href=\"#DejaVuSans-74\"/>\n",
       "     </g>\n",
       "    </g>\n",
       "    <g id=\"line2d_35\">\n",
       "     <path d=\"M 542.39375 62.336562  L 562.39375 62.336562  \" style=\"fill:none;stroke:#ff7f0e;stroke-linecap:square;stroke-width:1.5;\"/>\n",
       "    </g>\n",
       "    <g id=\"line2d_36\"/>\n",
       "    <g id=\"text_32\">\n",
       "     <!-- Validation set -->\n",
       "     <g transform=\"translate(570.39375 65.836562)scale(0.1 -0.1)\">\n",
       "      <use xlink:href=\"#DejaVuSans-56\"/>\n",
       "      <use x=\"68.298828\" xlink:href=\"#DejaVuSans-61\"/>\n",
       "      <use x=\"129.578125\" xlink:href=\"#DejaVuSans-6c\"/>\n",
       "      <use x=\"157.361328\" xlink:href=\"#DejaVuSans-69\"/>\n",
       "      <use x=\"185.144531\" xlink:href=\"#DejaVuSans-64\"/>\n",
       "      <use x=\"248.621094\" xlink:href=\"#DejaVuSans-61\"/>\n",
       "      <use x=\"309.900391\" xlink:href=\"#DejaVuSans-74\"/>\n",
       "      <use x=\"349.109375\" xlink:href=\"#DejaVuSans-69\"/>\n",
       "      <use x=\"376.892578\" xlink:href=\"#DejaVuSans-6f\"/>\n",
       "      <use x=\"438.074219\" xlink:href=\"#DejaVuSans-6e\"/>\n",
       "      <use x=\"501.453125\" xlink:href=\"#DejaVuSans-20\"/>\n",
       "      <use x=\"533.240234\" xlink:href=\"#DejaVuSans-73\"/>\n",
       "      <use x=\"585.339844\" xlink:href=\"#DejaVuSans-65\"/>\n",
       "      <use x=\"646.863281\" xlink:href=\"#DejaVuSans-74\"/>\n",
       "     </g>\n",
       "    </g>\n",
       "   </g>\n",
       "  </g>\n",
       " </g>\n",
       " <defs>\n",
       "  <clipPath id=\"pc19af40c92\">\n",
       "   <rect height=\"217.44\" width=\"253.636364\" x=\"90\" y=\"34.56\"/>\n",
       "  </clipPath>\n",
       "  <clipPath id=\"p4830a2bc32\">\n",
       "   <rect height=\"217.44\" width=\"253.636364\" x=\"394.363636\" y=\"34.56\"/>\n",
       "  </clipPath>\n",
       " </defs>\n",
       "</svg>"
      ],
      "text/plain": [
       "<IPython.core.display.SVG object>"
      ]
     },
     "metadata": {},
     "output_type": "display_data"
    },
    {
     "name": "stdout",
     "output_type": "stream",
     "text": [
      "========================================================================\n",
      "       |  Training |  Training |  Validate |  Validate \n",
      "Epochs |     Error |  Accuracy |     Error |  Accuracy \n",
      "------ | --------- | --------- | --------- | --------- \n",
      "#   50 |   0.10623 |   0.00000 |   0.10319 |   0.00000 \n"
     ]
    }
   ],
   "source": [
    "net.reset()\n",
    "net.train(50, plot=True)"
   ]
  }
 ],
 "metadata": {
  "kernelspec": {
   "display_name": "Python 3",
   "language": "python",
   "name": "python3"
  },
  "language_info": {
   "codemirror_mode": {
    "name": "ipython",
    "version": 3
   },
   "file_extension": ".py",
   "mimetype": "text/x-python",
   "name": "python",
   "nbconvert_exporter": "python",
   "pygments_lexer": "ipython3",
   "version": "3.6.3"
  },
  "widgets": {
   "application/vnd.jupyter.widget-state+json": {
    "state": {
     "0070b3c56ae8443e8ed564d717a7673a": {
      "model_module": "@jupyter-widgets/controls",
      "model_module_version": "1.0.0",
      "model_name": "IntTextModel",
      "state": {
       "description": "Leftmost color maps to:",
       "layout": "IPY_MODEL_5b4e6ef922f04861910eef63a4150959",
       "step": 1,
       "style": "IPY_MODEL_e5cfb5cd8ac54a698d4bbfa6755df85d",
       "value": -1
      }
     },
     "00d6b508efd6437fbf17975854ac6455": {
      "model_module": "@jupyter-widgets/controls",
      "model_module_version": "1.0.0",
      "model_name": "DescriptionStyleModel",
      "state": {
       "description_width": "initial"
      }
     },
     "0147d1ee18cf47dba895ad4eb87fad16": {
      "model_module": "@jupyter-widgets/base",
      "model_module_version": "1.0.0",
      "model_name": "LayoutModel",
      "state": {
       "width": "100%"
      }
     },
     "014ce01c27864cd8a0e30ec591a3bec8": {
      "model_module": "@jupyter-widgets/controls",
      "model_module_version": "1.0.0",
      "model_name": "DescriptionStyleModel",
      "state": {
       "description_width": ""
      }
     },
     "022d6d72c7704d9c8beac9fc4d080551": {
      "model_module": "@jupyter-widgets/controls",
      "model_module_version": "1.0.0",
      "model_name": "HBoxModel",
      "state": {
       "children": [
        "IPY_MODEL_bbb3d098c8934613a751b80245bb05a3",
        "IPY_MODEL_4ea7e60197db4758b3880cd39b55ef9e"
       ],
       "layout": "IPY_MODEL_640e08c876c44dbe96757d111b388415"
      }
     },
     "02430bcb1daf4dd598706854651ba164": {
      "model_module": "@jupyter-widgets/base",
      "model_module_version": "1.0.0",
      "model_name": "LayoutModel",
      "state": {
       "width": "95%"
      }
     },
     "028b9bc125af42f989b87b2e81689ed2": {
      "model_module": "@jupyter-widgets/controls",
      "model_module_version": "1.0.0",
      "model_name": "IntTextModel",
      "state": {
       "description": "Leftmost color maps to:",
       "layout": "IPY_MODEL_8aa2e7d12cfd4885b9e81a8fa75616d8",
       "step": 1,
       "style": "IPY_MODEL_1d2716e941ee44b4b4c44d242b757993",
       "value": -1
      }
     },
     "02dabe9c7cc84ac2a9cc6d03f77faf3e": {
      "model_module": "@jupyter-widgets/controls",
      "model_module_version": "1.0.0",
      "model_name": "DescriptionStyleModel",
      "state": {
       "description_width": ""
      }
     },
     "0319b02e12244913865919e7473c70b7": {
      "model_module": "@jupyter-widgets/base",
      "model_module_version": "1.0.0",
      "model_name": "LayoutModel",
      "state": {
       "width": "100%"
      }
     },
     "03601e12ebb240bbbeae715e26c2f7cd": {
      "model_module": "@jupyter-widgets/controls",
      "model_module_version": "1.0.0",
      "model_name": "HTMLModel",
      "state": {
       "layout": "IPY_MODEL_6664f6eeb6e34901b7ac4f5e4eec7a90",
       "style": "IPY_MODEL_ca30196619684630a4609e24e7f4408e",
       "value": "<p><h3>Network display:</h3></p>"
      }
     },
     "039f697d11174b3aba54a732bdb91cd1": {
      "model_module": "@jupyter-widgets/base",
      "model_module_version": "1.0.0",
      "model_name": "LayoutModel",
      "state": {}
     },
     "03baa1d006e34c1cabf66490ad074258": {
      "model_module": "@jupyter-widgets/controls",
      "model_module_version": "1.0.0",
      "model_name": "IntTextModel",
      "state": {
       "description": "Leftmost color maps to:",
       "layout": "IPY_MODEL_1d0c7e80331a4d6cb3af206b41bd411d",
       "step": 1,
       "style": "IPY_MODEL_ee868a11906a418dbc582b52c8f91f19",
       "value": -1
      }
     },
     "0414ababf1aa4b3faa24413a9002fa9a": {
      "model_module": "@jupyter-widgets/base",
      "model_module_version": "1.0.0",
      "model_name": "LayoutModel",
      "state": {
       "width": "95%"
      }
     },
     "041ba3866d1643938b3f6d2c9cb25821": {
      "model_module": "@jupyter-widgets/base",
      "model_module_version": "1.0.0",
      "model_name": "LayoutModel",
      "state": {}
     },
     "0441b4644ed84bbeba6639fb878211a4": {
      "model_module": "@jupyter-widgets/controls",
      "model_module_version": "1.0.0",
      "model_name": "DescriptionStyleModel",
      "state": {
       "description_width": ""
      }
     },
     "0455130bea914ce7965e6d6fe5072453": {
      "model_module": "@jupyter-widgets/controls",
      "model_module_version": "1.0.0",
      "model_name": "DescriptionStyleModel",
      "state": {
       "description_width": ""
      }
     },
     "0489b0f3426d489388a675960b229408": {
      "model_module": "@jupyter-widgets/controls",
      "model_module_version": "1.0.0",
      "model_name": "DescriptionStyleModel",
      "state": {
       "description_width": "initial"
      }
     },
     "0494533087074c068149f01e8eb2982a": {
      "model_module": "@jupyter-widgets/controls",
      "model_module_version": "1.0.0",
      "model_name": "SelectModel",
      "state": {
       "_options_labels": [
        "",
        "input",
        "Conv2D-1",
        "maxpool1",
        "Conv2D-2",
        "maxpool2"
       ],
       "description": "Features:",
       "index": 0,
       "layout": "IPY_MODEL_ddcafcdcdf55451183f50698c7a1011b",
       "rows": 1,
       "style": "IPY_MODEL_7eb91b35525744b3959ce61c4beae002"
      }
     },
     "05f22e4f4dd44bf1817533c878c4c275": {
      "model_module": "@jupyter-widgets/base",
      "model_module_version": "1.0.0",
      "model_name": "LayoutModel",
      "state": {}
     },
     "061c43ee797248e0b4884f38c0e1a3e9": {
      "model_module": "@jupyter-widgets/controls",
      "model_module_version": "1.0.0",
      "model_name": "DescriptionStyleModel",
      "state": {
       "description_width": ""
      }
     },
     "0683dd7abe3e4a068284fecb972bec71": {
      "model_module": "@jupyter-widgets/controls",
      "model_module_version": "1.0.0",
      "model_name": "IntTextModel",
      "state": {
       "description": "Feature to show:",
       "layout": "IPY_MODEL_7d4698b72ac24a369b19f7f6d5e0e81b",
       "step": 1,
       "style": "IPY_MODEL_a1e42340a4454e04b6e5e032b9ac7ee0"
      }
     },
     "06f54569cd434e6ca46b1b7e22adaf8c": {
      "model_module": "@jupyter-widgets/controls",
      "model_module_version": "1.0.0",
      "model_name": "HBoxModel",
      "state": {
       "children": [
        "IPY_MODEL_d701ea8e21f147548e155cc84ad2fd98",
        "IPY_MODEL_c51eee9832184d7e88f44217d85b31ae"
       ],
       "layout": "IPY_MODEL_3fea854e2ba74f639cffc0c4f5588c57"
      }
     },
     "08714c6707fe4b3aa8cdcee864130cdb": {
      "model_module": "@jupyter-widgets/base",
      "model_module_version": "1.0.0",
      "model_name": "LayoutModel",
      "state": {}
     },
     "08a40a69e9c3413baf8752157b15daaa": {
      "model_module": "@jupyter-widgets/controls",
      "model_module_version": "1.0.0",
      "model_name": "DescriptionStyleModel",
      "state": {
       "description_width": ""
      }
     },
     "08fb70219e694b488f90fc4514e2ae52": {
      "model_module": "@jupyter-widgets/controls",
      "model_module_version": "1.0.0",
      "model_name": "DescriptionStyleModel",
      "state": {
       "description_width": "initial"
      }
     },
     "096d35354f004cc9b57ad672d72452a0": {
      "model_module": "@jupyter-widgets/controls",
      "model_module_version": "1.0.0",
      "model_name": "HBoxModel",
      "state": {
       "children": [
        "IPY_MODEL_3b7a718fa2444fbd9c092d31ae47b91c",
        "IPY_MODEL_ed21bcfc86ff44e49a39b0b433289059"
       ],
       "layout": "IPY_MODEL_ea9394350a7c4e018c72464e9334001c"
      }
     },
     "099cc63abaf84b3187ffe418d9cb84bd": {
      "model_module": "@jupyter-widgets/controls",
      "model_module_version": "1.0.0",
      "model_name": "IntTextModel",
      "state": {
       "description": "Feature to show:",
       "layout": "IPY_MODEL_4387cc9a40f3429a8a3a9312674c334c",
       "step": 1,
       "style": "IPY_MODEL_79314fe11d7b4c9c91041c2205a6f1dc"
      }
     },
     "09cf32c1ea224cf6a71653739bbfd241": {
      "model_module": "@jupyter-widgets/controls",
      "model_module_version": "1.0.0",
      "model_name": "IntTextModel",
      "state": {
       "description": "Feature columns:",
       "layout": "IPY_MODEL_ac9404dccfba4e719fe84d56b5183d8e",
       "step": 1,
       "style": "IPY_MODEL_5d3f74c939514304bb963ae1f4bec51b",
       "value": 3
      }
     },
     "09dd07346b99413da9cb6386989d4af6": {
      "model_module": "@jupyter-widgets/base",
      "model_module_version": "1.0.0",
      "model_name": "LayoutModel",
      "state": {}
     },
     "09e02907187b469895dd6252348c314f": {
      "model_module": "@jupyter-widgets/controls",
      "model_module_version": "1.0.0",
      "model_name": "HBoxModel",
      "state": {
       "children": [
        "IPY_MODEL_6feb5e8bdd8d47658d5d9f8296226acd",
        "IPY_MODEL_2c61e8bbe36949ea940a544dc2ff6f33"
       ],
       "layout": "IPY_MODEL_9c00c9eff75944f69f5c5a99c3547f51"
      }
     },
     "0a1165ca7e1d4b74aa41776c1c9b0e84": {
      "model_module": "@jupyter-widgets/controls",
      "model_module_version": "1.0.0",
      "model_name": "IntTextModel",
      "state": {
       "description": "Feature to show:",
       "layout": "IPY_MODEL_b10ad5dcd2ad4ca2bf0160c119eb9607",
       "step": 1,
       "style": "IPY_MODEL_8846b36fd549472e8173b6888273ea83"
      }
     },
     "0a593ed3a76946158edffbc38a3a72ca": {
      "model_module": "@jupyter-widgets/controls",
      "model_module_version": "1.0.0",
      "model_name": "DescriptionStyleModel",
      "state": {
       "description_width": "initial"
      }
     },
     "0a5dba321a88410cad8b4bb56847a119": {
      "model_module": "@jupyter-widgets/base",
      "model_module_version": "1.0.0",
      "model_name": "LayoutModel",
      "state": {}
     },
     "0a6f2bc824ea48c8b425240c9a0d66ac": {
      "model_module": "@jupyter-widgets/controls",
      "model_module_version": "1.0.0",
      "model_name": "HBoxModel",
      "state": {
       "children": [
        "IPY_MODEL_1e1eca1a6bd84cf3bf990f4df481b697",
        "IPY_MODEL_ae77370db2094ce38d1ef4f1b9f818bd"
       ],
       "layout": "IPY_MODEL_1908b20565644c25a4cb4a3baaeb5a2b"
      }
     },
     "0b6491c01da742baa05ace0a684b8f9d": {
      "model_module": "@jupyter-widgets/controls",
      "model_module_version": "1.0.0",
      "model_name": "DescriptionStyleModel",
      "state": {
       "description_width": "initial"
      }
     },
     "0be6d5f810bf497dbff47d7312afa46a": {
      "model_module": "@jupyter-widgets/controls",
      "model_module_version": "1.0.0",
      "model_name": "HBoxModel",
      "state": {
       "children": [
        "IPY_MODEL_8f237ca80f5d49f19f81af116df90c7d",
        "IPY_MODEL_c6499fff645a4a5baaeed8c40c07edcd"
       ],
       "layout": "IPY_MODEL_eae484ea0a8242ce980025e99af81b46"
      }
     },
     "0bf50ec41e7d4506b289bc31a3b967a8": {
      "model_module": "@jupyter-widgets/controls",
      "model_module_version": "1.0.0",
      "model_name": "HBoxModel",
      "state": {
       "children": [
        "IPY_MODEL_ce304e56a86f4786b4821011d9a63b19",
        "IPY_MODEL_a567fa8d2edd4d9497b44dd11eff0767"
       ],
       "layout": "IPY_MODEL_4c17685149ee49f98d9e76292da4a578"
      }
     },
     "0c2f0519c17e4332befc52771f9cffba": {
      "model_module": "@jupyter-widgets/controls",
      "model_module_version": "1.0.0",
      "model_name": "VBoxModel",
      "state": {
       "children": [
        "IPY_MODEL_03601e12ebb240bbbeae715e26c2f7cd",
        "IPY_MODEL_c7f6ece65b5548da9bdd17b072eef03a",
        "IPY_MODEL_8c6e7a47788344038eeef35d52a98701",
        "IPY_MODEL_8b0047236fca47fb88b9fc07717ccaf5",
        "IPY_MODEL_53ddd888e0ef473684821606cd43ccc0",
        "IPY_MODEL_0cf3c9ecc98d4b8cad016272d8a708bb",
        "IPY_MODEL_2b3e6a695df84a72ae0ba6a0c0715329",
        "IPY_MODEL_2c7421c33b8c4370baf85f6f59727808"
       ],
       "layout": "IPY_MODEL_a2b0e10c4bfb41349b27fa06d0304f97"
      }
     },
     "0ca6ac59b6f34054975459181de23e23": {
      "model_module": "@jupyter-widgets/controls",
      "model_module_version": "1.0.0",
      "model_name": "DescriptionStyleModel",
      "state": {
       "description_width": ""
      }
     },
     "0ccdd6c0d1654d13bcbcb7cd56012d42": {
      "model_module": "@jupyter-widgets/controls",
      "model_module_version": "1.0.0",
      "model_name": "DescriptionStyleModel",
      "state": {
       "description_width": ""
      }
     },
     "0cf3c9ecc98d4b8cad016272d8a708bb": {
      "model_module": "@jupyter-widgets/controls",
      "model_module_version": "1.0.0",
      "model_name": "CheckboxModel",
      "state": {
       "description": "Show Errors",
       "disabled": false,
       "layout": "IPY_MODEL_6664f6eeb6e34901b7ac4f5e4eec7a90",
       "style": "IPY_MODEL_0441b4644ed84bbeba6639fb878211a4",
       "value": false
      }
     },
     "0d19267fe99c42e68c5d8f36cce9c1e4": {
      "model_module": "@jupyter-widgets/base",
      "model_module_version": "1.0.0",
      "model_name": "LayoutModel",
      "state": {}
     },
     "0d27a1fdc6d449f9bf031b59a917c2c9": {
      "model_module": "@jupyter-widgets/controls",
      "model_module_version": "1.0.0",
      "model_name": "SelectModel",
      "state": {
       "_options_labels": [
        "Test",
        "Train"
       ],
       "description": "Dataset:",
       "index": 1,
       "layout": "IPY_MODEL_de2caf41e8314d4c8e70f136025ef4a0",
       "rows": 1,
       "style": "IPY_MODEL_3414cae71aeb4ac799f3e7b824a70822"
      }
     },
     "0d962be9cbf94617ac55a5fa67608d46": {
      "model_module": "@jupyter-widgets/base",
      "model_module_version": "1.0.0",
      "model_name": "LayoutModel",
      "state": {
       "height": "40px"
      }
     },
     "0da4e0a7d2ff4aff980899269b4b466f": {
      "model_module": "@jupyter-widgets/controls",
      "model_module_version": "1.0.0",
      "model_name": "HBoxModel",
      "state": {
       "children": [
        "IPY_MODEL_6ba4cfdbf38546f8a2da875f4ecd1227",
        "IPY_MODEL_e304c73bbe9144468dc8058f5339c3cf",
        "IPY_MODEL_109900a3d4d14ad98941e07afe84ad8b"
       ],
       "layout": "IPY_MODEL_5a512f16ca1041ea8693f08e92ef2094"
      }
     },
     "0db0bdc072634348965e6beaf3e62478": {
      "model_module": "@jupyter-widgets/controls",
      "model_module_version": "1.0.0",
      "model_name": "CheckboxModel",
      "state": {
       "description": "Visible",
       "disabled": false,
       "layout": "IPY_MODEL_af966ba6c22449cc8a140effb55ca6ed",
       "style": "IPY_MODEL_22bb990af72b42dd9e8292971040da0d",
       "value": true
      }
     },
     "0e01525958d14e7ea6c0940c7ab4ef29": {
      "model_module": "@jupyter-widgets/controls",
      "model_module_version": "1.0.0",
      "model_name": "DescriptionStyleModel",
      "state": {
       "description_width": ""
      }
     },
     "0eccda2143cb4898807615e4cf4f2ed4": {
      "model_module": "@jupyter-widgets/base",
      "model_module_version": "1.0.0",
      "model_name": "LayoutModel",
      "state": {}
     },
     "0f0f3669251a4666945ced50026d77e2": {
      "model_module": "@jupyter-widgets/controls",
      "model_module_version": "1.0.0",
      "model_name": "DescriptionStyleModel",
      "state": {
       "description_width": ""
      }
     },
     "0f1588238ab249298da6176806999d04": {
      "model_module": "@jupyter-widgets/base",
      "model_module_version": "1.0.0",
      "model_name": "LayoutModel",
      "state": {}
     },
     "0f1739cfbb314905b00e7ddc0c6e4d41": {
      "model_module": "@jupyter-widgets/controls",
      "model_module_version": "1.0.0",
      "model_name": "ButtonStyleModel",
      "state": {}
     },
     "0f71bd8c714e4ab483df3c53173f69be": {
      "model_module": "@jupyter-widgets/controls",
      "model_module_version": "1.0.0",
      "model_name": "HBoxModel",
      "state": {
       "children": [
        "IPY_MODEL_fb3be41e3ee947dd9039e6c2fd75b9e3",
        "IPY_MODEL_d7210f3f101240c2aa0de4032d84290b"
       ],
       "layout": "IPY_MODEL_30edfc3862c64c3f99b1f5a4ff272ab4"
      }
     },
     "102eba8352484fdbafa5c9dafd0eb267": {
      "model_module": "@jupyter-widgets/controls",
      "model_module_version": "1.0.0",
      "model_name": "IntTextModel",
      "state": {
       "layout": "IPY_MODEL_8fd73568d5b64ae8aefdfc0c9bd1ea9c",
       "step": 1,
       "style": "IPY_MODEL_4fc1a587fff140b3a21b4d907af71906",
       "value": 13
      }
     },
     "10809e5dbf37418b8b8d5e988ab7a67b": {
      "model_module": "@jupyter-widgets/controls",
      "model_module_version": "1.0.0",
      "model_name": "SelectModel",
      "state": {
       "_options_labels": [
        "",
        "Accent",
        "Accent_r",
        "Blues",
        "Blues_r",
        "BrBG",
        "BrBG_r",
        "BuGn",
        "BuGn_r",
        "BuPu",
        "BuPu_r",
        "CMRmap",
        "CMRmap_r",
        "Dark2",
        "Dark2_r",
        "GnBu",
        "GnBu_r",
        "Greens",
        "Greens_r",
        "Greys",
        "Greys_r",
        "OrRd",
        "OrRd_r",
        "Oranges",
        "Oranges_r",
        "PRGn",
        "PRGn_r",
        "Paired",
        "Paired_r",
        "Pastel1",
        "Pastel1_r",
        "Pastel2",
        "Pastel2_r",
        "PiYG",
        "PiYG_r",
        "PuBu",
        "PuBuGn",
        "PuBuGn_r",
        "PuBu_r",
        "PuOr",
        "PuOr_r",
        "PuRd",
        "PuRd_r",
        "Purples",
        "Purples_r",
        "RdBu",
        "RdBu_r",
        "RdGy",
        "RdGy_r",
        "RdPu",
        "RdPu_r",
        "RdYlBu",
        "RdYlBu_r",
        "RdYlGn",
        "RdYlGn_r",
        "Reds",
        "Reds_r",
        "Set1",
        "Set1_r",
        "Set2",
        "Set2_r",
        "Set3",
        "Set3_r",
        "Spectral",
        "Spectral_r",
        "Vega10",
        "Vega10_r",
        "Vega20",
        "Vega20_r",
        "Vega20b",
        "Vega20b_r",
        "Vega20c",
        "Vega20c_r",
        "Wistia",
        "Wistia_r",
        "YlGn",
        "YlGnBu",
        "YlGnBu_r",
        "YlGn_r",
        "YlOrBr",
        "YlOrBr_r",
        "YlOrRd",
        "YlOrRd_r",
        "afmhot",
        "afmhot_r",
        "autumn",
        "autumn_r",
        "binary",
        "binary_r",
        "bone",
        "bone_r",
        "brg",
        "brg_r",
        "bwr",
        "bwr_r",
        "cool",
        "cool_r",
        "coolwarm",
        "coolwarm_r",
        "copper",
        "copper_r",
        "cubehelix",
        "cubehelix_r",
        "flag",
        "flag_r",
        "gist_earth",
        "gist_earth_r",
        "gist_gray",
        "gist_gray_r",
        "gist_heat",
        "gist_heat_r",
        "gist_ncar",
        "gist_ncar_r",
        "gist_rainbow",
        "gist_rainbow_r",
        "gist_stern",
        "gist_stern_r",
        "gist_yarg",
        "gist_yarg_r",
        "gnuplot",
        "gnuplot2",
        "gnuplot2_r",
        "gnuplot_r",
        "gray",
        "gray_r",
        "hot",
        "hot_r",
        "hsv",
        "hsv_r",
        "inferno",
        "inferno_r",
        "jet",
        "jet_r",
        "magma",
        "magma_r",
        "nipy_spectral",
        "nipy_spectral_r",
        "ocean",
        "ocean_r",
        "pink",
        "pink_r",
        "plasma",
        "plasma_r",
        "prism",
        "prism_r",
        "rainbow",
        "rainbow_r",
        "seismic",
        "seismic_r",
        "spectral",
        "spectral_r",
        "spring",
        "spring_r",
        "summer",
        "summer_r",
        "tab10",
        "tab10_r",
        "tab20",
        "tab20_r",
        "tab20b",
        "tab20b_r",
        "tab20c",
        "tab20c_r",
        "terrain",
        "terrain_r",
        "viridis",
        "viridis_r",
        "winter",
        "winter_r"
       ],
       "description": "Colormap:",
       "index": 0,
       "layout": "IPY_MODEL_6664f6eeb6e34901b7ac4f5e4eec7a90",
       "rows": 1,
       "style": "IPY_MODEL_53b7b5439be84a52a188ff7d4924c976"
      }
     },
     "108f9d16049748eeaef05b909eaa1e2c": {
      "model_module": "@jupyter-widgets/controls",
      "model_module_version": "1.0.0",
      "model_name": "IntTextModel",
      "state": {
       "description": "Rightmost color maps to:",
       "layout": "IPY_MODEL_5b88e0cdfc6d4a45a62c4a56f22f45b7",
       "step": 1,
       "style": "IPY_MODEL_23fb994f08e8423f8109c87fb9d83f54",
       "value": 1
      }
     },
     "109900a3d4d14ad98941e07afe84ad8b": {
      "model_module": "@jupyter-widgets/controls",
      "model_module_version": "1.0.0",
      "model_name": "ButtonModel",
      "state": {
       "icon": "refresh",
       "layout": "IPY_MODEL_992a5ff5645f49409dffe3114e09ad5c",
       "style": "IPY_MODEL_b3d094e24afb4f4282dd5c14c45d1570"
      }
     },
     "109c647ecfe64fe2ae341a180c5044b2": {
      "model_module": "@jupyter-widgets/base",
      "model_module_version": "1.0.0",
      "model_name": "LayoutModel",
      "state": {}
     },
     "10dbb977fef646bf9a98be488550b857": {
      "model_module": "@jupyter-widgets/base",
      "model_module_version": "1.0.0",
      "model_name": "LayoutModel",
      "state": {}
     },
     "10e6c12e96034d0abca7f3231303421a": {
      "model_module": "@jupyter-widgets/controls",
      "model_module_version": "1.0.0",
      "model_name": "IntTextModel",
      "state": {
       "description": "Leftmost color maps to:",
       "layout": "IPY_MODEL_9d02b91b2030497ba916ad40e7e13071",
       "step": 1,
       "style": "IPY_MODEL_a16912ff266b43929547d328521db49d",
       "value": -1
      }
     },
     "11e0003848ba407da18a6b76cb03e4b3": {
      "model_module": "@jupyter-widgets/controls",
      "model_module_version": "1.0.0",
      "model_name": "DescriptionStyleModel",
      "state": {
       "description_width": ""
      }
     },
     "127d2ef80c834b379d33625c48b95655": {
      "model_module": "@jupyter-widgets/controls",
      "model_module_version": "1.0.0",
      "model_name": "SelectModel",
      "state": {
       "_options_labels": [
        "",
        "Accent",
        "Accent_r",
        "Blues",
        "Blues_r",
        "BrBG",
        "BrBG_r",
        "BuGn",
        "BuGn_r",
        "BuPu",
        "BuPu_r",
        "CMRmap",
        "CMRmap_r",
        "Dark2",
        "Dark2_r",
        "GnBu",
        "GnBu_r",
        "Greens",
        "Greens_r",
        "Greys",
        "Greys_r",
        "OrRd",
        "OrRd_r",
        "Oranges",
        "Oranges_r",
        "PRGn",
        "PRGn_r",
        "Paired",
        "Paired_r",
        "Pastel1",
        "Pastel1_r",
        "Pastel2",
        "Pastel2_r",
        "PiYG",
        "PiYG_r",
        "PuBu",
        "PuBuGn",
        "PuBuGn_r",
        "PuBu_r",
        "PuOr",
        "PuOr_r",
        "PuRd",
        "PuRd_r",
        "Purples",
        "Purples_r",
        "RdBu",
        "RdBu_r",
        "RdGy",
        "RdGy_r",
        "RdPu",
        "RdPu_r",
        "RdYlBu",
        "RdYlBu_r",
        "RdYlGn",
        "RdYlGn_r",
        "Reds",
        "Reds_r",
        "Set1",
        "Set1_r",
        "Set2",
        "Set2_r",
        "Set3",
        "Set3_r",
        "Spectral",
        "Spectral_r",
        "Vega10",
        "Vega10_r",
        "Vega20",
        "Vega20_r",
        "Vega20b",
        "Vega20b_r",
        "Vega20c",
        "Vega20c_r",
        "Wistia",
        "Wistia_r",
        "YlGn",
        "YlGnBu",
        "YlGnBu_r",
        "YlGn_r",
        "YlOrBr",
        "YlOrBr_r",
        "YlOrRd",
        "YlOrRd_r",
        "afmhot",
        "afmhot_r",
        "autumn",
        "autumn_r",
        "binary",
        "binary_r",
        "bone",
        "bone_r",
        "brg",
        "brg_r",
        "bwr",
        "bwr_r",
        "cool",
        "cool_r",
        "coolwarm",
        "coolwarm_r",
        "copper",
        "copper_r",
        "cubehelix",
        "cubehelix_r",
        "flag",
        "flag_r",
        "gist_earth",
        "gist_earth_r",
        "gist_gray",
        "gist_gray_r",
        "gist_heat",
        "gist_heat_r",
        "gist_ncar",
        "gist_ncar_r",
        "gist_rainbow",
        "gist_rainbow_r",
        "gist_stern",
        "gist_stern_r",
        "gist_yarg",
        "gist_yarg_r",
        "gnuplot",
        "gnuplot2",
        "gnuplot2_r",
        "gnuplot_r",
        "gray",
        "gray_r",
        "hot",
        "hot_r",
        "hsv",
        "hsv_r",
        "inferno",
        "inferno_r",
        "jet",
        "jet_r",
        "magma",
        "magma_r",
        "nipy_spectral",
        "nipy_spectral_r",
        "ocean",
        "ocean_r",
        "pink",
        "pink_r",
        "plasma",
        "plasma_r",
        "prism",
        "prism_r",
        "rainbow",
        "rainbow_r",
        "seismic",
        "seismic_r",
        "spectral",
        "spectral_r",
        "spring",
        "spring_r",
        "summer",
        "summer_r",
        "tab10",
        "tab10_r",
        "tab20",
        "tab20_r",
        "tab20b",
        "tab20b_r",
        "tab20c",
        "tab20c_r",
        "terrain",
        "terrain_r",
        "viridis",
        "viridis_r",
        "winter",
        "winter_r"
       ],
       "description": "Colormap:",
       "index": 125,
       "layout": "IPY_MODEL_6664f6eeb6e34901b7ac4f5e4eec7a90",
       "rows": 1,
       "style": "IPY_MODEL_c1084b7132bd43a59d9a684cb4bccc21"
      }
     },
     "12ab0afe958c4b9a9be78ac123a635e6": {
      "model_module": "@jupyter-widgets/base",
      "model_module_version": "1.0.0",
      "model_name": "LayoutModel",
      "state": {
       "width": "95%"
      }
     },
     "12c133a4f9264785a6baa003c39b1762": {
      "model_module": "@jupyter-widgets/controls",
      "model_module_version": "1.0.0",
      "model_name": "CheckboxModel",
      "state": {
       "description": "Visible",
       "disabled": false,
       "layout": "IPY_MODEL_af966ba6c22449cc8a140effb55ca6ed",
       "style": "IPY_MODEL_bc1f24e3ae5941baaaf2bf6266fb006b",
       "value": true
      }
     },
     "12c1b37d72b14728add3c4383b6cd773": {
      "model_module": "@jupyter-widgets/base",
      "model_module_version": "1.0.0",
      "model_name": "LayoutModel",
      "state": {}
     },
     "1321408a4bf24d9ba8cb0a6bfe68d2b6": {
      "model_module": "@jupyter-widgets/controls",
      "model_module_version": "1.0.0",
      "model_name": "DescriptionStyleModel",
      "state": {
       "description_width": ""
      }
     },
     "13975c78825a4867bd44c68b42d1dc04": {
      "model_module": "@jupyter-widgets/controls",
      "model_module_version": "1.0.0",
      "model_name": "SliderStyleModel",
      "state": {
       "description_width": ""
      }
     },
     "139f84e2f7da400b90fc8fa921a4ba1b": {
      "model_module": "@jupyter-widgets/controls",
      "model_module_version": "1.0.0",
      "model_name": "DescriptionStyleModel",
      "state": {
       "description_width": ""
      }
     },
     "13ab8921aac049d18fe34e264f27cc8d": {
      "model_module": "@jupyter-widgets/controls",
      "model_module_version": "1.0.0",
      "model_name": "SliderStyleModel",
      "state": {
       "description_width": ""
      }
     },
     "13e6c9427c274064bc96320e8233e6b4": {
      "model_module": "@jupyter-widgets/controls",
      "model_module_version": "1.0.0",
      "model_name": "VBoxModel",
      "state": {
       "children": [
        "IPY_MODEL_8f65f58687ad459fbe7bd247db628c9d",
        "IPY_MODEL_b9e91643ce364dcab441b42874861fee",
        "IPY_MODEL_219163d4f7634c0dba93c73a787a4997",
        "IPY_MODEL_37beafc55c4c496984968b7952de9402",
        "IPY_MODEL_18a3b884bb754a7eb2e8eda63a6dfa9d"
       ],
       "layout": "IPY_MODEL_601be5fc23c34488b55c96e90fe8dc47"
      }
     },
     "14334f7925e242a0b785e371e2528fc6": {
      "model_module": "@jupyter-widgets/base",
      "model_module_version": "1.0.0",
      "model_name": "LayoutModel",
      "state": {}
     },
     "1439c140b34b43f8b79b51bbb23d1061": {
      "model_module": "@jupyter-widgets/controls",
      "model_module_version": "1.0.0",
      "model_name": "AccordionModel",
      "state": {
       "_titles": {
        "0": "Network configuration",
        "1": "output bank",
        "2": "flatten bank",
        "3": "maxpool2 bank",
        "4": "Conv2D-2 bank",
        "5": "maxpool1 bank",
        "6": "Conv2D-1 bank",
        "7": "input bank"
       },
       "children": [
        "IPY_MODEL_e47981fbde744459860614c4ca700636",
        "IPY_MODEL_ffd1bd9457e54b9caff40375e532ce51",
        "IPY_MODEL_aaed2480e7ea420f948a2eba51eb787a",
        "IPY_MODEL_7be541172153459da9861b56e0734873",
        "IPY_MODEL_7c16d0b4534e4917940c73b28834a5db",
        "IPY_MODEL_8b008805eb364825accdc12b4c68e4e8",
        "IPY_MODEL_f8c7e1ce5a014e118715035b37891e45",
        "IPY_MODEL_6b87cebbc90b4b5a8ca678d272ab0f8d"
       ],
       "layout": "IPY_MODEL_45dd0288147e48cc9d3061548658c59a"
      }
     },
     "1467a19e7afc4a4cac566f9343f258d6": {
      "model_module": "@jupyter-widgets/controls",
      "model_module_version": "1.0.0",
      "model_name": "DescriptionStyleModel",
      "state": {
       "description_width": ""
      }
     },
     "14744687b9654543aabcb2ea4cf006f2": {
      "model_module": "@jupyter-widgets/controls",
      "model_module_version": "1.0.0",
      "model_name": "FloatTextModel",
      "state": {
       "description": "Feature scale:",
       "layout": "IPY_MODEL_b717c326ac3b411a8c4501e315dae876",
       "step": null,
       "style": "IPY_MODEL_32b9b6ecf3ec470f92f4f35a29590c1a",
       "value": 2
      }
     },
     "14b3f2f0bd004c4bba43612963a58b5b": {
      "model_module": "@jupyter-widgets/base",
      "model_module_version": "1.0.0",
      "model_name": "LayoutModel",
      "state": {}
     },
     "152b686397534fefbc5a9b34d4dc77c9": {
      "model_module": "@jupyter-widgets/controls",
      "model_module_version": "1.0.0",
      "model_name": "IntTextModel",
      "state": {
       "description": "Horizontal space between banks:",
       "layout": "IPY_MODEL_af966ba6c22449cc8a140effb55ca6ed",
       "step": 1,
       "style": "IPY_MODEL_d5bad241552342348633c0ad0175ac80",
       "value": 150
      }
     },
     "15537427a7aa4e97b33a89f26b7985fa": {
      "model_module": "@jupyter-widgets/base",
      "model_module_version": "1.0.0",
      "model_name": "LayoutModel",
      "state": {}
     },
     "162891ff17164289bba1f1f97f62325d": {
      "model_module": "@jupyter-widgets/controls",
      "model_module_version": "1.0.0",
      "model_name": "HTMLModel",
      "state": {
       "layout": "IPY_MODEL_b37dbd57bfe4471f94f7ff12e399384a",
       "style": "IPY_MODEL_996fedbebcc347a9bb2b44d29ad57cae",
       "value": "<img src=\"data:image/gif;base64,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\"/>"
      }
     },
     "166594c9c24a4518b8481965cc3ba1e7": {
      "model_module": "@jupyter-widgets/base",
      "model_module_version": "1.0.0",
      "model_name": "LayoutModel",
      "state": {}
     },
     "167be61f6c1746b9a726a474bb2df928": {
      "model_module": "@jupyter-widgets/controls",
      "model_module_version": "1.0.0",
      "model_name": "HTMLModel",
      "state": {
       "layout": "IPY_MODEL_4a55c57420af46a8bf08ed6ab66b4f1a",
       "style": "IPY_MODEL_194919f3ed0f4811a6742e5d0122e8f3",
       "value": "<img src=\"data:image/gif;base64,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\"/>"
      }
     },
     "169418ae5a87459e97146b820706c306": {
      "model_module": "@jupyter-widgets/controls",
      "model_module_version": "1.0.0",
      "model_name": "AccordionModel",
      "state": {
       "_titles": {
        "0": "Network configuration",
        "1": "output bank",
        "2": "flatten bank",
        "3": "maxpool2 bank",
        "4": "Conv2D-2 bank",
        "5": "maxpool1 bank",
        "6": "Conv2D-1 bank",
        "7": "input bank"
       },
       "children": [
        "IPY_MODEL_0c2f0519c17e4332befc52771f9cffba",
        "IPY_MODEL_4a9b244507714b38a2809f18454c5497",
        "IPY_MODEL_f9a8d8b79ebb4aa48a5d310d5c8edfac",
        "IPY_MODEL_ce564b34fb684288a98c8974785dc61e",
        "IPY_MODEL_22bd899a7f9a4cddbf5e4b7da480b965",
        "IPY_MODEL_13e6c9427c274064bc96320e8233e6b4",
        "IPY_MODEL_f96005f44e364f89b07f48eb5aea837e",
        "IPY_MODEL_bdf8c70c4f92462ca1e8548746776a36"
       ],
       "layout": "IPY_MODEL_5325665918864e4db5b22b557cb22b9a"
      }
     },
     "1745bf3008e94964b1bfc039b90affae": {
      "model_module": "@jupyter-widgets/controls",
      "model_module_version": "1.0.0",
      "model_name": "HBoxModel",
      "state": {
       "children": [
        "IPY_MODEL_68c291dfdfc548dc96ecb5802955e401",
        "IPY_MODEL_aca67cec1baa4640876f3179e3f87c14"
       ],
       "layout": "IPY_MODEL_fe22aa81d91647bcbec547b8af061696"
      }
     },
     "1750e15b1c1348a2ac57cf0b4b365b8e": {
      "model_module": "@jupyter-widgets/base",
      "model_module_version": "1.0.0",
      "model_name": "LayoutModel",
      "state": {
       "width": "100%"
      }
     },
     "1785dee2660f4b089dfebff65cd9c25d": {
      "model_module": "@jupyter-widgets/controls",
      "model_module_version": "1.0.0",
      "model_name": "HBoxModel",
      "state": {
       "children": [
        "IPY_MODEL_ba0f57bed2d2460fbdfb86800b616e6d",
        "IPY_MODEL_63f1db062e974f91ab3833b06079f342",
        "IPY_MODEL_9764c9456cf9424897e9f72b09fb2fed",
        "IPY_MODEL_24aac9bafb124da6ade86593a512cad4",
        "IPY_MODEL_d4de190c66d442219aaf34be2e4ddbcc",
        "IPY_MODEL_f152d794de164f058fa7df6fbd111d24"
       ],
       "layout": "IPY_MODEL_de82fb091d9d435e9a27ff8299d2f85f"
      }
     },
     "17de2bbbff894fea963383b3be2f0404": {
      "model_module": "@jupyter-widgets/controls",
      "model_module_version": "1.0.0",
      "model_name": "HTMLModel",
      "state": {
       "layout": "IPY_MODEL_af966ba6c22449cc8a140effb55ca6ed",
       "style": "IPY_MODEL_02dabe9c7cc84ac2a9cc6d03f77faf3e",
       "value": "<p><hr/><h3>maxpool2 bank:</h3></p>"
      }
     },
     "185208bc6a1e446ebbaea3bb966c7fa0": {
      "model_module": "@jupyter-widgets/controls",
      "model_module_version": "1.0.0",
      "model_name": "HTMLModel",
      "state": {
       "layout": "IPY_MODEL_d6e393a2af64466b846fe3953f9747a3",
       "style": "IPY_MODEL_2c7511e7b2c1483fb66090e85a51b32b",
       "value": "<img src=\"data:image/gif;base64,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\"/>"
      }
     },
     "18a3b884bb754a7eb2e8eda63a6dfa9d": {
      "model_module": "@jupyter-widgets/controls",
      "model_module_version": "1.0.0",
      "model_name": "IntTextModel",
      "state": {
       "description": "Feature to show:",
       "layout": "IPY_MODEL_45a8d45f4f094b32aae56a39ac6a332a",
       "step": 1,
       "style": "IPY_MODEL_ede8c0189e604b988ebaed1fd4e52a74"
      }
     },
     "18a3bf2ea81548a281f042fba4a8a549": {
      "model_module": "@jupyter-widgets/controls",
      "model_module_version": "1.0.0",
      "model_name": "DescriptionStyleModel",
      "state": {
       "description_width": ""
      }
     },
     "1908b20565644c25a4cb4a3baaeb5a2b": {
      "model_module": "@jupyter-widgets/base",
      "model_module_version": "1.0.0",
      "model_name": "LayoutModel",
      "state": {}
     },
     "1915fd7a13d049c59b28cb17bde1a8ae": {
      "model_module": "@jupyter-widgets/controls",
      "model_module_version": "1.0.0",
      "model_name": "HTMLModel",
      "state": {
       "layout": "IPY_MODEL_6664f6eeb6e34901b7ac4f5e4eec7a90",
       "style": "IPY_MODEL_66b263e349b74006a3b2e160d1761962",
       "value": "<p><hr/><h3>output bank:</h3></p>"
      }
     },
     "194919f3ed0f4811a6742e5d0122e8f3": {
      "model_module": "@jupyter-widgets/controls",
      "model_module_version": "1.0.0",
      "model_name": "DescriptionStyleModel",
      "state": {
       "description_width": ""
      }
     },
     "196a3024e5254df2985bd2cd167ea2df": {
      "model_module": "@jupyter-widgets/controls",
      "model_module_version": "1.0.0",
      "model_name": "DescriptionStyleModel",
      "state": {
       "description_width": "initial"
      }
     },
     "19aec418fe3c46ae9c85950e073688b3": {
      "model_module": "@jupyter-widgets/controls",
      "model_module_version": "1.0.0",
      "model_name": "VBoxModel",
      "state": {
       "children": [
        "IPY_MODEL_1439c140b34b43f8b79b51bbb23d1061"
       ],
       "layout": "IPY_MODEL_7db088a004ae425790985cd7c360b9b2"
      }
     },
     "1a10327c1bea44d5b98515d7703fcf76": {
      "model_module": "@jupyter-widgets/controls",
      "model_module_version": "1.0.0",
      "model_name": "CheckboxModel",
      "state": {
       "description": "Visible",
       "disabled": false,
       "layout": "IPY_MODEL_6664f6eeb6e34901b7ac4f5e4eec7a90",
       "style": "IPY_MODEL_3863d723f8854cba88e1831790e872a3",
       "value": true
      }
     },
     "1a51ef9e5a7f41a1b34beb809d5068cc": {
      "model_module": "@jupyter-widgets/controls",
      "model_module_version": "1.0.0",
      "model_name": "DescriptionStyleModel",
      "state": {
       "description_width": ""
      }
     },
     "1a526c7d15934e81aa46b6d69f4eb3f1": {
      "model_module": "@jupyter-widgets/base",
      "model_module_version": "1.0.0",
      "model_name": "LayoutModel",
      "state": {}
     },
     "1a85b0bcf4b54dd3a09abc54048abe85": {
      "model_module": "@jupyter-widgets/controls",
      "model_module_version": "1.0.0",
      "model_name": "HTMLModel",
      "state": {
       "layout": "IPY_MODEL_1a8c13bbc5a94a41b9e050772bb5610e",
       "style": "IPY_MODEL_884356c37e1a476fada9a0aa04592c99",
       "value": "<img src=\"data:image/gif;base64,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\"/>"
      }
     },
     "1a8c13bbc5a94a41b9e050772bb5610e": {
      "model_module": "@jupyter-widgets/base",
      "model_module_version": "1.0.0",
      "model_name": "LayoutModel",
      "state": {}
     },
     "1a8da0cc74dc465ea00e9c2d977e27ac": {
      "model_module": "@jupyter-widgets/controls",
      "model_module_version": "1.0.0",
      "model_name": "CheckboxModel",
      "state": {
       "description": "Show Errors",
       "disabled": false,
       "layout": "IPY_MODEL_5a83029a96f44ac297cdd24e5242d910",
       "style": "IPY_MODEL_c125673144474f5c971643aa3db1e4f8",
       "value": false
      }
     },
     "1acd1031d1eb4e9d8d7932337496c651": {
      "model_module": "@jupyter-widgets/controls",
      "model_module_version": "1.0.0",
      "model_name": "SelectModel",
      "state": {
       "_options_labels": [
        "",
        "Accent",
        "Accent_r",
        "Blues",
        "Blues_r",
        "BrBG",
        "BrBG_r",
        "BuGn",
        "BuGn_r",
        "BuPu",
        "BuPu_r",
        "CMRmap",
        "CMRmap_r",
        "Dark2",
        "Dark2_r",
        "GnBu",
        "GnBu_r",
        "Greens",
        "Greens_r",
        "Greys",
        "Greys_r",
        "OrRd",
        "OrRd_r",
        "Oranges",
        "Oranges_r",
        "PRGn",
        "PRGn_r",
        "Paired",
        "Paired_r",
        "Pastel1",
        "Pastel1_r",
        "Pastel2",
        "Pastel2_r",
        "PiYG",
        "PiYG_r",
        "PuBu",
        "PuBuGn",
        "PuBuGn_r",
        "PuBu_r",
        "PuOr",
        "PuOr_r",
        "PuRd",
        "PuRd_r",
        "Purples",
        "Purples_r",
        "RdBu",
        "RdBu_r",
        "RdGy",
        "RdGy_r",
        "RdPu",
        "RdPu_r",
        "RdYlBu",
        "RdYlBu_r",
        "RdYlGn",
        "RdYlGn_r",
        "Reds",
        "Reds_r",
        "Set1",
        "Set1_r",
        "Set2",
        "Set2_r",
        "Set3",
        "Set3_r",
        "Spectral",
        "Spectral_r",
        "Vega10",
        "Vega10_r",
        "Vega20",
        "Vega20_r",
        "Vega20b",
        "Vega20b_r",
        "Vega20c",
        "Vega20c_r",
        "Wistia",
        "Wistia_r",
        "YlGn",
        "YlGnBu",
        "YlGnBu_r",
        "YlGn_r",
        "YlOrBr",
        "YlOrBr_r",
        "YlOrRd",
        "YlOrRd_r",
        "afmhot",
        "afmhot_r",
        "autumn",
        "autumn_r",
        "binary",
        "binary_r",
        "bone",
        "bone_r",
        "brg",
        "brg_r",
        "bwr",
        "bwr_r",
        "cool",
        "cool_r",
        "coolwarm",
        "coolwarm_r",
        "copper",
        "copper_r",
        "cubehelix",
        "cubehelix_r",
        "flag",
        "flag_r",
        "gist_earth",
        "gist_earth_r",
        "gist_gray",
        "gist_gray_r",
        "gist_heat",
        "gist_heat_r",
        "gist_ncar",
        "gist_ncar_r",
        "gist_rainbow",
        "gist_rainbow_r",
        "gist_stern",
        "gist_stern_r",
        "gist_yarg",
        "gist_yarg_r",
        "gnuplot",
        "gnuplot2",
        "gnuplot2_r",
        "gnuplot_r",
        "gray",
        "gray_r",
        "hot",
        "hot_r",
        "hsv",
        "hsv_r",
        "inferno",
        "inferno_r",
        "jet",
        "jet_r",
        "magma",
        "magma_r",
        "nipy_spectral",
        "nipy_spectral_r",
        "ocean",
        "ocean_r",
        "pink",
        "pink_r",
        "plasma",
        "plasma_r",
        "prism",
        "prism_r",
        "rainbow",
        "rainbow_r",
        "seismic",
        "seismic_r",
        "spectral",
        "spectral_r",
        "spring",
        "spring_r",
        "summer",
        "summer_r",
        "tab10",
        "tab10_r",
        "tab20",
        "tab20_r",
        "tab20b",
        "tab20b_r",
        "tab20c",
        "tab20c_r",
        "terrain",
        "terrain_r",
        "viridis",
        "viridis_r",
        "winter",
        "winter_r"
       ],
       "description": "Colormap:",
       "index": 0,
       "layout": "IPY_MODEL_3f6bd880fd0f4f1da6872e0af28cfeaa",
       "rows": 1,
       "style": "IPY_MODEL_a13675272f1a4b45b77f7584d9269923"
      }
     },
     "1b7a30d510154c9ba776364c548c4d2c": {
      "model_module": "@jupyter-widgets/controls",
      "model_module_version": "1.0.0",
      "model_name": "ButtonModel",
      "state": {
       "icon": "backward",
       "layout": "IPY_MODEL_0147d1ee18cf47dba895ad4eb87fad16",
       "style": "IPY_MODEL_ea21043366584671991cf16c9e907add"
      }
     },
     "1c33b8339c9c4bda99695e92c9235168": {
      "model_module": "@jupyter-widgets/base",
      "model_module_version": "1.0.0",
      "model_name": "LayoutModel",
      "state": {}
     },
     "1c52212bc33b4492a29087533424ebe6": {
      "model_module": "@jupyter-widgets/controls",
      "model_module_version": "1.0.0",
      "model_name": "HBoxModel",
      "state": {
       "children": [
        "IPY_MODEL_7ca4d238c8944747a61093f8079ba110",
        "IPY_MODEL_5f888ea8c9584cbd99221cde7ca546bb"
       ],
       "layout": "IPY_MODEL_87a75a5dc5ff4585b5a7d411f4b16568"
      }
     },
     "1c875285ca40456393cc38403e0d95db": {
      "model_module": "@jupyter-widgets/controls",
      "model_module_version": "1.0.0",
      "model_name": "CheckboxModel",
      "state": {
       "description": "Visible",
       "disabled": false,
       "layout": "IPY_MODEL_6664f6eeb6e34901b7ac4f5e4eec7a90",
       "style": "IPY_MODEL_e65f1b24b72b4cff836a292c0c852628",
       "value": true
      }
     },
     "1cbdb082e4b14b7c8d4806054a5e6a02": {
      "model_module": "@jupyter-widgets/base",
      "model_module_version": "1.0.0",
      "model_name": "LayoutModel",
      "state": {}
     },
     "1cc78ab2c69f4b31a6c4d638671b1ffb": {
      "model_module": "@jupyter-widgets/controls",
      "model_module_version": "1.0.0",
      "model_name": "IntTextModel",
      "state": {
       "description": "Rightmost color maps to:",
       "layout": "IPY_MODEL_9b78a40e178842c492d5f77c9adbe86b",
       "step": 1,
       "style": "IPY_MODEL_50e6a2cf1b094fea8b5bea8ead6eab27",
       "value": 1
      }
     },
     "1d0c7e80331a4d6cb3af206b41bd411d": {
      "model_module": "@jupyter-widgets/base",
      "model_module_version": "1.0.0",
      "model_name": "LayoutModel",
      "state": {}
     },
     "1d17b0adc3354408bdd371367c409aa9": {
      "model_module": "@jupyter-widgets/controls",
      "model_module_version": "1.0.0",
      "model_name": "IntTextModel",
      "state": {
       "description": "Rightmost color maps to:",
       "layout": "IPY_MODEL_6c4bc7ed31784c0f9e52722e2be0e0a0",
       "step": 1,
       "style": "IPY_MODEL_4f31bfb5df734c279d123ac6bf8c3911",
       "value": 1
      }
     },
     "1d2716e941ee44b4b4c44d242b757993": {
      "model_module": "@jupyter-widgets/controls",
      "model_module_version": "1.0.0",
      "model_name": "DescriptionStyleModel",
      "state": {
       "description_width": "initial"
      }
     },
     "1d2ea63d7eac41c1842d8fd97dd0a5f0": {
      "model_module": "@jupyter-widgets/controls",
      "model_module_version": "1.0.0",
      "model_name": "ButtonStyleModel",
      "state": {}
     },
     "1d5fc82524cd4640975d21605c4cfb64": {
      "model_module": "@jupyter-widgets/controls",
      "model_module_version": "1.0.0",
      "model_name": "ButtonModel",
      "state": {
       "icon": "backward",
       "layout": "IPY_MODEL_4cefa04674d14ebcb755fee480d6ca06",
       "style": "IPY_MODEL_938c81d7a77c407abf086148cbd8d9e3"
      }
     },
     "1e1eca1a6bd84cf3bf990f4df481b697": {
      "model_module": "@jupyter-widgets/controls",
      "model_module_version": "1.0.0",
      "model_name": "IntTextModel",
      "state": {
       "description": "Leftmost color maps to:",
       "layout": "IPY_MODEL_873d82c9550f477499d07f4ccabbf9fb",
       "step": 1,
       "style": "IPY_MODEL_b65396cfe2eb4cfebef9b2e1bbf759e6",
       "value": -1
      }
     },
     "1e5321787e9f4171837e0d2b013ee61a": {
      "model_module": "@jupyter-widgets/base",
      "model_module_version": "1.0.0",
      "model_name": "LayoutModel",
      "state": {}
     },
     "1e71ef1e1f0341c0bd6a14d4c077fd5a": {
      "model_module": "@jupyter-widgets/controls",
      "model_module_version": "1.0.0",
      "model_name": "DescriptionStyleModel",
      "state": {
       "description_width": ""
      }
     },
     "1eb3c65bc9bd4cd3b2bcadb771e01bf4": {
      "model_module": "@jupyter-widgets/controls",
      "model_module_version": "1.0.0",
      "model_name": "IntTextModel",
      "state": {
       "description": "Leftmost color maps to:",
       "layout": "IPY_MODEL_628b8695ece741a89105b5eb8c9be6ff",
       "step": 1,
       "style": "IPY_MODEL_f727934f0ecb4e1da2d7ec636f97ab5a",
       "value": -1
      }
     },
     "1f9d39d4f19946c3b8c076ac406bce72": {
      "model_module": "@jupyter-widgets/base",
      "model_module_version": "1.0.0",
      "model_name": "LayoutModel",
      "state": {}
     },
     "1fa26339d5f54e5490923c02b3753b8d": {
      "model_module": "@jupyter-widgets/base",
      "model_module_version": "1.0.0",
      "model_name": "LayoutModel",
      "state": {}
     },
     "1fc06a6485284ca690ad72846b8e6697": {
      "model_module": "@jupyter-widgets/base",
      "model_module_version": "1.0.0",
      "model_name": "LayoutModel",
      "state": {}
     },
     "1fe8627822af4e16bd7b8809ffad427a": {
      "model_module": "@jupyter-widgets/controls",
      "model_module_version": "1.0.0",
      "model_name": "HBoxModel",
      "state": {
       "children": [
        "IPY_MODEL_03baa1d006e34c1cabf66490ad074258",
        "IPY_MODEL_c5f9053204d9459baa3a9b4cbacadc77"
       ],
       "layout": "IPY_MODEL_d729e436304e4144aea40af5e3a48c30"
      }
     },
     "20288db592c240178f06c30960c6e92b": {
      "model_module": "@jupyter-widgets/controls",
      "model_module_version": "1.0.0",
      "model_name": "ButtonModel",
      "state": {
       "icon": "refresh",
       "layout": "IPY_MODEL_a55494501c054cd1aa65bf1dbfd3de2d",
       "style": "IPY_MODEL_3b88df0640ed4c47ada685b0145b2117"
      }
     },
     "203ee42ab41e4f1a9740f56675a61639": {
      "model_module": "@jupyter-widgets/controls",
      "model_module_version": "1.0.0",
      "model_name": "DescriptionStyleModel",
      "state": {
       "description_width": ""
      }
     },
     "205fad1d0baf44338c0a37c51cb6c369": {
      "model_module": "@jupyter-widgets/base",
      "model_module_version": "1.0.0",
      "model_name": "LayoutModel",
      "state": {}
     },
     "20654f83197b4170bb168913a69cb20c": {
      "model_module": "@jupyter-widgets/controls",
      "model_module_version": "1.0.0",
      "model_name": "ButtonStyleModel",
      "state": {}
     },
     "20775d5c531b48769d9393db04684244": {
      "model_module": "@jupyter-widgets/controls",
      "model_module_version": "1.0.0",
      "model_name": "IntTextModel",
      "state": {
       "description": "Feature to show:",
       "layout": "IPY_MODEL_f5ef522cc7064474b324ed6579989cc7",
       "step": 1,
       "style": "IPY_MODEL_7fc130c2fc3a4882a7009e4e210adeca"
      }
     },
     "2095c47cfd784d13b9526cf3e396afd1": {
      "model_module": "@jupyter-widgets/base",
      "model_module_version": "1.0.0",
      "model_name": "LayoutModel",
      "state": {}
     },
     "20a9512620214c1bae4caa4a2def8bf6": {
      "model_module": "@jupyter-widgets/base",
      "model_module_version": "1.0.0",
      "model_name": "LayoutModel",
      "state": {
       "width": "100%"
      }
     },
     "20f8603470ed4a6789a080c245d4afd6": {
      "model_module": "@jupyter-widgets/controls",
      "model_module_version": "1.0.0",
      "model_name": "DescriptionStyleModel",
      "state": {
       "description_width": "initial"
      }
     },
     "218bdddc92d64383805c724a70777e5a": {
      "model_module": "@jupyter-widgets/controls",
      "model_module_version": "1.0.0",
      "model_name": "IntTextModel",
      "state": {
       "description": "Vertical space between layers:",
       "layout": "IPY_MODEL_5a83029a96f44ac297cdd24e5242d910",
       "step": 1,
       "style": "IPY_MODEL_ade6915581f04156abffe0db76dae359",
       "value": 30
      }
     },
     "219163d4f7634c0dba93c73a787a4997": {
      "model_module": "@jupyter-widgets/controls",
      "model_module_version": "1.0.0",
      "model_name": "HBoxModel",
      "state": {
       "children": [
        "IPY_MODEL_b574d934ad9943b1b2dceaf2319f8531",
        "IPY_MODEL_d58257c11c6f40beadf2fd46623c8c9f"
       ],
       "layout": "IPY_MODEL_3eac59536c6a463a897d1f6ee6827b47"
      }
     },
     "223a838715ec40b883c08af9ed6aba6c": {
      "model_module": "@jupyter-widgets/controls",
      "model_module_version": "1.0.0",
      "model_name": "SelectModel",
      "state": {
       "_options_labels": [
        "",
        "Accent",
        "Accent_r",
        "Blues",
        "Blues_r",
        "BrBG",
        "BrBG_r",
        "BuGn",
        "BuGn_r",
        "BuPu",
        "BuPu_r",
        "CMRmap",
        "CMRmap_r",
        "Dark2",
        "Dark2_r",
        "GnBu",
        "GnBu_r",
        "Greens",
        "Greens_r",
        "Greys",
        "Greys_r",
        "OrRd",
        "OrRd_r",
        "Oranges",
        "Oranges_r",
        "PRGn",
        "PRGn_r",
        "Paired",
        "Paired_r",
        "Pastel1",
        "Pastel1_r",
        "Pastel2",
        "Pastel2_r",
        "PiYG",
        "PiYG_r",
        "PuBu",
        "PuBuGn",
        "PuBuGn_r",
        "PuBu_r",
        "PuOr",
        "PuOr_r",
        "PuRd",
        "PuRd_r",
        "Purples",
        "Purples_r",
        "RdBu",
        "RdBu_r",
        "RdGy",
        "RdGy_r",
        "RdPu",
        "RdPu_r",
        "RdYlBu",
        "RdYlBu_r",
        "RdYlGn",
        "RdYlGn_r",
        "Reds",
        "Reds_r",
        "Set1",
        "Set1_r",
        "Set2",
        "Set2_r",
        "Set3",
        "Set3_r",
        "Spectral",
        "Spectral_r",
        "Vega10",
        "Vega10_r",
        "Vega20",
        "Vega20_r",
        "Vega20b",
        "Vega20b_r",
        "Vega20c",
        "Vega20c_r",
        "Wistia",
        "Wistia_r",
        "YlGn",
        "YlGnBu",
        "YlGnBu_r",
        "YlGn_r",
        "YlOrBr",
        "YlOrBr_r",
        "YlOrRd",
        "YlOrRd_r",
        "afmhot",
        "afmhot_r",
        "autumn",
        "autumn_r",
        "binary",
        "binary_r",
        "bone",
        "bone_r",
        "brg",
        "brg_r",
        "bwr",
        "bwr_r",
        "cool",
        "cool_r",
        "coolwarm",
        "coolwarm_r",
        "copper",
        "copper_r",
        "cubehelix",
        "cubehelix_r",
        "flag",
        "flag_r",
        "gist_earth",
        "gist_earth_r",
        "gist_gray",
        "gist_gray_r",
        "gist_heat",
        "gist_heat_r",
        "gist_ncar",
        "gist_ncar_r",
        "gist_rainbow",
        "gist_rainbow_r",
        "gist_stern",
        "gist_stern_r",
        "gist_yarg",
        "gist_yarg_r",
        "gnuplot",
        "gnuplot2",
        "gnuplot2_r",
        "gnuplot_r",
        "gray",
        "gray_r",
        "hot",
        "hot_r",
        "hsv",
        "hsv_r",
        "inferno",
        "inferno_r",
        "jet",
        "jet_r",
        "magma",
        "magma_r",
        "nipy_spectral",
        "nipy_spectral_r",
        "ocean",
        "ocean_r",
        "pink",
        "pink_r",
        "plasma",
        "plasma_r",
        "prism",
        "prism_r",
        "rainbow",
        "rainbow_r",
        "seismic",
        "seismic_r",
        "spectral",
        "spectral_r",
        "spring",
        "spring_r",
        "summer",
        "summer_r",
        "tab10",
        "tab10_r",
        "tab20",
        "tab20_r",
        "tab20b",
        "tab20b_r",
        "tab20c",
        "tab20c_r",
        "terrain",
        "terrain_r",
        "viridis",
        "viridis_r",
        "winter",
        "winter_r"
       ],
       "description": "Colormap:",
       "index": 0,
       "layout": "IPY_MODEL_5a83029a96f44ac297cdd24e5242d910",
       "rows": 1,
       "style": "IPY_MODEL_8f04c0923f2c4d39bc7bdeafbc57ff81"
      }
     },
     "2273caef1302499b855a6eb967700b0a": {
      "model_module": "@jupyter-widgets/controls",
      "model_module_version": "1.0.0",
      "model_name": "IntTextModel",
      "state": {
       "description": "Rightmost color maps to:",
       "layout": "IPY_MODEL_14334f7925e242a0b785e371e2528fc6",
       "step": 1,
       "style": "IPY_MODEL_2d561aa3fe9d40c1b2595394c28ab129",
       "value": 1
      }
     },
     "22bb990af72b42dd9e8292971040da0d": {
      "model_module": "@jupyter-widgets/controls",
      "model_module_version": "1.0.0",
      "model_name": "DescriptionStyleModel",
      "state": {
       "description_width": ""
      }
     },
     "22bd899a7f9a4cddbf5e4b7da480b965": {
      "model_module": "@jupyter-widgets/controls",
      "model_module_version": "1.0.0",
      "model_name": "VBoxModel",
      "state": {
       "children": [
        "IPY_MODEL_cab791d4987b41ba959cfd5767ffd197",
        "IPY_MODEL_1a10327c1bea44d5b98515d7703fcf76",
        "IPY_MODEL_65a14a69ccd14226964626d44bfaed9b",
        "IPY_MODEL_f1b3ae888e974f38a93efd6f36448f45",
        "IPY_MODEL_0a1165ca7e1d4b74aa41776c1c9b0e84"
       ],
       "layout": "IPY_MODEL_12c1b37d72b14728add3c4383b6cd773"
      }
     },
     "22d3f6a2ef2a456fb0075de3b877fccd": {
      "model_module": "@jupyter-widgets/controls",
      "model_module_version": "1.0.0",
      "model_name": "HBoxModel",
      "state": {
       "children": [
        "IPY_MODEL_54a7743ad9ce4b598a76b2351874e79f",
        "IPY_MODEL_108f9d16049748eeaef05b909eaa1e2c"
       ],
       "layout": "IPY_MODEL_bcef9651791d458c9b52f8da969896ab"
      }
     },
     "22d7abb1289748f585fb7e42f6b3fa54": {
      "model_module": "@jupyter-widgets/controls",
      "model_module_version": "1.0.0",
      "model_name": "HTMLModel",
      "state": {
       "layout": "IPY_MODEL_5a83029a96f44ac297cdd24e5242d910",
       "style": "IPY_MODEL_3e17f603dc3649bd86f41f6c1edef068",
       "value": "<p><hr/><h3>Conv2D-1 bank:</h3></p>"
      }
     },
     "233d53188aa0490fbd1dbb60007ca141": {
      "model_module": "@jupyter-widgets/controls",
      "model_module_version": "1.0.0",
      "model_name": "DescriptionStyleModel",
      "state": {
       "description_width": ""
      }
     },
     "237c77563bd740a89fefec6e73aec052": {
      "model_module": "@jupyter-widgets/base",
      "model_module_version": "1.0.0",
      "model_name": "LayoutModel",
      "state": {
       "width": "100%"
      }
     },
     "23fb994f08e8423f8109c87fb9d83f54": {
      "model_module": "@jupyter-widgets/controls",
      "model_module_version": "1.0.0",
      "model_name": "DescriptionStyleModel",
      "state": {
       "description_width": "initial"
      }
     },
     "242f72fa47324149bc6f4468bea315d2": {
      "model_module": "@jupyter-widgets/controls",
      "model_module_version": "1.0.0",
      "model_name": "DescriptionStyleModel",
      "state": {
       "description_width": ""
      }
     },
     "24391d8825bd463fa658815749e74114": {
      "model_module": "@jupyter-widgets/base",
      "model_module_version": "1.0.0",
      "model_name": "LayoutModel",
      "state": {}
     },
     "24aac9bafb124da6ade86593a512cad4": {
      "model_module": "@jupyter-widgets/controls",
      "model_module_version": "1.0.0",
      "model_name": "ButtonModel",
      "state": {
       "icon": "forward",
       "layout": "IPY_MODEL_922e1915b6c343fd81cc3f7c076483bc",
       "style": "IPY_MODEL_9b7ffcd464e34bcf848c2acecd9e6f77"
      }
     },
     "24ad23a7756f43f1bcb1ffe9aab9baf8": {
      "model_module": "@jupyter-widgets/controls",
      "model_module_version": "1.0.0",
      "model_name": "TabModel",
      "state": {
       "_titles": {
        "0": "Network",
        "1": "Configuration",
        "2": "Help"
       },
       "children": [
        "IPY_MODEL_274b1df1d3b74e1fb0f9d8c13f7a1665",
        "IPY_MODEL_19aec418fe3c46ae9c85950e073688b3",
        "IPY_MODEL_cae2864474b8405d93a922e1a8859c79"
       ],
       "layout": "IPY_MODEL_ad3d6c4699d946d5bd51c0b1861fefe4"
      }
     },
     "253582c0ccbd449d935440a357a2ccf3": {
      "model_module": "@jupyter-widgets/base",
      "model_module_version": "1.0.0",
      "model_name": "LayoutModel",
      "state": {}
     },
     "254ca8f075b04c399a5f9eac61a0686f": {
      "model_module": "@jupyter-widgets/controls",
      "model_module_version": "1.0.0",
      "model_name": "HTMLModel",
      "state": {
       "layout": "IPY_MODEL_f471ea59509c4f1497d8e732eef61ce2",
       "style": "IPY_MODEL_d8eb78a791f24786a3c6e9beb98b966e",
       "value": "<p style=\"text-align:center\"><svg id='Auto-Encoding with Conv' xmlns='http://www.w3.org/2000/svg' viewBox=\"0 0 350 1460\" height=\"780\" image-rendering=\"pixelated\">\n    <defs>\n        <marker id=\"arrow\" markerWidth=\"10\" markerHeight=\"10\" refX=\"9\" refY=\"3\" orient=\"auto\" markerUnits=\"strokeWidth\">\n          <path d=\"M0,0 L0,6 L9,3 z\" fill=\"black\" />\n        </marker>\n    </defs><text x=\"175.0\" y=\"12.5\" font-family=\"monospace\" font-size=\"15\" text-anchor=\"middle\" alignment-baseline=\"central\">Auto-Encoding with Conv</text><rect x=\"74.0\" y=\"29\" width=\"202\" height=\"202\" style=\"fill:none;stroke:black;stroke-width:2\"/><image id=\"Auto-Encoding with Conv_output_1\" class=\"Auto-Encoding with Conv_output\" x=\"75.0\" y=\"30\" height=\"200\" width=\"200\" preserveAspectRatio=\"none\" href=\"data:image/gif;base64,R0lGODdhHAAcAIcAAP/9/QAAAAAAAAAAAAAAAAAAAAAAAAAAAAAAAAAAAAAAAAAAAAAAAAAAAAAAAAAAAAAAAAAAAAAAAAAAAAAAAAAAAAAAAAAAAAAAAAAAAAAAAAAAAAAAAAAAAAAAAAAAAAAAAAAAAAAAAAAAAAAAAAAAAAAAAAAAAAAAAAAAAAAAAAAAAAAAAAAAAAAAAAAAAAAAAAAAAAAAAAAAAAAAAAAAAAAAAAAAAAAAAAAAAAAAAAAAAAAAAAAAAAAAAAAAAAAAAAAAAAAAAAAAAAAAAAAAAAAAAAAAAAAAAAAAAAAAAAAAAAAAAAAAAAAAAAAAAAAAAAAAAAAAAAAAAAAAAAAAAAAAAAAAAAAAAAAAAAAAAAAAAAAAAAAAAAAAAAAAAAAAAAAAAAAAAAAAAAAAAAAAAAAAAAAAAAAAAAAAAAAAAAAAAAAAAAAAAAAAAAAAAAAAAAAAAAAAAAAAAAAAAAAAAAAAAAAAAAAAAAAAAAAAAAAAAAAAAAAAAAAAAAAAAAAAAAAAAAAAAAAAAAAAAAAAAAAAAAAAAAAAAAAAAAAAAAAAAAAAAAAAAAAAAAAAAAAAAAAAAAAAAAAAAAAAAAAAAAAAAAAAAAAAAAAAAAAAAAAAAAAAAAAAAAAAAAAAAAAAAAAAAAAAAAAAAAAAAAAAAAAAAAAAAAAAAAAAAAAAAAAAAAAAAAAAAAAAAAAAAAAAAAAAAAAAAAAAAAAAAAAAAAAAAAAAAAAAAAAAAAAAAAAAAAAAAAAAAAAAAAAAAAAAAAAAAAAAAAAAAAAAAAAAAAAAAAAAAAAAAAAAAAAAAAAAAAAAAAAAAAAAAAAAAAAAAAAAAAAAAAAAAAAAAAAAAAAAAAAAAAAAAAAAAAAAAAAAAAAAAAAAAAAAAAAAAAAAAAAAAAAAAAAAAAAAAAAAAAAAAAAAAAAAAAAAAAAAAAAAAAAAAAAAAAAAAAAAAAAAAAAAAAAAAAAAAAAAAAAAAAAAAAAAAAAAAAAAAAAAAAAAAAAAAAAAAAAAAAAAACwAAAAAHAAcAEAIMAABCBxIsKDBgwgTKlzIsKHDhxAjSpxIsaLFixgzatzIsaPHjyBDihxJsqTJkwQDAgA7\"><title>Layer: output (output)\n shape = (784,)\n Keras class = Dense\n activation = softmax</title></image><text x=\"280.0\" y=\"132.0\" font-family=\"monospace\" font-size=\"12\" text-anchor=\"start\" alignment-baseline=\"central\">output</text><line x1=\"175.0\" y1=\"259\" x2=\"175.0\" y2=\"232\" stroke=\"black\" stroke-width=\"2\" marker-end=\"url(#arrow)\"><title>Weights from flatten to output\n output/kernel has shape (2112, 784)\n output/bias has shape (784,)</title></line><rect x=\"74.0\" y=\"259\" width=\"202\" height=\"27\" style=\"fill:none;stroke:black;stroke-width:2\"/><image id=\"Auto-Encoding with Conv_flatten_2\" class=\"Auto-Encoding with Conv_flatten\" x=\"75.0\" y=\"260\" height=\"25\" width=\"200\" preserveAspectRatio=\"none\" href=\"data:image/gif;base64,R0lGODdhQAgBAIcAAPv6/efn/9jY/8fH/7e3/6io/5qa/wAAAAAAAAAAAAAAAAAAAAAAAAAAAAAAAAAAAAAAAAAAAAAAAAAAAAAAAAAAAAAAAAAAAAAAAAAAAAAAAAAAAAAAAAAAAAAAAAAAAAAAAAAAAAAAAAAAAAAAAAAAAAAAAAAAAAAAAAAAAAAAAAAAAAAAAAAAAAAAAAAAAAAAAAAAAAAAAAAAAAAAAAAAAAAAAAAAAAAAAAAAAAAAAAAAAAAAAAAAAAAAAAAAAAAAAAAAAAAAAAAAAAAAAAAAAAAAAAAAAAAAAAAAAAAAAAAAAAAAAAAAAAAAAAAAAAAAAAAAAAAAAAAAAAAAAAAAAAAAAAAAAAAAAAAAAAAAAAAAAAAAAAAAAAAAAAAAAAAAAAAAAAAAAAAAAAAAAAAAAAAAAAAAAAAAAAAAAAAAAAAAAAAAAAAAAAAAAAAAAAAAAAAAAAAAAAAAAAAAAAAAAAAAAAAAAAAAAAAAAAAAAAAAAAAAAAAAAAAAAAAAAAAAAAAAAAAAAAAAAAAAAAAAAAAAAAAAAAAAAAAAAAAAAAAAAAAAAAAAAAAAAAAAAAAAAAAAAAAAAAAAAAAAAAAAAAAAAAAAAAAAAAAAAAAAAAAAAAAAAAAAAAAAAAAAAAAAAAAAAAAAAAAAAAAAAAAAAAAAAAAAAAAAAAAAAAAAAAAAAAAAAAAAAAAAAAAAAAAAAAAAAAAAAAAAAAAAAAAAAAAAAAAAAAAAAAAAAAAAAAAAAAAAAAAAAAAAAAAAAAAAAAAAAAAAAAAAAAAAAAAAAAAAAAAAAAAAAAAAAAAAAAAAAAAAAAAAAAAAAAAAAAAAAAAAAAAAAAAAAAAAAAAAAAAAAAAAAAAAAAAAAAAAAAAAAAAAAAAAAAAAAAAAAAAAAAAAAAAAAAAAAAAAAAAAAAAAAAAAAAAAAAAAAAAAAAAAAAAAAAAAAAAAAAAAAAAAAAAAAAAAAAAAAAAAAAAAAAAAAAAAAAAAAAAAAAAAAAAAAAAAAAAAAAAAAAAAACwAAAAAQAgBAAAI/wABAAggAIAAAAACCAAQQMAAAAIKAJg4cYCAAQAABAgAIAAAAAIEABg5MkAAACgDAFi5MgAAAQBiypwJIIBNAQIAAAhAAEAAAAECABgKIACAowEICAAAgECAAQCiRhUAoCqAAQEKCCgAoGsAAAEEAAggYAAAAgAABAAwIACAAQDiCigAoAAAAAMGAAgwoAAAAgUCBAAAYIABAQMAABAQIACAxwIGAJg8WQCAywAEBAAgAIBnAAMAiBYdAIBp0wEACFi9GgCBAAIABBggAIDt27YJCAgQgEAAAwCCBxcAoDgAAQMKDCgwAECAAQACAAAwIEAAAAUEABAAQEAAAAEAiP8PQADAAAAABAwAAGAAAQAFCggIAAAAAQIDBgAIEGCAAIAABAoYAACAAAAABAQAACCAAAEABACgGCAAAIwABAgA0BFAAAEACAgAIEAAgAADAKwsMABAgAAAABAAAECAAQEACAQgAMCnAABBhQoQUACAAQIABAQAEEAAgAEApBYIAGAAAAEBAgDgynUAgAEAAAgQAAAAgQEABAwIAMBtgAEDBAAAEEAAAQB5AQQAAEAAAAAEAAwOEABAgAAAFAcIAMAxgAEAJEsWICDAAAAABAQAAEAAANADBgAIAMD0AAAAAgwQAGAAgAAAZAcAUNs2AAIEAAwgACAAAAABAAgQAMD/eAEAAAIAYB4AAIAAAAIIABDAOgABAAQAGAAAAAEAAAIAID9gAIAAAQSsBwBAAAD48QcAoA8gAAD8AQAACBAAAMAAAAYSDADgYAAAAQAEABBAQAAAEidKFAAgAAAAAgQAABAAAMiQIkEGAEAgwAABAAAMABDgJQAAAQAIAGATQAAAAgDwBCAgAAABAAAEEABgAAACAAAYCAAgAAABBQQMABAAQAABAAAEEADgK1gCAMaODQDgbAAAAAQAaOu2bQAAcgMIEDAgAAAABAAIAABAAIDAAQAQBhCAQAEAAQgEIADgcQAAkgMAABBAQIEABABwFhAAQAAAAAIEACAgAAAB/wAIAAAQAADsAQEADAgAgMAAAAEAFAgQYAAAAAEACCggQACA5AEIBAAAIMAAAAACBAAwAAB2AQAEABAAAMAAAQIAkAcQAAD6AAAEAAAwAMAAAAICDABgH4CAAAACCADgHyAAAAMKBBAwAAABAAIEBAAwAEBEiQICDBAAAEAAABsDABgAAACBAAACACgQAEBKlSkDAAAgIAAAmQMACAgAACfOAAEA9AQQYEAAAEOJDhAQQAAApQEABADwFICAAQIAVAUgAEDWAAACdCUgAAAAAQEAlA0AYIAAAAECAAAgAEDcAgEABAAgAEDeAAACAAgQAAAAAQAADAAQADEAxQECAP9wXEAAAMkCBACwbFmAAAABAHQOAEAAANEABgQAcHrAAACrAwAAEAB2AACzAQQAcBv3bQEAAgQAACCAAADDiQ8PAAA5AAEABAQAMCAAAOkAAgCwft16AAEAuHMfACBAeAABAAQAEAAAAAEAAgQAAEBAAAEBAASwDwA//gABAAQIABCAwAAEAAgIACAAAQACABAAMIAAgAABBgwQEGAAAAABAgwIAADAAAAkBQQAgDIlgAAsBwQQQKAAgAAAatoMAABAgAADBPgEMEAAgKEAAgA4GgAAgAAAAggIAACAAAAEAFgVAEAAgK0ABgQIAIBAAAAABAAIEACAWgEACgB4G4D/AIAAAgDYBSAgAAEAAAYMABAgQIEAAQwEAIA4wAAAAwA4DkAAgOQAAgAAGCAggAEAAAIACABaAAAABAIUAAAgAIAAAQC4BhAAgIAAAwIMEABAAIAAAAAIIAAguHAAAgYMACDAQAACAAAICABgAIDpAAQICBCgQAAAAwAEAAAeQAAAAQwUADAAQAEAAAYAeB9AQIABAAAMCBAAQAABAfoLAAhAIIACAgIAQAhAAACGAAgAgCggQAEAFSsGACAAAIABAQYAABAAwAAAJUsKEBBAQAAAAgQACAAgAAAAAggEwAkAgAAAPQMEGEAAgAAAAQAEAJAUgAAAAAIAADBAgIAA/wCsAgggIAAAAAUEAAgAIAAAsmUDBAAgIAAAAAIACABAAAABAQACBBgggEAAAQD8AggQAICAAAMAAAgAIACAAAAcAxAAIAAAAAIEEAAAQAAAzp0BBAAwAIAAAAECCBAAAEAAAAEEAIANOwAAAAICAAAwIMAAAL0DABgAQDgAAQACABAAQPnyAAACPAdAIAAAAAEGCAAwIAAAAAIEACAAAIAAAQAACBgAoAABAO0DADAwQAAA+gACBAAQQMAAAAACABQgEABBAAECAAAQAMCAAAMAAAgAAEAAAAACAAgwYEAAAQAEBAggIACAkgMGBACgEoAAAAAGCAAAQEAAAQBu4v+8GQCAAAAEBBAIAACAAAAABAAYECAAgAIAngIgMCAAAQBWBwgAMCAAgAECAAAYUAAAgQIBAKANQKDAgABuBQgIAADAAAEA7goAUAAAXwACAAAIACBAAAACAgBILEAAAAACAAQYAECAgAAAAgAIMEAAAAADCAAIHQBAAAAABAQQEGAAgAEAXg8AIDsAAAACAhQAUCAAAAACAAAIACCAAAAACgQAEAAAcwEAngMIEACAAAAABgQAAGAAgQAAAggAIB6AgAABAAQAIEAAgPbuAQQAAIAAgPoCAAQIIAAAgAAAAAYAMJBgQQEBAAgIACBAAAAPIQ4YAABAAAAXMQ4QEGAnAACPHgMAEBkAQEkBAgAMCABAAACXLgMAABCAgAAAAQAEABAAAICAADs=\"><title>Layer: flatten (hidden)\n Keras class = Flatten</title></image><text x=\"280.0\" y=\"274.5\" font-family=\"monospace\" font-size=\"12\" text-anchor=\"start\" alignment-baseline=\"central\">flatten</text><line x1=\"175.0\" y1=\"314\" x2=\"175.0\" y2=\"287\" stroke=\"black\" stroke-width=\"2\" marker-end=\"url(#arrow)\"><title>Weights from maxpool2 to flatten</title></line><rect x=\"74.0\" y=\"314\" width=\"202\" height=\"202\" style=\"fill:none;stroke:black;stroke-width:2\"/><image id=\"Auto-Encoding with Conv_maxpool2_3\" class=\"Auto-Encoding with Conv_maxpool2\" x=\"75.0\" y=\"315\" height=\"200\" width=\"200\" preserveAspectRatio=\"none\" href=\"data:image/gif;base64,R0lGODdhBAAEAIcAAP78/e3t/wAAAAAAAAAAAAAAAAAAAAAAAAAAAAAAAAAAAAAAAAAAAAAAAAAAAAAAAAAAAAAAAAAAAAAAAAAAAAAAAAAAAAAAAAAAAAAAAAAAAAAAAAAAAAAAAAAAAAAAAAAAAAAAAAAAAAAAAAAAAAAAAAAAAAAAAAAAAAAAAAAAAAAAAAAAAAAAAAAAAAAAAAAAAAAAAAAAAAAAAAAAAAAAAAAAAAAAAAAAAAAAAAAAAAAAAAAAAAAAAAAAAAAAAAAAAAAAAAAAAAAAAAAAAAAAAAAAAAAAAAAAAAAAAAAAAAAAAAAAAAAAAAAAAAAAAAAAAAAAAAAAAAAAAAAAAAAAAAAAAAAAAAAAAAAAAAAAAAAAAAAAAAAAAAAAAAAAAAAAAAAAAAAAAAAAAAAAAAAAAAAAAAAAAAAAAAAAAAAAAAAAAAAAAAAAAAAAAAAAAAAAAAAAAAAAAAAAAAAAAAAAAAAAAAAAAAAAAAAAAAAAAAAAAAAAAAAAAAAAAAAAAAAAAAAAAAAAAAAAAAAAAAAAAAAAAAAAAAAAAAAAAAAAAAAAAAAAAAAAAAAAAAAAAAAAAAAAAAAAAAAAAAAAAAAAAAAAAAAAAAAAAAAAAAAAAAAAAAAAAAAAAAAAAAAAAAAAAAAAAAAAAAAAAAAAAAAAAAAAAAAAAAAAAAAAAAAAAAAAAAAAAAAAAAAAAAAAAAAAAAAAAAAAAAAAAAAAAAAAAAAAAAAAAAAAAAAAAAAAAAAAAAAAAAAAAAAAAAAAAAAAAAAAAAAAAAAAAAAAAAAAAAAAAAAAAAAAAAAAAAAAAAAAAAAAAAAAAAAAAAAAAAAAAAAAAAAAAAAAAAAAAAAAAAAAAAAAAAAAAAAAAAAAAAAAAAAAAAAAAAAAAAAAAAAAAAAAAAAAAAAAAAAAAAAAAAAAAAAAAAAAAAAAAAAAAAAAAAAAAAAAAAAAAAAAAAAAAAAAAAAAAAAAAAAAAAAAAAAAAAAAAAAAAAAAAAAAAAAAAAAAAAAAAAAAAAAAACwAAAAABAAEAAAIDQABCAQQAIDBgwgBBAQAOw==\"><title>Layer: maxpool2 (hidden)\n Keras class = MaxPooling2D</title></image><text x=\"280.0\" y=\"417.0\" font-family=\"monospace\" font-size=\"12\" text-anchor=\"start\" alignment-baseline=\"central\">maxpool2</text><text x=\"280.0\" y=\"320\" font-family=\"monospace\" font-size=\"12\" text-anchor=\"start\" alignment-baseline=\"central\">132</text><text x=\"63.0\" y=\"510\" font-family=\"monospace\" font-size=\"12\" text-anchor=\"start\" alignment-baseline=\"central\">0</text><line x1=\"175.0\" y1=\"544\" x2=\"175.0\" y2=\"517\" stroke=\"black\" stroke-width=\"2\" marker-end=\"url(#arrow)\"><title>Weights from Conv2D-2 to maxpool2</title></line><rect x=\"74.0\" y=\"544\" width=\"202\" height=\"202\" style=\"fill:none;stroke:black;stroke-width:2\"/><image id=\"Auto-Encoding with Conv_Conv2D-2_4\" class=\"Auto-Encoding with Conv_Conv2D-2\" x=\"75.0\" y=\"545\" height=\"200\" width=\"200\" preserveAspectRatio=\"none\" href=\"data:image/gif;base64,R0lGODdhCAAIAIcAAP78/e3t/wAAAAAAAAAAAAAAAAAAAAAAAAAAAAAAAAAAAAAAAAAAAAAAAAAAAAAAAAAAAAAAAAAAAAAAAAAAAAAAAAAAAAAAAAAAAAAAAAAAAAAAAAAAAAAAAAAAAAAAAAAAAAAAAAAAAAAAAAAAAAAAAAAAAAAAAAAAAAAAAAAAAAAAAAAAAAAAAAAAAAAAAAAAAAAAAAAAAAAAAAAAAAAAAAAAAAAAAAAAAAAAAAAAAAAAAAAAAAAAAAAAAAAAAAAAAAAAAAAAAAAAAAAAAAAAAAAAAAAAAAAAAAAAAAAAAAAAAAAAAAAAAAAAAAAAAAAAAAAAAAAAAAAAAAAAAAAAAAAAAAAAAAAAAAAAAAAAAAAAAAAAAAAAAAAAAAAAAAAAAAAAAAAAAAAAAAAAAAAAAAAAAAAAAAAAAAAAAAAAAAAAAAAAAAAAAAAAAAAAAAAAAAAAAAAAAAAAAAAAAAAAAAAAAAAAAAAAAAAAAAAAAAAAAAAAAAAAAAAAAAAAAAAAAAAAAAAAAAAAAAAAAAAAAAAAAAAAAAAAAAAAAAAAAAAAAAAAAAAAAAAAAAAAAAAAAAAAAAAAAAAAAAAAAAAAAAAAAAAAAAAAAAAAAAAAAAAAAAAAAAAAAAAAAAAAAAAAAAAAAAAAAAAAAAAAAAAAAAAAAAAAAAAAAAAAAAAAAAAAAAAAAAAAAAAAAAAAAAAAAAAAAAAAAAAAAAAAAAAAAAAAAAAAAAAAAAAAAAAAAAAAAAAAAAAAAAAAAAAAAAAAAAAAAAAAAAAAAAAAAAAAAAAAAAAAAAAAAAAAAAAAAAAAAAAAAAAAAAAAAAAAAAAAAAAAAAAAAAAAAAAAAAAAAAAAAAAAAAAAAAAAAAAAAAAAAAAAAAAAAAAAAAAAAAAAAAAAAAAAAAAAAAAAAAAAAAAAAAAAAAAAAAAAAAAAAAAAAAAAAAAAAAAAAAAAAAAAAAAAAAAAAAAAAAAAAAAAAAAAAAAAAAAAAAAAAAAAAAAAAAAAAAAAAAAAAAAAACwAAAAACAAIAAAIFgABCBxIsKDBgQEAKFzIsKHDhxAXBgQAOw==\"><title>Layer: Conv2D-2 (hidden)\n Keras class = Conv2D\n activation = relu</title></image><text x=\"280.0\" y=\"647.0\" font-family=\"monospace\" font-size=\"12\" text-anchor=\"start\" alignment-baseline=\"central\">Conv2D-2</text><text x=\"280.0\" y=\"550\" font-family=\"monospace\" font-size=\"12\" text-anchor=\"start\" alignment-baseline=\"central\">132</text><text x=\"63.0\" y=\"740\" font-family=\"monospace\" font-size=\"12\" text-anchor=\"start\" alignment-baseline=\"central\">0</text><line x1=\"175.0\" y1=\"774\" x2=\"175.0\" y2=\"747\" stroke=\"black\" stroke-width=\"2\" marker-end=\"url(#arrow)\"><title>Weights from maxpool1 to Conv2D-2\n Conv2D-2/kernel has shape (5, 5, 16, 132)\n Conv2D-2/bias has shape (132,)</title></line><rect x=\"74.0\" y=\"774\" width=\"202\" height=\"202\" style=\"fill:none;stroke:black;stroke-width:2\"/><image id=\"Auto-Encoding with Conv_maxpool1_5\" class=\"Auto-Encoding with Conv_maxpool1\" x=\"75.0\" y=\"775\" height=\"200\" width=\"200\" preserveAspectRatio=\"none\" href=\"data:image/gif;base64,R0lGODdhDAAMAIcAAP38/ejo/9XV/6mp/wAAAAAAAAAAAAAAAAAAAAAAAAAAAAAAAAAAAAAAAAAAAAAAAAAAAAAAAAAAAAAAAAAAAAAAAAAAAAAAAAAAAAAAAAAAAAAAAAAAAAAAAAAAAAAAAAAAAAAAAAAAAAAAAAAAAAAAAAAAAAAAAAAAAAAAAAAAAAAAAAAAAAAAAAAAAAAAAAAAAAAAAAAAAAAAAAAAAAAAAAAAAAAAAAAAAAAAAAAAAAAAAAAAAAAAAAAAAAAAAAAAAAAAAAAAAAAAAAAAAAAAAAAAAAAAAAAAAAAAAAAAAAAAAAAAAAAAAAAAAAAAAAAAAAAAAAAAAAAAAAAAAAAAAAAAAAAAAAAAAAAAAAAAAAAAAAAAAAAAAAAAAAAAAAAAAAAAAAAAAAAAAAAAAAAAAAAAAAAAAAAAAAAAAAAAAAAAAAAAAAAAAAAAAAAAAAAAAAAAAAAAAAAAAAAAAAAAAAAAAAAAAAAAAAAAAAAAAAAAAAAAAAAAAAAAAAAAAAAAAAAAAAAAAAAAAAAAAAAAAAAAAAAAAAAAAAAAAAAAAAAAAAAAAAAAAAAAAAAAAAAAAAAAAAAAAAAAAAAAAAAAAAAAAAAAAAAAAAAAAAAAAAAAAAAAAAAAAAAAAAAAAAAAAAAAAAAAAAAAAAAAAAAAAAAAAAAAAAAAAAAAAAAAAAAAAAAAAAAAAAAAAAAAAAAAAAAAAAAAAAAAAAAAAAAAAAAAAAAAAAAAAAAAAAAAAAAAAAAAAAAAAAAAAAAAAAAAAAAAAAAAAAAAAAAAAAAAAAAAAAAAAAAAAAAAAAAAAAAAAAAAAAAAAAAAAAAAAAAAAAAAAAAAAAAAAAAAAAAAAAAAAAAAAAAAAAAAAAAAAAAAAAAAAAAAAAAAAAAAAAAAAAAAAAAAAAAAAAAAAAAAAAAAAAAAAAAAAAAAAAAAAAAAAAAAAAAAAAAAAAAAAAAAAAAAAAAAAAAAAAAAAAAAAAAAAAAAAAAAAAAAAAAAAAAAAAAAAAAAAAAAAAAAACwAAAAADAAMAAAIOgABCBxIsKBBAAMEAFjIkGEAABABBABAsaLFixgtBgDAsaNHAAEAiBxJsqTJkyhTqgwgQACAlzBhBgQAOw==\"><title>Layer: maxpool1 (hidden)\n Keras class = MaxPooling2D</title></image><text x=\"280.0\" y=\"877.0\" font-family=\"monospace\" font-size=\"12\" text-anchor=\"start\" alignment-baseline=\"central\">maxpool1</text><text x=\"280.0\" y=\"780\" font-family=\"monospace\" font-size=\"12\" text-anchor=\"start\" alignment-baseline=\"central\">16</text><text x=\"63.0\" y=\"970\" font-family=\"monospace\" font-size=\"12\" text-anchor=\"start\" alignment-baseline=\"central\">0</text><line x1=\"175.0\" y1=\"1004\" x2=\"175.0\" y2=\"977\" stroke=\"black\" stroke-width=\"2\" marker-end=\"url(#arrow)\"><title>Weights from Conv2D-1 to maxpool1</title></line><rect x=\"74.0\" y=\"1004\" width=\"202\" height=\"202\" style=\"fill:none;stroke:black;stroke-width:2\"/><image id=\"Auto-Encoding with Conv_Conv2D-1_6\" class=\"Auto-Encoding with Conv_Conv2D-1\" x=\"75.0\" y=\"1005\" height=\"200\" width=\"200\" preserveAspectRatio=\"none\" href=\"data:image/gif;base64,R0lGODdhGAAYAIcAAP78/ejo/9XV/6mp/7m5/wAAAAAAAAAAAAAAAAAAAAAAAAAAAAAAAAAAAAAAAAAAAAAAAAAAAAAAAAAAAAAAAAAAAAAAAAAAAAAAAAAAAAAAAAAAAAAAAAAAAAAAAAAAAAAAAAAAAAAAAAAAAAAAAAAAAAAAAAAAAAAAAAAAAAAAAAAAAAAAAAAAAAAAAAAAAAAAAAAAAAAAAAAAAAAAAAAAAAAAAAAAAAAAAAAAAAAAAAAAAAAAAAAAAAAAAAAAAAAAAAAAAAAAAAAAAAAAAAAAAAAAAAAAAAAAAAAAAAAAAAAAAAAAAAAAAAAAAAAAAAAAAAAAAAAAAAAAAAAAAAAAAAAAAAAAAAAAAAAAAAAAAAAAAAAAAAAAAAAAAAAAAAAAAAAAAAAAAAAAAAAAAAAAAAAAAAAAAAAAAAAAAAAAAAAAAAAAAAAAAAAAAAAAAAAAAAAAAAAAAAAAAAAAAAAAAAAAAAAAAAAAAAAAAAAAAAAAAAAAAAAAAAAAAAAAAAAAAAAAAAAAAAAAAAAAAAAAAAAAAAAAAAAAAAAAAAAAAAAAAAAAAAAAAAAAAAAAAAAAAAAAAAAAAAAAAAAAAAAAAAAAAAAAAAAAAAAAAAAAAAAAAAAAAAAAAAAAAAAAAAAAAAAAAAAAAAAAAAAAAAAAAAAAAAAAAAAAAAAAAAAAAAAAAAAAAAAAAAAAAAAAAAAAAAAAAAAAAAAAAAAAAAAAAAAAAAAAAAAAAAAAAAAAAAAAAAAAAAAAAAAAAAAAAAAAAAAAAAAAAAAAAAAAAAAAAAAAAAAAAAAAAAAAAAAAAAAAAAAAAAAAAAAAAAAAAAAAAAAAAAAAAAAAAAAAAAAAAAAAAAAAAAAAAAAAAAAAAAAAAAAAAAAAAAAAAAAAAAAAAAAAAAAAAAAAAAAAAAAAAAAAAAAAAAAAAAAAAAAAAAAAAAAAAAAAAAAAAAAAAAAAAAAAAAAAAAAAAAAAAAAAAAAAAAAAAAAAAAAAAAAAAAAAAAAAAAAAAAAAAAAAACwAAAAAGAAYAEAIbgABCBxIsKDBgwgTKlzIkGGAAAAiSpwoMQCAixgzatzIsaPHjyBDihxJsqTJjQECCBAAoKXLlzBjypxJs+ZMAgMEANjJs6fPn0ABBABAtKjRo0iTKl2KNACAp1CjSp1KtarVq1izat3KtavXqQEBADs=\"><title>Layer: Conv2D-1 (hidden)\n Keras class = Conv2D\n activation = relu</title></image><text x=\"280.0\" y=\"1107.0\" font-family=\"monospace\" font-size=\"12\" text-anchor=\"start\" alignment-baseline=\"central\">Conv2D-1</text><text x=\"280.0\" y=\"1010\" font-family=\"monospace\" font-size=\"12\" text-anchor=\"start\" alignment-baseline=\"central\">16</text><text x=\"63.0\" y=\"1200\" font-family=\"monospace\" font-size=\"12\" text-anchor=\"start\" alignment-baseline=\"central\">0</text><line x1=\"175.0\" y1=\"1234\" x2=\"175.0\" y2=\"1207\" stroke=\"black\" stroke-width=\"2\" marker-end=\"url(#arrow)\"><title>Weights from input to Conv2D-1\n Conv2D-1/kernel has shape (5, 5, 1, 16)\n Conv2D-1/bias has shape (16,)</title></line><rect x=\"74.0\" y=\"1234\" width=\"202\" height=\"202\" style=\"fill:none;stroke:black;stroke-width:2\"/><image id=\"Auto-Encoding with Conv_input_7\" class=\"Auto-Encoding with Conv_input\" x=\"75.0\" y=\"1235\" height=\"200\" width=\"200\" preserveAspectRatio=\"none\" href=\"data:image/gif;base64,R0lGODdhHAAcAIcAAAoAAP//9jAAAP/8DP//z00AANcAAPMAAG4AAI0AAP+aAP9nAP/MAP//jbMAAP9yAP/pAP//T///c/8lAP9XAP+qAP//Mv82AP9EAP+/AP/WAP//vAAAAAAAAAAAAAAAAAAAAAAAAAAAAAAAAAAAAAAAAAAAAAAAAAAAAAAAAAAAAAAAAAAAAAAAAAAAAAAAAAAAAAAAAAAAAAAAAAAAAAAAAAAAAAAAAAAAAAAAAAAAAAAAAAAAAAAAAAAAAAAAAAAAAAAAAAAAAAAAAAAAAAAAAAAAAAAAAAAAAAAAAAAAAAAAAAAAAAAAAAAAAAAAAAAAAAAAAAAAAAAAAAAAAAAAAAAAAAAAAAAAAAAAAAAAAAAAAAAAAAAAAAAAAAAAAAAAAAAAAAAAAAAAAAAAAAAAAAAAAAAAAAAAAAAAAAAAAAAAAAAAAAAAAAAAAAAAAAAAAAAAAAAAAAAAAAAAAAAAAAAAAAAAAAAAAAAAAAAAAAAAAAAAAAAAAAAAAAAAAAAAAAAAAAAAAAAAAAAAAAAAAAAAAAAAAAAAAAAAAAAAAAAAAAAAAAAAAAAAAAAAAAAAAAAAAAAAAAAAAAAAAAAAAAAAAAAAAAAAAAAAAAAAAAAAAAAAAAAAAAAAAAAAAAAAAAAAAAAAAAAAAAAAAAAAAAAAAAAAAAAAAAAAAAAAAAAAAAAAAAAAAAAAAAAAAAAAAAAAAAAAAAAAAAAAAAAAAAAAAAAAAAAAAAAAAAAAAAAAAAAAAAAAAAAAAAAAAAAAAAAAAAAAAAAAAAAAAAAAAAAAAAAAAAAAAAAAAAAAAAAAAAAAAAAAAAAAAAAAAAAAAAAAAAAAAAAAAAAAAAAAAAAAAAAAAAAAAAAAAAAAAAAAAAAAAAAAAAAAAAAAAAAAAAAAAAAAAAAAAAAAAAAAAAAAAAAAAAAAAAAAAAAAAAAAAAAAAAAAAAAAAAAAAAAAAAAAAAAAAAAAAAAAAAAAAAAAAAAAAAAAAAAAAAAAAAAAAAAAAAAAAAAAAAAAACwAAAAAHAAcAEAI/wABCBxIsKDBgwcFSAjAkOEACAQIAJhIsaLFixUFHAgQYACAjyBDfnwQoGSEBQsEAFjJsqXLlzBjypwpYEAAAwBy6tzJs2fOAhckBBgawIIBAEiTKl3KtKnTpwUQHFDAIIBVqw0YBCAwwAGAr2DDghUAQEGAAwDSql3Ltm1bAwQCBMBQAIDdu3jz6rWbYAGEAAEiABhMuHBhAQwkBFgcYIABAQAiS55MubLly5gza97MufNkAaApPNBQIEMAAhQAqF7NGkCCDQFiy5Z9oHYCBABy696t20CFCQECWBAAAIECAMiTK1/O/EGAAQCiS59OvTp1BAQaVJgAoLv37+DDf1FPMCBAAAUFAKhfz769e/YB4jsAQL++/fv2EShoEKB/AIAQAAwkWNAggAIOIgRgGGCAAQARJU6kmIBBgwAZAxBYIADAR5AhRY4kWdLkSZQhAwIAOw==\"><title>Layer: input (input)\n shape = (28, 28, 1)\n Keras class = Input</title></image><text x=\"280.0\" y=\"1337.0\" font-family=\"monospace\" font-size=\"12\" text-anchor=\"start\" alignment-baseline=\"central\">input</text><text x=\"280.0\" y=\"1240\" font-family=\"monospace\" font-size=\"12\" text-anchor=\"start\" alignment-baseline=\"central\">1</text><text x=\"63.0\" y=\"1430\" font-family=\"monospace\" font-size=\"12\" text-anchor=\"start\" alignment-baseline=\"central\">0</text></svg></p>"
      }
     },
     "2555d7adb1694846905af76ccc04faca": {
      "model_module": "@jupyter-widgets/base",
      "model_module_version": "1.0.0",
      "model_name": "LayoutModel",
      "state": {}
     },
     "25da2fb2a0564eabb123fb519dd3a425": {
      "model_module": "@jupyter-widgets/controls",
      "model_module_version": "1.0.0",
      "model_name": "HBoxModel",
      "state": {
       "children": [
        "IPY_MODEL_10809e5dbf37418b8b8d5e988ab7a67b",
        "IPY_MODEL_815069621ab943c687462464ee4e0db6"
       ],
       "layout": "IPY_MODEL_e2251822eb86484d81a03cb407bc9ded"
      }
     },
     "260ed86b34f14e9ab54dcc7d9d70e6bf": {
      "model_module": "@jupyter-widgets/base",
      "model_module_version": "1.0.0",
      "model_name": "LayoutModel",
      "state": {}
     },
     "263ca76c64a74112a0b930508e20361e": {
      "model_module": "@jupyter-widgets/controls",
      "model_module_version": "1.0.0",
      "model_name": "VBoxModel",
      "state": {
       "children": [
        "IPY_MODEL_8bc01e4e735b4acd8764084794656eca",
        "IPY_MODEL_12c133a4f9264785a6baa003c39b1762",
        "IPY_MODEL_9efead38603042918b3575799a6beba0",
        "IPY_MODEL_5b349bd715dd413390d9cfc6c777b830"
       ],
       "layout": "IPY_MODEL_5b2498a9c11e42a98f4b5cd3febd26ab"
      }
     },
     "26676bec5fd149ca973fd92de61a87fc": {
      "model_module": "@jupyter-widgets/base",
      "model_module_version": "1.0.0",
      "model_name": "LayoutModel",
      "state": {
       "width": "40px"
      }
     },
     "266847ab313c486a9fb3f919cdacdf45": {
      "model_module": "@jupyter-widgets/controls",
      "model_module_version": "1.0.0",
      "model_name": "IntTextModel",
      "state": {
       "description": "Vertical space between layers:",
       "layout": "IPY_MODEL_af966ba6c22449cc8a140effb55ca6ed",
       "step": 1,
       "style": "IPY_MODEL_a5c8b34d74dd40a4baea6abe33ea8936",
       "value": 30
      }
     },
     "26d4dcbc89654a71a4b94fa34f7d7fe1": {
      "model_module": "@jupyter-widgets/controls",
      "model_module_version": "1.0.0",
      "model_name": "HBoxModel",
      "state": {
       "children": [
        "IPY_MODEL_0070b3c56ae8443e8ed564d717a7673a",
        "IPY_MODEL_670a5e2f88694373a1b2a67ff433a79f"
       ],
       "layout": "IPY_MODEL_bf5e0413184a4d5289a40c5c9c5e7190"
      }
     },
     "26e1083552b04f9fb3caa971c5ac0471": {
      "model_module": "@jupyter-widgets/controls",
      "model_module_version": "1.0.0",
      "model_name": "HTMLModel",
      "state": {
       "layout": "IPY_MODEL_5a83029a96f44ac297cdd24e5242d910",
       "style": "IPY_MODEL_4eb3cfbc50ec40168b9d87946e7d9527",
       "value": "<p><hr/><h3>maxpool1 bank:</h3></p>"
      }
     },
     "26e5295013604f0b8c7d2d27486656f2": {
      "model_module": "@jupyter-widgets/controls",
      "model_module_version": "1.0.0",
      "model_name": "FloatSliderModel",
      "state": {
       "continuous_update": false,
       "description": "Zoom",
       "layout": "IPY_MODEL_b4afbfb318d242229498fe17c7c1eb0f",
       "max": 3,
       "min": 0.5,
       "step": 0.1,
       "style": "IPY_MODEL_65199462242d4daf87633a9dc81605e6",
       "value": 1
      }
     },
     "2738980d710f4649b4ee02763ccecb40": {
      "model_module": "@jupyter-widgets/controls",
      "model_module_version": "1.0.0",
      "model_name": "DescriptionStyleModel",
      "state": {
       "description_width": "initial"
      }
     },
     "274b1df1d3b74e1fb0f9d8c13f7a1665": {
      "model_module": "@jupyter-widgets/controls",
      "model_module_version": "1.0.0",
      "model_name": "VBoxModel",
      "state": {
       "children": [
        "IPY_MODEL_c89ff39d7db5466ba2d9b25d09f2df54",
        "IPY_MODEL_97c859ff13d148df87e60482c5257b5e"
       ],
       "layout": "IPY_MODEL_8469359f10a7434aa36cdb30b083d322"
      }
     },
     "274fe3afcbde461c8999d16db680b323": {
      "model_module": "@jupyter-widgets/controls",
      "model_module_version": "1.0.0",
      "model_name": "CheckboxModel",
      "state": {
       "description": "Visible",
       "disabled": false,
       "layout": "IPY_MODEL_5a83029a96f44ac297cdd24e5242d910",
       "style": "IPY_MODEL_ee06f1c0964840dcaa10e6e1af6007b5",
       "value": true
      }
     },
     "27ea92dafe5f4c54a9bb592e43f74881": {
      "model_module": "@jupyter-widgets/base",
      "model_module_version": "1.0.0",
      "model_name": "LayoutModel",
      "state": {}
     },
     "27ebe098be5f4ae4870eb9c80a4be9da": {
      "model_module": "@jupyter-widgets/base",
      "model_module_version": "1.0.0",
      "model_name": "LayoutModel",
      "state": {}
     },
     "281cb82fe99a4100b43bbc7b3c120f27": {
      "model_module": "@jupyter-widgets/controls",
      "model_module_version": "1.0.0",
      "model_name": "DescriptionStyleModel",
      "state": {
       "description_width": "initial"
      }
     },
     "281f6cdbab6e4571a1edc2d7100a817a": {
      "model_module": "@jupyter-widgets/controls",
      "model_module_version": "1.0.0",
      "model_name": "VBoxModel",
      "state": {
       "children": [
        "IPY_MODEL_53700932a30941679521fda680393c78",
        "IPY_MODEL_0db0bdc072634348965e6beaf3e62478",
        "IPY_MODEL_1c52212bc33b4492a29087533424ebe6",
        "IPY_MODEL_aeda652a272043d8a19e3be979cf9503",
        "IPY_MODEL_4ed780f35b9d45bdb46579e6e8ff18a9"
       ],
       "layout": "IPY_MODEL_8cc13db5c1c54963b625c907ec718ce6"
      }
     },
     "287b864dbb264967b63bfe252e63ae55": {
      "model_module": "@jupyter-widgets/base",
      "model_module_version": "1.0.0",
      "model_name": "LayoutModel",
      "state": {}
     },
     "28b26d3bdcf54746a6a637ba40814e2f": {
      "model_module": "@jupyter-widgets/controls",
      "model_module_version": "1.0.0",
      "model_name": "DescriptionStyleModel",
      "state": {
       "description_width": ""
      }
     },
     "28b8ac88d188485aa05b24014f160f53": {
      "model_module": "@jupyter-widgets/base",
      "model_module_version": "1.0.0",
      "model_name": "LayoutModel",
      "state": {}
     },
     "291eaca42e5c4fcc9cec4749694683c9": {
      "model_module": "@jupyter-widgets/controls",
      "model_module_version": "1.0.0",
      "model_name": "DescriptionStyleModel",
      "state": {
       "description_width": ""
      }
     },
     "2a6ba9d8c5f14bdb91352e7b1b24f719": {
      "model_module": "@jupyter-widgets/controls",
      "model_module_version": "1.0.0",
      "model_name": "DescriptionStyleModel",
      "state": {
       "description_width": "initial"
      }
     },
     "2ac0474d597442c7bf065a1bed4e6085": {
      "model_module": "@jupyter-widgets/controls",
      "model_module_version": "1.0.0",
      "model_name": "IntTextModel",
      "state": {
       "layout": "IPY_MODEL_20a9512620214c1bae4caa4a2def8bf6",
       "step": 1,
       "style": "IPY_MODEL_2eed5cfb69054045bb7ef33e1678a7db",
       "value": 5
      }
     },
     "2acca33a587749d6a98af9dbac920d02": {
      "model_module": "@jupyter-widgets/base",
      "model_module_version": "1.0.0",
      "model_name": "LayoutModel",
      "state": {}
     },
     "2ad1a0f8dc834f2c8388cddb42eff51d": {
      "model_module": "@jupyter-widgets/controls",
      "model_module_version": "1.0.0",
      "model_name": "HBoxModel",
      "state": {
       "children": [
        "IPY_MODEL_934eef65e551423d897e7c8db411391e",
        "IPY_MODEL_ffc300cb02bc47f396261ce14467f0d2"
       ],
       "layout": "IPY_MODEL_45af6413ca484ef69d0c5d9fc44eaf67"
      }
     },
     "2ad2196d347e4cf1beefa4de424a0fdd": {
      "model_module": "@jupyter-widgets/controls",
      "model_module_version": "1.0.0",
      "model_name": "DescriptionStyleModel",
      "state": {
       "description_width": ""
      }
     },
     "2af6a0cc616b466597beedd5f0a03e04": {
      "model_module": "@jupyter-widgets/base",
      "model_module_version": "1.0.0",
      "model_name": "LayoutModel",
      "state": {}
     },
     "2b3e6a695df84a72ae0ba6a0c0715329": {
      "model_module": "@jupyter-widgets/controls",
      "model_module_version": "1.0.0",
      "model_name": "IntTextModel",
      "state": {
       "description": "Feature columns:",
       "layout": "IPY_MODEL_4662c32619ec4ba0a6a8c18f65899cbd",
       "step": 1,
       "style": "IPY_MODEL_e119fa9b378a434cbebd296c3f30a3f2",
       "value": 3
      }
     },
     "2b5f3220094c49b183f1b5f78aaebf4b": {
      "model_module": "@jupyter-widgets/base",
      "model_module_version": "1.0.0",
      "model_name": "LayoutModel",
      "state": {
       "height": "50px",
       "width": "100%"
      }
     },
     "2b708748019040509b40f790f086b67a": {
      "model_module": "@jupyter-widgets/controls",
      "model_module_version": "1.0.0",
      "model_name": "HTMLModel",
      "state": {
       "layout": "IPY_MODEL_5a83029a96f44ac297cdd24e5242d910",
       "style": "IPY_MODEL_f3e8ef14c4b6402f9ca0d78e04d42110",
       "value": "<p><h3>Network display:</h3></p>"
      }
     },
     "2bcf86a8694843c781e2b6cbec889581": {
      "model_module": "@jupyter-widgets/controls",
      "model_module_version": "1.0.0",
      "model_name": "IntTextModel",
      "state": {
       "description": "Feature to show:",
       "layout": "IPY_MODEL_b3e8ed9671074bcaaa7302838cacdc9d",
       "step": 1,
       "style": "IPY_MODEL_a7bad027edfa488cbb73bc9ca6a4164b"
      }
     },
     "2bf5f75a6fab4c80b65a4c70c82c049b": {
      "model_module": "@jupyter-widgets/controls",
      "model_module_version": "1.0.0",
      "model_name": "DescriptionStyleModel",
      "state": {
       "description_width": "initial"
      }
     },
     "2c0fa6e081b947d0a9e44586f400a999": {
      "model_module": "@jupyter-widgets/controls",
      "model_module_version": "1.0.0",
      "model_name": "IntTextModel",
      "state": {
       "description": "Feature to show:",
       "layout": "IPY_MODEL_588b6cae75ed4f01a7fc278512e62286",
       "step": 1,
       "style": "IPY_MODEL_59d13d5d10804ce1950e2d27070d22b8"
      }
     },
     "2c61e8bbe36949ea940a544dc2ff6f33": {
      "model_module": "@jupyter-widgets/controls",
      "model_module_version": "1.0.0",
      "model_name": "IntTextModel",
      "state": {
       "description": "Rightmost color maps to:",
       "layout": "IPY_MODEL_460e1e22b6784d0ca9957f8d50bb9b8a",
       "step": 1,
       "style": "IPY_MODEL_68dad3abe5594f1ca5718733222d5684",
       "value": 1
      }
     },
     "2c7421c33b8c4370baf85f6f59727808": {
      "model_module": "@jupyter-widgets/controls",
      "model_module_version": "1.0.0",
      "model_name": "FloatTextModel",
      "state": {
       "description": "Feature scale:",
       "layout": "IPY_MODEL_c3d4c764e3384488a01fb985680f7a00",
       "step": null,
       "style": "IPY_MODEL_7d269c59fff54ec293fac3d00f46a149",
       "value": 2
      }
     },
     "2c7511e7b2c1483fb66090e85a51b32b": {
      "model_module": "@jupyter-widgets/controls",
      "model_module_version": "1.0.0",
      "model_name": "DescriptionStyleModel",
      "state": {
       "description_width": ""
      }
     },
     "2cdb846783104a73b8eebe6868163645": {
      "model_module": "@jupyter-widgets/controls",
      "model_module_version": "1.0.0",
      "model_name": "DescriptionStyleModel",
      "state": {
       "description_width": ""
      }
     },
     "2d1add4e37b14884877dbb7814fbca7a": {
      "model_module": "@jupyter-widgets/controls",
      "model_module_version": "1.0.0",
      "model_name": "DescriptionStyleModel",
      "state": {
       "description_width": ""
      }
     },
     "2d561aa3fe9d40c1b2595394c28ab129": {
      "model_module": "@jupyter-widgets/controls",
      "model_module_version": "1.0.0",
      "model_name": "DescriptionStyleModel",
      "state": {
       "description_width": "initial"
      }
     },
     "2daba3987d144bb6a941cdf05e20bfc3": {
      "model_module": "@jupyter-widgets/base",
      "model_module_version": "1.0.0",
      "model_name": "LayoutModel",
      "state": {}
     },
     "2dd7e0b89ed847a68ba883416146fd32": {
      "model_module": "@jupyter-widgets/controls",
      "model_module_version": "1.0.0",
      "model_name": "IntTextModel",
      "state": {
       "description": "Rightmost color maps to:",
       "layout": "IPY_MODEL_7b7044effe724e4ba426a998349fd46a",
       "step": 1,
       "style": "IPY_MODEL_607ee7ffe6694a25aee5bc60af190d8c",
       "value": 1
      }
     },
     "2de9f6c2a9f74c6b8e6a93cf460107c5": {
      "model_module": "@jupyter-widgets/controls",
      "model_module_version": "1.0.0",
      "model_name": "DescriptionStyleModel",
      "state": {
       "description_width": ""
      }
     },
     "2df8779b9cf3442fa2bab56718c5b2ec": {
      "model_module": "@jupyter-widgets/controls",
      "model_module_version": "1.0.0",
      "model_name": "HBoxModel",
      "state": {
       "children": [
        "IPY_MODEL_fb527585628442ce8f8b688835cf6ca2",
        "IPY_MODEL_9c1978bea6ba4685ac524b546f7a962a"
       ],
       "layout": "IPY_MODEL_cf19765f1a694f1fae51ec392bcdc62c"
      }
     },
     "2e18c986ed764b21a4478d70445373ae": {
      "model_module": "@jupyter-widgets/controls",
      "model_module_version": "1.0.0",
      "model_name": "HTMLModel",
      "state": {
       "layout": "IPY_MODEL_a4f595ca18f0465c9d828fc9764533fb",
       "style": "IPY_MODEL_770bb4927ba340aa87797703f84822e2",
       "value": "<img src=\"data:image/gif;base64,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\"/>"
      }
     },
     "2e38947dddaf4b0d8400fc822918d030": {
      "model_module": "@jupyter-widgets/controls",
      "model_module_version": "1.0.0",
      "model_name": "CheckboxModel",
      "state": {
       "description": "Show Targets",
       "disabled": false,
       "layout": "IPY_MODEL_3f6bd880fd0f4f1da6872e0af28cfeaa",
       "style": "IPY_MODEL_51c479178d15479eb7f5170736cc5498",
       "value": false
      }
     },
     "2e8c6c4daf1046b5a7e7227f12fdcb4b": {
      "model_module": "@jupyter-widgets/controls",
      "model_module_version": "1.0.0",
      "model_name": "VBoxModel",
      "state": {
       "children": [
        "IPY_MODEL_936cb485ebae47aa9b2c902a068234ef",
        "IPY_MODEL_f63bec4f391e485eb603c6b528d0a89e",
        "IPY_MODEL_5ed89884c6cc482fb3fabaf475abd2a4"
       ],
       "layout": "IPY_MODEL_89298f2ef16448a28147108ba03bceed"
      }
     },
     "2eed5cfb69054045bb7ef33e1678a7db": {
      "model_module": "@jupyter-widgets/controls",
      "model_module_version": "1.0.0",
      "model_name": "DescriptionStyleModel",
      "state": {
       "description_width": ""
      }
     },
     "2f14844d77ad4feb8355a4655c2cc3bb": {
      "model_module": "@jupyter-widgets/base",
      "model_module_version": "1.0.0",
      "model_name": "LayoutModel",
      "state": {}
     },
     "2f20cef8e6544595be279efc41939250": {
      "model_module": "@jupyter-widgets/controls",
      "model_module_version": "1.0.0",
      "model_name": "HTMLModel",
      "state": {
       "layout": "IPY_MODEL_af966ba6c22449cc8a140effb55ca6ed",
       "style": "IPY_MODEL_18a3bf2ea81548a281f042fba4a8a549",
       "value": "<p><hr/><h3>Conv2D-1 bank:</h3></p>"
      }
     },
     "2f312d78821b4c1ab917f1e52958ad7d": {
      "model_module": "@jupyter-widgets/base",
      "model_module_version": "1.0.0",
      "model_name": "LayoutModel",
      "state": {}
     },
     "2f80b6415a85415196cc3657cda43f09": {
      "model_module": "@jupyter-widgets/controls",
      "model_module_version": "1.0.0",
      "model_name": "DescriptionStyleModel",
      "state": {
       "description_width": ""
      }
     },
     "309d23bc0c4e486eab5a4bb6015896e9": {
      "model_module": "@jupyter-widgets/controls",
      "model_module_version": "1.0.0",
      "model_name": "ButtonStyleModel",
      "state": {}
     },
     "30d6cdbbb84b43fa8b9214b32744b395": {
      "model_module": "@jupyter-widgets/controls",
      "model_module_version": "1.0.0",
      "model_name": "DescriptionStyleModel",
      "state": {
       "description_width": ""
      }
     },
     "30edfc3862c64c3f99b1f5a4ff272ab4": {
      "model_module": "@jupyter-widgets/base",
      "model_module_version": "1.0.0",
      "model_name": "LayoutModel",
      "state": {}
     },
     "30fe657feae14d83838048421b6a2eca": {
      "model_module": "@jupyter-widgets/base",
      "model_module_version": "1.0.0",
      "model_name": "LayoutModel",
      "state": {}
     },
     "31550d3b3b0b4af7ba8e9ec88d8c0daa": {
      "model_module": "@jupyter-widgets/base",
      "model_module_version": "1.0.0",
      "model_name": "LayoutModel",
      "state": {}
     },
     "3186a5e6490a47f19ac339a5a6650360": {
      "model_module": "@jupyter-widgets/base",
      "model_module_version": "1.0.0",
      "model_name": "LayoutModel",
      "state": {
       "width": "100px"
      }
     },
     "31a362e0b1c64fed9b1e0dac345d1a01": {
      "model_module": "@jupyter-widgets/controls",
      "model_module_version": "1.0.0",
      "model_name": "HBoxModel",
      "state": {
       "children": [
        "IPY_MODEL_61a1bb8165e04de8b57ba5e5f2c16cec",
        "IPY_MODEL_162891ff17164289bba1f1f97f62325d"
       ],
       "layout": "IPY_MODEL_8c9cfff1d4d941e28c02fe5b9e07c7e0"
      }
     },
     "325487b79fe843d39bd622e28953e40d": {
      "model_module": "@jupyter-widgets/base",
      "model_module_version": "1.0.0",
      "model_name": "LayoutModel",
      "state": {}
     },
     "329b1a33d3df46b1809c65e7dda02212": {
      "model_module": "@jupyter-widgets/controls",
      "model_module_version": "1.0.0",
      "model_name": "DescriptionStyleModel",
      "state": {
       "description_width": ""
      }
     },
     "32b9b6ecf3ec470f92f4f35a29590c1a": {
      "model_module": "@jupyter-widgets/controls",
      "model_module_version": "1.0.0",
      "model_name": "DescriptionStyleModel",
      "state": {
       "description_width": "initial"
      }
     },
     "33d67d18bca44189b70ba26abc33716c": {
      "model_module": "@jupyter-widgets/controls",
      "model_module_version": "1.0.0",
      "model_name": "SelectModel",
      "state": {
       "_options_labels": [
        "",
        "Accent",
        "Accent_r",
        "Blues",
        "Blues_r",
        "BrBG",
        "BrBG_r",
        "BuGn",
        "BuGn_r",
        "BuPu",
        "BuPu_r",
        "CMRmap",
        "CMRmap_r",
        "Dark2",
        "Dark2_r",
        "GnBu",
        "GnBu_r",
        "Greens",
        "Greens_r",
        "Greys",
        "Greys_r",
        "OrRd",
        "OrRd_r",
        "Oranges",
        "Oranges_r",
        "PRGn",
        "PRGn_r",
        "Paired",
        "Paired_r",
        "Pastel1",
        "Pastel1_r",
        "Pastel2",
        "Pastel2_r",
        "PiYG",
        "PiYG_r",
        "PuBu",
        "PuBuGn",
        "PuBuGn_r",
        "PuBu_r",
        "PuOr",
        "PuOr_r",
        "PuRd",
        "PuRd_r",
        "Purples",
        "Purples_r",
        "RdBu",
        "RdBu_r",
        "RdGy",
        "RdGy_r",
        "RdPu",
        "RdPu_r",
        "RdYlBu",
        "RdYlBu_r",
        "RdYlGn",
        "RdYlGn_r",
        "Reds",
        "Reds_r",
        "Set1",
        "Set1_r",
        "Set2",
        "Set2_r",
        "Set3",
        "Set3_r",
        "Spectral",
        "Spectral_r",
        "Vega10",
        "Vega10_r",
        "Vega20",
        "Vega20_r",
        "Vega20b",
        "Vega20b_r",
        "Vega20c",
        "Vega20c_r",
        "Wistia",
        "Wistia_r",
        "YlGn",
        "YlGnBu",
        "YlGnBu_r",
        "YlGn_r",
        "YlOrBr",
        "YlOrBr_r",
        "YlOrRd",
        "YlOrRd_r",
        "afmhot",
        "afmhot_r",
        "autumn",
        "autumn_r",
        "binary",
        "binary_r",
        "bone",
        "bone_r",
        "brg",
        "brg_r",
        "bwr",
        "bwr_r",
        "cool",
        "cool_r",
        "coolwarm",
        "coolwarm_r",
        "copper",
        "copper_r",
        "cubehelix",
        "cubehelix_r",
        "flag",
        "flag_r",
        "gist_earth",
        "gist_earth_r",
        "gist_gray",
        "gist_gray_r",
        "gist_heat",
        "gist_heat_r",
        "gist_ncar",
        "gist_ncar_r",
        "gist_rainbow",
        "gist_rainbow_r",
        "gist_stern",
        "gist_stern_r",
        "gist_yarg",
        "gist_yarg_r",
        "gnuplot",
        "gnuplot2",
        "gnuplot2_r",
        "gnuplot_r",
        "gray",
        "gray_r",
        "hot",
        "hot_r",
        "hsv",
        "hsv_r",
        "inferno",
        "inferno_r",
        "jet",
        "jet_r",
        "magma",
        "magma_r",
        "nipy_spectral",
        "nipy_spectral_r",
        "ocean",
        "ocean_r",
        "pink",
        "pink_r",
        "plasma",
        "plasma_r",
        "prism",
        "prism_r",
        "rainbow",
        "rainbow_r",
        "seismic",
        "seismic_r",
        "spectral",
        "spectral_r",
        "spring",
        "spring_r",
        "summer",
        "summer_r",
        "tab10",
        "tab10_r",
        "tab20",
        "tab20_r",
        "tab20b",
        "tab20b_r",
        "tab20c",
        "tab20c_r",
        "terrain",
        "terrain_r",
        "viridis",
        "viridis_r",
        "winter",
        "winter_r"
       ],
       "description": "Colormap:",
       "index": 0,
       "layout": "IPY_MODEL_af966ba6c22449cc8a140effb55ca6ed",
       "rows": 1,
       "style": "IPY_MODEL_4478f7091ace4edf801ee3754de7a305"
      }
     },
     "3414cae71aeb4ac799f3e7b824a70822": {
      "model_module": "@jupyter-widgets/controls",
      "model_module_version": "1.0.0",
      "model_name": "DescriptionStyleModel",
      "state": {
       "description_width": ""
      }
     },
     "341768ed5a5b4580bb814e9eba007178": {
      "model_module": "@jupyter-widgets/controls",
      "model_module_version": "1.0.0",
      "model_name": "DescriptionStyleModel",
      "state": {
       "description_width": "initial"
      }
     },
     "3438f520f0ac44788d1e5c1f3ca01ccd": {
      "model_module": "@jupyter-widgets/base",
      "model_module_version": "1.0.0",
      "model_name": "LayoutModel",
      "state": {}
     },
     "344e27bd0bd44535924933840459a3a7": {
      "model_module": "@jupyter-widgets/controls",
      "model_module_version": "1.0.0",
      "model_name": "ButtonModel",
      "state": {
       "icon": "fast-backward",
       "layout": "IPY_MODEL_7c0f16cea91f4344bc3874bd5a8693a0",
       "style": "IPY_MODEL_72da8f27f9d14fe4ad37303ceba81c37"
      }
     },
     "36be71caf8d7463c80a667cd379f6f80": {
      "model_module": "@jupyter-widgets/controls",
      "model_module_version": "1.0.0",
      "model_name": "VBoxModel",
      "state": {
       "children": [
        "IPY_MODEL_bbb3c900d2b448128bf0b79a55c2f3e0",
        "IPY_MODEL_3e2205564fb54c7a8bd4374476d9569b",
        "IPY_MODEL_2ad1a0f8dc834f2c8388cddb42eff51d",
        "IPY_MODEL_9606867aa6ce49e781d84b9043b78bad",
        "IPY_MODEL_4c77b3757ca5497481ee6a22e8144a32"
       ],
       "layout": "IPY_MODEL_27ea92dafe5f4c54a9bb592e43f74881"
      }
     },
     "36ced8abcaa44076b3c81d2abef2d9db": {
      "model_module": "@jupyter-widgets/controls",
      "model_module_version": "1.0.0",
      "model_name": "HTMLModel",
      "state": {
       "layout": "IPY_MODEL_3f6bd880fd0f4f1da6872e0af28cfeaa",
       "style": "IPY_MODEL_8ae4cdb543c642f985f8188ec9f2d226",
       "value": "<p><h3>Network display:</h3></p>"
      }
     },
     "36d06f858ba24ecd8d64d5a0a7f0cc05": {
      "model_module": "@jupyter-widgets/controls",
      "model_module_version": "1.0.0",
      "model_name": "DescriptionStyleModel",
      "state": {
       "description_width": "initial"
      }
     },
     "36e90f625fb443d08a537cb0bfd4b302": {
      "model_module": "@jupyter-widgets/controls",
      "model_module_version": "1.0.0",
      "model_name": "DescriptionStyleModel",
      "state": {
       "description_width": ""
      }
     },
     "36eea5ee927342db92525bdc8b311ab3": {
      "model_module": "@jupyter-widgets/controls",
      "model_module_version": "1.0.0",
      "model_name": "HTMLModel",
      "state": {
       "layout": "IPY_MODEL_30fe657feae14d83838048421b6a2eca",
       "style": "IPY_MODEL_a75afe50bc3a4ad58c4b24dc9c7a3c8c",
       "value": "<img src=\"data:image/gif;base64,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\"/>"
      }
     },
     "3732507f9ee4465aa3357f4818b52da4": {
      "model_module": "@jupyter-widgets/controls",
      "model_module_version": "1.0.0",
      "model_name": "DescriptionStyleModel",
      "state": {
       "description_width": "initial"
      }
     },
     "37beafc55c4c496984968b7952de9402": {
      "model_module": "@jupyter-widgets/controls",
      "model_module_version": "1.0.0",
      "model_name": "HBoxModel",
      "state": {
       "children": [
        "IPY_MODEL_819f5e8323cb4d00b99af2bde7d5ee76",
        "IPY_MODEL_5c23db5c64144327ac2e9ca31dc841c4"
       ],
       "layout": "IPY_MODEL_e8ac48b131f14dccb2ac51851317f99d"
      }
     },
     "385c7a9874bf4c7aacc940089e627888": {
      "model_module": "@jupyter-widgets/base",
      "model_module_version": "1.0.0",
      "model_name": "LayoutModel",
      "state": {}
     },
     "3863d723f8854cba88e1831790e872a3": {
      "model_module": "@jupyter-widgets/controls",
      "model_module_version": "1.0.0",
      "model_name": "DescriptionStyleModel",
      "state": {
       "description_width": ""
      }
     },
     "39e823f611604fca8591ff45a83ef90b": {
      "model_module": "@jupyter-widgets/controls",
      "model_module_version": "1.0.0",
      "model_name": "DescriptionStyleModel",
      "state": {
       "description_width": ""
      }
     },
     "39fb267bfcb14ebfbd54230e9c110ac9": {
      "model_module": "@jupyter-widgets/controls",
      "model_module_version": "1.0.0",
      "model_name": "HBoxModel",
      "state": {
       "children": [
        "IPY_MODEL_8ca135170dba4039956148c3fe3dcc40",
        "IPY_MODEL_185208bc6a1e446ebbaea3bb966c7fa0"
       ],
       "layout": "IPY_MODEL_4eaf8795f25246d3999746ce2d87f7d5"
      }
     },
     "3a4fb611719d4e6693e0835b591ba5a3": {
      "model_module": "@jupyter-widgets/controls",
      "model_module_version": "1.0.0",
      "model_name": "HBoxModel",
      "state": {
       "children": [
        "IPY_MODEL_1eb3c65bc9bd4cd3b2bcadb771e01bf4",
        "IPY_MODEL_66d7548cb8e543edb841bd001fd54250"
       ],
       "layout": "IPY_MODEL_0d19267fe99c42e68c5d8f36cce9c1e4"
      }
     },
     "3aa4a3952dd64efb92a87a65e68f51eb": {
      "model_module": "@jupyter-widgets/controls",
      "model_module_version": "1.0.0",
      "model_name": "HTMLModel",
      "state": {
       "layout": "IPY_MODEL_e1f4937f08ef4b73afcab9a250daa5aa",
       "style": "IPY_MODEL_ec91ed3397834ecfa61939e95dd3de32",
       "value": "<iframe src=\"https://conx.readthedocs.io\" width=\"100%\" height=\"550px\"></frame>"
      }
     },
     "3b47cf753f9744818126ab0d247bfc5b": {
      "model_module": "@jupyter-widgets/controls",
      "model_module_version": "1.0.0",
      "model_name": "IntTextModel",
      "state": {
       "description": "Rightmost color maps to:",
       "layout": "IPY_MODEL_1a526c7d15934e81aa46b6d69f4eb3f1",
       "step": 1,
       "style": "IPY_MODEL_82c7487a24344f7fa954b15c3f276366",
       "value": 1
      }
     },
     "3b7a718fa2444fbd9c092d31ae47b91c": {
      "model_module": "@jupyter-widgets/controls",
      "model_module_version": "1.0.0",
      "model_name": "IntTextModel",
      "state": {
       "description": "Leftmost color maps to:",
       "layout": "IPY_MODEL_3438f520f0ac44788d1e5c1f3ca01ccd",
       "step": 1,
       "style": "IPY_MODEL_613dc31b5b714b2b88ed196e9e776c09",
       "value": -1
      }
     },
     "3b88df0640ed4c47ada685b0145b2117": {
      "model_module": "@jupyter-widgets/controls",
      "model_module_version": "1.0.0",
      "model_name": "ButtonStyleModel",
      "state": {}
     },
     "3bc36afe8ea8461c954bad2ef3f61320": {
      "model_module": "@jupyter-widgets/controls",
      "model_module_version": "1.0.0",
      "model_name": "SelectModel",
      "state": {
       "_options_labels": [
        "",
        "Accent",
        "Accent_r",
        "Blues",
        "Blues_r",
        "BrBG",
        "BrBG_r",
        "BuGn",
        "BuGn_r",
        "BuPu",
        "BuPu_r",
        "CMRmap",
        "CMRmap_r",
        "Dark2",
        "Dark2_r",
        "GnBu",
        "GnBu_r",
        "Greens",
        "Greens_r",
        "Greys",
        "Greys_r",
        "OrRd",
        "OrRd_r",
        "Oranges",
        "Oranges_r",
        "PRGn",
        "PRGn_r",
        "Paired",
        "Paired_r",
        "Pastel1",
        "Pastel1_r",
        "Pastel2",
        "Pastel2_r",
        "PiYG",
        "PiYG_r",
        "PuBu",
        "PuBuGn",
        "PuBuGn_r",
        "PuBu_r",
        "PuOr",
        "PuOr_r",
        "PuRd",
        "PuRd_r",
        "Purples",
        "Purples_r",
        "RdBu",
        "RdBu_r",
        "RdGy",
        "RdGy_r",
        "RdPu",
        "RdPu_r",
        "RdYlBu",
        "RdYlBu_r",
        "RdYlGn",
        "RdYlGn_r",
        "Reds",
        "Reds_r",
        "Set1",
        "Set1_r",
        "Set2",
        "Set2_r",
        "Set3",
        "Set3_r",
        "Spectral",
        "Spectral_r",
        "Vega10",
        "Vega10_r",
        "Vega20",
        "Vega20_r",
        "Vega20b",
        "Vega20b_r",
        "Vega20c",
        "Vega20c_r",
        "Wistia",
        "Wistia_r",
        "YlGn",
        "YlGnBu",
        "YlGnBu_r",
        "YlGn_r",
        "YlOrBr",
        "YlOrBr_r",
        "YlOrRd",
        "YlOrRd_r",
        "afmhot",
        "afmhot_r",
        "autumn",
        "autumn_r",
        "binary",
        "binary_r",
        "bone",
        "bone_r",
        "brg",
        "brg_r",
        "bwr",
        "bwr_r",
        "cool",
        "cool_r",
        "coolwarm",
        "coolwarm_r",
        "copper",
        "copper_r",
        "cubehelix",
        "cubehelix_r",
        "flag",
        "flag_r",
        "gist_earth",
        "gist_earth_r",
        "gist_gray",
        "gist_gray_r",
        "gist_heat",
        "gist_heat_r",
        "gist_ncar",
        "gist_ncar_r",
        "gist_rainbow",
        "gist_rainbow_r",
        "gist_stern",
        "gist_stern_r",
        "gist_yarg",
        "gist_yarg_r",
        "gnuplot",
        "gnuplot2",
        "gnuplot2_r",
        "gnuplot_r",
        "gray",
        "gray_r",
        "hot",
        "hot_r",
        "hsv",
        "hsv_r",
        "inferno",
        "inferno_r",
        "jet",
        "jet_r",
        "magma",
        "magma_r",
        "nipy_spectral",
        "nipy_spectral_r",
        "ocean",
        "ocean_r",
        "pink",
        "pink_r",
        "plasma",
        "plasma_r",
        "prism",
        "prism_r",
        "rainbow",
        "rainbow_r",
        "seismic",
        "seismic_r",
        "spectral",
        "spectral_r",
        "spring",
        "spring_r",
        "summer",
        "summer_r",
        "tab10",
        "tab10_r",
        "tab20",
        "tab20_r",
        "tab20b",
        "tab20b_r",
        "tab20c",
        "tab20c_r",
        "terrain",
        "terrain_r",
        "viridis",
        "viridis_r",
        "winter",
        "winter_r"
       ],
       "description": "Colormap:",
       "index": 0,
       "layout": "IPY_MODEL_3f6bd880fd0f4f1da6872e0af28cfeaa",
       "rows": 1,
       "style": "IPY_MODEL_897e3100eb48401e9621de2589081680"
      }
     },
     "3bcc3b8f35c9431b970804d1a5b51003": {
      "model_module": "@jupyter-widgets/controls",
      "model_module_version": "1.0.0",
      "model_name": "SelectModel",
      "state": {
       "_options_labels": [
        "",
        "Accent",
        "Accent_r",
        "Blues",
        "Blues_r",
        "BrBG",
        "BrBG_r",
        "BuGn",
        "BuGn_r",
        "BuPu",
        "BuPu_r",
        "CMRmap",
        "CMRmap_r",
        "Dark2",
        "Dark2_r",
        "GnBu",
        "GnBu_r",
        "Greens",
        "Greens_r",
        "Greys",
        "Greys_r",
        "OrRd",
        "OrRd_r",
        "Oranges",
        "Oranges_r",
        "PRGn",
        "PRGn_r",
        "Paired",
        "Paired_r",
        "Pastel1",
        "Pastel1_r",
        "Pastel2",
        "Pastel2_r",
        "PiYG",
        "PiYG_r",
        "PuBu",
        "PuBuGn",
        "PuBuGn_r",
        "PuBu_r",
        "PuOr",
        "PuOr_r",
        "PuRd",
        "PuRd_r",
        "Purples",
        "Purples_r",
        "RdBu",
        "RdBu_r",
        "RdGy",
        "RdGy_r",
        "RdPu",
        "RdPu_r",
        "RdYlBu",
        "RdYlBu_r",
        "RdYlGn",
        "RdYlGn_r",
        "Reds",
        "Reds_r",
        "Set1",
        "Set1_r",
        "Set2",
        "Set2_r",
        "Set3",
        "Set3_r",
        "Spectral",
        "Spectral_r",
        "Vega10",
        "Vega10_r",
        "Vega20",
        "Vega20_r",
        "Vega20b",
        "Vega20b_r",
        "Vega20c",
        "Vega20c_r",
        "Wistia",
        "Wistia_r",
        "YlGn",
        "YlGnBu",
        "YlGnBu_r",
        "YlGn_r",
        "YlOrBr",
        "YlOrBr_r",
        "YlOrRd",
        "YlOrRd_r",
        "afmhot",
        "afmhot_r",
        "autumn",
        "autumn_r",
        "binary",
        "binary_r",
        "bone",
        "bone_r",
        "brg",
        "brg_r",
        "bwr",
        "bwr_r",
        "cool",
        "cool_r",
        "coolwarm",
        "coolwarm_r",
        "copper",
        "copper_r",
        "cubehelix",
        "cubehelix_r",
        "flag",
        "flag_r",
        "gist_earth",
        "gist_earth_r",
        "gist_gray",
        "gist_gray_r",
        "gist_heat",
        "gist_heat_r",
        "gist_ncar",
        "gist_ncar_r",
        "gist_rainbow",
        "gist_rainbow_r",
        "gist_stern",
        "gist_stern_r",
        "gist_yarg",
        "gist_yarg_r",
        "gnuplot",
        "gnuplot2",
        "gnuplot2_r",
        "gnuplot_r",
        "gray",
        "gray_r",
        "hot",
        "hot_r",
        "hsv",
        "hsv_r",
        "inferno",
        "inferno_r",
        "jet",
        "jet_r",
        "magma",
        "magma_r",
        "nipy_spectral",
        "nipy_spectral_r",
        "ocean",
        "ocean_r",
        "pink",
        "pink_r",
        "plasma",
        "plasma_r",
        "prism",
        "prism_r",
        "rainbow",
        "rainbow_r",
        "seismic",
        "seismic_r",
        "spectral",
        "spectral_r",
        "spring",
        "spring_r",
        "summer",
        "summer_r",
        "tab10",
        "tab10_r",
        "tab20",
        "tab20_r",
        "tab20b",
        "tab20b_r",
        "tab20c",
        "tab20c_r",
        "terrain",
        "terrain_r",
        "viridis",
        "viridis_r",
        "winter",
        "winter_r"
       ],
       "description": "Colormap:",
       "index": 0,
       "layout": "IPY_MODEL_3f6bd880fd0f4f1da6872e0af28cfeaa",
       "rows": 1,
       "style": "IPY_MODEL_5c7d793bbc5d41c092e19739867a0ce2"
      }
     },
     "3c37e5888cda49e0815a59f1cc452980": {
      "model_module": "@jupyter-widgets/controls",
      "model_module_version": "1.0.0",
      "model_name": "DescriptionStyleModel",
      "state": {
       "description_width": ""
      }
     },
     "3d8ae65e240d4e0eadd9a70d9dcde20b": {
      "model_module": "@jupyter-widgets/base",
      "model_module_version": "1.0.0",
      "model_name": "LayoutModel",
      "state": {
       "height": "40px"
      }
     },
     "3d912876bacf4c958d5e4779d1dc2e34": {
      "model_module": "@jupyter-widgets/controls",
      "model_module_version": "1.0.0",
      "model_name": "IntTextModel",
      "state": {
       "description": "Feature to show:",
       "layout": "IPY_MODEL_1e5321787e9f4171837e0d2b013ee61a",
       "step": 1,
       "style": "IPY_MODEL_53ff2fccbf6d42d8a886dccbe179ac06"
      }
     },
     "3dc7c178d05f4bb8a5f2c782362bfa89": {
      "model_module": "@jupyter-widgets/base",
      "model_module_version": "1.0.0",
      "model_name": "LayoutModel",
      "state": {}
     },
     "3dc9817a683242a4b82f7f4622c29d8e": {
      "model_module": "@jupyter-widgets/controls",
      "model_module_version": "1.0.0",
      "model_name": "HTMLModel",
      "state": {
       "layout": "IPY_MODEL_6664f6eeb6e34901b7ac4f5e4eec7a90",
       "style": "IPY_MODEL_b7dcb79cb87f449c80c0b2690884860a",
       "value": "<p><hr/><h3>Conv2D-1 bank:</h3></p>"
      }
     },
     "3de2dc12f17e46718387740794cfd8d2": {
      "model_module": "@jupyter-widgets/controls",
      "model_module_version": "1.0.0",
      "model_name": "IntTextModel",
      "state": {
       "description": "Leftmost color maps to:",
       "layout": "IPY_MODEL_6bef3f76be084b1ab091b3b5adb278c1",
       "step": 1,
       "style": "IPY_MODEL_d4e588c7d9564c7192242968f6797681",
       "value": -1
      }
     },
     "3e17f603dc3649bd86f41f6c1edef068": {
      "model_module": "@jupyter-widgets/controls",
      "model_module_version": "1.0.0",
      "model_name": "DescriptionStyleModel",
      "state": {
       "description_width": ""
      }
     },
     "3e2205564fb54c7a8bd4374476d9569b": {
      "model_module": "@jupyter-widgets/controls",
      "model_module_version": "1.0.0",
      "model_name": "CheckboxModel",
      "state": {
       "description": "Visible",
       "disabled": false,
       "layout": "IPY_MODEL_af966ba6c22449cc8a140effb55ca6ed",
       "style": "IPY_MODEL_b06be5689c294a3fab410976da0f0602",
       "value": true
      }
     },
     "3e90a52e664143978fa71758b87af2ed": {
      "model_module": "@jupyter-widgets/base",
      "model_module_version": "1.0.0",
      "model_name": "LayoutModel",
      "state": {
       "width": "100px"
      }
     },
     "3ea2e0d8902740e68fee7fecc182b437": {
      "model_module": "@jupyter-widgets/controls",
      "model_module_version": "1.0.0",
      "model_name": "DescriptionStyleModel",
      "state": {
       "description_width": "initial"
      }
     },
     "3eac59536c6a463a897d1f6ee6827b47": {
      "model_module": "@jupyter-widgets/base",
      "model_module_version": "1.0.0",
      "model_name": "LayoutModel",
      "state": {}
     },
     "3ef2d5e5c19240369b0cd9b03687663f": {
      "model_module": "@jupyter-widgets/controls",
      "model_module_version": "1.0.0",
      "model_name": "DescriptionStyleModel",
      "state": {
       "description_width": ""
      }
     },
     "3f013198bd96484c884fc798e8bb4ab0": {
      "model_module": "@jupyter-widgets/controls",
      "model_module_version": "1.0.0",
      "model_name": "TabModel",
      "state": {
       "_titles": {
        "0": "Network",
        "1": "Configuration",
        "2": "Help"
       },
       "children": [
        "IPY_MODEL_ce858fbd0c284897b34749b62612448d",
        "IPY_MODEL_d1d9a242183d40749b1f917d8e82ff25",
        "IPY_MODEL_5fdd0be521164af580ed627b11e5cc3d"
       ],
       "layout": "IPY_MODEL_be930fd45d9b481e952fe1ca89062ae5"
      }
     },
     "3f6bd880fd0f4f1da6872e0af28cfeaa": {
      "model_module": "@jupyter-widgets/base",
      "model_module_version": "1.0.0",
      "model_name": "LayoutModel",
      "state": {}
     },
     "3f729940ae1a4ecab9fe6f566160d4f4": {
      "model_module": "@jupyter-widgets/base",
      "model_module_version": "1.0.0",
      "model_name": "LayoutModel",
      "state": {}
     },
     "3f9a008da7e24c018ce76fa0bf3062a3": {
      "model_module": "@jupyter-widgets/controls",
      "model_module_version": "1.0.0",
      "model_name": "DescriptionStyleModel",
      "state": {
       "description_width": "initial"
      }
     },
     "3fd9e18e98444563bf64807686f94f48": {
      "model_module": "@jupyter-widgets/base",
      "model_module_version": "1.0.0",
      "model_name": "LayoutModel",
      "state": {
       "justify_content": "center",
       "overflow_x": "auto",
       "overflow_y": "auto",
       "width": "95%"
      }
     },
     "3fea854e2ba74f639cffc0c4f5588c57": {
      "model_module": "@jupyter-widgets/base",
      "model_module_version": "1.0.0",
      "model_name": "LayoutModel",
      "state": {}
     },
     "40003657182d431096431165b162f85b": {
      "model_module": "@jupyter-widgets/controls",
      "model_module_version": "1.0.0",
      "model_name": "CheckboxModel",
      "state": {
       "description": "Visible",
       "disabled": false,
       "layout": "IPY_MODEL_6664f6eeb6e34901b7ac4f5e4eec7a90",
       "style": "IPY_MODEL_b3f87c66a7074ba687a5d6a131a5b6f4",
       "value": true
      }
     },
     "405840e750a94a949f15828d9471d237": {
      "model_module": "@jupyter-widgets/controls",
      "model_module_version": "1.0.0",
      "model_name": "HTMLModel",
      "state": {
       "layout": "IPY_MODEL_5a83029a96f44ac297cdd24e5242d910",
       "style": "IPY_MODEL_45b4d3d248bd4920a0093ee32042e006",
       "value": "<p><hr/><h3>Conv2D-2 bank:</h3></p>"
      }
     },
     "406551e210e24bd1854125a9f63cdd96": {
      "model_module": "@jupyter-widgets/controls",
      "model_module_version": "1.0.0",
      "model_name": "DescriptionStyleModel",
      "state": {
       "description_width": ""
      }
     },
     "40b8d024b3674978af66c303864f6e20": {
      "model_module": "@jupyter-widgets/controls",
      "model_module_version": "1.0.0",
      "model_name": "DescriptionStyleModel",
      "state": {
       "description_width": "initial"
      }
     },
     "414d127725834f8da8c732cd666dea5b": {
      "model_module": "@jupyter-widgets/controls",
      "model_module_version": "1.0.0",
      "model_name": "DescriptionStyleModel",
      "state": {
       "description_width": "initial"
      }
     },
     "419e66a0481d4d228ebdeca4defb5631": {
      "model_module": "@jupyter-widgets/controls",
      "model_module_version": "1.0.0",
      "model_name": "HBoxModel",
      "state": {
       "children": [
        "IPY_MODEL_62dbcfdfa05f4633abca539bb2bdbd65",
        "IPY_MODEL_8c1003ef5628400e9b8cc61bd322e9de",
        "IPY_MODEL_513e06aa813c4c17a569fb81f0f9d0d3"
       ],
       "layout": "IPY_MODEL_49e08ca4c3f7454bbd4e222d06d44b06"
      }
     },
     "422b90c787984bd7ab88455dcbfb1b8e": {
      "model_module": "@jupyter-widgets/controls",
      "model_module_version": "1.0.0",
      "model_name": "HTMLModel",
      "state": {
       "layout": "IPY_MODEL_3dc7c178d05f4bb8a5f2c782362bfa89",
       "style": "IPY_MODEL_9ee2527b4a064482955545451101ff7c",
       "value": "<img src=\"data:image/gif;base64,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\"/>"
      }
     },
     "4236387d4e37474db8087cf7e7e61ef7": {
      "model_module": "@jupyter-widgets/controls",
      "model_module_version": "1.0.0",
      "model_name": "VBoxModel",
      "state": {
       "children": [
        "IPY_MODEL_22d7abb1289748f585fb7e42f6b3fa54",
        "IPY_MODEL_c597b59bbf1246419d7249ffdfac60cf",
        "IPY_MODEL_2df8779b9cf3442fa2bab56718c5b2ec",
        "IPY_MODEL_899954bfe9c244948f178a8753fce855",
        "IPY_MODEL_2c0fa6e081b947d0a9e44586f400a999"
       ],
       "layout": "IPY_MODEL_d320428a1b574583b80075ae42d36a70"
      }
     },
     "42b7e22deec94bc68413cd1d4c6a540b": {
      "model_module": "@jupyter-widgets/controls",
      "model_module_version": "1.0.0",
      "model_name": "HTMLModel",
      "state": {
       "layout": "IPY_MODEL_bd88d525207e4e68861be11f5c6384ce",
       "style": "IPY_MODEL_a788d72780bd4f9abc3a3092fb05495c",
       "value": "<img src=\"data:image/gif;base64,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\"/>"
      }
     },
     "42d5e6c30c59432db10247d2e3bf8031": {
      "model_module": "@jupyter-widgets/controls",
      "model_module_version": "1.0.0",
      "model_name": "DescriptionStyleModel",
      "state": {
       "description_width": "initial"
      }
     },
     "430d32b41b244f8bbb8d8d7060e8c84d": {
      "model_module": "@jupyter-widgets/controls",
      "model_module_version": "1.0.0",
      "model_name": "IntTextModel",
      "state": {
       "description": "Rightmost color maps to:",
       "layout": "IPY_MODEL_c50f1310a9f14c729bf618379d471305",
       "step": 1,
       "style": "IPY_MODEL_80f270a31ea44f88a6e9f80c1189f8ed",
       "value": 1
      }
     },
     "4387cc9a40f3429a8a3a9312674c334c": {
      "model_module": "@jupyter-widgets/base",
      "model_module_version": "1.0.0",
      "model_name": "LayoutModel",
      "state": {}
     },
     "43b5a38b24e044eea607e3f8fe86da0c": {
      "model_module": "@jupyter-widgets/controls",
      "model_module_version": "1.0.0",
      "model_name": "ButtonStyleModel",
      "state": {}
     },
     "43f7447a48174e7c942b3aca4b8f237c": {
      "model_module": "@jupyter-widgets/base",
      "model_module_version": "1.0.0",
      "model_name": "LayoutModel",
      "state": {}
     },
     "440c04acb2c94f638256b51903a2114d": {
      "model_module": "@jupyter-widgets/controls",
      "model_module_version": "1.0.0",
      "model_name": "ButtonStyleModel",
      "state": {}
     },
     "4478f7091ace4edf801ee3754de7a305": {
      "model_module": "@jupyter-widgets/controls",
      "model_module_version": "1.0.0",
      "model_name": "DescriptionStyleModel",
      "state": {
       "description_width": ""
      }
     },
     "44b62df88f3242d9a9099e61bddeb981": {
      "model_module": "@jupyter-widgets/base",
      "model_module_version": "1.0.0",
      "model_name": "LayoutModel",
      "state": {
       "width": "100%"
      }
     },
     "457925a53fe34e0fb152efb0b05f2ea9": {
      "model_module": "@jupyter-widgets/controls",
      "model_module_version": "1.0.0",
      "model_name": "DescriptionStyleModel",
      "state": {
       "description_width": ""
      }
     },
     "45a8d45f4f094b32aae56a39ac6a332a": {
      "model_module": "@jupyter-widgets/base",
      "model_module_version": "1.0.0",
      "model_name": "LayoutModel",
      "state": {}
     },
     "45af6413ca484ef69d0c5d9fc44eaf67": {
      "model_module": "@jupyter-widgets/base",
      "model_module_version": "1.0.0",
      "model_name": "LayoutModel",
      "state": {}
     },
     "45b3da3559b34f849c3c69aea34f9130": {
      "model_module": "@jupyter-widgets/base",
      "model_module_version": "1.0.0",
      "model_name": "LayoutModel",
      "state": {}
     },
     "45b4d3d248bd4920a0093ee32042e006": {
      "model_module": "@jupyter-widgets/controls",
      "model_module_version": "1.0.0",
      "model_name": "DescriptionStyleModel",
      "state": {
       "description_width": ""
      }
     },
     "45cdb61f6014402291906a5a4d797da4": {
      "model_module": "@jupyter-widgets/controls",
      "model_module_version": "1.0.0",
      "model_name": "ButtonStyleModel",
      "state": {}
     },
     "45dd0288147e48cc9d3061548658c59a": {
      "model_module": "@jupyter-widgets/base",
      "model_module_version": "1.0.0",
      "model_name": "LayoutModel",
      "state": {}
     },
     "460e1e22b6784d0ca9957f8d50bb9b8a": {
      "model_module": "@jupyter-widgets/base",
      "model_module_version": "1.0.0",
      "model_name": "LayoutModel",
      "state": {}
     },
     "4620ab28f98d49e6b9e2874e93dcefd4": {
      "model_module": "@jupyter-widgets/controls",
      "model_module_version": "1.0.0",
      "model_name": "SelectModel",
      "state": {
       "_options_labels": [
        "",
        "Accent",
        "Accent_r",
        "Blues",
        "Blues_r",
        "BrBG",
        "BrBG_r",
        "BuGn",
        "BuGn_r",
        "BuPu",
        "BuPu_r",
        "CMRmap",
        "CMRmap_r",
        "Dark2",
        "Dark2_r",
        "GnBu",
        "GnBu_r",
        "Greens",
        "Greens_r",
        "Greys",
        "Greys_r",
        "OrRd",
        "OrRd_r",
        "Oranges",
        "Oranges_r",
        "PRGn",
        "PRGn_r",
        "Paired",
        "Paired_r",
        "Pastel1",
        "Pastel1_r",
        "Pastel2",
        "Pastel2_r",
        "PiYG",
        "PiYG_r",
        "PuBu",
        "PuBuGn",
        "PuBuGn_r",
        "PuBu_r",
        "PuOr",
        "PuOr_r",
        "PuRd",
        "PuRd_r",
        "Purples",
        "Purples_r",
        "RdBu",
        "RdBu_r",
        "RdGy",
        "RdGy_r",
        "RdPu",
        "RdPu_r",
        "RdYlBu",
        "RdYlBu_r",
        "RdYlGn",
        "RdYlGn_r",
        "Reds",
        "Reds_r",
        "Set1",
        "Set1_r",
        "Set2",
        "Set2_r",
        "Set3",
        "Set3_r",
        "Spectral",
        "Spectral_r",
        "Vega10",
        "Vega10_r",
        "Vega20",
        "Vega20_r",
        "Vega20b",
        "Vega20b_r",
        "Vega20c",
        "Vega20c_r",
        "Wistia",
        "Wistia_r",
        "YlGn",
        "YlGnBu",
        "YlGnBu_r",
        "YlGn_r",
        "YlOrBr",
        "YlOrBr_r",
        "YlOrRd",
        "YlOrRd_r",
        "afmhot",
        "afmhot_r",
        "autumn",
        "autumn_r",
        "binary",
        "binary_r",
        "bone",
        "bone_r",
        "brg",
        "brg_r",
        "bwr",
        "bwr_r",
        "cool",
        "cool_r",
        "coolwarm",
        "coolwarm_r",
        "copper",
        "copper_r",
        "cubehelix",
        "cubehelix_r",
        "flag",
        "flag_r",
        "gist_earth",
        "gist_earth_r",
        "gist_gray",
        "gist_gray_r",
        "gist_heat",
        "gist_heat_r",
        "gist_ncar",
        "gist_ncar_r",
        "gist_rainbow",
        "gist_rainbow_r",
        "gist_stern",
        "gist_stern_r",
        "gist_yarg",
        "gist_yarg_r",
        "gnuplot",
        "gnuplot2",
        "gnuplot2_r",
        "gnuplot_r",
        "gray",
        "gray_r",
        "hot",
        "hot_r",
        "hsv",
        "hsv_r",
        "inferno",
        "inferno_r",
        "jet",
        "jet_r",
        "magma",
        "magma_r",
        "nipy_spectral",
        "nipy_spectral_r",
        "ocean",
        "ocean_r",
        "pink",
        "pink_r",
        "plasma",
        "plasma_r",
        "prism",
        "prism_r",
        "rainbow",
        "rainbow_r",
        "seismic",
        "seismic_r",
        "spectral",
        "spectral_r",
        "spring",
        "spring_r",
        "summer",
        "summer_r",
        "tab10",
        "tab10_r",
        "tab20",
        "tab20_r",
        "tab20b",
        "tab20b_r",
        "tab20c",
        "tab20c_r",
        "terrain",
        "terrain_r",
        "viridis",
        "viridis_r",
        "winter",
        "winter_r"
       ],
       "description": "Colormap:",
       "index": 0,
       "layout": "IPY_MODEL_5a83029a96f44ac297cdd24e5242d910",
       "rows": 1,
       "style": "IPY_MODEL_875e3800b9c840a989c994a70dc4ebfa"
      }
     },
     "4662c32619ec4ba0a6a8c18f65899cbd": {
      "model_module": "@jupyter-widgets/base",
      "model_module_version": "1.0.0",
      "model_name": "LayoutModel",
      "state": {}
     },
     "467fc5f5a46149a2b8d7c09cbdf68ca4": {
      "model_module": "@jupyter-widgets/controls",
      "model_module_version": "1.0.0",
      "model_name": "DescriptionStyleModel",
      "state": {
       "description_width": ""
      }
     },
     "469c8b33ab66492dbe81d12d558cdc7f": {
      "model_module": "@jupyter-widgets/controls",
      "model_module_version": "1.0.0",
      "model_name": "SelectModel",
      "state": {
       "_options_labels": [
        "",
        "Accent",
        "Accent_r",
        "Blues",
        "Blues_r",
        "BrBG",
        "BrBG_r",
        "BuGn",
        "BuGn_r",
        "BuPu",
        "BuPu_r",
        "CMRmap",
        "CMRmap_r",
        "Dark2",
        "Dark2_r",
        "GnBu",
        "GnBu_r",
        "Greens",
        "Greens_r",
        "Greys",
        "Greys_r",
        "OrRd",
        "OrRd_r",
        "Oranges",
        "Oranges_r",
        "PRGn",
        "PRGn_r",
        "Paired",
        "Paired_r",
        "Pastel1",
        "Pastel1_r",
        "Pastel2",
        "Pastel2_r",
        "PiYG",
        "PiYG_r",
        "PuBu",
        "PuBuGn",
        "PuBuGn_r",
        "PuBu_r",
        "PuOr",
        "PuOr_r",
        "PuRd",
        "PuRd_r",
        "Purples",
        "Purples_r",
        "RdBu",
        "RdBu_r",
        "RdGy",
        "RdGy_r",
        "RdPu",
        "RdPu_r",
        "RdYlBu",
        "RdYlBu_r",
        "RdYlGn",
        "RdYlGn_r",
        "Reds",
        "Reds_r",
        "Set1",
        "Set1_r",
        "Set2",
        "Set2_r",
        "Set3",
        "Set3_r",
        "Spectral",
        "Spectral_r",
        "Vega10",
        "Vega10_r",
        "Vega20",
        "Vega20_r",
        "Vega20b",
        "Vega20b_r",
        "Vega20c",
        "Vega20c_r",
        "Wistia",
        "Wistia_r",
        "YlGn",
        "YlGnBu",
        "YlGnBu_r",
        "YlGn_r",
        "YlOrBr",
        "YlOrBr_r",
        "YlOrRd",
        "YlOrRd_r",
        "afmhot",
        "afmhot_r",
        "autumn",
        "autumn_r",
        "binary",
        "binary_r",
        "bone",
        "bone_r",
        "brg",
        "brg_r",
        "bwr",
        "bwr_r",
        "cool",
        "cool_r",
        "coolwarm",
        "coolwarm_r",
        "copper",
        "copper_r",
        "cubehelix",
        "cubehelix_r",
        "flag",
        "flag_r",
        "gist_earth",
        "gist_earth_r",
        "gist_gray",
        "gist_gray_r",
        "gist_heat",
        "gist_heat_r",
        "gist_ncar",
        "gist_ncar_r",
        "gist_rainbow",
        "gist_rainbow_r",
        "gist_stern",
        "gist_stern_r",
        "gist_yarg",
        "gist_yarg_r",
        "gnuplot",
        "gnuplot2",
        "gnuplot2_r",
        "gnuplot_r",
        "gray",
        "gray_r",
        "hot",
        "hot_r",
        "hsv",
        "hsv_r",
        "inferno",
        "inferno_r",
        "jet",
        "jet_r",
        "magma",
        "magma_r",
        "nipy_spectral",
        "nipy_spectral_r",
        "ocean",
        "ocean_r",
        "pink",
        "pink_r",
        "plasma",
        "plasma_r",
        "prism",
        "prism_r",
        "rainbow",
        "rainbow_r",
        "seismic",
        "seismic_r",
        "spectral",
        "spectral_r",
        "spring",
        "spring_r",
        "summer",
        "summer_r",
        "tab10",
        "tab10_r",
        "tab20",
        "tab20_r",
        "tab20b",
        "tab20b_r",
        "tab20c",
        "tab20c_r",
        "terrain",
        "terrain_r",
        "viridis",
        "viridis_r",
        "winter",
        "winter_r"
       ],
       "description": "Colormap:",
       "index": 0,
       "layout": "IPY_MODEL_af966ba6c22449cc8a140effb55ca6ed",
       "rows": 1,
       "style": "IPY_MODEL_6cd961446dc74407b58e0cbe7e259d9b"
      }
     },
     "46c9d75d7b824c99b8d9d4b0c5ffc357": {
      "model_module": "@jupyter-widgets/controls",
      "model_module_version": "1.0.0",
      "model_name": "DescriptionStyleModel",
      "state": {
       "description_width": "initial"
      }
     },
     "46cbd5b6645e4ddd9a5d8eb1912e032f": {
      "model_module": "@jupyter-widgets/controls",
      "model_module_version": "1.0.0",
      "model_name": "CheckboxModel",
      "state": {
       "description": "Visible",
       "disabled": false,
       "layout": "IPY_MODEL_af966ba6c22449cc8a140effb55ca6ed",
       "style": "IPY_MODEL_5566ceb9ebc4458f989051d1c4370a15",
       "value": true
      }
     },
     "46e4801cd3b446b480663c524ea87cbd": {
      "model_module": "@jupyter-widgets/base",
      "model_module_version": "1.0.0",
      "model_name": "LayoutModel",
      "state": {}
     },
     "48186d367a914aee879f5c1eec8c3f26": {
      "model_module": "@jupyter-widgets/controls",
      "model_module_version": "1.0.0",
      "model_name": "HTMLModel",
      "state": {
       "layout": "IPY_MODEL_5a83029a96f44ac297cdd24e5242d910",
       "style": "IPY_MODEL_61f71dd8db4843fea52520b4bf5ad687",
       "value": "<p><hr/><h3>input bank:</h3></p>"
      }
     },
     "483496fdb01943eaba881b73bcf5958c": {
      "model_module": "@jupyter-widgets/controls",
      "model_module_version": "1.0.0",
      "model_name": "HBoxModel",
      "state": {
       "children": [
        "IPY_MODEL_9d7b6624480a4c80b529935c2c412306",
        "IPY_MODEL_430d32b41b244f8bbb8d8d7060e8c84d"
       ],
       "layout": "IPY_MODEL_c0076e81b2114fb2b3defd9796bdaa66"
      }
     },
     "4999498aa9c54a20a0f6ad9618b4e7a8": {
      "model_module": "@jupyter-widgets/controls",
      "model_module_version": "1.0.0",
      "model_name": "DescriptionStyleModel",
      "state": {
       "description_width": ""
      }
     },
     "49e08ca4c3f7454bbd4e222d06d44b06": {
      "model_module": "@jupyter-widgets/base",
      "model_module_version": "1.0.0",
      "model_name": "LayoutModel",
      "state": {
       "height": "40px"
      }
     },
     "4a55c57420af46a8bf08ed6ab66b4f1a": {
      "model_module": "@jupyter-widgets/base",
      "model_module_version": "1.0.0",
      "model_name": "LayoutModel",
      "state": {}
     },
     "4a9b244507714b38a2809f18454c5497": {
      "model_module": "@jupyter-widgets/controls",
      "model_module_version": "1.0.0",
      "model_name": "VBoxModel",
      "state": {
       "children": [
        "IPY_MODEL_1915fd7a13d049c59b28cb17bde1a8ae",
        "IPY_MODEL_ec805c04bcba4ecdb625da84f52e6044",
        "IPY_MODEL_fedee85b07c94dc9b1f7a8abb71932f9",
        "IPY_MODEL_a4277125f002437185c7c78be06caa58"
       ],
       "layout": "IPY_MODEL_b83ebc0bcc4643d78408d23ffcf6da2c"
      }
     },
     "4ae870b326f5478aa9f45f0dbb5f9351": {
      "model_module": "@jupyter-widgets/controls",
      "model_module_version": "1.0.0",
      "model_name": "DescriptionStyleModel",
      "state": {
       "description_width": ""
      }
     },
     "4b5b27f084634c0384256f268105e6e6": {
      "model_module": "@jupyter-widgets/controls",
      "model_module_version": "1.0.0",
      "model_name": "DescriptionStyleModel",
      "state": {
       "description_width": ""
      }
     },
     "4b91db9ccf074239920f41ba1722d281": {
      "model_module": "@jupyter-widgets/base",
      "model_module_version": "1.0.0",
      "model_name": "LayoutModel",
      "state": {}
     },
     "4b91fa6d40894d4da46c037a4dc2ffc1": {
      "model_module": "@jupyter-widgets/controls",
      "model_module_version": "1.0.0",
      "model_name": "IntTextModel",
      "state": {
       "description": "Leftmost color maps to:",
       "layout": "IPY_MODEL_8fc6e262043e4db782e09446d736fb9c",
       "step": 1,
       "style": "IPY_MODEL_703143860a7b425db9c9cb012c55dc54"
      }
     },
     "4c17685149ee49f98d9e76292da4a578": {
      "model_module": "@jupyter-widgets/base",
      "model_module_version": "1.0.0",
      "model_name": "LayoutModel",
      "state": {}
     },
     "4c3edbd0242240dbbc7b42927c2a6549": {
      "model_module": "@jupyter-widgets/controls",
      "model_module_version": "1.0.0",
      "model_name": "IntTextModel",
      "state": {
       "description": "Rightmost color maps to:",
       "layout": "IPY_MODEL_dde40caaf6a942dfaf4407a2bd6ccd9e",
       "step": 1,
       "style": "IPY_MODEL_e4675006d04a4ab599c335f525646712",
       "value": 1
      }
     },
     "4c553c15470848c1b809d71f6a3eac64": {
      "model_module": "@jupyter-widgets/controls",
      "model_module_version": "1.0.0",
      "model_name": "FloatSliderModel",
      "state": {
       "continuous_update": false,
       "description": "Zoom",
       "layout": "IPY_MODEL_109c647ecfe64fe2ae341a180c5044b2",
       "max": 3,
       "min": 0.5,
       "step": 0.1,
       "style": "IPY_MODEL_13975c78825a4867bd44c68b42d1dc04",
       "value": 1
      }
     },
     "4c77b3757ca5497481ee6a22e8144a32": {
      "model_module": "@jupyter-widgets/controls",
      "model_module_version": "1.0.0",
      "model_name": "IntTextModel",
      "state": {
       "description": "Feature to show:",
       "layout": "IPY_MODEL_f1b25334f292447a9c98401ecb6c3350",
       "step": 1,
       "style": "IPY_MODEL_196a3024e5254df2985bd2cd167ea2df"
      }
     },
     "4c8f8d8ffb5940e8887cf1969b50b225": {
      "model_module": "@jupyter-widgets/controls",
      "model_module_version": "1.0.0",
      "model_name": "SelectModel",
      "state": {
       "_options_labels": [
        "",
        "Accent",
        "Accent_r",
        "Blues",
        "Blues_r",
        "BrBG",
        "BrBG_r",
        "BuGn",
        "BuGn_r",
        "BuPu",
        "BuPu_r",
        "CMRmap",
        "CMRmap_r",
        "Dark2",
        "Dark2_r",
        "GnBu",
        "GnBu_r",
        "Greens",
        "Greens_r",
        "Greys",
        "Greys_r",
        "OrRd",
        "OrRd_r",
        "Oranges",
        "Oranges_r",
        "PRGn",
        "PRGn_r",
        "Paired",
        "Paired_r",
        "Pastel1",
        "Pastel1_r",
        "Pastel2",
        "Pastel2_r",
        "PiYG",
        "PiYG_r",
        "PuBu",
        "PuBuGn",
        "PuBuGn_r",
        "PuBu_r",
        "PuOr",
        "PuOr_r",
        "PuRd",
        "PuRd_r",
        "Purples",
        "Purples_r",
        "RdBu",
        "RdBu_r",
        "RdGy",
        "RdGy_r",
        "RdPu",
        "RdPu_r",
        "RdYlBu",
        "RdYlBu_r",
        "RdYlGn",
        "RdYlGn_r",
        "Reds",
        "Reds_r",
        "Set1",
        "Set1_r",
        "Set2",
        "Set2_r",
        "Set3",
        "Set3_r",
        "Spectral",
        "Spectral_r",
        "Vega10",
        "Vega10_r",
        "Vega20",
        "Vega20_r",
        "Vega20b",
        "Vega20b_r",
        "Vega20c",
        "Vega20c_r",
        "Wistia",
        "Wistia_r",
        "YlGn",
        "YlGnBu",
        "YlGnBu_r",
        "YlGn_r",
        "YlOrBr",
        "YlOrBr_r",
        "YlOrRd",
        "YlOrRd_r",
        "afmhot",
        "afmhot_r",
        "autumn",
        "autumn_r",
        "binary",
        "binary_r",
        "bone",
        "bone_r",
        "brg",
        "brg_r",
        "bwr",
        "bwr_r",
        "cool",
        "cool_r",
        "coolwarm",
        "coolwarm_r",
        "copper",
        "copper_r",
        "cubehelix",
        "cubehelix_r",
        "flag",
        "flag_r",
        "gist_earth",
        "gist_earth_r",
        "gist_gray",
        "gist_gray_r",
        "gist_heat",
        "gist_heat_r",
        "gist_ncar",
        "gist_ncar_r",
        "gist_rainbow",
        "gist_rainbow_r",
        "gist_stern",
        "gist_stern_r",
        "gist_yarg",
        "gist_yarg_r",
        "gnuplot",
        "gnuplot2",
        "gnuplot2_r",
        "gnuplot_r",
        "gray",
        "gray_r",
        "hot",
        "hot_r",
        "hsv",
        "hsv_r",
        "inferno",
        "inferno_r",
        "jet",
        "jet_r",
        "magma",
        "magma_r",
        "nipy_spectral",
        "nipy_spectral_r",
        "ocean",
        "ocean_r",
        "pink",
        "pink_r",
        "plasma",
        "plasma_r",
        "prism",
        "prism_r",
        "rainbow",
        "rainbow_r",
        "seismic",
        "seismic_r",
        "spectral",
        "spectral_r",
        "spring",
        "spring_r",
        "summer",
        "summer_r",
        "tab10",
        "tab10_r",
        "tab20",
        "tab20_r",
        "tab20b",
        "tab20b_r",
        "tab20c",
        "tab20c_r",
        "terrain",
        "terrain_r",
        "viridis",
        "viridis_r",
        "winter",
        "winter_r"
       ],
       "description": "Colormap:",
       "index": 0,
       "layout": "IPY_MODEL_6664f6eeb6e34901b7ac4f5e4eec7a90",
       "rows": 1,
       "style": "IPY_MODEL_4999498aa9c54a20a0f6ad9618b4e7a8"
      }
     },
     "4ca42eb55b804f80bb4ceca443053aaa": {
      "model_module": "@jupyter-widgets/controls",
      "model_module_version": "1.0.0",
      "model_name": "DescriptionStyleModel",
      "state": {
       "description_width": "initial"
      }
     },
     "4cefa04674d14ebcb755fee480d6ca06": {
      "model_module": "@jupyter-widgets/base",
      "model_module_version": "1.0.0",
      "model_name": "LayoutModel",
      "state": {
       "width": "100%"
      }
     },
     "4d7d6cf1e453457bb500e56dee66381c": {
      "model_module": "@jupyter-widgets/controls",
      "model_module_version": "1.0.0",
      "model_name": "VBoxModel",
      "state": {
       "children": [
        "IPY_MODEL_a4953003afda4ab488f072b8c5f0c24a",
        "IPY_MODEL_254ca8f075b04c399a5f9eac61a0686f"
       ],
       "layout": "IPY_MODEL_9200d577b9c84c7887e84ed54718318e"
      }
     },
     "4e12172e63204660b032e7cdd5a5d7ff": {
      "model_module": "@jupyter-widgets/controls",
      "model_module_version": "1.0.0",
      "model_name": "DescriptionStyleModel",
      "state": {
       "description_width": ""
      }
     },
     "4e4a48ff9e9246aa903f5e27ff1888ac": {
      "model_module": "@jupyter-widgets/base",
      "model_module_version": "1.0.0",
      "model_name": "LayoutModel",
      "state": {}
     },
     "4e6326ca77fc4004b496905ee2566b49": {
      "model_module": "@jupyter-widgets/controls",
      "model_module_version": "1.0.0",
      "model_name": "HBoxModel",
      "state": {
       "children": [
        "IPY_MODEL_b462f64b6f454ba3aafcb11518b661ad",
        "IPY_MODEL_2273caef1302499b855a6eb967700b0a"
       ],
       "layout": "IPY_MODEL_166594c9c24a4518b8481965cc3ba1e7"
      }
     },
     "4e966579b3f14275bd8dd6aadd65a825": {
      "model_module": "@jupyter-widgets/base",
      "model_module_version": "1.0.0",
      "model_name": "LayoutModel",
      "state": {}
     },
     "4ea7e60197db4758b3880cd39b55ef9e": {
      "model_module": "@jupyter-widgets/controls",
      "model_module_version": "1.0.0",
      "model_name": "HTMLModel",
      "state": {
       "layout": "IPY_MODEL_86c0d70d35054d76afa0abcf5956ab7a",
       "style": "IPY_MODEL_7150412492c547cd835ee9336c1a83df",
       "value": "<img src=\"data:image/gif;base64,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\"/>"
      }
     },
     "4eaf8795f25246d3999746ce2d87f7d5": {
      "model_module": "@jupyter-widgets/base",
      "model_module_version": "1.0.0",
      "model_name": "LayoutModel",
      "state": {}
     },
     "4eb3cfbc50ec40168b9d87946e7d9527": {
      "model_module": "@jupyter-widgets/controls",
      "model_module_version": "1.0.0",
      "model_name": "DescriptionStyleModel",
      "state": {
       "description_width": ""
      }
     },
     "4ebfe5b9bfea489ba8d18d0fe572a9e3": {
      "model_module": "@jupyter-widgets/controls",
      "model_module_version": "1.0.0",
      "model_name": "DescriptionStyleModel",
      "state": {
       "description_width": "initial"
      }
     },
     "4ed606831ca04d34930a28b722ed9f18": {
      "model_module": "@jupyter-widgets/controls",
      "model_module_version": "1.0.0",
      "model_name": "ButtonModel",
      "state": {
       "description": "Play",
       "icon": "play",
       "layout": "IPY_MODEL_88a628b6ce8848cbbd1a65dfd678086b",
       "style": "IPY_MODEL_20654f83197b4170bb168913a69cb20c"
      }
     },
     "4ed780f35b9d45bdb46579e6e8ff18a9": {
      "model_module": "@jupyter-widgets/controls",
      "model_module_version": "1.0.0",
      "model_name": "IntTextModel",
      "state": {
       "description": "Feature to show:",
       "layout": "IPY_MODEL_253582c0ccbd449d935440a357a2ccf3",
       "step": 1,
       "style": "IPY_MODEL_3f9a008da7e24c018ce76fa0bf3062a3"
      }
     },
     "4ef9eab6ccb445c999422ed594d66955": {
      "model_module": "@jupyter-widgets/controls",
      "model_module_version": "1.0.0",
      "model_name": "HTMLModel",
      "state": {
       "layout": "IPY_MODEL_9d7d5c628c8c44a3bb126dbe75254ff9",
       "style": "IPY_MODEL_9700294012ba426aa65c08db2c40d99a",
       "value": "<img src=\"data:image/gif;base64,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\"/>"
      }
     },
     "4f31bfb5df734c279d123ac6bf8c3911": {
      "model_module": "@jupyter-widgets/controls",
      "model_module_version": "1.0.0",
      "model_name": "DescriptionStyleModel",
      "state": {
       "description_width": "initial"
      }
     },
     "4fc1a587fff140b3a21b4d907af71906": {
      "model_module": "@jupyter-widgets/controls",
      "model_module_version": "1.0.0",
      "model_name": "DescriptionStyleModel",
      "state": {
       "description_width": ""
      }
     },
     "50e6a2cf1b094fea8b5bea8ead6eab27": {
      "model_module": "@jupyter-widgets/controls",
      "model_module_version": "1.0.0",
      "model_name": "DescriptionStyleModel",
      "state": {
       "description_width": "initial"
      }
     },
     "50eee347570d4f27a80f8f69e20ee9be": {
      "model_module": "@jupyter-widgets/controls",
      "model_module_version": "1.0.0",
      "model_name": "IntTextModel",
      "state": {
       "description": "Rightmost color maps to:",
       "layout": "IPY_MODEL_0f1588238ab249298da6176806999d04",
       "step": 1,
       "style": "IPY_MODEL_3732507f9ee4465aa3357f4818b52da4",
       "value": 1
      }
     },
     "513e06aa813c4c17a569fb81f0f9d0d3": {
      "model_module": "@jupyter-widgets/controls",
      "model_module_version": "1.0.0",
      "model_name": "ButtonModel",
      "state": {
       "icon": "refresh",
       "layout": "IPY_MODEL_26676bec5fd149ca973fd92de61a87fc",
       "style": "IPY_MODEL_6bdda5d39d5741e2ad88cccf7d5ce465"
      }
     },
     "51c479178d15479eb7f5170736cc5498": {
      "model_module": "@jupyter-widgets/controls",
      "model_module_version": "1.0.0",
      "model_name": "DescriptionStyleModel",
      "state": {
       "description_width": ""
      }
     },
     "51d30c2413fc4dcc8fdb3f92422a8552": {
      "model_module": "@jupyter-widgets/controls",
      "model_module_version": "1.0.0",
      "model_name": "HBoxModel",
      "state": {
       "children": [
        "IPY_MODEL_3bcc3b8f35c9431b970804d1a5b51003",
        "IPY_MODEL_d8fc9c16cc1848fd976f56dedb7bf572"
       ],
       "layout": "IPY_MODEL_58d7de1eeb704869b035f8d179344d07"
      }
     },
     "51e0bae054604cafadafeff07f14d68a": {
      "model_module": "@jupyter-widgets/controls",
      "model_module_version": "1.0.0",
      "model_name": "HBoxModel",
      "state": {
       "children": [
        "IPY_MODEL_b7c7488d0f5d4dfeb719498fbd072945",
        "IPY_MODEL_2dd7e0b89ed847a68ba883416146fd32"
       ],
       "layout": "IPY_MODEL_bfd37c6a62894117841b15e1c3b1d829"
      }
     },
     "520cd64114624d3ba9a6563de5b12b26": {
      "model_module": "@jupyter-widgets/controls",
      "model_module_version": "1.0.0",
      "model_name": "VBoxModel",
      "state": {
       "children": [
        "IPY_MODEL_17de2bbbff894fea963383b3be2f0404",
        "IPY_MODEL_a8521258902646ae937f7b88d57ef709",
        "IPY_MODEL_cde6b94484074e4bb5ee41bd42d39799",
        "IPY_MODEL_ca6cc926e46b47deba5d7700c73bdaae",
        "IPY_MODEL_73a46e870cf84fd6a1f00f7f79bf9ce1"
       ],
       "layout": "IPY_MODEL_f9b619bc55b14fcbb565b45d5208bce5"
      }
     },
     "5247cccb955a42d786cf9e2edb9da809": {
      "model_module": "@jupyter-widgets/base",
      "model_module_version": "1.0.0",
      "model_name": "LayoutModel",
      "state": {}
     },
     "525049870be9496496a574d66edcf919": {
      "model_module": "@jupyter-widgets/base",
      "model_module_version": "1.0.0",
      "model_name": "LayoutModel",
      "state": {
       "height": "50px",
       "width": "100%"
      }
     },
     "52c402fbe02449f096b5ad4ca0c461eb": {
      "model_module": "@jupyter-widgets/base",
      "model_module_version": "1.0.0",
      "model_name": "LayoutModel",
      "state": {
       "width": "95%"
      }
     },
     "52c7322f80b940829e1e68a5ec130209": {
      "model_module": "@jupyter-widgets/controls",
      "model_module_version": "1.0.0",
      "model_name": "DescriptionStyleModel",
      "state": {
       "description_width": ""
      }
     },
     "5325665918864e4db5b22b557cb22b9a": {
      "model_module": "@jupyter-widgets/base",
      "model_module_version": "1.0.0",
      "model_name": "LayoutModel",
      "state": {}
     },
     "53700932a30941679521fda680393c78": {
      "model_module": "@jupyter-widgets/controls",
      "model_module_version": "1.0.0",
      "model_name": "HTMLModel",
      "state": {
       "layout": "IPY_MODEL_af966ba6c22449cc8a140effb55ca6ed",
       "style": "IPY_MODEL_0e01525958d14e7ea6c0940c7ab4ef29",
       "value": "<p><hr/><h3>maxpool1 bank:</h3></p>"
      }
     },
     "53b7b5439be84a52a188ff7d4924c976": {
      "model_module": "@jupyter-widgets/controls",
      "model_module_version": "1.0.0",
      "model_name": "DescriptionStyleModel",
      "state": {
       "description_width": ""
      }
     },
     "53ddd888e0ef473684821606cd43ccc0": {
      "model_module": "@jupyter-widgets/controls",
      "model_module_version": "1.0.0",
      "model_name": "CheckboxModel",
      "state": {
       "description": "Show Targets",
       "disabled": false,
       "layout": "IPY_MODEL_6664f6eeb6e34901b7ac4f5e4eec7a90",
       "style": "IPY_MODEL_4e12172e63204660b032e7cdd5a5d7ff",
       "value": false
      }
     },
     "53ff2fccbf6d42d8a886dccbe179ac06": {
      "model_module": "@jupyter-widgets/controls",
      "model_module_version": "1.0.0",
      "model_name": "DescriptionStyleModel",
      "state": {
       "description_width": "initial"
      }
     },
     "5424703c556d4467bd48262fe3a09b76": {
      "model_module": "@jupyter-widgets/controls",
      "model_module_version": "1.0.0",
      "model_name": "AccordionModel",
      "state": {
       "_titles": {
        "0": "Network configuration",
        "1": "output bank",
        "2": "flatten bank",
        "3": "maxpool2 bank",
        "4": "Conv2D-2 bank",
        "5": "maxpool1 bank",
        "6": "Conv2D-1 bank",
        "7": "input bank"
       },
       "children": [
        "IPY_MODEL_784380d67815426089b36cd1a152d251",
        "IPY_MODEL_a8d2362f5e994b9d8af286a6c13a19f2",
        "IPY_MODEL_76e1c15bb86641799c25f0eeee9c9f92",
        "IPY_MODEL_98d0173337e34643a78455d4077d3e1d",
        "IPY_MODEL_ed207558db264089bd045af99c295bdc",
        "IPY_MODEL_d0de6a481bc34acc8b9ae03081161ccf",
        "IPY_MODEL_4236387d4e37474db8087cf7e7e61ef7",
        "IPY_MODEL_b7ffe19a9ea448fd9d9456ff273f4ed8"
       ],
       "layout": "IPY_MODEL_8e8d467eeb9747b8b0c3ab86e070ef57"
      }
     },
     "548b915314a5449e9315d9a90c7698dc": {
      "model_module": "@jupyter-widgets/controls",
      "model_module_version": "1.0.0",
      "model_name": "HTMLModel",
      "state": {
       "layout": "IPY_MODEL_31550d3b3b0b4af7ba8e9ec88d8c0daa",
       "style": "IPY_MODEL_a1bbbe3694b14628a89df664238ff618",
       "value": "<img src=\"data:image/gif;base64,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\"/>"
      }
     },
     "54a7743ad9ce4b598a76b2351874e79f": {
      "model_module": "@jupyter-widgets/controls",
      "model_module_version": "1.0.0",
      "model_name": "IntTextModel",
      "state": {
       "description": "Leftmost color maps to:",
       "layout": "IPY_MODEL_d285c0d70c81402286f6a47c7bd28dfd",
       "step": 1,
       "style": "IPY_MODEL_2738980d710f4649b4ee02763ccecb40"
      }
     },
     "54ad982bfcde471ba6c6c54c7f0dfa18": {
      "model_module": "@jupyter-widgets/base",
      "model_module_version": "1.0.0",
      "model_name": "LayoutModel",
      "state": {}
     },
     "55070ee6efb5440cb605c80ad813efc1": {
      "model_module": "@jupyter-widgets/base",
      "model_module_version": "1.0.0",
      "model_name": "LayoutModel",
      "state": {}
     },
     "5566ceb9ebc4458f989051d1c4370a15": {
      "model_module": "@jupyter-widgets/controls",
      "model_module_version": "1.0.0",
      "model_name": "DescriptionStyleModel",
      "state": {
       "description_width": ""
      }
     },
     "556d8aedfba24741bd7d3bc042bc6f84": {
      "model_module": "@jupyter-widgets/base",
      "model_module_version": "1.0.0",
      "model_name": "LayoutModel",
      "state": {}
     },
     "565c1f7a86e044ed8701a17f1337a7a5": {
      "model_module": "@jupyter-widgets/controls",
      "model_module_version": "1.0.0",
      "model_name": "CheckboxModel",
      "state": {
       "description": "Visible",
       "disabled": false,
       "layout": "IPY_MODEL_af966ba6c22449cc8a140effb55ca6ed",
       "style": "IPY_MODEL_a2bb5ad67b634a8c84c960b3fb60de48",
       "value": true
      }
     },
     "56d67253fc1b444683bbcf92b0f42683": {
      "model_module": "@jupyter-widgets/controls",
      "model_module_version": "1.0.0",
      "model_name": "ButtonModel",
      "state": {
       "icon": "forward",
       "layout": "IPY_MODEL_e99c6d4bca6d45478682e87c1338be95",
       "style": "IPY_MODEL_440c04acb2c94f638256b51903a2114d"
      }
     },
     "56e87d988e5e436ba1e0a711947901da": {
      "model_module": "@jupyter-widgets/base",
      "model_module_version": "1.0.0",
      "model_name": "LayoutModel",
      "state": {}
     },
     "572983318f6d45a19606d10a5ad365c2": {
      "model_module": "@jupyter-widgets/controls",
      "model_module_version": "1.0.0",
      "model_name": "DescriptionStyleModel",
      "state": {
       "description_width": ""
      }
     },
     "5759845b9b7e4ac6b2ca2c3bafb81ff7": {
      "model_module": "@jupyter-widgets/base",
      "model_module_version": "1.0.0",
      "model_name": "LayoutModel",
      "state": {}
     },
     "582910551b584e2699acc4ca528d8d0e": {
      "model_module": "@jupyter-widgets/controls",
      "model_module_version": "1.0.0",
      "model_name": "HBoxModel",
      "state": {
       "children": [
        "IPY_MODEL_4b91fa6d40894d4da46c037a4dc2ffc1",
        "IPY_MODEL_cb6c9d5c1ea445ea8600ab8532c292dd"
       ],
       "layout": "IPY_MODEL_dad017b11f8746338819a6e799343c5f"
      }
     },
     "588b6cae75ed4f01a7fc278512e62286": {
      "model_module": "@jupyter-widgets/base",
      "model_module_version": "1.0.0",
      "model_name": "LayoutModel",
      "state": {}
     },
     "58d24a270ea84ab9af6babbcdd8cbc35": {
      "model_module": "@jupyter-widgets/controls",
      "model_module_version": "1.0.0",
      "model_name": "DescriptionStyleModel",
      "state": {
       "description_width": ""
      }
     },
     "58d7de1eeb704869b035f8d179344d07": {
      "model_module": "@jupyter-widgets/base",
      "model_module_version": "1.0.0",
      "model_name": "LayoutModel",
      "state": {}
     },
     "59bcb7ad7b754048bab5f98db1ebd72e": {
      "model_module": "@jupyter-widgets/controls",
      "model_module_version": "1.0.0",
      "model_name": "VBoxModel",
      "state": {
       "children": [
        "IPY_MODEL_5424703c556d4467bd48262fe3a09b76"
       ],
       "layout": "IPY_MODEL_b8ebc4c482af45eb8a7e4a32eb3516ad"
      }
     },
     "59d13d5d10804ce1950e2d27070d22b8": {
      "model_module": "@jupyter-widgets/controls",
      "model_module_version": "1.0.0",
      "model_name": "DescriptionStyleModel",
      "state": {
       "description_width": "initial"
      }
     },
     "5a4ec6983e1c48789fc2a7c9a61f6746": {
      "model_module": "@jupyter-widgets/controls",
      "model_module_version": "1.0.0",
      "model_name": "VBoxModel",
      "state": {
       "children": [
        "IPY_MODEL_ce0afa28463b4a81aa8deca7e5fa0740",
        "IPY_MODEL_46cbd5b6645e4ddd9a5d8eb1912e032f",
        "IPY_MODEL_7afa8fbe72964ec9a43a855b1a5be314",
        "IPY_MODEL_8aa0ed0b4295489c822fd5a430b10650"
       ],
       "layout": "IPY_MODEL_e7302f03470a43479e3f555180c980b3"
      }
     },
     "5a512f16ca1041ea8693f08e92ef2094": {
      "model_module": "@jupyter-widgets/base",
      "model_module_version": "1.0.0",
      "model_name": "LayoutModel",
      "state": {
       "height": "40px"
      }
     },
     "5a83029a96f44ac297cdd24e5242d910": {
      "model_module": "@jupyter-widgets/base",
      "model_module_version": "1.0.0",
      "model_name": "LayoutModel",
      "state": {}
     },
     "5a8a593a36d64e45a99a34862ccd2142": {
      "model_module": "@jupyter-widgets/base",
      "model_module_version": "1.0.0",
      "model_name": "LayoutModel",
      "state": {}
     },
     "5aa10bfd0291493183e8c579fe951643": {
      "model_module": "@jupyter-widgets/controls",
      "model_module_version": "1.0.0",
      "model_name": "HBoxModel",
      "state": {
       "children": [
        "IPY_MODEL_94784a55f671409191b9c43ae38e1e0b",
        "IPY_MODEL_c1eb480f547f498cabe3e68922a53e00"
       ],
       "layout": "IPY_MODEL_f7cc3eaadcb24dfe851707d1cd132689"
      }
     },
     "5ac298e6d54040b28bfb1f24f8e927b7": {
      "model_module": "@jupyter-widgets/base",
      "model_module_version": "1.0.0",
      "model_name": "LayoutModel",
      "state": {}
     },
     "5b2498a9c11e42a98f4b5cd3febd26ab": {
      "model_module": "@jupyter-widgets/base",
      "model_module_version": "1.0.0",
      "model_name": "LayoutModel",
      "state": {}
     },
     "5b349bd715dd413390d9cfc6c777b830": {
      "model_module": "@jupyter-widgets/controls",
      "model_module_version": "1.0.0",
      "model_name": "HBoxModel",
      "state": {
       "children": [
        "IPY_MODEL_74eb2987a2c64e139dc7e197837517a8",
        "IPY_MODEL_e547bbe3cdc8443ea209eb41d822f074"
       ],
       "layout": "IPY_MODEL_a17d4cdbd84f4a27996f1f8df8cc7a0c"
      }
     },
     "5b4e6ef922f04861910eef63a4150959": {
      "model_module": "@jupyter-widgets/base",
      "model_module_version": "1.0.0",
      "model_name": "LayoutModel",
      "state": {}
     },
     "5b88e0cdfc6d4a45a62c4a56f22f45b7": {
      "model_module": "@jupyter-widgets/base",
      "model_module_version": "1.0.0",
      "model_name": "LayoutModel",
      "state": {}
     },
     "5bba208fb8834db3a994f4b739498f3a": {
      "model_module": "@jupyter-widgets/base",
      "model_module_version": "1.0.0",
      "model_name": "LayoutModel",
      "state": {}
     },
     "5bc1eb23d20c4d249f0a31a5b9cec298": {
      "model_module": "@jupyter-widgets/controls",
      "model_module_version": "1.0.0",
      "model_name": "DescriptionStyleModel",
      "state": {
       "description_width": ""
      }
     },
     "5c23db5c64144327ac2e9ca31dc841c4": {
      "model_module": "@jupyter-widgets/controls",
      "model_module_version": "1.0.0",
      "model_name": "IntTextModel",
      "state": {
       "description": "Rightmost color maps to:",
       "layout": "IPY_MODEL_e0498c456249444190723c0071c549bc",
       "step": 1,
       "style": "IPY_MODEL_a2d11e7fba9f44e09898046296ca35ac",
       "value": 1
      }
     },
     "5c2613ea90344470b94558bf130f6454": {
      "model_module": "@jupyter-widgets/base",
      "model_module_version": "1.0.0",
      "model_name": "LayoutModel",
      "state": {}
     },
     "5c682039bfa241598168f0dc50ab4161": {
      "model_module": "@jupyter-widgets/base",
      "model_module_version": "1.0.0",
      "model_name": "LayoutModel",
      "state": {}
     },
     "5c7d793bbc5d41c092e19739867a0ce2": {
      "model_module": "@jupyter-widgets/controls",
      "model_module_version": "1.0.0",
      "model_name": "DescriptionStyleModel",
      "state": {
       "description_width": ""
      }
     },
     "5cb7757994ef48fa87e53d2fb2d9a5a1": {
      "model_module": "@jupyter-widgets/base",
      "model_module_version": "1.0.0",
      "model_name": "LayoutModel",
      "state": {}
     },
     "5d3f74c939514304bb963ae1f4bec51b": {
      "model_module": "@jupyter-widgets/controls",
      "model_module_version": "1.0.0",
      "model_name": "DescriptionStyleModel",
      "state": {
       "description_width": "initial"
      }
     },
     "5d7d4e552903484cad4e96fa47443880": {
      "model_module": "@jupyter-widgets/controls",
      "model_module_version": "1.0.0",
      "model_name": "DescriptionStyleModel",
      "state": {
       "description_width": "initial"
      }
     },
     "5e02180fe50b4de5bbac57752f8cc74b": {
      "model_module": "@jupyter-widgets/controls",
      "model_module_version": "1.0.0",
      "model_name": "IntSliderModel",
      "state": {
       "continuous_update": false,
       "description": "Dataset index",
       "layout": "IPY_MODEL_52c402fbe02449f096b5ad4ca0c461eb",
       "max": 89,
       "style": "IPY_MODEL_7a58fff77497444392588c1b4f97a39c",
       "value": 5
      }
     },
     "5e3e3b0219934e39a70c8548b6ce2c62": {
      "model_module": "@jupyter-widgets/base",
      "model_module_version": "1.0.0",
      "model_name": "LayoutModel",
      "state": {}
     },
     "5ebb4e839a144308b087408d553e1716": {
      "model_module": "@jupyter-widgets/controls",
      "model_module_version": "1.0.0",
      "model_name": "DescriptionStyleModel",
      "state": {
       "description_width": ""
      }
     },
     "5ed89884c6cc482fb3fabaf475abd2a4": {
      "model_module": "@jupyter-widgets/controls",
      "model_module_version": "1.0.0",
      "model_name": "HBoxModel",
      "state": {
       "children": [
        "IPY_MODEL_be50c66b89cc48348559bef9e3a5ca17",
        "IPY_MODEL_9a0e5e8822a847b1974da3774619b55c",
        "IPY_MODEL_102eba8352484fdbafa5c9dafd0eb267",
        "IPY_MODEL_56d67253fc1b444683bbcf92b0f42683",
        "IPY_MODEL_d285d49736cc40ee95f988eb76eace35",
        "IPY_MODEL_c322382cba804cdbaef2b506a26e9ee8"
       ],
       "layout": "IPY_MODEL_525049870be9496496a574d66edcf919"
      }
     },
     "5ede34f167694932978fc66a24709b9a": {
      "model_module": "@jupyter-widgets/controls",
      "model_module_version": "1.0.0",
      "model_name": "ButtonStyleModel",
      "state": {}
     },
     "5f37b29700344137ace6307fcf2cad33": {
      "model_module": "@jupyter-widgets/controls",
      "model_module_version": "1.0.0",
      "model_name": "SliderStyleModel",
      "state": {
       "description_width": ""
      }
     },
     "5f4d0df0c9f749828446239c7af6ffba": {
      "model_module": "@jupyter-widgets/controls",
      "model_module_version": "1.0.0",
      "model_name": "SliderStyleModel",
      "state": {
       "description_width": ""
      }
     },
     "5f888ea8c9584cbd99221cde7ca546bb": {
      "model_module": "@jupyter-widgets/controls",
      "model_module_version": "1.0.0",
      "model_name": "HTMLModel",
      "state": {
       "layout": "IPY_MODEL_66bca41be774464f91765066e1421908",
       "style": "IPY_MODEL_98b3e44996e24bdb9769e1ff1cf7f88c",
       "value": "<img src=\"data:image/gif;base64,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\"/>"
      }
     },
     "5fdd0be521164af580ed627b11e5cc3d": {
      "model_module": "@jupyter-widgets/controls",
      "model_module_version": "1.0.0",
      "model_name": "HTMLModel",
      "state": {
       "layout": "IPY_MODEL_9b85e93b06b140f180a17f3471e44400",
       "style": "IPY_MODEL_58d24a270ea84ab9af6babbcdd8cbc35",
       "value": "<iframe src=\"https://conx.readthedocs.io\" width=\"100%\" height=\"550px\"></frame>"
      }
     },
     "5ffc7324d0be42a1bc0e4739451291a0": {
      "model_module": "@jupyter-widgets/controls",
      "model_module_version": "1.0.0",
      "model_name": "CheckboxModel",
      "state": {
       "description": "Visible",
       "disabled": false,
       "layout": "IPY_MODEL_5a83029a96f44ac297cdd24e5242d910",
       "style": "IPY_MODEL_061c43ee797248e0b4884f38c0e1a3e9",
       "value": true
      }
     },
     "601be5fc23c34488b55c96e90fe8dc47": {
      "model_module": "@jupyter-widgets/base",
      "model_module_version": "1.0.0",
      "model_name": "LayoutModel",
      "state": {}
     },
     "6065e554cd004512b39b8286ea853a48": {
      "model_module": "@jupyter-widgets/controls",
      "model_module_version": "1.0.0",
      "model_name": "DescriptionStyleModel",
      "state": {
       "description_width": "initial"
      }
     },
     "6078448bccd247ce8aaad968ada6d640": {
      "model_module": "@jupyter-widgets/controls",
      "model_module_version": "1.0.0",
      "model_name": "HTMLModel",
      "state": {
       "layout": "IPY_MODEL_897bbc60ab3544c8bbcf06e2cd83460a",
       "style": "IPY_MODEL_7f32dfc0ac964e1498d4fc688ab46630",
       "value": "<iframe src=\"https://conx.readthedocs.io\" width=\"100%\" height=\"550px\"></frame>"
      }
     },
     "607ee7ffe6694a25aee5bc60af190d8c": {
      "model_module": "@jupyter-widgets/controls",
      "model_module_version": "1.0.0",
      "model_name": "DescriptionStyleModel",
      "state": {
       "description_width": "initial"
      }
     },
     "613dc31b5b714b2b88ed196e9e776c09": {
      "model_module": "@jupyter-widgets/controls",
      "model_module_version": "1.0.0",
      "model_name": "DescriptionStyleModel",
      "state": {
       "description_width": "initial"
      }
     },
     "61a1bb8165e04de8b57ba5e5f2c16cec": {
      "model_module": "@jupyter-widgets/controls",
      "model_module_version": "1.0.0",
      "model_name": "SelectModel",
      "state": {
       "_options_labels": [
        "",
        "Accent",
        "Accent_r",
        "Blues",
        "Blues_r",
        "BrBG",
        "BrBG_r",
        "BuGn",
        "BuGn_r",
        "BuPu",
        "BuPu_r",
        "CMRmap",
        "CMRmap_r",
        "Dark2",
        "Dark2_r",
        "GnBu",
        "GnBu_r",
        "Greens",
        "Greens_r",
        "Greys",
        "Greys_r",
        "OrRd",
        "OrRd_r",
        "Oranges",
        "Oranges_r",
        "PRGn",
        "PRGn_r",
        "Paired",
        "Paired_r",
        "Pastel1",
        "Pastel1_r",
        "Pastel2",
        "Pastel2_r",
        "PiYG",
        "PiYG_r",
        "PuBu",
        "PuBuGn",
        "PuBuGn_r",
        "PuBu_r",
        "PuOr",
        "PuOr_r",
        "PuRd",
        "PuRd_r",
        "Purples",
        "Purples_r",
        "RdBu",
        "RdBu_r",
        "RdGy",
        "RdGy_r",
        "RdPu",
        "RdPu_r",
        "RdYlBu",
        "RdYlBu_r",
        "RdYlGn",
        "RdYlGn_r",
        "Reds",
        "Reds_r",
        "Set1",
        "Set1_r",
        "Set2",
        "Set2_r",
        "Set3",
        "Set3_r",
        "Spectral",
        "Spectral_r",
        "Vega10",
        "Vega10_r",
        "Vega20",
        "Vega20_r",
        "Vega20b",
        "Vega20b_r",
        "Vega20c",
        "Vega20c_r",
        "Wistia",
        "Wistia_r",
        "YlGn",
        "YlGnBu",
        "YlGnBu_r",
        "YlGn_r",
        "YlOrBr",
        "YlOrBr_r",
        "YlOrRd",
        "YlOrRd_r",
        "afmhot",
        "afmhot_r",
        "autumn",
        "autumn_r",
        "binary",
        "binary_r",
        "bone",
        "bone_r",
        "brg",
        "brg_r",
        "bwr",
        "bwr_r",
        "cool",
        "cool_r",
        "coolwarm",
        "coolwarm_r",
        "copper",
        "copper_r",
        "cubehelix",
        "cubehelix_r",
        "flag",
        "flag_r",
        "gist_earth",
        "gist_earth_r",
        "gist_gray",
        "gist_gray_r",
        "gist_heat",
        "gist_heat_r",
        "gist_ncar",
        "gist_ncar_r",
        "gist_rainbow",
        "gist_rainbow_r",
        "gist_stern",
        "gist_stern_r",
        "gist_yarg",
        "gist_yarg_r",
        "gnuplot",
        "gnuplot2",
        "gnuplot2_r",
        "gnuplot_r",
        "gray",
        "gray_r",
        "hot",
        "hot_r",
        "hsv",
        "hsv_r",
        "inferno",
        "inferno_r",
        "jet",
        "jet_r",
        "magma",
        "magma_r",
        "nipy_spectral",
        "nipy_spectral_r",
        "ocean",
        "ocean_r",
        "pink",
        "pink_r",
        "plasma",
        "plasma_r",
        "prism",
        "prism_r",
        "rainbow",
        "rainbow_r",
        "seismic",
        "seismic_r",
        "spectral",
        "spectral_r",
        "spring",
        "spring_r",
        "summer",
        "summer_r",
        "tab10",
        "tab10_r",
        "tab20",
        "tab20_r",
        "tab20b",
        "tab20b_r",
        "tab20c",
        "tab20c_r",
        "terrain",
        "terrain_r",
        "viridis",
        "viridis_r",
        "winter",
        "winter_r"
       ],
       "description": "Colormap:",
       "index": 0,
       "layout": "IPY_MODEL_3f6bd880fd0f4f1da6872e0af28cfeaa",
       "rows": 1,
       "style": "IPY_MODEL_7cc9a826ca634a02bace75dd94b02d18"
      }
     },
     "61f71dd8db4843fea52520b4bf5ad687": {
      "model_module": "@jupyter-widgets/controls",
      "model_module_version": "1.0.0",
      "model_name": "DescriptionStyleModel",
      "state": {
       "description_width": ""
      }
     },
     "626c227c47cd4c67916e4d6acbcd3e83": {
      "model_module": "@jupyter-widgets/controls",
      "model_module_version": "1.0.0",
      "model_name": "DescriptionStyleModel",
      "state": {
       "description_width": "initial"
      }
     },
     "6271a2184b784956a5ab1e2f971a5a10": {
      "model_module": "@jupyter-widgets/controls",
      "model_module_version": "1.0.0",
      "model_name": "DescriptionStyleModel",
      "state": {
       "description_width": "initial"
      }
     },
     "628b8695ece741a89105b5eb8c9be6ff": {
      "model_module": "@jupyter-widgets/base",
      "model_module_version": "1.0.0",
      "model_name": "LayoutModel",
      "state": {}
     },
     "62dbcfdfa05f4633abca539bb2bdbd65": {
      "model_module": "@jupyter-widgets/controls",
      "model_module_version": "1.0.0",
      "model_name": "SelectModel",
      "state": {
       "_options_labels": [
        "Test",
        "Train"
       ],
       "description": "Dataset:",
       "index": 1,
       "layout": "IPY_MODEL_6339e20e1648424b851afd28491844ae",
       "rows": 1,
       "style": "IPY_MODEL_d20fdfe43adc4edfab9afd5f2dd01da6"
      }
     },
     "6339e20e1648424b851afd28491844ae": {
      "model_module": "@jupyter-widgets/base",
      "model_module_version": "1.0.0",
      "model_name": "LayoutModel",
      "state": {}
     },
     "63d3e0fc95884c7dba6dd7784b8b8ad9": {
      "model_module": "@jupyter-widgets/controls",
      "model_module_version": "1.0.0",
      "model_name": "HBoxModel",
      "state": {
       "children": [
        "IPY_MODEL_dda65ae702d5477eaec350ec0e283adb",
        "IPY_MODEL_855a9ee9f3bf4049a1293ecaa36b0bc0"
       ],
       "layout": "IPY_MODEL_d9f90068ed2f45489e2f6a2d208409df"
      }
     },
     "63f1db062e974f91ab3833b06079f342": {
      "model_module": "@jupyter-widgets/controls",
      "model_module_version": "1.0.0",
      "model_name": "ButtonModel",
      "state": {
       "icon": "backward",
       "layout": "IPY_MODEL_237c77563bd740a89fefec6e73aec052",
       "style": "IPY_MODEL_aaae60c7aa1c4bc8984931332b26584c"
      }
     },
     "640e08c876c44dbe96757d111b388415": {
      "model_module": "@jupyter-widgets/base",
      "model_module_version": "1.0.0",
      "model_name": "LayoutModel",
      "state": {}
     },
     "6483cacfa211462e9aa1f2ae2e7fbfd8": {
      "model_module": "@jupyter-widgets/base",
      "model_module_version": "1.0.0",
      "model_name": "LayoutModel",
      "state": {
       "height": "50px",
       "width": "100%"
      }
     },
     "65199462242d4daf87633a9dc81605e6": {
      "model_module": "@jupyter-widgets/controls",
      "model_module_version": "1.0.0",
      "model_name": "SliderStyleModel",
      "state": {
       "description_width": ""
      }
     },
     "654991dbf13042df81dda52cfb92c678": {
      "model_module": "@jupyter-widgets/base",
      "model_module_version": "1.0.0",
      "model_name": "LayoutModel",
      "state": {}
     },
     "65a14a69ccd14226964626d44bfaed9b": {
      "model_module": "@jupyter-widgets/controls",
      "model_module_version": "1.0.0",
      "model_name": "HBoxModel",
      "state": {
       "children": [
        "IPY_MODEL_838f7383444742b8b7f8bfb28a0d8a8b",
        "IPY_MODEL_7d992f67c1db407ab42798f6742f7b79"
       ],
       "layout": "IPY_MODEL_f42d5706bd5f4ad78ca5279bc6ad6c1c"
      }
     },
     "660764d641624ff08cc628855e6f5453": {
      "model_module": "@jupyter-widgets/controls",
      "model_module_version": "1.0.0",
      "model_name": "HTMLModel",
      "state": {
       "layout": "IPY_MODEL_0eccda2143cb4898807615e4cf4f2ed4",
       "style": "IPY_MODEL_291eaca42e5c4fcc9cec4749694683c9",
       "value": "<img src=\"data:image/gif;base64,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\"/>"
      }
     },
     "665f85a3291a42b7826c2b801946354c": {
      "model_module": "@jupyter-widgets/base",
      "model_module_version": "1.0.0",
      "model_name": "LayoutModel",
      "state": {}
     },
     "6664f6eeb6e34901b7ac4f5e4eec7a90": {
      "model_module": "@jupyter-widgets/base",
      "model_module_version": "1.0.0",
      "model_name": "LayoutModel",
      "state": {}
     },
     "668048b71b834f6884196164a255a4ea": {
      "model_module": "@jupyter-widgets/controls",
      "model_module_version": "1.0.0",
      "model_name": "LabelModel",
      "state": {
       "layout": "IPY_MODEL_e9b2e2cd164f4b10ab68fe0a1a891d3b",
       "style": "IPY_MODEL_329b1a33d3df46b1809c65e7dda02212",
       "value": "of 6999"
      }
     },
     "66b263e349b74006a3b2e160d1761962": {
      "model_module": "@jupyter-widgets/controls",
      "model_module_version": "1.0.0",
      "model_name": "DescriptionStyleModel",
      "state": {
       "description_width": ""
      }
     },
     "66bca41be774464f91765066e1421908": {
      "model_module": "@jupyter-widgets/base",
      "model_module_version": "1.0.0",
      "model_name": "LayoutModel",
      "state": {}
     },
     "66d7548cb8e543edb841bd001fd54250": {
      "model_module": "@jupyter-widgets/controls",
      "model_module_version": "1.0.0",
      "model_name": "IntTextModel",
      "state": {
       "description": "Rightmost color maps to:",
       "layout": "IPY_MODEL_c2d63956ec4d45d7a97ffbf3a9a00214",
       "step": 1,
       "style": "IPY_MODEL_9759f8b3bc934d148993efa975c3e766",
       "value": 1
      }
     },
     "670a5e2f88694373a1b2a67ff433a79f": {
      "model_module": "@jupyter-widgets/controls",
      "model_module_version": "1.0.0",
      "model_name": "IntTextModel",
      "state": {
       "description": "Rightmost color maps to:",
       "layout": "IPY_MODEL_14b3f2f0bd004c4bba43612963a58b5b",
       "step": 1,
       "style": "IPY_MODEL_4ebfe5b9bfea489ba8d18d0fe572a9e3",
       "value": 1
      }
     },
     "672a583750be45d79c05d458612156f3": {
      "model_module": "@jupyter-widgets/controls",
      "model_module_version": "1.0.0",
      "model_name": "DescriptionStyleModel",
      "state": {
       "description_width": "initial"
      }
     },
     "6742234563334277ab35c984d8b76747": {
      "model_module": "@jupyter-widgets/controls",
      "model_module_version": "1.0.0",
      "model_name": "DescriptionStyleModel",
      "state": {
       "description_width": ""
      }
     },
     "6753098593c94e03926c589e0e8ef6f3": {
      "model_module": "@jupyter-widgets/controls",
      "model_module_version": "1.0.0",
      "model_name": "CheckboxModel",
      "state": {
       "description": "Visible",
       "disabled": false,
       "layout": "IPY_MODEL_3f6bd880fd0f4f1da6872e0af28cfeaa",
       "style": "IPY_MODEL_2f80b6415a85415196cc3657cda43f09",
       "value": true
      }
     },
     "689e83bf24414a90b44a190b796e114a": {
      "model_module": "@jupyter-widgets/base",
      "model_module_version": "1.0.0",
      "model_name": "LayoutModel",
      "state": {}
     },
     "68a605faf0294ac0b999fbb504c9f82f": {
      "model_module": "@jupyter-widgets/controls",
      "model_module_version": "1.0.0",
      "model_name": "DescriptionStyleModel",
      "state": {
       "description_width": "initial"
      }
     },
     "68c291dfdfc548dc96ecb5802955e401": {
      "model_module": "@jupyter-widgets/controls",
      "model_module_version": "1.0.0",
      "model_name": "IntTextModel",
      "state": {
       "description": "Leftmost color maps to:",
       "layout": "IPY_MODEL_ab1e4bf8edfc4d6da11f0369c7befd54",
       "step": 1,
       "style": "IPY_MODEL_3ea2e0d8902740e68fee7fecc182b437",
       "value": -1
      }
     },
     "68d176d0be714550b3bf37e7fb351c3f": {
      "model_module": "@jupyter-widgets/base",
      "model_module_version": "1.0.0",
      "model_name": "LayoutModel",
      "state": {}
     },
     "68dad3abe5594f1ca5718733222d5684": {
      "model_module": "@jupyter-widgets/controls",
      "model_module_version": "1.0.0",
      "model_name": "DescriptionStyleModel",
      "state": {
       "description_width": "initial"
      }
     },
     "697320e7672946cd9c406d875a15158a": {
      "model_module": "@jupyter-widgets/base",
      "model_module_version": "1.0.0",
      "model_name": "LayoutModel",
      "state": {}
     },
     "69f8edd120b94c6cb24a6a40b71333f0": {
      "model_module": "@jupyter-widgets/controls",
      "model_module_version": "1.0.0",
      "model_name": "IntTextModel",
      "state": {
       "description": "Rightmost color maps to:",
       "layout": "IPY_MODEL_c6d5505e3f014759a75027fb4adab40f",
       "step": 1,
       "style": "IPY_MODEL_bb6449748a2341d5880441c5e936051a",
       "value": 1
      }
     },
     "6a4b73834abd401ab1effd02d678cafb": {
      "model_module": "@jupyter-widgets/base",
      "model_module_version": "1.0.0",
      "model_name": "LayoutModel",
      "state": {}
     },
     "6a6c69b65b1d4bea9655e18b58d89f05": {
      "model_module": "@jupyter-widgets/controls",
      "model_module_version": "1.0.0",
      "model_name": "DescriptionStyleModel",
      "state": {
       "description_width": "initial"
      }
     },
     "6acf29811834461c9cca7cb562bc7507": {
      "model_module": "@jupyter-widgets/controls",
      "model_module_version": "1.0.0",
      "model_name": "IntTextModel",
      "state": {
       "description": "Horizontal space between banks:",
       "layout": "IPY_MODEL_5a83029a96f44ac297cdd24e5242d910",
       "step": 1,
       "style": "IPY_MODEL_6a6c69b65b1d4bea9655e18b58d89f05",
       "value": 150
      }
     },
     "6b87cebbc90b4b5a8ca678d272ab0f8d": {
      "model_module": "@jupyter-widgets/controls",
      "model_module_version": "1.0.0",
      "model_name": "VBoxModel",
      "state": {
       "children": [
        "IPY_MODEL_7a63d2ceb9f346a1ae0439f05ece09da",
        "IPY_MODEL_b909fc57abc541a6a4b50a90f28693f4",
        "IPY_MODEL_f9c805d4d07f40bca5160b834987cfdd",
        "IPY_MODEL_582910551b584e2699acc4ca528d8d0e",
        "IPY_MODEL_20775d5c531b48769d9393db04684244"
       ],
       "layout": "IPY_MODEL_68d176d0be714550b3bf37e7fb351c3f"
      }
     },
     "6ba4cfdbf38546f8a2da875f4ecd1227": {
      "model_module": "@jupyter-widgets/controls",
      "model_module_version": "1.0.0",
      "model_name": "SelectModel",
      "state": {
       "_options_labels": [
        "Test",
        "Train"
       ],
       "description": "Dataset:",
       "index": 1,
       "layout": "IPY_MODEL_a62a92cfe5e6408194f33145298a0367",
       "rows": 1,
       "style": "IPY_MODEL_836a4a4414fc4e4e9244bd2b269f41a2"
      }
     },
     "6bb9fbdc064a4a5a8177578e3d34c719": {
      "model_module": "@jupyter-widgets/controls",
      "model_module_version": "1.0.0",
      "model_name": "DescriptionStyleModel",
      "state": {
       "description_width": "initial"
      }
     },
     "6bdda5d39d5741e2ad88cccf7d5ce465": {
      "model_module": "@jupyter-widgets/controls",
      "model_module_version": "1.0.0",
      "model_name": "ButtonStyleModel",
      "state": {}
     },
     "6bef3f76be084b1ab091b3b5adb278c1": {
      "model_module": "@jupyter-widgets/base",
      "model_module_version": "1.0.0",
      "model_name": "LayoutModel",
      "state": {}
     },
     "6c4bc7ed31784c0f9e52722e2be0e0a0": {
      "model_module": "@jupyter-widgets/base",
      "model_module_version": "1.0.0",
      "model_name": "LayoutModel",
      "state": {}
     },
     "6cd961446dc74407b58e0cbe7e259d9b": {
      "model_module": "@jupyter-widgets/controls",
      "model_module_version": "1.0.0",
      "model_name": "DescriptionStyleModel",
      "state": {
       "description_width": ""
      }
     },
     "6d211c034e8e4d92878d9aad81e4ac74": {
      "model_module": "@jupyter-widgets/controls",
      "model_module_version": "1.0.0",
      "model_name": "IntTextModel",
      "state": {
       "description": "Leftmost color maps to:",
       "layout": "IPY_MODEL_2555d7adb1694846905af76ccc04faca",
       "step": 1,
       "style": "IPY_MODEL_08fb70219e694b488f90fc4514e2ae52",
       "value": -1
      }
     },
     "6d3f9cdea2a047b7880340b71559ac50": {
      "model_module": "@jupyter-widgets/controls",
      "model_module_version": "1.0.0",
      "model_name": "HBoxModel",
      "state": {
       "children": [
        "IPY_MODEL_ef0f4eda70414c3fabab3ce8f5b1de5a",
        "IPY_MODEL_c24e5cb84add4ec9b4ff8961c58bb82d"
       ],
       "layout": "IPY_MODEL_0d962be9cbf94617ac55a5fa67608d46"
      }
     },
     "6d532fa16b754c039041b54685957477": {
      "model_module": "@jupyter-widgets/controls",
      "model_module_version": "1.0.0",
      "model_name": "DescriptionStyleModel",
      "state": {
       "description_width": "initial"
      }
     },
     "6d96f2387ed1424888008b8959ce7646": {
      "model_module": "@jupyter-widgets/controls",
      "model_module_version": "1.0.0",
      "model_name": "IntTextModel",
      "state": {
       "description": "Leftmost color maps to:",
       "layout": "IPY_MODEL_697320e7672946cd9c406d875a15158a",
       "step": 1,
       "style": "IPY_MODEL_d1878b46b10b4275815c3e2686aec10f",
       "value": -1
      }
     },
     "6e26cfa282504cd5904e68af4e575996": {
      "model_module": "@jupyter-widgets/controls",
      "model_module_version": "1.0.0",
      "model_name": "DescriptionStyleModel",
      "state": {
       "description_width": ""
      }
     },
     "6f7f760390df4443bb66e3edc5b21a75": {
      "model_module": "@jupyter-widgets/controls",
      "model_module_version": "1.0.0",
      "model_name": "HBoxModel",
      "state": {
       "children": [
        "IPY_MODEL_d1f603c1295447119b79df06fdb103b9",
        "IPY_MODEL_77773350fccc4928be38f4a546497551"
       ],
       "layout": "IPY_MODEL_5759845b9b7e4ac6b2ca2c3bafb81ff7"
      }
     },
     "6feb5e8bdd8d47658d5d9f8296226acd": {
      "model_module": "@jupyter-widgets/controls",
      "model_module_version": "1.0.0",
      "model_name": "IntTextModel",
      "state": {
       "description": "Leftmost color maps to:",
       "layout": "IPY_MODEL_54ad982bfcde471ba6c6c54c7f0dfa18",
       "step": 1,
       "style": "IPY_MODEL_840ddcfdc08d4a829fbdabd5015c4b73",
       "value": -1
      }
     },
     "6ffe7a6a593e4250bd26da127380877c": {
      "model_module": "@jupyter-widgets/base",
      "model_module_version": "1.0.0",
      "model_name": "LayoutModel",
      "state": {
       "width": "95%"
      }
     },
     "703143860a7b425db9c9cb012c55dc54": {
      "model_module": "@jupyter-widgets/controls",
      "model_module_version": "1.0.0",
      "model_name": "DescriptionStyleModel",
      "state": {
       "description_width": "initial"
      }
     },
     "70d82dcfa71041e8a4aee7a76167cbcb": {
      "model_module": "@jupyter-widgets/controls",
      "model_module_version": "1.0.0",
      "model_name": "CheckboxModel",
      "state": {
       "description": "Visible",
       "disabled": false,
       "layout": "IPY_MODEL_6664f6eeb6e34901b7ac4f5e4eec7a90",
       "style": "IPY_MODEL_6e26cfa282504cd5904e68af4e575996",
       "value": true
      }
     },
     "70eeb2007a094087a3f126e2f2ba2458": {
      "model_module": "@jupyter-widgets/base",
      "model_module_version": "1.0.0",
      "model_name": "LayoutModel",
      "state": {
       "width": "100%"
      }
     },
     "7138eab5eecb4080807eec4a968a9351": {
      "model_module": "@jupyter-widgets/base",
      "model_module_version": "1.0.0",
      "model_name": "LayoutModel",
      "state": {}
     },
     "7150412492c547cd835ee9336c1a83df": {
      "model_module": "@jupyter-widgets/controls",
      "model_module_version": "1.0.0",
      "model_name": "DescriptionStyleModel",
      "state": {
       "description_width": ""
      }
     },
     "7156a9d418524e9fac979aa942e0500a": {
      "model_module": "@jupyter-widgets/base",
      "model_module_version": "1.0.0",
      "model_name": "LayoutModel",
      "state": {}
     },
     "72c995b669094306a72b661143a9df4c": {
      "model_module": "@jupyter-widgets/controls",
      "model_module_version": "1.0.0",
      "model_name": "IntTextModel",
      "state": {
       "description": "Feature to show:",
       "layout": "IPY_MODEL_689e83bf24414a90b44a190b796e114a",
       "step": 1,
       "style": "IPY_MODEL_7afad33e1aee41998207c8338f32e7c2"
      }
     },
     "72da8f27f9d14fe4ad37303ceba81c37": {
      "model_module": "@jupyter-widgets/controls",
      "model_module_version": "1.0.0",
      "model_name": "ButtonStyleModel",
      "state": {}
     },
     "72f4bacf8faa4da5aff1d6892b4963e2": {
      "model_module": "@jupyter-widgets/base",
      "model_module_version": "1.0.0",
      "model_name": "LayoutModel",
      "state": {}
     },
     "7355317bcd7c48ec99dd247218cf002f": {
      "model_module": "@jupyter-widgets/controls",
      "model_module_version": "1.0.0",
      "model_name": "IntTextModel",
      "state": {
       "description": "Leftmost color maps to:",
       "layout": "IPY_MODEL_041ba3866d1643938b3f6d2c9cb25821",
       "step": 1,
       "style": "IPY_MODEL_e39f469fb84d41c58b4a08d447a917f2",
       "value": -1
      }
     },
     "73a46e870cf84fd6a1f00f7f79bf9ce1": {
      "model_module": "@jupyter-widgets/controls",
      "model_module_version": "1.0.0",
      "model_name": "IntTextModel",
      "state": {
       "description": "Feature to show:",
       "layout": "IPY_MODEL_1fc06a6485284ca690ad72846b8e6697",
       "step": 1,
       "style": "IPY_MODEL_6bb9fbdc064a4a5a8177578e3d34c719"
      }
     },
     "740e653ce83d474b980936f82700d0ab": {
      "model_module": "@jupyter-widgets/controls",
      "model_module_version": "1.0.0",
      "model_name": "IntTextModel",
      "state": {
       "description": "Feature to show:",
       "layout": "IPY_MODEL_cc6c1d8a21a345038a1346f3182d740a",
       "step": 1,
       "style": "IPY_MODEL_ea145457ad4347149646f6972054dc26"
      }
     },
     "74821cb7be58497087bffaa5db60d68f": {
      "model_module": "@jupyter-widgets/controls",
      "model_module_version": "1.0.0",
      "model_name": "DescriptionStyleModel",
      "state": {
       "description_width": ""
      }
     },
     "74eb2987a2c64e139dc7e197837517a8": {
      "model_module": "@jupyter-widgets/controls",
      "model_module_version": "1.0.0",
      "model_name": "IntTextModel",
      "state": {
       "description": "Leftmost color maps to:",
       "layout": "IPY_MODEL_24391d8825bd463fa658815749e74114",
       "step": 1,
       "style": "IPY_MODEL_8a349c040ddd4d2ea675b5820ab0630c",
       "value": -1
      }
     },
     "74ff0845551b4a2eaa1bb50746f3cafb": {
      "model_module": "@jupyter-widgets/controls",
      "model_module_version": "1.0.0",
      "model_name": "TabModel",
      "state": {
       "_titles": {
        "0": "Network",
        "1": "Configuration",
        "2": "Help"
       },
       "children": [
        "IPY_MODEL_4d7d6cf1e453457bb500e56dee66381c",
        "IPY_MODEL_8eeb7552f3314571a25581356e580126",
        "IPY_MODEL_6078448bccd247ce8aaad968ada6d640"
       ],
       "layout": "IPY_MODEL_5c682039bfa241598168f0dc50ab4161"
      }
     },
     "756d50d407b14734bf5355a9593fd20b": {
      "model_module": "@jupyter-widgets/controls",
      "model_module_version": "1.0.0",
      "model_name": "IntTextModel",
      "state": {
       "description": "Leftmost color maps to:",
       "layout": "IPY_MODEL_5247cccb955a42d786cf9e2edb9da809",
       "step": 1,
       "style": "IPY_MODEL_80d86a6e91894848b17f4df6afa116a9",
       "value": -1
      }
     },
     "760ef1d6fea44e62bf09df49c1ef52c6": {
      "model_module": "@jupyter-widgets/controls",
      "model_module_version": "1.0.0",
      "model_name": "SelectModel",
      "state": {
       "_options_labels": [
        "",
        "Accent",
        "Accent_r",
        "Blues",
        "Blues_r",
        "BrBG",
        "BrBG_r",
        "BuGn",
        "BuGn_r",
        "BuPu",
        "BuPu_r",
        "CMRmap",
        "CMRmap_r",
        "Dark2",
        "Dark2_r",
        "GnBu",
        "GnBu_r",
        "Greens",
        "Greens_r",
        "Greys",
        "Greys_r",
        "OrRd",
        "OrRd_r",
        "Oranges",
        "Oranges_r",
        "PRGn",
        "PRGn_r",
        "Paired",
        "Paired_r",
        "Pastel1",
        "Pastel1_r",
        "Pastel2",
        "Pastel2_r",
        "PiYG",
        "PiYG_r",
        "PuBu",
        "PuBuGn",
        "PuBuGn_r",
        "PuBu_r",
        "PuOr",
        "PuOr_r",
        "PuRd",
        "PuRd_r",
        "Purples",
        "Purples_r",
        "RdBu",
        "RdBu_r",
        "RdGy",
        "RdGy_r",
        "RdPu",
        "RdPu_r",
        "RdYlBu",
        "RdYlBu_r",
        "RdYlGn",
        "RdYlGn_r",
        "Reds",
        "Reds_r",
        "Set1",
        "Set1_r",
        "Set2",
        "Set2_r",
        "Set3",
        "Set3_r",
        "Spectral",
        "Spectral_r",
        "Vega10",
        "Vega10_r",
        "Vega20",
        "Vega20_r",
        "Vega20b",
        "Vega20b_r",
        "Vega20c",
        "Vega20c_r",
        "Wistia",
        "Wistia_r",
        "YlGn",
        "YlGnBu",
        "YlGnBu_r",
        "YlGn_r",
        "YlOrBr",
        "YlOrBr_r",
        "YlOrRd",
        "YlOrRd_r",
        "afmhot",
        "afmhot_r",
        "autumn",
        "autumn_r",
        "binary",
        "binary_r",
        "bone",
        "bone_r",
        "brg",
        "brg_r",
        "bwr",
        "bwr_r",
        "cool",
        "cool_r",
        "coolwarm",
        "coolwarm_r",
        "copper",
        "copper_r",
        "cubehelix",
        "cubehelix_r",
        "flag",
        "flag_r",
        "gist_earth",
        "gist_earth_r",
        "gist_gray",
        "gist_gray_r",
        "gist_heat",
        "gist_heat_r",
        "gist_ncar",
        "gist_ncar_r",
        "gist_rainbow",
        "gist_rainbow_r",
        "gist_stern",
        "gist_stern_r",
        "gist_yarg",
        "gist_yarg_r",
        "gnuplot",
        "gnuplot2",
        "gnuplot2_r",
        "gnuplot_r",
        "gray",
        "gray_r",
        "hot",
        "hot_r",
        "hsv",
        "hsv_r",
        "inferno",
        "inferno_r",
        "jet",
        "jet_r",
        "magma",
        "magma_r",
        "nipy_spectral",
        "nipy_spectral_r",
        "ocean",
        "ocean_r",
        "pink",
        "pink_r",
        "plasma",
        "plasma_r",
        "prism",
        "prism_r",
        "rainbow",
        "rainbow_r",
        "seismic",
        "seismic_r",
        "spectral",
        "spectral_r",
        "spring",
        "spring_r",
        "summer",
        "summer_r",
        "tab10",
        "tab10_r",
        "tab20",
        "tab20_r",
        "tab20b",
        "tab20b_r",
        "tab20c",
        "tab20c_r",
        "terrain",
        "terrain_r",
        "viridis",
        "viridis_r",
        "winter",
        "winter_r"
       ],
       "description": "Colormap:",
       "index": 125,
       "layout": "IPY_MODEL_3f6bd880fd0f4f1da6872e0af28cfeaa",
       "rows": 1,
       "style": "IPY_MODEL_3ef2d5e5c19240369b0cd9b03687663f"
      }
     },
     "7670b12f3d26497c9e0a303a7f276a19": {
      "model_module": "@jupyter-widgets/controls",
      "model_module_version": "1.0.0",
      "model_name": "SelectModel",
      "state": {
       "_options_labels": [
        "",
        "Accent",
        "Accent_r",
        "Blues",
        "Blues_r",
        "BrBG",
        "BrBG_r",
        "BuGn",
        "BuGn_r",
        "BuPu",
        "BuPu_r",
        "CMRmap",
        "CMRmap_r",
        "Dark2",
        "Dark2_r",
        "GnBu",
        "GnBu_r",
        "Greens",
        "Greens_r",
        "Greys",
        "Greys_r",
        "OrRd",
        "OrRd_r",
        "Oranges",
        "Oranges_r",
        "PRGn",
        "PRGn_r",
        "Paired",
        "Paired_r",
        "Pastel1",
        "Pastel1_r",
        "Pastel2",
        "Pastel2_r",
        "PiYG",
        "PiYG_r",
        "PuBu",
        "PuBuGn",
        "PuBuGn_r",
        "PuBu_r",
        "PuOr",
        "PuOr_r",
        "PuRd",
        "PuRd_r",
        "Purples",
        "Purples_r",
        "RdBu",
        "RdBu_r",
        "RdGy",
        "RdGy_r",
        "RdPu",
        "RdPu_r",
        "RdYlBu",
        "RdYlBu_r",
        "RdYlGn",
        "RdYlGn_r",
        "Reds",
        "Reds_r",
        "Set1",
        "Set1_r",
        "Set2",
        "Set2_r",
        "Set3",
        "Set3_r",
        "Spectral",
        "Spectral_r",
        "Vega10",
        "Vega10_r",
        "Vega20",
        "Vega20_r",
        "Vega20b",
        "Vega20b_r",
        "Vega20c",
        "Vega20c_r",
        "Wistia",
        "Wistia_r",
        "YlGn",
        "YlGnBu",
        "YlGnBu_r",
        "YlGn_r",
        "YlOrBr",
        "YlOrBr_r",
        "YlOrRd",
        "YlOrRd_r",
        "afmhot",
        "afmhot_r",
        "autumn",
        "autumn_r",
        "binary",
        "binary_r",
        "bone",
        "bone_r",
        "brg",
        "brg_r",
        "bwr",
        "bwr_r",
        "cool",
        "cool_r",
        "coolwarm",
        "coolwarm_r",
        "copper",
        "copper_r",
        "cubehelix",
        "cubehelix_r",
        "flag",
        "flag_r",
        "gist_earth",
        "gist_earth_r",
        "gist_gray",
        "gist_gray_r",
        "gist_heat",
        "gist_heat_r",
        "gist_ncar",
        "gist_ncar_r",
        "gist_rainbow",
        "gist_rainbow_r",
        "gist_stern",
        "gist_stern_r",
        "gist_yarg",
        "gist_yarg_r",
        "gnuplot",
        "gnuplot2",
        "gnuplot2_r",
        "gnuplot_r",
        "gray",
        "gray_r",
        "hot",
        "hot_r",
        "hsv",
        "hsv_r",
        "inferno",
        "inferno_r",
        "jet",
        "jet_r",
        "magma",
        "magma_r",
        "nipy_spectral",
        "nipy_spectral_r",
        "ocean",
        "ocean_r",
        "pink",
        "pink_r",
        "plasma",
        "plasma_r",
        "prism",
        "prism_r",
        "rainbow",
        "rainbow_r",
        "seismic",
        "seismic_r",
        "spectral",
        "spectral_r",
        "spring",
        "spring_r",
        "summer",
        "summer_r",
        "tab10",
        "tab10_r",
        "tab20",
        "tab20_r",
        "tab20b",
        "tab20b_r",
        "tab20c",
        "tab20c_r",
        "terrain",
        "terrain_r",
        "viridis",
        "viridis_r",
        "winter",
        "winter_r"
       ],
       "description": "Colormap:",
       "index": 0,
       "layout": "IPY_MODEL_af966ba6c22449cc8a140effb55ca6ed",
       "rows": 1,
       "style": "IPY_MODEL_36e90f625fb443d08a537cb0bfd4b302"
      }
     },
     "76bef6f73ae048c0b15c7311e7647e32": {
      "model_module": "@jupyter-widgets/controls",
      "model_module_version": "1.0.0",
      "model_name": "SliderStyleModel",
      "state": {
       "description_width": ""
      }
     },
     "76e1c15bb86641799c25f0eeee9c9f92": {
      "model_module": "@jupyter-widgets/controls",
      "model_module_version": "1.0.0",
      "model_name": "VBoxModel",
      "state": {
       "children": [
        "IPY_MODEL_fc839b8cded948e78b6e21949fa7175b",
        "IPY_MODEL_5ffc7324d0be42a1bc0e4739451291a0",
        "IPY_MODEL_92aa7046ffde4f2580752805188dc8c2",
        "IPY_MODEL_3a4fb611719d4e6693e0835b591ba5a3"
       ],
       "layout": "IPY_MODEL_b938c3ee73ea4a759d5f5070ff9d87e6"
      }
     },
     "770bb4927ba340aa87797703f84822e2": {
      "model_module": "@jupyter-widgets/controls",
      "model_module_version": "1.0.0",
      "model_name": "DescriptionStyleModel",
      "state": {
       "description_width": ""
      }
     },
     "7729809c5f384b5594179f63bee4038c": {
      "model_module": "@jupyter-widgets/controls",
      "model_module_version": "1.0.0",
      "model_name": "DescriptionStyleModel",
      "state": {
       "description_width": ""
      }
     },
     "77763cc975bf4ccc9131e5a3b510a569": {
      "model_module": "@jupyter-widgets/controls",
      "model_module_version": "1.0.0",
      "model_name": "CheckboxModel",
      "state": {
       "description": "Show Errors",
       "disabled": false,
       "layout": "IPY_MODEL_af966ba6c22449cc8a140effb55ca6ed",
       "style": "IPY_MODEL_572983318f6d45a19606d10a5ad365c2",
       "value": false
      }
     },
     "77773350fccc4928be38f4a546497551": {
      "model_module": "@jupyter-widgets/controls",
      "model_module_version": "1.0.0",
      "model_name": "IntTextModel",
      "state": {
       "description": "Rightmost color maps to:",
       "layout": "IPY_MODEL_10dbb977fef646bf9a98be488550b857",
       "step": 1,
       "style": "IPY_MODEL_81fce4d24d444bdab6939cc06f8a37d0",
       "value": 1
      }
     },
     "77c882147151451a8e6ebf3c587bebf4": {
      "model_module": "@jupyter-widgets/controls",
      "model_module_version": "1.0.0",
      "model_name": "ButtonModel",
      "state": {
       "icon": "forward",
       "layout": "IPY_MODEL_8818ee1800f84ab0969d8539abb8fa80",
       "style": "IPY_MODEL_5ede34f167694932978fc66a24709b9a"
      }
     },
     "784380d67815426089b36cd1a152d251": {
      "model_module": "@jupyter-widgets/controls",
      "model_module_version": "1.0.0",
      "model_name": "VBoxModel",
      "state": {
       "children": [
        "IPY_MODEL_2b708748019040509b40f790f086b67a",
        "IPY_MODEL_4c553c15470848c1b809d71f6a3eac64",
        "IPY_MODEL_6acf29811834461c9cca7cb562bc7507",
        "IPY_MODEL_218bdddc92d64383805c724a70777e5a",
        "IPY_MODEL_bba33763e2a74508acee0ba1c3122b7f",
        "IPY_MODEL_1a8da0cc74dc465ea00e9c2d977e27ac",
        "IPY_MODEL_e09722cf1ac54a879fdb5655425ed1d5",
        "IPY_MODEL_e4108ae8f35545d8841449757abd9dc7"
       ],
       "layout": "IPY_MODEL_4e966579b3f14275bd8dd6aadd65a825"
      }
     },
     "79314fe11d7b4c9c91041c2205a6f1dc": {
      "model_module": "@jupyter-widgets/controls",
      "model_module_version": "1.0.0",
      "model_name": "DescriptionStyleModel",
      "state": {
       "description_width": "initial"
      }
     },
     "79632a3a3b774e7c893626567675f076": {
      "model_module": "@jupyter-widgets/controls",
      "model_module_version": "1.0.0",
      "model_name": "ButtonModel",
      "state": {
       "icon": "fast-forward",
       "layout": "IPY_MODEL_f2ef4a2188bf4644bf06541ebafddb78",
       "style": "IPY_MODEL_0f1739cfbb314905b00e7ddc0c6e4d41"
      }
     },
     "798bd56d521849eaa5fd4dc15538e6f4": {
      "model_module": "@jupyter-widgets/controls",
      "model_module_version": "1.0.0",
      "model_name": "HTMLModel",
      "state": {
       "layout": "IPY_MODEL_6664f6eeb6e34901b7ac4f5e4eec7a90",
       "style": "IPY_MODEL_d8649eee9b6c4b4eb81f934ce9566c71",
       "value": "<p><hr/><h3>flatten bank:</h3></p>"
      }
     },
     "799ee59b9fa7469fb794f402f4fe8768": {
      "model_module": "@jupyter-widgets/controls",
      "model_module_version": "1.0.0",
      "model_name": "HBoxModel",
      "state": {
       "children": [
        "IPY_MODEL_33d67d18bca44189b70ba26abc33716c",
        "IPY_MODEL_36eea5ee927342db92525bdc8b311ab3"
       ],
       "layout": "IPY_MODEL_7b6238fb897c46e3ba534ea3024b797b"
      }
     },
     "7a58fff77497444392588c1b4f97a39c": {
      "model_module": "@jupyter-widgets/controls",
      "model_module_version": "1.0.0",
      "model_name": "SliderStyleModel",
      "state": {
       "description_width": ""
      }
     },
     "7a63d2ceb9f346a1ae0439f05ece09da": {
      "model_module": "@jupyter-widgets/controls",
      "model_module_version": "1.0.0",
      "model_name": "HTMLModel",
      "state": {
       "layout": "IPY_MODEL_3f6bd880fd0f4f1da6872e0af28cfeaa",
       "style": "IPY_MODEL_2cdb846783104a73b8eebe6868163645",
       "value": "<p><hr/><h3>input bank:</h3></p>"
      }
     },
     "7afa8fbe72964ec9a43a855b1a5be314": {
      "model_module": "@jupyter-widgets/controls",
      "model_module_version": "1.0.0",
      "model_name": "HBoxModel",
      "state": {
       "children": [
        "IPY_MODEL_7670b12f3d26497c9e0a303a7f276a19",
        "IPY_MODEL_1a85b0bcf4b54dd3a09abc54048abe85"
       ],
       "layout": "IPY_MODEL_9ac8bbd068fa4a8d923e789ee64c1658"
      }
     },
     "7afad33e1aee41998207c8338f32e7c2": {
      "model_module": "@jupyter-widgets/controls",
      "model_module_version": "1.0.0",
      "model_name": "DescriptionStyleModel",
      "state": {
       "description_width": "initial"
      }
     },
     "7b1f2992cc584f30967209bd6795ac09": {
      "model_module": "@jupyter-widgets/base",
      "model_module_version": "1.0.0",
      "model_name": "LayoutModel",
      "state": {}
     },
     "7b276c05d3804609bb885a68a536f886": {
      "model_module": "@jupyter-widgets/base",
      "model_module_version": "1.0.0",
      "model_name": "LayoutModel",
      "state": {
       "width": "100%"
      }
     },
     "7b6238fb897c46e3ba534ea3024b797b": {
      "model_module": "@jupyter-widgets/base",
      "model_module_version": "1.0.0",
      "model_name": "LayoutModel",
      "state": {}
     },
     "7b7044effe724e4ba426a998349fd46a": {
      "model_module": "@jupyter-widgets/base",
      "model_module_version": "1.0.0",
      "model_name": "LayoutModel",
      "state": {}
     },
     "7be541172153459da9861b56e0734873": {
      "model_module": "@jupyter-widgets/controls",
      "model_module_version": "1.0.0",
      "model_name": "VBoxModel",
      "state": {
       "children": [
        "IPY_MODEL_8246567d5e314e5c94aff6ca4635fd6f",
        "IPY_MODEL_85dedc962a494174a5d3823728fb14cd",
        "IPY_MODEL_833c0d8633cd4a74bab83668c07a6324",
        "IPY_MODEL_1fe8627822af4e16bd7b8809ffad427a",
        "IPY_MODEL_9fa68d9083244cf085345c61bc7581a1"
       ],
       "layout": "IPY_MODEL_5a8a593a36d64e45a99a34862ccd2142"
      }
     },
     "7c0f16cea91f4344bc3874bd5a8693a0": {
      "model_module": "@jupyter-widgets/base",
      "model_module_version": "1.0.0",
      "model_name": "LayoutModel",
      "state": {
       "width": "100%"
      }
     },
     "7c0f84d12c1f45fb82e2c9cb93f363b7": {
      "model_module": "@jupyter-widgets/controls",
      "model_module_version": "1.0.0",
      "model_name": "HTMLModel",
      "state": {
       "layout": "IPY_MODEL_6664f6eeb6e34901b7ac4f5e4eec7a90",
       "style": "IPY_MODEL_c39fd119afe84ed78ea588acb924ddb8",
       "value": "<p><hr/><h3>input bank:</h3></p>"
      }
     },
     "7c16d0b4534e4917940c73b28834a5db": {
      "model_module": "@jupyter-widgets/controls",
      "model_module_version": "1.0.0",
      "model_name": "VBoxModel",
      "state": {
       "children": [
        "IPY_MODEL_c5a010e02ec549b9bc5dab5ad9aae0d6",
        "IPY_MODEL_6753098593c94e03926c589e0e8ef6f3",
        "IPY_MODEL_ee32ff642bca45ee94017e4dc2ef7f37",
        "IPY_MODEL_d506e41f45a64444840a5a93b97eff56",
        "IPY_MODEL_2bcf86a8694843c781e2b6cbec889581"
       ],
       "layout": "IPY_MODEL_f47b01c746d94a37b37a1a55769db90d"
      }
     },
     "7ca48ebd7c994a2d94286f727ac09530": {
      "model_module": "@jupyter-widgets/controls",
      "model_module_version": "1.0.0",
      "model_name": "DescriptionStyleModel",
      "state": {
       "description_width": "initial"
      }
     },
     "7ca4d238c8944747a61093f8079ba110": {
      "model_module": "@jupyter-widgets/controls",
      "model_module_version": "1.0.0",
      "model_name": "SelectModel",
      "state": {
       "_options_labels": [
        "",
        "Accent",
        "Accent_r",
        "Blues",
        "Blues_r",
        "BrBG",
        "BrBG_r",
        "BuGn",
        "BuGn_r",
        "BuPu",
        "BuPu_r",
        "CMRmap",
        "CMRmap_r",
        "Dark2",
        "Dark2_r",
        "GnBu",
        "GnBu_r",
        "Greens",
        "Greens_r",
        "Greys",
        "Greys_r",
        "OrRd",
        "OrRd_r",
        "Oranges",
        "Oranges_r",
        "PRGn",
        "PRGn_r",
        "Paired",
        "Paired_r",
        "Pastel1",
        "Pastel1_r",
        "Pastel2",
        "Pastel2_r",
        "PiYG",
        "PiYG_r",
        "PuBu",
        "PuBuGn",
        "PuBuGn_r",
        "PuBu_r",
        "PuOr",
        "PuOr_r",
        "PuRd",
        "PuRd_r",
        "Purples",
        "Purples_r",
        "RdBu",
        "RdBu_r",
        "RdGy",
        "RdGy_r",
        "RdPu",
        "RdPu_r",
        "RdYlBu",
        "RdYlBu_r",
        "RdYlGn",
        "RdYlGn_r",
        "Reds",
        "Reds_r",
        "Set1",
        "Set1_r",
        "Set2",
        "Set2_r",
        "Set3",
        "Set3_r",
        "Spectral",
        "Spectral_r",
        "Vega10",
        "Vega10_r",
        "Vega20",
        "Vega20_r",
        "Vega20b",
        "Vega20b_r",
        "Vega20c",
        "Vega20c_r",
        "Wistia",
        "Wistia_r",
        "YlGn",
        "YlGnBu",
        "YlGnBu_r",
        "YlGn_r",
        "YlOrBr",
        "YlOrBr_r",
        "YlOrRd",
        "YlOrRd_r",
        "afmhot",
        "afmhot_r",
        "autumn",
        "autumn_r",
        "binary",
        "binary_r",
        "bone",
        "bone_r",
        "brg",
        "brg_r",
        "bwr",
        "bwr_r",
        "cool",
        "cool_r",
        "coolwarm",
        "coolwarm_r",
        "copper",
        "copper_r",
        "cubehelix",
        "cubehelix_r",
        "flag",
        "flag_r",
        "gist_earth",
        "gist_earth_r",
        "gist_gray",
        "gist_gray_r",
        "gist_heat",
        "gist_heat_r",
        "gist_ncar",
        "gist_ncar_r",
        "gist_rainbow",
        "gist_rainbow_r",
        "gist_stern",
        "gist_stern_r",
        "gist_yarg",
        "gist_yarg_r",
        "gnuplot",
        "gnuplot2",
        "gnuplot2_r",
        "gnuplot_r",
        "gray",
        "gray_r",
        "hot",
        "hot_r",
        "hsv",
        "hsv_r",
        "inferno",
        "inferno_r",
        "jet",
        "jet_r",
        "magma",
        "magma_r",
        "nipy_spectral",
        "nipy_spectral_r",
        "ocean",
        "ocean_r",
        "pink",
        "pink_r",
        "plasma",
        "plasma_r",
        "prism",
        "prism_r",
        "rainbow",
        "rainbow_r",
        "seismic",
        "seismic_r",
        "spectral",
        "spectral_r",
        "spring",
        "spring_r",
        "summer",
        "summer_r",
        "tab10",
        "tab10_r",
        "tab20",
        "tab20_r",
        "tab20b",
        "tab20b_r",
        "tab20c",
        "tab20c_r",
        "terrain",
        "terrain_r",
        "viridis",
        "viridis_r",
        "winter",
        "winter_r"
       ],
       "description": "Colormap:",
       "index": 0,
       "layout": "IPY_MODEL_af966ba6c22449cc8a140effb55ca6ed",
       "rows": 1,
       "style": "IPY_MODEL_28b26d3bdcf54746a6a637ba40814e2f"
      }
     },
     "7cc9a826ca634a02bace75dd94b02d18": {
      "model_module": "@jupyter-widgets/controls",
      "model_module_version": "1.0.0",
      "model_name": "DescriptionStyleModel",
      "state": {
       "description_width": ""
      }
     },
     "7cd4828591e24e69b2b83de7eb322f43": {
      "model_module": "@jupyter-widgets/controls",
      "model_module_version": "1.0.0",
      "model_name": "HBoxModel",
      "state": {
       "children": [
        "IPY_MODEL_d51bbe18b2534600a056b1b51f403a01",
        "IPY_MODEL_e8ea11719a8648519503f6682bc5d33f"
       ],
       "layout": "IPY_MODEL_325487b79fe843d39bd622e28953e40d"
      }
     },
     "7ce16169f1a14ed89e55ec95584e53aa": {
      "model_module": "@jupyter-widgets/base",
      "model_module_version": "1.0.0",
      "model_name": "LayoutModel",
      "state": {}
     },
     "7d18ed2be1ab4cf8bba65400be4327cf": {
      "model_module": "@jupyter-widgets/base",
      "model_module_version": "1.0.0",
      "model_name": "LayoutModel",
      "state": {}
     },
     "7d269c59fff54ec293fac3d00f46a149": {
      "model_module": "@jupyter-widgets/controls",
      "model_module_version": "1.0.0",
      "model_name": "DescriptionStyleModel",
      "state": {
       "description_width": "initial"
      }
     },
     "7d384a6a56d146938f1fb555d4d19e39": {
      "model_module": "@jupyter-widgets/controls",
      "model_module_version": "1.0.0",
      "model_name": "DescriptionStyleModel",
      "state": {
       "description_width": "initial"
      }
     },
     "7d4698b72ac24a369b19f7f6d5e0e81b": {
      "model_module": "@jupyter-widgets/base",
      "model_module_version": "1.0.0",
      "model_name": "LayoutModel",
      "state": {}
     },
     "7d992f67c1db407ab42798f6742f7b79": {
      "model_module": "@jupyter-widgets/controls",
      "model_module_version": "1.0.0",
      "model_name": "HTMLModel",
      "state": {
       "layout": "IPY_MODEL_1c33b8339c9c4bda99695e92c9235168",
       "style": "IPY_MODEL_de10f73b096f4dc3acdad80483bfec49",
       "value": "<img src=\"data:image/gif;base64,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\"/>"
      }
     },
     "7db088a004ae425790985cd7c360b9b2": {
      "model_module": "@jupyter-widgets/base",
      "model_module_version": "1.0.0",
      "model_name": "LayoutModel",
      "state": {
       "overflow_x": "auto",
       "overflow_y": "auto",
       "width": "95%"
      }
     },
     "7e1daf3398cf4bdc8c1ac06e2a6a22ad": {
      "model_module": "@jupyter-widgets/controls",
      "model_module_version": "1.0.0",
      "model_name": "DescriptionStyleModel",
      "state": {
       "description_width": "initial"
      }
     },
     "7eb91b35525744b3959ce61c4beae002": {
      "model_module": "@jupyter-widgets/controls",
      "model_module_version": "1.0.0",
      "model_name": "DescriptionStyleModel",
      "state": {
       "description_width": ""
      }
     },
     "7eea1f27aa6b49079c94646c9f4b10b3": {
      "model_module": "@jupyter-widgets/controls",
      "model_module_version": "1.0.0",
      "model_name": "IntTextModel",
      "state": {
       "description": "Feature to show:",
       "layout": "IPY_MODEL_f4cf557f22e8487cbfae7c2cb73e488b",
       "step": 1,
       "style": "IPY_MODEL_84d601641d7248a58fd66d21794e1d66"
      }
     },
     "7f32dfc0ac964e1498d4fc688ab46630": {
      "model_module": "@jupyter-widgets/controls",
      "model_module_version": "1.0.0",
      "model_name": "DescriptionStyleModel",
      "state": {
       "description_width": ""
      }
     },
     "7fb2016b6cb74d68b0ea7e42ec88d92f": {
      "model_module": "@jupyter-widgets/controls",
      "model_module_version": "1.0.0",
      "model_name": "CheckboxModel",
      "state": {
       "description": "Visible",
       "disabled": false,
       "layout": "IPY_MODEL_3f6bd880fd0f4f1da6872e0af28cfeaa",
       "style": "IPY_MODEL_eb6997532acc4bf4a2140e5a96602e81",
       "value": true
      }
     },
     "7fc130c2fc3a4882a7009e4e210adeca": {
      "model_module": "@jupyter-widgets/controls",
      "model_module_version": "1.0.0",
      "model_name": "DescriptionStyleModel",
      "state": {
       "description_width": "initial"
      }
     },
     "800084e244254c199c3a23b8d165d03d": {
      "model_module": "@jupyter-widgets/base",
      "model_module_version": "1.0.0",
      "model_name": "LayoutModel",
      "state": {}
     },
     "801283cbddd3491cb203c7bb43bee52e": {
      "model_module": "@jupyter-widgets/controls",
      "model_module_version": "1.0.0",
      "model_name": "LabelModel",
      "state": {
       "layout": "IPY_MODEL_3186a5e6490a47f19ac339a5a6650360",
       "style": "IPY_MODEL_c7a5288f81be469abf3199163fd90d13",
       "value": "of 90"
      }
     },
     "80bfcb878c2b41f9a30e8cd78eeed2ce": {
      "model_module": "@jupyter-widgets/controls",
      "model_module_version": "1.0.0",
      "model_name": "IntTextModel",
      "state": {
       "description": "Leftmost color maps to:",
       "layout": "IPY_MODEL_a1a0108e10e148c48c8414ace4f5f0aa",
       "step": 1,
       "style": "IPY_MODEL_7e1daf3398cf4bdc8c1ac06e2a6a22ad",
       "value": -1
      }
     },
     "80d86a6e91894848b17f4df6afa116a9": {
      "model_module": "@jupyter-widgets/controls",
      "model_module_version": "1.0.0",
      "model_name": "DescriptionStyleModel",
      "state": {
       "description_width": "initial"
      }
     },
     "80db720ba1de4c7d90eccb67716441fa": {
      "model_module": "@jupyter-widgets/controls",
      "model_module_version": "1.0.0",
      "model_name": "DescriptionStyleModel",
      "state": {
       "description_width": ""
      }
     },
     "80f270a31ea44f88a6e9f80c1189f8ed": {
      "model_module": "@jupyter-widgets/controls",
      "model_module_version": "1.0.0",
      "model_name": "DescriptionStyleModel",
      "state": {
       "description_width": "initial"
      }
     },
     "814e0f47891d409784d4a193792763f0": {
      "model_module": "@jupyter-widgets/base",
      "model_module_version": "1.0.0",
      "model_name": "LayoutModel",
      "state": {}
     },
     "815069621ab943c687462464ee4e0db6": {
      "model_module": "@jupyter-widgets/controls",
      "model_module_version": "1.0.0",
      "model_name": "HTMLModel",
      "state": {
       "layout": "IPY_MODEL_7d18ed2be1ab4cf8bba65400be4327cf",
       "style": "IPY_MODEL_c7a96fffa1ff406eaa797e15d62d8e59",
       "value": "<img src=\"data:image/gif;base64,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\"/>"
      }
     },
     "819f5e8323cb4d00b99af2bde7d5ee76": {
      "model_module": "@jupyter-widgets/controls",
      "model_module_version": "1.0.0",
      "model_name": "IntTextModel",
      "state": {
       "description": "Leftmost color maps to:",
       "layout": "IPY_MODEL_5ac298e6d54040b28bfb1f24f8e927b7",
       "step": 1,
       "style": "IPY_MODEL_40b8d024b3674978af66c303864f6e20",
       "value": -1
      }
     },
     "81bc7097bbef4a9c8a508a0e1a78744e": {
      "model_module": "@jupyter-widgets/base",
      "model_module_version": "1.0.0",
      "model_name": "LayoutModel",
      "state": {
       "width": "100%"
      }
     },
     "81fce4d24d444bdab6939cc06f8a37d0": {
      "model_module": "@jupyter-widgets/controls",
      "model_module_version": "1.0.0",
      "model_name": "DescriptionStyleModel",
      "state": {
       "description_width": "initial"
      }
     },
     "81fe6d0726f54ca288b01b298fbf9290": {
      "model_module": "@jupyter-widgets/controls",
      "model_module_version": "1.0.0",
      "model_name": "HTMLModel",
      "state": {
       "layout": "IPY_MODEL_af966ba6c22449cc8a140effb55ca6ed",
       "style": "IPY_MODEL_af3f0dbf88c6487484a3637746b2298b",
       "value": "<p><h3>Network display:</h3></p>"
      }
     },
     "82425a1384a24507a55dc12f6c40d5a8": {
      "model_module": "@jupyter-widgets/base",
      "model_module_version": "1.0.0",
      "model_name": "LayoutModel",
      "state": {}
     },
     "8246567d5e314e5c94aff6ca4635fd6f": {
      "model_module": "@jupyter-widgets/controls",
      "model_module_version": "1.0.0",
      "model_name": "HTMLModel",
      "state": {
       "layout": "IPY_MODEL_3f6bd880fd0f4f1da6872e0af28cfeaa",
       "style": "IPY_MODEL_aa6455781ba949f38a89f415812d9846",
       "value": "<p><hr/><h3>maxpool2 bank:</h3></p>"
      }
     },
     "82c7487a24344f7fa954b15c3f276366": {
      "model_module": "@jupyter-widgets/controls",
      "model_module_version": "1.0.0",
      "model_name": "DescriptionStyleModel",
      "state": {
       "description_width": "initial"
      }
     },
     "833c0d8633cd4a74bab83668c07a6324": {
      "model_module": "@jupyter-widgets/controls",
      "model_module_version": "1.0.0",
      "model_name": "HBoxModel",
      "state": {
       "children": [
        "IPY_MODEL_1acd1031d1eb4e9d8d7932337496c651",
        "IPY_MODEL_fdfa96c354e94d3391e762cc0ec30f7b"
       ],
       "layout": "IPY_MODEL_4b91db9ccf074239920f41ba1722d281"
      }
     },
     "836a4a4414fc4e4e9244bd2b269f41a2": {
      "model_module": "@jupyter-widgets/controls",
      "model_module_version": "1.0.0",
      "model_name": "DescriptionStyleModel",
      "state": {
       "description_width": ""
      }
     },
     "836bbb8a70e6459ea9637b0d4b8ec1b2": {
      "model_module": "@jupyter-widgets/controls",
      "model_module_version": "1.0.0",
      "model_name": "DescriptionStyleModel",
      "state": {
       "description_width": ""
      }
     },
     "838f7383444742b8b7f8bfb28a0d8a8b": {
      "model_module": "@jupyter-widgets/controls",
      "model_module_version": "1.0.0",
      "model_name": "SelectModel",
      "state": {
       "_options_labels": [
        "",
        "Accent",
        "Accent_r",
        "Blues",
        "Blues_r",
        "BrBG",
        "BrBG_r",
        "BuGn",
        "BuGn_r",
        "BuPu",
        "BuPu_r",
        "CMRmap",
        "CMRmap_r",
        "Dark2",
        "Dark2_r",
        "GnBu",
        "GnBu_r",
        "Greens",
        "Greens_r",
        "Greys",
        "Greys_r",
        "OrRd",
        "OrRd_r",
        "Oranges",
        "Oranges_r",
        "PRGn",
        "PRGn_r",
        "Paired",
        "Paired_r",
        "Pastel1",
        "Pastel1_r",
        "Pastel2",
        "Pastel2_r",
        "PiYG",
        "PiYG_r",
        "PuBu",
        "PuBuGn",
        "PuBuGn_r",
        "PuBu_r",
        "PuOr",
        "PuOr_r",
        "PuRd",
        "PuRd_r",
        "Purples",
        "Purples_r",
        "RdBu",
        "RdBu_r",
        "RdGy",
        "RdGy_r",
        "RdPu",
        "RdPu_r",
        "RdYlBu",
        "RdYlBu_r",
        "RdYlGn",
        "RdYlGn_r",
        "Reds",
        "Reds_r",
        "Set1",
        "Set1_r",
        "Set2",
        "Set2_r",
        "Set3",
        "Set3_r",
        "Spectral",
        "Spectral_r",
        "Vega10",
        "Vega10_r",
        "Vega20",
        "Vega20_r",
        "Vega20b",
        "Vega20b_r",
        "Vega20c",
        "Vega20c_r",
        "Wistia",
        "Wistia_r",
        "YlGn",
        "YlGnBu",
        "YlGnBu_r",
        "YlGn_r",
        "YlOrBr",
        "YlOrBr_r",
        "YlOrRd",
        "YlOrRd_r",
        "afmhot",
        "afmhot_r",
        "autumn",
        "autumn_r",
        "binary",
        "binary_r",
        "bone",
        "bone_r",
        "brg",
        "brg_r",
        "bwr",
        "bwr_r",
        "cool",
        "cool_r",
        "coolwarm",
        "coolwarm_r",
        "copper",
        "copper_r",
        "cubehelix",
        "cubehelix_r",
        "flag",
        "flag_r",
        "gist_earth",
        "gist_earth_r",
        "gist_gray",
        "gist_gray_r",
        "gist_heat",
        "gist_heat_r",
        "gist_ncar",
        "gist_ncar_r",
        "gist_rainbow",
        "gist_rainbow_r",
        "gist_stern",
        "gist_stern_r",
        "gist_yarg",
        "gist_yarg_r",
        "gnuplot",
        "gnuplot2",
        "gnuplot2_r",
        "gnuplot_r",
        "gray",
        "gray_r",
        "hot",
        "hot_r",
        "hsv",
        "hsv_r",
        "inferno",
        "inferno_r",
        "jet",
        "jet_r",
        "magma",
        "magma_r",
        "nipy_spectral",
        "nipy_spectral_r",
        "ocean",
        "ocean_r",
        "pink",
        "pink_r",
        "plasma",
        "plasma_r",
        "prism",
        "prism_r",
        "rainbow",
        "rainbow_r",
        "seismic",
        "seismic_r",
        "spectral",
        "spectral_r",
        "spring",
        "spring_r",
        "summer",
        "summer_r",
        "tab10",
        "tab10_r",
        "tab20",
        "tab20_r",
        "tab20b",
        "tab20b_r",
        "tab20c",
        "tab20c_r",
        "terrain",
        "terrain_r",
        "viridis",
        "viridis_r",
        "winter",
        "winter_r"
       ],
       "description": "Colormap:",
       "index": 0,
       "layout": "IPY_MODEL_6664f6eeb6e34901b7ac4f5e4eec7a90",
       "rows": 1,
       "style": "IPY_MODEL_e5283f21ffde42f1b7aef8a3fd5eee39"
      }
     },
     "83ad47511b344f8a894b8c40f4a1dc0e": {
      "model_module": "@jupyter-widgets/base",
      "model_module_version": "1.0.0",
      "model_name": "LayoutModel",
      "state": {}
     },
     "840ddcfdc08d4a829fbdabd5015c4b73": {
      "model_module": "@jupyter-widgets/controls",
      "model_module_version": "1.0.0",
      "model_name": "DescriptionStyleModel",
      "state": {
       "description_width": "initial"
      }
     },
     "8469359f10a7434aa36cdb30b083d322": {
      "model_module": "@jupyter-widgets/base",
      "model_module_version": "1.0.0",
      "model_name": "LayoutModel",
      "state": {
       "width": "95%"
      }
     },
     "848e1449022d41ac9c6e36309c673578": {
      "model_module": "@jupyter-widgets/controls",
      "model_module_version": "1.0.0",
      "model_name": "HBoxModel",
      "state": {
       "children": [
        "IPY_MODEL_756d50d407b14734bf5355a9593fd20b",
        "IPY_MODEL_4c3edbd0242240dbbc7b42927c2a6549"
       ],
       "layout": "IPY_MODEL_e8f831e10af24c1c9fba5e57d05de723"
      }
     },
     "84aac19c3aa6472ea53143deefc5bd82": {
      "model_module": "@jupyter-widgets/base",
      "model_module_version": "1.0.0",
      "model_name": "LayoutModel",
      "state": {
       "height": "40px"
      }
     },
     "84c98801be004278a9eaef67caa43db2": {
      "model_module": "@jupyter-widgets/controls",
      "model_module_version": "1.0.0",
      "model_name": "CheckboxModel",
      "state": {
       "description": "Visible",
       "disabled": false,
       "layout": "IPY_MODEL_3f6bd880fd0f4f1da6872e0af28cfeaa",
       "style": "IPY_MODEL_f1da63d786e3492cabecb25cbb26de63",
       "value": true
      }
     },
     "84d601641d7248a58fd66d21794e1d66": {
      "model_module": "@jupyter-widgets/controls",
      "model_module_version": "1.0.0",
      "model_name": "DescriptionStyleModel",
      "state": {
       "description_width": "initial"
      }
     },
     "84e053f6f3ef47689113fb85ada39f0f": {
      "model_module": "@jupyter-widgets/base",
      "model_module_version": "1.0.0",
      "model_name": "LayoutModel",
      "state": {}
     },
     "855a9ee9f3bf4049a1293ecaa36b0bc0": {
      "model_module": "@jupyter-widgets/controls",
      "model_module_version": "1.0.0",
      "model_name": "HTMLModel",
      "state": {
       "layout": "IPY_MODEL_f8235a33a111480793eac664016aab03",
       "style": "IPY_MODEL_836bbb8a70e6459ea9637b0d4b8ec1b2",
       "value": "<img src=\"data:image/gif;base64,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\"/>"
      }
     },
     "85a4039c3b7a4d79abfa33502b393a5d": {
      "model_module": "@jupyter-widgets/base",
      "model_module_version": "1.0.0",
      "model_name": "LayoutModel",
      "state": {}
     },
     "85acc23eac2643e6aee5bd5f3d40e4dd": {
      "model_module": "@jupyter-widgets/base",
      "model_module_version": "1.0.0",
      "model_name": "LayoutModel",
      "state": {
       "width": "100%"
      }
     },
     "85dedc962a494174a5d3823728fb14cd": {
      "model_module": "@jupyter-widgets/controls",
      "model_module_version": "1.0.0",
      "model_name": "CheckboxModel",
      "state": {
       "description": "Visible",
       "disabled": false,
       "layout": "IPY_MODEL_3f6bd880fd0f4f1da6872e0af28cfeaa",
       "style": "IPY_MODEL_39e823f611604fca8591ff45a83ef90b",
       "value": true
      }
     },
     "8635951c1f814ddba83be1599ce339c8": {
      "model_module": "@jupyter-widgets/base",
      "model_module_version": "1.0.0",
      "model_name": "LayoutModel",
      "state": {}
     },
     "86827838c92141b29dfc881ed4149a92": {
      "model_module": "@jupyter-widgets/controls",
      "model_module_version": "1.0.0",
      "model_name": "IntTextModel",
      "state": {
       "description": "Horizontal space between banks:",
       "layout": "IPY_MODEL_3f6bd880fd0f4f1da6872e0af28cfeaa",
       "step": 1,
       "style": "IPY_MODEL_fb4bc14432a440bfbd29e4d02257545f",
       "value": 150
      }
     },
     "86b6bee2e17d4ceea70020924b5ef01e": {
      "model_module": "@jupyter-widgets/controls",
      "model_module_version": "1.0.0",
      "model_name": "IntTextModel",
      "state": {
       "description": "Feature to show:",
       "layout": "IPY_MODEL_6a4b73834abd401ab1effd02d678cafb",
       "step": 1,
       "style": "IPY_MODEL_0a593ed3a76946158edffbc38a3a72ca"
      }
     },
     "86c0d70d35054d76afa0abcf5956ab7a": {
      "model_module": "@jupyter-widgets/base",
      "model_module_version": "1.0.0",
      "model_name": "LayoutModel",
      "state": {}
     },
     "86faf8cc7c514b3a80c3449f17ed72fb": {
      "model_module": "@jupyter-widgets/controls",
      "model_module_version": "1.0.0",
      "model_name": "HTMLModel",
      "state": {
       "layout": "IPY_MODEL_91f05124250140fca4a3ae2e5c0d1973",
       "style": "IPY_MODEL_406551e210e24bd1854125a9f63cdd96",
       "value": "<img src=\"data:image/gif;base64,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\"/>"
      }
     },
     "873d82c9550f477499d07f4ccabbf9fb": {
      "model_module": "@jupyter-widgets/base",
      "model_module_version": "1.0.0",
      "model_name": "LayoutModel",
      "state": {}
     },
     "875e3800b9c840a989c994a70dc4ebfa": {
      "model_module": "@jupyter-widgets/controls",
      "model_module_version": "1.0.0",
      "model_name": "DescriptionStyleModel",
      "state": {
       "description_width": ""
      }
     },
     "876474194f61446db2cb7aedcef16c4a": {
      "model_module": "@jupyter-widgets/controls",
      "model_module_version": "1.0.0",
      "model_name": "TabModel",
      "state": {
       "_titles": {
        "0": "Network",
        "1": "Configuration",
        "2": "Help"
       },
       "children": [
        "IPY_MODEL_8c813114ea934804b2b14f76c39b2ecc",
        "IPY_MODEL_59bcb7ad7b754048bab5f98db1ebd72e",
        "IPY_MODEL_3aa4a3952dd64efb92a87a65e68f51eb"
       ],
       "layout": "IPY_MODEL_654991dbf13042df81dda52cfb92c678"
      }
     },
     "87a75a5dc5ff4585b5a7d411f4b16568": {
      "model_module": "@jupyter-widgets/base",
      "model_module_version": "1.0.0",
      "model_name": "LayoutModel",
      "state": {}
     },
     "8818ee1800f84ab0969d8539abb8fa80": {
      "model_module": "@jupyter-widgets/base",
      "model_module_version": "1.0.0",
      "model_name": "LayoutModel",
      "state": {
       "width": "100%"
      }
     },
     "88345b35810f49af93ad0ef30947f843": {
      "model_module": "@jupyter-widgets/controls",
      "model_module_version": "1.0.0",
      "model_name": "HTMLModel",
      "state": {
       "layout": "IPY_MODEL_f2345d733e14434b995510802933d085",
       "style": "IPY_MODEL_242f72fa47324149bc6f4468bea315d2",
       "value": "<p style=\"text-align:center\"><svg id='Auto-Encoding with Conv' xmlns='http://www.w3.org/2000/svg' viewBox=\"0 0 350 785\" height=\"780\" image-rendering=\"pixelated\">\n    <defs>\n        <marker id=\"arrow\" markerWidth=\"10\" markerHeight=\"10\" refX=\"9\" refY=\"3\" orient=\"auto\" markerUnits=\"strokeWidth\">\n          <path d=\"M0,0 L0,6 L9,3 z\" fill=\"black\" />\n        </marker>\n    </defs><text x=\"175.0\" y=\"12.5\" font-family=\"monospace\" font-size=\"15\" text-anchor=\"middle\" alignment-baseline=\"central\">Auto-Encoding with Conv</text><rect x=\"74.0\" y=\"29\" width=\"202\" height=\"202\" style=\"fill:none;stroke:black;stroke-width:2\"/><image id=\"Auto-Encoding with Conv_output_8\" class=\"Auto-Encoding with Conv_output\" x=\"75.0\" y=\"30\" height=\"200\" width=\"200\" preserveAspectRatio=\"none\" href=\"data:image/gif;base64,R0lGODdhHAAcAIcAAP79/enp/8vL/2lp/6Gh/729/wAAAAAAAAAAAAAAAAAAAAAAAAAAAAAAAAAAAAAAAAAAAAAAAAAAAAAAAAAAAAAAAAAAAAAAAAAAAAAAAAAAAAAAAAAAAAAAAAAAAAAAAAAAAAAAAAAAAAAAAAAAAAAAAAAAAAAAAAAAAAAAAAAAAAAAAAAAAAAAAAAAAAAAAAAAAAAAAAAAAAAAAAAAAAAAAAAAAAAAAAAAAAAAAAAAAAAAAAAAAAAAAAAAAAAAAAAAAAAAAAAAAAAAAAAAAAAAAAAAAAAAAAAAAAAAAAAAAAAAAAAAAAAAAAAAAAAAAAAAAAAAAAAAAAAAAAAAAAAAAAAAAAAAAAAAAAAAAAAAAAAAAAAAAAAAAAAAAAAAAAAAAAAAAAAAAAAAAAAAAAAAAAAAAAAAAAAAAAAAAAAAAAAAAAAAAAAAAAAAAAAAAAAAAAAAAAAAAAAAAAAAAAAAAAAAAAAAAAAAAAAAAAAAAAAAAAAAAAAAAAAAAAAAAAAAAAAAAAAAAAAAAAAAAAAAAAAAAAAAAAAAAAAAAAAAAAAAAAAAAAAAAAAAAAAAAAAAAAAAAAAAAAAAAAAAAAAAAAAAAAAAAAAAAAAAAAAAAAAAAAAAAAAAAAAAAAAAAAAAAAAAAAAAAAAAAAAAAAAAAAAAAAAAAAAAAAAAAAAAAAAAAAAAAAAAAAAAAAAAAAAAAAAAAAAAAAAAAAAAAAAAAAAAAAAAAAAAAAAAAAAAAAAAAAAAAAAAAAAAAAAAAAAAAAAAAAAAAAAAAAAAAAAAAAAAAAAAAAAAAAAAAAAAAAAAAAAAAAAAAAAAAAAAAAAAAAAAAAAAAAAAAAAAAAAAAAAAAAAAAAAAAAAAAAAAAAAAAAAAAAAAAAAAAAAAAAAAAAAAAAAAAAAAAAAAAAAAAAAAAAAAAAAAAAAAAAAAAAAAAAAAAAAAAAAAAAAAAAAAAAAAAAAAAAAAAAAAAAAAAAAAAAAAAAAAAAAAAAAAAAAAAAAAAAAAAAAAAAAAACwAAAAAHAAcAEAIgQABCBxIsKDBgwgJFhgAoKHDhxAjSpxIsaLFixgzatzIsaPHiQIAiBxJsqTJkyhTqlzJsqVLkQEAyJxJs6bNmzhz6tzJs6fPn0BpEgAAQACAo0iTKl3KtKnTp1CjSp3KNACAq1izat3KtavXr2DDBgBAtqzZs2jTql3Ltq3bt2oDAgA7\"><title>Layer: output (output)\n shape = (784,)\n Keras class = Dense\n activation = softmax</title></image><text x=\"280.0\" y=\"132.0\" font-family=\"monospace\" font-size=\"12\" text-anchor=\"start\" alignment-baseline=\"central\">output</text><line x1=\"175.0\" y1=\"259\" x2=\"175.0\" y2=\"232\" stroke=\"black\" stroke-width=\"2\" marker-end=\"url(#arrow)\"><title>Weights from flatten to output\n output/kernel has shape (2112, 784)\n output/bias has shape (784,)</title></line><rect x=\"74.0\" y=\"259\" width=\"202\" height=\"27\" style=\"fill:none;stroke:black;stroke-width:2\"/><image id=\"Auto-Encoding with Conv_flatten_9\" class=\"Auto-Encoding with Conv_flatten\" x=\"75.0\" y=\"260\" height=\"25\" width=\"200\" preserveAspectRatio=\"none\" href=\"data:image/gif;base64,R0lGODdhQAgBAIcAAP78/QAATQEB8gAArwAA0AAAkAAAbmdn/zU1/1dX/3h4/0VF/6en/xcX/5aW/8bG/yYm/7a2/4eH/+bm/9bW/wAAAAAAAAAAAAAAAAAAAAAAAAAAAAAAAAAAAAAAAAAAAAAAAAAAAAAAAAAAAAAAAAAAAAAAAAAAAAAAAAAAAAAAAAAAAAAAAAAAAAAAAAAAAAAAAAAAAAAAAAAAAAAAAAAAAAAAAAAAAAAAAAAAAAAAAAAAAAAAAAAAAAAAAAAAAAAAAAAAAAAAAAAAAAAAAAAAAAAAAAAAAAAAAAAAAAAAAAAAAAAAAAAAAAAAAAAAAAAAAAAAAAAAAAAAAAAAAAAAAAAAAAAAAAAAAAAAAAAAAAAAAAAAAAAAAAAAAAAAAAAAAAAAAAAAAAAAAAAAAAAAAAAAAAAAAAAAAAAAAAAAAAAAAAAAAAAAAAAAAAAAAAAAAAAAAAAAAAAAAAAAAAAAAAAAAAAAAAAAAAAAAAAAAAAAAAAAAAAAAAAAAAAAAAAAAAAAAAAAAAAAAAAAAAAAAAAAAAAAAAAAAAAAAAAAAAAAAAAAAAAAAAAAAAAAAAAAAAAAAAAAAAAAAAAAAAAAAAAAAAAAAAAAAAAAAAAAAAAAAAAAAAAAAAAAAAAAAAAAAAAAAAAAAAAAAAAAAAAAAAAAAAAAAAAAAAAAAAAAAAAAAAAAAAAAAAAAAAAAAAAAAAAAAAAAAAAAAAAAAAAAAAAAAAAAAAAAAAAAAAAAAAAAAAAAAAAAAAAAAAAAAAAAAAAAAAAAAAAAAAAAAAAAAAAAAAAAAAAAAAAAAAAAAAAAAAAAAAAAAAAAAAAAAAAAAAAAAAAAAAAAAAAAAAAAAAAAAAAAAAAAAAAAAAAAAAAAAAAAAAAAAAAAAAAAAAAAAAAAAAAAAAAAAAAAAAAAAAAAAAAAAAAAAAAAAAAAAAAAAAAAAAAAAAAAAAAAAAAAAAAAAAAAAAAAAAAAAAAAAAAAAAAAAAAAAAAAAAAAAAAAAAAAAAAAAAAAAAAAACwAAAAAQAgBAAAI/wANEJBQYMCBBQAKAFjI8ACAAQkoAJBwQAAAAAIWFAhwAEABCQEIBAAgAAGCAQQACDBQIMIAAgUCDBDQAACBBAQANHhQAAAACQEOCHgQoAGBAQIABACQAEAAAA4ABCDwgIADAAASAAgAAIAAAAAENAAQwMEAAA0eACAAIECABAYEADDQgMEBAhIcABggAACACAAABBDAIECAAgIABADAmLEDBwAKQFAwoQABBwAgDEAQIMABAAYABBgNoMGAAgMCAAjAeoCBAgQCBChgAMAAAQMASEBgQACAAwEMFDgQwEABAwIABACgAECBCQAABChQIMADAAIUAAiwAEAAAAAgEP8AYEBAgAEIHAAIACDAAAEGCiwI4ADCgAIKEgAIUAAAAIADAAAIQACAgQAGBgAIAIDAAgAAFDQAICDBAgAGCABAYIAAgAABBAwIACBAAAQAJBQIIKAAgAAxDRgYQGBAAAIFABQQAMAnAQMBAAwwUDTCggACBggAMADA0wgGAAAwUKCAAQAADAAAEEAAgAAFHgAYAEBAgQABGEAAEACAAAcGBAwQEABAAAEFHiwAEGAAAAcGABQIkADAgAADBgAIAGDAAQACECQA0AAAAAkCEAAYMOABAAgBCAQIACBAAAEADgwwsMAAgAADChAgAGGAgAATCjhIACECAAACBgQAUOD/gYAAABYQYL4AgAEA0QEEQACggIEEAgAAMAAAQAAEAAIEEOBAAAAAAQQEoIAAQAEAAgAEoDCgQAIAARAIoHAAAMAADAAIGAAgQIEAAAgIMBAgQQQABgAAiAAhAAACAABIaCAggAMFDCIEAPCgQQAAARYMAAAggoACEwAkCGCAggAGBAwYECABAoAEAAAgYBAgAIABACIsAECgAIEGBQAEoADgKoEAAAoMAABAAAABAAAYOAAgAIEGBRZMAEAAgAAAEwAIAEAAQAEAegE4CMDAQIIGAAIUACAAAIAAAwI0MCAgQQAEAAAEiACgwIAAAAQEABBAgIEAAQwIQBCAQoAA/wQIBGgNYIAAAwEUAABQwAAAAgAC8A5ggAAFABIAEBAQIAAAAw0UBFAQoIGBBgMABBBwAMADAgEABDAAAAABAAcAAAhQAEAACAYCQAAwoMCBAgIQAKgfgEGABQoEAHAQACCEABAEAAgQAECACQAEHBiAYMAEBgEcAAAQQAGAAAMKABAwAEAAAgUEBAiAAIKABwECGChQIEAAAAUSCCBAAQCABgIYSADQQEEAoQMAABAAQMECBQEAHDjgIIAAAw8QHHAAAEIAAQAMBAgAIEABBQAEABggAQABAwACFAgQoAEAAgUgBCCwAEBeBwQGSDgwIMCDAAQGLBAAwMAAAAECAP9AMEGAgggHACwYAABAgAQADDwQAACCgQIFBihoEEAAAAYEABQI8BpAAwcADiRQoABA7twSAChgAABBAQQDADyQAMDBAQABADAAkCCAgggEHkQAcD0AAgADAgQAMGBBAwASAAh4AEDCAAAPBgQIQAFAhAcSAjCgAAACAAAQHAAAAFBAAAYBCBw4QCHCgQUAAhQAQABAAgYMFAiIACDjgAcACiggAEAAgJEOACQQ4AAAAAYTFggQACDmAQkAADwQAADABAcOAPgUwEABBAACAFAAgPSBggEAHgCI4AAAAAIPKAAAMEEABQAACAQAAODBAwAQACQAQOEAAwATHBRwIGH/AoC5AgDYbQAAgIQJAPpOAEDhAAIEEQAQEAAgAAUABAYYKDAAwQEFBgAACJAAgIECBQAEMIDgwIEIAhBAEHAgQIQGEAwkECAhAAAFAAgUQAAAgAADABAkMGBAwAECBRQkaACAQAIDBAAsYMDAAIAAAQQIkADAAAEAAAQICABggYEJAAIAcACAwgEKAARMCJBAAIAJECIkEAAAwAEACBQgAAgAwAMAAQIICABBAAACDQAEAACAgIEAAQgAAPAgQAQACBIACCBgAoACAQgIYBBAwYEBBQgEOGAgQoEAAgYEAFDAAAEBAgAAIFBAgIEBAwwcGBBggIIEBgAESEAgAoAF/wsEBBAQAIAABAsABFgQAUAAAAEABDCQoAEBAAAIAGggAEABAAMKNABQAEEAAAMKACgAoEAABQgmFAiQ2MAABwIAACgAQEAAAAAYMAAgQAADCgYEABCgAMADCAAAQAhwQIIAAxEKCCAQIQCBBQIYBJgQIAKABQEiAFgAQACABAYGEAAAAAEBAREAREgA4AEEAAsAHHBQIAABAAIATAAQfkACAAYGLAAwgIGCAQAACGAAYEEBAAsQBBigAAAEAAEKAERQAIABAAAEAFCQgEAABQQKQBAwgcIBAwAABAAA4MEAAgoYAABAQAAAAQoABCAAAAACAQYAAEAgoMGDAQcWBP9AoADAAAYADgAYMACABAAAFkwYICGAgAMMADR4ACFBhAEAFABwAADAhAANBjBoAAAAAwAAKARYACAAgAAAChxYQKAAAAAQEADImzfAAAAAAkQIAGCCAwABACQIAIDAAwABBkxAkGCCBACWAQRgAABAggACCAQI8KBAAAADAAAgIIAAAAIKAgAQMMAAgwkEEhgIoADAggQAIlAAsKAAAAIPAARQUEBAAAMQHgwoAEBCgQENAAgQAGD7ggADCABAYADAAQYAKAQ4ACAAgAAADEgwUCAAAAgUKBggACABgAABADYAMABAAAAUKAAIACBBAQACHgAIQABAAQIEFAAoEAD/gAACAAAICADAQIAACAIEAHCAAACXBgAgCBDAwIAABgAQEIAgQAABAgooIFBAAAAGBwoYEAAggIQCAgQMMOAgQAABEwgQAABAAAGvAAQQICDggIAABAYMAIAAQFsAAwIACCCgAAQEAAwAABBgAIAAARwECABAQIABAQQIABAAAIAJDBoMQDAAgoEAAQY8ABAgAAAADgAEEAAgQoACDhZAGABgwAAABhYIAAAgAIACBAIIKGDgwIMJAgwEdyAgAAMABgQYaBAAgAAABwgwOLDggAEBASQcmNAAAAACAgIAaABAQAABBAoIICABwAAHDAAICOAAQIEBEiIAAEAAAgABLAADAEAQAAIBAQAeBGgQQMEBABApQCBAQcCAAAACCBiwAACAAAEAMAgAwEBAADs=\"><title>Layer: flatten (hidden)\n Keras class = Flatten</title></image><text x=\"280.0\" y=\"274.5\" font-family=\"monospace\" font-size=\"12\" text-anchor=\"start\" alignment-baseline=\"central\">flatten</text><line x1=\"175.0\" y1=\"314\" x2=\"175.0\" y2=\"287\" stroke=\"black\" stroke-width=\"2\" marker-end=\"url(#arrow)\"><title>Weights from maxpool2 to flatten</title></line><rect x=\"74.0\" y=\"314\" width=\"202\" height=\"52\" style=\"fill:none;stroke:black;stroke-width:2\"/><image id=\"Auto-Encoding with Conv_maxpool2_10\" class=\"Auto-Encoding with Conv_maxpool2\" x=\"75.0\" y=\"315\" height=\"50\" width=\"200\" preserveAspectRatio=\"none\" href=\"data:image/gif;base64,R0lGODdhBAABAIcAAAAAdgAAj83N///9/QAAAAAAAAAAAAAAAAAAAAAAAAAAAAAAAAAAAAAAAAAAAAAAAAAAAAAAAAAAAAAAAAAAAAAAAAAAAAAAAAAAAAAAAAAAAAAAAAAAAAAAAAAAAAAAAAAAAAAAAAAAAAAAAAAAAAAAAAAAAAAAAAAAAAAAAAAAAAAAAAAAAAAAAAAAAAAAAAAAAAAAAAAAAAAAAAAAAAAAAAAAAAAAAAAAAAAAAAAAAAAAAAAAAAAAAAAAAAAAAAAAAAAAAAAAAAAAAAAAAAAAAAAAAAAAAAAAAAAAAAAAAAAAAAAAAAAAAAAAAAAAAAAAAAAAAAAAAAAAAAAAAAAAAAAAAAAAAAAAAAAAAAAAAAAAAAAAAAAAAAAAAAAAAAAAAAAAAAAAAAAAAAAAAAAAAAAAAAAAAAAAAAAAAAAAAAAAAAAAAAAAAAAAAAAAAAAAAAAAAAAAAAAAAAAAAAAAAAAAAAAAAAAAAAAAAAAAAAAAAAAAAAAAAAAAAAAAAAAAAAAAAAAAAAAAAAAAAAAAAAAAAAAAAAAAAAAAAAAAAAAAAAAAAAAAAAAAAAAAAAAAAAAAAAAAAAAAAAAAAAAAAAAAAAAAAAAAAAAAAAAAAAAAAAAAAAAAAAAAAAAAAAAAAAAAAAAAAAAAAAAAAAAAAAAAAAAAAAAAAAAAAAAAAAAAAAAAAAAAAAAAAAAAAAAAAAAAAAAAAAAAAAAAAAAAAAAAAAAAAAAAAAAAAAAAAAAAAAAAAAAAAAAAAAAAAAAAAAAAAAAAAAAAAAAAAAAAAAAAAAAAAAAAAAAAAAAAAAAAAAAAAAAAAAAAAAAAAAAAAAAAAAAAAAAAAAAAAAAAAAAAAAAAAAAAAAAAAAAAAAAAAAAAAAAAAAAAAAAAAAAAAAAAAAAAAAAAAAAAAAAAAAAAAAAAAAAAAAAAAAAAAAAAAAAAAAAAAAAAAAAAAAAAAAAAAAAAAAAAAAAAAAAAAAAAAAAAAAAAAAAAAAAAAAAAAAAAAAAAAAAAAAAAACwAAAAABAABAAAIBwABBBggICAAOw==\"><title>Layer: maxpool2 (hidden)\n Keras class = MaxPooling2D</title></image><text x=\"280.0\" y=\"342.0\" font-family=\"monospace\" font-size=\"12\" text-anchor=\"start\" alignment-baseline=\"central\">maxpool2</text><text x=\"280.0\" y=\"320\" font-family=\"monospace\" font-size=\"12\" text-anchor=\"start\" alignment-baseline=\"central\">132</text><text x=\"63.0\" y=\"360\" font-family=\"monospace\" font-size=\"12\" text-anchor=\"start\" alignment-baseline=\"central\">0</text><line x1=\"175.0\" y1=\"394\" x2=\"175.0\" y2=\"367\" stroke=\"black\" stroke-width=\"2\" marker-end=\"url(#arrow)\"><title>Weights from Conv2D-2 to maxpool2</title></line><rect x=\"74.0\" y=\"394\" width=\"202\" height=\"27\" style=\"fill:none;stroke:black;stroke-width:2\"/><image id=\"Auto-Encoding with Conv_Conv2D-2_11\" class=\"Auto-Encoding with Conv_Conv2D-2\" x=\"75.0\" y=\"395\" height=\"25\" width=\"200\" preserveAspectRatio=\"none\" href=\"data:image/gif;base64,R0lGODdhCAABAIcAAPz7/QAA0AgI/9HR/wAAAAAAAAAAAAAAAAAAAAAAAAAAAAAAAAAAAAAAAAAAAAAAAAAAAAAAAAAAAAAAAAAAAAAAAAAAAAAAAAAAAAAAAAAAAAAAAAAAAAAAAAAAAAAAAAAAAAAAAAAAAAAAAAAAAAAAAAAAAAAAAAAAAAAAAAAAAAAAAAAAAAAAAAAAAAAAAAAAAAAAAAAAAAAAAAAAAAAAAAAAAAAAAAAAAAAAAAAAAAAAAAAAAAAAAAAAAAAAAAAAAAAAAAAAAAAAAAAAAAAAAAAAAAAAAAAAAAAAAAAAAAAAAAAAAAAAAAAAAAAAAAAAAAAAAAAAAAAAAAAAAAAAAAAAAAAAAAAAAAAAAAAAAAAAAAAAAAAAAAAAAAAAAAAAAAAAAAAAAAAAAAAAAAAAAAAAAAAAAAAAAAAAAAAAAAAAAAAAAAAAAAAAAAAAAAAAAAAAAAAAAAAAAAAAAAAAAAAAAAAAAAAAAAAAAAAAAAAAAAAAAAAAAAAAAAAAAAAAAAAAAAAAAAAAAAAAAAAAAAAAAAAAAAAAAAAAAAAAAAAAAAAAAAAAAAAAAAAAAAAAAAAAAAAAAAAAAAAAAAAAAAAAAAAAAAAAAAAAAAAAAAAAAAAAAAAAAAAAAAAAAAAAAAAAAAAAAAAAAAAAAAAAAAAAAAAAAAAAAAAAAAAAAAAAAAAAAAAAAAAAAAAAAAAAAAAAAAAAAAAAAAAAAAAAAAAAAAAAAAAAAAAAAAAAAAAAAAAAAAAAAAAAAAAAAAAAAAAAAAAAAAAAAAAAAAAAAAAAAAAAAAAAAAAAAAAAAAAAAAAAAAAAAAAAAAAAAAAAAAAAAAAAAAAAAAAAAAAAAAAAAAAAAAAAAAAAAAAAAAAAAAAAAAAAAAAAAAAAAAAAAAAAAAAAAAAAAAAAAAAAAAAAAAAAAAAAAAAAAAAAAAAAAAAAAAAAAAAAAAAAAAAAAAAAAAAAAAAAAAAAAAAAAAAAAAAAAAAAAAAAAAAAAAAAAAAAAAAAAAAAAAAAACwAAAAACAABAAAICwABBBAAoCCAAQEBADs=\"><title>Layer: Conv2D-2 (hidden)\n Keras class = Conv2D\n activation = relu</title></image><text x=\"280.0\" y=\"409.5\" font-family=\"monospace\" font-size=\"12\" text-anchor=\"start\" alignment-baseline=\"central\">Conv2D-2</text><text x=\"280.0\" y=\"400\" font-family=\"monospace\" font-size=\"12\" text-anchor=\"start\" alignment-baseline=\"central\">132</text><text x=\"63.0\" y=\"415\" font-family=\"monospace\" font-size=\"12\" text-anchor=\"start\" alignment-baseline=\"central\">0</text><line x1=\"175.0\" y1=\"449\" x2=\"175.0\" y2=\"422\" stroke=\"black\" stroke-width=\"2\" marker-end=\"url(#arrow)\"><title>Weights from maxpool1 to Conv2D-2\n Conv2D-2/kernel has shape (5, 5, 16, 132)\n Conv2D-2/bias has shape (132,)</title></line><rect x=\"74.0\" y=\"449\" width=\"202\" height=\"27\" style=\"fill:none;stroke:black;stroke-width:2\"/><image id=\"Auto-Encoding with Conv_maxpool1_12\" class=\"Auto-Encoding with Conv_maxpool1\" x=\"75.0\" y=\"450\" height=\"25\" width=\"200\" preserveAspectRatio=\"none\" href=\"data:image/gif;base64,R0lGODdhDAABAIcAAP/9/Z2d/wAAAAAAAAAAAAAAAAAAAAAAAAAAAAAAAAAAAAAAAAAAAAAAAAAAAAAAAAAAAAAAAAAAAAAAAAAAAAAAAAAAAAAAAAAAAAAAAAAAAAAAAAAAAAAAAAAAAAAAAAAAAAAAAAAAAAAAAAAAAAAAAAAAAAAAAAAAAAAAAAAAAAAAAAAAAAAAAAAAAAAAAAAAAAAAAAAAAAAAAAAAAAAAAAAAAAAAAAAAAAAAAAAAAAAAAAAAAAAAAAAAAAAAAAAAAAAAAAAAAAAAAAAAAAAAAAAAAAAAAAAAAAAAAAAAAAAAAAAAAAAAAAAAAAAAAAAAAAAAAAAAAAAAAAAAAAAAAAAAAAAAAAAAAAAAAAAAAAAAAAAAAAAAAAAAAAAAAAAAAAAAAAAAAAAAAAAAAAAAAAAAAAAAAAAAAAAAAAAAAAAAAAAAAAAAAAAAAAAAAAAAAAAAAAAAAAAAAAAAAAAAAAAAAAAAAAAAAAAAAAAAAAAAAAAAAAAAAAAAAAAAAAAAAAAAAAAAAAAAAAAAAAAAAAAAAAAAAAAAAAAAAAAAAAAAAAAAAAAAAAAAAAAAAAAAAAAAAAAAAAAAAAAAAAAAAAAAAAAAAAAAAAAAAAAAAAAAAAAAAAAAAAAAAAAAAAAAAAAAAAAAAAAAAAAAAAAAAAAAAAAAAAAAAAAAAAAAAAAAAAAAAAAAAAAAAAAAAAAAAAAAAAAAAAAAAAAAAAAAAAAAAAAAAAAAAAAAAAAAAAAAAAAAAAAAAAAAAAAAAAAAAAAAAAAAAAAAAAAAAAAAAAAAAAAAAAAAAAAAAAAAAAAAAAAAAAAAAAAAAAAAAAAAAAAAAAAAAAAAAAAAAAAAAAAAAAAAAAAAAAAAAAAAAAAAAAAAAAAAAAAAAAAAAAAAAAAAAAAAAAAAAAAAAAAAAAAAAAAAAAAAAAAAAAAAAAAAAAAAAAAAAAAAAAAAAAAAAAAAAAAAAAAAAAAAAAAAAAAAAAAAAAAAAAAAAAAAAAAAAAAAAAAAAAAAAAAAACwAAAAADAABAAAICQABCBxIEECAgAA7\"><title>Layer: maxpool1 (hidden)\n Keras class = MaxPooling2D</title></image><text x=\"280.0\" y=\"464.5\" font-family=\"monospace\" font-size=\"12\" text-anchor=\"start\" alignment-baseline=\"central\">maxpool1</text><text x=\"280.0\" y=\"455\" font-family=\"monospace\" font-size=\"12\" text-anchor=\"start\" alignment-baseline=\"central\">16</text><text x=\"63.0\" y=\"470\" font-family=\"monospace\" font-size=\"12\" text-anchor=\"start\" alignment-baseline=\"central\">0</text><line x1=\"175.0\" y1=\"504\" x2=\"175.0\" y2=\"477\" stroke=\"black\" stroke-width=\"2\" marker-end=\"url(#arrow)\"><title>Weights from Conv2D-1 to maxpool1</title></line><rect x=\"74.0\" y=\"504\" width=\"202\" height=\"27\" style=\"fill:none;stroke:black;stroke-width:2\"/><image id=\"Auto-Encoding with Conv_Conv2D-1_13\" class=\"Auto-Encoding with Conv_Conv2D-1\" x=\"75.0\" y=\"505\" height=\"25\" width=\"200\" preserveAspectRatio=\"none\" href=\"data:image/gif;base64,R0lGODdhGAABAIcAAP/9/d3d/+Xl/wAAAAAAAAAAAAAAAAAAAAAAAAAAAAAAAAAAAAAAAAAAAAAAAAAAAAAAAAAAAAAAAAAAAAAAAAAAAAAAAAAAAAAAAAAAAAAAAAAAAAAAAAAAAAAAAAAAAAAAAAAAAAAAAAAAAAAAAAAAAAAAAAAAAAAAAAAAAAAAAAAAAAAAAAAAAAAAAAAAAAAAAAAAAAAAAAAAAAAAAAAAAAAAAAAAAAAAAAAAAAAAAAAAAAAAAAAAAAAAAAAAAAAAAAAAAAAAAAAAAAAAAAAAAAAAAAAAAAAAAAAAAAAAAAAAAAAAAAAAAAAAAAAAAAAAAAAAAAAAAAAAAAAAAAAAAAAAAAAAAAAAAAAAAAAAAAAAAAAAAAAAAAAAAAAAAAAAAAAAAAAAAAAAAAAAAAAAAAAAAAAAAAAAAAAAAAAAAAAAAAAAAAAAAAAAAAAAAAAAAAAAAAAAAAAAAAAAAAAAAAAAAAAAAAAAAAAAAAAAAAAAAAAAAAAAAAAAAAAAAAAAAAAAAAAAAAAAAAAAAAAAAAAAAAAAAAAAAAAAAAAAAAAAAAAAAAAAAAAAAAAAAAAAAAAAAAAAAAAAAAAAAAAAAAAAAAAAAAAAAAAAAAAAAAAAAAAAAAAAAAAAAAAAAAAAAAAAAAAAAAAAAAAAAAAAAAAAAAAAAAAAAAAAAAAAAAAAAAAAAAAAAAAAAAAAAAAAAAAAAAAAAAAAAAAAAAAAAAAAAAAAAAAAAAAAAAAAAAAAAAAAAAAAAAAAAAAAAAAAAAAAAAAAAAAAAAAAAAAAAAAAAAAAAAAAAAAAAAAAAAAAAAAAAAAAAAAAAAAAAAAAAAAAAAAAAAAAAAAAAAAAAAAAAAAAAAAAAAAAAAAAAAAAAAAAAAAAAAAAAAAAAAAAAAAAAAAAAAAAAAAAAAAAAAAAAAAAAAAAAAAAAAAAAAAAAAAAAAAAAAAAAAAAAAAAAAAAAAAAAAAAAAAAAAAAAAAAAAAAAAAAAAAAAAAAAAAAAAAAAAAAAAAAAAAAACwAAAAAGAABAAAIDQABCBxIsKBBAAEEBAQAOw==\"><title>Layer: Conv2D-1 (hidden)\n Keras class = Conv2D\n activation = relu</title></image><text x=\"280.0\" y=\"519.5\" font-family=\"monospace\" font-size=\"12\" text-anchor=\"start\" alignment-baseline=\"central\">Conv2D-1</text><text x=\"280.0\" y=\"510\" font-family=\"monospace\" font-size=\"12\" text-anchor=\"start\" alignment-baseline=\"central\">16</text><text x=\"63.0\" y=\"525\" font-family=\"monospace\" font-size=\"12\" text-anchor=\"start\" alignment-baseline=\"central\">0</text><line x1=\"175.0\" y1=\"559\" x2=\"175.0\" y2=\"532\" stroke=\"black\" stroke-width=\"2\" marker-end=\"url(#arrow)\"><title>Weights from input to Conv2D-1\n Conv2D-1/kernel has shape (5, 5, 1, 16)\n Conv2D-1/bias has shape (16,)</title></line><rect x=\"74.0\" y=\"559\" width=\"202\" height=\"202\" style=\"fill:none;stroke:black;stroke-width:2\"/><image id=\"Auto-Encoding with Conv_input_14\" class=\"Auto-Encoding with Conv_input\" x=\"75.0\" y=\"560\" height=\"200\" width=\"200\" preserveAspectRatio=\"none\" href=\"data:image/gif;base64,R0lGODdhHAAcAIcAAAoAAP//9jAAAP/8DP//z00AANcAAPMAAG4AAI0AAP+aAP9nAP/MAP//jbMAAP9yAP/pAP//T///c/8lAP9XAP+qAP//Mv82AP9EAP+/AP/WAP//vAAAAAAAAAAAAAAAAAAAAAAAAAAAAAAAAAAAAAAAAAAAAAAAAAAAAAAAAAAAAAAAAAAAAAAAAAAAAAAAAAAAAAAAAAAAAAAAAAAAAAAAAAAAAAAAAAAAAAAAAAAAAAAAAAAAAAAAAAAAAAAAAAAAAAAAAAAAAAAAAAAAAAAAAAAAAAAAAAAAAAAAAAAAAAAAAAAAAAAAAAAAAAAAAAAAAAAAAAAAAAAAAAAAAAAAAAAAAAAAAAAAAAAAAAAAAAAAAAAAAAAAAAAAAAAAAAAAAAAAAAAAAAAAAAAAAAAAAAAAAAAAAAAAAAAAAAAAAAAAAAAAAAAAAAAAAAAAAAAAAAAAAAAAAAAAAAAAAAAAAAAAAAAAAAAAAAAAAAAAAAAAAAAAAAAAAAAAAAAAAAAAAAAAAAAAAAAAAAAAAAAAAAAAAAAAAAAAAAAAAAAAAAAAAAAAAAAAAAAAAAAAAAAAAAAAAAAAAAAAAAAAAAAAAAAAAAAAAAAAAAAAAAAAAAAAAAAAAAAAAAAAAAAAAAAAAAAAAAAAAAAAAAAAAAAAAAAAAAAAAAAAAAAAAAAAAAAAAAAAAAAAAAAAAAAAAAAAAAAAAAAAAAAAAAAAAAAAAAAAAAAAAAAAAAAAAAAAAAAAAAAAAAAAAAAAAAAAAAAAAAAAAAAAAAAAAAAAAAAAAAAAAAAAAAAAAAAAAAAAAAAAAAAAAAAAAAAAAAAAAAAAAAAAAAAAAAAAAAAAAAAAAAAAAAAAAAAAAAAAAAAAAAAAAAAAAAAAAAAAAAAAAAAAAAAAAAAAAAAAAAAAAAAAAAAAAAAAAAAAAAAAAAAAAAAAAAAAAAAAAAAAAAAAAAAAAAAAAAAAAAAAAAAAAAAAAAAAAAAAAAAAAAAAAAAAAAAAAAAAAAAAAAAAAAAAACwAAAAAHAAcAEAI/wABCBxIsKDBgwcFSAjAkOEACAQIAJhIsaLFixUFHAgQYACAjyBDfnwQoGSEBQsEAFjJsqXLlzBjypwpYEAAAwBy6tzJs2fOAhckBBgawIIBAEiTKl3KtKnTpwUQHFDAIIBVqw0YBCAwwAGAr2DDghUAQEGAAwDSql3Ltm1bAwQCBMBQAIDdu3jz6rWbYAGEAAEiABhMuHBhAQwkBFgcYIABAQAiS55MubLly5gza97MufNkAaApPNBQIEMAAhQAqF7NGkCCDQFiy5Z9oHYCBABy696t20CFCQECWBAAAIECAMiTK1/O/EGAAQCiS59OvTp1BAQaVJgAoLv37+DDf1FPMCBAAAUFAKhfz769e/YB4jsAQL++/fv2EShoEKB/AIAQAAwkWNAggAIOIgRgGGCAAQARJU6kmIBBgwAZAxBYIADAR5AhRY4kWdLkSZQhAwIAOw==\"><title>Layer: input (input)\n shape = (28, 28, 1)\n Keras class = Input</title></image><text x=\"280.0\" y=\"662.0\" font-family=\"monospace\" font-size=\"12\" text-anchor=\"start\" alignment-baseline=\"central\">input</text><text x=\"280.0\" y=\"565\" font-family=\"monospace\" font-size=\"12\" text-anchor=\"start\" alignment-baseline=\"central\">1</text><text x=\"63.0\" y=\"755\" font-family=\"monospace\" font-size=\"12\" text-anchor=\"start\" alignment-baseline=\"central\">0</text></svg></p>"
      }
     },
     "884356c37e1a476fada9a0aa04592c99": {
      "model_module": "@jupyter-widgets/controls",
      "model_module_version": "1.0.0",
      "model_name": "DescriptionStyleModel",
      "state": {
       "description_width": ""
      }
     },
     "88451da1f89344449656d9358b4be65f": {
      "model_module": "@jupyter-widgets/controls",
      "model_module_version": "1.0.0",
      "model_name": "DescriptionStyleModel",
      "state": {
       "description_width": ""
      }
     },
     "8845a58833f54b48a97e35fd312182bf": {
      "model_module": "@jupyter-widgets/controls",
      "model_module_version": "1.0.0",
      "model_name": "DescriptionStyleModel",
      "state": {
       "description_width": ""
      }
     },
     "8846b36fd549472e8173b6888273ea83": {
      "model_module": "@jupyter-widgets/controls",
      "model_module_version": "1.0.0",
      "model_name": "DescriptionStyleModel",
      "state": {
       "description_width": "initial"
      }
     },
     "88a628b6ce8848cbbd1a65dfd678086b": {
      "model_module": "@jupyter-widgets/base",
      "model_module_version": "1.0.0",
      "model_name": "LayoutModel",
      "state": {
       "width": "100%"
      }
     },
     "89298f2ef16448a28147108ba03bceed": {
      "model_module": "@jupyter-widgets/base",
      "model_module_version": "1.0.0",
      "model_name": "LayoutModel",
      "state": {
       "width": "95%"
      }
     },
     "8948fb73e6704ffd96b64967cf85cbf6": {
      "model_module": "@jupyter-widgets/base",
      "model_module_version": "1.0.0",
      "model_name": "LayoutModel",
      "state": {}
     },
     "897bbc60ab3544c8bbcf06e2cd83460a": {
      "model_module": "@jupyter-widgets/base",
      "model_module_version": "1.0.0",
      "model_name": "LayoutModel",
      "state": {
       "width": "95%"
      }
     },
     "897e3100eb48401e9621de2589081680": {
      "model_module": "@jupyter-widgets/controls",
      "model_module_version": "1.0.0",
      "model_name": "DescriptionStyleModel",
      "state": {
       "description_width": ""
      }
     },
     "899954bfe9c244948f178a8753fce855": {
      "model_module": "@jupyter-widgets/controls",
      "model_module_version": "1.0.0",
      "model_name": "HBoxModel",
      "state": {
       "children": [
        "IPY_MODEL_80bfcb878c2b41f9a30e8cd78eeed2ce",
        "IPY_MODEL_fe4bc8d6deb349e4b5b5b7d3c3207c26"
       ],
       "layout": "IPY_MODEL_2f14844d77ad4feb8355a4655c2cc3bb"
      }
     },
     "8a349c040ddd4d2ea675b5820ab0630c": {
      "model_module": "@jupyter-widgets/controls",
      "model_module_version": "1.0.0",
      "model_name": "DescriptionStyleModel",
      "state": {
       "description_width": "initial"
      }
     },
     "8a58b82c58374dd3bc5923d238fa32d6": {
      "model_module": "@jupyter-widgets/controls",
      "model_module_version": "1.0.0",
      "model_name": "HBoxModel",
      "state": {
       "children": [
        "IPY_MODEL_ec7ea40c050041c7affd4dd169a85881",
        "IPY_MODEL_548b915314a5449e9315d9a90c7698dc"
       ],
       "layout": "IPY_MODEL_1fa26339d5f54e5490923c02b3753b8d"
      }
     },
     "8aa0ed0b4295489c822fd5a430b10650": {
      "model_module": "@jupyter-widgets/controls",
      "model_module_version": "1.0.0",
      "model_name": "HBoxModel",
      "state": {
       "children": [
        "IPY_MODEL_fbff178cbafc4792851b8141d08b0ff6",
        "IPY_MODEL_b3ad193fe3cf41dc9192a3f2a7f342f6"
       ],
       "layout": "IPY_MODEL_f1b606c6297c4e51b8e85d3939906e2e"
      }
     },
     "8aa2e7d12cfd4885b9e81a8fa75616d8": {
      "model_module": "@jupyter-widgets/base",
      "model_module_version": "1.0.0",
      "model_name": "LayoutModel",
      "state": {}
     },
     "8ae4cdb543c642f985f8188ec9f2d226": {
      "model_module": "@jupyter-widgets/controls",
      "model_module_version": "1.0.0",
      "model_name": "DescriptionStyleModel",
      "state": {
       "description_width": ""
      }
     },
     "8b0047236fca47fb88b9fc07717ccaf5": {
      "model_module": "@jupyter-widgets/controls",
      "model_module_version": "1.0.0",
      "model_name": "IntTextModel",
      "state": {
       "description": "Vertical space between layers:",
       "layout": "IPY_MODEL_6664f6eeb6e34901b7ac4f5e4eec7a90",
       "step": 1,
       "style": "IPY_MODEL_ef064a39e5ad437fa1f4e94e925447f5",
       "value": 30
      }
     },
     "8b008805eb364825accdc12b4c68e4e8": {
      "model_module": "@jupyter-widgets/controls",
      "model_module_version": "1.0.0",
      "model_name": "VBoxModel",
      "state": {
       "children": [
        "IPY_MODEL_c5257a96e1aa4026b9b3ccfb0727b1e6",
        "IPY_MODEL_7fb2016b6cb74d68b0ea7e42ec88d92f",
        "IPY_MODEL_31a362e0b1c64fed9b1e0dac345d1a01",
        "IPY_MODEL_0bf50ec41e7d4506b289bc31a3b967a8",
        "IPY_MODEL_a6172616efdc4c579eeade3e12a2c1c2"
       ],
       "layout": "IPY_MODEL_abba1c4bdc574d499878623caddee442"
      }
     },
     "8b7eab12f33a49c2a0f43597ac0108ce": {
      "model_module": "@jupyter-widgets/base",
      "model_module_version": "1.0.0",
      "model_name": "LayoutModel",
      "state": {}
     },
     "8bc01e4e735b4acd8764084794656eca": {
      "model_module": "@jupyter-widgets/controls",
      "model_module_version": "1.0.0",
      "model_name": "HTMLModel",
      "state": {
       "layout": "IPY_MODEL_af966ba6c22449cc8a140effb55ca6ed",
       "style": "IPY_MODEL_f66211e7465446c49cb055dc9a00ffe2",
       "value": "<p><hr/><h3>flatten bank:</h3></p>"
      }
     },
     "8c0cf97afb3844d78d7430759a9f1c13": {
      "model_module": "@jupyter-widgets/base",
      "model_module_version": "1.0.0",
      "model_name": "LayoutModel",
      "state": {}
     },
     "8c1003ef5628400e9b8cc61bd322e9de": {
      "model_module": "@jupyter-widgets/controls",
      "model_module_version": "1.0.0",
      "model_name": "SelectModel",
      "state": {
       "_options_labels": [
        "",
        "input",
        "Conv2D-1",
        "maxpool1",
        "Conv2D-2",
        "maxpool2"
       ],
       "description": "Features:",
       "index": 2,
       "layout": "IPY_MODEL_935237567a144977a4e81396580326df",
       "rows": 1,
       "style": "IPY_MODEL_f0add167ec914beeb20fabe5444a9286"
      }
     },
     "8c1b5d569f3d469188dacd5c5a6a31f1": {
      "model_module": "@jupyter-widgets/controls",
      "model_module_version": "1.0.0",
      "model_name": "DescriptionStyleModel",
      "state": {
       "description_width": ""
      }
     },
     "8c6e7a47788344038eeef35d52a98701": {
      "model_module": "@jupyter-widgets/controls",
      "model_module_version": "1.0.0",
      "model_name": "IntTextModel",
      "state": {
       "description": "Horizontal space between banks:",
       "layout": "IPY_MODEL_6664f6eeb6e34901b7ac4f5e4eec7a90",
       "step": 1,
       "style": "IPY_MODEL_97793a7d664a4bb0b6419354182921f3",
       "value": 150
      }
     },
     "8c813114ea934804b2b14f76c39b2ecc": {
      "model_module": "@jupyter-widgets/controls",
      "model_module_version": "1.0.0",
      "model_name": "VBoxModel",
      "state": {
       "children": [
        "IPY_MODEL_2e8c6c4daf1046b5a7e7227f12fdcb4b",
        "IPY_MODEL_88345b35810f49af93ad0ef30947f843"
       ],
       "layout": "IPY_MODEL_bdb597469f1145d8bc010af275a2b1fa"
      }
     },
     "8c9cfff1d4d941e28c02fe5b9e07c7e0": {
      "model_module": "@jupyter-widgets/base",
      "model_module_version": "1.0.0",
      "model_name": "LayoutModel",
      "state": {}
     },
     "8ca135170dba4039956148c3fe3dcc40": {
      "model_module": "@jupyter-widgets/controls",
      "model_module_version": "1.0.0",
      "model_name": "SelectModel",
      "state": {
       "_options_labels": [
        "",
        "Accent",
        "Accent_r",
        "Blues",
        "Blues_r",
        "BrBG",
        "BrBG_r",
        "BuGn",
        "BuGn_r",
        "BuPu",
        "BuPu_r",
        "CMRmap",
        "CMRmap_r",
        "Dark2",
        "Dark2_r",
        "GnBu",
        "GnBu_r",
        "Greens",
        "Greens_r",
        "Greys",
        "Greys_r",
        "OrRd",
        "OrRd_r",
        "Oranges",
        "Oranges_r",
        "PRGn",
        "PRGn_r",
        "Paired",
        "Paired_r",
        "Pastel1",
        "Pastel1_r",
        "Pastel2",
        "Pastel2_r",
        "PiYG",
        "PiYG_r",
        "PuBu",
        "PuBuGn",
        "PuBuGn_r",
        "PuBu_r",
        "PuOr",
        "PuOr_r",
        "PuRd",
        "PuRd_r",
        "Purples",
        "Purples_r",
        "RdBu",
        "RdBu_r",
        "RdGy",
        "RdGy_r",
        "RdPu",
        "RdPu_r",
        "RdYlBu",
        "RdYlBu_r",
        "RdYlGn",
        "RdYlGn_r",
        "Reds",
        "Reds_r",
        "Set1",
        "Set1_r",
        "Set2",
        "Set2_r",
        "Set3",
        "Set3_r",
        "Spectral",
        "Spectral_r",
        "Vega10",
        "Vega10_r",
        "Vega20",
        "Vega20_r",
        "Vega20b",
        "Vega20b_r",
        "Vega20c",
        "Vega20c_r",
        "Wistia",
        "Wistia_r",
        "YlGn",
        "YlGnBu",
        "YlGnBu_r",
        "YlGn_r",
        "YlOrBr",
        "YlOrBr_r",
        "YlOrRd",
        "YlOrRd_r",
        "afmhot",
        "afmhot_r",
        "autumn",
        "autumn_r",
        "binary",
        "binary_r",
        "bone",
        "bone_r",
        "brg",
        "brg_r",
        "bwr",
        "bwr_r",
        "cool",
        "cool_r",
        "coolwarm",
        "coolwarm_r",
        "copper",
        "copper_r",
        "cubehelix",
        "cubehelix_r",
        "flag",
        "flag_r",
        "gist_earth",
        "gist_earth_r",
        "gist_gray",
        "gist_gray_r",
        "gist_heat",
        "gist_heat_r",
        "gist_ncar",
        "gist_ncar_r",
        "gist_rainbow",
        "gist_rainbow_r",
        "gist_stern",
        "gist_stern_r",
        "gist_yarg",
        "gist_yarg_r",
        "gnuplot",
        "gnuplot2",
        "gnuplot2_r",
        "gnuplot_r",
        "gray",
        "gray_r",
        "hot",
        "hot_r",
        "hsv",
        "hsv_r",
        "inferno",
        "inferno_r",
        "jet",
        "jet_r",
        "magma",
        "magma_r",
        "nipy_spectral",
        "nipy_spectral_r",
        "ocean",
        "ocean_r",
        "pink",
        "pink_r",
        "plasma",
        "plasma_r",
        "prism",
        "prism_r",
        "rainbow",
        "rainbow_r",
        "seismic",
        "seismic_r",
        "spectral",
        "spectral_r",
        "spring",
        "spring_r",
        "summer",
        "summer_r",
        "tab10",
        "tab10_r",
        "tab20",
        "tab20_r",
        "tab20b",
        "tab20b_r",
        "tab20c",
        "tab20c_r",
        "terrain",
        "terrain_r",
        "viridis",
        "viridis_r",
        "winter",
        "winter_r"
       ],
       "description": "Colormap:",
       "index": 0,
       "layout": "IPY_MODEL_6664f6eeb6e34901b7ac4f5e4eec7a90",
       "rows": 1,
       "style": "IPY_MODEL_2d1add4e37b14884877dbb7814fbca7a"
      }
     },
     "8cc13db5c1c54963b625c907ec718ce6": {
      "model_module": "@jupyter-widgets/base",
      "model_module_version": "1.0.0",
      "model_name": "LayoutModel",
      "state": {}
     },
     "8d8a9255bf304450b6fffb0eb2fbdc20": {
      "model_module": "@jupyter-widgets/controls",
      "model_module_version": "1.0.0",
      "model_name": "DescriptionStyleModel",
      "state": {
       "description_width": ""
      }
     },
     "8d90978fe89143b0b0ac7a81baf3ae86": {
      "model_module": "@jupyter-widgets/base",
      "model_module_version": "1.0.0",
      "model_name": "LayoutModel",
      "state": {}
     },
     "8da7665ad16c43e5b248bae588971c7d": {
      "model_module": "@jupyter-widgets/base",
      "model_module_version": "1.0.0",
      "model_name": "LayoutModel",
      "state": {
       "height": "40px"
      }
     },
     "8e12c7b0d020461aa17084f773cd0b7d": {
      "model_module": "@jupyter-widgets/controls",
      "model_module_version": "1.0.0",
      "model_name": "ButtonModel",
      "state": {
       "icon": "forward",
       "layout": "IPY_MODEL_70eeb2007a094087a3f126e2f2ba2458",
       "style": "IPY_MODEL_309d23bc0c4e486eab5a4bb6015896e9"
      }
     },
     "8e155813edf848108eba242e319fa074": {
      "model_module": "@jupyter-widgets/controls",
      "model_module_version": "1.0.0",
      "model_name": "DescriptionStyleModel",
      "state": {
       "description_width": ""
      }
     },
     "8e7ea2ed848c4dd79a1c8b885c68d0ab": {
      "model_module": "@jupyter-widgets/controls",
      "model_module_version": "1.0.0",
      "model_name": "ButtonStyleModel",
      "state": {}
     },
     "8e8d467eeb9747b8b0c3ab86e070ef57": {
      "model_module": "@jupyter-widgets/base",
      "model_module_version": "1.0.0",
      "model_name": "LayoutModel",
      "state": {}
     },
     "8eeb7552f3314571a25581356e580126": {
      "model_module": "@jupyter-widgets/controls",
      "model_module_version": "1.0.0",
      "model_name": "VBoxModel",
      "state": {
       "children": [
        "IPY_MODEL_169418ae5a87459e97146b820706c306"
       ],
       "layout": "IPY_MODEL_b04f85e18d4b470e8830cee716be0d3e"
      }
     },
     "8f04c0923f2c4d39bc7bdeafbc57ff81": {
      "model_module": "@jupyter-widgets/controls",
      "model_module_version": "1.0.0",
      "model_name": "DescriptionStyleModel",
      "state": {
       "description_width": ""
      }
     },
     "8f237ca80f5d49f19f81af116df90c7d": {
      "model_module": "@jupyter-widgets/controls",
      "model_module_version": "1.0.0",
      "model_name": "IntTextModel",
      "state": {
       "description": "Leftmost color maps to:",
       "layout": "IPY_MODEL_800084e244254c199c3a23b8d165d03d",
       "step": 1,
       "style": "IPY_MODEL_68a605faf0294ac0b999fbb504c9f82f"
      }
     },
     "8f65f58687ad459fbe7bd247db628c9d": {
      "model_module": "@jupyter-widgets/controls",
      "model_module_version": "1.0.0",
      "model_name": "HTMLModel",
      "state": {
       "layout": "IPY_MODEL_6664f6eeb6e34901b7ac4f5e4eec7a90",
       "style": "IPY_MODEL_1321408a4bf24d9ba8cb0a6bfe68d2b6",
       "value": "<p><hr/><h3>maxpool1 bank:</h3></p>"
      }
     },
     "8fc1bb1cbb264e4b8b4789c25e9f283d": {
      "model_module": "@jupyter-widgets/controls",
      "model_module_version": "1.0.0",
      "model_name": "HBoxModel",
      "state": {
       "children": [
        "IPY_MODEL_3bc36afe8ea8461c954bad2ef3f61320",
        "IPY_MODEL_422b90c787984bd7ab88455dcbfb1b8e"
       ],
       "layout": "IPY_MODEL_287b864dbb264967b63bfe252e63ae55"
      }
     },
     "8fc6e262043e4db782e09446d736fb9c": {
      "model_module": "@jupyter-widgets/base",
      "model_module_version": "1.0.0",
      "model_name": "LayoutModel",
      "state": {}
     },
     "8fd73568d5b64ae8aefdfc0c9bd1ea9c": {
      "model_module": "@jupyter-widgets/base",
      "model_module_version": "1.0.0",
      "model_name": "LayoutModel",
      "state": {
       "width": "100%"
      }
     },
     "9092752624574c64b5397130fc6f22b9": {
      "model_module": "@jupyter-widgets/base",
      "model_module_version": "1.0.0",
      "model_name": "LayoutModel",
      "state": {
       "width": "95%"
      }
     },
     "910b79b8ebd44daeabbd4a85c632ca07": {
      "model_module": "@jupyter-widgets/controls",
      "model_module_version": "1.0.0",
      "model_name": "DescriptionStyleModel",
      "state": {
       "description_width": "initial"
      }
     },
     "91f05124250140fca4a3ae2e5c0d1973": {
      "model_module": "@jupyter-widgets/base",
      "model_module_version": "1.0.0",
      "model_name": "LayoutModel",
      "state": {}
     },
     "9200d577b9c84c7887e84ed54718318e": {
      "model_module": "@jupyter-widgets/base",
      "model_module_version": "1.0.0",
      "model_name": "LayoutModel",
      "state": {
       "width": "95%"
      }
     },
     "922e1915b6c343fd81cc3f7c076483bc": {
      "model_module": "@jupyter-widgets/base",
      "model_module_version": "1.0.0",
      "model_name": "LayoutModel",
      "state": {
       "width": "100%"
      }
     },
     "92aa7046ffde4f2580752805188dc8c2": {
      "model_module": "@jupyter-widgets/controls",
      "model_module_version": "1.0.0",
      "model_name": "HBoxModel",
      "state": {
       "children": [
        "IPY_MODEL_223a838715ec40b883c08af9ed6aba6c",
        "IPY_MODEL_167be61f6c1746b9a726a474bb2df928"
       ],
       "layout": "IPY_MODEL_ba65f2b42b5e4b659236d89677aa3642"
      }
     },
     "931e909aebe34f298784e14d87add0a9": {
      "model_module": "@jupyter-widgets/controls",
      "model_module_version": "1.0.0",
      "model_name": "DescriptionStyleModel",
      "state": {
       "description_width": ""
      }
     },
     "934eef65e551423d897e7c8db411391e": {
      "model_module": "@jupyter-widgets/controls",
      "model_module_version": "1.0.0",
      "model_name": "SelectModel",
      "state": {
       "_options_labels": [
        "",
        "Accent",
        "Accent_r",
        "Blues",
        "Blues_r",
        "BrBG",
        "BrBG_r",
        "BuGn",
        "BuGn_r",
        "BuPu",
        "BuPu_r",
        "CMRmap",
        "CMRmap_r",
        "Dark2",
        "Dark2_r",
        "GnBu",
        "GnBu_r",
        "Greens",
        "Greens_r",
        "Greys",
        "Greys_r",
        "OrRd",
        "OrRd_r",
        "Oranges",
        "Oranges_r",
        "PRGn",
        "PRGn_r",
        "Paired",
        "Paired_r",
        "Pastel1",
        "Pastel1_r",
        "Pastel2",
        "Pastel2_r",
        "PiYG",
        "PiYG_r",
        "PuBu",
        "PuBuGn",
        "PuBuGn_r",
        "PuBu_r",
        "PuOr",
        "PuOr_r",
        "PuRd",
        "PuRd_r",
        "Purples",
        "Purples_r",
        "RdBu",
        "RdBu_r",
        "RdGy",
        "RdGy_r",
        "RdPu",
        "RdPu_r",
        "RdYlBu",
        "RdYlBu_r",
        "RdYlGn",
        "RdYlGn_r",
        "Reds",
        "Reds_r",
        "Set1",
        "Set1_r",
        "Set2",
        "Set2_r",
        "Set3",
        "Set3_r",
        "Spectral",
        "Spectral_r",
        "Vega10",
        "Vega10_r",
        "Vega20",
        "Vega20_r",
        "Vega20b",
        "Vega20b_r",
        "Vega20c",
        "Vega20c_r",
        "Wistia",
        "Wistia_r",
        "YlGn",
        "YlGnBu",
        "YlGnBu_r",
        "YlGn_r",
        "YlOrBr",
        "YlOrBr_r",
        "YlOrRd",
        "YlOrRd_r",
        "afmhot",
        "afmhot_r",
        "autumn",
        "autumn_r",
        "binary",
        "binary_r",
        "bone",
        "bone_r",
        "brg",
        "brg_r",
        "bwr",
        "bwr_r",
        "cool",
        "cool_r",
        "coolwarm",
        "coolwarm_r",
        "copper",
        "copper_r",
        "cubehelix",
        "cubehelix_r",
        "flag",
        "flag_r",
        "gist_earth",
        "gist_earth_r",
        "gist_gray",
        "gist_gray_r",
        "gist_heat",
        "gist_heat_r",
        "gist_ncar",
        "gist_ncar_r",
        "gist_rainbow",
        "gist_rainbow_r",
        "gist_stern",
        "gist_stern_r",
        "gist_yarg",
        "gist_yarg_r",
        "gnuplot",
        "gnuplot2",
        "gnuplot2_r",
        "gnuplot_r",
        "gray",
        "gray_r",
        "hot",
        "hot_r",
        "hsv",
        "hsv_r",
        "inferno",
        "inferno_r",
        "jet",
        "jet_r",
        "magma",
        "magma_r",
        "nipy_spectral",
        "nipy_spectral_r",
        "ocean",
        "ocean_r",
        "pink",
        "pink_r",
        "plasma",
        "plasma_r",
        "prism",
        "prism_r",
        "rainbow",
        "rainbow_r",
        "seismic",
        "seismic_r",
        "spectral",
        "spectral_r",
        "spring",
        "spring_r",
        "summer",
        "summer_r",
        "tab10",
        "tab10_r",
        "tab20",
        "tab20_r",
        "tab20b",
        "tab20b_r",
        "tab20c",
        "tab20c_r",
        "terrain",
        "terrain_r",
        "viridis",
        "viridis_r",
        "winter",
        "winter_r"
       ],
       "description": "Colormap:",
       "index": 0,
       "layout": "IPY_MODEL_af966ba6c22449cc8a140effb55ca6ed",
       "rows": 1,
       "style": "IPY_MODEL_b8b932a2c8aa48a5b33fc34c3ae49fca"
      }
     },
     "935237567a144977a4e81396580326df": {
      "model_module": "@jupyter-widgets/base",
      "model_module_version": "1.0.0",
      "model_name": "LayoutModel",
      "state": {}
     },
     "936cb485ebae47aa9b2c902a068234ef": {
      "model_module": "@jupyter-widgets/controls",
      "model_module_version": "1.0.0",
      "model_name": "HBoxModel",
      "state": {
       "children": [
        "IPY_MODEL_0d27a1fdc6d449f9bf031b59a917c2c9",
        "IPY_MODEL_dc9033b517b24a8a864838cc0d79e990",
        "IPY_MODEL_d1763b0b9a6047d58f66e442eb91c04a"
       ],
       "layout": "IPY_MODEL_8da7665ad16c43e5b248bae588971c7d"
      }
     },
     "938c81d7a77c407abf086148cbd8d9e3": {
      "model_module": "@jupyter-widgets/controls",
      "model_module_version": "1.0.0",
      "model_name": "ButtonStyleModel",
      "state": {}
     },
     "93ccd4bdd94846c8b4c106ef28b6c4b6": {
      "model_module": "@jupyter-widgets/controls",
      "model_module_version": "1.0.0",
      "model_name": "DescriptionStyleModel",
      "state": {
       "description_width": ""
      }
     },
     "94784a55f671409191b9c43ae38e1e0b": {
      "model_module": "@jupyter-widgets/controls",
      "model_module_version": "1.0.0",
      "model_name": "IntSliderModel",
      "state": {
       "continuous_update": false,
       "description": "Dataset index",
       "layout": "IPY_MODEL_9092752624574c64b5397130fc6f22b9",
       "max": 69999,
       "style": "IPY_MODEL_13ab8921aac049d18fe34e264f27cc8d",
       "value": 3
      }
     },
     "949d98c569a04ce48d2ca75e14e7b98a": {
      "model_module": "@jupyter-widgets/base",
      "model_module_version": "1.0.0",
      "model_name": "LayoutModel",
      "state": {}
     },
     "94a57465b9594a15a509c9d692e291d2": {
      "model_module": "@jupyter-widgets/controls",
      "model_module_version": "1.0.0",
      "model_name": "HBoxModel",
      "state": {
       "children": [
        "IPY_MODEL_db6a225c06bb49b8a155b72beeb500d4",
        "IPY_MODEL_1d5fc82524cd4640975d21605c4cfb64",
        "IPY_MODEL_e193ed58d7db4f0cad8d5d50c0e23216",
        "IPY_MODEL_77c882147151451a8e6ebf3c587bebf4",
        "IPY_MODEL_f40ba9cd60ed427ab9044d635b952144",
        "IPY_MODEL_fbf06903ba3a48ba924cf6f346464d64"
       ],
       "layout": "IPY_MODEL_6483cacfa211462e9aa1f2ae2e7fbfd8"
      }
     },
     "95163bf4b85746b09b9c1b22f8b5ec15": {
      "model_module": "@jupyter-widgets/controls",
      "model_module_version": "1.0.0",
      "model_name": "IntTextModel",
      "state": {
       "description": "Leftmost color maps to:",
       "layout": "IPY_MODEL_3f729940ae1a4ecab9fe6f566160d4f4",
       "step": 1,
       "style": "IPY_MODEL_6d532fa16b754c039041b54685957477",
       "value": -1
      }
     },
     "95f4f462bc3f4ac5b3f45f4afd4a6410": {
      "model_module": "@jupyter-widgets/base",
      "model_module_version": "1.0.0",
      "model_name": "LayoutModel",
      "state": {}
     },
     "9606867aa6ce49e781d84b9043b78bad": {
      "model_module": "@jupyter-widgets/controls",
      "model_module_version": "1.0.0",
      "model_name": "HBoxModel",
      "state": {
       "children": [
        "IPY_MODEL_6d211c034e8e4d92878d9aad81e4ac74",
        "IPY_MODEL_1cc78ab2c69f4b31a6c4d638671b1ffb"
       ],
       "layout": "IPY_MODEL_7138eab5eecb4080807eec4a968a9351"
      }
     },
     "966511b3110b46e7925f1d04669062a0": {
      "model_module": "@jupyter-widgets/base",
      "model_module_version": "1.0.0",
      "model_name": "LayoutModel",
      "state": {
       "width": "100%"
      }
     },
     "9676a86d2a7a471b88b233731e916a0f": {
      "model_module": "@jupyter-widgets/controls",
      "model_module_version": "1.0.0",
      "model_name": "DescriptionStyleModel",
      "state": {
       "description_width": "initial"
      }
     },
     "96941c8ec2b248e3a5f0f1ff20167eba": {
      "model_module": "@jupyter-widgets/controls",
      "model_module_version": "1.0.0",
      "model_name": "IntTextModel",
      "state": {
       "description": "Rightmost color maps to:",
       "layout": "IPY_MODEL_7ce16169f1a14ed89e55ec95584e53aa",
       "step": 1,
       "style": "IPY_MODEL_b1a6f29166f24704a684544a1535793c",
       "value": 1
      }
     },
     "96f6aa5add0f4d59bbed117d908c3f78": {
      "model_module": "@jupyter-widgets/base",
      "model_module_version": "1.0.0",
      "model_name": "LayoutModel",
      "state": {
       "width": "95%"
      }
     },
     "9700294012ba426aa65c08db2c40d99a": {
      "model_module": "@jupyter-widgets/controls",
      "model_module_version": "1.0.0",
      "model_name": "DescriptionStyleModel",
      "state": {
       "description_width": ""
      }
     },
     "9759f8b3bc934d148993efa975c3e766": {
      "model_module": "@jupyter-widgets/controls",
      "model_module_version": "1.0.0",
      "model_name": "DescriptionStyleModel",
      "state": {
       "description_width": "initial"
      }
     },
     "9764c9456cf9424897e9f72b09fb2fed": {
      "model_module": "@jupyter-widgets/controls",
      "model_module_version": "1.0.0",
      "model_name": "IntTextModel",
      "state": {
       "layout": "IPY_MODEL_7b276c05d3804609bb885a68a536f886",
       "step": 1,
       "style": "IPY_MODEL_014ce01c27864cd8a0e30ec591a3bec8"
      }
     },
     "97793a7d664a4bb0b6419354182921f3": {
      "model_module": "@jupyter-widgets/controls",
      "model_module_version": "1.0.0",
      "model_name": "DescriptionStyleModel",
      "state": {
       "description_width": "initial"
      }
     },
     "97c859ff13d148df87e60482c5257b5e": {
      "model_module": "@jupyter-widgets/controls",
      "model_module_version": "1.0.0",
      "model_name": "HTMLModel",
      "state": {
       "layout": "IPY_MODEL_3fd9e18e98444563bf64807686f94f48",
       "style": "IPY_MODEL_1a51ef9e5a7f41a1b34beb809d5068cc",
       "value": "\n<table align=\"center\" style=\"width: 100%;\">\n <tr>\n  <td valign=\"top\"><p style=\"text-align:center\"><svg id='Auto-Encoding with Conv' xmlns='http://www.w3.org/2000/svg' viewBox=\"0 0 350 1460\" height=\"1326.0\" image-rendering=\"pixelated\">\n    <defs>\n        <marker id=\"arrow\" markerWidth=\"10\" markerHeight=\"10\" refX=\"9\" refY=\"3\" orient=\"auto\" markerUnits=\"strokeWidth\">\n          <path d=\"M0,0 L0,6 L9,3 z\" fill=\"black\" />\n        </marker>\n    </defs><text x=\"175.0\" y=\"12.5\" font-family=\"monospace\" font-size=\"15\" text-anchor=\"middle\" alignment-baseline=\"central\">Auto-Encoding with Conv</text><rect x=\"74.0\" y=\"29\" width=\"202\" height=\"202\" style=\"fill:none;stroke:black;stroke-width:2\"/><image id=\"Auto-Encoding with Conv_output_64\" class=\"Auto-Encoding with Conv_output\" x=\"75.0\" y=\"30\" height=\"200\" width=\"200\" preserveAspectRatio=\"none\" href=\"data:image/gif;base64,R0lGODdhHAAcAIcAAP78/ZKS/+Pj/6mp/7Gx/9nZ/wAAAAAAAAAAAAAAAAAAAAAAAAAAAAAAAAAAAAAAAAAAAAAAAAAAAAAAAAAAAAAAAAAAAAAAAAAAAAAAAAAAAAAAAAAAAAAAAAAAAAAAAAAAAAAAAAAAAAAAAAAAAAAAAAAAAAAAAAAAAAAAAAAAAAAAAAAAAAAAAAAAAAAAAAAAAAAAAAAAAAAAAAAAAAAAAAAAAAAAAAAAAAAAAAAAAAAAAAAAAAAAAAAAAAAAAAAAAAAAAAAAAAAAAAAAAAAAAAAAAAAAAAAAAAAAAAAAAAAAAAAAAAAAAAAAAAAAAAAAAAAAAAAAAAAAAAAAAAAAAAAAAAAAAAAAAAAAAAAAAAAAAAAAAAAAAAAAAAAAAAAAAAAAAAAAAAAAAAAAAAAAAAAAAAAAAAAAAAAAAAAAAAAAAAAAAAAAAAAAAAAAAAAAAAAAAAAAAAAAAAAAAAAAAAAAAAAAAAAAAAAAAAAAAAAAAAAAAAAAAAAAAAAAAAAAAAAAAAAAAAAAAAAAAAAAAAAAAAAAAAAAAAAAAAAAAAAAAAAAAAAAAAAAAAAAAAAAAAAAAAAAAAAAAAAAAAAAAAAAAAAAAAAAAAAAAAAAAAAAAAAAAAAAAAAAAAAAAAAAAAAAAAAAAAAAAAAAAAAAAAAAAAAAAAAAAAAAAAAAAAAAAAAAAAAAAAAAAAAAAAAAAAAAAAAAAAAAAAAAAAAAAAAAAAAAAAAAAAAAAAAAAAAAAAAAAAAAAAAAAAAAAAAAAAAAAAAAAAAAAAAAAAAAAAAAAAAAAAAAAAAAAAAAAAAAAAAAAAAAAAAAAAAAAAAAAAAAAAAAAAAAAAAAAAAAAAAAAAAAAAAAAAAAAAAAAAAAAAAAAAAAAAAAAAAAAAAAAAAAAAAAAAAAAAAAAAAAAAAAAAAAAAAAAAAAAAAAAAAAAAAAAAAAAAAAAAAAAAAAAAAAAAAAAAAAAAAAAAAAAAAAAAAAAAAAAAAAAAAAAAAAAAAAAAAAAAAAAAAAACwAAAAAHAAcAEAIagABCBxIsKDBgwgLBgAgAIDDhxAjSpxIsaLFixgzatzIsaPHjyBDihxJ0mEBAgEAqFzJsqXLlzBjypxJs6bNmzhZDgDAs6fPn0CDCh1KtKhRoAIAKF3KtKnTp1CjSp1KtarVq1izat26NSAAOw==\"><title>Layer: output (output)\n shape = (784,)\n Keras class = Dense\n activation = softmax</title></image><text x=\"280.0\" y=\"132.0\" font-family=\"monospace\" font-size=\"12\" text-anchor=\"start\" alignment-baseline=\"central\">output</text><line x1=\"175.0\" y1=\"259\" x2=\"175.0\" y2=\"232\" stroke=\"black\" stroke-width=\"2\" marker-end=\"url(#arrow)\"><title>Weights from flatten to output\n output/kernel has shape (2112, 784)\n output/bias has shape (784,)</title></line><rect x=\"74.0\" y=\"259\" width=\"202\" height=\"27\" style=\"fill:none;stroke:black;stroke-width:2\"/><image id=\"Auto-Encoding with Conv_flatten_65\" class=\"Auto-Encoding with Conv_flatten\" x=\"75.0\" y=\"260\" height=\"25\" width=\"200\" preserveAspectRatio=\"none\" href=\"data:image/gif;base64,R0lGODdhQAgBAIcAAAAATP78/QAArwEB8wAAcAAAzgAAj2Zm/xYW/zU1/1ZW/yYm/3h4/7a2/+Tk/4eH/5eX/9bW/6am/0ZG/8fH/wAAAAAAAAAAAAAAAAAAAAAAAAAAAAAAAAAAAAAAAAAAAAAAAAAAAAAAAAAAAAAAAAAAAAAAAAAAAAAAAAAAAAAAAAAAAAAAAAAAAAAAAAAAAAAAAAAAAAAAAAAAAAAAAAAAAAAAAAAAAAAAAAAAAAAAAAAAAAAAAAAAAAAAAAAAAAAAAAAAAAAAAAAAAAAAAAAAAAAAAAAAAAAAAAAAAAAAAAAAAAAAAAAAAAAAAAAAAAAAAAAAAAAAAAAAAAAAAAAAAAAAAAAAAAAAAAAAAAAAAAAAAAAAAAAAAAAAAAAAAAAAAAAAAAAAAAAAAAAAAAAAAAAAAAAAAAAAAAAAAAAAAAAAAAAAAAAAAAAAAAAAAAAAAAAAAAAAAAAAAAAAAAAAAAAAAAAAAAAAAAAAAAAAAAAAAAAAAAAAAAAAAAAAAAAAAAAAAAAAAAAAAAAAAAAAAAAAAAAAAAAAAAAAAAAAAAAAAAAAAAAAAAAAAAAAAAAAAAAAAAAAAAAAAAAAAAAAAAAAAAAAAAAAAAAAAAAAAAAAAAAAAAAAAAAAAAAAAAAAAAAAAAAAAAAAAAAAAAAAAAAAAAAAAAAAAAAAAAAAAAAAAAAAAAAAAAAAAAAAAAAAAAAAAAAAAAAAAAAAAAAAAAAAAAAAAAAAAAAAAAAAAAAAAAAAAAAAAAAAAAAAAAAAAAAAAAAAAAAAAAAAAAAAAAAAAAAAAAAAAAAAAAAAAAAAAAAAAAAAAAAAAAAAAAAAAAAAAAAAAAAAAAAAAAAAAAAAAAAAAAAAAAAAAAAAAAAAAAAAAAAAAAAAAAAAAAAAAAAAAAAAAAAAAAAAAAAAAAAAAAAAAAAAAAAAAAAAAAAAAAAAAAAAAAAAAAAAAAAAAAAAAAAAAAAAAAAAAAAAAAAAAAAAAAAAAAAAAAAAAAAAAAAAAAAAAAAAAAAAACwAAAAAQAgBAAAI/wABDBAAAEIBAAUQEACAYACAhwgAAChAAYDFAAEABHgAoECBAQAAHCgQoCQAAwAMACAQAEAAAAACAJgZAIBNAAkOADAAQACAnz8LBAAQIAABAAMAKF1KYIABAwAMACCAIAAAAAMAABAAwACArwAEBACQAIAAAQEIEAhQYIABAHABCAggYEGBAQAADBAAIAAAAAEOPABAgACAw4gTAwgQAMADAAMMAAgAAEAACQEyA9g8QEACAQACAAAQAIDpAABSAyhAAIDr164RABgAIEAAAAAKANjNG4ACAQCCAwgAoPgCAMiTKzcQAEABAAQIBCAAYQIBAgkAaNc+AQACAOABEP+YACAAAQABCgQQAKB9ewEA4ssHECAAAAMABAwYEAAAAYABBAoEYADAgQABAACIAKBAAAARAwCgCKAAAIwEAGzciACAAQIBAhgAsACAAQApU0YYAEAAAAABAMxEUADATZwACAAgEABAAgAEDAQwEMBAAgMBBABgCqAAgAAApAJYAAFABAEACggIUKAAALAABgAgmwBAAQABIgAQIKCAAQYBAASgWxfAAwANAgQwAKABgAEBAAwOYAAAAAIFDAAAMEAAAMgAFABQMCBAAAkAFhAQAACAAQAAGggYUAAAgAcAAAgYQAEAgAICAAAQgADAgAAADgwoUCDAgQAIAhwIUGD/wAAABAgIeADAOYADAQYEEACAAADsBQgIAACAAgAABiIICAAgQAAAAQYYcCAAAIACAALMPyAgAAD8AQIAGBBAAMAAAAAECABgAAAFBRgQOABgwAEDACYKCIDAAQQKBQIA6OgRAAMBAEYKADBAAgEAEQCwBDAAAIACABYEABCgwIABERAACNAggAAABAQAKBBAwIACEQAAEFAAQAAAUgkQGAABAFYAAwBwDQBAAYAAAQAkIDABAAABABAEKBAggAQAFAAYIOBgAIAJAQAEAAAgQAAAggEQEADgAQADABYzDmCAgQMFAAoAqGwZgAEAmgEQAOCZgAEBAEYLAGDaNIMA/wAIAIAAIYAAAAFmDwBAYAGA3LoDEACAgICAAQQAFAgggEECAMoBCAAgAIAAAAAQBAgA4DoCAAAKADgQAECA8ADGF4gQgAAAAAESBAAAwEAAAPIBCBgAIIABAgAIAABQACAACAMETBAAgAAAAAYANARQAEBEAAIEAABQIAACAAAGBAAAoAAAAAECAABAIEKAAAYQUJAAIACAAQUA1LSJQICAAgceRGAAQEGAAQEaGABAAAAFAAEGAHAaACoBAAMaCBhQAMCCAAsCBEgAAGyCAAEEEAAQAK2ABQ4CSBBAYICABAYkDBhAYYCBAQAACHAAAAEBAgIOTDggAEBiBgQGAP8AgGCAAQARAjwAAMBBgAIAAggAMEEBAAADAjgIYEDAgAYAAhBokABA7AECABSI8CBCgAcHJAAwcADAAAQFDhQQEADBAQYRFkhAECCAAAYQAARwAIBBAQEAAgRooOABgAECAgRIACAAgwAFBigIQKDBBAUHHBAIMOCAgwMGBhCQADCBgAYKBiigMMDAgAEGBgwIIEBBgQETAEiQMAFAAAIAFCBosMBBAgAMAgB4MODAgAcQCAQYEGFAAQgCCEgIMEDBgAECABhYMCEAAQAAAgAAcAAAAQIAFAAAIKABAAULAgQAIGEAgK1cAwAIABbAAQBkEVAAACAAgAAAADAIAID/AAAAAhoAeAAAgAAAfAEMOEBAQQAAAgQAOIwYAAEAjAEQAJDgAAEDBgAAKGBgAQADAAAUCAAgdAAEAQAACGAgAAEABQwAIGCggAADAQwAAEAAAAMDAAoEAEAAggAAxAUAOG4AAAABAQIAKEBgAQAAAQAACAAggHYA3AEIQCAAQAEAAAIAOB8AgHoABgQAEAAgvvz4DwAMCAAgPwADAPr7BwhAoEAHAAwGAJCwgAAAAAgAAFAgAACKARgEAADgQQIAAgAAEABAJAACABQYAAAAAgAEDwAEgNlgwAEANQkAwJnTQIAABQAIIDBgQAAACgIsCJAUwFIHAQIAACABQIAA/wAMAAhQAMDWBAYAFFgwAAAAAQIkAAAggEEAAAAIEAiwYIABAAAoOBCgwICAAAAATAgAwACAAxMAAGAgIIACCAAAGCiAIICAAAASAAigoEACAJ0HLAAAgAAAAgMAJKAAIEEAAAIWSABQAIAAAAAQCACQO0AAAAgaAGBQQAAAAAEABEAOAIAAAgMMOCgAAMCAAACsBwAAoACABhIAEAAgQAAA8gAEDADAIAAAAAUEHAAQnwCAAQYICBgAAMKDBQgCAAQgcAABAAIOAIhgwAGAhgcSBAAwgAEAAAIMAMhIYACBAQQMAAgJAUCAAQACQABgAMABAC4LAIgpE0CAAAAiDP8g4AAAAQAAAgAIIBQAUQAGBBAAQABAgwAAngYAIBVAAQIArhoAoHXrAAAHAgAAMACAAABmzS6YQAAAWwcEAAh4AGAuXQAFAAQAEACAAAAGAAQAAEAAAAICACBGPACAAACOHTcAEAAAgAADAgggAGAzgAEAPoMGECAAgAQEAgAAEAAAgACuXQOIAADAAggAAAQAICEAAAACAgAIDoAAgOLGjwMQUCBCAAAAFACILh3AgAEArgMIAGD7AgDeCQAIL55AAAAFACgAEAAAgAEHAjQAIF/+AAACAAgAAADCAAD+AQIQQIGCAwkAEAIwAEAAgAYAAAgI8AAAgAEEACBoACBqQAAFAUACEBmAJAAABQAwCAAAQIEABgDETFDAgIACAgBMECAgAIACECIEYACgAIEGCggAUEoBQIECAAoMIAAAwQIEAAAcCAAAwIQCABwEAEBgwgAHAQ4ESBAAQAADEAIAAGBgAAMAAAgEBAA7\"><title>Layer: flatten (hidden)\n Keras class = Flatten</title></image><text x=\"280.0\" y=\"274.5\" font-family=\"monospace\" font-size=\"12\" text-anchor=\"start\" alignment-baseline=\"central\">flatten</text><line x1=\"175.0\" y1=\"314\" x2=\"175.0\" y2=\"287\" stroke=\"black\" stroke-width=\"2\" marker-end=\"url(#arrow)\"><title>Weights from maxpool2 to flatten</title></line><rect x=\"74.0\" y=\"314\" width=\"202\" height=\"202\" style=\"fill:none;stroke:black;stroke-width:2\"/><image id=\"Auto-Encoding with Conv_maxpool2_66\" class=\"Auto-Encoding with Conv_maxpool2\" x=\"75.0\" y=\"315\" height=\"200\" width=\"200\" preserveAspectRatio=\"none\" href=\"data:image/gif;base64,R0lGODdhBAAEAIcAAAAATAAAqI2N/wAAAAAAAAAAAAAAAAAAAAAAAAAAAAAAAAAAAAAAAAAAAAAAAAAAAAAAAAAAAAAAAAAAAAAAAAAAAAAAAAAAAAAAAAAAAAAAAAAAAAAAAAAAAAAAAAAAAAAAAAAAAAAAAAAAAAAAAAAAAAAAAAAAAAAAAAAAAAAAAAAAAAAAAAAAAAAAAAAAAAAAAAAAAAAAAAAAAAAAAAAAAAAAAAAAAAAAAAAAAAAAAAAAAAAAAAAAAAAAAAAAAAAAAAAAAAAAAAAAAAAAAAAAAAAAAAAAAAAAAAAAAAAAAAAAAAAAAAAAAAAAAAAAAAAAAAAAAAAAAAAAAAAAAAAAAAAAAAAAAAAAAAAAAAAAAAAAAAAAAAAAAAAAAAAAAAAAAAAAAAAAAAAAAAAAAAAAAAAAAAAAAAAAAAAAAAAAAAAAAAAAAAAAAAAAAAAAAAAAAAAAAAAAAAAAAAAAAAAAAAAAAAAAAAAAAAAAAAAAAAAAAAAAAAAAAAAAAAAAAAAAAAAAAAAAAAAAAAAAAAAAAAAAAAAAAAAAAAAAAAAAAAAAAAAAAAAAAAAAAAAAAAAAAAAAAAAAAAAAAAAAAAAAAAAAAAAAAAAAAAAAAAAAAAAAAAAAAAAAAAAAAAAAAAAAAAAAAAAAAAAAAAAAAAAAAAAAAAAAAAAAAAAAAAAAAAAAAAAAAAAAAAAAAAAAAAAAAAAAAAAAAAAAAAAAAAAAAAAAAAAAAAAAAAAAAAAAAAAAAAAAAAAAAAAAAAAAAAAAAAAAAAAAAAAAAAAAAAAAAAAAAAAAAAAAAAAAAAAAAAAAAAAAAAAAAAAAAAAAAAAAAAAAAAAAAAAAAAAAAAAAAAAAAAAAAAAAAAAAAAAAAAAAAAAAAAAAAAAAAAAAAAAAAAAAAAAAAAAAAAAAAAAAAAAAAAAAAAAAAAAAAAAAAAAAAAAAAAAAAAAAAAAAAAAAAAAAAAAAAAAAAAAAAAAAAAAAAAAAAAAAAAAAAAAAAAAAAAAAAAAAAAAAAAAAACwAAAAABAAEAAAIDgABCBwIIIAAAAgTAggIADs=\"><title>Layer: maxpool2 (hidden)\n Keras class = MaxPooling2D</title></image><text x=\"280.0\" y=\"417.0\" font-family=\"monospace\" font-size=\"12\" text-anchor=\"start\" alignment-baseline=\"central\">maxpool2</text><text x=\"280.0\" y=\"320\" font-family=\"monospace\" font-size=\"12\" text-anchor=\"start\" alignment-baseline=\"central\">132</text><text x=\"63.0\" y=\"510\" font-family=\"monospace\" font-size=\"12\" text-anchor=\"start\" alignment-baseline=\"central\">0</text><line x1=\"175.0\" y1=\"544\" x2=\"175.0\" y2=\"517\" stroke=\"black\" stroke-width=\"2\" marker-end=\"url(#arrow)\"><title>Weights from Conv2D-2 to maxpool2</title></line><rect x=\"74.0\" y=\"544\" width=\"202\" height=\"202\" style=\"fill:none;stroke:black;stroke-width:2\"/><image id=\"Auto-Encoding with Conv_Conv2D-2_67\" class=\"Auto-Encoding with Conv_Conv2D-2\" x=\"75.0\" y=\"545\" height=\"200\" width=\"200\" preserveAspectRatio=\"none\" href=\"data:image/gif;base64,R0lGODdhCAAIAIcAAAAATAAAqwAA7gAAc/37/QAAkwAA3BAQ/ygo/zg4/3V1/42N/7m5/wAAAAAAAAAAAAAAAAAAAAAAAAAAAAAAAAAAAAAAAAAAAAAAAAAAAAAAAAAAAAAAAAAAAAAAAAAAAAAAAAAAAAAAAAAAAAAAAAAAAAAAAAAAAAAAAAAAAAAAAAAAAAAAAAAAAAAAAAAAAAAAAAAAAAAAAAAAAAAAAAAAAAAAAAAAAAAAAAAAAAAAAAAAAAAAAAAAAAAAAAAAAAAAAAAAAAAAAAAAAAAAAAAAAAAAAAAAAAAAAAAAAAAAAAAAAAAAAAAAAAAAAAAAAAAAAAAAAAAAAAAAAAAAAAAAAAAAAAAAAAAAAAAAAAAAAAAAAAAAAAAAAAAAAAAAAAAAAAAAAAAAAAAAAAAAAAAAAAAAAAAAAAAAAAAAAAAAAAAAAAAAAAAAAAAAAAAAAAAAAAAAAAAAAAAAAAAAAAAAAAAAAAAAAAAAAAAAAAAAAAAAAAAAAAAAAAAAAAAAAAAAAAAAAAAAAAAAAAAAAAAAAAAAAAAAAAAAAAAAAAAAAAAAAAAAAAAAAAAAAAAAAAAAAAAAAAAAAAAAAAAAAAAAAAAAAAAAAAAAAAAAAAAAAAAAAAAAAAAAAAAAAAAAAAAAAAAAAAAAAAAAAAAAAAAAAAAAAAAAAAAAAAAAAAAAAAAAAAAAAAAAAAAAAAAAAAAAAAAAAAAAAAAAAAAAAAAAAAAAAAAAAAAAAAAAAAAAAAAAAAAAAAAAAAAAAAAAAAAAAAAAAAAAAAAAAAAAAAAAAAAAAAAAAAAAAAAAAAAAAAAAAAAAAAAAAAAAAAAAAAAAAAAAAAAAAAAAAAAAAAAAAAAAAAAAAAAAAAAAAAAAAAAAAAAAAAAAAAAAAAAAAAAAAAAAAAAAAAAAAAAAAAAAAAAAAAAAAAAAAAAAAAAAAAAAAAAAAAAAAAAAAAAAAAAAAAAAAAAAAAAAAAAAAAAAAAAAAAAAAAAAAAAAAAAAAAAAAAAAAAAAAAAAAAAAACwAAAAACAAIAAAIPAALABhIEEABAAgRBjCAAIBDhwEEEDAAoCKAAAIILADAEUAAAQQYBABAEoCABAIGAFgJ4MAAADBhDlAQEAA7\"><title>Layer: Conv2D-2 (hidden)\n Keras class = Conv2D\n activation = relu</title></image><text x=\"280.0\" y=\"647.0\" font-family=\"monospace\" font-size=\"12\" text-anchor=\"start\" alignment-baseline=\"central\">Conv2D-2</text><text x=\"280.0\" y=\"550\" font-family=\"monospace\" font-size=\"12\" text-anchor=\"start\" alignment-baseline=\"central\">132</text><text x=\"63.0\" y=\"740\" font-family=\"monospace\" font-size=\"12\" text-anchor=\"start\" alignment-baseline=\"central\">0</text><line x1=\"175.0\" y1=\"774\" x2=\"175.0\" y2=\"747\" stroke=\"black\" stroke-width=\"2\" marker-end=\"url(#arrow)\"><title>Weights from maxpool1 to Conv2D-2\n Conv2D-2/kernel has shape (5, 5, 16, 132)\n Conv2D-2/bias has shape (132,)</title></line><rect x=\"74.0\" y=\"774\" width=\"202\" height=\"202\" style=\"fill:none;stroke:black;stroke-width:2\"/><image id=\"Auto-Encoding with Conv_maxpool1_68\" class=\"Auto-Encoding with Conv_maxpool1\" x=\"75.0\" y=\"775\" height=\"200\" width=\"200\" preserveAspectRatio=\"none\" href=\"data:image/gif;base64,R0lGODdhDAAMAIcAAP37/Xd3/9fX/+bm/6en/8fH/2dn/5ub/7a2/zk5/1RU/0ZG/wYG9h0d/ykp/4eH/wAAAAAAAAAAAAAAAAAAAAAAAAAAAAAAAAAAAAAAAAAAAAAAAAAAAAAAAAAAAAAAAAAAAAAAAAAAAAAAAAAAAAAAAAAAAAAAAAAAAAAAAAAAAAAAAAAAAAAAAAAAAAAAAAAAAAAAAAAAAAAAAAAAAAAAAAAAAAAAAAAAAAAAAAAAAAAAAAAAAAAAAAAAAAAAAAAAAAAAAAAAAAAAAAAAAAAAAAAAAAAAAAAAAAAAAAAAAAAAAAAAAAAAAAAAAAAAAAAAAAAAAAAAAAAAAAAAAAAAAAAAAAAAAAAAAAAAAAAAAAAAAAAAAAAAAAAAAAAAAAAAAAAAAAAAAAAAAAAAAAAAAAAAAAAAAAAAAAAAAAAAAAAAAAAAAAAAAAAAAAAAAAAAAAAAAAAAAAAAAAAAAAAAAAAAAAAAAAAAAAAAAAAAAAAAAAAAAAAAAAAAAAAAAAAAAAAAAAAAAAAAAAAAAAAAAAAAAAAAAAAAAAAAAAAAAAAAAAAAAAAAAAAAAAAAAAAAAAAAAAAAAAAAAAAAAAAAAAAAAAAAAAAAAAAAAAAAAAAAAAAAAAAAAAAAAAAAAAAAAAAAAAAAAAAAAAAAAAAAAAAAAAAAAAAAAAAAAAAAAAAAAAAAAAAAAAAAAAAAAAAAAAAAAAAAAAAAAAAAAAAAAAAAAAAAAAAAAAAAAAAAAAAAAAAAAAAAAAAAAAAAAAAAAAAAAAAAAAAAAAAAAAAAAAAAAAAAAAAAAAAAAAAAAAAAAAAAAAAAAAAAAAAAAAAAAAAAAAAAAAAAAAAAAAAAAAAAAAAAAAAAAAAAAAAAAAAAAAAAAAAAAAAAAAAAAAAAAAAAAAAAAAAAAAAAAAAAAAAAAAAAAAAAAAAAAAAAAAAAAAAAAAAAAAAAAAAAAAAAAAAAAAAAAAAAAAAAAAAAAAAAAAAAAAAAAAAAAAAAAAAAAAAAAAAAAAAAAAAAACwAAAAADAAMAAAIhwABCBw4AAGBAAEEAAAg4IEBBQkWJFDgoACAiwYUBHiggEABAQBCAigwIAGBAgAKCADAEkABAAsMHBAAoKbNmgIWNDAAoKfPnggIBHAQAIDRowAGBGDQ4ACAp08HEAgQIAEDAFgBFDhgwECAAwIEABgLgECAAwQQDBgAoG1bBAgGCBgAoK7dgAA7\"><title>Layer: maxpool1 (hidden)\n Keras class = MaxPooling2D</title></image><text x=\"280.0\" y=\"877.0\" font-family=\"monospace\" font-size=\"12\" text-anchor=\"start\" alignment-baseline=\"central\">maxpool1</text><text x=\"280.0\" y=\"780\" font-family=\"monospace\" font-size=\"12\" text-anchor=\"start\" alignment-baseline=\"central\">16</text><text x=\"63.0\" y=\"970\" font-family=\"monospace\" font-size=\"12\" text-anchor=\"start\" alignment-baseline=\"central\">0</text><line x1=\"175.0\" y1=\"1004\" x2=\"175.0\" y2=\"977\" stroke=\"black\" stroke-width=\"2\" marker-end=\"url(#arrow)\"><title>Weights from Conv2D-1 to maxpool1</title></line><rect x=\"74.0\" y=\"1004\" width=\"202\" height=\"202\" style=\"fill:none;stroke:black;stroke-width:2\"/><image id=\"Auto-Encoding with Conv_Conv2D-1_69\" class=\"Auto-Encoding with Conv_Conv2D-1\" x=\"75.0\" y=\"1005\" height=\"200\" width=\"200\" preserveAspectRatio=\"none\" href=\"data:image/gif;base64,R0lGODdhGAAYAIcAAP38/efn/3d3/6am/8fH/9fX/4eH/7e3/2ho/5qa/1VV/zY2/0hI/xsb/ygo/wYG9gAAAAAAAAAAAAAAAAAAAAAAAAAAAAAAAAAAAAAAAAAAAAAAAAAAAAAAAAAAAAAAAAAAAAAAAAAAAAAAAAAAAAAAAAAAAAAAAAAAAAAAAAAAAAAAAAAAAAAAAAAAAAAAAAAAAAAAAAAAAAAAAAAAAAAAAAAAAAAAAAAAAAAAAAAAAAAAAAAAAAAAAAAAAAAAAAAAAAAAAAAAAAAAAAAAAAAAAAAAAAAAAAAAAAAAAAAAAAAAAAAAAAAAAAAAAAAAAAAAAAAAAAAAAAAAAAAAAAAAAAAAAAAAAAAAAAAAAAAAAAAAAAAAAAAAAAAAAAAAAAAAAAAAAAAAAAAAAAAAAAAAAAAAAAAAAAAAAAAAAAAAAAAAAAAAAAAAAAAAAAAAAAAAAAAAAAAAAAAAAAAAAAAAAAAAAAAAAAAAAAAAAAAAAAAAAAAAAAAAAAAAAAAAAAAAAAAAAAAAAAAAAAAAAAAAAAAAAAAAAAAAAAAAAAAAAAAAAAAAAAAAAAAAAAAAAAAAAAAAAAAAAAAAAAAAAAAAAAAAAAAAAAAAAAAAAAAAAAAAAAAAAAAAAAAAAAAAAAAAAAAAAAAAAAAAAAAAAAAAAAAAAAAAAAAAAAAAAAAAAAAAAAAAAAAAAAAAAAAAAAAAAAAAAAAAAAAAAAAAAAAAAAAAAAAAAAAAAAAAAAAAAAAAAAAAAAAAAAAAAAAAAAAAAAAAAAAAAAAAAAAAAAAAAAAAAAAAAAAAAAAAAAAAAAAAAAAAAAAAAAAAAAAAAAAAAAAAAAAAAAAAAAAAAAAAAAAAAAAAAAAAAAAAAAAAAAAAAAAAAAAAAAAAAAAAAAAAAAAAAAAAAAAAAAAAAAAAAAAAAAAAAAAAAAAAAAAAAAAAAAAAAAAAAAAAAAAAAAAAAAAAAAAAAAAAAAAAAAAAAAAAAAAAAAAAAAAAAAAAAAAAAAAAAAAAAAAAAAAAACwAAAAAGAAYAEAI/wABCBxIsKDBgwIJEAAAAAEDAwESJABAsaLFiwACBCAwQEACBAseCABAsqRJkgQQKEAgwMAAAwIUFABAs6bNmzQLHADAU4ADBQcACB0qdIAAAQkGHBhwgEAAAAACAJhKtarVAgQGGECAQIAABgsMDFDgQAEBAGjTqgVgQMEBAAACAAAQgEABAHjz6s0bIAABBg4EEABAuLDhw4YTCEgw4ICBBAUASJ4sOQCBAQMMCBBgIMGBAgEKABhNurTpAABSq17NunXrAAEIHBhAW4CABAUA6N5dYIABAQgQKFjAQIEAAwGSEygAoLlz5wEGJBBgIAAAAAIGAABAoACA7+DBE5ogACAAggUDCBAIAABAAADw48uHHwAAgAEKEAw4MKAAAIAABA4kWBBAAQAJFzRAcADAQ4gRJT48MADARQMLBBQA0NHjx48BAhAQ0OBBAwEAVK5kqTJAgAIDDAgQkOBAAgMAdO7cWYDAgQQIhAowMIBAgAAAAAQA0NTpUwABAEwtAMBqAABZtW7NWuDAgQIBAgAoEADAWbRp0QYEADs=\"><title>Layer: Conv2D-1 (hidden)\n Keras class = Conv2D\n activation = relu</title></image><text x=\"280.0\" y=\"1107.0\" font-family=\"monospace\" font-size=\"12\" text-anchor=\"start\" alignment-baseline=\"central\">Conv2D-1</text><text x=\"280.0\" y=\"1010\" font-family=\"monospace\" font-size=\"12\" text-anchor=\"start\" alignment-baseline=\"central\">16</text><text x=\"63.0\" y=\"1200\" font-family=\"monospace\" font-size=\"12\" text-anchor=\"start\" alignment-baseline=\"central\">0</text><line x1=\"175.0\" y1=\"1234\" x2=\"175.0\" y2=\"1207\" stroke=\"black\" stroke-width=\"2\" marker-end=\"url(#arrow)\"><title>Weights from input to Conv2D-1\n Conv2D-1/kernel has shape (5, 5, 1, 16)\n Conv2D-1/bias has shape (16,)</title></line><rect x=\"74.0\" y=\"1234\" width=\"202\" height=\"202\" style=\"fill:none;stroke:black;stroke-width:2\"/><image id=\"Auto-Encoding with Conv_input_70\" class=\"Auto-Encoding with Conv_input\" x=\"75.0\" y=\"1235\" height=\"200\" width=\"200\" preserveAspectRatio=\"none\" href=\"data:image/gif;base64,R0lGODdhHAAcAIcAAAoAAP//9jAAAP/8DP//z00AANcAAPMAAG4AAI0AAP+aAP9nAP/MAP//jbMAAP9yAP/pAP//T///c/8lAP9XAP+qAP//Mv82AP9EAP+/AP/WAP//vAAAAAAAAAAAAAAAAAAAAAAAAAAAAAAAAAAAAAAAAAAAAAAAAAAAAAAAAAAAAAAAAAAAAAAAAAAAAAAAAAAAAAAAAAAAAAAAAAAAAAAAAAAAAAAAAAAAAAAAAAAAAAAAAAAAAAAAAAAAAAAAAAAAAAAAAAAAAAAAAAAAAAAAAAAAAAAAAAAAAAAAAAAAAAAAAAAAAAAAAAAAAAAAAAAAAAAAAAAAAAAAAAAAAAAAAAAAAAAAAAAAAAAAAAAAAAAAAAAAAAAAAAAAAAAAAAAAAAAAAAAAAAAAAAAAAAAAAAAAAAAAAAAAAAAAAAAAAAAAAAAAAAAAAAAAAAAAAAAAAAAAAAAAAAAAAAAAAAAAAAAAAAAAAAAAAAAAAAAAAAAAAAAAAAAAAAAAAAAAAAAAAAAAAAAAAAAAAAAAAAAAAAAAAAAAAAAAAAAAAAAAAAAAAAAAAAAAAAAAAAAAAAAAAAAAAAAAAAAAAAAAAAAAAAAAAAAAAAAAAAAAAAAAAAAAAAAAAAAAAAAAAAAAAAAAAAAAAAAAAAAAAAAAAAAAAAAAAAAAAAAAAAAAAAAAAAAAAAAAAAAAAAAAAAAAAAAAAAAAAAAAAAAAAAAAAAAAAAAAAAAAAAAAAAAAAAAAAAAAAAAAAAAAAAAAAAAAAAAAAAAAAAAAAAAAAAAAAAAAAAAAAAAAAAAAAAAAAAAAAAAAAAAAAAAAAAAAAAAAAAAAAAAAAAAAAAAAAAAAAAAAAAAAAAAAAAAAAAAAAAAAAAAAAAAAAAAAAAAAAAAAAAAAAAAAAAAAAAAAAAAAAAAAAAAAAAAAAAAAAAAAAAAAAAAAAAAAAAAAAAAAAAAAAAAAAAAAAAAAAAAAAAAAAAAAAAAAAAAAAAAAAAAAAAAAAAAAAAAAAAAAAAAAAAAAACwAAAAAHAAcAEAI/wABCBxIsKDBgwcFSAjAkOEACAQIAJhIsaLFixUFHAgQYACAjyBDfnwQoGSEBQsEAFjJsqXLlzBjypwpYEAAAwBy6tzJs2fOAhckBBgawIIBAEiTKl3KtKnTpwUQHFDAIIBVqw0YBCAwwAGAr2DDghUAQEGAAwDSql3Ltm1bAwQCBMBQAIDdu3jz6rWbYAGEAAEiABhMuHBhAQwkBFgcYIABAQAiS55MubLly5gza97MufNkAaApPNBQIEMAAhQAqF7NGkCCDQFiy5Z9oHYCBABy696t20CFCQECWBAAAIECAMiTK1/O/EGAAQCiS59OvTp1BAQaVJgAoLv37+DDf1FPMCBAAAUFAKhfz769e/YB4jsAQL++/fv2EShoEKB/AIAQAAwkWNAggAIOIgRgGGCAAQARJU6kmIBBgwAZAxBYIADAR5AhRY4kWdLkSZQhAwIAOw==\"><title>Layer: input (input)\n shape = (28, 28, 1)\n Keras class = Input</title></image><text x=\"280.0\" y=\"1337.0\" font-family=\"monospace\" font-size=\"12\" text-anchor=\"start\" alignment-baseline=\"central\">input</text><text x=\"280.0\" y=\"1240\" font-family=\"monospace\" font-size=\"12\" text-anchor=\"start\" alignment-baseline=\"central\">1</text><text x=\"63.0\" y=\"1430\" font-family=\"monospace\" font-size=\"12\" text-anchor=\"start\" alignment-baseline=\"central\">0</text></svg></p></td>\n  <td valign=\"top\" align=\"center\"><p style=\"text-align:center\"><b>Conv2D-1 features</b></p><table><tr><td style=\"border: 1px solid black;\"><img style=\"image-rendering: pixelated;\" class=\"Auto-Encoding with Conv_Conv2D-1_feature0\" src=\"data:image/gif;base64,R0lGODdhMAAwAIcAAP78/ebm/9nZ/7a2/8fH/3d3/5eX/6en/4SE/1lZ/2dn/zc3/ycn/wMD9UZG/xYW/wAA2QAAAAAAAAAAAAAAAAAAAAAAAAAAAAAAAAAAAAAAAAAAAAAAAAAAAAAAAAAAAAAAAAAAAAAAAAAAAAAAAAAAAAAAAAAAAAAAAAAAAAAAAAAAAAAAAAAAAAAAAAAAAAAAAAAAAAAAAAAAAAAAAAAAAAAAAAAAAAAAAAAAAAAAAAAAAAAAAAAAAAAAAAAAAAAAAAAAAAAAAAAAAAAAAAAAAAAAAAAAAAAAAAAAAAAAAAAAAAAAAAAAAAAAAAAAAAAAAAAAAAAAAAAAAAAAAAAAAAAAAAAAAAAAAAAAAAAAAAAAAAAAAAAAAAAAAAAAAAAAAAAAAAAAAAAAAAAAAAAAAAAAAAAAAAAAAAAAAAAAAAAAAAAAAAAAAAAAAAAAAAAAAAAAAAAAAAAAAAAAAAAAAAAAAAAAAAAAAAAAAAAAAAAAAAAAAAAAAAAAAAAAAAAAAAAAAAAAAAAAAAAAAAAAAAAAAAAAAAAAAAAAAAAAAAAAAAAAAAAAAAAAAAAAAAAAAAAAAAAAAAAAAAAAAAAAAAAAAAAAAAAAAAAAAAAAAAAAAAAAAAAAAAAAAAAAAAAAAAAAAAAAAAAAAAAAAAAAAAAAAAAAAAAAAAAAAAAAAAAAAAAAAAAAAAAAAAAAAAAAAAAAAAAAAAAAAAAAAAAAAAAAAAAAAAAAAAAAAAAAAAAAAAAAAAAAAAAAAAAAAAAAAAAAAAAAAAAAAAAAAAAAAAAAAAAAAAAAAAAAAAAAAAAAAAAAAAAAAAAAAAAAAAAAAAAAAAAAAAAAAAAAAAAAAAAAAAAAAAAAAAAAAAAAAAAAAAAAAAAAAAAAAAAAAAAAAAAAAAAAAAAAAAAAAAAAAAAAAAAAAAAAAAAAAAAAAAAAAAAAAAAAAAAAAAAAAAAAAAAAAAAAAAAAAAAAAAAAAAAAAAAAAAAAAAAAAAAAAAAAAAAAAAAAAAAAAAAAACwAAAAAMAAwAEAI/wABCBxIsKDBgwgTKjwYIIAAAQQIGDBQoGKBAwcGDBAg4MCBBAkKFCBAAIDJkyhTqkwpQAAAAAECAJhJc6YDBw0aIEAAoKfPn0CD+gwQ4IDRAwMGBAgAoCmAAQMcOIAAoUEDBAgAaN3KtevWAgUePFiwIEGCAgUMqDWgQMGBAwQIBJgbgIBdAgDy6t3LVy8BAgYMBAgAoLDhwgIEBAgAoLHjx5AjS55MGYAAAQMGGDCAAEGCBAsWFChAgACA06hTq16tesCAArALIJiNYMAAALgBFCiwYMGAAQCCCx9OvLhwAQIMGDjA/ECCBAsWKFBgwECBAg0aPHgQIACA7+DDi/8XL0DAgQMJEiBAQIAAAAACBBgwkCABAgQBAgDYD4AAAYALFjBgkCCBAgUHDgBg2NDhAIgDBAgIEADARYwBNAYA0NFjxwABDhwwYIAAAQECAKxk2XKlAJgCAMykWdPmTZw5de7EGSCAAAEECAgQAMDoUaRJlS41KsCpgAEDECBQUFWBAwcMtDIoUCBAAABhxY4lW1YsAQIIEBRgWyBBggIFAMwFQIBAgQIDBgQIAMDvX8CBBf8NUDiAAAEDFA8A0NixAwcNGhgwAMDyZcyZNV8OEGDAAAKhRRswIEAAAAABAjBg0KDBgQMAZM+mXdv27AABDhxAgMCAgQIFEAxHoED/AQMGECAwYADA+XPo0aU/FyDAgAEFCg4cECAAwHcAAgQMGGDAQIIEDx4sWFCgwIEDAgQECADA/n389g0YUKDAAEADBw4QKEjgwAEFChIkQIAAAMSIEgkQSGAxwYABADZy3FigwIKQCxw4QIBgAMqUBAgIEADgJcwDBwwYGDAAAM6cOnfmDBAAANCgQAMQDQDgKNKkSgEIEDBgQIAAAKZSnRoggAEDAwYIEBDgK1gAYseSLWv2LNq0ateybev2LVy4AQIIEECAgAABAPby7ev3L+C/AgQMGGDAAAIECRIsWFCgAAECACZTrmz5MmYBmgUMGIAAgYLQChw4YGCaQYEC/wECAGjt+jXs2AACBBAggAABAwYK8C5w4MCAAQIEHDiQIEGBAgQIAGju/Dn06M4JEECAoAD2AgkSFCgA4DsAAgQKFBgwIEAAAOrXs2/vfv2AAQXmF0BgH8GAAQD2AyhQAOCCBQMGADB4EGFChQkDNAwgQMAAiQMAVLTowEGDBgYMAPD4EWRIkSMFCAAAIEAAACtZrnTgoEEDBAgA1LR5E2dOmwECDBhAAGhQAwYECAAAIEAABgwaNDhwAEBUqVOpVpUqQIABAwe4HkiQYMECBQoMGChQoEGDBw8CBADwFm5cuXPhBghw4AACBAYMFCiAADACBQoYMIAAgQEDAIsZN/92/NhxgAAHKB8YMCBAAACbAQwY4MABBAgNGiBAAAB1atWrWQMQIMCAAQUKDhwQIABAbgACBAwYYMBAggQPHixYUKDAgQMCBAQIAAB6dOnQBQg4cCBBAgQICBAAAECAAAMGEiRAgCBAAADrARAgsGABAwYJEihQcOAAAP37+RswAFCBAgMGDhwggJDAgQMKFCRIgAABgIkUKxIgkCBjggEDAHj86LFAgQcPFixIkKBAAQMsDShQcOAAAQIBagYggJMAgJ08e/r0WaDAgqELHDhAgGCA0qUECAgQACCq1AMHDBgYMACA1q1cu24dAHaAAAEBAgA4izaA2gAA2rptGyBuwIEDBgwQICBAAIC9fPvuDRAAgODBggMYDgAgseLFjAEIEDBgQIAAACpbrkyAgAEDAQIA+Az6swABAQIAOI06terVrE8HCGDAwIABAgQEuI0bgO7dvHv7/g1ct4DhAgAYP448ufLlzJs7fw4deUAAOw==\"/><br/><center>Feature 0</center></td><td style=\"border: 1px solid black;\"><img style=\"image-rendering: pixelated;\" class=\"Auto-Encoding with Conv_Conv2D-1_feature1\" src=\"data:image/gif;base64,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\"/><br/><center>Feature 1</center></td><td style=\"border: 1px solid black;\"><img style=\"image-rendering: pixelated;\" class=\"Auto-Encoding with Conv_Conv2D-1_feature2\" src=\"data:image/gif;base64,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\"/><br/><center>Feature 2</center></td></tr><tr><td style=\"border: 1px solid black;\"><img style=\"image-rendering: pixelated;\" class=\"Auto-Encoding with Conv_Conv2D-1_feature3\" src=\"data:image/gif;base64,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\"/><br/><center>Feature 3</center></td><td style=\"border: 1px solid black;\"><img style=\"image-rendering: pixelated;\" class=\"Auto-Encoding with Conv_Conv2D-1_feature4\" src=\"data:image/gif;base64,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\"/><br/><center>Feature 4</center></td><td style=\"border: 1px solid black;\"><img style=\"image-rendering: pixelated;\" class=\"Auto-Encoding with Conv_Conv2D-1_feature5\" src=\"data:image/gif;base64,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\"/><br/><center>Feature 5</center></td></tr><tr><td style=\"border: 1px solid black;\"><img style=\"image-rendering: pixelated;\" class=\"Auto-Encoding with Conv_Conv2D-1_feature6\" src=\"data:image/gif;base64,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\"/><br/><center>Feature 6</center></td><td style=\"border: 1px solid black;\"><img style=\"image-rendering: pixelated;\" class=\"Auto-Encoding with Conv_Conv2D-1_feature7\" src=\"data:image/gif;base64,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\"/><br/><center>Feature 7</center></td><td style=\"border: 1px solid black;\"><img style=\"image-rendering: pixelated;\" class=\"Auto-Encoding with Conv_Conv2D-1_feature8\" src=\"data:image/gif;base64,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\"/><br/><center>Feature 8</center></td></tr><tr><td style=\"border: 1px solid black;\"><img style=\"image-rendering: pixelated;\" class=\"Auto-Encoding with Conv_Conv2D-1_feature9\" src=\"data:image/gif;base64,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\"/><br/><center>Feature 9</center></td><td style=\"border: 1px solid black;\"><img style=\"image-rendering: pixelated;\" class=\"Auto-Encoding with Conv_Conv2D-1_feature10\" src=\"data:image/gif;base64,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\"/><br/><center>Feature 10</center></td><td style=\"border: 1px solid black;\"><img style=\"image-rendering: pixelated;\" class=\"Auto-Encoding with Conv_Conv2D-1_feature11\" src=\"data:image/gif;base64,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\"/><br/><center>Feature 11</center></td></tr><tr><td style=\"border: 1px solid black;\"><img style=\"image-rendering: pixelated;\" class=\"Auto-Encoding with Conv_Conv2D-1_feature12\" src=\"data:image/gif;base64,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\"/><br/><center>Feature 12</center></td><td style=\"border: 1px solid black;\"><img style=\"image-rendering: pixelated;\" class=\"Auto-Encoding with Conv_Conv2D-1_feature13\" src=\"data:image/gif;base64,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\"/><br/><center>Feature 13</center></td><td style=\"border: 1px solid black;\"><img style=\"image-rendering: pixelated;\" class=\"Auto-Encoding with Conv_Conv2D-1_feature14\" src=\"data:image/gif;base64,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\"/><br/><center>Feature 14</center></td></tr><tr><td style=\"border: 1px solid black;\"><img style=\"image-rendering: pixelated;\" class=\"Auto-Encoding with Conv_Conv2D-1_feature15\" src=\"data:image/gif;base64,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\"/><br/><center>Feature 15</center></td></tr></table></td>\n</tr>\n</table>"
      }
     },
     "981ea14f1e4e4888b5b512045651500e": {
      "model_module": "@jupyter-widgets/controls",
      "model_module_version": "1.0.0",
      "model_name": "DescriptionStyleModel",
      "state": {
       "description_width": ""
      }
     },
     "9824711cec954d40abc810f0680528ef": {
      "model_module": "@jupyter-widgets/controls",
      "model_module_version": "1.0.0",
      "model_name": "CheckboxModel",
      "state": {
       "description": "Visible",
       "disabled": false,
       "layout": "IPY_MODEL_5a83029a96f44ac297cdd24e5242d910",
       "style": "IPY_MODEL_e758d1609d3c485d8c4579ea253a6871",
       "value": true
      }
     },
     "98b3e44996e24bdb9769e1ff1cf7f88c": {
      "model_module": "@jupyter-widgets/controls",
      "model_module_version": "1.0.0",
      "model_name": "DescriptionStyleModel",
      "state": {
       "description_width": ""
      }
     },
     "98d0173337e34643a78455d4077d3e1d": {
      "model_module": "@jupyter-widgets/controls",
      "model_module_version": "1.0.0",
      "model_name": "VBoxModel",
      "state": {
       "children": [
        "IPY_MODEL_f1777c92195b42e7ac06502a8b0f4483",
        "IPY_MODEL_9824711cec954d40abc810f0680528ef",
        "IPY_MODEL_8a58b82c58374dd3bc5923d238fa32d6",
        "IPY_MODEL_848e1449022d41ac9c6e36309c673578",
        "IPY_MODEL_7eea1f27aa6b49079c94646c9f4b10b3"
       ],
       "layout": "IPY_MODEL_43f7447a48174e7c942b3aca4b8f237c"
      }
     },
     "992a5ff5645f49409dffe3114e09ad5c": {
      "model_module": "@jupyter-widgets/base",
      "model_module_version": "1.0.0",
      "model_name": "LayoutModel",
      "state": {
       "width": "40px"
      }
     },
     "996fedbebcc347a9bb2b44d29ad57cae": {
      "model_module": "@jupyter-widgets/controls",
      "model_module_version": "1.0.0",
      "model_name": "DescriptionStyleModel",
      "state": {
       "description_width": ""
      }
     },
     "9a0e5e8822a847b1974da3774619b55c": {
      "model_module": "@jupyter-widgets/controls",
      "model_module_version": "1.0.0",
      "model_name": "ButtonModel",
      "state": {
       "icon": "backward",
       "layout": "IPY_MODEL_81bc7097bbef4a9c8a508a0e1a78744e",
       "style": "IPY_MODEL_43b5a38b24e044eea607e3f8fe86da0c"
      }
     },
     "9aa32ac3022f4315bbbf2cf06f7041f7": {
      "model_module": "@jupyter-widgets/base",
      "model_module_version": "1.0.0",
      "model_name": "LayoutModel",
      "state": {
       "width": "95%"
      }
     },
     "9abb68a6d7db475b9efb29bd6028099f": {
      "model_module": "@jupyter-widgets/base",
      "model_module_version": "1.0.0",
      "model_name": "LayoutModel",
      "state": {}
     },
     "9ac8bbd068fa4a8d923e789ee64c1658": {
      "model_module": "@jupyter-widgets/base",
      "model_module_version": "1.0.0",
      "model_name": "LayoutModel",
      "state": {}
     },
     "9adbf81c69044f81bab758a4de0c1f53": {
      "model_module": "@jupyter-widgets/base",
      "model_module_version": "1.0.0",
      "model_name": "LayoutModel",
      "state": {
       "width": "100%"
      }
     },
     "9b78a40e178842c492d5f77c9adbe86b": {
      "model_module": "@jupyter-widgets/base",
      "model_module_version": "1.0.0",
      "model_name": "LayoutModel",
      "state": {}
     },
     "9b7ffcd464e34bcf848c2acecd9e6f77": {
      "model_module": "@jupyter-widgets/controls",
      "model_module_version": "1.0.0",
      "model_name": "ButtonStyleModel",
      "state": {}
     },
     "9b85e93b06b140f180a17f3471e44400": {
      "model_module": "@jupyter-widgets/base",
      "model_module_version": "1.0.0",
      "model_name": "LayoutModel",
      "state": {
       "width": "95%"
      }
     },
     "9c00c9eff75944f69f5c5a99c3547f51": {
      "model_module": "@jupyter-widgets/base",
      "model_module_version": "1.0.0",
      "model_name": "LayoutModel",
      "state": {}
     },
     "9c1978bea6ba4685ac524b546f7a962a": {
      "model_module": "@jupyter-widgets/controls",
      "model_module_version": "1.0.0",
      "model_name": "HTMLModel",
      "state": {
       "layout": "IPY_MODEL_ddc74d6862274df1930ba56c40ea2cfb",
       "style": "IPY_MODEL_d7ee990b16044b05b638873d463ce4a6",
       "value": "<img src=\"data:image/gif;base64,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\"/>"
      }
     },
     "9c58bca689734060863ccad004b3f80b": {
      "model_module": "@jupyter-widgets/controls",
      "model_module_version": "1.0.0",
      "model_name": "HTMLModel",
      "state": {
       "layout": "IPY_MODEL_af966ba6c22449cc8a140effb55ca6ed",
       "style": "IPY_MODEL_233d53188aa0490fbd1dbb60007ca141",
       "value": "<p><hr/><h3>input bank:</h3></p>"
      }
     },
     "9c688b8ca2894d31a29914803a4235e5": {
      "model_module": "@jupyter-widgets/base",
      "model_module_version": "1.0.0",
      "model_name": "LayoutModel",
      "state": {
       "height": "40px"
      }
     },
     "9d02b91b2030497ba916ad40e7e13071": {
      "model_module": "@jupyter-widgets/base",
      "model_module_version": "1.0.0",
      "model_name": "LayoutModel",
      "state": {}
     },
     "9d7b6624480a4c80b529935c2c412306": {
      "model_module": "@jupyter-widgets/controls",
      "model_module_version": "1.0.0",
      "model_name": "IntTextModel",
      "state": {
       "description": "Leftmost color maps to:",
       "layout": "IPY_MODEL_5c2613ea90344470b94558bf130f6454",
       "step": 1,
       "style": "IPY_MODEL_6271a2184b784956a5ab1e2f971a5a10",
       "value": -1
      }
     },
     "9d7d5c628c8c44a3bb126dbe75254ff9": {
      "model_module": "@jupyter-widgets/base",
      "model_module_version": "1.0.0",
      "model_name": "LayoutModel",
      "state": {}
     },
     "9ee2527b4a064482955545451101ff7c": {
      "model_module": "@jupyter-widgets/controls",
      "model_module_version": "1.0.0",
      "model_name": "DescriptionStyleModel",
      "state": {
       "description_width": ""
      }
     },
     "9efead38603042918b3575799a6beba0": {
      "model_module": "@jupyter-widgets/controls",
      "model_module_version": "1.0.0",
      "model_name": "HBoxModel",
      "state": {
       "children": [
        "IPY_MODEL_d8ef9ca8bcb4490c85caa20a26f42a7d",
        "IPY_MODEL_dabd5ecc4ff6453db3eed1ba2a49ddf8"
       ],
       "layout": "IPY_MODEL_a54f825e38094937b7cff88908ded18a"
      }
     },
     "9fa68d9083244cf085345c61bc7581a1": {
      "model_module": "@jupyter-widgets/controls",
      "model_module_version": "1.0.0",
      "model_name": "IntTextModel",
      "state": {
       "description": "Feature to show:",
       "layout": "IPY_MODEL_9fdada84cec14e34b43c8b7cbf766e16",
       "step": 1,
       "style": "IPY_MODEL_910b79b8ebd44daeabbd4a85c632ca07"
      }
     },
     "9fdada84cec14e34b43c8b7cbf766e16": {
      "model_module": "@jupyter-widgets/base",
      "model_module_version": "1.0.0",
      "model_name": "LayoutModel",
      "state": {}
     },
     "9fe6785c48b44e7590407dd349f01555": {
      "model_module": "@jupyter-widgets/base",
      "model_module_version": "1.0.0",
      "model_name": "LayoutModel",
      "state": {}
     },
     "a005479412714fc1a63e4dadcd729c92": {
      "model_module": "@jupyter-widgets/base",
      "model_module_version": "1.0.0",
      "model_name": "LayoutModel",
      "state": {}
     },
     "a0c7fc5c0dcf47619c3fb47d6efc1048": {
      "model_module": "@jupyter-widgets/controls",
      "model_module_version": "1.0.0",
      "model_name": "DescriptionStyleModel",
      "state": {
       "description_width": ""
      }
     },
     "a0fd13f5dd0e4de1b417d641183b6f81": {
      "model_module": "@jupyter-widgets/controls",
      "model_module_version": "1.0.0",
      "model_name": "HBoxModel",
      "state": {
       "children": [
        "IPY_MODEL_d41afe71436745ef85d24f33aaf80606",
        "IPY_MODEL_2e18c986ed764b21a4478d70445373ae"
       ],
       "layout": "IPY_MODEL_b1c1870366634bc98c8285eb2cdec03e"
      }
     },
     "a13675272f1a4b45b77f7584d9269923": {
      "model_module": "@jupyter-widgets/controls",
      "model_module_version": "1.0.0",
      "model_name": "DescriptionStyleModel",
      "state": {
       "description_width": ""
      }
     },
     "a16912ff266b43929547d328521db49d": {
      "model_module": "@jupyter-widgets/controls",
      "model_module_version": "1.0.0",
      "model_name": "DescriptionStyleModel",
      "state": {
       "description_width": "initial"
      }
     },
     "a17d4cdbd84f4a27996f1f8df8cc7a0c": {
      "model_module": "@jupyter-widgets/base",
      "model_module_version": "1.0.0",
      "model_name": "LayoutModel",
      "state": {}
     },
     "a182fab818a345af8a512c48f8d620e2": {
      "model_module": "@jupyter-widgets/controls",
      "model_module_version": "1.0.0",
      "model_name": "DescriptionStyleModel",
      "state": {
       "description_width": "initial"
      }
     },
     "a1a0108e10e148c48c8414ace4f5f0aa": {
      "model_module": "@jupyter-widgets/base",
      "model_module_version": "1.0.0",
      "model_name": "LayoutModel",
      "state": {}
     },
     "a1bbbe3694b14628a89df664238ff618": {
      "model_module": "@jupyter-widgets/controls",
      "model_module_version": "1.0.0",
      "model_name": "DescriptionStyleModel",
      "state": {
       "description_width": ""
      }
     },
     "a1e42340a4454e04b6e5e032b9ac7ee0": {
      "model_module": "@jupyter-widgets/controls",
      "model_module_version": "1.0.0",
      "model_name": "DescriptionStyleModel",
      "state": {
       "description_width": "initial"
      }
     },
     "a21dfda2a071485d885152b115fd6906": {
      "model_module": "@jupyter-widgets/controls",
      "model_module_version": "1.0.0",
      "model_name": "IntTextModel",
      "state": {
       "description": "Feature columns:",
       "layout": "IPY_MODEL_8b7eab12f33a49c2a0f43597ac0108ce",
       "step": 1,
       "style": "IPY_MODEL_2bf5f75a6fab4c80b65a4c70c82c049b",
       "value": 3
      }
     },
     "a2b0e10c4bfb41349b27fa06d0304f97": {
      "model_module": "@jupyter-widgets/base",
      "model_module_version": "1.0.0",
      "model_name": "LayoutModel",
      "state": {}
     },
     "a2bb5ad67b634a8c84c960b3fb60de48": {
      "model_module": "@jupyter-widgets/controls",
      "model_module_version": "1.0.0",
      "model_name": "DescriptionStyleModel",
      "state": {
       "description_width": ""
      }
     },
     "a2d11e7fba9f44e09898046296ca35ac": {
      "model_module": "@jupyter-widgets/controls",
      "model_module_version": "1.0.0",
      "model_name": "DescriptionStyleModel",
      "state": {
       "description_width": "initial"
      }
     },
     "a3f9c534bd794bf7883312ea12bfd167": {
      "model_module": "@jupyter-widgets/controls",
      "model_module_version": "1.0.0",
      "model_name": "HTMLModel",
      "state": {
       "layout": "IPY_MODEL_6664f6eeb6e34901b7ac4f5e4eec7a90",
       "style": "IPY_MODEL_3c37e5888cda49e0815a59f1cc452980",
       "value": "<p><hr/><h3>maxpool2 bank:</h3></p>"
      }
     },
     "a42044a4033043bcb27c32e87fa202ae": {
      "model_module": "@jupyter-widgets/controls",
      "model_module_version": "1.0.0",
      "model_name": "DescriptionStyleModel",
      "state": {
       "description_width": ""
      }
     },
     "a4277125f002437185c7c78be06caa58": {
      "model_module": "@jupyter-widgets/controls",
      "model_module_version": "1.0.0",
      "model_name": "HBoxModel",
      "state": {
       "children": [
        "IPY_MODEL_3de2dc12f17e46718387740794cfd8d2",
        "IPY_MODEL_50eee347570d4f27a80f8f69e20ee9be"
       ],
       "layout": "IPY_MODEL_15537427a7aa4e97b33a89f26b7985fa"
      }
     },
     "a4953003afda4ab488f072b8c5f0c24a": {
      "model_module": "@jupyter-widgets/controls",
      "model_module_version": "1.0.0",
      "model_name": "VBoxModel",
      "state": {
       "children": [
        "IPY_MODEL_b9c362dbc2cb422d8748f7aeaccbb76b",
        "IPY_MODEL_5aa10bfd0291493183e8c579fe951643",
        "IPY_MODEL_94a57465b9594a15a509c9d692e291d2"
       ],
       "layout": "IPY_MODEL_ad718a35b54e4d8090bca03fd289e8c4"
      }
     },
     "a4c7765f133b4423b87406a8cbf50b95": {
      "model_module": "@jupyter-widgets/controls",
      "model_module_version": "1.0.0",
      "model_name": "IntTextModel",
      "state": {
       "description": "Feature to show:",
       "layout": "IPY_MODEL_09dd07346b99413da9cb6386989d4af6",
       "step": 1,
       "style": "IPY_MODEL_20f8603470ed4a6789a080c245d4afd6"
      }
     },
     "a4f595ca18f0465c9d828fc9764533fb": {
      "model_module": "@jupyter-widgets/base",
      "model_module_version": "1.0.0",
      "model_name": "LayoutModel",
      "state": {}
     },
     "a53126e26c2643dea546cd8f109d9326": {
      "model_module": "@jupyter-widgets/controls",
      "model_module_version": "1.0.0",
      "model_name": "DescriptionStyleModel",
      "state": {
       "description_width": ""
      }
     },
     "a54f825e38094937b7cff88908ded18a": {
      "model_module": "@jupyter-widgets/base",
      "model_module_version": "1.0.0",
      "model_name": "LayoutModel",
      "state": {}
     },
     "a55494501c054cd1aa65bf1dbfd3de2d": {
      "model_module": "@jupyter-widgets/base",
      "model_module_version": "1.0.0",
      "model_name": "LayoutModel",
      "state": {
       "width": "40px"
      }
     },
     "a567fa8d2edd4d9497b44dd11eff0767": {
      "model_module": "@jupyter-widgets/controls",
      "model_module_version": "1.0.0",
      "model_name": "IntTextModel",
      "state": {
       "description": "Rightmost color maps to:",
       "layout": "IPY_MODEL_8c0cf97afb3844d78d7430759a9f1c13",
       "step": 1,
       "style": "IPY_MODEL_b697d0561b684ad09889aaacc8b6af07",
       "value": 1
      }
     },
     "a5c8b34d74dd40a4baea6abe33ea8936": {
      "model_module": "@jupyter-widgets/controls",
      "model_module_version": "1.0.0",
      "model_name": "DescriptionStyleModel",
      "state": {
       "description_width": "initial"
      }
     },
     "a6172616efdc4c579eeade3e12a2c1c2": {
      "model_module": "@jupyter-widgets/controls",
      "model_module_version": "1.0.0",
      "model_name": "IntTextModel",
      "state": {
       "description": "Feature to show:",
       "layout": "IPY_MODEL_83ad47511b344f8a894b8c40f4a1dc0e",
       "step": 1,
       "style": "IPY_MODEL_36d06f858ba24ecd8d64d5a0a7f0cc05"
      }
     },
     "a62a92cfe5e6408194f33145298a0367": {
      "model_module": "@jupyter-widgets/base",
      "model_module_version": "1.0.0",
      "model_name": "LayoutModel",
      "state": {}
     },
     "a75afe50bc3a4ad58c4b24dc9c7a3c8c": {
      "model_module": "@jupyter-widgets/controls",
      "model_module_version": "1.0.0",
      "model_name": "DescriptionStyleModel",
      "state": {
       "description_width": ""
      }
     },
     "a788d72780bd4f9abc3a3092fb05495c": {
      "model_module": "@jupyter-widgets/controls",
      "model_module_version": "1.0.0",
      "model_name": "DescriptionStyleModel",
      "state": {
       "description_width": ""
      }
     },
     "a7bad027edfa488cbb73bc9ca6a4164b": {
      "model_module": "@jupyter-widgets/controls",
      "model_module_version": "1.0.0",
      "model_name": "DescriptionStyleModel",
      "state": {
       "description_width": "initial"
      }
     },
     "a8521258902646ae937f7b88d57ef709": {
      "model_module": "@jupyter-widgets/controls",
      "model_module_version": "1.0.0",
      "model_name": "CheckboxModel",
      "state": {
       "description": "Visible",
       "disabled": false,
       "layout": "IPY_MODEL_af966ba6c22449cc8a140effb55ca6ed",
       "style": "IPY_MODEL_5ebb4e839a144308b087408d553e1716",
       "value": true
      }
     },
     "a8d2362f5e994b9d8af286a6c13a19f2": {
      "model_module": "@jupyter-widgets/controls",
      "model_module_version": "1.0.0",
      "model_name": "VBoxModel",
      "state": {
       "children": [
        "IPY_MODEL_d99dca3822ec4fe7bd3f6639bc487624",
        "IPY_MODEL_ad20a420e96449e3b077ccce6d4e04bd",
        "IPY_MODEL_a0fd13f5dd0e4de1b417d641183b6f81",
        "IPY_MODEL_09e02907187b469895dd6252348c314f"
       ],
       "layout": "IPY_MODEL_5e3e3b0219934e39a70c8548b6ce2c62"
      }
     },
     "a9c007fd4e0845639d23f8c278607a5a": {
      "model_module": "@jupyter-widgets/base",
      "model_module_version": "1.0.0",
      "model_name": "LayoutModel",
      "state": {}
     },
     "aa3c70e4bcd94cca9e5ef538857542fd": {
      "model_module": "@jupyter-widgets/controls",
      "model_module_version": "1.0.0",
      "model_name": "HTMLModel",
      "state": {
       "layout": "IPY_MODEL_ad8b5c2b0c9f4ecc8ba78a9e9e3e66ed",
       "style": "IPY_MODEL_2de9f6c2a9f74c6b8e6a93cf460107c5",
       "value": "<p style=\"text-align:center\"><svg id='Auto-Encoding with Conv' xmlns='http://www.w3.org/2000/svg' viewBox=\"0 0 350 1460\" height=\"780\" image-rendering=\"pixelated\">\n    <defs>\n        <marker id=\"arrow\" markerWidth=\"10\" markerHeight=\"10\" refX=\"9\" refY=\"3\" orient=\"auto\" markerUnits=\"strokeWidth\">\n          <path d=\"M0,0 L0,6 L9,3 z\" fill=\"black\" />\n        </marker>\n    </defs><text x=\"175.0\" y=\"12.5\" font-family=\"monospace\" font-size=\"15\" text-anchor=\"middle\" alignment-baseline=\"central\">Auto-Encoding with Conv</text><rect x=\"74.0\" y=\"29\" width=\"202\" height=\"202\" style=\"fill:none;stroke:black;stroke-width:2\"/><image id=\"Auto-Encoding with Conv_output_1\" class=\"Auto-Encoding with Conv_output\" x=\"75.0\" y=\"30\" height=\"200\" width=\"200\" preserveAspectRatio=\"none\" href=\"data:image/gif;base64,R0lGODdhHAAcAIcAAP/9/QAAAAAAAAAAAAAAAAAAAAAAAAAAAAAAAAAAAAAAAAAAAAAAAAAAAAAAAAAAAAAAAAAAAAAAAAAAAAAAAAAAAAAAAAAAAAAAAAAAAAAAAAAAAAAAAAAAAAAAAAAAAAAAAAAAAAAAAAAAAAAAAAAAAAAAAAAAAAAAAAAAAAAAAAAAAAAAAAAAAAAAAAAAAAAAAAAAAAAAAAAAAAAAAAAAAAAAAAAAAAAAAAAAAAAAAAAAAAAAAAAAAAAAAAAAAAAAAAAAAAAAAAAAAAAAAAAAAAAAAAAAAAAAAAAAAAAAAAAAAAAAAAAAAAAAAAAAAAAAAAAAAAAAAAAAAAAAAAAAAAAAAAAAAAAAAAAAAAAAAAAAAAAAAAAAAAAAAAAAAAAAAAAAAAAAAAAAAAAAAAAAAAAAAAAAAAAAAAAAAAAAAAAAAAAAAAAAAAAAAAAAAAAAAAAAAAAAAAAAAAAAAAAAAAAAAAAAAAAAAAAAAAAAAAAAAAAAAAAAAAAAAAAAAAAAAAAAAAAAAAAAAAAAAAAAAAAAAAAAAAAAAAAAAAAAAAAAAAAAAAAAAAAAAAAAAAAAAAAAAAAAAAAAAAAAAAAAAAAAAAAAAAAAAAAAAAAAAAAAAAAAAAAAAAAAAAAAAAAAAAAAAAAAAAAAAAAAAAAAAAAAAAAAAAAAAAAAAAAAAAAAAAAAAAAAAAAAAAAAAAAAAAAAAAAAAAAAAAAAAAAAAAAAAAAAAAAAAAAAAAAAAAAAAAAAAAAAAAAAAAAAAAAAAAAAAAAAAAAAAAAAAAAAAAAAAAAAAAAAAAAAAAAAAAAAAAAAAAAAAAAAAAAAAAAAAAAAAAAAAAAAAAAAAAAAAAAAAAAAAAAAAAAAAAAAAAAAAAAAAAAAAAAAAAAAAAAAAAAAAAAAAAAAAAAAAAAAAAAAAAAAAAAAAAAAAAAAAAAAAAAAAAAAAAAAAAAAAAAAAAAAAAAAAAAAAAAAAAAAAAAAAAAAAAAAAAAAAAAAAAAAAAAAAAAAAAAAAAAAACwAAAAAHAAcAEAIMAABCBxIsKDBgwgTKlzIsKHDhxAjSpxIsaLFixgzatzIsaPHjyBDihxJsqTJkwQDAgA7\"><title>Layer: output (output)\n shape = (784,)\n Keras class = Dense\n activation = softmax</title></image><text x=\"280.0\" y=\"132.0\" font-family=\"monospace\" font-size=\"12\" text-anchor=\"start\" alignment-baseline=\"central\">output</text><line x1=\"175.0\" y1=\"259\" x2=\"175.0\" y2=\"232\" stroke=\"black\" stroke-width=\"2\" marker-end=\"url(#arrow)\"><title>Weights from flatten to output\n output/kernel has shape (2112, 784)\n output/bias has shape (784,)</title></line><rect x=\"74.0\" y=\"259\" width=\"202\" height=\"27\" style=\"fill:none;stroke:black;stroke-width:2\"/><image id=\"Auto-Encoding with Conv_flatten_2\" class=\"Auto-Encoding with Conv_flatten\" x=\"75.0\" y=\"260\" height=\"25\" width=\"200\" preserveAspectRatio=\"none\" href=\"data:image/gif;base64,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\"><title>Layer: flatten (hidden)\n Keras class = Flatten</title></image><text x=\"280.0\" y=\"274.5\" font-family=\"monospace\" font-size=\"12\" text-anchor=\"start\" alignment-baseline=\"central\">flatten</text><line x1=\"175.0\" y1=\"314\" x2=\"175.0\" y2=\"287\" stroke=\"black\" stroke-width=\"2\" marker-end=\"url(#arrow)\"><title>Weights from maxpool2 to flatten</title></line><rect x=\"74.0\" y=\"314\" width=\"202\" height=\"202\" style=\"fill:none;stroke:black;stroke-width:2\"/><image id=\"Auto-Encoding with Conv_maxpool2_3\" class=\"Auto-Encoding with Conv_maxpool2\" x=\"75.0\" y=\"315\" height=\"200\" width=\"200\" preserveAspectRatio=\"none\" href=\"data:image/gif;base64,R0lGODdhBAAEAIcAAPr5/uvr/wAAAAAAAAAAAAAAAAAAAAAAAAAAAAAAAAAAAAAAAAAAAAAAAAAAAAAAAAAAAAAAAAAAAAAAAAAAAAAAAAAAAAAAAAAAAAAAAAAAAAAAAAAAAAAAAAAAAAAAAAAAAAAAAAAAAAAAAAAAAAAAAAAAAAAAAAAAAAAAAAAAAAAAAAAAAAAAAAAAAAAAAAAAAAAAAAAAAAAAAAAAAAAAAAAAAAAAAAAAAAAAAAAAAAAAAAAAAAAAAAAAAAAAAAAAAAAAAAAAAAAAAAAAAAAAAAAAAAAAAAAAAAAAAAAAAAAAAAAAAAAAAAAAAAAAAAAAAAAAAAAAAAAAAAAAAAAAAAAAAAAAAAAAAAAAAAAAAAAAAAAAAAAAAAAAAAAAAAAAAAAAAAAAAAAAAAAAAAAAAAAAAAAAAAAAAAAAAAAAAAAAAAAAAAAAAAAAAAAAAAAAAAAAAAAAAAAAAAAAAAAAAAAAAAAAAAAAAAAAAAAAAAAAAAAAAAAAAAAAAAAAAAAAAAAAAAAAAAAAAAAAAAAAAAAAAAAAAAAAAAAAAAAAAAAAAAAAAAAAAAAAAAAAAAAAAAAAAAAAAAAAAAAAAAAAAAAAAAAAAAAAAAAAAAAAAAAAAAAAAAAAAAAAAAAAAAAAAAAAAAAAAAAAAAAAAAAAAAAAAAAAAAAAAAAAAAAAAAAAAAAAAAAAAAAAAAAAAAAAAAAAAAAAAAAAAAAAAAAAAAAAAAAAAAAAAAAAAAAAAAAAAAAAAAAAAAAAAAAAAAAAAAAAAAAAAAAAAAAAAAAAAAAAAAAAAAAAAAAAAAAAAAAAAAAAAAAAAAAAAAAAAAAAAAAAAAAAAAAAAAAAAAAAAAAAAAAAAAAAAAAAAAAAAAAAAAAAAAAAAAAAAAAAAAAAAAAAAAAAAAAAAAAAAAAAAAAAAAAAAAAAAAAAAAAAAAAAAAAAAAAAAAAAAAAAAAAAAAAAAAAAAAAAAAAAAAAAAAAAAAAAAAAAAAAAAAAAAAAAAAAAAAAAAAAAAAAAACwAAAAABAAEAAAIDgABCBwYAIDBAAASJgwIADs=\"><title>Layer: maxpool2 (hidden)\n Keras class = MaxPooling2D</title></image><text x=\"280.0\" y=\"417.0\" font-family=\"monospace\" font-size=\"12\" text-anchor=\"start\" alignment-baseline=\"central\">maxpool2</text><text x=\"280.0\" y=\"320\" font-family=\"monospace\" font-size=\"12\" text-anchor=\"start\" alignment-baseline=\"central\">132</text><text x=\"63.0\" y=\"510\" font-family=\"monospace\" font-size=\"12\" text-anchor=\"start\" alignment-baseline=\"central\">0</text><line x1=\"175.0\" y1=\"544\" x2=\"175.0\" y2=\"517\" stroke=\"black\" stroke-width=\"2\" marker-end=\"url(#arrow)\"><title>Weights from Conv2D-2 to maxpool2</title></line><rect x=\"74.0\" y=\"544\" width=\"202\" height=\"202\" style=\"fill:none;stroke:black;stroke-width:2\"/><image id=\"Auto-Encoding with Conv_Conv2D-2_4\" class=\"Auto-Encoding with Conv_Conv2D-2\" x=\"75.0\" y=\"545\" height=\"200\" width=\"200\" preserveAspectRatio=\"none\" href=\"data:image/gif;base64,R0lGODdhCAAIAIcAAP38/ezs/wAAAAAAAAAAAAAAAAAAAAAAAAAAAAAAAAAAAAAAAAAAAAAAAAAAAAAAAAAAAAAAAAAAAAAAAAAAAAAAAAAAAAAAAAAAAAAAAAAAAAAAAAAAAAAAAAAAAAAAAAAAAAAAAAAAAAAAAAAAAAAAAAAAAAAAAAAAAAAAAAAAAAAAAAAAAAAAAAAAAAAAAAAAAAAAAAAAAAAAAAAAAAAAAAAAAAAAAAAAAAAAAAAAAAAAAAAAAAAAAAAAAAAAAAAAAAAAAAAAAAAAAAAAAAAAAAAAAAAAAAAAAAAAAAAAAAAAAAAAAAAAAAAAAAAAAAAAAAAAAAAAAAAAAAAAAAAAAAAAAAAAAAAAAAAAAAAAAAAAAAAAAAAAAAAAAAAAAAAAAAAAAAAAAAAAAAAAAAAAAAAAAAAAAAAAAAAAAAAAAAAAAAAAAAAAAAAAAAAAAAAAAAAAAAAAAAAAAAAAAAAAAAAAAAAAAAAAAAAAAAAAAAAAAAAAAAAAAAAAAAAAAAAAAAAAAAAAAAAAAAAAAAAAAAAAAAAAAAAAAAAAAAAAAAAAAAAAAAAAAAAAAAAAAAAAAAAAAAAAAAAAAAAAAAAAAAAAAAAAAAAAAAAAAAAAAAAAAAAAAAAAAAAAAAAAAAAAAAAAAAAAAAAAAAAAAAAAAAAAAAAAAAAAAAAAAAAAAAAAAAAAAAAAAAAAAAAAAAAAAAAAAAAAAAAAAAAAAAAAAAAAAAAAAAAAAAAAAAAAAAAAAAAAAAAAAAAAAAAAAAAAAAAAAAAAAAAAAAAAAAAAAAAAAAAAAAAAAAAAAAAAAAAAAAAAAAAAAAAAAAAAAAAAAAAAAAAAAAAAAAAAAAAAAAAAAAAAAAAAAAAAAAAAAAAAAAAAAAAAAAAAAAAAAAAAAAAAAAAAAAAAAAAAAAAAAAAAAAAAAAAAAAAAAAAAAAAAAAAAAAAAAAAAAAAAAAAAAAAAAAAAAAAAAAAAAAAAAAAAAAAAAAAAAAAAAAAAAAAAAAAAAAAAAAAAAAAAACwAAAAACAAIAAAIHwABCBxIsKDBgwECAFjIEEAAABAjAggAoKLFixgtBgQAOw==\"><title>Layer: Conv2D-2 (hidden)\n Keras class = Conv2D\n activation = relu</title></image><text x=\"280.0\" y=\"647.0\" font-family=\"monospace\" font-size=\"12\" text-anchor=\"start\" alignment-baseline=\"central\">Conv2D-2</text><text x=\"280.0\" y=\"550\" font-family=\"monospace\" font-size=\"12\" text-anchor=\"start\" alignment-baseline=\"central\">132</text><text x=\"63.0\" y=\"740\" font-family=\"monospace\" font-size=\"12\" text-anchor=\"start\" alignment-baseline=\"central\">0</text><line x1=\"175.0\" y1=\"774\" x2=\"175.0\" y2=\"747\" stroke=\"black\" stroke-width=\"2\" marker-end=\"url(#arrow)\"><title>Weights from maxpool1 to Conv2D-2\n Conv2D-2/kernel has shape (5, 5, 16, 132)\n Conv2D-2/bias has shape (132,)</title></line><rect x=\"74.0\" y=\"774\" width=\"202\" height=\"202\" style=\"fill:none;stroke:black;stroke-width:2\"/><image id=\"Auto-Encoding with Conv_maxpool1_5\" class=\"Auto-Encoding with Conv_maxpool1\" x=\"75.0\" y=\"775\" height=\"200\" width=\"200\" preserveAspectRatio=\"none\" href=\"data:image/gif;base64,R0lGODdhDAAMAIcAAP37/dbW/+fn/8nJ/7Gx/wAAAAAAAAAAAAAAAAAAAAAAAAAAAAAAAAAAAAAAAAAAAAAAAAAAAAAAAAAAAAAAAAAAAAAAAAAAAAAAAAAAAAAAAAAAAAAAAAAAAAAAAAAAAAAAAAAAAAAAAAAAAAAAAAAAAAAAAAAAAAAAAAAAAAAAAAAAAAAAAAAAAAAAAAAAAAAAAAAAAAAAAAAAAAAAAAAAAAAAAAAAAAAAAAAAAAAAAAAAAAAAAAAAAAAAAAAAAAAAAAAAAAAAAAAAAAAAAAAAAAAAAAAAAAAAAAAAAAAAAAAAAAAAAAAAAAAAAAAAAAAAAAAAAAAAAAAAAAAAAAAAAAAAAAAAAAAAAAAAAAAAAAAAAAAAAAAAAAAAAAAAAAAAAAAAAAAAAAAAAAAAAAAAAAAAAAAAAAAAAAAAAAAAAAAAAAAAAAAAAAAAAAAAAAAAAAAAAAAAAAAAAAAAAAAAAAAAAAAAAAAAAAAAAAAAAAAAAAAAAAAAAAAAAAAAAAAAAAAAAAAAAAAAAAAAAAAAAAAAAAAAAAAAAAAAAAAAAAAAAAAAAAAAAAAAAAAAAAAAAAAAAAAAAAAAAAAAAAAAAAAAAAAAAAAAAAAAAAAAAAAAAAAAAAAAAAAAAAAAAAAAAAAAAAAAAAAAAAAAAAAAAAAAAAAAAAAAAAAAAAAAAAAAAAAAAAAAAAAAAAAAAAAAAAAAAAAAAAAAAAAAAAAAAAAAAAAAAAAAAAAAAAAAAAAAAAAAAAAAAAAAAAAAAAAAAAAAAAAAAAAAAAAAAAAAAAAAAAAAAAAAAAAAAAAAAAAAAAAAAAAAAAAAAAAAAAAAAAAAAAAAAAAAAAAAAAAAAAAAAAAAAAAAAAAAAAAAAAAAAAAAAAAAAAAAAAAAAAAAAAAAAAAAAAAAAAAAAAAAAAAAAAAAAAAAAAAAAAAAAAAAAAAAAAAAAAAAAAAAAAAAAAAAAAAAAAAAAAAAAAAAAAAAAAAAAAAAAAAAAAAAAAAAAAAAAAAAAAAAAAAAACwAAAAADAAMAAAIQwABCBxIkKAAAAAEBAAQoKEAAAAIBAgAoKLFixgzatQYIACAjyBDihxJkqQAAChTpgwgAIDLlwAGDAgAoKbNmzhzBgQAOw==\"><title>Layer: maxpool1 (hidden)\n Keras class = MaxPooling2D</title></image><text x=\"280.0\" y=\"877.0\" font-family=\"monospace\" font-size=\"12\" text-anchor=\"start\" alignment-baseline=\"central\">maxpool1</text><text x=\"280.0\" y=\"780\" font-family=\"monospace\" font-size=\"12\" text-anchor=\"start\" alignment-baseline=\"central\">16</text><text x=\"63.0\" y=\"970\" font-family=\"monospace\" font-size=\"12\" text-anchor=\"start\" alignment-baseline=\"central\">0</text><line x1=\"175.0\" y1=\"1004\" x2=\"175.0\" y2=\"977\" stroke=\"black\" stroke-width=\"2\" marker-end=\"url(#arrow)\"><title>Weights from Conv2D-1 to maxpool1</title></line><rect x=\"74.0\" y=\"1004\" width=\"202\" height=\"202\" style=\"fill:none;stroke:black;stroke-width:2\"/><image id=\"Auto-Encoding with Conv_Conv2D-1_6\" class=\"Auto-Encoding with Conv_Conv2D-1\" x=\"75.0\" y=\"1005\" height=\"200\" width=\"200\" preserveAspectRatio=\"none\" href=\"data:image/gif;base64,R0lGODdhGAAYAIcAAP78/dfX/+bm/8fH/7W1/wAAAAAAAAAAAAAAAAAAAAAAAAAAAAAAAAAAAAAAAAAAAAAAAAAAAAAAAAAAAAAAAAAAAAAAAAAAAAAAAAAAAAAAAAAAAAAAAAAAAAAAAAAAAAAAAAAAAAAAAAAAAAAAAAAAAAAAAAAAAAAAAAAAAAAAAAAAAAAAAAAAAAAAAAAAAAAAAAAAAAAAAAAAAAAAAAAAAAAAAAAAAAAAAAAAAAAAAAAAAAAAAAAAAAAAAAAAAAAAAAAAAAAAAAAAAAAAAAAAAAAAAAAAAAAAAAAAAAAAAAAAAAAAAAAAAAAAAAAAAAAAAAAAAAAAAAAAAAAAAAAAAAAAAAAAAAAAAAAAAAAAAAAAAAAAAAAAAAAAAAAAAAAAAAAAAAAAAAAAAAAAAAAAAAAAAAAAAAAAAAAAAAAAAAAAAAAAAAAAAAAAAAAAAAAAAAAAAAAAAAAAAAAAAAAAAAAAAAAAAAAAAAAAAAAAAAAAAAAAAAAAAAAAAAAAAAAAAAAAAAAAAAAAAAAAAAAAAAAAAAAAAAAAAAAAAAAAAAAAAAAAAAAAAAAAAAAAAAAAAAAAAAAAAAAAAAAAAAAAAAAAAAAAAAAAAAAAAAAAAAAAAAAAAAAAAAAAAAAAAAAAAAAAAAAAAAAAAAAAAAAAAAAAAAAAAAAAAAAAAAAAAAAAAAAAAAAAAAAAAAAAAAAAAAAAAAAAAAAAAAAAAAAAAAAAAAAAAAAAAAAAAAAAAAAAAAAAAAAAAAAAAAAAAAAAAAAAAAAAAAAAAAAAAAAAAAAAAAAAAAAAAAAAAAAAAAAAAAAAAAAAAAAAAAAAAAAAAAAAAAAAAAAAAAAAAAAAAAAAAAAAAAAAAAAAAAAAAAAAAAAAAAAAAAAAAAAAAAAAAAAAAAAAAAAAAAAAAAAAAAAAAAAAAAAAAAAAAAAAAAAAAAAAAAAAAAAAAAAAAAAAAAAAAAAAAAAAAAAAAAAAAAAAAAAAAAAAAAAAAAAAAAAAAAAAAAAAAAAAAAAAACwAAAAAGAAYAEAIqwABCBxIsKDBgwgTKlyokIAAAAECCABAsaLFixgzaqQoIAAAAAEEABhJsqTJkyhPBhAAoGUAAQBiypxJs6bNmgEA6NzJs6fPn0CDAhAgAIDRo0iTKl3KtKnTpwIASJ0qIEAAAAAEBAgAoKtXrwQGABhLtqzZs2jTql3Ldm0AAHDjyp1Lt67du3jzzhUgAIDfv4AD/xUQAIDhw4gTAwgwoDGAx5AjS55MuXLlgAA7\"><title>Layer: Conv2D-1 (hidden)\n Keras class = Conv2D\n activation = relu</title></image><text x=\"280.0\" y=\"1107.0\" font-family=\"monospace\" font-size=\"12\" text-anchor=\"start\" alignment-baseline=\"central\">Conv2D-1</text><text x=\"280.0\" y=\"1010\" font-family=\"monospace\" font-size=\"12\" text-anchor=\"start\" alignment-baseline=\"central\">16</text><text x=\"63.0\" y=\"1200\" font-family=\"monospace\" font-size=\"12\" text-anchor=\"start\" alignment-baseline=\"central\">0</text><line x1=\"175.0\" y1=\"1234\" x2=\"175.0\" y2=\"1207\" stroke=\"black\" stroke-width=\"2\" marker-end=\"url(#arrow)\"><title>Weights from input to Conv2D-1\n Conv2D-1/kernel has shape (5, 5, 1, 16)\n Conv2D-1/bias has shape (16,)</title></line><rect x=\"74.0\" y=\"1234\" width=\"202\" height=\"202\" style=\"fill:none;stroke:black;stroke-width:2\"/><image id=\"Auto-Encoding with Conv_input_7\" class=\"Auto-Encoding with Conv_input\" x=\"75.0\" y=\"1235\" height=\"200\" width=\"200\" preserveAspectRatio=\"none\" href=\"data:image/gif;base64,R0lGODdhHAAcAIcAAAoAAP//9jAAAP/8DP//z00AANcAAPMAAG4AAI0AAP+aAP9nAP/MAP//jbMAAP9yAP/pAP//T///c/8lAP9XAP+qAP//Mv82AP9EAP+/AP/WAP//vAAAAAAAAAAAAAAAAAAAAAAAAAAAAAAAAAAAAAAAAAAAAAAAAAAAAAAAAAAAAAAAAAAAAAAAAAAAAAAAAAAAAAAAAAAAAAAAAAAAAAAAAAAAAAAAAAAAAAAAAAAAAAAAAAAAAAAAAAAAAAAAAAAAAAAAAAAAAAAAAAAAAAAAAAAAAAAAAAAAAAAAAAAAAAAAAAAAAAAAAAAAAAAAAAAAAAAAAAAAAAAAAAAAAAAAAAAAAAAAAAAAAAAAAAAAAAAAAAAAAAAAAAAAAAAAAAAAAAAAAAAAAAAAAAAAAAAAAAAAAAAAAAAAAAAAAAAAAAAAAAAAAAAAAAAAAAAAAAAAAAAAAAAAAAAAAAAAAAAAAAAAAAAAAAAAAAAAAAAAAAAAAAAAAAAAAAAAAAAAAAAAAAAAAAAAAAAAAAAAAAAAAAAAAAAAAAAAAAAAAAAAAAAAAAAAAAAAAAAAAAAAAAAAAAAAAAAAAAAAAAAAAAAAAAAAAAAAAAAAAAAAAAAAAAAAAAAAAAAAAAAAAAAAAAAAAAAAAAAAAAAAAAAAAAAAAAAAAAAAAAAAAAAAAAAAAAAAAAAAAAAAAAAAAAAAAAAAAAAAAAAAAAAAAAAAAAAAAAAAAAAAAAAAAAAAAAAAAAAAAAAAAAAAAAAAAAAAAAAAAAAAAAAAAAAAAAAAAAAAAAAAAAAAAAAAAAAAAAAAAAAAAAAAAAAAAAAAAAAAAAAAAAAAAAAAAAAAAAAAAAAAAAAAAAAAAAAAAAAAAAAAAAAAAAAAAAAAAAAAAAAAAAAAAAAAAAAAAAAAAAAAAAAAAAAAAAAAAAAAAAAAAAAAAAAAAAAAAAAAAAAAAAAAAAAAAAAAAAAAAAAAAAAAAAAAAAAAAAAAAAAAAAAAAAAAAAAAAAAAAAAAAAAAAAAAACwAAAAAHAAcAEAI/wABCBxIsKDBgwcFSAjAkOEACAQIAJhIsaLFixUFHAgQYACAjyBDfnwQoGSEBQsEAFjJsqXLlzBjypwpYEAAAwBy6tzJs2fOAhckBBgawIIBAEiTKl3KtKnTpwUQHFDAIIBVqw0YBCAwwAGAr2DDghUAQEGAAwDSql3Ltm1bAwQCBMBQAIDdu3jz6rWbYAGEAAEiABhMuHBhAQwkBFgcYIABAQAiS55MubLly5gza97MufNkAaApPNBQIEMAAhQAqF7NGkCCDQFiy5Z9oHYCBABy696t20CFCQECWBAAAIECAMiTK1/O/EGAAQCiS59OvTp1BAQaVJgAoLv37+DDf1FPMCBAAAUFAKhfz769e/YB4jsAQL++/fv2EShoEKB/AIAQAAwkWNAggAIOIgRgGGCAAQARJU6kmIBBgwAZAxBYIADAR5AhRY4kWdLkSZQhAwIAOw==\"><title>Layer: input (input)\n shape = (28, 28, 1)\n Keras class = Input</title></image><text x=\"280.0\" y=\"1337.0\" font-family=\"monospace\" font-size=\"12\" text-anchor=\"start\" alignment-baseline=\"central\">input</text><text x=\"280.0\" y=\"1240\" font-family=\"monospace\" font-size=\"12\" text-anchor=\"start\" alignment-baseline=\"central\">1</text><text x=\"63.0\" y=\"1430\" font-family=\"monospace\" font-size=\"12\" text-anchor=\"start\" alignment-baseline=\"central\">0</text></svg></p>"
      }
     },
     "aa6455781ba949f38a89f415812d9846": {
      "model_module": "@jupyter-widgets/controls",
      "model_module_version": "1.0.0",
      "model_name": "DescriptionStyleModel",
      "state": {
       "description_width": ""
      }
     },
     "aaae60c7aa1c4bc8984931332b26584c": {
      "model_module": "@jupyter-widgets/controls",
      "model_module_version": "1.0.0",
      "model_name": "ButtonStyleModel",
      "state": {}
     },
     "aaed2480e7ea420f948a2eba51eb787a": {
      "model_module": "@jupyter-widgets/controls",
      "model_module_version": "1.0.0",
      "model_name": "VBoxModel",
      "state": {
       "children": [
        "IPY_MODEL_ff948304bb13485c902548db0b851a1e",
        "IPY_MODEL_c57bc9dc4976408a86de66725ffa0b36",
        "IPY_MODEL_8fc1bb1cbb264e4b8b4789c25e9f283d",
        "IPY_MODEL_4e6326ca77fc4004b496905ee2566b49"
       ],
       "layout": "IPY_MODEL_8948fb73e6704ffd96b64967cf85cbf6"
      }
     },
     "ab1e4bf8edfc4d6da11f0369c7befd54": {
      "model_module": "@jupyter-widgets/base",
      "model_module_version": "1.0.0",
      "model_name": "LayoutModel",
      "state": {}
     },
     "ab68ff5fbb2d4ff59c13bbb39ea964a6": {
      "model_module": "@jupyter-widgets/controls",
      "model_module_version": "1.0.0",
      "model_name": "DescriptionStyleModel",
      "state": {
       "description_width": ""
      }
     },
     "abba1c4bdc574d499878623caddee442": {
      "model_module": "@jupyter-widgets/base",
      "model_module_version": "1.0.0",
      "model_name": "LayoutModel",
      "state": {}
     },
     "ac9404dccfba4e719fe84d56b5183d8e": {
      "model_module": "@jupyter-widgets/base",
      "model_module_version": "1.0.0",
      "model_name": "LayoutModel",
      "state": {}
     },
     "aca67cec1baa4640876f3179e3f87c14": {
      "model_module": "@jupyter-widgets/controls",
      "model_module_version": "1.0.0",
      "model_name": "IntTextModel",
      "state": {
       "description": "Rightmost color maps to:",
       "layout": "IPY_MODEL_8d90978fe89143b0b0ac7a81baf3ae86",
       "step": 1,
       "style": "IPY_MODEL_6065e554cd004512b39b8286ea853a48",
       "value": 1
      }
     },
     "ad20a420e96449e3b077ccce6d4e04bd": {
      "model_module": "@jupyter-widgets/controls",
      "model_module_version": "1.0.0",
      "model_name": "CheckboxModel",
      "state": {
       "description": "Visible",
       "disabled": false,
       "layout": "IPY_MODEL_5a83029a96f44ac297cdd24e5242d910",
       "style": "IPY_MODEL_da5e4b22ff2c42e582589f73e2c38913",
       "value": true
      }
     },
     "ad3d6c4699d946d5bd51c0b1861fefe4": {
      "model_module": "@jupyter-widgets/base",
      "model_module_version": "1.0.0",
      "model_name": "LayoutModel",
      "state": {}
     },
     "ad718a35b54e4d8090bca03fd289e8c4": {
      "model_module": "@jupyter-widgets/base",
      "model_module_version": "1.0.0",
      "model_name": "LayoutModel",
      "state": {
       "width": "95%"
      }
     },
     "ad8b5c2b0c9f4ecc8ba78a9e9e3e66ed": {
      "model_module": "@jupyter-widgets/base",
      "model_module_version": "1.0.0",
      "model_name": "LayoutModel",
      "state": {
       "justify_content": "center",
       "overflow_x": "auto",
       "overflow_y": "auto",
       "width": "95%"
      }
     },
     "ade6915581f04156abffe0db76dae359": {
      "model_module": "@jupyter-widgets/controls",
      "model_module_version": "1.0.0",
      "model_name": "DescriptionStyleModel",
      "state": {
       "description_width": "initial"
      }
     },
     "ae77370db2094ce38d1ef4f1b9f818bd": {
      "model_module": "@jupyter-widgets/controls",
      "model_module_version": "1.0.0",
      "model_name": "IntTextModel",
      "state": {
       "description": "Rightmost color maps to:",
       "layout": "IPY_MODEL_08714c6707fe4b3aa8cdcee864130cdb",
       "step": 1,
       "style": "IPY_MODEL_42d5e6c30c59432db10247d2e3bf8031",
       "value": 1
      }
     },
     "ae95a6db11234e5e831b02debfa9284c": {
      "model_module": "@jupyter-widgets/base",
      "model_module_version": "1.0.0",
      "model_name": "LayoutModel",
      "state": {}
     },
     "aeda652a272043d8a19e3be979cf9503": {
      "model_module": "@jupyter-widgets/controls",
      "model_module_version": "1.0.0",
      "model_name": "HBoxModel",
      "state": {
       "children": [
        "IPY_MODEL_95163bf4b85746b09b9c1b22f8b5ec15",
        "IPY_MODEL_1d17b0adc3354408bdd371367c409aa9"
       ],
       "layout": "IPY_MODEL_aef7ea310ab4496595a23b810369f94a"
      }
     },
     "aef7ea310ab4496595a23b810369f94a": {
      "model_module": "@jupyter-widgets/base",
      "model_module_version": "1.0.0",
      "model_name": "LayoutModel",
      "state": {}
     },
     "af3f0dbf88c6487484a3637746b2298b": {
      "model_module": "@jupyter-widgets/controls",
      "model_module_version": "1.0.0",
      "model_name": "DescriptionStyleModel",
      "state": {
       "description_width": ""
      }
     },
     "af966ba6c22449cc8a140effb55ca6ed": {
      "model_module": "@jupyter-widgets/base",
      "model_module_version": "1.0.0",
      "model_name": "LayoutModel",
      "state": {}
     },
     "b04f85e18d4b470e8830cee716be0d3e": {
      "model_module": "@jupyter-widgets/base",
      "model_module_version": "1.0.0",
      "model_name": "LayoutModel",
      "state": {
       "overflow_x": "auto",
       "overflow_y": "auto",
       "width": "95%"
      }
     },
     "b06be5689c294a3fab410976da0f0602": {
      "model_module": "@jupyter-widgets/controls",
      "model_module_version": "1.0.0",
      "model_name": "DescriptionStyleModel",
      "state": {
       "description_width": ""
      }
     },
     "b0c957df192f412d8f048f05071058d7": {
      "model_module": "@jupyter-widgets/controls",
      "model_module_version": "1.0.0",
      "model_name": "IntTextModel",
      "state": {
       "description": "Feature to show:",
       "layout": "IPY_MODEL_2acca33a587749d6a98af9dbac920d02",
       "step": 1,
       "style": "IPY_MODEL_c3d579af457f43849e62ebf5ae3fdc2a"
      }
     },
     "b10ad5dcd2ad4ca2bf0160c119eb9607": {
      "model_module": "@jupyter-widgets/base",
      "model_module_version": "1.0.0",
      "model_name": "LayoutModel",
      "state": {}
     },
     "b12068c5cb9b44339547bc5758291748": {
      "model_module": "@jupyter-widgets/base",
      "model_module_version": "1.0.0",
      "model_name": "LayoutModel",
      "state": {}
     },
     "b14247a58d8848eba66bec103602ee6f": {
      "model_module": "@jupyter-widgets/base",
      "model_module_version": "1.0.0",
      "model_name": "LayoutModel",
      "state": {}
     },
     "b15ffbeb576c40cba0673746357eac4a": {
      "model_module": "@jupyter-widgets/base",
      "model_module_version": "1.0.0",
      "model_name": "LayoutModel",
      "state": {
       "width": "100%"
      }
     },
     "b1a6f29166f24704a684544a1535793c": {
      "model_module": "@jupyter-widgets/controls",
      "model_module_version": "1.0.0",
      "model_name": "DescriptionStyleModel",
      "state": {
       "description_width": "initial"
      }
     },
     "b1c1870366634bc98c8285eb2cdec03e": {
      "model_module": "@jupyter-widgets/base",
      "model_module_version": "1.0.0",
      "model_name": "LayoutModel",
      "state": {}
     },
     "b1ec63477e414b1caae54877edbcfeb5": {
      "model_module": "@jupyter-widgets/base",
      "model_module_version": "1.0.0",
      "model_name": "LayoutModel",
      "state": {}
     },
     "b247503497144d4cb3722e974abda6db": {
      "model_module": "@jupyter-widgets/controls",
      "model_module_version": "1.0.0",
      "model_name": "CheckboxModel",
      "state": {
       "description": "Show Errors",
       "disabled": false,
       "layout": "IPY_MODEL_3f6bd880fd0f4f1da6872e0af28cfeaa",
       "style": "IPY_MODEL_74821cb7be58497087bffaa5db60d68f",
       "value": false
      }
     },
     "b2da044902d24f35921c25f09899e910": {
      "model_module": "@jupyter-widgets/base",
      "model_module_version": "1.0.0",
      "model_name": "LayoutModel",
      "state": {
       "width": "100px"
      }
     },
     "b37dbd57bfe4471f94f7ff12e399384a": {
      "model_module": "@jupyter-widgets/base",
      "model_module_version": "1.0.0",
      "model_name": "LayoutModel",
      "state": {}
     },
     "b39cc79b60a94df4ac6ba5df438b26f4": {
      "model_module": "@jupyter-widgets/controls",
      "model_module_version": "1.0.0",
      "model_name": "ButtonStyleModel",
      "state": {}
     },
     "b3ad193fe3cf41dc9192a3f2a7f342f6": {
      "model_module": "@jupyter-widgets/controls",
      "model_module_version": "1.0.0",
      "model_name": "IntTextModel",
      "state": {
       "description": "Rightmost color maps to:",
       "layout": "IPY_MODEL_949d98c569a04ce48d2ca75e14e7b98a",
       "step": 1,
       "style": "IPY_MODEL_5d7d4e552903484cad4e96fa47443880",
       "value": 1
      }
     },
     "b3d094e24afb4f4282dd5c14c45d1570": {
      "model_module": "@jupyter-widgets/controls",
      "model_module_version": "1.0.0",
      "model_name": "ButtonStyleModel",
      "state": {}
     },
     "b3e8ed9671074bcaaa7302838cacdc9d": {
      "model_module": "@jupyter-widgets/base",
      "model_module_version": "1.0.0",
      "model_name": "LayoutModel",
      "state": {}
     },
     "b3ee4f95b333487685e0ca8ed8739fdf": {
      "model_module": "@jupyter-widgets/controls",
      "model_module_version": "1.0.0",
      "model_name": "ButtonStyleModel",
      "state": {}
     },
     "b3f87c66a7074ba687a5d6a131a5b6f4": {
      "model_module": "@jupyter-widgets/controls",
      "model_module_version": "1.0.0",
      "model_name": "DescriptionStyleModel",
      "state": {
       "description_width": ""
      }
     },
     "b462f64b6f454ba3aafcb11518b661ad": {
      "model_module": "@jupyter-widgets/controls",
      "model_module_version": "1.0.0",
      "model_name": "IntTextModel",
      "state": {
       "description": "Leftmost color maps to:",
       "layout": "IPY_MODEL_55070ee6efb5440cb605c80ad813efc1",
       "step": 1,
       "style": "IPY_MODEL_a182fab818a345af8a512c48f8d620e2",
       "value": -1
      }
     },
     "b4711d0345d5444ebef547ede31afc8e": {
      "model_module": "@jupyter-widgets/controls",
      "model_module_version": "1.0.0",
      "model_name": "HTMLModel",
      "state": {
       "layout": "IPY_MODEL_814e0f47891d409784d4a193792763f0",
       "style": "IPY_MODEL_30d6cdbbb84b43fa8b9214b32744b395",
       "value": "<img src=\"data:image/gif;base64,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\"/>"
      }
     },
     "b47fa616612241138911ddcdefa06645": {
      "model_module": "@jupyter-widgets/controls",
      "model_module_version": "1.0.0",
      "model_name": "IntTextModel",
      "state": {
       "description": "Rightmost color maps to:",
       "layout": "IPY_MODEL_fead5d009ad5455fafbbad82b855a60a",
       "step": 1,
       "style": "IPY_MODEL_281cb82fe99a4100b43bbc7b3c120f27",
       "value": 1
      }
     },
     "b4afbfb318d242229498fe17c7c1eb0f": {
      "model_module": "@jupyter-widgets/base",
      "model_module_version": "1.0.0",
      "model_name": "LayoutModel",
      "state": {}
     },
     "b4d838c0deb447289c3a706f1dbe75fd": {
      "model_module": "@jupyter-widgets/controls",
      "model_module_version": "1.0.0",
      "model_name": "DescriptionStyleModel",
      "state": {
       "description_width": ""
      }
     },
     "b52a1f2be3e349b69eb278cd6a7186cb": {
      "model_module": "@jupyter-widgets/base",
      "model_module_version": "1.0.0",
      "model_name": "LayoutModel",
      "state": {}
     },
     "b5312d4c2c9e41b08aa3e132882e497d": {
      "model_module": "@jupyter-widgets/controls",
      "model_module_version": "1.0.0",
      "model_name": "SelectModel",
      "state": {
       "_options_labels": [
        "Test",
        "Train"
       ],
       "description": "Dataset:",
       "index": 1,
       "layout": "IPY_MODEL_d67ae82966fb40aaa6484f7ed86265e3",
       "rows": 1,
       "style": "IPY_MODEL_e30f45dd52774d39ac3816ae323f0f67"
      }
     },
     "b574d934ad9943b1b2dceaf2319f8531": {
      "model_module": "@jupyter-widgets/controls",
      "model_module_version": "1.0.0",
      "model_name": "SelectModel",
      "state": {
       "_options_labels": [
        "",
        "Accent",
        "Accent_r",
        "Blues",
        "Blues_r",
        "BrBG",
        "BrBG_r",
        "BuGn",
        "BuGn_r",
        "BuPu",
        "BuPu_r",
        "CMRmap",
        "CMRmap_r",
        "Dark2",
        "Dark2_r",
        "GnBu",
        "GnBu_r",
        "Greens",
        "Greens_r",
        "Greys",
        "Greys_r",
        "OrRd",
        "OrRd_r",
        "Oranges",
        "Oranges_r",
        "PRGn",
        "PRGn_r",
        "Paired",
        "Paired_r",
        "Pastel1",
        "Pastel1_r",
        "Pastel2",
        "Pastel2_r",
        "PiYG",
        "PiYG_r",
        "PuBu",
        "PuBuGn",
        "PuBuGn_r",
        "PuBu_r",
        "PuOr",
        "PuOr_r",
        "PuRd",
        "PuRd_r",
        "Purples",
        "Purples_r",
        "RdBu",
        "RdBu_r",
        "RdGy",
        "RdGy_r",
        "RdPu",
        "RdPu_r",
        "RdYlBu",
        "RdYlBu_r",
        "RdYlGn",
        "RdYlGn_r",
        "Reds",
        "Reds_r",
        "Set1",
        "Set1_r",
        "Set2",
        "Set2_r",
        "Set3",
        "Set3_r",
        "Spectral",
        "Spectral_r",
        "Vega10",
        "Vega10_r",
        "Vega20",
        "Vega20_r",
        "Vega20b",
        "Vega20b_r",
        "Vega20c",
        "Vega20c_r",
        "Wistia",
        "Wistia_r",
        "YlGn",
        "YlGnBu",
        "YlGnBu_r",
        "YlGn_r",
        "YlOrBr",
        "YlOrBr_r",
        "YlOrRd",
        "YlOrRd_r",
        "afmhot",
        "afmhot_r",
        "autumn",
        "autumn_r",
        "binary",
        "binary_r",
        "bone",
        "bone_r",
        "brg",
        "brg_r",
        "bwr",
        "bwr_r",
        "cool",
        "cool_r",
        "coolwarm",
        "coolwarm_r",
        "copper",
        "copper_r",
        "cubehelix",
        "cubehelix_r",
        "flag",
        "flag_r",
        "gist_earth",
        "gist_earth_r",
        "gist_gray",
        "gist_gray_r",
        "gist_heat",
        "gist_heat_r",
        "gist_ncar",
        "gist_ncar_r",
        "gist_rainbow",
        "gist_rainbow_r",
        "gist_stern",
        "gist_stern_r",
        "gist_yarg",
        "gist_yarg_r",
        "gnuplot",
        "gnuplot2",
        "gnuplot2_r",
        "gnuplot_r",
        "gray",
        "gray_r",
        "hot",
        "hot_r",
        "hsv",
        "hsv_r",
        "inferno",
        "inferno_r",
        "jet",
        "jet_r",
        "magma",
        "magma_r",
        "nipy_spectral",
        "nipy_spectral_r",
        "ocean",
        "ocean_r",
        "pink",
        "pink_r",
        "plasma",
        "plasma_r",
        "prism",
        "prism_r",
        "rainbow",
        "rainbow_r",
        "seismic",
        "seismic_r",
        "spectral",
        "spectral_r",
        "spring",
        "spring_r",
        "summer",
        "summer_r",
        "tab10",
        "tab10_r",
        "tab20",
        "tab20_r",
        "tab20b",
        "tab20b_r",
        "tab20c",
        "tab20c_r",
        "terrain",
        "terrain_r",
        "viridis",
        "viridis_r",
        "winter",
        "winter_r"
       ],
       "description": "Colormap:",
       "index": 0,
       "layout": "IPY_MODEL_6664f6eeb6e34901b7ac4f5e4eec7a90",
       "rows": 1,
       "style": "IPY_MODEL_1467a19e7afc4a4cac566f9343f258d6"
      }
     },
     "b65396cfe2eb4cfebef9b2e1bbf759e6": {
      "model_module": "@jupyter-widgets/controls",
      "model_module_version": "1.0.0",
      "model_name": "DescriptionStyleModel",
      "state": {
       "description_width": "initial"
      }
     },
     "b697d0561b684ad09889aaacc8b6af07": {
      "model_module": "@jupyter-widgets/controls",
      "model_module_version": "1.0.0",
      "model_name": "DescriptionStyleModel",
      "state": {
       "description_width": "initial"
      }
     },
     "b717c326ac3b411a8c4501e315dae876": {
      "model_module": "@jupyter-widgets/base",
      "model_module_version": "1.0.0",
      "model_name": "LayoutModel",
      "state": {}
     },
     "b7758be4b6db499eaf053324748d5ac5": {
      "model_module": "@jupyter-widgets/controls",
      "model_module_version": "1.0.0",
      "model_name": "HTMLModel",
      "state": {
       "layout": "IPY_MODEL_3f6bd880fd0f4f1da6872e0af28cfeaa",
       "style": "IPY_MODEL_ab68ff5fbb2d4ff59c13bbb39ea964a6",
       "value": "<p><hr/><h3>output bank:</h3></p>"
      }
     },
     "b7c7488d0f5d4dfeb719498fbd072945": {
      "model_module": "@jupyter-widgets/controls",
      "model_module_version": "1.0.0",
      "model_name": "IntTextModel",
      "state": {
       "description": "Leftmost color maps to:",
       "layout": "IPY_MODEL_2af6a0cc616b466597beedd5f0a03e04",
       "step": 1,
       "style": "IPY_MODEL_672a583750be45d79c05d458612156f3",
       "value": -1
      }
     },
     "b7dcb79cb87f449c80c0b2690884860a": {
      "model_module": "@jupyter-widgets/controls",
      "model_module_version": "1.0.0",
      "model_name": "DescriptionStyleModel",
      "state": {
       "description_width": ""
      }
     },
     "b7ffe19a9ea448fd9d9456ff273f4ed8": {
      "model_module": "@jupyter-widgets/controls",
      "model_module_version": "1.0.0",
      "model_name": "VBoxModel",
      "state": {
       "children": [
        "IPY_MODEL_48186d367a914aee879f5c1eec8c3f26",
        "IPY_MODEL_c4dac167272841b8a04cd03453f4eaf0",
        "IPY_MODEL_022d6d72c7704d9c8beac9fc4d080551",
        "IPY_MODEL_06f54569cd434e6ca46b1b7e22adaf8c",
        "IPY_MODEL_e40cfaceb99c47a09dcedf518ca473c6"
       ],
       "layout": "IPY_MODEL_260ed86b34f14e9ab54dcc7d9d70e6bf"
      }
     },
     "b83ebc0bcc4643d78408d23ffcf6da2c": {
      "model_module": "@jupyter-widgets/base",
      "model_module_version": "1.0.0",
      "model_name": "LayoutModel",
      "state": {}
     },
     "b880122d3dc345d69cb58f4954151ac0": {
      "model_module": "@jupyter-widgets/controls",
      "model_module_version": "1.0.0",
      "model_name": "VBoxModel",
      "state": {
       "children": [
        "IPY_MODEL_0da4e0a7d2ff4aff980899269b4b466f",
        "IPY_MODEL_6d3f9cdea2a047b7880340b71559ac50",
        "IPY_MODEL_1785dee2660f4b089dfebff65cd9c25d"
       ],
       "layout": "IPY_MODEL_0414ababf1aa4b3faa24413a9002fa9a"
      }
     },
     "b88b87e4cc0a4858a0a68a007d4c5dc8": {
      "model_module": "@jupyter-widgets/controls",
      "model_module_version": "1.0.0",
      "model_name": "CheckboxModel",
      "state": {
       "description": "Visible",
       "disabled": false,
       "layout": "IPY_MODEL_6664f6eeb6e34901b7ac4f5e4eec7a90",
       "style": "IPY_MODEL_bf14b96661a34a9f94ae618aa97945ba",
       "value": true
      }
     },
     "b8aa1e94384541ecbdaaa2838b0a15ec": {
      "model_module": "@jupyter-widgets/controls",
      "model_module_version": "1.0.0",
      "model_name": "DescriptionStyleModel",
      "state": {
       "description_width": "initial"
      }
     },
     "b8b932a2c8aa48a5b33fc34c3ae49fca": {
      "model_module": "@jupyter-widgets/controls",
      "model_module_version": "1.0.0",
      "model_name": "DescriptionStyleModel",
      "state": {
       "description_width": ""
      }
     },
     "b8c1c655c1e74ad59ed6a9f1822a4099": {
      "model_module": "@jupyter-widgets/controls",
      "model_module_version": "1.0.0",
      "model_name": "DescriptionStyleModel",
      "state": {
       "description_width": "initial"
      }
     },
     "b8ebc4c482af45eb8a7e4a32eb3516ad": {
      "model_module": "@jupyter-widgets/base",
      "model_module_version": "1.0.0",
      "model_name": "LayoutModel",
      "state": {
       "overflow_x": "auto",
       "overflow_y": "auto",
       "width": "95%"
      }
     },
     "b909fc57abc541a6a4b50a90f28693f4": {
      "model_module": "@jupyter-widgets/controls",
      "model_module_version": "1.0.0",
      "model_name": "CheckboxModel",
      "state": {
       "description": "Visible",
       "disabled": false,
       "layout": "IPY_MODEL_3f6bd880fd0f4f1da6872e0af28cfeaa",
       "style": "IPY_MODEL_8d8a9255bf304450b6fffb0eb2fbdc20",
       "value": true
      }
     },
     "b938c3ee73ea4a759d5f5070ff9d87e6": {
      "model_module": "@jupyter-widgets/base",
      "model_module_version": "1.0.0",
      "model_name": "LayoutModel",
      "state": {}
     },
     "b9c362dbc2cb422d8748f7aeaccbb76b": {
      "model_module": "@jupyter-widgets/controls",
      "model_module_version": "1.0.0",
      "model_name": "HBoxModel",
      "state": {
       "children": [
        "IPY_MODEL_b5312d4c2c9e41b08aa3e132882e497d",
        "IPY_MODEL_0494533087074c068149f01e8eb2982a",
        "IPY_MODEL_20288db592c240178f06c30960c6e92b"
       ],
       "layout": "IPY_MODEL_3d8ae65e240d4e0eadd9a70d9dcde20b"
      }
     },
     "b9e91643ce364dcab441b42874861fee": {
      "model_module": "@jupyter-widgets/controls",
      "model_module_version": "1.0.0",
      "model_name": "CheckboxModel",
      "state": {
       "description": "Visible",
       "disabled": false,
       "layout": "IPY_MODEL_6664f6eeb6e34901b7ac4f5e4eec7a90",
       "style": "IPY_MODEL_f7ec7c8cfb7541a3bcb49bd6585efeae",
       "value": true
      }
     },
     "ba0f57bed2d2460fbdfb86800b616e6d": {
      "model_module": "@jupyter-widgets/controls",
      "model_module_version": "1.0.0",
      "model_name": "ButtonModel",
      "state": {
       "icon": "fast-backward",
       "layout": "IPY_MODEL_966511b3110b46e7925f1d04669062a0",
       "style": "IPY_MODEL_45cdb61f6014402291906a5a4d797da4"
      }
     },
     "ba65f2b42b5e4b659236d89677aa3642": {
      "model_module": "@jupyter-widgets/base",
      "model_module_version": "1.0.0",
      "model_name": "LayoutModel",
      "state": {}
     },
     "bb6449748a2341d5880441c5e936051a": {
      "model_module": "@jupyter-widgets/controls",
      "model_module_version": "1.0.0",
      "model_name": "DescriptionStyleModel",
      "state": {
       "description_width": "initial"
      }
     },
     "bb65128552fb491dad21735435192050": {
      "model_module": "@jupyter-widgets/base",
      "model_module_version": "1.0.0",
      "model_name": "LayoutModel",
      "state": {}
     },
     "bb83764484b842faa5b24e170f5d0c85": {
      "model_module": "@jupyter-widgets/base",
      "model_module_version": "1.0.0",
      "model_name": "LayoutModel",
      "state": {}
     },
     "bba33763e2a74508acee0ba1c3122b7f": {
      "model_module": "@jupyter-widgets/controls",
      "model_module_version": "1.0.0",
      "model_name": "CheckboxModel",
      "state": {
       "description": "Show Targets",
       "disabled": false,
       "layout": "IPY_MODEL_5a83029a96f44ac297cdd24e5242d910",
       "style": "IPY_MODEL_0ca6ac59b6f34054975459181de23e23",
       "value": false
      }
     },
     "bbb3c900d2b448128bf0b79a55c2f3e0": {
      "model_module": "@jupyter-widgets/controls",
      "model_module_version": "1.0.0",
      "model_name": "HTMLModel",
      "state": {
       "layout": "IPY_MODEL_af966ba6c22449cc8a140effb55ca6ed",
       "style": "IPY_MODEL_d24812781f564b16960245b899b22432",
       "value": "<p><hr/><h3>Conv2D-2 bank:</h3></p>"
      }
     },
     "bbb3d098c8934613a751b80245bb05a3": {
      "model_module": "@jupyter-widgets/controls",
      "model_module_version": "1.0.0",
      "model_name": "SelectModel",
      "state": {
       "_options_labels": [
        "",
        "Accent",
        "Accent_r",
        "Blues",
        "Blues_r",
        "BrBG",
        "BrBG_r",
        "BuGn",
        "BuGn_r",
        "BuPu",
        "BuPu_r",
        "CMRmap",
        "CMRmap_r",
        "Dark2",
        "Dark2_r",
        "GnBu",
        "GnBu_r",
        "Greens",
        "Greens_r",
        "Greys",
        "Greys_r",
        "OrRd",
        "OrRd_r",
        "Oranges",
        "Oranges_r",
        "PRGn",
        "PRGn_r",
        "Paired",
        "Paired_r",
        "Pastel1",
        "Pastel1_r",
        "Pastel2",
        "Pastel2_r",
        "PiYG",
        "PiYG_r",
        "PuBu",
        "PuBuGn",
        "PuBuGn_r",
        "PuBu_r",
        "PuOr",
        "PuOr_r",
        "PuRd",
        "PuRd_r",
        "Purples",
        "Purples_r",
        "RdBu",
        "RdBu_r",
        "RdGy",
        "RdGy_r",
        "RdPu",
        "RdPu_r",
        "RdYlBu",
        "RdYlBu_r",
        "RdYlGn",
        "RdYlGn_r",
        "Reds",
        "Reds_r",
        "Set1",
        "Set1_r",
        "Set2",
        "Set2_r",
        "Set3",
        "Set3_r",
        "Spectral",
        "Spectral_r",
        "Vega10",
        "Vega10_r",
        "Vega20",
        "Vega20_r",
        "Vega20b",
        "Vega20b_r",
        "Vega20c",
        "Vega20c_r",
        "Wistia",
        "Wistia_r",
        "YlGn",
        "YlGnBu",
        "YlGnBu_r",
        "YlGn_r",
        "YlOrBr",
        "YlOrBr_r",
        "YlOrRd",
        "YlOrRd_r",
        "afmhot",
        "afmhot_r",
        "autumn",
        "autumn_r",
        "binary",
        "binary_r",
        "bone",
        "bone_r",
        "brg",
        "brg_r",
        "bwr",
        "bwr_r",
        "cool",
        "cool_r",
        "coolwarm",
        "coolwarm_r",
        "copper",
        "copper_r",
        "cubehelix",
        "cubehelix_r",
        "flag",
        "flag_r",
        "gist_earth",
        "gist_earth_r",
        "gist_gray",
        "gist_gray_r",
        "gist_heat",
        "gist_heat_r",
        "gist_ncar",
        "gist_ncar_r",
        "gist_rainbow",
        "gist_rainbow_r",
        "gist_stern",
        "gist_stern_r",
        "gist_yarg",
        "gist_yarg_r",
        "gnuplot",
        "gnuplot2",
        "gnuplot2_r",
        "gnuplot_r",
        "gray",
        "gray_r",
        "hot",
        "hot_r",
        "hsv",
        "hsv_r",
        "inferno",
        "inferno_r",
        "jet",
        "jet_r",
        "magma",
        "magma_r",
        "nipy_spectral",
        "nipy_spectral_r",
        "ocean",
        "ocean_r",
        "pink",
        "pink_r",
        "plasma",
        "plasma_r",
        "prism",
        "prism_r",
        "rainbow",
        "rainbow_r",
        "seismic",
        "seismic_r",
        "spectral",
        "spectral_r",
        "spring",
        "spring_r",
        "summer",
        "summer_r",
        "tab10",
        "tab10_r",
        "tab20",
        "tab20_r",
        "tab20b",
        "tab20b_r",
        "tab20c",
        "tab20c_r",
        "terrain",
        "terrain_r",
        "viridis",
        "viridis_r",
        "winter",
        "winter_r"
       ],
       "description": "Colormap:",
       "index": 125,
       "layout": "IPY_MODEL_5a83029a96f44ac297cdd24e5242d910",
       "rows": 1,
       "style": "IPY_MODEL_c23e3600c93f46dcbfa83a38ab26c49d"
      }
     },
     "bc1f24e3ae5941baaaf2bf6266fb006b": {
      "model_module": "@jupyter-widgets/controls",
      "model_module_version": "1.0.0",
      "model_name": "DescriptionStyleModel",
      "state": {
       "description_width": ""
      }
     },
     "bcef9651791d458c9b52f8da969896ab": {
      "model_module": "@jupyter-widgets/base",
      "model_module_version": "1.0.0",
      "model_name": "LayoutModel",
      "state": {}
     },
     "bd88d525207e4e68861be11f5c6384ce": {
      "model_module": "@jupyter-widgets/base",
      "model_module_version": "1.0.0",
      "model_name": "LayoutModel",
      "state": {}
     },
     "bdb597469f1145d8bc010af275a2b1fa": {
      "model_module": "@jupyter-widgets/base",
      "model_module_version": "1.0.0",
      "model_name": "LayoutModel",
      "state": {
       "width": "95%"
      }
     },
     "bdf8c70c4f92462ca1e8548746776a36": {
      "model_module": "@jupyter-widgets/controls",
      "model_module_version": "1.0.0",
      "model_name": "VBoxModel",
      "state": {
       "children": [
        "IPY_MODEL_7c0f84d12c1f45fb82e2c9cb93f363b7",
        "IPY_MODEL_b88b87e4cc0a4858a0a68a007d4c5dc8",
        "IPY_MODEL_d4331cde97ed486db10b702153322f20",
        "IPY_MODEL_0be6d5f810bf497dbff47d7312afa46a",
        "IPY_MODEL_a4c7765f133b4423b87406a8cbf50b95"
       ],
       "layout": "IPY_MODEL_e485b37f5006410badea705a8a7ddb7e"
      }
     },
     "be228bf26a384e35af88bfab32754121": {
      "model_module": "@jupyter-widgets/base",
      "model_module_version": "1.0.0",
      "model_name": "LayoutModel",
      "state": {}
     },
     "be50c66b89cc48348559bef9e3a5ca17": {
      "model_module": "@jupyter-widgets/controls",
      "model_module_version": "1.0.0",
      "model_name": "ButtonModel",
      "state": {
       "icon": "fast-backward",
       "layout": "IPY_MODEL_0319b02e12244913865919e7473c70b7",
       "style": "IPY_MODEL_e23da3d1f6e04ca5a48f1b5e70dea9a1"
      }
     },
     "be930fd45d9b481e952fe1ca89062ae5": {
      "model_module": "@jupyter-widgets/base",
      "model_module_version": "1.0.0",
      "model_name": "LayoutModel",
      "state": {}
     },
     "beeaa00718aa44c3892cff1ddab86b9e": {
      "model_module": "@jupyter-widgets/controls",
      "model_module_version": "1.0.0",
      "model_name": "HTMLModel",
      "state": {
       "layout": "IPY_MODEL_3f6bd880fd0f4f1da6872e0af28cfeaa",
       "style": "IPY_MODEL_931e909aebe34f298784e14d87add0a9",
       "value": "<p><hr/><h3>Conv2D-1 bank:</h3></p>"
      }
     },
     "bf14b96661a34a9f94ae618aa97945ba": {
      "model_module": "@jupyter-widgets/controls",
      "model_module_version": "1.0.0",
      "model_name": "DescriptionStyleModel",
      "state": {
       "description_width": ""
      }
     },
     "bf5e0413184a4d5289a40c5c9c5e7190": {
      "model_module": "@jupyter-widgets/base",
      "model_module_version": "1.0.0",
      "model_name": "LayoutModel",
      "state": {}
     },
     "bfd37c6a62894117841b15e1c3b1d829": {
      "model_module": "@jupyter-widgets/base",
      "model_module_version": "1.0.0",
      "model_name": "LayoutModel",
      "state": {}
     },
     "c0076e81b2114fb2b3defd9796bdaa66": {
      "model_module": "@jupyter-widgets/base",
      "model_module_version": "1.0.0",
      "model_name": "LayoutModel",
      "state": {}
     },
     "c02522f948124d34bbbc984861b8ba4d": {
      "model_module": "@jupyter-widgets/controls",
      "model_module_version": "1.0.0",
      "model_name": "ButtonStyleModel",
      "state": {}
     },
     "c1084b7132bd43a59d9a684cb4bccc21": {
      "model_module": "@jupyter-widgets/controls",
      "model_module_version": "1.0.0",
      "model_name": "DescriptionStyleModel",
      "state": {
       "description_width": ""
      }
     },
     "c125673144474f5c971643aa3db1e4f8": {
      "model_module": "@jupyter-widgets/controls",
      "model_module_version": "1.0.0",
      "model_name": "DescriptionStyleModel",
      "state": {
       "description_width": ""
      }
     },
     "c1eb480f547f498cabe3e68922a53e00": {
      "model_module": "@jupyter-widgets/controls",
      "model_module_version": "1.0.0",
      "model_name": "LabelModel",
      "state": {
       "layout": "IPY_MODEL_b2da044902d24f35921c25f09899e910",
       "style": "IPY_MODEL_ed7293af21254480a07dbe5ef2eea261",
       "value": "of 7000"
      }
     },
     "c23e3600c93f46dcbfa83a38ab26c49d": {
      "model_module": "@jupyter-widgets/controls",
      "model_module_version": "1.0.0",
      "model_name": "DescriptionStyleModel",
      "state": {
       "description_width": ""
      }
     },
     "c24e5cb84add4ec9b4ff8961c58bb82d": {
      "model_module": "@jupyter-widgets/controls",
      "model_module_version": "1.0.0",
      "model_name": "LabelModel",
      "state": {
       "layout": "IPY_MODEL_3e90a52e664143978fa71758b87af2ed",
       "style": "IPY_MODEL_8e155813edf848108eba242e319fa074",
       "value": "of 70000"
      }
     },
     "c2d63956ec4d45d7a97ffbf3a9a00214": {
      "model_module": "@jupyter-widgets/base",
      "model_module_version": "1.0.0",
      "model_name": "LayoutModel",
      "state": {}
     },
     "c322382cba804cdbaef2b506a26e9ee8": {
      "model_module": "@jupyter-widgets/controls",
      "model_module_version": "1.0.0",
      "model_name": "ButtonModel",
      "state": {
       "description": "Play",
       "icon": "play",
       "layout": "IPY_MODEL_85acc23eac2643e6aee5bd5f3d40e4dd",
       "style": "IPY_MODEL_de622c06d13e4f968b897ff8bf5a402f"
      }
     },
     "c392706487344005b5d32b1b12b5d4c2": {
      "model_module": "@jupyter-widgets/controls",
      "model_module_version": "1.0.0",
      "model_name": "DescriptionStyleModel",
      "state": {
       "description_width": ""
      }
     },
     "c39fd119afe84ed78ea588acb924ddb8": {
      "model_module": "@jupyter-widgets/controls",
      "model_module_version": "1.0.0",
      "model_name": "DescriptionStyleModel",
      "state": {
       "description_width": ""
      }
     },
     "c3d4c764e3384488a01fb985680f7a00": {
      "model_module": "@jupyter-widgets/base",
      "model_module_version": "1.0.0",
      "model_name": "LayoutModel",
      "state": {}
     },
     "c3d579af457f43849e62ebf5ae3fdc2a": {
      "model_module": "@jupyter-widgets/controls",
      "model_module_version": "1.0.0",
      "model_name": "DescriptionStyleModel",
      "state": {
       "description_width": "initial"
      }
     },
     "c4dac167272841b8a04cd03453f4eaf0": {
      "model_module": "@jupyter-widgets/controls",
      "model_module_version": "1.0.0",
      "model_name": "CheckboxModel",
      "state": {
       "description": "Visible",
       "disabled": false,
       "layout": "IPY_MODEL_5a83029a96f44ac297cdd24e5242d910",
       "style": "IPY_MODEL_93ccd4bdd94846c8b4c106ef28b6c4b6",
       "value": true
      }
     },
     "c50f1310a9f14c729bf618379d471305": {
      "model_module": "@jupyter-widgets/base",
      "model_module_version": "1.0.0",
      "model_name": "LayoutModel",
      "state": {}
     },
     "c51eee9832184d7e88f44217d85b31ae": {
      "model_module": "@jupyter-widgets/controls",
      "model_module_version": "1.0.0",
      "model_name": "IntTextModel",
      "state": {
       "description": "Rightmost color maps to:",
       "layout": "IPY_MODEL_e83af5fdad5d49b78932a35994e01d51",
       "step": 1,
       "style": "IPY_MODEL_7ca48ebd7c994a2d94286f727ac09530",
       "value": 1
      }
     },
     "c5257a96e1aa4026b9b3ccfb0727b1e6": {
      "model_module": "@jupyter-widgets/controls",
      "model_module_version": "1.0.0",
      "model_name": "HTMLModel",
      "state": {
       "layout": "IPY_MODEL_3f6bd880fd0f4f1da6872e0af28cfeaa",
       "style": "IPY_MODEL_d5f53bee0d9b459d895b5e4a070d2498",
       "value": "<p><hr/><h3>maxpool1 bank:</h3></p>"
      }
     },
     "c57bc9dc4976408a86de66725ffa0b36": {
      "model_module": "@jupyter-widgets/controls",
      "model_module_version": "1.0.0",
      "model_name": "CheckboxModel",
      "state": {
       "description": "Visible",
       "disabled": false,
       "layout": "IPY_MODEL_3f6bd880fd0f4f1da6872e0af28cfeaa",
       "style": "IPY_MODEL_2ad2196d347e4cf1beefa4de424a0fdd",
       "value": true
      }
     },
     "c597b59bbf1246419d7249ffdfac60cf": {
      "model_module": "@jupyter-widgets/controls",
      "model_module_version": "1.0.0",
      "model_name": "CheckboxModel",
      "state": {
       "description": "Visible",
       "disabled": false,
       "layout": "IPY_MODEL_5a83029a96f44ac297cdd24e5242d910",
       "style": "IPY_MODEL_139f84e2f7da400b90fc8fa921a4ba1b",
       "value": true
      }
     },
     "c5a010e02ec549b9bc5dab5ad9aae0d6": {
      "model_module": "@jupyter-widgets/controls",
      "model_module_version": "1.0.0",
      "model_name": "HTMLModel",
      "state": {
       "layout": "IPY_MODEL_3f6bd880fd0f4f1da6872e0af28cfeaa",
       "style": "IPY_MODEL_457925a53fe34e0fb152efb0b05f2ea9",
       "value": "<p><hr/><h3>Conv2D-2 bank:</h3></p>"
      }
     },
     "c5f9053204d9459baa3a9b4cbacadc77": {
      "model_module": "@jupyter-widgets/controls",
      "model_module_version": "1.0.0",
      "model_name": "IntTextModel",
      "state": {
       "description": "Rightmost color maps to:",
       "layout": "IPY_MODEL_039f697d11174b3aba54a732bdb91cd1",
       "step": 1,
       "style": "IPY_MODEL_b8c1c655c1e74ad59ed6a9f1822a4099",
       "value": 1
      }
     },
     "c6499fff645a4a5baaeed8c40c07edcd": {
      "model_module": "@jupyter-widgets/controls",
      "model_module_version": "1.0.0",
      "model_name": "IntTextModel",
      "state": {
       "description": "Rightmost color maps to:",
       "layout": "IPY_MODEL_5bba208fb8834db3a994f4b739498f3a",
       "step": 1,
       "style": "IPY_MODEL_0489b0f3426d489388a675960b229408",
       "value": 1
      }
     },
     "c66efd2ec4744d2bab2ab7b3475c2e3a": {
      "model_module": "@jupyter-widgets/controls",
      "model_module_version": "1.0.0",
      "model_name": "SelectModel",
      "state": {
       "_options_labels": [
        "",
        "Accent",
        "Accent_r",
        "Blues",
        "Blues_r",
        "BrBG",
        "BrBG_r",
        "BuGn",
        "BuGn_r",
        "BuPu",
        "BuPu_r",
        "CMRmap",
        "CMRmap_r",
        "Dark2",
        "Dark2_r",
        "GnBu",
        "GnBu_r",
        "Greens",
        "Greens_r",
        "Greys",
        "Greys_r",
        "OrRd",
        "OrRd_r",
        "Oranges",
        "Oranges_r",
        "PRGn",
        "PRGn_r",
        "Paired",
        "Paired_r",
        "Pastel1",
        "Pastel1_r",
        "Pastel2",
        "Pastel2_r",
        "PiYG",
        "PiYG_r",
        "PuBu",
        "PuBuGn",
        "PuBuGn_r",
        "PuBu_r",
        "PuOr",
        "PuOr_r",
        "PuRd",
        "PuRd_r",
        "Purples",
        "Purples_r",
        "RdBu",
        "RdBu_r",
        "RdGy",
        "RdGy_r",
        "RdPu",
        "RdPu_r",
        "RdYlBu",
        "RdYlBu_r",
        "RdYlGn",
        "RdYlGn_r",
        "Reds",
        "Reds_r",
        "Set1",
        "Set1_r",
        "Set2",
        "Set2_r",
        "Set3",
        "Set3_r",
        "Spectral",
        "Spectral_r",
        "Vega10",
        "Vega10_r",
        "Vega20",
        "Vega20_r",
        "Vega20b",
        "Vega20b_r",
        "Vega20c",
        "Vega20c_r",
        "Wistia",
        "Wistia_r",
        "YlGn",
        "YlGnBu",
        "YlGnBu_r",
        "YlGn_r",
        "YlOrBr",
        "YlOrBr_r",
        "YlOrRd",
        "YlOrRd_r",
        "afmhot",
        "afmhot_r",
        "autumn",
        "autumn_r",
        "binary",
        "binary_r",
        "bone",
        "bone_r",
        "brg",
        "brg_r",
        "bwr",
        "bwr_r",
        "cool",
        "cool_r",
        "coolwarm",
        "coolwarm_r",
        "copper",
        "copper_r",
        "cubehelix",
        "cubehelix_r",
        "flag",
        "flag_r",
        "gist_earth",
        "gist_earth_r",
        "gist_gray",
        "gist_gray_r",
        "gist_heat",
        "gist_heat_r",
        "gist_ncar",
        "gist_ncar_r",
        "gist_rainbow",
        "gist_rainbow_r",
        "gist_stern",
        "gist_stern_r",
        "gist_yarg",
        "gist_yarg_r",
        "gnuplot",
        "gnuplot2",
        "gnuplot2_r",
        "gnuplot_r",
        "gray",
        "gray_r",
        "hot",
        "hot_r",
        "hsv",
        "hsv_r",
        "inferno",
        "inferno_r",
        "jet",
        "jet_r",
        "magma",
        "magma_r",
        "nipy_spectral",
        "nipy_spectral_r",
        "ocean",
        "ocean_r",
        "pink",
        "pink_r",
        "plasma",
        "plasma_r",
        "prism",
        "prism_r",
        "rainbow",
        "rainbow_r",
        "seismic",
        "seismic_r",
        "spectral",
        "spectral_r",
        "spring",
        "spring_r",
        "summer",
        "summer_r",
        "tab10",
        "tab10_r",
        "tab20",
        "tab20_r",
        "tab20b",
        "tab20b_r",
        "tab20c",
        "tab20c_r",
        "terrain",
        "terrain_r",
        "viridis",
        "viridis_r",
        "winter",
        "winter_r"
       ],
       "description": "Colormap:",
       "index": 0,
       "layout": "IPY_MODEL_3f6bd880fd0f4f1da6872e0af28cfeaa",
       "rows": 1,
       "style": "IPY_MODEL_b4d838c0deb447289c3a706f1dbe75fd"
      }
     },
     "c6d5505e3f014759a75027fb4adab40f": {
      "model_module": "@jupyter-widgets/base",
      "model_module_version": "1.0.0",
      "model_name": "LayoutModel",
      "state": {}
     },
     "c7a5288f81be469abf3199163fd90d13": {
      "model_module": "@jupyter-widgets/controls",
      "model_module_version": "1.0.0",
      "model_name": "DescriptionStyleModel",
      "state": {
       "description_width": ""
      }
     },
     "c7a96fffa1ff406eaa797e15d62d8e59": {
      "model_module": "@jupyter-widgets/controls",
      "model_module_version": "1.0.0",
      "model_name": "DescriptionStyleModel",
      "state": {
       "description_width": ""
      }
     },
     "c7f6ece65b5548da9bdd17b072eef03a": {
      "model_module": "@jupyter-widgets/controls",
      "model_module_version": "1.0.0",
      "model_name": "FloatSliderModel",
      "state": {
       "continuous_update": false,
       "description": "Zoom",
       "layout": "IPY_MODEL_bb65128552fb491dad21735435192050",
       "max": 3,
       "min": 0.5,
       "step": 0.1,
       "style": "IPY_MODEL_d7499bc89e4a45dd889049ff492a8923",
       "value": 1
      }
     },
     "c89ff39d7db5466ba2d9b25d09f2df54": {
      "model_module": "@jupyter-widgets/controls",
      "model_module_version": "1.0.0",
      "model_name": "VBoxModel",
      "state": {
       "children": [
        "IPY_MODEL_419e66a0481d4d228ebdeca4defb5631",
        "IPY_MODEL_e81603aa602e4a239d7808a1c11e30b3",
        "IPY_MODEL_dc96a51608044b8389bfcab16620f1e1"
       ],
       "layout": "IPY_MODEL_9aa32ac3022f4315bbbf2cf06f7041f7"
      }
     },
     "ca30196619684630a4609e24e7f4408e": {
      "model_module": "@jupyter-widgets/controls",
      "model_module_version": "1.0.0",
      "model_name": "DescriptionStyleModel",
      "state": {
       "description_width": ""
      }
     },
     "ca6cc926e46b47deba5d7700c73bdaae": {
      "model_module": "@jupyter-widgets/controls",
      "model_module_version": "1.0.0",
      "model_name": "HBoxModel",
      "state": {
       "children": [
        "IPY_MODEL_6d96f2387ed1424888008b8959ce7646",
        "IPY_MODEL_b47fa616612241138911ddcdefa06645"
       ],
       "layout": "IPY_MODEL_8635951c1f814ddba83be1599ce339c8"
      }
     },
     "cab791d4987b41ba959cfd5767ffd197": {
      "model_module": "@jupyter-widgets/controls",
      "model_module_version": "1.0.0",
      "model_name": "HTMLModel",
      "state": {
       "layout": "IPY_MODEL_6664f6eeb6e34901b7ac4f5e4eec7a90",
       "style": "IPY_MODEL_11e0003848ba407da18a6b76cb03e4b3",
       "value": "<p><hr/><h3>Conv2D-2 bank:</h3></p>"
      }
     },
     "cae2864474b8405d93a922e1a8859c79": {
      "model_module": "@jupyter-widgets/controls",
      "model_module_version": "1.0.0",
      "model_name": "HTMLModel",
      "state": {
       "layout": "IPY_MODEL_6ffe7a6a593e4250bd26da127380877c",
       "style": "IPY_MODEL_0f0f3669251a4666945ced50026d77e2",
       "value": "<iframe src=\"https://conx.readthedocs.io\" width=\"100%\" height=\"550px\"></frame>"
      }
     },
     "cb6c9d5c1ea445ea8600ab8532c292dd": {
      "model_module": "@jupyter-widgets/controls",
      "model_module_version": "1.0.0",
      "model_name": "IntTextModel",
      "state": {
       "description": "Rightmost color maps to:",
       "layout": "IPY_MODEL_bb83764484b842faa5b24e170f5d0c85",
       "step": 1,
       "style": "IPY_MODEL_7d384a6a56d146938f1fb555d4d19e39",
       "value": 1
      }
     },
     "cc6c1d8a21a345038a1346f3182d740a": {
      "model_module": "@jupyter-widgets/base",
      "model_module_version": "1.0.0",
      "model_name": "LayoutModel",
      "state": {}
     },
     "ccb17dda1a2a4efabd7946a7294192ab": {
      "model_module": "@jupyter-widgets/controls",
      "model_module_version": "1.0.0",
      "model_name": "HBoxModel",
      "state": {
       "children": [
        "IPY_MODEL_4620ab28f98d49e6b9e2874e93dcefd4",
        "IPY_MODEL_f08873c14bc24e9c8e94f6359041f7f8"
       ],
       "layout": "IPY_MODEL_85a4039c3b7a4d79abfa33502b393a5d"
      }
     },
     "cd9cf70deb50467cbb6e16bd4aa23565": {
      "model_module": "@jupyter-widgets/controls",
      "model_module_version": "1.0.0",
      "model_name": "VBoxModel",
      "state": {
       "children": [
        "IPY_MODEL_2f20cef8e6544595be279efc41939250",
        "IPY_MODEL_565c1f7a86e044ed8701a17f1337a7a5",
        "IPY_MODEL_799ee59b9fa7469fb794f402f4fe8768",
        "IPY_MODEL_26d4dcbc89654a71a4b94fa34f7d7fe1",
        "IPY_MODEL_740e653ce83d474b980936f82700d0ab"
       ],
       "layout": "IPY_MODEL_a005479412714fc1a63e4dadcd729c92"
      }
     },
     "cde6b94484074e4bb5ee41bd42d39799": {
      "model_module": "@jupyter-widgets/controls",
      "model_module_version": "1.0.0",
      "model_name": "HBoxModel",
      "state": {
       "children": [
        "IPY_MODEL_469c8b33ab66492dbe81d12d558cdc7f",
        "IPY_MODEL_4ef9eab6ccb445c999422ed594d66955"
       ],
       "layout": "IPY_MODEL_56e87d988e5e436ba1e0a711947901da"
      }
     },
     "ce0afa28463b4a81aa8deca7e5fa0740": {
      "model_module": "@jupyter-widgets/controls",
      "model_module_version": "1.0.0",
      "model_name": "HTMLModel",
      "state": {
       "layout": "IPY_MODEL_af966ba6c22449cc8a140effb55ca6ed",
       "style": "IPY_MODEL_f98a585b474b406397a25fc7a4a0f84a",
       "value": "<p><hr/><h3>output bank:</h3></p>"
      }
     },
     "ce1e785e220442a8b64c053f3ae38391": {
      "model_module": "@jupyter-widgets/controls",
      "model_module_version": "1.0.0",
      "model_name": "DescriptionStyleModel",
      "state": {
       "description_width": ""
      }
     },
     "ce304e56a86f4786b4821011d9a63b19": {
      "model_module": "@jupyter-widgets/controls",
      "model_module_version": "1.0.0",
      "model_name": "IntTextModel",
      "state": {
       "description": "Leftmost color maps to:",
       "layout": "IPY_MODEL_7156a9d418524e9fac979aa942e0500a",
       "step": 1,
       "style": "IPY_MODEL_9676a86d2a7a471b88b233731e916a0f",
       "value": -1
      }
     },
     "ce564b34fb684288a98c8974785dc61e": {
      "model_module": "@jupyter-widgets/controls",
      "model_module_version": "1.0.0",
      "model_name": "VBoxModel",
      "state": {
       "children": [
        "IPY_MODEL_a3f9c534bd794bf7883312ea12bfd167",
        "IPY_MODEL_1c875285ca40456393cc38403e0d95db",
        "IPY_MODEL_25da2fb2a0564eabb123fb519dd3a425",
        "IPY_MODEL_096d35354f004cc9b57ad672d72452a0",
        "IPY_MODEL_72c995b669094306a72b661143a9df4c"
       ],
       "layout": "IPY_MODEL_4e4a48ff9e9246aa903f5e27ff1888ac"
      }
     },
     "ce5c7cf2b4f44bc5a7037b58a7249d02": {
      "model_module": "@jupyter-widgets/base",
      "model_module_version": "1.0.0",
      "model_name": "LayoutModel",
      "state": {}
     },
     "ce858fbd0c284897b34749b62612448d": {
      "model_module": "@jupyter-widgets/controls",
      "model_module_version": "1.0.0",
      "model_name": "VBoxModel",
      "state": {
       "children": [
        "IPY_MODEL_b880122d3dc345d69cb58f4954151ac0",
        "IPY_MODEL_aa3c70e4bcd94cca9e5ef538857542fd"
       ],
       "layout": "IPY_MODEL_96f6aa5add0f4d59bbed117d908c3f78"
      }
     },
     "cebe3060f660462c96b361b673476d37": {
      "model_module": "@jupyter-widgets/controls",
      "model_module_version": "1.0.0",
      "model_name": "DescriptionStyleModel",
      "state": {
       "description_width": ""
      }
     },
     "cf19765f1a694f1fae51ec392bcdc62c": {
      "model_module": "@jupyter-widgets/base",
      "model_module_version": "1.0.0",
      "model_name": "LayoutModel",
      "state": {}
     },
     "d018b3af1ec944b4a2e92589f8241574": {
      "model_module": "@jupyter-widgets/controls",
      "model_module_version": "1.0.0",
      "model_name": "CheckboxModel",
      "state": {
       "description": "Show Targets",
       "disabled": false,
       "layout": "IPY_MODEL_af966ba6c22449cc8a140effb55ca6ed",
       "style": "IPY_MODEL_ce1e785e220442a8b64c053f3ae38391",
       "value": false
      }
     },
     "d0de6a481bc34acc8b9ae03081161ccf": {
      "model_module": "@jupyter-widgets/controls",
      "model_module_version": "1.0.0",
      "model_name": "VBoxModel",
      "state": {
       "children": [
        "IPY_MODEL_26e1083552b04f9fb3caa971c5ac0471",
        "IPY_MODEL_f4cf500944ed4f8399aaea1aa4916951",
        "IPY_MODEL_63d3e0fc95884c7dba6dd7784b8b8ad9",
        "IPY_MODEL_1745bf3008e94964b1bfc039b90affae",
        "IPY_MODEL_099cc63abaf84b3187ffe418d9cb84bd"
       ],
       "layout": "IPY_MODEL_84e053f6f3ef47689113fb85ada39f0f"
      }
     },
     "d1763b0b9a6047d58f66e442eb91c04a": {
      "model_module": "@jupyter-widgets/controls",
      "model_module_version": "1.0.0",
      "model_name": "ButtonModel",
      "state": {
       "icon": "refresh",
       "layout": "IPY_MODEL_f183a22d981241e885b2707e5f68d3a1",
       "style": "IPY_MODEL_b3ee4f95b333487685e0ca8ed8739fdf"
      }
     },
     "d1878b46b10b4275815c3e2686aec10f": {
      "model_module": "@jupyter-widgets/controls",
      "model_module_version": "1.0.0",
      "model_name": "DescriptionStyleModel",
      "state": {
       "description_width": "initial"
      }
     },
     "d1d9a242183d40749b1f917d8e82ff25": {
      "model_module": "@jupyter-widgets/controls",
      "model_module_version": "1.0.0",
      "model_name": "VBoxModel",
      "state": {
       "children": [
        "IPY_MODEL_d92245f47dd74efca57de1fbae2ea157"
       ],
       "layout": "IPY_MODEL_f814d2ba9361429eab5b357e66b7170e"
      }
     },
     "d1f603c1295447119b79df06fdb103b9": {
      "model_module": "@jupyter-widgets/controls",
      "model_module_version": "1.0.0",
      "model_name": "IntTextModel",
      "state": {
       "description": "Leftmost color maps to:",
       "layout": "IPY_MODEL_a9c007fd4e0845639d23f8c278607a5a",
       "step": 1,
       "style": "IPY_MODEL_46c9d75d7b824c99b8d9d4b0c5ffc357",
       "value": -1
      }
     },
     "d20fdfe43adc4edfab9afd5f2dd01da6": {
      "model_module": "@jupyter-widgets/controls",
      "model_module_version": "1.0.0",
      "model_name": "DescriptionStyleModel",
      "state": {
       "description_width": ""
      }
     },
     "d24812781f564b16960245b899b22432": {
      "model_module": "@jupyter-widgets/controls",
      "model_module_version": "1.0.0",
      "model_name": "DescriptionStyleModel",
      "state": {
       "description_width": ""
      }
     },
     "d285c0d70c81402286f6a47c7bd28dfd": {
      "model_module": "@jupyter-widgets/base",
      "model_module_version": "1.0.0",
      "model_name": "LayoutModel",
      "state": {}
     },
     "d285d49736cc40ee95f988eb76eace35": {
      "model_module": "@jupyter-widgets/controls",
      "model_module_version": "1.0.0",
      "model_name": "ButtonModel",
      "state": {
       "icon": "fast-forward",
       "layout": "IPY_MODEL_ece449c70e874c829fc8be33a1e4e75c",
       "style": "IPY_MODEL_c02522f948124d34bbbc984861b8ba4d"
      }
     },
     "d320428a1b574583b80075ae42d36a70": {
      "model_module": "@jupyter-widgets/base",
      "model_module_version": "1.0.0",
      "model_name": "LayoutModel",
      "state": {}
     },
     "d41afe71436745ef85d24f33aaf80606": {
      "model_module": "@jupyter-widgets/controls",
      "model_module_version": "1.0.0",
      "model_name": "SelectModel",
      "state": {
       "_options_labels": [
        "",
        "Accent",
        "Accent_r",
        "Blues",
        "Blues_r",
        "BrBG",
        "BrBG_r",
        "BuGn",
        "BuGn_r",
        "BuPu",
        "BuPu_r",
        "CMRmap",
        "CMRmap_r",
        "Dark2",
        "Dark2_r",
        "GnBu",
        "GnBu_r",
        "Greens",
        "Greens_r",
        "Greys",
        "Greys_r",
        "OrRd",
        "OrRd_r",
        "Oranges",
        "Oranges_r",
        "PRGn",
        "PRGn_r",
        "Paired",
        "Paired_r",
        "Pastel1",
        "Pastel1_r",
        "Pastel2",
        "Pastel2_r",
        "PiYG",
        "PiYG_r",
        "PuBu",
        "PuBuGn",
        "PuBuGn_r",
        "PuBu_r",
        "PuOr",
        "PuOr_r",
        "PuRd",
        "PuRd_r",
        "Purples",
        "Purples_r",
        "RdBu",
        "RdBu_r",
        "RdGy",
        "RdGy_r",
        "RdPu",
        "RdPu_r",
        "RdYlBu",
        "RdYlBu_r",
        "RdYlGn",
        "RdYlGn_r",
        "Reds",
        "Reds_r",
        "Set1",
        "Set1_r",
        "Set2",
        "Set2_r",
        "Set3",
        "Set3_r",
        "Spectral",
        "Spectral_r",
        "Vega10",
        "Vega10_r",
        "Vega20",
        "Vega20_r",
        "Vega20b",
        "Vega20b_r",
        "Vega20c",
        "Vega20c_r",
        "Wistia",
        "Wistia_r",
        "YlGn",
        "YlGnBu",
        "YlGnBu_r",
        "YlGn_r",
        "YlOrBr",
        "YlOrBr_r",
        "YlOrRd",
        "YlOrRd_r",
        "afmhot",
        "afmhot_r",
        "autumn",
        "autumn_r",
        "binary",
        "binary_r",
        "bone",
        "bone_r",
        "brg",
        "brg_r",
        "bwr",
        "bwr_r",
        "cool",
        "cool_r",
        "coolwarm",
        "coolwarm_r",
        "copper",
        "copper_r",
        "cubehelix",
        "cubehelix_r",
        "flag",
        "flag_r",
        "gist_earth",
        "gist_earth_r",
        "gist_gray",
        "gist_gray_r",
        "gist_heat",
        "gist_heat_r",
        "gist_ncar",
        "gist_ncar_r",
        "gist_rainbow",
        "gist_rainbow_r",
        "gist_stern",
        "gist_stern_r",
        "gist_yarg",
        "gist_yarg_r",
        "gnuplot",
        "gnuplot2",
        "gnuplot2_r",
        "gnuplot_r",
        "gray",
        "gray_r",
        "hot",
        "hot_r",
        "hsv",
        "hsv_r",
        "inferno",
        "inferno_r",
        "jet",
        "jet_r",
        "magma",
        "magma_r",
        "nipy_spectral",
        "nipy_spectral_r",
        "ocean",
        "ocean_r",
        "pink",
        "pink_r",
        "plasma",
        "plasma_r",
        "prism",
        "prism_r",
        "rainbow",
        "rainbow_r",
        "seismic",
        "seismic_r",
        "spectral",
        "spectral_r",
        "spring",
        "spring_r",
        "summer",
        "summer_r",
        "tab10",
        "tab10_r",
        "tab20",
        "tab20_r",
        "tab20b",
        "tab20b_r",
        "tab20c",
        "tab20c_r",
        "terrain",
        "terrain_r",
        "viridis",
        "viridis_r",
        "winter",
        "winter_r"
       ],
       "description": "Colormap:",
       "index": 0,
       "layout": "IPY_MODEL_5a83029a96f44ac297cdd24e5242d910",
       "rows": 1,
       "style": "IPY_MODEL_e1f6b68ea03c4f0ebdb5dc6905f26bfc"
      }
     },
     "d4331cde97ed486db10b702153322f20": {
      "model_module": "@jupyter-widgets/controls",
      "model_module_version": "1.0.0",
      "model_name": "HBoxModel",
      "state": {
       "children": [
        "IPY_MODEL_127d2ef80c834b379d33625c48b95655",
        "IPY_MODEL_b4711d0345d5444ebef547ede31afc8e"
       ],
       "layout": "IPY_MODEL_5cb7757994ef48fa87e53d2fb2d9a5a1"
      }
     },
     "d4de190c66d442219aaf34be2e4ddbcc": {
      "model_module": "@jupyter-widgets/controls",
      "model_module_version": "1.0.0",
      "model_name": "ButtonModel",
      "state": {
       "icon": "fast-forward",
       "layout": "IPY_MODEL_1750e15b1c1348a2ac57cf0b4b365b8e",
       "style": "IPY_MODEL_e10c57112a7a42dd975ceb27d29ab3c8"
      }
     },
     "d4e588c7d9564c7192242968f6797681": {
      "model_module": "@jupyter-widgets/controls",
      "model_module_version": "1.0.0",
      "model_name": "DescriptionStyleModel",
      "state": {
       "description_width": "initial"
      }
     },
     "d506e41f45a64444840a5a93b97eff56": {
      "model_module": "@jupyter-widgets/controls",
      "model_module_version": "1.0.0",
      "model_name": "HBoxModel",
      "state": {
       "children": [
        "IPY_MODEL_10e6c12e96034d0abca7f3231303421a",
        "IPY_MODEL_96941c8ec2b248e3a5f0f1ff20167eba"
       ],
       "layout": "IPY_MODEL_205fad1d0baf44338c0a37c51cb6c369"
      }
     },
     "d51bbe18b2534600a056b1b51f403a01": {
      "model_module": "@jupyter-widgets/controls",
      "model_module_version": "1.0.0",
      "model_name": "SelectModel",
      "state": {
       "_options_labels": [
        "",
        "Accent",
        "Accent_r",
        "Blues",
        "Blues_r",
        "BrBG",
        "BrBG_r",
        "BuGn",
        "BuGn_r",
        "BuPu",
        "BuPu_r",
        "CMRmap",
        "CMRmap_r",
        "Dark2",
        "Dark2_r",
        "GnBu",
        "GnBu_r",
        "Greens",
        "Greens_r",
        "Greys",
        "Greys_r",
        "OrRd",
        "OrRd_r",
        "Oranges",
        "Oranges_r",
        "PRGn",
        "PRGn_r",
        "Paired",
        "Paired_r",
        "Pastel1",
        "Pastel1_r",
        "Pastel2",
        "Pastel2_r",
        "PiYG",
        "PiYG_r",
        "PuBu",
        "PuBuGn",
        "PuBuGn_r",
        "PuBu_r",
        "PuOr",
        "PuOr_r",
        "PuRd",
        "PuRd_r",
        "Purples",
        "Purples_r",
        "RdBu",
        "RdBu_r",
        "RdGy",
        "RdGy_r",
        "RdPu",
        "RdPu_r",
        "RdYlBu",
        "RdYlBu_r",
        "RdYlGn",
        "RdYlGn_r",
        "Reds",
        "Reds_r",
        "Set1",
        "Set1_r",
        "Set2",
        "Set2_r",
        "Set3",
        "Set3_r",
        "Spectral",
        "Spectral_r",
        "Vega10",
        "Vega10_r",
        "Vega20",
        "Vega20_r",
        "Vega20b",
        "Vega20b_r",
        "Vega20c",
        "Vega20c_r",
        "Wistia",
        "Wistia_r",
        "YlGn",
        "YlGnBu",
        "YlGnBu_r",
        "YlGn_r",
        "YlOrBr",
        "YlOrBr_r",
        "YlOrRd",
        "YlOrRd_r",
        "afmhot",
        "afmhot_r",
        "autumn",
        "autumn_r",
        "binary",
        "binary_r",
        "bone",
        "bone_r",
        "brg",
        "brg_r",
        "bwr",
        "bwr_r",
        "cool",
        "cool_r",
        "coolwarm",
        "coolwarm_r",
        "copper",
        "copper_r",
        "cubehelix",
        "cubehelix_r",
        "flag",
        "flag_r",
        "gist_earth",
        "gist_earth_r",
        "gist_gray",
        "gist_gray_r",
        "gist_heat",
        "gist_heat_r",
        "gist_ncar",
        "gist_ncar_r",
        "gist_rainbow",
        "gist_rainbow_r",
        "gist_stern",
        "gist_stern_r",
        "gist_yarg",
        "gist_yarg_r",
        "gnuplot",
        "gnuplot2",
        "gnuplot2_r",
        "gnuplot_r",
        "gray",
        "gray_r",
        "hot",
        "hot_r",
        "hsv",
        "hsv_r",
        "inferno",
        "inferno_r",
        "jet",
        "jet_r",
        "magma",
        "magma_r",
        "nipy_spectral",
        "nipy_spectral_r",
        "ocean",
        "ocean_r",
        "pink",
        "pink_r",
        "plasma",
        "plasma_r",
        "prism",
        "prism_r",
        "rainbow",
        "rainbow_r",
        "seismic",
        "seismic_r",
        "spectral",
        "spectral_r",
        "spring",
        "spring_r",
        "summer",
        "summer_r",
        "tab10",
        "tab10_r",
        "tab20",
        "tab20_r",
        "tab20b",
        "tab20b_r",
        "tab20c",
        "tab20c_r",
        "terrain",
        "terrain_r",
        "viridis",
        "viridis_r",
        "winter",
        "winter_r"
       ],
       "description": "Colormap:",
       "index": 0,
       "layout": "IPY_MODEL_3f6bd880fd0f4f1da6872e0af28cfeaa",
       "rows": 1,
       "style": "IPY_MODEL_dd3365e721644682ba0fd5cc847a10d9"
      }
     },
     "d58257c11c6f40beadf2fd46623c8c9f": {
      "model_module": "@jupyter-widgets/controls",
      "model_module_version": "1.0.0",
      "model_name": "HTMLModel",
      "state": {
       "layout": "IPY_MODEL_2f312d78821b4c1ab917f1e52958ad7d",
       "style": "IPY_MODEL_8845a58833f54b48a97e35fd312182bf",
       "value": "<img src=\"data:image/gif;base64,R0lGODdh+gAZAIcAAPMCAs8AAI8AAAEB8q4AAAAAbwAArwAAkAAAz/Po9Pv3+wAAVkZG/7i4//9YWP/X1xcX/zMz/1lZ/2lp/4SE/5SU/6Wl/9jY//8lJf82Nv9FRf94eP+Hh/+Zmf+0tP/ExCQk/3d3/8nJ//8XF/9oaP+mpn8AAAAAAAAAAAAAAAAAAAAAAAAAAAAAAAAAAAAAAAAAAAAAAAAAAAAAAAAAAAAAAAAAAAAAAAAAAAAAAAAAAAAAAAAAAAAAAAAAAAAAAAAAAAAAAAAAAAAAAAAAAAAAAAAAAAAAAAAAAAAAAAAAAAAAAAAAAAAAAAAAAAAAAAAAAAAAAAAAAAAAAAAAAAAAAAAAAAAAAAAAAAAAAAAAAAAAAAAAAAAAAAAAAAAAAAAAAAAAAAAAAAAAAAAAAAAAAAAAAAAAAAAAAAAAAAAAAAAAAAAAAAAAAAAAAAAAAAAAAAAAAAAAAAAAAAAAAAAAAAAAAAAAAAAAAAAAAAAAAAAAAAAAAAAAAAAAAAAAAAAAAAAAAAAAAAAAAAAAAAAAAAAAAAAAAAAAAAAAAAAAAAAAAAAAAAAAAAAAAAAAAAAAAAAAAAAAAAAAAAAAAAAAAAAAAAAAAAAAAAAAAAAAAAAAAAAAAAAAAAAAAAAAAAAAAAAAAAAAAAAAAAAAAAAAAAAAAAAAAAAAAAAAAAAAAAAAAAAAAAAAAAAAAAAAAAAAAAAAAAAAAAAAAAAAAAAAAAAAAAAAAAAAAAAAAAAAAAAAAAAAAAAAAAAAAAAAAAAAAAAAAAAAAAAAAAAAAAAAAAAAAAAAAAAAAAAAAAAAAAAAAAAAAAAAAAAAAAAAAAAAAAAAAAAAAAAAAAAAAAAAAAAAAAAAAAAAAAAAAAAAAAAAAAAAAAAAAAAAAAAAAAAAAAAAAAAAAAAAAAAAAAAAAAAAAAAAAAAAAAAAAAAAAAAAAAAAAAAAAAAAAAAAAAAAAAAAAAAAAAAAAAAAAAAAAAAAAAAAAAAAAAAAAAAAAAAAAAAAAAAAAAAAAAAAACwAAAAA+gAZAEAI/wBNCBhIsKBBAQQSKlzIMIDDhxAjOgRAsaLFixZHaMTAEUOGjxk0iNTgoGRJEig3qNzAoSWHDjA7lJjpoaaHDzg/PNi5M4HPBAqCClWQoGiCC0gviFjaoGlTC1AtVJhagYJVCiGyTtg6QYJXCQzCho1ANgKIsxDSQhjAtq3btwjiyp1roK7du3UP6N3Lt4Dfv4D/Lhg82ISAw4gTKxZAoLHjx5ADSJ5MubJkAJgza96seYRnDKAxZBidQYNpDQ5SpybBeoPrDRxic+hAu0OJ2x5ye/jA+8OD378TCE+goLhxBQmSJ7jA/IKI5w2iR7dA3UKF6xUoaKcQovuE7xMkiP+XwKB8+QjoI4BYD6E9hAHw48ufj6C+/fsG8uvfn/+Af4AHBA48UMDgQYQHFyxcaELAQ4gRJQogUNHiRYwBNG7k2FEjAJAhRY4UOcIkBpQYMqzMoMGlBgcxY5KgucHmBg45OXTg2aHETw9BPXwg+uHB0aMJlCZQ0NSpggRRE1ygekHE1QZZs1rgaqHC1woUxFIIUXbC2QkS1Epg0LZtBLgRQMyFUBfCALx59e5F0NfvXwOBBQ8OfMDwYcQFFC9mvHjB48cmBEymXNmyAAKZNW/mHMDzZ9ChPQMgXdr0adMjVGNgjSHD6wwaZGtwULs2CdwbdG/g0JtDB+AdSgz3UNz/wwfkHx4sX57AeQIF0aUrSFA9wQXsF0Rsb9C9uwXwFiqMr0DBPIUQ6SesnyDBvQQG8eNHoB8BxH0I+SEM4N/fP8ABAgUiKGjwoIGEChcmPODwIcQCEidSnLjg4kUTAjZy7OhRAIGQIkeSDGDyJMqUJgGwbOnypcsRMjHQxJDhZgYNOjU46NmTBNANQjdwKMqhA9IOJZZ6aOrhA9QPD6ZOTWA1gYKsWhUk6JrgAtgLIsY2KFvWAloLFdZWoOCWQoi4E+ZOkGBXAoO8eSPwjQDiL4TAEAYQLmz4MILEihcbaOz4ceMDkidTLmD5MubLCzZvNiHgM+jQogUQKG36NOoA/6pXs26tGgDs2LJnyx5hGwNuDBl2Z9DgW4OD4MFJEN9gfAOH5Bw6MO9Q4rmH6B4+UP/w4Pr1BNoTKOjuXUGC8AkukL8g4nyD9OktsLdQ4X0FCvIphKg/4f4ECfolMOjfH2AEgRFAFIRwEMIAhQsZNkTwEGJEAxMpVpx4AGNGjQU4dvTYcUHIkCYElDR5EqUAAitZtnQZAGZMmTNhArB5E2dOnCN4YvCJIUPQDBqIanBw9CgJpRuYbuDwlEMHqR1KVPVw1cMHrR8edO2aAGwCBWPJKkhwNsEFtRdEtG3w9q0FuRYq1K1AAS+FEHsn9J0gAbAEBoMHRzAcAURiCIshDP9w/BhyZASTKVc2cBlz5ssHOHf2XAB0aNGhF5QubUJAatWrWQsg8Bp2bNkBaNe2fZs2AN27effmPQI4BuEYMhTPoAG5BgfLl5NwvgH6Bg7TOXSw3qFEdg/bPXzw/uFB+PAJyCdQcB69ggTrE1xwf0FE/Abz51uwb6FC/goU+FMIATBEiAkEJ0g4KIGBQoURGkYAARGCRAgDKlq8iBGBxo0cDXj8CNLjgZEkSxY4iTIlygUsWZoQADOmzJkCCNi8iTNngJ08e/rcCSCo0KFEh444iiEphgxMM2h4qsGBVKkkqm64uoGDVg4dunYoAdaDWA8fyn54gBZtgrUJFLh9qyD/gdwEF+peEIG3gV69FvpaqAC4AoXBFEIYnoB4goTFEhg4dhwhcgQQlCFYhjAgs+bNnBF4/gzagOjRpEUfOI06dYHVrFuzXgAbtgkBtGvbvi2AgO7dvHsH+A08uPDfAIobP478+IjlGJpjyAA9g4bpGhxYt04i+4btGzh459AhfIcS5D2Y9/Ah/YcH7NkneJ9Agfz5ChLYT3Ah/wUR/Bv4B9iggQWCFiocrEBBIYUQDSc8nCBBogQGFStGwBgBxEYIHSEMABlS5EgEJU2eNJBS5cqUB1y+hFlA5kyaMxfcvGlCwE6ePX0KIBBU6FCiAYweRZrUKACmTZ0+dTpCKgaq/xgyXM2gQasGB127kgC7QewGDmU5dEDbocRaD209fID74cHcuQnsJlCQV6+CBH0TXAB8QcTgBoULW0BsocLiChQcUwgRecLkCRIsS2CQOXMEzhFAfIYQGsIA0qVNn0aQWvVqA61dv259QPZs2gVs38Z9e8Hu3SYE/AYeXLgAAsWNH0ceQPly5s2VA4AeXfp06SOsY8COIcP2DBq8a3AQPjwJ8hvMb+CQnkMH9h1KvPcQ38MH+h8e3L+fQH8CBf39A1SQYGCCCwYviEjYYOFCCw4tVIhYgQJFCiEuTsg4QQJHCQw+fowgMgKIkhBOQhigciXLlghewoxpYCbNmjMP4P/MqbMAz54+ey4IGtSEgKJGjyIVQGAp06ZOA0CNKnUqVABWr2LNinUEVwxeMWQIm0EDWQ0Ozp4loXYD2w0c3nLoILdDiboe7nr4oPfDg759EwBOoGAwYQUJDie4oPiCiMYNHj+2INlChcoVKGCmEGLzhM4TJICWwGD06AimI4BIDWE1hAGuX8OOjWA27doGbuPOffsA796+CwAPLjz4guLFTQhIrnw5cwEEnkOPLj0A9erWr1MHoH079+7cR4DHIB5DhvIZNKDX4GD9ehLuN8DfwGE+hw72O5TI72G/hw/+AX54MHBgAoMJFCRUqCBBwwQXIF4QMbFBxYoWMFqosLH/AgWPFEKEnDByggSTEhikTBmBZQQQLyHEhDCAZk2bNxHk1LnTQE+fP3seEDqUaAGjR5EeXbB0qQkBT6FGlSqAQFWrV7EG0LqVa1etAMCGFTtW7AizGNBiyLA2gwa3GhzEjUuC7ga7Gzjk5dCBb4cSfz0E9vCB8IcHhw8nUJxAQWPHChJETnCB8gURlxtkzmyBs4UKnytQEE0hROkJpydIUC2BQevWEWBHADEbQm0IA3Dn1r0bQW/fvw0EFz48+AHjx5EXUL6c+fIFz5+bEDCdenXrAghk176dewDv38GH9w6AfHnz582PUI+BPYYM7zNokK/BQf36JPBv0L+BQ38O/wA7COxQoqCHgx4+KPzwoGHDBBATKJhIUUGCiwkuaLwgomODjx8tiLRQoWQFCigphFg5oeUECTAlMJg5M4LNCCByQtgJYYDPn0CDIhhKtKiBo0iTHj3AtKnTAlCjSo26oGpVEwKyat3KVQCBr2DDig1AtqzZs2QBqF3Lti3bEXAxyMWQoW4GDXg1ONi7l4TfDYA3cBjMoYPhDiUSe1js4YPjDw8iR05AOYGCy5gVJNic4ILnCyJCNxg92oJpCxVSV6DAmkKI1xNiT5BAWwKD27cj6I4AojeE3xAGCB9OvDiC48iTG1jOvPnyA9CjSy9Avbr16guyZzchoLv37+AFEP8YT768+QDo06tfjx6A+/fw48MfQR+DfQwZ8mfQwF+DA4AOBDogUXDDwQ0cFHLo0LBDCYgeJHr4UPHDA4wYE2xMoMDjRwUJRCa4UPKCCJQNVKq00NJCBZgVKMykEMLmBJwTJOyUwMCnzwhBI4AgCsEohAFJlS5lisDpU6gGpE6lKvXAVaxZC2zl2pXrArBgTQggW9bsWQEE1K5l2zbAW7hx5b4FUNfuXbx3R+zF0BdDBsAZNAzW4MCwYRKJNyzewMExhw6RO5Sg7MGyhw+ZPzzgzDnB5wQKRI9WkMB0ggupL4hg3cC1awuxLVSgXYHCbQohdE/gPUHCbwkMhAuPUDz/AgjkEJRDGNDc+XPoCKRPp27A+nXs1g9s5969wHfw4cEvIE/ehAD06dWvF0DA/Xv48QPMp1/f/nwA+fXv579/BMARIzAQxJDhYAYNCjU4aNiQBMQNEjdwqMihA8YOJTZ66OjhA8gPD0aOTGAygYKUKhUkaJngAswLImY2qFnTAk4LFXZWoOCTQoigE4ZOkGBUAoOkSSMwjQDiKYSoEAZQrWr1KoKsWrca6Or1a9cDYseSLWD2LNqzC9auNSHgLdy4cgUQqGv3Lt4Aevfy7asXAODAggcLHmEYA2IMGRZn0OBYg4PIkUlQ3mB5A4fMHDpw7lDis4fQHj6Q/vDg9OkE/6oTKGjtWkGC2Aku0L4g4naD3Lkt8LZQ4XcFCsIphCg+4fgECcolMGjePAL0CCCmQ6gOYQD27Nq3I+ju/buB8OLHhz9g/jz6AurXs1+/4P17EwLm069vXwCB/Pr38w/gH2AAgQMJEgRwEGFChQlHNMTwEEMGiRk0VNTgACNGEhs3dNzAASSHDiM7lDDpAaWHDys/PHDpMkHMBApo1lSQAGeCCzsviPDZAChQC0MtVDBagUJSCiGYTnA6QUJUCQyoUo1wNQIIrRC4QhjwFWxYsQjIljVrAG1atWgPtHX7tkBcuXPlLrBr14QAvXv59hVAAHBgwYMDFDZ8GHFhAIsZN/923HhEZAyTMWSwnEFDZg0OOHMm8XlD6A0cSHPocLpDCdUeWHv48PrDA9myE9ROoAB3bgUJeCe48PuCCOENiBO3cNxCBeUVKDSnEAL6BOkTJFSXwAA79gjbI4DwDgE8hAHjyZc3jwB9evUG2Ld3z/5AfPnzC9S3f9/+Av36TQjwD1CAwIEEBxI4iDChwgAMGzp8yBCAxIkUK1IcgRGDRgwZOmbQAFKDg5EjSZjcgHIDh5UcOrjsUCKmh5kePtj88CBnzgQ8Eyj4CVRBgqEJLhi9ICJpg6VLLTi1UCFqBQpUKYS4OiHrBAlcJTD4+jWC2AggykI4C2GA2rVs2yJ4CzerroG5dOvOPYA3r94CfPv67bsgcGATAgobPoxYAIHFjBs7DgA5suTJkAFYvow5M+YRnDF4xpAhdAYNpDU4OH2ahOoNrDdweM2hg+wOJWp7uO3hg+4PD3r3TgA8gYLhxBUkOJ7ggvILIpo3eP7cgnQLFapXoICdQojtE7pPkABeAoPx4yOYjwAiPYT1EAa4fw8/PoL59OsbuI8///0D/Pv7B1hA4ECCAxccPBgQADs=\"/>"
      }
     },
     "d5bad241552342348633c0ad0175ac80": {
      "model_module": "@jupyter-widgets/controls",
      "model_module_version": "1.0.0",
      "model_name": "DescriptionStyleModel",
      "state": {
       "description_width": "initial"
      }
     },
     "d5f53bee0d9b459d895b5e4a070d2498": {
      "model_module": "@jupyter-widgets/controls",
      "model_module_version": "1.0.0",
      "model_name": "DescriptionStyleModel",
      "state": {
       "description_width": ""
      }
     },
     "d67ae82966fb40aaa6484f7ed86265e3": {
      "model_module": "@jupyter-widgets/base",
      "model_module_version": "1.0.0",
      "model_name": "LayoutModel",
      "state": {}
     },
     "d6e393a2af64466b846fe3953f9747a3": {
      "model_module": "@jupyter-widgets/base",
      "model_module_version": "1.0.0",
      "model_name": "LayoutModel",
      "state": {}
     },
     "d701ea8e21f147548e155cc84ad2fd98": {
      "model_module": "@jupyter-widgets/controls",
      "model_module_version": "1.0.0",
      "model_name": "IntTextModel",
      "state": {
       "description": "Leftmost color maps to:",
       "layout": "IPY_MODEL_e59b313e14884c3b90701081e1f4d496",
       "step": 1,
       "style": "IPY_MODEL_b8aa1e94384541ecbdaaa2838b0a15ec"
      }
     },
     "d7210f3f101240c2aa0de4032d84290b": {
      "model_module": "@jupyter-widgets/controls",
      "model_module_version": "1.0.0",
      "model_name": "HTMLModel",
      "state": {
       "layout": "IPY_MODEL_665f85a3291a42b7826c2b801946354c",
       "style": "IPY_MODEL_4ae870b326f5478aa9f45f0dbb5f9351",
       "value": "<img src=\"data:image/gif;base64,R0lGODdh+gAZAIcAAPMCAs8AAI8AAAEB8q4AAAAAbwAArwAAkAAAz/Po9Pv3+wAAVkZG/7i4//9YWP/X1xcX/zMz/1lZ/2lp/4SE/5SU/6Wl/9jY//8lJf82Nv9FRf94eP+Hh/+Zmf+0tP/ExCQk/3d3/8nJ//8XF/9oaP+mpn8AAAAAAAAAAAAAAAAAAAAAAAAAAAAAAAAAAAAAAAAAAAAAAAAAAAAAAAAAAAAAAAAAAAAAAAAAAAAAAAAAAAAAAAAAAAAAAAAAAAAAAAAAAAAAAAAAAAAAAAAAAAAAAAAAAAAAAAAAAAAAAAAAAAAAAAAAAAAAAAAAAAAAAAAAAAAAAAAAAAAAAAAAAAAAAAAAAAAAAAAAAAAAAAAAAAAAAAAAAAAAAAAAAAAAAAAAAAAAAAAAAAAAAAAAAAAAAAAAAAAAAAAAAAAAAAAAAAAAAAAAAAAAAAAAAAAAAAAAAAAAAAAAAAAAAAAAAAAAAAAAAAAAAAAAAAAAAAAAAAAAAAAAAAAAAAAAAAAAAAAAAAAAAAAAAAAAAAAAAAAAAAAAAAAAAAAAAAAAAAAAAAAAAAAAAAAAAAAAAAAAAAAAAAAAAAAAAAAAAAAAAAAAAAAAAAAAAAAAAAAAAAAAAAAAAAAAAAAAAAAAAAAAAAAAAAAAAAAAAAAAAAAAAAAAAAAAAAAAAAAAAAAAAAAAAAAAAAAAAAAAAAAAAAAAAAAAAAAAAAAAAAAAAAAAAAAAAAAAAAAAAAAAAAAAAAAAAAAAAAAAAAAAAAAAAAAAAAAAAAAAAAAAAAAAAAAAAAAAAAAAAAAAAAAAAAAAAAAAAAAAAAAAAAAAAAAAAAAAAAAAAAAAAAAAAAAAAAAAAAAAAAAAAAAAAAAAAAAAAAAAAAAAAAAAAAAAAAAAAAAAAAAAAAAAAAAAAAAAAAAAAAAAAAAAAAAAAAAAAAAAAAAAAAAAAAAAAAAAAAAAAAAAAAAAAAAAAAAAAAAAAAAAAAAAAAAAAAAAAAAAAAAAAAAAAAAAAAAAAAAAAAAAAAAAACwAAAAA+gAZAEAI/wBNCBhIsKBBAQQSKlzIMIDDhxAjOgRAsaLFixZHaMTAEUOGjxk0iNTgoGRJEig3qNzAoSWHDjA7lJjpoaaHDzg/PNi5M4HPBAqCClWQoGiCC0gviFjaoGlTC1AtVJhagYJVCiGyTtg6QYJXCQzCho1ANgKIsxDSQhjAtq3btwjiyp1roK7du3UP6N3Lt4Dfv4D/Lhg82ISAw4gTKxZAoLHjx5ADSJ5MubJkAJgza96seYRnDKAxZBidQYNpDQ5SpybBeoPrDRxic+hAu0OJ2x5ye/jA+8OD378TCE+goLhxBQmSJ7jA/IKI5w2iR7dA3UKF6xUoaKcQovuE7xMkiP+XwKB8+QjoI4BYD6E9hAHw48ufj6C+/fsG8uvfn/+Af4AHBA48UMDgQYQHFyxcaELAQ4gRJQogUNHiRYwBNG7k2FEjAJAhRY4UOcIkBpQYMqzMoMGlBgcxY5KgucHmBg45OXTg2aHETw9BPXwg+uHB0aMJlCZQ0NSpggRRE1ygekHE1QZZs1rgaqHC1woUxFIIUXbC2QkS1Epg0LZtBLgRQMyFUBfCALx59e5F0NfvXwOBBQ8OfMDwYcQFFC9mvHjB48cmBEymXNmyAAKZNW/mHMDzZ9ChPQMgXdr0adMjVGNgjSHD6wwaZGtwULs2CdwbdG/g0JtDB+AdSgz3UNz/wwfkHx4sX57AeQIF0aUrSFA9wQXsF0Rsb9C9uwXwFiqMr0DBPIUQ6SesnyDBvQQG8eNHoB8BxH0I+SEM4N/fP8ABAgUiKGjwoIGEChcmPODwIcQCEidSnLjg4kUTAjZy7OhRAIGQIkeSDGDyJMqUJgGwbOnypcsRMjHQxJDhZgYNOjU46NmTBNANQjdwKMqhA9IOJZZ6aOrhA9QPD6ZOTWA1gYKsWhUk6JrgAtgLIsY2KFvWAloLFdZWoOCWQoi4E+ZOkGBXAoO8eSPwjQDiL4TAEAYQLmz4MILEihcbaOz4ceMDkidTLmD5MubLCzZvNiHgM+jQogUQKG36NOoA/6pXs26tGgDs2LJnyx5hGwNuDBl2Z9DgW4OD4MFJEN9gfAOH5Bw6MO9Q4rmH6B4+UP/w4Pr1BNoTKOjuXUGC8AkukL8g4nyD9OktsLdQ4X0FCvIphKg/4f4ECfolMOjfH2AEgRFAFIRwEMIAhQsZNkTwEGJEAxMpVpx4AGNGjQU4dvTYcUHIkCYElDR5EqUAAitZtnQZAGZMmTNhArB5E2dOnCN4YvCJIUPQDBqIanBw9CgJpRuYbuDwlEMHqR1KVPVw1cMHrR8edO2aAGwCBWPJKkhwNsEFtRdEtG3w9q0FuRYq1K1AAS+FEHsn9J0gAbAEBoMHRzAcAURiCIshDP9w/BhyZASTKVc2cBlz5ssHOHf2XAB0aNGhF5QubUJAatWrWQsg8Bp2bNkBaNe2fZs2AN27effmPQI4BuEYMhTPoAG5BgfLl5NwvgH6Bg7TOXSw3qFEdg/bPXzw/uFB+PAJyCdQcB69ggTrE1xwf0FE/Abz51uwb6FC/goU+FMIATBEiAkEJ0g4KIGBQoURGkYAARGCRAgDKlq8iBGBxo0cDXj8CNLjgZEkSxY4iTIlygUsWZoQADOmzJkCCNi8iTNngJ08e/rcCSCo0KFEh444iiEphgxMM2h4qsGBVKkkqm64uoGDVg4dunYoAdaDWA8fyn54gBZtgrUJFLh9qyD/gdwEF+peEIG3gV69FvpaqAC4AoXBFEIYnoB4goTFEhg4dhwhcgQQlCFYhjAgs+bNnBF4/gzagOjRpEUfOI06dYHVrFuzXgAbtgkBtGvbvi2AgO7dvHsH+A08uPDfAIobP478+IjlGJpjyAA9g4bpGhxYt04i+4btGzh459AhfIcS5D2Y9/Ah/YcH7NkneJ9Agfz5ChLYT3Ah/wUR/Bv4B9iggQWCFiocrEBBIYUQDSc8nCBBogQGFStGwBgBxEYIHSEMABlS5EgEJU2eNJBS5cqUB1y+hFlA5kyaMxfcvGlCwE6ePX0KIBBU6FCiAYweRZrUKACmTZ0+dTpCKgaq/xgyXM2gQasGB127kgC7QewGDmU5dEDbocRaD209fID74cHcuQnsJlCQV6+CBH0TXAB8QcTgBoULW0BsocLiChQcUwgRecLkCRIsS2CQOXMEzhFAfIYQGsIA0qVNn0aQWvVqA61dv259QPZs2gVs38Z9e8Hu3SYE/AYeXLgAAsWNH0ceQPly5s2VA4AeXfp06SOsY8COIcP2DBq8a3AQPjwJ8hvMb+CQnkMH9h1KvPcQ38MH+h8e3L+fQH8CBf39A1SQYGCCCwYviEjYYOFCCw4tVIhYgQJFCiEuTsg4QQJHCQw+fowgMgKIkhBOQhigciXLlghewoxpYCbNmjMP4P/MqbMAz54+ey4IGtSEgKJGjyIVQGAp06ZOA0CNKnUqVABWr2LNinUEVwxeMWQIm0EDWQ0Ozp4loXYD2w0c3nLoILdDiboe7nr4oPfDg759EwBOoGAwYQUJDie4oPiCiMYNHj+2INlChcoVKGCmEGLzhM4TJICWwGD06AimI4BIDWE1hAGuX8OOjWA27doGbuPOffsA796+CwAPLjz4guLFTQhIrnw5cwEEnkOPLj0A9erWr1MHoH079+7cR4DHIB5DhvIZNKDX4GD9ehLuN8DfwGE+hw72O5TI72G/hw/+AX54MHBgAoMJFCRUqCBBwwQXIF4QMbFBxYoWMFqosLH/AgWPFEKEnDByggSTEhikTBmBZQQQLyHEhDCAZk2bNxHk1LnTQE+fP3seEDqUaAGjR5EeXbB0qQkBT6FGlSqAQFWrV7EG0LqVa1etAMCGFTtW7AizGNBiyLA2gwa3GhzEjUuC7ga7Gzjk5dCBb4cSfz0E9vCB8IcHhw8nUJxAQWPHChJETnCB8gURlxtkzmyBs4UKnytQEE0hROkJpydIUC2BQevWEWBHADEbQm0IA3Dn1r0bQW/fvw0EFz48+AHjx5EXUL6c+fIFz5+bEDCdenXrAghk176dewDv38GH9w6AfHnz582PUI+BPYYM7zNokK/BQf36JPBv0L+BQ38O/wA7COxQoqCHgx4+KPzwoGHDBBATKJhIUUGCiwkuaLwgomODjx8tiLRQoWQFCigphFg5oeUECTAlMJg5M4LNCCByQtgJYYDPn0CDIhhKtKiBo0iTHj3AtKnTAlCjSo26oGpVEwKyat3KVQCBr2DDig1AtqzZs2QBqF3Lti3bEXAxyMWQoW4GDXg1ONi7l4TfDYA3cBjMoYPhDiUSe1js4YPjDw8iR05AOYGCy5gVJNic4ILnCyJCNxg92oJpCxVSV6DAmkKI1xNiT5BAWwKD27cj6I4AojeE3xAGCB9OvDiC48iTG1jOvPnyA9CjSy9Avbr16guyZzchoLv37+AFEP8YT768+QDo06tfjx6A+/fw48MfQR+DfQwZ8mfQwF+DA4AOBDogUXDDwQ0cFHLo0LBDCYgeJHr4UPHDA4wYE2xMoMDjRwUJRCa4UPKCCJQNVKq00NJCBZgVKMykEMLmBJwTJOyUwMCnzwhBI4AgCsEohAFJlS5lisDpU6gGpE6lKvXAVaxZC2zl2pXrArBgTQggW9bsWQEE1K5l2zbAW7hx5b4FUNfuXbx3R+zF0BdDBsAZNAzW4MCwYRKJNyzewMExhw6RO5Sg7MGyhw+ZPzzgzDnB5wQKRI9WkMB0ggupL4hg3cC1awuxLVSgXYHCbQohdE/gPUHCbwkMhAuPUDz/AgjkEJRDGNDc+XPoCKRPp27A+nXs1g9s5969wHfw4cEvIE/ehAD06dWvF0DA/Xv48QPMp1/f/nwA+fXv579/BMARIzAQxJDhYAYNCjU4aNiQBMQNEjdwqMihA8YOJTZ66OjhA8gPD0aOTGAygYKUKhUkaJngAswLImY2qFnTAk4LFXZWoOCTQoigE4ZOkGBUAoOkSSMwjQDiKYSoEAZQrWr1KoKsWrca6Or1a9cDYseSLWD2LNqzC9auNSHgLdy4cgUQqGv3Lt4Aevfy7asXAODAggcLHmEYA2IMGRZn0OBYg4PIkUlQ3mB5A4fMHDpw7lDis4fQHj6Q/vDg9OkE/6oTKGjtWkGC2Aku0L4g4naD3Lkt8LZQ4XcFCsIphCg+4fgECcolMGjePAL0CCCmQ6gOYQD27Nq3I+ju/buB8OLHhz9g/jz6AurXs1+/4P17EwLm069vXwCB/Pr38w/gH2AAgQMJEgRwEGFChQlHNMTwEEMGiRk0VNTgACNGEhs3dNzAASSHDiM7lDDpAaWHDys/PHDpMkHMBApo1lSQAGeCCzsviPDZAChQC0MtVDBagUJSCiGYTnA6QUJUCQyoUo1wNQIIrRC4QhjwFWxYsQjIljVrAG1atWgPtHX7tkBcuXPlLrBr14QAvXv59hVAAHBgwYMDFDZ8GHFhAIsZN/923HhEZAyTMWSwnEFDZg0OOHMm8XlD6A0cSHPocLpDCdUeWHv48PrDA9myE9ROoAB3bgUJeCe48PuCCOENiBO3cNxCBeUVKDSnEAL6BOkTJFSXwAA79gjbI4DwDgE8hAHjyZc3jwB9evUG2Ld3z/5AfPnzC9S3f9/+Av36TQjwD1CAwIEEBxI4iDChwgAMGzp8yBCAxIkUK1IcgRGDRgwZOmbQAFKDg5EjSZjcgHIDh5UcOrjsUCKmh5kePtj88CBnzgQ8Eyj4CVRBgqEJLhi9ICJpg6VLLTi1UCFqBQpUKYS4OiHrBAlcJTD4+jWC2AggykI4C2GA2rVs2yJ4CzerroG5dOvOPYA3r94CfPv67bsgcGATAgobPoxYAIHFjBs7DgA5suTJkAFYvow5M+YRnDF4xpAhdAYNpDU4OH2ahOoNrDdweM2hg+wOJWp7uO3hg+4PD3r3TgA8gYLhxBUkOJ7ggvILIpo3eP7cgnQLFapXoICdQojtE7pPkABeAoPx4yOYjwAiPYT1EAa4fw8/PoL59OsbuI8///0D/Pv7B1hA4ECCAxccPBgQADs=\"/>"
      }
     },
     "d729e436304e4144aea40af5e3a48c30": {
      "model_module": "@jupyter-widgets/base",
      "model_module_version": "1.0.0",
      "model_name": "LayoutModel",
      "state": {}
     },
     "d737f19ade5a468ca75ac58d35f5fd9d": {
      "model_module": "@jupyter-widgets/controls",
      "model_module_version": "1.0.0",
      "model_name": "ButtonStyleModel",
      "state": {}
     },
     "d7499bc89e4a45dd889049ff492a8923": {
      "model_module": "@jupyter-widgets/controls",
      "model_module_version": "1.0.0",
      "model_name": "SliderStyleModel",
      "state": {
       "description_width": ""
      }
     },
     "d7ee990b16044b05b638873d463ce4a6": {
      "model_module": "@jupyter-widgets/controls",
      "model_module_version": "1.0.0",
      "model_name": "DescriptionStyleModel",
      "state": {
       "description_width": ""
      }
     },
     "d8649eee9b6c4b4eb81f934ce9566c71": {
      "model_module": "@jupyter-widgets/controls",
      "model_module_version": "1.0.0",
      "model_name": "DescriptionStyleModel",
      "state": {
       "description_width": ""
      }
     },
     "d8eb78a791f24786a3c6e9beb98b966e": {
      "model_module": "@jupyter-widgets/controls",
      "model_module_version": "1.0.0",
      "model_name": "DescriptionStyleModel",
      "state": {
       "description_width": ""
      }
     },
     "d8ed0af324554dd6bc0f46f5a0529c44": {
      "model_module": "@jupyter-widgets/controls",
      "model_module_version": "1.0.0",
      "model_name": "IntSliderModel",
      "state": {
       "continuous_update": false,
       "description": "Dataset index",
       "layout": "IPY_MODEL_02430bcb1daf4dd598706854651ba164",
       "max": 6998,
       "style": "IPY_MODEL_5f37b29700344137ace6307fcf2cad33",
       "value": 13
      }
     },
     "d8ef9ca8bcb4490c85caa20a26f42a7d": {
      "model_module": "@jupyter-widgets/controls",
      "model_module_version": "1.0.0",
      "model_name": "SelectModel",
      "state": {
       "_options_labels": [
        "",
        "Accent",
        "Accent_r",
        "Blues",
        "Blues_r",
        "BrBG",
        "BrBG_r",
        "BuGn",
        "BuGn_r",
        "BuPu",
        "BuPu_r",
        "CMRmap",
        "CMRmap_r",
        "Dark2",
        "Dark2_r",
        "GnBu",
        "GnBu_r",
        "Greens",
        "Greens_r",
        "Greys",
        "Greys_r",
        "OrRd",
        "OrRd_r",
        "Oranges",
        "Oranges_r",
        "PRGn",
        "PRGn_r",
        "Paired",
        "Paired_r",
        "Pastel1",
        "Pastel1_r",
        "Pastel2",
        "Pastel2_r",
        "PiYG",
        "PiYG_r",
        "PuBu",
        "PuBuGn",
        "PuBuGn_r",
        "PuBu_r",
        "PuOr",
        "PuOr_r",
        "PuRd",
        "PuRd_r",
        "Purples",
        "Purples_r",
        "RdBu",
        "RdBu_r",
        "RdGy",
        "RdGy_r",
        "RdPu",
        "RdPu_r",
        "RdYlBu",
        "RdYlBu_r",
        "RdYlGn",
        "RdYlGn_r",
        "Reds",
        "Reds_r",
        "Set1",
        "Set1_r",
        "Set2",
        "Set2_r",
        "Set3",
        "Set3_r",
        "Spectral",
        "Spectral_r",
        "Vega10",
        "Vega10_r",
        "Vega20",
        "Vega20_r",
        "Vega20b",
        "Vega20b_r",
        "Vega20c",
        "Vega20c_r",
        "Wistia",
        "Wistia_r",
        "YlGn",
        "YlGnBu",
        "YlGnBu_r",
        "YlGn_r",
        "YlOrBr",
        "YlOrBr_r",
        "YlOrRd",
        "YlOrRd_r",
        "afmhot",
        "afmhot_r",
        "autumn",
        "autumn_r",
        "binary",
        "binary_r",
        "bone",
        "bone_r",
        "brg",
        "brg_r",
        "bwr",
        "bwr_r",
        "cool",
        "cool_r",
        "coolwarm",
        "coolwarm_r",
        "copper",
        "copper_r",
        "cubehelix",
        "cubehelix_r",
        "flag",
        "flag_r",
        "gist_earth",
        "gist_earth_r",
        "gist_gray",
        "gist_gray_r",
        "gist_heat",
        "gist_heat_r",
        "gist_ncar",
        "gist_ncar_r",
        "gist_rainbow",
        "gist_rainbow_r",
        "gist_stern",
        "gist_stern_r",
        "gist_yarg",
        "gist_yarg_r",
        "gnuplot",
        "gnuplot2",
        "gnuplot2_r",
        "gnuplot_r",
        "gray",
        "gray_r",
        "hot",
        "hot_r",
        "hsv",
        "hsv_r",
        "inferno",
        "inferno_r",
        "jet",
        "jet_r",
        "magma",
        "magma_r",
        "nipy_spectral",
        "nipy_spectral_r",
        "ocean",
        "ocean_r",
        "pink",
        "pink_r",
        "plasma",
        "plasma_r",
        "prism",
        "prism_r",
        "rainbow",
        "rainbow_r",
        "seismic",
        "seismic_r",
        "spectral",
        "spectral_r",
        "spring",
        "spring_r",
        "summer",
        "summer_r",
        "tab10",
        "tab10_r",
        "tab20",
        "tab20_r",
        "tab20b",
        "tab20b_r",
        "tab20c",
        "tab20c_r",
        "terrain",
        "terrain_r",
        "viridis",
        "viridis_r",
        "winter",
        "winter_r"
       ],
       "description": "Colormap:",
       "index": 0,
       "layout": "IPY_MODEL_af966ba6c22449cc8a140effb55ca6ed",
       "rows": 1,
       "style": "IPY_MODEL_1e71ef1e1f0341c0bd6a14d4c077fd5a"
      }
     },
     "d8fc9c16cc1848fd976f56dedb7bf572": {
      "model_module": "@jupyter-widgets/controls",
      "model_module_version": "1.0.0",
      "model_name": "HTMLModel",
      "state": {
       "layout": "IPY_MODEL_2daba3987d144bb6a941cdf05e20bfc3",
       "style": "IPY_MODEL_6742234563334277ab35c984d8b76747",
       "value": "<img src=\"data:image/gif;base64,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\"/>"
      }
     },
     "d92245f47dd74efca57de1fbae2ea157": {
      "model_module": "@jupyter-widgets/controls",
      "model_module_version": "1.0.0",
      "model_name": "AccordionModel",
      "state": {
       "_titles": {
        "0": "Network configuration",
        "1": "output bank",
        "2": "flatten bank",
        "3": "maxpool2 bank",
        "4": "Conv2D-2 bank",
        "5": "maxpool1 bank",
        "6": "Conv2D-1 bank",
        "7": "input bank"
       },
       "children": [
        "IPY_MODEL_ff850596d1754080bd71297820d4f56a",
        "IPY_MODEL_5a4ec6983e1c48789fc2a7c9a61f6746",
        "IPY_MODEL_263ca76c64a74112a0b930508e20361e",
        "IPY_MODEL_520cd64114624d3ba9a6563de5b12b26",
        "IPY_MODEL_36be71caf8d7463c80a667cd379f6f80",
        "IPY_MODEL_281f6cdbab6e4571a1edc2d7100a817a",
        "IPY_MODEL_cd9cf70deb50467cbb6e16bd4aa23565",
        "IPY_MODEL_e36cf013bfff4dc788d61a384d6de4b7"
       ],
       "layout": "IPY_MODEL_be228bf26a384e35af88bfab32754121"
      }
     },
     "d99dca3822ec4fe7bd3f6639bc487624": {
      "model_module": "@jupyter-widgets/controls",
      "model_module_version": "1.0.0",
      "model_name": "HTMLModel",
      "state": {
       "layout": "IPY_MODEL_5a83029a96f44ac297cdd24e5242d910",
       "style": "IPY_MODEL_88451da1f89344449656d9358b4be65f",
       "value": "<p><hr/><h3>output bank:</h3></p>"
      }
     },
     "d9f90068ed2f45489e2f6a2d208409df": {
      "model_module": "@jupyter-widgets/base",
      "model_module_version": "1.0.0",
      "model_name": "LayoutModel",
      "state": {}
     },
     "da389c3efda84d598088e22b2c099f41": {
      "model_module": "@jupyter-widgets/base",
      "model_module_version": "1.0.0",
      "model_name": "LayoutModel",
      "state": {}
     },
     "da5e4b22ff2c42e582589f73e2c38913": {
      "model_module": "@jupyter-widgets/controls",
      "model_module_version": "1.0.0",
      "model_name": "DescriptionStyleModel",
      "state": {
       "description_width": ""
      }
     },
     "dabd5ecc4ff6453db3eed1ba2a49ddf8": {
      "model_module": "@jupyter-widgets/controls",
      "model_module_version": "1.0.0",
      "model_name": "HTMLModel",
      "state": {
       "layout": "IPY_MODEL_ec73c69aa32d47de90d18ace17bb5684",
       "style": "IPY_MODEL_08a40a69e9c3413baf8752157b15daaa",
       "value": "<img src=\"data:image/gif;base64,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\"/>"
      }
     },
     "dad017b11f8746338819a6e799343c5f": {
      "model_module": "@jupyter-widgets/base",
      "model_module_version": "1.0.0",
      "model_name": "LayoutModel",
      "state": {}
     },
     "db6a225c06bb49b8a155b72beeb500d4": {
      "model_module": "@jupyter-widgets/controls",
      "model_module_version": "1.0.0",
      "model_name": "ButtonModel",
      "state": {
       "icon": "fast-backward",
       "layout": "IPY_MODEL_e9355ef85e8a4ed79554f5378d657104",
       "style": "IPY_MODEL_b39cc79b60a94df4ac6ba5df438b26f4"
      }
     },
     "dc9033b517b24a8a864838cc0d79e990": {
      "model_module": "@jupyter-widgets/controls",
      "model_module_version": "1.0.0",
      "model_name": "SelectModel",
      "state": {
       "_options_labels": [
        "",
        "input",
        "Conv2D-1",
        "maxpool1",
        "Conv2D-2",
        "maxpool2"
       ],
       "description": "Features:",
       "index": 0,
       "layout": "IPY_MODEL_fa8ff28ed10e4fcfa2239037568b9631",
       "rows": 1,
       "style": "IPY_MODEL_eec839cdcf394c1894c78c6be4b958b3"
      }
     },
     "dc96a51608044b8389bfcab16620f1e1": {
      "model_module": "@jupyter-widgets/controls",
      "model_module_version": "1.0.0",
      "model_name": "HBoxModel",
      "state": {
       "children": [
        "IPY_MODEL_344e27bd0bd44535924933840459a3a7",
        "IPY_MODEL_1b7a30d510154c9ba776364c548c4d2c",
        "IPY_MODEL_2ac0474d597442c7bf065a1bed4e6085",
        "IPY_MODEL_8e12c7b0d020461aa17084f773cd0b7d",
        "IPY_MODEL_79632a3a3b774e7c893626567675f076",
        "IPY_MODEL_4ed606831ca04d34930a28b722ed9f18"
       ],
       "layout": "IPY_MODEL_2b5f3220094c49b183f1b5f78aaebf4b"
      }
     },
     "dd2878017b7a4953a1e87d131e2d0440": {
      "model_module": "@jupyter-widgets/controls",
      "model_module_version": "1.0.0",
      "model_name": "CheckboxModel",
      "state": {
       "description": "Visible",
       "disabled": false,
       "layout": "IPY_MODEL_af966ba6c22449cc8a140effb55ca6ed",
       "style": "IPY_MODEL_8c1b5d569f3d469188dacd5c5a6a31f1",
       "value": true
      }
     },
     "dd3365e721644682ba0fd5cc847a10d9": {
      "model_module": "@jupyter-widgets/controls",
      "model_module_version": "1.0.0",
      "model_name": "DescriptionStyleModel",
      "state": {
       "description_width": ""
      }
     },
     "dda65ae702d5477eaec350ec0e283adb": {
      "model_module": "@jupyter-widgets/controls",
      "model_module_version": "1.0.0",
      "model_name": "SelectModel",
      "state": {
       "_options_labels": [
        "",
        "Accent",
        "Accent_r",
        "Blues",
        "Blues_r",
        "BrBG",
        "BrBG_r",
        "BuGn",
        "BuGn_r",
        "BuPu",
        "BuPu_r",
        "CMRmap",
        "CMRmap_r",
        "Dark2",
        "Dark2_r",
        "GnBu",
        "GnBu_r",
        "Greens",
        "Greens_r",
        "Greys",
        "Greys_r",
        "OrRd",
        "OrRd_r",
        "Oranges",
        "Oranges_r",
        "PRGn",
        "PRGn_r",
        "Paired",
        "Paired_r",
        "Pastel1",
        "Pastel1_r",
        "Pastel2",
        "Pastel2_r",
        "PiYG",
        "PiYG_r",
        "PuBu",
        "PuBuGn",
        "PuBuGn_r",
        "PuBu_r",
        "PuOr",
        "PuOr_r",
        "PuRd",
        "PuRd_r",
        "Purples",
        "Purples_r",
        "RdBu",
        "RdBu_r",
        "RdGy",
        "RdGy_r",
        "RdPu",
        "RdPu_r",
        "RdYlBu",
        "RdYlBu_r",
        "RdYlGn",
        "RdYlGn_r",
        "Reds",
        "Reds_r",
        "Set1",
        "Set1_r",
        "Set2",
        "Set2_r",
        "Set3",
        "Set3_r",
        "Spectral",
        "Spectral_r",
        "Vega10",
        "Vega10_r",
        "Vega20",
        "Vega20_r",
        "Vega20b",
        "Vega20b_r",
        "Vega20c",
        "Vega20c_r",
        "Wistia",
        "Wistia_r",
        "YlGn",
        "YlGnBu",
        "YlGnBu_r",
        "YlGn_r",
        "YlOrBr",
        "YlOrBr_r",
        "YlOrRd",
        "YlOrRd_r",
        "afmhot",
        "afmhot_r",
        "autumn",
        "autumn_r",
        "binary",
        "binary_r",
        "bone",
        "bone_r",
        "brg",
        "brg_r",
        "bwr",
        "bwr_r",
        "cool",
        "cool_r",
        "coolwarm",
        "coolwarm_r",
        "copper",
        "copper_r",
        "cubehelix",
        "cubehelix_r",
        "flag",
        "flag_r",
        "gist_earth",
        "gist_earth_r",
        "gist_gray",
        "gist_gray_r",
        "gist_heat",
        "gist_heat_r",
        "gist_ncar",
        "gist_ncar_r",
        "gist_rainbow",
        "gist_rainbow_r",
        "gist_stern",
        "gist_stern_r",
        "gist_yarg",
        "gist_yarg_r",
        "gnuplot",
        "gnuplot2",
        "gnuplot2_r",
        "gnuplot_r",
        "gray",
        "gray_r",
        "hot",
        "hot_r",
        "hsv",
        "hsv_r",
        "inferno",
        "inferno_r",
        "jet",
        "jet_r",
        "magma",
        "magma_r",
        "nipy_spectral",
        "nipy_spectral_r",
        "ocean",
        "ocean_r",
        "pink",
        "pink_r",
        "plasma",
        "plasma_r",
        "prism",
        "prism_r",
        "rainbow",
        "rainbow_r",
        "seismic",
        "seismic_r",
        "spectral",
        "spectral_r",
        "spring",
        "spring_r",
        "summer",
        "summer_r",
        "tab10",
        "tab10_r",
        "tab20",
        "tab20_r",
        "tab20b",
        "tab20b_r",
        "tab20c",
        "tab20c_r",
        "terrain",
        "terrain_r",
        "viridis",
        "viridis_r",
        "winter",
        "winter_r"
       ],
       "description": "Colormap:",
       "index": 0,
       "layout": "IPY_MODEL_5a83029a96f44ac297cdd24e5242d910",
       "rows": 1,
       "style": "IPY_MODEL_0455130bea914ce7965e6d6fe5072453"
      }
     },
     "ddc74d6862274df1930ba56c40ea2cfb": {
      "model_module": "@jupyter-widgets/base",
      "model_module_version": "1.0.0",
      "model_name": "LayoutModel",
      "state": {}
     },
     "ddcafcdcdf55451183f50698c7a1011b": {
      "model_module": "@jupyter-widgets/base",
      "model_module_version": "1.0.0",
      "model_name": "LayoutModel",
      "state": {}
     },
     "dde40caaf6a942dfaf4407a2bd6ccd9e": {
      "model_module": "@jupyter-widgets/base",
      "model_module_version": "1.0.0",
      "model_name": "LayoutModel",
      "state": {}
     },
     "de10f73b096f4dc3acdad80483bfec49": {
      "model_module": "@jupyter-widgets/controls",
      "model_module_version": "1.0.0",
      "model_name": "DescriptionStyleModel",
      "state": {
       "description_width": ""
      }
     },
     "de2caf41e8314d4c8e70f136025ef4a0": {
      "model_module": "@jupyter-widgets/base",
      "model_module_version": "1.0.0",
      "model_name": "LayoutModel",
      "state": {}
     },
     "de622c06d13e4f968b897ff8bf5a402f": {
      "model_module": "@jupyter-widgets/controls",
      "model_module_version": "1.0.0",
      "model_name": "ButtonStyleModel",
      "state": {}
     },
     "de82fb091d9d435e9a27ff8299d2f85f": {
      "model_module": "@jupyter-widgets/base",
      "model_module_version": "1.0.0",
      "model_name": "LayoutModel",
      "state": {
       "height": "50px",
       "width": "100%"
      }
     },
     "e0498c456249444190723c0071c549bc": {
      "model_module": "@jupyter-widgets/base",
      "model_module_version": "1.0.0",
      "model_name": "LayoutModel",
      "state": {}
     },
     "e09722cf1ac54a879fdb5655425ed1d5": {
      "model_module": "@jupyter-widgets/controls",
      "model_module_version": "1.0.0",
      "model_name": "IntTextModel",
      "state": {
       "description": "Feature columns:",
       "layout": "IPY_MODEL_ce5c7cf2b4f44bc5a7037b58a7249d02",
       "step": 1,
       "style": "IPY_MODEL_fdf0b3bfd12c4be5bb195b1231b3e1f2",
       "value": 3
      }
     },
     "e10c57112a7a42dd975ceb27d29ab3c8": {
      "model_module": "@jupyter-widgets/controls",
      "model_module_version": "1.0.0",
      "model_name": "ButtonStyleModel",
      "state": {}
     },
     "e119fa9b378a434cbebd296c3f30a3f2": {
      "model_module": "@jupyter-widgets/controls",
      "model_module_version": "1.0.0",
      "model_name": "DescriptionStyleModel",
      "state": {
       "description_width": "initial"
      }
     },
     "e193ed58d7db4f0cad8d5d50c0e23216": {
      "model_module": "@jupyter-widgets/controls",
      "model_module_version": "1.0.0",
      "model_name": "IntTextModel",
      "state": {
       "layout": "IPY_MODEL_eee9d7a87de843fd8377fe6be46ea94c",
       "step": 1,
       "style": "IPY_MODEL_f5ac42d2e7c94f40b456cce1b764f67f",
       "value": 3
      }
     },
     "e1f4937f08ef4b73afcab9a250daa5aa": {
      "model_module": "@jupyter-widgets/base",
      "model_module_version": "1.0.0",
      "model_name": "LayoutModel",
      "state": {
       "width": "95%"
      }
     },
     "e1f6b68ea03c4f0ebdb5dc6905f26bfc": {
      "model_module": "@jupyter-widgets/controls",
      "model_module_version": "1.0.0",
      "model_name": "DescriptionStyleModel",
      "state": {
       "description_width": ""
      }
     },
     "e21b06f57c41455fa3e2874c125eea9a": {
      "model_module": "@jupyter-widgets/base",
      "model_module_version": "1.0.0",
      "model_name": "LayoutModel",
      "state": {}
     },
     "e2251822eb86484d81a03cb407bc9ded": {
      "model_module": "@jupyter-widgets/base",
      "model_module_version": "1.0.0",
      "model_name": "LayoutModel",
      "state": {}
     },
     "e23da3d1f6e04ca5a48f1b5e70dea9a1": {
      "model_module": "@jupyter-widgets/controls",
      "model_module_version": "1.0.0",
      "model_name": "ButtonStyleModel",
      "state": {}
     },
     "e304c73bbe9144468dc8058f5339c3cf": {
      "model_module": "@jupyter-widgets/controls",
      "model_module_version": "1.0.0",
      "model_name": "SelectModel",
      "state": {
       "_options_labels": [
        "",
        "input",
        "Conv2D-1",
        "maxpool1",
        "Conv2D-2",
        "maxpool2"
       ],
       "description": "Features:",
       "index": 0,
       "layout": "IPY_MODEL_e21b06f57c41455fa3e2874c125eea9a",
       "rows": 1,
       "style": "IPY_MODEL_467fc5f5a46149a2b8d7c09cbdf68ca4"
      }
     },
     "e30f45dd52774d39ac3816ae323f0f67": {
      "model_module": "@jupyter-widgets/controls",
      "model_module_version": "1.0.0",
      "model_name": "DescriptionStyleModel",
      "state": {
       "description_width": ""
      }
     },
     "e36cf013bfff4dc788d61a384d6de4b7": {
      "model_module": "@jupyter-widgets/controls",
      "model_module_version": "1.0.0",
      "model_name": "VBoxModel",
      "state": {
       "children": [
        "IPY_MODEL_9c58bca689734060863ccad004b3f80b",
        "IPY_MODEL_dd2878017b7a4953a1e87d131e2d0440",
        "IPY_MODEL_ef3da51d92f54dd6b0aeb79ca0f2247f",
        "IPY_MODEL_22d3f6a2ef2a456fb0075de3b877fccd",
        "IPY_MODEL_3d912876bacf4c958d5e4779d1dc2e34"
       ],
       "layout": "IPY_MODEL_46e4801cd3b446b480663c524ea87cbd"
      }
     },
     "e39f469fb84d41c58b4a08d447a917f2": {
      "model_module": "@jupyter-widgets/controls",
      "model_module_version": "1.0.0",
      "model_name": "DescriptionStyleModel",
      "state": {
       "description_width": "initial"
      }
     },
     "e401812c32f045e6a2308b7d24b0535c": {
      "model_module": "@jupyter-widgets/controls",
      "model_module_version": "1.0.0",
      "model_name": "SelectModel",
      "state": {
       "_options_labels": [
        "",
        "Accent",
        "Accent_r",
        "Blues",
        "Blues_r",
        "BrBG",
        "BrBG_r",
        "BuGn",
        "BuGn_r",
        "BuPu",
        "BuPu_r",
        "CMRmap",
        "CMRmap_r",
        "Dark2",
        "Dark2_r",
        "GnBu",
        "GnBu_r",
        "Greens",
        "Greens_r",
        "Greys",
        "Greys_r",
        "OrRd",
        "OrRd_r",
        "Oranges",
        "Oranges_r",
        "PRGn",
        "PRGn_r",
        "Paired",
        "Paired_r",
        "Pastel1",
        "Pastel1_r",
        "Pastel2",
        "Pastel2_r",
        "PiYG",
        "PiYG_r",
        "PuBu",
        "PuBuGn",
        "PuBuGn_r",
        "PuBu_r",
        "PuOr",
        "PuOr_r",
        "PuRd",
        "PuRd_r",
        "Purples",
        "Purples_r",
        "RdBu",
        "RdBu_r",
        "RdGy",
        "RdGy_r",
        "RdPu",
        "RdPu_r",
        "RdYlBu",
        "RdYlBu_r",
        "RdYlGn",
        "RdYlGn_r",
        "Reds",
        "Reds_r",
        "Set1",
        "Set1_r",
        "Set2",
        "Set2_r",
        "Set3",
        "Set3_r",
        "Spectral",
        "Spectral_r",
        "Vega10",
        "Vega10_r",
        "Vega20",
        "Vega20_r",
        "Vega20b",
        "Vega20b_r",
        "Vega20c",
        "Vega20c_r",
        "Wistia",
        "Wistia_r",
        "YlGn",
        "YlGnBu",
        "YlGnBu_r",
        "YlGn_r",
        "YlOrBr",
        "YlOrBr_r",
        "YlOrRd",
        "YlOrRd_r",
        "afmhot",
        "afmhot_r",
        "autumn",
        "autumn_r",
        "binary",
        "binary_r",
        "bone",
        "bone_r",
        "brg",
        "brg_r",
        "bwr",
        "bwr_r",
        "cool",
        "cool_r",
        "coolwarm",
        "coolwarm_r",
        "copper",
        "copper_r",
        "cubehelix",
        "cubehelix_r",
        "flag",
        "flag_r",
        "gist_earth",
        "gist_earth_r",
        "gist_gray",
        "gist_gray_r",
        "gist_heat",
        "gist_heat_r",
        "gist_ncar",
        "gist_ncar_r",
        "gist_rainbow",
        "gist_rainbow_r",
        "gist_stern",
        "gist_stern_r",
        "gist_yarg",
        "gist_yarg_r",
        "gnuplot",
        "gnuplot2",
        "gnuplot2_r",
        "gnuplot_r",
        "gray",
        "gray_r",
        "hot",
        "hot_r",
        "hsv",
        "hsv_r",
        "inferno",
        "inferno_r",
        "jet",
        "jet_r",
        "magma",
        "magma_r",
        "nipy_spectral",
        "nipy_spectral_r",
        "ocean",
        "ocean_r",
        "pink",
        "pink_r",
        "plasma",
        "plasma_r",
        "prism",
        "prism_r",
        "rainbow",
        "rainbow_r",
        "seismic",
        "seismic_r",
        "spectral",
        "spectral_r",
        "spring",
        "spring_r",
        "summer",
        "summer_r",
        "tab10",
        "tab10_r",
        "tab20",
        "tab20_r",
        "tab20b",
        "tab20b_r",
        "tab20c",
        "tab20c_r",
        "terrain",
        "terrain_r",
        "viridis",
        "viridis_r",
        "winter",
        "winter_r"
       ],
       "description": "Colormap:",
       "index": 125,
       "layout": "IPY_MODEL_af966ba6c22449cc8a140effb55ca6ed",
       "rows": 1,
       "style": "IPY_MODEL_52c7322f80b940829e1e68a5ec130209"
      }
     },
     "e40cfaceb99c47a09dcedf518ca473c6": {
      "model_module": "@jupyter-widgets/controls",
      "model_module_version": "1.0.0",
      "model_name": "IntTextModel",
      "state": {
       "description": "Feature to show:",
       "layout": "IPY_MODEL_95f4f462bc3f4ac5b3f45f4afd4a6410",
       "step": 1,
       "style": "IPY_MODEL_ff717e1147af492699794470e0ff514c"
      }
     },
     "e4108ae8f35545d8841449757abd9dc7": {
      "model_module": "@jupyter-widgets/controls",
      "model_module_version": "1.0.0",
      "model_name": "FloatTextModel",
      "state": {
       "description": "Feature scale:",
       "layout": "IPY_MODEL_ae95a6db11234e5e831b02debfa9284c",
       "step": null,
       "style": "IPY_MODEL_341768ed5a5b4580bb814e9eba007178",
       "value": 2
      }
     },
     "e418f7d7007541df9ff5cf30968991cd": {
      "model_module": "@jupyter-widgets/controls",
      "model_module_version": "1.0.0",
      "model_name": "HBoxModel",
      "state": {
       "children": [
        "IPY_MODEL_028b9bc125af42f989b87b2e81689ed2",
        "IPY_MODEL_3b47cf753f9744818126ab0d247bfc5b"
       ],
       "layout": "IPY_MODEL_e7244ef8e78e4e1d97dae17c8a081b87"
      }
     },
     "e4675006d04a4ab599c335f525646712": {
      "model_module": "@jupyter-widgets/controls",
      "model_module_version": "1.0.0",
      "model_name": "DescriptionStyleModel",
      "state": {
       "description_width": "initial"
      }
     },
     "e47981fbde744459860614c4ca700636": {
      "model_module": "@jupyter-widgets/controls",
      "model_module_version": "1.0.0",
      "model_name": "VBoxModel",
      "state": {
       "children": [
        "IPY_MODEL_36ced8abcaa44076b3c81d2abef2d9db",
        "IPY_MODEL_f23782be2cb94797b3bf59a52b875dc7",
        "IPY_MODEL_86827838c92141b29dfc881ed4149a92",
        "IPY_MODEL_e5f9ffa2b2144f028fa9890092fc574b",
        "IPY_MODEL_2e38947dddaf4b0d8400fc822918d030",
        "IPY_MODEL_b247503497144d4cb3722e974abda6db",
        "IPY_MODEL_a21dfda2a071485d885152b115fd6906",
        "IPY_MODEL_f509018369c040cbbd90c7a84674f2ba"
       ],
       "layout": "IPY_MODEL_28b8ac88d188485aa05b24014f160f53"
      }
     },
     "e485b37f5006410badea705a8a7ddb7e": {
      "model_module": "@jupyter-widgets/base",
      "model_module_version": "1.0.0",
      "model_name": "LayoutModel",
      "state": {}
     },
     "e5283f21ffde42f1b7aef8a3fd5eee39": {
      "model_module": "@jupyter-widgets/controls",
      "model_module_version": "1.0.0",
      "model_name": "DescriptionStyleModel",
      "state": {
       "description_width": ""
      }
     },
     "e547bbe3cdc8443ea209eb41d822f074": {
      "model_module": "@jupyter-widgets/controls",
      "model_module_version": "1.0.0",
      "model_name": "IntTextModel",
      "state": {
       "description": "Rightmost color maps to:",
       "layout": "IPY_MODEL_1cbdb082e4b14b7c8d4806054a5e6a02",
       "step": 1,
       "style": "IPY_MODEL_4ca42eb55b804f80bb4ceca443053aaa",
       "value": 1
      }
     },
     "e59b313e14884c3b90701081e1f4d496": {
      "model_module": "@jupyter-widgets/base",
      "model_module_version": "1.0.0",
      "model_name": "LayoutModel",
      "state": {}
     },
     "e5cfb5cd8ac54a698d4bbfa6755df85d": {
      "model_module": "@jupyter-widgets/controls",
      "model_module_version": "1.0.0",
      "model_name": "DescriptionStyleModel",
      "state": {
       "description_width": "initial"
      }
     },
     "e5f9ffa2b2144f028fa9890092fc574b": {
      "model_module": "@jupyter-widgets/controls",
      "model_module_version": "1.0.0",
      "model_name": "IntTextModel",
      "state": {
       "description": "Vertical space between layers:",
       "layout": "IPY_MODEL_3f6bd880fd0f4f1da6872e0af28cfeaa",
       "step": 1,
       "style": "IPY_MODEL_00d6b508efd6437fbf17975854ac6455",
       "value": 30
      }
     },
     "e65f1b24b72b4cff836a292c0c852628": {
      "model_module": "@jupyter-widgets/controls",
      "model_module_version": "1.0.0",
      "model_name": "DescriptionStyleModel",
      "state": {
       "description_width": ""
      }
     },
     "e7244ef8e78e4e1d97dae17c8a081b87": {
      "model_module": "@jupyter-widgets/base",
      "model_module_version": "1.0.0",
      "model_name": "LayoutModel",
      "state": {}
     },
     "e7302f03470a43479e3f555180c980b3": {
      "model_module": "@jupyter-widgets/base",
      "model_module_version": "1.0.0",
      "model_name": "LayoutModel",
      "state": {}
     },
     "e758d1609d3c485d8c4579ea253a6871": {
      "model_module": "@jupyter-widgets/controls",
      "model_module_version": "1.0.0",
      "model_name": "DescriptionStyleModel",
      "state": {
       "description_width": ""
      }
     },
     "e7d9920435ab4156a379bdaafef69fb2": {
      "model_module": "@jupyter-widgets/controls",
      "model_module_version": "1.0.0",
      "model_name": "HTMLModel",
      "state": {
       "layout": "IPY_MODEL_27ebe098be5f4ae4870eb9c80a4be9da",
       "style": "IPY_MODEL_5bc1eb23d20c4d249f0a31a5b9cec298",
       "value": "<img src=\"data:image/gif;base64,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\"/>"
      }
     },
     "e81603aa602e4a239d7808a1c11e30b3": {
      "model_module": "@jupyter-widgets/controls",
      "model_module_version": "1.0.0",
      "model_name": "HBoxModel",
      "state": {
       "children": [
        "IPY_MODEL_5e02180fe50b4de5bbac57752f8cc74b",
        "IPY_MODEL_801283cbddd3491cb203c7bb43bee52e"
       ],
       "layout": "IPY_MODEL_84aac19c3aa6472ea53143deefc5bd82"
      }
     },
     "e81b05bc8b8f466e93d6f26528e8673e": {
      "model_module": "@jupyter-widgets/base",
      "model_module_version": "1.0.0",
      "model_name": "LayoutModel",
      "state": {}
     },
     "e83af5fdad5d49b78932a35994e01d51": {
      "model_module": "@jupyter-widgets/base",
      "model_module_version": "1.0.0",
      "model_name": "LayoutModel",
      "state": {}
     },
     "e8ac48b131f14dccb2ac51851317f99d": {
      "model_module": "@jupyter-widgets/base",
      "model_module_version": "1.0.0",
      "model_name": "LayoutModel",
      "state": {}
     },
     "e8ea11719a8648519503f6682bc5d33f": {
      "model_module": "@jupyter-widgets/controls",
      "model_module_version": "1.0.0",
      "model_name": "HTMLModel",
      "state": {
       "layout": "IPY_MODEL_b1ec63477e414b1caae54877edbcfeb5",
       "style": "IPY_MODEL_fcb6a00ded124024b7e865a0d395376c",
       "value": "<img src=\"data:image/gif;base64,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\"/>"
      }
     },
     "e8f831e10af24c1c9fba5e57d05de723": {
      "model_module": "@jupyter-widgets/base",
      "model_module_version": "1.0.0",
      "model_name": "LayoutModel",
      "state": {}
     },
     "e9355ef85e8a4ed79554f5378d657104": {
      "model_module": "@jupyter-widgets/base",
      "model_module_version": "1.0.0",
      "model_name": "LayoutModel",
      "state": {
       "width": "100%"
      }
     },
     "e99c6d4bca6d45478682e87c1338be95": {
      "model_module": "@jupyter-widgets/base",
      "model_module_version": "1.0.0",
      "model_name": "LayoutModel",
      "state": {
       "width": "100%"
      }
     },
     "e9b2e2cd164f4b10ab68fe0a1a891d3b": {
      "model_module": "@jupyter-widgets/base",
      "model_module_version": "1.0.0",
      "model_name": "LayoutModel",
      "state": {
       "width": "100px"
      }
     },
     "e9ecbc51233e4bcdaa46b32ba95f96dc": {
      "model_module": "@jupyter-widgets/controls",
      "model_module_version": "1.0.0",
      "model_name": "DescriptionStyleModel",
      "state": {
       "description_width": ""
      }
     },
     "ea145457ad4347149646f6972054dc26": {
      "model_module": "@jupyter-widgets/controls",
      "model_module_version": "1.0.0",
      "model_name": "DescriptionStyleModel",
      "state": {
       "description_width": "initial"
      }
     },
     "ea21043366584671991cf16c9e907add": {
      "model_module": "@jupyter-widgets/controls",
      "model_module_version": "1.0.0",
      "model_name": "ButtonStyleModel",
      "state": {}
     },
     "ea9394350a7c4e018c72464e9334001c": {
      "model_module": "@jupyter-widgets/base",
      "model_module_version": "1.0.0",
      "model_name": "LayoutModel",
      "state": {}
     },
     "eac7d19186f845eb9f66ae8f0064ff51": {
      "model_module": "@jupyter-widgets/base",
      "model_module_version": "1.0.0",
      "model_name": "LayoutModel",
      "state": {}
     },
     "eae484ea0a8242ce980025e99af81b46": {
      "model_module": "@jupyter-widgets/base",
      "model_module_version": "1.0.0",
      "model_name": "LayoutModel",
      "state": {}
     },
     "eb6997532acc4bf4a2140e5a96602e81": {
      "model_module": "@jupyter-widgets/controls",
      "model_module_version": "1.0.0",
      "model_name": "DescriptionStyleModel",
      "state": {
       "description_width": ""
      }
     },
     "ec73c69aa32d47de90d18ace17bb5684": {
      "model_module": "@jupyter-widgets/base",
      "model_module_version": "1.0.0",
      "model_name": "LayoutModel",
      "state": {}
     },
     "ec7ea40c050041c7affd4dd169a85881": {
      "model_module": "@jupyter-widgets/controls",
      "model_module_version": "1.0.0",
      "model_name": "SelectModel",
      "state": {
       "_options_labels": [
        "",
        "Accent",
        "Accent_r",
        "Blues",
        "Blues_r",
        "BrBG",
        "BrBG_r",
        "BuGn",
        "BuGn_r",
        "BuPu",
        "BuPu_r",
        "CMRmap",
        "CMRmap_r",
        "Dark2",
        "Dark2_r",
        "GnBu",
        "GnBu_r",
        "Greens",
        "Greens_r",
        "Greys",
        "Greys_r",
        "OrRd",
        "OrRd_r",
        "Oranges",
        "Oranges_r",
        "PRGn",
        "PRGn_r",
        "Paired",
        "Paired_r",
        "Pastel1",
        "Pastel1_r",
        "Pastel2",
        "Pastel2_r",
        "PiYG",
        "PiYG_r",
        "PuBu",
        "PuBuGn",
        "PuBuGn_r",
        "PuBu_r",
        "PuOr",
        "PuOr_r",
        "PuRd",
        "PuRd_r",
        "Purples",
        "Purples_r",
        "RdBu",
        "RdBu_r",
        "RdGy",
        "RdGy_r",
        "RdPu",
        "RdPu_r",
        "RdYlBu",
        "RdYlBu_r",
        "RdYlGn",
        "RdYlGn_r",
        "Reds",
        "Reds_r",
        "Set1",
        "Set1_r",
        "Set2",
        "Set2_r",
        "Set3",
        "Set3_r",
        "Spectral",
        "Spectral_r",
        "Vega10",
        "Vega10_r",
        "Vega20",
        "Vega20_r",
        "Vega20b",
        "Vega20b_r",
        "Vega20c",
        "Vega20c_r",
        "Wistia",
        "Wistia_r",
        "YlGn",
        "YlGnBu",
        "YlGnBu_r",
        "YlGn_r",
        "YlOrBr",
        "YlOrBr_r",
        "YlOrRd",
        "YlOrRd_r",
        "afmhot",
        "afmhot_r",
        "autumn",
        "autumn_r",
        "binary",
        "binary_r",
        "bone",
        "bone_r",
        "brg",
        "brg_r",
        "bwr",
        "bwr_r",
        "cool",
        "cool_r",
        "coolwarm",
        "coolwarm_r",
        "copper",
        "copper_r",
        "cubehelix",
        "cubehelix_r",
        "flag",
        "flag_r",
        "gist_earth",
        "gist_earth_r",
        "gist_gray",
        "gist_gray_r",
        "gist_heat",
        "gist_heat_r",
        "gist_ncar",
        "gist_ncar_r",
        "gist_rainbow",
        "gist_rainbow_r",
        "gist_stern",
        "gist_stern_r",
        "gist_yarg",
        "gist_yarg_r",
        "gnuplot",
        "gnuplot2",
        "gnuplot2_r",
        "gnuplot_r",
        "gray",
        "gray_r",
        "hot",
        "hot_r",
        "hsv",
        "hsv_r",
        "inferno",
        "inferno_r",
        "jet",
        "jet_r",
        "magma",
        "magma_r",
        "nipy_spectral",
        "nipy_spectral_r",
        "ocean",
        "ocean_r",
        "pink",
        "pink_r",
        "plasma",
        "plasma_r",
        "prism",
        "prism_r",
        "rainbow",
        "rainbow_r",
        "seismic",
        "seismic_r",
        "spectral",
        "spectral_r",
        "spring",
        "spring_r",
        "summer",
        "summer_r",
        "tab10",
        "tab10_r",
        "tab20",
        "tab20_r",
        "tab20b",
        "tab20b_r",
        "tab20c",
        "tab20c_r",
        "terrain",
        "terrain_r",
        "viridis",
        "viridis_r",
        "winter",
        "winter_r"
       ],
       "description": "Colormap:",
       "index": 0,
       "layout": "IPY_MODEL_5a83029a96f44ac297cdd24e5242d910",
       "rows": 1,
       "style": "IPY_MODEL_4b5b27f084634c0384256f268105e6e6"
      }
     },
     "ec805c04bcba4ecdb625da84f52e6044": {
      "model_module": "@jupyter-widgets/controls",
      "model_module_version": "1.0.0",
      "model_name": "CheckboxModel",
      "state": {
       "description": "Visible",
       "disabled": false,
       "layout": "IPY_MODEL_6664f6eeb6e34901b7ac4f5e4eec7a90",
       "style": "IPY_MODEL_a42044a4033043bcb27c32e87fa202ae",
       "value": true
      }
     },
     "ec91ed3397834ecfa61939e95dd3de32": {
      "model_module": "@jupyter-widgets/controls",
      "model_module_version": "1.0.0",
      "model_name": "DescriptionStyleModel",
      "state": {
       "description_width": ""
      }
     },
     "ece449c70e874c829fc8be33a1e4e75c": {
      "model_module": "@jupyter-widgets/base",
      "model_module_version": "1.0.0",
      "model_name": "LayoutModel",
      "state": {
       "width": "100%"
      }
     },
     "ed207558db264089bd045af99c295bdc": {
      "model_module": "@jupyter-widgets/controls",
      "model_module_version": "1.0.0",
      "model_name": "VBoxModel",
      "state": {
       "children": [
        "IPY_MODEL_405840e750a94a949f15828d9471d237",
        "IPY_MODEL_274fe3afcbde461c8999d16db680b323",
        "IPY_MODEL_ccb17dda1a2a4efabd7946a7294192ab",
        "IPY_MODEL_0a6f2bc824ea48c8b425240c9a0d66ac",
        "IPY_MODEL_b0c957df192f412d8f048f05071058d7"
       ],
       "layout": "IPY_MODEL_b14247a58d8848eba66bec103602ee6f"
      }
     },
     "ed21bcfc86ff44e49a39b0b433289059": {
      "model_module": "@jupyter-widgets/controls",
      "model_module_version": "1.0.0",
      "model_name": "IntTextModel",
      "state": {
       "description": "Rightmost color maps to:",
       "layout": "IPY_MODEL_1f9d39d4f19946c3b8c076ac406bce72",
       "step": 1,
       "style": "IPY_MODEL_2a6ba9d8c5f14bdb91352e7b1b24f719",
       "value": 1
      }
     },
     "ed7293af21254480a07dbe5ef2eea261": {
      "model_module": "@jupyter-widgets/controls",
      "model_module_version": "1.0.0",
      "model_name": "DescriptionStyleModel",
      "state": {
       "description_width": ""
      }
     },
     "ede8c0189e604b988ebaed1fd4e52a74": {
      "model_module": "@jupyter-widgets/controls",
      "model_module_version": "1.0.0",
      "model_name": "DescriptionStyleModel",
      "state": {
       "description_width": "initial"
      }
     },
     "ee06f1c0964840dcaa10e6e1af6007b5": {
      "model_module": "@jupyter-widgets/controls",
      "model_module_version": "1.0.0",
      "model_name": "DescriptionStyleModel",
      "state": {
       "description_width": ""
      }
     },
     "ee32ff642bca45ee94017e4dc2ef7f37": {
      "model_module": "@jupyter-widgets/controls",
      "model_module_version": "1.0.0",
      "model_name": "HBoxModel",
      "state": {
       "children": [
        "IPY_MODEL_c66efd2ec4744d2bab2ab7b3475c2e3a",
        "IPY_MODEL_660764d641624ff08cc628855e6f5453"
       ],
       "layout": "IPY_MODEL_da389c3efda84d598088e22b2c099f41"
      }
     },
     "ee868a11906a418dbc582b52c8f91f19": {
      "model_module": "@jupyter-widgets/controls",
      "model_module_version": "1.0.0",
      "model_name": "DescriptionStyleModel",
      "state": {
       "description_width": "initial"
      }
     },
     "eec839cdcf394c1894c78c6be4b958b3": {
      "model_module": "@jupyter-widgets/controls",
      "model_module_version": "1.0.0",
      "model_name": "DescriptionStyleModel",
      "state": {
       "description_width": ""
      }
     },
     "eee9d7a87de843fd8377fe6be46ea94c": {
      "model_module": "@jupyter-widgets/base",
      "model_module_version": "1.0.0",
      "model_name": "LayoutModel",
      "state": {
       "width": "100%"
      }
     },
     "ef064a39e5ad437fa1f4e94e925447f5": {
      "model_module": "@jupyter-widgets/controls",
      "model_module_version": "1.0.0",
      "model_name": "DescriptionStyleModel",
      "state": {
       "description_width": "initial"
      }
     },
     "ef0f4eda70414c3fabab3ce8f5b1de5a": {
      "model_module": "@jupyter-widgets/controls",
      "model_module_version": "1.0.0",
      "model_name": "IntSliderModel",
      "state": {
       "continuous_update": false,
       "description": "Dataset index",
       "layout": "IPY_MODEL_12ab0afe958c4b9a9be78ac123a635e6",
       "max": 69999,
       "style": "IPY_MODEL_5f4d0df0c9f749828446239c7af6ffba"
      }
     },
     "ef3da51d92f54dd6b0aeb79ca0f2247f": {
      "model_module": "@jupyter-widgets/controls",
      "model_module_version": "1.0.0",
      "model_name": "HBoxModel",
      "state": {
       "children": [
        "IPY_MODEL_e401812c32f045e6a2308b7d24b0535c",
        "IPY_MODEL_e7d9920435ab4156a379bdaafef69fb2"
       ],
       "layout": "IPY_MODEL_05f22e4f4dd44bf1817533c878c4c275"
      }
     },
     "f08873c14bc24e9c8e94f6359041f7f8": {
      "model_module": "@jupyter-widgets/controls",
      "model_module_version": "1.0.0",
      "model_name": "HTMLModel",
      "state": {
       "layout": "IPY_MODEL_0a5dba321a88410cad8b4bb56847a119",
       "style": "IPY_MODEL_981ea14f1e4e4888b5b512045651500e",
       "value": "<img src=\"data:image/gif;base64,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\"/>"
      }
     },
     "f0add167ec914beeb20fabe5444a9286": {
      "model_module": "@jupyter-widgets/controls",
      "model_module_version": "1.0.0",
      "model_name": "DescriptionStyleModel",
      "state": {
       "description_width": ""
      }
     },
     "f152d794de164f058fa7df6fbd111d24": {
      "model_module": "@jupyter-widgets/controls",
      "model_module_version": "1.0.0",
      "model_name": "ButtonModel",
      "state": {
       "description": "Play",
       "icon": "play",
       "layout": "IPY_MODEL_44b62df88f3242d9a9099e61bddeb981",
       "style": "IPY_MODEL_8e7ea2ed848c4dd79a1c8b885c68d0ab"
      }
     },
     "f1777c92195b42e7ac06502a8b0f4483": {
      "model_module": "@jupyter-widgets/controls",
      "model_module_version": "1.0.0",
      "model_name": "HTMLModel",
      "state": {
       "layout": "IPY_MODEL_5a83029a96f44ac297cdd24e5242d910",
       "style": "IPY_MODEL_e9ecbc51233e4bcdaa46b32ba95f96dc",
       "value": "<p><hr/><h3>maxpool2 bank:</h3></p>"
      }
     },
     "f183a22d981241e885b2707e5f68d3a1": {
      "model_module": "@jupyter-widgets/base",
      "model_module_version": "1.0.0",
      "model_name": "LayoutModel",
      "state": {
       "width": "40px"
      }
     },
     "f1b25334f292447a9c98401ecb6c3350": {
      "model_module": "@jupyter-widgets/base",
      "model_module_version": "1.0.0",
      "model_name": "LayoutModel",
      "state": {}
     },
     "f1b3ae888e974f38a93efd6f36448f45": {
      "model_module": "@jupyter-widgets/controls",
      "model_module_version": "1.0.0",
      "model_name": "HBoxModel",
      "state": {
       "children": [
        "IPY_MODEL_7355317bcd7c48ec99dd247218cf002f",
        "IPY_MODEL_69f8edd120b94c6cb24a6a40b71333f0"
       ],
       "layout": "IPY_MODEL_e81b05bc8b8f466e93d6f26528e8673e"
      }
     },
     "f1b606c6297c4e51b8e85d3939906e2e": {
      "model_module": "@jupyter-widgets/base",
      "model_module_version": "1.0.0",
      "model_name": "LayoutModel",
      "state": {}
     },
     "f1da63d786e3492cabecb25cbb26de63": {
      "model_module": "@jupyter-widgets/controls",
      "model_module_version": "1.0.0",
      "model_name": "DescriptionStyleModel",
      "state": {
       "description_width": ""
      }
     },
     "f2345d733e14434b995510802933d085": {
      "model_module": "@jupyter-widgets/base",
      "model_module_version": "1.0.0",
      "model_name": "LayoutModel",
      "state": {
       "justify_content": "center",
       "overflow_x": "auto",
       "overflow_y": "auto",
       "width": "95%"
      }
     },
     "f23782be2cb94797b3bf59a52b875dc7": {
      "model_module": "@jupyter-widgets/controls",
      "model_module_version": "1.0.0",
      "model_name": "FloatSliderModel",
      "state": {
       "continuous_update": false,
       "description": "Zoom",
       "layout": "IPY_MODEL_556d8aedfba24741bd7d3bc042bc6f84",
       "max": 3,
       "min": 0.5,
       "step": 0.1,
       "style": "IPY_MODEL_76bef6f73ae048c0b15c7311e7647e32",
       "value": 1.7
      }
     },
     "f2ef4a2188bf4644bf06541ebafddb78": {
      "model_module": "@jupyter-widgets/base",
      "model_module_version": "1.0.0",
      "model_name": "LayoutModel",
      "state": {
       "width": "100%"
      }
     },
     "f3e8ef14c4b6402f9ca0d78e04d42110": {
      "model_module": "@jupyter-widgets/controls",
      "model_module_version": "1.0.0",
      "model_name": "DescriptionStyleModel",
      "state": {
       "description_width": ""
      }
     },
     "f40ba9cd60ed427ab9044d635b952144": {
      "model_module": "@jupyter-widgets/controls",
      "model_module_version": "1.0.0",
      "model_name": "ButtonModel",
      "state": {
       "icon": "fast-forward",
       "layout": "IPY_MODEL_b15ffbeb576c40cba0673746357eac4a",
       "style": "IPY_MODEL_d737f19ade5a468ca75ac58d35f5fd9d"
      }
     },
     "f42d5706bd5f4ad78ca5279bc6ad6c1c": {
      "model_module": "@jupyter-widgets/base",
      "model_module_version": "1.0.0",
      "model_name": "LayoutModel",
      "state": {}
     },
     "f471ea59509c4f1497d8e732eef61ce2": {
      "model_module": "@jupyter-widgets/base",
      "model_module_version": "1.0.0",
      "model_name": "LayoutModel",
      "state": {
       "justify_content": "center",
       "overflow_x": "auto",
       "overflow_y": "auto",
       "width": "95%"
      }
     },
     "f47b01c746d94a37b37a1a55769db90d": {
      "model_module": "@jupyter-widgets/base",
      "model_module_version": "1.0.0",
      "model_name": "LayoutModel",
      "state": {}
     },
     "f4cf500944ed4f8399aaea1aa4916951": {
      "model_module": "@jupyter-widgets/controls",
      "model_module_version": "1.0.0",
      "model_name": "CheckboxModel",
      "state": {
       "description": "Visible",
       "disabled": false,
       "layout": "IPY_MODEL_5a83029a96f44ac297cdd24e5242d910",
       "style": "IPY_MODEL_a0c7fc5c0dcf47619c3fb47d6efc1048",
       "value": true
      }
     },
     "f4cf557f22e8487cbfae7c2cb73e488b": {
      "model_module": "@jupyter-widgets/base",
      "model_module_version": "1.0.0",
      "model_name": "LayoutModel",
      "state": {}
     },
     "f509018369c040cbbd90c7a84674f2ba": {
      "model_module": "@jupyter-widgets/controls",
      "model_module_version": "1.0.0",
      "model_name": "FloatTextModel",
      "state": {
       "description": "Feature scale:",
       "layout": "IPY_MODEL_fcdf23b24a014d35a0fbc601cbb83412",
       "step": null,
       "style": "IPY_MODEL_0b6491c01da742baa05ace0a684b8f9d",
       "value": 2
      }
     },
     "f5ac42d2e7c94f40b456cce1b764f67f": {
      "model_module": "@jupyter-widgets/controls",
      "model_module_version": "1.0.0",
      "model_name": "DescriptionStyleModel",
      "state": {
       "description_width": ""
      }
     },
     "f5ef522cc7064474b324ed6579989cc7": {
      "model_module": "@jupyter-widgets/base",
      "model_module_version": "1.0.0",
      "model_name": "LayoutModel",
      "state": {}
     },
     "f63bec4f391e485eb603c6b528d0a89e": {
      "model_module": "@jupyter-widgets/controls",
      "model_module_version": "1.0.0",
      "model_name": "HBoxModel",
      "state": {
       "children": [
        "IPY_MODEL_d8ed0af324554dd6bc0f46f5a0529c44",
        "IPY_MODEL_668048b71b834f6884196164a255a4ea"
       ],
       "layout": "IPY_MODEL_9c688b8ca2894d31a29914803a4235e5"
      }
     },
     "f66211e7465446c49cb055dc9a00ffe2": {
      "model_module": "@jupyter-widgets/controls",
      "model_module_version": "1.0.0",
      "model_name": "DescriptionStyleModel",
      "state": {
       "description_width": ""
      }
     },
     "f727934f0ecb4e1da2d7ec636f97ab5a": {
      "model_module": "@jupyter-widgets/controls",
      "model_module_version": "1.0.0",
      "model_name": "DescriptionStyleModel",
      "state": {
       "description_width": "initial"
      }
     },
     "f7cc3eaadcb24dfe851707d1cd132689": {
      "model_module": "@jupyter-widgets/base",
      "model_module_version": "1.0.0",
      "model_name": "LayoutModel",
      "state": {
       "height": "40px"
      }
     },
     "f7ec7c8cfb7541a3bcb49bd6585efeae": {
      "model_module": "@jupyter-widgets/controls",
      "model_module_version": "1.0.0",
      "model_name": "DescriptionStyleModel",
      "state": {
       "description_width": ""
      }
     },
     "f814d2ba9361429eab5b357e66b7170e": {
      "model_module": "@jupyter-widgets/base",
      "model_module_version": "1.0.0",
      "model_name": "LayoutModel",
      "state": {
       "overflow_x": "auto",
       "overflow_y": "auto",
       "width": "95%"
      }
     },
     "f8235a33a111480793eac664016aab03": {
      "model_module": "@jupyter-widgets/base",
      "model_module_version": "1.0.0",
      "model_name": "LayoutModel",
      "state": {}
     },
     "f8c7e1ce5a014e118715035b37891e45": {
      "model_module": "@jupyter-widgets/controls",
      "model_module_version": "1.0.0",
      "model_name": "VBoxModel",
      "state": {
       "children": [
        "IPY_MODEL_beeaa00718aa44c3892cff1ddab86b9e",
        "IPY_MODEL_84c98801be004278a9eaef67caa43db2",
        "IPY_MODEL_7cd4828591e24e69b2b83de7eb322f43",
        "IPY_MODEL_e418f7d7007541df9ff5cf30968991cd",
        "IPY_MODEL_0683dd7abe3e4a068284fecb972bec71"
       ],
       "layout": "IPY_MODEL_9fe6785c48b44e7590407dd349f01555"
      }
     },
     "f96005f44e364f89b07f48eb5aea837e": {
      "model_module": "@jupyter-widgets/controls",
      "model_module_version": "1.0.0",
      "model_name": "VBoxModel",
      "state": {
       "children": [
        "IPY_MODEL_3dc9817a683242a4b82f7f4622c29d8e",
        "IPY_MODEL_40003657182d431096431165b162f85b",
        "IPY_MODEL_39fb267bfcb14ebfbd54230e9c110ac9",
        "IPY_MODEL_51e0bae054604cafadafeff07f14d68a",
        "IPY_MODEL_86b6bee2e17d4ceea70020924b5ef01e"
       ],
       "layout": "IPY_MODEL_eac7d19186f845eb9f66ae8f0064ff51"
      }
     },
     "f98a585b474b406397a25fc7a4a0f84a": {
      "model_module": "@jupyter-widgets/controls",
      "model_module_version": "1.0.0",
      "model_name": "DescriptionStyleModel",
      "state": {
       "description_width": ""
      }
     },
     "f9a8d8b79ebb4aa48a5d310d5c8edfac": {
      "model_module": "@jupyter-widgets/controls",
      "model_module_version": "1.0.0",
      "model_name": "VBoxModel",
      "state": {
       "children": [
        "IPY_MODEL_798bd56d521849eaa5fd4dc15538e6f4",
        "IPY_MODEL_70d82dcfa71041e8a4aee7a76167cbcb",
        "IPY_MODEL_0f71bd8c714e4ab483df3c53173f69be",
        "IPY_MODEL_483496fdb01943eaba881b73bcf5958c"
       ],
       "layout": "IPY_MODEL_72f4bacf8faa4da5aff1d6892b4963e2"
      }
     },
     "f9b619bc55b14fcbb565b45d5208bce5": {
      "model_module": "@jupyter-widgets/base",
      "model_module_version": "1.0.0",
      "model_name": "LayoutModel",
      "state": {}
     },
     "f9c805d4d07f40bca5160b834987cfdd": {
      "model_module": "@jupyter-widgets/controls",
      "model_module_version": "1.0.0",
      "model_name": "HBoxModel",
      "state": {
       "children": [
        "IPY_MODEL_760ef1d6fea44e62bf09df49c1ef52c6",
        "IPY_MODEL_86faf8cc7c514b3a80c3449f17ed72fb"
       ],
       "layout": "IPY_MODEL_b52a1f2be3e349b69eb278cd6a7186cb"
      }
     },
     "fa8ff28ed10e4fcfa2239037568b9631": {
      "model_module": "@jupyter-widgets/base",
      "model_module_version": "1.0.0",
      "model_name": "LayoutModel",
      "state": {}
     },
     "fb3be41e3ee947dd9039e6c2fd75b9e3": {
      "model_module": "@jupyter-widgets/controls",
      "model_module_version": "1.0.0",
      "model_name": "SelectModel",
      "state": {
       "_options_labels": [
        "",
        "Accent",
        "Accent_r",
        "Blues",
        "Blues_r",
        "BrBG",
        "BrBG_r",
        "BuGn",
        "BuGn_r",
        "BuPu",
        "BuPu_r",
        "CMRmap",
        "CMRmap_r",
        "Dark2",
        "Dark2_r",
        "GnBu",
        "GnBu_r",
        "Greens",
        "Greens_r",
        "Greys",
        "Greys_r",
        "OrRd",
        "OrRd_r",
        "Oranges",
        "Oranges_r",
        "PRGn",
        "PRGn_r",
        "Paired",
        "Paired_r",
        "Pastel1",
        "Pastel1_r",
        "Pastel2",
        "Pastel2_r",
        "PiYG",
        "PiYG_r",
        "PuBu",
        "PuBuGn",
        "PuBuGn_r",
        "PuBu_r",
        "PuOr",
        "PuOr_r",
        "PuRd",
        "PuRd_r",
        "Purples",
        "Purples_r",
        "RdBu",
        "RdBu_r",
        "RdGy",
        "RdGy_r",
        "RdPu",
        "RdPu_r",
        "RdYlBu",
        "RdYlBu_r",
        "RdYlGn",
        "RdYlGn_r",
        "Reds",
        "Reds_r",
        "Set1",
        "Set1_r",
        "Set2",
        "Set2_r",
        "Set3",
        "Set3_r",
        "Spectral",
        "Spectral_r",
        "Vega10",
        "Vega10_r",
        "Vega20",
        "Vega20_r",
        "Vega20b",
        "Vega20b_r",
        "Vega20c",
        "Vega20c_r",
        "Wistia",
        "Wistia_r",
        "YlGn",
        "YlGnBu",
        "YlGnBu_r",
        "YlGn_r",
        "YlOrBr",
        "YlOrBr_r",
        "YlOrRd",
        "YlOrRd_r",
        "afmhot",
        "afmhot_r",
        "autumn",
        "autumn_r",
        "binary",
        "binary_r",
        "bone",
        "bone_r",
        "brg",
        "brg_r",
        "bwr",
        "bwr_r",
        "cool",
        "cool_r",
        "coolwarm",
        "coolwarm_r",
        "copper",
        "copper_r",
        "cubehelix",
        "cubehelix_r",
        "flag",
        "flag_r",
        "gist_earth",
        "gist_earth_r",
        "gist_gray",
        "gist_gray_r",
        "gist_heat",
        "gist_heat_r",
        "gist_ncar",
        "gist_ncar_r",
        "gist_rainbow",
        "gist_rainbow_r",
        "gist_stern",
        "gist_stern_r",
        "gist_yarg",
        "gist_yarg_r",
        "gnuplot",
        "gnuplot2",
        "gnuplot2_r",
        "gnuplot_r",
        "gray",
        "gray_r",
        "hot",
        "hot_r",
        "hsv",
        "hsv_r",
        "inferno",
        "inferno_r",
        "jet",
        "jet_r",
        "magma",
        "magma_r",
        "nipy_spectral",
        "nipy_spectral_r",
        "ocean",
        "ocean_r",
        "pink",
        "pink_r",
        "plasma",
        "plasma_r",
        "prism",
        "prism_r",
        "rainbow",
        "rainbow_r",
        "seismic",
        "seismic_r",
        "spectral",
        "spectral_r",
        "spring",
        "spring_r",
        "summer",
        "summer_r",
        "tab10",
        "tab10_r",
        "tab20",
        "tab20_r",
        "tab20b",
        "tab20b_r",
        "tab20c",
        "tab20c_r",
        "terrain",
        "terrain_r",
        "viridis",
        "viridis_r",
        "winter",
        "winter_r"
       ],
       "description": "Colormap:",
       "index": 0,
       "layout": "IPY_MODEL_6664f6eeb6e34901b7ac4f5e4eec7a90",
       "rows": 1,
       "style": "IPY_MODEL_c392706487344005b5d32b1b12b5d4c2"
      }
     },
     "fb4bc14432a440bfbd29e4d02257545f": {
      "model_module": "@jupyter-widgets/controls",
      "model_module_version": "1.0.0",
      "model_name": "DescriptionStyleModel",
      "state": {
       "description_width": "initial"
      }
     },
     "fb527585628442ce8f8b688835cf6ca2": {
      "model_module": "@jupyter-widgets/controls",
      "model_module_version": "1.0.0",
      "model_name": "SelectModel",
      "state": {
       "_options_labels": [
        "",
        "Accent",
        "Accent_r",
        "Blues",
        "Blues_r",
        "BrBG",
        "BrBG_r",
        "BuGn",
        "BuGn_r",
        "BuPu",
        "BuPu_r",
        "CMRmap",
        "CMRmap_r",
        "Dark2",
        "Dark2_r",
        "GnBu",
        "GnBu_r",
        "Greens",
        "Greens_r",
        "Greys",
        "Greys_r",
        "OrRd",
        "OrRd_r",
        "Oranges",
        "Oranges_r",
        "PRGn",
        "PRGn_r",
        "Paired",
        "Paired_r",
        "Pastel1",
        "Pastel1_r",
        "Pastel2",
        "Pastel2_r",
        "PiYG",
        "PiYG_r",
        "PuBu",
        "PuBuGn",
        "PuBuGn_r",
        "PuBu_r",
        "PuOr",
        "PuOr_r",
        "PuRd",
        "PuRd_r",
        "Purples",
        "Purples_r",
        "RdBu",
        "RdBu_r",
        "RdGy",
        "RdGy_r",
        "RdPu",
        "RdPu_r",
        "RdYlBu",
        "RdYlBu_r",
        "RdYlGn",
        "RdYlGn_r",
        "Reds",
        "Reds_r",
        "Set1",
        "Set1_r",
        "Set2",
        "Set2_r",
        "Set3",
        "Set3_r",
        "Spectral",
        "Spectral_r",
        "Vega10",
        "Vega10_r",
        "Vega20",
        "Vega20_r",
        "Vega20b",
        "Vega20b_r",
        "Vega20c",
        "Vega20c_r",
        "Wistia",
        "Wistia_r",
        "YlGn",
        "YlGnBu",
        "YlGnBu_r",
        "YlGn_r",
        "YlOrBr",
        "YlOrBr_r",
        "YlOrRd",
        "YlOrRd_r",
        "afmhot",
        "afmhot_r",
        "autumn",
        "autumn_r",
        "binary",
        "binary_r",
        "bone",
        "bone_r",
        "brg",
        "brg_r",
        "bwr",
        "bwr_r",
        "cool",
        "cool_r",
        "coolwarm",
        "coolwarm_r",
        "copper",
        "copper_r",
        "cubehelix",
        "cubehelix_r",
        "flag",
        "flag_r",
        "gist_earth",
        "gist_earth_r",
        "gist_gray",
        "gist_gray_r",
        "gist_heat",
        "gist_heat_r",
        "gist_ncar",
        "gist_ncar_r",
        "gist_rainbow",
        "gist_rainbow_r",
        "gist_stern",
        "gist_stern_r",
        "gist_yarg",
        "gist_yarg_r",
        "gnuplot",
        "gnuplot2",
        "gnuplot2_r",
        "gnuplot_r",
        "gray",
        "gray_r",
        "hot",
        "hot_r",
        "hsv",
        "hsv_r",
        "inferno",
        "inferno_r",
        "jet",
        "jet_r",
        "magma",
        "magma_r",
        "nipy_spectral",
        "nipy_spectral_r",
        "ocean",
        "ocean_r",
        "pink",
        "pink_r",
        "plasma",
        "plasma_r",
        "prism",
        "prism_r",
        "rainbow",
        "rainbow_r",
        "seismic",
        "seismic_r",
        "spectral",
        "spectral_r",
        "spring",
        "spring_r",
        "summer",
        "summer_r",
        "tab10",
        "tab10_r",
        "tab20",
        "tab20_r",
        "tab20b",
        "tab20b_r",
        "tab20c",
        "tab20c_r",
        "terrain",
        "terrain_r",
        "viridis",
        "viridis_r",
        "winter",
        "winter_r"
       ],
       "description": "Colormap:",
       "index": 0,
       "layout": "IPY_MODEL_5a83029a96f44ac297cdd24e5242d910",
       "rows": 1,
       "style": "IPY_MODEL_cebe3060f660462c96b361b673476d37"
      }
     },
     "fb7c521aebd94fc39acfd10c3a01f8a7": {
      "model_module": "@jupyter-widgets/controls",
      "model_module_version": "1.0.0",
      "model_name": "CheckboxModel",
      "state": {
       "description": "Visible",
       "disabled": false,
       "layout": "IPY_MODEL_3f6bd880fd0f4f1da6872e0af28cfeaa",
       "style": "IPY_MODEL_203ee42ab41e4f1a9740f56675a61639",
       "value": true
      }
     },
     "fbf06903ba3a48ba924cf6f346464d64": {
      "model_module": "@jupyter-widgets/controls",
      "model_module_version": "1.0.0",
      "model_name": "ButtonModel",
      "state": {
       "description": "Play",
       "icon": "play",
       "layout": "IPY_MODEL_9adbf81c69044f81bab758a4de0c1f53",
       "style": "IPY_MODEL_1d2ea63d7eac41c1842d8fd97dd0a5f0"
      }
     },
     "fbff178cbafc4792851b8141d08b0ff6": {
      "model_module": "@jupyter-widgets/controls",
      "model_module_version": "1.0.0",
      "model_name": "IntTextModel",
      "state": {
       "description": "Leftmost color maps to:",
       "layout": "IPY_MODEL_b12068c5cb9b44339547bc5758291748",
       "step": 1,
       "style": "IPY_MODEL_414d127725834f8da8c732cd666dea5b",
       "value": -1
      }
     },
     "fc839b8cded948e78b6e21949fa7175b": {
      "model_module": "@jupyter-widgets/controls",
      "model_module_version": "1.0.0",
      "model_name": "HTMLModel",
      "state": {
       "layout": "IPY_MODEL_5a83029a96f44ac297cdd24e5242d910",
       "style": "IPY_MODEL_0ccdd6c0d1654d13bcbcb7cd56012d42",
       "value": "<p><hr/><h3>flatten bank:</h3></p>"
      }
     },
     "fcb6a00ded124024b7e865a0d395376c": {
      "model_module": "@jupyter-widgets/controls",
      "model_module_version": "1.0.0",
      "model_name": "DescriptionStyleModel",
      "state": {
       "description_width": ""
      }
     },
     "fcdf23b24a014d35a0fbc601cbb83412": {
      "model_module": "@jupyter-widgets/base",
      "model_module_version": "1.0.0",
      "model_name": "LayoutModel",
      "state": {}
     },
     "fdf0b3bfd12c4be5bb195b1231b3e1f2": {
      "model_module": "@jupyter-widgets/controls",
      "model_module_version": "1.0.0",
      "model_name": "DescriptionStyleModel",
      "state": {
       "description_width": "initial"
      }
     },
     "fdfa96c354e94d3391e762cc0ec30f7b": {
      "model_module": "@jupyter-widgets/controls",
      "model_module_version": "1.0.0",
      "model_name": "HTMLModel",
      "state": {
       "layout": "IPY_MODEL_2095c47cfd784d13b9526cf3e396afd1",
       "style": "IPY_MODEL_80db720ba1de4c7d90eccb67716441fa",
       "value": "<img src=\"data:image/gif;base64,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\"/>"
      }
     },
     "fe22aa81d91647bcbec547b8af061696": {
      "model_module": "@jupyter-widgets/base",
      "model_module_version": "1.0.0",
      "model_name": "LayoutModel",
      "state": {}
     },
     "fe4bc8d6deb349e4b5b5b7d3c3207c26": {
      "model_module": "@jupyter-widgets/controls",
      "model_module_version": "1.0.0",
      "model_name": "IntTextModel",
      "state": {
       "description": "Rightmost color maps to:",
       "layout": "IPY_MODEL_385c7a9874bf4c7aacc940089e627888",
       "step": 1,
       "style": "IPY_MODEL_626c227c47cd4c67916e4d6acbcd3e83",
       "value": 1
      }
     },
     "fead5d009ad5455fafbbad82b855a60a": {
      "model_module": "@jupyter-widgets/base",
      "model_module_version": "1.0.0",
      "model_name": "LayoutModel",
      "state": {}
     },
     "fedee85b07c94dc9b1f7a8abb71932f9": {
      "model_module": "@jupyter-widgets/controls",
      "model_module_version": "1.0.0",
      "model_name": "HBoxModel",
      "state": {
       "children": [
        "IPY_MODEL_4c8f8d8ffb5940e8887cf1969b50b225",
        "IPY_MODEL_42b7e22deec94bc68413cd1d4c6a540b"
       ],
       "layout": "IPY_MODEL_45b3da3559b34f849c3c69aea34f9130"
      }
     },
     "ff717e1147af492699794470e0ff514c": {
      "model_module": "@jupyter-widgets/controls",
      "model_module_version": "1.0.0",
      "model_name": "DescriptionStyleModel",
      "state": {
       "description_width": "initial"
      }
     },
     "ff850596d1754080bd71297820d4f56a": {
      "model_module": "@jupyter-widgets/controls",
      "model_module_version": "1.0.0",
      "model_name": "VBoxModel",
      "state": {
       "children": [
        "IPY_MODEL_81fe6d0726f54ca288b01b298fbf9290",
        "IPY_MODEL_26e5295013604f0b8c7d2d27486656f2",
        "IPY_MODEL_152b686397534fefbc5a9b34d4dc77c9",
        "IPY_MODEL_266847ab313c486a9fb3f919cdacdf45",
        "IPY_MODEL_d018b3af1ec944b4a2e92589f8241574",
        "IPY_MODEL_77763cc975bf4ccc9131e5a3b510a569",
        "IPY_MODEL_09cf32c1ea224cf6a71653739bbfd241",
        "IPY_MODEL_14744687b9654543aabcb2ea4cf006f2"
       ],
       "layout": "IPY_MODEL_9abb68a6d7db475b9efb29bd6028099f"
      }
     },
     "ff948304bb13485c902548db0b851a1e": {
      "model_module": "@jupyter-widgets/controls",
      "model_module_version": "1.0.0",
      "model_name": "HTMLModel",
      "state": {
       "layout": "IPY_MODEL_3f6bd880fd0f4f1da6872e0af28cfeaa",
       "style": "IPY_MODEL_a53126e26c2643dea546cd8f109d9326",
       "value": "<p><hr/><h3>flatten bank:</h3></p>"
      }
     },
     "ffc300cb02bc47f396261ce14467f0d2": {
      "model_module": "@jupyter-widgets/controls",
      "model_module_version": "1.0.0",
      "model_name": "HTMLModel",
      "state": {
       "layout": "IPY_MODEL_82425a1384a24507a55dc12f6c40d5a8",
       "style": "IPY_MODEL_7729809c5f384b5594179f63bee4038c",
       "value": "<img src=\"data:image/gif;base64,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\"/>"
      }
     },
     "ffd1bd9457e54b9caff40375e532ce51": {
      "model_module": "@jupyter-widgets/controls",
      "model_module_version": "1.0.0",
      "model_name": "VBoxModel",
      "state": {
       "children": [
        "IPY_MODEL_b7758be4b6db499eaf053324748d5ac5",
        "IPY_MODEL_fb7c521aebd94fc39acfd10c3a01f8a7",
        "IPY_MODEL_51d30c2413fc4dcc8fdb3f92422a8552",
        "IPY_MODEL_6f7f760390df4443bb66e3edc5b21a75"
       ],
       "layout": "IPY_MODEL_7b1f2992cc584f30967209bd6795ac09"
      }
     }
    },
    "version_major": 2,
    "version_minor": 0
   }
  }
 },
 "nbformat": 4,
 "nbformat_minor": 2
}
