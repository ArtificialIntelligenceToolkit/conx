{
 "cells": [
  {
   "cell_type": "markdown",
   "metadata": {},
   "source": [
    "# Auto-encoder with Conv2D"
   ]
  },
  {
   "cell_type": "code",
   "execution_count": 15,
   "metadata": {},
   "outputs": [],
   "source": [
    "from conx import *"
   ]
  },
  {
   "cell_type": "code",
   "execution_count": 16,
   "metadata": {},
   "outputs": [],
   "source": [
    "net = Network(\"Auto-Encoding with Conv\")\n",
    "net.add(Layer(\"input\", (28,28,1), colormap=\"hot\", minmax=(0,1)))\n",
    "net.add(Conv2DLayer(\"Conv2D-1\", 16, (5,5), activation=\"relu\"))\n",
    "net.add(MaxPool2DLayer(\"maxpool1\", (2,2)))\n",
    "net.add(Conv2DLayer(\"Conv2D-2\", 132, (5,5), activation=\"relu\"))\n",
    "net.add(MaxPool2DLayer(\"maxpool2\", (2,2)))\n",
    "net.add(FlattenLayer(\"flatten\", visible=True))\n",
    "net.add(Layer(\"output\", 28 * 28, vshape=(28,28), activation='softmax'))"
   ]
  },
  {
   "cell_type": "code",
   "execution_count": 17,
   "metadata": {},
   "outputs": [],
   "source": [
    "net.connect()"
   ]
  },
  {
   "cell_type": "code",
   "execution_count": 18,
   "metadata": {},
   "outputs": [],
   "source": [
    "net.dataset.get(\"mnist\")"
   ]
  },
  {
   "cell_type": "code",
   "execution_count": 19,
   "metadata": {},
   "outputs": [],
   "source": [
    "net.compile(error=\"mse\", optimizer=\"adam\")"
   ]
  },
  {
   "cell_type": "code",
   "execution_count": 28,
   "metadata": {},
   "outputs": [
    {
     "data": {
      "application/javascript": [
       "\n",
       "require(['base/js/namespace'], function(Jupyter) {\n",
       "    Jupyter.notebook.kernel.comm_manager.register_target('conx_svg_control', function(comm, msg) {\n",
       "        comm.on_msg(function(msg) {\n",
       "            var data = msg[\"content\"][\"data\"];\n",
       "            var images = document.getElementsByClassName(data[\"class\"]);\n",
       "            for (var i = 0; i < images.length; i++) {\n",
       "                if (data[\"href\"]) {\n",
       "                    images[i].setAttributeNS(null, \"href\", data[\"href\"]);\n",
       "                }\n",
       "                if (data[\"src\"]) {\n",
       "                    images[i].setAttributeNS(null, \"src\", data[\"src\"]);\n",
       "                }\n",
       "            }\n",
       "        });\n",
       "    });\n",
       "});\n"
      ],
      "text/plain": [
       "<IPython.core.display.Javascript object>"
      ]
     },
     "metadata": {},
     "output_type": "display_data"
    },
    {
     "data": {
      "application/vnd.jupyter.widget-view+json": {
       "model_id": "876474194f61446db2cb7aedcef16c4a",
       "version_major": 2,
       "version_minor": 0
      },
      "text/html": [
       "<p>Failed to display Jupyter Widget of type <code>Dashboard</code>.</p>\n",
       "<p>\n",
       "  If you're reading this message in Jupyter Notebook or JupyterLab, it may mean\n",
       "  that the widgets JavaScript is still loading. If this message persists, it\n",
       "  likely means that the widgets JavaScript library is either not installed or\n",
       "  not enabled. See the <a href=\"https://ipywidgets.readthedocs.io/en/stable/user_install.html\">Jupyter\n",
       "  Widgets Documentation</a> for setup instructions.\n",
       "</p>\n",
       "<p>\n",
       "  If you're reading this message in another notebook frontend (for example, a static\n",
       "  rendering on GitHub or <a href=\"https://nbviewer.jupyter.org/\">NBViewer</a>),\n",
       "  it may mean that your frontend doesn't currently support widgets.\n",
       "</p>\n"
      ],
      "text/plain": [
       "Dashboard(children=(VBox(children=(VBox(children=(HBox(children=(Select(description='Dataset:', index=1, options=('Test', 'Train'), rows=1, value='Train'), Select(description='Features:', options=('', 'input', 'Conv2D-1', 'maxpool1', 'Conv2D-2', 'maxpool2'), rows=1, value=''), Button(icon='refresh', layout=Layout(width='40px'), style=ButtonStyle())), layout=Layout(height='40px')), HBox(children=(IntSlider(value=0, continuous_update=False, description='Dataset index', layout=Layout(width='95%'), max=6998), Label(value='of 0', layout=Layout(width='100px'))), layout=Layout(height='40px')), HBox(children=(Button(icon='fast-backward', layout=Layout(width='100%'), style=ButtonStyle()), Button(icon='backward', layout=Layout(width='100%'), style=ButtonStyle()), IntText(value=0, layout=Layout(width='100%')), Button(icon='forward', layout=Layout(width='100%'), style=ButtonStyle()), Button(icon='fast-forward', layout=Layout(width='100%'), style=ButtonStyle()), Button(description='Play', icon='play', layout=Layout(width='100%'), style=ButtonStyle())), layout=Layout(height='50px', width='100%'))), layout=Layout(width='95%')), HTML(value='<p style=\"text-align:center\"><svg id=\\'Auto-Encoding with Conv\\' xmlns=\\'http://www.w3.org/2000/svg\\' viewBox=\"0 0 350 785\" height=\"780\" image-rendering=\"pixelated\">\\n    <defs>\\n        <marker id=\"arrow\" markerWidth=\"10\" markerHeight=\"10\" refX=\"9\" refY=\"3\" orient=\"auto\" markerUnits=\"strokeWidth\">\\n          <path d=\"M0,0 L0,6 L9,3 z\" fill=\"black\" />\\n        </marker>\\n    </defs><text x=\"175.0\" y=\"12.5\" font-family=\"monospace\" font-size=\"15\" text-anchor=\"middle\" alignment-baseline=\"central\">Auto-Encoding with Conv</text><rect x=\"74.0\" y=\"29\" width=\"202\" height=\"202\" style=\"fill:none;stroke:black;stroke-width:2\"/><image id=\"Auto-Encoding with Conv_output_8\" class=\"Auto-Encoding with Conv_output\" x=\"75.0\" y=\"30\" height=\"200\" width=\"200\" preserveAspectRatio=\"none\" href=\"data:image/gif;base64,R0lGODdhHAAcAIcAAP79/enp/8vL/2lp/6Gh/729/wAAAAAAAAAAAAAAAAAAAAAAAAAAAAAAAAAAAAAAAAAAAAAAAAAAAAAAAAAAAAAAAAAAAAAAAAAAAAAAAAAAAAAAAAAAAAAAAAAAAAAAAAAAAAAAAAAAAAAAAAAAAAAAAAAAAAAAAAAAAAAAAAAAAAAAAAAAAAAAAAAAAAAAAAAAAAAAAAAAAAAAAAAAAAAAAAAAAAAAAAAAAAAAAAAAAAAAAAAAAAAAAAAAAAAAAAAAAAAAAAAAAAAAAAAAAAAAAAAAAAAAAAAAAAAAAAAAAAAAAAAAAAAAAAAAAAAAAAAAAAAAAAAAAAAAAAAAAAAAAAAAAAAAAAAAAAAAAAAAAAAAAAAAAAAAAAAAAAAAAAAAAAAAAAAAAAAAAAAAAAAAAAAAAAAAAAAAAAAAAAAAAAAAAAAAAAAAAAAAAAAAAAAAAAAAAAAAAAAAAAAAAAAAAAAAAAAAAAAAAAAAAAAAAAAAAAAAAAAAAAAAAAAAAAAAAAAAAAAAAAAAAAAAAAAAAAAAAAAAAAAAAAAAAAAAAAAAAAAAAAAAAAAAAAAAAAAAAAAAAAAAAAAAAAAAAAAAAAAAAAAAAAAAAAAAAAAAAAAAAAAAAAAAAAAAAAAAAAAAAAAAAAAAAAAAAAAAAAAAAAAAAAAAAAAAAAAAAAAAAAAAAAAAAAAAAAAAAAAAAAAAAAAAAAAAAAAAAAAAAAAAAAAAAAAAAAAAAAAAAAAAAAAAAAAAAAAAAAAAAAAAAAAAAAAAAAAAAAAAAAAAAAAAAAAAAAAAAAAAAAAAAAAAAAAAAAAAAAAAAAAAAAAAAAAAAAAAAAAAAAAAAAAAAAAAAAAAAAAAAAAAAAAAAAAAAAAAAAAAAAAAAAAAAAAAAAAAAAAAAAAAAAAAAAAAAAAAAAAAAAAAAAAAAAAAAAAAAAAAAAAAAAAAAAAAAAAAAAAAAAAAAAAAAAAAAAAAAAAAAAAAAAAAAAAAAAAAAAAAAAAAAAAAAAAAAAAAAAAAACwAAAAAHAAcAEAIgQABCBxIsKDBgwgJFhgAoKHDhxAjSpxIsaLFixgzatzIsaPHiQIAiBxJsqTJkyhTqlzJsqVLkQEAyJxJs6bNmzhz6tzJs6fPn0BpEgAAQACAo0iTKl3KtKnTp1CjSp3KNACAq1izat3KtavXr2DDBgBAtqzZs2jTql3Ltq3bt2oDAgA7\"><title>Layer: output (output)\\n shape = (784,)\\n Keras class = Dense\\n activation = softmax</title></image><text x=\"280.0\" y=\"132.0\" font-family=\"monospace\" font-size=\"12\" text-anchor=\"start\" alignment-baseline=\"central\">output</text><line x1=\"175.0\" y1=\"259\" x2=\"175.0\" y2=\"232\" stroke=\"black\" stroke-width=\"2\" marker-end=\"url(#arrow)\"><title>Weights from flatten to output\\n output/kernel has shape (2112, 784)\\n output/bias has shape (784,)</title></line><rect x=\"74.0\" y=\"259\" width=\"202\" height=\"27\" style=\"fill:none;stroke:black;stroke-width:2\"/><image id=\"Auto-Encoding with Conv_flatten_9\" class=\"Auto-Encoding with Conv_flatten\" x=\"75.0\" y=\"260\" height=\"25\" width=\"200\" preserveAspectRatio=\"none\" href=\"data:image/gif;base64,R0lGODdhQAgBAIcAAP78/QAATQEB8gAArwAA0AAAkAAAbmdn/zU1/1dX/3h4/0VF/6en/xcX/5aW/8bG/yYm/7a2/4eH/+bm/9bW/wAAAAAAAAAAAAAAAAAAAAAAAAAAAAAAAAAAAAAAAAAAAAAAAAAAAAAAAAAAAAAAAAAAAAAAAAAAAAAAAAAAAAAAAAAAAAAAAAAAAAAAAAAAAAAAAAAAAAAAAAAAAAAAAAAAAAAAAAAAAAAAAAAAAAAAAAAAAAAAAAAAAAAAAAAAAAAAAAAAAAAAAAAAAAAAAAAAAAAAAAAAAAAAAAAAAAAAAAAAAAAAAAAAAAAAAAAAAAAAAAAAAAAAAAAAAAAAAAAAAAAAAAAAAAAAAAAAAAAAAAAAAAAAAAAAAAAAAAAAAAAAAAAAAAAAAAAAAAAAAAAAAAAAAAAAAAAAAAAAAAAAAAAAAAAAAAAAAAAAAAAAAAAAAAAAAAAAAAAAAAAAAAAAAAAAAAAAAAAAAAAAAAAAAAAAAAAAAAAAAAAAAAAAAAAAAAAAAAAAAAAAAAAAAAAAAAAAAAAAAAAAAAAAAAAAAAAAAAAAAAAAAAAAAAAAAAAAAAAAAAAAAAAAAAAAAAAAAAAAAAAAAAAAAAAAAAAAAAAAAAAAAAAAAAAAAAAAAAAAAAAAAAAAAAAAAAAAAAAAAAAAAAAAAAAAAAAAAAAAAAAAAAAAAAAAAAAAAAAAAAAAAAAAAAAAAAAAAAAAAAAAAAAAAAAAAAAAAAAAAAAAAAAAAAAAAAAAAAAAAAAAAAAAAAAAAAAAAAAAAAAAAAAAAAAAAAAAAAAAAAAAAAAAAAAAAAAAAAAAAAAAAAAAAAAAAAAAAAAAAAAAAAAAAAAAAAAAAAAAAAAAAAAAAAAAAAAAAAAAAAAAAAAAAAAAAAAAAAAAAAAAAAAAAAAAAAAAAAAAAAAAAAAAAAAAAAAAAAAAAAAAAAAAAAAAAAAAAAAAAAAAAAAAAAAAAAAAAAAAAAAAAAAAAAAAAAAAAAAAAAAAAAAAAAAAAAAAAAAAACwAAAAAQAgBAAAI/wANEJBQYMCBBQAKAFjI8ACAAQkoAJBwQAAAAAIWFAhwAEABCQEIBAAgAAGCAQQACDBQIMIAAgUCDBDQAACBBAQANHhQAAAACQEOCHgQoAGBAQIABACQAEAAAA4ABCDwgIADAAASAAgAAIAAAAAENAAQwMEAAA0eACAAIECABAYEADDQgMEBAhIcABggAACACAAABBDAIECAAgIABADAmLEDBwAKQFAwoQABBwAgDEAQIMABAAYABBgNoMGAAgMCAAjAeoCBAgQCBChgAMAAAQMASEBgQACAAwEMFDgQwEABAwIABACgAECBCQAABChQIMADAAIUAAiwAEAAAAAgEP8AYEBAgAEIHAAIACDAAAEGCiwI4ADCgAIKEgAIUAAAAIADAAAIQACAgQAGBgAIAIDAAgAAFDQAICDBAgAGCABAYIAAgAABBAwIACBAAAQAJBQIIKAAgAAxDRgYQGBAAAIFABQQAMAnAQMBAAwwUDTCggACBggAMADA0wgGAAAwUKCAAQAADAAAEEAAgAAFHgAYAEBAgQABGEAAEACAAAcGBAwQEABAAAEFHiwAEGAAAAcGABQIkADAgAADBgAIAGDAAQACECQA0AAAAAkCEAAYMOABAAgBCAQIACBAAAEADgwwsMAAgAADChAgAGGAgAATCjhIACECAAACBgQAUOD/gYAAABYQYL4AgAEA0QEEQACggIEEAgAAMAAAQAAEAAIEEOBAAAAAAQQEoIAAQAEAAgAEoDCgQAIAARAIoHAAAMAADAAIGAAgQIEAAAgIMBAgQQQABgAAiAAhAAACAABIaCAggAMFDCIEAPCgQQAAARYMAAAggoACEwAkCGCAggAGBAwYECABAoAEAAAgYBAgAIABACIsAECgAIEGBQAEoADgKoEAAAoMAABAAAABAAAYOAAgAIEGBRZMAEAAgAAAEwAIAEAAQAEAegE4CMDAQIIGAAIUACAAAIAAAwI0MCAgQQAEAAAEiACgwIAAAAQEABBAgIEAAQwIQBCAQoAA/wQIBGgNYIAAAwEUAABQwAAAAgAC8A5ggAAFABIAEBAQIAAAAw0UBFAQoIGBBgMABBBwAMADAgEABDAAAAABAAcAAAhQAEAACAYCQAAwoMCBAgIQAKgfgEGABQoEAHAQACCEABAEAAgQAECACQAEHBiAYMAEBgEcAAAQQAGAAAMKABAwAEAAAgUEBAiAAIKABwECGChQIEAAAAUSCCBAAQCABgIYSADQQEEAoQMAABAAQMECBQEAHDjgIIAAAw8QHHAAAEIAAQAMBAgAIEABBQAEABggAQABAwACFAgQoAEAAgUgBCCwAEBeBwQGSDgwIMCDAAQGLBAAwMAAAAECAP9AMEGAgggHACwYAABAgAQADDwQAACCgQIFBihoEEAAAAYEABQI8BpAAwcADiRQoABA7twSAChgAABBAQQDADyQAMDBAQABADAAkCCAgggEHkQAcD0AAgADAgQAMGBBAwASAAh4AEDCAAAPBgQIQAFAhAcSAjCgAAACAAAQHAAAAFBAAAYBCBw4QCHCgQUAAhQAQABAAgYMFAiIACDjgAcACiggAEAAgJEOACQQ4AAAAAYTFggQACDmAQkAADwQAADABAcOAPgUwEABBAACAFAAgPSBggEAHgCI4AAAAAIPKAAAMEEABQAACAQAAODBAwAQACQAQOEAAwATHBRwIGH/AoC5AgDYbQAAgIQJAPpOAEDhAAIEEQAQEAAgAAUABAYYKDAAwQEFBgAACJAAgIECBQAEMIDgwIEIAhBAEHAgQIQGEAwkECAhAAAFAAgUQAAAgAADABAkMGBAwAECBRQkaACAQAIDBAAsYMDAAIAAAQQIkADAAAEAAAQICABggYEJAAIAcACAwgEKAARMCJBAAIAJECIkEAAAwAEACBQgAAgAwAMAAQIICABBAAACDQAEAACAgIEAAQgAAPAgQAQACBIACCBgAoACAQgIYBBAwYEBBQgEOGAgQoEAAgYEAFDAAAEBAgAAIFBAgIEBAwwcGBBggIIEBgAESEAgAoAF/wsEBBAQAIAABAsABFgQAUAAAAEABDCQoAEBAAAIAGggAEABAAMKNABQAEEAAAMKACgAoEAABQgmFAiQ2MAABwIAACgAQEAAAAAYMAAgQAADCgYEABCgAMADCAAAQAhwQIIAAxEKCCAQIQCBBQIYBJgQIAKABQEiAFgAQACABAYGEAAAAAEBAREAREgA4AEEAAsAHHBQIAABAAIATAAQfkACAAYGLAAwgIGCAQAACGAAYEEBAAsQBBigAAAEAAEKAERQAIABAAAEAFCQgEAABQQKQBAwgcIBAwAABAAA4MEAAgoYAABAQAAAAQoABCAAAAACAQYAAEAgoMGDAQcWBP9AoADAAAYADgAYMACABAAAFkwYICGAgAMMADR4ACFBhAEAFABwAADAhAANBjBoAAAAAwAAKARYACAAgAAAChxYQKAAAAAQEADImzfAAAAAAkQIAGCCAwABACQIAIDAAwABBkxAkGCCBACWAQRgAABAggACCAQI8KBAAAADAAAgIIAAAAIKAgAQMMAAgwkEEhgIoADAggQAIlAAsKAAAAIPAARQUEBAAAMQHgwoAEBCgQENAAgQAGD7ggADCABAYADAAQYAKAQ4ACAAgAAADEgwUCAAAAgUKBggACABgAABADYAMABAAAAUKAAIACBBAQACHgAIQABAAQIEFAAoEAD/gAACAAAICADAQIAACAIEAHCAAACXBgAgCBDAwIAABgAQEIAgQAABAgooIFBAAAAGBwoYEAAggIQCAgQMMOAgQAABEwgQAABAAAGvAAQQICDggIAABAYMAIAAQFsAAwIACCCgAAQEAAwAABBgAIAAARwECABAQIABAQQIABAAAIAJDBoMQDAAgoEAAQY8ABAgAAAADgAEEAAgQoACDhZAGABgwAAABhYIAAAgAIACBAIIKGDgwIMJAgwEdyAgAAMABgQYaBAAgAAABwgwOLDggAEBASQcmNAAAAACAgIAaABAQAABBAoIICABwAAHDAAICOAAQIEBEiIAAEAAAgABLAADAEAQAAIBAQAeBGgQQMEBABApQCBAQcCAAAACCBiwAACAAAEAMAgAwEBAADs=\"><title>Layer: flatten (hidden)\\n Keras class = Flatten</title></image><text x=\"280.0\" y=\"274.5\" font-family=\"monospace\" font-size=\"12\" text-anchor=\"start\" alignment-baseline=\"central\">flatten</text><line x1=\"175.0\" y1=\"314\" x2=\"175.0\" y2=\"287\" stroke=\"black\" stroke-width=\"2\" marker-end=\"url(#arrow)\"><title>Weights from maxpool2 to flatten</title></line><rect x=\"74.0\" y=\"314\" width=\"202\" height=\"52\" style=\"fill:none;stroke:black;stroke-width:2\"/><image id=\"Auto-Encoding with Conv_maxpool2_10\" class=\"Auto-Encoding with Conv_maxpool2\" x=\"75.0\" y=\"315\" height=\"50\" width=\"200\" preserveAspectRatio=\"none\" href=\"data:image/gif;base64,R0lGODdhBAABAIcAAAAAdgAAj83N///9/QAAAAAAAAAAAAAAAAAAAAAAAAAAAAAAAAAAAAAAAAAAAAAAAAAAAAAAAAAAAAAAAAAAAAAAAAAAAAAAAAAAAAAAAAAAAAAAAAAAAAAAAAAAAAAAAAAAAAAAAAAAAAAAAAAAAAAAAAAAAAAAAAAAAAAAAAAAAAAAAAAAAAAAAAAAAAAAAAAAAAAAAAAAAAAAAAAAAAAAAAAAAAAAAAAAAAAAAAAAAAAAAAAAAAAAAAAAAAAAAAAAAAAAAAAAAAAAAAAAAAAAAAAAAAAAAAAAAAAAAAAAAAAAAAAAAAAAAAAAAAAAAAAAAAAAAAAAAAAAAAAAAAAAAAAAAAAAAAAAAAAAAAAAAAAAAAAAAAAAAAAAAAAAAAAAAAAAAAAAAAAAAAAAAAAAAAAAAAAAAAAAAAAAAAAAAAAAAAAAAAAAAAAAAAAAAAAAAAAAAAAAAAAAAAAAAAAAAAAAAAAAAAAAAAAAAAAAAAAAAAAAAAAAAAAAAAAAAAAAAAAAAAAAAAAAAAAAAAAAAAAAAAAAAAAAAAAAAAAAAAAAAAAAAAAAAAAAAAAAAAAAAAAAAAAAAAAAAAAAAAAAAAAAAAAAAAAAAAAAAAAAAAAAAAAAAAAAAAAAAAAAAAAAAAAAAAAAAAAAAAAAAAAAAAAAAAAAAAAAAAAAAAAAAAAAAAAAAAAAAAAAAAAAAAAAAAAAAAAAAAAAAAAAAAAAAAAAAAAAAAAAAAAAAAAAAAAAAAAAAAAAAAAAAAAAAAAAAAAAAAAAAAAAAAAAAAAAAAAAAAAAAAAAAAAAAAAAAAAAAAAAAAAAAAAAAAAAAAAAAAAAAAAAAAAAAAAAAAAAAAAAAAAAAAAAAAAAAAAAAAAAAAAAAAAAAAAAAAAAAAAAAAAAAAAAAAAAAAAAAAAAAAAAAAAAAAAAAAAAAAAAAAAAAAAAAAAAAAAAAAAAAAAAAAAAAAAAAAAAAAAAAAAAAAAAAAAAAAAAAAAAAAAAAAAAAAAAAAAAAAAAAAAAACwAAAAABAABAAAIBwABBBggICAAOw==\"><title>Layer: maxpool2 (hidden)\\n Keras class = MaxPooling2D</title></image><text x=\"280.0\" y=\"342.0\" font-family=\"monospace\" font-size=\"12\" text-anchor=\"start\" alignment-baseline=\"central\">maxpool2</text><text x=\"280.0\" y=\"320\" font-family=\"monospace\" font-size=\"12\" text-anchor=\"start\" alignment-baseline=\"central\">132</text><text x=\"63.0\" y=\"360\" font-family=\"monospace\" font-size=\"12\" text-anchor=\"start\" alignment-baseline=\"central\">0</text><line x1=\"175.0\" y1=\"394\" x2=\"175.0\" y2=\"367\" stroke=\"black\" stroke-width=\"2\" marker-end=\"url(#arrow)\"><title>Weights from Conv2D-2 to maxpool2</title></line><rect x=\"74.0\" y=\"394\" width=\"202\" height=\"27\" style=\"fill:none;stroke:black;stroke-width:2\"/><image id=\"Auto-Encoding with Conv_Conv2D-2_11\" class=\"Auto-Encoding with Conv_Conv2D-2\" x=\"75.0\" y=\"395\" height=\"25\" width=\"200\" preserveAspectRatio=\"none\" href=\"data:image/gif;base64,R0lGODdhCAABAIcAAPz7/QAA0AgI/9HR/wAAAAAAAAAAAAAAAAAAAAAAAAAAAAAAAAAAAAAAAAAAAAAAAAAAAAAAAAAAAAAAAAAAAAAAAAAAAAAAAAAAAAAAAAAAAAAAAAAAAAAAAAAAAAAAAAAAAAAAAAAAAAAAAAAAAAAAAAAAAAAAAAAAAAAAAAAAAAAAAAAAAAAAAAAAAAAAAAAAAAAAAAAAAAAAAAAAAAAAAAAAAAAAAAAAAAAAAAAAAAAAAAAAAAAAAAAAAAAAAAAAAAAAAAAAAAAAAAAAAAAAAAAAAAAAAAAAAAAAAAAAAAAAAAAAAAAAAAAAAAAAAAAAAAAAAAAAAAAAAAAAAAAAAAAAAAAAAAAAAAAAAAAAAAAAAAAAAAAAAAAAAAAAAAAAAAAAAAAAAAAAAAAAAAAAAAAAAAAAAAAAAAAAAAAAAAAAAAAAAAAAAAAAAAAAAAAAAAAAAAAAAAAAAAAAAAAAAAAAAAAAAAAAAAAAAAAAAAAAAAAAAAAAAAAAAAAAAAAAAAAAAAAAAAAAAAAAAAAAAAAAAAAAAAAAAAAAAAAAAAAAAAAAAAAAAAAAAAAAAAAAAAAAAAAAAAAAAAAAAAAAAAAAAAAAAAAAAAAAAAAAAAAAAAAAAAAAAAAAAAAAAAAAAAAAAAAAAAAAAAAAAAAAAAAAAAAAAAAAAAAAAAAAAAAAAAAAAAAAAAAAAAAAAAAAAAAAAAAAAAAAAAAAAAAAAAAAAAAAAAAAAAAAAAAAAAAAAAAAAAAAAAAAAAAAAAAAAAAAAAAAAAAAAAAAAAAAAAAAAAAAAAAAAAAAAAAAAAAAAAAAAAAAAAAAAAAAAAAAAAAAAAAAAAAAAAAAAAAAAAAAAAAAAAAAAAAAAAAAAAAAAAAAAAAAAAAAAAAAAAAAAAAAAAAAAAAAAAAAAAAAAAAAAAAAAAAAAAAAAAAAAAAAAAAAAAAAAAAAAAAAAAAAAAAAAAAAAAAAAAAAAAAAAAAAAAAAAAAAAAAAAAAAAAAAAAAAAAAAAAAAAAAAACwAAAAACAABAAAICwABBBAAoCCAAQEBADs=\"><title>Layer: Conv2D-2 (hidden)\\n Keras class = Conv2D\\n activation = relu</title></image><text x=\"280.0\" y=\"409.5\" font-family=\"monospace\" font-size=\"12\" text-anchor=\"start\" alignment-baseline=\"central\">Conv2D-2</text><text x=\"280.0\" y=\"400\" font-family=\"monospace\" font-size=\"12\" text-anchor=\"start\" alignment-baseline=\"central\">132</text><text x=\"63.0\" y=\"415\" font-family=\"monospace\" font-size=\"12\" text-anchor=\"start\" alignment-baseline=\"central\">0</text><line x1=\"175.0\" y1=\"449\" x2=\"175.0\" y2=\"422\" stroke=\"black\" stroke-width=\"2\" marker-end=\"url(#arrow)\"><title>Weights from maxpool1 to Conv2D-2\\n Conv2D-2/kernel has shape (5, 5, 16, 132)\\n Conv2D-2/bias has shape (132,)</title></line><rect x=\"74.0\" y=\"449\" width=\"202\" height=\"27\" style=\"fill:none;stroke:black;stroke-width:2\"/><image id=\"Auto-Encoding with Conv_maxpool1_12\" class=\"Auto-Encoding with Conv_maxpool1\" x=\"75.0\" y=\"450\" height=\"25\" width=\"200\" preserveAspectRatio=\"none\" href=\"data:image/gif;base64,R0lGODdhDAABAIcAAP/9/Z2d/wAAAAAAAAAAAAAAAAAAAAAAAAAAAAAAAAAAAAAAAAAAAAAAAAAAAAAAAAAAAAAAAAAAAAAAAAAAAAAAAAAAAAAAAAAAAAAAAAAAAAAAAAAAAAAAAAAAAAAAAAAAAAAAAAAAAAAAAAAAAAAAAAAAAAAAAAAAAAAAAAAAAAAAAAAAAAAAAAAAAAAAAAAAAAAAAAAAAAAAAAAAAAAAAAAAAAAAAAAAAAAAAAAAAAAAAAAAAAAAAAAAAAAAAAAAAAAAAAAAAAAAAAAAAAAAAAAAAAAAAAAAAAAAAAAAAAAAAAAAAAAAAAAAAAAAAAAAAAAAAAAAAAAAAAAAAAAAAAAAAAAAAAAAAAAAAAAAAAAAAAAAAAAAAAAAAAAAAAAAAAAAAAAAAAAAAAAAAAAAAAAAAAAAAAAAAAAAAAAAAAAAAAAAAAAAAAAAAAAAAAAAAAAAAAAAAAAAAAAAAAAAAAAAAAAAAAAAAAAAAAAAAAAAAAAAAAAAAAAAAAAAAAAAAAAAAAAAAAAAAAAAAAAAAAAAAAAAAAAAAAAAAAAAAAAAAAAAAAAAAAAAAAAAAAAAAAAAAAAAAAAAAAAAAAAAAAAAAAAAAAAAAAAAAAAAAAAAAAAAAAAAAAAAAAAAAAAAAAAAAAAAAAAAAAAAAAAAAAAAAAAAAAAAAAAAAAAAAAAAAAAAAAAAAAAAAAAAAAAAAAAAAAAAAAAAAAAAAAAAAAAAAAAAAAAAAAAAAAAAAAAAAAAAAAAAAAAAAAAAAAAAAAAAAAAAAAAAAAAAAAAAAAAAAAAAAAAAAAAAAAAAAAAAAAAAAAAAAAAAAAAAAAAAAAAAAAAAAAAAAAAAAAAAAAAAAAAAAAAAAAAAAAAAAAAAAAAAAAAAAAAAAAAAAAAAAAAAAAAAAAAAAAAAAAAAAAAAAAAAAAAAAAAAAAAAAAAAAAAAAAAAAAAAAAAAAAAAAAAAAAAAAAAAAAAAAAAAAAAAAAAAAAAAAAAAAAAAAAAAAAAAAAAAAAAAAAAAACwAAAAADAABAAAICQABCBxIEECAgAA7\"><title>Layer: maxpool1 (hidden)\\n Keras class = MaxPooling2D</title></image><text x=\"280.0\" y=\"464.5\" font-family=\"monospace\" font-size=\"12\" text-anchor=\"start\" alignment-baseline=\"central\">maxpool1</text><text x=\"280.0\" y=\"455\" font-family=\"monospace\" font-size=\"12\" text-anchor=\"start\" alignment-baseline=\"central\">16</text><text x=\"63.0\" y=\"470\" font-family=\"monospace\" font-size=\"12\" text-anchor=\"start\" alignment-baseline=\"central\">0</text><line x1=\"175.0\" y1=\"504\" x2=\"175.0\" y2=\"477\" stroke=\"black\" stroke-width=\"2\" marker-end=\"url(#arrow)\"><title>Weights from Conv2D-1 to maxpool1</title></line><rect x=\"74.0\" y=\"504\" width=\"202\" height=\"27\" style=\"fill:none;stroke:black;stroke-width:2\"/><image id=\"Auto-Encoding with Conv_Conv2D-1_13\" class=\"Auto-Encoding with Conv_Conv2D-1\" x=\"75.0\" y=\"505\" height=\"25\" width=\"200\" preserveAspectRatio=\"none\" href=\"data:image/gif;base64,R0lGODdhGAABAIcAAP/9/d3d/+Xl/wAAAAAAAAAAAAAAAAAAAAAAAAAAAAAAAAAAAAAAAAAAAAAAAAAAAAAAAAAAAAAAAAAAAAAAAAAAAAAAAAAAAAAAAAAAAAAAAAAAAAAAAAAAAAAAAAAAAAAAAAAAAAAAAAAAAAAAAAAAAAAAAAAAAAAAAAAAAAAAAAAAAAAAAAAAAAAAAAAAAAAAAAAAAAAAAAAAAAAAAAAAAAAAAAAAAAAAAAAAAAAAAAAAAAAAAAAAAAAAAAAAAAAAAAAAAAAAAAAAAAAAAAAAAAAAAAAAAAAAAAAAAAAAAAAAAAAAAAAAAAAAAAAAAAAAAAAAAAAAAAAAAAAAAAAAAAAAAAAAAAAAAAAAAAAAAAAAAAAAAAAAAAAAAAAAAAAAAAAAAAAAAAAAAAAAAAAAAAAAAAAAAAAAAAAAAAAAAAAAAAAAAAAAAAAAAAAAAAAAAAAAAAAAAAAAAAAAAAAAAAAAAAAAAAAAAAAAAAAAAAAAAAAAAAAAAAAAAAAAAAAAAAAAAAAAAAAAAAAAAAAAAAAAAAAAAAAAAAAAAAAAAAAAAAAAAAAAAAAAAAAAAAAAAAAAAAAAAAAAAAAAAAAAAAAAAAAAAAAAAAAAAAAAAAAAAAAAAAAAAAAAAAAAAAAAAAAAAAAAAAAAAAAAAAAAAAAAAAAAAAAAAAAAAAAAAAAAAAAAAAAAAAAAAAAAAAAAAAAAAAAAAAAAAAAAAAAAAAAAAAAAAAAAAAAAAAAAAAAAAAAAAAAAAAAAAAAAAAAAAAAAAAAAAAAAAAAAAAAAAAAAAAAAAAAAAAAAAAAAAAAAAAAAAAAAAAAAAAAAAAAAAAAAAAAAAAAAAAAAAAAAAAAAAAAAAAAAAAAAAAAAAAAAAAAAAAAAAAAAAAAAAAAAAAAAAAAAAAAAAAAAAAAAAAAAAAAAAAAAAAAAAAAAAAAAAAAAAAAAAAAAAAAAAAAAAAAAAAAAAAAAAAAAAAAAAAAAAAAAAAAAAAAAAAAAAAAAAAAAAAAAAAAAAAAAACwAAAAAGAABAAAIDQABCBxIsKBBAAEEBAQAOw==\"><title>Layer: Conv2D-1 (hidden)\\n Keras class = Conv2D\\n activation = relu</title></image><text x=\"280.0\" y=\"519.5\" font-family=\"monospace\" font-size=\"12\" text-anchor=\"start\" alignment-baseline=\"central\">Conv2D-1</text><text x=\"280.0\" y=\"510\" font-family=\"monospace\" font-size=\"12\" text-anchor=\"start\" alignment-baseline=\"central\">16</text><text x=\"63.0\" y=\"525\" font-family=\"monospace\" font-size=\"12\" text-anchor=\"start\" alignment-baseline=\"central\">0</text><line x1=\"175.0\" y1=\"559\" x2=\"175.0\" y2=\"532\" stroke=\"black\" stroke-width=\"2\" marker-end=\"url(#arrow)\"><title>Weights from input to Conv2D-1\\n Conv2D-1/kernel has shape (5, 5, 1, 16)\\n Conv2D-1/bias has shape (16,)</title></line><rect x=\"74.0\" y=\"559\" width=\"202\" height=\"202\" style=\"fill:none;stroke:black;stroke-width:2\"/><image id=\"Auto-Encoding with Conv_input_14\" class=\"Auto-Encoding with Conv_input\" x=\"75.0\" y=\"560\" height=\"200\" width=\"200\" preserveAspectRatio=\"none\" href=\"data:image/gif;base64,R0lGODdhHAAcAIcAAAoAAP//9jAAAP/8DP//z00AANcAAPMAAG4AAI0AAP+aAP9nAP/MAP//jbMAAP9yAP/pAP//T///c/8lAP9XAP+qAP//Mv82AP9EAP+/AP/WAP//vAAAAAAAAAAAAAAAAAAAAAAAAAAAAAAAAAAAAAAAAAAAAAAAAAAAAAAAAAAAAAAAAAAAAAAAAAAAAAAAAAAAAAAAAAAAAAAAAAAAAAAAAAAAAAAAAAAAAAAAAAAAAAAAAAAAAAAAAAAAAAAAAAAAAAAAAAAAAAAAAAAAAAAAAAAAAAAAAAAAAAAAAAAAAAAAAAAAAAAAAAAAAAAAAAAAAAAAAAAAAAAAAAAAAAAAAAAAAAAAAAAAAAAAAAAAAAAAAAAAAAAAAAAAAAAAAAAAAAAAAAAAAAAAAAAAAAAAAAAAAAAAAAAAAAAAAAAAAAAAAAAAAAAAAAAAAAAAAAAAAAAAAAAAAAAAAAAAAAAAAAAAAAAAAAAAAAAAAAAAAAAAAAAAAAAAAAAAAAAAAAAAAAAAAAAAAAAAAAAAAAAAAAAAAAAAAAAAAAAAAAAAAAAAAAAAAAAAAAAAAAAAAAAAAAAAAAAAAAAAAAAAAAAAAAAAAAAAAAAAAAAAAAAAAAAAAAAAAAAAAAAAAAAAAAAAAAAAAAAAAAAAAAAAAAAAAAAAAAAAAAAAAAAAAAAAAAAAAAAAAAAAAAAAAAAAAAAAAAAAAAAAAAAAAAAAAAAAAAAAAAAAAAAAAAAAAAAAAAAAAAAAAAAAAAAAAAAAAAAAAAAAAAAAAAAAAAAAAAAAAAAAAAAAAAAAAAAAAAAAAAAAAAAAAAAAAAAAAAAAAAAAAAAAAAAAAAAAAAAAAAAAAAAAAAAAAAAAAAAAAAAAAAAAAAAAAAAAAAAAAAAAAAAAAAAAAAAAAAAAAAAAAAAAAAAAAAAAAAAAAAAAAAAAAAAAAAAAAAAAAAAAAAAAAAAAAAAAAAAAAAAAAAAAAAAAAAAAAAAAAAAAAAAAAAAAAAAAAAAAAAAAAAAAAAAAACwAAAAAHAAcAEAI/wABCBxIsKDBgwcFSAjAkOEACAQIAJhIsaLFixUFHAgQYACAjyBDfnwQoGSEBQsEAFjJsqXLlzBjypwpYEAAAwBy6tzJs2fOAhckBBgawIIBAEiTKl3KtKnTpwUQHFDAIIBVqw0YBCAwwAGAr2DDghUAQEGAAwDSql3Ltm1bAwQCBMBQAIDdu3jz6rWbYAGEAAEiABhMuHBhAQwkBFgcYIABAQAiS55MubLly5gza97MufNkAaApPNBQIEMAAhQAqF7NGkCCDQFiy5Z9oHYCBABy696t20CFCQECWBAAAIECAMiTK1/O/EGAAQCiS59OvTp1BAQaVJgAoLv37+DDf1FPMCBAAAUFAKhfz769e/YB4jsAQL++/fv2EShoEKB/AIAQAAwkWNAggAIOIgRgGGCAAQARJU6kmIBBgwAZAxBYIADAR5AhRY4kWdLkSZQhAwIAOw==\"><title>Layer: input (input)\\n shape = (28, 28, 1)\\n Keras class = Input</title></image><text x=\"280.0\" y=\"662.0\" font-family=\"monospace\" font-size=\"12\" text-anchor=\"start\" alignment-baseline=\"central\">input</text><text x=\"280.0\" y=\"565\" font-family=\"monospace\" font-size=\"12\" text-anchor=\"start\" alignment-baseline=\"central\">1</text><text x=\"63.0\" y=\"755\" font-family=\"monospace\" font-size=\"12\" text-anchor=\"start\" alignment-baseline=\"central\">0</text></svg></p>', layout=Layout(justify_content='center', overflow_x='auto', overflow_y='auto', width='95%'))), layout=Layout(width='95%')), VBox(children=(Accordion(children=(VBox(children=(HTML(value='<p><h3>Network display:</h3></p>'), FloatSlider(value=1.0, continuous_update=False, description='Zoom', max=3.0, min=0.5), IntText(value=150, description='Horizontal space between banks:', style=DescriptionStyle(description_width='initial')), IntText(value=30, description='Vertical space between layers:', style=DescriptionStyle(description_width='initial')), Checkbox(value=False, description='Show Targets'), Checkbox(value=False, description='Show Errors'), IntText(value=3, description='Feature columns:', style=DescriptionStyle(description_width='initial')), FloatText(value=2.0, description='Feature scale:', style=DescriptionStyle(description_width='initial')))), VBox(children=(HTML(value='<p><hr/><h3>output bank:</h3></p>'), Checkbox(value=True, description='Visible'), HBox(children=(Select(description='Colormap:', options=('', 'Accent', 'Accent_r', 'Blues', 'Blues_r', 'BrBG', 'BrBG_r', 'BuGn', 'BuGn_r', 'BuPu', 'BuPu_r', 'CMRmap', 'CMRmap_r', 'Dark2', 'Dark2_r', 'GnBu', 'GnBu_r', 'Greens', 'Greens_r', 'Greys', 'Greys_r', 'OrRd', 'OrRd_r', 'Oranges', 'Oranges_r', 'PRGn', 'PRGn_r', 'Paired', 'Paired_r', 'Pastel1', 'Pastel1_r', 'Pastel2', 'Pastel2_r', 'PiYG', 'PiYG_r', 'PuBu', 'PuBuGn', 'PuBuGn_r', 'PuBu_r', 'PuOr', 'PuOr_r', 'PuRd', 'PuRd_r', 'Purples', 'Purples_r', 'RdBu', 'RdBu_r', 'RdGy', 'RdGy_r', 'RdPu', 'RdPu_r', 'RdYlBu', 'RdYlBu_r', 'RdYlGn', 'RdYlGn_r', 'Reds', 'Reds_r', 'Set1', 'Set1_r', 'Set2', 'Set2_r', 'Set3', 'Set3_r', 'Spectral', 'Spectral_r', 'Vega10', 'Vega10_r', 'Vega20', 'Vega20_r', 'Vega20b', 'Vega20b_r', 'Vega20c', 'Vega20c_r', 'Wistia', 'Wistia_r', 'YlGn', 'YlGnBu', 'YlGnBu_r', 'YlGn_r', 'YlOrBr', 'YlOrBr_r', 'YlOrRd', 'YlOrRd_r', 'afmhot', 'afmhot_r', 'autumn', 'autumn_r', 'binary', 'binary_r', 'bone', 'bone_r', 'brg', 'brg_r', 'bwr', 'bwr_r', 'cool', 'cool_r', 'coolwarm', 'coolwarm_r', 'copper', 'copper_r', 'cubehelix', 'cubehelix_r', 'flag', 'flag_r', 'gist_earth', 'gist_earth_r', 'gist_gray', 'gist_gray_r', 'gist_heat', 'gist_heat_r', 'gist_ncar', 'gist_ncar_r', 'gist_rainbow', 'gist_rainbow_r', 'gist_stern', 'gist_stern_r', 'gist_yarg', 'gist_yarg_r', 'gnuplot', 'gnuplot2', 'gnuplot2_r', 'gnuplot_r', 'gray', 'gray_r', 'hot', 'hot_r', 'hsv', 'hsv_r', 'inferno', 'inferno_r', 'jet', 'jet_r', 'magma', 'magma_r', 'nipy_spectral', 'nipy_spectral_r', 'ocean', 'ocean_r', 'pink', 'pink_r', 'plasma', 'plasma_r', 'prism', 'prism_r', 'rainbow', 'rainbow_r', 'seismic', 'seismic_r', 'spectral', 'spectral_r', 'spring', 'spring_r', 'summer', 'summer_r', 'tab10', 'tab10_r', 'tab20', 'tab20_r', 'tab20b', 'tab20b_r', 'tab20c', 'tab20c_r', 'terrain', 'terrain_r', 'viridis', 'viridis_r', 'winter', 'winter_r'), rows=1, value=''), HTML(value='<img src=\"data:image/gif;base64,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\"/>'))), HBox(children=(IntText(value=-1, description='Leftmost color maps to:', style=DescriptionStyle(description_width='initial')), IntText(value=1, description='Rightmost color maps to:', style=DescriptionStyle(description_width='initial')))))), VBox(children=(HTML(value='<p><hr/><h3>flatten bank:</h3></p>'), Checkbox(value=True, description='Visible'), HBox(children=(Select(description='Colormap:', options=('', 'Accent', 'Accent_r', 'Blues', 'Blues_r', 'BrBG', 'BrBG_r', 'BuGn', 'BuGn_r', 'BuPu', 'BuPu_r', 'CMRmap', 'CMRmap_r', 'Dark2', 'Dark2_r', 'GnBu', 'GnBu_r', 'Greens', 'Greens_r', 'Greys', 'Greys_r', 'OrRd', 'OrRd_r', 'Oranges', 'Oranges_r', 'PRGn', 'PRGn_r', 'Paired', 'Paired_r', 'Pastel1', 'Pastel1_r', 'Pastel2', 'Pastel2_r', 'PiYG', 'PiYG_r', 'PuBu', 'PuBuGn', 'PuBuGn_r', 'PuBu_r', 'PuOr', 'PuOr_r', 'PuRd', 'PuRd_r', 'Purples', 'Purples_r', 'RdBu', 'RdBu_r', 'RdGy', 'RdGy_r', 'RdPu', 'RdPu_r', 'RdYlBu', 'RdYlBu_r', 'RdYlGn', 'RdYlGn_r', 'Reds', 'Reds_r', 'Set1', 'Set1_r', 'Set2', 'Set2_r', 'Set3', 'Set3_r', 'Spectral', 'Spectral_r', 'Vega10', 'Vega10_r', 'Vega20', 'Vega20_r', 'Vega20b', 'Vega20b_r', 'Vega20c', 'Vega20c_r', 'Wistia', 'Wistia_r', 'YlGn', 'YlGnBu', 'YlGnBu_r', 'YlGn_r', 'YlOrBr', 'YlOrBr_r', 'YlOrRd', 'YlOrRd_r', 'afmhot', 'afmhot_r', 'autumn', 'autumn_r', 'binary', 'binary_r', 'bone', 'bone_r', 'brg', 'brg_r', 'bwr', 'bwr_r', 'cool', 'cool_r', 'coolwarm', 'coolwarm_r', 'copper', 'copper_r', 'cubehelix', 'cubehelix_r', 'flag', 'flag_r', 'gist_earth', 'gist_earth_r', 'gist_gray', 'gist_gray_r', 'gist_heat', 'gist_heat_r', 'gist_ncar', 'gist_ncar_r', 'gist_rainbow', 'gist_rainbow_r', 'gist_stern', 'gist_stern_r', 'gist_yarg', 'gist_yarg_r', 'gnuplot', 'gnuplot2', 'gnuplot2_r', 'gnuplot_r', 'gray', 'gray_r', 'hot', 'hot_r', 'hsv', 'hsv_r', 'inferno', 'inferno_r', 'jet', 'jet_r', 'magma', 'magma_r', 'nipy_spectral', 'nipy_spectral_r', 'ocean', 'ocean_r', 'pink', 'pink_r', 'plasma', 'plasma_r', 'prism', 'prism_r', 'rainbow', 'rainbow_r', 'seismic', 'seismic_r', 'spectral', 'spectral_r', 'spring', 'spring_r', 'summer', 'summer_r', 'tab10', 'tab10_r', 'tab20', 'tab20_r', 'tab20b', 'tab20b_r', 'tab20c', 'tab20c_r', 'terrain', 'terrain_r', 'viridis', 'viridis_r', 'winter', 'winter_r'), rows=1, value=''), HTML(value='<img src=\"data:image/gif;base64,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\"/>'))), HBox(children=(IntText(value=-1, description='Leftmost color maps to:', style=DescriptionStyle(description_width='initial')), IntText(value=1, description='Rightmost color maps to:', style=DescriptionStyle(description_width='initial')))))), VBox(children=(HTML(value='<p><hr/><h3>maxpool2 bank:</h3></p>'), Checkbox(value=True, description='Visible'), HBox(children=(Select(description='Colormap:', options=('', 'Accent', 'Accent_r', 'Blues', 'Blues_r', 'BrBG', 'BrBG_r', 'BuGn', 'BuGn_r', 'BuPu', 'BuPu_r', 'CMRmap', 'CMRmap_r', 'Dark2', 'Dark2_r', 'GnBu', 'GnBu_r', 'Greens', 'Greens_r', 'Greys', 'Greys_r', 'OrRd', 'OrRd_r', 'Oranges', 'Oranges_r', 'PRGn', 'PRGn_r', 'Paired', 'Paired_r', 'Pastel1', 'Pastel1_r', 'Pastel2', 'Pastel2_r', 'PiYG', 'PiYG_r', 'PuBu', 'PuBuGn', 'PuBuGn_r', 'PuBu_r', 'PuOr', 'PuOr_r', 'PuRd', 'PuRd_r', 'Purples', 'Purples_r', 'RdBu', 'RdBu_r', 'RdGy', 'RdGy_r', 'RdPu', 'RdPu_r', 'RdYlBu', 'RdYlBu_r', 'RdYlGn', 'RdYlGn_r', 'Reds', 'Reds_r', 'Set1', 'Set1_r', 'Set2', 'Set2_r', 'Set3', 'Set3_r', 'Spectral', 'Spectral_r', 'Vega10', 'Vega10_r', 'Vega20', 'Vega20_r', 'Vega20b', 'Vega20b_r', 'Vega20c', 'Vega20c_r', 'Wistia', 'Wistia_r', 'YlGn', 'YlGnBu', 'YlGnBu_r', 'YlGn_r', 'YlOrBr', 'YlOrBr_r', 'YlOrRd', 'YlOrRd_r', 'afmhot', 'afmhot_r', 'autumn', 'autumn_r', 'binary', 'binary_r', 'bone', 'bone_r', 'brg', 'brg_r', 'bwr', 'bwr_r', 'cool', 'cool_r', 'coolwarm', 'coolwarm_r', 'copper', 'copper_r', 'cubehelix', 'cubehelix_r', 'flag', 'flag_r', 'gist_earth', 'gist_earth_r', 'gist_gray', 'gist_gray_r', 'gist_heat', 'gist_heat_r', 'gist_ncar', 'gist_ncar_r', 'gist_rainbow', 'gist_rainbow_r', 'gist_stern', 'gist_stern_r', 'gist_yarg', 'gist_yarg_r', 'gnuplot', 'gnuplot2', 'gnuplot2_r', 'gnuplot_r', 'gray', 'gray_r', 'hot', 'hot_r', 'hsv', 'hsv_r', 'inferno', 'inferno_r', 'jet', 'jet_r', 'magma', 'magma_r', 'nipy_spectral', 'nipy_spectral_r', 'ocean', 'ocean_r', 'pink', 'pink_r', 'plasma', 'plasma_r', 'prism', 'prism_r', 'rainbow', 'rainbow_r', 'seismic', 'seismic_r', 'spectral', 'spectral_r', 'spring', 'spring_r', 'summer', 'summer_r', 'tab10', 'tab10_r', 'tab20', 'tab20_r', 'tab20b', 'tab20b_r', 'tab20c', 'tab20c_r', 'terrain', 'terrain_r', 'viridis', 'viridis_r', 'winter', 'winter_r'), rows=1, value=''), HTML(value='<img src=\"data:image/gif;base64,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\"/>'))), HBox(children=(IntText(value=-1, description='Leftmost color maps to:', style=DescriptionStyle(description_width='initial')), IntText(value=1, description='Rightmost color maps to:', style=DescriptionStyle(description_width='initial')))), IntText(value=0, description='Feature to show:', style=DescriptionStyle(description_width='initial')))), VBox(children=(HTML(value='<p><hr/><h3>Conv2D-2 bank:</h3></p>'), Checkbox(value=True, description='Visible'), HBox(children=(Select(description='Colormap:', options=('', 'Accent', 'Accent_r', 'Blues', 'Blues_r', 'BrBG', 'BrBG_r', 'BuGn', 'BuGn_r', 'BuPu', 'BuPu_r', 'CMRmap', 'CMRmap_r', 'Dark2', 'Dark2_r', 'GnBu', 'GnBu_r', 'Greens', 'Greens_r', 'Greys', 'Greys_r', 'OrRd', 'OrRd_r', 'Oranges', 'Oranges_r', 'PRGn', 'PRGn_r', 'Paired', 'Paired_r', 'Pastel1', 'Pastel1_r', 'Pastel2', 'Pastel2_r', 'PiYG', 'PiYG_r', 'PuBu', 'PuBuGn', 'PuBuGn_r', 'PuBu_r', 'PuOr', 'PuOr_r', 'PuRd', 'PuRd_r', 'Purples', 'Purples_r', 'RdBu', 'RdBu_r', 'RdGy', 'RdGy_r', 'RdPu', 'RdPu_r', 'RdYlBu', 'RdYlBu_r', 'RdYlGn', 'RdYlGn_r', 'Reds', 'Reds_r', 'Set1', 'Set1_r', 'Set2', 'Set2_r', 'Set3', 'Set3_r', 'Spectral', 'Spectral_r', 'Vega10', 'Vega10_r', 'Vega20', 'Vega20_r', 'Vega20b', 'Vega20b_r', 'Vega20c', 'Vega20c_r', 'Wistia', 'Wistia_r', 'YlGn', 'YlGnBu', 'YlGnBu_r', 'YlGn_r', 'YlOrBr', 'YlOrBr_r', 'YlOrRd', 'YlOrRd_r', 'afmhot', 'afmhot_r', 'autumn', 'autumn_r', 'binary', 'binary_r', 'bone', 'bone_r', 'brg', 'brg_r', 'bwr', 'bwr_r', 'cool', 'cool_r', 'coolwarm', 'coolwarm_r', 'copper', 'copper_r', 'cubehelix', 'cubehelix_r', 'flag', 'flag_r', 'gist_earth', 'gist_earth_r', 'gist_gray', 'gist_gray_r', 'gist_heat', 'gist_heat_r', 'gist_ncar', 'gist_ncar_r', 'gist_rainbow', 'gist_rainbow_r', 'gist_stern', 'gist_stern_r', 'gist_yarg', 'gist_yarg_r', 'gnuplot', 'gnuplot2', 'gnuplot2_r', 'gnuplot_r', 'gray', 'gray_r', 'hot', 'hot_r', 'hsv', 'hsv_r', 'inferno', 'inferno_r', 'jet', 'jet_r', 'magma', 'magma_r', 'nipy_spectral', 'nipy_spectral_r', 'ocean', 'ocean_r', 'pink', 'pink_r', 'plasma', 'plasma_r', 'prism', 'prism_r', 'rainbow', 'rainbow_r', 'seismic', 'seismic_r', 'spectral', 'spectral_r', 'spring', 'spring_r', 'summer', 'summer_r', 'tab10', 'tab10_r', 'tab20', 'tab20_r', 'tab20b', 'tab20b_r', 'tab20c', 'tab20c_r', 'terrain', 'terrain_r', 'viridis', 'viridis_r', 'winter', 'winter_r'), rows=1, value=''), HTML(value='<img src=\"data:image/gif;base64,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\"/>'))), HBox(children=(IntText(value=-1, description='Leftmost color maps to:', style=DescriptionStyle(description_width='initial')), IntText(value=1, description='Rightmost color maps to:', style=DescriptionStyle(description_width='initial')))), IntText(value=0, description='Feature to show:', style=DescriptionStyle(description_width='initial')))), VBox(children=(HTML(value='<p><hr/><h3>maxpool1 bank:</h3></p>'), Checkbox(value=True, description='Visible'), HBox(children=(Select(description='Colormap:', options=('', 'Accent', 'Accent_r', 'Blues', 'Blues_r', 'BrBG', 'BrBG_r', 'BuGn', 'BuGn_r', 'BuPu', 'BuPu_r', 'CMRmap', 'CMRmap_r', 'Dark2', 'Dark2_r', 'GnBu', 'GnBu_r', 'Greens', 'Greens_r', 'Greys', 'Greys_r', 'OrRd', 'OrRd_r', 'Oranges', 'Oranges_r', 'PRGn', 'PRGn_r', 'Paired', 'Paired_r', 'Pastel1', 'Pastel1_r', 'Pastel2', 'Pastel2_r', 'PiYG', 'PiYG_r', 'PuBu', 'PuBuGn', 'PuBuGn_r', 'PuBu_r', 'PuOr', 'PuOr_r', 'PuRd', 'PuRd_r', 'Purples', 'Purples_r', 'RdBu', 'RdBu_r', 'RdGy', 'RdGy_r', 'RdPu', 'RdPu_r', 'RdYlBu', 'RdYlBu_r', 'RdYlGn', 'RdYlGn_r', 'Reds', 'Reds_r', 'Set1', 'Set1_r', 'Set2', 'Set2_r', 'Set3', 'Set3_r', 'Spectral', 'Spectral_r', 'Vega10', 'Vega10_r', 'Vega20', 'Vega20_r', 'Vega20b', 'Vega20b_r', 'Vega20c', 'Vega20c_r', 'Wistia', 'Wistia_r', 'YlGn', 'YlGnBu', 'YlGnBu_r', 'YlGn_r', 'YlOrBr', 'YlOrBr_r', 'YlOrRd', 'YlOrRd_r', 'afmhot', 'afmhot_r', 'autumn', 'autumn_r', 'binary', 'binary_r', 'bone', 'bone_r', 'brg', 'brg_r', 'bwr', 'bwr_r', 'cool', 'cool_r', 'coolwarm', 'coolwarm_r', 'copper', 'copper_r', 'cubehelix', 'cubehelix_r', 'flag', 'flag_r', 'gist_earth', 'gist_earth_r', 'gist_gray', 'gist_gray_r', 'gist_heat', 'gist_heat_r', 'gist_ncar', 'gist_ncar_r', 'gist_rainbow', 'gist_rainbow_r', 'gist_stern', 'gist_stern_r', 'gist_yarg', 'gist_yarg_r', 'gnuplot', 'gnuplot2', 'gnuplot2_r', 'gnuplot_r', 'gray', 'gray_r', 'hot', 'hot_r', 'hsv', 'hsv_r', 'inferno', 'inferno_r', 'jet', 'jet_r', 'magma', 'magma_r', 'nipy_spectral', 'nipy_spectral_r', 'ocean', 'ocean_r', 'pink', 'pink_r', 'plasma', 'plasma_r', 'prism', 'prism_r', 'rainbow', 'rainbow_r', 'seismic', 'seismic_r', 'spectral', 'spectral_r', 'spring', 'spring_r', 'summer', 'summer_r', 'tab10', 'tab10_r', 'tab20', 'tab20_r', 'tab20b', 'tab20b_r', 'tab20c', 'tab20c_r', 'terrain', 'terrain_r', 'viridis', 'viridis_r', 'winter', 'winter_r'), rows=1, value=''), HTML(value='<img src=\"data:image/gif;base64,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\"/>'))), HBox(children=(IntText(value=-1, description='Leftmost color maps to:', style=DescriptionStyle(description_width='initial')), IntText(value=1, description='Rightmost color maps to:', style=DescriptionStyle(description_width='initial')))), IntText(value=0, description='Feature to show:', style=DescriptionStyle(description_width='initial')))), VBox(children=(HTML(value='<p><hr/><h3>Conv2D-1 bank:</h3></p>'), Checkbox(value=True, description='Visible'), HBox(children=(Select(description='Colormap:', options=('', 'Accent', 'Accent_r', 'Blues', 'Blues_r', 'BrBG', 'BrBG_r', 'BuGn', 'BuGn_r', 'BuPu', 'BuPu_r', 'CMRmap', 'CMRmap_r', 'Dark2', 'Dark2_r', 'GnBu', 'GnBu_r', 'Greens', 'Greens_r', 'Greys', 'Greys_r', 'OrRd', 'OrRd_r', 'Oranges', 'Oranges_r', 'PRGn', 'PRGn_r', 'Paired', 'Paired_r', 'Pastel1', 'Pastel1_r', 'Pastel2', 'Pastel2_r', 'PiYG', 'PiYG_r', 'PuBu', 'PuBuGn', 'PuBuGn_r', 'PuBu_r', 'PuOr', 'PuOr_r', 'PuRd', 'PuRd_r', 'Purples', 'Purples_r', 'RdBu', 'RdBu_r', 'RdGy', 'RdGy_r', 'RdPu', 'RdPu_r', 'RdYlBu', 'RdYlBu_r', 'RdYlGn', 'RdYlGn_r', 'Reds', 'Reds_r', 'Set1', 'Set1_r', 'Set2', 'Set2_r', 'Set3', 'Set3_r', 'Spectral', 'Spectral_r', 'Vega10', 'Vega10_r', 'Vega20', 'Vega20_r', 'Vega20b', 'Vega20b_r', 'Vega20c', 'Vega20c_r', 'Wistia', 'Wistia_r', 'YlGn', 'YlGnBu', 'YlGnBu_r', 'YlGn_r', 'YlOrBr', 'YlOrBr_r', 'YlOrRd', 'YlOrRd_r', 'afmhot', 'afmhot_r', 'autumn', 'autumn_r', 'binary', 'binary_r', 'bone', 'bone_r', 'brg', 'brg_r', 'bwr', 'bwr_r', 'cool', 'cool_r', 'coolwarm', 'coolwarm_r', 'copper', 'copper_r', 'cubehelix', 'cubehelix_r', 'flag', 'flag_r', 'gist_earth', 'gist_earth_r', 'gist_gray', 'gist_gray_r', 'gist_heat', 'gist_heat_r', 'gist_ncar', 'gist_ncar_r', 'gist_rainbow', 'gist_rainbow_r', 'gist_stern', 'gist_stern_r', 'gist_yarg', 'gist_yarg_r', 'gnuplot', 'gnuplot2', 'gnuplot2_r', 'gnuplot_r', 'gray', 'gray_r', 'hot', 'hot_r', 'hsv', 'hsv_r', 'inferno', 'inferno_r', 'jet', 'jet_r', 'magma', 'magma_r', 'nipy_spectral', 'nipy_spectral_r', 'ocean', 'ocean_r', 'pink', 'pink_r', 'plasma', 'plasma_r', 'prism', 'prism_r', 'rainbow', 'rainbow_r', 'seismic', 'seismic_r', 'spectral', 'spectral_r', 'spring', 'spring_r', 'summer', 'summer_r', 'tab10', 'tab10_r', 'tab20', 'tab20_r', 'tab20b', 'tab20b_r', 'tab20c', 'tab20c_r', 'terrain', 'terrain_r', 'viridis', 'viridis_r', 'winter', 'winter_r'), rows=1, value=''), HTML(value='<img src=\"data:image/gif;base64,R0lGODdh+gAZAIcAAPMCAs8AAI8AAAEB8q4AAAAAbwAArwAAkAAAz/Po9Pv3+wAAVkZG/7i4//9YWP/X1xcX/zMz/1lZ/2lp/4SE/5SU/6Wl/9jY//8lJf82Nv9FRf94eP+Hh/+Zmf+0tP/ExCQk/3d3/8nJ//8XF/9oaP+mpn8AAAAAAAAAAAAAAAAAAAAAAAAAAAAAAAAAAAAAAAAAAAAAAAAAAAAAAAAAAAAAAAAAAAAAAAAAAAAAAAAAAAAAAAAAAAAAAAAAAAAAAAAAAAAAAAAAAAAAAAAAAAAAAAAAAAAAAAAAAAAAAAAAAAAAAAAAAAAAAAAAAAAAAAAAAAAAAAAAAAAAAAAAAAAAAAAAAAAAAAAAAAAAAAAAAAAAAAAAAAAAAAAAAAAAAAAAAAAAAAAAAAAAAAAAAAAAAAAAAAAAAAAAAAAAAAAAAAAAAAAAAAAAAAAAAAAAAAAAAAAAAAAAAAAAAAAAAAAAAAAAAAAAAAAAAAAAAAAAAAAAAAAAAAAAAAAAAAAAAAAAAAAAAAAAAAAAAAAAAAAAAAAAAAAAAAAAAAAAAAAAAAAAAAAAAAAAAAAAAAAAAAAAAAAAAAAAAAAAAAAAAAAAAAAAAAAAAAAAAAAAAAAAAAAAAAAAAAAAAAAAAAAAAAAAAAAAAAAAAAAAAAAAAAAAAAAAAAAAAAAAAAAAAAAAAAAAAAAAAAAAAAAAAAAAAAAAAAAAAAAAAAAAAAAAAAAAAAAAAAAAAAAAAAAAAAAAAAAAAAAAAAAAAAAAAAAAAAAAAAAAAAAAAAAAAAAAAAAAAAAAAAAAAAAAAAAAAAAAAAAAAAAAAAAAAAAAAAAAAAAAAAAAAAAAAAAAAAAAAAAAAAAAAAAAAAAAAAAAAAAAAAAAAAAAAAAAAAAAAAAAAAAAAAAAAAAAAAAAAAAAAAAAAAAAAAAAAAAAAAAAAAAAAAAAAAAAAAAAAAAAAAAAAAAAAAAAAAAAAAAAAAAAAAAAAAAAAAAAAAAAAAAAAAAAAAAAAAAAAAAAAAAAAAAAACwAAAAA+gAZAEAI/wBNCBhIsKBBAQQSKlzIMIDDhxAjOgRAsaLFixZHaMTAEUOGjxk0iNTgoGRJEig3qNzAoSWHDjA7lJjpoaaHDzg/PNi5M4HPBAqCClWQoGiCC0gviFjaoGlTC1AtVJhagYJVCiGyTtg6QYJXCQzCho1ANgKIsxDSQhjAtq3btwjiyp1roK7du3UP6N3Lt4Dfv4D/Lhg82ISAw4gTKxZAoLHjx5ADSJ5MubJkAJgza96seYRnDKAxZBidQYNpDQ5SpybBeoPrDRxic+hAu0OJ2x5ye/jA+8OD378TCE+goLhxBQmSJ7jA/IKI5w2iR7dA3UKF6xUoaKcQovuE7xMkiP+XwKB8+QjoI4BYD6E9hAHw48ufj6C+/fsG8uvfn/+Af4AHBA48UMDgQYQHFyxcaELAQ4gRJQogUNHiRYwBNG7k2FEjAJAhRY4UOcIkBpQYMqzMoMGlBgcxY5KgucHmBg45OXTg2aHETw9BPXwg+uHB0aMJlCZQ0NSpggRRE1ygekHE1QZZs1rgaqHC1woUxFIIUXbC2QkS1Epg0LZtBLgRQMyFUBfCALx59e5F0NfvXwOBBQ8OfMDwYcQFFC9mvHjB48cmBEymXNmyAAKZNW/mHMDzZ9ChPQMgXdr0adMjVGNgjSHD6wwaZGtwULs2CdwbdG/g0JtDB+AdSgz3UNz/wwfkHx4sX57AeQIF0aUrSFA9wQXsF0Rsb9C9uwXwFiqMr0DBPIUQ6SesnyDBvQQG8eNHoB8BxH0I+SEM4N/fP8ABAgUiKGjwoIGEChcmPODwIcQCEidSnLjg4kUTAjZy7OhRAIGQIkeSDGDyJMqUJgGwbOnypcsRMjHQxJDhZgYNOjU46NmTBNANQjdwKMqhA9IOJZZ6aOrhA9QPD6ZOTWA1gYKsWhUk6JrgAtgLIsY2KFvWAloLFdZWoOCWQoi4E+ZOkGBXAoO8eSPwjQDiL4TAEAYQLmz4MILEihcbaOz4ceMDkidTLmD5MubLCzZvNiHgM+jQogUQKG36NOoA/6pXs26tGgDs2LJnyx5hGwNuDBl2Z9DgW4OD4MFJEN9gfAOH5Bw6MO9Q4rmH6B4+UP/w4Pr1BNoTKOjuXUGC8AkukL8g4nyD9OktsLdQ4X0FCvIphKg/4f4ECfolMOjfH2AEgRFAFIRwEMIAhQsZNkTwEGJEAxMpVpx4AGNGjQU4dvTYcUHIkCYElDR5EqUAAitZtnQZAGZMmTNhArB5E2dOnCN4YvCJIUPQDBqIanBw9CgJpRuYbuDwlEMHqR1KVPVw1cMHrR8edO2aAGwCBWPJKkhwNsEFtRdEtG3w9q0FuRYq1K1AAS+FEHsn9J0gAbAEBoMHRzAcAURiCIshDP9w/BhyZASTKVc2cBlz5ssHOHf2XAB0aNGhF5QubUJAatWrWQsg8Bp2bNkBaNe2fZs2AN27effmPQI4BuEYMhTPoAG5BgfLl5NwvgH6Bg7TOXSw3qFEdg/bPXzw/uFB+PAJyCdQcB69ggTrE1xwf0FE/Abz51uwb6FC/goU+FMIATBEiAkEJ0g4KIGBQoURGkYAARGCRAgDKlq8iBGBxo0cDXj8CNLjgZEkSxY4iTIlygUsWZoQADOmzJkCCNi8iTNngJ08e/rcCSCo0KFEh444iiEphgxMM2h4qsGBVKkkqm64uoGDVg4dunYoAdaDWA8fyn54gBZtgrUJFLh9qyD/gdwEF+peEIG3gV69FvpaqAC4AoXBFEIYnoB4goTFEhg4dhwhcgQQlCFYhjAgs+bNnBF4/gzagOjRpEUfOI06dYHVrFuzXgAbtgkBtGvbvi2AgO7dvHsH+A08uPDfAIobP478+IjlGJpjyAA9g4bpGhxYt04i+4btGzh459AhfIcS5D2Y9/Ah/YcH7NkneJ9Agfz5ChLYT3Ah/wUR/Bv4B9iggQWCFiocrEBBIYUQDSc8nCBBogQGFStGwBgBxEYIHSEMABlS5EgEJU2eNJBS5cqUB1y+hFlA5kyaMxfcvGlCwE6ePX0KIBBU6FCiAYweRZrUKACmTZ0+dTpCKgaq/xgyXM2gQasGB127kgC7QewGDmU5dEDbocRaD209fID74cHcuQnsJlCQV6+CBH0TXAB8QcTgBoULW0BsocLiChQcUwgRecLkCRIsS2CQOXMEzhFAfIYQGsIA0qVNn0aQWvVqA61dv259QPZs2gVs38Z9e8Hu3SYE/AYeXLgAAsWNH0ceQPly5s2VA4AeXfp06SOsY8COIcP2DBq8a3AQPjwJ8hvMb+CQnkMH9h1KvPcQ38MH+h8e3L+fQH8CBf39A1SQYGCCCwYviEjYYOFCCw4tVIhYgQJFCiEuTsg4QQJHCQw+fowgMgKIkhBOQhigciXLlghewoxpYCbNmjMP4P/MqbMAz54+ey4IGtSEgKJGjyIVQGAp06ZOA0CNKnUqVABWr2LNinUEVwxeMWQIm0EDWQ0Ozp4loXYD2w0c3nLoILdDiboe7nr4oPfDg759EwBOoGAwYQUJDie4oPiCiMYNHj+2INlChcoVKGCmEGLzhM4TJICWwGD06AimI4BIDWE1hAGuX8OOjWA27doGbuPOffsA796+CwAPLjz4guLFTQhIrnw5cwEEnkOPLj0A9erWr1MHoH079+7cR4DHIB5DhvIZNKDX4GD9ehLuN8DfwGE+hw72O5TI72G/hw/+AX54MHBgAoMJFCRUqCBBwwQXIF4QMbFBxYoWMFqosLH/AgWPFEKEnDByggSTEhikTBmBZQQQLyHEhDCAZk2bNxHk1LnTQE+fP3seEDqUaAGjR5EeXbB0qQkBT6FGlSqAQFWrV7EG0LqVa1etAMCGFTtW7AizGNBiyLA2gwa3GhzEjUuC7ga7Gzjk5dCBb4cSfz0E9vCB8IcHhw8nUJxAQWPHChJETnCB8gURlxtkzmyBs4UKnytQEE0hROkJpydIUC2BQevWEWBHADEbQm0IA3Dn1r0bQW/fvw0EFz48+AHjx5EXUL6c+fIFz5+bEDCdenXrAghk176dewDv38GH9w6AfHnz582PUI+BPYYM7zNokK/BQf36JPBv0L+BQ38O/wA7COxQoqCHgx4+KPzwoGHDBBATKJhIUUGCiwkuaLwgomODjx8tiLRQoWQFCigphFg5oeUECTAlMJg5M4LNCCByQtgJYYDPn0CDIhhKtKiBo0iTHj3AtKnTAlCjSo26oGpVEwKyat3KVQCBr2DDig1AtqzZs2QBqF3Lti3bEXAxyMWQoW4GDXg1ONi7l4TfDYA3cBjMoYPhDiUSe1js4YPjDw8iR05AOYGCy5gVJNic4ILnCyJCNxg92oJpCxVSV6DAmkKI1xNiT5BAWwKD27cj6I4AojeE3xAGCB9OvDiC48iTG1jOvPnyA9CjSy9Avbr16guyZzchoLv37+AFEP8YT768+QDo06tfjx6A+/fw48MfQR+DfQwZ8mfQwF+DA4AOBDogUXDDwQ0cFHLo0LBDCYgeJHr4UPHDA4wYE2xMoMDjRwUJRCa4UPKCCJQNVKq00NJCBZgVKMykEMLmBJwTJOyUwMCnzwhBI4AgCsEohAFJlS5lisDpU6gGpE6lKvXAVaxZC2zl2pXrArBgTQggW9bsWQEE1K5l2zbAW7hx5b4FUNfuXbx3R+zF0BdDBsAZNAzW4MCwYRKJNyzewMExhw6RO5Sg7MGyhw+ZPzzgzDnB5wQKRI9WkMB0ggupL4hg3cC1awuxLVSgXYHCbQohdE/gPUHCbwkMhAuPUDz/AgjkEJRDGNDc+XPoCKRPp27A+nXs1g9s5969wHfw4cEvIE/ehAD06dWvF0DA/Xv48QPMp1/f/nwA+fXv579/BMARIzAQxJDhYAYNCjU4aNiQBMQNEjdwqMihA8YOJTZ66OjhA8gPD0aOTGAygYKUKhUkaJngAswLImY2qFnTAk4LFXZWoOCTQoigE4ZOkGBUAoOkSSMwjQDiKYSoEAZQrWr1KoKsWrca6Or1a9cDYseSLWD2LNqzC9auNSHgLdy4cgUQqGv3Lt4Aevfy7asXAODAggcLHmEYA2IMGRZn0OBYg4PIkUlQ3mB5A4fMHDpw7lDis4fQHj6Q/vDg9OkE/6oTKGjtWkGC2Aku0L4g4naD3Lkt8LZQ4XcFCsIphCg+4fgECcolMGjePAL0CCCmQ6gOYQD27Nq3I+ju/buB8OLHhz9g/jz6AurXs1+/4P17EwLm069vXwCB/Pr38w/gH2AAgQMJEgRwEGFChQlHNMTwEEMGiRk0VNTgACNGEhs3dNzAASSHDiM7lDDpAaWHDys/PHDpMkHMBApo1lSQAGeCCzsviPDZAChQC0MtVDBagUJSCiGYTnA6QUJUCQyoUo1wNQIIrRC4QhjwFWxYsQjIljVrAG1atWgPtHX7tkBcuXPlLrBr14QAvXv59hVAAHBgwYMDFDZ8GHFhAIsZN/923HhEZAyTMWSwnEFDZg0OOHMm8XlD6A0cSHPocLpDCdUeWHv48PrDA9myE9ROoAB3bgUJeCe48PuCCOENiBO3cNxCBeUVKDSnEAL6BOkTJFSXwAA79gjbI4DwDgE8hAHjyZc3jwB9evUG2Ld3z/5AfPnzC9S3f9/+Av36TQjwD1CAwIEEBxI4iDChwgAMGzp8yBCAxIkUK1IcgRGDRgwZOmbQAFKDg5EjSZjcgHIDh5UcOrjsUCKmh5kePtj88CBnzgQ8Eyj4CVRBgqEJLhi9ICJpg6VLLTi1UCFqBQpUKYS4OiHrBAlcJTD4+jWC2AggykI4C2GA2rVs2yJ4CzerroG5dOvOPYA3r94CfPv67bsgcGATAgobPoxYAIHFjBs7DgA5suTJkAFYvow5M+YRnDF4xpAhdAYNpDU4OH2ahOoNrDdweM2hg+wOJWp7uO3hg+4PD3r3TgA8gYLhxBUkOJ7ggvILIpo3eP7cgnQLFapXoICdQojtE7pPkABeAoPx4yOYjwAiPYT1EAa4fw8/PoL59OsbuI8///0D/Pv7B1hA4ECCAxccPBgQADs=\"/>'))), HBox(children=(IntText(value=-1, description='Leftmost color maps to:', style=DescriptionStyle(description_width='initial')), IntText(value=1, description='Rightmost color maps to:', style=DescriptionStyle(description_width='initial')))), IntText(value=0, description='Feature to show:', style=DescriptionStyle(description_width='initial')))), VBox(children=(HTML(value='<p><hr/><h3>input bank:</h3></p>'), Checkbox(value=True, description='Visible'), HBox(children=(Select(description='Colormap:', index=125, options=('', 'Accent', 'Accent_r', 'Blues', 'Blues_r', 'BrBG', 'BrBG_r', 'BuGn', 'BuGn_r', 'BuPu', 'BuPu_r', 'CMRmap', 'CMRmap_r', 'Dark2', 'Dark2_r', 'GnBu', 'GnBu_r', 'Greens', 'Greens_r', 'Greys', 'Greys_r', 'OrRd', 'OrRd_r', 'Oranges', 'Oranges_r', 'PRGn', 'PRGn_r', 'Paired', 'Paired_r', 'Pastel1', 'Pastel1_r', 'Pastel2', 'Pastel2_r', 'PiYG', 'PiYG_r', 'PuBu', 'PuBuGn', 'PuBuGn_r', 'PuBu_r', 'PuOr', 'PuOr_r', 'PuRd', 'PuRd_r', 'Purples', 'Purples_r', 'RdBu', 'RdBu_r', 'RdGy', 'RdGy_r', 'RdPu', 'RdPu_r', 'RdYlBu', 'RdYlBu_r', 'RdYlGn', 'RdYlGn_r', 'Reds', 'Reds_r', 'Set1', 'Set1_r', 'Set2', 'Set2_r', 'Set3', 'Set3_r', 'Spectral', 'Spectral_r', 'Vega10', 'Vega10_r', 'Vega20', 'Vega20_r', 'Vega20b', 'Vega20b_r', 'Vega20c', 'Vega20c_r', 'Wistia', 'Wistia_r', 'YlGn', 'YlGnBu', 'YlGnBu_r', 'YlGn_r', 'YlOrBr', 'YlOrBr_r', 'YlOrRd', 'YlOrRd_r', 'afmhot', 'afmhot_r', 'autumn', 'autumn_r', 'binary', 'binary_r', 'bone', 'bone_r', 'brg', 'brg_r', 'bwr', 'bwr_r', 'cool', 'cool_r', 'coolwarm', 'coolwarm_r', 'copper', 'copper_r', 'cubehelix', 'cubehelix_r', 'flag', 'flag_r', 'gist_earth', 'gist_earth_r', 'gist_gray', 'gist_gray_r', 'gist_heat', 'gist_heat_r', 'gist_ncar', 'gist_ncar_r', 'gist_rainbow', 'gist_rainbow_r', 'gist_stern', 'gist_stern_r', 'gist_yarg', 'gist_yarg_r', 'gnuplot', 'gnuplot2', 'gnuplot2_r', 'gnuplot_r', 'gray', 'gray_r', 'hot', 'hot_r', 'hsv', 'hsv_r', 'inferno', 'inferno_r', 'jet', 'jet_r', 'magma', 'magma_r', 'nipy_spectral', 'nipy_spectral_r', 'ocean', 'ocean_r', 'pink', 'pink_r', 'plasma', 'plasma_r', 'prism', 'prism_r', 'rainbow', 'rainbow_r', 'seismic', 'seismic_r', 'spectral', 'spectral_r', 'spring', 'spring_r', 'summer', 'summer_r', 'tab10', 'tab10_r', 'tab20', 'tab20_r', 'tab20b', 'tab20b_r', 'tab20c', 'tab20c_r', 'terrain', 'terrain_r', 'viridis', 'viridis_r', 'winter', 'winter_r'), rows=1, value='hot'), HTML(value='<img src=\"data:image/gif;base64,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\"/>'))), HBox(children=(IntText(value=0, description='Leftmost color maps to:', style=DescriptionStyle(description_width='initial')), IntText(value=1, description='Rightmost color maps to:', style=DescriptionStyle(description_width='initial')))), IntText(value=0, description='Feature to show:', style=DescriptionStyle(description_width='initial'))))), _titles={'2': 'flatten bank', '7': 'input bank', '5': 'maxpool1 bank', '1': 'output bank', '0': 'Network configuration', '4': 'Conv2D-2 bank', '3': 'maxpool2 bank', '6': 'Conv2D-1 bank'}),), layout=Layout(overflow_x='auto', overflow_y='auto', width='95%')), HTML(value='<iframe src=\"https://conx.readthedocs.io\" width=\"100%\" height=\"550px\"></frame>', layout=Layout(width='95%'))), _titles={'0': 'Network', '2': 'Help', '1': 'Configuration'})"
      ]
     },
     "metadata": {},
     "output_type": "display_data"
    }
   ],
   "source": [
    "net.dashboard()"
   ]
  },
  {
   "cell_type": "code",
   "execution_count": 21,
   "metadata": {},
   "outputs": [
    {
     "name": "stdout",
     "output_type": "stream",
     "text": [
      "Input Summary:\n",
      "   count  : 70000 (70000 for training, 0 for testing)\n",
      "   shape  : (28, 28, 1)\n",
      "   range  : (0.0, 1.0)\n",
      "Target Summary:\n",
      "   count  : 70000 (70000 for training, 0 for testing)\n",
      "   shape  : (10,)\n",
      "   range  : (0.0, 1.0)\n"
     ]
    }
   ],
   "source": [
    "net.dataset.summary()"
   ]
  },
  {
   "cell_type": "code",
   "execution_count": 22,
   "metadata": {},
   "outputs": [],
   "source": [
    "net.dataset.set_targets_from_inputs()"
   ]
  },
  {
   "cell_type": "code",
   "execution_count": 23,
   "metadata": {},
   "outputs": [
    {
     "name": "stdout",
     "output_type": "stream",
     "text": [
      "Input Summary:\n",
      "   count  : 70000 (70000 for training, 0 for testing)\n",
      "   shape  : (28, 28, 1)\n",
      "   range  : (0.0, 1.0)\n",
      "Target Summary:\n",
      "   count  : 70000 (70000 for training, 0 for testing)\n",
      "   shape  : (28, 28, 1)\n",
      "   range  : (0.0, 1.0)\n"
     ]
    }
   ],
   "source": [
    "net.dataset.summary()"
   ]
  },
  {
   "cell_type": "code",
   "execution_count": 24,
   "metadata": {},
   "outputs": [],
   "source": [
    "net.dataset.targets.reshape(28*28)"
   ]
  },
  {
   "cell_type": "code",
   "execution_count": 25,
   "metadata": {},
   "outputs": [
    {
     "name": "stdout",
     "output_type": "stream",
     "text": [
      "Input Summary:\n",
      "   count  : 70000 (70000 for training, 0 for testing)\n",
      "   shape  : (28, 28, 1)\n",
      "   range  : (0.0, 1.0)\n",
      "Target Summary:\n",
      "   count  : 70000 (70000 for training, 0 for testing)\n",
      "   shape  : (784,)\n",
      "   range  : (0.0, 1.0)\n"
     ]
    }
   ],
   "source": [
    "net.dataset.summary()"
   ]
  },
  {
   "cell_type": "code",
   "execution_count": 26,
   "metadata": {},
   "outputs": [],
   "source": [
    "net.dataset.split(.9)"
   ]
  },
  {
   "cell_type": "code",
   "execution_count": 27,
   "metadata": {},
   "outputs": [
    {
     "data": {
      "image/svg+xml": [
       "<svg height=\"288pt\" version=\"1.1\" viewBox=\"0 0 720 288\" width=\"720pt\" xmlns=\"http://www.w3.org/2000/svg\" xmlns:xlink=\"http://www.w3.org/1999/xlink\">\n",
       " <defs>\n",
       "  <style type=\"text/css\">\n",
       "*{stroke-linecap:butt;stroke-linejoin:round;}\n",
       "  </style>\n",
       " </defs>\n",
       " <g id=\"figure_1\">\n",
       "  <g id=\"patch_1\">\n",
       "   <path d=\"M 0 288  L 720 288  L 720 0  L 0 0  z \" style=\"fill:#ffffff;\"/>\n",
       "  </g>\n",
       "  <g id=\"axes_1\">\n",
       "   <g id=\"patch_2\">\n",
       "    <path d=\"M 90 252  L 343.636364 252  L 343.636364 34.56  L 90 34.56  z \" style=\"fill:#ffffff;\"/>\n",
       "   </g>\n",
       "   <g id=\"matplotlib.axis_1\">\n",
       "    <g id=\"xtick_1\">\n",
       "     <g id=\"line2d_1\">\n",
       "      <defs>\n",
       "       <path d=\"M 0 0  L 0 3.5  \" id=\"m6c376e0171\" style=\"stroke:#000000;stroke-width:0.8;\"/>\n",
       "      </defs>\n",
       "      <g>\n",
       "       <use style=\"stroke:#000000;stroke-width:0.8;\" x=\"101.528926\" xlink:href=\"#m6c376e0171\" y=\"252\"/>\n",
       "      </g>\n",
       "     </g>\n",
       "     <g id=\"text_1\">\n",
       "      <!-- 0.0 -->\n",
       "      <defs>\n",
       "       <path d=\"M 31.78125 66.40625  Q 24.171875 66.40625 20.328125 58.90625  Q 16.5 51.421875 16.5 36.375  Q 16.5 21.390625 20.328125 13.890625  Q 24.171875 6.390625 31.78125 6.390625  Q 39.453125 6.390625 43.28125 13.890625  Q 47.125 21.390625 47.125 36.375  Q 47.125 51.421875 43.28125 58.90625  Q 39.453125 66.40625 31.78125 66.40625  z M 31.78125 74.21875  Q 44.046875 74.21875 50.515625 64.515625  Q 56.984375 54.828125 56.984375 36.375  Q 56.984375 17.96875 50.515625 8.265625  Q 44.046875 -1.421875 31.78125 -1.421875  Q 19.53125 -1.421875 13.0625 8.265625  Q 6.59375 17.96875 6.59375 36.375  Q 6.59375 54.828125 13.0625 64.515625  Q 19.53125 74.21875 31.78125 74.21875  z \" id=\"DejaVuSans-30\"/>\n",
       "       <path d=\"M 10.6875 12.40625  L 21 12.40625  L 21 0  L 10.6875 0  z \" id=\"DejaVuSans-2e\"/>\n",
       "      </defs>\n",
       "      <g transform=\"translate(93.577363 266.598437)scale(0.1 -0.1)\">\n",
       "       <use xlink:href=\"#DejaVuSans-30\"/>\n",
       "       <use x=\"63.623047\" xlink:href=\"#DejaVuSans-2e\"/>\n",
       "       <use x=\"95.410156\" xlink:href=\"#DejaVuSans-30\"/>\n",
       "      </g>\n",
       "     </g>\n",
       "    </g>\n",
       "    <g id=\"xtick_2\">\n",
       "     <g id=\"line2d_2\">\n",
       "      <g>\n",
       "       <use style=\"stroke:#000000;stroke-width:0.8;\" x=\"147.644628\" xlink:href=\"#m6c376e0171\" y=\"252\"/>\n",
       "      </g>\n",
       "     </g>\n",
       "     <g id=\"text_2\">\n",
       "      <!-- 0.2 -->\n",
       "      <defs>\n",
       "       <path d=\"M 19.1875 8.296875  L 53.609375 8.296875  L 53.609375 0  L 7.328125 0  L 7.328125 8.296875  Q 12.9375 14.109375 22.625 23.890625  Q 32.328125 33.6875 34.8125 36.53125  Q 39.546875 41.84375 41.421875 45.53125  Q 43.3125 49.21875 43.3125 52.78125  Q 43.3125 58.59375 39.234375 62.25  Q 35.15625 65.921875 28.609375 65.921875  Q 23.96875 65.921875 18.8125 64.3125  Q 13.671875 62.703125 7.8125 59.421875  L 7.8125 69.390625  Q 13.765625 71.78125 18.9375 73  Q 24.125 74.21875 28.421875 74.21875  Q 39.75 74.21875 46.484375 68.546875  Q 53.21875 62.890625 53.21875 53.421875  Q 53.21875 48.921875 51.53125 44.890625  Q 49.859375 40.875 45.40625 35.40625  Q 44.1875 33.984375 37.640625 27.21875  Q 31.109375 20.453125 19.1875 8.296875  z \" id=\"DejaVuSans-32\"/>\n",
       "      </defs>\n",
       "      <g transform=\"translate(139.693066 266.598437)scale(0.1 -0.1)\">\n",
       "       <use xlink:href=\"#DejaVuSans-30\"/>\n",
       "       <use x=\"63.623047\" xlink:href=\"#DejaVuSans-2e\"/>\n",
       "       <use x=\"95.410156\" xlink:href=\"#DejaVuSans-32\"/>\n",
       "      </g>\n",
       "     </g>\n",
       "    </g>\n",
       "    <g id=\"xtick_3\">\n",
       "     <g id=\"line2d_3\">\n",
       "      <g>\n",
       "       <use style=\"stroke:#000000;stroke-width:0.8;\" x=\"193.760331\" xlink:href=\"#m6c376e0171\" y=\"252\"/>\n",
       "      </g>\n",
       "     </g>\n",
       "     <g id=\"text_3\">\n",
       "      <!-- 0.4 -->\n",
       "      <defs>\n",
       "       <path d=\"M 37.796875 64.3125  L 12.890625 25.390625  L 37.796875 25.390625  z M 35.203125 72.90625  L 47.609375 72.90625  L 47.609375 25.390625  L 58.015625 25.390625  L 58.015625 17.1875  L 47.609375 17.1875  L 47.609375 0  L 37.796875 0  L 37.796875 17.1875  L 4.890625 17.1875  L 4.890625 26.703125  z \" id=\"DejaVuSans-34\"/>\n",
       "      </defs>\n",
       "      <g transform=\"translate(185.808768 266.598437)scale(0.1 -0.1)\">\n",
       "       <use xlink:href=\"#DejaVuSans-30\"/>\n",
       "       <use x=\"63.623047\" xlink:href=\"#DejaVuSans-2e\"/>\n",
       "       <use x=\"95.410156\" xlink:href=\"#DejaVuSans-34\"/>\n",
       "      </g>\n",
       "     </g>\n",
       "    </g>\n",
       "    <g id=\"xtick_4\">\n",
       "     <g id=\"line2d_4\">\n",
       "      <g>\n",
       "       <use style=\"stroke:#000000;stroke-width:0.8;\" x=\"239.876033\" xlink:href=\"#m6c376e0171\" y=\"252\"/>\n",
       "      </g>\n",
       "     </g>\n",
       "     <g id=\"text_4\">\n",
       "      <!-- 0.6 -->\n",
       "      <defs>\n",
       "       <path d=\"M 33.015625 40.375  Q 26.375 40.375 22.484375 35.828125  Q 18.609375 31.296875 18.609375 23.390625  Q 18.609375 15.53125 22.484375 10.953125  Q 26.375 6.390625 33.015625 6.390625  Q 39.65625 6.390625 43.53125 10.953125  Q 47.40625 15.53125 47.40625 23.390625  Q 47.40625 31.296875 43.53125 35.828125  Q 39.65625 40.375 33.015625 40.375  z M 52.59375 71.296875  L 52.59375 62.3125  Q 48.875 64.0625 45.09375 64.984375  Q 41.3125 65.921875 37.59375 65.921875  Q 27.828125 65.921875 22.671875 59.328125  Q 17.53125 52.734375 16.796875 39.40625  Q 19.671875 43.65625 24.015625 45.921875  Q 28.375 48.1875 33.59375 48.1875  Q 44.578125 48.1875 50.953125 41.515625  Q 57.328125 34.859375 57.328125 23.390625  Q 57.328125 12.15625 50.6875 5.359375  Q 44.046875 -1.421875 33.015625 -1.421875  Q 20.359375 -1.421875 13.671875 8.265625  Q 6.984375 17.96875 6.984375 36.375  Q 6.984375 53.65625 15.1875 63.9375  Q 23.390625 74.21875 37.203125 74.21875  Q 40.921875 74.21875 44.703125 73.484375  Q 48.484375 72.75 52.59375 71.296875  z \" id=\"DejaVuSans-36\"/>\n",
       "      </defs>\n",
       "      <g transform=\"translate(231.924471 266.598437)scale(0.1 -0.1)\">\n",
       "       <use xlink:href=\"#DejaVuSans-30\"/>\n",
       "       <use x=\"63.623047\" xlink:href=\"#DejaVuSans-2e\"/>\n",
       "       <use x=\"95.410156\" xlink:href=\"#DejaVuSans-36\"/>\n",
       "      </g>\n",
       "     </g>\n",
       "    </g>\n",
       "    <g id=\"xtick_5\">\n",
       "     <g id=\"line2d_5\">\n",
       "      <g>\n",
       "       <use style=\"stroke:#000000;stroke-width:0.8;\" x=\"285.991736\" xlink:href=\"#m6c376e0171\" y=\"252\"/>\n",
       "      </g>\n",
       "     </g>\n",
       "     <g id=\"text_5\">\n",
       "      <!-- 0.8 -->\n",
       "      <defs>\n",
       "       <path d=\"M 31.78125 34.625  Q 24.75 34.625 20.71875 30.859375  Q 16.703125 27.09375 16.703125 20.515625  Q 16.703125 13.921875 20.71875 10.15625  Q 24.75 6.390625 31.78125 6.390625  Q 38.8125 6.390625 42.859375 10.171875  Q 46.921875 13.96875 46.921875 20.515625  Q 46.921875 27.09375 42.890625 30.859375  Q 38.875 34.625 31.78125 34.625  z M 21.921875 38.8125  Q 15.578125 40.375 12.03125 44.71875  Q 8.5 49.078125 8.5 55.328125  Q 8.5 64.0625 14.71875 69.140625  Q 20.953125 74.21875 31.78125 74.21875  Q 42.671875 74.21875 48.875 69.140625  Q 55.078125 64.0625 55.078125 55.328125  Q 55.078125 49.078125 51.53125 44.71875  Q 48 40.375 41.703125 38.8125  Q 48.828125 37.15625 52.796875 32.3125  Q 56.78125 27.484375 56.78125 20.515625  Q 56.78125 9.90625 50.3125 4.234375  Q 43.84375 -1.421875 31.78125 -1.421875  Q 19.734375 -1.421875 13.25 4.234375  Q 6.78125 9.90625 6.78125 20.515625  Q 6.78125 27.484375 10.78125 32.3125  Q 14.796875 37.15625 21.921875 38.8125  z M 18.3125 54.390625  Q 18.3125 48.734375 21.84375 45.5625  Q 25.390625 42.390625 31.78125 42.390625  Q 38.140625 42.390625 41.71875 45.5625  Q 45.3125 48.734375 45.3125 54.390625  Q 45.3125 60.0625 41.71875 63.234375  Q 38.140625 66.40625 31.78125 66.40625  Q 25.390625 66.40625 21.84375 63.234375  Q 18.3125 60.0625 18.3125 54.390625  z \" id=\"DejaVuSans-38\"/>\n",
       "      </defs>\n",
       "      <g transform=\"translate(278.040173 266.598437)scale(0.1 -0.1)\">\n",
       "       <use xlink:href=\"#DejaVuSans-30\"/>\n",
       "       <use x=\"63.623047\" xlink:href=\"#DejaVuSans-2e\"/>\n",
       "       <use x=\"95.410156\" xlink:href=\"#DejaVuSans-38\"/>\n",
       "      </g>\n",
       "     </g>\n",
       "    </g>\n",
       "    <g id=\"xtick_6\">\n",
       "     <g id=\"line2d_6\">\n",
       "      <g>\n",
       "       <use style=\"stroke:#000000;stroke-width:0.8;\" x=\"332.107438\" xlink:href=\"#m6c376e0171\" y=\"252\"/>\n",
       "      </g>\n",
       "     </g>\n",
       "     <g id=\"text_6\">\n",
       "      <!-- 1.0 -->\n",
       "      <defs>\n",
       "       <path d=\"M 12.40625 8.296875  L 28.515625 8.296875  L 28.515625 63.921875  L 10.984375 60.40625  L 10.984375 69.390625  L 28.421875 72.90625  L 38.28125 72.90625  L 38.28125 8.296875  L 54.390625 8.296875  L 54.390625 0  L 12.40625 0  z \" id=\"DejaVuSans-31\"/>\n",
       "      </defs>\n",
       "      <g transform=\"translate(324.155876 266.598437)scale(0.1 -0.1)\">\n",
       "       <use xlink:href=\"#DejaVuSans-31\"/>\n",
       "       <use x=\"63.623047\" xlink:href=\"#DejaVuSans-2e\"/>\n",
       "       <use x=\"95.410156\" xlink:href=\"#DejaVuSans-30\"/>\n",
       "      </g>\n",
       "     </g>\n",
       "    </g>\n",
       "    <g id=\"text_7\">\n",
       "     <!-- Epoch -->\n",
       "     <defs>\n",
       "      <path d=\"M 9.8125 72.90625  L 55.90625 72.90625  L 55.90625 64.59375  L 19.671875 64.59375  L 19.671875 43.015625  L 54.390625 43.015625  L 54.390625 34.71875  L 19.671875 34.71875  L 19.671875 8.296875  L 56.78125 8.296875  L 56.78125 0  L 9.8125 0  z \" id=\"DejaVuSans-45\"/>\n",
       "      <path d=\"M 18.109375 8.203125  L 18.109375 -20.796875  L 9.078125 -20.796875  L 9.078125 54.6875  L 18.109375 54.6875  L 18.109375 46.390625  Q 20.953125 51.265625 25.265625 53.625  Q 29.59375 56 35.59375 56  Q 45.5625 56 51.78125 48.09375  Q 58.015625 40.1875 58.015625 27.296875  Q 58.015625 14.40625 51.78125 6.484375  Q 45.5625 -1.421875 35.59375 -1.421875  Q 29.59375 -1.421875 25.265625 0.953125  Q 20.953125 3.328125 18.109375 8.203125  z M 48.6875 27.296875  Q 48.6875 37.203125 44.609375 42.84375  Q 40.53125 48.484375 33.40625 48.484375  Q 26.265625 48.484375 22.1875 42.84375  Q 18.109375 37.203125 18.109375 27.296875  Q 18.109375 17.390625 22.1875 11.75  Q 26.265625 6.109375 33.40625 6.109375  Q 40.53125 6.109375 44.609375 11.75  Q 48.6875 17.390625 48.6875 27.296875  z \" id=\"DejaVuSans-70\"/>\n",
       "      <path d=\"M 30.609375 48.390625  Q 23.390625 48.390625 19.1875 42.75  Q 14.984375 37.109375 14.984375 27.296875  Q 14.984375 17.484375 19.15625 11.84375  Q 23.34375 6.203125 30.609375 6.203125  Q 37.796875 6.203125 41.984375 11.859375  Q 46.1875 17.53125 46.1875 27.296875  Q 46.1875 37.015625 41.984375 42.703125  Q 37.796875 48.390625 30.609375 48.390625  z M 30.609375 56  Q 42.328125 56 49.015625 48.375  Q 55.71875 40.765625 55.71875 27.296875  Q 55.71875 13.875 49.015625 6.21875  Q 42.328125 -1.421875 30.609375 -1.421875  Q 18.84375 -1.421875 12.171875 6.21875  Q 5.515625 13.875 5.515625 27.296875  Q 5.515625 40.765625 12.171875 48.375  Q 18.84375 56 30.609375 56  z \" id=\"DejaVuSans-6f\"/>\n",
       "      <path d=\"M 48.78125 52.59375  L 48.78125 44.1875  Q 44.96875 46.296875 41.140625 47.34375  Q 37.3125 48.390625 33.40625 48.390625  Q 24.65625 48.390625 19.8125 42.84375  Q 14.984375 37.3125 14.984375 27.296875  Q 14.984375 17.28125 19.8125 11.734375  Q 24.65625 6.203125 33.40625 6.203125  Q 37.3125 6.203125 41.140625 7.25  Q 44.96875 8.296875 48.78125 10.40625  L 48.78125 2.09375  Q 45.015625 0.34375 40.984375 -0.53125  Q 36.96875 -1.421875 32.421875 -1.421875  Q 20.0625 -1.421875 12.78125 6.34375  Q 5.515625 14.109375 5.515625 27.296875  Q 5.515625 40.671875 12.859375 48.328125  Q 20.21875 56 33.015625 56  Q 37.15625 56 41.109375 55.140625  Q 45.0625 54.296875 48.78125 52.59375  z \" id=\"DejaVuSans-63\"/>\n",
       "      <path d=\"M 54.890625 33.015625  L 54.890625 0  L 45.90625 0  L 45.90625 32.71875  Q 45.90625 40.484375 42.875 44.328125  Q 39.84375 48.1875 33.796875 48.1875  Q 26.515625 48.1875 22.3125 43.546875  Q 18.109375 38.921875 18.109375 30.90625  L 18.109375 0  L 9.078125 0  L 9.078125 75.984375  L 18.109375 75.984375  L 18.109375 46.1875  Q 21.34375 51.125 25.703125 53.5625  Q 30.078125 56 35.796875 56  Q 45.21875 56 50.046875 50.171875  Q 54.890625 44.34375 54.890625 33.015625  z \" id=\"DejaVuSans-68\"/>\n",
       "     </defs>\n",
       "     <g transform=\"translate(201.507244 280.276563)scale(0.1 -0.1)\">\n",
       "      <use xlink:href=\"#DejaVuSans-45\"/>\n",
       "      <use x=\"63.183594\" xlink:href=\"#DejaVuSans-70\"/>\n",
       "      <use x=\"126.660156\" xlink:href=\"#DejaVuSans-6f\"/>\n",
       "      <use x=\"187.841797\" xlink:href=\"#DejaVuSans-63\"/>\n",
       "      <use x=\"242.822266\" xlink:href=\"#DejaVuSans-68\"/>\n",
       "     </g>\n",
       "    </g>\n",
       "   </g>\n",
       "   <g id=\"matplotlib.axis_2\">\n",
       "    <g id=\"ytick_1\">\n",
       "     <g id=\"line2d_7\">\n",
       "      <defs>\n",
       "       <path d=\"M 0 0  L -3.5 0  \" id=\"mbe26c17d78\" style=\"stroke:#000000;stroke-width:0.8;\"/>\n",
       "      </defs>\n",
       "      <g>\n",
       "       <use style=\"stroke:#000000;stroke-width:0.8;\" x=\"90\" xlink:href=\"#mbe26c17d78\" y=\"252\"/>\n",
       "      </g>\n",
       "     </g>\n",
       "     <g id=\"text_8\">\n",
       "      <!-- 0.00 -->\n",
       "      <g transform=\"translate(60.734375 255.799219)scale(0.1 -0.1)\">\n",
       "       <use xlink:href=\"#DejaVuSans-30\"/>\n",
       "       <use x=\"63.623047\" xlink:href=\"#DejaVuSans-2e\"/>\n",
       "       <use x=\"95.410156\" xlink:href=\"#DejaVuSans-30\"/>\n",
       "       <use x=\"159.033203\" xlink:href=\"#DejaVuSans-30\"/>\n",
       "      </g>\n",
       "     </g>\n",
       "    </g>\n",
       "    <g id=\"ytick_2\">\n",
       "     <g id=\"line2d_8\">\n",
       "      <g>\n",
       "       <use style=\"stroke:#000000;stroke-width:0.8;\" x=\"90\" xlink:href=\"#mbe26c17d78\" y=\"213.525671\"/>\n",
       "      </g>\n",
       "     </g>\n",
       "     <g id=\"text_9\">\n",
       "      <!-- 0.02 -->\n",
       "      <g transform=\"translate(60.734375 217.32489)scale(0.1 -0.1)\">\n",
       "       <use xlink:href=\"#DejaVuSans-30\"/>\n",
       "       <use x=\"63.623047\" xlink:href=\"#DejaVuSans-2e\"/>\n",
       "       <use x=\"95.410156\" xlink:href=\"#DejaVuSans-30\"/>\n",
       "       <use x=\"159.033203\" xlink:href=\"#DejaVuSans-32\"/>\n",
       "      </g>\n",
       "     </g>\n",
       "    </g>\n",
       "    <g id=\"ytick_3\">\n",
       "     <g id=\"line2d_9\">\n",
       "      <g>\n",
       "       <use style=\"stroke:#000000;stroke-width:0.8;\" x=\"90\" xlink:href=\"#mbe26c17d78\" y=\"175.051342\"/>\n",
       "      </g>\n",
       "     </g>\n",
       "     <g id=\"text_10\">\n",
       "      <!-- 0.04 -->\n",
       "      <g transform=\"translate(60.734375 178.85056)scale(0.1 -0.1)\">\n",
       "       <use xlink:href=\"#DejaVuSans-30\"/>\n",
       "       <use x=\"63.623047\" xlink:href=\"#DejaVuSans-2e\"/>\n",
       "       <use x=\"95.410156\" xlink:href=\"#DejaVuSans-30\"/>\n",
       "       <use x=\"159.033203\" xlink:href=\"#DejaVuSans-34\"/>\n",
       "      </g>\n",
       "     </g>\n",
       "    </g>\n",
       "    <g id=\"ytick_4\">\n",
       "     <g id=\"line2d_10\">\n",
       "      <g>\n",
       "       <use style=\"stroke:#000000;stroke-width:0.8;\" x=\"90\" xlink:href=\"#mbe26c17d78\" y=\"136.577012\"/>\n",
       "      </g>\n",
       "     </g>\n",
       "     <g id=\"text_11\">\n",
       "      <!-- 0.06 -->\n",
       "      <g transform=\"translate(60.734375 140.376231)scale(0.1 -0.1)\">\n",
       "       <use xlink:href=\"#DejaVuSans-30\"/>\n",
       "       <use x=\"63.623047\" xlink:href=\"#DejaVuSans-2e\"/>\n",
       "       <use x=\"95.410156\" xlink:href=\"#DejaVuSans-30\"/>\n",
       "       <use x=\"159.033203\" xlink:href=\"#DejaVuSans-36\"/>\n",
       "      </g>\n",
       "     </g>\n",
       "    </g>\n",
       "    <g id=\"ytick_5\">\n",
       "     <g id=\"line2d_11\">\n",
       "      <g>\n",
       "       <use style=\"stroke:#000000;stroke-width:0.8;\" x=\"90\" xlink:href=\"#mbe26c17d78\" y=\"98.102683\"/>\n",
       "      </g>\n",
       "     </g>\n",
       "     <g id=\"text_12\">\n",
       "      <!-- 0.08 -->\n",
       "      <g transform=\"translate(60.734375 101.901902)scale(0.1 -0.1)\">\n",
       "       <use xlink:href=\"#DejaVuSans-30\"/>\n",
       "       <use x=\"63.623047\" xlink:href=\"#DejaVuSans-2e\"/>\n",
       "       <use x=\"95.410156\" xlink:href=\"#DejaVuSans-30\"/>\n",
       "       <use x=\"159.033203\" xlink:href=\"#DejaVuSans-38\"/>\n",
       "      </g>\n",
       "     </g>\n",
       "    </g>\n",
       "    <g id=\"ytick_6\">\n",
       "     <g id=\"line2d_12\">\n",
       "      <g>\n",
       "       <use style=\"stroke:#000000;stroke-width:0.8;\" x=\"90\" xlink:href=\"#mbe26c17d78\" y=\"59.628354\"/>\n",
       "      </g>\n",
       "     </g>\n",
       "     <g id=\"text_13\">\n",
       "      <!-- 0.10 -->\n",
       "      <g transform=\"translate(60.734375 63.427573)scale(0.1 -0.1)\">\n",
       "       <use xlink:href=\"#DejaVuSans-30\"/>\n",
       "       <use x=\"63.623047\" xlink:href=\"#DejaVuSans-2e\"/>\n",
       "       <use x=\"95.410156\" xlink:href=\"#DejaVuSans-31\"/>\n",
       "       <use x=\"159.033203\" xlink:href=\"#DejaVuSans-30\"/>\n",
       "      </g>\n",
       "     </g>\n",
       "    </g>\n",
       "   </g>\n",
       "   <g id=\"line2d_13\">\n",
       "    <path clip-path=\"url(#p0ca99d17aa)\" d=\"M 101.528926 34.816726  L 332.107438 37.30183  \" style=\"fill:none;stroke:#1f77b4;stroke-linecap:square;stroke-width:1.5;\"/>\n",
       "   </g>\n",
       "   <g id=\"line2d_14\">\n",
       "    <path clip-path=\"url(#p0ca99d17aa)\" d=\"M 332.107438 39.951238  \" style=\"fill:none;stroke:#ff7f0e;stroke-linecap:square;stroke-width:1.5;\"/>\n",
       "   </g>\n",
       "   <g id=\"patch_3\">\n",
       "    <path d=\"M 90 252  L 90 34.56  \" style=\"fill:none;stroke:#000000;stroke-linecap:square;stroke-linejoin:miter;stroke-width:0.8;\"/>\n",
       "   </g>\n",
       "   <g id=\"patch_4\">\n",
       "    <path d=\"M 343.636364 252  L 343.636364 34.56  \" style=\"fill:none;stroke:#000000;stroke-linecap:square;stroke-linejoin:miter;stroke-width:0.8;\"/>\n",
       "   </g>\n",
       "   <g id=\"patch_5\">\n",
       "    <path d=\"M 90 252  L 343.636364 252  \" style=\"fill:none;stroke:#000000;stroke-linecap:square;stroke-linejoin:miter;stroke-width:0.8;\"/>\n",
       "   </g>\n",
       "   <g id=\"patch_6\">\n",
       "    <path d=\"M 90 34.56  L 343.636364 34.56  \" style=\"fill:none;stroke:#000000;stroke-linecap:square;stroke-linejoin:miter;stroke-width:0.8;\"/>\n",
       "   </g>\n",
       "   <g id=\"text_14\">\n",
       "    <!-- Auto-Encoding with Conv: Loss -->\n",
       "    <defs>\n",
       "     <path d=\"M 34.1875 63.1875  L 20.796875 26.90625  L 47.609375 26.90625  z M 28.609375 72.90625  L 39.796875 72.90625  L 67.578125 0  L 57.328125 0  L 50.6875 18.703125  L 17.828125 18.703125  L 11.1875 0  L 0.78125 0  z \" id=\"DejaVuSans-41\"/>\n",
       "     <path d=\"M 8.5 21.578125  L 8.5 54.6875  L 17.484375 54.6875  L 17.484375 21.921875  Q 17.484375 14.15625 20.5 10.265625  Q 23.53125 6.390625 29.59375 6.390625  Q 36.859375 6.390625 41.078125 11.03125  Q 45.3125 15.671875 45.3125 23.6875  L 45.3125 54.6875  L 54.296875 54.6875  L 54.296875 0  L 45.3125 0  L 45.3125 8.40625  Q 42.046875 3.421875 37.71875 1  Q 33.40625 -1.421875 27.6875 -1.421875  Q 18.265625 -1.421875 13.375 4.4375  Q 8.5 10.296875 8.5 21.578125  z M 31.109375 56  z \" id=\"DejaVuSans-75\"/>\n",
       "     <path d=\"M 18.3125 70.21875  L 18.3125 54.6875  L 36.8125 54.6875  L 36.8125 47.703125  L 18.3125 47.703125  L 18.3125 18.015625  Q 18.3125 11.328125 20.140625 9.421875  Q 21.96875 7.515625 27.59375 7.515625  L 36.8125 7.515625  L 36.8125 0  L 27.59375 0  Q 17.1875 0 13.234375 3.875  Q 9.28125 7.765625 9.28125 18.015625  L 9.28125 47.703125  L 2.6875 47.703125  L 2.6875 54.6875  L 9.28125 54.6875  L 9.28125 70.21875  z \" id=\"DejaVuSans-74\"/>\n",
       "     <path d=\"M 4.890625 31.390625  L 31.203125 31.390625  L 31.203125 23.390625  L 4.890625 23.390625  z \" id=\"DejaVuSans-2d\"/>\n",
       "     <path d=\"M 54.890625 33.015625  L 54.890625 0  L 45.90625 0  L 45.90625 32.71875  Q 45.90625 40.484375 42.875 44.328125  Q 39.84375 48.1875 33.796875 48.1875  Q 26.515625 48.1875 22.3125 43.546875  Q 18.109375 38.921875 18.109375 30.90625  L 18.109375 0  L 9.078125 0  L 9.078125 54.6875  L 18.109375 54.6875  L 18.109375 46.1875  Q 21.34375 51.125 25.703125 53.5625  Q 30.078125 56 35.796875 56  Q 45.21875 56 50.046875 50.171875  Q 54.890625 44.34375 54.890625 33.015625  z \" id=\"DejaVuSans-6e\"/>\n",
       "     <path d=\"M 45.40625 46.390625  L 45.40625 75.984375  L 54.390625 75.984375  L 54.390625 0  L 45.40625 0  L 45.40625 8.203125  Q 42.578125 3.328125 38.25 0.953125  Q 33.9375 -1.421875 27.875 -1.421875  Q 17.96875 -1.421875 11.734375 6.484375  Q 5.515625 14.40625 5.515625 27.296875  Q 5.515625 40.1875 11.734375 48.09375  Q 17.96875 56 27.875 56  Q 33.9375 56 38.25 53.625  Q 42.578125 51.265625 45.40625 46.390625  z M 14.796875 27.296875  Q 14.796875 17.390625 18.875 11.75  Q 22.953125 6.109375 30.078125 6.109375  Q 37.203125 6.109375 41.296875 11.75  Q 45.40625 17.390625 45.40625 27.296875  Q 45.40625 37.203125 41.296875 42.84375  Q 37.203125 48.484375 30.078125 48.484375  Q 22.953125 48.484375 18.875 42.84375  Q 14.796875 37.203125 14.796875 27.296875  z \" id=\"DejaVuSans-64\"/>\n",
       "     <path d=\"M 9.421875 54.6875  L 18.40625 54.6875  L 18.40625 0  L 9.421875 0  z M 9.421875 75.984375  L 18.40625 75.984375  L 18.40625 64.59375  L 9.421875 64.59375  z \" id=\"DejaVuSans-69\"/>\n",
       "     <path d=\"M 45.40625 27.984375  Q 45.40625 37.75 41.375 43.109375  Q 37.359375 48.484375 30.078125 48.484375  Q 22.859375 48.484375 18.828125 43.109375  Q 14.796875 37.75 14.796875 27.984375  Q 14.796875 18.265625 18.828125 12.890625  Q 22.859375 7.515625 30.078125 7.515625  Q 37.359375 7.515625 41.375 12.890625  Q 45.40625 18.265625 45.40625 27.984375  z M 54.390625 6.78125  Q 54.390625 -7.171875 48.1875 -13.984375  Q 42 -20.796875 29.203125 -20.796875  Q 24.46875 -20.796875 20.265625 -20.09375  Q 16.0625 -19.390625 12.109375 -17.921875  L 12.109375 -9.1875  Q 16.0625 -11.328125 19.921875 -12.34375  Q 23.78125 -13.375 27.78125 -13.375  Q 36.625 -13.375 41.015625 -8.765625  Q 45.40625 -4.15625 45.40625 5.171875  L 45.40625 9.625  Q 42.625 4.78125 38.28125 2.390625  Q 33.9375 0 27.875 0  Q 17.828125 0 11.671875 7.65625  Q 5.515625 15.328125 5.515625 27.984375  Q 5.515625 40.671875 11.671875 48.328125  Q 17.828125 56 27.875 56  Q 33.9375 56 38.28125 53.609375  Q 42.625 51.21875 45.40625 46.390625  L 45.40625 54.6875  L 54.390625 54.6875  z \" id=\"DejaVuSans-67\"/>\n",
       "     <path id=\"DejaVuSans-20\"/>\n",
       "     <path d=\"M 4.203125 54.6875  L 13.1875 54.6875  L 24.421875 12.015625  L 35.59375 54.6875  L 46.1875 54.6875  L 57.421875 12.015625  L 68.609375 54.6875  L 77.59375 54.6875  L 63.28125 0  L 52.6875 0  L 40.921875 44.828125  L 29.109375 0  L 18.5 0  z \" id=\"DejaVuSans-77\"/>\n",
       "     <path d=\"M 64.40625 67.28125  L 64.40625 56.890625  Q 59.421875 61.53125 53.78125 63.8125  Q 48.140625 66.109375 41.796875 66.109375  Q 29.296875 66.109375 22.65625 58.46875  Q 16.015625 50.828125 16.015625 36.375  Q 16.015625 21.96875 22.65625 14.328125  Q 29.296875 6.6875 41.796875 6.6875  Q 48.140625 6.6875 53.78125 8.984375  Q 59.421875 11.28125 64.40625 15.921875  L 64.40625 5.609375  Q 59.234375 2.09375 53.4375 0.328125  Q 47.65625 -1.421875 41.21875 -1.421875  Q 24.65625 -1.421875 15.125 8.703125  Q 5.609375 18.84375 5.609375 36.375  Q 5.609375 53.953125 15.125 64.078125  Q 24.65625 74.21875 41.21875 74.21875  Q 47.75 74.21875 53.53125 72.484375  Q 59.328125 70.75 64.40625 67.28125  z \" id=\"DejaVuSans-43\"/>\n",
       "     <path d=\"M 2.984375 54.6875  L 12.5 54.6875  L 29.59375 8.796875  L 46.6875 54.6875  L 56.203125 54.6875  L 35.6875 0  L 23.484375 0  z \" id=\"DejaVuSans-76\"/>\n",
       "     <path d=\"M 11.71875 12.40625  L 22.015625 12.40625  L 22.015625 0  L 11.71875 0  z M 11.71875 51.703125  L 22.015625 51.703125  L 22.015625 39.3125  L 11.71875 39.3125  z \" id=\"DejaVuSans-3a\"/>\n",
       "     <path d=\"M 9.8125 72.90625  L 19.671875 72.90625  L 19.671875 8.296875  L 55.171875 8.296875  L 55.171875 0  L 9.8125 0  z \" id=\"DejaVuSans-4c\"/>\n",
       "     <path d=\"M 44.28125 53.078125  L 44.28125 44.578125  Q 40.484375 46.53125 36.375 47.5  Q 32.28125 48.484375 27.875 48.484375  Q 21.1875 48.484375 17.84375 46.4375  Q 14.5 44.390625 14.5 40.28125  Q 14.5 37.15625 16.890625 35.375  Q 19.28125 33.59375 26.515625 31.984375  L 29.59375 31.296875  Q 39.15625 29.25 43.1875 25.515625  Q 47.21875 21.78125 47.21875 15.09375  Q 47.21875 7.46875 41.1875 3.015625  Q 35.15625 -1.421875 24.609375 -1.421875  Q 20.21875 -1.421875 15.453125 -0.5625  Q 10.6875 0.296875 5.421875 2  L 5.421875 11.28125  Q 10.40625 8.6875 15.234375 7.390625  Q 20.0625 6.109375 24.8125 6.109375  Q 31.15625 6.109375 34.5625 8.28125  Q 37.984375 10.453125 37.984375 14.40625  Q 37.984375 18.0625 35.515625 20.015625  Q 33.0625 21.96875 24.703125 23.78125  L 21.578125 24.515625  Q 13.234375 26.265625 9.515625 29.90625  Q 5.8125 33.546875 5.8125 39.890625  Q 5.8125 47.609375 11.28125 51.796875  Q 16.75 56 26.8125 56  Q 31.78125 56 36.171875 55.265625  Q 40.578125 54.546875 44.28125 53.078125  z \" id=\"DejaVuSans-73\"/>\n",
       "    </defs>\n",
       "    <g transform=\"translate(124.125682 28.56)scale(0.12 -0.12)\">\n",
       "     <use xlink:href=\"#DejaVuSans-41\"/>\n",
       "     <use x=\"68.408203\" xlink:href=\"#DejaVuSans-75\"/>\n",
       "     <use x=\"131.787109\" xlink:href=\"#DejaVuSans-74\"/>\n",
       "     <use x=\"170.996094\" xlink:href=\"#DejaVuSans-6f\"/>\n",
       "     <use x=\"232.193359\" xlink:href=\"#DejaVuSans-2d\"/>\n",
       "     <use x=\"268.277344\" xlink:href=\"#DejaVuSans-45\"/>\n",
       "     <use x=\"331.460938\" xlink:href=\"#DejaVuSans-6e\"/>\n",
       "     <use x=\"394.839844\" xlink:href=\"#DejaVuSans-63\"/>\n",
       "     <use x=\"449.820312\" xlink:href=\"#DejaVuSans-6f\"/>\n",
       "     <use x=\"511.001953\" xlink:href=\"#DejaVuSans-64\"/>\n",
       "     <use x=\"574.478516\" xlink:href=\"#DejaVuSans-69\"/>\n",
       "     <use x=\"602.261719\" xlink:href=\"#DejaVuSans-6e\"/>\n",
       "     <use x=\"665.640625\" xlink:href=\"#DejaVuSans-67\"/>\n",
       "     <use x=\"729.117188\" xlink:href=\"#DejaVuSans-20\"/>\n",
       "     <use x=\"760.904297\" xlink:href=\"#DejaVuSans-77\"/>\n",
       "     <use x=\"842.691406\" xlink:href=\"#DejaVuSans-69\"/>\n",
       "     <use x=\"870.474609\" xlink:href=\"#DejaVuSans-74\"/>\n",
       "     <use x=\"909.683594\" xlink:href=\"#DejaVuSans-68\"/>\n",
       "     <use x=\"973.0625\" xlink:href=\"#DejaVuSans-20\"/>\n",
       "     <use x=\"1004.849609\" xlink:href=\"#DejaVuSans-43\"/>\n",
       "     <use x=\"1074.673828\" xlink:href=\"#DejaVuSans-6f\"/>\n",
       "     <use x=\"1135.855469\" xlink:href=\"#DejaVuSans-6e\"/>\n",
       "     <use x=\"1199.234375\" xlink:href=\"#DejaVuSans-76\"/>\n",
       "     <use x=\"1258.335938\" xlink:href=\"#DejaVuSans-3a\"/>\n",
       "     <use x=\"1292.027344\" xlink:href=\"#DejaVuSans-20\"/>\n",
       "     <use x=\"1323.814453\" xlink:href=\"#DejaVuSans-4c\"/>\n",
       "     <use x=\"1379.511719\" xlink:href=\"#DejaVuSans-6f\"/>\n",
       "     <use x=\"1440.693359\" xlink:href=\"#DejaVuSans-73\"/>\n",
       "     <use x=\"1492.792969\" xlink:href=\"#DejaVuSans-73\"/>\n",
       "    </g>\n",
       "   </g>\n",
       "   <g id=\"legend_1\">\n",
       "    <g id=\"patch_7\">\n",
       "     <path d=\"M 97 71.91625  L 197.60625 71.91625  Q 199.60625 71.91625 199.60625 69.91625  L 199.60625 41.56  Q 199.60625 39.56 197.60625 39.56  L 97 39.56  Q 95 39.56 95 41.56  L 95 69.91625  Q 95 71.91625 97 71.91625  z \" style=\"fill:#ffffff;opacity:0.8;stroke:#cccccc;stroke-linejoin:miter;\"/>\n",
       "    </g>\n",
       "    <g id=\"line2d_15\">\n",
       "     <path d=\"M 99 47.658437  L 119 47.658437  \" style=\"fill:none;stroke:#1f77b4;stroke-linecap:square;stroke-width:1.5;\"/>\n",
       "    </g>\n",
       "    <g id=\"line2d_16\"/>\n",
       "    <g id=\"text_15\">\n",
       "     <!-- Training set -->\n",
       "     <defs>\n",
       "      <path d=\"M -0.296875 72.90625  L 61.375 72.90625  L 61.375 64.59375  L 35.5 64.59375  L 35.5 0  L 25.59375 0  L 25.59375 64.59375  L -0.296875 64.59375  z \" id=\"DejaVuSans-54\"/>\n",
       "      <path d=\"M 41.109375 46.296875  Q 39.59375 47.171875 37.8125 47.578125  Q 36.03125 48 33.890625 48  Q 26.265625 48 22.1875 43.046875  Q 18.109375 38.09375 18.109375 28.8125  L 18.109375 0  L 9.078125 0  L 9.078125 54.6875  L 18.109375 54.6875  L 18.109375 46.1875  Q 20.953125 51.171875 25.484375 53.578125  Q 30.03125 56 36.53125 56  Q 37.453125 56 38.578125 55.875  Q 39.703125 55.765625 41.0625 55.515625  z \" id=\"DejaVuSans-72\"/>\n",
       "      <path d=\"M 34.28125 27.484375  Q 23.390625 27.484375 19.1875 25  Q 14.984375 22.515625 14.984375 16.5  Q 14.984375 11.71875 18.140625 8.90625  Q 21.296875 6.109375 26.703125 6.109375  Q 34.1875 6.109375 38.703125 11.40625  Q 43.21875 16.703125 43.21875 25.484375  L 43.21875 27.484375  z M 52.203125 31.203125  L 52.203125 0  L 43.21875 0  L 43.21875 8.296875  Q 40.140625 3.328125 35.546875 0.953125  Q 30.953125 -1.421875 24.3125 -1.421875  Q 15.921875 -1.421875 10.953125 3.296875  Q 6 8.015625 6 15.921875  Q 6 25.140625 12.171875 29.828125  Q 18.359375 34.515625 30.609375 34.515625  L 43.21875 34.515625  L 43.21875 35.40625  Q 43.21875 41.609375 39.140625 45  Q 35.0625 48.390625 27.6875 48.390625  Q 23 48.390625 18.546875 47.265625  Q 14.109375 46.140625 10.015625 43.890625  L 10.015625 52.203125  Q 14.9375 54.109375 19.578125 55.046875  Q 24.21875 56 28.609375 56  Q 40.484375 56 46.34375 49.84375  Q 52.203125 43.703125 52.203125 31.203125  z \" id=\"DejaVuSans-61\"/>\n",
       "      <path d=\"M 56.203125 29.59375  L 56.203125 25.203125  L 14.890625 25.203125  Q 15.484375 15.921875 20.484375 11.0625  Q 25.484375 6.203125 34.421875 6.203125  Q 39.59375 6.203125 44.453125 7.46875  Q 49.3125 8.734375 54.109375 11.28125  L 54.109375 2.78125  Q 49.265625 0.734375 44.1875 -0.34375  Q 39.109375 -1.421875 33.890625 -1.421875  Q 20.796875 -1.421875 13.15625 6.1875  Q 5.515625 13.8125 5.515625 26.8125  Q 5.515625 40.234375 12.765625 48.109375  Q 20.015625 56 32.328125 56  Q 43.359375 56 49.78125 48.890625  Q 56.203125 41.796875 56.203125 29.59375  z M 47.21875 32.234375  Q 47.125 39.59375 43.09375 43.984375  Q 39.0625 48.390625 32.421875 48.390625  Q 24.90625 48.390625 20.390625 44.140625  Q 15.875 39.890625 15.1875 32.171875  z \" id=\"DejaVuSans-65\"/>\n",
       "     </defs>\n",
       "     <g transform=\"translate(127 51.158437)scale(0.1 -0.1)\">\n",
       "      <use xlink:href=\"#DejaVuSans-54\"/>\n",
       "      <use x=\"60.865234\" xlink:href=\"#DejaVuSans-72\"/>\n",
       "      <use x=\"101.978516\" xlink:href=\"#DejaVuSans-61\"/>\n",
       "      <use x=\"163.257812\" xlink:href=\"#DejaVuSans-69\"/>\n",
       "      <use x=\"191.041016\" xlink:href=\"#DejaVuSans-6e\"/>\n",
       "      <use x=\"254.419922\" xlink:href=\"#DejaVuSans-69\"/>\n",
       "      <use x=\"282.203125\" xlink:href=\"#DejaVuSans-6e\"/>\n",
       "      <use x=\"345.582031\" xlink:href=\"#DejaVuSans-67\"/>\n",
       "      <use x=\"409.058594\" xlink:href=\"#DejaVuSans-20\"/>\n",
       "      <use x=\"440.845703\" xlink:href=\"#DejaVuSans-73\"/>\n",
       "      <use x=\"492.945312\" xlink:href=\"#DejaVuSans-65\"/>\n",
       "      <use x=\"554.46875\" xlink:href=\"#DejaVuSans-74\"/>\n",
       "     </g>\n",
       "    </g>\n",
       "    <g id=\"line2d_17\">\n",
       "     <path d=\"M 99 62.336562  L 119 62.336562  \" style=\"fill:none;stroke:#ff7f0e;stroke-linecap:square;stroke-width:1.5;\"/>\n",
       "    </g>\n",
       "    <g id=\"line2d_18\"/>\n",
       "    <g id=\"text_16\">\n",
       "     <!-- Validation set -->\n",
       "     <defs>\n",
       "      <path d=\"M 28.609375 0  L 0.78125 72.90625  L 11.078125 72.90625  L 34.1875 11.53125  L 57.328125 72.90625  L 67.578125 72.90625  L 39.796875 0  z \" id=\"DejaVuSans-56\"/>\n",
       "      <path d=\"M 9.421875 75.984375  L 18.40625 75.984375  L 18.40625 0  L 9.421875 0  z \" id=\"DejaVuSans-6c\"/>\n",
       "     </defs>\n",
       "     <g transform=\"translate(127 65.836562)scale(0.1 -0.1)\">\n",
       "      <use xlink:href=\"#DejaVuSans-56\"/>\n",
       "      <use x=\"68.298828\" xlink:href=\"#DejaVuSans-61\"/>\n",
       "      <use x=\"129.578125\" xlink:href=\"#DejaVuSans-6c\"/>\n",
       "      <use x=\"157.361328\" xlink:href=\"#DejaVuSans-69\"/>\n",
       "      <use x=\"185.144531\" xlink:href=\"#DejaVuSans-64\"/>\n",
       "      <use x=\"248.621094\" xlink:href=\"#DejaVuSans-61\"/>\n",
       "      <use x=\"309.900391\" xlink:href=\"#DejaVuSans-74\"/>\n",
       "      <use x=\"349.109375\" xlink:href=\"#DejaVuSans-69\"/>\n",
       "      <use x=\"376.892578\" xlink:href=\"#DejaVuSans-6f\"/>\n",
       "      <use x=\"438.074219\" xlink:href=\"#DejaVuSans-6e\"/>\n",
       "      <use x=\"501.453125\" xlink:href=\"#DejaVuSans-20\"/>\n",
       "      <use x=\"533.240234\" xlink:href=\"#DejaVuSans-73\"/>\n",
       "      <use x=\"585.339844\" xlink:href=\"#DejaVuSans-65\"/>\n",
       "      <use x=\"646.863281\" xlink:href=\"#DejaVuSans-74\"/>\n",
       "     </g>\n",
       "    </g>\n",
       "   </g>\n",
       "  </g>\n",
       "  <g id=\"axes_2\">\n",
       "   <g id=\"patch_8\">\n",
       "    <path d=\"M 394.363636 252  L 648 252  L 648 34.56  L 394.363636 34.56  z \" style=\"fill:#ffffff;\"/>\n",
       "   </g>\n",
       "   <g id=\"matplotlib.axis_3\">\n",
       "    <g id=\"xtick_7\">\n",
       "     <g id=\"line2d_19\">\n",
       "      <g>\n",
       "       <use style=\"stroke:#000000;stroke-width:0.8;\" x=\"405.892562\" xlink:href=\"#m6c376e0171\" y=\"252\"/>\n",
       "      </g>\n",
       "     </g>\n",
       "     <g id=\"text_17\">\n",
       "      <!-- 0.0 -->\n",
       "      <g transform=\"translate(397.940999 266.598437)scale(0.1 -0.1)\">\n",
       "       <use xlink:href=\"#DejaVuSans-30\"/>\n",
       "       <use x=\"63.623047\" xlink:href=\"#DejaVuSans-2e\"/>\n",
       "       <use x=\"95.410156\" xlink:href=\"#DejaVuSans-30\"/>\n",
       "      </g>\n",
       "     </g>\n",
       "    </g>\n",
       "    <g id=\"xtick_8\">\n",
       "     <g id=\"line2d_20\">\n",
       "      <g>\n",
       "       <use style=\"stroke:#000000;stroke-width:0.8;\" x=\"452.008264\" xlink:href=\"#m6c376e0171\" y=\"252\"/>\n",
       "      </g>\n",
       "     </g>\n",
       "     <g id=\"text_18\">\n",
       "      <!-- 0.2 -->\n",
       "      <g transform=\"translate(444.056702 266.598437)scale(0.1 -0.1)\">\n",
       "       <use xlink:href=\"#DejaVuSans-30\"/>\n",
       "       <use x=\"63.623047\" xlink:href=\"#DejaVuSans-2e\"/>\n",
       "       <use x=\"95.410156\" xlink:href=\"#DejaVuSans-32\"/>\n",
       "      </g>\n",
       "     </g>\n",
       "    </g>\n",
       "    <g id=\"xtick_9\">\n",
       "     <g id=\"line2d_21\">\n",
       "      <g>\n",
       "       <use style=\"stroke:#000000;stroke-width:0.8;\" x=\"498.123967\" xlink:href=\"#m6c376e0171\" y=\"252\"/>\n",
       "      </g>\n",
       "     </g>\n",
       "     <g id=\"text_19\">\n",
       "      <!-- 0.4 -->\n",
       "      <g transform=\"translate(490.172404 266.598437)scale(0.1 -0.1)\">\n",
       "       <use xlink:href=\"#DejaVuSans-30\"/>\n",
       "       <use x=\"63.623047\" xlink:href=\"#DejaVuSans-2e\"/>\n",
       "       <use x=\"95.410156\" xlink:href=\"#DejaVuSans-34\"/>\n",
       "      </g>\n",
       "     </g>\n",
       "    </g>\n",
       "    <g id=\"xtick_10\">\n",
       "     <g id=\"line2d_22\">\n",
       "      <g>\n",
       "       <use style=\"stroke:#000000;stroke-width:0.8;\" x=\"544.239669\" xlink:href=\"#m6c376e0171\" y=\"252\"/>\n",
       "      </g>\n",
       "     </g>\n",
       "     <g id=\"text_20\">\n",
       "      <!-- 0.6 -->\n",
       "      <g transform=\"translate(536.288107 266.598437)scale(0.1 -0.1)\">\n",
       "       <use xlink:href=\"#DejaVuSans-30\"/>\n",
       "       <use x=\"63.623047\" xlink:href=\"#DejaVuSans-2e\"/>\n",
       "       <use x=\"95.410156\" xlink:href=\"#DejaVuSans-36\"/>\n",
       "      </g>\n",
       "     </g>\n",
       "    </g>\n",
       "    <g id=\"xtick_11\">\n",
       "     <g id=\"line2d_23\">\n",
       "      <g>\n",
       "       <use style=\"stroke:#000000;stroke-width:0.8;\" x=\"590.355372\" xlink:href=\"#m6c376e0171\" y=\"252\"/>\n",
       "      </g>\n",
       "     </g>\n",
       "     <g id=\"text_21\">\n",
       "      <!-- 0.8 -->\n",
       "      <g transform=\"translate(582.403809 266.598437)scale(0.1 -0.1)\">\n",
       "       <use xlink:href=\"#DejaVuSans-30\"/>\n",
       "       <use x=\"63.623047\" xlink:href=\"#DejaVuSans-2e\"/>\n",
       "       <use x=\"95.410156\" xlink:href=\"#DejaVuSans-38\"/>\n",
       "      </g>\n",
       "     </g>\n",
       "    </g>\n",
       "    <g id=\"xtick_12\">\n",
       "     <g id=\"line2d_24\">\n",
       "      <g>\n",
       "       <use style=\"stroke:#000000;stroke-width:0.8;\" x=\"636.471074\" xlink:href=\"#m6c376e0171\" y=\"252\"/>\n",
       "      </g>\n",
       "     </g>\n",
       "     <g id=\"text_22\">\n",
       "      <!-- 1.0 -->\n",
       "      <g transform=\"translate(628.519512 266.598437)scale(0.1 -0.1)\">\n",
       "       <use xlink:href=\"#DejaVuSans-31\"/>\n",
       "       <use x=\"63.623047\" xlink:href=\"#DejaVuSans-2e\"/>\n",
       "       <use x=\"95.410156\" xlink:href=\"#DejaVuSans-30\"/>\n",
       "      </g>\n",
       "     </g>\n",
       "    </g>\n",
       "    <g id=\"text_23\">\n",
       "     <!-- Epoch -->\n",
       "     <g transform=\"translate(505.870881 280.276563)scale(0.1 -0.1)\">\n",
       "      <use xlink:href=\"#DejaVuSans-45\"/>\n",
       "      <use x=\"63.183594\" xlink:href=\"#DejaVuSans-70\"/>\n",
       "      <use x=\"126.660156\" xlink:href=\"#DejaVuSans-6f\"/>\n",
       "      <use x=\"187.841797\" xlink:href=\"#DejaVuSans-63\"/>\n",
       "      <use x=\"242.822266\" xlink:href=\"#DejaVuSans-68\"/>\n",
       "     </g>\n",
       "    </g>\n",
       "   </g>\n",
       "   <g id=\"matplotlib.axis_4\">\n",
       "    <g id=\"ytick_7\">\n",
       "     <g id=\"line2d_25\">\n",
       "      <g>\n",
       "       <use style=\"stroke:#000000;stroke-width:0.8;\" x=\"394.363636\" xlink:href=\"#mbe26c17d78\" y=\"233.88\"/>\n",
       "      </g>\n",
       "     </g>\n",
       "     <g id=\"text_24\">\n",
       "      <!-- 0.0 -->\n",
       "      <g transform=\"translate(371.460511 237.679219)scale(0.1 -0.1)\">\n",
       "       <use xlink:href=\"#DejaVuSans-30\"/>\n",
       "       <use x=\"63.623047\" xlink:href=\"#DejaVuSans-2e\"/>\n",
       "       <use x=\"95.410156\" xlink:href=\"#DejaVuSans-30\"/>\n",
       "      </g>\n",
       "     </g>\n",
       "    </g>\n",
       "    <g id=\"ytick_8\">\n",
       "     <g id=\"line2d_26\">\n",
       "      <g>\n",
       "       <use style=\"stroke:#000000;stroke-width:0.8;\" x=\"394.363636\" xlink:href=\"#mbe26c17d78\" y=\"197.64\"/>\n",
       "      </g>\n",
       "     </g>\n",
       "     <g id=\"text_25\">\n",
       "      <!-- 0.2 -->\n",
       "      <g transform=\"translate(371.460511 201.439219)scale(0.1 -0.1)\">\n",
       "       <use xlink:href=\"#DejaVuSans-30\"/>\n",
       "       <use x=\"63.623047\" xlink:href=\"#DejaVuSans-2e\"/>\n",
       "       <use x=\"95.410156\" xlink:href=\"#DejaVuSans-32\"/>\n",
       "      </g>\n",
       "     </g>\n",
       "    </g>\n",
       "    <g id=\"ytick_9\">\n",
       "     <g id=\"line2d_27\">\n",
       "      <g>\n",
       "       <use style=\"stroke:#000000;stroke-width:0.8;\" x=\"394.363636\" xlink:href=\"#mbe26c17d78\" y=\"161.4\"/>\n",
       "      </g>\n",
       "     </g>\n",
       "     <g id=\"text_26\">\n",
       "      <!-- 0.4 -->\n",
       "      <g transform=\"translate(371.460511 165.199219)scale(0.1 -0.1)\">\n",
       "       <use xlink:href=\"#DejaVuSans-30\"/>\n",
       "       <use x=\"63.623047\" xlink:href=\"#DejaVuSans-2e\"/>\n",
       "       <use x=\"95.410156\" xlink:href=\"#DejaVuSans-34\"/>\n",
       "      </g>\n",
       "     </g>\n",
       "    </g>\n",
       "    <g id=\"ytick_10\">\n",
       "     <g id=\"line2d_28\">\n",
       "      <g>\n",
       "       <use style=\"stroke:#000000;stroke-width:0.8;\" x=\"394.363636\" xlink:href=\"#mbe26c17d78\" y=\"125.16\"/>\n",
       "      </g>\n",
       "     </g>\n",
       "     <g id=\"text_27\">\n",
       "      <!-- 0.6 -->\n",
       "      <g transform=\"translate(371.460511 128.959219)scale(0.1 -0.1)\">\n",
       "       <use xlink:href=\"#DejaVuSans-30\"/>\n",
       "       <use x=\"63.623047\" xlink:href=\"#DejaVuSans-2e\"/>\n",
       "       <use x=\"95.410156\" xlink:href=\"#DejaVuSans-36\"/>\n",
       "      </g>\n",
       "     </g>\n",
       "    </g>\n",
       "    <g id=\"ytick_11\">\n",
       "     <g id=\"line2d_29\">\n",
       "      <g>\n",
       "       <use style=\"stroke:#000000;stroke-width:0.8;\" x=\"394.363636\" xlink:href=\"#mbe26c17d78\" y=\"88.92\"/>\n",
       "      </g>\n",
       "     </g>\n",
       "     <g id=\"text_28\">\n",
       "      <!-- 0.8 -->\n",
       "      <g transform=\"translate(371.460511 92.719219)scale(0.1 -0.1)\">\n",
       "       <use xlink:href=\"#DejaVuSans-30\"/>\n",
       "       <use x=\"63.623047\" xlink:href=\"#DejaVuSans-2e\"/>\n",
       "       <use x=\"95.410156\" xlink:href=\"#DejaVuSans-38\"/>\n",
       "      </g>\n",
       "     </g>\n",
       "    </g>\n",
       "    <g id=\"ytick_12\">\n",
       "     <g id=\"line2d_30\">\n",
       "      <g>\n",
       "       <use style=\"stroke:#000000;stroke-width:0.8;\" x=\"394.363636\" xlink:href=\"#mbe26c17d78\" y=\"52.68\"/>\n",
       "      </g>\n",
       "     </g>\n",
       "     <g id=\"text_29\">\n",
       "      <!-- 1.0 -->\n",
       "      <g transform=\"translate(371.460511 56.479219)scale(0.1 -0.1)\">\n",
       "       <use xlink:href=\"#DejaVuSans-31\"/>\n",
       "       <use x=\"63.623047\" xlink:href=\"#DejaVuSans-2e\"/>\n",
       "       <use x=\"95.410156\" xlink:href=\"#DejaVuSans-30\"/>\n",
       "      </g>\n",
       "     </g>\n",
       "    </g>\n",
       "   </g>\n",
       "   <g id=\"line2d_31\">\n",
       "    <path clip-path=\"url(#p4e48a5ed0c)\" d=\"M 405.892562 233.88  L 636.471074 233.88  \" style=\"fill:none;stroke:#1f77b4;stroke-linecap:square;stroke-width:1.5;\"/>\n",
       "   </g>\n",
       "   <g id=\"line2d_32\">\n",
       "    <path clip-path=\"url(#p4e48a5ed0c)\" d=\"M 636.471074 233.88  \" style=\"fill:none;stroke:#ff7f0e;stroke-linecap:square;stroke-width:1.5;\"/>\n",
       "   </g>\n",
       "   <g id=\"patch_9\">\n",
       "    <path d=\"M 394.363636 252  L 394.363636 34.56  \" style=\"fill:none;stroke:#000000;stroke-linecap:square;stroke-linejoin:miter;stroke-width:0.8;\"/>\n",
       "   </g>\n",
       "   <g id=\"patch_10\">\n",
       "    <path d=\"M 648 252  L 648 34.56  \" style=\"fill:none;stroke:#000000;stroke-linecap:square;stroke-linejoin:miter;stroke-width:0.8;\"/>\n",
       "   </g>\n",
       "   <g id=\"patch_11\">\n",
       "    <path d=\"M 394.363636 252  L 648 252  \" style=\"fill:none;stroke:#000000;stroke-linecap:square;stroke-linejoin:miter;stroke-width:0.8;\"/>\n",
       "   </g>\n",
       "   <g id=\"patch_12\">\n",
       "    <path d=\"M 394.363636 34.56  L 648 34.56  \" style=\"fill:none;stroke:#000000;stroke-linecap:square;stroke-linejoin:miter;stroke-width:0.8;\"/>\n",
       "   </g>\n",
       "   <g id=\"text_30\">\n",
       "    <!-- Auto-Encoding with Conv: Accuracy -->\n",
       "    <defs>\n",
       "     <path d=\"M 32.171875 -5.078125  Q 28.375 -14.84375 24.75 -17.8125  Q 21.140625 -20.796875 15.09375 -20.796875  L 7.90625 -20.796875  L 7.90625 -13.28125  L 13.1875 -13.28125  Q 16.890625 -13.28125 18.9375 -11.515625  Q 21 -9.765625 23.484375 -3.21875  L 25.09375 0.875  L 2.984375 54.6875  L 12.5 54.6875  L 29.59375 11.921875  L 46.6875 54.6875  L 56.203125 54.6875  z \" id=\"DejaVuSans-79\"/>\n",
       "    </defs>\n",
       "    <g transform=\"translate(414.256193 28.56)scale(0.12 -0.12)\">\n",
       "     <use xlink:href=\"#DejaVuSans-41\"/>\n",
       "     <use x=\"68.408203\" xlink:href=\"#DejaVuSans-75\"/>\n",
       "     <use x=\"131.787109\" xlink:href=\"#DejaVuSans-74\"/>\n",
       "     <use x=\"170.996094\" xlink:href=\"#DejaVuSans-6f\"/>\n",
       "     <use x=\"232.193359\" xlink:href=\"#DejaVuSans-2d\"/>\n",
       "     <use x=\"268.277344\" xlink:href=\"#DejaVuSans-45\"/>\n",
       "     <use x=\"331.460938\" xlink:href=\"#DejaVuSans-6e\"/>\n",
       "     <use x=\"394.839844\" xlink:href=\"#DejaVuSans-63\"/>\n",
       "     <use x=\"449.820312\" xlink:href=\"#DejaVuSans-6f\"/>\n",
       "     <use x=\"511.001953\" xlink:href=\"#DejaVuSans-64\"/>\n",
       "     <use x=\"574.478516\" xlink:href=\"#DejaVuSans-69\"/>\n",
       "     <use x=\"602.261719\" xlink:href=\"#DejaVuSans-6e\"/>\n",
       "     <use x=\"665.640625\" xlink:href=\"#DejaVuSans-67\"/>\n",
       "     <use x=\"729.117188\" xlink:href=\"#DejaVuSans-20\"/>\n",
       "     <use x=\"760.904297\" xlink:href=\"#DejaVuSans-77\"/>\n",
       "     <use x=\"842.691406\" xlink:href=\"#DejaVuSans-69\"/>\n",
       "     <use x=\"870.474609\" xlink:href=\"#DejaVuSans-74\"/>\n",
       "     <use x=\"909.683594\" xlink:href=\"#DejaVuSans-68\"/>\n",
       "     <use x=\"973.0625\" xlink:href=\"#DejaVuSans-20\"/>\n",
       "     <use x=\"1004.849609\" xlink:href=\"#DejaVuSans-43\"/>\n",
       "     <use x=\"1074.673828\" xlink:href=\"#DejaVuSans-6f\"/>\n",
       "     <use x=\"1135.855469\" xlink:href=\"#DejaVuSans-6e\"/>\n",
       "     <use x=\"1199.234375\" xlink:href=\"#DejaVuSans-76\"/>\n",
       "     <use x=\"1258.335938\" xlink:href=\"#DejaVuSans-3a\"/>\n",
       "     <use x=\"1292.027344\" xlink:href=\"#DejaVuSans-20\"/>\n",
       "     <use x=\"1323.814453\" xlink:href=\"#DejaVuSans-41\"/>\n",
       "     <use x=\"1392.207031\" xlink:href=\"#DejaVuSans-63\"/>\n",
       "     <use x=\"1447.1875\" xlink:href=\"#DejaVuSans-63\"/>\n",
       "     <use x=\"1502.167969\" xlink:href=\"#DejaVuSans-75\"/>\n",
       "     <use x=\"1565.546875\" xlink:href=\"#DejaVuSans-72\"/>\n",
       "     <use x=\"1606.660156\" xlink:href=\"#DejaVuSans-61\"/>\n",
       "     <use x=\"1667.939453\" xlink:href=\"#DejaVuSans-63\"/>\n",
       "     <use x=\"1722.919922\" xlink:href=\"#DejaVuSans-79\"/>\n",
       "    </g>\n",
       "   </g>\n",
       "   <g id=\"legend_2\">\n",
       "    <g id=\"patch_13\">\n",
       "     <path d=\"M 540.39375 71.91625  L 641 71.91625  Q 643 71.91625 643 69.91625  L 643 41.56  Q 643 39.56 641 39.56  L 540.39375 39.56  Q 538.39375 39.56 538.39375 41.56  L 538.39375 69.91625  Q 538.39375 71.91625 540.39375 71.91625  z \" style=\"fill:#ffffff;opacity:0.8;stroke:#cccccc;stroke-linejoin:miter;\"/>\n",
       "    </g>\n",
       "    <g id=\"line2d_33\">\n",
       "     <path d=\"M 542.39375 47.658437  L 562.39375 47.658437  \" style=\"fill:none;stroke:#1f77b4;stroke-linecap:square;stroke-width:1.5;\"/>\n",
       "    </g>\n",
       "    <g id=\"line2d_34\"/>\n",
       "    <g id=\"text_31\">\n",
       "     <!-- Training set -->\n",
       "     <g transform=\"translate(570.39375 51.158437)scale(0.1 -0.1)\">\n",
       "      <use xlink:href=\"#DejaVuSans-54\"/>\n",
       "      <use x=\"60.865234\" xlink:href=\"#DejaVuSans-72\"/>\n",
       "      <use x=\"101.978516\" xlink:href=\"#DejaVuSans-61\"/>\n",
       "      <use x=\"163.257812\" xlink:href=\"#DejaVuSans-69\"/>\n",
       "      <use x=\"191.041016\" xlink:href=\"#DejaVuSans-6e\"/>\n",
       "      <use x=\"254.419922\" xlink:href=\"#DejaVuSans-69\"/>\n",
       "      <use x=\"282.203125\" xlink:href=\"#DejaVuSans-6e\"/>\n",
       "      <use x=\"345.582031\" xlink:href=\"#DejaVuSans-67\"/>\n",
       "      <use x=\"409.058594\" xlink:href=\"#DejaVuSans-20\"/>\n",
       "      <use x=\"440.845703\" xlink:href=\"#DejaVuSans-73\"/>\n",
       "      <use x=\"492.945312\" xlink:href=\"#DejaVuSans-65\"/>\n",
       "      <use x=\"554.46875\" xlink:href=\"#DejaVuSans-74\"/>\n",
       "     </g>\n",
       "    </g>\n",
       "    <g id=\"line2d_35\">\n",
       "     <path d=\"M 542.39375 62.336562  L 562.39375 62.336562  \" style=\"fill:none;stroke:#ff7f0e;stroke-linecap:square;stroke-width:1.5;\"/>\n",
       "    </g>\n",
       "    <g id=\"line2d_36\"/>\n",
       "    <g id=\"text_32\">\n",
       "     <!-- Validation set -->\n",
       "     <g transform=\"translate(570.39375 65.836562)scale(0.1 -0.1)\">\n",
       "      <use xlink:href=\"#DejaVuSans-56\"/>\n",
       "      <use x=\"68.298828\" xlink:href=\"#DejaVuSans-61\"/>\n",
       "      <use x=\"129.578125\" xlink:href=\"#DejaVuSans-6c\"/>\n",
       "      <use x=\"157.361328\" xlink:href=\"#DejaVuSans-69\"/>\n",
       "      <use x=\"185.144531\" xlink:href=\"#DejaVuSans-64\"/>\n",
       "      <use x=\"248.621094\" xlink:href=\"#DejaVuSans-61\"/>\n",
       "      <use x=\"309.900391\" xlink:href=\"#DejaVuSans-74\"/>\n",
       "      <use x=\"349.109375\" xlink:href=\"#DejaVuSans-69\"/>\n",
       "      <use x=\"376.892578\" xlink:href=\"#DejaVuSans-6f\"/>\n",
       "      <use x=\"438.074219\" xlink:href=\"#DejaVuSans-6e\"/>\n",
       "      <use x=\"501.453125\" xlink:href=\"#DejaVuSans-20\"/>\n",
       "      <use x=\"533.240234\" xlink:href=\"#DejaVuSans-73\"/>\n",
       "      <use x=\"585.339844\" xlink:href=\"#DejaVuSans-65\"/>\n",
       "      <use x=\"646.863281\" xlink:href=\"#DejaVuSans-74\"/>\n",
       "     </g>\n",
       "    </g>\n",
       "   </g>\n",
       "  </g>\n",
       " </g>\n",
       " <defs>\n",
       "  <clipPath id=\"p0ca99d17aa\">\n",
       "   <rect height=\"217.44\" width=\"253.636364\" x=\"90\" y=\"34.56\"/>\n",
       "  </clipPath>\n",
       "  <clipPath id=\"p4e48a5ed0c\">\n",
       "   <rect height=\"217.44\" width=\"253.636364\" x=\"394.363636\" y=\"34.56\"/>\n",
       "  </clipPath>\n",
       " </defs>\n",
       "</svg>"
      ],
      "text/plain": [
       "<IPython.core.display.SVG object>"
      ]
     },
     "metadata": {},
     "output_type": "display_data"
    },
    {
     "name": "stdout",
     "output_type": "stream",
     "text": [
      "========================================================================\n",
      "#    1 |   0.11161 |   0.00000 |   0.11023 |   0.00000 \n"
     ]
    }
   ],
   "source": [
    "net.train(1, plot=True)"
   ]
  }
 ],
 "metadata": {
  "kernelspec": {
   "display_name": "Python 3",
   "language": "python",
   "name": "python3"
  },
  "language_info": {
   "codemirror_mode": {
    "name": "ipython",
    "version": 3
   },
   "file_extension": ".py",
   "mimetype": "text/x-python",
   "name": "python",
   "nbconvert_exporter": "python",
   "pygments_lexer": "ipython3",
   "version": "3.5.2"
  },
  "widgets": {
   "application/vnd.jupyter.widget-state+json": {
    "state": {
     "022d6d72c7704d9c8beac9fc4d080551": {
      "model_module": "@jupyter-widgets/controls",
      "model_module_version": "1.0.0",
      "model_name": "HBoxModel",
      "state": {
       "children": [
        "IPY_MODEL_bbb3d098c8934613a751b80245bb05a3",
        "IPY_MODEL_4ea7e60197db4758b3880cd39b55ef9e"
       ],
       "layout": "IPY_MODEL_640e08c876c44dbe96757d111b388415"
      }
     },
     "02430bcb1daf4dd598706854651ba164": {
      "model_module": "@jupyter-widgets/base",
      "model_module_version": "1.0.0",
      "model_name": "LayoutModel",
      "state": {
       "width": "95%"
      }
     },
     "0319b02e12244913865919e7473c70b7": {
      "model_module": "@jupyter-widgets/base",
      "model_module_version": "1.0.0",
      "model_name": "LayoutModel",
      "state": {
       "width": "100%"
      }
     },
     "0455130bea914ce7965e6d6fe5072453": {
      "model_module": "@jupyter-widgets/controls",
      "model_module_version": "1.0.0",
      "model_name": "DescriptionStyleModel",
      "state": {
       "description_width": ""
      }
     },
     "061c43ee797248e0b4884f38c0e1a3e9": {
      "model_module": "@jupyter-widgets/controls",
      "model_module_version": "1.0.0",
      "model_name": "DescriptionStyleModel",
      "state": {
       "description_width": ""
      }
     },
     "06f54569cd434e6ca46b1b7e22adaf8c": {
      "model_module": "@jupyter-widgets/controls",
      "model_module_version": "1.0.0",
      "model_name": "HBoxModel",
      "state": {
       "children": [
        "IPY_MODEL_d701ea8e21f147548e155cc84ad2fd98",
        "IPY_MODEL_c51eee9832184d7e88f44217d85b31ae"
       ],
       "layout": "IPY_MODEL_3fea854e2ba74f639cffc0c4f5588c57"
      }
     },
     "08714c6707fe4b3aa8cdcee864130cdb": {
      "model_module": "@jupyter-widgets/base",
      "model_module_version": "1.0.0",
      "model_name": "LayoutModel",
      "state": {}
     },
     "099cc63abaf84b3187ffe418d9cb84bd": {
      "model_module": "@jupyter-widgets/controls",
      "model_module_version": "1.0.0",
      "model_name": "IntTextModel",
      "state": {
       "description": "Feature to show:",
       "layout": "IPY_MODEL_4387cc9a40f3429a8a3a9312674c334c",
       "step": 1,
       "style": "IPY_MODEL_79314fe11d7b4c9c91041c2205a6f1dc"
      }
     },
     "09e02907187b469895dd6252348c314f": {
      "model_module": "@jupyter-widgets/controls",
      "model_module_version": "1.0.0",
      "model_name": "HBoxModel",
      "state": {
       "children": [
        "IPY_MODEL_6feb5e8bdd8d47658d5d9f8296226acd",
        "IPY_MODEL_2c61e8bbe36949ea940a544dc2ff6f33"
       ],
       "layout": "IPY_MODEL_9c00c9eff75944f69f5c5a99c3547f51"
      }
     },
     "0a5dba321a88410cad8b4bb56847a119": {
      "model_module": "@jupyter-widgets/base",
      "model_module_version": "1.0.0",
      "model_name": "LayoutModel",
      "state": {}
     },
     "0a6f2bc824ea48c8b425240c9a0d66ac": {
      "model_module": "@jupyter-widgets/controls",
      "model_module_version": "1.0.0",
      "model_name": "HBoxModel",
      "state": {
       "children": [
        "IPY_MODEL_1e1eca1a6bd84cf3bf990f4df481b697",
        "IPY_MODEL_ae77370db2094ce38d1ef4f1b9f818bd"
       ],
       "layout": "IPY_MODEL_1908b20565644c25a4cb4a3baaeb5a2b"
      }
     },
     "0ca6ac59b6f34054975459181de23e23": {
      "model_module": "@jupyter-widgets/controls",
      "model_module_version": "1.0.0",
      "model_name": "DescriptionStyleModel",
      "state": {
       "description_width": ""
      }
     },
     "0ccdd6c0d1654d13bcbcb7cd56012d42": {
      "model_module": "@jupyter-widgets/controls",
      "model_module_version": "1.0.0",
      "model_name": "DescriptionStyleModel",
      "state": {
       "description_width": ""
      }
     },
     "0d19267fe99c42e68c5d8f36cce9c1e4": {
      "model_module": "@jupyter-widgets/base",
      "model_module_version": "1.0.0",
      "model_name": "LayoutModel",
      "state": {}
     },
     "0d27a1fdc6d449f9bf031b59a917c2c9": {
      "model_module": "@jupyter-widgets/controls",
      "model_module_version": "1.0.0",
      "model_name": "SelectModel",
      "state": {
       "_options_labels": [
        "Test",
        "Train"
       ],
       "description": "Dataset:",
       "index": 1,
       "layout": "IPY_MODEL_de2caf41e8314d4c8e70f136025ef4a0",
       "rows": 1,
       "style": "IPY_MODEL_3414cae71aeb4ac799f3e7b824a70822"
      }
     },
     "102eba8352484fdbafa5c9dafd0eb267": {
      "model_module": "@jupyter-widgets/controls",
      "model_module_version": "1.0.0",
      "model_name": "IntTextModel",
      "state": {
       "layout": "IPY_MODEL_8fd73568d5b64ae8aefdfc0c9bd1ea9c",
       "step": 1,
       "style": "IPY_MODEL_4fc1a587fff140b3a21b4d907af71906",
       "value": 13
      }
     },
     "109c647ecfe64fe2ae341a180c5044b2": {
      "model_module": "@jupyter-widgets/base",
      "model_module_version": "1.0.0",
      "model_name": "LayoutModel",
      "state": {}
     },
     "13975c78825a4867bd44c68b42d1dc04": {
      "model_module": "@jupyter-widgets/controls",
      "model_module_version": "1.0.0",
      "model_name": "SliderStyleModel",
      "state": {
       "description_width": ""
      }
     },
     "139f84e2f7da400b90fc8fa921a4ba1b": {
      "model_module": "@jupyter-widgets/controls",
      "model_module_version": "1.0.0",
      "model_name": "DescriptionStyleModel",
      "state": {
       "description_width": ""
      }
     },
     "167be61f6c1746b9a726a474bb2df928": {
      "model_module": "@jupyter-widgets/controls",
      "model_module_version": "1.0.0",
      "model_name": "HTMLModel",
      "state": {
       "layout": "IPY_MODEL_4a55c57420af46a8bf08ed6ab66b4f1a",
       "style": "IPY_MODEL_194919f3ed0f4811a6742e5d0122e8f3",
       "value": "<img src=\"data:image/gif;base64,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\"/>"
      }
     },
     "1745bf3008e94964b1bfc039b90affae": {
      "model_module": "@jupyter-widgets/controls",
      "model_module_version": "1.0.0",
      "model_name": "HBoxModel",
      "state": {
       "children": [
        "IPY_MODEL_68c291dfdfc548dc96ecb5802955e401",
        "IPY_MODEL_aca67cec1baa4640876f3179e3f87c14"
       ],
       "layout": "IPY_MODEL_fe22aa81d91647bcbec547b8af061696"
      }
     },
     "1908b20565644c25a4cb4a3baaeb5a2b": {
      "model_module": "@jupyter-widgets/base",
      "model_module_version": "1.0.0",
      "model_name": "LayoutModel",
      "state": {}
     },
     "194919f3ed0f4811a6742e5d0122e8f3": {
      "model_module": "@jupyter-widgets/controls",
      "model_module_version": "1.0.0",
      "model_name": "DescriptionStyleModel",
      "state": {
       "description_width": ""
      }
     },
     "1a8da0cc74dc465ea00e9c2d977e27ac": {
      "model_module": "@jupyter-widgets/controls",
      "model_module_version": "1.0.0",
      "model_name": "CheckboxModel",
      "state": {
       "description": "Show Errors",
       "disabled": false,
       "layout": "IPY_MODEL_5a83029a96f44ac297cdd24e5242d910",
       "style": "IPY_MODEL_c125673144474f5c971643aa3db1e4f8",
       "value": false
      }
     },
     "1e1eca1a6bd84cf3bf990f4df481b697": {
      "model_module": "@jupyter-widgets/controls",
      "model_module_version": "1.0.0",
      "model_name": "IntTextModel",
      "state": {
       "description": "Leftmost color maps to:",
       "layout": "IPY_MODEL_873d82c9550f477499d07f4ccabbf9fb",
       "step": 1,
       "style": "IPY_MODEL_b65396cfe2eb4cfebef9b2e1bbf759e6",
       "value": -1
      }
     },
     "1eb3c65bc9bd4cd3b2bcadb771e01bf4": {
      "model_module": "@jupyter-widgets/controls",
      "model_module_version": "1.0.0",
      "model_name": "IntTextModel",
      "state": {
       "description": "Leftmost color maps to:",
       "layout": "IPY_MODEL_628b8695ece741a89105b5eb8c9be6ff",
       "step": 1,
       "style": "IPY_MODEL_f727934f0ecb4e1da2d7ec636f97ab5a",
       "value": -1
      }
     },
     "1fa26339d5f54e5490923c02b3753b8d": {
      "model_module": "@jupyter-widgets/base",
      "model_module_version": "1.0.0",
      "model_name": "LayoutModel",
      "state": {}
     },
     "218bdddc92d64383805c724a70777e5a": {
      "model_module": "@jupyter-widgets/controls",
      "model_module_version": "1.0.0",
      "model_name": "IntTextModel",
      "state": {
       "description": "Vertical space between layers:",
       "layout": "IPY_MODEL_5a83029a96f44ac297cdd24e5242d910",
       "step": 1,
       "style": "IPY_MODEL_ade6915581f04156abffe0db76dae359",
       "value": 30
      }
     },
     "223a838715ec40b883c08af9ed6aba6c": {
      "model_module": "@jupyter-widgets/controls",
      "model_module_version": "1.0.0",
      "model_name": "SelectModel",
      "state": {
       "_options_labels": [
        "",
        "Accent",
        "Accent_r",
        "Blues",
        "Blues_r",
        "BrBG",
        "BrBG_r",
        "BuGn",
        "BuGn_r",
        "BuPu",
        "BuPu_r",
        "CMRmap",
        "CMRmap_r",
        "Dark2",
        "Dark2_r",
        "GnBu",
        "GnBu_r",
        "Greens",
        "Greens_r",
        "Greys",
        "Greys_r",
        "OrRd",
        "OrRd_r",
        "Oranges",
        "Oranges_r",
        "PRGn",
        "PRGn_r",
        "Paired",
        "Paired_r",
        "Pastel1",
        "Pastel1_r",
        "Pastel2",
        "Pastel2_r",
        "PiYG",
        "PiYG_r",
        "PuBu",
        "PuBuGn",
        "PuBuGn_r",
        "PuBu_r",
        "PuOr",
        "PuOr_r",
        "PuRd",
        "PuRd_r",
        "Purples",
        "Purples_r",
        "RdBu",
        "RdBu_r",
        "RdGy",
        "RdGy_r",
        "RdPu",
        "RdPu_r",
        "RdYlBu",
        "RdYlBu_r",
        "RdYlGn",
        "RdYlGn_r",
        "Reds",
        "Reds_r",
        "Set1",
        "Set1_r",
        "Set2",
        "Set2_r",
        "Set3",
        "Set3_r",
        "Spectral",
        "Spectral_r",
        "Vega10",
        "Vega10_r",
        "Vega20",
        "Vega20_r",
        "Vega20b",
        "Vega20b_r",
        "Vega20c",
        "Vega20c_r",
        "Wistia",
        "Wistia_r",
        "YlGn",
        "YlGnBu",
        "YlGnBu_r",
        "YlGn_r",
        "YlOrBr",
        "YlOrBr_r",
        "YlOrRd",
        "YlOrRd_r",
        "afmhot",
        "afmhot_r",
        "autumn",
        "autumn_r",
        "binary",
        "binary_r",
        "bone",
        "bone_r",
        "brg",
        "brg_r",
        "bwr",
        "bwr_r",
        "cool",
        "cool_r",
        "coolwarm",
        "coolwarm_r",
        "copper",
        "copper_r",
        "cubehelix",
        "cubehelix_r",
        "flag",
        "flag_r",
        "gist_earth",
        "gist_earth_r",
        "gist_gray",
        "gist_gray_r",
        "gist_heat",
        "gist_heat_r",
        "gist_ncar",
        "gist_ncar_r",
        "gist_rainbow",
        "gist_rainbow_r",
        "gist_stern",
        "gist_stern_r",
        "gist_yarg",
        "gist_yarg_r",
        "gnuplot",
        "gnuplot2",
        "gnuplot2_r",
        "gnuplot_r",
        "gray",
        "gray_r",
        "hot",
        "hot_r",
        "hsv",
        "hsv_r",
        "inferno",
        "inferno_r",
        "jet",
        "jet_r",
        "magma",
        "magma_r",
        "nipy_spectral",
        "nipy_spectral_r",
        "ocean",
        "ocean_r",
        "pink",
        "pink_r",
        "plasma",
        "plasma_r",
        "prism",
        "prism_r",
        "rainbow",
        "rainbow_r",
        "seismic",
        "seismic_r",
        "spectral",
        "spectral_r",
        "spring",
        "spring_r",
        "summer",
        "summer_r",
        "tab10",
        "tab10_r",
        "tab20",
        "tab20_r",
        "tab20b",
        "tab20b_r",
        "tab20c",
        "tab20c_r",
        "terrain",
        "terrain_r",
        "viridis",
        "viridis_r",
        "winter",
        "winter_r"
       ],
       "description": "Colormap:",
       "index": 0,
       "layout": "IPY_MODEL_5a83029a96f44ac297cdd24e5242d910",
       "rows": 1,
       "style": "IPY_MODEL_8f04c0923f2c4d39bc7bdeafbc57ff81"
      }
     },
     "22d7abb1289748f585fb7e42f6b3fa54": {
      "model_module": "@jupyter-widgets/controls",
      "model_module_version": "1.0.0",
      "model_name": "HTMLModel",
      "state": {
       "layout": "IPY_MODEL_5a83029a96f44ac297cdd24e5242d910",
       "style": "IPY_MODEL_3e17f603dc3649bd86f41f6c1edef068",
       "value": "<p><hr/><h3>Conv2D-1 bank:</h3></p>"
      }
     },
     "242f72fa47324149bc6f4468bea315d2": {
      "model_module": "@jupyter-widgets/controls",
      "model_module_version": "1.0.0",
      "model_name": "DescriptionStyleModel",
      "state": {
       "description_width": ""
      }
     },
     "260ed86b34f14e9ab54dcc7d9d70e6bf": {
      "model_module": "@jupyter-widgets/base",
      "model_module_version": "1.0.0",
      "model_name": "LayoutModel",
      "state": {}
     },
     "26e1083552b04f9fb3caa971c5ac0471": {
      "model_module": "@jupyter-widgets/controls",
      "model_module_version": "1.0.0",
      "model_name": "HTMLModel",
      "state": {
       "layout": "IPY_MODEL_5a83029a96f44ac297cdd24e5242d910",
       "style": "IPY_MODEL_4eb3cfbc50ec40168b9d87946e7d9527",
       "value": "<p><hr/><h3>maxpool1 bank:</h3></p>"
      }
     },
     "274fe3afcbde461c8999d16db680b323": {
      "model_module": "@jupyter-widgets/controls",
      "model_module_version": "1.0.0",
      "model_name": "CheckboxModel",
      "state": {
       "description": "Visible",
       "disabled": false,
       "layout": "IPY_MODEL_5a83029a96f44ac297cdd24e5242d910",
       "style": "IPY_MODEL_ee06f1c0964840dcaa10e6e1af6007b5",
       "value": true
      }
     },
     "2acca33a587749d6a98af9dbac920d02": {
      "model_module": "@jupyter-widgets/base",
      "model_module_version": "1.0.0",
      "model_name": "LayoutModel",
      "state": {}
     },
     "2b708748019040509b40f790f086b67a": {
      "model_module": "@jupyter-widgets/controls",
      "model_module_version": "1.0.0",
      "model_name": "HTMLModel",
      "state": {
       "layout": "IPY_MODEL_5a83029a96f44ac297cdd24e5242d910",
       "style": "IPY_MODEL_f3e8ef14c4b6402f9ca0d78e04d42110",
       "value": "<p><h3>Network display:</h3></p>"
      }
     },
     "2c0fa6e081b947d0a9e44586f400a999": {
      "model_module": "@jupyter-widgets/controls",
      "model_module_version": "1.0.0",
      "model_name": "IntTextModel",
      "state": {
       "description": "Feature to show:",
       "layout": "IPY_MODEL_588b6cae75ed4f01a7fc278512e62286",
       "step": 1,
       "style": "IPY_MODEL_59d13d5d10804ce1950e2d27070d22b8"
      }
     },
     "2c61e8bbe36949ea940a544dc2ff6f33": {
      "model_module": "@jupyter-widgets/controls",
      "model_module_version": "1.0.0",
      "model_name": "IntTextModel",
      "state": {
       "description": "Rightmost color maps to:",
       "layout": "IPY_MODEL_460e1e22b6784d0ca9957f8d50bb9b8a",
       "step": 1,
       "style": "IPY_MODEL_68dad3abe5594f1ca5718733222d5684",
       "value": 1
      }
     },
     "2df8779b9cf3442fa2bab56718c5b2ec": {
      "model_module": "@jupyter-widgets/controls",
      "model_module_version": "1.0.0",
      "model_name": "HBoxModel",
      "state": {
       "children": [
        "IPY_MODEL_fb527585628442ce8f8b688835cf6ca2",
        "IPY_MODEL_9c1978bea6ba4685ac524b546f7a962a"
       ],
       "layout": "IPY_MODEL_cf19765f1a694f1fae51ec392bcdc62c"
      }
     },
     "2e18c986ed764b21a4478d70445373ae": {
      "model_module": "@jupyter-widgets/controls",
      "model_module_version": "1.0.0",
      "model_name": "HTMLModel",
      "state": {
       "layout": "IPY_MODEL_a4f595ca18f0465c9d828fc9764533fb",
       "style": "IPY_MODEL_770bb4927ba340aa87797703f84822e2",
       "value": "<img src=\"data:image/gif;base64,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\"/>"
      }
     },
     "2e8c6c4daf1046b5a7e7227f12fdcb4b": {
      "model_module": "@jupyter-widgets/controls",
      "model_module_version": "1.0.0",
      "model_name": "VBoxModel",
      "state": {
       "children": [
        "IPY_MODEL_936cb485ebae47aa9b2c902a068234ef",
        "IPY_MODEL_f63bec4f391e485eb603c6b528d0a89e",
        "IPY_MODEL_5ed89884c6cc482fb3fabaf475abd2a4"
       ],
       "layout": "IPY_MODEL_89298f2ef16448a28147108ba03bceed"
      }
     },
     "2f14844d77ad4feb8355a4655c2cc3bb": {
      "model_module": "@jupyter-widgets/base",
      "model_module_version": "1.0.0",
      "model_name": "LayoutModel",
      "state": {}
     },
     "31550d3b3b0b4af7ba8e9ec88d8c0daa": {
      "model_module": "@jupyter-widgets/base",
      "model_module_version": "1.0.0",
      "model_name": "LayoutModel",
      "state": {}
     },
     "329b1a33d3df46b1809c65e7dda02212": {
      "model_module": "@jupyter-widgets/controls",
      "model_module_version": "1.0.0",
      "model_name": "DescriptionStyleModel",
      "state": {
       "description_width": ""
      }
     },
     "3414cae71aeb4ac799f3e7b824a70822": {
      "model_module": "@jupyter-widgets/controls",
      "model_module_version": "1.0.0",
      "model_name": "DescriptionStyleModel",
      "state": {
       "description_width": ""
      }
     },
     "341768ed5a5b4580bb814e9eba007178": {
      "model_module": "@jupyter-widgets/controls",
      "model_module_version": "1.0.0",
      "model_name": "DescriptionStyleModel",
      "state": {
       "description_width": "initial"
      }
     },
     "385c7a9874bf4c7aacc940089e627888": {
      "model_module": "@jupyter-widgets/base",
      "model_module_version": "1.0.0",
      "model_name": "LayoutModel",
      "state": {}
     },
     "3a4fb611719d4e6693e0835b591ba5a3": {
      "model_module": "@jupyter-widgets/controls",
      "model_module_version": "1.0.0",
      "model_name": "HBoxModel",
      "state": {
       "children": [
        "IPY_MODEL_1eb3c65bc9bd4cd3b2bcadb771e01bf4",
        "IPY_MODEL_66d7548cb8e543edb841bd001fd54250"
       ],
       "layout": "IPY_MODEL_0d19267fe99c42e68c5d8f36cce9c1e4"
      }
     },
     "3aa4a3952dd64efb92a87a65e68f51eb": {
      "model_module": "@jupyter-widgets/controls",
      "model_module_version": "1.0.0",
      "model_name": "HTMLModel",
      "state": {
       "layout": "IPY_MODEL_e1f4937f08ef4b73afcab9a250daa5aa",
       "style": "IPY_MODEL_ec91ed3397834ecfa61939e95dd3de32",
       "value": "<iframe src=\"https://conx.readthedocs.io\" width=\"100%\" height=\"550px\"></frame>"
      }
     },
     "3e17f603dc3649bd86f41f6c1edef068": {
      "model_module": "@jupyter-widgets/controls",
      "model_module_version": "1.0.0",
      "model_name": "DescriptionStyleModel",
      "state": {
       "description_width": ""
      }
     },
     "3ea2e0d8902740e68fee7fecc182b437": {
      "model_module": "@jupyter-widgets/controls",
      "model_module_version": "1.0.0",
      "model_name": "DescriptionStyleModel",
      "state": {
       "description_width": "initial"
      }
     },
     "3fea854e2ba74f639cffc0c4f5588c57": {
      "model_module": "@jupyter-widgets/base",
      "model_module_version": "1.0.0",
      "model_name": "LayoutModel",
      "state": {}
     },
     "405840e750a94a949f15828d9471d237": {
      "model_module": "@jupyter-widgets/controls",
      "model_module_version": "1.0.0",
      "model_name": "HTMLModel",
      "state": {
       "layout": "IPY_MODEL_5a83029a96f44ac297cdd24e5242d910",
       "style": "IPY_MODEL_45b4d3d248bd4920a0093ee32042e006",
       "value": "<p><hr/><h3>Conv2D-2 bank:</h3></p>"
      }
     },
     "4236387d4e37474db8087cf7e7e61ef7": {
      "model_module": "@jupyter-widgets/controls",
      "model_module_version": "1.0.0",
      "model_name": "VBoxModel",
      "state": {
       "children": [
        "IPY_MODEL_22d7abb1289748f585fb7e42f6b3fa54",
        "IPY_MODEL_c597b59bbf1246419d7249ffdfac60cf",
        "IPY_MODEL_2df8779b9cf3442fa2bab56718c5b2ec",
        "IPY_MODEL_899954bfe9c244948f178a8753fce855",
        "IPY_MODEL_2c0fa6e081b947d0a9e44586f400a999"
       ],
       "layout": "IPY_MODEL_d320428a1b574583b80075ae42d36a70"
      }
     },
     "42d5e6c30c59432db10247d2e3bf8031": {
      "model_module": "@jupyter-widgets/controls",
      "model_module_version": "1.0.0",
      "model_name": "DescriptionStyleModel",
      "state": {
       "description_width": "initial"
      }
     },
     "4387cc9a40f3429a8a3a9312674c334c": {
      "model_module": "@jupyter-widgets/base",
      "model_module_version": "1.0.0",
      "model_name": "LayoutModel",
      "state": {}
     },
     "43b5a38b24e044eea607e3f8fe86da0c": {
      "model_module": "@jupyter-widgets/controls",
      "model_module_version": "1.0.0",
      "model_name": "ButtonStyleModel",
      "state": {}
     },
     "43f7447a48174e7c942b3aca4b8f237c": {
      "model_module": "@jupyter-widgets/base",
      "model_module_version": "1.0.0",
      "model_name": "LayoutModel",
      "state": {}
     },
     "440c04acb2c94f638256b51903a2114d": {
      "model_module": "@jupyter-widgets/controls",
      "model_module_version": "1.0.0",
      "model_name": "ButtonStyleModel",
      "state": {}
     },
     "45b4d3d248bd4920a0093ee32042e006": {
      "model_module": "@jupyter-widgets/controls",
      "model_module_version": "1.0.0",
      "model_name": "DescriptionStyleModel",
      "state": {
       "description_width": ""
      }
     },
     "460e1e22b6784d0ca9957f8d50bb9b8a": {
      "model_module": "@jupyter-widgets/base",
      "model_module_version": "1.0.0",
      "model_name": "LayoutModel",
      "state": {}
     },
     "4620ab28f98d49e6b9e2874e93dcefd4": {
      "model_module": "@jupyter-widgets/controls",
      "model_module_version": "1.0.0",
      "model_name": "SelectModel",
      "state": {
       "_options_labels": [
        "",
        "Accent",
        "Accent_r",
        "Blues",
        "Blues_r",
        "BrBG",
        "BrBG_r",
        "BuGn",
        "BuGn_r",
        "BuPu",
        "BuPu_r",
        "CMRmap",
        "CMRmap_r",
        "Dark2",
        "Dark2_r",
        "GnBu",
        "GnBu_r",
        "Greens",
        "Greens_r",
        "Greys",
        "Greys_r",
        "OrRd",
        "OrRd_r",
        "Oranges",
        "Oranges_r",
        "PRGn",
        "PRGn_r",
        "Paired",
        "Paired_r",
        "Pastel1",
        "Pastel1_r",
        "Pastel2",
        "Pastel2_r",
        "PiYG",
        "PiYG_r",
        "PuBu",
        "PuBuGn",
        "PuBuGn_r",
        "PuBu_r",
        "PuOr",
        "PuOr_r",
        "PuRd",
        "PuRd_r",
        "Purples",
        "Purples_r",
        "RdBu",
        "RdBu_r",
        "RdGy",
        "RdGy_r",
        "RdPu",
        "RdPu_r",
        "RdYlBu",
        "RdYlBu_r",
        "RdYlGn",
        "RdYlGn_r",
        "Reds",
        "Reds_r",
        "Set1",
        "Set1_r",
        "Set2",
        "Set2_r",
        "Set3",
        "Set3_r",
        "Spectral",
        "Spectral_r",
        "Vega10",
        "Vega10_r",
        "Vega20",
        "Vega20_r",
        "Vega20b",
        "Vega20b_r",
        "Vega20c",
        "Vega20c_r",
        "Wistia",
        "Wistia_r",
        "YlGn",
        "YlGnBu",
        "YlGnBu_r",
        "YlGn_r",
        "YlOrBr",
        "YlOrBr_r",
        "YlOrRd",
        "YlOrRd_r",
        "afmhot",
        "afmhot_r",
        "autumn",
        "autumn_r",
        "binary",
        "binary_r",
        "bone",
        "bone_r",
        "brg",
        "brg_r",
        "bwr",
        "bwr_r",
        "cool",
        "cool_r",
        "coolwarm",
        "coolwarm_r",
        "copper",
        "copper_r",
        "cubehelix",
        "cubehelix_r",
        "flag",
        "flag_r",
        "gist_earth",
        "gist_earth_r",
        "gist_gray",
        "gist_gray_r",
        "gist_heat",
        "gist_heat_r",
        "gist_ncar",
        "gist_ncar_r",
        "gist_rainbow",
        "gist_rainbow_r",
        "gist_stern",
        "gist_stern_r",
        "gist_yarg",
        "gist_yarg_r",
        "gnuplot",
        "gnuplot2",
        "gnuplot2_r",
        "gnuplot_r",
        "gray",
        "gray_r",
        "hot",
        "hot_r",
        "hsv",
        "hsv_r",
        "inferno",
        "inferno_r",
        "jet",
        "jet_r",
        "magma",
        "magma_r",
        "nipy_spectral",
        "nipy_spectral_r",
        "ocean",
        "ocean_r",
        "pink",
        "pink_r",
        "plasma",
        "plasma_r",
        "prism",
        "prism_r",
        "rainbow",
        "rainbow_r",
        "seismic",
        "seismic_r",
        "spectral",
        "spectral_r",
        "spring",
        "spring_r",
        "summer",
        "summer_r",
        "tab10",
        "tab10_r",
        "tab20",
        "tab20_r",
        "tab20b",
        "tab20b_r",
        "tab20c",
        "tab20c_r",
        "terrain",
        "terrain_r",
        "viridis",
        "viridis_r",
        "winter",
        "winter_r"
       ],
       "description": "Colormap:",
       "index": 0,
       "layout": "IPY_MODEL_5a83029a96f44ac297cdd24e5242d910",
       "rows": 1,
       "style": "IPY_MODEL_875e3800b9c840a989c994a70dc4ebfa"
      }
     },
     "48186d367a914aee879f5c1eec8c3f26": {
      "model_module": "@jupyter-widgets/controls",
      "model_module_version": "1.0.0",
      "model_name": "HTMLModel",
      "state": {
       "layout": "IPY_MODEL_5a83029a96f44ac297cdd24e5242d910",
       "style": "IPY_MODEL_61f71dd8db4843fea52520b4bf5ad687",
       "value": "<p><hr/><h3>input bank:</h3></p>"
      }
     },
     "4a55c57420af46a8bf08ed6ab66b4f1a": {
      "model_module": "@jupyter-widgets/base",
      "model_module_version": "1.0.0",
      "model_name": "LayoutModel",
      "state": {}
     },
     "4b5b27f084634c0384256f268105e6e6": {
      "model_module": "@jupyter-widgets/controls",
      "model_module_version": "1.0.0",
      "model_name": "DescriptionStyleModel",
      "state": {
       "description_width": ""
      }
     },
     "4c3edbd0242240dbbc7b42927c2a6549": {
      "model_module": "@jupyter-widgets/controls",
      "model_module_version": "1.0.0",
      "model_name": "IntTextModel",
      "state": {
       "description": "Rightmost color maps to:",
       "layout": "IPY_MODEL_dde40caaf6a942dfaf4407a2bd6ccd9e",
       "step": 1,
       "style": "IPY_MODEL_e4675006d04a4ab599c335f525646712",
       "value": 1
      }
     },
     "4c553c15470848c1b809d71f6a3eac64": {
      "model_module": "@jupyter-widgets/controls",
      "model_module_version": "1.0.0",
      "model_name": "FloatSliderModel",
      "state": {
       "continuous_update": false,
       "description": "Zoom",
       "layout": "IPY_MODEL_109c647ecfe64fe2ae341a180c5044b2",
       "max": 3,
       "min": 0.5,
       "step": 0.1,
       "style": "IPY_MODEL_13975c78825a4867bd44c68b42d1dc04",
       "value": 1
      }
     },
     "4e966579b3f14275bd8dd6aadd65a825": {
      "model_module": "@jupyter-widgets/base",
      "model_module_version": "1.0.0",
      "model_name": "LayoutModel",
      "state": {}
     },
     "4ea7e60197db4758b3880cd39b55ef9e": {
      "model_module": "@jupyter-widgets/controls",
      "model_module_version": "1.0.0",
      "model_name": "HTMLModel",
      "state": {
       "layout": "IPY_MODEL_86c0d70d35054d76afa0abcf5956ab7a",
       "style": "IPY_MODEL_7150412492c547cd835ee9336c1a83df",
       "value": "<img src=\"data:image/gif;base64,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\"/>"
      }
     },
     "4eb3cfbc50ec40168b9d87946e7d9527": {
      "model_module": "@jupyter-widgets/controls",
      "model_module_version": "1.0.0",
      "model_name": "DescriptionStyleModel",
      "state": {
       "description_width": ""
      }
     },
     "4fc1a587fff140b3a21b4d907af71906": {
      "model_module": "@jupyter-widgets/controls",
      "model_module_version": "1.0.0",
      "model_name": "DescriptionStyleModel",
      "state": {
       "description_width": ""
      }
     },
     "5247cccb955a42d786cf9e2edb9da809": {
      "model_module": "@jupyter-widgets/base",
      "model_module_version": "1.0.0",
      "model_name": "LayoutModel",
      "state": {}
     },
     "525049870be9496496a574d66edcf919": {
      "model_module": "@jupyter-widgets/base",
      "model_module_version": "1.0.0",
      "model_name": "LayoutModel",
      "state": {
       "height": "50px",
       "width": "100%"
      }
     },
     "5424703c556d4467bd48262fe3a09b76": {
      "model_module": "@jupyter-widgets/controls",
      "model_module_version": "1.0.0",
      "model_name": "AccordionModel",
      "state": {
       "_titles": {
        "0": "Network configuration",
        "1": "output bank",
        "2": "flatten bank",
        "3": "maxpool2 bank",
        "4": "Conv2D-2 bank",
        "5": "maxpool1 bank",
        "6": "Conv2D-1 bank",
        "7": "input bank"
       },
       "children": [
        "IPY_MODEL_784380d67815426089b36cd1a152d251",
        "IPY_MODEL_a8d2362f5e994b9d8af286a6c13a19f2",
        "IPY_MODEL_76e1c15bb86641799c25f0eeee9c9f92",
        "IPY_MODEL_98d0173337e34643a78455d4077d3e1d",
        "IPY_MODEL_ed207558db264089bd045af99c295bdc",
        "IPY_MODEL_d0de6a481bc34acc8b9ae03081161ccf",
        "IPY_MODEL_4236387d4e37474db8087cf7e7e61ef7",
        "IPY_MODEL_b7ffe19a9ea448fd9d9456ff273f4ed8"
       ],
       "layout": "IPY_MODEL_8e8d467eeb9747b8b0c3ab86e070ef57"
      }
     },
     "548b915314a5449e9315d9a90c7698dc": {
      "model_module": "@jupyter-widgets/controls",
      "model_module_version": "1.0.0",
      "model_name": "HTMLModel",
      "state": {
       "layout": "IPY_MODEL_31550d3b3b0b4af7ba8e9ec88d8c0daa",
       "style": "IPY_MODEL_a1bbbe3694b14628a89df664238ff618",
       "value": "<img src=\"data:image/gif;base64,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\"/>"
      }
     },
     "54ad982bfcde471ba6c6c54c7f0dfa18": {
      "model_module": "@jupyter-widgets/base",
      "model_module_version": "1.0.0",
      "model_name": "LayoutModel",
      "state": {}
     },
     "56d67253fc1b444683bbcf92b0f42683": {
      "model_module": "@jupyter-widgets/controls",
      "model_module_version": "1.0.0",
      "model_name": "ButtonModel",
      "state": {
       "icon": "forward",
       "layout": "IPY_MODEL_e99c6d4bca6d45478682e87c1338be95",
       "style": "IPY_MODEL_440c04acb2c94f638256b51903a2114d"
      }
     },
     "588b6cae75ed4f01a7fc278512e62286": {
      "model_module": "@jupyter-widgets/base",
      "model_module_version": "1.0.0",
      "model_name": "LayoutModel",
      "state": {}
     },
     "59bcb7ad7b754048bab5f98db1ebd72e": {
      "model_module": "@jupyter-widgets/controls",
      "model_module_version": "1.0.0",
      "model_name": "VBoxModel",
      "state": {
       "children": [
        "IPY_MODEL_5424703c556d4467bd48262fe3a09b76"
       ],
       "layout": "IPY_MODEL_b8ebc4c482af45eb8a7e4a32eb3516ad"
      }
     },
     "59d13d5d10804ce1950e2d27070d22b8": {
      "model_module": "@jupyter-widgets/controls",
      "model_module_version": "1.0.0",
      "model_name": "DescriptionStyleModel",
      "state": {
       "description_width": "initial"
      }
     },
     "5a83029a96f44ac297cdd24e5242d910": {
      "model_module": "@jupyter-widgets/base",
      "model_module_version": "1.0.0",
      "model_name": "LayoutModel",
      "state": {}
     },
     "5e3e3b0219934e39a70c8548b6ce2c62": {
      "model_module": "@jupyter-widgets/base",
      "model_module_version": "1.0.0",
      "model_name": "LayoutModel",
      "state": {}
     },
     "5ed89884c6cc482fb3fabaf475abd2a4": {
      "model_module": "@jupyter-widgets/controls",
      "model_module_version": "1.0.0",
      "model_name": "HBoxModel",
      "state": {
       "children": [
        "IPY_MODEL_be50c66b89cc48348559bef9e3a5ca17",
        "IPY_MODEL_9a0e5e8822a847b1974da3774619b55c",
        "IPY_MODEL_102eba8352484fdbafa5c9dafd0eb267",
        "IPY_MODEL_56d67253fc1b444683bbcf92b0f42683",
        "IPY_MODEL_d285d49736cc40ee95f988eb76eace35",
        "IPY_MODEL_c322382cba804cdbaef2b506a26e9ee8"
       ],
       "layout": "IPY_MODEL_525049870be9496496a574d66edcf919"
      }
     },
     "5f37b29700344137ace6307fcf2cad33": {
      "model_module": "@jupyter-widgets/controls",
      "model_module_version": "1.0.0",
      "model_name": "SliderStyleModel",
      "state": {
       "description_width": ""
      }
     },
     "5ffc7324d0be42a1bc0e4739451291a0": {
      "model_module": "@jupyter-widgets/controls",
      "model_module_version": "1.0.0",
      "model_name": "CheckboxModel",
      "state": {
       "description": "Visible",
       "disabled": false,
       "layout": "IPY_MODEL_5a83029a96f44ac297cdd24e5242d910",
       "style": "IPY_MODEL_061c43ee797248e0b4884f38c0e1a3e9",
       "value": true
      }
     },
     "6065e554cd004512b39b8286ea853a48": {
      "model_module": "@jupyter-widgets/controls",
      "model_module_version": "1.0.0",
      "model_name": "DescriptionStyleModel",
      "state": {
       "description_width": "initial"
      }
     },
     "61f71dd8db4843fea52520b4bf5ad687": {
      "model_module": "@jupyter-widgets/controls",
      "model_module_version": "1.0.0",
      "model_name": "DescriptionStyleModel",
      "state": {
       "description_width": ""
      }
     },
     "626c227c47cd4c67916e4d6acbcd3e83": {
      "model_module": "@jupyter-widgets/controls",
      "model_module_version": "1.0.0",
      "model_name": "DescriptionStyleModel",
      "state": {
       "description_width": "initial"
      }
     },
     "628b8695ece741a89105b5eb8c9be6ff": {
      "model_module": "@jupyter-widgets/base",
      "model_module_version": "1.0.0",
      "model_name": "LayoutModel",
      "state": {}
     },
     "63d3e0fc95884c7dba6dd7784b8b8ad9": {
      "model_module": "@jupyter-widgets/controls",
      "model_module_version": "1.0.0",
      "model_name": "HBoxModel",
      "state": {
       "children": [
        "IPY_MODEL_dda65ae702d5477eaec350ec0e283adb",
        "IPY_MODEL_855a9ee9f3bf4049a1293ecaa36b0bc0"
       ],
       "layout": "IPY_MODEL_d9f90068ed2f45489e2f6a2d208409df"
      }
     },
     "640e08c876c44dbe96757d111b388415": {
      "model_module": "@jupyter-widgets/base",
      "model_module_version": "1.0.0",
      "model_name": "LayoutModel",
      "state": {}
     },
     "654991dbf13042df81dda52cfb92c678": {
      "model_module": "@jupyter-widgets/base",
      "model_module_version": "1.0.0",
      "model_name": "LayoutModel",
      "state": {}
     },
     "668048b71b834f6884196164a255a4ea": {
      "model_module": "@jupyter-widgets/controls",
      "model_module_version": "1.0.0",
      "model_name": "LabelModel",
      "state": {
       "layout": "IPY_MODEL_e9b2e2cd164f4b10ab68fe0a1a891d3b",
       "style": "IPY_MODEL_329b1a33d3df46b1809c65e7dda02212",
       "value": "of 6999"
      }
     },
     "66d7548cb8e543edb841bd001fd54250": {
      "model_module": "@jupyter-widgets/controls",
      "model_module_version": "1.0.0",
      "model_name": "IntTextModel",
      "state": {
       "description": "Rightmost color maps to:",
       "layout": "IPY_MODEL_c2d63956ec4d45d7a97ffbf3a9a00214",
       "step": 1,
       "style": "IPY_MODEL_9759f8b3bc934d148993efa975c3e766",
       "value": 1
      }
     },
     "68c291dfdfc548dc96ecb5802955e401": {
      "model_module": "@jupyter-widgets/controls",
      "model_module_version": "1.0.0",
      "model_name": "IntTextModel",
      "state": {
       "description": "Leftmost color maps to:",
       "layout": "IPY_MODEL_ab1e4bf8edfc4d6da11f0369c7befd54",
       "step": 1,
       "style": "IPY_MODEL_3ea2e0d8902740e68fee7fecc182b437",
       "value": -1
      }
     },
     "68dad3abe5594f1ca5718733222d5684": {
      "model_module": "@jupyter-widgets/controls",
      "model_module_version": "1.0.0",
      "model_name": "DescriptionStyleModel",
      "state": {
       "description_width": "initial"
      }
     },
     "6a6c69b65b1d4bea9655e18b58d89f05": {
      "model_module": "@jupyter-widgets/controls",
      "model_module_version": "1.0.0",
      "model_name": "DescriptionStyleModel",
      "state": {
       "description_width": "initial"
      }
     },
     "6acf29811834461c9cca7cb562bc7507": {
      "model_module": "@jupyter-widgets/controls",
      "model_module_version": "1.0.0",
      "model_name": "IntTextModel",
      "state": {
       "description": "Horizontal space between banks:",
       "layout": "IPY_MODEL_5a83029a96f44ac297cdd24e5242d910",
       "step": 1,
       "style": "IPY_MODEL_6a6c69b65b1d4bea9655e18b58d89f05",
       "value": 150
      }
     },
     "6feb5e8bdd8d47658d5d9f8296226acd": {
      "model_module": "@jupyter-widgets/controls",
      "model_module_version": "1.0.0",
      "model_name": "IntTextModel",
      "state": {
       "description": "Leftmost color maps to:",
       "layout": "IPY_MODEL_54ad982bfcde471ba6c6c54c7f0dfa18",
       "step": 1,
       "style": "IPY_MODEL_840ddcfdc08d4a829fbdabd5015c4b73",
       "value": -1
      }
     },
     "7150412492c547cd835ee9336c1a83df": {
      "model_module": "@jupyter-widgets/controls",
      "model_module_version": "1.0.0",
      "model_name": "DescriptionStyleModel",
      "state": {
       "description_width": ""
      }
     },
     "756d50d407b14734bf5355a9593fd20b": {
      "model_module": "@jupyter-widgets/controls",
      "model_module_version": "1.0.0",
      "model_name": "IntTextModel",
      "state": {
       "description": "Leftmost color maps to:",
       "layout": "IPY_MODEL_5247cccb955a42d786cf9e2edb9da809",
       "step": 1,
       "style": "IPY_MODEL_80d86a6e91894848b17f4df6afa116a9",
       "value": -1
      }
     },
     "76e1c15bb86641799c25f0eeee9c9f92": {
      "model_module": "@jupyter-widgets/controls",
      "model_module_version": "1.0.0",
      "model_name": "VBoxModel",
      "state": {
       "children": [
        "IPY_MODEL_fc839b8cded948e78b6e21949fa7175b",
        "IPY_MODEL_5ffc7324d0be42a1bc0e4739451291a0",
        "IPY_MODEL_92aa7046ffde4f2580752805188dc8c2",
        "IPY_MODEL_3a4fb611719d4e6693e0835b591ba5a3"
       ],
       "layout": "IPY_MODEL_b938c3ee73ea4a759d5f5070ff9d87e6"
      }
     },
     "770bb4927ba340aa87797703f84822e2": {
      "model_module": "@jupyter-widgets/controls",
      "model_module_version": "1.0.0",
      "model_name": "DescriptionStyleModel",
      "state": {
       "description_width": ""
      }
     },
     "784380d67815426089b36cd1a152d251": {
      "model_module": "@jupyter-widgets/controls",
      "model_module_version": "1.0.0",
      "model_name": "VBoxModel",
      "state": {
       "children": [
        "IPY_MODEL_2b708748019040509b40f790f086b67a",
        "IPY_MODEL_4c553c15470848c1b809d71f6a3eac64",
        "IPY_MODEL_6acf29811834461c9cca7cb562bc7507",
        "IPY_MODEL_218bdddc92d64383805c724a70777e5a",
        "IPY_MODEL_bba33763e2a74508acee0ba1c3122b7f",
        "IPY_MODEL_1a8da0cc74dc465ea00e9c2d977e27ac",
        "IPY_MODEL_e09722cf1ac54a879fdb5655425ed1d5",
        "IPY_MODEL_e4108ae8f35545d8841449757abd9dc7"
       ],
       "layout": "IPY_MODEL_4e966579b3f14275bd8dd6aadd65a825"
      }
     },
     "79314fe11d7b4c9c91041c2205a6f1dc": {
      "model_module": "@jupyter-widgets/controls",
      "model_module_version": "1.0.0",
      "model_name": "DescriptionStyleModel",
      "state": {
       "description_width": "initial"
      }
     },
     "7ca48ebd7c994a2d94286f727ac09530": {
      "model_module": "@jupyter-widgets/controls",
      "model_module_version": "1.0.0",
      "model_name": "DescriptionStyleModel",
      "state": {
       "description_width": "initial"
      }
     },
     "7e1daf3398cf4bdc8c1ac06e2a6a22ad": {
      "model_module": "@jupyter-widgets/controls",
      "model_module_version": "1.0.0",
      "model_name": "DescriptionStyleModel",
      "state": {
       "description_width": "initial"
      }
     },
     "7eea1f27aa6b49079c94646c9f4b10b3": {
      "model_module": "@jupyter-widgets/controls",
      "model_module_version": "1.0.0",
      "model_name": "IntTextModel",
      "state": {
       "description": "Feature to show:",
       "layout": "IPY_MODEL_f4cf557f22e8487cbfae7c2cb73e488b",
       "step": 1,
       "style": "IPY_MODEL_84d601641d7248a58fd66d21794e1d66"
      }
     },
     "80bfcb878c2b41f9a30e8cd78eeed2ce": {
      "model_module": "@jupyter-widgets/controls",
      "model_module_version": "1.0.0",
      "model_name": "IntTextModel",
      "state": {
       "description": "Leftmost color maps to:",
       "layout": "IPY_MODEL_a1a0108e10e148c48c8414ace4f5f0aa",
       "step": 1,
       "style": "IPY_MODEL_7e1daf3398cf4bdc8c1ac06e2a6a22ad",
       "value": -1
      }
     },
     "80d86a6e91894848b17f4df6afa116a9": {
      "model_module": "@jupyter-widgets/controls",
      "model_module_version": "1.0.0",
      "model_name": "DescriptionStyleModel",
      "state": {
       "description_width": "initial"
      }
     },
     "81bc7097bbef4a9c8a508a0e1a78744e": {
      "model_module": "@jupyter-widgets/base",
      "model_module_version": "1.0.0",
      "model_name": "LayoutModel",
      "state": {
       "width": "100%"
      }
     },
     "836bbb8a70e6459ea9637b0d4b8ec1b2": {
      "model_module": "@jupyter-widgets/controls",
      "model_module_version": "1.0.0",
      "model_name": "DescriptionStyleModel",
      "state": {
       "description_width": ""
      }
     },
     "840ddcfdc08d4a829fbdabd5015c4b73": {
      "model_module": "@jupyter-widgets/controls",
      "model_module_version": "1.0.0",
      "model_name": "DescriptionStyleModel",
      "state": {
       "description_width": "initial"
      }
     },
     "848e1449022d41ac9c6e36309c673578": {
      "model_module": "@jupyter-widgets/controls",
      "model_module_version": "1.0.0",
      "model_name": "HBoxModel",
      "state": {
       "children": [
        "IPY_MODEL_756d50d407b14734bf5355a9593fd20b",
        "IPY_MODEL_4c3edbd0242240dbbc7b42927c2a6549"
       ],
       "layout": "IPY_MODEL_e8f831e10af24c1c9fba5e57d05de723"
      }
     },
     "84d601641d7248a58fd66d21794e1d66": {
      "model_module": "@jupyter-widgets/controls",
      "model_module_version": "1.0.0",
      "model_name": "DescriptionStyleModel",
      "state": {
       "description_width": "initial"
      }
     },
     "84e053f6f3ef47689113fb85ada39f0f": {
      "model_module": "@jupyter-widgets/base",
      "model_module_version": "1.0.0",
      "model_name": "LayoutModel",
      "state": {}
     },
     "855a9ee9f3bf4049a1293ecaa36b0bc0": {
      "model_module": "@jupyter-widgets/controls",
      "model_module_version": "1.0.0",
      "model_name": "HTMLModel",
      "state": {
       "layout": "IPY_MODEL_f8235a33a111480793eac664016aab03",
       "style": "IPY_MODEL_836bbb8a70e6459ea9637b0d4b8ec1b2",
       "value": "<img src=\"data:image/gif;base64,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\"/>"
      }
     },
     "85a4039c3b7a4d79abfa33502b393a5d": {
      "model_module": "@jupyter-widgets/base",
      "model_module_version": "1.0.0",
      "model_name": "LayoutModel",
      "state": {}
     },
     "85acc23eac2643e6aee5bd5f3d40e4dd": {
      "model_module": "@jupyter-widgets/base",
      "model_module_version": "1.0.0",
      "model_name": "LayoutModel",
      "state": {
       "width": "100%"
      }
     },
     "86c0d70d35054d76afa0abcf5956ab7a": {
      "model_module": "@jupyter-widgets/base",
      "model_module_version": "1.0.0",
      "model_name": "LayoutModel",
      "state": {}
     },
     "873d82c9550f477499d07f4ccabbf9fb": {
      "model_module": "@jupyter-widgets/base",
      "model_module_version": "1.0.0",
      "model_name": "LayoutModel",
      "state": {}
     },
     "875e3800b9c840a989c994a70dc4ebfa": {
      "model_module": "@jupyter-widgets/controls",
      "model_module_version": "1.0.0",
      "model_name": "DescriptionStyleModel",
      "state": {
       "description_width": ""
      }
     },
     "876474194f61446db2cb7aedcef16c4a": {
      "model_module": "@jupyter-widgets/controls",
      "model_module_version": "1.0.0",
      "model_name": "TabModel",
      "state": {
       "_titles": {
        "0": "Network",
        "1": "Configuration",
        "2": "Help"
       },
       "children": [
        "IPY_MODEL_8c813114ea934804b2b14f76c39b2ecc",
        "IPY_MODEL_59bcb7ad7b754048bab5f98db1ebd72e",
        "IPY_MODEL_3aa4a3952dd64efb92a87a65e68f51eb"
       ],
       "layout": "IPY_MODEL_654991dbf13042df81dda52cfb92c678"
      }
     },
     "88345b35810f49af93ad0ef30947f843": {
      "model_module": "@jupyter-widgets/controls",
      "model_module_version": "1.0.0",
      "model_name": "HTMLModel",
      "state": {
       "layout": "IPY_MODEL_f2345d733e14434b995510802933d085",
       "style": "IPY_MODEL_242f72fa47324149bc6f4468bea315d2",
       "value": "<p style=\"text-align:center\"><svg id='Auto-Encoding with Conv' xmlns='http://www.w3.org/2000/svg' viewBox=\"0 0 350 785\" height=\"780\" image-rendering=\"pixelated\">\n    <defs>\n        <marker id=\"arrow\" markerWidth=\"10\" markerHeight=\"10\" refX=\"9\" refY=\"3\" orient=\"auto\" markerUnits=\"strokeWidth\">\n          <path d=\"M0,0 L0,6 L9,3 z\" fill=\"black\" />\n        </marker>\n    </defs><text x=\"175.0\" y=\"12.5\" font-family=\"monospace\" font-size=\"15\" text-anchor=\"middle\" alignment-baseline=\"central\">Auto-Encoding with Conv</text><rect x=\"74.0\" y=\"29\" width=\"202\" height=\"202\" style=\"fill:none;stroke:black;stroke-width:2\"/><image id=\"Auto-Encoding with Conv_output_8\" class=\"Auto-Encoding with Conv_output\" x=\"75.0\" y=\"30\" height=\"200\" width=\"200\" preserveAspectRatio=\"none\" href=\"data:image/gif;base64,R0lGODdhHAAcAIcAAP79/enp/8vL/2lp/6Gh/729/wAAAAAAAAAAAAAAAAAAAAAAAAAAAAAAAAAAAAAAAAAAAAAAAAAAAAAAAAAAAAAAAAAAAAAAAAAAAAAAAAAAAAAAAAAAAAAAAAAAAAAAAAAAAAAAAAAAAAAAAAAAAAAAAAAAAAAAAAAAAAAAAAAAAAAAAAAAAAAAAAAAAAAAAAAAAAAAAAAAAAAAAAAAAAAAAAAAAAAAAAAAAAAAAAAAAAAAAAAAAAAAAAAAAAAAAAAAAAAAAAAAAAAAAAAAAAAAAAAAAAAAAAAAAAAAAAAAAAAAAAAAAAAAAAAAAAAAAAAAAAAAAAAAAAAAAAAAAAAAAAAAAAAAAAAAAAAAAAAAAAAAAAAAAAAAAAAAAAAAAAAAAAAAAAAAAAAAAAAAAAAAAAAAAAAAAAAAAAAAAAAAAAAAAAAAAAAAAAAAAAAAAAAAAAAAAAAAAAAAAAAAAAAAAAAAAAAAAAAAAAAAAAAAAAAAAAAAAAAAAAAAAAAAAAAAAAAAAAAAAAAAAAAAAAAAAAAAAAAAAAAAAAAAAAAAAAAAAAAAAAAAAAAAAAAAAAAAAAAAAAAAAAAAAAAAAAAAAAAAAAAAAAAAAAAAAAAAAAAAAAAAAAAAAAAAAAAAAAAAAAAAAAAAAAAAAAAAAAAAAAAAAAAAAAAAAAAAAAAAAAAAAAAAAAAAAAAAAAAAAAAAAAAAAAAAAAAAAAAAAAAAAAAAAAAAAAAAAAAAAAAAAAAAAAAAAAAAAAAAAAAAAAAAAAAAAAAAAAAAAAAAAAAAAAAAAAAAAAAAAAAAAAAAAAAAAAAAAAAAAAAAAAAAAAAAAAAAAAAAAAAAAAAAAAAAAAAAAAAAAAAAAAAAAAAAAAAAAAAAAAAAAAAAAAAAAAAAAAAAAAAAAAAAAAAAAAAAAAAAAAAAAAAAAAAAAAAAAAAAAAAAAAAAAAAAAAAAAAAAAAAAAAAAAAAAAAAAAAAAAAAAAAAAAAAAAAAAAAAAAAAAAAAAAAAAAAAAAAAAACwAAAAAHAAcAEAIgQABCBxIsKDBgwgJFhgAoKHDhxAjSpxIsaLFixgzatzIsaPHiQIAiBxJsqTJkyhTqlzJsqVLkQEAyJxJs6bNmzhz6tzJs6fPn0BpEgAAQACAo0iTKl3KtKnTp1CjSp3KNACAq1izat3KtavXr2DDBgBAtqzZs2jTql3Ltq3bt2oDAgA7\"><title>Layer: output (output)\n shape = (784,)\n Keras class = Dense\n activation = softmax</title></image><text x=\"280.0\" y=\"132.0\" font-family=\"monospace\" font-size=\"12\" text-anchor=\"start\" alignment-baseline=\"central\">output</text><line x1=\"175.0\" y1=\"259\" x2=\"175.0\" y2=\"232\" stroke=\"black\" stroke-width=\"2\" marker-end=\"url(#arrow)\"><title>Weights from flatten to output\n output/kernel has shape (2112, 784)\n output/bias has shape (784,)</title></line><rect x=\"74.0\" y=\"259\" width=\"202\" height=\"27\" style=\"fill:none;stroke:black;stroke-width:2\"/><image id=\"Auto-Encoding with Conv_flatten_9\" class=\"Auto-Encoding with Conv_flatten\" x=\"75.0\" y=\"260\" height=\"25\" width=\"200\" preserveAspectRatio=\"none\" href=\"data:image/gif;base64,R0lGODdhQAgBAIcAAP78/QAATQEB8gAArwAA0AAAkAAAbmdn/zU1/1dX/3h4/0VF/6en/xcX/5aW/8bG/yYm/7a2/4eH/+bm/9bW/wAAAAAAAAAAAAAAAAAAAAAAAAAAAAAAAAAAAAAAAAAAAAAAAAAAAAAAAAAAAAAAAAAAAAAAAAAAAAAAAAAAAAAAAAAAAAAAAAAAAAAAAAAAAAAAAAAAAAAAAAAAAAAAAAAAAAAAAAAAAAAAAAAAAAAAAAAAAAAAAAAAAAAAAAAAAAAAAAAAAAAAAAAAAAAAAAAAAAAAAAAAAAAAAAAAAAAAAAAAAAAAAAAAAAAAAAAAAAAAAAAAAAAAAAAAAAAAAAAAAAAAAAAAAAAAAAAAAAAAAAAAAAAAAAAAAAAAAAAAAAAAAAAAAAAAAAAAAAAAAAAAAAAAAAAAAAAAAAAAAAAAAAAAAAAAAAAAAAAAAAAAAAAAAAAAAAAAAAAAAAAAAAAAAAAAAAAAAAAAAAAAAAAAAAAAAAAAAAAAAAAAAAAAAAAAAAAAAAAAAAAAAAAAAAAAAAAAAAAAAAAAAAAAAAAAAAAAAAAAAAAAAAAAAAAAAAAAAAAAAAAAAAAAAAAAAAAAAAAAAAAAAAAAAAAAAAAAAAAAAAAAAAAAAAAAAAAAAAAAAAAAAAAAAAAAAAAAAAAAAAAAAAAAAAAAAAAAAAAAAAAAAAAAAAAAAAAAAAAAAAAAAAAAAAAAAAAAAAAAAAAAAAAAAAAAAAAAAAAAAAAAAAAAAAAAAAAAAAAAAAAAAAAAAAAAAAAAAAAAAAAAAAAAAAAAAAAAAAAAAAAAAAAAAAAAAAAAAAAAAAAAAAAAAAAAAAAAAAAAAAAAAAAAAAAAAAAAAAAAAAAAAAAAAAAAAAAAAAAAAAAAAAAAAAAAAAAAAAAAAAAAAAAAAAAAAAAAAAAAAAAAAAAAAAAAAAAAAAAAAAAAAAAAAAAAAAAAAAAAAAAAAAAAAAAAAAAAAAAAAAAAAAAAAAAAAAAAAAAAAAAAAAAAAAAAAAAAAAAAACwAAAAAQAgBAAAI/wANEJBQYMCBBQAKAFjI8ACAAQkoAJBwQAAAAAIWFAhwAEABCQEIBAAgAAGCAQQACDBQIMIAAgUCDBDQAACBBAQANHhQAAAACQEOCHgQoAGBAQIABACQAEAAAA4ABCDwgIADAAASAAgAAIAAAAAENAAQwMEAAA0eACAAIECABAYEADDQgMEBAhIcABggAACACAAABBDAIECAAgIABADAmLEDBwAKQFAwoQABBwAgDEAQIMABAAYABBgNoMGAAgMCAAjAeoCBAgQCBChgAMAAAQMASEBgQACAAwEMFDgQwEABAwIABACgAECBCQAABChQIMADAAIUAAiwAEAAAAAgEP8AYEBAgAEIHAAIACDAAAEGCiwI4ADCgAIKEgAIUAAAAIADAAAIQACAgQAGBgAIAIDAAgAAFDQAICDBAgAGCABAYIAAgAABBAwIACBAAAQAJBQIIKAAgAAxDRgYQGBAAAIFABQQAMAnAQMBAAwwUDTCggACBggAMADA0wgGAAAwUKCAAQAADAAAEEAAgAAFHgAYAEBAgQABGEAAEACAAAcGBAwQEABAAAEFHiwAEGAAAAcGABQIkADAgAADBgAIAGDAAQACECQA0AAAAAkCEAAYMOABAAgBCAQIACBAAAEADgwwsMAAgAADChAgAGGAgAATCjhIACECAAACBgQAUOD/gYAAABYQYL4AgAEA0QEEQACggIEEAgAAMAAAQAAEAAIEEOBAAAAAAQQEoIAAQAEAAgAEoDCgQAIAARAIoHAAAMAADAAIGAAgQIEAAAgIMBAgQQQABgAAiAAhAAACAABIaCAggAMFDCIEAPCgQQAAARYMAAAggoACEwAkCGCAggAGBAwYECABAoAEAAAgYBAgAIABACIsAECgAIEGBQAEoADgKoEAAAoMAABAAAABAAAYOAAgAIEGBRZMAEAAgAAAEwAIAEAAQAEAegE4CMDAQIIGAAIUACAAAIAAAwI0MCAgQQAEAAAEiACgwIAAAAQEABBAgIEAAQwIQBCAQoAA/wQIBGgNYIAAAwEUAABQwAAAAgAC8A5ggAAFABIAEBAQIAAAAw0UBFAQoIGBBgMABBBwAMADAgEABDAAAAABAAcAAAhQAEAACAYCQAAwoMCBAgIQAKgfgEGABQoEAHAQACCEABAEAAgQAECACQAEHBiAYMAEBgEcAAAQQAGAAAMKABAwAEAAAgUEBAiAAIKABwECGChQIEAAAAUSCCBAAQCABgIYSADQQEEAoQMAABAAQMECBQEAHDjgIIAAAw8QHHAAAEIAAQAMBAgAIEABBQAEABggAQABAwACFAgQoAEAAgUgBCCwAEBeBwQGSDgwIMCDAAQGLBAAwMAAAAECAP9AMEGAgggHACwYAABAgAQADDwQAACCgQIFBihoEEAAAAYEABQI8BpAAwcADiRQoABA7twSAChgAABBAQQDADyQAMDBAQABADAAkCCAgggEHkQAcD0AAgADAgQAMGBBAwASAAh4AEDCAAAPBgQIQAFAhAcSAjCgAAACAAAQHAAAAFBAAAYBCBw4QCHCgQUAAhQAQABAAgYMFAiIACDjgAcACiggAEAAgJEOACQQ4AAAAAYTFggQACDmAQkAADwQAADABAcOAPgUwEABBAACAFAAgPSBggEAHgCI4AAAAAIPKAAAMEEABQAACAQAAODBAwAQACQAQOEAAwATHBRwIGH/AoC5AgDYbQAAgIQJAPpOAEDhAAIEEQAQEAAgAAUABAYYKDAAwQEFBgAACJAAgIECBQAEMIDgwIEIAhBAEHAgQIQGEAwkECAhAAAFAAgUQAAAgAADABAkMGBAwAECBRQkaACAQAIDBAAsYMDAAIAAAQQIkADAAAEAAAQICABggYEJAAIAcACAwgEKAARMCJBAAIAJECIkEAAAwAEACBQgAAgAwAMAAQIICABBAAACDQAEAACAgIEAAQgAAPAgQAQACBIACCBgAoACAQgIYBBAwYEBBQgEOGAgQoEAAgYEAFDAAAEBAgAAIFBAgIEBAwwcGBBggIIEBgAESEAgAoAF/wsEBBAQAIAABAsABFgQAUAAAAEABDCQoAEBAAAIAGggAEABAAMKNABQAEEAAAMKACgAoEAABQgmFAiQ2MAABwIAACgAQEAAAAAYMAAgQAADCgYEABCgAMADCAAAQAhwQIIAAxEKCCAQIQCBBQIYBJgQIAKABQEiAFgAQACABAYGEAAAAAEBAREAREgA4AEEAAsAHHBQIAABAAIATAAQfkACAAYGLAAwgIGCAQAACGAAYEEBAAsQBBigAAAEAAEKAERQAIABAAAEAFCQgEAABQQKQBAwgcIBAwAABAAA4MEAAgoYAABAQAAAAQoABCAAAAACAQYAAEAgoMGDAQcWBP9AoADAAAYADgAYMACABAAAFkwYICGAgAMMADR4ACFBhAEAFABwAADAhAANBjBoAAAAAwAAKARYACAAgAAAChxYQKAAAAAQEADImzfAAAAAAkQIAGCCAwABACQIAIDAAwABBkxAkGCCBACWAQRgAABAggACCAQI8KBAAAADAAAgIIAAAAIKAgAQMMAAgwkEEhgIoADAggQAIlAAsKAAAAIPAARQUEBAAAMQHgwoAEBCgQENAAgQAGD7ggADCABAYADAAQYAKAQ4ACAAgAAADEgwUCAAAAgUKBggACABgAABADYAMABAAAAUKAAIACBBAQACHgAIQABAAQIEFAAoEAD/gAACAAAICADAQIAACAIEAHCAAACXBgAgCBDAwIAABgAQEIAgQAABAgooIFBAAAAGBwoYEAAggIQCAgQMMOAgQAABEwgQAABAAAGvAAQQICDggIAABAYMAIAAQFsAAwIACCCgAAQEAAwAABBgAIAAARwECABAQIABAQQIABAAAIAJDBoMQDAAgoEAAQY8ABAgAAAADgAEEAAgQoACDhZAGABgwAAABhYIAAAgAIACBAIIKGDgwIMJAgwEdyAgAAMABgQYaBAAgAAABwgwOLDggAEBASQcmNAAAAACAgIAaABAQAABBAoIICABwAAHDAAICOAAQIEBEiIAAEAAAgABLAADAEAQAAIBAQAeBGgQQMEBABApQCBAQcCAAAACCBiwAACAAAEAMAgAwEBAADs=\"><title>Layer: flatten (hidden)\n Keras class = Flatten</title></image><text x=\"280.0\" y=\"274.5\" font-family=\"monospace\" font-size=\"12\" text-anchor=\"start\" alignment-baseline=\"central\">flatten</text><line x1=\"175.0\" y1=\"314\" x2=\"175.0\" y2=\"287\" stroke=\"black\" stroke-width=\"2\" marker-end=\"url(#arrow)\"><title>Weights from maxpool2 to flatten</title></line><rect x=\"74.0\" y=\"314\" width=\"202\" height=\"52\" style=\"fill:none;stroke:black;stroke-width:2\"/><image id=\"Auto-Encoding with Conv_maxpool2_10\" class=\"Auto-Encoding with Conv_maxpool2\" x=\"75.0\" y=\"315\" height=\"50\" width=\"200\" preserveAspectRatio=\"none\" href=\"data:image/gif;base64,R0lGODdhBAABAIcAAAAAdgAAj83N///9/QAAAAAAAAAAAAAAAAAAAAAAAAAAAAAAAAAAAAAAAAAAAAAAAAAAAAAAAAAAAAAAAAAAAAAAAAAAAAAAAAAAAAAAAAAAAAAAAAAAAAAAAAAAAAAAAAAAAAAAAAAAAAAAAAAAAAAAAAAAAAAAAAAAAAAAAAAAAAAAAAAAAAAAAAAAAAAAAAAAAAAAAAAAAAAAAAAAAAAAAAAAAAAAAAAAAAAAAAAAAAAAAAAAAAAAAAAAAAAAAAAAAAAAAAAAAAAAAAAAAAAAAAAAAAAAAAAAAAAAAAAAAAAAAAAAAAAAAAAAAAAAAAAAAAAAAAAAAAAAAAAAAAAAAAAAAAAAAAAAAAAAAAAAAAAAAAAAAAAAAAAAAAAAAAAAAAAAAAAAAAAAAAAAAAAAAAAAAAAAAAAAAAAAAAAAAAAAAAAAAAAAAAAAAAAAAAAAAAAAAAAAAAAAAAAAAAAAAAAAAAAAAAAAAAAAAAAAAAAAAAAAAAAAAAAAAAAAAAAAAAAAAAAAAAAAAAAAAAAAAAAAAAAAAAAAAAAAAAAAAAAAAAAAAAAAAAAAAAAAAAAAAAAAAAAAAAAAAAAAAAAAAAAAAAAAAAAAAAAAAAAAAAAAAAAAAAAAAAAAAAAAAAAAAAAAAAAAAAAAAAAAAAAAAAAAAAAAAAAAAAAAAAAAAAAAAAAAAAAAAAAAAAAAAAAAAAAAAAAAAAAAAAAAAAAAAAAAAAAAAAAAAAAAAAAAAAAAAAAAAAAAAAAAAAAAAAAAAAAAAAAAAAAAAAAAAAAAAAAAAAAAAAAAAAAAAAAAAAAAAAAAAAAAAAAAAAAAAAAAAAAAAAAAAAAAAAAAAAAAAAAAAAAAAAAAAAAAAAAAAAAAAAAAAAAAAAAAAAAAAAAAAAAAAAAAAAAAAAAAAAAAAAAAAAAAAAAAAAAAAAAAAAAAAAAAAAAAAAAAAAAAAAAAAAAAAAAAAAAAAAAAAAAAAAAAAAAAAAAAAAAAAAAAAAAAAAAAAAAAAAAAAAAAACwAAAAABAABAAAIBwABBBggICAAOw==\"><title>Layer: maxpool2 (hidden)\n Keras class = MaxPooling2D</title></image><text x=\"280.0\" y=\"342.0\" font-family=\"monospace\" font-size=\"12\" text-anchor=\"start\" alignment-baseline=\"central\">maxpool2</text><text x=\"280.0\" y=\"320\" font-family=\"monospace\" font-size=\"12\" text-anchor=\"start\" alignment-baseline=\"central\">132</text><text x=\"63.0\" y=\"360\" font-family=\"monospace\" font-size=\"12\" text-anchor=\"start\" alignment-baseline=\"central\">0</text><line x1=\"175.0\" y1=\"394\" x2=\"175.0\" y2=\"367\" stroke=\"black\" stroke-width=\"2\" marker-end=\"url(#arrow)\"><title>Weights from Conv2D-2 to maxpool2</title></line><rect x=\"74.0\" y=\"394\" width=\"202\" height=\"27\" style=\"fill:none;stroke:black;stroke-width:2\"/><image id=\"Auto-Encoding with Conv_Conv2D-2_11\" class=\"Auto-Encoding with Conv_Conv2D-2\" x=\"75.0\" y=\"395\" height=\"25\" width=\"200\" preserveAspectRatio=\"none\" href=\"data:image/gif;base64,R0lGODdhCAABAIcAAPz7/QAA0AgI/9HR/wAAAAAAAAAAAAAAAAAAAAAAAAAAAAAAAAAAAAAAAAAAAAAAAAAAAAAAAAAAAAAAAAAAAAAAAAAAAAAAAAAAAAAAAAAAAAAAAAAAAAAAAAAAAAAAAAAAAAAAAAAAAAAAAAAAAAAAAAAAAAAAAAAAAAAAAAAAAAAAAAAAAAAAAAAAAAAAAAAAAAAAAAAAAAAAAAAAAAAAAAAAAAAAAAAAAAAAAAAAAAAAAAAAAAAAAAAAAAAAAAAAAAAAAAAAAAAAAAAAAAAAAAAAAAAAAAAAAAAAAAAAAAAAAAAAAAAAAAAAAAAAAAAAAAAAAAAAAAAAAAAAAAAAAAAAAAAAAAAAAAAAAAAAAAAAAAAAAAAAAAAAAAAAAAAAAAAAAAAAAAAAAAAAAAAAAAAAAAAAAAAAAAAAAAAAAAAAAAAAAAAAAAAAAAAAAAAAAAAAAAAAAAAAAAAAAAAAAAAAAAAAAAAAAAAAAAAAAAAAAAAAAAAAAAAAAAAAAAAAAAAAAAAAAAAAAAAAAAAAAAAAAAAAAAAAAAAAAAAAAAAAAAAAAAAAAAAAAAAAAAAAAAAAAAAAAAAAAAAAAAAAAAAAAAAAAAAAAAAAAAAAAAAAAAAAAAAAAAAAAAAAAAAAAAAAAAAAAAAAAAAAAAAAAAAAAAAAAAAAAAAAAAAAAAAAAAAAAAAAAAAAAAAAAAAAAAAAAAAAAAAAAAAAAAAAAAAAAAAAAAAAAAAAAAAAAAAAAAAAAAAAAAAAAAAAAAAAAAAAAAAAAAAAAAAAAAAAAAAAAAAAAAAAAAAAAAAAAAAAAAAAAAAAAAAAAAAAAAAAAAAAAAAAAAAAAAAAAAAAAAAAAAAAAAAAAAAAAAAAAAAAAAAAAAAAAAAAAAAAAAAAAAAAAAAAAAAAAAAAAAAAAAAAAAAAAAAAAAAAAAAAAAAAAAAAAAAAAAAAAAAAAAAAAAAAAAAAAAAAAAAAAAAAAAAAAAAAAAAAAAAAAAAAAAAAAAAAAAAAAAAAAAAAACwAAAAACAABAAAICwABBBAAoCCAAQEBADs=\"><title>Layer: Conv2D-2 (hidden)\n Keras class = Conv2D\n activation = relu</title></image><text x=\"280.0\" y=\"409.5\" font-family=\"monospace\" font-size=\"12\" text-anchor=\"start\" alignment-baseline=\"central\">Conv2D-2</text><text x=\"280.0\" y=\"400\" font-family=\"monospace\" font-size=\"12\" text-anchor=\"start\" alignment-baseline=\"central\">132</text><text x=\"63.0\" y=\"415\" font-family=\"monospace\" font-size=\"12\" text-anchor=\"start\" alignment-baseline=\"central\">0</text><line x1=\"175.0\" y1=\"449\" x2=\"175.0\" y2=\"422\" stroke=\"black\" stroke-width=\"2\" marker-end=\"url(#arrow)\"><title>Weights from maxpool1 to Conv2D-2\n Conv2D-2/kernel has shape (5, 5, 16, 132)\n Conv2D-2/bias has shape (132,)</title></line><rect x=\"74.0\" y=\"449\" width=\"202\" height=\"27\" style=\"fill:none;stroke:black;stroke-width:2\"/><image id=\"Auto-Encoding with Conv_maxpool1_12\" class=\"Auto-Encoding with Conv_maxpool1\" x=\"75.0\" y=\"450\" height=\"25\" width=\"200\" preserveAspectRatio=\"none\" href=\"data:image/gif;base64,R0lGODdhDAABAIcAAP/9/Z2d/wAAAAAAAAAAAAAAAAAAAAAAAAAAAAAAAAAAAAAAAAAAAAAAAAAAAAAAAAAAAAAAAAAAAAAAAAAAAAAAAAAAAAAAAAAAAAAAAAAAAAAAAAAAAAAAAAAAAAAAAAAAAAAAAAAAAAAAAAAAAAAAAAAAAAAAAAAAAAAAAAAAAAAAAAAAAAAAAAAAAAAAAAAAAAAAAAAAAAAAAAAAAAAAAAAAAAAAAAAAAAAAAAAAAAAAAAAAAAAAAAAAAAAAAAAAAAAAAAAAAAAAAAAAAAAAAAAAAAAAAAAAAAAAAAAAAAAAAAAAAAAAAAAAAAAAAAAAAAAAAAAAAAAAAAAAAAAAAAAAAAAAAAAAAAAAAAAAAAAAAAAAAAAAAAAAAAAAAAAAAAAAAAAAAAAAAAAAAAAAAAAAAAAAAAAAAAAAAAAAAAAAAAAAAAAAAAAAAAAAAAAAAAAAAAAAAAAAAAAAAAAAAAAAAAAAAAAAAAAAAAAAAAAAAAAAAAAAAAAAAAAAAAAAAAAAAAAAAAAAAAAAAAAAAAAAAAAAAAAAAAAAAAAAAAAAAAAAAAAAAAAAAAAAAAAAAAAAAAAAAAAAAAAAAAAAAAAAAAAAAAAAAAAAAAAAAAAAAAAAAAAAAAAAAAAAAAAAAAAAAAAAAAAAAAAAAAAAAAAAAAAAAAAAAAAAAAAAAAAAAAAAAAAAAAAAAAAAAAAAAAAAAAAAAAAAAAAAAAAAAAAAAAAAAAAAAAAAAAAAAAAAAAAAAAAAAAAAAAAAAAAAAAAAAAAAAAAAAAAAAAAAAAAAAAAAAAAAAAAAAAAAAAAAAAAAAAAAAAAAAAAAAAAAAAAAAAAAAAAAAAAAAAAAAAAAAAAAAAAAAAAAAAAAAAAAAAAAAAAAAAAAAAAAAAAAAAAAAAAAAAAAAAAAAAAAAAAAAAAAAAAAAAAAAAAAAAAAAAAAAAAAAAAAAAAAAAAAAAAAAAAAAAAAAAAAAAAAAAAAAAAAAAAAAAAAAAAAAAAAAAAAAAAAAAAAAAAAACwAAAAADAABAAAICQABCBxIEECAgAA7\"><title>Layer: maxpool1 (hidden)\n Keras class = MaxPooling2D</title></image><text x=\"280.0\" y=\"464.5\" font-family=\"monospace\" font-size=\"12\" text-anchor=\"start\" alignment-baseline=\"central\">maxpool1</text><text x=\"280.0\" y=\"455\" font-family=\"monospace\" font-size=\"12\" text-anchor=\"start\" alignment-baseline=\"central\">16</text><text x=\"63.0\" y=\"470\" font-family=\"monospace\" font-size=\"12\" text-anchor=\"start\" alignment-baseline=\"central\">0</text><line x1=\"175.0\" y1=\"504\" x2=\"175.0\" y2=\"477\" stroke=\"black\" stroke-width=\"2\" marker-end=\"url(#arrow)\"><title>Weights from Conv2D-1 to maxpool1</title></line><rect x=\"74.0\" y=\"504\" width=\"202\" height=\"27\" style=\"fill:none;stroke:black;stroke-width:2\"/><image id=\"Auto-Encoding with Conv_Conv2D-1_13\" class=\"Auto-Encoding with Conv_Conv2D-1\" x=\"75.0\" y=\"505\" height=\"25\" width=\"200\" preserveAspectRatio=\"none\" href=\"data:image/gif;base64,R0lGODdhGAABAIcAAP/9/d3d/+Xl/wAAAAAAAAAAAAAAAAAAAAAAAAAAAAAAAAAAAAAAAAAAAAAAAAAAAAAAAAAAAAAAAAAAAAAAAAAAAAAAAAAAAAAAAAAAAAAAAAAAAAAAAAAAAAAAAAAAAAAAAAAAAAAAAAAAAAAAAAAAAAAAAAAAAAAAAAAAAAAAAAAAAAAAAAAAAAAAAAAAAAAAAAAAAAAAAAAAAAAAAAAAAAAAAAAAAAAAAAAAAAAAAAAAAAAAAAAAAAAAAAAAAAAAAAAAAAAAAAAAAAAAAAAAAAAAAAAAAAAAAAAAAAAAAAAAAAAAAAAAAAAAAAAAAAAAAAAAAAAAAAAAAAAAAAAAAAAAAAAAAAAAAAAAAAAAAAAAAAAAAAAAAAAAAAAAAAAAAAAAAAAAAAAAAAAAAAAAAAAAAAAAAAAAAAAAAAAAAAAAAAAAAAAAAAAAAAAAAAAAAAAAAAAAAAAAAAAAAAAAAAAAAAAAAAAAAAAAAAAAAAAAAAAAAAAAAAAAAAAAAAAAAAAAAAAAAAAAAAAAAAAAAAAAAAAAAAAAAAAAAAAAAAAAAAAAAAAAAAAAAAAAAAAAAAAAAAAAAAAAAAAAAAAAAAAAAAAAAAAAAAAAAAAAAAAAAAAAAAAAAAAAAAAAAAAAAAAAAAAAAAAAAAAAAAAAAAAAAAAAAAAAAAAAAAAAAAAAAAAAAAAAAAAAAAAAAAAAAAAAAAAAAAAAAAAAAAAAAAAAAAAAAAAAAAAAAAAAAAAAAAAAAAAAAAAAAAAAAAAAAAAAAAAAAAAAAAAAAAAAAAAAAAAAAAAAAAAAAAAAAAAAAAAAAAAAAAAAAAAAAAAAAAAAAAAAAAAAAAAAAAAAAAAAAAAAAAAAAAAAAAAAAAAAAAAAAAAAAAAAAAAAAAAAAAAAAAAAAAAAAAAAAAAAAAAAAAAAAAAAAAAAAAAAAAAAAAAAAAAAAAAAAAAAAAAAAAAAAAAAAAAAAAAAAAAAAAAAAAAAAAAAAAAAAAAAAAAAAAAAAAAAAAAAAAAAACwAAAAAGAABAAAIDQABCBxIsKBBAAEEBAQAOw==\"><title>Layer: Conv2D-1 (hidden)\n Keras class = Conv2D\n activation = relu</title></image><text x=\"280.0\" y=\"519.5\" font-family=\"monospace\" font-size=\"12\" text-anchor=\"start\" alignment-baseline=\"central\">Conv2D-1</text><text x=\"280.0\" y=\"510\" font-family=\"monospace\" font-size=\"12\" text-anchor=\"start\" alignment-baseline=\"central\">16</text><text x=\"63.0\" y=\"525\" font-family=\"monospace\" font-size=\"12\" text-anchor=\"start\" alignment-baseline=\"central\">0</text><line x1=\"175.0\" y1=\"559\" x2=\"175.0\" y2=\"532\" stroke=\"black\" stroke-width=\"2\" marker-end=\"url(#arrow)\"><title>Weights from input to Conv2D-1\n Conv2D-1/kernel has shape (5, 5, 1, 16)\n Conv2D-1/bias has shape (16,)</title></line><rect x=\"74.0\" y=\"559\" width=\"202\" height=\"202\" style=\"fill:none;stroke:black;stroke-width:2\"/><image id=\"Auto-Encoding with Conv_input_14\" class=\"Auto-Encoding with Conv_input\" x=\"75.0\" y=\"560\" height=\"200\" width=\"200\" preserveAspectRatio=\"none\" href=\"data:image/gif;base64,R0lGODdhHAAcAIcAAAoAAP//9jAAAP/8DP//z00AANcAAPMAAG4AAI0AAP+aAP9nAP/MAP//jbMAAP9yAP/pAP//T///c/8lAP9XAP+qAP//Mv82AP9EAP+/AP/WAP//vAAAAAAAAAAAAAAAAAAAAAAAAAAAAAAAAAAAAAAAAAAAAAAAAAAAAAAAAAAAAAAAAAAAAAAAAAAAAAAAAAAAAAAAAAAAAAAAAAAAAAAAAAAAAAAAAAAAAAAAAAAAAAAAAAAAAAAAAAAAAAAAAAAAAAAAAAAAAAAAAAAAAAAAAAAAAAAAAAAAAAAAAAAAAAAAAAAAAAAAAAAAAAAAAAAAAAAAAAAAAAAAAAAAAAAAAAAAAAAAAAAAAAAAAAAAAAAAAAAAAAAAAAAAAAAAAAAAAAAAAAAAAAAAAAAAAAAAAAAAAAAAAAAAAAAAAAAAAAAAAAAAAAAAAAAAAAAAAAAAAAAAAAAAAAAAAAAAAAAAAAAAAAAAAAAAAAAAAAAAAAAAAAAAAAAAAAAAAAAAAAAAAAAAAAAAAAAAAAAAAAAAAAAAAAAAAAAAAAAAAAAAAAAAAAAAAAAAAAAAAAAAAAAAAAAAAAAAAAAAAAAAAAAAAAAAAAAAAAAAAAAAAAAAAAAAAAAAAAAAAAAAAAAAAAAAAAAAAAAAAAAAAAAAAAAAAAAAAAAAAAAAAAAAAAAAAAAAAAAAAAAAAAAAAAAAAAAAAAAAAAAAAAAAAAAAAAAAAAAAAAAAAAAAAAAAAAAAAAAAAAAAAAAAAAAAAAAAAAAAAAAAAAAAAAAAAAAAAAAAAAAAAAAAAAAAAAAAAAAAAAAAAAAAAAAAAAAAAAAAAAAAAAAAAAAAAAAAAAAAAAAAAAAAAAAAAAAAAAAAAAAAAAAAAAAAAAAAAAAAAAAAAAAAAAAAAAAAAAAAAAAAAAAAAAAAAAAAAAAAAAAAAAAAAAAAAAAAAAAAAAAAAAAAAAAAAAAAAAAAAAAAAAAAAAAAAAAAAAAAAAAAAAAAAAAAAAAAAAAAAAAAAAAAAAAAACwAAAAAHAAcAEAI/wABCBxIsKDBgwcFSAjAkOEACAQIAJhIsaLFixUFHAgQYACAjyBDfnwQoGSEBQsEAFjJsqXLlzBjypwpYEAAAwBy6tzJs2fOAhckBBgawIIBAEiTKl3KtKnTpwUQHFDAIIBVqw0YBCAwwAGAr2DDghUAQEGAAwDSql3Ltm1bAwQCBMBQAIDdu3jz6rWbYAGEAAEiABhMuHBhAQwkBFgcYIABAQAiS55MubLly5gza97MufNkAaApPNBQIEMAAhQAqF7NGkCCDQFiy5Z9oHYCBABy696t20CFCQECWBAAAIECAMiTK1/O/EGAAQCiS59OvTp1BAQaVJgAoLv37+DDf1FPMCBAAAUFAKhfz769e/YB4jsAQL++/fv2EShoEKB/AIAQAAwkWNAggAIOIgRgGGCAAQARJU6kmIBBgwAZAxBYIADAR5AhRY4kWdLkSZQhAwIAOw==\"><title>Layer: input (input)\n shape = (28, 28, 1)\n Keras class = Input</title></image><text x=\"280.0\" y=\"662.0\" font-family=\"monospace\" font-size=\"12\" text-anchor=\"start\" alignment-baseline=\"central\">input</text><text x=\"280.0\" y=\"565\" font-family=\"monospace\" font-size=\"12\" text-anchor=\"start\" alignment-baseline=\"central\">1</text><text x=\"63.0\" y=\"755\" font-family=\"monospace\" font-size=\"12\" text-anchor=\"start\" alignment-baseline=\"central\">0</text></svg></p>"
      }
     },
     "88451da1f89344449656d9358b4be65f": {
      "model_module": "@jupyter-widgets/controls",
      "model_module_version": "1.0.0",
      "model_name": "DescriptionStyleModel",
      "state": {
       "description_width": ""
      }
     },
     "89298f2ef16448a28147108ba03bceed": {
      "model_module": "@jupyter-widgets/base",
      "model_module_version": "1.0.0",
      "model_name": "LayoutModel",
      "state": {
       "width": "95%"
      }
     },
     "899954bfe9c244948f178a8753fce855": {
      "model_module": "@jupyter-widgets/controls",
      "model_module_version": "1.0.0",
      "model_name": "HBoxModel",
      "state": {
       "children": [
        "IPY_MODEL_80bfcb878c2b41f9a30e8cd78eeed2ce",
        "IPY_MODEL_fe4bc8d6deb349e4b5b5b7d3c3207c26"
       ],
       "layout": "IPY_MODEL_2f14844d77ad4feb8355a4655c2cc3bb"
      }
     },
     "8a58b82c58374dd3bc5923d238fa32d6": {
      "model_module": "@jupyter-widgets/controls",
      "model_module_version": "1.0.0",
      "model_name": "HBoxModel",
      "state": {
       "children": [
        "IPY_MODEL_ec7ea40c050041c7affd4dd169a85881",
        "IPY_MODEL_548b915314a5449e9315d9a90c7698dc"
       ],
       "layout": "IPY_MODEL_1fa26339d5f54e5490923c02b3753b8d"
      }
     },
     "8c813114ea934804b2b14f76c39b2ecc": {
      "model_module": "@jupyter-widgets/controls",
      "model_module_version": "1.0.0",
      "model_name": "VBoxModel",
      "state": {
       "children": [
        "IPY_MODEL_2e8c6c4daf1046b5a7e7227f12fdcb4b",
        "IPY_MODEL_88345b35810f49af93ad0ef30947f843"
       ],
       "layout": "IPY_MODEL_bdb597469f1145d8bc010af275a2b1fa"
      }
     },
     "8d90978fe89143b0b0ac7a81baf3ae86": {
      "model_module": "@jupyter-widgets/base",
      "model_module_version": "1.0.0",
      "model_name": "LayoutModel",
      "state": {}
     },
     "8da7665ad16c43e5b248bae588971c7d": {
      "model_module": "@jupyter-widgets/base",
      "model_module_version": "1.0.0",
      "model_name": "LayoutModel",
      "state": {
       "height": "40px"
      }
     },
     "8e8d467eeb9747b8b0c3ab86e070ef57": {
      "model_module": "@jupyter-widgets/base",
      "model_module_version": "1.0.0",
      "model_name": "LayoutModel",
      "state": {}
     },
     "8f04c0923f2c4d39bc7bdeafbc57ff81": {
      "model_module": "@jupyter-widgets/controls",
      "model_module_version": "1.0.0",
      "model_name": "DescriptionStyleModel",
      "state": {
       "description_width": ""
      }
     },
     "8fd73568d5b64ae8aefdfc0c9bd1ea9c": {
      "model_module": "@jupyter-widgets/base",
      "model_module_version": "1.0.0",
      "model_name": "LayoutModel",
      "state": {
       "width": "100%"
      }
     },
     "92aa7046ffde4f2580752805188dc8c2": {
      "model_module": "@jupyter-widgets/controls",
      "model_module_version": "1.0.0",
      "model_name": "HBoxModel",
      "state": {
       "children": [
        "IPY_MODEL_223a838715ec40b883c08af9ed6aba6c",
        "IPY_MODEL_167be61f6c1746b9a726a474bb2df928"
       ],
       "layout": "IPY_MODEL_ba65f2b42b5e4b659236d89677aa3642"
      }
     },
     "936cb485ebae47aa9b2c902a068234ef": {
      "model_module": "@jupyter-widgets/controls",
      "model_module_version": "1.0.0",
      "model_name": "HBoxModel",
      "state": {
       "children": [
        "IPY_MODEL_0d27a1fdc6d449f9bf031b59a917c2c9",
        "IPY_MODEL_dc9033b517b24a8a864838cc0d79e990",
        "IPY_MODEL_d1763b0b9a6047d58f66e442eb91c04a"
       ],
       "layout": "IPY_MODEL_8da7665ad16c43e5b248bae588971c7d"
      }
     },
     "93ccd4bdd94846c8b4c106ef28b6c4b6": {
      "model_module": "@jupyter-widgets/controls",
      "model_module_version": "1.0.0",
      "model_name": "DescriptionStyleModel",
      "state": {
       "description_width": ""
      }
     },
     "95f4f462bc3f4ac5b3f45f4afd4a6410": {
      "model_module": "@jupyter-widgets/base",
      "model_module_version": "1.0.0",
      "model_name": "LayoutModel",
      "state": {}
     },
     "9759f8b3bc934d148993efa975c3e766": {
      "model_module": "@jupyter-widgets/controls",
      "model_module_version": "1.0.0",
      "model_name": "DescriptionStyleModel",
      "state": {
       "description_width": "initial"
      }
     },
     "981ea14f1e4e4888b5b512045651500e": {
      "model_module": "@jupyter-widgets/controls",
      "model_module_version": "1.0.0",
      "model_name": "DescriptionStyleModel",
      "state": {
       "description_width": ""
      }
     },
     "9824711cec954d40abc810f0680528ef": {
      "model_module": "@jupyter-widgets/controls",
      "model_module_version": "1.0.0",
      "model_name": "CheckboxModel",
      "state": {
       "description": "Visible",
       "disabled": false,
       "layout": "IPY_MODEL_5a83029a96f44ac297cdd24e5242d910",
       "style": "IPY_MODEL_e758d1609d3c485d8c4579ea253a6871",
       "value": true
      }
     },
     "98d0173337e34643a78455d4077d3e1d": {
      "model_module": "@jupyter-widgets/controls",
      "model_module_version": "1.0.0",
      "model_name": "VBoxModel",
      "state": {
       "children": [
        "IPY_MODEL_f1777c92195b42e7ac06502a8b0f4483",
        "IPY_MODEL_9824711cec954d40abc810f0680528ef",
        "IPY_MODEL_8a58b82c58374dd3bc5923d238fa32d6",
        "IPY_MODEL_848e1449022d41ac9c6e36309c673578",
        "IPY_MODEL_7eea1f27aa6b49079c94646c9f4b10b3"
       ],
       "layout": "IPY_MODEL_43f7447a48174e7c942b3aca4b8f237c"
      }
     },
     "9a0e5e8822a847b1974da3774619b55c": {
      "model_module": "@jupyter-widgets/controls",
      "model_module_version": "1.0.0",
      "model_name": "ButtonModel",
      "state": {
       "icon": "backward",
       "layout": "IPY_MODEL_81bc7097bbef4a9c8a508a0e1a78744e",
       "style": "IPY_MODEL_43b5a38b24e044eea607e3f8fe86da0c"
      }
     },
     "9c00c9eff75944f69f5c5a99c3547f51": {
      "model_module": "@jupyter-widgets/base",
      "model_module_version": "1.0.0",
      "model_name": "LayoutModel",
      "state": {}
     },
     "9c1978bea6ba4685ac524b546f7a962a": {
      "model_module": "@jupyter-widgets/controls",
      "model_module_version": "1.0.0",
      "model_name": "HTMLModel",
      "state": {
       "layout": "IPY_MODEL_ddc74d6862274df1930ba56c40ea2cfb",
       "style": "IPY_MODEL_d7ee990b16044b05b638873d463ce4a6",
       "value": "<img src=\"data:image/gif;base64,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\"/>"
      }
     },
     "9c688b8ca2894d31a29914803a4235e5": {
      "model_module": "@jupyter-widgets/base",
      "model_module_version": "1.0.0",
      "model_name": "LayoutModel",
      "state": {
       "height": "40px"
      }
     },
     "a0c7fc5c0dcf47619c3fb47d6efc1048": {
      "model_module": "@jupyter-widgets/controls",
      "model_module_version": "1.0.0",
      "model_name": "DescriptionStyleModel",
      "state": {
       "description_width": ""
      }
     },
     "a0fd13f5dd0e4de1b417d641183b6f81": {
      "model_module": "@jupyter-widgets/controls",
      "model_module_version": "1.0.0",
      "model_name": "HBoxModel",
      "state": {
       "children": [
        "IPY_MODEL_d41afe71436745ef85d24f33aaf80606",
        "IPY_MODEL_2e18c986ed764b21a4478d70445373ae"
       ],
       "layout": "IPY_MODEL_b1c1870366634bc98c8285eb2cdec03e"
      }
     },
     "a1a0108e10e148c48c8414ace4f5f0aa": {
      "model_module": "@jupyter-widgets/base",
      "model_module_version": "1.0.0",
      "model_name": "LayoutModel",
      "state": {}
     },
     "a1bbbe3694b14628a89df664238ff618": {
      "model_module": "@jupyter-widgets/controls",
      "model_module_version": "1.0.0",
      "model_name": "DescriptionStyleModel",
      "state": {
       "description_width": ""
      }
     },
     "a4f595ca18f0465c9d828fc9764533fb": {
      "model_module": "@jupyter-widgets/base",
      "model_module_version": "1.0.0",
      "model_name": "LayoutModel",
      "state": {}
     },
     "a8d2362f5e994b9d8af286a6c13a19f2": {
      "model_module": "@jupyter-widgets/controls",
      "model_module_version": "1.0.0",
      "model_name": "VBoxModel",
      "state": {
       "children": [
        "IPY_MODEL_d99dca3822ec4fe7bd3f6639bc487624",
        "IPY_MODEL_ad20a420e96449e3b077ccce6d4e04bd",
        "IPY_MODEL_a0fd13f5dd0e4de1b417d641183b6f81",
        "IPY_MODEL_09e02907187b469895dd6252348c314f"
       ],
       "layout": "IPY_MODEL_5e3e3b0219934e39a70c8548b6ce2c62"
      }
     },
     "ab1e4bf8edfc4d6da11f0369c7befd54": {
      "model_module": "@jupyter-widgets/base",
      "model_module_version": "1.0.0",
      "model_name": "LayoutModel",
      "state": {}
     },
     "aca67cec1baa4640876f3179e3f87c14": {
      "model_module": "@jupyter-widgets/controls",
      "model_module_version": "1.0.0",
      "model_name": "IntTextModel",
      "state": {
       "description": "Rightmost color maps to:",
       "layout": "IPY_MODEL_8d90978fe89143b0b0ac7a81baf3ae86",
       "step": 1,
       "style": "IPY_MODEL_6065e554cd004512b39b8286ea853a48",
       "value": 1
      }
     },
     "ad20a420e96449e3b077ccce6d4e04bd": {
      "model_module": "@jupyter-widgets/controls",
      "model_module_version": "1.0.0",
      "model_name": "CheckboxModel",
      "state": {
       "description": "Visible",
       "disabled": false,
       "layout": "IPY_MODEL_5a83029a96f44ac297cdd24e5242d910",
       "style": "IPY_MODEL_da5e4b22ff2c42e582589f73e2c38913",
       "value": true
      }
     },
     "ade6915581f04156abffe0db76dae359": {
      "model_module": "@jupyter-widgets/controls",
      "model_module_version": "1.0.0",
      "model_name": "DescriptionStyleModel",
      "state": {
       "description_width": "initial"
      }
     },
     "ae77370db2094ce38d1ef4f1b9f818bd": {
      "model_module": "@jupyter-widgets/controls",
      "model_module_version": "1.0.0",
      "model_name": "IntTextModel",
      "state": {
       "description": "Rightmost color maps to:",
       "layout": "IPY_MODEL_08714c6707fe4b3aa8cdcee864130cdb",
       "step": 1,
       "style": "IPY_MODEL_42d5e6c30c59432db10247d2e3bf8031",
       "value": 1
      }
     },
     "ae95a6db11234e5e831b02debfa9284c": {
      "model_module": "@jupyter-widgets/base",
      "model_module_version": "1.0.0",
      "model_name": "LayoutModel",
      "state": {}
     },
     "b0c957df192f412d8f048f05071058d7": {
      "model_module": "@jupyter-widgets/controls",
      "model_module_version": "1.0.0",
      "model_name": "IntTextModel",
      "state": {
       "description": "Feature to show:",
       "layout": "IPY_MODEL_2acca33a587749d6a98af9dbac920d02",
       "step": 1,
       "style": "IPY_MODEL_c3d579af457f43849e62ebf5ae3fdc2a"
      }
     },
     "b14247a58d8848eba66bec103602ee6f": {
      "model_module": "@jupyter-widgets/base",
      "model_module_version": "1.0.0",
      "model_name": "LayoutModel",
      "state": {}
     },
     "b1c1870366634bc98c8285eb2cdec03e": {
      "model_module": "@jupyter-widgets/base",
      "model_module_version": "1.0.0",
      "model_name": "LayoutModel",
      "state": {}
     },
     "b3ee4f95b333487685e0ca8ed8739fdf": {
      "model_module": "@jupyter-widgets/controls",
      "model_module_version": "1.0.0",
      "model_name": "ButtonStyleModel",
      "state": {}
     },
     "b65396cfe2eb4cfebef9b2e1bbf759e6": {
      "model_module": "@jupyter-widgets/controls",
      "model_module_version": "1.0.0",
      "model_name": "DescriptionStyleModel",
      "state": {
       "description_width": "initial"
      }
     },
     "b7ffe19a9ea448fd9d9456ff273f4ed8": {
      "model_module": "@jupyter-widgets/controls",
      "model_module_version": "1.0.0",
      "model_name": "VBoxModel",
      "state": {
       "children": [
        "IPY_MODEL_48186d367a914aee879f5c1eec8c3f26",
        "IPY_MODEL_c4dac167272841b8a04cd03453f4eaf0",
        "IPY_MODEL_022d6d72c7704d9c8beac9fc4d080551",
        "IPY_MODEL_06f54569cd434e6ca46b1b7e22adaf8c",
        "IPY_MODEL_e40cfaceb99c47a09dcedf518ca473c6"
       ],
       "layout": "IPY_MODEL_260ed86b34f14e9ab54dcc7d9d70e6bf"
      }
     },
     "b8aa1e94384541ecbdaaa2838b0a15ec": {
      "model_module": "@jupyter-widgets/controls",
      "model_module_version": "1.0.0",
      "model_name": "DescriptionStyleModel",
      "state": {
       "description_width": "initial"
      }
     },
     "b8ebc4c482af45eb8a7e4a32eb3516ad": {
      "model_module": "@jupyter-widgets/base",
      "model_module_version": "1.0.0",
      "model_name": "LayoutModel",
      "state": {
       "overflow_x": "auto",
       "overflow_y": "auto",
       "width": "95%"
      }
     },
     "b938c3ee73ea4a759d5f5070ff9d87e6": {
      "model_module": "@jupyter-widgets/base",
      "model_module_version": "1.0.0",
      "model_name": "LayoutModel",
      "state": {}
     },
     "ba65f2b42b5e4b659236d89677aa3642": {
      "model_module": "@jupyter-widgets/base",
      "model_module_version": "1.0.0",
      "model_name": "LayoutModel",
      "state": {}
     },
     "bba33763e2a74508acee0ba1c3122b7f": {
      "model_module": "@jupyter-widgets/controls",
      "model_module_version": "1.0.0",
      "model_name": "CheckboxModel",
      "state": {
       "description": "Show Targets",
       "disabled": false,
       "layout": "IPY_MODEL_5a83029a96f44ac297cdd24e5242d910",
       "style": "IPY_MODEL_0ca6ac59b6f34054975459181de23e23",
       "value": false
      }
     },
     "bbb3d098c8934613a751b80245bb05a3": {
      "model_module": "@jupyter-widgets/controls",
      "model_module_version": "1.0.0",
      "model_name": "SelectModel",
      "state": {
       "_options_labels": [
        "",
        "Accent",
        "Accent_r",
        "Blues",
        "Blues_r",
        "BrBG",
        "BrBG_r",
        "BuGn",
        "BuGn_r",
        "BuPu",
        "BuPu_r",
        "CMRmap",
        "CMRmap_r",
        "Dark2",
        "Dark2_r",
        "GnBu",
        "GnBu_r",
        "Greens",
        "Greens_r",
        "Greys",
        "Greys_r",
        "OrRd",
        "OrRd_r",
        "Oranges",
        "Oranges_r",
        "PRGn",
        "PRGn_r",
        "Paired",
        "Paired_r",
        "Pastel1",
        "Pastel1_r",
        "Pastel2",
        "Pastel2_r",
        "PiYG",
        "PiYG_r",
        "PuBu",
        "PuBuGn",
        "PuBuGn_r",
        "PuBu_r",
        "PuOr",
        "PuOr_r",
        "PuRd",
        "PuRd_r",
        "Purples",
        "Purples_r",
        "RdBu",
        "RdBu_r",
        "RdGy",
        "RdGy_r",
        "RdPu",
        "RdPu_r",
        "RdYlBu",
        "RdYlBu_r",
        "RdYlGn",
        "RdYlGn_r",
        "Reds",
        "Reds_r",
        "Set1",
        "Set1_r",
        "Set2",
        "Set2_r",
        "Set3",
        "Set3_r",
        "Spectral",
        "Spectral_r",
        "Vega10",
        "Vega10_r",
        "Vega20",
        "Vega20_r",
        "Vega20b",
        "Vega20b_r",
        "Vega20c",
        "Vega20c_r",
        "Wistia",
        "Wistia_r",
        "YlGn",
        "YlGnBu",
        "YlGnBu_r",
        "YlGn_r",
        "YlOrBr",
        "YlOrBr_r",
        "YlOrRd",
        "YlOrRd_r",
        "afmhot",
        "afmhot_r",
        "autumn",
        "autumn_r",
        "binary",
        "binary_r",
        "bone",
        "bone_r",
        "brg",
        "brg_r",
        "bwr",
        "bwr_r",
        "cool",
        "cool_r",
        "coolwarm",
        "coolwarm_r",
        "copper",
        "copper_r",
        "cubehelix",
        "cubehelix_r",
        "flag",
        "flag_r",
        "gist_earth",
        "gist_earth_r",
        "gist_gray",
        "gist_gray_r",
        "gist_heat",
        "gist_heat_r",
        "gist_ncar",
        "gist_ncar_r",
        "gist_rainbow",
        "gist_rainbow_r",
        "gist_stern",
        "gist_stern_r",
        "gist_yarg",
        "gist_yarg_r",
        "gnuplot",
        "gnuplot2",
        "gnuplot2_r",
        "gnuplot_r",
        "gray",
        "gray_r",
        "hot",
        "hot_r",
        "hsv",
        "hsv_r",
        "inferno",
        "inferno_r",
        "jet",
        "jet_r",
        "magma",
        "magma_r",
        "nipy_spectral",
        "nipy_spectral_r",
        "ocean",
        "ocean_r",
        "pink",
        "pink_r",
        "plasma",
        "plasma_r",
        "prism",
        "prism_r",
        "rainbow",
        "rainbow_r",
        "seismic",
        "seismic_r",
        "spectral",
        "spectral_r",
        "spring",
        "spring_r",
        "summer",
        "summer_r",
        "tab10",
        "tab10_r",
        "tab20",
        "tab20_r",
        "tab20b",
        "tab20b_r",
        "tab20c",
        "tab20c_r",
        "terrain",
        "terrain_r",
        "viridis",
        "viridis_r",
        "winter",
        "winter_r"
       ],
       "description": "Colormap:",
       "index": 125,
       "layout": "IPY_MODEL_5a83029a96f44ac297cdd24e5242d910",
       "rows": 1,
       "style": "IPY_MODEL_c23e3600c93f46dcbfa83a38ab26c49d"
      }
     },
     "bdb597469f1145d8bc010af275a2b1fa": {
      "model_module": "@jupyter-widgets/base",
      "model_module_version": "1.0.0",
      "model_name": "LayoutModel",
      "state": {
       "width": "95%"
      }
     },
     "be50c66b89cc48348559bef9e3a5ca17": {
      "model_module": "@jupyter-widgets/controls",
      "model_module_version": "1.0.0",
      "model_name": "ButtonModel",
      "state": {
       "icon": "fast-backward",
       "layout": "IPY_MODEL_0319b02e12244913865919e7473c70b7",
       "style": "IPY_MODEL_e23da3d1f6e04ca5a48f1b5e70dea9a1"
      }
     },
     "c02522f948124d34bbbc984861b8ba4d": {
      "model_module": "@jupyter-widgets/controls",
      "model_module_version": "1.0.0",
      "model_name": "ButtonStyleModel",
      "state": {}
     },
     "c125673144474f5c971643aa3db1e4f8": {
      "model_module": "@jupyter-widgets/controls",
      "model_module_version": "1.0.0",
      "model_name": "DescriptionStyleModel",
      "state": {
       "description_width": ""
      }
     },
     "c23e3600c93f46dcbfa83a38ab26c49d": {
      "model_module": "@jupyter-widgets/controls",
      "model_module_version": "1.0.0",
      "model_name": "DescriptionStyleModel",
      "state": {
       "description_width": ""
      }
     },
     "c2d63956ec4d45d7a97ffbf3a9a00214": {
      "model_module": "@jupyter-widgets/base",
      "model_module_version": "1.0.0",
      "model_name": "LayoutModel",
      "state": {}
     },
     "c322382cba804cdbaef2b506a26e9ee8": {
      "model_module": "@jupyter-widgets/controls",
      "model_module_version": "1.0.0",
      "model_name": "ButtonModel",
      "state": {
       "description": "Play",
       "icon": "play",
       "layout": "IPY_MODEL_85acc23eac2643e6aee5bd5f3d40e4dd",
       "style": "IPY_MODEL_de622c06d13e4f968b897ff8bf5a402f"
      }
     },
     "c3d579af457f43849e62ebf5ae3fdc2a": {
      "model_module": "@jupyter-widgets/controls",
      "model_module_version": "1.0.0",
      "model_name": "DescriptionStyleModel",
      "state": {
       "description_width": "initial"
      }
     },
     "c4dac167272841b8a04cd03453f4eaf0": {
      "model_module": "@jupyter-widgets/controls",
      "model_module_version": "1.0.0",
      "model_name": "CheckboxModel",
      "state": {
       "description": "Visible",
       "disabled": false,
       "layout": "IPY_MODEL_5a83029a96f44ac297cdd24e5242d910",
       "style": "IPY_MODEL_93ccd4bdd94846c8b4c106ef28b6c4b6",
       "value": true
      }
     },
     "c51eee9832184d7e88f44217d85b31ae": {
      "model_module": "@jupyter-widgets/controls",
      "model_module_version": "1.0.0",
      "model_name": "IntTextModel",
      "state": {
       "description": "Rightmost color maps to:",
       "layout": "IPY_MODEL_e83af5fdad5d49b78932a35994e01d51",
       "step": 1,
       "style": "IPY_MODEL_7ca48ebd7c994a2d94286f727ac09530",
       "value": 1
      }
     },
     "c597b59bbf1246419d7249ffdfac60cf": {
      "model_module": "@jupyter-widgets/controls",
      "model_module_version": "1.0.0",
      "model_name": "CheckboxModel",
      "state": {
       "description": "Visible",
       "disabled": false,
       "layout": "IPY_MODEL_5a83029a96f44ac297cdd24e5242d910",
       "style": "IPY_MODEL_139f84e2f7da400b90fc8fa921a4ba1b",
       "value": true
      }
     },
     "ccb17dda1a2a4efabd7946a7294192ab": {
      "model_module": "@jupyter-widgets/controls",
      "model_module_version": "1.0.0",
      "model_name": "HBoxModel",
      "state": {
       "children": [
        "IPY_MODEL_4620ab28f98d49e6b9e2874e93dcefd4",
        "IPY_MODEL_f08873c14bc24e9c8e94f6359041f7f8"
       ],
       "layout": "IPY_MODEL_85a4039c3b7a4d79abfa33502b393a5d"
      }
     },
     "ce5c7cf2b4f44bc5a7037b58a7249d02": {
      "model_module": "@jupyter-widgets/base",
      "model_module_version": "1.0.0",
      "model_name": "LayoutModel",
      "state": {}
     },
     "cebe3060f660462c96b361b673476d37": {
      "model_module": "@jupyter-widgets/controls",
      "model_module_version": "1.0.0",
      "model_name": "DescriptionStyleModel",
      "state": {
       "description_width": ""
      }
     },
     "cf19765f1a694f1fae51ec392bcdc62c": {
      "model_module": "@jupyter-widgets/base",
      "model_module_version": "1.0.0",
      "model_name": "LayoutModel",
      "state": {}
     },
     "d0de6a481bc34acc8b9ae03081161ccf": {
      "model_module": "@jupyter-widgets/controls",
      "model_module_version": "1.0.0",
      "model_name": "VBoxModel",
      "state": {
       "children": [
        "IPY_MODEL_26e1083552b04f9fb3caa971c5ac0471",
        "IPY_MODEL_f4cf500944ed4f8399aaea1aa4916951",
        "IPY_MODEL_63d3e0fc95884c7dba6dd7784b8b8ad9",
        "IPY_MODEL_1745bf3008e94964b1bfc039b90affae",
        "IPY_MODEL_099cc63abaf84b3187ffe418d9cb84bd"
       ],
       "layout": "IPY_MODEL_84e053f6f3ef47689113fb85ada39f0f"
      }
     },
     "d1763b0b9a6047d58f66e442eb91c04a": {
      "model_module": "@jupyter-widgets/controls",
      "model_module_version": "1.0.0",
      "model_name": "ButtonModel",
      "state": {
       "icon": "refresh",
       "layout": "IPY_MODEL_f183a22d981241e885b2707e5f68d3a1",
       "style": "IPY_MODEL_b3ee4f95b333487685e0ca8ed8739fdf"
      }
     },
     "d285d49736cc40ee95f988eb76eace35": {
      "model_module": "@jupyter-widgets/controls",
      "model_module_version": "1.0.0",
      "model_name": "ButtonModel",
      "state": {
       "icon": "fast-forward",
       "layout": "IPY_MODEL_ece449c70e874c829fc8be33a1e4e75c",
       "style": "IPY_MODEL_c02522f948124d34bbbc984861b8ba4d"
      }
     },
     "d320428a1b574583b80075ae42d36a70": {
      "model_module": "@jupyter-widgets/base",
      "model_module_version": "1.0.0",
      "model_name": "LayoutModel",
      "state": {}
     },
     "d41afe71436745ef85d24f33aaf80606": {
      "model_module": "@jupyter-widgets/controls",
      "model_module_version": "1.0.0",
      "model_name": "SelectModel",
      "state": {
       "_options_labels": [
        "",
        "Accent",
        "Accent_r",
        "Blues",
        "Blues_r",
        "BrBG",
        "BrBG_r",
        "BuGn",
        "BuGn_r",
        "BuPu",
        "BuPu_r",
        "CMRmap",
        "CMRmap_r",
        "Dark2",
        "Dark2_r",
        "GnBu",
        "GnBu_r",
        "Greens",
        "Greens_r",
        "Greys",
        "Greys_r",
        "OrRd",
        "OrRd_r",
        "Oranges",
        "Oranges_r",
        "PRGn",
        "PRGn_r",
        "Paired",
        "Paired_r",
        "Pastel1",
        "Pastel1_r",
        "Pastel2",
        "Pastel2_r",
        "PiYG",
        "PiYG_r",
        "PuBu",
        "PuBuGn",
        "PuBuGn_r",
        "PuBu_r",
        "PuOr",
        "PuOr_r",
        "PuRd",
        "PuRd_r",
        "Purples",
        "Purples_r",
        "RdBu",
        "RdBu_r",
        "RdGy",
        "RdGy_r",
        "RdPu",
        "RdPu_r",
        "RdYlBu",
        "RdYlBu_r",
        "RdYlGn",
        "RdYlGn_r",
        "Reds",
        "Reds_r",
        "Set1",
        "Set1_r",
        "Set2",
        "Set2_r",
        "Set3",
        "Set3_r",
        "Spectral",
        "Spectral_r",
        "Vega10",
        "Vega10_r",
        "Vega20",
        "Vega20_r",
        "Vega20b",
        "Vega20b_r",
        "Vega20c",
        "Vega20c_r",
        "Wistia",
        "Wistia_r",
        "YlGn",
        "YlGnBu",
        "YlGnBu_r",
        "YlGn_r",
        "YlOrBr",
        "YlOrBr_r",
        "YlOrRd",
        "YlOrRd_r",
        "afmhot",
        "afmhot_r",
        "autumn",
        "autumn_r",
        "binary",
        "binary_r",
        "bone",
        "bone_r",
        "brg",
        "brg_r",
        "bwr",
        "bwr_r",
        "cool",
        "cool_r",
        "coolwarm",
        "coolwarm_r",
        "copper",
        "copper_r",
        "cubehelix",
        "cubehelix_r",
        "flag",
        "flag_r",
        "gist_earth",
        "gist_earth_r",
        "gist_gray",
        "gist_gray_r",
        "gist_heat",
        "gist_heat_r",
        "gist_ncar",
        "gist_ncar_r",
        "gist_rainbow",
        "gist_rainbow_r",
        "gist_stern",
        "gist_stern_r",
        "gist_yarg",
        "gist_yarg_r",
        "gnuplot",
        "gnuplot2",
        "gnuplot2_r",
        "gnuplot_r",
        "gray",
        "gray_r",
        "hot",
        "hot_r",
        "hsv",
        "hsv_r",
        "inferno",
        "inferno_r",
        "jet",
        "jet_r",
        "magma",
        "magma_r",
        "nipy_spectral",
        "nipy_spectral_r",
        "ocean",
        "ocean_r",
        "pink",
        "pink_r",
        "plasma",
        "plasma_r",
        "prism",
        "prism_r",
        "rainbow",
        "rainbow_r",
        "seismic",
        "seismic_r",
        "spectral",
        "spectral_r",
        "spring",
        "spring_r",
        "summer",
        "summer_r",
        "tab10",
        "tab10_r",
        "tab20",
        "tab20_r",
        "tab20b",
        "tab20b_r",
        "tab20c",
        "tab20c_r",
        "terrain",
        "terrain_r",
        "viridis",
        "viridis_r",
        "winter",
        "winter_r"
       ],
       "description": "Colormap:",
       "index": 0,
       "layout": "IPY_MODEL_5a83029a96f44ac297cdd24e5242d910",
       "rows": 1,
       "style": "IPY_MODEL_e1f6b68ea03c4f0ebdb5dc6905f26bfc"
      }
     },
     "d701ea8e21f147548e155cc84ad2fd98": {
      "model_module": "@jupyter-widgets/controls",
      "model_module_version": "1.0.0",
      "model_name": "IntTextModel",
      "state": {
       "description": "Leftmost color maps to:",
       "layout": "IPY_MODEL_e59b313e14884c3b90701081e1f4d496",
       "step": 1,
       "style": "IPY_MODEL_b8aa1e94384541ecbdaaa2838b0a15ec"
      }
     },
     "d7ee990b16044b05b638873d463ce4a6": {
      "model_module": "@jupyter-widgets/controls",
      "model_module_version": "1.0.0",
      "model_name": "DescriptionStyleModel",
      "state": {
       "description_width": ""
      }
     },
     "d8ed0af324554dd6bc0f46f5a0529c44": {
      "model_module": "@jupyter-widgets/controls",
      "model_module_version": "1.0.0",
      "model_name": "IntSliderModel",
      "state": {
       "continuous_update": false,
       "description": "Dataset index",
       "layout": "IPY_MODEL_02430bcb1daf4dd598706854651ba164",
       "max": 6998,
       "style": "IPY_MODEL_5f37b29700344137ace6307fcf2cad33",
       "value": 13
      }
     },
     "d99dca3822ec4fe7bd3f6639bc487624": {
      "model_module": "@jupyter-widgets/controls",
      "model_module_version": "1.0.0",
      "model_name": "HTMLModel",
      "state": {
       "layout": "IPY_MODEL_5a83029a96f44ac297cdd24e5242d910",
       "style": "IPY_MODEL_88451da1f89344449656d9358b4be65f",
       "value": "<p><hr/><h3>output bank:</h3></p>"
      }
     },
     "d9f90068ed2f45489e2f6a2d208409df": {
      "model_module": "@jupyter-widgets/base",
      "model_module_version": "1.0.0",
      "model_name": "LayoutModel",
      "state": {}
     },
     "da5e4b22ff2c42e582589f73e2c38913": {
      "model_module": "@jupyter-widgets/controls",
      "model_module_version": "1.0.0",
      "model_name": "DescriptionStyleModel",
      "state": {
       "description_width": ""
      }
     },
     "dc9033b517b24a8a864838cc0d79e990": {
      "model_module": "@jupyter-widgets/controls",
      "model_module_version": "1.0.0",
      "model_name": "SelectModel",
      "state": {
       "_options_labels": [
        "",
        "input",
        "Conv2D-1",
        "maxpool1",
        "Conv2D-2",
        "maxpool2"
       ],
       "description": "Features:",
       "index": 0,
       "layout": "IPY_MODEL_fa8ff28ed10e4fcfa2239037568b9631",
       "rows": 1,
       "style": "IPY_MODEL_eec839cdcf394c1894c78c6be4b958b3"
      }
     },
     "dda65ae702d5477eaec350ec0e283adb": {
      "model_module": "@jupyter-widgets/controls",
      "model_module_version": "1.0.0",
      "model_name": "SelectModel",
      "state": {
       "_options_labels": [
        "",
        "Accent",
        "Accent_r",
        "Blues",
        "Blues_r",
        "BrBG",
        "BrBG_r",
        "BuGn",
        "BuGn_r",
        "BuPu",
        "BuPu_r",
        "CMRmap",
        "CMRmap_r",
        "Dark2",
        "Dark2_r",
        "GnBu",
        "GnBu_r",
        "Greens",
        "Greens_r",
        "Greys",
        "Greys_r",
        "OrRd",
        "OrRd_r",
        "Oranges",
        "Oranges_r",
        "PRGn",
        "PRGn_r",
        "Paired",
        "Paired_r",
        "Pastel1",
        "Pastel1_r",
        "Pastel2",
        "Pastel2_r",
        "PiYG",
        "PiYG_r",
        "PuBu",
        "PuBuGn",
        "PuBuGn_r",
        "PuBu_r",
        "PuOr",
        "PuOr_r",
        "PuRd",
        "PuRd_r",
        "Purples",
        "Purples_r",
        "RdBu",
        "RdBu_r",
        "RdGy",
        "RdGy_r",
        "RdPu",
        "RdPu_r",
        "RdYlBu",
        "RdYlBu_r",
        "RdYlGn",
        "RdYlGn_r",
        "Reds",
        "Reds_r",
        "Set1",
        "Set1_r",
        "Set2",
        "Set2_r",
        "Set3",
        "Set3_r",
        "Spectral",
        "Spectral_r",
        "Vega10",
        "Vega10_r",
        "Vega20",
        "Vega20_r",
        "Vega20b",
        "Vega20b_r",
        "Vega20c",
        "Vega20c_r",
        "Wistia",
        "Wistia_r",
        "YlGn",
        "YlGnBu",
        "YlGnBu_r",
        "YlGn_r",
        "YlOrBr",
        "YlOrBr_r",
        "YlOrRd",
        "YlOrRd_r",
        "afmhot",
        "afmhot_r",
        "autumn",
        "autumn_r",
        "binary",
        "binary_r",
        "bone",
        "bone_r",
        "brg",
        "brg_r",
        "bwr",
        "bwr_r",
        "cool",
        "cool_r",
        "coolwarm",
        "coolwarm_r",
        "copper",
        "copper_r",
        "cubehelix",
        "cubehelix_r",
        "flag",
        "flag_r",
        "gist_earth",
        "gist_earth_r",
        "gist_gray",
        "gist_gray_r",
        "gist_heat",
        "gist_heat_r",
        "gist_ncar",
        "gist_ncar_r",
        "gist_rainbow",
        "gist_rainbow_r",
        "gist_stern",
        "gist_stern_r",
        "gist_yarg",
        "gist_yarg_r",
        "gnuplot",
        "gnuplot2",
        "gnuplot2_r",
        "gnuplot_r",
        "gray",
        "gray_r",
        "hot",
        "hot_r",
        "hsv",
        "hsv_r",
        "inferno",
        "inferno_r",
        "jet",
        "jet_r",
        "magma",
        "magma_r",
        "nipy_spectral",
        "nipy_spectral_r",
        "ocean",
        "ocean_r",
        "pink",
        "pink_r",
        "plasma",
        "plasma_r",
        "prism",
        "prism_r",
        "rainbow",
        "rainbow_r",
        "seismic",
        "seismic_r",
        "spectral",
        "spectral_r",
        "spring",
        "spring_r",
        "summer",
        "summer_r",
        "tab10",
        "tab10_r",
        "tab20",
        "tab20_r",
        "tab20b",
        "tab20b_r",
        "tab20c",
        "tab20c_r",
        "terrain",
        "terrain_r",
        "viridis",
        "viridis_r",
        "winter",
        "winter_r"
       ],
       "description": "Colormap:",
       "index": 0,
       "layout": "IPY_MODEL_5a83029a96f44ac297cdd24e5242d910",
       "rows": 1,
       "style": "IPY_MODEL_0455130bea914ce7965e6d6fe5072453"
      }
     },
     "ddc74d6862274df1930ba56c40ea2cfb": {
      "model_module": "@jupyter-widgets/base",
      "model_module_version": "1.0.0",
      "model_name": "LayoutModel",
      "state": {}
     },
     "dde40caaf6a942dfaf4407a2bd6ccd9e": {
      "model_module": "@jupyter-widgets/base",
      "model_module_version": "1.0.0",
      "model_name": "LayoutModel",
      "state": {}
     },
     "de2caf41e8314d4c8e70f136025ef4a0": {
      "model_module": "@jupyter-widgets/base",
      "model_module_version": "1.0.0",
      "model_name": "LayoutModel",
      "state": {}
     },
     "de622c06d13e4f968b897ff8bf5a402f": {
      "model_module": "@jupyter-widgets/controls",
      "model_module_version": "1.0.0",
      "model_name": "ButtonStyleModel",
      "state": {}
     },
     "e09722cf1ac54a879fdb5655425ed1d5": {
      "model_module": "@jupyter-widgets/controls",
      "model_module_version": "1.0.0",
      "model_name": "IntTextModel",
      "state": {
       "description": "Feature columns:",
       "layout": "IPY_MODEL_ce5c7cf2b4f44bc5a7037b58a7249d02",
       "step": 1,
       "style": "IPY_MODEL_fdf0b3bfd12c4be5bb195b1231b3e1f2",
       "value": 3
      }
     },
     "e1f4937f08ef4b73afcab9a250daa5aa": {
      "model_module": "@jupyter-widgets/base",
      "model_module_version": "1.0.0",
      "model_name": "LayoutModel",
      "state": {
       "width": "95%"
      }
     },
     "e1f6b68ea03c4f0ebdb5dc6905f26bfc": {
      "model_module": "@jupyter-widgets/controls",
      "model_module_version": "1.0.0",
      "model_name": "DescriptionStyleModel",
      "state": {
       "description_width": ""
      }
     },
     "e23da3d1f6e04ca5a48f1b5e70dea9a1": {
      "model_module": "@jupyter-widgets/controls",
      "model_module_version": "1.0.0",
      "model_name": "ButtonStyleModel",
      "state": {}
     },
     "e40cfaceb99c47a09dcedf518ca473c6": {
      "model_module": "@jupyter-widgets/controls",
      "model_module_version": "1.0.0",
      "model_name": "IntTextModel",
      "state": {
       "description": "Feature to show:",
       "layout": "IPY_MODEL_95f4f462bc3f4ac5b3f45f4afd4a6410",
       "step": 1,
       "style": "IPY_MODEL_ff717e1147af492699794470e0ff514c"
      }
     },
     "e4108ae8f35545d8841449757abd9dc7": {
      "model_module": "@jupyter-widgets/controls",
      "model_module_version": "1.0.0",
      "model_name": "FloatTextModel",
      "state": {
       "description": "Feature scale:",
       "layout": "IPY_MODEL_ae95a6db11234e5e831b02debfa9284c",
       "step": null,
       "style": "IPY_MODEL_341768ed5a5b4580bb814e9eba007178",
       "value": 2
      }
     },
     "e4675006d04a4ab599c335f525646712": {
      "model_module": "@jupyter-widgets/controls",
      "model_module_version": "1.0.0",
      "model_name": "DescriptionStyleModel",
      "state": {
       "description_width": "initial"
      }
     },
     "e59b313e14884c3b90701081e1f4d496": {
      "model_module": "@jupyter-widgets/base",
      "model_module_version": "1.0.0",
      "model_name": "LayoutModel",
      "state": {}
     },
     "e758d1609d3c485d8c4579ea253a6871": {
      "model_module": "@jupyter-widgets/controls",
      "model_module_version": "1.0.0",
      "model_name": "DescriptionStyleModel",
      "state": {
       "description_width": ""
      }
     },
     "e83af5fdad5d49b78932a35994e01d51": {
      "model_module": "@jupyter-widgets/base",
      "model_module_version": "1.0.0",
      "model_name": "LayoutModel",
      "state": {}
     },
     "e8f831e10af24c1c9fba5e57d05de723": {
      "model_module": "@jupyter-widgets/base",
      "model_module_version": "1.0.0",
      "model_name": "LayoutModel",
      "state": {}
     },
     "e99c6d4bca6d45478682e87c1338be95": {
      "model_module": "@jupyter-widgets/base",
      "model_module_version": "1.0.0",
      "model_name": "LayoutModel",
      "state": {
       "width": "100%"
      }
     },
     "e9b2e2cd164f4b10ab68fe0a1a891d3b": {
      "model_module": "@jupyter-widgets/base",
      "model_module_version": "1.0.0",
      "model_name": "LayoutModel",
      "state": {
       "width": "100px"
      }
     },
     "e9ecbc51233e4bcdaa46b32ba95f96dc": {
      "model_module": "@jupyter-widgets/controls",
      "model_module_version": "1.0.0",
      "model_name": "DescriptionStyleModel",
      "state": {
       "description_width": ""
      }
     },
     "ec7ea40c050041c7affd4dd169a85881": {
      "model_module": "@jupyter-widgets/controls",
      "model_module_version": "1.0.0",
      "model_name": "SelectModel",
      "state": {
       "_options_labels": [
        "",
        "Accent",
        "Accent_r",
        "Blues",
        "Blues_r",
        "BrBG",
        "BrBG_r",
        "BuGn",
        "BuGn_r",
        "BuPu",
        "BuPu_r",
        "CMRmap",
        "CMRmap_r",
        "Dark2",
        "Dark2_r",
        "GnBu",
        "GnBu_r",
        "Greens",
        "Greens_r",
        "Greys",
        "Greys_r",
        "OrRd",
        "OrRd_r",
        "Oranges",
        "Oranges_r",
        "PRGn",
        "PRGn_r",
        "Paired",
        "Paired_r",
        "Pastel1",
        "Pastel1_r",
        "Pastel2",
        "Pastel2_r",
        "PiYG",
        "PiYG_r",
        "PuBu",
        "PuBuGn",
        "PuBuGn_r",
        "PuBu_r",
        "PuOr",
        "PuOr_r",
        "PuRd",
        "PuRd_r",
        "Purples",
        "Purples_r",
        "RdBu",
        "RdBu_r",
        "RdGy",
        "RdGy_r",
        "RdPu",
        "RdPu_r",
        "RdYlBu",
        "RdYlBu_r",
        "RdYlGn",
        "RdYlGn_r",
        "Reds",
        "Reds_r",
        "Set1",
        "Set1_r",
        "Set2",
        "Set2_r",
        "Set3",
        "Set3_r",
        "Spectral",
        "Spectral_r",
        "Vega10",
        "Vega10_r",
        "Vega20",
        "Vega20_r",
        "Vega20b",
        "Vega20b_r",
        "Vega20c",
        "Vega20c_r",
        "Wistia",
        "Wistia_r",
        "YlGn",
        "YlGnBu",
        "YlGnBu_r",
        "YlGn_r",
        "YlOrBr",
        "YlOrBr_r",
        "YlOrRd",
        "YlOrRd_r",
        "afmhot",
        "afmhot_r",
        "autumn",
        "autumn_r",
        "binary",
        "binary_r",
        "bone",
        "bone_r",
        "brg",
        "brg_r",
        "bwr",
        "bwr_r",
        "cool",
        "cool_r",
        "coolwarm",
        "coolwarm_r",
        "copper",
        "copper_r",
        "cubehelix",
        "cubehelix_r",
        "flag",
        "flag_r",
        "gist_earth",
        "gist_earth_r",
        "gist_gray",
        "gist_gray_r",
        "gist_heat",
        "gist_heat_r",
        "gist_ncar",
        "gist_ncar_r",
        "gist_rainbow",
        "gist_rainbow_r",
        "gist_stern",
        "gist_stern_r",
        "gist_yarg",
        "gist_yarg_r",
        "gnuplot",
        "gnuplot2",
        "gnuplot2_r",
        "gnuplot_r",
        "gray",
        "gray_r",
        "hot",
        "hot_r",
        "hsv",
        "hsv_r",
        "inferno",
        "inferno_r",
        "jet",
        "jet_r",
        "magma",
        "magma_r",
        "nipy_spectral",
        "nipy_spectral_r",
        "ocean",
        "ocean_r",
        "pink",
        "pink_r",
        "plasma",
        "plasma_r",
        "prism",
        "prism_r",
        "rainbow",
        "rainbow_r",
        "seismic",
        "seismic_r",
        "spectral",
        "spectral_r",
        "spring",
        "spring_r",
        "summer",
        "summer_r",
        "tab10",
        "tab10_r",
        "tab20",
        "tab20_r",
        "tab20b",
        "tab20b_r",
        "tab20c",
        "tab20c_r",
        "terrain",
        "terrain_r",
        "viridis",
        "viridis_r",
        "winter",
        "winter_r"
       ],
       "description": "Colormap:",
       "index": 0,
       "layout": "IPY_MODEL_5a83029a96f44ac297cdd24e5242d910",
       "rows": 1,
       "style": "IPY_MODEL_4b5b27f084634c0384256f268105e6e6"
      }
     },
     "ec91ed3397834ecfa61939e95dd3de32": {
      "model_module": "@jupyter-widgets/controls",
      "model_module_version": "1.0.0",
      "model_name": "DescriptionStyleModel",
      "state": {
       "description_width": ""
      }
     },
     "ece449c70e874c829fc8be33a1e4e75c": {
      "model_module": "@jupyter-widgets/base",
      "model_module_version": "1.0.0",
      "model_name": "LayoutModel",
      "state": {
       "width": "100%"
      }
     },
     "ed207558db264089bd045af99c295bdc": {
      "model_module": "@jupyter-widgets/controls",
      "model_module_version": "1.0.0",
      "model_name": "VBoxModel",
      "state": {
       "children": [
        "IPY_MODEL_405840e750a94a949f15828d9471d237",
        "IPY_MODEL_274fe3afcbde461c8999d16db680b323",
        "IPY_MODEL_ccb17dda1a2a4efabd7946a7294192ab",
        "IPY_MODEL_0a6f2bc824ea48c8b425240c9a0d66ac",
        "IPY_MODEL_b0c957df192f412d8f048f05071058d7"
       ],
       "layout": "IPY_MODEL_b14247a58d8848eba66bec103602ee6f"
      }
     },
     "ee06f1c0964840dcaa10e6e1af6007b5": {
      "model_module": "@jupyter-widgets/controls",
      "model_module_version": "1.0.0",
      "model_name": "DescriptionStyleModel",
      "state": {
       "description_width": ""
      }
     },
     "eec839cdcf394c1894c78c6be4b958b3": {
      "model_module": "@jupyter-widgets/controls",
      "model_module_version": "1.0.0",
      "model_name": "DescriptionStyleModel",
      "state": {
       "description_width": ""
      }
     },
     "f08873c14bc24e9c8e94f6359041f7f8": {
      "model_module": "@jupyter-widgets/controls",
      "model_module_version": "1.0.0",
      "model_name": "HTMLModel",
      "state": {
       "layout": "IPY_MODEL_0a5dba321a88410cad8b4bb56847a119",
       "style": "IPY_MODEL_981ea14f1e4e4888b5b512045651500e",
       "value": "<img src=\"data:image/gif;base64,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\"/>"
      }
     },
     "f1777c92195b42e7ac06502a8b0f4483": {
      "model_module": "@jupyter-widgets/controls",
      "model_module_version": "1.0.0",
      "model_name": "HTMLModel",
      "state": {
       "layout": "IPY_MODEL_5a83029a96f44ac297cdd24e5242d910",
       "style": "IPY_MODEL_e9ecbc51233e4bcdaa46b32ba95f96dc",
       "value": "<p><hr/><h3>maxpool2 bank:</h3></p>"
      }
     },
     "f183a22d981241e885b2707e5f68d3a1": {
      "model_module": "@jupyter-widgets/base",
      "model_module_version": "1.0.0",
      "model_name": "LayoutModel",
      "state": {
       "width": "40px"
      }
     },
     "f2345d733e14434b995510802933d085": {
      "model_module": "@jupyter-widgets/base",
      "model_module_version": "1.0.0",
      "model_name": "LayoutModel",
      "state": {
       "justify_content": "center",
       "overflow_x": "auto",
       "overflow_y": "auto",
       "width": "95%"
      }
     },
     "f3e8ef14c4b6402f9ca0d78e04d42110": {
      "model_module": "@jupyter-widgets/controls",
      "model_module_version": "1.0.0",
      "model_name": "DescriptionStyleModel",
      "state": {
       "description_width": ""
      }
     },
     "f4cf500944ed4f8399aaea1aa4916951": {
      "model_module": "@jupyter-widgets/controls",
      "model_module_version": "1.0.0",
      "model_name": "CheckboxModel",
      "state": {
       "description": "Visible",
       "disabled": false,
       "layout": "IPY_MODEL_5a83029a96f44ac297cdd24e5242d910",
       "style": "IPY_MODEL_a0c7fc5c0dcf47619c3fb47d6efc1048",
       "value": true
      }
     },
     "f4cf557f22e8487cbfae7c2cb73e488b": {
      "model_module": "@jupyter-widgets/base",
      "model_module_version": "1.0.0",
      "model_name": "LayoutModel",
      "state": {}
     },
     "f63bec4f391e485eb603c6b528d0a89e": {
      "model_module": "@jupyter-widgets/controls",
      "model_module_version": "1.0.0",
      "model_name": "HBoxModel",
      "state": {
       "children": [
        "IPY_MODEL_d8ed0af324554dd6bc0f46f5a0529c44",
        "IPY_MODEL_668048b71b834f6884196164a255a4ea"
       ],
       "layout": "IPY_MODEL_9c688b8ca2894d31a29914803a4235e5"
      }
     },
     "f727934f0ecb4e1da2d7ec636f97ab5a": {
      "model_module": "@jupyter-widgets/controls",
      "model_module_version": "1.0.0",
      "model_name": "DescriptionStyleModel",
      "state": {
       "description_width": "initial"
      }
     },
     "f8235a33a111480793eac664016aab03": {
      "model_module": "@jupyter-widgets/base",
      "model_module_version": "1.0.0",
      "model_name": "LayoutModel",
      "state": {}
     },
     "fa8ff28ed10e4fcfa2239037568b9631": {
      "model_module": "@jupyter-widgets/base",
      "model_module_version": "1.0.0",
      "model_name": "LayoutModel",
      "state": {}
     },
     "fb527585628442ce8f8b688835cf6ca2": {
      "model_module": "@jupyter-widgets/controls",
      "model_module_version": "1.0.0",
      "model_name": "SelectModel",
      "state": {
       "_options_labels": [
        "",
        "Accent",
        "Accent_r",
        "Blues",
        "Blues_r",
        "BrBG",
        "BrBG_r",
        "BuGn",
        "BuGn_r",
        "BuPu",
        "BuPu_r",
        "CMRmap",
        "CMRmap_r",
        "Dark2",
        "Dark2_r",
        "GnBu",
        "GnBu_r",
        "Greens",
        "Greens_r",
        "Greys",
        "Greys_r",
        "OrRd",
        "OrRd_r",
        "Oranges",
        "Oranges_r",
        "PRGn",
        "PRGn_r",
        "Paired",
        "Paired_r",
        "Pastel1",
        "Pastel1_r",
        "Pastel2",
        "Pastel2_r",
        "PiYG",
        "PiYG_r",
        "PuBu",
        "PuBuGn",
        "PuBuGn_r",
        "PuBu_r",
        "PuOr",
        "PuOr_r",
        "PuRd",
        "PuRd_r",
        "Purples",
        "Purples_r",
        "RdBu",
        "RdBu_r",
        "RdGy",
        "RdGy_r",
        "RdPu",
        "RdPu_r",
        "RdYlBu",
        "RdYlBu_r",
        "RdYlGn",
        "RdYlGn_r",
        "Reds",
        "Reds_r",
        "Set1",
        "Set1_r",
        "Set2",
        "Set2_r",
        "Set3",
        "Set3_r",
        "Spectral",
        "Spectral_r",
        "Vega10",
        "Vega10_r",
        "Vega20",
        "Vega20_r",
        "Vega20b",
        "Vega20b_r",
        "Vega20c",
        "Vega20c_r",
        "Wistia",
        "Wistia_r",
        "YlGn",
        "YlGnBu",
        "YlGnBu_r",
        "YlGn_r",
        "YlOrBr",
        "YlOrBr_r",
        "YlOrRd",
        "YlOrRd_r",
        "afmhot",
        "afmhot_r",
        "autumn",
        "autumn_r",
        "binary",
        "binary_r",
        "bone",
        "bone_r",
        "brg",
        "brg_r",
        "bwr",
        "bwr_r",
        "cool",
        "cool_r",
        "coolwarm",
        "coolwarm_r",
        "copper",
        "copper_r",
        "cubehelix",
        "cubehelix_r",
        "flag",
        "flag_r",
        "gist_earth",
        "gist_earth_r",
        "gist_gray",
        "gist_gray_r",
        "gist_heat",
        "gist_heat_r",
        "gist_ncar",
        "gist_ncar_r",
        "gist_rainbow",
        "gist_rainbow_r",
        "gist_stern",
        "gist_stern_r",
        "gist_yarg",
        "gist_yarg_r",
        "gnuplot",
        "gnuplot2",
        "gnuplot2_r",
        "gnuplot_r",
        "gray",
        "gray_r",
        "hot",
        "hot_r",
        "hsv",
        "hsv_r",
        "inferno",
        "inferno_r",
        "jet",
        "jet_r",
        "magma",
        "magma_r",
        "nipy_spectral",
        "nipy_spectral_r",
        "ocean",
        "ocean_r",
        "pink",
        "pink_r",
        "plasma",
        "plasma_r",
        "prism",
        "prism_r",
        "rainbow",
        "rainbow_r",
        "seismic",
        "seismic_r",
        "spectral",
        "spectral_r",
        "spring",
        "spring_r",
        "summer",
        "summer_r",
        "tab10",
        "tab10_r",
        "tab20",
        "tab20_r",
        "tab20b",
        "tab20b_r",
        "tab20c",
        "tab20c_r",
        "terrain",
        "terrain_r",
        "viridis",
        "viridis_r",
        "winter",
        "winter_r"
       ],
       "description": "Colormap:",
       "index": 0,
       "layout": "IPY_MODEL_5a83029a96f44ac297cdd24e5242d910",
       "rows": 1,
       "style": "IPY_MODEL_cebe3060f660462c96b361b673476d37"
      }
     },
     "fc839b8cded948e78b6e21949fa7175b": {
      "model_module": "@jupyter-widgets/controls",
      "model_module_version": "1.0.0",
      "model_name": "HTMLModel",
      "state": {
       "layout": "IPY_MODEL_5a83029a96f44ac297cdd24e5242d910",
       "style": "IPY_MODEL_0ccdd6c0d1654d13bcbcb7cd56012d42",
       "value": "<p><hr/><h3>flatten bank:</h3></p>"
      }
     },
     "fdf0b3bfd12c4be5bb195b1231b3e1f2": {
      "model_module": "@jupyter-widgets/controls",
      "model_module_version": "1.0.0",
      "model_name": "DescriptionStyleModel",
      "state": {
       "description_width": "initial"
      }
     },
     "fe22aa81d91647bcbec547b8af061696": {
      "model_module": "@jupyter-widgets/base",
      "model_module_version": "1.0.0",
      "model_name": "LayoutModel",
      "state": {}
     },
     "fe4bc8d6deb349e4b5b5b7d3c3207c26": {
      "model_module": "@jupyter-widgets/controls",
      "model_module_version": "1.0.0",
      "model_name": "IntTextModel",
      "state": {
       "description": "Rightmost color maps to:",
       "layout": "IPY_MODEL_385c7a9874bf4c7aacc940089e627888",
       "step": 1,
       "style": "IPY_MODEL_626c227c47cd4c67916e4d6acbcd3e83",
       "value": 1
      }
     },
     "ff717e1147af492699794470e0ff514c": {
      "model_module": "@jupyter-widgets/controls",
      "model_module_version": "1.0.0",
      "model_name": "DescriptionStyleModel",
      "state": {
       "description_width": "initial"
      }
     }
    },
    "version_major": 2,
    "version_minor": 0
   }
  }
 },
 "nbformat": 4,
 "nbformat_minor": 2
}
