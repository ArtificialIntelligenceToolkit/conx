{
 "cells": [
  {
   "cell_type": "markdown",
   "metadata": {},
   "source": [
    "# Basic Example\n",
    "\n",
    "After https://s3.amazonaws.com/assets.datacamp.com/blog_assets/Keras_Cheat_Sheet_Python.pdf"
   ]
  },
  {
   "cell_type": "code",
   "execution_count": 1,
   "metadata": {
    "collapsed": true
   },
   "outputs": [],
   "source": [
    "import numpy as np"
   ]
  },
  {
   "cell_type": "code",
   "execution_count": 2,
   "metadata": {
    "collapsed": true
   },
   "outputs": [],
   "source": [
    "data = np.random.random((1000, 100))"
   ]
  },
  {
   "cell_type": "code",
   "execution_count": 3,
   "metadata": {
    "collapsed": true
   },
   "outputs": [],
   "source": [
    "labels = np.random.randint(2, size=(1000, 1))"
   ]
  },
  {
   "cell_type": "code",
   "execution_count": 4,
   "metadata": {},
   "outputs": [
    {
     "name": "stderr",
     "output_type": "stream",
     "text": [
      "Using Theano backend.\n"
     ]
    }
   ],
   "source": [
    "from conx import Network, Layer"
   ]
  },
  {
   "cell_type": "code",
   "execution_count": 5,
   "metadata": {
    "collapsed": true
   },
   "outputs": [],
   "source": [
    "net = Network(\"Example\")"
   ]
  },
  {
   "cell_type": "code",
   "execution_count": 6,
   "metadata": {
    "collapsed": true
   },
   "outputs": [],
   "source": [
    "net.add(Layer(\"input\", shape=100, vshape=(10,10)))\n",
    "net.add(Layer(\"hidden\", shape=32, vshape=(4, 8), activation=\"relu\"))\n",
    "net.add(Layer(\"output\", shape=1, activation=\"sigmoid\"))\n",
    "\n",
    "net.connect(\"input\", \"hidden\")\n",
    "net.connect(\"hidden\", \"output\")"
   ]
  },
  {
   "cell_type": "code",
   "execution_count": 7,
   "metadata": {
    "collapsed": true
   },
   "outputs": [],
   "source": [
    "net.compile(optimizer=\"rmsprop\", loss=\"binary_crossentropy\")"
   ]
  },
  {
   "cell_type": "code",
   "execution_count": 8,
   "metadata": {},
   "outputs": [
    {
     "name": "stdout",
     "output_type": "stream",
     "text": [
      "1000 train inputs, 0 test inputs\n",
      "Set 1000 inputs and targets\n",
      "Input data shape: (100,), range: (8.7163131425871399e-06, 0.99999556028237546), type: float64\n",
      "Target data shape: (1,), range: (0, 1), type: int64\n"
     ]
    }
   ],
   "source": [
    "net.set_dataset_direct(data, labels)"
   ]
  },
  {
   "cell_type": "code",
   "execution_count": 9,
   "metadata": {},
   "outputs": [
    {
     "name": "stdout",
     "output_type": "stream",
     "text": [
      "Training...\n",
      "Epoch #   25 | train loss 0.62011 | train acc 0.67800 | validate% 0.00000\n",
      "Epoch #   50 | train loss 0.53192 | train acc 0.76700 | validate% 0.00600\n",
      "Epoch #   75 | train loss 0.41905 | train acc 0.84400 | validate% 0.07100\n",
      "Epoch #  100 | train loss 0.31409 | train acc 0.92700 | validate% 0.17600\n",
      "Epoch #  125 | train loss 0.22380 | train acc 0.96200 | validate% 0.37400\n",
      "Epoch #  150 | train loss 0.15551 | train acc 0.98200 | validate% 0.52500\n",
      "Epoch #  175 | train loss 0.09949 | train acc 0.99700 | validate% 0.68800\n",
      "========================================================================\n",
      "Epoch #  188 | train loss 0.07900 | train acc 0.99900 | validate% 0.75100\n"
     ]
    }
   ],
   "source": [
    "net.train(epochs=2000, accuracy=0.75, batch_size=32, report_rate=25)"
   ]
  },
  {
   "cell_type": "code",
   "execution_count": 10,
   "metadata": {},
   "outputs": [
    {
     "data": {
      "application/javascript": [
       "\n",
       "require(['base/js/namespace'], function(Jupyter) {\n",
       "    Jupyter.notebook.kernel.comm_manager.register_target('conx_svg_control', function(comm, msg) {\n",
       "        comm.on_msg(function(msg) {\n",
       "            var data = msg[\"content\"][\"data\"];\n",
       "            var image = document.getElementById(data[\"id\"]);\n",
       "            if (image) {\n",
       "                image.setAttributeNS(null, \"href\", data[\"href\"]);\n",
       "            }\n",
       "        });\n",
       "    });\n",
       "});\n"
      ],
      "text/plain": [
       "<IPython.core.display.Javascript object>"
      ]
     },
     "metadata": {},
     "output_type": "display_data"
    },
    {
     "data": {
      "image/svg+xml": [
       "\n",
       "        <svg id='Example' xmlns='http://www.w3.org/2000/svg' width=\"300\" height=\"500\">\n",
       "    <defs>\n",
       "        <marker id=\"arrow\" markerWidth=\"10\" markerHeight=\"10\" refX=\"9\" refY=\"3\" orient=\"auto\" markerUnits=\"strokeWidth\">\n",
       "          <path d=\"M0,0 L0,6 L9,3 z\" fill=\"blue\" />\n",
       "        </marker>\n",
       "    </defs>\n",
       "<rect x=\"136.5\" y=\"24\" width=\"27\" height=\"27\" style=\"fill:none;stroke:blue;stroke-width:2\"/><image id=\"Example_output\" x=\"137.5\" y=\"25\" height=\"25\" width=\"25\" href=\"data:image/gif;base64,R0lGODdhGQAZAIAAAPz8/AAAACwAAAAAGQAZAEAIKgABCBxIsKDBgwgTKlzIsKHDhxAjSpxIsaLFixgzatzIsaPHjyBDivQYEAA7\"><title>Layer: output (output)\n",
       " shape = 1\n",
       " Keras class = Dense\n",
       " activation = sigmoid</title></image><text x=\"167.5\" y=\"39.5\" font-family=\"Verdana\" font-size=\"12\">output</text><rect x=\"140.0\" y=\"52\" width=\"20.0\" height=\"47\" style=\"fill:white;stroke:none\"><title>Weights from hidden to output\n",
       " output/kernel has shape (32, 1)\n",
       " output/bias has shape (1,)</title></rect><line x1=\"150.0\" y1=\"99\" x2=\"150.0\" y2=\"52\" stroke=\"blue\" stroke-width=\"2\" marker-end=\"url(#arrow)\"><title>Weights from hidden to output\n",
       " output/kernel has shape (32, 1)\n",
       " output/bias has shape (1,)</title></line><rect x=\"49.0\" y=\"99\" width=\"202\" height=\"102\" style=\"fill:none;stroke:blue;stroke-width:2\"/><image id=\"Example_hidden\" x=\"50.0\" y=\"100\" height=\"100\" width=\"200\" href=\"data:image/gif;base64,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\"><title>Layer: hidden (hidden)\n",
       " shape = 32\n",
       " Keras class = Dense\n",
       " activation = relu</title></image><text x=\"255.0\" y=\"152.0\" font-family=\"Verdana\" font-size=\"12\">hidden</text><rect x=\"140.0\" y=\"202\" width=\"20.0\" height=\"47\" style=\"fill:white;stroke:none\"><title>Weights from input to hidden\n",
       " hidden/kernel has shape (100, 32)\n",
       " hidden/bias has shape (32,)</title></rect><line x1=\"150.0\" y1=\"249\" x2=\"150.0\" y2=\"202\" stroke=\"blue\" stroke-width=\"2\" marker-end=\"url(#arrow)\"><title>Weights from input to hidden\n",
       " hidden/kernel has shape (100, 32)\n",
       " hidden/bias has shape (32,)</title></line><rect x=\"49.0\" y=\"249\" width=\"202\" height=\"202\" style=\"fill:none;stroke:blue;stroke-width:2\"/><image id=\"Example_input\" x=\"50.0\" y=\"250\" height=\"200\" width=\"200\" href=\"data:image/gif;base64,R0lGODdhyADIAIYAAICAgIGBgYKCgoODg4WFhYmJiYqKio2NjY6Ojo+Pj5CQkJKSkpSUlJmZmZqampubm52dnZ6enp+fn6KioqOjo6SkpKampqenp6ioqKqqqqurq62tra+vr7GxsbKysrS0tLW1tba2tri4uLm5ubu7u7y8vL+/v8DAwMLCwsPDw8TExMbGxsrKys7OztDQ0NHR0dLS0tTU1NbW1tjY2NnZ2dra2tzc3N3d3d7e3uDg4OHh4eLi4uXl5ebm5ufn5+np6ezs7O7u7u/v7/Dw8PLy8vb29vn5+fv7+/39/f7+/gAAAAAAAAAAAAAAAAAAAAAAAAAAAAAAAAAAAAAAAAAAAAAAAAAAAAAAAAAAAAAAAAAAAAAAAAAAAAAAAAAAAAAAAAAAAAAAAAAAAAAAAAAAAAAAAAAAAAAAAAAAAAAAAAAAAAAAAAAAAAAAAAAAAAAAAAAAAAAAAAAAAAAAAAAAAAAAAAAAAAAAAAAAAAAAAAAAAAAAAAAAAAAAAAAAAAAAACwAAAAAyADIAEAI/wAdCBxIsGBBEAgTKly4MIfDhxAjRiRCsaLFixcNaNzIsWPHICBDihw5EofJkyhTpjTBsqXLly9PyJxJs2bNEDhz6ty504HPn0CDBgVBtKjRo0dzKF3KtGlTIlCjSp061YDVq1izZg3CtavXr19xiB1LtmxZE2jTql279oTbt3Djxg1Bt67du3cd6N3Lt29fEIADCx48OIfhw4gTJybCuLHjx48NSJ5MuXLlIJgza968GYfnz6BDhzZBurTp06dPqF7NunXrELBjy549+4jt27hz5xbBu7fv3785CB9OvHjxDciTK1++/IDz59CjR0dBvbr169dtaN/OvXt3EuDDi/8fP36E+fPo06d3wb69+/fvj8ifT79+fRH48+vfv5+Df4AcBA4kWFDgBoQJFS5ceMDhQ4gRI6KgWNHixYs2NG7k2LEjCZAhRY4cOcLkSZQpU7pg2dLly5dAZM6kWbNmDJw5de7cWcDnT6BBg6ogWtTo0aNJlC5l2rQpBqhRpU6disLqVaxZs9bg2tXr168xxI4lW7bsDLRp1a5dC8TtW7hx48agW9fu3bsF9O7l27evCsCBBQ8enMTwYcSJE2Ng3Njx48coJE+mXLlyDcyZNW/eHMPzZ9ChQ88gXdr06dNAVK9m3bp1DNixZc+eXcD2bdy5c6vg3dv3799JhA8nXrz/OAbkyZUvX47C+XPo0aPXoF7d+vXrMbRv5969+wzw4cWPHw/D/Hn06dNTYN/e/fv3C+TPp1+//gP8+fXv3x/CP8AQAgcSLCiQBcKEChcubODwIcSIEYtQrGjx4sUaGjdy7NhRBsiQIkeOhGHyJMqUKSmwbOny5csFMmfSrFnzAc6cOnfuDOHzJ9CgQVkQLWr06NEGSpcybdq0CNSoUqdOrWH1KtasWWVw7er161cAYseSLVsWAdq0ateuTeD2Ldy4cYHQrWv37l0Fevfy7dv3AuDAggcPfmD4MOLEiU0wbuz48eMkkidTrlwZAubMmjdvBuD5M+jQoRGQLm369OkE/6pXs27dGgjs2LJnz1Zg+zbu3Lkv8O7t+/fvB8KHEy9e3ATy5MqXL0/i/Dn06NEhUK9u/fp1ANq3c+/eHQH48OLHj09g/jz69OmBsG/v/v17BfLn069f/wL+/Pr373/gH+ADgQMJFhRoAmFChQsXJnH4EGLEiBAoVrR48eIBjRs5duwYBGRIkSNHijB5EmXKlD1YtnT58iUNmTNp1qzZAWdOnTt3IvH5E2jQoCmIFjV69OgLpUuZNm06AWpUqVOnHrB6FWvWrEG4dvX69asIsWPJli3bA21atWvX0nD7Fm7cuB3o1rV79y4SvXv59u2bAnBgwYMHvzB8GHHixBMYN/92/PjxB8mTKVeuXAJzZs2bN+vw/Bl06NAqSJc2ffr0BtWrWbdurQF2bNmzZ8+wfRt37twMePf2/fu3EeHDiRcv3gF5cuXLl39w/hx69OglqFe3fv26Du3buXfvrgJ8ePHjx28wfx59+vQa2Ld3//79DPnz6devzwB/fv379xvxD9CIwIEECwrsgDChwoULPzh8CDFixBIUK1q8eFGHxo0cO3ZUATKkyJEjN5g8iTJlSg0sW7p8+XKGzJk0a9ZkgDOnzp07jfj8CTRo0A5Eixo9evSE0qVMmza9ATWq1KlTfVi9ijVrVgdcu3r9+lWA2LFky5aVgDat2rVrW7h9Czf/btwBdOvavXs3gd69fPv2PQE4sODBhAsbFnwjseLFjBn7eAw5smTJDipbvowZs4DNnDt79iwhtOjRpEm3OI06tWrVA1q7fg0bdoLZtGvbtn0it+7dvHmv+A08uHDhL4obP44cuYXlzJs7dx4huvTp1KlnuI49u3btOrp7/w4evIfx5MubN28kvfr17NkHeA8/vnz5Ferbv48f/4r9/Pv7B7hCoMAXBQ0eRIjQwkKGDR06jBBR4kSKFDNcxJhRo0YdHT1+BAnSw0iSJU2aNJJS5UqWLAO8hBlTpswKNW3exIlzxU6ePX36fBFU6FCiRC0cRZpUqdIITZ0+hQo1w1Sq/1WtWtWRVetWrlw9fAUbVqxYI2XNnkWLNsBatm3duq0QV+5cunRr3MWbV69eHn39/gUMuMJgwoUNGx6SWPFixox3PIYcWbLkGJUtX8aMmcBmzp09exYSWvRo0qR/nEadWrXqCa1dv4YNu8Zs2rVt2+aRW/du3rwr/AYeXLjwIcWNH0eOfMdy5s2dO48RXfp06tQJXMeeXbt2Id29fwcP/sd48uXNm5+QXv169uwdvIcfX758EPXt38ePP8d+/v39A8whUCCRggYPIkRoYCHDhg4dBokocSJFijguYsyoUaOJjh4/ggR5YiTJkiZNhkipciVLlg5ewowpUyaImjZv4v/EmWMnz54+fRIJKnQoUaIGjiJNqlRpkKZOn0KFimMq1apWrZrIqnUrV64nvoINK1ZsiLJmz6JFe2Qt27Zu3YqIK3cuXboc7uLNq1fvhr5+/wIGfGAw4cKGDaNIrHgxY8Y2HkOOLFkyicqWL2PGPGIz586ePbsILXo0adJHTqNOrVq1iNauX8OGzWE27dq2bW/IrXs3b94HfgMPLlw4iuLGjyNHbmM58+bOnZOILn06deojrmPPrl27i+7ev4MHf2Q8+fLmzYtIr349e/Yc3sOPL1/+hvr27+PHf2A///7+AR4QKBBFQYMHESK0sZBhQ4cOSUSUOJEixREXMWbUqNH/RUePH0GCBDKSZEmTJmOkVLmSJcsCL2HGlClTRU2bN3HiTLKTZ0+fPjEEFTqUKFEUR5EmVaq0RlOnT6FCjTGValWrVmdk1bqVK1cgX8GGFSs2RlmzZ9GiLbCWbVu3blXElTuXLt0kd/Hm1asXQ1+/fwEDRjGYcGHDhmskVryYMeMYjyFHlix5RmXLlzFjhrGZc2fPnimEFj2aNOkFp1GnVq36QWvXr2HDDjGbdm3btlnk1r2bN+8Gv4EHFy68SHHjx5Ejr7GceXPnzmVElz6dOnUY17Fn166dQnfv38GDXzCefHnz5h+kV7+ePfsQ7+HHly+fRX379/Hjb7Cff3///wAbCBRYpKDBgwgR1ljIsKFDhzIiSpxIkSKMixgzatRIoaPHjyBBLhhJsqRJkw9SqlzJkmWIlzBjypTJoqbNmzhxNtjJs6dPn0WCCh1KlGiNo0iTKlUqo6nTp1ChAphKtapVqwiyat3KlWuCr2DDihULpKzZs2jRKljLtq1btxfiyp1Ll+6Du3jz6tVroq/fv4ABJxlMuLBhwxASK17MmDGAx5AjS5aMoLLly5gxJ9jMubNnz0BCix5NmrSC06hTq1Z9obXr17BhP5hNu7Zt2yZy697Nm3eS38CDCxcOobjx48iRH1jOvLlz50GiS59OnbqI69iza9feo7v37+DB0/8YT768efMd0qtfz549kvfw48uXn6K+/fv48b/Yz7+/f4AvBAqcUNDgQYQIDyxk2NChwyARJU6kSFHERYwZNWrs0dHjR5AgaYwkWdKkyQ4pVa5kyRLJS5gxZcpMUdPmTZw4X+zk2dOnzwlBhQ4lSvTAUaRJlSoN0tTpU6hQRUylWtWq1R5ZtW7lypXGV7BhxYrtUNbsWbRokaxl29at2xRx5c6lS/fFXbx59eqd0NfvX8CAPwwmXNiw4RKJFS9mzFjHY8iRJUtWUdnyZcyYN2zm3NmzZw2hRY8mTXrGadSpVatm0Nr1a9iwjcymXdu27Q65de/mzfvDb+DBhQsvUdz/+HHkyHUsZ97cuXMV0aVPp059w3Xs2bVr19Dd+3fw4GeMJ1/evHkG6dWvZ8/eyHv48eXL71Df/n38+E/s59/fP8ATAgXeKGjwIEKEPhYybOjQoYOIEidSpCjgIsaMGjVK6OjxI0iQLUaSLGnS5ICUKleyZJngJcyYMmWeqGnzJs6cOnfevOHzJ9CgQX0QLWr06FEHSpcybdpUANSoUqdOlWD1KtasWVtw7er169cBYseSLVs2Adq0ateuPeH2Ldy4cufShXvjLt68evX66Ov3L2DADgYTLmzYsIDEihczZizhMeTIkiW3qGz5MmbMAzZz7uzZc4LQokeTJn3iNOrU/6pVr2jt+jVs2C9m065t27aF3Lp38+Yd4Tfw4MKFZyhu/Dhy5DqWM2/u3LmH6NKnU6du5Dr27Nq1B+ju/Tt48BXGky9v3vyK9OrXs2f/4j38+PLlW6hv/z5+/BH28+/vH2AEgQIzFDR4ECFCHQsZNnTo0ENEiRMpUjRyEWNGjRoDdPT4ESTICiNJljRpskZKlStZsuTxEmZMmTIr1LR5EyfOITt59vTpc0dQoUOJEo1xFGlSpUoJNHX6FCpUIVOpVrVq9UdWrVu5cp3wFWxYsWJrlDV7Fi1aHmvZtnXrtkJcuXPp0h1yF29evXp39PX7FzDgGIMJFzZsmEBixYsZM/8W8hhyZMmSf1S2fBkz5gmbOXf27LlGaNGjSZPmcRp1atWqK7R2/Ro27CGzade2bXtHbt27efOO8Rt4cOHCCRQ3fhw5ciHLmTd37vxHdOnTqVOfcB17du3aHXT3/h08eBDjyZc3bz5HevXr2bMn8h5+fPnyDdS3fx8//iD7+ff3DzCIQIE4Cho8iBChiYUMGzp0eCKixIkUKYa4iDGjRo0OOnr8CBIkiJEkS5o0mSOlypUsWRJ5CTOmTJkGatq8iRNnkJ08e/r0iSOo0KFEiZo4ijSpUqUnmjp9ChVqiKlUq1q16iCr1q1cuYL4CjasWLE5ypo9ixYtkbVs27p1ayD/rty5dOkGuYs3r169OPr6/QsYsInBhAsbNnwiseLFjBmHeAw5smTJDipbvowZM4jNnDt79pwjtOjRpEkTOY06tWrVBlq7fg0bdpDZtGvbto0jt+7dvHmb+A08uHDhJ4obP44ceYjlzJs7d+4guvTp1KmDuI49u3btObp7/w4ePJHx5MubN28gvfr17NkHeQ8/vnz5OOrbv48fv4n9/Pv7B2hCoMATBQ0eRIgwxEKGDR06PBJR4kSKFEVcxJhRo0YOHT1+BAlyw0iSJU2aPJBS5UqWLFG8hBlTpkwbNW3exImTxE6ePX36HBFU6FCiRF0cRZpUqdIjTZ0+hQpVxFSq/1WtWuWQVetWrlw3fAUbVqzYA2XNnkWLFsVatm3durURV+5cunRJ3MWbV6/eEX39/gUM2MVgwoUNGz6SWPFixoxFPIYcWbJkDpUtX8aMecNmzp09ez4QWvRo0qRRnEadWrVqG61dv4YNm8Rs2rVt2x6RW/du3rxd/AYeXLjwI8WNH0eOXMRy5s2dO+cQXfp06tQ3XMeeXbv2A929fwcPHsV48uXNm7eRXv169uxJvIcfX778EfXt38eP38V+/v39A3QhUOCRggYPIkQoYiHDhg4dcogocSJFihsuYsyoUeOBjh4/ggSJYiTJkiZN2kipciVLliRewowpU+aImjZv4v/E6WInz54+fQIJKnQoUaIxjiJNqlRpgaZOn0KFqmIq1apWrSbJqnUrV64YvoINK1YsirJmz6JFW2Mt27Zu3caIK3cuXboz7uLNq1cvkL5+/wIGHGMw4cKGDRdIrHgxY8YqHkOOLFlyksqWL2PGjGEz586ePaMILXo0adI1TqNOrVp1jNauX8OGPWM27dq2bQPJrXs3b94xfgMPLlx4geLGjyNHrmI58+bOnSeJLn06deoYrmPPrl07iu7ev4MHX2M8+fLmzcdIr349e/Yz3sOPL18+kPr27+PHH2M///7+AcYQKLBAQYMHESJUsZBhQ4cOk0SUOJEiRQwXMWbUqBH/RUePH0GCrDGSZEmTJmOkVLmSJcsZL2HGlCkTSE2bN3HijLGTZ0+fPgsEFTqUKFEVR5EmVao0SVOnT6FCxTCValWrVlFk1bqVK9caX8GGFSs2RlmzZ9GinbGWbVu3bmHElTuXLl0Kd/Hm1at3QV+/fwEDfjCYcGHDhkMkVryYMWMWjyFHliy5QWXLlzFjLrKZc2fPnmuEFj2aNGkZp1GnVq0aRmvXr2HDpjCbdm3bthfk1r2bN+8Hv4EHFy48RHHjx5EjZ7GceXPnzhtElz6dOvUi17Fn1669Rnfv38GDlzGefHnz5mGkV7+ePXsK7+HHly9/QX379/Hjf7Cff3///wAfCBQYoqDBgwgRsljIsKFDhw0iSpxIkWKRixgzatRYo6PHjyBByhhJsqRJkzBSqlzJkiWFlzBjypS5oKbNmzhxPtjJs6dPnyGCCh1KlCiLo0iTKlXaoKnTp1ChFplKtapVqzWyat3KlauMr2DDihULo6zZs2jRUljLtq1btwviyp1Ll+6Du3jz6tUboq/fv4ABsxhMuLBhww0SK17MmHGRx5AjS5Zco7Lly5gxy9jMubNnzwBCix5NmjSC06hTq1adoLXr17BhA5lNu7Zt2wpy697Nm/eF38CDCxf+oLjx48iRm1jOvLlz50miS59OnTqE69iza9cOoLv37+DBI/8YT768efMJ0qtfz549kPfw48uXr6C+/fv48V/Yz7+/f4AXBAp8UNDgQYQITSxk2NChwyQRJU6kSBHCRYwZNWoE0NHjR5AgEYwkWdKkyQQpVa5kyRLIS5gxZcpUUNPmTZw4L+zk2dOnzwdBhQ4lStTEUaRJlSpN0tTpU6hQIUylWtWqVQBZtW7lyhXBV7BhxYpNUNbsWbRogaxl29atWwVx5c6lS/fCXbx59ep90NfvX8CATQwmXNiw4SSJFS9mzBjCY8iRJUsGUNnyZcyYEWzm3Nmz5wShRY8mTRrIadSpVatW0Nr1a9iwL8ymXdu27Qe5de/mzdvEb+DBhQtPUtz/+HHkyCEsZ97cufMD0aVPp049yHXs2bVrF9Hd+3fw4HuMJ1/evHka6dWvZ8++w3v48eXLR1Lf/n38+FPs59/fP8AUAgW+KGjwIEKEExYybOjQ4YGIEidSpBjkIsaMGjWK6OjxI0iQPUaSLGnSJI2UKleyZNnhJcyYMmUiqWnzJk6cKXby7OnT54ugQocSJTrhKNKkSpUeaOr0KVSoQaZSrWrVqoisWrdy5drjK9iwYsXSKGv2LFq0HdaybevWLZK4cufSpZviLt68evW+6Ov3L2DAEwYTLmzY8IHEihczZhzkMeTIkiWLqGz5MmbMPTZz7uzZM43QokeTJt3hNOrU/6pVI2nt+jVs2Clm065t2/aL3Lp38+Y94Tfw4MKFHyhu/Dhy5EGWM2/u3LmI6NKnU6fe4zr27Nq10+ju/Tt48B3Gky9v3jyS9OrXs2ef4j38+PLlv6hv/z5+/BP28+/vH+AEgQI/FDR4ECHCEgsZNnToUEdEiRMpUlRxEWNGjRo3dPT4ESRIDSNJljRpckZKlStZsmTwEmZMmTKN1LR5EyfODjt59vTp80NQoUOJEi1xFGlSpUp1NHX6FCpUFVOpVrVqdUNWrVu5ctXwFWxYsWJnlDV7Fi1aBmvZtnXr1khcuXPp0u1wF29evXo/9PX7FzDgEoMJFzZsWEdixYsZM/9W8RhyZMmSN1S2fBkzZg2bOXf27HlGaNGjSZNmcBp1atWqjbR2/Ro27A6zade2bftDbt27efMu8Rt4cOHCdRQ3fhw5chXLmTd37nxDdOnTqVPXcB17du3aZ3T3/h08eAbjyZc3b95IevXr2bPv8B5+fPnyP9S3fx8//hL7+ff3D7CEQIE6Cho8iBChioUMGzp0uCGixIkUKWq4iDGjRo0zOnr8CBIkg5EkS5o0aSSlypUsWXZ4CTOmTJknatq8iRPnjZ08e/r06SOo0KFEiTo4ijSpUqUCmjp9ChWqhKlUq1q12iKr1q1cuQ74CjasWLEJypo9ixbtibVs27p9Czf/btsbdOvavXvXh969fPv2dQA4sODBgwUYPow4cWIJjBs7fvy4heTJlCtXHoA5s+bNmxN4/gw6dOgTpEubPo06tWrTN1q7fg0bto/ZtGvbtu0gt+7dvHkL+A08uHDhEoobP44ceYvlzJs7dz4guvTp1KknuI49u3btJ7p7/w4+vPjx32+YP48+fXof7Nu7f//egfz59OvXF4A/v/79+yX4ByhB4ECCBQW2QJhQ4cKFAxw+hBgxYgKKFS1evHhC40aOHT1+BMnxxkiSJU2a9JFS5UqWLB28hBlTpkwBNW3exIlTwk6ePX36bBFU6FCiRAccRZpUqdIETZ0+hQr1xFSq/1WtWl2RVetWrlxffAUbVqxYC2XNnkWLNsJatm3dus0QV+5cunR13MWbV69eD339/gUM2MhgwoUNGw6QWPFixowrPIYcWbLkFZUtX8aM+cVmzp09e7YQWvRo0qQjnEadWrXqDK1dv4YNW8ds2rVt2/aQW/du3ryN/AYeXLjwAMWNH0eOvMJy5s2dO18RXfp06tRfXMeeXbt2C929fwcPPsJ48uXNm8+QXv169ux1vIcfX758D/Xt38eP38h+/v39AzQiUGCAggYPIkRYYSHDhg4drogocSJFii8uYsyoUaOFjh4/ggQZYSTJkiZNZkipciVLljpewowpU6aHmjZv4v/EaWQnz54+fQYIKnQoUaIVjiJNqlTpiqZOn0KF+mIq1apWrVrIqnUrV64RvoINK1ZshrJmz6JFq2Mt27Zu3XqIK3cuXbpG7uLNq1dvgL5+/wIGXGEw4cKGDddIrHgxY8Y8HkOOLFlyhcqWL2PGPGQz586ePe8ILXo0adIxTqNOrVo1gdauX8OGLWQ27dq2bf/IrXs3b94TfgMPLlx4jeLGjyNHzmM58+bOnVeILn06depDrmPPrl37ju7ev4MHH2M8+fLmzRNIr349e/ZC3sOPL1/+j/r27+PHP2E///7+AU4QKLBGQYMHESLksZBhQ4cOK0SUOJEixSEXMWbUqHH/R0ePH0GCjDGSZEmTJgmkVLmSJUshL2HGlCnzR02bN3HinLCTZ0+fPmsEFTqUKFEeR5EmVaq0QlOnT6FCHTKValWrVndk1bqVK9cYX8GGFSuWQFmzZ9GiFbKWbVu3bn/ElTuXLt0Jd/Hm1au3Rl+/fwED5jGYcGHDhiskVryYMeMhjyFHlix5R2XLlzFjjrGZc2fPngmEFj2aNGkhp1GnVq36R2vXr2HDnjCbdm3bth3k1r2bN28Qv4EHFy48R3Hjx5EjJ7KceXPnzg1Elz6dOvUg17Fn164dR3fv38GDNzGefHnz5k+kV7+ePfsQ7+HHly/fQX379/HjB7Gff3///wBBCBSYo6DBgwgRElnIsKFDhwYiSpxIkWKQixgzatSIo6PHjyBBmhhJsqRJkydSqlzJkmWIlzBjypTpoKbNmzhxgtjJs6dPnzmCCh1KlCiRo0iTKlVqoKnTp1ChBplKtapVqziyat3KlauJr2DDihV7oqzZs2jRhljLtq1btw7iyp1Lly6Iu3jz6tWbo6/fv4ABExlMuLBhwwYSK17MmHGQx5AjS5aMo7Lly5gxm9jMubNnzydCix5NmnSI06hTq1btoLXr17Bhg5hNu7Zt2zly697NmzeR38CDCxduoLjx48iRB1nOvLlz5ziiS59OnbqJ69iza9d+orv37+DBh/8YT768efMO0qtfz549iPfw48uXn6O+/fv48RPZz7+/f4BEBAo0UNDgQYQIgyxk2NChQxwRJU6kSNHERYwZNWo80dHjR5AgQ4wkWdKkSQcpVa5kyRLES5gxZcrMUdPmTZw4iezk2dOnTwNBhQ4lSjTIUaRJlSrF0dTpU6hQTUylWtWq1RNZtW7lyjXEV7BhxYp1UNbsWbRoQaxl29at2xxx5c6lS5fIXbx59eo10NfvX8CAgwwmXNiwYRyJFS9mzNjEY8iRJUs+UdnyZcyYQ2zm3NmzZwehRY8mTRrEadSpVavO0dr1a9iwicymXdu2bQO5de/mzTvIb+DBhQvHUdz/+HHkyE0sZ97cufMT0aVPp049xHXs2bVrd9Dd+3fw4EGMJ1/evPkc6dWvZ8+eyHv48eXLN1Df/n38+IPs59/fP8AgAgXiKGjwIEKEJhYybOjQ4YmIEidSpBjiIsaMGjUe6ejxI0iQIkaSLGnSJIeUKleyZLnhJcyYMmUeqGnzJk6cKHby7OnTp42gQocSJUriKNKkSpWOaOr0KVSoLqZSrWrV6pGsWrdy5SriK9iwYsVyKGv2LFq0G9aybevW7YG4cufSpYviLt68evXa6Ov3L2DAJAYTLmzY8IjEihczZuziMeTIkiUfqWz5MmbMIjZz7uzZM4fQokeTJr3hNOrU/6pVH2jt+jVs2Chm065t27aN3Lp38+ZN4jfw4MKFjyhu/Dhy5C6WM2/u3PmR6NKnU6cu4jr27Nq1c+ju/Tt48BvGky9v3vyB9OrXs2eP4j38+PLl26hv/z5+/CT28+/vHyAJgQJHFDR4ECFCFwsZNnTo8EhEiRMpUhRxEWNGjRo5dPT4ESTIDSNJljRp8kBKlStZskTxEmZMmTJt1LR5EydOEjt59vTpc0RQoUOJEnVxFGlSpUqPNHX6FCpUEVOpVrVqlUNWrVu5ct3wFWxYsWIPlDV7Fi1aFGvZtnXr1kZcuXPp0iVxF29evXpH9PX7FzBgF4MJFzZs+EhixYsZM/8W8RhyZMmSOVS2fBkz5g2bOXf27PlAaNGjSZNGcRp1atWqbbR2/Ro2bBKzade2bXtEbt27efN28Rt4cOHCjxQ3fhw5chHLmTd37pxDdOnTqVPfcB17du3aD3T3/h08eBTjyZc3b95GevXr2bMn8R5+fPnyR9S3fx8/fhf7+ff3D9CFQIFHCho8iBChiIUMGzp0yCGixIkUKW64iDGjRo0HOnr8CBIkipEkS5o0aSOlypUsWZJ4CTOmTJkjatq8iROni508e/r0eSSo0KFEiYo4ijSpUqUcmjp9ChXqhqlUq1q1eiCr1q1cuaL4CjasWLE2ypo9ixYtibVs27p1OyL/rty5dOm6uIs3r169QPr6/QsYcIzBhAsbNlwgseLFjBmreAw5smTJSSpbvowZM4bNnDt79owitOjRpEnXOI06tWrVMVq7fg0b9ozZtGvbtg0kt+7dvHnH+A08uHDhBYobP44cuYrlzJs7d54kuvTp1KljuI49u3btKLp7/w4efI3x5MubNx8jvfr17NnPeA8/vnz5QOrbv48ff4z9/Pv7BxhDoMACBQ0eRIhQxUKGDR06TBJR4kSKFDFcxJhRo0YUHT1+BAmyxkiSJU2ajJFS5UqWLGe8hBlTpkwgNW3exIkzxk6ePX36LBBU6FCiRFUcRZpUqdIkTZ0+hQoVw1Sq/1WtWkWRVetWrlxrfAUbVqzYGGXNnkWLdsZatm3dugUSV+5cunRj3MWbV6/eAn39/gUMWMVgwoUNG06SWPFixowxPIYcWbJkFJUtX8aMucZmzp09e44RWvRo0qRnnEadWrVqIK1dv4YNO8Zs2rVt2y6QW/du3rxV/AYeXLjwJMWNH0eOHMNy5s2dO0cRXfp06tRrXMeeXbv2GN29fwcPfsZ48uXNmweSXv169uxjvIcfX778AvXt38ePX8V+/v39A1QhUGCSggYPIkSIYSHDhg4doogocSJFijUuYsyoUWOMjh4/ggQ5YyTJkiZNAkmpciVLljFewowpU2aBmjZv4v/EqWInz54+fSYJKnQoUaIYjiJNqlQpiqZOn0KFWmMq1apWrcbIqnUrV64zvoINK1YskLJmz6JFG2Mt27Zu3RaIK3cuXboq7uLNq1dvkr5+/wIGjGEw4cKGDaNIrHgxY8Y1HkOOLFlyjMqWL2PGPGMz586ePQMJLXo0adIxTqNOrVp1gdauX8OGrWI27dq2bSfJrXs3b94YfgMPLlw4iuLGjyNHXmM58+bOnceILn06deozrmPPrl07jO7ev4MHT2E8+fLmzS9Ir349e/YP3sOPL19+iPr27+PHz2I///7+AbIQKLBBQYMHESIsspBhQ4cOa0SUOJEiRRkXMWbUqBH/RkePH0GCpDCSZEmTJhekVLmSJcsHL2HGlCkzRE2bN3HiZLGTZ0+fPhsEFTqUKNEiR5EmVaq0RlOnT6FClTGValWrVmFk1bqVK1cKX8GGFSt2QVmzZ9GifbCWbVu3bkPElTuXLl0Wd/Hm1au3QV+/fwEDLjKYcGHDhmskVryYMWMZjyFHliwZRmXLlzFjprCZc2fPnheEFj2aNOkHp1GnVq06RGvXr2HDZjGbdm3bthvk1r2bN+8iv4EHFy68RnHjx5Ejl7GceXPnzmFElz6dOnUK17Fn1659QXfv38GDfzCefHnz5kOkV7+ePXsW7+HHly+/QX379/HjL7Kff3///wCLCBRYo6DBgwgRyljIsKFDhzAiSpxIkSKFixgzatS4oKPHjyBBPhhJsqRJkyFSqlzJkiWLlzBjypTZoKbNmzhxFtnJs6dPnzWCCh1KlKiMo0iTKlUKo6nTp1ChUphKtapVqwuyat3KleuDr2DDihUboqzZs2jRsljLtq1btw3iyp1Ll26Ru3jz6tVbo6/fv4AByxhMuLBhwzASK17MmDGFx5AjS5a8oLLly5gxP9jMubNnzyFCix5NmjSL06hTq1bdoLXr17BhF5lNu7Zt2zVy697Nm7eM38CDCxcOo7jx48iRU1jOvLlz5wuiS59OnfqD69iza9ceorv37+DBs/8YT768efMN0qtfz559kffw48uXX6O+/fv48cvYz7+/f4AyBAqEUdDgQYQIKSxk2NChwwURJU6kSPHBRYwZNWoM0dHjR5AgWYwkWdKkyQYpVa5kybLIS5gxZcqsUdPmTZw4Zezk2dOnTwBBhQ4lShTBUaRJlSpN0NTpU6hQgUylWtWqVQVZtW7lyvXCV7BhxYp9UNbsWbRoTaxl29at2yRx5c6lSxfCXbx59eoF0NfvX8CAEQwmXNiw4QSJFS9mzBjIY8iRJUtWUNnyZcyYL2zm3Nmz5wehRY8mTdrEadSpVatO0tr1a9iwIcymXdu2bQC5de/mzRvBb+DBhQtPUNz/+HHkyIEsZ97cuXMF0aVPp079wnXs2bVrf9Dd+3fw4E2MJ1/evPkk6dWvZ88ewnv48eXLB1Df/n38+BHs59/fP0AEAgUmKGjwIEKEQBYybOjQoYKIEidSpHjhIsaMGjU+6OjxI0iQJkaSLGnSZJKUKleyZAnhJcyYMmUCqGnzJk6cCHby7OnTZ4KgQocSJQrkKNKkSpUqaOr0KVSoF6ZSrWrV6oOsWrdy5WriK9iwYsUmKWv2LFq0ENaybevWLYC4cufSpYvgLt68evUm6Ov3L2DAQAYTLmzYsILEihczZnzhMeTIkiU/qGz5MmbMJjZz7uzZc5LQokeTJg3hNOrU/6pVA2jt+jVs2Ahm065t23aC3Lp38+YN5Dfw4MKFKyhu/Dhy5BeWM2/u3PmD6NKnU6du4jr27Nq1J+nu/Tt48BDGky9v3jyA9OrXs2eP4D38+PLlJ6hv/z5+/ED28+/vHyAQgQIVFDR4ECHCCwsZNnTo8EFEiRMpUjRxEWNGjRqTdPT4ESRICCNJljRpEkBKlStZskTwEmZMmTIT1LR5EydOIDt59vTpU0FQoUOJEr1wFGlSpUofNHX6FCpUE1OpVrVqNUlWrVu5coXwFWxYsWIBlDV7Fi1aBGvZtnXrNkFcuXPp0gVyF29evXoV9PX7FzDgC4MJFzZs+EFixYsZM/828RhyZMmSk1S2fBkzZgibOXf27PlAaNGjSZMOchp1atWqRbR2/Ro27B6zade2bZtGbt27efPu8Bt4cOHCkRQ3fhw58hTLmTd37vxFdOnTqVOfcB17du3aD3T3/h08+CDjyZc3b15EevXr2bPv8R5+fPnyadS3fx8//g77+ff3D7CDQIFICho8iBBhioUMGzp0+CKixIkUKU64iDGjRo0HOnr8CBJkkJEkS5o0KSKlypUsWfZ4CTOmTJk0atq8iRNnh508e/r0iSSo0KFEiaY4ijSpUqUvmjp9ChXqhKlUq1q1eiCr1q1cuQb5CjasWLEiypo9ixZtj7Vs27p1SyP/rty5dOl2uIs3r169SPr6/QsYcIrBhAsbNvwiseLFjBlPeAw5smTJBypbvowZc5DNnDt79iwitOjRpEn3OI06tWrVNFq7fg0bdofZtGvbto0kt+7dvHmn+A08uHDhL4obP44c+YTlzJs7d34guvTp1KkHuY49u3btIrp7/w4efI/x5MubN08jvfr17Nl3eA8/vnz5SOrbv48ff4r9/Pv7B5hCoMAXBQ0eRIhwwkKGDR06PBBR4kSKFINcxJhRo0YRHT1+BAmyx0iSJU2apJFS5UqWLDu8hBlTpkwkNW3exIkzxU6ePX36fBFU6FCiRCccRZpUqdIDTZ0+hQo1yFSq/1WtWhWRVetWrlx7fAUbVqxYGmXNnkWLtsNatm3dukUSV+5cunRT3MWbV6/eF339/gUMeMJgwoUNGz6QWPFixoyDPIYcWbJkEZUtX8aMucdmzp09e6YRWvRo0qQ7nEadWrVqJK1dv4YNO8Vs2rVt236RW/du3rwn/AYeXLjwA8WNH0eOPMhy5s2dOxcRXfp06tR7XMeeXbt2Gt29fwcPvsN48uXNm0eSXv169uxTvIcfX778F/Xt38ePf8J+/v39A5wgUOCHggYPIkRYYiHDhg4d6ogocSJFiiouYsyoUeOGjh4/ggSpYSTJkiZNzkipciVLlgxewowpU6aRmjZv4v/E2WEnz54+fX4IKnQoUaIljiJNqlSpjqZOn0KFqmIq1apWrW7IqnUrV64avoINK1bsjLJmz6JFy2At27Zu3RqJK3cuXbod7uLNq1fvh75+/wIGXGIw4cKGDetIrHgxY8YqHkOOLFnyhsqWL2PGrGEz586ePc8ILXo0adIMTqNOrVq1kdauX8OG3WE27dq2bX/IrXs3b94lfgMPLly4juLGjyNHrmI58+bOnW+ILn06deoarmPPrl37jO7ev4MHz2A8+fLmzRtJr349e/Yd3sOPL1/+h/r27+PHX2I///7+AZYQKFBHQYMHESJUsZBhQ4cON0SUOJEiRQ0XMWbUqHH/RkePH0GCZDCSZEmTJo2kVLmSJcsOL2HGlCnzQ02bN3HiLLGTZ0+fPnUEFTqUKFEVR5EmVap0Q1OnT6FC1TCValWrVmdk1bqVK1cGX8GGFSvWSFmzZ9Gi7bCWbVu3bj/ElTuXLt0Sd/Hm1atXR1+/fwEDVjGYcGHDhjckVryYMWMNjyFHlix5RmXLlzFjZrCZc2fPno2EFj2aNOkOp1GnVq36Q2vXr2HDLjGbdm3btnXk1r2bN28Vv4EHFy58Q3Hjx5Ej17CceXPnzmdElz6dOnUG17Fn167dSHfv38GD7zCefHnz5j+kV7+ePfsS7+HHly9fR3379/HjV7Gff3///wBVCBS4oaDBgwgRaljIsKFDhzMiSpxIkSKDixgzatRopKPHjyBBdhhJsqRJkx9SqlzJkmWJlzBjypSpo6bNmzhxqtjJs6dPnxuCCh1KlKiGo0iTKlU6o6nTp1ChMphKtapVq0ayat3KlWuHr2DDihV7oqzZs2jR3ljLtq1btz7iyp1Ll66Du3jz6tUroK/fv4ABSxhMuLBhwy0SK17MmPGAx5AjS5acoLLly5gxn9jMubPnz6BDd75BurTp06d9qF7NunVrB7Bjy549W4Dt27hz55bAu7fv379bCB9OvHjxAciTK1++PIHz59CjRz9Bvbr169iza7d+o7v37+DB+/8YT768efMO0qtfz569gPfw48uXL6G+/fv48bfYz7+/f4AtBAocUNDgQYQIEyxk2NChwxMRJU6kWNHixYk3NG7k2LGjD5AhRY4c6cDkSZQpUwpg2dLly5cSZM6kWbNmC5w5de7cOcDnT6BBgyYgWtTo0aMnlC5l2tTpU6hMb0ylWtWqVR9ZtW7lytXBV7BhxYoVUNbsWbRoJaxl29at2xZx5c6lS3fAXbx59epN0NfvX8CATwwmXNjwYcSJC99g3Njx48c+JE+mXLmyA8yZNW/eLMDzZ9ChQ0sgXdr06dMtVK9m3br1ANixZc+encD2bdy5c5/g3dv3b+DBhfu+Udz/+HHkyH0sZ97cuXMH0aVPp05dwHXs2bVrl9Dd+3fw4FuMJ1/evPkB6dWvZ88+wXv48eXLP1Hf/n38+fXvv3/DP8AbAgcSLCjQB8KEChcudODwIcSIEQVQrGjx4kUJGjdy7NixBciQIkeOHGDyJMqUKROwbOny5csTMmfSrGnzJk6aN3by7OnTp4+gQocSJergKNKkSpUKaOr0KVSoEqZSrWrVaousWrdy5TrgK9iwYsUmKGv2LFq0J9aybev2Ldy4bW/QrWv37l0fevfy7dvXAeDAggcPFmD4MOLEiSUwbuz48eMWkidTrlx5AObMmjdvTuD5M+jQoU+QLm369OkV/6pXs27d+gXs2LJnz7Zg+zbu3Lkj8O7t+/fvDMKHEy9eXAfy5MqXL/fg/Dn06NGNUK9u/fr1ANq3c+/evQL48OLHj19h/jz69OlfsG/v/v17C/Ln069fPwL+/Pr378/gH2AGgQMJFhSoA2FChQsXenD4EGLEiEYoVrR48WIAjRs5duxYAWRIkSNHrjB5EmXKlC9YtnT58qUFmTNp1qwZAWdOnTt3ZvD5E2jQoDqIFjV69KgHpUuZNm1qBGpUqVOnBrB6FWvWrBW4dvX69esKsWPJli37Am1atWvXWnD7Fm7cuBHo1rV7924GvXv59u2rA3BgwYMHezB8GHHixEYYN/92/PhxAMmTKVeuXAFzZs2bN6/w/Bl06NAvSJc2ffq0BdWrWbduHQF2bNmzZ2ewfRt37tw6ePf2/fu3B+HDiRcvbgR5cuXLlwdw/hx69OgVqFe3fv36Cu3buXfv/gJ8ePHjx1swfx59+vQR2Ld3//59Bvnz6devrwN/fv3793vwD9CDwIEECwo0gjChwoULAzh8CDFixAoUK1q8eHGFxo0cO3Z8ATKkyJEjLZg8iTJlyggsW7p8+TKDzJk0a9bUgTOnzp07Pfj8CTRoUCNEixo9ejSA0qVMmzatADWq1KlTV1i9ijVr1hdcu3r9+tWC2LFky5aNgDat2rVrM7h9Czf/blwddOvavXvXg969fPv2NQI4sODBgwMYPow4ceIKjBs7fvx4heTJlCtXfoE5s+bNmy14/gw6dOgIpEubPn06g+rVrFu31gE7tuzZsz3Yvo07d24jvHv7/v07gPDhxIsXr4A8ufLly1c4fw49evQX1Ktbv37dgvbt3Lt3jwA+vPjx4zOYP48+fXod7Nu7f//eg/z59OvXN4I/v/79+wP4BxhA4ECCBQVWQJhQ4cKFNRw+hBgxIg+KFS1evFhB40aOHTsOARlS5MiRO0yeRJkyZQyWLV2+fElA5kyaNWsKwZlT586dP3z+BBo06ASiRY0ePVpD6VKmTZvygBpV6tSp/xWsXsWaNesQrl29fv26Q+xYsmXLxkCbVu3atQTcvoUbN64QunXt3r37Q+9evn37TgAcWPDgwTUMH0acODEPxo0dP35cQfJkypUrD8GcWfPmzTs8fwYdOnQM0qVNnz5NQPVq1q1bC4EdW/bs2T9s38adO/cE3r19//5dQ/hw4sWL80CeXPny5RWcP4cePfoQ6tWtX7++Q/t27t27xwAfXvz48QTMn0efPr0Q9u3dv3//Q/58+vXrT8CfX//+/TX8A6whcCDBggJ5IEyocOHCCg4fQowYcQjFihYvXtyhcSPHjh1jgAwpcuRIAiZPokyZUgjLli5fvvwhcybNmjUn4P/MqXPnzho+fwINGpQH0aJGjx6toHQp06ZNh0CNKnXq1B1Wr2LNmjUG165ev34lIHYs2bJlhaBNq3bt2h9u38KNG3cC3bp2796toXcv3759eQAOLHjw4AqGDyNOnHgI48aOHz/eIXky5cqVY2DOrHnzZgKeP4MOHVoI6dKmT5/+oXo169atJ8COLXv27Bq2b+POnZsH796+f/+uIHw48eLFhyBPrnz58h3On0OPHj0G9erWr18noH079+7dhYAPL378+B/mz6NPn34C+/bu37+vIX8+/fr1eeDPr3///gr+AVYQOJBgQYFDECZUuHDhDocPIUaMGINiRYsXLxLQuJFcY8eOQkCGFDly5A+TJ1GmTDmBZUuXL1/WkDmTZs2aPHDm1LlzZwWfP4EGDTqEaFGjR4/uULqUadOmMaBGlTp1KgGrV7FmzSqEa1evX7/+EDuWbNmyE9CmVbt2bUAAOw==\"><title>Layer: input (input)\n",
       " shape = 100\n",
       " Keras class = Input</title></image><text x=\"255.0\" y=\"352.0\" font-family=\"Verdana\" font-size=\"12\">input</text></svg>"
      ],
      "text/plain": [
       "<Network name='Example'>"
      ]
     },
     "execution_count": 10,
     "metadata": {},
     "output_type": "execute_result"
    }
   ],
   "source": [
    "net"
   ]
  },
  {
   "cell_type": "code",
   "execution_count": 11,
   "metadata": {
    "collapsed": true
   },
   "outputs": [],
   "source": [
    "import time\n",
    "for index in range(50):\n",
    "    net.propagate(net.get_input(index))\n",
    "    time.sleep(.1)"
   ]
  },
  {
   "cell_type": "code",
   "execution_count": null,
   "metadata": {
    "collapsed": true
   },
   "outputs": [],
   "source": []
  }
 ],
 "metadata": {
  "kernelspec": {
   "display_name": "Python 3",
   "language": "python",
   "name": "python3"
  },
  "language_info": {
   "codemirror_mode": {
    "name": "ipython",
    "version": 3
   },
   "file_extension": ".py",
   "mimetype": "text/x-python",
   "name": "python",
   "nbconvert_exporter": "python",
   "pygments_lexer": "ipython3",
   "version": "3.5.3"
  }
 },
 "nbformat": 4,
 "nbformat_minor": 2
}
