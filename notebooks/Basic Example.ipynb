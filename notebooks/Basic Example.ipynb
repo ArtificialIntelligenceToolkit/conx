{
 "cells": [
  {
   "cell_type": "markdown",
   "metadata": {},
   "source": [
    "# Basic Example\n",
    "\n",
    "After https://s3.amazonaws.com/assets.datacamp.com/blog_assets/Keras_Cheat_Sheet_Python.pdf"
   ]
  },
  {
   "cell_type": "code",
   "execution_count": 1,
   "metadata": {
    "collapsed": true
   },
   "outputs": [],
   "source": [
    "import sys\n",
    "sys.path.append(\"..\")"
   ]
  },
  {
   "cell_type": "code",
   "execution_count": 2,
   "metadata": {
    "collapsed": true
   },
   "outputs": [],
   "source": [
    "import numpy as np"
   ]
  },
  {
   "cell_type": "code",
   "execution_count": 3,
   "metadata": {
    "collapsed": true
   },
   "outputs": [],
   "source": [
    "data = np.random.random((1000, 100))"
   ]
  },
  {
   "cell_type": "code",
   "execution_count": 4,
   "metadata": {
    "collapsed": true
   },
   "outputs": [],
   "source": [
    "labels = np.random.randint(2, size=(1000, 1))"
   ]
  },
  {
   "cell_type": "code",
   "execution_count": 5,
   "metadata": {},
   "outputs": [
    {
     "name": "stderr",
     "output_type": "stream",
     "text": [
      "Using Theano backend.\n"
     ]
    }
   ],
   "source": [
    "from conx import Network, Layer"
   ]
  },
  {
   "cell_type": "code",
   "execution_count": 6,
   "metadata": {
    "collapsed": true
   },
   "outputs": [],
   "source": [
    "net = Network(\"Example\")"
   ]
  },
  {
   "cell_type": "code",
   "execution_count": 7,
   "metadata": {
    "collapsed": true
   },
   "outputs": [],
   "source": [
    "net.add(Layer(\"input\", shape=100, vshape=(10,10)))\n",
    "net.add(Layer(\"hidden\", shape=32, vshape=(4, 8), activation=\"relu\"))\n",
    "net.add(Layer(\"output\", shape=1, activation=\"sigmoid\"))\n",
    "\n",
    "net.connect(\"input\", \"hidden\")\n",
    "net.connect(\"hidden\", \"output\")"
   ]
  },
  {
   "cell_type": "code",
   "execution_count": 8,
   "metadata": {
    "collapsed": true
   },
   "outputs": [],
   "source": [
    "net.compile(optimizer=\"rmsprop\", loss=\"binary_crossentropy\")"
   ]
  },
  {
   "cell_type": "code",
   "execution_count": 9,
   "metadata": {},
   "outputs": [
    {
     "name": "stdout",
     "output_type": "stream",
     "text": [
      "1000 train inputs, 0 test inputs\n",
      "Set 1000 inputs and targets\n",
      "Input data shape: (100,), range: (1.0121552408870471e-05, 0.99999565703406135), type: float64\n",
      "Target data shape: (1,), range: (0, 1), type: int64\n"
     ]
    }
   ],
   "source": [
    "net.set_dataset_direct(data, labels)"
   ]
  },
  {
   "cell_type": "code",
   "execution_count": 10,
   "metadata": {},
   "outputs": [
    {
     "name": "stdout",
     "output_type": "stream",
     "text": [
      "Training...\n",
      "Epoch #   25 | train loss 0.62584 | train acc 0.66800 | validate% 0.00000\n",
      "Epoch #   50 | train loss 0.54692 | train acc 0.74700 | validate% 0.00700\n",
      "Epoch #   75 | train loss 0.44724 | train acc 0.82700 | validate% 0.04800\n",
      "Epoch #  100 | train loss 0.34977 | train acc 0.89300 | validate% 0.12500\n",
      "Epoch #  125 | train loss 0.26299 | train acc 0.94800 | validate% 0.25600\n",
      "Epoch #  150 | train loss 0.19186 | train acc 0.96800 | validate% 0.42300\n",
      "Epoch #  175 | train loss 0.13207 | train acc 0.99300 | validate% 0.56700\n",
      "Epoch #  200 | train loss 0.08990 | train acc 0.99800 | validate% 0.75300\n",
      "========================================================================\n",
      "Epoch #  200 | train loss 0.08990 | train acc 0.99800 | validate% 0.75300\n"
     ]
    }
   ],
   "source": [
    "net.train(epochs=2000, accuracy=0.75, batch_size=32, report_rate=25)"
   ]
  },
  {
   "cell_type": "code",
   "execution_count": 10,
   "metadata": {},
   "outputs": [
    {
     "data": {
      "application/javascript": [
       "\n",
       "require(['base/js/namespace'], function(Jupyter) {\n",
       "    Jupyter.notebook.kernel.comm_manager.register_target('conx_svg_control', function(comm, msg) {\n",
       "        comm.on_msg(function(msg) {\n",
       "            var data = msg[\"content\"][\"data\"];\n",
       "            var image = document.getElementById(data[\"id\"]);\n",
       "            if (image) {\n",
       "                image.setAttributeNS(null, \"href\", data[\"href\"]);\n",
       "            }\n",
       "        });\n",
       "    });\n",
       "});\n"
      ],
      "text/plain": [
       "<IPython.core.display.Javascript object>"
      ]
     },
     "metadata": {},
     "output_type": "display_data"
    },
    {
     "data": {
      "image/svg+xml": [
       "\n",
       "        <svg id='Example' xmlns='http://www.w3.org/2000/svg' width=\"300\" height=\"500\">\n",
       "    <defs>\n",
       "        <marker id=\"arrow\" markerWidth=\"10\" markerHeight=\"10\" refX=\"9\" refY=\"3\" orient=\"auto\" markerUnits=\"strokeWidth\">\n",
       "          <path d=\"M0,0 L0,6 L9,3 z\" fill=\"blue\" />\n",
       "        </marker>\n",
       "    </defs>\n",
       "<rect x=\"136.5\" y=\"24\" width=\"27\" height=\"27\" style=\"fill:none;stroke:blue;stroke-width:2\"/><image id=\"Example_output\" x=\"137.5\" y=\"25\" height=\"25\" width=\"25\" href=\"data:image/gif;base64,R0lGODdhGQAZAIAAALS0tAAAACwAAAAAGQAZAEAIKgABCBxIsKDBgwgTKlzIsKHDhxAjSpxIsaLFixgzatzIsaPHjyBDivQYEAA7\"><title>Layer: output (output)\n",
       " shape = 1\n",
       " Keras class = Dense\n",
       " activation = sigmoid</title></image><text x=\"167.5\" y=\"39.5\" font-family=\"Verdana\" font-size=\"12\">output</text><rect x=\"140.0\" y=\"51\" width=\"20.0\" height=\"49\" style=\"fill:white;stroke:none\"><title>Weights from hidden to output\n",
       " output/kernel has shape (32, 1)\n",
       " output/bias has shape (1,)</title></rect><line x1=\"150.0\" y1=\"100\" x2=\"150.0\" y2=\"50\" stroke=\"blue\" stroke-width=\"2\" marker-end=\"url(#arrow)\"><title>Weights from hidden to output\n",
       " output/kernel has shape (32, 1)\n",
       " output/bias has shape (1,)</title></line><rect x=\"49.0\" y=\"99\" width=\"202\" height=\"102\" style=\"fill:none;stroke:blue;stroke-width:2\"/><image id=\"Example_hidden\" x=\"50.0\" y=\"100\" height=\"100\" width=\"200\" href=\"data:image/gif;base64,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\"><title>Layer: hidden (hidden)\n",
       " shape = 32\n",
       " Keras class = Dense\n",
       " activation = relu</title></image><text x=\"255.0\" y=\"152.0\" font-family=\"Verdana\" font-size=\"12\">hidden</text><rect x=\"140.0\" y=\"201\" width=\"20.0\" height=\"49\" style=\"fill:white;stroke:none\"><title>Weights from input to hidden\n",
       " hidden/kernel has shape (100, 32)\n",
       " hidden/bias has shape (32,)</title></rect><line x1=\"150.0\" y1=\"250\" x2=\"150.0\" y2=\"200\" stroke=\"blue\" stroke-width=\"2\" marker-end=\"url(#arrow)\"><title>Weights from input to hidden\n",
       " hidden/kernel has shape (100, 32)\n",
       " hidden/bias has shape (32,)</title></line><rect x=\"49.0\" y=\"249\" width=\"202\" height=\"202\" style=\"fill:none;stroke:blue;stroke-width:2\"/><image id=\"Example_input\" x=\"50.0\" y=\"250\" height=\"200\" width=\"200\" href=\"data:image/gif;base64,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\"><title>Layer: input (input)\n",
       " shape = 100\n",
       " Keras class = Input</title></image><text x=\"255.0\" y=\"352.0\" font-family=\"Verdana\" font-size=\"12\">input</text></svg>"
      ],
      "text/plain": [
       "<Network name='Example'>"
      ]
     },
     "execution_count": 10,
     "metadata": {},
     "output_type": "execute_result"
    }
   ],
   "source": [
    "net"
   ]
  },
  {
   "cell_type": "code",
   "execution_count": 12,
   "metadata": {
    "collapsed": true
   },
   "outputs": [],
   "source": [
    "import time\n",
    "for index in range(50):\n",
    "    net.propagate(net.get_input(index))\n",
    "    time.sleep(.1)"
   ]
  },
  {
   "cell_type": "code",
   "execution_count": null,
   "metadata": {
    "collapsed": true
   },
   "outputs": [],
   "source": []
  }
 ],
 "metadata": {
  "kernelspec": {
   "display_name": "Python 3",
   "language": "python",
   "name": "python3"
  },
  "language_info": {
   "codemirror_mode": {
    "name": "ipython",
    "version": 3
   },
   "file_extension": ".py",
   "mimetype": "text/x-python",
   "name": "python",
   "nbconvert_exporter": "python",
   "pygments_lexer": "ipython3",
   "version": "3.5.3"
  }
 },
 "nbformat": 4,
 "nbformat_minor": 2
}
