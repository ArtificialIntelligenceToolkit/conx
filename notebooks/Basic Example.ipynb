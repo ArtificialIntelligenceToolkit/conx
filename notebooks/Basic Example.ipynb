{
 "cells": [
  {
   "cell_type": "markdown",
   "metadata": {},
   "source": [
    "# Basic Example\n",
    "\n",
    "After https://s3.amazonaws.com/assets.datacamp.com/blog_assets/Keras_Cheat_Sheet_Python.pdf"
   ]
  },
  {
   "cell_type": "code",
   "execution_count": 1,
   "metadata": {
    "collapsed": true
   },
   "outputs": [],
   "source": [
    "import sys\n",
    "sys.path.append(\"..\")"
   ]
  },
  {
   "cell_type": "code",
   "execution_count": 2,
   "metadata": {
    "collapsed": true
   },
   "outputs": [],
   "source": [
    "import numpy as np"
   ]
  },
  {
   "cell_type": "code",
   "execution_count": 3,
   "metadata": {
    "collapsed": true
   },
   "outputs": [],
   "source": [
    "data = np.random.random((1000, 100))"
   ]
  },
  {
   "cell_type": "code",
   "execution_count": 4,
   "metadata": {
    "collapsed": true
   },
   "outputs": [],
   "source": [
    "labels = np.random.randint(2, size=(1000, 1))"
   ]
  },
  {
   "cell_type": "code",
   "execution_count": 5,
   "metadata": {},
   "outputs": [
    {
     "name": "stderr",
     "output_type": "stream",
     "text": [
      "Using Theano backend.\n"
     ]
    }
   ],
   "source": [
    "from conx import Network, Layer"
   ]
  },
  {
   "cell_type": "code",
   "execution_count": 6,
   "metadata": {
    "collapsed": true
   },
   "outputs": [],
   "source": [
    "net = Network(\"Example\")"
   ]
  },
  {
   "cell_type": "code",
   "execution_count": 7,
   "metadata": {
    "collapsed": true
   },
   "outputs": [],
   "source": [
    "net.add(Layer(\"input\", shape=100, vshape=(10,10)))\n",
    "net.add(Layer(\"hidden\", shape=32, vshape=(4, 8), activation=\"relu\"))\n",
    "net.add(Layer(\"output\", shape=1, activation=\"sigmoid\"))\n",
    "\n",
    "net.connect(\"input\", \"hidden\")\n",
    "net.connect(\"hidden\", \"output\")"
   ]
  },
  {
   "cell_type": "code",
   "execution_count": 8,
   "metadata": {
    "collapsed": true
   },
   "outputs": [],
   "source": [
    "net.compile(optimizer=\"rmsprop\", loss=\"binary_crossentropy\")"
   ]
  },
  {
   "cell_type": "code",
   "execution_count": 9,
   "metadata": {},
   "outputs": [
    {
     "name": "stdout",
     "output_type": "stream",
     "text": [
      "1000 train inputs, 0 test inputs\n",
      "Set 1000 inputs and targets\n",
      "Input data shape: (100,), range: (1.9674344598930027e-05, 0.99999348559537815), type: float64\n",
      "Target data shape: (1,), range: (0, 1), type: int64\n"
     ]
    }
   ],
   "source": [
    "net.set_dataset_direct(data, labels)"
   ]
  },
  {
   "cell_type": "code",
   "execution_count": 10,
   "metadata": {},
   "outputs": [
    {
     "name": "stdout",
     "output_type": "stream",
     "text": [
      "Training...\n",
      "Epoch #   25 | train loss 0.61157 | train acc 0.69600 | validate% 0.00000\n",
      "Epoch #   50 | train loss 0.49757 | train acc 0.79200 | validate% 0.00900\n",
      "Epoch #   75 | train loss 0.36641 | train acc 0.89400 | validate% 0.07500\n",
      "Epoch #  100 | train loss 0.25890 | train acc 0.95000 | validate% 0.25700\n",
      "Epoch #  125 | train loss 0.18084 | train acc 0.97900 | validate% 0.43600\n",
      "Epoch #  150 | train loss 0.11140 | train acc 0.99800 | validate% 0.56400\n",
      "========================================================================\n",
      "Epoch #  166 | train loss 0.08084 | train acc 1.00000 | validate% 0.75500\n"
     ]
    }
   ],
   "source": [
    "net.train(epochs=2000, accuracy=0.75, batch_size=32, report_rate=25)"
   ]
  },
  {
   "cell_type": "code",
   "execution_count": 13,
   "metadata": {},
   "outputs": [
    {
     "data": {
      "application/javascript": [
       "\n",
       "require(['base/js/namespace'], function(Jupyter) {\n",
       "    Jupyter.notebook.kernel.comm_manager.register_target('conx_svg_control', function(comm, msg) {\n",
       "        comm.on_msg(function(msg) {\n",
       "            var data = msg[\"content\"][\"data\"];\n",
       "            var image = document.getElementById(data[\"id\"]);\n",
       "            if (image) {\n",
       "                image.setAttributeNS(null, \"href\", data[\"href\"]);\n",
       "            }\n",
       "        });\n",
       "    });\n",
       "});\n"
      ],
      "text/plain": [
       "<IPython.core.display.Javascript object>"
      ]
     },
     "metadata": {},
     "output_type": "display_data"
    },
    {
     "data": {
      "image/svg+xml": [
       "\n",
       "        <svg id='Example' xmlns='http://www.w3.org/2000/svg' width=\"275\" height=\"500\">\n",
       "    <defs>\n",
       "        <marker id=\"arrow\" markerWidth=\"10\" markerHeight=\"10\" refX=\"9\" refY=\"3\" orient=\"auto\" markerUnits=\"strokeWidth\">\n",
       "          <path d=\"M0,0 L0,6 L9,3 z\" fill=\"blue\" />\n",
       "        </marker>\n",
       "    </defs>\n",
       "<image id=\"Example_output\" x=\"125.0\" y=\"25\" height=\"25\" width=\"25\" xlink:href=\"data:image/gif;base64,R0lGODdhGQAZAIAAAOXl5QAAACwAAAAAGQAZAEAIKgABCBxIsKDBgwgTKlzIsKHDhxAjSpxIsaLFixgzatzIsaPHjyBDivQYEAA7\" /><text x=\"155.0\" y=\"39.5\" font-family=\"Verdana\" font-size=\"10\">output</text><line x1=\"137.5\" y1=\"100\" x2=\"137.5\" y2=\"50\" stroke=\"blue\" stroke-width=\"1\" marker-end=\"url(#arrow)\" /><image id=\"Example_hidden\" x=\"37.5\" y=\"100\" height=\"100\" width=\"200\" xlink:href=\"data:image/gif;base64,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\" /><text x=\"242.5\" y=\"152.0\" font-family=\"Verdana\" font-size=\"10\">hidden</text><line x1=\"137.5\" y1=\"250\" x2=\"137.5\" y2=\"200\" stroke=\"blue\" stroke-width=\"1\" marker-end=\"url(#arrow)\" /><image id=\"Example_input\" x=\"37.5\" y=\"250\" height=\"200\" width=\"200\" xlink:href=\"data:image/gif;base64,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\" /><text x=\"242.5\" y=\"352.0\" font-family=\"Verdana\" font-size=\"10\">input</text></svg>"
      ],
      "text/plain": [
       "<conx.konx.Network at 0x7fcf18439358>"
      ]
     },
     "execution_count": 13,
     "metadata": {},
     "output_type": "execute_result"
    }
   ],
   "source": [
    "net"
   ]
  },
  {
   "cell_type": "code",
   "execution_count": 14,
   "metadata": {
    "collapsed": true
   },
   "outputs": [],
   "source": [
    "import time\n",
    "for index in range(50):\n",
    "    net.propagate(net._get_input(index))\n",
    "    time.sleep(.1)"
   ]
  },
  {
   "cell_type": "code",
   "execution_count": null,
   "metadata": {
    "collapsed": true
   },
   "outputs": [],
   "source": []
  }
 ],
 "metadata": {
  "kernelspec": {
   "display_name": "Python 3",
   "language": "python",
   "name": "python3"
  },
  "language_info": {
   "codemirror_mode": {
    "name": "ipython",
    "version": 3
   },
   "file_extension": ".py",
   "mimetype": "text/x-python",
   "name": "python",
   "nbconvert_exporter": "python",
   "pygments_lexer": "ipython3",
   "version": "3.5.3"
  }
 },
 "nbformat": 4,
 "nbformat_minor": 2
}
