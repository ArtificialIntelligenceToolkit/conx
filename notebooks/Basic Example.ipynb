{
 "cells": [
  {
   "cell_type": "markdown",
   "metadata": {},
   "source": [
    "# Basic Example\n",
    "\n",
    "After https://s3.amazonaws.com/assets.datacamp.com/blog_assets/Keras_Cheat_Sheet_Python.pdf"
   ]
  },
  {
   "cell_type": "code",
   "execution_count": 3,
   "metadata": {
    "collapsed": true
   },
   "outputs": [],
   "source": [
    "import sys\n",
    "sys.path.append(\"..\")"
   ]
  },
  {
   "cell_type": "code",
   "execution_count": 4,
   "metadata": {
    "collapsed": true
   },
   "outputs": [],
   "source": [
    "import numpy as np"
   ]
  },
  {
   "cell_type": "code",
   "execution_count": 5,
   "metadata": {
    "collapsed": true
   },
   "outputs": [],
   "source": [
    "data = np.random.random((1000, 100))"
   ]
  },
  {
   "cell_type": "code",
   "execution_count": 6,
   "metadata": {
    "collapsed": true
   },
   "outputs": [],
   "source": [
    "labels = np.random.randint(2, size=(1000, 1))"
   ]
  },
  {
   "cell_type": "code",
   "execution_count": 7,
   "metadata": {},
   "outputs": [
    {
     "name": "stderr",
     "output_type": "stream",
     "text": [
      "Using Theano backend.\n"
     ]
    }
   ],
   "source": [
    "from conx import Network, Layer"
   ]
  },
  {
   "cell_type": "code",
   "execution_count": 8,
   "metadata": {
    "collapsed": true
   },
   "outputs": [],
   "source": [
    "net = Network(\"Example\")"
   ]
  },
  {
   "cell_type": "code",
   "execution_count": 9,
   "metadata": {
    "collapsed": true
   },
   "outputs": [],
   "source": [
    "net.add(Layer(\"input\", shape=100, vshape=(10,10)))\n",
    "net.add(Layer(\"hidden\", shape=32, vshape=(4, 8), activation=\"relu\"))\n",
    "net.add(Layer(\"output\", shape=1, activation=\"sigmoid\"))\n",
    "\n",
    "net.connect(\"input\", \"hidden\")\n",
    "net.connect(\"hidden\", \"output\")"
   ]
  },
  {
   "cell_type": "code",
   "execution_count": 10,
   "metadata": {
    "collapsed": true
   },
   "outputs": [],
   "source": [
    "net.compile(optimizer=\"rmsprop\", loss=\"binary_crossentropy\")"
   ]
  },
  {
   "cell_type": "code",
   "execution_count": 11,
   "metadata": {},
   "outputs": [
    {
     "name": "stdout",
     "output_type": "stream",
     "text": [
      "1000 train inputs, 0 test inputs\n",
      "Set 1000 inputs and targets\n",
      "Input data shape: (100,), range: (2.5177315802205058e-06, 0.99999885579213421), type: float64\n",
      "Target data shape: (1,), range: (0, 1), type: int64\n"
     ]
    }
   ],
   "source": [
    "net.set_dataset_direct(data, labels)"
   ]
  },
  {
   "cell_type": "code",
   "execution_count": 12,
   "metadata": {},
   "outputs": [
    {
     "name": "stdout",
     "output_type": "stream",
     "text": [
      "Training...\n",
      "Epoch #   25 | train loss 0.61485 | train acc 0.70300 | validate% 0.00000\n",
      "Epoch #   50 | train loss 0.49585 | train acc 0.80900 | validate% 0.00800\n",
      "Epoch #   75 | train loss 0.35737 | train acc 0.89400 | validate% 0.09700\n",
      "Epoch #  100 | train loss 0.23633 | train acc 0.97300 | validate% 0.29200\n",
      "Epoch #  125 | train loss 0.14546 | train acc 0.99300 | validate% 0.49500\n",
      "Epoch #  150 | train loss 0.08522 | train acc 0.99900 | validate% 0.74100\n",
      "========================================================================\n",
      "Epoch #  152 | train loss 0.08347 | train acc 1.00000 | validate% 0.76500\n"
     ]
    }
   ],
   "source": [
    "net.train(epochs=2000, accuracy=0.75, batch_size=32, report_rate=25)"
   ]
  },
  {
   "cell_type": "code",
   "execution_count": 13,
   "metadata": {},
   "outputs": [
    {
     "data": {
      "application/javascript": [
       "\n",
       "require(['base/js/namespace'], function(Jupyter) {\n",
       "    Jupyter.notebook.kernel.comm_manager.register_target('conx_svg_control', function(comm, msg) {\n",
       "        comm.on_msg(function(msg) {\n",
       "            var data = msg[\"content\"][\"data\"];\n",
       "            var image = document.getElementById(data[\"id\"]);\n",
       "            if (image) {\n",
       "                image.setAttributeNS(null, \"href\", data[\"href\"]);\n",
       "            }\n",
       "        });\n",
       "    });\n",
       "});\n"
      ],
      "text/plain": [
       "<IPython.core.display.Javascript object>"
      ]
     },
     "metadata": {},
     "output_type": "display_data"
    },
    {
     "data": {
      "image/svg+xml": [
       "\n",
       "        <svg id='Example' xmlns='http://www.w3.org/2000/svg' width=\"275\" height=\"500\">\n",
       "    <defs>\n",
       "        <marker id=\"arrow\" markerWidth=\"10\" markerHeight=\"10\" refX=\"9\" refY=\"3\" orient=\"auto\" markerUnits=\"strokeWidth\">\n",
       "          <path d=\"M0,0 L0,6 L9,3 z\" fill=\"blue\" />\n",
       "        </marker>\n",
       "    </defs>\n",
       "<image id=\"Example_output\" x=\"125.0\" y=\"25\" height=\"25\" width=\"25\" href=\"data:image/gif;base64,R0lGODdhGQAZAIAAAC8vLwAAACwAAAAAGQAZAEAIKgABCBxIsKDBgwgTKlzIsKHDhxAjSpxIsaLFixgzatzIsaPHjyBDivQYEAA7\" /><text x=\"155.0\" y=\"39.5\" font-family=\"Verdana\" font-size=\"10\">output</text><line x1=\"137.5\" y1=\"100\" x2=\"137.5\" y2=\"50\" stroke=\"blue\" stroke-width=\"1\" marker-end=\"url(#arrow)\" /><image id=\"Example_hidden\" x=\"37.5\" y=\"100\" height=\"100\" width=\"200\" href=\"data:image/gif;base64,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\" /><text x=\"242.5\" y=\"152.0\" font-family=\"Verdana\" font-size=\"10\">hidden</text><line x1=\"137.5\" y1=\"250\" x2=\"137.5\" y2=\"200\" stroke=\"blue\" stroke-width=\"1\" marker-end=\"url(#arrow)\" /><image id=\"Example_input\" x=\"37.5\" y=\"250\" height=\"200\" width=\"200\" href=\"data:image/gif;base64,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\" /><text x=\"242.5\" y=\"352.0\" font-family=\"Verdana\" font-size=\"10\">input</text></svg>"
      ],
      "text/plain": [
       "<Network name='Example'>"
      ]
     },
     "execution_count": 13,
     "metadata": {},
     "output_type": "execute_result"
    }
   ],
   "source": [
    "net"
   ]
  },
  {
   "cell_type": "code",
   "execution_count": 14,
   "metadata": {
    "collapsed": true
   },
   "outputs": [],
   "source": [
    "import time\n",
    "for index in range(50):\n",
    "    net.propagate(net._get_input(index))\n",
    "    time.sleep(.1)"
   ]
  },
  {
   "cell_type": "code",
   "execution_count": null,
   "metadata": {
    "collapsed": true
   },
   "outputs": [],
   "source": []
  }
 ],
 "metadata": {
  "kernelspec": {
   "display_name": "Python 3",
   "language": "python",
   "name": "python3"
  },
  "language_info": {
   "codemirror_mode": {
    "name": "ipython",
    "version": 3
   },
   "file_extension": ".py",
   "mimetype": "text/x-python",
   "name": "python",
   "nbconvert_exporter": "python",
   "pygments_lexer": "ipython3",
   "version": "3.5.3"
  }
 },
 "nbformat": 4,
 "nbformat_minor": 2
}
