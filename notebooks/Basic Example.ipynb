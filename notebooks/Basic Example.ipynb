{
 "cells": [
  {
   "cell_type": "markdown",
   "metadata": {},
   "source": [
    "# Basic Example\n",
    "\n",
    "After https://s3.amazonaws.com/assets.datacamp.com/blog_assets/Keras_Cheat_Sheet_Python.pdf"
   ]
  },
  {
   "cell_type": "code",
   "execution_count": 1,
   "metadata": {
    "collapsed": true
   },
   "outputs": [],
   "source": [
    "import sys\n",
    "sys.path.append(\"..\")"
   ]
  },
  {
   "cell_type": "code",
   "execution_count": 2,
   "metadata": {
    "collapsed": true
   },
   "outputs": [],
   "source": [
    "import numpy as np"
   ]
  },
  {
   "cell_type": "code",
   "execution_count": 3,
   "metadata": {
    "collapsed": true
   },
   "outputs": [],
   "source": [
    "data = np.random.random((1000, 100))"
   ]
  },
  {
   "cell_type": "code",
   "execution_count": 4,
   "metadata": {
    "collapsed": true
   },
   "outputs": [],
   "source": [
    "labels = np.random.randint(2, size=(1000, 1))"
   ]
  },
  {
   "cell_type": "code",
   "execution_count": 5,
   "metadata": {},
   "outputs": [
    {
     "name": "stderr",
     "output_type": "stream",
     "text": [
      "Using Theano backend.\n"
     ]
    }
   ],
   "source": [
    "from conx import Network, Layer"
   ]
  },
  {
   "cell_type": "code",
   "execution_count": 6,
   "metadata": {
    "collapsed": true
   },
   "outputs": [],
   "source": [
    "net = Network(\"Example\")"
   ]
  },
  {
   "cell_type": "code",
   "execution_count": 7,
   "metadata": {
    "collapsed": true
   },
   "outputs": [],
   "source": [
    "net.add(Layer(\"input\", shape=100, vshape=(10,10)))\n",
    "net.add(Layer(\"hidden\", shape=32, vshape=(4, 8), activation=\"relu\"))\n",
    "net.add(Layer(\"output\", shape=1, activation=\"sigmoid\"))\n",
    "\n",
    "net.connect(\"input\", \"hidden\")\n",
    "net.connect(\"hidden\", \"output\")"
   ]
  },
  {
   "cell_type": "code",
   "execution_count": 8,
   "metadata": {
    "collapsed": true
   },
   "outputs": [],
   "source": [
    "net.compile(optimizer=\"rmsprop\", loss=\"binary_crossentropy\")"
   ]
  },
  {
   "cell_type": "code",
   "execution_count": 9,
   "metadata": {},
   "outputs": [
    {
     "name": "stdout",
     "output_type": "stream",
     "text": [
      "1000 train inputs, 0 test inputs\n",
      "Set 1000 inputs and targets\n",
      "Input data shape: (100,), range: (1.7011643437925272e-05, 0.99999590930670612), type: float64\n",
      "Target data shape: (1,), range: (0, 1), type: int64\n"
     ]
    }
   ],
   "source": [
    "net.set_dataset_direct(data, labels)"
   ]
  },
  {
   "cell_type": "code",
   "execution_count": 10,
   "metadata": {},
   "outputs": [
    {
     "name": "stdout",
     "output_type": "stream",
     "text": [
      "Training...\n",
      "Epoch #   25 | train loss 0.60865 | train acc 0.70400 | validate% 0.00000\n",
      "Epoch #   50 | train loss 0.49706 | train acc 0.79500 | validate% 0.01200\n",
      "Epoch #   75 | train loss 0.37034 | train acc 0.88500 | validate% 0.08300\n",
      "Epoch #  100 | train loss 0.24854 | train acc 0.95800 | validate% 0.31600\n",
      "Epoch #  125 | train loss 0.15511 | train acc 0.98900 | validate% 0.47700\n",
      "Epoch #  150 | train loss 0.09567 | train acc 0.99600 | validate% 0.67200\n",
      "========================================================================\n",
      "Epoch #  156 | train loss 0.08404 | train acc 1.00000 | validate% 0.75400\n"
     ]
    }
   ],
   "source": [
    "net.train(epochs=2000, accuracy=0.75, batch_size=32, report_rate=25)"
   ]
  },
  {
   "cell_type": "code",
   "execution_count": 11,
   "metadata": {},
   "outputs": [
    {
     "data": {
      "application/javascript": [
       "\n",
       "Jupyter.notebook.kernel.comm_manager.register_target('conx_svg_control', function(comm, msg) {\n",
       "    comm.on_msg(function(msg) {\n",
       "        var data = msg[\"content\"][\"data\"];\n",
       "        var image = document.getElementById(data[\"id\"]);\n",
       "        image.setAttributeNS(null, \"href\", data[\"href\"]);\n",
       "    });\n",
       "});"
      ],
      "text/plain": [
       "<IPython.core.display.Javascript object>"
      ]
     },
     "metadata": {},
     "output_type": "display_data"
    },
    {
     "data": {
      "image/svg+xml": [
       "\n",
       "        <svg id='Example' xmlns='http://www.w3.org/2000/svg' width=\"275\" height=\"500\">\n",
       "    <defs>\n",
       "        <marker id=\"arrow\" markerWidth=\"10\" markerHeight=\"10\" refX=\"9\" refY=\"3\" orient=\"auto\" markerUnits=\"strokeWidth\">\n",
       "          <path d=\"M0,0 L0,6 L9,3 z\" fill=\"blue\" />\n",
       "        </marker>\n",
       "    </defs>\n",
       "<image id=\"Example_output\" x=\"125.0\" y=\"25\" height=\"25\" width=\"25\" xlink:href=\"data:image/gif;base64,R0lGODdhGQAZAIAAAAkJCQAAACwAAAAAGQAZAEAIKgABCBxIsKDBgwgTKlzIsKHDhxAjSpxIsaLFixgzatzIsaPHjyBDivQYEAA7\" /><text x=\"155.0\" y=\"39.5\" font-family=\"Verdana\" font-size=\"10\">output</text><line x1=\"137.5\" y1=\"100\" x2=\"137.5\" y2=\"50\" stroke=\"blue\" stroke-width=\"1\" marker-end=\"url(#arrow)\" /><image id=\"Example_hidden\" x=\"37.5\" y=\"100\" height=\"100\" width=\"200\" xlink:href=\"data:image/gif;base64,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\" /><text x=\"242.5\" y=\"152.0\" font-family=\"Verdana\" font-size=\"10\">hidden</text><line x1=\"137.5\" y1=\"250\" x2=\"137.5\" y2=\"200\" stroke=\"blue\" stroke-width=\"1\" marker-end=\"url(#arrow)\" /><image id=\"Example_input\" x=\"37.5\" y=\"250\" height=\"200\" width=\"200\" xlink:href=\"data:image/gif;base64,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\" /><text x=\"242.5\" y=\"352.0\" font-family=\"Verdana\" font-size=\"10\">input</text></svg>"
      ],
      "text/plain": [
       "<conx.konx.Network at 0x7f5254078d68>"
      ]
     },
     "execution_count": 11,
     "metadata": {},
     "output_type": "execute_result"
    }
   ],
   "source": [
    "net"
   ]
  },
  {
   "cell_type": "code",
   "execution_count": 18,
   "metadata": {},
   "outputs": [],
   "source": [
    "import time\n",
    "for index in range(50):\n",
    "    net.propagate(net._get_input(index))\n",
    "    time.sleep(.1)"
   ]
  },
  {
   "cell_type": "code",
   "execution_count": null,
   "metadata": {
    "collapsed": true
   },
   "outputs": [],
   "source": []
  }
 ],
 "metadata": {
  "kernelspec": {
   "display_name": "Python 3",
   "language": "python",
   "name": "python3"
  },
  "language_info": {
   "codemirror_mode": {
    "name": "ipython",
    "version": 3
   },
   "file_extension": ".py",
   "mimetype": "text/x-python",
   "name": "python",
   "nbconvert_exporter": "python",
   "pygments_lexer": "ipython3",
   "version": "3.5.3"
  }
 },
 "nbformat": 4,
 "nbformat_minor": 2
}
