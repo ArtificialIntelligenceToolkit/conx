{
 "cells": [
  {
   "cell_type": "markdown",
   "metadata": {},
   "source": [
    "# Basic Example\n",
    "\n",
    "After https://s3.amazonaws.com/assets.datacamp.com/blog_assets/Keras_Cheat_Sheet_Python.pdf"
   ]
  },
  {
   "cell_type": "code",
   "execution_count": 1,
   "metadata": {
    "collapsed": true
   },
   "outputs": [],
   "source": [
    "import sys\n",
    "sys.path.append(\"..\")"
   ]
  },
  {
   "cell_type": "code",
   "execution_count": 2,
   "metadata": {
    "collapsed": true
   },
   "outputs": [],
   "source": [
    "import numpy as np"
   ]
  },
  {
   "cell_type": "code",
   "execution_count": 3,
   "metadata": {
    "collapsed": true
   },
   "outputs": [],
   "source": [
    "data = np.random.random((1000, 100))"
   ]
  },
  {
   "cell_type": "code",
   "execution_count": 4,
   "metadata": {
    "collapsed": true
   },
   "outputs": [],
   "source": [
    "labels = np.random.randint(2, size=(1000, 1))"
   ]
  },
  {
   "cell_type": "code",
   "execution_count": 5,
   "metadata": {},
   "outputs": [
    {
     "name": "stderr",
     "output_type": "stream",
     "text": [
      "Using Theano backend.\n"
     ]
    }
   ],
   "source": [
    "from conx import Network, Layer"
   ]
  },
  {
   "cell_type": "code",
   "execution_count": 6,
   "metadata": {
    "collapsed": true
   },
   "outputs": [],
   "source": [
    "net = Network(\"Example\")"
   ]
  },
  {
   "cell_type": "code",
   "execution_count": 7,
   "metadata": {
    "collapsed": true
   },
   "outputs": [],
   "source": [
    "net.add(Layer(\"input\", shape=100, vshape=(10,10)))\n",
    "net.add(Layer(\"hidden\", shape=32, vshape=(4, 8), activation=\"relu\"))\n",
    "net.add(Layer(\"output\", shape=1, activation=\"sigmoid\"))\n",
    "\n",
    "net.connect(\"input\", \"hidden\")\n",
    "net.connect(\"hidden\", \"output\")"
   ]
  },
  {
   "cell_type": "code",
   "execution_count": 8,
   "metadata": {
    "collapsed": true
   },
   "outputs": [],
   "source": [
    "net.compile(optimizer=\"rmsprop\", loss=\"binary_crossentropy\")"
   ]
  },
  {
   "cell_type": "code",
   "execution_count": 9,
   "metadata": {},
   "outputs": [
    {
     "name": "stdout",
     "output_type": "stream",
     "text": [
      "1000 train inputs, 0 test inputs\n",
      "Set 1000 inputs and targets\n",
      "Input data shape: (100,), range: (1.0121552408870471e-05, 0.99999565703406135), type: float64\n",
      "Target data shape: (1,), range: (0, 1), type: int64\n"
     ]
    }
   ],
   "source": [
    "net.set_dataset_direct(data, labels)"
   ]
  },
  {
   "cell_type": "code",
   "execution_count": 10,
   "metadata": {},
   "outputs": [
    {
     "name": "stdout",
     "output_type": "stream",
     "text": [
      "Training...\n",
      "Epoch #   25 | train loss 0.62584 | train acc 0.66800 | validate% 0.00000\n",
      "Epoch #   50 | train loss 0.54692 | train acc 0.74700 | validate% 0.00700\n",
      "Epoch #   75 | train loss 0.44724 | train acc 0.82700 | validate% 0.04800\n",
      "Epoch #  100 | train loss 0.34977 | train acc 0.89300 | validate% 0.12500\n",
      "Epoch #  125 | train loss 0.26299 | train acc 0.94800 | validate% 0.25600\n",
      "Epoch #  150 | train loss 0.19186 | train acc 0.96800 | validate% 0.42300\n",
      "Epoch #  175 | train loss 0.13207 | train acc 0.99300 | validate% 0.56700\n",
      "Epoch #  200 | train loss 0.08990 | train acc 0.99800 | validate% 0.75300\n",
      "========================================================================\n",
      "Epoch #  200 | train loss 0.08990 | train acc 0.99800 | validate% 0.75300\n"
     ]
    }
   ],
   "source": [
    "net.train(epochs=2000, accuracy=0.75, batch_size=32, report_rate=25)"
   ]
  },
  {
   "cell_type": "code",
   "execution_count": 10,
   "metadata": {},
   "outputs": [
    {
     "data": {
      "application/javascript": [
       "\n",
       "require(['base/js/namespace'], function(Jupyter) {\n",
       "    Jupyter.notebook.kernel.comm_manager.register_target('conx_svg_control', function(comm, msg) {\n",
       "        comm.on_msg(function(msg) {\n",
       "            var data = msg[\"content\"][\"data\"];\n",
       "            var image = document.getElementById(data[\"id\"]);\n",
       "            if (image) {\n",
       "                image.setAttributeNS(null, \"href\", data[\"href\"]);\n",
       "            }\n",
       "        });\n",
       "    });\n",
       "});\n"
      ],
      "text/plain": [
       "<IPython.core.display.Javascript object>"
      ]
     },
     "metadata": {},
     "output_type": "display_data"
    },
    {
     "data": {
      "image/svg+xml": [
       "\n",
       "        <svg id='Example' xmlns='http://www.w3.org/2000/svg' width=\"300\" height=\"500\">\n",
       "    <defs>\n",
       "        <marker id=\"arrow\" markerWidth=\"10\" markerHeight=\"10\" refX=\"9\" refY=\"3\" orient=\"auto\" markerUnits=\"strokeWidth\">\n",
       "          <path d=\"M0,0 L0,6 L9,3 z\" fill=\"blue\" />\n",
       "        </marker>\n",
       "    </defs>\n",
       "<rect x=\"136.5\" y=\"24\" width=\"27\" height=\"27\" style=\"fill:none;stroke:blue;stroke-width:2\"/><image id=\"Example_output\" x=\"137.5\" y=\"25\" height=\"25\" width=\"25\" href=\"data:image/gif;base64,R0lGODdhGQAZAIAAAHFxcQAAACwAAAAAGQAZAEAIKgABCBxIsKDBgwgTKlzIsKHDhxAjSpxIsaLFixgzatzIsaPHjyBDivQYEAA7\"><title>Layer: output (output)\n",
       " shape = 1\n",
       " Keras class = Dense\n",
       " activation = sigmoid</title></image><text x=\"167.5\" y=\"39.5\" font-family=\"Verdana\" font-size=\"12\">output</text><rect x=\"140.0\" y=\"52\" width=\"20.0\" height=\"48\" style=\"fill:white;stroke:none\"><title>Weights from hidden to output\n",
       " output/kernel has shape (32, 1)\n",
       " output/bias has shape (1,)</title></rect><line x1=\"150.0\" y1=\"100\" x2=\"150.0\" y2=\"50\" stroke=\"blue\" stroke-width=\"2\" marker-end=\"url(#arrow)\"><title>Weights from hidden to output\n",
       " output/kernel has shape (32, 1)\n",
       " output/bias has shape (1,)</title></line><rect x=\"49.0\" y=\"99\" width=\"202\" height=\"102\" style=\"fill:none;stroke:blue;stroke-width:2\"/><image id=\"Example_hidden\" x=\"50.0\" y=\"100\" height=\"100\" width=\"200\" href=\"data:image/gif;base64,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\"><title>Layer: hidden (hidden)\n",
       " shape = 32\n",
       " Keras class = Dense\n",
       " activation = relu</title></image><text x=\"255.0\" y=\"152.0\" font-family=\"Verdana\" font-size=\"12\">hidden</text><rect x=\"140.0\" y=\"202\" width=\"20.0\" height=\"48\" style=\"fill:white;stroke:none\"><title>Weights from input to hidden\n",
       " hidden/kernel has shape (100, 32)\n",
       " hidden/bias has shape (32,)</title></rect><line x1=\"150.0\" y1=\"250\" x2=\"150.0\" y2=\"200\" stroke=\"blue\" stroke-width=\"2\" marker-end=\"url(#arrow)\"><title>Weights from input to hidden\n",
       " hidden/kernel has shape (100, 32)\n",
       " hidden/bias has shape (32,)</title></line><rect x=\"49.0\" y=\"249\" width=\"202\" height=\"202\" style=\"fill:none;stroke:blue;stroke-width:2\"/><image id=\"Example_input\" x=\"50.0\" y=\"250\" height=\"200\" width=\"200\" href=\"data:image/gif;base64,R0lGODdhyADIAIYAAH9/f4GBgYODg4aGhoeHh4mJiYyMjJCQkJGRkZOTk5WVlZaWlpqamp2dnZ6enp+fn6GhoaKioqSkpKWlpaioqKmpqaurq6ysrK2tra6urq+vr7CwsLKysrOzs7W1tba2tre3t7i4uL29vb6+vsDAwMHBwcLCwsfHx8jIyMnJycvLy8zMzM7OztHR0dPT09XV1dbW1tfX19jY2NnZ2dvb29zc3ODg4OHh4eLi4uTk5Ofn5+jo6Orq6uvr6+zs7O3t7e7u7vLy8vX19fb29vf39/j4+Pn5+fv7+/z8/P7+/gAAAAAAAAAAAAAAAAAAAAAAAAAAAAAAAAAAAAAAAAAAAAAAAAAAAAAAAAAAAAAAAAAAAAAAAAAAAAAAAAAAAAAAAAAAAAAAAAAAAAAAAAAAAAAAAAAAAAAAAAAAAAAAAAAAAAAAAAAAAAAAAAAAAAAAAAAAAAAAAAAAAAAAAAAAAAAAAAAAAAAAAAAAAAAAAAAAAAAAAAAAAAAAAAAAAAAAACwAAAAAyADIAEAI/wBlCBxIsGBBDggTKly4UIDDhxAjRgxAsaLFixeRaNzIsWPHFiBDihw50oTJkyhTpvTAsqXLly85yJxJs2bNIDhz6ty5U4bPn0CDBuVAtKjRo0cFKF3KtGnTAFCjSp06FYnVq1izZm3BtavXr19NiB1LtmxZD2jTql27loPbt3Djxg1Ct67du3dl6N3Lt29fDoADCx48WIDhw4gTJw7AuLHjx4+RSJ5MuXLlFpgza9682YTnz6BDh/ZAurTp06c5qF7NunXrILBjy549O4ft27hz5zbAu7fv37+FCB9OvHjxDciTK1++nIbz59CjR99Bvbr169ddaN/OvXt3AuDDi/8fP36D+fPo06dHwr69+/fvc8ifT79+fQP48+vfv1+If4BCBA4kWFDgBoQJFS5cSMPhQ4gRI+6gWNHixYsuNG7k2LEjAZAhRY4cucHkSZQpUyJh2dLly5crZM6kWbPmA5w5de7cecTnT6BBg5YgWtTo0aMilC5l2rRpBKhRpU6dOsLqVaxZs37g2tXr168/xI4lW7ZsAbRp1a5du8LtW7hx4z6gW9fu3btH9O7l27dvCcCBBQ8eLMLwYcSJE0dg3Njx48cjJE+mXLnyB8yZNW/e/MPzZ9ChQxcgXdr06dMrVK9m3br1A9ixZc+efcT2bdy5c5fg3dv3798ihA8nXrz/eATkyZUvXz7C+XPo0aN/oF7d+vXrP7Rv5969ewHw4cWPH//B/Hn06dMfYd/e/fv3ROTPp1+//gX8+fXv32/DP0AbAgcSLCjwBMKEChcuVOHwIcSIEVtQrGjx4sUDGjdy7NjxBciQIkeO/GDyJMqUKY+wbOny5UsiMmfSrFnzAs6cOnfutOHzJ9CgQU8QLWr06FEVSpcybdq0BdSoUqdOPWD1KtasWV9w7er169cUYseSLVs2Cdq0ateuBeL2Ldy4cX3QrWv37t0Uevfy7dt3AuDAggcPdmD4MOLEiXMwbuz48WMJkidTrlw5A+bMmjdvTuH5M+jQoZOQLm369Gkg/6pXs27d2gfs2LJnz05h+zbu3Lkn8O7t+/dvB8KHEy9ePAfy5MqXL5fg/Dn06NEzUK9u/fr1FNq3c+/ePQn48OLHjwdi/jz69Ol9sG/v/v37FPLn069ffwL+/Pr373fgH6ADgQMJFhSYA2FChQsXSnD4EGLEiBkoVrR48SIOjRs5duwIAmRIkSNHIjF5EmXKlCRYtnT58iUAmTNp1qyJAGdOnTt3TvD5E2jQoBiIFjV69GgDpUuZNm1qBGpUqVOn4rB6FWvWrCC4dvX69SsSsWPJli1LAm1atWvXAnD7Fm7cuAjo1rV79+4EvXv59u2LAXBgwYMHNzB8GHHixEYYN/92/PjxEMmTKVeuzAJzZs2bNy/w/Bl06NAQSJc2ffo0DNWrWbduXQN2bNmzZ9+wfRt37twEePf2/ft3CeHDiRcvPgN5cuXLlw9x/hx69OgsqFe3fv36Au3buXfvDgF8ePHjx8Mwfx59+vQ12Ld3//79Dfnz6devTwB/fv3795fwD7CEwIEECwqcgTChwoULhzh8CDFiRBYUK1q8eHGBxo0cO3aEADKkyJEjYZg8iTJlyhosW7p8+fKGzJk0a9YkgDOnzp07S/j8CTRo0BlEixo9elSB0qVMmzZFATWq1KlTQVi9ijVr1h5cu3r9+rWG2LFky5bdgDat2rVri7h9Czf/blwfdOvavXuXgt69fPv25QE4sODBgxUYPow4cWIUjBs7fvwYhOTJlCtX7oE5s+bNm2t4/gw6dOgNpEubPn26iOrVrFu39gE7tuzZsynYvo07d24evHv7/v27gvDhxIsX94A8ufLlyxM4fw49enQL1Ktbv35dgfbt3Lt3JwI+vPjx4ymYP48+fXoZ7Nu7f//ehvz59OvX14E/v/79+yv4B1hB4ECCBQV6QJhQ4cKFCRw+hBgxogWKFS1evKhA40aOHTsSARlS5MiRFEyeRJkypQyWLV2+fGlD5kyaNWvqwJlT586dFXz+BBo0qAeiRY0ePZpA6VKmTZtagBpV6tSp/wqsXsWaNSsRrl29fv1KQexYsmXLykCbVu3atTbcvoUbN64OunXt3r3bQe9evn39/gXMl8NgwoUNG2aQWPFixoxTPIYcWbLkAZUtX8aMWcNmzp09e84QWvRo0qRDnEadWrXqGK1dv4YNu8Ns2rVt38aduzYH3r19//7NQPhw4sWLp0CeXPny5QOcP4cePboG6tWtX7+eQft27t27hwAfXvz48THMn0efPr0M9u3dv3/PQf58+vXrC8CfX//+/QH8AwwgcCDBggKRIEyocOHCFg4fQowY0QTFihYvXvSgcSPHjh05gAwpcuTIICZPokyZUgbLli5fvuQgcybNmjUF4P/MqXPnzgA+fwINGhQJ0aJGjx5toXQp06ZNTUCNKnXqVA9Wr2LNmpUD165ev34NInYs2bJlc6BNq3btWgNu38KNG1cI3bp2797doHcv3759aQAOLHjw4B2GDyNOnNgF48aOHz8mIHky5cqVN2DOrHnzZiSeP4MOHToH6dKmT582oHo169athcCOLXv27A22b+POnZsG796+f//eIXw48eLFXSBPrnz5cgLOn0OPHn0D9erWr19Hon079+7dc4APL378eAPmz6NPn14I+/bu37/fIH8+/fr1aeDPr3///h3+Ae4QOJBgQYEuECZUuHAhAYcPIUaMuIFiRYsXLyLRuJH/Y8eOK0CGFDly5AOTJ1GmTHmEZUuXL1+WkDmTZs2aInDm1LlzZwSfP4EGDTqCaFGjR49+ULqUadOmP6BGlTp1agGrV7FmzbqCa1evX78+EDuWbNmyR9CmVbt2bQm3b+HGjSuCbl27d+9G0LuXb9++IwAHFjx48AfDhxEnTvyDcWPHjx8XkDyZcuXKHzBn1rx58xHPn0GHDk2EdGnTp09fUL2adevWNmDHlj179gnbt3Hnzq2Cd2/fv3+3ED6cePHiB5AnV758+Qvnz6FHj/6BenXr168f0b6de/fuRMCHFz9+/AXz59GnT2+DfXv379+fkD+ffv36KvDn179/fwv//wBbCBxIsKDAAwgTKly48IXDhxAjRvxAsaLFixePaNzIsWNHIiBDihw58oLJkyhTprTBsqXLly9PyJxJs2ZNFThz6ty5s4XPn0CDBj1AtKjRo0dfKF3KtGnTFFCjSp06NYnVq1izZgXCtavXr199iB1LtmzZFGjTql27doLbt3DjxnVAt67du3dz6N3Lt29fCYADCx48OIPhw4gTJ07BuLHjx4+TSJ5MuXJlIJgza9682Yfnz6BDh05BurTp06cnqF7NunVrB7Bjy549O4ft27hz55bAu7fv378zCB9OvHhxHMiTK1++HITz59CjR0dCvbr169dJaN/OvXt3AODDi/8fPx6B+fPo06efwL69+/fvMcifT79+/Qb48+vfv9+If4BGBA4kWFAgDoQJFS5cCMLhQ4gRIyKhWNHixYskNG7k2LEjAJAhRY4cicDkSZQpU05g2dLly5cYZM6kWbNmA5w5de7cacTnT6BBg+IgWtTo0aMglC5l2rQpEqhRpU6dSsLqVaxZswLg2tXr168IxI4lW7bsBLRp1a5di8HtW7hx4zagW9fu3btG9O7l27fvEMCBBQ8ezMLwYcSJEy9g3Njx48cQJE+mXLkyDMyZNW/eXMPzZ9ChQ98gXdr06dMEVK9m3bp1CdixZc+ePcP2bdy5cw/h3dv3798shA8nXrz/+ALkyZUvXw7B+XPo0aPDoF7d+vXrNbRv5969+w3w4cWPH0/A/Hn06dOXYN/e/fv3M+TPp1+/vgL8+fXv34/CP0AUAgcSLCgQBMKEChcu7OHwIcSIEWtQrGjx4sUNGjdy7NixCMiQIkeO9GHyJMqUKSmwbOny5UseMmfSrFlTAc6cOnfuROHzJ9CgQUEQLWr06NEeSpcybdq0BtSoUqdO3WD1KtasWYtw7er161cfYseSLVuWAtq0ateu5eH2Ldy4cRXQrWv37l0Uevfy7dsXBODAggcP7mH4MOLEiWswbuz48eMNkidTrly5CObMmjdv9uH5M+jQoSmQLm369Gke/6pXs27dugLs2LJnz/Zg+zbu3LkT8O7t+/dvC8KHEy9eXAHy5MqXLyfi/Dn06NEpUK9u/fp1Gdq3c+/e3Qb48OLHj9dh/jz69OkrsG/v/v17D/Ln069fPwH+/Pr377fgH6AFgQMJFhSoAGFChQsXEnH4EGLEiBQoVrR48aIMjRs5duxoA2RIkSNH6jB5EmXKlB1YtnT5EmZMmS451LR5EydOBjt59vTpM0VQoUOJEh1wFGlSpUo1NHX6FCrUDFOpVrVqNURWrVu5co3xFWxYsWI7lDV7Fm1atWvPcnD7Fm7cuAzo1rV7924KvXv59u07AHBgwYMHazB8GHHixBkYN/92/PhxCMmTKVeuHANzZs2bN3fw/Bl0aNGjSYPmcBp1atWqGbR2/Ro27BSzade2bXtAbt27efPW8Bt4cOHCMxQ3fhw58hDLmTd37jxGdOnTqVOXcR17du3aOXT3/h08eAHjyZc3bz5AevXr2bNH8h5+fPnyW9S3fx8/fhP7+ff3D9CEQIEeCho8iBAhh4UMGzp0GCSixIkUKcq4iDGjRo0cOnr8CBKkgJEkS5o0GSClypUsWSJ5CTOmTJktatq8iROniZ08e/r06SGo0KFEiXI4ijSpUqVBmjp9ChWqjKlUq1q1yiGr1q1cuQr4CjasWLEBypo9ixYtkrVs27p12yL/rty5dOmauIs3r169Hvr6/QsYMIfBhAsbNhwkseLFjBnLeAw5smTJHCpbvowZs4DNnDt79hwgtOjRpEkjOY06tWrVLVq7fg0btonZtGvbtu0ht+7dvHlz+A08uHDhQYobP44cuYzlzJs7d84huvTp1KkLuI49u3btAbp7/w4ePJLx5MubN98ivfr17NmbeA8/vnz5Hurbv48fP4f9/Pv7B8hBoMAgBQ0eRIgwx0KGDR06NBBR4kSKFIVcxJhRo8YNHT1+BAmSxkiSJU2a3JFS5UqWLF28hBlTpkwCNW3exIlzw06ePX36RBJU6FCiRHMcRZpUqVIDTZ0+hQpVyFSq/1WtWt2QVetWrlxpfAUbVqzYHWXNnkWL1sVatm3duiUQV+5cunQ33MWbV69eJH39/gUMOMdgwoUNGzaQWPFixoyFPIYcWbLkDZUtX8aMmcZmzp09e94RWvRo0qRdnEadWrVqAq1dv4YNe8Ns2rVt20aSW/du3rxz/AYeXLhwA8WNH0eOXMhy5s2dO98QXfp06tRpXMeeXbv2Hd29fwcP3sV48uXNmyeQXv169uw3vIcfX758JPXt38ePP8d+/v39A8whUKCBggYPIkQoZCHDhg4dbogocSJFijQuYsyoUeOOjh4/ggTpYiTJkiZNEkipciVLlhtewowpUyaSmjZv4v/EuWInz54+fT4IKnQoUaJHjiJNqlRpiaZOn0KFKmIq1apWrUbIqnUrV64jvoINK1bsh7Jmz6JF+2Mt27Zu3RaIK3cuXbor7uLNq1fvg75+/wIGfGQw4cKGDZdIrHgxY8YiHkOOLFlyhMqWL2PGPGIz586ePX8ILXo0adI/TqNOrVp1gdauX8OGvWI27dq2bT/IrXs3b95HfgMPLlx4ieLGjyNHLmI58+bOnUeILn06deojrmPPrl37h+7ev4MH/2M8+fLmzRdIr349e/Yr3sOPL1/+g/r27+PHf2Q///7+AR4RKLBEQYMHESIUsZBhQ4cOI0SUOJEixREXMWbUqPH/Q0ePH0GC/DGSZEmTJgukVLmSJcsVL2HGlCnzQU2bN3HiPLKTZ0+fPksEFTqUKFERR5EmVao0QlOnT6FCHTGValWrVj9k1bqVK9cfX8GGFSu2QFmzZ9Gi/bCWbVu3bo/ElTuXLl0id/Hm1av3Ql+/fwEDtjGYcGHDhk8kVryYMWMVjyFHliy5RWXLlzFjPrCZc2fPnl+EFj2aNOkPp1GnVq36SGvXr2HDJjKbdm3bti/k1r2bN28bv4EHFy78RHHjx5EjV7GceXPnzltElz6dOvUD17Fn1679RXfv38GD/zCefHnz5o+kV7+ePXsi7+HHly//Qn379/Hjt7Gff3///wBtCBR4oqDBgwgRqljIsKFDhy0iSpxIkeKBixgzatT4oqPHjyBBfhhJsqRJk0dSqlzJkiWRlzBjypR5oabNmzhx2tjJs6dPnyeCCh1KlKiKo0iTKlXaoqnTp1ChHphKtapVqy+yat3KleuHr2DDihV7pKzZs2jRElnLtq1btxfiyp1Ll66Nu3jz6tV7oq/fv4ABqxhMuLBhwy0SK17MmPGBx5AjS5b8orLly5gxp9jMubNnz0lCix5NmjSQ06hTq1bto7Xr17Bhp5hNu7Zt2xNy697Nm7eD38CDCxeeo7jx48iRS1jOvLlz5xmiS59OnXqK69iza9eepLv37+DBA/8ZT768efM+0qtfz559ivfw48uXP6G+/fv48TvYz7+/f4AOBArMUdDgQYQIJSxk2NChwwwRJU6kSDHFRYwZNWpM0tHjR5AggYwkWdKkSR8pVa5kyTLFS5gxZcqcUNPmTZw4Hezk2dOnzxxBhQ4lSlTCUaRJlSrN0NTpU6hQU0ylWtWq1SRZtW7lyhXIV7BhxYr1UdbsWbRoU6xl29at2wlx5c6lS9fBXbx59erN0dfvX8CAJQwmXNiw4QyJFS9mzDjFY8iRJUtOUtnyZcyYgWzm3NmzZx+hRY8mTTrFadSpVaue0Nr1a9iwHcymXdu27Ry5de/mzVvCb+DBhQvPUNz/+HHkyHEsZ97cuXMQ0aVPp04dyXXs2bVrJ9Hd+3fw4AGMJ1/evHkE6dWvZ89+wnv48eXLx1Df/n38+Bvs59/fP8AGAgUaKWjwIEKEOBYybOjQIYiIEidSpIjkIsaMGjWS6OjxI0iQAEaSLGnSJIKUKleyZDnhJcyYMmViqGnzJk6cDXby7OnTp5GgQocSJYrjKNKkSpWCaOr0KVSoSKZSrWrVKomsWrdy5QrgK9iwYsUiKGv2LFq0E9aybevWLYa4cufSpdvgLt68evUa6ev3L2DAOAYTLmzYMIjEihczZozkMeTIkiWTqGz5MmbMADZz7uzZM4LQokeTJj3hNOrU/6pVY2jt+jVs2A1m065t27aR3Lp38+aN4zfw4MKFgyhu/Dhy5EiWM2/u3DmJ6NKnU6cO4Dr27Nq1I+ju/Tt48BPGky9v3jyG9OrXs2ff4D38+PLlG6lv/z5+/EP28+/vH+AQgQJZFDR4ECHCBQsZNnToEEJEiRMpUoRxEWNGjRprdPT4ESTIGyNJljRpkkBKlStZsizxEmZMmTJn1LR5EyfOITt59vTpk0VQoUOJEl1wFGlSpUohNHX6FCpUGFOpVrVqtUZWrVu5cr3xFWxYsWIJlDV7Fi3aEmvZtnXrdkZcuXPp0h1yF29evXpZ9PX7FzDgBYMJFzZsGEJixYsZM/+G8RhyZMmSa1S2fBkz5hubOXf27JlAaNGjSZMucRp1atWqZ7R2/Ro27CGzade2bZtFbt27efNe8Bt4cOHCIRQ3fhw5chjLmTd37rxGdOnTqVO/cR17du3aCXT3/h08+BLjyZc3b35GevXr2bMf8h5+fPnyWdS3fx8//gX7+ff3D3CBQIEQCho8iBAhjIUMGzp0WCOixIkUKd64iDGjRo0EOnr8CBJkiZEkS5o0OSOlypUsWSp4CTOmTJkoatq8iRMniJ08e/r02SOo0KFEidY4ijSpUqUbmjp9ChVqkalUq1q16iOr1q1cuVL4CjasWLE8ypo9ixatgrVs27p1iyL/rty5dOmCuIs3r169Pfr6/QsYcI3BhAsbNrwhseLFjBkXeQw5smTJPipbvowZM4XNnDt79swjtOjRpEkrOI06tWrVKFq7fg0bNojZtGvbtt0jt+7dvHnX+A08uHDhG4obP44ceZHlzJs7d+4juvTp1KlTuI49u3btPLp7/w4evILx5MubN48ivfr17NmDeA8/vnz5Perbv48ff439/Pv7B1hDoMANBQ0eRIiwyEKGDR069BFR4kSKFClcxJhRo0YeHT1+BAlSwUiSJU2aRJFS5UqWLEG8hBlTpsweNW3exImzxk6ePX363BBU6FCiRIscRZpUqVIfTZ0+hQqVwlSq/1WtWuWRVetWrlwrfAUbVqxYD2XNnkWLNsFatm3durUQV+5cunQV3MWbV69eIn39/gUMmMJgwoUNG5aRWPFixoxtPIYcWbJkHZUtX8aMucJmzp09e/YQWvRo0qQTnEadWrVqC61dv4YNW8Fs2rVt2yaSW/du3rwp/AYeXLhwGcWNH0eO3MZy5s2dO9cRXfp06tQrXMeeXbt2D929fwcPPsF48uXNm7eQXv169uwVvIcfX758IvXt38ePn8J+/v39A6QgUKCMggYPIkRoYyHDhg4d6ogocSJFihUuYsyoUaOHjh4/ggSZYCTJkiZNWkipciVLlgpewowpUyaRmjZv4v/ESWEnz54+fcoIKnQoUaI2jiJNqlSpjqZOn0KFWmEq1apWrXrIqnUrV64JvoINK1ashbJmz6JFq2At27Zu3RKJK3cuXboU7uLNq1evjL5+/wIGbGMw4cKGDetIrHgxY8YdHkOOLHky5cqROWDOrHnzZgaeP4MOHToF6dKmT58eoHo169atNcCOLXv27Ay2b+POnTsE796+f/+OIXw48eLFOyBPrnw58+bOlXOILn06deoMrmPPrl17iu7ev4MHP2A8+fLmzWtIr349e/YZ3sOPL19+iPr27+PHH2M///7+AcYQKLBDQYMHESZUuPAgB4cPIUaMyIBiRYsXL6bQuJH/Y8eOA0CGFDlypAaTJ1GmTJmBZUuXL1+GkDmTZs2aMXDm1LlzZwefP4EGFTqUKFAOR5EmVaqUQVOnT6FCTTGValWrVgdk1bqVK1cNX8GGFSs2Q1mzZ9GiDbGWbVu3bmPElTuXLt0Od/Hm1buXb9+8HAAHFjx4MAPDhxEnTpyCcWPHjx8PkDyZcuXKGjBn1rx5cwbPn0GHDh2CdGnTp0/HUL2adevWMmDHlj17Ngfbt3Hnzi2Ad2/fv38HED6cePHiSJAnV758eQvnz6FHj26CenXr16970L6de/fuHMCHFz9+fBDz59GnTy+DfXv3799zkD+ffv36AvDn179/fwD//wADCBxIsKBAJAgTKly4sIXDhxAjRjRBsaLFixc9aNzIsWNHDiBDihw5MojJkyhTppTBsqXLly85yJxJs2ZNAThz6ty5M4DPn0CDBkVCtKjRo0dbKF3KtGlTE1CjSp061YPVq1izZuXAtavXr1+DiB1LtmxZGWjTql27loPbt3DjxhVAt67du3cD6N3Lt29fJIADCx48uIXhw4gTJzbBuLHjx489SJ5MuXJlDpgza968OYjnz6BDh5ZBurTp06c5qF7NunVrAbBjy549O4Dt27hz50bCu7fv379bCB9OvHhxE8iTK1++3IPz59CjR+dAvbr169eDaN/OvXt3GeDDi/8fP56D+fPo06cXwL69+/fvA8ifT79+fST48+vfv7+Ff4AtBA4kWFCgCYQJFS5c6MHhQ4gRI3KgWNHixYtBNG7k2LGjDJAhRY4cycHkSZQpUwpg2dLly5cBZM6kWbMmEpw5de7c2cLnT6BBg5ogWtTo0aMelC5l2rQpB6hRpU6dGsTqVaxZs8rg2tXr168cxI4lW7asALRp1a5dG8DtW7hx4yKhW9fu3bst9O7l27evCcCBBQ8e7MHwYcSJE3Ng3Njx48dBJE+mXLmyDMyZNW/ezMHzZ9ChQwsgXdr06dMBVK9m3bo1EtixZc+e3cL2bdy5c5vg3dv3798ehA8nXrz/OAfkyZUvXx7E+XPo0aPLoF7d+vXrHLRv5969uwDw4cWPHx/A/Hn06dMjYd/e/fv3LeTPp1+/vgn8+fXv3+/BP0APAgcSLCiQA8KEChcuDOLwIcSIEXNQrGjx4kUDGjdy7NhRCMiQIkeO3GDyJMqUKWmwbOny5csdMmfSrFnTBc6cOnfuJODzJ9CgQTcQLWr06FEkSpcybdo0B9SoUqdONWD1KtasWYVw7er169cNYseSLVuWBtq0ateu3eH2Ldy4cV3QrWv37l0Cevfy7dt3A+DAggcPRmL4MOLEiXMwbuz48WMDkidTrlxZCObMmjdv3uD5M+jQoWmQLm369Okd/6pXs27d2gXs2LJnzyZg+zbu3Lk38O7t+/dvJMKHEy9ePAfy5MqXLzfg/Dn06NGFUK9u/fr1Ddq3c+/enQb48OLHj99h/jz69OldsG/v/v17AvLn069ffwP+/Pr370fiHyASgQMJFhSYA2FChQsXGnD4EGLEiEIoVrR48eIGjRs5duxIA2RIkSNH7jB5EmXKlC5YtnT58iUBmTNp1qy5AWdOnTt3IvH5E2jQoDmIFjV69KgBpUuZNm0qBGpUqVOnbrB6FWvWrDS4dvX69esOsWPJli3rAm1atWvXEnD7Fm7cuBvo1rV79y4SvXv59u2bA3BgwYMHGzB8GHHixEIYN/92/PjxBsmTKVeuTANzZs2bN+/w/Bl06NAuSJc2ffo0AdWrWbduvQF2bNmzZyOxfRt37tw5ePf2/fu3AeHDiRcvLgR5cuXLl29w/hx69Og0qFe3fv36Du3buXfv7gJ8ePHjxxMwfx59+vQb2Ld3//49Evnz6devnwN/fv379xvwD9CAwIEECwoUgjChwoULNzh8CDFiRBoUK1q8eHGHxo0cO3Z0ATKkyJEjCZg8iTJlyg0sW7p8+RKJzJk0a9bMgTOnzp07Dfj8CTRoUCFEixo9enSD0qVMmzalATWq1KlTd1i9ijVrVhdcu3r9+pWA2LFky5bdgDat2rVrkbh9Czf/btwVdOvavXv3gd69fPv2PQI4sODBg0sYPow4cWIRjBs7fvw4guTJlCtXHoE5s+bNmz94/gw6dOgfpEubPn26gOrVrFu3XgE7tuzZsx/Yvo07d+4jvHv7/v27hPDhxIsXF4E8ufLlyyM4fw49evQR1Ktbv379g/bt3Lt3/wE+vPjx4wuYP48+ffoV7Nu7f//+gfz59OvXP4I/v/79+0v4B1hC4ECCBQWKQJhQ4cKFERw+hBgx4giKFS1evPhB40aOHTv+ABlS5MiRBUyeRJky5QqWLV2+fPlA5kyaNWsewZlT586dJXz+BBo0qAiiRY0ePRpB6VKmTZuOgBpV6tSp/x+sXsWaNesPrl29fv1aQOxYsmXLrkCbVu3atQ/cvoUbN+4RunXt3r1bQu9evn37igAcWPDgwREMH0acOPEIxo0dP378QfJkypUr/8CcWfPmzQU8fwYdOvQK0qVNnz79QPVq1q1bH4EdW/bs2SVs38adO7cI3r19//4dQfhw4sWLj0CeXPny5R+cP4cePfoP6tWtX79eQPt27t27rwAfXvz48Q/Mn0efPv0R9u3dv39fQv58+vXri8CfX//+/RH8A4wgcCDBggJHIEyocOHCDw4fQowY8QfFihYvXiygcSPHjh1XgAwpcuTIByZPokyZ8gjLli5fviwhcybNmjVF4P/MqXPnzgg+fwINGnQE0aJGjx79oHQp06ZNf0CNKnXq1AJWr2LNmnUF165ev359IHYs2bJlj6BNq3bt2hJu38KNG1cE3bp2796NoHcv3759RwAOLHjw4A+GDyNOnPgH48aOHz8uIHky5cqVV2DOrHnz5geeP4MOHfoI6dKmT58uoXo169atRcCOLXv27Ai2b+POnXsE796+f//+IHw48eLFfyBPrnz58gLOn0OPHv0D9erWr18/on079+7diYAPL378+Avmz6NPn94G+/bu378/IX8+/fr1VeDPr3///hb+AbYQOJBgQYEHECZUuHDhC4cPIUaM+IFiRYsXLx7RuJH/Y8eORECGFDly5AWTJ1GmTGmDZUuXL1+ekDmTZs2aKnDm1LlzZwufP4EGDXqAaFGjR4++ULqUadOmH6BGlTp16hGrV7FmzUqEa1evX79eEDuWbNmyNtCmVbt27Qm3b+HGjauCbl27d++20LuXb9++BwAHFjx48AvDhxEnTvyBcWPHjx8fkTyZcuXKRDBn1rx58wXPn0GHDm2DdGnTp0+fUL2adevWKmDHlj17dgvbt3Hnzn2Ad2/fv3+/ED6cePHiH5AnV758+RHnz6FHj06EenXr169f0L6de/fuNsCHFz9+/Anz59GnT6+CfXv379+3kD+ffv36B/Dn179//wv//wBfCBxIsKDADwgTKly48IjDhxAjRiRCsaLFixcvaNzIsWNHGyBDihw58oTJkyhTplTBsqXLly9byJxJs2bNAzhz6ty584XPn0CDBv1AtKjRo0ePKF3KtGlTIlCjSp069YLVq1izZrXBtavXr19PiB1LtmxZFWjTql27toXbt3Djxj1At67du3df6N3Lt2/fD4ADCx48+Ijhw4gTJybCuLHjx48vSJ5MuXJlG5gza968+YTnz6BDh1ZBurTp06dbqF7NunXrA7Bjy549+4Xt27hz5/7Au7fv37+PCB9OvHhxIsiTK1++/ILz59CjR7dBvbr169dPaN/OvXt3FeDDi/8fP76F+fPo06c/wL69+/fvX8ifT79+/Q/48+vfv/+If4BHBA4kWFAgEYQJFS5ceMHhQ4gRI9qgWNHixYsnNG7k2LGjCpAhRY4c2cLkSZQpUx5g2dLly5cvZM6kWbNmCpw5de7cmcTnT6BBgwIhWtTo0aM+lC5l2rRpCqhRpU6dOsHqVaxZszrg2tXr1685xI4lW7asBLRp1a5dm8HtW7hx46agW9fu3btJ9O7l27cvEMCBBQ8e7MPwYcSJE6dg3Njx48cTJE+mXLmyA8yZNW/enMPzZ9ChQ0sgXdr06dMZVK9m3bp1CtixZc+encT2bdy5cwPh3dv3798+hA8nXrz/eArkyZUvXz7B+XPo0aM7oF7d+vXrObRv5969uwTw4cWPH5/B/Hn06dOnYN/e/fv3SeTPp1+/PhD8+fXv3+/DP0AfAgcSLCgwBcKEChcunODwIcSIER1QrGjx4sUcGjdy7NhRAsiQIkeOzGDyJMqUKVOwbOny5cskMmfSrFkTCM6cOnfu9OHzJ9CgQVMQLWr06NEJSpcybdrUAdSoUqdOzWH1KtasWSVw7er169cMYseSLVs2Bdq0ateuTeL2Ldy4cYHQrWv37l0fevfy7ds3BeDAggcPnmD4MOLEiR0wbuz48eMckidTrlxZAubMmjdvzuD5M+jQoVOQLm369Okk/6pXs27dGgjs2LJnz/Zh+zbu3LlT8O7t+/fvCcKHEy9e3AHy5MqXL8/h/Dn06NElUK9u/fr1DNq3c+/ePQX48OLHj09i/jz69OmBsG/v/v17H/Ln069fPwX+/Pr375/gH+AEgQMJFhToAGFChQsX5nD4EGLEiBIoVrR48WIGjRs5duyYAmRIkSNHJjF5EmXKlEBYtnT58qUPmTNp1qyZAmdOnTt3TvD5E2jQoA6IFjV69GgOpUuZNm0qAWpUqVOnZrB6FWvWrCm4dvX69WsSsWPJli0LBG1atWvX+nD7Fm7cuCno1rV79+4EvXv59u3rAHBgwYMH5zB8GHHixBIYN/92/PhxBsmTKVeujANzZs2bN4Pw/Bl06NBISJc2ffo0CdWrWbduDQB2bNmzZyOwfRt37twTePf2/fs3BuHDiRcv3gB5cuXLlxtx/hx69Og4qFe3fv06CO3buXfvjgR8ePHjx5Mwfx59+vQA2Ld3//49Avnz6devPwF/fv3792PwDxCDwIEECwpsgDChwoULjTh8CDFiRBwUK1q8eBGExo0cO3ZEAjKkyJEjSZg8iTJlSgAsW7p8+RKBzJk0a9acgDOnzp07Mfj8CTRo0AZEixo9etSI0qVMmzbFATWq1KlTQVi9ijVrViRcu3r9+pWE2LFky5YFgDat2rVrEbh9Czf/btwJdOvavXsXg969fPv2bQA4sODBg40YPow4cWIcjBs7fvwYhOTJlCtXRoI5s+bNm0l4/gw6dGgApEubPn0agerVrFu3ngA7tuzZszHYvo07d+4GvHv7/v3biPDhxIsXx4E8ufLly0E4fw49enQk1Ktbv36dhPbt3Lt3BwA+vPjx4xGYP48+ffoJ7Nu7f/8eg/z59OvXb4A/v/79+434B2hE4ECCBQXiQJhQ4cKFIBw+hBgxIhKKFS1evEhC40aOHTsCABlS5MiRCEyeRJky5QSWLV2+fIlB5kyaNWs2wJlT586dRnz+BBo0KA6iRY0ePQpC6VKmTZsigRpV6tSp/ySsXsWaNSsArl29fv2KQOxYsmXLTkCbVu3atRjcvoUbN24DunXt3r1rRO9evn374gAcWPDgwSAMH0acODESxo0dP35MQvJkypUrA8CcWfPmzQg8fwYdOvQE0qVNnz6NQfVq1q1bN4AdW/bs2UZs38adOzcO3r19//4NQvhw4sWLI0GeXPny5SScP4cePToA6tWtX7+OQPt27t27TwAfXvz48RjMn0efPn0D9u3dv39vRP58+vXrD8GfX//+/Sz8A2QhcCDBggIXIEyocOFCCA4fQowYEQbFihYvXqyhcSPHjh1vgAwpcuRIAiZPokyZsgTLli5fvpwhcybNmjWH4P/MqXPnThY+fwINGnQB0aJGjx6FoHQp06ZNYUCNKnXq1BpWr2LNmvUG165ev34lIHYs2bJlS6BNq3bt2hlu38KNG3cI3bp2795loXcv3759FwAOLHjwYAiGDyNOnBgG48aOHz+uIXky5cqVb2DOrHnzZgKeP4MOHboE6dKmT5+eoXo169ath8COLXv2bBa2b+POnXsB796+f/+GIHw48eLFYSBPrnz58hrOn0OPHv0G9erWr18noH079+7dS4APL378+Bnmz6NPn34I+/bu379nIX8+/fr1F+DPr3//fgj+AUIQOJBgQYEwECZUuHBhDYcPIUaMeINiRYsXLxLQuJH/Y8eOJUCGFDly5AyTJ1GmTDmEZUuXL1+ykDmTZs2aC3Dm1LlzJwSfP4EGDQqDaFGjR4/WULqUadOmN6BGlTp1KgGrV7FmzVqCa1evX7/OEDuWbNmyQ9CmVbt2LQu3b+HGjbuAbl27d+9C0LuXb9++MAAHFjx4cA3DhxEnTnyDcWPHjx8TkDyZcuXKJTBn1rx58wzPn0GHDj2EdGnTp0+zUL2adevWC2DHlj17NgTbt3Hnzg2Dd2/fv3/XED6cePHiN5AnV758OQHnz6FHj16CenXr16/P0L6de/fuQ8CHFz9+PAvz59GnT7+AfXv3799DkD+ffv36MPDn179/fw3//wBrCBxIsKDAGwgTKly4kIDDhxAjRixBsaLFixdnaNzIsWPHISBDihw5koXJkyhTplzAsqXLly8hyJxJs2ZNGDhz6ty5s4bPn0CDBr1BtKjRo0cJKF3KtGnTElCjSp06dYbVq1izZlXAtavXr19RiB1LtmxZEGjTql27tofbt3Djxq1Bt67du3c36N3Lt2/fIoADCx482Ifhw4gTJ6bAuLHjx495SJ5MuXJlBZgza968GYXnz6BDhwZBurTp06d7qF7NunXrGrBjy549e4Pt27hz5y7Cu7fv3799CB9OvHhxCsiTK1++nIfz59CjR1dAvbr169dRaN/OvXt3EODDi/8fP76H+fPo06evwb69+/fvN8ifT79+/SL48+vfv9+Hf4A+BA4kWFAgBYQJFS5cyMPhQ4gRIyqgWNHixYsoNG7k2LEjCJAhRY4c2cPkSZQpU9Zg2dLly5cbZM6kWbNmEZw5de7c6cPnT6BBg1IgWtTo0aM8lC5l2rSpAqhRpU6disLqVaxZs4Lg2tXr1689xI4lW7ZsDbRp1a5du8HtW7hx4xahW9fu3bs+9O7l27cvBcCBBQ8ezMPwYcSJEytg3Njx48coJE+mXLkyCMyZNW/e3MPzZ9ChQ9cgXdr06dMbVK9m3bp1EdixZc+e7cP2bdy5c1Pg3dv37988hA8nXrz/uALkyZUvX47C+XPo0aODoF7d+vXrPbRv5969ew3w4cWPH7/B/Hn06dMXYd/e/fv3PuTPp1+/PgX8+fXv38/DP0AeAgcSLChQAcKEChcuROHwIcSIEUFQrGjx4sUeGjdy7NixBsiQIkeO3GDyJMqUKYuwbOny5UsfMmfSrFmTAs6cOnfu5OHzJ9CgQRUQLWr06FEUSpcybdoUBNSoUqdO7WH1KtasWWtw7er169cNYseSLVu2CNq0ateu9eH2Ldy4cSnQrWv37l0eevfy7dtXAeDAggcPRmH4MOLEiUEwbuz48eMekidTrly5BubMmjdv3uD5M+jQoYuQLm369Gkf/6pXs27dmgLs2LJnz+Zh+zbu3Lkr8O7t+/dvD8KHEy9ePAHy5MqXL7fg/Dn06NEVUK9u/fp1Itq3c+/enQL48OLHj5dh/jz69OltsG/v/v17HfLn069fvwL+/Pr37/fgH6AHgQMJFhSYAGFChQsXWnD4EGLEiAooVrR48SIRjRs5duxIAWRIkSNHyjB5EmXKlDZYtnT58qUOmTNp1qxZAWdOnTt3evD5E2jQoAmIFjV69KgFpUuZNm2qAGpUqVOnErF6FWvWrBS4dvX69asMsWPJli1rA21atWvX6nD7Fm7cuBXo1rV7964HvXv59u2bAHBgwYMHWzB8GHHixAoYN/92/PgxEcmTKVeuTAFzZs2bN8vw/Bl06NA2SJc2ffq0DtWrWbduXQF2bNmzZ3uwfRt37twJePf2/fu3BeHDiRcvrgB5cuXLlxNx/hx69OgUqFe3fv26DO3buXfvbgN8ePHjx+swfx59+vQV2Ld3//69B/nz6devnwB/fv3791vwD9CCwIEECwpUgDChwoULiTh8CDFiRAoUK1q8eFGGxo0cO3a0ATKkyJEjdZg8iTJlygosW7p8+dKDzJk0a9ZMgDOnzp07Lfj8CTRoUAVEixo9epSI0qVMmzalADWq1KlTZVi9ijVrVhtcu3r9+lWH2LFky5atgDat2rVrPbh9Czf/btwEdOvavXvXgt69fPv2VQA4sODBg4kYPow4cWIKjBs7fvxYhuTJlCtXtoE5s+bNm3V4/gw6dOgKpEubPn3ag+rVrFu3TgA7tuzZsy3Yvo07d24FvHv7/v2biPDhxIsXp4A8ufLly2U4fw49enQb1Ktbv35dh/bt3Lt3rwA+vPjx4z2YP48+ffoE7Nu7f//egvz59OvXV4A/v/79+4n4B0hE4ECCBQVSQJhQ4cKFMhw+hBgxog2KFS1evKhD40aOHTt2ABlS5EiSJU2K5JBS5UqWLBm8hBlTpswUNW3exIlzwE6ePX361BBU6FCiRDMcRZpUqdIQTZ0+hQo1xlSq/1WtWu2QVetWrl29ft3KQexYsmXLMkCbVu3atSncvoUbN+4AunXt3r2rQe9evn37ZgAcWPDgwSEMH0acOHEMxo0dP37cQfJkypUtX8ZMmcNmzp09e2YQWvRo0qRTnEadWrXqAa1dv4YNW8Ns2rVt286QW/du3rxD/AYeXLjwGMWNH0eOvMNy5s2dP4cevTkH6tWtX7/OQPt27t27pwAfXvz48QPMn0efPr0G9u3dv3+fQf58+vXrh8CfX//+/TH8A4whcCDBggI7IEyocCHDhg4VcogocSJFigwuYsyoUWOKjh4/ggQ5YCTJkiZNakipciVLlhlewowpU2aImjZv4v/EGWMnz54+fXYIKnQo0aJGjw7loHQp06ZNGUCNKnXq1BRWr2LNmnUA165ev37VIHYs2bJlM6BNq3bt2hBu38KNGzcG3bp2797toHcv375+/wLmy2Ew4cKGDTNIrHgxY8YpHkOOLFnygMqWL2PGrGEz586ePWcILXo0adIhTqNOrVp1jNauX8OG3WE27dq2b+POXZsD796+f/9mIHw48eLFUyBPrnz58gHOn0OPHl0D9erWr1/PoH079+7dQ4APL378+Bjmz6NPn74D+/bu38OPL989h/r27+PHz2A///7+ATIQKDBFQYMHESIcsJBhQ4cONUSUOJEixQwXMWbUqDFPREePH0GCjDGSZEmTJjukVLmSZUuXL1dykDmTZs2aDHDm1LlzZwqfP4EGDTqAaFGjR49qULqUadOmGaBGlTp1agirV7FmzRqDa1evX78GBAA7\"><title>Layer: input (input)\n",
       " shape = 100\n",
       " Keras class = Input</title></image><text x=\"255.0\" y=\"352.0\" font-family=\"Verdana\" font-size=\"12\">input</text></svg>"
      ],
      "text/plain": [
       "<Network name='Example'>"
      ]
     },
     "execution_count": 10,
     "metadata": {},
     "output_type": "execute_result"
    }
   ],
   "source": [
    "net"
   ]
  },
  {
   "cell_type": "code",
   "execution_count": 12,
   "metadata": {
    "collapsed": true
   },
   "outputs": [],
   "source": [
    "import time\n",
    "for index in range(50):\n",
    "    net.propagate(net.get_input(index))\n",
    "    time.sleep(.1)"
   ]
  },
  {
   "cell_type": "code",
   "execution_count": null,
   "metadata": {
    "collapsed": true
   },
   "outputs": [],
   "source": []
  }
 ],
 "metadata": {
  "kernelspec": {
   "display_name": "Python 3",
   "language": "python",
   "name": "python3"
  },
  "language_info": {
   "codemirror_mode": {
    "name": "ipython",
    "version": 3
   },
   "file_extension": ".py",
   "mimetype": "text/x-python",
   "name": "python",
   "nbconvert_exporter": "python",
   "pygments_lexer": "ipython3",
   "version": "3.5.3"
  }
 },
 "nbformat": 4,
 "nbformat_minor": 2
}
