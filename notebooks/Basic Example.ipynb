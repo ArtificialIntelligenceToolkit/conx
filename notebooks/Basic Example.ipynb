{
 "cells": [
  {
   "cell_type": "markdown",
   "metadata": {},
   "source": [
    "# Basic Example\n",
    "\n",
    "After https://s3.amazonaws.com/assets.datacamp.com/blog_assets/Keras_Cheat_Sheet_Python.pdf"
   ]
  },
  {
   "cell_type": "code",
   "execution_count": 1,
   "metadata": {
    "collapsed": true
   },
   "outputs": [],
   "source": [
    "import numpy as np"
   ]
  },
  {
   "cell_type": "code",
   "execution_count": 2,
   "metadata": {
    "collapsed": true
   },
   "outputs": [],
   "source": [
    "data = np.random.random((1000, 100))"
   ]
  },
  {
   "cell_type": "code",
   "execution_count": 3,
   "metadata": {
    "collapsed": true
   },
   "outputs": [],
   "source": [
    "labels = np.random.randint(2, size=(1000, 1))"
   ]
  },
  {
   "cell_type": "code",
   "execution_count": 4,
   "metadata": {},
   "outputs": [
    {
     "name": "stderr",
     "output_type": "stream",
     "text": [
      "Using Theano backend.\n"
     ]
    }
   ],
   "source": [
    "from conx import Network, Layer"
   ]
  },
  {
   "cell_type": "code",
   "execution_count": 5,
   "metadata": {
    "collapsed": true
   },
   "outputs": [],
   "source": [
    "net = Network(\"Example\")"
   ]
  },
  {
   "cell_type": "code",
   "execution_count": 6,
   "metadata": {
    "collapsed": true
   },
   "outputs": [],
   "source": [
    "net.add(Layer(\"input\", shape=100, vshape=(10,10)))\n",
    "net.add(Layer(\"hidden\", shape=32, vshape=(4, 8), activation=\"relu\"))\n",
    "net.add(Layer(\"output\", shape=1, activation=\"sigmoid\"))\n",
    "\n",
    "net.connect(\"input\", \"hidden\")\n",
    "net.connect(\"hidden\", \"output\")"
   ]
  },
  {
   "cell_type": "code",
   "execution_count": 7,
   "metadata": {
    "collapsed": true
   },
   "outputs": [],
   "source": [
    "net.compile(optimizer=\"rmsprop\", loss=\"binary_crossentropy\")"
   ]
  },
  {
   "cell_type": "code",
   "execution_count": 8,
   "metadata": {},
   "outputs": [
    {
     "name": "stdout",
     "output_type": "stream",
     "text": [
      "1000 train inputs, 0 test inputs\n",
      "Set 1000 inputs and targets\n",
      "Input data shape: (100,), range: (4.0165017941573566e-06, 0.99998842128158338), type: float64\n",
      "Target data shape: (1,), range: (0, 1), type: int64\n"
     ]
    }
   ],
   "source": [
    "net.set_dataset_direct(data, labels)"
   ]
  },
  {
   "cell_type": "code",
   "execution_count": 9,
   "metadata": {},
   "outputs": [
    {
     "name": "stdout",
     "output_type": "stream",
     "text": [
      "Training...\n",
      "Epoch #   25 | train loss 0.59935 | train acc 0.70600 | validate% 0.00000\n",
      "Epoch #   50 | train loss 0.47620 | train acc 0.83300 | validate% 0.01800\n",
      "Epoch #   75 | train loss 0.33638 | train acc 0.93600 | validate% 0.12900\n",
      "Epoch #  100 | train loss 0.21953 | train acc 0.97700 | validate% 0.38200\n",
      "Epoch #  125 | train loss 0.13714 | train acc 0.99300 | validate% 0.55200\n",
      "========================================================================\n",
      "Epoch #  149 | train loss 0.08240 | train acc 0.99800 | validate% 0.77100\n"
     ]
    }
   ],
   "source": [
    "net.train(epochs=2000, accuracy=0.75, batch_size=32, report_rate=25)"
   ]
  },
  {
   "cell_type": "code",
   "execution_count": 10,
   "metadata": {},
   "outputs": [
    {
     "data": {
      "application/javascript": [
       "\n",
       "require(['base/js/namespace'], function(Jupyter) {\n",
       "    Jupyter.notebook.kernel.comm_manager.register_target('conx_svg_control', function(comm, msg) {\n",
       "        comm.on_msg(function(msg) {\n",
       "            var data = msg[\"content\"][\"data\"];\n",
       "            var image = document.getElementById(data[\"id\"]);\n",
       "            if (image) {\n",
       "                image.setAttributeNS(null, \"href\", data[\"href\"]);\n",
       "            }\n",
       "        });\n",
       "    });\n",
       "});\n"
      ],
      "text/plain": [
       "<IPython.core.display.Javascript object>"
      ]
     },
     "metadata": {},
     "output_type": "display_data"
    },
    {
     "data": {
      "image/svg+xml": [
       "\n",
       "        <svg id='Example' xmlns='http://www.w3.org/2000/svg' width=\"300\" height=\"500\">\n",
       "    <defs>\n",
       "        <marker id=\"arrow\" markerWidth=\"10\" markerHeight=\"10\" refX=\"9\" refY=\"3\" orient=\"auto\" markerUnits=\"strokeWidth\">\n",
       "          <path d=\"M0,0 L0,6 L9,3 z\" fill=\"blue\" />\n",
       "        </marker>\n",
       "    </defs>\n",
       "<rect x=\"136.5\" y=\"24\" width=\"27\" height=\"27\" style=\"fill:none;stroke:blue;stroke-width:2\"/><image id=\"Example_output\" x=\"137.5\" y=\"25\" height=\"25\" width=\"25\" href=\"data:image/gif;base64,R0lGODdhGQAZAIAAAB4eHgAAACwAAAAAGQAZAEAIKgABCBxIsKDBgwgTKlzIsKHDhxAjSpxIsaLFixgzatzIsaPHjyBDivQYEAA7\"><title>Layer: output (output)\n",
       " shape = 1\n",
       " Keras class = Dense\n",
       " activation = sigmoid</title></image><text x=\"167.5\" y=\"39.5\" font-family=\"Verdana\" font-size=\"12\">output</text><rect x=\"140.0\" y=\"52\" width=\"20.0\" height=\"47\" style=\"fill:white;stroke:none\"><title>Weights from hidden to output\n",
       " output/kernel has shape (32, 1)\n",
       " output/bias has shape (1,)</title></rect><line x1=\"150.0\" y1=\"99\" x2=\"150.0\" y2=\"52\" stroke=\"blue\" stroke-width=\"2\" marker-end=\"url(#arrow)\"><title>Weights from hidden to output\n",
       " output/kernel has shape (32, 1)\n",
       " output/bias has shape (1,)</title></line><rect x=\"49.0\" y=\"99\" width=\"202\" height=\"102\" style=\"fill:none;stroke:blue;stroke-width:2\"/><image id=\"Example_hidden\" x=\"50.0\" y=\"100\" height=\"100\" width=\"200\" href=\"data:image/gif;base64,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\"><title>Layer: hidden (hidden)\n",
       " shape = 32\n",
       " Keras class = Dense\n",
       " activation = relu</title></image><text x=\"255.0\" y=\"152.0\" font-family=\"Verdana\" font-size=\"12\">hidden</text><rect x=\"140.0\" y=\"202\" width=\"20.0\" height=\"47\" style=\"fill:white;stroke:none\"><title>Weights from input to hidden\n",
       " hidden/kernel has shape (100, 32)\n",
       " hidden/bias has shape (32,)</title></rect><line x1=\"150.0\" y1=\"249\" x2=\"150.0\" y2=\"202\" stroke=\"blue\" stroke-width=\"2\" marker-end=\"url(#arrow)\"><title>Weights from input to hidden\n",
       " hidden/kernel has shape (100, 32)\n",
       " hidden/bias has shape (32,)</title></line><rect x=\"49.0\" y=\"249\" width=\"202\" height=\"202\" style=\"fill:none;stroke:blue;stroke-width:2\"/><image id=\"Example_input\" x=\"50.0\" y=\"250\" height=\"200\" width=\"200\" href=\"data:image/gif;base64,R0lGODdhyADIAIYAAICAgISEhIWFhYaGhomJiYqKioyMjJCQkJSUlJWVlZaWlpeXl5mZmZubm52dnZ6enqGhoaKioqWlpaampqenp6ioqKysrK2tra6urrGxsbKysrS0tLW1tbe3t7i4uLm5ubq6ury8vL29vb6+vsDAwMfHx8vLy83Nzc7Ozs/Pz9DQ0NHR0dLS0tPT09XV1dra2tvb29zc3N7e3uDg4OXl5ebm5ujo6Ovr6+3t7e7u7u/v7/Dw8PHx8fPz8/T09Pb29vv7+/z8/P39/f7+/gAAAAAAAAAAAAAAAAAAAAAAAAAAAAAAAAAAAAAAAAAAAAAAAAAAAAAAAAAAAAAAAAAAAAAAAAAAAAAAAAAAAAAAAAAAAAAAAAAAAAAAAAAAAAAAAAAAAAAAAAAAAAAAAAAAAAAAAAAAAAAAAAAAAAAAAAAAAAAAAAAAAAAAAAAAAAAAAAAAAAAAAAAAAAAAAAAAAAAAAAAAAAAAAAAAAAAAAAAAAAAAAAAAAAAAAAAAAAAAACwAAAAAyADIAEAI/wAHCBxIsGDBIQgTKly4EIDDhxAjRtxAsaLFixcZaNzIsWPHISBDihw50oXJkyhTpjTAsqXLly8JyJxJs2ZNCDhz6ty5c4DPn0CDBh1CtKjRo0cBKF3KtGnTDVCjSp06lYHVq1izZh3CtavXr19diB1LtmxZA2jTql27loDbt3DjxoVAt67du3cH6N3Lt2/fIYADCx48GIDhw4gTJ97AuLHjx48ZSJ5MuXLlIZgza9682YXnz6BDhzZAurTp06cJqF7NunVrCLBjy549W4Xt27hz59bBu7fv3789CB9OvHhxHciTK1++HIDz59CjR0dBvbr169cfaN/OvXv3FeDDi/8fPx6E+fPo06d/wb69+/fvVcifT79+fR348+vfv9+Df4AeBA4kWFCgDoQJFS5cCMDhQ4gRI6KgWNHixYsPNG7k2LHjCpAhRY4cCcLkSZQpU75g2dLly5cHZM6kWdPmTZw0X+zk2dOnzxZBhQ4lShTDUaRJlSpd0NTpU6hQFUylWtWqVQtZtW7lylXAV7BhxYqVUNbsWbRoD6xl29btW7hx276gW9fu3bst9O7l27cvBsCBBQ8evMDwYcSJEytg3Njx48cWJE+mXLmyAMyZNW/eLMHzZ9ChQx8gXdr0adSpVZt+0dr1a9iwW8ymXdu2bQy5de/mzXvBb+DBhQtXUNz/+HHkyC0sZ97cuXMB0aVPp05dwnXs2bVv5949Owvw4cWPHx/C/Hn06dOnYN/e/fv3JuTPp1+/vgb8+fXv30/BP0AKAgcSLCjwB8KEChcuRODwIcSIEX1QrGjx4kUJGjdy7NiRBciQIkeODGHyJMqUKVOwbOny5UsTMmfSrFlTA86cOnfupODzJ9CgQX8QLWr06FEESpcybdrUB9SoUqdOjWH1KtasWQNw7er161chYseSLVsWB9q0ateuneD2Ldy4cTvQrWv37l0Pevfy7ds3AuDAggcPDmL4MOLEiRUwbuz48eMYkidTrlw5AObMmjdvFuL5M+jQoXGQLm369OkJ/6pXs27dugPs2LJnz/Zg+zbu3Lkj8O7t+/fvIMKHEy9eXAHy5MqXL4/h/Dn06NEDUK9u/fp1Idq3c+/eHQf48OLHj59g/jz69Ok7sG/v/v17D/Ln069fPwL+/Pr37w/iH2AQgQMJFhSoAGFChQsX2nD4EGLEiDsoVrR48SINjRs5duyYAWRIkSNHfjB5EmXKlCNYtnT58qUJmTNp1qwpAmdOnTt3YvD5E2jQoBaIFjV69KgNpUuZNm26A2pUqVOn0rB6FWvWrBm4dvX69esHsWPJli07Am1atWvXmnD7Fm7cuCLo1rV79y4GvXv59u1rAXBgwYMHzzB8GHHixD0YN/92/PjxBcmTKVeuXAJzZs2bN1Pw/Bl06NAwSJc2ffq0DNWrWbdunQB2bNmzZ9+wfRt37twBePf2/fv3DOHDiRcv3gN5cuXLl19w/hx69OglqFe3fv06Be3buXfvDgN8ePHjx8swfx59+vQJ2Ld3//79Dfnz6devHwB/fv3798/wD3CGwIEECwrsgTChwoULLzh8CDFixBIUK1q8eJGCxo0cO3aEATKkyJEjZZg8iTJlygQsW7p8+fKGzJk0a9YMgDOnzp07Pfj8CTRo0AhEixo9epSE0qVMmzblADWq1KlTC1i9ijVr1hxcu3r9+tWD2LFky5o9i5bsgLVs27p1WyP/rty5dOl6uIs3r169Efr6/QsYMInBhAsbNswhseLFjBkXeAw5smTJOSpbvowZs4fNnDt7/gw6dOcBpEubPn26hurVrFu3NgE7tuzZsyvYvo07d24gvHv7/v27hPDhxIsX74A8ufLlyzc4fw49enQT1Ktbv36dg/bt3Lt3PwE+vPjx43mYP48+fXoT7Nu7f/++gvz59OvXB4I/v/79+0v4B1hC4ECCBQV2QJhQ4cKFGxw+hBgxogmKFS1evMhB40aOHTueABlS5MiRPEyeRJkypQmWLV2+fFlB5kyaNWsCwZlT586dJXz+BBo0aAeiRY0ePbpB6VKmTZuagBpV6tSp/xysXsWaNesJrl29fv3KQ+xYsmXLOkCbVu3atSzcvoUbN+4NunXt3r3rQe9evn37BgEcWPDgwQkMH0acODEAxo0dP35sQvJkypUrW8CcWfPmzQ08fwYdOrQD0qVNnz7NQvVq1q1b34AdW/bs2R5s38adO3cQ3r19//6dQPhw4sWLA0CeXPny5SacP4cePboF6tWtX7/eQPt27t27DwAfXvz48UPMn0efPj0A9u3dv3+/Qf58+vXrM8CfX//+/UP8AxwicCDBggJdIEyocOFCAw4fQowYkQDFihYvXoSgcSPHjh0HgAwpcuTIISZPokyZEgDLli5fvtwgcybNmjUZ4P/MqXPnziE+fwINGtQF0aJGjx41oHQp06ZNCUCNKnXqVAhWr2LNmlUF165ev37VIXYs2bJlPaBNq3btWh1u38KNGxcA3bp2795FoXcv3759HwAOLHjw4BWGDyNOnBgE48aOHz9+IXky5cqVVWDOrHnzZh2eP4MOHdoD6dKmT5/WoXo169atAcCOLXv2bBS2b+POnfsB796+f/9eIXw48eLFQSBPrnz58hfOn0OPHl0F9erWr1/XoX079+7dPYAPL378eB3mz6NPnx4A+/bu379HIX8+/fr1H+DPr3///hX+Aa4QOJBgQYEgECZUuHDhC4cPIUaMeIBiRYsXMWbUaPH/RUePH0GCbDGSZEmTJjGkVLmSJcsFL2HGlClTQU2bN3HitLCTZ0+fPgUEFTqUKFEJR5EmVar0QFOnT6FGlTr16QurV7FmzdqCa1evX79iEDuWbNmyC9CmVbt2rQK3b+HGjWuBbl27d+8K0LuXb9++EgAHFjyYcGHDglkkVryYMeMQjyFHliw5RWXLlzFjNrGZc2fPnjWEFj2aNGkKp1GnVq36R2vXr2HDRjCbdm3btn3k1r2bN28Jv4EHFy6cRXHjx5EjD7GceXPnzlNElz6dOnUT17Fn165dQ3fv38GDpzCefHnz5n+kV7+ePXsE7+HHly/fR3379/Hjl7Cff3///wAlCBTIoqDBgwgRhljIsKFDhykiSpxIkaKJixgzatSooaPHjyBBUhhJsqRJkz9SqlzJkiWClzBjypTpo6bNmzhxxtjJs6dPnwGCCh1KlKiQo0iTKlWKo6nTp1ChTphKtapVqx2yat3KlauHr2DDihUboazZs2jRBlnLtq1btwriyp1Ll26Mu3jz6tUboK/fv4ABCxlMuLBhwzgSK17MmPGEx5AjS5bcobLly5gxe9jMubNnzxFCix5NmnSQ06hTq1atoLXr17Bh25hNu7Zt2zty697NmzeN38CDCxeeobjx48iRf1jOvLlz5yOiS59OnbqJ69iza9cuorv37+DBY/8YT768efMW0qtfz569jffw48uXv6O+/fv48dPYz7+/f4A0BArMUNDgQYQIPyxk2NChwxERJU6kSNHERYwZNWoU0dHjR5AgMYwkWdKkSQspVa5kydLGS5gxZcrcUdPmTZw4aezk2dOnzwxBhQ4lSvTDUaRJlSod0dTpU6hQTUylWtWqVRFZtW7lyhXDV7BhxYq1UNbsWbRoZ6xl29at2x5x5c6lS/fCXbx59eot0dfvX8CAKQwmXNiwYRiJFS9mzFjGY8iRJUtOUNnyZcyYb2zm3Nmz5wChRY8mTXrGadSpVavu0dr1a9iwL8ymXdu27RK5de/mzZvCb+DBhQuHUdz/+HHkyGUsZ97cufME0aVPp079xnXs2bVrD9Dd+3fw4D2MJ1/evPkI6dWvZ8+exHv48eXL51Df/n38+Avs59/fP8ACAgXmKGjwIEKEHhYybOjwIcSIDQdQrGjx4sUaGjdy7NjRA8iQIkeOjGDyJMqUKUmwbOny5UsOMmfSrFmzAM6cOnfuzOHzJ9CgQT0QLWr0KNKkSo0OaOr0KVSoNaZSrWrVqoesWrdy5RrhK9iwYsWSKGv2LFq0HNaybevWbYG4cufSpZvjLt68evV66Ov3L+DAggf/HWD4MOLEiWswbuz48WMTkidTrly5AubMmjdvBuL5M+jQoUuQLm369OkO/6pXs27degPs2LJnzzZh+zbu3Lk58O7t+/fvE8KHEy9enAfy5MqXLzfh/Dn06NErUK9u/fp1INq3c+/evQT48OLHj+9g/jz69Ok3sG/v/v17E/Ln069fnwP+/Pr37z/hH+AJgQMJFhTIA2FChQsXOnD4EGLEiCwoVrR48eINjRs5duzoAWRIkSNHBjF5EmXKlAlYtnT58iUAmTNp1qxpAmdOnTt3WvD5E2jQoA2IFjV69KgDpUuZNm3KAmpUqVOn3rB6FWvWrB64dvX69WsQsWPJli2bAG1atWvXAnD7Fm7cuCbo1rV7964FvXv59u3bAHBgwYMHOzB8GHHixCwYN/92/PjxDcmTKVeu7AFzZs2bNwfx/Bl06NAJSJc2ffo0ANWrWbdubQJ2bNmzZ1uwfRt37twNePf2/fv3AOHDiRcvPgR5cuXLlwNw/hx69OgbqFe3fv06A+3buXfvPgR8ePHjx7swfx59+vQG2Ld3//49Afnz6devDwF/fv379w/wD3CAwIEECwocgjChwoULATh8CDFixA0UK1q8eJGBxo0cO3YcAjKkyJEjXZg8iTJlSgMsW7p8+ZKAzJk0a9aEgDOnzp07B/j8CTRo0CFEixo9ehSA0qVMmzbdADWq1KlTGVi9ijVr1iFcu3r9+tWF2LFky5Y1gDat2rVrCbh9Czf/blwIdOvavXt3gN69fPv2HQI4sODBgwEYPow4ceINjBs7fvyYgeTJlCtXHoI5s+bNm114/gw6dGgDpEubPn2agOrVrFu3hgA7tuzZswfYvo07d+4hvHv7/v0bgPDhxIsX34A8ufLlyxk4fw49evQh1Ktbv37dhfbt3Lt3NwA+vPjx4wmYP48+fXoI7Nu7f/9ehfz59OvX14E/v/79+z34B+hB4ECCBQXqQJhQ4cKFABw+hBgxIgqKFS1evPhA40aOHTuuABlS5MiRIEyeRJky5QuWLV2+fKlC5kyaNWvqwJlT586dHnz+BBo0qA6iRY0ePQpA6VKmTZuigBpV6tSp/w+sXsWaNesKrl29fv0KQuxYsmXLvkCbVu3atSrcvoUbN64OunXt3r3rQe9evn376gAcWPDgwQAMH0acODEKxo0dP378QPJkypUrr8CcWfPmzSA8fwYdOvQL0qVNnz6tQvVq1q1b64AdW/bs2R5s38adO7cO3r19//4NQPhw4sWLo0CeXPny5Q+cP4cePfoK6tWtX78OQvt27t27vwAfXvz48SrMn0efPr0O9u3dv3/vQf58+vXr68CfX//+/QD8AwQgcCDBggJRIEyocOHCBw4fQowYcQXFihYvXgShcSPHjh1fgAwpcuTIAyZPokypciVLlC9ewowpU2aLmjZv4v/EiWEnz54+fS4IKnQoUaIKjiJNqlSphaZOn0KFKmAq1apWrUrIqnUrV64HvoINK3Ys2bJhX6BNq3bt2hZu38KNGxcD3bp2795doHcv3759FQAOLHjwYAuGDyNOnFgA48aOHz+WIHky5cqVD2DOrHkz586eNb8ILXo0adItTqNOrVo1htauX8OGvWA27dq2bSvIrXs3b94WfgMPLly4gOLGjyNHLmE58+bOnR+ILn069erWr09/oX079+7dW4APL378eAzmz6NPn34B+/bu379XIH8+/fr1LeDPr3//fgH+AQoQOJBgQYESECZUuHDhAYcPIUaUOJEixBcXMWbUqLH/RUePH0GCxDCSZEmTJhekVLmSJUsFL2HGlCnTQk2bN3HiFLCTZ0+fPiUEFTqUaFGjR4eyULqUadOmIaBGlTp1agqrV7FmzWqCa1evX79qEDuWbNmyFNCmVbt27Q+3b+HGjYuAbl27d+/60LuXb9++EgAHFjx4MAvDhxEnThyCcWPHjx+nkDyZcuXKJjBn1rx5swbPn0GHDk2BdGnTp0//UL2adevWCGDHlj17tg/bt3Hnzi2Bd2/fv3+zED6cePHiIZAnV758eQrnz6FHj26CenXr169r0L6de/fuFMCHFz9+/A/z59GnT4+AfXv379/7kD+ffv36EvDn179/Pwv//wBZCBxIsKDAEAgTKly4MIXDhxAjRjRBsaLFixc1aNzIsWNHCiBDihw58ofJkyhTpkTAsqXLly99yJxJs2ZNCThz6ty5k4XPn0CDBg1BtKjRo0dTKF3KtGlTE1CjSp06VYPVq1izZqXAtavXr19/iB1LtmxZBGjTql271ofbt3Djxo1Bt67du3cD6N3Lt29fIYADCx48GIfhw4gTJ57AuLHjx487SJ5MuXJlD5gza968OYLnz6BDhw5CurTp06cVqF7NunXrGLBjy549O4Dt27hz5xbCu7fv379xCB9OvHjxCciTK1++vIPz59CjR/dAvbr169cjaN/OvXv3IODDi/8fP16B+fPo06ePwb69+/fvA8ifT79+fSH48+vfvx+Hf4A4BA4kWFDgBIQJFS5c2MHhQ4gRI3qgWNHixYsRNG7k2LFjEJAhRY4cqcDkSZQpU8Zg2dLly5cBZM6kWbOmEJw5de7cicPnT6BBg04gWtTo0aMdlC5l2rSpB6hRpU6dGsHqVaxZswbh2tXr168KxI4lW7ZsDLRp1a5dG8DtW7hx4wqhW9fu3bs49O7l27fvBMCBBQ8e3MHwYcSJE3tg3Njx48cRJE+mXLlyEMyZNW/erMDzZ9ChQ9sgXdr06dM7VK9m3bo1DdixZc+encH2bdy5c3/g3dv3798jhA8nXrz/uAnkyZUvXy7C+XPo0aNjoF7d+vXrFrRv5969uw3w4cWPH7/D/Hn06dPTYN/e/fv3GeTPp1+//gf8+fXv3z/CP8ARAgcSLCjQBMKEChcuFOHwIcSIETFQrGjx4kULGjdy7NjRBsiQIkeO3GHyJMqUKWmwbOny5csMMmfSrFnzA86cOnfuHOHzJ9CgQU0QLWr06FERSpcybdoUA9SoUqdOtWD1KtasWW1w7er169cdYseSLVuWBtq0ateuzeD2Ldy4cT/QrWv37t0Revfy7dvXBODAggcPFmH4MOLEiTEwbuz48WMLkidTrlzZBubMmjdv3uH5M+jQoWmQLm369OkM/6pXs27d+gPs2LJnzx5h+zbu3LlN8O7t+/dvEcKHEy9eHAPy5MqXL7fg/Dn06NFnUK9u/fr1Htq3c+/e/QL48OLHjy9h/jz69OkpsG/v/v17GPLn069fXwb+/Pr370/gH2ACgQMJFhR4A2FChQsXBnD4EGLEiDMoVrR48WIPjRs5dux4AWRIkSNHljB5EmXKlBRYtnT58iUMmTNp1qwpA2dOnTt3JvD5E2jQoDeIFjV69GgApUuZNm06A2pUqVOn9rB6FWvWrBe4dvX69WsJsWPJli1LAW1atWvXwnD7Fm7cuDLo1rV7924CvXv59u17A3BgwYMHBzB8GHHixDMYN/92/PhxD8mTKVeufAFzZs2bN5fw/Bl06NAUSJc2ffo0DNWrWbduLQN2bNmzZyewfRt37tw3ePf2/ft3AOHDiRcvPgN5cuXLl/dw/hx69OgXqFe3fv16Ce3buXfvTgF8ePHjx8Mwfx59+vQy2Ld3//59Avnz6devfwN/fv379wfwDzCAwIEECwr0gDChwoULIzh8CDFiRBIUK1q8eJGDxo0cO3YsADKkyJEjc5g8iTJlSg8sW7p8CTOmTJcDatq8iRNnjZ08e/r06SGo0KFEiUY4ijSpUqUkmjp9ChUqh6lUq1q1WiCr1q1cueb4CjasWLEeypo9izat2rVnB7h9Czf/btwadOvavXvXg969fPv2jQA4sODBg0kYPow4cWIOjBs7fvy4gOTJlCtXzoE5s+bNmz14/gw6tOjRpEEPOI06tWrVNVq7fg0btofZtGvbth0ht+7dvHmT+A08uHDhHIobP44ceYHlzJs7d54juvTp1Kl7uI49u/bt3LtnHwA+vPjx42uYP48+fXoP7Nu7f/8+gvz59OvXJ4E/v/79+zn4B8hB4ECCBQUWQJhQ4cKFORw+hBgxogeKFS1exJhRo8UBHT1+BAmyxkiSJU2aNJFS5UqWLCu8hBlTpkwgNW3exImzxE6ePX367BBU6FCiRDccRZpUqVITTZ0+hQqVw1Sq/1WtWj2RVetWrlx5fAUbVqxYE2XNnkWLtsJatm3dugUSV+5cunRL3MWbV6/eDn39/gUMeMNgwoUNGzaRWPFixow5PIYcWbLkE5UtX8aMmcdmzp09ezYRWvRo0qQrnEadWrVqIK1dv4YNu8Rs2rVt2+6QW/du3rw3/AYeXLhwE8WNH0eOnMNy5s2dOz8RXfp06tR5XMeeXbt2E929fwcPvsJ48uXNmweSXv169uxLvIcfX778DvXt38ePf8N+/v39A9wgUKCJggYPIkTIYSHDhg4dnogocSJFijwuYsyoUaOJjh4/ggRZYSTJkiZNAkmpciVLliVewowpU2aHmjZv4v/EuWEnz54+fZoIKnQoUaIcjiJNqlTpiaZOn0KFymMq1apWrTrIqnUrV64svoINK1bsjbJmz6JF62Et27Zu3QaJK3cuXboJ7uLNq1cvgL5+/wIGbGIw4cKGDVtIrHgxY8YNHkOOLFmyg8qWL2PGzGIz586ePd8ILXo0adIeTqNOrVp1kNauX8OGnWA27dq2bQPIrXs3b94mfgMPLly4heLGjyNH3mA58+bOnTuILn06deosrmPPrl37je7ev4MH72E8+fLmzQdJr349e/YJ3sOPL18+gPr27+PHb2I///7+AZoQKNBCQYMHESJssJBhQ4cOHUSUOJEiRRYXMWbUqPH/RkePH0GC9DCSZEmTJoOkVLmSJcsEL2HGlCkTQE2bN3HiNLGTZ0+fPi0EFTqUKNEGR5EmVarUQVOnT6FCZTGValWrVm9k1bqVK1cPX8GGFSs2SFmzZ9GiTbCWbVu3bgHElTuXLl0Td/Hm1avXQl+/fwEDbjCYcGHDhgckVryYMeMhjyFHliwZQGXLlzFj3rCZc2fPnhmEFj2aNOkhp1GnVq3aRWvXr2HDNjCbdm3btgnk1r2bN28Iv4EHFy58QHHjx5EjH7KceXPnzgFElz6dOvUN17Fn166dQXfv38GDHzKefHnz5l2kV7+ePXsD7+HHly+fQH379/Hjh7Cff3///wAhCBQ4oKDBgwgRDlnIsKFDhwAiSpxIkeKGixgzatTIoKPHjyBBDhlJsqRJky5SqlzJkqWBlzBjypRJoKbNmzhxQtjJs6dPnwOCCh1KlOiQo0iTKlUKoKnTp1ChbphKtapVqwyyat3KleuQr2DDihXroqzZs2jRGljLtq1btwTiyp1Lly6Eu3jz6tU7oK/fv4ABDxlMuLBhwwASK17MmPGGx5AjS5bMoLLly5gxD9nMubNnzy5Cix5NmrSB06hTq1ZNoLXr17BhQ5hNu7Zt2wNy697Nm/eQ38CDCxcOoLjx48iRb1jOvLlz5wyiS59OnfqQ69iza9fuorv37+DBG/8YT768efME0qtfz549hPfw48uXP6C+/fv48Q/Zz7+/f4BDBAoEUNDgQYQINyxk2NChQwYRJU6kSHHIRYwZNWp00dHjR5AgDYwkWdKkSQIpVa5kyRLCS5gxZcocUNPmTZw4h+zk2dOnTwBBhQ4lSnTDUaRJlSpl0NTpU6hQh0ylWtWqVRdZtW7lytXAV7BhxYolUNbsWbRoIaxl29at2wFx5c6lS3fIXbx59eoF0NfvX8CANwwmXNiwYQaJFS9mzHjIY8iRJUt2UdnyZcyYDWzm3NmzZwKhRY8mTRrCadSpVase0Nr1a9iwh8ymXdu2bQC5de/mzXvDb+DBhQtnUNz/+HHkyIcsZ97cuXMX0aVPp07dwHXs2bVrJ9Dd+3fw4CGMJ1/evHkV6dWvZ89ex3v48eXL91Df/n38+HXs59/fP0AdAgUCKGjwIEKEKBYybOjQ4YOIEidSpLjiIsaMGjWC6OjxI0iQL0aSLGnSpIqUKleyZKnjJcyYMmV6qGnzJk6cOnby7OnTJ4CgQocSJYriKNKkSpU+aOr0KVSoK6ZSrWrVKoisWrdy5friK9iwYsWqKGv2LFq0OtaybevWrYe4cufSpavjLt68evUC6Ov3L2DAKAYTLmzY8IPEihczZrziMeTIkiWDqGz5MmbMLzZz7uzZs4rQokeTJq3jNOrU/6pVe2jt+jVs2Dpm065t2zaA3Lp38+aN4jfw4MKFPyhu/Dhy5CuWM2/u3DmI6NKnU6f+4jr27Nq1q+ju/Tt48DrGky9v3ryH9OrXs2ev4z38+PLlA6hv/z5+/Cj28+/vHyAKgQIfFDR4ECHCFQsZNnToEEREiRMpUnxxEWNGjRpVdPT4ESRIHSNJljRp0kNKlStZstTxEmZMmTIB1LR5EydOFDt59vTp80FQoUOJEl1xFGlSpUpBNHX6FCrUF1OpVrVqVUVWrVu5ctXxFWxYsWI9lDV7Fi1aHWvZtnXrFkBcuXPp0kVxF29evXof9PX7FzDgFYMJFzZsGERixYsZM/9+8RhyZMmSVVS2fBkzZh2bOXf27NlDaNGjSZPWcRp1atWqAbR2/Ro2bBSzade2bftBbt27efNe8Rt4cOHCQRQ3fhw58hfLmTd37lxFdOnTqVPXcR17du3aPXT3/h08eB3jyZc3bx5AevXr2bNH8R5+fPnyH9S3fx8//hX7+ff3D3CFQIEgCho8iBDhi4UMGzp0qCKixIkUKeq4iDGjRo0eOnr8CBKkjpEkS5o0CSClypUsWaJ4CTOmTJkPatq8iRPnip08e/r0CSKo0KFEib44ijSpUqUHmjp9CjWq1KlPX1i9ijVr1hZcu3r9+hWD2LFky5ZdgDat2rVrFbh9Czf/blwLdOvavXtXgN69fPv2lQA4sODBgw8YPow4seLFjBG/eAw5smTJLSpbvowZM4bNnDt79rwgtOjRpEkrOI06tWrVFlq7fg0btoDZtGvbti0ht+7dvHkf+A08uPDhxIsHf4E8ufLly1s4fw49enQM1Ktbv359gfbt3Lt3VwA+vPjx4y2YP48+fXoB7Nu7f/9egvz59OvXP4A/v/79/Pv7B3hA4IEXBQ0eRIiwxUKGDR06xBBR4kSKFBdcxJhRo0YFHT1+BAnSwkiSJU2aFJBS5UqWLCW8hBlTpswDNW3exJlT586bL3z+BBo0aAuiRY0ePYpB6VKmTZsugBpV6tSp/wqsXsWaNasFrl29fv0qQOxYsmXLSkCbVu3atQfcvoUbV+5cunBf3MWbV6/eFn39/gUMGMNgwoUNG16QWPFixowVPIYcWbJkC5UtX8aMWcBmzp09e5YQWvRo0qQPnEadWvVq1q1Tv4AdW/bs2S1s38adOzcG3r19//69QPhw4sWLK0CeXPny5RacP4cePboA6tWtX78uQft27t27HwAfXvx48uXNi3+RXv169uxbvIcfX758DPXt38ePf8F+/v39A1wgUKCCggYPIkRoYSHDhg4dCogocSJFihIuYsyoUeOBjh4/ggwpcuTHFyZPokyZsgXLli5fvsQgcybNmjUX4P/MqXPnTgU+fwINGtQC0aJGjx4VoHQp06ZNJUCNKnXq1ANWr2LNqnUrV6wvvoINK1Zsi7Jmz6JFi2Et27Zu3S6IK3cuXboK7uLNq1evhb5+/wIGLGAw4cKGDUtIrHgx48aOHy9mIXky5cqVQ2DOrHnz5hSeP4MOHdoE6dKmT5/WoHo169atKcCOLXv27B+2b+POnRsB796+f//2IXw48eLFJSBPrnz5chbOn0OPHj0E9erWr19PoX079+7dTYAPL378eA3mz6NPn54C+/bu37//IX8+/fr1EeDPr3//fh/+AfoQOJBgQYESECZUuHAhC4cPIUaMGIJiRYsXL6bQuJH/Y8eOJkCGFDlypAaTJ1GmTEmBZUuXL1/+kDmTZs2aCHDm1Llzpw+fP4EGDSqBaFGjR4+yULqUadOmIaBGlTp1agqrV7FmzWqCa1evX79qEDuWbNmyFNCmVbt27Q+3b+HGjYuAbl27d+/60LuXb9++EgAHFjx4MAvDhxEnThyCcWPHjx+nkDyZcuXKJjBn1rx5swbPn0GHDk2BdGnTp0//UL2adevWCGDHlj17tg/bt3Hnzi2Bd2/fv3+zED6cePHiIZAnV758eQrnz6FHj26CenXr169r0L6de/fuFMCHFz9+/A/z59GnT4+AfXv379/7kD+ffv36EvDn179/Pwv//wBZCBxIsKDAEAgTKly4MIXDhxAjRjRBsaLFixc1aNzIsWNHCiBDihw58ofJkyhTpkTAsqXLly99yJxJs2ZNCThz6ty5k4XPn0CDBg1BtKjRo0dTKF3KtGlTE1CjSp06VYPVq1izZqXAtavXr19/iB1LtmxZBGjTql271ofbt3DjxpVAt67du3dZ6N3Lt2/fEIADCx48OIXhw4gTJzbBuLHjx481SJ5MuXJlCpgza968+Yfnz6BDh0ZAurTp06d9qF7NunVrCbBjy549m4Xt27hz5w7Bu7fv379TCB9OvHhxE8iTK1++XIPz59CjR6dAvbr169d/aN/OvXt3BODDi/8fP96H+fPo06ePwb69+/fvA8ifT79+fSH48+vfvx+Hf4A4BA4kWFDgBIQJFS5c2MHhQ4gRI3qgWNHixYsRNG7k2LFjEJAhRY4cqcDkSZQpU8Zg2dLly5cBZM6kWbOmEJw5de7cicPnT6BBg04gWtTo0aMdlC5l2rSpB6hRpU6dGsHqVaxZswbh2tXr168KxI4lW7ZsDLRp1a5dG8DtW7hx4wqhW9fu3bs49O7l27fvBMCBBQ8e3MHwYcSJE3tg3Njx48cRJE+mXLlyEMyZNW/erMDzZ9ChQ8cgXdr06dMBVK9m3bq1ENixZc+ejcP2bdy5c0/g3dv3798dhA8nXrz/uAfkyZUvXx7B+XPo0aMHoV7d+vXrCrRv5969ewzw4cWPHx/A/Hn06dMLYd/e/fv3OOTPp1+//gT8+fXv39/BP8AOAgcSLCjQA8KEChcujODwIcSIEYNQrGjx4kUFGjdy7NgxBsiQIkeODGDyJMqUKYWwbOny5UscMmfSrFlzAs6cOnfu7ODzJ9CgQT0QLWr06NEISpcybdo0CNSoUqdOVWD1KtasWWNw7er169cAYseSLVtWCNq0ateuxeH2Ldy4cSfQrWv37t0Oevfy7dvXA+DAggcPjmD4MOLEiYMwbuz48WMFkidTrlw5BubMmjdvDuD5M+jQoYWQLm369Gkc/6pXs27degLs2LJnz+5g+zbu3Lk98O7t+/fvCMKHEy9ePAjy5MqXL1fg/Dn06NFjUK9u/fr1ANq3c+/eXQj48OLHj8dh/jz69OknsG/v/v37DvLn069f3wP+/Pr374/gH2AEgQMJFhQYBGFChQsXKnD4EGLEiDEoVrR48WIAjRs5duwoBGRIkSNH4jB5EmXKlBNYtnT58mUHmTNp1qzpAWdOnTt3RvD5E2jQoEGIFjV69KgCpUuZNm1qA2pUqVOn7rB6FWvWrDS4dvX69WsGsWPJli37AW1atWvXjnD7Fm7cuCbo1rV7964IvXv59u2LAXBgwYMHWzB8GHHixDYYN/92/PjxDsmTKVeuTANzZs2bN2fw/Bl06NAfSJc2ffr0CNWrWbdubQJ2bNmzZ4uwfRt37twYePf2/fu3BeHDiRcvbgN5cuXLl+9w/hx69Og0qFe3fv16Bu3buXfv/gF8ePHjx48wfx59+vQm2Ld3//69CPnz6devjwF/fv3791vwD9CCwIEECwq0gTChwoULdzh8CDFiRBoUK1q8eDGDxo0cO3b8ADKkyJEjR5g8iTJlShMsW7p8+VKEzJk0a9bEgDOnzp07Lfj8CTRoUBtEixo9enSH0qVMmzalATWq1KlTM1i9ijVr1g9cu3r9+nWE2LFky5Y1gTat2rVrRbh9Czf/blwMdOvavXvXgt69fPv2tQE4sODBg3cYPow4cWIajBs7fvw4g+TJlCtX/oA5s+bNm0d4/gw6dGgTpEubPn1ahOrVrFu3xgA7tuzZsy3Yvo07d24bvHv7/v17h/DhxIsXp4E8ufLlyzM4fw49evQP1Ktbv359hPbt3Lt3NwE+vPjx40WYP48+fXoM7Nu7f//egvz59OvXt4E/v/79+3f4B7hD4ECCBQXSQJhQ4cKFGRw+hBgx4geKFS1evDhC40aOHTuaABlS5MiRIkyeRJkyJQaWLV2+fGlB5kyaNWvawJlT586dO3z+BBo0KA2iRY0ePZpB6VKmTZt+gBpV6tSp/yOsXsWaNasJrl29fv0qQuxYsmXLYkCbVu3atRbcvoUbN64NunXt3r27Q+9evn370gAcWPDgwRkMH0acOPEHxo0dP348QvJkypUrm8CcWfPmzSI8fwYdOjQG0qVNnz5tQfVq1q1bz4AdW/bs2T1s38adO/cF3r19//5dQvhw4sWLU0CeXPny5TCcP4cePboM6tWtX7+eQPt27t273wAfXvz48QHMn0efPv0M9u3dv3/fQ/58+vXrX8CfX//+/SX8AywhcCDBggIpIEyocOFCGA4fQowYUQbFihYvXkygcSPHjh1vgAwpcuTIACZPokyZcgbLli5fvuwhcybNmjUv4P/MqXPnzhI+fwINGpQC0aJGjx6FoXQp06ZNZUCNKnXq1ARWr2LNmvUG165ev34NIHYs2bJlZ6BNq3bt2h5u38KNG/cC3bp2794toXcv3759KQAOLHjwYBiGDyNOnFgG48aOHz9OIHky5cqVb2DOrHnz5gCeP4MOHXoG6dKmT5/uoXo169atL8COLXv27BK2b+POnZsC796+f/+GIXw48eLFZSBPrnz58gTOn0OPHv0G9erWr18PoH079+7dZ4APL378+B7mz6NPn/4C+/bu378vIX8+/fr1KeDPr3//fhj+AcIQOJBgQYEyECZUuHBhAocPIUaMeINiRYsXLwbQuJH/Y8eOM0CGFDlyZA+TJ1GmTHmBZUuXL1+WkDmTZs2aFHDm1LlzJwyfP4EGDSqDaFGjR48mULqUadOmN6BGlTp1agCrV7FmzTqDa1evX7/2EDuWbNmyF9CmVbt2bQm3b+HGjUuBbl27d+/C0LuXb9++MgAHFjx4cALDhxEnTnyDcWPHjx8HkDyZcuXKMzBn1rx5cw/Pn0GHDn2BdGnTp0+XUL2adevWFGDHlj17Ngzbt3Hnzi2Dd2/fv38nED6cePHiN5AnV758eQDnz6FHjz6DenXr16/30L6de/fuF8CHFz9+fAnz59GnT0+BfXv379/DkD+ffv36MvDn179/fwL//wATCBxIsKDAGwgTKly4MIDDhxAjRvRAsaLFixcjaNzIsWNHEiBDihw5koPJkyhTpizAsqXLly9zyJxJs2ZNDzhz6tzJs6dPnQOCCh1KlGiNo0iTKlXqoanTp1ChRphKtapVqySyat3KlSuHr2DDihVboKzZs2jR5ljLtq1btx7iyp1Lt67du3MH6N3Lt2/fGoADCx482IPhw4gTJ47AuLHjx49JSJ5MuXJlDpgza968uYDnz6BDh85BurTp06c9qF7NurXr17BZD5hNu7Zt2zVy697Nm7eH38CDCxceobjx48iRk1jOvLlz5xyiS59OnXqB69iza9eeo7v37+DBe/8YT768+fPo05cfwL69+/fva8ifT79+fQ/48+vfvz+Cf4ARBA4kWFAgCYQJFS5cyMHhQ4gRIxagWNHixYs5NG7k2LGjB5AhRY4kWdKkyAEpVa5kybLGS5gxZcr0UNPmTZw4I+zk2dOnTxJBhQ4lSpTDUaRJlSot0NTpU6hQc0ylWtWqVQ9ZtW7l2tXr160DxI4lW7ZsDbRp1a5d68HtW7hx40agW9fu3bsk9O7l27cvB8CBBQ8eXMDwYcSJE+dg3Njx48ceJE+mXNnyZcyUB2zm3Nmz5xqhRY8mTdrDadSpVauO0Nr1a9iwScymXdu2bQ65de/mzbvAb+DBhQvPUdz/+HHkyD0sZ97c+XPo0ZsPoF7d+vXrNbRv5969uwfw4cWPHx/B/Hn06dOTYN/e/fv3HOTPp1+/fgH8+fXv35/DP8AcAgcSLCjQA8KEChcybOhQ4YCIEidSpFjjIsaMGjV66OjxI0iQEUaSLGnSJImUKleyZMnhJcyYMmUWqGnzJk6cOXby7OnTp4egQocSLWr06NABSpcybdq0BtSoUqdONWH1KtasWStw7er161cgYseSLVu2BNq0ateu7eD2Ldy4cTfQrWv37l0Tevfy7duXA+DAggcPPmH4MOLEiXkwbuz48WMTkidTrly5AubMmjdvBuL5M+jQoUuQLm369OkO/6pXs27degPs2LJnzzZh+zbu3Lk58O7t+/fvE8KHEy9enAfy5MqXLzfh/Dn06NErUK9u/fp1INq3c+/evQT48OLHj+9g/jz69Ok3sG/v/v17E/Ln069fnwP+/Pr37z/hH+AJgQMJFhTIA2FChQsXmnD4EGLEiBUoVrR48SIQjRs5duxYAmRIkSNHdjB5EmXKlBtYtnT58qUJmTNp1qzJAWdOnTt3nvD5E2jQoDyIFjV69KgJpUuZNm1aAWpUqVOnArF6FWvWrCW4dvX69WsHsWPJli27AW1atWvXmnD7Fm7cuBzo1rV79+4JvXv59u3LA3BgwYMHmzB8GHHixBUYN/92/PgxEMmTKVeuXAJzZs2bN3fw/Bl06NAbSJc2ffq0CdWrWbduzQF2bNmzZ5+wfRt37tw8ePf2/fu3CeHDiRcvXgF5cuXLlwNx/hx69OglqFe3fv16B+3buXfvvgF8ePHjx5swfx59+vQc2Ld3//79Cfnz6devzwN/fv3795vwD9CEwIEECwqsgDChwoULgTh8CDFixBIUK1q8eLGDxo0cO3bcADKkyJEjTZg8iTJlSg4sW7p8+fKEzJk0a9bkgTOnzp07Tfj8CTRo0ApEixo9ehSI0qVMmzYtATWq1KlTO1i9ijVr1g1cu3r9+tWE2LFky5blgDat2rVrT7h9Czf/blwedOvavXvXhN69fPv2rQA4sODBg4EYPow4ceISjBs7fvy4g+TJlCtX3oA5s+bNm014/gw6dGgOpEubPn36hOrVrFu35gE7tuzZsx3Yvo07d24WvHv7/v37hvDhxIsX94A8ufLly4M4fw49evQE1Ktbv34dgPbt3Lt3NwE+vPjx4y2YP48+ffoG7Nu7f//egfz59OvXZ4E/v/79+2/4B3hD4ECCBQV6QJhQ4cKFQRw+hBgxYgKKFS1evAhA40aOHTuaABlS5MiRFkyeRJkyZQOWLV2+fOlA5kyaNWuywJlT586dN3z+BBo0qAeiRY0ePRpE6VKmTZsmgBpV6tSp/wCsXsWaNasJrl29fv1qQexYsmXLNkCbVu3atQ7cvoUbNy4LunXt3r17Q+9evn37egAcWPDgwUEMH0acOHECxo0dP34MQPJkypUrm8CcWfPmzRY8fwYdOnQD0qVNnz7tQPVq1q1bs4AdW/bs2Tds38adO7cH3r19//4dRPhw4sWLJ0CeXPny5QCcP4cePboJ6tWtX79uQft27t27NwAfXvz48Q7Mn0efPj0L9u3dv39/Q/58+vXre8CfX//+/UH8AwwicCDBggITIEyocOFCAA4fQowY0QTFihYvXrSgcSPHjh0bgAwpcuRIByZPokyZkgXLli5fvrwhcybNmjU94P3MqXPnziA+fwINGjQB0aJGjx4FoHQp06ZNTUCNKnXqVAtWr2LNmrUB165ev351IHYs2bJlWaBNq3bt2htu38KNG9cD3bp2794Noncv3759EwAOLHjwYACGDyNOnNgE48aOHz+2IHky5cqVG2DOrHnzZgeeP4MOHZoF6dKmT5++oXo169atPcCOLXv27CC2b+POnTsB796+f/8GIHw48eLFTSBPrnz5cgvOn0OPHr0B9erWr193oH079+7dWYAPL378+Bvmz6NPn94D+/bu378PIn8+/fr1E+DPr3//fgD+AQIQOJBgQYEmECZUuHChBYcPIUaM2IBiRYsXLwYEADs=\"><title>Layer: input (input)\n",
       " shape = 100\n",
       " Keras class = Input</title></image><text x=\"255.0\" y=\"352.0\" font-family=\"Verdana\" font-size=\"12\">input</text></svg>"
      ],
      "text/plain": [
       "<Network name='Example'>"
      ]
     },
     "execution_count": 10,
     "metadata": {},
     "output_type": "execute_result"
    }
   ],
   "source": [
    "net"
   ]
  },
  {
   "cell_type": "code",
   "execution_count": 11,
   "metadata": {
    "collapsed": true
   },
   "outputs": [],
   "source": [
    "import time\n",
    "for index in range(50):\n",
    "    net.propagate(net.get_input(index))\n",
    "    time.sleep(.1)"
   ]
  }
 ],
 "metadata": {
  "kernelspec": {
   "display_name": "Python 3",
   "language": "python",
   "name": "python3"
  },
  "language_info": {
   "codemirror_mode": {
    "name": "ipython",
    "version": 3
   },
   "file_extension": ".py",
   "mimetype": "text/x-python",
   "name": "python",
   "nbconvert_exporter": "python",
   "pygments_lexer": "ipython3",
   "version": "3.5.3"
  }
 },
 "nbformat": 4,
 "nbformat_minor": 2
}
