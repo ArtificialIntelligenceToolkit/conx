{
 "cells": [
  {
   "cell_type": "markdown",
   "metadata": {},
   "source": [
    "# Teaching a Robot to Move\n",
    "\n",
    "First, we have a neural network watch a teacher. The robot starts at the end of a hallway, and approaches a target location 1 meter from the end of the hall."
   ]
  },
  {
   "cell_type": "code",
   "execution_count": 8,
   "metadata": {},
   "outputs": [],
   "source": [
    "from conx import *\n",
    "from jyro.simulator import *\n",
    "import math"
   ]
  },
  {
   "cell_type": "code",
   "execution_count": 9,
   "metadata": {},
   "outputs": [],
   "source": [
    "def make_world(physics):\n",
    "    physics.addBox(0, 0, 8, 2, fill=\"backgroundgreen\", wallcolor=\"gray\")\n",
    "    #physics.addBox(0, 0, 2, 2, fill=\"backgroundgreen\", wallcolor=\"gray\")\n",
    "    \n",
    "def make_robot():\n",
    "    robot = Pioneer(\"Pioneer\", 7.5, 1, math.pi/2) #paremeters are x, y, heading (in radians)\n",
    "    robot.addDevice(PioneerFrontSonars(4))\n",
    "    robot.addDevice(Camera())\n",
    "    return robot"
   ]
  },
  {
   "cell_type": "code",
   "execution_count": 10,
   "metadata": {},
   "outputs": [
    {
     "data": {
      "image/svg+xml": [
       "<svg baseProfile=\"full\" height=\"240\" version=\"1.1\" width=\"240\" xmlns=\"http://www.w3.org/2000/svg\" xmlns:ev=\"http://www.w3.org/2001/xml-events\" xmlns:xlink=\"http://www.w3.org/1999/xlink\"><defs /><line fill=\"#800080\" stroke=\"#d3d3d3\" stroke-width=\"1\" x1=\"78.0\" x2=\"-882.0\" y1=\"96.0\" y2=\"95.99999999999996\" /><line fill=\"#800080\" stroke=\"#d3d3d3\" stroke-width=\"1\" x1=\"84.0\" x2=\"-786.0554755551839\" y1=\"79.19999999999999\" y2=\"-326.5135312710715\" /><line fill=\"#800080\" stroke=\"#d3d3d3\" stroke-width=\"1\" x1=\"93.60000000000001\" x2=\"-523.4761052990776\" y1=\"72.00000000000001\" y2=\"-663.4026653942188\" /><line fill=\"#800080\" stroke=\"#d3d3d3\" stroke-width=\"1\" x1=\"108.0\" x2=\"-140.4662832984199\" y1=\"66.0\" y2=\"-861.2887932375056\" /><line fill=\"#800080\" stroke=\"#d3d3d3\" stroke-width=\"1\" x1=\"132.0\" x2=\"380.4662832984199\" y1=\"66.0\" y2=\"-861.2887932375056\" /><line fill=\"#800080\" stroke=\"#d3d3d3\" stroke-width=\"1\" x1=\"146.4\" x2=\"763.4761052990776\" y1=\"72.00000000000001\" y2=\"-663.4026653942188\" /><line fill=\"#800080\" stroke=\"#d3d3d3\" stroke-width=\"1\" x1=\"156.0\" x2=\"1026.0554755551839\" y1=\"79.19999999999999\" y2=\"-326.5135312710715\" /><line fill=\"#800080\" stroke=\"#d3d3d3\" stroke-width=\"1\" x1=\"162.0\" x2=\"1122.0\" y1=\"96.0\" y2=\"95.99999999999996\" /><polygon fill=\"red\" points=\"100.8,66.0 78.0,84.0 78.0,156.0 100.8,174.0 139.2,174.0 162.0,156.0 162.0,84.0 139.2,66.0\" stroke=\"red\" stroke-width=\"1\" /><polygon points=\"-12.0,-12.0 0,0 12.0,-12.0 0,12.0\" stroke=\"black\" stroke-width=\"1\" transform=\"translate(120.0,120.0) rotate(180.0)\" /><polygon fill=\"black\" points=\"134.4,86.39999999999999 134.4,105.6 105.6,105.6 105.6,86.39999999999999\" stroke=\"black\" stroke-width=\"1\" /></svg>"
      ],
      "text/plain": [
       "<jyro.simulator.robot.Pioneer at 0x7ff9341d82e8>"
      ]
     },
     "execution_count": 10,
     "metadata": {},
     "output_type": "execute_result"
    }
   ],
   "source": [
    "robot = make_robot()\n",
    "robot"
   ]
  },
  {
   "cell_type": "code",
   "execution_count": 11,
   "metadata": {},
   "outputs": [],
   "source": [
    "robot.history = []\n",
    "data = []\n",
    "mode = \"go\"\n",
    "\n",
    "def brain(robot):\n",
    "    global mode\n",
    "    if robot.getPose() == (1, 2, 0):\n",
    "        print(\"Reset!\")\n",
    "    sonars = robot[\"sonar\"].getData()\n",
    "    dist = min(sonars[3:5])\n",
    "    if dist <= 1.0:\n",
    "        power = 0\n",
    "    else:\n",
    "        power = max((dist - 1)/4.0, 0.1)\n",
    "    if mode == \"go\":\n",
    "        robot.move(power, 0)\n",
    "        robot.history.append(robot.getPose())\n",
    "        data.append([[v/6.0 for v in sonars[3:5]], [power]])\n",
    "        if dist < 1.0: \n",
    "            mode = \"stop\"\n",
    "            print(\"Done!\")\n",
    "\n",
    "robot.brain = brain"
   ]
  },
  {
   "cell_type": "code",
   "execution_count": 12,
   "metadata": {},
   "outputs": [
    {
     "data": {
      "application/vnd.jupyter.widget-view+json": {
       "model_id": "db6178d2b9b94c93bf5b0c5b5bf0642e",
       "version_major": 2,
       "version_minor": 0
      },
      "text/html": [
       "<p>Failed to display Jupyter Widget of type <code>VBox</code>.</p>\n",
       "<p>\n",
       "  If you're reading this message in the Jupyter Notebook or JupyterLab Notebook, it may mean\n",
       "  that the widgets JavaScript is still loading. If this message persists, it\n",
       "  likely means that the widgets JavaScript library is either not installed or\n",
       "  not enabled. See the <a href=\"https://ipywidgets.readthedocs.io/en/stable/user_install.html\">Jupyter\n",
       "  Widgets Documentation</a> for setup instructions.\n",
       "</p>\n",
       "<p>\n",
       "  If you're reading this message in another frontend (for example, a static\n",
       "  rendering on GitHub or <a href=\"https://nbviewer.jupyter.org/\">NBViewer</a>),\n",
       "  it may mean that your frontend doesn't currently support widgets.\n",
       "</p>\n"
      ],
      "text/plain": [
       "VBox(children=(VBox(children=(HBox(children=(Checkbox(value=True, description='Update GUI'), Checkbox(value=False, description='Trace Path'), Text(value='0.0 seconds', description='Time:'))), HBox(children=(VBox(children=(HBox(children=(FloatSlider(value=0.0, layout=Layout(height='180px', padding='0px 0px 0px 0px', width='15px'), orientation='vertical', readout=False), HTML(value='<svg baseProfile=\"full\" height=\"180\" version=\"1.1\" width=\"700\" xmlns=\"http://www.w3.org/2000/svg\" xmlns:ev=\"http://www.w3.org/2001/xml-events\" xmlns:xlink=\"http://www.w3.org/1999/xlink\"><defs /><rect fill=\"#eef3dd\" height=\"175.0\" stroke=\"#bebebe\" stroke-width=\"1\" width=\"700.0\" x=\"0.0\" y=\"0.0\" /><line fill=\"#800080\" stroke=\"#add8e6\" stroke-width=\"1\" x1=\"647.5\" x2=\"647.5\" y1=\"102.8125\" y2=\"175.0\" /><line fill=\"#800080\" stroke=\"#add8e6\" stroke-width=\"1\" x1=\"641.375\" x2=\"606.6933688022468\" y1=\"100.62499999999999\" y2=\"175.0\" /><line fill=\"#800080\" stroke=\"#add8e6\" stroke-width=\"1\" x1=\"638.75\" x2=\"545.9421876139614\" y1=\"97.12499999999999\" y2=\"175.0\" /><line fill=\"#800080\" stroke=\"#add8e6\" stroke-width=\"1\" x1=\"636.5625\" x2=\"326.3357755873128\" y1=\"91.87499999999999\" y2=\"175.0\" /><line fill=\"#800080\" stroke=\"#add8e6\" stroke-width=\"1\" x1=\"636.5625\" x2=\"326.3357755873128\" y1=\"83.125\" y2=\"0.0\" /><line fill=\"#800080\" stroke=\"#add8e6\" stroke-width=\"1\" x1=\"638.75\" x2=\"545.9421876139614\" y1=\"77.87499999999999\" y2=\"0.0\" /><line fill=\"#800080\" stroke=\"#add8e6\" stroke-width=\"1\" x1=\"641.375\" x2=\"606.6933688022468\" y1=\"74.37500000000001\" y2=\"0.0\" /><line fill=\"#800080\" stroke=\"#add8e6\" stroke-width=\"1\" x1=\"647.5\" x2=\"647.5\" y1=\"72.1875\" y2=\"0.0\" /><line fill=\"#800080\" stroke=\"#a020f0\" stroke-width=\"1\" x1=\"656.25\" x2=\"605.7318512251488\" y1=\"87.5\" y2=\"175.0\" /><line fill=\"#800080\" stroke=\"#a020f0\" stroke-width=\"1\" x1=\"656.25\" x2=\"605.7318512251488\" y1=\"87.5\" y2=\"0.0\" /><polygon fill=\"red\" points=\"636.5625,94.5 643.125,102.8125 669.375,102.8125 675.9375,94.5 675.9375,80.5 669.375,72.1875 643.125,72.1875 636.5625,80.5\" stroke=\"red\" stroke-width=\"1\" /><polygon points=\"-4.375,-4.375 0,0 4.375,-4.375 0,4.375\" stroke=\"black\" stroke-width=\"1\" transform=\"translate(656.25,87.5) rotate(90.0)\" /><polygon fill=\"black\" points=\"644.0,82.25 651.0,82.25 651.0,92.75 644.0,92.75\" stroke=\"black\" stroke-width=\"1\" /></svg>'))), FloatSlider(value=0.0, layout=Layout(height='15px', padding='0px 0px 0px 10px', width='720px'), readout=False)), layout=Layout(height='240px')), VBox(children=(HTML(value='<img style=\"image-rendering: pixelated;\" src=\"data:image/gif;base64,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\" width=\"240\"/>'), FloatSlider(value=0.0, layout=Layout(height='15px', padding='0px 0px 0px 0px', width='248px'), readout=False))))))), HBox(children=(Button(icon='step-forward', style=ButtonStyle()), Play(value=0, layout=Layout(width='100%'), max=1000000, show_repeat=False), Button(description='Clear Output', style=ButtonStyle()))), Output()))"
      ]
     },
     "metadata": {},
     "output_type": "display_data"
    }
   ],
   "source": [
    "sim = VSimulator(robot, make_world, size=(700, 180))"
   ]
  },
  {
   "cell_type": "code",
   "execution_count": 12,
   "metadata": {},
   "outputs": [],
   "source": [
    "sim.canvas._canvas.size = (480, 480)\n",
    "sim.canvas._canvas.viewbox(0, 0, 480, 480)"
   ]
  },
  {
   "cell_type": "code",
   "execution_count": 7,
   "metadata": {},
   "outputs": [
    {
     "data": {
      "image/svg+xml": [
       "<svg baseProfile=\"full\" height=\"500\" version=\"1.1\" width=\"500\" xmlns=\"http://www.w3.org/2000/svg\" xmlns:ev=\"http://www.w3.org/2001/xml-events\" xmlns:xlink=\"http://www.w3.org/1999/xlink\"><defs /><rect fill=\"#eef3dd\" height=\"500.0\" stroke=\"#bebebe\" stroke-width=\"1\" width=\"500.0\" x=\"0.0\" y=\"0.0\" /><line fill=\"#800080\" stroke=\"#add8e6\" stroke-width=\"1\" x1=\"475.0\" x2=\"475.0\" y1=\"293.75\" y2=\"500.0\" /><line fill=\"#800080\" stroke=\"#add8e6\" stroke-width=\"1\" x1=\"457.5\" x2=\"358.4096251492768\" y1=\"287.5\" y2=\"500.0\" /><line fill=\"#800080\" stroke=\"#add8e6\" stroke-width=\"1\" x1=\"450.0\" x2=\"184.83482175417555\" y1=\"277.49999999999994\" y2=\"500.0\" /><line fill=\"#800080\" stroke=\"#add8e6\" stroke-width=\"1\" x1=\"443.75\" x2=\"0.0\" y1=\"262.49999999999994\" y2=\"381.40245\" /><line fill=\"#800080\" stroke=\"#add8e6\" stroke-width=\"1\" x1=\"443.75\" x2=\"0.0\" y1=\"237.5\" y2=\"118.59755\" /><line fill=\"#800080\" stroke=\"#add8e6\" stroke-width=\"1\" x1=\"450.0\" x2=\"184.8348217541756\" y1=\"222.49999999999997\" y2=\"0.0\" /><line fill=\"#800080\" stroke=\"#add8e6\" stroke-width=\"1\" x1=\"457.5\" x2=\"358.40962514927674\" y1=\"212.50000000000003\" y2=\"0.0\" /><line fill=\"#800080\" stroke=\"#add8e6\" stroke-width=\"1\" x1=\"475.0\" x2=\"475.0\" y1=\"206.25\" y2=\"0.0\" /><line fill=\"#800080\" stroke=\"#a020f0\" stroke-width=\"1\" x1=\"500.0\" x2=\"500.0\" y1=\"250.0\" y2=\"250.0\" /><line fill=\"#800080\" stroke=\"#a020f0\" stroke-width=\"1\" x1=\"500.0\" x2=\"500.0\" y1=\"250.0\" y2=\"249.9999999999999\" /><polygon fill=\"red\" points=\"443.75,270.0 462.5,293.75 537.5,293.75 556.25,270.0 556.25,229.99999999999997 537.5,206.25 462.5,206.25 443.75,229.99999999999997\" stroke=\"red\" stroke-width=\"1\" /><polygon points=\"-12.5,-12.5 0,0 12.5,-12.5 0,12.5\" stroke=\"black\" stroke-width=\"1\" transform=\"translate(500.0,250.0) rotate(90.0)\" /><polygon fill=\"black\" points=\"464.99999999999994,235.0 485.0,235.0 485.0,265.0 464.99999999999994,265.0\" stroke=\"black\" stroke-width=\"1\" /></svg>"
      ],
      "text/plain": [
       "<Canvas (500, 500)>"
      ]
     },
     "execution_count": 7,
     "metadata": {},
     "output_type": "execute_result"
    }
   ],
   "source": [
    "sim.canvas._canvas"
   ]
  },
  {
   "cell_type": "code",
   "execution_count": 42,
   "metadata": {},
   "outputs": [],
   "source": [
    "sim.widgets[\"play\"]._playing = False"
   ]
  },
  {
   "cell_type": "code",
   "execution_count": 33,
   "metadata": {},
   "outputs": [],
   "source": [
    "sim.widgets[\"play\"].show_repeat = False"
   ]
  },
  {
   "cell_type": "code",
   "execution_count": 31,
   "metadata": {},
   "outputs": [],
   "source": [
    "sim.widgets[\"play\"]._playing = True"
   ]
  },
  {
   "cell_type": "code",
   "execution_count": 70,
   "metadata": {},
   "outputs": [
    {
     "data": {
      "text/plain": [
       "131"
      ]
     },
     "execution_count": 70,
     "metadata": {},
     "output_type": "execute_result"
    }
   ],
   "source": [
    "len(data)"
   ]
  },
  {
   "cell_type": "code",
   "execution_count": 74,
   "metadata": {},
   "outputs": [
    {
     "name": "stdout",
     "output_type": "stream",
     "text": [
      "_________________________________________________________________\n",
      "Layer (type)                 Output Shape              Param #   \n",
      "=================================================================\n",
      "input (InputLayer)           (None, 2)                 0         \n",
      "_________________________________________________________________\n",
      "hidden (Dense)               (None, 5)                 15        \n",
      "_________________________________________________________________\n",
      "output (Dense)               (None, 1)                 6         \n",
      "=================================================================\n",
      "Total params: 21\n",
      "Trainable params: 21\n",
      "Non-trainable params: 0\n",
      "_________________________________________________________________\n"
     ]
    }
   ],
   "source": [
    "net = Network(\"Stop When Close\")\n",
    "net.add(Layer(\"input\", 2))\n",
    "net.add(Layer(\"hidden\", 5, activation=\"sigmoid\"))\n",
    "net.add(Layer(\"output\", 1, activation = \"tanh\"))\n",
    "net.connect()\n",
    "net.compile(loss=\"mse\", optimizer=\"adam\")\n",
    "net.model.summary()"
   ]
  },
  {
   "cell_type": "code",
   "execution_count": 75,
   "metadata": {
    "scrolled": true
   },
   "outputs": [
    {
     "name": "stdout",
     "output_type": "stream",
     "text": [
      "Input Summary:\n",
      "   count  : 131 (131 for training, 0 for testing)\n",
      "   shape  : [(2,)]\n",
      "   range  : (0.16572869, 0.611753)\n",
      "Target Summary:\n",
      "   count  : 131 (131 for training, 0 for testing)\n",
      "   shape  : [(1,)]\n",
      "   range  : (0.0, 0.66762954)\n"
     ]
    }
   ],
   "source": [
    "net.dataset.load(data)\n",
    "net.dataset.shuffle()\n",
    "net.dataset.summary()"
   ]
  },
  {
   "cell_type": "code",
   "execution_count": 91,
   "metadata": {},
   "outputs": [
    {
     "data": {
      "application/vnd.jupyter.widget-view+json": {
       "model_id": "211410025c2c457db79566fc238da40d",
       "version_major": 2,
       "version_minor": 0
      },
      "text/html": [
       "<p>Failed to display Jupyter Widget of type <code>Dashboard</code>.</p>\n",
       "<p>\n",
       "  If you're reading this message in the Jupyter Notebook or JupyterLab Notebook, it may mean\n",
       "  that the widgets JavaScript is still loading. If this message persists, it\n",
       "  likely means that the widgets JavaScript library is either not installed or\n",
       "  not enabled. See the <a href=\"https://ipywidgets.readthedocs.io/en/stable/user_install.html\">Jupyter\n",
       "  Widgets Documentation</a> for setup instructions.\n",
       "</p>\n",
       "<p>\n",
       "  If you're reading this message in another frontend (for example, a static\n",
       "  rendering on GitHub or <a href=\"https://nbviewer.jupyter.org/\">NBViewer</a>),\n",
       "  it may mean that your frontend doesn't currently support widgets.\n",
       "</p>\n"
      ],
      "text/plain": [
       "Dashboard(children=(Accordion(children=(HBox(children=(VBox(children=(Select(description='Dataset:', index=1, options=('Test', 'Train'), rows=1, value='Train'), FloatSlider(value=1.0, continuous_update=False, description='Zoom', max=3.0, min=0.5), IntText(value=150, description='Horizontal space between banks:', style=DescriptionStyle(description_width='initial')), IntText(value=30, description='Vertical space between layers:', style=DescriptionStyle(description_width='initial')), HBox(children=(Checkbox(value=False, description='Show Targets', style=DescriptionStyle(description_width='initial')), Checkbox(value=False, description='Errors', style=DescriptionStyle(description_width='initial')))), Select(description='Features:', options=('',), rows=1, value=''), IntText(value=3, description='Feature columns:', style=DescriptionStyle(description_width='initial')), FloatText(value=2.0, description='Feature scale:', style=DescriptionStyle(description_width='initial'))), layout=Layout(width='100%')), VBox(children=(Select(description='Layer:', index=2, options=('input', 'hidden', 'output'), rows=1, value='output'), Checkbox(value=True, description='Visible'), Select(description='Colormap:', options=('', 'Accent', 'Accent_r', 'Blues', 'Blues_r', 'BrBG', 'BrBG_r', 'BuGn', 'BuGn_r', 'BuPu', 'BuPu_r', 'CMRmap', 'CMRmap_r', 'Dark2', 'Dark2_r', 'GnBu', 'GnBu_r', 'Greens', 'Greens_r', 'Greys', 'Greys_r', 'OrRd', 'OrRd_r', 'Oranges', 'Oranges_r', 'PRGn', 'PRGn_r', 'Paired', 'Paired_r', 'Pastel1', 'Pastel1_r', 'Pastel2', 'Pastel2_r', 'PiYG', 'PiYG_r', 'PuBu', 'PuBuGn', 'PuBuGn_r', 'PuBu_r', 'PuOr', 'PuOr_r', 'PuRd', 'PuRd_r', 'Purples', 'Purples_r', 'RdBu', 'RdBu_r', 'RdGy', 'RdGy_r', 'RdPu', 'RdPu_r', 'RdYlBu', 'RdYlBu_r', 'RdYlGn', 'RdYlGn_r', 'Reds', 'Reds_r', 'Set1', 'Set1_r', 'Set2', 'Set2_r', 'Set3', 'Set3_r', 'Spectral', 'Spectral_r', 'Vega10', 'Vega10_r', 'Vega20', 'Vega20_r', 'Vega20b', 'Vega20b_r', 'Vega20c', 'Vega20c_r', 'Wistia', 'Wistia_r', 'YlGn', 'YlGnBu', 'YlGnBu_r', 'YlGn_r', 'YlOrBr', 'YlOrBr_r', 'YlOrRd', 'YlOrRd_r', 'afmhot', 'afmhot_r', 'autumn', 'autumn_r', 'binary', 'binary_r', 'bone', 'bone_r', 'brg', 'brg_r', 'bwr', 'bwr_r', 'cool', 'cool_r', 'coolwarm', 'coolwarm_r', 'copper', 'copper_r', 'cubehelix', 'cubehelix_r', 'flag', 'flag_r', 'gist_earth', 'gist_earth_r', 'gist_gray', 'gist_gray_r', 'gist_heat', 'gist_heat_r', 'gist_ncar', 'gist_ncar_r', 'gist_rainbow', 'gist_rainbow_r', 'gist_stern', 'gist_stern_r', 'gist_yarg', 'gist_yarg_r', 'gnuplot', 'gnuplot2', 'gnuplot2_r', 'gnuplot_r', 'gray', 'gray_r', 'hot', 'hot_r', 'hsv', 'hsv_r', 'inferno', 'inferno_r', 'jet', 'jet_r', 'magma', 'magma_r', 'nipy_spectral', 'nipy_spectral_r', 'ocean', 'ocean_r', 'pink', 'pink_r', 'plasma', 'plasma_r', 'prism', 'prism_r', 'rainbow', 'rainbow_r', 'seismic', 'seismic_r', 'spectral', 'spectral_r', 'spring', 'spring_r', 'summer', 'summer_r', 'tab10', 'tab10_r', 'tab20', 'tab20_r', 'tab20b', 'tab20b_r', 'tab20c', 'tab20c_r', 'terrain', 'terrain_r', 'viridis', 'viridis_r', 'winter', 'winter_r'), rows=1, value=''), HTML(value='<img src=\"data:image/gif;base64,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\"/>'), FloatText(value=-1.0, description='Leftmost color maps to:', style=DescriptionStyle(description_width='initial')), FloatText(value=1.0, description='Rightmost color maps to:', style=DescriptionStyle(description_width='initial')), IntText(value=0, description='Feature to show:', style=DescriptionStyle(description_width='initial'))), layout=Layout(width='100%')))),), selected_index=None, _titles={'0': 'Stop When Close'}), VBox(children=(HBox(children=(IntSlider(value=0, continuous_update=False, description='Dataset index', layout=Layout(width='100%'), max=130), Label(value='of 0', layout=Layout(width='100px'))), layout=Layout(height='40px')), HBox(children=(Button(icon='fast-backward', layout=Layout(width='100%'), style=ButtonStyle()), Button(icon='backward', layout=Layout(width='100%'), style=ButtonStyle()), IntText(value=0, layout=Layout(width='100%')), Button(icon='forward', layout=Layout(width='100%'), style=ButtonStyle()), Button(icon='fast-forward', layout=Layout(width='100%'), style=ButtonStyle()), Button(description='Play', icon='play', layout=Layout(width='100%'), style=ButtonStyle()), Button(icon='refresh', layout=Layout(width='25%'), style=ButtonStyle())), layout=Layout(height='50px', width='100%'))), layout=Layout(width='100%')), HTML(value='<p style=\"text-align:center\"></p>', layout=Layout(justify_content='center', overflow_x='auto', overflow_y='auto', width='95%')), Output()))"
      ]
     },
     "metadata": {},
     "output_type": "display_data"
    },
    {
     "data": {
      "application/javascript": [
       "\n",
       "require(['base/js/namespace'], function(Jupyter) {\n",
       "    Jupyter.notebook.kernel.comm_manager.register_target('conx_svg_control', function(comm, msg) {\n",
       "        comm.on_msg(function(msg) {\n",
       "            var data = msg[\"content\"][\"data\"];\n",
       "            var images = document.getElementsByClassName(data[\"class\"]);\n",
       "            for (var i = 0; i < images.length; i++) {\n",
       "                if (data[\"href\"]) {\n",
       "                    images[i].setAttributeNS(null, \"href\", data[\"href\"]);\n",
       "                }\n",
       "                if (data[\"src\"]) {\n",
       "                    images[i].setAttributeNS(null, \"src\", data[\"src\"]);\n",
       "                }\n",
       "            }\n",
       "        });\n",
       "    });\n",
       "});\n"
      ],
      "text/plain": [
       "<IPython.core.display.Javascript object>"
      ]
     },
     "metadata": {},
     "output_type": "display_data"
    },
    {
     "data": {
      "application/javascript": [
       "\n",
       "require(['base/js/namespace'], function(Jupyter) {\n",
       "    Jupyter.notebook.kernel.comm_manager.register_target('conx_svg_control', function(comm, msg) {\n",
       "        comm.on_msg(function(msg) {\n",
       "            var data = msg[\"content\"][\"data\"];\n",
       "            var images = document.getElementsByClassName(data[\"class\"]);\n",
       "            for (var i = 0; i < images.length; i++) {\n",
       "                if (data[\"href\"]) {\n",
       "                    images[i].setAttributeNS(null, \"href\", data[\"href\"]);\n",
       "                }\n",
       "                if (data[\"src\"]) {\n",
       "                    images[i].setAttributeNS(null, \"src\", data[\"src\"]);\n",
       "                }\n",
       "            }\n",
       "        });\n",
       "    });\n",
       "});\n"
      ],
      "text/plain": [
       "<IPython.core.display.Javascript object>"
      ]
     },
     "metadata": {},
     "output_type": "display_data"
    },
    {
     "data": {
      "application/javascript": [
       "\n",
       "require(['base/js/namespace'], function(Jupyter) {\n",
       "    Jupyter.notebook.kernel.comm_manager.register_target('conx_svg_control', function(comm, msg) {\n",
       "        comm.on_msg(function(msg) {\n",
       "            var data = msg[\"content\"][\"data\"];\n",
       "            var images = document.getElementsByClassName(data[\"class\"]);\n",
       "            for (var i = 0; i < images.length; i++) {\n",
       "                if (data[\"href\"]) {\n",
       "                    images[i].setAttributeNS(null, \"href\", data[\"href\"]);\n",
       "                }\n",
       "                if (data[\"src\"]) {\n",
       "                    images[i].setAttributeNS(null, \"src\", data[\"src\"]);\n",
       "                }\n",
       "            }\n",
       "        });\n",
       "    });\n",
       "});\n"
      ],
      "text/plain": [
       "<IPython.core.display.Javascript object>"
      ]
     },
     "metadata": {},
     "output_type": "display_data"
    },
    {
     "data": {
      "application/javascript": [
       "\n",
       "require(['base/js/namespace'], function(Jupyter) {\n",
       "    Jupyter.notebook.kernel.comm_manager.register_target('conx_svg_control', function(comm, msg) {\n",
       "        comm.on_msg(function(msg) {\n",
       "            var data = msg[\"content\"][\"data\"];\n",
       "            var images = document.getElementsByClassName(data[\"class\"]);\n",
       "            for (var i = 0; i < images.length; i++) {\n",
       "                if (data[\"href\"]) {\n",
       "                    images[i].setAttributeNS(null, \"href\", data[\"href\"]);\n",
       "                }\n",
       "                if (data[\"src\"]) {\n",
       "                    images[i].setAttributeNS(null, \"src\", data[\"src\"]);\n",
       "                }\n",
       "            }\n",
       "        });\n",
       "    });\n",
       "});\n"
      ],
      "text/plain": [
       "<IPython.core.display.Javascript object>"
      ]
     },
     "metadata": {},
     "output_type": "display_data"
    },
    {
     "data": {
      "application/javascript": [
       "\n",
       "require(['base/js/namespace'], function(Jupyter) {\n",
       "    Jupyter.notebook.kernel.comm_manager.register_target('conx_svg_control', function(comm, msg) {\n",
       "        comm.on_msg(function(msg) {\n",
       "            var data = msg[\"content\"][\"data\"];\n",
       "            var images = document.getElementsByClassName(data[\"class\"]);\n",
       "            for (var i = 0; i < images.length; i++) {\n",
       "                if (data[\"href\"]) {\n",
       "                    images[i].setAttributeNS(null, \"href\", data[\"href\"]);\n",
       "                }\n",
       "                if (data[\"src\"]) {\n",
       "                    images[i].setAttributeNS(null, \"src\", data[\"src\"]);\n",
       "                }\n",
       "            }\n",
       "        });\n",
       "    });\n",
       "});\n"
      ],
      "text/plain": [
       "<IPython.core.display.Javascript object>"
      ]
     },
     "metadata": {},
     "output_type": "display_data"
    }
   ],
   "source": [
    "net.dashboard()"
   ]
  },
  {
   "cell_type": "code",
   "execution_count": 76,
   "metadata": {},
   "outputs": [
    {
     "data": {
      "image/svg+xml": [
       "<svg height=\"288pt\" version=\"1.1\" viewBox=\"0 0 720 288\" width=\"720pt\" xmlns=\"http://www.w3.org/2000/svg\" xmlns:xlink=\"http://www.w3.org/1999/xlink\">\n",
       " <defs>\n",
       "  <style type=\"text/css\">\n",
       "*{stroke-linecap:butt;stroke-linejoin:round;}\n",
       "  </style>\n",
       " </defs>\n",
       " <g id=\"figure_1\">\n",
       "  <g id=\"patch_1\">\n",
       "   <path d=\"M 0 288  L 720 288  L 720 0  L 0 0  z \" style=\"fill:#ffffff;\"/>\n",
       "  </g>\n",
       "  <g id=\"axes_1\">\n",
       "   <g id=\"patch_2\">\n",
       "    <path d=\"M 90 252  L 343.636364 252  L 343.636364 34.56  L 90 34.56  z \" style=\"fill:#ffffff;\"/>\n",
       "   </g>\n",
       "   <g id=\"matplotlib.axis_1\">\n",
       "    <g id=\"xtick_1\">\n",
       "     <g id=\"line2d_1\">\n",
       "      <defs>\n",
       "       <path d=\"M 0 0  L 0 3.5  \" id=\"mb5f5cb5c77\" style=\"stroke:#000000;stroke-width:0.8;\"/>\n",
       "      </defs>\n",
       "      <g>\n",
       "       <use style=\"stroke:#000000;stroke-width:0.8;\" x=\"101.528926\" xlink:href=\"#mb5f5cb5c77\" y=\"252\"/>\n",
       "      </g>\n",
       "     </g>\n",
       "     <g id=\"text_1\">\n",
       "      <!-- 0 -->\n",
       "      <defs>\n",
       "       <path d=\"M 31.78125 66.40625  Q 24.171875 66.40625 20.328125 58.90625  Q 16.5 51.421875 16.5 36.375  Q 16.5 21.390625 20.328125 13.890625  Q 24.171875 6.390625 31.78125 6.390625  Q 39.453125 6.390625 43.28125 13.890625  Q 47.125 21.390625 47.125 36.375  Q 47.125 51.421875 43.28125 58.90625  Q 39.453125 66.40625 31.78125 66.40625  z M 31.78125 74.21875  Q 44.046875 74.21875 50.515625 64.515625  Q 56.984375 54.828125 56.984375 36.375  Q 56.984375 17.96875 50.515625 8.265625  Q 44.046875 -1.421875 31.78125 -1.421875  Q 19.53125 -1.421875 13.0625 8.265625  Q 6.59375 17.96875 6.59375 36.375  Q 6.59375 54.828125 13.0625 64.515625  Q 19.53125 74.21875 31.78125 74.21875  z \" id=\"DejaVuSans-30\"/>\n",
       "      </defs>\n",
       "      <g transform=\"translate(98.347676 266.598437)scale(0.1 -0.1)\">\n",
       "       <use xlink:href=\"#DejaVuSans-30\"/>\n",
       "      </g>\n",
       "     </g>\n",
       "    </g>\n",
       "    <g id=\"xtick_2\">\n",
       "     <g id=\"line2d_2\">\n",
       "      <g>\n",
       "       <use style=\"stroke:#000000;stroke-width:0.8;\" x=\"141.981296\" xlink:href=\"#mb5f5cb5c77\" y=\"252\"/>\n",
       "      </g>\n",
       "     </g>\n",
       "     <g id=\"text_2\">\n",
       "      <!-- 50 -->\n",
       "      <defs>\n",
       "       <path d=\"M 10.796875 72.90625  L 49.515625 72.90625  L 49.515625 64.59375  L 19.828125 64.59375  L 19.828125 46.734375  Q 21.96875 47.46875 24.109375 47.828125  Q 26.265625 48.1875 28.421875 48.1875  Q 40.625 48.1875 47.75 41.5  Q 54.890625 34.8125 54.890625 23.390625  Q 54.890625 11.625 47.5625 5.09375  Q 40.234375 -1.421875 26.90625 -1.421875  Q 22.3125 -1.421875 17.546875 -0.640625  Q 12.796875 0.140625 7.71875 1.703125  L 7.71875 11.625  Q 12.109375 9.234375 16.796875 8.0625  Q 21.484375 6.890625 26.703125 6.890625  Q 35.15625 6.890625 40.078125 11.328125  Q 45.015625 15.765625 45.015625 23.390625  Q 45.015625 31 40.078125 35.4375  Q 35.15625 39.890625 26.703125 39.890625  Q 22.75 39.890625 18.8125 39.015625  Q 14.890625 38.140625 10.796875 36.28125  z \" id=\"DejaVuSans-35\"/>\n",
       "      </defs>\n",
       "      <g transform=\"translate(135.618796 266.598437)scale(0.1 -0.1)\">\n",
       "       <use xlink:href=\"#DejaVuSans-35\"/>\n",
       "       <use x=\"63.623047\" xlink:href=\"#DejaVuSans-30\"/>\n",
       "      </g>\n",
       "     </g>\n",
       "    </g>\n",
       "    <g id=\"xtick_3\">\n",
       "     <g id=\"line2d_3\">\n",
       "      <g>\n",
       "       <use style=\"stroke:#000000;stroke-width:0.8;\" x=\"182.433667\" xlink:href=\"#mb5f5cb5c77\" y=\"252\"/>\n",
       "      </g>\n",
       "     </g>\n",
       "     <g id=\"text_3\">\n",
       "      <!-- 100 -->\n",
       "      <defs>\n",
       "       <path d=\"M 12.40625 8.296875  L 28.515625 8.296875  L 28.515625 63.921875  L 10.984375 60.40625  L 10.984375 69.390625  L 28.421875 72.90625  L 38.28125 72.90625  L 38.28125 8.296875  L 54.390625 8.296875  L 54.390625 0  L 12.40625 0  z \" id=\"DejaVuSans-31\"/>\n",
       "      </defs>\n",
       "      <g transform=\"translate(172.889917 266.598437)scale(0.1 -0.1)\">\n",
       "       <use xlink:href=\"#DejaVuSans-31\"/>\n",
       "       <use x=\"63.623047\" xlink:href=\"#DejaVuSans-30\"/>\n",
       "       <use x=\"127.246094\" xlink:href=\"#DejaVuSans-30\"/>\n",
       "      </g>\n",
       "     </g>\n",
       "    </g>\n",
       "    <g id=\"xtick_4\">\n",
       "     <g id=\"line2d_4\">\n",
       "      <g>\n",
       "       <use style=\"stroke:#000000;stroke-width:0.8;\" x=\"222.886037\" xlink:href=\"#mb5f5cb5c77\" y=\"252\"/>\n",
       "      </g>\n",
       "     </g>\n",
       "     <g id=\"text_4\">\n",
       "      <!-- 150 -->\n",
       "      <g transform=\"translate(213.342287 266.598437)scale(0.1 -0.1)\">\n",
       "       <use xlink:href=\"#DejaVuSans-31\"/>\n",
       "       <use x=\"63.623047\" xlink:href=\"#DejaVuSans-35\"/>\n",
       "       <use x=\"127.246094\" xlink:href=\"#DejaVuSans-30\"/>\n",
       "      </g>\n",
       "     </g>\n",
       "    </g>\n",
       "    <g id=\"xtick_5\">\n",
       "     <g id=\"line2d_5\">\n",
       "      <g>\n",
       "       <use style=\"stroke:#000000;stroke-width:0.8;\" x=\"263.338408\" xlink:href=\"#mb5f5cb5c77\" y=\"252\"/>\n",
       "      </g>\n",
       "     </g>\n",
       "     <g id=\"text_5\">\n",
       "      <!-- 200 -->\n",
       "      <defs>\n",
       "       <path d=\"M 19.1875 8.296875  L 53.609375 8.296875  L 53.609375 0  L 7.328125 0  L 7.328125 8.296875  Q 12.9375 14.109375 22.625 23.890625  Q 32.328125 33.6875 34.8125 36.53125  Q 39.546875 41.84375 41.421875 45.53125  Q 43.3125 49.21875 43.3125 52.78125  Q 43.3125 58.59375 39.234375 62.25  Q 35.15625 65.921875 28.609375 65.921875  Q 23.96875 65.921875 18.8125 64.3125  Q 13.671875 62.703125 7.8125 59.421875  L 7.8125 69.390625  Q 13.765625 71.78125 18.9375 73  Q 24.125 74.21875 28.421875 74.21875  Q 39.75 74.21875 46.484375 68.546875  Q 53.21875 62.890625 53.21875 53.421875  Q 53.21875 48.921875 51.53125 44.890625  Q 49.859375 40.875 45.40625 35.40625  Q 44.1875 33.984375 37.640625 27.21875  Q 31.109375 20.453125 19.1875 8.296875  z \" id=\"DejaVuSans-32\"/>\n",
       "      </defs>\n",
       "      <g transform=\"translate(253.794658 266.598437)scale(0.1 -0.1)\">\n",
       "       <use xlink:href=\"#DejaVuSans-32\"/>\n",
       "       <use x=\"63.623047\" xlink:href=\"#DejaVuSans-30\"/>\n",
       "       <use x=\"127.246094\" xlink:href=\"#DejaVuSans-30\"/>\n",
       "      </g>\n",
       "     </g>\n",
       "    </g>\n",
       "    <g id=\"xtick_6\">\n",
       "     <g id=\"line2d_6\">\n",
       "      <g>\n",
       "       <use style=\"stroke:#000000;stroke-width:0.8;\" x=\"303.790779\" xlink:href=\"#mb5f5cb5c77\" y=\"252\"/>\n",
       "      </g>\n",
       "     </g>\n",
       "     <g id=\"text_6\">\n",
       "      <!-- 250 -->\n",
       "      <g transform=\"translate(294.247029 266.598437)scale(0.1 -0.1)\">\n",
       "       <use xlink:href=\"#DejaVuSans-32\"/>\n",
       "       <use x=\"63.623047\" xlink:href=\"#DejaVuSans-35\"/>\n",
       "       <use x=\"127.246094\" xlink:href=\"#DejaVuSans-30\"/>\n",
       "      </g>\n",
       "     </g>\n",
       "    </g>\n",
       "    <g id=\"text_7\">\n",
       "     <!-- Epoch -->\n",
       "     <defs>\n",
       "      <path d=\"M 9.8125 72.90625  L 55.90625 72.90625  L 55.90625 64.59375  L 19.671875 64.59375  L 19.671875 43.015625  L 54.390625 43.015625  L 54.390625 34.71875  L 19.671875 34.71875  L 19.671875 8.296875  L 56.78125 8.296875  L 56.78125 0  L 9.8125 0  z \" id=\"DejaVuSans-45\"/>\n",
       "      <path d=\"M 18.109375 8.203125  L 18.109375 -20.796875  L 9.078125 -20.796875  L 9.078125 54.6875  L 18.109375 54.6875  L 18.109375 46.390625  Q 20.953125 51.265625 25.265625 53.625  Q 29.59375 56 35.59375 56  Q 45.5625 56 51.78125 48.09375  Q 58.015625 40.1875 58.015625 27.296875  Q 58.015625 14.40625 51.78125 6.484375  Q 45.5625 -1.421875 35.59375 -1.421875  Q 29.59375 -1.421875 25.265625 0.953125  Q 20.953125 3.328125 18.109375 8.203125  z M 48.6875 27.296875  Q 48.6875 37.203125 44.609375 42.84375  Q 40.53125 48.484375 33.40625 48.484375  Q 26.265625 48.484375 22.1875 42.84375  Q 18.109375 37.203125 18.109375 27.296875  Q 18.109375 17.390625 22.1875 11.75  Q 26.265625 6.109375 33.40625 6.109375  Q 40.53125 6.109375 44.609375 11.75  Q 48.6875 17.390625 48.6875 27.296875  z \" id=\"DejaVuSans-70\"/>\n",
       "      <path d=\"M 30.609375 48.390625  Q 23.390625 48.390625 19.1875 42.75  Q 14.984375 37.109375 14.984375 27.296875  Q 14.984375 17.484375 19.15625 11.84375  Q 23.34375 6.203125 30.609375 6.203125  Q 37.796875 6.203125 41.984375 11.859375  Q 46.1875 17.53125 46.1875 27.296875  Q 46.1875 37.015625 41.984375 42.703125  Q 37.796875 48.390625 30.609375 48.390625  z M 30.609375 56  Q 42.328125 56 49.015625 48.375  Q 55.71875 40.765625 55.71875 27.296875  Q 55.71875 13.875 49.015625 6.21875  Q 42.328125 -1.421875 30.609375 -1.421875  Q 18.84375 -1.421875 12.171875 6.21875  Q 5.515625 13.875 5.515625 27.296875  Q 5.515625 40.765625 12.171875 48.375  Q 18.84375 56 30.609375 56  z \" id=\"DejaVuSans-6f\"/>\n",
       "      <path d=\"M 48.78125 52.59375  L 48.78125 44.1875  Q 44.96875 46.296875 41.140625 47.34375  Q 37.3125 48.390625 33.40625 48.390625  Q 24.65625 48.390625 19.8125 42.84375  Q 14.984375 37.3125 14.984375 27.296875  Q 14.984375 17.28125 19.8125 11.734375  Q 24.65625 6.203125 33.40625 6.203125  Q 37.3125 6.203125 41.140625 7.25  Q 44.96875 8.296875 48.78125 10.40625  L 48.78125 2.09375  Q 45.015625 0.34375 40.984375 -0.53125  Q 36.96875 -1.421875 32.421875 -1.421875  Q 20.0625 -1.421875 12.78125 6.34375  Q 5.515625 14.109375 5.515625 27.296875  Q 5.515625 40.671875 12.859375 48.328125  Q 20.21875 56 33.015625 56  Q 37.15625 56 41.109375 55.140625  Q 45.0625 54.296875 48.78125 52.59375  z \" id=\"DejaVuSans-63\"/>\n",
       "      <path d=\"M 54.890625 33.015625  L 54.890625 0  L 45.90625 0  L 45.90625 32.71875  Q 45.90625 40.484375 42.875 44.328125  Q 39.84375 48.1875 33.796875 48.1875  Q 26.515625 48.1875 22.3125 43.546875  Q 18.109375 38.921875 18.109375 30.90625  L 18.109375 0  L 9.078125 0  L 9.078125 75.984375  L 18.109375 75.984375  L 18.109375 46.1875  Q 21.34375 51.125 25.703125 53.5625  Q 30.078125 56 35.796875 56  Q 45.21875 56 50.046875 50.171875  Q 54.890625 44.34375 54.890625 33.015625  z \" id=\"DejaVuSans-68\"/>\n",
       "     </defs>\n",
       "     <g transform=\"translate(201.507244 280.276563)scale(0.1 -0.1)\">\n",
       "      <use xlink:href=\"#DejaVuSans-45\"/>\n",
       "      <use x=\"63.183594\" xlink:href=\"#DejaVuSans-70\"/>\n",
       "      <use x=\"126.660156\" xlink:href=\"#DejaVuSans-6f\"/>\n",
       "      <use x=\"187.841797\" xlink:href=\"#DejaVuSans-63\"/>\n",
       "      <use x=\"242.822266\" xlink:href=\"#DejaVuSans-68\"/>\n",
       "     </g>\n",
       "    </g>\n",
       "   </g>\n",
       "   <g id=\"matplotlib.axis_2\">\n",
       "    <g id=\"ytick_1\">\n",
       "     <g id=\"line2d_7\">\n",
       "      <defs>\n",
       "       <path d=\"M 0 0  L -3.5 0  \" id=\"m3b85901604\" style=\"stroke:#000000;stroke-width:0.8;\"/>\n",
       "      </defs>\n",
       "      <g>\n",
       "       <use style=\"stroke:#000000;stroke-width:0.8;\" x=\"90\" xlink:href=\"#m3b85901604\" y=\"252\"/>\n",
       "      </g>\n",
       "     </g>\n",
       "     <g id=\"text_8\">\n",
       "      <!-- 0.00 -->\n",
       "      <defs>\n",
       "       <path d=\"M 10.6875 12.40625  L 21 12.40625  L 21 0  L 10.6875 0  z \" id=\"DejaVuSans-2e\"/>\n",
       "      </defs>\n",
       "      <g transform=\"translate(60.734375 255.799219)scale(0.1 -0.1)\">\n",
       "       <use xlink:href=\"#DejaVuSans-30\"/>\n",
       "       <use x=\"63.623047\" xlink:href=\"#DejaVuSans-2e\"/>\n",
       "       <use x=\"95.410156\" xlink:href=\"#DejaVuSans-30\"/>\n",
       "       <use x=\"159.033203\" xlink:href=\"#DejaVuSans-30\"/>\n",
       "      </g>\n",
       "     </g>\n",
       "    </g>\n",
       "    <g id=\"ytick_2\">\n",
       "     <g id=\"line2d_8\">\n",
       "      <g>\n",
       "       <use style=\"stroke:#000000;stroke-width:0.8;\" x=\"90\" xlink:href=\"#m3b85901604\" y=\"211.770034\"/>\n",
       "      </g>\n",
       "     </g>\n",
       "     <g id=\"text_9\">\n",
       "      <!-- 0.01 -->\n",
       "      <g transform=\"translate(60.734375 215.569253)scale(0.1 -0.1)\">\n",
       "       <use xlink:href=\"#DejaVuSans-30\"/>\n",
       "       <use x=\"63.623047\" xlink:href=\"#DejaVuSans-2e\"/>\n",
       "       <use x=\"95.410156\" xlink:href=\"#DejaVuSans-30\"/>\n",
       "       <use x=\"159.033203\" xlink:href=\"#DejaVuSans-31\"/>\n",
       "      </g>\n",
       "     </g>\n",
       "    </g>\n",
       "    <g id=\"ytick_3\">\n",
       "     <g id=\"line2d_9\">\n",
       "      <g>\n",
       "       <use style=\"stroke:#000000;stroke-width:0.8;\" x=\"90\" xlink:href=\"#m3b85901604\" y=\"171.540069\"/>\n",
       "      </g>\n",
       "     </g>\n",
       "     <g id=\"text_10\">\n",
       "      <!-- 0.02 -->\n",
       "      <g transform=\"translate(60.734375 175.339288)scale(0.1 -0.1)\">\n",
       "       <use xlink:href=\"#DejaVuSans-30\"/>\n",
       "       <use x=\"63.623047\" xlink:href=\"#DejaVuSans-2e\"/>\n",
       "       <use x=\"95.410156\" xlink:href=\"#DejaVuSans-30\"/>\n",
       "       <use x=\"159.033203\" xlink:href=\"#DejaVuSans-32\"/>\n",
       "      </g>\n",
       "     </g>\n",
       "    </g>\n",
       "    <g id=\"ytick_4\">\n",
       "     <g id=\"line2d_10\">\n",
       "      <g>\n",
       "       <use style=\"stroke:#000000;stroke-width:0.8;\" x=\"90\" xlink:href=\"#m3b85901604\" y=\"131.310103\"/>\n",
       "      </g>\n",
       "     </g>\n",
       "     <g id=\"text_11\">\n",
       "      <!-- 0.03 -->\n",
       "      <defs>\n",
       "       <path d=\"M 40.578125 39.3125  Q 47.65625 37.796875 51.625 33  Q 55.609375 28.21875 55.609375 21.1875  Q 55.609375 10.40625 48.1875 4.484375  Q 40.765625 -1.421875 27.09375 -1.421875  Q 22.515625 -1.421875 17.65625 -0.515625  Q 12.796875 0.390625 7.625 2.203125  L 7.625 11.71875  Q 11.71875 9.328125 16.59375 8.109375  Q 21.484375 6.890625 26.8125 6.890625  Q 36.078125 6.890625 40.9375 10.546875  Q 45.796875 14.203125 45.796875 21.1875  Q 45.796875 27.640625 41.28125 31.265625  Q 36.765625 34.90625 28.71875 34.90625  L 20.21875 34.90625  L 20.21875 43.015625  L 29.109375 43.015625  Q 36.375 43.015625 40.234375 45.921875  Q 44.09375 48.828125 44.09375 54.296875  Q 44.09375 59.90625 40.109375 62.90625  Q 36.140625 65.921875 28.71875 65.921875  Q 24.65625 65.921875 20.015625 65.03125  Q 15.375 64.15625 9.8125 62.3125  L 9.8125 71.09375  Q 15.4375 72.65625 20.34375 73.4375  Q 25.25 74.21875 29.59375 74.21875  Q 40.828125 74.21875 47.359375 69.109375  Q 53.90625 64.015625 53.90625 55.328125  Q 53.90625 49.265625 50.4375 45.09375  Q 46.96875 40.921875 40.578125 39.3125  z \" id=\"DejaVuSans-33\"/>\n",
       "      </defs>\n",
       "      <g transform=\"translate(60.734375 135.109322)scale(0.1 -0.1)\">\n",
       "       <use xlink:href=\"#DejaVuSans-30\"/>\n",
       "       <use x=\"63.623047\" xlink:href=\"#DejaVuSans-2e\"/>\n",
       "       <use x=\"95.410156\" xlink:href=\"#DejaVuSans-30\"/>\n",
       "       <use x=\"159.033203\" xlink:href=\"#DejaVuSans-33\"/>\n",
       "      </g>\n",
       "     </g>\n",
       "    </g>\n",
       "    <g id=\"ytick_5\">\n",
       "     <g id=\"line2d_11\">\n",
       "      <g>\n",
       "       <use style=\"stroke:#000000;stroke-width:0.8;\" x=\"90\" xlink:href=\"#m3b85901604\" y=\"91.080138\"/>\n",
       "      </g>\n",
       "     </g>\n",
       "     <g id=\"text_12\">\n",
       "      <!-- 0.04 -->\n",
       "      <defs>\n",
       "       <path d=\"M 37.796875 64.3125  L 12.890625 25.390625  L 37.796875 25.390625  z M 35.203125 72.90625  L 47.609375 72.90625  L 47.609375 25.390625  L 58.015625 25.390625  L 58.015625 17.1875  L 47.609375 17.1875  L 47.609375 0  L 37.796875 0  L 37.796875 17.1875  L 4.890625 17.1875  L 4.890625 26.703125  z \" id=\"DejaVuSans-34\"/>\n",
       "      </defs>\n",
       "      <g transform=\"translate(60.734375 94.879356)scale(0.1 -0.1)\">\n",
       "       <use xlink:href=\"#DejaVuSans-30\"/>\n",
       "       <use x=\"63.623047\" xlink:href=\"#DejaVuSans-2e\"/>\n",
       "       <use x=\"95.410156\" xlink:href=\"#DejaVuSans-30\"/>\n",
       "       <use x=\"159.033203\" xlink:href=\"#DejaVuSans-34\"/>\n",
       "      </g>\n",
       "     </g>\n",
       "    </g>\n",
       "    <g id=\"ytick_6\">\n",
       "     <g id=\"line2d_12\">\n",
       "      <g>\n",
       "       <use style=\"stroke:#000000;stroke-width:0.8;\" x=\"90\" xlink:href=\"#m3b85901604\" y=\"50.850172\"/>\n",
       "      </g>\n",
       "     </g>\n",
       "     <g id=\"text_13\">\n",
       "      <!-- 0.05 -->\n",
       "      <g transform=\"translate(60.734375 54.649391)scale(0.1 -0.1)\">\n",
       "       <use xlink:href=\"#DejaVuSans-30\"/>\n",
       "       <use x=\"63.623047\" xlink:href=\"#DejaVuSans-2e\"/>\n",
       "       <use x=\"95.410156\" xlink:href=\"#DejaVuSans-30\"/>\n",
       "       <use x=\"159.033203\" xlink:href=\"#DejaVuSans-35\"/>\n",
       "      </g>\n",
       "     </g>\n",
       "    </g>\n",
       "   </g>\n",
       "   <g id=\"line2d_13\">\n",
       "    <path clip-path=\"url(#p72cbe0c8a9)\" d=\"M 101.528926 46.139147  L 102.337973 44.369248  L 103.956068 52.058283  L 105.574163 56.480246  L 107.192258 60.511679  L 108.810352 63.317335  L 110.428447 65.516899  L 112.855589 72.325912  L 113.664637 73.824954  L 117.709874 79.116082  L 118.518921 80.952972  L 119.327969 83.202097  L 120.946064 86.317718  L 121.755111 88.172938  L 122.564158 89.401495  L 123.373206 91.172492  L 125.800348 94.889865  L 127.418443 97.754136  L 128.22749 98.6284  L 129.036538 100.33906  L 134.69987 108.885398  L 136.317964 111.601575  L 139.554154 116.752102  L 141.172249 118.984413  L 144.408438 123.738581  L 146.835581 126.919032  L 149.262723 130.322623  L 150.07177 131.179036  L 151.689865 133.631336  L 154.117007 136.734454  L 154.926055 138.005994  L 160.589387 145.024861  L 161.398434 145.791924  L 165.443671 150.898367  L 166.252719 151.656936  L 167.061766 152.755635  L 167.870813 153.568205  L 169.488908 155.69136  L 170.297956 156.596988  L 171.107003 157.670175  L 172.725098 159.26064  L 173.534145 159.938994  L 174.343193 160.885305  L 175.15224 161.597925  L 177.579382 164.137995  L 179.197477 165.860786  L 180.815572 167.645389  L 181.624619 168.343972  L 182.433667 169.28589  L 187.287951 173.922665  L 189.715094 176.249443  L 190.524141 176.749583  L 191.333188 177.687982  L 192.951283 179.101048  L 194.569378 180.015673  L 195.378425 180.618405  L 196.99652 182.357995  L 198.614615 184.327351  L 200.23271 185.656347  L 201.041757 185.957199  L 204.277947 188.938847  L 208.323184 192.060726  L 213.177468 195.735407  L 213.986516 196.109866  L 218.031753 199.076588  L 219.649848 200.157386  L 221.267943 201.122939  L 223.695085 202.83572  L 226.122227 204.36513  L 229.358417 206.389145  L 230.976512 207.265114  L 231.785559 207.502673  L 232.594606 207.256871  L 233.403654 207.857996  L 234.212701 208.899097  L 235.830796 210.327909  L 237.448891 210.895142  L 238.257938 211.121598  L 240.68508 213.518076  L 241.494128 213.803996  L 243.92127 215.081925  L 247.15746 216.759736  L 248.775555 217.410298  L 250.393649 218.241125  L 256.056981 220.62298  L 256.866029 221.042187  L 257.675076 221.245794  L 259.293171 222.025803  L 262.529361 223.333355  L 270.619835 226.389214  L 272.23793 226.950913  L 274.665072 227.908653  L 276.283167 228.283503  L 278.710309 229.075188  L 281.137451 229.939434  L 282.755546 230.167075  L 284.373641 230.808825  L 285.991736 231.436396  L 288.418878 232.105469  L 290.036973 232.372832  L 293.273162 233.361424  L 297.318399 234.362184  L 315.117442 237.999865  L 319.971727 238.858699  L 321.589822 239.045715  L 326.444106 239.912564  L 328.871248 240.151551  L 330.489343 240.527833  L 332.107438 240.527879  L 332.107438 240.527879  \" style=\"fill:none;stroke:#1f77b4;stroke-linecap:square;stroke-width:1.5;\"/>\n",
       "   </g>\n",
       "   <g id=\"patch_3\">\n",
       "    <path d=\"M 90 252  L 90 34.56  \" style=\"fill:none;stroke:#000000;stroke-linecap:square;stroke-linejoin:miter;stroke-width:0.8;\"/>\n",
       "   </g>\n",
       "   <g id=\"patch_4\">\n",
       "    <path d=\"M 343.636364 252  L 343.636364 34.56  \" style=\"fill:none;stroke:#000000;stroke-linecap:square;stroke-linejoin:miter;stroke-width:0.8;\"/>\n",
       "   </g>\n",
       "   <g id=\"patch_5\">\n",
       "    <path d=\"M 90 252  L 343.636364 252  \" style=\"fill:none;stroke:#000000;stroke-linecap:square;stroke-linejoin:miter;stroke-width:0.8;\"/>\n",
       "   </g>\n",
       "   <g id=\"patch_6\">\n",
       "    <path d=\"M 90 34.56  L 343.636364 34.56  \" style=\"fill:none;stroke:#000000;stroke-linecap:square;stroke-linejoin:miter;stroke-width:0.8;\"/>\n",
       "   </g>\n",
       "   <g id=\"text_14\">\n",
       "    <!-- Stop When Close: Error -->\n",
       "    <defs>\n",
       "     <path d=\"M 53.515625 70.515625  L 53.515625 60.890625  Q 47.90625 63.578125 42.921875 64.890625  Q 37.9375 66.21875 33.296875 66.21875  Q 25.25 66.21875 20.875 63.09375  Q 16.5 59.96875 16.5 54.203125  Q 16.5 49.359375 19.40625 46.890625  Q 22.3125 44.4375 30.421875 42.921875  L 36.375 41.703125  Q 47.40625 39.59375 52.65625 34.296875  Q 57.90625 29 57.90625 20.125  Q 57.90625 9.515625 50.796875 4.046875  Q 43.703125 -1.421875 29.984375 -1.421875  Q 24.8125 -1.421875 18.96875 -0.25  Q 13.140625 0.921875 6.890625 3.21875  L 6.890625 13.375  Q 12.890625 10.015625 18.65625 8.296875  Q 24.421875 6.59375 29.984375 6.59375  Q 38.421875 6.59375 43.015625 9.90625  Q 47.609375 13.234375 47.609375 19.390625  Q 47.609375 24.75 44.3125 27.78125  Q 41.015625 30.8125 33.5 32.328125  L 27.484375 33.5  Q 16.453125 35.6875 11.515625 40.375  Q 6.59375 45.0625 6.59375 53.421875  Q 6.59375 63.09375 13.40625 68.65625  Q 20.21875 74.21875 32.171875 74.21875  Q 37.3125 74.21875 42.625 73.28125  Q 47.953125 72.359375 53.515625 70.515625  z \" id=\"DejaVuSans-53\"/>\n",
       "     <path d=\"M 18.3125 70.21875  L 18.3125 54.6875  L 36.8125 54.6875  L 36.8125 47.703125  L 18.3125 47.703125  L 18.3125 18.015625  Q 18.3125 11.328125 20.140625 9.421875  Q 21.96875 7.515625 27.59375 7.515625  L 36.8125 7.515625  L 36.8125 0  L 27.59375 0  Q 17.1875 0 13.234375 3.875  Q 9.28125 7.765625 9.28125 18.015625  L 9.28125 47.703125  L 2.6875 47.703125  L 2.6875 54.6875  L 9.28125 54.6875  L 9.28125 70.21875  z \" id=\"DejaVuSans-74\"/>\n",
       "     <path id=\"DejaVuSans-20\"/>\n",
       "     <path d=\"M 3.328125 72.90625  L 13.28125 72.90625  L 28.609375 11.28125  L 43.890625 72.90625  L 54.984375 72.90625  L 70.3125 11.28125  L 85.59375 72.90625  L 95.609375 72.90625  L 77.296875 0  L 64.890625 0  L 49.515625 63.28125  L 33.984375 0  L 21.578125 0  z \" id=\"DejaVuSans-57\"/>\n",
       "     <path d=\"M 56.203125 29.59375  L 56.203125 25.203125  L 14.890625 25.203125  Q 15.484375 15.921875 20.484375 11.0625  Q 25.484375 6.203125 34.421875 6.203125  Q 39.59375 6.203125 44.453125 7.46875  Q 49.3125 8.734375 54.109375 11.28125  L 54.109375 2.78125  Q 49.265625 0.734375 44.1875 -0.34375  Q 39.109375 -1.421875 33.890625 -1.421875  Q 20.796875 -1.421875 13.15625 6.1875  Q 5.515625 13.8125 5.515625 26.8125  Q 5.515625 40.234375 12.765625 48.109375  Q 20.015625 56 32.328125 56  Q 43.359375 56 49.78125 48.890625  Q 56.203125 41.796875 56.203125 29.59375  z M 47.21875 32.234375  Q 47.125 39.59375 43.09375 43.984375  Q 39.0625 48.390625 32.421875 48.390625  Q 24.90625 48.390625 20.390625 44.140625  Q 15.875 39.890625 15.1875 32.171875  z \" id=\"DejaVuSans-65\"/>\n",
       "     <path d=\"M 54.890625 33.015625  L 54.890625 0  L 45.90625 0  L 45.90625 32.71875  Q 45.90625 40.484375 42.875 44.328125  Q 39.84375 48.1875 33.796875 48.1875  Q 26.515625 48.1875 22.3125 43.546875  Q 18.109375 38.921875 18.109375 30.90625  L 18.109375 0  L 9.078125 0  L 9.078125 54.6875  L 18.109375 54.6875  L 18.109375 46.1875  Q 21.34375 51.125 25.703125 53.5625  Q 30.078125 56 35.796875 56  Q 45.21875 56 50.046875 50.171875  Q 54.890625 44.34375 54.890625 33.015625  z \" id=\"DejaVuSans-6e\"/>\n",
       "     <path d=\"M 64.40625 67.28125  L 64.40625 56.890625  Q 59.421875 61.53125 53.78125 63.8125  Q 48.140625 66.109375 41.796875 66.109375  Q 29.296875 66.109375 22.65625 58.46875  Q 16.015625 50.828125 16.015625 36.375  Q 16.015625 21.96875 22.65625 14.328125  Q 29.296875 6.6875 41.796875 6.6875  Q 48.140625 6.6875 53.78125 8.984375  Q 59.421875 11.28125 64.40625 15.921875  L 64.40625 5.609375  Q 59.234375 2.09375 53.4375 0.328125  Q 47.65625 -1.421875 41.21875 -1.421875  Q 24.65625 -1.421875 15.125 8.703125  Q 5.609375 18.84375 5.609375 36.375  Q 5.609375 53.953125 15.125 64.078125  Q 24.65625 74.21875 41.21875 74.21875  Q 47.75 74.21875 53.53125 72.484375  Q 59.328125 70.75 64.40625 67.28125  z \" id=\"DejaVuSans-43\"/>\n",
       "     <path d=\"M 9.421875 75.984375  L 18.40625 75.984375  L 18.40625 0  L 9.421875 0  z \" id=\"DejaVuSans-6c\"/>\n",
       "     <path d=\"M 44.28125 53.078125  L 44.28125 44.578125  Q 40.484375 46.53125 36.375 47.5  Q 32.28125 48.484375 27.875 48.484375  Q 21.1875 48.484375 17.84375 46.4375  Q 14.5 44.390625 14.5 40.28125  Q 14.5 37.15625 16.890625 35.375  Q 19.28125 33.59375 26.515625 31.984375  L 29.59375 31.296875  Q 39.15625 29.25 43.1875 25.515625  Q 47.21875 21.78125 47.21875 15.09375  Q 47.21875 7.46875 41.1875 3.015625  Q 35.15625 -1.421875 24.609375 -1.421875  Q 20.21875 -1.421875 15.453125 -0.5625  Q 10.6875 0.296875 5.421875 2  L 5.421875 11.28125  Q 10.40625 8.6875 15.234375 7.390625  Q 20.0625 6.109375 24.8125 6.109375  Q 31.15625 6.109375 34.5625 8.28125  Q 37.984375 10.453125 37.984375 14.40625  Q 37.984375 18.0625 35.515625 20.015625  Q 33.0625 21.96875 24.703125 23.78125  L 21.578125 24.515625  Q 13.234375 26.265625 9.515625 29.90625  Q 5.8125 33.546875 5.8125 39.890625  Q 5.8125 47.609375 11.28125 51.796875  Q 16.75 56 26.8125 56  Q 31.78125 56 36.171875 55.265625  Q 40.578125 54.546875 44.28125 53.078125  z \" id=\"DejaVuSans-73\"/>\n",
       "     <path d=\"M 11.71875 12.40625  L 22.015625 12.40625  L 22.015625 0  L 11.71875 0  z M 11.71875 51.703125  L 22.015625 51.703125  L 22.015625 39.3125  L 11.71875 39.3125  z \" id=\"DejaVuSans-3a\"/>\n",
       "     <path d=\"M 41.109375 46.296875  Q 39.59375 47.171875 37.8125 47.578125  Q 36.03125 48 33.890625 48  Q 26.265625 48 22.1875 43.046875  Q 18.109375 38.09375 18.109375 28.8125  L 18.109375 0  L 9.078125 0  L 9.078125 54.6875  L 18.109375 54.6875  L 18.109375 46.1875  Q 20.953125 51.171875 25.484375 53.578125  Q 30.03125 56 36.53125 56  Q 37.453125 56 38.578125 55.875  Q 39.703125 55.765625 41.0625 55.515625  z \" id=\"DejaVuSans-72\"/>\n",
       "    </defs>\n",
       "    <g transform=\"translate(147.000682 28.56)scale(0.12 -0.12)\">\n",
       "     <use xlink:href=\"#DejaVuSans-53\"/>\n",
       "     <use x=\"63.476562\" xlink:href=\"#DejaVuSans-74\"/>\n",
       "     <use x=\"102.685547\" xlink:href=\"#DejaVuSans-6f\"/>\n",
       "     <use x=\"163.867188\" xlink:href=\"#DejaVuSans-70\"/>\n",
       "     <use x=\"227.34375\" xlink:href=\"#DejaVuSans-20\"/>\n",
       "     <use x=\"259.130859\" xlink:href=\"#DejaVuSans-57\"/>\n",
       "     <use x=\"358.007812\" xlink:href=\"#DejaVuSans-68\"/>\n",
       "     <use x=\"421.386719\" xlink:href=\"#DejaVuSans-65\"/>\n",
       "     <use x=\"482.910156\" xlink:href=\"#DejaVuSans-6e\"/>\n",
       "     <use x=\"546.289062\" xlink:href=\"#DejaVuSans-20\"/>\n",
       "     <use x=\"578.076172\" xlink:href=\"#DejaVuSans-43\"/>\n",
       "     <use x=\"647.900391\" xlink:href=\"#DejaVuSans-6c\"/>\n",
       "     <use x=\"675.683594\" xlink:href=\"#DejaVuSans-6f\"/>\n",
       "     <use x=\"736.865234\" xlink:href=\"#DejaVuSans-73\"/>\n",
       "     <use x=\"788.964844\" xlink:href=\"#DejaVuSans-65\"/>\n",
       "     <use x=\"850.488281\" xlink:href=\"#DejaVuSans-3a\"/>\n",
       "     <use x=\"884.179688\" xlink:href=\"#DejaVuSans-20\"/>\n",
       "     <use x=\"915.966797\" xlink:href=\"#DejaVuSans-45\"/>\n",
       "     <use x=\"979.150391\" xlink:href=\"#DejaVuSans-72\"/>\n",
       "     <use x=\"1020.248047\" xlink:href=\"#DejaVuSans-72\"/>\n",
       "     <use x=\"1061.330078\" xlink:href=\"#DejaVuSans-6f\"/>\n",
       "     <use x=\"1122.511719\" xlink:href=\"#DejaVuSans-72\"/>\n",
       "    </g>\n",
       "   </g>\n",
       "   <g id=\"legend_1\">\n",
       "    <g id=\"patch_7\">\n",
       "     <path d=\"M 245.270739 57.238125  L 336.636364 57.238125  Q 338.636364 57.238125 338.636364 55.238125  L 338.636364 41.56  Q 338.636364 39.56 336.636364 39.56  L 245.270739 39.56  Q 243.270739 39.56 243.270739 41.56  L 243.270739 55.238125  Q 243.270739 57.238125 245.270739 57.238125  z \" style=\"fill:#ffffff;opacity:0.8;stroke:#cccccc;stroke-linejoin:miter;\"/>\n",
       "    </g>\n",
       "    <g id=\"line2d_14\">\n",
       "     <path d=\"M 247.270739 47.658437  L 267.270739 47.658437  \" style=\"fill:none;stroke:#1f77b4;stroke-linecap:square;stroke-width:1.5;\"/>\n",
       "    </g>\n",
       "    <g id=\"line2d_15\"/>\n",
       "    <g id=\"text_15\">\n",
       "     <!-- Training set -->\n",
       "     <defs>\n",
       "      <path d=\"M -0.296875 72.90625  L 61.375 72.90625  L 61.375 64.59375  L 35.5 64.59375  L 35.5 0  L 25.59375 0  L 25.59375 64.59375  L -0.296875 64.59375  z \" id=\"DejaVuSans-54\"/>\n",
       "      <path d=\"M 34.28125 27.484375  Q 23.390625 27.484375 19.1875 25  Q 14.984375 22.515625 14.984375 16.5  Q 14.984375 11.71875 18.140625 8.90625  Q 21.296875 6.109375 26.703125 6.109375  Q 34.1875 6.109375 38.703125 11.40625  Q 43.21875 16.703125 43.21875 25.484375  L 43.21875 27.484375  z M 52.203125 31.203125  L 52.203125 0  L 43.21875 0  L 43.21875 8.296875  Q 40.140625 3.328125 35.546875 0.953125  Q 30.953125 -1.421875 24.3125 -1.421875  Q 15.921875 -1.421875 10.953125 3.296875  Q 6 8.015625 6 15.921875  Q 6 25.140625 12.171875 29.828125  Q 18.359375 34.515625 30.609375 34.515625  L 43.21875 34.515625  L 43.21875 35.40625  Q 43.21875 41.609375 39.140625 45  Q 35.0625 48.390625 27.6875 48.390625  Q 23 48.390625 18.546875 47.265625  Q 14.109375 46.140625 10.015625 43.890625  L 10.015625 52.203125  Q 14.9375 54.109375 19.578125 55.046875  Q 24.21875 56 28.609375 56  Q 40.484375 56 46.34375 49.84375  Q 52.203125 43.703125 52.203125 31.203125  z \" id=\"DejaVuSans-61\"/>\n",
       "      <path d=\"M 9.421875 54.6875  L 18.40625 54.6875  L 18.40625 0  L 9.421875 0  z M 9.421875 75.984375  L 18.40625 75.984375  L 18.40625 64.59375  L 9.421875 64.59375  z \" id=\"DejaVuSans-69\"/>\n",
       "      <path d=\"M 45.40625 27.984375  Q 45.40625 37.75 41.375 43.109375  Q 37.359375 48.484375 30.078125 48.484375  Q 22.859375 48.484375 18.828125 43.109375  Q 14.796875 37.75 14.796875 27.984375  Q 14.796875 18.265625 18.828125 12.890625  Q 22.859375 7.515625 30.078125 7.515625  Q 37.359375 7.515625 41.375 12.890625  Q 45.40625 18.265625 45.40625 27.984375  z M 54.390625 6.78125  Q 54.390625 -7.171875 48.1875 -13.984375  Q 42 -20.796875 29.203125 -20.796875  Q 24.46875 -20.796875 20.265625 -20.09375  Q 16.0625 -19.390625 12.109375 -17.921875  L 12.109375 -9.1875  Q 16.0625 -11.328125 19.921875 -12.34375  Q 23.78125 -13.375 27.78125 -13.375  Q 36.625 -13.375 41.015625 -8.765625  Q 45.40625 -4.15625 45.40625 5.171875  L 45.40625 9.625  Q 42.625 4.78125 38.28125 2.390625  Q 33.9375 0 27.875 0  Q 17.828125 0 11.671875 7.65625  Q 5.515625 15.328125 5.515625 27.984375  Q 5.515625 40.671875 11.671875 48.328125  Q 17.828125 56 27.875 56  Q 33.9375 56 38.28125 53.609375  Q 42.625 51.21875 45.40625 46.390625  L 45.40625 54.6875  L 54.390625 54.6875  z \" id=\"DejaVuSans-67\"/>\n",
       "     </defs>\n",
       "     <g transform=\"translate(275.270739 51.158437)scale(0.1 -0.1)\">\n",
       "      <use xlink:href=\"#DejaVuSans-54\"/>\n",
       "      <use x=\"60.865234\" xlink:href=\"#DejaVuSans-72\"/>\n",
       "      <use x=\"101.978516\" xlink:href=\"#DejaVuSans-61\"/>\n",
       "      <use x=\"163.257812\" xlink:href=\"#DejaVuSans-69\"/>\n",
       "      <use x=\"191.041016\" xlink:href=\"#DejaVuSans-6e\"/>\n",
       "      <use x=\"254.419922\" xlink:href=\"#DejaVuSans-69\"/>\n",
       "      <use x=\"282.203125\" xlink:href=\"#DejaVuSans-6e\"/>\n",
       "      <use x=\"345.582031\" xlink:href=\"#DejaVuSans-67\"/>\n",
       "      <use x=\"409.058594\" xlink:href=\"#DejaVuSans-20\"/>\n",
       "      <use x=\"440.845703\" xlink:href=\"#DejaVuSans-73\"/>\n",
       "      <use x=\"492.945312\" xlink:href=\"#DejaVuSans-65\"/>\n",
       "      <use x=\"554.46875\" xlink:href=\"#DejaVuSans-74\"/>\n",
       "     </g>\n",
       "    </g>\n",
       "   </g>\n",
       "  </g>\n",
       "  <g id=\"axes_2\">\n",
       "   <g id=\"patch_8\">\n",
       "    <path d=\"M 394.363636 252  L 648 252  L 648 34.56  L 394.363636 34.56  z \" style=\"fill:#ffffff;\"/>\n",
       "   </g>\n",
       "   <g id=\"matplotlib.axis_3\">\n",
       "    <g id=\"xtick_7\">\n",
       "     <g id=\"line2d_16\">\n",
       "      <g>\n",
       "       <use style=\"stroke:#000000;stroke-width:0.8;\" x=\"405.892562\" xlink:href=\"#mb5f5cb5c77\" y=\"252\"/>\n",
       "      </g>\n",
       "     </g>\n",
       "     <g id=\"text_16\">\n",
       "      <!-- 0 -->\n",
       "      <g transform=\"translate(402.711312 266.598437)scale(0.1 -0.1)\">\n",
       "       <use xlink:href=\"#DejaVuSans-30\"/>\n",
       "      </g>\n",
       "     </g>\n",
       "    </g>\n",
       "    <g id=\"xtick_8\">\n",
       "     <g id=\"line2d_17\">\n",
       "      <g>\n",
       "       <use style=\"stroke:#000000;stroke-width:0.8;\" x=\"446.344933\" xlink:href=\"#mb5f5cb5c77\" y=\"252\"/>\n",
       "      </g>\n",
       "     </g>\n",
       "     <g id=\"text_17\">\n",
       "      <!-- 50 -->\n",
       "      <g transform=\"translate(439.982433 266.598437)scale(0.1 -0.1)\">\n",
       "       <use xlink:href=\"#DejaVuSans-35\"/>\n",
       "       <use x=\"63.623047\" xlink:href=\"#DejaVuSans-30\"/>\n",
       "      </g>\n",
       "     </g>\n",
       "    </g>\n",
       "    <g id=\"xtick_9\">\n",
       "     <g id=\"line2d_18\">\n",
       "      <g>\n",
       "       <use style=\"stroke:#000000;stroke-width:0.8;\" x=\"486.797303\" xlink:href=\"#mb5f5cb5c77\" y=\"252\"/>\n",
       "      </g>\n",
       "     </g>\n",
       "     <g id=\"text_18\">\n",
       "      <!-- 100 -->\n",
       "      <g transform=\"translate(477.253553 266.598437)scale(0.1 -0.1)\">\n",
       "       <use xlink:href=\"#DejaVuSans-31\"/>\n",
       "       <use x=\"63.623047\" xlink:href=\"#DejaVuSans-30\"/>\n",
       "       <use x=\"127.246094\" xlink:href=\"#DejaVuSans-30\"/>\n",
       "      </g>\n",
       "     </g>\n",
       "    </g>\n",
       "    <g id=\"xtick_10\">\n",
       "     <g id=\"line2d_19\">\n",
       "      <g>\n",
       "       <use style=\"stroke:#000000;stroke-width:0.8;\" x=\"527.249674\" xlink:href=\"#mb5f5cb5c77\" y=\"252\"/>\n",
       "      </g>\n",
       "     </g>\n",
       "     <g id=\"text_19\">\n",
       "      <!-- 150 -->\n",
       "      <g transform=\"translate(517.705924 266.598437)scale(0.1 -0.1)\">\n",
       "       <use xlink:href=\"#DejaVuSans-31\"/>\n",
       "       <use x=\"63.623047\" xlink:href=\"#DejaVuSans-35\"/>\n",
       "       <use x=\"127.246094\" xlink:href=\"#DejaVuSans-30\"/>\n",
       "      </g>\n",
       "     </g>\n",
       "    </g>\n",
       "    <g id=\"xtick_11\">\n",
       "     <g id=\"line2d_20\">\n",
       "      <g>\n",
       "       <use style=\"stroke:#000000;stroke-width:0.8;\" x=\"567.702044\" xlink:href=\"#mb5f5cb5c77\" y=\"252\"/>\n",
       "      </g>\n",
       "     </g>\n",
       "     <g id=\"text_20\">\n",
       "      <!-- 200 -->\n",
       "      <g transform=\"translate(558.158294 266.598437)scale(0.1 -0.1)\">\n",
       "       <use xlink:href=\"#DejaVuSans-32\"/>\n",
       "       <use x=\"63.623047\" xlink:href=\"#DejaVuSans-30\"/>\n",
       "       <use x=\"127.246094\" xlink:href=\"#DejaVuSans-30\"/>\n",
       "      </g>\n",
       "     </g>\n",
       "    </g>\n",
       "    <g id=\"xtick_12\">\n",
       "     <g id=\"line2d_21\">\n",
       "      <g>\n",
       "       <use style=\"stroke:#000000;stroke-width:0.8;\" x=\"608.154415\" xlink:href=\"#mb5f5cb5c77\" y=\"252\"/>\n",
       "      </g>\n",
       "     </g>\n",
       "     <g id=\"text_21\">\n",
       "      <!-- 250 -->\n",
       "      <g transform=\"translate(598.610665 266.598437)scale(0.1 -0.1)\">\n",
       "       <use xlink:href=\"#DejaVuSans-32\"/>\n",
       "       <use x=\"63.623047\" xlink:href=\"#DejaVuSans-35\"/>\n",
       "       <use x=\"127.246094\" xlink:href=\"#DejaVuSans-30\"/>\n",
       "      </g>\n",
       "     </g>\n",
       "    </g>\n",
       "    <g id=\"text_22\">\n",
       "     <!-- Epoch -->\n",
       "     <g transform=\"translate(505.870881 280.276563)scale(0.1 -0.1)\">\n",
       "      <use xlink:href=\"#DejaVuSans-45\"/>\n",
       "      <use x=\"63.183594\" xlink:href=\"#DejaVuSans-70\"/>\n",
       "      <use x=\"126.660156\" xlink:href=\"#DejaVuSans-6f\"/>\n",
       "      <use x=\"187.841797\" xlink:href=\"#DejaVuSans-63\"/>\n",
       "      <use x=\"242.822266\" xlink:href=\"#DejaVuSans-68\"/>\n",
       "     </g>\n",
       "    </g>\n",
       "   </g>\n",
       "   <g id=\"matplotlib.axis_4\">\n",
       "    <g id=\"ytick_7\">\n",
       "     <g id=\"line2d_22\">\n",
       "      <g>\n",
       "       <use style=\"stroke:#000000;stroke-width:0.8;\" x=\"394.363636\" xlink:href=\"#m3b85901604\" y=\"233.88\"/>\n",
       "      </g>\n",
       "     </g>\n",
       "     <g id=\"text_23\">\n",
       "      <!-- 0.0 -->\n",
       "      <g transform=\"translate(371.460511 237.679219)scale(0.1 -0.1)\">\n",
       "       <use xlink:href=\"#DejaVuSans-30\"/>\n",
       "       <use x=\"63.623047\" xlink:href=\"#DejaVuSans-2e\"/>\n",
       "       <use x=\"95.410156\" xlink:href=\"#DejaVuSans-30\"/>\n",
       "      </g>\n",
       "     </g>\n",
       "    </g>\n",
       "    <g id=\"ytick_8\">\n",
       "     <g id=\"line2d_23\">\n",
       "      <g>\n",
       "       <use style=\"stroke:#000000;stroke-width:0.8;\" x=\"394.363636\" xlink:href=\"#m3b85901604\" y=\"197.64\"/>\n",
       "      </g>\n",
       "     </g>\n",
       "     <g id=\"text_24\">\n",
       "      <!-- 0.2 -->\n",
       "      <g transform=\"translate(371.460511 201.439219)scale(0.1 -0.1)\">\n",
       "       <use xlink:href=\"#DejaVuSans-30\"/>\n",
       "       <use x=\"63.623047\" xlink:href=\"#DejaVuSans-2e\"/>\n",
       "       <use x=\"95.410156\" xlink:href=\"#DejaVuSans-32\"/>\n",
       "      </g>\n",
       "     </g>\n",
       "    </g>\n",
       "    <g id=\"ytick_9\">\n",
       "     <g id=\"line2d_24\">\n",
       "      <g>\n",
       "       <use style=\"stroke:#000000;stroke-width:0.8;\" x=\"394.363636\" xlink:href=\"#m3b85901604\" y=\"161.4\"/>\n",
       "      </g>\n",
       "     </g>\n",
       "     <g id=\"text_25\">\n",
       "      <!-- 0.4 -->\n",
       "      <g transform=\"translate(371.460511 165.199219)scale(0.1 -0.1)\">\n",
       "       <use xlink:href=\"#DejaVuSans-30\"/>\n",
       "       <use x=\"63.623047\" xlink:href=\"#DejaVuSans-2e\"/>\n",
       "       <use x=\"95.410156\" xlink:href=\"#DejaVuSans-34\"/>\n",
       "      </g>\n",
       "     </g>\n",
       "    </g>\n",
       "    <g id=\"ytick_10\">\n",
       "     <g id=\"line2d_25\">\n",
       "      <g>\n",
       "       <use style=\"stroke:#000000;stroke-width:0.8;\" x=\"394.363636\" xlink:href=\"#m3b85901604\" y=\"125.16\"/>\n",
       "      </g>\n",
       "     </g>\n",
       "     <g id=\"text_26\">\n",
       "      <!-- 0.6 -->\n",
       "      <defs>\n",
       "       <path d=\"M 33.015625 40.375  Q 26.375 40.375 22.484375 35.828125  Q 18.609375 31.296875 18.609375 23.390625  Q 18.609375 15.53125 22.484375 10.953125  Q 26.375 6.390625 33.015625 6.390625  Q 39.65625 6.390625 43.53125 10.953125  Q 47.40625 15.53125 47.40625 23.390625  Q 47.40625 31.296875 43.53125 35.828125  Q 39.65625 40.375 33.015625 40.375  z M 52.59375 71.296875  L 52.59375 62.3125  Q 48.875 64.0625 45.09375 64.984375  Q 41.3125 65.921875 37.59375 65.921875  Q 27.828125 65.921875 22.671875 59.328125  Q 17.53125 52.734375 16.796875 39.40625  Q 19.671875 43.65625 24.015625 45.921875  Q 28.375 48.1875 33.59375 48.1875  Q 44.578125 48.1875 50.953125 41.515625  Q 57.328125 34.859375 57.328125 23.390625  Q 57.328125 12.15625 50.6875 5.359375  Q 44.046875 -1.421875 33.015625 -1.421875  Q 20.359375 -1.421875 13.671875 8.265625  Q 6.984375 17.96875 6.984375 36.375  Q 6.984375 53.65625 15.1875 63.9375  Q 23.390625 74.21875 37.203125 74.21875  Q 40.921875 74.21875 44.703125 73.484375  Q 48.484375 72.75 52.59375 71.296875  z \" id=\"DejaVuSans-36\"/>\n",
       "      </defs>\n",
       "      <g transform=\"translate(371.460511 128.959219)scale(0.1 -0.1)\">\n",
       "       <use xlink:href=\"#DejaVuSans-30\"/>\n",
       "       <use x=\"63.623047\" xlink:href=\"#DejaVuSans-2e\"/>\n",
       "       <use x=\"95.410156\" xlink:href=\"#DejaVuSans-36\"/>\n",
       "      </g>\n",
       "     </g>\n",
       "    </g>\n",
       "    <g id=\"ytick_11\">\n",
       "     <g id=\"line2d_26\">\n",
       "      <g>\n",
       "       <use style=\"stroke:#000000;stroke-width:0.8;\" x=\"394.363636\" xlink:href=\"#m3b85901604\" y=\"88.92\"/>\n",
       "      </g>\n",
       "     </g>\n",
       "     <g id=\"text_27\">\n",
       "      <!-- 0.8 -->\n",
       "      <defs>\n",
       "       <path d=\"M 31.78125 34.625  Q 24.75 34.625 20.71875 30.859375  Q 16.703125 27.09375 16.703125 20.515625  Q 16.703125 13.921875 20.71875 10.15625  Q 24.75 6.390625 31.78125 6.390625  Q 38.8125 6.390625 42.859375 10.171875  Q 46.921875 13.96875 46.921875 20.515625  Q 46.921875 27.09375 42.890625 30.859375  Q 38.875 34.625 31.78125 34.625  z M 21.921875 38.8125  Q 15.578125 40.375 12.03125 44.71875  Q 8.5 49.078125 8.5 55.328125  Q 8.5 64.0625 14.71875 69.140625  Q 20.953125 74.21875 31.78125 74.21875  Q 42.671875 74.21875 48.875 69.140625  Q 55.078125 64.0625 55.078125 55.328125  Q 55.078125 49.078125 51.53125 44.71875  Q 48 40.375 41.703125 38.8125  Q 48.828125 37.15625 52.796875 32.3125  Q 56.78125 27.484375 56.78125 20.515625  Q 56.78125 9.90625 50.3125 4.234375  Q 43.84375 -1.421875 31.78125 -1.421875  Q 19.734375 -1.421875 13.25 4.234375  Q 6.78125 9.90625 6.78125 20.515625  Q 6.78125 27.484375 10.78125 32.3125  Q 14.796875 37.15625 21.921875 38.8125  z M 18.3125 54.390625  Q 18.3125 48.734375 21.84375 45.5625  Q 25.390625 42.390625 31.78125 42.390625  Q 38.140625 42.390625 41.71875 45.5625  Q 45.3125 48.734375 45.3125 54.390625  Q 45.3125 60.0625 41.71875 63.234375  Q 38.140625 66.40625 31.78125 66.40625  Q 25.390625 66.40625 21.84375 63.234375  Q 18.3125 60.0625 18.3125 54.390625  z \" id=\"DejaVuSans-38\"/>\n",
       "      </defs>\n",
       "      <g transform=\"translate(371.460511 92.719219)scale(0.1 -0.1)\">\n",
       "       <use xlink:href=\"#DejaVuSans-30\"/>\n",
       "       <use x=\"63.623047\" xlink:href=\"#DejaVuSans-2e\"/>\n",
       "       <use x=\"95.410156\" xlink:href=\"#DejaVuSans-38\"/>\n",
       "      </g>\n",
       "     </g>\n",
       "    </g>\n",
       "    <g id=\"ytick_12\">\n",
       "     <g id=\"line2d_27\">\n",
       "      <g>\n",
       "       <use style=\"stroke:#000000;stroke-width:0.8;\" x=\"394.363636\" xlink:href=\"#m3b85901604\" y=\"52.68\"/>\n",
       "      </g>\n",
       "     </g>\n",
       "     <g id=\"text_28\">\n",
       "      <!-- 1.0 -->\n",
       "      <g transform=\"translate(371.460511 56.479219)scale(0.1 -0.1)\">\n",
       "       <use xlink:href=\"#DejaVuSans-31\"/>\n",
       "       <use x=\"63.623047\" xlink:href=\"#DejaVuSans-2e\"/>\n",
       "       <use x=\"95.410156\" xlink:href=\"#DejaVuSans-30\"/>\n",
       "      </g>\n",
       "     </g>\n",
       "    </g>\n",
       "   </g>\n",
       "   <g id=\"line2d_28\">\n",
       "    <path clip-path=\"url(#pb38183b3cb)\" d=\"M 405.892562 200.683053  L 406.701609 200.683053  L 407.510657 202.06626  L 408.319704 200.683053  L 409.128752 197.916641  L 409.937799 199.299847  L 410.746846 197.916641  L 412.364941 197.916641  L 413.173989 199.299847  L 415.601131 199.299847  L 416.410178 197.916641  L 417.219226 197.916641  L 418.837321 195.150229  L 419.646368 195.150229  L 420.455415 192.383817  L 426.118747 192.383817  L 426.927795 195.150229  L 427.736842 193.767023  L 428.54589 193.767023  L 429.354937 195.150229  L 430.163984 192.383817  L 431.782079 192.383817  L 432.591127 193.767023  L 433.400174 192.383817  L 435.018269 192.383817  L 436.636364 189.617405  L 437.445411 189.617405  L 438.254458 191.000611  L 439.063506 191.000611  L 439.872553 192.383817  L 440.681601 192.383817  L 441.490648 191.000611  L 442.299696 191.000611  L 443.108743 189.617405  L 446.344933 189.617405  L 447.15398 188.234198  L 448.772075 188.234198  L 449.581122 186.850992  L 450.39017 188.234198  L 451.199217 186.850992  L 452.008264 188.234198  L 452.817312 188.234198  L 453.626359 186.850992  L 457.671596 186.850992  L 458.480644 185.467786  L 459.289691 186.850992  L 460.098739 185.467786  L 460.907786 185.467786  L 461.716833 184.08458  L 462.525881 185.467786  L 463.334928 184.08458  L 464.143976 185.467786  L 464.953023 185.467786  L 465.76207 182.701374  L 466.571118 182.701374  L 467.380165 184.08458  L 468.99826 184.08458  L 469.807308 185.467786  L 470.616355 185.467786  L 471.425402 184.08458  L 473.043497 184.08458  L 473.852545 182.701374  L 474.661592 182.701374  L 475.470639 179.934962  L 476.279687 179.934962  L 477.897782 174.402137  L 479.515876 174.402137  L 481.133971 168.869313  L 481.943019 168.869313  L 483.561114 166.102901  L 484.370161 168.869313  L 485.179208 173.018931  L 485.988256 174.402137  L 486.797303 171.635725  L 487.606351 173.018931  L 488.415398 173.018931  L 489.224445 171.635725  L 490.033493 167.486107  L 490.84254 168.869313  L 491.651588 166.102901  L 492.460635 167.486107  L 493.269682 160.570076  L 494.07873 156.420458  L 494.887777 160.570076  L 495.696825 167.486107  L 496.505872 167.486107  L 498.123967 173.018931  L 498.933014 174.402137  L 499.742062 174.402137  L 500.551109 171.635725  L 501.360157 161.953282  L 502.169204 159.18687  L 502.978251 150.887634  L 503.787299 145.354809  L 504.596346 131.522748  L 505.405394 123.223511  L 506.214441 123.223511  L 507.023488 128.756336  L 507.832536 132.905954  L 508.641583 132.905954  L 509.450631 131.522748  L 511.068726 134.28916  L 511.877773 134.28916  L 512.68682 127.37313  L 513.495868 124.606717  L 514.304915 124.606718  L 515.113963 125.989924  L 515.92301 125.989924  L 517.541105 120.457099  L 518.350152 112.157863  L 519.1592 108.008244  L 520.777294 108.008244  L 522.395389 105.241832  L 523.204437 105.241832  L 524.013484 103.858626  L 525.631579 98.325802  L 528.058721 98.325801  L 528.867769 101.092214  L 529.676816 98.325802  L 530.485863 96.942595  L 531.294911 96.942595  L 534.5311 102.47542  L 536.149195 116.307481  L 536.958243 124.606718  L 537.76729 123.223511  L 538.576338 113.541069  L 539.385385 102.47542  L 540.194432 102.47542  L 541.00348 103.858626  L 541.812527 110.774656  L 542.621575 113.541069  L 543.430622 106.625038  L 544.239669 95.559389  L 545.048717 92.792977  L 545.857764 94.176183  L 548.284906 94.176183  L 549.093954 92.792977  L 558.802523 92.792977  L 559.61157 91.409771  L 560.420618 92.792977  L 561.229665 91.409771  L 565.274902 91.409771  L 566.08395 90.026565  L 568.511092 90.026565  L 569.320139 91.409771  L 570.129187 91.409771  L 570.938234 90.026565  L 574.174424 90.026565  L 574.983471 88.643359  L 580.646803 88.643359  L 581.45585 87.260153  L 583.882993 87.260153  L 584.69204 85.876946  L 585.501087 85.876947  L 586.310135 87.260153  L 587.119182 85.876947  L 588.737277 85.876947  L 589.546324 84.49374  L 591.164419 84.49374  L 591.973467 85.876947  L 596.018704 85.876947  L 596.827751 84.49374  L 602.491083 84.49374  L 603.30013 83.110534  L 604.918225 83.110534  L 605.727273 84.49374  L 607.345368 84.49374  L 608.154415 83.110534  L 610.581557 83.110534  L 611.390605 81.727328  L 613.817747 81.727328  L 614.626794 83.110534  L 615.435842 83.110534  L 616.244889 81.727328  L 623.526316 81.727328  L 624.335363 80.344122  L 634.043932 80.344122  L 634.85298 78.960916  L 635.662027 78.960916  L 636.471074 52.68  L 636.471074 52.68  \" style=\"fill:none;stroke:#1f77b4;stroke-linecap:square;stroke-width:1.5;\"/>\n",
       "   </g>\n",
       "   <g id=\"patch_9\">\n",
       "    <path d=\"M 394.363636 252  L 394.363636 34.56  \" style=\"fill:none;stroke:#000000;stroke-linecap:square;stroke-linejoin:miter;stroke-width:0.8;\"/>\n",
       "   </g>\n",
       "   <g id=\"patch_10\">\n",
       "    <path d=\"M 648 252  L 648 34.56  \" style=\"fill:none;stroke:#000000;stroke-linecap:square;stroke-linejoin:miter;stroke-width:0.8;\"/>\n",
       "   </g>\n",
       "   <g id=\"patch_11\">\n",
       "    <path d=\"M 394.363636 252  L 648 252  \" style=\"fill:none;stroke:#000000;stroke-linecap:square;stroke-linejoin:miter;stroke-width:0.8;\"/>\n",
       "   </g>\n",
       "   <g id=\"patch_12\">\n",
       "    <path d=\"M 394.363636 34.56  L 648 34.56  \" style=\"fill:none;stroke:#000000;stroke-linecap:square;stroke-linejoin:miter;stroke-width:0.8;\"/>\n",
       "   </g>\n",
       "   <g id=\"text_29\">\n",
       "    <!-- Stop When Close: Accuracy -->\n",
       "    <defs>\n",
       "     <path d=\"M 34.1875 63.1875  L 20.796875 26.90625  L 47.609375 26.90625  z M 28.609375 72.90625  L 39.796875 72.90625  L 67.578125 0  L 57.328125 0  L 50.6875 18.703125  L 17.828125 18.703125  L 11.1875 0  L 0.78125 0  z \" id=\"DejaVuSans-41\"/>\n",
       "     <path d=\"M 8.5 21.578125  L 8.5 54.6875  L 17.484375 54.6875  L 17.484375 21.921875  Q 17.484375 14.15625 20.5 10.265625  Q 23.53125 6.390625 29.59375 6.390625  Q 36.859375 6.390625 41.078125 11.03125  Q 45.3125 15.671875 45.3125 23.6875  L 45.3125 54.6875  L 54.296875 54.6875  L 54.296875 0  L 45.3125 0  L 45.3125 8.40625  Q 42.046875 3.421875 37.71875 1  Q 33.40625 -1.421875 27.6875 -1.421875  Q 18.265625 -1.421875 13.375 4.4375  Q 8.5 10.296875 8.5 21.578125  z M 31.109375 56  z \" id=\"DejaVuSans-75\"/>\n",
       "     <path d=\"M 32.171875 -5.078125  Q 28.375 -14.84375 24.75 -17.8125  Q 21.140625 -20.796875 15.09375 -20.796875  L 7.90625 -20.796875  L 7.90625 -13.28125  L 13.1875 -13.28125  Q 16.890625 -13.28125 18.9375 -11.515625  Q 21 -9.765625 23.484375 -3.21875  L 25.09375 0.875  L 2.984375 54.6875  L 12.5 54.6875  L 29.59375 11.921875  L 46.6875 54.6875  L 56.203125 54.6875  z \" id=\"DejaVuSans-79\"/>\n",
       "    </defs>\n",
       "    <g transform=\"translate(438.725881 28.56)scale(0.12 -0.12)\">\n",
       "     <use xlink:href=\"#DejaVuSans-53\"/>\n",
       "     <use x=\"63.476562\" xlink:href=\"#DejaVuSans-74\"/>\n",
       "     <use x=\"102.685547\" xlink:href=\"#DejaVuSans-6f\"/>\n",
       "     <use x=\"163.867188\" xlink:href=\"#DejaVuSans-70\"/>\n",
       "     <use x=\"227.34375\" xlink:href=\"#DejaVuSans-20\"/>\n",
       "     <use x=\"259.130859\" xlink:href=\"#DejaVuSans-57\"/>\n",
       "     <use x=\"358.007812\" xlink:href=\"#DejaVuSans-68\"/>\n",
       "     <use x=\"421.386719\" xlink:href=\"#DejaVuSans-65\"/>\n",
       "     <use x=\"482.910156\" xlink:href=\"#DejaVuSans-6e\"/>\n",
       "     <use x=\"546.289062\" xlink:href=\"#DejaVuSans-20\"/>\n",
       "     <use x=\"578.076172\" xlink:href=\"#DejaVuSans-43\"/>\n",
       "     <use x=\"647.900391\" xlink:href=\"#DejaVuSans-6c\"/>\n",
       "     <use x=\"675.683594\" xlink:href=\"#DejaVuSans-6f\"/>\n",
       "     <use x=\"736.865234\" xlink:href=\"#DejaVuSans-73\"/>\n",
       "     <use x=\"788.964844\" xlink:href=\"#DejaVuSans-65\"/>\n",
       "     <use x=\"850.488281\" xlink:href=\"#DejaVuSans-3a\"/>\n",
       "     <use x=\"884.179688\" xlink:href=\"#DejaVuSans-20\"/>\n",
       "     <use x=\"915.966797\" xlink:href=\"#DejaVuSans-41\"/>\n",
       "     <use x=\"984.359375\" xlink:href=\"#DejaVuSans-63\"/>\n",
       "     <use x=\"1039.339844\" xlink:href=\"#DejaVuSans-63\"/>\n",
       "     <use x=\"1094.320312\" xlink:href=\"#DejaVuSans-75\"/>\n",
       "     <use x=\"1157.699219\" xlink:href=\"#DejaVuSans-72\"/>\n",
       "     <use x=\"1198.8125\" xlink:href=\"#DejaVuSans-61\"/>\n",
       "     <use x=\"1260.091797\" xlink:href=\"#DejaVuSans-63\"/>\n",
       "     <use x=\"1315.072266\" xlink:href=\"#DejaVuSans-79\"/>\n",
       "    </g>\n",
       "   </g>\n",
       "   <g id=\"legend_2\">\n",
       "    <g id=\"patch_13\">\n",
       "     <path d=\"M 401.363636 57.238125  L 492.729261 57.238125  Q 494.729261 57.238125 494.729261 55.238125  L 494.729261 41.56  Q 494.729261 39.56 492.729261 39.56  L 401.363636 39.56  Q 399.363636 39.56 399.363636 41.56  L 399.363636 55.238125  Q 399.363636 57.238125 401.363636 57.238125  z \" style=\"fill:#ffffff;opacity:0.8;stroke:#cccccc;stroke-linejoin:miter;\"/>\n",
       "    </g>\n",
       "    <g id=\"line2d_29\">\n",
       "     <path d=\"M 403.363636 47.658437  L 423.363636 47.658437  \" style=\"fill:none;stroke:#1f77b4;stroke-linecap:square;stroke-width:1.5;\"/>\n",
       "    </g>\n",
       "    <g id=\"line2d_30\"/>\n",
       "    <g id=\"text_30\">\n",
       "     <!-- Training set -->\n",
       "     <g transform=\"translate(431.363636 51.158437)scale(0.1 -0.1)\">\n",
       "      <use xlink:href=\"#DejaVuSans-54\"/>\n",
       "      <use x=\"60.865234\" xlink:href=\"#DejaVuSans-72\"/>\n",
       "      <use x=\"101.978516\" xlink:href=\"#DejaVuSans-61\"/>\n",
       "      <use x=\"163.257812\" xlink:href=\"#DejaVuSans-69\"/>\n",
       "      <use x=\"191.041016\" xlink:href=\"#DejaVuSans-6e\"/>\n",
       "      <use x=\"254.419922\" xlink:href=\"#DejaVuSans-69\"/>\n",
       "      <use x=\"282.203125\" xlink:href=\"#DejaVuSans-6e\"/>\n",
       "      <use x=\"345.582031\" xlink:href=\"#DejaVuSans-67\"/>\n",
       "      <use x=\"409.058594\" xlink:href=\"#DejaVuSans-20\"/>\n",
       "      <use x=\"440.845703\" xlink:href=\"#DejaVuSans-73\"/>\n",
       "      <use x=\"492.945312\" xlink:href=\"#DejaVuSans-65\"/>\n",
       "      <use x=\"554.46875\" xlink:href=\"#DejaVuSans-74\"/>\n",
       "     </g>\n",
       "    </g>\n",
       "   </g>\n",
       "  </g>\n",
       " </g>\n",
       " <defs>\n",
       "  <clipPath id=\"p72cbe0c8a9\">\n",
       "   <rect height=\"217.44\" width=\"253.636364\" x=\"90\" y=\"34.56\"/>\n",
       "  </clipPath>\n",
       "  <clipPath id=\"pb38183b3cb\">\n",
       "   <rect height=\"217.44\" width=\"253.636364\" x=\"394.363636\" y=\"34.56\"/>\n",
       "  </clipPath>\n",
       " </defs>\n",
       "</svg>"
      ],
      "text/plain": [
       "<IPython.core.display.SVG object>"
      ]
     },
     "metadata": {},
     "output_type": "display_data"
    },
    {
     "name": "stdout",
     "output_type": "stream",
     "text": [
      "========================================================================\n",
      "       |  Training |  Training \n",
      "Epochs |     Error |  Accuracy \n",
      "------ | --------- | --------- \n",
      "#  285 |   0.00285 |   1.00000 \n"
     ]
    }
   ],
   "source": [
    "if net.saved():\n",
    "    net.load()\n",
    "    net.plot_loss_acc()\n",
    "else:\n",
    "    net.train(1000, accuracy=1.0, tolerance=0.1, plot=True)\n",
    "    net.save()"
   ]
  },
  {
   "cell_type": "code",
   "execution_count": null,
   "metadata": {},
   "outputs": [],
   "source": [
    "train = [\"Training Data\", [pair[1][0] for pair in data]]"
   ]
  },
  {
   "cell_type": "code",
   "execution_count": 88,
   "metadata": {},
   "outputs": [
    {
     "data": {
      "image/png": "[encoded data removed]",
      "text/plain": [
       "<matplotlib.figure.Figure at 0x7fd327e4aba8>"
      ]
     },
     "metadata": {},
     "output_type": "display_data"
    }
   ],
   "source": [
    "plot(train, \n",
    "     title=\"Speed as a Function of Distance\",\n",
    "     xlabel=\"distance from target\",\n",
    "     ylabel=\"speed\",\n",
    "     xs=[pair[0][0] for pair in data])"
   ]
  },
  {
   "cell_type": "code",
   "execution_count": 89,
   "metadata": {},
   "outputs": [],
   "source": [
    "test = [\"Network\", [net.propagate(pair[0], visualize=False)[0] for pair in data]]"
   ]
  },
  {
   "cell_type": "code",
   "execution_count": 90,
   "metadata": {},
   "outputs": [
    {
     "data": {
      "image/png": "[encoded data removed]",
      "text/plain": [
       "<matplotlib.figure.Figure at 0x7fd327e4afd0>"
      ]
     },
     "metadata": {},
     "output_type": "display_data"
    }
   ],
   "source": [
    "plot([train, test], \n",
    "     title=\"Speed as a Function of Distance\",\n",
    "     xlabel=\"distance from target\",\n",
    "     ylabel=\"speed\",\n",
    "     xs=[pair[0][0] for pair in data])"
   ]
  },
  {
   "cell_type": "markdown",
   "metadata": {},
   "source": [
    "# Network-Controlled Robot"
   ]
  },
  {
   "cell_type": "code",
   "execution_count": 98,
   "metadata": {},
   "outputs": [],
   "source": [
    "outputs = []\n",
    "\n",
    "def net_brain(robot):\n",
    "    sonars = robot[\"sonar\"].getData()\n",
    "    inputs = [v/6.0 for v in sonars[3:5]]\n",
    "    output = net.propagate(inputs, visualize=False)[0]\n",
    "    robot.move(output, 0)\n",
    "    outputs.append([inputs[0], output])\n",
    "        \n",
    "robot.brain = net_brain"
   ]
  },
  {
   "cell_type": "code",
   "execution_count": 96,
   "metadata": {},
   "outputs": [
    {
     "data": {
      "application/vnd.jupyter.widget-view+json": {
       "model_id": "1a06b48d37f141678bed8583d37e7e93",
       "version_major": 2,
       "version_minor": 0
      },
      "text/html": [
       "<p>Failed to display Jupyter Widget of type <code>VBox</code>.</p>\n",
       "<p>\n",
       "  If you're reading this message in the Jupyter Notebook or JupyterLab Notebook, it may mean\n",
       "  that the widgets JavaScript is still loading. If this message persists, it\n",
       "  likely means that the widgets JavaScript library is either not installed or\n",
       "  not enabled. See the <a href=\"https://ipywidgets.readthedocs.io/en/stable/user_install.html\">Jupyter\n",
       "  Widgets Documentation</a> for setup instructions.\n",
       "</p>\n",
       "<p>\n",
       "  If you're reading this message in another frontend (for example, a static\n",
       "  rendering on GitHub or <a href=\"https://nbviewer.jupyter.org/\">NBViewer</a>),\n",
       "  it may mean that your frontend doesn't currently support widgets.\n",
       "</p>\n"
      ],
      "text/plain": [
       "VBox(children=(VBox(children=(HBox(children=(Checkbox(value=True, description='Update GUI'), Checkbox(value=False, description='Trace Path'), Text(value='24.60 seconds', description='Time:'))), HBox(children=(VBox(children=(HBox(children=(FloatSlider(value=88.76085589975128, layout=Layout(height='248px', padding='0px 0px 0px 0px', width='10px'), orientation='vertical', readout=False), HTML(value='<svg baseProfile=\"full\" height=\"240\" version=\"1.1\" width=\"240\" xmlns=\"http://www.w3.org/2000/svg\" xmlns:ev=\"http://www.w3.org/2001/xml-events\" xmlns:xlink=\"http://www.w3.org/1999/xlink\"><defs /><rect fill=\"#eef3dd\" height=\"240.0\" stroke=\"#bebebe\" stroke-width=\"1\" width=\"80.0\" x=\"0.0\" y=\"0.0\" /><line fill=\"#800080\" stroke=\"#add8e6\" stroke-width=\"1\" x1=\"33.0\" x2=\"0.0\" y1=\"22.973945840596954\" y2=\"22.973944000000017\" /><line fill=\"#800080\" stroke=\"#add8e6\" stroke-width=\"1\" x1=\"34.0\" x2=\"0.0\" y1=\"20.173945840596943\" y2=\"4.319483999999996\" /><line fill=\"#800080\" stroke=\"#add8e6\" stroke-width=\"1\" x1=\"35.6\" x2=\"19.67897055230208\" y1=\"18.973945840596933\" y2=\"0.0\" /><line fill=\"#800080\" stroke=\"#add8e6\" stroke-width=\"1\" x1=\"38.0\" x2=\"33.183896456712134\" y1=\"17.973945840596954\" y2=\"0.0\" /><line fill=\"#800080\" stroke=\"#add8e6\" stroke-width=\"1\" x1=\"42.0\" x2=\"46.81610354328788\" y1=\"17.973945840596954\" y2=\"0.0\" /><line fill=\"#800080\" stroke=\"#add8e6\" stroke-width=\"1\" x1=\"44.400000000000006\" x2=\"60.3210294476979\" y1=\"18.973945840596933\" y2=\"0.0\" /><line fill=\"#800080\" stroke=\"#add8e6\" stroke-width=\"1\" x1=\"46.0\" x2=\"80.0\" y1=\"20.173945840596943\" y2=\"4.319484000000031\" /><line fill=\"#800080\" stroke=\"#add8e6\" stroke-width=\"1\" x1=\"47.0\" x2=\"80.0\" y1=\"22.973945840596954\" y2=\"22.973944000000017\" /><line fill=\"#800080\" stroke=\"#a020f0\" stroke-width=\"1\" x1=\"40.0\" x2=\"0.0\" y1=\"26.97394584059694\" y2=\"3.8799320000000037\" /><line fill=\"#800080\" stroke=\"#a020f0\" stroke-width=\"1\" x1=\"40.0\" x2=\"80.0\" y1=\"26.97394584059694\" y2=\"3.8799320000000037\" /><polygon fill=\"red\" points=\"36.800000000000004,17.973945840596954 33.0,20.973945840596926 33.0,32.973945840596954 36.800000000000004,35.973945840596926 43.2,35.973945840596926 47.0,32.973945840596954 47.0,20.973945840596926 43.2,17.973945840596954\" stroke=\"red\" stroke-width=\"1\" /><polygon points=\"-2.0,-2.0 0,0 2.0,-2.0 0,2.0\" stroke=\"black\" stroke-width=\"1\" transform=\"translate(40.0,26.97394584059694) rotate(180.0)\" /><polygon fill=\"black\" points=\"42.400000000000006,21.373945840596953 42.400000000000006,24.573945840596956 37.599999999999994,24.573945840596956 37.599999999999994,21.373945840596953\" stroke=\"black\" stroke-width=\"1\" /></svg>'))), FloatSlider(value=50.0, layout=Layout(height='30px', padding='0px 0px 0px 10px', width='260px'), readout=False))), VBox(children=(HTML(value='<img style=\"image-rendering: pixelated;\" src=\"data:image/gif;base64,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\" width=\"240\"/>'), FloatSlider(value=100.0, layout=Layout(height='20px', padding='0px 0px 0px 0px', width='248px'), readout=False))))))), HBox(children=(Button(icon='step-forward', style=ButtonStyle()), Play(value=246, max=1000000), Button(description='Clear Output', style=ButtonStyle()))), Output(outputs=({'output_type': 'stream', 'text': 'Done!\\n', 'name': 'stdout'},))))"
      ]
     },
     "metadata": {},
     "output_type": "display_data"
    }
   ],
   "source": [
    "sim.widget"
   ]
  },
  {
   "cell_type": "code",
   "execution_count": 99,
   "metadata": {},
   "outputs": [],
   "source": [
    "trained_range = [\"Net in Trained Range\", outputs[:]]\n",
    "outputs = []"
   ]
  },
  {
   "cell_type": "code",
   "execution_count": 100,
   "metadata": {},
   "outputs": [
    {
     "data": {
      "image/png": "[encoded data removed]",
      "text/plain": [
       "<matplotlib.figure.Figure at 0x7fd327ce0ac8>"
      ]
     },
     "metadata": {},
     "output_type": "display_data"
    }
   ],
   "source": [
    "scatter(trained_range)"
   ]
  },
  {
   "cell_type": "code",
   "execution_count": 101,
   "metadata": {},
   "outputs": [],
   "source": [
    "untrained_range = [\"Net out of Trained Range\", outputs[:]]"
   ]
  },
  {
   "cell_type": "code",
   "execution_count": 102,
   "metadata": {},
   "outputs": [
    {
     "data": {
      "image/png": "[encoded data removed]",
      "text/plain": [
       "<matplotlib.figure.Figure at 0x7fd327bae0b8>"
      ]
     },
     "metadata": {},
     "output_type": "display_data"
    }
   ],
   "source": [
    "scatter([trained_range, untrained_range])"
   ]
  },
  {
   "cell_type": "code",
   "execution_count": null,
   "metadata": {},
   "outputs": [],
   "source": []
  }
 ],
 "metadata": {
  "kernelspec": {
   "display_name": "Python 3",
   "language": "python",
   "name": "python3"
  },
  "language_info": {
   "codemirror_mode": {
    "name": "ipython",
    "version": 3
   },
   "file_extension": ".py",
   "mimetype": "text/x-python",
   "name": "python",
   "nbconvert_exporter": "python",
   "pygments_lexer": "ipython3",
   "version": "3.6.3"
  },
  "widgets": {
   "application/vnd.jupyter.widget-state+json": {
    "state": {
     "00818cbfc1964599b23cd5e585984a55": {
      "model_module": "@jupyter-widgets/controls",
      "model_module_version": "1.1.0",
      "model_name": "ButtonModel",
      "state": {
       "icon": "forward",
       "layout": "IPY_MODEL_42c7ed97ca544fd08679cfa3e9b7a22a",
       "style": "IPY_MODEL_04f235277b1346ee89557874c7d2259a"
      }
     },
     "0083c6c73de4428a8c8d35cd23cde5ec": {
      "model_module": "@jupyter-widgets/controls",
      "model_module_version": "1.1.0",
      "model_name": "SliderStyleModel",
      "state": {
       "description_width": ""
      }
     },
     "00e02c82570e437c85836db91aa77e98": {
      "model_module": "@jupyter-widgets/controls",
      "model_module_version": "1.1.0",
      "model_name": "ButtonModel",
      "state": {
       "icon": "step-forward",
       "layout": "IPY_MODEL_5151c62ffe514586ae62db74571a0c59",
       "style": "IPY_MODEL_de50ecd332d345e6ad3d4b7cf9f14187"
      }
     },
     "00e91a7afb104eef9f172ef33dbca054": {
      "model_module": "@jupyter-widgets/controls",
      "model_module_version": "1.1.0",
      "model_name": "PlayModel",
      "state": {
       "layout": "IPY_MODEL_21717cacc2f048a18c57904d88c134b3",
       "max": 1000000,
       "style": "IPY_MODEL_415dbf956b934a9682cc59d8bf53bf56",
       "value": 142
      }
     },
     "011f5163824240e4bd0fccd1bb5fc6bf": {
      "model_module": "@jupyter-widgets/base",
      "model_module_version": "1.0.0",
      "model_name": "LayoutModel",
      "state": {}
     },
     "0171a893defb4dcf8227a7d3a851386a": {
      "model_module": "@jupyter-widgets/controls",
      "model_module_version": "1.1.0",
      "model_name": "FloatSliderModel",
      "state": {
       "layout": "IPY_MODEL_59f2da17b2ac4973b06e3efffe4e5e6d",
       "readout": false,
       "step": 0.1,
       "style": "IPY_MODEL_890f15e2a2304063ad9d0c2eca591b36",
       "value": 100
      }
     },
     "01a62ae76d384edbae4bc76f3b089fa2": {
      "model_module": "@jupyter-widgets/controls",
      "model_module_version": "1.1.0",
      "model_name": "DescriptionStyleModel",
      "state": {
       "description_width": ""
      }
     },
     "02422156f4614e50978048c631e9703a": {
      "model_module": "@jupyter-widgets/controls",
      "model_module_version": "1.1.0",
      "model_name": "PlayModel",
      "state": {
       "layout": "IPY_MODEL_51c6b1ae9ea640f7bd5fd25c8ed39a03",
       "max": 1000000,
       "style": "IPY_MODEL_778f5beab914407285afa05d30c44b11"
      }
     },
     "026c0094fae44bc7a92777031dd023e2": {
      "model_module": "@jupyter-widgets/controls",
      "model_module_version": "1.1.0",
      "model_name": "HTMLModel",
      "state": {
       "layout": "IPY_MODEL_4c5b8ae822874a49b9ea79039390c303",
       "style": "IPY_MODEL_20b96d2963f44b91a377a0a1538453b2",
       "value": "<img style=\"image-rendering: pixelated;\" src=\"data:image/gif;base64,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\" width=\"240\"/>"
      }
     },
     "028fb90dad1945e68e12e1a5d54a7897": {
      "model_module": "@jupyter-widgets/controls",
      "model_module_version": "1.1.0",
      "model_name": "SliderStyleModel",
      "state": {
       "description_width": ""
      }
     },
     "02f835e94a1141b788d5dec5994495dd": {
      "model_module": "@jupyter-widgets/base",
      "model_module_version": "1.0.0",
      "model_name": "LayoutModel",
      "state": {}
     },
     "0364ae782f8046c58753023346594488": {
      "model_module": "@jupyter-widgets/controls",
      "model_module_version": "1.1.0",
      "model_name": "FloatSliderModel",
      "state": {
       "layout": "IPY_MODEL_8ae2552b15db4a4e818ca9a7fda8e55d",
       "readout": false,
       "step": 0.1,
       "style": "IPY_MODEL_f4b774103e4e4a8eb8c11cb4dcd0b648",
       "value": 50
      }
     },
     "03700f83ee774b099744898de5e0805b": {
      "model_module": "@jupyter-widgets/base",
      "model_module_version": "1.0.0",
      "model_name": "LayoutModel",
      "state": {}
     },
     "038430cbb82942b88476deb34156a57c": {
      "model_module": "@jupyter-widgets/controls",
      "model_module_version": "1.1.0",
      "model_name": "SliderStyleModel",
      "state": {
       "description_width": ""
      }
     },
     "03a615b0b36d4f74995e61184b6e14ed": {
      "model_module": "@jupyter-widgets/base",
      "model_module_version": "1.0.0",
      "model_name": "LayoutModel",
      "state": {}
     },
     "03bf69031f8f4af1802efbbcbe09483a": {
      "model_module": "@jupyter-widgets/base",
      "model_module_version": "1.0.0",
      "model_name": "LayoutModel",
      "state": {}
     },
     "03c479e919774e5798e2c9b20fc32f26": {
      "model_module": "@jupyter-widgets/controls",
      "model_module_version": "1.1.0",
      "model_name": "HBoxModel",
      "state": {
       "children": [
        "IPY_MODEL_5c59b2fe954344d7a08f69d0aca65f2f",
        "IPY_MODEL_7fdc2098db704f9da3971bf49eacf456",
        "IPY_MODEL_4cd3f012f4304bf190fcf52d6e3856b9"
       ],
       "layout": "IPY_MODEL_ea497bb42bfb4b4abf8f1d2134c5d748"
      }
     },
     "03d3ad5f07a1482099ca8eb2b06f66f1": {
      "model_module": "@jupyter-widgets/controls",
      "model_module_version": "1.1.0",
      "model_name": "ButtonModel",
      "state": {
       "icon": "step-forward",
       "layout": "IPY_MODEL_7e741a5a21194d56b76e1c11957597c1",
       "style": "IPY_MODEL_9c841b0d7f2548f781ce981ef918eeda"
      }
     },
     "03dadebaceb04fb186b1cf8f0edd1ee2": {
      "model_module": "@jupyter-widgets/base",
      "model_module_version": "1.0.0",
      "model_name": "LayoutModel",
      "state": {
       "height": "30px",
       "padding": "0px 0px 0px 10px",
       "width": "260px"
      }
     },
     "041b4df782ff4b21993a8e3e6e89708c": {
      "model_module": "@jupyter-widgets/controls",
      "model_module_version": "1.1.0",
      "model_name": "TextModel",
      "state": {
       "description": "Time:",
       "layout": "IPY_MODEL_3e0607aa2f9a41fa9041322b49d0bd1d",
       "style": "IPY_MODEL_8594cc40f27e46e786d2b071dcd1aad9",
       "value": "0.00 seconds"
      }
     },
     "0421eb610a354446a3dce4c9e86ad6ab": {
      "model_module": "@jupyter-widgets/controls",
      "model_module_version": "1.1.0",
      "model_name": "DescriptionStyleModel",
      "state": {
       "description_width": ""
      }
     },
     "04694a5db04741f380cbfedaeaf52e58": {
      "model_module": "@jupyter-widgets/base",
      "model_module_version": "1.0.0",
      "model_name": "LayoutModel",
      "state": {}
     },
     "04e25cd54bc14c4b906556d8b8937bb5": {
      "model_module": "@jupyter-widgets/controls",
      "model_module_version": "1.1.0",
      "model_name": "DescriptionStyleModel",
      "state": {
       "description_width": ""
      }
     },
     "04f235277b1346ee89557874c7d2259a": {
      "model_module": "@jupyter-widgets/controls",
      "model_module_version": "1.1.0",
      "model_name": "ButtonStyleModel",
      "state": {}
     },
     "056e28f12b0f4d5085e97dd6a6321a1a": {
      "model_module": "@jupyter-widgets/base",
      "model_module_version": "1.0.0",
      "model_name": "LayoutModel",
      "state": {}
     },
     "0573f83ce9c942578a7679a85539f29e": {
      "model_module": "@jupyter-widgets/controls",
      "model_module_version": "1.1.0",
      "model_name": "PlayModel",
      "state": {
       "layout": "IPY_MODEL_e953abd89a534769857f8475104b9536",
       "max": 1000000,
       "style": "IPY_MODEL_276caf7c123e4dba9098f1f595d3818b"
      }
     },
     "0597aa8b1b4547c985ce71a76daf5c6c": {
      "model_module": "@jupyter-widgets/base",
      "model_module_version": "1.0.0",
      "model_name": "LayoutModel",
      "state": {}
     },
     "05b6b7cf91714e8fa7fbe0bc7a68169c": {
      "model_module": "@jupyter-widgets/base",
      "model_module_version": "1.0.0",
      "model_name": "LayoutModel",
      "state": {}
     },
     "05bcf6ac46b6418193df129e0fbb9208": {
      "model_module": "@jupyter-widgets/base",
      "model_module_version": "1.0.0",
      "model_name": "LayoutModel",
      "state": {
       "height": "248px",
       "padding": "0px 0px 0px 0px",
       "width": "10px"
      }
     },
     "05c9fc8096f649048d05cf6aed6f4e86": {
      "model_module": "@jupyter-widgets/base",
      "model_module_version": "1.0.0",
      "model_name": "LayoutModel",
      "state": {
       "height": "30px",
       "padding": "0px 0px 0px 10px",
       "width": "260px"
      }
     },
     "05de76dc332d43e2a94d5c3c8c51469b": {
      "model_module": "@jupyter-widgets/controls",
      "model_module_version": "1.1.0",
      "model_name": "VBoxModel",
      "state": {
       "children": [
        "IPY_MODEL_93e85e10bcfc49e284700883acdce9d9",
        "IPY_MODEL_cdfa5fe17c6f45ac9684ee77d6b64fb8"
       ],
       "layout": "IPY_MODEL_011f5163824240e4bd0fccd1bb5fc6bf"
      }
     },
     "05ec821c20ae4a3685d5f96f6ac60500": {
      "model_module": "@jupyter-widgets/base",
      "model_module_version": "1.0.0",
      "model_name": "LayoutModel",
      "state": {}
     },
     "0605784bcaef4918bb9022010cc96f91": {
      "model_module": "@jupyter-widgets/base",
      "model_module_version": "1.0.0",
      "model_name": "LayoutModel",
      "state": {}
     },
     "0640bd94e8384c178a4d8ebbc0634305": {
      "model_module": "@jupyter-widgets/base",
      "model_module_version": "1.0.0",
      "model_name": "LayoutModel",
      "state": {}
     },
     "064622712ca345d5b4f662e5aaa19f80": {
      "model_module": "@jupyter-widgets/controls",
      "model_module_version": "1.1.0",
      "model_name": "VBoxModel",
      "state": {
       "children": [
        "IPY_MODEL_1dc51ef143964ccea311bcc6880814ed",
        "IPY_MODEL_0171a893defb4dcf8227a7d3a851386a"
       ],
       "layout": "IPY_MODEL_3b839ddec5fe42339a5ea4c63542f7cb"
      }
     },
     "064e7ba44f184def87a269a7908acd02": {
      "model_module": "@jupyter-widgets/controls",
      "model_module_version": "1.1.0",
      "model_name": "DescriptionStyleModel",
      "state": {
       "description_width": ""
      }
     },
     "064eaa237d0f4c2c90247eda6350b8c7": {
      "model_module": "@jupyter-widgets/controls",
      "model_module_version": "1.1.0",
      "model_name": "ButtonStyleModel",
      "state": {}
     },
     "0656a2c5e9a64687965c845afda26283": {
      "model_module": "@jupyter-widgets/base",
      "model_module_version": "1.0.0",
      "model_name": "LayoutModel",
      "state": {}
     },
     "0658be879dc944f5a37f0508e7b137c2": {
      "model_module": "@jupyter-widgets/controls",
      "model_module_version": "1.1.0",
      "model_name": "DescriptionStyleModel",
      "state": {
       "description_width": ""
      }
     },
     "06845ee9f1194f689be740ed1285057c": {
      "model_module": "@jupyter-widgets/base",
      "model_module_version": "1.0.0",
      "model_name": "LayoutModel",
      "state": {}
     },
     "06898f3d504140dcadcb8eda42ea18c7": {
      "model_module": "@jupyter-widgets/base",
      "model_module_version": "1.0.0",
      "model_name": "LayoutModel",
      "state": {}
     },
     "06927c8111524e67a4ca76f54f38e542": {
      "model_module": "@jupyter-widgets/controls",
      "model_module_version": "1.1.0",
      "model_name": "DescriptionStyleModel",
      "state": {
       "description_width": ""
      }
     },
     "069b5da699aa4cf5a075fec44db3a0e6": {
      "model_module": "@jupyter-widgets/controls",
      "model_module_version": "1.1.0",
      "model_name": "TextModel",
      "state": {
       "description": "Time:",
       "layout": "IPY_MODEL_6de4fc0b569c4d76acc8051f0a862147",
       "style": "IPY_MODEL_b09f1a470b8d4b518882987d12637c66",
       "value": "10.20 seconds"
      }
     },
     "06e16b2901374c3daf48b0f5888dc146": {
      "model_module": "@jupyter-widgets/base",
      "model_module_version": "1.0.0",
      "model_name": "LayoutModel",
      "state": {}
     },
     "0749fd1c0152462fbafa4930ecae82aa": {
      "model_module": "@jupyter-widgets/controls",
      "model_module_version": "1.1.0",
      "model_name": "SliderStyleModel",
      "state": {
       "description_width": ""
      }
     },
     "07636cbecf514bf8a7db657d6c6aeb13": {
      "model_module": "@jupyter-widgets/base",
      "model_module_version": "1.0.0",
      "model_name": "LayoutModel",
      "state": {}
     },
     "07c8db1d406f4df5b15ae54b125215cc": {
      "model_module": "@jupyter-widgets/controls",
      "model_module_version": "1.1.0",
      "model_name": "CheckboxModel",
      "state": {
       "description": "Update GUI",
       "disabled": false,
       "layout": "IPY_MODEL_45b20923d2d848c29a086a39177cea84",
       "style": "IPY_MODEL_69d822d030b649049be226b2373dcf13",
       "value": true
      }
     },
     "0837f38be3af47f59651d517ef694f41": {
      "model_module": "@jupyter-widgets/base",
      "model_module_version": "1.0.0",
      "model_name": "LayoutModel",
      "state": {
       "height": "20px",
       "padding": "0px 0px 0px 0px",
       "width": "248px"
      }
     },
     "0847c53d87d74333903c11baef9fba28": {
      "model_module": "@jupyter-widgets/controls",
      "model_module_version": "1.1.0",
      "model_name": "VBoxModel",
      "state": {
       "children": [
        "IPY_MODEL_11781458c21b489ea25de3c755f3553d",
        "IPY_MODEL_9aa4064749e741cfb2d9dfdf94e1ea9b"
       ],
       "layout": "IPY_MODEL_29d83bcd24cf4476925272731b1f7da1"
      }
     },
     "089550a453f04e3991afe42b35b62e7d": {
      "model_module": "@jupyter-widgets/controls",
      "model_module_version": "1.1.0",
      "model_name": "DescriptionStyleModel",
      "state": {
       "description_width": ""
      }
     },
     "089d2145699c47adb7e59fd8da6f591f": {
      "model_module": "@jupyter-widgets/controls",
      "model_module_version": "1.1.0",
      "model_name": "HBoxModel",
      "state": {
       "children": [
        "IPY_MODEL_e7651a22de904e749f67f17b810abb45",
        "IPY_MODEL_2c220d4f387f4c9a8e3f7932a9ee760a"
       ],
       "layout": "IPY_MODEL_7823a08b66ab4f2d8b3845d7758be007"
      }
     },
     "08c1392f20dc4079a5f1206e4d1c253a": {
      "model_module": "@jupyter-widgets/controls",
      "model_module_version": "1.1.0",
      "model_name": "FloatSliderModel",
      "state": {
       "layout": "IPY_MODEL_12531bd45a634da8b9ff2f9fa47ec93d",
       "readout": false,
       "step": 0.1,
       "style": "IPY_MODEL_0af71b8646bf422a849140a1d6047b65",
       "value": 50
      }
     },
     "08e48af598f849ea9d7181f92d78d0af": {
      "model_module": "@jupyter-widgets/base",
      "model_module_version": "1.0.0",
      "model_name": "LayoutModel",
      "state": {}
     },
     "08ea49354cd14c2c9de3d85dc6441336": {
      "model_module": "@jupyter-widgets/base",
      "model_module_version": "1.0.0",
      "model_name": "LayoutModel",
      "state": {}
     },
     "08efee6fca094506838e8825ef89bea6": {
      "model_module": "@jupyter-widgets/controls",
      "model_module_version": "1.1.0",
      "model_name": "SliderStyleModel",
      "state": {
       "description_width": ""
      }
     },
     "095b87fabe904afb990d691805dbac28": {
      "model_module": "@jupyter-widgets/base",
      "model_module_version": "1.0.0",
      "model_name": "LayoutModel",
      "state": {}
     },
     "0976f5b23c2c415ab5d4dde698091e3a": {
      "model_module": "@jupyter-widgets/controls",
      "model_module_version": "1.1.0",
      "model_name": "DescriptionStyleModel",
      "state": {
       "description_width": ""
      }
     },
     "0994e4d7f7b5453a986d718ede34f334": {
      "model_module": "@jupyter-widgets/controls",
      "model_module_version": "1.1.0",
      "model_name": "DescriptionStyleModel",
      "state": {
       "description_width": ""
      }
     },
     "09a9f12687d54c44b07b52582c91683f": {
      "model_module": "@jupyter-widgets/controls",
      "model_module_version": "1.1.0",
      "model_name": "PlayModel",
      "state": {
       "layout": "IPY_MODEL_5ddf5b2b90c54203868cbc932efaa882",
       "max": 1000000,
       "style": "IPY_MODEL_6f3749b43806418199eb7a4002b81f88"
      }
     },
     "09ba8ffd794143c1bc9dbf2b6851a2a5": {
      "model_module": "@jupyter-widgets/base",
      "model_module_version": "1.0.0",
      "model_name": "LayoutModel",
      "state": {}
     },
     "0a3652a93fbd4af8bd75e284eb4fd184": {
      "model_module": "@jupyter-widgets/controls",
      "model_module_version": "1.1.0",
      "model_name": "FloatSliderModel",
      "state": {
       "layout": "IPY_MODEL_62d6b239ddb74d8f8b3aaa27f241bc37",
       "readout": false,
       "step": 0.1,
       "style": "IPY_MODEL_c79ec166b6a648b3b6c58f461d8dba07",
       "value": 50
      }
     },
     "0a758de56cb4441890b18b9ffcde2cb8": {
      "model_module": "@jupyter-widgets/controls",
      "model_module_version": "1.1.0",
      "model_name": "FloatSliderModel",
      "state": {
       "layout": "IPY_MODEL_48116981dd6345de8f8ee6a5a51ae5e6",
       "readout": false,
       "step": 0.1,
       "style": "IPY_MODEL_517ac515e807471e845fb3449f065682",
       "value": 50
      }
     },
     "0a773d4b133849deb52d0f0848c56ae1": {
      "model_module": "@jupyter-widgets/controls",
      "model_module_version": "1.1.0",
      "model_name": "CheckboxModel",
      "state": {
       "description": "Update GUI",
       "disabled": false,
       "layout": "IPY_MODEL_7b937afec59242708214807e1b3802ea",
       "style": "IPY_MODEL_e86da0d7a44d4485aeb0296d46a601a6",
       "value": true
      }
     },
     "0af71b8646bf422a849140a1d6047b65": {
      "model_module": "@jupyter-widgets/controls",
      "model_module_version": "1.1.0",
      "model_name": "SliderStyleModel",
      "state": {
       "description_width": ""
      }
     },
     "0b2125e20d964ee483c6c58056ebd9ef": {
      "model_module": "@jupyter-widgets/controls",
      "model_module_version": "1.1.0",
      "model_name": "DescriptionStyleModel",
      "state": {
       "description_width": ""
      }
     },
     "0b91c1b1921649cdba187058f9ae6594": {
      "model_module": "@jupyter-widgets/controls",
      "model_module_version": "1.1.0",
      "model_name": "SliderStyleModel",
      "state": {
       "description_width": ""
      }
     },
     "0b9303f04c694c36ad14e73467b78f56": {
      "model_module": "@jupyter-widgets/base",
      "model_module_version": "1.0.0",
      "model_name": "LayoutModel",
      "state": {}
     },
     "0b9a2964e74647b59f3ac488838da1fd": {
      "model_module": "@jupyter-widgets/base",
      "model_module_version": "1.0.0",
      "model_name": "LayoutModel",
      "state": {}
     },
     "0ba832e111fd4e6191a348cc38c8db8c": {
      "model_module": "@jupyter-widgets/controls",
      "model_module_version": "1.1.0",
      "model_name": "DescriptionStyleModel",
      "state": {
       "description_width": ""
      }
     },
     "0bafb977b1f640b58a9932af6b3b3f0f": {
      "model_module": "@jupyter-widgets/base",
      "model_module_version": "1.0.0",
      "model_name": "LayoutModel",
      "state": {}
     },
     "0c47c5a57d794222b00076cea24e6f82": {
      "model_module": "@jupyter-widgets/base",
      "model_module_version": "1.0.0",
      "model_name": "LayoutModel",
      "state": {
       "height": "30px",
       "padding": "0px 0px 0px 10px",
       "width": "260px"
      }
     },
     "0c593ad13d5f4b07a14ea7f12146c9e6": {
      "model_module": "@jupyter-widgets/controls",
      "model_module_version": "1.1.0",
      "model_name": "ButtonStyleModel",
      "state": {}
     },
     "0c719b9a9e574356835d165b70334298": {
      "model_module": "@jupyter-widgets/base",
      "model_module_version": "1.0.0",
      "model_name": "LayoutModel",
      "state": {
       "height": "20px",
       "padding": "0px 0px 0px 0px",
       "width": "248px"
      }
     },
     "0d54a615af9840bdbb1d0a9cf2e27e46": {
      "model_module": "@jupyter-widgets/controls",
      "model_module_version": "1.1.0",
      "model_name": "FloatSliderModel",
      "state": {
       "layout": "IPY_MODEL_3668808ba5684f518307e8d27bae0799",
       "orientation": "vertical",
       "readout": false,
       "step": 0.1,
       "style": "IPY_MODEL_7d58e2a77aff473bb46b4950081a4c39",
       "value": 70.22509072764468
      }
     },
     "0d7eefc0748c4a5daf65ecf9ea641d04": {
      "model_module": "@jupyter-widgets/controls",
      "model_module_version": "1.1.0",
      "model_name": "HTMLModel",
      "state": {
       "layout": "IPY_MODEL_72cede9b6b7c4f24bc9fcf79fcce86ce",
       "style": "IPY_MODEL_0ba832e111fd4e6191a348cc38c8db8c",
       "value": "<svg baseProfile=\"full\" height=\"240\" version=\"1.1\" width=\"240\" xmlns=\"http://www.w3.org/2000/svg\" xmlns:ev=\"http://www.w3.org/2001/xml-events\" xmlns:xlink=\"http://www.w3.org/1999/xlink\"><defs /><rect fill=\"#eef3dd\" height=\"240.0\" stroke=\"#bebebe\" stroke-width=\"1\" width=\"120.0\" x=\"0.0\" y=\"0.0\" /><line fill=\"#800080\" stroke=\"#add8e6\" stroke-width=\"1\" x1=\"49.5\" x2=\"0.0\" y1=\"174.0\" y2=\"174.0\" /><line fill=\"#800080\" stroke=\"#add8e6\" stroke-width=\"1\" x1=\"51.0\" x2=\"0.0\" y1=\"169.8\" y2=\"146.01830999999999\" /><line fill=\"#800080\" stroke=\"#add8e6\" stroke-width=\"1\" x1=\"53.4\" x2=\"0.0\" y1=\"168.0\" y2=\"104.360358\" /><line fill=\"#800080\" stroke=\"#add8e6\" stroke-width=\"1\" x1=\"57.0\" x2=\"12.386458737015545\" y1=\"166.5\" y2=\"0.0\" /><line fill=\"#800080\" stroke=\"#add8e6\" stroke-width=\"1\" x1=\"63.0\" x2=\"107.61354126298446\" y1=\"166.5\" y2=\"0.0\" /><line fill=\"#800080\" stroke=\"#add8e6\" stroke-width=\"1\" x1=\"66.60000000000001\" x2=\"120.0\" y1=\"168.0\" y2=\"104.360358\" /><line fill=\"#800080\" stroke=\"#add8e6\" stroke-width=\"1\" x1=\"69.0\" x2=\"120.0\" y1=\"169.8\" y2=\"146.01830999999999\" /><line fill=\"#800080\" stroke=\"#add8e6\" stroke-width=\"1\" x1=\"70.5\" x2=\"120.0\" y1=\"174.0\" y2=\"174.0\" /><polygon fill=\"red\" points=\"55.2,166.5 49.5,171.0 49.5,189.0 55.2,193.5 64.80000000000001,193.5 70.5,189.0 70.5,171.0 64.80000000000001,166.5\" stroke=\"red\" stroke-width=\"1\" /><polygon points=\"-3.0,-3.0 0,0 3.0,-3.0 0,3.0\" stroke=\"black\" stroke-width=\"1\" transform=\"translate(60.0,180.0) rotate(180.0)\" /></svg>"
      }
     },
     "0d8b9f346df1431cad34d5777c25c160": {
      "model_module": "@jupyter-widgets/controls",
      "model_module_version": "1.1.0",
      "model_name": "HBoxModel",
      "state": {
       "children": [
        "IPY_MODEL_bdca90b50f18457c8bddb586696be330",
        "IPY_MODEL_cc95a3a3224c49a98f8bf683c452fc7a"
       ],
       "layout": "IPY_MODEL_65bcf00fb0854f34939ada0559868789"
      }
     },
     "0d91c4ea422e4f12a4e6847db2236d1f": {
      "model_module": "@jupyter-widgets/controls",
      "model_module_version": "1.1.0",
      "model_name": "ButtonModel",
      "state": {
       "icon": "step-forward",
       "layout": "IPY_MODEL_29cdcf7f2ba34d91b08ad778c3334ecd",
       "style": "IPY_MODEL_1c96df4588a445e6bcb67b03bd77b4fb"
      }
     },
     "0d9e01d2832347efa66c77316c5ef9b1": {
      "model_module": "@jupyter-widgets/base",
      "model_module_version": "1.0.0",
      "model_name": "LayoutModel",
      "state": {}
     },
     "0dce4bd540624a3ebe8870ad1711f52d": {
      "model_module": "@jupyter-widgets/base",
      "model_module_version": "1.0.0",
      "model_name": "LayoutModel",
      "state": {}
     },
     "0df08f39053542d5914aa2d29776af42": {
      "model_module": "@jupyter-widgets/base",
      "model_module_version": "1.0.0",
      "model_name": "LayoutModel",
      "state": {}
     },
     "0e0ffc73101d4b049dcf99ad33f71f14": {
      "model_module": "@jupyter-widgets/base",
      "model_module_version": "1.0.0",
      "model_name": "LayoutModel",
      "state": {}
     },
     "0e206642de5643e0b1a8977f58c8adea": {
      "model_module": "@jupyter-widgets/controls",
      "model_module_version": "1.1.0",
      "model_name": "DescriptionStyleModel",
      "state": {
       "description_width": ""
      }
     },
     "0e266ad653c446ffbabb6bcf5fb21ab6": {
      "model_module": "@jupyter-widgets/controls",
      "model_module_version": "1.1.0",
      "model_name": "DescriptionStyleModel",
      "state": {
       "description_width": ""
      }
     },
     "0e2b515464cf476b8e34f57bdd87cb85": {
      "model_module": "@jupyter-widgets/controls",
      "model_module_version": "1.1.0",
      "model_name": "IntTextModel",
      "state": {
       "description": "Vertical space between layers:",
       "layout": "IPY_MODEL_61399607d3574d29aa33e3c498daa217",
       "step": 1,
       "style": "IPY_MODEL_2a07bf88b02740d48e7ae70dc0c5ea68",
       "value": 30
      }
     },
     "0e469a71dbb24a759427f123c807d49e": {
      "model_module": "@jupyter-widgets/controls",
      "model_module_version": "1.1.0",
      "model_name": "ButtonModel",
      "state": {
       "icon": "step-forward",
       "layout": "IPY_MODEL_f82e2d5ae3d44be4ab351cb7d73986c4",
       "style": "IPY_MODEL_cb8628931d8141e18d5d6a4f7b5006fe"
      }
     },
     "0e98e23bb50940a7b9aea9d65572a19c": {
      "model_module": "@jupyter-widgets/controls",
      "model_module_version": "1.1.0",
      "model_name": "SliderStyleModel",
      "state": {
       "description_width": ""
      }
     },
     "0edcc91ee3e94d0aac93d9d165a38e98": {
      "model_module": "@jupyter-widgets/base",
      "model_module_version": "1.0.0",
      "model_name": "LayoutModel",
      "state": {}
     },
     "0f01c292b9a54d81a161f29b4dcbe811": {
      "model_module": "@jupyter-widgets/controls",
      "model_module_version": "1.1.0",
      "model_name": "FloatSliderModel",
      "state": {
       "continuous_update": false,
       "description": "Zoom",
       "layout": "IPY_MODEL_b5231083f5da4191a1c61ece03075b88",
       "max": 3,
       "min": 0.5,
       "step": 0.1,
       "style": "IPY_MODEL_37c70fddb7974c739e2adcf08b6d7c98",
       "value": 1.6
      }
     },
     "0f1456a372ba416c8f08a7fa1e282a98": {
      "model_module": "@jupyter-widgets/controls",
      "model_module_version": "1.1.0",
      "model_name": "VBoxModel",
      "state": {
       "children": [
        "IPY_MODEL_b0cbfec2a58346b2bfd4bb4c59da0ece",
        "IPY_MODEL_af2039f383784b5d84b65274e91cb0fe"
       ],
       "layout": "IPY_MODEL_d268579011cd4852b6c7da48d743cc86"
      }
     },
     "0f3828c907a64812a3c5265bc4d180ec": {
      "model_module": "@jupyter-widgets/controls",
      "model_module_version": "1.1.0",
      "model_name": "SliderStyleModel",
      "state": {
       "description_width": ""
      }
     },
     "0f3992e899784113bf0c86d053d54935": {
      "model_module": "@jupyter-widgets/controls",
      "model_module_version": "1.1.0",
      "model_name": "HBoxModel",
      "state": {
       "children": [
        "IPY_MODEL_846677ae346f4ad2ace986d390770f91",
        "IPY_MODEL_ba0d7e3836c845e99a71431fd3ab9e56"
       ],
       "layout": "IPY_MODEL_977b6ba5b8cf4c7da50177f412eaaa7b"
      }
     },
     "0f3c38690df148cf9959584d70221109": {
      "model_module": "@jupyter-widgets/controls",
      "model_module_version": "1.1.0",
      "model_name": "DescriptionStyleModel",
      "state": {
       "description_width": ""
      }
     },
     "0f623a0b5be64151b7bae1be64b351d8": {
      "model_module": "@jupyter-widgets/controls",
      "model_module_version": "1.1.0",
      "model_name": "CheckboxModel",
      "state": {
       "description": "Trace Path",
       "disabled": false,
       "layout": "IPY_MODEL_7a6623dbd99246779408fc0c0b2868bf",
       "style": "IPY_MODEL_089550a453f04e3991afe42b35b62e7d",
       "value": false
      }
     },
     "0f82006d79b3413bbc17f828dbd9f8d7": {
      "model_module": "@jupyter-widgets/base",
      "model_module_version": "1.0.0",
      "model_name": "LayoutModel",
      "state": {}
     },
     "102d9bd5542949b7865140c5e420f21c": {
      "model_module": "@jupyter-widgets/base",
      "model_module_version": "1.0.0",
      "model_name": "LayoutModel",
      "state": {}
     },
     "10698176b9444f268a8646969af656bb": {
      "model_module": "@jupyter-widgets/base",
      "model_module_version": "1.0.0",
      "model_name": "LayoutModel",
      "state": {}
     },
     "1090df4fcb60488f8fcd008a155882ce": {
      "model_module": "@jupyter-widgets/base",
      "model_module_version": "1.0.0",
      "model_name": "LayoutModel",
      "state": {}
     },
     "10bd8e37350b452ca3e19dd2d7dfc206": {
      "model_module": "@jupyter-widgets/controls",
      "model_module_version": "1.1.0",
      "model_name": "DescriptionStyleModel",
      "state": {
       "description_width": ""
      }
     },
     "10dfc40511b6467d8d4fd7f4c3386eb6": {
      "model_module": "@jupyter-widgets/base",
      "model_module_version": "1.0.0",
      "model_name": "LayoutModel",
      "state": {}
     },
     "110e4ede31e746b3a9acc1ee4da91fdf": {
      "model_module": "@jupyter-widgets/base",
      "model_module_version": "1.0.0",
      "model_name": "LayoutModel",
      "state": {}
     },
     "11294d4691584bbba79536cb5dd6af5e": {
      "model_module": "@jupyter-widgets/controls",
      "model_module_version": "1.1.0",
      "model_name": "FloatSliderModel",
      "state": {
       "layout": "IPY_MODEL_0837f38be3af47f59651d517ef694f41",
       "readout": false,
       "step": 0.1,
       "style": "IPY_MODEL_e8db9f92fcd24ce28d645298d9c9295f",
       "value": 83.7
      }
     },
     "11445130b2d04698848a774e33770ed3": {
      "model_module": "@jupyter-widgets/base",
      "model_module_version": "1.0.0",
      "model_name": "LayoutModel",
      "state": {}
     },
     "11498ccb9d96490e9fa79987ff3f04bd": {
      "model_module": "@jupyter-widgets/base",
      "model_module_version": "1.0.0",
      "model_name": "LayoutModel",
      "state": {
       "height": "30px",
       "padding": "0px 0px 0px 10px",
       "width": "260px"
      }
     },
     "11707bfbe44b4dc19c584de6d6e76425": {
      "model_module": "@jupyter-widgets/controls",
      "model_module_version": "1.1.0",
      "model_name": "DescriptionStyleModel",
      "state": {
       "description_width": "initial"
      }
     },
     "11781458c21b489ea25de3c755f3553d": {
      "model_module": "@jupyter-widgets/controls",
      "model_module_version": "1.1.0",
      "model_name": "HBoxModel",
      "state": {
       "children": [
        "IPY_MODEL_3045ac9f405d4b58a23190816eef0f77",
        "IPY_MODEL_b98fa2b7eb1a491a8269301f09975f96"
       ],
       "layout": "IPY_MODEL_f252cf8f49f64c6e958b6c6d25026212"
      }
     },
     "1216ff9cc2a04f23ba3ffd2bb46e1b80": {
      "model_module": "@jupyter-widgets/controls",
      "model_module_version": "1.1.0",
      "model_name": "ButtonModel",
      "state": {
       "icon": "step-forward",
       "layout": "IPY_MODEL_b2757c9eee3349be9448266a63d0dc49",
       "style": "IPY_MODEL_c86170d7d5ff4fbbbfa9c37d53ddd447"
      }
     },
     "12531bd45a634da8b9ff2f9fa47ec93d": {
      "model_module": "@jupyter-widgets/base",
      "model_module_version": "1.0.0",
      "model_name": "LayoutModel",
      "state": {
       "height": "30px",
       "padding": "0px 0px 0px 10px",
       "width": "260px"
      }
     },
     "12b178291850495ba399b5554cffea08": {
      "model_module": "@jupyter-widgets/base",
      "model_module_version": "1.0.0",
      "model_name": "LayoutModel",
      "state": {}
     },
     "12c1dd32b83f40588d4fa1f69667acd5": {
      "model_module": "@jupyter-widgets/controls",
      "model_module_version": "1.1.0",
      "model_name": "HBoxModel",
      "state": {
       "children": [
        "IPY_MODEL_39156f51ee61470eb1fbe85599bf46f6",
        "IPY_MODEL_caa3e2590e4246aa8b780fde4b799b41"
       ],
       "layout": "IPY_MODEL_a122cc5d957b45d28acf1f8c31851ccf"
      }
     },
     "12c94af26ef540b1b03a00d3cf02abfe": {
      "model_module": "@jupyter-widgets/controls",
      "model_module_version": "1.1.0",
      "model_name": "DescriptionStyleModel",
      "state": {
       "description_width": ""
      }
     },
     "12cae0694acd42b69c90c621b2c30ec6": {
      "model_module": "@jupyter-widgets/base",
      "model_module_version": "1.0.0",
      "model_name": "LayoutModel",
      "state": {}
     },
     "132c8e10b1fc478b93590c33e05f35cd": {
      "model_module": "@jupyter-widgets/controls",
      "model_module_version": "1.1.0",
      "model_name": "HBoxModel",
      "state": {
       "children": [
        "IPY_MODEL_a9536af6c9a5434183864b5727a59dbf",
        "IPY_MODEL_902d5f0d366040c3aec4717a81b4c506",
        "IPY_MODEL_c9e264725a584b478f4336e3cc4ec401"
       ],
       "layout": "IPY_MODEL_f41528b10a0949f68cb49b9bd9e7c5d4"
      }
     },
     "136f5f510ad94929880fa6314972e9c8": {
      "model_module": "@jupyter-widgets/controls",
      "model_module_version": "1.1.0",
      "model_name": "ButtonModel",
      "state": {
       "icon": "step-forward",
       "layout": "IPY_MODEL_608d23251de442a9814471b4c65c4346",
       "style": "IPY_MODEL_fd51f79722234a0ba51c51b125c40097"
      }
     },
     "1371129e6dad4e798d903bf6adde2e15": {
      "model_module": "@jupyter-widgets/base",
      "model_module_version": "1.0.0",
      "model_name": "LayoutModel",
      "state": {}
     },
     "1375c8572a8848cebfd08dfe2a917600": {
      "model_module": "@jupyter-widgets/controls",
      "model_module_version": "1.1.0",
      "model_name": "PlayModel",
      "state": {
       "layout": "IPY_MODEL_0e0ffc73101d4b049dcf99ad33f71f14",
       "max": 1000000,
       "style": "IPY_MODEL_aa30f58ce3594e4caa25e3787fea6b48",
       "value": 126
      }
     },
     "13a679887a814f8c914e6c5724cd5a44": {
      "model_module": "@jupyter-widgets/base",
      "model_module_version": "1.0.0",
      "model_name": "LayoutModel",
      "state": {
       "width": "100%"
      }
     },
     "13cf2d82f6834716b923d42b1c8fd4be": {
      "model_module": "@jupyter-widgets/controls",
      "model_module_version": "1.1.0",
      "model_name": "DescriptionStyleModel",
      "state": {
       "description_width": ""
      }
     },
     "1447eb4146f242819458ca87fdfb535d": {
      "model_module": "@jupyter-widgets/controls",
      "model_module_version": "1.1.0",
      "model_name": "DescriptionStyleModel",
      "state": {
       "description_width": ""
      }
     },
     "14a5d017d2f547588928891542d1b173": {
      "model_module": "@jupyter-widgets/controls",
      "model_module_version": "1.1.0",
      "model_name": "VBoxModel",
      "state": {
       "children": [
        "IPY_MODEL_9c954b6e8b2240df8fbb68363042971c",
        "IPY_MODEL_697a4b7e1f5c4aba9d6ffab354fb8b02"
       ],
       "layout": "IPY_MODEL_0bafb977b1f640b58a9932af6b3b3f0f"
      }
     },
     "14e94770f7764cb8abbc4b89f992116b": {
      "model_module": "@jupyter-widgets/output",
      "model_module_version": "1.1.0",
      "model_name": "OutputModel",
      "state": {
       "_model_module_version": "1.1.0",
       "_view_module_version": "1.1.0",
       "layout": "IPY_MODEL_b157d3ec0fdf4f4cb88e86c75aaad79f"
      }
     },
     "159ac5d5643b475ca5d46fd634166a77": {
      "model_module": "@jupyter-widgets/controls",
      "model_module_version": "1.1.0",
      "model_name": "SliderStyleModel",
      "state": {
       "description_width": ""
      }
     },
     "162c1a5977954c26a2ea8f365dfb5c33": {
      "model_module": "@jupyter-widgets/controls",
      "model_module_version": "1.1.0",
      "model_name": "HBoxModel",
      "state": {
       "children": [
        "IPY_MODEL_6ea2ada2de9848ec96c63f7ad2ce9891",
        "IPY_MODEL_aaaa5337512d4cb392accf04dd699dbf"
       ],
       "layout": "IPY_MODEL_6acb94daeaf0480c900e59eb9ddc36f3"
      }
     },
     "166685e373d54a34a4053a93a5140e87": {
      "model_module": "@jupyter-widgets/controls",
      "model_module_version": "1.1.0",
      "model_name": "HBoxModel",
      "state": {
       "children": [
        "IPY_MODEL_e6edcbda11e2458db9523f892fbf19ac",
        "IPY_MODEL_f913ecfff3684941902ce87aef14dc96"
       ],
       "layout": "IPY_MODEL_536cc0ad5979414e9751ef0f6b39febb"
      }
     },
     "166cc8a027bd4834a615f8d944269d33": {
      "model_module": "@jupyter-widgets/base",
      "model_module_version": "1.0.0",
      "model_name": "LayoutModel",
      "state": {}
     },
     "168776db73f840cd9bf3735702c9d9f0": {
      "model_module": "@jupyter-widgets/controls",
      "model_module_version": "1.1.0",
      "model_name": "ButtonModel",
      "state": {
       "description": "Clear Output",
       "layout": "IPY_MODEL_06e16b2901374c3daf48b0f5888dc146",
       "style": "IPY_MODEL_4f99b0606d5e48058d0ab9d31bb2b44c"
      }
     },
     "1693f2fd0f6b42038fc119c66e0d8bde": {
      "model_module": "@jupyter-widgets/base",
      "model_module_version": "1.0.0",
      "model_name": "LayoutModel",
      "state": {}
     },
     "16ebb9e224964973ae5a2390f73c995a": {
      "model_module": "@jupyter-widgets/base",
      "model_module_version": "1.0.0",
      "model_name": "LayoutModel",
      "state": {
       "height": "20px",
       "padding": "0px 0px 0px 0px",
       "width": "248px"
      }
     },
     "170d2df66d7b4f0a98c853cd0ddec813": {
      "model_module": "@jupyter-widgets/base",
      "model_module_version": "1.0.0",
      "model_name": "LayoutModel",
      "state": {}
     },
     "175ef0d3b4724d20a2edcc6ea8941640": {
      "model_module": "@jupyter-widgets/base",
      "model_module_version": "1.0.0",
      "model_name": "LayoutModel",
      "state": {}
     },
     "17643d4676f94f7294f22acc48afbad9": {
      "model_module": "@jupyter-widgets/controls",
      "model_module_version": "1.1.0",
      "model_name": "ButtonStyleModel",
      "state": {}
     },
     "176b344cf94c41b7971dd991a4ad431c": {
      "model_module": "@jupyter-widgets/base",
      "model_module_version": "1.0.0",
      "model_name": "LayoutModel",
      "state": {}
     },
     "176f993a604945f7aadb1f8f84897253": {
      "model_module": "@jupyter-widgets/controls",
      "model_module_version": "1.1.0",
      "model_name": "HBoxModel",
      "state": {
       "children": [
        "IPY_MODEL_23f307b2784645d9ba6a42359f19a16c",
        "IPY_MODEL_87f493de814944bf9100cd81a3900537",
        "IPY_MODEL_5044d00aeaee41039b6ae17c8e4fb952"
       ],
       "layout": "IPY_MODEL_6a4faaed051d4c519ef1b8de49e81c40"
      }
     },
     "177c9a3b00484f008e87698f78c7a6ed": {
      "model_module": "@jupyter-widgets/controls",
      "model_module_version": "1.1.0",
      "model_name": "PlayModel",
      "state": {
       "layout": "IPY_MODEL_fbdc16e93f754f4db8e57f3174536dfc",
       "max": 1000000,
       "style": "IPY_MODEL_2a3b49130bf04fe6b40792819e4f00ca",
       "value": 58
      }
     },
     "17cad852ab0343b48ba98e9f9811551c": {
      "model_module": "@jupyter-widgets/controls",
      "model_module_version": "1.1.0",
      "model_name": "VBoxModel",
      "state": {
       "children": [
        "IPY_MODEL_0d8b9f346df1431cad34d5777c25c160",
        "IPY_MODEL_0364ae782f8046c58753023346594488"
       ],
       "layout": "IPY_MODEL_d9beee9da4ce407ab04788ebb761e754"
      }
     },
     "17d909d7073a45d28a294545580282db": {
      "model_module": "@jupyter-widgets/controls",
      "model_module_version": "1.1.0",
      "model_name": "FloatSliderModel",
      "state": {
       "layout": "IPY_MODEL_44148e0866d94a0f8a02736be1233844",
       "readout": false,
       "step": 0.1,
       "style": "IPY_MODEL_809e1a8ea49e4fd093fb2332b502beca",
       "value": 100
      }
     },
     "17e2d8a67f6d4f40bad58cefca3e0b6f": {
      "model_module": "@jupyter-widgets/controls",
      "model_module_version": "1.1.0",
      "model_name": "FloatSliderModel",
      "state": {
       "layout": "IPY_MODEL_05bcf6ac46b6418193df129e0fbb9208",
       "orientation": "vertical",
       "readout": false,
       "step": 0.1,
       "style": "IPY_MODEL_96b98123b6424e2c8f75ac04c49277c5",
       "value": 30.24845684010075
      }
     },
     "183c4c81d0154a76bfb0e1e0f7777e80": {
      "model_module": "@jupyter-widgets/controls",
      "model_module_version": "1.1.0",
      "model_name": "DescriptionStyleModel",
      "state": {
       "description_width": ""
      }
     },
     "183e022f18614af9ab43cd33f9ea27d1": {
      "model_module": "@jupyter-widgets/controls",
      "model_module_version": "1.1.0",
      "model_name": "SliderStyleModel",
      "state": {
       "description_width": ""
      }
     },
     "18aca34575364a4e878667deeaa8afb3": {
      "model_module": "@jupyter-widgets/base",
      "model_module_version": "1.0.0",
      "model_name": "LayoutModel",
      "state": {}
     },
     "18ceca205a114a0ea460a2a75a610b3e": {
      "model_module": "@jupyter-widgets/base",
      "model_module_version": "1.0.0",
      "model_name": "LayoutModel",
      "state": {}
     },
     "18e3a806b9494194879605b200786857": {
      "model_module": "@jupyter-widgets/base",
      "model_module_version": "1.0.0",
      "model_name": "LayoutModel",
      "state": {}
     },
     "1915f8ef25604c3eb0e49db4a5eb1da1": {
      "model_module": "@jupyter-widgets/base",
      "model_module_version": "1.0.0",
      "model_name": "LayoutModel",
      "state": {}
     },
     "192add56b28148638879563f30c90918": {
      "model_module": "@jupyter-widgets/controls",
      "model_module_version": "1.1.0",
      "model_name": "SliderStyleModel",
      "state": {
       "description_width": ""
      }
     },
     "199248e68bf840e2a9fd04c90f46359d": {
      "model_module": "@jupyter-widgets/controls",
      "model_module_version": "1.1.0",
      "model_name": "DescriptionStyleModel",
      "state": {
       "description_width": ""
      }
     },
     "1995c7aa6ed948ad9fd37df84cdfd307": {
      "model_module": "@jupyter-widgets/controls",
      "model_module_version": "1.1.0",
      "model_name": "FloatSliderModel",
      "state": {
       "layout": "IPY_MODEL_32018ffd77704357b2a37354516ffa2e",
       "readout": false,
       "step": 0.1,
       "style": "IPY_MODEL_419e49412b98452db54b7ec22c2d1c30",
       "value": 100
      }
     },
     "19dc032411284593ab0e52d56202c2e4": {
      "model_module": "@jupyter-widgets/base",
      "model_module_version": "1.0.0",
      "model_name": "LayoutModel",
      "state": {}
     },
     "19e12e5a084f4d6ca8b44532e5ca07c5": {
      "model_module": "@jupyter-widgets/controls",
      "model_module_version": "1.1.0",
      "model_name": "ButtonModel",
      "state": {
       "description": "Clear Output",
       "layout": "IPY_MODEL_8df39fe945344aa4ac881617a13697e6",
       "style": "IPY_MODEL_680ec37501584f569e299e482f7b0ac8"
      }
     },
     "1a06b48d37f141678bed8583d37e7e93": {
      "model_module": "@jupyter-widgets/controls",
      "model_module_version": "1.1.0",
      "model_name": "VBoxModel",
      "state": {
       "children": [
        "IPY_MODEL_ae94df96105044b8b6c580938195297c",
        "IPY_MODEL_405638900e8f46e0a0c929809b7bc170",
        "IPY_MODEL_b2382e35576a4172a9f74a71eab6224f"
       ],
       "layout": "IPY_MODEL_f4a6123fb35b4500a23cc03138a97342"
      }
     },
     "1a099ee2ab2c4f57a215869790155d42": {
      "model_module": "@jupyter-widgets/controls",
      "model_module_version": "1.1.0",
      "model_name": "HBoxModel",
      "state": {
       "children": [
        "IPY_MODEL_a3070482a1da4a3c862c012bb75054e8",
        "IPY_MODEL_b73d028e1fc845c38e8dfffbbc54a983"
       ],
       "layout": "IPY_MODEL_e1bcf28f099947789ce03cf0b0c43630"
      }
     },
     "1a11c5cf812742ac937f98d520756b77": {
      "model_module": "@jupyter-widgets/base",
      "model_module_version": "1.0.0",
      "model_name": "LayoutModel",
      "state": {}
     },
     "1a54be96712141cebc61421417012a40": {
      "model_module": "@jupyter-widgets/controls",
      "model_module_version": "1.1.0",
      "model_name": "VBoxModel",
      "state": {
       "children": [
        "IPY_MODEL_59900bda54184118a5d46b3c4b8c09b1",
        "IPY_MODEL_4cbd53738f934113a09cf5b358d42e7b"
       ],
       "layout": "IPY_MODEL_b273db13212343088566bab0ab6ddd8f"
      }
     },
     "1a8ad3a0172546be8653a555ec1eeaf3": {
      "model_module": "@jupyter-widgets/controls",
      "model_module_version": "1.1.0",
      "model_name": "HTMLModel",
      "state": {
       "layout": "IPY_MODEL_21176371d6584ce296f82cd3f9684696",
       "style": "IPY_MODEL_e2f44cbf2ac24e3aae9800632c1c2fac",
       "value": "<img style=\"image-rendering: pixelated;\" src=\"data:image/gif;base64,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\" width=\"240\"/>"
      }
     },
     "1aa80bacfab1497e8cffd867445f8720": {
      "model_module": "@jupyter-widgets/base",
      "model_module_version": "1.0.0",
      "model_name": "LayoutModel",
      "state": {}
     },
     "1ac1a99b1dc04ed49517341d182fb091": {
      "model_module": "@jupyter-widgets/base",
      "model_module_version": "1.0.0",
      "model_name": "LayoutModel",
      "state": {}
     },
     "1ae150c5a64244798a9be47f80a147c0": {
      "model_module": "@jupyter-widgets/controls",
      "model_module_version": "1.1.0",
      "model_name": "HBoxModel",
      "state": {
       "children": [
        "IPY_MODEL_27bf7a02224e4f95b564f511dd32fa79",
        "IPY_MODEL_177c9a3b00484f008e87698f78c7a6ed",
        "IPY_MODEL_4bb6169bc8274f25bacca65e26589c0b"
       ],
       "layout": "IPY_MODEL_d97a6e054bd04a958fa9207a31fe1cb2"
      }
     },
     "1aea136ca90e4656a3f174b183e7cfdd": {
      "model_module": "@jupyter-widgets/controls",
      "model_module_version": "1.1.0",
      "model_name": "DescriptionStyleModel",
      "state": {
       "description_width": ""
      }
     },
     "1b6fa7c55285416ba87546cb848b80ee": {
      "model_module": "@jupyter-widgets/base",
      "model_module_version": "1.0.0",
      "model_name": "LayoutModel",
      "state": {}
     },
     "1b73429b244a4cbb8b304231b65e8d7d": {
      "model_module": "@jupyter-widgets/controls",
      "model_module_version": "1.1.0",
      "model_name": "HBoxModel",
      "state": {
       "children": [
        "IPY_MODEL_8002f9f36c3644b48f798e1653bedcf8",
        "IPY_MODEL_ca6178c2e6dd4c699670f5ebcfb011b2",
        "IPY_MODEL_795786a9970b403793e6d894a8b4d39a"
       ],
       "layout": "IPY_MODEL_b69f9f48b6564f63afd55363d7fbfa3b"
      }
     },
     "1baf5eafe620493a93abe5966263a018": {
      "model_module": "@jupyter-widgets/base",
      "model_module_version": "1.0.0",
      "model_name": "LayoutModel",
      "state": {}
     },
     "1bf12943d7d443f58b6807f4bfc8b13d": {
      "model_module": "@jupyter-widgets/controls",
      "model_module_version": "1.1.0",
      "model_name": "ButtonModel",
      "state": {
       "description": "Clear Output",
       "layout": "IPY_MODEL_c5d2f8cb5a20429c9364e5cff9e60e53",
       "style": "IPY_MODEL_a229810d703e4369b952637de70cdf9d"
      }
     },
     "1bfb504e943243ae927ad0516252ea95": {
      "model_module": "@jupyter-widgets/controls",
      "model_module_version": "1.1.0",
      "model_name": "FloatSliderModel",
      "state": {
       "layout": "IPY_MODEL_3e818e9b263146d69d049033221ffa17",
       "readout": false,
       "step": 0.1,
       "style": "IPY_MODEL_a166fc6a773b4c97960540abfac5ea6f",
       "value": 100
      }
     },
     "1c03bf7313ef493fb9b14cabdea08dac": {
      "model_module": "@jupyter-widgets/controls",
      "model_module_version": "1.1.0",
      "model_name": "DescriptionStyleModel",
      "state": {
       "description_width": ""
      }
     },
     "1c1908ca4a954bd7a6ec1a39b91c9e91": {
      "model_module": "@jupyter-widgets/base",
      "model_module_version": "1.0.0",
      "model_name": "LayoutModel",
      "state": {}
     },
     "1c96df4588a445e6bcb67b03bd77b4fb": {
      "model_module": "@jupyter-widgets/controls",
      "model_module_version": "1.1.0",
      "model_name": "ButtonStyleModel",
      "state": {}
     },
     "1cbcfc216cd24a60adb21fcefe70e5d1": {
      "model_module": "@jupyter-widgets/output",
      "model_module_version": "1.1.0",
      "model_name": "OutputModel",
      "state": {
       "_model_module_version": "1.1.0",
       "_view_module_version": "1.1.0",
       "layout": "IPY_MODEL_58a834575fe04b65b2837492aac73fad"
      }
     },
     "1cd6c145e005443bb7373dfc4ac255cc": {
      "model_module": "@jupyter-widgets/base",
      "model_module_version": "1.0.0",
      "model_name": "LayoutModel",
      "state": {}
     },
     "1d7d48da98734dd78bf43b53fd10faed": {
      "model_module": "@jupyter-widgets/controls",
      "model_module_version": "1.1.0",
      "model_name": "ButtonStyleModel",
      "state": {}
     },
     "1d879efc501b4802adbe3b66adaf40a9": {
      "model_module": "@jupyter-widgets/controls",
      "model_module_version": "1.1.0",
      "model_name": "CheckboxModel",
      "state": {
       "description": "Update GUI",
       "disabled": false,
       "layout": "IPY_MODEL_b010d64361b543e5b96dbd269f9c9eed",
       "style": "IPY_MODEL_cfbcaa12db40483b9870b6465716f285",
       "value": true
      }
     },
     "1d8cddd96caa4f5eb883fbbb3861664e": {
      "model_module": "@jupyter-widgets/controls",
      "model_module_version": "1.1.0",
      "model_name": "HBoxModel",
      "state": {
       "children": [
        "IPY_MODEL_48482120b5e843a7a34f8fc62dc31a85",
        "IPY_MODEL_ac1eb943ab704d8aa2570dc6f7701574"
       ],
       "layout": "IPY_MODEL_78c720dd8edf4b4890976ad39c1fdb6f"
      }
     },
     "1d9ed39012fc422eb5dfa62315f4f271": {
      "model_module": "@jupyter-widgets/base",
      "model_module_version": "1.0.0",
      "model_name": "LayoutModel",
      "state": {}
     },
     "1dbc1e95947c4abab92c5f361d6a2abd": {
      "model_module": "@jupyter-widgets/output",
      "model_module_version": "1.1.0",
      "model_name": "OutputModel",
      "state": {
       "_model_module_version": "1.1.0",
       "_view_module_version": "1.1.0",
       "layout": "IPY_MODEL_a72918ebb8094e60a7452afced01cf30",
       "outputs": [
        {
         "name": "stdout",
         "output_type": "stream",
         "text": "Done!\n"
        }
       ]
      }
     },
     "1dc51ef143964ccea311bcc6880814ed": {
      "model_module": "@jupyter-widgets/controls",
      "model_module_version": "1.1.0",
      "model_name": "HTMLModel",
      "state": {
       "layout": "IPY_MODEL_7fc99adaf2404d91a421ad05c590d71e",
       "style": "IPY_MODEL_f7f5316efb4e46f584c10486dd93baff",
       "value": "<img style=\"image-rendering: pixelated;\" src=\"data:image/gif;base64,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\" width=\"240\"/>"
      }
     },
     "1dfe047581424ed1bd82564014fdc312": {
      "model_module": "@jupyter-widgets/controls",
      "model_module_version": "1.1.0",
      "model_name": "CheckboxModel",
      "state": {
       "description": "Update GUI",
       "disabled": false,
       "layout": "IPY_MODEL_9f973830ec034abdbc14ad927c683dfa",
       "style": "IPY_MODEL_04e25cd54bc14c4b906556d8b8937bb5",
       "value": true
      }
     },
     "1e74c5af698a427a970001191613e77b": {
      "model_module": "@jupyter-widgets/controls",
      "model_module_version": "1.1.0",
      "model_name": "ButtonStyleModel",
      "state": {}
     },
     "1f16b5a44cb44bcaa2d1952ec9b916a2": {
      "model_module": "@jupyter-widgets/controls",
      "model_module_version": "1.1.0",
      "model_name": "DescriptionStyleModel",
      "state": {
       "description_width": ""
      }
     },
     "1f2004bcb92a476ca2c0ef84021703a6": {
      "model_module": "@jupyter-widgets/base",
      "model_module_version": "1.0.0",
      "model_name": "LayoutModel",
      "state": {
       "height": "20px",
       "padding": "0px 0px 0px 0px",
       "width": "248px"
      }
     },
     "1f71ffd9ce5a4b41bdba86cb65d25bed": {
      "model_module": "@jupyter-widgets/base",
      "model_module_version": "1.0.0",
      "model_name": "LayoutModel",
      "state": {}
     },
     "1fcc28ddca6940eda5fdb85074d7bdb9": {
      "model_module": "@jupyter-widgets/base",
      "model_module_version": "1.0.0",
      "model_name": "LayoutModel",
      "state": {}
     },
     "2014847f434d474783963e7022bd5be0": {
      "model_module": "@jupyter-widgets/controls",
      "model_module_version": "1.1.0",
      "model_name": "PlayModel",
      "state": {
       "layout": "IPY_MODEL_1fcc28ddca6940eda5fdb85074d7bdb9",
       "max": 1000000,
       "style": "IPY_MODEL_13cf2d82f6834716b923d42b1c8fd4be"
      }
     },
     "201f29822b894afaab84872fdbc953d5": {
      "model_module": "@jupyter-widgets/controls",
      "model_module_version": "1.1.0",
      "model_name": "VBoxModel",
      "state": {
       "children": [
        "IPY_MODEL_571444c77d214f858fcde8273ff42d2a",
        "IPY_MODEL_4cffbc39fa4c4c67aebddff42fc3387e"
       ],
       "layout": "IPY_MODEL_6548ed15500d4284be44da259deb9130"
      }
     },
     "2090ba2c90e743829f0bf148544cbfaf": {
      "model_module": "@jupyter-widgets/base",
      "model_module_version": "1.0.0",
      "model_name": "LayoutModel",
      "state": {}
     },
     "20b3fa717c85446b9fb571fc64e3f80a": {
      "model_module": "@jupyter-widgets/base",
      "model_module_version": "1.0.0",
      "model_name": "LayoutModel",
      "state": {}
     },
     "20b96d2963f44b91a377a0a1538453b2": {
      "model_module": "@jupyter-widgets/controls",
      "model_module_version": "1.1.0",
      "model_name": "DescriptionStyleModel",
      "state": {
       "description_width": ""
      }
     },
     "20dfd3d2316847089e67465f224ffdf1": {
      "model_module": "@jupyter-widgets/base",
      "model_module_version": "1.0.0",
      "model_name": "LayoutModel",
      "state": {}
     },
     "20fe2f0e53864653bd79261a53ba7465": {
      "model_module": "@jupyter-widgets/controls",
      "model_module_version": "1.1.0",
      "model_name": "ButtonStyleModel",
      "state": {}
     },
     "210f5db964e44bc29b5343427fb65df3": {
      "model_module": "@jupyter-widgets/base",
      "model_module_version": "1.0.0",
      "model_name": "LayoutModel",
      "state": {}
     },
     "211410025c2c457db79566fc238da40d": {
      "model_module": "@jupyter-widgets/controls",
      "model_module_version": "1.1.0",
      "model_name": "VBoxModel",
      "state": {
       "children": [
        "IPY_MODEL_887e8eb223bc45c3bd59243e5429c885",
        "IPY_MODEL_d9d5314642ac4d4da56053de8fa4dee9",
        "IPY_MODEL_479c034765964e2b9b34d45a59b36a2e",
        "IPY_MODEL_c7bddb926f6a431ba7ed3a804672d429"
       ],
       "layout": "IPY_MODEL_176b344cf94c41b7971dd991a4ad431c"
      }
     },
     "21176371d6584ce296f82cd3f9684696": {
      "model_module": "@jupyter-widgets/base",
      "model_module_version": "1.0.0",
      "model_name": "LayoutModel",
      "state": {}
     },
     "21405041cda1437ea9bda7d6cae1c0d9": {
      "model_module": "@jupyter-widgets/base",
      "model_module_version": "1.0.0",
      "model_name": "LayoutModel",
      "state": {}
     },
     "21717cacc2f048a18c57904d88c134b3": {
      "model_module": "@jupyter-widgets/base",
      "model_module_version": "1.0.0",
      "model_name": "LayoutModel",
      "state": {}
     },
     "218bb682fb204383839c80f2072a8f39": {
      "model_module": "@jupyter-widgets/base",
      "model_module_version": "1.0.0",
      "model_name": "LayoutModel",
      "state": {}
     },
     "2191825334304bfe85f37a3383a3a55c": {
      "model_module": "@jupyter-widgets/controls",
      "model_module_version": "1.1.0",
      "model_name": "ButtonModel",
      "state": {
       "icon": "step-forward",
       "layout": "IPY_MODEL_6468a98e9b7e4382b35787f9527318aa",
       "style": "IPY_MODEL_b1d0f2710f5b4acbb956d692def92a87"
      }
     },
     "21b0505536974852858d02937b5ed7a6": {
      "model_module": "@jupyter-widgets/base",
      "model_module_version": "1.0.0",
      "model_name": "LayoutModel",
      "state": {
       "height": "248px",
       "padding": "0px 0px 0px 0px",
       "width": "10px"
      }
     },
     "2204aee3d69c407bb4e9a2df2fa68c82": {
      "model_module": "@jupyter-widgets/controls",
      "model_module_version": "1.1.0",
      "model_name": "FloatSliderModel",
      "state": {
       "layout": "IPY_MODEL_8f0bccb117e3479aba0898096ab79565",
       "orientation": "vertical",
       "readout": false,
       "step": 0.1,
       "style": "IPY_MODEL_70659e41a2c040e8a5d8358c6a0daac2",
       "value": 25
      }
     },
     "225f06239e584787a732cc4c59e7f8f2": {
      "model_module": "@jupyter-widgets/controls",
      "model_module_version": "1.1.0",
      "model_name": "ButtonStyleModel",
      "state": {}
     },
     "2283c15caa064de39869c7d0ec8523b0": {
      "model_module": "@jupyter-widgets/controls",
      "model_module_version": "1.1.0",
      "model_name": "ButtonStyleModel",
      "state": {}
     },
     "22de38ace13f43eb927c0a5b1f35f257": {
      "model_module": "@jupyter-widgets/base",
      "model_module_version": "1.0.0",
      "model_name": "LayoutModel",
      "state": {}
     },
     "2330c84c059a4f1c943134700a052ecf": {
      "model_module": "@jupyter-widgets/controls",
      "model_module_version": "1.1.0",
      "model_name": "FloatSliderModel",
      "state": {
       "layout": "IPY_MODEL_d38f646f68f8445995bdb861a98b81dc",
       "readout": false,
       "step": 0.1,
       "style": "IPY_MODEL_f2c350acbb854beda255bcceb8d3ef3f",
       "value": 50
      }
     },
     "23328dd9d3fe4d00b4314f4daf72c32d": {
      "model_module": "@jupyter-widgets/base",
      "model_module_version": "1.0.0",
      "model_name": "LayoutModel",
      "state": {
       "height": "248px",
       "padding": "0px 0px 0px 0px",
       "width": "10px"
      }
     },
     "23663dc330194ebbb68bdc92d9ada5ba": {
      "model_module": "@jupyter-widgets/controls",
      "model_module_version": "1.1.0",
      "model_name": "HBoxModel",
      "state": {
       "children": [
        "IPY_MODEL_b89f4de94c7c4a7895e0efb1bac00caf",
        "IPY_MODEL_37800fbae624452984d6e50c68d8e3b7"
       ],
       "layout": "IPY_MODEL_ac5bf839164648c6a1eaa67cd1911e54"
      }
     },
     "236cb2998e1147e6addaa6bfda3b1937": {
      "model_module": "@jupyter-widgets/base",
      "model_module_version": "1.0.0",
      "model_name": "LayoutModel",
      "state": {
       "height": "248px",
       "padding": "0px 0px 0px 0px",
       "width": "10px"
      }
     },
     "23f307b2784645d9ba6a42359f19a16c": {
      "model_module": "@jupyter-widgets/controls",
      "model_module_version": "1.1.0",
      "model_name": "CheckboxModel",
      "state": {
       "description": "Update GUI",
       "disabled": false,
       "layout": "IPY_MODEL_1c1908ca4a954bd7a6ec1a39b91c9e91",
       "style": "IPY_MODEL_c5bb7e92fb9a4d9cac20e009225f4e2b",
       "value": true
      }
     },
     "24317ede0ac443d19af8df49db9c9ac6": {
      "model_module": "@jupyter-widgets/base",
      "model_module_version": "1.0.0",
      "model_name": "LayoutModel",
      "state": {}
     },
     "246c60ddc8854b589f5a47ec7972bc32": {
      "model_module": "@jupyter-widgets/controls",
      "model_module_version": "1.1.0",
      "model_name": "VBoxModel",
      "state": {
       "children": [
        "IPY_MODEL_8f614d4b56f24729bd8f0e16651560ab",
        "IPY_MODEL_e024edd6234d4a33adbf87c810e9c17f"
       ],
       "layout": "IPY_MODEL_cb5f1822701c48a7b1ab84d6fe08cf58"
      }
     },
     "246eb1db195f42c89fec7942f0c155fa": {
      "model_module": "@jupyter-widgets/base",
      "model_module_version": "1.0.0",
      "model_name": "LayoutModel",
      "state": {}
     },
     "24745a2167f34f728a977c81c407c62d": {
      "model_module": "@jupyter-widgets/base",
      "model_module_version": "1.0.0",
      "model_name": "LayoutModel",
      "state": {}
     },
     "24a3f750760d4446af0babe6d7b3a2c8": {
      "model_module": "@jupyter-widgets/controls",
      "model_module_version": "1.1.0",
      "model_name": "CheckboxModel",
      "state": {
       "description": "Trace Path",
       "disabled": false,
       "layout": "IPY_MODEL_2ec8edde17804020afc70700a283a9bb",
       "style": "IPY_MODEL_01a62ae76d384edbae4bc76f3b089fa2",
       "value": false
      }
     },
     "24b436f386d7433992ea06975180d61f": {
      "model_module": "@jupyter-widgets/controls",
      "model_module_version": "1.1.0",
      "model_name": "VBoxModel",
      "state": {
       "children": [
        "IPY_MODEL_267971c66cb9458f9bf3472d3a4c98e4",
        "IPY_MODEL_3c89f5bb24f34e338d67d173f03cc3c4"
       ],
       "layout": "IPY_MODEL_5117f7930a46492da0bf438e253c59ef"
      }
     },
     "24d4f10ed2e64a749b75bf91d25094e5": {
      "model_module": "@jupyter-widgets/controls",
      "model_module_version": "1.1.0",
      "model_name": "CheckboxModel",
      "state": {
       "description": "Trace Path",
       "disabled": false,
       "layout": "IPY_MODEL_2d1db038722444fe9ad726b5a2639844",
       "style": "IPY_MODEL_0976f5b23c2c415ab5d4dde698091e3a",
       "value": false
      }
     },
     "24ddcafc8e7842eea6b3c0e051f3341a": {
      "model_module": "@jupyter-widgets/controls",
      "model_module_version": "1.1.0",
      "model_name": "PlayModel",
      "state": {
       "layout": "IPY_MODEL_f9e7ebfb2e8f4deaa141ad12a9f962e2",
       "max": 1000000,
       "style": "IPY_MODEL_dd2a1cf113d84412bef15cb8384cdccc",
       "value": 68
      }
     },
     "2504f987f3034189901514daba2b98fc": {
      "model_module": "@jupyter-widgets/controls",
      "model_module_version": "1.1.0",
      "model_name": "FloatSliderModel",
      "state": {
       "layout": "IPY_MODEL_7e7193244c2b4d3eb6517ff89029d713",
       "readout": false,
       "step": 0.1,
       "style": "IPY_MODEL_4ef6aca254984afb969bdb0339b3b9ba",
       "value": 100
      }
     },
     "257b09fca9944a10bc9bf2f13922b987": {
      "model_module": "@jupyter-widgets/output",
      "model_module_version": "1.1.0",
      "model_name": "OutputModel",
      "state": {
       "_model_module_version": "1.1.0",
       "_view_module_version": "1.1.0",
       "layout": "IPY_MODEL_d6f324e8f3814c3a86bfcfe40811f46d"
      }
     },
     "25854efd68934fed8eba80453ec66ea0": {
      "model_module": "@jupyter-widgets/controls",
      "model_module_version": "1.1.0",
      "model_name": "FloatSliderModel",
      "state": {
       "layout": "IPY_MODEL_3d8a5ba69cbd443faa081e86aa27aee6",
       "readout": false,
       "step": 0.1,
       "style": "IPY_MODEL_39ae709316b04d639fa6dc0c9d5d636f",
       "value": 100
      }
     },
     "25b4143bc375464a9db4205ebf95670a": {
      "model_module": "@jupyter-widgets/output",
      "model_module_version": "1.1.0",
      "model_name": "OutputModel",
      "state": {
       "_model_module_version": "1.1.0",
       "_view_module_version": "1.1.0",
       "layout": "IPY_MODEL_faabd86dbc5c4c3fa902a84daa8357ab"
      }
     },
     "263dd74ba8d745918bd783a7f05e098e": {
      "model_module": "@jupyter-widgets/base",
      "model_module_version": "1.0.0",
      "model_name": "LayoutModel",
      "state": {}
     },
     "267971c66cb9458f9bf3472d3a4c98e4": {
      "model_module": "@jupyter-widgets/controls",
      "model_module_version": "1.1.0",
      "model_name": "HBoxModel",
      "state": {
       "children": [
        "IPY_MODEL_40c16b11400246be88f0f5973b78ff82",
        "IPY_MODEL_4849df08752a41b08301c969d3da9ec7",
        "IPY_MODEL_7d6891c233eb46eea7fea27634e71fa8"
       ],
       "layout": "IPY_MODEL_8c4a878651d24a24aafbc6b5f729e77d"
      }
     },
     "267bb6afbfe7413d85e6aa293dbe2366": {
      "model_module": "@jupyter-widgets/controls",
      "model_module_version": "1.1.0",
      "model_name": "HBoxModel",
      "state": {
       "children": [
        "IPY_MODEL_2827b1c32508444b9babc0692a0c013a",
        "IPY_MODEL_db0c06db398540c6a1a932337033b7e8"
       ],
       "layout": "IPY_MODEL_e603d2449bbe497dbf23656448d33c2b"
      }
     },
     "26ae8ff8492449b3acf27736c08fddf5": {
      "model_module": "@jupyter-widgets/controls",
      "model_module_version": "1.1.0",
      "model_name": "DescriptionStyleModel",
      "state": {
       "description_width": ""
      }
     },
     "26b5595de0f64e5f8b19fa12cf8f32a1": {
      "model_module": "@jupyter-widgets/controls",
      "model_module_version": "1.1.0",
      "model_name": "VBoxModel",
      "state": {
       "children": [
        "IPY_MODEL_883eefd2780e461289bbfac71019469c",
        "IPY_MODEL_27ba6d67538948a4b6a62d26029d00e8"
       ],
       "layout": "IPY_MODEL_0df08f39053542d5914aa2d29776af42"
      }
     },
     "26c36e63606041f0b1578cd209aace84": {
      "model_module": "@jupyter-widgets/controls",
      "model_module_version": "1.1.0",
      "model_name": "DescriptionStyleModel",
      "state": {
       "description_width": ""
      }
     },
     "26fc4cedf61c49f8b989f091f938526a": {
      "model_module": "@jupyter-widgets/controls",
      "model_module_version": "1.1.0",
      "model_name": "ButtonStyleModel",
      "state": {}
     },
     "270798f132c14fafa0419d8d1410409b": {
      "model_module": "@jupyter-widgets/controls",
      "model_module_version": "1.1.0",
      "model_name": "VBoxModel",
      "state": {
       "children": [
        "IPY_MODEL_026c0094fae44bc7a92777031dd023e2",
        "IPY_MODEL_e01311589cd24e289008224eb32e8032"
       ],
       "layout": "IPY_MODEL_3db25cc00cc046079f1e76991e3252fd"
      }
     },
     "274d1d19ab7d41f78d79450fff36b8e0": {
      "model_module": "@jupyter-widgets/controls",
      "model_module_version": "1.1.0",
      "model_name": "VBoxModel",
      "state": {
       "children": [
        "IPY_MODEL_c347dbb04d6445419eb67e48bf81fee2",
        "IPY_MODEL_b49d3252ee3c4ce49154f3e5b1ca0328"
       ],
       "layout": "IPY_MODEL_650cf8a0cfd74ffa9adcd5f2220ba3c7"
      }
     },
     "2757b87378354c7f846cd930f21ec928": {
      "model_module": "@jupyter-widgets/base",
      "model_module_version": "1.0.0",
      "model_name": "LayoutModel",
      "state": {}
     },
     "276caf7c123e4dba9098f1f595d3818b": {
      "model_module": "@jupyter-widgets/controls",
      "model_module_version": "1.1.0",
      "model_name": "DescriptionStyleModel",
      "state": {
       "description_width": ""
      }
     },
     "2779c5cd502245be815000fd96280237": {
      "model_module": "@jupyter-widgets/output",
      "model_module_version": "1.1.0",
      "model_name": "OutputModel",
      "state": {
       "_model_module_version": "1.1.0",
       "_view_module_version": "1.1.0",
       "layout": "IPY_MODEL_aef019ee978141cc85f0fa6d89c65eda"
      }
     },
     "278a272d39f24f5db8c8c639722d05f7": {
      "model_module": "@jupyter-widgets/controls",
      "model_module_version": "1.1.0",
      "model_name": "ButtonStyleModel",
      "state": {}
     },
     "27ba6d67538948a4b6a62d26029d00e8": {
      "model_module": "@jupyter-widgets/controls",
      "model_module_version": "1.1.0",
      "model_name": "FloatSliderModel",
      "state": {
       "layout": "IPY_MODEL_ff3e00dea86f45159d4affdd5a5511bd",
       "readout": false,
       "step": 0.1,
       "style": "IPY_MODEL_183e022f18614af9ab43cd33f9ea27d1",
       "value": 100
      }
     },
     "27bf7a02224e4f95b564f511dd32fa79": {
      "model_module": "@jupyter-widgets/controls",
      "model_module_version": "1.1.0",
      "model_name": "ButtonModel",
      "state": {
       "icon": "step-forward",
       "layout": "IPY_MODEL_7669025fc1904dfabf7deb24ff2dd974",
       "style": "IPY_MODEL_225f06239e584787a732cc4c59e7f8f2"
      }
     },
     "27e07e913cfe4f10a5197c1eacb0f596": {
      "model_module": "@jupyter-widgets/controls",
      "model_module_version": "1.1.0",
      "model_name": "HBoxModel",
      "state": {
       "children": [
        "IPY_MODEL_fad42f42e55a44d6a79446ec76cd91a3",
        "IPY_MODEL_f2e94d8a72264f9d97e1e414f3af16c4"
       ],
       "layout": "IPY_MODEL_de6cde6871714bdf92de8823d981bde1"
      }
     },
     "27e7101b322d4eeca9bc7d59eeba5508": {
      "model_module": "@jupyter-widgets/controls",
      "model_module_version": "1.1.0",
      "model_name": "VBoxModel",
      "state": {
       "children": [
        "IPY_MODEL_796d313a47904a90bacf225cd4894a09",
        "IPY_MODEL_ef482311ee9b458fba4965ebd092e827"
       ],
       "layout": "IPY_MODEL_24745a2167f34f728a977c81c407c62d"
      }
     },
     "2827b1c32508444b9babc0692a0c013a": {
      "model_module": "@jupyter-widgets/controls",
      "model_module_version": "1.1.0",
      "model_name": "FloatSliderModel",
      "state": {
       "layout": "IPY_MODEL_bdbc9e0df1644872ab8ee8e1fc4cdeb2",
       "orientation": "vertical",
       "readout": false,
       "step": 0.1,
       "style": "IPY_MODEL_ced2f167719e426c9ed20ca8865f9394",
       "value": 25
      }
     },
     "28984ecd7c314bc09c13e91071e9a9c6": {
      "model_module": "@jupyter-widgets/controls",
      "model_module_version": "1.1.0",
      "model_name": "DescriptionStyleModel",
      "state": {
       "description_width": ""
      }
     },
     "28b4015dcd8d4b949ace74a6ac8e294a": {
      "model_module": "@jupyter-widgets/controls",
      "model_module_version": "1.1.0",
      "model_name": "DescriptionStyleModel",
      "state": {
       "description_width": "initial"
      }
     },
     "28b7f0ab177a41fd9ab23a54fbc3bc22": {
      "model_module": "@jupyter-widgets/base",
      "model_module_version": "1.0.0",
      "model_name": "LayoutModel",
      "state": {
       "width": "100%"
      }
     },
     "28e5d4a34ec54abc995a023f00227ffe": {
      "model_module": "@jupyter-widgets/base",
      "model_module_version": "1.0.0",
      "model_name": "LayoutModel",
      "state": {}
     },
     "291ddc4efb2c4ed2a1ae23c38b27d9cc": {
      "model_module": "@jupyter-widgets/base",
      "model_module_version": "1.0.0",
      "model_name": "LayoutModel",
      "state": {
       "height": "20px",
       "padding": "0px 0px 0px 0px",
       "width": "248px"
      }
     },
     "292b937fb71748b288ec59535df1bc8f": {
      "model_module": "@jupyter-widgets/base",
      "model_module_version": "1.0.0",
      "model_name": "LayoutModel",
      "state": {}
     },
     "294cca0779194f59be0f598d43d28190": {
      "model_module": "@jupyter-widgets/controls",
      "model_module_version": "1.1.0",
      "model_name": "FloatSliderModel",
      "state": {
       "layout": "IPY_MODEL_c3cc2b5b34ab4df3b36dea599bbb2d2c",
       "orientation": "vertical",
       "readout": false,
       "step": 0.1,
       "style": "IPY_MODEL_5135eee6aa814a3a9d5cb2e9da74873f",
       "value": 89.04532393385088
      }
     },
     "2958630f5e394ea49a1e8271fa4b080d": {
      "model_module": "@jupyter-widgets/base",
      "model_module_version": "1.0.0",
      "model_name": "LayoutModel",
      "state": {}
     },
     "297376ab140d444eb12d7a78e7ac677b": {
      "model_module": "@jupyter-widgets/base",
      "model_module_version": "1.0.0",
      "model_name": "LayoutModel",
      "state": {}
     },
     "299d278005ec48e9819ddfca6925df96": {
      "model_module": "@jupyter-widgets/controls",
      "model_module_version": "1.1.0",
      "model_name": "HBoxModel",
      "state": {
       "children": [
        "IPY_MODEL_0a773d4b133849deb52d0f0848c56ae1",
        "IPY_MODEL_6efa1fa1537444c99b8675ba3244ed23",
        "IPY_MODEL_3d69a47893c44a3ca748f0e723ef20a4"
       ],
       "layout": "IPY_MODEL_924f91f57deb4fdfb2eb2f5b9c5d70ef"
      }
     },
     "29a017d27019424da20618f0478d8c36": {
      "model_module": "@jupyter-widgets/controls",
      "model_module_version": "1.1.0",
      "model_name": "DescriptionStyleModel",
      "state": {
       "description_width": ""
      }
     },
     "29cb596d7c5041878e987b2b8fd33ecf": {
      "model_module": "@jupyter-widgets/base",
      "model_module_version": "1.0.0",
      "model_name": "LayoutModel",
      "state": {}
     },
     "29cdcf7f2ba34d91b08ad778c3334ecd": {
      "model_module": "@jupyter-widgets/base",
      "model_module_version": "1.0.0",
      "model_name": "LayoutModel",
      "state": {}
     },
     "29d2486c245c4285b6221043f4fdcf69": {
      "model_module": "@jupyter-widgets/controls",
      "model_module_version": "1.1.0",
      "model_name": "FloatSliderModel",
      "state": {
       "layout": "IPY_MODEL_16ebb9e224964973ae5a2390f73c995a",
       "readout": false,
       "step": 0.1,
       "style": "IPY_MODEL_53ecd712f62e444baf435cfd45b9ba5f",
       "value": 64.4
      }
     },
     "29d72534ce3f44589283916a14355e55": {
      "model_module": "@jupyter-widgets/base",
      "model_module_version": "1.0.0",
      "model_name": "LayoutModel",
      "state": {}
     },
     "29d83bcd24cf4476925272731b1f7da1": {
      "model_module": "@jupyter-widgets/base",
      "model_module_version": "1.0.0",
      "model_name": "LayoutModel",
      "state": {}
     },
     "2a07bf88b02740d48e7ae70dc0c5ea68": {
      "model_module": "@jupyter-widgets/controls",
      "model_module_version": "1.1.0",
      "model_name": "DescriptionStyleModel",
      "state": {
       "description_width": "initial"
      }
     },
     "2a3b49130bf04fe6b40792819e4f00ca": {
      "model_module": "@jupyter-widgets/controls",
      "model_module_version": "1.1.0",
      "model_name": "DescriptionStyleModel",
      "state": {
       "description_width": ""
      }
     },
     "2a478aad48574bcf95903b45c0e08e93": {
      "model_module": "@jupyter-widgets/controls",
      "model_module_version": "1.1.0",
      "model_name": "ButtonStyleModel",
      "state": {}
     },
     "2a93134ca2be42f59ae8f3749edb4a1f": {
      "model_module": "@jupyter-widgets/controls",
      "model_module_version": "1.1.0",
      "model_name": "DescriptionStyleModel",
      "state": {
       "description_width": ""
      }
     },
     "2ae754cdb2704459bbebbfcd4e82a931": {
      "model_module": "@jupyter-widgets/base",
      "model_module_version": "1.0.0",
      "model_name": "LayoutModel",
      "state": {}
     },
     "2b0bf10327754b838f7e838ac838dcb0": {
      "model_module": "@jupyter-widgets/controls",
      "model_module_version": "1.1.0",
      "model_name": "VBoxModel",
      "state": {
       "children": [
        "IPY_MODEL_7780327260574bf69a5e87d356c67740",
        "IPY_MODEL_17d909d7073a45d28a294545580282db"
       ],
       "layout": "IPY_MODEL_d1f609dd40f34d329f6509d987a1e214"
      }
     },
     "2b38758a4b964726ab1f9991512bfd3b": {
      "model_module": "@jupyter-widgets/controls",
      "model_module_version": "1.1.0",
      "model_name": "TextModel",
      "state": {
       "description": "Time:",
       "layout": "IPY_MODEL_415230e269a443938628e7c799685865",
       "style": "IPY_MODEL_857bb900488741f18d679d1ea8ed1ff9",
       "value": "0.00 seconds"
      }
     },
     "2b3f42c1970448c3a6e548e5cbd68381": {
      "model_module": "@jupyter-widgets/controls",
      "model_module_version": "1.1.0",
      "model_name": "HTMLModel",
      "state": {
       "layout": "IPY_MODEL_a234fa92035140e4b53967ee75c96674",
       "style": "IPY_MODEL_8d49ec35aa8b4994a89f6e8776095fa6",
       "value": "<img style=\"image-rendering: pixelated;\" src=\"data:image/gif;base64,R0lGODdheAA8AIcAAAAAAAAAAAAAAAAAAAAAAAAAAAAAAAAAAAAAAAAAAAAAAAAAAAAAAAAAAAAAAAAAAAAAAAAAAAAAAAAAAAAAAAAAAAAAAAAAAAAAAAAAAAAAAAAAAAAAAAAAAAAAAAAAAAAAAAAAAAAAAAAAAAAAAAAAAAAAAAAAAAAAAAAAAAAAAAAAAAAAAAAAAAAAAAAAAAAAAAAAAAAAAAAAAAAAAAAAAAAAAAAAAAAAAAAAAAAAAAAAAAAAAAAAAAAAAAAAAAAAAAAAAAAAAAAAAAAAAAAAAAAAAAAAAAAAAAAAAAAAAAAAAAAAAAAAAAAAAAAAAAAAAAAAAAAAAAAAAAAAAAAAAAAAAAAAAAAAAAAAAAAAAAAAAAAAAAAAAAAAAAAAAAAAAAAAAAAAAAAAAAAAAAAAAAAAAAAAAAAAAAAAAAAAAAAAAAAAAAAAAAAAAAAAAAAAAAAAAAAAAAAAAAAAAAAAAAAAAAAAAAAAAAAAAAAAAAAAAAAAAAAAAAAAAAAAAAAAAAAAAAAAAAAAAAAAAAAAAAAAAAAAAAAAAAAAAAAAAAAAAAAAAAAAAAAAAAAAAAAAAAAAAAAAAAAAAAAAAAAAAAAAAAAAAAAAAAAAAAAAAAAAAAAAAAAAAAAAAAAAAAAAAAAAAAAAAAAAAAAAAAAAAAAAAAAAAAAAAAAAAAAAAAAAAAAAAAAAAAAAAAAAAAAAAAAAAAAAAAAAAAAAAAAAAAAAAAAAAAAAAAAAAAAAAAAAAAAAAAAAAAAAAAAAAAAAAAAAAAAAAAAAAAAAAAAAAAAAAAAAAAAAAAAAAAAAAAAAAAAAAAAAAAAAAAAAAAAAAAAAAAAAAAAAAAAAAAAAAAAAAAAAAAAAAAAAAAAAAAAAAAAAAAAAAAAAAAAAAAAAAAAAAAAAAAAAAAAAAAAAAAAAAAAAAAAAAAAAAAAAAAAAAAAAAAAAAAAAAAAAAAAAAAAAAAAAAAAAAAAAAAAAAAAAAAAAAAAAAAAAAAAAAAAAAAAAAAAAAAAAAAAAACwAAAAAeAA8AEAIigABCBxIsKDBgwgTKlzIsKHDhxAjSpxIsaLFixgzatzIsaPHjyBDihxJsqTJkyhTqlzJsqXLlzBjypxJs6bNmzhz6tzJs6fPn0CDCh1KtKjRo0iTKl3KtKnTp1CjSp1KtarVq1izat3KtavXr2DDih1LtqzZs2jTql3Ltq3bt3Djyp1Lt67duzwDAgA7\" width=\"240\"/>"
      }
     },
     "2bc34aac550f455cba707f7a4b473ba0": {
      "model_module": "@jupyter-widgets/base",
      "model_module_version": "1.0.0",
      "model_name": "LayoutModel",
      "state": {
       "height": "30px",
       "padding": "0px 0px 0px 10px",
       "width": "260px"
      }
     },
     "2bd3bf01308a4daf836fc519f7a461c4": {
      "model_module": "@jupyter-widgets/controls",
      "model_module_version": "1.1.0",
      "model_name": "HTMLModel",
      "state": {
       "layout": "IPY_MODEL_f8a9453970ba4b3e9e3f8e3825c075a8",
       "style": "IPY_MODEL_0e206642de5643e0b1a8977f58c8adea",
       "value": "<img style=\"image-rendering: pixelated;\" src=\"data:image/gif;base64,R0lGODdheAA8AIcAAAAAAAAAAAAAAAAAAAAAAAAAAAAAAAAAAAAAAAAAAAAAAAAAAAAAAAAAAAAAAAAAAAAAAAAAAAAAAAAAAAAAAAAAAAAAAAAAAAAAAAAAAAAAAAAAAAAAAAAAAAAAAAAAAAAAAAAAAAAAAAAAAAAAAAAAAAAAAAAAAAAAAAAAAAAAAAAAAAAAAAAAAAAAAAAAAAAAAAAAAAAAAAAAAAAAAAAAAAAAAAAAAAAAAAAAAAAAAAAAAAAAAAAAAAAAAAAAAAAAAAAAAAAAAAAAAAAAAAAAAAAAAAAAAAAAAAAAAAAAAAAAAAAAAAAAAAAAAAAAAAAAAAAAAAAAAAAAAAAAAAAAAAAAAAAAAAAAAAAAAAAAAAAAAAAAAAAAAAAAAAAAAAAAAAAAAAAAAAAAAAAAAAAAAAAAAAAAAAAAAAAAAAAAAAAAAAAAAAAAAAAAAAAAAAAAAAAAAAAAAAAAAAAAAAAAAAAAAAAAAAAAAAAAAAAAAAAAAAAAAAAAAAAAAAAAAAAAAAAAAAAAAAAAAAAAAAAAAAAAAAAAAAAAAAAAAAAAAAAAAAAAAAAAAAAAAAAAAAAAAAAAAAAAAAAAAAAAAAAAAAAAAAAAAAAAAAAAAAAAAAAAAAAAAAAAAAAAAAAAAAAAAAAAAAAAAAAAAAAAAAAAAAAAAAAAAAAAAAAAAAAAAAAAAAAAAAAAAAAAAAAAAAAAAAAAAAAAAAAAAAAAAAAAAAAAAAAAAAAAAAAAAAAAAAAAAAAAAAAAAAAAAAAAAAAAAAAAAAAAAAAAAAAAAAAAAAAAAAAAAAAAAAAAAAAAAAAAAAAAAAAAAAAAAAAAAAAAAAAAAAAAAAAAAAAAAAAAAAAAAAAAAAAAAAAAAAAAAAAAAAAAAAAAAAAAAAAAAAAAAAAAAAAAAAAAAAAAAAAAAAAAAAAAAAAAAAAAAAAAAAAAAAAAAAAAAAAAAAAAAAAAAAAAAAAAAAAAAAAAAAAAAAAAAAAAAAAAAAAAAAAAAAAAAAAAAAAAAAAAAAAAACwAAAAAeAA8AEAIigABCBxIsKDBgwgTKlzIsKHDhxAjSpxIsaLFixgzatzIsaPHjyBDihxJsqTJkyhTqlzJsqXLlzBjypxJs6bNmzhz6tzJs6fPn0CDCh1KtKjRo0iTKl3KtKnTp1CjSp1KtarVq1izat3KtavXr2DDih1LtqzZs2jTql3Ltq3bt3Djyp1Lt67duzwDAgA7\" width=\"240\"/>"
      }
     },
     "2bedb12d57ba43d8ad017efbc5fa0d4d": {
      "model_module": "@jupyter-widgets/controls",
      "model_module_version": "1.1.0",
      "model_name": "SliderStyleModel",
      "state": {
       "description_width": ""
      }
     },
     "2c220d4f387f4c9a8e3f7932a9ee760a": {
      "model_module": "@jupyter-widgets/controls",
      "model_module_version": "1.1.0",
      "model_name": "VBoxModel",
      "state": {
       "children": [
        "IPY_MODEL_70bdcfc706c94e0ea9cb51040d0e9319",
        "IPY_MODEL_ae87ee2854e14f609cf0555cc0012809"
       ],
       "layout": "IPY_MODEL_66353ff55ced4ae49f9faae6391c377a"
      }
     },
     "2cea55c8e7f64bbcae6b92a1f5c0a610": {
      "model_module": "@jupyter-widgets/controls",
      "model_module_version": "1.1.0",
      "model_name": "SliderStyleModel",
      "state": {
       "description_width": ""
      }
     },
     "2d15e19111ee4d72837c7e25a1adc261": {
      "model_module": "@jupyter-widgets/base",
      "model_module_version": "1.0.0",
      "model_name": "LayoutModel",
      "state": {}
     },
     "2d1db038722444fe9ad726b5a2639844": {
      "model_module": "@jupyter-widgets/base",
      "model_module_version": "1.0.0",
      "model_name": "LayoutModel",
      "state": {}
     },
     "2d668bd7b2564fab809e49f8da15ab24": {
      "model_module": "@jupyter-widgets/controls",
      "model_module_version": "1.1.0",
      "model_name": "DescriptionStyleModel",
      "state": {
       "description_width": ""
      }
     },
     "2dde89265e10475f91bfb687bfa35b47": {
      "model_module": "@jupyter-widgets/base",
      "model_module_version": "1.0.0",
      "model_name": "LayoutModel",
      "state": {}
     },
     "2de01924eeff4d30bae9801d030e7448": {
      "model_module": "@jupyter-widgets/controls",
      "model_module_version": "1.1.0",
      "model_name": "VBoxModel",
      "state": {
       "children": [
        "IPY_MODEL_987b688f4174413e9d2d854f34063bec",
        "IPY_MODEL_0f01c292b9a54d81a161f29b4dcbe811",
        "IPY_MODEL_6a7d6a3ae59840969a7bd1a070008c4d",
        "IPY_MODEL_0e2b515464cf476b8e34f57bdd87cb85",
        "IPY_MODEL_27e07e913cfe4f10a5197c1eacb0f596",
        "IPY_MODEL_9495d4e338704cd5831fad6d8d1bbce7",
        "IPY_MODEL_c8263c705d0b4e87b412f95a8ff30948",
        "IPY_MODEL_3c5575dc454f4714928f9388e21dee32"
       ],
       "layout": "IPY_MODEL_b9ea5b9d34984980be1c90b8b77862c3"
      }
     },
     "2e44c11dec2549808663b4ba30425336": {
      "model_module": "@jupyter-widgets/base",
      "model_module_version": "1.0.0",
      "model_name": "LayoutModel",
      "state": {}
     },
     "2e7487e6bf6c4c4e8dc60bcf0bf4f47d": {
      "model_module": "@jupyter-widgets/controls",
      "model_module_version": "1.1.0",
      "model_name": "PlayModel",
      "state": {
       "layout": "IPY_MODEL_fad0be5b935b4fa7a7220b5189a792ff",
       "max": 1000000,
       "style": "IPY_MODEL_5a519c5700524c30ac29eead22bff864",
       "value": 137
      }
     },
     "2e7ba717c01e4c778d7c02ed1484b0c9": {
      "model_module": "@jupyter-widgets/controls",
      "model_module_version": "1.1.0",
      "model_name": "DescriptionStyleModel",
      "state": {
       "description_width": ""
      }
     },
     "2e81a73f1a9f4158b357835f407488b4": {
      "model_module": "@jupyter-widgets/base",
      "model_module_version": "1.0.0",
      "model_name": "LayoutModel",
      "state": {}
     },
     "2ec8edde17804020afc70700a283a9bb": {
      "model_module": "@jupyter-widgets/base",
      "model_module_version": "1.0.0",
      "model_name": "LayoutModel",
      "state": {}
     },
     "2f07c88d931c413bb4155804a7bf71d9": {
      "model_module": "@jupyter-widgets/base",
      "model_module_version": "1.0.0",
      "model_name": "LayoutModel",
      "state": {}
     },
     "2f089ff084ff4163a6b6d3be446b47d8": {
      "model_module": "@jupyter-widgets/controls",
      "model_module_version": "1.1.0",
      "model_name": "HBoxModel",
      "state": {
       "children": [
        "IPY_MODEL_1dfe047581424ed1bd82564014fdc312",
        "IPY_MODEL_42a9977eef7142b4aeffebaedae6911c",
        "IPY_MODEL_041b4df782ff4b21993a8e3e6e89708c"
       ],
       "layout": "IPY_MODEL_2e81a73f1a9f4158b357835f407488b4"
      }
     },
     "2f341218f21041e8999454b32137ab4a": {
      "model_module": "@jupyter-widgets/base",
      "model_module_version": "1.0.0",
      "model_name": "LayoutModel",
      "state": {}
     },
     "2f4a5f99f07345ae8c2bb3ee4634b43e": {
      "model_module": "@jupyter-widgets/controls",
      "model_module_version": "1.1.0",
      "model_name": "SliderStyleModel",
      "state": {
       "description_width": ""
      }
     },
     "2f4ca56dd46e4eaca62f13a3197c4d35": {
      "model_module": "@jupyter-widgets/controls",
      "model_module_version": "1.1.0",
      "model_name": "DescriptionStyleModel",
      "state": {
       "description_width": ""
      }
     },
     "2f55c78b893c40c29499fa50a87aaf91": {
      "model_module": "@jupyter-widgets/controls",
      "model_module_version": "1.1.0",
      "model_name": "ButtonModel",
      "state": {
       "description": "Clear Output",
       "layout": "IPY_MODEL_626a2176f5634707810a44289d294c67",
       "style": "IPY_MODEL_32b8e9d4a5544e47b0072675580b6eeb"
      }
     },
     "2f79db1a525944fd8c7ddce204b68b43": {
      "model_module": "@jupyter-widgets/controls",
      "model_module_version": "1.1.0",
      "model_name": "TextModel",
      "state": {
       "description": "Time:",
       "layout": "IPY_MODEL_095b87fabe904afb990d691805dbac28",
       "style": "IPY_MODEL_ff467a19f019427ab77fd1bf4a60f022",
       "value": "10.40 seconds"
      }
     },
     "2fcfa52351e0419a92eae60bf520d11f": {
      "model_module": "@jupyter-widgets/controls",
      "model_module_version": "1.1.0",
      "model_name": "VBoxModel",
      "state": {
       "children": [
        "IPY_MODEL_66163aa0b1f348e8baa97da406883868",
        "IPY_MODEL_f351051ee7d9467380190ceb40bc299b"
       ],
       "layout": "IPY_MODEL_aad8fc2cc26742208221780cfc51e59c"
      }
     },
     "2fdc4a47e33a4f3da636f5efab571cd2": {
      "model_module": "@jupyter-widgets/base",
      "model_module_version": "1.0.0",
      "model_name": "LayoutModel",
      "state": {}
     },
     "2fe6b1597c22420b959ffa1f2ff7d46f": {
      "model_module": "@jupyter-widgets/output",
      "model_module_version": "1.1.0",
      "model_name": "OutputModel",
      "state": {
       "_model_module_version": "1.1.0",
       "_view_module_version": "1.1.0",
       "layout": "IPY_MODEL_683d2ca94f3c4eb797c4d873f67ea908"
      }
     },
     "2fe909131ecb4e2b82b4b80a3753cf47": {
      "model_module": "@jupyter-widgets/controls",
      "model_module_version": "1.1.0",
      "model_name": "VBoxModel",
      "state": {
       "children": [
        "IPY_MODEL_cc1ad62c3283491d8f1e3a7828155417",
        "IPY_MODEL_754595ab1ee04808a8437e01e75127b2"
       ],
       "layout": "IPY_MODEL_edff00174d994960b2506fefa8444044"
      }
     },
     "2ff2587e31df454e8dbdf551ece285ad": {
      "model_module": "@jupyter-widgets/controls",
      "model_module_version": "1.1.0",
      "model_name": "PlayModel",
      "state": {
       "layout": "IPY_MODEL_8101fde1c28c49d2b07a68fe86112a98",
       "max": 1000000,
       "style": "IPY_MODEL_a103d929a298460d8140df8f5182f54a",
       "value": 37
      }
     },
     "2ffa051d912643538a4b5b166f0c1bbd": {
      "model_module": "@jupyter-widgets/controls",
      "model_module_version": "1.1.0",
      "model_name": "DescriptionStyleModel",
      "state": {
       "description_width": ""
      }
     },
     "3021f1ebd0bb46618626df3b8423feea": {
      "model_module": "@jupyter-widgets/base",
      "model_module_version": "1.0.0",
      "model_name": "LayoutModel",
      "state": {}
     },
     "302689b187d14c068c26ca462595aef9": {
      "model_module": "@jupyter-widgets/base",
      "model_module_version": "1.0.0",
      "model_name": "LayoutModel",
      "state": {}
     },
     "3045ac9f405d4b58a23190816eef0f77": {
      "model_module": "@jupyter-widgets/controls",
      "model_module_version": "1.1.0",
      "model_name": "FloatSliderModel",
      "state": {
       "layout": "IPY_MODEL_d8fb9688ecab4d3b919ac654cc25cc9d",
       "orientation": "vertical",
       "readout": false,
       "step": 0.1,
       "style": "IPY_MODEL_fa0f9e3524c44dd1b4b5cccb60976129",
       "value": 48.979828809199226
      }
     },
     "308d8b2969c549219d8cf54967f3652b": {
      "model_module": "@jupyter-widgets/controls",
      "model_module_version": "1.1.0",
      "model_name": "ButtonStyleModel",
      "state": {}
     },
     "309cc21e8110422492fe00e61593a9c1": {
      "model_module": "@jupyter-widgets/controls",
      "model_module_version": "1.1.0",
      "model_name": "VBoxModel",
      "state": {
       "children": [
        "IPY_MODEL_f7d7bd405e654e1dbace8da137ffa996",
        "IPY_MODEL_670b5c60e9ee4eb996da6b302c58de23"
       ],
       "layout": "IPY_MODEL_f667b847fa6b4ceb803d143e035d155e"
      }
     },
     "30c7311be0f54d83af8d8cb452faf66b": {
      "model_module": "@jupyter-widgets/base",
      "model_module_version": "1.0.0",
      "model_name": "LayoutModel",
      "state": {
       "height": "248px",
       "padding": "0px 0px 0px 0px",
       "width": "10px"
      }
     },
     "30ddf7d2fe1a40229b911d3422b2cebc": {
      "model_module": "@jupyter-widgets/base",
      "model_module_version": "1.0.0",
      "model_name": "LayoutModel",
      "state": {}
     },
     "30f0f9d9171c4ce68a2362e913fb8ec5": {
      "model_module": "@jupyter-widgets/controls",
      "model_module_version": "1.1.0",
      "model_name": "SliderStyleModel",
      "state": {
       "description_width": ""
      }
     },
     "30f2f14ffb144fd18717a1ac1831c3aa": {
      "model_module": "@jupyter-widgets/controls",
      "model_module_version": "1.1.0",
      "model_name": "HBoxModel",
      "state": {
       "children": [
        "IPY_MODEL_c1b223e84bd2439199d9bcce859f494d",
        "IPY_MODEL_b0c00eec5f4544a48e83ff7ca135c44b",
        "IPY_MODEL_70dc0e7201d94dada8f3a2d3d4e9f791"
       ],
       "layout": "IPY_MODEL_bdf3db0f36e341fcbbdd6218c77af340"
      }
     },
     "30f981cb3e3e4fd8b05caa854fac8f96": {
      "model_module": "@jupyter-widgets/controls",
      "model_module_version": "1.1.0",
      "model_name": "DescriptionStyleModel",
      "state": {
       "description_width": ""
      }
     },
     "3131ea60a9d044c1b540a7e89b3a60c6": {
      "model_module": "@jupyter-widgets/output",
      "model_module_version": "1.1.0",
      "model_name": "OutputModel",
      "state": {
       "_model_module_version": "1.1.0",
       "_view_module_version": "1.1.0",
       "layout": "IPY_MODEL_ae96ec3ad1e54dd786eb8eabc92e5fd8"
      }
     },
     "319a952bdfe0490d9513ecd46fee7c58": {
      "model_module": "@jupyter-widgets/controls",
      "model_module_version": "1.1.0",
      "model_name": "FloatSliderModel",
      "state": {
       "layout": "IPY_MODEL_5d7f6a103cbc47eba18af5a1eb650f71",
       "orientation": "vertical",
       "readout": false,
       "step": 0.1,
       "style": "IPY_MODEL_7f1f24bba3d04fafb0bcd2535744c074",
       "value": 87.11151707989634
      }
     },
     "31e76b6f008a4979bd5717beb831436d": {
      "model_module": "@jupyter-widgets/base",
      "model_module_version": "1.0.0",
      "model_name": "LayoutModel",
      "state": {}
     },
     "31f6d2db774d483b9b11a2017acc6914": {
      "model_module": "@jupyter-widgets/output",
      "model_module_version": "1.1.0",
      "model_name": "OutputModel",
      "state": {
       "_model_module_version": "1.1.0",
       "_view_module_version": "1.1.0",
       "layout": "IPY_MODEL_adc0c1163c4b4ca7b90acb954ea9b5ef"
      }
     },
     "31fede1dcbb746ad8ce6b9698a1ac698": {
      "model_module": "@jupyter-widgets/controls",
      "model_module_version": "1.1.0",
      "model_name": "DescriptionStyleModel",
      "state": {
       "description_width": ""
      }
     },
     "32018ffd77704357b2a37354516ffa2e": {
      "model_module": "@jupyter-widgets/base",
      "model_module_version": "1.0.0",
      "model_name": "LayoutModel",
      "state": {
       "height": "20px",
       "padding": "0px 0px 0px 0px",
       "width": "248px"
      }
     },
     "322ec0cc6b0445bdbf268b6396b04681": {
      "model_module": "@jupyter-widgets/controls",
      "model_module_version": "1.1.0",
      "model_name": "HBoxModel",
      "state": {
       "children": [
        "IPY_MODEL_92c360890a294ba492f811f1d3f0078b",
        "IPY_MODEL_cf88ae8f3dd34208acffaafccbde462e",
        "IPY_MODEL_484fa64878b2495393f3eef1176336af"
       ],
       "layout": "IPY_MODEL_03700f83ee774b099744898de5e0805b"
      }
     },
     "3230e5e14fe3465f931ce4da8fb1d1d7": {
      "model_module": "@jupyter-widgets/base",
      "model_module_version": "1.0.0",
      "model_name": "LayoutModel",
      "state": {
       "justify_content": "center",
       "overflow_x": "auto",
       "overflow_y": "auto",
       "width": "95%"
      }
     },
     "323bfc0cf6dc4a78bebac07cb5432889": {
      "model_module": "@jupyter-widgets/base",
      "model_module_version": "1.0.0",
      "model_name": "LayoutModel",
      "state": {}
     },
     "32b8e9d4a5544e47b0072675580b6eeb": {
      "model_module": "@jupyter-widgets/controls",
      "model_module_version": "1.1.0",
      "model_name": "ButtonStyleModel",
      "state": {}
     },
     "333e9291d77d407fb9c0110311f08521": {
      "model_module": "@jupyter-widgets/base",
      "model_module_version": "1.0.0",
      "model_name": "LayoutModel",
      "state": {}
     },
     "3356772de1f944f88d5f33bd1e4b6638": {
      "model_module": "@jupyter-widgets/controls",
      "model_module_version": "1.1.0",
      "model_name": "HBoxModel",
      "state": {
       "children": [
        "IPY_MODEL_00e02c82570e437c85836db91aa77e98",
        "IPY_MODEL_f08b2f1ed68c471dbf991122e8c949ca",
        "IPY_MODEL_9f306790764641448985f6463661848b"
       ],
       "layout": "IPY_MODEL_a6eda0f8d3114320ae13a81f0d228f92"
      }
     },
     "3364c34ae2a246e38e420370b1af1b91": {
      "model_module": "@jupyter-widgets/base",
      "model_module_version": "1.0.0",
      "model_name": "LayoutModel",
      "state": {
       "height": "20px",
       "padding": "0px 0px 0px 0px",
       "width": "248px"
      }
     },
     "33cd900c933c4821b72a3076704407dc": {
      "model_module": "@jupyter-widgets/controls",
      "model_module_version": "1.1.0",
      "model_name": "HTMLModel",
      "state": {
       "layout": "IPY_MODEL_e3ea10552c424df2bf468872d4052985",
       "style": "IPY_MODEL_ab04b3d64fa04e9d8830e3ab3fff7b74",
       "value": "<svg baseProfile=\"full\" height=\"240\" version=\"1.1\" width=\"240\" xmlns=\"http://www.w3.org/2000/svg\" xmlns:ev=\"http://www.w3.org/2001/xml-events\" xmlns:xlink=\"http://www.w3.org/1999/xlink\"><defs /><rect fill=\"#eef3dd\" height=\"240.0\" stroke=\"#bebebe\" stroke-width=\"1\" width=\"240.0\" x=\"0.0\" y=\"0.0\" /><rect fill=\"#0000ff\" height=\"6.0\" stroke=\"#0000ff\" stroke-width=\"1\" width=\"30.0\" x=\"105.0\" y=\"60.0\" /><line fill=\"#800080\" stroke=\"#add8e6\" stroke-width=\"1\" x1=\"109.5\" x2=\"0.0\" y1=\"174.0\" y2=\"174.0\" /><line fill=\"#800080\" stroke=\"#add8e6\" stroke-width=\"1\" x1=\"111.0\" x2=\"0.0\" y1=\"169.8\" y2=\"118.039848\" /><line fill=\"#800080\" stroke=\"#add8e6\" stroke-width=\"1\" x1=\"113.4\" x2=\"0.0\" y1=\"168.0\" y2=\"32.855142\" /><line fill=\"#800080\" stroke=\"#add8e6\" stroke-width=\"1\" x1=\"117.0\" x2=\"72.38645873701557\" y1=\"166.5\" y2=\"0.0\" /><line fill=\"#800080\" stroke=\"#add8e6\" stroke-width=\"1\" x1=\"122.99999999999999\" x2=\"167.61354126298448\" y1=\"166.5\" y2=\"0.0\" /><line fill=\"#800080\" stroke=\"#add8e6\" stroke-width=\"1\" x1=\"126.6\" x2=\"240.0\" y1=\"168.0\" y2=\"32.855142\" /><line fill=\"#800080\" stroke=\"#add8e6\" stroke-width=\"1\" x1=\"129.0\" x2=\"240.0\" y1=\"169.8\" y2=\"118.039848\" /><line fill=\"#800080\" stroke=\"#add8e6\" stroke-width=\"1\" x1=\"130.5\" x2=\"240.0\" y1=\"174.0\" y2=\"174.0\" /><line fill=\"#800080\" stroke=\"#add8e6\" stroke-width=\"1\" x1=\"130.5\" x2=\"240.0\" y1=\"186.0\" y2=\"186.0\" /><line fill=\"#800080\" stroke=\"#add8e6\" stroke-width=\"1\" x1=\"129.0\" x2=\"235.79644084796368\" y1=\"190.2\" y2=\"240.0\" /><line fill=\"#800080\" stroke=\"#add8e6\" stroke-width=\"1\" x1=\"126.6\" x2=\"166.87678224760555\" y1=\"192.0\" y2=\"240.0\" /><line fill=\"#800080\" stroke=\"#add8e6\" stroke-width=\"1\" x1=\"122.99999999999999\" x2=\"135.45963724447796\" y1=\"193.5\" y2=\"240.0\" /><line fill=\"#800080\" stroke=\"#add8e6\" stroke-width=\"1\" x1=\"117.0\" x2=\"104.54036275552205\" y1=\"193.5\" y2=\"240.0\" /><line fill=\"#800080\" stroke=\"#add8e6\" stroke-width=\"1\" x1=\"113.39999999999999\" x2=\"73.12321775239447\" y1=\"192.0\" y2=\"240.0\" /><line fill=\"#800080\" stroke=\"#add8e6\" stroke-width=\"1\" x1=\"111.0\" x2=\"4.203559152036306\" y1=\"190.2\" y2=\"240.0\" /><line fill=\"#800080\" stroke=\"#add8e6\" stroke-width=\"1\" x1=\"109.5\" x2=\"0.0\" y1=\"186.0\" y2=\"186.0\" /><line fill=\"#800080\" stroke=\"#a020f0\" stroke-width=\"1\" x1=\"120.0\" x2=\"0.0\" y1=\"180.0\" y2=\"110.717964\" /><line fill=\"#800080\" stroke=\"#a020f0\" stroke-width=\"1\" x1=\"120.0\" x2=\"240.0\" y1=\"180.0\" y2=\"110.717964\" /><polygon fill=\"red\" points=\"115.19999999999999,166.5 109.5,171.0 109.5,189.0 115.19999999999999,193.5 124.80000000000001,193.5 130.5,189.0 130.5,171.0 124.80000000000001,166.5\" stroke=\"red\" stroke-width=\"1\" /><polygon points=\"-3.0,-3.0 0,0 3.0,-3.0 0,3.0\" stroke=\"black\" stroke-width=\"1\" transform=\"translate(120.0,180.0) rotate(180.0)\" /><circle cx=\"109.5\" cy=\"166.5\" fill=\"yellow\" r=\"1.5\" stroke=\"orange\" stroke-width=\"1\" /><circle cx=\"130.5\" cy=\"166.5\" fill=\"yellow\" r=\"1.5\" stroke=\"orange\" stroke-width=\"1\" /><polygon fill=\"black\" points=\"123.60000000000001,171.6 123.60000000000001,176.4 116.39999999999999,176.4 116.39999999999999,171.6\" stroke=\"black\" stroke-width=\"1\" /></svg>"
      }
     },
     "3442d1fbf767444583c83a975b945623": {
      "model_module": "@jupyter-widgets/base",
      "model_module_version": "1.0.0",
      "model_name": "LayoutModel",
      "state": {}
     },
     "349ed2ff546c411aa81e28763a58eee9": {
      "model_module": "@jupyter-widgets/controls",
      "model_module_version": "1.1.0",
      "model_name": "DescriptionStyleModel",
      "state": {
       "description_width": ""
      }
     },
     "34b2730f5c9b4e4193064cf1080a283a": {
      "model_module": "@jupyter-widgets/controls",
      "model_module_version": "1.1.0",
      "model_name": "VBoxModel",
      "state": {
       "children": [
        "IPY_MODEL_a326756631dc4c3d87019a8c4ec1e2d7",
        "IPY_MODEL_58a958b40aed4cd59339c43d563dc1c4"
       ],
       "layout": "IPY_MODEL_eb2a3a1ac9d744779d70197de3e4c550"
      }
     },
     "34c11b84b8ad430297a7c6d713294df7": {
      "model_module": "@jupyter-widgets/controls",
      "model_module_version": "1.1.0",
      "model_name": "HTMLModel",
      "state": {
       "layout": "IPY_MODEL_dd579c09b57a4be99cd82a398de7821f",
       "style": "IPY_MODEL_5d397240eca04981a2fc9d1ca2a3be45",
       "value": "<img src=\"data:image/gif;base64,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\"/>"
      }
     },
     "34c8fea4675c4e39a3cadbe304d091f7": {
      "model_module": "@jupyter-widgets/base",
      "model_module_version": "1.0.0",
      "model_name": "LayoutModel",
      "state": {}
     },
     "34fe898cbe9749a0aedfc9267c486881": {
      "model_module": "@jupyter-widgets/base",
      "model_module_version": "1.0.0",
      "model_name": "LayoutModel",
      "state": {}
     },
     "3589d93056d44d2cb6c292ae5e4925f8": {
      "model_module": "@jupyter-widgets/base",
      "model_module_version": "1.0.0",
      "model_name": "LayoutModel",
      "state": {}
     },
     "35c6890507d54b68961c18ca8ba458ed": {
      "model_module": "@jupyter-widgets/controls",
      "model_module_version": "1.1.0",
      "model_name": "SliderStyleModel",
      "state": {
       "description_width": ""
      }
     },
     "36617805761f453d98e41df0a8fbcaca": {
      "model_module": "@jupyter-widgets/base",
      "model_module_version": "1.0.0",
      "model_name": "LayoutModel",
      "state": {}
     },
     "3668808ba5684f518307e8d27bae0799": {
      "model_module": "@jupyter-widgets/base",
      "model_module_version": "1.0.0",
      "model_name": "LayoutModel",
      "state": {
       "height": "248px",
       "padding": "0px 0px 0px 0px",
       "width": "10px"
      }
     },
     "369b8b25ed9e481ebc5c41ba23e725ba": {
      "model_module": "@jupyter-widgets/controls",
      "model_module_version": "1.1.0",
      "model_name": "HBoxModel",
      "state": {
       "children": [
        "IPY_MODEL_852d45e117c1495a81e2ede62ae1f694",
        "IPY_MODEL_1375c8572a8848cebfd08dfe2a917600",
        "IPY_MODEL_9a2adf9bcd544222be66b0c8f555145e"
       ],
       "layout": "IPY_MODEL_422d63419f0f413aa4b99b7b44008a68"
      }
     },
     "36ab4449f68044b18c539fb2d91299ca": {
      "model_module": "@jupyter-widgets/controls",
      "model_module_version": "1.1.0",
      "model_name": "VBoxModel",
      "state": {
       "children": [
        "IPY_MODEL_299d278005ec48e9819ddfca6925df96",
        "IPY_MODEL_bc21ca11f02046b09ead5a266ecad4e1"
       ],
       "layout": "IPY_MODEL_90f6c0f1b6344819b020c9be421f4a9b"
      }
     },
     "36bfb18864f249889c6c7d0862a02d69": {
      "model_module": "@jupyter-widgets/base",
      "model_module_version": "1.0.0",
      "model_name": "LayoutModel",
      "state": {}
     },
     "36f917557ee247ddb1e7dd6f2bb1a20e": {
      "model_module": "@jupyter-widgets/controls",
      "model_module_version": "1.1.0",
      "model_name": "SliderStyleModel",
      "state": {
       "description_width": ""
      }
     },
     "36fbaf6c3dd14e139311fa73795c099b": {
      "model_module": "@jupyter-widgets/controls",
      "model_module_version": "1.1.0",
      "model_name": "ButtonStyleModel",
      "state": {}
     },
     "3716b1d54ab349dd8b185a86a1e19ffe": {
      "model_module": "@jupyter-widgets/base",
      "model_module_version": "1.0.0",
      "model_name": "LayoutModel",
      "state": {}
     },
     "37800fbae624452984d6e50c68d8e3b7": {
      "model_module": "@jupyter-widgets/controls",
      "model_module_version": "1.1.0",
      "model_name": "LabelModel",
      "state": {
       "layout": "IPY_MODEL_542482c9e5484ae3b6aceacd819c0755",
       "style": "IPY_MODEL_30f981cb3e3e4fd8b05caa854fac8f96",
       "value": "of 131"
      }
     },
     "37c70fddb7974c739e2adcf08b6d7c98": {
      "model_module": "@jupyter-widgets/controls",
      "model_module_version": "1.1.0",
      "model_name": "SliderStyleModel",
      "state": {
       "description_width": ""
      }
     },
     "37cebc7dab814a67953fbe02662cc60d": {
      "model_module": "@jupyter-widgets/base",
      "model_module_version": "1.0.0",
      "model_name": "LayoutModel",
      "state": {}
     },
     "38568dc0f60e4c98a0ac557957095ba7": {
      "model_module": "@jupyter-widgets/base",
      "model_module_version": "1.0.0",
      "model_name": "LayoutModel",
      "state": {}
     },
     "38cff2ff1f8947ad8468f6f9e41ce9d1": {
      "model_module": "@jupyter-widgets/controls",
      "model_module_version": "1.1.0",
      "model_name": "DescriptionStyleModel",
      "state": {
       "description_width": ""
      }
     },
     "3914b48eb7114bd295840b2402b54349": {
      "model_module": "@jupyter-widgets/base",
      "model_module_version": "1.0.0",
      "model_name": "LayoutModel",
      "state": {}
     },
     "39156f51ee61470eb1fbe85599bf46f6": {
      "model_module": "@jupyter-widgets/controls",
      "model_module_version": "1.1.0",
      "model_name": "FloatSliderModel",
      "state": {
       "layout": "IPY_MODEL_21b0505536974852858d02937b5ed7a6",
       "orientation": "vertical",
       "readout": false,
       "step": 0.1,
       "style": "IPY_MODEL_596ad304a36548cf8bd5d436f624604d",
       "value": 25
      }
     },
     "3962fbda7aca49f49ea12d5f4b90c697": {
      "model_module": "@jupyter-widgets/controls",
      "model_module_version": "1.1.0",
      "model_name": "HBoxModel",
      "state": {
       "children": [
        "IPY_MODEL_03d3ad5f07a1482099ca8eb2b06f66f1",
        "IPY_MODEL_09a9f12687d54c44b07b52582c91683f",
        "IPY_MODEL_f793b6aae62f48dc9bd81d41bdefee91"
       ],
       "layout": "IPY_MODEL_ec32eda5eb774e519d6e3c4e53dc01de"
      }
     },
     "3967a097c5f1468a96f3f377391f48b1": {
      "model_module": "@jupyter-widgets/controls",
      "model_module_version": "1.1.0",
      "model_name": "HBoxModel",
      "state": {
       "children": [
        "IPY_MODEL_17cad852ab0343b48ba98e9f9811551c",
        "IPY_MODEL_05de76dc332d43e2a94d5c3c8c51469b"
       ],
       "layout": "IPY_MODEL_55c47c6a1ff54d81922ac8ec355e1b8d"
      }
     },
     "3968adcca69a4a058fdced82f08f1706": {
      "model_module": "@jupyter-widgets/base",
      "model_module_version": "1.0.0",
      "model_name": "LayoutModel",
      "state": {
       "height": "248px",
       "padding": "0px 0px 0px 0px",
       "width": "10px"
      }
     },
     "3971577f5c194e05b1d006b2fe752117": {
      "model_module": "@jupyter-widgets/base",
      "model_module_version": "1.0.0",
      "model_name": "LayoutModel",
      "state": {}
     },
     "39ae709316b04d639fa6dc0c9d5d636f": {
      "model_module": "@jupyter-widgets/controls",
      "model_module_version": "1.1.0",
      "model_name": "SliderStyleModel",
      "state": {
       "description_width": ""
      }
     },
     "39aebc1bfebb4d56ba6543047893b747": {
      "model_module": "@jupyter-widgets/controls",
      "model_module_version": "1.1.0",
      "model_name": "CheckboxModel",
      "state": {
       "description": "Update GUI",
       "disabled": false,
       "layout": "IPY_MODEL_43685706c7144b25b95f4e3238708371",
       "style": "IPY_MODEL_64254d7049f041b595633cd918c7ec08",
       "value": true
      }
     },
     "39b0cc798eb04e4c87d98e5603052343": {
      "model_module": "@jupyter-widgets/controls",
      "model_module_version": "1.1.0",
      "model_name": "SliderStyleModel",
      "state": {
       "description_width": ""
      }
     },
     "3a026ae68e984ba2bd8baf269ff21b5a": {
      "model_module": "@jupyter-widgets/controls",
      "model_module_version": "1.1.0",
      "model_name": "SliderStyleModel",
      "state": {
       "description_width": ""
      }
     },
     "3a04b736d24142bfa54496ebb75b4bde": {
      "model_module": "@jupyter-widgets/controls",
      "model_module_version": "1.1.0",
      "model_name": "CheckboxModel",
      "state": {
       "description": "Update GUI",
       "disabled": false,
       "layout": "IPY_MODEL_8a3feb256a3f472089c2521d493f8277",
       "style": "IPY_MODEL_1aea136ca90e4656a3f174b183e7cfdd",
       "value": true
      }
     },
     "3a215297f15b4ad09a97ebf76fe2f73d": {
      "model_module": "@jupyter-widgets/base",
      "model_module_version": "1.0.0",
      "model_name": "LayoutModel",
      "state": {}
     },
     "3a50c54d5cff4616921d23bf15006422": {
      "model_module": "@jupyter-widgets/controls",
      "model_module_version": "1.1.0",
      "model_name": "SliderStyleModel",
      "state": {
       "description_width": ""
      }
     },
     "3a5291dbe99646aaade582bfcc0fc83b": {
      "model_module": "@jupyter-widgets/base",
      "model_module_version": "1.0.0",
      "model_name": "LayoutModel",
      "state": {
       "width": "100%"
      }
     },
     "3abffcbdc8c74390961d3d68f89ab89b": {
      "model_module": "@jupyter-widgets/controls",
      "model_module_version": "1.1.0",
      "model_name": "HTMLModel",
      "state": {
       "layout": "IPY_MODEL_7c982382a81e48d39e0fd6761817e217",
       "style": "IPY_MODEL_8f7aea042a814a42ae449b903532e84d",
       "value": "<svg baseProfile=\"full\" height=\"240\" version=\"1.1\" width=\"240\" xmlns=\"http://www.w3.org/2000/svg\" xmlns:ev=\"http://www.w3.org/2001/xml-events\" xmlns:xlink=\"http://www.w3.org/1999/xlink\"><defs /><rect fill=\"#eef3dd\" height=\"240.0\" stroke=\"#bebebe\" stroke-width=\"1\" width=\"80.0\" x=\"0.0\" y=\"0.0\" /><line fill=\"#800080\" stroke=\"#add8e6\" stroke-width=\"1\" x1=\"33.0\" x2=\"0.0\" y1=\"30.605494298487734\" y2=\"30.605496000000016\" /><line fill=\"#800080\" stroke=\"#add8e6\" stroke-width=\"1\" x1=\"34.0\" x2=\"0.0\" y1=\"27.805494298487723\" y2=\"11.951035999999995\" /><line fill=\"#800080\" stroke=\"#add8e6\" stroke-width=\"1\" x1=\"35.6\" x2=\"13.275338123585271\" y1=\"26.605494298487713\" y2=\"0.0\" /><line fill=\"#800080\" stroke=\"#add8e6\" stroke-width=\"1\" x1=\"38.0\" x2=\"31.139028202376785\" y1=\"25.605494298487734\" y2=\"0.0\" /><line fill=\"#800080\" stroke=\"#add8e6\" stroke-width=\"1\" x1=\"42.0\" x2=\"48.86097179762323\" y1=\"25.605494298487734\" y2=\"0.0\" /><line fill=\"#800080\" stroke=\"#add8e6\" stroke-width=\"1\" x1=\"44.400000000000006\" x2=\"66.72466187641471\" y1=\"26.605494298487713\" y2=\"0.0\" /><line fill=\"#800080\" stroke=\"#add8e6\" stroke-width=\"1\" x1=\"46.0\" x2=\"80.0\" y1=\"27.805494298487723\" y2=\"11.95103600000003\" /><line fill=\"#800080\" stroke=\"#add8e6\" stroke-width=\"1\" x1=\"47.0\" x2=\"80.0\" y1=\"30.605494298487734\" y2=\"30.605496000000016\" /><line fill=\"#800080\" stroke=\"#a020f0\" stroke-width=\"1\" x1=\"40.0\" x2=\"0.0\" y1=\"34.60549429848772\" y2=\"11.511484000000003\" /><line fill=\"#800080\" stroke=\"#a020f0\" stroke-width=\"1\" x1=\"40.0\" x2=\"80.0\" y1=\"34.60549429848772\" y2=\"11.511484000000003\" /><polygon fill=\"red\" points=\"36.800000000000004,25.605494298487734 33.0,28.605494298487706 33.0,40.605494298487734 36.800000000000004,43.605494298487706 43.2,43.605494298487706 47.0,40.605494298487734 47.0,28.605494298487706 43.2,25.605494298487734\" stroke=\"red\" stroke-width=\"1\" /><polygon points=\"-2.0,-2.0 0,0 2.0,-2.0 0,2.0\" stroke=\"black\" stroke-width=\"1\" transform=\"translate(40.0,34.60549429848772) rotate(180.0)\" /><polygon fill=\"black\" points=\"42.400000000000006,29.005494298487733 42.400000000000006,32.205494298487736 37.599999999999994,32.205494298487736 37.599999999999994,29.005494298487733\" stroke=\"black\" stroke-width=\"1\" /></svg>"
      }
     },
     "3af6f002bd184d88ad6d8cb2de33ad96": {
      "model_module": "@jupyter-widgets/controls",
      "model_module_version": "1.1.0",
      "model_name": "DescriptionStyleModel",
      "state": {
       "description_width": ""
      }
     },
     "3b1f174da9ff4a7f9f3f726ae883c1b9": {
      "model_module": "@jupyter-widgets/controls",
      "model_module_version": "1.1.0",
      "model_name": "DescriptionStyleModel",
      "state": {
       "description_width": ""
      }
     },
     "3b3483e57cf94ffa9bb903433190cc1c": {
      "model_module": "@jupyter-widgets/controls",
      "model_module_version": "1.1.0",
      "model_name": "TextModel",
      "state": {
       "description": "Time:",
       "layout": "IPY_MODEL_6a6a1de5f3e9400ca2adbf4f36dbcc15",
       "style": "IPY_MODEL_b1ce53d45f904ef8b18e02fa5a48c0f4",
       "value": "0.00 seconds"
      }
     },
     "3b69f35eb90a4868ada0d106ba25df01": {
      "model_module": "@jupyter-widgets/controls",
      "model_module_version": "1.1.0",
      "model_name": "ButtonModel",
      "state": {
       "description": "Clear Output",
       "layout": "IPY_MODEL_1915f8ef25604c3eb0e49db4a5eb1da1",
       "style": "IPY_MODEL_2a478aad48574bcf95903b45c0e08e93"
      }
     },
     "3b839ddec5fe42339a5ea4c63542f7cb": {
      "model_module": "@jupyter-widgets/base",
      "model_module_version": "1.0.0",
      "model_name": "LayoutModel",
      "state": {}
     },
     "3bf0d634a4b446a9a22dc67079dc6453": {
      "model_module": "@jupyter-widgets/base",
      "model_module_version": "1.0.0",
      "model_name": "LayoutModel",
      "state": {}
     },
     "3bf5d18cc883492c89b9779459897649": {
      "model_module": "@jupyter-widgets/base",
      "model_module_version": "1.0.0",
      "model_name": "LayoutModel",
      "state": {}
     },
     "3c25f5a34b8546908479c638e33f9590": {
      "model_module": "@jupyter-widgets/controls",
      "model_module_version": "1.1.0",
      "model_name": "DescriptionStyleModel",
      "state": {
       "description_width": ""
      }
     },
     "3c49fb1da05f4ae6898a61356701d9a5": {
      "model_module": "@jupyter-widgets/controls",
      "model_module_version": "1.1.0",
      "model_name": "DescriptionStyleModel",
      "state": {
       "description_width": ""
      }
     },
     "3c5575dc454f4714928f9388e21dee32": {
      "model_module": "@jupyter-widgets/controls",
      "model_module_version": "1.1.0",
      "model_name": "FloatTextModel",
      "state": {
       "description": "Feature scale:",
       "layout": "IPY_MODEL_c730f638bf88458992405beb1e0e4a8b",
       "step": null,
       "style": "IPY_MODEL_db412530b54746e584808f702d136988",
       "value": 2
      }
     },
     "3c89f5bb24f34e338d67d173f03cc3c4": {
      "model_module": "@jupyter-widgets/controls",
      "model_module_version": "1.1.0",
      "model_name": "HBoxModel",
      "state": {
       "children": [
        "IPY_MODEL_f8b2cb7d9328425c8dd3b0226e39c968",
        "IPY_MODEL_52d57ee2254e4ff790c96c8adc6b2af2"
       ],
       "layout": "IPY_MODEL_e650b9e61f664ee49ffff1dce6a79d56"
      }
     },
     "3ccccef0286e45e5b28aacbc0445b62e": {
      "model_module": "@jupyter-widgets/controls",
      "model_module_version": "1.1.0",
      "model_name": "SliderStyleModel",
      "state": {
       "description_width": ""
      }
     },
     "3cd79f54a946425bb54b4b07f2e480e2": {
      "model_module": "@jupyter-widgets/controls",
      "model_module_version": "1.1.0",
      "model_name": "DescriptionStyleModel",
      "state": {
       "description_width": "initial"
      }
     },
     "3ce1bda46e264de0948cb6baf8d3004d": {
      "model_module": "@jupyter-widgets/base",
      "model_module_version": "1.0.0",
      "model_name": "LayoutModel",
      "state": {}
     },
     "3ce52b11abc64634ab2a497bb6ab3f5a": {
      "model_module": "@jupyter-widgets/controls",
      "model_module_version": "1.1.0",
      "model_name": "ButtonModel",
      "state": {
       "icon": "step-forward",
       "layout": "IPY_MODEL_6071dedf39a74e14876387f4ebcf983f",
       "style": "IPY_MODEL_278a272d39f24f5db8c8c639722d05f7"
      }
     },
     "3d129ceb8cb7411ba15dd0be82d3845a": {
      "model_module": "@jupyter-widgets/base",
      "model_module_version": "1.0.0",
      "model_name": "LayoutModel",
      "state": {
       "height": "248px",
       "padding": "0px 0px 0px 0px",
       "width": "10px"
      }
     },
     "3d69a47893c44a3ca748f0e723ef20a4": {
      "model_module": "@jupyter-widgets/controls",
      "model_module_version": "1.1.0",
      "model_name": "TextModel",
      "state": {
       "description": "Time:",
       "layout": "IPY_MODEL_ff61b73b471d459bb568cd9c5637e55d",
       "style": "IPY_MODEL_28984ecd7c314bc09c13e91071e9a9c6",
       "value": "0.00 seconds"
      }
     },
     "3d72b9a99a7843cfb48771ac53a5cac3": {
      "model_module": "@jupyter-widgets/controls",
      "model_module_version": "1.1.0",
      "model_name": "VBoxModel",
      "state": {
       "children": [
        "IPY_MODEL_85f590867c0b45f285aa6ded3a2291ac",
        "IPY_MODEL_799e18b3c13544728ba494670027fcf7"
       ],
       "layout": "IPY_MODEL_7d0ef4fd50e44df4b6f2568fc9759297"
      }
     },
     "3d7ab18511254f68b9d183658f174e44": {
      "model_module": "@jupyter-widgets/controls",
      "model_module_version": "1.1.0",
      "model_name": "SliderStyleModel",
      "state": {
       "description_width": ""
      }
     },
     "3d856610af6642b7841f999372d94cc3": {
      "model_module": "@jupyter-widgets/controls",
      "model_module_version": "1.1.0",
      "model_name": "SelectModel",
      "state": {
       "_options_labels": [
        "",
        "Accent",
        "Accent_r",
        "Blues",
        "Blues_r",
        "BrBG",
        "BrBG_r",
        "BuGn",
        "BuGn_r",
        "BuPu",
        "BuPu_r",
        "CMRmap",
        "CMRmap_r",
        "Dark2",
        "Dark2_r",
        "GnBu",
        "GnBu_r",
        "Greens",
        "Greens_r",
        "Greys",
        "Greys_r",
        "OrRd",
        "OrRd_r",
        "Oranges",
        "Oranges_r",
        "PRGn",
        "PRGn_r",
        "Paired",
        "Paired_r",
        "Pastel1",
        "Pastel1_r",
        "Pastel2",
        "Pastel2_r",
        "PiYG",
        "PiYG_r",
        "PuBu",
        "PuBuGn",
        "PuBuGn_r",
        "PuBu_r",
        "PuOr",
        "PuOr_r",
        "PuRd",
        "PuRd_r",
        "Purples",
        "Purples_r",
        "RdBu",
        "RdBu_r",
        "RdGy",
        "RdGy_r",
        "RdPu",
        "RdPu_r",
        "RdYlBu",
        "RdYlBu_r",
        "RdYlGn",
        "RdYlGn_r",
        "Reds",
        "Reds_r",
        "Set1",
        "Set1_r",
        "Set2",
        "Set2_r",
        "Set3",
        "Set3_r",
        "Spectral",
        "Spectral_r",
        "Vega10",
        "Vega10_r",
        "Vega20",
        "Vega20_r",
        "Vega20b",
        "Vega20b_r",
        "Vega20c",
        "Vega20c_r",
        "Wistia",
        "Wistia_r",
        "YlGn",
        "YlGnBu",
        "YlGnBu_r",
        "YlGn_r",
        "YlOrBr",
        "YlOrBr_r",
        "YlOrRd",
        "YlOrRd_r",
        "afmhot",
        "afmhot_r",
        "autumn",
        "autumn_r",
        "binary",
        "binary_r",
        "bone",
        "bone_r",
        "brg",
        "brg_r",
        "bwr",
        "bwr_r",
        "cool",
        "cool_r",
        "coolwarm",
        "coolwarm_r",
        "copper",
        "copper_r",
        "cubehelix",
        "cubehelix_r",
        "flag",
        "flag_r",
        "gist_earth",
        "gist_earth_r",
        "gist_gray",
        "gist_gray_r",
        "gist_heat",
        "gist_heat_r",
        "gist_ncar",
        "gist_ncar_r",
        "gist_rainbow",
        "gist_rainbow_r",
        "gist_stern",
        "gist_stern_r",
        "gist_yarg",
        "gist_yarg_r",
        "gnuplot",
        "gnuplot2",
        "gnuplot2_r",
        "gnuplot_r",
        "gray",
        "gray_r",
        "hot",
        "hot_r",
        "hsv",
        "hsv_r",
        "inferno",
        "inferno_r",
        "jet",
        "jet_r",
        "magma",
        "magma_r",
        "nipy_spectral",
        "nipy_spectral_r",
        "ocean",
        "ocean_r",
        "pink",
        "pink_r",
        "plasma",
        "plasma_r",
        "prism",
        "prism_r",
        "rainbow",
        "rainbow_r",
        "seismic",
        "seismic_r",
        "spectral",
        "spectral_r",
        "spring",
        "spring_r",
        "summer",
        "summer_r",
        "tab10",
        "tab10_r",
        "tab20",
        "tab20_r",
        "tab20b",
        "tab20b_r",
        "tab20c",
        "tab20c_r",
        "terrain",
        "terrain_r",
        "viridis",
        "viridis_r",
        "winter",
        "winter_r"
       ],
       "description": "Colormap:",
       "index": 0,
       "layout": "IPY_MODEL_61399607d3574d29aa33e3c498daa217",
       "rows": 1,
       "style": "IPY_MODEL_2d668bd7b2564fab809e49f8da15ab24"
      }
     },
     "3d8a5ba69cbd443faa081e86aa27aee6": {
      "model_module": "@jupyter-widgets/base",
      "model_module_version": "1.0.0",
      "model_name": "LayoutModel",
      "state": {
       "height": "20px",
       "padding": "0px 0px 0px 0px",
       "width": "248px"
      }
     },
     "3d8dca9b56d64f708bbc7fe82a68f151": {
      "model_module": "@jupyter-widgets/base",
      "model_module_version": "1.0.0",
      "model_name": "LayoutModel",
      "state": {}
     },
     "3db25cc00cc046079f1e76991e3252fd": {
      "model_module": "@jupyter-widgets/base",
      "model_module_version": "1.0.0",
      "model_name": "LayoutModel",
      "state": {}
     },
     "3e00dc9206cd4bbca4195e26ed66e1bd": {
      "model_module": "@jupyter-widgets/controls",
      "model_module_version": "1.1.0",
      "model_name": "HBoxModel",
      "state": {
       "children": [
        "IPY_MODEL_7928ae4bc43c4aae922a212784f763cf",
        "IPY_MODEL_064622712ca345d5b4f662e5aaa19f80"
       ],
       "layout": "IPY_MODEL_ff6ecc192af84a83a3f939789d651f61"
      }
     },
     "3e0607aa2f9a41fa9041322b49d0bd1d": {
      "model_module": "@jupyter-widgets/base",
      "model_module_version": "1.0.0",
      "model_name": "LayoutModel",
      "state": {}
     },
     "3e818e9b263146d69d049033221ffa17": {
      "model_module": "@jupyter-widgets/base",
      "model_module_version": "1.0.0",
      "model_name": "LayoutModel",
      "state": {
       "height": "20px",
       "padding": "0px 0px 0px 0px",
       "width": "248px"
      }
     },
     "3e9519689c154751892761c82bb868f6": {
      "model_module": "@jupyter-widgets/controls",
      "model_module_version": "1.1.0",
      "model_name": "DescriptionStyleModel",
      "state": {
       "description_width": ""
      }
     },
     "3ec77f06cc15445e8375e802fbde9c59": {
      "model_module": "@jupyter-widgets/controls",
      "model_module_version": "1.1.0",
      "model_name": "CheckboxModel",
      "state": {
       "description": "Update GUI",
       "disabled": false,
       "layout": "IPY_MODEL_2e44c11dec2549808663b4ba30425336",
       "style": "IPY_MODEL_4cdc452112cf466e87b570de0a37590b",
       "value": true
      }
     },
     "3ef31978734c44b99b7ae2a6d6ec7eb5": {
      "model_module": "@jupyter-widgets/controls",
      "model_module_version": "1.1.0",
      "model_name": "HBoxModel",
      "state": {
       "children": [
        "IPY_MODEL_4a226e1b5a5f4cc091094f0de00add4a",
        "IPY_MODEL_9c2622b5ced945f9bd114ca0ac55b7a1"
       ],
       "layout": "IPY_MODEL_8437594d59b244c38aa2615debf94626"
      }
     },
     "3f4b98c578e64f92bfd35b298c3831bc": {
      "model_module": "@jupyter-widgets/controls",
      "model_module_version": "1.1.0",
      "model_name": "VBoxModel",
      "state": {
       "children": [
        "IPY_MODEL_c9f73094a2924953b746b2fdb17c1526",
        "IPY_MODEL_9e1447aebd5448dfb407e526b7ac7b8f",
        "IPY_MODEL_b156f6620e554e0ca3df071a75cd67d1"
       ],
       "layout": "IPY_MODEL_e5324bcf6b174e76a013398b4f63f0dd"
      }
     },
     "3f6820f616464defa4694d3b0f0e1e92": {
      "model_module": "@jupyter-widgets/controls",
      "model_module_version": "1.1.0",
      "model_name": "SliderStyleModel",
      "state": {
       "description_width": ""
      }
     },
     "3f9777f207ef4d9cb35c88ca06f528ef": {
      "model_module": "@jupyter-widgets/controls",
      "model_module_version": "1.1.0",
      "model_name": "PlayModel",
      "state": {
       "layout": "IPY_MODEL_1a11c5cf812742ac937f98d520756b77",
       "max": 1000000,
       "style": "IPY_MODEL_2f4ca56dd46e4eaca62f13a3197c4d35"
      }
     },
     "3fc17f53e8e043659739d9f5e439af7a": {
      "model_module": "@jupyter-widgets/controls",
      "model_module_version": "1.1.0",
      "model_name": "DescriptionStyleModel",
      "state": {
       "description_width": ""
      }
     },
     "3febb3177a164f11b6155305242edc05": {
      "model_module": "@jupyter-widgets/base",
      "model_module_version": "1.0.0",
      "model_name": "LayoutModel",
      "state": {}
     },
     "4003228f3b604b34824b3ca2a898504e": {
      "model_module": "@jupyter-widgets/controls",
      "model_module_version": "1.1.0",
      "model_name": "HBoxModel",
      "state": {
       "children": [
        "IPY_MODEL_4927544732b841f9b6e93f7a7edb2a86",
        "IPY_MODEL_2b0bf10327754b838f7e838ac838dcb0"
       ],
       "layout": "IPY_MODEL_4a6aa2596e114a2d9ddacd0b57119a97"
      }
     },
     "401d600bf30643f9b6b3a9118fbc7952": {
      "model_module": "@jupyter-widgets/controls",
      "model_module_version": "1.1.0",
      "model_name": "SliderStyleModel",
      "state": {
       "description_width": ""
      }
     },
     "405638900e8f46e0a0c929809b7bc170": {
      "model_module": "@jupyter-widgets/controls",
      "model_module_version": "1.1.0",
      "model_name": "HBoxModel",
      "state": {
       "children": [
        "IPY_MODEL_136f5f510ad94929880fa6314972e9c8",
        "IPY_MODEL_9d3330124429415b96e7994d6b411ea4",
        "IPY_MODEL_6e7cb99bb7d743c08181d108ec21a41e"
       ],
       "layout": "IPY_MODEL_881ea27b47304fc28b6228a41d4a1ce2"
      }
     },
     "40ba7f159de9481cb5deb1d589286a52": {
      "model_module": "@jupyter-widgets/controls",
      "model_module_version": "1.1.0",
      "model_name": "SliderStyleModel",
      "state": {
       "description_width": ""
      }
     },
     "40c16b11400246be88f0f5973b78ff82": {
      "model_module": "@jupyter-widgets/controls",
      "model_module_version": "1.1.0",
      "model_name": "CheckboxModel",
      "state": {
       "description": "Update GUI",
       "disabled": false,
       "layout": "IPY_MODEL_94ef7f8dc3144e62ac59bbcf54e9ab46",
       "style": "IPY_MODEL_d6cc312f246f43c7b845a9f62bbf9af5",
       "value": true
      }
     },
     "41003f19f4944f5e9dc9bbee1c19513b": {
      "model_module": "@jupyter-widgets/controls",
      "model_module_version": "1.1.0",
      "model_name": "TextModel",
      "state": {
       "description": "Time:",
       "layout": "IPY_MODEL_03bf69031f8f4af1802efbbcbe09483a",
       "style": "IPY_MODEL_26c36e63606041f0b1578cd209aace84",
       "value": "0.00 seconds"
      }
     },
     "4109d8589de34455a1c0f4b652cae0d5": {
      "model_module": "@jupyter-widgets/base",
      "model_module_version": "1.0.0",
      "model_name": "LayoutModel",
      "state": {
       "height": "30px",
       "padding": "0px 0px 0px 10px",
       "width": "260px"
      }
     },
     "411ffb0bab5d479e94844ed137445adf": {
      "model_module": "@jupyter-widgets/controls",
      "model_module_version": "1.1.0",
      "model_name": "FloatSliderModel",
      "state": {
       "layout": "IPY_MODEL_49caf29422514e76824bf2256e5aa858",
       "readout": false,
       "step": 0.1,
       "style": "IPY_MODEL_d2ec5ac6af424bdda0866e0044ba6bfa",
       "value": 50
      }
     },
     "412a4acce0ad463fae6ec991d38506c1": {
      "model_module": "@jupyter-widgets/controls",
      "model_module_version": "1.1.0",
      "model_name": "HBoxModel",
      "state": {
       "children": [
        "IPY_MODEL_4b6a77424d3947f083a2ef899683327b",
        "IPY_MODEL_58059465afab4761bf13dda988bede8e",
        "IPY_MODEL_58dc214bc650490e97a4a039047f1195"
       ],
       "layout": "IPY_MODEL_f8ec3207e94f4355aa41df6eed0f0490"
      }
     },
     "413055c81b72442fb0880dafbb4efb35": {
      "model_module": "@jupyter-widgets/controls",
      "model_module_version": "1.1.0",
      "model_name": "VBoxModel",
      "state": {
       "children": [
        "IPY_MODEL_ce6cc74d2444421c97475f79a477fb8b",
        "IPY_MODEL_f86f26a2e76d40d19e950a9f7777be6d"
       ],
       "layout": "IPY_MODEL_0dce4bd540624a3ebe8870ad1711f52d"
      }
     },
     "415230e269a443938628e7c799685865": {
      "model_module": "@jupyter-widgets/base",
      "model_module_version": "1.0.0",
      "model_name": "LayoutModel",
      "state": {}
     },
     "415dbf956b934a9682cc59d8bf53bf56": {
      "model_module": "@jupyter-widgets/controls",
      "model_module_version": "1.1.0",
      "model_name": "DescriptionStyleModel",
      "state": {
       "description_width": ""
      }
     },
     "419e49412b98452db54b7ec22c2d1c30": {
      "model_module": "@jupyter-widgets/controls",
      "model_module_version": "1.1.0",
      "model_name": "SliderStyleModel",
      "state": {
       "description_width": ""
      }
     },
     "422d63419f0f413aa4b99b7b44008a68": {
      "model_module": "@jupyter-widgets/base",
      "model_module_version": "1.0.0",
      "model_name": "LayoutModel",
      "state": {}
     },
     "422d80f8207b42068078378bafdf4acf": {
      "model_module": "@jupyter-widgets/base",
      "model_module_version": "1.0.0",
      "model_name": "LayoutModel",
      "state": {
       "height": "20px",
       "padding": "0px 0px 0px 0px",
       "width": "248px"
      }
     },
     "423646d7c3644f50b41c806658e9ca67": {
      "model_module": "@jupyter-widgets/base",
      "model_module_version": "1.0.0",
      "model_name": "LayoutModel",
      "state": {}
     },
     "42a7340870a643e69404b349f750a3e9": {
      "model_module": "@jupyter-widgets/base",
      "model_module_version": "1.0.0",
      "model_name": "LayoutModel",
      "state": {
       "height": "248px",
       "padding": "0px 0px 0px 0px",
       "width": "10px"
      }
     },
     "42a9977eef7142b4aeffebaedae6911c": {
      "model_module": "@jupyter-widgets/controls",
      "model_module_version": "1.1.0",
      "model_name": "CheckboxModel",
      "state": {
       "description": "Trace Path",
       "disabled": false,
       "layout": "IPY_MODEL_c2b1d4c9394247ddaef7d5d2e3c2f5c9",
       "style": "IPY_MODEL_5805cc7bb6b347c98f0d597f37939181",
       "value": false
      }
     },
     "42c7ed97ca544fd08679cfa3e9b7a22a": {
      "model_module": "@jupyter-widgets/base",
      "model_module_version": "1.0.0",
      "model_name": "LayoutModel",
      "state": {
       "width": "100%"
      }
     },
     "42ffbfb9b338483dbb89c59a0da271f3": {
      "model_module": "@jupyter-widgets/base",
      "model_module_version": "1.0.0",
      "model_name": "LayoutModel",
      "state": {}
     },
     "430e1816b77746d5886bb4e5d9912ffe": {
      "model_module": "@jupyter-widgets/base",
      "model_module_version": "1.0.0",
      "model_name": "LayoutModel",
      "state": {}
     },
     "432637120f344da9b851b2046ca4e1ad": {
      "model_module": "@jupyter-widgets/controls",
      "model_module_version": "1.1.0",
      "model_name": "VBoxModel",
      "state": {
       "children": [
        "IPY_MODEL_2fe909131ecb4e2b82b4b80a3753cf47",
        "IPY_MODEL_cb2a8be695ac4f67ad765bfae0b506dc",
        "IPY_MODEL_ae6794c7005b4b26ac49f306f8933967"
       ],
       "layout": "IPY_MODEL_cc264357b49f45bfb90d6ddd64882c12"
      }
     },
     "43685706c7144b25b95f4e3238708371": {
      "model_module": "@jupyter-widgets/base",
      "model_module_version": "1.0.0",
      "model_name": "LayoutModel",
      "state": {}
     },
     "43a41846c1194455874ac912034218ff": {
      "model_module": "@jupyter-widgets/base",
      "model_module_version": "1.0.0",
      "model_name": "LayoutModel",
      "state": {}
     },
     "43c2c8e92f274cab8ba340be3e4c8c6c": {
      "model_module": "@jupyter-widgets/output",
      "model_module_version": "1.1.0",
      "model_name": "OutputModel",
      "state": {
       "_model_module_version": "1.1.0",
       "_view_module_version": "1.1.0",
       "layout": "IPY_MODEL_e61445f63d6248c4b9eb01d4350a6f1e"
      }
     },
     "43d13c9cef334a69af65150c083e41b1": {
      "model_module": "@jupyter-widgets/controls",
      "model_module_version": "1.1.0",
      "model_name": "SliderStyleModel",
      "state": {
       "description_width": ""
      }
     },
     "43ffcfbe57e14c75a9f93599cd4451a2": {
      "model_module": "@jupyter-widgets/base",
      "model_module_version": "1.0.0",
      "model_name": "LayoutModel",
      "state": {}
     },
     "44148e0866d94a0f8a02736be1233844": {
      "model_module": "@jupyter-widgets/base",
      "model_module_version": "1.0.0",
      "model_name": "LayoutModel",
      "state": {
       "height": "20px",
       "padding": "0px 0px 0px 0px",
       "width": "248px"
      }
     },
     "446c8a34a0574c20b835e009535fb51d": {
      "model_module": "@jupyter-widgets/base",
      "model_module_version": "1.0.0",
      "model_name": "LayoutModel",
      "state": {}
     },
     "44babdc85bc5484c9c32350d9f00b580": {
      "model_module": "@jupyter-widgets/controls",
      "model_module_version": "1.1.0",
      "model_name": "ButtonModel",
      "state": {
       "icon": "backward",
       "layout": "IPY_MODEL_3a5291dbe99646aaade582bfcc0fc83b",
       "style": "IPY_MODEL_84ac18924e5b4976ab644a4cde4c3b8a"
      }
     },
     "44f5f57a70844ec7a0b9fa64c0928842": {
      "model_module": "@jupyter-widgets/controls",
      "model_module_version": "1.1.0",
      "model_name": "VBoxModel",
      "state": {
       "children": [
        "IPY_MODEL_27e7101b322d4eeca9bc7d59eeba5508",
        "IPY_MODEL_3356772de1f944f88d5f33bd1e4b6638",
        "IPY_MODEL_43c2c8e92f274cab8ba340be3e4c8c6c"
       ],
       "layout": "IPY_MODEL_c37174fd371c499ca049140842458e6c"
      }
     },
     "45243ef514b34c799647e56a4e344ca8": {
      "model_module": "@jupyter-widgets/base",
      "model_module_version": "1.0.0",
      "model_name": "LayoutModel",
      "state": {
       "height": "20px",
       "padding": "0px 0px 0px 0px",
       "width": "248px"
      }
     },
     "454e788d845843e5b3931e74794f746b": {
      "model_module": "@jupyter-widgets/base",
      "model_module_version": "1.0.0",
      "model_name": "LayoutModel",
      "state": {}
     },
     "4559767675de416a9f6c1520b9d65af6": {
      "model_module": "@jupyter-widgets/base",
      "model_module_version": "1.0.0",
      "model_name": "LayoutModel",
      "state": {
       "height": "50px",
       "width": "100%"
      }
     },
     "45b20923d2d848c29a086a39177cea84": {
      "model_module": "@jupyter-widgets/base",
      "model_module_version": "1.0.0",
      "model_name": "LayoutModel",
      "state": {}
     },
     "45c9d5a37d8649cba1f8c1f5bf79ae30": {
      "model_module": "@jupyter-widgets/base",
      "model_module_version": "1.0.0",
      "model_name": "LayoutModel",
      "state": {}
     },
     "468be02fc40f4900bb7db4ab323eed1b": {
      "model_module": "@jupyter-widgets/base",
      "model_module_version": "1.0.0",
      "model_name": "LayoutModel",
      "state": {}
     },
     "46cf95447d44401d985f71ed1a6f63e4": {
      "model_module": "@jupyter-widgets/controls",
      "model_module_version": "1.1.0",
      "model_name": "ButtonModel",
      "state": {
       "description": "Play",
       "icon": "play",
       "layout": "IPY_MODEL_9715c8b92bef475290a9097e3399bc89",
       "style": "IPY_MODEL_a4707e69640b455db6d6882c0d346388"
      }
     },
     "47695b572d4d419b850654443989c55d": {
      "model_module": "@jupyter-widgets/base",
      "model_module_version": "1.0.0",
      "model_name": "LayoutModel",
      "state": {}
     },
     "479c034765964e2b9b34d45a59b36a2e": {
      "model_module": "@jupyter-widgets/controls",
      "model_module_version": "1.1.0",
      "model_name": "HTMLModel",
      "state": {
       "layout": "IPY_MODEL_3230e5e14fe3465f931ce4da8fb1d1d7",
       "style": "IPY_MODEL_06927c8111524e67a4ca76f54f38e542",
       "value": "<p style=\"text-align:center\"><svg id='Stop When Close' xmlns='http://www.w3.org/2000/svg' viewBox=\"0 0 350 870\" max-width=\"100%\" height=\"1248.0\" image-rendering=\"pixelated\">\n    <defs>\n        <marker id=\"arrow\" markerWidth=\"10\" markerHeight=\"10\" refX=\"9\" refY=\"3\" orient=\"auto\" markerUnits=\"strokeWidth\">\n          <path d=\"M0,0 L0,6 L9,3 z\" fill=\"black\" />\n        </marker>\n    </defs><text x=\"175.0\" y=\"12.5\" font-family=\"monospace\" font-size=\"15\" text-anchor=\"middle\" alignment-baseline=\"central\">Stop When Close</text><rect x=\"74.0\" y=\"24\" width=\"202\" height=\"202\" style=\"fill:none;stroke:black;stroke-width:2\"/><image id=\"Stop When Close_output_targets_16\" class=\"Stop When Close_output_targets\" x=\"75.0\" y=\"25\" height=\"200\" width=\"200\" preserveAspectRatio=\"none\" href=\"data:image/gif;base64,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\"><title>Layer: output (output)\n shape = (1,)\n Keras class = Dense\n activation = tanh</title></image><text x=\"280.0\" y=\"127.0\" font-family=\"monospace\" font-size=\"12\" text-anchor=\"start\" alignment-baseline=\"central\">targets</text><rect x=\"74.0\" y=\"234\" width=\"202\" height=\"202\" style=\"fill:none;stroke:black;stroke-width:2\"/><image id=\"Stop When Close_output_errors_16\" class=\"Stop When Close_output_errors\" x=\"75.0\" y=\"235\" height=\"200\" width=\"200\" preserveAspectRatio=\"none\" href=\"data:image/gif;base64,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\"><title>Layer: output (output)\n shape = (1,)\n Keras class = Dense\n activation = tanh</title></image><text x=\"280.0\" y=\"337.0\" font-family=\"monospace\" font-size=\"12\" text-anchor=\"start\" alignment-baseline=\"central\">errors</text><rect x=\"74.0\" y=\"444\" width=\"202\" height=\"202\" style=\"fill:none;stroke:black;stroke-width:2\"/><image id=\"Stop When Close_output_16\" class=\"Stop When Close_output\" x=\"75.0\" y=\"445\" height=\"200\" width=\"200\" preserveAspectRatio=\"none\" href=\"data:image/gif;base64,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\"><title>Layer: output (output)\n shape = (1,)\n Keras class = Dense\n activation = tanh</title></image><text x=\"280.0\" y=\"547.0\" font-family=\"monospace\" font-size=\"12\" text-anchor=\"start\" alignment-baseline=\"central\">output</text><line x1=\"175.0\" y1=\"674\" x2=\"175.0\" y2=\"647\" stroke=\"black\" stroke-width=\"2\" marker-end=\"url(#arrow)\"><title>Weights from hidden to output\n output/kernel has shape (5, 1)\n output/bias has shape (1,)</title></line><rect x=\"74.0\" y=\"674\" width=\"202\" height=\"42\" style=\"fill:none;stroke:black;stroke-width:2\"/><image id=\"Stop When Close_hidden_17\" class=\"Stop When Close_hidden\" x=\"75.0\" y=\"675\" height=\"40\" width=\"200\" preserveAspectRatio=\"none\" href=\"data:image/gif;base64,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\"><title>Layer: hidden (hidden)\n shape = (5,)\n Keras class = Dense\n activation = sigmoid</title></image><text x=\"280.0\" y=\"697.0\" font-family=\"monospace\" font-size=\"12\" text-anchor=\"start\" alignment-baseline=\"central\">hidden</text><line x1=\"175.0\" y1=\"744\" x2=\"175.0\" y2=\"717\" stroke=\"black\" stroke-width=\"2\" marker-end=\"url(#arrow)\"><title>Weights from input to hidden\n hidden/kernel has shape (2, 5)\n hidden/bias has shape (5,)</title></line><rect x=\"74.0\" y=\"744\" width=\"202\" height=\"102\" style=\"fill:none;stroke:black;stroke-width:2\"/><image id=\"Stop When Close_input_18\" class=\"Stop When Close_input\" x=\"75.0\" y=\"745\" height=\"100\" width=\"200\" preserveAspectRatio=\"none\" href=\"data:image/gif;base64,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\"><title>Layer: input (input)\n shape = (2,)\n Keras class = Input</title></image><text x=\"280.0\" y=\"797.0\" font-family=\"monospace\" font-size=\"12\" text-anchor=\"start\" alignment-baseline=\"central\">input</text></svg></p>"
      }
     },
     "47e2a4db09d34eca930f11b8a5f6b195": {
      "model_module": "@jupyter-widgets/controls",
      "model_module_version": "1.1.0",
      "model_name": "DescriptionStyleModel",
      "state": {
       "description_width": ""
      }
     },
     "48116981dd6345de8f8ee6a5a51ae5e6": {
      "model_module": "@jupyter-widgets/base",
      "model_module_version": "1.0.0",
      "model_name": "LayoutModel",
      "state": {
       "height": "30px",
       "padding": "0px 0px 0px 10px",
       "width": "260px"
      }
     },
     "4834b2537e1643d2a4b6a791689298db": {
      "model_module": "@jupyter-widgets/controls",
      "model_module_version": "1.1.0",
      "model_name": "ButtonModel",
      "state": {
       "description": "Clear Output",
       "layout": "IPY_MODEL_c07fb0856b85461a80ab0b2ee1caf664",
       "style": "IPY_MODEL_17643d4676f94f7294f22acc48afbad9"
      }
     },
     "48482120b5e843a7a34f8fc62dc31a85": {
      "model_module": "@jupyter-widgets/controls",
      "model_module_version": "1.1.0",
      "model_name": "VBoxModel",
      "state": {
       "children": [
        "IPY_MODEL_89b7259dce1142a68814cb64fbe76746",
        "IPY_MODEL_6ae57a7736274cc7ad44002135f3593e"
       ],
       "layout": "IPY_MODEL_e54177227bb742bbb634f276adfe3f2f"
      }
     },
     "4849df08752a41b08301c969d3da9ec7": {
      "model_module": "@jupyter-widgets/controls",
      "model_module_version": "1.1.0",
      "model_name": "CheckboxModel",
      "state": {
       "description": "Trace Path",
       "disabled": false,
       "layout": "IPY_MODEL_cde48f0dbb124523b15b710c30ed15d4",
       "style": "IPY_MODEL_1447eb4146f242819458ca87fdfb535d",
       "value": false
      }
     },
     "484fa64878b2495393f3eef1176336af": {
      "model_module": "@jupyter-widgets/controls",
      "model_module_version": "1.1.0",
      "model_name": "ButtonModel",
      "state": {
       "description": "Clear Output",
       "layout": "IPY_MODEL_a50a8c8fd42d405d887ca4bd48ed222f",
       "style": "IPY_MODEL_9950a7c195ff4f7c9bea6b440eb8730e"
      }
     },
     "48502b39399b4aa088bdcbea4fcfa232": {
      "model_module": "@jupyter-widgets/base",
      "model_module_version": "1.0.0",
      "model_name": "LayoutModel",
      "state": {}
     },
     "4857fe65d83d4a8ea76ba5373a967423": {
      "model_module": "@jupyter-widgets/base",
      "model_module_version": "1.0.0",
      "model_name": "LayoutModel",
      "state": {}
     },
     "487da4f5846a4080a24dba57733411f0": {
      "model_module": "@jupyter-widgets/controls",
      "model_module_version": "1.1.0",
      "model_name": "HBoxModel",
      "state": {
       "children": [
        "IPY_MODEL_eabc3af284a44a4582477f9be99ae259",
        "IPY_MODEL_00e91a7afb104eef9f172ef33dbca054",
        "IPY_MODEL_2f55c78b893c40c29499fa50a87aaf91"
       ],
       "layout": "IPY_MODEL_c0035885733a4609876f2f1448294b79"
      }
     },
     "488eacea00584a79b8ed690a2bab1a3f": {
      "model_module": "@jupyter-widgets/base",
      "model_module_version": "1.0.0",
      "model_name": "LayoutModel",
      "state": {}
     },
     "48e36ad350f54c14b4a120683cb3679a": {
      "model_module": "@jupyter-widgets/base",
      "model_module_version": "1.0.0",
      "model_name": "LayoutModel",
      "state": {}
     },
     "4927544732b841f9b6e93f7a7edb2a86": {
      "model_module": "@jupyter-widgets/controls",
      "model_module_version": "1.1.0",
      "model_name": "VBoxModel",
      "state": {
       "children": [
        "IPY_MODEL_6b1996450dc94923b44e190ca22a37bc",
        "IPY_MODEL_6b39035693e84cad815084f25bc413f5"
       ],
       "layout": "IPY_MODEL_ed03cc108a7348dcb2aab7b88b3801b2"
      }
     },
     "4967deb5fac64abebf84a1c249f2f078": {
      "model_module": "@jupyter-widgets/controls",
      "model_module_version": "1.1.0",
      "model_name": "SliderStyleModel",
      "state": {
       "description_width": ""
      }
     },
     "499ae00cd7ca49409b49f2157ac5a9bf": {
      "model_module": "@jupyter-widgets/base",
      "model_module_version": "1.0.0",
      "model_name": "LayoutModel",
      "state": {}
     },
     "49ae75b67c1c41379b29092105274bb1": {
      "model_module": "@jupyter-widgets/base",
      "model_module_version": "1.0.0",
      "model_name": "LayoutModel",
      "state": {}
     },
     "49caf29422514e76824bf2256e5aa858": {
      "model_module": "@jupyter-widgets/base",
      "model_module_version": "1.0.0",
      "model_name": "LayoutModel",
      "state": {
       "height": "30px",
       "padding": "0px 0px 0px 10px",
       "width": "260px"
      }
     },
     "49cd4d416dc64d028c4bb2b1c848e55c": {
      "model_module": "@jupyter-widgets/base",
      "model_module_version": "1.0.0",
      "model_name": "LayoutModel",
      "state": {
       "height": "30px",
       "padding": "0px 0px 0px 10px",
       "width": "260px"
      }
     },
     "4a00a7f25a8845f69d32afdc7c966a2e": {
      "model_module": "@jupyter-widgets/controls",
      "model_module_version": "1.1.0",
      "model_name": "FloatSliderModel",
      "state": {
       "layout": "IPY_MODEL_a636f22e336f4cb5922f56cec40b87d7",
       "readout": false,
       "step": 0.1,
       "style": "IPY_MODEL_3f6820f616464defa4694d3b0f0e1e92",
       "value": 50
      }
     },
     "4a1fa36a617544eeb3b2ae24dfbb3ad7": {
      "model_module": "@jupyter-widgets/controls",
      "model_module_version": "1.1.0",
      "model_name": "CheckboxModel",
      "state": {
       "description": "Trace Path",
       "disabled": false,
       "layout": "IPY_MODEL_c090401db6bd4e81839fe4626f98c6ad",
       "style": "IPY_MODEL_694c594c352c41c589a7d39c60249644",
       "value": false
      }
     },
     "4a226e1b5a5f4cc091094f0de00add4a": {
      "model_module": "@jupyter-widgets/controls",
      "model_module_version": "1.1.0",
      "model_name": "FloatSliderModel",
      "state": {
       "layout": "IPY_MODEL_e5c4c35c490e405587a5a206d3f47a8a",
       "orientation": "vertical",
       "readout": false,
       "step": 0.1,
       "style": "IPY_MODEL_2cea55c8e7f64bbcae6b92a1f5c0a610",
       "value": 25
      }
     },
     "4a6aa2596e114a2d9ddacd0b57119a97": {
      "model_module": "@jupyter-widgets/base",
      "model_module_version": "1.0.0",
      "model_name": "LayoutModel",
      "state": {}
     },
     "4a735984184d44be95760bd95423d527": {
      "model_module": "@jupyter-widgets/controls",
      "model_module_version": "1.1.0",
      "model_name": "FloatSliderModel",
      "state": {
       "layout": "IPY_MODEL_54b2f20e86b2425db40b47d6237666ab",
       "readout": false,
       "step": 0.1,
       "style": "IPY_MODEL_b030bf047c824a09a9ddbea0748bf17b",
       "value": 100
      }
     },
     "4a76340c2029424eaea4ae1be2c68258": {
      "model_module": "@jupyter-widgets/controls",
      "model_module_version": "1.1.0",
      "model_name": "VBoxModel",
      "state": {
       "children": [
        "IPY_MODEL_928cf702008a475cb41b753f0f79c9bd",
        "IPY_MODEL_3962fbda7aca49f49ea12d5f4b90c697",
        "IPY_MODEL_996a397601ba46cd87ffc33be437d496"
       ],
       "layout": "IPY_MODEL_24317ede0ac443d19af8df49db9c9ac6"
      }
     },
     "4aa928ad37504ec8a47e370ea19988f4": {
      "model_module": "@jupyter-widgets/base",
      "model_module_version": "1.0.0",
      "model_name": "LayoutModel",
      "state": {}
     },
     "4aac5f2f949948a984452b54359ac125": {
      "model_module": "@jupyter-widgets/base",
      "model_module_version": "1.0.0",
      "model_name": "LayoutModel",
      "state": {}
     },
     "4aaf43e5078141db95dd8b7acf6b3654": {
      "model_module": "@jupyter-widgets/controls",
      "model_module_version": "1.1.0",
      "model_name": "HTMLModel",
      "state": {
       "layout": "IPY_MODEL_9a2c64d35ba84c65916863bc5693f68b",
       "style": "IPY_MODEL_a81a858ee02f4b2f820136e5ac3ea105",
       "value": "<svg baseProfile=\"full\" height=\"240\" version=\"1.1\" width=\"240\" xmlns=\"http://www.w3.org/2000/svg\" xmlns:ev=\"http://www.w3.org/2001/xml-events\" xmlns:xlink=\"http://www.w3.org/1999/xlink\"><defs /><rect fill=\"#eef3dd\" height=\"240.0\" stroke=\"#bebebe\" stroke-width=\"1\" width=\"120.0\" x=\"0.0\" y=\"0.0\" /><line fill=\"#800080\" stroke=\"#add8e6\" stroke-width=\"1\" x1=\"49.5\" x2=\"0.0\" y1=\"65.13235900824833\" y2=\"65.13235800000001\" /><line fill=\"#800080\" stroke=\"#add8e6\" stroke-width=\"1\" x1=\"51.0\" x2=\"0.0\" y1=\"60.93235900824833\" y2=\"37.15066800000001\" /><line fill=\"#800080\" stroke=\"#add8e6\" stroke-width=\"1\" x1=\"53.4\" x2=\"3.78206031850877\" y1=\"59.132359008248315\" y2=\"0.0\" /><line fill=\"#800080\" stroke=\"#add8e6\" stroke-width=\"1\" x1=\"57.0\" x2=\"41.55745633359162\" y1=\"57.63235900824832\" y2=\"0.0\" /><line fill=\"#800080\" stroke=\"#add8e6\" stroke-width=\"1\" x1=\"63.0\" x2=\"78.4425436664084\" y1=\"57.63235900824832\" y2=\"0.0\" /><line fill=\"#800080\" stroke=\"#add8e6\" stroke-width=\"1\" x1=\"66.60000000000001\" x2=\"116.2179396814912\" y1=\"59.132359008248315\" y2=\"0.0\" /><line fill=\"#800080\" stroke=\"#add8e6\" stroke-width=\"1\" x1=\"69.0\" x2=\"120.0\" y1=\"60.93235900824833\" y2=\"37.15066800000001\" /><line fill=\"#800080\" stroke=\"#add8e6\" stroke-width=\"1\" x1=\"70.5\" x2=\"120.0\" y1=\"65.13235900824833\" y2=\"65.13235800000001\" /><line fill=\"#800080\" stroke=\"#a020f0\" stroke-width=\"1\" x1=\"60.0\" x2=\"0.0\" y1=\"71.13235900824833\" y2=\"36.491339999999994\" /><line fill=\"#800080\" stroke=\"#a020f0\" stroke-width=\"1\" x1=\"60.0\" x2=\"120.0\" y1=\"71.13235900824833\" y2=\"36.491339999999994\" /><polygon fill=\"red\" points=\"55.2,57.63235900824832 49.5,62.132359008248336 49.5,80.13235900824833 55.2,84.63235900824833 64.80000000000001,84.63235900824833 70.5,80.13235900824833 70.5,62.132359008248336 64.80000000000001,57.63235900824832\" stroke=\"red\" stroke-width=\"1\" /><polygon points=\"-3.0,-3.0 0,0 3.0,-3.0 0,3.0\" stroke=\"black\" stroke-width=\"1\" transform=\"translate(60.0,71.13235900824833) rotate(180.0)\" /><polygon fill=\"black\" points=\"63.6,62.732359008248324 63.6,67.53235900824832 56.4,67.53235900824832 56.4,62.732359008248324\" stroke=\"black\" stroke-width=\"1\" /></svg>"
      }
     },
     "4b0f9875ec3d43fd90504a0123532b39": {
      "model_module": "@jupyter-widgets/base",
      "model_module_version": "1.0.0",
      "model_name": "LayoutModel",
      "state": {}
     },
     "4b63c3d78dd745fd8836426d20f97d04": {
      "model_module": "@jupyter-widgets/controls",
      "model_module_version": "1.1.0",
      "model_name": "VBoxModel",
      "state": {
       "children": [
        "IPY_MODEL_575d34e4b6ee4573ab9b86a57f767ce0",
        "IPY_MODEL_e70c33ad2f044eefbbb38bfaa7ca36d8"
       ],
       "layout": "IPY_MODEL_792a4c75a840450998ead49ad1cf8775"
      }
     },
     "4b6a77424d3947f083a2ef899683327b": {
      "model_module": "@jupyter-widgets/controls",
      "model_module_version": "1.1.0",
      "model_name": "CheckboxModel",
      "state": {
       "description": "Update GUI",
       "disabled": false,
       "layout": "IPY_MODEL_ec662568c5dc47689c53615099c15fdb",
       "style": "IPY_MODEL_cd58f2b9e49b44d590d2b1e9cdd48135",
       "value": true
      }
     },
     "4bb6169bc8274f25bacca65e26589c0b": {
      "model_module": "@jupyter-widgets/controls",
      "model_module_version": "1.1.0",
      "model_name": "ButtonModel",
      "state": {
       "description": "Clear Output",
       "layout": "IPY_MODEL_02f835e94a1141b788d5dec5994495dd",
       "style": "IPY_MODEL_a91f23ecc1f14490a639fabaf57d65fe"
      }
     },
     "4be5c362298e48e98d09e27ed66304e4": {
      "model_module": "@jupyter-widgets/controls",
      "model_module_version": "1.1.0",
      "model_name": "DescriptionStyleModel",
      "state": {
       "description_width": ""
      }
     },
     "4bf88ec734684882bfe7c05929540671": {
      "model_module": "@jupyter-widgets/output",
      "model_module_version": "1.1.0",
      "model_name": "OutputModel",
      "state": {
       "_model_module_version": "1.1.0",
       "_view_module_version": "1.1.0",
       "layout": "IPY_MODEL_e1d045c20f8143adbcd69c7cef3c1182"
      }
     },
     "4c5b8ae822874a49b9ea79039390c303": {
      "model_module": "@jupyter-widgets/base",
      "model_module_version": "1.0.0",
      "model_name": "LayoutModel",
      "state": {}
     },
     "4c61e4044f8646be9b05994a56acf6e3": {
      "model_module": "@jupyter-widgets/base",
      "model_module_version": "1.0.0",
      "model_name": "LayoutModel",
      "state": {}
     },
     "4c8be3e16dd94ee0abce92ea25ce12b1": {
      "model_module": "@jupyter-widgets/base",
      "model_module_version": "1.0.0",
      "model_name": "LayoutModel",
      "state": {}
     },
     "4c9d00d41a28446a9e4e45865e9cc555": {
      "model_module": "@jupyter-widgets/base",
      "model_module_version": "1.0.0",
      "model_name": "LayoutModel",
      "state": {}
     },
     "4caa49472e434a5db9a7fed47c35a3ee": {
      "model_module": "@jupyter-widgets/controls",
      "model_module_version": "1.1.0",
      "model_name": "VBoxModel",
      "state": {
       "children": [
        "IPY_MODEL_4ce7f4e3cdd540b89993af42098e86ec",
        "IPY_MODEL_3e00dc9206cd4bbca4195e26ed66e1bd"
       ],
       "layout": "IPY_MODEL_05b6b7cf91714e8fa7fbe0bc7a68169c"
      }
     },
     "4cbd53738f934113a09cf5b358d42e7b": {
      "model_module": "@jupyter-widgets/controls",
      "model_module_version": "1.1.0",
      "model_name": "FloatSliderModel",
      "state": {
       "layout": "IPY_MODEL_aa09fbde3f71407886f2a127c089dcb9",
       "readout": false,
       "step": 0.1,
       "style": "IPY_MODEL_4ce3e4a59abc41d78d11e233f178b653",
       "value": 50
      }
     },
     "4cd3f012f4304bf190fcf52d6e3856b9": {
      "model_module": "@jupyter-widgets/controls",
      "model_module_version": "1.1.0",
      "model_name": "TextModel",
      "state": {
       "description": "Time:",
       "layout": "IPY_MODEL_bde861638df14b379f7e327c25c3cf94",
       "style": "IPY_MODEL_0f3c38690df148cf9959584d70221109",
       "value": "8.30 seconds"
      }
     },
     "4cd8bfd92ee34dc29b0e3eaff7ed7453": {
      "model_module": "@jupyter-widgets/controls",
      "model_module_version": "1.1.0",
      "model_name": "TextModel",
      "state": {
       "description": "Time:",
       "layout": "IPY_MODEL_ca2880016c0a4bf9a5472da07e007dc4",
       "style": "IPY_MODEL_6fb9db8eaddf4cc798e91406215b99c2",
       "value": "5.80 seconds"
      }
     },
     "4cdc452112cf466e87b570de0a37590b": {
      "model_module": "@jupyter-widgets/controls",
      "model_module_version": "1.1.0",
      "model_name": "DescriptionStyleModel",
      "state": {
       "description_width": ""
      }
     },
     "4ce3e4a59abc41d78d11e233f178b653": {
      "model_module": "@jupyter-widgets/controls",
      "model_module_version": "1.1.0",
      "model_name": "SliderStyleModel",
      "state": {
       "description_width": ""
      }
     },
     "4ce7f4e3cdd540b89993af42098e86ec": {
      "model_module": "@jupyter-widgets/controls",
      "model_module_version": "1.1.0",
      "model_name": "HBoxModel",
      "state": {
       "children": [
        "IPY_MODEL_68a5be8c39794ba5b0a55695d25b249b",
        "IPY_MODEL_0f623a0b5be64151b7bae1be64b351d8",
        "IPY_MODEL_3b3483e57cf94ffa9bb903433190cc1c"
       ],
       "layout": "IPY_MODEL_a5159651f2c04cf8b67a85e5b0ef946a"
      }
     },
     "4cf41fd1baa74fbeb1c42dee8116fca0": {
      "model_module": "@jupyter-widgets/controls",
      "model_module_version": "1.1.0",
      "model_name": "VBoxModel",
      "state": {
       "children": [
        "IPY_MODEL_beb7fac382aa451091f99ead7ea7f5e2",
        "IPY_MODEL_fd3d83830756451886242a289ba11cbc"
       ],
       "layout": "IPY_MODEL_f68cc2d5513f4a5ea3c4ccdda0a423cb"
      }
     },
     "4cffbc39fa4c4c67aebddff42fc3387e": {
      "model_module": "@jupyter-widgets/controls",
      "model_module_version": "1.1.0",
      "model_name": "HBoxModel",
      "state": {
       "children": [
        "IPY_MODEL_ffa1d226ca2e4602ba1d0f7674e4287e",
        "IPY_MODEL_14a5d017d2f547588928891542d1b173"
       ],
       "layout": "IPY_MODEL_806be8f669174c0ca66d60ec3ef0e8c5"
      }
     },
     "4d1f52ecb3074d2190e07512c2d3b6f1": {
      "model_module": "@jupyter-widgets/base",
      "model_module_version": "1.0.0",
      "model_name": "LayoutModel",
      "state": {}
     },
     "4d5ee9c11b324d0083dbf08287add5d1": {
      "model_module": "@jupyter-widgets/base",
      "model_module_version": "1.0.0",
      "model_name": "LayoutModel",
      "state": {}
     },
     "4d6140e6d32a496aa2730fdec82ec265": {
      "model_module": "@jupyter-widgets/base",
      "model_module_version": "1.0.0",
      "model_name": "LayoutModel",
      "state": {}
     },
     "4d8c0a78da544fc8b9d9369b0de3c57c": {
      "model_module": "@jupyter-widgets/controls",
      "model_module_version": "1.1.0",
      "model_name": "CheckboxModel",
      "state": {
       "description": "Trace Path",
       "disabled": false,
       "layout": "IPY_MODEL_3971577f5c194e05b1d006b2fe752117",
       "style": "IPY_MODEL_6ef9a5bec0f44228a9b5331127440ef8",
       "value": false
      }
     },
     "4daa667b226f45b2ab0b799de2321616": {
      "model_module": "@jupyter-widgets/controls",
      "model_module_version": "1.1.0",
      "model_name": "FloatSliderModel",
      "state": {
       "layout": "IPY_MODEL_80b21da7b6184871944ef9c672c852ed",
       "readout": false,
       "step": 0.1,
       "style": "IPY_MODEL_0083c6c73de4428a8c8d35cd23cde5ec",
       "value": 50
      }
     },
     "4df01bd729f04722a7d5da97d5aff926": {
      "model_module": "@jupyter-widgets/controls",
      "model_module_version": "1.1.0",
      "model_name": "DescriptionStyleModel",
      "state": {
       "description_width": ""
      }
     },
     "4e1c0bb8a906469189a1ae6937c46190": {
      "model_module": "@jupyter-widgets/base",
      "model_module_version": "1.0.0",
      "model_name": "LayoutModel",
      "state": {}
     },
     "4e24fe4f9c424e238f04224376a38d8a": {
      "model_module": "@jupyter-widgets/controls",
      "model_module_version": "1.1.0",
      "model_name": "ButtonModel",
      "state": {
       "icon": "fast-backward",
       "layout": "IPY_MODEL_28b7f0ab177a41fd9ab23a54fbc3bc22",
       "style": "IPY_MODEL_d707009912864d48a3389c7cebb9da55"
      }
     },
     "4e3ee3519dfc4b05b69cf67cd88a37f5": {
      "model_module": "@jupyter-widgets/base",
      "model_module_version": "1.0.0",
      "model_name": "LayoutModel",
      "state": {}
     },
     "4e6c0518d1a548d08b9de76031cfe441": {
      "model_module": "@jupyter-widgets/controls",
      "model_module_version": "1.1.0",
      "model_name": "ButtonModel",
      "state": {
       "icon": "step-forward",
       "layout": "IPY_MODEL_525a018117aa47bd816a127ac9042990",
       "style": "IPY_MODEL_aefafdf34ac343d198b8f88716e51b18"
      }
     },
     "4ea09d1fc5f34ef0987519577fc7aa4f": {
      "model_module": "@jupyter-widgets/controls",
      "model_module_version": "1.1.0",
      "model_name": "DescriptionStyleModel",
      "state": {
       "description_width": ""
      }
     },
     "4ef6aca254984afb969bdb0339b3b9ba": {
      "model_module": "@jupyter-widgets/controls",
      "model_module_version": "1.1.0",
      "model_name": "SliderStyleModel",
      "state": {
       "description_width": ""
      }
     },
     "4efcf6a5e4934eec93fa54cbd6ef7146": {
      "model_module": "@jupyter-widgets/output",
      "model_module_version": "1.1.0",
      "model_name": "OutputModel",
      "state": {
       "_model_module_version": "1.1.0",
       "_view_module_version": "1.1.0",
       "layout": "IPY_MODEL_3bf5d18cc883492c89b9779459897649"
      }
     },
     "4f599dc3a01440b58f7e1c0b457810dc": {
      "model_module": "@jupyter-widgets/controls",
      "model_module_version": "1.1.0",
      "model_name": "VBoxModel",
      "state": {
       "children": [
        "IPY_MODEL_c94af1276b9f4ff5867cd0fb667b5583",
        "IPY_MODEL_f3ec42cf92c04420a983d614b6071b61"
       ],
       "layout": "IPY_MODEL_9d097fd3fb9945ac900ad842c25e6ba7"
      }
     },
     "4f67572094c44bb3a8b932b0879bd90c": {
      "model_module": "@jupyter-widgets/base",
      "model_module_version": "1.0.0",
      "model_name": "LayoutModel",
      "state": {}
     },
     "4f905bc753a44d81adfcd4204832e274": {
      "model_module": "@jupyter-widgets/controls",
      "model_module_version": "1.1.0",
      "model_name": "HBoxModel",
      "state": {
       "children": [
        "IPY_MODEL_3ce52b11abc64634ab2a497bb6ab3f5a",
        "IPY_MODEL_a1d6d90474b14660a244eea2af34e8be",
        "IPY_MODEL_990e7abd7265451d84565394edaa81b2"
       ],
       "layout": "IPY_MODEL_c8811e5d699049c0b715635e5860ac77"
      }
     },
     "4f99b0606d5e48058d0ab9d31bb2b44c": {
      "model_module": "@jupyter-widgets/controls",
      "model_module_version": "1.1.0",
      "model_name": "ButtonStyleModel",
      "state": {}
     },
     "501d9bf7780c4d198470160ede529adf": {
      "model_module": "@jupyter-widgets/base",
      "model_module_version": "1.0.0",
      "model_name": "LayoutModel",
      "state": {}
     },
     "5044d00aeaee41039b6ae17c8e4fb952": {
      "model_module": "@jupyter-widgets/controls",
      "model_module_version": "1.1.0",
      "model_name": "TextModel",
      "state": {
       "description": "Time:",
       "layout": "IPY_MODEL_2757b87378354c7f846cd930f21ec928",
       "style": "IPY_MODEL_0b2125e20d964ee483c6c58056ebd9ef",
       "value": "14.20 seconds"
      }
     },
     "50b110c2a7b7436db7ecacffe0cce09f": {
      "model_module": "@jupyter-widgets/base",
      "model_module_version": "1.0.0",
      "model_name": "LayoutModel",
      "state": {}
     },
     "50e972b1efa74b74bb2778284b9d8526": {
      "model_module": "@jupyter-widgets/base",
      "model_module_version": "1.0.0",
      "model_name": "LayoutModel",
      "state": {}
     },
     "50ed1814fe934589944a572e33e201fe": {
      "model_module": "@jupyter-widgets/base",
      "model_module_version": "1.0.0",
      "model_name": "LayoutModel",
      "state": {}
     },
     "5117f7930a46492da0bf438e253c59ef": {
      "model_module": "@jupyter-widgets/base",
      "model_module_version": "1.0.0",
      "model_name": "LayoutModel",
      "state": {}
     },
     "511ffacd2db3461ab3e2b85e247f9195": {
      "model_module": "@jupyter-widgets/output",
      "model_module_version": "1.1.0",
      "model_name": "OutputModel",
      "state": {
       "_model_module_version": "1.1.0",
       "_view_module_version": "1.1.0",
       "layout": "IPY_MODEL_102d9bd5542949b7865140c5e420f21c"
      }
     },
     "5135eee6aa814a3a9d5cb2e9da74873f": {
      "model_module": "@jupyter-widgets/controls",
      "model_module_version": "1.1.0",
      "model_name": "SliderStyleModel",
      "state": {
       "description_width": ""
      }
     },
     "5151c62ffe514586ae62db74571a0c59": {
      "model_module": "@jupyter-widgets/base",
      "model_module_version": "1.0.0",
      "model_name": "LayoutModel",
      "state": {}
     },
     "516be6cfeda048f0b63114f933c64b13": {
      "model_module": "@jupyter-widgets/base",
      "model_module_version": "1.0.0",
      "model_name": "LayoutModel",
      "state": {}
     },
     "517ac515e807471e845fb3449f065682": {
      "model_module": "@jupyter-widgets/controls",
      "model_module_version": "1.1.0",
      "model_name": "SliderStyleModel",
      "state": {
       "description_width": ""
      }
     },
     "519786cc8d2a4ba1b9f3e6aecb406476": {
      "model_module": "@jupyter-widgets/controls",
      "model_module_version": "1.1.0",
      "model_name": "FloatSliderModel",
      "state": {
       "layout": "IPY_MODEL_0c47c5a57d794222b00076cea24e6f82",
       "readout": false,
       "step": 0.1,
       "style": "IPY_MODEL_159ac5d5643b475ca5d46fd634166a77",
       "value": 50
      }
     },
     "51b4ccaca38a4e438c1327ab7edd411f": {
      "model_module": "@jupyter-widgets/base",
      "model_module_version": "1.0.0",
      "model_name": "LayoutModel",
      "state": {}
     },
     "51c6b1ae9ea640f7bd5fd25c8ed39a03": {
      "model_module": "@jupyter-widgets/base",
      "model_module_version": "1.0.0",
      "model_name": "LayoutModel",
      "state": {}
     },
     "51cf00582e454db7be8af4a040080e19": {
      "model_module": "@jupyter-widgets/controls",
      "model_module_version": "1.1.0",
      "model_name": "CheckboxModel",
      "state": {
       "description": "Update GUI",
       "disabled": false,
       "layout": "IPY_MODEL_6bc3cabd8dca48b4b82fa48d141718fd",
       "style": "IPY_MODEL_2ffa051d912643538a4b5b166f0c1bbd",
       "value": true
      }
     },
     "51cf356c664841c3b1a8210318a36e86": {
      "model_module": "@jupyter-widgets/controls",
      "model_module_version": "1.1.0",
      "model_name": "FloatSliderModel",
      "state": {
       "layout": "IPY_MODEL_0c719b9a9e574356835d165b70334298",
       "readout": false,
       "step": 0.1,
       "style": "IPY_MODEL_038430cbb82942b88476deb34156a57c",
       "value": 100
      }
     },
     "51f8bcc0a80047a5b07f3c93e7369293": {
      "model_module": "@jupyter-widgets/controls",
      "model_module_version": "1.1.0",
      "model_name": "VBoxModel",
      "state": {
       "children": [
        "IPY_MODEL_b04512b48fbd4d7f8fbf425751ad4caf",
        "IPY_MODEL_7f9651820f2746169e0970b13cd5e6a9"
       ],
       "layout": "IPY_MODEL_ff171bd268724b1a8a2554bdb55cee93"
      }
     },
     "522ddbe3caef420d8757ba8a2fa458ec": {
      "model_module": "@jupyter-widgets/controls",
      "model_module_version": "1.1.0",
      "model_name": "FloatSliderModel",
      "state": {
       "layout": "IPY_MODEL_c3ae46205f6c45418184a752b687500a",
       "orientation": "vertical",
       "readout": false,
       "step": 0.1,
       "style": "IPY_MODEL_a6b118c838d6416e8fe4cc5207ca4311",
       "value": 25
      }
     },
     "524577048ee54e999b13e9b66b643255": {
      "model_module": "@jupyter-widgets/base",
      "model_module_version": "1.0.0",
      "model_name": "LayoutModel",
      "state": {}
     },
     "525a018117aa47bd816a127ac9042990": {
      "model_module": "@jupyter-widgets/base",
      "model_module_version": "1.0.0",
      "model_name": "LayoutModel",
      "state": {}
     },
     "52d57ee2254e4ff790c96c8adc6b2af2": {
      "model_module": "@jupyter-widgets/controls",
      "model_module_version": "1.1.0",
      "model_name": "VBoxModel",
      "state": {
       "children": [
        "IPY_MODEL_2bd3bf01308a4daf836fc519f7a461c4",
        "IPY_MODEL_11294d4691584bbba79536cb5dd6af5e"
       ],
       "layout": "IPY_MODEL_fc81462ec09f49dba7802d908d920a70"
      }
     },
     "52ede8d7d81647b08979f1e938ec4e10": {
      "model_module": "@jupyter-widgets/controls",
      "model_module_version": "1.1.0",
      "model_name": "HBoxModel",
      "state": {
       "children": [
        "IPY_MODEL_737daf615cee4d84aba2cb376ed435a5",
        "IPY_MODEL_96c28c52615e4743bdd162288409dd26"
       ],
       "layout": "IPY_MODEL_de3a028b41e84f2cad081a453b24f762"
      }
     },
     "5343f056f14241c7a6e639315b7ad38d": {
      "model_module": "@jupyter-widgets/controls",
      "model_module_version": "1.1.0",
      "model_name": "VBoxModel",
      "state": {
       "children": [
        "IPY_MODEL_71932342b3ad47a1bf21c50e606fbb24",
        "IPY_MODEL_7459d7e0d7194a0f9d0830d76ebf86c5"
       ],
       "layout": "IPY_MODEL_b4fbe6d628c942a18f26157c90d9472b"
      }
     },
     "536cc0ad5979414e9751ef0f6b39febb": {
      "model_module": "@jupyter-widgets/base",
      "model_module_version": "1.0.0",
      "model_name": "LayoutModel",
      "state": {}
     },
     "538d7b666bb54ae4a9cb9e6f44a42f78": {
      "model_module": "@jupyter-widgets/controls",
      "model_module_version": "1.1.0",
      "model_name": "TextModel",
      "state": {
       "description": "Time:",
       "layout": "IPY_MODEL_89895ce62cf44b2e905c930561a24715",
       "style": "IPY_MODEL_6bcd01e63f404d33a3dae2c52e01c41b",
       "value": "12.60 seconds"
      }
     },
     "53a96d957d954082a895046094c15706": {
      "model_module": "@jupyter-widgets/base",
      "model_module_version": "1.0.0",
      "model_name": "LayoutModel",
      "state": {}
     },
     "53ce307c278340109f58c35dfe6d72db": {
      "model_module": "@jupyter-widgets/controls",
      "model_module_version": "1.1.0",
      "model_name": "VBoxModel",
      "state": {
       "children": [
        "IPY_MODEL_ad06b453b7284ab09d4c735e3101f2e7",
        "IPY_MODEL_af77d83f3281424abac714a20eafd115",
        "IPY_MODEL_31f6d2db774d483b9b11a2017acc6914"
       ],
       "layout": "IPY_MODEL_650f8cdb7db84034a532f4988baa7775"
      }
     },
     "53ecd712f62e444baf435cfd45b9ba5f": {
      "model_module": "@jupyter-widgets/controls",
      "model_module_version": "1.1.0",
      "model_name": "SliderStyleModel",
      "state": {
       "description_width": ""
      }
     },
     "542482c9e5484ae3b6aceacd819c0755": {
      "model_module": "@jupyter-widgets/base",
      "model_module_version": "1.0.0",
      "model_name": "LayoutModel",
      "state": {
       "width": "100px"
      }
     },
     "5426e2f5e835463dac778dfe96ff141a": {
      "model_module": "@jupyter-widgets/controls",
      "model_module_version": "1.1.0",
      "model_name": "DescriptionStyleModel",
      "state": {
       "description_width": ""
      }
     },
     "5431f213b10d4600afc8c501d05ae6c6": {
      "model_module": "@jupyter-widgets/controls",
      "model_module_version": "1.1.0",
      "model_name": "SliderStyleModel",
      "state": {
       "description_width": ""
      }
     },
     "549a7d433d9e4e3ead15e9f8d7da79b4": {
      "model_module": "@jupyter-widgets/controls",
      "model_module_version": "1.1.0",
      "model_name": "DescriptionStyleModel",
      "state": {
       "description_width": ""
      }
     },
     "549b3b07b7c84712a6e85b3d795395a9": {
      "model_module": "@jupyter-widgets/controls",
      "model_module_version": "1.1.0",
      "model_name": "ButtonModel",
      "state": {
       "description": "Clear Output",
       "layout": "IPY_MODEL_f57a2751309946d08a9a0f63023445b6",
       "style": "IPY_MODEL_20fe2f0e53864653bd79261a53ba7465"
      }
     },
     "54b2f20e86b2425db40b47d6237666ab": {
      "model_module": "@jupyter-widgets/base",
      "model_module_version": "1.0.0",
      "model_name": "LayoutModel",
      "state": {
       "height": "20px",
       "padding": "0px 0px 0px 0px",
       "width": "248px"
      }
     },
     "54f96b316f16478a970baecde4684cc8": {
      "model_module": "@jupyter-widgets/controls",
      "model_module_version": "1.1.0",
      "model_name": "SliderStyleModel",
      "state": {
       "description_width": ""
      }
     },
     "553ae781c7864eee80e8b78e6b28d308": {
      "model_module": "@jupyter-widgets/controls",
      "model_module_version": "1.1.0",
      "model_name": "VBoxModel",
      "state": {
       "children": [
        "IPY_MODEL_949b539aa9c546fa8ba1e4f8fe787cbb",
        "IPY_MODEL_0a758de56cb4441890b18b9ffcde2cb8"
       ],
       "layout": "IPY_MODEL_59e6756410f6435aa392c0a090198011"
      }
     },
     "557eac04e348403eaf4cfbc235766c0d": {
      "model_module": "@jupyter-widgets/controls",
      "model_module_version": "1.1.0",
      "model_name": "CheckboxModel",
      "state": {
       "description": "Trace Path",
       "disabled": false,
       "layout": "IPY_MODEL_7b95fad035684eef9e9260cb82de10ca",
       "style": "IPY_MODEL_1c03bf7313ef493fb9b14cabdea08dac",
       "value": false
      }
     },
     "55a6de4ce54044ab811cc92c1ca0b4a1": {
      "model_module": "@jupyter-widgets/controls",
      "model_module_version": "1.1.0",
      "model_name": "SliderStyleModel",
      "state": {
       "description_width": ""
      }
     },
     "55c47c6a1ff54d81922ac8ec355e1b8d": {
      "model_module": "@jupyter-widgets/base",
      "model_module_version": "1.0.0",
      "model_name": "LayoutModel",
      "state": {}
     },
     "55d8a49ee85d4a3abc5027aa6ed937b4": {
      "model_module": "@jupyter-widgets/base",
      "model_module_version": "1.0.0",
      "model_name": "LayoutModel",
      "state": {}
     },
     "5625f92e5378472189246ab9b426683e": {
      "model_module": "@jupyter-widgets/controls",
      "model_module_version": "1.1.0",
      "model_name": "VBoxModel",
      "state": {
       "children": [
        "IPY_MODEL_80827d858ed94df1b9da8653706bd7e8",
        "IPY_MODEL_c2a7f6fc366d4964adbf9fcb2bfada3d"
       ],
       "layout": "IPY_MODEL_7edc0a54b3534d59bb16502f8f59adde"
      }
     },
     "565556e73c1e414cabbb0dfa08f229bf": {
      "model_module": "@jupyter-widgets/base",
      "model_module_version": "1.0.0",
      "model_name": "LayoutModel",
      "state": {}
     },
     "5660aeb35e944ee6a7f6d5f802555ba2": {
      "model_module": "@jupyter-widgets/base",
      "model_module_version": "1.0.0",
      "model_name": "LayoutModel",
      "state": {}
     },
     "569cebee077a45638dfdd63050fe405c": {
      "model_module": "@jupyter-widgets/controls",
      "model_module_version": "1.1.0",
      "model_name": "HBoxModel",
      "state": {
       "children": [
        "IPY_MODEL_adf0678010084c7e98ab09589506a112",
        "IPY_MODEL_0573f83ce9c942578a7679a85539f29e",
        "IPY_MODEL_b126864f6e2a4be0ad7c1ffab8154a4e"
       ],
       "layout": "IPY_MODEL_05ec821c20ae4a3685d5f96f6ac60500"
      }
     },
     "569e00ac08e4460da1f41979af55736a": {
      "model_module": "@jupyter-widgets/base",
      "model_module_version": "1.0.0",
      "model_name": "LayoutModel",
      "state": {
       "height": "248px",
       "padding": "0px 0px 0px 0px",
       "width": "10px"
      }
     },
     "56f57e1a97d2407483e05470fc40202e": {
      "model_module": "@jupyter-widgets/base",
      "model_module_version": "1.0.0",
      "model_name": "LayoutModel",
      "state": {}
     },
     "56fba28c78874719b60f0a98731f3619": {
      "model_module": "@jupyter-widgets/base",
      "model_module_version": "1.0.0",
      "model_name": "LayoutModel",
      "state": {}
     },
     "571444c77d214f858fcde8273ff42d2a": {
      "model_module": "@jupyter-widgets/controls",
      "model_module_version": "1.1.0",
      "model_name": "HBoxModel",
      "state": {
       "children": [
        "IPY_MODEL_51cf00582e454db7be8af4a040080e19",
        "IPY_MODEL_c88cca4fd8ce44ffbecab511bbf7caff",
        "IPY_MODEL_6c6c171b302244279b4ec06a9a400d42"
       ],
       "layout": "IPY_MODEL_56f57e1a97d2407483e05470fc40202e"
      }
     },
     "57271aea048a438c9541f390b20ba8e4": {
      "model_module": "@jupyter-widgets/base",
      "model_module_version": "1.0.0",
      "model_name": "LayoutModel",
      "state": {}
     },
     "572e7d5bebc04234880b9b5e7be1b138": {
      "model_module": "@jupyter-widgets/controls",
      "model_module_version": "1.1.0",
      "model_name": "DescriptionStyleModel",
      "state": {
       "description_width": ""
      }
     },
     "5734cb14076c47f78c0a804b97e5a901": {
      "model_module": "@jupyter-widgets/controls",
      "model_module_version": "1.1.0",
      "model_name": "CheckboxModel",
      "state": {
       "description": "Update GUI",
       "disabled": false,
       "layout": "IPY_MODEL_d5fbb13b20284636a30223663d2a0c35",
       "style": "IPY_MODEL_064e7ba44f184def87a269a7908acd02",
       "value": true
      }
     },
     "573b101df04b49a28e46e20a20004aa4": {
      "model_module": "@jupyter-widgets/base",
      "model_module_version": "1.0.0",
      "model_name": "LayoutModel",
      "state": {}
     },
     "574047aed09e48eeb72a2c5d30026d7f": {
      "model_module": "@jupyter-widgets/controls",
      "model_module_version": "1.1.0",
      "model_name": "HTMLModel",
      "state": {
       "layout": "IPY_MODEL_12b178291850495ba399b5554cffea08",
       "style": "IPY_MODEL_d3633f04afb04473a1e6c9bbb5eb0fb3",
       "value": "<svg baseProfile=\"full\" height=\"240\" version=\"1.1\" width=\"240\" xmlns=\"http://www.w3.org/2000/svg\" xmlns:ev=\"http://www.w3.org/2001/xml-events\" xmlns:xlink=\"http://www.w3.org/1999/xlink\"><defs /><rect fill=\"#eef3dd\" height=\"240.0\" stroke=\"#bebebe\" stroke-width=\"1\" width=\"240.0\" x=\"0.0\" y=\"0.0\" /><line fill=\"#800080\" stroke=\"#add8e6\" stroke-width=\"1\" x1=\"109.5\" x2=\"0.0\" y1=\"174.0\" y2=\"174.0\" /><line fill=\"#800080\" stroke=\"#add8e6\" stroke-width=\"1\" x1=\"111.0\" x2=\"0.0\" y1=\"169.8\" y2=\"118.039848\" /><line fill=\"#800080\" stroke=\"#add8e6\" stroke-width=\"1\" x1=\"113.4\" x2=\"0.0\" y1=\"168.0\" y2=\"32.855142\" /><line fill=\"#800080\" stroke=\"#add8e6\" stroke-width=\"1\" x1=\"117.0\" x2=\"72.38645873701557\" y1=\"166.5\" y2=\"0.0\" /><line fill=\"#800080\" stroke=\"#add8e6\" stroke-width=\"1\" x1=\"122.99999999999999\" x2=\"167.61354126298448\" y1=\"166.5\" y2=\"0.0\" /><line fill=\"#800080\" stroke=\"#add8e6\" stroke-width=\"1\" x1=\"126.6\" x2=\"240.0\" y1=\"168.0\" y2=\"32.855142\" /><line fill=\"#800080\" stroke=\"#add8e6\" stroke-width=\"1\" x1=\"129.0\" x2=\"240.0\" y1=\"169.8\" y2=\"118.039848\" /><line fill=\"#800080\" stroke=\"#add8e6\" stroke-width=\"1\" x1=\"130.5\" x2=\"240.0\" y1=\"174.0\" y2=\"174.0\" /><polygon fill=\"red\" points=\"115.19999999999999,166.5 109.5,171.0 109.5,189.0 115.19999999999999,193.5 124.80000000000001,193.5 130.5,189.0 130.5,171.0 124.80000000000001,166.5\" stroke=\"red\" stroke-width=\"1\" /><polygon points=\"-3.0,-3.0 0,0 3.0,-3.0 0,3.0\" stroke=\"black\" stroke-width=\"1\" transform=\"translate(120.0,180.0) rotate(180.0)\" /></svg>"
      }
     },
     "575d34e4b6ee4573ab9b86a57f767ce0": {
      "model_module": "@jupyter-widgets/controls",
      "model_module_version": "1.1.0",
      "model_name": "HBoxModel",
      "state": {
       "children": [
        "IPY_MODEL_3a04b736d24142bfa54496ebb75b4bde",
        "IPY_MODEL_a9d4393960b64172bcae16631730b468",
        "IPY_MODEL_ed22a65c892445da92dac1ab577d5de2"
       ],
       "layout": "IPY_MODEL_7d6c4adb71d54aa682aaafe5e55295b1"
      }
     },
     "57ac6b6b03f248ca9c54f2b8019058f4": {
      "model_module": "@jupyter-widgets/base",
      "model_module_version": "1.0.0",
      "model_name": "LayoutModel",
      "state": {}
     },
     "57c7278add3846e3bcc2db0700f0c2c0": {
      "model_module": "@jupyter-widgets/base",
      "model_module_version": "1.0.0",
      "model_name": "LayoutModel",
      "state": {}
     },
     "5802d2838e14484388116aa5952a815a": {
      "model_module": "@jupyter-widgets/controls",
      "model_module_version": "1.1.0",
      "model_name": "FloatSliderModel",
      "state": {
       "layout": "IPY_MODEL_42a7340870a643e69404b349f750a3e9",
       "orientation": "vertical",
       "readout": false,
       "step": 0.1,
       "style": "IPY_MODEL_54f96b316f16478a970baecde4684cc8",
       "value": 25
      }
     },
     "58059465afab4761bf13dda988bede8e": {
      "model_module": "@jupyter-widgets/controls",
      "model_module_version": "1.1.0",
      "model_name": "CheckboxModel",
      "state": {
       "description": "Trace Path",
       "disabled": false,
       "layout": "IPY_MODEL_07636cbecf514bf8a7db657d6c6aeb13",
       "style": "IPY_MODEL_624c512a4fe94c10af3a19e8e4f85211",
       "value": false
      }
     },
     "5805cc7bb6b347c98f0d597f37939181": {
      "model_module": "@jupyter-widgets/controls",
      "model_module_version": "1.1.0",
      "model_name": "DescriptionStyleModel",
      "state": {
       "description_width": ""
      }
     },
     "584b51c9f1894ed49d27511e2428640e": {
      "model_module": "@jupyter-widgets/controls",
      "model_module_version": "1.1.0",
      "model_name": "DescriptionStyleModel",
      "state": {
       "description_width": ""
      }
     },
     "58788a026caa4a56993380a74aaa8134": {
      "model_module": "@jupyter-widgets/base",
      "model_module_version": "1.0.0",
      "model_name": "LayoutModel",
      "state": {}
     },
     "58a834575fe04b65b2837492aac73fad": {
      "model_module": "@jupyter-widgets/base",
      "model_module_version": "1.0.0",
      "model_name": "LayoutModel",
      "state": {}
     },
     "58a958b40aed4cd59339c43d563dc1c4": {
      "model_module": "@jupyter-widgets/controls",
      "model_module_version": "1.1.0",
      "model_name": "FloatSliderModel",
      "state": {
       "layout": "IPY_MODEL_691f6e2f4a5f44648dcaab7572aab67e",
       "readout": false,
       "step": 0.1,
       "style": "IPY_MODEL_f13a69db35224303bdd8fdc183165286",
       "value": 100
      }
     },
     "58c6974e232248e9be29a2d4d98348ba": {
      "model_module": "@jupyter-widgets/base",
      "model_module_version": "1.0.0",
      "model_name": "LayoutModel",
      "state": {}
     },
     "58ca4cbe5d134255b1c1475d9d647c7b": {
      "model_module": "@jupyter-widgets/base",
      "model_module_version": "1.0.0",
      "model_name": "LayoutModel",
      "state": {}
     },
     "58ce4dd994a94dd6a7de79ac2fdba902": {
      "model_module": "@jupyter-widgets/controls",
      "model_module_version": "1.1.0",
      "model_name": "HTMLModel",
      "state": {
       "layout": "IPY_MODEL_297376ab140d444eb12d7a78e7ac677b",
       "style": "IPY_MODEL_dbad09f4041849378026ff4c3c521c5d",
       "value": "<svg baseProfile=\"full\" height=\"240\" version=\"1.1\" width=\"240\" xmlns=\"http://www.w3.org/2000/svg\" xmlns:ev=\"http://www.w3.org/2001/xml-events\" xmlns:xlink=\"http://www.w3.org/1999/xlink\"><defs /><rect fill=\"#eef3dd\" height=\"240.0\" stroke=\"#bebebe\" stroke-width=\"1\" width=\"240.0\" x=\"0.0\" y=\"0.0\" /><line fill=\"#800080\" stroke=\"#add8e6\" stroke-width=\"1\" x1=\"117.0\" x2=\"72.38645873701557\" y1=\"166.5\" y2=\"0.0\" /><line fill=\"#800080\" stroke=\"#add8e6\" stroke-width=\"1\" x1=\"122.99999999999999\" x2=\"167.61354126298448\" y1=\"166.5\" y2=\"0.0\" /><line fill=\"#800080\" stroke=\"#add8e6\" stroke-width=\"1\" x1=\"122.99999999999999\" x2=\"135.45963724447796\" y1=\"193.5\" y2=\"240.0\" /><line fill=\"#800080\" stroke=\"#add8e6\" stroke-width=\"1\" x1=\"117.0\" x2=\"104.54036275552205\" y1=\"193.5\" y2=\"240.0\" /><polygon fill=\"red\" points=\"115.19999999999999,166.5 109.5,171.0 109.5,189.0 115.19999999999999,193.5 124.80000000000001,193.5 130.5,189.0 130.5,171.0 124.80000000000001,166.5\" stroke=\"red\" stroke-width=\"1\" /><polygon points=\"-3.0,-3.0 0,0 3.0,-3.0 0,3.0\" stroke=\"black\" stroke-width=\"1\" transform=\"translate(120.0,180.0) rotate(180.0)\" /></svg>"
      }
     },
     "58dc214bc650490e97a4a039047f1195": {
      "model_module": "@jupyter-widgets/controls",
      "model_module_version": "1.1.0",
      "model_name": "TextModel",
      "state": {
       "description": "Time:",
       "layout": "IPY_MODEL_60e6fc462d1e43e5b26815075c1676ec",
       "style": "IPY_MODEL_584b51c9f1894ed49d27511e2428640e",
       "value": "0.00 seconds"
      }
     },
     "5917fc2e92104ba7b9bd3a42ed7ba31f": {
      "model_module": "@jupyter-widgets/base",
      "model_module_version": "1.0.0",
      "model_name": "LayoutModel",
      "state": {}
     },
     "596ad304a36548cf8bd5d436f624604d": {
      "model_module": "@jupyter-widgets/controls",
      "model_module_version": "1.1.0",
      "model_name": "SliderStyleModel",
      "state": {
       "description_width": ""
      }
     },
     "59900bda54184118a5d46b3c4b8c09b1": {
      "model_module": "@jupyter-widgets/controls",
      "model_module_version": "1.1.0",
      "model_name": "HBoxModel",
      "state": {
       "children": [
        "IPY_MODEL_17e2d8a67f6d4f40bad58cefca3e0b6f",
        "IPY_MODEL_8835995b2cd24c24b947d7ca36d9d46e"
       ],
       "layout": "IPY_MODEL_c360877e39864592ad0afc7b92d8da41"
      }
     },
     "59d71d42089e4b74ba5d3852ea128b5e": {
      "model_module": "@jupyter-widgets/controls",
      "model_module_version": "1.1.0",
      "model_name": "ButtonStyleModel",
      "state": {}
     },
     "59dae83ea0c14bfc93ed95f1f920ec38": {
      "model_module": "@jupyter-widgets/base",
      "model_module_version": "1.0.0",
      "model_name": "LayoutModel",
      "state": {}
     },
     "59e6756410f6435aa392c0a090198011": {
      "model_module": "@jupyter-widgets/base",
      "model_module_version": "1.0.0",
      "model_name": "LayoutModel",
      "state": {}
     },
     "59f2da17b2ac4973b06e3efffe4e5e6d": {
      "model_module": "@jupyter-widgets/base",
      "model_module_version": "1.0.0",
      "model_name": "LayoutModel",
      "state": {
       "height": "20px",
       "padding": "0px 0px 0px 0px",
       "width": "248px"
      }
     },
     "5a0b5d36473541088a549cf8291698c2": {
      "model_module": "@jupyter-widgets/base",
      "model_module_version": "1.0.0",
      "model_name": "LayoutModel",
      "state": {}
     },
     "5a0ec06cd3154d3a8528896e34d328a5": {
      "model_module": "@jupyter-widgets/base",
      "model_module_version": "1.0.0",
      "model_name": "LayoutModel",
      "state": {}
     },
     "5a4765a350be49e7b4fda0ebaa3acda4": {
      "model_module": "@jupyter-widgets/controls",
      "model_module_version": "1.1.0",
      "model_name": "VBoxModel",
      "state": {
       "children": [
        "IPY_MODEL_162c1a5977954c26a2ea8f365dfb5c33",
        "IPY_MODEL_2330c84c059a4f1c943134700a052ecf"
       ],
       "layout": "IPY_MODEL_30ddf7d2fe1a40229b911d3422b2cebc"
      }
     },
     "5a519c5700524c30ac29eead22bff864": {
      "model_module": "@jupyter-widgets/controls",
      "model_module_version": "1.1.0",
      "model_name": "DescriptionStyleModel",
      "state": {
       "description_width": ""
      }
     },
     "5aaf29b321f042a4b9c93f1604fe846a": {
      "model_module": "@jupyter-widgets/controls",
      "model_module_version": "1.1.0",
      "model_name": "DescriptionStyleModel",
      "state": {
       "description_width": ""
      }
     },
     "5afeca0c90ac410d8640d075e80536a2": {
      "model_module": "@jupyter-widgets/output",
      "model_module_version": "1.1.0",
      "model_name": "OutputModel",
      "state": {
       "_model_module_version": "1.1.0",
       "_view_module_version": "1.1.0",
       "layout": "IPY_MODEL_b09a397995014656880766a98eef3e71"
      }
     },
     "5b81c1922eb64f03b543626962472a09": {
      "model_module": "@jupyter-widgets/base",
      "model_module_version": "1.0.0",
      "model_name": "LayoutModel",
      "state": {}
     },
     "5c59b2fe954344d7a08f69d0aca65f2f": {
      "model_module": "@jupyter-widgets/controls",
      "model_module_version": "1.1.0",
      "model_name": "CheckboxModel",
      "state": {
       "description": "Update GUI",
       "disabled": false,
       "layout": "IPY_MODEL_b1fc03a6c8994a1c938ebcded9887d25",
       "style": "IPY_MODEL_deae430ff7d5435da55a61a963f47544",
       "value": true
      }
     },
     "5d397240eca04981a2fc9d1ca2a3be45": {
      "model_module": "@jupyter-widgets/controls",
      "model_module_version": "1.1.0",
      "model_name": "DescriptionStyleModel",
      "state": {
       "description_width": ""
      }
     },
     "5d7f6a103cbc47eba18af5a1eb650f71": {
      "model_module": "@jupyter-widgets/base",
      "model_module_version": "1.0.0",
      "model_name": "LayoutModel",
      "state": {
       "height": "248px",
       "padding": "0px 0px 0px 0px",
       "width": "10px"
      }
     },
     "5d85311819a645c69fa3e6d0ddecee7f": {
      "model_module": "@jupyter-widgets/base",
      "model_module_version": "1.0.0",
      "model_name": "LayoutModel",
      "state": {}
     },
     "5ddf5b2b90c54203868cbc932efaa882": {
      "model_module": "@jupyter-widgets/base",
      "model_module_version": "1.0.0",
      "model_name": "LayoutModel",
      "state": {}
     },
     "5debb80bc95b49729dc6746f120c19c0": {
      "model_module": "@jupyter-widgets/base",
      "model_module_version": "1.0.0",
      "model_name": "LayoutModel",
      "state": {}
     },
     "5e83f06b94524c90954ee89e9236010a": {
      "model_module": "@jupyter-widgets/controls",
      "model_module_version": "1.1.0",
      "model_name": "VBoxModel",
      "state": {
       "children": [
        "IPY_MODEL_176f993a604945f7aadb1f8f84897253",
        "IPY_MODEL_750afc6dbd8c4a73909ff32538cc81a7"
       ],
       "layout": "IPY_MODEL_8c3a6acff1a84e09a147ee1e6011787c"
      }
     },
     "5e8a1ef78c304d46a4ce4dd48c9f36b5": {
      "model_module": "@jupyter-widgets/controls",
      "model_module_version": "1.1.0",
      "model_name": "FloatSliderModel",
      "state": {
       "layout": "IPY_MODEL_69cb5d811a784622acb274cbe61bf161",
       "readout": false,
       "step": 0.1,
       "style": "IPY_MODEL_61261bd9415540ffadc7d801b049ecce",
       "value": 100
      }
     },
     "5e95750a45214d4aae17d34f6f660359": {
      "model_module": "@jupyter-widgets/controls",
      "model_module_version": "1.1.0",
      "model_name": "CheckboxModel",
      "state": {
       "description": "Trace Path",
       "disabled": false,
       "layout": "IPY_MODEL_dcc7e050b2ed43aa88c94334919bdccb",
       "style": "IPY_MODEL_a22b44453e02470eb4efc033c081ad52",
       "value": false
      }
     },
     "5ec6a526a38b444a80b5289005a08560": {
      "model_module": "@jupyter-widgets/base",
      "model_module_version": "1.0.0",
      "model_name": "LayoutModel",
      "state": {}
     },
     "5ed67c3684a741c38e78ee6d64f87670": {
      "model_module": "@jupyter-widgets/controls",
      "model_module_version": "1.1.0",
      "model_name": "VBoxModel",
      "state": {
       "children": [
        "IPY_MODEL_bc11dabfcd1e448aaed6c969acc912d3",
        "IPY_MODEL_1b73429b244a4cbb8b304231b65e8d7d",
        "IPY_MODEL_63efabb901ea408a8d3203d8d468344a"
       ],
       "layout": "IPY_MODEL_ef97d57b800642098de5a0f38082f0fe"
      }
     },
     "5f369226ccdc4d9288d2394841a1aefd": {
      "model_module": "@jupyter-widgets/controls",
      "model_module_version": "1.1.0",
      "model_name": "HBoxModel",
      "state": {
       "children": [
        "IPY_MODEL_97258b37225e451fa417509aba76d191",
        "IPY_MODEL_6790d63e8bf94990b1498604d5d8cb61"
       ],
       "layout": "IPY_MODEL_b5d83544eb5d45a782d7461716d805a7"
      }
     },
     "5f7cf281051a4f70bd64f062b4555eb8": {
      "model_module": "@jupyter-widgets/controls",
      "model_module_version": "1.1.0",
      "model_name": "DescriptionStyleModel",
      "state": {
       "description_width": ""
      }
     },
     "5f82769a7d6848f388c30e19dd757216": {
      "model_module": "@jupyter-widgets/controls",
      "model_module_version": "1.1.0",
      "model_name": "HBoxModel",
      "state": {
       "children": [
        "IPY_MODEL_ef516b77d6b44067bc3c33819a034ce5",
        "IPY_MODEL_8f1109a9c35a479c905d06ee1cedaa86",
        "IPY_MODEL_a77c218148da445197ba92a5d38cb6ad"
       ],
       "layout": "IPY_MODEL_2d15e19111ee4d72837c7e25a1adc261"
      }
     },
     "600546b2a9344d0b8877d3d1e8fdf385": {
      "model_module": "@jupyter-widgets/controls",
      "model_module_version": "1.1.0",
      "model_name": "DescriptionStyleModel",
      "state": {
       "description_width": ""
      }
     },
     "60054901042a4f7aaadce545bf63549b": {
      "model_module": "@jupyter-widgets/controls",
      "model_module_version": "1.1.0",
      "model_name": "ButtonStyleModel",
      "state": {}
     },
     "6034386a016c43a2b81a9cc4dd8e53ad": {
      "model_module": "@jupyter-widgets/controls",
      "model_module_version": "1.1.0",
      "model_name": "ButtonStyleModel",
      "state": {}
     },
     "606c11a7984148a4a41c92ca76701de4": {
      "model_module": "@jupyter-widgets/controls",
      "model_module_version": "1.1.0",
      "model_name": "FloatSliderModel",
      "state": {
       "layout": "IPY_MODEL_3968adcca69a4a058fdced82f08f1706",
       "orientation": "vertical",
       "readout": false,
       "step": 0.1,
       "style": "IPY_MODEL_7ebbce1c7bef4663af7856a78e77d64f",
       "value": 70.22620275527949
      }
     },
     "6071dedf39a74e14876387f4ebcf983f": {
      "model_module": "@jupyter-widgets/base",
      "model_module_version": "1.0.0",
      "model_name": "LayoutModel",
      "state": {}
     },
     "608d23251de442a9814471b4c65c4346": {
      "model_module": "@jupyter-widgets/base",
      "model_module_version": "1.0.0",
      "model_name": "LayoutModel",
      "state": {}
     },
     "609d092dde274f148ef8c342f200f44c": {
      "model_module": "@jupyter-widgets/controls",
      "model_module_version": "1.1.0",
      "model_name": "VBoxModel",
      "state": {
       "children": [
        "IPY_MODEL_4b63c3d78dd745fd8836426d20f97d04",
        "IPY_MODEL_30f2f14ffb144fd18717a1ac1831c3aa",
        "IPY_MODEL_2fe6b1597c22420b959ffa1f2ff7d46f"
       ],
       "layout": "IPY_MODEL_8a9b85c1409f496d91704abf22906109"
      }
     },
     "60a1310bb3f44c71af8ffab512528e9c": {
      "model_module": "@jupyter-widgets/controls",
      "model_module_version": "1.1.0",
      "model_name": "HBoxModel",
      "state": {
       "children": [
        "IPY_MODEL_e482ce9856a1413e96e172448ccef646",
        "IPY_MODEL_24a3f750760d4446af0babe6d7b3a2c8",
        "IPY_MODEL_dbf04acbb301486d9e7189d69b41d3e8"
       ],
       "layout": "IPY_MODEL_b0e3c9fd96c746a0b9c323eeed35e94a"
      }
     },
     "60b1b02f8cfd49868120d67dfb7d10db": {
      "model_module": "@jupyter-widgets/base",
      "model_module_version": "1.0.0",
      "model_name": "LayoutModel",
      "state": {}
     },
     "60e39594e67c4ea394feb2b3366e99ec": {
      "model_module": "@jupyter-widgets/controls",
      "model_module_version": "1.1.0",
      "model_name": "CheckboxModel",
      "state": {
       "description": "Update GUI",
       "disabled": false,
       "layout": "IPY_MODEL_fdddee62164d46b381418363d0dc73ac",
       "style": "IPY_MODEL_c41a47aba6ba45febf345fa6aa23e63d",
       "value": true
      }
     },
     "60e6fc462d1e43e5b26815075c1676ec": {
      "model_module": "@jupyter-widgets/base",
      "model_module_version": "1.0.0",
      "model_name": "LayoutModel",
      "state": {}
     },
     "60e9b53da5d94d849fc5e54b853d8770": {
      "model_module": "@jupyter-widgets/controls",
      "model_module_version": "1.1.0",
      "model_name": "ButtonModel",
      "state": {
       "icon": "step-forward",
       "layout": "IPY_MODEL_501d9bf7780c4d198470160ede529adf",
       "style": "IPY_MODEL_7be8ba1af5254e1e99ac01d172e9dfd8"
      }
     },
     "6120904ac62b48f591e896c1465592ce": {
      "model_module": "@jupyter-widgets/controls",
      "model_module_version": "1.1.0",
      "model_name": "VBoxModel",
      "state": {
       "children": [
        "IPY_MODEL_8c6dfeb46bd24309861057daeeb11874",
        "IPY_MODEL_0a3652a93fbd4af8bd75e284eb4fd184"
       ],
       "layout": "IPY_MODEL_5ec6a526a38b444a80b5289005a08560"
      }
     },
     "61261bd9415540ffadc7d801b049ecce": {
      "model_module": "@jupyter-widgets/controls",
      "model_module_version": "1.1.0",
      "model_name": "SliderStyleModel",
      "state": {
       "description_width": ""
      }
     },
     "612ce34c8d624f408eb42acf66622d68": {
      "model_module": "@jupyter-widgets/controls",
      "model_module_version": "1.1.0",
      "model_name": "DescriptionStyleModel",
      "state": {
       "description_width": ""
      }
     },
     "61349af8c6be44849aa27cfdcc81e71a": {
      "model_module": "@jupyter-widgets/base",
      "model_module_version": "1.0.0",
      "model_name": "LayoutModel",
      "state": {}
     },
     "61399607d3574d29aa33e3c498daa217": {
      "model_module": "@jupyter-widgets/base",
      "model_module_version": "1.0.0",
      "model_name": "LayoutModel",
      "state": {}
     },
     "6151df342b774924aadf1a135d2e841e": {
      "model_module": "@jupyter-widgets/base",
      "model_module_version": "1.0.0",
      "model_name": "LayoutModel",
      "state": {}
     },
     "61d6d4e7f7304531ae2b5490fdddc410": {
      "model_module": "@jupyter-widgets/base",
      "model_module_version": "1.0.0",
      "model_name": "LayoutModel",
      "state": {}
     },
     "61e28d05e90a4468b19a431321a63d44": {
      "model_module": "@jupyter-widgets/controls",
      "model_module_version": "1.1.0",
      "model_name": "HTMLModel",
      "state": {
       "layout": "IPY_MODEL_43ffcfbe57e14c75a9f93599cd4451a2",
       "style": "IPY_MODEL_c1d9ccafe56147ce82b556dcdbe691cf",
       "value": "<img style=\"image-rendering: pixelated;\" src=\"data:image/gif;base64,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\" width=\"240\"/>"
      }
     },
     "623ff2b54eb24887b60b604d4940b286": {
      "model_module": "@jupyter-widgets/controls",
      "model_module_version": "1.1.0",
      "model_name": "HTMLModel",
      "state": {
       "layout": "IPY_MODEL_c800673a633545408aa7485c64e17389",
       "style": "IPY_MODEL_c30401fb03494aa39620d189a4f5ecc7",
       "value": "<img style=\"image-rendering: pixelated;\" src=\"data:image/gif;base64,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\" width=\"240\"/>"
      }
     },
     "624c512a4fe94c10af3a19e8e4f85211": {
      "model_module": "@jupyter-widgets/controls",
      "model_module_version": "1.1.0",
      "model_name": "DescriptionStyleModel",
      "state": {
       "description_width": ""
      }
     },
     "626a2176f5634707810a44289d294c67": {
      "model_module": "@jupyter-widgets/base",
      "model_module_version": "1.0.0",
      "model_name": "LayoutModel",
      "state": {}
     },
     "626ebd0210a949a0b318dbf607e02d94": {
      "model_module": "@jupyter-widgets/controls",
      "model_module_version": "1.1.0",
      "model_name": "DescriptionStyleModel",
      "state": {
       "description_width": ""
      }
     },
     "62b5d3afaf1249faaa6b1f74105d57c9": {
      "model_module": "@jupyter-widgets/base",
      "model_module_version": "1.0.0",
      "model_name": "LayoutModel",
      "state": {}
     },
     "62d6b239ddb74d8f8b3aaa27f241bc37": {
      "model_module": "@jupyter-widgets/base",
      "model_module_version": "1.0.0",
      "model_name": "LayoutModel",
      "state": {
       "height": "30px",
       "padding": "0px 0px 0px 10px",
       "width": "260px"
      }
     },
     "62df46448c2a4753bf3b183dc7b175f6": {
      "model_module": "@jupyter-widgets/controls",
      "model_module_version": "1.1.0",
      "model_name": "DescriptionStyleModel",
      "state": {
       "description_width": ""
      }
     },
     "639d7ecd9e6f4529927bc0812fd34ca8": {
      "model_module": "@jupyter-widgets/controls",
      "model_module_version": "1.1.0",
      "model_name": "HTMLModel",
      "state": {
       "layout": "IPY_MODEL_06898f3d504140dcadcb8eda42ea18c7",
       "style": "IPY_MODEL_bd3d2c0f08454253bbb37bafe8970abe",
       "value": "<svg baseProfile=\"full\" height=\"240\" version=\"1.1\" width=\"240\" xmlns=\"http://www.w3.org/2000/svg\" xmlns:ev=\"http://www.w3.org/2001/xml-events\" xmlns:xlink=\"http://www.w3.org/1999/xlink\"><defs /><rect fill=\"#eef3dd\" height=\"240.0\" stroke=\"#bebebe\" stroke-width=\"1\" width=\"120.0\" x=\"0.0\" y=\"0.0\" /><line fill=\"#800080\" stroke=\"#add8e6\" stroke-width=\"1\" x1=\"49.5\" x2=\"0.0\" y1=\"65.45555061831874\" y2=\"65.455548\" /><line fill=\"#800080\" stroke=\"#add8e6\" stroke-width=\"1\" x1=\"51.0\" x2=\"0.0\" y1=\"61.25555061831874\" y2=\"37.47385799999999\" /><line fill=\"#800080\" stroke=\"#add8e6\" stroke-width=\"1\" x1=\"53.4\" x2=\"3.5108717103938396\" y1=\"59.455550618318725\" y2=\"0.0\" /><line fill=\"#800080\" stroke=\"#add8e6\" stroke-width=\"1\" x1=\"57.0\" x2=\"41.47085783159377\" y1=\"57.95555061831873\" y2=\"0.0\" /><line fill=\"#800080\" stroke=\"#add8e6\" stroke-width=\"1\" x1=\"63.0\" x2=\"78.52914216840624\" y1=\"57.95555061831873\" y2=\"0.0\" /><line fill=\"#800080\" stroke=\"#add8e6\" stroke-width=\"1\" x1=\"66.60000000000001\" x2=\"116.48912828960619\" y1=\"59.455550618318725\" y2=\"0.0\" /><line fill=\"#800080\" stroke=\"#add8e6\" stroke-width=\"1\" x1=\"69.0\" x2=\"120.0\" y1=\"61.25555061831874\" y2=\"37.47385799999999\" /><line fill=\"#800080\" stroke=\"#add8e6\" stroke-width=\"1\" x1=\"70.5\" x2=\"120.0\" y1=\"65.45555061831874\" y2=\"65.455548\" /><line fill=\"#800080\" stroke=\"#a020f0\" stroke-width=\"1\" x1=\"60.0\" x2=\"0.0\" y1=\"71.45555061831874\" y2=\"36.814530000000005\" /><line fill=\"#800080\" stroke=\"#a020f0\" stroke-width=\"1\" x1=\"60.0\" x2=\"120.0\" y1=\"71.45555061831874\" y2=\"36.814530000000005\" /><polygon fill=\"red\" points=\"55.2,57.95555061831873 49.5,62.45555061831874 49.5,80.45555061831874 55.2,84.95555061831874 64.80000000000001,84.95555061831874 70.5,80.45555061831874 70.5,62.45555061831874 64.80000000000001,57.95555061831873\" stroke=\"red\" stroke-width=\"1\" /><polygon points=\"-3.0,-3.0 0,0 3.0,-3.0 0,3.0\" stroke=\"black\" stroke-width=\"1\" transform=\"translate(60.0,71.45555061831874) rotate(180.0)\" /><polygon fill=\"black\" points=\"63.6,63.05555061831873 63.6,67.85555061831873 56.4,67.85555061831873 56.4,63.05555061831873\" stroke=\"black\" stroke-width=\"1\" /></svg>"
      }
     },
     "63a41179a8ab4f59a3dec5e6e7caea44": {
      "model_module": "@jupyter-widgets/controls",
      "model_module_version": "1.1.0",
      "model_name": "DescriptionStyleModel",
      "state": {
       "description_width": ""
      }
     },
     "63efabb901ea408a8d3203d8d468344a": {
      "model_module": "@jupyter-widgets/output",
      "model_module_version": "1.1.0",
      "model_name": "OutputModel",
      "state": {
       "_model_module_version": "1.1.0",
       "_view_module_version": "1.1.0",
       "layout": "IPY_MODEL_499ae00cd7ca49409b49f2157ac5a9bf"
      }
     },
     "64254d7049f041b595633cd918c7ec08": {
      "model_module": "@jupyter-widgets/controls",
      "model_module_version": "1.1.0",
      "model_name": "DescriptionStyleModel",
      "state": {
       "description_width": ""
      }
     },
     "6468a98e9b7e4382b35787f9527318aa": {
      "model_module": "@jupyter-widgets/base",
      "model_module_version": "1.0.0",
      "model_name": "LayoutModel",
      "state": {}
     },
     "647e51d608074fd49c7d2324bc53f1be": {
      "model_module": "@jupyter-widgets/base",
      "model_module_version": "1.0.0",
      "model_name": "LayoutModel",
      "state": {}
     },
     "64a56167d9ab46b68b42234376fcb023": {
      "model_module": "@jupyter-widgets/controls",
      "model_module_version": "1.1.0",
      "model_name": "HBoxModel",
      "state": {
       "children": [
        "IPY_MODEL_5802d2838e14484388116aa5952a815a",
        "IPY_MODEL_9a35fdc3b8724ae3b1d3f3471fd7d778"
       ],
       "layout": "IPY_MODEL_ab667b4987554e2cb359c237551eb237"
      }
     },
     "64ad1493aa09481c8ece86e57bdd1923": {
      "model_module": "@jupyter-widgets/controls",
      "model_module_version": "1.1.0",
      "model_name": "VBoxModel",
      "state": {
       "children": [
        "IPY_MODEL_4f599dc3a01440b58f7e1c0b457810dc",
        "IPY_MODEL_4f905bc753a44d81adfcd4204832e274",
        "IPY_MODEL_14e94770f7764cb8abbc4b89f992116b"
       ],
       "layout": "IPY_MODEL_cf4bff6f691e488795e5260f69a888f7"
      }
     },
     "65009a798e5a4be8a92d9c82f052d818": {
      "model_module": "@jupyter-widgets/controls",
      "model_module_version": "1.1.0",
      "model_name": "DescriptionStyleModel",
      "state": {
       "description_width": ""
      }
     },
     "650cf8a0cfd74ffa9adcd5f2220ba3c7": {
      "model_module": "@jupyter-widgets/base",
      "model_module_version": "1.0.0",
      "model_name": "LayoutModel",
      "state": {}
     },
     "650f8cdb7db84034a532f4988baa7775": {
      "model_module": "@jupyter-widgets/base",
      "model_module_version": "1.0.0",
      "model_name": "LayoutModel",
      "state": {}
     },
     "653bf77479f8495cb862df8c04106f92": {
      "model_module": "@jupyter-widgets/controls",
      "model_module_version": "1.1.0",
      "model_name": "ButtonModel",
      "state": {
       "icon": "step-forward",
       "layout": "IPY_MODEL_d23d04ce046d4ef897ef641c90219816",
       "style": "IPY_MODEL_8708527174214439a878b7a2f0d4134e"
      }
     },
     "6548ed15500d4284be44da259deb9130": {
      "model_module": "@jupyter-widgets/base",
      "model_module_version": "1.0.0",
      "model_name": "LayoutModel",
      "state": {}
     },
     "65611abac1a14eb69e27ffe1b7d5c98c": {
      "model_module": "@jupyter-widgets/controls",
      "model_module_version": "1.1.0",
      "model_name": "CheckboxModel",
      "state": {
       "description": "Update GUI",
       "disabled": false,
       "layout": "IPY_MODEL_cc9cfb5b9ccd45ef8b74c85a5da278ac",
       "style": "IPY_MODEL_cf2164ad255f40068a033faebe362658",
       "value": true
      }
     },
     "65bcf00fb0854f34939ada0559868789": {
      "model_module": "@jupyter-widgets/base",
      "model_module_version": "1.0.0",
      "model_name": "LayoutModel",
      "state": {}
     },
     "65e73ed0c6ad4c2eb3f6eba67c6dcae7": {
      "model_module": "@jupyter-widgets/base",
      "model_module_version": "1.0.0",
      "model_name": "LayoutModel",
      "state": {}
     },
     "66163aa0b1f348e8baa97da406883868": {
      "model_module": "@jupyter-widgets/controls",
      "model_module_version": "1.1.0",
      "model_name": "HBoxModel",
      "state": {
       "children": [
        "IPY_MODEL_2204aee3d69c407bb4e9a2df2fa68c82",
        "IPY_MODEL_33cd900c933c4821b72a3076704407dc"
       ],
       "layout": "IPY_MODEL_9b175e0026404612bf53c900783c4b16"
      }
     },
     "6625f84e585e4042a005faee690d15e9": {
      "model_module": "@jupyter-widgets/base",
      "model_module_version": "1.0.0",
      "model_name": "LayoutModel",
      "state": {}
     },
     "6630dceea213476f85d7fb675b71bdbe": {
      "model_module": "@jupyter-widgets/controls",
      "model_module_version": "1.1.0",
      "model_name": "CheckboxModel",
      "state": {
       "description": "Trace Path",
       "disabled": false,
       "layout": "IPY_MODEL_0edcc91ee3e94d0aac93d9d165a38e98",
       "style": "IPY_MODEL_7e056aed1b134ba697c95d630e2fd56f",
       "value": false
      }
     },
     "66353ff55ced4ae49f9faae6391c377a": {
      "model_module": "@jupyter-widgets/base",
      "model_module_version": "1.0.0",
      "model_name": "LayoutModel",
      "state": {}
     },
     "67031ed576a94f5cb790aabe84a4b7e0": {
      "model_module": "@jupyter-widgets/controls",
      "model_module_version": "1.1.0",
      "model_name": "ButtonStyleModel",
      "state": {}
     },
     "670b5c60e9ee4eb996da6b302c58de23": {
      "model_module": "@jupyter-widgets/controls",
      "model_module_version": "1.1.0",
      "model_name": "FloatSliderModel",
      "state": {
       "layout": "IPY_MODEL_291ddc4efb2c4ed2a1ae23c38b27d9cc",
       "readout": false,
       "step": 0.1,
       "style": "IPY_MODEL_9bd6f2d164ac490ca1f5b617b29f1fc1",
       "value": 100
      }
     },
     "67163e6155a84d24b5a9ae25ea0968dd": {
      "model_module": "@jupyter-widgets/base",
      "model_module_version": "1.0.0",
      "model_name": "LayoutModel",
      "state": {}
     },
     "6730b8fa71334579953b4dcaac69eb12": {
      "model_module": "@jupyter-widgets/base",
      "model_module_version": "1.0.0",
      "model_name": "LayoutModel",
      "state": {}
     },
     "6790d63e8bf94990b1498604d5d8cb61": {
      "model_module": "@jupyter-widgets/controls",
      "model_module_version": "1.1.0",
      "model_name": "VBoxModel",
      "state": {
       "children": [
        "IPY_MODEL_623ff2b54eb24887b60b604d4940b286",
        "IPY_MODEL_2504f987f3034189901514daba2b98fc"
       ],
       "layout": "IPY_MODEL_7d04d81ea4fd4517a9d21a668596f99f"
      }
     },
     "67a69f3ae6e442609d8af832d846ff5b": {
      "model_module": "@jupyter-widgets/controls",
      "model_module_version": "1.1.0",
      "model_name": "FloatSliderModel",
      "state": {
       "layout": "IPY_MODEL_cefcf78f51e648cabdf67afd0d6e9812",
       "readout": false,
       "step": 0.1,
       "style": "IPY_MODEL_bb1bdadcbe3b4d0888751a5399eeb9a3",
       "value": 100
      }
     },
     "67da6d0df3394e35b277f6de982e1ad1": {
      "model_module": "@jupyter-widgets/controls",
      "model_module_version": "1.1.0",
      "model_name": "VBoxModel",
      "state": {
       "children": [
        "IPY_MODEL_3d72b9a99a7843cfb48771ac53a5cac3",
        "IPY_MODEL_1ae150c5a64244798a9be47f80a147c0",
        "IPY_MODEL_6e209e67e3824202b78c66ec3a7c0f41"
       ],
       "layout": "IPY_MODEL_b2e1c14adcf8472a8c7472cf360df49e"
      }
     },
     "680ec37501584f569e299e482f7b0ac8": {
      "model_module": "@jupyter-widgets/controls",
      "model_module_version": "1.1.0",
      "model_name": "ButtonStyleModel",
      "state": {}
     },
     "68120c99e70f48689c44783d6b50b8b0": {
      "model_module": "@jupyter-widgets/controls",
      "model_module_version": "1.1.0",
      "model_name": "HTMLModel",
      "state": {
       "layout": "IPY_MODEL_110e4ede31e746b3a9acc1ee4da91fdf",
       "style": "IPY_MODEL_0e266ad653c446ffbabb6bcf5fb21ab6",
       "value": "<svg baseProfile=\"full\" height=\"240\" version=\"1.1\" width=\"240\" xmlns=\"http://www.w3.org/2000/svg\" xmlns:ev=\"http://www.w3.org/2001/xml-events\" xmlns:xlink=\"http://www.w3.org/1999/xlink\"><defs /><rect fill=\"#eef3dd\" height=\"240.0\" stroke=\"#bebebe\" stroke-width=\"1\" width=\"120.0\" x=\"0.0\" y=\"0.0\" /><line fill=\"#800080\" stroke=\"#add8e6\" stroke-width=\"1\" x1=\"49.5\" x2=\"0.0\" y1=\"20.291222558757873\" y2=\"20.291220000000003\" /><line fill=\"#800080\" stroke=\"#add8e6\" stroke-width=\"1\" x1=\"51.0\" x2=\"16.492264657006533\" y1=\"16.091222558757885\" y2=\"0.0\" /><line fill=\"#800080\" stroke=\"#add8e6\" stroke-width=\"1\" x1=\"53.4\" x2=\"41.408242442061834\" y1=\"14.291222558757868\" y2=\"0.0\" /><line fill=\"#800080\" stroke=\"#add8e6\" stroke-width=\"1\" x1=\"57.0\" x2=\"53.57260339469664\" y1=\"12.791222558757873\" y2=\"0.0\" /><line fill=\"#800080\" stroke=\"#add8e6\" stroke-width=\"1\" x1=\"63.0\" x2=\"66.42739660530336\" y1=\"12.791222558757873\" y2=\"0.0\" /><line fill=\"#800080\" stroke=\"#add8e6\" stroke-width=\"1\" x1=\"66.60000000000001\" x2=\"78.59175755793817\" y1=\"14.291222558757868\" y2=\"0.0\" /><line fill=\"#800080\" stroke=\"#add8e6\" stroke-width=\"1\" x1=\"69.0\" x2=\"103.50773534299347\" y1=\"16.091222558757885\" y2=\"0.0\" /><line fill=\"#800080\" stroke=\"#add8e6\" stroke-width=\"1\" x1=\"70.5\" x2=\"120.0\" y1=\"20.291222558757873\" y2=\"20.291220000000003\" /><line fill=\"#800080\" stroke=\"#a020f0\" stroke-width=\"1\" x1=\"60.0\" x2=\"14.462273597155821\" y1=\"26.29122255875788\" y2=\"0.0\" /><line fill=\"#800080\" stroke=\"#a020f0\" stroke-width=\"1\" x1=\"60.0\" x2=\"105.53772640284419\" y1=\"26.29122255875788\" y2=\"0.0\" /><polygon fill=\"red\" points=\"55.2,12.791222558757873 49.5,17.291222558757884 49.5,35.29122255875787 55.2,39.79122255875788 64.80000000000001,39.79122255875788 70.5,35.29122255875787 70.5,17.291222558757884 64.80000000000001,12.791222558757873\" stroke=\"red\" stroke-width=\"1\" /><polygon points=\"-3.0,-3.0 0,0 3.0,-3.0 0,3.0\" stroke=\"black\" stroke-width=\"1\" transform=\"translate(60.0,26.29122255875788) rotate(180.0)\" /><polygon fill=\"black\" points=\"63.6,17.89122255875787 63.6,22.691222558757875 56.4,22.691222558757875 56.4,17.89122255875787\" stroke=\"black\" stroke-width=\"1\" /></svg>"
      }
     },
     "683d2ca94f3c4eb797c4d873f67ea908": {
      "model_module": "@jupyter-widgets/base",
      "model_module_version": "1.0.0",
      "model_name": "LayoutModel",
      "state": {}
     },
     "68a5be8c39794ba5b0a55695d25b249b": {
      "model_module": "@jupyter-widgets/controls",
      "model_module_version": "1.1.0",
      "model_name": "CheckboxModel",
      "state": {
       "description": "Update GUI",
       "disabled": false,
       "layout": "IPY_MODEL_423646d7c3644f50b41c806658e9ca67",
       "style": "IPY_MODEL_924374b6bdc448bb96110c96365ed5c3",
       "value": true
      }
     },
     "6918baeb1d984233aba3e48c054f8a34": {
      "model_module": "@jupyter-widgets/controls",
      "model_module_version": "1.1.0",
      "model_name": "DescriptionStyleModel",
      "state": {
       "description_width": ""
      }
     },
     "691f6e2f4a5f44648dcaab7572aab67e": {
      "model_module": "@jupyter-widgets/base",
      "model_module_version": "1.0.0",
      "model_name": "LayoutModel",
      "state": {
       "height": "20px",
       "padding": "0px 0px 0px 0px",
       "width": "248px"
      }
     },
     "692485e30cc14158bb00805d84e15632": {
      "model_module": "@jupyter-widgets/base",
      "model_module_version": "1.0.0",
      "model_name": "LayoutModel",
      "state": {}
     },
     "694c594c352c41c589a7d39c60249644": {
      "model_module": "@jupyter-widgets/controls",
      "model_module_version": "1.1.0",
      "model_name": "DescriptionStyleModel",
      "state": {
       "description_width": ""
      }
     },
     "695aa97294bd4db4912c6716dc2a566a": {
      "model_module": "@jupyter-widgets/controls",
      "model_module_version": "1.1.0",
      "model_name": "TextModel",
      "state": {
       "description": "Time:",
       "layout": "IPY_MODEL_e567a8eb67e3429bb4649bb540a30466",
       "style": "IPY_MODEL_31fede1dcbb746ad8ce6b9698a1ac698",
       "value": "0.00 seconds"
      }
     },
     "696ae02c25614bd2bdca7e0b0989f806": {
      "model_module": "@jupyter-widgets/controls",
      "model_module_version": "1.1.0",
      "model_name": "VBoxModel",
      "state": {
       "children": [
        "IPY_MODEL_274d1d19ab7d41f78d79450fff36b8e0",
        "IPY_MODEL_7a8b3cd425e74dfd881dc90d6501d1c0",
        "IPY_MODEL_4efcf6a5e4934eec93fa54cbd6ef7146"
       ],
       "layout": "IPY_MODEL_50b110c2a7b7436db7ecacffe0cce09f"
      }
     },
     "697a4b7e1f5c4aba9d6ffab354fb8b02": {
      "model_module": "@jupyter-widgets/controls",
      "model_module_version": "1.1.0",
      "model_name": "FloatSliderModel",
      "state": {
       "layout": "IPY_MODEL_45243ef514b34c799647e56a4e344ca8",
       "readout": false,
       "step": 0.1,
       "style": "IPY_MODEL_0f3828c907a64812a3c5265bc4d180ec",
       "value": 100
      }
     },
     "69cb5d811a784622acb274cbe61bf161": {
      "model_module": "@jupyter-widgets/base",
      "model_module_version": "1.0.0",
      "model_name": "LayoutModel",
      "state": {
       "height": "20px",
       "padding": "0px 0px 0px 0px",
       "width": "248px"
      }
     },
     "69d822d030b649049be226b2373dcf13": {
      "model_module": "@jupyter-widgets/controls",
      "model_module_version": "1.1.0",
      "model_name": "DescriptionStyleModel",
      "state": {
       "description_width": ""
      }
     },
     "6a256c3a7da045dfb17270d64ae37726": {
      "model_module": "@jupyter-widgets/controls",
      "model_module_version": "1.1.0",
      "model_name": "ButtonStyleModel",
      "state": {}
     },
     "6a4faaed051d4c519ef1b8de49e81c40": {
      "model_module": "@jupyter-widgets/base",
      "model_module_version": "1.0.0",
      "model_name": "LayoutModel",
      "state": {}
     },
     "6a6a1de5f3e9400ca2adbf4f36dbcc15": {
      "model_module": "@jupyter-widgets/base",
      "model_module_version": "1.0.0",
      "model_name": "LayoutModel",
      "state": {}
     },
     "6a7d6a3ae59840969a7bd1a070008c4d": {
      "model_module": "@jupyter-widgets/controls",
      "model_module_version": "1.1.0",
      "model_name": "IntTextModel",
      "state": {
       "description": "Horizontal space between banks:",
       "layout": "IPY_MODEL_61399607d3574d29aa33e3c498daa217",
       "step": 1,
       "style": "IPY_MODEL_3cd79f54a946425bb54b4b07f2e480e2",
       "value": 150
      }
     },
     "6a813f1f9e184262baa82954159d931a": {
      "model_module": "@jupyter-widgets/controls",
      "model_module_version": "1.1.0",
      "model_name": "VBoxModel",
      "state": {
       "children": [
        "IPY_MODEL_a3010b7d4642439bb05a49f6ce7d3ecd",
        "IPY_MODEL_e940171259f14232a5be37293c410a30"
       ],
       "layout": "IPY_MODEL_263dd74ba8d745918bd783a7f05e098e"
      }
     },
     "6aabc8d7eecc441bb03ab5d9a2c80169": {
      "model_module": "@jupyter-widgets/controls",
      "model_module_version": "1.1.0",
      "model_name": "TextModel",
      "state": {
       "description": "Time:",
       "layout": "IPY_MODEL_58c6974e232248e9be29a2d4d98348ba",
       "style": "IPY_MODEL_b3ea09bbcc6c4240b5eabe6c54ba33ff",
       "value": "18.10 seconds"
      }
     },
     "6acb94daeaf0480c900e59eb9ddc36f3": {
      "model_module": "@jupyter-widgets/base",
      "model_module_version": "1.0.0",
      "model_name": "LayoutModel",
      "state": {}
     },
     "6ae57a7736274cc7ad44002135f3593e": {
      "model_module": "@jupyter-widgets/controls",
      "model_module_version": "1.1.0",
      "model_name": "FloatSliderModel",
      "state": {
       "layout": "IPY_MODEL_11498ccb9d96490e9fa79987ff3f04bd",
       "readout": false,
       "step": 0.1,
       "style": "IPY_MODEL_7d6160bc606a4b298127f3e15f9215da",
       "value": 50
      }
     },
     "6b1996450dc94923b44e190ca22a37bc": {
      "model_module": "@jupyter-widgets/controls",
      "model_module_version": "1.1.0",
      "model_name": "HBoxModel",
      "state": {
       "children": [
        "IPY_MODEL_522ddbe3caef420d8757ba8a2fa458ec",
        "IPY_MODEL_0d7eefc0748c4a5daf65ecf9ea641d04"
       ],
       "layout": "IPY_MODEL_f770deb6a4db4853b59f8f5140cf1138"
      }
     },
     "6b39035693e84cad815084f25bc413f5": {
      "model_module": "@jupyter-widgets/controls",
      "model_module_version": "1.1.0",
      "model_name": "FloatSliderModel",
      "state": {
       "layout": "IPY_MODEL_03dadebaceb04fb186b1cf8f0edd1ee2",
       "readout": false,
       "step": 0.1,
       "style": "IPY_MODEL_cd17a9e67ef446d1a1319e475300e820",
       "value": 50
      }
     },
     "6b48851aaa6e4ac2824bcb2c2ab4c16b": {
      "model_module": "@jupyter-widgets/controls",
      "model_module_version": "1.1.0",
      "model_name": "CheckboxModel",
      "state": {
       "description": "Trace Path",
       "disabled": false,
       "layout": "IPY_MODEL_45c9d5a37d8649cba1f8c1f5bf79ae30",
       "style": "IPY_MODEL_183c4c81d0154a76bfb0e1e0f7777e80",
       "value": false
      }
     },
     "6bc3cabd8dca48b4b82fa48d141718fd": {
      "model_module": "@jupyter-widgets/base",
      "model_module_version": "1.0.0",
      "model_name": "LayoutModel",
      "state": {}
     },
     "6bcd01e63f404d33a3dae2c52e01c41b": {
      "model_module": "@jupyter-widgets/controls",
      "model_module_version": "1.1.0",
      "model_name": "DescriptionStyleModel",
      "state": {
       "description_width": ""
      }
     },
     "6bf415bd4acc4108bd68c3fbf6b64c58": {
      "model_module": "@jupyter-widgets/base",
      "model_module_version": "1.0.0",
      "model_name": "LayoutModel",
      "state": {}
     },
     "6c2d9c71e58a42acb6a9953b72c39f28": {
      "model_module": "@jupyter-widgets/base",
      "model_module_version": "1.0.0",
      "model_name": "LayoutModel",
      "state": {}
     },
     "6c6c171b302244279b4ec06a9a400d42": {
      "model_module": "@jupyter-widgets/controls",
      "model_module_version": "1.1.0",
      "model_name": "TextModel",
      "state": {
       "description": "Time:",
       "layout": "IPY_MODEL_7089450f333a4147beca3cccbcfebf28",
       "style": "IPY_MODEL_6d9e08a63d2b448bb24bdeb0abb65aaa",
       "value": "0.00 seconds"
      }
     },
     "6c8df6d088974aa58aba585798686138": {
      "model_module": "@jupyter-widgets/controls",
      "model_module_version": "1.1.0",
      "model_name": "ButtonModel",
      "state": {
       "icon": "step-forward",
       "layout": "IPY_MODEL_e0c9f56148f246a89e4d33b5436b9314",
       "style": "IPY_MODEL_a8d34dff267c480292c7c3ffdb3fe61c"
      }
     },
     "6d2cc10ca38a4329b75fc89aecd8f25d": {
      "model_module": "@jupyter-widgets/base",
      "model_module_version": "1.0.0",
      "model_name": "LayoutModel",
      "state": {}
     },
     "6d44f636204f444aa9e4a2d4effc8208": {
      "model_module": "@jupyter-widgets/base",
      "model_module_version": "1.0.0",
      "model_name": "LayoutModel",
      "state": {}
     },
     "6d9e08a63d2b448bb24bdeb0abb65aaa": {
      "model_module": "@jupyter-widgets/controls",
      "model_module_version": "1.1.0",
      "model_name": "DescriptionStyleModel",
      "state": {
       "description_width": ""
      }
     },
     "6db738f03383489ab667dc20a9ecca07": {
      "model_module": "@jupyter-widgets/base",
      "model_module_version": "1.0.0",
      "model_name": "LayoutModel",
      "state": {}
     },
     "6dc6838a650f45d2874d2135d7a6004c": {
      "model_module": "@jupyter-widgets/base",
      "model_module_version": "1.0.0",
      "model_name": "LayoutModel",
      "state": {}
     },
     "6de4fc0b569c4d76acc8051f0a862147": {
      "model_module": "@jupyter-widgets/base",
      "model_module_version": "1.0.0",
      "model_name": "LayoutModel",
      "state": {}
     },
     "6e00cd35e17b45dcabb268e93fe0d2c5": {
      "model_module": "@jupyter-widgets/base",
      "model_module_version": "1.0.0",
      "model_name": "LayoutModel",
      "state": {}
     },
     "6e11c3a1658740579cb7c1ac74c0748f": {
      "model_module": "@jupyter-widgets/base",
      "model_module_version": "1.0.0",
      "model_name": "LayoutModel",
      "state": {}
     },
     "6e1346d0008142098fd17c9bf22b4c2f": {
      "model_module": "@jupyter-widgets/controls",
      "model_module_version": "1.1.0",
      "model_name": "ButtonStyleModel",
      "state": {}
     },
     "6e206f406fe544d1b8f8234c4804e902": {
      "model_module": "@jupyter-widgets/controls",
      "model_module_version": "1.1.0",
      "model_name": "SliderStyleModel",
      "state": {
       "description_width": ""
      }
     },
     "6e209e67e3824202b78c66ec3a7c0f41": {
      "model_module": "@jupyter-widgets/output",
      "model_module_version": "1.1.0",
      "model_name": "OutputModel",
      "state": {
       "_model_module_version": "1.1.0",
       "_view_module_version": "1.1.0",
       "layout": "IPY_MODEL_f1591a40a4c94583bbaa1402f61bfb1a"
      }
     },
     "6e47727c523444dc9963863329b18c9d": {
      "model_module": "@jupyter-widgets/base",
      "model_module_version": "1.0.0",
      "model_name": "LayoutModel",
      "state": {}
     },
     "6e6610619bc6474eaa7e68cf4931c9d6": {
      "model_module": "@jupyter-widgets/base",
      "model_module_version": "1.0.0",
      "model_name": "LayoutModel",
      "state": {
       "height": "30px",
       "padding": "0px 0px 0px 10px",
       "width": "260px"
      }
     },
     "6e7cb99bb7d743c08181d108ec21a41e": {
      "model_module": "@jupyter-widgets/controls",
      "model_module_version": "1.1.0",
      "model_name": "ButtonModel",
      "state": {
       "description": "Clear Output",
       "layout": "IPY_MODEL_5a0ec06cd3154d3a8528896e34d328a5",
       "style": "IPY_MODEL_d02110c679fe4732b7798502cec3a19e"
      }
     },
     "6e7fb74cc7f242f688362a30e657f54a": {
      "model_module": "@jupyter-widgets/base",
      "model_module_version": "1.0.0",
      "model_name": "LayoutModel",
      "state": {}
     },
     "6e86a17dd99941cc8b8e65ffa4429a2b": {
      "model_module": "@jupyter-widgets/controls",
      "model_module_version": "1.1.0",
      "model_name": "CheckboxModel",
      "state": {
       "description": "Trace Path",
       "disabled": false,
       "layout": "IPY_MODEL_67163e6155a84d24b5a9ae25ea0968dd",
       "style": "IPY_MODEL_3b1f174da9ff4a7f9f3f726ae883c1b9",
       "value": false
      }
     },
     "6ea2ada2de9848ec96c63f7ad2ce9891": {
      "model_module": "@jupyter-widgets/controls",
      "model_module_version": "1.1.0",
      "model_name": "FloatSliderModel",
      "state": {
       "layout": "IPY_MODEL_30c7311be0f54d83af8d8cb452faf66b",
       "orientation": "vertical",
       "readout": false,
       "step": 0.1,
       "style": "IPY_MODEL_0b91c1b1921649cdba187058f9ae6594",
       "value": 25
      }
     },
     "6ef9a5bec0f44228a9b5331127440ef8": {
      "model_module": "@jupyter-widgets/controls",
      "model_module_version": "1.1.0",
      "model_name": "DescriptionStyleModel",
      "state": {
       "description_width": ""
      }
     },
     "6efa1fa1537444c99b8675ba3244ed23": {
      "model_module": "@jupyter-widgets/controls",
      "model_module_version": "1.1.0",
      "model_name": "CheckboxModel",
      "state": {
       "description": "Trace Path",
       "disabled": false,
       "layout": "IPY_MODEL_8a9036c4d5a44e2d85db3468970f1300",
       "style": "IPY_MODEL_549a7d433d9e4e3ead15e9f8d7da79b4",
       "value": false
      }
     },
     "6f3749b43806418199eb7a4002b81f88": {
      "model_module": "@jupyter-widgets/controls",
      "model_module_version": "1.1.0",
      "model_name": "DescriptionStyleModel",
      "state": {
       "description_width": ""
      }
     },
     "6f3a1f450bda4207bea5e1047d868853": {
      "model_module": "@jupyter-widgets/controls",
      "model_module_version": "1.1.0",
      "model_name": "ButtonStyleModel",
      "state": {}
     },
     "6f892ddebbf34426ba33087a22e52752": {
      "model_module": "@jupyter-widgets/base",
      "model_module_version": "1.0.0",
      "model_name": "LayoutModel",
      "state": {}
     },
     "6fb9db8eaddf4cc798e91406215b99c2": {
      "model_module": "@jupyter-widgets/controls",
      "model_module_version": "1.1.0",
      "model_name": "DescriptionStyleModel",
      "state": {
       "description_width": ""
      }
     },
     "704c22c1ae0241f99d9d2b54fb4e3cc7": {
      "model_module": "@jupyter-widgets/base",
      "model_module_version": "1.0.0",
      "model_name": "LayoutModel",
      "state": {}
     },
     "70659e41a2c040e8a5d8358c6a0daac2": {
      "model_module": "@jupyter-widgets/controls",
      "model_module_version": "1.1.0",
      "model_name": "SliderStyleModel",
      "state": {
       "description_width": ""
      }
     },
     "7089450f333a4147beca3cccbcfebf28": {
      "model_module": "@jupyter-widgets/base",
      "model_module_version": "1.0.0",
      "model_name": "LayoutModel",
      "state": {}
     },
     "70bdcfc706c94e0ea9cb51040d0e9319": {
      "model_module": "@jupyter-widgets/controls",
      "model_module_version": "1.1.0",
      "model_name": "HTMLModel",
      "state": {
       "layout": "IPY_MODEL_d577a143aefe4c9b9c6b5482b5e0c2b4",
       "style": "IPY_MODEL_ad6cb35e19b44f108da6ed2ec58baa2d",
       "value": "<img style=\"image-rendering: pixelated;\" src=\"data:image/gif;base64,R0lGODdheAA8AIcAAAAAAAAAAAAAAAAAAAAAAAAAAAAAAAAAAAAAAAAAAAAAAAAAAAAAAAAAAAAAAAAAAAAAAAAAAAAAAAAAAAAAAAAAAAAAAAAAAAAAAAAAAAAAAAAAAAAAAAAAAAAAAAAAAAAAAAAAAAAAAAAAAAAAAAAAAAAAAAAAAAAAAAAAAAAAAAAAAAAAAAAAAAAAAAAAAAAAAAAAAAAAAAAAAAAAAAAAAAAAAAAAAAAAAAAAAAAAAAAAAAAAAAAAAAAAAAAAAAAAAAAAAAAAAAAAAAAAAAAAAAAAAAAAAAAAAAAAAAAAAAAAAAAAAAAAAAAAAAAAAAAAAAAAAAAAAAAAAAAAAAAAAAAAAAAAAAAAAAAAAAAAAAAAAAAAAAAAAAAAAAAAAAAAAAAAAAAAAAAAAAAAAAAAAAAAAAAAAAAAAAAAAAAAAAAAAAAAAAAAAAAAAAAAAAAAAAAAAAAAAAAAAAAAAAAAAAAAAAAAAAAAAAAAAAAAAAAAAAAAAAAAAAAAAAAAAAAAAAAAAAAAAAAAAAAAAAAAAAAAAAAAAAAAAAAAAAAAAAAAAAAAAAAAAAAAAAAAAAAAAAAAAAAAAAAAAAAAAAAAAAAAAAAAAAAAAAAAAAAAAAAAAAAAAAAAAAAAAAAAAAAAAAAAAAAAAAAAAAAAAAAAAAAAAAAAAAAAAAAAAAAAAAAAAAAAAAAAAAAAAAAAAAAAAAAAAAAAAAAAAAAAAAAAAAAAAAAAAAAAAAAAAAAAAAAAAAAAAAAAAAAAAAAAAAAAAAAAAAAAAAAAAAAAAAAAAAAAAAAAAAAAAAAAAAAAAAAAAAAAAAAAAAAAAAAAAAAAAAAAAAAAAAAAAAAAAAAAAAAAAAAAAAAAAAAAAAAAAAAAAAAAAAAAAAAAAAAAAAAAAAAAAAAAAAAAAAAAAAAAAAAAAAAAAAAAAAAAAAAAAAAAAAAAAAAAAAAAAAAAAAAAAAAAAAAAAAAAAAAAAAAAAAAAAAAAAAAAAAAAAAAAAAAAAAAAAAAAAAAAAAAAACwAAAAAeAA8AEAIigABCBxIsKDBgwgTKlzIsKHDhxAjSpxIsaLFixgzatzIsaPHjyBDihxJsqTJkyhTqlzJsqXLlzBjypxJs6bNmzhz6tzJs6fPn0CDCh1KtKjRo0iTKl3KtKnTp1CjSp1KtarVq1izat3KtavXr2DDih1LtqzZs2jTql3Ltq3bt3Djyp1Lt67duzwDAgA7\" width=\"240\"/>"
      }
     },
     "70dc0e7201d94dada8f3a2d3d4e9f791": {
      "model_module": "@jupyter-widgets/controls",
      "model_module_version": "1.1.0",
      "model_name": "ButtonModel",
      "state": {
       "description": "Clear Output",
       "layout": "IPY_MODEL_d485961a829740db856c8408d0ed8233",
       "style": "IPY_MODEL_dac04bb5439b43a2b4bbcd7ad5b395c5"
      }
     },
     "71062a8469004d5d98975efd0c547863": {
      "model_module": "@jupyter-widgets/base",
      "model_module_version": "1.0.0",
      "model_name": "LayoutModel",
      "state": {}
     },
     "71932342b3ad47a1bf21c50e606fbb24": {
      "model_module": "@jupyter-widgets/controls",
      "model_module_version": "1.1.0",
      "model_name": "HBoxModel",
      "state": {
       "children": [
        "IPY_MODEL_924d3088634c419998911a59919eef01",
        "IPY_MODEL_74fddf9b776349d79c1f8dca6f3ee6d2"
       ],
       "layout": "IPY_MODEL_573b101df04b49a28e46e20a20004aa4"
      }
     },
     "7216c8310d134d6db4c8cb88bf8d2069": {
      "model_module": "@jupyter-widgets/controls",
      "model_module_version": "1.1.0",
      "model_name": "HBoxModel",
      "state": {
       "children": [
        "IPY_MODEL_bbd4154c12a8451d9014c8212f4f31ac",
        "IPY_MODEL_3f9777f207ef4d9cb35c88ca06f528ef",
        "IPY_MODEL_3b69f35eb90a4868ada0d106ba25df01"
       ],
       "layout": "IPY_MODEL_af1246381f8447bf90d2f0eb11dcbc8e"
      }
     },
     "72441ad0581f4ce2b71db4a1a48f0de3": {
      "model_module": "@jupyter-widgets/controls",
      "model_module_version": "1.1.0",
      "model_name": "VBoxModel",
      "state": {
       "children": [
        "IPY_MODEL_93f8990994784700ab0cfbf9da1b8889",
        "IPY_MODEL_08c1392f20dc4079a5f1206e4d1c253a"
       ],
       "layout": "IPY_MODEL_42ffbfb9b338483dbb89c59a0da271f3"
      }
     },
     "72724b7f17c143eba11e458e536d101d": {
      "model_module": "@jupyter-widgets/controls",
      "model_module_version": "1.1.0",
      "model_name": "FloatSliderModel",
      "state": {
       "layout": "IPY_MODEL_78843eab33d0428287a214da9bdfbf7f",
       "orientation": "vertical",
       "readout": false,
       "step": 0.1,
       "style": "IPY_MODEL_c6700c4993ea4b3e865904759e5a4f4d",
       "value": 70.36151707989653
      }
     },
     "72cede9b6b7c4f24bc9fcf79fcce86ce": {
      "model_module": "@jupyter-widgets/base",
      "model_module_version": "1.0.0",
      "model_name": "LayoutModel",
      "state": {}
     },
     "737daf615cee4d84aba2cb376ed435a5": {
      "model_module": "@jupyter-widgets/controls",
      "model_module_version": "1.1.0",
      "model_name": "VBoxModel",
      "state": {
       "children": [
        "IPY_MODEL_0f3992e899784113bf0c86d053d54935",
        "IPY_MODEL_90526f05c0b8437aa1e04850e1849379"
       ],
       "layout": "IPY_MODEL_a5efe4cc4ec547afb49eed08948628dc"
      }
     },
     "737f12ce880e411b9a7c9eefa90973fa": {
      "model_module": "@jupyter-widgets/controls",
      "model_module_version": "1.1.0",
      "model_name": "VBoxModel",
      "state": {
       "children": [
        "IPY_MODEL_fba0e8d90c624e96b8aff0cda8c43d41",
        "IPY_MODEL_ab4b96d0a4004a46bc91d1ea51f708de"
       ],
       "layout": "IPY_MODEL_cef6023fdd7948dab009ccf56032a150"
      }
     },
     "7397a5beab224541a9e6ad9215cc0eeb": {
      "model_module": "@jupyter-widgets/base",
      "model_module_version": "1.0.0",
      "model_name": "LayoutModel",
      "state": {
       "height": "30px",
       "padding": "0px 0px 0px 10px",
       "width": "260px"
      }
     },
     "745467751b4647c3a03113c926b17267": {
      "model_module": "@jupyter-widgets/controls",
      "model_module_version": "1.1.0",
      "model_name": "DescriptionStyleModel",
      "state": {
       "description_width": ""
      }
     },
     "7459d7e0d7194a0f9d0830d76ebf86c5": {
      "model_module": "@jupyter-widgets/controls",
      "model_module_version": "1.1.0",
      "model_name": "FloatSliderModel",
      "state": {
       "layout": "IPY_MODEL_6e6610619bc6474eaa7e68cf4931c9d6",
       "readout": false,
       "step": 0.1,
       "style": "IPY_MODEL_9d237f6fbc304fb9b03bb5ebabf1bd1b",
       "value": 50
      }
     },
     "74fddf9b776349d79c1f8dca6f3ee6d2": {
      "model_module": "@jupyter-widgets/controls",
      "model_module_version": "1.1.0",
      "model_name": "HTMLModel",
      "state": {
       "layout": "IPY_MODEL_d99dd75be84141ebb943fc6aa69e72a0",
       "style": "IPY_MODEL_3fc17f53e8e043659739d9f5e439af7a",
       "value": "<svg baseProfile=\"full\" height=\"240\" version=\"1.1\" width=\"240\" xmlns=\"http://www.w3.org/2000/svg\" xmlns:ev=\"http://www.w3.org/2001/xml-events\" xmlns:xlink=\"http://www.w3.org/1999/xlink\"><defs /><rect fill=\"#eef3dd\" height=\"240.0\" stroke=\"#bebebe\" stroke-width=\"1\" width=\"240.0\" x=\"0.0\" y=\"0.0\" /><rect fill=\"#0000ff\" height=\"6.0\" stroke=\"#0000ff\" stroke-width=\"1\" width=\"30.0\" x=\"105.0\" y=\"60.0\" /><circle cx=\"120.0\" cy=\"30.0\" fill=\"#ffff00\" r=\"15.0\" stroke=\"#ffff00\" stroke-width=\"1\" /><line fill=\"#800080\" stroke=\"#add8e6\" stroke-width=\"1\" x1=\"109.5\" x2=\"0.0\" y1=\"174.0\" y2=\"174.0\" /><line fill=\"#800080\" stroke=\"#add8e6\" stroke-width=\"1\" x1=\"111.0\" x2=\"0.0\" y1=\"169.8\" y2=\"118.039848\" /><line fill=\"#800080\" stroke=\"#add8e6\" stroke-width=\"1\" x1=\"113.4\" x2=\"0.0\" y1=\"168.0\" y2=\"32.855142\" /><line fill=\"#800080\" stroke=\"#add8e6\" stroke-width=\"1\" x1=\"117.0\" x2=\"72.38645873701557\" y1=\"166.5\" y2=\"0.0\" /><line fill=\"#800080\" stroke=\"#add8e6\" stroke-width=\"1\" x1=\"122.99999999999999\" x2=\"167.61354126298448\" y1=\"166.5\" y2=\"0.0\" /><line fill=\"#800080\" stroke=\"#add8e6\" stroke-width=\"1\" x1=\"126.6\" x2=\"240.0\" y1=\"168.0\" y2=\"32.855142\" /><line fill=\"#800080\" stroke=\"#add8e6\" stroke-width=\"1\" x1=\"129.0\" x2=\"240.0\" y1=\"169.8\" y2=\"118.039848\" /><line fill=\"#800080\" stroke=\"#add8e6\" stroke-width=\"1\" x1=\"130.5\" x2=\"240.0\" y1=\"174.0\" y2=\"174.0\" /><line fill=\"#800080\" stroke=\"#add8e6\" stroke-width=\"1\" x1=\"130.5\" x2=\"240.0\" y1=\"186.0\" y2=\"186.0\" /><line fill=\"#800080\" stroke=\"#add8e6\" stroke-width=\"1\" x1=\"129.0\" x2=\"235.79644084796368\" y1=\"190.2\" y2=\"240.0\" /><line fill=\"#800080\" stroke=\"#add8e6\" stroke-width=\"1\" x1=\"126.6\" x2=\"166.87678224760555\" y1=\"192.0\" y2=\"240.0\" /><line fill=\"#800080\" stroke=\"#add8e6\" stroke-width=\"1\" x1=\"122.99999999999999\" x2=\"135.45963724447796\" y1=\"193.5\" y2=\"240.0\" /><line fill=\"#800080\" stroke=\"#add8e6\" stroke-width=\"1\" x1=\"117.0\" x2=\"104.54036275552205\" y1=\"193.5\" y2=\"240.0\" /><line fill=\"#800080\" stroke=\"#add8e6\" stroke-width=\"1\" x1=\"113.39999999999999\" x2=\"73.12321775239447\" y1=\"192.0\" y2=\"240.0\" /><line fill=\"#800080\" stroke=\"#add8e6\" stroke-width=\"1\" x1=\"111.0\" x2=\"4.203559152036306\" y1=\"190.2\" y2=\"240.0\" /><line fill=\"#800080\" stroke=\"#add8e6\" stroke-width=\"1\" x1=\"109.5\" x2=\"0.0\" y1=\"186.0\" y2=\"186.0\" /><line fill=\"#800080\" stroke=\"#a020f0\" stroke-width=\"1\" x1=\"120.0\" x2=\"117.69230705325427\" y1=\"30.0\" y2=\"60.0\" /><line fill=\"#800080\" stroke=\"#a020f0\" stroke-width=\"1\" x1=\"120.0\" x2=\"122.30769294674575\" y1=\"30.0\" y2=\"60.0\" /><line fill=\"#800080\" stroke=\"#a020f0\" stroke-width=\"1\" x1=\"120.0\" x2=\"0.0\" y1=\"180.0\" y2=\"110.717964\" /><line fill=\"#800080\" stroke=\"#a020f0\" stroke-width=\"1\" x1=\"120.0\" x2=\"240.0\" y1=\"180.0\" y2=\"110.717964\" /><polygon fill=\"red\" points=\"115.19999999999999,166.5 109.5,171.0 109.5,189.0 115.19999999999999,193.5 124.80000000000001,193.5 130.5,189.0 130.5,171.0 124.80000000000001,166.5\" stroke=\"red\" stroke-width=\"1\" /><polygon points=\"-3.0,-3.0 0,0 3.0,-3.0 0,3.0\" stroke=\"black\" stroke-width=\"1\" transform=\"translate(120.0,180.0) rotate(180.0)\" /><circle cx=\"109.5\" cy=\"166.5\" fill=\"yellow\" r=\"1.5\" stroke=\"orange\" stroke-width=\"1\" /><circle cx=\"130.5\" cy=\"166.5\" fill=\"yellow\" r=\"1.5\" stroke=\"orange\" stroke-width=\"1\" /><polygon fill=\"black\" points=\"123.60000000000001,171.6 123.60000000000001,176.4 116.39999999999999,176.4 116.39999999999999,171.6\" stroke=\"black\" stroke-width=\"1\" /></svg>"
      }
     },
     "750afc6dbd8c4a73909ff32538cc81a7": {
      "model_module": "@jupyter-widgets/controls",
      "model_module_version": "1.1.0",
      "model_name": "HBoxModel",
      "state": {
       "children": [
        "IPY_MODEL_0f1456a372ba416c8f08a7fa1e282a98",
        "IPY_MODEL_89a0f2bdb2c14fb28f0bed4871f849cc"
       ],
       "layout": "IPY_MODEL_1090df4fcb60488f8fcd008a155882ce"
      }
     },
     "752efb5ade624c80a4d924a320c868e6": {
      "model_module": "@jupyter-widgets/base",
      "model_module_version": "1.0.0",
      "model_name": "LayoutModel",
      "state": {}
     },
     "754595ab1ee04808a8437e01e75127b2": {
      "model_module": "@jupyter-widgets/controls",
      "model_module_version": "1.1.0",
      "model_name": "HBoxModel",
      "state": {
       "children": [
        "IPY_MODEL_f2a85f09bc764f548a310b77c3e588c5",
        "IPY_MODEL_309cc21e8110422492fe00e61593a9c1"
       ],
       "layout": "IPY_MODEL_e2c69f455d5c478ca8a2540a3d4dd059"
      }
     },
     "755a5ce62c0c41de9169c36b4b6c4934": {
      "model_module": "@jupyter-widgets/controls",
      "model_module_version": "1.1.0",
      "model_name": "SliderStyleModel",
      "state": {
       "description_width": ""
      }
     },
     "7669025fc1904dfabf7deb24ff2dd974": {
      "model_module": "@jupyter-widgets/base",
      "model_module_version": "1.0.0",
      "model_name": "LayoutModel",
      "state": {}
     },
     "76aa8704e4144af7a1f37e36d26e91d5": {
      "model_module": "@jupyter-widgets/controls",
      "model_module_version": "1.1.0",
      "model_name": "ButtonModel",
      "state": {
       "description": "Clear Output",
       "layout": "IPY_MODEL_246eb1db195f42c89fec7942f0c155fa",
       "style": "IPY_MODEL_308d8b2969c549219d8cf54967f3652b"
      }
     },
     "76bb22141d6d4b8399922ae7ffcd1843": {
      "model_module": "@jupyter-widgets/base",
      "model_module_version": "1.0.0",
      "model_name": "LayoutModel",
      "state": {}
     },
     "775582c43cc14fbfa58f8f1cbcc2e286": {
      "model_module": "@jupyter-widgets/controls",
      "model_module_version": "1.1.0",
      "model_name": "HTMLModel",
      "state": {
       "layout": "IPY_MODEL_65e73ed0c6ad4c2eb3f6eba67c6dcae7",
       "style": "IPY_MODEL_5426e2f5e835463dac778dfe96ff141a",
       "value": "<img style=\"image-rendering: pixelated;\" src=\"data:image/gif;base64,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\" width=\"240\"/>"
      }
     },
     "776e848b5a9c4e3d8550a36b4b5879d8": {
      "model_module": "@jupyter-widgets/base",
      "model_module_version": "1.0.0",
      "model_name": "LayoutModel",
      "state": {}
     },
     "7780327260574bf69a5e87d356c67740": {
      "model_module": "@jupyter-widgets/controls",
      "model_module_version": "1.1.0",
      "model_name": "HTMLModel",
      "state": {
       "layout": "IPY_MODEL_57ac6b6b03f248ca9c54f2b8019058f4",
       "style": "IPY_MODEL_7967761e626c49499b03ba5e407281fa",
       "value": "<img style=\"image-rendering: pixelated;\" src=\"data:image/gif;base64,R0lGODdheAA8AIcAAAAAAAAAAAAAAAAAAAAAAAAAAAAAAAAAAAAAAAAAAAAAAAAAAAAAAAAAAAAAAAAAAAAAAAAAAAAAAAAAAAAAAAAAAAAAAAAAAAAAAAAAAAAAAAAAAAAAAAAAAAAAAAAAAAAAAAAAAAAAAAAAAAAAAAAAAAAAAAAAAAAAAAAAAAAAAAAAAAAAAAAAAAAAAAAAAAAAAAAAAAAAAAAAAAAAAAAAAAAAAAAAAAAAAAAAAAAAAAAAAAAAAAAAAAAAAAAAAAAAAAAAAAAAAAAAAAAAAAAAAAAAAAAAAAAAAAAAAAAAAAAAAAAAAAAAAAAAAAAAAAAAAAAAAAAAAAAAAAAAAAAAAAAAAAAAAAAAAAAAAAAAAAAAAAAAAAAAAAAAAAAAAAAAAAAAAAAAAAAAAAAAAAAAAAAAAAAAAAAAAAAAAAAAAAAAAAAAAAAAAAAAAAAAAAAAAAAAAAAAAAAAAAAAAAAAAAAAAAAAAAAAAAAAAAAAAAAAAAAAAAAAAAAAAAAAAAAAAAAAAAAAAAAAAAAAAAAAAAAAAAAAAAAAAAAAAAAAAAAAAAAAAAAAAAAAAAAAAAAAAAAAAAAAAAAAAAAAAAAAAAAAAAAAAAAAAAAAAAAAAAAAAAAAAAAAAAAAAAAAAAAAAAAAAAAAAAAAAAAAAAAAAAAAAAAAAAAAAAAAAAAAAAAAAAAAAAAAAAAAAAAAAAAAAAAAAAAAAAAAAAAAAAAAAAAAAAAAAAAAAAAAAAAAAAAAAAAAAAAAAAAAAAAAAAAAAAAAAAAAAAAAAAAAAAAAAAAAAAAAAAAAAAAAAAAAAAAAAAAAAAAAAAAAAAAAAAAAAAAAAAAAAAAAAAAAAAAAAAAAAAAAAAAAAAAAAAAAAAAAAAAAAAAAAAAAAAAAAAAAAAAAAAAAAAAAAAAAAAAAAAAAAAAAAAAAAAAAAAAAAAAAAAAAAAAAAAAAAAAAAAAAAAAAAAAAAAAAAAAAAAAAAAAAAAAAAAAAAAAAAAAAAAAAAAAAAAAAAAAAAAAAACwAAAAAeAA8AEAIigABCBxIsKDBgwgTKlzIsKHDhxAjSpxIsaLFixgzatzIsaPHjyBDihxJsqTJkyhTqlzJsqXLlzBjypxJs6bNmzhz6tzJs6fPn0CDCh1KtKjRo0iTKl3KtKnTp1CjSp1KtarVq1izat3KtavXr2DDih1LtqzZs2jTql3Ltq3bt3Djyp1Lt67duzwDAgA7\" width=\"240\"/>"
      }
     },
     "778f5beab914407285afa05d30c44b11": {
      "model_module": "@jupyter-widgets/controls",
      "model_module_version": "1.1.0",
      "model_name": "DescriptionStyleModel",
      "state": {
       "description_width": ""
      }
     },
     "77c199fe2b4e45f5828c62f75262b35f": {
      "model_module": "@jupyter-widgets/controls",
      "model_module_version": "1.1.0",
      "model_name": "HTMLModel",
      "state": {
       "layout": "IPY_MODEL_9986006bdcc84619b0134207d7c3334b",
       "style": "IPY_MODEL_cf3574fd88f448e4b1dca57f977f1b50",
       "value": "<img style=\"image-rendering: pixelated;\" src=\"data:image/gif;base64,R0lGODdheAA8AIcAAAAAAAAAAAAAAAAAAAAAAAAAAAAAAAAAAAAAAAAAAAAAAAAAAAAAAAAAAAAAAAAAAAAAAAAAAAAAAAAAAAAAAAAAAAAAAAAAAAAAAAAAAAAAAAAAAAAAAAAAAAAAAAAAAAAAAAAAAAAAAAAAAAAAAAAAAAAAAAAAAAAAAAAAAAAAAAAAAAAAAAAAAAAAAAAAAAAAAAAAAAAAAAAAAAAAAAAAAAAAAAAAAAAAAAAAAAAAAAAAAAAAAAAAAAAAAAAAAAAAAAAAAAAAAAAAAAAAAAAAAAAAAAAAAAAAAAAAAAAAAAAAAAAAAAAAAAAAAAAAAAAAAAAAAAAAAAAAAAAAAAAAAAAAAAAAAAAAAAAAAAAAAAAAAAAAAAAAAAAAAAAAAAAAAAAAAAAAAAAAAAAAAAAAAAAAAAAAAAAAAAAAAAAAAAAAAAAAAAAAAAAAAAAAAAAAAAAAAAAAAAAAAAAAAAAAAAAAAAAAAAAAAAAAAAAAAAAAAAAAAAAAAAAAAAAAAAAAAAAAAAAAAAAAAAAAAAAAAAAAAAAAAAAAAAAAAAAAAAAAAAAAAAAAAAAAAAAAAAAAAAAAAAAAAAAAAAAAAAAAAAAAAAAAAAAAAAAAAAAAAAAAAAAAAAAAAAAAAAAAAAAAAAAAAAAAAAAAAAAAAAAAAAAAAAAAAAAAAAAAAAAAAAAAAAAAAAAAAAAAAAAAAAAAAAAAAAAAAAAAAAAAAAAAAAAAAAAAAAAAAAAAAAAAAAAAAAAAAAAAAAAAAAAAAAAAAAAAAAAAAAAAAAAAAAAAAAAAAAAAAAAAAAAAAAAAAAAAAAAAAAAAAAAAAAAAAAAAAAAAAAAAAAAAAAAAAAAAAAAAAAAAAAAAAAAAAAAAAAAAAAAAAAAAAAAAAAAAAAAAAAAAAAAAAAAAAAAAAAAAAAAAAAAAAAAAAAAAAAAAAAAAAAAAAAAAAAAAAAAAAAAAAAAAAAAAAAAAAAAAAAAAAAAAAAAAAAAAAAAAAAAAAAAAAAAAAAAAAAAAAAAAACwAAAAAeAA8AEAIigABCBxIsKDBgwgTKlzIsKHDhxAjSpxIsaLFixgzatzIsaPHjyBDihxJsqTJkyhTqlzJsqXLlzBjypxJs6bNmzhz6tzJs6fPn0CDCh1KtKjRo0iTKl3KtKnTp1CjSp1KtarVq1izat3KtavXr2DDih1LtqzZs2jTql3Ltq3bt3Djyp1Lt67duzwDAgA7\" width=\"240\"/>"
      }
     },
     "780cb4bb08ec4e42a427dd3127833598": {
      "model_module": "@jupyter-widgets/base",
      "model_module_version": "1.0.0",
      "model_name": "LayoutModel",
      "state": {}
     },
     "7823a08b66ab4f2d8b3845d7758be007": {
      "model_module": "@jupyter-widgets/base",
      "model_module_version": "1.0.0",
      "model_name": "LayoutModel",
      "state": {}
     },
     "78689984530a4ceaa6d9b206462c5dd3": {
      "model_module": "@jupyter-widgets/controls",
      "model_module_version": "1.1.0",
      "model_name": "HTMLModel",
      "state": {
       "layout": "IPY_MODEL_06845ee9f1194f689be740ed1285057c",
       "style": "IPY_MODEL_eb72482c5b054d8788e531ab3e8c354f",
       "value": "<svg baseProfile=\"full\" height=\"240\" version=\"1.1\" width=\"240\" xmlns=\"http://www.w3.org/2000/svg\" xmlns:ev=\"http://www.w3.org/2001/xml-events\" xmlns:xlink=\"http://www.w3.org/1999/xlink\"><defs /><rect fill=\"#eef3dd\" height=\"240.0\" stroke=\"#bebebe\" stroke-width=\"1\" width=\"120.0\" x=\"0.0\" y=\"0.0\" /><line fill=\"#800080\" stroke=\"#add8e6\" stroke-width=\"1\" x1=\"49.5\" x2=\"0.0\" y1=\"24.932359008248753\" y2=\"24.93235799999999\" /><line fill=\"#800080\" stroke=\"#add8e6\" stroke-width=\"1\" x1=\"51.0\" x2=\"6.5393129901135865\" y1=\"20.732359008248764\" y2=\"0.0\" /><line fill=\"#800080\" stroke=\"#add8e6\" stroke-width=\"1\" x1=\"53.4\" x2=\"37.513865282219435\" y1=\"18.93235900824875\" y2=\"0.0\" /><line fill=\"#800080\" stroke=\"#add8e6\" stroke-width=\"1\" x1=\"57.0\" x2=\"52.329014179791294\" y1=\"17.432359008248753\" y2=\"0.0\" /><line fill=\"#800080\" stroke=\"#add8e6\" stroke-width=\"1\" x1=\"63.0\" x2=\"67.67098582020873\" y1=\"17.432359008248753\" y2=\"0.0\" /><line fill=\"#800080\" stroke=\"#add8e6\" stroke-width=\"1\" x1=\"66.60000000000001\" x2=\"82.48613471778059\" y1=\"18.93235900824875\" y2=\"0.0\" /><line fill=\"#800080\" stroke=\"#add8e6\" stroke-width=\"1\" x1=\"69.0\" x2=\"113.46068700988641\" y1=\"20.732359008248764\" y2=\"0.0\" /><line fill=\"#800080\" stroke=\"#add8e6\" stroke-width=\"1\" x1=\"70.5\" x2=\"120.0\" y1=\"24.932359008248753\" y2=\"24.93235799999999\" /><line fill=\"#800080\" stroke=\"#a020f0\" stroke-width=\"1\" x1=\"60.0\" x2=\"6.423587205202764\" y1=\"30.93235900824876\" y2=\"0.0\" /><line fill=\"#800080\" stroke=\"#a020f0\" stroke-width=\"1\" x1=\"60.0\" x2=\"113.57641279479719\" y1=\"30.93235900824876\" y2=\"0.0\" /><polygon fill=\"red\" points=\"55.2,17.432359008248753 49.5,21.932359008248767 49.5,39.93235900824875 55.2,44.43235900824877 64.80000000000001,44.43235900824877 70.5,39.93235900824875 70.5,21.932359008248767 64.80000000000001,17.432359008248753\" stroke=\"red\" stroke-width=\"1\" /><polygon points=\"-3.0,-3.0 0,0 3.0,-3.0 0,3.0\" stroke=\"black\" stroke-width=\"1\" transform=\"translate(60.0,30.93235900824876) rotate(180.0)\" /><polygon fill=\"black\" points=\"63.6,22.532359008248754 63.6,27.33235900824876 56.4,27.33235900824876 56.4,22.532359008248754\" stroke=\"black\" stroke-width=\"1\" /></svg>"
      }
     },
     "787951f9d8ff4c18834222882f592fa5": {
      "model_module": "@jupyter-widgets/controls",
      "model_module_version": "1.1.0",
      "model_name": "VBoxModel",
      "state": {
       "children": [
        "IPY_MODEL_ca6ca62ab0784cfb8ed7f92a9266499b",
        "IPY_MODEL_25854efd68934fed8eba80453ec66ea0"
       ],
       "layout": "IPY_MODEL_d502482fdf484239be4738a3772485e4"
      }
     },
     "78843eab33d0428287a214da9bdfbf7f": {
      "model_module": "@jupyter-widgets/base",
      "model_module_version": "1.0.0",
      "model_name": "LayoutModel",
      "state": {
       "height": "248px",
       "padding": "0px 0px 0px 0px",
       "width": "10px"
      }
     },
     "78a464fe07f34cafac1f09320fec96fd": {
      "model_module": "@jupyter-widgets/controls",
      "model_module_version": "1.1.0",
      "model_name": "PlayModel",
      "state": {
       "layout": "IPY_MODEL_166cc8a027bd4834a615f8d944269d33",
       "max": 1000000,
       "style": "IPY_MODEL_8beac43b69a6475195eea56afcdcf166"
      }
     },
     "78aa73997d26469290c729feaed00940": {
      "model_module": "@jupyter-widgets/base",
      "model_module_version": "1.0.0",
      "model_name": "LayoutModel",
      "state": {}
     },
     "78c720dd8edf4b4890976ad39c1fdb6f": {
      "model_module": "@jupyter-widgets/base",
      "model_module_version": "1.0.0",
      "model_name": "LayoutModel",
      "state": {}
     },
     "78f61471dbd24be38e4cbe985a9b062d": {
      "model_module": "@jupyter-widgets/controls",
      "model_module_version": "1.1.0",
      "model_name": "DescriptionStyleModel",
      "state": {
       "description_width": ""
      }
     },
     "78f8cb9a9dfc4a42baa6c13225a1d0c1": {
      "model_module": "@jupyter-widgets/base",
      "model_module_version": "1.0.0",
      "model_name": "LayoutModel",
      "state": {}
     },
     "791c8d7250494f08afa85cace2b1f06b": {
      "model_module": "@jupyter-widgets/controls",
      "model_module_version": "1.1.0",
      "model_name": "VBoxModel",
      "state": {
       "children": [
        "IPY_MODEL_da6529409aec412c9c7dc69df8fe8350",
        "IPY_MODEL_089d2145699c47adb7e59fd8da6f591f"
       ],
       "layout": "IPY_MODEL_37cebc7dab814a67953fbe02662cc60d"
      }
     },
     "7928ae4bc43c4aae922a212784f763cf": {
      "model_module": "@jupyter-widgets/controls",
      "model_module_version": "1.1.0",
      "model_name": "VBoxModel",
      "state": {
       "children": [
        "IPY_MODEL_1a099ee2ab2c4f57a215869790155d42",
        "IPY_MODEL_519786cc8d2a4ba1b9f3e6aecb406476"
       ],
       "layout": "IPY_MODEL_5917fc2e92104ba7b9bd3a42ed7ba31f"
      }
     },
     "792a4c75a840450998ead49ad1cf8775": {
      "model_module": "@jupyter-widgets/base",
      "model_module_version": "1.0.0",
      "model_name": "LayoutModel",
      "state": {}
     },
     "795786a9970b403793e6d894a8b4d39a": {
      "model_module": "@jupyter-widgets/controls",
      "model_module_version": "1.1.0",
      "model_name": "ButtonModel",
      "state": {
       "description": "Clear Output",
       "layout": "IPY_MODEL_f21c542906e54d0faf3c5daf6173b2b1",
       "style": "IPY_MODEL_ed25a70489d54cc39c2be6b204418ffa"
      }
     },
     "7967761e626c49499b03ba5e407281fa": {
      "model_module": "@jupyter-widgets/controls",
      "model_module_version": "1.1.0",
      "model_name": "DescriptionStyleModel",
      "state": {
       "description_width": ""
      }
     },
     "796d313a47904a90bacf225cd4894a09": {
      "model_module": "@jupyter-widgets/controls",
      "model_module_version": "1.1.0",
      "model_name": "HBoxModel",
      "state": {
       "children": [
        "IPY_MODEL_b50a1b3c0a174908bc32ad291af524d1",
        "IPY_MODEL_557eac04e348403eaf4cfbc235766c0d",
        "IPY_MODEL_2f79db1a525944fd8c7ddce204b68b43"
       ],
       "layout": "IPY_MODEL_fbe9a16c69de48a2af30a9f1fded095d"
      }
     },
     "799e18b3c13544728ba494670027fcf7": {
      "model_module": "@jupyter-widgets/controls",
      "model_module_version": "1.1.0",
      "model_name": "HBoxModel",
      "state": {
       "children": [
        "IPY_MODEL_0847c53d87d74333903c11baef9fba28",
        "IPY_MODEL_270798f132c14fafa0419d8d1410409b"
       ],
       "layout": "IPY_MODEL_175ef0d3b4724d20a2edcc6ea8941640"
      }
     },
     "7a3a75255d264e67814068b9a79daa44": {
      "model_module": "@jupyter-widgets/controls",
      "model_module_version": "1.1.0",
      "model_name": "CheckboxModel",
      "state": {
       "description": "Trace Path",
       "disabled": false,
       "layout": "IPY_MODEL_5d85311819a645c69fa3e6d0ddecee7f",
       "style": "IPY_MODEL_47e2a4db09d34eca930f11b8a5f6b195",
       "value": false
      }
     },
     "7a549d2587934789929b51905b8c8262": {
      "model_module": "@jupyter-widgets/base",
      "model_module_version": "1.0.0",
      "model_name": "LayoutModel",
      "state": {}
     },
     "7a6623dbd99246779408fc0c0b2868bf": {
      "model_module": "@jupyter-widgets/base",
      "model_module_version": "1.0.0",
      "model_name": "LayoutModel",
      "state": {}
     },
     "7a8b3cd425e74dfd881dc90d6501d1c0": {
      "model_module": "@jupyter-widgets/controls",
      "model_module_version": "1.1.0",
      "model_name": "HBoxModel",
      "state": {
       "children": [
        "IPY_MODEL_653bf77479f8495cb862df8c04106f92",
        "IPY_MODEL_ca9e1efdd33f4934ac4f2dd4b64e5b79",
        "IPY_MODEL_e6db413a03894230bed58c208276c2e9"
       ],
       "layout": "IPY_MODEL_6625f84e585e4042a005faee690d15e9"
      }
     },
     "7b678b92c10d4685a0d6cd46bb52d63a": {
      "model_module": "@jupyter-widgets/base",
      "model_module_version": "1.0.0",
      "model_name": "LayoutModel",
      "state": {}
     },
     "7b870f00421f4f0d959f2e7103f2d3d0": {
      "model_module": "@jupyter-widgets/controls",
      "model_module_version": "1.1.0",
      "model_name": "FloatSliderModel",
      "state": {
       "layout": "IPY_MODEL_7df80db0d37d45beb78f422044a8ce6b",
       "orientation": "vertical",
       "readout": false,
       "step": 0.1,
       "style": "IPY_MODEL_acfab7a8dbf84e5593db5d966bf1c100",
       "value": 68.56551115371062
      }
     },
     "7b937afec59242708214807e1b3802ea": {
      "model_module": "@jupyter-widgets/base",
      "model_module_version": "1.0.0",
      "model_name": "LayoutModel",
      "state": {}
     },
     "7b95fad035684eef9e9260cb82de10ca": {
      "model_module": "@jupyter-widgets/base",
      "model_module_version": "1.0.0",
      "model_name": "LayoutModel",
      "state": {}
     },
     "7ba70a0268f244f491fdcecf5acfdcee": {
      "model_module": "@jupyter-widgets/base",
      "model_module_version": "1.0.0",
      "model_name": "LayoutModel",
      "state": {}
     },
     "7bb5ca827edd47efa9e3efa8757957a7": {
      "model_module": "@jupyter-widgets/base",
      "model_module_version": "1.0.0",
      "model_name": "LayoutModel",
      "state": {}
     },
     "7bb6ec6282b64ba9b3042c19ad6089e0": {
      "model_module": "@jupyter-widgets/base",
      "model_module_version": "1.0.0",
      "model_name": "LayoutModel",
      "state": {}
     },
     "7bcbde39dc894a598cf2986c5598b884": {
      "model_module": "@jupyter-widgets/controls",
      "model_module_version": "1.1.0",
      "model_name": "HTMLModel",
      "state": {
       "layout": "IPY_MODEL_e497d2fa62b84242acdea4ba7f363f78",
       "style": "IPY_MODEL_0658be879dc944f5a37f0508e7b137c2",
       "value": "<img style=\"image-rendering: pixelated;\" src=\"data:image/gif;base64,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\" width=\"240\"/>"
      }
     },
     "7be8ba1af5254e1e99ac01d172e9dfd8": {
      "model_module": "@jupyter-widgets/controls",
      "model_module_version": "1.1.0",
      "model_name": "ButtonStyleModel",
      "state": {}
     },
     "7c1c082bc5094089ac8b8705ce959a6d": {
      "model_module": "@jupyter-widgets/base",
      "model_module_version": "1.0.0",
      "model_name": "LayoutModel",
      "state": {}
     },
     "7c38043c2959441a90a384a9200dc1a5": {
      "model_module": "@jupyter-widgets/base",
      "model_module_version": "1.0.0",
      "model_name": "LayoutModel",
      "state": {}
     },
     "7c39c2b2b6534d25aab8aabddacb5d51": {
      "model_module": "@jupyter-widgets/base",
      "model_module_version": "1.0.0",
      "model_name": "LayoutModel",
      "state": {}
     },
     "7c9104c9a92348a4a0ac02264356c10a": {
      "model_module": "@jupyter-widgets/controls",
      "model_module_version": "1.1.0",
      "model_name": "HBoxModel",
      "state": {
       "children": [
        "IPY_MODEL_5343f056f14241c7a6e639315b7ad38d",
        "IPY_MODEL_787951f9d8ff4c18834222882f592fa5"
       ],
       "layout": "IPY_MODEL_803907d5ce934847a9e7d77a7fd9611d"
      }
     },
     "7c982382a81e48d39e0fd6761817e217": {
      "model_module": "@jupyter-widgets/base",
      "model_module_version": "1.0.0",
      "model_name": "LayoutModel",
      "state": {}
     },
     "7c9da1d1aac547f0a8faae8515f4e438": {
      "model_module": "@jupyter-widgets/controls",
      "model_module_version": "1.1.0",
      "model_name": "DescriptionStyleModel",
      "state": {
       "description_width": ""
      }
     },
     "7cd35ed431474fe3a8650ffc2d768776": {
      "model_module": "@jupyter-widgets/base",
      "model_module_version": "1.0.0",
      "model_name": "LayoutModel",
      "state": {
       "width": "100%"
      }
     },
     "7d04d81ea4fd4517a9d21a668596f99f": {
      "model_module": "@jupyter-widgets/base",
      "model_module_version": "1.0.0",
      "model_name": "LayoutModel",
      "state": {}
     },
     "7d0ef4fd50e44df4b6f2568fc9759297": {
      "model_module": "@jupyter-widgets/base",
      "model_module_version": "1.0.0",
      "model_name": "LayoutModel",
      "state": {}
     },
     "7d58e2a77aff473bb46b4950081a4c39": {
      "model_module": "@jupyter-widgets/controls",
      "model_module_version": "1.1.0",
      "model_name": "SliderStyleModel",
      "state": {
       "description_width": ""
      }
     },
     "7d6160bc606a4b298127f3e15f9215da": {
      "model_module": "@jupyter-widgets/controls",
      "model_module_version": "1.1.0",
      "model_name": "SliderStyleModel",
      "state": {
       "description_width": ""
      }
     },
     "7d6891c233eb46eea7fea27634e71fa8": {
      "model_module": "@jupyter-widgets/controls",
      "model_module_version": "1.1.0",
      "model_name": "TextModel",
      "state": {
       "description": "Time:",
       "layout": "IPY_MODEL_21405041cda1437ea9bda7d6cae1c0d9",
       "style": "IPY_MODEL_2a93134ca2be42f59ae8f3749edb4a1f",
       "value": "0.00 seconds"
      }
     },
     "7d6c4adb71d54aa682aaafe5e55295b1": {
      "model_module": "@jupyter-widgets/base",
      "model_module_version": "1.0.0",
      "model_name": "LayoutModel",
      "state": {}
     },
     "7d7ac0705c8c4c75a5ae422e9afd07d6": {
      "model_module": "@jupyter-widgets/base",
      "model_module_version": "1.0.0",
      "model_name": "LayoutModel",
      "state": {}
     },
     "7df80db0d37d45beb78f422044a8ce6b": {
      "model_module": "@jupyter-widgets/base",
      "model_module_version": "1.0.0",
      "model_name": "LayoutModel",
      "state": {
       "height": "248px",
       "padding": "0px 0px 0px 0px",
       "width": "10px"
      }
     },
     "7e056aed1b134ba697c95d630e2fd56f": {
      "model_module": "@jupyter-widgets/controls",
      "model_module_version": "1.1.0",
      "model_name": "DescriptionStyleModel",
      "state": {
       "description_width": ""
      }
     },
     "7e14561bd3884494a13b94bcbc7865c3": {
      "model_module": "@jupyter-widgets/controls",
      "model_module_version": "1.1.0",
      "model_name": "DescriptionStyleModel",
      "state": {
       "description_width": "initial"
      }
     },
     "7e30c11d74c046b4827e139a56b8088d": {
      "model_module": "@jupyter-widgets/base",
      "model_module_version": "1.0.0",
      "model_name": "LayoutModel",
      "state": {
       "height": "30px",
       "padding": "0px 0px 0px 10px",
       "width": "260px"
      }
     },
     "7e5cc66bad72484199423850d19058e7": {
      "model_module": "@jupyter-widgets/controls",
      "model_module_version": "1.1.0",
      "model_name": "SliderStyleModel",
      "state": {
       "description_width": ""
      }
     },
     "7e7193244c2b4d3eb6517ff89029d713": {
      "model_module": "@jupyter-widgets/base",
      "model_module_version": "1.0.0",
      "model_name": "LayoutModel",
      "state": {
       "height": "20px",
       "padding": "0px 0px 0px 0px",
       "width": "248px"
      }
     },
     "7e741a5a21194d56b76e1c11957597c1": {
      "model_module": "@jupyter-widgets/base",
      "model_module_version": "1.0.0",
      "model_name": "LayoutModel",
      "state": {}
     },
     "7ebbce1c7bef4663af7856a78e77d64f": {
      "model_module": "@jupyter-widgets/controls",
      "model_module_version": "1.1.0",
      "model_name": "SliderStyleModel",
      "state": {
       "description_width": ""
      }
     },
     "7edc0a54b3534d59bb16502f8f59adde": {
      "model_module": "@jupyter-widgets/base",
      "model_module_version": "1.0.0",
      "model_name": "LayoutModel",
      "state": {}
     },
     "7f1f24bba3d04fafb0bcd2535744c074": {
      "model_module": "@jupyter-widgets/controls",
      "model_module_version": "1.1.0",
      "model_name": "SliderStyleModel",
      "state": {
       "description_width": ""
      }
     },
     "7f38f6d72640483a9364987f7e52586e": {
      "model_module": "@jupyter-widgets/controls",
      "model_module_version": "1.1.0",
      "model_name": "DescriptionStyleModel",
      "state": {
       "description_width": ""
      }
     },
     "7f7855d11e0a4e55b3239cbb0b5ad7b9": {
      "model_module": "@jupyter-widgets/base",
      "model_module_version": "1.0.0",
      "model_name": "LayoutModel",
      "state": {}
     },
     "7f8655cc1a934ab891882aa0d89d197b": {
      "model_module": "@jupyter-widgets/controls",
      "model_module_version": "1.1.0",
      "model_name": "FloatSliderModel",
      "state": {
       "layout": "IPY_MODEL_eae847bd44c5405ea2f17eb21886a487",
       "readout": false,
       "step": 0.1,
       "style": "IPY_MODEL_7e5cc66bad72484199423850d19058e7",
       "value": 100
      }
     },
     "7f868fb9362e4d13b0874c722f254e14": {
      "model_module": "@jupyter-widgets/controls",
      "model_module_version": "1.1.0",
      "model_name": "VBoxModel",
      "state": {
       "children": [
        "IPY_MODEL_f6ae2b90c7da42ed8c1b7b70d24acb17",
        "IPY_MODEL_67a69f3ae6e442609d8af832d846ff5b"
       ],
       "layout": "IPY_MODEL_12cae0694acd42b69c90c621b2c30ec6"
      }
     },
     "7f9651820f2746169e0970b13cd5e6a9": {
      "model_module": "@jupyter-widgets/controls",
      "model_module_version": "1.1.0",
      "model_name": "FloatSliderModel",
      "state": {
       "layout": "IPY_MODEL_422d80f8207b42068078378bafdf4acf",
       "readout": false,
       "step": 0.1,
       "style": "IPY_MODEL_4967deb5fac64abebf84a1c249f2f078",
       "value": 100
      }
     },
     "7fc99adaf2404d91a421ad05c590d71e": {
      "model_module": "@jupyter-widgets/base",
      "model_module_version": "1.0.0",
      "model_name": "LayoutModel",
      "state": {}
     },
     "7fdc2098db704f9da3971bf49eacf456": {
      "model_module": "@jupyter-widgets/controls",
      "model_module_version": "1.1.0",
      "model_name": "CheckboxModel",
      "state": {
       "description": "Trace Path",
       "disabled": false,
       "layout": "IPY_MODEL_eb85b1dd6ccc460cbdf9219356c3292c",
       "style": "IPY_MODEL_fad9f591047c440898749e3d3c808289",
       "value": false
      }
     },
     "7ff3e56211734837acff32ef787e2a7a": {
      "model_module": "@jupyter-widgets/output",
      "model_module_version": "1.1.0",
      "model_name": "OutputModel",
      "state": {
       "_model_module_version": "1.1.0",
       "_view_module_version": "1.1.0",
       "layout": "IPY_MODEL_0d9e01d2832347efa66c77316c5ef9b1",
       "outputs": [
        {
         "name": "stdout",
         "output_type": "stream",
         "text": "Done!\n"
        }
       ]
      }
     },
     "8002f9f36c3644b48f798e1653bedcf8": {
      "model_module": "@jupyter-widgets/controls",
      "model_module_version": "1.1.0",
      "model_name": "ButtonModel",
      "state": {
       "icon": "step-forward",
       "layout": "IPY_MODEL_a4708bc4ceda4fb6b6b00a8d87e2b173",
       "style": "IPY_MODEL_6a256c3a7da045dfb17270d64ae37726"
      }
     },
     "803907d5ce934847a9e7d77a7fd9611d": {
      "model_module": "@jupyter-widgets/base",
      "model_module_version": "1.0.0",
      "model_name": "LayoutModel",
      "state": {}
     },
     "806be8f669174c0ca66d60ec3ef0e8c5": {
      "model_module": "@jupyter-widgets/base",
      "model_module_version": "1.0.0",
      "model_name": "LayoutModel",
      "state": {}
     },
     "80827d858ed94df1b9da8653706bd7e8": {
      "model_module": "@jupyter-widgets/controls",
      "model_module_version": "1.1.0",
      "model_name": "HTMLModel",
      "state": {
       "layout": "IPY_MODEL_a3ad3f8a9f91430e8bd4c58394932b41",
       "style": "IPY_MODEL_4ea09d1fc5f34ef0987519577fc7aa4f",
       "value": "<img style=\"image-rendering: pixelated;\" src=\"data:image/gif;base64,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\" width=\"240\"/>"
      }
     },
     "809e1a8ea49e4fd093fb2332b502beca": {
      "model_module": "@jupyter-widgets/controls",
      "model_module_version": "1.1.0",
      "model_name": "SliderStyleModel",
      "state": {
       "description_width": ""
      }
     },
     "80b21da7b6184871944ef9c672c852ed": {
      "model_module": "@jupyter-widgets/base",
      "model_module_version": "1.0.0",
      "model_name": "LayoutModel",
      "state": {
       "height": "30px",
       "padding": "0px 0px 0px 10px",
       "width": "260px"
      }
     },
     "80ca6a5bcfc4468b8c823d26de5fd3f7": {
      "model_module": "@jupyter-widgets/controls",
      "model_module_version": "1.1.0",
      "model_name": "ButtonStyleModel",
      "state": {}
     },
     "80f6c70c7c8c4813b56ba239de000cfb": {
      "model_module": "@jupyter-widgets/controls",
      "model_module_version": "1.1.0",
      "model_name": "HTMLModel",
      "state": {
       "layout": "IPY_MODEL_292b937fb71748b288ec59535df1bc8f",
       "style": "IPY_MODEL_7c9da1d1aac547f0a8faae8515f4e438",
       "value": "<svg baseProfile=\"full\" height=\"240\" version=\"1.1\" width=\"240\" xmlns=\"http://www.w3.org/2000/svg\" xmlns:ev=\"http://www.w3.org/2001/xml-events\" xmlns:xlink=\"http://www.w3.org/1999/xlink\"><defs /><rect fill=\"#eef3dd\" height=\"240.0\" stroke=\"#bebebe\" stroke-width=\"1\" width=\"120.0\" x=\"0.0\" y=\"0.0\" /><line fill=\"#800080\" stroke=\"#add8e6\" stroke-width=\"1\" x1=\"49.5\" x2=\"0.0\" y1=\"65.13235900824833\" y2=\"65.13235800000001\" /><line fill=\"#800080\" stroke=\"#add8e6\" stroke-width=\"1\" x1=\"51.0\" x2=\"0.0\" y1=\"60.93235900824833\" y2=\"37.15066800000001\" /><line fill=\"#800080\" stroke=\"#add8e6\" stroke-width=\"1\" x1=\"53.4\" x2=\"3.78206031850877\" y1=\"59.132359008248315\" y2=\"0.0\" /><line fill=\"#800080\" stroke=\"#add8e6\" stroke-width=\"1\" x1=\"57.0\" x2=\"41.55745633359162\" y1=\"57.63235900824832\" y2=\"0.0\" /><line fill=\"#800080\" stroke=\"#add8e6\" stroke-width=\"1\" x1=\"63.0\" x2=\"78.4425436664084\" y1=\"57.63235900824832\" y2=\"0.0\" /><line fill=\"#800080\" stroke=\"#add8e6\" stroke-width=\"1\" x1=\"66.60000000000001\" x2=\"116.2179396814912\" y1=\"59.132359008248315\" y2=\"0.0\" /><line fill=\"#800080\" stroke=\"#add8e6\" stroke-width=\"1\" x1=\"69.0\" x2=\"120.0\" y1=\"60.93235900824833\" y2=\"37.15066800000001\" /><line fill=\"#800080\" stroke=\"#add8e6\" stroke-width=\"1\" x1=\"70.5\" x2=\"120.0\" y1=\"65.13235900824833\" y2=\"65.13235800000001\" /><line fill=\"#800080\" stroke=\"#a020f0\" stroke-width=\"1\" x1=\"60.0\" x2=\"0.0\" y1=\"71.13235900824833\" y2=\"36.491339999999994\" /><line fill=\"#800080\" stroke=\"#a020f0\" stroke-width=\"1\" x1=\"60.0\" x2=\"120.0\" y1=\"71.13235900824833\" y2=\"36.491339999999994\" /><polygon fill=\"red\" points=\"55.2,57.63235900824832 49.5,62.132359008248336 49.5,80.13235900824833 55.2,84.63235900824833 64.80000000000001,84.63235900824833 70.5,80.13235900824833 70.5,62.132359008248336 64.80000000000001,57.63235900824832\" stroke=\"red\" stroke-width=\"1\" /><polygon points=\"-3.0,-3.0 0,0 3.0,-3.0 0,3.0\" stroke=\"black\" stroke-width=\"1\" transform=\"translate(60.0,71.13235900824833) rotate(180.0)\" /><polygon fill=\"black\" points=\"63.6,62.732359008248324 63.6,67.53235900824832 56.4,67.53235900824832 56.4,62.732359008248324\" stroke=\"black\" stroke-width=\"1\" /></svg>"
      }
     },
     "8101fde1c28c49d2b07a68fe86112a98": {
      "model_module": "@jupyter-widgets/base",
      "model_module_version": "1.0.0",
      "model_name": "LayoutModel",
      "state": {}
     },
     "81cf504911c74f9b8776087f55451436": {
      "model_module": "@jupyter-widgets/base",
      "model_module_version": "1.0.0",
      "model_name": "LayoutModel",
      "state": {}
     },
     "81dc1bc2c0b04f40bc04106dd6f798f0": {
      "model_module": "@jupyter-widgets/base",
      "model_module_version": "1.0.0",
      "model_name": "LayoutModel",
      "state": {}
     },
     "81fe27232f884d94a1f56eaf5b9bee94": {
      "model_module": "@jupyter-widgets/base",
      "model_module_version": "1.0.0",
      "model_name": "LayoutModel",
      "state": {}
     },
     "82457ec570a84ef083b445263f812534": {
      "model_module": "@jupyter-widgets/controls",
      "model_module_version": "1.1.0",
      "model_name": "ButtonModel",
      "state": {
       "icon": "step-forward",
       "layout": "IPY_MODEL_bf43a22c649a4b24968c3db3b6d06d6e",
       "style": "IPY_MODEL_1e74c5af698a427a970001191613e77b"
      }
     },
     "8253840682704ad1b306c9bde1e74278": {
      "model_module": "@jupyter-widgets/base",
      "model_module_version": "1.0.0",
      "model_name": "LayoutModel",
      "state": {}
     },
     "8275a6172f9849e692d431b03058f1ee": {
      "model_module": "@jupyter-widgets/base",
      "model_module_version": "1.0.0",
      "model_name": "LayoutModel",
      "state": {}
     },
     "82f6a8ef532143598491d38df3fe8ab3": {
      "model_module": "@jupyter-widgets/controls",
      "model_module_version": "1.1.0",
      "model_name": "FloatSliderModel",
      "state": {
       "layout": "IPY_MODEL_7397a5beab224541a9e6ad9215cc0eeb",
       "readout": false,
       "step": 0.1,
       "style": "IPY_MODEL_9356988c3a5e4e99bfbd6c200fadac83",
       "value": 50
      }
     },
     "832b96cf21894b8080147bdc2ebc1d73": {
      "model_module": "@jupyter-widgets/controls",
      "model_module_version": "1.1.0",
      "model_name": "DescriptionStyleModel",
      "state": {
       "description_width": ""
      }
     },
     "83cbc5f2eed948bdad16b317e246bc58": {
      "model_module": "@jupyter-widgets/controls",
      "model_module_version": "1.1.0",
      "model_name": "VBoxModel",
      "state": {
       "children": [
        "IPY_MODEL_8dd05b9cba084105bbe4dbc032183154",
        "IPY_MODEL_e82d5de91dba4d0695c6a33c060c2a37"
       ],
       "layout": "IPY_MODEL_5a0b5d36473541088a549cf8291698c2"
      }
     },
     "842fc2ec4ff94f78867d4fdc93ac9ebc": {
      "model_module": "@jupyter-widgets/base",
      "model_module_version": "1.0.0",
      "model_name": "LayoutModel",
      "state": {}
     },
     "8437594d59b244c38aa2615debf94626": {
      "model_module": "@jupyter-widgets/base",
      "model_module_version": "1.0.0",
      "model_name": "LayoutModel",
      "state": {}
     },
     "846677ae346f4ad2ace986d390770f91": {
      "model_module": "@jupyter-widgets/controls",
      "model_module_version": "1.1.0",
      "model_name": "FloatSliderModel",
      "state": {
       "layout": "IPY_MODEL_fa09e4defe2b4a3c9ca937486d7e9719",
       "orientation": "vertical",
       "readout": false,
       "step": 0.1,
       "style": "IPY_MODEL_2bedb12d57ba43d8ad017efbc5fa0d4d",
       "value": 70.36151707989653
      }
     },
     "8497f579eed642bca5ca28f7bf30c721": {
      "model_module": "@jupyter-widgets/controls",
      "model_module_version": "1.1.0",
      "model_name": "HTMLModel",
      "state": {
       "layout": "IPY_MODEL_50e972b1efa74b74bb2778284b9d8526",
       "style": "IPY_MODEL_86108aaa36924f32be85ad6cfcdde3ad",
       "value": "<img style=\"image-rendering: pixelated;\" src=\"data:image/gif;base64,R0lGODdheAA8AIcAAAAAAAAAAAAAAAAAAAAAAAAAAAAAAAAAAAAAAAAAAAAAAAAAAAAAAAAAAAAAAAAAAAAAAAAAAAAAAAAAAAAAAAAAAAAAAAAAAAAAAAAAAAAAAAAAAAAAAAAAAAAAAAAAAAAAAAAAAAAAAAAAAAAAAAAAAAAAAAAAAAAAAAAAAAAAAAAAAAAAAAAAAAAAAAAAAAAAAAAAAAAAAAAAAAAAAAAAAAAAAAAAAAAAAAAAAAAAAAAAAAAAAAAAAAAAAAAAAAAAAAAAAAAAAAAAAAAAAAAAAAAAAAAAAAAAAAAAAAAAAAAAAAAAAAAAAAAAAAAAAAAAAAAAAAAAAAAAAAAAAAAAAAAAAAAAAAAAAAAAAAAAAAAAAAAAAAAAAAAAAAAAAAAAAAAAAAAAAAAAAAAAAAAAAAAAAAAAAAAAAAAAAAAAAAAAAAAAAAAAAAAAAAAAAAAAAAAAAAAAAAAAAAAAAAAAAAAAAAAAAAAAAAAAAAAAAAAAAAAAAAAAAAAAAAAAAAAAAAAAAAAAAAAAAAAAAAAAAAAAAAAAAAAAAAAAAAAAAAAAAAAAAAAAAAAAAAAAAAAAAAAAAAAAAAAAAAAAAAAAAAAAAAAAAAAAAAAAAAAAAAAAAAAAAAAAAAAAAAAAAAAAAAAAAAAAAAAAAAAAAAAAAAAAAAAAAAAAAAAAAAAAAAAAAAAAAAAAAAAAAAAAAAAAAAAAAAAAAAAAAAAAAAAAAAAAAAAAAAAAAAAAAAAAAAAAAAAAAAAAAAAAAAAAAAAAAAAAAAAAAAAAAAAAAAAAAAAAAAAAAAAAAAAAAAAAAAAAAAAAAAAAAAAAAAAAAAAAAAAAAAAAAAAAAAAAAAAAAAAAAAAAAAAAAAAAAAAAAAAAAAAAAAAAAAAAAAAAAAAAAAAAAAAAAAAAAAAAAAAAAAAAAAAAAAAAAAAAAAAAAAAAAAAAAAAAAAAAAAAAAAAAAAAAAAAAAAAAAAAAAAAAAAAAAAAAAAAAAAAAAAAAAAAAAAAAAAAAAAAAAAAAACwAAAAAeAA8AEAIigABCBxIsKDBgwgTKlzIsKHDhxAjSpxIsaLFixgzatzIsaPHjyBDihxJsqTJkyhTqlzJsqXLlzBjypxJs6bNmzhz6tzJs6fPn0CDCh1KtKjRo0iTKl3KtKnTp1CjSp1KtarVq1izat3KtavXr2DDih1LtqzZs2jTql3Ltq3bt3Djyp1Lt67duzwDAgA7\" width=\"240\"/>"
      }
     },
     "84ac18924e5b4976ab644a4cde4c3b8a": {
      "model_module": "@jupyter-widgets/controls",
      "model_module_version": "1.1.0",
      "model_name": "ButtonStyleModel",
      "state": {}
     },
     "84d8180aaefe47f788f24d9a5694ed7a": {
      "model_module": "@jupyter-widgets/base",
      "model_module_version": "1.0.0",
      "model_name": "LayoutModel",
      "state": {}
     },
     "851940155922480fa4e96a2a88a6513e": {
      "model_module": "@jupyter-widgets/base",
      "model_module_version": "1.0.0",
      "model_name": "LayoutModel",
      "state": {}
     },
     "852d45e117c1495a81e2ede62ae1f694": {
      "model_module": "@jupyter-widgets/controls",
      "model_module_version": "1.1.0",
      "model_name": "ButtonModel",
      "state": {
       "icon": "step-forward",
       "layout": "IPY_MODEL_921a30778b5c4ef2ae9cbf248fd982f7",
       "style": "IPY_MODEL_9669d1e0a8304bdfb49b75a1ebc1ab00"
      }
     },
     "857bb900488741f18d679d1ea8ed1ff9": {
      "model_module": "@jupyter-widgets/controls",
      "model_module_version": "1.1.0",
      "model_name": "DescriptionStyleModel",
      "state": {
       "description_width": ""
      }
     },
     "8588cfa120c743a9bf185df9df5c4610": {
      "model_module": "@jupyter-widgets/base",
      "model_module_version": "1.0.0",
      "model_name": "LayoutModel",
      "state": {}
     },
     "858bc4787657414687bb59a94b44d4c6": {
      "model_module": "@jupyter-widgets/controls",
      "model_module_version": "1.1.0",
      "model_name": "ButtonStyleModel",
      "state": {}
     },
     "8594cc40f27e46e786d2b071dcd1aad9": {
      "model_module": "@jupyter-widgets/controls",
      "model_module_version": "1.1.0",
      "model_name": "DescriptionStyleModel",
      "state": {
       "description_width": ""
      }
     },
     "85cb268783904c26a04fc9dfe1709a01": {
      "model_module": "@jupyter-widgets/base",
      "model_module_version": "1.0.0",
      "model_name": "LayoutModel",
      "state": {}
     },
     "85ccd053ddcd40bd963c7636c58cc7e2": {
      "model_module": "@jupyter-widgets/base",
      "model_module_version": "1.0.0",
      "model_name": "LayoutModel",
      "state": {}
     },
     "85d4dc7616e046e9ba1190db54bc5a55": {
      "model_module": "@jupyter-widgets/controls",
      "model_module_version": "1.1.0",
      "model_name": "ButtonStyleModel",
      "state": {}
     },
     "85f590867c0b45f285aa6ded3a2291ac": {
      "model_module": "@jupyter-widgets/controls",
      "model_module_version": "1.1.0",
      "model_name": "HBoxModel",
      "state": {
       "children": [
        "IPY_MODEL_c5e38a6cdfc64bd9bcd199efada9a44e",
        "IPY_MODEL_d3aad3e9796d4453a6e9399acd9a3130",
        "IPY_MODEL_4cd8bfd92ee34dc29b0e3eaff7ed7453"
       ],
       "layout": "IPY_MODEL_3716b1d54ab349dd8b185a86a1e19ffe"
      }
     },
     "860190eca3054ec5a7a347f20ed249e6": {
      "model_module": "@jupyter-widgets/base",
      "model_module_version": "1.0.0",
      "model_name": "LayoutModel",
      "state": {}
     },
     "860c7c43f51c453b9aa5c22f6d2b49c8": {
      "model_module": "@jupyter-widgets/base",
      "model_module_version": "1.0.0",
      "model_name": "LayoutModel",
      "state": {}
     },
     "86108aaa36924f32be85ad6cfcdde3ad": {
      "model_module": "@jupyter-widgets/controls",
      "model_module_version": "1.1.0",
      "model_name": "DescriptionStyleModel",
      "state": {
       "description_width": ""
      }
     },
     "863125f348c14b448d08567508bd0fb2": {
      "model_module": "@jupyter-widgets/controls",
      "model_module_version": "1.1.0",
      "model_name": "FloatSliderModel",
      "state": {
       "layout": "IPY_MODEL_8b66d0925d854763aef97ccdedb307f0",
       "orientation": "vertical",
       "readout": false,
       "step": 0.1,
       "style": "IPY_MODEL_b7f43dda57e5407db744d654eee56763",
       "value": 25
      }
     },
     "86e296c32b32462ea2628497d0e739d8": {
      "model_module": "@jupyter-widgets/controls",
      "model_module_version": "1.1.0",
      "model_name": "HTMLModel",
      "state": {
       "layout": "IPY_MODEL_8253840682704ad1b306c9bde1e74278",
       "style": "IPY_MODEL_c806fea977f64e55a46eaaee17782c12",
       "value": "<img style=\"image-rendering: pixelated;\" src=\"data:image/gif;base64,R0lGODdheAA8AIcAAAAAAAAAAAAAAAAAAAAAAAAAAAAAAAAAAAAAAAAAAAAAAAAAAAAAAAAAAAAAAAAAAAAAAAAAAAAAAAAAAAAAAAAAAAAAAAAAAAAAAAAAAAAAAAAAAAAAAAAAAAAAAAAAAAAAAAAAAAAAAAAAAAAAAAAAAAAAAAAAAAAAAAAAAAAAAAAAAAAAAAAAAAAAAAAAAAAAAAAAAAAAAAAAAAAAAAAAAAAAAAAAAAAAAAAAAAAAAAAAAAAAAAAAAAAAAAAAAAAAAAAAAAAAAAAAAAAAAAAAAAAAAAAAAAAAAAAAAAAAAAAAAAAAAAAAAAAAAAAAAAAAAAAAAAAAAAAAAAAAAAAAAAAAAAAAAAAAAAAAAAAAAAAAAAAAAAAAAAAAAAAAAAAAAAAAAAAAAAAAAAAAAAAAAAAAAAAAAAAAAAAAAAAAAAAAAAAAAAAAAAAAAAAAAAAAAAAAAAAAAAAAAAAAAAAAAAAAAAAAAAAAAAAAAAAAAAAAAAAAAAAAAAAAAAAAAAAAAAAAAAAAAAAAAAAAAAAAAAAAAAAAAAAAAAAAAAAAAAAAAAAAAAAAAAAAAAAAAAAAAAAAAAAAAAAAAAAAAAAAAAAAAAAAAAAAAAAAAAAAAAAAAAAAAAAAAAAAAAAAAAAAAAAAAAAAAAAAAAAAAAAAAAAAAAAAAAAAAAAAAAAAAAAAAAAAAAAAAAAAAAAAAAAAAAAAAAAAAAAAAAAAAAAAAAAAAAAAAAAAAAAAAAAAAAAAAAAAAAAAAAAAAAAAAAAAAAAAAAAAAAAAAAAAAAAAAAAAAAAAAAAAAAAAAAAAAAAAAAAAAAAAAAAAAAAAAAAAAAAAAAAAAAAAAAAAAAAAAAAAAAAAAAAAAAAAAAAAAAAAAAAAAAAAAAAAAAAAAAAAAAAAAAAAAAAAAAAAAAAAAAAAAAAAAAAAAAAAAAAAAAAAAAAAAAAAAAAAAAAAAAAAAAAAAAAAAAAAAAAAAAAAAAAAAAAAAAAAAAAAAAAAAAAAAAAAAAAAAAAAAAAAACwAAAAAeAA8AEAIigABCBxIsKDBgwgTKlzIsKHDhxAjSpxIsaLFixgzatzIsaPHjyBDihxJsqTJkyhTqlzJsqXLlzBjypxJs6bNmzhz6tzJs6fPn0CDCh1KtKjRo0iTKl3KtKnTp1CjSp1KtarVq1izat3KtavXr2DDih1LtqzZs2jTql3Ltq3bt3Djyp1Lt67duzwDAgA7\" width=\"240\"/>"
      }
     },
     "8708527174214439a878b7a2f0d4134e": {
      "model_module": "@jupyter-widgets/controls",
      "model_module_version": "1.1.0",
      "model_name": "ButtonStyleModel",
      "state": {}
     },
     "874742ffd612425fbea567614ae086e4": {
      "model_module": "@jupyter-widgets/base",
      "model_module_version": "1.0.0",
      "model_name": "LayoutModel",
      "state": {}
     },
     "8753cbe26ae54a71a35e7cc480364704": {
      "model_module": "@jupyter-widgets/controls",
      "model_module_version": "1.1.0",
      "model_name": "ButtonStyleModel",
      "state": {}
     },
     "87ad6b613e984f1098e4644db364b5e3": {
      "model_module": "@jupyter-widgets/base",
      "model_module_version": "1.0.0",
      "model_name": "LayoutModel",
      "state": {
       "height": "248px",
       "padding": "0px 0px 0px 0px",
       "width": "10px"
      }
     },
     "87f493de814944bf9100cd81a3900537": {
      "model_module": "@jupyter-widgets/controls",
      "model_module_version": "1.1.0",
      "model_name": "CheckboxModel",
      "state": {
       "description": "Trace Path",
       "disabled": false,
       "layout": "IPY_MODEL_9d73b1cbfb984fa7b6f24860af64da9c",
       "style": "IPY_MODEL_a939d30b945c4a53af2fcb6dea9bf5d5",
       "value": false
      }
     },
     "881ea27b47304fc28b6228a41d4a1ce2": {
      "model_module": "@jupyter-widgets/base",
      "model_module_version": "1.0.0",
      "model_name": "LayoutModel",
      "state": {}
     },
     "8835995b2cd24c24b947d7ca36d9d46e": {
      "model_module": "@jupyter-widgets/controls",
      "model_module_version": "1.1.0",
      "model_name": "HTMLModel",
      "state": {
       "layout": "IPY_MODEL_8e0d49dfce664a56b93104af3d4267a5",
       "style": "IPY_MODEL_5aaf29b321f042a4b9c93f1604fe846a",
       "value": "<svg baseProfile=\"full\" height=\"240\" version=\"1.1\" width=\"240\" xmlns=\"http://www.w3.org/2000/svg\" xmlns:ev=\"http://www.w3.org/2001/xml-events\" xmlns:xlink=\"http://www.w3.org/1999/xlink\"><defs /><rect fill=\"#eef3dd\" height=\"240.0\" stroke=\"#bebebe\" stroke-width=\"1\" width=\"120.0\" x=\"0.0\" y=\"0.0\" /><line fill=\"#800080\" stroke=\"#add8e6\" stroke-width=\"1\" x1=\"49.5\" x2=\"0.0\" y1=\"161.40370358375822\" y2=\"161.403702\" /><line fill=\"#800080\" stroke=\"#add8e6\" stroke-width=\"1\" x1=\"51.0\" x2=\"0.0\" y1=\"157.2037035837582\" y2=\"133.422012\" /><line fill=\"#800080\" stroke=\"#add8e6\" stroke-width=\"1\" x1=\"53.4\" x2=\"0.0\" y1=\"155.4037035837582\" y2=\"91.76406\" /><line fill=\"#800080\" stroke=\"#add8e6\" stroke-width=\"1\" x1=\"57.0\" x2=\"15.76162671101976\" y1=\"153.90370358375822\" y2=\"0.0\" /><line fill=\"#800080\" stroke=\"#add8e6\" stroke-width=\"1\" x1=\"63.0\" x2=\"104.23837328898024\" y1=\"153.90370358375822\" y2=\"0.0\" /><line fill=\"#800080\" stroke=\"#add8e6\" stroke-width=\"1\" x1=\"66.60000000000001\" x2=\"120.0\" y1=\"155.4037035837582\" y2=\"91.76406\" /><line fill=\"#800080\" stroke=\"#add8e6\" stroke-width=\"1\" x1=\"69.0\" x2=\"120.0\" y1=\"157.2037035837582\" y2=\"133.422012\" /><line fill=\"#800080\" stroke=\"#add8e6\" stroke-width=\"1\" x1=\"70.5\" x2=\"120.0\" y1=\"161.40370358375822\" y2=\"161.403702\" /><line fill=\"#800080\" stroke=\"#a020f0\" stroke-width=\"1\" x1=\"60.0\" x2=\"0.0\" y1=\"167.4037035837582\" y2=\"132.76268399999998\" /><line fill=\"#800080\" stroke=\"#a020f0\" stroke-width=\"1\" x1=\"60.0\" x2=\"120.0\" y1=\"167.4037035837582\" y2=\"132.76268399999998\" /><polygon fill=\"red\" points=\"55.2,153.90370358375822 49.5,158.40370358375822 49.5,176.40370358375822 55.2,180.9037035837582 64.80000000000001,180.9037035837582 70.5,176.40370358375822 70.5,158.40370358375822 64.80000000000001,153.90370358375822\" stroke=\"red\" stroke-width=\"1\" /><polygon points=\"-3.0,-3.0 0,0 3.0,-3.0 0,3.0\" stroke=\"black\" stroke-width=\"1\" transform=\"translate(60.0,167.4037035837582) rotate(180.0)\" /><polygon fill=\"black\" points=\"63.6,159.0037035837582 63.6,163.8037035837582 56.4,163.8037035837582 56.4,159.0037035837582\" stroke=\"black\" stroke-width=\"1\" /></svg>"
      }
     },
     "883eefd2780e461289bbfac71019469c": {
      "model_module": "@jupyter-widgets/controls",
      "model_module_version": "1.1.0",
      "model_name": "HTMLModel",
      "state": {
       "layout": "IPY_MODEL_7b678b92c10d4685a0d6cd46bb52d63a",
       "style": "IPY_MODEL_62df46448c2a4753bf3b183dc7b175f6",
       "value": "<img style=\"image-rendering: pixelated;\" src=\"data:image/gif;base64,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\" width=\"240\"/>"
      }
     },
     "887e8eb223bc45c3bd59243e5429c885": {
      "model_module": "@jupyter-widgets/controls",
      "model_module_version": "1.1.0",
      "model_name": "AccordionModel",
      "state": {
       "_titles": {
        "0": "Stop When Close"
       },
       "children": [
        "IPY_MODEL_f0281b0bcee54e5bac546fb7c87b2bec"
       ],
       "layout": "IPY_MODEL_454e788d845843e5b3931e74794f746b",
       "selected_index": null
      }
     },
     "888a88385b504cef94f10bc56022833d": {
      "model_module": "@jupyter-widgets/base",
      "model_module_version": "1.0.0",
      "model_name": "LayoutModel",
      "state": {}
     },
     "890f15e2a2304063ad9d0c2eca591b36": {
      "model_module": "@jupyter-widgets/controls",
      "model_module_version": "1.1.0",
      "model_name": "SliderStyleModel",
      "state": {
       "description_width": ""
      }
     },
     "89895ce62cf44b2e905c930561a24715": {
      "model_module": "@jupyter-widgets/base",
      "model_module_version": "1.0.0",
      "model_name": "LayoutModel",
      "state": {}
     },
     "89a0f2bdb2c14fb28f0bed4871f849cc": {
      "model_module": "@jupyter-widgets/controls",
      "model_module_version": "1.1.0",
      "model_name": "VBoxModel",
      "state": {
       "children": [
        "IPY_MODEL_61e28d05e90a4468b19a431321a63d44",
        "IPY_MODEL_7f8655cc1a934ab891882aa0d89d197b"
       ],
       "layout": "IPY_MODEL_fff602db5f70420981ae9d0ed36b1d96"
      }
     },
     "89b7259dce1142a68814cb64fbe76746": {
      "model_module": "@jupyter-widgets/controls",
      "model_module_version": "1.1.0",
      "model_name": "HBoxModel",
      "state": {
       "children": [
        "IPY_MODEL_e488b11620004d189c283b92ad72e8ec",
        "IPY_MODEL_3abffcbdc8c74390961d3d68f89ab89b"
       ],
       "layout": "IPY_MODEL_61d6d4e7f7304531ae2b5490fdddc410"
      }
     },
     "8a3feb256a3f472089c2521d493f8277": {
      "model_module": "@jupyter-widgets/base",
      "model_module_version": "1.0.0",
      "model_name": "LayoutModel",
      "state": {}
     },
     "8a4ba389771e448dbc9cbe52251a306c": {
      "model_module": "@jupyter-widgets/controls",
      "model_module_version": "1.1.0",
      "model_name": "FloatSliderModel",
      "state": {
       "layout": "IPY_MODEL_569e00ac08e4460da1f41979af55736a",
       "orientation": "vertical",
       "readout": false,
       "step": 0.1,
       "style": "IPY_MODEL_af13a36002f64f87bac4cd78abd95123",
       "value": 25
      }
     },
     "8a9036c4d5a44e2d85db3468970f1300": {
      "model_module": "@jupyter-widgets/base",
      "model_module_version": "1.0.0",
      "model_name": "LayoutModel",
      "state": {}
     },
     "8a9b85c1409f496d91704abf22906109": {
      "model_module": "@jupyter-widgets/base",
      "model_module_version": "1.0.0",
      "model_name": "LayoutModel",
      "state": {}
     },
     "8ad3bc6491b14eb3933005ddce37d55e": {
      "model_module": "@jupyter-widgets/base",
      "model_module_version": "1.0.0",
      "model_name": "LayoutModel",
      "state": {}
     },
     "8ad796c6976c4f358961a933eb3879b3": {
      "model_module": "@jupyter-widgets/controls",
      "model_module_version": "1.1.0",
      "model_name": "SliderStyleModel",
      "state": {
       "description_width": ""
      }
     },
     "8ae2552b15db4a4e818ca9a7fda8e55d": {
      "model_module": "@jupyter-widgets/base",
      "model_module_version": "1.0.0",
      "model_name": "LayoutModel",
      "state": {
       "height": "30px",
       "padding": "0px 0px 0px 10px",
       "width": "260px"
      }
     },
     "8b2cf774b7444a18be356fd51fe508ef": {
      "model_module": "@jupyter-widgets/controls",
      "model_module_version": "1.1.0",
      "model_name": "CheckboxModel",
      "state": {
       "description": "Visible",
       "disabled": false,
       "layout": "IPY_MODEL_61399607d3574d29aa33e3c498daa217",
       "style": "IPY_MODEL_29a017d27019424da20618f0478d8c36",
       "value": true
      }
     },
     "8b495323eaba45fd87e72c79449ed8c4": {
      "model_module": "@jupyter-widgets/controls",
      "model_module_version": "1.1.0",
      "model_name": "ButtonModel",
      "state": {
       "icon": "fast-forward",
       "layout": "IPY_MODEL_cd23be5b15fa495caf227e9dac79d81e",
       "style": "IPY_MODEL_fa40b266f29044c194dd4268d9f20ab3"
      }
     },
     "8b5d789a360243f194bde852a22baa79": {
      "model_module": "@jupyter-widgets/controls",
      "model_module_version": "1.1.0",
      "model_name": "ButtonModel",
      "state": {
       "description": "Clear Output",
       "layout": "IPY_MODEL_1371129e6dad4e798d903bf6adde2e15",
       "style": "IPY_MODEL_26fc4cedf61c49f8b989f091f938526a"
      }
     },
     "8b66d0925d854763aef97ccdedb307f0": {
      "model_module": "@jupyter-widgets/base",
      "model_module_version": "1.0.0",
      "model_name": "LayoutModel",
      "state": {
       "height": "248px",
       "padding": "0px 0px 0px 0px",
       "width": "10px"
      }
     },
     "8bb21b3bba344e95a5f1dff3a5f2c2ea": {
      "model_module": "@jupyter-widgets/controls",
      "model_module_version": "1.1.0",
      "model_name": "SliderStyleModel",
      "state": {
       "description_width": ""
      }
     },
     "8beac43b69a6475195eea56afcdcf166": {
      "model_module": "@jupyter-widgets/controls",
      "model_module_version": "1.1.0",
      "model_name": "DescriptionStyleModel",
      "state": {
       "description_width": ""
      }
     },
     "8bf228d943234d62b9536ad3c4c2dddd": {
      "model_module": "@jupyter-widgets/base",
      "model_module_version": "1.0.0",
      "model_name": "LayoutModel",
      "state": {}
     },
     "8c3a6acff1a84e09a147ee1e6011787c": {
      "model_module": "@jupyter-widgets/base",
      "model_module_version": "1.0.0",
      "model_name": "LayoutModel",
      "state": {}
     },
     "8c4a878651d24a24aafbc6b5f729e77d": {
      "model_module": "@jupyter-widgets/base",
      "model_module_version": "1.0.0",
      "model_name": "LayoutModel",
      "state": {}
     },
     "8c6dfeb46bd24309861057daeeb11874": {
      "model_module": "@jupyter-widgets/controls",
      "model_module_version": "1.1.0",
      "model_name": "HBoxModel",
      "state": {
       "children": [
        "IPY_MODEL_7b870f00421f4f0d959f2e7103f2d3d0",
        "IPY_MODEL_ec4a5aaadb394973abef325079cc4eb1"
       ],
       "layout": "IPY_MODEL_f146cd37eff8425783b190458bc860e4"
      }
     },
     "8d49ec35aa8b4994a89f6e8776095fa6": {
      "model_module": "@jupyter-widgets/controls",
      "model_module_version": "1.1.0",
      "model_name": "DescriptionStyleModel",
      "state": {
       "description_width": ""
      }
     },
     "8dd05b9cba084105bbe4dbc032183154": {
      "model_module": "@jupyter-widgets/controls",
      "model_module_version": "1.1.0",
      "model_name": "HBoxModel",
      "state": {
       "children": [
        "IPY_MODEL_319a952bdfe0490d9513ecd46fee7c58",
        "IPY_MODEL_78689984530a4ceaa6d9b206462c5dd3"
       ],
       "layout": "IPY_MODEL_8ec67a0453c8425ba0b770fe76b5499e"
      }
     },
     "8dd397a8181146b895dd40539f0ef8ce": {
      "model_module": "@jupyter-widgets/base",
      "model_module_version": "1.0.0",
      "model_name": "LayoutModel",
      "state": {}
     },
     "8deaa8aa4a274d32b5fa2ed183da55ab": {
      "model_module": "@jupyter-widgets/controls",
      "model_module_version": "1.1.0",
      "model_name": "VBoxModel",
      "state": {
       "children": [
        "IPY_MODEL_b53f6e4b863644cdb2332b7846ddde08",
        "IPY_MODEL_7c9104c9a92348a4a0ac02264356c10a"
       ],
       "layout": "IPY_MODEL_752efb5ade624c80a4d924a320c868e6"
      }
     },
     "8df39fe945344aa4ac881617a13697e6": {
      "model_module": "@jupyter-widgets/base",
      "model_module_version": "1.0.0",
      "model_name": "LayoutModel",
      "state": {}
     },
     "8e0d49dfce664a56b93104af3d4267a5": {
      "model_module": "@jupyter-widgets/base",
      "model_module_version": "1.0.0",
      "model_name": "LayoutModel",
      "state": {}
     },
     "8e1762ee28734820964e0a96fcdb026f": {
      "model_module": "@jupyter-widgets/base",
      "model_module_version": "1.0.0",
      "model_name": "LayoutModel",
      "state": {}
     },
     "8ec67a0453c8425ba0b770fe76b5499e": {
      "model_module": "@jupyter-widgets/base",
      "model_module_version": "1.0.0",
      "model_name": "LayoutModel",
      "state": {}
     },
     "8f0bccb117e3479aba0898096ab79565": {
      "model_module": "@jupyter-widgets/base",
      "model_module_version": "1.0.0",
      "model_name": "LayoutModel",
      "state": {
       "height": "248px",
       "padding": "0px 0px 0px 0px",
       "width": "10px"
      }
     },
     "8f1109a9c35a479c905d06ee1cedaa86": {
      "model_module": "@jupyter-widgets/controls",
      "model_module_version": "1.1.0",
      "model_name": "PlayModel",
      "state": {
       "layout": "IPY_MODEL_c0371f769f8145ed85b1caa0fb57d8c9",
       "max": 1000000,
       "style": "IPY_MODEL_612ce34c8d624f408eb42acf66622d68"
      }
     },
     "8f18cf0064f14b959207c6f88e0aca46": {
      "model_module": "@jupyter-widgets/base",
      "model_module_version": "1.0.0",
      "model_name": "LayoutModel",
      "state": {}
     },
     "8f614d4b56f24729bd8f0e16651560ab": {
      "model_module": "@jupyter-widgets/controls",
      "model_module_version": "1.1.0",
      "model_name": "HTMLModel",
      "state": {
       "layout": "IPY_MODEL_81fe27232f884d94a1f56eaf5b9bee94",
       "style": "IPY_MODEL_deef4da5821544319f95127a7370418b",
       "value": "<img style=\"image-rendering: pixelated;\" src=\"data:image/gif;base64,R0lGODdheAA8AIcAAAAAAAAAAAAAAAAAAAAAAAAAAAAAAAAAAAAAAAAAAAAAAAAAAAAAAAAAAAAAAAAAAAAAAAAAAAAAAAAAAAAAAAAAAAAAAAAAAAAAAAAAAAAAAAAAAAAAAAAAAAAAAAAAAAAAAAAAAAAAAAAAAAAAAAAAAAAAAAAAAAAAAAAAAAAAAAAAAAAAAAAAAAAAAAAAAAAAAAAAAAAAAAAAAAAAAAAAAAAAAAAAAAAAAAAAAAAAAAAAAAAAAAAAAAAAAAAAAAAAAAAAAAAAAAAAAAAAAAAAAAAAAAAAAAAAAAAAAAAAAAAAAAAAAAAAAAAAAAAAAAAAAAAAAAAAAAAAAAAAAAAAAAAAAAAAAAAAAAAAAAAAAAAAAAAAAAAAAAAAAAAAAAAAAAAAAAAAAAAAAAAAAAAAAAAAAAAAAAAAAAAAAAAAAAAAAAAAAAAAAAAAAAAAAAAAAAAAAAAAAAAAAAAAAAAAAAAAAAAAAAAAAAAAAAAAAAAAAAAAAAAAAAAAAAAAAAAAAAAAAAAAAAAAAAAAAAAAAAAAAAAAAAAAAAAAAAAAAAAAAAAAAAAAAAAAAAAAAAAAAAAAAAAAAAAAAAAAAAAAAAAAAAAAAAAAAAAAAAAAAAAAAAAAAAAAAAAAAAAAAAAAAAAAAAAAAAAAAAAAAAAAAAAAAAAAAAAAAAAAAAAAAAAAAAAAAAAAAAAAAAAAAAAAAAAAAAAAAAAAAAAAAAAAAAAAAAAAAAAAAAAAAAAAAAAAAAAAAAAAAAAAAAAAAAAAAAAAAAAAAAAAAAAAAAAAAAAAAAAAAAAAAAAAAAAAAAAAAAAAAAAAAAAAAAAAAAAAAAAAAAAAAAAAAAAAAAAAAAAAAAAAAAAAAAAAAAAAAAAAAAAAAAAAAAAAAAAAAAAAAAAAAAAAAAAAAAAAAAAAAAAAAAAAAAAAAAAAAAAAAAAAAAAAAAAAAAAAAAAAAAAAAAAAAAAAAAAAAAAAAAAAAAAAAAAAAAAAAAAAAAAAAAAAAAAAAAAAAAAAAAAAACwAAAAAeAA8AEAIigABCBxIsKDBgwgTKlzIsKHDhxAjSpxIsaLFixgzatzIsaPHjyBDihxJsqTJkyhTqlzJsqXLlzBjypxJs6bNmzhz6tzJs6fPn0CDCh1KtKjRo0iTKl3KtKnTp1CjSp1KtarVq1izat3KtavXr2DDih1LtqzZs2jTql3Ltq3bt3Djyp1Lt67duzwDAgA7\" width=\"240\"/>"
      }
     },
     "8f7aea042a814a42ae449b903532e84d": {
      "model_module": "@jupyter-widgets/controls",
      "model_module_version": "1.1.0",
      "model_name": "DescriptionStyleModel",
      "state": {
       "description_width": ""
      }
     },
     "8fcc99402a2f4a23a85d1f2c5163f155": {
      "model_module": "@jupyter-widgets/base",
      "model_module_version": "1.0.0",
      "model_name": "LayoutModel",
      "state": {}
     },
     "902d5f0d366040c3aec4717a81b4c506": {
      "model_module": "@jupyter-widgets/controls",
      "model_module_version": "1.1.0",
      "model_name": "CheckboxModel",
      "state": {
       "description": "Trace Path",
       "disabled": false,
       "layout": "IPY_MODEL_4e3ee3519dfc4b05b69cf67cd88a37f5",
       "style": "IPY_MODEL_977b2f267aaf43208354f22a90cd255c",
       "value": false
      }
     },
     "90526f05c0b8437aa1e04850e1849379": {
      "model_module": "@jupyter-widgets/controls",
      "model_module_version": "1.1.0",
      "model_name": "FloatSliderModel",
      "state": {
       "layout": "IPY_MODEL_ca6292eebbcc41ac933ea3344fb8231a",
       "readout": false,
       "step": 0.1,
       "style": "IPY_MODEL_3a50c54d5cff4616921d23bf15006422",
       "value": 50
      }
     },
     "9064476e831044729565fd21a2adb4fc": {
      "model_module": "@jupyter-widgets/controls",
      "model_module_version": "1.1.0",
      "model_name": "ButtonStyleModel",
      "state": {}
     },
     "90676073862242d189abaf58ced2f16c": {
      "model_module": "@jupyter-widgets/controls",
      "model_module_version": "1.1.0",
      "model_name": "FloatSliderModel",
      "state": {
       "layout": "IPY_MODEL_e55d35cd8a1845678fad1bdb6ebd73ed",
       "readout": false,
       "step": 0.1,
       "style": "IPY_MODEL_9e5f6868563a49ff8e930482ce1f2307",
       "value": 100
      }
     },
     "9079e0a49a8a4a9384c0147429c6f099": {
      "model_module": "@jupyter-widgets/controls",
      "model_module_version": "1.1.0",
      "model_name": "CheckboxModel",
      "state": {
       "description": "Update GUI",
       "disabled": false,
       "layout": "IPY_MODEL_931d0cf3ebea42ca94e12938c5275eaa",
       "style": "IPY_MODEL_c05111ffdf374de5876a8130f45c676a",
       "value": true
      }
     },
     "907d291d9c9448c4a32d6670edf27d30": {
      "model_module": "@jupyter-widgets/base",
      "model_module_version": "1.0.0",
      "model_name": "LayoutModel",
      "state": {}
     },
     "9091d83a013b4acbabe7c6aee57bd8a2": {
      "model_module": "@jupyter-widgets/controls",
      "model_module_version": "1.1.0",
      "model_name": "DescriptionStyleModel",
      "state": {
       "description_width": ""
      }
     },
     "90f6c0f1b6344819b020c9be421f4a9b": {
      "model_module": "@jupyter-widgets/base",
      "model_module_version": "1.0.0",
      "model_name": "LayoutModel",
      "state": {}
     },
     "9164a3990ac842b498d85497b3478d83": {
      "model_module": "@jupyter-widgets/controls",
      "model_module_version": "1.1.0",
      "model_name": "VBoxModel",
      "state": {
       "children": [
        "IPY_MODEL_166685e373d54a34a4053a93a5140e87",
        "IPY_MODEL_9374d94257664c269e94ef46cb1c6bb2"
       ],
       "layout": "IPY_MODEL_302689b187d14c068c26ca462595aef9"
      }
     },
     "920675427e3e46f78d197231fdbfde15": {
      "model_module": "@jupyter-widgets/base",
      "model_module_version": "1.0.0",
      "model_name": "LayoutModel",
      "state": {}
     },
     "921a30778b5c4ef2ae9cbf248fd982f7": {
      "model_module": "@jupyter-widgets/base",
      "model_module_version": "1.0.0",
      "model_name": "LayoutModel",
      "state": {}
     },
     "9241004c65664a6c87be83f8bb9f2186": {
      "model_module": "@jupyter-widgets/base",
      "model_module_version": "1.0.0",
      "model_name": "LayoutModel",
      "state": {}
     },
     "924374b6bdc448bb96110c96365ed5c3": {
      "model_module": "@jupyter-widgets/controls",
      "model_module_version": "1.1.0",
      "model_name": "DescriptionStyleModel",
      "state": {
       "description_width": ""
      }
     },
     "924d3088634c419998911a59919eef01": {
      "model_module": "@jupyter-widgets/controls",
      "model_module_version": "1.1.0",
      "model_name": "FloatSliderModel",
      "state": {
       "layout": "IPY_MODEL_fb6711c4b121484a90d37ca506f37094",
       "orientation": "vertical",
       "readout": false,
       "step": 0.1,
       "style": "IPY_MODEL_30f0f9d9171c4ce68a2362e913fb8ec5",
       "value": 25
      }
     },
     "924f91f57deb4fdfb2eb2f5b9c5d70ef": {
      "model_module": "@jupyter-widgets/base",
      "model_module_version": "1.0.0",
      "model_name": "LayoutModel",
      "state": {}
     },
     "928cf702008a475cb41b753f0f79c9bd": {
      "model_module": "@jupyter-widgets/controls",
      "model_module_version": "1.1.0",
      "model_name": "VBoxModel",
      "state": {
       "children": [
        "IPY_MODEL_b09df4e181734d6fb5bfc5c28557e03c",
        "IPY_MODEL_d29dc480dfb14d4f9e71dbb77a28a1a1"
       ],
       "layout": "IPY_MODEL_218bb682fb204383839c80f2072a8f39"
      }
     },
     "928d996540b6461fa541b8a3de2b2c03": {
      "model_module": "@jupyter-widgets/base",
      "model_module_version": "1.0.0",
      "model_name": "LayoutModel",
      "state": {
       "height": "20px",
       "padding": "0px 0px 0px 0px",
       "width": "248px"
      }
     },
     "92906f6e20bb45ed8b239e279d5cf494": {
      "model_module": "@jupyter-widgets/base",
      "model_module_version": "1.0.0",
      "model_name": "LayoutModel",
      "state": {}
     },
     "92c360890a294ba492f811f1d3f0078b": {
      "model_module": "@jupyter-widgets/controls",
      "model_module_version": "1.1.0",
      "model_name": "ButtonModel",
      "state": {
       "icon": "step-forward",
       "layout": "IPY_MODEL_6c2d9c71e58a42acb6a9953b72c39f28",
       "style": "IPY_MODEL_36fbaf6c3dd14e139311fa73795c099b"
      }
     },
     "931d0cf3ebea42ca94e12938c5275eaa": {
      "model_module": "@jupyter-widgets/base",
      "model_module_version": "1.0.0",
      "model_name": "LayoutModel",
      "state": {}
     },
     "9356988c3a5e4e99bfbd6c200fadac83": {
      "model_module": "@jupyter-widgets/controls",
      "model_module_version": "1.1.0",
      "model_name": "SliderStyleModel",
      "state": {
       "description_width": ""
      }
     },
     "93644d6135bd48afa45d9d816cf5bdd0": {
      "model_module": "@jupyter-widgets/base",
      "model_module_version": "1.0.0",
      "model_name": "LayoutModel",
      "state": {}
     },
     "9374d94257664c269e94ef46cb1c6bb2": {
      "model_module": "@jupyter-widgets/controls",
      "model_module_version": "1.1.0",
      "model_name": "FloatSliderModel",
      "state": {
       "layout": "IPY_MODEL_2bc34aac550f455cba707f7a4b473ba0",
       "readout": false,
       "step": 0.1,
       "style": "IPY_MODEL_0749fd1c0152462fbafa4930ecae82aa",
       "value": 75.6
      }
     },
     "9381378337c3411b9d8fe3390622d956": {
      "model_module": "@jupyter-widgets/base",
      "model_module_version": "1.0.0",
      "model_name": "LayoutModel",
      "state": {}
     },
     "93e85e10bcfc49e284700883acdce9d9": {
      "model_module": "@jupyter-widgets/controls",
      "model_module_version": "1.1.0",
      "model_name": "HTMLModel",
      "state": {
       "layout": "IPY_MODEL_c883b996f2cc4fd8bc7c0ed5f986eba3",
       "style": "IPY_MODEL_0994e4d7f7b5453a986d718ede34f334",
       "value": "<img style=\"image-rendering: pixelated;\" src=\"data:image/gif;base64,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\" width=\"240\"/>"
      }
     },
     "93f8990994784700ab0cfbf9da1b8889": {
      "model_module": "@jupyter-widgets/controls",
      "model_module_version": "1.1.0",
      "model_name": "HBoxModel",
      "state": {
       "children": [
        "IPY_MODEL_863125f348c14b448d08567508bd0fb2",
        "IPY_MODEL_574047aed09e48eeb72a2c5d30026d7f"
       ],
       "layout": "IPY_MODEL_a5b000a37d054deb82fb1e6f8d99fa8a"
      }
     },
     "946cdefbcd8d4f14ae495fdf8100b779": {
      "model_module": "@jupyter-widgets/controls",
      "model_module_version": "1.1.0",
      "model_name": "HBoxModel",
      "state": {
       "children": [
        "IPY_MODEL_0d91c4ea422e4f12a4e6847db2236d1f",
        "IPY_MODEL_a066edf153ad465b8b7c1aa77bab25a8",
        "IPY_MODEL_f19a8d54fc754dba8cdf2ee0e4c0bad9"
       ],
       "layout": "IPY_MODEL_fefdb77f61804ed4ad7ede510c0c0dbc"
      }
     },
     "9495d4e338704cd5831fad6d8d1bbce7": {
      "model_module": "@jupyter-widgets/controls",
      "model_module_version": "1.1.0",
      "model_name": "SelectModel",
      "state": {
       "_options_labels": [
        ""
       ],
       "description": "Features:",
       "index": 0,
       "layout": "IPY_MODEL_92906f6e20bb45ed8b239e279d5cf494",
       "rows": 1,
       "style": "IPY_MODEL_dc0a7b417fd94cd0a253be7e3d2e36b0"
      }
     },
     "949b539aa9c546fa8ba1e4f8fe787cbb": {
      "model_module": "@jupyter-widgets/controls",
      "model_module_version": "1.1.0",
      "model_name": "HBoxModel",
      "state": {
       "children": [
        "IPY_MODEL_72724b7f17c143eba11e458e536d101d",
        "IPY_MODEL_80f6c70c7c8c4813b56ba239de000cfb"
       ],
       "layout": "IPY_MODEL_11445130b2d04698848a774e33770ed3"
      }
     },
     "94b2da84cfbb4cdd8430d6fd73ef28dc": {
      "model_module": "@jupyter-widgets/controls",
      "model_module_version": "1.1.0",
      "model_name": "DescriptionStyleModel",
      "state": {
       "description_width": ""
      }
     },
     "94ef7f8dc3144e62ac59bbcf54e9ab46": {
      "model_module": "@jupyter-widgets/base",
      "model_module_version": "1.0.0",
      "model_name": "LayoutModel",
      "state": {}
     },
     "95765897dbd24c42a6adf714962496a8": {
      "model_module": "@jupyter-widgets/base",
      "model_module_version": "1.0.0",
      "model_name": "LayoutModel",
      "state": {}
     },
     "965edfae16484037b814454e9e895e39": {
      "model_module": "@jupyter-widgets/base",
      "model_module_version": "1.0.0",
      "model_name": "LayoutModel",
      "state": {}
     },
     "9669d1e0a8304bdfb49b75a1ebc1ab00": {
      "model_module": "@jupyter-widgets/controls",
      "model_module_version": "1.1.0",
      "model_name": "ButtonStyleModel",
      "state": {}
     },
     "96b98123b6424e2c8f75ac04c49277c5": {
      "model_module": "@jupyter-widgets/controls",
      "model_module_version": "1.1.0",
      "model_name": "SliderStyleModel",
      "state": {
       "description_width": ""
      }
     },
     "96c28c52615e4743bdd162288409dd26": {
      "model_module": "@jupyter-widgets/controls",
      "model_module_version": "1.1.0",
      "model_name": "VBoxModel",
      "state": {
       "children": [
        "IPY_MODEL_f994180a21554c5181ce5482f17483dc",
        "IPY_MODEL_1bfb504e943243ae927ad0516252ea95"
       ],
       "layout": "IPY_MODEL_a165fee67ab84914828a0a74e72cf6f3"
      }
     },
     "96cff513efa04c18ac647fed66138e5d": {
      "model_module": "@jupyter-widgets/base",
      "model_module_version": "1.0.0",
      "model_name": "LayoutModel",
      "state": {}
     },
     "9715c8b92bef475290a9097e3399bc89": {
      "model_module": "@jupyter-widgets/base",
      "model_module_version": "1.0.0",
      "model_name": "LayoutModel",
      "state": {
       "width": "100%"
      }
     },
     "97258b37225e451fa417509aba76d191": {
      "model_module": "@jupyter-widgets/controls",
      "model_module_version": "1.1.0",
      "model_name": "VBoxModel",
      "state": {
       "children": [
        "IPY_MODEL_e3ae845d1ae44436b51e9a12f6daffa9",
        "IPY_MODEL_4daa667b226f45b2ab0b799de2321616"
       ],
       "layout": "IPY_MODEL_36bfb18864f249889c6c7d0862a02d69"
      }
     },
     "976cc6bdbd7f4f48842dea9f6882e54d": {
      "model_module": "@jupyter-widgets/base",
      "model_module_version": "1.0.0",
      "model_name": "LayoutModel",
      "state": {}
     },
     "977b2f267aaf43208354f22a90cd255c": {
      "model_module": "@jupyter-widgets/controls",
      "model_module_version": "1.1.0",
      "model_name": "DescriptionStyleModel",
      "state": {
       "description_width": ""
      }
     },
     "977b6ba5b8cf4c7da50177f412eaaa7b": {
      "model_module": "@jupyter-widgets/base",
      "model_module_version": "1.0.0",
      "model_name": "LayoutModel",
      "state": {}
     },
     "97e6363deccd4b299f5bce65f847ab23": {
      "model_module": "@jupyter-widgets/base",
      "model_module_version": "1.0.0",
      "model_name": "LayoutModel",
      "state": {}
     },
     "98397ec3a73d4cc482e4d43547418e42": {
      "model_module": "@jupyter-widgets/controls",
      "model_module_version": "1.1.0",
      "model_name": "DescriptionStyleModel",
      "state": {
       "description_width": ""
      }
     },
     "987b688f4174413e9d2d854f34063bec": {
      "model_module": "@jupyter-widgets/controls",
      "model_module_version": "1.1.0",
      "model_name": "SelectModel",
      "state": {
       "_options_labels": [
        "Test",
        "Train"
       ],
       "description": "Dataset:",
       "index": 1,
       "layout": "IPY_MODEL_1d9ed39012fc422eb5dfa62315f4f271",
       "rows": 1,
       "style": "IPY_MODEL_3af6f002bd184d88ad6d8cb2de33ad96"
      }
     },
     "988ae2c3c20c4e019d22c02f720ef7cc": {
      "model_module": "@jupyter-widgets/base",
      "model_module_version": "1.0.0",
      "model_name": "LayoutModel",
      "state": {}
     },
     "98a574c41655441aa7b087524d4fbd56": {
      "model_module": "@jupyter-widgets/base",
      "model_module_version": "1.0.0",
      "model_name": "LayoutModel",
      "state": {}
     },
     "98c1a3515dad4132a2d537d309458fe1": {
      "model_module": "@jupyter-widgets/controls",
      "model_module_version": "1.1.0",
      "model_name": "ButtonModel",
      "state": {
       "description": "Clear Output",
       "layout": "IPY_MODEL_3febb3177a164f11b6155305242edc05",
       "style": "IPY_MODEL_60054901042a4f7aaadce545bf63549b"
      }
     },
     "98f0c4b5e90b4c089fa0171adc75d0ee": {
      "model_module": "@jupyter-widgets/controls",
      "model_module_version": "1.1.0",
      "model_name": "HBoxModel",
      "state": {
       "children": [
        "IPY_MODEL_b9a0b96b9f9543c5b76eb531cbb6bd5a",
        "IPY_MODEL_639d7ecd9e6f4529927bc0812fd34ca8"
       ],
       "layout": "IPY_MODEL_b45a28ae7f84427d9fe88ad2b4344ec2"
      }
     },
     "990e7abd7265451d84565394edaa81b2": {
      "model_module": "@jupyter-widgets/controls",
      "model_module_version": "1.1.0",
      "model_name": "ButtonModel",
      "state": {
       "description": "Clear Output",
       "layout": "IPY_MODEL_dc77fa79d0074a9a9c26a9e63e4d8411",
       "style": "IPY_MODEL_a27ef8e23bef475883a452016b546110"
      }
     },
     "9950a7c195ff4f7c9bea6b440eb8730e": {
      "model_module": "@jupyter-widgets/controls",
      "model_module_version": "1.1.0",
      "model_name": "ButtonStyleModel",
      "state": {}
     },
     "996a397601ba46cd87ffc33be437d496": {
      "model_module": "@jupyter-widgets/output",
      "model_module_version": "1.1.0",
      "model_name": "OutputModel",
      "state": {
       "_model_module_version": "1.1.0",
       "_view_module_version": "1.1.0",
       "layout": "IPY_MODEL_0f82006d79b3413bbc17f828dbd9f8d7"
      }
     },
     "9986006bdcc84619b0134207d7c3334b": {
      "model_module": "@jupyter-widgets/base",
      "model_module_version": "1.0.0",
      "model_name": "LayoutModel",
      "state": {}
     },
     "9a2adf9bcd544222be66b0c8f555145e": {
      "model_module": "@jupyter-widgets/controls",
      "model_module_version": "1.1.0",
      "model_name": "ButtonModel",
      "state": {
       "description": "Clear Output",
       "layout": "IPY_MODEL_3914b48eb7114bd295840b2402b54349",
       "style": "IPY_MODEL_6034386a016c43a2b81a9cc4dd8e53ad"
      }
     },
     "9a2c64d35ba84c65916863bc5693f68b": {
      "model_module": "@jupyter-widgets/base",
      "model_module_version": "1.0.0",
      "model_name": "LayoutModel",
      "state": {}
     },
     "9a35fdc3b8724ae3b1d3f3471fd7d778": {
      "model_module": "@jupyter-widgets/controls",
      "model_module_version": "1.1.0",
      "model_name": "HTMLModel",
      "state": {
       "layout": "IPY_MODEL_bc00ff05230d42469977d85cd364a36a",
       "style": "IPY_MODEL_349ed2ff546c411aa81e28763a58eee9",
       "value": "<svg baseProfile=\"full\" height=\"240\" version=\"1.1\" width=\"240\" xmlns=\"http://www.w3.org/2000/svg\" xmlns:ev=\"http://www.w3.org/2001/xml-events\" xmlns:xlink=\"http://www.w3.org/1999/xlink\"><defs /><rect fill=\"#eef3dd\" height=\"240.0\" stroke=\"#bebebe\" stroke-width=\"1\" width=\"240.0\" x=\"0.0\" y=\"0.0\" /><line fill=\"#800080\" stroke=\"#add8e6\" stroke-width=\"1\" x1=\"109.5\" x2=\"0.0\" y1=\"174.0\" y2=\"174.0\" /><line fill=\"#800080\" stroke=\"#add8e6\" stroke-width=\"1\" x1=\"111.0\" x2=\"0.0\" y1=\"169.8\" y2=\"118.039848\" /><line fill=\"#800080\" stroke=\"#add8e6\" stroke-width=\"1\" x1=\"113.4\" x2=\"0.0\" y1=\"168.0\" y2=\"32.855142\" /><line fill=\"#800080\" stroke=\"#add8e6\" stroke-width=\"1\" x1=\"117.0\" x2=\"72.38645873701557\" y1=\"166.5\" y2=\"0.0\" /><line fill=\"#800080\" stroke=\"#add8e6\" stroke-width=\"1\" x1=\"122.99999999999999\" x2=\"167.61354126298448\" y1=\"166.5\" y2=\"0.0\" /><line fill=\"#800080\" stroke=\"#add8e6\" stroke-width=\"1\" x1=\"126.6\" x2=\"240.0\" y1=\"168.0\" y2=\"32.855142\" /><line fill=\"#800080\" stroke=\"#add8e6\" stroke-width=\"1\" x1=\"129.0\" x2=\"240.0\" y1=\"169.8\" y2=\"118.039848\" /><line fill=\"#800080\" stroke=\"#add8e6\" stroke-width=\"1\" x1=\"130.5\" x2=\"240.0\" y1=\"174.0\" y2=\"174.0\" /><line fill=\"#800080\" stroke=\"#add8e6\" stroke-width=\"1\" x1=\"130.5\" x2=\"240.0\" y1=\"186.0\" y2=\"186.0\" /><line fill=\"#800080\" stroke=\"#add8e6\" stroke-width=\"1\" x1=\"129.0\" x2=\"235.79644084796368\" y1=\"190.2\" y2=\"240.0\" /><line fill=\"#800080\" stroke=\"#add8e6\" stroke-width=\"1\" x1=\"126.6\" x2=\"166.87678224760555\" y1=\"192.0\" y2=\"240.0\" /><line fill=\"#800080\" stroke=\"#add8e6\" stroke-width=\"1\" x1=\"122.99999999999999\" x2=\"135.45963724447796\" y1=\"193.5\" y2=\"240.0\" /><line fill=\"#800080\" stroke=\"#add8e6\" stroke-width=\"1\" x1=\"117.0\" x2=\"104.54036275552205\" y1=\"193.5\" y2=\"240.0\" /><line fill=\"#800080\" stroke=\"#add8e6\" stroke-width=\"1\" x1=\"113.39999999999999\" x2=\"73.12321775239447\" y1=\"192.0\" y2=\"240.0\" /><line fill=\"#800080\" stroke=\"#add8e6\" stroke-width=\"1\" x1=\"111.0\" x2=\"4.203559152036306\" y1=\"190.2\" y2=\"240.0\" /><line fill=\"#800080\" stroke=\"#add8e6\" stroke-width=\"1\" x1=\"109.5\" x2=\"0.0\" y1=\"186.0\" y2=\"186.0\" /><line fill=\"#800080\" stroke=\"#a020f0\" stroke-width=\"1\" x1=\"120.0\" x2=\"0.0\" y1=\"180.0\" y2=\"110.717964\" /><line fill=\"#800080\" stroke=\"#a020f0\" stroke-width=\"1\" x1=\"120.0\" x2=\"240.0\" y1=\"180.0\" y2=\"110.717964\" /><polygon fill=\"red\" points=\"115.19999999999999,166.5 109.5,171.0 109.5,189.0 115.19999999999999,193.5 124.80000000000001,193.5 130.5,189.0 130.5,171.0 124.80000000000001,166.5\" stroke=\"red\" stroke-width=\"1\" /><polygon points=\"-3.0,-3.0 0,0 3.0,-3.0 0,3.0\" stroke=\"black\" stroke-width=\"1\" transform=\"translate(120.0,180.0) rotate(180.0)\" /><circle cx=\"109.5\" cy=\"166.5\" fill=\"yellow\" r=\"1.5\" stroke=\"orange\" stroke-width=\"1\" /><circle cx=\"130.5\" cy=\"166.5\" fill=\"yellow\" r=\"1.5\" stroke=\"orange\" stroke-width=\"1\" /><polygon fill=\"black\" points=\"123.60000000000001,171.6 123.60000000000001,176.4 116.39999999999999,176.4 116.39999999999999,171.6\" stroke=\"black\" stroke-width=\"1\" /></svg>"
      }
     },
     "9a812188e2bd4f1e8c4e90b9a8ae9eeb": {
      "model_module": "@jupyter-widgets/base",
      "model_module_version": "1.0.0",
      "model_name": "LayoutModel",
      "state": {}
     },
     "9aa4064749e741cfb2d9dfdf94e1ea9b": {
      "model_module": "@jupyter-widgets/controls",
      "model_module_version": "1.1.0",
      "model_name": "FloatSliderModel",
      "state": {
       "layout": "IPY_MODEL_bebfd1b1f3034b1fb797c1becd5221f2",
       "readout": false,
       "step": 0.1,
       "style": "IPY_MODEL_192add56b28148638879563f30c90918",
       "value": 50
      }
     },
     "9b0b47ff2ef44fd6be9aa3a9218a0dee": {
      "model_module": "@jupyter-widgets/controls",
      "model_module_version": "1.1.0",
      "model_name": "VBoxModel",
      "state": {
       "children": [
        "IPY_MODEL_86e296c32b32462ea2628497d0e739d8",
        "IPY_MODEL_29d2486c245c4285b6221043f4fdcf69"
       ],
       "layout": "IPY_MODEL_0b9a2964e74647b59f3ac488838da1fd"
      }
     },
     "9b175e0026404612bf53c900783c4b16": {
      "model_module": "@jupyter-widgets/base",
      "model_module_version": "1.0.0",
      "model_name": "LayoutModel",
      "state": {}
     },
     "9b17ea43120d428f94424d3f19a0e3c3": {
      "model_module": "@jupyter-widgets/controls",
      "model_module_version": "1.1.0",
      "model_name": "ButtonStyleModel",
      "state": {}
     },
     "9b20c24a357a406bab6cd3d7e9fd1d15": {
      "model_module": "@jupyter-widgets/base",
      "model_module_version": "1.0.0",
      "model_name": "LayoutModel",
      "state": {}
     },
     "9bd6f2d164ac490ca1f5b617b29f1fc1": {
      "model_module": "@jupyter-widgets/controls",
      "model_module_version": "1.1.0",
      "model_name": "SliderStyleModel",
      "state": {
       "description_width": ""
      }
     },
     "9c1ef86b6a5e4a92869ad44c999418cf": {
      "model_module": "@jupyter-widgets/base",
      "model_module_version": "1.0.0",
      "model_name": "LayoutModel",
      "state": {}
     },
     "9c1f4f668c4c4f1f93fe459585da61f0": {
      "model_module": "@jupyter-widgets/controls",
      "model_module_version": "1.1.0",
      "model_name": "HTMLModel",
      "state": {
       "layout": "IPY_MODEL_e529632cf3e94beaaaf17e9f02385dcd",
       "style": "IPY_MODEL_4df01bd729f04722a7d5da97d5aff926",
       "value": "<svg baseProfile=\"full\" height=\"240\" version=\"1.1\" width=\"240\" xmlns=\"http://www.w3.org/2000/svg\" xmlns:ev=\"http://www.w3.org/2001/xml-events\" xmlns:xlink=\"http://www.w3.org/1999/xlink\"><defs /><rect fill=\"#eef3dd\" height=\"240.0\" stroke=\"#bebebe\" stroke-width=\"1\" width=\"120.0\" x=\"0.0\" y=\"0.0\" /><line fill=\"#800080\" stroke=\"#add8e6\" stroke-width=\"1\" x1=\"49.5\" x2=\"0.0\" y1=\"174.0\" y2=\"174.0\" /><line fill=\"#800080\" stroke=\"#add8e6\" stroke-width=\"1\" x1=\"51.0\" x2=\"0.0\" y1=\"169.8\" y2=\"146.01830999999999\" /><line fill=\"#800080\" stroke=\"#add8e6\" stroke-width=\"1\" x1=\"53.4\" x2=\"0.0\" y1=\"168.0\" y2=\"104.360358\" /><line fill=\"#800080\" stroke=\"#add8e6\" stroke-width=\"1\" x1=\"57.0\" x2=\"12.386458737015545\" y1=\"166.5\" y2=\"0.0\" /><line fill=\"#800080\" stroke=\"#add8e6\" stroke-width=\"1\" x1=\"63.0\" x2=\"107.61354126298446\" y1=\"166.5\" y2=\"0.0\" /><line fill=\"#800080\" stroke=\"#add8e6\" stroke-width=\"1\" x1=\"66.60000000000001\" x2=\"120.0\" y1=\"168.0\" y2=\"104.360358\" /><line fill=\"#800080\" stroke=\"#add8e6\" stroke-width=\"1\" x1=\"69.0\" x2=\"120.0\" y1=\"169.8\" y2=\"146.01830999999999\" /><line fill=\"#800080\" stroke=\"#add8e6\" stroke-width=\"1\" x1=\"70.5\" x2=\"120.0\" y1=\"174.0\" y2=\"174.0\" /><polygon fill=\"red\" points=\"55.2,166.5 49.5,171.0 49.5,189.0 55.2,193.5 64.80000000000001,193.5 70.5,189.0 70.5,171.0 64.80000000000001,166.5\" stroke=\"red\" stroke-width=\"1\" /><polygon points=\"-3.0,-3.0 0,0 3.0,-3.0 0,3.0\" stroke=\"black\" stroke-width=\"1\" transform=\"translate(60.0,180.0) rotate(180.0)\" /></svg>"
      }
     },
     "9c2622b5ced945f9bd114ca0ac55b7a1": {
      "model_module": "@jupyter-widgets/controls",
      "model_module_version": "1.1.0",
      "model_name": "HTMLModel",
      "state": {
       "layout": "IPY_MODEL_780cb4bb08ec4e42a427dd3127833598",
       "style": "IPY_MODEL_9091d83a013b4acbabe7c6aee57bd8a2",
       "value": "<svg baseProfile=\"full\" height=\"240\" version=\"1.1\" width=\"240\" xmlns=\"http://www.w3.org/2000/svg\" xmlns:ev=\"http://www.w3.org/2001/xml-events\" xmlns:xlink=\"http://www.w3.org/1999/xlink\"><defs /><rect fill=\"#eef3dd\" height=\"240.0\" stroke=\"#bebebe\" stroke-width=\"1\" width=\"120.0\" x=\"0.0\" y=\"0.0\" /><line fill=\"#800080\" stroke=\"#add8e6\" stroke-width=\"1\" x1=\"49.5\" x2=\"0.0\" y1=\"174.0\" y2=\"174.0\" /><line fill=\"#800080\" stroke=\"#add8e6\" stroke-width=\"1\" x1=\"51.0\" x2=\"0.0\" y1=\"169.8\" y2=\"146.01830999999999\" /><line fill=\"#800080\" stroke=\"#add8e6\" stroke-width=\"1\" x1=\"53.4\" x2=\"0.0\" y1=\"168.0\" y2=\"104.360358\" /><line fill=\"#800080\" stroke=\"#add8e6\" stroke-width=\"1\" x1=\"57.0\" x2=\"12.386458737015545\" y1=\"166.5\" y2=\"0.0\" /><line fill=\"#800080\" stroke=\"#add8e6\" stroke-width=\"1\" x1=\"63.0\" x2=\"107.61354126298446\" y1=\"166.5\" y2=\"0.0\" /><line fill=\"#800080\" stroke=\"#add8e6\" stroke-width=\"1\" x1=\"66.60000000000001\" x2=\"120.0\" y1=\"168.0\" y2=\"104.360358\" /><line fill=\"#800080\" stroke=\"#add8e6\" stroke-width=\"1\" x1=\"69.0\" x2=\"120.0\" y1=\"169.8\" y2=\"146.01830999999999\" /><line fill=\"#800080\" stroke=\"#add8e6\" stroke-width=\"1\" x1=\"70.5\" x2=\"120.0\" y1=\"174.0\" y2=\"174.0\" /><polygon fill=\"red\" points=\"55.2,166.5 49.5,171.0 49.5,189.0 55.2,193.5 64.80000000000001,193.5 70.5,189.0 70.5,171.0 64.80000000000001,166.5\" stroke=\"red\" stroke-width=\"1\" /><polygon points=\"-3.0,-3.0 0,0 3.0,-3.0 0,3.0\" stroke=\"black\" stroke-width=\"1\" transform=\"translate(60.0,180.0) rotate(180.0)\" /></svg>"
      }
     },
     "9c6c9fec09ee4b1cb1fc062eb7f7a4d2": {
      "model_module": "@jupyter-widgets/controls",
      "model_module_version": "1.1.0",
      "model_name": "VBoxModel",
      "state": {
       "children": [
        "IPY_MODEL_267bb6afbfe7413d85e6aa293dbe2366",
        "IPY_MODEL_cc78a5ab3d1247e9a919a3993a8f8b45"
       ],
       "layout": "IPY_MODEL_704c22c1ae0241f99d9d2b54fb4e3cc7"
      }
     },
     "9c841b0d7f2548f781ce981ef918eeda": {
      "model_module": "@jupyter-widgets/controls",
      "model_module_version": "1.1.0",
      "model_name": "ButtonStyleModel",
      "state": {}
     },
     "9c954b6e8b2240df8fbb68363042971c": {
      "model_module": "@jupyter-widgets/controls",
      "model_module_version": "1.1.0",
      "model_name": "HTMLModel",
      "state": {
       "layout": "IPY_MODEL_488eacea00584a79b8ed690a2bab1a3f",
       "style": "IPY_MODEL_3c25f5a34b8546908479c638e33f9590",
       "value": "<img style=\"image-rendering: pixelated;\" src=\"data:image/gif;base64,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\" width=\"240\"/>"
      }
     },
     "9cd3a45cce1f486d8d06793e9d9139e8": {
      "model_module": "@jupyter-widgets/controls",
      "model_module_version": "1.1.0",
      "model_name": "FloatSliderModel",
      "state": {
       "layout": "IPY_MODEL_e69229ae0fee430aac7abcb35ff8e8e2",
       "readout": false,
       "step": 0.1,
       "style": "IPY_MODEL_39b0cc798eb04e4c87d98e5603052343",
       "value": 50
      }
     },
     "9d097fd3fb9945ac900ad842c25e6ba7": {
      "model_module": "@jupyter-widgets/base",
      "model_module_version": "1.0.0",
      "model_name": "LayoutModel",
      "state": {}
     },
     "9d237f6fbc304fb9b03bb5ebabf1bd1b": {
      "model_module": "@jupyter-widgets/controls",
      "model_module_version": "1.1.0",
      "model_name": "SliderStyleModel",
      "state": {
       "description_width": ""
      }
     },
     "9d3330124429415b96e7994d6b411ea4": {
      "model_module": "@jupyter-widgets/controls",
      "model_module_version": "1.1.0",
      "model_name": "PlayModel",
      "state": {
       "layout": "IPY_MODEL_3442d1fbf767444583c83a975b945623",
       "max": 1000000,
       "style": "IPY_MODEL_f181574844d54a04b4184c49724673db",
       "value": 330
      }
     },
     "9d73b1cbfb984fa7b6f24860af64da9c": {
      "model_module": "@jupyter-widgets/base",
      "model_module_version": "1.0.0",
      "model_name": "LayoutModel",
      "state": {}
     },
     "9d8f560ee1e6411eb0752f081cec8854": {
      "model_module": "@jupyter-widgets/controls",
      "model_module_version": "1.1.0",
      "model_name": "DescriptionStyleModel",
      "state": {
       "description_width": ""
      }
     },
     "9dcc8500e73047f6817913a36d587ce3": {
      "model_module": "@jupyter-widgets/controls",
      "model_module_version": "1.1.0",
      "model_name": "DescriptionStyleModel",
      "state": {
       "description_width": ""
      }
     },
     "9e1447aebd5448dfb407e526b7ac7b8f": {
      "model_module": "@jupyter-widgets/controls",
      "model_module_version": "1.1.0",
      "model_name": "HBoxModel",
      "state": {
       "children": [
        "IPY_MODEL_e1fa02e7708e4b41abb62dafe982defe",
        "IPY_MODEL_aba6602794d54846b165285cc8e91b76",
        "IPY_MODEL_e61f8e565ecf4f3f91f650ce9b5f2ef4"
       ],
       "layout": "IPY_MODEL_c1b87abe34144cd8ac7de828d3e3b494"
      }
     },
     "9e3a3a44ca2e4de1942c85878ffd766c": {
      "model_module": "@jupyter-widgets/controls",
      "model_module_version": "1.1.0",
      "model_name": "DescriptionStyleModel",
      "state": {
       "description_width": ""
      }
     },
     "9e3ca6c5a4c94a63b2f2fcd2b324cbf3": {
      "model_module": "@jupyter-widgets/base",
      "model_module_version": "1.0.0",
      "model_name": "LayoutModel",
      "state": {}
     },
     "9e5f6868563a49ff8e930482ce1f2307": {
      "model_module": "@jupyter-widgets/controls",
      "model_module_version": "1.1.0",
      "model_name": "SliderStyleModel",
      "state": {
       "description_width": ""
      }
     },
     "9e97d531303f45e283cf889d79be9cd4": {
      "model_module": "@jupyter-widgets/controls",
      "model_module_version": "1.1.0",
      "model_name": "IntTextModel",
      "state": {
       "description": "Feature to show:",
       "layout": "IPY_MODEL_af8947dcdaf34aa7bcf92da48870a25c",
       "step": 1,
       "style": "IPY_MODEL_7e14561bd3884494a13b94bcbc7865c3"
      }
     },
     "9f306790764641448985f6463661848b": {
      "model_module": "@jupyter-widgets/controls",
      "model_module_version": "1.1.0",
      "model_name": "ButtonModel",
      "state": {
       "description": "Clear Output",
       "layout": "IPY_MODEL_b6166588d4fc41fa91f0cdc05a648920",
       "style": "IPY_MODEL_858bc4787657414687bb59a94b44d4c6"
      }
     },
     "9f4009ad040d46a2b43053a1f5e3b53e": {
      "model_module": "@jupyter-widgets/output",
      "model_module_version": "1.1.0",
      "model_name": "OutputModel",
      "state": {
       "_model_module_version": "1.1.0",
       "_view_module_version": "1.1.0",
       "layout": "IPY_MODEL_dcb3a16d0e8a44cba706e5d3b0dd1c41"
      }
     },
     "9f973830ec034abdbc14ad927c683dfa": {
      "model_module": "@jupyter-widgets/base",
      "model_module_version": "1.0.0",
      "model_name": "LayoutModel",
      "state": {}
     },
     "9fa573233853471395f9d393592ea468": {
      "model_module": "@jupyter-widgets/base",
      "model_module_version": "1.0.0",
      "model_name": "LayoutModel",
      "state": {}
     },
     "9fc0c9d5bd95415593a2424974d1e4b4": {
      "model_module": "@jupyter-widgets/base",
      "model_module_version": "1.0.0",
      "model_name": "LayoutModel",
      "state": {}
     },
     "a02a070df731490194fed07b873de3f9": {
      "model_module": "@jupyter-widgets/controls",
      "model_module_version": "1.1.0",
      "model_name": "DescriptionStyleModel",
      "state": {
       "description_width": ""
      }
     },
     "a066edf153ad465b8b7c1aa77bab25a8": {
      "model_module": "@jupyter-widgets/controls",
      "model_module_version": "1.1.0",
      "model_name": "PlayModel",
      "state": {
       "layout": "IPY_MODEL_a1b61e789c1e41878882922dbb75811a",
       "max": 1000000,
       "style": "IPY_MODEL_d65bd0b180a44255badfa33f13432bba",
       "value": 102
      }
     },
     "a070ca94b18a4d0487225d61824d7ccf": {
      "model_module": "@jupyter-widgets/controls",
      "model_module_version": "1.1.0",
      "model_name": "TextModel",
      "state": {
       "description": "Time:",
       "layout": "IPY_MODEL_170d2df66d7b4f0a98c853cd0ddec813",
       "style": "IPY_MODEL_a9ddf83dd1a44909bb726428aa891060",
       "value": "19.10 seconds"
      }
     },
     "a08bc13387b64a27a1171a3b596c503a": {
      "model_module": "@jupyter-widgets/controls",
      "model_module_version": "1.1.0",
      "model_name": "VBoxModel",
      "state": {
       "children": [
        "IPY_MODEL_d83ef905fbe34453a5971b414bfbeba4",
        "IPY_MODEL_8b2cf774b7444a18be356fd51fe508ef",
        "IPY_MODEL_3d856610af6642b7841f999372d94cc3",
        "IPY_MODEL_34c11b84b8ad430297a7c6d713294df7",
        "IPY_MODEL_fc1623a1597d4455b07be58d573d1aec",
        "IPY_MODEL_a4a24e4144fb42a6bcb7e4f286d679f4",
        "IPY_MODEL_9e97d531303f45e283cf889d79be9cd4"
       ],
       "layout": "IPY_MODEL_f3d2431517104d00ab382fa3e58b89dd"
      }
     },
     "a096cc0aa00f44ba95326db7a84ba686": {
      "model_module": "@jupyter-widgets/controls",
      "model_module_version": "1.1.0",
      "model_name": "VBoxModel",
      "state": {
       "children": [
        "IPY_MODEL_5e83f06b94524c90954ee89e9236010a",
        "IPY_MODEL_487da4f5846a4080a24dba57733411f0",
        "IPY_MODEL_e65b9d5cf6f54feebbe4a25be97c0a40"
       ],
       "layout": "IPY_MODEL_a6a65409813b40cea5fa444df1b8dbc3"
      }
     },
     "a0c6a365b6104c27a19b09f1f7edc9b8": {
      "model_module": "@jupyter-widgets/controls",
      "model_module_version": "1.1.0",
      "model_name": "ButtonModel",
      "state": {
       "icon": "step-forward",
       "layout": "IPY_MODEL_58ca4cbe5d134255b1c1475d9d647c7b",
       "style": "IPY_MODEL_f8498f06d9d9455dab090c17cf6e9d21"
      }
     },
     "a0d85ff5194d4d4bb4713c2f5bdec9a2": {
      "model_module": "@jupyter-widgets/controls",
      "model_module_version": "1.1.0",
      "model_name": "SliderStyleModel",
      "state": {
       "description_width": ""
      }
     },
     "a0ee21e8d6d94d57994ebbfd0ad26295": {
      "model_module": "@jupyter-widgets/controls",
      "model_module_version": "1.1.0",
      "model_name": "TextModel",
      "state": {
       "description": "Time:",
       "layout": "IPY_MODEL_28e5d4a34ec54abc995a023f00227ffe",
       "style": "IPY_MODEL_c3bcb11197c643129e465b1496043ae9",
       "value": "0.00 seconds"
      }
     },
     "a103d929a298460d8140df8f5182f54a": {
      "model_module": "@jupyter-widgets/controls",
      "model_module_version": "1.1.0",
      "model_name": "DescriptionStyleModel",
      "state": {
       "description_width": ""
      }
     },
     "a122cc5d957b45d28acf1f8c31851ccf": {
      "model_module": "@jupyter-widgets/base",
      "model_module_version": "1.0.0",
      "model_name": "LayoutModel",
      "state": {}
     },
     "a14071f46e3745098e1b2ae6ed3fc200": {
      "model_module": "@jupyter-widgets/base",
      "model_module_version": "1.0.0",
      "model_name": "LayoutModel",
      "state": {}
     },
     "a1484912fbc74c8eb61132261ce2ddee": {
      "model_module": "@jupyter-widgets/base",
      "model_module_version": "1.0.0",
      "model_name": "LayoutModel",
      "state": {
       "height": "30px",
       "padding": "0px 0px 0px 10px",
       "width": "260px"
      }
     },
     "a165fee67ab84914828a0a74e72cf6f3": {
      "model_module": "@jupyter-widgets/base",
      "model_module_version": "1.0.0",
      "model_name": "LayoutModel",
      "state": {}
     },
     "a166fc6a773b4c97960540abfac5ea6f": {
      "model_module": "@jupyter-widgets/controls",
      "model_module_version": "1.1.0",
      "model_name": "SliderStyleModel",
      "state": {
       "description_width": ""
      }
     },
     "a1af4ead8fbc4ecca8ad91de59e21fe8": {
      "model_module": "@jupyter-widgets/base",
      "model_module_version": "1.0.0",
      "model_name": "LayoutModel",
      "state": {}
     },
     "a1b61e789c1e41878882922dbb75811a": {
      "model_module": "@jupyter-widgets/base",
      "model_module_version": "1.0.0",
      "model_name": "LayoutModel",
      "state": {}
     },
     "a1d2c541e05c459fa893d50fafb83484": {
      "model_module": "@jupyter-widgets/base",
      "model_module_version": "1.0.0",
      "model_name": "LayoutModel",
      "state": {}
     },
     "a1d6d90474b14660a244eea2af34e8be": {
      "model_module": "@jupyter-widgets/controls",
      "model_module_version": "1.1.0",
      "model_name": "PlayModel",
      "state": {
       "layout": "IPY_MODEL_48e36ad350f54c14b4a120683cb3679a",
       "max": 1000000,
       "style": "IPY_MODEL_a8dbeb2b3c8144f5b5ffade04111c646",
       "value": 1
      }
     },
     "a1f78f46f1ba481095c0124af4a4b30f": {
      "model_module": "@jupyter-widgets/controls",
      "model_module_version": "1.1.0",
      "model_name": "HBoxModel",
      "state": {
       "children": [
        "IPY_MODEL_553ae781c7864eee80e8b78e6b28d308",
        "IPY_MODEL_f5f3913766a047c6916724a31301573f"
       ],
       "layout": "IPY_MODEL_98a574c41655441aa7b087524d4fbd56"
      }
     },
     "a229810d703e4369b952637de70cdf9d": {
      "model_module": "@jupyter-widgets/controls",
      "model_module_version": "1.1.0",
      "model_name": "ButtonStyleModel",
      "state": {}
     },
     "a22b44453e02470eb4efc033c081ad52": {
      "model_module": "@jupyter-widgets/controls",
      "model_module_version": "1.1.0",
      "model_name": "DescriptionStyleModel",
      "state": {
       "description_width": ""
      }
     },
     "a234fa92035140e4b53967ee75c96674": {
      "model_module": "@jupyter-widgets/base",
      "model_module_version": "1.0.0",
      "model_name": "LayoutModel",
      "state": {}
     },
     "a24870b5df3b4aa690c842ab00d8edd1": {
      "model_module": "@jupyter-widgets/base",
      "model_module_version": "1.0.0",
      "model_name": "LayoutModel",
      "state": {}
     },
     "a27ef8e23bef475883a452016b546110": {
      "model_module": "@jupyter-widgets/controls",
      "model_module_version": "1.1.0",
      "model_name": "ButtonStyleModel",
      "state": {}
     },
     "a28f0e3e1f1443dda911eab148f9abfc": {
      "model_module": "@jupyter-widgets/base",
      "model_module_version": "1.0.0",
      "model_name": "LayoutModel",
      "state": {}
     },
     "a2a49dc53dde460b9574b505431f617b": {
      "model_module": "@jupyter-widgets/controls",
      "model_module_version": "1.1.0",
      "model_name": "FloatSliderModel",
      "state": {
       "layout": "IPY_MODEL_7e30c11d74c046b4827e139a56b8088d",
       "readout": false,
       "step": 0.1,
       "style": "IPY_MODEL_8bb21b3bba344e95a5f1dff3a5f2c2ea",
       "value": 50
      }
     },
     "a3010b7d4642439bb05a49f6ce7d3ecd": {
      "model_module": "@jupyter-widgets/controls",
      "model_module_version": "1.1.0",
      "model_name": "HBoxModel",
      "state": {
       "children": [
        "IPY_MODEL_a4002ccb44734147a27d1978047e1b57",
        "IPY_MODEL_7a3a75255d264e67814068b9a79daa44",
        "IPY_MODEL_538d7b666bb54ae4a9cb9e6f44a42f78"
       ],
       "layout": "IPY_MODEL_34c8fea4675c4e39a3cadbe304d091f7"
      }
     },
     "a3070482a1da4a3c862c012bb75054e8": {
      "model_module": "@jupyter-widgets/controls",
      "model_module_version": "1.1.0",
      "model_name": "FloatSliderModel",
      "state": {
       "layout": "IPY_MODEL_bb1fda153dae4d33b05822e50a61f0c8",
       "orientation": "vertical",
       "readout": false,
       "step": 0.1,
       "style": "IPY_MODEL_028fb90dad1945e68e12e1a5d54a7897",
       "value": 25
      }
     },
     "a326756631dc4c3d87019a8c4ec1e2d7": {
      "model_module": "@jupyter-widgets/controls",
      "model_module_version": "1.1.0",
      "model_name": "HTMLModel",
      "state": {
       "layout": "IPY_MODEL_55d8a49ee85d4a3abc5027aa6ed937b4",
       "style": "IPY_MODEL_3c49fb1da05f4ae6898a61356701d9a5",
       "value": "<img style=\"image-rendering: pixelated;\" src=\"data:image/gif;base64,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\" width=\"240\"/>"
      }
     },
     "a39c86e36bbe4232a5a97a064eab4b82": {
      "model_module": "@jupyter-widgets/controls",
      "model_module_version": "1.1.0",
      "model_name": "VBoxModel",
      "state": {
       "children": [
        "IPY_MODEL_36ab4449f68044b18c539fb2d91299ca",
        "IPY_MODEL_bd51fdb3cf8f433396bd1b4828f525b9",
        "IPY_MODEL_25b4143bc375464a9db4205ebf95670a"
       ],
       "layout": "IPY_MODEL_a605f4e5db9b4940aa438f17e21f88ae"
      }
     },
     "a3ad3f8a9f91430e8bd4c58394932b41": {
      "model_module": "@jupyter-widgets/base",
      "model_module_version": "1.0.0",
      "model_name": "LayoutModel",
      "state": {}
     },
     "a4002ccb44734147a27d1978047e1b57": {
      "model_module": "@jupyter-widgets/controls",
      "model_module_version": "1.1.0",
      "model_name": "CheckboxModel",
      "state": {
       "description": "Update GUI",
       "disabled": false,
       "layout": "IPY_MODEL_0656a2c5e9a64687965c845afda26283",
       "style": "IPY_MODEL_78f61471dbd24be38e4cbe985a9b062d",
       "value": true
      }
     },
     "a45944979fe04e8eae8ee8b77e5b2962": {
      "model_module": "@jupyter-widgets/controls",
      "model_module_version": "1.1.0",
      "model_name": "DescriptionStyleModel",
      "state": {
       "description_width": ""
      }
     },
     "a4707e69640b455db6d6882c0d346388": {
      "model_module": "@jupyter-widgets/controls",
      "model_module_version": "1.1.0",
      "model_name": "ButtonStyleModel",
      "state": {}
     },
     "a4708bc4ceda4fb6b6b00a8d87e2b173": {
      "model_module": "@jupyter-widgets/base",
      "model_module_version": "1.0.0",
      "model_name": "LayoutModel",
      "state": {}
     },
     "a4a24e4144fb42a6bcb7e4f286d679f4": {
      "model_module": "@jupyter-widgets/controls",
      "model_module_version": "1.1.0",
      "model_name": "FloatTextModel",
      "state": {
       "description": "Rightmost color maps to:",
       "layout": "IPY_MODEL_dba70fada4d7456a800e06da5f976f3a",
       "step": null,
       "style": "IPY_MODEL_fa67bde1a30f4ec5a5f93a28d8f440fc",
       "value": 1
      }
     },
     "a4b33279813a4676b2e04352eda70ac7": {
      "model_module": "@jupyter-widgets/base",
      "model_module_version": "1.0.0",
      "model_name": "LayoutModel",
      "state": {}
     },
     "a4ca1d89836147a09dc3f6d38f52f823": {
      "model_module": "@jupyter-widgets/controls",
      "model_module_version": "1.1.0",
      "model_name": "HBoxModel",
      "state": {
       "children": [
        "IPY_MODEL_a0c6a365b6104c27a19b09f1f7edc9b8",
        "IPY_MODEL_b08d69747abe4278b60e4f998309ae75",
        "IPY_MODEL_8b5d789a360243f194bde852a22baa79"
       ],
       "layout": "IPY_MODEL_10dfc40511b6467d8d4fd7f4c3386eb6"
      }
     },
     "a50a8c8fd42d405d887ca4bd48ed222f": {
      "model_module": "@jupyter-widgets/base",
      "model_module_version": "1.0.0",
      "model_name": "LayoutModel",
      "state": {}
     },
     "a5159651f2c04cf8b67a85e5b0ef946a": {
      "model_module": "@jupyter-widgets/base",
      "model_module_version": "1.0.0",
      "model_name": "LayoutModel",
      "state": {}
     },
     "a51de1b2a9df4e49b44c92a0435689b3": {
      "model_module": "@jupyter-widgets/base",
      "model_module_version": "1.0.0",
      "model_name": "LayoutModel",
      "state": {
       "height": "20px",
       "padding": "0px 0px 0px 0px",
       "width": "248px"
      }
     },
     "a579ff072c7545abaf7386d63c386a33": {
      "model_module": "@jupyter-widgets/base",
      "model_module_version": "1.0.0",
      "model_name": "LayoutModel",
      "state": {}
     },
     "a5a8bc1bcf81413c90f1ad957d714408": {
      "model_module": "@jupyter-widgets/base",
      "model_module_version": "1.0.0",
      "model_name": "LayoutModel",
      "state": {}
     },
     "a5b000a37d054deb82fb1e6f8d99fa8a": {
      "model_module": "@jupyter-widgets/base",
      "model_module_version": "1.0.0",
      "model_name": "LayoutModel",
      "state": {}
     },
     "a5b6cd55d0494b9498e7c20eb1888371": {
      "model_module": "@jupyter-widgets/base",
      "model_module_version": "1.0.0",
      "model_name": "LayoutModel",
      "state": {}
     },
     "a5efe4cc4ec547afb49eed08948628dc": {
      "model_module": "@jupyter-widgets/base",
      "model_module_version": "1.0.0",
      "model_name": "LayoutModel",
      "state": {}
     },
     "a605f4e5db9b4940aa438f17e21f88ae": {
      "model_module": "@jupyter-widgets/base",
      "model_module_version": "1.0.0",
      "model_name": "LayoutModel",
      "state": {}
     },
     "a636f22e336f4cb5922f56cec40b87d7": {
      "model_module": "@jupyter-widgets/base",
      "model_module_version": "1.0.0",
      "model_name": "LayoutModel",
      "state": {
       "height": "30px",
       "padding": "0px 0px 0px 10px",
       "width": "260px"
      }
     },
     "a6a65409813b40cea5fa444df1b8dbc3": {
      "model_module": "@jupyter-widgets/base",
      "model_module_version": "1.0.0",
      "model_name": "LayoutModel",
      "state": {}
     },
     "a6b118c838d6416e8fe4cc5207ca4311": {
      "model_module": "@jupyter-widgets/controls",
      "model_module_version": "1.1.0",
      "model_name": "SliderStyleModel",
      "state": {
       "description_width": ""
      }
     },
     "a6eda0f8d3114320ae13a81f0d228f92": {
      "model_module": "@jupyter-widgets/base",
      "model_module_version": "1.0.0",
      "model_name": "LayoutModel",
      "state": {}
     },
     "a707b7d6cb6d4413887b824f7459ff50": {
      "model_module": "@jupyter-widgets/base",
      "model_module_version": "1.0.0",
      "model_name": "LayoutModel",
      "state": {
       "height": "248px",
       "padding": "0px 0px 0px 0px",
       "width": "10px"
      }
     },
     "a72918ebb8094e60a7452afced01cf30": {
      "model_module": "@jupyter-widgets/base",
      "model_module_version": "1.0.0",
      "model_name": "LayoutModel",
      "state": {}
     },
     "a77c218148da445197ba92a5d38cb6ad": {
      "model_module": "@jupyter-widgets/controls",
      "model_module_version": "1.1.0",
      "model_name": "ButtonModel",
      "state": {
       "description": "Clear Output",
       "layout": "IPY_MODEL_7c38043c2959441a90a384a9200dc1a5",
       "style": "IPY_MODEL_85d4dc7616e046e9ba1190db54bc5a55"
      }
     },
     "a81a858ee02f4b2f820136e5ac3ea105": {
      "model_module": "@jupyter-widgets/controls",
      "model_module_version": "1.1.0",
      "model_name": "DescriptionStyleModel",
      "state": {
       "description_width": ""
      }
     },
     "a847a7074b144c73b306b6ca828f73af": {
      "model_module": "@jupyter-widgets/base",
      "model_module_version": "1.0.0",
      "model_name": "LayoutModel",
      "state": {}
     },
     "a8d34dff267c480292c7c3ffdb3fe61c": {
      "model_module": "@jupyter-widgets/controls",
      "model_module_version": "1.1.0",
      "model_name": "ButtonStyleModel",
      "state": {}
     },
     "a8dbeb2b3c8144f5b5ffade04111c646": {
      "model_module": "@jupyter-widgets/controls",
      "model_module_version": "1.1.0",
      "model_name": "DescriptionStyleModel",
      "state": {
       "description_width": ""
      }
     },
     "a91f23ecc1f14490a639fabaf57d65fe": {
      "model_module": "@jupyter-widgets/controls",
      "model_module_version": "1.1.0",
      "model_name": "ButtonStyleModel",
      "state": {}
     },
     "a939d30b945c4a53af2fcb6dea9bf5d5": {
      "model_module": "@jupyter-widgets/controls",
      "model_module_version": "1.1.0",
      "model_name": "DescriptionStyleModel",
      "state": {
       "description_width": ""
      }
     },
     "a9536af6c9a5434183864b5727a59dbf": {
      "model_module": "@jupyter-widgets/controls",
      "model_module_version": "1.1.0",
      "model_name": "CheckboxModel",
      "state": {
       "description": "Update GUI",
       "disabled": false,
       "layout": "IPY_MODEL_fb1e2ad8919e457388de21f76a4628d2",
       "style": "IPY_MODEL_a9e3ed6dfa1f403a84a8d0e96a25c685",
       "value": true
      }
     },
     "a9d4393960b64172bcae16631730b468": {
      "model_module": "@jupyter-widgets/controls",
      "model_module_version": "1.1.0",
      "model_name": "CheckboxModel",
      "state": {
       "description": "Trace Path",
       "disabled": false,
       "layout": "IPY_MODEL_96cff513efa04c18ac647fed66138e5d",
       "style": "IPY_MODEL_63a41179a8ab4f59a3dec5e6e7caea44",
       "value": false
      }
     },
     "a9ddf83dd1a44909bb726428aa891060": {
      "model_module": "@jupyter-widgets/controls",
      "model_module_version": "1.1.0",
      "model_name": "DescriptionStyleModel",
      "state": {
       "description_width": ""
      }
     },
     "a9e3ed6dfa1f403a84a8d0e96a25c685": {
      "model_module": "@jupyter-widgets/controls",
      "model_module_version": "1.1.0",
      "model_name": "DescriptionStyleModel",
      "state": {
       "description_width": ""
      }
     },
     "aa09fbde3f71407886f2a127c089dcb9": {
      "model_module": "@jupyter-widgets/base",
      "model_module_version": "1.0.0",
      "model_name": "LayoutModel",
      "state": {
       "height": "30px",
       "padding": "0px 0px 0px 10px",
       "width": "260px"
      }
     },
     "aa30f58ce3594e4caa25e3787fea6b48": {
      "model_module": "@jupyter-widgets/controls",
      "model_module_version": "1.1.0",
      "model_name": "DescriptionStyleModel",
      "state": {
       "description_width": ""
      }
     },
     "aa7b6241a56d4bd4812adaff4901aa19": {
      "model_module": "@jupyter-widgets/controls",
      "model_module_version": "1.1.0",
      "model_name": "FloatSliderModel",
      "state": {
       "layout": "IPY_MODEL_b6c3e9f34c0f4de095b6a23cf9b556cf",
       "readout": false,
       "step": 0.1,
       "style": "IPY_MODEL_43d13c9cef334a69af65150c083e41b1",
       "value": 100
      }
     },
     "aaa8d778023e4b12b1c0a1859adf0385": {
      "model_module": "@jupyter-widgets/base",
      "model_module_version": "1.0.0",
      "model_name": "LayoutModel",
      "state": {}
     },
     "aaaa5337512d4cb392accf04dd699dbf": {
      "model_module": "@jupyter-widgets/controls",
      "model_module_version": "1.1.0",
      "model_name": "HTMLModel",
      "state": {
       "layout": "IPY_MODEL_ca05dd45bfc74394b1edaf584abb66a2",
       "style": "IPY_MODEL_bdea04b5c00c46a78cdec9b4c6b505b5",
       "value": "<svg baseProfile=\"full\" height=\"240\" version=\"1.1\" width=\"240\" xmlns=\"http://www.w3.org/2000/svg\" xmlns:ev=\"http://www.w3.org/2001/xml-events\" xmlns:xlink=\"http://www.w3.org/1999/xlink\"><defs /><rect fill=\"#eef3dd\" height=\"240.0\" stroke=\"#bebebe\" stroke-width=\"1\" width=\"120.0\" x=\"0.0\" y=\"0.0\" /><line fill=\"#800080\" stroke=\"#add8e6\" stroke-width=\"1\" x1=\"49.5\" x2=\"0.0\" y1=\"174.0\" y2=\"174.0\" /><line fill=\"#800080\" stroke=\"#add8e6\" stroke-width=\"1\" x1=\"51.0\" x2=\"0.0\" y1=\"169.8\" y2=\"146.01830999999999\" /><line fill=\"#800080\" stroke=\"#add8e6\" stroke-width=\"1\" x1=\"53.4\" x2=\"0.0\" y1=\"168.0\" y2=\"104.360358\" /><line fill=\"#800080\" stroke=\"#add8e6\" stroke-width=\"1\" x1=\"57.0\" x2=\"12.386458737015545\" y1=\"166.5\" y2=\"0.0\" /><line fill=\"#800080\" stroke=\"#add8e6\" stroke-width=\"1\" x1=\"63.0\" x2=\"107.61354126298446\" y1=\"166.5\" y2=\"0.0\" /><line fill=\"#800080\" stroke=\"#add8e6\" stroke-width=\"1\" x1=\"66.60000000000001\" x2=\"120.0\" y1=\"168.0\" y2=\"104.360358\" /><line fill=\"#800080\" stroke=\"#add8e6\" stroke-width=\"1\" x1=\"69.0\" x2=\"120.0\" y1=\"169.8\" y2=\"146.01830999999999\" /><line fill=\"#800080\" stroke=\"#add8e6\" stroke-width=\"1\" x1=\"70.5\" x2=\"120.0\" y1=\"174.0\" y2=\"174.0\" /><polygon fill=\"red\" points=\"55.2,166.5 49.5,171.0 49.5,189.0 55.2,193.5 64.80000000000001,193.5 70.5,189.0 70.5,171.0 64.80000000000001,166.5\" stroke=\"red\" stroke-width=\"1\" /><polygon points=\"-3.0,-3.0 0,0 3.0,-3.0 0,3.0\" stroke=\"black\" stroke-width=\"1\" transform=\"translate(60.0,180.0) rotate(180.0)\" /></svg>"
      }
     },
     "aad8fc2cc26742208221780cfc51e59c": {
      "model_module": "@jupyter-widgets/base",
      "model_module_version": "1.0.0",
      "model_name": "LayoutModel",
      "state": {}
     },
     "ab04b3d64fa04e9d8830e3ab3fff7b74": {
      "model_module": "@jupyter-widgets/controls",
      "model_module_version": "1.1.0",
      "model_name": "DescriptionStyleModel",
      "state": {
       "description_width": ""
      }
     },
     "ab1922fb694e400e89edae3fb95cf3db": {
      "model_module": "@jupyter-widgets/controls",
      "model_module_version": "1.1.0",
      "model_name": "DescriptionStyleModel",
      "state": {
       "description_width": ""
      }
     },
     "ab4b96d0a4004a46bc91d1ea51f708de": {
      "model_module": "@jupyter-widgets/controls",
      "model_module_version": "1.1.0",
      "model_name": "HBoxModel",
      "state": {
       "children": [
        "IPY_MODEL_fcaf2651d6fd4ee3b86967c1cbf930d0",
        "IPY_MODEL_26b5595de0f64e5f8b19fa12cf8f32a1"
       ],
       "layout": "IPY_MODEL_56fba28c78874719b60f0a98731f3619"
      }
     },
     "ab667b4987554e2cb359c237551eb237": {
      "model_module": "@jupyter-widgets/base",
      "model_module_version": "1.0.0",
      "model_name": "LayoutModel",
      "state": {}
     },
     "ab7fe7046a584a38baa65c6c8c554321": {
      "model_module": "@jupyter-widgets/controls",
      "model_module_version": "1.1.0",
      "model_name": "VBoxModel",
      "state": {
       "children": [
        "IPY_MODEL_4cf41fd1baa74fbeb1c42dee8116fca0",
        "IPY_MODEL_322ec0cc6b0445bdbf268b6396b04681",
        "IPY_MODEL_3131ea60a9d044c1b540a7e89b3a60c6"
       ],
       "layout": "IPY_MODEL_210f5db964e44bc29b5343427fb65df3"
      }
     },
     "aba6602794d54846b165285cc8e91b76": {
      "model_module": "@jupyter-widgets/controls",
      "model_module_version": "1.1.0",
      "model_name": "PlayModel",
      "state": {
       "layout": "IPY_MODEL_f3001c0e67d94369ab24bb4df6aa3e47",
       "max": 1000000,
       "style": "IPY_MODEL_d6a79f77eb7d47b799b68269fd42a5fd",
       "value": 83
      }
     },
     "abb38955aa984a8292cf5f10b9c6f7d2": {
      "model_module": "@jupyter-widgets/controls",
      "model_module_version": "1.1.0",
      "model_name": "FloatSliderModel",
      "state": {
       "layout": "IPY_MODEL_c3472df356504aa9b6a7263ae4e1e2c8",
       "readout": false,
       "step": 0.1,
       "style": "IPY_MODEL_3a026ae68e984ba2bd8baf269ff21b5a",
       "value": 50
      }
     },
     "abbe695c09a54d178ea193049c5fed28": {
      "model_module": "@jupyter-widgets/controls",
      "model_module_version": "1.1.0",
      "model_name": "TextModel",
      "state": {
       "description": "Time:",
       "layout": "IPY_MODEL_b84f216f4537482cae0ce1b1945e4516",
       "style": "IPY_MODEL_745467751b4647c3a03113c926b17267",
       "value": "33.00 seconds"
      }
     },
     "ac1eb943ab704d8aa2570dc6f7701574": {
      "model_module": "@jupyter-widgets/controls",
      "model_module_version": "1.1.0",
      "model_name": "VBoxModel",
      "state": {
       "children": [
        "IPY_MODEL_b6f352a5b7dd43e8835de9a02d626e05",
        "IPY_MODEL_5e8a1ef78c304d46a4ce4dd48c9f36b5"
       ],
       "layout": "IPY_MODEL_7a549d2587934789929b51905b8c8262"
      }
     },
     "ac5bf839164648c6a1eaa67cd1911e54": {
      "model_module": "@jupyter-widgets/base",
      "model_module_version": "1.0.0",
      "model_name": "LayoutModel",
      "state": {
       "height": "40px"
      }
     },
     "ac62360c13aa4a399cb83337c4db9ea5": {
      "model_module": "@jupyter-widgets/base",
      "model_module_version": "1.0.0",
      "model_name": "LayoutModel",
      "state": {}
     },
     "acfab7a8dbf84e5593db5d966bf1c100": {
      "model_module": "@jupyter-widgets/controls",
      "model_module_version": "1.1.0",
      "model_name": "SliderStyleModel",
      "state": {
       "description_width": ""
      }
     },
     "ad06b453b7284ab09d4c735e3101f2e7": {
      "model_module": "@jupyter-widgets/controls",
      "model_module_version": "1.1.0",
      "model_name": "VBoxModel",
      "state": {
       "children": [
        "IPY_MODEL_60a1310bb3f44c71af8ffab512528e9c",
        "IPY_MODEL_3967a097c5f1468a96f3f377391f48b1"
       ],
       "layout": "IPY_MODEL_7ba70a0268f244f491fdcecf5acfdcee"
      }
     },
     "ad6cb35e19b44f108da6ed2ec58baa2d": {
      "model_module": "@jupyter-widgets/controls",
      "model_module_version": "1.1.0",
      "model_name": "DescriptionStyleModel",
      "state": {
       "description_width": ""
      }
     },
     "adc0c1163c4b4ca7b90acb954ea9b5ef": {
      "model_module": "@jupyter-widgets/base",
      "model_module_version": "1.0.0",
      "model_name": "LayoutModel",
      "state": {}
     },
     "add73f797d0a4cf5866c969bd25fc4a8": {
      "model_module": "@jupyter-widgets/controls",
      "model_module_version": "1.1.0",
      "model_name": "HBoxModel",
      "state": {
       "children": [
        "IPY_MODEL_6c8df6d088974aa58aba585798686138",
        "IPY_MODEL_78a464fe07f34cafac1f09320fec96fd",
        "IPY_MODEL_4834b2537e1643d2a4b6a791689298db"
       ],
       "layout": "IPY_MODEL_c3f2206f30b84c38b0a71f5b99c0263f"
      }
     },
     "adf0678010084c7e98ab09589506a112": {
      "model_module": "@jupyter-widgets/controls",
      "model_module_version": "1.1.0",
      "model_name": "ButtonModel",
      "state": {
       "icon": "step-forward",
       "layout": "IPY_MODEL_97e6363deccd4b299f5bce65f847ab23",
       "style": "IPY_MODEL_80ca6a5bcfc4468b8c823d26de5fd3f7"
      }
     },
     "ae6794c7005b4b26ac49f306f8933967": {
      "model_module": "@jupyter-widgets/output",
      "model_module_version": "1.1.0",
      "model_name": "OutputModel",
      "state": {
       "_model_module_version": "1.1.0",
       "_view_module_version": "1.1.0",
       "layout": "IPY_MODEL_920675427e3e46f78d197231fdbfde15"
      }
     },
     "ae87ee2854e14f609cf0555cc0012809": {
      "model_module": "@jupyter-widgets/controls",
      "model_module_version": "1.1.0",
      "model_name": "FloatSliderModel",
      "state": {
       "layout": "IPY_MODEL_a51de1b2a9df4e49b44c92a0435689b3",
       "readout": false,
       "step": 0.1,
       "style": "IPY_MODEL_401d600bf30643f9b6b3a9118fbc7952",
       "value": 100
      }
     },
     "ae94df96105044b8b6c580938195297c": {
      "model_module": "@jupyter-widgets/controls",
      "model_module_version": "1.1.0",
      "model_name": "VBoxModel",
      "state": {
       "children": [
        "IPY_MODEL_aec8dc51782b4d29a90e7a0cae308fd3",
        "IPY_MODEL_1d8cddd96caa4f5eb883fbbb3861664e"
       ],
       "layout": "IPY_MODEL_fb5e1e595b324775b588a4100e29bbdc"
      }
     },
     "ae96ec3ad1e54dd786eb8eabc92e5fd8": {
      "model_module": "@jupyter-widgets/base",
      "model_module_version": "1.0.0",
      "model_name": "LayoutModel",
      "state": {}
     },
     "aec8dc51782b4d29a90e7a0cae308fd3": {
      "model_module": "@jupyter-widgets/controls",
      "model_module_version": "1.1.0",
      "model_name": "HBoxModel",
      "state": {
       "children": [
        "IPY_MODEL_5734cb14076c47f78c0a804b97e5a901",
        "IPY_MODEL_b86dee55c7e54f638ca0c0a114226776",
        "IPY_MODEL_abbe695c09a54d178ea193049c5fed28"
       ],
       "layout": "IPY_MODEL_4c8be3e16dd94ee0abce92ea25ce12b1"
      }
     },
     "aef019ee978141cc85f0fa6d89c65eda": {
      "model_module": "@jupyter-widgets/base",
      "model_module_version": "1.0.0",
      "model_name": "LayoutModel",
      "state": {}
     },
     "aefafdf34ac343d198b8f88716e51b18": {
      "model_module": "@jupyter-widgets/controls",
      "model_module_version": "1.1.0",
      "model_name": "ButtonStyleModel",
      "state": {}
     },
     "af1246381f8447bf90d2f0eb11dcbc8e": {
      "model_module": "@jupyter-widgets/base",
      "model_module_version": "1.0.0",
      "model_name": "LayoutModel",
      "state": {}
     },
     "af13a36002f64f87bac4cd78abd95123": {
      "model_module": "@jupyter-widgets/controls",
      "model_module_version": "1.1.0",
      "model_name": "SliderStyleModel",
      "state": {
       "description_width": ""
      }
     },
     "af2039f383784b5d84b65274e91cb0fe": {
      "model_module": "@jupyter-widgets/controls",
      "model_module_version": "1.1.0",
      "model_name": "FloatSliderModel",
      "state": {
       "layout": "IPY_MODEL_ec5ed07ee6024445a4734a0410457c74",
       "readout": false,
       "step": 0.1,
       "style": "IPY_MODEL_40ba7f159de9481cb5deb1d589286a52",
       "value": 50
      }
     },
     "af77d83f3281424abac714a20eafd115": {
      "model_module": "@jupyter-widgets/controls",
      "model_module_version": "1.1.0",
      "model_name": "HBoxModel",
      "state": {
       "children": [
        "IPY_MODEL_bb3c669f5e424b608c4c54b32bc66c31",
        "IPY_MODEL_2ff2587e31df454e8dbdf551ece285ad",
        "IPY_MODEL_98c1a3515dad4132a2d537d309458fe1"
       ],
       "layout": "IPY_MODEL_ac62360c13aa4a399cb83337c4db9ea5"
      }
     },
     "af8947dcdaf34aa7bcf92da48870a25c": {
      "model_module": "@jupyter-widgets/base",
      "model_module_version": "1.0.0",
      "model_name": "LayoutModel",
      "state": {}
     },
     "afba4d00091d4b3687294e833d2ef365": {
      "model_module": "@jupyter-widgets/controls",
      "model_module_version": "1.1.0",
      "model_name": "VBoxModel",
      "state": {
       "children": [
        "IPY_MODEL_77c199fe2b4e45f5828c62f75262b35f",
        "IPY_MODEL_bf3e96f1b6684fa3b33806fd065939ab"
       ],
       "layout": "IPY_MODEL_b307d01ee9214897a7e2aa11135ca146"
      }
     },
     "b010d64361b543e5b96dbd269f9c9eed": {
      "model_module": "@jupyter-widgets/base",
      "model_module_version": "1.0.0",
      "model_name": "LayoutModel",
      "state": {}
     },
     "b011a46b70d941518e8a1c63eac89b07": {
      "model_module": "@jupyter-widgets/controls",
      "model_module_version": "1.1.0",
      "model_name": "SliderStyleModel",
      "state": {
       "description_width": ""
      }
     },
     "b030bf047c824a09a9ddbea0748bf17b": {
      "model_module": "@jupyter-widgets/controls",
      "model_module_version": "1.1.0",
      "model_name": "SliderStyleModel",
      "state": {
       "description_width": ""
      }
     },
     "b04512b48fbd4d7f8fbf425751ad4caf": {
      "model_module": "@jupyter-widgets/controls",
      "model_module_version": "1.1.0",
      "model_name": "HTMLModel",
      "state": {
       "layout": "IPY_MODEL_c6f0a248a81b451e9d840ad09541b774",
       "style": "IPY_MODEL_c899224c7cb9415396fe0ca0c0b87f6a",
       "value": "<img style=\"image-rendering: pixelated;\" src=\"data:image/gif;base64,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\" width=\"240\"/>"
      }
     },
     "b04d6ab1b1a34cc885a047a3ac256b91": {
      "model_module": "@jupyter-widgets/output",
      "model_module_version": "1.1.0",
      "model_name": "OutputModel",
      "state": {
       "_model_module_version": "1.1.0",
       "_view_module_version": "1.1.0",
       "layout": "IPY_MODEL_fe04f582523d44aeadb006fcd0a54bcb"
      }
     },
     "b054cd3025e447b3bab0419c46418716": {
      "model_module": "@jupyter-widgets/controls",
      "model_module_version": "1.1.0",
      "model_name": "VBoxModel",
      "state": {
       "children": [
        "IPY_MODEL_c3094b698e20447e809d46ad37c3cf08",
        "IPY_MODEL_fb14f87936144863a88e382394634fec",
        "IPY_MODEL_d4bc03d5e9bb4acdad7971e7ac6fa5d2"
       ],
       "layout": "IPY_MODEL_b7013329bc0245099030086d83deda38"
      }
     },
     "b080ef271d4945aa993c21bc56d3f712": {
      "model_module": "@jupyter-widgets/base",
      "model_module_version": "1.0.0",
      "model_name": "LayoutModel",
      "state": {}
     },
     "b08d69747abe4278b60e4f998309ae75": {
      "model_module": "@jupyter-widgets/controls",
      "model_module_version": "1.1.0",
      "model_name": "PlayModel",
      "state": {
       "layout": "IPY_MODEL_b0949d9fb4894e5ca15d4b163fb1ea7d",
       "max": 1000000,
       "style": "IPY_MODEL_65009a798e5a4be8a92d9c82f052d818",
       "value": 181
      }
     },
     "b0949d9fb4894e5ca15d4b163fb1ea7d": {
      "model_module": "@jupyter-widgets/base",
      "model_module_version": "1.0.0",
      "model_name": "LayoutModel",
      "state": {}
     },
     "b09a397995014656880766a98eef3e71": {
      "model_module": "@jupyter-widgets/base",
      "model_module_version": "1.0.0",
      "model_name": "LayoutModel",
      "state": {}
     },
     "b09df4e181734d6fb5bfc5c28557e03c": {
      "model_module": "@jupyter-widgets/controls",
      "model_module_version": "1.1.0",
      "model_name": "HBoxModel",
      "state": {
       "children": [
        "IPY_MODEL_07c8db1d406f4df5b15ae54b125215cc",
        "IPY_MODEL_b233ee991cd742858b71ea02165d835d",
        "IPY_MODEL_ffe78ed8da944e01bdfbeff99d75b716"
       ],
       "layout": "IPY_MODEL_3589d93056d44d2cb6c292ae5e4925f8"
      }
     },
     "b09f1a470b8d4b518882987d12637c66": {
      "model_module": "@jupyter-widgets/controls",
      "model_module_version": "1.1.0",
      "model_name": "DescriptionStyleModel",
      "state": {
       "description_width": ""
      }
     },
     "b0c00eec5f4544a48e83ff7ca135c44b": {
      "model_module": "@jupyter-widgets/controls",
      "model_module_version": "1.1.0",
      "model_name": "PlayModel",
      "state": {
       "layout": "IPY_MODEL_8bf228d943234d62b9536ad3c4c2dddd",
       "max": 1000000,
       "style": "IPY_MODEL_9e3a3a44ca2e4de1942c85878ffd766c"
      }
     },
     "b0cbfec2a58346b2bfd4bb4c59da0ece": {
      "model_module": "@jupyter-widgets/controls",
      "model_module_version": "1.1.0",
      "model_name": "HBoxModel",
      "state": {
       "children": [
        "IPY_MODEL_294cca0779194f59be0f598d43d28190",
        "IPY_MODEL_68120c99e70f48689c44783d6b50b8b0"
       ],
       "layout": "IPY_MODEL_a5b6cd55d0494b9498e7c20eb1888371"
      }
     },
     "b0e3c9fd96c746a0b9c323eeed35e94a": {
      "model_module": "@jupyter-widgets/base",
      "model_module_version": "1.0.0",
      "model_name": "LayoutModel",
      "state": {}
     },
     "b126864f6e2a4be0ad7c1ffab8154a4e": {
      "model_module": "@jupyter-widgets/controls",
      "model_module_version": "1.1.0",
      "model_name": "ButtonModel",
      "state": {
       "description": "Clear Output",
       "layout": "IPY_MODEL_e646533237144d149e58ad85fb251930",
       "style": "IPY_MODEL_b24ada2bd2464386b6db0fbc2492aaf4"
      }
     },
     "b156f6620e554e0ca3df071a75cd67d1": {
      "model_module": "@jupyter-widgets/output",
      "model_module_version": "1.1.0",
      "model_name": "OutputModel",
      "state": {
       "_model_module_version": "1.1.0",
       "_view_module_version": "1.1.0",
       "layout": "IPY_MODEL_4aa928ad37504ec8a47e370ea19988f4"
      }
     },
     "b157d3ec0fdf4f4cb88e86c75aaad79f": {
      "model_module": "@jupyter-widgets/base",
      "model_module_version": "1.0.0",
      "model_name": "LayoutModel",
      "state": {}
     },
     "b1c602500b40471d9e0f906495fcc0fa": {
      "model_module": "@jupyter-widgets/base",
      "model_module_version": "1.0.0",
      "model_name": "LayoutModel",
      "state": {}
     },
     "b1ce53d45f904ef8b18e02fa5a48c0f4": {
      "model_module": "@jupyter-widgets/controls",
      "model_module_version": "1.1.0",
      "model_name": "DescriptionStyleModel",
      "state": {
       "description_width": ""
      }
     },
     "b1d0f2710f5b4acbb956d692def92a87": {
      "model_module": "@jupyter-widgets/controls",
      "model_module_version": "1.1.0",
      "model_name": "ButtonStyleModel",
      "state": {}
     },
     "b1fc03a6c8994a1c938ebcded9887d25": {
      "model_module": "@jupyter-widgets/base",
      "model_module_version": "1.0.0",
      "model_name": "LayoutModel",
      "state": {}
     },
     "b1fc15837dd146a399d9dc39ec31aec0": {
      "model_module": "@jupyter-widgets/controls",
      "model_module_version": "1.1.0",
      "model_name": "DescriptionStyleModel",
      "state": {
       "description_width": ""
      }
     },
     "b210f99cb87d42a7858a398d2d1be88f": {
      "model_module": "@jupyter-widgets/base",
      "model_module_version": "1.0.0",
      "model_name": "LayoutModel",
      "state": {}
     },
     "b233ee991cd742858b71ea02165d835d": {
      "model_module": "@jupyter-widgets/controls",
      "model_module_version": "1.1.0",
      "model_name": "CheckboxModel",
      "state": {
       "description": "Trace Path",
       "disabled": false,
       "layout": "IPY_MODEL_2ae754cdb2704459bbebbfcd4e82a931",
       "style": "IPY_MODEL_98397ec3a73d4cc482e4d43547418e42",
       "value": false
      }
     },
     "b2382e35576a4172a9f74a71eab6224f": {
      "model_module": "@jupyter-widgets/output",
      "model_module_version": "1.1.0",
      "model_name": "OutputModel",
      "state": {
       "_model_module_version": "1.1.0",
       "_view_module_version": "1.1.0",
       "layout": "IPY_MODEL_df95dcf22a994acaa685f315ba9573c5",
       "outputs": [
        {
         "name": "stdout",
         "output_type": "stream",
         "text": "Done!\n"
        }
       ]
      }
     },
     "b24ada2bd2464386b6db0fbc2492aaf4": {
      "model_module": "@jupyter-widgets/controls",
      "model_module_version": "1.1.0",
      "model_name": "ButtonStyleModel",
      "state": {}
     },
     "b24f850216e04585a5b81d987d9193a8": {
      "model_module": "@jupyter-widgets/base",
      "model_module_version": "1.0.0",
      "model_name": "LayoutModel",
      "state": {}
     },
     "b273db13212343088566bab0ab6ddd8f": {
      "model_module": "@jupyter-widgets/base",
      "model_module_version": "1.0.0",
      "model_name": "LayoutModel",
      "state": {}
     },
     "b2757c9eee3349be9448266a63d0dc49": {
      "model_module": "@jupyter-widgets/base",
      "model_module_version": "1.0.0",
      "model_name": "LayoutModel",
      "state": {}
     },
     "b27c9fb8aac74d4495b97763d33388a8": {
      "model_module": "@jupyter-widgets/controls",
      "model_module_version": "1.1.0",
      "model_name": "HBoxModel",
      "state": {
       "children": [
        "IPY_MODEL_60e9b53da5d94d849fc5e54b853d8770",
        "IPY_MODEL_2e7487e6bf6c4c4e8dc60bcf0bf4f47d",
        "IPY_MODEL_1bf12943d7d443f58b6807f4bfc8b13d"
       ],
       "layout": "IPY_MODEL_1693f2fd0f6b42038fc119c66e0d8bde"
      }
     },
     "b28cd8d9d173457db1bd3ac3cce15db5": {
      "model_module": "@jupyter-widgets/base",
      "model_module_version": "1.0.0",
      "model_name": "LayoutModel",
      "state": {}
     },
     "b2e1c14adcf8472a8c7472cf360df49e": {
      "model_module": "@jupyter-widgets/base",
      "model_module_version": "1.0.0",
      "model_name": "LayoutModel",
      "state": {}
     },
     "b3064308b1c342078a943ba7b78423a9": {
      "model_module": "@jupyter-widgets/controls",
      "model_module_version": "1.1.0",
      "model_name": "VBoxModel",
      "state": {
       "children": [
        "IPY_MODEL_f5feecf83abb4888842fff7f8973cfea",
        "IPY_MODEL_9cd3a45cce1f486d8d06793e9d9139e8"
       ],
       "layout": "IPY_MODEL_09ba8ffd794143c1bc9dbf2b6851a2a5"
      }
     },
     "b307d01ee9214897a7e2aa11135ca146": {
      "model_module": "@jupyter-widgets/base",
      "model_module_version": "1.0.0",
      "model_name": "LayoutModel",
      "state": {}
     },
     "b3ea09bbcc6c4240b5eabe6c54ba33ff": {
      "model_module": "@jupyter-widgets/controls",
      "model_module_version": "1.1.0",
      "model_name": "DescriptionStyleModel",
      "state": {
       "description_width": ""
      }
     },
     "b45a28ae7f84427d9fe88ad2b4344ec2": {
      "model_module": "@jupyter-widgets/base",
      "model_module_version": "1.0.0",
      "model_name": "LayoutModel",
      "state": {}
     },
     "b49d3252ee3c4ce49154f3e5b1ca0328": {
      "model_module": "@jupyter-widgets/controls",
      "model_module_version": "1.1.0",
      "model_name": "HBoxModel",
      "state": {
       "children": [
        "IPY_MODEL_b3064308b1c342078a943ba7b78423a9",
        "IPY_MODEL_246c60ddc8854b589f5a47ec7972bc32"
       ],
       "layout": "IPY_MODEL_9e3ca6c5a4c94a63b2f2fcd2b324cbf3"
      }
     },
     "b4fbe6d628c942a18f26157c90d9472b": {
      "model_module": "@jupyter-widgets/base",
      "model_module_version": "1.0.0",
      "model_name": "LayoutModel",
      "state": {}
     },
     "b507bfe04b6d447ea7ffbd2a05031b65": {
      "model_module": "@jupyter-widgets/base",
      "model_module_version": "1.0.0",
      "model_name": "LayoutModel",
      "state": {}
     },
     "b50a1b3c0a174908bc32ad291af524d1": {
      "model_module": "@jupyter-widgets/controls",
      "model_module_version": "1.1.0",
      "model_name": "CheckboxModel",
      "state": {
       "description": "Update GUI",
       "disabled": false,
       "layout": "IPY_MODEL_c85f2c2fb6c34b89850eb8d54d73af01",
       "style": "IPY_MODEL_2e7ba717c01e4c778d7c02ed1484b0c9",
       "value": true
      }
     },
     "b5165c8b3a214cddbbc33d5e9326c731": {
      "model_module": "@jupyter-widgets/controls",
      "model_module_version": "1.1.0",
      "model_name": "PlayModel",
      "state": {
       "layout": "IPY_MODEL_056e28f12b0f4d5085e97dd6a6321a1a",
       "max": 1000000,
       "style": "IPY_MODEL_d294bf7b10e64272a78af2150b8440e5",
       "value": 191
      }
     },
     "b5231083f5da4191a1c61ece03075b88": {
      "model_module": "@jupyter-widgets/base",
      "model_module_version": "1.0.0",
      "model_name": "LayoutModel",
      "state": {}
     },
     "b53f6e4b863644cdb2332b7846ddde08": {
      "model_module": "@jupyter-widgets/controls",
      "model_module_version": "1.1.0",
      "model_name": "HBoxModel",
      "state": {
       "children": [
        "IPY_MODEL_fdbd8de9146c4cd4888c61d149071c6b",
        "IPY_MODEL_5e95750a45214d4aae17d34f6f660359",
        "IPY_MODEL_695aa97294bd4db4912c6716dc2a566a"
       ],
       "layout": "IPY_MODEL_9381378337c3411b9d8fe3390622d956"
      }
     },
     "b5d83544eb5d45a782d7461716d805a7": {
      "model_module": "@jupyter-widgets/base",
      "model_module_version": "1.0.0",
      "model_name": "LayoutModel",
      "state": {}
     },
     "b6166588d4fc41fa91f0cdc05a648920": {
      "model_module": "@jupyter-widgets/base",
      "model_module_version": "1.0.0",
      "model_name": "LayoutModel",
      "state": {}
     },
     "b654522dab3e4375a4cd45222492fa85": {
      "model_module": "@jupyter-widgets/controls",
      "model_module_version": "1.1.0",
      "model_name": "DescriptionStyleModel",
      "state": {
       "description_width": ""
      }
     },
     "b6962f96bb8246418d676c9c83476243": {
      "model_module": "@jupyter-widgets/base",
      "model_module_version": "1.0.0",
      "model_name": "LayoutModel",
      "state": {}
     },
     "b69db6451ecc4d6db7ed69a3aad20e0d": {
      "model_module": "@jupyter-widgets/controls",
      "model_module_version": "1.1.0",
      "model_name": "DescriptionStyleModel",
      "state": {
       "description_width": ""
      }
     },
     "b69f9f48b6564f63afd55363d7fbfa3b": {
      "model_module": "@jupyter-widgets/base",
      "model_module_version": "1.0.0",
      "model_name": "LayoutModel",
      "state": {}
     },
     "b6c3e9f34c0f4de095b6a23cf9b556cf": {
      "model_module": "@jupyter-widgets/base",
      "model_module_version": "1.0.0",
      "model_name": "LayoutModel",
      "state": {
       "height": "20px",
       "padding": "0px 0px 0px 0px",
       "width": "248px"
      }
     },
     "b6f352a5b7dd43e8835de9a02d626e05": {
      "model_module": "@jupyter-widgets/controls",
      "model_module_version": "1.1.0",
      "model_name": "HTMLModel",
      "state": {
       "layout": "IPY_MODEL_692485e30cc14158bb00805d84e15632",
       "style": "IPY_MODEL_f92a4a70a1f54580a6ee88d4a8a87587",
       "value": "<img style=\"image-rendering: pixelated;\" src=\"data:image/gif;base64,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\" width=\"240\"/>"
      }
     },
     "b7013329bc0245099030086d83deda38": {
      "model_module": "@jupyter-widgets/base",
      "model_module_version": "1.0.0",
      "model_name": "LayoutModel",
      "state": {}
     },
     "b73024fe4eb14e0692ad9a260f9bd690": {
      "model_module": "@jupyter-widgets/controls",
      "model_module_version": "1.1.0",
      "model_name": "VBoxModel",
      "state": {
       "children": [
        "IPY_MODEL_791c8d7250494f08afa85cace2b1f06b",
        "IPY_MODEL_b27c9fb8aac74d4495b97763d33388a8",
        "IPY_MODEL_511ffacd2db3461ab3e2b85e247f9195"
       ],
       "layout": "IPY_MODEL_a28f0e3e1f1443dda911eab148f9abfc"
      }
     },
     "b73d028e1fc845c38e8dfffbbc54a983": {
      "model_module": "@jupyter-widgets/controls",
      "model_module_version": "1.1.0",
      "model_name": "HTMLModel",
      "state": {
       "layout": "IPY_MODEL_0605784bcaef4918bb9022010cc96f91",
       "style": "IPY_MODEL_94b2da84cfbb4cdd8430d6fd73ef28dc",
       "value": "<svg baseProfile=\"full\" height=\"240\" version=\"1.1\" width=\"240\" xmlns=\"http://www.w3.org/2000/svg\" xmlns:ev=\"http://www.w3.org/2001/xml-events\" xmlns:xlink=\"http://www.w3.org/1999/xlink\"><defs /><rect fill=\"#eef3dd\" height=\"240.0\" stroke=\"#bebebe\" stroke-width=\"1\" width=\"120.0\" x=\"0.0\" y=\"0.0\" /><line fill=\"#800080\" stroke=\"#add8e6\" stroke-width=\"1\" x1=\"49.5\" x2=\"0.0\" y1=\"174.0\" y2=\"174.0\" /><line fill=\"#800080\" stroke=\"#add8e6\" stroke-width=\"1\" x1=\"51.0\" x2=\"0.0\" y1=\"169.8\" y2=\"146.01830999999999\" /><line fill=\"#800080\" stroke=\"#add8e6\" stroke-width=\"1\" x1=\"53.4\" x2=\"0.0\" y1=\"168.0\" y2=\"104.360358\" /><line fill=\"#800080\" stroke=\"#add8e6\" stroke-width=\"1\" x1=\"57.0\" x2=\"12.386458737015545\" y1=\"166.5\" y2=\"0.0\" /><line fill=\"#800080\" stroke=\"#add8e6\" stroke-width=\"1\" x1=\"63.0\" x2=\"107.61354126298446\" y1=\"166.5\" y2=\"0.0\" /><line fill=\"#800080\" stroke=\"#add8e6\" stroke-width=\"1\" x1=\"66.60000000000001\" x2=\"120.0\" y1=\"168.0\" y2=\"104.360358\" /><line fill=\"#800080\" stroke=\"#add8e6\" stroke-width=\"1\" x1=\"69.0\" x2=\"120.0\" y1=\"169.8\" y2=\"146.01830999999999\" /><line fill=\"#800080\" stroke=\"#add8e6\" stroke-width=\"1\" x1=\"70.5\" x2=\"120.0\" y1=\"174.0\" y2=\"174.0\" /><line fill=\"#800080\" stroke=\"#a020f0\" stroke-width=\"1\" x1=\"60.0\" x2=\"0.0\" y1=\"180.0\" y2=\"145.358982\" /><line fill=\"#800080\" stroke=\"#a020f0\" stroke-width=\"1\" x1=\"60.0\" x2=\"120.0\" y1=\"180.0\" y2=\"145.358982\" /><polygon fill=\"red\" points=\"55.2,166.5 49.5,171.0 49.5,189.0 55.2,193.5 64.80000000000001,193.5 70.5,189.0 70.5,171.0 64.80000000000001,166.5\" stroke=\"red\" stroke-width=\"1\" /><polygon points=\"-3.0,-3.0 0,0 3.0,-3.0 0,3.0\" stroke=\"black\" stroke-width=\"1\" transform=\"translate(60.0,180.0) rotate(180.0)\" /><polygon fill=\"black\" points=\"63.6,171.6 63.6,176.4 56.4,176.4 56.4,171.6\" stroke=\"black\" stroke-width=\"1\" /></svg>"
      }
     },
     "b7f43dda57e5407db744d654eee56763": {
      "model_module": "@jupyter-widgets/controls",
      "model_module_version": "1.1.0",
      "model_name": "SliderStyleModel",
      "state": {
       "description_width": ""
      }
     },
     "b84f216f4537482cae0ce1b1945e4516": {
      "model_module": "@jupyter-widgets/base",
      "model_module_version": "1.0.0",
      "model_name": "LayoutModel",
      "state": {}
     },
     "b86da7abd72442fda414a0f11d04ff41": {
      "model_module": "@jupyter-widgets/controls",
      "model_module_version": "1.1.0",
      "model_name": "VBoxModel",
      "state": {
       "children": [
        "IPY_MODEL_2f089ff084ff4163a6b6d3be446b47d8",
        "IPY_MODEL_f08a03c972f647dab43dffc6152be0bb"
       ],
       "layout": "IPY_MODEL_fac09ad0ca104cb4adaac39637b4082f"
      }
     },
     "b86dee55c7e54f638ca0c0a114226776": {
      "model_module": "@jupyter-widgets/controls",
      "model_module_version": "1.1.0",
      "model_name": "CheckboxModel",
      "state": {
       "description": "Trace Path",
       "disabled": false,
       "layout": "IPY_MODEL_dcb592d936b24dbba381e1d2e54fe83d",
       "style": "IPY_MODEL_b1fc15837dd146a399d9dc39ec31aec0",
       "value": false
      }
     },
     "b89f4de94c7c4a7895e0efb1bac00caf": {
      "model_module": "@jupyter-widgets/controls",
      "model_module_version": "1.1.0",
      "model_name": "IntSliderModel",
      "state": {
       "continuous_update": false,
       "description": "Dataset index",
       "layout": "IPY_MODEL_c0a5ab41726c4472af2ecc84b2ccd6d1",
       "max": 130,
       "style": "IPY_MODEL_5431f213b10d4600afc8c501d05ae6c6",
       "value": 62
      }
     },
     "b98fa2b7eb1a491a8269301f09975f96": {
      "model_module": "@jupyter-widgets/controls",
      "model_module_version": "1.1.0",
      "model_name": "HTMLModel",
      "state": {
       "layout": "IPY_MODEL_eb28094aad21442faeef2f5012cb12c2",
       "style": "IPY_MODEL_bbfc9ddb59b1457889bd687d07eaa2cc",
       "value": "<svg baseProfile=\"full\" height=\"240\" version=\"1.1\" width=\"240\" xmlns=\"http://www.w3.org/2000/svg\" xmlns:ev=\"http://www.w3.org/2001/xml-events\" xmlns:xlink=\"http://www.w3.org/1999/xlink\"><defs /><rect fill=\"#eef3dd\" height=\"240.0\" stroke=\"#bebebe\" stroke-width=\"1\" width=\"120.0\" x=\"0.0\" y=\"0.0\" /><line fill=\"#800080\" stroke=\"#add8e6\" stroke-width=\"1\" x1=\"49.5\" x2=\"0.0\" y1=\"116.44841085792186\" y2=\"116.44840799999999\" /><line fill=\"#800080\" stroke=\"#add8e6\" stroke-width=\"1\" x1=\"51.0\" x2=\"0.0\" y1=\"112.24841085792184\" y2=\"88.46671800000001\" /><line fill=\"#800080\" stroke=\"#add8e6\" stroke-width=\"1\" x1=\"53.4\" x2=\"0.0\" y1=\"110.44841085792186\" y2=\"46.808766000000006\" /><line fill=\"#800080\" stroke=\"#add8e6\" stroke-width=\"1\" x1=\"57.0\" x2=\"27.807361781017608\" y1=\"108.94841085792186\" y2=\"0.0\" /><line fill=\"#800080\" stroke=\"#add8e6\" stroke-width=\"1\" x1=\"63.0\" x2=\"92.19263821898241\" y1=\"108.94841085792186\" y2=\"0.0\" /><line fill=\"#800080\" stroke=\"#add8e6\" stroke-width=\"1\" x1=\"66.60000000000001\" x2=\"120.0\" y1=\"110.44841085792186\" y2=\"46.808766000000006\" /><line fill=\"#800080\" stroke=\"#add8e6\" stroke-width=\"1\" x1=\"69.0\" x2=\"120.0\" y1=\"112.24841085792184\" y2=\"88.46671800000001\" /><line fill=\"#800080\" stroke=\"#add8e6\" stroke-width=\"1\" x1=\"70.5\" x2=\"120.0\" y1=\"116.44841085792186\" y2=\"116.44840799999999\" /><line fill=\"#800080\" stroke=\"#a020f0\" stroke-width=\"1\" x1=\"60.0\" x2=\"0.0\" y1=\"122.44841085792187\" y2=\"87.80739\" /><line fill=\"#800080\" stroke=\"#a020f0\" stroke-width=\"1\" x1=\"60.0\" x2=\"120.0\" y1=\"122.44841085792187\" y2=\"87.80739\" /><polygon fill=\"red\" points=\"55.2,108.94841085792186 49.5,113.44841085792184 49.5,131.44841085792183 55.2,135.94841085792186 64.80000000000001,135.94841085792186 70.5,131.44841085792183 70.5,113.44841085792184 64.80000000000001,108.94841085792186\" stroke=\"red\" stroke-width=\"1\" /><polygon points=\"-3.0,-3.0 0,0 3.0,-3.0 0,3.0\" stroke=\"black\" stroke-width=\"1\" transform=\"translate(60.0,122.44841085792187) rotate(180.0)\" /><polygon fill=\"black\" points=\"63.6,114.04841085792187 63.6,118.84841085792186 56.4,118.84841085792186 56.4,114.04841085792187\" stroke=\"black\" stroke-width=\"1\" /></svg>"
      }
     },
     "b99921b70f1a4d0f9aa7ec46946188e9": {
      "model_module": "@jupyter-widgets/base",
      "model_module_version": "1.0.0",
      "model_name": "LayoutModel",
      "state": {}
     },
     "b9a0b96b9f9543c5b76eb531cbb6bd5a": {
      "model_module": "@jupyter-widgets/controls",
      "model_module_version": "1.1.0",
      "model_name": "FloatSliderModel",
      "state": {
       "layout": "IPY_MODEL_236cb2998e1147e6addaa6bfda3b1937",
       "orientation": "vertical",
       "readout": false,
       "step": 0.1,
       "style": "IPY_MODEL_f0e7281dc00a49669c00aee172673263",
       "value": 70.22685390903386
      }
     },
     "b9ea5b9d34984980be1c90b8b77862c3": {
      "model_module": "@jupyter-widgets/base",
      "model_module_version": "1.0.0",
      "model_name": "LayoutModel",
      "state": {
       "width": "100%"
      }
     },
     "ba0d7e3836c845e99a71431fd3ab9e56": {
      "model_module": "@jupyter-widgets/controls",
      "model_module_version": "1.1.0",
      "model_name": "HTMLModel",
      "state": {
       "layout": "IPY_MODEL_f7baa509b03049e0bc24bbfd4ec9fbb2",
       "style": "IPY_MODEL_26ae8ff8492449b3acf27736c08fddf5",
       "value": "<svg baseProfile=\"full\" height=\"240\" version=\"1.1\" width=\"240\" xmlns=\"http://www.w3.org/2000/svg\" xmlns:ev=\"http://www.w3.org/2001/xml-events\" xmlns:xlink=\"http://www.w3.org/1999/xlink\"><defs /><rect fill=\"#eef3dd\" height=\"240.0\" stroke=\"#bebebe\" stroke-width=\"1\" width=\"120.0\" x=\"0.0\" y=\"0.0\" /><line fill=\"#800080\" stroke=\"#add8e6\" stroke-width=\"1\" x1=\"49.5\" x2=\"0.0\" y1=\"65.13235900824833\" y2=\"65.13235800000001\" /><line fill=\"#800080\" stroke=\"#add8e6\" stroke-width=\"1\" x1=\"51.0\" x2=\"0.0\" y1=\"60.93235900824833\" y2=\"37.15066800000001\" /><line fill=\"#800080\" stroke=\"#add8e6\" stroke-width=\"1\" x1=\"53.4\" x2=\"3.78206031850877\" y1=\"59.132359008248315\" y2=\"0.0\" /><line fill=\"#800080\" stroke=\"#add8e6\" stroke-width=\"1\" x1=\"57.0\" x2=\"41.55745633359162\" y1=\"57.63235900824832\" y2=\"0.0\" /><line fill=\"#800080\" stroke=\"#add8e6\" stroke-width=\"1\" x1=\"63.0\" x2=\"78.4425436664084\" y1=\"57.63235900824832\" y2=\"0.0\" /><line fill=\"#800080\" stroke=\"#add8e6\" stroke-width=\"1\" x1=\"66.60000000000001\" x2=\"116.2179396814912\" y1=\"59.132359008248315\" y2=\"0.0\" /><line fill=\"#800080\" stroke=\"#add8e6\" stroke-width=\"1\" x1=\"69.0\" x2=\"120.0\" y1=\"60.93235900824833\" y2=\"37.15066800000001\" /><line fill=\"#800080\" stroke=\"#add8e6\" stroke-width=\"1\" x1=\"70.5\" x2=\"120.0\" y1=\"65.13235900824833\" y2=\"65.13235800000001\" /><line fill=\"#800080\" stroke=\"#a020f0\" stroke-width=\"1\" x1=\"60.0\" x2=\"0.0\" y1=\"71.13235900824833\" y2=\"36.491339999999994\" /><line fill=\"#800080\" stroke=\"#a020f0\" stroke-width=\"1\" x1=\"60.0\" x2=\"120.0\" y1=\"71.13235900824833\" y2=\"36.491339999999994\" /><polygon fill=\"red\" points=\"55.2,57.63235900824832 49.5,62.132359008248336 49.5,80.13235900824833 55.2,84.63235900824833 64.80000000000001,84.63235900824833 70.5,80.13235900824833 70.5,62.132359008248336 64.80000000000001,57.63235900824832\" stroke=\"red\" stroke-width=\"1\" /><polygon points=\"-3.0,-3.0 0,0 3.0,-3.0 0,3.0\" stroke=\"black\" stroke-width=\"1\" transform=\"translate(60.0,71.13235900824833) rotate(180.0)\" /><polygon fill=\"black\" points=\"63.6,62.732359008248324 63.6,67.53235900824832 56.4,67.53235900824832 56.4,62.732359008248324\" stroke=\"black\" stroke-width=\"1\" /></svg>"
      }
     },
     "ba5b700e4e044203a033d8574d5f3e32": {
      "model_module": "@jupyter-widgets/controls",
      "model_module_version": "1.1.0",
      "model_name": "DescriptionStyleModel",
      "state": {
       "description_width": ""
      }
     },
     "bab14bf507e549c0a4cbb61226d74bf5": {
      "model_module": "@jupyter-widgets/base",
      "model_module_version": "1.0.0",
      "model_name": "LayoutModel",
      "state": {}
     },
     "baea8b7d9c86437b8648fe3b82f92100": {
      "model_module": "@jupyter-widgets/base",
      "model_module_version": "1.0.0",
      "model_name": "LayoutModel",
      "state": {}
     },
     "bb1bdadcbe3b4d0888751a5399eeb9a3": {
      "model_module": "@jupyter-widgets/controls",
      "model_module_version": "1.1.0",
      "model_name": "SliderStyleModel",
      "state": {
       "description_width": ""
      }
     },
     "bb1fda153dae4d33b05822e50a61f0c8": {
      "model_module": "@jupyter-widgets/base",
      "model_module_version": "1.0.0",
      "model_name": "LayoutModel",
      "state": {
       "height": "248px",
       "padding": "0px 0px 0px 0px",
       "width": "10px"
      }
     },
     "bb3c669f5e424b608c4c54b32bc66c31": {
      "model_module": "@jupyter-widgets/controls",
      "model_module_version": "1.1.0",
      "model_name": "ButtonModel",
      "state": {
       "icon": "step-forward",
       "layout": "IPY_MODEL_4f67572094c44bb3a8b932b0879bd90c",
       "style": "IPY_MODEL_6e1346d0008142098fd17c9bf22b4c2f"
      }
     },
     "bb99dec746864643b1f2169725b4af9f": {
      "model_module": "@jupyter-widgets/controls",
      "model_module_version": "1.1.0",
      "model_name": "DescriptionStyleModel",
      "state": {
       "description_width": ""
      }
     },
     "bbbcc1715cae43a0b259c03e66fd809a": {
      "model_module": "@jupyter-widgets/base",
      "model_module_version": "1.0.0",
      "model_name": "LayoutModel",
      "state": {}
     },
     "bbd4154c12a8451d9014c8212f4f31ac": {
      "model_module": "@jupyter-widgets/controls",
      "model_module_version": "1.1.0",
      "model_name": "ButtonModel",
      "state": {
       "icon": "step-forward",
       "layout": "IPY_MODEL_468be02fc40f4900bb7db4ab323eed1b",
       "style": "IPY_MODEL_8753cbe26ae54a71a35e7cc480364704"
      }
     },
     "bbfc9ddb59b1457889bd687d07eaa2cc": {
      "model_module": "@jupyter-widgets/controls",
      "model_module_version": "1.1.0",
      "model_name": "DescriptionStyleModel",
      "state": {
       "description_width": ""
      }
     },
     "bc00ff05230d42469977d85cd364a36a": {
      "model_module": "@jupyter-widgets/base",
      "model_module_version": "1.0.0",
      "model_name": "LayoutModel",
      "state": {}
     },
     "bc11dabfcd1e448aaed6c969acc912d3": {
      "model_module": "@jupyter-widgets/controls",
      "model_module_version": "1.1.0",
      "model_name": "VBoxModel",
      "state": {
       "children": [
        "IPY_MODEL_bc645fd3390b43dd9db0bc6d0615295b",
        "IPY_MODEL_4003228f3b604b34824b3ca2a898504e"
       ],
       "layout": "IPY_MODEL_4aac5f2f949948a984452b54359ac125"
      }
     },
     "bc21ca11f02046b09ead5a266ecad4e1": {
      "model_module": "@jupyter-widgets/controls",
      "model_module_version": "1.1.0",
      "model_name": "HBoxModel",
      "state": {
       "children": [
        "IPY_MODEL_cf081279275f4ff3bb09498914f9b9b9",
        "IPY_MODEL_afba4d00091d4b3687294e833d2ef365"
       ],
       "layout": "IPY_MODEL_b99921b70f1a4d0f9aa7ec46946188e9"
      }
     },
     "bc645fd3390b43dd9db0bc6d0615295b": {
      "model_module": "@jupyter-widgets/controls",
      "model_module_version": "1.1.0",
      "model_name": "HBoxModel",
      "state": {
       "children": [
        "IPY_MODEL_3ec77f06cc15445e8375e802fbde9c59",
        "IPY_MODEL_ee154d09594f42e2ab85c26e4d58ae93",
        "IPY_MODEL_a0ee21e8d6d94d57994ebbfd0ad26295"
       ],
       "layout": "IPY_MODEL_c44fa4eda9e343148dfa9e9472d4a3ec"
      }
     },
     "bc8b27dcded74850b68e3da74b2ce2bc": {
      "model_module": "@jupyter-widgets/controls",
      "model_module_version": "1.1.0",
      "model_name": "HBoxModel",
      "state": {
       "children": [
        "IPY_MODEL_72441ad0581f4ce2b71db4a1a48f0de3",
        "IPY_MODEL_e2572450831343ea8844d3abb3015a22"
       ],
       "layout": "IPY_MODEL_7d7ac0705c8c4c75a5ae422e9afd07d6"
      }
     },
     "bcad53e48ac34d5cb96addd525af0c25": {
      "model_module": "@jupyter-widgets/controls",
      "model_module_version": "1.1.0",
      "model_name": "DescriptionStyleModel",
      "state": {
       "description_width": ""
      }
     },
     "bcc5565d937345958f7ca4f370598315": {
      "model_module": "@jupyter-widgets/controls",
      "model_module_version": "1.1.0",
      "model_name": "CheckboxModel",
      "state": {
       "description": "Update GUI",
       "disabled": false,
       "layout": "IPY_MODEL_e06cee5f6bb6412193e1370561faa81a",
       "style": "IPY_MODEL_ab1922fb694e400e89edae3fb95cf3db",
       "value": true
      }
     },
     "bd3d2c0f08454253bbb37bafe8970abe": {
      "model_module": "@jupyter-widgets/controls",
      "model_module_version": "1.1.0",
      "model_name": "DescriptionStyleModel",
      "state": {
       "description_width": ""
      }
     },
     "bd51fdb3cf8f433396bd1b4828f525b9": {
      "model_module": "@jupyter-widgets/controls",
      "model_module_version": "1.1.0",
      "model_name": "HBoxModel",
      "state": {
       "children": [
        "IPY_MODEL_82457ec570a84ef083b445263f812534",
        "IPY_MODEL_2014847f434d474783963e7022bd5be0",
        "IPY_MODEL_19e12e5a084f4d6ca8b44532e5ca07c5"
       ],
       "layout": "IPY_MODEL_aaa8d778023e4b12b1c0a1859adf0385"
      }
     },
     "bd6bffe475e7402d93756fa9dc48c054": {
      "model_module": "@jupyter-widgets/base",
      "model_module_version": "1.0.0",
      "model_name": "LayoutModel",
      "state": {}
     },
     "bdbc9e0df1644872ab8ee8e1fc4cdeb2": {
      "model_module": "@jupyter-widgets/base",
      "model_module_version": "1.0.0",
      "model_name": "LayoutModel",
      "state": {
       "height": "248px",
       "padding": "0px 0px 0px 0px",
       "width": "10px"
      }
     },
     "bdca90b50f18457c8bddb586696be330": {
      "model_module": "@jupyter-widgets/controls",
      "model_module_version": "1.1.0",
      "model_name": "FloatSliderModel",
      "state": {
       "layout": "IPY_MODEL_23328dd9d3fe4d00b4314f4daf72c32d",
       "orientation": "vertical",
       "readout": false,
       "step": 0.1,
       "style": "IPY_MODEL_2f4a5f99f07345ae8c2bb3ee4634b43e",
       "value": 78.93102609686089
      }
     },
     "bde861638df14b379f7e327c25c3cf94": {
      "model_module": "@jupyter-widgets/base",
      "model_module_version": "1.0.0",
      "model_name": "LayoutModel",
      "state": {}
     },
     "bdea04b5c00c46a78cdec9b4c6b505b5": {
      "model_module": "@jupyter-widgets/controls",
      "model_module_version": "1.1.0",
      "model_name": "DescriptionStyleModel",
      "state": {
       "description_width": ""
      }
     },
     "bdf3db0f36e341fcbbdd6218c77af340": {
      "model_module": "@jupyter-widgets/base",
      "model_module_version": "1.0.0",
      "model_name": "LayoutModel",
      "state": {}
     },
     "be537bf8c7404e58b6ad0e2b3a1f73d6": {
      "model_module": "@jupyter-widgets/controls",
      "model_module_version": "1.1.0",
      "model_name": "CheckboxModel",
      "state": {
       "description": "Trace Path",
       "disabled": false,
       "layout": "IPY_MODEL_ea0acbf055574641b2020bcf76ced353",
       "style": "IPY_MODEL_5f7cf281051a4f70bd64f062b4555eb8",
       "value": false
      }
     },
     "beb7fac382aa451091f99ead7ea7f5e2": {
      "model_module": "@jupyter-widgets/controls",
      "model_module_version": "1.1.0",
      "model_name": "HBoxModel",
      "state": {
       "children": [
        "IPY_MODEL_bcc5565d937345958f7ca4f370598315",
        "IPY_MODEL_e4551e1ce38249ac88eb0dde81c76107",
        "IPY_MODEL_2b38758a4b964726ab1f9991512bfd3b"
       ],
       "layout": "IPY_MODEL_71062a8469004d5d98975efd0c547863"
      }
     },
     "bebfd1b1f3034b1fb797c1becd5221f2": {
      "model_module": "@jupyter-widgets/base",
      "model_module_version": "1.0.0",
      "model_name": "LayoutModel",
      "state": {
       "height": "30px",
       "padding": "0px 0px 0px 10px",
       "width": "260px"
      }
     },
     "bee6c5370f0c4596a508cb3888d41e0a": {
      "model_module": "@jupyter-widgets/base",
      "model_module_version": "1.0.0",
      "model_name": "LayoutModel",
      "state": {
       "height": "20px",
       "padding": "0px 0px 0px 0px",
       "width": "248px"
      }
     },
     "bee865a93ba94489b0ce78f8fcf40058": {
      "model_module": "@jupyter-widgets/base",
      "model_module_version": "1.0.0",
      "model_name": "LayoutModel",
      "state": {}
     },
     "bf3e96f1b6684fa3b33806fd065939ab": {
      "model_module": "@jupyter-widgets/controls",
      "model_module_version": "1.1.0",
      "model_name": "FloatSliderModel",
      "state": {
       "layout": "IPY_MODEL_bee6c5370f0c4596a508cb3888d41e0a",
       "readout": false,
       "step": 0.1,
       "style": "IPY_MODEL_08efee6fca094506838e8825ef89bea6",
       "value": 100
      }
     },
     "bf43a22c649a4b24968c3db3b6d06d6e": {
      "model_module": "@jupyter-widgets/base",
      "model_module_version": "1.0.0",
      "model_name": "LayoutModel",
      "state": {}
     },
     "c0035885733a4609876f2f1448294b79": {
      "model_module": "@jupyter-widgets/base",
      "model_module_version": "1.0.0",
      "model_name": "LayoutModel",
      "state": {}
     },
     "c0371f769f8145ed85b1caa0fb57d8c9": {
      "model_module": "@jupyter-widgets/base",
      "model_module_version": "1.0.0",
      "model_name": "LayoutModel",
      "state": {}
     },
     "c05111ffdf374de5876a8130f45c676a": {
      "model_module": "@jupyter-widgets/controls",
      "model_module_version": "1.1.0",
      "model_name": "DescriptionStyleModel",
      "state": {
       "description_width": ""
      }
     },
     "c07fb0856b85461a80ab0b2ee1caf664": {
      "model_module": "@jupyter-widgets/base",
      "model_module_version": "1.0.0",
      "model_name": "LayoutModel",
      "state": {}
     },
     "c090401db6bd4e81839fe4626f98c6ad": {
      "model_module": "@jupyter-widgets/base",
      "model_module_version": "1.0.0",
      "model_name": "LayoutModel",
      "state": {}
     },
     "c0a5ab41726c4472af2ecc84b2ccd6d1": {
      "model_module": "@jupyter-widgets/base",
      "model_module_version": "1.0.0",
      "model_name": "LayoutModel",
      "state": {
       "width": "100%"
      }
     },
     "c1b223e84bd2439199d9bcce859f494d": {
      "model_module": "@jupyter-widgets/controls",
      "model_module_version": "1.1.0",
      "model_name": "ButtonModel",
      "state": {
       "icon": "step-forward",
       "layout": "IPY_MODEL_93644d6135bd48afa45d9d816cf5bdd0",
       "style": "IPY_MODEL_d8173d4d97a9433dac0f70b37d487d42"
      }
     },
     "c1b87abe34144cd8ac7de828d3e3b494": {
      "model_module": "@jupyter-widgets/base",
      "model_module_version": "1.0.0",
      "model_name": "LayoutModel",
      "state": {}
     },
     "c1d9ccafe56147ce82b556dcdbe691cf": {
      "model_module": "@jupyter-widgets/controls",
      "model_module_version": "1.1.0",
      "model_name": "DescriptionStyleModel",
      "state": {
       "description_width": ""
      }
     },
     "c2a7f6fc366d4964adbf9fcb2bfada3d": {
      "model_module": "@jupyter-widgets/controls",
      "model_module_version": "1.1.0",
      "model_name": "FloatSliderModel",
      "state": {
       "layout": "IPY_MODEL_3364c34ae2a246e38e420370b1af1b91",
       "readout": false,
       "step": 0.1,
       "style": "IPY_MODEL_36f917557ee247ddb1e7dd6f2bb1a20e",
       "value": 100
      }
     },
     "c2b1d4c9394247ddaef7d5d2e3c2f5c9": {
      "model_module": "@jupyter-widgets/base",
      "model_module_version": "1.0.0",
      "model_name": "LayoutModel",
      "state": {}
     },
     "c2bcb0e75483401cb97cd3f683223600": {
      "model_module": "@jupyter-widgets/output",
      "model_module_version": "1.1.0",
      "model_name": "OutputModel",
      "state": {
       "_model_module_version": "1.1.0",
       "_view_module_version": "1.1.0",
       "layout": "IPY_MODEL_50ed1814fe934589944a572e33e201fe"
      }
     },
     "c30401fb03494aa39620d189a4f5ecc7": {
      "model_module": "@jupyter-widgets/controls",
      "model_module_version": "1.1.0",
      "model_name": "DescriptionStyleModel",
      "state": {
       "description_width": ""
      }
     },
     "c3094b698e20447e809d46ad37c3cf08": {
      "model_module": "@jupyter-widgets/controls",
      "model_module_version": "1.1.0",
      "model_name": "VBoxModel",
      "state": {
       "children": [
        "IPY_MODEL_412a4acce0ad463fae6ec991d38506c1",
        "IPY_MODEL_bc8b27dcded74850b68e3da74b2ce2bc"
       ],
       "layout": "IPY_MODEL_6d44f636204f444aa9e4a2d4effc8208"
      }
     },
     "c3472df356504aa9b6a7263ae4e1e2c8": {
      "model_module": "@jupyter-widgets/base",
      "model_module_version": "1.0.0",
      "model_name": "LayoutModel",
      "state": {
       "height": "30px",
       "padding": "0px 0px 0px 10px",
       "width": "260px"
      }
     },
     "c347dbb04d6445419eb67e48bf81fee2": {
      "model_module": "@jupyter-widgets/controls",
      "model_module_version": "1.1.0",
      "model_name": "HBoxModel",
      "state": {
       "children": [
        "IPY_MODEL_9079e0a49a8a4a9384c0147429c6f099",
        "IPY_MODEL_4d8c0a78da544fc8b9d9369b0de3c57c",
        "IPY_MODEL_41003f19f4944f5e9dc9bbee1c19513b"
       ],
       "layout": "IPY_MODEL_31e76b6f008a4979bd5717beb831436d"
      }
     },
     "c360877e39864592ad0afc7b92d8da41": {
      "model_module": "@jupyter-widgets/base",
      "model_module_version": "1.0.0",
      "model_name": "LayoutModel",
      "state": {}
     },
     "c37174fd371c499ca049140842458e6c": {
      "model_module": "@jupyter-widgets/base",
      "model_module_version": "1.0.0",
      "model_name": "LayoutModel",
      "state": {}
     },
     "c3ae46205f6c45418184a752b687500a": {
      "model_module": "@jupyter-widgets/base",
      "model_module_version": "1.0.0",
      "model_name": "LayoutModel",
      "state": {
       "height": "248px",
       "padding": "0px 0px 0px 0px",
       "width": "10px"
      }
     },
     "c3bcb11197c643129e465b1496043ae9": {
      "model_module": "@jupyter-widgets/controls",
      "model_module_version": "1.1.0",
      "model_name": "DescriptionStyleModel",
      "state": {
       "description_width": ""
      }
     },
     "c3cc2b5b34ab4df3b36dea599bbb2d2c": {
      "model_module": "@jupyter-widgets/base",
      "model_module_version": "1.0.0",
      "model_name": "LayoutModel",
      "state": {
       "height": "248px",
       "padding": "0px 0px 0px 0px",
       "width": "10px"
      }
     },
     "c3d327aa647e496b896bd72a90484f6a": {
      "model_module": "@jupyter-widgets/controls",
      "model_module_version": "1.1.0",
      "model_name": "VBoxModel",
      "state": {
       "children": [
        "IPY_MODEL_1a8ad3a0172546be8653a555ec1eeaf3",
        "IPY_MODEL_51cf356c664841c3b1a8210318a36e86"
       ],
       "layout": "IPY_MODEL_965edfae16484037b814454e9e895e39"
      }
     },
     "c3f2206f30b84c38b0a71f5b99c0263f": {
      "model_module": "@jupyter-widgets/base",
      "model_module_version": "1.0.0",
      "model_name": "LayoutModel",
      "state": {}
     },
     "c3f57909ec6f4bdfbc0472591cc05fa1": {
      "model_module": "@jupyter-widgets/base",
      "model_module_version": "1.0.0",
      "model_name": "LayoutModel",
      "state": {}
     },
     "c41a47aba6ba45febf345fa6aa23e63d": {
      "model_module": "@jupyter-widgets/controls",
      "model_module_version": "1.1.0",
      "model_name": "DescriptionStyleModel",
      "state": {
       "description_width": ""
      }
     },
     "c44fa4eda9e343148dfa9e9472d4a3ec": {
      "model_module": "@jupyter-widgets/base",
      "model_module_version": "1.0.0",
      "model_name": "LayoutModel",
      "state": {}
     },
     "c4bad1bf385d47e7991f07c432dbdf17": {
      "model_module": "@jupyter-widgets/controls",
      "model_module_version": "1.1.0",
      "model_name": "VBoxModel",
      "state": {
       "children": [
        "IPY_MODEL_4caa49472e434a5db9a7fed47c35a3ee",
        "IPY_MODEL_7216c8310d134d6db4c8cb88bf8d2069",
        "IPY_MODEL_9f4009ad040d46a2b43053a1f5e3b53e"
       ],
       "layout": "IPY_MODEL_b6962f96bb8246418d676c9c83476243"
      }
     },
     "c54a089d37a94bacbfa7a5d2e01e5b53": {
      "model_module": "@jupyter-widgets/base",
      "model_module_version": "1.0.0",
      "model_name": "LayoutModel",
      "state": {}
     },
     "c5bb7e92fb9a4d9cac20e009225f4e2b": {
      "model_module": "@jupyter-widgets/controls",
      "model_module_version": "1.1.0",
      "model_name": "DescriptionStyleModel",
      "state": {
       "description_width": ""
      }
     },
     "c5d2f8cb5a20429c9364e5cff9e60e53": {
      "model_module": "@jupyter-widgets/base",
      "model_module_version": "1.0.0",
      "model_name": "LayoutModel",
      "state": {}
     },
     "c5e38a6cdfc64bd9bcd199efada9a44e": {
      "model_module": "@jupyter-widgets/controls",
      "model_module_version": "1.1.0",
      "model_name": "CheckboxModel",
      "state": {
       "description": "Update GUI",
       "disabled": false,
       "layout": "IPY_MODEL_7f7855d11e0a4e55b3239cbb0b5ad7b9",
       "style": "IPY_MODEL_e0487458346d4919af3d89afefaed8fa",
       "value": true
      }
     },
     "c6700c4993ea4b3e865904759e5a4f4d": {
      "model_module": "@jupyter-widgets/controls",
      "model_module_version": "1.1.0",
      "model_name": "SliderStyleModel",
      "state": {
       "description_width": ""
      }
     },
     "c6f0a248a81b451e9d840ad09541b774": {
      "model_module": "@jupyter-widgets/base",
      "model_module_version": "1.0.0",
      "model_name": "LayoutModel",
      "state": {}
     },
     "c6fb198a40fa491f9710a67410d4f2b3": {
      "model_module": "@jupyter-widgets/controls",
      "model_module_version": "1.1.0",
      "model_name": "HBoxModel",
      "state": {
       "children": [
        "IPY_MODEL_2191825334304bfe85f37a3383a3a55c",
        "IPY_MODEL_e33f9e23ce584704a9ffb55b622333ae",
        "IPY_MODEL_fa60d6b04dc642339c180042e1142476"
       ],
       "layout": "IPY_MODEL_4857fe65d83d4a8ea76ba5373a967423"
      }
     },
     "c730f638bf88458992405beb1e0e4a8b": {
      "model_module": "@jupyter-widgets/base",
      "model_module_version": "1.0.0",
      "model_name": "LayoutModel",
      "state": {}
     },
     "c7624e735f194224af18365d1e409bc8": {
      "model_module": "@jupyter-widgets/base",
      "model_module_version": "1.0.0",
      "model_name": "LayoutModel",
      "state": {
       "height": "248px",
       "padding": "0px 0px 0px 0px",
       "width": "10px"
      }
     },
     "c79ec166b6a648b3b6c58f461d8dba07": {
      "model_module": "@jupyter-widgets/controls",
      "model_module_version": "1.1.0",
      "model_name": "SliderStyleModel",
      "state": {
       "description_width": ""
      }
     },
     "c7bddb926f6a431ba7ed3a804672d429": {
      "model_module": "@jupyter-widgets/output",
      "model_module_version": "1.1.0",
      "model_name": "OutputModel",
      "state": {
       "_model_module_version": "1.1.0",
       "_view_module_version": "1.1.0",
       "layout": "IPY_MODEL_cc4b8e37f60c4513b71be53b957174a7"
      }
     },
     "c800673a633545408aa7485c64e17389": {
      "model_module": "@jupyter-widgets/base",
      "model_module_version": "1.0.0",
      "model_name": "LayoutModel",
      "state": {}
     },
     "c806fea977f64e55a46eaaee17782c12": {
      "model_module": "@jupyter-widgets/controls",
      "model_module_version": "1.1.0",
      "model_name": "DescriptionStyleModel",
      "state": {
       "description_width": ""
      }
     },
     "c8263c705d0b4e87b412f95a8ff30948": {
      "model_module": "@jupyter-widgets/controls",
      "model_module_version": "1.1.0",
      "model_name": "IntTextModel",
      "state": {
       "description": "Feature columns:",
       "layout": "IPY_MODEL_1f71ffd9ce5a4b41bdba86cb65d25bed",
       "step": 1,
       "style": "IPY_MODEL_e0e9143c0bb148ae805c4bcdf6c728ae",
       "value": 3
      }
     },
     "c827f0d6c8fd450e915209c0b7a01da2": {
      "model_module": "@jupyter-widgets/base",
      "model_module_version": "1.0.0",
      "model_name": "LayoutModel",
      "state": {}
     },
     "c8518ff0d18242a29ef9f473b7d1a4e4": {
      "model_module": "@jupyter-widgets/controls",
      "model_module_version": "1.1.0",
      "model_name": "TextModel",
      "state": {
       "description": "Time:",
       "layout": "IPY_MODEL_1cd6c145e005443bb7373dfc4ac255cc",
       "style": "IPY_MODEL_bcad53e48ac34d5cb96addd525af0c25",
       "value": "0.30 seconds"
      }
     },
     "c85f2c2fb6c34b89850eb8d54d73af01": {
      "model_module": "@jupyter-widgets/base",
      "model_module_version": "1.0.0",
      "model_name": "LayoutModel",
      "state": {}
     },
     "c86170d7d5ff4fbbbfa9c37d53ddd447": {
      "model_module": "@jupyter-widgets/controls",
      "model_module_version": "1.1.0",
      "model_name": "ButtonStyleModel",
      "state": {}
     },
     "c87d538c310d4949b519c8e942afe0e7": {
      "model_module": "@jupyter-widgets/base",
      "model_module_version": "1.0.0",
      "model_name": "LayoutModel",
      "state": {}
     },
     "c8811e5d699049c0b715635e5860ac77": {
      "model_module": "@jupyter-widgets/base",
      "model_module_version": "1.0.0",
      "model_name": "LayoutModel",
      "state": {}
     },
     "c883b996f2cc4fd8bc7c0ed5f986eba3": {
      "model_module": "@jupyter-widgets/base",
      "model_module_version": "1.0.0",
      "model_name": "LayoutModel",
      "state": {}
     },
     "c88cca4fd8ce44ffbecab511bbf7caff": {
      "model_module": "@jupyter-widgets/controls",
      "model_module_version": "1.1.0",
      "model_name": "CheckboxModel",
      "state": {
       "description": "Trace Path",
       "disabled": false,
       "layout": "IPY_MODEL_bab14bf507e549c0a4cbb61226d74bf5",
       "style": "IPY_MODEL_fbf4a3d0e5074ff0a3467b27aec4bc11",
       "value": false
      }
     },
     "c899224c7cb9415396fe0ca0c0b87f6a": {
      "model_module": "@jupyter-widgets/controls",
      "model_module_version": "1.1.0",
      "model_name": "DescriptionStyleModel",
      "state": {
       "description_width": ""
      }
     },
     "c94af1276b9f4ff5867cd0fb667b5583": {
      "model_module": "@jupyter-widgets/controls",
      "model_module_version": "1.1.0",
      "model_name": "HBoxModel",
      "state": {
       "children": [
        "IPY_MODEL_edd12e230f60471982f1bff579f6106d",
        "IPY_MODEL_6e86a17dd99941cc8b8e65ffa4429a2b",
        "IPY_MODEL_c8518ff0d18242a29ef9f473b7d1a4e4"
       ],
       "layout": "IPY_MODEL_76bb22141d6d4b8399922ae7ffcd1843"
      }
     },
     "c9e264725a584b478f4336e3cc4ec401": {
      "model_module": "@jupyter-widgets/controls",
      "model_module_version": "1.1.0",
      "model_name": "TextModel",
      "state": {
       "description": "Time:",
       "layout": "IPY_MODEL_fdb10b3f93b04a448097809fc5231ca5",
       "style": "IPY_MODEL_10bd8e37350b452ca3e19dd2d7dfc206",
       "value": "5.30 seconds"
      }
     },
     "c9f73094a2924953b746b2fdb17c1526": {
      "model_module": "@jupyter-widgets/controls",
      "model_module_version": "1.1.0",
      "model_name": "VBoxModel",
      "state": {
       "children": [
        "IPY_MODEL_03c479e919774e5798e2c9b20fc32f26",
        "IPY_MODEL_a1f78f46f1ba481095c0124af4a4b30f"
       ],
       "layout": "IPY_MODEL_9c1ef86b6a5e4a92869ad44c999418cf"
      }
     },
     "ca05dd45bfc74394b1edaf584abb66a2": {
      "model_module": "@jupyter-widgets/base",
      "model_module_version": "1.0.0",
      "model_name": "LayoutModel",
      "state": {}
     },
     "ca2880016c0a4bf9a5472da07e007dc4": {
      "model_module": "@jupyter-widgets/base",
      "model_module_version": "1.0.0",
      "model_name": "LayoutModel",
      "state": {}
     },
     "ca2a760a23d14291a09c344abcda580e": {
      "model_module": "@jupyter-widgets/base",
      "model_module_version": "1.0.0",
      "model_name": "LayoutModel",
      "state": {}
     },
     "ca3af9451f254f5694422ff1be53b291": {
      "model_module": "@jupyter-widgets/controls",
      "model_module_version": "1.1.0",
      "model_name": "DescriptionStyleModel",
      "state": {
       "description_width": "initial"
      }
     },
     "ca6178c2e6dd4c699670f5ebcfb011b2": {
      "model_module": "@jupyter-widgets/controls",
      "model_module_version": "1.1.0",
      "model_name": "PlayModel",
      "state": {
       "layout": "IPY_MODEL_c87d538c310d4949b519c8e942afe0e7",
       "max": 1000000,
       "style": "IPY_MODEL_e75718a6f87546b0ab2b53088484e4e8"
      }
     },
     "ca6292eebbcc41ac933ea3344fb8231a": {
      "model_module": "@jupyter-widgets/base",
      "model_module_version": "1.0.0",
      "model_name": "LayoutModel",
      "state": {
       "height": "30px",
       "padding": "0px 0px 0px 10px",
       "width": "260px"
      }
     },
     "ca6ca62ab0784cfb8ed7f92a9266499b": {
      "model_module": "@jupyter-widgets/controls",
      "model_module_version": "1.1.0",
      "model_name": "HTMLModel",
      "state": {
       "layout": "IPY_MODEL_cb4f2a31564b43b3aa030d7f9d482c52",
       "style": "IPY_MODEL_ff8a6c183bd241b8be22671491d5bd81",
       "value": "<img style=\"image-rendering: pixelated;\" src=\"data:image/gif;base64,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\" width=\"240\"/>"
      }
     },
     "ca9e1efdd33f4934ac4f2dd4b64e5b79": {
      "model_module": "@jupyter-widgets/controls",
      "model_module_version": "1.1.0",
      "model_name": "PlayModel",
      "state": {
       "layout": "IPY_MODEL_907d291d9c9448c4a32d6670edf27d30",
       "max": 1000000,
       "style": "IPY_MODEL_d7c48d56b4494a2da810413ced6a8e88"
      }
     },
     "caa3e2590e4246aa8b780fde4b799b41": {
      "model_module": "@jupyter-widgets/controls",
      "model_module_version": "1.1.0",
      "model_name": "HTMLModel",
      "state": {
       "layout": "IPY_MODEL_e0e77bd1e4384fdab5c5b28f175ada9e",
       "style": "IPY_MODEL_1f16b5a44cb44bcaa2d1952ec9b916a2",
       "value": "<svg baseProfile=\"full\" height=\"240\" version=\"1.1\" width=\"240\" xmlns=\"http://www.w3.org/2000/svg\" xmlns:ev=\"http://www.w3.org/2001/xml-events\" xmlns:xlink=\"http://www.w3.org/1999/xlink\"><defs /><rect fill=\"#eef3dd\" height=\"240.0\" stroke=\"#bebebe\" stroke-width=\"1\" width=\"240.0\" x=\"0.0\" y=\"0.0\" /><polygon fill=\"red\" points=\"105.97213142748011,177.08299754677705 106.85342101718891,184.2915569492562 122.23041478777621,193.64826911642896 129.0376220833611,191.11806579753622 134.0278685725199,182.91700245322295 133.14657898281112,175.7084430507438 117.7695852122238,166.35173088357104 110.96237791663893,168.88193420246378\" stroke=\"red\" stroke-width=\"1\" /><polygon points=\"-3.0,-3.0 0,0 3.0,-3.0 0,3.0\" stroke=\"black\" stroke-width=\"1\" transform=\"translate(120.0,180.0) rotate(121.32000000000001)\" /><circle cx=\"103.00917257454206\" cy=\"181.95237890746301\" fill=\"yellow\" r=\"1.5\" stroke=\"orange\" stroke-width=\"1\" /><circle cx=\"105.7382136233008\" cy=\"177.46742239104174\" fill=\"yellow\" r=\"1.5\" stroke=\"orange\" stroke-width=\"1\" /><circle cx=\"111.19629572081824\" cy=\"168.4975093581991\" fill=\"yellow\" r=\"1.5\" stroke=\"orange\" stroke-width=\"1\" /><circle cx=\"113.92533676957697\" cy=\"164.01255284177782\" fill=\"yellow\" r=\"1.5\" stroke=\"orange\" stroke-width=\"1\" /></svg>"
      }
     },
     "caaa9b35ea6841669d4f70a46e302a20": {
      "model_module": "@jupyter-widgets/controls",
      "model_module_version": "1.1.0",
      "model_name": "VBoxModel",
      "state": {
       "children": [
        "IPY_MODEL_6a813f1f9e184262baa82954159d931a",
        "IPY_MODEL_369b8b25ed9e481ebc5c41ba23e725ba",
        "IPY_MODEL_2779c5cd502245be815000fd96280237"
       ],
       "layout": "IPY_MODEL_cda81cb123f9494a9a9344892fd73e58"
      }
     },
     "cb2a8be695ac4f67ad765bfae0b506dc": {
      "model_module": "@jupyter-widgets/controls",
      "model_module_version": "1.1.0",
      "model_name": "HBoxModel",
      "state": {
       "children": [
        "IPY_MODEL_0e469a71dbb24a759427f123c807d49e",
        "IPY_MODEL_b5165c8b3a214cddbbc33d5e9326c731",
        "IPY_MODEL_549b3b07b7c84712a6e85b3d795395a9"
       ],
       "layout": "IPY_MODEL_bd6bffe475e7402d93756fa9dc48c054"
      }
     },
     "cb4f2a31564b43b3aa030d7f9d482c52": {
      "model_module": "@jupyter-widgets/base",
      "model_module_version": "1.0.0",
      "model_name": "LayoutModel",
      "state": {}
     },
     "cb5f1822701c48a7b1ab84d6fe08cf58": {
      "model_module": "@jupyter-widgets/base",
      "model_module_version": "1.0.0",
      "model_name": "LayoutModel",
      "state": {}
     },
     "cb8628931d8141e18d5d6a4f7b5006fe": {
      "model_module": "@jupyter-widgets/controls",
      "model_module_version": "1.1.0",
      "model_name": "ButtonStyleModel",
      "state": {}
     },
     "cbbd316639d24c80870ed64489511ca7": {
      "model_module": "@jupyter-widgets/base",
      "model_module_version": "1.0.0",
      "model_name": "LayoutModel",
      "state": {}
     },
     "cbc52d7999424afc8385759cdd5ddc6c": {
      "model_module": "@jupyter-widgets/controls",
      "model_module_version": "1.1.0",
      "model_name": "HBoxModel",
      "state": {
       "children": [
        "IPY_MODEL_65611abac1a14eb69e27ffe1b7d5c98c",
        "IPY_MODEL_be537bf8c7404e58b6ad0e2b3a1f73d6",
        "IPY_MODEL_069b5da699aa4cf5a075fec44db3a0e6"
       ],
       "layout": "IPY_MODEL_2090ba2c90e743829f0bf148544cbfaf"
      }
     },
     "cc1ad62c3283491d8f1e3a7828155417": {
      "model_module": "@jupyter-widgets/controls",
      "model_module_version": "1.1.0",
      "model_name": "HBoxModel",
      "state": {
       "children": [
        "IPY_MODEL_d69c9400bbce43c9a5cfe2006e3be5d0",
        "IPY_MODEL_6630dceea213476f85d7fb675b71bdbe",
        "IPY_MODEL_a070ca94b18a4d0487225d61824d7ccf"
       ],
       "layout": "IPY_MODEL_b28cd8d9d173457db1bd3ac3cce15db5"
      }
     },
     "cc264357b49f45bfb90d6ddd64882c12": {
      "model_module": "@jupyter-widgets/base",
      "model_module_version": "1.0.0",
      "model_name": "LayoutModel",
      "state": {}
     },
     "cc4b8e37f60c4513b71be53b957174a7": {
      "model_module": "@jupyter-widgets/base",
      "model_module_version": "1.0.0",
      "model_name": "LayoutModel",
      "state": {}
     },
     "cc745088a50843c3b8d137d63697d5ac": {
      "model_module": "@jupyter-widgets/controls",
      "model_module_version": "1.1.0",
      "model_name": "VBoxModel",
      "state": {
       "children": [
        "IPY_MODEL_201f29822b894afaab84872fdbc953d5",
        "IPY_MODEL_5f82769a7d6848f388c30e19dd757216",
        "IPY_MODEL_c2bcb0e75483401cb97cd3f683223600"
       ],
       "layout": "IPY_MODEL_85ccd053ddcd40bd963c7636c58cc7e2"
      }
     },
     "cc78a5ab3d1247e9a919a3993a8f8b45": {
      "model_module": "@jupyter-widgets/controls",
      "model_module_version": "1.1.0",
      "model_name": "FloatSliderModel",
      "state": {
       "layout": "IPY_MODEL_05c9fc8096f649048d05cf6aed6f4e86",
       "readout": false,
       "step": 0.1,
       "style": "IPY_MODEL_a0d85ff5194d4d4bb4713c2f5bdec9a2",
       "value": 100
      }
     },
     "cc93e1b95bb04233980da3ab46761688": {
      "model_module": "@jupyter-widgets/base",
      "model_module_version": "1.0.0",
      "model_name": "LayoutModel",
      "state": {}
     },
     "cc95a3a3224c49a98f8bf683c452fc7a": {
      "model_module": "@jupyter-widgets/controls",
      "model_module_version": "1.1.0",
      "model_name": "HTMLModel",
      "state": {
       "layout": "IPY_MODEL_976cc6bdbd7f4f48842dea9f6882e54d",
       "style": "IPY_MODEL_4be5c362298e48e98d09e27ed66304e4",
       "value": "<svg baseProfile=\"full\" height=\"240\" version=\"1.1\" width=\"240\" xmlns=\"http://www.w3.org/2000/svg\" xmlns:ev=\"http://www.w3.org/2001/xml-events\" xmlns:xlink=\"http://www.w3.org/1999/xlink\"><defs /><rect fill=\"#eef3dd\" height=\"240.0\" stroke=\"#bebebe\" stroke-width=\"1\" width=\"80.0\" x=\"0.0\" y=\"0.0\" /><line fill=\"#800080\" stroke=\"#add8e6\" stroke-width=\"1\" x1=\"33.0\" x2=\"0.0\" y1=\"46.56553736753388\" y2=\"46.56553599999999\" /><line fill=\"#800080\" stroke=\"#add8e6\" stroke-width=\"1\" x1=\"34.0\" x2=\"0.0\" y1=\"43.76553736753387\" y2=\"27.911076\" /><line fill=\"#800080\" stroke=\"#add8e6\" stroke-width=\"1\" x1=\"35.6\" x2=\"0.0\" y1=\"42.56553736753386\" y2=\"0.13910800000001444\" /><line fill=\"#800080\" stroke=\"#add8e6\" stroke-width=\"1\" x1=\"38.0\" x2=\"26.862548249947412\" y1=\"41.56553736753388\" y2=\"0.0\" /><line fill=\"#800080\" stroke=\"#add8e6\" stroke-width=\"1\" x1=\"42.0\" x2=\"53.1374517500526\" y1=\"41.56553736753388\" y2=\"0.0\" /><line fill=\"#800080\" stroke=\"#add8e6\" stroke-width=\"1\" x1=\"44.400000000000006\" x2=\"80.0\" y1=\"42.56553736753386\" y2=\"0.13910799999997892\" /><line fill=\"#800080\" stroke=\"#add8e6\" stroke-width=\"1\" x1=\"46.0\" x2=\"80.0\" y1=\"43.76553736753387\" y2=\"27.911075999999966\" /><line fill=\"#800080\" stroke=\"#add8e6\" stroke-width=\"1\" x1=\"47.0\" x2=\"80.0\" y1=\"46.56553736753388\" y2=\"46.56553599999999\" /><line fill=\"#800080\" stroke=\"#a020f0\" stroke-width=\"1\" x1=\"40.0\" x2=\"0.0\" y1=\"50.565537367533864\" y2=\"27.47152400000001\" /><line fill=\"#800080\" stroke=\"#a020f0\" stroke-width=\"1\" x1=\"40.0\" x2=\"80.0\" y1=\"50.565537367533864\" y2=\"27.47152400000001\" /><polygon fill=\"red\" points=\"36.800000000000004,41.56553736753388 33.0,44.56553736753385 33.0,56.56553736753388 36.800000000000004,59.56553736753385 43.2,59.56553736753385 47.0,56.56553736753388 47.0,44.56553736753385 43.2,41.56553736753388\" stroke=\"red\" stroke-width=\"1\" /><polygon points=\"-2.0,-2.0 0,0 2.0,-2.0 0,2.0\" stroke=\"black\" stroke-width=\"1\" transform=\"translate(40.0,50.565537367533864) rotate(180.0)\" /><polygon fill=\"black\" points=\"42.400000000000006,44.96553736753388 42.400000000000006,48.16553736753388 37.599999999999994,48.16553736753388 37.599999999999994,44.96553736753388\" stroke=\"black\" stroke-width=\"1\" /></svg>"
      }
     },
     "cc9cfb5b9ccd45ef8b74c85a5da278ac": {
      "model_module": "@jupyter-widgets/base",
      "model_module_version": "1.0.0",
      "model_name": "LayoutModel",
      "state": {}
     },
     "cd17a9e67ef446d1a1319e475300e820": {
      "model_module": "@jupyter-widgets/controls",
      "model_module_version": "1.1.0",
      "model_name": "SliderStyleModel",
      "state": {
       "description_width": ""
      }
     },
     "cd23be5b15fa495caf227e9dac79d81e": {
      "model_module": "@jupyter-widgets/base",
      "model_module_version": "1.0.0",
      "model_name": "LayoutModel",
      "state": {
       "width": "100%"
      }
     },
     "cd516ecd1793476ebeae7744ce2e3b98": {
      "model_module": "@jupyter-widgets/controls",
      "model_module_version": "1.1.0",
      "model_name": "HTMLModel",
      "state": {
       "layout": "IPY_MODEL_d863772367e943cbac9cd13742a0cd9c",
       "style": "IPY_MODEL_9d8f560ee1e6411eb0752f081cec8854",
       "value": "<svg baseProfile=\"full\" height=\"240\" version=\"1.1\" width=\"240\" xmlns=\"http://www.w3.org/2000/svg\" xmlns:ev=\"http://www.w3.org/2001/xml-events\" xmlns:xlink=\"http://www.w3.org/1999/xlink\"><defs /><rect fill=\"#eef3dd\" height=\"240.0\" stroke=\"#bebebe\" stroke-width=\"1\" width=\"120.0\" x=\"0.0\" y=\"0.0\" /><line fill=\"#800080\" stroke=\"#add8e6\" stroke-width=\"1\" x1=\"49.5\" x2=\"0.0\" y1=\"65.45711338732923\" y2=\"65.45711399999999\" /><line fill=\"#800080\" stroke=\"#add8e6\" stroke-width=\"1\" x1=\"51.0\" x2=\"0.0\" y1=\"61.257113387329234\" y2=\"37.47542400000001\" /><line fill=\"#800080\" stroke=\"#add8e6\" stroke-width=\"1\" x1=\"53.4\" x2=\"3.509557680379564\" y1=\"59.457113387329215\" y2=\"0.0\" /><line fill=\"#800080\" stroke=\"#add8e6\" stroke-width=\"1\" x1=\"57.0\" x2=\"41.470438223146324\" y1=\"57.95711338732922\" y2=\"0.0\" /><line fill=\"#800080\" stroke=\"#add8e6\" stroke-width=\"1\" x1=\"63.0\" x2=\"78.52956177685368\" y1=\"57.95711338732922\" y2=\"0.0\" /><line fill=\"#800080\" stroke=\"#add8e6\" stroke-width=\"1\" x1=\"66.60000000000001\" x2=\"116.49044231962044\" y1=\"59.457113387329215\" y2=\"0.0\" /><line fill=\"#800080\" stroke=\"#add8e6\" stroke-width=\"1\" x1=\"69.0\" x2=\"120.0\" y1=\"61.257113387329234\" y2=\"37.47542400000001\" /><line fill=\"#800080\" stroke=\"#add8e6\" stroke-width=\"1\" x1=\"70.5\" x2=\"120.0\" y1=\"65.45711338732923\" y2=\"65.45711399999999\" /><line fill=\"#800080\" stroke=\"#a020f0\" stroke-width=\"1\" x1=\"60.0\" x2=\"0.0\" y1=\"71.45711338732923\" y2=\"36.816096\" /><line fill=\"#800080\" stroke=\"#a020f0\" stroke-width=\"1\" x1=\"60.0\" x2=\"120.0\" y1=\"71.45711338732923\" y2=\"36.816096\" /><polygon fill=\"red\" points=\"55.2,57.95711338732922 49.5,62.45711338732924 49.5,80.45711338732923 55.2,84.95711338732923 64.80000000000001,84.95711338732923 70.5,80.45711338732923 70.5,62.45711338732924 64.80000000000001,57.95711338732922\" stroke=\"red\" stroke-width=\"1\" /><polygon points=\"-3.0,-3.0 0,0 3.0,-3.0 0,3.0\" stroke=\"black\" stroke-width=\"1\" transform=\"translate(60.0,71.45711338732923) rotate(180.0)\" /><polygon fill=\"black\" points=\"63.6,63.057113387329224 63.6,67.85711338732922 56.4,67.85711338732922 56.4,63.057113387329224\" stroke=\"black\" stroke-width=\"1\" /></svg>"
      }
     },
     "cd58f2b9e49b44d590d2b1e9cdd48135": {
      "model_module": "@jupyter-widgets/controls",
      "model_module_version": "1.1.0",
      "model_name": "DescriptionStyleModel",
      "state": {
       "description_width": ""
      }
     },
     "cda81cb123f9494a9a9344892fd73e58": {
      "model_module": "@jupyter-widgets/base",
      "model_module_version": "1.0.0",
      "model_name": "LayoutModel",
      "state": {}
     },
     "cde48f0dbb124523b15b710c30ed15d4": {
      "model_module": "@jupyter-widgets/base",
      "model_module_version": "1.0.0",
      "model_name": "LayoutModel",
      "state": {}
     },
     "cdfa5fe17c6f45ac9684ee77d6b64fb8": {
      "model_module": "@jupyter-widgets/controls",
      "model_module_version": "1.1.0",
      "model_name": "FloatSliderModel",
      "state": {
       "layout": "IPY_MODEL_928d996540b6461fa541b8a3de2b2c03",
       "readout": false,
       "step": 0.1,
       "style": "IPY_MODEL_6e206f406fe544d1b8f8234c4804e902",
       "value": 100
      }
     },
     "ce6cc74d2444421c97475f79a477fb8b": {
      "model_module": "@jupyter-widgets/controls",
      "model_module_version": "1.1.0",
      "model_name": "HBoxModel",
      "state": {
       "children": [
        "IPY_MODEL_1d879efc501b4802adbe3b66adaf40a9",
        "IPY_MODEL_6b48851aaa6e4ac2824bcb2c2ab4c16b",
        "IPY_MODEL_d9741f68e4244fb59dc7f7cb5374f14d"
       ],
       "layout": "IPY_MODEL_9b20c24a357a406bab6cd3d7e9fd1d15"
      }
     },
     "ced2f167719e426c9ed20ca8865f9394": {
      "model_module": "@jupyter-widgets/controls",
      "model_module_version": "1.1.0",
      "model_name": "SliderStyleModel",
      "state": {
       "description_width": ""
      }
     },
     "cef6023fdd7948dab009ccf56032a150": {
      "model_module": "@jupyter-widgets/base",
      "model_module_version": "1.0.0",
      "model_name": "LayoutModel",
      "state": {}
     },
     "cefcf78f51e648cabdf67afd0d6e9812": {
      "model_module": "@jupyter-widgets/base",
      "model_module_version": "1.0.0",
      "model_name": "LayoutModel",
      "state": {
       "height": "20px",
       "padding": "0px 0px 0px 0px",
       "width": "248px"
      }
     },
     "cf081279275f4ff3bb09498914f9b9b9": {
      "model_module": "@jupyter-widgets/controls",
      "model_module_version": "1.1.0",
      "model_name": "VBoxModel",
      "state": {
       "children": [
        "IPY_MODEL_3ef31978734c44b99b7ae2a6d6ec7eb5",
        "IPY_MODEL_abb38955aa984a8292cf5f10b9c6f7d2"
       ],
       "layout": "IPY_MODEL_deb143c189004ec7be37578bd2791eff"
      }
     },
     "cf2164ad255f40068a033faebe362658": {
      "model_module": "@jupyter-widgets/controls",
      "model_module_version": "1.1.0",
      "model_name": "DescriptionStyleModel",
      "state": {
       "description_width": ""
      }
     },
     "cf3574fd88f448e4b1dca57f977f1b50": {
      "model_module": "@jupyter-widgets/controls",
      "model_module_version": "1.1.0",
      "model_name": "DescriptionStyleModel",
      "state": {
       "description_width": ""
      }
     },
     "cf4bff6f691e488795e5260f69a888f7": {
      "model_module": "@jupyter-widgets/base",
      "model_module_version": "1.0.0",
      "model_name": "LayoutModel",
      "state": {}
     },
     "cf88ae8f3dd34208acffaafccbde462e": {
      "model_module": "@jupyter-widgets/controls",
      "model_module_version": "1.1.0",
      "model_name": "PlayModel",
      "state": {
       "layout": "IPY_MODEL_7bb5ca827edd47efa9e3efa8757957a7",
       "max": 1000000,
       "style": "IPY_MODEL_b654522dab3e4375a4cd45222492fa85"
      }
     },
     "cfbcaa12db40483b9870b6465716f285": {
      "model_module": "@jupyter-widgets/controls",
      "model_module_version": "1.1.0",
      "model_name": "DescriptionStyleModel",
      "state": {
       "description_width": ""
      }
     },
     "cfbcf22fd8fd4bca9f27f10dd0516e73": {
      "model_module": "@jupyter-widgets/controls",
      "model_module_version": "1.1.0",
      "model_name": "VBoxModel",
      "state": {
       "children": [
        "IPY_MODEL_cbc52d7999424afc8385759cdd5ddc6c",
        "IPY_MODEL_5f369226ccdc4d9288d2394841a1aefd"
       ],
       "layout": "IPY_MODEL_e1e27599e9e744118a7ac76f846e9c9b"
      }
     },
     "cfebe84ead83403a8b3d19ed9b142523": {
      "model_module": "@jupyter-widgets/base",
      "model_module_version": "1.0.0",
      "model_name": "LayoutModel",
      "state": {}
     },
     "d01e1bd86ef440d79f086d23d22d1ad5": {
      "model_module": "@jupyter-widgets/base",
      "model_module_version": "1.0.0",
      "model_name": "LayoutModel",
      "state": {}
     },
     "d02110c679fe4732b7798502cec3a19e": {
      "model_module": "@jupyter-widgets/controls",
      "model_module_version": "1.1.0",
      "model_name": "ButtonStyleModel",
      "state": {}
     },
     "d1f609dd40f34d329f6509d987a1e214": {
      "model_module": "@jupyter-widgets/base",
      "model_module_version": "1.0.0",
      "model_name": "LayoutModel",
      "state": {}
     },
     "d23d04ce046d4ef897ef641c90219816": {
      "model_module": "@jupyter-widgets/base",
      "model_module_version": "1.0.0",
      "model_name": "LayoutModel",
      "state": {}
     },
     "d268579011cd4852b6c7da48d743cc86": {
      "model_module": "@jupyter-widgets/base",
      "model_module_version": "1.0.0",
      "model_name": "LayoutModel",
      "state": {}
     },
     "d294bf7b10e64272a78af2150b8440e5": {
      "model_module": "@jupyter-widgets/controls",
      "model_module_version": "1.1.0",
      "model_name": "DescriptionStyleModel",
      "state": {
       "description_width": ""
      }
     },
     "d29dc480dfb14d4f9e71dbb77a28a1a1": {
      "model_module": "@jupyter-widgets/controls",
      "model_module_version": "1.1.0",
      "model_name": "HBoxModel",
      "state": {
       "children": [
        "IPY_MODEL_5a4765a350be49e7b4fda0ebaa3acda4",
        "IPY_MODEL_e29a7900c9d9454f9d0177f3492a2d9c"
       ],
       "layout": "IPY_MODEL_4d1f52ecb3074d2190e07512c2d3b6f1"
      }
     },
     "d2ec5ac6af424bdda0866e0044ba6bfa": {
      "model_module": "@jupyter-widgets/controls",
      "model_module_version": "1.1.0",
      "model_name": "SliderStyleModel",
      "state": {
       "description_width": ""
      }
     },
     "d320e6ed5b274991891133e8c350c678": {
      "model_module": "@jupyter-widgets/controls",
      "model_module_version": "1.1.0",
      "model_name": "VBoxModel",
      "state": {
       "children": [
        "IPY_MODEL_7bcbde39dc894a598cf2986c5598b884",
        "IPY_MODEL_4a735984184d44be95760bd95423d527"
       ],
       "layout": "IPY_MODEL_18e3a806b9494194879605b200786857"
      }
     },
     "d3633f04afb04473a1e6c9bbb5eb0fb3": {
      "model_module": "@jupyter-widgets/controls",
      "model_module_version": "1.1.0",
      "model_name": "DescriptionStyleModel",
      "state": {
       "description_width": ""
      }
     },
     "d3819d9655864d4aa5c39db3a08c9828": {
      "model_module": "@jupyter-widgets/base",
      "model_module_version": "1.0.0",
      "model_name": "LayoutModel",
      "state": {}
     },
     "d38f646f68f8445995bdb861a98b81dc": {
      "model_module": "@jupyter-widgets/base",
      "model_module_version": "1.0.0",
      "model_name": "LayoutModel",
      "state": {
       "height": "30px",
       "padding": "0px 0px 0px 10px",
       "width": "260px"
      }
     },
     "d3aad3e9796d4453a6e9399acd9a3130": {
      "model_module": "@jupyter-widgets/controls",
      "model_module_version": "1.1.0",
      "model_name": "CheckboxModel",
      "state": {
       "description": "Trace Path",
       "disabled": false,
       "layout": "IPY_MODEL_4c9d00d41a28446a9e4e45865e9cc555",
       "style": "IPY_MODEL_12c94af26ef540b1b03a00d3cf02abfe",
       "value": false
      }
     },
     "d485961a829740db856c8408d0ed8233": {
      "model_module": "@jupyter-widgets/base",
      "model_module_version": "1.0.0",
      "model_name": "LayoutModel",
      "state": {}
     },
     "d4bc03d5e9bb4acdad7971e7ac6fa5d2": {
      "model_module": "@jupyter-widgets/output",
      "model_module_version": "1.1.0",
      "model_name": "OutputModel",
      "state": {
       "_model_module_version": "1.1.0",
       "_view_module_version": "1.1.0",
       "layout": "IPY_MODEL_04694a5db04741f380cbfedaeaf52e58"
      }
     },
     "d502482fdf484239be4738a3772485e4": {
      "model_module": "@jupyter-widgets/base",
      "model_module_version": "1.0.0",
      "model_name": "LayoutModel",
      "state": {}
     },
     "d577a143aefe4c9b9c6b5482b5e0c2b4": {
      "model_module": "@jupyter-widgets/base",
      "model_module_version": "1.0.0",
      "model_name": "LayoutModel",
      "state": {}
     },
     "d58c765e34134c4cab6f79b444037f89": {
      "model_module": "@jupyter-widgets/controls",
      "model_module_version": "1.1.0",
      "model_name": "DescriptionStyleModel",
      "state": {
       "description_width": ""
      }
     },
     "d5fbb13b20284636a30223663d2a0c35": {
      "model_module": "@jupyter-widgets/base",
      "model_module_version": "1.0.0",
      "model_name": "LayoutModel",
      "state": {}
     },
     "d65bd0b180a44255badfa33f13432bba": {
      "model_module": "@jupyter-widgets/controls",
      "model_module_version": "1.1.0",
      "model_name": "DescriptionStyleModel",
      "state": {
       "description_width": ""
      }
     },
     "d67e6afba785465b9ae7f00347c9caf6": {
      "model_module": "@jupyter-widgets/controls",
      "model_module_version": "1.1.0",
      "model_name": "FloatSliderModel",
      "state": {
       "layout": "IPY_MODEL_3d129ceb8cb7411ba15dd0be82d3845a",
       "orientation": "vertical",
       "readout": false,
       "step": 0.1,
       "style": "IPY_MODEL_3ccccef0286e45e5b28aacbc0445b62e",
       "value": 70.36151707989653
      }
     },
     "d69c9400bbce43c9a5cfe2006e3be5d0": {
      "model_module": "@jupyter-widgets/controls",
      "model_module_version": "1.1.0",
      "model_name": "CheckboxModel",
      "state": {
       "description": "Update GUI",
       "disabled": false,
       "layout": "IPY_MODEL_430e1816b77746d5886bb4e5d9912ffe",
       "style": "IPY_MODEL_199248e68bf840e2a9fd04c90f46359d",
       "value": true
      }
     },
     "d6a79f77eb7d47b799b68269fd42a5fd": {
      "model_module": "@jupyter-widgets/controls",
      "model_module_version": "1.1.0",
      "model_name": "DescriptionStyleModel",
      "state": {
       "description_width": ""
      }
     },
     "d6cc312f246f43c7b845a9f62bbf9af5": {
      "model_module": "@jupyter-widgets/controls",
      "model_module_version": "1.1.0",
      "model_name": "DescriptionStyleModel",
      "state": {
       "description_width": ""
      }
     },
     "d6f324e8f3814c3a86bfcfe40811f46d": {
      "model_module": "@jupyter-widgets/base",
      "model_module_version": "1.0.0",
      "model_name": "LayoutModel",
      "state": {}
     },
     "d707009912864d48a3389c7cebb9da55": {
      "model_module": "@jupyter-widgets/controls",
      "model_module_version": "1.1.0",
      "model_name": "ButtonStyleModel",
      "state": {}
     },
     "d7166d6b5370429f91b462e1bdffd3a9": {
      "model_module": "@jupyter-widgets/base",
      "model_module_version": "1.0.0",
      "model_name": "LayoutModel",
      "state": {}
     },
     "d73c458688454bb198bb8f90683349a4": {
      "model_module": "@jupyter-widgets/base",
      "model_module_version": "1.0.0",
      "model_name": "LayoutModel",
      "state": {
       "width": "25%"
      }
     },
     "d760019cb9694dd9aec45057645e3e46": {
      "model_module": "@jupyter-widgets/base",
      "model_module_version": "1.0.0",
      "model_name": "LayoutModel",
      "state": {}
     },
     "d78be5870f4548c9a70a3b6aeea79d18": {
      "model_module": "@jupyter-widgets/controls",
      "model_module_version": "1.1.0",
      "model_name": "DescriptionStyleModel",
      "state": {
       "description_width": ""
      }
     },
     "d7c48d56b4494a2da810413ced6a8e88": {
      "model_module": "@jupyter-widgets/controls",
      "model_module_version": "1.1.0",
      "model_name": "DescriptionStyleModel",
      "state": {
       "description_width": ""
      }
     },
     "d8173d4d97a9433dac0f70b37d487d42": {
      "model_module": "@jupyter-widgets/controls",
      "model_module_version": "1.1.0",
      "model_name": "ButtonStyleModel",
      "state": {}
     },
     "d83ef905fbe34453a5971b414bfbeba4": {
      "model_module": "@jupyter-widgets/controls",
      "model_module_version": "1.1.0",
      "model_name": "SelectModel",
      "state": {
       "_options_labels": [
        "input",
        "hidden",
        "output"
       ],
       "description": "Layer:",
       "index": 2,
       "layout": "IPY_MODEL_776e848b5a9c4e3d8550a36b4b5879d8",
       "rows": 1,
       "style": "IPY_MODEL_b69db6451ecc4d6db7ed69a3aad20e0d"
      }
     },
     "d863772367e943cbac9cd13742a0cd9c": {
      "model_module": "@jupyter-widgets/base",
      "model_module_version": "1.0.0",
      "model_name": "LayoutModel",
      "state": {}
     },
     "d8833fca2d0b488b81e7681704cfd299": {
      "model_module": "@jupyter-widgets/controls",
      "model_module_version": "1.1.0",
      "model_name": "DescriptionStyleModel",
      "state": {
       "description_width": ""
      }
     },
     "d8fb9688ecab4d3b919ac654cc25cc9d": {
      "model_module": "@jupyter-widgets/base",
      "model_module_version": "1.0.0",
      "model_name": "LayoutModel",
      "state": {
       "height": "248px",
       "padding": "0px 0px 0px 0px",
       "width": "10px"
      }
     },
     "d93d8066f73b433fa6cc053657cb922f": {
      "model_module": "@jupyter-widgets/base",
      "model_module_version": "1.0.0",
      "model_name": "LayoutModel",
      "state": {}
     },
     "d96cb45bd70b4a9eb9f7d0be69a016e9": {
      "model_module": "@jupyter-widgets/controls",
      "model_module_version": "1.1.0",
      "model_name": "VBoxModel",
      "state": {
       "children": [
        "IPY_MODEL_132c8e10b1fc478b93590c33e05f35cd",
        "IPY_MODEL_52ede8d7d81647b08979f1e938ec4e10"
       ],
       "layout": "IPY_MODEL_a847a7074b144c73b306b6ca828f73af"
      }
     },
     "d9741f68e4244fb59dc7f7cb5374f14d": {
      "model_module": "@jupyter-widgets/controls",
      "model_module_version": "1.1.0",
      "model_name": "TextModel",
      "state": {
       "description": "Time:",
       "layout": "IPY_MODEL_3021f1ebd0bb46618626df3b8423feea",
       "style": "IPY_MODEL_d8833fca2d0b488b81e7681704cfd299",
       "value": "6.80 seconds"
      }
     },
     "d97a6e054bd04a958fa9207a31fe1cb2": {
      "model_module": "@jupyter-widgets/base",
      "model_module_version": "1.0.0",
      "model_name": "LayoutModel",
      "state": {}
     },
     "d99dd75be84141ebb943fc6aa69e72a0": {
      "model_module": "@jupyter-widgets/base",
      "model_module_version": "1.0.0",
      "model_name": "LayoutModel",
      "state": {}
     },
     "d9beee9da4ce407ab04788ebb761e754": {
      "model_module": "@jupyter-widgets/base",
      "model_module_version": "1.0.0",
      "model_name": "LayoutModel",
      "state": {}
     },
     "d9d5314642ac4d4da56053de8fa4dee9": {
      "model_module": "@jupyter-widgets/controls",
      "model_module_version": "1.1.0",
      "model_name": "VBoxModel",
      "state": {
       "children": [
        "IPY_MODEL_23663dc330194ebbb68bdc92d9ada5ba",
        "IPY_MODEL_fd5c51d639c24395b1efd788cafef805"
       ],
       "layout": "IPY_MODEL_13a679887a814f8c914e6c5724cd5a44"
      }
     },
     "da6529409aec412c9c7dc69df8fe8350": {
      "model_module": "@jupyter-widgets/controls",
      "model_module_version": "1.1.0",
      "model_name": "HBoxModel",
      "state": {
       "children": [
        "IPY_MODEL_39aebc1bfebb4d56ba6543047893b747",
        "IPY_MODEL_4a1fa36a617544eeb3b2ae24dfbb3ad7",
        "IPY_MODEL_f6344689807a47b280e04094988427dd"
       ],
       "layout": "IPY_MODEL_d760019cb9694dd9aec45057645e3e46"
      }
     },
     "dac04bb5439b43a2b4bbcd7ad5b395c5": {
      "model_module": "@jupyter-widgets/controls",
      "model_module_version": "1.1.0",
      "model_name": "ButtonStyleModel",
      "state": {}
     },
     "dae7613b7c184ba3a11569d12a1fc32b": {
      "model_module": "@jupyter-widgets/controls",
      "model_module_version": "1.1.0",
      "model_name": "ButtonStyleModel",
      "state": {}
     },
     "db0c06db398540c6a1a932337033b7e8": {
      "model_module": "@jupyter-widgets/controls",
      "model_module_version": "1.1.0",
      "model_name": "HTMLModel",
      "state": {
       "layout": "IPY_MODEL_8e1762ee28734820964e0a96fcdb026f",
       "style": "IPY_MODEL_0421eb610a354446a3dce4c9e86ad6ab",
       "value": "<svg baseProfile=\"full\" height=\"240\" version=\"1.1\" width=\"240\" xmlns=\"http://www.w3.org/2000/svg\" xmlns:ev=\"http://www.w3.org/2001/xml-events\" xmlns:xlink=\"http://www.w3.org/1999/xlink\"><defs /><rect fill=\"#eef3dd\" height=\"240.0\" stroke=\"#bebebe\" stroke-width=\"1\" width=\"120.0\" x=\"0.0\" y=\"0.0\" /><line fill=\"#800080\" stroke=\"#add8e6\" stroke-width=\"1\" x1=\"109.5\" x2=\"0.0\" y1=\"174.0\" y2=\"174.0\" /><line fill=\"#800080\" stroke=\"#add8e6\" stroke-width=\"1\" x1=\"111.0\" x2=\"0.0\" y1=\"169.8\" y2=\"118.039848\" /><line fill=\"#800080\" stroke=\"#add8e6\" stroke-width=\"1\" x1=\"113.4\" x2=\"0.0\" y1=\"168.0\" y2=\"32.855142\" /><line fill=\"#800080\" stroke=\"#add8e6\" stroke-width=\"1\" x1=\"117.0\" x2=\"72.38645873701557\" y1=\"166.5\" y2=\"0.0\" /><line fill=\"#800080\" stroke=\"#d3d3d3\" stroke-width=\"1\" x1=\"122.99999999999999\" x2=\"185.11657082460496\" y1=\"166.5\" y2=\"-65.3221983093764\" /><line fill=\"#800080\" stroke=\"#d3d3d3\" stroke-width=\"1\" x1=\"126.6\" x2=\"280.8690263247694\" y1=\"168.0\" y2=\"-15.850666348554707\" /><line fill=\"#800080\" stroke=\"#d3d3d3\" stroke-width=\"1\" x1=\"129.0\" x2=\"346.51386888879597\" y1=\"169.8\" y2=\"68.37161718223213\" /><line fill=\"#800080\" stroke=\"#d3d3d3\" stroke-width=\"1\" x1=\"130.5\" x2=\"370.5\" y1=\"174.0\" y2=\"173.99999999999997\" /><polygon fill=\"red\" points=\"115.19999999999999,166.5 109.5,171.0 109.5,189.0 115.19999999999999,193.5 124.80000000000001,193.5 130.5,189.0 130.5,171.0 124.80000000000001,166.5\" stroke=\"red\" stroke-width=\"1\" /><polygon points=\"-3.0,-3.0 0,0 3.0,-3.0 0,3.0\" stroke=\"black\" stroke-width=\"1\" transform=\"translate(120.0,180.0) rotate(180.0)\" /></svg>"
      }
     },
     "db412530b54746e584808f702d136988": {
      "model_module": "@jupyter-widgets/controls",
      "model_module_version": "1.1.0",
      "model_name": "DescriptionStyleModel",
      "state": {
       "description_width": "initial"
      }
     },
     "dba70fada4d7456a800e06da5f976f3a": {
      "model_module": "@jupyter-widgets/base",
      "model_module_version": "1.0.0",
      "model_name": "LayoutModel",
      "state": {}
     },
     "dbad09f4041849378026ff4c3c521c5d": {
      "model_module": "@jupyter-widgets/controls",
      "model_module_version": "1.1.0",
      "model_name": "DescriptionStyleModel",
      "state": {
       "description_width": ""
      }
     },
     "dbf04acbb301486d9e7189d69b41d3e8": {
      "model_module": "@jupyter-widgets/controls",
      "model_module_version": "1.1.0",
      "model_name": "TextModel",
      "state": {
       "description": "Time:",
       "layout": "IPY_MODEL_60b1b02f8cfd49868120d67dfb7d10db",
       "style": "IPY_MODEL_626ebd0210a949a0b318dbf607e02d94",
       "value": "3.70 seconds"
      }
     },
     "dc0a7b417fd94cd0a253be7e3d2e36b0": {
      "model_module": "@jupyter-widgets/controls",
      "model_module_version": "1.1.0",
      "model_name": "DescriptionStyleModel",
      "state": {
       "description_width": ""
      }
     },
     "dc77fa79d0074a9a9c26a9e63e4d8411": {
      "model_module": "@jupyter-widgets/base",
      "model_module_version": "1.0.0",
      "model_name": "LayoutModel",
      "state": {}
     },
     "dcaf73b08b8a4c168e9b954772c6cb78": {
      "model_module": "@jupyter-widgets/base",
      "model_module_version": "1.0.0",
      "model_name": "LayoutModel",
      "state": {}
     },
     "dcb3a16d0e8a44cba706e5d3b0dd1c41": {
      "model_module": "@jupyter-widgets/base",
      "model_module_version": "1.0.0",
      "model_name": "LayoutModel",
      "state": {}
     },
     "dcb592d936b24dbba381e1d2e54fe83d": {
      "model_module": "@jupyter-widgets/base",
      "model_module_version": "1.0.0",
      "model_name": "LayoutModel",
      "state": {}
     },
     "dcc7e050b2ed43aa88c94334919bdccb": {
      "model_module": "@jupyter-widgets/base",
      "model_module_version": "1.0.0",
      "model_name": "LayoutModel",
      "state": {}
     },
     "dcf72d6d01b4483cbb010de53d2a10db": {
      "model_module": "@jupyter-widgets/controls",
      "model_module_version": "1.1.0",
      "model_name": "HBoxModel",
      "state": {
       "children": [
        "IPY_MODEL_f89cac55953e41538a538a1dfd36cff3",
        "IPY_MODEL_9c1f4f668c4c4f1f93fe459585da61f0"
       ],
       "layout": "IPY_MODEL_f124066a0d1d4e8e89f481932bb7afa1"
      }
     },
     "dd2a1cf113d84412bef15cb8384cdccc": {
      "model_module": "@jupyter-widgets/controls",
      "model_module_version": "1.1.0",
      "model_name": "DescriptionStyleModel",
      "state": {
       "description_width": ""
      }
     },
     "dd579c09b57a4be99cd82a398de7821f": {
      "model_module": "@jupyter-widgets/base",
      "model_module_version": "1.0.0",
      "model_name": "LayoutModel",
      "state": {}
     },
     "dd704e36abb0478b9ceb1c52d5a6f31b": {
      "model_module": "@jupyter-widgets/controls",
      "model_module_version": "1.1.0",
      "model_name": "DescriptionStyleModel",
      "state": {
       "description_width": ""
      }
     },
     "de3a028b41e84f2cad081a453b24f762": {
      "model_module": "@jupyter-widgets/base",
      "model_module_version": "1.0.0",
      "model_name": "LayoutModel",
      "state": {}
     },
     "de50ecd332d345e6ad3d4b7cf9f14187": {
      "model_module": "@jupyter-widgets/controls",
      "model_module_version": "1.1.0",
      "model_name": "ButtonStyleModel",
      "state": {}
     },
     "de51cd8bd110404e922c7dc429d4a010": {
      "model_module": "@jupyter-widgets/controls",
      "model_module_version": "1.1.0",
      "model_name": "HBoxModel",
      "state": {
       "children": [
        "IPY_MODEL_1216ff9cc2a04f23ba3ffd2bb46e1b80",
        "IPY_MODEL_24ddcafc8e7842eea6b3c0e051f3341a",
        "IPY_MODEL_fe3af8d9be844f89a0f73567309e7fb0"
       ],
       "layout": "IPY_MODEL_3a215297f15b4ad09a97ebf76fe2f73d"
      }
     },
     "de6cde6871714bdf92de8823d981bde1": {
      "model_module": "@jupyter-widgets/base",
      "model_module_version": "1.0.0",
      "model_name": "LayoutModel",
      "state": {}
     },
     "deae430ff7d5435da55a61a963f47544": {
      "model_module": "@jupyter-widgets/controls",
      "model_module_version": "1.1.0",
      "model_name": "DescriptionStyleModel",
      "state": {
       "description_width": ""
      }
     },
     "deb143c189004ec7be37578bd2791eff": {
      "model_module": "@jupyter-widgets/base",
      "model_module_version": "1.0.0",
      "model_name": "LayoutModel",
      "state": {}
     },
     "deef4da5821544319f95127a7370418b": {
      "model_module": "@jupyter-widgets/controls",
      "model_module_version": "1.1.0",
      "model_name": "DescriptionStyleModel",
      "state": {
       "description_width": ""
      }
     },
     "df95dcf22a994acaa685f315ba9573c5": {
      "model_module": "@jupyter-widgets/base",
      "model_module_version": "1.0.0",
      "model_name": "LayoutModel",
      "state": {}
     },
     "e01311589cd24e289008224eb32e8032": {
      "model_module": "@jupyter-widgets/controls",
      "model_module_version": "1.1.0",
      "model_name": "FloatSliderModel",
      "state": {
       "layout": "IPY_MODEL_1f2004bcb92a476ca2c0ef84021703a6",
       "readout": false,
       "step": 0.1,
       "style": "IPY_MODEL_e26295a6876545fa9ac434902618d2a4",
       "value": 100
      }
     },
     "e024edd6234d4a33adbf87c810e9c17f": {
      "model_module": "@jupyter-widgets/controls",
      "model_module_version": "1.1.0",
      "model_name": "FloatSliderModel",
      "state": {
       "layout": "IPY_MODEL_fff736cb5c704a86bd8f493042017338",
       "readout": false,
       "step": 0.1,
       "style": "IPY_MODEL_8ad796c6976c4f358961a933eb3879b3",
       "value": 100
      }
     },
     "e0487458346d4919af3d89afefaed8fa": {
      "model_module": "@jupyter-widgets/controls",
      "model_module_version": "1.1.0",
      "model_name": "DescriptionStyleModel",
      "state": {
       "description_width": ""
      }
     },
     "e06cee5f6bb6412193e1370561faa81a": {
      "model_module": "@jupyter-widgets/base",
      "model_module_version": "1.0.0",
      "model_name": "LayoutModel",
      "state": {}
     },
     "e07e373afeb343f7a2a7300689b74fe0": {
      "model_module": "@jupyter-widgets/base",
      "model_module_version": "1.0.0",
      "model_name": "LayoutModel",
      "state": {}
     },
     "e095b356a4774afeafd60f99ff006fde": {
      "model_module": "@jupyter-widgets/controls",
      "model_module_version": "1.1.0",
      "model_name": "VBoxModel",
      "state": {
       "children": [
        "IPY_MODEL_d96cb45bd70b4a9eb9f7d0be69a016e9",
        "IPY_MODEL_c6fb198a40fa491f9710a67410d4f2b3",
        "IPY_MODEL_1dbc1e95947c4abab92c5f361d6a2abd"
       ],
       "layout": "IPY_MODEL_a24870b5df3b4aa690c842ab00d8edd1"
      }
     },
     "e0c9f56148f246a89e4d33b5436b9314": {
      "model_module": "@jupyter-widgets/base",
      "model_module_version": "1.0.0",
      "model_name": "LayoutModel",
      "state": {}
     },
     "e0e77bd1e4384fdab5c5b28f175ada9e": {
      "model_module": "@jupyter-widgets/base",
      "model_module_version": "1.0.0",
      "model_name": "LayoutModel",
      "state": {}
     },
     "e0e9143c0bb148ae805c4bcdf6c728ae": {
      "model_module": "@jupyter-widgets/controls",
      "model_module_version": "1.1.0",
      "model_name": "DescriptionStyleModel",
      "state": {
       "description_width": "initial"
      }
     },
     "e186591ece4e41f4a31533635682cec6": {
      "model_module": "@jupyter-widgets/controls",
      "model_module_version": "1.1.0",
      "model_name": "ButtonModel",
      "state": {
       "icon": "refresh",
       "layout": "IPY_MODEL_d73c458688454bb198bb8f90683349a4",
       "style": "IPY_MODEL_edd9edf2491b4be98230d50413d024ea"
      }
     },
     "e1bcf28f099947789ce03cf0b0c43630": {
      "model_module": "@jupyter-widgets/base",
      "model_module_version": "1.0.0",
      "model_name": "LayoutModel",
      "state": {}
     },
     "e1d045c20f8143adbcd69c7cef3c1182": {
      "model_module": "@jupyter-widgets/base",
      "model_module_version": "1.0.0",
      "model_name": "LayoutModel",
      "state": {}
     },
     "e1e27599e9e744118a7ac76f846e9c9b": {
      "model_module": "@jupyter-widgets/base",
      "model_module_version": "1.0.0",
      "model_name": "LayoutModel",
      "state": {}
     },
     "e1fa02e7708e4b41abb62dafe982defe": {
      "model_module": "@jupyter-widgets/controls",
      "model_module_version": "1.1.0",
      "model_name": "ButtonModel",
      "state": {
       "icon": "step-forward",
       "layout": "IPY_MODEL_c3f57909ec6f4bdfbc0472591cc05fa1",
       "style": "IPY_MODEL_59d71d42089e4b74ba5d3852ea128b5e"
      }
     },
     "e2572450831343ea8844d3abb3015a22": {
      "model_module": "@jupyter-widgets/controls",
      "model_module_version": "1.1.0",
      "model_name": "VBoxModel",
      "state": {
       "children": [
        "IPY_MODEL_8497f579eed642bca5ca28f7bf30c721",
        "IPY_MODEL_aa7b6241a56d4bd4812adaff4901aa19"
       ],
       "layout": "IPY_MODEL_6151df342b774924aadf1a135d2e841e"
      }
     },
     "e26295a6876545fa9ac434902618d2a4": {
      "model_module": "@jupyter-widgets/controls",
      "model_module_version": "1.1.0",
      "model_name": "SliderStyleModel",
      "state": {
       "description_width": ""
      }
     },
     "e29a7900c9d9454f9d0177f3492a2d9c": {
      "model_module": "@jupyter-widgets/controls",
      "model_module_version": "1.1.0",
      "model_name": "VBoxModel",
      "state": {
       "children": [
        "IPY_MODEL_2b3f42c1970448c3a6e548e5cbd68381",
        "IPY_MODEL_90676073862242d189abaf58ced2f16c"
       ],
       "layout": "IPY_MODEL_1baf5eafe620493a93abe5966263a018"
      }
     },
     "e2c69f455d5c478ca8a2540a3d4dd059": {
      "model_module": "@jupyter-widgets/base",
      "model_module_version": "1.0.0",
      "model_name": "LayoutModel",
      "state": {}
     },
     "e2f44cbf2ac24e3aae9800632c1c2fac": {
      "model_module": "@jupyter-widgets/controls",
      "model_module_version": "1.1.0",
      "model_name": "DescriptionStyleModel",
      "state": {
       "description_width": ""
      }
     },
     "e33f9e23ce584704a9ffb55b622333ae": {
      "model_module": "@jupyter-widgets/controls",
      "model_module_version": "1.1.0",
      "model_name": "PlayModel",
      "state": {
       "layout": "IPY_MODEL_57c7278add3846e3bcc2db0700f0c2c0",
       "max": 1000000,
       "style": "IPY_MODEL_d58c765e34134c4cab6f79b444037f89",
       "value": 53
      }
     },
     "e3ae845d1ae44436b51e9a12f6daffa9": {
      "model_module": "@jupyter-widgets/controls",
      "model_module_version": "1.1.0",
      "model_name": "HBoxModel",
      "state": {
       "children": [
        "IPY_MODEL_606c11a7984148a4a41c92ca76701de4",
        "IPY_MODEL_cd516ecd1793476ebeae7744ce2e3b98"
       ],
       "layout": "IPY_MODEL_20dfd3d2316847089e67465f224ffdf1"
      }
     },
     "e3ea10552c424df2bf468872d4052985": {
      "model_module": "@jupyter-widgets/base",
      "model_module_version": "1.0.0",
      "model_name": "LayoutModel",
      "state": {}
     },
     "e4551e1ce38249ac88eb0dde81c76107": {
      "model_module": "@jupyter-widgets/controls",
      "model_module_version": "1.1.0",
      "model_name": "CheckboxModel",
      "state": {
       "description": "Trace Path",
       "disabled": false,
       "layout": "IPY_MODEL_8dd397a8181146b895dd40539f0ef8ce",
       "style": "IPY_MODEL_f55c44b02f2b44318c37da054ff31e82",
       "value": false
      }
     },
     "e46d63da8f3e454bb5f12ce61d0611f7": {
      "model_module": "@jupyter-widgets/base",
      "model_module_version": "1.0.0",
      "model_name": "LayoutModel",
      "state": {}
     },
     "e482ce9856a1413e96e172448ccef646": {
      "model_module": "@jupyter-widgets/controls",
      "model_module_version": "1.1.0",
      "model_name": "CheckboxModel",
      "state": {
       "description": "Update GUI",
       "disabled": false,
       "layout": "IPY_MODEL_a14071f46e3745098e1b2ae6ed3fc200",
       "style": "IPY_MODEL_d78be5870f4548c9a70a3b6aeea79d18",
       "value": true
      }
     },
     "e488b11620004d189c283b92ad72e8ec": {
      "model_module": "@jupyter-widgets/controls",
      "model_module_version": "1.1.0",
      "model_name": "FloatSliderModel",
      "state": {
       "layout": "IPY_MODEL_c7624e735f194224af18365d1e409bc8",
       "orientation": "vertical",
       "readout": false,
       "step": 0.1,
       "style": "IPY_MODEL_0e98e23bb50940a7b9aea9d65572a19c",
       "value": 85.58104404229678
      }
     },
     "e497d2fa62b84242acdea4ba7f363f78": {
      "model_module": "@jupyter-widgets/base",
      "model_module_version": "1.0.0",
      "model_name": "LayoutModel",
      "state": {}
     },
     "e49db06830274a0b9c5fed9c635cd12f": {
      "model_module": "@jupyter-widgets/controls",
      "model_module_version": "1.1.0",
      "model_name": "VBoxModel",
      "state": {
       "children": [
        "IPY_MODEL_413055c81b72442fb0880dafbb4efb35",
        "IPY_MODEL_de51cd8bd110404e922c7dc429d4a010",
        "IPY_MODEL_7ff3e56211734837acff32ef787e2a7a"
       ],
       "layout": "IPY_MODEL_2fdc4a47e33a4f3da636f5efab571cd2"
      }
     },
     "e50b76189b4e43dbaeeba0c2dcee9c47": {
      "model_module": "@jupyter-widgets/base",
      "model_module_version": "1.0.0",
      "model_name": "LayoutModel",
      "state": {}
     },
     "e529632cf3e94beaaaf17e9f02385dcd": {
      "model_module": "@jupyter-widgets/base",
      "model_module_version": "1.0.0",
      "model_name": "LayoutModel",
      "state": {}
     },
     "e5324bcf6b174e76a013398b4f63f0dd": {
      "model_module": "@jupyter-widgets/base",
      "model_module_version": "1.0.0",
      "model_name": "LayoutModel",
      "state": {}
     },
     "e54177227bb742bbb634f276adfe3f2f": {
      "model_module": "@jupyter-widgets/base",
      "model_module_version": "1.0.0",
      "model_name": "LayoutModel",
      "state": {}
     },
     "e55d35cd8a1845678fad1bdb6ebd73ed": {
      "model_module": "@jupyter-widgets/base",
      "model_module_version": "1.0.0",
      "model_name": "LayoutModel",
      "state": {
       "height": "20px",
       "padding": "0px 0px 0px 0px",
       "width": "248px"
      }
     },
     "e567a8eb67e3429bb4649bb540a30466": {
      "model_module": "@jupyter-widgets/base",
      "model_module_version": "1.0.0",
      "model_name": "LayoutModel",
      "state": {}
     },
     "e5c4c35c490e405587a5a206d3f47a8a": {
      "model_module": "@jupyter-widgets/base",
      "model_module_version": "1.0.0",
      "model_name": "LayoutModel",
      "state": {
       "height": "248px",
       "padding": "0px 0px 0px 0px",
       "width": "10px"
      }
     },
     "e603d2449bbe497dbf23656448d33c2b": {
      "model_module": "@jupyter-widgets/base",
      "model_module_version": "1.0.0",
      "model_name": "LayoutModel",
      "state": {}
     },
     "e61445f63d6248c4b9eb01d4350a6f1e": {
      "model_module": "@jupyter-widgets/base",
      "model_module_version": "1.0.0",
      "model_name": "LayoutModel",
      "state": {}
     },
     "e61f8e565ecf4f3f91f650ce9b5f2ef4": {
      "model_module": "@jupyter-widgets/controls",
      "model_module_version": "1.1.0",
      "model_name": "ButtonModel",
      "state": {
       "description": "Clear Output",
       "layout": "IPY_MODEL_8ad3bc6491b14eb3933005ddce37d55e",
       "style": "IPY_MODEL_0c593ad13d5f4b07a14ea7f12146c9e6"
      }
     },
     "e646533237144d149e58ad85fb251930": {
      "model_module": "@jupyter-widgets/base",
      "model_module_version": "1.0.0",
      "model_name": "LayoutModel",
      "state": {}
     },
     "e650b9e61f664ee49ffff1dce6a79d56": {
      "model_module": "@jupyter-widgets/base",
      "model_module_version": "1.0.0",
      "model_name": "LayoutModel",
      "state": {}
     },
     "e65b9d5cf6f54feebbe4a25be97c0a40": {
      "model_module": "@jupyter-widgets/output",
      "model_module_version": "1.1.0",
      "model_name": "OutputModel",
      "state": {
       "_model_module_version": "1.1.0",
       "_view_module_version": "1.1.0",
       "layout": "IPY_MODEL_3d8dca9b56d64f708bbc7fe82a68f151"
      }
     },
     "e69229ae0fee430aac7abcb35ff8e8e2": {
      "model_module": "@jupyter-widgets/base",
      "model_module_version": "1.0.0",
      "model_name": "LayoutModel",
      "state": {
       "height": "30px",
       "padding": "0px 0px 0px 10px",
       "width": "260px"
      }
     },
     "e6db413a03894230bed58c208276c2e9": {
      "model_module": "@jupyter-widgets/controls",
      "model_module_version": "1.1.0",
      "model_name": "ButtonModel",
      "state": {
       "description": "Clear Output",
       "layout": "IPY_MODEL_2958630f5e394ea49a1e8271fa4b080d",
       "style": "IPY_MODEL_1d7d48da98734dd78bf43b53fd10faed"
      }
     },
     "e6dfbb9f2a464b95bfd396fb4de6a725": {
      "model_module": "@jupyter-widgets/base",
      "model_module_version": "1.0.0",
      "model_name": "LayoutModel",
      "state": {}
     },
     "e6edcbda11e2458db9523f892fbf19ac": {
      "model_module": "@jupyter-widgets/controls",
      "model_module_version": "1.1.0",
      "model_name": "FloatSliderModel",
      "state": {
       "layout": "IPY_MODEL_a707b7d6cb6d4413887b824f7459ff50",
       "orientation": "vertical",
       "readout": false,
       "step": 0.1,
       "style": "IPY_MODEL_3d7ab18511254f68b9d183658f174e44",
       "value": 25
      }
     },
     "e70c33ad2f044eefbbb38bfaa7ca36d8": {
      "model_module": "@jupyter-widgets/controls",
      "model_module_version": "1.1.0",
      "model_name": "HBoxModel",
      "state": {
       "children": [
        "IPY_MODEL_2fcfa52351e0419a92eae60bf520d11f",
        "IPY_MODEL_c3d327aa647e496b896bd72a90484f6a"
       ],
       "layout": "IPY_MODEL_cfebe84ead83403a8b3d19ed9b142523"
      }
     },
     "e73ce97d05264f61a42c49e87e804e2e": {
      "model_module": "@jupyter-widgets/controls",
      "model_module_version": "1.1.0",
      "model_name": "PlayModel",
      "state": {
       "layout": "IPY_MODEL_d01e1bd86ef440d79f086d23d22d1ad5",
       "max": 1000000,
       "style": "IPY_MODEL_dd704e36abb0478b9ceb1c52d5a6f31b"
      }
     },
     "e75718a6f87546b0ab2b53088484e4e8": {
      "model_module": "@jupyter-widgets/controls",
      "model_module_version": "1.1.0",
      "model_name": "DescriptionStyleModel",
      "state": {
       "description_width": ""
      }
     },
     "e7651a22de904e749f67f17b810abb45": {
      "model_module": "@jupyter-widgets/controls",
      "model_module_version": "1.1.0",
      "model_name": "VBoxModel",
      "state": {
       "children": [
        "IPY_MODEL_dcf72d6d01b4483cbb010de53d2a10db",
        "IPY_MODEL_f83a8fabd56c4c519dfef123d2eef207"
       ],
       "layout": "IPY_MODEL_6e7fb74cc7f242f688362a30e657f54a"
      }
     },
     "e82d5de91dba4d0695c6a33c060c2a37": {
      "model_module": "@jupyter-widgets/controls",
      "model_module_version": "1.1.0",
      "model_name": "FloatSliderModel",
      "state": {
       "layout": "IPY_MODEL_49cd4d416dc64d028c4bb2b1c848e55c",
       "readout": false,
       "step": 0.1,
       "style": "IPY_MODEL_755a5ce62c0c41de9169c36b4b6c4934",
       "value": 50
      }
     },
     "e86da0d7a44d4485aeb0296d46a601a6": {
      "model_module": "@jupyter-widgets/controls",
      "model_module_version": "1.1.0",
      "model_name": "DescriptionStyleModel",
      "state": {
       "description_width": ""
      }
     },
     "e8db9f92fcd24ce28d645298d9c9295f": {
      "model_module": "@jupyter-widgets/controls",
      "model_module_version": "1.1.0",
      "model_name": "SliderStyleModel",
      "state": {
       "description_width": ""
      }
     },
     "e90101eb385a46dc92fb6189df76caea": {
      "model_module": "@jupyter-widgets/base",
      "model_module_version": "1.0.0",
      "model_name": "LayoutModel",
      "state": {}
     },
     "e940171259f14232a5be37293c410a30": {
      "model_module": "@jupyter-widgets/controls",
      "model_module_version": "1.1.0",
      "model_name": "HBoxModel",
      "state": {
       "children": [
        "IPY_MODEL_6120904ac62b48f591e896c1465592ce",
        "IPY_MODEL_51f8bcc0a80047a5b07f3c93e7369293"
       ],
       "layout": "IPY_MODEL_0b9303f04c694c36ad14e73467b78f56"
      }
     },
     "e953abd89a534769857f8475104b9536": {
      "model_module": "@jupyter-widgets/base",
      "model_module_version": "1.0.0",
      "model_name": "LayoutModel",
      "state": {}
     },
     "e9ceaa6590ab45759836648119e361f0": {
      "model_module": "@jupyter-widgets/controls",
      "model_module_version": "1.1.0",
      "model_name": "HTMLModel",
      "state": {
       "layout": "IPY_MODEL_860190eca3054ec5a7a347f20ed249e6",
       "style": "IPY_MODEL_6918baeb1d984233aba3e48c054f8a34",
       "value": "<svg baseProfile=\"full\" height=\"240\" version=\"1.1\" width=\"240\" xmlns=\"http://www.w3.org/2000/svg\" xmlns:ev=\"http://www.w3.org/2001/xml-events\" xmlns:xlink=\"http://www.w3.org/1999/xlink\"><defs /><rect fill=\"#eef3dd\" height=\"240.0\" stroke=\"#bebebe\" stroke-width=\"1\" width=\"120.0\" x=\"0.0\" y=\"0.0\" /><line fill=\"#800080\" stroke=\"#add8e6\" stroke-width=\"1\" x1=\"49.5\" x2=\"0.0\" y1=\"65.45978225365276\" y2=\"65.45978399999998\" /><line fill=\"#800080\" stroke=\"#add8e6\" stroke-width=\"1\" x1=\"51.0\" x2=\"0.0\" y1=\"61.25978225365277\" y2=\"37.47809400000001\" /><line fill=\"#800080\" stroke=\"#add8e6\" stroke-width=\"1\" x1=\"53.4\" x2=\"3.507317284378265\" y1=\"59.45978225365276\" y2=\"0.0\" /><line fill=\"#800080\" stroke=\"#add8e6\" stroke-width=\"1\" x1=\"57.0\" x2=\"41.469722798781916\" y1=\"57.95978225365276\" y2=\"0.0\" /><line fill=\"#800080\" stroke=\"#add8e6\" stroke-width=\"1\" x1=\"63.0\" x2=\"78.5302772012181\" y1=\"57.95978225365276\" y2=\"0.0\" /><line fill=\"#800080\" stroke=\"#add8e6\" stroke-width=\"1\" x1=\"66.60000000000001\" x2=\"116.49268271562175\" y1=\"59.45978225365276\" y2=\"0.0\" /><line fill=\"#800080\" stroke=\"#add8e6\" stroke-width=\"1\" x1=\"69.0\" x2=\"120.0\" y1=\"61.25978225365277\" y2=\"37.47809400000001\" /><line fill=\"#800080\" stroke=\"#add8e6\" stroke-width=\"1\" x1=\"70.5\" x2=\"120.0\" y1=\"65.45978225365276\" y2=\"65.45978399999998\" /><line fill=\"#800080\" stroke=\"#a020f0\" stroke-width=\"1\" x1=\"60.0\" x2=\"0.0\" y1=\"71.45978225365278\" y2=\"36.818766\" /><line fill=\"#800080\" stroke=\"#a020f0\" stroke-width=\"1\" x1=\"60.0\" x2=\"120.0\" y1=\"71.45978225365278\" y2=\"36.818766\" /><polygon fill=\"red\" points=\"55.2,57.95978225365276 49.5,62.459782253652776 49.5,80.45978225365276 55.2,84.95978225365278 64.80000000000001,84.95978225365278 70.5,80.45978225365276 70.5,62.459782253652776 64.80000000000001,57.95978225365276\" stroke=\"red\" stroke-width=\"1\" /><polygon points=\"-3.0,-3.0 0,0 3.0,-3.0 0,3.0\" stroke=\"black\" stroke-width=\"1\" transform=\"translate(60.0,71.45978225365278) rotate(180.0)\" /><polygon fill=\"black\" points=\"63.6,63.05978225365276 63.6,67.85978225365277 56.4,67.85978225365277 56.4,63.05978225365276\" stroke=\"black\" stroke-width=\"1\" /></svg>"
      }
     },
     "ea0acbf055574641b2020bcf76ced353": {
      "model_module": "@jupyter-widgets/base",
      "model_module_version": "1.0.0",
      "model_name": "LayoutModel",
      "state": {}
     },
     "ea0b772efe8d410d9ae03a0ee29e5650": {
      "model_module": "@jupyter-widgets/base",
      "model_module_version": "1.0.0",
      "model_name": "LayoutModel",
      "state": {}
     },
     "ea497bb42bfb4b4abf8f1d2134c5d748": {
      "model_module": "@jupyter-widgets/base",
      "model_module_version": "1.0.0",
      "model_name": "LayoutModel",
      "state": {}
     },
     "eaaaaac309474d27a1d26b8820a54635": {
      "model_module": "@jupyter-widgets/controls",
      "model_module_version": "1.1.0",
      "model_name": "DescriptionStyleModel",
      "state": {
       "description_width": ""
      }
     },
     "eabbe3d838194d2a9fc9372ee3ec579c": {
      "model_module": "@jupyter-widgets/base",
      "model_module_version": "1.0.0",
      "model_name": "LayoutModel",
      "state": {}
     },
     "eabc3af284a44a4582477f9be99ae259": {
      "model_module": "@jupyter-widgets/controls",
      "model_module_version": "1.1.0",
      "model_name": "ButtonModel",
      "state": {
       "icon": "step-forward",
       "layout": "IPY_MODEL_a4b33279813a4676b2e04352eda70ac7",
       "style": "IPY_MODEL_2283c15caa064de39869c7d0ec8523b0"
      }
     },
     "eae847bd44c5405ea2f17eb21886a487": {
      "model_module": "@jupyter-widgets/base",
      "model_module_version": "1.0.0",
      "model_name": "LayoutModel",
      "state": {
       "height": "20px",
       "padding": "0px 0px 0px 0px",
       "width": "248px"
      }
     },
     "eb28094aad21442faeef2f5012cb12c2": {
      "model_module": "@jupyter-widgets/base",
      "model_module_version": "1.0.0",
      "model_name": "LayoutModel",
      "state": {}
     },
     "eb2a3a1ac9d744779d70197de3e4c550": {
      "model_module": "@jupyter-widgets/base",
      "model_module_version": "1.0.0",
      "model_name": "LayoutModel",
      "state": {}
     },
     "eb72482c5b054d8788e531ab3e8c354f": {
      "model_module": "@jupyter-widgets/controls",
      "model_module_version": "1.1.0",
      "model_name": "DescriptionStyleModel",
      "state": {
       "description_width": ""
      }
     },
     "eb85b1dd6ccc460cbdf9219356c3292c": {
      "model_module": "@jupyter-widgets/base",
      "model_module_version": "1.0.0",
      "model_name": "LayoutModel",
      "state": {}
     },
     "ec32eda5eb774e519d6e3c4e53dc01de": {
      "model_module": "@jupyter-widgets/base",
      "model_module_version": "1.0.0",
      "model_name": "LayoutModel",
      "state": {}
     },
     "ec3df48a16f746a5aa6288f32a4c015c": {
      "model_module": "@jupyter-widgets/controls",
      "model_module_version": "1.1.0",
      "model_name": "HBoxModel",
      "state": {
       "children": [
        "IPY_MODEL_4e6c0518d1a548d08b9de76031cfe441",
        "IPY_MODEL_02422156f4614e50978048c631e9703a",
        "IPY_MODEL_168776db73f840cd9bf3735702c9d9f0"
       ],
       "layout": "IPY_MODEL_18aca34575364a4e878667deeaa8afb3"
      }
     },
     "ec4a5aaadb394973abef325079cc4eb1": {
      "model_module": "@jupyter-widgets/controls",
      "model_module_version": "1.1.0",
      "model_name": "HTMLModel",
      "state": {
       "layout": "IPY_MODEL_8f18cf0064f14b959207c6f88e0aca46",
       "style": "IPY_MODEL_38cff2ff1f8947ad8468f6f9e41ce9d1",
       "value": "<svg baseProfile=\"full\" height=\"240\" version=\"1.1\" width=\"240\" xmlns=\"http://www.w3.org/2000/svg\" xmlns:ev=\"http://www.w3.org/2001/xml-events\" xmlns:xlink=\"http://www.w3.org/1999/xlink\"><defs /><rect fill=\"#eef3dd\" height=\"240.0\" stroke=\"#bebebe\" stroke-width=\"1\" width=\"120.0\" x=\"0.0\" y=\"0.0\" /><line fill=\"#800080\" stroke=\"#add8e6\" stroke-width=\"1\" x1=\"49.5\" x2=\"0.0\" y1=\"69.44277323109452\" y2=\"69.44277600000001\" /><line fill=\"#800080\" stroke=\"#add8e6\" stroke-width=\"1\" x1=\"51.0\" x2=\"0.0\" y1=\"65.24277323109453\" y2=\"41.461085999999995\" /><line fill=\"#800080\" stroke=\"#add8e6\" stroke-width=\"1\" x1=\"53.4\" x2=\"0.16519018696480733\" y1=\"63.44277323109452\" y2=\"0.0\" /><line fill=\"#800080\" stroke=\"#add8e6\" stroke-width=\"1\" x1=\"57.0\" x2=\"40.40248380327513\" y1=\"61.94277323109453\" y2=\"0.0\" /><line fill=\"#800080\" stroke=\"#add8e6\" stroke-width=\"1\" x1=\"63.0\" x2=\"79.59751619672485\" y1=\"61.94277323109453\" y2=\"0.0\" /><line fill=\"#800080\" stroke=\"#add8e6\" stroke-width=\"1\" x1=\"66.60000000000001\" x2=\"119.83480981303516\" y1=\"63.44277323109452\" y2=\"0.0\" /><line fill=\"#800080\" stroke=\"#add8e6\" stroke-width=\"1\" x1=\"69.0\" x2=\"120.0\" y1=\"65.24277323109453\" y2=\"41.461085999999995\" /><line fill=\"#800080\" stroke=\"#add8e6\" stroke-width=\"1\" x1=\"70.5\" x2=\"120.0\" y1=\"69.44277323109452\" y2=\"69.44277600000001\" /><line fill=\"#800080\" stroke=\"#a020f0\" stroke-width=\"1\" x1=\"60.0\" x2=\"0.0\" y1=\"75.44277323109453\" y2=\"40.80175800000001\" /><line fill=\"#800080\" stroke=\"#a020f0\" stroke-width=\"1\" x1=\"60.0\" x2=\"120.0\" y1=\"75.44277323109453\" y2=\"40.80175800000001\" /><polygon fill=\"red\" points=\"55.2,61.94277323109453 49.5,66.44277323109453 49.5,84.44277323109452 55.2,88.94277323109453 64.80000000000001,88.94277323109453 70.5,84.44277323109452 70.5,66.44277323109453 64.80000000000001,61.94277323109453\" stroke=\"red\" stroke-width=\"1\" /><polygon points=\"-3.0,-3.0 0,0 3.0,-3.0 0,3.0\" stroke=\"black\" stroke-width=\"1\" transform=\"translate(60.0,75.44277323109453) rotate(180.0)\" /><polygon fill=\"black\" points=\"63.6,67.04277323109453 63.6,71.84277323109453 56.4,71.84277323109453 56.4,67.04277323109453\" stroke=\"black\" stroke-width=\"1\" /></svg>"
      }
     },
     "ec5ed07ee6024445a4734a0410457c74": {
      "model_module": "@jupyter-widgets/base",
      "model_module_version": "1.0.0",
      "model_name": "LayoutModel",
      "state": {
       "height": "30px",
       "padding": "0px 0px 0px 10px",
       "width": "260px"
      }
     },
     "ec662568c5dc47689c53615099c15fdb": {
      "model_module": "@jupyter-widgets/base",
      "model_module_version": "1.0.0",
      "model_name": "LayoutModel",
      "state": {}
     },
     "ed03cc108a7348dcb2aab7b88b3801b2": {
      "model_module": "@jupyter-widgets/base",
      "model_module_version": "1.0.0",
      "model_name": "LayoutModel",
      "state": {}
     },
     "ed0a06d5a4ec4c46ad22225e5e175198": {
      "model_module": "@jupyter-widgets/base",
      "model_module_version": "1.0.0",
      "model_name": "LayoutModel",
      "state": {}
     },
     "ed22a65c892445da92dac1ab577d5de2": {
      "model_module": "@jupyter-widgets/controls",
      "model_module_version": "1.1.0",
      "model_name": "TextModel",
      "state": {
       "description": "Time:",
       "layout": "IPY_MODEL_9fa573233853471395f9d393592ea468",
       "style": "IPY_MODEL_f21bde988999494a8fca9a1d3a71f178",
       "value": "0.00 seconds"
      }
     },
     "ed25a70489d54cc39c2be6b204418ffa": {
      "model_module": "@jupyter-widgets/controls",
      "model_module_version": "1.1.0",
      "model_name": "ButtonStyleModel",
      "state": {}
     },
     "ed5bdc2b3bc84a768a33b015e6a3e860": {
      "model_module": "@jupyter-widgets/base",
      "model_module_version": "1.0.0",
      "model_name": "LayoutModel",
      "state": {}
     },
     "edd12e230f60471982f1bff579f6106d": {
      "model_module": "@jupyter-widgets/controls",
      "model_module_version": "1.1.0",
      "model_name": "CheckboxModel",
      "state": {
       "description": "Update GUI",
       "disabled": false,
       "layout": "IPY_MODEL_d7166d6b5370429f91b462e1bdffd3a9",
       "style": "IPY_MODEL_a02a070df731490194fed07b873de3f9",
       "value": true
      }
     },
     "edd9edf2491b4be98230d50413d024ea": {
      "model_module": "@jupyter-widgets/controls",
      "model_module_version": "1.1.0",
      "model_name": "ButtonStyleModel",
      "state": {}
     },
     "edff00174d994960b2506fefa8444044": {
      "model_module": "@jupyter-widgets/base",
      "model_module_version": "1.0.0",
      "model_name": "LayoutModel",
      "state": {}
     },
     "ee14a53a558a4c069a0492fd814251e9": {
      "model_module": "@jupyter-widgets/base",
      "model_module_version": "1.0.0",
      "model_name": "LayoutModel",
      "state": {}
     },
     "ee154d09594f42e2ab85c26e4d58ae93": {
      "model_module": "@jupyter-widgets/controls",
      "model_module_version": "1.1.0",
      "model_name": "CheckboxModel",
      "state": {
       "description": "Trace Path",
       "disabled": false,
       "layout": "IPY_MODEL_fa72bfee5d074847b4eafe0a6d32bb3c",
       "style": "IPY_MODEL_ba5b700e4e044203a033d8574d5f3e32",
       "value": false
      }
     },
     "ee41ed4804ee4bbcb8f1c801d30a222f": {
      "model_module": "@jupyter-widgets/controls",
      "model_module_version": "1.1.0",
      "model_name": "VBoxModel",
      "state": {
       "children": [
        "IPY_MODEL_8deaa8aa4a274d32b5fa2ed183da55ab",
        "IPY_MODEL_ec3df48a16f746a5aa6288f32a4c015c",
        "IPY_MODEL_5afeca0c90ac410d8640d075e80536a2"
       ],
       "layout": "IPY_MODEL_647e51d608074fd49c7d2324bc53f1be"
      }
     },
     "ee8df2d5b60d4a22ae66ea608e219cd9": {
      "model_module": "@jupyter-widgets/controls",
      "model_module_version": "1.1.0",
      "model_name": "IntTextModel",
      "state": {
       "layout": "IPY_MODEL_7cd35ed431474fe3a8650ffc2d768776",
       "step": 1,
       "style": "IPY_MODEL_bb99dec746864643b1f2169725b4af9f",
       "value": 62
      }
     },
     "ef482311ee9b458fba4965ebd092e827": {
      "model_module": "@jupyter-widgets/controls",
      "model_module_version": "1.1.0",
      "model_name": "HBoxModel",
      "state": {
       "children": [
        "IPY_MODEL_83cbc5f2eed948bdad16b317e246bc58",
        "IPY_MODEL_d320e6ed5b274991891133e8c350c678"
       ],
       "layout": "IPY_MODEL_9241004c65664a6c87be83f8bb9f2186"
      }
     },
     "ef516b77d6b44067bc3c33819a034ce5": {
      "model_module": "@jupyter-widgets/controls",
      "model_module_version": "1.1.0",
      "model_name": "ButtonModel",
      "state": {
       "icon": "step-forward",
       "layout": "IPY_MODEL_874742ffd612425fbea567614ae086e4",
       "style": "IPY_MODEL_064eaa237d0f4c2c90247eda6350b8c7"
      }
     },
     "ef67f32bc79f4a2fb5218d685c3ee647": {
      "model_module": "@jupyter-widgets/controls",
      "model_module_version": "1.1.0",
      "model_name": "HBoxModel",
      "state": {
       "children": [
        "IPY_MODEL_0d54a615af9840bdbb1d0a9cf2e27e46",
        "IPY_MODEL_e9ceaa6590ab45759836648119e361f0"
       ],
       "layout": "IPY_MODEL_61349af8c6be44849aa27cfdcc81e71a"
      }
     },
     "ef97d57b800642098de5a0f38082f0fe": {
      "model_module": "@jupyter-widgets/base",
      "model_module_version": "1.0.0",
      "model_name": "LayoutModel",
      "state": {}
     },
     "f0281b0bcee54e5bac546fb7c87b2bec": {
      "model_module": "@jupyter-widgets/controls",
      "model_module_version": "1.1.0",
      "model_name": "HBoxModel",
      "state": {
       "children": [
        "IPY_MODEL_2de01924eeff4d30bae9801d030e7448",
        "IPY_MODEL_a08bc13387b64a27a1171a3b596c503a"
       ],
       "layout": "IPY_MODEL_bbbcc1715cae43a0b259c03e66fd809a"
      }
     },
     "f07f466dd4474c61a8d04dd8488ecc96": {
      "model_module": "@jupyter-widgets/base",
      "model_module_version": "1.0.0",
      "model_name": "LayoutModel",
      "state": {}
     },
     "f08a03c972f647dab43dffc6152be0bb": {
      "model_module": "@jupyter-widgets/controls",
      "model_module_version": "1.1.0",
      "model_name": "HBoxModel",
      "state": {
       "children": [
        "IPY_MODEL_9c6c9fec09ee4b1cb1fc062eb7f7a4d2",
        "IPY_MODEL_7f868fb9362e4d13b0874c722f254e14"
       ],
       "layout": "IPY_MODEL_fec9507e90834c3ea971ff75f0489e08"
      }
     },
     "f08b2f1ed68c471dbf991122e8c949ca": {
      "model_module": "@jupyter-widgets/controls",
      "model_module_version": "1.1.0",
      "model_name": "PlayModel",
      "state": {
       "layout": "IPY_MODEL_08e48af598f849ea9d7181f92d78d0af",
       "max": 1000000,
       "style": "IPY_MODEL_832b96cf21894b8080147bdc2ebc1d73",
       "value": 104
      }
     },
     "f0e7281dc00a49669c00aee172673263": {
      "model_module": "@jupyter-widgets/controls",
      "model_module_version": "1.1.0",
      "model_name": "SliderStyleModel",
      "state": {
       "description_width": ""
      }
     },
     "f124066a0d1d4e8e89f481932bb7afa1": {
      "model_module": "@jupyter-widgets/base",
      "model_module_version": "1.0.0",
      "model_name": "LayoutModel",
      "state": {}
     },
     "f13a69db35224303bdd8fdc183165286": {
      "model_module": "@jupyter-widgets/controls",
      "model_module_version": "1.1.0",
      "model_name": "SliderStyleModel",
      "state": {
       "description_width": ""
      }
     },
     "f146cd37eff8425783b190458bc860e4": {
      "model_module": "@jupyter-widgets/base",
      "model_module_version": "1.0.0",
      "model_name": "LayoutModel",
      "state": {}
     },
     "f1591a40a4c94583bbaa1402f61bfb1a": {
      "model_module": "@jupyter-widgets/base",
      "model_module_version": "1.0.0",
      "model_name": "LayoutModel",
      "state": {}
     },
     "f181574844d54a04b4184c49724673db": {
      "model_module": "@jupyter-widgets/controls",
      "model_module_version": "1.1.0",
      "model_name": "DescriptionStyleModel",
      "state": {
       "description_width": ""
      }
     },
     "f19a8d54fc754dba8cdf2ee0e4c0bad9": {
      "model_module": "@jupyter-widgets/controls",
      "model_module_version": "1.1.0",
      "model_name": "ButtonModel",
      "state": {
       "description": "Clear Output",
       "layout": "IPY_MODEL_4b0f9875ec3d43fd90504a0123532b39",
       "style": "IPY_MODEL_9b17ea43120d428f94424d3f19a0e3c3"
      }
     },
     "f21bde988999494a8fca9a1d3a71f178": {
      "model_module": "@jupyter-widgets/controls",
      "model_module_version": "1.1.0",
      "model_name": "DescriptionStyleModel",
      "state": {
       "description_width": ""
      }
     },
     "f21c542906e54d0faf3c5daf6173b2b1": {
      "model_module": "@jupyter-widgets/base",
      "model_module_version": "1.0.0",
      "model_name": "LayoutModel",
      "state": {}
     },
     "f252cf8f49f64c6e958b6c6d25026212": {
      "model_module": "@jupyter-widgets/base",
      "model_module_version": "1.0.0",
      "model_name": "LayoutModel",
      "state": {}
     },
     "f2967cb3f30c4c5bbcc547745c0f8395": {
      "model_module": "@jupyter-widgets/base",
      "model_module_version": "1.0.0",
      "model_name": "LayoutModel",
      "state": {}
     },
     "f2a85f09bc764f548a310b77c3e588c5": {
      "model_module": "@jupyter-widgets/controls",
      "model_module_version": "1.1.0",
      "model_name": "VBoxModel",
      "state": {
       "children": [
        "IPY_MODEL_ef67f32bc79f4a2fb5218d685c3ee647",
        "IPY_MODEL_411ffb0bab5d479e94844ed137445adf"
       ],
       "layout": "IPY_MODEL_10698176b9444f268a8646969af656bb"
      }
     },
     "f2c350acbb854beda255bcceb8d3ef3f": {
      "model_module": "@jupyter-widgets/controls",
      "model_module_version": "1.1.0",
      "model_name": "SliderStyleModel",
      "state": {
       "description_width": ""
      }
     },
     "f2e94d8a72264f9d97e1e414f3af16c4": {
      "model_module": "@jupyter-widgets/controls",
      "model_module_version": "1.1.0",
      "model_name": "CheckboxModel",
      "state": {
       "description": "Errors",
       "disabled": false,
       "layout": "IPY_MODEL_61399607d3574d29aa33e3c498daa217",
       "style": "IPY_MODEL_11707bfbe44b4dc19c584de6d6e76425",
       "value": true
      }
     },
     "f3001c0e67d94369ab24bb4df6aa3e47": {
      "model_module": "@jupyter-widgets/base",
      "model_module_version": "1.0.0",
      "model_name": "LayoutModel",
      "state": {}
     },
     "f351051ee7d9467380190ceb40bc299b": {
      "model_module": "@jupyter-widgets/controls",
      "model_module_version": "1.1.0",
      "model_name": "FloatSliderModel",
      "state": {
       "layout": "IPY_MODEL_fd3456f1675a46f885030519cd61cdaa",
       "readout": false,
       "step": 0.1,
       "style": "IPY_MODEL_35c6890507d54b68961c18ca8ba458ed",
       "value": 50
      }
     },
     "f3d2431517104d00ab382fa3e58b89dd": {
      "model_module": "@jupyter-widgets/base",
      "model_module_version": "1.0.0",
      "model_name": "LayoutModel",
      "state": {
       "width": "100%"
      }
     },
     "f3ec42cf92c04420a983d614b6071b61": {
      "model_module": "@jupyter-widgets/controls",
      "model_module_version": "1.1.0",
      "model_name": "HBoxModel",
      "state": {
       "children": [
        "IPY_MODEL_1a54be96712141cebc61421417012a40",
        "IPY_MODEL_34b2730f5c9b4e4193064cf1080a283a"
       ],
       "layout": "IPY_MODEL_a1af4ead8fbc4ecca8ad91de59e21fe8"
      }
     },
     "f41528b10a0949f68cb49b9bd9e7c5d4": {
      "model_module": "@jupyter-widgets/base",
      "model_module_version": "1.0.0",
      "model_name": "LayoutModel",
      "state": {}
     },
     "f463d7da074d4047a5b90ca618856a29": {
      "model_module": "@jupyter-widgets/controls",
      "model_module_version": "1.1.0",
      "model_name": "VBoxModel",
      "state": {
       "children": [
        "IPY_MODEL_cfbcf22fd8fd4bca9f27f10dd0516e73",
        "IPY_MODEL_946cdefbcd8d4f14ae495fdf8100b779",
        "IPY_MODEL_1cbcfc216cd24a60adb21fcefe70e5d1"
       ],
       "layout": "IPY_MODEL_eabbe3d838194d2a9fc9372ee3ec579c"
      }
     },
     "f490eec74ae349dfb6ac9e3b95b5ac0c": {
      "model_module": "@jupyter-widgets/controls",
      "model_module_version": "1.1.0",
      "model_name": "VBoxModel",
      "state": {
       "children": [
        "IPY_MODEL_fc67174d88494b3683c320ed817f0212",
        "IPY_MODEL_4a00a7f25a8845f69d32afdc7c966a2e"
       ],
       "layout": "IPY_MODEL_47695b572d4d419b850654443989c55d"
      }
     },
     "f4a6123fb35b4500a23cc03138a97342": {
      "model_module": "@jupyter-widgets/base",
      "model_module_version": "1.0.0",
      "model_name": "LayoutModel",
      "state": {}
     },
     "f4b774103e4e4a8eb8c11cb4dcd0b648": {
      "model_module": "@jupyter-widgets/controls",
      "model_module_version": "1.1.0",
      "model_name": "SliderStyleModel",
      "state": {
       "description_width": ""
      }
     },
     "f55c44b02f2b44318c37da054ff31e82": {
      "model_module": "@jupyter-widgets/controls",
      "model_module_version": "1.1.0",
      "model_name": "DescriptionStyleModel",
      "state": {
       "description_width": ""
      }
     },
     "f57a2751309946d08a9a0f63023445b6": {
      "model_module": "@jupyter-widgets/base",
      "model_module_version": "1.0.0",
      "model_name": "LayoutModel",
      "state": {}
     },
     "f597cf42fb724020885f9ccf0cc89e8c": {
      "model_module": "@jupyter-widgets/base",
      "model_module_version": "1.0.0",
      "model_name": "LayoutModel",
      "state": {}
     },
     "f5c2bfc4e4fd4000887e92e254420ba0": {
      "model_module": "@jupyter-widgets/controls",
      "model_module_version": "1.1.0",
      "model_name": "FloatSliderModel",
      "state": {
       "layout": "IPY_MODEL_a1484912fbc74c8eb61132261ce2ddee",
       "readout": false,
       "step": 0.1,
       "style": "IPY_MODEL_fdb3c052ffac4047bb94a03f5c2a82c6",
       "value": 50
      }
     },
     "f5f3913766a047c6916724a31301573f": {
      "model_module": "@jupyter-widgets/controls",
      "model_module_version": "1.1.0",
      "model_name": "VBoxModel",
      "state": {
       "children": [
        "IPY_MODEL_775582c43cc14fbfa58f8f1cbcc2e286",
        "IPY_MODEL_1995c7aa6ed948ad9fd37df84cdfd307"
       ],
       "layout": "IPY_MODEL_51b4ccaca38a4e438c1327ab7edd411f"
      }
     },
     "f5feecf83abb4888842fff7f8973cfea": {
      "model_module": "@jupyter-widgets/controls",
      "model_module_version": "1.1.0",
      "model_name": "HBoxModel",
      "state": {
       "children": [
        "IPY_MODEL_8a4ba389771e448dbc9cbe52251a306c",
        "IPY_MODEL_58ce4dd994a94dd6a7de79ac2fdba902"
       ],
       "layout": "IPY_MODEL_baea8b7d9c86437b8648fe3b82f92100"
      }
     },
     "f6344689807a47b280e04094988427dd": {
      "model_module": "@jupyter-widgets/controls",
      "model_module_version": "1.1.0",
      "model_name": "TextModel",
      "state": {
       "description": "Time:",
       "layout": "IPY_MODEL_6e11c3a1658740579cb7c1ac74c0748f",
       "style": "IPY_MODEL_572e7d5bebc04234880b9b5e7be1b138",
       "value": "13.80 seconds"
      }
     },
     "f639f0445983422eb1ac3b8c55618dd6": {
      "model_module": "@jupyter-widgets/base",
      "model_module_version": "1.0.0",
      "model_name": "LayoutModel",
      "state": {}
     },
     "f667b847fa6b4ceb803d143e035d155e": {
      "model_module": "@jupyter-widgets/base",
      "model_module_version": "1.0.0",
      "model_name": "LayoutModel",
      "state": {}
     },
     "f68cc2d5513f4a5ea3c4ccdda0a423cb": {
      "model_module": "@jupyter-widgets/base",
      "model_module_version": "1.0.0",
      "model_name": "LayoutModel",
      "state": {}
     },
     "f6ae2b90c7da42ed8c1b7b70d24acb17": {
      "model_module": "@jupyter-widgets/controls",
      "model_module_version": "1.1.0",
      "model_name": "HTMLModel",
      "state": {
       "layout": "IPY_MODEL_7c39c2b2b6534d25aab8aabddacb5d51",
       "style": "IPY_MODEL_3e9519689c154751892761c82bb868f6",
       "value": "<img style=\"image-rendering: pixelated;\" src=\"data:image/gif;base64,R0lGODdheAA8AIcAAAAAAAAAAAAAAAAAAAAAAAAAAAAAAAAAAAAAAAAAAAAAAAAAAAAAAAAAAAAAAAAAAAAAAAAAAAAAAAAAAAAAAAAAAAAAAAAAAAAAAAAAAAAAAAAAAAAAAAAAAAAAAAAAAAAAAAAAAAAAAAAAAAAAAAAAAAAAAAAAAAAAAAAAAAAAAAAAAAAAAAAAAAAAAAAAAAAAAAAAAAAAAAAAAAAAAAAAAAAAAAAAAAAAAAAAAAAAAAAAAAAAAAAAAAAAAAAAAAAAAAAAAAAAAAAAAAAAAAAAAAAAAAAAAAAAAAAAAAAAAAAAAAAAAAAAAAAAAAAAAAAAAAAAAAAAAAAAAAAAAAAAAAAAAAAAAAAAAAAAAAAAAAAAAAAAAAAAAAAAAAAAAAAAAAAAAAAAAAAAAAAAAAAAAAAAAAAAAAAAAAAAAAAAAAAAAAAAAAAAAAAAAAAAAAAAAAAAAAAAAAAAAAAAAAAAAAAAAAAAAAAAAAAAAAAAAAAAAAAAAAAAAAAAAAAAAAAAAAAAAAAAAAAAAAAAAAAAAAAAAAAAAAAAAAAAAAAAAAAAAAAAAAAAAAAAAAAAAAAAAAAAAAAAAAAAAAAAAAAAAAAAAAAAAAAAAAAAAAAAAAAAAAAAAAAAAAAAAAAAAAAAAAAAAAAAAAAAAAAAAAAAAAAAAAAAAAAAAAAAAAAAAAAAAAAAAAAAAAAAAAAAAAAAAAAAAAAAAAAAAAAAAAAAAAAAAAAAAAAAAAAAAAAAAAAAAAAAAAAAAAAAAAAAAAAAAAAAAAAAAAAAAAAAAAAAAAAAAAAAAAAAAAAAAAAAAAAAAAAAAAAAAAAAAAAAAAAAAAAAAAAAAAAAAAAAAAAAAAAAAAAAAAAAAAAAAAAAAAAAAAAAAAAAAAAAAAAAAAAAAAAAAAAAAAAAAAAAAAAAAAAAAAAAAAAAAAAAAAAAAAAAAAAAAAAAAAAAAAAAAAAAAAAAAAAAAAAAAAAAAAAAAAAAAAAAAAAAAAAAAAAAAAAAAAAAAAAAAAAAAAAAACwAAAAAeAA8AEAIigABCBxIsKDBgwgTKlzIsKHDhxAjSpxIsaLFixgzatzIsaPHjyBDihxJsqTJkyhTqlzJsqXLlzBjypxJs6bNmzhz6tzJs6fPn0CDCh1KtKjRo0iTKl3KtKnTp1CjSp1KtarVq1izat3KtavXr2DDih1LtqzZs2jTql3Ltq3bt3Djyp1Lt67duzwDAgA7\" width=\"240\"/>"
      }
     },
     "f770deb6a4db4853b59f8f5140cf1138": {
      "model_module": "@jupyter-widgets/base",
      "model_module_version": "1.0.0",
      "model_name": "LayoutModel",
      "state": {}
     },
     "f793b6aae62f48dc9bd81d41bdefee91": {
      "model_module": "@jupyter-widgets/controls",
      "model_module_version": "1.1.0",
      "model_name": "ButtonModel",
      "state": {
       "description": "Clear Output",
       "layout": "IPY_MODEL_860c7c43f51c453b9aa5c22f6d2b49c8",
       "style": "IPY_MODEL_6f3a1f450bda4207bea5e1047d868853"
      }
     },
     "f7baa509b03049e0bc24bbfd4ec9fbb2": {
      "model_module": "@jupyter-widgets/base",
      "model_module_version": "1.0.0",
      "model_name": "LayoutModel",
      "state": {}
     },
     "f7d7bd405e654e1dbace8da137ffa996": {
      "model_module": "@jupyter-widgets/controls",
      "model_module_version": "1.1.0",
      "model_name": "HTMLModel",
      "state": {
       "layout": "IPY_MODEL_851940155922480fa4e96a2a88a6513e",
       "style": "IPY_MODEL_a45944979fe04e8eae8ee8b77e5b2962",
       "value": "<img style=\"image-rendering: pixelated;\" src=\"data:image/gif;base64,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\" width=\"240\"/>"
      }
     },
     "f7f5316efb4e46f584c10486dd93baff": {
      "model_module": "@jupyter-widgets/controls",
      "model_module_version": "1.1.0",
      "model_name": "DescriptionStyleModel",
      "state": {
       "description_width": ""
      }
     },
     "f82e2d5ae3d44be4ab351cb7d73986c4": {
      "model_module": "@jupyter-widgets/base",
      "model_module_version": "1.0.0",
      "model_name": "LayoutModel",
      "state": {}
     },
     "f83a8fabd56c4c519dfef123d2eef207": {
      "model_module": "@jupyter-widgets/controls",
      "model_module_version": "1.1.0",
      "model_name": "FloatSliderModel",
      "state": {
       "layout": "IPY_MODEL_4109d8589de34455a1c0f4b652cae0d5",
       "readout": false,
       "step": 0.1,
       "style": "IPY_MODEL_b011a46b70d941518e8a1c63eac89b07",
       "value": 50
      }
     },
     "f8498f06d9d9455dab090c17cf6e9d21": {
      "model_module": "@jupyter-widgets/controls",
      "model_module_version": "1.1.0",
      "model_name": "ButtonStyleModel",
      "state": {}
     },
     "f86f26a2e76d40d19e950a9f7777be6d": {
      "model_module": "@jupyter-widgets/controls",
      "model_module_version": "1.1.0",
      "model_name": "HBoxModel",
      "state": {
       "children": [
        "IPY_MODEL_f490eec74ae349dfb6ac9e3b95b5ac0c",
        "IPY_MODEL_5625f92e5378472189246ab9b426683e"
       ],
       "layout": "IPY_MODEL_48502b39399b4aa088bdcbea4fcfa232"
      }
     },
     "f89cac55953e41538a538a1dfd36cff3": {
      "model_module": "@jupyter-widgets/controls",
      "model_module_version": "1.1.0",
      "model_name": "FloatSliderModel",
      "state": {
       "layout": "IPY_MODEL_87ad6b613e984f1098e4644db364b5e3",
       "orientation": "vertical",
       "readout": false,
       "step": 0.1,
       "style": "IPY_MODEL_55a6de4ce54044ab811cc92c1ca0b4a1",
       "value": 25
      }
     },
     "f8a9453970ba4b3e9e3f8e3825c075a8": {
      "model_module": "@jupyter-widgets/base",
      "model_module_version": "1.0.0",
      "model_name": "LayoutModel",
      "state": {}
     },
     "f8b2cb7d9328425c8dd3b0226e39c968": {
      "model_module": "@jupyter-widgets/controls",
      "model_module_version": "1.1.0",
      "model_name": "VBoxModel",
      "state": {
       "children": [
        "IPY_MODEL_12c1dd32b83f40588d4fa1f69667acd5",
        "IPY_MODEL_a2a49dc53dde460b9574b505431f617b"
       ],
       "layout": "IPY_MODEL_b080ef271d4945aa993c21bc56d3f712"
      }
     },
     "f8ec3207e94f4355aa41df6eed0f0490": {
      "model_module": "@jupyter-widgets/base",
      "model_module_version": "1.0.0",
      "model_name": "LayoutModel",
      "state": {}
     },
     "f913ecfff3684941902ce87aef14dc96": {
      "model_module": "@jupyter-widgets/controls",
      "model_module_version": "1.1.0",
      "model_name": "HTMLModel",
      "state": {
       "layout": "IPY_MODEL_38568dc0f60e4c98a0ac557957095ba7",
       "style": "IPY_MODEL_eaaaaac309474d27a1d26b8820a54635",
       "value": "<svg baseProfile=\"full\" height=\"240\" version=\"1.1\" width=\"240\" xmlns=\"http://www.w3.org/2000/svg\" xmlns:ev=\"http://www.w3.org/2001/xml-events\" xmlns:xlink=\"http://www.w3.org/1999/xlink\"><defs /><rect fill=\"#eef3dd\" height=\"240.0\" stroke=\"#bebebe\" stroke-width=\"1\" width=\"120.0\" x=\"0.0\" y=\"0.0\" /><line fill=\"#800080\" stroke=\"#add8e6\" stroke-width=\"1\" x1=\"92.48979534462877\" x2=\"120.0\" y1=\"191.96318621597652\" y2=\"226.972686\" /><line fill=\"#800080\" stroke=\"#add8e6\" stroke-width=\"1\" x1=\"88.26059451001947\" x2=\"99.16117285721089\" y1=\"193.378763942751\" y2=\"240.0\" /><line fill=\"#800080\" stroke=\"#add8e6\" stroke-width=\"1\" x1=\"85.36241226075677\" x2=\"75.426297545531\" y1=\"192.60381900918568\" y2=\"240.0\" /><line fill=\"#800080\" stroke=\"#add8e6\" stroke-width=\"1\" x1=\"81.95868500542663\" x2=\"45.02383981585632\" y1=\"190.69997007312935\" y2=\"240.0\" /><line fill=\"#800080\" stroke=\"#add8e6\" stroke-width=\"1\" x1=\"78.25152732688463\" x2=\"0.0\" y1=\"185.98223948030966\" y2=\"219.45624\" /><line fill=\"#800080\" stroke=\"#add8e6\" stroke-width=\"1\" x1=\"77.20666536796435\" x2=\"0.0\" y1=\"182.22481170498233\" y2=\"179.74453799999998\" /><line fill=\"#800080\" stroke=\"#add8e6\" stroke-width=\"1\" x1=\"77.13912147439346\" x2=\"0.0\" y1=\"179.22557216429183\" y2=\"140.192184\" /><line fill=\"#800080\" stroke=\"#add8e6\" stroke-width=\"1\" x1=\"79.51474346973177\" x2=\"0.0\" y1=\"175.45112914110751\" y2=\"74.26063199999999\" /><polygon fill=\"red\" points=\"83.07083230898922,192.11528925097528 90.13093004821891,193.8167650552475 104.28412182667807,182.6952920196215 104.30061997667794,175.43307969753624 98.36916769101074,167.88471074902472 91.30906995178105,166.1832349447525 77.1558781733219,177.3047079803785 77.13938002332203,184.56692030246376\" stroke=\"red\" stroke-width=\"1\" /><polygon points=\"-3.0,-3.0 0,0 3.0,-3.0 0,3.0\" stroke=\"black\" stroke-width=\"1\" transform=\"translate(90.71999999999998,180.0) rotate(51.84000000000003)\" /></svg>"
      }
     },
     "f92a4a70a1f54580a6ee88d4a8a87587": {
      "model_module": "@jupyter-widgets/controls",
      "model_module_version": "1.1.0",
      "model_name": "DescriptionStyleModel",
      "state": {
       "description_width": ""
      }
     },
     "f994180a21554c5181ce5482f17483dc": {
      "model_module": "@jupyter-widgets/controls",
      "model_module_version": "1.1.0",
      "model_name": "HTMLModel",
      "state": {
       "layout": "IPY_MODEL_7c1c082bc5094089ac8b8705ce959a6d",
       "style": "IPY_MODEL_600546b2a9344d0b8877d3d1e8fdf385",
       "value": "<img style=\"image-rendering: pixelated;\" src=\"data:image/gif;base64,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\" width=\"240\"/>"
      }
     },
     "f9e7ebfb2e8f4deaa141ad12a9f962e2": {
      "model_module": "@jupyter-widgets/base",
      "model_module_version": "1.0.0",
      "model_name": "LayoutModel",
      "state": {}
     },
     "fa09e4defe2b4a3c9ca937486d7e9719": {
      "model_module": "@jupyter-widgets/base",
      "model_module_version": "1.0.0",
      "model_name": "LayoutModel",
      "state": {
       "height": "248px",
       "padding": "0px 0px 0px 0px",
       "width": "10px"
      }
     },
     "fa0f9e3524c44dd1b4b5cccb60976129": {
      "model_module": "@jupyter-widgets/controls",
      "model_module_version": "1.1.0",
      "model_name": "SliderStyleModel",
      "state": {
       "description_width": ""
      }
     },
     "fa40b266f29044c194dd4268d9f20ab3": {
      "model_module": "@jupyter-widgets/controls",
      "model_module_version": "1.1.0",
      "model_name": "ButtonStyleModel",
      "state": {}
     },
     "fa60d6b04dc642339c180042e1142476": {
      "model_module": "@jupyter-widgets/controls",
      "model_module_version": "1.1.0",
      "model_name": "ButtonModel",
      "state": {
       "description": "Clear Output",
       "layout": "IPY_MODEL_53a96d957d954082a895046094c15706",
       "style": "IPY_MODEL_9064476e831044729565fd21a2adb4fc"
      }
     },
     "fa67bde1a30f4ec5a5f93a28d8f440fc": {
      "model_module": "@jupyter-widgets/controls",
      "model_module_version": "1.1.0",
      "model_name": "DescriptionStyleModel",
      "state": {
       "description_width": "initial"
      }
     },
     "fa72bfee5d074847b4eafe0a6d32bb3c": {
      "model_module": "@jupyter-widgets/base",
      "model_module_version": "1.0.0",
      "model_name": "LayoutModel",
      "state": {}
     },
     "fa999ec67da44e38906d7e87c3d49531": {
      "model_module": "@jupyter-widgets/controls",
      "model_module_version": "1.1.0",
      "model_name": "VBoxModel",
      "state": {
       "children": [
        "IPY_MODEL_24b436f386d7433992ea06975180d61f",
        "IPY_MODEL_add73f797d0a4cf5866c969bd25fc4a8",
        "IPY_MODEL_257b09fca9944a10bc9bf2f13922b987"
       ],
       "layout": "IPY_MODEL_9a812188e2bd4f1e8c4e90b9a8ae9eeb"
      }
     },
     "faabd86dbc5c4c3fa902a84daa8357ab": {
      "model_module": "@jupyter-widgets/base",
      "model_module_version": "1.0.0",
      "model_name": "LayoutModel",
      "state": {}
     },
     "fac09ad0ca104cb4adaac39637b4082f": {
      "model_module": "@jupyter-widgets/base",
      "model_module_version": "1.0.0",
      "model_name": "LayoutModel",
      "state": {}
     },
     "fad0be5b935b4fa7a7220b5189a792ff": {
      "model_module": "@jupyter-widgets/base",
      "model_module_version": "1.0.0",
      "model_name": "LayoutModel",
      "state": {}
     },
     "fad42f42e55a44d6a79446ec76cd91a3": {
      "model_module": "@jupyter-widgets/controls",
      "model_module_version": "1.1.0",
      "model_name": "CheckboxModel",
      "state": {
       "description": "Show Targets",
       "disabled": false,
       "layout": "IPY_MODEL_61399607d3574d29aa33e3c498daa217",
       "style": "IPY_MODEL_28b4015dcd8d4b949ace74a6ac8e294a",
       "value": true
      }
     },
     "fad9f591047c440898749e3d3c808289": {
      "model_module": "@jupyter-widgets/controls",
      "model_module_version": "1.1.0",
      "model_name": "DescriptionStyleModel",
      "state": {
       "description_width": ""
      }
     },
     "fb14f87936144863a88e382394634fec": {
      "model_module": "@jupyter-widgets/controls",
      "model_module_version": "1.1.0",
      "model_name": "HBoxModel",
      "state": {
       "children": [
        "IPY_MODEL_fc22fcd5f9a1414a8a0c3599e500457d",
        "IPY_MODEL_e73ce97d05264f61a42c49e87e804e2e",
        "IPY_MODEL_76aa8704e4144af7a1f37e36d26e91d5"
       ],
       "layout": "IPY_MODEL_3ce1bda46e264de0948cb6baf8d3004d"
      }
     },
     "fb1e2ad8919e457388de21f76a4628d2": {
      "model_module": "@jupyter-widgets/base",
      "model_module_version": "1.0.0",
      "model_name": "LayoutModel",
      "state": {}
     },
     "fb5e1e595b324775b588a4100e29bbdc": {
      "model_module": "@jupyter-widgets/base",
      "model_module_version": "1.0.0",
      "model_name": "LayoutModel",
      "state": {}
     },
     "fb6711c4b121484a90d37ca506f37094": {
      "model_module": "@jupyter-widgets/base",
      "model_module_version": "1.0.0",
      "model_name": "LayoutModel",
      "state": {
       "height": "248px",
       "padding": "0px 0px 0px 0px",
       "width": "10px"
      }
     },
     "fba0e8d90c624e96b8aff0cda8c43d41": {
      "model_module": "@jupyter-widgets/controls",
      "model_module_version": "1.1.0",
      "model_name": "HBoxModel",
      "state": {
       "children": [
        "IPY_MODEL_60e39594e67c4ea394feb2b3366e99ec",
        "IPY_MODEL_24d4f10ed2e64a749b75bf91d25094e5",
        "IPY_MODEL_6aabc8d7eecc441bb03ab5d9a2c80169"
       ],
       "layout": "IPY_MODEL_49ae75b67c1c41379b29092105274bb1"
      }
     },
     "fbbc2674f05b4828a52701c021e0ade9": {
      "model_module": "@jupyter-widgets/controls",
      "model_module_version": "1.1.0",
      "model_name": "VBoxModel",
      "state": {
       "children": [
        "IPY_MODEL_737f12ce880e411b9a7c9eefa90973fa",
        "IPY_MODEL_a4ca1d89836147a09dc3f6d38f52f823",
        "IPY_MODEL_b04d6ab1b1a34cc885a047a3ac256b91"
       ],
       "layout": "IPY_MODEL_8588cfa120c743a9bf185df9df5c4610"
      }
     },
     "fbdc16e93f754f4db8e57f3174536dfc": {
      "model_module": "@jupyter-widgets/base",
      "model_module_version": "1.0.0",
      "model_name": "LayoutModel",
      "state": {}
     },
     "fbe9a16c69de48a2af30a9f1fded095d": {
      "model_module": "@jupyter-widgets/base",
      "model_module_version": "1.0.0",
      "model_name": "LayoutModel",
      "state": {}
     },
     "fbf4a3d0e5074ff0a3467b27aec4bc11": {
      "model_module": "@jupyter-widgets/controls",
      "model_module_version": "1.1.0",
      "model_name": "DescriptionStyleModel",
      "state": {
       "description_width": ""
      }
     },
     "fc1623a1597d4455b07be58d573d1aec": {
      "model_module": "@jupyter-widgets/controls",
      "model_module_version": "1.1.0",
      "model_name": "FloatTextModel",
      "state": {
       "description": "Leftmost color maps to:",
       "layout": "IPY_MODEL_6dc6838a650f45d2874d2135d7a6004c",
       "step": null,
       "style": "IPY_MODEL_ca3af9451f254f5694422ff1be53b291",
       "value": -1
      }
     },
     "fc22fcd5f9a1414a8a0c3599e500457d": {
      "model_module": "@jupyter-widgets/controls",
      "model_module_version": "1.1.0",
      "model_name": "ButtonModel",
      "state": {
       "icon": "step-forward",
       "layout": "IPY_MODEL_d93d8066f73b433fa6cc053657cb922f",
       "style": "IPY_MODEL_dae7613b7c184ba3a11569d12a1fc32b"
      }
     },
     "fc67174d88494b3683c320ed817f0212": {
      "model_module": "@jupyter-widgets/controls",
      "model_module_version": "1.1.0",
      "model_name": "HBoxModel",
      "state": {
       "children": [
        "IPY_MODEL_d67e6afba785465b9ae7f00347c9caf6",
        "IPY_MODEL_4aaf43e5078141db95dd8b7acf6b3654"
       ],
       "layout": "IPY_MODEL_446c8a34a0574c20b835e009535fb51d"
      }
     },
     "fc81462ec09f49dba7802d908d920a70": {
      "model_module": "@jupyter-widgets/base",
      "model_module_version": "1.0.0",
      "model_name": "LayoutModel",
      "state": {}
     },
     "fcaf2651d6fd4ee3b86967c1cbf930d0": {
      "model_module": "@jupyter-widgets/controls",
      "model_module_version": "1.1.0",
      "model_name": "VBoxModel",
      "state": {
       "children": [
        "IPY_MODEL_98f0c4b5e90b4c089fa0171adc75d0ee",
        "IPY_MODEL_82f6a8ef532143598491d38df3fe8ab3"
       ],
       "layout": "IPY_MODEL_c827f0d6c8fd450e915209c0b7a01da2"
      }
     },
     "fd3456f1675a46f885030519cd61cdaa": {
      "model_module": "@jupyter-widgets/base",
      "model_module_version": "1.0.0",
      "model_name": "LayoutModel",
      "state": {
       "height": "30px",
       "padding": "0px 0px 0px 10px",
       "width": "260px"
      }
     },
     "fd3d83830756451886242a289ba11cbc": {
      "model_module": "@jupyter-widgets/controls",
      "model_module_version": "1.1.0",
      "model_name": "HBoxModel",
      "state": {
       "children": [
        "IPY_MODEL_9164a3990ac842b498d85497b3478d83",
        "IPY_MODEL_9b0b47ff2ef44fd6be9aa3a9218a0dee"
       ],
       "layout": "IPY_MODEL_34fe898cbe9749a0aedfc9267c486881"
      }
     },
     "fd51f79722234a0ba51c51b125c40097": {
      "model_module": "@jupyter-widgets/controls",
      "model_module_version": "1.1.0",
      "model_name": "ButtonStyleModel",
      "state": {}
     },
     "fd5c51d639c24395b1efd788cafef805": {
      "model_module": "@jupyter-widgets/controls",
      "model_module_version": "1.1.0",
      "model_name": "HBoxModel",
      "state": {
       "children": [
        "IPY_MODEL_4e24fe4f9c424e238f04224376a38d8a",
        "IPY_MODEL_44babdc85bc5484c9c32350d9f00b580",
        "IPY_MODEL_ee8df2d5b60d4a22ae66ea608e219cd9",
        "IPY_MODEL_00818cbfc1964599b23cd5e585984a55",
        "IPY_MODEL_8b495323eaba45fd87e72c79449ed8c4",
        "IPY_MODEL_46cf95447d44401d985f71ed1a6f63e4",
        "IPY_MODEL_e186591ece4e41f4a31533635682cec6"
       ],
       "layout": "IPY_MODEL_4559767675de416a9f6c1520b9d65af6"
      }
     },
     "fdb10b3f93b04a448097809fc5231ca5": {
      "model_module": "@jupyter-widgets/base",
      "model_module_version": "1.0.0",
      "model_name": "LayoutModel",
      "state": {}
     },
     "fdb3c052ffac4047bb94a03f5c2a82c6": {
      "model_module": "@jupyter-widgets/controls",
      "model_module_version": "1.1.0",
      "model_name": "SliderStyleModel",
      "state": {
       "description_width": ""
      }
     },
     "fdbd8de9146c4cd4888c61d149071c6b": {
      "model_module": "@jupyter-widgets/controls",
      "model_module_version": "1.1.0",
      "model_name": "CheckboxModel",
      "state": {
       "description": "Update GUI",
       "disabled": false,
       "layout": "IPY_MODEL_5b81c1922eb64f03b543626962472a09",
       "style": "IPY_MODEL_7f38f6d72640483a9364987f7e52586e",
       "value": true
      }
     },
     "fdddee62164d46b381418363d0dc73ac": {
      "model_module": "@jupyter-widgets/base",
      "model_module_version": "1.0.0",
      "model_name": "LayoutModel",
      "state": {}
     },
     "fe04f582523d44aeadb006fcd0a54bcb": {
      "model_module": "@jupyter-widgets/base",
      "model_module_version": "1.0.0",
      "model_name": "LayoutModel",
      "state": {}
     },
     "fe3af8d9be844f89a0f73567309e7fb0": {
      "model_module": "@jupyter-widgets/controls",
      "model_module_version": "1.1.0",
      "model_name": "ButtonModel",
      "state": {
       "description": "Clear Output",
       "layout": "IPY_MODEL_4c61e4044f8646be9b05994a56acf6e3",
       "style": "IPY_MODEL_67031ed576a94f5cb790aabe84a4b7e0"
      }
     },
     "fec9507e90834c3ea971ff75f0489e08": {
      "model_module": "@jupyter-widgets/base",
      "model_module_version": "1.0.0",
      "model_name": "LayoutModel",
      "state": {}
     },
     "fefdb77f61804ed4ad7ede510c0c0dbc": {
      "model_module": "@jupyter-widgets/base",
      "model_module_version": "1.0.0",
      "model_name": "LayoutModel",
      "state": {}
     },
     "ff171bd268724b1a8a2554bdb55cee93": {
      "model_module": "@jupyter-widgets/base",
      "model_module_version": "1.0.0",
      "model_name": "LayoutModel",
      "state": {}
     },
     "ff3e00dea86f45159d4affdd5a5511bd": {
      "model_module": "@jupyter-widgets/base",
      "model_module_version": "1.0.0",
      "model_name": "LayoutModel",
      "state": {
       "height": "20px",
       "padding": "0px 0px 0px 0px",
       "width": "248px"
      }
     },
     "ff467a19f019427ab77fd1bf4a60f022": {
      "model_module": "@jupyter-widgets/controls",
      "model_module_version": "1.1.0",
      "model_name": "DescriptionStyleModel",
      "state": {
       "description_width": ""
      }
     },
     "ff61b73b471d459bb568cd9c5637e55d": {
      "model_module": "@jupyter-widgets/base",
      "model_module_version": "1.0.0",
      "model_name": "LayoutModel",
      "state": {}
     },
     "ff6ecc192af84a83a3f939789d651f61": {
      "model_module": "@jupyter-widgets/base",
      "model_module_version": "1.0.0",
      "model_name": "LayoutModel",
      "state": {}
     },
     "ff8565f4cc17473aa22266086682a1bb": {
      "model_module": "@jupyter-widgets/controls",
      "model_module_version": "1.1.0",
      "model_name": "VBoxModel",
      "state": {
       "children": [
        "IPY_MODEL_b86da7abd72442fda414a0f11d04ff41",
        "IPY_MODEL_569cebee077a45638dfdd63050fe405c",
        "IPY_MODEL_4bf88ec734684882bfe7c05929540671"
       ],
       "layout": "IPY_MODEL_2dde89265e10475f91bfb687bfa35b47"
      }
     },
     "ff8a6c183bd241b8be22671491d5bd81": {
      "model_module": "@jupyter-widgets/controls",
      "model_module_version": "1.1.0",
      "model_name": "DescriptionStyleModel",
      "state": {
       "description_width": ""
      }
     },
     "ffa1d226ca2e4602ba1d0f7674e4287e": {
      "model_module": "@jupyter-widgets/controls",
      "model_module_version": "1.1.0",
      "model_name": "VBoxModel",
      "state": {
       "children": [
        "IPY_MODEL_64a56167d9ab46b68b42234376fcb023",
        "IPY_MODEL_f5c2bfc4e4fd4000887e92e254420ba0"
       ],
       "layout": "IPY_MODEL_e46d63da8f3e454bb5f12ce61d0611f7"
      }
     },
     "ffe78ed8da944e01bdfbeff99d75b716": {
      "model_module": "@jupyter-widgets/controls",
      "model_module_version": "1.1.0",
      "model_name": "TextModel",
      "state": {
       "description": "Time:",
       "layout": "IPY_MODEL_333e9291d77d407fb9c0110311f08521",
       "style": "IPY_MODEL_9dcc8500e73047f6817913a36d587ce3",
       "value": "0.00 seconds"
      }
     },
     "fff602db5f70420981ae9d0ed36b1d96": {
      "model_module": "@jupyter-widgets/base",
      "model_module_version": "1.0.0",
      "model_name": "LayoutModel",
      "state": {}
     },
     "fff736cb5c704a86bd8f493042017338": {
      "model_module": "@jupyter-widgets/base",
      "model_module_version": "1.0.0",
      "model_name": "LayoutModel",
      "state": {
       "height": "20px",
       "padding": "0px 0px 0px 0px",
       "width": "248px"
      }
     }
    },
    "version_major": 2,
    "version_minor": 0
   }
  }
 },
 "nbformat": 4,
 "nbformat_minor": 2
}
