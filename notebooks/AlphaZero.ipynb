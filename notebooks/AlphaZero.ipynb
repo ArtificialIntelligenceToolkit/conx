{
 "cells": [
  {
   "cell_type": "markdown",
   "metadata": {},
   "source": [
    "# AlphaZero\n",
    "\n",
    "This notebook is based on the paper:\n",
    "\n",
    "* [Mastering the game of Go without Human Knowledge](https://deepmind.com/research/publications/mastering-game-go-without-human-knowledge/)\n",
    "\n",
    "with additional insight from:\n",
    "\n",
    "* https://applied-data.science/blog/how-to-build-your-own-alphazero-ai-using-python-and-keras/\n",
    "* https://github.com/AppliedDataSciencePartners/DeepReinforcementLearning\n",
    "* https://github.com/junxiaosong/AlphaZero_Gomoku/blob/master/mcts_alphaZero.py\n",
    "\n",
    "\n",
    "This code use the new [conx](http://conx.readthedocs.io/en/latest/) layer that sits on top of Keras. Conx is designed to be simpler than Keras, more intuitive, and integrated visualizations.\n",
    "\n",
    "Currently this code requires the TensorFlow backend, as it has a function specific to TF."
   ]
  },
  {
   "cell_type": "markdown",
   "metadata": {},
   "source": [
    "## The Game\n",
    "\n",
    "First, let's look at a specific game. We can use many, but for this demonstration we'll pick ConnectFour. There is a good code base of different games and a game engine in the [code](https://github.com/Calysto/aima3/) based on [Artificial Intelligence: A Modern Approach](http://aima.cs.berkeley.edu/).\n",
    "\n",
    "If you would like to install aima3, you can use something like this in a cell:\n",
    "\n",
    "```bash\n",
    "! pip install aima3 -U --user\n",
    "```\n",
    "\n",
    "aima3 has other games that you can play as well as ConnectFour, including TicTacToe. \n",
    "aima3 has many AI algorithms wrapped up to play games. You can see more details about the game engine and ConnectFour here:\n",
    "\n",
    "* https://github.com/Calysto/aima3/blob/master/notebooks/games.ipynb\n",
    "* https://github.com/Calysto/aima3/blob/master/notebooks/connect_four.ipynb\n",
    "\n",
    "and other resources in that repository.\n",
    "\n",
    "We import some of these that will be useful in our AlphaZero exploration:"
   ]
  },
  {
   "cell_type": "code",
   "execution_count": 1,
   "metadata": {},
   "outputs": [],
   "source": [
    "from aima3.games import (ConnectFour, RandomPlayer, \n",
    "                         MCTSPlayer, QueryPlayer, Player,\n",
    "                         MiniMaxPlayer, AlphaBetaPlayer,\n",
    "                         AlphaBetaCutoffPlayer)\n",
    "import numpy as np"
   ]
  },
  {
   "cell_type": "markdown",
   "metadata": {},
   "source": [
    "Let's make a game:"
   ]
  },
  {
   "cell_type": "code",
   "execution_count": 2,
   "metadata": {},
   "outputs": [],
   "source": [
    "game = ConnectFour()"
   ]
  },
  {
   "cell_type": "markdown",
   "metadata": {},
   "source": [
    "and play a game between two random players:"
   ]
  },
  {
   "cell_type": "code",
   "execution_count": 3,
   "metadata": {},
   "outputs": [
    {
     "name": "stdout",
     "output_type": "stream",
     "text": [
      "Random-2 is thinking...\n",
      "Random-2 makes action (5, 1):\n",
      ". . . . . . . \n",
      ". . . . . . . \n",
      ". . . . . . . \n",
      ". . . . . . . \n",
      ". . . . . . . \n",
      ". . . . . . . \n",
      ". . . . X . . \n",
      "Random-1 is thinking...\n",
      "Random-1 makes action (5, 2):\n",
      ". . . . . . . \n",
      ". . . . . . . \n",
      ". . . . . . . \n",
      ". . . . . . . \n",
      ". . . . . . . \n",
      ". . . . O . . \n",
      ". . . . X . . \n",
      "Random-2 is thinking...\n",
      "Random-2 makes action (6, 1):\n",
      ". . . . . . . \n",
      ". . . . . . . \n",
      ". . . . . . . \n",
      ". . . . . . . \n",
      ". . . . . . . \n",
      ". . . . O . . \n",
      ". . . . X X . \n",
      "Random-1 is thinking...\n",
      "Random-1 makes action (5, 3):\n",
      ". . . . . . . \n",
      ". . . . . . . \n",
      ". . . . . . . \n",
      ". . . . . . . \n",
      ". . . . O . . \n",
      ". . . . O . . \n",
      ". . . . X X . \n",
      "Random-2 is thinking...\n",
      "Random-2 makes action (1, 1):\n",
      ". . . . . . . \n",
      ". . . . . . . \n",
      ". . . . . . . \n",
      ". . . . . . . \n",
      ". . . . O . . \n",
      ". . . . O . . \n",
      "X . . . X X . \n",
      "Random-1 is thinking...\n",
      "Random-1 makes action (3, 1):\n",
      ". . . . . . . \n",
      ". . . . . . . \n",
      ". . . . . . . \n",
      ". . . . . . . \n",
      ". . . . O . . \n",
      ". . . . O . . \n",
      "X . O . X X . \n",
      "Random-2 is thinking...\n",
      "Random-2 makes action (3, 2):\n",
      ". . . . . . . \n",
      ". . . . . . . \n",
      ". . . . . . . \n",
      ". . . . . . . \n",
      ". . . . O . . \n",
      ". . X . O . . \n",
      "X . O . X X . \n",
      "Random-1 is thinking...\n",
      "Random-1 makes action (2, 1):\n",
      ". . . . . . . \n",
      ". . . . . . . \n",
      ". . . . . . . \n",
      ". . . . . . . \n",
      ". . . . O . . \n",
      ". . X . O . . \n",
      "X O O . X X . \n",
      "Random-2 is thinking...\n",
      "Random-2 makes action (4, 1):\n",
      ". . . . . . . \n",
      ". . . . . . . \n",
      ". . . . . . . \n",
      ". . . . . . . \n",
      ". . . . O . . \n",
      ". . X . O . . \n",
      "X O O X X X . \n",
      "Random-1 is thinking...\n",
      "Random-1 makes action (3, 3):\n",
      ". . . . . . . \n",
      ". . . . . . . \n",
      ". . . . . . . \n",
      ". . . . . . . \n",
      ". . O . O . . \n",
      ". . X . O . . \n",
      "X O O X X X . \n",
      "Random-2 is thinking...\n",
      "Random-2 makes action (2, 2):\n",
      ". . . . . . . \n",
      ". . . . . . . \n",
      ". . . . . . . \n",
      ". . . . . . . \n",
      ". . O . O . . \n",
      ". X X . O . . \n",
      "X O O X X X . \n",
      "Random-1 is thinking...\n",
      "Random-1 makes action (7, 1):\n",
      ". . . . . . . \n",
      ". . . . . . . \n",
      ". . . . . . . \n",
      ". . . . . . . \n",
      ". . O . O . . \n",
      ". X X . O . . \n",
      "X O O X X X O \n",
      "Random-2 is thinking...\n",
      "Random-2 makes action (3, 4):\n",
      ". . . . . . . \n",
      ". . . . . . . \n",
      ". . . . . . . \n",
      ". . X . . . . \n",
      ". . O . O . . \n",
      ". X X . O . . \n",
      "X O O X X X O \n",
      "Random-1 is thinking...\n",
      "Random-1 makes action (7, 2):\n",
      ". . . . . . . \n",
      ". . . . . . . \n",
      ". . . . . . . \n",
      ". . X . . . . \n",
      ". . O . O . . \n",
      ". X X . O . O \n",
      "X O O X X X O \n",
      "Random-2 is thinking...\n",
      "Random-2 makes action (5, 4):\n",
      ". . . . . . . \n",
      ". . . . . . . \n",
      ". . . . . . . \n",
      ". . X . X . . \n",
      ". . O . O . . \n",
      ". X X . O . O \n",
      "X O O X X X O \n",
      "Random-1 is thinking...\n",
      "Random-1 makes action (2, 3):\n",
      ". . . . . . . \n",
      ". . . . . . . \n",
      ". . . . . . . \n",
      ". . X . X . . \n",
      ". O O . O . . \n",
      ". X X . O . O \n",
      "X O O X X X O \n",
      "Random-2 is thinking...\n",
      "Random-2 makes action (2, 4):\n",
      ". . . . . . . \n",
      ". . . . . . . \n",
      ". . . . . . . \n",
      ". X X . X . . \n",
      ". O O . O . . \n",
      ". X X . O . O \n",
      "X O O X X X O \n",
      "Random-1 is thinking...\n",
      "Random-1 makes action (5, 5):\n",
      ". . . . . . . \n",
      ". . . . . . . \n",
      ". . . . O . . \n",
      ". X X . X . . \n",
      ". O O . O . . \n",
      ". X X . O . O \n",
      "X O O X X X O \n",
      "Random-2 is thinking...\n",
      "Random-2 makes action (4, 2):\n",
      ". . . . . . . \n",
      ". . . . . . . \n",
      ". . . . O . . \n",
      ". X X . X . . \n",
      ". O O . O . . \n",
      ". X X X O . O \n",
      "X O O X X X O \n",
      "Random-1 is thinking...\n",
      "Random-1 makes action (7, 3):\n",
      ". . . . . . . \n",
      ". . . . . . . \n",
      ". . . . O . . \n",
      ". X X . X . . \n",
      ". O O . O . O \n",
      ". X X X O . O \n",
      "X O O X X X O \n",
      "Random-2 is thinking...\n",
      "Random-2 makes action (1, 2):\n",
      ". . . . . . . \n",
      ". . . . . . . \n",
      ". . . . O . . \n",
      ". X X . X . . \n",
      ". O O . O . O \n",
      "X X X X O . O \n",
      "X O O X X X O \n",
      "***** Random-2 wins!\n"
     ]
    },
    {
     "data": {
      "text/plain": [
       "['Random-2']"
      ]
     },
     "execution_count": 3,
     "metadata": {},
     "output_type": "execute_result"
    }
   ],
   "source": [
    "game.play_game(RandomPlayer(\"Random-1\"), RandomPlayer(\"Random-2\"))"
   ]
  },
  {
   "cell_type": "markdown",
   "metadata": {},
   "source": [
    "We can also play a match (a bunch of games) or even a tournament between a bunch of players.\n",
    "\n",
    "```python\n",
    "p1 = RandomPlayer(\"Random-1\")\n",
    "p2 = MiniMax(\"MiniMax-1\")\n",
    "p3 = AlphaBetaCutoff(\"ABCutoff-1\")\n",
    "\n",
    "game.play_matches(10, p1, p2)\n",
    "\n",
    "game.play_tournament(1, p1, p2, p3)\n",
    "```\n",
    "\n",
    "Can you beat RandomPlayer? Hope so!\n",
    "\n",
    "Can you beat MiniMax? No! But it takes too long.\n",
    "\n",
    "Humans enter their commands by (column, row) where column starts at 1 from left, and row starts at 1 from bottom."
   ]
  },
  {
   "cell_type": "code",
   "execution_count": 4,
   "metadata": {
    "scrolled": true
   },
   "outputs": [],
   "source": [
    "# game.play_game(AlphaBetaCutoffPlayer(\"AlphaBetaCutoff\"), HumanPlayer(\"Your Name Here\"))"
   ]
  },
  {
   "cell_type": "markdown",
   "metadata": {},
   "source": [
    "## The Network\n",
    "\n",
    "Net, we are going to build the same kind of network described in the AlphaZero paper.\n",
    "\n",
    "Make sure to set your Keras backend to TensorFlow for now, as we have a function that is written at that level."
   ]
  },
  {
   "cell_type": "code",
   "execution_count": 5,
   "metadata": {},
   "outputs": [
    {
     "name": "stderr",
     "output_type": "stream",
     "text": [
      "Using TensorFlow backend.\n",
      "/usr/lib/python3.6/importlib/_bootstrap.py:219: RuntimeWarning: compiletime version 3.5 of module 'tensorflow.python.framework.fast_tensor_util' does not match runtime version 3.6\n",
      "  return f(*args, **kwds)\n",
      "conx, version 3.5.13\n"
     ]
    }
   ],
   "source": [
    "import conx as cx\n",
    "from aima3.games import Game\n",
    "from keras import regularizers"
   ]
  },
  {
   "cell_type": "code",
   "execution_count": 6,
   "metadata": {},
   "outputs": [],
   "source": [
    "## NEED TO REWRITE THIS FUNCTION IN KERAS:\n",
    "\n",
    "import tensorflow as tf\n",
    "\n",
    "def softmax_cross_entropy_with_logits(y_true, y_pred):\n",
    "    p = y_pred\n",
    "    pi = y_true\n",
    "    zero = tf.zeros(shape = tf.shape(pi), dtype=tf.float32)\n",
    "    where = tf.equal(pi, zero)\n",
    "    negatives = tf.fill(tf.shape(pi), -100.0) \n",
    "    p = tf.where(where, negatives, p)\n",
    "    loss = tf.nn.softmax_cross_entropy_with_logits(labels = pi, logits = p)\n",
    "    return loss"
   ]
  },
  {
   "cell_type": "markdown",
   "metadata": {},
   "source": [
    "### Representations\n",
    "\n",
    "The state board is the most important bits of information. How to represent it? Possible ideas:\n",
    "\n",
    "* a vector of 42 values\n",
    "* a 6x7 matrix\n",
    "\n",
    "We decided to represent the state of the board as 2 6x7 matrices: one for representing the current player's pieces, and the other for the opponent pieces.\n",
    "\n",
    "We also need to represent actions. Possible ideas:\n",
    "\n",
    "* 7 outputs, each representing a column to drop a piece into\n",
    "* two outputs, one representing row, and the other column\n",
    "* 6x7 matrix, each representing the position on the grid\n",
    "* 42 outputs, each representing the position on the grid\n",
    "\n",
    "We decided to represent them as the final option: 42 outputs."
   ]
  },
  {
   "cell_type": "markdown",
   "metadata": {},
   "source": [
    "The network architecture in AlphaZero is quite large, and has repeating blocks of layers. To help in the construction of the network, we define some functions"
   ]
  },
  {
   "cell_type": "code",
   "execution_count": 7,
   "metadata": {},
   "outputs": [],
   "source": [
    "def add_conv_block(net, input_layer):\n",
    "    cname = net.add(cx.Conv2DLayer(\"conv2d-%d\", \n",
    "                    filters=75, \n",
    "                    kernel_size=(4,4), \n",
    "                    padding='same', \n",
    "                    use_bias=False,\n",
    "                    activation='linear', \n",
    "                    kernel_regularizer=regularizers.l2(0.0001)))\n",
    "    bname = net.add(cx.BatchNormalizationLayer(\"batch-norm-%d\", axis=1))\n",
    "    lname = net.add(cx.LeakyReLULayer(\"leaky-relu-%d\"))\n",
    "    net.connect(input_layer, cname)\n",
    "    net.connect(cname, bname)\n",
    "    net.connect(bname, lname)\n",
    "    return lname\n",
    "\n",
    "def add_residual_block(net, input_layer):\n",
    "    prev_layer = add_conv_block(net, input_layer)\n",
    "    cname = net.add(cx.Conv2DLayer(\"conv2d-%d\",\n",
    "        filters=75,\n",
    "        kernel_size=(4,4),\n",
    "        padding='same',\n",
    "        use_bias=False,\n",
    "        activation='linear',\n",
    "        kernel_regularizer=regularizers.l2(0.0001)))\n",
    "    bname = net.add(cx.BatchNormalizationLayer(\"batch-norm-%d\", axis=1))\n",
    "    aname = net.add(cx.AddLayer(\"add-%d\"))\n",
    "    lname = net.add(cx.LeakyReLULayer(\"leaky-relu-%d\"))\n",
    "    net.connect(prev_layer, cname)\n",
    "    net.connect(cname, bname)\n",
    "    net.connect(input_layer, aname)\n",
    "    net.connect(bname, aname)\n",
    "    net.connect(aname, lname)\n",
    "    return lname\n",
    "\n",
    "def add_value_block(net, input_layer):\n",
    "    l1 = net.add(cx.Conv2DLayer(\"conv2d-%d\",\n",
    "        filters=1,\n",
    "        kernel_size=(1,1),\n",
    "        padding='same',\n",
    "        use_bias=False,\n",
    "        activation='linear',\n",
    "        kernel_regularizer=regularizers.l2(0.0001)))\n",
    "    l2 = net.add(cx.BatchNormalizationLayer(\"batch-norm-%d\", axis=1))\n",
    "    l3 = net.add(cx.LeakyReLULayer(\"leaky-relu-%d\"))\n",
    "    l4 = net.add(cx.FlattenLayer(\"flatten-%d\"))\n",
    "    l5 = net.add(cx.Layer(\"dense-%d\",\n",
    "        20,\n",
    "        use_bias=False,\n",
    "        activation='linear',\n",
    "        kernel_regularizer=regularizers.l2(0.0001)))\n",
    "    l6 = net.add(cx.LeakyReLULayer(\"leaky-relu-%d\"))\n",
    "    l7 = net.add(cx.Layer('value_head',\n",
    "        1,\n",
    "        use_bias=False,\n",
    "        activation='tanh',\n",
    "        kernel_regularizer=regularizers.l2(0.0001)))\n",
    "    net.connect(input_layer, l1)\n",
    "    net.connect(l1, l2)\n",
    "    net.connect(l2, l3)\n",
    "    net.connect(l3, l4)\n",
    "    net.connect(l4, l5)\n",
    "    net.connect(l5, l6)\n",
    "    net.connect(l6, l7)\n",
    "    return l7\n",
    "\n",
    "def add_policy_block(net, input_layer):\n",
    "    l1 = net.add(cx.Conv2DLayer(\"conv2d-%d\",\n",
    "        filters=2,\n",
    "        kernel_size=(1,1),\n",
    "        padding='same',\n",
    "        use_bias=False,\n",
    "        activation='linear',\n",
    "        kernel_regularizer = regularizers.l2(0.0001)))\n",
    "    l2 = net.add(cx.BatchNormalizationLayer(\"batch-norm-%d\", axis=1))\n",
    "    l3 = net.add(cx.LeakyReLULayer(\"leaky-relu-%d\"))\n",
    "    l4 = net.add(cx.FlattenLayer(\"flatten-%d\"))\n",
    "    l5 = net.add(cx.Layer('policy_head',\n",
    "            42,\n",
    "            use_bias=False,\n",
    "            activation='linear',\n",
    "            kernel_regularizer=regularizers.l2(0.0001)))\n",
    "    net.connect(input_layer, l1)\n",
    "    net.connect(l1, l2)\n",
    "    net.connect(l2, l3)\n",
    "    net.connect(l3, l4)\n",
    "    net.connect(l4, l5)\n",
    "    return l5"
   ]
  },
  {
   "cell_type": "code",
   "execution_count": 8,
   "metadata": {},
   "outputs": [],
   "source": [
    "def make_network(game, residuals=5):\n",
    "    net = cx.Network(\"AlphaZero Network\")\n",
    "    net.add(cx.Layer(\"main_input\", (game.v, game.h, 2)))\n",
    "    out_layer = add_conv_block(net, \"main_input\")\n",
    "    for i in range(residuals):\n",
    "        out_layer = add_residual_block(net, out_layer)\n",
    "    add_policy_block(net, out_layer)\n",
    "    add_value_block(net, out_layer)\n",
    "    net.compile(loss={'value_head': 'mean_squared_error', \n",
    "                  'policy_head': softmax_cross_entropy_with_logits},\n",
    "            optimizer=cx.SGD(lr=0.1, momentum=0.9),\n",
    "            loss_weights={'value_head': 0.5, \n",
    "                          'policy_head': 0.5})\n",
    "    for layer in net.layers:\n",
    "        if layer.kind() == \"hidden\":\n",
    "            layer.visible = False\n",
    "    return net"
   ]
  },
  {
   "cell_type": "code",
   "execution_count": 9,
   "metadata": {},
   "outputs": [],
   "source": [
    "game = ConnectFour()\n",
    "net = make_network(game)"
   ]
  },
  {
   "cell_type": "code",
   "execution_count": 10,
   "metadata": {},
   "outputs": [
    {
     "name": "stdout",
     "output_type": "stream",
     "text": [
      "__________________________________________________________________________________________________\n",
      "Layer (type)                    Output Shape         Param #     Connected to                     \n",
      "==================================================================================================\n",
      "main_input (InputLayer)         (None, 6, 7, 2)      0                                            \n",
      "__________________________________________________________________________________________________\n",
      "conv2d-1 (Conv2D)               (None, 6, 7, 75)     2400        main_input[0][0]                 \n",
      "__________________________________________________________________________________________________\n",
      "batch-norm-1 (BatchNormalizatio (None, 6, 7, 75)     24          conv2d-1[0][0]                   \n",
      "__________________________________________________________________________________________________\n",
      "leaky-relu-1 (LeakyReLU)        (None, 6, 7, 75)     0           batch-norm-1[0][0]               \n",
      "__________________________________________________________________________________________________\n",
      "conv2d-2 (Conv2D)               (None, 6, 7, 75)     90000       leaky-relu-1[0][0]               \n",
      "__________________________________________________________________________________________________\n",
      "batch-norm-2 (BatchNormalizatio (None, 6, 7, 75)     24          conv2d-2[0][0]                   \n",
      "__________________________________________________________________________________________________\n",
      "leaky-relu-2 (LeakyReLU)        (None, 6, 7, 75)     0           batch-norm-2[0][0]               \n",
      "__________________________________________________________________________________________________\n",
      "conv2d-3 (Conv2D)               (None, 6, 7, 75)     90000       leaky-relu-2[0][0]               \n",
      "__________________________________________________________________________________________________\n",
      "batch-norm-3 (BatchNormalizatio (None, 6, 7, 75)     24          conv2d-3[0][0]                   \n",
      "__________________________________________________________________________________________________\n",
      "add-1 (Add)                     (None, 6, 7, 75)     0           leaky-relu-1[0][0]               \n",
      "                                                                 batch-norm-3[0][0]               \n",
      "__________________________________________________________________________________________________\n",
      "leaky-relu-3 (LeakyReLU)        (None, 6, 7, 75)     0           add-1[0][0]                      \n",
      "__________________________________________________________________________________________________\n",
      "conv2d-4 (Conv2D)               (None, 6, 7, 75)     90000       leaky-relu-3[0][0]               \n",
      "__________________________________________________________________________________________________\n",
      "batch-norm-4 (BatchNormalizatio (None, 6, 7, 75)     24          conv2d-4[0][0]                   \n",
      "__________________________________________________________________________________________________\n",
      "leaky-relu-4 (LeakyReLU)        (None, 6, 7, 75)     0           batch-norm-4[0][0]               \n",
      "__________________________________________________________________________________________________\n",
      "conv2d-5 (Conv2D)               (None, 6, 7, 75)     90000       leaky-relu-4[0][0]               \n",
      "__________________________________________________________________________________________________\n",
      "batch-norm-5 (BatchNormalizatio (None, 6, 7, 75)     24          conv2d-5[0][0]                   \n",
      "__________________________________________________________________________________________________\n",
      "add-2 (Add)                     (None, 6, 7, 75)     0           leaky-relu-3[0][0]               \n",
      "                                                                 batch-norm-5[0][0]               \n",
      "__________________________________________________________________________________________________\n",
      "leaky-relu-5 (LeakyReLU)        (None, 6, 7, 75)     0           add-2[0][0]                      \n",
      "__________________________________________________________________________________________________\n",
      "conv2d-6 (Conv2D)               (None, 6, 7, 75)     90000       leaky-relu-5[0][0]               \n",
      "__________________________________________________________________________________________________\n",
      "batch-norm-6 (BatchNormalizatio (None, 6, 7, 75)     24          conv2d-6[0][0]                   \n",
      "__________________________________________________________________________________________________\n",
      "leaky-relu-6 (LeakyReLU)        (None, 6, 7, 75)     0           batch-norm-6[0][0]               \n",
      "__________________________________________________________________________________________________\n",
      "conv2d-7 (Conv2D)               (None, 6, 7, 75)     90000       leaky-relu-6[0][0]               \n",
      "__________________________________________________________________________________________________\n",
      "batch-norm-7 (BatchNormalizatio (None, 6, 7, 75)     24          conv2d-7[0][0]                   \n",
      "__________________________________________________________________________________________________\n",
      "add-3 (Add)                     (None, 6, 7, 75)     0           leaky-relu-5[0][0]               \n",
      "                                                                 batch-norm-7[0][0]               \n",
      "__________________________________________________________________________________________________\n",
      "leaky-relu-7 (LeakyReLU)        (None, 6, 7, 75)     0           add-3[0][0]                      \n",
      "__________________________________________________________________________________________________\n",
      "conv2d-8 (Conv2D)               (None, 6, 7, 75)     90000       leaky-relu-7[0][0]               \n",
      "__________________________________________________________________________________________________\n",
      "batch-norm-8 (BatchNormalizatio (None, 6, 7, 75)     24          conv2d-8[0][0]                   \n",
      "__________________________________________________________________________________________________\n",
      "leaky-relu-8 (LeakyReLU)        (None, 6, 7, 75)     0           batch-norm-8[0][0]               \n",
      "__________________________________________________________________________________________________\n",
      "conv2d-9 (Conv2D)               (None, 6, 7, 75)     90000       leaky-relu-8[0][0]               \n",
      "__________________________________________________________________________________________________\n",
      "batch-norm-9 (BatchNormalizatio (None, 6, 7, 75)     24          conv2d-9[0][0]                   \n",
      "__________________________________________________________________________________________________\n",
      "add-4 (Add)                     (None, 6, 7, 75)     0           leaky-relu-7[0][0]               \n",
      "                                                                 batch-norm-9[0][0]               \n",
      "__________________________________________________________________________________________________\n",
      "leaky-relu-9 (LeakyReLU)        (None, 6, 7, 75)     0           add-4[0][0]                      \n",
      "__________________________________________________________________________________________________\n",
      "conv2d-10 (Conv2D)              (None, 6, 7, 75)     90000       leaky-relu-9[0][0]               \n",
      "__________________________________________________________________________________________________\n",
      "batch-norm-10 (BatchNormalizati (None, 6, 7, 75)     24          conv2d-10[0][0]                  \n",
      "__________________________________________________________________________________________________\n",
      "leaky-relu-10 (LeakyReLU)       (None, 6, 7, 75)     0           batch-norm-10[0][0]              \n",
      "__________________________________________________________________________________________________\n",
      "conv2d-11 (Conv2D)              (None, 6, 7, 75)     90000       leaky-relu-10[0][0]              \n",
      "__________________________________________________________________________________________________\n",
      "batch-norm-11 (BatchNormalizati (None, 6, 7, 75)     24          conv2d-11[0][0]                  \n",
      "__________________________________________________________________________________________________\n",
      "add-5 (Add)                     (None, 6, 7, 75)     0           leaky-relu-9[0][0]               \n",
      "                                                                 batch-norm-11[0][0]              \n",
      "__________________________________________________________________________________________________\n",
      "leaky-relu-11 (LeakyReLU)       (None, 6, 7, 75)     0           add-5[0][0]                      \n",
      "__________________________________________________________________________________________________\n",
      "conv2d-13 (Conv2D)              (None, 6, 7, 1)      75          leaky-relu-11[0][0]              \n",
      "__________________________________________________________________________________________________\n",
      "batch-norm-13 (BatchNormalizati (None, 6, 7, 1)      24          conv2d-13[0][0]                  \n",
      "__________________________________________________________________________________________________\n",
      "conv2d-12 (Conv2D)              (None, 6, 7, 2)      150         leaky-relu-11[0][0]              \n",
      "__________________________________________________________________________________________________\n",
      "leaky-relu-13 (LeakyReLU)       (None, 6, 7, 1)      0           batch-norm-13[0][0]              \n",
      "__________________________________________________________________________________________________\n",
      "batch-norm-12 (BatchNormalizati (None, 6, 7, 2)      24          conv2d-12[0][0]                  \n",
      "__________________________________________________________________________________________________\n",
      "flatten-2 (Flatten)             (None, 42)           0           leaky-relu-13[0][0]              \n",
      "__________________________________________________________________________________________________\n",
      "leaky-relu-12 (LeakyReLU)       (None, 6, 7, 2)      0           batch-norm-12[0][0]              \n",
      "__________________________________________________________________________________________________\n",
      "dense-1 (Dense)                 (None, 20)           840         flatten-2[0][0]                  \n",
      "__________________________________________________________________________________________________\n",
      "flatten-1 (Flatten)             (None, 84)           0           leaky-relu-12[0][0]              \n",
      "__________________________________________________________________________________________________\n",
      "leaky-relu-14 (LeakyReLU)       (None, 20)           0           dense-1[0][0]                    \n",
      "__________________________________________________________________________________________________\n",
      "policy_head (Dense)             (None, 42)           3528        flatten-1[0][0]                  \n",
      "__________________________________________________________________________________________________\n",
      "value_head (Dense)              (None, 1)            20          leaky-relu-14[0][0]              \n",
      "==================================================================================================\n",
      "Total params: 907,325\n",
      "Trainable params: 907,169\n",
      "Non-trainable params: 156\n",
      "__________________________________________________________________________________________________\n"
     ]
    }
   ],
   "source": [
    "net.model.summary()"
   ]
  },
  {
   "cell_type": "code",
   "execution_count": 11,
   "metadata": {},
   "outputs": [
    {
     "data": {
      "text/plain": [
       "51"
      ]
     },
     "execution_count": 11,
     "metadata": {},
     "output_type": "execute_result"
    }
   ],
   "source": [
    "len(net.layers)"
   ]
  },
  {
   "cell_type": "code",
   "execution_count": 12,
   "metadata": {
    "scrolled": false
   },
   "outputs": [
    {
     "data": {
      "application/javascript": [
       "\n",
       "require(['base/js/namespace'], function(Jupyter) {\n",
       "    Jupyter.notebook.kernel.comm_manager.register_target('conx_svg_control', function(comm, msg) {\n",
       "        comm.on_msg(function(msg) {\n",
       "            var data = msg[\"content\"][\"data\"];\n",
       "            var images = document.getElementsByClassName(data[\"class\"]);\n",
       "            for (var i = 0; i < images.length; i++) {\n",
       "                if (data[\"href\"]) {\n",
       "                    images[i].setAttributeNS(null, \"href\", data[\"href\"]);\n",
       "                }\n",
       "                if (data[\"src\"]) {\n",
       "                    images[i].setAttributeNS(null, \"src\", data[\"src\"]);\n",
       "                }\n",
       "            }\n",
       "        });\n",
       "    });\n",
       "});\n"
      ],
      "text/plain": [
       "<IPython.core.display.Javascript object>"
      ]
     },
     "metadata": {},
     "output_type": "display_data"
    },
    {
     "data": {
      "text/html": [
       "<svg id='Residual CNN' xmlns='http://www.w3.org/2000/svg' viewBox=\"0 0 550 300\" max-width=\"100%\" height=\"780px\" image-rendering=\"pixelated\">\n",
       "    <defs>\n",
       "        <marker id=\"arrow\" markerWidth=\"10\" markerHeight=\"10\" refX=\"9\" refY=\"3\" orient=\"auto\" markerUnits=\"strokeWidth\">\n",
       "          <path d=\"M0,0 L0,6 L9,3 z\" fill=\"black\" />\n",
       "        </marker>\n",
       "    </defs><text x=\"275.0\" y=\"12.5\" font-family=\"monospace\" font-size=\"15\" text-anchor=\"middle\" alignment-baseline=\"central\">Residual CNN</text><rect x=\"82.33333333333334\" y=\"24\" width=\"202\" height=\"52\" style=\"fill:none;stroke:black;stroke-width:2\"/><image id=\"Residual CNN_policy_head_1\" class=\"Residual CNN_policy_head\" x=\"83.33333333333334\" y=\"25\" height=\"50\" width=\"200\" preserveAspectRatio=\"none\" href=\"data:image/gif;base64,R0lGODdhKgABAIcAAP/9/QAAAAAAAAAAAAAAAAAAAAAAAAAAAAAAAAAAAAAAAAAAAAAAAAAAAAAAAAAAAAAAAAAAAAAAAAAAAAAAAAAAAAAAAAAAAAAAAAAAAAAAAAAAAAAAAAAAAAAAAAAAAAAAAAAAAAAAAAAAAAAAAAAAAAAAAAAAAAAAAAAAAAAAAAAAAAAAAAAAAAAAAAAAAAAAAAAAAAAAAAAAAAAAAAAAAAAAAAAAAAAAAAAAAAAAAAAAAAAAAAAAAAAAAAAAAAAAAAAAAAAAAAAAAAAAAAAAAAAAAAAAAAAAAAAAAAAAAAAAAAAAAAAAAAAAAAAAAAAAAAAAAAAAAAAAAAAAAAAAAAAAAAAAAAAAAAAAAAAAAAAAAAAAAAAAAAAAAAAAAAAAAAAAAAAAAAAAAAAAAAAAAAAAAAAAAAAAAAAAAAAAAAAAAAAAAAAAAAAAAAAAAAAAAAAAAAAAAAAAAAAAAAAAAAAAAAAAAAAAAAAAAAAAAAAAAAAAAAAAAAAAAAAAAAAAAAAAAAAAAAAAAAAAAAAAAAAAAAAAAAAAAAAAAAAAAAAAAAAAAAAAAAAAAAAAAAAAAAAAAAAAAAAAAAAAAAAAAAAAAAAAAAAAAAAAAAAAAAAAAAAAAAAAAAAAAAAAAAAAAAAAAAAAAAAAAAAAAAAAAAAAAAAAAAAAAAAAAAAAAAAAAAAAAAAAAAAAAAAAAAAAAAAAAAAAAAAAAAAAAAAAAAAAAAAAAAAAAAAAAAAAAAAAAAAAAAAAAAAAAAAAAAAAAAAAAAAAAAAAAAAAAAAAAAAAAAAAAAAAAAAAAAAAAAAAAAAAAAAAAAAAAAAAAAAAAAAAAAAAAAAAAAAAAAAAAAAAAAAAAAAAAAAAAAAAAAAAAAAAAAAAAAAAAAAAAAAAAAAAAAAAAAAAAAAAAAAAAAAAAAAAAAAAAAAAAAAAAAAAAAAAAAAAAAAAAAAAAAAAAAAAAAAAAAAAAAAAAAAAAAAAAAAAAAAAAAAAAAAAAAAAAAAAAAAAAAAAAAAAACwAAAAAKgABAAAIDQABCBxIsKDBgwgNBgQAOw==\"><title>Layer: policy_head (output)\n",
       " shape = (42,)\n",
       " Keras class = Dense\n",
       " use_bias = False\n",
       " activation = linear\n",
       " kernel_regularizer = &lt;keras.regularizers.L1L2 object at 0x7f7981514630&gt;</title></image><text x=\"288.33333333333337\" y=\"52.0\" font-family=\"monospace\" font-size=\"12\" text-anchor=\"start\" alignment-baseline=\"central\">policy_head</text><rect x=\"340.6666666666667\" y=\"24\" width=\"52\" height=\"52\" style=\"fill:none;stroke:black;stroke-width:2\"/><image id=\"Residual CNN_value_head_2\" class=\"Residual CNN_value_head\" x=\"341.6666666666667\" y=\"25\" height=\"50\" width=\"50\" preserveAspectRatio=\"none\" href=\"data:image/gif;base64,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\"><title>Layer: value_head (output)\n",
       " shape = (1,)\n",
       " Keras class = Dense\n",
       " use_bias = False\n",
       " activation = tanh\n",
       " kernel_regularizer = &lt;keras.regularizers.L1L2 object at 0x7f7981514160&gt;</title></image><text x=\"396.6666666666667\" y=\"52.0\" font-family=\"monospace\" font-size=\"12\" text-anchor=\"start\" alignment-baseline=\"central\">value_head</text><line x1=\"183.33333333333334\" y1=\"75\" x2=\"183.33333333333334\" y2=\"75\" stroke=\"black\" stroke-width=\"2\" marker-end=\"url(#arrow)\"><title>Weights from flatten-1 to policy_head\n",
       " policy_head/kernel:0 has shape (84, 42)</title></line><line x1=\"183.33333333333334\" y1=\"75\" x2=\"183.33333333333334\" y2=\"75\" stroke=\"black\" stroke-width=\"2\"><title>Weights from flatten-1 to policy_head\n",
       " policy_head/kernel:0 has shape (84, 42)</title></line><rect x=\"174.0\" y=\"74\" width=\"202\" height=\"202\" style=\"fill:none;stroke:black;stroke-width:2\"/><image id=\"Residual CNN_main_input_3\" class=\"Residual CNN_main_input\" x=\"175.0\" y=\"75\" height=\"200\" width=\"200\" preserveAspectRatio=\"none\" href=\"data:image/gif;base64,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\"><title>Layer: main_input (input)\n",
       " shape = (6, 7, 2)\n",
       " Keras class = Input</title></image><text x=\"380.0\" y=\"177.0\" font-family=\"monospace\" font-size=\"12\" text-anchor=\"start\" alignment-baseline=\"central\">main_input</text><text x=\"380.0\" y=\"80\" font-family=\"monospace\" font-size=\"12\" text-anchor=\"start\" alignment-baseline=\"central\">2</text><text x=\"163.0\" y=\"270\" font-family=\"monospace\" font-size=\"12\" text-anchor=\"start\" alignment-baseline=\"central\">0</text></svg>"
      ],
      "text/plain": [
       "<IPython.core.display.HTML object>"
      ]
     },
     "execution_count": 12,
     "metadata": {},
     "output_type": "execute_result"
    }
   ],
   "source": [
    "net.render()"
   ]
  },
  {
   "cell_type": "markdown",
   "metadata": {},
   "source": [
    "## Connecting the Network to the Game"
   ]
  },
  {
   "cell_type": "markdown",
   "metadata": {},
   "source": [
    "First, we need a mapping from game (x,y) moves to a position in a list of actions and probabilities."
   ]
  },
  {
   "cell_type": "code",
   "execution_count": 13,
   "metadata": {},
   "outputs": [],
   "source": [
    "def make_mappings(game):\n",
    "    \"\"\"\n",
    "    Get a mapping from game's (x,y) to array position.\n",
    "    \"\"\"\n",
    "    move2pos = {}\n",
    "    pos2move = []\n",
    "    position = 0\n",
    "    for y in range(game.v, 0, -1):\n",
    "        for x in range(1, game.h + 1):\n",
    "            move2pos[(x,y)] = position\n",
    "            pos2move.append((x,y))\n",
    "            position += 1\n",
    "    return move2pos, pos2move"
   ]
  },
  {
   "cell_type": "markdown",
   "metadata": {},
   "source": [
    "We use the connectFour game, defined above:"
   ]
  },
  {
   "cell_type": "code",
   "execution_count": 14,
   "metadata": {},
   "outputs": [],
   "source": [
    "move2pos, pos2move = make_mappings(game)"
   ]
  },
  {
   "cell_type": "code",
   "execution_count": 15,
   "metadata": {},
   "outputs": [
    {
     "data": {
      "text/plain": [
       "36"
      ]
     },
     "execution_count": 15,
     "metadata": {},
     "output_type": "execute_result"
    }
   ],
   "source": [
    "move2pos[(2,1)]"
   ]
  },
  {
   "cell_type": "code",
   "execution_count": 16,
   "metadata": {},
   "outputs": [
    {
     "data": {
      "text/plain": [
       "(1, 1)"
      ]
     },
     "execution_count": 16,
     "metadata": {},
     "output_type": "execute_result"
    }
   ],
   "source": [
    "pos2move[35]"
   ]
  },
  {
   "cell_type": "markdown",
   "metadata": {},
   "source": [
    "Need a method of converting a list of state moves into an array:"
   ]
  },
  {
   "cell_type": "code",
   "execution_count": 17,
   "metadata": {},
   "outputs": [],
   "source": [
    "def state2array(game, state):\n",
    "    array = []\n",
    "    to_move = game.to_move(state)\n",
    "    for y in range(game.v, 0, -1):\n",
    "        for x in range(1, game.h + 1):\n",
    "            item = state.board.get((x, y), 0)\n",
    "            if item != 0:\n",
    "                item = 1 if item == to_move else -1\n",
    "            array.append(item)\n",
    "    return array"
   ]
  },
  {
   "cell_type": "code",
   "execution_count": 18,
   "metadata": {},
   "outputs": [
    {
     "data": {
      "text/plain": [
       "(42,)"
      ]
     },
     "execution_count": 18,
     "metadata": {},
     "output_type": "execute_result"
    }
   ],
   "source": [
    "cx.shape(state2array(game, game.initial))"
   ]
  },
  {
   "cell_type": "markdown",
   "metadata": {},
   "source": [
    "So, state2array returns a list of 42 numbers, where:\n",
    "\n",
    "* 0 represents an empty place\n",
    "* 1 represents one of my pieces\n",
    "* -1 represents one of my opponent's pieces\n",
    "\n",
    "Note that \"my\" and \"my opponent\" may swap back and forth depending on perspective (ie, whose turn it is, as determined by game.to_move(state))."
   ]
  },
  {
   "cell_type": "code",
   "execution_count": 19,
   "metadata": {},
   "outputs": [],
   "source": [
    "def state2inputs(game, state):\n",
    "    board = np.array(state2array(game, state)) # 1 is my pieces, -1 other\n",
    "    currentplayer_position = np.zeros(len(board), dtype=np.int)\n",
    "    currentplayer_position[board==1] = 1\n",
    "    other_position = np.zeros(len(board), dtype=np.int)\n",
    "    other_position[board==-1] = 1\n",
    "    position = np.array(list(zip(currentplayer_position,other_position)))\n",
    "    inputs = position.reshape((game.v, game.h, 2))\n",
    "    return inputs.tolist()"
   ]
  },
  {
   "cell_type": "markdown",
   "metadata": {},
   "source": [
    "We need to convert the state's board into a form for the neural network:"
   ]
  },
  {
   "cell_type": "code",
   "execution_count": 20,
   "metadata": {},
   "outputs": [
    {
     "data": {
      "text/plain": [
       "[[[0, 0], [0, 0], [0, 0], [0, 0], [0, 0], [0, 0], [0, 0]],\n",
       " [[0, 0], [0, 0], [0, 0], [0, 0], [0, 0], [0, 0], [0, 0]],\n",
       " [[0, 0], [0, 0], [0, 0], [0, 0], [0, 0], [0, 0], [0, 0]],\n",
       " [[0, 0], [0, 0], [0, 0], [0, 0], [0, 0], [0, 0], [0, 0]],\n",
       " [[0, 0], [0, 0], [0, 0], [0, 0], [0, 0], [0, 0], [0, 0]],\n",
       " [[0, 0], [0, 0], [0, 0], [0, 0], [0, 0], [0, 0], [0, 0]]]"
      ]
     },
     "execution_count": 20,
     "metadata": {},
     "output_type": "execute_result"
    }
   ],
   "source": [
    "state2inputs(game, game.initial)"
   ]
  },
  {
   "cell_type": "markdown",
   "metadata": {},
   "source": [
    "We can check to see if this is correct by propagating the activations to the first layer."
   ]
  },
  {
   "cell_type": "markdown",
   "metadata": {},
   "source": [
    "Initial board state has no pieces on the board:"
   ]
  },
  {
   "cell_type": "code",
   "execution_count": 21,
   "metadata": {},
   "outputs": [
    {
     "data": {
      "text/html": [
       "<table><tr><td style=\"border: 1px solid black;\"><img style=\"image-rendering: pixelated;\" class=\"Residual CNN_main_input_feature0\" src=\"data:image/gif;base64,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\"/><br/><center>Feature 0</center></td><td style=\"border: 1px solid black;\"><img style=\"image-rendering: pixelated;\" class=\"Residual CNN_main_input_feature1\" src=\"data:image/gif;base64,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\"/><br/><center>Feature 1</center></td></tr></table>"
      ],
      "text/plain": [
       "<IPython.core.display.HTML object>"
      ]
     },
     "execution_count": 21,
     "metadata": {},
     "output_type": "execute_result"
    }
   ],
   "source": [
    "state = game.initial\n",
    "net.propagate_to_features(\"main_input\", state2inputs(game, state))"
   ]
  },
  {
   "cell_type": "markdown",
   "metadata": {},
   "source": [
    "Now we make a move to (1,1). But note that after the move, it is now the other player's move. So the first move is seen on the opponent's board (the right side, feature #1):"
   ]
  },
  {
   "cell_type": "code",
   "execution_count": 22,
   "metadata": {},
   "outputs": [
    {
     "data": {
      "text/html": [
       "<table><tr><td style=\"border: 1px solid black;\"><img style=\"image-rendering: pixelated;\" class=\"Residual CNN_main_input_feature0\" src=\"data:image/gif;base64,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\"/><br/><center>Feature 0</center></td><td style=\"border: 1px solid black;\"><img style=\"image-rendering: pixelated;\" class=\"Residual CNN_main_input_feature1\" src=\"data:image/gif;base64,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\"/><br/><center>Feature 1</center></td></tr></table>"
      ],
      "text/plain": [
       "<IPython.core.display.HTML object>"
      ]
     },
     "execution_count": 22,
     "metadata": {},
     "output_type": "execute_result"
    }
   ],
   "source": [
    "state = game.result(game.initial, (1,1))\n",
    "net.propagate_to_features(\"main_input\", state2inputs(game, state))"
   ]
  },
  {
   "cell_type": "markdown",
   "metadata": {},
   "source": [
    "Now, the second player moves to (2,1). Now we are back to the original perspective, and so the right-hand board is on the left, because that is now the current player's perspective."
   ]
  },
  {
   "cell_type": "code",
   "execution_count": 23,
   "metadata": {},
   "outputs": [
    {
     "data": {
      "text/html": [
       "<table><tr><td style=\"border: 1px solid black;\"><img style=\"image-rendering: pixelated;\" class=\"Residual CNN_main_input_feature0\" src=\"data:image/gif;base64,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\"/><br/><center>Feature 0</center></td><td style=\"border: 1px solid black;\"><img style=\"image-rendering: pixelated;\" class=\"Residual CNN_main_input_feature1\" src=\"data:image/gif;base64,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\"/><br/><center>Feature 1</center></td></tr></table>"
      ],
      "text/plain": [
       "<IPython.core.display.HTML object>"
      ]
     },
     "execution_count": 23,
     "metadata": {},
     "output_type": "execute_result"
    }
   ],
   "source": [
    "state = game.result(state, (3,1))\n",
    "net.propagate_to_features(\"main_input\", state2inputs(game, state))"
   ]
  },
  {
   "cell_type": "markdown",
   "metadata": {},
   "source": [
    "Finally, we are ready to connect the game to the network. We define a function `get_predictions` that takes a game and state, and propagates it through the network returning a (value, probabilities, allowedActions). The probabilities are the pi list from the AlphaZero paper."
   ]
  },
  {
   "cell_type": "code",
   "execution_count": 24,
   "metadata": {},
   "outputs": [],
   "source": [
    "def get_predictions(net, game, state):\n",
    "    \"\"\"\n",
    "    Given a state, give output of network on preferred\n",
    "    actions. state.allowedActions removes impossible\n",
    "    actions.\n",
    "\n",
    "    Returns (value, probabilties, allowedActions)\n",
    "    \"\"\"\n",
    "    board = np.array(state2array(game, state)) # 1 is my pieces, -1 other\n",
    "    inputs = state2inputs(game, state)\n",
    "    preds = net.propagate(inputs, visualize=True)\n",
    "    value = preds[1][0]\n",
    "    logits = np.array(preds[0])\n",
    "    allowedActions = np.array([move2pos[act] for act in game.actions(state)])\n",
    "    mask = np.ones(len(board), dtype=bool)\n",
    "    mask[allowedActions] = False\n",
    "    logits[mask] = -100\n",
    "    #SOFTMAX\n",
    "    odds = np.exp(logits)\n",
    "    probs = odds / np.sum(odds) ###put this just before the for?\n",
    "    return (value, probs.tolist(), allowedActions.tolist())"
   ]
  },
  {
   "cell_type": "code",
   "execution_count": 25,
   "metadata": {},
   "outputs": [],
   "source": [
    "value, probs, acts = get_predictions(net, game, state)"
   ]
  },
  {
   "cell_type": "code",
   "execution_count": 26,
   "metadata": {},
   "outputs": [
    {
     "data": {
      "application/javascript": [
       "\n",
       "require(['base/js/namespace'], function(Jupyter) {\n",
       "    Jupyter.notebook.kernel.comm_manager.register_target('conx_svg_control', function(comm, msg) {\n",
       "        comm.on_msg(function(msg) {\n",
       "            var data = msg[\"content\"][\"data\"];\n",
       "            var images = document.getElementsByClassName(data[\"class\"]);\n",
       "            for (var i = 0; i < images.length; i++) {\n",
       "                if (data[\"href\"]) {\n",
       "                    images[i].setAttributeNS(null, \"href\", data[\"href\"]);\n",
       "                }\n",
       "                if (data[\"src\"]) {\n",
       "                    images[i].setAttributeNS(null, \"src\", data[\"src\"]);\n",
       "                }\n",
       "            }\n",
       "        });\n",
       "    });\n",
       "});\n"
      ],
      "text/plain": [
       "<IPython.core.display.Javascript object>"
      ]
     },
     "metadata": {},
     "output_type": "display_data"
    },
    {
     "data": {
      "text/html": [
       "<svg id='Residual CNN' xmlns='http://www.w3.org/2000/svg' viewBox=\"0 0 550 300\" max-width=\"100%\" height=\"780px\" image-rendering=\"pixelated\">\n",
       "    <defs>\n",
       "        <marker id=\"arrow\" markerWidth=\"10\" markerHeight=\"10\" refX=\"9\" refY=\"3\" orient=\"auto\" markerUnits=\"strokeWidth\">\n",
       "          <path d=\"M0,0 L0,6 L9,3 z\" fill=\"black\" />\n",
       "        </marker>\n",
       "    </defs><text x=\"275.0\" y=\"12.5\" font-family=\"monospace\" font-size=\"15\" text-anchor=\"middle\" alignment-baseline=\"central\">Residual CNN</text><rect x=\"82.33333333333334\" y=\"24\" width=\"202\" height=\"52\" style=\"fill:none;stroke:black;stroke-width:2\"/><image id=\"snapshot-Residual CNN-440263_policy_head_4\" class=\"snapshot-Residual CNN-440263_policy_head\" x=\"83.33333333333334\" y=\"25\" height=\"50\" width=\"200\" preserveAspectRatio=\"none\" href=\"data:image/gif;base64,R0lGODdhKgABAIcAAPz5+/Xr9AAAAAAAAAAAAAAAAAAAAAAAAAAAAAAAAAAAAAAAAAAAAAAAAAAAAAAAAAAAAAAAAAAAAAAAAAAAAAAAAAAAAAAAAAAAAAAAAAAAAAAAAAAAAAAAAAAAAAAAAAAAAAAAAAAAAAAAAAAAAAAAAAAAAAAAAAAAAAAAAAAAAAAAAAAAAAAAAAAAAAAAAAAAAAAAAAAAAAAAAAAAAAAAAAAAAAAAAAAAAAAAAAAAAAAAAAAAAAAAAAAAAAAAAAAAAAAAAAAAAAAAAAAAAAAAAAAAAAAAAAAAAAAAAAAAAAAAAAAAAAAAAAAAAAAAAAAAAAAAAAAAAAAAAAAAAAAAAAAAAAAAAAAAAAAAAAAAAAAAAAAAAAAAAAAAAAAAAAAAAAAAAAAAAAAAAAAAAAAAAAAAAAAAAAAAAAAAAAAAAAAAAAAAAAAAAAAAAAAAAAAAAAAAAAAAAAAAAAAAAAAAAAAAAAAAAAAAAAAAAAAAAAAAAAAAAAAAAAAAAAAAAAAAAAAAAAAAAAAAAAAAAAAAAAAAAAAAAAAAAAAAAAAAAAAAAAAAAAAAAAAAAAAAAAAAAAAAAAAAAAAAAAAAAAAAAAAAAAAAAAAAAAAAAAAAAAAAAAAAAAAAAAAAAAAAAAAAAAAAAAAAAAAAAAAAAAAAAAAAAAAAAAAAAAAAAAAAAAAAAAAAAAAAAAAAAAAAAAAAAAAAAAAAAAAAAAAAAAAAAAAAAAAAAAAAAAAAAAAAAAAAAAAAAAAAAAAAAAAAAAAAAAAAAAAAAAAAAAAAAAAAAAAAAAAAAAAAAAAAAAAAAAAAAAAAAAAAAAAAAAAAAAAAAAAAAAAAAAAAAAAAAAAAAAAAAAAAAAAAAAAAAAAAAAAAAAAAAAAAAAAAAAAAAAAAAAAAAAAAAAAAAAAAAAAAAAAAAAAAAAAAAAAAAAAAAAAAAAAAAAAAAAAAAAAAAAAAAAAAAAAAAAAAAAAAAAAAAAAAAAAAAAAAAAAAAAAAAAAAAAAAAAAAAAAAAAAAACwAAAAAKgABAAAIIgABCAQQAACAAAASBgDAsGGAAAAiAggAoKLFAAAyatQYICAAOw==\"><title>Layer: policy_head (output)\n",
       " shape = (42,)\n",
       " Keras class = Dense\n",
       " use_bias = False\n",
       " activation = linear\n",
       " kernel_regularizer = &lt;keras.regularizers.L1L2 object at 0x7f7981514630&gt;</title></image><text x=\"288.33333333333337\" y=\"52.0\" font-family=\"monospace\" font-size=\"12\" text-anchor=\"start\" alignment-baseline=\"central\">policy_head</text><rect x=\"340.6666666666667\" y=\"24\" width=\"52\" height=\"52\" style=\"fill:none;stroke:black;stroke-width:2\"/><image id=\"snapshot-Residual CNN-440263_value_head_5\" class=\"snapshot-Residual CNN-440263_value_head\" x=\"341.6666666666667\" y=\"25\" height=\"50\" width=\"50\" preserveAspectRatio=\"none\" href=\"data:image/gif;base64,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\"><title>Layer: value_head (output)\n",
       " shape = (1,)\n",
       " Keras class = Dense\n",
       " use_bias = False\n",
       " activation = tanh\n",
       " kernel_regularizer = &lt;keras.regularizers.L1L2 object at 0x7f7981514160&gt;</title></image><text x=\"396.6666666666667\" y=\"52.0\" font-family=\"monospace\" font-size=\"12\" text-anchor=\"start\" alignment-baseline=\"central\">value_head</text><line x1=\"183.33333333333334\" y1=\"75\" x2=\"183.33333333333334\" y2=\"75\" stroke=\"black\" stroke-width=\"2\" marker-end=\"url(#arrow)\"><title>Weights from flatten-1 to policy_head\n",
       " policy_head/kernel:0 has shape (84, 42)</title></line><line x1=\"183.33333333333334\" y1=\"75\" x2=\"183.33333333333334\" y2=\"75\" stroke=\"black\" stroke-width=\"2\"><title>Weights from flatten-1 to policy_head\n",
       " policy_head/kernel:0 has shape (84, 42)</title></line><rect x=\"174.0\" y=\"74\" width=\"202\" height=\"202\" style=\"fill:none;stroke:black;stroke-width:2\"/><image id=\"snapshot-Residual CNN-440263_main_input_6\" class=\"snapshot-Residual CNN-440263_main_input\" x=\"175.0\" y=\"75\" height=\"200\" width=\"200\" preserveAspectRatio=\"none\" href=\"data:image/gif;base64,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\"><title>Layer: main_input (input)\n",
       " shape = (6, 7, 2)\n",
       " Keras class = Input</title></image><text x=\"380.0\" y=\"177.0\" font-family=\"monospace\" font-size=\"12\" text-anchor=\"start\" alignment-baseline=\"central\">main_input</text><text x=\"380.0\" y=\"80\" font-family=\"monospace\" font-size=\"12\" text-anchor=\"start\" alignment-baseline=\"central\">2</text><text x=\"163.0\" y=\"270\" font-family=\"monospace\" font-size=\"12\" text-anchor=\"start\" alignment-baseline=\"central\">0</text></svg>"
      ],
      "text/plain": [
       "<IPython.core.display.HTML object>"
      ]
     },
     "execution_count": 26,
     "metadata": {},
     "output_type": "execute_result"
    }
   ],
   "source": [
    "net.snapshot(state2inputs(game, state))"
   ]
  },
  {
   "cell_type": "markdown",
   "metadata": {},
   "source": [
    "## Testing Game and Network Integration"
   ]
  },
  {
   "cell_type": "markdown",
   "metadata": {},
   "source": [
    "Finally, we turn the predictions into a move, and we can play a game with the network."
   ]
  },
  {
   "cell_type": "code",
   "execution_count": 27,
   "metadata": {},
   "outputs": [],
   "source": [
    "class NNPlayer(Player):\n",
    "\n",
    "    def set_game(self, game):\n",
    "        \"\"\"\n",
    "        Get a mapping from game's (x,y) to array position.\n",
    "        \"\"\"\n",
    "        self.net = make_network(game)\n",
    "        self.game = game\n",
    "        self.move2pos = {}\n",
    "        self.pos2move = []\n",
    "        position = 0\n",
    "        for y in range(self.game.v, 0, -1):\n",
    "            for x in range(1, self.game.h + 1):\n",
    "                self.move2pos[(x,y)] = position\n",
    "                self.pos2move.append((x,y))\n",
    "                position += 1\n",
    "\n",
    "    def get_predictions(self, state):\n",
    "        \"\"\"\n",
    "        Given a state, give output of network on preferred\n",
    "        actions. state.allowedActions removes impossible\n",
    "        actions.\n",
    "\n",
    "        Returns (value, probabilties, allowedActions)\n",
    "        \"\"\"\n",
    "        board = np.array(self.state2array(state)) # 1 is my pieces, -1 other\n",
    "        inputs = self.state2inputs(state)\n",
    "        preds = self.net.propagate(inputs)\n",
    "        value = preds[1][0]\n",
    "        logits = np.array(preds[0])\n",
    "        allowedActions = np.array([self.move2pos[act] for act in self.game.actions(state)])\n",
    "        mask = np.ones(len(board), dtype=bool)\n",
    "        mask[allowedActions] = False\n",
    "        logits[mask] = -100\n",
    "        #SOFTMAX\n",
    "        odds = np.exp(logits)\n",
    "        probs = odds / np.sum(odds) \n",
    "        return (value, probs.tolist(), allowedActions.tolist())\n",
    "    \n",
    "    def get_action(self, state, turn):\n",
    "        value, probabilities, moves = self.get_predictions(state)\n",
    "        probs = np.array(probabilities)[moves]\n",
    "        pos = cx.choice(moves, probs)\n",
    "        return self.pos2move[pos]\n",
    "\n",
    "    def state2inputs(self, state):\n",
    "        board = np.array(self.state2array(state)) # 1 is my pieces, -1 other\n",
    "        currentplayer_position = np.zeros(len(board), dtype=np.int)\n",
    "        currentplayer_position[board==1] = 1\n",
    "        other_position = np.zeros(len(board), dtype=np.int)\n",
    "        other_position[board==-1] = 1\n",
    "        position = np.array(list(zip(currentplayer_position,other_position)))\n",
    "        inputs = position.reshape((self.game.v, self.game.h, 2))\n",
    "        return inputs\n",
    "\n",
    "    def state2array(self, state):\n",
    "        array = []\n",
    "        to_move = self.game.to_move(state)\n",
    "        for y in range(self.game.v, 0, -1):\n",
    "            for x in range(1, self.game.h + 1):\n",
    "                item = state.board.get((x, y), 0)\n",
    "                if item != 0:\n",
    "                    item = 1 if item == to_move else -1\n",
    "                array.append(item)\n",
    "        return array"
   ]
  },
  {
   "cell_type": "code",
   "execution_count": 28,
   "metadata": {},
   "outputs": [],
   "source": [
    "p1 = RandomPlayer(\"Random\")\n",
    "p2 = NNPlayer(\"NNPlayer\")"
   ]
  },
  {
   "cell_type": "code",
   "execution_count": 29,
   "metadata": {},
   "outputs": [],
   "source": [
    "p2.set_game(game)"
   ]
  },
  {
   "cell_type": "code",
   "execution_count": 30,
   "metadata": {},
   "outputs": [
    {
     "data": {
      "text/plain": [
       "(7, 1)"
      ]
     },
     "execution_count": 30,
     "metadata": {},
     "output_type": "execute_result"
    }
   ],
   "source": [
    "p2.get_action(state, 2)"
   ]
  },
  {
   "cell_type": "code",
   "execution_count": 31,
   "metadata": {},
   "outputs": [
    {
     "name": "stdout",
     "output_type": "stream",
     "text": [
      "Random is thinking...\n",
      "Random makes action (6, 1):\n",
      ". . . . . . . \n",
      ". . . . . . . \n",
      ". . . . . . . \n",
      ". . . . . . . \n",
      ". . . . . . . \n",
      ". . . . . . . \n",
      ". . . . . X . \n",
      "NNPlayer is thinking...\n",
      "NNPlayer makes action (5, 1):\n",
      ". . . . . . . \n",
      ". . . . . . . \n",
      ". . . . . . . \n",
      ". . . . . . . \n",
      ". . . . . . . \n",
      ". . . . . . . \n",
      ". . . . O X . \n",
      "Random is thinking...\n",
      "Random makes action (5, 2):\n",
      ". . . . . . . \n",
      ". . . . . . . \n",
      ". . . . . . . \n",
      ". . . . . . . \n",
      ". . . . . . . \n",
      ". . . . X . . \n",
      ". . . . O X . \n",
      "NNPlayer is thinking...\n",
      "NNPlayer makes action (1, 1):\n",
      ". . . . . . . \n",
      ". . . . . . . \n",
      ". . . . . . . \n",
      ". . . . . . . \n",
      ". . . . . . . \n",
      ". . . . X . . \n",
      "O . . . O X . \n",
      "Random is thinking...\n",
      "Random makes action (6, 2):\n",
      ". . . . . . . \n",
      ". . . . . . . \n",
      ". . . . . . . \n",
      ". . . . . . . \n",
      ". . . . . . . \n",
      ". . . . X X . \n",
      "O . . . O X . \n",
      "NNPlayer is thinking...\n",
      "NNPlayer makes action (3, 1):\n",
      ". . . . . . . \n",
      ". . . . . . . \n",
      ". . . . . . . \n",
      ". . . . . . . \n",
      ". . . . . . . \n",
      ". . . . X X . \n",
      "O . O . O X . \n",
      "Random is thinking...\n",
      "Random makes action (5, 3):\n",
      ". . . . . . . \n",
      ". . . . . . . \n",
      ". . . . . . . \n",
      ". . . . . . . \n",
      ". . . . X . . \n",
      ". . . . X X . \n",
      "O . O . O X . \n",
      "NNPlayer is thinking...\n",
      "NNPlayer makes action (7, 1):\n",
      ". . . . . . . \n",
      ". . . . . . . \n",
      ". . . . . . . \n",
      ". . . . . . . \n",
      ". . . . X . . \n",
      ". . . . X X . \n",
      "O . O . O X O \n",
      "Random is thinking...\n",
      "Random makes action (2, 1):\n",
      ". . . . . . . \n",
      ". . . . . . . \n",
      ". . . . . . . \n",
      ". . . . . . . \n",
      ". . . . X . . \n",
      ". . . . X X . \n",
      "O X O . O X O \n",
      "NNPlayer is thinking...\n",
      "NNPlayer makes action (1, 2):\n",
      ". . . . . . . \n",
      ". . . . . . . \n",
      ". . . . . . . \n",
      ". . . . . . . \n",
      ". . . . X . . \n",
      "O . . . X X . \n",
      "O X O . O X O \n",
      "Random is thinking...\n",
      "Random makes action (2, 2):\n",
      ". . . . . . . \n",
      ". . . . . . . \n",
      ". . . . . . . \n",
      ". . . . . . . \n",
      ". . . . X . . \n",
      "O X . . X X . \n",
      "O X O . O X O \n",
      "NNPlayer is thinking...\n",
      "NNPlayer makes action (1, 3):\n",
      ". . . . . . . \n",
      ". . . . . . . \n",
      ". . . . . . . \n",
      ". . . . . . . \n",
      "O . . . X . . \n",
      "O X . . X X . \n",
      "O X O . O X O \n",
      "Random is thinking...\n",
      "Random makes action (1, 4):\n",
      ". . . . . . . \n",
      ". . . . . . . \n",
      ". . . . . . . \n",
      "X . . . . . . \n",
      "O . . . X . . \n",
      "O X . . X X . \n",
      "O X O . O X O \n",
      "NNPlayer is thinking...\n",
      "NNPlayer makes action (1, 5):\n",
      ". . . . . . . \n",
      ". . . . . . . \n",
      "O . . . . . . \n",
      "X . . . . . . \n",
      "O . . . X . . \n",
      "O X . . X X . \n",
      "O X O . O X O \n",
      "Random is thinking...\n",
      "Random makes action (1, 6):\n",
      ". . . . . . . \n",
      "X . . . . . . \n",
      "O . . . . . . \n",
      "X . . . . . . \n",
      "O . . . X . . \n",
      "O X . . X X . \n",
      "O X O . O X O \n",
      "NNPlayer is thinking...\n",
      "NNPlayer makes action (3, 2):\n",
      ". . . . . . . \n",
      "X . . . . . . \n",
      "O . . . . . . \n",
      "X . . . . . . \n",
      "O . . . X . . \n",
      "O X O . X X . \n",
      "O X O . O X O \n",
      "Random is thinking...\n",
      "Random makes action (3, 3):\n",
      ". . . . . . . \n",
      "X . . . . . . \n",
      "O . . . . . . \n",
      "X . . . . . . \n",
      "O . X . X . . \n",
      "O X O . X X . \n",
      "O X O . O X O \n",
      "NNPlayer is thinking...\n",
      "NNPlayer makes action (3, 4):\n",
      ". . . . . . . \n",
      "X . . . . . . \n",
      "O . . . . . . \n",
      "X . O . . . . \n",
      "O . X . X . . \n",
      "O X O . X X . \n",
      "O X O . O X O \n",
      "Random is thinking...\n",
      "Random makes action (2, 3):\n",
      ". . . . . . . \n",
      "X . . . . . . \n",
      "O . . . . . . \n",
      "X . O . . . . \n",
      "O X X . X . . \n",
      "O X O . X X . \n",
      "O X O . O X O \n",
      "NNPlayer is thinking...\n",
      "NNPlayer makes action (3, 5):\n",
      ". . . . . . . \n",
      "X . . . . . . \n",
      "O . O . . . . \n",
      "X . O . . . . \n",
      "O X X . X . . \n",
      "O X O . X X . \n",
      "O X O . O X O \n",
      "Random is thinking...\n",
      "Random makes action (3, 6):\n",
      ". . . . . . . \n",
      "X . X . . . . \n",
      "O . O . . . . \n",
      "X . O . . . . \n",
      "O X X . X . . \n",
      "O X O . X X . \n",
      "O X O . O X O \n",
      "NNPlayer is thinking...\n",
      "NNPlayer makes action (2, 4):\n",
      ". . . . . . . \n",
      "X . X . . . . \n",
      "O . O . . . . \n",
      "X O O . . . . \n",
      "O X X . X . . \n",
      "O X O . X X . \n",
      "O X O . O X O \n",
      "Random is thinking...\n",
      "Random makes action (5, 4):\n",
      ". . . . . . . \n",
      "X . X . . . . \n",
      "O . O . . . . \n",
      "X O O . X . . \n",
      "O X X . X . . \n",
      "O X O . X X . \n",
      "O X O . O X O \n",
      "NNPlayer is thinking...\n",
      "NNPlayer makes action (7, 2):\n",
      ". . . . . . . \n",
      "X . X . . . . \n",
      "O . O . . . . \n",
      "X O O . X . . \n",
      "O X X . X . . \n",
      "O X O . X X O \n",
      "O X O . O X O \n",
      "Random is thinking...\n",
      "Random makes action (6, 3):\n",
      ". . . . . . . \n",
      "X . X . . . . \n",
      "O . O . . . . \n",
      "X O O . X . . \n",
      "O X X . X X . \n",
      "O X O . X X O \n",
      "O X O . O X O \n",
      "NNPlayer is thinking...\n",
      "NNPlayer makes action (4, 1):\n",
      ". . . . . . . \n",
      "X . X . . . . \n",
      "O . O . . . . \n",
      "X O O . X . . \n",
      "O X X . X X . \n",
      "O X O . X X O \n",
      "O X O O O X O \n",
      "Random is thinking...\n",
      "Random makes action (6, 4):\n",
      ". . . . . . . \n",
      "X . X . . . . \n",
      "O . O . . . . \n",
      "X O O . X X . \n",
      "O X X . X X . \n",
      "O X O . X X O \n",
      "O X O O O X O \n",
      "***** Random wins!\n"
     ]
    },
    {
     "data": {
      "text/plain": [
       "['Random']"
      ]
     },
     "execution_count": 31,
     "metadata": {},
     "output_type": "execute_result"
    }
   ],
   "source": [
    "game.play_game(p1, p2)"
   ]
  },
  {
   "cell_type": "markdown",
   "metadata": {},
   "source": [
    "## Training The Network\n",
    "\n",
    "Now we are ready to train the network. The training is a clever use of Monte Carlo Tree Search, combined with playing against itself.\n",
    "\n",
    "There is a [Monte Carlo Tree Search player](https://github.com/Calysto/aima3/blob/master/notebooks/monte_carlo_tree_search.ipynb) in aima3 that we will use. We set the policy to come from predictions from the neural network."
   ]
  },
  {
   "cell_type": "code",
   "execution_count": 32,
   "metadata": {},
   "outputs": [],
   "source": [
    "class AlphaZeroMCTSPlayer(MCTSPlayer):\n",
    "    \"\"\"\n",
    "    A Monte Carlo Tree Search with policy function from\n",
    "    neural network. Network will be set later to self.nnplayer.\n",
    "    \"\"\"\n",
    "    def policy(self, game, state):\n",
    "        # these moves are positions:\n",
    "        value, probs_all, moves = self.nnplayer.get_predictions(state)\n",
    "        if len(moves) == 0:\n",
    "            result = [], value\n",
    "        else:\n",
    "            probs = np.array(probs_all)[moves]\n",
    "            moves = [self.nnplayer.pos2move[pos] for pos in moves]\n",
    "            # we need to return probs and moves for game\n",
    "            result = [(act, prob) for (act, prob) in list(zip(moves, probs))], value\n",
    "        return result"
   ]
  },
  {
   "cell_type": "markdown",
   "metadata": {},
   "source": [
    "The main AlphaZeroPlayer needs to be able to play in one of two modes:\n",
    "\n",
    "* self_play: it plays against itself (using two different MCTS, as this version requires it). The network provides policy evaulation for each state is it looks ahead.\n",
    "* regular play: moves come directly from the network"
   ]
  },
  {
   "cell_type": "code",
   "execution_count": 33,
   "metadata": {},
   "outputs": [],
   "source": [
    "class AlphaZeroPlayer(NNPlayer):\n",
    "    ## Load weights if continuing\n",
    "    def __init__(self, name, n_playout=40, *args, **kwargs):\n",
    "        super().__init__(name, *args, **kwargs)\n",
    "        self.mcts_players = [AlphaZeroMCTSPlayer(\"MCTS-1\", n_playout=n_playout),\n",
    "                             AlphaZeroMCTSPlayer(\"MCTS-2\", n_playout=n_playout)]\n",
    "        \n",
    "    def set_game(self, game):\n",
    "        super().set_game(game)\n",
    "        self.mcts_players[0].set_game(game)\n",
    "        self.mcts_players[1].set_game(game)\n",
    "        self.mcts_players[0].nnplayer = self\n",
    "        self.mcts_players[1].nnplayer = self\n",
    "        self.data = [[], []]\n",
    "        self.cache = {}\n",
    "        \n",
    "    def get_action(self, state, turn, self_play):\n",
    "        if self_play:\n",
    "            ## Only way to determine which is which?\n",
    "            if turn in self.cache:\n",
    "                player_num = 1\n",
    "            else:\n",
    "                player_num = 0\n",
    "                self.cache[turn] = True\n",
    "            ## now use the policy to get some probs:\n",
    "            move, pi = self.mcts_players[player_num].get_action(state, round(turn), return_prob=True)\n",
    "            ## save the state and probs:\n",
    "            self.data[player_num].append((self.state2inputs(state), self.move_probs2all_probs(pi)))\n",
    "            return move\n",
    "        else:\n",
    "            # play the network, were're in the playoffs!\n",
    "            return super().get_action(state, round(turn))\n",
    "\n",
    "    def move_probs2all_probs(self, move_probs):\n",
    "        all_probs = np.zeros(len(self.state2array(game.initial)))\n",
    "        for move in move_probs:\n",
    "            all_probs[self.move2pos[move]] = move_probs[move]\n",
    "        return all_probs.tolist()"
   ]
  },
  {
   "cell_type": "markdown",
   "metadata": {},
   "source": [
    "We now set up the game to play in one of the two modes. \n",
    "\n",
    "One complication when playing itself: the system isn't sure which one it is, and we want to separate the two plays! To keep track, we cache the turn; if we see the same turn again, then we know it is the second."
   ]
  },
  {
   "cell_type": "code",
   "execution_count": 50,
   "metadata": {},
   "outputs": [],
   "source": [
    "class AlphaZeroGame(ConnectFour):\n",
    "    def __init__(self, *args, **kwargs):\n",
    "        super().__init__(*args, **kwargs)\n",
    "        self.memory = []\n",
    "        \n",
    "    def play_game(self, *players, flip_coin=False, verbose=1, **kwargs):\n",
    "        print(kwargs)\n",
    "        results = super().play_game(*players, flip_coin=flip_coin, verbose=verbose, **kwargs)\n",
    "        if \"self_play\" in kwargs and kwargs[\"self_play\"]:\n",
    "            ## Do not allow flipping coins when self play:\n",
    "            ## Assumes that player1 == player2 when self-playing\n",
    "            assert flip_coin is False, \"no coin_flip when self-playing\"\n",
    "            ## value is in terms of player 0\n",
    "            value = self.final_utility\n",
    "            for state, probs in players[0].data[0]:\n",
    "                self.memory.append([state, [probs, [value]]])\n",
    "            # also data from opponent, so flip value:\n",
    "            value = -value\n",
    "            for state, probs in players[1].data[1]:\n",
    "                self.memory.append([state, [probs, [value]]])\n",
    "        return results"
   ]
  },
  {
   "cell_type": "code",
   "execution_count": 51,
   "metadata": {},
   "outputs": [],
   "source": [
    "game = AlphaZeroGame()\n",
    "best_player = AlphaZeroPlayer(\"best_player\")\n",
    "current_player = AlphaZeroPlayer(\"current_player\")"
   ]
  },
  {
   "cell_type": "markdown",
   "metadata": {},
   "source": [
    "Some basic tests to make sure things are going in the right place:"
   ]
  },
  {
   "cell_type": "code",
   "execution_count": 52,
   "metadata": {},
   "outputs": [
    {
     "name": "stdout",
     "output_type": "stream",
     "text": [
      "(6, 1)\n",
      "(1, 1)\n",
      "(7, 1)\n"
     ]
    }
   ],
   "source": [
    "current_player.set_game(game)\n",
    "assert current_player.data == [[], []]\n",
    "print(current_player.get_action(game.initial, 1, self_play=False))\n",
    "assert current_player.data == [[], []]\n",
    "print(current_player.get_action(game.initial, 1, self_play=True))\n",
    "assert current_player.data[0] != []\n",
    "print(current_player.get_action(game.initial, 1, self_play=True))\n",
    "assert current_player.data[1] != []"
   ]
  },
  {
   "cell_type": "markdown",
   "metadata": {},
   "source": [
    "Sample just for testing:"
   ]
  },
  {
   "cell_type": "code",
   "execution_count": 53,
   "metadata": {
    "scrolled": true
   },
   "outputs": [
    {
     "name": "stdout",
     "output_type": "stream",
     "text": [
      "Tournament to begin with 2 matches...\n",
      "{'self_play': True}\n",
      "best_player is thinking...\n",
      "best_player makes action (5, 1):\n",
      ". . . . . . . \n",
      ". . . . . . . \n",
      ". . . . . . . \n",
      ". . . . . . . \n",
      ". . . . . . . \n",
      ". . . . . . . \n",
      ". . . . X . . \n",
      "best_player is thinking...\n",
      "best_player makes action (5, 2):\n",
      ". . . . . . . \n",
      ". . . . . . . \n",
      ". . . . . . . \n",
      ". . . . . . . \n",
      ". . . . . . . \n",
      ". . . . O . . \n",
      ". . . . X . . \n",
      "best_player is thinking...\n",
      "best_player makes action (6, 1):\n",
      ". . . . . . . \n",
      ". . . . . . . \n",
      ". . . . . . . \n",
      ". . . . . . . \n",
      ". . . . . . . \n",
      ". . . . O . . \n",
      ". . . . X X . \n",
      "best_player is thinking...\n",
      "best_player makes action (7, 1):\n",
      ". . . . . . . \n",
      ". . . . . . . \n",
      ". . . . . . . \n",
      ". . . . . . . \n",
      ". . . . . . . \n",
      ". . . . O . . \n",
      ". . . . X X O \n",
      "best_player is thinking...\n",
      "best_player makes action (3, 1):\n",
      ". . . . . . . \n",
      ". . . . . . . \n",
      ". . . . . . . \n",
      ". . . . . . . \n",
      ". . . . . . . \n",
      ". . . . O . . \n",
      ". . X . X X O \n",
      "best_player is thinking...\n",
      "best_player makes action (5, 3):\n",
      ". . . . . . . \n",
      ". . . . . . . \n",
      ". . . . . . . \n",
      ". . . . . . . \n",
      ". . . . O . . \n",
      ". . . . O . . \n",
      ". . X . X X O \n",
      "best_player is thinking...\n",
      "best_player makes action (4, 1):\n",
      ". . . . . . . \n",
      ". . . . . . . \n",
      ". . . . . . . \n",
      ". . . . . . . \n",
      ". . . . O . . \n",
      ". . . . O . . \n",
      ". . X X X X O \n",
      "***** best_player wins!\n",
      "{'self_play': True}\n",
      "best_player is thinking...\n",
      "best_player makes action (4, 1):\n",
      ". . . . . . . \n",
      ". . . . . . . \n",
      ". . . . . . . \n",
      ". . . . . . . \n",
      ". . . . . . . \n",
      ". . . . . . . \n",
      ". . . X . . . \n",
      "best_player is thinking...\n",
      "best_player makes action (7, 1):\n",
      ". . . . . . . \n",
      ". . . . . . . \n",
      ". . . . . . . \n",
      ". . . . . . . \n",
      ". . . . . . . \n",
      ". . . . . . . \n",
      ". . . X . . O \n",
      "best_player is thinking...\n",
      "best_player makes action (1, 1):\n",
      ". . . . . . . \n",
      ". . . . . . . \n",
      ". . . . . . . \n",
      ". . . . . . . \n",
      ". . . . . . . \n",
      ". . . . . . . \n",
      "X . . X . . O \n",
      "best_player is thinking...\n",
      "best_player makes action (4, 2):\n",
      ". . . . . . . \n",
      ". . . . . . . \n",
      ". . . . . . . \n",
      ". . . . . . . \n",
      ". . . . . . . \n",
      ". . . O . . . \n",
      "X . . X . . O \n",
      "best_player is thinking...\n",
      "best_player makes action (5, 1):\n",
      ". . . . . . . \n",
      ". . . . . . . \n",
      ". . . . . . . \n",
      ". . . . . . . \n",
      ". . . . . . . \n",
      ". . . O . . . \n",
      "X . . X X . O \n",
      "best_player is thinking...\n",
      "best_player makes action (4, 3):\n",
      ". . . . . . . \n",
      ". . . . . . . \n",
      ". . . . . . . \n",
      ". . . . . . . \n",
      ". . . O . . . \n",
      ". . . O . . . \n",
      "X . . X X . O \n",
      "best_player is thinking...\n",
      "best_player makes action (7, 2):\n",
      ". . . . . . . \n",
      ". . . . . . . \n",
      ". . . . . . . \n",
      ". . . . . . . \n",
      ". . . O . . . \n",
      ". . . O . . X \n",
      "X . . X X . O \n",
      "best_player is thinking...\n",
      "best_player makes action (1, 2):\n",
      ". . . . . . . \n",
      ". . . . . . . \n",
      ". . . . . . . \n",
      ". . . . . . . \n",
      ". . . O . . . \n",
      "O . . O . . X \n",
      "X . . X X . O \n",
      "best_player is thinking...\n",
      "best_player makes action (2, 1):\n",
      ". . . . . . . \n",
      ". . . . . . . \n",
      ". . . . . . . \n",
      ". . . . . . . \n",
      ". . . O . . . \n",
      "O . . O . . X \n",
      "X X . X X . O \n",
      "best_player is thinking...\n",
      "best_player makes action (6, 1):\n",
      ". . . . . . . \n",
      ". . . . . . . \n",
      ". . . . . . . \n",
      ". . . . . . . \n",
      ". . . O . . . \n",
      "O . . O . . X \n",
      "X X . X X O O \n",
      "best_player is thinking...\n",
      "best_player makes action (2, 2):\n",
      ". . . . . . . \n",
      ". . . . . . . \n",
      ". . . . . . . \n",
      ". . . . . . . \n",
      ". . . O . . . \n",
      "O X . O . . X \n",
      "X X . X X O O \n",
      "best_player is thinking...\n",
      "best_player makes action (3, 1):\n",
      ". . . . . . . \n",
      ". . . . . . . \n",
      ". . . . . . . \n",
      ". . . . . . . \n",
      ". . . O . . . \n",
      "O X . O . . X \n",
      "X X O X X O O \n",
      "best_player is thinking...\n",
      "best_player makes action (4, 4):\n",
      ". . . . . . . \n",
      ". . . . . . . \n",
      ". . . . . . . \n",
      ". . . X . . . \n",
      ". . . O . . . \n",
      "O X . O . . X \n",
      "X X O X X O O \n",
      "best_player is thinking...\n",
      "best_player makes action (3, 2):\n",
      ". . . . . . . \n",
      ". . . . . . . \n",
      ". . . . . . . \n",
      ". . . X . . . \n",
      ". . . O . . . \n",
      "O X O O . . X \n",
      "X X O X X O O \n",
      "best_player is thinking...\n",
      "best_player makes action (1, 3):\n",
      ". . . . . . . \n",
      ". . . . . . . \n",
      ". . . . . . . \n",
      ". . . X . . . \n",
      "X . . O . . . \n",
      "O X O O . . X \n",
      "X X O X X O O \n",
      "best_player is thinking...\n",
      "best_player makes action (3, 3):\n",
      ". . . . . . . \n",
      ". . . . . . . \n",
      ". . . . . . . \n",
      ". . . X . . . \n",
      "X . O O . . . \n",
      "O X O O . . X \n",
      "X X O X X O O \n",
      "best_player is thinking...\n",
      "best_player makes action (6, 2):\n",
      ". . . . . . . \n",
      ". . . . . . . \n",
      ". . . . . . . \n",
      ". . . X . . . \n",
      "X . O O . . . \n",
      "O X O O . X X \n",
      "X X O X X O O \n",
      "best_player is thinking...\n",
      "best_player makes action (3, 4):\n",
      ". . . . . . . \n",
      ". . . . . . . \n",
      ". . . . . . . \n",
      ". . O X . . . \n",
      "X . O O . . . \n",
      "O X O O . X X \n",
      "X X O X X O O \n",
      "***** best_player wins!\n"
     ]
    },
    {
     "data": {
      "text/plain": [
       "{'DRAW': 0, 'best_player': 2}"
      ]
     },
     "execution_count": 53,
     "metadata": {},
     "output_type": "execute_result"
    }
   ],
   "source": [
    "game.play_tournament(1, best_player, best_player, verbose=1, mode=\"ordered\", self_play=True)"
   ]
  },
  {
   "cell_type": "markdown",
   "metadata": {},
   "source": [
    "Did we collect some history?"
   ]
  },
  {
   "cell_type": "code",
   "execution_count": 55,
   "metadata": {},
   "outputs": [
    {
     "data": {
      "text/plain": [
       "25"
      ]
     },
     "execution_count": 55,
     "metadata": {},
     "output_type": "execute_result"
    }
   ],
   "source": [
    "len(game.memory)"
   ]
  },
  {
   "cell_type": "markdown",
   "metadata": {},
   "source": [
    "Ok, we are ready to learn!"
   ]
  },
  {
   "cell_type": "code",
   "execution_count": 39,
   "metadata": {},
   "outputs": [
    {
     "name": "stdout",
     "output_type": "stream",
     "text": [
      "Epoch #1...\n",
      "Self-play matches begin...\n",
      "Memory size is 78\n",
      "Enough to train!\n",
      "Training on  78 patterns...\n",
      "Evaluating initial training metrics...\n",
      "Training...\n",
      "       |  Training |    policy |     value \n",
      "Epochs |     Error |  head acc |  head acc \n",
      "------ | --------- | --------- | --------- \n",
      "#    0 |   0.97740 |   0.00000 |   0.00000 \n",
      "#    1 |   1.09872 |   0.00000 |   0.06410 \n",
      "========================================================================\n",
      "#    1 |   1.09872 |   0.00000 |   0.06410 \n",
      "Playing best vs current to see who wins the title...\n",
      "best won!\n",
      "Epoch #2...\n",
      "Self-play matches begin...\n",
      "Memory size is 112\n",
      "Enough to train!\n",
      "Training on  112 patterns...\n",
      "Evaluating initial training metrics...\n",
      "Training...\n",
      "       |  Training |    policy |     value \n",
      "Epochs |     Error |  head acc |  head acc \n",
      "------ | --------- | --------- | --------- \n",
      "#    0 |   1.02493 |   0.00000 |   0.00000 \n",
      "#    1 |   0.95806 |   0.00000 |   0.13393 \n",
      "========================================================================\n",
      "#    1 |   0.95806 |   0.00000 |   0.13393 \n",
      "Playing best vs current to see who wins the title...\n",
      "best won!\n",
      "Epoch #3...\n",
      "Self-play matches begin...\n",
      "Memory size is 177\n",
      "Enough to train!\n",
      "Training on  177 patterns...\n",
      "Evaluating initial training metrics...\n",
      "Training...\n",
      "       |  Training |    policy |     value \n",
      "Epochs |     Error |  head acc |  head acc \n",
      "------ | --------- | --------- | --------- \n",
      "#    0 |   0.94590 |   0.00000 |   0.00000 \n",
      "#    1 |   0.99881 |   0.00000 |   0.00000 \n",
      "========================================================================\n",
      "#    1 |   0.99881 |   0.00000 |   0.00000 \n",
      "Playing best vs current to see who wins the title...\n",
      "best won!\n",
      "Epoch #4...\n",
      "Self-play matches begin...\n",
      "Memory size is 223\n",
      "Enough to train!\n",
      "Training on  223 patterns...\n",
      "Evaluating initial training metrics...\n",
      "Training...\n",
      "       |  Training |    policy |     value \n",
      "Epochs |     Error |  head acc |  head acc \n",
      "------ | --------- | --------- | --------- \n",
      "#    0 |   0.94871 |   0.00000 |   0.00000 \n",
      "#    1 |   0.77693 |   0.00000 |   0.20628 \n",
      "========================================================================\n",
      "#    1 |   0.77693 |   0.00000 |   0.20628 \n",
      "Playing best vs current to see who wins the title...\n",
      "best won!\n",
      "Epoch #5...\n",
      "Self-play matches begin...\n",
      "Memory size is 262\n",
      "Enough to train!\n",
      "Training on  262 patterns...\n",
      "Evaluating initial training metrics...\n",
      "Training...\n",
      "       |  Training |    policy |     value \n",
      "Epochs |     Error |  head acc |  head acc \n",
      "------ | --------- | --------- | --------- \n",
      "#    0 |   0.94315 |   0.00000 |   0.00000 \n",
      "#    1 |   1.08274 |   0.00000 |   0.20992 \n",
      "========================================================================\n",
      "#    1 |   1.08274 |   0.00000 |   0.20992 \n",
      "Playing best vs current to see who wins the title...\n",
      "current won! swapping weights\n"
     ]
    },
    {
     "ename": "AttributeError",
     "evalue": "'AlphaZeroPlayer' object has no attribute 'get_weights'",
     "output_type": "error",
     "traceback": [
      "\u001b[0;31m---------------------------------------------------------------------------\u001b[0m",
      "\u001b[0;31mAttributeError\u001b[0m                            Traceback (most recent call last)",
      "\u001b[0;32m<ipython-input-39-3b68bf42b7da>\u001b[0m in \u001b[0;36m<module>\u001b[0;34m()\u001b[0m\n\u001b[1;32m     22\u001b[0m             \u001b[0;31m# give the better weights to the best_player\u001b[0m\u001b[0;34m\u001b[0m\u001b[0;34m\u001b[0m\u001b[0m\n\u001b[1;32m     23\u001b[0m             best_player.net.set_weights(\n\u001b[0;32m---> 24\u001b[0;31m                 current_player.get_weights())\n\u001b[0m\u001b[1;32m     25\u001b[0m             \u001b[0;31m## clear memory here?\u001b[0m\u001b[0;34m\u001b[0m\u001b[0;34m\u001b[0m\u001b[0m\n\u001b[1;32m     26\u001b[0m         \u001b[0;32melse\u001b[0m\u001b[0;34m:\u001b[0m\u001b[0;34m\u001b[0m\u001b[0m\n",
      "\u001b[0;31mAttributeError\u001b[0m: 'AlphaZeroPlayer' object has no attribute 'get_weights'"
     ]
    }
   ],
   "source": [
    "epoch = 1\n",
    "while True:\n",
    "    print(\"Epoch #%s...\" % epoch)\n",
    "    # self-play, collect data:\n",
    "    print(\"Self-play matches begin...\")\n",
    "    results = game.play_tournament(1, best_player, best_player, \n",
    "                                   mode=\"ordered\", self_play=True)\n",
    "    print(\"Memory size is %s\" % len(game.memory))\n",
    "    if len(game.memory) > 10:\n",
    "        print(\"Enough to train!\")\n",
    "        current_player.net.dataset.clear()\n",
    "        current_player.net.dataset.load(game.memory)\n",
    "        print(\"Training on \", len(current_player.net.dataset.inputs), \"patterns...\")\n",
    "        current_player.net.train()\n",
    "        ## save dataset every once in a while\n",
    "        ## now see which net is better:\n",
    "        print(\"Playing best vs current to see who wins the title...\")\n",
    "        results = game.play_tournament(2, best_player, current_player, \n",
    "                                       mode=\"one-each\", self_play=False)\n",
    "        if results[\"best_player\"] < results[\"current_player\"]:\n",
    "            print(\"current won! swapping weights\")\n",
    "            # give the better weights to the best_player\n",
    "            best_player.net.set_weights(\n",
    "                current_player.net.get_weights())\n",
    "            ## clear memory here?\n",
    "        else:\n",
    "            print(\"best won!\")\n",
    "    epoch += 1"
   ]
  },
  {
   "cell_type": "code",
   "execution_count": 40,
   "metadata": {},
   "outputs": [
    {
     "data": {
      "text/plain": [
       "262"
      ]
     },
     "execution_count": 40,
     "metadata": {},
     "output_type": "execute_result"
    }
   ],
   "source": [
    "len(game.memory)"
   ]
  },
  {
   "cell_type": "code",
   "execution_count": 42,
   "metadata": {},
   "outputs": [],
   "source": [
    "current_player.net.dataset.load(game.memory)"
   ]
  },
  {
   "cell_type": "code",
   "execution_count": 43,
   "metadata": {},
   "outputs": [],
   "source": [
    "current_player.net[\"policy_head\"].vshape = (6,7)\n",
    "current_player.net.config[\"show_targets\"] = True"
   ]
  },
  {
   "cell_type": "code",
   "execution_count": 45,
   "metadata": {
    "scrolled": false
   },
   "outputs": [
    {
     "data": {
      "application/vnd.jupyter.widget-view+json": {
       "model_id": "218839400ee24563989da64a6fb5fe28",
       "version_major": 2,
       "version_minor": 0
      },
      "text/html": [
       "<p>Failed to display Jupyter Widget of type <code>Dashboard</code>.</p>\n",
       "<p>\n",
       "  If you're reading this message in the Jupyter Notebook or JupyterLab Notebook, it may mean\n",
       "  that the widgets JavaScript is still loading. If this message persists, it\n",
       "  likely means that the widgets JavaScript library is either not installed or\n",
       "  not enabled. See the <a href=\"https://ipywidgets.readthedocs.io/en/stable/user_install.html\">Jupyter\n",
       "  Widgets Documentation</a> for setup instructions.\n",
       "</p>\n",
       "<p>\n",
       "  If you're reading this message in another frontend (for example, a static\n",
       "  rendering on GitHub or <a href=\"https://nbviewer.jupyter.org/\">NBViewer</a>),\n",
       "  it may mean that your frontend doesn't currently support widgets.\n",
       "</p>\n"
      ],
      "text/plain": [
       "Dashboard(children=(Accordion(children=(HBox(children=(VBox(children=(Select(description='Dataset:', index=1, options=('Test', 'Train'), rows=1, value='Train'), FloatSlider(value=1.0, continuous_update=False, description='Zoom', max=3.0, min=0.5), IntText(value=150, description='Horizontal space between banks:', style=DescriptionStyle(description_width='initial')), IntText(value=30, description='Vertical space between layers:', style=DescriptionStyle(description_width='initial')), HBox(children=(Checkbox(value=False, description='Show Targets', style=DescriptionStyle(description_width='initial')), Checkbox(value=False, description='Errors', style=DescriptionStyle(description_width='initial')))), Select(description='Features:', options=('', 'main_input', 'conv2d-1', 'batch-norm-1', 'leaky-relu-1', 'conv2d-2', 'batch-norm-2', 'leaky-relu-2', 'conv2d-3', 'batch-norm-3', 'add-1', 'leaky-relu-3', 'conv2d-4', 'batch-norm-4', 'leaky-relu-4', 'conv2d-5', 'batch-norm-5', 'add-2', 'leaky-relu-5', 'conv2d-6', 'batch-norm-6', 'leaky-relu-6', 'conv2d-7', 'batch-norm-7', 'add-3', 'leaky-relu-7', 'conv2d-8', 'batch-norm-8', 'leaky-relu-8', 'conv2d-9', 'batch-norm-9', 'add-4', 'leaky-relu-9', 'conv2d-10', 'batch-norm-10', 'leaky-relu-10', 'conv2d-11', 'batch-norm-11', 'add-5', 'leaky-relu-11', 'conv2d-12', 'batch-norm-12', 'leaky-relu-12', 'conv2d-13', 'batch-norm-13', 'leaky-relu-13'), rows=1, value=''), IntText(value=3, description='Feature columns:', style=DescriptionStyle(description_width='initial')), FloatText(value=2.0, description='Feature scale:', style=DescriptionStyle(description_width='initial'))), layout=Layout(width='100%')), VBox(children=(Select(description='Layer:', index=50, options=('main_input', 'conv2d-1', 'batch-norm-1', 'leaky-relu-1', 'conv2d-2', 'batch-norm-2', 'leaky-relu-2', 'conv2d-3', 'batch-norm-3', 'add-1', 'leaky-relu-3', 'conv2d-4', 'batch-norm-4', 'leaky-relu-4', 'conv2d-5', 'batch-norm-5', 'add-2', 'leaky-relu-5', 'conv2d-6', 'batch-norm-6', 'leaky-relu-6', 'conv2d-7', 'batch-norm-7', 'add-3', 'leaky-relu-7', 'conv2d-8', 'batch-norm-8', 'leaky-relu-8', 'conv2d-9', 'batch-norm-9', 'add-4', 'leaky-relu-9', 'conv2d-10', 'batch-norm-10', 'leaky-relu-10', 'conv2d-11', 'batch-norm-11', 'add-5', 'leaky-relu-11', 'conv2d-12', 'batch-norm-12', 'leaky-relu-12', 'flatten-1', 'policy_head', 'conv2d-13', 'batch-norm-13', 'leaky-relu-13', 'flatten-2', 'dense-1', 'leaky-relu-14', 'value_head'), rows=1, value='value_head'), Checkbox(value=True, description='Visible'), Select(description='Colormap:', options=('', 'Accent', 'Accent_r', 'Blues', 'Blues_r', 'BrBG', 'BrBG_r', 'BuGn', 'BuGn_r', 'BuPu', 'BuPu_r', 'CMRmap', 'CMRmap_r', 'Dark2', 'Dark2_r', 'GnBu', 'GnBu_r', 'Greens', 'Greens_r', 'Greys', 'Greys_r', 'OrRd', 'OrRd_r', 'Oranges', 'Oranges_r', 'PRGn', 'PRGn_r', 'Paired', 'Paired_r', 'Pastel1', 'Pastel1_r', 'Pastel2', 'Pastel2_r', 'PiYG', 'PiYG_r', 'PuBu', 'PuBuGn', 'PuBuGn_r', 'PuBu_r', 'PuOr', 'PuOr_r', 'PuRd', 'PuRd_r', 'Purples', 'Purples_r', 'RdBu', 'RdBu_r', 'RdGy', 'RdGy_r', 'RdPu', 'RdPu_r', 'RdYlBu', 'RdYlBu_r', 'RdYlGn', 'RdYlGn_r', 'Reds', 'Reds_r', 'Set1', 'Set1_r', 'Set2', 'Set2_r', 'Set3', 'Set3_r', 'Spectral', 'Spectral_r', 'Vega10', 'Vega10_r', 'Vega20', 'Vega20_r', 'Vega20b', 'Vega20b_r', 'Vega20c', 'Vega20c_r', 'Wistia', 'Wistia_r', 'YlGn', 'YlGnBu', 'YlGnBu_r', 'YlGn_r', 'YlOrBr', 'YlOrBr_r', 'YlOrRd', 'YlOrRd_r', 'afmhot', 'afmhot_r', 'autumn', 'autumn_r', 'binary', 'binary_r', 'bone', 'bone_r', 'brg', 'brg_r', 'bwr', 'bwr_r', 'cool', 'cool_r', 'coolwarm', 'coolwarm_r', 'copper', 'copper_r', 'cubehelix', 'cubehelix_r', 'flag', 'flag_r', 'gist_earth', 'gist_earth_r', 'gist_gray', 'gist_gray_r', 'gist_heat', 'gist_heat_r', 'gist_ncar', 'gist_ncar_r', 'gist_rainbow', 'gist_rainbow_r', 'gist_stern', 'gist_stern_r', 'gist_yarg', 'gist_yarg_r', 'gnuplot', 'gnuplot2', 'gnuplot2_r', 'gnuplot_r', 'gray', 'gray_r', 'hot', 'hot_r', 'hsv', 'hsv_r', 'inferno', 'inferno_r', 'jet', 'jet_r', 'magma', 'magma_r', 'nipy_spectral', 'nipy_spectral_r', 'ocean', 'ocean_r', 'pink', 'pink_r', 'plasma', 'plasma_r', 'prism', 'prism_r', 'rainbow', 'rainbow_r', 'seismic', 'seismic_r', 'spectral', 'spectral_r', 'spring', 'spring_r', 'summer', 'summer_r', 'tab10', 'tab10_r', 'tab20', 'tab20_r', 'tab20b', 'tab20b_r', 'tab20c', 'tab20c_r', 'terrain', 'terrain_r', 'viridis', 'viridis_r', 'winter', 'winter_r'), rows=1, value=''), HTML(value='<img src=\"data:image/gif;base64,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\"/>'), FloatText(value=-1.0, description='Leftmost color maps to:', style=DescriptionStyle(description_width='initial')), FloatText(value=1.0, description='Rightmost color maps to:', style=DescriptionStyle(description_width='initial')), IntText(value=0, description='Feature to show:', style=DescriptionStyle(description_width='initial'))), layout=Layout(width='100%')))),), selected_index=None, _titles={'0': 'Residual CNN'}), VBox(children=(HBox(children=(IntSlider(value=0, continuous_update=False, description='Dataset index', layout=Layout(width='100%'), max=261), Label(value='of 262', layout=Layout(width='100px'))), layout=Layout(height='40px')), HBox(children=(Button(icon='fast-backward', layout=Layout(width='100%'), style=ButtonStyle()), Button(icon='backward', layout=Layout(width='100%'), style=ButtonStyle()), IntText(value=0, layout=Layout(width='100%')), Button(icon='forward', layout=Layout(width='100%'), style=ButtonStyle()), Button(icon='fast-forward', layout=Layout(width='100%'), style=ButtonStyle()), Button(description='Play', icon='play', layout=Layout(width='100%'), style=ButtonStyle()), Button(icon='refresh', layout=Layout(width='25%'), style=ButtonStyle())), layout=Layout(height='50px', width='100%'))), layout=Layout(width='100%')), HTML(value='<p style=\"text-align:center\"></p>', layout=Layout(justify_content='center', overflow_x='auto', overflow_y='auto', width='95%')), Output()))"
      ]
     },
     "metadata": {},
     "output_type": "display_data"
    },
    {
     "data": {
      "application/javascript": [
       "\n",
       "require(['base/js/namespace'], function(Jupyter) {\n",
       "    Jupyter.notebook.kernel.comm_manager.register_target('conx_svg_control', function(comm, msg) {\n",
       "        comm.on_msg(function(msg) {\n",
       "            var data = msg[\"content\"][\"data\"];\n",
       "            var images = document.getElementsByClassName(data[\"class\"]);\n",
       "            for (var i = 0; i < images.length; i++) {\n",
       "                if (data[\"href\"]) {\n",
       "                    images[i].setAttributeNS(null, \"href\", data[\"href\"]);\n",
       "                }\n",
       "                if (data[\"src\"]) {\n",
       "                    images[i].setAttributeNS(null, \"src\", data[\"src\"]);\n",
       "                }\n",
       "            }\n",
       "        });\n",
       "    });\n",
       "});\n"
      ],
      "text/plain": [
       "<IPython.core.display.Javascript object>"
      ]
     },
     "metadata": {},
     "output_type": "display_data"
    },
    {
     "data": {
      "application/javascript": [
       "\n",
       "require(['base/js/namespace'], function(Jupyter) {\n",
       "    Jupyter.notebook.kernel.comm_manager.register_target('conx_svg_control', function(comm, msg) {\n",
       "        comm.on_msg(function(msg) {\n",
       "            var data = msg[\"content\"][\"data\"];\n",
       "            var images = document.getElementsByClassName(data[\"class\"]);\n",
       "            for (var i = 0; i < images.length; i++) {\n",
       "                if (data[\"href\"]) {\n",
       "                    images[i].setAttributeNS(null, \"href\", data[\"href\"]);\n",
       "                }\n",
       "                if (data[\"src\"]) {\n",
       "                    images[i].setAttributeNS(null, \"src\", data[\"src\"]);\n",
       "                }\n",
       "            }\n",
       "        });\n",
       "    });\n",
       "});\n"
      ],
      "text/plain": [
       "<IPython.core.display.Javascript object>"
      ]
     },
     "metadata": {},
     "output_type": "display_data"
    },
    {
     "data": {
      "application/javascript": [
       "\n",
       "require(['base/js/namespace'], function(Jupyter) {\n",
       "    Jupyter.notebook.kernel.comm_manager.register_target('conx_svg_control', function(comm, msg) {\n",
       "        comm.on_msg(function(msg) {\n",
       "            var data = msg[\"content\"][\"data\"];\n",
       "            var images = document.getElementsByClassName(data[\"class\"]);\n",
       "            for (var i = 0; i < images.length; i++) {\n",
       "                if (data[\"href\"]) {\n",
       "                    images[i].setAttributeNS(null, \"href\", data[\"href\"]);\n",
       "                }\n",
       "                if (data[\"src\"]) {\n",
       "                    images[i].setAttributeNS(null, \"src\", data[\"src\"]);\n",
       "                }\n",
       "            }\n",
       "        });\n",
       "    });\n",
       "});\n"
      ],
      "text/plain": [
       "<IPython.core.display.Javascript object>"
      ]
     },
     "metadata": {},
     "output_type": "display_data"
    },
    {
     "data": {
      "application/javascript": [
       "\n",
       "require(['base/js/namespace'], function(Jupyter) {\n",
       "    Jupyter.notebook.kernel.comm_manager.register_target('conx_svg_control', function(comm, msg) {\n",
       "        comm.on_msg(function(msg) {\n",
       "            var data = msg[\"content\"][\"data\"];\n",
       "            var images = document.getElementsByClassName(data[\"class\"]);\n",
       "            for (var i = 0; i < images.length; i++) {\n",
       "                if (data[\"href\"]) {\n",
       "                    images[i].setAttributeNS(null, \"href\", data[\"href\"]);\n",
       "                }\n",
       "                if (data[\"src\"]) {\n",
       "                    images[i].setAttributeNS(null, \"src\", data[\"src\"]);\n",
       "                }\n",
       "            }\n",
       "        });\n",
       "    });\n",
       "});\n"
      ],
      "text/plain": [
       "<IPython.core.display.Javascript object>"
      ]
     },
     "metadata": {},
     "output_type": "display_data"
    },
    {
     "data": {
      "application/javascript": [
       "\n",
       "require(['base/js/namespace'], function(Jupyter) {\n",
       "    Jupyter.notebook.kernel.comm_manager.register_target('conx_svg_control', function(comm, msg) {\n",
       "        comm.on_msg(function(msg) {\n",
       "            var data = msg[\"content\"][\"data\"];\n",
       "            var images = document.getElementsByClassName(data[\"class\"]);\n",
       "            for (var i = 0; i < images.length; i++) {\n",
       "                if (data[\"href\"]) {\n",
       "                    images[i].setAttributeNS(null, \"href\", data[\"href\"]);\n",
       "                }\n",
       "                if (data[\"src\"]) {\n",
       "                    images[i].setAttributeNS(null, \"src\", data[\"src\"]);\n",
       "                }\n",
       "            }\n",
       "        });\n",
       "    });\n",
       "});\n"
      ],
      "text/plain": [
       "<IPython.core.display.Javascript object>"
      ]
     },
     "metadata": {},
     "output_type": "display_data"
    }
   ],
   "source": [
    "current_player.net.dashboard()"
   ]
  },
  {
   "cell_type": "code",
   "execution_count": null,
   "metadata": {},
   "outputs": [],
   "source": []
  },
  {
   "cell_type": "markdown",
   "metadata": {},
   "source": [
    "## Summary\n",
    "\n",
    "* Play against itself, at just the right level. Evolution-style.\n",
    "* Uses search in training."
   ]
  }
 ],
 "metadata": {
  "kernelspec": {
   "display_name": "Python 3",
   "language": "python",
   "name": "python3"
  },
  "language_info": {
   "codemirror_mode": {
    "name": "ipython",
    "version": 3
   },
   "file_extension": ".py",
   "mimetype": "text/x-python",
   "name": "python",
   "nbconvert_exporter": "python",
   "pygments_lexer": "ipython3",
   "version": "3.6.3"
  },
  "widgets": {
   "application/vnd.jupyter.widget-state+json": {
    "state": {
     "0741e46b9b0f4bf5844bd3d85c4232d9": {
      "model_module": "@jupyter-widgets/base",
      "model_module_version": "1.0.0",
      "model_name": "LayoutModel",
      "state": {
       "height": "40px"
      }
     },
     "0776543edcaf412e9f635d7a22655c6b": {
      "model_module": "@jupyter-widgets/controls",
      "model_module_version": "1.1.0",
      "model_name": "IntTextModel",
      "state": {
       "description": "Horizontal space between banks:",
       "layout": "IPY_MODEL_fbb8a16d0747495e99f5bfc2808109ff",
       "step": 1,
       "style": "IPY_MODEL_a1badee473d84e34b941b2c9f758497e",
       "value": 150
      }
     },
     "0923567ad61746768ba409b22a19e778": {
      "model_module": "@jupyter-widgets/controls",
      "model_module_version": "1.1.0",
      "model_name": "FloatTextModel",
      "state": {
       "description": "Rightmost color maps to:",
       "layout": "IPY_MODEL_fd93bee2d6344272b7af327ceedbe041",
       "step": null,
       "style": "IPY_MODEL_92fcc589ae3f43e3835b39bebe0eb5af",
       "value": 1
      }
     },
     "0ad2f90079b940afbae181f44e2fa95c": {
      "model_module": "@jupyter-widgets/base",
      "model_module_version": "1.0.0",
      "model_name": "LayoutModel",
      "state": {
       "width": "100%"
      }
     },
     "0cca1cfa7b60414780471f0f4a6d5928": {
      "model_module": "@jupyter-widgets/base",
      "model_module_version": "1.0.0",
      "model_name": "LayoutModel",
      "state": {}
     },
     "0dcae20a89eb4f3f9f72e1749488e972": {
      "model_module": "@jupyter-widgets/base",
      "model_module_version": "1.0.0",
      "model_name": "LayoutModel",
      "state": {
       "height": "50px",
       "width": "100%"
      }
     },
     "0dffa73cbed44de797de9757880b194d": {
      "model_module": "@jupyter-widgets/controls",
      "model_module_version": "1.1.0",
      "model_name": "SliderStyleModel",
      "state": {
       "description_width": ""
      }
     },
     "1061517f16174b528ea3e598d9a05390": {
      "model_module": "@jupyter-widgets/controls",
      "model_module_version": "1.1.0",
      "model_name": "VBoxModel",
      "state": {
       "children": [
        "IPY_MODEL_5b1f003557944ddbaf762229351297a2",
        "IPY_MODEL_6d3e564d860847f9b3ded1f0a666141d",
        "IPY_MODEL_0776543edcaf412e9f635d7a22655c6b",
        "IPY_MODEL_929c52b13ba3416e980762d30075433b",
        "IPY_MODEL_af765efc36444d1a83f795dce70759ca",
        "IPY_MODEL_6c3867c8e825497eba374bbee12868bb",
        "IPY_MODEL_b36f0ddf249b43749b2bc484734a1797",
        "IPY_MODEL_47eedfb230484e189827e89986730a27"
       ],
       "layout": "IPY_MODEL_6ab6f6dff1c74d81a479cdd6db7fd23d"
      }
     },
     "12a4410c8917409fbe22407c92bd5851": {
      "model_module": "@jupyter-widgets/controls",
      "model_module_version": "1.1.0",
      "model_name": "DescriptionStyleModel",
      "state": {
       "description_width": "initial"
      }
     },
     "12bd2b38882e43008400b0a17656f423": {
      "model_module": "@jupyter-widgets/base",
      "model_module_version": "1.0.0",
      "model_name": "LayoutModel",
      "state": {}
     },
     "179ed4ed33034da29acb906a1656f109": {
      "model_module": "@jupyter-widgets/base",
      "model_module_version": "1.0.0",
      "model_name": "LayoutModel",
      "state": {
       "width": "100%"
      }
     },
     "187ca2da185c48cd8396c48f75ac4eaf": {
      "model_module": "@jupyter-widgets/base",
      "model_module_version": "1.0.0",
      "model_name": "LayoutModel",
      "state": {}
     },
     "1a3cf9f38b1d4d11a9f75692b93fc318": {
      "model_module": "@jupyter-widgets/controls",
      "model_module_version": "1.1.0",
      "model_name": "DescriptionStyleModel",
      "state": {
       "description_width": "initial"
      }
     },
     "1dd255503b57462b81cfb7c78003a688": {
      "model_module": "@jupyter-widgets/controls",
      "model_module_version": "1.1.0",
      "model_name": "IntSliderModel",
      "state": {
       "continuous_update": false,
       "description": "Dataset index",
       "layout": "IPY_MODEL_179ed4ed33034da29acb906a1656f109",
       "max": 3,
       "style": "IPY_MODEL_d9da6ff4050f4edb99e198d819516bda",
       "value": 1
      }
     },
     "1dfa04d6b8a84c56887183f68e4335fd": {
      "model_module": "@jupyter-widgets/base",
      "model_module_version": "1.0.0",
      "model_name": "LayoutModel",
      "state": {}
     },
     "1fa1279ef6b94fb5a45eb551c19091e9": {
      "model_module": "@jupyter-widgets/base",
      "model_module_version": "1.0.0",
      "model_name": "LayoutModel",
      "state": {
       "width": "100%"
      }
     },
     "1fc06217b9474474ab88eb96e110cb72": {
      "model_module": "@jupyter-widgets/controls",
      "model_module_version": "1.1.0",
      "model_name": "DescriptionStyleModel",
      "state": {
       "description_width": ""
      }
     },
     "217042ec394e443cb966ee7f50e7d70e": {
      "model_module": "@jupyter-widgets/controls",
      "model_module_version": "1.1.0",
      "model_name": "DescriptionStyleModel",
      "state": {
       "description_width": ""
      }
     },
     "22231be8fd7745b9bc764cef17bc1b6a": {
      "model_module": "@jupyter-widgets/controls",
      "model_module_version": "1.1.0",
      "model_name": "HBoxModel",
      "state": {
       "children": [
        "IPY_MODEL_1061517f16174b528ea3e598d9a05390",
        "IPY_MODEL_7a68e61b8bb54e0eac2f7b5aa775dfb5"
       ],
       "layout": "IPY_MODEL_8a191438cd5a4f90bf89cfc1de5d4dd3"
      }
     },
     "271ce6ca358f4348a9a676a9ec313fda": {
      "model_module": "@jupyter-widgets/base",
      "model_module_version": "1.0.0",
      "model_name": "LayoutModel",
      "state": {
       "width": "100%"
      }
     },
     "28192858eb7d4f7ca186e8f46c242e3d": {
      "model_module": "@jupyter-widgets/controls",
      "model_module_version": "1.1.0",
      "model_name": "DescriptionStyleModel",
      "state": {
       "description_width": ""
      }
     },
     "2b3adfdf59714146bfc616daea045c05": {
      "model_module": "@jupyter-widgets/controls",
      "model_module_version": "1.1.0",
      "model_name": "ButtonModel",
      "state": {
       "icon": "backward",
       "layout": "IPY_MODEL_0ad2f90079b940afbae181f44e2fa95c",
       "style": "IPY_MODEL_507e754ab8334b738975df70ab1cb124"
      }
     },
     "2df28eb027f643ac89e58be0acbc5519": {
      "model_module": "@jupyter-widgets/base",
      "model_module_version": "1.0.0",
      "model_name": "LayoutModel",
      "state": {
       "width": "100%"
      }
     },
     "3432f3b78cfb4f89a48ed6a2baf5db45": {
      "model_module": "@jupyter-widgets/controls",
      "model_module_version": "1.1.0",
      "model_name": "DescriptionStyleModel",
      "state": {
       "description_width": "initial"
      }
     },
     "35796f507edf4facbac6578ec38f9b25": {
      "model_module": "@jupyter-widgets/base",
      "model_module_version": "1.0.0",
      "model_name": "LayoutModel",
      "state": {
       "justify_content": "center",
       "overflow_x": "auto",
       "overflow_y": "auto",
       "width": "95%"
      }
     },
     "3bcb4ce374a54d49addef5e241765ad6": {
      "model_module": "@jupyter-widgets/base",
      "model_module_version": "1.0.0",
      "model_name": "LayoutModel",
      "state": {}
     },
     "3be538730bc442a0b3408132b13e0a21": {
      "model_module": "@jupyter-widgets/controls",
      "model_module_version": "1.1.0",
      "model_name": "FloatTextModel",
      "state": {
       "description": "Leftmost color maps to:",
       "layout": "IPY_MODEL_12bd2b38882e43008400b0a17656f423",
       "step": null,
       "style": "IPY_MODEL_c9fdaf2f01a5424cb0bcf548fcd5fba0",
       "value": -1
      }
     },
     "3e33934bd3054262adbdad542c4fea63": {
      "model_module": "@jupyter-widgets/controls",
      "model_module_version": "1.1.0",
      "model_name": "HTMLModel",
      "state": {
       "layout": "IPY_MODEL_35796f507edf4facbac6578ec38f9b25",
       "style": "IPY_MODEL_28192858eb7d4f7ca186e8f46c242e3d",
       "value": "\n<table align=\"center\" style=\"width: 100%;\">\n <tr>\n  <td valign=\"top\"><p style=\"text-align:center\"><svg id='Residual CNN' xmlns='http://www.w3.org/2000/svg' viewBox=\"0 0 550 300\" max-width=\"100%\" height=\"780\" image-rendering=\"pixelated\">\n    <defs>\n        <marker id=\"arrow\" markerWidth=\"10\" markerHeight=\"10\" refX=\"9\" refY=\"3\" orient=\"auto\" markerUnits=\"strokeWidth\">\n          <path d=\"M0,0 L0,6 L9,3 z\" fill=\"black\" />\n        </marker>\n    </defs><text x=\"275.0\" y=\"12.5\" font-family=\"monospace\" font-size=\"15\" text-anchor=\"middle\" alignment-baseline=\"central\">Residual CNN</text><rect x=\"82.33333333333334\" y=\"24\" width=\"202\" height=\"52\" style=\"fill:none;stroke:black;stroke-width:2\"/><image id=\"Residual CNN_policy_head_55\" class=\"Residual CNN_policy_head\" x=\"83.33333333333334\" y=\"25\" height=\"50\" width=\"200\" preserveAspectRatio=\"none\" href=\"data:image/gif;base64,R0lGODdhKgABAIcAAPv5/PLo9P/IyMrK/9fX/6Gh//+IiP+5uf/d3QAAAAAAAAAAAAAAAAAAAAAAAAAAAAAAAAAAAAAAAAAAAAAAAAAAAAAAAAAAAAAAAAAAAAAAAAAAAAAAAAAAAAAAAAAAAAAAAAAAAAAAAAAAAAAAAAAAAAAAAAAAAAAAAAAAAAAAAAAAAAAAAAAAAAAAAAAAAAAAAAAAAAAAAAAAAAAAAAAAAAAAAAAAAAAAAAAAAAAAAAAAAAAAAAAAAAAAAAAAAAAAAAAAAAAAAAAAAAAAAAAAAAAAAAAAAAAAAAAAAAAAAAAAAAAAAAAAAAAAAAAAAAAAAAAAAAAAAAAAAAAAAAAAAAAAAAAAAAAAAAAAAAAAAAAAAAAAAAAAAAAAAAAAAAAAAAAAAAAAAAAAAAAAAAAAAAAAAAAAAAAAAAAAAAAAAAAAAAAAAAAAAAAAAAAAAAAAAAAAAAAAAAAAAAAAAAAAAAAAAAAAAAAAAAAAAAAAAAAAAAAAAAAAAAAAAAAAAAAAAAAAAAAAAAAAAAAAAAAAAAAAAAAAAAAAAAAAAAAAAAAAAAAAAAAAAAAAAAAAAAAAAAAAAAAAAAAAAAAAAAAAAAAAAAAAAAAAAAAAAAAAAAAAAAAAAAAAAAAAAAAAAAAAAAAAAAAAAAAAAAAAAAAAAAAAAAAAAAAAAAAAAAAAAAAAAAAAAAAAAAAAAAAAAAAAAAAAAAAAAAAAAAAAAAAAAAAAAAAAAAAAAAAAAAAAAAAAAAAAAAAAAAAAAAAAAAAAAAAAAAAAAAAAAAAAAAAAAAAAAAAAAAAAAAAAAAAAAAAAAAAAAAAAAAAAAAAAAAAAAAAAAAAAAAAAAAAAAAAAAAAAAAAAAAAAAAAAAAAAAAAAAAAAAAAAAAAAAAAAAAAAAAAAAAAAAAAAAAAAAAAAAAAAAAAAAAAAAAAAAAAAAAAAAAAAAAAAAAAAAAAAAAAAAAAAAAAAAAAAAAAAAAAAAAAAAAAAAAAAAAAAAAAAAAAAAAAAAAAAAAAAAAAAACwAAAAAKgABAAAIMgABFAAAQICAAQEQBAAQAMAAAAECAAAQQEAAAgAEAABAAECAAAYEBAAAIAAAAAMOCAgIADs=\"><title>Layer: policy_head (output)\n shape = (42,)\n Keras class = Dense\n use_bias = False\n activation = linear\n kernel_regularizer = &lt;keras.regularizers.L1L2 object at 0x7fe39b432278&gt;</title></image><text x=\"288.33333333333337\" y=\"52.0\" font-family=\"monospace\" font-size=\"12\" text-anchor=\"start\" alignment-baseline=\"central\">policy_head</text><rect x=\"340.6666666666667\" y=\"24\" width=\"52\" height=\"52\" style=\"fill:none;stroke:black;stroke-width:2\"/><image id=\"Residual CNN_value_head_56\" class=\"Residual CNN_value_head\" x=\"341.6666666666667\" y=\"25\" height=\"50\" width=\"50\" preserveAspectRatio=\"none\" href=\"data:image/gif;base64,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\"><title>Layer: value_head (output)\n shape = (1,)\n Keras class = Dense\n use_bias = False\n activation = tanh\n kernel_regularizer = &lt;keras.regularizers.L1L2 object at 0x7fe3c0b73c18&gt;</title></image><text x=\"396.6666666666667\" y=\"52.0\" font-family=\"monospace\" font-size=\"12\" text-anchor=\"start\" alignment-baseline=\"central\">value_head</text><line x1=\"183.33333333333334\" y1=\"75\" x2=\"183.33333333333334\" y2=\"75\" stroke=\"black\" stroke-width=\"2\" marker-end=\"url(#arrow)\"><title>Weights from flatten-1 to policy_head\n policy_head_1/kernel:0 has shape (84, 42)</title></line><line x1=\"183.33333333333334\" y1=\"75\" x2=\"183.33333333333334\" y2=\"75\" stroke=\"black\" stroke-width=\"2\"><title>Weights from flatten-1 to policy_head\n policy_head_1/kernel:0 has shape (84, 42)</title></line><rect x=\"174.0\" y=\"74\" width=\"202\" height=\"202\" style=\"fill:none;stroke:black;stroke-width:2\"/><image id=\"Residual CNN_main_input_57\" class=\"Residual CNN_main_input\" x=\"175.0\" y=\"75\" height=\"200\" width=\"200\" preserveAspectRatio=\"none\" href=\"data:image/gif;base64,R0lGODdh9QDSAIcAAP/9/QAAAAAATAAAAAAAAAAAAAAAAAAAAAAAAAAAAAAAAAAAAAAAAAAAAAAAAAAAAAAAAAAAAAAAAAAAAAAAAAAAAAAAAAAAAAAAAAAAAAAAAAAAAAAAAAAAAAAAAAAAAAAAAAAAAAAAAAAAAAAAAAAAAAAAAAAAAAAAAAAAAAAAAAAAAAAAAAAAAAAAAAAAAAAAAAAAAAAAAAAAAAAAAAAAAAAAAAAAAAAAAAAAAAAAAAAAAAAAAAAAAAAAAAAAAAAAAAAAAAAAAAAAAAAAAAAAAAAAAAAAAAAAAAAAAAAAAAAAAAAAAAAAAAAAAAAAAAAAAAAAAAAAAAAAAAAAAAAAAAAAAAAAAAAAAAAAAAAAAAAAAAAAAAAAAAAAAAAAAAAAAAAAAAAAAAAAAAAAAAAAAAAAAAAAAAAAAAAAAAAAAAAAAAAAAAAAAAAAAAAAAAAAAAAAAAAAAAAAAAAAAAAAAAAAAAAAAAAAAAAAAAAAAAAAAAAAAAAAAAAAAAAAAAAAAAAAAAAAAAAAAAAAAAAAAAAAAAAAAAAAAAAAAAAAAAAAAAAAAAAAAAAAAAAAAAAAAAAAAAAAAAAAAAAAAAAAAAAAAAAAAAAAAAAAAAAAAAAAAAAAAAAAAAAAAAAAAAAAAAAAAAAAAAAAAAAAAAAAAAAAAAAAAAAAAAAAAAAAAAAAAAAAAAAAAAAAAAAAAAAAAAAAAAAAAAAAAAAAAAAAAAAAAAAAAAAAAAAAAAAAAAAAAAAAAAAAAAAAAAAAAAAAAAAAAAAAAAAAAAAAAAAAAAAAAAAAAAAAAAAAAAAAAAAAAAAAAAAAAAAAAAAAAAAAAAAAAAAAAAAAAAAAAAAAAAAAAAAAAAAAAAAAAAAAAAAAAAAAAAAAAAAAAAAAAAAAAAAAAAAAAAAAAAAAAAAAAAAAAAAAAAAAAAAAAAAAAAAAAAAAAAAAAAAAAAAAAAAAAAAAAAAAAAAAAAAAAAAAAAAAAAAAAAAAAAAAAAAAAAAAAAAAAAAAAAAAAAAAACwAAAAA9QDSAEAI/wADCBxIsKDBgwgTKlzIsKHDhxAjSpxIseJDABgzatzIsePGAAEAiBxJsqTJkyUDBADAsqXLlzBjvgwQAIDNmzhz6tyZM0AAAECDCh1KtOjQAAEAKF3KtKnTp00DBABAtarVq1izXg0QAIDXr2DDih0bNkAAAGjTql3Ltu3aAAEAyJ1Lt67du3UDBADAt6/fv4AD/w0QAIDhw4gTK16cOEAAAJAjS55MufLkAAEAaN7MubPnz50DBABAurTp06hTnw4QAIDr17Bjy54dO0AAALhz697Nu/fuAAEACB9OvLjx48UDBADAvLnz59CjPw8QAID169iza9+ePUAAAODDi/8fT778+AABAKhfz769+/ftAwQAQL++/fv4898PEACAf4AABA4kWNDgQYEBAgBg2NDhQ4gRHwYIAMDiRYwZNW7MGCAAAJAhRY4kWXJkgAAAVK5k2dLly5YBAgCgWdPmTZw5bwYIAMDnT6BBhQ4NGiAAAKRJlS5l2nRpgAAApE6lWtXq1aoBAgDg2tXrV7BhvwYIAMDsWbRp1a5NGyAAALhx5c6lW3dugAAA9O7l29fv374BAgAgXNjwYcSJDwcIAMDxY8iRJU+OHCAAAMyZNW/m3HlzgAAARI8mXdr06dIBAgBg3dr1a9ixXwcIAMD2bdy5de/OHSAAAODBhQ8nXnz/eIAAAJQvZ97c+fPmAQIAoF7d+nXs2a8HCADA+3fw4cWPDx8gAAD06dWvZ99+fYAAAOTPp1/f/v36AQIA4N/fP0AAAgcSLGhQYIAAABYybOjwIUSHAQIAqGjxIsaMGjEGCADgI8iQIkeSFBkgAICUKleybOmSZYAAAGbSrGnzJk6bAQIA6OnzJ9CgQoEGCADgKNKkSpcyVRogAICoUqdSrWqVaoAAALZy7er1K1ivAQIAKGv2LNq0atEGCADgLdy4cufSlRsgAIC8evfy7euXb4AAAAYTLmz4MGLDAQIAaOz4MeTIkiEHCADgMubMmjdz1hwgAIDQokeTLm2adIAA/wBWs27t+jVs1wECAKht+zbu3LpxBwgA4Dfw4MKHExceIACA5MqXM2/unHmAAACmU69u/Tp26wECAOju/Tv48OLBBwgA4Dz69OrXs1cfIACA+PLn069vn36AAAD28+/vHyAAgQMJFhwYIAAAhQsZNnT4sGGAAAAoVrR4EWPGiwECAPD4EWRIkSNDBggAAGVKlStZtlwZIAAAmTNp1rR5s2aAAAB49vT5E2jQnwECADB6FGlSpUuTBggAAGpUqVOpVp0aIAAArVu5dvX6tWuAAADIljV7Fm3aswHYtnX7Fm5cuXPp1rV7F29evXv59vX7Vy8AwYMJFzZ8uHCAAAAYN/92/Bhy5McBAgCwfBlzZs2bMwcIAAB0aNGjSZceHSAAANWrWbd2/bp1gAAAaNe2fRt37tsBAgDw/Rt4cOHDgwcIAAB5cuXLmTdfHiAAAOnTqVe3fr16gAAAuHf3/h18+O8BAgAwfx59evXr0wcIAAB+fPnz6defHyAAAP37+ff3DxCAwIEEBQYIACChwoUMGzpkGCAAgIkUK1q8iNFigAAAOnr8CDKkSJABAgA4iTKlypUsVQYIACCmzJk0a9qkGSAAgJ08e/r8CdRngAAAiho9ijSpUqQBAgB4CjWq1KlUpQYIACCr1q1cu3rlGiAAgLFky5o9i9ZsgAAA2rp9Czf/rly4AQIAuIs3r969fPUGCAAgsODBhAsbJhwgAIDFjBs7fgzZcYAAACpbvow5s2bMAQIA+Aw6tOjRpEUHCAAgterVrFu7Zh0gAIDZtGvbvo3bdoAAAHr7/g08uHDgAQIAOI48ufLlzJUHCAAguvTp1Ktbpx4gAIDt3Lt7/w7ee4AAAMqbP48+vXr0AQIAeA8/vvz59OUHCAAgv/79/Pv7BwhAoMAAAQAcRJhQ4UKGCgMEABBR4kSKFS1SDBAAwEaOHT1+BOkxQAAAJU2eRJlSJcoAAQC8hBlT5kyaMgMEAJBT506ePX3yDBAAwFCiRY0eRWo0QAAATZ0+hRpVKtQA/wEAXMWaVetWrloDBAAQVuxYsmXNkg0QAMBatm3dvoXrNkAAAHXt3sWbVy/eAAEA/AUcWPBgwoIDBACQWPFixo0dMw4QAMBkypUtX8ZsOUAAAJ09fwYdWjToAAEAnEadWvVq1qoDBAAQW/Zs2rVt0w4QAMBu3r19/wbuO0AAAcWNH0eeXDnyAAEEPIceXfp06tIDBACQXft27t29cw8QAMB48uXNn0dvPkAAAO3dv4cfXz78AAEE3MefX/9+/voDAAwAYCDBggYPIjQYIICAhg4fQowoEWKAAAIuYsyocSNHjQECAAgpciTJkiZJBggAYCXLli5fwnQZIACAmjZv4v/MqRNngAACfgINKnQoUaEBAgBIqnQp06ZOmQYIIGAq1apWr2K1GiCAgK5ev4INKxZsgAAAzqJNq3YtW7UBAgCIK3cu3bp26QYIAGAv375+/wL2GyCAgMKGDyNOrBhxgAAAHkOOLHkyZckBAgjIrHkz586eOQcIIGA06dKmT6M2HSAAgNauX8OOLRt2gAAAbuPOrXs3b90BAgAILnw48eLGiQcIIGA58+bOn0N3HiAAgOrWr2PPrh17gAACvoMPL348efEBAghIr349+/bu2QcIAGA+/fr27+O3HyAAgP7+AQIQOJBgQYMGAwQAsJBhQ4cPIToMEEBARYsXMWbUiDH/QAAAH0GGFDmSpMgAAQCkVLmSZUuXLAMEADCTZk2bN3HaDBAAQE+fP4EGFQo0QAAAR5EmVbqUqdIAAQBElTqValWrVAMEALCVa1evX8F6DRAAQFmzZ9GmVYs2QAAAb+HGlTuXrtwAAQDk1buXb1+/fAMEADCYcGHDhxEbDhAAQGPHjyFHlgw5QAAAlzFn1ryZs+YAAQCEFj2adGnTpAMEALCadWvXr2G7DhAAQG3bt3Hn1o07QAAAv4EHFz6cuPAAAQAkV76ceXPnzAMEADCdenXr17FbDxAAQHfv38GHFw8+QAAA59GnV7+evfoAAQDElz+ffn379AMEALCff3///wABCBxIsODAAAEAKFzIsKHDhw0DBABAsaLFixgzXgwQAIDHjyBDihwZMkAAAChTqlzJsuXKAAEAyJxJs6bNmzUDBADAs6fPn0CD/gwQAIDRo0iTKl2aNEAAAFCjSp1KterUAAEAaN3KtavXr10DBABAtqzZs2jTng0QAIDbt3Djyp0bN0AAAHjz6t3Lt+/eAAEACB5MuLDhw4UDBADAuLHjx5AjPw4QAIDly5gza96cOUAAAKBDix5NuvToAAEAqF7NurXr160DBABAu7bt27hz3w4QAIDv38CDCx8ePEAAAMiTK1/OvPnyAAEASJ9Ovbr169UDBADAvbv37+DDf/8PEACA+fPo06tfnz5AAADw48ufT7/+/AABAOjfz7+/f4AABA4kKDBAAAAJFS5k2NAhwwABAEykWNHiRYwWAwQA0NHjR5AhRYIMEADASZQpVa5kqTJAAAAxZc6kWdMmzQABAOzk2dPnT6A+AwQAUNToUaRJlSINEADAU6hRpU6lKjVAAABZtW7l2tUr1wABAIwlW9bsWbRmAwQA0NbtW7hx5cINEADAXbx59e7lqzdAAACBBQ8mXNgw4QABACxm3NjxY8iOAwQAUNnyZcyZNWMOEADAZ9ChRY8mLTpAAACpVa9m3do16wABAMymXdv2bdy2AwQA0Nv3b+DBhQMPEAD/wHHkyZUvZ648QAAA0aVPp17dOvUAAQBs597d+3fw3gMEAFDe/Hn06dWjDxAAwHv48eXPpy8/QAAA+fXv59/fP0AAAgUGCADgIMKEChcyVBggAICIEidSrGiRYoAAADZy7OjxI0iPAQIAKGnyJMqUKlEGCADgJcyYMmfSlBkgAICcOnfy7OmTZ4AAAIYSLWr0KFKjAQIAaOr0KdSoUqEGCADgKtasWrdy1RogAICwYseSLWuWbIAAANaybev2LVy3AQIAqGv3Lt68evEGCADgL+DAggcTFhwgAIDEihczbuyYcYAAACZTrmz5MmbLAQIA6Oz5M+jQokEHCADgNOrU/6pXs1YdIACA2LJn065tm3aAAAB28+7t+zdw3wECAChu/Djy5MqRBwgA4Dn06NKnU5ceIACA7Nq3c+/unXuAAADGky9v/jx68wECAGjv/j38+PLhBwgA4D7+/Pr389cfAGAAAAMJFjR4EKHBAAEANHT4EGJEiRADBABwEWNGjRs5agwQAEBIkSNJljRJMkAAACtZtnT5EqbLAAEA1LR5E2dOnTgDBADwE2hQoUOJCg0QAEBSpUuZNnXKNEAAAFOpVrV6FavVAAEAdPX6FWxYsWADBABwFm1atWvZqg0QAEBcuXPp1rVLN0AAAHv59vX7F7DfAAEAFDZ8GHFixYgDBP8A8BhyZMmTKUsOEABAZs2bOXf2zDlAAACjSZc2fRq16QABALR2/Rp2bNmwAwQAcBt3bt27eesOEABAcOHDiRc3TjxAAADLmTd3/hy68wDTqVe3fh17du3buXf3/h18ePHjyZc3Hx5AevXr2bd3zz5AAADz6de3fx+//QABAPT3DxCAwIEECxo0GCAAgIUMGzp8CNFhgAAAKlq8iDGjRowBAgD4CDKkyJEkRQYIACClypUsW7pkGSAAgJk0a9q8idNmgAAAevr8CTSoUKABAgA4ijSp0qVMlQYIACCq1KlUq1qlGiAAgK1cu3r9CtZrgAAAypo9izatWrQBAgB4Czf/rty5dOUGCAAgr969fPv65RsgAIDBhAsbPozYcIAAABo7fgw5smTIAQIAuIw5s+bNnDUHCAAgtOjRpEubJh0gAIDVrFu7fg3bdYAAAGrbvo07t27cAQIA+A08uPDhxIUHCAAgufLlzJs7Zx4gAIDp1Ktbv47deoAAALp7/w4+vHjwAQIAOI8+vfr17NUHCAAgvvz59Ovbpx8gAID9/Pv7BwhA4ECCBQcGCABA4UKGDR0+bBgggACKFS1exJjxYoAAAjx+BBlS5MiQAQIAQJlS5UqWLVcGCABA5kyaNW3erBkgAACePX3+BBr0Z4AAAoweRZpU6dKkAQIAgBpV6lSq/1WnBgggQOtWrl29fu0aIIAAsmXNnkWb9myAAADcvoUbV+7cuAECAMCbV+9evn33BggAQPBgwoUNHy4cIIAAxo0dP4Yc+XGAAAAsX8acWfPmzAECCAAdWvRo0qVHBwggQPVq1q1dv24dIAAA2rVt38ad+3aAAAB8/wYeXPjw4AECAECeXPly5s2XBwggQPp06tWtX68eIAAA7t29fwcf/nuAAALMn0efXv369AECCIAfX/58+vXnBwgAQP9+/v39AwQgcCBBgQECAEiocCHDhg4ZBggAYCLFihYvYrQYIICAjh4/ggwpEmSAAABOokypciVLlQECAIgpcybNmjZpBv8IAGAnz54+fwL1GSAAgKJGjyJNqhRpgAAAnkKNKnUqVakBAgDIqnUr165euQYIAGAs2bJmz6I1GyAAgLZu38KNKxdugAAA7uLNq3cvX70BAgAILHgw4cKGCQcIAGAx48aOH0N2HCAAgMqWL2POrBlzgAAAPoMOLXo0adEBAgBIrXo169auWQcIAGA27dq2b+O2HSAAgN6+fwMPLhx4gAAAjiNPrnw5c+UBAgCILn069erWqQcIAGA79+7ev4P3HiAAgPLmz6NPrx59gAAA3sOPL38+ffkBAgDIr38///7+AQIQKDBAAAAHESZUuJChwgABAESUOJFiRYsUAwQAsJH/Y0ePH0F6DBAAQEmTJ1GmVIkyQAAAL2HGlDmTpswAAQDk1LmTZ0+fPAMEADCUaFGjR5EaDRAAQFOnT6FGlQo1QAAAV7Fm1bqVq9YAAQCEFTuWbFmzZAMEALCWbVu3b+G6DRAAQF27d/Hm1Ys3QAAAfwEHFjyYsOAAAQAkVryYcWPHjAMEADCZcmXLlzFbDhAAQGfPn0GHFg06QAAAp1GnVr2ateoAAQDElj2bdm3btAMEALCbd2/fv4H7DhAAQHHjx5EnV448QAAAz6FHlz6duvQAAQBk176de3fv3AMEADCefHnz59GbDxAAQHv37+HHlw8/QAAA9/Hn17+fv/4A/wADABhIsKDBgwgNBggAoKHDhxAjSoQYIACAixgzatzIUWOAAABCihxJsqRJkgECAFjJsqXLlzBdBggAoKbNmzhz6sQZIACAn0CDCh1KVGiAAACSKl3KtKlTpgECAJhKtarVq1itBtjKtavXr2DDih1LtqzZs2jTql3Ltq3btADiyp1Lt65dugECANjLt6/fv4D9BggAoLDhw4gTK0YcIACAx5AjS55MWXKAAAAya97MubNnzgECABhNurTp06hNBwgAoLXr17Bjy4YdIACA27hz697NW3eAAACCCx9OvLhx4gECAFjOvLnz59CdBwgAoLr169iza8ceIACA7+DDi/8fT158gAAA0qtfz769e/YBAgCYT7++/fv47QcIAKC/f4AABA4kWNCgwQABACxk2NDhQ4gOAwQAUNHiRYwZNWIMEADAR5AhRY4kKTJAAAApVa5k2dIlywABAMykWdPmTZw2AwQA0NPnT6BBhQINEADAUaRJlS5lqjRAAABRpU6lWtUq1QABAGzl2tXrV7BeAwQAUNbsWbRp1aINEADAW7hx5c6lKzdAAAB59e7l29cv3wABAAwmXNjwYcSGAwQA0NjxY8iRJUMOEADAZcyZNW/mrDlAAAChRY8mXdo06QABAKxm3dr1a9iuAwQAUNv2bdy5deMOEADAb+DBhQ8nLjz/QAAAyZUvZ97cOfMAAQBMp17d+nXs1gMEANDd+3fw4cWDDxAAwHn06dWvZ68+QAAA8eXPp1/fPv0AAQDs59/fP0AAAgcSLDgwQAAAChcybOjwYcMAAQBQrGjxIsaMFwMEAODxI8iQIkeGDBAAAMqUKleybLkyQAAAMmfSrGnzZs0AAQDw7OnzJ9CgPwMEAGD0KNKkSpcmDRAAANSoUqdSrTo1QAAAWrdy7er1a9cAAQCQLWv2LNq0ZwMEAOD2Ldy4cufGDRAAAN68evfy7bs3QAAAggcTLmz4cOEAAQAwbuz4MeTIjwMEAGD5MubMmjdnDhAAAOjQokeTLj06AOrU/6pXs27t+jXs2LJn065t+zbu3Lp32wbg+zfw4MKHBw8QAADy5MqXM2++PEAAANKnU69u/Xr1AAEAcO/u/Tv48N8DBABg/jz69OrXpw8QAAD8+PLn068/P0AAAPr38+/vHyAAgQMJCgwQAEBChQsZNnTIMEAAABMpVrR4EaPFAAEAdPT4EWRIkSADBABwEmVKlStZqgwQAEBMmTNp1rRJM0AAADt59vT5E6jPAAEAFDV6FGlSpUgDBADwFGpUqVOpSg0QAEBWrVu5dvXKNUAAAGPJljV7Fq3ZAAEAtHX7Fm5cuXADBABwF29evXv56g0QAEBgwYMJFzZMOEAAAIsZN/92/Biy4wABAFS2fBlzZs2YAwQA8Bl0aNGjSYsOEABAatWrWbd2zTpAAACzade2fRu37QABAPT2/Rt4cOHAAwQAcBx5cuXLmSsPEABAdOnTqVe3Tj1AAADbuXf3/h289wABAJQ3fx59evXoAwQA8B5+fPnz6csPEABAfv37+ff3DxCAQIEBAgA4iDChwoUMFQYIACCixIkUK1qkGCAAgI0cO3r8CNJjgAAASpo8iTKlSpQBAgB4CTOmzJk0ZQYIACCnzp08e/rkGSAAgKFEixo9itRogAAAmjp9CjWqVKgBAgC4ijWr1q1ctQYIACCs2LFky5olGyAAgLVs27p9C9f/bYAAAOravYs3r168AQIA+As4sODBhAUHCAAgseLFjBs7ZhwgAIDJlCtbvozZcoAAADp7/gw6tGjQAQIAOI06terVrFUHCAAgtuzZtGvbph0gAIDdvHv7/g3cd4AAAIobP448uXLkAQIAeA49uvTp1KUHCAAgu/bt3Lt75x4gAIDx5MubP4/efIAAANq7fw8/vnz4AQIAuI8/v/79/PUHABgAwECCBQ0eRGgwQAAADR0+hBhRIsQAAQBcxJhR40aOGgMEABBS5EiSJU2SDBAAwEqWLV2+hOkyQAAANW3exJlTJ84AAQD8BBpU6FCiQgMEAJBU6VKmTZ0yDRAAwFSq/1WtXsVqNUAAAF29fgUbVizYAAEAnEWbVu1atmoDBAAQV+5cunXt0g0QAMBevn39/gXsN0AAAIUNH0acWDHiAAEAPIYcWfJkypIDBACQWfNmzp09cw4QAMBo0qVNn0ZtOkAAAK1dv4YdWzbsAAEA3MadW/du3roDBAAQXPhw4sWNEw8QAMBy5s2dP4fuPEAAANWtX8eeXTv2AAEAfAcfXvx48uIDBACQXv169u3dsw8QAMB8+vXt38dvP0AAAP39AwQgcCDBggYNBggAYCHDhg4fQnQYIACAihYvYsyoEWOAAAA+ggwpciRJkQECAEipciXLli5ZBggAYCbNmjZv4v+0GSAAgJ4+fwINKhRogAAAjiJNqnQpU6UBAgCIKnUq1apWqQYIAGAr165ev4L1GiAAgLJmz6JNqxZtgAAA3sKNK3cuXbkBAgDIq3cv375++QYIAGAw4cKGDyM2HCAAgMaOH0OOLBlygAAALmPOrHkzZ80BAgAILXo06dKmSQcIAGA169auX8N2HSAAgNq2b+POrRt3gAAAfgMPLnw4ceEBAgBIrnw58+bOmQcIAGA69erWr2O3HiAAgO7ev4MPLx58gAAAzqNPr349e/UBAgCIL38+/fr26QcIAGA///7+AQIQOJBgwYEBAgBQuJBhQ4cPGwYIAIBiRYsXMWa8GCD/AACPH0GGFDkyZIAAAFCmVLmSZcuVAQIAkDmTZk2bN2sGCACAZ0+fP4EG/RkgAACjR5EmVbo0aYAAAKBGlTqVatWpAQIA0LqVa1evX7sGCACAbFmzZ9GmPRsgAAC3b+HGlTs3boAAAPDm1buXb9+9AQIAEDyYcGHDhwsHCACAcWPHjyFHfhwgAADLlzFn1rw5c4AAAECHFj2adOnRAQIAUL2adWvXr1sHCACAdm3bt3Hnvh0gAADfv4EHFz48eIAAAJAnV76cefPlAQIAkD6denXr16sHCACAe3fv38GH/x4gAADz59GnV78+fYAAAODHlz+ffv35AQIA0L+ff3///wABCBxIUGCAAAASKlzIsKFDhgECAJhIsaLFixgtBggAoKPHjyBDigQZIACAkyhTqlzJUmWAAABiypxJs6ZNmgECANjJs6fPn0B9BggAoKjRo0iTKkUaIACAp1CjSp1KVWqAAACyat3KtatXrgECABhLtqzZs2jNBggAoK3bt3DjyoUbIACAu3jz6t3LV2+AAAACCx5MuLBhwgECAFjMuLHjx5AdBwgAoLLly5gza8YcIACAz6BDix5NWnSAAABSq17NurVr1gECAJhNu7bt27htBwgAoLfv38CDCwceIACA48iTK1/OXHmAAACiS59Ovbp16gECANjOvbv37+C9B/8IAKC8+fPo06tHHyAAgPfw48ufT19+gAAA8uvfz7+/f4AABAoMEADAQYQJFS5kqDBAAAARJU6kWNEixQABAGzk2NHjR5AeAwQAUNLkSZQpVaIMEADAS5gxZc6kKTNAAAA5de7k2dMnzwABAAwlWtToUaRGAwQA0NTpU6hRpUINEADAVaxZtW7lqjVAAABhxY4lW9Ys2QABAKxl29btW7huAwQAUNfuXbx59eINEADAX8CBBQ8mLDhAAACJFS9m3Ngx4wABAEymXNnyZcyWAwQA0NnzZ9ChRYMOEADAadSpVa9mrTrAa9ixZc+mXdv2bdy5de/m3dv3b+DBhfcGUNz/+HHkyZUjDxBAwHPo0aVPpy49QAAB2bVv597dO/cAAQCMJ1/e/Hn05gMEANDe/Xv48eXDDxAAwH38+fXv568/AMAAAgYSLGjwIEKDAQIAaOjwIcSIEiEGCCDgIsaMGjdy1BgggICQIkeSLGmSZIAAAFaybOnyJUyXAQIAqGnzJs6cOnEGCADgJ9CgQocSFRoggICkSpcybeqUaYAAAKZSrWr1KlarAQII6Or1K9iwYsEGCCDgLNq0ateyVRsgAIC4cufSrWuXboAAAPby7ev3L2C/AQIAKGz4MOLEihEHCCDgMeTIkidTlhwgAIDMmjdz7uyZc4AAAkaTLm36NGrT/wECCGjt+jXs2LJhBwgA4Dbu3Lp389YdIACA4MKHEy9unHiAAACWM2/u/Dl05wECCKhu/Tr27NqxBwgA4Dv48OLHkxcfIICA9OrXs2/vnn2AAALm069v/z5++wECAOjvHyAAgQMJFjRoMEAAAAsZNnT4EKLDAAEAVLR4EWNGjRgDBBDwEWRIkSNJigwQAEBKlStZtnTJMkAAATNp1rR5E6fNAAEE9PT5E2hQoUADBABwFGlSpUuZKg0QAEBUqVOpVrVKNUAAAFu5dvX6FazXAAEElDV7Fm1atWgDBADwFm5cuXPpyg0QQEBevXv59vXLN0AAAYMJFzZ8GLHhAAEANP92/BhyZMmQAwQAcBlzZs2bOWsOEABAaNGjSZc2TTpAAAGrWbd2/Rq26wABANS2fRt3bt24AwQQ8Bt4cOHDiQsPEEBAcuXLmTd3zjxAAADTqVe3fh279QABAHT3/h18ePHgAwQAcB59evXr2asPEEBAfPnz6de3Tz9AAAD7+ff3DxCAwIEECw4MEACAwoUMGzp82DBAAAAUK1q8iDHjxQABAHj8CDKkyJEhAwQAgDKlypUsW64MEACAzJk0a9q8WTNAAAA8e/r8CTTozwABABg9ijSp0qVJAwQAADWq1KlUq04NEACA1q1cu3r92jVAAABky5o9izbt2QABALh9Czf/rty5cQMEAIA3r969fPvuDRAAgODBhAsbPlw4QAAAjBs7fgw58uMAAQBYvow5s+bNmQMEAAA6tOjRpEuPDhAAgOrVrFu7ft06QAAAtGvbvo079+0AAQD4/g08uPDhwQMEAIA8ufLlzJsvDxAAgPTp1Ktbv149QAAA3Lt7/w4+/PcAAQCYP48+vfr16QMEAAA/vvz59OvPDxAAgP79/Pv7BwhA4ECCAgMEAJBQ4UKGDR0yDBAAwESKFS1exGgxQAAAHT1+BBlSJMgAAQCcRJlS5UqWKgMEABBT5kyaNW3SDBAAwE6ePX3+BOozQAAARY0eRZpUKdIAAQA8hRpV6lSq/1IDBACQVetWrl29cg0QAMBYsmXNnkVrNkAAAG3dvoUbVy7cAAEA3MWbV+9evnoDBAAQWPBgwoUNEw4QAMBixo0dP4bsOEAAAJUtX8acWTPmAAEAfAYdWvRo0qIDBACQWvVq1q1dsw4QAMBs2rVt38ZtO0AAAL19/wYeXDjwAAEAHEeeXPly5soDBAAQXfp06tWtUw8QAMB27t29fwfvPUAAAOXNn0efXj36AAEAvIcfX/58+vIDBACQX/9+/v39AwQgUGCAAAAOIkyocCFDhQECAIgocSLFihYpBggAYCPHjh4/gvQYIACAkiZPokypEmWAAABewowpcyZNmQECAP/IqXMnz54+eQYIAGAo0aJGjyI1GiAAgKZOn0KNKhVqgAAArmLNqnUrV60BAgAIK3Ys2bJmyQYIAGAt27Zu38J1GyAAgLp27+LNqxdvgAAA/gIOLHgwYcEBAgBIrHgx48aOGQcIAGAy5cqWL2O2HCAAgM6eP4MOLRp0gAAATqNOrXo1a9UBAgCILXs27dq2aQcIAGA3796+fwP3HSAAgOLGjyNPrhx5gAAAnkOPLn06dekBAgDIrn079+7euQcIAGA8+fLmz6M3HyAAgPbu38OPLx9+gAAA7uPPr38/f/0BAAYAMJBgQYMHERoMEABAQ4cPIUaUCDFAAAAXMWbUuJH/o8YAAQCEFDmSZEmTJAMEALCSZUuXL2G6DBAAQE2bN3Hm1IkzQAAAP4EGFTqUqNAAAQAkVbqUaVOnTAMEADCValWrV7FaDRAAQFevX8GGFQs2QAAAZ9GmVbuWrdoAAQDElTuXbl27dAMEALCXb1+/fwH7DRAAQGHDhxEnVow4QAAAjyFHljyZsuQAAQBk1ryZc2fPnAMEADCadGnTp1GbDhAAQGvXr2HHlg07QAAAt3Hn1r2bt+4AAQAEFz6ceHHjxAMEALCceXPnz6E7DxAAQHXr17Fn1449QAAA38GHFz+evPgAAQCkV7+efXv37AMEADCffn379/HbDxAAQH///wABCBxIsKBBgwECAFjIsKHDhxAdBggAoKLFixgzasQYIACAjyBDihxJUmSAAABSqlzJsqVLlgECAJhJs6bNmzhtBggAoKfPn0CDCgUaIACAo0iTKl3KVGmAAACiSp1KtapVqgECANjKtavXr2C9BggAoKzZs2jTqkUbIACAt3Djyp1LV26AAADy6t3Lt69fvgECABhMuLDhw4gNBwgAoLHjx5AjS4YcIACAy5gza97MWXOAAABCix5NurRp0gECAFjNurXr17BdB5hNu7bt27hz697Nu7fv38CDCx9OvLjx4ACSK1/OvLlz5gECAJhOvbr169itBwgAoLv37+DDi/8HHyAAgPPo06tfz159gAAA4sufT7++ffoBAgDYz7+/f4AABA4kWHBggAAAFC5k2NDhw4YBAgCgWNHiRYwZLwYIAMDjR5AhRY4MGSAAAJQpVa5k2XJlgAAAZM6kWdPmzZoBAgDg2dPnT6BBfwYIAMDoUaRJlS5NGiAAAKhRpU6lWnVqgAAAtG7l2tXr164BAgAgW9bsWbRpzwYIAMDtW7hx5c6NGyAAALx59e7l23dvgAAABA8mXNjw4cIBAgBg3NjxY8iRHwcIAMDyZcyZNW/OHCAAANChRY8mXXp0gAAAVK9m3dr169YBAgCgXdv2bdy5bwcIAMD3b+DBhQ8PHiD/AADkyZUvZ958eYAAAKRPp17d+vXqAQIA4N7d+3fw4b8HCADA/Hn06dWvTx8gAAD48eXPp19/foAAAPTv59/fP0AAAgcSFBggAICEChcybOiQYYAAACZSrGjxIkaLAQIA6OjxI8iQIkEGCADgJMqUKleyVBkgAICYMmfSrGmTZoAAAHby7OnzJ1CfAQIAKGr0KNKkSpEGCADgKdSoUqdSlRogAICsWrdy7eqVa4AAAMaSLWv2LFqzAQIAaOv2Ldy4cuEGCADgLt68evfy1RsgAIDAggcTLmyYcIAAABYzbuz4MWTHAQIAqGz5MubMmjEHCADgM+jQokeTFh0gAIDU/6pXs27tmnWAAABm065t+zZu2wECAOjt+zfw4MKBBwgA4Djy5MqXM1ceIACA6NKnU69unXqAAAC2c+/u/Tt47wECAChv/jz69OrRBwgA4D38+PLn05cfIACA/Pr38+/vHyAAgQIDBABwEGFChQsZKgwQAEBEiRMpVrRIMUAAABs5dvT4EaTHAAEAlDR5EmVKlSgDBADwEmZMmTNpygwQAEBOnTt59vTJM0AAAEOJFjV6FKnRAAEANHX6FGpUqVADBABwFWtWrVu5ag0QAEBYsWPJljVLNkAAAGvZtnX7Fq7bAAEA1LV7F29evXgDBADwF3BgwYMJCw4QAEBixYsZN/92zDhAAACTKVe2fBmz5QABAHT2/Bl0aNGgAwQAcBp1atWrWasOEABAbNmzade2TTtAAAC7eff2/Ru47wABABQ3fhx5cuXIAwQA8Bx6dOnTqUsPEABAdu3buXf3zj1AAADjyZc3fx69+QABALR3/x5+fPnwAwQAcB9/fv37+esPADAAgIEECxo8iNBggAAAGjp8CDGiRIgBAgC4iDGjxo0cNQYIACCkyJEkS5okGSAAgJUsW7p8CdNlgAAAatq8iTOnTpwBAgD4CTSo0KFEhQYIACCp0qVMmzplGiAAgKlUq1q9itVqgAAAunr9CjasWLABAgA4izat2rVs1QYIACD/rty5dOvapRsgAIC9fPv6/QvYb4AAAAobPow4sWLEAQIAeAw5suTJlCUHCAAgs+bNnDt75hwgAIDRpEubPo3adIAAAFq7fg07tmzYAQIAuI07t+7dvHUHCAAguPDhxIsbJx4gAIDlzJs7fw7deYAAAKpbv449u3bsAQIA+A4+vPjx5MUHCAAgvfr17Nu7Zx8gAID59Ovbv4/ffoAAAPr7BwhA4ECCBQ0aDBAAwEKGDR0+hOgwQAAAFS1exJhRI8YAAQB8BBlS5EiSIgMEAJBS5UqWLV2yDBAAwEyaNW3exGkzwE6ePX3+BBpU6FCiRY0eRZpU6VKmTZ0mBRBV6lSq/1WtUg0QAMBWrl29fgXrNUAAAGXNnkWbVi3aAAEAvIUbV+5cunIDBACQV+9evn398g0QAMBgwoUNH0ZsOEAAAI0dP4YcWTLkAAEAXMacWfNmzpoDBAAQWvRo0qVNkw4QAMBq1q1dv4btOkAAALVt38adWzfuAAEA/AYeXPhw4sIDBACQXPly5s2dMw8QAMB06tWtX8duPUAAAN29fwcfXjz4AAEAnEefXv169uoDBAAQX/58+vXt0w8QAMB+/v39AwQgcCDBggMDBACgcCHDhg4fNgwQAADFihYvYsx4MUAAAB4/ggwpcmTIAAEAoEypciXLlisDBAAgcybNmjZv1v8MEAAAz54+fwIN+jNAAABGjyJNqnRp0gABAECNKnUq1apTAwQAoHUr165ev3YNEAAA2bJmz6JNezZAAABu38KNK3du3AABAODNq3cv3757AwQAIHgw4cKGDxcOEAAA48aOH0OO/DhAAACWL2POrHlz5gABAIAOLXo06dKjAwQAoHo169auX7cOEAAA7dq2b+POfTtAAAC+fwMPLnx48AABACBPrnw58+bLAwQAIH069erWr1cPEAAA9+7ev4MP/z1AAADmz6NPr359+gABAMCPL38+/frzAwQAoH8///7+AQIQOJCgwAABACRUuJBhQ4cMAwQAMJFiRYsXMVoMEAD/QEePH0GGFAkyQAAAJ1GmVLmSpcoAAQDElDmTZk2bNAMEALCTZ0+fP4H6DBAAQFGjR5EmVYo0QAAAT6FGlTqVqtQAAQBk1bqVa1evXAMEADCWbFmzZ9GaDRAAQFu3b+HGlQs3QAAAd/Hm1buXr94AAQAEFjyYcGHDhAMEALCYcWPHjyE7DhAAQGXLlzFn1ow5QAAAn0GHFj2atOgAAQCkVr2adWvXrAMEADCbdm3bt3HbDhAAQG/fv4EHFw48QAAAx5EnV76cufIAAQBElz6denXr1AMEALCde3fv38F7DxAAQHnz59GnV48+QAAA7+HHlz+fvvwAAQDk17+ff3///wABCBQYIACAgwgTKlzIUGGAAAAiSpxIsaJFigECANjIsaPHjyA9BggAoKTJkyhTqkQZIACAlzBjypxJU2aAAABy6tzJs6dPngECABhKtKjRo0iNBggAoKnTp1CjSoUaIACAq1izat3KVWuAAADCih1LtqxZsgECAFjLtq3bt3DdBggAoK7du3jz6sUbIACAv4ADCx5MWHCAAAASK17MuLFjxgECAJhMubLly5gtBwgAoLPnz6BDiwYdIACA06hTq17NWnWAAABiy55Nu7Zt2gECANjNu7fv38B9BwgAoLjx48iTK0ceIACA59CjS59OXXqAAACya9/Ovbt37gECAP8YT768+fPozQcIAKC9+/fw48uHHyAAgPv48+vfz19/AIABAAwkWNDgQYQGAwQA0NDhQ4gRJUIMEADARYwZNW7kqDFAAAAhRY4kWdIkyQABAKxk2dLlS5guAwQAUNPmTZw5deIMEADAT6BBhQ4lKjRAAABJlS5l2tQp0wABAEylWtXqVaxWAwQA0NXrV7BhxYINEADAWbRp1a5lqzZAAABx5c6lW9cu3QABAOzl29fvX8B+AwQAUNjwYcSJFSMOEADAY8iRJU+mLDlAAACZNW/m3Nkz5wABAIwmXdr0adSmAwQA0Nr1a9ixZcMOEADAbdy5de/mrTtAAADBhQ8nXtz/OPEAAQAsZ97c+XPozgMEAFDd+nXs2bVjDxAAwHfw4cWPJy8+QAAA6dWvZ9/ePfsAAQDMp1/f/n389gMEANDfP0AAAgcSLGjQYICEChcybOjwIcSIEidSrGjxIsaMGjdyvAjgI8iQIkeSFBkgAICUKleybOmSZYAAAGbSrGnzJk6bAQIA6OnzJ9CgQoEGCADgKNKkSpcyVRogAICoUqdSrWqVaoAAALZy7er1K1ivAQIAKGv2LNq0atEGCADgLdy4cufSlRsgAIC8evfy7euXb4AAAAYTLmz4MGLDAQIAaOz4MeTIkiEHCADgMubMmjdz1hwgAIDQokeTLm2adIAA/wBWs27t+jVs1wECAKht+zbu3LpxBwgA4Dfw4MKHExceIACA5MqXM2/unHmAAACmU69u/Tp26wECAOju/Tv48OLBBwgA4Dz69OrXs1cfIACA+PLn069vn36AAAD28+/vHyAAgQMJFhwYIAAAhQsZNnT4sGGAAAAoVrR4EWPGiwECAPD4EWRIkSNDBggAAGVKlStZtlwZIAAAmTNp1rR5s2aAAAB49vT5E2jQnwECADB6FGlSpUuTBggAAGpUqVOpVp0aIAAArVu5dvX6tWuAAADIljV7Fm3aswECAHD7Fm5cuXPjBggAAG9evXv59t0bIAAAwYMJFzZ8uHCAAAAYN/92/Bhy5McBAgCwfBlzZs2bMwcIAAB0aNGjSZceHSAAANWrWbd2/bp1gAAAaNe2fRt37tsBAgDw/Rt4cOHDgwcIAAB5cuXLmTdfHiAAAOnTqVe3fr16gAAAuHf3/h18+O8BAgAwfx59evXr0wcIAAB+fPnz6defHyAAAP37+ff3DxCAwIEEBQYIACChwoUMGzpkGCAAgIkUK1q8iNFigAAAOnr8CDKkSJABAgA4iTKlypUsVQYIACCmzJk0a9qkGSAAgJ08e/r8CdRngAAAiho9ijSpUqQBAgB4CjWq1KlUpQYIACCr1q1cu3rlGiAAgLFky5o9i9ZsgAAA2rp9Czf/rly4AQIAuIs3r969fPUGCAAgsODBhAsbJhwgAIDFjBs7fgzZcYAAACpbvow5s2bMAQIA+Aw6tOjRpEUHCAAgterVrFu7Zh0gAIDZtGvbvo3bdoAAAHr7/g08uHDgAQIAOI48ufLlzJUHCAAguvTp1Ktbpx4gAIDt3Lt7/w7ee4AAAMqbP48+vXr0AQIAeA8/vvz59OUHCAAgv/79/Pv7BwhAoMAAAQAcRJhQ4UKGCgMEABBR4kSKFS1SDBAAwEaOHT1+BOkxQAAAJU2eRJlSJcoAAQC8hBlT5kyaMgMEAJBT506ePX3yDBAAwFCiRY0eRWo0QAAATZ0+hRpVKtQA/wEAXMWaVetWrloDBAAQVuxYsmXNkg0QAMBatm3dvoXrNkAAAHXt3sWbVy/eAAEA/AUcWPBgwoIDBACQWPFixo0dMw4QAMBkypUtX8ZsOUAAAJ09fwYdWjToAAEAnEadWvVq1qoDBAAQW/Zs2rVt0w4QAMBu3r19/wbuO0AAAMWNH0eeXDnyAAEAPIceXfp06tIDBACQXft27t29cw8QAMB48uXNn0dvPkAAAO3dv4cfXz78AAEA3MefX/9+/voDAAwAYCDBggYPIjQYIACAhg4fQowoEWKAAAAuYsyocSNHjQECAAgpciTJkiZJBggAYCXLli5fwnQZIACAmjZv4v/MqRNngAAAfgINKnQoUaEBAgBIqnQp06ZOmQYIAGAq1apWr2K1GiAAgK5ev4INKxZsgAAAzqJNq3YtW7UBAgCIK3cu3bp26QYIAGAv375+/wL2GyAAgMKGDyNOrBhxgMaOH0OOLHky5cqWL2POrHkz586eP4PeDGA06dKmT6M2HSAAgNauX8OOLRt2gAAAbuPOrXs3b90BAgAILnw48eLGiQcIAGA58+bOn0N3HiAAgOrWr2PPrh17gAAAvoMPL348efEBAgBIr349+/bu2QcIAGA+/fr27+O3HyAAgP7+AQIQOJBgQYMGAwQAsJBhQ4cPIToMEABARYsXMWbUiDH/QAAAH0GGFDmSpMgAAQCkVLmSZUuXLAMEADCTZk2bN3HaDBAAQE+fP4EGFQo0QAAAR5EmVbqUqdIAAQBElTqValWrVAMEALCVa1evX8F6DRAAQFmzZ9GmVYs2QAAAb+HGlTuXrtwAAQDk1buXb1+/fAMEADCYcGHDhxEbDhAAQGPHjyFHlgw5QAAAlzFn1ryZs+YAAQCEFj2adGnTpAMEALCadWvXr2G7DhAAQG3bt3Hn1o07QAAAv4EHFz6cuPAAAQAkV76ceXPnzAMEADCdenXr17FbDxAAQHfv38GHFw8+QAAA59GnV7+evfoAAQDElz+ffn379AMEALCff3///wABCBxIsODAAAEAKFzIsKHDhw0DBABAsaLFixgzXgwQAIDHjyBDihwZMkAAAChTqlzJsuXKAAEAyJxJs6bNmzUDBADAs6fPn0CD/gwQAIDRo0iTKl2aNEAAAFCjSp1KterUAAEAaN3KtavXr10DBABAtqzZs2jTng0QAIDbt3Djyp0bN0AAAHjz6t3Lt+/eAAEACB5MuLDhw4UDBADAuLHjx5AjPw4QAIDly5gza96cOUAAAKBDix5NuvToAAEAqF7NurXr160DBABAu7bt27hz3w4QAIDv38CDCx8ePEAAAMiTK1/OvPnyAAEASJ9Ovbr169UDBADAvbv37+DDf/8PEACA+fPo06tfnz5AAADw48ufT7/+/AABAOjfz7+/f4AABA4kKDBAAAAJFS5k2NAhwwABAEykWNHiRYwWAwQA0NHjR5AhRYIMEADASZQpVa5kqTJAAAAxZc6kWdMmzQABAOzk2dPnT6A+AwQAUNToUaRJlSINEADAU6hRpU6lKjVAAABZtW7l2tUr1wABAIwlW9bsWbRmAwQA0NbtW7hx5cINEADAXbx59e7lqzdAAACBBQ8mXNgw4QABACxm3NjxY8iOAwQAUNnyZcyZNWMOEADAZ9ChRY8mLTpAAACpVa9m3do16wABAMymXdv2bdy2AwQA0Nv3b+DBhQMPEAD/wHHkyZUvZ648QAAA0aVPp17dOvUAAQBs597d+3fw3gMEAFDe/Hn06dWjDxAAwHv48eXPpy8/QAAA+fXv59/fP0AAAgUGCADgIMKEChcyVBggAICIEidSrGiRYoAAADZy7OjxI0iPAQIAKGnyJMqUKlEGCADgJcyYMmfSlBkgAICcOnfy7OmTZ4AAAIYSLWr0KFKjAQIAaOr0KdSoUqEGCADgKtasWrdy1RogAICwYseSLWuWbIAAANaybev2LVy3AQIAqGv3Lt68evEGCADgL+DAggcTFhwgAIDEihczbuyYcYAAACZTrmz5MmbLAQIA6Oz5M+jQokEHCADgNOrU/6pXs1YdIACA2LJn065tm3aAAAB28+7t+zdw3wECAChu/Djy5MqRBwgA4Dn06NKnU5ceIACA7Nq3c+/unXuAAADGky9v/jx68wECAGjv/j38+PLhBwgA4D7+/Pr389cfAGAAAAMJFjR4EKHBAAEANHT4EGJEiRADBABwEWNGjRs5agwQAEBIkSNJljRJMkAAACtZtnT5EqbLAAEA1LR5E2dOnTgDBADwE2hQoUOJCg0QAEBSpUuZNnXKNEAAAFOpVrV6FavVAFu5dvX6FWxYsWPJljV7Fm1atWvZtnWbFkBcuXPp1rVLN0AAAXv59vX7F7DfAAEEFDZ8GHFixYgDBP8A8BhyZMmTKUsOEABAZs2bOXf2zDlAAACjSZc2fRq16QABBLR2/Rp2bNmwAwQAcBt3bt27eesOEEBAcOHDiRc3TjxAAAHLmTd3/hy68wABAFS3fh17du3YAwQA8B18ePHjyYsPEABAevXr2bd3zz5AAAHz6de3fx+//QABAPT3DxCAwIEECxo0GCCAgIUMGzp8CNFhgAACKlq8iDGjRowBAgD4CDKkyJEkRQYIACClypUsW7pkGSAAgJk0a9q8idNmgAACevr8CTSoUKABAgA4ijSp0qVMlQYIICCq1KlUq1qlGiCAgK1cu3r9CtZrgAAAypo9izatWrQBAgB4Czf/rty5dOUGCAAgr969fPv65RsggIDBhAsbPozYcIAAABo7fgw5smTIAQIIuIw5s+bNnDUHCCAgtOjRpEubJh0gAIDVrFu7fg3bdYAAAGrbvo07t27cAQIA+A08uPDhxIUHCCAgufLlzJs7Zx4gAIDp1Ktbv47deoAAArp7/w4+vHjwAQIIOI8+vfr17NUHCAAgvvz59Ovbpx8gAID9/Pv7BwhA4ECCBQcGCABA4UKGDR0+bBgggACKFS1exJjxYoAAADx+BBlS5MiQAQIIQJlS5UqWLVcGCCBA5kyaNW3erBkgAACePX3+BBr0Z4AAAIweRZpU6dKkAQIAgBpV6lSq/1WnBgggQOtWrl29fu0aIAAAsmXNnkWb9myAAALcvoUbV+7cuAECCMCbV+9evn33BggAQPBgwoUNHy4cIAAAxo0dP4Yc+XGAAAAsX8acWfPmzAECCAAdWvRo0qVHBwgAQPVq1q1dv24dIIAA2rVt38ad+3aAAAJ8/wYeXPjw4AECAECeXPly5s2XBwgAQPp06tWtX68eIAAA7t29fwcf/nuAAALMn0efXv369AECAIAfX/58+vXnBwggQP9+/v39AxQgcCBBgQECCEiocCHDhg4ZBggAYCLFihYvYrQYIACAjh4/ggwpEmSAAABOokypciVLlQECCIgpcybNmjZpBv8IAGAnz54+fwL1GSCAgKJGjyJNqhRpgAACnkKNKnUqVakBAgDIqnUr165euQYIAGAs2bJmz6I1GyAAgLZu38KNKxdugAAC7uLNq3cvX70BAgAILHgw4cKGCQcIIGAx48aOH0N2HCCAgMqWL2POrBlzgAAAPoMOLXo0adEBAgBIrXo169auWQcIAGA27dq2b+O2HSCAgN6+fwMPLhx4gAAAjiNPrnw5c+UBAgiILn069erWqQcIIGA79+7ev4P3HiAAgPLmz6NPrx59gAAA3sOPL38+ffkBAgDIr38///7+AQIQKDBAAAEHESZUuJChwgABAESUOJFiRYsUAwQQsJH2Y0ePH0F6DBBAQEmTJ1GmVIkyQAAAL2HGlDmTpswAAQDk1LmTZ0+fPAMEADCUaFGjR5EaDRBAQFOnT6FGlQo1QAAAV7Fm1bqVq9YAAQSEFTuWbFmzZAMEELCWbVu3b+G6DRAAQF27d/Hm1Ys3QAAAfwEHFjyYsOAAAQAkVryYcWPHjAMEEDCZcmXLlzFbDhAAQGfPn0GHFg06QAABp1GnVr2ateoAAQTElj2bdm3btAMEALCbd2/fv4H7DhAAQHHjx5EnV448QAAAz6FHlz6duvQAAQRk176de3fv3AOEFz+efHnz59GnV7+efXv37+HHlz+fvvuAADs=\"><title>Layer: main_input (input)\n shape = (6, 7, 2)\n Keras class = Input</title></image><text x=\"380.0\" y=\"177.0\" font-family=\"monospace\" font-size=\"12\" text-anchor=\"start\" alignment-baseline=\"central\">main_input</text><text x=\"380.0\" y=\"80\" font-family=\"monospace\" font-size=\"12\" text-anchor=\"start\" alignment-baseline=\"central\">2</text><text x=\"163.0\" y=\"270\" font-family=\"monospace\" font-size=\"12\" text-anchor=\"start\" alignment-baseline=\"central\">0</text></svg></p></td>\n  <td valign=\"top\" align=\"center\"><p style=\"text-align:center\"><b>main_input features</b></p><table><tr><td style=\"border: 1px solid black;\"><img style=\"image-rendering: pixelated;\" class=\"Residual CNN_main_input_feature0\" src=\"data:image/gif;base64,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\"/><br/><center>Feature 0</center></td><td style=\"border: 1px solid black;\"><img style=\"image-rendering: pixelated;\" class=\"Residual CNN_main_input_feature1\" src=\"data:image/gif;base64,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\"/><br/><center>Feature 1</center></td></tr></table></td>\n</tr>\n</table>"
      }
     },
     "41c3c7e072f04c6abf41f9133fc592fc": {
      "model_module": "@jupyter-widgets/controls",
      "model_module_version": "1.1.0",
      "model_name": "DescriptionStyleModel",
      "state": {
       "description_width": ""
      }
     },
     "42fb14e627004bf69ce83a88647494e5": {
      "model_module": "@jupyter-widgets/controls",
      "model_module_version": "1.1.0",
      "model_name": "DescriptionStyleModel",
      "state": {
       "description_width": "initial"
      }
     },
     "46b3ca31424346b8881e81ea3b528b6c": {
      "model_module": "@jupyter-widgets/controls",
      "model_module_version": "1.1.0",
      "model_name": "ButtonModel",
      "state": {
       "icon": "fast-forward",
       "layout": "IPY_MODEL_9823a1c0a34f40f5903189fc734bd864",
       "style": "IPY_MODEL_71cfc547f6e548719d1136aa62a82b4d"
      }
     },
     "47eedfb230484e189827e89986730a27": {
      "model_module": "@jupyter-widgets/controls",
      "model_module_version": "1.1.0",
      "model_name": "FloatTextModel",
      "state": {
       "description": "Feature scale:",
       "layout": "IPY_MODEL_eff0474a98d94315b818f72b70906a8e",
       "step": null,
       "style": "IPY_MODEL_12a4410c8917409fbe22407c92bd5851",
       "value": 2
      }
     },
     "4b5e2f4caa21408ab667a52dc4e97681": {
      "model_module": "@jupyter-widgets/controls",
      "model_module_version": "1.1.0",
      "model_name": "HBoxModel",
      "state": {
       "children": [
        "IPY_MODEL_7e15b8ba58e34c98be93831feff33791",
        "IPY_MODEL_2b3adfdf59714146bfc616daea045c05",
        "IPY_MODEL_7d758c7a5da947fbb1a9c3671ac8057a",
        "IPY_MODEL_c2657c5043af450787a756d5ff70a797",
        "IPY_MODEL_46b3ca31424346b8881e81ea3b528b6c",
        "IPY_MODEL_adde82d52fef48b5870b3966a2401a13",
        "IPY_MODEL_89765308b2544059b1cd31c85f5f1aea"
       ],
       "layout": "IPY_MODEL_0dcae20a89eb4f3f9f72e1749488e972"
      }
     },
     "507e754ab8334b738975df70ab1cb124": {
      "model_module": "@jupyter-widgets/controls",
      "model_module_version": "1.1.0",
      "model_name": "ButtonStyleModel",
      "state": {}
     },
     "545de5cb599c4f80b51a57eae1ccda28": {
      "model_module": "@jupyter-widgets/controls",
      "model_module_version": "1.1.0",
      "model_name": "VBoxModel",
      "state": {
       "children": [
        "IPY_MODEL_8b78b24619ac45d49a1ccbd3c6801a5f",
        "IPY_MODEL_66e7a0fb8d3a4b5b96a090468ee0630f",
        "IPY_MODEL_3e33934bd3054262adbdad542c4fea63",
        "IPY_MODEL_dba1ab8cf7604081977cb1904bbd6e03"
       ],
       "layout": "IPY_MODEL_81b70d642cee4b15806a0ed6bde80999"
      }
     },
     "555b06db5a3a42d6b6facd771ac3fff7": {
      "model_module": "@jupyter-widgets/controls",
      "model_module_version": "1.1.0",
      "model_name": "ButtonStyleModel",
      "state": {}
     },
     "56f6ff9e50674984b90124f8428aefd8": {
      "model_module": "@jupyter-widgets/controls",
      "model_module_version": "1.1.0",
      "model_name": "SelectModel",
      "state": {
       "_options_labels": [
        "",
        "Accent",
        "Accent_r",
        "Blues",
        "Blues_r",
        "BrBG",
        "BrBG_r",
        "BuGn",
        "BuGn_r",
        "BuPu",
        "BuPu_r",
        "CMRmap",
        "CMRmap_r",
        "Dark2",
        "Dark2_r",
        "GnBu",
        "GnBu_r",
        "Greens",
        "Greens_r",
        "Greys",
        "Greys_r",
        "OrRd",
        "OrRd_r",
        "Oranges",
        "Oranges_r",
        "PRGn",
        "PRGn_r",
        "Paired",
        "Paired_r",
        "Pastel1",
        "Pastel1_r",
        "Pastel2",
        "Pastel2_r",
        "PiYG",
        "PiYG_r",
        "PuBu",
        "PuBuGn",
        "PuBuGn_r",
        "PuBu_r",
        "PuOr",
        "PuOr_r",
        "PuRd",
        "PuRd_r",
        "Purples",
        "Purples_r",
        "RdBu",
        "RdBu_r",
        "RdGy",
        "RdGy_r",
        "RdPu",
        "RdPu_r",
        "RdYlBu",
        "RdYlBu_r",
        "RdYlGn",
        "RdYlGn_r",
        "Reds",
        "Reds_r",
        "Set1",
        "Set1_r",
        "Set2",
        "Set2_r",
        "Set3",
        "Set3_r",
        "Spectral",
        "Spectral_r",
        "Vega10",
        "Vega10_r",
        "Vega20",
        "Vega20_r",
        "Vega20b",
        "Vega20b_r",
        "Vega20c",
        "Vega20c_r",
        "Wistia",
        "Wistia_r",
        "YlGn",
        "YlGnBu",
        "YlGnBu_r",
        "YlGn_r",
        "YlOrBr",
        "YlOrBr_r",
        "YlOrRd",
        "YlOrRd_r",
        "afmhot",
        "afmhot_r",
        "autumn",
        "autumn_r",
        "binary",
        "binary_r",
        "bone",
        "bone_r",
        "brg",
        "brg_r",
        "bwr",
        "bwr_r",
        "cool",
        "cool_r",
        "coolwarm",
        "coolwarm_r",
        "copper",
        "copper_r",
        "cubehelix",
        "cubehelix_r",
        "flag",
        "flag_r",
        "gist_earth",
        "gist_earth_r",
        "gist_gray",
        "gist_gray_r",
        "gist_heat",
        "gist_heat_r",
        "gist_ncar",
        "gist_ncar_r",
        "gist_rainbow",
        "gist_rainbow_r",
        "gist_stern",
        "gist_stern_r",
        "gist_yarg",
        "gist_yarg_r",
        "gnuplot",
        "gnuplot2",
        "gnuplot2_r",
        "gnuplot_r",
        "gray",
        "gray_r",
        "hot",
        "hot_r",
        "hsv",
        "hsv_r",
        "inferno",
        "inferno_r",
        "jet",
        "jet_r",
        "magma",
        "magma_r",
        "nipy_spectral",
        "nipy_spectral_r",
        "ocean",
        "ocean_r",
        "pink",
        "pink_r",
        "plasma",
        "plasma_r",
        "prism",
        "prism_r",
        "rainbow",
        "rainbow_r",
        "seismic",
        "seismic_r",
        "spectral",
        "spectral_r",
        "spring",
        "spring_r",
        "summer",
        "summer_r",
        "tab10",
        "tab10_r",
        "tab20",
        "tab20_r",
        "tab20b",
        "tab20b_r",
        "tab20c",
        "tab20c_r",
        "terrain",
        "terrain_r",
        "viridis",
        "viridis_r",
        "winter",
        "winter_r"
       ],
       "description": "Colormap:",
       "index": 0,
       "layout": "IPY_MODEL_fbb8a16d0747495e99f5bfc2808109ff",
       "rows": 1,
       "style": "IPY_MODEL_c65cae16013b437aa57b924afe681ef4"
      }
     },
     "5b1f003557944ddbaf762229351297a2": {
      "model_module": "@jupyter-widgets/controls",
      "model_module_version": "1.1.0",
      "model_name": "SelectModel",
      "state": {
       "_options_labels": [
        "Test",
        "Train"
       ],
       "description": "Dataset:",
       "index": 1,
       "layout": "IPY_MODEL_c263abd70a4d48c4bcfb66f823a490a2",
       "rows": 1,
       "style": "IPY_MODEL_837fdb67e2164e4585e29fcedec8ac0b"
      }
     },
     "5e253d6e7f8c4ed0923d32aec9cb1e3e": {
      "model_module": "@jupyter-widgets/base",
      "model_module_version": "1.0.0",
      "model_name": "LayoutModel",
      "state": {
       "width": "25%"
      }
     },
     "5e6bbae775a34f77836b19a2499c8f34": {
      "model_module": "@jupyter-widgets/controls",
      "model_module_version": "1.1.0",
      "model_name": "IntTextModel",
      "state": {
       "description": "Feature to show:",
       "layout": "IPY_MODEL_f0f23f5f0b31443ca2fa8bc3fadaa94c",
       "step": 1,
       "style": "IPY_MODEL_9835ea8988394379a41b196038121392"
      }
     },
     "5fd493c4923a48cbae37d1b27bb1bebd": {
      "model_module": "@jupyter-widgets/base",
      "model_module_version": "1.0.0",
      "model_name": "LayoutModel",
      "state": {
       "width": "100%"
      }
     },
     "63b13f0a739e4d328e0f42d31cc13753": {
      "model_module": "@jupyter-widgets/base",
      "model_module_version": "1.0.0",
      "model_name": "LayoutModel",
      "state": {}
     },
     "655fb18010474bc7adfc93ea9f88f195": {
      "model_module": "@jupyter-widgets/controls",
      "model_module_version": "1.1.0",
      "model_name": "CheckboxModel",
      "state": {
       "description": "Visible",
       "disabled": false,
       "layout": "IPY_MODEL_fbb8a16d0747495e99f5bfc2808109ff",
       "style": "IPY_MODEL_72f1453f5ff44eaf83235ec62ee65a97",
       "value": true
      }
     },
     "66e7a0fb8d3a4b5b96a090468ee0630f": {
      "model_module": "@jupyter-widgets/controls",
      "model_module_version": "1.1.0",
      "model_name": "VBoxModel",
      "state": {
       "children": [
        "IPY_MODEL_b1759105ed0e4029ad8b4b853649b20a",
        "IPY_MODEL_4b5e2f4caa21408ab667a52dc4e97681"
       ],
       "layout": "IPY_MODEL_271ce6ca358f4348a9a676a9ec313fda"
      }
     },
     "6ab6f6dff1c74d81a479cdd6db7fd23d": {
      "model_module": "@jupyter-widgets/base",
      "model_module_version": "1.0.0",
      "model_name": "LayoutModel",
      "state": {
       "width": "100%"
      }
     },
     "6c3867c8e825497eba374bbee12868bb": {
      "model_module": "@jupyter-widgets/controls",
      "model_module_version": "1.1.0",
      "model_name": "SelectModel",
      "state": {
       "_options_labels": [
        "",
        "main_input",
        "conv2d-1",
        "batch-norm-1",
        "leaky-relu-1",
        "conv2d-2",
        "batch-norm-2",
        "leaky-relu-2",
        "conv2d-3",
        "batch-norm-3",
        "add-1",
        "leaky-relu-3",
        "conv2d-4",
        "batch-norm-4",
        "leaky-relu-4",
        "conv2d-5",
        "batch-norm-5",
        "add-2",
        "leaky-relu-5",
        "conv2d-6",
        "batch-norm-6",
        "leaky-relu-6",
        "conv2d-7",
        "batch-norm-7",
        "add-3",
        "leaky-relu-7",
        "conv2d-8",
        "batch-norm-8",
        "leaky-relu-8",
        "conv2d-9",
        "batch-norm-9",
        "add-4",
        "leaky-relu-9",
        "conv2d-10",
        "batch-norm-10",
        "leaky-relu-10",
        "conv2d-11",
        "batch-norm-11",
        "add-5",
        "leaky-relu-11",
        "conv2d-12",
        "batch-norm-12",
        "leaky-relu-12",
        "conv2d-13",
        "batch-norm-13",
        "leaky-relu-13"
       ],
       "description": "Features:",
       "index": 1,
       "layout": "IPY_MODEL_63b13f0a739e4d328e0f42d31cc13753",
       "rows": 1,
       "style": "IPY_MODEL_ca36085589ea4aae83167a05606f2ee9"
      }
     },
     "6d3e564d860847f9b3ded1f0a666141d": {
      "model_module": "@jupyter-widgets/controls",
      "model_module_version": "1.1.0",
      "model_name": "FloatSliderModel",
      "state": {
       "continuous_update": false,
       "description": "Zoom",
       "layout": "IPY_MODEL_76884212b09440088f9ffee6e5c484a4",
       "max": 3,
       "min": 0.5,
       "step": 0.1,
       "style": "IPY_MODEL_0dffa73cbed44de797de9757880b194d",
       "value": 1
      }
     },
     "6f31104f50c74f428b95d3f2afc9cee7": {
      "model_module": "@jupyter-widgets/controls",
      "model_module_version": "1.1.0",
      "model_name": "ButtonStyleModel",
      "state": {}
     },
     "705fd9c4bc8e41fe9efe90be5711d1af": {
      "model_module": "@jupyter-widgets/base",
      "model_module_version": "1.0.0",
      "model_name": "LayoutModel",
      "state": {
       "width": "100%"
      }
     },
     "71cfc547f6e548719d1136aa62a82b4d": {
      "model_module": "@jupyter-widgets/controls",
      "model_module_version": "1.1.0",
      "model_name": "ButtonStyleModel",
      "state": {}
     },
     "72f1453f5ff44eaf83235ec62ee65a97": {
      "model_module": "@jupyter-widgets/controls",
      "model_module_version": "1.1.0",
      "model_name": "DescriptionStyleModel",
      "state": {
       "description_width": ""
      }
     },
     "733ce58e1f1e44bf814c6651058c7195": {
      "model_module": "@jupyter-widgets/controls",
      "model_module_version": "1.1.0",
      "model_name": "LabelModel",
      "state": {
       "layout": "IPY_MODEL_cdd164f9e1e345edb568290864583612",
       "style": "IPY_MODEL_217042ec394e443cb966ee7f50e7d70e",
       "value": "of 4"
      }
     },
     "76884212b09440088f9ffee6e5c484a4": {
      "model_module": "@jupyter-widgets/base",
      "model_module_version": "1.0.0",
      "model_name": "LayoutModel",
      "state": {}
     },
     "7a68e61b8bb54e0eac2f7b5aa775dfb5": {
      "model_module": "@jupyter-widgets/controls",
      "model_module_version": "1.1.0",
      "model_name": "VBoxModel",
      "state": {
       "children": [
        "IPY_MODEL_d920c397643e496cb085df4e13aa21d7",
        "IPY_MODEL_655fb18010474bc7adfc93ea9f88f195",
        "IPY_MODEL_56f6ff9e50674984b90124f8428aefd8",
        "IPY_MODEL_9be5400ae11f4df280a22d357c7d8dde",
        "IPY_MODEL_3be538730bc442a0b3408132b13e0a21",
        "IPY_MODEL_0923567ad61746768ba409b22a19e778",
        "IPY_MODEL_5e6bbae775a34f77836b19a2499c8f34"
       ],
       "layout": "IPY_MODEL_2df28eb027f643ac89e58be0acbc5519"
      }
     },
     "7d758c7a5da947fbb1a9c3671ac8057a": {
      "model_module": "@jupyter-widgets/controls",
      "model_module_version": "1.1.0",
      "model_name": "IntTextModel",
      "state": {
       "layout": "IPY_MODEL_1fa1279ef6b94fb5a45eb551c19091e9",
       "step": 1,
       "style": "IPY_MODEL_c70bdb047b4f4f8d88e5c7f1ee0ea5ea",
       "value": 1
      }
     },
     "7e15b8ba58e34c98be93831feff33791": {
      "model_module": "@jupyter-widgets/controls",
      "model_module_version": "1.1.0",
      "model_name": "ButtonModel",
      "state": {
       "icon": "fast-backward",
       "layout": "IPY_MODEL_5fd493c4923a48cbae37d1b27bb1bebd",
       "style": "IPY_MODEL_9aa099ae3a1f4b42a0d45d1bc4e36958"
      }
     },
     "81b70d642cee4b15806a0ed6bde80999": {
      "model_module": "@jupyter-widgets/base",
      "model_module_version": "1.0.0",
      "model_name": "LayoutModel",
      "state": {}
     },
     "837fdb67e2164e4585e29fcedec8ac0b": {
      "model_module": "@jupyter-widgets/controls",
      "model_module_version": "1.1.0",
      "model_name": "DescriptionStyleModel",
      "state": {
       "description_width": ""
      }
     },
     "89765308b2544059b1cd31c85f5f1aea": {
      "model_module": "@jupyter-widgets/controls",
      "model_module_version": "1.1.0",
      "model_name": "ButtonModel",
      "state": {
       "icon": "refresh",
       "layout": "IPY_MODEL_5e253d6e7f8c4ed0923d32aec9cb1e3e",
       "style": "IPY_MODEL_555b06db5a3a42d6b6facd771ac3fff7"
      }
     },
     "8a191438cd5a4f90bf89cfc1de5d4dd3": {
      "model_module": "@jupyter-widgets/base",
      "model_module_version": "1.0.0",
      "model_name": "LayoutModel",
      "state": {}
     },
     "8b78b24619ac45d49a1ccbd3c6801a5f": {
      "model_module": "@jupyter-widgets/controls",
      "model_module_version": "1.1.0",
      "model_name": "AccordionModel",
      "state": {
       "_titles": {
        "0": "Residual CNN"
       },
       "children": [
        "IPY_MODEL_22231be8fd7745b9bc764cef17bc1b6a"
       ],
       "layout": "IPY_MODEL_3bcb4ce374a54d49addef5e241765ad6"
      }
     },
     "929c52b13ba3416e980762d30075433b": {
      "model_module": "@jupyter-widgets/controls",
      "model_module_version": "1.1.0",
      "model_name": "IntTextModel",
      "state": {
       "description": "Vertical space between layers:",
       "layout": "IPY_MODEL_fbb8a16d0747495e99f5bfc2808109ff",
       "step": 1,
       "style": "IPY_MODEL_42fb14e627004bf69ce83a88647494e5",
       "value": 30
      }
     },
     "92fcc589ae3f43e3835b39bebe0eb5af": {
      "model_module": "@jupyter-widgets/controls",
      "model_module_version": "1.1.0",
      "model_name": "DescriptionStyleModel",
      "state": {
       "description_width": "initial"
      }
     },
     "9823a1c0a34f40f5903189fc734bd864": {
      "model_module": "@jupyter-widgets/base",
      "model_module_version": "1.0.0",
      "model_name": "LayoutModel",
      "state": {
       "width": "100%"
      }
     },
     "9835ea8988394379a41b196038121392": {
      "model_module": "@jupyter-widgets/controls",
      "model_module_version": "1.1.0",
      "model_name": "DescriptionStyleModel",
      "state": {
       "description_width": "initial"
      }
     },
     "9aa099ae3a1f4b42a0d45d1bc4e36958": {
      "model_module": "@jupyter-widgets/controls",
      "model_module_version": "1.1.0",
      "model_name": "ButtonStyleModel",
      "state": {}
     },
     "9be5400ae11f4df280a22d357c7d8dde": {
      "model_module": "@jupyter-widgets/controls",
      "model_module_version": "1.1.0",
      "model_name": "HTMLModel",
      "state": {
       "layout": "IPY_MODEL_187ca2da185c48cd8396c48f75ac4eaf",
       "style": "IPY_MODEL_1fc06217b9474474ab88eb96e110cb72",
       "value": "<img src=\"data:image/gif;base64,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\"/>"
      }
     },
     "a1badee473d84e34b941b2c9f758497e": {
      "model_module": "@jupyter-widgets/controls",
      "model_module_version": "1.1.0",
      "model_name": "DescriptionStyleModel",
      "state": {
       "description_width": "initial"
      }
     },
     "a528fe0f71264a5a96bdb4c65e9ee777": {
      "model_module": "@jupyter-widgets/base",
      "model_module_version": "1.0.0",
      "model_name": "LayoutModel",
      "state": {
       "width": "100%"
      }
     },
     "adde82d52fef48b5870b3966a2401a13": {
      "model_module": "@jupyter-widgets/controls",
      "model_module_version": "1.1.0",
      "model_name": "ButtonModel",
      "state": {
       "description": "Play",
       "icon": "play",
       "layout": "IPY_MODEL_705fd9c4bc8e41fe9efe90be5711d1af",
       "style": "IPY_MODEL_6f31104f50c74f428b95d3f2afc9cee7"
      }
     },
     "af765efc36444d1a83f795dce70759ca": {
      "model_module": "@jupyter-widgets/controls",
      "model_module_version": "1.1.0",
      "model_name": "HBoxModel",
      "state": {
       "children": [
        "IPY_MODEL_c8ca60c826ea46f2baa7fc2e2c4e61c4",
        "IPY_MODEL_ca38c8c68b444c9097213485ef6dda23"
       ],
       "layout": "IPY_MODEL_0cca1cfa7b60414780471f0f4a6d5928"
      }
     },
     "b1759105ed0e4029ad8b4b853649b20a": {
      "model_module": "@jupyter-widgets/controls",
      "model_module_version": "1.1.0",
      "model_name": "HBoxModel",
      "state": {
       "children": [
        "IPY_MODEL_1dd255503b57462b81cfb7c78003a688",
        "IPY_MODEL_733ce58e1f1e44bf814c6651058c7195"
       ],
       "layout": "IPY_MODEL_0741e46b9b0f4bf5844bd3d85c4232d9"
      }
     },
     "b36f0ddf249b43749b2bc484734a1797": {
      "model_module": "@jupyter-widgets/controls",
      "model_module_version": "1.1.0",
      "model_name": "IntTextModel",
      "state": {
       "description": "Feature columns:",
       "layout": "IPY_MODEL_c71d3120be1a46b6be38508bfc832385",
       "step": 1,
       "style": "IPY_MODEL_1a3cf9f38b1d4d11a9f75692b93fc318",
       "value": 3
      }
     },
     "c263abd70a4d48c4bcfb66f823a490a2": {
      "model_module": "@jupyter-widgets/base",
      "model_module_version": "1.0.0",
      "model_name": "LayoutModel",
      "state": {}
     },
     "c2657c5043af450787a756d5ff70a797": {
      "model_module": "@jupyter-widgets/controls",
      "model_module_version": "1.1.0",
      "model_name": "ButtonModel",
      "state": {
       "icon": "forward",
       "layout": "IPY_MODEL_a528fe0f71264a5a96bdb4c65e9ee777",
       "style": "IPY_MODEL_df4d3667610c4c2c9673115f2a3802e6"
      }
     },
     "c65cae16013b437aa57b924afe681ef4": {
      "model_module": "@jupyter-widgets/controls",
      "model_module_version": "1.1.0",
      "model_name": "DescriptionStyleModel",
      "state": {
       "description_width": ""
      }
     },
     "c70bdb047b4f4f8d88e5c7f1ee0ea5ea": {
      "model_module": "@jupyter-widgets/controls",
      "model_module_version": "1.1.0",
      "model_name": "DescriptionStyleModel",
      "state": {
       "description_width": ""
      }
     },
     "c71d3120be1a46b6be38508bfc832385": {
      "model_module": "@jupyter-widgets/base",
      "model_module_version": "1.0.0",
      "model_name": "LayoutModel",
      "state": {}
     },
     "c896b0d8bfac44ee9db8a93e0d532a73": {
      "model_module": "@jupyter-widgets/controls",
      "model_module_version": "1.1.0",
      "model_name": "DescriptionStyleModel",
      "state": {
       "description_width": "initial"
      }
     },
     "c8ca60c826ea46f2baa7fc2e2c4e61c4": {
      "model_module": "@jupyter-widgets/controls",
      "model_module_version": "1.1.0",
      "model_name": "CheckboxModel",
      "state": {
       "description": "Show Targets",
       "disabled": false,
       "layout": "IPY_MODEL_fbb8a16d0747495e99f5bfc2808109ff",
       "style": "IPY_MODEL_c896b0d8bfac44ee9db8a93e0d532a73",
       "value": false
      }
     },
     "c9fdaf2f01a5424cb0bcf548fcd5fba0": {
      "model_module": "@jupyter-widgets/controls",
      "model_module_version": "1.1.0",
      "model_name": "DescriptionStyleModel",
      "state": {
       "description_width": "initial"
      }
     },
     "ca36085589ea4aae83167a05606f2ee9": {
      "model_module": "@jupyter-widgets/controls",
      "model_module_version": "1.1.0",
      "model_name": "DescriptionStyleModel",
      "state": {
       "description_width": ""
      }
     },
     "ca38c8c68b444c9097213485ef6dda23": {
      "model_module": "@jupyter-widgets/controls",
      "model_module_version": "1.1.0",
      "model_name": "CheckboxModel",
      "state": {
       "description": "Errors",
       "disabled": false,
       "layout": "IPY_MODEL_fbb8a16d0747495e99f5bfc2808109ff",
       "style": "IPY_MODEL_3432f3b78cfb4f89a48ed6a2baf5db45",
       "value": false
      }
     },
     "cdd164f9e1e345edb568290864583612": {
      "model_module": "@jupyter-widgets/base",
      "model_module_version": "1.0.0",
      "model_name": "LayoutModel",
      "state": {
       "width": "100px"
      }
     },
     "d301fe44fae94261be077dffdad67bd4": {
      "model_module": "@jupyter-widgets/base",
      "model_module_version": "1.0.0",
      "model_name": "LayoutModel",
      "state": {}
     },
     "d920c397643e496cb085df4e13aa21d7": {
      "model_module": "@jupyter-widgets/controls",
      "model_module_version": "1.1.0",
      "model_name": "SelectModel",
      "state": {
       "_options_labels": [
        "main_input",
        "conv2d-1",
        "batch-norm-1",
        "leaky-relu-1",
        "conv2d-2",
        "batch-norm-2",
        "leaky-relu-2",
        "conv2d-3",
        "batch-norm-3",
        "add-1",
        "leaky-relu-3",
        "conv2d-4",
        "batch-norm-4",
        "leaky-relu-4",
        "conv2d-5",
        "batch-norm-5",
        "add-2",
        "leaky-relu-5",
        "conv2d-6",
        "batch-norm-6",
        "leaky-relu-6",
        "conv2d-7",
        "batch-norm-7",
        "add-3",
        "leaky-relu-7",
        "conv2d-8",
        "batch-norm-8",
        "leaky-relu-8",
        "conv2d-9",
        "batch-norm-9",
        "add-4",
        "leaky-relu-9",
        "conv2d-10",
        "batch-norm-10",
        "leaky-relu-10",
        "conv2d-11",
        "batch-norm-11",
        "add-5",
        "leaky-relu-11",
        "conv2d-12",
        "batch-norm-12",
        "leaky-relu-12",
        "flatten-1",
        "policy_head",
        "conv2d-13",
        "batch-norm-13",
        "leaky-relu-13",
        "flatten-2",
        "dense-1",
        "leaky-relu-14",
        "value_head"
       ],
       "description": "Layer:",
       "index": 50,
       "layout": "IPY_MODEL_1dfa04d6b8a84c56887183f68e4335fd",
       "rows": 1,
       "style": "IPY_MODEL_41c3c7e072f04c6abf41f9133fc592fc"
      }
     },
     "d9da6ff4050f4edb99e198d819516bda": {
      "model_module": "@jupyter-widgets/controls",
      "model_module_version": "1.1.0",
      "model_name": "SliderStyleModel",
      "state": {
       "description_width": ""
      }
     },
     "dba1ab8cf7604081977cb1904bbd6e03": {
      "model_module": "@jupyter-widgets/output",
      "model_module_version": "1.0.0",
      "model_name": "OutputModel",
      "state": {
       "layout": "IPY_MODEL_d301fe44fae94261be077dffdad67bd4"
      }
     },
     "df4d3667610c4c2c9673115f2a3802e6": {
      "model_module": "@jupyter-widgets/controls",
      "model_module_version": "1.1.0",
      "model_name": "ButtonStyleModel",
      "state": {}
     },
     "eff0474a98d94315b818f72b70906a8e": {
      "model_module": "@jupyter-widgets/base",
      "model_module_version": "1.0.0",
      "model_name": "LayoutModel",
      "state": {}
     },
     "f0f23f5f0b31443ca2fa8bc3fadaa94c": {
      "model_module": "@jupyter-widgets/base",
      "model_module_version": "1.0.0",
      "model_name": "LayoutModel",
      "state": {}
     },
     "fbb8a16d0747495e99f5bfc2808109ff": {
      "model_module": "@jupyter-widgets/base",
      "model_module_version": "1.0.0",
      "model_name": "LayoutModel",
      "state": {}
     },
     "fd93bee2d6344272b7af327ceedbe041": {
      "model_module": "@jupyter-widgets/base",
      "model_module_version": "1.0.0",
      "model_name": "LayoutModel",
      "state": {}
     }
    },
    "version_major": 2,
    "version_minor": 0
   }
  }
 },
 "nbformat": 4,
 "nbformat_minor": 2
}
