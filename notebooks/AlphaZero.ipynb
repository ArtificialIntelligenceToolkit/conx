{
 "cells": [
  {
   "cell_type": "markdown",
   "metadata": {},
   "source": [
    "# AlphaZero\n",
    "\n",
    "This notebook is based on the paper:\n",
    "\n",
    "* [Mastering the game of Go without Human Knowledge](https://deepmind.com/research/publications/mastering-game-go-without-human-knowledge/)\n",
    "\n",
    "with additional insight from:\n",
    "\n",
    "* https://applied-data.science/blog/how-to-build-your-own-alphazero-ai-using-python-and-keras/\n",
    "* https://github.com/AppliedDataSciencePartners/DeepReinforcementLearning\n",
    "* https://github.com/junxiaosong/AlphaZero_Gomoku/blob/master/mcts_alphaZero.py\n",
    "\n",
    "\n",
    "This code use the new [conx](http://conx.readthedocs.io/en/latest/) layer that sits on top of Keras. Conx is designed to be simpler than Keras, more intuitive, and integrated visualizations.\n",
    "\n",
    "Currently this code requires the TensorFlow backend, as it has a function specific to TF."
   ]
  },
  {
   "cell_type": "markdown",
   "metadata": {},
   "source": [
    "## The Game\n",
    "\n",
    "First, let's look at a specific game. We can use many, but for this demonstration we'll pick ConnectFour. There is a good code base of different games and a game engine in the [code](https://github.com/Calysto/aima3/) based on [Artificial Intelligence: A Modern Approach](http://aima.cs.berkeley.edu/).\n",
    "\n",
    "If you would like to install aima3, you can use something like this in a cell:\n",
    "\n",
    "```bash\n",
    "! pip install aima3 -U --user\n",
    "```\n",
    "\n",
    "aima3 has other games that you can play as well as ConnectFour, including TicTacToe. \n",
    "aima3 has many AI algorithms wrapped up to play games. You can see more details about the game engine and ConnectFour here:\n",
    "\n",
    "* https://github.com/Calysto/aima3/blob/master/notebooks/games.ipynb\n",
    "* https://github.com/Calysto/aima3/blob/master/notebooks/connect_four.ipynb\n",
    "\n",
    "and other resources in that repository.\n",
    "\n",
    "We import some of these that will be useful in our AlphaZero exploration:"
   ]
  },
  {
   "cell_type": "code",
   "execution_count": 1,
   "metadata": {},
   "outputs": [],
   "source": [
    "from aima3.games import (ConnectFour, RandomPlayer, \n",
    "                         MCTSPlayer, QueryPlayer, Player,\n",
    "                         MiniMaxPlayer, AlphaBetaPlayer,\n",
    "                         AlphaBetaCutoffPlayer)\n",
    "import numpy as np"
   ]
  },
  {
   "cell_type": "markdown",
   "metadata": {},
   "source": [
    "Let's make a game:"
   ]
  },
  {
   "cell_type": "code",
   "execution_count": 2,
   "metadata": {},
   "outputs": [],
   "source": [
    "game = ConnectFour()"
   ]
  },
  {
   "cell_type": "markdown",
   "metadata": {},
   "source": [
    "and play a game between two random players:"
   ]
  },
  {
   "cell_type": "code",
   "execution_count": 3,
   "metadata": {},
   "outputs": [
    {
     "name": "stdout",
     "output_type": "stream",
     "text": [
      "Random-2 is thinking...\n",
      "Random-2 makes action (1, 1):\n",
      ". . . . . . . \n",
      ". . . . . . . \n",
      ". . . . . . . \n",
      ". . . . . . . \n",
      ". . . . . . . \n",
      ". . . . . . . \n",
      "X . . . . . . \n",
      "Random-1 is thinking...\n",
      "Random-1 makes action (3, 1):\n",
      ". . . . . . . \n",
      ". . . . . . . \n",
      ". . . . . . . \n",
      ". . . . . . . \n",
      ". . . . . . . \n",
      ". . . . . . . \n",
      "X . O . . . . \n",
      "Random-2 is thinking...\n",
      "Random-2 makes action (5, 1):\n",
      ". . . . . . . \n",
      ". . . . . . . \n",
      ". . . . . . . \n",
      ". . . . . . . \n",
      ". . . . . . . \n",
      ". . . . . . . \n",
      "X . O . X . . \n",
      "Random-1 is thinking...\n",
      "Random-1 makes action (4, 1):\n",
      ". . . . . . . \n",
      ". . . . . . . \n",
      ". . . . . . . \n",
      ". . . . . . . \n",
      ". . . . . . . \n",
      ". . . . . . . \n",
      "X . O O X . . \n",
      "Random-2 is thinking...\n",
      "Random-2 makes action (3, 2):\n",
      ". . . . . . . \n",
      ". . . . . . . \n",
      ". . . . . . . \n",
      ". . . . . . . \n",
      ". . . . . . . \n",
      ". . X . . . . \n",
      "X . O O X . . \n",
      "Random-1 is thinking...\n",
      "Random-1 makes action (7, 1):\n",
      ". . . . . . . \n",
      ". . . . . . . \n",
      ". . . . . . . \n",
      ". . . . . . . \n",
      ". . . . . . . \n",
      ". . X . . . . \n",
      "X . O O X . O \n",
      "Random-2 is thinking...\n",
      "Random-2 makes action (7, 2):\n",
      ". . . . . . . \n",
      ". . . . . . . \n",
      ". . . . . . . \n",
      ". . . . . . . \n",
      ". . . . . . . \n",
      ". . X . . . X \n",
      "X . O O X . O \n",
      "Random-1 is thinking...\n",
      "Random-1 makes action (5, 2):\n",
      ". . . . . . . \n",
      ". . . . . . . \n",
      ". . . . . . . \n",
      ". . . . . . . \n",
      ". . . . . . . \n",
      ". . X . O . X \n",
      "X . O O X . O \n",
      "Random-2 is thinking...\n",
      "Random-2 makes action (4, 2):\n",
      ". . . . . . . \n",
      ". . . . . . . \n",
      ". . . . . . . \n",
      ". . . . . . . \n",
      ". . . . . . . \n",
      ". . X X O . X \n",
      "X . O O X . O \n",
      "Random-1 is thinking...\n",
      "Random-1 makes action (1, 2):\n",
      ". . . . . . . \n",
      ". . . . . . . \n",
      ". . . . . . . \n",
      ". . . . . . . \n",
      ". . . . . . . \n",
      "O . X X O . X \n",
      "X . O O X . O \n",
      "Random-2 is thinking...\n",
      "Random-2 makes action (4, 3):\n",
      ". . . . . . . \n",
      ". . . . . . . \n",
      ". . . . . . . \n",
      ". . . . . . . \n",
      ". . . X . . . \n",
      "O . X X O . X \n",
      "X . O O X . O \n",
      "Random-1 is thinking...\n",
      "Random-1 makes action (3, 3):\n",
      ". . . . . . . \n",
      ". . . . . . . \n",
      ". . . . . . . \n",
      ". . . . . . . \n",
      ". . O X . . . \n",
      "O . X X O . X \n",
      "X . O O X . O \n",
      "Random-2 is thinking...\n",
      "Random-2 makes action (1, 3):\n",
      ". . . . . . . \n",
      ". . . . . . . \n",
      ". . . . . . . \n",
      ". . . . . . . \n",
      "X . O X . . . \n",
      "O . X X O . X \n",
      "X . O O X . O \n",
      "Random-1 is thinking...\n",
      "Random-1 makes action (3, 4):\n",
      ". . . . . . . \n",
      ". . . . . . . \n",
      ". . . . . . . \n",
      ". . O . . . . \n",
      "X . O X . . . \n",
      "O . X X O . X \n",
      "X . O O X . O \n",
      "Random-2 is thinking...\n",
      "Random-2 makes action (1, 4):\n",
      ". . . . . . . \n",
      ". . . . . . . \n",
      ". . . . . . . \n",
      "X . O . . . . \n",
      "X . O X . . . \n",
      "O . X X O . X \n",
      "X . O O X . O \n",
      "Random-1 is thinking...\n",
      "Random-1 makes action (1, 5):\n",
      ". . . . . . . \n",
      ". . . . . . . \n",
      "O . . . . . . \n",
      "X . O . . . . \n",
      "X . O X . . . \n",
      "O . X X O . X \n",
      "X . O O X . O \n",
      "Random-2 is thinking...\n",
      "Random-2 makes action (2, 1):\n",
      ". . . . . . . \n",
      ". . . . . . . \n",
      "O . . . . . . \n",
      "X . O . . . . \n",
      "X . O X . . . \n",
      "O . X X O . X \n",
      "X X O O X . O \n",
      "Random-1 is thinking...\n",
      "Random-1 makes action (6, 1):\n",
      ". . . . . . . \n",
      ". . . . . . . \n",
      "O . . . . . . \n",
      "X . O . . . . \n",
      "X . O X . . . \n",
      "O . X X O . X \n",
      "X X O O X O O \n",
      "Random-2 is thinking...\n",
      "Random-2 makes action (1, 6):\n",
      ". . . . . . . \n",
      "X . . . . . . \n",
      "O . . . . . . \n",
      "X . O . . . . \n",
      "X . O X . . . \n",
      "O . X X O . X \n",
      "X X O O X O O \n",
      "Random-1 is thinking...\n",
      "Random-1 makes action (3, 5):\n",
      ". . . . . . . \n",
      "X . . . . . . \n",
      "O . O . . . . \n",
      "X . O . . . . \n",
      "X . O X . . . \n",
      "O . X X O . X \n",
      "X X O O X O O \n",
      "Random-2 is thinking...\n",
      "Random-2 makes action (2, 2):\n",
      ". . . . . . . \n",
      "X . . . . . . \n",
      "O . O . . . . \n",
      "X . O . . . . \n",
      "X . O X . . . \n",
      "O X X X O . X \n",
      "X X O O X O O \n",
      "Random-1 is thinking...\n",
      "Random-1 makes action (4, 4):\n",
      ". . . . . . . \n",
      "X . . . . . . \n",
      "O . O . . . . \n",
      "X . O O . . . \n",
      "X . O X . . . \n",
      "O X X X O . X \n",
      "X X O O X O O \n",
      "Random-2 is thinking...\n",
      "Random-2 makes action (5, 3):\n",
      ". . . . . . . \n",
      "X . . . . . . \n",
      "O . O . . . . \n",
      "X . O O . . . \n",
      "X . O X X . . \n",
      "O X X X O . X \n",
      "X X O O X O O \n",
      "Random-1 is thinking...\n",
      "Random-1 makes action (5, 4):\n",
      ". . . . . . . \n",
      "X . . . . . . \n",
      "O . O . . . . \n",
      "X . O O O . . \n",
      "X . O X X . . \n",
      "O X X X O . X \n",
      "X X O O X O O \n",
      "Random-2 is thinking...\n",
      "Random-2 makes action (7, 3):\n",
      ". . . . . . . \n",
      "X . . . . . . \n",
      "O . O . . . . \n",
      "X . O O O . . \n",
      "X . O X X . X \n",
      "O X X X O . X \n",
      "X X O O X O O \n",
      "Random-1 is thinking...\n",
      "Random-1 makes action (6, 2):\n",
      ". . . . . . . \n",
      "X . . . . . . \n",
      "O . O . . . . \n",
      "X . O O O . . \n",
      "X . O X X . X \n",
      "O X X X O O X \n",
      "X X O O X O O \n",
      "Random-2 is thinking...\n",
      "Random-2 makes action (7, 4):\n",
      ". . . . . . . \n",
      "X . . . . . . \n",
      "O . O . . . . \n",
      "X . O O O . X \n",
      "X . O X X . X \n",
      "O X X X O O X \n",
      "X X O O X O O \n",
      "Random-1 is thinking...\n",
      "Random-1 makes action (7, 5):\n",
      ". . . . . . . \n",
      "X . . . . . . \n",
      "O . O . . . O \n",
      "X . O O O . X \n",
      "X . O X X . X \n",
      "O X X X O O X \n",
      "X X O O X O O \n",
      "Random-2 is thinking...\n",
      "Random-2 makes action (2, 3):\n",
      ". . . . . . . \n",
      "X . . . . . . \n",
      "O . O . . . O \n",
      "X . O O O . X \n",
      "X X O X X . X \n",
      "O X X X O O X \n",
      "X X O O X O O \n",
      "Random-1 is thinking...\n",
      "Random-1 makes action (5, 5):\n",
      ". . . . . . . \n",
      "X . . . . . . \n",
      "O . O . O . O \n",
      "X . O O O . X \n",
      "X X O X X . X \n",
      "O X X X O O X \n",
      "X X O O X O O \n",
      "Random-2 is thinking...\n",
      "Random-2 makes action (3, 6):\n",
      ". . . . . . . \n",
      "X . X . . . . \n",
      "O . O . O . O \n",
      "X . O O O . X \n",
      "X X O X X . X \n",
      "O X X X O O X \n",
      "X X O O X O O \n",
      "Random-1 is thinking...\n",
      "Random-1 makes action (2, 4):\n",
      ". . . . . . . \n",
      "X . X . . . . \n",
      "O . O . O . O \n",
      "X O O O O . X \n",
      "X X O X X . X \n",
      "O X X X O O X \n",
      "X X O O X O O \n",
      "***** Random-1 wins!\n"
     ]
    },
    {
     "data": {
      "text/plain": [
       "['Random-1']"
      ]
     },
     "execution_count": 3,
     "metadata": {},
     "output_type": "execute_result"
    }
   ],
   "source": [
    "game.play_game(RandomPlayer(\"Random-1\"), RandomPlayer(\"Random-2\"))"
   ]
  },
  {
   "cell_type": "markdown",
   "metadata": {},
   "source": [
    "We can also play a match (a bunch of games) or even a tournament between a bunch of players.\n",
    "\n",
    "```python\n",
    "p1 = RandomPlayer(\"Random-1\")\n",
    "p2 = MiniMax(\"MiniMax-1\")\n",
    "p3 = AlphaBetaCutoff(\"ABCutoff-1\")\n",
    "\n",
    "game.play_matches(10, p1, p2)\n",
    "\n",
    "game.play_tournament(1, p1, p2, p3)\n",
    "```\n",
    "\n",
    "Can you beat RandomPlayer? Hope so!\n",
    "\n",
    "Can you beat MiniMax? No! But it takes too long.\n",
    "\n",
    "Humans enter their commands by (column, row) where column starts at 1 from left, and row starts at 1 from bottom."
   ]
  },
  {
   "cell_type": "code",
   "execution_count": 4,
   "metadata": {
    "scrolled": true
   },
   "outputs": [],
   "source": [
    "# game.play_game(AlphaBetaCutoffPlayer(\"AlphaBetaCutoff\"), HumanPlayer(\"Your Name Here\"))"
   ]
  },
  {
   "cell_type": "markdown",
   "metadata": {},
   "source": [
    "## The Network\n",
    "\n",
    "Net, we are going to build the same kind of network described in the AlphaZero paper.\n",
    "\n",
    "Make sure to set your Keras backend to TensorFlow for now, as we have a function that is written at that level."
   ]
  },
  {
   "cell_type": "code",
   "execution_count": 5,
   "metadata": {},
   "outputs": [
    {
     "name": "stderr",
     "output_type": "stream",
     "text": [
      "Using TensorFlow backend.\n",
      "/usr/lib/python3.6/importlib/_bootstrap.py:219: RuntimeWarning: compiletime version 3.5 of module 'tensorflow.python.framework.fast_tensor_util' does not match runtime version 3.6\n",
      "  return f(*args, **kwds)\n",
      "conx, version 3.5.14\n"
     ]
    }
   ],
   "source": [
    "import conx as cx\n",
    "from aima3.games import Game\n",
    "from keras import regularizers"
   ]
  },
  {
   "cell_type": "code",
   "execution_count": 6,
   "metadata": {},
   "outputs": [],
   "source": [
    "## NEED TO REWRITE THIS FUNCTION IN KERAS:\n",
    "\n",
    "import tensorflow as tf\n",
    "\n",
    "def softmax_cross_entropy_with_logits(y_true, y_pred):\n",
    "    p = y_pred\n",
    "    pi = y_true\n",
    "    zero = tf.zeros(shape = tf.shape(pi), dtype=tf.float32)\n",
    "    where = tf.equal(pi, zero)\n",
    "    negatives = tf.fill(tf.shape(pi), -100.0) \n",
    "    p = tf.where(where, negatives, p)\n",
    "    loss = tf.nn.softmax_cross_entropy_with_logits(labels = pi, logits = p)\n",
    "    return loss"
   ]
  },
  {
   "cell_type": "markdown",
   "metadata": {},
   "source": [
    "### Representations\n",
    "\n",
    "The state board is the most important bits of information. How to represent it? Possible ideas:\n",
    "\n",
    "* a vector of 42 values\n",
    "* a 6x7 matrix\n",
    "\n",
    "We decided to represent the state of the board as 2 6x7 matrices: one for representing the current player's pieces, and the other for the opponent pieces.\n",
    "\n",
    "We also need to represent actions. Possible ideas:\n",
    "\n",
    "* 7 outputs, each representing a column to drop a piece into\n",
    "* two outputs, one representing row, and the other column\n",
    "* 6x7 matrix, each representing the position on the grid\n",
    "* 42 outputs, each representing the position on the grid\n",
    "\n",
    "We decided to represent them as the final option: 42 outputs."
   ]
  },
  {
   "cell_type": "markdown",
   "metadata": {},
   "source": [
    "The network architecture in AlphaZero is quite large, and has repeating blocks of layers. To help in the construction of the network, we define some functions"
   ]
  },
  {
   "cell_type": "code",
   "execution_count": 7,
   "metadata": {},
   "outputs": [],
   "source": [
    "def add_conv_block(net, input_layer):\n",
    "    cname = net.add(cx.Conv2DLayer(\"conv2d-%d\", \n",
    "                    filters=75, \n",
    "                    kernel_size=(4,4), \n",
    "                    padding='same', \n",
    "                    use_bias=False,\n",
    "                    activation='linear', \n",
    "                    kernel_regularizer=regularizers.l2(0.0001)))\n",
    "    bname = net.add(cx.BatchNormalizationLayer(\"batch-norm-%d\", axis=1))\n",
    "    lname = net.add(cx.LeakyReLULayer(\"leaky-relu-%d\"))\n",
    "    net.connect(input_layer, cname)\n",
    "    net.connect(cname, bname)\n",
    "    net.connect(bname, lname)\n",
    "    return lname\n",
    "\n",
    "def add_residual_block(net, input_layer):\n",
    "    prev_layer = add_conv_block(net, input_layer)\n",
    "    cname = net.add(cx.Conv2DLayer(\"conv2d-%d\",\n",
    "        filters=75,\n",
    "        kernel_size=(4,4),\n",
    "        padding='same',\n",
    "        use_bias=False,\n",
    "        activation='linear',\n",
    "        kernel_regularizer=regularizers.l2(0.0001)))\n",
    "    bname = net.add(cx.BatchNormalizationLayer(\"batch-norm-%d\", axis=1))\n",
    "    aname = net.add(cx.AddLayer(\"add-%d\"))\n",
    "    lname = net.add(cx.LeakyReLULayer(\"leaky-relu-%d\"))\n",
    "    net.connect(prev_layer, cname)\n",
    "    net.connect(cname, bname)\n",
    "    net.connect(input_layer, aname)\n",
    "    net.connect(bname, aname)\n",
    "    net.connect(aname, lname)\n",
    "    return lname\n",
    "\n",
    "def add_value_block(net, input_layer):\n",
    "    l1 = net.add(cx.Conv2DLayer(\"conv2d-%d\",\n",
    "        filters=1,\n",
    "        kernel_size=(1,1),\n",
    "        padding='same',\n",
    "        use_bias=False,\n",
    "        activation='linear',\n",
    "        kernel_regularizer=regularizers.l2(0.0001)))\n",
    "    l2 = net.add(cx.BatchNormalizationLayer(\"batch-norm-%d\", axis=1))\n",
    "    l3 = net.add(cx.LeakyReLULayer(\"leaky-relu-%d\"))\n",
    "    l4 = net.add(cx.FlattenLayer(\"flatten-%d\"))\n",
    "    l5 = net.add(cx.Layer(\"dense-%d\",\n",
    "        20,\n",
    "        use_bias=False,\n",
    "        activation='linear',\n",
    "        kernel_regularizer=regularizers.l2(0.0001)))\n",
    "    l6 = net.add(cx.LeakyReLULayer(\"leaky-relu-%d\"))\n",
    "    l7 = net.add(cx.Layer('value_head',\n",
    "        1,\n",
    "        use_bias=False,\n",
    "        activation='tanh',\n",
    "        kernel_regularizer=regularizers.l2(0.0001)))\n",
    "    net.connect(input_layer, l1)\n",
    "    net.connect(l1, l2)\n",
    "    net.connect(l2, l3)\n",
    "    net.connect(l3, l4)\n",
    "    net.connect(l4, l5)\n",
    "    net.connect(l5, l6)\n",
    "    net.connect(l6, l7)\n",
    "    return l7\n",
    "\n",
    "def add_policy_block(net, input_layer):\n",
    "    l1 = net.add(cx.Conv2DLayer(\"conv2d-%d\",\n",
    "        filters=2,\n",
    "        kernel_size=(1,1),\n",
    "        padding='same',\n",
    "        use_bias=False,\n",
    "        activation='linear',\n",
    "        kernel_regularizer = regularizers.l2(0.0001)))\n",
    "    l2 = net.add(cx.BatchNormalizationLayer(\"batch-norm-%d\", axis=1))\n",
    "    l3 = net.add(cx.LeakyReLULayer(\"leaky-relu-%d\"))\n",
    "    l4 = net.add(cx.FlattenLayer(\"flatten-%d\"))\n",
    "    l5 = net.add(cx.Layer('policy_head',\n",
    "            42,\n",
    "            use_bias=False,\n",
    "            activation='linear',\n",
    "            kernel_regularizer=regularizers.l2(0.0001)))\n",
    "    net.connect(input_layer, l1)\n",
    "    net.connect(l1, l2)\n",
    "    net.connect(l2, l3)\n",
    "    net.connect(l3, l4)\n",
    "    net.connect(l4, l5)\n",
    "    return l5"
   ]
  },
  {
   "cell_type": "code",
   "execution_count": 8,
   "metadata": {},
   "outputs": [],
   "source": [
    "def make_network(game, residuals=5):\n",
    "    net = cx.Network(\"AlphaZero Network\")\n",
    "    net.add(cx.Layer(\"main_input\", (game.v, game.h, 2)))\n",
    "    out_layer = add_conv_block(net, \"main_input\")\n",
    "    for i in range(residuals):\n",
    "        out_layer = add_residual_block(net, out_layer)\n",
    "    add_policy_block(net, out_layer)\n",
    "    add_value_block(net, out_layer)\n",
    "    net.compile(loss={'value_head': 'mean_squared_error', \n",
    "                  'policy_head': softmax_cross_entropy_with_logits},\n",
    "            optimizer=cx.SGD(lr=0.1, momentum=0.9),\n",
    "            loss_weights={'value_head': 0.5, \n",
    "                          'policy_head': 0.5})\n",
    "    for layer in net.layers:\n",
    "        if layer.kind() == \"hidden\":\n",
    "            layer.visible = False\n",
    "    return net"
   ]
  },
  {
   "cell_type": "code",
   "execution_count": 9,
   "metadata": {},
   "outputs": [],
   "source": [
    "game = ConnectFour()\n",
    "net = make_network(game)"
   ]
  },
  {
   "cell_type": "code",
   "execution_count": 10,
   "metadata": {},
   "outputs": [
    {
     "name": "stdout",
     "output_type": "stream",
     "text": [
      "__________________________________________________________________________________________________\n",
      "Layer (type)                    Output Shape         Param #     Connected to                     \n",
      "==================================================================================================\n",
      "main_input (InputLayer)         (None, 6, 7, 2)      0                                            \n",
      "__________________________________________________________________________________________________\n",
      "conv2d-1 (Conv2D)               (None, 6, 7, 75)     2400        main_input[0][0]                 \n",
      "__________________________________________________________________________________________________\n",
      "batch-norm-1 (BatchNormalizatio (None, 6, 7, 75)     24          conv2d-1[0][0]                   \n",
      "__________________________________________________________________________________________________\n",
      "leaky-relu-1 (LeakyReLU)        (None, 6, 7, 75)     0           batch-norm-1[0][0]               \n",
      "__________________________________________________________________________________________________\n",
      "conv2d-2 (Conv2D)               (None, 6, 7, 75)     90000       leaky-relu-1[0][0]               \n",
      "__________________________________________________________________________________________________\n",
      "batch-norm-2 (BatchNormalizatio (None, 6, 7, 75)     24          conv2d-2[0][0]                   \n",
      "__________________________________________________________________________________________________\n",
      "leaky-relu-2 (LeakyReLU)        (None, 6, 7, 75)     0           batch-norm-2[0][0]               \n",
      "__________________________________________________________________________________________________\n",
      "conv2d-3 (Conv2D)               (None, 6, 7, 75)     90000       leaky-relu-2[0][0]               \n",
      "__________________________________________________________________________________________________\n",
      "batch-norm-3 (BatchNormalizatio (None, 6, 7, 75)     24          conv2d-3[0][0]                   \n",
      "__________________________________________________________________________________________________\n",
      "add-1 (Add)                     (None, 6, 7, 75)     0           leaky-relu-1[0][0]               \n",
      "                                                                 batch-norm-3[0][0]               \n",
      "__________________________________________________________________________________________________\n",
      "leaky-relu-3 (LeakyReLU)        (None, 6, 7, 75)     0           add-1[0][0]                      \n",
      "__________________________________________________________________________________________________\n",
      "conv2d-4 (Conv2D)               (None, 6, 7, 75)     90000       leaky-relu-3[0][0]               \n",
      "__________________________________________________________________________________________________\n",
      "batch-norm-4 (BatchNormalizatio (None, 6, 7, 75)     24          conv2d-4[0][0]                   \n",
      "__________________________________________________________________________________________________\n",
      "leaky-relu-4 (LeakyReLU)        (None, 6, 7, 75)     0           batch-norm-4[0][0]               \n",
      "__________________________________________________________________________________________________\n",
      "conv2d-5 (Conv2D)               (None, 6, 7, 75)     90000       leaky-relu-4[0][0]               \n",
      "__________________________________________________________________________________________________\n",
      "batch-norm-5 (BatchNormalizatio (None, 6, 7, 75)     24          conv2d-5[0][0]                   \n",
      "__________________________________________________________________________________________________\n",
      "add-2 (Add)                     (None, 6, 7, 75)     0           leaky-relu-3[0][0]               \n",
      "                                                                 batch-norm-5[0][0]               \n",
      "__________________________________________________________________________________________________\n",
      "leaky-relu-5 (LeakyReLU)        (None, 6, 7, 75)     0           add-2[0][0]                      \n",
      "__________________________________________________________________________________________________\n",
      "conv2d-6 (Conv2D)               (None, 6, 7, 75)     90000       leaky-relu-5[0][0]               \n",
      "__________________________________________________________________________________________________\n",
      "batch-norm-6 (BatchNormalizatio (None, 6, 7, 75)     24          conv2d-6[0][0]                   \n",
      "__________________________________________________________________________________________________\n",
      "leaky-relu-6 (LeakyReLU)        (None, 6, 7, 75)     0           batch-norm-6[0][0]               \n",
      "__________________________________________________________________________________________________\n",
      "conv2d-7 (Conv2D)               (None, 6, 7, 75)     90000       leaky-relu-6[0][0]               \n",
      "__________________________________________________________________________________________________\n",
      "batch-norm-7 (BatchNormalizatio (None, 6, 7, 75)     24          conv2d-7[0][0]                   \n",
      "__________________________________________________________________________________________________\n",
      "add-3 (Add)                     (None, 6, 7, 75)     0           leaky-relu-5[0][0]               \n",
      "                                                                 batch-norm-7[0][0]               \n",
      "__________________________________________________________________________________________________\n",
      "leaky-relu-7 (LeakyReLU)        (None, 6, 7, 75)     0           add-3[0][0]                      \n",
      "__________________________________________________________________________________________________\n",
      "conv2d-8 (Conv2D)               (None, 6, 7, 75)     90000       leaky-relu-7[0][0]               \n",
      "__________________________________________________________________________________________________\n",
      "batch-norm-8 (BatchNormalizatio (None, 6, 7, 75)     24          conv2d-8[0][0]                   \n",
      "__________________________________________________________________________________________________\n",
      "leaky-relu-8 (LeakyReLU)        (None, 6, 7, 75)     0           batch-norm-8[0][0]               \n",
      "__________________________________________________________________________________________________\n",
      "conv2d-9 (Conv2D)               (None, 6, 7, 75)     90000       leaky-relu-8[0][0]               \n",
      "__________________________________________________________________________________________________\n",
      "batch-norm-9 (BatchNormalizatio (None, 6, 7, 75)     24          conv2d-9[0][0]                   \n",
      "__________________________________________________________________________________________________\n",
      "add-4 (Add)                     (None, 6, 7, 75)     0           leaky-relu-7[0][0]               \n",
      "                                                                 batch-norm-9[0][0]               \n",
      "__________________________________________________________________________________________________\n",
      "leaky-relu-9 (LeakyReLU)        (None, 6, 7, 75)     0           add-4[0][0]                      \n",
      "__________________________________________________________________________________________________\n",
      "conv2d-10 (Conv2D)              (None, 6, 7, 75)     90000       leaky-relu-9[0][0]               \n",
      "__________________________________________________________________________________________________\n",
      "batch-norm-10 (BatchNormalizati (None, 6, 7, 75)     24          conv2d-10[0][0]                  \n",
      "__________________________________________________________________________________________________\n",
      "leaky-relu-10 (LeakyReLU)       (None, 6, 7, 75)     0           batch-norm-10[0][0]              \n",
      "__________________________________________________________________________________________________\n",
      "conv2d-11 (Conv2D)              (None, 6, 7, 75)     90000       leaky-relu-10[0][0]              \n",
      "__________________________________________________________________________________________________\n",
      "batch-norm-11 (BatchNormalizati (None, 6, 7, 75)     24          conv2d-11[0][0]                  \n",
      "__________________________________________________________________________________________________\n",
      "add-5 (Add)                     (None, 6, 7, 75)     0           leaky-relu-9[0][0]               \n",
      "                                                                 batch-norm-11[0][0]              \n",
      "__________________________________________________________________________________________________\n",
      "leaky-relu-11 (LeakyReLU)       (None, 6, 7, 75)     0           add-5[0][0]                      \n",
      "__________________________________________________________________________________________________\n",
      "conv2d-13 (Conv2D)              (None, 6, 7, 1)      75          leaky-relu-11[0][0]              \n",
      "__________________________________________________________________________________________________\n",
      "batch-norm-13 (BatchNormalizati (None, 6, 7, 1)      24          conv2d-13[0][0]                  \n",
      "__________________________________________________________________________________________________\n",
      "conv2d-12 (Conv2D)              (None, 6, 7, 2)      150         leaky-relu-11[0][0]              \n",
      "__________________________________________________________________________________________________\n",
      "leaky-relu-13 (LeakyReLU)       (None, 6, 7, 1)      0           batch-norm-13[0][0]              \n",
      "__________________________________________________________________________________________________\n",
      "batch-norm-12 (BatchNormalizati (None, 6, 7, 2)      24          conv2d-12[0][0]                  \n",
      "__________________________________________________________________________________________________\n",
      "flatten-2 (Flatten)             (None, 42)           0           leaky-relu-13[0][0]              \n",
      "__________________________________________________________________________________________________\n",
      "leaky-relu-12 (LeakyReLU)       (None, 6, 7, 2)      0           batch-norm-12[0][0]              \n",
      "__________________________________________________________________________________________________\n",
      "dense-1 (Dense)                 (None, 20)           840         flatten-2[0][0]                  \n",
      "__________________________________________________________________________________________________\n",
      "flatten-1 (Flatten)             (None, 84)           0           leaky-relu-12[0][0]              \n",
      "__________________________________________________________________________________________________\n",
      "leaky-relu-14 (LeakyReLU)       (None, 20)           0           dense-1[0][0]                    \n",
      "__________________________________________________________________________________________________\n",
      "policy_head (Dense)             (None, 42)           3528        flatten-1[0][0]                  \n",
      "__________________________________________________________________________________________________\n",
      "value_head (Dense)              (None, 1)            20          leaky-relu-14[0][0]              \n",
      "==================================================================================================\n",
      "Total params: 907,325\n",
      "Trainable params: 907,169\n",
      "Non-trainable params: 156\n",
      "__________________________________________________________________________________________________\n"
     ]
    }
   ],
   "source": [
    "net.model.summary()"
   ]
  },
  {
   "cell_type": "code",
   "execution_count": 11,
   "metadata": {},
   "outputs": [
    {
     "data": {
      "text/plain": [
       "51"
      ]
     },
     "execution_count": 11,
     "metadata": {},
     "output_type": "execute_result"
    }
   ],
   "source": [
    "len(net.layers)"
   ]
  },
  {
   "cell_type": "code",
   "execution_count": 12,
   "metadata": {
    "scrolled": false
   },
   "outputs": [
    {
     "data": {
      "application/javascript": [
       "\n",
       "require(['base/js/namespace'], function(Jupyter) {\n",
       "    Jupyter.notebook.kernel.comm_manager.register_target('conx_svg_control', function(comm, msg) {\n",
       "        comm.on_msg(function(msg) {\n",
       "            var data = msg[\"content\"][\"data\"];\n",
       "            var images = document.getElementsByClassName(data[\"class\"]);\n",
       "            for (var i = 0; i < images.length; i++) {\n",
       "                if (data[\"href\"]) {\n",
       "                    images[i].setAttributeNS(null, \"href\", data[\"href\"]);\n",
       "                }\n",
       "                if (data[\"src\"]) {\n",
       "                    images[i].setAttributeNS(null, \"src\", data[\"src\"]);\n",
       "                }\n",
       "            }\n",
       "        });\n",
       "    });\n",
       "});\n"
      ],
      "text/plain": [
       "<IPython.core.display.Javascript object>"
      ]
     },
     "metadata": {},
     "output_type": "display_data"
    },
    {
     "data": {
      "text/html": [
       "<svg id='AlphaZero Network' xmlns='http://www.w3.org/2000/svg' viewBox=\"0 0 550 300\" max-width=\"100%\" height=\"780px\" image-rendering=\"pixelated\">\n",
       "    <defs>\n",
       "        <marker id=\"arrow\" markerWidth=\"10\" markerHeight=\"10\" refX=\"9\" refY=\"3\" orient=\"auto\" markerUnits=\"strokeWidth\">\n",
       "          <path d=\"M0,0 L0,6 L9,3 z\" fill=\"black\" />\n",
       "        </marker>\n",
       "    </defs><text x=\"275.0\" y=\"12.5\" font-family=\"monospace\" font-size=\"15\" text-anchor=\"middle\" alignment-baseline=\"central\">AlphaZero Network</text><rect x=\"82.33333333333334\" y=\"24\" width=\"202\" height=\"52\" style=\"fill:none;stroke:black;stroke-width:2\"/><image id=\"AlphaZero Network_policy_head_1\" class=\"AlphaZero Network_policy_head\" x=\"83.33333333333334\" y=\"25\" height=\"50\" width=\"200\" preserveAspectRatio=\"none\" href=\"data:image/gif;base64,R0lGODdhKgABAIcAAP/9/QAAAAAAAAAAAAAAAAAAAAAAAAAAAAAAAAAAAAAAAAAAAAAAAAAAAAAAAAAAAAAAAAAAAAAAAAAAAAAAAAAAAAAAAAAAAAAAAAAAAAAAAAAAAAAAAAAAAAAAAAAAAAAAAAAAAAAAAAAAAAAAAAAAAAAAAAAAAAAAAAAAAAAAAAAAAAAAAAAAAAAAAAAAAAAAAAAAAAAAAAAAAAAAAAAAAAAAAAAAAAAAAAAAAAAAAAAAAAAAAAAAAAAAAAAAAAAAAAAAAAAAAAAAAAAAAAAAAAAAAAAAAAAAAAAAAAAAAAAAAAAAAAAAAAAAAAAAAAAAAAAAAAAAAAAAAAAAAAAAAAAAAAAAAAAAAAAAAAAAAAAAAAAAAAAAAAAAAAAAAAAAAAAAAAAAAAAAAAAAAAAAAAAAAAAAAAAAAAAAAAAAAAAAAAAAAAAAAAAAAAAAAAAAAAAAAAAAAAAAAAAAAAAAAAAAAAAAAAAAAAAAAAAAAAAAAAAAAAAAAAAAAAAAAAAAAAAAAAAAAAAAAAAAAAAAAAAAAAAAAAAAAAAAAAAAAAAAAAAAAAAAAAAAAAAAAAAAAAAAAAAAAAAAAAAAAAAAAAAAAAAAAAAAAAAAAAAAAAAAAAAAAAAAAAAAAAAAAAAAAAAAAAAAAAAAAAAAAAAAAAAAAAAAAAAAAAAAAAAAAAAAAAAAAAAAAAAAAAAAAAAAAAAAAAAAAAAAAAAAAAAAAAAAAAAAAAAAAAAAAAAAAAAAAAAAAAAAAAAAAAAAAAAAAAAAAAAAAAAAAAAAAAAAAAAAAAAAAAAAAAAAAAAAAAAAAAAAAAAAAAAAAAAAAAAAAAAAAAAAAAAAAAAAAAAAAAAAAAAAAAAAAAAAAAAAAAAAAAAAAAAAAAAAAAAAAAAAAAAAAAAAAAAAAAAAAAAAAAAAAAAAAAAAAAAAAAAAAAAAAAAAAAAAAAAAAAAAAAAAAAAAAAAAAAAAAAAAAAAAAAAAAAAAAAAAAAAAAAAAAAAAAAAAAAAAAAAAAAAAACwAAAAAKgABAAAIDQABCBxIsKDBgwgNBgQAOw==\"><title>Layer: policy_head (output)\n",
       " shape = (42,)\n",
       " Keras class = Dense\n",
       " use_bias = False\n",
       " activation = linear\n",
       " kernel_regularizer = &lt;keras.regularizers.L1L2 object at 0x7ffb46395080&gt;</title></image><text x=\"288.33333333333337\" y=\"52.0\" font-family=\"monospace\" font-size=\"12\" text-anchor=\"start\" alignment-baseline=\"central\">policy_head</text><rect x=\"340.6666666666667\" y=\"24\" width=\"52\" height=\"52\" style=\"fill:none;stroke:black;stroke-width:2\"/><image id=\"AlphaZero Network_value_head_2\" class=\"AlphaZero Network_value_head\" x=\"341.6666666666667\" y=\"25\" height=\"50\" width=\"50\" preserveAspectRatio=\"none\" href=\"data:image/gif;base64,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\"><title>Layer: value_head (output)\n",
       " shape = (1,)\n",
       " Keras class = Dense\n",
       " use_bias = False\n",
       " activation = tanh\n",
       " kernel_regularizer = &lt;keras.regularizers.L1L2 object at 0x7ffb46395da0&gt;</title></image><text x=\"396.6666666666667\" y=\"52.0\" font-family=\"monospace\" font-size=\"12\" text-anchor=\"start\" alignment-baseline=\"central\">value_head</text><line x1=\"183.33333333333334\" y1=\"75\" x2=\"183.33333333333334\" y2=\"75\" stroke=\"black\" stroke-width=\"2\" marker-end=\"url(#arrow)\"><title>Weights from flatten-1 to policy_head\n",
       " policy_head/kernel:0 has shape (84, 42)</title></line><line x1=\"183.33333333333334\" y1=\"75\" x2=\"183.33333333333334\" y2=\"75\" stroke=\"black\" stroke-width=\"2\"><title>Weights from flatten-1 to policy_head\n",
       " policy_head/kernel:0 has shape (84, 42)</title></line><rect x=\"174.0\" y=\"74\" width=\"202\" height=\"202\" style=\"fill:none;stroke:black;stroke-width:2\"/><image id=\"AlphaZero Network_main_input_3\" class=\"AlphaZero Network_main_input\" x=\"175.0\" y=\"75\" height=\"200\" width=\"200\" preserveAspectRatio=\"none\" href=\"data:image/gif;base64,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\"><title>Layer: main_input (input)\n",
       " shape = (6, 7, 2)\n",
       " Keras class = Input</title></image><text x=\"380.0\" y=\"177.0\" font-family=\"monospace\" font-size=\"12\" text-anchor=\"start\" alignment-baseline=\"central\">main_input</text><text x=\"380.0\" y=\"80\" font-family=\"monospace\" font-size=\"12\" text-anchor=\"start\" alignment-baseline=\"central\">2</text><text x=\"163.0\" y=\"270\" font-family=\"monospace\" font-size=\"12\" text-anchor=\"start\" alignment-baseline=\"central\">0</text></svg>"
      ],
      "text/plain": [
       "<IPython.core.display.HTML object>"
      ]
     },
     "execution_count": 12,
     "metadata": {},
     "output_type": "execute_result"
    }
   ],
   "source": [
    "net.render()"
   ]
  },
  {
   "cell_type": "markdown",
   "metadata": {},
   "source": [
    "## Connecting the Network to the Game"
   ]
  },
  {
   "cell_type": "markdown",
   "metadata": {},
   "source": [
    "First, we need a mapping from game (x,y) moves to a position in a list of actions and probabilities."
   ]
  },
  {
   "cell_type": "code",
   "execution_count": 13,
   "metadata": {},
   "outputs": [],
   "source": [
    "def make_mappings(game):\n",
    "    \"\"\"\n",
    "    Get a mapping from game's (x,y) to array position.\n",
    "    \"\"\"\n",
    "    move2pos = {}\n",
    "    pos2move = []\n",
    "    position = 0\n",
    "    for y in range(game.v, 0, -1):\n",
    "        for x in range(1, game.h + 1):\n",
    "            move2pos[(x,y)] = position\n",
    "            pos2move.append((x,y))\n",
    "            position += 1\n",
    "    return move2pos, pos2move"
   ]
  },
  {
   "cell_type": "markdown",
   "metadata": {},
   "source": [
    "We use the connectFour game, defined above:"
   ]
  },
  {
   "cell_type": "code",
   "execution_count": 14,
   "metadata": {},
   "outputs": [],
   "source": [
    "move2pos, pos2move = make_mappings(game)"
   ]
  },
  {
   "cell_type": "code",
   "execution_count": 15,
   "metadata": {},
   "outputs": [
    {
     "data": {
      "text/plain": [
       "36"
      ]
     },
     "execution_count": 15,
     "metadata": {},
     "output_type": "execute_result"
    }
   ],
   "source": [
    "move2pos[(2,1)]"
   ]
  },
  {
   "cell_type": "code",
   "execution_count": 16,
   "metadata": {},
   "outputs": [
    {
     "data": {
      "text/plain": [
       "(1, 1)"
      ]
     },
     "execution_count": 16,
     "metadata": {},
     "output_type": "execute_result"
    }
   ],
   "source": [
    "pos2move[35]"
   ]
  },
  {
   "cell_type": "markdown",
   "metadata": {},
   "source": [
    "Need a method of converting a list of state moves into an array:"
   ]
  },
  {
   "cell_type": "code",
   "execution_count": 17,
   "metadata": {},
   "outputs": [],
   "source": [
    "def state2array(game, state):\n",
    "    array = []\n",
    "    to_move = game.to_move(state)\n",
    "    for y in range(game.v, 0, -1):\n",
    "        for x in range(1, game.h + 1):\n",
    "            item = state.board.get((x, y), 0)\n",
    "            if item != 0:\n",
    "                item = 1 if item == to_move else -1\n",
    "            array.append(item)\n",
    "    return array"
   ]
  },
  {
   "cell_type": "code",
   "execution_count": 18,
   "metadata": {},
   "outputs": [
    {
     "data": {
      "text/plain": [
       "(42,)"
      ]
     },
     "execution_count": 18,
     "metadata": {},
     "output_type": "execute_result"
    }
   ],
   "source": [
    "cx.shape(state2array(game, game.initial))"
   ]
  },
  {
   "cell_type": "markdown",
   "metadata": {},
   "source": [
    "So, state2array returns a list of 42 numbers, where:\n",
    "\n",
    "* 0 represents an empty place\n",
    "* 1 represents one of my pieces\n",
    "* -1 represents one of my opponent's pieces\n",
    "\n",
    "Note that \"my\" and \"my opponent\" may swap back and forth depending on perspective (ie, whose turn it is, as determined by game.to_move(state))."
   ]
  },
  {
   "cell_type": "code",
   "execution_count": 19,
   "metadata": {},
   "outputs": [],
   "source": [
    "def state2inputs(game, state):\n",
    "    board = np.array(state2array(game, state)) # 1 is my pieces, -1 other\n",
    "    currentplayer_position = np.zeros(len(board), dtype=np.int)\n",
    "    currentplayer_position[board==1] = 1\n",
    "    other_position = np.zeros(len(board), dtype=np.int)\n",
    "    other_position[board==-1] = 1\n",
    "    position = np.array(list(zip(currentplayer_position,other_position)))\n",
    "    inputs = position.reshape((game.v, game.h, 2))\n",
    "    return inputs.tolist()"
   ]
  },
  {
   "cell_type": "markdown",
   "metadata": {},
   "source": [
    "We need to convert the state's board into a form for the neural network:"
   ]
  },
  {
   "cell_type": "code",
   "execution_count": 20,
   "metadata": {},
   "outputs": [
    {
     "data": {
      "text/plain": [
       "[[[0, 0], [0, 0], [0, 0], [0, 0], [0, 0], [0, 0], [0, 0]],\n",
       " [[0, 0], [0, 0], [0, 0], [0, 0], [0, 0], [0, 0], [0, 0]],\n",
       " [[0, 0], [0, 0], [0, 0], [0, 0], [0, 0], [0, 0], [0, 0]],\n",
       " [[0, 0], [0, 0], [0, 0], [0, 0], [0, 0], [0, 0], [0, 0]],\n",
       " [[0, 0], [0, 0], [0, 0], [0, 0], [0, 0], [0, 0], [0, 0]],\n",
       " [[0, 0], [0, 0], [0, 0], [0, 0], [0, 0], [0, 0], [0, 0]]]"
      ]
     },
     "execution_count": 20,
     "metadata": {},
     "output_type": "execute_result"
    }
   ],
   "source": [
    "state2inputs(game, game.initial)"
   ]
  },
  {
   "cell_type": "markdown",
   "metadata": {},
   "source": [
    "We can check to see if this is correct by propagating the activations to the first layer."
   ]
  },
  {
   "cell_type": "markdown",
   "metadata": {},
   "source": [
    "Initial board state has no pieces on the board:"
   ]
  },
  {
   "cell_type": "code",
   "execution_count": 21,
   "metadata": {},
   "outputs": [
    {
     "data": {
      "text/html": [
       "<table><tr><td style=\"border: 1px solid black;\"><img style=\"image-rendering: pixelated;\" class=\"AlphaZero Network_main_input_feature0\" src=\"data:image/gif;base64,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\"/><br/><center>Feature 0</center></td><td style=\"border: 1px solid black;\"><img style=\"image-rendering: pixelated;\" class=\"AlphaZero Network_main_input_feature1\" src=\"data:image/gif;base64,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\"/><br/><center>Feature 1</center></td></tr></table>"
      ],
      "text/plain": [
       "<IPython.core.display.HTML object>"
      ]
     },
     "execution_count": 21,
     "metadata": {},
     "output_type": "execute_result"
    }
   ],
   "source": [
    "state = game.initial\n",
    "net.propagate_to_features(\"main_input\", state2inputs(game, state))"
   ]
  },
  {
   "cell_type": "markdown",
   "metadata": {},
   "source": [
    "Now we make a move to (1,1). But note that after the move, it is now the other player's move. So the first move is seen on the opponent's board (the right side, feature #1):"
   ]
  },
  {
   "cell_type": "code",
   "execution_count": 22,
   "metadata": {},
   "outputs": [
    {
     "data": {
      "text/html": [
       "<table><tr><td style=\"border: 1px solid black;\"><img style=\"image-rendering: pixelated;\" class=\"AlphaZero Network_main_input_feature0\" src=\"data:image/gif;base64,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\"/><br/><center>Feature 0</center></td><td style=\"border: 1px solid black;\"><img style=\"image-rendering: pixelated;\" class=\"AlphaZero Network_main_input_feature1\" src=\"data:image/gif;base64,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\"/><br/><center>Feature 1</center></td></tr></table>"
      ],
      "text/plain": [
       "<IPython.core.display.HTML object>"
      ]
     },
     "execution_count": 22,
     "metadata": {},
     "output_type": "execute_result"
    }
   ],
   "source": [
    "state = game.result(game.initial, (1,1))\n",
    "net.propagate_to_features(\"main_input\", state2inputs(game, state))"
   ]
  },
  {
   "cell_type": "markdown",
   "metadata": {},
   "source": [
    "Now, the second player moves to (2,1). Now we are back to the original perspective, and so the right-hand board is on the left, because that is now the current player's perspective."
   ]
  },
  {
   "cell_type": "code",
   "execution_count": 23,
   "metadata": {},
   "outputs": [
    {
     "data": {
      "text/html": [
       "<table><tr><td style=\"border: 1px solid black;\"><img style=\"image-rendering: pixelated;\" class=\"AlphaZero Network_main_input_feature0\" src=\"data:image/gif;base64,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\"/><br/><center>Feature 0</center></td><td style=\"border: 1px solid black;\"><img style=\"image-rendering: pixelated;\" class=\"AlphaZero Network_main_input_feature1\" src=\"data:image/gif;base64,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\"/><br/><center>Feature 1</center></td></tr></table>"
      ],
      "text/plain": [
       "<IPython.core.display.HTML object>"
      ]
     },
     "execution_count": 23,
     "metadata": {},
     "output_type": "execute_result"
    }
   ],
   "source": [
    "state = game.result(state, (3,1))\n",
    "net.propagate_to_features(\"main_input\", state2inputs(game, state))"
   ]
  },
  {
   "cell_type": "markdown",
   "metadata": {},
   "source": [
    "Finally, we are ready to connect the game to the network. We define a function `get_predictions` that takes a game and state, and propagates it through the network returning a (value, probabilities, allowedActions). The probabilities are the pi list from the AlphaZero paper."
   ]
  },
  {
   "cell_type": "code",
   "execution_count": 24,
   "metadata": {},
   "outputs": [],
   "source": [
    "def get_predictions(net, game, state):\n",
    "    \"\"\"\n",
    "    Given a state, give output of network on preferred\n",
    "    actions. state.allowedActions removes impossible\n",
    "    actions.\n",
    "\n",
    "    Returns (value, probabilties, allowedActions)\n",
    "    \"\"\"\n",
    "    board = np.array(state2array(game, state)) # 1 is my pieces, -1 other\n",
    "    inputs = state2inputs(game, state)\n",
    "    preds = net.propagate(inputs, visualize=True)\n",
    "    value = preds[1][0]\n",
    "    logits = np.array(preds[0])\n",
    "    allowedActions = np.array([move2pos[act] for act in game.actions(state)])\n",
    "    mask = np.ones(len(board), dtype=bool)\n",
    "    mask[allowedActions] = False\n",
    "    logits[mask] = -100\n",
    "    #SOFTMAX\n",
    "    odds = np.exp(logits)\n",
    "    probs = odds / np.sum(odds) ###put this just before the for?\n",
    "    return (value, probs.tolist(), allowedActions.tolist())"
   ]
  },
  {
   "cell_type": "code",
   "execution_count": 25,
   "metadata": {},
   "outputs": [],
   "source": [
    "value, probs, acts = get_predictions(net, game, state)"
   ]
  },
  {
   "cell_type": "code",
   "execution_count": 26,
   "metadata": {},
   "outputs": [
    {
     "data": {
      "application/javascript": [
       "\n",
       "require(['base/js/namespace'], function(Jupyter) {\n",
       "    Jupyter.notebook.kernel.comm_manager.register_target('conx_svg_control', function(comm, msg) {\n",
       "        comm.on_msg(function(msg) {\n",
       "            var data = msg[\"content\"][\"data\"];\n",
       "            var images = document.getElementsByClassName(data[\"class\"]);\n",
       "            for (var i = 0; i < images.length; i++) {\n",
       "                if (data[\"href\"]) {\n",
       "                    images[i].setAttributeNS(null, \"href\", data[\"href\"]);\n",
       "                }\n",
       "                if (data[\"src\"]) {\n",
       "                    images[i].setAttributeNS(null, \"src\", data[\"src\"]);\n",
       "                }\n",
       "            }\n",
       "        });\n",
       "    });\n",
       "});\n"
      ],
      "text/plain": [
       "<IPython.core.display.Javascript object>"
      ]
     },
     "metadata": {},
     "output_type": "display_data"
    },
    {
     "data": {
      "text/html": [
       "<svg id='AlphaZero Network' xmlns='http://www.w3.org/2000/svg' viewBox=\"0 0 550 300\" max-width=\"100%\" height=\"780px\" image-rendering=\"pixelated\">\n",
       "    <defs>\n",
       "        <marker id=\"arrow\" markerWidth=\"10\" markerHeight=\"10\" refX=\"9\" refY=\"3\" orient=\"auto\" markerUnits=\"strokeWidth\">\n",
       "          <path d=\"M0,0 L0,6 L9,3 z\" fill=\"black\" />\n",
       "        </marker>\n",
       "    </defs><text x=\"275.0\" y=\"12.5\" font-family=\"monospace\" font-size=\"15\" text-anchor=\"middle\" alignment-baseline=\"central\">AlphaZero Network</text><rect x=\"82.33333333333334\" y=\"24\" width=\"202\" height=\"52\" style=\"fill:none;stroke:black;stroke-width:2\"/><image id=\"snapshot-AlphaZero Network-871_policy_head_4\" class=\"snapshot-AlphaZero Network-871_policy_head\" x=\"83.33333333333334\" y=\"25\" height=\"50\" width=\"200\" preserveAspectRatio=\"none\" href=\"data:image/gif;base64,R0lGODdhKgABAIcAAPr2+vbn7//Z2QAAAAAAAAAAAAAAAAAAAAAAAAAAAAAAAAAAAAAAAAAAAAAAAAAAAAAAAAAAAAAAAAAAAAAAAAAAAAAAAAAAAAAAAAAAAAAAAAAAAAAAAAAAAAAAAAAAAAAAAAAAAAAAAAAAAAAAAAAAAAAAAAAAAAAAAAAAAAAAAAAAAAAAAAAAAAAAAAAAAAAAAAAAAAAAAAAAAAAAAAAAAAAAAAAAAAAAAAAAAAAAAAAAAAAAAAAAAAAAAAAAAAAAAAAAAAAAAAAAAAAAAAAAAAAAAAAAAAAAAAAAAAAAAAAAAAAAAAAAAAAAAAAAAAAAAAAAAAAAAAAAAAAAAAAAAAAAAAAAAAAAAAAAAAAAAAAAAAAAAAAAAAAAAAAAAAAAAAAAAAAAAAAAAAAAAAAAAAAAAAAAAAAAAAAAAAAAAAAAAAAAAAAAAAAAAAAAAAAAAAAAAAAAAAAAAAAAAAAAAAAAAAAAAAAAAAAAAAAAAAAAAAAAAAAAAAAAAAAAAAAAAAAAAAAAAAAAAAAAAAAAAAAAAAAAAAAAAAAAAAAAAAAAAAAAAAAAAAAAAAAAAAAAAAAAAAAAAAAAAAAAAAAAAAAAAAAAAAAAAAAAAAAAAAAAAAAAAAAAAAAAAAAAAAAAAAAAAAAAAAAAAAAAAAAAAAAAAAAAAAAAAAAAAAAAAAAAAAAAAAAAAAAAAAAAAAAAAAAAAAAAAAAAAAAAAAAAAAAAAAAAAAAAAAAAAAAAAAAAAAAAAAAAAAAAAAAAAAAAAAAAAAAAAAAAAAAAAAAAAAAAAAAAAAAAAAAAAAAAAAAAAAAAAAAAAAAAAAAAAAAAAAAAAAAAAAAAAAAAAAAAAAAAAAAAAAAAAAAAAAAAAAAAAAAAAAAAAAAAAAAAAAAAAAAAAAAAAAAAAAAAAAAAAAAAAAAAAAAAAAAAAAAAAAAAAAAAAAAAAAAAAAAAAAAAAAAAAAAAAAAAAAAAAAAAAAAAAAAAAAAAAAAAAAAAAAAAAAAAAAAAAAAAAAAAACwAAAAAKgABAAAIJwABBAAgIACAgwACAFgIIACAhxAhCgBAsWIAAAECAAAQAACAAAACAgA7\"><title>Layer: policy_head (output)\n",
       " shape = (42,)\n",
       " Keras class = Dense\n",
       " use_bias = False\n",
       " activation = linear\n",
       " kernel_regularizer = &lt;keras.regularizers.L1L2 object at 0x7ffb46395080&gt;</title></image><text x=\"288.33333333333337\" y=\"52.0\" font-family=\"monospace\" font-size=\"12\" text-anchor=\"start\" alignment-baseline=\"central\">policy_head</text><rect x=\"340.6666666666667\" y=\"24\" width=\"52\" height=\"52\" style=\"fill:none;stroke:black;stroke-width:2\"/><image id=\"snapshot-AlphaZero Network-871_value_head_5\" class=\"snapshot-AlphaZero Network-871_value_head\" x=\"341.6666666666667\" y=\"25\" height=\"50\" width=\"50\" preserveAspectRatio=\"none\" href=\"data:image/gif;base64,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\"><title>Layer: value_head (output)\n",
       " shape = (1,)\n",
       " Keras class = Dense\n",
       " use_bias = False\n",
       " activation = tanh\n",
       " kernel_regularizer = &lt;keras.regularizers.L1L2 object at 0x7ffb46395da0&gt;</title></image><text x=\"396.6666666666667\" y=\"52.0\" font-family=\"monospace\" font-size=\"12\" text-anchor=\"start\" alignment-baseline=\"central\">value_head</text><line x1=\"183.33333333333334\" y1=\"75\" x2=\"183.33333333333334\" y2=\"75\" stroke=\"black\" stroke-width=\"2\" marker-end=\"url(#arrow)\"><title>Weights from flatten-1 to policy_head\n",
       " policy_head/kernel:0 has shape (84, 42)</title></line><line x1=\"183.33333333333334\" y1=\"75\" x2=\"183.33333333333334\" y2=\"75\" stroke=\"black\" stroke-width=\"2\"><title>Weights from flatten-1 to policy_head\n",
       " policy_head/kernel:0 has shape (84, 42)</title></line><rect x=\"174.0\" y=\"74\" width=\"202\" height=\"202\" style=\"fill:none;stroke:black;stroke-width:2\"/><image id=\"snapshot-AlphaZero Network-871_main_input_6\" class=\"snapshot-AlphaZero Network-871_main_input\" x=\"175.0\" y=\"75\" height=\"200\" width=\"200\" preserveAspectRatio=\"none\" href=\"data:image/gif;base64,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\"><title>Layer: main_input (input)\n",
       " shape = (6, 7, 2)\n",
       " Keras class = Input</title></image><text x=\"380.0\" y=\"177.0\" font-family=\"monospace\" font-size=\"12\" text-anchor=\"start\" alignment-baseline=\"central\">main_input</text><text x=\"380.0\" y=\"80\" font-family=\"monospace\" font-size=\"12\" text-anchor=\"start\" alignment-baseline=\"central\">2</text><text x=\"163.0\" y=\"270\" font-family=\"monospace\" font-size=\"12\" text-anchor=\"start\" alignment-baseline=\"central\">0</text></svg>"
      ],
      "text/plain": [
       "<IPython.core.display.HTML object>"
      ]
     },
     "execution_count": 26,
     "metadata": {},
     "output_type": "execute_result"
    }
   ],
   "source": [
    "net.snapshot(state2inputs(game, state))"
   ]
  },
  {
   "cell_type": "markdown",
   "metadata": {},
   "source": [
    "## Testing Game and Network Integration"
   ]
  },
  {
   "cell_type": "markdown",
   "metadata": {},
   "source": [
    "Finally, we turn the predictions into a move, and we can play a game with the network."
   ]
  },
  {
   "cell_type": "code",
   "execution_count": 27,
   "metadata": {},
   "outputs": [],
   "source": [
    "class NNPlayer(Player):\n",
    "\n",
    "    def set_game(self, game):\n",
    "        \"\"\"\n",
    "        Get a mapping from game's (x,y) to array position.\n",
    "        \"\"\"\n",
    "        self.net = make_network(game)\n",
    "        self.game = game\n",
    "        self.move2pos = {}\n",
    "        self.pos2move = []\n",
    "        position = 0\n",
    "        for y in range(self.game.v, 0, -1):\n",
    "            for x in range(1, self.game.h + 1):\n",
    "                self.move2pos[(x,y)] = position\n",
    "                self.pos2move.append((x,y))\n",
    "                position += 1\n",
    "\n",
    "    def get_predictions(self, state):\n",
    "        \"\"\"\n",
    "        Given a state, give output of network on preferred\n",
    "        actions. state.allowedActions removes impossible\n",
    "        actions.\n",
    "\n",
    "        Returns (value, probabilties, allowedActions)\n",
    "        \"\"\"\n",
    "        board = np.array(self.state2array(state)) # 1 is my pieces, -1 other\n",
    "        inputs = self.state2inputs(state)\n",
    "        preds = self.net.propagate(inputs)\n",
    "        value = preds[1][0]\n",
    "        logits = np.array(preds[0])\n",
    "        allowedActions = np.array([self.move2pos[act] for act in self.game.actions(state)])\n",
    "        mask = np.ones(len(board), dtype=bool)\n",
    "        mask[allowedActions] = False\n",
    "        logits[mask] = -100\n",
    "        #SOFTMAX\n",
    "        odds = np.exp(logits)\n",
    "        probs = odds / np.sum(odds) \n",
    "        return (value, probs.tolist(), allowedActions.tolist())\n",
    "    \n",
    "    def get_action(self, state, turn):\n",
    "        value, probabilities, moves = self.get_predictions(state)\n",
    "        probs = np.array(probabilities)[moves]\n",
    "        pos = cx.choice(moves, probs)\n",
    "        return self.pos2move[pos]\n",
    "\n",
    "    def state2inputs(self, state):\n",
    "        board = np.array(self.state2array(state)) # 1 is my pieces, -1 other\n",
    "        currentplayer_position = np.zeros(len(board), dtype=np.int)\n",
    "        currentplayer_position[board==1] = 1\n",
    "        other_position = np.zeros(len(board), dtype=np.int)\n",
    "        other_position[board==-1] = 1\n",
    "        position = np.array(list(zip(currentplayer_position,other_position)))\n",
    "        inputs = position.reshape((self.game.v, self.game.h, 2))\n",
    "        return inputs\n",
    "\n",
    "    def state2array(self, state):\n",
    "        array = []\n",
    "        to_move = self.game.to_move(state)\n",
    "        for y in range(self.game.v, 0, -1):\n",
    "            for x in range(1, self.game.h + 1):\n",
    "                item = state.board.get((x, y), 0)\n",
    "                if item != 0:\n",
    "                    item = 1 if item == to_move else -1\n",
    "                array.append(item)\n",
    "        return array"
   ]
  },
  {
   "cell_type": "code",
   "execution_count": 28,
   "metadata": {},
   "outputs": [],
   "source": [
    "p1 = RandomPlayer(\"Random\")\n",
    "p2 = NNPlayer(\"NNPlayer\")"
   ]
  },
  {
   "cell_type": "code",
   "execution_count": 29,
   "metadata": {},
   "outputs": [],
   "source": [
    "p2.set_game(game)"
   ]
  },
  {
   "cell_type": "code",
   "execution_count": 30,
   "metadata": {},
   "outputs": [
    {
     "data": {
      "text/plain": [
       "(2, 1)"
      ]
     },
     "execution_count": 30,
     "metadata": {},
     "output_type": "execute_result"
    }
   ],
   "source": [
    "p2.get_action(state, 2)"
   ]
  },
  {
   "cell_type": "code",
   "execution_count": 31,
   "metadata": {},
   "outputs": [
    {
     "name": "stdout",
     "output_type": "stream",
     "text": [
      "NNPlayer is thinking...\n",
      "NNPlayer makes action (2, 1):\n",
      ". . . . . . . \n",
      ". . . . . . . \n",
      ". . . . . . . \n",
      ". . . . . . . \n",
      ". . . . . . . \n",
      ". . . . . . . \n",
      ". X . . . . . \n",
      "Random is thinking...\n",
      "Random makes action (4, 1):\n",
      ". . . . . . . \n",
      ". . . . . . . \n",
      ". . . . . . . \n",
      ". . . . . . . \n",
      ". . . . . . . \n",
      ". . . . . . . \n",
      ". X . O . . . \n",
      "NNPlayer is thinking...\n",
      "NNPlayer makes action (5, 1):\n",
      ". . . . . . . \n",
      ". . . . . . . \n",
      ". . . . . . . \n",
      ". . . . . . . \n",
      ". . . . . . . \n",
      ". . . . . . . \n",
      ". X . O X . . \n",
      "Random is thinking...\n",
      "Random makes action (4, 2):\n",
      ". . . . . . . \n",
      ". . . . . . . \n",
      ". . . . . . . \n",
      ". . . . . . . \n",
      ". . . . . . . \n",
      ". . . O . . . \n",
      ". X . O X . . \n",
      "NNPlayer is thinking...\n",
      "NNPlayer makes action (5, 2):\n",
      ". . . . . . . \n",
      ". . . . . . . \n",
      ". . . . . . . \n",
      ". . . . . . . \n",
      ". . . . . . . \n",
      ". . . O X . . \n",
      ". X . O X . . \n",
      "Random is thinking...\n",
      "Random makes action (5, 3):\n",
      ". . . . . . . \n",
      ". . . . . . . \n",
      ". . . . . . . \n",
      ". . . . . . . \n",
      ". . . . O . . \n",
      ". . . O X . . \n",
      ". X . O X . . \n",
      "NNPlayer is thinking...\n",
      "NNPlayer makes action (3, 1):\n",
      ". . . . . . . \n",
      ". . . . . . . \n",
      ". . . . . . . \n",
      ". . . . . . . \n",
      ". . . . O . . \n",
      ". . . O X . . \n",
      ". X X O X . . \n",
      "Random is thinking...\n",
      "Random makes action (2, 2):\n",
      ". . . . . . . \n",
      ". . . . . . . \n",
      ". . . . . . . \n",
      ". . . . . . . \n",
      ". . . . O . . \n",
      ". O . O X . . \n",
      ". X X O X . . \n",
      "NNPlayer is thinking...\n",
      "NNPlayer makes action (3, 2):\n",
      ". . . . . . . \n",
      ". . . . . . . \n",
      ". . . . . . . \n",
      ". . . . . . . \n",
      ". . . . O . . \n",
      ". O X O X . . \n",
      ". X X O X . . \n",
      "Random is thinking...\n",
      "Random makes action (7, 1):\n",
      ". . . . . . . \n",
      ". . . . . . . \n",
      ". . . . . . . \n",
      ". . . . . . . \n",
      ". . . . O . . \n",
      ". O X O X . . \n",
      ". X X O X . O \n",
      "NNPlayer is thinking...\n",
      "NNPlayer makes action (3, 3):\n",
      ". . . . . . . \n",
      ". . . . . . . \n",
      ". . . . . . . \n",
      ". . . . . . . \n",
      ". . X . O . . \n",
      ". O X O X . . \n",
      ". X X O X . O \n",
      "Random is thinking...\n",
      "Random makes action (6, 1):\n",
      ". . . . . . . \n",
      ". . . . . . . \n",
      ". . . . . . . \n",
      ". . . . . . . \n",
      ". . X . O . . \n",
      ". O X O X . . \n",
      ". X X O X O O \n",
      "NNPlayer is thinking...\n",
      "NNPlayer makes action (1, 1):\n",
      ". . . . . . . \n",
      ". . . . . . . \n",
      ". . . . . . . \n",
      ". . . . . . . \n",
      ". . X . O . . \n",
      ". O X O X . . \n",
      "X X X O X O O \n",
      "Random is thinking...\n",
      "Random makes action (7, 2):\n",
      ". . . . . . . \n",
      ". . . . . . . \n",
      ". . . . . . . \n",
      ". . . . . . . \n",
      ". . X . O . . \n",
      ". O X O X . O \n",
      "X X X O X O O \n",
      "NNPlayer is thinking...\n",
      "NNPlayer makes action (2, 3):\n",
      ". . . . . . . \n",
      ". . . . . . . \n",
      ". . . . . . . \n",
      ". . . . . . . \n",
      ". X X . O . . \n",
      ". O X O X . O \n",
      "X X X O X O O \n",
      "Random is thinking...\n",
      "Random makes action (3, 4):\n",
      ". . . . . . . \n",
      ". . . . . . . \n",
      ". . . . . . . \n",
      ". . O . . . . \n",
      ". X X . O . . \n",
      ". O X O X . O \n",
      "X X X O X O O \n",
      "NNPlayer is thinking...\n",
      "NNPlayer makes action (1, 2):\n",
      ". . . . . . . \n",
      ". . . . . . . \n",
      ". . . . . . . \n",
      ". . O . . . . \n",
      ". X X . O . . \n",
      "X O X O X . O \n",
      "X X X O X O O \n",
      "Random is thinking...\n",
      "Random makes action (5, 4):\n",
      ". . . . . . . \n",
      ". . . . . . . \n",
      ". . . . . . . \n",
      ". . O . O . . \n",
      ". X X . O . . \n",
      "X O X O X . O \n",
      "X X X O X O O \n",
      "NNPlayer is thinking...\n",
      "NNPlayer makes action (3, 5):\n",
      ". . . . . . . \n",
      ". . . . . . . \n",
      ". . X . . . . \n",
      ". . O . O . . \n",
      ". X X . O . . \n",
      "X O X O X . O \n",
      "X X X O X O O \n",
      "Random is thinking...\n",
      "Random makes action (5, 5):\n",
      ". . . . . . . \n",
      ". . . . . . . \n",
      ". . X . O . . \n",
      ". . O . O . . \n",
      ". X X . O . . \n",
      "X O X O X . O \n",
      "X X X O X O O \n",
      "NNPlayer is thinking...\n",
      "NNPlayer makes action (1, 3):\n",
      ". . . . . . . \n",
      ". . . . . . . \n",
      ". . X . O . . \n",
      ". . O . O . . \n",
      "X X X . O . . \n",
      "X O X O X . O \n",
      "X X X O X O O \n",
      "Random is thinking...\n",
      "Random makes action (3, 6):\n",
      ". . . . . . . \n",
      ". . O . . . . \n",
      ". . X . O . . \n",
      ". . O . O . . \n",
      "X X X . O . . \n",
      "X O X O X . O \n",
      "X X X O X O O \n",
      "NNPlayer is thinking...\n",
      "NNPlayer makes action (5, 6):\n",
      ". . . . . . . \n",
      ". . O . X . . \n",
      ". . X . O . . \n",
      ". . O . O . . \n",
      "X X X . O . . \n",
      "X O X O X . O \n",
      "X X X O X O O \n",
      "Random is thinking...\n",
      "Random makes action (6, 2):\n",
      ". . . . . . . \n",
      ". . O . X . . \n",
      ". . X . O . . \n",
      ". . O . O . . \n",
      "X X X . O . . \n",
      "X O X O X O O \n",
      "X X X O X O O \n",
      "NNPlayer is thinking...\n",
      "NNPlayer makes action (2, 4):\n",
      ". . . . . . . \n",
      ". . O . X . . \n",
      ". . X . O . . \n",
      ". X O . O . . \n",
      "X X X . O . . \n",
      "X O X O X O O \n",
      "X X X O X O O \n",
      "Random is thinking...\n",
      "Random makes action (4, 3):\n",
      ". . . . . . . \n",
      ". . O . X . . \n",
      ". . X . O . . \n",
      ". X O . O . . \n",
      "X X X O O . . \n",
      "X O X O X O O \n",
      "X X X O X O O \n",
      "NNPlayer is thinking...\n",
      "NNPlayer makes action (1, 4):\n",
      ". . . . . . . \n",
      ". . O . X . . \n",
      ". . X . O . . \n",
      "X X O . O . . \n",
      "X X X O O . . \n",
      "X O X O X O O \n",
      "X X X O X O O \n",
      "***** NNPlayer wins!\n"
     ]
    },
    {
     "data": {
      "text/plain": [
       "['NNPlayer']"
      ]
     },
     "execution_count": 31,
     "metadata": {},
     "output_type": "execute_result"
    }
   ],
   "source": [
    "game.play_game(p1, p2)"
   ]
  },
  {
   "cell_type": "markdown",
   "metadata": {},
   "source": [
    "## Training The Network\n",
    "\n",
    "Now we are ready to train the network. The training is a clever use of Monte Carlo Tree Search, combined with playing against itself.\n",
    "\n",
    "There is a [Monte Carlo Tree Search player](https://github.com/Calysto/aima3/blob/master/notebooks/monte_carlo_tree_search.ipynb) in aima3 that we will use. We set the policy to come from predictions from the neural network."
   ]
  },
  {
   "cell_type": "code",
   "execution_count": 32,
   "metadata": {},
   "outputs": [],
   "source": [
    "class AlphaZeroMCTSPlayer(MCTSPlayer):\n",
    "    \"\"\"\n",
    "    A Monte Carlo Tree Search with policy function from\n",
    "    neural network. Network will be set later to self.nnplayer.\n",
    "    \"\"\"\n",
    "    def policy(self, game, state):\n",
    "        # these moves are positions:\n",
    "        value, probs_all, moves = self.nnplayer.get_predictions(state)\n",
    "        if len(moves) == 0:\n",
    "            result = [], value\n",
    "        else:\n",
    "            probs = np.array(probs_all)[moves]\n",
    "            moves = [self.nnplayer.pos2move[pos] for pos in moves]\n",
    "            # we need to return probs and moves for game\n",
    "            result = [(act, prob) for (act, prob) in list(zip(moves, probs))], value\n",
    "        return result"
   ]
  },
  {
   "cell_type": "markdown",
   "metadata": {},
   "source": [
    "The main AlphaZeroPlayer needs to be able to play in one of two modes:\n",
    "\n",
    "* self_play: it plays against itself (using two different MCTS, as this version requires it). The network provides policy evaulation for each state is it looks ahead.\n",
    "* regular play: moves come directly from the network"
   ]
  },
  {
   "cell_type": "code",
   "execution_count": 33,
   "metadata": {},
   "outputs": [],
   "source": [
    "class AlphaZeroPlayer(NNPlayer):\n",
    "    ## Load weights if continuing\n",
    "    def __init__(self, name, n_playout=40, *args, **kwargs):\n",
    "        super().__init__(name, *args, **kwargs)\n",
    "        self.mcts_players = [AlphaZeroMCTSPlayer(\"MCTS-1\", n_playout=n_playout),\n",
    "                             AlphaZeroMCTSPlayer(\"MCTS-2\", n_playout=n_playout)]\n",
    "        \n",
    "    def set_game(self, game):\n",
    "        super().set_game(game)\n",
    "        self.mcts_players[0].set_game(game)\n",
    "        self.mcts_players[1].set_game(game)\n",
    "        self.mcts_players[0].nnplayer = self\n",
    "        self.mcts_players[1].nnplayer = self\n",
    "        self.data = [[], []]\n",
    "        self.cache = {}\n",
    "        \n",
    "    def get_action(self, state, turn, self_play):\n",
    "        if self_play:\n",
    "            ## Only way to determine which is which?\n",
    "            if turn in self.cache:\n",
    "                player_num = 1\n",
    "            else:\n",
    "                player_num = 0\n",
    "                self.cache[turn] = True\n",
    "            ## now use the policy to get some probs:\n",
    "            move, pi = self.mcts_players[player_num].get_action(state, round(turn), return_prob=True)\n",
    "            ## save the state and probs:\n",
    "            self.data[player_num].append((self.state2inputs(state), self.move_probs2all_probs(pi)))\n",
    "            return move\n",
    "        else:\n",
    "            # play the network, were're in the playoffs!\n",
    "            return super().get_action(state, round(turn))\n",
    "\n",
    "    def move_probs2all_probs(self, move_probs):\n",
    "        all_probs = np.zeros(len(self.state2array(game.initial)))\n",
    "        for move in move_probs:\n",
    "            all_probs[self.move2pos[move]] = move_probs[move]\n",
    "        return all_probs.tolist()"
   ]
  },
  {
   "cell_type": "markdown",
   "metadata": {},
   "source": [
    "We now set up the game to play in one of the two modes. \n",
    "\n",
    "One complication when playing itself: the system isn't sure which one it is, and we want to separate the two plays! To keep track, we cache the turn; if we see the same turn again, then we know it is the second."
   ]
  },
  {
   "cell_type": "code",
   "execution_count": 34,
   "metadata": {},
   "outputs": [],
   "source": [
    "class AlphaZeroGame(ConnectFour):\n",
    "    def __init__(self, *args, **kwargs):\n",
    "        super().__init__(*args, **kwargs)\n",
    "        self.memory = []\n",
    "        \n",
    "    def play_game(self, *players, flip_coin=False, verbose=1, **kwargs):\n",
    "        results = super().play_game(*players, flip_coin=flip_coin, verbose=verbose, **kwargs)\n",
    "        if \"self_play\" in kwargs and kwargs[\"self_play\"]:\n",
    "            ## Do not allow flipping coins when self play:\n",
    "            ## Assumes that player1 == player2 when self-playing\n",
    "            assert flip_coin is False, \"no coin_flip when self-playing\"\n",
    "            ## value is in terms of player 0\n",
    "            value = self.final_utility\n",
    "            for state, probs in players[0].data[0]:\n",
    "                self.memory.append([state, [probs, [value]]])\n",
    "            # also data from opponent, so flip value:\n",
    "            value = -value\n",
    "            for state, probs in players[1].data[1]:\n",
    "                self.memory.append([state, [probs, [value]]])\n",
    "        return results"
   ]
  },
  {
   "cell_type": "code",
   "execution_count": 35,
   "metadata": {},
   "outputs": [],
   "source": [
    "game = AlphaZeroGame()\n",
    "best_player = AlphaZeroPlayer(\"best_player\")\n",
    "current_player = AlphaZeroPlayer(\"current_player\")"
   ]
  },
  {
   "cell_type": "markdown",
   "metadata": {},
   "source": [
    "Some basic tests to make sure things are going in the right place:"
   ]
  },
  {
   "cell_type": "code",
   "execution_count": 36,
   "metadata": {},
   "outputs": [
    {
     "name": "stdout",
     "output_type": "stream",
     "text": [
      "(5, 1)\n",
      "(4, 1)\n",
      "(3, 1)\n"
     ]
    }
   ],
   "source": [
    "current_player.set_game(game)\n",
    "assert current_player.data == [[], []]\n",
    "print(current_player.get_action(game.initial, 1, self_play=False))\n",
    "assert current_player.data == [[], []]\n",
    "print(current_player.get_action(game.initial, 1, self_play=True))\n",
    "assert current_player.data[0] != []\n",
    "print(current_player.get_action(game.initial, 1, self_play=True))\n",
    "assert current_player.data[1] != []"
   ]
  },
  {
   "cell_type": "markdown",
   "metadata": {},
   "source": [
    "Sample just for testing:"
   ]
  },
  {
   "cell_type": "code",
   "execution_count": 37,
   "metadata": {
    "scrolled": true
   },
   "outputs": [
    {
     "name": "stdout",
     "output_type": "stream",
     "text": [
      "Tournament to begin with 2 matches...\n",
      "best_player is thinking...\n",
      "best_player makes action (3, 1):\n",
      ". . . . . . . \n",
      ". . . . . . . \n",
      ". . . . . . . \n",
      ". . . . . . . \n",
      ". . . . . . . \n",
      ". . . . . . . \n",
      ". . X . . . . \n",
      "best_player is thinking...\n",
      "best_player makes action (7, 1):\n",
      ". . . . . . . \n",
      ". . . . . . . \n",
      ". . . . . . . \n",
      ". . . . . . . \n",
      ". . . . . . . \n",
      ". . . . . . . \n",
      ". . X . . . O \n",
      "best_player is thinking...\n",
      "best_player makes action (2, 1):\n",
      ". . . . . . . \n",
      ". . . . . . . \n",
      ". . . . . . . \n",
      ". . . . . . . \n",
      ". . . . . . . \n",
      ". . . . . . . \n",
      ". X X . . . O \n",
      "best_player is thinking...\n",
      "best_player makes action (6, 1):\n",
      ". . . . . . . \n",
      ". . . . . . . \n",
      ". . . . . . . \n",
      ". . . . . . . \n",
      ". . . . . . . \n",
      ". . . . . . . \n",
      ". X X . . O O \n",
      "best_player is thinking...\n",
      "best_player makes action (1, 1):\n",
      ". . . . . . . \n",
      ". . . . . . . \n",
      ". . . . . . . \n",
      ". . . . . . . \n",
      ". . . . . . . \n",
      ". . . . . . . \n",
      "X X X . . O O \n",
      "best_player is thinking...\n",
      "best_player makes action (4, 1):\n",
      ". . . . . . . \n",
      ". . . . . . . \n",
      ". . . . . . . \n",
      ". . . . . . . \n",
      ". . . . . . . \n",
      ". . . . . . . \n",
      "X X X O . O O \n",
      "best_player is thinking...\n",
      "best_player makes action (5, 1):\n",
      ". . . . . . . \n",
      ". . . . . . . \n",
      ". . . . . . . \n",
      ". . . . . . . \n",
      ". . . . . . . \n",
      ". . . . . . . \n",
      "X X X O X O O \n",
      "best_player is thinking...\n",
      "best_player makes action (4, 2):\n",
      ". . . . . . . \n",
      ". . . . . . . \n",
      ". . . . . . . \n",
      ". . . . . . . \n",
      ". . . . . . . \n",
      ". . . O . . . \n",
      "X X X O X O O \n",
      "best_player is thinking...\n",
      "best_player makes action (3, 2):\n",
      ". . . . . . . \n",
      ". . . . . . . \n",
      ". . . . . . . \n",
      ". . . . . . . \n",
      ". . . . . . . \n",
      ". . X O . . . \n",
      "X X X O X O O \n",
      "best_player is thinking...\n",
      "best_player makes action (4, 3):\n",
      ". . . . . . . \n",
      ". . . . . . . \n",
      ". . . . . . . \n",
      ". . . . . . . \n",
      ". . . O . . . \n",
      ". . X O . . . \n",
      "X X X O X O O \n",
      "best_player is thinking...\n",
      "best_player makes action (7, 2):\n",
      ". . . . . . . \n",
      ". . . . . . . \n",
      ". . . . . . . \n",
      ". . . . . . . \n",
      ". . . O . . . \n",
      ". . X O . . X \n",
      "X X X O X O O \n",
      "best_player is thinking...\n",
      "best_player makes action (4, 4):\n",
      ". . . . . . . \n",
      ". . . . . . . \n",
      ". . . . . . . \n",
      ". . . O . . . \n",
      ". . . O . . . \n",
      ". . X O . . X \n",
      "X X X O X O O \n",
      "***** best_player wins!\n",
      "best_player is thinking...\n",
      "best_player makes action (7, 1):\n",
      ". . . . . . . \n",
      ". . . . . . . \n",
      ". . . . . . . \n",
      ". . . . . . . \n",
      ". . . . . . . \n",
      ". . . . . . . \n",
      ". . . . . . X \n",
      "best_player is thinking...\n",
      "best_player makes action (2, 1):\n",
      ". . . . . . . \n",
      ". . . . . . . \n",
      ". . . . . . . \n",
      ". . . . . . . \n",
      ". . . . . . . \n",
      ". . . . . . . \n",
      ". O . . . . X \n",
      "best_player is thinking...\n",
      "best_player makes action (4, 1):\n",
      ". . . . . . . \n",
      ". . . . . . . \n",
      ". . . . . . . \n",
      ". . . . . . . \n",
      ". . . . . . . \n",
      ". . . . . . . \n",
      ". O . X . . X \n",
      "best_player is thinking...\n",
      "best_player makes action (2, 2):\n",
      ". . . . . . . \n",
      ". . . . . . . \n",
      ". . . . . . . \n",
      ". . . . . . . \n",
      ". . . . . . . \n",
      ". O . . . . . \n",
      ". O . X . . X \n",
      "best_player is thinking...\n",
      "best_player makes action (1, 1):\n",
      ". . . . . . . \n",
      ". . . . . . . \n",
      ". . . . . . . \n",
      ". . . . . . . \n",
      ". . . . . . . \n",
      ". O . . . . . \n",
      "X O . X . . X \n",
      "best_player is thinking...\n",
      "best_player makes action (7, 2):\n",
      ". . . . . . . \n",
      ". . . . . . . \n",
      ". . . . . . . \n",
      ". . . . . . . \n",
      ". . . . . . . \n",
      ". O . . . . O \n",
      "X O . X . . X \n",
      "best_player is thinking...\n",
      "best_player makes action (4, 2):\n",
      ". . . . . . . \n",
      ". . . . . . . \n",
      ". . . . . . . \n",
      ". . . . . . . \n",
      ". . . . . . . \n",
      ". O . X . . O \n",
      "X O . X . . X \n",
      "best_player is thinking...\n",
      "best_player makes action (3, 1):\n",
      ". . . . . . . \n",
      ". . . . . . . \n",
      ". . . . . . . \n",
      ". . . . . . . \n",
      ". . . . . . . \n",
      ". O . X . . O \n",
      "X O O X . . X \n",
      "best_player is thinking...\n",
      "best_player makes action (1, 2):\n",
      ". . . . . . . \n",
      ". . . . . . . \n",
      ". . . . . . . \n",
      ". . . . . . . \n",
      ". . . . . . . \n",
      "X O . X . . O \n",
      "X O O X . . X \n",
      "best_player is thinking...\n",
      "best_player makes action (2, 3):\n",
      ". . . . . . . \n",
      ". . . . . . . \n",
      ". . . . . . . \n",
      ". . . . . . . \n",
      ". O . . . . . \n",
      "X O . X . . O \n",
      "X O O X . . X \n",
      "best_player is thinking...\n",
      "best_player makes action (1, 3):\n",
      ". . . . . . . \n",
      ". . . . . . . \n",
      ". . . . . . . \n",
      ". . . . . . . \n",
      "X O . . . . . \n",
      "X O . X . . O \n",
      "X O O X . . X \n",
      "best_player is thinking...\n",
      "best_player makes action (4, 3):\n",
      ". . . . . . . \n",
      ". . . . . . . \n",
      ". . . . . . . \n",
      ". . . . . . . \n",
      "X O . O . . . \n",
      "X O . X . . O \n",
      "X O O X . . X \n",
      "best_player is thinking...\n",
      "best_player makes action (7, 3):\n",
      ". . . . . . . \n",
      ". . . . . . . \n",
      ". . . . . . . \n",
      ". . . . . . . \n",
      "X O . O . . X \n",
      "X O . X . . O \n",
      "X O O X . . X \n",
      "best_player is thinking...\n",
      "best_player makes action (2, 4):\n",
      ". . . . . . . \n",
      ". . . . . . . \n",
      ". . . . . . . \n",
      ". O . . . . . \n",
      "X O . O . . X \n",
      "X O . X . . O \n",
      "X O O X . . X \n",
      "***** best_player wins!\n"
     ]
    },
    {
     "data": {
      "text/plain": [
       "{'DRAW': 0, 'best_player': 2}"
      ]
     },
     "execution_count": 37,
     "metadata": {},
     "output_type": "execute_result"
    }
   ],
   "source": [
    "game.play_tournament(1, best_player, best_player, verbose=1, mode=\"ordered\", self_play=True)"
   ]
  },
  {
   "cell_type": "markdown",
   "metadata": {},
   "source": [
    "Did we collect some history?"
   ]
  },
  {
   "cell_type": "code",
   "execution_count": 38,
   "metadata": {},
   "outputs": [
    {
     "data": {
      "text/plain": [
       "26"
      ]
     },
     "execution_count": 38,
     "metadata": {},
     "output_type": "execute_result"
    }
   ],
   "source": [
    "len(game.memory)"
   ]
  },
  {
   "cell_type": "markdown",
   "metadata": {},
   "source": [
    "Ok, we are ready to learn!"
   ]
  },
  {
   "cell_type": "code",
   "execution_count": 49,
   "metadata": {},
   "outputs": [],
   "source": [
    "config = dict(\n",
    "    MINIMUM_MEMORY_SIZE_BEFORE_TRAINING = 1000, # min size of memory\n",
    "    TRAINING_EPOCHS_PER_CYCLE = 500, # training on current network\n",
    "    CYCLES = 1, # number of cycles to run\n",
    "    SELF_PLAY_MATCHES = 1, # matches to test yo' self per self-play round\n",
    "    TOURNAMENT_MATCHES = 2, # plays each player as first mover per match, so * 2\n",
    "    BEST_SWAP_PERCENT = 1.0, # you must be this much better than best\n",
    ")"
   ]
  },
  {
   "cell_type": "code",
   "execution_count": 51,
   "metadata": {},
   "outputs": [],
   "source": [
    "def alphazero_train(config):\n",
    "    ## Uses global game, best_player, and current_player\n",
    "    for cycle in range(config[\"CYCLES\"]):\n",
    "        print(\"Epoch #%s...\" % cycle)\n",
    "        # self-play, collect data:\n",
    "        print(\"Self-play matches begin...\")\n",
    "        while len(game.memory) < config[\"MINIMUM_MEMORY_SIZE_BEFORE_TRAINING\"]:\n",
    "            results = game.play_tournament(config[\"SELF_PLAY_MATCHES\"], \n",
    "                                           best_player, best_player, \n",
    "                                           mode=\"ordered\", self_play=True)\n",
    "            print(\"Memory size is %s\" % len(game.memory))\n",
    "        print(\"Enough to train!\")\n",
    "        current_player.net.dataset.clear()\n",
    "        current_player.net.dataset.load(game.memory)\n",
    "        print(\"Training on \", len(current_player.net.dataset.inputs), \"patterns...\")\n",
    "        current_player.net.train(config[\"TRAINING_EPOCHS_PER_CYCLE\"], \n",
    "                                 batch_size=len(game.memory),\n",
    "                                 plot=True)\n",
    "        ## save dataset every once in a while\n",
    "        ## now see which net is better:\n",
    "        print(\"Playing best vs current to see who wins the title...\")\n",
    "        results = game.play_tournament(config[\"TOURNAMENT_MATCHES\"], \n",
    "                                       best_player, current_player, \n",
    "                                       mode=\"one-each\", self_play=False)\n",
    "        if results[\"current_player\"] > results[\"best_player\"] * config[\"BEST_SWAP_PERCENT\"]:\n",
    "            print(\"current won! swapping weights\")\n",
    "            # give the better weights to the best_player\n",
    "            best_player.net.set_weights(\n",
    "                current_player.net.get_weights())\n",
    "            game.memory = []\n",
    "        else:\n",
    "            print(\"best won!\")"
   ]
  },
  {
   "cell_type": "code",
   "execution_count": null,
   "metadata": {},
   "outputs": [
    {
     "name": "stdout",
     "output_type": "stream",
     "text": [
      "Epoch #0...\n",
      "Self-play matches begin...\n",
      "Memory size is 171\n",
      "Memory size is 208\n",
      "Memory size is 247\n",
      "Memory size is 284\n",
      "Memory size is 310\n",
      "Memory size is 349\n",
      "Memory size is 387\n",
      "Memory size is 425\n",
      "Memory size is 455\n",
      "Memory size is 481\n",
      "Memory size is 541\n",
      "Memory size is 571\n",
      "Memory size is 608\n",
      "Memory size is 657\n",
      "Memory size is 703\n",
      "Memory size is 744\n",
      "Memory size is 788\n",
      "Memory size is 833\n",
      "Memory size is 878\n",
      "Memory size is 920\n",
      "Memory size is 979\n",
      "Memory size is 1028\n",
      "Enough to train!\n",
      "Training on  1028 patterns...\n",
      "Training...\n",
      "       |  Training |    policy |     value \n",
      "Epochs |     Error |  head acc |  head acc \n",
      "------ | --------- | --------- | --------- \n",
      "#  801 |   0.39601 |   0.00000 |   0.92708 \n",
      "#  802 |   1.03875 |   0.00000 |   0.27140 \n",
      "#  803 |   0.87153 |   0.00000 |   0.15953 \n",
      "#  804 |   0.79308 |   0.00000 |   0.18191 \n",
      "#  805 |   0.73491 |   0.00000 |   0.29475 \n",
      "#  806 |   0.73332 |   0.00000 |   0.35019 \n",
      "#  807 |   0.70390 |   0.00000 |   0.36868 \n",
      "#  808 |   0.67224 |   0.00000 |   0.40467 \n",
      "#  809 |   0.64956 |   0.00000 |   0.46790 \n",
      "#  810 |   0.65823 |   0.00000 |   0.49222 \n",
      "#  811 |   0.64335 |   0.00000 |   0.49611 \n",
      "#  812 |   0.68785 |   0.00000 |   0.47374 \n",
      "#  813 |   0.64451 |   0.00000 |   0.50486 \n",
      "#  814 |   0.62052 |   0.00000 |   0.51946 \n",
      "#  815 |   0.65647 |   0.00000 |   0.47179 \n",
      "#  816 |   0.71668 |   0.00000 |   0.45039 \n",
      "#  817 |   0.69026 |   0.00000 |   0.45525 \n",
      "#  818 |   0.62992 |   0.00000 |   0.53794 \n",
      "#  819 |   0.59203 |   0.00000 |   0.61479 \n",
      "#  820 |   0.62125 |   0.00000 |   0.60019 \n",
      "#  821 |   0.59042 |   0.00000 |   0.62257 \n",
      "#  822 |   0.56548 |   0.00000 |   0.64008 \n",
      "#  823 |   0.57956 |   0.00000 |   0.68288 \n",
      "#  824 |   0.60517 |   0.00000 |   0.60798 \n",
      "#  825 |   0.56350 |   0.00000 |   0.65953 \n",
      "#  826 |   0.54747 |   0.00000 |   0.71304 \n",
      "#  827 |   0.54154 |   0.00000 |   0.73054 \n",
      "#  828 |   0.57241 |   0.00000 |   0.69553 \n",
      "#  829 |   0.56825 |   0.00000 |   0.70914 \n",
      "#  830 |   0.55524 |   0.00000 |   0.69747 \n",
      "#  831 |   0.54866 |   0.00000 |   0.71109 \n",
      "#  832 |   0.54924 |   0.00000 |   0.71693 \n",
      "#  833 |   0.54617 |   0.00000 |   0.73249 \n",
      "#  834 |   0.53730 |   0.00000 |   0.73638 \n",
      "#  835 |   0.53897 |   0.00000 |   0.74125 \n",
      "#  836 |   0.54266 |   0.00000 |   0.72860 \n",
      "#  837 |   0.52672 |   0.00000 |   0.75486 \n",
      "#  838 |   0.53487 |   0.00000 |   0.77626 \n",
      "#  839 |   0.53721 |   0.00000 |   0.73054 \n",
      "#  840 |   0.56242 |   0.00000 |   0.70623 \n",
      "#  841 |   0.54416 |   0.00000 |   0.71693 \n",
      "#  842 |   0.53821 |   0.00000 |   0.73054 \n",
      "#  843 |   0.52338 |   0.00000 |   0.76654 \n",
      "#  844 |   0.52326 |   0.00000 |   0.77335 \n",
      "#  845 |   0.53004 |   0.00000 |   0.75973 \n",
      "#  846 |   0.52644 |   0.00000 |   0.77918 \n",
      "#  847 |   0.52099 |   0.00000 |   0.78113 \n",
      "#  848 |   0.52136 |   0.00000 |   0.78599 \n",
      "#  849 |   0.51461 |   0.00000 |   0.79961 \n",
      "#  850 |   0.52613 |   0.00000 |   0.75389 \n",
      "#  851 |   0.52171 |   0.00000 |   0.78210 \n",
      "#  852 |   0.52806 |   0.00000 |   0.76556 \n",
      "#  853 |   0.52643 |   0.00000 |   0.78502 \n",
      "#  854 |   0.52034 |   0.00000 |   0.78599 \n",
      "#  855 |   0.51269 |   0.00000 |   0.79183 \n",
      "#  856 |   0.51479 |   0.00000 |   0.78210 \n",
      "#  857 |   0.50916 |   0.00000 |   0.79572 \n",
      "#  858 |   0.50813 |   0.00000 |   0.79475 \n",
      "#  859 |   0.50480 |   0.00000 |   0.81615 \n",
      "#  860 |   0.50278 |   0.00000 |   0.82879 \n",
      "#  861 |   0.49981 |   0.00000 |   0.82296 \n",
      "#  862 |   0.51360 |   0.00000 |   0.80447 \n",
      "#  863 |   0.50122 |   0.00000 |   0.79377 \n",
      "#  864 |   0.49991 |   0.00000 |   0.81712 \n",
      "#  865 |   0.49977 |   0.00000 |   0.82101 \n",
      "#  866 |   0.49591 |   0.00000 |   0.81323 \n",
      "#  867 |   0.49709 |   0.00000 |   0.83074 \n",
      "#  868 |   0.49621 |   0.00000 |   0.82685 \n",
      "#  869 |   0.49390 |   0.00000 |   0.81809 \n",
      "#  870 |   0.49332 |   0.00000 |   0.82685 \n",
      "#  871 |   0.49415 |   0.00000 |   0.82588 \n",
      "#  872 |   0.49587 |   0.00000 |   0.82198 \n",
      "#  873 |   0.50590 |   0.00000 |   0.76167 \n",
      "#  874 |   0.50653 |   0.00000 |   0.79280 \n",
      "#  875 |   0.50713 |   0.00000 |   0.79669 \n",
      "#  876 |   0.50457 |   0.00000 |   0.78210 \n",
      "#  877 |   0.50043 |   0.00000 |   0.80447 \n",
      "#  878 |   0.51643 |   0.00000 |   0.74805 \n",
      "#  879 |   0.51950 |   0.00000 |   0.74903 \n",
      "#  880 |   0.51771 |   0.00000 |   0.77140 \n",
      "#  881 |   0.49895 |   0.00000 |   0.77140 \n",
      "#  882 |   0.49755 |   0.00000 |   0.81420 \n",
      "#  883 |   0.49531 |   0.00000 |   0.79669 \n",
      "#  884 |   0.51883 |   0.00000 |   0.77335 \n",
      "#  885 |   0.51188 |   0.00000 |   0.76265 \n",
      "#  886 |   0.50649 |   0.00000 |   0.78307 \n",
      "#  887 |   0.50355 |   0.00000 |   0.78405 \n",
      "#  888 |   0.49438 |   0.00000 |   0.79864 \n",
      "#  889 |   0.49338 |   0.00000 |   0.82101 \n",
      "#  890 |   0.49197 |   0.00000 |   0.82393 \n",
      "#  891 |   0.48883 |   0.00000 |   0.82490 \n",
      "#  892 |   0.49004 |   0.00000 |   0.83658 \n",
      "#  893 |   0.48731 |   0.00000 |   0.82198 \n",
      "#  894 |   0.48745 |   0.00000 |   0.83560 \n",
      "#  895 |   0.49023 |   0.00000 |   0.81907 \n",
      "#  896 |   0.48879 |   0.00000 |   0.82393 \n",
      "#  897 |   0.48995 |   0.00000 |   0.82198 \n",
      "#  898 |   0.48738 |   0.00000 |   0.81809 \n",
      "#  899 |   0.48518 |   0.00000 |   0.81615 \n",
      "#  900 |   0.48521 |   0.00000 |   0.83852 \n",
      "#  901 |   0.48788 |   0.00000 |   0.82101 \n",
      "#  902 |   0.48487 |   0.00000 |   0.83268 \n",
      "#  903 |   0.48504 |   0.00000 |   0.82296 \n",
      "#  904 |   0.48348 |   0.00000 |   0.82782 \n",
      "#  905 |   0.48291 |   0.00000 |   0.83074 \n",
      "#  906 |   0.48198 |   0.00000 |   0.83074 \n",
      "#  907 |   0.48150 |   0.00000 |   0.83560 \n",
      "#  908 |   0.47950 |   0.00000 |   0.83463 \n",
      "#  909 |   0.47981 |   0.00000 |   0.83852 \n",
      "#  910 |   0.48167 |   0.00000 |   0.84047 \n",
      "#  911 |   0.48813 |   0.00000 |   0.75486 \n",
      "#  912 |   0.48913 |   0.00000 |   0.82101 \n",
      "#  913 |   0.48447 |   0.00000 |   0.80058 \n",
      "#  914 |   0.48232 |   0.00000 |   0.83658 \n",
      "#  915 |   0.47927 |   0.00000 |   0.83658 \n",
      "#  916 |   0.47946 |   0.00000 |   0.83463 \n",
      "#  917 |   0.48028 |   0.00000 |   0.83463 \n",
      "#  918 |   0.47864 |   0.00000 |   0.82490 \n",
      "#  919 |   0.47678 |   0.00000 |   0.83949 \n",
      "#  920 |   0.47827 |   0.00000 |   0.83755 \n",
      "#  921 |   0.47766 |   0.00000 |   0.84047 \n",
      "#  922 |   0.47743 |   0.00000 |   0.82296 \n",
      "#  923 |   0.47477 |   0.00000 |   0.83755 \n",
      "#  924 |   0.47580 |   0.00000 |   0.83755 \n",
      "#  925 |   0.47772 |   0.00000 |   0.84241 \n",
      "#  926 |   0.47633 |   0.00000 |   0.82879 \n",
      "#  927 |   0.47586 |   0.00000 |   0.83658 \n",
      "#  928 |   0.47410 |   0.00000 |   0.84922 \n",
      "#  929 |   0.47460 |   0.00000 |   0.83755 \n",
      "#  930 |   0.47401 |   0.00000 |   0.83463 \n",
      "#  931 |   0.47358 |   0.00000 |   0.83463 \n",
      "#  932 |   0.48433 |   0.00000 |   0.77529 \n",
      "#  933 |   0.48837 |   0.00000 |   0.80156 \n",
      "#  934 |   0.49228 |   0.00000 |   0.75000 \n",
      "#  935 |   0.53406 |   0.00000 |   0.72957 \n",
      "#  936 |   0.59349 |   0.00000 |   0.65370 \n",
      "#  937 |   0.54461 |   0.00000 |   0.65661 \n",
      "#  938 |   0.51751 |   0.00000 |   0.73541 \n",
      "#  939 |   0.51946 |   0.00000 |   0.76654 \n",
      "#  940 |   0.51198 |   0.00000 |   0.74611 \n",
      "#  941 |   0.49071 |   0.00000 |   0.79572 \n",
      "#  942 |   0.48741 |   0.00000 |   0.80837 \n",
      "#  943 |   0.48940 |   0.00000 |   0.83171 \n",
      "#  944 |   0.49434 |   0.00000 |   0.78307 \n",
      "#  945 |   0.50810 |   0.00000 |   0.79086 \n",
      "#  946 |   0.50190 |   0.00000 |   0.77529 \n",
      "#  947 |   0.50138 |   0.00000 |   0.79280 \n",
      "#  948 |   0.49911 |   0.00000 |   0.79572 \n",
      "#  949 |   0.50314 |   0.00000 |   0.80739 \n",
      "#  950 |   0.49738 |   0.00000 |   0.80058 \n",
      "#  951 |   0.53510 |   0.00000 |   0.74222 \n",
      "#  952 |   0.53245 |   0.00000 |   0.75973 \n",
      "#  953 |   0.50113 |   0.00000 |   0.79280 \n",
      "#  954 |   0.49678 |   0.00000 |   0.80642 \n",
      "#  955 |   0.49968 |   0.00000 |   0.82004 \n",
      "#  956 |   0.49353 |   0.00000 |   0.79864 \n",
      "#  957 |   0.49409 |   0.00000 |   0.82393 \n",
      "#  958 |   0.48850 |   0.00000 |   0.81712 \n",
      "#  959 |   0.48732 |   0.00000 |   0.82198 \n",
      "#  960 |   0.48583 |   0.00000 |   0.83463 \n",
      "#  961 |   0.48717 |   0.00000 |   0.83560 \n",
      "#  962 |   0.49166 |   0.00000 |   0.78988 \n",
      "#  963 |   0.48718 |   0.00000 |   0.82101 \n",
      "#  964 |   0.48449 |   0.00000 |   0.84436 \n",
      "#  965 |   0.48572 |   0.00000 |   0.84241 \n",
      "#  966 |   0.48336 |   0.00000 |   0.83366 \n",
      "#  967 |   0.48527 |   0.00000 |   0.82198 \n",
      "#  968 |   0.48378 |   0.00000 |   0.83658 \n",
      "#  969 |   0.48560 |   0.00000 |   0.83463 \n",
      "#  970 |   0.48140 |   0.00000 |   0.83560 \n",
      "#  971 |   0.47973 |   0.00000 |   0.84047 \n",
      "#  972 |   0.48026 |   0.00000 |   0.84339 \n"
     ]
    },
    {
     "name": "stdout",
     "output_type": "stream",
     "text": [
      "#  973 |   0.52743 |   0.00000 |   0.71109 \n",
      "#  974 |   0.51828 |   0.00000 |   0.73152 \n",
      "#  975 |   0.51169 |   0.00000 |   0.75681 \n",
      "#  976 |   0.50040 |   0.00000 |   0.77626 \n",
      "#  977 |   0.49987 |   0.00000 |   0.80545 \n",
      "#  978 |   0.49475 |   0.00000 |   0.79961 \n",
      "#  979 |   0.48799 |   0.00000 |   0.82685 \n",
      "#  980 |   0.48720 |   0.00000 |   0.83171 \n",
      "#  981 |   0.48790 |   0.00000 |   0.84241 \n",
      "#  982 |   0.48720 |   0.00000 |   0.82296 \n",
      "#  983 |   0.48248 |   0.00000 |   0.83366 \n",
      "#  984 |   0.48260 |   0.00000 |   0.85019 \n",
      "#  985 |   0.48272 |   0.00000 |   0.83560 \n",
      "#  986 |   0.48424 |   0.00000 |   0.82101 \n",
      "#  987 |   0.48143 |   0.00000 |   0.84047 \n",
      "#  988 |   0.48048 |   0.00000 |   0.82977 \n",
      "#  989 |   0.47887 |   0.00000 |   0.84922 \n",
      "#  990 |   0.48022 |   0.00000 |   0.84241 \n",
      "#  991 |   0.47867 |   0.00000 |   0.84533 \n",
      "#  992 |   0.47878 |   0.00000 |   0.84241 \n",
      "#  993 |   0.47876 |   0.00000 |   0.83560 \n",
      "#  994 |   0.47767 |   0.00000 |   0.84144 \n",
      "#  995 |   0.47786 |   0.00000 |   0.85214 \n",
      "#  996 |   0.47649 |   0.00000 |   0.84533 \n",
      "#  997 |   0.47572 |   0.00000 |   0.84728 \n",
      "#  998 |   0.47814 |   0.00000 |   0.83560 \n",
      "#  999 |   0.47693 |   0.00000 |   0.82588 \n",
      "# 1000 |   0.47429 |   0.00000 |   0.82977 \n",
      "# 1001 |   0.47584 |   0.00000 |   0.85798 \n",
      "# 1002 |   0.47488 |   0.00000 |   0.84825 \n",
      "# 1003 |   0.47582 |   0.00000 |   0.83560 \n",
      "# 1004 |   0.47530 |   0.00000 |   0.83366 \n",
      "# 1005 |   0.47396 |   0.00000 |   0.83852 \n",
      "# 1006 |   0.47526 |   0.00000 |   0.82879 \n",
      "# 1007 |   0.47325 |   0.00000 |   0.83755 \n",
      "# 1008 |   0.47301 |   0.00000 |   0.83949 \n",
      "# 1009 |   0.47212 |   0.00000 |   0.85117 \n",
      "# 1010 |   0.47124 |   0.00000 |   0.84728 \n",
      "# 1011 |   0.47168 |   0.00000 |   0.85700 \n",
      "# 1012 |   0.49259 |   0.00000 |   0.79864 \n",
      "# 1013 |   0.49331 |   0.00000 |   0.78891 \n",
      "# 1014 |   0.48602 |   0.00000 |   0.79280 \n",
      "# 1015 |   0.51709 |   0.00000 |   0.73444 \n",
      "# 1016 |   0.50436 |   0.00000 |   0.76070 \n",
      "# 1017 |   0.49104 |   0.00000 |   0.78016 \n",
      "# 1018 |   0.48956 |   0.00000 |   0.80253 \n",
      "# 1019 |   0.54473 |   0.00000 |   0.76459 \n",
      "# 1020 |   0.51186 |   0.00000 |   0.74514 \n"
     ]
    }
   ],
   "source": [
    "alphazero_train(config)"
   ]
  },
  {
   "cell_type": "code",
   "execution_count": 40,
   "metadata": {},
   "outputs": [
    {
     "data": {
      "text/plain": [
       "133"
      ]
     },
     "execution_count": 40,
     "metadata": {},
     "output_type": "execute_result"
    }
   ],
   "source": [
    "len(game.memory)"
   ]
  },
  {
   "cell_type": "markdown",
   "metadata": {},
   "source": [
    "Let's train best_player some more:"
   ]
  },
  {
   "cell_type": "code",
   "execution_count": 48,
   "metadata": {},
   "outputs": [
    {
     "data": {
      "image/svg+xml": [
       "<svg height=\"288pt\" version=\"1.1\" viewBox=\"0 0 432 288\" width=\"432pt\" xmlns=\"http://www.w3.org/2000/svg\" xmlns:xlink=\"http://www.w3.org/1999/xlink\">\n",
       " <defs>\n",
       "  <style type=\"text/css\">\n",
       "*{stroke-linecap:butt;stroke-linejoin:round;}\n",
       "  </style>\n",
       " </defs>\n",
       " <g id=\"figure_1\">\n",
       "  <g id=\"patch_1\">\n",
       "   <path d=\"M 0 288  L 432 288  L 432 0  L 0 0  z \" style=\"fill:#ffffff;\"/>\n",
       "  </g>\n",
       "  <g id=\"axes_1\">\n",
       "   <g id=\"patch_2\">\n",
       "    <path d=\"M 54 252  L 388.8 252  L 388.8 34.56  L 54 34.56  z \" style=\"fill:#ffffff;\"/>\n",
       "   </g>\n",
       "   <g id=\"matplotlib.axis_1\">\n",
       "    <g id=\"xtick_1\">\n",
       "     <g id=\"line2d_1\">\n",
       "      <defs>\n",
       "       <path d=\"M 0 0  L 0 3.5  \" id=\"m7327d1edcb\" style=\"stroke:#000000;stroke-width:0.8;\"/>\n",
       "      </defs>\n",
       "      <g>\n",
       "       <use style=\"stroke:#000000;stroke-width:0.8;\" x=\"69.218182\" xlink:href=\"#m7327d1edcb\" y=\"252\"/>\n",
       "      </g>\n",
       "     </g>\n",
       "     <g id=\"text_1\">\n",
       "      <!-- 0 -->\n",
       "      <defs>\n",
       "       <path d=\"M 31.78125 66.40625  Q 24.171875 66.40625 20.328125 58.90625  Q 16.5 51.421875 16.5 36.375  Q 16.5 21.390625 20.328125 13.890625  Q 24.171875 6.390625 31.78125 6.390625  Q 39.453125 6.390625 43.28125 13.890625  Q 47.125 21.390625 47.125 36.375  Q 47.125 51.421875 43.28125 58.90625  Q 39.453125 66.40625 31.78125 66.40625  z M 31.78125 74.21875  Q 44.046875 74.21875 50.515625 64.515625  Q 56.984375 54.828125 56.984375 36.375  Q 56.984375 17.96875 50.515625 8.265625  Q 44.046875 -1.421875 31.78125 -1.421875  Q 19.53125 -1.421875 13.0625 8.265625  Q 6.59375 17.96875 6.59375 36.375  Q 6.59375 54.828125 13.0625 64.515625  Q 19.53125 74.21875 31.78125 74.21875  z \" id=\"DejaVuSans-30\"/>\n",
       "      </defs>\n",
       "      <g transform=\"translate(66.036932 266.598437)scale(0.1 -0.1)\">\n",
       "       <use xlink:href=\"#DejaVuSans-30\"/>\n",
       "      </g>\n",
       "     </g>\n",
       "    </g>\n",
       "    <g id=\"xtick_2\">\n",
       "     <g id=\"line2d_2\">\n",
       "      <g>\n",
       "       <use style=\"stroke:#000000;stroke-width:0.8;\" x=\"107.216139\" xlink:href=\"#m7327d1edcb\" y=\"252\"/>\n",
       "      </g>\n",
       "     </g>\n",
       "     <g id=\"text_2\">\n",
       "      <!-- 100 -->\n",
       "      <defs>\n",
       "       <path d=\"M 12.40625 8.296875  L 28.515625 8.296875  L 28.515625 63.921875  L 10.984375 60.40625  L 10.984375 69.390625  L 28.421875 72.90625  L 38.28125 72.90625  L 38.28125 8.296875  L 54.390625 8.296875  L 54.390625 0  L 12.40625 0  z \" id=\"DejaVuSans-31\"/>\n",
       "      </defs>\n",
       "      <g transform=\"translate(97.672389 266.598437)scale(0.1 -0.1)\">\n",
       "       <use xlink:href=\"#DejaVuSans-31\"/>\n",
       "       <use x=\"63.623047\" xlink:href=\"#DejaVuSans-30\"/>\n",
       "       <use x=\"127.246094\" xlink:href=\"#DejaVuSans-30\"/>\n",
       "      </g>\n",
       "     </g>\n",
       "    </g>\n",
       "    <g id=\"xtick_3\">\n",
       "     <g id=\"line2d_3\">\n",
       "      <g>\n",
       "       <use style=\"stroke:#000000;stroke-width:0.8;\" x=\"145.214096\" xlink:href=\"#m7327d1edcb\" y=\"252\"/>\n",
       "      </g>\n",
       "     </g>\n",
       "     <g id=\"text_3\">\n",
       "      <!-- 200 -->\n",
       "      <defs>\n",
       "       <path d=\"M 19.1875 8.296875  L 53.609375 8.296875  L 53.609375 0  L 7.328125 0  L 7.328125 8.296875  Q 12.9375 14.109375 22.625 23.890625  Q 32.328125 33.6875 34.8125 36.53125  Q 39.546875 41.84375 41.421875 45.53125  Q 43.3125 49.21875 43.3125 52.78125  Q 43.3125 58.59375 39.234375 62.25  Q 35.15625 65.921875 28.609375 65.921875  Q 23.96875 65.921875 18.8125 64.3125  Q 13.671875 62.703125 7.8125 59.421875  L 7.8125 69.390625  Q 13.765625 71.78125 18.9375 73  Q 24.125 74.21875 28.421875 74.21875  Q 39.75 74.21875 46.484375 68.546875  Q 53.21875 62.890625 53.21875 53.421875  Q 53.21875 48.921875 51.53125 44.890625  Q 49.859375 40.875 45.40625 35.40625  Q 44.1875 33.984375 37.640625 27.21875  Q 31.109375 20.453125 19.1875 8.296875  z \" id=\"DejaVuSans-32\"/>\n",
       "      </defs>\n",
       "      <g transform=\"translate(135.670346 266.598437)scale(0.1 -0.1)\">\n",
       "       <use xlink:href=\"#DejaVuSans-32\"/>\n",
       "       <use x=\"63.623047\" xlink:href=\"#DejaVuSans-30\"/>\n",
       "       <use x=\"127.246094\" xlink:href=\"#DejaVuSans-30\"/>\n",
       "      </g>\n",
       "     </g>\n",
       "    </g>\n",
       "    <g id=\"xtick_4\">\n",
       "     <g id=\"line2d_4\">\n",
       "      <g>\n",
       "       <use style=\"stroke:#000000;stroke-width:0.8;\" x=\"183.212053\" xlink:href=\"#m7327d1edcb\" y=\"252\"/>\n",
       "      </g>\n",
       "     </g>\n",
       "     <g id=\"text_4\">\n",
       "      <!-- 300 -->\n",
       "      <defs>\n",
       "       <path d=\"M 40.578125 39.3125  Q 47.65625 37.796875 51.625 33  Q 55.609375 28.21875 55.609375 21.1875  Q 55.609375 10.40625 48.1875 4.484375  Q 40.765625 -1.421875 27.09375 -1.421875  Q 22.515625 -1.421875 17.65625 -0.515625  Q 12.796875 0.390625 7.625 2.203125  L 7.625 11.71875  Q 11.71875 9.328125 16.59375 8.109375  Q 21.484375 6.890625 26.8125 6.890625  Q 36.078125 6.890625 40.9375 10.546875  Q 45.796875 14.203125 45.796875 21.1875  Q 45.796875 27.640625 41.28125 31.265625  Q 36.765625 34.90625 28.71875 34.90625  L 20.21875 34.90625  L 20.21875 43.015625  L 29.109375 43.015625  Q 36.375 43.015625 40.234375 45.921875  Q 44.09375 48.828125 44.09375 54.296875  Q 44.09375 59.90625 40.109375 62.90625  Q 36.140625 65.921875 28.71875 65.921875  Q 24.65625 65.921875 20.015625 65.03125  Q 15.375 64.15625 9.8125 62.3125  L 9.8125 71.09375  Q 15.4375 72.65625 20.34375 73.4375  Q 25.25 74.21875 29.59375 74.21875  Q 40.828125 74.21875 47.359375 69.109375  Q 53.90625 64.015625 53.90625 55.328125  Q 53.90625 49.265625 50.4375 45.09375  Q 46.96875 40.921875 40.578125 39.3125  z \" id=\"DejaVuSans-33\"/>\n",
       "      </defs>\n",
       "      <g transform=\"translate(173.668303 266.598437)scale(0.1 -0.1)\">\n",
       "       <use xlink:href=\"#DejaVuSans-33\"/>\n",
       "       <use x=\"63.623047\" xlink:href=\"#DejaVuSans-30\"/>\n",
       "       <use x=\"127.246094\" xlink:href=\"#DejaVuSans-30\"/>\n",
       "      </g>\n",
       "     </g>\n",
       "    </g>\n",
       "    <g id=\"xtick_5\">\n",
       "     <g id=\"line2d_5\">\n",
       "      <g>\n",
       "       <use style=\"stroke:#000000;stroke-width:0.8;\" x=\"221.21001\" xlink:href=\"#m7327d1edcb\" y=\"252\"/>\n",
       "      </g>\n",
       "     </g>\n",
       "     <g id=\"text_5\">\n",
       "      <!-- 400 -->\n",
       "      <defs>\n",
       "       <path d=\"M 37.796875 64.3125  L 12.890625 25.390625  L 37.796875 25.390625  z M 35.203125 72.90625  L 47.609375 72.90625  L 47.609375 25.390625  L 58.015625 25.390625  L 58.015625 17.1875  L 47.609375 17.1875  L 47.609375 0  L 37.796875 0  L 37.796875 17.1875  L 4.890625 17.1875  L 4.890625 26.703125  z \" id=\"DejaVuSans-34\"/>\n",
       "      </defs>\n",
       "      <g transform=\"translate(211.66626 266.598437)scale(0.1 -0.1)\">\n",
       "       <use xlink:href=\"#DejaVuSans-34\"/>\n",
       "       <use x=\"63.623047\" xlink:href=\"#DejaVuSans-30\"/>\n",
       "       <use x=\"127.246094\" xlink:href=\"#DejaVuSans-30\"/>\n",
       "      </g>\n",
       "     </g>\n",
       "    </g>\n",
       "    <g id=\"xtick_6\">\n",
       "     <g id=\"line2d_6\">\n",
       "      <g>\n",
       "       <use style=\"stroke:#000000;stroke-width:0.8;\" x=\"259.207967\" xlink:href=\"#m7327d1edcb\" y=\"252\"/>\n",
       "      </g>\n",
       "     </g>\n",
       "     <g id=\"text_6\">\n",
       "      <!-- 500 -->\n",
       "      <defs>\n",
       "       <path d=\"M 10.796875 72.90625  L 49.515625 72.90625  L 49.515625 64.59375  L 19.828125 64.59375  L 19.828125 46.734375  Q 21.96875 47.46875 24.109375 47.828125  Q 26.265625 48.1875 28.421875 48.1875  Q 40.625 48.1875 47.75 41.5  Q 54.890625 34.8125 54.890625 23.390625  Q 54.890625 11.625 47.5625 5.09375  Q 40.234375 -1.421875 26.90625 -1.421875  Q 22.3125 -1.421875 17.546875 -0.640625  Q 12.796875 0.140625 7.71875 1.703125  L 7.71875 11.625  Q 12.109375 9.234375 16.796875 8.0625  Q 21.484375 6.890625 26.703125 6.890625  Q 35.15625 6.890625 40.078125 11.328125  Q 45.015625 15.765625 45.015625 23.390625  Q 45.015625 31 40.078125 35.4375  Q 35.15625 39.890625 26.703125 39.890625  Q 22.75 39.890625 18.8125 39.015625  Q 14.890625 38.140625 10.796875 36.28125  z \" id=\"DejaVuSans-35\"/>\n",
       "      </defs>\n",
       "      <g transform=\"translate(249.664217 266.598437)scale(0.1 -0.1)\">\n",
       "       <use xlink:href=\"#DejaVuSans-35\"/>\n",
       "       <use x=\"63.623047\" xlink:href=\"#DejaVuSans-30\"/>\n",
       "       <use x=\"127.246094\" xlink:href=\"#DejaVuSans-30\"/>\n",
       "      </g>\n",
       "     </g>\n",
       "    </g>\n",
       "    <g id=\"xtick_7\">\n",
       "     <g id=\"line2d_7\">\n",
       "      <g>\n",
       "       <use style=\"stroke:#000000;stroke-width:0.8;\" x=\"297.205924\" xlink:href=\"#m7327d1edcb\" y=\"252\"/>\n",
       "      </g>\n",
       "     </g>\n",
       "     <g id=\"text_7\">\n",
       "      <!-- 600 -->\n",
       "      <defs>\n",
       "       <path d=\"M 33.015625 40.375  Q 26.375 40.375 22.484375 35.828125  Q 18.609375 31.296875 18.609375 23.390625  Q 18.609375 15.53125 22.484375 10.953125  Q 26.375 6.390625 33.015625 6.390625  Q 39.65625 6.390625 43.53125 10.953125  Q 47.40625 15.53125 47.40625 23.390625  Q 47.40625 31.296875 43.53125 35.828125  Q 39.65625 40.375 33.015625 40.375  z M 52.59375 71.296875  L 52.59375 62.3125  Q 48.875 64.0625 45.09375 64.984375  Q 41.3125 65.921875 37.59375 65.921875  Q 27.828125 65.921875 22.671875 59.328125  Q 17.53125 52.734375 16.796875 39.40625  Q 19.671875 43.65625 24.015625 45.921875  Q 28.375 48.1875 33.59375 48.1875  Q 44.578125 48.1875 50.953125 41.515625  Q 57.328125 34.859375 57.328125 23.390625  Q 57.328125 12.15625 50.6875 5.359375  Q 44.046875 -1.421875 33.015625 -1.421875  Q 20.359375 -1.421875 13.671875 8.265625  Q 6.984375 17.96875 6.984375 36.375  Q 6.984375 53.65625 15.1875 63.9375  Q 23.390625 74.21875 37.203125 74.21875  Q 40.921875 74.21875 44.703125 73.484375  Q 48.484375 72.75 52.59375 71.296875  z \" id=\"DejaVuSans-36\"/>\n",
       "      </defs>\n",
       "      <g transform=\"translate(287.662174 266.598437)scale(0.1 -0.1)\">\n",
       "       <use xlink:href=\"#DejaVuSans-36\"/>\n",
       "       <use x=\"63.623047\" xlink:href=\"#DejaVuSans-30\"/>\n",
       "       <use x=\"127.246094\" xlink:href=\"#DejaVuSans-30\"/>\n",
       "      </g>\n",
       "     </g>\n",
       "    </g>\n",
       "    <g id=\"xtick_8\">\n",
       "     <g id=\"line2d_8\">\n",
       "      <g>\n",
       "       <use style=\"stroke:#000000;stroke-width:0.8;\" x=\"335.203882\" xlink:href=\"#m7327d1edcb\" y=\"252\"/>\n",
       "      </g>\n",
       "     </g>\n",
       "     <g id=\"text_8\">\n",
       "      <!-- 700 -->\n",
       "      <defs>\n",
       "       <path d=\"M 8.203125 72.90625  L 55.078125 72.90625  L 55.078125 68.703125  L 28.609375 0  L 18.3125 0  L 43.21875 64.59375  L 8.203125 64.59375  z \" id=\"DejaVuSans-37\"/>\n",
       "      </defs>\n",
       "      <g transform=\"translate(325.660132 266.598437)scale(0.1 -0.1)\">\n",
       "       <use xlink:href=\"#DejaVuSans-37\"/>\n",
       "       <use x=\"63.623047\" xlink:href=\"#DejaVuSans-30\"/>\n",
       "       <use x=\"127.246094\" xlink:href=\"#DejaVuSans-30\"/>\n",
       "      </g>\n",
       "     </g>\n",
       "    </g>\n",
       "    <g id=\"xtick_9\">\n",
       "     <g id=\"line2d_9\">\n",
       "      <g>\n",
       "       <use style=\"stroke:#000000;stroke-width:0.8;\" x=\"373.201839\" xlink:href=\"#m7327d1edcb\" y=\"252\"/>\n",
       "      </g>\n",
       "     </g>\n",
       "     <g id=\"text_9\">\n",
       "      <!-- 800 -->\n",
       "      <defs>\n",
       "       <path d=\"M 31.78125 34.625  Q 24.75 34.625 20.71875 30.859375  Q 16.703125 27.09375 16.703125 20.515625  Q 16.703125 13.921875 20.71875 10.15625  Q 24.75 6.390625 31.78125 6.390625  Q 38.8125 6.390625 42.859375 10.171875  Q 46.921875 13.96875 46.921875 20.515625  Q 46.921875 27.09375 42.890625 30.859375  Q 38.875 34.625 31.78125 34.625  z M 21.921875 38.8125  Q 15.578125 40.375 12.03125 44.71875  Q 8.5 49.078125 8.5 55.328125  Q 8.5 64.0625 14.71875 69.140625  Q 20.953125 74.21875 31.78125 74.21875  Q 42.671875 74.21875 48.875 69.140625  Q 55.078125 64.0625 55.078125 55.328125  Q 55.078125 49.078125 51.53125 44.71875  Q 48 40.375 41.703125 38.8125  Q 48.828125 37.15625 52.796875 32.3125  Q 56.78125 27.484375 56.78125 20.515625  Q 56.78125 9.90625 50.3125 4.234375  Q 43.84375 -1.421875 31.78125 -1.421875  Q 19.734375 -1.421875 13.25 4.234375  Q 6.78125 9.90625 6.78125 20.515625  Q 6.78125 27.484375 10.78125 32.3125  Q 14.796875 37.15625 21.921875 38.8125  z M 18.3125 54.390625  Q 18.3125 48.734375 21.84375 45.5625  Q 25.390625 42.390625 31.78125 42.390625  Q 38.140625 42.390625 41.71875 45.5625  Q 45.3125 48.734375 45.3125 54.390625  Q 45.3125 60.0625 41.71875 63.234375  Q 38.140625 66.40625 31.78125 66.40625  Q 25.390625 66.40625 21.84375 63.234375  Q 18.3125 60.0625 18.3125 54.390625  z \" id=\"DejaVuSans-38\"/>\n",
       "      </defs>\n",
       "      <g transform=\"translate(363.658089 266.598437)scale(0.1 -0.1)\">\n",
       "       <use xlink:href=\"#DejaVuSans-38\"/>\n",
       "       <use x=\"63.623047\" xlink:href=\"#DejaVuSans-30\"/>\n",
       "       <use x=\"127.246094\" xlink:href=\"#DejaVuSans-30\"/>\n",
       "      </g>\n",
       "     </g>\n",
       "    </g>\n",
       "    <g id=\"text_10\">\n",
       "     <!-- Epoch -->\n",
       "     <defs>\n",
       "      <path d=\"M 9.8125 72.90625  L 55.90625 72.90625  L 55.90625 64.59375  L 19.671875 64.59375  L 19.671875 43.015625  L 54.390625 43.015625  L 54.390625 34.71875  L 19.671875 34.71875  L 19.671875 8.296875  L 56.78125 8.296875  L 56.78125 0  L 9.8125 0  z \" id=\"DejaVuSans-45\"/>\n",
       "      <path d=\"M 18.109375 8.203125  L 18.109375 -20.796875  L 9.078125 -20.796875  L 9.078125 54.6875  L 18.109375 54.6875  L 18.109375 46.390625  Q 20.953125 51.265625 25.265625 53.625  Q 29.59375 56 35.59375 56  Q 45.5625 56 51.78125 48.09375  Q 58.015625 40.1875 58.015625 27.296875  Q 58.015625 14.40625 51.78125 6.484375  Q 45.5625 -1.421875 35.59375 -1.421875  Q 29.59375 -1.421875 25.265625 0.953125  Q 20.953125 3.328125 18.109375 8.203125  z M 48.6875 27.296875  Q 48.6875 37.203125 44.609375 42.84375  Q 40.53125 48.484375 33.40625 48.484375  Q 26.265625 48.484375 22.1875 42.84375  Q 18.109375 37.203125 18.109375 27.296875  Q 18.109375 17.390625 22.1875 11.75  Q 26.265625 6.109375 33.40625 6.109375  Q 40.53125 6.109375 44.609375 11.75  Q 48.6875 17.390625 48.6875 27.296875  z \" id=\"DejaVuSans-70\"/>\n",
       "      <path d=\"M 30.609375 48.390625  Q 23.390625 48.390625 19.1875 42.75  Q 14.984375 37.109375 14.984375 27.296875  Q 14.984375 17.484375 19.15625 11.84375  Q 23.34375 6.203125 30.609375 6.203125  Q 37.796875 6.203125 41.984375 11.859375  Q 46.1875 17.53125 46.1875 27.296875  Q 46.1875 37.015625 41.984375 42.703125  Q 37.796875 48.390625 30.609375 48.390625  z M 30.609375 56  Q 42.328125 56 49.015625 48.375  Q 55.71875 40.765625 55.71875 27.296875  Q 55.71875 13.875 49.015625 6.21875  Q 42.328125 -1.421875 30.609375 -1.421875  Q 18.84375 -1.421875 12.171875 6.21875  Q 5.515625 13.875 5.515625 27.296875  Q 5.515625 40.765625 12.171875 48.375  Q 18.84375 56 30.609375 56  z \" id=\"DejaVuSans-6f\"/>\n",
       "      <path d=\"M 48.78125 52.59375  L 48.78125 44.1875  Q 44.96875 46.296875 41.140625 47.34375  Q 37.3125 48.390625 33.40625 48.390625  Q 24.65625 48.390625 19.8125 42.84375  Q 14.984375 37.3125 14.984375 27.296875  Q 14.984375 17.28125 19.8125 11.734375  Q 24.65625 6.203125 33.40625 6.203125  Q 37.3125 6.203125 41.140625 7.25  Q 44.96875 8.296875 48.78125 10.40625  L 48.78125 2.09375  Q 45.015625 0.34375 40.984375 -0.53125  Q 36.96875 -1.421875 32.421875 -1.421875  Q 20.0625 -1.421875 12.78125 6.34375  Q 5.515625 14.109375 5.515625 27.296875  Q 5.515625 40.671875 12.859375 48.328125  Q 20.21875 56 33.015625 56  Q 37.15625 56 41.109375 55.140625  Q 45.0625 54.296875 48.78125 52.59375  z \" id=\"DejaVuSans-63\"/>\n",
       "      <path d=\"M 54.890625 33.015625  L 54.890625 0  L 45.90625 0  L 45.90625 32.71875  Q 45.90625 40.484375 42.875 44.328125  Q 39.84375 48.1875 33.796875 48.1875  Q 26.515625 48.1875 22.3125 43.546875  Q 18.109375 38.921875 18.109375 30.90625  L 18.109375 0  L 9.078125 0  L 9.078125 75.984375  L 18.109375 75.984375  L 18.109375 46.1875  Q 21.34375 51.125 25.703125 53.5625  Q 30.078125 56 35.796875 56  Q 45.21875 56 50.046875 50.171875  Q 54.890625 44.34375 54.890625 33.015625  z \" id=\"DejaVuSans-68\"/>\n",
       "     </defs>\n",
       "     <g transform=\"translate(206.089063 280.276563)scale(0.1 -0.1)\">\n",
       "      <use xlink:href=\"#DejaVuSans-45\"/>\n",
       "      <use x=\"63.183594\" xlink:href=\"#DejaVuSans-70\"/>\n",
       "      <use x=\"126.660156\" xlink:href=\"#DejaVuSans-6f\"/>\n",
       "      <use x=\"187.841797\" xlink:href=\"#DejaVuSans-63\"/>\n",
       "      <use x=\"242.822266\" xlink:href=\"#DejaVuSans-68\"/>\n",
       "     </g>\n",
       "    </g>\n",
       "   </g>\n",
       "   <g id=\"matplotlib.axis_2\">\n",
       "    <g id=\"ytick_1\">\n",
       "     <g id=\"line2d_10\">\n",
       "      <defs>\n",
       "       <path d=\"M 0 0  L -3.5 0  \" id=\"mee28a62105\" style=\"stroke:#000000;stroke-width:0.8;\"/>\n",
       "      </defs>\n",
       "      <g>\n",
       "       <use style=\"stroke:#000000;stroke-width:0.8;\" x=\"54\" xlink:href=\"#mee28a62105\" y=\"252\"/>\n",
       "      </g>\n",
       "     </g>\n",
       "     <g id=\"text_11\">\n",
       "      <!-- 0.0 -->\n",
       "      <defs>\n",
       "       <path d=\"M 10.6875 12.40625  L 21 12.40625  L 21 0  L 10.6875 0  z \" id=\"DejaVuSans-2e\"/>\n",
       "      </defs>\n",
       "      <g transform=\"translate(31.096875 255.799219)scale(0.1 -0.1)\">\n",
       "       <use xlink:href=\"#DejaVuSans-30\"/>\n",
       "       <use x=\"63.623047\" xlink:href=\"#DejaVuSans-2e\"/>\n",
       "       <use x=\"95.410156\" xlink:href=\"#DejaVuSans-30\"/>\n",
       "      </g>\n",
       "     </g>\n",
       "    </g>\n",
       "    <g id=\"ytick_2\">\n",
       "     <g id=\"line2d_11\">\n",
       "      <g>\n",
       "       <use style=\"stroke:#000000;stroke-width:0.8;\" x=\"54\" xlink:href=\"#mee28a62105\" y=\"212.672613\"/>\n",
       "      </g>\n",
       "     </g>\n",
       "     <g id=\"text_12\">\n",
       "      <!-- 0.2 -->\n",
       "      <g transform=\"translate(31.096875 216.471832)scale(0.1 -0.1)\">\n",
       "       <use xlink:href=\"#DejaVuSans-30\"/>\n",
       "       <use x=\"63.623047\" xlink:href=\"#DejaVuSans-2e\"/>\n",
       "       <use x=\"95.410156\" xlink:href=\"#DejaVuSans-32\"/>\n",
       "      </g>\n",
       "     </g>\n",
       "    </g>\n",
       "    <g id=\"ytick_3\">\n",
       "     <g id=\"line2d_12\">\n",
       "      <g>\n",
       "       <use style=\"stroke:#000000;stroke-width:0.8;\" x=\"54\" xlink:href=\"#mee28a62105\" y=\"173.345226\"/>\n",
       "      </g>\n",
       "     </g>\n",
       "     <g id=\"text_13\">\n",
       "      <!-- 0.4 -->\n",
       "      <g transform=\"translate(31.096875 177.144445)scale(0.1 -0.1)\">\n",
       "       <use xlink:href=\"#DejaVuSans-30\"/>\n",
       "       <use x=\"63.623047\" xlink:href=\"#DejaVuSans-2e\"/>\n",
       "       <use x=\"95.410156\" xlink:href=\"#DejaVuSans-34\"/>\n",
       "      </g>\n",
       "     </g>\n",
       "    </g>\n",
       "    <g id=\"ytick_4\">\n",
       "     <g id=\"line2d_13\">\n",
       "      <g>\n",
       "       <use style=\"stroke:#000000;stroke-width:0.8;\" x=\"54\" xlink:href=\"#mee28a62105\" y=\"134.017839\"/>\n",
       "      </g>\n",
       "     </g>\n",
       "     <g id=\"text_14\">\n",
       "      <!-- 0.6 -->\n",
       "      <g transform=\"translate(31.096875 137.817058)scale(0.1 -0.1)\">\n",
       "       <use xlink:href=\"#DejaVuSans-30\"/>\n",
       "       <use x=\"63.623047\" xlink:href=\"#DejaVuSans-2e\"/>\n",
       "       <use x=\"95.410156\" xlink:href=\"#DejaVuSans-36\"/>\n",
       "      </g>\n",
       "     </g>\n",
       "    </g>\n",
       "    <g id=\"ytick_5\">\n",
       "     <g id=\"line2d_14\">\n",
       "      <g>\n",
       "       <use style=\"stroke:#000000;stroke-width:0.8;\" x=\"54\" xlink:href=\"#mee28a62105\" y=\"94.690452\"/>\n",
       "      </g>\n",
       "     </g>\n",
       "     <g id=\"text_15\">\n",
       "      <!-- 0.8 -->\n",
       "      <g transform=\"translate(31.096875 98.489671)scale(0.1 -0.1)\">\n",
       "       <use xlink:href=\"#DejaVuSans-30\"/>\n",
       "       <use x=\"63.623047\" xlink:href=\"#DejaVuSans-2e\"/>\n",
       "       <use x=\"95.410156\" xlink:href=\"#DejaVuSans-38\"/>\n",
       "      </g>\n",
       "     </g>\n",
       "    </g>\n",
       "    <g id=\"ytick_6\">\n",
       "     <g id=\"line2d_15\">\n",
       "      <g>\n",
       "       <use style=\"stroke:#000000;stroke-width:0.8;\" x=\"54\" xlink:href=\"#mee28a62105\" y=\"55.363065\"/>\n",
       "      </g>\n",
       "     </g>\n",
       "     <g id=\"text_16\">\n",
       "      <!-- 1.0 -->\n",
       "      <g transform=\"translate(31.096875 59.162284)scale(0.1 -0.1)\">\n",
       "       <use xlink:href=\"#DejaVuSans-31\"/>\n",
       "       <use x=\"63.623047\" xlink:href=\"#DejaVuSans-2e\"/>\n",
       "       <use x=\"95.410156\" xlink:href=\"#DejaVuSans-30\"/>\n",
       "      </g>\n",
       "     </g>\n",
       "    </g>\n",
       "   </g>\n",
       "   <g id=\"line2d_16\">\n",
       "    <path clip-path=\"url(#pfb933a05e8)\" d=\"M 69.218182 62.485402  L 69.598161 41.218036  L 69.978141 101.844994  L 70.358121 115.008758  L 70.7381 121.230595  L 71.11808 136.167845  L 71.498059 142.649662  L 71.878039 138.319323  L 72.258018 121.131161  L 72.637998 132.479139  L 73.017978 134.501701  L 73.397957 147.030606  L 73.777937 147.157919  L 74.157916 152.284851  L 74.917875 149.348378  L 75.297855 143.267274  L 75.677835 146.250959  L 76.057814 151.371679  L 76.437794 150.227262  L 76.817773 152.584806  L 77.197753 153.42699  L 77.577732 153.710954  L 78.337692 153.91332  L 78.717671 154.259882  L 79.097651 153.847121  L 79.47763 154.578776  L 79.85761 154.940184  L 80.237589 153.616486  L 80.997549 155.63675  L 81.377528 155.42126  L 81.757508 154.71263  L 82.137487 149.235121  L 82.517467 156.053992  L 83.277426 156.206138  L 84.037385 156.810169  L 84.417365 156.51417  L 85.177324 157.36145  L 85.557303 157.296269  L 85.937283 157.355754  L 86.697242 156.597251  L 87.077222 153.353332  L 87.457201 157.157898  L 87.837181 157.444613  L 88.21716 156.687692  L 88.59714 149.157316  L 88.97712 147.254413  L 89.357099 138.290206  L 89.737079 143.896355  L 90.117058 152.501645  L 90.497038 154.386964  L 90.877017 155.435613  L 91.256997 148.381358  L 91.636977 154.125931  L 92.016956 153.520837  L 92.776915 156.4753  L 93.156895 154.074239  L 93.916854 156.63087  L 94.296834 157.311524  L 94.676813 157.326694  L 95.056793 157.548149  L 95.436772 157.572331  L 95.816752 158.844551  L 96.576711 158.03314  L 96.956691 158.361319  L 97.33667 159.107182  L 97.71665 158.871363  L 98.096629 159.23571  L 98.856588 159.40076  L 99.236568 159.189385  L 99.616547 159.517197  L 99.996527 159.354189  L 100.376507 158.621261  L 100.756486 156.53366  L 101.136466 153.118138  L 101.516445 154.565994  L 101.896425 157.368735  L 102.276404 158.780105  L 102.656384 159.579458  L 103.036364 159.453854  L 103.416343 158.241696  L 103.796323 160.169035  L 104.176302 160.946195  L 104.556282 160.412472  L 104.936261 159.539867  L 105.316241 159.483314  L 105.696221 160.275319  L 106.836159 160.206078  L 107.216139 160.631805  L 107.596118 156.994683  L 107.976098 140.016057  L 108.356078 155.30208  L 108.736057 149.015381  L 109.116037 155.402663  L 109.496016 158.447206  L 109.875996 158.818107  L 110.255975 158.364154  L 110.635955 158.869969  L 111.015935 158.716313  L 111.395914 159.118482  L 112.915832 159.9838  L 113.295812 160.097367  L 113.675792 160.371743  L 114.055771 159.235906  L 114.435751 159.4905  L 114.81573 160.08662  L 115.19571 161.00909  L 115.575689 160.996355  L 115.955669 160.835679  L 116.335649 160.525303  L 116.715628 160.872548  L 117.095608 161.413556  L 117.855567 161.635116  L 118.235546 162.130323  L 118.615526 161.68571  L 118.995506 160.881527  L 119.755465 151.716782  L 120.135444 159.066366  L 120.515424 160.7643  L 120.895403 160.71992  L 121.275383 155.12123  L 121.655363 156.327904  L 122.035342 141.559869  L 122.415322 138.270543  L 122.795301 152.809296  L 123.175281 158.330034  L 123.55526 157.068301  L 123.93524 156.931862  L 124.31522 157.73345  L 124.695199 160.659371  L 125.075179 161.576341  L 125.455158 160.092266  L 125.835138 162.533447  L 126.215117 160.473291  L 126.595097 160.592057  L 126.975077 160.249045  L 127.355056 160.944703  L 127.735036 160.635976  L 128.115015 160.680258  L 128.494995 160.92469  L 128.874974 160.939369  L 129.254954 161.527985  L 130.014913 162.133738  L 130.394893 162.077361  L 130.774872 162.3309  L 131.534831 161.983113  L 131.914811 162.835969  L 132.294791 162.235957  L 133.05475 165.03072  L 133.814709 161.016275  L 134.194688 162.988577  L 134.574668 161.386432  L 134.954648 162.722072  L 135.334627 162.691833  L 135.714607 161.717395  L 136.094586 163.709399  L 136.474566 162.489516  L 136.854545 163.173401  L 137.234525 163.261944  L 137.614505 161.861871  L 138.754443 163.978873  L 139.134423 163.885867  L 139.514402 163.046833  L 139.894382 163.195597  L 140.274362 164.318879  L 140.654341 163.743766  L 141.034321 163.470276  L 141.4143 163.514575  L 141.79428 163.974161  L 142.174259 163.862541  L 142.554239 163.998796  L 142.934219 163.550123  L 143.314198 164.291529  L 144.074157 163.305405  L 144.834116 164.159072  L 145.214096 163.68492  L 145.594076 162.682581  L 145.974055 155.536221  L 146.354035 153.773704  L 146.734014 161.41973  L 147.113994 160.975806  L 147.493973 162.717375  L 147.873953 162.575949  L 148.253933 160.738192  L 148.633912 135.674345  L 149.013892 100.796555  L 149.393871 116.721874  L 150.15383 155.817205  L 150.53381 157.903421  L 150.91379 155.764014  L 151.293769 159.041467  L 151.673749 158.130436  L 152.053728 159.359548  L 152.433708 158.803125  L 153.193667 159.95051  L 153.953626 158.589596  L 154.333606 158.49109  L 154.713585 158.181926  L 155.093565 158.284594  L 155.473544 158.177998  L 155.853524 158.242352  L 156.233504 158.152321  L 156.613483 158.29449  L 156.993463 158.08905  L 157.373442 158.251689  L 157.753422 157.922692  L 158.133401 157.867967  L 158.513381 158.385558  L 158.893361 157.696624  L 159.27334 158.499256  L 159.65332 158.473627  L 160.413279 158.633166  L 161.173238 158.707005  L 161.933197 158.664565  L 162.693156 160.899821  L 163.453115 161.737351  L 163.833095 161.757983  L 164.213075 161.440142  L 164.593054 161.9354  L 164.973034 161.967585  L 165.353013 161.82562  L 165.732993 162.071593  L 166.492952 162.026857  L 167.252911 162.247816  L 168.772829 162.443524  L 169.152809 162.701856  L 169.532789 162.594753  L 169.912768 163.065378  L 170.292748 162.922508  L 171.052707 163.847374  L 171.432686 163.938413  L 171.812666 163.874509  L 172.192646 165.076993  L 172.572625 165.09416  L 172.952605 164.190857  L 173.332584 164.470005  L 173.712564 163.135592  L 174.092543 164.163148  L 174.852503 162.919122  L 175.232482 164.381606  L 175.612462 165.079568  L 176.372421 161.500286  L 176.7524 164.344218  L 177.13238 159.38073  L 177.51236 161.145312  L 177.892339 161.950846  L 178.272319 161.873363  L 178.652298 162.214746  L 179.032278 163.0562  L 179.412257 164.907657  L 180.172217 164.90905  L 180.552196 164.60916  L 180.932176 165.093971  L 181.312155 164.956658  L 181.692135 164.588733  L 182.072114 165.085509  L 182.452094 163.49635  L 182.832074 160.988064  L 183.212053 160.570846  L 183.592033 163.479658  L 184.351992 164.197597  L 184.731971 164.308203  L 185.111951 164.700802  L 185.491931 164.396328  L 185.87191 165.031611  L 186.25189 165.255782  L 186.631869 165.23314  L 187.391828 165.577132  L 187.771808 165.674145  L 188.151788 166.022011  L 188.531767 165.511743  L 188.911747 165.368356  L 189.291726 163.396937  L 190.051685 164.238029  L 190.431665 164.504017  L 190.811645 166.021112  L 191.571604 165.9133  L 192.331563 164.757949  L 192.711542 166.074548  L 193.471502 163.449421  L 193.851481 165.504115  L 194.231461 164.79358  L 194.61144 165.861666  L 194.99142 165.904222  L 195.371399 166.354721  L 195.751379 165.589216  L 196.131359 166.778623  L 196.511338 166.614137  L 196.891318 166.150936  L 197.271297 166.108029  L 198.031256 166.444805  L 198.411236 166.34308  L 198.791216 166.532512  L 199.171195 166.036358  L 199.931154 166.780157  L 200.311134 166.616631  L 200.691113 166.111883  L 201.071093 166.218606  L 201.831052 167.30709  L 202.591011 166.713313  L 202.970991 166.562774  L 203.35097 166.931181  L 203.73095 166.20959  L 204.11093 167.005902  L 204.870889 167.142584  L 205.250868 166.890022  L 205.630848 164.108133  L 206.010827 167.250628  L 206.390807 166.495252  L 206.770787 166.777009  L 207.530746 167.040713  L 207.910725 166.339535  L 208.290705 167.150599  L 208.670684 167.301598  L 209.430644 165.45128  L 210.190603 166.294251  L 210.570582 165.913773  L 210.950562 164.347654  L 211.330541 142.158019  L 212.090501 158.523046  L 212.47048 159.661072  L 212.85046 157.964032  L 213.230439 162.824783  L 213.610419 163.378913  L 213.990398 163.457619  L 214.370378 164.376565  L 214.750358 166.582459  L 215.130337 167.076748  L 215.510317 166.856171  L 215.890296 167.126668  L 216.270276 167.202137  L 216.650255 165.871967  L 217.030235 167.60211  L 217.410215 166.468793  L 217.790194 162.727559  L 218.170174 166.819182  L 218.550153 166.383435  L 218.930133 166.539228  L 219.310112 163.873134  L 219.690092 166.317925  L 220.070072 167.198853  L 220.450051 166.368236  L 220.830031 166.828643  L 221.58999 166.319658  L 221.969969 167.266013  L 222.349949 163.914062  L 222.729928 163.826551  L 223.109908 164.408695  L 223.489888 164.39904  L 224.249847 164.024255  L 225.009806 166.672723  L 225.389785 167.53881  L 226.149745 167.643877  L 226.909704 167.936393  L 227.289683 167.808347  L 227.669663 167.494899  L 228.049642 167.99195  L 228.429622 167.517676  L 228.809602 165.58225  L 229.189581 167.591004  L 229.569561 163.78225  L 230.32952 165.861172  L 230.709499 167.927914  L 231.089479 167.068914  L 231.849438 168.149203  L 232.229418 167.284205  L 232.609397 167.523995  L 232.989377 167.408156  L 233.369356 167.43328  L 233.749336 167.740725  L 236.409193 168.283705  L 236.789173 168.574545  L 237.169152 168.296974  L 238.309091 168.221719  L 238.68907 168.186058  L 239.06905 168.289379  L 239.44903 169.067423  L 239.829009 168.472241  L 240.208989 168.644184  L 240.588968 168.989902  L 241.348927 167.572974  L 242.108887 168.724187  L 242.488866 168.685433  L 242.868846 168.382412  L 243.248825 168.953345  L 243.628805 168.946217  L 244.008784 169.121111  L 244.388764 168.782831  L 244.768744 168.034345  L 245.148723 168.921771  L 245.908682 169.145622  L 246.288662 168.512603  L 246.668641 168.966952  L 247.048621 169.039815  L 247.80858 168.710675  L 248.18856 166.979654  L 248.568539 168.825718  L 249.328498 168.377629  L 250.088458 168.836858  L 250.468437 168.609448  L 250.848417 169.056356  L 251.228396 169.064185  L 251.608376 168.937813  L 251.988355 169.043446  L 252.368335 168.948644  L 252.748315 169.377634  L 253.128294 168.767729  L 253.888253 168.823699  L 254.268233 168.620498  L 254.648212 169.016378  L 255.788151 169.330852  L 256.54811 169.212117  L 256.92809 169.27569  L 257.308069 169.152215  L 257.688049 169.402697  L 258.068029 169.232608  L 258.448008 169.353288  L 258.827988 169.308885  L 259.207967 169.629349  L 259.587947 169.287068  L 259.967926 169.632912  L 260.347906 169.811035  L 260.727886 169.536845  L 261.487845 169.703119  L 261.867824 170.051937  L 262.247804 169.772742  L 262.627783 169.79388  L 263.007763 170.150488  L 263.387743 169.758734  L 263.767722 169.570495  L 264.147702 169.930178  L 264.527681 170.098714  L 264.907661 169.772716  L 265.28764 170.014371  L 265.66762 169.603471  L 266.0476 169.848931  L 266.427579 169.521096  L 266.807559 169.924451  L 267.187538 169.589766  L 267.567518 169.970616  L 267.947497 169.376166  L 268.327477 169.72128  L 268.707457 169.868836  L 269.087436 169.688823  L 269.847395 169.763649  L 270.227375 169.946728  L 270.607354 169.991713  L 270.987334 170.148768  L 271.367314 170.0571  L 272.127273 170.24715  L 272.507252 170.155192  L 272.887232 169.756044  L 273.267211 170.37379  L 273.647191 169.799829  L 274.027171 169.49666  L 275.167109 170.186922  L 276.687028 170.205073  L 277.067007 169.989831  L 277.826966 170.512142  L 278.966905 170.192988  L 279.346885 170.498141  L 279.726864 170.396222  L 280.106844 170.623007  L 280.486823 170.489634  L 280.866803 170.662108  L 281.246782 170.553209  L 282.006742 170.690987  L 282.386721 170.589426  L 282.766701 170.728418  L 283.14668 170.63363  L 283.52666 170.864705  L 285.806537 170.680413  L 286.186517 170.875914  L 286.946476 170.942436  L 287.326456 171.287882  L 287.706435 170.817417  L 288.086415 170.928384  L 288.466394 170.53523  L 288.846374 170.668701  L 289.226353 170.596489  L 289.986313 170.882865  L 290.366292 170.656086  L 291.126251 171.031233  L 291.506231 171.129935  L 292.26619 170.92405  L 292.64617 171.192326  L 293.026149 169.43873  L 293.406129 170.762106  L 294.166088 171.083045  L 294.546067 170.736752  L 294.926047 171.044076  L 295.686006 171.208726  L 296.065986 170.912372  L 296.445965 171.381499  L 297.205924 171.164721  L 297.585904 171.367883  L 297.965884 171.089  L 298.345863 171.295195  L 301.00572 171.462204  L 301.765679 171.505335  L 302.525638 171.371064  L 303.285598 171.597616  L 303.665577 171.472166  L 304.045557 171.773736  L 304.425536 171.747324  L 304.805516 171.869374  L 305.185495 171.613198  L 305.565475 171.787808  L 305.945455 171.58281  L 306.325434 171.925387  L 306.705414 171.740066  L 307.085393 171.775836  L 307.465373 171.61303  L 309.365271 171.629024  L 309.74525 171.876375  L 310.885189 171.875704  L 311.265169 171.359556  L 311.645148 171.323542  L 312.405107 171.972115  L 312.785087 171.876728  L 313.165066 171.636728  L 313.925026 171.985124  L 314.305005 171.983054  L 314.684985 172.202277  L 315.444944 172.036187  L 315.824923 172.01545  L 316.204903 172.154278  L 316.584883 172.026528  L 316.964862 172.074117  L 317.344842 172.380603  L 317.724821 172.104417  L 318.48478 172.427729  L 318.86476 171.970069  L 319.24474 172.286914  L 319.624719 172.214336  L 320.004699 171.952682  L 320.384678 172.205254  L 320.764658 171.969823  L 321.144637 172.399233  L 321.904597 172.062497  L 322.284576 172.058324  L 322.664556 172.382554  L 323.424515 172.25796  L 323.804494 172.395967  L 324.184474 171.952984  L 324.564454 172.571112  L 324.944433 172.595729  L 325.324413 172.446915  L 325.704392 172.418756  L 326.084372 172.575751  L 326.464351 172.14383  L 326.844331 172.698021  L 327.224311 172.518012  L 327.98427 172.612947  L 328.744229 172.309335  L 329.124208 172.572504  L 329.504188 171.808374  L 329.884168 172.424642  L 330.264147 172.103454  L 330.644127 172.312304  L 331.784065 172.347582  L 332.544025 172.480311  L 333.303984 172.530933  L 333.683963 172.637991  L 334.443922 172.499472  L 334.823902 172.710184  L 335.583861 172.576757  L 335.963841 172.699067  L 336.34382 172.57567  L 336.7238 172.788877  L 337.103779 172.78519  L 337.483759 172.938437  L 339.003677 172.746582  L 339.383657 172.566201  L 340.143616 172.855087  L 340.523596 172.83144  L 341.663534 173.111507  L 342.043514 173.108858  L 342.803473 172.801999  L 343.183453 173.022341  L 343.563432 173.082029  L 344.323391 172.808917  L 344.703371 173.493649  L 345.08335 173.018403  L 345.46333 172.857508  L 345.843309 173.006215  L 346.223289 172.715384  L 346.603269 173.305173  L 346.983248 173.054489  L 347.363228 173.115799  L 347.743207 172.875815  L 348.123187 172.979526  L 348.503166 173.19907  L 348.883146 172.979132  L 349.263126 173.319562  L 350.023085 173.157082  L 350.403064 173.380003  L 350.783044 173.241434  L 351.163023 173.301137  L 351.543003 173.19689  L 351.922983 172.920379  L 352.302962 173.420663  L 352.682942 173.30029  L 353.062921 173.614896  L 353.442901 173.35822  L 354.58284 173.111473  L 354.962819 172.753792  L 355.342799 173.255534  L 355.722778 173.270689  L 356.102758 172.935842  L 356.862717 173.219685  L 357.242697 173.410664  L 357.622676 173.388115  L 358.002656 173.535962  L 358.382635 173.300975  L 358.762615 173.578595  L 359.142594 173.414631  L 359.522574 173.720291  L 361.042492 173.329989  L 361.422472 172.807117  L 361.802451 172.696973  L 362.562411 173.052075  L 362.94239 173.557007  L 363.702349 173.612969  L 364.082329 173.895138  L 364.462308 173.905235  L 364.842288 174.202554  L 365.222268 173.526476  L 365.602247 173.877337  L 365.982227 173.252104  L 366.362206 173.336192  L 366.742186 173.978081  L 367.502145 173.773649  L 367.882125 173.740286  L 368.262104 174.136012  L 369.022063 173.433986  L 369.402043 173.757303  L 369.782022 173.931164  L 370.162002 173.485355  L 371.301941 174.378747  L 371.68192 174.016989  L 372.0619 173.866625  L 372.441879 173.485288  L 372.821859 174.004766  L 373.201839 173.531249  L 373.581818 174.130465  L 373.581818 174.130465  \" style=\"fill:none;stroke:#1f77b4;stroke-linecap:square;stroke-width:1.5;\"/>\n",
       "   </g>\n",
       "   <g id=\"patch_3\">\n",
       "    <path d=\"M 54 252  L 54 34.56  \" style=\"fill:none;stroke:#000000;stroke-linecap:square;stroke-linejoin:miter;stroke-width:0.8;\"/>\n",
       "   </g>\n",
       "   <g id=\"patch_4\">\n",
       "    <path d=\"M 388.8 252  L 388.8 34.56  \" style=\"fill:none;stroke:#000000;stroke-linecap:square;stroke-linejoin:miter;stroke-width:0.8;\"/>\n",
       "   </g>\n",
       "   <g id=\"patch_5\">\n",
       "    <path d=\"M 54 252  L 388.8 252  \" style=\"fill:none;stroke:#000000;stroke-linecap:square;stroke-linejoin:miter;stroke-width:0.8;\"/>\n",
       "   </g>\n",
       "   <g id=\"patch_6\">\n",
       "    <path d=\"M 54 34.56  L 388.8 34.56  \" style=\"fill:none;stroke:#000000;stroke-linecap:square;stroke-linejoin:miter;stroke-width:0.8;\"/>\n",
       "   </g>\n",
       "   <g id=\"text_17\">\n",
       "    <!-- AlphaZero Network: Error -->\n",
       "    <defs>\n",
       "     <path d=\"M 34.1875 63.1875  L 20.796875 26.90625  L 47.609375 26.90625  z M 28.609375 72.90625  L 39.796875 72.90625  L 67.578125 0  L 57.328125 0  L 50.6875 18.703125  L 17.828125 18.703125  L 11.1875 0  L 0.78125 0  z \" id=\"DejaVuSans-41\"/>\n",
       "     <path d=\"M 9.421875 75.984375  L 18.40625 75.984375  L 18.40625 0  L 9.421875 0  z \" id=\"DejaVuSans-6c\"/>\n",
       "     <path d=\"M 34.28125 27.484375  Q 23.390625 27.484375 19.1875 25  Q 14.984375 22.515625 14.984375 16.5  Q 14.984375 11.71875 18.140625 8.90625  Q 21.296875 6.109375 26.703125 6.109375  Q 34.1875 6.109375 38.703125 11.40625  Q 43.21875 16.703125 43.21875 25.484375  L 43.21875 27.484375  z M 52.203125 31.203125  L 52.203125 0  L 43.21875 0  L 43.21875 8.296875  Q 40.140625 3.328125 35.546875 0.953125  Q 30.953125 -1.421875 24.3125 -1.421875  Q 15.921875 -1.421875 10.953125 3.296875  Q 6 8.015625 6 15.921875  Q 6 25.140625 12.171875 29.828125  Q 18.359375 34.515625 30.609375 34.515625  L 43.21875 34.515625  L 43.21875 35.40625  Q 43.21875 41.609375 39.140625 45  Q 35.0625 48.390625 27.6875 48.390625  Q 23 48.390625 18.546875 47.265625  Q 14.109375 46.140625 10.015625 43.890625  L 10.015625 52.203125  Q 14.9375 54.109375 19.578125 55.046875  Q 24.21875 56 28.609375 56  Q 40.484375 56 46.34375 49.84375  Q 52.203125 43.703125 52.203125 31.203125  z \" id=\"DejaVuSans-61\"/>\n",
       "     <path d=\"M 5.609375 72.90625  L 62.890625 72.90625  L 62.890625 65.375  L 16.796875 8.296875  L 64.015625 8.296875  L 64.015625 0  L 4.5 0  L 4.5 7.515625  L 50.59375 64.59375  L 5.609375 64.59375  z \" id=\"DejaVuSans-5a\"/>\n",
       "     <path d=\"M 56.203125 29.59375  L 56.203125 25.203125  L 14.890625 25.203125  Q 15.484375 15.921875 20.484375 11.0625  Q 25.484375 6.203125 34.421875 6.203125  Q 39.59375 6.203125 44.453125 7.46875  Q 49.3125 8.734375 54.109375 11.28125  L 54.109375 2.78125  Q 49.265625 0.734375 44.1875 -0.34375  Q 39.109375 -1.421875 33.890625 -1.421875  Q 20.796875 -1.421875 13.15625 6.1875  Q 5.515625 13.8125 5.515625 26.8125  Q 5.515625 40.234375 12.765625 48.109375  Q 20.015625 56 32.328125 56  Q 43.359375 56 49.78125 48.890625  Q 56.203125 41.796875 56.203125 29.59375  z M 47.21875 32.234375  Q 47.125 39.59375 43.09375 43.984375  Q 39.0625 48.390625 32.421875 48.390625  Q 24.90625 48.390625 20.390625 44.140625  Q 15.875 39.890625 15.1875 32.171875  z \" id=\"DejaVuSans-65\"/>\n",
       "     <path d=\"M 41.109375 46.296875  Q 39.59375 47.171875 37.8125 47.578125  Q 36.03125 48 33.890625 48  Q 26.265625 48 22.1875 43.046875  Q 18.109375 38.09375 18.109375 28.8125  L 18.109375 0  L 9.078125 0  L 9.078125 54.6875  L 18.109375 54.6875  L 18.109375 46.1875  Q 20.953125 51.171875 25.484375 53.578125  Q 30.03125 56 36.53125 56  Q 37.453125 56 38.578125 55.875  Q 39.703125 55.765625 41.0625 55.515625  z \" id=\"DejaVuSans-72\"/>\n",
       "     <path id=\"DejaVuSans-20\"/>\n",
       "     <path d=\"M 9.8125 72.90625  L 23.09375 72.90625  L 55.421875 11.921875  L 55.421875 72.90625  L 64.984375 72.90625  L 64.984375 0  L 51.703125 0  L 19.390625 60.984375  L 19.390625 0  L 9.8125 0  z \" id=\"DejaVuSans-4e\"/>\n",
       "     <path d=\"M 18.3125 70.21875  L 18.3125 54.6875  L 36.8125 54.6875  L 36.8125 47.703125  L 18.3125 47.703125  L 18.3125 18.015625  Q 18.3125 11.328125 20.140625 9.421875  Q 21.96875 7.515625 27.59375 7.515625  L 36.8125 7.515625  L 36.8125 0  L 27.59375 0  Q 17.1875 0 13.234375 3.875  Q 9.28125 7.765625 9.28125 18.015625  L 9.28125 47.703125  L 2.6875 47.703125  L 2.6875 54.6875  L 9.28125 54.6875  L 9.28125 70.21875  z \" id=\"DejaVuSans-74\"/>\n",
       "     <path d=\"M 4.203125 54.6875  L 13.1875 54.6875  L 24.421875 12.015625  L 35.59375 54.6875  L 46.1875 54.6875  L 57.421875 12.015625  L 68.609375 54.6875  L 77.59375 54.6875  L 63.28125 0  L 52.6875 0  L 40.921875 44.828125  L 29.109375 0  L 18.5 0  z \" id=\"DejaVuSans-77\"/>\n",
       "     <path d=\"M 9.078125 75.984375  L 18.109375 75.984375  L 18.109375 31.109375  L 44.921875 54.6875  L 56.390625 54.6875  L 27.390625 29.109375  L 57.625 0  L 45.90625 0  L 18.109375 26.703125  L 18.109375 0  L 9.078125 0  z \" id=\"DejaVuSans-6b\"/>\n",
       "     <path d=\"M 11.71875 12.40625  L 22.015625 12.40625  L 22.015625 0  L 11.71875 0  z M 11.71875 51.703125  L 22.015625 51.703125  L 22.015625 39.3125  L 11.71875 39.3125  z \" id=\"DejaVuSans-3a\"/>\n",
       "    </defs>\n",
       "    <g transform=\"translate(144.65625 28.56)scale(0.12 -0.12)\">\n",
       "     <use xlink:href=\"#DejaVuSans-41\"/>\n",
       "     <use x=\"68.408203\" xlink:href=\"#DejaVuSans-6c\"/>\n",
       "     <use x=\"96.191406\" xlink:href=\"#DejaVuSans-70\"/>\n",
       "     <use x=\"159.667969\" xlink:href=\"#DejaVuSans-68\"/>\n",
       "     <use x=\"223.046875\" xlink:href=\"#DejaVuSans-61\"/>\n",
       "     <use x=\"284.326172\" xlink:href=\"#DejaVuSans-5a\"/>\n",
       "     <use x=\"352.832031\" xlink:href=\"#DejaVuSans-65\"/>\n",
       "     <use x=\"414.355469\" xlink:href=\"#DejaVuSans-72\"/>\n",
       "     <use x=\"455.4375\" xlink:href=\"#DejaVuSans-6f\"/>\n",
       "     <use x=\"516.619141\" xlink:href=\"#DejaVuSans-20\"/>\n",
       "     <use x=\"548.40625\" xlink:href=\"#DejaVuSans-4e\"/>\n",
       "     <use x=\"623.210938\" xlink:href=\"#DejaVuSans-65\"/>\n",
       "     <use x=\"684.734375\" xlink:href=\"#DejaVuSans-74\"/>\n",
       "     <use x=\"723.943359\" xlink:href=\"#DejaVuSans-77\"/>\n",
       "     <use x=\"805.730469\" xlink:href=\"#DejaVuSans-6f\"/>\n",
       "     <use x=\"866.912109\" xlink:href=\"#DejaVuSans-72\"/>\n",
       "     <use x=\"908.025391\" xlink:href=\"#DejaVuSans-6b\"/>\n",
       "     <use x=\"965.935547\" xlink:href=\"#DejaVuSans-3a\"/>\n",
       "     <use x=\"999.626953\" xlink:href=\"#DejaVuSans-20\"/>\n",
       "     <use x=\"1031.414062\" xlink:href=\"#DejaVuSans-45\"/>\n",
       "     <use x=\"1094.597656\" xlink:href=\"#DejaVuSans-72\"/>\n",
       "     <use x=\"1135.695312\" xlink:href=\"#DejaVuSans-72\"/>\n",
       "     <use x=\"1176.777344\" xlink:href=\"#DejaVuSans-6f\"/>\n",
       "     <use x=\"1237.958984\" xlink:href=\"#DejaVuSans-72\"/>\n",
       "    </g>\n",
       "   </g>\n",
       "   <g id=\"legend_1\">\n",
       "    <g id=\"patch_7\">\n",
       "     <path d=\"M 290.434375 57.238125  L 381.8 57.238125  Q 383.8 57.238125 383.8 55.238125  L 383.8 41.56  Q 383.8 39.56 381.8 39.56  L 290.434375 39.56  Q 288.434375 39.56 288.434375 41.56  L 288.434375 55.238125  Q 288.434375 57.238125 290.434375 57.238125  z \" style=\"fill:#ffffff;opacity:0.8;stroke:#cccccc;stroke-linejoin:miter;\"/>\n",
       "    </g>\n",
       "    <g id=\"line2d_17\">\n",
       "     <path d=\"M 292.434375 47.658437  L 312.434375 47.658437  \" style=\"fill:none;stroke:#1f77b4;stroke-linecap:square;stroke-width:1.5;\"/>\n",
       "    </g>\n",
       "    <g id=\"line2d_18\"/>\n",
       "    <g id=\"text_18\">\n",
       "     <!-- Training set -->\n",
       "     <defs>\n",
       "      <path d=\"M -0.296875 72.90625  L 61.375 72.90625  L 61.375 64.59375  L 35.5 64.59375  L 35.5 0  L 25.59375 0  L 25.59375 64.59375  L -0.296875 64.59375  z \" id=\"DejaVuSans-54\"/>\n",
       "      <path d=\"M 9.421875 54.6875  L 18.40625 54.6875  L 18.40625 0  L 9.421875 0  z M 9.421875 75.984375  L 18.40625 75.984375  L 18.40625 64.59375  L 9.421875 64.59375  z \" id=\"DejaVuSans-69\"/>\n",
       "      <path d=\"M 54.890625 33.015625  L 54.890625 0  L 45.90625 0  L 45.90625 32.71875  Q 45.90625 40.484375 42.875 44.328125  Q 39.84375 48.1875 33.796875 48.1875  Q 26.515625 48.1875 22.3125 43.546875  Q 18.109375 38.921875 18.109375 30.90625  L 18.109375 0  L 9.078125 0  L 9.078125 54.6875  L 18.109375 54.6875  L 18.109375 46.1875  Q 21.34375 51.125 25.703125 53.5625  Q 30.078125 56 35.796875 56  Q 45.21875 56 50.046875 50.171875  Q 54.890625 44.34375 54.890625 33.015625  z \" id=\"DejaVuSans-6e\"/>\n",
       "      <path d=\"M 45.40625 27.984375  Q 45.40625 37.75 41.375 43.109375  Q 37.359375 48.484375 30.078125 48.484375  Q 22.859375 48.484375 18.828125 43.109375  Q 14.796875 37.75 14.796875 27.984375  Q 14.796875 18.265625 18.828125 12.890625  Q 22.859375 7.515625 30.078125 7.515625  Q 37.359375 7.515625 41.375 12.890625  Q 45.40625 18.265625 45.40625 27.984375  z M 54.390625 6.78125  Q 54.390625 -7.171875 48.1875 -13.984375  Q 42 -20.796875 29.203125 -20.796875  Q 24.46875 -20.796875 20.265625 -20.09375  Q 16.0625 -19.390625 12.109375 -17.921875  L 12.109375 -9.1875  Q 16.0625 -11.328125 19.921875 -12.34375  Q 23.78125 -13.375 27.78125 -13.375  Q 36.625 -13.375 41.015625 -8.765625  Q 45.40625 -4.15625 45.40625 5.171875  L 45.40625 9.625  Q 42.625 4.78125 38.28125 2.390625  Q 33.9375 0 27.875 0  Q 17.828125 0 11.671875 7.65625  Q 5.515625 15.328125 5.515625 27.984375  Q 5.515625 40.671875 11.671875 48.328125  Q 17.828125 56 27.875 56  Q 33.9375 56 38.28125 53.609375  Q 42.625 51.21875 45.40625 46.390625  L 45.40625 54.6875  L 54.390625 54.6875  z \" id=\"DejaVuSans-67\"/>\n",
       "      <path d=\"M 44.28125 53.078125  L 44.28125 44.578125  Q 40.484375 46.53125 36.375 47.5  Q 32.28125 48.484375 27.875 48.484375  Q 21.1875 48.484375 17.84375 46.4375  Q 14.5 44.390625 14.5 40.28125  Q 14.5 37.15625 16.890625 35.375  Q 19.28125 33.59375 26.515625 31.984375  L 29.59375 31.296875  Q 39.15625 29.25 43.1875 25.515625  Q 47.21875 21.78125 47.21875 15.09375  Q 47.21875 7.46875 41.1875 3.015625  Q 35.15625 -1.421875 24.609375 -1.421875  Q 20.21875 -1.421875 15.453125 -0.5625  Q 10.6875 0.296875 5.421875 2  L 5.421875 11.28125  Q 10.40625 8.6875 15.234375 7.390625  Q 20.0625 6.109375 24.8125 6.109375  Q 31.15625 6.109375 34.5625 8.28125  Q 37.984375 10.453125 37.984375 14.40625  Q 37.984375 18.0625 35.515625 20.015625  Q 33.0625 21.96875 24.703125 23.78125  L 21.578125 24.515625  Q 13.234375 26.265625 9.515625 29.90625  Q 5.8125 33.546875 5.8125 39.890625  Q 5.8125 47.609375 11.28125 51.796875  Q 16.75 56 26.8125 56  Q 31.78125 56 36.171875 55.265625  Q 40.578125 54.546875 44.28125 53.078125  z \" id=\"DejaVuSans-73\"/>\n",
       "     </defs>\n",
       "     <g transform=\"translate(320.434375 51.158437)scale(0.1 -0.1)\">\n",
       "      <use xlink:href=\"#DejaVuSans-54\"/>\n",
       "      <use x=\"60.865234\" xlink:href=\"#DejaVuSans-72\"/>\n",
       "      <use x=\"101.978516\" xlink:href=\"#DejaVuSans-61\"/>\n",
       "      <use x=\"163.257812\" xlink:href=\"#DejaVuSans-69\"/>\n",
       "      <use x=\"191.041016\" xlink:href=\"#DejaVuSans-6e\"/>\n",
       "      <use x=\"254.419922\" xlink:href=\"#DejaVuSans-69\"/>\n",
       "      <use x=\"282.203125\" xlink:href=\"#DejaVuSans-6e\"/>\n",
       "      <use x=\"345.582031\" xlink:href=\"#DejaVuSans-67\"/>\n",
       "      <use x=\"409.058594\" xlink:href=\"#DejaVuSans-20\"/>\n",
       "      <use x=\"440.845703\" xlink:href=\"#DejaVuSans-73\"/>\n",
       "      <use x=\"492.945312\" xlink:href=\"#DejaVuSans-65\"/>\n",
       "      <use x=\"554.46875\" xlink:href=\"#DejaVuSans-74\"/>\n",
       "     </g>\n",
       "    </g>\n",
       "   </g>\n",
       "  </g>\n",
       " </g>\n",
       " <defs>\n",
       "  <clipPath id=\"pfb933a05e8\">\n",
       "   <rect height=\"217.44\" width=\"334.8\" x=\"54\" y=\"34.56\"/>\n",
       "  </clipPath>\n",
       " </defs>\n",
       "</svg>"
      ],
      "text/plain": [
       "<IPython.core.display.SVG object>"
      ]
     },
     "metadata": {},
     "output_type": "display_data"
    },
    {
     "name": "stdout",
     "output_type": "stream",
     "text": [
      "Interrupted! Cleaning up...\n",
      "========================================================================\n",
      "       |  Training |    policy |     value \n",
      "Epochs |     Error |  head acc |  head acc \n",
      "------ | --------- | --------- | --------- \n",
      "#  801 |   0.39601 |   0.00000 |   0.92708 \n"
     ]
    },
    {
     "ename": "KeyboardInterrupt",
     "evalue": "",
     "output_type": "error",
     "traceback": [
      "\u001b[0;31m---------------------------------------------------------------------------\u001b[0m",
      "\u001b[0;31mKeyboardInterrupt\u001b[0m                         Traceback (most recent call last)",
      "\u001b[0;32m<ipython-input-48-5c805804ac93>\u001b[0m in \u001b[0;36m<module>\u001b[0;34m()\u001b[0m\n\u001b[1;32m      1\u001b[0m \u001b[0mcurrent_player\u001b[0m\u001b[0;34m.\u001b[0m\u001b[0mnet\u001b[0m\u001b[0;34m.\u001b[0m\u001b[0mdataset\u001b[0m\u001b[0;34m.\u001b[0m\u001b[0mclear\u001b[0m\u001b[0;34m(\u001b[0m\u001b[0;34m)\u001b[0m\u001b[0;34m\u001b[0m\u001b[0m\n\u001b[1;32m      2\u001b[0m \u001b[0mcurrent_player\u001b[0m\u001b[0;34m.\u001b[0m\u001b[0mnet\u001b[0m\u001b[0;34m.\u001b[0m\u001b[0mdataset\u001b[0m\u001b[0;34m.\u001b[0m\u001b[0mload\u001b[0m\u001b[0;34m(\u001b[0m\u001b[0mgame\u001b[0m\u001b[0;34m.\u001b[0m\u001b[0mmemory\u001b[0m\u001b[0;34m)\u001b[0m\u001b[0;34m\u001b[0m\u001b[0m\n\u001b[0;32m----> 3\u001b[0;31m \u001b[0mcurrent_player\u001b[0m\u001b[0;34m.\u001b[0m\u001b[0mnet\u001b[0m\u001b[0;34m.\u001b[0m\u001b[0mtrain\u001b[0m\u001b[0;34m(\u001b[0m\u001b[0;36m1000\u001b[0m\u001b[0;34m,\u001b[0m \u001b[0mreport_rate\u001b[0m\u001b[0;34m=\u001b[0m\u001b[0;36m5\u001b[0m\u001b[0;34m,\u001b[0m \u001b[0mplot\u001b[0m\u001b[0;34m=\u001b[0m\u001b[0;32mTrue\u001b[0m\u001b[0;34m)\u001b[0m\u001b[0;34m\u001b[0m\u001b[0m\n\u001b[0m",
      "\u001b[0;32m~/.local/lib/python3.6/site-packages/conx/network.py\u001b[0m in \u001b[0;36mtrain\u001b[0;34m(self, epochs, accuracy, error, batch_size, report_rate, verbose, kverbose, shuffle, tolerance, class_weight, sample_weight, use_validation_to_stop, plot, record, callbacks, save)\u001b[0m\n\u001b[1;32m   1262\u001b[0m                 \u001b[0mprint\u001b[0m\u001b[0;34m(\u001b[0m\u001b[0;34m\"Saved!\"\u001b[0m\u001b[0;34m)\u001b[0m\u001b[0;34m\u001b[0m\u001b[0m\n\u001b[1;32m   1263\u001b[0m         \u001b[0;32mif\u001b[0m \u001b[0minterrupted\u001b[0m\u001b[0;34m:\u001b[0m\u001b[0;34m\u001b[0m\u001b[0m\n\u001b[0;32m-> 1264\u001b[0;31m             \u001b[0;32mraise\u001b[0m \u001b[0mKeyboardInterrupt\u001b[0m\u001b[0;34m\u001b[0m\u001b[0m\n\u001b[0m\u001b[1;32m   1265\u001b[0m         \u001b[0;32mif\u001b[0m \u001b[0mverbose\u001b[0m \u001b[0;34m==\u001b[0m \u001b[0;36m0\u001b[0m\u001b[0;34m:\u001b[0m\u001b[0;34m\u001b[0m\u001b[0m\n\u001b[1;32m   1266\u001b[0m             \u001b[0;32mreturn\u001b[0m \u001b[0;34m(\u001b[0m\u001b[0mself\u001b[0m\u001b[0;34m.\u001b[0m\u001b[0mepoch_count\u001b[0m\u001b[0;34m,\u001b[0m \u001b[0mresult\u001b[0m\u001b[0;34m)\u001b[0m\u001b[0;34m\u001b[0m\u001b[0m\n",
      "\u001b[0;31mKeyboardInterrupt\u001b[0m: "
     ]
    }
   ],
   "source": [
    "best_player.net.train(1000, report_rate=5, plot=True)"
   ]
  },
  {
   "cell_type": "code",
   "execution_count": 44,
   "metadata": {},
   "outputs": [],
   "source": [
    "best_player.net[\"policy_head\"].vshape = (6,7)\n",
    "best_player.net.config[\"show_targets\"] = True"
   ]
  },
  {
   "cell_type": "code",
   "execution_count": 45,
   "metadata": {
    "scrolled": false
   },
   "outputs": [
    {
     "data": {
      "application/vnd.jupyter.widget-view+json": {
       "model_id": "cacd226ab591480f845322f74401034b",
       "version_major": 2,
       "version_minor": 0
      },
      "text/html": [
       "<p>Failed to display Jupyter Widget of type <code>Dashboard</code>.</p>\n",
       "<p>\n",
       "  If you're reading this message in the Jupyter Notebook or JupyterLab Notebook, it may mean\n",
       "  that the widgets JavaScript is still loading. If this message persists, it\n",
       "  likely means that the widgets JavaScript library is either not installed or\n",
       "  not enabled. See the <a href=\"https://ipywidgets.readthedocs.io/en/stable/user_install.html\">Jupyter\n",
       "  Widgets Documentation</a> for setup instructions.\n",
       "</p>\n",
       "<p>\n",
       "  If you're reading this message in another frontend (for example, a static\n",
       "  rendering on GitHub or <a href=\"https://nbviewer.jupyter.org/\">NBViewer</a>),\n",
       "  it may mean that your frontend doesn't currently support widgets.\n",
       "</p>\n"
      ],
      "text/plain": [
       "Dashboard(children=(Accordion(children=(HBox(children=(VBox(children=(Select(description='Dataset:', index=1, options=('Test', 'Train'), rows=1, value='Train'), FloatSlider(value=1.0, continuous_update=False, description='Zoom', max=3.0, min=0.5), IntText(value=150, description='Horizontal space between banks:', style=DescriptionStyle(description_width='initial')), IntText(value=30, description='Vertical space between layers:', style=DescriptionStyle(description_width='initial')), HBox(children=(Checkbox(value=True, description='Show Targets', style=DescriptionStyle(description_width='initial')), Checkbox(value=False, description='Errors', style=DescriptionStyle(description_width='initial')))), Select(description='Features:', options=('', 'main_input', 'conv2d-1', 'batch-norm-1', 'leaky-relu-1', 'conv2d-2', 'batch-norm-2', 'leaky-relu-2', 'conv2d-3', 'batch-norm-3', 'add-1', 'leaky-relu-3', 'conv2d-4', 'batch-norm-4', 'leaky-relu-4', 'conv2d-5', 'batch-norm-5', 'add-2', 'leaky-relu-5', 'conv2d-6', 'batch-norm-6', 'leaky-relu-6', 'conv2d-7', 'batch-norm-7', 'add-3', 'leaky-relu-7', 'conv2d-8', 'batch-norm-8', 'leaky-relu-8', 'conv2d-9', 'batch-norm-9', 'add-4', 'leaky-relu-9', 'conv2d-10', 'batch-norm-10', 'leaky-relu-10', 'conv2d-11', 'batch-norm-11', 'add-5', 'leaky-relu-11', 'conv2d-12', 'batch-norm-12', 'leaky-relu-12', 'conv2d-13', 'batch-norm-13', 'leaky-relu-13'), rows=1, value=''), IntText(value=3, description='Feature columns:', style=DescriptionStyle(description_width='initial')), FloatText(value=2.0, description='Feature scale:', style=DescriptionStyle(description_width='initial'))), layout=Layout(width='100%')), VBox(children=(Select(description='Layer:', index=50, options=('main_input', 'conv2d-1', 'batch-norm-1', 'leaky-relu-1', 'conv2d-2', 'batch-norm-2', 'leaky-relu-2', 'conv2d-3', 'batch-norm-3', 'add-1', 'leaky-relu-3', 'conv2d-4', 'batch-norm-4', 'leaky-relu-4', 'conv2d-5', 'batch-norm-5', 'add-2', 'leaky-relu-5', 'conv2d-6', 'batch-norm-6', 'leaky-relu-6', 'conv2d-7', 'batch-norm-7', 'add-3', 'leaky-relu-7', 'conv2d-8', 'batch-norm-8', 'leaky-relu-8', 'conv2d-9', 'batch-norm-9', 'add-4', 'leaky-relu-9', 'conv2d-10', 'batch-norm-10', 'leaky-relu-10', 'conv2d-11', 'batch-norm-11', 'add-5', 'leaky-relu-11', 'conv2d-12', 'batch-norm-12', 'leaky-relu-12', 'flatten-1', 'policy_head', 'conv2d-13', 'batch-norm-13', 'leaky-relu-13', 'flatten-2', 'dense-1', 'leaky-relu-14', 'value_head'), rows=1, value='value_head'), Checkbox(value=True, description='Visible'), Select(description='Colormap:', options=('', 'Accent', 'Accent_r', 'Blues', 'Blues_r', 'BrBG', 'BrBG_r', 'BuGn', 'BuGn_r', 'BuPu', 'BuPu_r', 'CMRmap', 'CMRmap_r', 'Dark2', 'Dark2_r', 'GnBu', 'GnBu_r', 'Greens', 'Greens_r', 'Greys', 'Greys_r', 'OrRd', 'OrRd_r', 'Oranges', 'Oranges_r', 'PRGn', 'PRGn_r', 'Paired', 'Paired_r', 'Pastel1', 'Pastel1_r', 'Pastel2', 'Pastel2_r', 'PiYG', 'PiYG_r', 'PuBu', 'PuBuGn', 'PuBuGn_r', 'PuBu_r', 'PuOr', 'PuOr_r', 'PuRd', 'PuRd_r', 'Purples', 'Purples_r', 'RdBu', 'RdBu_r', 'RdGy', 'RdGy_r', 'RdPu', 'RdPu_r', 'RdYlBu', 'RdYlBu_r', 'RdYlGn', 'RdYlGn_r', 'Reds', 'Reds_r', 'Set1', 'Set1_r', 'Set2', 'Set2_r', 'Set3', 'Set3_r', 'Spectral', 'Spectral_r', 'Vega10', 'Vega10_r', 'Vega20', 'Vega20_r', 'Vega20b', 'Vega20b_r', 'Vega20c', 'Vega20c_r', 'Wistia', 'Wistia_r', 'YlGn', 'YlGnBu', 'YlGnBu_r', 'YlGn_r', 'YlOrBr', 'YlOrBr_r', 'YlOrRd', 'YlOrRd_r', 'afmhot', 'afmhot_r', 'autumn', 'autumn_r', 'binary', 'binary_r', 'bone', 'bone_r', 'brg', 'brg_r', 'bwr', 'bwr_r', 'cool', 'cool_r', 'coolwarm', 'coolwarm_r', 'copper', 'copper_r', 'cubehelix', 'cubehelix_r', 'flag', 'flag_r', 'gist_earth', 'gist_earth_r', 'gist_gray', 'gist_gray_r', 'gist_heat', 'gist_heat_r', 'gist_ncar', 'gist_ncar_r', 'gist_rainbow', 'gist_rainbow_r', 'gist_stern', 'gist_stern_r', 'gist_yarg', 'gist_yarg_r', 'gnuplot', 'gnuplot2', 'gnuplot2_r', 'gnuplot_r', 'gray', 'gray_r', 'hot', 'hot_r', 'hsv', 'hsv_r', 'inferno', 'inferno_r', 'jet', 'jet_r', 'magma', 'magma_r', 'nipy_spectral', 'nipy_spectral_r', 'ocean', 'ocean_r', 'pink', 'pink_r', 'plasma', 'plasma_r', 'prism', 'prism_r', 'rainbow', 'rainbow_r', 'seismic', 'seismic_r', 'spectral', 'spectral_r', 'spring', 'spring_r', 'summer', 'summer_r', 'tab10', 'tab10_r', 'tab20', 'tab20_r', 'tab20b', 'tab20b_r', 'tab20c', 'tab20c_r', 'terrain', 'terrain_r', 'viridis', 'viridis_r', 'winter', 'winter_r'), rows=1, value=''), HTML(value='<img src=\"data:image/gif;base64,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\"/>'), FloatText(value=-1.0, description='Leftmost color maps to:', style=DescriptionStyle(description_width='initial')), FloatText(value=1.0, description='Rightmost color maps to:', style=DescriptionStyle(description_width='initial')), IntText(value=0, description='Feature to show:', style=DescriptionStyle(description_width='initial'))), layout=Layout(width='100%')))),), selected_index=None, _titles={'0': 'AlphaZero Network'}), VBox(children=(HBox(children=(IntSlider(value=0, continuous_update=False, description='Dataset index', layout=Layout(width='100%'), max=132), Label(value='of 133', layout=Layout(width='100px'))), layout=Layout(height='40px')), HBox(children=(Button(icon='fast-backward', layout=Layout(width='100%'), style=ButtonStyle()), Button(icon='backward', layout=Layout(width='100%'), style=ButtonStyle()), IntText(value=0, layout=Layout(width='100%')), Button(icon='forward', layout=Layout(width='100%'), style=ButtonStyle()), Button(icon='fast-forward', layout=Layout(width='100%'), style=ButtonStyle()), Button(description='Play', icon='play', layout=Layout(width='100%'), style=ButtonStyle()), Button(icon='refresh', layout=Layout(width='25%'), style=ButtonStyle())), layout=Layout(height='50px', width='100%'))), layout=Layout(width='100%')), HTML(value='<p style=\"text-align:center\"></p>', layout=Layout(justify_content='center', overflow_x='auto', overflow_y='auto', width='95%')), Output()))"
      ]
     },
     "metadata": {},
     "output_type": "display_data"
    },
    {
     "data": {
      "application/javascript": [
       "\n",
       "require(['base/js/namespace'], function(Jupyter) {\n",
       "    Jupyter.notebook.kernel.comm_manager.register_target('conx_svg_control', function(comm, msg) {\n",
       "        comm.on_msg(function(msg) {\n",
       "            var data = msg[\"content\"][\"data\"];\n",
       "            var images = document.getElementsByClassName(data[\"class\"]);\n",
       "            for (var i = 0; i < images.length; i++) {\n",
       "                if (data[\"href\"]) {\n",
       "                    images[i].setAttributeNS(null, \"href\", data[\"href\"]);\n",
       "                }\n",
       "                if (data[\"src\"]) {\n",
       "                    images[i].setAttributeNS(null, \"src\", data[\"src\"]);\n",
       "                }\n",
       "            }\n",
       "        });\n",
       "    });\n",
       "});\n"
      ],
      "text/plain": [
       "<IPython.core.display.Javascript object>"
      ]
     },
     "metadata": {},
     "output_type": "display_data"
    },
    {
     "data": {
      "application/javascript": [
       "\n",
       "require(['base/js/namespace'], function(Jupyter) {\n",
       "    Jupyter.notebook.kernel.comm_manager.register_target('conx_svg_control', function(comm, msg) {\n",
       "        comm.on_msg(function(msg) {\n",
       "            var data = msg[\"content\"][\"data\"];\n",
       "            var images = document.getElementsByClassName(data[\"class\"]);\n",
       "            for (var i = 0; i < images.length; i++) {\n",
       "                if (data[\"href\"]) {\n",
       "                    images[i].setAttributeNS(null, \"href\", data[\"href\"]);\n",
       "                }\n",
       "                if (data[\"src\"]) {\n",
       "                    images[i].setAttributeNS(null, \"src\", data[\"src\"]);\n",
       "                }\n",
       "            }\n",
       "        });\n",
       "    });\n",
       "});\n"
      ],
      "text/plain": [
       "<IPython.core.display.Javascript object>"
      ]
     },
     "metadata": {},
     "output_type": "display_data"
    },
    {
     "data": {
      "application/javascript": [
       "\n",
       "require(['base/js/namespace'], function(Jupyter) {\n",
       "    Jupyter.notebook.kernel.comm_manager.register_target('conx_svg_control', function(comm, msg) {\n",
       "        comm.on_msg(function(msg) {\n",
       "            var data = msg[\"content\"][\"data\"];\n",
       "            var images = document.getElementsByClassName(data[\"class\"]);\n",
       "            for (var i = 0; i < images.length; i++) {\n",
       "                if (data[\"href\"]) {\n",
       "                    images[i].setAttributeNS(null, \"href\", data[\"href\"]);\n",
       "                }\n",
       "                if (data[\"src\"]) {\n",
       "                    images[i].setAttributeNS(null, \"src\", data[\"src\"]);\n",
       "                }\n",
       "            }\n",
       "        });\n",
       "    });\n",
       "});\n"
      ],
      "text/plain": [
       "<IPython.core.display.Javascript object>"
      ]
     },
     "metadata": {},
     "output_type": "display_data"
    },
    {
     "data": {
      "application/javascript": [
       "\n",
       "require(['base/js/namespace'], function(Jupyter) {\n",
       "    Jupyter.notebook.kernel.comm_manager.register_target('conx_svg_control', function(comm, msg) {\n",
       "        comm.on_msg(function(msg) {\n",
       "            var data = msg[\"content\"][\"data\"];\n",
       "            var images = document.getElementsByClassName(data[\"class\"]);\n",
       "            for (var i = 0; i < images.length; i++) {\n",
       "                if (data[\"href\"]) {\n",
       "                    images[i].setAttributeNS(null, \"href\", data[\"href\"]);\n",
       "                }\n",
       "                if (data[\"src\"]) {\n",
       "                    images[i].setAttributeNS(null, \"src\", data[\"src\"]);\n",
       "                }\n",
       "            }\n",
       "        });\n",
       "    });\n",
       "});\n"
      ],
      "text/plain": [
       "<IPython.core.display.Javascript object>"
      ]
     },
     "metadata": {},
     "output_type": "display_data"
    },
    {
     "data": {
      "application/javascript": [
       "\n",
       "require(['base/js/namespace'], function(Jupyter) {\n",
       "    Jupyter.notebook.kernel.comm_manager.register_target('conx_svg_control', function(comm, msg) {\n",
       "        comm.on_msg(function(msg) {\n",
       "            var data = msg[\"content\"][\"data\"];\n",
       "            var images = document.getElementsByClassName(data[\"class\"]);\n",
       "            for (var i = 0; i < images.length; i++) {\n",
       "                if (data[\"href\"]) {\n",
       "                    images[i].setAttributeNS(null, \"href\", data[\"href\"]);\n",
       "                }\n",
       "                if (data[\"src\"]) {\n",
       "                    images[i].setAttributeNS(null, \"src\", data[\"src\"]);\n",
       "                }\n",
       "            }\n",
       "        });\n",
       "    });\n",
       "});\n"
      ],
      "text/plain": [
       "<IPython.core.display.Javascript object>"
      ]
     },
     "metadata": {},
     "output_type": "display_data"
    },
    {
     "data": {
      "application/javascript": [
       "\n",
       "require(['base/js/namespace'], function(Jupyter) {\n",
       "    Jupyter.notebook.kernel.comm_manager.register_target('conx_svg_control', function(comm, msg) {\n",
       "        comm.on_msg(function(msg) {\n",
       "            var data = msg[\"content\"][\"data\"];\n",
       "            var images = document.getElementsByClassName(data[\"class\"]);\n",
       "            for (var i = 0; i < images.length; i++) {\n",
       "                if (data[\"href\"]) {\n",
       "                    images[i].setAttributeNS(null, \"href\", data[\"href\"]);\n",
       "                }\n",
       "                if (data[\"src\"]) {\n",
       "                    images[i].setAttributeNS(null, \"src\", data[\"src\"]);\n",
       "                }\n",
       "            }\n",
       "        });\n",
       "    });\n",
       "});\n"
      ],
      "text/plain": [
       "<IPython.core.display.Javascript object>"
      ]
     },
     "metadata": {},
     "output_type": "display_data"
    },
    {
     "data": {
      "application/javascript": [
       "\n",
       "require(['base/js/namespace'], function(Jupyter) {\n",
       "    Jupyter.notebook.kernel.comm_manager.register_target('conx_svg_control', function(comm, msg) {\n",
       "        comm.on_msg(function(msg) {\n",
       "            var data = msg[\"content\"][\"data\"];\n",
       "            var images = document.getElementsByClassName(data[\"class\"]);\n",
       "            for (var i = 0; i < images.length; i++) {\n",
       "                if (data[\"href\"]) {\n",
       "                    images[i].setAttributeNS(null, \"href\", data[\"href\"]);\n",
       "                }\n",
       "                if (data[\"src\"]) {\n",
       "                    images[i].setAttributeNS(null, \"src\", data[\"src\"]);\n",
       "                }\n",
       "            }\n",
       "        });\n",
       "    });\n",
       "});\n"
      ],
      "text/plain": [
       "<IPython.core.display.Javascript object>"
      ]
     },
     "metadata": {},
     "output_type": "display_data"
    },
    {
     "data": {
      "application/javascript": [
       "\n",
       "require(['base/js/namespace'], function(Jupyter) {\n",
       "    Jupyter.notebook.kernel.comm_manager.register_target('conx_svg_control', function(comm, msg) {\n",
       "        comm.on_msg(function(msg) {\n",
       "            var data = msg[\"content\"][\"data\"];\n",
       "            var images = document.getElementsByClassName(data[\"class\"]);\n",
       "            for (var i = 0; i < images.length; i++) {\n",
       "                if (data[\"href\"]) {\n",
       "                    images[i].setAttributeNS(null, \"href\", data[\"href\"]);\n",
       "                }\n",
       "                if (data[\"src\"]) {\n",
       "                    images[i].setAttributeNS(null, \"src\", data[\"src\"]);\n",
       "                }\n",
       "            }\n",
       "        });\n",
       "    });\n",
       "});\n"
      ],
      "text/plain": [
       "<IPython.core.display.Javascript object>"
      ]
     },
     "metadata": {},
     "output_type": "display_data"
    },
    {
     "data": {
      "application/javascript": [
       "\n",
       "require(['base/js/namespace'], function(Jupyter) {\n",
       "    Jupyter.notebook.kernel.comm_manager.register_target('conx_svg_control', function(comm, msg) {\n",
       "        comm.on_msg(function(msg) {\n",
       "            var data = msg[\"content\"][\"data\"];\n",
       "            var images = document.getElementsByClassName(data[\"class\"]);\n",
       "            for (var i = 0; i < images.length; i++) {\n",
       "                if (data[\"href\"]) {\n",
       "                    images[i].setAttributeNS(null, \"href\", data[\"href\"]);\n",
       "                }\n",
       "                if (data[\"src\"]) {\n",
       "                    images[i].setAttributeNS(null, \"src\", data[\"src\"]);\n",
       "                }\n",
       "            }\n",
       "        });\n",
       "    });\n",
       "});\n"
      ],
      "text/plain": [
       "<IPython.core.display.Javascript object>"
      ]
     },
     "metadata": {},
     "output_type": "display_data"
    },
    {
     "data": {
      "application/javascript": [
       "\n",
       "require(['base/js/namespace'], function(Jupyter) {\n",
       "    Jupyter.notebook.kernel.comm_manager.register_target('conx_svg_control', function(comm, msg) {\n",
       "        comm.on_msg(function(msg) {\n",
       "            var data = msg[\"content\"][\"data\"];\n",
       "            var images = document.getElementsByClassName(data[\"class\"]);\n",
       "            for (var i = 0; i < images.length; i++) {\n",
       "                if (data[\"href\"]) {\n",
       "                    images[i].setAttributeNS(null, \"href\", data[\"href\"]);\n",
       "                }\n",
       "                if (data[\"src\"]) {\n",
       "                    images[i].setAttributeNS(null, \"src\", data[\"src\"]);\n",
       "                }\n",
       "            }\n",
       "        });\n",
       "    });\n",
       "});\n"
      ],
      "text/plain": [
       "<IPython.core.display.Javascript object>"
      ]
     },
     "metadata": {},
     "output_type": "display_data"
    },
    {
     "data": {
      "application/javascript": [
       "\n",
       "require(['base/js/namespace'], function(Jupyter) {\n",
       "    Jupyter.notebook.kernel.comm_manager.register_target('conx_svg_control', function(comm, msg) {\n",
       "        comm.on_msg(function(msg) {\n",
       "            var data = msg[\"content\"][\"data\"];\n",
       "            var images = document.getElementsByClassName(data[\"class\"]);\n",
       "            for (var i = 0; i < images.length; i++) {\n",
       "                if (data[\"href\"]) {\n",
       "                    images[i].setAttributeNS(null, \"href\", data[\"href\"]);\n",
       "                }\n",
       "                if (data[\"src\"]) {\n",
       "                    images[i].setAttributeNS(null, \"src\", data[\"src\"]);\n",
       "                }\n",
       "            }\n",
       "        });\n",
       "    });\n",
       "});\n"
      ],
      "text/plain": [
       "<IPython.core.display.Javascript object>"
      ]
     },
     "metadata": {},
     "output_type": "display_data"
    }
   ],
   "source": [
    "best_player.net.dashboard()"
   ]
  },
  {
   "cell_type": "code",
   "execution_count": null,
   "metadata": {},
   "outputs": [],
   "source": [
    "Now, you can play the best player to see how it does:"
   ]
  },
  {
   "cell_type": "code",
   "execution_count": null,
   "metadata": {},
   "outputs": [],
   "source": [
    "p1 = QueryPlayer(\"Your Name\")\n",
    "p2 = NNPlayer(\"Trained AlphaZero\")\n",
    "p2.net = best_player.net\n",
    "connect4 = ConnectFour()\n",
    "connect4.play_game(p1, p2)"
   ]
  },
  {
   "cell_type": "markdown",
   "metadata": {},
   "source": [
    "## Summary\n",
    "\n",
    "* Play against itself, at just the right level. Evolution-style.\n",
    "* Uses search in training."
   ]
  }
 ],
 "metadata": {
  "kernelspec": {
   "display_name": "Python 3",
   "language": "python",
   "name": "python3"
  },
  "language_info": {
   "codemirror_mode": {
    "name": "ipython",
    "version": 3
   },
   "file_extension": ".py",
   "mimetype": "text/x-python",
   "name": "python",
   "nbconvert_exporter": "python",
   "pygments_lexer": "ipython3",
   "version": "3.6.3"
  },
  "widgets": {
   "application/vnd.jupyter.widget-state+json": {
    "state": {
     "0741e46b9b0f4bf5844bd3d85c4232d9": {
      "model_module": "@jupyter-widgets/base",
      "model_module_version": "1.0.0",
      "model_name": "LayoutModel",
      "state": {
       "height": "40px"
      }
     },
     "0776543edcaf412e9f635d7a22655c6b": {
      "model_module": "@jupyter-widgets/controls",
      "model_module_version": "1.1.0",
      "model_name": "IntTextModel",
      "state": {
       "description": "Horizontal space between banks:",
       "layout": "IPY_MODEL_fbb8a16d0747495e99f5bfc2808109ff",
       "step": 1,
       "style": "IPY_MODEL_a1badee473d84e34b941b2c9f758497e",
       "value": 150
      }
     },
     "0923567ad61746768ba409b22a19e778": {
      "model_module": "@jupyter-widgets/controls",
      "model_module_version": "1.1.0",
      "model_name": "FloatTextModel",
      "state": {
       "description": "Rightmost color maps to:",
       "layout": "IPY_MODEL_fd93bee2d6344272b7af327ceedbe041",
       "step": null,
       "style": "IPY_MODEL_92fcc589ae3f43e3835b39bebe0eb5af",
       "value": 1
      }
     },
     "0ad2f90079b940afbae181f44e2fa95c": {
      "model_module": "@jupyter-widgets/base",
      "model_module_version": "1.0.0",
      "model_name": "LayoutModel",
      "state": {
       "width": "100%"
      }
     },
     "0cca1cfa7b60414780471f0f4a6d5928": {
      "model_module": "@jupyter-widgets/base",
      "model_module_version": "1.0.0",
      "model_name": "LayoutModel",
      "state": {}
     },
     "0dcae20a89eb4f3f9f72e1749488e972": {
      "model_module": "@jupyter-widgets/base",
      "model_module_version": "1.0.0",
      "model_name": "LayoutModel",
      "state": {
       "height": "50px",
       "width": "100%"
      }
     },
     "0dffa73cbed44de797de9757880b194d": {
      "model_module": "@jupyter-widgets/controls",
      "model_module_version": "1.1.0",
      "model_name": "SliderStyleModel",
      "state": {
       "description_width": ""
      }
     },
     "1061517f16174b528ea3e598d9a05390": {
      "model_module": "@jupyter-widgets/controls",
      "model_module_version": "1.1.0",
      "model_name": "VBoxModel",
      "state": {
       "children": [
        "IPY_MODEL_5b1f003557944ddbaf762229351297a2",
        "IPY_MODEL_6d3e564d860847f9b3ded1f0a666141d",
        "IPY_MODEL_0776543edcaf412e9f635d7a22655c6b",
        "IPY_MODEL_929c52b13ba3416e980762d30075433b",
        "IPY_MODEL_af765efc36444d1a83f795dce70759ca",
        "IPY_MODEL_6c3867c8e825497eba374bbee12868bb",
        "IPY_MODEL_b36f0ddf249b43749b2bc484734a1797",
        "IPY_MODEL_47eedfb230484e189827e89986730a27"
       ],
       "layout": "IPY_MODEL_6ab6f6dff1c74d81a479cdd6db7fd23d"
      }
     },
     "12a4410c8917409fbe22407c92bd5851": {
      "model_module": "@jupyter-widgets/controls",
      "model_module_version": "1.1.0",
      "model_name": "DescriptionStyleModel",
      "state": {
       "description_width": "initial"
      }
     },
     "12bd2b38882e43008400b0a17656f423": {
      "model_module": "@jupyter-widgets/base",
      "model_module_version": "1.0.0",
      "model_name": "LayoutModel",
      "state": {}
     },
     "179ed4ed33034da29acb906a1656f109": {
      "model_module": "@jupyter-widgets/base",
      "model_module_version": "1.0.0",
      "model_name": "LayoutModel",
      "state": {
       "width": "100%"
      }
     },
     "187ca2da185c48cd8396c48f75ac4eaf": {
      "model_module": "@jupyter-widgets/base",
      "model_module_version": "1.0.0",
      "model_name": "LayoutModel",
      "state": {}
     },
     "1a3cf9f38b1d4d11a9f75692b93fc318": {
      "model_module": "@jupyter-widgets/controls",
      "model_module_version": "1.1.0",
      "model_name": "DescriptionStyleModel",
      "state": {
       "description_width": "initial"
      }
     },
     "1dd255503b57462b81cfb7c78003a688": {
      "model_module": "@jupyter-widgets/controls",
      "model_module_version": "1.1.0",
      "model_name": "IntSliderModel",
      "state": {
       "continuous_update": false,
       "description": "Dataset index",
       "layout": "IPY_MODEL_179ed4ed33034da29acb906a1656f109",
       "max": 3,
       "style": "IPY_MODEL_d9da6ff4050f4edb99e198d819516bda",
       "value": 1
      }
     },
     "1dfa04d6b8a84c56887183f68e4335fd": {
      "model_module": "@jupyter-widgets/base",
      "model_module_version": "1.0.0",
      "model_name": "LayoutModel",
      "state": {}
     },
     "1fa1279ef6b94fb5a45eb551c19091e9": {
      "model_module": "@jupyter-widgets/base",
      "model_module_version": "1.0.0",
      "model_name": "LayoutModel",
      "state": {
       "width": "100%"
      }
     },
     "1fc06217b9474474ab88eb96e110cb72": {
      "model_module": "@jupyter-widgets/controls",
      "model_module_version": "1.1.0",
      "model_name": "DescriptionStyleModel",
      "state": {
       "description_width": ""
      }
     },
     "217042ec394e443cb966ee7f50e7d70e": {
      "model_module": "@jupyter-widgets/controls",
      "model_module_version": "1.1.0",
      "model_name": "DescriptionStyleModel",
      "state": {
       "description_width": ""
      }
     },
     "22231be8fd7745b9bc764cef17bc1b6a": {
      "model_module": "@jupyter-widgets/controls",
      "model_module_version": "1.1.0",
      "model_name": "HBoxModel",
      "state": {
       "children": [
        "IPY_MODEL_1061517f16174b528ea3e598d9a05390",
        "IPY_MODEL_7a68e61b8bb54e0eac2f7b5aa775dfb5"
       ],
       "layout": "IPY_MODEL_8a191438cd5a4f90bf89cfc1de5d4dd3"
      }
     },
     "271ce6ca358f4348a9a676a9ec313fda": {
      "model_module": "@jupyter-widgets/base",
      "model_module_version": "1.0.0",
      "model_name": "LayoutModel",
      "state": {
       "width": "100%"
      }
     },
     "28192858eb7d4f7ca186e8f46c242e3d": {
      "model_module": "@jupyter-widgets/controls",
      "model_module_version": "1.1.0",
      "model_name": "DescriptionStyleModel",
      "state": {
       "description_width": ""
      }
     },
     "2b3adfdf59714146bfc616daea045c05": {
      "model_module": "@jupyter-widgets/controls",
      "model_module_version": "1.1.0",
      "model_name": "ButtonModel",
      "state": {
       "icon": "backward",
       "layout": "IPY_MODEL_0ad2f90079b940afbae181f44e2fa95c",
       "style": "IPY_MODEL_507e754ab8334b738975df70ab1cb124"
      }
     },
     "2df28eb027f643ac89e58be0acbc5519": {
      "model_module": "@jupyter-widgets/base",
      "model_module_version": "1.0.0",
      "model_name": "LayoutModel",
      "state": {
       "width": "100%"
      }
     },
     "3432f3b78cfb4f89a48ed6a2baf5db45": {
      "model_module": "@jupyter-widgets/controls",
      "model_module_version": "1.1.0",
      "model_name": "DescriptionStyleModel",
      "state": {
       "description_width": "initial"
      }
     },
     "35796f507edf4facbac6578ec38f9b25": {
      "model_module": "@jupyter-widgets/base",
      "model_module_version": "1.0.0",
      "model_name": "LayoutModel",
      "state": {
       "justify_content": "center",
       "overflow_x": "auto",
       "overflow_y": "auto",
       "width": "95%"
      }
     },
     "3bcb4ce374a54d49addef5e241765ad6": {
      "model_module": "@jupyter-widgets/base",
      "model_module_version": "1.0.0",
      "model_name": "LayoutModel",
      "state": {}
     },
     "3be538730bc442a0b3408132b13e0a21": {
      "model_module": "@jupyter-widgets/controls",
      "model_module_version": "1.1.0",
      "model_name": "FloatTextModel",
      "state": {
       "description": "Leftmost color maps to:",
       "layout": "IPY_MODEL_12bd2b38882e43008400b0a17656f423",
       "step": null,
       "style": "IPY_MODEL_c9fdaf2f01a5424cb0bcf548fcd5fba0",
       "value": -1
      }
     },
     "3e33934bd3054262adbdad542c4fea63": {
      "model_module": "@jupyter-widgets/controls",
      "model_module_version": "1.1.0",
      "model_name": "HTMLModel",
      "state": {
       "layout": "IPY_MODEL_35796f507edf4facbac6578ec38f9b25",
       "style": "IPY_MODEL_28192858eb7d4f7ca186e8f46c242e3d",
       "value": "\n<table align=\"center\" style=\"width: 100%;\">\n <tr>\n  <td valign=\"top\"><p style=\"text-align:center\"><svg id='Residual CNN' xmlns='http://www.w3.org/2000/svg' viewBox=\"0 0 550 300\" max-width=\"100%\" height=\"780\" image-rendering=\"pixelated\">\n    <defs>\n        <marker id=\"arrow\" markerWidth=\"10\" markerHeight=\"10\" refX=\"9\" refY=\"3\" orient=\"auto\" markerUnits=\"strokeWidth\">\n          <path d=\"M0,0 L0,6 L9,3 z\" fill=\"black\" />\n        </marker>\n    </defs><text x=\"275.0\" y=\"12.5\" font-family=\"monospace\" font-size=\"15\" text-anchor=\"middle\" alignment-baseline=\"central\">Residual CNN</text><rect x=\"82.33333333333334\" y=\"24\" width=\"202\" height=\"52\" style=\"fill:none;stroke:black;stroke-width:2\"/><image id=\"Residual CNN_policy_head_55\" class=\"Residual CNN_policy_head\" x=\"83.33333333333334\" y=\"25\" height=\"50\" width=\"200\" preserveAspectRatio=\"none\" href=\"data:image/gif;base64,R0lGODdhKgABAIcAAPv5/PLo9P/IyMrK/9fX/6Gh//+IiP+5uf/d3QAAAAAAAAAAAAAAAAAAAAAAAAAAAAAAAAAAAAAAAAAAAAAAAAAAAAAAAAAAAAAAAAAAAAAAAAAAAAAAAAAAAAAAAAAAAAAAAAAAAAAAAAAAAAAAAAAAAAAAAAAAAAAAAAAAAAAAAAAAAAAAAAAAAAAAAAAAAAAAAAAAAAAAAAAAAAAAAAAAAAAAAAAAAAAAAAAAAAAAAAAAAAAAAAAAAAAAAAAAAAAAAAAAAAAAAAAAAAAAAAAAAAAAAAAAAAAAAAAAAAAAAAAAAAAAAAAAAAAAAAAAAAAAAAAAAAAAAAAAAAAAAAAAAAAAAAAAAAAAAAAAAAAAAAAAAAAAAAAAAAAAAAAAAAAAAAAAAAAAAAAAAAAAAAAAAAAAAAAAAAAAAAAAAAAAAAAAAAAAAAAAAAAAAAAAAAAAAAAAAAAAAAAAAAAAAAAAAAAAAAAAAAAAAAAAAAAAAAAAAAAAAAAAAAAAAAAAAAAAAAAAAAAAAAAAAAAAAAAAAAAAAAAAAAAAAAAAAAAAAAAAAAAAAAAAAAAAAAAAAAAAAAAAAAAAAAAAAAAAAAAAAAAAAAAAAAAAAAAAAAAAAAAAAAAAAAAAAAAAAAAAAAAAAAAAAAAAAAAAAAAAAAAAAAAAAAAAAAAAAAAAAAAAAAAAAAAAAAAAAAAAAAAAAAAAAAAAAAAAAAAAAAAAAAAAAAAAAAAAAAAAAAAAAAAAAAAAAAAAAAAAAAAAAAAAAAAAAAAAAAAAAAAAAAAAAAAAAAAAAAAAAAAAAAAAAAAAAAAAAAAAAAAAAAAAAAAAAAAAAAAAAAAAAAAAAAAAAAAAAAAAAAAAAAAAAAAAAAAAAAAAAAAAAAAAAAAAAAAAAAAAAAAAAAAAAAAAAAAAAAAAAAAAAAAAAAAAAAAAAAAAAAAAAAAAAAAAAAAAAAAAAAAAAAAAAAAAAAAAAAAAAAAAAAAAAAAAAAAAAAAAAAAAAAAAAAAAAAAAAAAAAAAAACwAAAAAKgABAAAIMgABFAAAQICAAQEQBAAQAMAAAAECAAAQQEAAAgAEAABAAECAAAYEBAAAIAAAAAMOCAgIADs=\"><title>Layer: policy_head (output)\n shape = (42,)\n Keras class = Dense\n use_bias = False\n activation = linear\n kernel_regularizer = &lt;keras.regularizers.L1L2 object at 0x7fe39b432278&gt;</title></image><text x=\"288.33333333333337\" y=\"52.0\" font-family=\"monospace\" font-size=\"12\" text-anchor=\"start\" alignment-baseline=\"central\">policy_head</text><rect x=\"340.6666666666667\" y=\"24\" width=\"52\" height=\"52\" style=\"fill:none;stroke:black;stroke-width:2\"/><image id=\"Residual CNN_value_head_56\" class=\"Residual CNN_value_head\" x=\"341.6666666666667\" y=\"25\" height=\"50\" width=\"50\" preserveAspectRatio=\"none\" href=\"data:image/gif;base64,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\"><title>Layer: value_head (output)\n shape = (1,)\n Keras class = Dense\n use_bias = False\n activation = tanh\n kernel_regularizer = &lt;keras.regularizers.L1L2 object at 0x7fe3c0b73c18&gt;</title></image><text x=\"396.6666666666667\" y=\"52.0\" font-family=\"monospace\" font-size=\"12\" text-anchor=\"start\" alignment-baseline=\"central\">value_head</text><line x1=\"183.33333333333334\" y1=\"75\" x2=\"183.33333333333334\" y2=\"75\" stroke=\"black\" stroke-width=\"2\" marker-end=\"url(#arrow)\"><title>Weights from flatten-1 to policy_head\n policy_head_1/kernel:0 has shape (84, 42)</title></line><line x1=\"183.33333333333334\" y1=\"75\" x2=\"183.33333333333334\" y2=\"75\" stroke=\"black\" stroke-width=\"2\"><title>Weights from flatten-1 to policy_head\n policy_head_1/kernel:0 has shape (84, 42)</title></line><rect x=\"174.0\" y=\"74\" width=\"202\" height=\"202\" style=\"fill:none;stroke:black;stroke-width:2\"/><image id=\"Residual CNN_main_input_57\" class=\"Residual CNN_main_input\" x=\"175.0\" y=\"75\" height=\"200\" width=\"200\" preserveAspectRatio=\"none\" href=\"data:image/gif;base64,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\"><title>Layer: main_input (input)\n shape = (6, 7, 2)\n Keras class = Input</title></image><text x=\"380.0\" y=\"177.0\" font-family=\"monospace\" font-size=\"12\" text-anchor=\"start\" alignment-baseline=\"central\">main_input</text><text x=\"380.0\" y=\"80\" font-family=\"monospace\" font-size=\"12\" text-anchor=\"start\" alignment-baseline=\"central\">2</text><text x=\"163.0\" y=\"270\" font-family=\"monospace\" font-size=\"12\" text-anchor=\"start\" alignment-baseline=\"central\">0</text></svg></p></td>\n  <td valign=\"top\" align=\"center\"><p style=\"text-align:center\"><b>main_input features</b></p><table><tr><td style=\"border: 1px solid black;\"><img style=\"image-rendering: pixelated;\" class=\"Residual CNN_main_input_feature0\" src=\"data:image/gif;base64,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\"/><br/><center>Feature 0</center></td><td style=\"border: 1px solid black;\"><img style=\"image-rendering: pixelated;\" class=\"Residual CNN_main_input_feature1\" src=\"data:image/gif;base64,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\"/><br/><center>Feature 1</center></td></tr></table></td>\n</tr>\n</table>"
      }
     },
     "41c3c7e072f04c6abf41f9133fc592fc": {
      "model_module": "@jupyter-widgets/controls",
      "model_module_version": "1.1.0",
      "model_name": "DescriptionStyleModel",
      "state": {
       "description_width": ""
      }
     },
     "42fb14e627004bf69ce83a88647494e5": {
      "model_module": "@jupyter-widgets/controls",
      "model_module_version": "1.1.0",
      "model_name": "DescriptionStyleModel",
      "state": {
       "description_width": "initial"
      }
     },
     "46b3ca31424346b8881e81ea3b528b6c": {
      "model_module": "@jupyter-widgets/controls",
      "model_module_version": "1.1.0",
      "model_name": "ButtonModel",
      "state": {
       "icon": "fast-forward",
       "layout": "IPY_MODEL_9823a1c0a34f40f5903189fc734bd864",
       "style": "IPY_MODEL_71cfc547f6e548719d1136aa62a82b4d"
      }
     },
     "47eedfb230484e189827e89986730a27": {
      "model_module": "@jupyter-widgets/controls",
      "model_module_version": "1.1.0",
      "model_name": "FloatTextModel",
      "state": {
       "description": "Feature scale:",
       "layout": "IPY_MODEL_eff0474a98d94315b818f72b70906a8e",
       "step": null,
       "style": "IPY_MODEL_12a4410c8917409fbe22407c92bd5851",
       "value": 2
      }
     },
     "4b5e2f4caa21408ab667a52dc4e97681": {
      "model_module": "@jupyter-widgets/controls",
      "model_module_version": "1.1.0",
      "model_name": "HBoxModel",
      "state": {
       "children": [
        "IPY_MODEL_7e15b8ba58e34c98be93831feff33791",
        "IPY_MODEL_2b3adfdf59714146bfc616daea045c05",
        "IPY_MODEL_7d758c7a5da947fbb1a9c3671ac8057a",
        "IPY_MODEL_c2657c5043af450787a756d5ff70a797",
        "IPY_MODEL_46b3ca31424346b8881e81ea3b528b6c",
        "IPY_MODEL_adde82d52fef48b5870b3966a2401a13",
        "IPY_MODEL_89765308b2544059b1cd31c85f5f1aea"
       ],
       "layout": "IPY_MODEL_0dcae20a89eb4f3f9f72e1749488e972"
      }
     },
     "507e754ab8334b738975df70ab1cb124": {
      "model_module": "@jupyter-widgets/controls",
      "model_module_version": "1.1.0",
      "model_name": "ButtonStyleModel",
      "state": {}
     },
     "545de5cb599c4f80b51a57eae1ccda28": {
      "model_module": "@jupyter-widgets/controls",
      "model_module_version": "1.1.0",
      "model_name": "VBoxModel",
      "state": {
       "children": [
        "IPY_MODEL_8b78b24619ac45d49a1ccbd3c6801a5f",
        "IPY_MODEL_66e7a0fb8d3a4b5b96a090468ee0630f",
        "IPY_MODEL_3e33934bd3054262adbdad542c4fea63",
        "IPY_MODEL_dba1ab8cf7604081977cb1904bbd6e03"
       ],
       "layout": "IPY_MODEL_81b70d642cee4b15806a0ed6bde80999"
      }
     },
     "555b06db5a3a42d6b6facd771ac3fff7": {
      "model_module": "@jupyter-widgets/controls",
      "model_module_version": "1.1.0",
      "model_name": "ButtonStyleModel",
      "state": {}
     },
     "56f6ff9e50674984b90124f8428aefd8": {
      "model_module": "@jupyter-widgets/controls",
      "model_module_version": "1.1.0",
      "model_name": "SelectModel",
      "state": {
       "_options_labels": [
        "",
        "Accent",
        "Accent_r",
        "Blues",
        "Blues_r",
        "BrBG",
        "BrBG_r",
        "BuGn",
        "BuGn_r",
        "BuPu",
        "BuPu_r",
        "CMRmap",
        "CMRmap_r",
        "Dark2",
        "Dark2_r",
        "GnBu",
        "GnBu_r",
        "Greens",
        "Greens_r",
        "Greys",
        "Greys_r",
        "OrRd",
        "OrRd_r",
        "Oranges",
        "Oranges_r",
        "PRGn",
        "PRGn_r",
        "Paired",
        "Paired_r",
        "Pastel1",
        "Pastel1_r",
        "Pastel2",
        "Pastel2_r",
        "PiYG",
        "PiYG_r",
        "PuBu",
        "PuBuGn",
        "PuBuGn_r",
        "PuBu_r",
        "PuOr",
        "PuOr_r",
        "PuRd",
        "PuRd_r",
        "Purples",
        "Purples_r",
        "RdBu",
        "RdBu_r",
        "RdGy",
        "RdGy_r",
        "RdPu",
        "RdPu_r",
        "RdYlBu",
        "RdYlBu_r",
        "RdYlGn",
        "RdYlGn_r",
        "Reds",
        "Reds_r",
        "Set1",
        "Set1_r",
        "Set2",
        "Set2_r",
        "Set3",
        "Set3_r",
        "Spectral",
        "Spectral_r",
        "Vega10",
        "Vega10_r",
        "Vega20",
        "Vega20_r",
        "Vega20b",
        "Vega20b_r",
        "Vega20c",
        "Vega20c_r",
        "Wistia",
        "Wistia_r",
        "YlGn",
        "YlGnBu",
        "YlGnBu_r",
        "YlGn_r",
        "YlOrBr",
        "YlOrBr_r",
        "YlOrRd",
        "YlOrRd_r",
        "afmhot",
        "afmhot_r",
        "autumn",
        "autumn_r",
        "binary",
        "binary_r",
        "bone",
        "bone_r",
        "brg",
        "brg_r",
        "bwr",
        "bwr_r",
        "cool",
        "cool_r",
        "coolwarm",
        "coolwarm_r",
        "copper",
        "copper_r",
        "cubehelix",
        "cubehelix_r",
        "flag",
        "flag_r",
        "gist_earth",
        "gist_earth_r",
        "gist_gray",
        "gist_gray_r",
        "gist_heat",
        "gist_heat_r",
        "gist_ncar",
        "gist_ncar_r",
        "gist_rainbow",
        "gist_rainbow_r",
        "gist_stern",
        "gist_stern_r",
        "gist_yarg",
        "gist_yarg_r",
        "gnuplot",
        "gnuplot2",
        "gnuplot2_r",
        "gnuplot_r",
        "gray",
        "gray_r",
        "hot",
        "hot_r",
        "hsv",
        "hsv_r",
        "inferno",
        "inferno_r",
        "jet",
        "jet_r",
        "magma",
        "magma_r",
        "nipy_spectral",
        "nipy_spectral_r",
        "ocean",
        "ocean_r",
        "pink",
        "pink_r",
        "plasma",
        "plasma_r",
        "prism",
        "prism_r",
        "rainbow",
        "rainbow_r",
        "seismic",
        "seismic_r",
        "spectral",
        "spectral_r",
        "spring",
        "spring_r",
        "summer",
        "summer_r",
        "tab10",
        "tab10_r",
        "tab20",
        "tab20_r",
        "tab20b",
        "tab20b_r",
        "tab20c",
        "tab20c_r",
        "terrain",
        "terrain_r",
        "viridis",
        "viridis_r",
        "winter",
        "winter_r"
       ],
       "description": "Colormap:",
       "index": 0,
       "layout": "IPY_MODEL_fbb8a16d0747495e99f5bfc2808109ff",
       "rows": 1,
       "style": "IPY_MODEL_c65cae16013b437aa57b924afe681ef4"
      }
     },
     "5b1f003557944ddbaf762229351297a2": {
      "model_module": "@jupyter-widgets/controls",
      "model_module_version": "1.1.0",
      "model_name": "SelectModel",
      "state": {
       "_options_labels": [
        "Test",
        "Train"
       ],
       "description": "Dataset:",
       "index": 1,
       "layout": "IPY_MODEL_c263abd70a4d48c4bcfb66f823a490a2",
       "rows": 1,
       "style": "IPY_MODEL_837fdb67e2164e4585e29fcedec8ac0b"
      }
     },
     "5e253d6e7f8c4ed0923d32aec9cb1e3e": {
      "model_module": "@jupyter-widgets/base",
      "model_module_version": "1.0.0",
      "model_name": "LayoutModel",
      "state": {
       "width": "25%"
      }
     },
     "5e6bbae775a34f77836b19a2499c8f34": {
      "model_module": "@jupyter-widgets/controls",
      "model_module_version": "1.1.0",
      "model_name": "IntTextModel",
      "state": {
       "description": "Feature to show:",
       "layout": "IPY_MODEL_f0f23f5f0b31443ca2fa8bc3fadaa94c",
       "step": 1,
       "style": "IPY_MODEL_9835ea8988394379a41b196038121392"
      }
     },
     "5fd493c4923a48cbae37d1b27bb1bebd": {
      "model_module": "@jupyter-widgets/base",
      "model_module_version": "1.0.0",
      "model_name": "LayoutModel",
      "state": {
       "width": "100%"
      }
     },
     "63b13f0a739e4d328e0f42d31cc13753": {
      "model_module": "@jupyter-widgets/base",
      "model_module_version": "1.0.0",
      "model_name": "LayoutModel",
      "state": {}
     },
     "655fb18010474bc7adfc93ea9f88f195": {
      "model_module": "@jupyter-widgets/controls",
      "model_module_version": "1.1.0",
      "model_name": "CheckboxModel",
      "state": {
       "description": "Visible",
       "disabled": false,
       "layout": "IPY_MODEL_fbb8a16d0747495e99f5bfc2808109ff",
       "style": "IPY_MODEL_72f1453f5ff44eaf83235ec62ee65a97",
       "value": true
      }
     },
     "66e7a0fb8d3a4b5b96a090468ee0630f": {
      "model_module": "@jupyter-widgets/controls",
      "model_module_version": "1.1.0",
      "model_name": "VBoxModel",
      "state": {
       "children": [
        "IPY_MODEL_b1759105ed0e4029ad8b4b853649b20a",
        "IPY_MODEL_4b5e2f4caa21408ab667a52dc4e97681"
       ],
       "layout": "IPY_MODEL_271ce6ca358f4348a9a676a9ec313fda"
      }
     },
     "6ab6f6dff1c74d81a479cdd6db7fd23d": {
      "model_module": "@jupyter-widgets/base",
      "model_module_version": "1.0.0",
      "model_name": "LayoutModel",
      "state": {
       "width": "100%"
      }
     },
     "6c3867c8e825497eba374bbee12868bb": {
      "model_module": "@jupyter-widgets/controls",
      "model_module_version": "1.1.0",
      "model_name": "SelectModel",
      "state": {
       "_options_labels": [
        "",
        "main_input",
        "conv2d-1",
        "batch-norm-1",
        "leaky-relu-1",
        "conv2d-2",
        "batch-norm-2",
        "leaky-relu-2",
        "conv2d-3",
        "batch-norm-3",
        "add-1",
        "leaky-relu-3",
        "conv2d-4",
        "batch-norm-4",
        "leaky-relu-4",
        "conv2d-5",
        "batch-norm-5",
        "add-2",
        "leaky-relu-5",
        "conv2d-6",
        "batch-norm-6",
        "leaky-relu-6",
        "conv2d-7",
        "batch-norm-7",
        "add-3",
        "leaky-relu-7",
        "conv2d-8",
        "batch-norm-8",
        "leaky-relu-8",
        "conv2d-9",
        "batch-norm-9",
        "add-4",
        "leaky-relu-9",
        "conv2d-10",
        "batch-norm-10",
        "leaky-relu-10",
        "conv2d-11",
        "batch-norm-11",
        "add-5",
        "leaky-relu-11",
        "conv2d-12",
        "batch-norm-12",
        "leaky-relu-12",
        "conv2d-13",
        "batch-norm-13",
        "leaky-relu-13"
       ],
       "description": "Features:",
       "index": 1,
       "layout": "IPY_MODEL_63b13f0a739e4d328e0f42d31cc13753",
       "rows": 1,
       "style": "IPY_MODEL_ca36085589ea4aae83167a05606f2ee9"
      }
     },
     "6d3e564d860847f9b3ded1f0a666141d": {
      "model_module": "@jupyter-widgets/controls",
      "model_module_version": "1.1.0",
      "model_name": "FloatSliderModel",
      "state": {
       "continuous_update": false,
       "description": "Zoom",
       "layout": "IPY_MODEL_76884212b09440088f9ffee6e5c484a4",
       "max": 3,
       "min": 0.5,
       "step": 0.1,
       "style": "IPY_MODEL_0dffa73cbed44de797de9757880b194d",
       "value": 1
      }
     },
     "6f31104f50c74f428b95d3f2afc9cee7": {
      "model_module": "@jupyter-widgets/controls",
      "model_module_version": "1.1.0",
      "model_name": "ButtonStyleModel",
      "state": {}
     },
     "705fd9c4bc8e41fe9efe90be5711d1af": {
      "model_module": "@jupyter-widgets/base",
      "model_module_version": "1.0.0",
      "model_name": "LayoutModel",
      "state": {
       "width": "100%"
      }
     },
     "71cfc547f6e548719d1136aa62a82b4d": {
      "model_module": "@jupyter-widgets/controls",
      "model_module_version": "1.1.0",
      "model_name": "ButtonStyleModel",
      "state": {}
     },
     "72f1453f5ff44eaf83235ec62ee65a97": {
      "model_module": "@jupyter-widgets/controls",
      "model_module_version": "1.1.0",
      "model_name": "DescriptionStyleModel",
      "state": {
       "description_width": ""
      }
     },
     "733ce58e1f1e44bf814c6651058c7195": {
      "model_module": "@jupyter-widgets/controls",
      "model_module_version": "1.1.0",
      "model_name": "LabelModel",
      "state": {
       "layout": "IPY_MODEL_cdd164f9e1e345edb568290864583612",
       "style": "IPY_MODEL_217042ec394e443cb966ee7f50e7d70e",
       "value": "of 4"
      }
     },
     "76884212b09440088f9ffee6e5c484a4": {
      "model_module": "@jupyter-widgets/base",
      "model_module_version": "1.0.0",
      "model_name": "LayoutModel",
      "state": {}
     },
     "7a68e61b8bb54e0eac2f7b5aa775dfb5": {
      "model_module": "@jupyter-widgets/controls",
      "model_module_version": "1.1.0",
      "model_name": "VBoxModel",
      "state": {
       "children": [
        "IPY_MODEL_d920c397643e496cb085df4e13aa21d7",
        "IPY_MODEL_655fb18010474bc7adfc93ea9f88f195",
        "IPY_MODEL_56f6ff9e50674984b90124f8428aefd8",
        "IPY_MODEL_9be5400ae11f4df280a22d357c7d8dde",
        "IPY_MODEL_3be538730bc442a0b3408132b13e0a21",
        "IPY_MODEL_0923567ad61746768ba409b22a19e778",
        "IPY_MODEL_5e6bbae775a34f77836b19a2499c8f34"
       ],
       "layout": "IPY_MODEL_2df28eb027f643ac89e58be0acbc5519"
      }
     },
     "7d758c7a5da947fbb1a9c3671ac8057a": {
      "model_module": "@jupyter-widgets/controls",
      "model_module_version": "1.1.0",
      "model_name": "IntTextModel",
      "state": {
       "layout": "IPY_MODEL_1fa1279ef6b94fb5a45eb551c19091e9",
       "step": 1,
       "style": "IPY_MODEL_c70bdb047b4f4f8d88e5c7f1ee0ea5ea",
       "value": 1
      }
     },
     "7e15b8ba58e34c98be93831feff33791": {
      "model_module": "@jupyter-widgets/controls",
      "model_module_version": "1.1.0",
      "model_name": "ButtonModel",
      "state": {
       "icon": "fast-backward",
       "layout": "IPY_MODEL_5fd493c4923a48cbae37d1b27bb1bebd",
       "style": "IPY_MODEL_9aa099ae3a1f4b42a0d45d1bc4e36958"
      }
     },
     "81b70d642cee4b15806a0ed6bde80999": {
      "model_module": "@jupyter-widgets/base",
      "model_module_version": "1.0.0",
      "model_name": "LayoutModel",
      "state": {}
     },
     "837fdb67e2164e4585e29fcedec8ac0b": {
      "model_module": "@jupyter-widgets/controls",
      "model_module_version": "1.1.0",
      "model_name": "DescriptionStyleModel",
      "state": {
       "description_width": ""
      }
     },
     "89765308b2544059b1cd31c85f5f1aea": {
      "model_module": "@jupyter-widgets/controls",
      "model_module_version": "1.1.0",
      "model_name": "ButtonModel",
      "state": {
       "icon": "refresh",
       "layout": "IPY_MODEL_5e253d6e7f8c4ed0923d32aec9cb1e3e",
       "style": "IPY_MODEL_555b06db5a3a42d6b6facd771ac3fff7"
      }
     },
     "8a191438cd5a4f90bf89cfc1de5d4dd3": {
      "model_module": "@jupyter-widgets/base",
      "model_module_version": "1.0.0",
      "model_name": "LayoutModel",
      "state": {}
     },
     "8b78b24619ac45d49a1ccbd3c6801a5f": {
      "model_module": "@jupyter-widgets/controls",
      "model_module_version": "1.1.0",
      "model_name": "AccordionModel",
      "state": {
       "_titles": {
        "0": "Residual CNN"
       },
       "children": [
        "IPY_MODEL_22231be8fd7745b9bc764cef17bc1b6a"
       ],
       "layout": "IPY_MODEL_3bcb4ce374a54d49addef5e241765ad6"
      }
     },
     "929c52b13ba3416e980762d30075433b": {
      "model_module": "@jupyter-widgets/controls",
      "model_module_version": "1.1.0",
      "model_name": "IntTextModel",
      "state": {
       "description": "Vertical space between layers:",
       "layout": "IPY_MODEL_fbb8a16d0747495e99f5bfc2808109ff",
       "step": 1,
       "style": "IPY_MODEL_42fb14e627004bf69ce83a88647494e5",
       "value": 30
      }
     },
     "92fcc589ae3f43e3835b39bebe0eb5af": {
      "model_module": "@jupyter-widgets/controls",
      "model_module_version": "1.1.0",
      "model_name": "DescriptionStyleModel",
      "state": {
       "description_width": "initial"
      }
     },
     "9823a1c0a34f40f5903189fc734bd864": {
      "model_module": "@jupyter-widgets/base",
      "model_module_version": "1.0.0",
      "model_name": "LayoutModel",
      "state": {
       "width": "100%"
      }
     },
     "9835ea8988394379a41b196038121392": {
      "model_module": "@jupyter-widgets/controls",
      "model_module_version": "1.1.0",
      "model_name": "DescriptionStyleModel",
      "state": {
       "description_width": "initial"
      }
     },
     "9aa099ae3a1f4b42a0d45d1bc4e36958": {
      "model_module": "@jupyter-widgets/controls",
      "model_module_version": "1.1.0",
      "model_name": "ButtonStyleModel",
      "state": {}
     },
     "9be5400ae11f4df280a22d357c7d8dde": {
      "model_module": "@jupyter-widgets/controls",
      "model_module_version": "1.1.0",
      "model_name": "HTMLModel",
      "state": {
       "layout": "IPY_MODEL_187ca2da185c48cd8396c48f75ac4eaf",
       "style": "IPY_MODEL_1fc06217b9474474ab88eb96e110cb72",
       "value": "<img src=\"data:image/gif;base64,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\"/>"
      }
     },
     "a1badee473d84e34b941b2c9f758497e": {
      "model_module": "@jupyter-widgets/controls",
      "model_module_version": "1.1.0",
      "model_name": "DescriptionStyleModel",
      "state": {
       "description_width": "initial"
      }
     },
     "a528fe0f71264a5a96bdb4c65e9ee777": {
      "model_module": "@jupyter-widgets/base",
      "model_module_version": "1.0.0",
      "model_name": "LayoutModel",
      "state": {
       "width": "100%"
      }
     },
     "adde82d52fef48b5870b3966a2401a13": {
      "model_module": "@jupyter-widgets/controls",
      "model_module_version": "1.1.0",
      "model_name": "ButtonModel",
      "state": {
       "description": "Play",
       "icon": "play",
       "layout": "IPY_MODEL_705fd9c4bc8e41fe9efe90be5711d1af",
       "style": "IPY_MODEL_6f31104f50c74f428b95d3f2afc9cee7"
      }
     },
     "af765efc36444d1a83f795dce70759ca": {
      "model_module": "@jupyter-widgets/controls",
      "model_module_version": "1.1.0",
      "model_name": "HBoxModel",
      "state": {
       "children": [
        "IPY_MODEL_c8ca60c826ea46f2baa7fc2e2c4e61c4",
        "IPY_MODEL_ca38c8c68b444c9097213485ef6dda23"
       ],
       "layout": "IPY_MODEL_0cca1cfa7b60414780471f0f4a6d5928"
      }
     },
     "b1759105ed0e4029ad8b4b853649b20a": {
      "model_module": "@jupyter-widgets/controls",
      "model_module_version": "1.1.0",
      "model_name": "HBoxModel",
      "state": {
       "children": [
        "IPY_MODEL_1dd255503b57462b81cfb7c78003a688",
        "IPY_MODEL_733ce58e1f1e44bf814c6651058c7195"
       ],
       "layout": "IPY_MODEL_0741e46b9b0f4bf5844bd3d85c4232d9"
      }
     },
     "b36f0ddf249b43749b2bc484734a1797": {
      "model_module": "@jupyter-widgets/controls",
      "model_module_version": "1.1.0",
      "model_name": "IntTextModel",
      "state": {
       "description": "Feature columns:",
       "layout": "IPY_MODEL_c71d3120be1a46b6be38508bfc832385",
       "step": 1,
       "style": "IPY_MODEL_1a3cf9f38b1d4d11a9f75692b93fc318",
       "value": 3
      }
     },
     "c263abd70a4d48c4bcfb66f823a490a2": {
      "model_module": "@jupyter-widgets/base",
      "model_module_version": "1.0.0",
      "model_name": "LayoutModel",
      "state": {}
     },
     "c2657c5043af450787a756d5ff70a797": {
      "model_module": "@jupyter-widgets/controls",
      "model_module_version": "1.1.0",
      "model_name": "ButtonModel",
      "state": {
       "icon": "forward",
       "layout": "IPY_MODEL_a528fe0f71264a5a96bdb4c65e9ee777",
       "style": "IPY_MODEL_df4d3667610c4c2c9673115f2a3802e6"
      }
     },
     "c65cae16013b437aa57b924afe681ef4": {
      "model_module": "@jupyter-widgets/controls",
      "model_module_version": "1.1.0",
      "model_name": "DescriptionStyleModel",
      "state": {
       "description_width": ""
      }
     },
     "c70bdb047b4f4f8d88e5c7f1ee0ea5ea": {
      "model_module": "@jupyter-widgets/controls",
      "model_module_version": "1.1.0",
      "model_name": "DescriptionStyleModel",
      "state": {
       "description_width": ""
      }
     },
     "c71d3120be1a46b6be38508bfc832385": {
      "model_module": "@jupyter-widgets/base",
      "model_module_version": "1.0.0",
      "model_name": "LayoutModel",
      "state": {}
     },
     "c896b0d8bfac44ee9db8a93e0d532a73": {
      "model_module": "@jupyter-widgets/controls",
      "model_module_version": "1.1.0",
      "model_name": "DescriptionStyleModel",
      "state": {
       "description_width": "initial"
      }
     },
     "c8ca60c826ea46f2baa7fc2e2c4e61c4": {
      "model_module": "@jupyter-widgets/controls",
      "model_module_version": "1.1.0",
      "model_name": "CheckboxModel",
      "state": {
       "description": "Show Targets",
       "disabled": false,
       "layout": "IPY_MODEL_fbb8a16d0747495e99f5bfc2808109ff",
       "style": "IPY_MODEL_c896b0d8bfac44ee9db8a93e0d532a73",
       "value": false
      }
     },
     "c9fdaf2f01a5424cb0bcf548fcd5fba0": {
      "model_module": "@jupyter-widgets/controls",
      "model_module_version": "1.1.0",
      "model_name": "DescriptionStyleModel",
      "state": {
       "description_width": "initial"
      }
     },
     "ca36085589ea4aae83167a05606f2ee9": {
      "model_module": "@jupyter-widgets/controls",
      "model_module_version": "1.1.0",
      "model_name": "DescriptionStyleModel",
      "state": {
       "description_width": ""
      }
     },
     "ca38c8c68b444c9097213485ef6dda23": {
      "model_module": "@jupyter-widgets/controls",
      "model_module_version": "1.1.0",
      "model_name": "CheckboxModel",
      "state": {
       "description": "Errors",
       "disabled": false,
       "layout": "IPY_MODEL_fbb8a16d0747495e99f5bfc2808109ff",
       "style": "IPY_MODEL_3432f3b78cfb4f89a48ed6a2baf5db45",
       "value": false
      }
     },
     "cdd164f9e1e345edb568290864583612": {
      "model_module": "@jupyter-widgets/base",
      "model_module_version": "1.0.0",
      "model_name": "LayoutModel",
      "state": {
       "width": "100px"
      }
     },
     "d301fe44fae94261be077dffdad67bd4": {
      "model_module": "@jupyter-widgets/base",
      "model_module_version": "1.0.0",
      "model_name": "LayoutModel",
      "state": {}
     },
     "d920c397643e496cb085df4e13aa21d7": {
      "model_module": "@jupyter-widgets/controls",
      "model_module_version": "1.1.0",
      "model_name": "SelectModel",
      "state": {
       "_options_labels": [
        "main_input",
        "conv2d-1",
        "batch-norm-1",
        "leaky-relu-1",
        "conv2d-2",
        "batch-norm-2",
        "leaky-relu-2",
        "conv2d-3",
        "batch-norm-3",
        "add-1",
        "leaky-relu-3",
        "conv2d-4",
        "batch-norm-4",
        "leaky-relu-4",
        "conv2d-5",
        "batch-norm-5",
        "add-2",
        "leaky-relu-5",
        "conv2d-6",
        "batch-norm-6",
        "leaky-relu-6",
        "conv2d-7",
        "batch-norm-7",
        "add-3",
        "leaky-relu-7",
        "conv2d-8",
        "batch-norm-8",
        "leaky-relu-8",
        "conv2d-9",
        "batch-norm-9",
        "add-4",
        "leaky-relu-9",
        "conv2d-10",
        "batch-norm-10",
        "leaky-relu-10",
        "conv2d-11",
        "batch-norm-11",
        "add-5",
        "leaky-relu-11",
        "conv2d-12",
        "batch-norm-12",
        "leaky-relu-12",
        "flatten-1",
        "policy_head",
        "conv2d-13",
        "batch-norm-13",
        "leaky-relu-13",
        "flatten-2",
        "dense-1",
        "leaky-relu-14",
        "value_head"
       ],
       "description": "Layer:",
       "index": 50,
       "layout": "IPY_MODEL_1dfa04d6b8a84c56887183f68e4335fd",
       "rows": 1,
       "style": "IPY_MODEL_41c3c7e072f04c6abf41f9133fc592fc"
      }
     },
     "d9da6ff4050f4edb99e198d819516bda": {
      "model_module": "@jupyter-widgets/controls",
      "model_module_version": "1.1.0",
      "model_name": "SliderStyleModel",
      "state": {
       "description_width": ""
      }
     },
     "dba1ab8cf7604081977cb1904bbd6e03": {
      "model_module": "@jupyter-widgets/output",
      "model_module_version": "1.0.0",
      "model_name": "OutputModel",
      "state": {
       "layout": "IPY_MODEL_d301fe44fae94261be077dffdad67bd4"
      }
     },
     "df4d3667610c4c2c9673115f2a3802e6": {
      "model_module": "@jupyter-widgets/controls",
      "model_module_version": "1.1.0",
      "model_name": "ButtonStyleModel",
      "state": {}
     },
     "eff0474a98d94315b818f72b70906a8e": {
      "model_module": "@jupyter-widgets/base",
      "model_module_version": "1.0.0",
      "model_name": "LayoutModel",
      "state": {}
     },
     "f0f23f5f0b31443ca2fa8bc3fadaa94c": {
      "model_module": "@jupyter-widgets/base",
      "model_module_version": "1.0.0",
      "model_name": "LayoutModel",
      "state": {}
     },
     "fbb8a16d0747495e99f5bfc2808109ff": {
      "model_module": "@jupyter-widgets/base",
      "model_module_version": "1.0.0",
      "model_name": "LayoutModel",
      "state": {}
     },
     "fd93bee2d6344272b7af327ceedbe041": {
      "model_module": "@jupyter-widgets/base",
      "model_module_version": "1.0.0",
      "model_name": "LayoutModel",
      "state": {}
     }
    },
    "version_major": 2,
    "version_minor": 0
   }
  }
 },
 "nbformat": 4,
 "nbformat_minor": 2
}
