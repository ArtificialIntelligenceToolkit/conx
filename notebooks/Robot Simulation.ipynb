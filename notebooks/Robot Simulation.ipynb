{
 "cells": [
  {
   "cell_type": "markdown",
   "metadata": {},
   "source": [
    "# Robot Simulation"
   ]
  },
  {
   "cell_type": "code",
   "execution_count": 7,
   "metadata": {
    "collapsed": true
   },
   "outputs": [],
   "source": [
    "from jyro.simulator import (Robot, Pioneer, Pioneer16Sonars, \n",
    "                            PioneerFrontLightSensors, Camera,\n",
    "                            VSimulator)\n",
    "import random\n",
    "import numpy as np"
   ]
  },
  {
   "cell_type": "code",
   "execution_count": 8,
   "metadata": {
    "collapsed": true
   },
   "outputs": [],
   "source": [
    "robot = Pioneer(\"Pioneer\", 3.5, 2, 0)"
   ]
  },
  {
   "cell_type": "code",
   "execution_count": 9,
   "metadata": {},
   "outputs": [
    {
     "data": {
      "image/svg+xml": [
       "<svg baseProfile=\"full\" height=\"240\" version=\"1.1\" width=\"240\" xmlns=\"http://www.w3.org/2000/svg\" xmlns:ev=\"http://www.w3.org/2001/xml-events\" xmlns:xlink=\"http://www.w3.org/1999/xlink\"><defs /><line fill=\"#800080\" stroke=\"#d3d3d3\" stroke-width=\"1\" x1=\"78.0\" x2=\"-1842.0\" y1=\"96.0\" y2=\"95.9999999999999\" /><line fill=\"#800080\" stroke=\"#d3d3d3\" stroke-width=\"1\" x1=\"84.0\" x2=\"-1656.110951110368\" y1=\"79.19999999999999\" y2=\"-732.227062542143\" /><line fill=\"#800080\" stroke=\"#d3d3d3\" stroke-width=\"1\" x1=\"93.60000000000001\" x2=\"-1140.5522105981554\" y1=\"72.00000000000001\" y2=\"-1398.805330788438\" /><line fill=\"#800080\" stroke=\"#d3d3d3\" stroke-width=\"1\" x1=\"108.0\" x2=\"-388.9325665968398\" y1=\"66.0\" y2=\"-1788.5775864750112\" /><line fill=\"#800080\" stroke=\"#d3d3d3\" stroke-width=\"1\" x1=\"132.0\" x2=\"628.9325665968398\" y1=\"66.0\" y2=\"-1788.5775864750112\" /><line fill=\"#800080\" stroke=\"#d3d3d3\" stroke-width=\"1\" x1=\"146.4\" x2=\"1380.5522105981554\" y1=\"72.00000000000001\" y2=\"-1398.805330788438\" /><line fill=\"#800080\" stroke=\"#d3d3d3\" stroke-width=\"1\" x1=\"156.0\" x2=\"1896.110951110368\" y1=\"79.19999999999999\" y2=\"-732.227062542143\" /><line fill=\"#800080\" stroke=\"#d3d3d3\" stroke-width=\"1\" x1=\"162.0\" x2=\"2082.0\" y1=\"96.0\" y2=\"95.9999999999999\" /><line fill=\"#800080\" stroke=\"#d3d3d3\" stroke-width=\"1\" x1=\"162.0\" x2=\"2082.0\" y1=\"144.00000000000003\" y2=\"143.9999999999999\" /><line fill=\"#800080\" stroke=\"#d3d3d3\" stroke-width=\"1\" x1=\"156.0\" x2=\"1896.1109511103682\" y1=\"160.8\" y2=\"972.2270625421423\" /><line fill=\"#800080\" stroke=\"#d3d3d3\" stroke-width=\"1\" x1=\"146.4\" x2=\"1380.5522105981554\" y1=\"168.0\" y2=\"1638.805330788438\" /><line fill=\"#800080\" stroke=\"#d3d3d3\" stroke-width=\"1\" x1=\"132.0\" x2=\"628.9325665968399\" y1=\"174.0\" y2=\"2028.5775864750112\" /><line fill=\"#800080\" stroke=\"#d3d3d3\" stroke-width=\"1\" x1=\"107.99999999999999\" x2=\"-388.9325665968404\" y1=\"174.0\" y2=\"2028.5775864750108\" /><line fill=\"#800080\" stroke=\"#d3d3d3\" stroke-width=\"1\" x1=\"93.60000000000001\" x2=\"-1140.5522105981559\" y1=\"168.0\" y2=\"1638.8053307884377\" /><line fill=\"#800080\" stroke=\"#d3d3d3\" stroke-width=\"1\" x1=\"84.0\" x2=\"-1656.1109511103682\" y1=\"160.8\" y2=\"972.2270625421426\" /><line fill=\"#800080\" stroke=\"#d3d3d3\" stroke-width=\"1\" x1=\"78.0\" x2=\"-1842.0\" y1=\"144.0\" y2=\"143.99999999999986\" /><polygon fill=\"red\" points=\"100.8,66.0 78.0,84.0 78.0,156.0 100.8,174.0 139.2,174.0 162.0,156.0 162.0,84.0 139.2,66.0\" stroke=\"red\" stroke-width=\"1\" /><polygon points=\"-12.0,-12.0 0,0 12.0,-12.0 0,12.0\" stroke=\"black\" stroke-width=\"1\" transform=\"translate(120.0,120.0) rotate(180.0)\" /><polygon fill=\"black\" points=\"134.4,86.39999999999999 134.4,105.6 105.6,105.6 105.6,86.39999999999999\" stroke=\"black\" stroke-width=\"1\" /><circle cx=\"78.0\" cy=\"66.0\" fill=\"yellow\" r=\"6.0\" stroke=\"orange\" stroke-width=\"1\" /><circle cx=\"162.0\" cy=\"66.0\" fill=\"yellow\" r=\"6.0\" stroke=\"orange\" stroke-width=\"1\" /></svg>"
      ],
      "text/plain": [
       "<jyro.simulator.robot.Pioneer at 0x7fe6f5be0c50>"
      ]
     },
     "execution_count": 9,
     "metadata": {},
     "output_type": "execute_result"
    }
   ],
   "source": [
    "robot.addDevice(Pioneer16Sonars())\n",
    "robot.addDevice(Camera())\n",
    "light_sensors = PioneerFrontLightSensors(3.0)\n",
    "light_sensors.lightMode = 'ambient'\n",
    "robot.addDevice(light_sensors)"
   ]
  },
  {
   "cell_type": "code",
   "execution_count": 10,
   "metadata": {
    "collapsed": true
   },
   "outputs": [],
   "source": [
    "def worldf(physics):\n",
    "    physics.addBox(0, 0, 4, 4, fill=\"backgroundgreen\", wallcolor=\"gray\")\n",
    "    physics.addLight(2, 0.75, 1.0) # increased brightness for new linear version of lights"
   ]
  },
  {
   "cell_type": "code",
   "execution_count": 11,
   "metadata": {},
   "outputs": [
    {
     "data": {
      "application/vnd.jupyter.widget-view+json": {
       "model_id": "f04777e3320d4d8a9081a1c431162fd6"
      }
     },
     "metadata": {},
     "output_type": "display_data"
    }
   ],
   "source": [
    "sim = VSimulator(robot, worldf)"
   ]
  },
  {
   "cell_type": "code",
   "execution_count": 12,
   "metadata": {
    "collapsed": true
   },
   "outputs": [],
   "source": [
    "camera = robot.device[\"camera\"]"
   ]
  },
  {
   "cell_type": "code",
   "execution_count": 13,
   "metadata": {},
   "outputs": [
    {
     "data": {
      "image/png": "[encoded data removed]",
      "text/plain": [
       "<PIL.Image.Image image mode=RGB size=60x40 at 0x7FE6F2138438>"
      ]
     },
     "execution_count": 13,
     "metadata": {},
     "output_type": "execute_result"
    }
   ],
   "source": [
    "image = camera.getImage()\n",
    "image"
   ]
  },
  {
   "cell_type": "code",
   "execution_count": 14,
   "metadata": {},
   "outputs": [
    {
     "data": {
      "text/plain": [
       "(60, 40)"
      ]
     },
     "execution_count": 14,
     "metadata": {},
     "output_type": "execute_result"
    }
   ],
   "source": [
    "image.size"
   ]
  },
  {
   "cell_type": "code",
   "execution_count": 15,
   "metadata": {},
   "outputs": [
    {
     "data": {
      "text/plain": [
       "(40, 60, 3)"
      ]
     },
     "execution_count": 15,
     "metadata": {},
     "output_type": "execute_result"
    }
   ],
   "source": [
    "data = camera.getData()\n",
    "data.shape"
   ]
  },
  {
   "cell_type": "code",
   "execution_count": 16,
   "metadata": {
    "collapsed": true
   },
   "outputs": [],
   "source": [
    "robot.move(0.50, 0.35)"
   ]
  },
  {
   "cell_type": "code",
   "execution_count": 17,
   "metadata": {
    "collapsed": true
   },
   "outputs": [],
   "source": [
    "sim.step()"
   ]
  },
  {
   "cell_type": "code",
   "execution_count": 18,
   "metadata": {
    "collapsed": true
   },
   "outputs": [],
   "source": [
    "def random_action():\n",
    "    \"\"\"Generate a random action from a limited set of possible settings\"\"\"\n",
    "    possible = [-1.0, -0.5, 0.0, 0.5, 1.0]\n",
    "    return [random.choice(possible), random.choice(possible)]\n",
    "\n",
    "def get_senses(robot):\n",
    "    light = robot[\"light\"].getData()\n",
    "    sonar = [v/3.0 for v in robot[\"sonar\"].getData()]\n",
    "    camera = robot[\"camera\"].getData()\n",
    "    return [light, sonar, camera]"
   ]
  },
  {
   "cell_type": "code",
   "execution_count": 19,
   "metadata": {},
   "outputs": [
    {
     "data": {
      "text/plain": [
       "[2, 16, 40]"
      ]
     },
     "execution_count": 19,
     "metadata": {},
     "output_type": "execute_result"
    }
   ],
   "source": [
    "senses = get_senses(robot)\n",
    "list(map(len, senses))"
   ]
  },
  {
   "cell_type": "code",
   "execution_count": 20,
   "metadata": {
    "collapsed": true
   },
   "outputs": [],
   "source": [
    "def brain(robot):\n",
    "    senses = get_senses(robot)\n",
    "    net.propagate(senses)\n",
    "    translate, rotate = random_action()\n",
    "    #self.move(translate, rotate)\n",
    "    robot.move(0.50, 0.35)"
   ]
  },
  {
   "cell_type": "code",
   "execution_count": 21,
   "metadata": {
    "collapsed": true
   },
   "outputs": [],
   "source": [
    "robot.brain = brain"
   ]
  },
  {
   "cell_type": "code",
   "execution_count": 22,
   "metadata": {},
   "outputs": [],
   "source": [
    "from conx import Network, Layer, FlattenLayer, SGD, ImageLayer, Conv2DTransposeLayer\n",
    "import numpy as np"
   ]
  },
  {
   "cell_type": "code",
   "execution_count": 53,
   "metadata": {},
   "outputs": [],
   "source": [
    "net = Network(\"Robot Prediction Network\")\n",
    "net.add(Layer(\"light\", 2))\n",
    "net.add(Layer(\"sonar\", 16))\n",
    "net.add(ImageLayer(\"camera\", (40, 60), 3))\n",
    "net.add(FlattenLayer(\"flatten\"))\n",
    "net.add(Conv2DTransposeLayer(\"conv\", 16, (3,3)))\n",
    "net.add(Layer(\"hidden\", 50, activation=\"relu\"))\n",
    "net.add(Layer(\"output1\", 2, activation=\"sigmoid\"))\n",
    "net.add(Layer(\"hidden2\", 5, activation=\"sigmoid\"))\n",
    "net.add(Layer(\"hidden3\", 10, activation=\"sigmoid\"))\n",
    "net.add(Layer(\"hidden4\", 10, activation=\"sigmoid\"))\n",
    "net.add(Layer(\"output2\", 5, activation=\"sigmoid\"))"
   ]
  },
  {
   "cell_type": "code",
   "execution_count": 54,
   "metadata": {},
   "outputs": [],
   "source": [
    "net.connect(\"sonar\", \"hidden2\")\n",
    "net.connect(\"light\", \"hidden\")\n",
    "net.connect(\"camera\", \"conv\")\n",
    "net.connect(\"conv\", \"flatten\")\n",
    "net.connect(\"flatten\", \"hidden2\")\n",
    "net.connect(\"hidden\", \"hidden2\")\n",
    "net.connect(\"hidden2\", \"hidden3\")\n",
    "##net.connect(\"hidden2\", \"output2\")\n",
    "net.connect(\"hidden3\", \"output2\")\n",
    "net.connect(\"hidden3\", \"hidden4\")\n",
    "net.connect(\"hidden4\", \"output1\")"
   ]
  },
  {
   "cell_type": "code",
   "execution_count": 55,
   "metadata": {},
   "outputs": [],
   "source": [
    "net.compile(optimizer=\"adam\", error=\"mse\")\n",
    "net.config[\"hspace\"] = 200"
   ]
  },
  {
   "cell_type": "code",
   "execution_count": 56,
   "metadata": {},
   "outputs": [
    {
     "data": {
      "application/javascript": [
       "\n",
       "require(['base/js/namespace'], function(Jupyter) {\n",
       "    Jupyter.notebook.kernel.comm_manager.register_target('conx_svg_control', function(comm, msg) {\n",
       "        comm.on_msg(function(msg) {\n",
       "            var data = msg[\"content\"][\"data\"];\n",
       "            var images = document.getElementsByClassName(data[\"class\"]);\n",
       "            for (var i = 0; i < images.length; i++) {\n",
       "                images[i].setAttributeNS(null, \"href\", data[\"href\"]);\n",
       "            }\n",
       "        });\n",
       "    });\n",
       "});\n"
      ],
      "text/plain": [
       "<IPython.core.display.Javascript object>"
      ]
     },
     "metadata": {},
     "output_type": "display_data"
    },
    {
     "data": {
      "image/svg+xml": [
       "\n",
       "        <svg id='Robot Prediction Network' xmlns='http://www.w3.org/2000/svg' width=\"1100\" height=\"668\" image-rendering=\"pixelated\">\n",
       "    <defs>\n",
       "        <marker id=\"arrow\" markerWidth=\"10\" markerHeight=\"10\" refX=\"9\" refY=\"3\" orient=\"auto\" markerUnits=\"strokeWidth\">\n",
       "          <path d=\"M0,0 L0,6 L9,3 z\" fill=\"black\" />\n",
       "        </marker>\n",
       "    </defs>\n",
       "<text x=\"550.0\" y=\"12.5\" font-family=\"monospace\" font-size=\"15\" text-anchor=\"middle\" alignment-baseline=\"central\">Robot Prediction Network</text><rect x=\"315.6666666666667\" y=\"29\" width=\"102\" height=\"52\" style=\"fill:none;stroke:black;stroke-width:2\"/><image id=\"Robot Prediction Network_output1_1\" class=\"Robot Prediction Network_output1\" x=\"316.6666666666667\" y=\"30\" height=\"50\" width=\"100\" preserveAspectRatio=\"none\" href=\"data:image/gif;base64,R0lGODdhAgABAIcAAK+vr/nFqwAAAAAAAAAAAAAAAAAAAAAAAAAAAAAAAAAAAAAAAAAAAAAAAAAAAAAAAAAAAAAAAAAAAAAAAAAAAAAAAAAAAAAAAAAAAAAAAAAAAAAAAAAAAAAAAAAAAAAAAAAAAAAAAAAAAAAAAAAAAAAAAAAAAAAAAAAAAAAAAAAAAAAAAAAAAAAAAAAAAAAAAAAAAAAAAAAAAAAAAAAAAAAAAAAAAAAAAAAAAAAAAAAAAAAAAAAAAAAAAAAAAAAAAAAAAAAAAAAAAAAAAAAAAAAAAAAAAAAAAAAAAAAAAAAAAAAAAAAAAAAAAAAAAAAAAAAAAAAAAAAAAAAAAAAAAAAAAAAAAAAAAAAAAAAAAAAAAAAAAAAAAAAAAAAAAAAAAAAAAAAAAAAAAAAAAAAAAAAAAAAAAAAAAAAAAAAAAAAAAAAAAAAAAAAAAAAAAAAAAAAAAAAAAAAAAAAAAAAAAAAAAAAAAAAAAAAAAAAAAAAAAAAAAAAAAAAAAAAAAAAAAAAAAAAAAAAAAAAAAAAAAAAAAAAAAAAAAAAAAAAAAAAAAAAAAAAAAAAAAAAAAAAAAAAAAAAAAAAAAAAAAAAAAAAAAAAAAAAAAAAAAAAAAAAAAAAAAAAAAAAAAAAAAAAAAAAAAAAAAAAAAAAAAAAAAAAAAAAAAAAAAAAAAAAAAAAAAAAAAAAAAAAAAAAAAAAAAAAAAAAAAAAAAAAAAAAAAAAAAAAAAAAAAAAAAAAAAAAAAAAAAAAAAAAAAAAAAAAAAAAAAAAAAAAAAAAAAAAAAAAAAAAAAAAAAAAAAAAAAAAAAAAAAAAAAAAAAAAAAAAAAAAAAAAAAAAAAAAAAAAAAAAAAAAAAAAAAAAAAAAAAAAAAAAAAAAAAAAAAAAAAAAAAAAAAAAAAAAAAAAAAAAAAAAAAAAAAAAAAAAAAAAAAAAAAAAAAAAAAAAAAAAAAAAAAAAAAAAAAAAAAAAAAAAAAAAAAAAAAAAAAAAAAAAAAAAAAAAAAAAAAAAAAAAAAAAAACwAAAAAAgABAAAIBQABBAgIADs=\"><title>Layer: output1 (output)\n",
       " shape = (2,)\n",
       " Keras class = Dense\n",
       " activation = sigmoid</title></image><text x=\"421.6666666666667\" y=\"57.0\" font-family=\"monospace\" font-size=\"12\" text-anchor=\"start\" alignment-baseline=\"central\">output1</text><rect x=\"632.3333333333334\" y=\"29\" width=\"202\" height=\"42\" style=\"fill:none;stroke:black;stroke-width:2\"/><image id=\"Robot Prediction Network_output2_2\" class=\"Robot Prediction Network_output2\" x=\"633.3333333333334\" y=\"30\" height=\"40\" width=\"200\" preserveAspectRatio=\"none\" href=\"data:image/gif;base64,R0lGODdhBQABAIcAAN7e3vSmg/zYxP3m2Pn5+QAAAAAAAAAAAAAAAAAAAAAAAAAAAAAAAAAAAAAAAAAAAAAAAAAAAAAAAAAAAAAAAAAAAAAAAAAAAAAAAAAAAAAAAAAAAAAAAAAAAAAAAAAAAAAAAAAAAAAAAAAAAAAAAAAAAAAAAAAAAAAAAAAAAAAAAAAAAAAAAAAAAAAAAAAAAAAAAAAAAAAAAAAAAAAAAAAAAAAAAAAAAAAAAAAAAAAAAAAAAAAAAAAAAAAAAAAAAAAAAAAAAAAAAAAAAAAAAAAAAAAAAAAAAAAAAAAAAAAAAAAAAAAAAAAAAAAAAAAAAAAAAAAAAAAAAAAAAAAAAAAAAAAAAAAAAAAAAAAAAAAAAAAAAAAAAAAAAAAAAAAAAAAAAAAAAAAAAAAAAAAAAAAAAAAAAAAAAAAAAAAAAAAAAAAAAAAAAAAAAAAAAAAAAAAAAAAAAAAAAAAAAAAAAAAAAAAAAAAAAAAAAAAAAAAAAAAAAAAAAAAAAAAAAAAAAAAAAAAAAAAAAAAAAAAAAAAAAAAAAAAAAAAAAAAAAAAAAAAAAAAAAAAAAAAAAAAAAAAAAAAAAAAAAAAAAAAAAAAAAAAAAAAAAAAAAAAAAAAAAAAAAAAAAAAAAAAAAAAAAAAAAAAAAAAAAAAAAAAAAAAAAAAAAAAAAAAAAAAAAAAAAAAAAAAAAAAAAAAAAAAAAAAAAAAAAAAAAAAAAAAAAAAAAAAAAAAAAAAAAAAAAAAAAAAAAAAAAAAAAAAAAAAAAAAAAAAAAAAAAAAAAAAAAAAAAAAAAAAAAAAAAAAAAAAAAAAAAAAAAAAAAAAAAAAAAAAAAAAAAAAAAAAAAAAAAAAAAAAAAAAAAAAAAAAAAAAAAAAAAAAAAAAAAAAAAAAAAAAAAAAAAAAAAAAAAAAAAAAAAAAAAAAAAAAAAAAAAAAAAAAAAAAAAAAAAAAAAAAAAAAAAAAAAAAAAAAAAAAAAAAAAAAAAAAAAAAAAAAAAAAAAAAAAAAAAAAAAAAAAAAAACwAAAAABQABAAAICAAFABgQgEBAADs=\"><title>Layer: output2 (output)\n",
       " shape = (5,)\n",
       " Keras class = Dense\n",
       " activation = sigmoid</title></image><text x=\"838.3333333333334\" y=\"52.0\" font-family=\"monospace\" font-size=\"12\" text-anchor=\"start\" alignment-baseline=\"central\">output2</text><line x1=\"366.6666666666667\" y1=\"109\" x2=\"366.6666666666667\" y2=\"82\" stroke=\"black\" stroke-width=\"2\" marker-end=\"url(#arrow)\"><title>Weights from hidden4 to output1\n",
       " output1/kernel has shape (10, 2)\n",
       " output1/bias has shape (2,)</title></line><rect x=\"265.6666666666667\" y=\"109\" width=\"202\" height=\"27\" style=\"fill:none;stroke:black;stroke-width:2\"/><image id=\"Robot Prediction Network_hidden4_3\" class=\"Robot Prediction Network_hidden4\" x=\"266.6666666666667\" y=\"110\" height=\"25\" width=\"200\" preserveAspectRatio=\"none\" href=\"data:image/gif;base64,R0lGODdhCgABAIcAAO3p5/r6+t7e3vrMtP3i0QAAAAAAAAAAAAAAAAAAAAAAAAAAAAAAAAAAAAAAAAAAAAAAAAAAAAAAAAAAAAAAAAAAAAAAAAAAAAAAAAAAAAAAAAAAAAAAAAAAAAAAAAAAAAAAAAAAAAAAAAAAAAAAAAAAAAAAAAAAAAAAAAAAAAAAAAAAAAAAAAAAAAAAAAAAAAAAAAAAAAAAAAAAAAAAAAAAAAAAAAAAAAAAAAAAAAAAAAAAAAAAAAAAAAAAAAAAAAAAAAAAAAAAAAAAAAAAAAAAAAAAAAAAAAAAAAAAAAAAAAAAAAAAAAAAAAAAAAAAAAAAAAAAAAAAAAAAAAAAAAAAAAAAAAAAAAAAAAAAAAAAAAAAAAAAAAAAAAAAAAAAAAAAAAAAAAAAAAAAAAAAAAAAAAAAAAAAAAAAAAAAAAAAAAAAAAAAAAAAAAAAAAAAAAAAAAAAAAAAAAAAAAAAAAAAAAAAAAAAAAAAAAAAAAAAAAAAAAAAAAAAAAAAAAAAAAAAAAAAAAAAAAAAAAAAAAAAAAAAAAAAAAAAAAAAAAAAAAAAAAAAAAAAAAAAAAAAAAAAAAAAAAAAAAAAAAAAAAAAAAAAAAAAAAAAAAAAAAAAAAAAAAAAAAAAAAAAAAAAAAAAAAAAAAAAAAAAAAAAAAAAAAAAAAAAAAAAAAAAAAAAAAAAAAAAAAAAAAAAAAAAAAAAAAAAAAAAAAAAAAAAAAAAAAAAAAAAAAAAAAAAAAAAAAAAAAAAAAAAAAAAAAAAAAAAAAAAAAAAAAAAAAAAAAAAAAAAAAAAAAAAAAAAAAAAAAAAAAAAAAAAAAAAAAAAAAAAAAAAAAAAAAAAAAAAAAAAAAAAAAAAAAAAAAAAAAAAAAAAAAAAAAAAAAAAAAAAAAAAAAAAAAAAAAAAAAAAAAAAAAAAAAAAAAAAAAAAAAAAAAAAAAAAAAAAAAAAAAAAAAAAAAAAAAAAAAAAAAAAAAAAAAAAAAAAAAAAAAAAAAAAAAAAAAAAAAAAAAAAAAAAACwAAAAACgABAAAIDgABEAAgYEAAAAACBAgIADs=\"><title>Layer: hidden4 (hidden)\n",
       " shape = (10,)\n",
       " Keras class = Dense\n",
       " activation = sigmoid</title></image><text x=\"471.6666666666667\" y=\"124.5\" font-family=\"monospace\" font-size=\"12\" text-anchor=\"start\" alignment-baseline=\"central\">hidden4</text><line x1=\"733.3333333333334\" y1=\"110\" x2=\"733.3333333333334\" y2=\"70\" stroke=\"black\" stroke-width=\"2\" marker-end=\"url(#arrow)\"><title>Weights from hidden4 to output1\n",
       " output1/kernel has shape (10, 2)\n",
       " output1/bias has shape (2,)</title></line><line x1=\"550.0\" y1=\"164\" x2=\"733.3333333333334\" y2=\"110\" stroke=\"black\" stroke-width=\"2\"><title>TODO</title></line><line x1=\"550.0\" y1=\"164\" x2=\"366.6666666666667\" y2=\"137\" stroke=\"black\" stroke-width=\"2\" marker-end=\"url(#arrow)\"><title>Weights from hidden3 to hidden4\n",
       " hidden4/kernel has shape (10, 10)\n",
       " hidden4/bias has shape (10,)</title></line><rect x=\"449.0\" y=\"164\" width=\"202\" height=\"27\" style=\"fill:none;stroke:black;stroke-width:2\"/><image id=\"Robot Prediction Network_hidden3_4\" class=\"Robot Prediction Network_hidden3\" x=\"450.0\" y=\"165\" height=\"25\" width=\"200\" preserveAspectRatio=\"none\" href=\"data:image/gif;base64,R0lGODdhCgABAIcAAP3ezObm5v718KOjo7Ozs97e3vnDqQAAAAAAAAAAAAAAAAAAAAAAAAAAAAAAAAAAAAAAAAAAAAAAAAAAAAAAAAAAAAAAAAAAAAAAAAAAAAAAAAAAAAAAAAAAAAAAAAAAAAAAAAAAAAAAAAAAAAAAAAAAAAAAAAAAAAAAAAAAAAAAAAAAAAAAAAAAAAAAAAAAAAAAAAAAAAAAAAAAAAAAAAAAAAAAAAAAAAAAAAAAAAAAAAAAAAAAAAAAAAAAAAAAAAAAAAAAAAAAAAAAAAAAAAAAAAAAAAAAAAAAAAAAAAAAAAAAAAAAAAAAAAAAAAAAAAAAAAAAAAAAAAAAAAAAAAAAAAAAAAAAAAAAAAAAAAAAAAAAAAAAAAAAAAAAAAAAAAAAAAAAAAAAAAAAAAAAAAAAAAAAAAAAAAAAAAAAAAAAAAAAAAAAAAAAAAAAAAAAAAAAAAAAAAAAAAAAAAAAAAAAAAAAAAAAAAAAAAAAAAAAAAAAAAAAAAAAAAAAAAAAAAAAAAAAAAAAAAAAAAAAAAAAAAAAAAAAAAAAAAAAAAAAAAAAAAAAAAAAAAAAAAAAAAAAAAAAAAAAAAAAAAAAAAAAAAAAAAAAAAAAAAAAAAAAAAAAAAAAAAAAAAAAAAAAAAAAAAAAAAAAAAAAAAAAAAAAAAAAAAAAAAAAAAAAAAAAAAAAAAAAAAAAAAAAAAAAAAAAAAAAAAAAAAAAAAAAAAAAAAAAAAAAAAAAAAAAAAAAAAAAAAAAAAAAAAAAAAAAAAAAAAAAAAAAAAAAAAAAAAAAAAAAAAAAAAAAAAAAAAAAAAAAAAAAAAAAAAAAAAAAAAAAAAAAAAAAAAAAAAAAAAAAAAAAAAAAAAAAAAAAAAAAAAAAAAAAAAAAAAAAAAAAAAAAAAAAAAAAAAAAAAAAAAAAAAAAAAAAAAAAAAAAAAAAAAAAAAAAAAAAAAAAAAAAAAAAAAAAAAAAAAAAAAAAAAAAAAAAAAAAAAAAAAAAAAAAAAAAAAAAAAAAAAAAAAAAACwAAAAACgABAAAIDgAHEBAAAICBAgICBAgIADs=\"><title>Layer: hidden3 (hidden)\n",
       " shape = (10,)\n",
       " Keras class = Dense\n",
       " activation = sigmoid</title></image><text x=\"655.0\" y=\"179.5\" font-family=\"monospace\" font-size=\"12\" text-anchor=\"start\" alignment-baseline=\"central\">hidden3</text><line x1=\"550.0\" y1=\"219\" x2=\"550.0\" y2=\"192\" stroke=\"black\" stroke-width=\"2\" marker-end=\"url(#arrow)\"><title>Weights from hidden2 to hidden3\n",
       " hidden3/kernel has shape (5, 10)\n",
       " hidden3/bias has shape (10,)</title></line><rect x=\"449.0\" y=\"219\" width=\"202\" height=\"42\" style=\"fill:none;stroke:black;stroke-width:2\"/><image id=\"Robot Prediction Network_hidden2_5\" class=\"Robot Prediction Network_hidden2\" x=\"450.0\" y=\"220\" height=\"40\" width=\"200\" preserveAspectRatio=\"none\" href=\"data:image/gif;base64,R0lGODdhBQABAIcAAP7+/QAAAAAAAAAAAAAAAAAAAAAAAAAAAAAAAAAAAAAAAAAAAAAAAAAAAAAAAAAAAAAAAAAAAAAAAAAAAAAAAAAAAAAAAAAAAAAAAAAAAAAAAAAAAAAAAAAAAAAAAAAAAAAAAAAAAAAAAAAAAAAAAAAAAAAAAAAAAAAAAAAAAAAAAAAAAAAAAAAAAAAAAAAAAAAAAAAAAAAAAAAAAAAAAAAAAAAAAAAAAAAAAAAAAAAAAAAAAAAAAAAAAAAAAAAAAAAAAAAAAAAAAAAAAAAAAAAAAAAAAAAAAAAAAAAAAAAAAAAAAAAAAAAAAAAAAAAAAAAAAAAAAAAAAAAAAAAAAAAAAAAAAAAAAAAAAAAAAAAAAAAAAAAAAAAAAAAAAAAAAAAAAAAAAAAAAAAAAAAAAAAAAAAAAAAAAAAAAAAAAAAAAAAAAAAAAAAAAAAAAAAAAAAAAAAAAAAAAAAAAAAAAAAAAAAAAAAAAAAAAAAAAAAAAAAAAAAAAAAAAAAAAAAAAAAAAAAAAAAAAAAAAAAAAAAAAAAAAAAAAAAAAAAAAAAAAAAAAAAAAAAAAAAAAAAAAAAAAAAAAAAAAAAAAAAAAAAAAAAAAAAAAAAAAAAAAAAAAAAAAAAAAAAAAAAAAAAAAAAAAAAAAAAAAAAAAAAAAAAAAAAAAAAAAAAAAAAAAAAAAAAAAAAAAAAAAAAAAAAAAAAAAAAAAAAAAAAAAAAAAAAAAAAAAAAAAAAAAAAAAAAAAAAAAAAAAAAAAAAAAAAAAAAAAAAAAAAAAAAAAAAAAAAAAAAAAAAAAAAAAAAAAAAAAAAAAAAAAAAAAAAAAAAAAAAAAAAAAAAAAAAAAAAAAAAAAAAAAAAAAAAAAAAAAAAAAAAAAAAAAAAAAAAAAAAAAAAAAAAAAAAAAAAAAAAAAAAAAAAAAAAAAAAAAAAAAAAAAAAAAAAAAAAAAAAAAAAAAAAAAAAAAAAAAAAAAAAAAAAAAAAAAAAAAAAAAAAAAAAAAAAAAAAAAAAAAAAAAAAAACwAAAAABQABAAAIBgABCBQYEAA7\"><title>Layer: hidden2 (hidden)\n",
       " shape = (5,)\n",
       " Keras class = Dense\n",
       " activation = sigmoid</title></image><text x=\"655.0\" y=\"242.0\" font-family=\"monospace\" font-size=\"12\" text-anchor=\"start\" alignment-baseline=\"central\">hidden2</text><line x1=\"366.6666666666667\" y1=\"290\" x2=\"550.0\" y2=\"260\" stroke=\"black\" stroke-width=\"2\" marker-end=\"url(#arrow)\"><title>Weights from hidden2 to hidden3\n",
       " hidden3/kernel has shape (5, 10)\n",
       " hidden3/bias has shape (10,)</title></line><line x1=\"733.3333333333334\" y1=\"289\" x2=\"550.0\" y2=\"262\" stroke=\"black\" stroke-width=\"2\" marker-end=\"url(#arrow)\"><title>Weights from flatten to hidden2\n",
       " hidden2/kernel has shape (41730, 5)\n",
       " hidden2/bias has shape (5,)</title></line><rect x=\"632.3333333333334\" y=\"289\" width=\"202\" height=\"27\" style=\"fill:none;stroke:black;stroke-width:2\"/><image id=\"Robot Prediction Network_flatten_6\" class=\"Robot Prediction Network_flatten\" x=\"633.3333333333334\" y=\"290\" height=\"25\" width=\"200\" preserveAspectRatio=\"none\" href=\"data:image/gif;base64,R0lGODdhwKIBAIcAAP7+/QAAAAAAAAAAAAAAAAAAAAAAAAAAAAAAAAAAAAAAAAAAAAAAAAAAAAAAAAAAAAAAAAAAAAAAAAAAAAAAAAAAAAAAAAAAAAAAAAAAAAAAAAAAAAAAAAAAAAAAAAAAAAAAAAAAAAAAAAAAAAAAAAAAAAAAAAAAAAAAAAAAAAAAAAAAAAAAAAAAAAAAAAAAAAAAAAAAAAAAAAAAAAAAAAAAAAAAAAAAAAAAAAAAAAAAAAAAAAAAAAAAAAAAAAAAAAAAAAAAAAAAAAAAAAAAAAAAAAAAAAAAAAAAAAAAAAAAAAAAAAAAAAAAAAAAAAAAAAAAAAAAAAAAAAAAAAAAAAAAAAAAAAAAAAAAAAAAAAAAAAAAAAAAAAAAAAAAAAAAAAAAAAAAAAAAAAAAAAAAAAAAAAAAAAAAAAAAAAAAAAAAAAAAAAAAAAAAAAAAAAAAAAAAAAAAAAAAAAAAAAAAAAAAAAAAAAAAAAAAAAAAAAAAAAAAAAAAAAAAAAAAAAAAAAAAAAAAAAAAAAAAAAAAAAAAAAAAAAAAAAAAAAAAAAAAAAAAAAAAAAAAAAAAAAAAAAAAAAAAAAAAAAAAAAAAAAAAAAAAAAAAAAAAAAAAAAAAAAAAAAAAAAAAAAAAAAAAAAAAAAAAAAAAAAAAAAAAAAAAAAAAAAAAAAAAAAAAAAAAAAAAAAAAAAAAAAAAAAAAAAAAAAAAAAAAAAAAAAAAAAAAAAAAAAAAAAAAAAAAAAAAAAAAAAAAAAAAAAAAAAAAAAAAAAAAAAAAAAAAAAAAAAAAAAAAAAAAAAAAAAAAAAAAAAAAAAAAAAAAAAAAAAAAAAAAAAAAAAAAAAAAAAAAAAAAAAAAAAAAAAAAAAAAAAAAAAAAAAAAAAAAAAAAAAAAAAAAAAAAAAAAAAAAAAAAAAAAAAAAAAAAAAAAAAAAAAAAAAAAAAAAAAAAAAAAAAAAAAAAAAAAAAAAAAAAAAAAAAAAAAAAAAAAAAAAAAAAAAAAAAAAAAAAAAAAAAAAAAAAACwAAAAAwKIBAAAI/wABCBxIsKDBgwgTKlzIsKHDhxAjSpxIsaLFixgzatzIsaPHjyBDihxJsqTJkyhTqlzJsqXLlzBjypxJs6bNmzhz6tzJs6fPn0CDCh1KtKjRo0iTKl3KtKnTp1CjSp1KtarVq1izat3KtavXr2DDih1LtqzZs2jTql3Ltq3bt3Djyp1Lt67du3jz6t3Lt6/fv4ADCx5MuLDhw4gTK17MuLHjx5AjS55MubLly5gza97MubPnz6BDix5NurTp06hTq17NurXr17Bjy55Nu7bt27hz697Nu7fv38CDCx9OvLjx48iTK1/OvLnz59CjS59Ovbr169iza9/Ovbv37+DDi7wfT768+fPo06tfz769+/fw48ufT7++/fv48+vfz7+/f4AABA4kWNDgQYQJFS5k2NDhQ4gRJU6kWNHiRYwZNW7k2NHjR5AhRY4kWdLkSZQpVa5k2dLlS5gxZc6kWdPmTZw5de7k2dPnT6BBhQ4lWtToUaRJlS5l2tTpU6hRpU6lWtXqVaxZtW7l2tXrV7BhxY4lW9bsWbRp1a5l29btW7hx5c6lW9fuXbx59e7l29fvX8CBBQ8mXNjw4bEBAQA7\"><title>Layer: flatten (hidden)\n",
       " Keras class = Flatten</title></image><text x=\"838.3333333333334\" y=\"304.5\" font-family=\"monospace\" font-size=\"12\" text-anchor=\"start\" alignment-baseline=\"central\">flatten</text><line x1=\"275.0\" y1=\"344\" x2=\"366.6666666666667\" y2=\"290\" stroke=\"black\" stroke-width=\"2\"><title>TODO</title></line><rect x=\"174.0\" y=\"344\" width=\"202\" height=\"27\" style=\"fill:none;stroke:black;stroke-width:2\"/><image id=\"Robot Prediction Network_hidden_7\" class=\"Robot Prediction Network_hidden\" x=\"175.0\" y=\"345\" height=\"25\" width=\"200\" preserveAspectRatio=\"none\" href=\"data:image/gif;base64,R0lGODdhMgABAIcAAP7+/QAAAAAAAAAAAAAAAAAAAAAAAAAAAAAAAAAAAAAAAAAAAAAAAAAAAAAAAAAAAAAAAAAAAAAAAAAAAAAAAAAAAAAAAAAAAAAAAAAAAAAAAAAAAAAAAAAAAAAAAAAAAAAAAAAAAAAAAAAAAAAAAAAAAAAAAAAAAAAAAAAAAAAAAAAAAAAAAAAAAAAAAAAAAAAAAAAAAAAAAAAAAAAAAAAAAAAAAAAAAAAAAAAAAAAAAAAAAAAAAAAAAAAAAAAAAAAAAAAAAAAAAAAAAAAAAAAAAAAAAAAAAAAAAAAAAAAAAAAAAAAAAAAAAAAAAAAAAAAAAAAAAAAAAAAAAAAAAAAAAAAAAAAAAAAAAAAAAAAAAAAAAAAAAAAAAAAAAAAAAAAAAAAAAAAAAAAAAAAAAAAAAAAAAAAAAAAAAAAAAAAAAAAAAAAAAAAAAAAAAAAAAAAAAAAAAAAAAAAAAAAAAAAAAAAAAAAAAAAAAAAAAAAAAAAAAAAAAAAAAAAAAAAAAAAAAAAAAAAAAAAAAAAAAAAAAAAAAAAAAAAAAAAAAAAAAAAAAAAAAAAAAAAAAAAAAAAAAAAAAAAAAAAAAAAAAAAAAAAAAAAAAAAAAAAAAAAAAAAAAAAAAAAAAAAAAAAAAAAAAAAAAAAAAAAAAAAAAAAAAAAAAAAAAAAAAAAAAAAAAAAAAAAAAAAAAAAAAAAAAAAAAAAAAAAAAAAAAAAAAAAAAAAAAAAAAAAAAAAAAAAAAAAAAAAAAAAAAAAAAAAAAAAAAAAAAAAAAAAAAAAAAAAAAAAAAAAAAAAAAAAAAAAAAAAAAAAAAAAAAAAAAAAAAAAAAAAAAAAAAAAAAAAAAAAAAAAAAAAAAAAAAAAAAAAAAAAAAAAAAAAAAAAAAAAAAAAAAAAAAAAAAAAAAAAAAAAAAAAAAAAAAAAAAAAAAAAAAAAAAAAAAAAAAAAAAAAAAAAAAAAAAAAAAAAAAAAAAAAAAAAAAAAAAAAAAAAAAAAAAAAAAAAAAAAAAAAAAAAAACwAAAAAMgABAAAIDgABCBxIsKDBgwgTFgwIADs=\"><title>Layer: hidden (hidden)\n",
       " shape = (50,)\n",
       " Keras class = Dense\n",
       " activation = relu</title></image><text x=\"380.0\" y=\"359.5\" font-family=\"monospace\" font-size=\"12\" text-anchor=\"start\" alignment-baseline=\"central\">hidden</text><line x1=\"550.0\" y1=\"345\" x2=\"366.6666666666667\" y2=\"290\" stroke=\"black\" stroke-width=\"2\"><title>TODO</title></line><line x1=\"825.0\" y1=\"344\" x2=\"733.3333333333334\" y2=\"317\" stroke=\"black\" stroke-width=\"2\" marker-end=\"url(#arrow)\"><title>Weights from conv to flatten</title></line><rect x=\"724.0\" y=\"344\" width=\"202\" height=\"137\" style=\"fill:none;stroke:black;stroke-width:2\"/><image id=\"Robot Prediction Network_conv_8\" class=\"Robot Prediction Network_conv\" x=\"725.0\" y=\"345\" height=\"135\" width=\"200\" preserveAspectRatio=\"none\" href=\"data:image/gif;base64,R0lGODdhPgAqAIcAAP7+/QAAAAAAAAAAAAAAAAAAAAAAAAAAAAAAAAAAAAAAAAAAAAAAAAAAAAAAAAAAAAAAAAAAAAAAAAAAAAAAAAAAAAAAAAAAAAAAAAAAAAAAAAAAAAAAAAAAAAAAAAAAAAAAAAAAAAAAAAAAAAAAAAAAAAAAAAAAAAAAAAAAAAAAAAAAAAAAAAAAAAAAAAAAAAAAAAAAAAAAAAAAAAAAAAAAAAAAAAAAAAAAAAAAAAAAAAAAAAAAAAAAAAAAAAAAAAAAAAAAAAAAAAAAAAAAAAAAAAAAAAAAAAAAAAAAAAAAAAAAAAAAAAAAAAAAAAAAAAAAAAAAAAAAAAAAAAAAAAAAAAAAAAAAAAAAAAAAAAAAAAAAAAAAAAAAAAAAAAAAAAAAAAAAAAAAAAAAAAAAAAAAAAAAAAAAAAAAAAAAAAAAAAAAAAAAAAAAAAAAAAAAAAAAAAAAAAAAAAAAAAAAAAAAAAAAAAAAAAAAAAAAAAAAAAAAAAAAAAAAAAAAAAAAAAAAAAAAAAAAAAAAAAAAAAAAAAAAAAAAAAAAAAAAAAAAAAAAAAAAAAAAAAAAAAAAAAAAAAAAAAAAAAAAAAAAAAAAAAAAAAAAAAAAAAAAAAAAAAAAAAAAAAAAAAAAAAAAAAAAAAAAAAAAAAAAAAAAAAAAAAAAAAAAAAAAAAAAAAAAAAAAAAAAAAAAAAAAAAAAAAAAAAAAAAAAAAAAAAAAAAAAAAAAAAAAAAAAAAAAAAAAAAAAAAAAAAAAAAAAAAAAAAAAAAAAAAAAAAAAAAAAAAAAAAAAAAAAAAAAAAAAAAAAAAAAAAAAAAAAAAAAAAAAAAAAAAAAAAAAAAAAAAAAAAAAAAAAAAAAAAAAAAAAAAAAAAAAAAAAAAAAAAAAAAAAAAAAAAAAAAAAAAAAAAAAAAAAAAAAAAAAAAAAAAAAAAAAAAAAAAAAAAAAAAAAAAAAAAAAAAAAAAAAAAAAAAAAAAAAAAAAAAAAAAAAAAAAAAAAAAAAAAAAAAAAAAAAAAAAACwAAAAAPgAqAEAIVAABCBxIsKDBgwgTKlzIsKHDhxAjSpxIsaLFixgzatzIsaPHjyBDihxJsqTJkyhTqlzJsqXLlzBjypxJs6bNmzhz6tzJs6fPn0CDCh1KtKjRozADAgA7\"><title>Layer: conv (hidden)\n",
       " Keras class = Conv2DTranspose</title></image><text x=\"930.0\" y=\"414.5\" font-family=\"monospace\" font-size=\"12\" text-anchor=\"start\" alignment-baseline=\"central\">conv</text><line x1=\"275.0\" y1=\"509\" x2=\"275.0\" y2=\"372\" stroke=\"black\" stroke-width=\"2\" marker-end=\"url(#arrow)\"><title>Weights from light to hidden\n",
       " hidden/kernel has shape (2, 50)\n",
       " hidden/bias has shape (50,)</title></line><rect x=\"224.0\" y=\"509\" width=\"102\" height=\"52\" style=\"fill:none;stroke:black;stroke-width:2\"/><image id=\"Robot Prediction Network_light_9\" class=\"Robot Prediction Network_light\" x=\"225.0\" y=\"510\" height=\"50\" width=\"100\" preserveAspectRatio=\"none\" href=\"data:image/gif;base64,R0lGODdhAgABAIcAAP7+/QAAAAAAAAAAAAAAAAAAAAAAAAAAAAAAAAAAAAAAAAAAAAAAAAAAAAAAAAAAAAAAAAAAAAAAAAAAAAAAAAAAAAAAAAAAAAAAAAAAAAAAAAAAAAAAAAAAAAAAAAAAAAAAAAAAAAAAAAAAAAAAAAAAAAAAAAAAAAAAAAAAAAAAAAAAAAAAAAAAAAAAAAAAAAAAAAAAAAAAAAAAAAAAAAAAAAAAAAAAAAAAAAAAAAAAAAAAAAAAAAAAAAAAAAAAAAAAAAAAAAAAAAAAAAAAAAAAAAAAAAAAAAAAAAAAAAAAAAAAAAAAAAAAAAAAAAAAAAAAAAAAAAAAAAAAAAAAAAAAAAAAAAAAAAAAAAAAAAAAAAAAAAAAAAAAAAAAAAAAAAAAAAAAAAAAAAAAAAAAAAAAAAAAAAAAAAAAAAAAAAAAAAAAAAAAAAAAAAAAAAAAAAAAAAAAAAAAAAAAAAAAAAAAAAAAAAAAAAAAAAAAAAAAAAAAAAAAAAAAAAAAAAAAAAAAAAAAAAAAAAAAAAAAAAAAAAAAAAAAAAAAAAAAAAAAAAAAAAAAAAAAAAAAAAAAAAAAAAAAAAAAAAAAAAAAAAAAAAAAAAAAAAAAAAAAAAAAAAAAAAAAAAAAAAAAAAAAAAAAAAAAAAAAAAAAAAAAAAAAAAAAAAAAAAAAAAAAAAAAAAAAAAAAAAAAAAAAAAAAAAAAAAAAAAAAAAAAAAAAAAAAAAAAAAAAAAAAAAAAAAAAAAAAAAAAAAAAAAAAAAAAAAAAAAAAAAAAAAAAAAAAAAAAAAAAAAAAAAAAAAAAAAAAAAAAAAAAAAAAAAAAAAAAAAAAAAAAAAAAAAAAAAAAAAAAAAAAAAAAAAAAAAAAAAAAAAAAAAAAAAAAAAAAAAAAAAAAAAAAAAAAAAAAAAAAAAAAAAAAAAAAAAAAAAAAAAAAAAAAAAAAAAAAAAAAAAAAAAAAAAAAAAAAAAAAAAAAAAAAAAAAAAAAAAAAAAAAAAAAAAAAAAAAAAAAAAAAAAAAACwAAAAAAgABAAAIBQABAAgIADs=\"><title>Layer: light (input)\n",
       " shape = (2,)\n",
       " Keras class = Input</title></image><text x=\"330.0\" y=\"537.0\" font-family=\"monospace\" font-size=\"12\" text-anchor=\"start\" alignment-baseline=\"central\">light</text><line x1=\"550.0\" y1=\"509\" x2=\"550.0\" y2=\"345\" stroke=\"black\" stroke-width=\"2\"><title>TODO</title></line><rect x=\"449.0\" y=\"509\" width=\"202\" height=\"27\" style=\"fill:none;stroke:black;stroke-width:2\"/><image id=\"Robot Prediction Network_sonar_10\" class=\"Robot Prediction Network_sonar\" x=\"450.0\" y=\"510\" height=\"25\" width=\"200\" preserveAspectRatio=\"none\" href=\"data:image/gif;base64,R0lGODdhEAABAIcAAP7+/QAAAAAAAAAAAAAAAAAAAAAAAAAAAAAAAAAAAAAAAAAAAAAAAAAAAAAAAAAAAAAAAAAAAAAAAAAAAAAAAAAAAAAAAAAAAAAAAAAAAAAAAAAAAAAAAAAAAAAAAAAAAAAAAAAAAAAAAAAAAAAAAAAAAAAAAAAAAAAAAAAAAAAAAAAAAAAAAAAAAAAAAAAAAAAAAAAAAAAAAAAAAAAAAAAAAAAAAAAAAAAAAAAAAAAAAAAAAAAAAAAAAAAAAAAAAAAAAAAAAAAAAAAAAAAAAAAAAAAAAAAAAAAAAAAAAAAAAAAAAAAAAAAAAAAAAAAAAAAAAAAAAAAAAAAAAAAAAAAAAAAAAAAAAAAAAAAAAAAAAAAAAAAAAAAAAAAAAAAAAAAAAAAAAAAAAAAAAAAAAAAAAAAAAAAAAAAAAAAAAAAAAAAAAAAAAAAAAAAAAAAAAAAAAAAAAAAAAAAAAAAAAAAAAAAAAAAAAAAAAAAAAAAAAAAAAAAAAAAAAAAAAAAAAAAAAAAAAAAAAAAAAAAAAAAAAAAAAAAAAAAAAAAAAAAAAAAAAAAAAAAAAAAAAAAAAAAAAAAAAAAAAAAAAAAAAAAAAAAAAAAAAAAAAAAAAAAAAAAAAAAAAAAAAAAAAAAAAAAAAAAAAAAAAAAAAAAAAAAAAAAAAAAAAAAAAAAAAAAAAAAAAAAAAAAAAAAAAAAAAAAAAAAAAAAAAAAAAAAAAAAAAAAAAAAAAAAAAAAAAAAAAAAAAAAAAAAAAAAAAAAAAAAAAAAAAAAAAAAAAAAAAAAAAAAAAAAAAAAAAAAAAAAAAAAAAAAAAAAAAAAAAAAAAAAAAAAAAAAAAAAAAAAAAAAAAAAAAAAAAAAAAAAAAAAAAAAAAAAAAAAAAAAAAAAAAAAAAAAAAAAAAAAAAAAAAAAAAAAAAAAAAAAAAAAAAAAAAAAAAAAAAAAAAAAAAAAAAAAAAAAAAAAAAAAAAAAAAAAAAAAAAAAAAAAAAAAAAAAAAAAAAAAAAAAAAAAAAAAAACwAAAAAEAABAAAICQABCBxIsCCAgAA7\"><title>Layer: sonar (input)\n",
       " shape = (16,)\n",
       " Keras class = Input</title></image><text x=\"655.0\" y=\"524.5\" font-family=\"monospace\" font-size=\"12\" text-anchor=\"start\" alignment-baseline=\"central\">sonar</text><line x1=\"825.0\" y1=\"509\" x2=\"825.0\" y2=\"482\" stroke=\"black\" stroke-width=\"2\" marker-end=\"url(#arrow)\"><title>Weights from camera to conv\n",
       " conv/kernel has shape (3, 3, 16, 3)\n",
       " conv/bias has shape (16,)</title></line><rect x=\"724.0\" y=\"509\" width=\"202\" height=\"135\" style=\"fill:none;stroke:black;stroke-width:2\"/><image id=\"Robot Prediction Network_camera_11\" class=\"Robot Prediction Network_camera\" x=\"725.0\" y=\"510\" height=\"133\" width=\"200\" preserveAspectRatio=\"none\" href=\"data:image/gif;base64,R0lGODdhPAAoAIcAAAAAAAAAAAAAAAAAAAAAAAAAAAAAAAAAAAAAAAAAAAAAAAAAAAAAAAAAAAAAAAAAAAAAAAAAAAAAAAAAAAAAAAAAAAAAAAAAAAAAAAAAAAAAAAAAAAAAAAAAAAAAAAAAAAAAAAAAAAAAAAAAAAAAAAAAAAAAAAAAAAAAAAAAAAAAAAAAAAAAAAAAAAAAAAAAAAAAAAAAAAAAAAAAAAAAAAAAAAAAAAAAAAAAAAAAAAAAAAAAAAAAAAAAAAAAAAAAAAAAAAAAAAAAAAAAAAAAAAAAAAAAAAAAAAAAAAAAAAAAAAAAAAAAAAAAAAAAAAAAAAAAAAAAAAAAAAAAAAAAAAAAAAAAAAAAAAAAAAAAAAAAAAAAAAAAAAAAAAAAAAAAAAAAAAAAAAAAAAAAAAAAAAAAAAAAAAAAAAAAAAAAAAAAAAAAAAAAAAAAAAAAAAAAAAAAAAAAAAAAAAAAAAAAAAAAAAAAAAAAAAAAAAAAAAAAAAAAAAAAAAAAAAAAAAAAAAAAAAAAAAAAAAAAAAAAAAAAAAAAAAAAAAAAAAAAAAAAAAAAAAAAAAAAAAAAAAAAAAAAAAAAAAAAAAAAAAAAAAAAAAAAAAAAAAAAAAAAAAAAAAAAAAAAAAAAAAAAAAAAAAAAAAAAAAAAAAAAAAAAAAAAAAAAAAAAAAAAAAAAAAAAAAAAAAAAAAAAAAAAAAAAAAAAAAAAAAAAAAAAAAAAAAAAAAAAAAAAAAAAAAAAAAAAAAAAAAAAAAAAAAAAAAAAAAAAAAAAAAAAAAAAAAAAAAAAAAAAAAAAAAAAAAAAAAAAAAAAAAAAAAAAAAAAAAAAAAAAAAAAAAAAAAAAAAAAAAAAAAAAAAAAAAAAAAAAAAAAAAAAAAAAAAAAAAAAAAAAAAAAAAAAAAAAAAAAAAAAAAAAAAAAAAAAAAAAAAAAAAAAAAAAAAAAAAAAAAAAAAAAAAAAAAAAAAAAAAAAAAAAAAAAAAAAAAAAAAAAAAAAAAAAAAAAAAAAAAAAAAAAAAAAACwAAAAAPAAoAEAIUAABCBxIsKDBgwgTKlzIsKHDhxAjSpxIsaLFixgzatzIsaPHjyBDihxJsqTJkyhTqlzJsqXLlzBjypxJs6bNmzhz6tzJs6fPn0CDCh1K1GZAADs=\"><title>Layer: camera (input)\n",
       " shape = (40, 60, 3)\n",
       " Keras class = Input</title></image><text x=\"930.0\" y=\"578.5\" font-family=\"monospace\" font-size=\"12\" text-anchor=\"start\" alignment-baseline=\"central\">camera</text></svg>"
      ],
      "text/plain": [
       "<Network name='Robot Prediction Network' (compiled)>"
      ]
     },
     "execution_count": 56,
     "metadata": {},
     "output_type": "execute_result"
    }
   ],
   "source": [
    "net"
   ]
  },
  {
   "cell_type": "code",
   "execution_count": 22,
   "metadata": {},
   "outputs": [
    {
     "data": {
      "text/plain": [
       "[[0.6392728686332703, 0.45862892270088196],\n",
       " [0.4900810718536377,\n",
       "  0.49112480878829956,\n",
       "  0.5136414170265198,\n",
       "  0.6398684978485107,\n",
       "  0.37124931812286377]]"
      ]
     },
     "execution_count": 22,
     "metadata": {},
     "output_type": "execute_result"
    }
   ],
   "source": [
    "net.propagate(get_senses(robot))"
   ]
  },
  {
   "cell_type": "code",
   "execution_count": 22,
   "metadata": {},
   "outputs": [
    {
     "data": {
      "application/vnd.jupyter.widget-view+json": {
       "model_id": "7001bc75c2104b43a6bd388d787ba44a"
      }
     },
     "metadata": {},
     "output_type": "display_data"
    }
   ],
   "source": [
    "sim.widget"
   ]
  },
  {
   "cell_type": "code",
   "execution_count": null,
   "metadata": {
    "collapsed": true
   },
   "outputs": [],
   "source": []
  }
 ],
 "metadata": {
  "kernelspec": {
   "display_name": "Python 3",
   "language": "python",
   "name": "python3"
  },
  "language_info": {
   "codemirror_mode": {
    "name": "ipython",
    "version": 3
   },
   "file_extension": ".py",
   "mimetype": "text/x-python",
   "name": "python",
   "nbconvert_exporter": "python",
   "pygments_lexer": "ipython3",
   "version": "3.5.3"
  },
  "widgets": {
   "application/vnd.jupyter.widget-state+json": {
    "state": {
     "08423084241441eb9091dfd3995ec7fe": {
      "model_module": "jupyter-js-widgets",
      "model_module_version": "~2.1.4",
      "model_name": "LayoutModel",
      "state": {
       "_model_module_version": "~2.1.4",
       "_view_module_version": "~2.1.4"
      }
     },
     "0a486aece37d4ceda35626962a10b644": {
      "model_module": "jupyter-js-widgets",
      "model_module_version": "~2.1.4",
      "model_name": "LayoutModel",
      "state": {
       "_model_module_version": "~2.1.4",
       "_view_module_version": "~2.1.4",
       "height": "20px",
       "padding": "0px 0px 0px 0px",
       "width": "248px"
      }
     },
     "116e160ad9f14e7fb81d6dabde0c37eb": {
      "model_module": "jupyter-js-widgets",
      "model_module_version": "~2.1.4",
      "model_name": "FloatSliderModel",
      "state": {
       "_model_module_version": "~2.1.4",
       "_view_module_version": "~2.1.4",
       "layout": "IPY_MODEL_c3c7c15d20ec4640a9f5fe85ade3682c",
       "orientation": "vertical",
       "readout": false,
       "step": 0.1,
       "value": 51.24999999999999
      }
     },
     "1adceb8e00834cea8cf5b6dbe7433a09": {
      "model_module": "jupyter-js-widgets",
      "model_module_version": "~2.1.4",
      "model_name": "LayoutModel",
      "state": {
       "_model_module_version": "~2.1.4",
       "_view_module_version": "~2.1.4"
      }
     },
     "1c00298cd5294f93a5bd80d8eb821703": {
      "model_module": "jupyter-js-widgets",
      "model_module_version": "~2.1.4",
      "model_name": "ImageModel",
      "state": {
       "_b64value": "iVBORw0KGgoAAAANSUhEUgAAADwAAAAoCAIAAAAt2Q6oAAAA8UlEQVR4nO3WoQ7CMBCA4d5d++gYggJDwMwgEJshATHkEIRgUCCwkxiwZAhGMxq2bIRcaXKfWOb655b0BvExV6FB3wHfkGguEs1ForlINBeJ5qJ9B5TuhwzeKaWqz+qLt+jbNkVEIgIARLRBbXSOztPYDqBuEg2KokBEYwwRdT3a+hx9SiJ8sZOofji/yuhdNCQirTURPVv9ZjXTm8kAAIwxvks6+OuJ1pFoLhLNJchouFzPSql+b+rc0w3L5Vcb0Vnj7f89ymjHeDQPL7rBLFqGF/0riyQLL9qxXu3Di+4kyCtPorlINBeJ5iLRXIKMfgDJGDkVat0rzwAAAABJRU5ErkJggg==",
       "_model_module_version": "~2.1.4",
       "_view_module_version": "~2.1.4",
       "layout": "IPY_MODEL_826d8904866c4e82ba2a9a5221fd2631",
       "width": "240"
      }
     },
     "2e5b657e21fa4e3fb459a974ef89ffea": {
      "model_module": "jupyter-js-widgets",
      "model_module_version": "~2.1.4",
      "model_name": "FloatSliderModel",
      "state": {
       "_model_module_version": "~2.1.4",
       "_view_module_version": "~2.1.4",
       "layout": "IPY_MODEL_0a486aece37d4ceda35626962a10b644",
       "readout": false,
       "step": 0.1,
       "value": 99.44295769917836
      }
     },
     "2e5d973073534c3eb26e448b646a8c7d": {
      "model_module": "jupyter-js-widgets",
      "model_module_version": "~2.1.4",
      "model_name": "OutputModel",
      "state": {
       "_dom_classes": [],
       "_model_module": "jupyter-js-widgets",
       "_model_module_version": "~2.1.4",
       "_view_module": "jupyter-js-widgets",
       "_view_module_version": "~2.1.4",
       "layout": "IPY_MODEL_39f10ac0d7e94b6a998cecbcde4c3c24",
       "msg_throttle": 1
      }
     },
     "35e0bf572944420cb3eb23722feea99e": {
      "model_module": "jupyter-js-widgets",
      "model_module_version": "~2.1.4",
      "model_name": "LayoutModel",
      "state": {
       "_model_module_version": "~2.1.4",
       "_view_module_version": "~2.1.4"
      }
     },
     "39f10ac0d7e94b6a998cecbcde4c3c24": {
      "model_module": "jupyter-js-widgets",
      "model_module_version": "~2.1.4",
      "model_name": "LayoutModel",
      "state": {
       "_model_module_version": "~2.1.4",
       "_view_module_version": "~2.1.4"
      }
     },
     "497f35579b594d33b9416aa809c0bbe3": {
      "model_module": "jupyter-js-widgets",
      "model_module_version": "~2.1.4",
      "model_name": "LayoutModel",
      "state": {
       "_model_module_version": "~2.1.4",
       "_view_module_version": "~2.1.4"
      }
     },
     "4bdda6111b9546a697c36c05475b6a3e": {
      "model_module": "jupyter-js-widgets",
      "model_module_version": "~2.1.4",
      "model_name": "TextModel",
      "state": {
       "_model_module_version": "~2.1.4",
       "_view_module_version": "~2.1.4",
       "description": "Time:",
       "layout": "IPY_MODEL_e558e089bd89408784f5d3d9c965f2aa",
       "value": "0.10 seconds"
      }
     },
     "5527ccfc5f274a7dbc6ce3afe206b84b": {
      "model_module": "jupyter-js-widgets",
      "model_module_version": "~2.1.4",
      "model_name": "CheckboxModel",
      "state": {
       "_model_module_version": "~2.1.4",
       "_view_module_version": "~2.1.4",
       "description": "Update GUI",
       "disabled": false,
       "layout": "IPY_MODEL_752f6bab412348b7b4fbcd2a3a3dd15a",
       "value": true
      }
     },
     "55d26593c20a4c6fa86765e4fa753a11": {
      "model_module": "jupyter-js-widgets",
      "model_module_version": "~2.1.4",
      "model_name": "LayoutModel",
      "state": {
       "_model_module_version": "~2.1.4",
       "_view_module_version": "~2.1.4"
      }
     },
     "5d02f863f83c4124aa1dea90e55f836c": {
      "model_module": "jupyter-js-widgets",
      "model_module_version": "~2.1.4",
      "model_name": "HTMLModel",
      "state": {
       "_model_module_version": "~2.1.4",
       "_view_module_version": "~2.1.4",
       "layout": "IPY_MODEL_08423084241441eb9091dfd3995ec7fe",
       "value": "<svg baseProfile=\"full\" height=\"240\" version=\"1.1\" width=\"240\" xmlns=\"http://www.w3.org/2000/svg\" xmlns:ev=\"http://www.w3.org/2001/xml-events\" xmlns:xlink=\"http://www.w3.org/1999/xlink\"><defs /><rect fill=\"white\" height=\"240\" stroke=\"#000000\" stroke-width=\"1\" width=\"240\" x=\"0\" y=\"0\" /><rect fill=\"#eef3dd\" height=\"240.0\" stroke=\"#bebebe\" stroke-width=\"1\" width=\"240.0\" x=\"0.0\" y=\"0.0\" /><circle cx=\"120.0\" cy=\"195.0\" fill=\"#ffff00\" r=\"15.0\" stroke=\"#ffff00\" stroke-width=\"1\" /><line fill=\"#800080\" stroke=\"#add8e6\" stroke-width=\"1\" x1=\"199.29647346587737\" x2=\"0.0\" y1=\"111.37109959820461\" y2=\"118.34932799999999\" /><line fill=\"#800080\" stroke=\"#add8e6\" stroke-width=\"1\" x1=\"200.64858482032437\" x2=\"0.0\" y1=\"107.12118255369946\" y2=\"21.973026000000004\" /><line fill=\"#800080\" stroke=\"#add8e6\" stroke-width=\"1\" x1=\"202.98412783209295\" x2=\"108.20933355871675\" y1=\"105.23830209010676\" y2=\"0.0\" /><line fill=\"#800080\" stroke=\"#add8e6\" stroke-width=\"1\" x1=\"206.529433775271\" x2=\"174.84110042201567\" y1=\"103.61324646974592\" y2=\"0.0\" /><line fill=\"#800080\" stroke=\"#add8e6\" stroke-width=\"1\" x1=\"212.52575915041191\" x2=\"236.38811675880686\" y1=\"103.4032893421199\" y2=\"0.0\" /><line fill=\"#800080\" stroke=\"#add8e6\" stroke-width=\"1\" x1=\"216.176043657403\" x2=\"240.0\" y1=\"104.77639640932952\" y2=\"74.27725800000002\" /><line fill=\"#800080\" stroke=\"#add8e6\" stroke-width=\"1\" x1=\"218.63756094574717\" x2=\"240.0\" y1=\"106.49131117082139\" y2=\"95.60408999999999\" /><line fill=\"#800080\" stroke=\"#add8e6\" stroke-width=\"1\" x1=\"220.28361227887063\" x2=\"240.0\" y1=\"110.63624965151354\" y2=\"109.94589599999998\" /><line fill=\"#800080\" stroke=\"#add8e6\" stroke-width=\"1\" x1=\"220.70352653412263\" x2=\"240.0\" y1=\"122.62890040179542\" y2=\"121.95324600000001\" /><line fill=\"#800080\" stroke=\"#add8e6\" stroke-width=\"1\" x1=\"219.35141517967563\" x2=\"240.0\" y1=\"126.87881744630057\" y2=\"135.641346\" /><line fill=\"#800080\" stroke=\"#add8e6\" stroke-width=\"1\" x1=\"217.01587216790705\" x2=\"240.0\" y1=\"128.76169790989326\" y2=\"154.283364\" /><line fill=\"#800080\" stroke=\"#add8e6\" stroke-width=\"1\" x1=\"213.470566224729\" x2=\"240.0\" y1=\"130.3867535302541\" y2=\"217.131636\" /><line fill=\"#800080\" stroke=\"#add8e6\" stroke-width=\"1\" x1=\"207.47424084958809\" x2=\"182.22726449088904\" y1=\"130.59671065788012\" y2=\"240.0\" /><line fill=\"#800080\" stroke=\"#add8e6\" stroke-width=\"1\" x1=\"203.823956342597\" x2=\"117.29260723482744\" y1=\"129.2236035906705\" y2=\"240.0\" /><line fill=\"#800080\" stroke=\"#add8e6\" stroke-width=\"1\" x1=\"201.36243905425283\" x2=\"0.0\" y1=\"127.50868882917862\" y2=\"230.131668\" /><line fill=\"#800080\" stroke=\"#add8e6\" stroke-width=\"1\" x1=\"199.71638772112937\" x2=\"0.0\" y1=\"123.36375034848649\" y2=\"130.356678\" /><line fill=\"#800080\" stroke=\"#a020f0\" stroke-width=\"1\" x1=\"210.0\" x2=\"0.0\" y1=\"117.00000000000001\" y2=\"5.366183999999992\" /><line fill=\"#800080\" stroke=\"#a020f0\" stroke-width=\"1\" x1=\"210.0\" x2=\"240.0\" y1=\"117.00000000000001\" y2=\"98.250024\" /><line fill=\"#800080\" stroke=\"#ffa500\" stroke-width=\"1\" x1=\"120.0\" x2=\"199.03402705634483\" y1=\"195.0\" y2=\"103.87569287927845\" /><line fill=\"#800080\" stroke=\"#ffa500\" stroke-width=\"1\" x1=\"120.0\" x2=\"220.02116586933806\" y1=\"195.0\" y2=\"103.14084293258738\" /><polygon fill=\"red\" points=\"204.7305361627287,103.67623360803373 199.19149490206433,108.37293691063414 199.82136628494237,126.36191303605695 205.67534323704578,130.65969779616793 215.2694638372713,130.3237663919663 220.80850509793567,125.62706308936588 220.17863371505763,107.63808696394308 214.32465676295422,103.3403022038321\" stroke=\"red\" stroke-width=\"1\" /><polygon points=\"-3.0,-3.0 0,0 3.0,-3.0 0,3.0\" stroke=\"black\" stroke-width=\"1\" transform=\"translate(210.0,117.00000000000001) rotate(177.9946477170421)\" /><polygon fill=\"black\" points=\"213.30385524640815,108.4791701982271 213.47182094850893,113.27623049833983 206.2762304983398,113.52817905149107 206.108264796239,108.73111875137835\" stroke=\"black\" stroke-width=\"1\" /><circle cx=\"199.03402705634483\" cy=\"103.87569287927845\" fill=\"yellow\" r=\"1.5\" stroke=\"orange\" stroke-width=\"1\" /><circle cx=\"220.02116586933806\" cy=\"103.14084293258738\" fill=\"yellow\" r=\"1.5\" stroke=\"orange\" stroke-width=\"1\" /></svg>"
      }
     },
     "6d1f771c19254382accb04cae6f7b62e": {
      "model_module": "jupyter-js-widgets",
      "model_module_version": "~2.1.4",
      "model_name": "HBoxModel",
      "state": {
       "_model_module_version": "~2.1.4",
       "_view_module_version": "~2.1.4",
       "children": [
        "IPY_MODEL_5527ccfc5f274a7dbc6ce3afe206b84b",
        "IPY_MODEL_4bdda6111b9546a697c36c05475b6a3e"
       ],
       "layout": "IPY_MODEL_b0fe5bc26a9a44bb95dcf2756e7f5088"
      }
     },
     "7001bc75c2104b43a6bd388d787ba44a": {
      "model_module": "jupyter-js-widgets",
      "model_module_version": "~2.1.4",
      "model_name": "VBoxModel",
      "state": {
       "_model_module_version": "~2.1.4",
       "_view_module_version": "~2.1.4",
       "children": [
        "IPY_MODEL_d0cefa9ffa6841c8b59ef0278cc97beb",
        "IPY_MODEL_852d97123f894e63b3ebef0aef4d9a3c",
        "IPY_MODEL_2e5d973073534c3eb26e448b646a8c7d"
       ],
       "layout": "IPY_MODEL_d61e3a6a6d9a409e8f9f65f4541dfd99"
      }
     },
     "752f6bab412348b7b4fbcd2a3a3dd15a": {
      "model_module": "jupyter-js-widgets",
      "model_module_version": "~2.1.4",
      "model_name": "LayoutModel",
      "state": {
       "_model_module_version": "~2.1.4",
       "_view_module_version": "~2.1.4"
      }
     },
     "826d8904866c4e82ba2a9a5221fd2631": {
      "model_module": "jupyter-js-widgets",
      "model_module_version": "~2.1.4",
      "model_name": "LayoutModel",
      "state": {
       "_model_module_version": "~2.1.4",
       "_view_module_version": "~2.1.4"
      }
     },
     "827d29fe3e44461ea1e5e05c88098d68": {
      "model_module": "jupyter-js-widgets",
      "model_module_version": "~2.1.4",
      "model_name": "LayoutModel",
      "state": {
       "_model_module_version": "~2.1.4",
       "_view_module_version": "~2.1.4"
      }
     },
     "852d97123f894e63b3ebef0aef4d9a3c": {
      "model_module": "jupyter-js-widgets",
      "model_module_version": "~2.1.4",
      "model_name": "HBoxModel",
      "state": {
       "_model_module_version": "~2.1.4",
       "_view_module_version": "~2.1.4",
       "children": [
        "IPY_MODEL_dd4d62d9e58842aa9d84a32eb9cb982b",
        "IPY_MODEL_9b7c5fb54cc14aff95c4da6406a0f9ed",
        "IPY_MODEL_d7171539ef4d427cbdcf2195a6ca282d"
       ],
       "layout": "IPY_MODEL_aa94d9d63ae740c3af61b752640a80eb"
      }
     },
     "89534f4f8b8340549bf750fb7dfe0a7a": {
      "model_module": "jupyter-js-widgets",
      "model_module_version": "~2.1.4",
      "model_name": "LayoutModel",
      "state": {
       "_model_module_version": "~2.1.4",
       "_view_module_version": "~2.1.4"
      }
     },
     "9975e40b042c4cd0acf0d02d9b6a3849": {
      "model_module": "jupyter-js-widgets",
      "model_module_version": "~2.1.4",
      "model_name": "HBoxModel",
      "state": {
       "_model_module_version": "~2.1.4",
       "_view_module_version": "~2.1.4",
       "children": [
        "IPY_MODEL_116e160ad9f14e7fb81d6dabde0c37eb",
        "IPY_MODEL_5d02f863f83c4124aa1dea90e55f836c"
       ],
       "layout": "IPY_MODEL_bd23f5a3366547359806ed9502494e70"
      }
     },
     "9af44a5cae7246a89a20a5fbd5a0f130": {
      "model_module": "jupyter-js-widgets",
      "model_module_version": "~2.1.4",
      "model_name": "HBoxModel",
      "state": {
       "_model_module_version": "~2.1.4",
       "_view_module_version": "~2.1.4",
       "children": [
        "IPY_MODEL_c1ceded972004efa89bf5d3ee4943378",
        "IPY_MODEL_d37e45d89f4640d9858bfe2a0f53ad63"
       ],
       "layout": "IPY_MODEL_1adceb8e00834cea8cf5b6dbe7433a09"
      }
     },
     "9b7c5fb54cc14aff95c4da6406a0f9ed": {
      "model_module": "jupyter-js-widgets",
      "model_module_version": "~2.1.4",
      "model_name": "PlayModel",
      "state": {
       "_model_module_version": "~2.1.4",
       "_view_module_version": "~2.1.4",
       "layout": "IPY_MODEL_827d29fe3e44461ea1e5e05c88098d68",
       "max": 1000000
      }
     },
     "9c61c7e69e704f0cbddb4bfa789e9eb2": {
      "model_module": "jupyter-js-widgets",
      "model_module_version": "~2.1.4",
      "model_name": "ButtonStyleModel",
      "state": {
       "_model_module_version": "~2.1.4",
       "_view_module_version": "~2.1.4"
      }
     },
     "a64f5b5a05b545fb8c99ab1de942f334": {
      "model_module": "jupyter-js-widgets",
      "model_module_version": "~2.1.4",
      "model_name": "LayoutModel",
      "state": {
       "_model_module_version": "~2.1.4",
       "_view_module_version": "~2.1.4"
      }
     },
     "aa94d9d63ae740c3af61b752640a80eb": {
      "model_module": "jupyter-js-widgets",
      "model_module_version": "~2.1.4",
      "model_name": "LayoutModel",
      "state": {
       "_model_module_version": "~2.1.4",
       "_view_module_version": "~2.1.4"
      }
     },
     "ad478466503948e3ac134c0d813b347d": {
      "model_module": "jupyter-js-widgets",
      "model_module_version": "~2.1.4",
      "model_name": "FloatSliderModel",
      "state": {
       "_model_module_version": "~2.1.4",
       "_view_module_version": "~2.1.4",
       "layout": "IPY_MODEL_eef4e9caeead4949aec10f216c39e9bd",
       "readout": false,
       "step": 0.1,
       "value": 87.5
      }
     },
     "b0fe5bc26a9a44bb95dcf2756e7f5088": {
      "model_module": "jupyter-js-widgets",
      "model_module_version": "~2.1.4",
      "model_name": "LayoutModel",
      "state": {
       "_model_module_version": "~2.1.4",
       "_view_module_version": "~2.1.4"
      }
     },
     "ba31d73a384e45dcbda53395c2bf5992": {
      "model_module": "jupyter-js-widgets",
      "model_module_version": "~2.1.4",
      "model_name": "LayoutModel",
      "state": {
       "_model_module_version": "~2.1.4",
       "_view_module_version": "~2.1.4"
      }
     },
     "bd23f5a3366547359806ed9502494e70": {
      "model_module": "jupyter-js-widgets",
      "model_module_version": "~2.1.4",
      "model_name": "LayoutModel",
      "state": {
       "_model_module_version": "~2.1.4",
       "_view_module_version": "~2.1.4"
      }
     },
     "c1ceded972004efa89bf5d3ee4943378": {
      "model_module": "jupyter-js-widgets",
      "model_module_version": "~2.1.4",
      "model_name": "VBoxModel",
      "state": {
       "_model_module_version": "~2.1.4",
       "_view_module_version": "~2.1.4",
       "children": [
        "IPY_MODEL_9975e40b042c4cd0acf0d02d9b6a3849",
        "IPY_MODEL_ad478466503948e3ac134c0d813b347d"
       ],
       "layout": "IPY_MODEL_89534f4f8b8340549bf750fb7dfe0a7a"
      }
     },
     "c2195209deb34c269574ca9023bd156f": {
      "model_module": "jupyter-js-widgets",
      "model_module_version": "~2.1.4",
      "model_name": "ButtonStyleModel",
      "state": {
       "_model_module_version": "~2.1.4",
       "_view_module_version": "~2.1.4"
      }
     },
     "c3c7c15d20ec4640a9f5fe85ade3682c": {
      "model_module": "jupyter-js-widgets",
      "model_module_version": "~2.1.4",
      "model_name": "LayoutModel",
      "state": {
       "_model_module_version": "~2.1.4",
       "_view_module_version": "~2.1.4",
       "height": "248px",
       "padding": "0px 0px 0px 0px",
       "width": "10px"
      }
     },
     "d0cefa9ffa6841c8b59ef0278cc97beb": {
      "model_module": "jupyter-js-widgets",
      "model_module_version": "~2.1.4",
      "model_name": "VBoxModel",
      "state": {
       "_model_module_version": "~2.1.4",
       "_view_module_version": "~2.1.4",
       "children": [
        "IPY_MODEL_6d1f771c19254382accb04cae6f7b62e",
        "IPY_MODEL_9af44a5cae7246a89a20a5fbd5a0f130"
       ],
       "layout": "IPY_MODEL_dd4313da261c4547902a7c752f0fc454"
      }
     },
     "d37e45d89f4640d9858bfe2a0f53ad63": {
      "model_module": "jupyter-js-widgets",
      "model_module_version": "~2.1.4",
      "model_name": "VBoxModel",
      "state": {
       "_model_module_version": "~2.1.4",
       "_view_module_version": "~2.1.4",
       "children": [
        "IPY_MODEL_1c00298cd5294f93a5bd80d8eb821703",
        "IPY_MODEL_2e5b657e21fa4e3fb459a974ef89ffea"
       ],
       "layout": "IPY_MODEL_a64f5b5a05b545fb8c99ab1de942f334"
      }
     },
     "d61e3a6a6d9a409e8f9f65f4541dfd99": {
      "model_module": "jupyter-js-widgets",
      "model_module_version": "~2.1.4",
      "model_name": "LayoutModel",
      "state": {
       "_model_module_version": "~2.1.4",
       "_view_module_version": "~2.1.4"
      }
     },
     "d7171539ef4d427cbdcf2195a6ca282d": {
      "model_module": "jupyter-js-widgets",
      "model_module_version": "~2.1.4",
      "model_name": "ButtonModel",
      "state": {
       "_model_module_version": "~2.1.4",
       "_view_module_version": "~2.1.4",
       "description": "Clear",
       "layout": "IPY_MODEL_ba31d73a384e45dcbda53395c2bf5992",
       "style": "IPY_MODEL_c2195209deb34c269574ca9023bd156f"
      }
     },
     "d983b94c07a44bcf96b3b6294d43c01f": {
      "model_module": "jupyter-js-widgets",
      "model_module_version": "~2.1.4",
      "model_name": "LayoutModel",
      "state": {
       "_model_module_version": "~2.1.4",
       "_view_module_version": "~2.1.4"
      }
     },
     "dd4313da261c4547902a7c752f0fc454": {
      "model_module": "jupyter-js-widgets",
      "model_module_version": "~2.1.4",
      "model_name": "LayoutModel",
      "state": {
       "_model_module_version": "~2.1.4",
       "_view_module_version": "~2.1.4"
      }
     },
     "dd4d62d9e58842aa9d84a32eb9cb982b": {
      "model_module": "jupyter-js-widgets",
      "model_module_version": "~2.1.4",
      "model_name": "ButtonModel",
      "state": {
       "_model_module_version": "~2.1.4",
       "_view_module_version": "~2.1.4",
       "icon": "step-forward",
       "layout": "IPY_MODEL_497f35579b594d33b9416aa809c0bbe3",
       "style": "IPY_MODEL_9c61c7e69e704f0cbddb4bfa789e9eb2"
      }
     },
     "e558e089bd89408784f5d3d9c965f2aa": {
      "model_module": "jupyter-js-widgets",
      "model_module_version": "~2.1.4",
      "model_name": "LayoutModel",
      "state": {
       "_model_module_version": "~2.1.4",
       "_view_module_version": "~2.1.4"
      }
     },
     "eef4e9caeead4949aec10f216c39e9bd": {
      "model_module": "jupyter-js-widgets",
      "model_module_version": "~2.1.4",
      "model_name": "LayoutModel",
      "state": {
       "_model_module_version": "~2.1.4",
       "_view_module_version": "~2.1.4",
       "height": "30px",
       "padding": "0px 0px 0px 10px",
       "width": "260px"
      }
     }
    },
    "version_major": 1,
    "version_minor": 0
   }
  }
 },
 "nbformat": 4,
 "nbformat_minor": 2
}
