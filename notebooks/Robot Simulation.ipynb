{
 "cells": [
  {
   "cell_type": "markdown",
   "metadata": {},
   "source": [
    "# Robot Simulation"
   ]
  },
  {
   "cell_type": "code",
   "execution_count": 1,
   "metadata": {},
   "outputs": [],
   "source": [
    "from jyro.simulator import (Robot, Pioneer, Pioneer16Sonars, \n",
    "                            PioneerFrontLightSensors, Camera,\n",
    "                            VSimulator)\n",
    "import random\n",
    "import numpy as np"
   ]
  },
  {
   "cell_type": "code",
   "execution_count": 2,
   "metadata": {},
   "outputs": [],
   "source": [
    "robot = Pioneer(\"Pioneer\", 3.5, 2, 0)"
   ]
  },
  {
   "cell_type": "code",
   "execution_count": 3,
   "metadata": {},
   "outputs": [
    {
     "data": {
      "image/svg+xml": [
       "<svg baseProfile=\"full\" height=\"240\" version=\"1.1\" width=\"240\" xmlns=\"http://www.w3.org/2000/svg\" xmlns:ev=\"http://www.w3.org/2001/xml-events\" xmlns:xlink=\"http://www.w3.org/1999/xlink\"><defs /><line fill=\"#800080\" stroke=\"#d3d3d3\" stroke-width=\"1\" x1=\"78.0\" x2=\"-1842.0\" y1=\"96.0\" y2=\"95.9999999999999\" /><line fill=\"#800080\" stroke=\"#d3d3d3\" stroke-width=\"1\" x1=\"84.0\" x2=\"-1656.110951110368\" y1=\"79.19999999999999\" y2=\"-732.227062542143\" /><line fill=\"#800080\" stroke=\"#d3d3d3\" stroke-width=\"1\" x1=\"93.60000000000001\" x2=\"-1140.5522105981554\" y1=\"72.00000000000001\" y2=\"-1398.805330788438\" /><line fill=\"#800080\" stroke=\"#d3d3d3\" stroke-width=\"1\" x1=\"108.0\" x2=\"-388.9325665968398\" y1=\"66.0\" y2=\"-1788.5775864750112\" /><line fill=\"#800080\" stroke=\"#d3d3d3\" stroke-width=\"1\" x1=\"132.0\" x2=\"628.9325665968398\" y1=\"66.0\" y2=\"-1788.5775864750112\" /><line fill=\"#800080\" stroke=\"#d3d3d3\" stroke-width=\"1\" x1=\"146.4\" x2=\"1380.5522105981554\" y1=\"72.00000000000001\" y2=\"-1398.805330788438\" /><line fill=\"#800080\" stroke=\"#d3d3d3\" stroke-width=\"1\" x1=\"156.0\" x2=\"1896.110951110368\" y1=\"79.19999999999999\" y2=\"-732.227062542143\" /><line fill=\"#800080\" stroke=\"#d3d3d3\" stroke-width=\"1\" x1=\"162.0\" x2=\"2082.0\" y1=\"96.0\" y2=\"95.9999999999999\" /><line fill=\"#800080\" stroke=\"#d3d3d3\" stroke-width=\"1\" x1=\"162.0\" x2=\"2082.0\" y1=\"144.00000000000003\" y2=\"143.9999999999999\" /><line fill=\"#800080\" stroke=\"#d3d3d3\" stroke-width=\"1\" x1=\"156.0\" x2=\"1896.1109511103682\" y1=\"160.8\" y2=\"972.2270625421423\" /><line fill=\"#800080\" stroke=\"#d3d3d3\" stroke-width=\"1\" x1=\"146.4\" x2=\"1380.5522105981554\" y1=\"168.0\" y2=\"1638.805330788438\" /><line fill=\"#800080\" stroke=\"#d3d3d3\" stroke-width=\"1\" x1=\"132.0\" x2=\"628.9325665968399\" y1=\"174.0\" y2=\"2028.5775864750112\" /><line fill=\"#800080\" stroke=\"#d3d3d3\" stroke-width=\"1\" x1=\"107.99999999999999\" x2=\"-388.9325665968404\" y1=\"174.0\" y2=\"2028.5775864750108\" /><line fill=\"#800080\" stroke=\"#d3d3d3\" stroke-width=\"1\" x1=\"93.60000000000001\" x2=\"-1140.5522105981559\" y1=\"168.0\" y2=\"1638.8053307884377\" /><line fill=\"#800080\" stroke=\"#d3d3d3\" stroke-width=\"1\" x1=\"84.0\" x2=\"-1656.1109511103682\" y1=\"160.8\" y2=\"972.2270625421426\" /><line fill=\"#800080\" stroke=\"#d3d3d3\" stroke-width=\"1\" x1=\"78.0\" x2=\"-1842.0\" y1=\"144.0\" y2=\"143.99999999999986\" /><polygon fill=\"red\" points=\"100.8,66.0 78.0,84.0 78.0,156.0 100.8,174.0 139.2,174.0 162.0,156.0 162.0,84.0 139.2,66.0\" stroke=\"red\" stroke-width=\"1\" /><polygon points=\"-12.0,-12.0 0,0 12.0,-12.0 0,12.0\" stroke=\"black\" stroke-width=\"1\" transform=\"translate(120.0,120.0) rotate(180.0)\" /><polygon fill=\"black\" points=\"134.4,86.39999999999999 134.4,105.6 105.6,105.6 105.6,86.39999999999999\" stroke=\"black\" stroke-width=\"1\" /><circle cx=\"78.0\" cy=\"66.0\" fill=\"yellow\" r=\"6.0\" stroke=\"orange\" stroke-width=\"1\" /><circle cx=\"162.0\" cy=\"66.0\" fill=\"yellow\" r=\"6.0\" stroke=\"orange\" stroke-width=\"1\" /></svg>"
      ],
      "text/plain": [
       "<jyro.simulator.robot.Pioneer at 0x7f26e057af28>"
      ]
     },
     "execution_count": 3,
     "metadata": {},
     "output_type": "execute_result"
    }
   ],
   "source": [
    "robot.addDevice(Pioneer16Sonars())\n",
    "robot.addDevice(Camera())\n",
    "light_sensors = PioneerFrontLightSensors(3.0)\n",
    "light_sensors.lightMode = 'ambient'\n",
    "robot.addDevice(light_sensors)"
   ]
  },
  {
   "cell_type": "code",
   "execution_count": 4,
   "metadata": {},
   "outputs": [],
   "source": [
    "def worldf(physics):\n",
    "    physics.addBox(0, 0, 4, 4, fill=\"backgroundgreen\", wallcolor=\"gray\")\n",
    "    physics.addLight(2, 0.75, 1.0) # increased brightness for new linear version of lights"
   ]
  },
  {
   "cell_type": "code",
   "execution_count": 5,
   "metadata": {},
   "outputs": [
    {
     "data": {
      "application/vnd.jupyter.widget-view+json": {
       "model_id": "b6614ef0848f47c7b9e59bfff4b86f89",
       "version_major": 2,
       "version_minor": 0
      },
      "text/html": [
       "<p>Failed to display Jupyter Widget of type <code>VBox</code>.</p>\n",
       "<p>\n",
       "  If you're reading this message in Jupyter Notebook or JupyterLab, it may mean\n",
       "  that the widgets JavaScript is still loading. If this message persists, it\n",
       "  likely means that the widgets JavaScript library is either not installed or\n",
       "  not enabled. See the <a href=\"https://ipywidgets.readthedocs.io/en/stable/user_install.html\">Jupyter\n",
       "  Widgets Documentation</a> for setup instructions.\n",
       "</p>\n",
       "<p>\n",
       "  If you're reading this message in another notebook frontend (for example, a static\n",
       "  rendering on GitHub or <a href=\"https://nbviewer.jupyter.org/\">NBViewer</a>),\n",
       "  it may mean that your frontend doesn't currently support widgets.\n",
       "</p>\n"
      ],
      "text/plain": [
       "VBox(children=(VBox(children=(HBox(children=(Checkbox(value=True, description='Update GUI'), Checkbox(value=False, description='Trace Path'), Text(value='0.0 seconds', description='Time:'))), HBox(children=(VBox(children=(HBox(children=(FloatSlider(value=0.0, layout=Layout(height='248px', padding='0px 0px 0px 0px', width='10px'), orientation='vertical', readout=False), HTML(value='<svg baseProfile=\"full\" height=\"240\" version=\"1.1\" width=\"240\" xmlns=\"http://www.w3.org/2000/svg\" xmlns:ev=\"http://www.w3.org/2001/xml-events\" xmlns:xlink=\"http://www.w3.org/1999/xlink\"><defs /><rect fill=\"#eef3dd\" height=\"240.0\" stroke=\"#bebebe\" stroke-width=\"1\" width=\"240.0\" x=\"0.0\" y=\"0.0\" /><circle cx=\"120.0\" cy=\"195.0\" fill=\"#ffff00\" r=\"15.0\" stroke=\"#ffff00\" stroke-width=\"1\" /><line fill=\"#800080\" stroke=\"#add8e6\" stroke-width=\"1\" x1=\"199.5\" x2=\"0.0\" y1=\"114.0\" y2=\"114.0\" /><line fill=\"#800080\" stroke=\"#add8e6\" stroke-width=\"1\" x1=\"201.0\" x2=\"0.0\" y1=\"109.80000000000001\" y2=\"16.07215199999999\" /><line fill=\"#800080\" stroke=\"#add8e6\" stroke-width=\"1\" x1=\"203.4\" x2=\"112.77724019461742\" y1=\"107.99999999999999\" y2=\"0.0\" /><line fill=\"#800080\" stroke=\"#add8e6\" stroke-width=\"1\" x1=\"207.0\" x2=\"178.4634099424212\" y1=\"106.5\" y2=\"0.0\" /><line fill=\"#800080\" stroke=\"#add8e6\" stroke-width=\"1\" x1=\"213.0\" x2=\"240.0\" y1=\"106.5\" y2=\"5.734632000000062\" /><line fill=\"#800080\" stroke=\"#add8e6\" stroke-width=\"1\" x1=\"216.6\" x2=\"240.0\" y1=\"107.99999999999999\" y2=\"80.11296600000001\" /><line fill=\"#800080\" stroke=\"#add8e6\" stroke-width=\"1\" x1=\"219.0\" x2=\"240.0\" y1=\"109.80000000000001\" y2=\"100.007538\" /><line fill=\"#800080\" stroke=\"#add8e6\" stroke-width=\"1\" x1=\"220.5\" x2=\"240.0\" y1=\"114.0\" y2=\"114.0\" /><line fill=\"#800080\" stroke=\"#add8e6\" stroke-width=\"1\" x1=\"220.5\" x2=\"240.0\" y1=\"126.0\" y2=\"126.0\" /><line fill=\"#800080\" stroke=\"#add8e6\" stroke-width=\"1\" x1=\"219.0\" x2=\"240.0\" y1=\"130.2\" y2=\"139.992462\" /><line fill=\"#800080\" stroke=\"#add8e6\" stroke-width=\"1\" x1=\"216.6\" x2=\"240.0\" y1=\"132.0\" y2=\"159.88703399999997\" /><line fill=\"#800080\" stroke=\"#add8e6\" stroke-width=\"1\" x1=\"213.0\" x2=\"240.0\" y1=\"133.5\" y2=\"234.26536799999994\" /><line fill=\"#800080\" stroke=\"#add8e6\" stroke-width=\"1\" x1=\"207.0\" x2=\"178.4634099424212\" y1=\"133.5\" y2=\"240.0\" /><line fill=\"#800080\" stroke=\"#add8e6\" stroke-width=\"1\" x1=\"203.4\" x2=\"112.7772401946174\" y1=\"132.0\" y2=\"240.0\" /><line fill=\"#800080\" stroke=\"#add8e6\" stroke-width=\"1\" x1=\"201.0\" x2=\"0.0\" y1=\"130.2\" y2=\"223.927848\" /><line fill=\"#800080\" stroke=\"#add8e6\" stroke-width=\"1\" x1=\"199.5\" x2=\"0.0\" y1=\"126.0\" y2=\"126.0\" /><line fill=\"#800080\" stroke=\"#a020f0\" stroke-width=\"1\" x1=\"210.0\" x2=\"2.1539193796210117\" y1=\"120.0\" y2=\"0.0\" /><line fill=\"#800080\" stroke=\"#a020f0\" stroke-width=\"1\" x1=\"210.0\" x2=\"240.0\" y1=\"120.0\" y2=\"102.67948799999999\" /><line fill=\"#800080\" stroke=\"#ffa500\" stroke-width=\"1\" x1=\"120.0\" x2=\"199.5\" y1=\"195.0\" y2=\"106.5\" /><line fill=\"#800080\" stroke=\"#ffa500\" stroke-width=\"1\" x1=\"120.0\" x2=\"220.5\" y1=\"195.0\" y2=\"106.5\" /><polygon fill=\"red\" points=\"205.2,106.5 199.5,111.0 199.5,129.0 205.2,133.5 214.8,133.5 220.5,129.0 220.5,111.0 214.8,106.5\" stroke=\"red\" stroke-width=\"1\" /><polygon points=\"-3.0,-3.0 0,0 3.0,-3.0 0,3.0\" stroke=\"black\" stroke-width=\"1\" transform=\"translate(210.0,120.0) rotate(180.0)\" /><polygon fill=\"black\" points=\"213.6,111.6 213.6,116.39999999999999 206.4,116.39999999999999 206.4,111.6\" stroke=\"black\" stroke-width=\"1\" /><circle cx=\"199.5\" cy=\"106.5\" fill=\"yellow\" r=\"1.5\" stroke=\"orange\" stroke-width=\"1\" /><circle cx=\"220.5\" cy=\"106.5\" fill=\"yellow\" r=\"1.5\" stroke=\"orange\" stroke-width=\"1\" /></svg>'))), FloatSlider(value=0.0, layout=Layout(height='30px', padding='0px 0px 0px 10px', width='260px'), readout=False))), VBox(children=(Image(value=b'\\x89PNG\\r\\n\\x1a\\n\\x00\\x00\\x00\\rIHDR\\x00\\x00\\x00<\\x00\\x00\\x00(\\x08\\x02\\x00\\x00\\x00-\\xd9\\x0e\\xa8\\x00\\x00\\x00\\xf6IDATx\\x9c\\xed\\xd6\\xaf\\x0b\\xc2@\\x14\\xc0\\xf1\\xf7\\xee\\xdd\\xfev\\xcb\\xa2\\xc5\\x81`\\x11\\x86\\xa0e0\\x8bAA\\x83A\\x8bA\\x8b\\xc1b\\x12\\x8b\\xc94\\xc3\\xa9\\xccMn:\\x8f7\\x0f\\xde\\'\\x8c\\x85\\xfd\\xf8\\xf2\\x06\\xbb\\xc3\\xe1\\xee\\x08\\xbeQM\\x07\\xd4!\\xd1\\\\$\\x9a\\x8bDs\\x91h.^F\\xeb\\xa6\\x03\\xdeS\\xdb%\"\\x02\\x809\\x16N\\x9a\\x8c\\xbe\\xae\\xa7\\x88\\xa8\\x94\\xc2\\x12\\xfb\\x8d\\xdc\\xd1\\xa7Y\\x12\\x04\\x01\\x11)\\xa5\\x88\\xa8\\xdeC\\xaa\\xa3\\x0fi\\\\\\x1eC\\xfe\\xc4\\\\V9\\x1e\\x00\\xc8\\xb2\\xacvh\\xdeK\\xf4&\\x8e\\xcc\\x0c\\x9e\\xcc\\xe7\\xfb\\xfd5n\\xe9E\\x14j\\xad\\xb5\\xd6D\\xe4d\\x0c\\x0c\\xfen\\x8a\\x9f\\x90h.\\x12\\xcdE\\xa2\\xb9\\xe0\\xf9\\xb2\\x07\\x80\\xb0\\xd5\\xa5\\x87\\xf2\\xe2\\xe2vE\\xcc/\\xe3\\x96\\xbd\\x87e\\xc3t\\x8f.\\xe8\\xb4\\x07\\xfeE[\\xf4{\\xa9\\x7f\\xd1N$\\xa3\\xb9\\x7f\\xd1\\x05\\x93\\xf1\\xca\\xbf\\xe8oy\\xf9\\xcb\\x93h.\\x12\\xcdE\\xa2\\xb9H4\\x17/\\xa3o\\xb3~8\\x87\\xea\\xaf#\\xce\\x00\\x00\\x00\\x00IEND\\xaeB`\\x82', width='240'), FloatSlider(value=0.0, layout=Layout(height='20px', padding='0px 0px 0px 0px', width='248px'), readout=False))))))), HBox(children=(Button(icon='step-forward', style=ButtonStyle()), Play(value=0, max=1000000), Button(description='Clear Output', style=ButtonStyle()))), Output()))"
      ]
     },
     "metadata": {},
     "output_type": "display_data"
    }
   ],
   "source": [
    "sim = VSimulator(robot, worldf)"
   ]
  },
  {
   "cell_type": "code",
   "execution_count": 6,
   "metadata": {},
   "outputs": [],
   "source": [
    "camera = robot.device[\"camera\"]"
   ]
  },
  {
   "cell_type": "code",
   "execution_count": 7,
   "metadata": {},
   "outputs": [
    {
     "data": {
      "image/png": "[encoded data removed]",
      "text/plain": [
       "<PIL.Image.Image image mode=RGB size=60x40 at 0x7F26B7807160>"
      ]
     },
     "execution_count": 7,
     "metadata": {},
     "output_type": "execute_result"
    }
   ],
   "source": [
    "image = camera.getImage()\n",
    "image"
   ]
  },
  {
   "cell_type": "code",
   "execution_count": 8,
   "metadata": {},
   "outputs": [
    {
     "data": {
      "text/plain": [
       "(60, 40)"
      ]
     },
     "execution_count": 8,
     "metadata": {},
     "output_type": "execute_result"
    }
   ],
   "source": [
    "image.size"
   ]
  },
  {
   "cell_type": "code",
   "execution_count": 9,
   "metadata": {},
   "outputs": [
    {
     "data": {
      "text/plain": [
       "(40, 60, 3)"
      ]
     },
     "execution_count": 9,
     "metadata": {},
     "output_type": "execute_result"
    }
   ],
   "source": [
    "data = camera.getData()\n",
    "data.shape"
   ]
  },
  {
   "cell_type": "code",
   "execution_count": 10,
   "metadata": {},
   "outputs": [],
   "source": [
    "robot.move(0.50, 0.35)"
   ]
  },
  {
   "cell_type": "code",
   "execution_count": 11,
   "metadata": {},
   "outputs": [],
   "source": [
    "sim.step()"
   ]
  },
  {
   "cell_type": "code",
   "execution_count": 12,
   "metadata": {},
   "outputs": [],
   "source": [
    "def random_action():\n",
    "    \"\"\"Generate a random action from a limited set of possible settings\"\"\"\n",
    "    possible = [-1.0, -0.5, 0.0, 0.5, 1.0]\n",
    "    return [random.choice(possible), random.choice(possible)]\n",
    "\n",
    "def get_senses(robot):\n",
    "    light = robot[\"light\"].getData()\n",
    "    sonar = [v/3.0 for v in robot[\"sonar\"].getData()]\n",
    "    camera = robot[\"camera\"].getData()\n",
    "    return [light, sonar, camera]"
   ]
  },
  {
   "cell_type": "code",
   "execution_count": 13,
   "metadata": {},
   "outputs": [
    {
     "data": {
      "text/plain": [
       "[2, 16, 40]"
      ]
     },
     "execution_count": 13,
     "metadata": {},
     "output_type": "execute_result"
    }
   ],
   "source": [
    "senses = get_senses(robot)\n",
    "list(map(len, senses))"
   ]
  },
  {
   "cell_type": "code",
   "execution_count": 14,
   "metadata": {},
   "outputs": [],
   "source": [
    "def brain(robot):\n",
    "    senses = get_senses(robot)\n",
    "    net.propagate(senses)\n",
    "    translate, rotate = random_action()\n",
    "    #self.move(translate, rotate)\n",
    "    robot.move(0.50, 0.35)"
   ]
  },
  {
   "cell_type": "code",
   "execution_count": 15,
   "metadata": {},
   "outputs": [],
   "source": [
    "robot.brain = brain"
   ]
  },
  {
   "cell_type": "code",
   "execution_count": 16,
   "metadata": {},
   "outputs": [
    {
     "name": "stderr",
     "output_type": "stream",
     "text": [
      "conx, version 3.2.1\n",
      "Using Theano backend.\n"
     ]
    }
   ],
   "source": [
    "from conx import Network, Layer, FlattenLayer, SGD, ImageLayer, Conv2DLayer\n",
    "import numpy as np"
   ]
  },
  {
   "cell_type": "code",
   "execution_count": 17,
   "metadata": {},
   "outputs": [],
   "source": [
    "net = Network(\"Robot Prediction Network\")\n",
    "net.add(Layer(\"light\", 2))\n",
    "net.add(Layer(\"sonar\", 16))\n",
    "net.add(ImageLayer(\"camera\", (40,60), 3))\n",
    "net.add(FlattenLayer(\"flatten\"))\n",
    "net.add(Conv2DLayer(\"conv\", 16, (3,3)))\n",
    "net.add(Layer(\"hidden\", 50, activation=\"relu\"))\n",
    "net.add(Layer(\"output1\", 2, activation=\"sigmoid\"))\n",
    "net.add(Layer(\"hidden2\", 5, activation=\"sigmoid\"))\n",
    "net.add(Layer(\"hidden3\", 10, activation=\"sigmoid\", dropout=0.25))\n",
    "net.add(Layer(\"hidden4\", 10, activation=\"sigmoid\"))\n",
    "net.add(Layer(\"output2\", 5, activation=\"sigmoid\"))"
   ]
  },
  {
   "cell_type": "code",
   "execution_count": 18,
   "metadata": {},
   "outputs": [],
   "source": [
    "net.connect(\"sonar\", \"hidden2\")\n",
    "net.connect(\"light\", \"hidden\")\n",
    "net.connect(\"camera\", \"conv\")\n",
    "net.connect(\"conv\", \"flatten\")\n",
    "net.connect(\"flatten\", \"hidden2\")\n",
    "net.connect(\"hidden\", \"hidden2\")\n",
    "net.connect(\"hidden2\", \"hidden3\")\n",
    "##net.connect(\"hidden2\", \"output2\")\n",
    "net.connect(\"hidden3\", \"output2\")\n",
    "net.connect(\"hidden3\", \"hidden4\")\n",
    "net.connect(\"hidden4\", \"output1\")"
   ]
  },
  {
   "cell_type": "code",
   "execution_count": 19,
   "metadata": {},
   "outputs": [],
   "source": [
    "net.compile(optimizer=\"adam\", error=\"mse\")\n",
    "net.config[\"hspace\"] = 200"
   ]
  },
  {
   "cell_type": "code",
   "execution_count": 20,
   "metadata": {},
   "outputs": [
    {
     "data": {
      "application/javascript": [
       "\n",
       "require(['base/js/namespace'], function(Jupyter) {\n",
       "    Jupyter.notebook.kernel.comm_manager.register_target('conx_svg_control', function(comm, msg) {\n",
       "        comm.on_msg(function(msg) {\n",
       "            var data = msg[\"content\"][\"data\"];\n",
       "            var images = document.getElementsByClassName(data[\"class\"]);\n",
       "            for (var i = 0; i < images.length; i++) {\n",
       "                images[i].setAttributeNS(null, \"href\", data[\"href\"]);\n",
       "            }\n",
       "        });\n",
       "    });\n",
       "});\n"
      ],
      "text/plain": [
       "<IPython.core.display.Javascript object>"
      ]
     },
     "metadata": {},
     "output_type": "display_data"
    },
    {
     "data": {
      "text/html": [
       "<svg id='Robot Prediction Network' xmlns='http://www.w3.org/2000/svg' viewBox=\"0 0 1100 664\" height=\"780\" image-rendering=\"pixelated\" style=\"\">\n",
       "    <defs>\n",
       "        <marker id=\"arrow\" markerWidth=\"10\" markerHeight=\"10\" refX=\"9\" refY=\"3\" orient=\"auto\" markerUnits=\"strokeWidth\">\n",
       "          <path d=\"M0,0 L0,6 L9,3 z\" fill=\"black\" />\n",
       "        </marker>\n",
       "    </defs><text x=\"550.0\" y=\"12.5\" font-family=\"monospace\" font-size=\"15\" text-anchor=\"middle\" alignment-baseline=\"central\">Robot Prediction Network</text><rect x=\"315.6666666666667\" y=\"29\" width=\"102\" height=\"52\" style=\"fill:none;stroke:black;stroke-width:2\"/><image id=\"Robot Prediction Network_output1_1\" class=\"Robot Prediction Network_output1\" x=\"316.6666666666667\" y=\"30\" height=\"50\" width=\"100\" preserveAspectRatio=\"none\" href=\"data:image/gif;base64,R0lGODdhAgABAIcAAM/Pz/7+/QAAAAAAAAAAAAAAAAAAAAAAAAAAAAAAAAAAAAAAAAAAAAAAAAAAAAAAAAAAAAAAAAAAAAAAAAAAAAAAAAAAAAAAAAAAAAAAAAAAAAAAAAAAAAAAAAAAAAAAAAAAAAAAAAAAAAAAAAAAAAAAAAAAAAAAAAAAAAAAAAAAAAAAAAAAAAAAAAAAAAAAAAAAAAAAAAAAAAAAAAAAAAAAAAAAAAAAAAAAAAAAAAAAAAAAAAAAAAAAAAAAAAAAAAAAAAAAAAAAAAAAAAAAAAAAAAAAAAAAAAAAAAAAAAAAAAAAAAAAAAAAAAAAAAAAAAAAAAAAAAAAAAAAAAAAAAAAAAAAAAAAAAAAAAAAAAAAAAAAAAAAAAAAAAAAAAAAAAAAAAAAAAAAAAAAAAAAAAAAAAAAAAAAAAAAAAAAAAAAAAAAAAAAAAAAAAAAAAAAAAAAAAAAAAAAAAAAAAAAAAAAAAAAAAAAAAAAAAAAAAAAAAAAAAAAAAAAAAAAAAAAAAAAAAAAAAAAAAAAAAAAAAAAAAAAAAAAAAAAAAAAAAAAAAAAAAAAAAAAAAAAAAAAAAAAAAAAAAAAAAAAAAAAAAAAAAAAAAAAAAAAAAAAAAAAAAAAAAAAAAAAAAAAAAAAAAAAAAAAAAAAAAAAAAAAAAAAAAAAAAAAAAAAAAAAAAAAAAAAAAAAAAAAAAAAAAAAAAAAAAAAAAAAAAAAAAAAAAAAAAAAAAAAAAAAAAAAAAAAAAAAAAAAAAAAAAAAAAAAAAAAAAAAAAAAAAAAAAAAAAAAAAAAAAAAAAAAAAAAAAAAAAAAAAAAAAAAAAAAAAAAAAAAAAAAAAAAAAAAAAAAAAAAAAAAAAAAAAAAAAAAAAAAAAAAAAAAAAAAAAAAAAAAAAAAAAAAAAAAAAAAAAAAAAAAAAAAAAAAAAAAAAAAAAAAAAAAAAAAAAAAAAAAAAAAAAAAAAAAAAAAAAAAAAAAAAAAAAAAAAAAAAAAAAAAAAAAAAAAAAAAAAAAAAAAAAAAACwAAAAAAgABAAAIBQADAAgIADs=\"><title>Layer: output1 (output)\n",
       " shape = (2,)\n",
       " Keras class = Dense\n",
       " activation = sigmoid</title></image><text x=\"421.6666666666667\" y=\"57.0\" font-family=\"monospace\" font-size=\"12\" text-anchor=\"start\" alignment-baseline=\"central\">output1</text><rect x=\"632.3333333333334\" y=\"29\" width=\"202\" height=\"42\" style=\"fill:none;stroke:black;stroke-width:2\"/><image id=\"Robot Prediction Network_output2_2\" class=\"Robot Prediction Network_output2\" x=\"633.3333333333334\" y=\"30\" height=\"40\" width=\"200\" preserveAspectRatio=\"none\" href=\"data:image/gif;base64,R0lGODdhBQABAIcAAP728aOjo/e2mPvSvAAAAAAAAAAAAAAAAAAAAAAAAAAAAAAAAAAAAAAAAAAAAAAAAAAAAAAAAAAAAAAAAAAAAAAAAAAAAAAAAAAAAAAAAAAAAAAAAAAAAAAAAAAAAAAAAAAAAAAAAAAAAAAAAAAAAAAAAAAAAAAAAAAAAAAAAAAAAAAAAAAAAAAAAAAAAAAAAAAAAAAAAAAAAAAAAAAAAAAAAAAAAAAAAAAAAAAAAAAAAAAAAAAAAAAAAAAAAAAAAAAAAAAAAAAAAAAAAAAAAAAAAAAAAAAAAAAAAAAAAAAAAAAAAAAAAAAAAAAAAAAAAAAAAAAAAAAAAAAAAAAAAAAAAAAAAAAAAAAAAAAAAAAAAAAAAAAAAAAAAAAAAAAAAAAAAAAAAAAAAAAAAAAAAAAAAAAAAAAAAAAAAAAAAAAAAAAAAAAAAAAAAAAAAAAAAAAAAAAAAAAAAAAAAAAAAAAAAAAAAAAAAAAAAAAAAAAAAAAAAAAAAAAAAAAAAAAAAAAAAAAAAAAAAAAAAAAAAAAAAAAAAAAAAAAAAAAAAAAAAAAAAAAAAAAAAAAAAAAAAAAAAAAAAAAAAAAAAAAAAAAAAAAAAAAAAAAAAAAAAAAAAAAAAAAAAAAAAAAAAAAAAAAAAAAAAAAAAAAAAAAAAAAAAAAAAAAAAAAAAAAAAAAAAAAAAAAAAAAAAAAAAAAAAAAAAAAAAAAAAAAAAAAAAAAAAAAAAAAAAAAAAAAAAAAAAAAAAAAAAAAAAAAAAAAAAAAAAAAAAAAAAAAAAAAAAAAAAAAAAAAAAAAAAAAAAAAAAAAAAAAAAAAAAAAAAAAAAAAAAAAAAAAAAAAAAAAAAAAAAAAAAAAAAAAAAAAAAAAAAAAAAAAAAAAAAAAAAAAAAAAAAAAAAAAAAAAAAAAAAAAAAAAAAAAAAAAAAAAAAAAAAAAAAAAAAAAAAAAAAAAAAAAAAAAAAAAAAAAAAAAAAAAAAAAAAAAAAAAAAAAAAAAAAAAAAAAAAAAAAAAAAAAAACwAAAAABQABAAAICAABDBAQAEBAADs=\"><title>Layer: output2 (output)\n",
       " shape = (5,)\n",
       " Keras class = Dense\n",
       " activation = sigmoid</title></image><text x=\"838.3333333333334\" y=\"52.0\" font-family=\"monospace\" font-size=\"12\" text-anchor=\"start\" alignment-baseline=\"central\">output2</text><line x1=\"366.6666666666667\" y1=\"109\" x2=\"366.6666666666667\" y2=\"82\" stroke=\"black\" stroke-width=\"2\" marker-end=\"url(#arrow)\"><title>Weights from hidden4 to output1\n",
       " output1/kernel has shape (10, 2)\n",
       " output1/bias has shape (2,)</title></line><rect x=\"265.6666666666667\" y=\"109\" width=\"202\" height=\"27\" style=\"fill:none;stroke:black;stroke-width:2\"/><image id=\"Robot Prediction Network_hidden4_3\" class=\"Robot Prediction Network_hidden4\" x=\"266.6666666666667\" y=\"110\" height=\"25\" width=\"200\" preserveAspectRatio=\"none\" href=\"data:image/gif;base64,R0lGODdhCgABAIcAAPr08fa3mv3i0cjIyNLS0uHh4QAAAAAAAAAAAAAAAAAAAAAAAAAAAAAAAAAAAAAAAAAAAAAAAAAAAAAAAAAAAAAAAAAAAAAAAAAAAAAAAAAAAAAAAAAAAAAAAAAAAAAAAAAAAAAAAAAAAAAAAAAAAAAAAAAAAAAAAAAAAAAAAAAAAAAAAAAAAAAAAAAAAAAAAAAAAAAAAAAAAAAAAAAAAAAAAAAAAAAAAAAAAAAAAAAAAAAAAAAAAAAAAAAAAAAAAAAAAAAAAAAAAAAAAAAAAAAAAAAAAAAAAAAAAAAAAAAAAAAAAAAAAAAAAAAAAAAAAAAAAAAAAAAAAAAAAAAAAAAAAAAAAAAAAAAAAAAAAAAAAAAAAAAAAAAAAAAAAAAAAAAAAAAAAAAAAAAAAAAAAAAAAAAAAAAAAAAAAAAAAAAAAAAAAAAAAAAAAAAAAAAAAAAAAAAAAAAAAAAAAAAAAAAAAAAAAAAAAAAAAAAAAAAAAAAAAAAAAAAAAAAAAAAAAAAAAAAAAAAAAAAAAAAAAAAAAAAAAAAAAAAAAAAAAAAAAAAAAAAAAAAAAAAAAAAAAAAAAAAAAAAAAAAAAAAAAAAAAAAAAAAAAAAAAAAAAAAAAAAAAAAAAAAAAAAAAAAAAAAAAAAAAAAAAAAAAAAAAAAAAAAAAAAAAAAAAAAAAAAAAAAAAAAAAAAAAAAAAAAAAAAAAAAAAAAAAAAAAAAAAAAAAAAAAAAAAAAAAAAAAAAAAAAAAAAAAAAAAAAAAAAAAAAAAAAAAAAAAAAAAAAAAAAAAAAAAAAAAAAAAAAAAAAAAAAAAAAAAAAAAAAAAAAAAAAAAAAAAAAAAAAAAAAAAAAAAAAAAAAAAAAAAAAAAAAAAAAAAAAAAAAAAAAAAAAAAAAAAAAAAAAAAAAAAAAAAAAAAAAAAAAAAAAAAAAAAAAAAAAAAAAAAAAAAAAAAAAAAAAAAAAAAAAAAAAAAAAAAAAAAAAAAAAAAAAAAAAAAAAAAAAAAAAAAAAAAAAAAAAAACwAAAAACgABAAAIDgABDAAgIACAAAUEEAgIADs=\"><title>Layer: hidden4 (hidden)\n",
       " shape = (10,)\n",
       " Keras class = Dense\n",
       " activation = sigmoid</title></image><text x=\"471.6666666666667\" y=\"124.5\" font-family=\"monospace\" font-size=\"12\" text-anchor=\"start\" alignment-baseline=\"central\">hidden4</text><line x1=\"733.3333333333334\" y1=\"110\" x2=\"733.3333333333334\" y2=\"70\" stroke=\"red\" stroke-width=\"2\" marker-end=\"url(#arrow)\"><title>Weights from hidden4 to output1\n",
       " output1/kernel has shape (10, 2)\n",
       " output1/bias has shape (2,)</title></line><line x1=\"550.0\" y1=\"164\" x2=\"733.3333333333334\" y2=\"110\" stroke=\"red\" stroke-width=\"2\"><title>TODO</title></line><line x1=\"550.0\" y1=\"164\" x2=\"366.6666666666667\" y2=\"137\" stroke=\"red\" stroke-width=\"2\" marker-end=\"url(#arrow)\"><title>Weights from hidden3 to hidden4\n",
       " hidden4/kernel has shape (10, 10)\n",
       " hidden4/bias has shape (10,)</title></line><rect x=\"449.0\" y=\"164\" width=\"202\" height=\"27\" style=\"fill:none;stroke:black;stroke-width:2\"/><image id=\"Robot Prediction Network_hidden3_4\" class=\"Robot Prediction Network_hidden3\" x=\"450.0\" y=\"165\" height=\"25\" width=\"200\" preserveAspectRatio=\"none\" href=\"data:image/gif;base64,R0lGODdhCgABAIcAAPz59vzZxu/n49LS0vvUvgAAAAAAAAAAAAAAAAAAAAAAAAAAAAAAAAAAAAAAAAAAAAAAAAAAAAAAAAAAAAAAAAAAAAAAAAAAAAAAAAAAAAAAAAAAAAAAAAAAAAAAAAAAAAAAAAAAAAAAAAAAAAAAAAAAAAAAAAAAAAAAAAAAAAAAAAAAAAAAAAAAAAAAAAAAAAAAAAAAAAAAAAAAAAAAAAAAAAAAAAAAAAAAAAAAAAAAAAAAAAAAAAAAAAAAAAAAAAAAAAAAAAAAAAAAAAAAAAAAAAAAAAAAAAAAAAAAAAAAAAAAAAAAAAAAAAAAAAAAAAAAAAAAAAAAAAAAAAAAAAAAAAAAAAAAAAAAAAAAAAAAAAAAAAAAAAAAAAAAAAAAAAAAAAAAAAAAAAAAAAAAAAAAAAAAAAAAAAAAAAAAAAAAAAAAAAAAAAAAAAAAAAAAAAAAAAAAAAAAAAAAAAAAAAAAAAAAAAAAAAAAAAAAAAAAAAAAAAAAAAAAAAAAAAAAAAAAAAAAAAAAAAAAAAAAAAAAAAAAAAAAAAAAAAAAAAAAAAAAAAAAAAAAAAAAAAAAAAAAAAAAAAAAAAAAAAAAAAAAAAAAAAAAAAAAAAAAAAAAAAAAAAAAAAAAAAAAAAAAAAAAAAAAAAAAAAAAAAAAAAAAAAAAAAAAAAAAAAAAAAAAAAAAAAAAAAAAAAAAAAAAAAAAAAAAAAAAAAAAAAAAAAAAAAAAAAAAAAAAAAAAAAAAAAAAAAAAAAAAAAAAAAAAAAAAAAAAAAAAAAAAAAAAAAAAAAAAAAAAAAAAAAAAAAAAAAAAAAAAAAAAAAAAAAAAAAAAAAAAAAAAAAAAAAAAAAAAAAAAAAAAAAAAAAAAAAAAAAAAAAAAAAAAAAAAAAAAAAAAAAAAAAAAAAAAAAAAAAAAAAAAAAAAAAAAAAAAAAAAAAAAAAAAAAAAAAAAAAAAAAAAAAAAAAAAAAAAAAAAAAAAAAAAAAAAAAAAAAAAAAAAAAAAAAAAAAAAAAAAAAAAACwAAAAACgABAAAIDgAJCAAAIAAAAQMABAgIADs=\"><title>Layer: hidden3 (hidden)\n",
       " shape = (10,)\n",
       " dropout = 0.25\n",
       " Keras class = Dense\n",
       " activation = sigmoid</title></image><text x=\"655.0\" y=\"179.5\" font-family=\"monospace\" font-size=\"12\" text-anchor=\"start\" alignment-baseline=\"central\">hidden3</text><line x1=\"550.0\" y1=\"219\" x2=\"550.0\" y2=\"192\" stroke=\"black\" stroke-width=\"2\" marker-end=\"url(#arrow)\"><title>Weights from hidden2 to hidden3\n",
       " hidden3/kernel has shape (5, 10)\n",
       " hidden3/bias has shape (10,)</title></line><rect x=\"449.0\" y=\"219\" width=\"202\" height=\"42\" style=\"fill:none;stroke:black;stroke-width:2\"/><image id=\"Robot Prediction Network_hidden2_5\" class=\"Robot Prediction Network_hidden2\" x=\"450.0\" y=\"220\" height=\"40\" width=\"200\" preserveAspectRatio=\"none\" href=\"data:image/gif;base64,R0lGODdhBQABAIcAAP7+/QAAAAAAAAAAAAAAAAAAAAAAAAAAAAAAAAAAAAAAAAAAAAAAAAAAAAAAAAAAAAAAAAAAAAAAAAAAAAAAAAAAAAAAAAAAAAAAAAAAAAAAAAAAAAAAAAAAAAAAAAAAAAAAAAAAAAAAAAAAAAAAAAAAAAAAAAAAAAAAAAAAAAAAAAAAAAAAAAAAAAAAAAAAAAAAAAAAAAAAAAAAAAAAAAAAAAAAAAAAAAAAAAAAAAAAAAAAAAAAAAAAAAAAAAAAAAAAAAAAAAAAAAAAAAAAAAAAAAAAAAAAAAAAAAAAAAAAAAAAAAAAAAAAAAAAAAAAAAAAAAAAAAAAAAAAAAAAAAAAAAAAAAAAAAAAAAAAAAAAAAAAAAAAAAAAAAAAAAAAAAAAAAAAAAAAAAAAAAAAAAAAAAAAAAAAAAAAAAAAAAAAAAAAAAAAAAAAAAAAAAAAAAAAAAAAAAAAAAAAAAAAAAAAAAAAAAAAAAAAAAAAAAAAAAAAAAAAAAAAAAAAAAAAAAAAAAAAAAAAAAAAAAAAAAAAAAAAAAAAAAAAAAAAAAAAAAAAAAAAAAAAAAAAAAAAAAAAAAAAAAAAAAAAAAAAAAAAAAAAAAAAAAAAAAAAAAAAAAAAAAAAAAAAAAAAAAAAAAAAAAAAAAAAAAAAAAAAAAAAAAAAAAAAAAAAAAAAAAAAAAAAAAAAAAAAAAAAAAAAAAAAAAAAAAAAAAAAAAAAAAAAAAAAAAAAAAAAAAAAAAAAAAAAAAAAAAAAAAAAAAAAAAAAAAAAAAAAAAAAAAAAAAAAAAAAAAAAAAAAAAAAAAAAAAAAAAAAAAAAAAAAAAAAAAAAAAAAAAAAAAAAAAAAAAAAAAAAAAAAAAAAAAAAAAAAAAAAAAAAAAAAAAAAAAAAAAAAAAAAAAAAAAAAAAAAAAAAAAAAAAAAAAAAAAAAAAAAAAAAAAAAAAAAAAAAAAAAAAAAAAAAAAAAAAAAAAAAAAAAAAAAAAAAAAAAAAAAAAAAAAAAAAAAAAAAAAAAAAAAACwAAAAABQABAAAIBgABCBQYEAA7\"><title>Layer: hidden2 (hidden)\n",
       " shape = (5,)\n",
       " Keras class = Dense\n",
       " activation = sigmoid</title></image><text x=\"655.0\" y=\"242.0\" font-family=\"monospace\" font-size=\"12\" text-anchor=\"start\" alignment-baseline=\"central\">hidden2</text><line x1=\"275.0\" y1=\"290\" x2=\"550.0\" y2=\"260\" stroke=\"black\" stroke-width=\"2\" marker-end=\"url(#arrow)\"><title>Weights from hidden2 to hidden3\n",
       " hidden3/kernel has shape (5, 10)\n",
       " hidden3/bias has shape (10,)</title></line><line x1=\"550.0\" y1=\"290\" x2=\"550.0\" y2=\"260\" stroke=\"black\" stroke-width=\"2\" marker-end=\"url(#arrow)\"><title>Weights from hidden2 to hidden3\n",
       " hidden3/kernel has shape (5, 10)\n",
       " hidden3/bias has shape (10,)</title></line><line x1=\"825.0\" y1=\"289\" x2=\"550.0\" y2=\"262\" stroke=\"black\" stroke-width=\"2\" marker-end=\"url(#arrow)\"><title>Weights from flatten to hidden2\n",
       " hidden2/kernel has shape (35330, 5)\n",
       " hidden2/bias has shape (5,)</title></line><rect x=\"724.0\" y=\"289\" width=\"202\" height=\"27\" style=\"fill:none;stroke:black;stroke-width:2\"/><image id=\"Robot Prediction Network_flatten_6\" class=\"Robot Prediction Network_flatten\" x=\"725.0\" y=\"290\" height=\"25\" width=\"200\" preserveAspectRatio=\"none\" href=\"data:image/gif;base64,R0lGODdhwIkBAIcAAP7+/QAAAAAAAAAAAAAAAAAAAAAAAAAAAAAAAAAAAAAAAAAAAAAAAAAAAAAAAAAAAAAAAAAAAAAAAAAAAAAAAAAAAAAAAAAAAAAAAAAAAAAAAAAAAAAAAAAAAAAAAAAAAAAAAAAAAAAAAAAAAAAAAAAAAAAAAAAAAAAAAAAAAAAAAAAAAAAAAAAAAAAAAAAAAAAAAAAAAAAAAAAAAAAAAAAAAAAAAAAAAAAAAAAAAAAAAAAAAAAAAAAAAAAAAAAAAAAAAAAAAAAAAAAAAAAAAAAAAAAAAAAAAAAAAAAAAAAAAAAAAAAAAAAAAAAAAAAAAAAAAAAAAAAAAAAAAAAAAAAAAAAAAAAAAAAAAAAAAAAAAAAAAAAAAAAAAAAAAAAAAAAAAAAAAAAAAAAAAAAAAAAAAAAAAAAAAAAAAAAAAAAAAAAAAAAAAAAAAAAAAAAAAAAAAAAAAAAAAAAAAAAAAAAAAAAAAAAAAAAAAAAAAAAAAAAAAAAAAAAAAAAAAAAAAAAAAAAAAAAAAAAAAAAAAAAAAAAAAAAAAAAAAAAAAAAAAAAAAAAAAAAAAAAAAAAAAAAAAAAAAAAAAAAAAAAAAAAAAAAAAAAAAAAAAAAAAAAAAAAAAAAAAAAAAAAAAAAAAAAAAAAAAAAAAAAAAAAAAAAAAAAAAAAAAAAAAAAAAAAAAAAAAAAAAAAAAAAAAAAAAAAAAAAAAAAAAAAAAAAAAAAAAAAAAAAAAAAAAAAAAAAAAAAAAAAAAAAAAAAAAAAAAAAAAAAAAAAAAAAAAAAAAAAAAAAAAAAAAAAAAAAAAAAAAAAAAAAAAAAAAAAAAAAAAAAAAAAAAAAAAAAAAAAAAAAAAAAAAAAAAAAAAAAAAAAAAAAAAAAAAAAAAAAAAAAAAAAAAAAAAAAAAAAAAAAAAAAAAAAAAAAAAAAAAAAAAAAAAAAAAAAAAAAAAAAAAAAAAAAAAAAAAAAAAAAAAAAAAAAAAAAAAAAAAAAAAAAAAAAAAAAAAAAAAAAAAAAAAAAAACwAAAAAwIkBAAAI/wABCBxIsKDBgwgTKlzIsKHDhxAjSpxIsaLFixgzatzIsaPHjyBDihxJsqTJkyhTqlzJsqXLlzBjypxJs6bNmzhz6tzJs6fPn0CDCh1KtKjRo0iTKl3KtKnTp1CjSp1KtarVq1izat3KtavXr2DDih1LtqzZs2jTql3Ltq3bt3Djyp1Lt67du3jz6t3Lt6/fv4ADCx5MuLDhw4gTK17MuLHjx5AjS55MubLly5gza97MubPnz6BDix5NurTp06hTq17NurXr17Bjy55Nu7bt27hz697Nu7fv38CDCx9OvLjx48iTK1/OvLnz59CjS59Ovbr169iza9/Ovbv37+DDi3gfT768+fPo06tfz769+/fw48ufT7++/fv48+vfz7+/f4AABA4kWNDgQYQJFS5k2NDhQ4gRJU6kWNHiRYwZNW7k2NHjR5AhRY4kWdLkSZQpVa5k2dLlS5gxZc6kWdPmTZw5de7k2dPnT6BBhQ4lWtToUaRJlS7tGBAAOw==\"><title>Layer: flatten (hidden)\n",
       " Keras class = Flatten</title></image><text x=\"930.0\" y=\"304.5\" font-family=\"monospace\" font-size=\"12\" text-anchor=\"start\" alignment-baseline=\"central\">flatten</text><line x1=\"275.0\" y1=\"344\" x2=\"275.0\" y2=\"290\" stroke=\"black\" stroke-width=\"2\"><title>TODO</title></line><rect x=\"174.0\" y=\"344\" width=\"202\" height=\"27\" style=\"fill:none;stroke:black;stroke-width:2\"/><image id=\"Robot Prediction Network_hidden_7\" class=\"Robot Prediction Network_hidden\" x=\"175.0\" y=\"345\" height=\"25\" width=\"200\" preserveAspectRatio=\"none\" href=\"data:image/gif;base64,R0lGODdhMgABAIcAAP7+/QAAAAAAAAAAAAAAAAAAAAAAAAAAAAAAAAAAAAAAAAAAAAAAAAAAAAAAAAAAAAAAAAAAAAAAAAAAAAAAAAAAAAAAAAAAAAAAAAAAAAAAAAAAAAAAAAAAAAAAAAAAAAAAAAAAAAAAAAAAAAAAAAAAAAAAAAAAAAAAAAAAAAAAAAAAAAAAAAAAAAAAAAAAAAAAAAAAAAAAAAAAAAAAAAAAAAAAAAAAAAAAAAAAAAAAAAAAAAAAAAAAAAAAAAAAAAAAAAAAAAAAAAAAAAAAAAAAAAAAAAAAAAAAAAAAAAAAAAAAAAAAAAAAAAAAAAAAAAAAAAAAAAAAAAAAAAAAAAAAAAAAAAAAAAAAAAAAAAAAAAAAAAAAAAAAAAAAAAAAAAAAAAAAAAAAAAAAAAAAAAAAAAAAAAAAAAAAAAAAAAAAAAAAAAAAAAAAAAAAAAAAAAAAAAAAAAAAAAAAAAAAAAAAAAAAAAAAAAAAAAAAAAAAAAAAAAAAAAAAAAAAAAAAAAAAAAAAAAAAAAAAAAAAAAAAAAAAAAAAAAAAAAAAAAAAAAAAAAAAAAAAAAAAAAAAAAAAAAAAAAAAAAAAAAAAAAAAAAAAAAAAAAAAAAAAAAAAAAAAAAAAAAAAAAAAAAAAAAAAAAAAAAAAAAAAAAAAAAAAAAAAAAAAAAAAAAAAAAAAAAAAAAAAAAAAAAAAAAAAAAAAAAAAAAAAAAAAAAAAAAAAAAAAAAAAAAAAAAAAAAAAAAAAAAAAAAAAAAAAAAAAAAAAAAAAAAAAAAAAAAAAAAAAAAAAAAAAAAAAAAAAAAAAAAAAAAAAAAAAAAAAAAAAAAAAAAAAAAAAAAAAAAAAAAAAAAAAAAAAAAAAAAAAAAAAAAAAAAAAAAAAAAAAAAAAAAAAAAAAAAAAAAAAAAAAAAAAAAAAAAAAAAAAAAAAAAAAAAAAAAAAAAAAAAAAAAAAAAAAAAAAAAAAAAAAAAAAAAAAAAAAAAAAAAAAAAAAAAAAAAAAAAAAAAAAAAAAAAAAACwAAAAAMgABAAAIDgABCBxIsKDBgwgTFgwIADs=\"><title>Layer: hidden (hidden)\n",
       " shape = (50,)\n",
       " Keras class = Dense\n",
       " activation = relu</title></image><text x=\"380.0\" y=\"359.5\" font-family=\"monospace\" font-size=\"12\" text-anchor=\"start\" alignment-baseline=\"central\">hidden</text><line x1=\"550.0\" y1=\"345\" x2=\"550.0\" y2=\"290\" stroke=\"black\" stroke-width=\"2\"><title>TODO</title></line><line x1=\"825.0\" y1=\"344\" x2=\"825.0\" y2=\"317\" stroke=\"black\" stroke-width=\"2\" marker-end=\"url(#arrow)\"><title>Weights from conv to flatten</title></line><rect x=\"724.0\" y=\"344\" width=\"202\" height=\"133\" style=\"fill:none;stroke:black;stroke-width:2\"/><image id=\"Robot Prediction Network_conv_8\" class=\"Robot Prediction Network_conv\" x=\"725.0\" y=\"345\" height=\"131\" width=\"200\" preserveAspectRatio=\"none\" href=\"data:image/gif;base64,R0lGODdhOgAmAIcAAP7+/QAAAAAAAAAAAAAAAAAAAAAAAAAAAAAAAAAAAAAAAAAAAAAAAAAAAAAAAAAAAAAAAAAAAAAAAAAAAAAAAAAAAAAAAAAAAAAAAAAAAAAAAAAAAAAAAAAAAAAAAAAAAAAAAAAAAAAAAAAAAAAAAAAAAAAAAAAAAAAAAAAAAAAAAAAAAAAAAAAAAAAAAAAAAAAAAAAAAAAAAAAAAAAAAAAAAAAAAAAAAAAAAAAAAAAAAAAAAAAAAAAAAAAAAAAAAAAAAAAAAAAAAAAAAAAAAAAAAAAAAAAAAAAAAAAAAAAAAAAAAAAAAAAAAAAAAAAAAAAAAAAAAAAAAAAAAAAAAAAAAAAAAAAAAAAAAAAAAAAAAAAAAAAAAAAAAAAAAAAAAAAAAAAAAAAAAAAAAAAAAAAAAAAAAAAAAAAAAAAAAAAAAAAAAAAAAAAAAAAAAAAAAAAAAAAAAAAAAAAAAAAAAAAAAAAAAAAAAAAAAAAAAAAAAAAAAAAAAAAAAAAAAAAAAAAAAAAAAAAAAAAAAAAAAAAAAAAAAAAAAAAAAAAAAAAAAAAAAAAAAAAAAAAAAAAAAAAAAAAAAAAAAAAAAAAAAAAAAAAAAAAAAAAAAAAAAAAAAAAAAAAAAAAAAAAAAAAAAAAAAAAAAAAAAAAAAAAAAAAAAAAAAAAAAAAAAAAAAAAAAAAAAAAAAAAAAAAAAAAAAAAAAAAAAAAAAAAAAAAAAAAAAAAAAAAAAAAAAAAAAAAAAAAAAAAAAAAAAAAAAAAAAAAAAAAAAAAAAAAAAAAAAAAAAAAAAAAAAAAAAAAAAAAAAAAAAAAAAAAAAAAAAAAAAAAAAAAAAAAAAAAAAAAAAAAAAAAAAAAAAAAAAAAAAAAAAAAAAAAAAAAAAAAAAAAAAAAAAAAAAAAAAAAAAAAAAAAAAAAAAAAAAAAAAAAAAAAAAAAAAAAAAAAAAAAAAAAAAAAAAAAAAAAAAAAAAAAAAAAAAAAAAAAAAAAAAAAAAAAAAAAAAAAAAAAAAAAAAAAAACwAAAAAOgAmAEAITQABCBxIsKDBgwgTKlzIsKHDhxAjSpxIsaLFixgzatzIsaPHjyBDihxJsqTJkyhTqlzJsqXLlzBjypxJs6bNmzhz6tzJs6fPn0CD7gwIADs=\"><title>Layer: conv (hidden)\n",
       " Keras class = Conv2D</title></image><text x=\"930.0\" y=\"412.5\" font-family=\"monospace\" font-size=\"12\" text-anchor=\"start\" alignment-baseline=\"central\">conv</text><text x=\"930.0\" y=\"350\" font-family=\"monospace\" font-size=\"12\" text-anchor=\"start\" alignment-baseline=\"central\">16</text><text x=\"713.0\" y=\"471\" font-family=\"monospace\" font-size=\"12\" text-anchor=\"start\" alignment-baseline=\"central\">0</text><line x1=\"275.0\" y1=\"505\" x2=\"275.0\" y2=\"372\" stroke=\"black\" stroke-width=\"2\" marker-end=\"url(#arrow)\"><title>Weights from light to hidden\n",
       " hidden/kernel has shape (2, 50)\n",
       " hidden/bias has shape (50,)</title></line><rect x=\"224.0\" y=\"505\" width=\"102\" height=\"52\" style=\"fill:none;stroke:black;stroke-width:2\"/><image id=\"Robot Prediction Network_light_9\" class=\"Robot Prediction Network_light\" x=\"225.0\" y=\"506\" height=\"50\" width=\"100\" preserveAspectRatio=\"none\" href=\"data:image/gif;base64,R0lGODdhAgABAIcAAP7+/QAAAAAAAAAAAAAAAAAAAAAAAAAAAAAAAAAAAAAAAAAAAAAAAAAAAAAAAAAAAAAAAAAAAAAAAAAAAAAAAAAAAAAAAAAAAAAAAAAAAAAAAAAAAAAAAAAAAAAAAAAAAAAAAAAAAAAAAAAAAAAAAAAAAAAAAAAAAAAAAAAAAAAAAAAAAAAAAAAAAAAAAAAAAAAAAAAAAAAAAAAAAAAAAAAAAAAAAAAAAAAAAAAAAAAAAAAAAAAAAAAAAAAAAAAAAAAAAAAAAAAAAAAAAAAAAAAAAAAAAAAAAAAAAAAAAAAAAAAAAAAAAAAAAAAAAAAAAAAAAAAAAAAAAAAAAAAAAAAAAAAAAAAAAAAAAAAAAAAAAAAAAAAAAAAAAAAAAAAAAAAAAAAAAAAAAAAAAAAAAAAAAAAAAAAAAAAAAAAAAAAAAAAAAAAAAAAAAAAAAAAAAAAAAAAAAAAAAAAAAAAAAAAAAAAAAAAAAAAAAAAAAAAAAAAAAAAAAAAAAAAAAAAAAAAAAAAAAAAAAAAAAAAAAAAAAAAAAAAAAAAAAAAAAAAAAAAAAAAAAAAAAAAAAAAAAAAAAAAAAAAAAAAAAAAAAAAAAAAAAAAAAAAAAAAAAAAAAAAAAAAAAAAAAAAAAAAAAAAAAAAAAAAAAAAAAAAAAAAAAAAAAAAAAAAAAAAAAAAAAAAAAAAAAAAAAAAAAAAAAAAAAAAAAAAAAAAAAAAAAAAAAAAAAAAAAAAAAAAAAAAAAAAAAAAAAAAAAAAAAAAAAAAAAAAAAAAAAAAAAAAAAAAAAAAAAAAAAAAAAAAAAAAAAAAAAAAAAAAAAAAAAAAAAAAAAAAAAAAAAAAAAAAAAAAAAAAAAAAAAAAAAAAAAAAAAAAAAAAAAAAAAAAAAAAAAAAAAAAAAAAAAAAAAAAAAAAAAAAAAAAAAAAAAAAAAAAAAAAAAAAAAAAAAAAAAAAAAAAAAAAAAAAAAAAAAAAAAAAAAAAAAAAAAAAAAAAAAAAAAAAAAAAAAAAAAAAAAAAAACwAAAAAAgABAAAIBQABAAgIADs=\"><title>Layer: light (input)\n",
       " shape = (2,)\n",
       " Keras class = Input</title></image><text x=\"330.0\" y=\"533.0\" font-family=\"monospace\" font-size=\"12\" text-anchor=\"start\" alignment-baseline=\"central\">light</text><line x1=\"550.0\" y1=\"505\" x2=\"550.0\" y2=\"345\" stroke=\"black\" stroke-width=\"2\"><title>TODO</title></line><rect x=\"449.0\" y=\"505\" width=\"202\" height=\"27\" style=\"fill:none;stroke:black;stroke-width:2\"/><image id=\"Robot Prediction Network_sonar_10\" class=\"Robot Prediction Network_sonar\" x=\"450.0\" y=\"506\" height=\"25\" width=\"200\" preserveAspectRatio=\"none\" href=\"data:image/gif;base64,R0lGODdhEAABAIcAAP7+/QAAAAAAAAAAAAAAAAAAAAAAAAAAAAAAAAAAAAAAAAAAAAAAAAAAAAAAAAAAAAAAAAAAAAAAAAAAAAAAAAAAAAAAAAAAAAAAAAAAAAAAAAAAAAAAAAAAAAAAAAAAAAAAAAAAAAAAAAAAAAAAAAAAAAAAAAAAAAAAAAAAAAAAAAAAAAAAAAAAAAAAAAAAAAAAAAAAAAAAAAAAAAAAAAAAAAAAAAAAAAAAAAAAAAAAAAAAAAAAAAAAAAAAAAAAAAAAAAAAAAAAAAAAAAAAAAAAAAAAAAAAAAAAAAAAAAAAAAAAAAAAAAAAAAAAAAAAAAAAAAAAAAAAAAAAAAAAAAAAAAAAAAAAAAAAAAAAAAAAAAAAAAAAAAAAAAAAAAAAAAAAAAAAAAAAAAAAAAAAAAAAAAAAAAAAAAAAAAAAAAAAAAAAAAAAAAAAAAAAAAAAAAAAAAAAAAAAAAAAAAAAAAAAAAAAAAAAAAAAAAAAAAAAAAAAAAAAAAAAAAAAAAAAAAAAAAAAAAAAAAAAAAAAAAAAAAAAAAAAAAAAAAAAAAAAAAAAAAAAAAAAAAAAAAAAAAAAAAAAAAAAAAAAAAAAAAAAAAAAAAAAAAAAAAAAAAAAAAAAAAAAAAAAAAAAAAAAAAAAAAAAAAAAAAAAAAAAAAAAAAAAAAAAAAAAAAAAAAAAAAAAAAAAAAAAAAAAAAAAAAAAAAAAAAAAAAAAAAAAAAAAAAAAAAAAAAAAAAAAAAAAAAAAAAAAAAAAAAAAAAAAAAAAAAAAAAAAAAAAAAAAAAAAAAAAAAAAAAAAAAAAAAAAAAAAAAAAAAAAAAAAAAAAAAAAAAAAAAAAAAAAAAAAAAAAAAAAAAAAAAAAAAAAAAAAAAAAAAAAAAAAAAAAAAAAAAAAAAAAAAAAAAAAAAAAAAAAAAAAAAAAAAAAAAAAAAAAAAAAAAAAAAAAAAAAAAAAAAAAAAAAAAAAAAAAAAAAAAAAAAAAAAAAAAAAAAAAAAAAAAAAAAAAAAAAAAAAAAAAACwAAAAAEAABAAAICQABCBxIsCCAgAA7\"><title>Layer: sonar (input)\n",
       " shape = (16,)\n",
       " Keras class = Input</title></image><text x=\"655.0\" y=\"520.5\" font-family=\"monospace\" font-size=\"12\" text-anchor=\"start\" alignment-baseline=\"central\">sonar</text><line x1=\"825.0\" y1=\"505\" x2=\"825.0\" y2=\"478\" stroke=\"black\" stroke-width=\"2\" marker-end=\"url(#arrow)\"><title>Weights from camera to conv\n",
       " conv/kernel has shape (3, 3, 3, 16)\n",
       " conv/bias has shape (16,)</title></line><rect x=\"724.0\" y=\"505\" width=\"202\" height=\"135\" style=\"fill:none;stroke:black;stroke-width:2\"/><image id=\"Robot Prediction Network_camera_11\" class=\"Robot Prediction Network_camera\" x=\"725.0\" y=\"506\" height=\"133\" width=\"200\" preserveAspectRatio=\"none\" href=\"data:image/gif;base64,R0lGODdhPAAoAIcAAAAAAAAAAAAAAAAAAAAAAAAAAAAAAAAAAAAAAAAAAAAAAAAAAAAAAAAAAAAAAAAAAAAAAAAAAAAAAAAAAAAAAAAAAAAAAAAAAAAAAAAAAAAAAAAAAAAAAAAAAAAAAAAAAAAAAAAAAAAAAAAAAAAAAAAAAAAAAAAAAAAAAAAAAAAAAAAAAAAAAAAAAAAAAAAAAAAAAAAAAAAAAAAAAAAAAAAAAAAAAAAAAAAAAAAAAAAAAAAAAAAAAAAAAAAAAAAAAAAAAAAAAAAAAAAAAAAAAAAAAAAAAAAAAAAAAAAAAAAAAAAAAAAAAAAAAAAAAAAAAAAAAAAAAAAAAAAAAAAAAAAAAAAAAAAAAAAAAAAAAAAAAAAAAAAAAAAAAAAAAAAAAAAAAAAAAAAAAAAAAAAAAAAAAAAAAAAAAAAAAAAAAAAAAAAAAAAAAAAAAAAAAAAAAAAAAAAAAAAAAAAAAAAAAAAAAAAAAAAAAAAAAAAAAAAAAAAAAAAAAAAAAAAAAAAAAAAAAAAAAAAAAAAAAAAAAAAAAAAAAAAAAAAAAAAAAAAAAAAAAAAAAAAAAAAAAAAAAAAAAAAAAAAAAAAAAAAAAAAAAAAAAAAAAAAAAAAAAAAAAAAAAAAAAAAAAAAAAAAAAAAAAAAAAAAAAAAAAAAAAAAAAAAAAAAAAAAAAAAAAAAAAAAAAAAAAAAAAAAAAAAAAAAAAAAAAAAAAAAAAAAAAAAAAAAAAAAAAAAAAAAAAAAAAAAAAAAAAAAAAAAAAAAAAAAAAAAAAAAAAAAAAAAAAAAAAAAAAAAAAAAAAAAAAAAAAAAAAAAAAAAAAAAAAAAAAAAAAAAAAAAAAAAAAAAAAAAAAAAAAAAAAAAAAAAAAAAAAAAAAAAAAAAAAAAAAAAAAAAAAAAAAAAAAAAAAAAAAAAAAAAAAAAAAAAAAAAAAAAAAAAAAAAAAAAAAAAAAAAAAAAAAAAAAAAAAAAAAAAAAAAAAAAAAAAAAAAAAAAAAAAAAAAAAAAAAAAAAAAAAAAAACwAAAAAPAAoAEAIUAABCBxIsKDBgwgTKlzIsKHDhxAjSpxIsaLFixgzatzIsaPHjyBDihxJsqTJkyhTqlzJsqXLlzBjypxJs6bNmzhz6tzJs6fPn0CDCh1K1GZAADs=\"><title>Layer: camera (input)\n",
       " shape = (40, 60, 3)\n",
       " Keras class = Input</title></image><text x=\"930.0\" y=\"574.5\" font-family=\"monospace\" font-size=\"12\" text-anchor=\"start\" alignment-baseline=\"central\">camera</text></svg>"
      ],
      "text/plain": [
       "<Network name='Robot Prediction Network' (compiled)>"
      ]
     },
     "execution_count": 20,
     "metadata": {},
     "output_type": "execute_result"
    }
   ],
   "source": [
    "net"
   ]
  },
  {
   "cell_type": "code",
   "execution_count": 21,
   "metadata": {},
   "outputs": [],
   "source": [
    "matrix = net.propagate_to(\"conv\", get_senses(robot))"
   ]
  },
  {
   "cell_type": "code",
   "execution_count": 22,
   "metadata": {},
   "outputs": [],
   "source": [
    "net[\"conv\"].feature = 6"
   ]
  },
  {
   "cell_type": "code",
   "execution_count": 23,
   "metadata": {},
   "outputs": [
    {
     "data": {
      "text/html": [
       "<table><tr><td><img src=\"data:image/gif;base64,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\"/><br/><center>Feature 0</center></td><td><img src=\"data:image/gif;base64,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\"/><br/><center>Feature 1</center></td><td><img src=\"data:image/gif;base64,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\"/><br/><center>Feature 2</center></td><td><img src=\"data:image/gif;base64,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\"/><br/><center>Feature 3</center></td><td><img src=\"data:image/gif;base64,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\"/><br/><center>Feature 4</center></td></tr><tr><td><img src=\"data:image/gif;base64,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\"/><br/><center>Feature 5</center></td><td><img src=\"data:image/gif;base64,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\"/><br/><center>Feature 6</center></td><td><img src=\"data:image/gif;base64,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\"/><br/><center>Feature 7</center></td><td><img src=\"data:image/gif;base64,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\"/><br/><center>Feature 8</center></td><td><img src=\"data:image/gif;base64,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\"/><br/><center>Feature 9</center></td></tr><tr><td><img src=\"data:image/gif;base64,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\"/><br/><center>Feature 10</center></td><td><img src=\"data:image/gif;base64,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\"/><br/><center>Feature 11</center></td><td><img src=\"data:image/gif;base64,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\"/><br/><center>Feature 12</center></td><td><img src=\"data:image/gif;base64,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\"/><br/><center>Feature 13</center></td><td><img src=\"data:image/gif;base64,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\"/><br/><center>Feature 14</center></td></tr><tr><td><img src=\"data:image/gif;base64,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\"/><br/><center>Feature 15</center></td></tr></table>"
      ],
      "text/plain": [
       "<IPython.core.display.HTML object>"
      ]
     },
     "execution_count": 23,
     "metadata": {},
     "output_type": "execute_result"
    }
   ],
   "source": [
    "net.propagate_to_features(\"conv\", get_senses(robot), scale=3)"
   ]
  },
  {
   "cell_type": "code",
   "execution_count": 27,
   "metadata": {},
   "outputs": [
    {
     "data": {
      "application/javascript": [
       "\n",
       "require(['base/js/namespace'], function(Jupyter) {\n",
       "    Jupyter.notebook.kernel.comm_manager.register_target('conx_svg_control', function(comm, msg) {\n",
       "        comm.on_msg(function(msg) {\n",
       "            var data = msg[\"content\"][\"data\"];\n",
       "            var images = document.getElementsByClassName(data[\"class\"]);\n",
       "            for (var i = 0; i < images.length; i++) {\n",
       "                images[i].setAttributeNS(null, \"href\", data[\"href\"]);\n",
       "            }\n",
       "        });\n",
       "    });\n",
       "});\n"
      ],
      "text/plain": [
       "<IPython.core.display.Javascript object>"
      ]
     },
     "metadata": {},
     "output_type": "display_data"
    },
    {
     "data": {
      "application/vnd.jupyter.widget-view+json": {
       "model_id": "4367dc7e2292444a97710feaf3a7096f",
       "version_major": 2,
       "version_minor": 0
      },
      "text/html": [
       "<p>Failed to display Jupyter Widget of type <code>Tab</code>.</p>\n",
       "<p>\n",
       "  If you're reading this message in Jupyter Notebook or JupyterLab, it may mean\n",
       "  that the widgets JavaScript is still loading. If this message persists, it\n",
       "  likely means that the widgets JavaScript library is either not installed or\n",
       "  not enabled. See the <a href=\"https://ipywidgets.readthedocs.io/en/stable/user_install.html\">Jupyter\n",
       "  Widgets Documentation</a> for setup instructions.\n",
       "</p>\n",
       "<p>\n",
       "  If you're reading this message in another notebook frontend (for example, a static\n",
       "  rendering on GitHub or <a href=\"https://nbviewer.jupyter.org/\">NBViewer</a>),\n",
       "  it may mean that your frontend doesn't currently support widgets.\n",
       "</p>\n"
      ],
      "text/plain": [
       "Tab(children=(VBox(children=(HTML(value='<p style=\"text-align:center\"><svg id=\\'Robot Prediction Network\\' xmlns=\\'http://www.w3.org/2000/svg\\' viewBox=\"0 0 1100 664\" height=\"2340.0\" image-rendering=\"pixelated\" style=\"\">\\n    <defs>\\n        <marker id=\"arrow\" markerWidth=\"10\" markerHeight=\"10\" refX=\"9\" refY=\"3\" orient=\"auto\" markerUnits=\"strokeWidth\">\\n          <path d=\"M0,0 L0,6 L9,3 z\" fill=\"black\" />\\n        </marker>\\n    </defs><text x=\"550.0\" y=\"12.5\" font-family=\"monospace\" font-size=\"15\" text-anchor=\"middle\" alignment-baseline=\"central\">Robot Prediction Network</text><rect x=\"315.6666666666667\" y=\"29\" width=\"102\" height=\"52\" style=\"fill:none;stroke:black;stroke-width:2\"/><image id=\"Robot Prediction Network_output1_67\" class=\"Robot Prediction Network_output1\" x=\"316.6666666666667\" y=\"30\" height=\"50\" width=\"100\" preserveAspectRatio=\"none\" href=\"data:image/gif;base64,R0lGODdhAgABAIcAAM/Pz/7+/QAAAAAAAAAAAAAAAAAAAAAAAAAAAAAAAAAAAAAAAAAAAAAAAAAAAAAAAAAAAAAAAAAAAAAAAAAAAAAAAAAAAAAAAAAAAAAAAAAAAAAAAAAAAAAAAAAAAAAAAAAAAAAAAAAAAAAAAAAAAAAAAAAAAAAAAAAAAAAAAAAAAAAAAAAAAAAAAAAAAAAAAAAAAAAAAAAAAAAAAAAAAAAAAAAAAAAAAAAAAAAAAAAAAAAAAAAAAAAAAAAAAAAAAAAAAAAAAAAAAAAAAAAAAAAAAAAAAAAAAAAAAAAAAAAAAAAAAAAAAAAAAAAAAAAAAAAAAAAAAAAAAAAAAAAAAAAAAAAAAAAAAAAAAAAAAAAAAAAAAAAAAAAAAAAAAAAAAAAAAAAAAAAAAAAAAAAAAAAAAAAAAAAAAAAAAAAAAAAAAAAAAAAAAAAAAAAAAAAAAAAAAAAAAAAAAAAAAAAAAAAAAAAAAAAAAAAAAAAAAAAAAAAAAAAAAAAAAAAAAAAAAAAAAAAAAAAAAAAAAAAAAAAAAAAAAAAAAAAAAAAAAAAAAAAAAAAAAAAAAAAAAAAAAAAAAAAAAAAAAAAAAAAAAAAAAAAAAAAAAAAAAAAAAAAAAAAAAAAAAAAAAAAAAAAAAAAAAAAAAAAAAAAAAAAAAAAAAAAAAAAAAAAAAAAAAAAAAAAAAAAAAAAAAAAAAAAAAAAAAAAAAAAAAAAAAAAAAAAAAAAAAAAAAAAAAAAAAAAAAAAAAAAAAAAAAAAAAAAAAAAAAAAAAAAAAAAAAAAAAAAAAAAAAAAAAAAAAAAAAAAAAAAAAAAAAAAAAAAAAAAAAAAAAAAAAAAAAAAAAAAAAAAAAAAAAAAAAAAAAAAAAAAAAAAAAAAAAAAAAAAAAAAAAAAAAAAAAAAAAAAAAAAAAAAAAAAAAAAAAAAAAAAAAAAAAAAAAAAAAAAAAAAAAAAAAAAAAAAAAAAAAAAAAAAAAAAAAAAAAAAAAAAAAAAAAAAAAAAAAAAAAAAAAAAAAAAAACwAAAAAAgABAAAIBQADAAgIADs=\"><title>Layer: output1 (output)\\n shape = (2,)\\n Keras class = Dense\\n activation = sigmoid</title></image><text x=\"421.6666666666667\" y=\"57.0\" font-family=\"monospace\" font-size=\"12\" text-anchor=\"start\" alignment-baseline=\"central\">output1</text><rect x=\"632.3333333333334\" y=\"29\" width=\"202\" height=\"42\" style=\"fill:none;stroke:black;stroke-width:2\"/><image id=\"Robot Prediction Network_output2_68\" class=\"Robot Prediction Network_output2\" x=\"633.3333333333334\" y=\"30\" height=\"40\" width=\"200\" preserveAspectRatio=\"none\" href=\"data:image/gif;base64,R0lGODdhBQABAIcAAP728aOjo/e2mPvSvAAAAAAAAAAAAAAAAAAAAAAAAAAAAAAAAAAAAAAAAAAAAAAAAAAAAAAAAAAAAAAAAAAAAAAAAAAAAAAAAAAAAAAAAAAAAAAAAAAAAAAAAAAAAAAAAAAAAAAAAAAAAAAAAAAAAAAAAAAAAAAAAAAAAAAAAAAAAAAAAAAAAAAAAAAAAAAAAAAAAAAAAAAAAAAAAAAAAAAAAAAAAAAAAAAAAAAAAAAAAAAAAAAAAAAAAAAAAAAAAAAAAAAAAAAAAAAAAAAAAAAAAAAAAAAAAAAAAAAAAAAAAAAAAAAAAAAAAAAAAAAAAAAAAAAAAAAAAAAAAAAAAAAAAAAAAAAAAAAAAAAAAAAAAAAAAAAAAAAAAAAAAAAAAAAAAAAAAAAAAAAAAAAAAAAAAAAAAAAAAAAAAAAAAAAAAAAAAAAAAAAAAAAAAAAAAAAAAAAAAAAAAAAAAAAAAAAAAAAAAAAAAAAAAAAAAAAAAAAAAAAAAAAAAAAAAAAAAAAAAAAAAAAAAAAAAAAAAAAAAAAAAAAAAAAAAAAAAAAAAAAAAAAAAAAAAAAAAAAAAAAAAAAAAAAAAAAAAAAAAAAAAAAAAAAAAAAAAAAAAAAAAAAAAAAAAAAAAAAAAAAAAAAAAAAAAAAAAAAAAAAAAAAAAAAAAAAAAAAAAAAAAAAAAAAAAAAAAAAAAAAAAAAAAAAAAAAAAAAAAAAAAAAAAAAAAAAAAAAAAAAAAAAAAAAAAAAAAAAAAAAAAAAAAAAAAAAAAAAAAAAAAAAAAAAAAAAAAAAAAAAAAAAAAAAAAAAAAAAAAAAAAAAAAAAAAAAAAAAAAAAAAAAAAAAAAAAAAAAAAAAAAAAAAAAAAAAAAAAAAAAAAAAAAAAAAAAAAAAAAAAAAAAAAAAAAAAAAAAAAAAAAAAAAAAAAAAAAAAAAAAAAAAAAAAAAAAAAAAAAAAAAAAAAAAAAAAAAAAAAAAAAAAAAAAAAAAAAAAAAAAAAAAAAAAAAAAAAAAAAAAAAAAAACwAAAAABQABAAAICAABDBAQAEBAADs=\"><title>Layer: output2 (output)\\n shape = (5,)\\n Keras class = Dense\\n activation = sigmoid</title></image><text x=\"838.3333333333334\" y=\"52.0\" font-family=\"monospace\" font-size=\"12\" text-anchor=\"start\" alignment-baseline=\"central\">output2</text><line x1=\"366.6666666666667\" y1=\"109\" x2=\"366.6666666666667\" y2=\"82\" stroke=\"black\" stroke-width=\"2\" marker-end=\"url(#arrow)\"><title>Weights from hidden4 to output1\\n output1/kernel has shape (10, 2)\\n output1/bias has shape (2,)</title></line><rect x=\"265.6666666666667\" y=\"109\" width=\"202\" height=\"27\" style=\"fill:none;stroke:black;stroke-width:2\"/><image id=\"Robot Prediction Network_hidden4_69\" class=\"Robot Prediction Network_hidden4\" x=\"266.6666666666667\" y=\"110\" height=\"25\" width=\"200\" preserveAspectRatio=\"none\" href=\"data:image/gif;base64,R0lGODdhCgABAIcAAPr08fa3mv3i0cjIyNLS0uHh4QAAAAAAAAAAAAAAAAAAAAAAAAAAAAAAAAAAAAAAAAAAAAAAAAAAAAAAAAAAAAAAAAAAAAAAAAAAAAAAAAAAAAAAAAAAAAAAAAAAAAAAAAAAAAAAAAAAAAAAAAAAAAAAAAAAAAAAAAAAAAAAAAAAAAAAAAAAAAAAAAAAAAAAAAAAAAAAAAAAAAAAAAAAAAAAAAAAAAAAAAAAAAAAAAAAAAAAAAAAAAAAAAAAAAAAAAAAAAAAAAAAAAAAAAAAAAAAAAAAAAAAAAAAAAAAAAAAAAAAAAAAAAAAAAAAAAAAAAAAAAAAAAAAAAAAAAAAAAAAAAAAAAAAAAAAAAAAAAAAAAAAAAAAAAAAAAAAAAAAAAAAAAAAAAAAAAAAAAAAAAAAAAAAAAAAAAAAAAAAAAAAAAAAAAAAAAAAAAAAAAAAAAAAAAAAAAAAAAAAAAAAAAAAAAAAAAAAAAAAAAAAAAAAAAAAAAAAAAAAAAAAAAAAAAAAAAAAAAAAAAAAAAAAAAAAAAAAAAAAAAAAAAAAAAAAAAAAAAAAAAAAAAAAAAAAAAAAAAAAAAAAAAAAAAAAAAAAAAAAAAAAAAAAAAAAAAAAAAAAAAAAAAAAAAAAAAAAAAAAAAAAAAAAAAAAAAAAAAAAAAAAAAAAAAAAAAAAAAAAAAAAAAAAAAAAAAAAAAAAAAAAAAAAAAAAAAAAAAAAAAAAAAAAAAAAAAAAAAAAAAAAAAAAAAAAAAAAAAAAAAAAAAAAAAAAAAAAAAAAAAAAAAAAAAAAAAAAAAAAAAAAAAAAAAAAAAAAAAAAAAAAAAAAAAAAAAAAAAAAAAAAAAAAAAAAAAAAAAAAAAAAAAAAAAAAAAAAAAAAAAAAAAAAAAAAAAAAAAAAAAAAAAAAAAAAAAAAAAAAAAAAAAAAAAAAAAAAAAAAAAAAAAAAAAAAAAAAAAAAAAAAAAAAAAAAAAAAAAAAAAAAAAAAAAAAAAAAAAAAAAAAAAAAAAAAAAAAAAAAACwAAAAACgABAAAIDgABDAAgIACAAAUEEAgIADs=\"><title>Layer: hidden4 (hidden)\\n shape = (10,)\\n Keras class = Dense\\n activation = sigmoid</title></image><text x=\"471.6666666666667\" y=\"124.5\" font-family=\"monospace\" font-size=\"12\" text-anchor=\"start\" alignment-baseline=\"central\">hidden4</text><line x1=\"733.3333333333334\" y1=\"110\" x2=\"733.3333333333334\" y2=\"70\" stroke=\"red\" stroke-width=\"2\" marker-end=\"url(#arrow)\"><title>Weights from hidden4 to output1\\n output1/kernel has shape (10, 2)\\n output1/bias has shape (2,)</title></line><line x1=\"550.0\" y1=\"164\" x2=\"733.3333333333334\" y2=\"110\" stroke=\"red\" stroke-width=\"2\"><title>TODO</title></line><line x1=\"550.0\" y1=\"164\" x2=\"366.6666666666667\" y2=\"137\" stroke=\"red\" stroke-width=\"2\" marker-end=\"url(#arrow)\"><title>Weights from hidden3 to hidden4\\n hidden4/kernel has shape (10, 10)\\n hidden4/bias has shape (10,)</title></line><rect x=\"449.0\" y=\"164\" width=\"202\" height=\"27\" style=\"fill:none;stroke:black;stroke-width:2\"/><image id=\"Robot Prediction Network_hidden3_70\" class=\"Robot Prediction Network_hidden3\" x=\"450.0\" y=\"165\" height=\"25\" width=\"200\" preserveAspectRatio=\"none\" href=\"data:image/gif;base64,R0lGODdhCgABAIcAAPz59vzZxu/n49LS0vvUvgAAAAAAAAAAAAAAAAAAAAAAAAAAAAAAAAAAAAAAAAAAAAAAAAAAAAAAAAAAAAAAAAAAAAAAAAAAAAAAAAAAAAAAAAAAAAAAAAAAAAAAAAAAAAAAAAAAAAAAAAAAAAAAAAAAAAAAAAAAAAAAAAAAAAAAAAAAAAAAAAAAAAAAAAAAAAAAAAAAAAAAAAAAAAAAAAAAAAAAAAAAAAAAAAAAAAAAAAAAAAAAAAAAAAAAAAAAAAAAAAAAAAAAAAAAAAAAAAAAAAAAAAAAAAAAAAAAAAAAAAAAAAAAAAAAAAAAAAAAAAAAAAAAAAAAAAAAAAAAAAAAAAAAAAAAAAAAAAAAAAAAAAAAAAAAAAAAAAAAAAAAAAAAAAAAAAAAAAAAAAAAAAAAAAAAAAAAAAAAAAAAAAAAAAAAAAAAAAAAAAAAAAAAAAAAAAAAAAAAAAAAAAAAAAAAAAAAAAAAAAAAAAAAAAAAAAAAAAAAAAAAAAAAAAAAAAAAAAAAAAAAAAAAAAAAAAAAAAAAAAAAAAAAAAAAAAAAAAAAAAAAAAAAAAAAAAAAAAAAAAAAAAAAAAAAAAAAAAAAAAAAAAAAAAAAAAAAAAAAAAAAAAAAAAAAAAAAAAAAAAAAAAAAAAAAAAAAAAAAAAAAAAAAAAAAAAAAAAAAAAAAAAAAAAAAAAAAAAAAAAAAAAAAAAAAAAAAAAAAAAAAAAAAAAAAAAAAAAAAAAAAAAAAAAAAAAAAAAAAAAAAAAAAAAAAAAAAAAAAAAAAAAAAAAAAAAAAAAAAAAAAAAAAAAAAAAAAAAAAAAAAAAAAAAAAAAAAAAAAAAAAAAAAAAAAAAAAAAAAAAAAAAAAAAAAAAAAAAAAAAAAAAAAAAAAAAAAAAAAAAAAAAAAAAAAAAAAAAAAAAAAAAAAAAAAAAAAAAAAAAAAAAAAAAAAAAAAAAAAAAAAAAAAAAAAAAAAAAAAAAAAAAAAAAAAAAAAAAAAAAAAAAAAAAAAAAAAAAAAAAAAACwAAAAACgABAAAIDgAJCAAAIAAAAQMABAgIADs=\"><title>Layer: hidden3 (hidden)\\n shape = (10,)\\n dropout = 0.25\\n Keras class = Dense\\n activation = sigmoid</title></image><text x=\"655.0\" y=\"179.5\" font-family=\"monospace\" font-size=\"12\" text-anchor=\"start\" alignment-baseline=\"central\">hidden3</text><line x1=\"550.0\" y1=\"219\" x2=\"550.0\" y2=\"192\" stroke=\"black\" stroke-width=\"2\" marker-end=\"url(#arrow)\"><title>Weights from hidden2 to hidden3\\n hidden3/kernel has shape (5, 10)\\n hidden3/bias has shape (10,)</title></line><rect x=\"449.0\" y=\"219\" width=\"202\" height=\"42\" style=\"fill:none;stroke:black;stroke-width:2\"/><image id=\"Robot Prediction Network_hidden2_71\" class=\"Robot Prediction Network_hidden2\" x=\"450.0\" y=\"220\" height=\"40\" width=\"200\" preserveAspectRatio=\"none\" href=\"data:image/gif;base64,R0lGODdhBQABAIcAAP7+/QAAAAAAAAAAAAAAAAAAAAAAAAAAAAAAAAAAAAAAAAAAAAAAAAAAAAAAAAAAAAAAAAAAAAAAAAAAAAAAAAAAAAAAAAAAAAAAAAAAAAAAAAAAAAAAAAAAAAAAAAAAAAAAAAAAAAAAAAAAAAAAAAAAAAAAAAAAAAAAAAAAAAAAAAAAAAAAAAAAAAAAAAAAAAAAAAAAAAAAAAAAAAAAAAAAAAAAAAAAAAAAAAAAAAAAAAAAAAAAAAAAAAAAAAAAAAAAAAAAAAAAAAAAAAAAAAAAAAAAAAAAAAAAAAAAAAAAAAAAAAAAAAAAAAAAAAAAAAAAAAAAAAAAAAAAAAAAAAAAAAAAAAAAAAAAAAAAAAAAAAAAAAAAAAAAAAAAAAAAAAAAAAAAAAAAAAAAAAAAAAAAAAAAAAAAAAAAAAAAAAAAAAAAAAAAAAAAAAAAAAAAAAAAAAAAAAAAAAAAAAAAAAAAAAAAAAAAAAAAAAAAAAAAAAAAAAAAAAAAAAAAAAAAAAAAAAAAAAAAAAAAAAAAAAAAAAAAAAAAAAAAAAAAAAAAAAAAAAAAAAAAAAAAAAAAAAAAAAAAAAAAAAAAAAAAAAAAAAAAAAAAAAAAAAAAAAAAAAAAAAAAAAAAAAAAAAAAAAAAAAAAAAAAAAAAAAAAAAAAAAAAAAAAAAAAAAAAAAAAAAAAAAAAAAAAAAAAAAAAAAAAAAAAAAAAAAAAAAAAAAAAAAAAAAAAAAAAAAAAAAAAAAAAAAAAAAAAAAAAAAAAAAAAAAAAAAAAAAAAAAAAAAAAAAAAAAAAAAAAAAAAAAAAAAAAAAAAAAAAAAAAAAAAAAAAAAAAAAAAAAAAAAAAAAAAAAAAAAAAAAAAAAAAAAAAAAAAAAAAAAAAAAAAAAAAAAAAAAAAAAAAAAAAAAAAAAAAAAAAAAAAAAAAAAAAAAAAAAAAAAAAAAAAAAAAAAAAAAAAAAAAAAAAAAAAAAAAAAAAAAAAAAAAAAAAAAAAAAAAAAAAAAAAAAAAAAAAAAAAACwAAAAABQABAAAIBgABCBQYEAA7\"><title>Layer: hidden2 (hidden)\\n shape = (5,)\\n Keras class = Dense\\n activation = sigmoid</title></image><text x=\"655.0\" y=\"242.0\" font-family=\"monospace\" font-size=\"12\" text-anchor=\"start\" alignment-baseline=\"central\">hidden2</text><line x1=\"275.0\" y1=\"290\" x2=\"550.0\" y2=\"260\" stroke=\"black\" stroke-width=\"2\" marker-end=\"url(#arrow)\"><title>Weights from hidden2 to hidden3\\n hidden3/kernel has shape (5, 10)\\n hidden3/bias has shape (10,)</title></line><line x1=\"550.0\" y1=\"290\" x2=\"550.0\" y2=\"260\" stroke=\"black\" stroke-width=\"2\" marker-end=\"url(#arrow)\"><title>Weights from hidden2 to hidden3\\n hidden3/kernel has shape (5, 10)\\n hidden3/bias has shape (10,)</title></line><line x1=\"825.0\" y1=\"289\" x2=\"550.0\" y2=\"262\" stroke=\"black\" stroke-width=\"2\" marker-end=\"url(#arrow)\"><title>Weights from flatten to hidden2\\n hidden2/kernel has shape (35330, 5)\\n hidden2/bias has shape (5,)</title></line><rect x=\"724.0\" y=\"289\" width=\"202\" height=\"27\" style=\"fill:none;stroke:black;stroke-width:2\"/><image id=\"Robot Prediction Network_flatten_72\" class=\"Robot Prediction Network_flatten\" x=\"725.0\" y=\"290\" height=\"25\" width=\"200\" preserveAspectRatio=\"none\" href=\"data:image/gif;base64,R0lGODdhwIkBAIcAAP7+/QAAAAAAAAAAAAAAAAAAAAAAAAAAAAAAAAAAAAAAAAAAAAAAAAAAAAAAAAAAAAAAAAAAAAAAAAAAAAAAAAAAAAAAAAAAAAAAAAAAAAAAAAAAAAAAAAAAAAAAAAAAAAAAAAAAAAAAAAAAAAAAAAAAAAAAAAAAAAAAAAAAAAAAAAAAAAAAAAAAAAAAAAAAAAAAAAAAAAAAAAAAAAAAAAAAAAAAAAAAAAAAAAAAAAAAAAAAAAAAAAAAAAAAAAAAAAAAAAAAAAAAAAAAAAAAAAAAAAAAAAAAAAAAAAAAAAAAAAAAAAAAAAAAAAAAAAAAAAAAAAAAAAAAAAAAAAAAAAAAAAAAAAAAAAAAAAAAAAAAAAAAAAAAAAAAAAAAAAAAAAAAAAAAAAAAAAAAAAAAAAAAAAAAAAAAAAAAAAAAAAAAAAAAAAAAAAAAAAAAAAAAAAAAAAAAAAAAAAAAAAAAAAAAAAAAAAAAAAAAAAAAAAAAAAAAAAAAAAAAAAAAAAAAAAAAAAAAAAAAAAAAAAAAAAAAAAAAAAAAAAAAAAAAAAAAAAAAAAAAAAAAAAAAAAAAAAAAAAAAAAAAAAAAAAAAAAAAAAAAAAAAAAAAAAAAAAAAAAAAAAAAAAAAAAAAAAAAAAAAAAAAAAAAAAAAAAAAAAAAAAAAAAAAAAAAAAAAAAAAAAAAAAAAAAAAAAAAAAAAAAAAAAAAAAAAAAAAAAAAAAAAAAAAAAAAAAAAAAAAAAAAAAAAAAAAAAAAAAAAAAAAAAAAAAAAAAAAAAAAAAAAAAAAAAAAAAAAAAAAAAAAAAAAAAAAAAAAAAAAAAAAAAAAAAAAAAAAAAAAAAAAAAAAAAAAAAAAAAAAAAAAAAAAAAAAAAAAAAAAAAAAAAAAAAAAAAAAAAAAAAAAAAAAAAAAAAAAAAAAAAAAAAAAAAAAAAAAAAAAAAAAAAAAAAAAAAAAAAAAAAAAAAAAAAAAAAAAAAAAAAAAAAAAAAAAAAAAAAAAAAAAAAAAAAAAAAAAAAAAACwAAAAAwIkBAAAI/wABCBxIsKDBgwgTKlzIsKHDhxAjSpxIsaLFixgzatzIsaPHjyBDihxJsqTJkyhTqlzJsqXLlzBjypxJs6bNmzhz6tzJs6fPn0CDCh1KtKjRo0iTKl3KtKnTp1CjSp1KtarVq1izat3KtavXr2DDih1LtqzZs2jTql3Ltq3bt3Djyp1Lt67du3jz6t3Lt6/fv4ADCx5MuLDhw4gTK17MuLHjx5AjS55MubLly5gza97MubPnz6BDix5NurTp06hTq17NurXr17Bjy55Nu7bt27hz697Nu7fv38CDCx9OvLjx48iTK1/OvLnz59CjS59Ovbr169iza9/Ovbv37+DDi3gfT768+fPo06tfz769+/fw48ufT7++/fv48+vfz7+/f4AABA4kWNDgQYQJFS5k2NDhQ4gRJU6kWNHiRYwZNW7k2NHjR5AhRY4kWdLkSZQpVa5k2dLlS5gxZc6kWdPmTZw5de7k2dPnT6BBhQ4lWtToUaRJlS7tGBAAOw==\"><title>Layer: flatten (hidden)\\n Keras class = Flatten</title></image><text x=\"930.0\" y=\"304.5\" font-family=\"monospace\" font-size=\"12\" text-anchor=\"start\" alignment-baseline=\"central\">flatten</text><line x1=\"275.0\" y1=\"344\" x2=\"275.0\" y2=\"290\" stroke=\"black\" stroke-width=\"2\"><title>TODO</title></line><rect x=\"174.0\" y=\"344\" width=\"202\" height=\"27\" style=\"fill:none;stroke:black;stroke-width:2\"/><image id=\"Robot Prediction Network_hidden_73\" class=\"Robot Prediction Network_hidden\" x=\"175.0\" y=\"345\" height=\"25\" width=\"200\" preserveAspectRatio=\"none\" href=\"data:image/gif;base64,R0lGODdhMgABAIcAAP7+/QAAAAAAAAAAAAAAAAAAAAAAAAAAAAAAAAAAAAAAAAAAAAAAAAAAAAAAAAAAAAAAAAAAAAAAAAAAAAAAAAAAAAAAAAAAAAAAAAAAAAAAAAAAAAAAAAAAAAAAAAAAAAAAAAAAAAAAAAAAAAAAAAAAAAAAAAAAAAAAAAAAAAAAAAAAAAAAAAAAAAAAAAAAAAAAAAAAAAAAAAAAAAAAAAAAAAAAAAAAAAAAAAAAAAAAAAAAAAAAAAAAAAAAAAAAAAAAAAAAAAAAAAAAAAAAAAAAAAAAAAAAAAAAAAAAAAAAAAAAAAAAAAAAAAAAAAAAAAAAAAAAAAAAAAAAAAAAAAAAAAAAAAAAAAAAAAAAAAAAAAAAAAAAAAAAAAAAAAAAAAAAAAAAAAAAAAAAAAAAAAAAAAAAAAAAAAAAAAAAAAAAAAAAAAAAAAAAAAAAAAAAAAAAAAAAAAAAAAAAAAAAAAAAAAAAAAAAAAAAAAAAAAAAAAAAAAAAAAAAAAAAAAAAAAAAAAAAAAAAAAAAAAAAAAAAAAAAAAAAAAAAAAAAAAAAAAAAAAAAAAAAAAAAAAAAAAAAAAAAAAAAAAAAAAAAAAAAAAAAAAAAAAAAAAAAAAAAAAAAAAAAAAAAAAAAAAAAAAAAAAAAAAAAAAAAAAAAAAAAAAAAAAAAAAAAAAAAAAAAAAAAAAAAAAAAAAAAAAAAAAAAAAAAAAAAAAAAAAAAAAAAAAAAAAAAAAAAAAAAAAAAAAAAAAAAAAAAAAAAAAAAAAAAAAAAAAAAAAAAAAAAAAAAAAAAAAAAAAAAAAAAAAAAAAAAAAAAAAAAAAAAAAAAAAAAAAAAAAAAAAAAAAAAAAAAAAAAAAAAAAAAAAAAAAAAAAAAAAAAAAAAAAAAAAAAAAAAAAAAAAAAAAAAAAAAAAAAAAAAAAAAAAAAAAAAAAAAAAAAAAAAAAAAAAAAAAAAAAAAAAAAAAAAAAAAAAAAAAAAAAAAAAAAAAAAAAAAAAAAAAAAAAAAAAAAAAAAAAAAACwAAAAAMgABAAAIDgABCBxIsKDBgwgTFgwIADs=\"><title>Layer: hidden (hidden)\\n shape = (50,)\\n Keras class = Dense\\n activation = relu</title></image><text x=\"380.0\" y=\"359.5\" font-family=\"monospace\" font-size=\"12\" text-anchor=\"start\" alignment-baseline=\"central\">hidden</text><line x1=\"550.0\" y1=\"345\" x2=\"550.0\" y2=\"290\" stroke=\"black\" stroke-width=\"2\"><title>TODO</title></line><line x1=\"825.0\" y1=\"344\" x2=\"825.0\" y2=\"317\" stroke=\"black\" stroke-width=\"2\" marker-end=\"url(#arrow)\"><title>Weights from conv to flatten</title></line><rect x=\"724.0\" y=\"344\" width=\"202\" height=\"133\" style=\"fill:none;stroke:black;stroke-width:2\"/><image id=\"Robot Prediction Network_conv_74\" class=\"Robot Prediction Network_conv\" x=\"725.0\" y=\"345\" height=\"131\" width=\"200\" preserveAspectRatio=\"none\" href=\"data:image/gif;base64,R0lGODdhOgAmAIcAAP7+/QAAAAAAAAAAAAAAAAAAAAAAAAAAAAAAAAAAAAAAAAAAAAAAAAAAAAAAAAAAAAAAAAAAAAAAAAAAAAAAAAAAAAAAAAAAAAAAAAAAAAAAAAAAAAAAAAAAAAAAAAAAAAAAAAAAAAAAAAAAAAAAAAAAAAAAAAAAAAAAAAAAAAAAAAAAAAAAAAAAAAAAAAAAAAAAAAAAAAAAAAAAAAAAAAAAAAAAAAAAAAAAAAAAAAAAAAAAAAAAAAAAAAAAAAAAAAAAAAAAAAAAAAAAAAAAAAAAAAAAAAAAAAAAAAAAAAAAAAAAAAAAAAAAAAAAAAAAAAAAAAAAAAAAAAAAAAAAAAAAAAAAAAAAAAAAAAAAAAAAAAAAAAAAAAAAAAAAAAAAAAAAAAAAAAAAAAAAAAAAAAAAAAAAAAAAAAAAAAAAAAAAAAAAAAAAAAAAAAAAAAAAAAAAAAAAAAAAAAAAAAAAAAAAAAAAAAAAAAAAAAAAAAAAAAAAAAAAAAAAAAAAAAAAAAAAAAAAAAAAAAAAAAAAAAAAAAAAAAAAAAAAAAAAAAAAAAAAAAAAAAAAAAAAAAAAAAAAAAAAAAAAAAAAAAAAAAAAAAAAAAAAAAAAAAAAAAAAAAAAAAAAAAAAAAAAAAAAAAAAAAAAAAAAAAAAAAAAAAAAAAAAAAAAAAAAAAAAAAAAAAAAAAAAAAAAAAAAAAAAAAAAAAAAAAAAAAAAAAAAAAAAAAAAAAAAAAAAAAAAAAAAAAAAAAAAAAAAAAAAAAAAAAAAAAAAAAAAAAAAAAAAAAAAAAAAAAAAAAAAAAAAAAAAAAAAAAAAAAAAAAAAAAAAAAAAAAAAAAAAAAAAAAAAAAAAAAAAAAAAAAAAAAAAAAAAAAAAAAAAAAAAAAAAAAAAAAAAAAAAAAAAAAAAAAAAAAAAAAAAAAAAAAAAAAAAAAAAAAAAAAAAAAAAAAAAAAAAAAAAAAAAAAAAAAAAAAAAAAAAAAAAAAAAAAAAAAAAAAAAAAAAAAAAAAAAAAAAAAAAACwAAAAAOgAmAEAITQABCBxIsKDBgwgTKlzIsKHDhxAjSpxIsaLFixgzatzIsaPHjyBDihxJsqTJkyhTqlzJsqXLlzBjypxJs6bNmzhz6tzJs6fPn0CD7gwIADs=\"><title>Layer: conv (hidden)\\n Keras class = Conv2D</title></image><text x=\"930.0\" y=\"412.5\" font-family=\"monospace\" font-size=\"12\" text-anchor=\"start\" alignment-baseline=\"central\">conv</text><text x=\"930.0\" y=\"350\" font-family=\"monospace\" font-size=\"12\" text-anchor=\"start\" alignment-baseline=\"central\">16</text><text x=\"706.0\" y=\"471\" font-family=\"monospace\" font-size=\"12\" text-anchor=\"start\" alignment-baseline=\"central\">15</text><line x1=\"275.0\" y1=\"505\" x2=\"275.0\" y2=\"372\" stroke=\"black\" stroke-width=\"2\" marker-end=\"url(#arrow)\"><title>Weights from light to hidden\\n hidden/kernel has shape (2, 50)\\n hidden/bias has shape (50,)</title></line><rect x=\"224.0\" y=\"505\" width=\"102\" height=\"52\" style=\"fill:none;stroke:black;stroke-width:2\"/><image id=\"Robot Prediction Network_light_75\" class=\"Robot Prediction Network_light\" x=\"225.0\" y=\"506\" height=\"50\" width=\"100\" preserveAspectRatio=\"none\" href=\"data:image/gif;base64,R0lGODdhAgABAIcAAP7+/QAAAAAAAAAAAAAAAAAAAAAAAAAAAAAAAAAAAAAAAAAAAAAAAAAAAAAAAAAAAAAAAAAAAAAAAAAAAAAAAAAAAAAAAAAAAAAAAAAAAAAAAAAAAAAAAAAAAAAAAAAAAAAAAAAAAAAAAAAAAAAAAAAAAAAAAAAAAAAAAAAAAAAAAAAAAAAAAAAAAAAAAAAAAAAAAAAAAAAAAAAAAAAAAAAAAAAAAAAAAAAAAAAAAAAAAAAAAAAAAAAAAAAAAAAAAAAAAAAAAAAAAAAAAAAAAAAAAAAAAAAAAAAAAAAAAAAAAAAAAAAAAAAAAAAAAAAAAAAAAAAAAAAAAAAAAAAAAAAAAAAAAAAAAAAAAAAAAAAAAAAAAAAAAAAAAAAAAAAAAAAAAAAAAAAAAAAAAAAAAAAAAAAAAAAAAAAAAAAAAAAAAAAAAAAAAAAAAAAAAAAAAAAAAAAAAAAAAAAAAAAAAAAAAAAAAAAAAAAAAAAAAAAAAAAAAAAAAAAAAAAAAAAAAAAAAAAAAAAAAAAAAAAAAAAAAAAAAAAAAAAAAAAAAAAAAAAAAAAAAAAAAAAAAAAAAAAAAAAAAAAAAAAAAAAAAAAAAAAAAAAAAAAAAAAAAAAAAAAAAAAAAAAAAAAAAAAAAAAAAAAAAAAAAAAAAAAAAAAAAAAAAAAAAAAAAAAAAAAAAAAAAAAAAAAAAAAAAAAAAAAAAAAAAAAAAAAAAAAAAAAAAAAAAAAAAAAAAAAAAAAAAAAAAAAAAAAAAAAAAAAAAAAAAAAAAAAAAAAAAAAAAAAAAAAAAAAAAAAAAAAAAAAAAAAAAAAAAAAAAAAAAAAAAAAAAAAAAAAAAAAAAAAAAAAAAAAAAAAAAAAAAAAAAAAAAAAAAAAAAAAAAAAAAAAAAAAAAAAAAAAAAAAAAAAAAAAAAAAAAAAAAAAAAAAAAAAAAAAAAAAAAAAAAAAAAAAAAAAAAAAAAAAAAAAAAAAAAAAAAAAAAAAAAAAAAAAAAAAAAAAAAAAAAAAAAAAAAAAAACwAAAAAAgABAAAIBQABAAgIADs=\"><title>Layer: light (input)\\n shape = (2,)\\n Keras class = Input</title></image><text x=\"330.0\" y=\"533.0\" font-family=\"monospace\" font-size=\"12\" text-anchor=\"start\" alignment-baseline=\"central\">light</text><line x1=\"550.0\" y1=\"505\" x2=\"550.0\" y2=\"345\" stroke=\"black\" stroke-width=\"2\"><title>TODO</title></line><rect x=\"449.0\" y=\"505\" width=\"202\" height=\"27\" style=\"fill:none;stroke:black;stroke-width:2\"/><image id=\"Robot Prediction Network_sonar_76\" class=\"Robot Prediction Network_sonar\" x=\"450.0\" y=\"506\" height=\"25\" width=\"200\" preserveAspectRatio=\"none\" href=\"data:image/gif;base64,R0lGODdhEAABAIcAAP7+/QAAAAAAAAAAAAAAAAAAAAAAAAAAAAAAAAAAAAAAAAAAAAAAAAAAAAAAAAAAAAAAAAAAAAAAAAAAAAAAAAAAAAAAAAAAAAAAAAAAAAAAAAAAAAAAAAAAAAAAAAAAAAAAAAAAAAAAAAAAAAAAAAAAAAAAAAAAAAAAAAAAAAAAAAAAAAAAAAAAAAAAAAAAAAAAAAAAAAAAAAAAAAAAAAAAAAAAAAAAAAAAAAAAAAAAAAAAAAAAAAAAAAAAAAAAAAAAAAAAAAAAAAAAAAAAAAAAAAAAAAAAAAAAAAAAAAAAAAAAAAAAAAAAAAAAAAAAAAAAAAAAAAAAAAAAAAAAAAAAAAAAAAAAAAAAAAAAAAAAAAAAAAAAAAAAAAAAAAAAAAAAAAAAAAAAAAAAAAAAAAAAAAAAAAAAAAAAAAAAAAAAAAAAAAAAAAAAAAAAAAAAAAAAAAAAAAAAAAAAAAAAAAAAAAAAAAAAAAAAAAAAAAAAAAAAAAAAAAAAAAAAAAAAAAAAAAAAAAAAAAAAAAAAAAAAAAAAAAAAAAAAAAAAAAAAAAAAAAAAAAAAAAAAAAAAAAAAAAAAAAAAAAAAAAAAAAAAAAAAAAAAAAAAAAAAAAAAAAAAAAAAAAAAAAAAAAAAAAAAAAAAAAAAAAAAAAAAAAAAAAAAAAAAAAAAAAAAAAAAAAAAAAAAAAAAAAAAAAAAAAAAAAAAAAAAAAAAAAAAAAAAAAAAAAAAAAAAAAAAAAAAAAAAAAAAAAAAAAAAAAAAAAAAAAAAAAAAAAAAAAAAAAAAAAAAAAAAAAAAAAAAAAAAAAAAAAAAAAAAAAAAAAAAAAAAAAAAAAAAAAAAAAAAAAAAAAAAAAAAAAAAAAAAAAAAAAAAAAAAAAAAAAAAAAAAAAAAAAAAAAAAAAAAAAAAAAAAAAAAAAAAAAAAAAAAAAAAAAAAAAAAAAAAAAAAAAAAAAAAAAAAAAAAAAAAAAAAAAAAAAAAAAAAAAAAAAAAAAAAAAAAAAAAAAAAAAAAAAAAACwAAAAAEAABAAAICQABCBxIsCCAgAA7\"><title>Layer: sonar (input)\\n shape = (16,)\\n Keras class = Input</title></image><text x=\"655.0\" y=\"520.5\" font-family=\"monospace\" font-size=\"12\" text-anchor=\"start\" alignment-baseline=\"central\">sonar</text><line x1=\"825.0\" y1=\"505\" x2=\"825.0\" y2=\"478\" stroke=\"black\" stroke-width=\"2\" marker-end=\"url(#arrow)\"><title>Weights from camera to conv\\n conv/kernel has shape (3, 3, 3, 16)\\n conv/bias has shape (16,)</title></line><rect x=\"724.0\" y=\"505\" width=\"202\" height=\"135\" style=\"fill:none;stroke:black;stroke-width:2\"/><image id=\"Robot Prediction Network_camera_77\" class=\"Robot Prediction Network_camera\" x=\"725.0\" y=\"506\" height=\"133\" width=\"200\" preserveAspectRatio=\"none\" href=\"data:image/gif;base64,R0lGODdhPAAoAIcAAAAAAAAAAAAAAAAAAAAAAAAAAAAAAAAAAAAAAAAAAAAAAAAAAAAAAAAAAAAAAAAAAAAAAAAAAAAAAAAAAAAAAAAAAAAAAAAAAAAAAAAAAAAAAAAAAAAAAAAAAAAAAAAAAAAAAAAAAAAAAAAAAAAAAAAAAAAAAAAAAAAAAAAAAAAAAAAAAAAAAAAAAAAAAAAAAAAAAAAAAAAAAAAAAAAAAAAAAAAAAAAAAAAAAAAAAAAAAAAAAAAAAAAAAAAAAAAAAAAAAAAAAAAAAAAAAAAAAAAAAAAAAAAAAAAAAAAAAAAAAAAAAAAAAAAAAAAAAAAAAAAAAAAAAAAAAAAAAAAAAAAAAAAAAAAAAAAAAAAAAAAAAAAAAAAAAAAAAAAAAAAAAAAAAAAAAAAAAAAAAAAAAAAAAAAAAAAAAAAAAAAAAAAAAAAAAAAAAAAAAAAAAAAAAAAAAAAAAAAAAAAAAAAAAAAAAAAAAAAAAAAAAAAAAAAAAAAAAAAAAAAAAAAAAAAAAAAAAAAAAAAAAAAAAAAAAAAAAAAAAAAAAAAAAAAAAAAAAAAAAAAAAAAAAAAAAAAAAAAAAAAAAAAAAAAAAAAAAAAAAAAAAAAAAAAAAAAAAAAAAAAAAAAAAAAAAAAAAAAAAAAAAAAAAAAAAAAAAAAAAAAAAAAAAAAAAAAAAAAAAAAAAAAAAAAAAAAAAAAAAAAAAAAAAAAAAAAAAAAAAAAAAAAAAAAAAAAAAAAAAAAAAAAAAAAAAAAAAAAAAAAAAAAAAAAAAAAAAAAAAAAAAAAAAAAAAAAAAAAAAAAAAAAAAAAAAAAAAAAAAAAAAAAAAAAAAAAAAAAAAAAAAAAAAAAAAAAAAAAAAAAAAAAAAAAAAAAAAAAAAAAAAAAAAAAAAAAAAAAAAAAAAAAAAAAAAAAAAAAAAAAAAAAAAAAAAAAAAAAAAAAAAAAAAAAAAAAAAAAAAAAAAAAAAAAAAAAAAAAAAAAAAAAAAAAAAAAAAAAAAAAAAAAAAAAAAAAAAAAAAAAAACwAAAAAPAAoAEAIUAABCBxIsKDBgwgTKlzIsKHDhxAjSpxIsaLFixgzatzIsaPHjyBDihxJsqTJkyhTqlzJsqXLlzBjypxJs6bNmzhz6tzJs6fPn0CDCh1K1GZAADs=\"><title>Layer: camera (input)\\n shape = (40, 60, 3)\\n Keras class = Input</title></image><text x=\"930.0\" y=\"574.5\" font-family=\"monospace\" font-size=\"12\" text-anchor=\"start\" alignment-baseline=\"central\">camera</text></svg></p>', layout=Layout(height='550px', justify_content='center', overflow_x='auto', width='95%')), VBox(children=(HBox(children=(Select(description='Dataset:', index=1, options=('Test', 'Train'), rows=1, value='Train'), Button(icon='refresh', layout=Layout(width='40px'), style=ButtonStyle())), layout=Layout(height='40px')), HBox(children=(IntSlider(value=0, continuous_update=False, description='Dataset index', layout=Layout(width='95%'), max=0), Label(value='of 0', layout=Layout(width='100px'))), layout=Layout(height='40px')), HBox(children=(Button(icon='fast-backward', layout=Layout(width='100%'), style=ButtonStyle()), Button(icon='backward', layout=Layout(width='100%'), style=ButtonStyle()), Button(description='Train', layout=Layout(width='100%'), style=ButtonStyle()), Button(icon='forward', layout=Layout(width='100%'), style=ButtonStyle()), Button(icon='fast-forward', layout=Layout(width='100%'), style=ButtonStyle())), layout=Layout(height='50px', width='100%'))), layout=Layout(width='95%'))), layout=Layout(height='550px', width='95%')), VBox(children=(FloatSlider(value=3.0, continuous_update=False, description='Zoom', max=3.0, min=0.5),), layout=Layout(height='550px', width='100%')), HTML(value='<iframe src=\"https://conx.readthedocs.io\" width=\"100%\" height=\"550px\"></frame>', layout=Layout(height='550px', width='95%'))), _titles={'1': 'Configuration', '2': 'Help', '0': 'Network'})"
      ]
     },
     "metadata": {},
     "output_type": "display_data"
    },
    {
     "data": {
      "application/javascript": [
       "\n",
       "require(['base/js/namespace'], function(Jupyter) {\n",
       "    Jupyter.notebook.kernel.comm_manager.register_target('conx_svg_control', function(comm, msg) {\n",
       "        comm.on_msg(function(msg) {\n",
       "            var data = msg[\"content\"][\"data\"];\n",
       "            var images = document.getElementsByClassName(data[\"class\"]);\n",
       "            for (var i = 0; i < images.length; i++) {\n",
       "                images[i].setAttributeNS(null, \"href\", data[\"href\"]);\n",
       "            }\n",
       "        });\n",
       "    });\n",
       "});\n"
      ],
      "text/plain": [
       "<IPython.core.display.Javascript object>"
      ]
     },
     "metadata": {},
     "output_type": "display_data"
    }
   ],
   "source": [
    "net.dashboard()"
   ]
  },
  {
   "cell_type": "code",
   "execution_count": 28,
   "metadata": {},
   "outputs": [
    {
     "data": {
      "application/javascript": [
       "\n",
       "require(['base/js/namespace'], function(Jupyter) {\n",
       "    Jupyter.notebook.kernel.comm_manager.register_target('conx_svg_control', function(comm, msg) {\n",
       "        comm.on_msg(function(msg) {\n",
       "            var data = msg[\"content\"][\"data\"];\n",
       "            var images = document.getElementsByClassName(data[\"class\"]);\n",
       "            for (var i = 0; i < images.length; i++) {\n",
       "                images[i].setAttributeNS(null, \"href\", data[\"href\"]);\n",
       "            }\n",
       "        });\n",
       "    });\n",
       "});\n"
      ],
      "text/plain": [
       "<IPython.core.display.Javascript object>"
      ]
     },
     "metadata": {},
     "output_type": "display_data"
    },
    {
     "data": {
      "text/html": [
       "<svg id='Robot Prediction Network' xmlns='http://www.w3.org/2000/svg' viewBox=\"0 0 1100 664\" height=\"780.0\" image-rendering=\"pixelated\" style=\"\">\n",
       "    <defs>\n",
       "        <marker id=\"arrow\" markerWidth=\"10\" markerHeight=\"10\" refX=\"9\" refY=\"3\" orient=\"auto\" markerUnits=\"strokeWidth\">\n",
       "          <path d=\"M0,0 L0,6 L9,3 z\" fill=\"black\" />\n",
       "        </marker>\n",
       "    </defs><text x=\"550.0\" y=\"12.5\" font-family=\"monospace\" font-size=\"15\" text-anchor=\"middle\" alignment-baseline=\"central\">Robot Prediction Network</text><rect x=\"315.6666666666667\" y=\"29\" width=\"102\" height=\"52\" style=\"fill:none;stroke:black;stroke-width:2\"/><image id=\"Robot Prediction Network_output1_89\" class=\"Robot Prediction Network_output1\" x=\"316.6666666666667\" y=\"30\" height=\"50\" width=\"100\" preserveAspectRatio=\"none\" href=\"data:image/gif;base64,R0lGODdhAgABAIcAAM/Pz/7+/QAAAAAAAAAAAAAAAAAAAAAAAAAAAAAAAAAAAAAAAAAAAAAAAAAAAAAAAAAAAAAAAAAAAAAAAAAAAAAAAAAAAAAAAAAAAAAAAAAAAAAAAAAAAAAAAAAAAAAAAAAAAAAAAAAAAAAAAAAAAAAAAAAAAAAAAAAAAAAAAAAAAAAAAAAAAAAAAAAAAAAAAAAAAAAAAAAAAAAAAAAAAAAAAAAAAAAAAAAAAAAAAAAAAAAAAAAAAAAAAAAAAAAAAAAAAAAAAAAAAAAAAAAAAAAAAAAAAAAAAAAAAAAAAAAAAAAAAAAAAAAAAAAAAAAAAAAAAAAAAAAAAAAAAAAAAAAAAAAAAAAAAAAAAAAAAAAAAAAAAAAAAAAAAAAAAAAAAAAAAAAAAAAAAAAAAAAAAAAAAAAAAAAAAAAAAAAAAAAAAAAAAAAAAAAAAAAAAAAAAAAAAAAAAAAAAAAAAAAAAAAAAAAAAAAAAAAAAAAAAAAAAAAAAAAAAAAAAAAAAAAAAAAAAAAAAAAAAAAAAAAAAAAAAAAAAAAAAAAAAAAAAAAAAAAAAAAAAAAAAAAAAAAAAAAAAAAAAAAAAAAAAAAAAAAAAAAAAAAAAAAAAAAAAAAAAAAAAAAAAAAAAAAAAAAAAAAAAAAAAAAAAAAAAAAAAAAAAAAAAAAAAAAAAAAAAAAAAAAAAAAAAAAAAAAAAAAAAAAAAAAAAAAAAAAAAAAAAAAAAAAAAAAAAAAAAAAAAAAAAAAAAAAAAAAAAAAAAAAAAAAAAAAAAAAAAAAAAAAAAAAAAAAAAAAAAAAAAAAAAAAAAAAAAAAAAAAAAAAAAAAAAAAAAAAAAAAAAAAAAAAAAAAAAAAAAAAAAAAAAAAAAAAAAAAAAAAAAAAAAAAAAAAAAAAAAAAAAAAAAAAAAAAAAAAAAAAAAAAAAAAAAAAAAAAAAAAAAAAAAAAAAAAAAAAAAAAAAAAAAAAAAAAAAAAAAAAAAAAAAAAAAAAAAAAAAAAAAAAAAAAAAAAAAAAAAAAAACwAAAAAAgABAAAIBQADAAgIADs=\"><title>Layer: output1 (output)\n",
       " shape = (2,)\n",
       " Keras class = Dense\n",
       " activation = sigmoid</title></image><text x=\"421.6666666666667\" y=\"57.0\" font-family=\"monospace\" font-size=\"12\" text-anchor=\"start\" alignment-baseline=\"central\">output1</text><rect x=\"632.3333333333334\" y=\"29\" width=\"202\" height=\"42\" style=\"fill:none;stroke:black;stroke-width:2\"/><image id=\"Robot Prediction Network_output2_90\" class=\"Robot Prediction Network_output2\" x=\"633.3333333333334\" y=\"30\" height=\"40\" width=\"200\" preserveAspectRatio=\"none\" href=\"data:image/gif;base64,R0lGODdhBQABAIcAAP728aOjo/e2mPvSvAAAAAAAAAAAAAAAAAAAAAAAAAAAAAAAAAAAAAAAAAAAAAAAAAAAAAAAAAAAAAAAAAAAAAAAAAAAAAAAAAAAAAAAAAAAAAAAAAAAAAAAAAAAAAAAAAAAAAAAAAAAAAAAAAAAAAAAAAAAAAAAAAAAAAAAAAAAAAAAAAAAAAAAAAAAAAAAAAAAAAAAAAAAAAAAAAAAAAAAAAAAAAAAAAAAAAAAAAAAAAAAAAAAAAAAAAAAAAAAAAAAAAAAAAAAAAAAAAAAAAAAAAAAAAAAAAAAAAAAAAAAAAAAAAAAAAAAAAAAAAAAAAAAAAAAAAAAAAAAAAAAAAAAAAAAAAAAAAAAAAAAAAAAAAAAAAAAAAAAAAAAAAAAAAAAAAAAAAAAAAAAAAAAAAAAAAAAAAAAAAAAAAAAAAAAAAAAAAAAAAAAAAAAAAAAAAAAAAAAAAAAAAAAAAAAAAAAAAAAAAAAAAAAAAAAAAAAAAAAAAAAAAAAAAAAAAAAAAAAAAAAAAAAAAAAAAAAAAAAAAAAAAAAAAAAAAAAAAAAAAAAAAAAAAAAAAAAAAAAAAAAAAAAAAAAAAAAAAAAAAAAAAAAAAAAAAAAAAAAAAAAAAAAAAAAAAAAAAAAAAAAAAAAAAAAAAAAAAAAAAAAAAAAAAAAAAAAAAAAAAAAAAAAAAAAAAAAAAAAAAAAAAAAAAAAAAAAAAAAAAAAAAAAAAAAAAAAAAAAAAAAAAAAAAAAAAAAAAAAAAAAAAAAAAAAAAAAAAAAAAAAAAAAAAAAAAAAAAAAAAAAAAAAAAAAAAAAAAAAAAAAAAAAAAAAAAAAAAAAAAAAAAAAAAAAAAAAAAAAAAAAAAAAAAAAAAAAAAAAAAAAAAAAAAAAAAAAAAAAAAAAAAAAAAAAAAAAAAAAAAAAAAAAAAAAAAAAAAAAAAAAAAAAAAAAAAAAAAAAAAAAAAAAAAAAAAAAAAAAAAAAAAAAAAAAAAAAAAAAAAAAAAAAAAAAAAAAAAAAAAAAAAAAACwAAAAABQABAAAICAABDBAQAEBAADs=\"><title>Layer: output2 (output)\n",
       " shape = (5,)\n",
       " Keras class = Dense\n",
       " activation = sigmoid</title></image><text x=\"838.3333333333334\" y=\"52.0\" font-family=\"monospace\" font-size=\"12\" text-anchor=\"start\" alignment-baseline=\"central\">output2</text><line x1=\"366.6666666666667\" y1=\"109\" x2=\"366.6666666666667\" y2=\"82\" stroke=\"black\" stroke-width=\"2\" marker-end=\"url(#arrow)\"><title>Weights from hidden4 to output1\n",
       " output1/kernel has shape (10, 2)\n",
       " output1/bias has shape (2,)</title></line><rect x=\"265.6666666666667\" y=\"109\" width=\"202\" height=\"27\" style=\"fill:none;stroke:black;stroke-width:2\"/><image id=\"Robot Prediction Network_hidden4_91\" class=\"Robot Prediction Network_hidden4\" x=\"266.6666666666667\" y=\"110\" height=\"25\" width=\"200\" preserveAspectRatio=\"none\" href=\"data:image/gif;base64,R0lGODdhCgABAIcAAPr08fa3mv3i0cjIyNLS0uHh4QAAAAAAAAAAAAAAAAAAAAAAAAAAAAAAAAAAAAAAAAAAAAAAAAAAAAAAAAAAAAAAAAAAAAAAAAAAAAAAAAAAAAAAAAAAAAAAAAAAAAAAAAAAAAAAAAAAAAAAAAAAAAAAAAAAAAAAAAAAAAAAAAAAAAAAAAAAAAAAAAAAAAAAAAAAAAAAAAAAAAAAAAAAAAAAAAAAAAAAAAAAAAAAAAAAAAAAAAAAAAAAAAAAAAAAAAAAAAAAAAAAAAAAAAAAAAAAAAAAAAAAAAAAAAAAAAAAAAAAAAAAAAAAAAAAAAAAAAAAAAAAAAAAAAAAAAAAAAAAAAAAAAAAAAAAAAAAAAAAAAAAAAAAAAAAAAAAAAAAAAAAAAAAAAAAAAAAAAAAAAAAAAAAAAAAAAAAAAAAAAAAAAAAAAAAAAAAAAAAAAAAAAAAAAAAAAAAAAAAAAAAAAAAAAAAAAAAAAAAAAAAAAAAAAAAAAAAAAAAAAAAAAAAAAAAAAAAAAAAAAAAAAAAAAAAAAAAAAAAAAAAAAAAAAAAAAAAAAAAAAAAAAAAAAAAAAAAAAAAAAAAAAAAAAAAAAAAAAAAAAAAAAAAAAAAAAAAAAAAAAAAAAAAAAAAAAAAAAAAAAAAAAAAAAAAAAAAAAAAAAAAAAAAAAAAAAAAAAAAAAAAAAAAAAAAAAAAAAAAAAAAAAAAAAAAAAAAAAAAAAAAAAAAAAAAAAAAAAAAAAAAAAAAAAAAAAAAAAAAAAAAAAAAAAAAAAAAAAAAAAAAAAAAAAAAAAAAAAAAAAAAAAAAAAAAAAAAAAAAAAAAAAAAAAAAAAAAAAAAAAAAAAAAAAAAAAAAAAAAAAAAAAAAAAAAAAAAAAAAAAAAAAAAAAAAAAAAAAAAAAAAAAAAAAAAAAAAAAAAAAAAAAAAAAAAAAAAAAAAAAAAAAAAAAAAAAAAAAAAAAAAAAAAAAAAAAAAAAAAAAAAAAAAAAAAAAAAAAAAAAAAAAAAAAAAAAAAAAAAACwAAAAACgABAAAIDgABDAAgIACAAAUEEAgIADs=\"><title>Layer: hidden4 (hidden)\n",
       " shape = (10,)\n",
       " Keras class = Dense\n",
       " activation = sigmoid</title></image><text x=\"471.6666666666667\" y=\"124.5\" font-family=\"monospace\" font-size=\"12\" text-anchor=\"start\" alignment-baseline=\"central\">hidden4</text><line x1=\"733.3333333333334\" y1=\"110\" x2=\"733.3333333333334\" y2=\"70\" stroke=\"red\" stroke-width=\"2\" marker-end=\"url(#arrow)\"><title>Weights from hidden4 to output1\n",
       " output1/kernel has shape (10, 2)\n",
       " output1/bias has shape (2,)</title></line><line x1=\"550.0\" y1=\"164\" x2=\"733.3333333333334\" y2=\"110\" stroke=\"red\" stroke-width=\"2\"><title>TODO</title></line><line x1=\"550.0\" y1=\"164\" x2=\"366.6666666666667\" y2=\"137\" stroke=\"red\" stroke-width=\"2\" marker-end=\"url(#arrow)\"><title>Weights from hidden3 to hidden4\n",
       " hidden4/kernel has shape (10, 10)\n",
       " hidden4/bias has shape (10,)</title></line><rect x=\"449.0\" y=\"164\" width=\"202\" height=\"27\" style=\"fill:none;stroke:black;stroke-width:2\"/><image id=\"Robot Prediction Network_hidden3_92\" class=\"Robot Prediction Network_hidden3\" x=\"450.0\" y=\"165\" height=\"25\" width=\"200\" preserveAspectRatio=\"none\" href=\"data:image/gif;base64,R0lGODdhCgABAIcAAPz59vzZxu/n49LS0vvUvgAAAAAAAAAAAAAAAAAAAAAAAAAAAAAAAAAAAAAAAAAAAAAAAAAAAAAAAAAAAAAAAAAAAAAAAAAAAAAAAAAAAAAAAAAAAAAAAAAAAAAAAAAAAAAAAAAAAAAAAAAAAAAAAAAAAAAAAAAAAAAAAAAAAAAAAAAAAAAAAAAAAAAAAAAAAAAAAAAAAAAAAAAAAAAAAAAAAAAAAAAAAAAAAAAAAAAAAAAAAAAAAAAAAAAAAAAAAAAAAAAAAAAAAAAAAAAAAAAAAAAAAAAAAAAAAAAAAAAAAAAAAAAAAAAAAAAAAAAAAAAAAAAAAAAAAAAAAAAAAAAAAAAAAAAAAAAAAAAAAAAAAAAAAAAAAAAAAAAAAAAAAAAAAAAAAAAAAAAAAAAAAAAAAAAAAAAAAAAAAAAAAAAAAAAAAAAAAAAAAAAAAAAAAAAAAAAAAAAAAAAAAAAAAAAAAAAAAAAAAAAAAAAAAAAAAAAAAAAAAAAAAAAAAAAAAAAAAAAAAAAAAAAAAAAAAAAAAAAAAAAAAAAAAAAAAAAAAAAAAAAAAAAAAAAAAAAAAAAAAAAAAAAAAAAAAAAAAAAAAAAAAAAAAAAAAAAAAAAAAAAAAAAAAAAAAAAAAAAAAAAAAAAAAAAAAAAAAAAAAAAAAAAAAAAAAAAAAAAAAAAAAAAAAAAAAAAAAAAAAAAAAAAAAAAAAAAAAAAAAAAAAAAAAAAAAAAAAAAAAAAAAAAAAAAAAAAAAAAAAAAAAAAAAAAAAAAAAAAAAAAAAAAAAAAAAAAAAAAAAAAAAAAAAAAAAAAAAAAAAAAAAAAAAAAAAAAAAAAAAAAAAAAAAAAAAAAAAAAAAAAAAAAAAAAAAAAAAAAAAAAAAAAAAAAAAAAAAAAAAAAAAAAAAAAAAAAAAAAAAAAAAAAAAAAAAAAAAAAAAAAAAAAAAAAAAAAAAAAAAAAAAAAAAAAAAAAAAAAAAAAAAAAAAAAAAAAAAAAAAAAAAAAAAAAAAAAAAAAAAAAAACwAAAAACgABAAAIDgAJCAAAIAAAAQMABAgIADs=\"><title>Layer: hidden3 (hidden)\n",
       " shape = (10,)\n",
       " dropout = 0.25\n",
       " Keras class = Dense\n",
       " activation = sigmoid</title></image><text x=\"655.0\" y=\"179.5\" font-family=\"monospace\" font-size=\"12\" text-anchor=\"start\" alignment-baseline=\"central\">hidden3</text><line x1=\"550.0\" y1=\"219\" x2=\"550.0\" y2=\"192\" stroke=\"black\" stroke-width=\"2\" marker-end=\"url(#arrow)\"><title>Weights from hidden2 to hidden3\n",
       " hidden3/kernel has shape (5, 10)\n",
       " hidden3/bias has shape (10,)</title></line><rect x=\"449.0\" y=\"219\" width=\"202\" height=\"42\" style=\"fill:none;stroke:black;stroke-width:2\"/><image id=\"Robot Prediction Network_hidden2_93\" class=\"Robot Prediction Network_hidden2\" x=\"450.0\" y=\"220\" height=\"40\" width=\"200\" preserveAspectRatio=\"none\" href=\"data:image/gif;base64,R0lGODdhBQABAIcAAP7+/QAAAAAAAAAAAAAAAAAAAAAAAAAAAAAAAAAAAAAAAAAAAAAAAAAAAAAAAAAAAAAAAAAAAAAAAAAAAAAAAAAAAAAAAAAAAAAAAAAAAAAAAAAAAAAAAAAAAAAAAAAAAAAAAAAAAAAAAAAAAAAAAAAAAAAAAAAAAAAAAAAAAAAAAAAAAAAAAAAAAAAAAAAAAAAAAAAAAAAAAAAAAAAAAAAAAAAAAAAAAAAAAAAAAAAAAAAAAAAAAAAAAAAAAAAAAAAAAAAAAAAAAAAAAAAAAAAAAAAAAAAAAAAAAAAAAAAAAAAAAAAAAAAAAAAAAAAAAAAAAAAAAAAAAAAAAAAAAAAAAAAAAAAAAAAAAAAAAAAAAAAAAAAAAAAAAAAAAAAAAAAAAAAAAAAAAAAAAAAAAAAAAAAAAAAAAAAAAAAAAAAAAAAAAAAAAAAAAAAAAAAAAAAAAAAAAAAAAAAAAAAAAAAAAAAAAAAAAAAAAAAAAAAAAAAAAAAAAAAAAAAAAAAAAAAAAAAAAAAAAAAAAAAAAAAAAAAAAAAAAAAAAAAAAAAAAAAAAAAAAAAAAAAAAAAAAAAAAAAAAAAAAAAAAAAAAAAAAAAAAAAAAAAAAAAAAAAAAAAAAAAAAAAAAAAAAAAAAAAAAAAAAAAAAAAAAAAAAAAAAAAAAAAAAAAAAAAAAAAAAAAAAAAAAAAAAAAAAAAAAAAAAAAAAAAAAAAAAAAAAAAAAAAAAAAAAAAAAAAAAAAAAAAAAAAAAAAAAAAAAAAAAAAAAAAAAAAAAAAAAAAAAAAAAAAAAAAAAAAAAAAAAAAAAAAAAAAAAAAAAAAAAAAAAAAAAAAAAAAAAAAAAAAAAAAAAAAAAAAAAAAAAAAAAAAAAAAAAAAAAAAAAAAAAAAAAAAAAAAAAAAAAAAAAAAAAAAAAAAAAAAAAAAAAAAAAAAAAAAAAAAAAAAAAAAAAAAAAAAAAAAAAAAAAAAAAAAAAAAAAAAAAAAAAAAAAAAAAAAAAAAAAAAAAAAAAAAAAAAAACwAAAAABQABAAAIBgABCBQYEAA7\"><title>Layer: hidden2 (hidden)\n",
       " shape = (5,)\n",
       " Keras class = Dense\n",
       " activation = sigmoid</title></image><text x=\"655.0\" y=\"242.0\" font-family=\"monospace\" font-size=\"12\" text-anchor=\"start\" alignment-baseline=\"central\">hidden2</text><line x1=\"275.0\" y1=\"290\" x2=\"550.0\" y2=\"260\" stroke=\"black\" stroke-width=\"2\" marker-end=\"url(#arrow)\"><title>Weights from hidden2 to hidden3\n",
       " hidden3/kernel has shape (5, 10)\n",
       " hidden3/bias has shape (10,)</title></line><line x1=\"550.0\" y1=\"290\" x2=\"550.0\" y2=\"260\" stroke=\"black\" stroke-width=\"2\" marker-end=\"url(#arrow)\"><title>Weights from hidden2 to hidden3\n",
       " hidden3/kernel has shape (5, 10)\n",
       " hidden3/bias has shape (10,)</title></line><line x1=\"825.0\" y1=\"289\" x2=\"550.0\" y2=\"262\" stroke=\"black\" stroke-width=\"2\" marker-end=\"url(#arrow)\"><title>Weights from flatten to hidden2\n",
       " hidden2/kernel has shape (35330, 5)\n",
       " hidden2/bias has shape (5,)</title></line><rect x=\"724.0\" y=\"289\" width=\"202\" height=\"27\" style=\"fill:none;stroke:black;stroke-width:2\"/><image id=\"Robot Prediction Network_flatten_94\" class=\"Robot Prediction Network_flatten\" x=\"725.0\" y=\"290\" height=\"25\" width=\"200\" preserveAspectRatio=\"none\" href=\"data:image/gif;base64,R0lGODdhwIkBAIcAAP7+/QAAAAAAAAAAAAAAAAAAAAAAAAAAAAAAAAAAAAAAAAAAAAAAAAAAAAAAAAAAAAAAAAAAAAAAAAAAAAAAAAAAAAAAAAAAAAAAAAAAAAAAAAAAAAAAAAAAAAAAAAAAAAAAAAAAAAAAAAAAAAAAAAAAAAAAAAAAAAAAAAAAAAAAAAAAAAAAAAAAAAAAAAAAAAAAAAAAAAAAAAAAAAAAAAAAAAAAAAAAAAAAAAAAAAAAAAAAAAAAAAAAAAAAAAAAAAAAAAAAAAAAAAAAAAAAAAAAAAAAAAAAAAAAAAAAAAAAAAAAAAAAAAAAAAAAAAAAAAAAAAAAAAAAAAAAAAAAAAAAAAAAAAAAAAAAAAAAAAAAAAAAAAAAAAAAAAAAAAAAAAAAAAAAAAAAAAAAAAAAAAAAAAAAAAAAAAAAAAAAAAAAAAAAAAAAAAAAAAAAAAAAAAAAAAAAAAAAAAAAAAAAAAAAAAAAAAAAAAAAAAAAAAAAAAAAAAAAAAAAAAAAAAAAAAAAAAAAAAAAAAAAAAAAAAAAAAAAAAAAAAAAAAAAAAAAAAAAAAAAAAAAAAAAAAAAAAAAAAAAAAAAAAAAAAAAAAAAAAAAAAAAAAAAAAAAAAAAAAAAAAAAAAAAAAAAAAAAAAAAAAAAAAAAAAAAAAAAAAAAAAAAAAAAAAAAAAAAAAAAAAAAAAAAAAAAAAAAAAAAAAAAAAAAAAAAAAAAAAAAAAAAAAAAAAAAAAAAAAAAAAAAAAAAAAAAAAAAAAAAAAAAAAAAAAAAAAAAAAAAAAAAAAAAAAAAAAAAAAAAAAAAAAAAAAAAAAAAAAAAAAAAAAAAAAAAAAAAAAAAAAAAAAAAAAAAAAAAAAAAAAAAAAAAAAAAAAAAAAAAAAAAAAAAAAAAAAAAAAAAAAAAAAAAAAAAAAAAAAAAAAAAAAAAAAAAAAAAAAAAAAAAAAAAAAAAAAAAAAAAAAAAAAAAAAAAAAAAAAAAAAAAAAAAAAAAAAAAAAAAAAAAAAAAAAAAAAAAAAAAACwAAAAAwIkBAAAI/wABCBxIsKDBgwgTKlzIsKHDhxAjSpxIsaLFixgzatzIsaPHjyBDihxJsqTJkyhTqlzJsqXLlzBjypxJs6bNmzhz6tzJs6fPn0CDCh1KtKjRo0iTKl3KtKnTp1CjSp1KtarVq1izat3KtavXr2DDih1LtqzZs2jTql3Ltq3bt3Djyp1Lt67du3jz6t3Lt6/fv4ADCx5MuLDhw4gTK17MuLHjx5AjS55MubLly5gza97MubPnz6BDix5NurTp06hTq17NurXr17Bjy55Nu7bt27hz697Nu7fv38CDCx9OvLjx48iTK1/OvLnz59CjS59Ovbr169iza9/Ovbv37+DDi3gfT768+fPo06tfz769+/fw48ufT7++/fv48+vfz7+/f4AABA4kWNDgQYQJFS5k2NDhQ4gRJU6kWNHiRYwZNW7k2NHjR5AhRY4kWdLkSZQpVa5k2dLlS5gxZc6kWdPmTZw5de7k2dPnT6BBhQ4lWtToUaRJlS7tGBAAOw==\"><title>Layer: flatten (hidden)\n",
       " Keras class = Flatten</title></image><text x=\"930.0\" y=\"304.5\" font-family=\"monospace\" font-size=\"12\" text-anchor=\"start\" alignment-baseline=\"central\">flatten</text><line x1=\"275.0\" y1=\"344\" x2=\"275.0\" y2=\"290\" stroke=\"black\" stroke-width=\"2\"><title>TODO</title></line><rect x=\"174.0\" y=\"344\" width=\"202\" height=\"27\" style=\"fill:none;stroke:black;stroke-width:2\"/><image id=\"Robot Prediction Network_hidden_95\" class=\"Robot Prediction Network_hidden\" x=\"175.0\" y=\"345\" height=\"25\" width=\"200\" preserveAspectRatio=\"none\" href=\"data:image/gif;base64,R0lGODdhMgABAIcAAP7+/QAAAAAAAAAAAAAAAAAAAAAAAAAAAAAAAAAAAAAAAAAAAAAAAAAAAAAAAAAAAAAAAAAAAAAAAAAAAAAAAAAAAAAAAAAAAAAAAAAAAAAAAAAAAAAAAAAAAAAAAAAAAAAAAAAAAAAAAAAAAAAAAAAAAAAAAAAAAAAAAAAAAAAAAAAAAAAAAAAAAAAAAAAAAAAAAAAAAAAAAAAAAAAAAAAAAAAAAAAAAAAAAAAAAAAAAAAAAAAAAAAAAAAAAAAAAAAAAAAAAAAAAAAAAAAAAAAAAAAAAAAAAAAAAAAAAAAAAAAAAAAAAAAAAAAAAAAAAAAAAAAAAAAAAAAAAAAAAAAAAAAAAAAAAAAAAAAAAAAAAAAAAAAAAAAAAAAAAAAAAAAAAAAAAAAAAAAAAAAAAAAAAAAAAAAAAAAAAAAAAAAAAAAAAAAAAAAAAAAAAAAAAAAAAAAAAAAAAAAAAAAAAAAAAAAAAAAAAAAAAAAAAAAAAAAAAAAAAAAAAAAAAAAAAAAAAAAAAAAAAAAAAAAAAAAAAAAAAAAAAAAAAAAAAAAAAAAAAAAAAAAAAAAAAAAAAAAAAAAAAAAAAAAAAAAAAAAAAAAAAAAAAAAAAAAAAAAAAAAAAAAAAAAAAAAAAAAAAAAAAAAAAAAAAAAAAAAAAAAAAAAAAAAAAAAAAAAAAAAAAAAAAAAAAAAAAAAAAAAAAAAAAAAAAAAAAAAAAAAAAAAAAAAAAAAAAAAAAAAAAAAAAAAAAAAAAAAAAAAAAAAAAAAAAAAAAAAAAAAAAAAAAAAAAAAAAAAAAAAAAAAAAAAAAAAAAAAAAAAAAAAAAAAAAAAAAAAAAAAAAAAAAAAAAAAAAAAAAAAAAAAAAAAAAAAAAAAAAAAAAAAAAAAAAAAAAAAAAAAAAAAAAAAAAAAAAAAAAAAAAAAAAAAAAAAAAAAAAAAAAAAAAAAAAAAAAAAAAAAAAAAAAAAAAAAAAAAAAAAAAAAAAAAAAAAAAAAAAAAAAAAAAAAAAAAAAAAAAAAAACwAAAAAMgABAAAIDgABCBxIsKDBgwgTFgwIADs=\"><title>Layer: hidden (hidden)\n",
       " shape = (50,)\n",
       " Keras class = Dense\n",
       " activation = relu</title></image><text x=\"380.0\" y=\"359.5\" font-family=\"monospace\" font-size=\"12\" text-anchor=\"start\" alignment-baseline=\"central\">hidden</text><line x1=\"550.0\" y1=\"345\" x2=\"550.0\" y2=\"290\" stroke=\"black\" stroke-width=\"2\"><title>TODO</title></line><line x1=\"825.0\" y1=\"344\" x2=\"825.0\" y2=\"317\" stroke=\"black\" stroke-width=\"2\" marker-end=\"url(#arrow)\"><title>Weights from conv to flatten</title></line><rect x=\"724.0\" y=\"344\" width=\"202\" height=\"133\" style=\"fill:none;stroke:black;stroke-width:2\"/><image id=\"Robot Prediction Network_conv_96\" class=\"Robot Prediction Network_conv\" x=\"725.0\" y=\"345\" height=\"131\" width=\"200\" preserveAspectRatio=\"none\" href=\"data:image/gif;base64,R0lGODdhOgAmAIcAAP7+/QAAAAAAAAAAAAAAAAAAAAAAAAAAAAAAAAAAAAAAAAAAAAAAAAAAAAAAAAAAAAAAAAAAAAAAAAAAAAAAAAAAAAAAAAAAAAAAAAAAAAAAAAAAAAAAAAAAAAAAAAAAAAAAAAAAAAAAAAAAAAAAAAAAAAAAAAAAAAAAAAAAAAAAAAAAAAAAAAAAAAAAAAAAAAAAAAAAAAAAAAAAAAAAAAAAAAAAAAAAAAAAAAAAAAAAAAAAAAAAAAAAAAAAAAAAAAAAAAAAAAAAAAAAAAAAAAAAAAAAAAAAAAAAAAAAAAAAAAAAAAAAAAAAAAAAAAAAAAAAAAAAAAAAAAAAAAAAAAAAAAAAAAAAAAAAAAAAAAAAAAAAAAAAAAAAAAAAAAAAAAAAAAAAAAAAAAAAAAAAAAAAAAAAAAAAAAAAAAAAAAAAAAAAAAAAAAAAAAAAAAAAAAAAAAAAAAAAAAAAAAAAAAAAAAAAAAAAAAAAAAAAAAAAAAAAAAAAAAAAAAAAAAAAAAAAAAAAAAAAAAAAAAAAAAAAAAAAAAAAAAAAAAAAAAAAAAAAAAAAAAAAAAAAAAAAAAAAAAAAAAAAAAAAAAAAAAAAAAAAAAAAAAAAAAAAAAAAAAAAAAAAAAAAAAAAAAAAAAAAAAAAAAAAAAAAAAAAAAAAAAAAAAAAAAAAAAAAAAAAAAAAAAAAAAAAAAAAAAAAAAAAAAAAAAAAAAAAAAAAAAAAAAAAAAAAAAAAAAAAAAAAAAAAAAAAAAAAAAAAAAAAAAAAAAAAAAAAAAAAAAAAAAAAAAAAAAAAAAAAAAAAAAAAAAAAAAAAAAAAAAAAAAAAAAAAAAAAAAAAAAAAAAAAAAAAAAAAAAAAAAAAAAAAAAAAAAAAAAAAAAAAAAAAAAAAAAAAAAAAAAAAAAAAAAAAAAAAAAAAAAAAAAAAAAAAAAAAAAAAAAAAAAAAAAAAAAAAAAAAAAAAAAAAAAAAAAAAAAAAAAAAAAAAAAAAAAAAAAAAAAAAAAAAAAAAAAAAAAAAACwAAAAAOgAmAEAITQABCBxIsKDBgwgTKlzIsKHDhxAjSpxIsaLFixgzatzIsaPHjyBDihxJsqTJkyhTqlzJsqXLlzBjypxJs6bNmzhz6tzJs6fPn0CD7gwIADs=\"><title>Layer: conv (hidden)\n",
       " Keras class = Conv2D</title></image><text x=\"930.0\" y=\"412.5\" font-family=\"monospace\" font-size=\"12\" text-anchor=\"start\" alignment-baseline=\"central\">conv</text><text x=\"930.0\" y=\"350\" font-family=\"monospace\" font-size=\"12\" text-anchor=\"start\" alignment-baseline=\"central\">16</text><text x=\"706.0\" y=\"471\" font-family=\"monospace\" font-size=\"12\" text-anchor=\"start\" alignment-baseline=\"central\">15</text><line x1=\"275.0\" y1=\"505\" x2=\"275.0\" y2=\"372\" stroke=\"black\" stroke-width=\"2\" marker-end=\"url(#arrow)\"><title>Weights from light to hidden\n",
       " hidden/kernel has shape (2, 50)\n",
       " hidden/bias has shape (50,)</title></line><rect x=\"224.0\" y=\"505\" width=\"102\" height=\"52\" style=\"fill:none;stroke:black;stroke-width:2\"/><image id=\"Robot Prediction Network_light_97\" class=\"Robot Prediction Network_light\" x=\"225.0\" y=\"506\" height=\"50\" width=\"100\" preserveAspectRatio=\"none\" href=\"data:image/gif;base64,R0lGODdhAgABAIcAAP7+/QAAAAAAAAAAAAAAAAAAAAAAAAAAAAAAAAAAAAAAAAAAAAAAAAAAAAAAAAAAAAAAAAAAAAAAAAAAAAAAAAAAAAAAAAAAAAAAAAAAAAAAAAAAAAAAAAAAAAAAAAAAAAAAAAAAAAAAAAAAAAAAAAAAAAAAAAAAAAAAAAAAAAAAAAAAAAAAAAAAAAAAAAAAAAAAAAAAAAAAAAAAAAAAAAAAAAAAAAAAAAAAAAAAAAAAAAAAAAAAAAAAAAAAAAAAAAAAAAAAAAAAAAAAAAAAAAAAAAAAAAAAAAAAAAAAAAAAAAAAAAAAAAAAAAAAAAAAAAAAAAAAAAAAAAAAAAAAAAAAAAAAAAAAAAAAAAAAAAAAAAAAAAAAAAAAAAAAAAAAAAAAAAAAAAAAAAAAAAAAAAAAAAAAAAAAAAAAAAAAAAAAAAAAAAAAAAAAAAAAAAAAAAAAAAAAAAAAAAAAAAAAAAAAAAAAAAAAAAAAAAAAAAAAAAAAAAAAAAAAAAAAAAAAAAAAAAAAAAAAAAAAAAAAAAAAAAAAAAAAAAAAAAAAAAAAAAAAAAAAAAAAAAAAAAAAAAAAAAAAAAAAAAAAAAAAAAAAAAAAAAAAAAAAAAAAAAAAAAAAAAAAAAAAAAAAAAAAAAAAAAAAAAAAAAAAAAAAAAAAAAAAAAAAAAAAAAAAAAAAAAAAAAAAAAAAAAAAAAAAAAAAAAAAAAAAAAAAAAAAAAAAAAAAAAAAAAAAAAAAAAAAAAAAAAAAAAAAAAAAAAAAAAAAAAAAAAAAAAAAAAAAAAAAAAAAAAAAAAAAAAAAAAAAAAAAAAAAAAAAAAAAAAAAAAAAAAAAAAAAAAAAAAAAAAAAAAAAAAAAAAAAAAAAAAAAAAAAAAAAAAAAAAAAAAAAAAAAAAAAAAAAAAAAAAAAAAAAAAAAAAAAAAAAAAAAAAAAAAAAAAAAAAAAAAAAAAAAAAAAAAAAAAAAAAAAAAAAAAAAAAAAAAAAAAAAAAAAAAAAAAAAAAAAAAAAAAAAAAAAACwAAAAAAgABAAAIBQABAAgIADs=\"><title>Layer: light (input)\n",
       " shape = (2,)\n",
       " Keras class = Input</title></image><text x=\"330.0\" y=\"533.0\" font-family=\"monospace\" font-size=\"12\" text-anchor=\"start\" alignment-baseline=\"central\">light</text><line x1=\"550.0\" y1=\"505\" x2=\"550.0\" y2=\"345\" stroke=\"black\" stroke-width=\"2\"><title>TODO</title></line><rect x=\"449.0\" y=\"505\" width=\"202\" height=\"27\" style=\"fill:none;stroke:black;stroke-width:2\"/><image id=\"Robot Prediction Network_sonar_98\" class=\"Robot Prediction Network_sonar\" x=\"450.0\" y=\"506\" height=\"25\" width=\"200\" preserveAspectRatio=\"none\" href=\"data:image/gif;base64,R0lGODdhEAABAIcAAP7+/QAAAAAAAAAAAAAAAAAAAAAAAAAAAAAAAAAAAAAAAAAAAAAAAAAAAAAAAAAAAAAAAAAAAAAAAAAAAAAAAAAAAAAAAAAAAAAAAAAAAAAAAAAAAAAAAAAAAAAAAAAAAAAAAAAAAAAAAAAAAAAAAAAAAAAAAAAAAAAAAAAAAAAAAAAAAAAAAAAAAAAAAAAAAAAAAAAAAAAAAAAAAAAAAAAAAAAAAAAAAAAAAAAAAAAAAAAAAAAAAAAAAAAAAAAAAAAAAAAAAAAAAAAAAAAAAAAAAAAAAAAAAAAAAAAAAAAAAAAAAAAAAAAAAAAAAAAAAAAAAAAAAAAAAAAAAAAAAAAAAAAAAAAAAAAAAAAAAAAAAAAAAAAAAAAAAAAAAAAAAAAAAAAAAAAAAAAAAAAAAAAAAAAAAAAAAAAAAAAAAAAAAAAAAAAAAAAAAAAAAAAAAAAAAAAAAAAAAAAAAAAAAAAAAAAAAAAAAAAAAAAAAAAAAAAAAAAAAAAAAAAAAAAAAAAAAAAAAAAAAAAAAAAAAAAAAAAAAAAAAAAAAAAAAAAAAAAAAAAAAAAAAAAAAAAAAAAAAAAAAAAAAAAAAAAAAAAAAAAAAAAAAAAAAAAAAAAAAAAAAAAAAAAAAAAAAAAAAAAAAAAAAAAAAAAAAAAAAAAAAAAAAAAAAAAAAAAAAAAAAAAAAAAAAAAAAAAAAAAAAAAAAAAAAAAAAAAAAAAAAAAAAAAAAAAAAAAAAAAAAAAAAAAAAAAAAAAAAAAAAAAAAAAAAAAAAAAAAAAAAAAAAAAAAAAAAAAAAAAAAAAAAAAAAAAAAAAAAAAAAAAAAAAAAAAAAAAAAAAAAAAAAAAAAAAAAAAAAAAAAAAAAAAAAAAAAAAAAAAAAAAAAAAAAAAAAAAAAAAAAAAAAAAAAAAAAAAAAAAAAAAAAAAAAAAAAAAAAAAAAAAAAAAAAAAAAAAAAAAAAAAAAAAAAAAAAAAAAAAAAAAAAAAAAAAAAAAAAAAAAAAAAAAAAAAAAAAAAAAAACwAAAAAEAABAAAICQABCBxIsCCAgAA7\"><title>Layer: sonar (input)\n",
       " shape = (16,)\n",
       " Keras class = Input</title></image><text x=\"655.0\" y=\"520.5\" font-family=\"monospace\" font-size=\"12\" text-anchor=\"start\" alignment-baseline=\"central\">sonar</text><line x1=\"825.0\" y1=\"505\" x2=\"825.0\" y2=\"478\" stroke=\"black\" stroke-width=\"2\" marker-end=\"url(#arrow)\"><title>Weights from camera to conv\n",
       " conv/kernel has shape (3, 3, 3, 16)\n",
       " conv/bias has shape (16,)</title></line><rect x=\"724.0\" y=\"505\" width=\"202\" height=\"135\" style=\"fill:none;stroke:black;stroke-width:2\"/><image id=\"Robot Prediction Network_camera_99\" class=\"Robot Prediction Network_camera\" x=\"725.0\" y=\"506\" height=\"133\" width=\"200\" preserveAspectRatio=\"none\" href=\"data:image/gif;base64,R0lGODdhPAAoAIcAAAAAAAAAAAAAAAAAAAAAAAAAAAAAAAAAAAAAAAAAAAAAAAAAAAAAAAAAAAAAAAAAAAAAAAAAAAAAAAAAAAAAAAAAAAAAAAAAAAAAAAAAAAAAAAAAAAAAAAAAAAAAAAAAAAAAAAAAAAAAAAAAAAAAAAAAAAAAAAAAAAAAAAAAAAAAAAAAAAAAAAAAAAAAAAAAAAAAAAAAAAAAAAAAAAAAAAAAAAAAAAAAAAAAAAAAAAAAAAAAAAAAAAAAAAAAAAAAAAAAAAAAAAAAAAAAAAAAAAAAAAAAAAAAAAAAAAAAAAAAAAAAAAAAAAAAAAAAAAAAAAAAAAAAAAAAAAAAAAAAAAAAAAAAAAAAAAAAAAAAAAAAAAAAAAAAAAAAAAAAAAAAAAAAAAAAAAAAAAAAAAAAAAAAAAAAAAAAAAAAAAAAAAAAAAAAAAAAAAAAAAAAAAAAAAAAAAAAAAAAAAAAAAAAAAAAAAAAAAAAAAAAAAAAAAAAAAAAAAAAAAAAAAAAAAAAAAAAAAAAAAAAAAAAAAAAAAAAAAAAAAAAAAAAAAAAAAAAAAAAAAAAAAAAAAAAAAAAAAAAAAAAAAAAAAAAAAAAAAAAAAAAAAAAAAAAAAAAAAAAAAAAAAAAAAAAAAAAAAAAAAAAAAAAAAAAAAAAAAAAAAAAAAAAAAAAAAAAAAAAAAAAAAAAAAAAAAAAAAAAAAAAAAAAAAAAAAAAAAAAAAAAAAAAAAAAAAAAAAAAAAAAAAAAAAAAAAAAAAAAAAAAAAAAAAAAAAAAAAAAAAAAAAAAAAAAAAAAAAAAAAAAAAAAAAAAAAAAAAAAAAAAAAAAAAAAAAAAAAAAAAAAAAAAAAAAAAAAAAAAAAAAAAAAAAAAAAAAAAAAAAAAAAAAAAAAAAAAAAAAAAAAAAAAAAAAAAAAAAAAAAAAAAAAAAAAAAAAAAAAAAAAAAAAAAAAAAAAAAAAAAAAAAAAAAAAAAAAAAAAAAAAAAAAAAAAAAAAAAAAAAAAAAAAAAAAAAAAAAAAAAAAACwAAAAAPAAoAEAIUAABCBxIsKDBgwgTKlzIsKHDhxAjSpxIsaLFixgzatzIsaPHjyBDihxJsqTJkyhTqlzJsqXLlzBjypxJs6bNmzhz6tzJs6fPn0CDCh1K1GZAADs=\"><title>Layer: camera (input)\n",
       " shape = (40, 60, 3)\n",
       " Keras class = Input</title></image><text x=\"930.0\" y=\"574.5\" font-family=\"monospace\" font-size=\"12\" text-anchor=\"start\" alignment-baseline=\"central\">camera</text></svg>"
      ],
      "text/plain": [
       "<Network name='Robot Prediction Network' (compiled)>"
      ]
     },
     "execution_count": 28,
     "metadata": {},
     "output_type": "execute_result"
    }
   ],
   "source": [
    "net"
   ]
  },
  {
   "cell_type": "code",
   "execution_count": null,
   "metadata": {},
   "outputs": [],
   "source": []
  }
 ],
 "metadata": {
  "kernelspec": {
   "display_name": "Python 3",
   "language": "python",
   "name": "python3"
  },
  "language_info": {
   "codemirror_mode": {
    "name": "ipython",
    "version": 3
   },
   "file_extension": ".py",
   "mimetype": "text/x-python",
   "name": "python",
   "nbconvert_exporter": "python",
   "pygments_lexer": "ipython3",
   "version": "3.5.3"
  },
  "widgets": {
   "application/vnd.jupyter.widget-state+json": {
    "state": {
     "08423084241441eb9091dfd3995ec7fe": {
      "model_module": "jupyter-js-widgets",
      "model_module_version": "~2.1.4",
      "model_name": "LayoutModel",
      "state": {
       "_model_module_version": "~2.1.4",
       "_view_module_version": "~2.1.4"
      }
     },
     "0a486aece37d4ceda35626962a10b644": {
      "model_module": "jupyter-js-widgets",
      "model_module_version": "~2.1.4",
      "model_name": "LayoutModel",
      "state": {
       "_model_module_version": "~2.1.4",
       "_view_module_version": "~2.1.4",
       "height": "20px",
       "padding": "0px 0px 0px 0px",
       "width": "248px"
      }
     },
     "116e160ad9f14e7fb81d6dabde0c37eb": {
      "model_module": "jupyter-js-widgets",
      "model_module_version": "~2.1.4",
      "model_name": "FloatSliderModel",
      "state": {
       "_model_module_version": "~2.1.4",
       "_view_module_version": "~2.1.4",
       "layout": "IPY_MODEL_c3c7c15d20ec4640a9f5fe85ade3682c",
       "orientation": "vertical",
       "readout": false,
       "step": 0.1,
       "value": 51.24999999999999
      }
     },
     "1adceb8e00834cea8cf5b6dbe7433a09": {
      "model_module": "jupyter-js-widgets",
      "model_module_version": "~2.1.4",
      "model_name": "LayoutModel",
      "state": {
       "_model_module_version": "~2.1.4",
       "_view_module_version": "~2.1.4"
      }
     },
     "1c00298cd5294f93a5bd80d8eb821703": {
      "model_module": "jupyter-js-widgets",
      "model_module_version": "~2.1.4",
      "model_name": "ImageModel",
      "state": {
       "_b64value": "iVBORw0KGgoAAAANSUhEUgAAADwAAAAoCAIAAAAt2Q6oAAAA8UlEQVR4nO3WoQ7CMBCA4d5d++gYggJDwMwgEJshATHkEIRgUCCwkxiwZAhGMxq2bIRcaXKfWOb655b0BvExV6FB3wHfkGguEs1ForlINBeJ5qJ9B5TuhwzeKaWqz+qLt+jbNkVEIgIARLRBbXSOztPYDqBuEg2KokBEYwwRdT3a+hx9SiJ8sZOofji/yuhdNCQirTURPVv9ZjXTm8kAAIwxvks6+OuJ1pFoLhLNJchouFzPSql+b+rc0w3L5Vcb0Vnj7f89ymjHeDQPL7rBLFqGF/0riyQLL9qxXu3Di+4kyCtPorlINBeJ5iLRXIKMfgDJGDkVat0rzwAAAABJRU5ErkJggg==",
       "_model_module_version": "~2.1.4",
       "_view_module_version": "~2.1.4",
       "layout": "IPY_MODEL_826d8904866c4e82ba2a9a5221fd2631",
       "width": "240"
      }
     },
     "2e5b657e21fa4e3fb459a974ef89ffea": {
      "model_module": "jupyter-js-widgets",
      "model_module_version": "~2.1.4",
      "model_name": "FloatSliderModel",
      "state": {
       "_model_module_version": "~2.1.4",
       "_view_module_version": "~2.1.4",
       "layout": "IPY_MODEL_0a486aece37d4ceda35626962a10b644",
       "readout": false,
       "step": 0.1,
       "value": 99.44295769917836
      }
     },
     "2e5d973073534c3eb26e448b646a8c7d": {
      "model_module": "jupyter-js-widgets",
      "model_module_version": "~2.1.4",
      "model_name": "OutputModel",
      "state": {
       "_dom_classes": [],
       "_model_module": "jupyter-js-widgets",
       "_model_module_version": "~2.1.4",
       "_view_module": "jupyter-js-widgets",
       "_view_module_version": "~2.1.4",
       "layout": "IPY_MODEL_39f10ac0d7e94b6a998cecbcde4c3c24",
       "msg_throttle": 1
      }
     },
     "35e0bf572944420cb3eb23722feea99e": {
      "model_module": "jupyter-js-widgets",
      "model_module_version": "~2.1.4",
      "model_name": "LayoutModel",
      "state": {
       "_model_module_version": "~2.1.4",
       "_view_module_version": "~2.1.4"
      }
     },
     "39f10ac0d7e94b6a998cecbcde4c3c24": {
      "model_module": "jupyter-js-widgets",
      "model_module_version": "~2.1.4",
      "model_name": "LayoutModel",
      "state": {
       "_model_module_version": "~2.1.4",
       "_view_module_version": "~2.1.4"
      }
     },
     "497f35579b594d33b9416aa809c0bbe3": {
      "model_module": "jupyter-js-widgets",
      "model_module_version": "~2.1.4",
      "model_name": "LayoutModel",
      "state": {
       "_model_module_version": "~2.1.4",
       "_view_module_version": "~2.1.4"
      }
     },
     "4bdda6111b9546a697c36c05475b6a3e": {
      "model_module": "jupyter-js-widgets",
      "model_module_version": "~2.1.4",
      "model_name": "TextModel",
      "state": {
       "_model_module_version": "~2.1.4",
       "_view_module_version": "~2.1.4",
       "description": "Time:",
       "layout": "IPY_MODEL_e558e089bd89408784f5d3d9c965f2aa",
       "value": "0.10 seconds"
      }
     },
     "5527ccfc5f274a7dbc6ce3afe206b84b": {
      "model_module": "jupyter-js-widgets",
      "model_module_version": "~2.1.4",
      "model_name": "CheckboxModel",
      "state": {
       "_model_module_version": "~2.1.4",
       "_view_module_version": "~2.1.4",
       "description": "Update GUI",
       "disabled": false,
       "layout": "IPY_MODEL_752f6bab412348b7b4fbcd2a3a3dd15a",
       "value": true
      }
     },
     "55d26593c20a4c6fa86765e4fa753a11": {
      "model_module": "jupyter-js-widgets",
      "model_module_version": "~2.1.4",
      "model_name": "LayoutModel",
      "state": {
       "_model_module_version": "~2.1.4",
       "_view_module_version": "~2.1.4"
      }
     },
     "5d02f863f83c4124aa1dea90e55f836c": {
      "model_module": "jupyter-js-widgets",
      "model_module_version": "~2.1.4",
      "model_name": "HTMLModel",
      "state": {
       "_model_module_version": "~2.1.4",
       "_view_module_version": "~2.1.4",
       "layout": "IPY_MODEL_08423084241441eb9091dfd3995ec7fe",
       "value": "<svg baseProfile=\"full\" height=\"240\" version=\"1.1\" width=\"240\" xmlns=\"http://www.w3.org/2000/svg\" xmlns:ev=\"http://www.w3.org/2001/xml-events\" xmlns:xlink=\"http://www.w3.org/1999/xlink\"><defs /><rect fill=\"white\" height=\"240\" stroke=\"#000000\" stroke-width=\"1\" width=\"240\" x=\"0\" y=\"0\" /><rect fill=\"#eef3dd\" height=\"240.0\" stroke=\"#bebebe\" stroke-width=\"1\" width=\"240.0\" x=\"0.0\" y=\"0.0\" /><circle cx=\"120.0\" cy=\"195.0\" fill=\"#ffff00\" r=\"15.0\" stroke=\"#ffff00\" stroke-width=\"1\" /><line fill=\"#800080\" stroke=\"#add8e6\" stroke-width=\"1\" x1=\"199.29647346587737\" x2=\"0.0\" y1=\"111.37109959820461\" y2=\"118.34932799999999\" /><line fill=\"#800080\" stroke=\"#add8e6\" stroke-width=\"1\" x1=\"200.64858482032437\" x2=\"0.0\" y1=\"107.12118255369946\" y2=\"21.973026000000004\" /><line fill=\"#800080\" stroke=\"#add8e6\" stroke-width=\"1\" x1=\"202.98412783209295\" x2=\"108.20933355871675\" y1=\"105.23830209010676\" y2=\"0.0\" /><line fill=\"#800080\" stroke=\"#add8e6\" stroke-width=\"1\" x1=\"206.529433775271\" x2=\"174.84110042201567\" y1=\"103.61324646974592\" y2=\"0.0\" /><line fill=\"#800080\" stroke=\"#add8e6\" stroke-width=\"1\" x1=\"212.52575915041191\" x2=\"236.38811675880686\" y1=\"103.4032893421199\" y2=\"0.0\" /><line fill=\"#800080\" stroke=\"#add8e6\" stroke-width=\"1\" x1=\"216.176043657403\" x2=\"240.0\" y1=\"104.77639640932952\" y2=\"74.27725800000002\" /><line fill=\"#800080\" stroke=\"#add8e6\" stroke-width=\"1\" x1=\"218.63756094574717\" x2=\"240.0\" y1=\"106.49131117082139\" y2=\"95.60408999999999\" /><line fill=\"#800080\" stroke=\"#add8e6\" stroke-width=\"1\" x1=\"220.28361227887063\" x2=\"240.0\" y1=\"110.63624965151354\" y2=\"109.94589599999998\" /><line fill=\"#800080\" stroke=\"#add8e6\" stroke-width=\"1\" x1=\"220.70352653412263\" x2=\"240.0\" y1=\"122.62890040179542\" y2=\"121.95324600000001\" /><line fill=\"#800080\" stroke=\"#add8e6\" stroke-width=\"1\" x1=\"219.35141517967563\" x2=\"240.0\" y1=\"126.87881744630057\" y2=\"135.641346\" /><line fill=\"#800080\" stroke=\"#add8e6\" stroke-width=\"1\" x1=\"217.01587216790705\" x2=\"240.0\" y1=\"128.76169790989326\" y2=\"154.283364\" /><line fill=\"#800080\" stroke=\"#add8e6\" stroke-width=\"1\" x1=\"213.470566224729\" x2=\"240.0\" y1=\"130.3867535302541\" y2=\"217.131636\" /><line fill=\"#800080\" stroke=\"#add8e6\" stroke-width=\"1\" x1=\"207.47424084958809\" x2=\"182.22726449088904\" y1=\"130.59671065788012\" y2=\"240.0\" /><line fill=\"#800080\" stroke=\"#add8e6\" stroke-width=\"1\" x1=\"203.823956342597\" x2=\"117.29260723482744\" y1=\"129.2236035906705\" y2=\"240.0\" /><line fill=\"#800080\" stroke=\"#add8e6\" stroke-width=\"1\" x1=\"201.36243905425283\" x2=\"0.0\" y1=\"127.50868882917862\" y2=\"230.131668\" /><line fill=\"#800080\" stroke=\"#add8e6\" stroke-width=\"1\" x1=\"199.71638772112937\" x2=\"0.0\" y1=\"123.36375034848649\" y2=\"130.356678\" /><line fill=\"#800080\" stroke=\"#a020f0\" stroke-width=\"1\" x1=\"210.0\" x2=\"0.0\" y1=\"117.00000000000001\" y2=\"5.366183999999992\" /><line fill=\"#800080\" stroke=\"#a020f0\" stroke-width=\"1\" x1=\"210.0\" x2=\"240.0\" y1=\"117.00000000000001\" y2=\"98.250024\" /><line fill=\"#800080\" stroke=\"#ffa500\" stroke-width=\"1\" x1=\"120.0\" x2=\"199.03402705634483\" y1=\"195.0\" y2=\"103.87569287927845\" /><line fill=\"#800080\" stroke=\"#ffa500\" stroke-width=\"1\" x1=\"120.0\" x2=\"220.02116586933806\" y1=\"195.0\" y2=\"103.14084293258738\" /><polygon fill=\"red\" points=\"204.7305361627287,103.67623360803373 199.19149490206433,108.37293691063414 199.82136628494237,126.36191303605695 205.67534323704578,130.65969779616793 215.2694638372713,130.3237663919663 220.80850509793567,125.62706308936588 220.17863371505763,107.63808696394308 214.32465676295422,103.3403022038321\" stroke=\"red\" stroke-width=\"1\" /><polygon points=\"-3.0,-3.0 0,0 3.0,-3.0 0,3.0\" stroke=\"black\" stroke-width=\"1\" transform=\"translate(210.0,117.00000000000001) rotate(177.9946477170421)\" /><polygon fill=\"black\" points=\"213.30385524640815,108.4791701982271 213.47182094850893,113.27623049833983 206.2762304983398,113.52817905149107 206.108264796239,108.73111875137835\" stroke=\"black\" stroke-width=\"1\" /><circle cx=\"199.03402705634483\" cy=\"103.87569287927845\" fill=\"yellow\" r=\"1.5\" stroke=\"orange\" stroke-width=\"1\" /><circle cx=\"220.02116586933806\" cy=\"103.14084293258738\" fill=\"yellow\" r=\"1.5\" stroke=\"orange\" stroke-width=\"1\" /></svg>"
      }
     },
     "6d1f771c19254382accb04cae6f7b62e": {
      "model_module": "jupyter-js-widgets",
      "model_module_version": "~2.1.4",
      "model_name": "HBoxModel",
      "state": {
       "_model_module_version": "~2.1.4",
       "_view_module_version": "~2.1.4",
       "children": [
        "IPY_MODEL_5527ccfc5f274a7dbc6ce3afe206b84b",
        "IPY_MODEL_4bdda6111b9546a697c36c05475b6a3e"
       ],
       "layout": "IPY_MODEL_b0fe5bc26a9a44bb95dcf2756e7f5088"
      }
     },
     "7001bc75c2104b43a6bd388d787ba44a": {
      "model_module": "jupyter-js-widgets",
      "model_module_version": "~2.1.4",
      "model_name": "VBoxModel",
      "state": {
       "_model_module_version": "~2.1.4",
       "_view_module_version": "~2.1.4",
       "children": [
        "IPY_MODEL_d0cefa9ffa6841c8b59ef0278cc97beb",
        "IPY_MODEL_852d97123f894e63b3ebef0aef4d9a3c",
        "IPY_MODEL_2e5d973073534c3eb26e448b646a8c7d"
       ],
       "layout": "IPY_MODEL_d61e3a6a6d9a409e8f9f65f4541dfd99"
      }
     },
     "752f6bab412348b7b4fbcd2a3a3dd15a": {
      "model_module": "jupyter-js-widgets",
      "model_module_version": "~2.1.4",
      "model_name": "LayoutModel",
      "state": {
       "_model_module_version": "~2.1.4",
       "_view_module_version": "~2.1.4"
      }
     },
     "826d8904866c4e82ba2a9a5221fd2631": {
      "model_module": "jupyter-js-widgets",
      "model_module_version": "~2.1.4",
      "model_name": "LayoutModel",
      "state": {
       "_model_module_version": "~2.1.4",
       "_view_module_version": "~2.1.4"
      }
     },
     "827d29fe3e44461ea1e5e05c88098d68": {
      "model_module": "jupyter-js-widgets",
      "model_module_version": "~2.1.4",
      "model_name": "LayoutModel",
      "state": {
       "_model_module_version": "~2.1.4",
       "_view_module_version": "~2.1.4"
      }
     },
     "852d97123f894e63b3ebef0aef4d9a3c": {
      "model_module": "jupyter-js-widgets",
      "model_module_version": "~2.1.4",
      "model_name": "HBoxModel",
      "state": {
       "_model_module_version": "~2.1.4",
       "_view_module_version": "~2.1.4",
       "children": [
        "IPY_MODEL_dd4d62d9e58842aa9d84a32eb9cb982b",
        "IPY_MODEL_9b7c5fb54cc14aff95c4da6406a0f9ed",
        "IPY_MODEL_d7171539ef4d427cbdcf2195a6ca282d"
       ],
       "layout": "IPY_MODEL_aa94d9d63ae740c3af61b752640a80eb"
      }
     },
     "89534f4f8b8340549bf750fb7dfe0a7a": {
      "model_module": "jupyter-js-widgets",
      "model_module_version": "~2.1.4",
      "model_name": "LayoutModel",
      "state": {
       "_model_module_version": "~2.1.4",
       "_view_module_version": "~2.1.4"
      }
     },
     "9975e40b042c4cd0acf0d02d9b6a3849": {
      "model_module": "jupyter-js-widgets",
      "model_module_version": "~2.1.4",
      "model_name": "HBoxModel",
      "state": {
       "_model_module_version": "~2.1.4",
       "_view_module_version": "~2.1.4",
       "children": [
        "IPY_MODEL_116e160ad9f14e7fb81d6dabde0c37eb",
        "IPY_MODEL_5d02f863f83c4124aa1dea90e55f836c"
       ],
       "layout": "IPY_MODEL_bd23f5a3366547359806ed9502494e70"
      }
     },
     "9af44a5cae7246a89a20a5fbd5a0f130": {
      "model_module": "jupyter-js-widgets",
      "model_module_version": "~2.1.4",
      "model_name": "HBoxModel",
      "state": {
       "_model_module_version": "~2.1.4",
       "_view_module_version": "~2.1.4",
       "children": [
        "IPY_MODEL_c1ceded972004efa89bf5d3ee4943378",
        "IPY_MODEL_d37e45d89f4640d9858bfe2a0f53ad63"
       ],
       "layout": "IPY_MODEL_1adceb8e00834cea8cf5b6dbe7433a09"
      }
     },
     "9b7c5fb54cc14aff95c4da6406a0f9ed": {
      "model_module": "jupyter-js-widgets",
      "model_module_version": "~2.1.4",
      "model_name": "PlayModel",
      "state": {
       "_model_module_version": "~2.1.4",
       "_view_module_version": "~2.1.4",
       "layout": "IPY_MODEL_827d29fe3e44461ea1e5e05c88098d68",
       "max": 1000000
      }
     },
     "9c61c7e69e704f0cbddb4bfa789e9eb2": {
      "model_module": "jupyter-js-widgets",
      "model_module_version": "~2.1.4",
      "model_name": "ButtonStyleModel",
      "state": {
       "_model_module_version": "~2.1.4",
       "_view_module_version": "~2.1.4"
      }
     },
     "a64f5b5a05b545fb8c99ab1de942f334": {
      "model_module": "jupyter-js-widgets",
      "model_module_version": "~2.1.4",
      "model_name": "LayoutModel",
      "state": {
       "_model_module_version": "~2.1.4",
       "_view_module_version": "~2.1.4"
      }
     },
     "aa94d9d63ae740c3af61b752640a80eb": {
      "model_module": "jupyter-js-widgets",
      "model_module_version": "~2.1.4",
      "model_name": "LayoutModel",
      "state": {
       "_model_module_version": "~2.1.4",
       "_view_module_version": "~2.1.4"
      }
     },
     "ad478466503948e3ac134c0d813b347d": {
      "model_module": "jupyter-js-widgets",
      "model_module_version": "~2.1.4",
      "model_name": "FloatSliderModel",
      "state": {
       "_model_module_version": "~2.1.4",
       "_view_module_version": "~2.1.4",
       "layout": "IPY_MODEL_eef4e9caeead4949aec10f216c39e9bd",
       "readout": false,
       "step": 0.1,
       "value": 87.5
      }
     },
     "b0fe5bc26a9a44bb95dcf2756e7f5088": {
      "model_module": "jupyter-js-widgets",
      "model_module_version": "~2.1.4",
      "model_name": "LayoutModel",
      "state": {
       "_model_module_version": "~2.1.4",
       "_view_module_version": "~2.1.4"
      }
     },
     "ba31d73a384e45dcbda53395c2bf5992": {
      "model_module": "jupyter-js-widgets",
      "model_module_version": "~2.1.4",
      "model_name": "LayoutModel",
      "state": {
       "_model_module_version": "~2.1.4",
       "_view_module_version": "~2.1.4"
      }
     },
     "bd23f5a3366547359806ed9502494e70": {
      "model_module": "jupyter-js-widgets",
      "model_module_version": "~2.1.4",
      "model_name": "LayoutModel",
      "state": {
       "_model_module_version": "~2.1.4",
       "_view_module_version": "~2.1.4"
      }
     },
     "c1ceded972004efa89bf5d3ee4943378": {
      "model_module": "jupyter-js-widgets",
      "model_module_version": "~2.1.4",
      "model_name": "VBoxModel",
      "state": {
       "_model_module_version": "~2.1.4",
       "_view_module_version": "~2.1.4",
       "children": [
        "IPY_MODEL_9975e40b042c4cd0acf0d02d9b6a3849",
        "IPY_MODEL_ad478466503948e3ac134c0d813b347d"
       ],
       "layout": "IPY_MODEL_89534f4f8b8340549bf750fb7dfe0a7a"
      }
     },
     "c2195209deb34c269574ca9023bd156f": {
      "model_module": "jupyter-js-widgets",
      "model_module_version": "~2.1.4",
      "model_name": "ButtonStyleModel",
      "state": {
       "_model_module_version": "~2.1.4",
       "_view_module_version": "~2.1.4"
      }
     },
     "c3c7c15d20ec4640a9f5fe85ade3682c": {
      "model_module": "jupyter-js-widgets",
      "model_module_version": "~2.1.4",
      "model_name": "LayoutModel",
      "state": {
       "_model_module_version": "~2.1.4",
       "_view_module_version": "~2.1.4",
       "height": "248px",
       "padding": "0px 0px 0px 0px",
       "width": "10px"
      }
     },
     "d0cefa9ffa6841c8b59ef0278cc97beb": {
      "model_module": "jupyter-js-widgets",
      "model_module_version": "~2.1.4",
      "model_name": "VBoxModel",
      "state": {
       "_model_module_version": "~2.1.4",
       "_view_module_version": "~2.1.4",
       "children": [
        "IPY_MODEL_6d1f771c19254382accb04cae6f7b62e",
        "IPY_MODEL_9af44a5cae7246a89a20a5fbd5a0f130"
       ],
       "layout": "IPY_MODEL_dd4313da261c4547902a7c752f0fc454"
      }
     },
     "d37e45d89f4640d9858bfe2a0f53ad63": {
      "model_module": "jupyter-js-widgets",
      "model_module_version": "~2.1.4",
      "model_name": "VBoxModel",
      "state": {
       "_model_module_version": "~2.1.4",
       "_view_module_version": "~2.1.4",
       "children": [
        "IPY_MODEL_1c00298cd5294f93a5bd80d8eb821703",
        "IPY_MODEL_2e5b657e21fa4e3fb459a974ef89ffea"
       ],
       "layout": "IPY_MODEL_a64f5b5a05b545fb8c99ab1de942f334"
      }
     },
     "d61e3a6a6d9a409e8f9f65f4541dfd99": {
      "model_module": "jupyter-js-widgets",
      "model_module_version": "~2.1.4",
      "model_name": "LayoutModel",
      "state": {
       "_model_module_version": "~2.1.4",
       "_view_module_version": "~2.1.4"
      }
     },
     "d7171539ef4d427cbdcf2195a6ca282d": {
      "model_module": "jupyter-js-widgets",
      "model_module_version": "~2.1.4",
      "model_name": "ButtonModel",
      "state": {
       "_model_module_version": "~2.1.4",
       "_view_module_version": "~2.1.4",
       "description": "Clear",
       "layout": "IPY_MODEL_ba31d73a384e45dcbda53395c2bf5992",
       "style": "IPY_MODEL_c2195209deb34c269574ca9023bd156f"
      }
     },
     "d983b94c07a44bcf96b3b6294d43c01f": {
      "model_module": "jupyter-js-widgets",
      "model_module_version": "~2.1.4",
      "model_name": "LayoutModel",
      "state": {
       "_model_module_version": "~2.1.4",
       "_view_module_version": "~2.1.4"
      }
     },
     "dd4313da261c4547902a7c752f0fc454": {
      "model_module": "jupyter-js-widgets",
      "model_module_version": "~2.1.4",
      "model_name": "LayoutModel",
      "state": {
       "_model_module_version": "~2.1.4",
       "_view_module_version": "~2.1.4"
      }
     },
     "dd4d62d9e58842aa9d84a32eb9cb982b": {
      "model_module": "jupyter-js-widgets",
      "model_module_version": "~2.1.4",
      "model_name": "ButtonModel",
      "state": {
       "_model_module_version": "~2.1.4",
       "_view_module_version": "~2.1.4",
       "icon": "step-forward",
       "layout": "IPY_MODEL_497f35579b594d33b9416aa809c0bbe3",
       "style": "IPY_MODEL_9c61c7e69e704f0cbddb4bfa789e9eb2"
      }
     },
     "e558e089bd89408784f5d3d9c965f2aa": {
      "model_module": "jupyter-js-widgets",
      "model_module_version": "~2.1.4",
      "model_name": "LayoutModel",
      "state": {
       "_model_module_version": "~2.1.4",
       "_view_module_version": "~2.1.4"
      }
     },
     "eef4e9caeead4949aec10f216c39e9bd": {
      "model_module": "jupyter-js-widgets",
      "model_module_version": "~2.1.4",
      "model_name": "LayoutModel",
      "state": {
       "_model_module_version": "~2.1.4",
       "_view_module_version": "~2.1.4",
       "height": "30px",
       "padding": "0px 0px 0px 10px",
       "width": "260px"
      }
     }
    },
    "version_major": 1,
    "version_minor": 0
   }
  }
 },
 "nbformat": 4,
 "nbformat_minor": 2
}
