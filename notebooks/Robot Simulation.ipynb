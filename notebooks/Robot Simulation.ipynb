{
 "cells": [
  {
   "cell_type": "markdown",
   "metadata": {},
   "source": [
    "# Robot Simulation"
   ]
  },
  {
   "cell_type": "code",
   "execution_count": 35,
   "metadata": {},
   "outputs": [],
   "source": [
    "from jyro.simulator import (Robot, Pioneer, Pioneer16Sonars, \n",
    "                            PioneerFrontLightSensors, Camera,\n",
    "                            VSimulator)\n",
    "import random\n",
    "import numpy as np"
   ]
  },
  {
   "cell_type": "code",
   "execution_count": 36,
   "metadata": {},
   "outputs": [],
   "source": [
    "robot = Pioneer(\"Pioneer\", 3.5, 2, 0)"
   ]
  },
  {
   "cell_type": "code",
   "execution_count": 37,
   "metadata": {},
   "outputs": [
    {
     "data": {
      "image/svg+xml": [
       "<svg baseProfile=\"full\" height=\"240\" version=\"1.1\" width=\"240\" xmlns=\"http://www.w3.org/2000/svg\" xmlns:ev=\"http://www.w3.org/2001/xml-events\" xmlns:xlink=\"http://www.w3.org/1999/xlink\"><defs /><line fill=\"#800080\" stroke=\"#d3d3d3\" stroke-width=\"1\" x1=\"78.0\" x2=\"-1842.0\" y1=\"96.0\" y2=\"95.9999999999999\" /><line fill=\"#800080\" stroke=\"#d3d3d3\" stroke-width=\"1\" x1=\"84.0\" x2=\"-1656.110951110368\" y1=\"79.19999999999999\" y2=\"-732.227062542143\" /><line fill=\"#800080\" stroke=\"#d3d3d3\" stroke-width=\"1\" x1=\"93.60000000000001\" x2=\"-1140.5522105981554\" y1=\"72.00000000000001\" y2=\"-1398.805330788438\" /><line fill=\"#800080\" stroke=\"#d3d3d3\" stroke-width=\"1\" x1=\"108.0\" x2=\"-388.9325665968398\" y1=\"66.0\" y2=\"-1788.5775864750112\" /><line fill=\"#800080\" stroke=\"#d3d3d3\" stroke-width=\"1\" x1=\"132.0\" x2=\"628.9325665968398\" y1=\"66.0\" y2=\"-1788.5775864750112\" /><line fill=\"#800080\" stroke=\"#d3d3d3\" stroke-width=\"1\" x1=\"146.4\" x2=\"1380.5522105981554\" y1=\"72.00000000000001\" y2=\"-1398.805330788438\" /><line fill=\"#800080\" stroke=\"#d3d3d3\" stroke-width=\"1\" x1=\"156.0\" x2=\"1896.110951110368\" y1=\"79.19999999999999\" y2=\"-732.227062542143\" /><line fill=\"#800080\" stroke=\"#d3d3d3\" stroke-width=\"1\" x1=\"162.0\" x2=\"2082.0\" y1=\"96.0\" y2=\"95.9999999999999\" /><line fill=\"#800080\" stroke=\"#d3d3d3\" stroke-width=\"1\" x1=\"162.0\" x2=\"2082.0\" y1=\"144.00000000000003\" y2=\"143.9999999999999\" /><line fill=\"#800080\" stroke=\"#d3d3d3\" stroke-width=\"1\" x1=\"156.0\" x2=\"1896.1109511103682\" y1=\"160.8\" y2=\"972.2270625421423\" /><line fill=\"#800080\" stroke=\"#d3d3d3\" stroke-width=\"1\" x1=\"146.4\" x2=\"1380.5522105981554\" y1=\"168.0\" y2=\"1638.805330788438\" /><line fill=\"#800080\" stroke=\"#d3d3d3\" stroke-width=\"1\" x1=\"132.0\" x2=\"628.9325665968399\" y1=\"174.0\" y2=\"2028.5775864750112\" /><line fill=\"#800080\" stroke=\"#d3d3d3\" stroke-width=\"1\" x1=\"107.99999999999999\" x2=\"-388.9325665968404\" y1=\"174.0\" y2=\"2028.5775864750108\" /><line fill=\"#800080\" stroke=\"#d3d3d3\" stroke-width=\"1\" x1=\"93.60000000000001\" x2=\"-1140.5522105981559\" y1=\"168.0\" y2=\"1638.8053307884377\" /><line fill=\"#800080\" stroke=\"#d3d3d3\" stroke-width=\"1\" x1=\"84.0\" x2=\"-1656.1109511103682\" y1=\"160.8\" y2=\"972.2270625421426\" /><line fill=\"#800080\" stroke=\"#d3d3d3\" stroke-width=\"1\" x1=\"78.0\" x2=\"-1842.0\" y1=\"144.0\" y2=\"143.99999999999986\" /><polygon fill=\"red\" points=\"100.8,66.0 78.0,84.0 78.0,156.0 100.8,174.0 139.2,174.0 162.0,156.0 162.0,84.0 139.2,66.0\" stroke=\"red\" stroke-width=\"1\" /><polygon points=\"-12.0,-12.0 0,0 12.0,-12.0 0,12.0\" stroke=\"black\" stroke-width=\"1\" transform=\"translate(120.0,120.0) rotate(180.0)\" /><polygon fill=\"black\" points=\"134.4,86.39999999999999 134.4,105.6 105.6,105.6 105.6,86.39999999999999\" stroke=\"black\" stroke-width=\"1\" /><circle cx=\"78.0\" cy=\"66.0\" fill=\"yellow\" r=\"6.0\" stroke=\"orange\" stroke-width=\"1\" /><circle cx=\"162.0\" cy=\"66.0\" fill=\"yellow\" r=\"6.0\" stroke=\"orange\" stroke-width=\"1\" /></svg>"
      ],
      "text/plain": [
       "<jyro.simulator.robot.Pioneer at 0x7fd7b7660c50>"
      ]
     },
     "execution_count": 37,
     "metadata": {},
     "output_type": "execute_result"
    }
   ],
   "source": [
    "robot.addDevice(Pioneer16Sonars())\n",
    "robot.addDevice(Camera())\n",
    "light_sensors = PioneerFrontLightSensors(3.0)\n",
    "light_sensors.lightMode = 'ambient'\n",
    "robot.addDevice(light_sensors)"
   ]
  },
  {
   "cell_type": "code",
   "execution_count": 38,
   "metadata": {},
   "outputs": [],
   "source": [
    "def worldf(physics):\n",
    "    physics.addBox(0, 0, 4, 4, fill=\"backgroundgreen\", wallcolor=\"gray\")\n",
    "    physics.addLight(2, 0.75, 1.0) # increased brightness for new linear version of lights"
   ]
  },
  {
   "cell_type": "code",
   "execution_count": 39,
   "metadata": {},
   "outputs": [
    {
     "data": {
      "application/vnd.jupyter.widget-view+json": {
       "model_id": "944382a2a1a04dfb92029dc753a660fa",
       "version_major": 2,
       "version_minor": 0
      },
      "text/html": [
       "<p>Failed to display Jupyter Widget of type <code>VBox</code>.</p>\n",
       "<p>\n",
       "  If you're reading this message in Jupyter Notebook or JupyterLab, it may mean\n",
       "  that the widgets JavaScript is still loading. If this message persists, it\n",
       "  likely means that the widgets JavaScript library is either not installed or\n",
       "  not enabled. See the <a href=\"https://ipywidgets.readthedocs.io/en/stable/user_install.html\">Jupyter\n",
       "  Widgets Documentation</a> for setup instructions.\n",
       "</p>\n",
       "<p>\n",
       "  If you're reading this message in another notebook frontend (for example, a static\n",
       "  rendering on GitHub or <a href=\"https://nbviewer.jupyter.org/\">NBViewer</a>),\n",
       "  it may mean that your frontend doesn't currently support widgets.\n",
       "</p>\n"
      ],
      "text/plain": [
       "VBox(children=(VBox(children=(HBox(children=(Checkbox(value=True, description='Update GUI'), Checkbox(value=False, description='Trace Path'), Text(value='0.0 seconds', description='Time:'))), HBox(children=(VBox(children=(HBox(children=(FloatSlider(value=0.0, layout=Layout(height='248px', padding='0px 0px 0px 0px', width='10px'), orientation='vertical', readout=False), HTML(value='<svg baseProfile=\"full\" height=\"240\" version=\"1.1\" width=\"240\" xmlns=\"http://www.w3.org/2000/svg\" xmlns:ev=\"http://www.w3.org/2001/xml-events\" xmlns:xlink=\"http://www.w3.org/1999/xlink\"><defs /><rect fill=\"#eef3dd\" height=\"240.0\" stroke=\"#bebebe\" stroke-width=\"1\" width=\"240.0\" x=\"0.0\" y=\"0.0\" /><circle cx=\"120.0\" cy=\"195.0\" fill=\"#ffff00\" r=\"15.0\" stroke=\"#ffff00\" stroke-width=\"1\" /><line fill=\"#800080\" stroke=\"#add8e6\" stroke-width=\"1\" x1=\"199.5\" x2=\"0.0\" y1=\"114.0\" y2=\"114.0\" /><line fill=\"#800080\" stroke=\"#add8e6\" stroke-width=\"1\" x1=\"201.0\" x2=\"0.0\" y1=\"109.80000000000001\" y2=\"16.07215199999999\" /><line fill=\"#800080\" stroke=\"#add8e6\" stroke-width=\"1\" x1=\"203.4\" x2=\"112.77724019461742\" y1=\"107.99999999999999\" y2=\"0.0\" /><line fill=\"#800080\" stroke=\"#add8e6\" stroke-width=\"1\" x1=\"207.0\" x2=\"178.4634099424212\" y1=\"106.5\" y2=\"0.0\" /><line fill=\"#800080\" stroke=\"#add8e6\" stroke-width=\"1\" x1=\"213.0\" x2=\"240.0\" y1=\"106.5\" y2=\"5.734632000000062\" /><line fill=\"#800080\" stroke=\"#add8e6\" stroke-width=\"1\" x1=\"216.6\" x2=\"240.0\" y1=\"107.99999999999999\" y2=\"80.11296600000001\" /><line fill=\"#800080\" stroke=\"#add8e6\" stroke-width=\"1\" x1=\"219.0\" x2=\"240.0\" y1=\"109.80000000000001\" y2=\"100.007538\" /><line fill=\"#800080\" stroke=\"#add8e6\" stroke-width=\"1\" x1=\"220.5\" x2=\"240.0\" y1=\"114.0\" y2=\"114.0\" /><line fill=\"#800080\" stroke=\"#add8e6\" stroke-width=\"1\" x1=\"220.5\" x2=\"240.0\" y1=\"126.0\" y2=\"126.0\" /><line fill=\"#800080\" stroke=\"#add8e6\" stroke-width=\"1\" x1=\"219.0\" x2=\"240.0\" y1=\"130.2\" y2=\"139.992462\" /><line fill=\"#800080\" stroke=\"#add8e6\" stroke-width=\"1\" x1=\"216.6\" x2=\"240.0\" y1=\"132.0\" y2=\"159.88703399999997\" /><line fill=\"#800080\" stroke=\"#add8e6\" stroke-width=\"1\" x1=\"213.0\" x2=\"240.0\" y1=\"133.5\" y2=\"234.26536799999994\" /><line fill=\"#800080\" stroke=\"#add8e6\" stroke-width=\"1\" x1=\"207.0\" x2=\"178.4634099424212\" y1=\"133.5\" y2=\"240.0\" /><line fill=\"#800080\" stroke=\"#add8e6\" stroke-width=\"1\" x1=\"203.4\" x2=\"112.7772401946174\" y1=\"132.0\" y2=\"240.0\" /><line fill=\"#800080\" stroke=\"#add8e6\" stroke-width=\"1\" x1=\"201.0\" x2=\"0.0\" y1=\"130.2\" y2=\"223.927848\" /><line fill=\"#800080\" stroke=\"#add8e6\" stroke-width=\"1\" x1=\"199.5\" x2=\"0.0\" y1=\"126.0\" y2=\"126.0\" /><line fill=\"#800080\" stroke=\"#a020f0\" stroke-width=\"1\" x1=\"210.0\" x2=\"2.1539193796210117\" y1=\"120.0\" y2=\"0.0\" /><line fill=\"#800080\" stroke=\"#a020f0\" stroke-width=\"1\" x1=\"210.0\" x2=\"240.0\" y1=\"120.0\" y2=\"102.67948799999999\" /><line fill=\"#800080\" stroke=\"#ffa500\" stroke-width=\"1\" x1=\"120.0\" x2=\"199.5\" y1=\"195.0\" y2=\"106.5\" /><line fill=\"#800080\" stroke=\"#ffa500\" stroke-width=\"1\" x1=\"120.0\" x2=\"220.5\" y1=\"195.0\" y2=\"106.5\" /><polygon fill=\"red\" points=\"205.2,106.5 199.5,111.0 199.5,129.0 205.2,133.5 214.8,133.5 220.5,129.0 220.5,111.0 214.8,106.5\" stroke=\"red\" stroke-width=\"1\" /><polygon points=\"-3.0,-3.0 0,0 3.0,-3.0 0,3.0\" stroke=\"black\" stroke-width=\"1\" transform=\"translate(210.0,120.0) rotate(180.0)\" /><polygon fill=\"black\" points=\"213.6,111.6 213.6,116.39999999999999 206.4,116.39999999999999 206.4,111.6\" stroke=\"black\" stroke-width=\"1\" /><circle cx=\"199.5\" cy=\"106.5\" fill=\"yellow\" r=\"1.5\" stroke=\"orange\" stroke-width=\"1\" /><circle cx=\"220.5\" cy=\"106.5\" fill=\"yellow\" r=\"1.5\" stroke=\"orange\" stroke-width=\"1\" /></svg>'))), FloatSlider(value=0.0, layout=Layout(height='30px', padding='0px 0px 0px 10px', width='260px'), readout=False))), VBox(children=(Image(value=b'\\x89PNG\\r\\n\\x1a\\n\\x00\\x00\\x00\\rIHDR\\x00\\x00\\x00<\\x00\\x00\\x00(\\x08\\x02\\x00\\x00\\x00-\\xd9\\x0e\\xa8\\x00\\x00\\x00\\xf6IDATx\\x9c\\xed\\xd6\\xaf\\x0b\\xc2@\\x14\\xc0\\xf1\\xf7\\xee\\xdd\\xfev\\xcb\\xa2\\xc5\\x81`\\x11\\x86\\xa0e0\\x8bAA\\x83A\\x8bA\\x8b\\xc1b\\x12\\x8b\\xc94\\xc3\\xa9\\xccMn:\\x8f7\\x0f\\xde\\'\\x8c\\x85\\xfd\\xf8\\xf2\\x06\\xbb\\xc3\\xe1\\xee\\x08\\xbeQM\\x07\\xd4!\\xd1\\\\$\\x9a\\x8bDs\\x91h.^F\\xeb\\xa6\\x03\\xdeS\\xdb%\"\\x02\\x809\\x16N\\x9a\\x8c\\xbe\\xae\\xa7\\x88\\xa8\\x94\\xc2\\x12\\xfb\\x8d\\xdc\\xd1\\xa7Y\\x12\\x04\\x01\\x11)\\xa5\\x88\\xa8\\xdeC\\xaa\\xa3\\x0fi\\\\\\x1eC\\xfe\\xc4\\\\V9\\x1e\\x00\\xc8\\xb2\\xacvh\\xdeK\\xf4&\\x8e\\xcc\\x0c\\x9e\\xcc\\xe7\\xfb\\xfd5n\\xe9E\\x14j\\xad\\xb5\\xd6D\\xe4d\\x0c\\x0c\\xfen\\x8a\\x9f\\x90h.\\x12\\xcdE\\xa2\\xb9\\xe0\\xf9\\xb2\\x07\\x80\\xb0\\xd5\\xa5\\x87\\xf2\\xe2\\xe2vE\\xcc/\\xe3\\x96\\xbd\\x87e\\xc3t\\x8f.\\xe8\\xb4\\x07\\xfeE[\\xf4{\\xa9\\x7f\\xd1N$\\xa3\\xb9\\x7f\\xd1\\x05\\x93\\xf1\\xca\\xbf\\xe8oy\\xf9\\xcb\\x93h.\\x12\\xcdE\\xa2\\xb9H4\\x17/\\xa3o\\xb3~8\\x87\\xea\\xaf#\\xce\\x00\\x00\\x00\\x00IEND\\xaeB`\\x82', width='240'), FloatSlider(value=0.0, layout=Layout(height='20px', padding='0px 0px 0px 0px', width='248px'), readout=False))))))), HBox(children=(Button(icon='step-forward', style=ButtonStyle()), Play(value=0, max=1000000), Button(description='Clear Output', style=ButtonStyle()))), Output()))"
      ]
     },
     "metadata": {},
     "output_type": "display_data"
    }
   ],
   "source": [
    "sim = VSimulator(robot, worldf)"
   ]
  },
  {
   "cell_type": "code",
   "execution_count": 40,
   "metadata": {},
   "outputs": [],
   "source": [
    "camera = robot.device[\"camera\"]"
   ]
  },
  {
   "cell_type": "code",
   "execution_count": 41,
   "metadata": {},
   "outputs": [
    {
     "data": {
      "image/png": "[encoded data removed]",
      "text/plain": [
       "<PIL.Image.Image image mode=RGB size=60x40 at 0x7FD7B7663400>"
      ]
     },
     "execution_count": 41,
     "metadata": {},
     "output_type": "execute_result"
    }
   ],
   "source": [
    "image = camera.getImage()\n",
    "image"
   ]
  },
  {
   "cell_type": "code",
   "execution_count": 42,
   "metadata": {},
   "outputs": [
    {
     "data": {
      "text/plain": [
       "(60, 40)"
      ]
     },
     "execution_count": 42,
     "metadata": {},
     "output_type": "execute_result"
    }
   ],
   "source": [
    "image.size"
   ]
  },
  {
   "cell_type": "code",
   "execution_count": 43,
   "metadata": {},
   "outputs": [
    {
     "data": {
      "text/plain": [
       "(40, 60, 3)"
      ]
     },
     "execution_count": 43,
     "metadata": {},
     "output_type": "execute_result"
    }
   ],
   "source": [
    "data = camera.getData()\n",
    "data.shape"
   ]
  },
  {
   "cell_type": "code",
   "execution_count": 44,
   "metadata": {},
   "outputs": [],
   "source": [
    "robot.move(0.50, 0.35)"
   ]
  },
  {
   "cell_type": "code",
   "execution_count": 45,
   "metadata": {},
   "outputs": [],
   "source": [
    "sim.step()"
   ]
  },
  {
   "cell_type": "code",
   "execution_count": 46,
   "metadata": {},
   "outputs": [],
   "source": [
    "def random_action():\n",
    "    \"\"\"Generate a random action from a limited set of possible settings\"\"\"\n",
    "    possible = [-1.0, -0.5, 0.0, 0.5, 1.0]\n",
    "    return [random.choice(possible), random.choice(possible)]\n",
    "\n",
    "def get_senses(robot):\n",
    "    light = robot[\"light\"].getData()\n",
    "    sonar = [v/3.0 for v in robot[\"sonar\"].getData()]\n",
    "    camera = robot[\"camera\"].getData()\n",
    "    return [light, sonar, camera]"
   ]
  },
  {
   "cell_type": "code",
   "execution_count": 47,
   "metadata": {},
   "outputs": [
    {
     "data": {
      "text/plain": [
       "[2, 16, 40]"
      ]
     },
     "execution_count": 47,
     "metadata": {},
     "output_type": "execute_result"
    }
   ],
   "source": [
    "senses = get_senses(robot)\n",
    "list(map(len, senses))"
   ]
  },
  {
   "cell_type": "code",
   "execution_count": 48,
   "metadata": {},
   "outputs": [],
   "source": [
    "def brain(robot):\n",
    "    senses = get_senses(robot)\n",
    "    net.propagate(senses)\n",
    "    translate, rotate = random_action()\n",
    "    #self.move(translate, rotate)\n",
    "    robot.move(0.50, 0.35)"
   ]
  },
  {
   "cell_type": "code",
   "execution_count": 49,
   "metadata": {},
   "outputs": [],
   "source": [
    "robot.brain = brain"
   ]
  },
  {
   "cell_type": "code",
   "execution_count": 50,
   "metadata": {},
   "outputs": [],
   "source": [
    "from conx import Network, Layer, FlattenLayer, SGD, ImageLayer, Conv2DLayer\n",
    "import numpy as np"
   ]
  },
  {
   "cell_type": "code",
   "execution_count": 51,
   "metadata": {},
   "outputs": [],
   "source": [
    "net = Network(\"Robot Prediction Network\")\n",
    "net.add(Layer(\"light\", 2))\n",
    "net.add(Layer(\"sonar\", 16))\n",
    "net.add(ImageLayer(\"camera\", (40,60), 3))\n",
    "net.add(FlattenLayer(\"flatten\"))\n",
    "net.add(Conv2DLayer(\"conv\", 16, (3,3)))\n",
    "net.add(Layer(\"hidden\", 50, activation=\"relu\"))\n",
    "net.add(Layer(\"output1\", 2, activation=\"sigmoid\"))\n",
    "net.add(Layer(\"hidden2\", 5, activation=\"sigmoid\"))\n",
    "net.add(Layer(\"hidden3\", 10, activation=\"sigmoid\", dropout=0.25))\n",
    "net.add(Layer(\"hidden4\", 10, activation=\"sigmoid\"))\n",
    "net.add(Layer(\"output2\", 5, activation=\"sigmoid\"))"
   ]
  },
  {
   "cell_type": "code",
   "execution_count": 52,
   "metadata": {},
   "outputs": [],
   "source": [
    "net.connect(\"sonar\", \"hidden2\")\n",
    "net.connect(\"light\", \"hidden\")\n",
    "net.connect(\"camera\", \"conv\")\n",
    "net.connect(\"conv\", \"flatten\")\n",
    "net.connect(\"flatten\", \"hidden2\")\n",
    "net.connect(\"hidden\", \"hidden2\")\n",
    "net.connect(\"hidden2\", \"hidden3\")\n",
    "##net.connect(\"hidden2\", \"output2\")\n",
    "net.connect(\"hidden3\", \"output2\")\n",
    "net.connect(\"hidden3\", \"hidden4\")\n",
    "net.connect(\"hidden4\", \"output1\")"
   ]
  },
  {
   "cell_type": "code",
   "execution_count": 53,
   "metadata": {},
   "outputs": [],
   "source": [
    "net.compile(optimizer=\"adam\", error=\"mse\")\n",
    "#net.config[\"hspace\"] = 200"
   ]
  },
  {
   "cell_type": "code",
   "execution_count": 54,
   "metadata": {},
   "outputs": [
    {
     "data": {
      "application/javascript": [
       "\n",
       "require(['base/js/namespace'], function(Jupyter) {\n",
       "    Jupyter.notebook.kernel.comm_manager.register_target('conx_svg_control', function(comm, msg) {\n",
       "        comm.on_msg(function(msg) {\n",
       "            var data = msg[\"content\"][\"data\"];\n",
       "            var images = document.getElementsByClassName(data[\"class\"]);\n",
       "            for (var i = 0; i < images.length; i++) {\n",
       "                images[i].setAttributeNS(null, \"href\", data[\"href\"]);\n",
       "            }\n",
       "        });\n",
       "    });\n",
       "});\n"
      ],
      "text/plain": [
       "<IPython.core.display.Javascript object>"
      ]
     },
     "metadata": {},
     "output_type": "display_data"
    },
    {
     "data": {
      "text/html": [
       "<svg id='Robot Prediction Network' xmlns='http://www.w3.org/2000/svg' viewBox=\"0 0 950 664\" height=\"780\" image-rendering=\"pixelated\">\n",
       "    <defs>\n",
       "        <marker id=\"arrow\" markerWidth=\"10\" markerHeight=\"10\" refX=\"9\" refY=\"3\" orient=\"auto\" markerUnits=\"strokeWidth\">\n",
       "          <path d=\"M0,0 L0,6 L9,3 z\" fill=\"black\" />\n",
       "        </marker>\n",
       "    </defs><text x=\"475.0\" y=\"12.5\" font-family=\"monospace\" font-size=\"15\" text-anchor=\"middle\" alignment-baseline=\"central\">Robot Prediction Network</text><rect x=\"265.6666666666667\" y=\"29\" width=\"102\" height=\"52\" style=\"fill:none;stroke:black;stroke-width:2\"/><image id=\"Robot Prediction Network_output1_1\" class=\"Robot Prediction Network_output1\" x=\"266.6666666666667\" y=\"30\" height=\"50\" width=\"100\" preserveAspectRatio=\"none\" href=\"data:image/gif;base64,R0lGODdhAgABAIcAAOF7Yfn5+QAAAAAAAAAAAAAAAAAAAAAAAAAAAAAAAAAAAAAAAAAAAAAAAAAAAAAAAAAAAAAAAAAAAAAAAAAAAAAAAAAAAAAAAAAAAAAAAAAAAAAAAAAAAAAAAAAAAAAAAAAAAAAAAAAAAAAAAAAAAAAAAAAAAAAAAAAAAAAAAAAAAAAAAAAAAAAAAAAAAAAAAAAAAAAAAAAAAAAAAAAAAAAAAAAAAAAAAAAAAAAAAAAAAAAAAAAAAAAAAAAAAAAAAAAAAAAAAAAAAAAAAAAAAAAAAAAAAAAAAAAAAAAAAAAAAAAAAAAAAAAAAAAAAAAAAAAAAAAAAAAAAAAAAAAAAAAAAAAAAAAAAAAAAAAAAAAAAAAAAAAAAAAAAAAAAAAAAAAAAAAAAAAAAAAAAAAAAAAAAAAAAAAAAAAAAAAAAAAAAAAAAAAAAAAAAAAAAAAAAAAAAAAAAAAAAAAAAAAAAAAAAAAAAAAAAAAAAAAAAAAAAAAAAAAAAAAAAAAAAAAAAAAAAAAAAAAAAAAAAAAAAAAAAAAAAAAAAAAAAAAAAAAAAAAAAAAAAAAAAAAAAAAAAAAAAAAAAAAAAAAAAAAAAAAAAAAAAAAAAAAAAAAAAAAAAAAAAAAAAAAAAAAAAAAAAAAAAAAAAAAAAAAAAAAAAAAAAAAAAAAAAAAAAAAAAAAAAAAAAAAAAAAAAAAAAAAAAAAAAAAAAAAAAAAAAAAAAAAAAAAAAAAAAAAAAAAAAAAAAAAAAAAAAAAAAAAAAAAAAAAAAAAAAAAAAAAAAAAAAAAAAAAAAAAAAAAAAAAAAAAAAAAAAAAAAAAAAAAAAAAAAAAAAAAAAAAAAAAAAAAAAAAAAAAAAAAAAAAAAAAAAAAAAAAAAAAAAAAAAAAAAAAAAAAAAAAAAAAAAAAAAAAAAAAAAAAAAAAAAAAAAAAAAAAAAAAAAAAAAAAAAAAAAAAAAAAAAAAAAAAAAAAAAAAAAAAAAAAAAAAAAAAAAAAAAAAAAAAAAAAAAAAAAAAAAAAAACwAAAAAAgABAAAIBQADAAgIADs=\"><title>Layer: output1 (output)\n",
       " shape = (2,)\n",
       " Keras class = Dense\n",
       " activation = sigmoid</title></image><text x=\"371.6666666666667\" y=\"57.0\" font-family=\"monospace\" font-size=\"12\" text-anchor=\"start\" alignment-baseline=\"central\">output1</text><rect x=\"532.3333333333334\" y=\"29\" width=\"202\" height=\"42\" style=\"fill:none;stroke:black;stroke-width:2\"/><image id=\"Robot Prediction Network_output2_2\" class=\"Robot Prediction Network_output2\" x=\"533.3333333333334\" y=\"30\" height=\"40\" width=\"200\" preserveAspectRatio=\"none\" href=\"data:image/gif;base64,R0lGODdhBQABAIcAAPz49vjBpvvUvubm5gAAAAAAAAAAAAAAAAAAAAAAAAAAAAAAAAAAAAAAAAAAAAAAAAAAAAAAAAAAAAAAAAAAAAAAAAAAAAAAAAAAAAAAAAAAAAAAAAAAAAAAAAAAAAAAAAAAAAAAAAAAAAAAAAAAAAAAAAAAAAAAAAAAAAAAAAAAAAAAAAAAAAAAAAAAAAAAAAAAAAAAAAAAAAAAAAAAAAAAAAAAAAAAAAAAAAAAAAAAAAAAAAAAAAAAAAAAAAAAAAAAAAAAAAAAAAAAAAAAAAAAAAAAAAAAAAAAAAAAAAAAAAAAAAAAAAAAAAAAAAAAAAAAAAAAAAAAAAAAAAAAAAAAAAAAAAAAAAAAAAAAAAAAAAAAAAAAAAAAAAAAAAAAAAAAAAAAAAAAAAAAAAAAAAAAAAAAAAAAAAAAAAAAAAAAAAAAAAAAAAAAAAAAAAAAAAAAAAAAAAAAAAAAAAAAAAAAAAAAAAAAAAAAAAAAAAAAAAAAAAAAAAAAAAAAAAAAAAAAAAAAAAAAAAAAAAAAAAAAAAAAAAAAAAAAAAAAAAAAAAAAAAAAAAAAAAAAAAAAAAAAAAAAAAAAAAAAAAAAAAAAAAAAAAAAAAAAAAAAAAAAAAAAAAAAAAAAAAAAAAAAAAAAAAAAAAAAAAAAAAAAAAAAAAAAAAAAAAAAAAAAAAAAAAAAAAAAAAAAAAAAAAAAAAAAAAAAAAAAAAAAAAAAAAAAAAAAAAAAAAAAAAAAAAAAAAAAAAAAAAAAAAAAAAAAAAAAAAAAAAAAAAAAAAAAAAAAAAAAAAAAAAAAAAAAAAAAAAAAAAAAAAAAAAAAAAAAAAAAAAAAAAAAAAAAAAAAAAAAAAAAAAAAAAAAAAAAAAAAAAAAAAAAAAAAAAAAAAAAAAAAAAAAAAAAAAAAAAAAAAAAAAAAAAAAAAAAAAAAAAAAAAAAAAAAAAAAAAAAAAAAAAAAAAAAAAAAAAAAAAAAAAAAAAAAAAAAAAAAAAAAAAAAAAAAAAAAAAAAAAAAAAAAACwAAAAABQABAAAICAABBAAwQEBAADs=\"><title>Layer: output2 (output)\n",
       " shape = (5,)\n",
       " Keras class = Dense\n",
       " activation = sigmoid</title></image><text x=\"738.3333333333334\" y=\"52.0\" font-family=\"monospace\" font-size=\"12\" text-anchor=\"start\" alignment-baseline=\"central\">output2</text><line x1=\"316.6666666666667\" y1=\"109\" x2=\"316.6666666666667\" y2=\"82\" stroke=\"black\" stroke-width=\"2\" marker-end=\"url(#arrow)\"><title>Weights from hidden4 to output1\n",
       " output1/kernel has shape (10, 2)\n",
       " output1/bias has shape (2,)</title></line><rect x=\"215.66666666666669\" y=\"109\" width=\"202\" height=\"27\" style=\"fill:none;stroke:black;stroke-width:2\"/><image id=\"Robot Prediction Network_hidden4_3\" class=\"Robot Prediction Network_hidden4\" x=\"216.66666666666669\" y=\"110\" height=\"25\" width=\"200\" preserveAspectRatio=\"none\" href=\"data:image/gif;base64,R0lGODdhCgABAIcAAP3l1+vr6/jz8LGxsdXV1euQcvvQuQAAAAAAAAAAAAAAAAAAAAAAAAAAAAAAAAAAAAAAAAAAAAAAAAAAAAAAAAAAAAAAAAAAAAAAAAAAAAAAAAAAAAAAAAAAAAAAAAAAAAAAAAAAAAAAAAAAAAAAAAAAAAAAAAAAAAAAAAAAAAAAAAAAAAAAAAAAAAAAAAAAAAAAAAAAAAAAAAAAAAAAAAAAAAAAAAAAAAAAAAAAAAAAAAAAAAAAAAAAAAAAAAAAAAAAAAAAAAAAAAAAAAAAAAAAAAAAAAAAAAAAAAAAAAAAAAAAAAAAAAAAAAAAAAAAAAAAAAAAAAAAAAAAAAAAAAAAAAAAAAAAAAAAAAAAAAAAAAAAAAAAAAAAAAAAAAAAAAAAAAAAAAAAAAAAAAAAAAAAAAAAAAAAAAAAAAAAAAAAAAAAAAAAAAAAAAAAAAAAAAAAAAAAAAAAAAAAAAAAAAAAAAAAAAAAAAAAAAAAAAAAAAAAAAAAAAAAAAAAAAAAAAAAAAAAAAAAAAAAAAAAAAAAAAAAAAAAAAAAAAAAAAAAAAAAAAAAAAAAAAAAAAAAAAAAAAAAAAAAAAAAAAAAAAAAAAAAAAAAAAAAAAAAAAAAAAAAAAAAAAAAAAAAAAAAAAAAAAAAAAAAAAAAAAAAAAAAAAAAAAAAAAAAAAAAAAAAAAAAAAAAAAAAAAAAAAAAAAAAAAAAAAAAAAAAAAAAAAAAAAAAAAAAAAAAAAAAAAAAAAAAAAAAAAAAAAAAAAAAAAAAAAAAAAAAAAAAAAAAAAAAAAAAAAAAAAAAAAAAAAAAAAAAAAAAAAAAAAAAAAAAAAAAAAAAAAAAAAAAAAAAAAAAAAAAAAAAAAAAAAAAAAAAAAAAAAAAAAAAAAAAAAAAAAAAAAAAAAAAAAAAAAAAAAAAAAAAAAAAAAAAAAAAAAAAAAAAAAAAAAAAAAAAAAAAAAAAAAAAAAAAAAAAAAAAAAAAAAAAAAAAAAAAAAAAAAAAAAAAAAAAAAAAAAAAAAAAACwAAAAACgABAAAIDgAFBAgwwEABAQAIAAgIADs=\"><title>Layer: hidden4 (hidden)\n",
       " shape = (10,)\n",
       " Keras class = Dense\n",
       " activation = sigmoid</title></image><text x=\"421.6666666666667\" y=\"124.5\" font-family=\"monospace\" font-size=\"12\" text-anchor=\"start\" alignment-baseline=\"central\">hidden4</text><line x1=\"633.3333333333334\" y1=\"110\" x2=\"633.3333333333334\" y2=\"70\" stroke=\"red\" stroke-width=\"2\" marker-end=\"url(#arrow)\"><title>Weights from hidden3 to output2\n",
       " output2/kernel has shape (10, 5)\n",
       " output2/bias has shape (5,)</title></line><line x1=\"475.0\" y1=\"164\" x2=\"633.3333333333334\" y2=\"110\" stroke=\"red\" stroke-width=\"2\"><title>Weights from hidden3 to output2\n",
       " output2/kernel has shape (10, 5)\n",
       " output2/bias has shape (5,)</title></line><line x1=\"475.0\" y1=\"164\" x2=\"316.6666666666667\" y2=\"137\" stroke=\"red\" stroke-width=\"2\" marker-end=\"url(#arrow)\"><title>Weights from hidden3 to hidden4\n",
       " hidden4/kernel has shape (10, 10)\n",
       " hidden4/bias has shape (10,)</title></line><rect x=\"374.0\" y=\"164\" width=\"202\" height=\"27\" style=\"fill:none;stroke:black;stroke-width:2\"/><image id=\"Robot Prediction Network_hidden3_4\" class=\"Robot Prediction Network_hidden3\" x=\"375.0\" y=\"165\" height=\"25\" width=\"200\" preserveAspectRatio=\"none\" href=\"data:image/gif;base64,R0lGODdhCgABAIcAAO/q5/3i0bOzs9HR0fWsi/zYxPPz8wAAAAAAAAAAAAAAAAAAAAAAAAAAAAAAAAAAAAAAAAAAAAAAAAAAAAAAAAAAAAAAAAAAAAAAAAAAAAAAAAAAAAAAAAAAAAAAAAAAAAAAAAAAAAAAAAAAAAAAAAAAAAAAAAAAAAAAAAAAAAAAAAAAAAAAAAAAAAAAAAAAAAAAAAAAAAAAAAAAAAAAAAAAAAAAAAAAAAAAAAAAAAAAAAAAAAAAAAAAAAAAAAAAAAAAAAAAAAAAAAAAAAAAAAAAAAAAAAAAAAAAAAAAAAAAAAAAAAAAAAAAAAAAAAAAAAAAAAAAAAAAAAAAAAAAAAAAAAAAAAAAAAAAAAAAAAAAAAAAAAAAAAAAAAAAAAAAAAAAAAAAAAAAAAAAAAAAAAAAAAAAAAAAAAAAAAAAAAAAAAAAAAAAAAAAAAAAAAAAAAAAAAAAAAAAAAAAAAAAAAAAAAAAAAAAAAAAAAAAAAAAAAAAAAAAAAAAAAAAAAAAAAAAAAAAAAAAAAAAAAAAAAAAAAAAAAAAAAAAAAAAAAAAAAAAAAAAAAAAAAAAAAAAAAAAAAAAAAAAAAAAAAAAAAAAAAAAAAAAAAAAAAAAAAAAAAAAAAAAAAAAAAAAAAAAAAAAAAAAAAAAAAAAAAAAAAAAAAAAAAAAAAAAAAAAAAAAAAAAAAAAAAAAAAAAAAAAAAAAAAAAAAAAAAAAAAAAAAAAAAAAAAAAAAAAAAAAAAAAAAAAAAAAAAAAAAAAAAAAAAAAAAAAAAAAAAAAAAAAAAAAAAAAAAAAAAAAAAAAAAAAAAAAAAAAAAAAAAAAAAAAAAAAAAAAAAAAAAAAAAAAAAAAAAAAAAAAAAAAAAAAAAAAAAAAAAAAAAAAAAAAAAAAAAAAAAAAAAAAAAAAAAAAAAAAAAAAAAAAAAAAAAAAAAAAAAAAAAAAAAAAAAAAAAAAAAAAAAAAAAAAAAAAAAAAAAAAAAAAAAAAAAAAAAAAAAAAAAAAAAAAAAAAAAAAAAAAACwAAAAACgABAAAIDgABBCAAoIABAQEGAAgIADs=\"><title>Layer: hidden3 (hidden)\n",
       " shape = (10,)\n",
       " dropout = 0.25\n",
       " Keras class = Dense\n",
       " activation = sigmoid</title></image><text x=\"580.0\" y=\"179.5\" font-family=\"monospace\" font-size=\"12\" text-anchor=\"start\" alignment-baseline=\"central\">hidden3</text><line x1=\"475.0\" y1=\"219\" x2=\"475.0\" y2=\"192\" stroke=\"black\" stroke-width=\"2\" marker-end=\"url(#arrow)\"><title>Weights from hidden2 to hidden3\n",
       " hidden3/kernel has shape (5, 10)\n",
       " hidden3/bias has shape (10,)</title></line><rect x=\"374.0\" y=\"219\" width=\"202\" height=\"42\" style=\"fill:none;stroke:black;stroke-width:2\"/><image id=\"Robot Prediction Network_hidden2_5\" class=\"Robot Prediction Network_hidden2\" x=\"375.0\" y=\"220\" height=\"40\" width=\"200\" preserveAspectRatio=\"none\" href=\"data:image/gif;base64,R0lGODdhBQABAIcAAP7+/QAAAAAAAAAAAAAAAAAAAAAAAAAAAAAAAAAAAAAAAAAAAAAAAAAAAAAAAAAAAAAAAAAAAAAAAAAAAAAAAAAAAAAAAAAAAAAAAAAAAAAAAAAAAAAAAAAAAAAAAAAAAAAAAAAAAAAAAAAAAAAAAAAAAAAAAAAAAAAAAAAAAAAAAAAAAAAAAAAAAAAAAAAAAAAAAAAAAAAAAAAAAAAAAAAAAAAAAAAAAAAAAAAAAAAAAAAAAAAAAAAAAAAAAAAAAAAAAAAAAAAAAAAAAAAAAAAAAAAAAAAAAAAAAAAAAAAAAAAAAAAAAAAAAAAAAAAAAAAAAAAAAAAAAAAAAAAAAAAAAAAAAAAAAAAAAAAAAAAAAAAAAAAAAAAAAAAAAAAAAAAAAAAAAAAAAAAAAAAAAAAAAAAAAAAAAAAAAAAAAAAAAAAAAAAAAAAAAAAAAAAAAAAAAAAAAAAAAAAAAAAAAAAAAAAAAAAAAAAAAAAAAAAAAAAAAAAAAAAAAAAAAAAAAAAAAAAAAAAAAAAAAAAAAAAAAAAAAAAAAAAAAAAAAAAAAAAAAAAAAAAAAAAAAAAAAAAAAAAAAAAAAAAAAAAAAAAAAAAAAAAAAAAAAAAAAAAAAAAAAAAAAAAAAAAAAAAAAAAAAAAAAAAAAAAAAAAAAAAAAAAAAAAAAAAAAAAAAAAAAAAAAAAAAAAAAAAAAAAAAAAAAAAAAAAAAAAAAAAAAAAAAAAAAAAAAAAAAAAAAAAAAAAAAAAAAAAAAAAAAAAAAAAAAAAAAAAAAAAAAAAAAAAAAAAAAAAAAAAAAAAAAAAAAAAAAAAAAAAAAAAAAAAAAAAAAAAAAAAAAAAAAAAAAAAAAAAAAAAAAAAAAAAAAAAAAAAAAAAAAAAAAAAAAAAAAAAAAAAAAAAAAAAAAAAAAAAAAAAAAAAAAAAAAAAAAAAAAAAAAAAAAAAAAAAAAAAAAAAAAAAAAAAAAAAAAAAAAAAAAAAAAAAAAAAAAAAAAAAAAAAAAAAAAAAAAAAAAAAAACwAAAAABQABAAAIBgABCBQYEAA7\"><title>Layer: hidden2 (hidden)\n",
       " shape = (5,)\n",
       " Keras class = Dense\n",
       " activation = sigmoid</title></image><text x=\"580.0\" y=\"242.0\" font-family=\"monospace\" font-size=\"12\" text-anchor=\"start\" alignment-baseline=\"central\">hidden2</text><line x1=\"237.5\" y1=\"290\" x2=\"475.0\" y2=\"260\" stroke=\"black\" stroke-width=\"2\" marker-end=\"url(#arrow)\"><title>Weights from hidden to hidden2\n",
       " hidden2/kernel has shape (35330, 5)\n",
       " hidden2/bias has shape (5,)</title></line><line x1=\"475.0\" y1=\"290\" x2=\"475.0\" y2=\"260\" stroke=\"black\" stroke-width=\"2\" marker-end=\"url(#arrow)\"><title>Weights from sonar to hidden2\n",
       " hidden2/kernel has shape (35330, 5)\n",
       " hidden2/bias has shape (5,)</title></line><line x1=\"712.5\" y1=\"289\" x2=\"475.0\" y2=\"262\" stroke=\"black\" stroke-width=\"2\" marker-end=\"url(#arrow)\"><title>Weights from flatten to hidden2\n",
       " hidden2/kernel has shape (35330, 5)\n",
       " hidden2/bias has shape (5,)</title></line><rect x=\"611.5\" y=\"289\" width=\"202\" height=\"27\" style=\"fill:none;stroke:black;stroke-width:2\"/><image id=\"Robot Prediction Network_flatten_6\" class=\"Robot Prediction Network_flatten\" x=\"612.5\" y=\"290\" height=\"25\" width=\"200\" preserveAspectRatio=\"none\" href=\"data:image/gif;base64,R0lGODdhwIkBAIcAAP7+/QAAAAAAAAAAAAAAAAAAAAAAAAAAAAAAAAAAAAAAAAAAAAAAAAAAAAAAAAAAAAAAAAAAAAAAAAAAAAAAAAAAAAAAAAAAAAAAAAAAAAAAAAAAAAAAAAAAAAAAAAAAAAAAAAAAAAAAAAAAAAAAAAAAAAAAAAAAAAAAAAAAAAAAAAAAAAAAAAAAAAAAAAAAAAAAAAAAAAAAAAAAAAAAAAAAAAAAAAAAAAAAAAAAAAAAAAAAAAAAAAAAAAAAAAAAAAAAAAAAAAAAAAAAAAAAAAAAAAAAAAAAAAAAAAAAAAAAAAAAAAAAAAAAAAAAAAAAAAAAAAAAAAAAAAAAAAAAAAAAAAAAAAAAAAAAAAAAAAAAAAAAAAAAAAAAAAAAAAAAAAAAAAAAAAAAAAAAAAAAAAAAAAAAAAAAAAAAAAAAAAAAAAAAAAAAAAAAAAAAAAAAAAAAAAAAAAAAAAAAAAAAAAAAAAAAAAAAAAAAAAAAAAAAAAAAAAAAAAAAAAAAAAAAAAAAAAAAAAAAAAAAAAAAAAAAAAAAAAAAAAAAAAAAAAAAAAAAAAAAAAAAAAAAAAAAAAAAAAAAAAAAAAAAAAAAAAAAAAAAAAAAAAAAAAAAAAAAAAAAAAAAAAAAAAAAAAAAAAAAAAAAAAAAAAAAAAAAAAAAAAAAAAAAAAAAAAAAAAAAAAAAAAAAAAAAAAAAAAAAAAAAAAAAAAAAAAAAAAAAAAAAAAAAAAAAAAAAAAAAAAAAAAAAAAAAAAAAAAAAAAAAAAAAAAAAAAAAAAAAAAAAAAAAAAAAAAAAAAAAAAAAAAAAAAAAAAAAAAAAAAAAAAAAAAAAAAAAAAAAAAAAAAAAAAAAAAAAAAAAAAAAAAAAAAAAAAAAAAAAAAAAAAAAAAAAAAAAAAAAAAAAAAAAAAAAAAAAAAAAAAAAAAAAAAAAAAAAAAAAAAAAAAAAAAAAAAAAAAAAAAAAAAAAAAAAAAAAAAAAAAAAAAAAAAAAAAAAAAAAAAAAAAAAAAAAAAAAAAAAACwAAAAAwIkBAAAI/wABCBxIsKDBgwgTKlzIsKHDhxAjSpxIsaLFixgzatzIsaPHjyBDihxJsqTJkyhTqlzJsqXLlzBjypxJs6bNmzhz6tzJs6fPn0CDCh1KtKjRo0iTKl3KtKnTp1CjSp1KtarVq1izat3KtavXr2DDih1LtqzZs2jTql3Ltq3bt3Djyp1Lt67du3jz6t3Lt6/fv4ADCx5MuLDhw4gTK17MuLHjx5AjS55MubLly5gza97MubPnz6BDix5NurTp06hTq17NurXr17Bjy55Nu7bt27hz697Nu7fv38CDCx9OvLjx48iTK1/OvLnz59CjS59Ovbr169iza9/Ovbv37+DDi3gfT768+fPo06tfz769+/fw48ufT7++/fv48+vfz7+/f4AABA4kWNDgQYQJFS5k2NDhQ4gRJU6kWNHiRYwZNW7k2NHjR5AhRY4kWdLkSZQpVa5k2dLlS5gxZc6kWdPmTZw5de7k2dPnT6BBhQ4lWtToUaRJlS7tGBAAOw==\"><title>Layer: flatten (hidden)\n",
       " Keras class = Flatten</title></image><text x=\"817.5\" y=\"304.5\" font-family=\"monospace\" font-size=\"12\" text-anchor=\"start\" alignment-baseline=\"central\">flatten</text><line x1=\"237.5\" y1=\"344\" x2=\"237.5\" y2=\"290\" stroke=\"black\" stroke-width=\"2\"><title>Weights from hidden to hidden2\n",
       " hidden2/kernel has shape (35330, 5)\n",
       " hidden2/bias has shape (5,)</title></line><rect x=\"136.5\" y=\"344\" width=\"202\" height=\"27\" style=\"fill:none;stroke:black;stroke-width:2\"/><image id=\"Robot Prediction Network_hidden_7\" class=\"Robot Prediction Network_hidden\" x=\"137.5\" y=\"345\" height=\"25\" width=\"200\" preserveAspectRatio=\"none\" href=\"data:image/gif;base64,R0lGODdhMgABAIcAAP7+/QAAAAAAAAAAAAAAAAAAAAAAAAAAAAAAAAAAAAAAAAAAAAAAAAAAAAAAAAAAAAAAAAAAAAAAAAAAAAAAAAAAAAAAAAAAAAAAAAAAAAAAAAAAAAAAAAAAAAAAAAAAAAAAAAAAAAAAAAAAAAAAAAAAAAAAAAAAAAAAAAAAAAAAAAAAAAAAAAAAAAAAAAAAAAAAAAAAAAAAAAAAAAAAAAAAAAAAAAAAAAAAAAAAAAAAAAAAAAAAAAAAAAAAAAAAAAAAAAAAAAAAAAAAAAAAAAAAAAAAAAAAAAAAAAAAAAAAAAAAAAAAAAAAAAAAAAAAAAAAAAAAAAAAAAAAAAAAAAAAAAAAAAAAAAAAAAAAAAAAAAAAAAAAAAAAAAAAAAAAAAAAAAAAAAAAAAAAAAAAAAAAAAAAAAAAAAAAAAAAAAAAAAAAAAAAAAAAAAAAAAAAAAAAAAAAAAAAAAAAAAAAAAAAAAAAAAAAAAAAAAAAAAAAAAAAAAAAAAAAAAAAAAAAAAAAAAAAAAAAAAAAAAAAAAAAAAAAAAAAAAAAAAAAAAAAAAAAAAAAAAAAAAAAAAAAAAAAAAAAAAAAAAAAAAAAAAAAAAAAAAAAAAAAAAAAAAAAAAAAAAAAAAAAAAAAAAAAAAAAAAAAAAAAAAAAAAAAAAAAAAAAAAAAAAAAAAAAAAAAAAAAAAAAAAAAAAAAAAAAAAAAAAAAAAAAAAAAAAAAAAAAAAAAAAAAAAAAAAAAAAAAAAAAAAAAAAAAAAAAAAAAAAAAAAAAAAAAAAAAAAAAAAAAAAAAAAAAAAAAAAAAAAAAAAAAAAAAAAAAAAAAAAAAAAAAAAAAAAAAAAAAAAAAAAAAAAAAAAAAAAAAAAAAAAAAAAAAAAAAAAAAAAAAAAAAAAAAAAAAAAAAAAAAAAAAAAAAAAAAAAAAAAAAAAAAAAAAAAAAAAAAAAAAAAAAAAAAAAAAAAAAAAAAAAAAAAAAAAAAAAAAAAAAAAAAAAAAAAAAAAAAAAAAAAAAAAAAAAAAACwAAAAAMgABAAAIDgABCBxIsKDBgwgTFgwIADs=\"><title>Layer: hidden (hidden)\n",
       " shape = (50,)\n",
       " Keras class = Dense\n",
       " activation = relu</title></image><text x=\"342.5\" y=\"359.5\" font-family=\"monospace\" font-size=\"12\" text-anchor=\"start\" alignment-baseline=\"central\">hidden</text><line x1=\"475.0\" y1=\"345\" x2=\"475.0\" y2=\"290\" stroke=\"black\" stroke-width=\"2\"><title>Weights from sonar to hidden2\n",
       " hidden2/kernel has shape (35330, 5)\n",
       " hidden2/bias has shape (5,)</title></line><line x1=\"712.5\" y1=\"344\" x2=\"712.5\" y2=\"317\" stroke=\"black\" stroke-width=\"2\" marker-end=\"url(#arrow)\"><title>Weights from conv to flatten</title></line><rect x=\"611.5\" y=\"344\" width=\"202\" height=\"133\" style=\"fill:none;stroke:black;stroke-width:2\"/><image id=\"Robot Prediction Network_conv_8\" class=\"Robot Prediction Network_conv\" x=\"612.5\" y=\"345\" height=\"131\" width=\"200\" preserveAspectRatio=\"none\" href=\"data:image/gif;base64,R0lGODdhOgAmAIcAAP7+/QAAAAAAAAAAAAAAAAAAAAAAAAAAAAAAAAAAAAAAAAAAAAAAAAAAAAAAAAAAAAAAAAAAAAAAAAAAAAAAAAAAAAAAAAAAAAAAAAAAAAAAAAAAAAAAAAAAAAAAAAAAAAAAAAAAAAAAAAAAAAAAAAAAAAAAAAAAAAAAAAAAAAAAAAAAAAAAAAAAAAAAAAAAAAAAAAAAAAAAAAAAAAAAAAAAAAAAAAAAAAAAAAAAAAAAAAAAAAAAAAAAAAAAAAAAAAAAAAAAAAAAAAAAAAAAAAAAAAAAAAAAAAAAAAAAAAAAAAAAAAAAAAAAAAAAAAAAAAAAAAAAAAAAAAAAAAAAAAAAAAAAAAAAAAAAAAAAAAAAAAAAAAAAAAAAAAAAAAAAAAAAAAAAAAAAAAAAAAAAAAAAAAAAAAAAAAAAAAAAAAAAAAAAAAAAAAAAAAAAAAAAAAAAAAAAAAAAAAAAAAAAAAAAAAAAAAAAAAAAAAAAAAAAAAAAAAAAAAAAAAAAAAAAAAAAAAAAAAAAAAAAAAAAAAAAAAAAAAAAAAAAAAAAAAAAAAAAAAAAAAAAAAAAAAAAAAAAAAAAAAAAAAAAAAAAAAAAAAAAAAAAAAAAAAAAAAAAAAAAAAAAAAAAAAAAAAAAAAAAAAAAAAAAAAAAAAAAAAAAAAAAAAAAAAAAAAAAAAAAAAAAAAAAAAAAAAAAAAAAAAAAAAAAAAAAAAAAAAAAAAAAAAAAAAAAAAAAAAAAAAAAAAAAAAAAAAAAAAAAAAAAAAAAAAAAAAAAAAAAAAAAAAAAAAAAAAAAAAAAAAAAAAAAAAAAAAAAAAAAAAAAAAAAAAAAAAAAAAAAAAAAAAAAAAAAAAAAAAAAAAAAAAAAAAAAAAAAAAAAAAAAAAAAAAAAAAAAAAAAAAAAAAAAAAAAAAAAAAAAAAAAAAAAAAAAAAAAAAAAAAAAAAAAAAAAAAAAAAAAAAAAAAAAAAAAAAAAAAAAAAAAAAAAAAAAAAAAAAAAAAAAAAAAAAAAAAAAAAAAACwAAAAAOgAmAEAITQABCBxIsKDBgwgTKlzIsKHDhxAjSpxIsaLFixgzatzIsaPHjyBDihxJsqTJkyhTqlzJsqXLlzBjypxJs6bNmzhz6tzJs6fPn0CD7gwIADs=\"><title>Layer: conv (hidden)\n",
       " Keras class = Conv2D</title></image><text x=\"817.5\" y=\"412.5\" font-family=\"monospace\" font-size=\"12\" text-anchor=\"start\" alignment-baseline=\"central\">conv</text><text x=\"817.5\" y=\"350\" font-family=\"monospace\" font-size=\"12\" text-anchor=\"start\" alignment-baseline=\"central\">16</text><text x=\"600.5\" y=\"471\" font-family=\"monospace\" font-size=\"12\" text-anchor=\"start\" alignment-baseline=\"central\">0</text><line x1=\"237.5\" y1=\"505\" x2=\"237.5\" y2=\"372\" stroke=\"black\" stroke-width=\"2\" marker-end=\"url(#arrow)\"><title>Weights from light to hidden\n",
       " hidden/kernel has shape (2, 50)\n",
       " hidden/bias has shape (50,)</title></line><rect x=\"186.5\" y=\"505\" width=\"102\" height=\"52\" style=\"fill:none;stroke:black;stroke-width:2\"/><image id=\"Robot Prediction Network_light_9\" class=\"Robot Prediction Network_light\" x=\"187.5\" y=\"506\" height=\"50\" width=\"100\" preserveAspectRatio=\"none\" href=\"data:image/gif;base64,R0lGODdhAgABAIcAAP7+/QAAAAAAAAAAAAAAAAAAAAAAAAAAAAAAAAAAAAAAAAAAAAAAAAAAAAAAAAAAAAAAAAAAAAAAAAAAAAAAAAAAAAAAAAAAAAAAAAAAAAAAAAAAAAAAAAAAAAAAAAAAAAAAAAAAAAAAAAAAAAAAAAAAAAAAAAAAAAAAAAAAAAAAAAAAAAAAAAAAAAAAAAAAAAAAAAAAAAAAAAAAAAAAAAAAAAAAAAAAAAAAAAAAAAAAAAAAAAAAAAAAAAAAAAAAAAAAAAAAAAAAAAAAAAAAAAAAAAAAAAAAAAAAAAAAAAAAAAAAAAAAAAAAAAAAAAAAAAAAAAAAAAAAAAAAAAAAAAAAAAAAAAAAAAAAAAAAAAAAAAAAAAAAAAAAAAAAAAAAAAAAAAAAAAAAAAAAAAAAAAAAAAAAAAAAAAAAAAAAAAAAAAAAAAAAAAAAAAAAAAAAAAAAAAAAAAAAAAAAAAAAAAAAAAAAAAAAAAAAAAAAAAAAAAAAAAAAAAAAAAAAAAAAAAAAAAAAAAAAAAAAAAAAAAAAAAAAAAAAAAAAAAAAAAAAAAAAAAAAAAAAAAAAAAAAAAAAAAAAAAAAAAAAAAAAAAAAAAAAAAAAAAAAAAAAAAAAAAAAAAAAAAAAAAAAAAAAAAAAAAAAAAAAAAAAAAAAAAAAAAAAAAAAAAAAAAAAAAAAAAAAAAAAAAAAAAAAAAAAAAAAAAAAAAAAAAAAAAAAAAAAAAAAAAAAAAAAAAAAAAAAAAAAAAAAAAAAAAAAAAAAAAAAAAAAAAAAAAAAAAAAAAAAAAAAAAAAAAAAAAAAAAAAAAAAAAAAAAAAAAAAAAAAAAAAAAAAAAAAAAAAAAAAAAAAAAAAAAAAAAAAAAAAAAAAAAAAAAAAAAAAAAAAAAAAAAAAAAAAAAAAAAAAAAAAAAAAAAAAAAAAAAAAAAAAAAAAAAAAAAAAAAAAAAAAAAAAAAAAAAAAAAAAAAAAAAAAAAAAAAAAAAAAAAAAAAAAAAAAAAAAAAAAAAAAAAAAAAAAACwAAAAAAgABAAAIBQABAAgIADs=\"><title>Layer: light (input)\n",
       " shape = (2,)\n",
       " Keras class = Input</title></image><text x=\"292.5\" y=\"533.0\" font-family=\"monospace\" font-size=\"12\" text-anchor=\"start\" alignment-baseline=\"central\">light</text><line x1=\"475.0\" y1=\"505\" x2=\"475.0\" y2=\"345\" stroke=\"black\" stroke-width=\"2\"><title>Weights from sonar to hidden2\n",
       " hidden2/kernel has shape (35330, 5)\n",
       " hidden2/bias has shape (5,)</title></line><rect x=\"374.0\" y=\"505\" width=\"202\" height=\"27\" style=\"fill:none;stroke:black;stroke-width:2\"/><image id=\"Robot Prediction Network_sonar_10\" class=\"Robot Prediction Network_sonar\" x=\"375.0\" y=\"506\" height=\"25\" width=\"200\" preserveAspectRatio=\"none\" href=\"data:image/gif;base64,R0lGODdhEAABAIcAAP7+/QAAAAAAAAAAAAAAAAAAAAAAAAAAAAAAAAAAAAAAAAAAAAAAAAAAAAAAAAAAAAAAAAAAAAAAAAAAAAAAAAAAAAAAAAAAAAAAAAAAAAAAAAAAAAAAAAAAAAAAAAAAAAAAAAAAAAAAAAAAAAAAAAAAAAAAAAAAAAAAAAAAAAAAAAAAAAAAAAAAAAAAAAAAAAAAAAAAAAAAAAAAAAAAAAAAAAAAAAAAAAAAAAAAAAAAAAAAAAAAAAAAAAAAAAAAAAAAAAAAAAAAAAAAAAAAAAAAAAAAAAAAAAAAAAAAAAAAAAAAAAAAAAAAAAAAAAAAAAAAAAAAAAAAAAAAAAAAAAAAAAAAAAAAAAAAAAAAAAAAAAAAAAAAAAAAAAAAAAAAAAAAAAAAAAAAAAAAAAAAAAAAAAAAAAAAAAAAAAAAAAAAAAAAAAAAAAAAAAAAAAAAAAAAAAAAAAAAAAAAAAAAAAAAAAAAAAAAAAAAAAAAAAAAAAAAAAAAAAAAAAAAAAAAAAAAAAAAAAAAAAAAAAAAAAAAAAAAAAAAAAAAAAAAAAAAAAAAAAAAAAAAAAAAAAAAAAAAAAAAAAAAAAAAAAAAAAAAAAAAAAAAAAAAAAAAAAAAAAAAAAAAAAAAAAAAAAAAAAAAAAAAAAAAAAAAAAAAAAAAAAAAAAAAAAAAAAAAAAAAAAAAAAAAAAAAAAAAAAAAAAAAAAAAAAAAAAAAAAAAAAAAAAAAAAAAAAAAAAAAAAAAAAAAAAAAAAAAAAAAAAAAAAAAAAAAAAAAAAAAAAAAAAAAAAAAAAAAAAAAAAAAAAAAAAAAAAAAAAAAAAAAAAAAAAAAAAAAAAAAAAAAAAAAAAAAAAAAAAAAAAAAAAAAAAAAAAAAAAAAAAAAAAAAAAAAAAAAAAAAAAAAAAAAAAAAAAAAAAAAAAAAAAAAAAAAAAAAAAAAAAAAAAAAAAAAAAAAAAAAAAAAAAAAAAAAAAAAAAAAAAAAAAAAAAAAAAAAAAAAAAAAAAAAAAAAAAAAAAAAACwAAAAAEAABAAAICQABCBxIsCCAgAA7\"><title>Layer: sonar (input)\n",
       " shape = (16,)\n",
       " Keras class = Input</title></image><text x=\"580.0\" y=\"520.5\" font-family=\"monospace\" font-size=\"12\" text-anchor=\"start\" alignment-baseline=\"central\">sonar</text><line x1=\"712.5\" y1=\"505\" x2=\"712.5\" y2=\"478\" stroke=\"black\" stroke-width=\"2\" marker-end=\"url(#arrow)\"><title>Weights from camera to conv\n",
       " conv/kernel has shape (3, 3, 3, 16)\n",
       " conv/bias has shape (16,)</title></line><rect x=\"611.5\" y=\"505\" width=\"202\" height=\"135\" style=\"fill:none;stroke:black;stroke-width:2\"/><image id=\"Robot Prediction Network_camera_11\" class=\"Robot Prediction Network_camera\" x=\"612.5\" y=\"506\" height=\"133\" width=\"200\" preserveAspectRatio=\"none\" href=\"data:image/gif;base64,R0lGODdhPAAoAIcAAAAAAAAAAAAAAAAAAAAAAAAAAAAAAAAAAAAAAAAAAAAAAAAAAAAAAAAAAAAAAAAAAAAAAAAAAAAAAAAAAAAAAAAAAAAAAAAAAAAAAAAAAAAAAAAAAAAAAAAAAAAAAAAAAAAAAAAAAAAAAAAAAAAAAAAAAAAAAAAAAAAAAAAAAAAAAAAAAAAAAAAAAAAAAAAAAAAAAAAAAAAAAAAAAAAAAAAAAAAAAAAAAAAAAAAAAAAAAAAAAAAAAAAAAAAAAAAAAAAAAAAAAAAAAAAAAAAAAAAAAAAAAAAAAAAAAAAAAAAAAAAAAAAAAAAAAAAAAAAAAAAAAAAAAAAAAAAAAAAAAAAAAAAAAAAAAAAAAAAAAAAAAAAAAAAAAAAAAAAAAAAAAAAAAAAAAAAAAAAAAAAAAAAAAAAAAAAAAAAAAAAAAAAAAAAAAAAAAAAAAAAAAAAAAAAAAAAAAAAAAAAAAAAAAAAAAAAAAAAAAAAAAAAAAAAAAAAAAAAAAAAAAAAAAAAAAAAAAAAAAAAAAAAAAAAAAAAAAAAAAAAAAAAAAAAAAAAAAAAAAAAAAAAAAAAAAAAAAAAAAAAAAAAAAAAAAAAAAAAAAAAAAAAAAAAAAAAAAAAAAAAAAAAAAAAAAAAAAAAAAAAAAAAAAAAAAAAAAAAAAAAAAAAAAAAAAAAAAAAAAAAAAAAAAAAAAAAAAAAAAAAAAAAAAAAAAAAAAAAAAAAAAAAAAAAAAAAAAAAAAAAAAAAAAAAAAAAAAAAAAAAAAAAAAAAAAAAAAAAAAAAAAAAAAAAAAAAAAAAAAAAAAAAAAAAAAAAAAAAAAAAAAAAAAAAAAAAAAAAAAAAAAAAAAAAAAAAAAAAAAAAAAAAAAAAAAAAAAAAAAAAAAAAAAAAAAAAAAAAAAAAAAAAAAAAAAAAAAAAAAAAAAAAAAAAAAAAAAAAAAAAAAAAAAAAAAAAAAAAAAAAAAAAAAAAAAAAAAAAAAAAAAAAAAAAAAAAAAAAAAAAAAAAAAAAAAAAAAAAAAAAAACwAAAAAPAAoAEAIUAABCBxIsKDBgwgTKlzIsKHDhxAjSpxIsaLFixgzatzIsaPHjyBDihxJsqTJkyhTqlzJsqXLlzBjypxJs6bNmzhz6tzJs6fPn0CDCh1K1GZAADs=\"><title>Layer: camera (input)\n",
       " shape = (40, 60, 3)\n",
       " Keras class = Input</title></image><text x=\"817.5\" y=\"574.5\" font-family=\"monospace\" font-size=\"12\" text-anchor=\"start\" alignment-baseline=\"central\">camera</text></svg>"
      ],
      "text/plain": [
       "<Network name='Robot Prediction Network' (compiled)>"
      ]
     },
     "execution_count": 54,
     "metadata": {},
     "output_type": "execute_result"
    }
   ],
   "source": [
    "net"
   ]
  },
  {
   "cell_type": "code",
   "execution_count": 55,
   "metadata": {},
   "outputs": [],
   "source": [
    "matrix = net.propagate_to(\"conv\", get_senses(robot))"
   ]
  },
  {
   "cell_type": "code",
   "execution_count": 56,
   "metadata": {},
   "outputs": [],
   "source": [
    "net[\"conv\"].feature = 6"
   ]
  },
  {
   "cell_type": "code",
   "execution_count": 57,
   "metadata": {},
   "outputs": [
    {
     "data": {
      "text/html": [
       "<table><tr><td><img src=\"data:image/gif;base64,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\"/><br/><center>Feature 0</center></td><td><img src=\"data:image/gif;base64,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\"/><br/><center>Feature 1</center></td><td><img src=\"data:image/gif;base64,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\"/><br/><center>Feature 2</center></td><td><img src=\"data:image/gif;base64,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\"/><br/><center>Feature 3</center></td><td><img src=\"data:image/gif;base64,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\"/><br/><center>Feature 4</center></td></tr><tr><td><img src=\"data:image/gif;base64,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\"/><br/><center>Feature 5</center></td><td><img src=\"data:image/gif;base64,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\"/><br/><center>Feature 6</center></td><td><img src=\"data:image/gif;base64,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\"/><br/><center>Feature 7</center></td><td><img src=\"data:image/gif;base64,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\"/><br/><center>Feature 8</center></td><td><img src=\"data:image/gif;base64,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\"/><br/><center>Feature 9</center></td></tr><tr><td><img src=\"data:image/gif;base64,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\"/><br/><center>Feature 10</center></td><td><img src=\"data:image/gif;base64,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\"/><br/><center>Feature 11</center></td><td><img src=\"data:image/gif;base64,R0lGODdhrgByAIcAAOaFathlUe2Xd/SqiPazlPKgfvi+ovjCp95zW+F7YeB4XwAAAAAAAAAAAAAAAAAAAAAAAAAAAAAAAAAAAAAAAAAAAAAAAAAAAAAAAAAAAAAAAAAAAAAAAAAAAAAAAAAAAAAAAAAAAAAAAAAAAAAAAAAAAAAAAAAAAAAAAAAAAAAAAAAAAAAAAAAAAAAAAAAAAAAAAAAAAAAAAAAAAAAAAAAAAAAAAAAAAAAAAAAAAAAAAAAAAAAAAAAAAAAAAAAAAAAAAAAAAAAAAAAAAAAAAAAAAAAAAAAAAAAAAAAAAAAAAAAAAAAAAAAAAAAAAAAAAAAAAAAAAAAAAAAAAAAAAAAAAAAAAAAAAAAAAAAAAAAAAAAAAAAAAAAAAAAAAAAAAAAAAAAAAAAAAAAAAAAAAAAAAAAAAAAAAAAAAAAAAAAAAAAAAAAAAAAAAAAAAAAAAAAAAAAAAAAAAAAAAAAAAAAAAAAAAAAAAAAAAAAAAAAAAAAAAAAAAAAAAAAAAAAAAAAAAAAAAAAAAAAAAAAAAAAAAAAAAAAAAAAAAAAAAAAAAAAAAAAAAAAAAAAAAAAAAAAAAAAAAAAAAAAAAAAAAAAAAAAAAAAAAAAAAAAAAAAAAAAAAAAAAAAAAAAAAAAAAAAAAAAAAAAAAAAAAAAAAAAAAAAAAAAAAAAAAAAAAAAAAAAAAAAAAAAAAAAAAAAAAAAAAAAAAAAAAAAAAAAAAAAAAAAAAAAAAAAAAAAAAAAAAAAAAAAAAAAAAAAAAAAAAAAAAAAAAAAAAAAAAAAAAAAAAAAAAAAAAAAAAAAAAAAAAAAAAAAAAAAAAAAAAAAAAAAAAAAAAAAAAAAAAAAAAAAAAAAAAAAAAAAAAAAAAAAAAAAAAAAAAAAAAAAAAAAAAAAAAAAAAAAAAAAAAAAAAAAAAAAAAAAAAAAAAAAAAAAAAAAAAAAAAAAAAAAAAAAAAAAAAAAAAAAAAAAAAAAAAAAAAAAAAAAAAAAAAAAAAAAAAAAAAAAAAAAAAAAAAAAAACwAAAAArgByAEAI/wABCBxIsKDBgwgTKlzIsKHDhxAjSpxIsaLFixgzatzIsaPHjyBDihxJsqTJkycFqFzJsqXLlQBiypxJs6bNmwJyDtjJs6dPAUABCBVAtKjRo0iTKl3KtKnTAVCjSoVaoKpVAVizat3KtavXrwfCijVAtiyBs2jTql3L9uyAt3Djyp1Lt67du3jzwi3At6+Av4ADCx5MuLDhA4gTG1jMmIDjx5AjS57seIDly5gza97MubPnz6AvFxhNWoDp06hTq17NuvWB17ANyJ5NoLbt27hz6649oLfv38CDCx9OvLjx474LKF8uoLnz59CjS59OXYF1AdgLaBfAvTuA7+AFiP8fT748gPPoBagfwL69+/fw48ufT7++/QL48wvYz7+/f4ACBA4kWNDgQYEBFC5k2NDhQ4gOEUwEUFHARYwZNW7k2NHjR5AARCYgCcDkSZQmBaxk2dLlS5gxXwagWdPmTZw5de7k2dPnT6BBhQ4lWtToUaRJlS5l2tTpU6hRpU6lWtUqVABZtW7l2tXrV7BhxY4lW9bsWbRp1a5l29btW7hx5c6lW9fuXbx59e7tKsDvX8CBBf8FUNjwYcSJFRcu0HjAY8iQC0ymXNnyZcyTBWzm3NnzZ9CeC4wWUBrAaQGpAaxmLcB1AdgCZM+mXdv2bdy5B+zmzVvAbwDBBQwnXtz/+ADkBJQvXz7A+XPo0aVPp17d+nXszwts5y7A+3fw4cWPJ1/+wHn0BtSvJ9De/Xv48eW3H1Df/n38+fXv59/fP8ABAgcSLFjgIEIBChcybOjwIcSIByZSNGDxIoGMGjdy7Ogx44CQIkeSLGnyJMqUKleKLODypYCYMmfSrGnzJs4BOgnwNODzJ4GgQocSLWo06ICkSpcyber0KdSoUqcqLWD1qoCsWrdy7er1K9gAYseSLavgrIC0ateybasWANy4cufSrWv3Lt68dAXwLeB3AOACggcLKGz4MOLEihczDuD4MeTIkidTrmz5MubMmjdXRuAZAOjQokeTLm2adIDU/6pXs27t+jXs2LJn065t+zbu3Lp38+7t+zfw4MKHEy9uPDiA5MqXM2/u/Dn06NKnU69u/Tr27Nq3c+/u/Tv48OLHky9v/jz69OrXs2/v/j38+PLn069v/z7+/PqtC+jvH6AAgQMJFhwIAGFChQsZNnT4EGJEiRMpVrSIUEBGjRoBdPT4EWRIkR0FlDR5EmVKkwBYtnT5EmZMlgVoDrB582YBnTt59vT5U6cAoUOJFjV6tGgBpQKYAnAqACoAqVMFVC1wVUBWrVu5dvX6FewAsWPHCjALAK0AtWvZth3wlkBcuXIH1LV7F29evXv59vX7124BwYMFFDZ8GHFixYsZN/8uTAByZMmTKVeGPABzZs2bOXf2/Bl0aNGZC5Q2LQB1atWrWbd2/fpAbNkGaNcmcBt3bt27ed8e8Bt4cOHDiRc3fhx5cuAFmDcX8Bx6dOnTqVe3fgB7dgPbuRPw/h18ePHjvQ8wfx59evXr2bd3/x7++QLz6Quwfx9/fv37+fc/APCAQIEGChokgDChwoUMGyIcADGixIkUK1q8iDGjxogFOnoUADKkyJEkS5o8eSClSgMsWxJ4CTOmzJk0Xw64iTOnzp08e/r8CTQozgJEiwo4ijSp0qVMmzodAJWAVANUqxK4ijWr1q1crw74Cjas2LFky5o9izYt2AJs2wp4Czf/rty5dOvaBYA3r4C9fPkO+EsgsODBhAsLHoA4seLFjBs7fgw5suTEBSpbFoA5s+bNnDt7/qwgtIDRBUoLOI0agOrVAlq7fg0bgOzZAmoPuI07t+7dvHv7/g08eIHhxAUYP448ufLlzJsHeA49uvTp1KtPR4AdgHYB3Lt7/w4+vPjx5MsDOJ8gPYD17NuvFwA/vvz59Ovbpx8gv/79/Pv7BxhA4ECCBQ0eRJhQ4UKGCBE8BBBR4sSICSxeBJBR40aOHT1+1BhA5EiSJU2eRJlS5UqWLV2+TIlAJgCaNW3exJlTJ84APX3+BBpU6FCiRY0eRZpU6VKmTZ0+hRpV6lSq/1WtXsWaVetWrl29fgUbVuxYsmXNnkVLFMBatm3dvoUbV+5cunXt3sWbV+9evn39/gUcWPBgwoUNH0acWPFixo0dP4YcWfJkypUtX8acWfNmzp09fwYdWvRo0qVNn0adWvVq1q1XC4AdW/Zs2rEB3MadW/du3r19/wYeXPhw4sWHC0CeXPly5skBPIceXfp06tWtX8eeXft27tAFfAcfXvx48ADMn0efXv169u3dv4cfX/58+uYF3MePH8B+/v39AwQgcCDBggIOIkyocCFCAA4fQowocSLFihYvYsyoUaKAjh49AggpciTJkiZDCkipciXLlioBwIwpcybNmjAL4P8coHPnzgI+fwINKnSoTwFGjyJNqnRp0gJOBUAFIFUAVQBWrwrIWmCrgK5ev4INK3YsWQBmz54VoHYA27Zu3wqIC2CugLp27+LNq3cv375+/w4ILHhw4AKGDwtIrHgx48aOH0MGIHnyZAGWB2DOrHmzgM4APgsILXo06dKmT6NOrXr1gNauX7cuIHu2gNq2b+POrXs37wG+f/8WIBwAcQHGjyNPPmA5gebOnQ+ILn069erWr2PPrn279ALevwsIL348+fLmz6NPH54A+/bu38OPz34A/fr27+PPr38///7+AQ4QWIBgQQEHESZUuJBhQ4cPDxKQOJFiRYsXJQ7QuJH/Y0ePH0GGFDmS5MYCJ1EKULmSZUuXL2HGPDCTpgGbNwnk1LmTZ0+fOQcEFTqUaFGjR5EmVbpUaAGnTwVElTqValWrV7Ee0LrVQFevBMCGFTuWbFmwA9CmVbuWbVu3b+HGlZu2QF27AvDm1buXb1+/fw8EFmyAcGEChxEnVryY8eEBjyFHljyZcmXLlzFnhlyAc2cBn0GHFj2adGnTB1CnNrCaNQHXr2HHlj3b9QDbt3Hn1r2bd2/fv4HfLjCcuADjx5EnV76cefMDz6EbkD6dQHXr17Fn1159QHfv38GHFz+efHnz570XUL9eQHv37+HHlz+f/gH79w3k10+Af3///wAJCBxIsGDBAQgTKlzIsKHDhxAjSkxYoKJFARgzatzIsaPHjwdCijRAsiSBkyhTqlzJ8uSAlzBjypxJs6bNmzhzwizAs6eAn0CDCh1KtKjRA0iTGljKlIDTp1CjSp3qdIDVq1izat3KtavXr2CvFhhLVoDZs2jTql3Ltu2Bt3ANyJ1LoK7du3jz6q07oK/fv4ADCx5MuLDhw34LKF4soLHjx5AjS55MeYBlApgNaN5MoLPnz6BDi+48oLTp06hTq17NurXr16YLyJ4toLbt27hz697NG4Dv3wKCCxc+oDiB48iTK1+OfIDz59CjS59Ovbr169ifF9jOXYD37+DDi/8fT748gPPoBahfv36AewLw48ufTz/+gPv48+vfz7+/f4ADBA4kWNDgQYQFFC4U0NDhQ4gRJU6kqMCiAIwFNArg2BHAR5ACRI4kWRLASZQCVA5g2dLlS5gxZc6kWdNmAZw5Bezk2dPnT6BBhQYgWtToUQVJBSxl2tTpU6YApE6lWtXqVaxZtW61KsBrAbADxBYgW1bAWbRp1a5l29ZtALhx5c5VUFfAXbx59e7FC8DvX8CBBQ8mXNjwYcECFBdgPMBxAciRBUymXNnyZcyZNQfg3NnzZ9ChRYNGUBrAaQGpVa9m3dr1a9ixZQOgncA2ANy5deMW0Nv3b+DBhQ8PHsC8+HHkyZUvZ97c+XPo0aU3R1AdwHXs2a8n4N4dwHfw4cWPJ18efAD06dWvZ9/e/Xv48eXPp/8ewX0A+fXvz5/AP8AEAgEQLGjwIMKECgsGaOjwIcSIEidSrGjxIsaMGiki6AjgI8iQIkeSLDkyAMqUKleybOnyJcyYMmfSrGnzJs6cOnfy7OnzJ9CgQocSLWr0KNKkSpcyber0KdSoUqdSrWr1KtasWrdy7er1K9iwYseSLWv2LNq0atfuDAgAOw==\"/><br/><center>Feature 12</center></td><td><img src=\"data:image/gif;base64,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\"/><br/><center>Feature 13</center></td><td><img src=\"data:image/gif;base64,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\"/><br/><center>Feature 14</center></td></tr><tr><td><img src=\"data:image/gif;base64,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\"/><br/><center>Feature 15</center></td></tr></table>"
      ],
      "text/plain": [
       "<IPython.core.display.HTML object>"
      ]
     },
     "execution_count": 57,
     "metadata": {},
     "output_type": "execute_result"
    }
   ],
   "source": [
    "net.propagate_to_features(\"conv\", get_senses(robot), scale=3)"
   ]
  },
  {
   "cell_type": "code",
   "execution_count": 58,
   "metadata": {},
   "outputs": [
    {
     "data": {
      "text/plain": [
       "{}"
      ]
     },
     "execution_count": 58,
     "metadata": {},
     "output_type": "execute_result"
    }
   ],
   "source": [
    "net.train_options"
   ]
  },
  {
   "cell_type": "code",
   "execution_count": 59,
   "metadata": {
    "scrolled": false
   },
   "outputs": [
    {
     "data": {
      "application/javascript": [
       "\n",
       "require(['base/js/namespace'], function(Jupyter) {\n",
       "    Jupyter.notebook.kernel.comm_manager.register_target('conx_svg_control', function(comm, msg) {\n",
       "        comm.on_msg(function(msg) {\n",
       "            var data = msg[\"content\"][\"data\"];\n",
       "            var images = document.getElementsByClassName(data[\"class\"]);\n",
       "            for (var i = 0; i < images.length; i++) {\n",
       "                images[i].setAttributeNS(null, \"href\", data[\"href\"]);\n",
       "            }\n",
       "        });\n",
       "    });\n",
       "});\n"
      ],
      "text/plain": [
       "<IPython.core.display.Javascript object>"
      ]
     },
     "metadata": {},
     "output_type": "display_data"
    },
    {
     "data": {
      "application/vnd.jupyter.widget-view+json": {
       "model_id": "1ef3176680f6416891a793a08fd21a34",
       "version_major": 2,
       "version_minor": 0
      },
      "text/html": [
       "<p>Failed to display Jupyter Widget of type <code>Tab</code>.</p>\n",
       "<p>\n",
       "  If you're reading this message in Jupyter Notebook or JupyterLab, it may mean\n",
       "  that the widgets JavaScript is still loading. If this message persists, it\n",
       "  likely means that the widgets JavaScript library is either not installed or\n",
       "  not enabled. See the <a href=\"https://ipywidgets.readthedocs.io/en/stable/user_install.html\">Jupyter\n",
       "  Widgets Documentation</a> for setup instructions.\n",
       "</p>\n",
       "<p>\n",
       "  If you're reading this message in another notebook frontend (for example, a static\n",
       "  rendering on GitHub or <a href=\"https://nbviewer.jupyter.org/\">NBViewer</a>),\n",
       "  it may mean that your frontend doesn't currently support widgets.\n",
       "</p>\n"
      ],
      "text/plain": [
       "Tab(children=(VBox(children=(HTML(value='<p style=\"text-align:center\"><svg id=\\'Robot Prediction Network\\' xmlns=\\'http://www.w3.org/2000/svg\\' viewBox=\"0 0 950 664\" height=\"780\" image-rendering=\"pixelated\">\\n    <defs>\\n        <marker id=\"arrow\" markerWidth=\"10\" markerHeight=\"10\" refX=\"9\" refY=\"3\" orient=\"auto\" markerUnits=\"strokeWidth\">\\n          <path d=\"M0,0 L0,6 L9,3 z\" fill=\"black\" />\\n        </marker>\\n    </defs><text x=\"475.0\" y=\"12.5\" font-family=\"monospace\" font-size=\"15\" text-anchor=\"middle\" alignment-baseline=\"central\">Robot Prediction Network</text><rect x=\"265.6666666666667\" y=\"29\" width=\"102\" height=\"52\" style=\"fill:none;stroke:black;stroke-width:2\"/><image id=\"Robot Prediction Network_output1_12\" class=\"Robot Prediction Network_output1\" x=\"266.6666666666667\" y=\"30\" height=\"50\" width=\"100\" preserveAspectRatio=\"none\" href=\"data:image/gif;base64,R0lGODdhAgABAIcAAOF7Yfn5+QAAAAAAAAAAAAAAAAAAAAAAAAAAAAAAAAAAAAAAAAAAAAAAAAAAAAAAAAAAAAAAAAAAAAAAAAAAAAAAAAAAAAAAAAAAAAAAAAAAAAAAAAAAAAAAAAAAAAAAAAAAAAAAAAAAAAAAAAAAAAAAAAAAAAAAAAAAAAAAAAAAAAAAAAAAAAAAAAAAAAAAAAAAAAAAAAAAAAAAAAAAAAAAAAAAAAAAAAAAAAAAAAAAAAAAAAAAAAAAAAAAAAAAAAAAAAAAAAAAAAAAAAAAAAAAAAAAAAAAAAAAAAAAAAAAAAAAAAAAAAAAAAAAAAAAAAAAAAAAAAAAAAAAAAAAAAAAAAAAAAAAAAAAAAAAAAAAAAAAAAAAAAAAAAAAAAAAAAAAAAAAAAAAAAAAAAAAAAAAAAAAAAAAAAAAAAAAAAAAAAAAAAAAAAAAAAAAAAAAAAAAAAAAAAAAAAAAAAAAAAAAAAAAAAAAAAAAAAAAAAAAAAAAAAAAAAAAAAAAAAAAAAAAAAAAAAAAAAAAAAAAAAAAAAAAAAAAAAAAAAAAAAAAAAAAAAAAAAAAAAAAAAAAAAAAAAAAAAAAAAAAAAAAAAAAAAAAAAAAAAAAAAAAAAAAAAAAAAAAAAAAAAAAAAAAAAAAAAAAAAAAAAAAAAAAAAAAAAAAAAAAAAAAAAAAAAAAAAAAAAAAAAAAAAAAAAAAAAAAAAAAAAAAAAAAAAAAAAAAAAAAAAAAAAAAAAAAAAAAAAAAAAAAAAAAAAAAAAAAAAAAAAAAAAAAAAAAAAAAAAAAAAAAAAAAAAAAAAAAAAAAAAAAAAAAAAAAAAAAAAAAAAAAAAAAAAAAAAAAAAAAAAAAAAAAAAAAAAAAAAAAAAAAAAAAAAAAAAAAAAAAAAAAAAAAAAAAAAAAAAAAAAAAAAAAAAAAAAAAAAAAAAAAAAAAAAAAAAAAAAAAAAAAAAAAAAAAAAAAAAAAAAAAAAAAAAAAAAAAAAAAAAAAAAAAAAAAAAAAAAAAAAAAAAAAAAAAACwAAAAAAgABAAAIBQADAAgIADs=\"><title>Layer: output1 (output)\\n shape = (2,)\\n Keras class = Dense\\n activation = sigmoid</title></image><text x=\"371.6666666666667\" y=\"57.0\" font-family=\"monospace\" font-size=\"12\" text-anchor=\"start\" alignment-baseline=\"central\">output1</text><rect x=\"532.3333333333334\" y=\"29\" width=\"202\" height=\"42\" style=\"fill:none;stroke:black;stroke-width:2\"/><image id=\"Robot Prediction Network_output2_13\" class=\"Robot Prediction Network_output2\" x=\"533.3333333333334\" y=\"30\" height=\"40\" width=\"200\" preserveAspectRatio=\"none\" href=\"data:image/gif;base64,R0lGODdhBQABAIcAAPz49vjBpvvUvubm5gAAAAAAAAAAAAAAAAAAAAAAAAAAAAAAAAAAAAAAAAAAAAAAAAAAAAAAAAAAAAAAAAAAAAAAAAAAAAAAAAAAAAAAAAAAAAAAAAAAAAAAAAAAAAAAAAAAAAAAAAAAAAAAAAAAAAAAAAAAAAAAAAAAAAAAAAAAAAAAAAAAAAAAAAAAAAAAAAAAAAAAAAAAAAAAAAAAAAAAAAAAAAAAAAAAAAAAAAAAAAAAAAAAAAAAAAAAAAAAAAAAAAAAAAAAAAAAAAAAAAAAAAAAAAAAAAAAAAAAAAAAAAAAAAAAAAAAAAAAAAAAAAAAAAAAAAAAAAAAAAAAAAAAAAAAAAAAAAAAAAAAAAAAAAAAAAAAAAAAAAAAAAAAAAAAAAAAAAAAAAAAAAAAAAAAAAAAAAAAAAAAAAAAAAAAAAAAAAAAAAAAAAAAAAAAAAAAAAAAAAAAAAAAAAAAAAAAAAAAAAAAAAAAAAAAAAAAAAAAAAAAAAAAAAAAAAAAAAAAAAAAAAAAAAAAAAAAAAAAAAAAAAAAAAAAAAAAAAAAAAAAAAAAAAAAAAAAAAAAAAAAAAAAAAAAAAAAAAAAAAAAAAAAAAAAAAAAAAAAAAAAAAAAAAAAAAAAAAAAAAAAAAAAAAAAAAAAAAAAAAAAAAAAAAAAAAAAAAAAAAAAAAAAAAAAAAAAAAAAAAAAAAAAAAAAAAAAAAAAAAAAAAAAAAAAAAAAAAAAAAAAAAAAAAAAAAAAAAAAAAAAAAAAAAAAAAAAAAAAAAAAAAAAAAAAAAAAAAAAAAAAAAAAAAAAAAAAAAAAAAAAAAAAAAAAAAAAAAAAAAAAAAAAAAAAAAAAAAAAAAAAAAAAAAAAAAAAAAAAAAAAAAAAAAAAAAAAAAAAAAAAAAAAAAAAAAAAAAAAAAAAAAAAAAAAAAAAAAAAAAAAAAAAAAAAAAAAAAAAAAAAAAAAAAAAAAAAAAAAAAAAAAAAAAAAAAAAAAAAAAAAAAAAAAAAAAAAAAAAAAAAAAAAACwAAAAABQABAAAICAABBAAwQEBAADs=\"><title>Layer: output2 (output)\\n shape = (5,)\\n Keras class = Dense\\n activation = sigmoid</title></image><text x=\"738.3333333333334\" y=\"52.0\" font-family=\"monospace\" font-size=\"12\" text-anchor=\"start\" alignment-baseline=\"central\">output2</text><line x1=\"316.6666666666667\" y1=\"109\" x2=\"316.6666666666667\" y2=\"82\" stroke=\"black\" stroke-width=\"2\" marker-end=\"url(#arrow)\"><title>Weights from hidden4 to output1\\n output1/kernel has shape (10, 2)\\n output1/bias has shape (2,)</title></line><rect x=\"215.66666666666669\" y=\"109\" width=\"202\" height=\"27\" style=\"fill:none;stroke:black;stroke-width:2\"/><image id=\"Robot Prediction Network_hidden4_14\" class=\"Robot Prediction Network_hidden4\" x=\"216.66666666666669\" y=\"110\" height=\"25\" width=\"200\" preserveAspectRatio=\"none\" href=\"data:image/gif;base64,R0lGODdhCgABAIcAAP3l1+vr6/jz8LGxsdXV1euQcvvQuQAAAAAAAAAAAAAAAAAAAAAAAAAAAAAAAAAAAAAAAAAAAAAAAAAAAAAAAAAAAAAAAAAAAAAAAAAAAAAAAAAAAAAAAAAAAAAAAAAAAAAAAAAAAAAAAAAAAAAAAAAAAAAAAAAAAAAAAAAAAAAAAAAAAAAAAAAAAAAAAAAAAAAAAAAAAAAAAAAAAAAAAAAAAAAAAAAAAAAAAAAAAAAAAAAAAAAAAAAAAAAAAAAAAAAAAAAAAAAAAAAAAAAAAAAAAAAAAAAAAAAAAAAAAAAAAAAAAAAAAAAAAAAAAAAAAAAAAAAAAAAAAAAAAAAAAAAAAAAAAAAAAAAAAAAAAAAAAAAAAAAAAAAAAAAAAAAAAAAAAAAAAAAAAAAAAAAAAAAAAAAAAAAAAAAAAAAAAAAAAAAAAAAAAAAAAAAAAAAAAAAAAAAAAAAAAAAAAAAAAAAAAAAAAAAAAAAAAAAAAAAAAAAAAAAAAAAAAAAAAAAAAAAAAAAAAAAAAAAAAAAAAAAAAAAAAAAAAAAAAAAAAAAAAAAAAAAAAAAAAAAAAAAAAAAAAAAAAAAAAAAAAAAAAAAAAAAAAAAAAAAAAAAAAAAAAAAAAAAAAAAAAAAAAAAAAAAAAAAAAAAAAAAAAAAAAAAAAAAAAAAAAAAAAAAAAAAAAAAAAAAAAAAAAAAAAAAAAAAAAAAAAAAAAAAAAAAAAAAAAAAAAAAAAAAAAAAAAAAAAAAAAAAAAAAAAAAAAAAAAAAAAAAAAAAAAAAAAAAAAAAAAAAAAAAAAAAAAAAAAAAAAAAAAAAAAAAAAAAAAAAAAAAAAAAAAAAAAAAAAAAAAAAAAAAAAAAAAAAAAAAAAAAAAAAAAAAAAAAAAAAAAAAAAAAAAAAAAAAAAAAAAAAAAAAAAAAAAAAAAAAAAAAAAAAAAAAAAAAAAAAAAAAAAAAAAAAAAAAAAAAAAAAAAAAAAAAAAAAAAAAAAAAAAAAAAAAAAAAAAAAAAAAAAAAAAAAAACwAAAAACgABAAAIDgAFBAgwwEABAQAIAAgIADs=\"><title>Layer: hidden4 (hidden)\\n shape = (10,)\\n Keras class = Dense\\n activation = sigmoid</title></image><text x=\"421.6666666666667\" y=\"124.5\" font-family=\"monospace\" font-size=\"12\" text-anchor=\"start\" alignment-baseline=\"central\">hidden4</text><line x1=\"633.3333333333334\" y1=\"110\" x2=\"633.3333333333334\" y2=\"70\" stroke=\"red\" stroke-width=\"2\" marker-end=\"url(#arrow)\"><title>Weights from hidden3 to output2\\n output2/kernel has shape (10, 5)\\n output2/bias has shape (5,)</title></line><line x1=\"475.0\" y1=\"164\" x2=\"633.3333333333334\" y2=\"110\" stroke=\"red\" stroke-width=\"2\"><title>Weights from hidden3 to output2\\n output2/kernel has shape (10, 5)\\n output2/bias has shape (5,)</title></line><line x1=\"475.0\" y1=\"164\" x2=\"316.6666666666667\" y2=\"137\" stroke=\"red\" stroke-width=\"2\" marker-end=\"url(#arrow)\"><title>Weights from hidden3 to hidden4\\n hidden4/kernel has shape (10, 10)\\n hidden4/bias has shape (10,)</title></line><rect x=\"374.0\" y=\"164\" width=\"202\" height=\"27\" style=\"fill:none;stroke:black;stroke-width:2\"/><image id=\"Robot Prediction Network_hidden3_15\" class=\"Robot Prediction Network_hidden3\" x=\"375.0\" y=\"165\" height=\"25\" width=\"200\" preserveAspectRatio=\"none\" href=\"data:image/gif;base64,R0lGODdhCgABAIcAAO/q5/3i0bOzs9HR0fWsi/zYxPPz8wAAAAAAAAAAAAAAAAAAAAAAAAAAAAAAAAAAAAAAAAAAAAAAAAAAAAAAAAAAAAAAAAAAAAAAAAAAAAAAAAAAAAAAAAAAAAAAAAAAAAAAAAAAAAAAAAAAAAAAAAAAAAAAAAAAAAAAAAAAAAAAAAAAAAAAAAAAAAAAAAAAAAAAAAAAAAAAAAAAAAAAAAAAAAAAAAAAAAAAAAAAAAAAAAAAAAAAAAAAAAAAAAAAAAAAAAAAAAAAAAAAAAAAAAAAAAAAAAAAAAAAAAAAAAAAAAAAAAAAAAAAAAAAAAAAAAAAAAAAAAAAAAAAAAAAAAAAAAAAAAAAAAAAAAAAAAAAAAAAAAAAAAAAAAAAAAAAAAAAAAAAAAAAAAAAAAAAAAAAAAAAAAAAAAAAAAAAAAAAAAAAAAAAAAAAAAAAAAAAAAAAAAAAAAAAAAAAAAAAAAAAAAAAAAAAAAAAAAAAAAAAAAAAAAAAAAAAAAAAAAAAAAAAAAAAAAAAAAAAAAAAAAAAAAAAAAAAAAAAAAAAAAAAAAAAAAAAAAAAAAAAAAAAAAAAAAAAAAAAAAAAAAAAAAAAAAAAAAAAAAAAAAAAAAAAAAAAAAAAAAAAAAAAAAAAAAAAAAAAAAAAAAAAAAAAAAAAAAAAAAAAAAAAAAAAAAAAAAAAAAAAAAAAAAAAAAAAAAAAAAAAAAAAAAAAAAAAAAAAAAAAAAAAAAAAAAAAAAAAAAAAAAAAAAAAAAAAAAAAAAAAAAAAAAAAAAAAAAAAAAAAAAAAAAAAAAAAAAAAAAAAAAAAAAAAAAAAAAAAAAAAAAAAAAAAAAAAAAAAAAAAAAAAAAAAAAAAAAAAAAAAAAAAAAAAAAAAAAAAAAAAAAAAAAAAAAAAAAAAAAAAAAAAAAAAAAAAAAAAAAAAAAAAAAAAAAAAAAAAAAAAAAAAAAAAAAAAAAAAAAAAAAAAAAAAAAAAAAAAAAAAAAAAAAAAAAAAAAAAAAAAAAAAAAAAAAAAACwAAAAACgABAAAIDgABBCAAoIABAQEGAAgIADs=\"><title>Layer: hidden3 (hidden)\\n shape = (10,)\\n dropout = 0.25\\n Keras class = Dense\\n activation = sigmoid</title></image><text x=\"580.0\" y=\"179.5\" font-family=\"monospace\" font-size=\"12\" text-anchor=\"start\" alignment-baseline=\"central\">hidden3</text><line x1=\"475.0\" y1=\"219\" x2=\"475.0\" y2=\"192\" stroke=\"black\" stroke-width=\"2\" marker-end=\"url(#arrow)\"><title>Weights from hidden2 to hidden3\\n hidden3/kernel has shape (5, 10)\\n hidden3/bias has shape (10,)</title></line><rect x=\"374.0\" y=\"219\" width=\"202\" height=\"42\" style=\"fill:none;stroke:black;stroke-width:2\"/><image id=\"Robot Prediction Network_hidden2_16\" class=\"Robot Prediction Network_hidden2\" x=\"375.0\" y=\"220\" height=\"40\" width=\"200\" preserveAspectRatio=\"none\" href=\"data:image/gif;base64,R0lGODdhBQABAIcAAP7+/QAAAAAAAAAAAAAAAAAAAAAAAAAAAAAAAAAAAAAAAAAAAAAAAAAAAAAAAAAAAAAAAAAAAAAAAAAAAAAAAAAAAAAAAAAAAAAAAAAAAAAAAAAAAAAAAAAAAAAAAAAAAAAAAAAAAAAAAAAAAAAAAAAAAAAAAAAAAAAAAAAAAAAAAAAAAAAAAAAAAAAAAAAAAAAAAAAAAAAAAAAAAAAAAAAAAAAAAAAAAAAAAAAAAAAAAAAAAAAAAAAAAAAAAAAAAAAAAAAAAAAAAAAAAAAAAAAAAAAAAAAAAAAAAAAAAAAAAAAAAAAAAAAAAAAAAAAAAAAAAAAAAAAAAAAAAAAAAAAAAAAAAAAAAAAAAAAAAAAAAAAAAAAAAAAAAAAAAAAAAAAAAAAAAAAAAAAAAAAAAAAAAAAAAAAAAAAAAAAAAAAAAAAAAAAAAAAAAAAAAAAAAAAAAAAAAAAAAAAAAAAAAAAAAAAAAAAAAAAAAAAAAAAAAAAAAAAAAAAAAAAAAAAAAAAAAAAAAAAAAAAAAAAAAAAAAAAAAAAAAAAAAAAAAAAAAAAAAAAAAAAAAAAAAAAAAAAAAAAAAAAAAAAAAAAAAAAAAAAAAAAAAAAAAAAAAAAAAAAAAAAAAAAAAAAAAAAAAAAAAAAAAAAAAAAAAAAAAAAAAAAAAAAAAAAAAAAAAAAAAAAAAAAAAAAAAAAAAAAAAAAAAAAAAAAAAAAAAAAAAAAAAAAAAAAAAAAAAAAAAAAAAAAAAAAAAAAAAAAAAAAAAAAAAAAAAAAAAAAAAAAAAAAAAAAAAAAAAAAAAAAAAAAAAAAAAAAAAAAAAAAAAAAAAAAAAAAAAAAAAAAAAAAAAAAAAAAAAAAAAAAAAAAAAAAAAAAAAAAAAAAAAAAAAAAAAAAAAAAAAAAAAAAAAAAAAAAAAAAAAAAAAAAAAAAAAAAAAAAAAAAAAAAAAAAAAAAAAAAAAAAAAAAAAAAAAAAAAAAAAAAAAAAAAAAAAAAAAAAAAAAAAAAAAAAAAAAAAAAAACwAAAAABQABAAAIBgABCBQYEAA7\"><title>Layer: hidden2 (hidden)\\n shape = (5,)\\n Keras class = Dense\\n activation = sigmoid</title></image><text x=\"580.0\" y=\"242.0\" font-family=\"monospace\" font-size=\"12\" text-anchor=\"start\" alignment-baseline=\"central\">hidden2</text><line x1=\"237.5\" y1=\"290\" x2=\"475.0\" y2=\"260\" stroke=\"black\" stroke-width=\"2\" marker-end=\"url(#arrow)\"><title>Weights from hidden to hidden2\\n hidden2/kernel has shape (35330, 5)\\n hidden2/bias has shape (5,)</title></line><line x1=\"475.0\" y1=\"290\" x2=\"475.0\" y2=\"260\" stroke=\"black\" stroke-width=\"2\" marker-end=\"url(#arrow)\"><title>Weights from sonar to hidden2\\n hidden2/kernel has shape (35330, 5)\\n hidden2/bias has shape (5,)</title></line><line x1=\"712.5\" y1=\"289\" x2=\"475.0\" y2=\"262\" stroke=\"black\" stroke-width=\"2\" marker-end=\"url(#arrow)\"><title>Weights from flatten to hidden2\\n hidden2/kernel has shape (35330, 5)\\n hidden2/bias has shape (5,)</title></line><rect x=\"611.5\" y=\"289\" width=\"202\" height=\"27\" style=\"fill:none;stroke:black;stroke-width:2\"/><image id=\"Robot Prediction Network_flatten_17\" class=\"Robot Prediction Network_flatten\" x=\"612.5\" y=\"290\" height=\"25\" width=\"200\" preserveAspectRatio=\"none\" href=\"data:image/gif;base64,R0lGODdhwIkBAIcAAP7+/QAAAAAAAAAAAAAAAAAAAAAAAAAAAAAAAAAAAAAAAAAAAAAAAAAAAAAAAAAAAAAAAAAAAAAAAAAAAAAAAAAAAAAAAAAAAAAAAAAAAAAAAAAAAAAAAAAAAAAAAAAAAAAAAAAAAAAAAAAAAAAAAAAAAAAAAAAAAAAAAAAAAAAAAAAAAAAAAAAAAAAAAAAAAAAAAAAAAAAAAAAAAAAAAAAAAAAAAAAAAAAAAAAAAAAAAAAAAAAAAAAAAAAAAAAAAAAAAAAAAAAAAAAAAAAAAAAAAAAAAAAAAAAAAAAAAAAAAAAAAAAAAAAAAAAAAAAAAAAAAAAAAAAAAAAAAAAAAAAAAAAAAAAAAAAAAAAAAAAAAAAAAAAAAAAAAAAAAAAAAAAAAAAAAAAAAAAAAAAAAAAAAAAAAAAAAAAAAAAAAAAAAAAAAAAAAAAAAAAAAAAAAAAAAAAAAAAAAAAAAAAAAAAAAAAAAAAAAAAAAAAAAAAAAAAAAAAAAAAAAAAAAAAAAAAAAAAAAAAAAAAAAAAAAAAAAAAAAAAAAAAAAAAAAAAAAAAAAAAAAAAAAAAAAAAAAAAAAAAAAAAAAAAAAAAAAAAAAAAAAAAAAAAAAAAAAAAAAAAAAAAAAAAAAAAAAAAAAAAAAAAAAAAAAAAAAAAAAAAAAAAAAAAAAAAAAAAAAAAAAAAAAAAAAAAAAAAAAAAAAAAAAAAAAAAAAAAAAAAAAAAAAAAAAAAAAAAAAAAAAAAAAAAAAAAAAAAAAAAAAAAAAAAAAAAAAAAAAAAAAAAAAAAAAAAAAAAAAAAAAAAAAAAAAAAAAAAAAAAAAAAAAAAAAAAAAAAAAAAAAAAAAAAAAAAAAAAAAAAAAAAAAAAAAAAAAAAAAAAAAAAAAAAAAAAAAAAAAAAAAAAAAAAAAAAAAAAAAAAAAAAAAAAAAAAAAAAAAAAAAAAAAAAAAAAAAAAAAAAAAAAAAAAAAAAAAAAAAAAAAAAAAAAAAAAAAAAAAAAAAAAAAAAAAAAAAAAAAAAAACwAAAAAwIkBAAAI/wABCBxIsKDBgwgTKlzIsKHDhxAjSpxIsaLFixgzatzIsaPHjyBDihxJsqTJkyhTqlzJsqXLlzBjypxJs6bNmzhz6tzJs6fPn0CDCh1KtKjRo0iTKl3KtKnTp1CjSp1KtarVq1izat3KtavXr2DDih1LtqzZs2jTql3Ltq3bt3Djyp1Lt67du3jz6t3Lt6/fv4ADCx5MuLDhw4gTK17MuLHjx5AjS55MubLly5gza97MubPnz6BDix5NurTp06hTq17NurXr17Bjy55Nu7bt27hz697Nu7fv38CDCx9OvLjx48iTK1/OvLnz59CjS59Ovbr169iza9/Ovbv37+DDi3gfT768+fPo06tfz769+/fw48ufT7++/fv48+vfz7+/f4AABA4kWNDgQYQJFS5k2NDhQ4gRJU6kWNHiRYwZNW7k2NHjR5AhRY4kWdLkSZQpVa5k2dLlS5gxZc6kWdPmTZw5de7k2dPnT6BBhQ4lWtToUaRJlS7tGBAAOw==\"><title>Layer: flatten (hidden)\\n Keras class = Flatten</title></image><text x=\"817.5\" y=\"304.5\" font-family=\"monospace\" font-size=\"12\" text-anchor=\"start\" alignment-baseline=\"central\">flatten</text><line x1=\"237.5\" y1=\"344\" x2=\"237.5\" y2=\"290\" stroke=\"black\" stroke-width=\"2\"><title>Weights from hidden to hidden2\\n hidden2/kernel has shape (35330, 5)\\n hidden2/bias has shape (5,)</title></line><rect x=\"136.5\" y=\"344\" width=\"202\" height=\"27\" style=\"fill:none;stroke:black;stroke-width:2\"/><image id=\"Robot Prediction Network_hidden_18\" class=\"Robot Prediction Network_hidden\" x=\"137.5\" y=\"345\" height=\"25\" width=\"200\" preserveAspectRatio=\"none\" href=\"data:image/gif;base64,R0lGODdhMgABAIcAAP7+/QAAAAAAAAAAAAAAAAAAAAAAAAAAAAAAAAAAAAAAAAAAAAAAAAAAAAAAAAAAAAAAAAAAAAAAAAAAAAAAAAAAAAAAAAAAAAAAAAAAAAAAAAAAAAAAAAAAAAAAAAAAAAAAAAAAAAAAAAAAAAAAAAAAAAAAAAAAAAAAAAAAAAAAAAAAAAAAAAAAAAAAAAAAAAAAAAAAAAAAAAAAAAAAAAAAAAAAAAAAAAAAAAAAAAAAAAAAAAAAAAAAAAAAAAAAAAAAAAAAAAAAAAAAAAAAAAAAAAAAAAAAAAAAAAAAAAAAAAAAAAAAAAAAAAAAAAAAAAAAAAAAAAAAAAAAAAAAAAAAAAAAAAAAAAAAAAAAAAAAAAAAAAAAAAAAAAAAAAAAAAAAAAAAAAAAAAAAAAAAAAAAAAAAAAAAAAAAAAAAAAAAAAAAAAAAAAAAAAAAAAAAAAAAAAAAAAAAAAAAAAAAAAAAAAAAAAAAAAAAAAAAAAAAAAAAAAAAAAAAAAAAAAAAAAAAAAAAAAAAAAAAAAAAAAAAAAAAAAAAAAAAAAAAAAAAAAAAAAAAAAAAAAAAAAAAAAAAAAAAAAAAAAAAAAAAAAAAAAAAAAAAAAAAAAAAAAAAAAAAAAAAAAAAAAAAAAAAAAAAAAAAAAAAAAAAAAAAAAAAAAAAAAAAAAAAAAAAAAAAAAAAAAAAAAAAAAAAAAAAAAAAAAAAAAAAAAAAAAAAAAAAAAAAAAAAAAAAAAAAAAAAAAAAAAAAAAAAAAAAAAAAAAAAAAAAAAAAAAAAAAAAAAAAAAAAAAAAAAAAAAAAAAAAAAAAAAAAAAAAAAAAAAAAAAAAAAAAAAAAAAAAAAAAAAAAAAAAAAAAAAAAAAAAAAAAAAAAAAAAAAAAAAAAAAAAAAAAAAAAAAAAAAAAAAAAAAAAAAAAAAAAAAAAAAAAAAAAAAAAAAAAAAAAAAAAAAAAAAAAAAAAAAAAAAAAAAAAAAAAAAAAAAAAAAAAAAAAAAAAAAAAAAAAAAAAAAAAAAAAACwAAAAAMgABAAAIDgABCBxIsKDBgwgTFgwIADs=\"><title>Layer: hidden (hidden)\\n shape = (50,)\\n Keras class = Dense\\n activation = relu</title></image><text x=\"342.5\" y=\"359.5\" font-family=\"monospace\" font-size=\"12\" text-anchor=\"start\" alignment-baseline=\"central\">hidden</text><line x1=\"475.0\" y1=\"345\" x2=\"475.0\" y2=\"290\" stroke=\"black\" stroke-width=\"2\"><title>Weights from sonar to hidden2\\n hidden2/kernel has shape (35330, 5)\\n hidden2/bias has shape (5,)</title></line><line x1=\"712.5\" y1=\"344\" x2=\"712.5\" y2=\"317\" stroke=\"black\" stroke-width=\"2\" marker-end=\"url(#arrow)\"><title>Weights from conv to flatten</title></line><rect x=\"611.5\" y=\"344\" width=\"202\" height=\"133\" style=\"fill:none;stroke:black;stroke-width:2\"/><image id=\"Robot Prediction Network_conv_19\" class=\"Robot Prediction Network_conv\" x=\"612.5\" y=\"345\" height=\"131\" width=\"200\" preserveAspectRatio=\"none\" href=\"data:image/gif;base64,R0lGODdhOgAmAIcAAP7+/QAAAAAAAAAAAAAAAAAAAAAAAAAAAAAAAAAAAAAAAAAAAAAAAAAAAAAAAAAAAAAAAAAAAAAAAAAAAAAAAAAAAAAAAAAAAAAAAAAAAAAAAAAAAAAAAAAAAAAAAAAAAAAAAAAAAAAAAAAAAAAAAAAAAAAAAAAAAAAAAAAAAAAAAAAAAAAAAAAAAAAAAAAAAAAAAAAAAAAAAAAAAAAAAAAAAAAAAAAAAAAAAAAAAAAAAAAAAAAAAAAAAAAAAAAAAAAAAAAAAAAAAAAAAAAAAAAAAAAAAAAAAAAAAAAAAAAAAAAAAAAAAAAAAAAAAAAAAAAAAAAAAAAAAAAAAAAAAAAAAAAAAAAAAAAAAAAAAAAAAAAAAAAAAAAAAAAAAAAAAAAAAAAAAAAAAAAAAAAAAAAAAAAAAAAAAAAAAAAAAAAAAAAAAAAAAAAAAAAAAAAAAAAAAAAAAAAAAAAAAAAAAAAAAAAAAAAAAAAAAAAAAAAAAAAAAAAAAAAAAAAAAAAAAAAAAAAAAAAAAAAAAAAAAAAAAAAAAAAAAAAAAAAAAAAAAAAAAAAAAAAAAAAAAAAAAAAAAAAAAAAAAAAAAAAAAAAAAAAAAAAAAAAAAAAAAAAAAAAAAAAAAAAAAAAAAAAAAAAAAAAAAAAAAAAAAAAAAAAAAAAAAAAAAAAAAAAAAAAAAAAAAAAAAAAAAAAAAAAAAAAAAAAAAAAAAAAAAAAAAAAAAAAAAAAAAAAAAAAAAAAAAAAAAAAAAAAAAAAAAAAAAAAAAAAAAAAAAAAAAAAAAAAAAAAAAAAAAAAAAAAAAAAAAAAAAAAAAAAAAAAAAAAAAAAAAAAAAAAAAAAAAAAAAAAAAAAAAAAAAAAAAAAAAAAAAAAAAAAAAAAAAAAAAAAAAAAAAAAAAAAAAAAAAAAAAAAAAAAAAAAAAAAAAAAAAAAAAAAAAAAAAAAAAAAAAAAAAAAAAAAAAAAAAAAAAAAAAAAAAAAAAAAAAAAAAAAAAAAAAAAAAAAAAAAAAAAAAAAAACwAAAAAOgAmAEAITQABCBxIsKDBgwgTKlzIsKHDhxAjSpxIsaLFixgzatzIsaPHjyBDihxJsqTJkyhTqlzJsqXLlzBjypxJs6bNmzhz6tzJs6fPn0CD7gwIADs=\"><title>Layer: conv (hidden)\\n Keras class = Conv2D</title></image><text x=\"817.5\" y=\"412.5\" font-family=\"monospace\" font-size=\"12\" text-anchor=\"start\" alignment-baseline=\"central\">conv</text><text x=\"817.5\" y=\"350\" font-family=\"monospace\" font-size=\"12\" text-anchor=\"start\" alignment-baseline=\"central\">16</text><text x=\"593.5\" y=\"471\" font-family=\"monospace\" font-size=\"12\" text-anchor=\"start\" alignment-baseline=\"central\">15</text><line x1=\"237.5\" y1=\"505\" x2=\"237.5\" y2=\"372\" stroke=\"black\" stroke-width=\"2\" marker-end=\"url(#arrow)\"><title>Weights from light to hidden\\n hidden/kernel has shape (2, 50)\\n hidden/bias has shape (50,)</title></line><rect x=\"186.5\" y=\"505\" width=\"102\" height=\"52\" style=\"fill:none;stroke:black;stroke-width:2\"/><image id=\"Robot Prediction Network_light_20\" class=\"Robot Prediction Network_light\" x=\"187.5\" y=\"506\" height=\"50\" width=\"100\" preserveAspectRatio=\"none\" href=\"data:image/gif;base64,R0lGODdhAgABAIcAAP7+/QAAAAAAAAAAAAAAAAAAAAAAAAAAAAAAAAAAAAAAAAAAAAAAAAAAAAAAAAAAAAAAAAAAAAAAAAAAAAAAAAAAAAAAAAAAAAAAAAAAAAAAAAAAAAAAAAAAAAAAAAAAAAAAAAAAAAAAAAAAAAAAAAAAAAAAAAAAAAAAAAAAAAAAAAAAAAAAAAAAAAAAAAAAAAAAAAAAAAAAAAAAAAAAAAAAAAAAAAAAAAAAAAAAAAAAAAAAAAAAAAAAAAAAAAAAAAAAAAAAAAAAAAAAAAAAAAAAAAAAAAAAAAAAAAAAAAAAAAAAAAAAAAAAAAAAAAAAAAAAAAAAAAAAAAAAAAAAAAAAAAAAAAAAAAAAAAAAAAAAAAAAAAAAAAAAAAAAAAAAAAAAAAAAAAAAAAAAAAAAAAAAAAAAAAAAAAAAAAAAAAAAAAAAAAAAAAAAAAAAAAAAAAAAAAAAAAAAAAAAAAAAAAAAAAAAAAAAAAAAAAAAAAAAAAAAAAAAAAAAAAAAAAAAAAAAAAAAAAAAAAAAAAAAAAAAAAAAAAAAAAAAAAAAAAAAAAAAAAAAAAAAAAAAAAAAAAAAAAAAAAAAAAAAAAAAAAAAAAAAAAAAAAAAAAAAAAAAAAAAAAAAAAAAAAAAAAAAAAAAAAAAAAAAAAAAAAAAAAAAAAAAAAAAAAAAAAAAAAAAAAAAAAAAAAAAAAAAAAAAAAAAAAAAAAAAAAAAAAAAAAAAAAAAAAAAAAAAAAAAAAAAAAAAAAAAAAAAAAAAAAAAAAAAAAAAAAAAAAAAAAAAAAAAAAAAAAAAAAAAAAAAAAAAAAAAAAAAAAAAAAAAAAAAAAAAAAAAAAAAAAAAAAAAAAAAAAAAAAAAAAAAAAAAAAAAAAAAAAAAAAAAAAAAAAAAAAAAAAAAAAAAAAAAAAAAAAAAAAAAAAAAAAAAAAAAAAAAAAAAAAAAAAAAAAAAAAAAAAAAAAAAAAAAAAAAAAAAAAAAAAAAAAAAAAAAAAAAAAAAAAAAAAAAAAAAAAAAAAAAACwAAAAAAgABAAAIBQABAAgIADs=\"><title>Layer: light (input)\\n shape = (2,)\\n Keras class = Input</title></image><text x=\"292.5\" y=\"533.0\" font-family=\"monospace\" font-size=\"12\" text-anchor=\"start\" alignment-baseline=\"central\">light</text><line x1=\"475.0\" y1=\"505\" x2=\"475.0\" y2=\"345\" stroke=\"black\" stroke-width=\"2\"><title>Weights from sonar to hidden2\\n hidden2/kernel has shape (35330, 5)\\n hidden2/bias has shape (5,)</title></line><rect x=\"374.0\" y=\"505\" width=\"202\" height=\"27\" style=\"fill:none;stroke:black;stroke-width:2\"/><image id=\"Robot Prediction Network_sonar_21\" class=\"Robot Prediction Network_sonar\" x=\"375.0\" y=\"506\" height=\"25\" width=\"200\" preserveAspectRatio=\"none\" href=\"data:image/gif;base64,R0lGODdhEAABAIcAAP7+/QAAAAAAAAAAAAAAAAAAAAAAAAAAAAAAAAAAAAAAAAAAAAAAAAAAAAAAAAAAAAAAAAAAAAAAAAAAAAAAAAAAAAAAAAAAAAAAAAAAAAAAAAAAAAAAAAAAAAAAAAAAAAAAAAAAAAAAAAAAAAAAAAAAAAAAAAAAAAAAAAAAAAAAAAAAAAAAAAAAAAAAAAAAAAAAAAAAAAAAAAAAAAAAAAAAAAAAAAAAAAAAAAAAAAAAAAAAAAAAAAAAAAAAAAAAAAAAAAAAAAAAAAAAAAAAAAAAAAAAAAAAAAAAAAAAAAAAAAAAAAAAAAAAAAAAAAAAAAAAAAAAAAAAAAAAAAAAAAAAAAAAAAAAAAAAAAAAAAAAAAAAAAAAAAAAAAAAAAAAAAAAAAAAAAAAAAAAAAAAAAAAAAAAAAAAAAAAAAAAAAAAAAAAAAAAAAAAAAAAAAAAAAAAAAAAAAAAAAAAAAAAAAAAAAAAAAAAAAAAAAAAAAAAAAAAAAAAAAAAAAAAAAAAAAAAAAAAAAAAAAAAAAAAAAAAAAAAAAAAAAAAAAAAAAAAAAAAAAAAAAAAAAAAAAAAAAAAAAAAAAAAAAAAAAAAAAAAAAAAAAAAAAAAAAAAAAAAAAAAAAAAAAAAAAAAAAAAAAAAAAAAAAAAAAAAAAAAAAAAAAAAAAAAAAAAAAAAAAAAAAAAAAAAAAAAAAAAAAAAAAAAAAAAAAAAAAAAAAAAAAAAAAAAAAAAAAAAAAAAAAAAAAAAAAAAAAAAAAAAAAAAAAAAAAAAAAAAAAAAAAAAAAAAAAAAAAAAAAAAAAAAAAAAAAAAAAAAAAAAAAAAAAAAAAAAAAAAAAAAAAAAAAAAAAAAAAAAAAAAAAAAAAAAAAAAAAAAAAAAAAAAAAAAAAAAAAAAAAAAAAAAAAAAAAAAAAAAAAAAAAAAAAAAAAAAAAAAAAAAAAAAAAAAAAAAAAAAAAAAAAAAAAAAAAAAAAAAAAAAAAAAAAAAAAAAAAAAAAAAAAAAAAAAAAAAAAAAAAAAACwAAAAAEAABAAAICQABCBxIsCCAgAA7\"><title>Layer: sonar (input)\\n shape = (16,)\\n Keras class = Input</title></image><text x=\"580.0\" y=\"520.5\" font-family=\"monospace\" font-size=\"12\" text-anchor=\"start\" alignment-baseline=\"central\">sonar</text><line x1=\"712.5\" y1=\"505\" x2=\"712.5\" y2=\"478\" stroke=\"black\" stroke-width=\"2\" marker-end=\"url(#arrow)\"><title>Weights from camera to conv\\n conv/kernel has shape (3, 3, 3, 16)\\n conv/bias has shape (16,)</title></line><rect x=\"611.5\" y=\"505\" width=\"202\" height=\"135\" style=\"fill:none;stroke:black;stroke-width:2\"/><image id=\"Robot Prediction Network_camera_22\" class=\"Robot Prediction Network_camera\" x=\"612.5\" y=\"506\" height=\"133\" width=\"200\" preserveAspectRatio=\"none\" href=\"data:image/gif;base64,R0lGODdhPAAoAIcAAAAAAAAAAAAAAAAAAAAAAAAAAAAAAAAAAAAAAAAAAAAAAAAAAAAAAAAAAAAAAAAAAAAAAAAAAAAAAAAAAAAAAAAAAAAAAAAAAAAAAAAAAAAAAAAAAAAAAAAAAAAAAAAAAAAAAAAAAAAAAAAAAAAAAAAAAAAAAAAAAAAAAAAAAAAAAAAAAAAAAAAAAAAAAAAAAAAAAAAAAAAAAAAAAAAAAAAAAAAAAAAAAAAAAAAAAAAAAAAAAAAAAAAAAAAAAAAAAAAAAAAAAAAAAAAAAAAAAAAAAAAAAAAAAAAAAAAAAAAAAAAAAAAAAAAAAAAAAAAAAAAAAAAAAAAAAAAAAAAAAAAAAAAAAAAAAAAAAAAAAAAAAAAAAAAAAAAAAAAAAAAAAAAAAAAAAAAAAAAAAAAAAAAAAAAAAAAAAAAAAAAAAAAAAAAAAAAAAAAAAAAAAAAAAAAAAAAAAAAAAAAAAAAAAAAAAAAAAAAAAAAAAAAAAAAAAAAAAAAAAAAAAAAAAAAAAAAAAAAAAAAAAAAAAAAAAAAAAAAAAAAAAAAAAAAAAAAAAAAAAAAAAAAAAAAAAAAAAAAAAAAAAAAAAAAAAAAAAAAAAAAAAAAAAAAAAAAAAAAAAAAAAAAAAAAAAAAAAAAAAAAAAAAAAAAAAAAAAAAAAAAAAAAAAAAAAAAAAAAAAAAAAAAAAAAAAAAAAAAAAAAAAAAAAAAAAAAAAAAAAAAAAAAAAAAAAAAAAAAAAAAAAAAAAAAAAAAAAAAAAAAAAAAAAAAAAAAAAAAAAAAAAAAAAAAAAAAAAAAAAAAAAAAAAAAAAAAAAAAAAAAAAAAAAAAAAAAAAAAAAAAAAAAAAAAAAAAAAAAAAAAAAAAAAAAAAAAAAAAAAAAAAAAAAAAAAAAAAAAAAAAAAAAAAAAAAAAAAAAAAAAAAAAAAAAAAAAAAAAAAAAAAAAAAAAAAAAAAAAAAAAAAAAAAAAAAAAAAAAAAAAAAAAAAAAAAAAAAAAAAAAAAAAAAAAAAAAAAAAAAAAAACwAAAAAPAAoAEAIUAABCBxIsKDBgwgTKlzIsKHDhxAjSpxIsaLFixgzatzIsaPHjyBDihxJsqTJkyhTqlzJsqXLlzBjypxJs6bNmzhz6tzJs6fPn0CDCh1K1GZAADs=\"><title>Layer: camera (input)\\n shape = (40, 60, 3)\\n Keras class = Input</title></image><text x=\"817.5\" y=\"574.5\" font-family=\"monospace\" font-size=\"12\" text-anchor=\"start\" alignment-baseline=\"central\">camera</text></svg></p>', layout=Layout(height='550px', justify_content='center', overflow_x='auto', width='95%')), VBox(children=(HBox(children=(Select(description='Dataset:', index=1, options=('Test', 'Train'), rows=1, value='Train'), Button(icon='refresh', layout=Layout(width='40px'), style=ButtonStyle())), layout=Layout(height='40px')), HBox(children=(IntSlider(value=0, continuous_update=False, description='Dataset index', layout=Layout(width='95%'), max=0), Label(value='of 0', layout=Layout(width='100px'))), layout=Layout(height='40px')), HBox(children=(Button(icon='fast-backward', layout=Layout(width='100%'), style=ButtonStyle()), Button(icon='backward', layout=Layout(width='100%'), style=ButtonStyle()), IntText(value=0, layout=Layout(width='100%')), Button(icon='forward', layout=Layout(width='100%'), style=ButtonStyle()), Button(icon='fast-forward', layout=Layout(width='100%'), style=ButtonStyle())), layout=Layout(height='50px', width='100%'))), layout=Layout(width='95%'))), layout=Layout(width='95%')), VBox(children=(Accordion(children=(VBox(children=(HTML(value='<p><h3>Robot Prediction Network:</h3></p>'), FloatSlider(value=1.0, continuous_update=False, description='Zoom', max=3.0, min=0.5), IntText(value=150, description='Horizontal space between banks:', style=DescriptionStyle(description_width='initial')), IntText(value=30, description='Vertical space between layers:', style=DescriptionStyle(description_width='initial')), Checkbox(value=False, description='Show Targets'), Checkbox(value=False, description='Show Errors'))), VBox(children=(HTML(value='<p><hr/><h3>output2 bank:</h3></p>'), Checkbox(value=True, description='Visible'), Text(value='RdGy', description='Colormap:'))), VBox(children=(HTML(value='<p><hr/><h3>hidden4 bank:</h3></p>'), Checkbox(value=True, description='Visible'), Text(value='RdGy', description='Colormap:'))), VBox(children=(HTML(value='<p><hr/><h3>hidden3 bank:</h3></p>'), Checkbox(value=True, description='Visible'), Text(value='RdGy', description='Colormap:'))), VBox(children=(HTML(value='<p><hr/><h3>hidden2 bank:</h3></p>'), Checkbox(value=True, description='Visible'), Text(value='RdGy', description='Colormap:'))), VBox(children=(HTML(value='<p><hr/><h3>output1 bank:</h3></p>'), Checkbox(value=True, description='Visible'), Text(value='RdGy', description='Colormap:'))), VBox(children=(HTML(value='<p><hr/><h3>hidden bank:</h3></p>'), Checkbox(value=True, description='Visible'), Text(value='RdGy', description='Colormap:'))), VBox(children=(HTML(value='<p><hr/><h3>conv bank:</h3></p>'), Checkbox(value=True, description='Visible'), Text(value='RdGy', description='Colormap:'), IntText(value=15, description='Feature to show:', style=DescriptionStyle(description_width='initial')))), VBox(children=(HTML(value='<p><hr/><h3>flatten bank:</h3></p>'), Checkbox(value=True, description='Visible'), Text(value='RdGy', description='Colormap:'))), VBox(children=(HTML(value='<p><hr/><h3>camera bank:</h3></p>'), Checkbox(value=True, description='Visible'), Text(value='RdGy', description='Colormap:'))), VBox(children=(HTML(value='<p><hr/><h3>sonar bank:</h3></p>'), Checkbox(value=True, description='Visible'), Text(value='RdGy', description='Colormap:'))), VBox(children=(HTML(value='<p><hr/><h3>light bank:</h3></p>'), Checkbox(value=True, description='Visible'), Text(value='RdGy', description='Colormap:')))), _titles={'10': 'sonar bank', '11': 'light bank', '9': 'camera bank', '3': 'hidden3 bank', '1': 'output2 bank', '8': 'flatten bank', '4': 'hidden2 bank', '6': 'hidden bank', '0': 'Robot Prediction Network network', '2': 'hidden4 bank', '5': 'output1 bank', '7': 'conv bank'}),), layout=Layout(overflow_y='auto', width='95%')), HTML(value='<iframe src=\"https://conx.readthedocs.io\" width=\"100%\" height=\"550px\"></frame>', layout=Layout(height='550px', width='95%'))), _titles={'1': 'Configuration', '0': 'Network', '2': 'Help'})"
      ]
     },
     "metadata": {},
     "output_type": "display_data"
    }
   ],
   "source": [
    "net.dashboard()"
   ]
  },
  {
   "cell_type": "code",
   "execution_count": 60,
   "metadata": {},
   "outputs": [
    {
     "data": {
      "application/javascript": [
       "\n",
       "require(['base/js/namespace'], function(Jupyter) {\n",
       "    Jupyter.notebook.kernel.comm_manager.register_target('conx_svg_control', function(comm, msg) {\n",
       "        comm.on_msg(function(msg) {\n",
       "            var data = msg[\"content\"][\"data\"];\n",
       "            var images = document.getElementsByClassName(data[\"class\"]);\n",
       "            for (var i = 0; i < images.length; i++) {\n",
       "                images[i].setAttributeNS(null, \"href\", data[\"href\"]);\n",
       "            }\n",
       "        });\n",
       "    });\n",
       "});\n"
      ],
      "text/plain": [
       "<IPython.core.display.Javascript object>"
      ]
     },
     "metadata": {},
     "output_type": "display_data"
    },
    {
     "data": {
      "text/html": [
       "<svg id='Robot Prediction Network' xmlns='http://www.w3.org/2000/svg' viewBox=\"0 0 950 664\" height=\"780\" image-rendering=\"pixelated\">\n",
       "    <defs>\n",
       "        <marker id=\"arrow\" markerWidth=\"10\" markerHeight=\"10\" refX=\"9\" refY=\"3\" orient=\"auto\" markerUnits=\"strokeWidth\">\n",
       "          <path d=\"M0,0 L0,6 L9,3 z\" fill=\"black\" />\n",
       "        </marker>\n",
       "    </defs><text x=\"475.0\" y=\"12.5\" font-family=\"monospace\" font-size=\"15\" text-anchor=\"middle\" alignment-baseline=\"central\">Robot Prediction Network</text><rect x=\"265.6666666666667\" y=\"29\" width=\"102\" height=\"52\" style=\"fill:none;stroke:black;stroke-width:2\"/><image id=\"Robot Prediction Network_output1_23\" class=\"Robot Prediction Network_output1\" x=\"266.6666666666667\" y=\"30\" height=\"50\" width=\"100\" preserveAspectRatio=\"none\" href=\"data:image/gif;base64,R0lGODdhAgABAIcAAOF7Yfn5+QAAAAAAAAAAAAAAAAAAAAAAAAAAAAAAAAAAAAAAAAAAAAAAAAAAAAAAAAAAAAAAAAAAAAAAAAAAAAAAAAAAAAAAAAAAAAAAAAAAAAAAAAAAAAAAAAAAAAAAAAAAAAAAAAAAAAAAAAAAAAAAAAAAAAAAAAAAAAAAAAAAAAAAAAAAAAAAAAAAAAAAAAAAAAAAAAAAAAAAAAAAAAAAAAAAAAAAAAAAAAAAAAAAAAAAAAAAAAAAAAAAAAAAAAAAAAAAAAAAAAAAAAAAAAAAAAAAAAAAAAAAAAAAAAAAAAAAAAAAAAAAAAAAAAAAAAAAAAAAAAAAAAAAAAAAAAAAAAAAAAAAAAAAAAAAAAAAAAAAAAAAAAAAAAAAAAAAAAAAAAAAAAAAAAAAAAAAAAAAAAAAAAAAAAAAAAAAAAAAAAAAAAAAAAAAAAAAAAAAAAAAAAAAAAAAAAAAAAAAAAAAAAAAAAAAAAAAAAAAAAAAAAAAAAAAAAAAAAAAAAAAAAAAAAAAAAAAAAAAAAAAAAAAAAAAAAAAAAAAAAAAAAAAAAAAAAAAAAAAAAAAAAAAAAAAAAAAAAAAAAAAAAAAAAAAAAAAAAAAAAAAAAAAAAAAAAAAAAAAAAAAAAAAAAAAAAAAAAAAAAAAAAAAAAAAAAAAAAAAAAAAAAAAAAAAAAAAAAAAAAAAAAAAAAAAAAAAAAAAAAAAAAAAAAAAAAAAAAAAAAAAAAAAAAAAAAAAAAAAAAAAAAAAAAAAAAAAAAAAAAAAAAAAAAAAAAAAAAAAAAAAAAAAAAAAAAAAAAAAAAAAAAAAAAAAAAAAAAAAAAAAAAAAAAAAAAAAAAAAAAAAAAAAAAAAAAAAAAAAAAAAAAAAAAAAAAAAAAAAAAAAAAAAAAAAAAAAAAAAAAAAAAAAAAAAAAAAAAAAAAAAAAAAAAAAAAAAAAAAAAAAAAAAAAAAAAAAAAAAAAAAAAAAAAAAAAAAAAAAAAAAAAAAAAAAAAAAAAAAAAAAAAAAAAAAAAAAACwAAAAAAgABAAAIBQADAAgIADs=\"><title>Layer: output1 (output)\n",
       " shape = (2,)\n",
       " Keras class = Dense\n",
       " activation = sigmoid</title></image><text x=\"371.6666666666667\" y=\"57.0\" font-family=\"monospace\" font-size=\"12\" text-anchor=\"start\" alignment-baseline=\"central\">output1</text><rect x=\"532.3333333333334\" y=\"29\" width=\"202\" height=\"42\" style=\"fill:none;stroke:black;stroke-width:2\"/><image id=\"Robot Prediction Network_output2_24\" class=\"Robot Prediction Network_output2\" x=\"533.3333333333334\" y=\"30\" height=\"40\" width=\"200\" preserveAspectRatio=\"none\" href=\"data:image/gif;base64,R0lGODdhBQABAIcAAPz49vjBpvvUvubm5gAAAAAAAAAAAAAAAAAAAAAAAAAAAAAAAAAAAAAAAAAAAAAAAAAAAAAAAAAAAAAAAAAAAAAAAAAAAAAAAAAAAAAAAAAAAAAAAAAAAAAAAAAAAAAAAAAAAAAAAAAAAAAAAAAAAAAAAAAAAAAAAAAAAAAAAAAAAAAAAAAAAAAAAAAAAAAAAAAAAAAAAAAAAAAAAAAAAAAAAAAAAAAAAAAAAAAAAAAAAAAAAAAAAAAAAAAAAAAAAAAAAAAAAAAAAAAAAAAAAAAAAAAAAAAAAAAAAAAAAAAAAAAAAAAAAAAAAAAAAAAAAAAAAAAAAAAAAAAAAAAAAAAAAAAAAAAAAAAAAAAAAAAAAAAAAAAAAAAAAAAAAAAAAAAAAAAAAAAAAAAAAAAAAAAAAAAAAAAAAAAAAAAAAAAAAAAAAAAAAAAAAAAAAAAAAAAAAAAAAAAAAAAAAAAAAAAAAAAAAAAAAAAAAAAAAAAAAAAAAAAAAAAAAAAAAAAAAAAAAAAAAAAAAAAAAAAAAAAAAAAAAAAAAAAAAAAAAAAAAAAAAAAAAAAAAAAAAAAAAAAAAAAAAAAAAAAAAAAAAAAAAAAAAAAAAAAAAAAAAAAAAAAAAAAAAAAAAAAAAAAAAAAAAAAAAAAAAAAAAAAAAAAAAAAAAAAAAAAAAAAAAAAAAAAAAAAAAAAAAAAAAAAAAAAAAAAAAAAAAAAAAAAAAAAAAAAAAAAAAAAAAAAAAAAAAAAAAAAAAAAAAAAAAAAAAAAAAAAAAAAAAAAAAAAAAAAAAAAAAAAAAAAAAAAAAAAAAAAAAAAAAAAAAAAAAAAAAAAAAAAAAAAAAAAAAAAAAAAAAAAAAAAAAAAAAAAAAAAAAAAAAAAAAAAAAAAAAAAAAAAAAAAAAAAAAAAAAAAAAAAAAAAAAAAAAAAAAAAAAAAAAAAAAAAAAAAAAAAAAAAAAAAAAAAAAAAAAAAAAAAAAAAAAAAAAAAAAAAAAAAAAAAAAAAAAAAAAAAAAAAAAAAAACwAAAAABQABAAAICAABBAAwQEBAADs=\"><title>Layer: output2 (output)\n",
       " shape = (5,)\n",
       " Keras class = Dense\n",
       " activation = sigmoid</title></image><text x=\"738.3333333333334\" y=\"52.0\" font-family=\"monospace\" font-size=\"12\" text-anchor=\"start\" alignment-baseline=\"central\">output2</text><line x1=\"316.6666666666667\" y1=\"109\" x2=\"316.6666666666667\" y2=\"82\" stroke=\"black\" stroke-width=\"2\" marker-end=\"url(#arrow)\"><title>Weights from hidden4 to output1\n",
       " output1/kernel has shape (10, 2)\n",
       " output1/bias has shape (2,)</title></line><rect x=\"215.66666666666669\" y=\"109\" width=\"202\" height=\"27\" style=\"fill:none;stroke:black;stroke-width:2\"/><image id=\"Robot Prediction Network_hidden4_25\" class=\"Robot Prediction Network_hidden4\" x=\"216.66666666666669\" y=\"110\" height=\"25\" width=\"200\" preserveAspectRatio=\"none\" href=\"data:image/gif;base64,R0lGODdhCgABAIcAAP3l1+vr6/jz8LGxsdXV1euQcvvQuQAAAAAAAAAAAAAAAAAAAAAAAAAAAAAAAAAAAAAAAAAAAAAAAAAAAAAAAAAAAAAAAAAAAAAAAAAAAAAAAAAAAAAAAAAAAAAAAAAAAAAAAAAAAAAAAAAAAAAAAAAAAAAAAAAAAAAAAAAAAAAAAAAAAAAAAAAAAAAAAAAAAAAAAAAAAAAAAAAAAAAAAAAAAAAAAAAAAAAAAAAAAAAAAAAAAAAAAAAAAAAAAAAAAAAAAAAAAAAAAAAAAAAAAAAAAAAAAAAAAAAAAAAAAAAAAAAAAAAAAAAAAAAAAAAAAAAAAAAAAAAAAAAAAAAAAAAAAAAAAAAAAAAAAAAAAAAAAAAAAAAAAAAAAAAAAAAAAAAAAAAAAAAAAAAAAAAAAAAAAAAAAAAAAAAAAAAAAAAAAAAAAAAAAAAAAAAAAAAAAAAAAAAAAAAAAAAAAAAAAAAAAAAAAAAAAAAAAAAAAAAAAAAAAAAAAAAAAAAAAAAAAAAAAAAAAAAAAAAAAAAAAAAAAAAAAAAAAAAAAAAAAAAAAAAAAAAAAAAAAAAAAAAAAAAAAAAAAAAAAAAAAAAAAAAAAAAAAAAAAAAAAAAAAAAAAAAAAAAAAAAAAAAAAAAAAAAAAAAAAAAAAAAAAAAAAAAAAAAAAAAAAAAAAAAAAAAAAAAAAAAAAAAAAAAAAAAAAAAAAAAAAAAAAAAAAAAAAAAAAAAAAAAAAAAAAAAAAAAAAAAAAAAAAAAAAAAAAAAAAAAAAAAAAAAAAAAAAAAAAAAAAAAAAAAAAAAAAAAAAAAAAAAAAAAAAAAAAAAAAAAAAAAAAAAAAAAAAAAAAAAAAAAAAAAAAAAAAAAAAAAAAAAAAAAAAAAAAAAAAAAAAAAAAAAAAAAAAAAAAAAAAAAAAAAAAAAAAAAAAAAAAAAAAAAAAAAAAAAAAAAAAAAAAAAAAAAAAAAAAAAAAAAAAAAAAAAAAAAAAAAAAAAAAAAAAAAAAAAAAAAAAAAAAAAAAAAAACwAAAAACgABAAAIDgAFBAgwwEABAQAIAAgIADs=\"><title>Layer: hidden4 (hidden)\n",
       " shape = (10,)\n",
       " Keras class = Dense\n",
       " activation = sigmoid</title></image><text x=\"421.6666666666667\" y=\"124.5\" font-family=\"monospace\" font-size=\"12\" text-anchor=\"start\" alignment-baseline=\"central\">hidden4</text><line x1=\"633.3333333333334\" y1=\"110\" x2=\"633.3333333333334\" y2=\"70\" stroke=\"red\" stroke-width=\"2\" marker-end=\"url(#arrow)\"><title>Weights from hidden3 to output2\n",
       " output2/kernel has shape (10, 5)\n",
       " output2/bias has shape (5,)</title></line><line x1=\"475.0\" y1=\"164\" x2=\"633.3333333333334\" y2=\"110\" stroke=\"red\" stroke-width=\"2\"><title>Weights from hidden3 to output2\n",
       " output2/kernel has shape (10, 5)\n",
       " output2/bias has shape (5,)</title></line><line x1=\"475.0\" y1=\"164\" x2=\"316.6666666666667\" y2=\"137\" stroke=\"red\" stroke-width=\"2\" marker-end=\"url(#arrow)\"><title>Weights from hidden3 to hidden4\n",
       " hidden4/kernel has shape (10, 10)\n",
       " hidden4/bias has shape (10,)</title></line><rect x=\"374.0\" y=\"164\" width=\"202\" height=\"27\" style=\"fill:none;stroke:black;stroke-width:2\"/><image id=\"Robot Prediction Network_hidden3_26\" class=\"Robot Prediction Network_hidden3\" x=\"375.0\" y=\"165\" height=\"25\" width=\"200\" preserveAspectRatio=\"none\" href=\"data:image/gif;base64,R0lGODdhCgABAIcAAO/q5/3i0bOzs9HR0fWsi/zYxPPz8wAAAAAAAAAAAAAAAAAAAAAAAAAAAAAAAAAAAAAAAAAAAAAAAAAAAAAAAAAAAAAAAAAAAAAAAAAAAAAAAAAAAAAAAAAAAAAAAAAAAAAAAAAAAAAAAAAAAAAAAAAAAAAAAAAAAAAAAAAAAAAAAAAAAAAAAAAAAAAAAAAAAAAAAAAAAAAAAAAAAAAAAAAAAAAAAAAAAAAAAAAAAAAAAAAAAAAAAAAAAAAAAAAAAAAAAAAAAAAAAAAAAAAAAAAAAAAAAAAAAAAAAAAAAAAAAAAAAAAAAAAAAAAAAAAAAAAAAAAAAAAAAAAAAAAAAAAAAAAAAAAAAAAAAAAAAAAAAAAAAAAAAAAAAAAAAAAAAAAAAAAAAAAAAAAAAAAAAAAAAAAAAAAAAAAAAAAAAAAAAAAAAAAAAAAAAAAAAAAAAAAAAAAAAAAAAAAAAAAAAAAAAAAAAAAAAAAAAAAAAAAAAAAAAAAAAAAAAAAAAAAAAAAAAAAAAAAAAAAAAAAAAAAAAAAAAAAAAAAAAAAAAAAAAAAAAAAAAAAAAAAAAAAAAAAAAAAAAAAAAAAAAAAAAAAAAAAAAAAAAAAAAAAAAAAAAAAAAAAAAAAAAAAAAAAAAAAAAAAAAAAAAAAAAAAAAAAAAAAAAAAAAAAAAAAAAAAAAAAAAAAAAAAAAAAAAAAAAAAAAAAAAAAAAAAAAAAAAAAAAAAAAAAAAAAAAAAAAAAAAAAAAAAAAAAAAAAAAAAAAAAAAAAAAAAAAAAAAAAAAAAAAAAAAAAAAAAAAAAAAAAAAAAAAAAAAAAAAAAAAAAAAAAAAAAAAAAAAAAAAAAAAAAAAAAAAAAAAAAAAAAAAAAAAAAAAAAAAAAAAAAAAAAAAAAAAAAAAAAAAAAAAAAAAAAAAAAAAAAAAAAAAAAAAAAAAAAAAAAAAAAAAAAAAAAAAAAAAAAAAAAAAAAAAAAAAAAAAAAAAAAAAAAAAAAAAAAAAAAAAAAAAAAAAAAAAAAAACwAAAAACgABAAAIDgABBCAAoIABAQEGAAgIADs=\"><title>Layer: hidden3 (hidden)\n",
       " shape = (10,)\n",
       " dropout = 0.25\n",
       " Keras class = Dense\n",
       " activation = sigmoid</title></image><text x=\"580.0\" y=\"179.5\" font-family=\"monospace\" font-size=\"12\" text-anchor=\"start\" alignment-baseline=\"central\">hidden3</text><line x1=\"475.0\" y1=\"219\" x2=\"475.0\" y2=\"192\" stroke=\"black\" stroke-width=\"2\" marker-end=\"url(#arrow)\"><title>Weights from hidden2 to hidden3\n",
       " hidden3/kernel has shape (5, 10)\n",
       " hidden3/bias has shape (10,)</title></line><rect x=\"374.0\" y=\"219\" width=\"202\" height=\"42\" style=\"fill:none;stroke:black;stroke-width:2\"/><image id=\"Robot Prediction Network_hidden2_27\" class=\"Robot Prediction Network_hidden2\" x=\"375.0\" y=\"220\" height=\"40\" width=\"200\" preserveAspectRatio=\"none\" href=\"data:image/gif;base64,R0lGODdhBQABAIcAAP7+/QAAAAAAAAAAAAAAAAAAAAAAAAAAAAAAAAAAAAAAAAAAAAAAAAAAAAAAAAAAAAAAAAAAAAAAAAAAAAAAAAAAAAAAAAAAAAAAAAAAAAAAAAAAAAAAAAAAAAAAAAAAAAAAAAAAAAAAAAAAAAAAAAAAAAAAAAAAAAAAAAAAAAAAAAAAAAAAAAAAAAAAAAAAAAAAAAAAAAAAAAAAAAAAAAAAAAAAAAAAAAAAAAAAAAAAAAAAAAAAAAAAAAAAAAAAAAAAAAAAAAAAAAAAAAAAAAAAAAAAAAAAAAAAAAAAAAAAAAAAAAAAAAAAAAAAAAAAAAAAAAAAAAAAAAAAAAAAAAAAAAAAAAAAAAAAAAAAAAAAAAAAAAAAAAAAAAAAAAAAAAAAAAAAAAAAAAAAAAAAAAAAAAAAAAAAAAAAAAAAAAAAAAAAAAAAAAAAAAAAAAAAAAAAAAAAAAAAAAAAAAAAAAAAAAAAAAAAAAAAAAAAAAAAAAAAAAAAAAAAAAAAAAAAAAAAAAAAAAAAAAAAAAAAAAAAAAAAAAAAAAAAAAAAAAAAAAAAAAAAAAAAAAAAAAAAAAAAAAAAAAAAAAAAAAAAAAAAAAAAAAAAAAAAAAAAAAAAAAAAAAAAAAAAAAAAAAAAAAAAAAAAAAAAAAAAAAAAAAAAAAAAAAAAAAAAAAAAAAAAAAAAAAAAAAAAAAAAAAAAAAAAAAAAAAAAAAAAAAAAAAAAAAAAAAAAAAAAAAAAAAAAAAAAAAAAAAAAAAAAAAAAAAAAAAAAAAAAAAAAAAAAAAAAAAAAAAAAAAAAAAAAAAAAAAAAAAAAAAAAAAAAAAAAAAAAAAAAAAAAAAAAAAAAAAAAAAAAAAAAAAAAAAAAAAAAAAAAAAAAAAAAAAAAAAAAAAAAAAAAAAAAAAAAAAAAAAAAAAAAAAAAAAAAAAAAAAAAAAAAAAAAAAAAAAAAAAAAAAAAAAAAAAAAAAAAAAAAAAAAAAAAAAAAAAAAAAAAAAAAAAAAAAAAAAAAAAAAAAAAACwAAAAABQABAAAIBgABCBQYEAA7\"><title>Layer: hidden2 (hidden)\n",
       " shape = (5,)\n",
       " Keras class = Dense\n",
       " activation = sigmoid</title></image><text x=\"580.0\" y=\"242.0\" font-family=\"monospace\" font-size=\"12\" text-anchor=\"start\" alignment-baseline=\"central\">hidden2</text><line x1=\"237.5\" y1=\"290\" x2=\"475.0\" y2=\"260\" stroke=\"black\" stroke-width=\"2\" marker-end=\"url(#arrow)\"><title>Weights from hidden to hidden2\n",
       " hidden2/kernel has shape (35330, 5)\n",
       " hidden2/bias has shape (5,)</title></line><line x1=\"475.0\" y1=\"290\" x2=\"475.0\" y2=\"260\" stroke=\"black\" stroke-width=\"2\" marker-end=\"url(#arrow)\"><title>Weights from sonar to hidden2\n",
       " hidden2/kernel has shape (35330, 5)\n",
       " hidden2/bias has shape (5,)</title></line><line x1=\"712.5\" y1=\"289\" x2=\"475.0\" y2=\"262\" stroke=\"black\" stroke-width=\"2\" marker-end=\"url(#arrow)\"><title>Weights from flatten to hidden2\n",
       " hidden2/kernel has shape (35330, 5)\n",
       " hidden2/bias has shape (5,)</title></line><rect x=\"611.5\" y=\"289\" width=\"202\" height=\"27\" style=\"fill:none;stroke:black;stroke-width:2\"/><image id=\"Robot Prediction Network_flatten_28\" class=\"Robot Prediction Network_flatten\" x=\"612.5\" y=\"290\" height=\"25\" width=\"200\" preserveAspectRatio=\"none\" href=\"data:image/gif;base64,R0lGODdhwIkBAIcAAP7+/QAAAAAAAAAAAAAAAAAAAAAAAAAAAAAAAAAAAAAAAAAAAAAAAAAAAAAAAAAAAAAAAAAAAAAAAAAAAAAAAAAAAAAAAAAAAAAAAAAAAAAAAAAAAAAAAAAAAAAAAAAAAAAAAAAAAAAAAAAAAAAAAAAAAAAAAAAAAAAAAAAAAAAAAAAAAAAAAAAAAAAAAAAAAAAAAAAAAAAAAAAAAAAAAAAAAAAAAAAAAAAAAAAAAAAAAAAAAAAAAAAAAAAAAAAAAAAAAAAAAAAAAAAAAAAAAAAAAAAAAAAAAAAAAAAAAAAAAAAAAAAAAAAAAAAAAAAAAAAAAAAAAAAAAAAAAAAAAAAAAAAAAAAAAAAAAAAAAAAAAAAAAAAAAAAAAAAAAAAAAAAAAAAAAAAAAAAAAAAAAAAAAAAAAAAAAAAAAAAAAAAAAAAAAAAAAAAAAAAAAAAAAAAAAAAAAAAAAAAAAAAAAAAAAAAAAAAAAAAAAAAAAAAAAAAAAAAAAAAAAAAAAAAAAAAAAAAAAAAAAAAAAAAAAAAAAAAAAAAAAAAAAAAAAAAAAAAAAAAAAAAAAAAAAAAAAAAAAAAAAAAAAAAAAAAAAAAAAAAAAAAAAAAAAAAAAAAAAAAAAAAAAAAAAAAAAAAAAAAAAAAAAAAAAAAAAAAAAAAAAAAAAAAAAAAAAAAAAAAAAAAAAAAAAAAAAAAAAAAAAAAAAAAAAAAAAAAAAAAAAAAAAAAAAAAAAAAAAAAAAAAAAAAAAAAAAAAAAAAAAAAAAAAAAAAAAAAAAAAAAAAAAAAAAAAAAAAAAAAAAAAAAAAAAAAAAAAAAAAAAAAAAAAAAAAAAAAAAAAAAAAAAAAAAAAAAAAAAAAAAAAAAAAAAAAAAAAAAAAAAAAAAAAAAAAAAAAAAAAAAAAAAAAAAAAAAAAAAAAAAAAAAAAAAAAAAAAAAAAAAAAAAAAAAAAAAAAAAAAAAAAAAAAAAAAAAAAAAAAAAAAAAAAAAAAAAAAAAAAAAAAAAAAAAAAAAAAAAAAAACwAAAAAwIkBAAAI/wABCBxIsKDBgwgTKlzIsKHDhxAjSpxIsaLFixgzatzIsaPHjyBDihxJsqTJkyhTqlzJsqXLlzBjypxJs6bNmzhz6tzJs6fPn0CDCh1KtKjRo0iTKl3KtKnTp1CjSp1KtarVq1izat3KtavXr2DDih1LtqzZs2jTql3Ltq3bt3Djyp1Lt67du3jz6t3Lt6/fv4ADCx5MuLDhw4gTK17MuLHjx5AjS55MubLly5gza97MubPnz6BDix5NurTp06hTq17NurXr17Bjy55Nu7bt27hz697Nu7fv38CDCx9OvLjx48iTK1/OvLnz59CjS59Ovbr169iza9/Ovbv37+DDi3gfT768+fPo06tfz769+/fw48ufT7++/fv48+vfz7+/f4AABA4kWNDgQYQJFS5k2NDhQ4gRJU6kWNHiRYwZNW7k2NHjR5AhRY4kWdLkSZQpVa5k2dLlS5gxZc6kWdPmTZw5de7k2dPnT6BBhQ4lWtToUaRJlS7tGBAAOw==\"><title>Layer: flatten (hidden)\n",
       " Keras class = Flatten</title></image><text x=\"817.5\" y=\"304.5\" font-family=\"monospace\" font-size=\"12\" text-anchor=\"start\" alignment-baseline=\"central\">flatten</text><line x1=\"237.5\" y1=\"344\" x2=\"237.5\" y2=\"290\" stroke=\"black\" stroke-width=\"2\"><title>Weights from hidden to hidden2\n",
       " hidden2/kernel has shape (35330, 5)\n",
       " hidden2/bias has shape (5,)</title></line><rect x=\"136.5\" y=\"344\" width=\"202\" height=\"27\" style=\"fill:none;stroke:black;stroke-width:2\"/><image id=\"Robot Prediction Network_hidden_29\" class=\"Robot Prediction Network_hidden\" x=\"137.5\" y=\"345\" height=\"25\" width=\"200\" preserveAspectRatio=\"none\" href=\"data:image/gif;base64,R0lGODdhMgABAIcAAP7+/QAAAAAAAAAAAAAAAAAAAAAAAAAAAAAAAAAAAAAAAAAAAAAAAAAAAAAAAAAAAAAAAAAAAAAAAAAAAAAAAAAAAAAAAAAAAAAAAAAAAAAAAAAAAAAAAAAAAAAAAAAAAAAAAAAAAAAAAAAAAAAAAAAAAAAAAAAAAAAAAAAAAAAAAAAAAAAAAAAAAAAAAAAAAAAAAAAAAAAAAAAAAAAAAAAAAAAAAAAAAAAAAAAAAAAAAAAAAAAAAAAAAAAAAAAAAAAAAAAAAAAAAAAAAAAAAAAAAAAAAAAAAAAAAAAAAAAAAAAAAAAAAAAAAAAAAAAAAAAAAAAAAAAAAAAAAAAAAAAAAAAAAAAAAAAAAAAAAAAAAAAAAAAAAAAAAAAAAAAAAAAAAAAAAAAAAAAAAAAAAAAAAAAAAAAAAAAAAAAAAAAAAAAAAAAAAAAAAAAAAAAAAAAAAAAAAAAAAAAAAAAAAAAAAAAAAAAAAAAAAAAAAAAAAAAAAAAAAAAAAAAAAAAAAAAAAAAAAAAAAAAAAAAAAAAAAAAAAAAAAAAAAAAAAAAAAAAAAAAAAAAAAAAAAAAAAAAAAAAAAAAAAAAAAAAAAAAAAAAAAAAAAAAAAAAAAAAAAAAAAAAAAAAAAAAAAAAAAAAAAAAAAAAAAAAAAAAAAAAAAAAAAAAAAAAAAAAAAAAAAAAAAAAAAAAAAAAAAAAAAAAAAAAAAAAAAAAAAAAAAAAAAAAAAAAAAAAAAAAAAAAAAAAAAAAAAAAAAAAAAAAAAAAAAAAAAAAAAAAAAAAAAAAAAAAAAAAAAAAAAAAAAAAAAAAAAAAAAAAAAAAAAAAAAAAAAAAAAAAAAAAAAAAAAAAAAAAAAAAAAAAAAAAAAAAAAAAAAAAAAAAAAAAAAAAAAAAAAAAAAAAAAAAAAAAAAAAAAAAAAAAAAAAAAAAAAAAAAAAAAAAAAAAAAAAAAAAAAAAAAAAAAAAAAAAAAAAAAAAAAAAAAAAAAAAAAAAAAAAAAAAAAAAAAAAAAAAAAAAAACwAAAAAMgABAAAIDgABCBxIsKDBgwgTFgwIADs=\"><title>Layer: hidden (hidden)\n",
       " shape = (50,)\n",
       " Keras class = Dense\n",
       " activation = relu</title></image><text x=\"342.5\" y=\"359.5\" font-family=\"monospace\" font-size=\"12\" text-anchor=\"start\" alignment-baseline=\"central\">hidden</text><line x1=\"475.0\" y1=\"345\" x2=\"475.0\" y2=\"290\" stroke=\"black\" stroke-width=\"2\"><title>Weights from sonar to hidden2\n",
       " hidden2/kernel has shape (35330, 5)\n",
       " hidden2/bias has shape (5,)</title></line><line x1=\"712.5\" y1=\"344\" x2=\"712.5\" y2=\"317\" stroke=\"black\" stroke-width=\"2\" marker-end=\"url(#arrow)\"><title>Weights from conv to flatten</title></line><rect x=\"611.5\" y=\"344\" width=\"202\" height=\"133\" style=\"fill:none;stroke:black;stroke-width:2\"/><image id=\"Robot Prediction Network_conv_30\" class=\"Robot Prediction Network_conv\" x=\"612.5\" y=\"345\" height=\"131\" width=\"200\" preserveAspectRatio=\"none\" href=\"data:image/gif;base64,R0lGODdhOgAmAIcAAP7+/QAAAAAAAAAAAAAAAAAAAAAAAAAAAAAAAAAAAAAAAAAAAAAAAAAAAAAAAAAAAAAAAAAAAAAAAAAAAAAAAAAAAAAAAAAAAAAAAAAAAAAAAAAAAAAAAAAAAAAAAAAAAAAAAAAAAAAAAAAAAAAAAAAAAAAAAAAAAAAAAAAAAAAAAAAAAAAAAAAAAAAAAAAAAAAAAAAAAAAAAAAAAAAAAAAAAAAAAAAAAAAAAAAAAAAAAAAAAAAAAAAAAAAAAAAAAAAAAAAAAAAAAAAAAAAAAAAAAAAAAAAAAAAAAAAAAAAAAAAAAAAAAAAAAAAAAAAAAAAAAAAAAAAAAAAAAAAAAAAAAAAAAAAAAAAAAAAAAAAAAAAAAAAAAAAAAAAAAAAAAAAAAAAAAAAAAAAAAAAAAAAAAAAAAAAAAAAAAAAAAAAAAAAAAAAAAAAAAAAAAAAAAAAAAAAAAAAAAAAAAAAAAAAAAAAAAAAAAAAAAAAAAAAAAAAAAAAAAAAAAAAAAAAAAAAAAAAAAAAAAAAAAAAAAAAAAAAAAAAAAAAAAAAAAAAAAAAAAAAAAAAAAAAAAAAAAAAAAAAAAAAAAAAAAAAAAAAAAAAAAAAAAAAAAAAAAAAAAAAAAAAAAAAAAAAAAAAAAAAAAAAAAAAAAAAAAAAAAAAAAAAAAAAAAAAAAAAAAAAAAAAAAAAAAAAAAAAAAAAAAAAAAAAAAAAAAAAAAAAAAAAAAAAAAAAAAAAAAAAAAAAAAAAAAAAAAAAAAAAAAAAAAAAAAAAAAAAAAAAAAAAAAAAAAAAAAAAAAAAAAAAAAAAAAAAAAAAAAAAAAAAAAAAAAAAAAAAAAAAAAAAAAAAAAAAAAAAAAAAAAAAAAAAAAAAAAAAAAAAAAAAAAAAAAAAAAAAAAAAAAAAAAAAAAAAAAAAAAAAAAAAAAAAAAAAAAAAAAAAAAAAAAAAAAAAAAAAAAAAAAAAAAAAAAAAAAAAAAAAAAAAAAAAAAAAAAAAAAAAAAAAAAAAAAAAAAAAAAAAAACwAAAAAOgAmAEAITQABCBxIsKDBgwgTKlzIsKHDhxAjSpxIsaLFixgzatzIsaPHjyBDihxJsqTJkyhTqlzJsqXLlzBjypxJs6bNmzhz6tzJs6fPn0CD7gwIADs=\"><title>Layer: conv (hidden)\n",
       " Keras class = Conv2D</title></image><text x=\"817.5\" y=\"412.5\" font-family=\"monospace\" font-size=\"12\" text-anchor=\"start\" alignment-baseline=\"central\">conv</text><text x=\"817.5\" y=\"350\" font-family=\"monospace\" font-size=\"12\" text-anchor=\"start\" alignment-baseline=\"central\">16</text><text x=\"593.5\" y=\"471\" font-family=\"monospace\" font-size=\"12\" text-anchor=\"start\" alignment-baseline=\"central\">15</text><line x1=\"237.5\" y1=\"505\" x2=\"237.5\" y2=\"372\" stroke=\"black\" stroke-width=\"2\" marker-end=\"url(#arrow)\"><title>Weights from light to hidden\n",
       " hidden/kernel has shape (2, 50)\n",
       " hidden/bias has shape (50,)</title></line><rect x=\"186.5\" y=\"505\" width=\"102\" height=\"52\" style=\"fill:none;stroke:black;stroke-width:2\"/><image id=\"Robot Prediction Network_light_31\" class=\"Robot Prediction Network_light\" x=\"187.5\" y=\"506\" height=\"50\" width=\"100\" preserveAspectRatio=\"none\" href=\"data:image/gif;base64,R0lGODdhAgABAIcAAP7+/QAAAAAAAAAAAAAAAAAAAAAAAAAAAAAAAAAAAAAAAAAAAAAAAAAAAAAAAAAAAAAAAAAAAAAAAAAAAAAAAAAAAAAAAAAAAAAAAAAAAAAAAAAAAAAAAAAAAAAAAAAAAAAAAAAAAAAAAAAAAAAAAAAAAAAAAAAAAAAAAAAAAAAAAAAAAAAAAAAAAAAAAAAAAAAAAAAAAAAAAAAAAAAAAAAAAAAAAAAAAAAAAAAAAAAAAAAAAAAAAAAAAAAAAAAAAAAAAAAAAAAAAAAAAAAAAAAAAAAAAAAAAAAAAAAAAAAAAAAAAAAAAAAAAAAAAAAAAAAAAAAAAAAAAAAAAAAAAAAAAAAAAAAAAAAAAAAAAAAAAAAAAAAAAAAAAAAAAAAAAAAAAAAAAAAAAAAAAAAAAAAAAAAAAAAAAAAAAAAAAAAAAAAAAAAAAAAAAAAAAAAAAAAAAAAAAAAAAAAAAAAAAAAAAAAAAAAAAAAAAAAAAAAAAAAAAAAAAAAAAAAAAAAAAAAAAAAAAAAAAAAAAAAAAAAAAAAAAAAAAAAAAAAAAAAAAAAAAAAAAAAAAAAAAAAAAAAAAAAAAAAAAAAAAAAAAAAAAAAAAAAAAAAAAAAAAAAAAAAAAAAAAAAAAAAAAAAAAAAAAAAAAAAAAAAAAAAAAAAAAAAAAAAAAAAAAAAAAAAAAAAAAAAAAAAAAAAAAAAAAAAAAAAAAAAAAAAAAAAAAAAAAAAAAAAAAAAAAAAAAAAAAAAAAAAAAAAAAAAAAAAAAAAAAAAAAAAAAAAAAAAAAAAAAAAAAAAAAAAAAAAAAAAAAAAAAAAAAAAAAAAAAAAAAAAAAAAAAAAAAAAAAAAAAAAAAAAAAAAAAAAAAAAAAAAAAAAAAAAAAAAAAAAAAAAAAAAAAAAAAAAAAAAAAAAAAAAAAAAAAAAAAAAAAAAAAAAAAAAAAAAAAAAAAAAAAAAAAAAAAAAAAAAAAAAAAAAAAAAAAAAAAAAAAAAAAAAAAAAAAAAAAAAAAAAAAAAAAAAAACwAAAAAAgABAAAIBQABAAgIADs=\"><title>Layer: light (input)\n",
       " shape = (2,)\n",
       " Keras class = Input</title></image><text x=\"292.5\" y=\"533.0\" font-family=\"monospace\" font-size=\"12\" text-anchor=\"start\" alignment-baseline=\"central\">light</text><line x1=\"475.0\" y1=\"505\" x2=\"475.0\" y2=\"345\" stroke=\"black\" stroke-width=\"2\"><title>Weights from sonar to hidden2\n",
       " hidden2/kernel has shape (35330, 5)\n",
       " hidden2/bias has shape (5,)</title></line><rect x=\"374.0\" y=\"505\" width=\"202\" height=\"27\" style=\"fill:none;stroke:black;stroke-width:2\"/><image id=\"Robot Prediction Network_sonar_32\" class=\"Robot Prediction Network_sonar\" x=\"375.0\" y=\"506\" height=\"25\" width=\"200\" preserveAspectRatio=\"none\" href=\"data:image/gif;base64,R0lGODdhEAABAIcAAP7+/QAAAAAAAAAAAAAAAAAAAAAAAAAAAAAAAAAAAAAAAAAAAAAAAAAAAAAAAAAAAAAAAAAAAAAAAAAAAAAAAAAAAAAAAAAAAAAAAAAAAAAAAAAAAAAAAAAAAAAAAAAAAAAAAAAAAAAAAAAAAAAAAAAAAAAAAAAAAAAAAAAAAAAAAAAAAAAAAAAAAAAAAAAAAAAAAAAAAAAAAAAAAAAAAAAAAAAAAAAAAAAAAAAAAAAAAAAAAAAAAAAAAAAAAAAAAAAAAAAAAAAAAAAAAAAAAAAAAAAAAAAAAAAAAAAAAAAAAAAAAAAAAAAAAAAAAAAAAAAAAAAAAAAAAAAAAAAAAAAAAAAAAAAAAAAAAAAAAAAAAAAAAAAAAAAAAAAAAAAAAAAAAAAAAAAAAAAAAAAAAAAAAAAAAAAAAAAAAAAAAAAAAAAAAAAAAAAAAAAAAAAAAAAAAAAAAAAAAAAAAAAAAAAAAAAAAAAAAAAAAAAAAAAAAAAAAAAAAAAAAAAAAAAAAAAAAAAAAAAAAAAAAAAAAAAAAAAAAAAAAAAAAAAAAAAAAAAAAAAAAAAAAAAAAAAAAAAAAAAAAAAAAAAAAAAAAAAAAAAAAAAAAAAAAAAAAAAAAAAAAAAAAAAAAAAAAAAAAAAAAAAAAAAAAAAAAAAAAAAAAAAAAAAAAAAAAAAAAAAAAAAAAAAAAAAAAAAAAAAAAAAAAAAAAAAAAAAAAAAAAAAAAAAAAAAAAAAAAAAAAAAAAAAAAAAAAAAAAAAAAAAAAAAAAAAAAAAAAAAAAAAAAAAAAAAAAAAAAAAAAAAAAAAAAAAAAAAAAAAAAAAAAAAAAAAAAAAAAAAAAAAAAAAAAAAAAAAAAAAAAAAAAAAAAAAAAAAAAAAAAAAAAAAAAAAAAAAAAAAAAAAAAAAAAAAAAAAAAAAAAAAAAAAAAAAAAAAAAAAAAAAAAAAAAAAAAAAAAAAAAAAAAAAAAAAAAAAAAAAAAAAAAAAAAAAAAAAAAAAAAAAAAAAAAAAAAAAAAAAAACwAAAAAEAABAAAICQABCBxIsCCAgAA7\"><title>Layer: sonar (input)\n",
       " shape = (16,)\n",
       " Keras class = Input</title></image><text x=\"580.0\" y=\"520.5\" font-family=\"monospace\" font-size=\"12\" text-anchor=\"start\" alignment-baseline=\"central\">sonar</text><line x1=\"712.5\" y1=\"505\" x2=\"712.5\" y2=\"478\" stroke=\"black\" stroke-width=\"2\" marker-end=\"url(#arrow)\"><title>Weights from camera to conv\n",
       " conv/kernel has shape (3, 3, 3, 16)\n",
       " conv/bias has shape (16,)</title></line><rect x=\"611.5\" y=\"505\" width=\"202\" height=\"135\" style=\"fill:none;stroke:black;stroke-width:2\"/><image id=\"Robot Prediction Network_camera_33\" class=\"Robot Prediction Network_camera\" x=\"612.5\" y=\"506\" height=\"133\" width=\"200\" preserveAspectRatio=\"none\" href=\"data:image/gif;base64,R0lGODdhPAAoAIcAAAAAAAAAAAAAAAAAAAAAAAAAAAAAAAAAAAAAAAAAAAAAAAAAAAAAAAAAAAAAAAAAAAAAAAAAAAAAAAAAAAAAAAAAAAAAAAAAAAAAAAAAAAAAAAAAAAAAAAAAAAAAAAAAAAAAAAAAAAAAAAAAAAAAAAAAAAAAAAAAAAAAAAAAAAAAAAAAAAAAAAAAAAAAAAAAAAAAAAAAAAAAAAAAAAAAAAAAAAAAAAAAAAAAAAAAAAAAAAAAAAAAAAAAAAAAAAAAAAAAAAAAAAAAAAAAAAAAAAAAAAAAAAAAAAAAAAAAAAAAAAAAAAAAAAAAAAAAAAAAAAAAAAAAAAAAAAAAAAAAAAAAAAAAAAAAAAAAAAAAAAAAAAAAAAAAAAAAAAAAAAAAAAAAAAAAAAAAAAAAAAAAAAAAAAAAAAAAAAAAAAAAAAAAAAAAAAAAAAAAAAAAAAAAAAAAAAAAAAAAAAAAAAAAAAAAAAAAAAAAAAAAAAAAAAAAAAAAAAAAAAAAAAAAAAAAAAAAAAAAAAAAAAAAAAAAAAAAAAAAAAAAAAAAAAAAAAAAAAAAAAAAAAAAAAAAAAAAAAAAAAAAAAAAAAAAAAAAAAAAAAAAAAAAAAAAAAAAAAAAAAAAAAAAAAAAAAAAAAAAAAAAAAAAAAAAAAAAAAAAAAAAAAAAAAAAAAAAAAAAAAAAAAAAAAAAAAAAAAAAAAAAAAAAAAAAAAAAAAAAAAAAAAAAAAAAAAAAAAAAAAAAAAAAAAAAAAAAAAAAAAAAAAAAAAAAAAAAAAAAAAAAAAAAAAAAAAAAAAAAAAAAAAAAAAAAAAAAAAAAAAAAAAAAAAAAAAAAAAAAAAAAAAAAAAAAAAAAAAAAAAAAAAAAAAAAAAAAAAAAAAAAAAAAAAAAAAAAAAAAAAAAAAAAAAAAAAAAAAAAAAAAAAAAAAAAAAAAAAAAAAAAAAAAAAAAAAAAAAAAAAAAAAAAAAAAAAAAAAAAAAAAAAAAAAAAAAAAAAAAAAAAAAAAAAAAAAAAAAAAAAAAACwAAAAAPAAoAEAIUAABCBxIsKDBgwgTKlzIsKHDhxAjSpxIsaLFixgzatzIsaPHjyBDihxJsqTJkyhTqlzJsqXLlzBjypxJs6bNmzhz6tzJs6fPn0CDCh1K1GZAADs=\"><title>Layer: camera (input)\n",
       " shape = (40, 60, 3)\n",
       " Keras class = Input</title></image><text x=\"817.5\" y=\"574.5\" font-family=\"monospace\" font-size=\"12\" text-anchor=\"start\" alignment-baseline=\"central\">camera</text></svg>"
      ],
      "text/plain": [
       "<Network name='Robot Prediction Network' (compiled)>"
      ]
     },
     "execution_count": 60,
     "metadata": {},
     "output_type": "execute_result"
    }
   ],
   "source": [
    "net"
   ]
  },
  {
   "cell_type": "code",
   "execution_count": null,
   "metadata": {},
   "outputs": [],
   "source": []
  },
  {
   "cell_type": "code",
   "execution_count": 61,
   "metadata": {},
   "outputs": [
    {
     "ename": "Exception",
     "evalue": "nothing to test",
     "output_type": "error",
     "traceback": [
      "\u001b[0;31m---------------------------------------------------------------------------\u001b[0m",
      "\u001b[0;31mException\u001b[0m                                 Traceback (most recent call last)",
      "\u001b[0;32m<ipython-input-61-70ff5a56f9ac>\u001b[0m in \u001b[0;36m<module>\u001b[0;34m()\u001b[0m\n\u001b[0;32m----> 1\u001b[0;31m \u001b[0mnet\u001b[0m\u001b[0;34m.\u001b[0m\u001b[0mtest\u001b[0m\u001b[0;34m(\u001b[0m\u001b[0;34m)\u001b[0m\u001b[0;34m\u001b[0m\u001b[0m\n\u001b[0m",
      "\u001b[0;32m/usr/local/lib/python3.5/dist-packages/conx/network.py\u001b[0m in \u001b[0;36mtest\u001b[0;34m(self, batch_size, tolerance, force, show_inputs, show_outputs, filter)\u001b[0m\n\u001b[1;32m    319\u001b[0m         \"\"\"\n\u001b[1;32m    320\u001b[0m         \u001b[0;32mif\u001b[0m \u001b[0mlen\u001b[0m\u001b[0;34m(\u001b[0m\u001b[0mself\u001b[0m\u001b[0;34m.\u001b[0m\u001b[0mdataset\u001b[0m\u001b[0;34m.\u001b[0m\u001b[0minputs\u001b[0m\u001b[0;34m)\u001b[0m \u001b[0;34m==\u001b[0m \u001b[0;36m0\u001b[0m\u001b[0;34m:\u001b[0m\u001b[0;34m\u001b[0m\u001b[0m\n\u001b[0;32m--> 321\u001b[0;31m             \u001b[0;32mraise\u001b[0m \u001b[0mException\u001b[0m\u001b[0;34m(\u001b[0m\u001b[0;34m\"nothing to test\"\u001b[0m\u001b[0;34m)\u001b[0m\u001b[0;34m\u001b[0m\u001b[0m\n\u001b[0m\u001b[1;32m    322\u001b[0m         \u001b[0;32mif\u001b[0m \u001b[0mself\u001b[0m\u001b[0;34m.\u001b[0m\u001b[0mdataset\u001b[0m\u001b[0;34m.\u001b[0m\u001b[0m_split\u001b[0m \u001b[0;34m==\u001b[0m \u001b[0mlen\u001b[0m\u001b[0;34m(\u001b[0m\u001b[0mself\u001b[0m\u001b[0;34m.\u001b[0m\u001b[0mdataset\u001b[0m\u001b[0;34m.\u001b[0m\u001b[0minputs\u001b[0m\u001b[0;34m)\u001b[0m\u001b[0;34m:\u001b[0m\u001b[0;34m\u001b[0m\u001b[0m\n\u001b[1;32m    323\u001b[0m             \u001b[0minputs\u001b[0m \u001b[0;34m=\u001b[0m \u001b[0mself\u001b[0m\u001b[0;34m.\u001b[0m\u001b[0mdataset\u001b[0m\u001b[0;34m.\u001b[0m\u001b[0m_train_inputs\u001b[0m\u001b[0;34m\u001b[0m\u001b[0m\n",
      "\u001b[0;31mException\u001b[0m: nothing to test"
     ]
    }
   ],
   "source": [
    "net.test()"
   ]
  },
  {
   "cell_type": "code",
   "execution_count": null,
   "metadata": {},
   "outputs": [],
   "source": []
  }
 ],
 "metadata": {
  "kernelspec": {
   "display_name": "Python 3",
   "language": "python",
   "name": "python3"
  },
  "language_info": {
   "codemirror_mode": {
    "name": "ipython",
    "version": 3
   },
   "file_extension": ".py",
   "mimetype": "text/x-python",
   "name": "python",
   "nbconvert_exporter": "python",
   "pygments_lexer": "ipython3",
   "version": "3.5.3"
  },
  "widgets": {
   "application/vnd.jupyter.widget-state+json": {
    "state": {
     "08423084241441eb9091dfd3995ec7fe": {
      "model_module": "jupyter-js-widgets",
      "model_module_version": "~2.1.4",
      "model_name": "LayoutModel",
      "state": {
       "_model_module_version": "~2.1.4",
       "_view_module_version": "~2.1.4"
      }
     },
     "0a486aece37d4ceda35626962a10b644": {
      "model_module": "jupyter-js-widgets",
      "model_module_version": "~2.1.4",
      "model_name": "LayoutModel",
      "state": {
       "_model_module_version": "~2.1.4",
       "_view_module_version": "~2.1.4",
       "height": "20px",
       "padding": "0px 0px 0px 0px",
       "width": "248px"
      }
     },
     "116e160ad9f14e7fb81d6dabde0c37eb": {
      "model_module": "jupyter-js-widgets",
      "model_module_version": "~2.1.4",
      "model_name": "FloatSliderModel",
      "state": {
       "_model_module_version": "~2.1.4",
       "_view_module_version": "~2.1.4",
       "layout": "IPY_MODEL_c3c7c15d20ec4640a9f5fe85ade3682c",
       "orientation": "vertical",
       "readout": false,
       "step": 0.1,
       "value": 51.24999999999999
      }
     },
     "1adceb8e00834cea8cf5b6dbe7433a09": {
      "model_module": "jupyter-js-widgets",
      "model_module_version": "~2.1.4",
      "model_name": "LayoutModel",
      "state": {
       "_model_module_version": "~2.1.4",
       "_view_module_version": "~2.1.4"
      }
     },
     "1c00298cd5294f93a5bd80d8eb821703": {
      "model_module": "jupyter-js-widgets",
      "model_module_version": "~2.1.4",
      "model_name": "ImageModel",
      "state": {
       "_b64value": "iVBORw0KGgoAAAANSUhEUgAAADwAAAAoCAIAAAAt2Q6oAAAA8UlEQVR4nO3WoQ7CMBCA4d5d++gYggJDwMwgEJshATHkEIRgUCCwkxiwZAhGMxq2bIRcaXKfWOb655b0BvExV6FB3wHfkGguEs1ForlINBeJ5qJ9B5TuhwzeKaWqz+qLt+jbNkVEIgIARLRBbXSOztPYDqBuEg2KokBEYwwRdT3a+hx9SiJ8sZOofji/yuhdNCQirTURPVv9ZjXTm8kAAIwxvks6+OuJ1pFoLhLNJchouFzPSql+b+rc0w3L5Vcb0Vnj7f89ymjHeDQPL7rBLFqGF/0riyQLL9qxXu3Di+4kyCtPorlINBeJ5iLRXIKMfgDJGDkVat0rzwAAAABJRU5ErkJggg==",
       "_model_module_version": "~2.1.4",
       "_view_module_version": "~2.1.4",
       "layout": "IPY_MODEL_826d8904866c4e82ba2a9a5221fd2631",
       "width": "240"
      }
     },
     "2e5b657e21fa4e3fb459a974ef89ffea": {
      "model_module": "jupyter-js-widgets",
      "model_module_version": "~2.1.4",
      "model_name": "FloatSliderModel",
      "state": {
       "_model_module_version": "~2.1.4",
       "_view_module_version": "~2.1.4",
       "layout": "IPY_MODEL_0a486aece37d4ceda35626962a10b644",
       "readout": false,
       "step": 0.1,
       "value": 99.44295769917836
      }
     },
     "2e5d973073534c3eb26e448b646a8c7d": {
      "model_module": "jupyter-js-widgets",
      "model_module_version": "~2.1.4",
      "model_name": "OutputModel",
      "state": {
       "_dom_classes": [],
       "_model_module": "jupyter-js-widgets",
       "_model_module_version": "~2.1.4",
       "_view_module": "jupyter-js-widgets",
       "_view_module_version": "~2.1.4",
       "layout": "IPY_MODEL_39f10ac0d7e94b6a998cecbcde4c3c24",
       "msg_throttle": 1
      }
     },
     "35e0bf572944420cb3eb23722feea99e": {
      "model_module": "jupyter-js-widgets",
      "model_module_version": "~2.1.4",
      "model_name": "LayoutModel",
      "state": {
       "_model_module_version": "~2.1.4",
       "_view_module_version": "~2.1.4"
      }
     },
     "39f10ac0d7e94b6a998cecbcde4c3c24": {
      "model_module": "jupyter-js-widgets",
      "model_module_version": "~2.1.4",
      "model_name": "LayoutModel",
      "state": {
       "_model_module_version": "~2.1.4",
       "_view_module_version": "~2.1.4"
      }
     },
     "497f35579b594d33b9416aa809c0bbe3": {
      "model_module": "jupyter-js-widgets",
      "model_module_version": "~2.1.4",
      "model_name": "LayoutModel",
      "state": {
       "_model_module_version": "~2.1.4",
       "_view_module_version": "~2.1.4"
      }
     },
     "4bdda6111b9546a697c36c05475b6a3e": {
      "model_module": "jupyter-js-widgets",
      "model_module_version": "~2.1.4",
      "model_name": "TextModel",
      "state": {
       "_model_module_version": "~2.1.4",
       "_view_module_version": "~2.1.4",
       "description": "Time:",
       "layout": "IPY_MODEL_e558e089bd89408784f5d3d9c965f2aa",
       "value": "0.10 seconds"
      }
     },
     "5527ccfc5f274a7dbc6ce3afe206b84b": {
      "model_module": "jupyter-js-widgets",
      "model_module_version": "~2.1.4",
      "model_name": "CheckboxModel",
      "state": {
       "_model_module_version": "~2.1.4",
       "_view_module_version": "~2.1.4",
       "description": "Update GUI",
       "disabled": false,
       "layout": "IPY_MODEL_752f6bab412348b7b4fbcd2a3a3dd15a",
       "value": true
      }
     },
     "55d26593c20a4c6fa86765e4fa753a11": {
      "model_module": "jupyter-js-widgets",
      "model_module_version": "~2.1.4",
      "model_name": "LayoutModel",
      "state": {
       "_model_module_version": "~2.1.4",
       "_view_module_version": "~2.1.4"
      }
     },
     "5d02f863f83c4124aa1dea90e55f836c": {
      "model_module": "jupyter-js-widgets",
      "model_module_version": "~2.1.4",
      "model_name": "HTMLModel",
      "state": {
       "_model_module_version": "~2.1.4",
       "_view_module_version": "~2.1.4",
       "layout": "IPY_MODEL_08423084241441eb9091dfd3995ec7fe",
       "value": "<svg baseProfile=\"full\" height=\"240\" version=\"1.1\" width=\"240\" xmlns=\"http://www.w3.org/2000/svg\" xmlns:ev=\"http://www.w3.org/2001/xml-events\" xmlns:xlink=\"http://www.w3.org/1999/xlink\"><defs /><rect fill=\"white\" height=\"240\" stroke=\"#000000\" stroke-width=\"1\" width=\"240\" x=\"0\" y=\"0\" /><rect fill=\"#eef3dd\" height=\"240.0\" stroke=\"#bebebe\" stroke-width=\"1\" width=\"240.0\" x=\"0.0\" y=\"0.0\" /><circle cx=\"120.0\" cy=\"195.0\" fill=\"#ffff00\" r=\"15.0\" stroke=\"#ffff00\" stroke-width=\"1\" /><line fill=\"#800080\" stroke=\"#add8e6\" stroke-width=\"1\" x1=\"199.29647346587737\" x2=\"0.0\" y1=\"111.37109959820461\" y2=\"118.34932799999999\" /><line fill=\"#800080\" stroke=\"#add8e6\" stroke-width=\"1\" x1=\"200.64858482032437\" x2=\"0.0\" y1=\"107.12118255369946\" y2=\"21.973026000000004\" /><line fill=\"#800080\" stroke=\"#add8e6\" stroke-width=\"1\" x1=\"202.98412783209295\" x2=\"108.20933355871675\" y1=\"105.23830209010676\" y2=\"0.0\" /><line fill=\"#800080\" stroke=\"#add8e6\" stroke-width=\"1\" x1=\"206.529433775271\" x2=\"174.84110042201567\" y1=\"103.61324646974592\" y2=\"0.0\" /><line fill=\"#800080\" stroke=\"#add8e6\" stroke-width=\"1\" x1=\"212.52575915041191\" x2=\"236.38811675880686\" y1=\"103.4032893421199\" y2=\"0.0\" /><line fill=\"#800080\" stroke=\"#add8e6\" stroke-width=\"1\" x1=\"216.176043657403\" x2=\"240.0\" y1=\"104.77639640932952\" y2=\"74.27725800000002\" /><line fill=\"#800080\" stroke=\"#add8e6\" stroke-width=\"1\" x1=\"218.63756094574717\" x2=\"240.0\" y1=\"106.49131117082139\" y2=\"95.60408999999999\" /><line fill=\"#800080\" stroke=\"#add8e6\" stroke-width=\"1\" x1=\"220.28361227887063\" x2=\"240.0\" y1=\"110.63624965151354\" y2=\"109.94589599999998\" /><line fill=\"#800080\" stroke=\"#add8e6\" stroke-width=\"1\" x1=\"220.70352653412263\" x2=\"240.0\" y1=\"122.62890040179542\" y2=\"121.95324600000001\" /><line fill=\"#800080\" stroke=\"#add8e6\" stroke-width=\"1\" x1=\"219.35141517967563\" x2=\"240.0\" y1=\"126.87881744630057\" y2=\"135.641346\" /><line fill=\"#800080\" stroke=\"#add8e6\" stroke-width=\"1\" x1=\"217.01587216790705\" x2=\"240.0\" y1=\"128.76169790989326\" y2=\"154.283364\" /><line fill=\"#800080\" stroke=\"#add8e6\" stroke-width=\"1\" x1=\"213.470566224729\" x2=\"240.0\" y1=\"130.3867535302541\" y2=\"217.131636\" /><line fill=\"#800080\" stroke=\"#add8e6\" stroke-width=\"1\" x1=\"207.47424084958809\" x2=\"182.22726449088904\" y1=\"130.59671065788012\" y2=\"240.0\" /><line fill=\"#800080\" stroke=\"#add8e6\" stroke-width=\"1\" x1=\"203.823956342597\" x2=\"117.29260723482744\" y1=\"129.2236035906705\" y2=\"240.0\" /><line fill=\"#800080\" stroke=\"#add8e6\" stroke-width=\"1\" x1=\"201.36243905425283\" x2=\"0.0\" y1=\"127.50868882917862\" y2=\"230.131668\" /><line fill=\"#800080\" stroke=\"#add8e6\" stroke-width=\"1\" x1=\"199.71638772112937\" x2=\"0.0\" y1=\"123.36375034848649\" y2=\"130.356678\" /><line fill=\"#800080\" stroke=\"#a020f0\" stroke-width=\"1\" x1=\"210.0\" x2=\"0.0\" y1=\"117.00000000000001\" y2=\"5.366183999999992\" /><line fill=\"#800080\" stroke=\"#a020f0\" stroke-width=\"1\" x1=\"210.0\" x2=\"240.0\" y1=\"117.00000000000001\" y2=\"98.250024\" /><line fill=\"#800080\" stroke=\"#ffa500\" stroke-width=\"1\" x1=\"120.0\" x2=\"199.03402705634483\" y1=\"195.0\" y2=\"103.87569287927845\" /><line fill=\"#800080\" stroke=\"#ffa500\" stroke-width=\"1\" x1=\"120.0\" x2=\"220.02116586933806\" y1=\"195.0\" y2=\"103.14084293258738\" /><polygon fill=\"red\" points=\"204.7305361627287,103.67623360803373 199.19149490206433,108.37293691063414 199.82136628494237,126.36191303605695 205.67534323704578,130.65969779616793 215.2694638372713,130.3237663919663 220.80850509793567,125.62706308936588 220.17863371505763,107.63808696394308 214.32465676295422,103.3403022038321\" stroke=\"red\" stroke-width=\"1\" /><polygon points=\"-3.0,-3.0 0,0 3.0,-3.0 0,3.0\" stroke=\"black\" stroke-width=\"1\" transform=\"translate(210.0,117.00000000000001) rotate(177.9946477170421)\" /><polygon fill=\"black\" points=\"213.30385524640815,108.4791701982271 213.47182094850893,113.27623049833983 206.2762304983398,113.52817905149107 206.108264796239,108.73111875137835\" stroke=\"black\" stroke-width=\"1\" /><circle cx=\"199.03402705634483\" cy=\"103.87569287927845\" fill=\"yellow\" r=\"1.5\" stroke=\"orange\" stroke-width=\"1\" /><circle cx=\"220.02116586933806\" cy=\"103.14084293258738\" fill=\"yellow\" r=\"1.5\" stroke=\"orange\" stroke-width=\"1\" /></svg>"
      }
     },
     "6d1f771c19254382accb04cae6f7b62e": {
      "model_module": "jupyter-js-widgets",
      "model_module_version": "~2.1.4",
      "model_name": "HBoxModel",
      "state": {
       "_model_module_version": "~2.1.4",
       "_view_module_version": "~2.1.4",
       "children": [
        "IPY_MODEL_5527ccfc5f274a7dbc6ce3afe206b84b",
        "IPY_MODEL_4bdda6111b9546a697c36c05475b6a3e"
       ],
       "layout": "IPY_MODEL_b0fe5bc26a9a44bb95dcf2756e7f5088"
      }
     },
     "7001bc75c2104b43a6bd388d787ba44a": {
      "model_module": "jupyter-js-widgets",
      "model_module_version": "~2.1.4",
      "model_name": "VBoxModel",
      "state": {
       "_model_module_version": "~2.1.4",
       "_view_module_version": "~2.1.4",
       "children": [
        "IPY_MODEL_d0cefa9ffa6841c8b59ef0278cc97beb",
        "IPY_MODEL_852d97123f894e63b3ebef0aef4d9a3c",
        "IPY_MODEL_2e5d973073534c3eb26e448b646a8c7d"
       ],
       "layout": "IPY_MODEL_d61e3a6a6d9a409e8f9f65f4541dfd99"
      }
     },
     "752f6bab412348b7b4fbcd2a3a3dd15a": {
      "model_module": "jupyter-js-widgets",
      "model_module_version": "~2.1.4",
      "model_name": "LayoutModel",
      "state": {
       "_model_module_version": "~2.1.4",
       "_view_module_version": "~2.1.4"
      }
     },
     "826d8904866c4e82ba2a9a5221fd2631": {
      "model_module": "jupyter-js-widgets",
      "model_module_version": "~2.1.4",
      "model_name": "LayoutModel",
      "state": {
       "_model_module_version": "~2.1.4",
       "_view_module_version": "~2.1.4"
      }
     },
     "827d29fe3e44461ea1e5e05c88098d68": {
      "model_module": "jupyter-js-widgets",
      "model_module_version": "~2.1.4",
      "model_name": "LayoutModel",
      "state": {
       "_model_module_version": "~2.1.4",
       "_view_module_version": "~2.1.4"
      }
     },
     "852d97123f894e63b3ebef0aef4d9a3c": {
      "model_module": "jupyter-js-widgets",
      "model_module_version": "~2.1.4",
      "model_name": "HBoxModel",
      "state": {
       "_model_module_version": "~2.1.4",
       "_view_module_version": "~2.1.4",
       "children": [
        "IPY_MODEL_dd4d62d9e58842aa9d84a32eb9cb982b",
        "IPY_MODEL_9b7c5fb54cc14aff95c4da6406a0f9ed",
        "IPY_MODEL_d7171539ef4d427cbdcf2195a6ca282d"
       ],
       "layout": "IPY_MODEL_aa94d9d63ae740c3af61b752640a80eb"
      }
     },
     "89534f4f8b8340549bf750fb7dfe0a7a": {
      "model_module": "jupyter-js-widgets",
      "model_module_version": "~2.1.4",
      "model_name": "LayoutModel",
      "state": {
       "_model_module_version": "~2.1.4",
       "_view_module_version": "~2.1.4"
      }
     },
     "9975e40b042c4cd0acf0d02d9b6a3849": {
      "model_module": "jupyter-js-widgets",
      "model_module_version": "~2.1.4",
      "model_name": "HBoxModel",
      "state": {
       "_model_module_version": "~2.1.4",
       "_view_module_version": "~2.1.4",
       "children": [
        "IPY_MODEL_116e160ad9f14e7fb81d6dabde0c37eb",
        "IPY_MODEL_5d02f863f83c4124aa1dea90e55f836c"
       ],
       "layout": "IPY_MODEL_bd23f5a3366547359806ed9502494e70"
      }
     },
     "9af44a5cae7246a89a20a5fbd5a0f130": {
      "model_module": "jupyter-js-widgets",
      "model_module_version": "~2.1.4",
      "model_name": "HBoxModel",
      "state": {
       "_model_module_version": "~2.1.4",
       "_view_module_version": "~2.1.4",
       "children": [
        "IPY_MODEL_c1ceded972004efa89bf5d3ee4943378",
        "IPY_MODEL_d37e45d89f4640d9858bfe2a0f53ad63"
       ],
       "layout": "IPY_MODEL_1adceb8e00834cea8cf5b6dbe7433a09"
      }
     },
     "9b7c5fb54cc14aff95c4da6406a0f9ed": {
      "model_module": "jupyter-js-widgets",
      "model_module_version": "~2.1.4",
      "model_name": "PlayModel",
      "state": {
       "_model_module_version": "~2.1.4",
       "_view_module_version": "~2.1.4",
       "layout": "IPY_MODEL_827d29fe3e44461ea1e5e05c88098d68",
       "max": 1000000
      }
     },
     "9c61c7e69e704f0cbddb4bfa789e9eb2": {
      "model_module": "jupyter-js-widgets",
      "model_module_version": "~2.1.4",
      "model_name": "ButtonStyleModel",
      "state": {
       "_model_module_version": "~2.1.4",
       "_view_module_version": "~2.1.4"
      }
     },
     "a64f5b5a05b545fb8c99ab1de942f334": {
      "model_module": "jupyter-js-widgets",
      "model_module_version": "~2.1.4",
      "model_name": "LayoutModel",
      "state": {
       "_model_module_version": "~2.1.4",
       "_view_module_version": "~2.1.4"
      }
     },
     "aa94d9d63ae740c3af61b752640a80eb": {
      "model_module": "jupyter-js-widgets",
      "model_module_version": "~2.1.4",
      "model_name": "LayoutModel",
      "state": {
       "_model_module_version": "~2.1.4",
       "_view_module_version": "~2.1.4"
      }
     },
     "ad478466503948e3ac134c0d813b347d": {
      "model_module": "jupyter-js-widgets",
      "model_module_version": "~2.1.4",
      "model_name": "FloatSliderModel",
      "state": {
       "_model_module_version": "~2.1.4",
       "_view_module_version": "~2.1.4",
       "layout": "IPY_MODEL_eef4e9caeead4949aec10f216c39e9bd",
       "readout": false,
       "step": 0.1,
       "value": 87.5
      }
     },
     "b0fe5bc26a9a44bb95dcf2756e7f5088": {
      "model_module": "jupyter-js-widgets",
      "model_module_version": "~2.1.4",
      "model_name": "LayoutModel",
      "state": {
       "_model_module_version": "~2.1.4",
       "_view_module_version": "~2.1.4"
      }
     },
     "ba31d73a384e45dcbda53395c2bf5992": {
      "model_module": "jupyter-js-widgets",
      "model_module_version": "~2.1.4",
      "model_name": "LayoutModel",
      "state": {
       "_model_module_version": "~2.1.4",
       "_view_module_version": "~2.1.4"
      }
     },
     "bd23f5a3366547359806ed9502494e70": {
      "model_module": "jupyter-js-widgets",
      "model_module_version": "~2.1.4",
      "model_name": "LayoutModel",
      "state": {
       "_model_module_version": "~2.1.4",
       "_view_module_version": "~2.1.4"
      }
     },
     "c1ceded972004efa89bf5d3ee4943378": {
      "model_module": "jupyter-js-widgets",
      "model_module_version": "~2.1.4",
      "model_name": "VBoxModel",
      "state": {
       "_model_module_version": "~2.1.4",
       "_view_module_version": "~2.1.4",
       "children": [
        "IPY_MODEL_9975e40b042c4cd0acf0d02d9b6a3849",
        "IPY_MODEL_ad478466503948e3ac134c0d813b347d"
       ],
       "layout": "IPY_MODEL_89534f4f8b8340549bf750fb7dfe0a7a"
      }
     },
     "c2195209deb34c269574ca9023bd156f": {
      "model_module": "jupyter-js-widgets",
      "model_module_version": "~2.1.4",
      "model_name": "ButtonStyleModel",
      "state": {
       "_model_module_version": "~2.1.4",
       "_view_module_version": "~2.1.4"
      }
     },
     "c3c7c15d20ec4640a9f5fe85ade3682c": {
      "model_module": "jupyter-js-widgets",
      "model_module_version": "~2.1.4",
      "model_name": "LayoutModel",
      "state": {
       "_model_module_version": "~2.1.4",
       "_view_module_version": "~2.1.4",
       "height": "248px",
       "padding": "0px 0px 0px 0px",
       "width": "10px"
      }
     },
     "d0cefa9ffa6841c8b59ef0278cc97beb": {
      "model_module": "jupyter-js-widgets",
      "model_module_version": "~2.1.4",
      "model_name": "VBoxModel",
      "state": {
       "_model_module_version": "~2.1.4",
       "_view_module_version": "~2.1.4",
       "children": [
        "IPY_MODEL_6d1f771c19254382accb04cae6f7b62e",
        "IPY_MODEL_9af44a5cae7246a89a20a5fbd5a0f130"
       ],
       "layout": "IPY_MODEL_dd4313da261c4547902a7c752f0fc454"
      }
     },
     "d37e45d89f4640d9858bfe2a0f53ad63": {
      "model_module": "jupyter-js-widgets",
      "model_module_version": "~2.1.4",
      "model_name": "VBoxModel",
      "state": {
       "_model_module_version": "~2.1.4",
       "_view_module_version": "~2.1.4",
       "children": [
        "IPY_MODEL_1c00298cd5294f93a5bd80d8eb821703",
        "IPY_MODEL_2e5b657e21fa4e3fb459a974ef89ffea"
       ],
       "layout": "IPY_MODEL_a64f5b5a05b545fb8c99ab1de942f334"
      }
     },
     "d61e3a6a6d9a409e8f9f65f4541dfd99": {
      "model_module": "jupyter-js-widgets",
      "model_module_version": "~2.1.4",
      "model_name": "LayoutModel",
      "state": {
       "_model_module_version": "~2.1.4",
       "_view_module_version": "~2.1.4"
      }
     },
     "d7171539ef4d427cbdcf2195a6ca282d": {
      "model_module": "jupyter-js-widgets",
      "model_module_version": "~2.1.4",
      "model_name": "ButtonModel",
      "state": {
       "_model_module_version": "~2.1.4",
       "_view_module_version": "~2.1.4",
       "description": "Clear",
       "layout": "IPY_MODEL_ba31d73a384e45dcbda53395c2bf5992",
       "style": "IPY_MODEL_c2195209deb34c269574ca9023bd156f"
      }
     },
     "d983b94c07a44bcf96b3b6294d43c01f": {
      "model_module": "jupyter-js-widgets",
      "model_module_version": "~2.1.4",
      "model_name": "LayoutModel",
      "state": {
       "_model_module_version": "~2.1.4",
       "_view_module_version": "~2.1.4"
      }
     },
     "dd4313da261c4547902a7c752f0fc454": {
      "model_module": "jupyter-js-widgets",
      "model_module_version": "~2.1.4",
      "model_name": "LayoutModel",
      "state": {
       "_model_module_version": "~2.1.4",
       "_view_module_version": "~2.1.4"
      }
     },
     "dd4d62d9e58842aa9d84a32eb9cb982b": {
      "model_module": "jupyter-js-widgets",
      "model_module_version": "~2.1.4",
      "model_name": "ButtonModel",
      "state": {
       "_model_module_version": "~2.1.4",
       "_view_module_version": "~2.1.4",
       "icon": "step-forward",
       "layout": "IPY_MODEL_497f35579b594d33b9416aa809c0bbe3",
       "style": "IPY_MODEL_9c61c7e69e704f0cbddb4bfa789e9eb2"
      }
     },
     "e558e089bd89408784f5d3d9c965f2aa": {
      "model_module": "jupyter-js-widgets",
      "model_module_version": "~2.1.4",
      "model_name": "LayoutModel",
      "state": {
       "_model_module_version": "~2.1.4",
       "_view_module_version": "~2.1.4"
      }
     },
     "eef4e9caeead4949aec10f216c39e9bd": {
      "model_module": "jupyter-js-widgets",
      "model_module_version": "~2.1.4",
      "model_name": "LayoutModel",
      "state": {
       "_model_module_version": "~2.1.4",
       "_view_module_version": "~2.1.4",
       "height": "30px",
       "padding": "0px 0px 0px 10px",
       "width": "260px"
      }
     }
    },
    "version_major": 1,
    "version_minor": 0
   }
  }
 },
 "nbformat": 4,
 "nbformat_minor": 2
}
