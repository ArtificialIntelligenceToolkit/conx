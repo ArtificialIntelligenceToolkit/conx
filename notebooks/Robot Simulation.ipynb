{
 "cells": [
  {
   "cell_type": "markdown",
   "metadata": {},
   "source": [
    "# Robot Simulation"
   ]
  },
  {
   "cell_type": "code",
   "execution_count": 1,
   "metadata": {},
   "outputs": [],
   "source": [
    "from jyro.simulator import (Robot, Pioneer, Pioneer16Sonars, \n",
    "                            PioneerFrontLightSensors, Camera,\n",
    "                            VSimulator)\n",
    "import random\n",
    "import numpy as np"
   ]
  },
  {
   "cell_type": "code",
   "execution_count": 2,
   "metadata": {},
   "outputs": [],
   "source": [
    "robot = Pioneer(\"Pioneer\", 3.5, 2, 0)"
   ]
  },
  {
   "cell_type": "code",
   "execution_count": 3,
   "metadata": {},
   "outputs": [
    {
     "data": {
      "image/svg+xml": [
       "<svg baseProfile=\"full\" height=\"240\" version=\"1.1\" width=\"240\" xmlns=\"http://www.w3.org/2000/svg\" xmlns:ev=\"http://www.w3.org/2001/xml-events\" xmlns:xlink=\"http://www.w3.org/1999/xlink\"><defs /><line fill=\"#800080\" stroke=\"#d3d3d3\" stroke-width=\"1\" x1=\"78.0\" x2=\"-1842.0\" y1=\"96.0\" y2=\"95.9999999999999\" /><line fill=\"#800080\" stroke=\"#d3d3d3\" stroke-width=\"1\" x1=\"84.0\" x2=\"-1656.110951110368\" y1=\"79.19999999999999\" y2=\"-732.227062542143\" /><line fill=\"#800080\" stroke=\"#d3d3d3\" stroke-width=\"1\" x1=\"93.60000000000001\" x2=\"-1140.5522105981554\" y1=\"72.00000000000001\" y2=\"-1398.805330788438\" /><line fill=\"#800080\" stroke=\"#d3d3d3\" stroke-width=\"1\" x1=\"108.0\" x2=\"-388.9325665968398\" y1=\"66.0\" y2=\"-1788.5775864750112\" /><line fill=\"#800080\" stroke=\"#d3d3d3\" stroke-width=\"1\" x1=\"132.0\" x2=\"628.9325665968398\" y1=\"66.0\" y2=\"-1788.5775864750112\" /><line fill=\"#800080\" stroke=\"#d3d3d3\" stroke-width=\"1\" x1=\"146.4\" x2=\"1380.5522105981554\" y1=\"72.00000000000001\" y2=\"-1398.805330788438\" /><line fill=\"#800080\" stroke=\"#d3d3d3\" stroke-width=\"1\" x1=\"156.0\" x2=\"1896.110951110368\" y1=\"79.19999999999999\" y2=\"-732.227062542143\" /><line fill=\"#800080\" stroke=\"#d3d3d3\" stroke-width=\"1\" x1=\"162.0\" x2=\"2082.0\" y1=\"96.0\" y2=\"95.9999999999999\" /><line fill=\"#800080\" stroke=\"#d3d3d3\" stroke-width=\"1\" x1=\"162.0\" x2=\"2082.0\" y1=\"144.00000000000003\" y2=\"143.9999999999999\" /><line fill=\"#800080\" stroke=\"#d3d3d3\" stroke-width=\"1\" x1=\"156.0\" x2=\"1896.1109511103682\" y1=\"160.8\" y2=\"972.2270625421423\" /><line fill=\"#800080\" stroke=\"#d3d3d3\" stroke-width=\"1\" x1=\"146.4\" x2=\"1380.5522105981554\" y1=\"168.0\" y2=\"1638.805330788438\" /><line fill=\"#800080\" stroke=\"#d3d3d3\" stroke-width=\"1\" x1=\"132.0\" x2=\"628.9325665968399\" y1=\"174.0\" y2=\"2028.5775864750112\" /><line fill=\"#800080\" stroke=\"#d3d3d3\" stroke-width=\"1\" x1=\"107.99999999999999\" x2=\"-388.9325665968404\" y1=\"174.0\" y2=\"2028.5775864750108\" /><line fill=\"#800080\" stroke=\"#d3d3d3\" stroke-width=\"1\" x1=\"93.60000000000001\" x2=\"-1140.5522105981559\" y1=\"168.0\" y2=\"1638.8053307884377\" /><line fill=\"#800080\" stroke=\"#d3d3d3\" stroke-width=\"1\" x1=\"84.0\" x2=\"-1656.1109511103682\" y1=\"160.8\" y2=\"972.2270625421426\" /><line fill=\"#800080\" stroke=\"#d3d3d3\" stroke-width=\"1\" x1=\"78.0\" x2=\"-1842.0\" y1=\"144.0\" y2=\"143.99999999999986\" /><polygon fill=\"red\" points=\"100.8,66.0 78.0,84.0 78.0,156.0 100.8,174.0 139.2,174.0 162.0,156.0 162.0,84.0 139.2,66.0\" stroke=\"red\" stroke-width=\"1\" /><polygon points=\"-12.0,-12.0 0,0 12.0,-12.0 0,12.0\" stroke=\"black\" stroke-width=\"1\" transform=\"translate(120.0,120.0) rotate(180.0)\" /><polygon fill=\"black\" points=\"134.4,86.39999999999999 134.4,105.6 105.6,105.6 105.6,86.39999999999999\" stroke=\"black\" stroke-width=\"1\" /><circle cx=\"78.0\" cy=\"66.0\" fill=\"yellow\" r=\"6.0\" stroke=\"orange\" stroke-width=\"1\" /><circle cx=\"162.0\" cy=\"66.0\" fill=\"yellow\" r=\"6.0\" stroke=\"orange\" stroke-width=\"1\" /></svg>"
      ],
      "text/plain": [
       "<jyro.simulator.robot.Pioneer at 0x7ff7b4477470>"
      ]
     },
     "execution_count": 3,
     "metadata": {},
     "output_type": "execute_result"
    }
   ],
   "source": [
    "robot.addDevice(Pioneer16Sonars())\n",
    "robot.addDevice(Camera())\n",
    "light_sensors = PioneerFrontLightSensors(3.0)\n",
    "light_sensors.lightMode = 'ambient'\n",
    "robot.addDevice(light_sensors)"
   ]
  },
  {
   "cell_type": "code",
   "execution_count": 4,
   "metadata": {},
   "outputs": [],
   "source": [
    "def worldf(physics):\n",
    "    physics.addBox(0, 0, 4, 4, fill=\"backgroundgreen\", wallcolor=\"gray\")\n",
    "    physics.addLight(2, 0.75, 1.0) # increased brightness for new linear version of lights"
   ]
  },
  {
   "cell_type": "code",
   "execution_count": 5,
   "metadata": {},
   "outputs": [
    {
     "data": {
      "application/vnd.jupyter.widget-view+json": {
       "model_id": "99369ca8a7c64ae0a2f1a61a07efe8a1",
       "version_major": 2,
       "version_minor": 0
      },
      "text/html": [
       "<p>Failed to display Jupyter Widget of type <code>VBox</code>.</p>\n",
       "<p>\n",
       "  If you're reading this message in the Jupyter Notebook or JupyterLab Notebook, it may mean\n",
       "  that the widgets JavaScript is still loading. If this message persists, it\n",
       "  likely means that the widgets JavaScript library is either not installed or\n",
       "  not enabled. See the <a href=\"https://ipywidgets.readthedocs.io/en/stable/user_install.html\">Jupyter\n",
       "  Widgets Documentation</a> for setup instructions.\n",
       "</p>\n",
       "<p>\n",
       "  If you're reading this message in another frontend (for example, a static\n",
       "  rendering on GitHub or <a href=\"https://nbviewer.jupyter.org/\">NBViewer</a>),\n",
       "  it may mean that your frontend doesn't currently support widgets.\n",
       "</p>\n"
      ],
      "text/plain": [
       "VBox(children=(VBox(children=(HBox(children=(Checkbox(value=True, description='Update GUI'), Checkbox(value=False, description='Trace Path'), Text(value='0.0 seconds', description='Time:'))), HBox(children=(VBox(children=(HBox(children=(FloatSlider(value=0.0, layout=Layout(height='248px', padding='0px 0px 0px 0px', width='10px'), orientation='vertical', readout=False), HTML(value='<svg baseProfile=\"full\" height=\"240\" version=\"1.1\" width=\"240\" xmlns=\"http://www.w3.org/2000/svg\" xmlns:ev=\"http://www.w3.org/2001/xml-events\" xmlns:xlink=\"http://www.w3.org/1999/xlink\"><defs /><rect fill=\"#eef3dd\" height=\"240.0\" stroke=\"#bebebe\" stroke-width=\"1\" width=\"240.0\" x=\"0.0\" y=\"0.0\" /><circle cx=\"120.0\" cy=\"195.0\" fill=\"#ffff00\" r=\"15.0\" stroke=\"#ffff00\" stroke-width=\"1\" /><line fill=\"#800080\" stroke=\"#add8e6\" stroke-width=\"1\" x1=\"199.5\" x2=\"0.0\" y1=\"114.0\" y2=\"114.0\" /><line fill=\"#800080\" stroke=\"#add8e6\" stroke-width=\"1\" x1=\"201.0\" x2=\"0.0\" y1=\"109.80000000000001\" y2=\"16.07215199999999\" /><line fill=\"#800080\" stroke=\"#add8e6\" stroke-width=\"1\" x1=\"203.4\" x2=\"112.77724019461742\" y1=\"107.99999999999999\" y2=\"0.0\" /><line fill=\"#800080\" stroke=\"#add8e6\" stroke-width=\"1\" x1=\"207.0\" x2=\"178.4634099424212\" y1=\"106.5\" y2=\"0.0\" /><line fill=\"#800080\" stroke=\"#add8e6\" stroke-width=\"1\" x1=\"213.0\" x2=\"240.0\" y1=\"106.5\" y2=\"5.734632000000062\" /><line fill=\"#800080\" stroke=\"#add8e6\" stroke-width=\"1\" x1=\"216.6\" x2=\"240.0\" y1=\"107.99999999999999\" y2=\"80.11296600000001\" /><line fill=\"#800080\" stroke=\"#add8e6\" stroke-width=\"1\" x1=\"219.0\" x2=\"240.0\" y1=\"109.80000000000001\" y2=\"100.007538\" /><line fill=\"#800080\" stroke=\"#add8e6\" stroke-width=\"1\" x1=\"220.5\" x2=\"240.0\" y1=\"114.0\" y2=\"114.0\" /><line fill=\"#800080\" stroke=\"#add8e6\" stroke-width=\"1\" x1=\"220.5\" x2=\"240.0\" y1=\"126.0\" y2=\"126.0\" /><line fill=\"#800080\" stroke=\"#add8e6\" stroke-width=\"1\" x1=\"219.0\" x2=\"240.0\" y1=\"130.2\" y2=\"139.992462\" /><line fill=\"#800080\" stroke=\"#add8e6\" stroke-width=\"1\" x1=\"216.6\" x2=\"240.0\" y1=\"132.0\" y2=\"159.88703399999997\" /><line fill=\"#800080\" stroke=\"#add8e6\" stroke-width=\"1\" x1=\"213.0\" x2=\"240.0\" y1=\"133.5\" y2=\"234.26536799999994\" /><line fill=\"#800080\" stroke=\"#add8e6\" stroke-width=\"1\" x1=\"207.0\" x2=\"178.4634099424212\" y1=\"133.5\" y2=\"240.0\" /><line fill=\"#800080\" stroke=\"#add8e6\" stroke-width=\"1\" x1=\"203.4\" x2=\"112.7772401946174\" y1=\"132.0\" y2=\"240.0\" /><line fill=\"#800080\" stroke=\"#add8e6\" stroke-width=\"1\" x1=\"201.0\" x2=\"0.0\" y1=\"130.2\" y2=\"223.927848\" /><line fill=\"#800080\" stroke=\"#add8e6\" stroke-width=\"1\" x1=\"199.5\" x2=\"0.0\" y1=\"126.0\" y2=\"126.0\" /><line fill=\"#800080\" stroke=\"#a020f0\" stroke-width=\"1\" x1=\"210.0\" x2=\"2.1539193796210117\" y1=\"120.0\" y2=\"0.0\" /><line fill=\"#800080\" stroke=\"#a020f0\" stroke-width=\"1\" x1=\"210.0\" x2=\"240.0\" y1=\"120.0\" y2=\"102.67948799999999\" /><line fill=\"#800080\" stroke=\"#ffa500\" stroke-width=\"1\" x1=\"120.0\" x2=\"199.5\" y1=\"195.0\" y2=\"106.5\" /><line fill=\"#800080\" stroke=\"#ffa500\" stroke-width=\"1\" x1=\"120.0\" x2=\"220.5\" y1=\"195.0\" y2=\"106.5\" /><polygon fill=\"red\" points=\"205.2,106.5 199.5,111.0 199.5,129.0 205.2,133.5 214.8,133.5 220.5,129.0 220.5,111.0 214.8,106.5\" stroke=\"red\" stroke-width=\"1\" /><polygon points=\"-3.0,-3.0 0,0 3.0,-3.0 0,3.0\" stroke=\"black\" stroke-width=\"1\" transform=\"translate(210.0,120.0) rotate(180.0)\" /><polygon fill=\"black\" points=\"213.6,111.6 213.6,116.39999999999999 206.4,116.39999999999999 206.4,111.6\" stroke=\"black\" stroke-width=\"1\" /><circle cx=\"199.5\" cy=\"106.5\" fill=\"yellow\" r=\"1.5\" stroke=\"orange\" stroke-width=\"1\" /><circle cx=\"220.5\" cy=\"106.5\" fill=\"yellow\" r=\"1.5\" stroke=\"orange\" stroke-width=\"1\" /></svg>'))), FloatSlider(value=0.0, layout=Layout(height='30px', padding='0px 0px 0px 10px', width='260px'), readout=False))), VBox(children=(HTML(value='<img style=\"image-rendering: pixelated;\" src=\"data:image/gif;base64,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\" width=\"240\"/>'), FloatSlider(value=0.0, layout=Layout(height='20px', padding='0px 0px 0px 0px', width='248px'), readout=False))))))), HBox(children=(Button(icon='step-forward', style=ButtonStyle()), Play(value=0, max=1000000), Button(description='Clear Output', style=ButtonStyle()))), Output()))"
      ]
     },
     "metadata": {},
     "output_type": "display_data"
    }
   ],
   "source": [
    "sim = VSimulator(robot, worldf)"
   ]
  },
  {
   "cell_type": "code",
   "execution_count": 6,
   "metadata": {},
   "outputs": [],
   "source": [
    "camera = robot.device[\"camera\"]"
   ]
  },
  {
   "cell_type": "code",
   "execution_count": 7,
   "metadata": {},
   "outputs": [
    {
     "data": {
      "image/png": "[encoded data removed]",
      "text/plain": [
       "<PIL.Image.Image image mode=RGB size=60x40 at 0x7FF78D605EB8>"
      ]
     },
     "execution_count": 7,
     "metadata": {},
     "output_type": "execute_result"
    }
   ],
   "source": [
    "image = camera.getImage()\n",
    "image"
   ]
  },
  {
   "cell_type": "code",
   "execution_count": 8,
   "metadata": {},
   "outputs": [
    {
     "data": {
      "text/plain": [
       "(60, 40)"
      ]
     },
     "execution_count": 8,
     "metadata": {},
     "output_type": "execute_result"
    }
   ],
   "source": [
    "image.size"
   ]
  },
  {
   "cell_type": "code",
   "execution_count": 9,
   "metadata": {},
   "outputs": [
    {
     "data": {
      "text/plain": [
       "(40, 60, 3)"
      ]
     },
     "execution_count": 9,
     "metadata": {},
     "output_type": "execute_result"
    }
   ],
   "source": [
    "data = camera.getData()\n",
    "data.shape"
   ]
  },
  {
   "cell_type": "code",
   "execution_count": 10,
   "metadata": {},
   "outputs": [],
   "source": [
    "robot.move(0.50, 0.35)"
   ]
  },
  {
   "cell_type": "code",
   "execution_count": 11,
   "metadata": {},
   "outputs": [],
   "source": [
    "sim.step()"
   ]
  },
  {
   "cell_type": "code",
   "execution_count": 12,
   "metadata": {},
   "outputs": [],
   "source": [
    "def random_action():\n",
    "    \"\"\"Generate a random action from a limited set of possible settings\"\"\"\n",
    "    possible = [-1.0, -0.5, 0.0, 0.5, 1.0]\n",
    "    return [random.choice(possible), random.choice(possible)]\n",
    "\n",
    "def get_senses(robot):\n",
    "    light = robot[\"light\"].getData()\n",
    "    sonar = [v/3.0 for v in robot[\"sonar\"].getData()]\n",
    "    camera = robot[\"camera\"].getData()\n",
    "    return [light, sonar, camera]"
   ]
  },
  {
   "cell_type": "code",
   "execution_count": 13,
   "metadata": {},
   "outputs": [
    {
     "data": {
      "text/plain": [
       "[2, 16, 40]"
      ]
     },
     "execution_count": 13,
     "metadata": {},
     "output_type": "execute_result"
    }
   ],
   "source": [
    "senses = get_senses(robot)\n",
    "list(map(len, senses))"
   ]
  },
  {
   "cell_type": "code",
   "execution_count": 14,
   "metadata": {},
   "outputs": [],
   "source": [
    "def brain(robot):\n",
    "    senses = get_senses(robot)\n",
    "    net.propagate(senses)\n",
    "    translate, rotate = random_action()\n",
    "    #self.move(translate, rotate)\n",
    "    robot.move(0.50, 0.35)"
   ]
  },
  {
   "cell_type": "code",
   "execution_count": 15,
   "metadata": {},
   "outputs": [],
   "source": [
    "robot.brain = brain"
   ]
  },
  {
   "cell_type": "code",
   "execution_count": 16,
   "metadata": {},
   "outputs": [
    {
     "name": "stderr",
     "output_type": "stream",
     "text": [
      "conx, version 3.4.3\n",
      "Using Theano backend.\n"
     ]
    }
   ],
   "source": [
    "from conx import Network, Layer, FlattenLayer, SGD, ImageLayer, Conv2DLayer\n",
    "import numpy as np"
   ]
  },
  {
   "cell_type": "code",
   "execution_count": 17,
   "metadata": {},
   "outputs": [],
   "source": [
    "net = Network(\"Robot Prediction Network\")\n",
    "net.add(Layer(\"light\", 2))\n",
    "net.add(Layer(\"sonar\", 16))\n",
    "net.add(ImageLayer(\"camera\", (40,60), 3))\n",
    "net.add(FlattenLayer(\"flatten\"))\n",
    "net.add(Conv2DLayer(\"conv\", 16, (3,3)))\n",
    "net.add(Layer(\"hidden\", 50, activation=\"relu\"))\n",
    "net.add(Layer(\"output1\", 2, activation=\"sigmoid\"))\n",
    "net.add(Layer(\"hidden2\", 5, activation=\"sigmoid\"))\n",
    "net.add(Layer(\"hidden3\", 10, activation=\"sigmoid\", dropout=0.25))\n",
    "net.add(Layer(\"hidden4\", 10, activation=\"sigmoid\"))\n",
    "net.add(Layer(\"output2\", 5, activation=\"sigmoid\"))"
   ]
  },
  {
   "cell_type": "code",
   "execution_count": 18,
   "metadata": {},
   "outputs": [],
   "source": [
    "net.connect(\"sonar\", \"hidden2\")\n",
    "net.connect(\"light\", \"hidden\")\n",
    "net.connect(\"camera\", \"conv\")\n",
    "net.connect(\"conv\", \"flatten\")\n",
    "net.connect(\"flatten\", \"hidden2\")\n",
    "net.connect(\"hidden\", \"hidden2\")\n",
    "net.connect(\"hidden2\", \"hidden3\")\n",
    "##net.connect(\"hidden2\", \"output2\")\n",
    "net.connect(\"hidden3\", \"output2\")\n",
    "net.connect(\"hidden3\", \"hidden4\")\n",
    "net.connect(\"hidden4\", \"output1\")"
   ]
  },
  {
   "cell_type": "code",
   "execution_count": 19,
   "metadata": {},
   "outputs": [],
   "source": [
    "net.compile(optimizer=\"adam\", error=\"mse\")\n",
    "#net.config[\"hspace\"] = 200"
   ]
  },
  {
   "cell_type": "code",
   "execution_count": 20,
   "metadata": {},
   "outputs": [
    {
     "data": {
      "application/javascript": [
       "\n",
       "require(['base/js/namespace'], function(Jupyter) {\n",
       "    Jupyter.notebook.kernel.comm_manager.register_target('conx_svg_control', function(comm, msg) {\n",
       "        comm.on_msg(function(msg) {\n",
       "            var data = msg[\"content\"][\"data\"];\n",
       "            var images = document.getElementsByClassName(data[\"class\"]);\n",
       "            for (var i = 0; i < images.length; i++) {\n",
       "                if (data[\"href\"]) {\n",
       "                    images[i].setAttributeNS(null, \"href\", data[\"href\"]);\n",
       "                }\n",
       "                if (data[\"src\"]) {\n",
       "                    images[i].setAttributeNS(null, \"src\", data[\"src\"]);\n",
       "                }\n",
       "            }\n",
       "        });\n",
       "    });\n",
       "});\n"
      ],
      "text/plain": [
       "<IPython.core.display.Javascript object>"
      ]
     },
     "metadata": {},
     "output_type": "display_data"
    },
    {
     "data": {
      "text/html": [
       "<svg id='Robot Prediction Network' xmlns='http://www.w3.org/2000/svg' viewBox=\"0 0 950 659\" max-width=\"100%\" height=\"780px\" image-rendering=\"pixelated\">\n",
       "    <defs>\n",
       "        <marker id=\"arrow\" markerWidth=\"10\" markerHeight=\"10\" refX=\"9\" refY=\"3\" orient=\"auto\" markerUnits=\"strokeWidth\">\n",
       "          <path d=\"M0,0 L0,6 L9,3 z\" fill=\"black\" />\n",
       "        </marker>\n",
       "    </defs><text x=\"475.0\" y=\"12.5\" font-family=\"monospace\" font-size=\"15\" text-anchor=\"middle\" alignment-baseline=\"central\">Robot Prediction Network</text><rect x=\"265.6666666666667\" y=\"24\" width=\"102\" height=\"52\" style=\"fill:none;stroke:black;stroke-width:2\"/><image id=\"Robot Prediction Network_output1_1\" class=\"Robot Prediction Network_output1\" x=\"266.6666666666667\" y=\"25\" height=\"50\" width=\"100\" preserveAspectRatio=\"none\" href=\"data:image/gif;base64,R0lGODdhAgABAIcAABAQ/0lJ/wAAAAAAAAAAAAAAAAAAAAAAAAAAAAAAAAAAAAAAAAAAAAAAAAAAAAAAAAAAAAAAAAAAAAAAAAAAAAAAAAAAAAAAAAAAAAAAAAAAAAAAAAAAAAAAAAAAAAAAAAAAAAAAAAAAAAAAAAAAAAAAAAAAAAAAAAAAAAAAAAAAAAAAAAAAAAAAAAAAAAAAAAAAAAAAAAAAAAAAAAAAAAAAAAAAAAAAAAAAAAAAAAAAAAAAAAAAAAAAAAAAAAAAAAAAAAAAAAAAAAAAAAAAAAAAAAAAAAAAAAAAAAAAAAAAAAAAAAAAAAAAAAAAAAAAAAAAAAAAAAAAAAAAAAAAAAAAAAAAAAAAAAAAAAAAAAAAAAAAAAAAAAAAAAAAAAAAAAAAAAAAAAAAAAAAAAAAAAAAAAAAAAAAAAAAAAAAAAAAAAAAAAAAAAAAAAAAAAAAAAAAAAAAAAAAAAAAAAAAAAAAAAAAAAAAAAAAAAAAAAAAAAAAAAAAAAAAAAAAAAAAAAAAAAAAAAAAAAAAAAAAAAAAAAAAAAAAAAAAAAAAAAAAAAAAAAAAAAAAAAAAAAAAAAAAAAAAAAAAAAAAAAAAAAAAAAAAAAAAAAAAAAAAAAAAAAAAAAAAAAAAAAAAAAAAAAAAAAAAAAAAAAAAAAAAAAAAAAAAAAAAAAAAAAAAAAAAAAAAAAAAAAAAAAAAAAAAAAAAAAAAAAAAAAAAAAAAAAAAAAAAAAAAAAAAAAAAAAAAAAAAAAAAAAAAAAAAAAAAAAAAAAAAAAAAAAAAAAAAAAAAAAAAAAAAAAAAAAAAAAAAAAAAAAAAAAAAAAAAAAAAAAAAAAAAAAAAAAAAAAAAAAAAAAAAAAAAAAAAAAAAAAAAAAAAAAAAAAAAAAAAAAAAAAAAAAAAAAAAAAAAAAAAAAAAAAAAAAAAAAAAAAAAAAAAAAAAAAAAAAAAAAAAAAAAAAAAAAAAAAAAAAAAAAAAAAAAAAAAAAAAAAAAAAAAAAAAAAAAAAAAAAAAAAAAAAAAACwAAAAAAgABAAAIBQABBAgIADs=\"><title>Layer: output1 (output)\n",
       " shape = (2,)\n",
       " Keras class = Dense\n",
       " activation = sigmoid</title></image><text x=\"371.6666666666667\" y=\"52.0\" font-family=\"monospace\" font-size=\"12\" text-anchor=\"start\" alignment-baseline=\"central\">output1</text><rect x=\"532.3333333333334\" y=\"24\" width=\"202\" height=\"42\" style=\"fill:none;stroke:black;stroke-width:2\"/><image id=\"Robot Prediction Network_output2_2\" class=\"Robot Prediction Network_output2\" x=\"533.3333333333334\" y=\"25\" height=\"40\" width=\"200\" preserveAspectRatio=\"none\" href=\"data:image/gif;base64,R0lGODdhBQABAIcAAF1d/wAA7B0d/0lJ/wAAAAAAAAAAAAAAAAAAAAAAAAAAAAAAAAAAAAAAAAAAAAAAAAAAAAAAAAAAAAAAAAAAAAAAAAAAAAAAAAAAAAAAAAAAAAAAAAAAAAAAAAAAAAAAAAAAAAAAAAAAAAAAAAAAAAAAAAAAAAAAAAAAAAAAAAAAAAAAAAAAAAAAAAAAAAAAAAAAAAAAAAAAAAAAAAAAAAAAAAAAAAAAAAAAAAAAAAAAAAAAAAAAAAAAAAAAAAAAAAAAAAAAAAAAAAAAAAAAAAAAAAAAAAAAAAAAAAAAAAAAAAAAAAAAAAAAAAAAAAAAAAAAAAAAAAAAAAAAAAAAAAAAAAAAAAAAAAAAAAAAAAAAAAAAAAAAAAAAAAAAAAAAAAAAAAAAAAAAAAAAAAAAAAAAAAAAAAAAAAAAAAAAAAAAAAAAAAAAAAAAAAAAAAAAAAAAAAAAAAAAAAAAAAAAAAAAAAAAAAAAAAAAAAAAAAAAAAAAAAAAAAAAAAAAAAAAAAAAAAAAAAAAAAAAAAAAAAAAAAAAAAAAAAAAAAAAAAAAAAAAAAAAAAAAAAAAAAAAAAAAAAAAAAAAAAAAAAAAAAAAAAAAAAAAAAAAAAAAAAAAAAAAAAAAAAAAAAAAAAAAAAAAAAAAAAAAAAAAAAAAAAAAAAAAAAAAAAAAAAAAAAAAAAAAAAAAAAAAAAAAAAAAAAAAAAAAAAAAAAAAAAAAAAAAAAAAAAAAAAAAAAAAAAAAAAAAAAAAAAAAAAAAAAAAAAAAAAAAAAAAAAAAAAAAAAAAAAAAAAAAAAAAAAAAAAAAAAAAAAAAAAAAAAAAAAAAAAAAAAAAAAAAAAAAAAAAAAAAAAAAAAAAAAAAAAAAAAAAAAAAAAAAAAAAAAAAAAAAAAAAAAAAAAAAAAAAAAAAAAAAAAAAAAAAAAAAAAAAAAAAAAAAAAAAAAAAAAAAAAAAAAAAAAAAAAAAAAAAAAAAAAAAAAAAAAAAAAAAAAAAAAAAAAAAAAAAAAAAAAAAAAAAACwAAAAABQABAAAICAAFDAgAAEBAADs=\"><title>Layer: output2 (output)\n",
       " shape = (5,)\n",
       " Keras class = Dense\n",
       " activation = sigmoid</title></image><text x=\"738.3333333333334\" y=\"47.0\" font-family=\"monospace\" font-size=\"12\" text-anchor=\"start\" alignment-baseline=\"central\">output2</text><line x1=\"316.6666666666667\" y1=\"104\" x2=\"316.6666666666667\" y2=\"77\" stroke=\"black\" stroke-width=\"2\" marker-end=\"url(#arrow)\"><title>Weights from hidden4 to output1\n",
       " output1/kernel has shape (10, 2)\n",
       " output1/bias has shape (2,)</title></line><rect x=\"215.66666666666669\" y=\"104\" width=\"202\" height=\"27\" style=\"fill:none;stroke:black;stroke-width:2\"/><image id=\"Robot Prediction Network_hidden4_3\" class=\"Robot Prediction Network_hidden4\" x=\"216.66666666666669\" y=\"105\" height=\"25\" width=\"200\" preserveAspectRatio=\"none\" href=\"data:image/gif;base64,R0lGODdhCgABAIcAAAAA+R0d/0dH/1dX/wAAzYSE/wAAAAAAAAAAAAAAAAAAAAAAAAAAAAAAAAAAAAAAAAAAAAAAAAAAAAAAAAAAAAAAAAAAAAAAAAAAAAAAAAAAAAAAAAAAAAAAAAAAAAAAAAAAAAAAAAAAAAAAAAAAAAAAAAAAAAAAAAAAAAAAAAAAAAAAAAAAAAAAAAAAAAAAAAAAAAAAAAAAAAAAAAAAAAAAAAAAAAAAAAAAAAAAAAAAAAAAAAAAAAAAAAAAAAAAAAAAAAAAAAAAAAAAAAAAAAAAAAAAAAAAAAAAAAAAAAAAAAAAAAAAAAAAAAAAAAAAAAAAAAAAAAAAAAAAAAAAAAAAAAAAAAAAAAAAAAAAAAAAAAAAAAAAAAAAAAAAAAAAAAAAAAAAAAAAAAAAAAAAAAAAAAAAAAAAAAAAAAAAAAAAAAAAAAAAAAAAAAAAAAAAAAAAAAAAAAAAAAAAAAAAAAAAAAAAAAAAAAAAAAAAAAAAAAAAAAAAAAAAAAAAAAAAAAAAAAAAAAAAAAAAAAAAAAAAAAAAAAAAAAAAAAAAAAAAAAAAAAAAAAAAAAAAAAAAAAAAAAAAAAAAAAAAAAAAAAAAAAAAAAAAAAAAAAAAAAAAAAAAAAAAAAAAAAAAAAAAAAAAAAAAAAAAAAAAAAAAAAAAAAAAAAAAAAAAAAAAAAAAAAAAAAAAAAAAAAAAAAAAAAAAAAAAAAAAAAAAAAAAAAAAAAAAAAAAAAAAAAAAAAAAAAAAAAAAAAAAAAAAAAAAAAAAAAAAAAAAAAAAAAAAAAAAAAAAAAAAAAAAAAAAAAAAAAAAAAAAAAAAAAAAAAAAAAAAAAAAAAAAAAAAAAAAAAAAAAAAAAAAAAAAAAAAAAAAAAAAAAAAAAAAAAAAAAAAAAAAAAAAAAAAAAAAAAAAAAAAAAAAAAAAAAAAAAAAAAAAAAAAAAAAAAAAAAAAAAAAAAAAAAAAAAAAAAAAAAAAAAAAAAAAAAAAAAAAAAAAAAAAAAAAAAAAAAAAAAAAAAAAACwAAAAACgABAAAIDgAHBABQIIAAAgIGAAgIADs=\"><title>Layer: hidden4 (hidden)\n",
       " shape = (10,)\n",
       " Keras class = Dense\n",
       " activation = sigmoid</title></image><text x=\"421.6666666666667\" y=\"119.5\" font-family=\"monospace\" font-size=\"12\" text-anchor=\"start\" alignment-baseline=\"central\">hidden4</text><line x1=\"633.3333333333334\" y1=\"105\" x2=\"633.3333333333334\" y2=\"65\" stroke=\"red\" stroke-width=\"2\" marker-end=\"url(#arrow)\"><title>Weights from hidden3 to output2\n",
       " output2/kernel has shape (10, 5)\n",
       " output2/bias has shape (5,)</title></line><line x1=\"475.0\" y1=\"159\" x2=\"633.3333333333334\" y2=\"105\" stroke=\"red\" stroke-width=\"2\"><title>Weights from hidden3 to output2\n",
       " output2/kernel has shape (10, 5)\n",
       " output2/bias has shape (5,)</title></line><line x1=\"475.0\" y1=\"159\" x2=\"316.6666666666667\" y2=\"132\" stroke=\"red\" stroke-width=\"2\" marker-end=\"url(#arrow)\"><title>Weights from hidden3 to hidden4\n",
       " hidden4/kernel has shape (10, 10)\n",
       " hidden4/bias has shape (10,)</title></line><rect x=\"374.0\" y=\"159\" width=\"202\" height=\"27\" style=\"fill:none;stroke:black;stroke-width:2\"/><image id=\"Robot Prediction Network_hidden3_4\" class=\"Robot Prediction Network_hidden3\" x=\"375.0\" y=\"160\" height=\"25\" width=\"200\" preserveAspectRatio=\"none\" href=\"data:image/gif;base64,R0lGODdhCgABAIcAAAQE+gAA0RgY/yAg/wAAAAAAAAAAAAAAAAAAAAAAAAAAAAAAAAAAAAAAAAAAAAAAAAAAAAAAAAAAAAAAAAAAAAAAAAAAAAAAAAAAAAAAAAAAAAAAAAAAAAAAAAAAAAAAAAAAAAAAAAAAAAAAAAAAAAAAAAAAAAAAAAAAAAAAAAAAAAAAAAAAAAAAAAAAAAAAAAAAAAAAAAAAAAAAAAAAAAAAAAAAAAAAAAAAAAAAAAAAAAAAAAAAAAAAAAAAAAAAAAAAAAAAAAAAAAAAAAAAAAAAAAAAAAAAAAAAAAAAAAAAAAAAAAAAAAAAAAAAAAAAAAAAAAAAAAAAAAAAAAAAAAAAAAAAAAAAAAAAAAAAAAAAAAAAAAAAAAAAAAAAAAAAAAAAAAAAAAAAAAAAAAAAAAAAAAAAAAAAAAAAAAAAAAAAAAAAAAAAAAAAAAAAAAAAAAAAAAAAAAAAAAAAAAAAAAAAAAAAAAAAAAAAAAAAAAAAAAAAAAAAAAAAAAAAAAAAAAAAAAAAAAAAAAAAAAAAAAAAAAAAAAAAAAAAAAAAAAAAAAAAAAAAAAAAAAAAAAAAAAAAAAAAAAAAAAAAAAAAAAAAAAAAAAAAAAAAAAAAAAAAAAAAAAAAAAAAAAAAAAAAAAAAAAAAAAAAAAAAAAAAAAAAAAAAAAAAAAAAAAAAAAAAAAAAAAAAAAAAAAAAAAAAAAAAAAAAAAAAAAAAAAAAAAAAAAAAAAAAAAAAAAAAAAAAAAAAAAAAAAAAAAAAAAAAAAAAAAAAAAAAAAAAAAAAAAAAAAAAAAAAAAAAAAAAAAAAAAAAAAAAAAAAAAAAAAAAAAAAAAAAAAAAAAAAAAAAAAAAAAAAAAAAAAAAAAAAAAAAAAAAAAAAAAAAAAAAAAAAAAAAAAAAAAAAAAAAAAAAAAAAAAAAAAAAAAAAAAAAAAAAAAAAAAAAAAAAAAAAAAAAAAAAAAAAAAAAAAAAAAAAAAAAAAAAAAAAAAAAAAAAAAAAAAAAAAAAAAAAAAAAAAAAACwAAAAACgABAAAIDQABDAAAIACAgwICBAQAOw==\"><title>Layer: hidden3 (hidden)\n",
       " shape = (10,)\n",
       " dropout = 0.25\n",
       " Keras class = Dense\n",
       " activation = sigmoid</title></image><text x=\"580.0\" y=\"174.5\" font-family=\"monospace\" font-size=\"12\" text-anchor=\"start\" alignment-baseline=\"central\">hidden3</text><line x1=\"475.0\" y1=\"214\" x2=\"475.0\" y2=\"187\" stroke=\"black\" stroke-width=\"2\" marker-end=\"url(#arrow)\"><title>Weights from hidden2 to hidden3\n",
       " hidden3/kernel has shape (5, 10)\n",
       " hidden3/bias has shape (10,)</title></line><rect x=\"374.0\" y=\"214\" width=\"202\" height=\"42\" style=\"fill:none;stroke:black;stroke-width:2\"/><image id=\"Robot Prediction Network_hidden2_5\" class=\"Robot Prediction Network_hidden2\" x=\"375.0\" y=\"215\" height=\"40\" width=\"200\" preserveAspectRatio=\"none\" href=\"data:image/gif;base64,R0lGODdhBQABAIcAAAAA/wAAAAAAAAAAAAAAAAAAAAAAAAAAAAAAAAAAAAAAAAAAAAAAAAAAAAAAAAAAAAAAAAAAAAAAAAAAAAAAAAAAAAAAAAAAAAAAAAAAAAAAAAAAAAAAAAAAAAAAAAAAAAAAAAAAAAAAAAAAAAAAAAAAAAAAAAAAAAAAAAAAAAAAAAAAAAAAAAAAAAAAAAAAAAAAAAAAAAAAAAAAAAAAAAAAAAAAAAAAAAAAAAAAAAAAAAAAAAAAAAAAAAAAAAAAAAAAAAAAAAAAAAAAAAAAAAAAAAAAAAAAAAAAAAAAAAAAAAAAAAAAAAAAAAAAAAAAAAAAAAAAAAAAAAAAAAAAAAAAAAAAAAAAAAAAAAAAAAAAAAAAAAAAAAAAAAAAAAAAAAAAAAAAAAAAAAAAAAAAAAAAAAAAAAAAAAAAAAAAAAAAAAAAAAAAAAAAAAAAAAAAAAAAAAAAAAAAAAAAAAAAAAAAAAAAAAAAAAAAAAAAAAAAAAAAAAAAAAAAAAAAAAAAAAAAAAAAAAAAAAAAAAAAAAAAAAAAAAAAAAAAAAAAAAAAAAAAAAAAAAAAAAAAAAAAAAAAAAAAAAAAAAAAAAAAAAAAAAAAAAAAAAAAAAAAAAAAAAAAAAAAAAAAAAAAAAAAAAAAAAAAAAAAAAAAAAAAAAAAAAAAAAAAAAAAAAAAAAAAAAAAAAAAAAAAAAAAAAAAAAAAAAAAAAAAAAAAAAAAAAAAAAAAAAAAAAAAAAAAAAAAAAAAAAAAAAAAAAAAAAAAAAAAAAAAAAAAAAAAAAAAAAAAAAAAAAAAAAAAAAAAAAAAAAAAAAAAAAAAAAAAAAAAAAAAAAAAAAAAAAAAAAAAAAAAAAAAAAAAAAAAAAAAAAAAAAAAAAAAAAAAAAAAAAAAAAAAAAAAAAAAAAAAAAAAAAAAAAAAAAAAAAAAAAAAAAAAAAAAAAAAAAAAAAAAAAAAAAAAAAAAAAAAAAAAAAAAAAAAAAAAAAAAAAAAAAAAAAAAAAAAAAAAAAAAAAAAAAAAACwAAAAABQABAAAIBgABCBQYEAA7\"><title>Layer: hidden2 (hidden)\n",
       " shape = (5,)\n",
       " Keras class = Dense\n",
       " activation = sigmoid</title></image><text x=\"580.0\" y=\"237.0\" font-family=\"monospace\" font-size=\"12\" text-anchor=\"start\" alignment-baseline=\"central\">hidden2</text><line x1=\"237.5\" y1=\"285\" x2=\"475.0\" y2=\"255\" stroke=\"black\" stroke-width=\"2\" marker-end=\"url(#arrow)\"><title>Weights from hidden to hidden2\n",
       " hidden2/kernel has shape (35330, 5)\n",
       " hidden2/bias has shape (5,)</title></line><line x1=\"475.0\" y1=\"285\" x2=\"475.0\" y2=\"255\" stroke=\"black\" stroke-width=\"2\" marker-end=\"url(#arrow)\"><title>Weights from sonar to hidden2\n",
       " hidden2/kernel has shape (35330, 5)\n",
       " hidden2/bias has shape (5,)</title></line><line x1=\"712.5\" y1=\"284\" x2=\"475.0\" y2=\"257\" stroke=\"black\" stroke-width=\"2\" marker-end=\"url(#arrow)\"><title>Weights from flatten to hidden2\n",
       " hidden2/kernel has shape (35330, 5)\n",
       " hidden2/bias has shape (5,)</title></line><rect x=\"611.5\" y=\"284\" width=\"202\" height=\"27\" style=\"fill:none;stroke:black;stroke-width:2\"/><image id=\"Robot Prediction Network_flatten_6\" class=\"Robot Prediction Network_flatten\" x=\"612.5\" y=\"285\" height=\"25\" width=\"200\" preserveAspectRatio=\"none\" href=\"data:image/gif;base64,R0lGODdhwIkBAIcAAP/9/QAAAAAAAAAAAAAAAAAAAAAAAAAAAAAAAAAAAAAAAAAAAAAAAAAAAAAAAAAAAAAAAAAAAAAAAAAAAAAAAAAAAAAAAAAAAAAAAAAAAAAAAAAAAAAAAAAAAAAAAAAAAAAAAAAAAAAAAAAAAAAAAAAAAAAAAAAAAAAAAAAAAAAAAAAAAAAAAAAAAAAAAAAAAAAAAAAAAAAAAAAAAAAAAAAAAAAAAAAAAAAAAAAAAAAAAAAAAAAAAAAAAAAAAAAAAAAAAAAAAAAAAAAAAAAAAAAAAAAAAAAAAAAAAAAAAAAAAAAAAAAAAAAAAAAAAAAAAAAAAAAAAAAAAAAAAAAAAAAAAAAAAAAAAAAAAAAAAAAAAAAAAAAAAAAAAAAAAAAAAAAAAAAAAAAAAAAAAAAAAAAAAAAAAAAAAAAAAAAAAAAAAAAAAAAAAAAAAAAAAAAAAAAAAAAAAAAAAAAAAAAAAAAAAAAAAAAAAAAAAAAAAAAAAAAAAAAAAAAAAAAAAAAAAAAAAAAAAAAAAAAAAAAAAAAAAAAAAAAAAAAAAAAAAAAAAAAAAAAAAAAAAAAAAAAAAAAAAAAAAAAAAAAAAAAAAAAAAAAAAAAAAAAAAAAAAAAAAAAAAAAAAAAAAAAAAAAAAAAAAAAAAAAAAAAAAAAAAAAAAAAAAAAAAAAAAAAAAAAAAAAAAAAAAAAAAAAAAAAAAAAAAAAAAAAAAAAAAAAAAAAAAAAAAAAAAAAAAAAAAAAAAAAAAAAAAAAAAAAAAAAAAAAAAAAAAAAAAAAAAAAAAAAAAAAAAAAAAAAAAAAAAAAAAAAAAAAAAAAAAAAAAAAAAAAAAAAAAAAAAAAAAAAAAAAAAAAAAAAAAAAAAAAAAAAAAAAAAAAAAAAAAAAAAAAAAAAAAAAAAAAAAAAAAAAAAAAAAAAAAAAAAAAAAAAAAAAAAAAAAAAAAAAAAAAAAAAAAAAAAAAAAAAAAAAAAAAAAAAAAAAAAAAAAAAAAAAAAAAAAAAAAAAAAAAAAAAAAAAAACwAAAAAwIkBAAAI/wABCBxIsKDBgwgTKlzIsKHDhxAjSpxIsaLFixgzatzIsaPHjyBDihxJsqTJkyhTqlzJsqXLlzBjypxJs6bNmzhz6tzJs6fPn0CDCh1KtKjRo0iTKl3KtKnTp1CjSp1KtarVq1izat3KtavXr2DDih1LtqzZs2jTql3Ltq3bt3Djyp1Lt67du3jz6t3Lt6/fv4ADCx5MuLDhw4gTK17MuLHjx5AjS55MubLly5gza97MubPnz6BDix5NurTp06hTq17NurXr17Bjy55Nu7bt27hz697Nu7fv38CDCx9OvLjx48iTK1/OvLnz59CjS59Ovbr169iza9/Ovbv37+DDi3gfT768+fPo06tfz769+/fw48ufT7++/fv48+vfz7+/f4AABA4kWNDgQYQJFS5k2NDhQ4gRJU6kWNHiRYwZNW7k2NHjR5AhRY4kWdLkSZQpVa5k2dLlS5gxZc6kWdPmTZw5de7k2dPnT6BBhQ4lWtToUaRJlS7tGBAAOw==\"><title>Layer: flatten (hidden)\n",
       " Keras class = Flatten</title></image><text x=\"817.5\" y=\"299.5\" font-family=\"monospace\" font-size=\"12\" text-anchor=\"start\" alignment-baseline=\"central\">flatten</text><line x1=\"237.5\" y1=\"339\" x2=\"237.5\" y2=\"285\" stroke=\"black\" stroke-width=\"2\"><title>Weights from hidden to hidden2\n",
       " hidden2/kernel has shape (35330, 5)\n",
       " hidden2/bias has shape (5,)</title></line><rect x=\"136.5\" y=\"339\" width=\"202\" height=\"27\" style=\"fill:none;stroke:black;stroke-width:2\"/><image id=\"Robot Prediction Network_hidden_7\" class=\"Robot Prediction Network_hidden\" x=\"137.5\" y=\"340\" height=\"25\" width=\"200\" preserveAspectRatio=\"none\" href=\"data:image/gif;base64,R0lGODdhMgABAIcAAP/9/QAAAAAAAAAAAAAAAAAAAAAAAAAAAAAAAAAAAAAAAAAAAAAAAAAAAAAAAAAAAAAAAAAAAAAAAAAAAAAAAAAAAAAAAAAAAAAAAAAAAAAAAAAAAAAAAAAAAAAAAAAAAAAAAAAAAAAAAAAAAAAAAAAAAAAAAAAAAAAAAAAAAAAAAAAAAAAAAAAAAAAAAAAAAAAAAAAAAAAAAAAAAAAAAAAAAAAAAAAAAAAAAAAAAAAAAAAAAAAAAAAAAAAAAAAAAAAAAAAAAAAAAAAAAAAAAAAAAAAAAAAAAAAAAAAAAAAAAAAAAAAAAAAAAAAAAAAAAAAAAAAAAAAAAAAAAAAAAAAAAAAAAAAAAAAAAAAAAAAAAAAAAAAAAAAAAAAAAAAAAAAAAAAAAAAAAAAAAAAAAAAAAAAAAAAAAAAAAAAAAAAAAAAAAAAAAAAAAAAAAAAAAAAAAAAAAAAAAAAAAAAAAAAAAAAAAAAAAAAAAAAAAAAAAAAAAAAAAAAAAAAAAAAAAAAAAAAAAAAAAAAAAAAAAAAAAAAAAAAAAAAAAAAAAAAAAAAAAAAAAAAAAAAAAAAAAAAAAAAAAAAAAAAAAAAAAAAAAAAAAAAAAAAAAAAAAAAAAAAAAAAAAAAAAAAAAAAAAAAAAAAAAAAAAAAAAAAAAAAAAAAAAAAAAAAAAAAAAAAAAAAAAAAAAAAAAAAAAAAAAAAAAAAAAAAAAAAAAAAAAAAAAAAAAAAAAAAAAAAAAAAAAAAAAAAAAAAAAAAAAAAAAAAAAAAAAAAAAAAAAAAAAAAAAAAAAAAAAAAAAAAAAAAAAAAAAAAAAAAAAAAAAAAAAAAAAAAAAAAAAAAAAAAAAAAAAAAAAAAAAAAAAAAAAAAAAAAAAAAAAAAAAAAAAAAAAAAAAAAAAAAAAAAAAAAAAAAAAAAAAAAAAAAAAAAAAAAAAAAAAAAAAAAAAAAAAAAAAAAAAAAAAAAAAAAAAAAAAAAAAAAAAAAAAAAAAAAAAAAAAAAAAAAAAAAAAAAAAAAAACwAAAAAMgABAAAIDgABCBxIsKDBgwgTFgwIADs=\"><title>Layer: hidden (hidden)\n",
       " shape = (50,)\n",
       " Keras class = Dense\n",
       " activation = relu</title></image><text x=\"342.5\" y=\"354.5\" font-family=\"monospace\" font-size=\"12\" text-anchor=\"start\" alignment-baseline=\"central\">hidden</text><line x1=\"475.0\" y1=\"340\" x2=\"475.0\" y2=\"285\" stroke=\"black\" stroke-width=\"2\"><title>Weights from sonar to hidden2\n",
       " hidden2/kernel has shape (35330, 5)\n",
       " hidden2/bias has shape (5,)</title></line><line x1=\"712.5\" y1=\"339\" x2=\"712.5\" y2=\"312\" stroke=\"black\" stroke-width=\"2\" marker-end=\"url(#arrow)\"><title>Weights from conv to flatten</title></line><rect x=\"611.5\" y=\"339\" width=\"202\" height=\"133\" style=\"fill:none;stroke:black;stroke-width:2\"/><image id=\"Robot Prediction Network_conv_8\" class=\"Robot Prediction Network_conv\" x=\"612.5\" y=\"340\" height=\"131\" width=\"200\" preserveAspectRatio=\"none\" href=\"data:image/gif;base64,R0lGODdhOgAmAIcAAP/9/QAAAAAAAAAAAAAAAAAAAAAAAAAAAAAAAAAAAAAAAAAAAAAAAAAAAAAAAAAAAAAAAAAAAAAAAAAAAAAAAAAAAAAAAAAAAAAAAAAAAAAAAAAAAAAAAAAAAAAAAAAAAAAAAAAAAAAAAAAAAAAAAAAAAAAAAAAAAAAAAAAAAAAAAAAAAAAAAAAAAAAAAAAAAAAAAAAAAAAAAAAAAAAAAAAAAAAAAAAAAAAAAAAAAAAAAAAAAAAAAAAAAAAAAAAAAAAAAAAAAAAAAAAAAAAAAAAAAAAAAAAAAAAAAAAAAAAAAAAAAAAAAAAAAAAAAAAAAAAAAAAAAAAAAAAAAAAAAAAAAAAAAAAAAAAAAAAAAAAAAAAAAAAAAAAAAAAAAAAAAAAAAAAAAAAAAAAAAAAAAAAAAAAAAAAAAAAAAAAAAAAAAAAAAAAAAAAAAAAAAAAAAAAAAAAAAAAAAAAAAAAAAAAAAAAAAAAAAAAAAAAAAAAAAAAAAAAAAAAAAAAAAAAAAAAAAAAAAAAAAAAAAAAAAAAAAAAAAAAAAAAAAAAAAAAAAAAAAAAAAAAAAAAAAAAAAAAAAAAAAAAAAAAAAAAAAAAAAAAAAAAAAAAAAAAAAAAAAAAAAAAAAAAAAAAAAAAAAAAAAAAAAAAAAAAAAAAAAAAAAAAAAAAAAAAAAAAAAAAAAAAAAAAAAAAAAAAAAAAAAAAAAAAAAAAAAAAAAAAAAAAAAAAAAAAAAAAAAAAAAAAAAAAAAAAAAAAAAAAAAAAAAAAAAAAAAAAAAAAAAAAAAAAAAAAAAAAAAAAAAAAAAAAAAAAAAAAAAAAAAAAAAAAAAAAAAAAAAAAAAAAAAAAAAAAAAAAAAAAAAAAAAAAAAAAAAAAAAAAAAAAAAAAAAAAAAAAAAAAAAAAAAAAAAAAAAAAAAAAAAAAAAAAAAAAAAAAAAAAAAAAAAAAAAAAAAAAAAAAAAAAAAAAAAAAAAAAAAAAAAAAAAAAAAAAAAAAAAAAAAAAAAAAAAAAAAAAAAAAAACwAAAAAOgAmAEAITQABCBxIsKDBgwgTKlzIsKHDhxAjSpxIsaLFixgzatzIsaPHjyBDihxJsqTJkyhTqlzJsqXLlzBjypxJs6bNmzhz6tzJs6fPn0CD7gwIADs=\"><title>Layer: conv (hidden)\n",
       " Keras class = Conv2D</title></image><text x=\"817.5\" y=\"407.5\" font-family=\"monospace\" font-size=\"12\" text-anchor=\"start\" alignment-baseline=\"central\">conv</text><text x=\"817.5\" y=\"345\" font-family=\"monospace\" font-size=\"12\" text-anchor=\"start\" alignment-baseline=\"central\">16</text><text x=\"600.5\" y=\"466\" font-family=\"monospace\" font-size=\"12\" text-anchor=\"start\" alignment-baseline=\"central\">0</text><line x1=\"237.5\" y1=\"500\" x2=\"237.5\" y2=\"367\" stroke=\"black\" stroke-width=\"2\" marker-end=\"url(#arrow)\"><title>Weights from light to hidden\n",
       " hidden/kernel has shape (2, 50)\n",
       " hidden/bias has shape (50,)</title></line><rect x=\"186.5\" y=\"500\" width=\"102\" height=\"52\" style=\"fill:none;stroke:black;stroke-width:2\"/><image id=\"Robot Prediction Network_light_9\" class=\"Robot Prediction Network_light\" x=\"187.5\" y=\"501\" height=\"50\" width=\"100\" preserveAspectRatio=\"none\" href=\"data:image/gif;base64,R0lGODdhAgABAIcAAP/9/QAAAAAAAAAAAAAAAAAAAAAAAAAAAAAAAAAAAAAAAAAAAAAAAAAAAAAAAAAAAAAAAAAAAAAAAAAAAAAAAAAAAAAAAAAAAAAAAAAAAAAAAAAAAAAAAAAAAAAAAAAAAAAAAAAAAAAAAAAAAAAAAAAAAAAAAAAAAAAAAAAAAAAAAAAAAAAAAAAAAAAAAAAAAAAAAAAAAAAAAAAAAAAAAAAAAAAAAAAAAAAAAAAAAAAAAAAAAAAAAAAAAAAAAAAAAAAAAAAAAAAAAAAAAAAAAAAAAAAAAAAAAAAAAAAAAAAAAAAAAAAAAAAAAAAAAAAAAAAAAAAAAAAAAAAAAAAAAAAAAAAAAAAAAAAAAAAAAAAAAAAAAAAAAAAAAAAAAAAAAAAAAAAAAAAAAAAAAAAAAAAAAAAAAAAAAAAAAAAAAAAAAAAAAAAAAAAAAAAAAAAAAAAAAAAAAAAAAAAAAAAAAAAAAAAAAAAAAAAAAAAAAAAAAAAAAAAAAAAAAAAAAAAAAAAAAAAAAAAAAAAAAAAAAAAAAAAAAAAAAAAAAAAAAAAAAAAAAAAAAAAAAAAAAAAAAAAAAAAAAAAAAAAAAAAAAAAAAAAAAAAAAAAAAAAAAAAAAAAAAAAAAAAAAAAAAAAAAAAAAAAAAAAAAAAAAAAAAAAAAAAAAAAAAAAAAAAAAAAAAAAAAAAAAAAAAAAAAAAAAAAAAAAAAAAAAAAAAAAAAAAAAAAAAAAAAAAAAAAAAAAAAAAAAAAAAAAAAAAAAAAAAAAAAAAAAAAAAAAAAAAAAAAAAAAAAAAAAAAAAAAAAAAAAAAAAAAAAAAAAAAAAAAAAAAAAAAAAAAAAAAAAAAAAAAAAAAAAAAAAAAAAAAAAAAAAAAAAAAAAAAAAAAAAAAAAAAAAAAAAAAAAAAAAAAAAAAAAAAAAAAAAAAAAAAAAAAAAAAAAAAAAAAAAAAAAAAAAAAAAAAAAAAAAAAAAAAAAAAAAAAAAAAAAAAAAAAAAAAAAAAAAAAAAAAAAAAAAAAAACwAAAAAAgABAAAIBQABAAgIADs=\"><title>Layer: light (input)\n",
       " shape = (2,)\n",
       " Keras class = Input</title></image><text x=\"292.5\" y=\"528.0\" font-family=\"monospace\" font-size=\"12\" text-anchor=\"start\" alignment-baseline=\"central\">light</text><line x1=\"475.0\" y1=\"500\" x2=\"475.0\" y2=\"340\" stroke=\"black\" stroke-width=\"2\"><title>Weights from sonar to hidden2\n",
       " hidden2/kernel has shape (35330, 5)\n",
       " hidden2/bias has shape (5,)</title></line><rect x=\"374.0\" y=\"500\" width=\"202\" height=\"27\" style=\"fill:none;stroke:black;stroke-width:2\"/><image id=\"Robot Prediction Network_sonar_10\" class=\"Robot Prediction Network_sonar\" x=\"375.0\" y=\"501\" height=\"25\" width=\"200\" preserveAspectRatio=\"none\" href=\"data:image/gif;base64,R0lGODdhEAABAIcAAP/9/QAAAAAAAAAAAAAAAAAAAAAAAAAAAAAAAAAAAAAAAAAAAAAAAAAAAAAAAAAAAAAAAAAAAAAAAAAAAAAAAAAAAAAAAAAAAAAAAAAAAAAAAAAAAAAAAAAAAAAAAAAAAAAAAAAAAAAAAAAAAAAAAAAAAAAAAAAAAAAAAAAAAAAAAAAAAAAAAAAAAAAAAAAAAAAAAAAAAAAAAAAAAAAAAAAAAAAAAAAAAAAAAAAAAAAAAAAAAAAAAAAAAAAAAAAAAAAAAAAAAAAAAAAAAAAAAAAAAAAAAAAAAAAAAAAAAAAAAAAAAAAAAAAAAAAAAAAAAAAAAAAAAAAAAAAAAAAAAAAAAAAAAAAAAAAAAAAAAAAAAAAAAAAAAAAAAAAAAAAAAAAAAAAAAAAAAAAAAAAAAAAAAAAAAAAAAAAAAAAAAAAAAAAAAAAAAAAAAAAAAAAAAAAAAAAAAAAAAAAAAAAAAAAAAAAAAAAAAAAAAAAAAAAAAAAAAAAAAAAAAAAAAAAAAAAAAAAAAAAAAAAAAAAAAAAAAAAAAAAAAAAAAAAAAAAAAAAAAAAAAAAAAAAAAAAAAAAAAAAAAAAAAAAAAAAAAAAAAAAAAAAAAAAAAAAAAAAAAAAAAAAAAAAAAAAAAAAAAAAAAAAAAAAAAAAAAAAAAAAAAAAAAAAAAAAAAAAAAAAAAAAAAAAAAAAAAAAAAAAAAAAAAAAAAAAAAAAAAAAAAAAAAAAAAAAAAAAAAAAAAAAAAAAAAAAAAAAAAAAAAAAAAAAAAAAAAAAAAAAAAAAAAAAAAAAAAAAAAAAAAAAAAAAAAAAAAAAAAAAAAAAAAAAAAAAAAAAAAAAAAAAAAAAAAAAAAAAAAAAAAAAAAAAAAAAAAAAAAAAAAAAAAAAAAAAAAAAAAAAAAAAAAAAAAAAAAAAAAAAAAAAAAAAAAAAAAAAAAAAAAAAAAAAAAAAAAAAAAAAAAAAAAAAAAAAAAAAAAAAAAAAAAAAAAAAAAAAAAAAAAAAAAAAAAAAAAAAAAAAAACwAAAAAEAABAAAICQABCBxIsCCAgAA7\"><title>Layer: sonar (input)\n",
       " shape = (16,)\n",
       " Keras class = Input</title></image><text x=\"580.0\" y=\"515.5\" font-family=\"monospace\" font-size=\"12\" text-anchor=\"start\" alignment-baseline=\"central\">sonar</text><line x1=\"712.5\" y1=\"500\" x2=\"712.5\" y2=\"473\" stroke=\"black\" stroke-width=\"2\" marker-end=\"url(#arrow)\"><title>Weights from camera to conv\n",
       " conv/kernel has shape (3, 3, 3, 16)\n",
       " conv/bias has shape (16,)</title></line><rect x=\"611.5\" y=\"500\" width=\"202\" height=\"135\" style=\"fill:none;stroke:black;stroke-width:2\"/><image id=\"Robot Prediction Network_camera_11\" class=\"Robot Prediction Network_camera\" x=\"612.5\" y=\"501\" height=\"133\" width=\"200\" preserveAspectRatio=\"none\" href=\"data:image/gif;base64,R0lGODdhPAAoAIcAAAAAAAAAAAAAAAAAAAAAAAAAAAAAAAAAAAAAAAAAAAAAAAAAAAAAAAAAAAAAAAAAAAAAAAAAAAAAAAAAAAAAAAAAAAAAAAAAAAAAAAAAAAAAAAAAAAAAAAAAAAAAAAAAAAAAAAAAAAAAAAAAAAAAAAAAAAAAAAAAAAAAAAAAAAAAAAAAAAAAAAAAAAAAAAAAAAAAAAAAAAAAAAAAAAAAAAAAAAAAAAAAAAAAAAAAAAAAAAAAAAAAAAAAAAAAAAAAAAAAAAAAAAAAAAAAAAAAAAAAAAAAAAAAAAAAAAAAAAAAAAAAAAAAAAAAAAAAAAAAAAAAAAAAAAAAAAAAAAAAAAAAAAAAAAAAAAAAAAAAAAAAAAAAAAAAAAAAAAAAAAAAAAAAAAAAAAAAAAAAAAAAAAAAAAAAAAAAAAAAAAAAAAAAAAAAAAAAAAAAAAAAAAAAAAAAAAAAAAAAAAAAAAAAAAAAAAAAAAAAAAAAAAAAAAAAAAAAAAAAAAAAAAAAAAAAAAAAAAAAAAAAAAAAAAAAAAAAAAAAAAAAAAAAAAAAAAAAAAAAAAAAAAAAAAAAAAAAAAAAAAAAAAAAAAAAAAAAAAAAAAAAAAAAAAAAAAAAAAAAAAAAAAAAAAAAAAAAAAAAAAAAAAAAAAAAAAAAAAAAAAAAAAAAAAAAAAAAAAAAAAAAAAAAAAAAAAAAAAAAAAAAAAAAAAAAAAAAAAAAAAAAAAAAAAAAAAAAAAAAAAAAAAAAAAAAAAAAAAAAAAAAAAAAAAAAAAAAAAAAAAAAAAAAAAAAAAAAAAAAAAAAAAAAAAAAAAAAAAAAAAAAAAAAAAAAAAAAAAAAAAAAAAAAAAAAAAAAAAAAAAAAAAAAAAAAAAAAAAAAAAAAAAAAAAAAAAAAAAAAAAAAAAAAAAAAAAAAAAAAAAAAAAAAAAAAAAAAAAAAAAAAAAAAAAAAAAAAAAAAAAAAAAAAAAAAAAAAAAAAAAAAAAAAAAAAAAAAAAAAAAAAAAAAAAAAAAAAAAAAAAAAACwAAAAAPAAoAEAIUAABCBxIsKDBgwgTKlzIsKHDhxAjSpxIsaLFixgzatzIsaPHjyBDihxJsqTJkyhTqlzJsqXLlzBjypxJs6bNmzhz6tzJs6fPn0CDCh1K1GZAADs=\"><title>Layer: camera (input)\n",
       " shape = (40, 60, 3)\n",
       " Keras class = Input</title></image><text x=\"817.5\" y=\"569.5\" font-family=\"monospace\" font-size=\"12\" text-anchor=\"start\" alignment-baseline=\"central\">camera</text></svg>"
      ],
      "text/plain": [
       "<Network name='Robot Prediction Network' (compiled)>"
      ]
     },
     "execution_count": 20,
     "metadata": {},
     "output_type": "execute_result"
    }
   ],
   "source": [
    "net"
   ]
  },
  {
   "cell_type": "code",
   "execution_count": 21,
   "metadata": {},
   "outputs": [],
   "source": [
    "matrix = net.propagate_to(\"conv\", get_senses(robot))"
   ]
  },
  {
   "cell_type": "code",
   "execution_count": 22,
   "metadata": {},
   "outputs": [],
   "source": [
    "net[\"conv\"].feature = 6"
   ]
  },
  {
   "cell_type": "code",
   "execution_count": 23,
   "metadata": {},
   "outputs": [
    {
     "data": {
      "text/html": [
       "<table><tr><td style=\"border: 1px solid black;\"><img style=\"image-rendering: pixelated;\" class=\"Robot Prediction Network_conv_feature0\" src=\"data:image/gif;base64,R0lGODdhrgByAIcAAP/X1//Fxf7i4v+2tvz19/+qqtnZ//+ZmQAAAAAAAAAAAAAAAAAAAAAAAAAAAAAAAAAAAAAAAAAAAAAAAAAAAAAAAAAAAAAAAAAAAAAAAAAAAAAAAAAAAAAAAAAAAAAAAAAAAAAAAAAAAAAAAAAAAAAAAAAAAAAAAAAAAAAAAAAAAAAAAAAAAAAAAAAAAAAAAAAAAAAAAAAAAAAAAAAAAAAAAAAAAAAAAAAAAAAAAAAAAAAAAAAAAAAAAAAAAAAAAAAAAAAAAAAAAAAAAAAAAAAAAAAAAAAAAAAAAAAAAAAAAAAAAAAAAAAAAAAAAAAAAAAAAAAAAAAAAAAAAAAAAAAAAAAAAAAAAAAAAAAAAAAAAAAAAAAAAAAAAAAAAAAAAAAAAAAAAAAAAAAAAAAAAAAAAAAAAAAAAAAAAAAAAAAAAAAAAAAAAAAAAAAAAAAAAAAAAAAAAAAAAAAAAAAAAAAAAAAAAAAAAAAAAAAAAAAAAAAAAAAAAAAAAAAAAAAAAAAAAAAAAAAAAAAAAAAAAAAAAAAAAAAAAAAAAAAAAAAAAAAAAAAAAAAAAAAAAAAAAAAAAAAAAAAAAAAAAAAAAAAAAAAAAAAAAAAAAAAAAAAAAAAAAAAAAAAAAAAAAAAAAAAAAAAAAAAAAAAAAAAAAAAAAAAAAAAAAAAAAAAAAAAAAAAAAAAAAAAAAAAAAAAAAAAAAAAAAAAAAAAAAAAAAAAAAAAAAAAAAAAAAAAAAAAAAAAAAAAAAAAAAAAAAAAAAAAAAAAAAAAAAAAAAAAAAAAAAAAAAAAAAAAAAAAAAAAAAAAAAAAAAAAAAAAAAAAAAAAAAAAAAAAAAAAAAAAAAAAAAAAAAAAAAAAAAAAAAAAAAAAAAAAAAAAAAAAAAAAAAAAAAAAAAAAAAAAAAAAAAAAAAAAAAAAAAAAAAAAAAAAAAAAAAAAAAAAAAAAAAAAAAAAAAAAAAAAAAAAAAAAAAAAAAAAAAAAAAAAAAAAAAAAAAAAAAAAAAAAAAAAAAAAAACwAAAAArgByAEAI/wADCBxIsKDBgwgTKlzIsKHDhxAjSpxIsaLFixgzatzIsaPHjyBDihxJsqTJkyQFqATAcoDLlzBjyixAc4DNmzhz6rwZoKdPnwKCCh1AtKhRogeSBlg6oKnTp1CjSp1KtapVqgGyAtjKtavXr2DDih0bVoDZs2jTql3Ltq3bt3DjylULoK7du3jz6t3Lt+9eAYADCx5MuLDhw4gTK17MmDCAx5AjS55MubLly5UFaN7MubPnz6BDix5NurRpzwBSq17NurXr17Bjvw5AG4BtArhz5wbAW4BvAsCDCxhOvLhxAsgFKF/OvLnz59CjS58OoLr169iza9/Ovbv37+DDB/8YD6C8gPPo06tfz769+/fwAcgnQF+A/fv3CejfD6C/f4AABA4kWNDgQYQJFS5k2NDhQ4gRJU6kWNHiRYwZNW7k2NHjR5AhRY4kWVJjAJQpVa5k2dLlS5gxZc6kWdPmTZw5de7k2dPnT6BBhQ4lWtToUaRJlaYE0DTA0wFRpU6lWjXAVaxZtW7dKsArALADxI4lW9bsWbRp1a5NW8DtALhx4wagC8DuXbx59e7l21dvAcCBBww+UDjA4QGJFS9OHMAxAMgCJE+mXNnyZcyZNW/mDMDzZ9ChRY8mXdo0aQGpVa9m3dr1a9ixZc+mXbs1ANy5de/m3dv3b+C+BQwnXtz/+HHkyZUvZ97c+fPjAKRPp17d+nXs2bVjN9DduwDw4cWPJ1/e/Hn06dWvZw/A/Xv48eXPp1/f/n38AfQD4E/AP0ACAgcKKGjwYEEACgkwFODwIcSIEidSrGjxIoGMGgFw7OjxI8iQIkeSLGnyJMqUKleyNBngJYCYAmbSrGnzJs6cNAHw7OnzJ9CgQocSLWr0KNKkSpcyber0KdSoUqdSrWr1KtasVANw7er1K9iwYseSLWv2LNq0ateybev2Ldy4cufSrWv3Lt68evfy7ev3L+DAggcTLmz4MOLEihczbmxWAGQAkgdQrmz5MuYCmgdw7uz5M+jOAUaTLm36NOrU/6pXs27t+jVpAbIB0B5g+3aB3AN28+7t+zfvAMIBEC9u/Djy4gGWM2/u/PlzAdIBUB9g/Tr27Nq3c+/u/Xv3AuIHkC9fPgB6AOrXs2/v/j38+O4L0K8/4P6B/AH2D+jvH+AAgQMDFARwUEBChQsZNnT4EGJEiRMBVLR4EWNGjRs5dtw4AGRIkSADlBRwEmVKlStZtnT5EmZMmSoB1LR5E2dOnTt59twpAGhQoUOJFjV6FGlSpUuZEgXwFGpUqVOpVrV6taoArVu5dvX6FWxYsWPJljXrFUBatWvZtnX7Fm7ctwLo1rV7F29evXv59vX7FzBeAIMJFzZ8GHFixYsTC/9w/BhyZMmTKVe2fBlzZs2SAXT2/Bl0aNGjSZcebQB1agGrWbd2/Rp2bNmzade2fRtAbt27eff2/Rt4cOECiBMwfvy4AOXLmTd3/hx6dOnTqVdvDgB7du3buXf3/h289wDjAZQncB49egDrBbQn8B6+APnz6dcncF9Afv37+ff3D1CAwIEECxo8iFAggIUMGzp8CDGixIkUK1q8GCAjgI0COnr8CDKkyJEkS5oEgJKASgEsW7YkADMmgJk0a9q8iTOnzp08e/r8CTSo0ABEARgVgDRpUgBMCTgVADWq1KlUq1qNCiCr1q1cu3r9Cjas2LFky5oFGyAtgLUC2rp9Czf/rty5bgHYvYs3r969fPv6/Qs4sODBhAsbPow4seLFjBs7fgw5suTJlCtbvow5s+bNnDt7/gw6dN8ApEubPo06terVrFu7fg07tuzZtGvbvo07t+7dvHv7/g08uPDhxIsbP448ufLlzJs7fw49uvTp1Ktbv449u/bt3Lt7/w4+vPjx5MubDw8gfYD1A9q7fw8/foD59Ovbv48/v/79/Pv7BxhA4ECCBQ0eRJhQYQAADQM8HBBR4kSKFQNcxJhR40aOHT1+BBlS5EiSAkwCQDlA5UqWLV0WgDlA5kyaNW3ODJBT506ePX3+BBpU6FCiRXUKQApA6QCmTQs8HRBV6lSq/1WlBsAKQOtWrl29bg0QVuxYsmXNnkWbVu1atm3FCoALQO4AunUL3B2QV+9evn31BgAMQPBgwoUNDw6QWPFixo0bC4AMQPIAypUtX8acWfNmzp03FwA9QPTo0QFMA0CdWvVq1q1dv2YdQPbs2QJs3x6QW/fu3Ad8BwA+QPhw4sWNH0eeXPny5AGcA4AeXfp06tWtX8duPcB27twFfAc/QPx48uIPnA+QfsB69u3dv4cfX/58+vID3AeQX/9+/v39AwQgcCDBggYPHiygcOGAhgceBog4YCLFihMDYASgUQDHjh4/ggwpciTJkiYBoEypciXLli5fwnQ5YCbNmjMD4P8UoHMnz54+fwINKnQo0aI9ASBNqnQp06ZOn0J1OmAq1apTA2AVoHUr165ev4INK3Ys2bJdAaBNq3Yt27Zu38J1K2Au3bp27+LNq3cv375+/94FIHgw4cKGDyNOrBixgMaOH0OOLHky5cqWL2POHBkA586eP4MOLXo0adECTqNOrXo169auX8OOLXv2agC2b+POrXs3796+eQsILnw48eLGjyNPrnw58+bFAUCPLn069erWr2O3LmA79+7ev4MPL348+fLmz38HoH49+/bu38OPLx++gPr27+PPr38///7+AQoQOJBgQYMHESYEsJBhQ4cPIUaUODGiAIsXMWbUuJH/Y0ePH0GGFKkRQEmTJ1GmVLmSZcuVAmDGlDmTZk2bN3Hm1LmTJ00AP4EGFTqUaFGjR4sKULqUaVOnT6FGlTqValWrTgFk1bqVa1evX8GG/WqAbFkBZ9GmVbuWbVu3b+HGlTsXQF27d/Hm1buXb1+/AgATEDx4sADDhxEnVryYcWPHjyFHTgyAcmXLlzFn1ryZc2cBnwmEFi1aQGnTp1GnVr2adWvXr2GjBjCbdm3bt3Hn1r07dwDfAIATED58OADjApATUL5cQHPnz6ETkC6AenXr17Fn176de3cA38GHFz+efHnz59GnD7AeQHsC7+HDFzCffv35APAT0C+Af3///wAFCBxIsKDBgwgTKhRAoKFDABAjSpxIsaLFixgzRgzAEYBHAiBDhhRAsqRJkgBSElgpoKXLlzBjypxJs6ZNAjhzAtjJs6fPn0CDCh1KtKhRnwGSAlgqoKnTp1CjSp1KtapVAFgJaBXAtWtXAmDDAhhLtqzZs2jTql3Ltq3bt3Djyg1AF4BdAXjz5gXAl4BfAYADCx5MuLDhwAASK17MuLHjx5AjS55MuTLkAJgBaBbAuXNnAKAJiBZAurTp06hTqy4NoLXr17Bjy55Nu7bt27hz66YdoDeA3wKCCx9OvLjx48IBKF/OvLnz59CjS59Ovbr169iza9/Ovbv37+DDi1QfT768+fPo06tfz769+/fw48ufT7++/fv48+vfz7+/f4AABA4kWNDgQYQJFS5k2NDhQ4gRJU6kWNHiRYwZNW7k2NHjR5AhRY4kWdLkSZQpVa4sGBAAOw==\"/><br/><center>Feature 0</center></td><td style=\"border: 1px solid black;\"><img style=\"image-rendering: pixelated;\" class=\"Robot Prediction Network_conv_feature1\" src=\"data:image/gif;base64,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\"/><br/><center>Feature 1</center></td><td style=\"border: 1px solid black;\"><img style=\"image-rendering: pixelated;\" class=\"Robot Prediction Network_conv_feature2\" src=\"data:image/gif;base64,R0lGODdhrgByAIcAAOro/fn5/v/R0dfX///IyKen/7i4/8fH/wAAAAAAAAAAAAAAAAAAAAAAAAAAAAAAAAAAAAAAAAAAAAAAAAAAAAAAAAAAAAAAAAAAAAAAAAAAAAAAAAAAAAAAAAAAAAAAAAAAAAAAAAAAAAAAAAAAAAAAAAAAAAAAAAAAAAAAAAAAAAAAAAAAAAAAAAAAAAAAAAAAAAAAAAAAAAAAAAAAAAAAAAAAAAAAAAAAAAAAAAAAAAAAAAAAAAAAAAAAAAAAAAAAAAAAAAAAAAAAAAAAAAAAAAAAAAAAAAAAAAAAAAAAAAAAAAAAAAAAAAAAAAAAAAAAAAAAAAAAAAAAAAAAAAAAAAAAAAAAAAAAAAAAAAAAAAAAAAAAAAAAAAAAAAAAAAAAAAAAAAAAAAAAAAAAAAAAAAAAAAAAAAAAAAAAAAAAAAAAAAAAAAAAAAAAAAAAAAAAAAAAAAAAAAAAAAAAAAAAAAAAAAAAAAAAAAAAAAAAAAAAAAAAAAAAAAAAAAAAAAAAAAAAAAAAAAAAAAAAAAAAAAAAAAAAAAAAAAAAAAAAAAAAAAAAAAAAAAAAAAAAAAAAAAAAAAAAAAAAAAAAAAAAAAAAAAAAAAAAAAAAAAAAAAAAAAAAAAAAAAAAAAAAAAAAAAAAAAAAAAAAAAAAAAAAAAAAAAAAAAAAAAAAAAAAAAAAAAAAAAAAAAAAAAAAAAAAAAAAAAAAAAAAAAAAAAAAAAAAAAAAAAAAAAAAAAAAAAAAAAAAAAAAAAAAAAAAAAAAAAAAAAAAAAAAAAAAAAAAAAAAAAAAAAAAAAAAAAAAAAAAAAAAAAAAAAAAAAAAAAAAAAAAAAAAAAAAAAAAAAAAAAAAAAAAAAAAAAAAAAAAAAAAAAAAAAAAAAAAAAAAAAAAAAAAAAAAAAAAAAAAAAAAAAAAAAAAAAAAAAAAAAAAAAAAAAAAAAAAAAAAAAAAAAAAAAAAAAAAAAAAAAAAAAAAAAAAAAAAAAAAAAAAAAAAAAAAAAAAAAAAAAAAAAAAACwAAAAArgByAEAI/wAFCBxIsKDBgwgTKlzIsKHDhxAjSpxIsaLFixgzatzIsaPHjyBDihxJsqTJkycBqFzJsqXLlQJiApgZoKbNmzhzCtjJkyeAnwKCAhhKtOhQAkiTBljKtKnTp1CjSp1KteqAqwGyat3KtavXr2DDih1LtqzZs2jTql3Ltq3bt3Djyp1Lt67du3jZAthboC+Av4ABBxhMGIDhw4gTKx7AOIDjx5AjS55MubLly5gza95cGYDnz6BDix5NurSB0wBSq17NurXr17Bjyw5AuzaA27hxD9gdoLfv38CDCx8eHIDx48iTK1/OvLnz59CjS59Ovbr169iza9/Ovbv37+DDi/8fT768+fPoxQtYz769+/fw48ufT7++/fv48+vfz7+/f4ACBA4kWNDgQYQJFS5k2NDhQ4gRJU6kWNHiRYwZNW7k2NEgAJAhRY4kGVLASZQpVa5cCcDlS5gxZc6kWdPmTZwvCewU0DPAT6BAAQwNUNToUaRJlS5lahTAU6hQCUylGsDqVaxWAWwd0DXAV7BhxY4lW9bsWbRp1a5l29btW7hx5c6lW9fuXbx59e6te8BvAMCBBQ8mXNjwYcSJFS9m3NjxY8gAJE+mXHlyAcwANG/m3NlzANChAYwmXdr0adSpVa9mPcB1ANixZc+mXdv2bdywAezm3dv3b+DBhQ8nXtz/+HHkxQ8sB9Dc+XPo0aVPp17d+nXs2bVv597d+3fw4cWPJ1/e/Hn06dWvZy/A/Xv48eXPp1/f/n38+fXv59/fP0ABAgcSLGjwIMKEChcybOjwIcSIEidSrGjxIsaMGjdy7OjxI8iQIkeSLGnyJMqUKleybOnypUoAMmfSrGlzpoCcAHYG6OnzJ9CgAoYSLWr0KNKkSpcyber0KVEAUqdSlSrgKtYAWrdy7ep1K4CwAcaSLWv2rIC0ateybdsWANy4cufSrWv3Lt68euMS6Cvgb4DAggUDKBzgMOLEihczbuwYMYDIkiUTqGw5AObMmjED6Dzgc4DQokeTLm36NOrU/6pXs27t+nVrALIH0A5g+zbu3Lp38+7t+zfw4MKHEy9u/Djy5MqXM2/u/Dn06NKnU69u/Tr27Nq3c79+4HuA8OLHky9v/jz69OrXs2/v/j38+OUB0K9ffwD+APr38+/vH2AAgQMJFjR4EGFChQsZNnT48CEAiQUoArB48WIAjRsBdPT4EWTIASMDlDR5EmVKlStZtnT5EmZMmSwB1LR5E2dOnTt5GvAJAGhQoUOJFjV6FGnSAEuZAnD69OkAqQGoVrV6FWtWrVgBdPX6FWxYsWPJljV7Fm3aswbYAnD79m0AuXMB1LV7F29evXv59vX7F3BgwYMJFz5wGEBixYsZN/92/BhyZMmTKVe2fBlzZs2bOXf2/Bl0aNGjSZc2fRp1atWrWbd2/Rp2bNmzaddOLAB3bt27eff2/Rt4cOHDiRc3fhx5cuXLmTd3/hx6dOnTqVe3fh17du3buXf3/h18ePHjyZc3fx59evXr2bd3/x5+fPnz6de3fx9/fv34AfT3DxCAwIEECw4UgDChwoUMGzp8CDGixIkUK1qkCCCjxo0cO2oUADKkyJEkS5o8iTKlypUsW4YEADOmzJk0Ywq4CSBngJ08e/r8KSCo0KFEixo9ijSp0qVMmwoFADWqVKgCqloNgDWr1q1cswL4GiCs2LFkywo4izat2rVs27p9Czf/rty5aAHYvYvXroC9fAP4/Qs4sOC/AAoHOIw4seLFAho7fgw5cmQAlCtbvow5s+bNnDt7rkwgtIDRAUqbNg0gdYDVrFu7fg07tmzWAmrbtg0gt4DdAHr7/t2bgPDhAYobP448ufLlzJs7fz4geoDp1Ktbv449u/bt1gV4//4dgHgB5AGYP4/ePIH17AO4fw8/vvz59Ovbv49/gP4A/Pv7BxhA4ECCBQ0eRJiwIACGDRsSgBgxwESKFScCwDhAYwCOHT1+BBlS5EiSJU2eRJlSJUoALQe8DBBT5kyaNW3exJlT506ePX3+BOoTwNABRQMcRZpU6VKmTZ0+hRpV6lSq/1WtXsWaVetWrl29fgUbVuxYsmXNnkWbVu1atm3dvoUbV+5cunXt3sWbV+9evn39/p16QHAAwoUNH0acWPFixo0dP4YcWfJkyogBXMaMecDmAJ09fwYdWvRo0qVNn0adWvVq1qQBvIYNe8DsALVt38adW/du3r19/wYeXPhw4rYBHC+QHMBy5swDPIcOQPp06tWtD8AeQPt27t29fwcfXvx48uXNnw8PQP169u3XF4APQP58+vXtB8CfH8B+/v39AwQgcCDBggYPIkxocADDAA4fQowocSLFihYdAsiocSNHjQU+AggpciTJkgFOogSgciXLli5fwowpc+aAmgFu4tfMqXMnz54+f94EIHQo0aJGjyJNamApgKZOn0KNKnUq1apWA2DNCmArV64DvgYIK3Ys2bJmz5YFoHYt27Zu38KNK3cu3bp26RrIC2AvX74B/gIGIHgw4cKGDyNOrHgx48aOH0OOPNgAZQCWL18OoHkzgM6eP4MOLXo06dKmT6NOrXo169YHXgOILXs27dq2b+POrXs3796+fwMPLnw48eLGjyNPrnw58+bOn0OPLn069erWr2PPrn079+7ev4MPL348+fLmz6NPr349+/bu38OPL38+/fUBAQA7\"/><br/><center>Feature 2</center></td><td style=\"border: 1px solid black;\"><img style=\"image-rendering: pixelated;\" class=\"Robot Prediction Network_conv_feature3\" src=\"data:image/gif;base64,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\"/><br/><center>Feature 3</center></td><td style=\"border: 1px solid black;\"><img style=\"image-rendering: pixelated;\" class=\"Robot Prediction Network_conv_feature4\" src=\"data:image/gif;base64,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\"/><br/><center>Feature 4</center></td></tr><tr><td style=\"border: 1px solid black;\"><img style=\"image-rendering: pixelated;\" class=\"Robot Prediction Network_conv_feature5\" src=\"data:image/gif;base64,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\"/><br/><center>Feature 5</center></td><td style=\"border: 1px solid black;\"><img style=\"image-rendering: pixelated;\" class=\"Robot Prediction Network_conv_feature6\" src=\"data:image/gif;base64,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\"/><br/><center>Feature 6</center></td><td style=\"border: 1px solid black;\"><img style=\"image-rendering: pixelated;\" class=\"Robot Prediction Network_conv_feature7\" src=\"data:image/gif;base64,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\"/><br/><center>Feature 7</center></td><td style=\"border: 1px solid black;\"><img style=\"image-rendering: pixelated;\" class=\"Robot Prediction Network_conv_feature8\" src=\"data:image/gif;base64,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\"/><br/><center>Feature 8</center></td><td style=\"border: 1px solid black;\"><img style=\"image-rendering: pixelated;\" class=\"Robot Prediction Network_conv_feature9\" src=\"data:image/gif;base64,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\"/><br/><center>Feature 9</center></td></tr><tr><td style=\"border: 1px solid black;\"><img style=\"image-rendering: pixelated;\" class=\"Robot Prediction Network_conv_feature10\" src=\"data:image/gif;base64,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\"/><br/><center>Feature 10</center></td><td style=\"border: 1px solid black;\"><img style=\"image-rendering: pixelated;\" class=\"Robot Prediction Network_conv_feature11\" src=\"data:image/gif;base64,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\"/><br/><center>Feature 11</center></td><td style=\"border: 1px solid black;\"><img style=\"image-rendering: pixelated;\" class=\"Robot Prediction Network_conv_feature12\" src=\"data:image/gif;base64,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\"/><br/><center>Feature 12</center></td><td style=\"border: 1px solid black;\"><img style=\"image-rendering: pixelated;\" class=\"Robot Prediction Network_conv_feature13\" src=\"data:image/gif;base64,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\"/><br/><center>Feature 13</center></td><td style=\"border: 1px solid black;\"><img style=\"image-rendering: pixelated;\" class=\"Robot Prediction Network_conv_feature14\" src=\"data:image/gif;base64,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\"/><br/><center>Feature 14</center></td></tr><tr><td style=\"border: 1px solid black;\"><img style=\"image-rendering: pixelated;\" class=\"Robot Prediction Network_conv_feature15\" src=\"data:image/gif;base64,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\"/><br/><center>Feature 15</center></td></tr></table>"
      ],
      "text/plain": [
       "<IPython.core.display.HTML object>"
      ]
     },
     "execution_count": 23,
     "metadata": {},
     "output_type": "execute_result"
    }
   ],
   "source": [
    "net.propagate_to_features(\"conv\", get_senses(robot), scale=3)"
   ]
  },
  {
   "cell_type": "code",
   "execution_count": 24,
   "metadata": {},
   "outputs": [
    {
     "data": {
      "text/plain": [
       "{}"
      ]
     },
     "execution_count": 24,
     "metadata": {},
     "output_type": "execute_result"
    }
   ],
   "source": [
    "net.train_options"
   ]
  },
  {
   "cell_type": "code",
   "execution_count": 25,
   "metadata": {
    "scrolled": false
   },
   "outputs": [
    {
     "data": {
      "application/vnd.jupyter.widget-view+json": {
       "model_id": "190dcb12047842389b39f5c6dd1a6ea7",
       "version_major": 2,
       "version_minor": 0
      },
      "text/html": [
       "<p>Failed to display Jupyter Widget of type <code>Dashboard</code>.</p>\n",
       "<p>\n",
       "  If you're reading this message in the Jupyter Notebook or JupyterLab Notebook, it may mean\n",
       "  that the widgets JavaScript is still loading. If this message persists, it\n",
       "  likely means that the widgets JavaScript library is either not installed or\n",
       "  not enabled. See the <a href=\"https://ipywidgets.readthedocs.io/en/stable/user_install.html\">Jupyter\n",
       "  Widgets Documentation</a> for setup instructions.\n",
       "</p>\n",
       "<p>\n",
       "  If you're reading this message in another frontend (for example, a static\n",
       "  rendering on GitHub or <a href=\"https://nbviewer.jupyter.org/\">NBViewer</a>),\n",
       "  it may mean that your frontend doesn't currently support widgets.\n",
       "</p>\n"
      ],
      "text/plain": [
       "Dashboard(children=(Accordion(children=(HBox(children=(VBox(children=(Select(description='Dataset:', index=1, options=('Test', 'Train'), rows=1, value='Train'), FloatSlider(value=1.0, continuous_update=False, description='Zoom', max=3.0, min=0.5), IntText(value=150, description='Horizontal space between banks:', style=DescriptionStyle(description_width='initial')), IntText(value=30, description='Vertical space between layers:', style=DescriptionStyle(description_width='initial')), HBox(children=(Checkbox(value=False, description='Show Targets', style=DescriptionStyle(description_width='initial')), Checkbox(value=False, description='Errors', style=DescriptionStyle(description_width='initial')))), Select(description='Features:', options=('', 'camera', 'conv'), rows=1, value=''), IntText(value=3, description='Feature columns:', style=DescriptionStyle(description_width='initial')), FloatText(value=2.0, description='Feature scale:', style=DescriptionStyle(description_width='initial'))), layout=Layout(width='100%')), VBox(children=(Select(description='Layer:', index=10, options=('light', 'sonar', 'camera', 'flatten', 'conv', 'hidden', 'output1', 'hidden2', 'hidden3', 'hidden4', 'output2'), rows=1, value='output2'), Checkbox(value=True, description='Visible'), Select(description='Colormap:', options=('', 'Accent', 'Accent_r', 'Blues', 'Blues_r', 'BrBG', 'BrBG_r', 'BuGn', 'BuGn_r', 'BuPu', 'BuPu_r', 'CMRmap', 'CMRmap_r', 'Dark2', 'Dark2_r', 'GnBu', 'GnBu_r', 'Greens', 'Greens_r', 'Greys', 'Greys_r', 'OrRd', 'OrRd_r', 'Oranges', 'Oranges_r', 'PRGn', 'PRGn_r', 'Paired', 'Paired_r', 'Pastel1', 'Pastel1_r', 'Pastel2', 'Pastel2_r', 'PiYG', 'PiYG_r', 'PuBu', 'PuBuGn', 'PuBuGn_r', 'PuBu_r', 'PuOr', 'PuOr_r', 'PuRd', 'PuRd_r', 'Purples', 'Purples_r', 'RdBu', 'RdBu_r', 'RdGy', 'RdGy_r', 'RdPu', 'RdPu_r', 'RdYlBu', 'RdYlBu_r', 'RdYlGn', 'RdYlGn_r', 'Reds', 'Reds_r', 'Set1', 'Set1_r', 'Set2', 'Set2_r', 'Set3', 'Set3_r', 'Spectral', 'Spectral_r', 'Vega10', 'Vega10_r', 'Vega20', 'Vega20_r', 'Vega20b', 'Vega20b_r', 'Vega20c', 'Vega20c_r', 'Wistia', 'Wistia_r', 'YlGn', 'YlGnBu', 'YlGnBu_r', 'YlGn_r', 'YlOrBr', 'YlOrBr_r', 'YlOrRd', 'YlOrRd_r', 'afmhot', 'afmhot_r', 'autumn', 'autumn_r', 'binary', 'binary_r', 'bone', 'bone_r', 'brg', 'brg_r', 'bwr', 'bwr_r', 'cool', 'cool_r', 'coolwarm', 'coolwarm_r', 'copper', 'copper_r', 'cubehelix', 'cubehelix_r', 'flag', 'flag_r', 'gist_earth', 'gist_earth_r', 'gist_gray', 'gist_gray_r', 'gist_heat', 'gist_heat_r', 'gist_ncar', 'gist_ncar_r', 'gist_rainbow', 'gist_rainbow_r', 'gist_stern', 'gist_stern_r', 'gist_yarg', 'gist_yarg_r', 'gnuplot', 'gnuplot2', 'gnuplot2_r', 'gnuplot_r', 'gray', 'gray_r', 'hot', 'hot_r', 'hsv', 'hsv_r', 'inferno', 'inferno_r', 'jet', 'jet_r', 'magma', 'magma_r', 'nipy_spectral', 'nipy_spectral_r', 'ocean', 'ocean_r', 'pink', 'pink_r', 'plasma', 'plasma_r', 'prism', 'prism_r', 'rainbow', 'rainbow_r', 'seismic', 'seismic_r', 'spectral', 'spectral_r', 'spring', 'spring_r', 'summer', 'summer_r', 'tab10', 'tab10_r', 'tab20', 'tab20_r', 'tab20b', 'tab20b_r', 'tab20c', 'tab20c_r', 'terrain', 'terrain_r', 'viridis', 'viridis_r', 'winter', 'winter_r'), rows=1, value=''), HTML(value='<img src=\"data:image/gif;base64,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\"/>'), FloatText(value=-1.0, description='Leftmost color maps to:', style=DescriptionStyle(description_width='initial')), FloatText(value=1.0, description='Rightmost color maps to:', style=DescriptionStyle(description_width='initial')), IntText(value=0, description='Feature to show:', style=DescriptionStyle(description_width='initial'))), layout=Layout(width='100%')))),), selected_index=None, _titles={'0': 'Robot Prediction Network'}), VBox(children=(HBox(children=(IntSlider(value=0, continuous_update=False, description='Dataset index', layout=Layout(width='100%'), max=0), Label(value='of 0', layout=Layout(width='100px'))), layout=Layout(height='40px')), HBox(children=(Button(icon='fast-backward', layout=Layout(width='100%'), style=ButtonStyle()), Button(icon='backward', layout=Layout(width='100%'), style=ButtonStyle()), IntText(value=0, layout=Layout(width='100%')), Button(icon='forward', layout=Layout(width='100%'), style=ButtonStyle()), Button(icon='fast-forward', layout=Layout(width='100%'), style=ButtonStyle()), Button(description='Play', icon='play', layout=Layout(width='100%'), style=ButtonStyle()), Button(icon='refresh', layout=Layout(width='25%'), style=ButtonStyle())), layout=Layout(height='50px', width='100%'))), layout=Layout(width='100%')), HTML(value='<p style=\"text-align:center\"></p>', layout=Layout(justify_content='center', overflow_x='auto', overflow_y='auto', width='95%')), Output()))"
      ]
     },
     "metadata": {},
     "output_type": "display_data"
    },
    {
     "data": {
      "application/javascript": [
       "\n",
       "require(['base/js/namespace'], function(Jupyter) {\n",
       "    Jupyter.notebook.kernel.comm_manager.register_target('conx_svg_control', function(comm, msg) {\n",
       "        comm.on_msg(function(msg) {\n",
       "            var data = msg[\"content\"][\"data\"];\n",
       "            var images = document.getElementsByClassName(data[\"class\"]);\n",
       "            for (var i = 0; i < images.length; i++) {\n",
       "                if (data[\"href\"]) {\n",
       "                    images[i].setAttributeNS(null, \"href\", data[\"href\"]);\n",
       "                }\n",
       "                if (data[\"src\"]) {\n",
       "                    images[i].setAttributeNS(null, \"src\", data[\"src\"]);\n",
       "                }\n",
       "            }\n",
       "        });\n",
       "    });\n",
       "});\n"
      ],
      "text/plain": [
       "<IPython.core.display.Javascript object>"
      ]
     },
     "metadata": {},
     "output_type": "display_data"
    }
   ],
   "source": [
    "net.dashboard()"
   ]
  },
  {
   "cell_type": "code",
   "execution_count": 26,
   "metadata": {},
   "outputs": [
    {
     "data": {
      "application/javascript": [
       "\n",
       "require(['base/js/namespace'], function(Jupyter) {\n",
       "    Jupyter.notebook.kernel.comm_manager.register_target('conx_svg_control', function(comm, msg) {\n",
       "        comm.on_msg(function(msg) {\n",
       "            var data = msg[\"content\"][\"data\"];\n",
       "            var images = document.getElementsByClassName(data[\"class\"]);\n",
       "            for (var i = 0; i < images.length; i++) {\n",
       "                if (data[\"href\"]) {\n",
       "                    images[i].setAttributeNS(null, \"href\", data[\"href\"]);\n",
       "                }\n",
       "                if (data[\"src\"]) {\n",
       "                    images[i].setAttributeNS(null, \"src\", data[\"src\"]);\n",
       "                }\n",
       "            }\n",
       "        });\n",
       "    });\n",
       "});\n"
      ],
      "text/plain": [
       "<IPython.core.display.Javascript object>"
      ]
     },
     "metadata": {},
     "output_type": "display_data"
    },
    {
     "data": {
      "text/html": [
       "<svg id='Robot Prediction Network' xmlns='http://www.w3.org/2000/svg' viewBox=\"0 0 950 659\" max-width=\"100%\" height=\"780px\" image-rendering=\"pixelated\">\n",
       "    <defs>\n",
       "        <marker id=\"arrow\" markerWidth=\"10\" markerHeight=\"10\" refX=\"9\" refY=\"3\" orient=\"auto\" markerUnits=\"strokeWidth\">\n",
       "          <path d=\"M0,0 L0,6 L9,3 z\" fill=\"black\" />\n",
       "        </marker>\n",
       "    </defs><text x=\"475.0\" y=\"12.5\" font-family=\"monospace\" font-size=\"15\" text-anchor=\"middle\" alignment-baseline=\"central\">Robot Prediction Network</text><rect x=\"265.6666666666667\" y=\"24\" width=\"102\" height=\"52\" style=\"fill:none;stroke:black;stroke-width:2\"/><image id=\"Robot Prediction Network_output1_23\" class=\"Robot Prediction Network_output1\" x=\"266.6666666666667\" y=\"25\" height=\"50\" width=\"100\" preserveAspectRatio=\"none\" href=\"data:image/gif;base64,R0lGODdhAgABAIcAABAQ/0lJ/wAAAAAAAAAAAAAAAAAAAAAAAAAAAAAAAAAAAAAAAAAAAAAAAAAAAAAAAAAAAAAAAAAAAAAAAAAAAAAAAAAAAAAAAAAAAAAAAAAAAAAAAAAAAAAAAAAAAAAAAAAAAAAAAAAAAAAAAAAAAAAAAAAAAAAAAAAAAAAAAAAAAAAAAAAAAAAAAAAAAAAAAAAAAAAAAAAAAAAAAAAAAAAAAAAAAAAAAAAAAAAAAAAAAAAAAAAAAAAAAAAAAAAAAAAAAAAAAAAAAAAAAAAAAAAAAAAAAAAAAAAAAAAAAAAAAAAAAAAAAAAAAAAAAAAAAAAAAAAAAAAAAAAAAAAAAAAAAAAAAAAAAAAAAAAAAAAAAAAAAAAAAAAAAAAAAAAAAAAAAAAAAAAAAAAAAAAAAAAAAAAAAAAAAAAAAAAAAAAAAAAAAAAAAAAAAAAAAAAAAAAAAAAAAAAAAAAAAAAAAAAAAAAAAAAAAAAAAAAAAAAAAAAAAAAAAAAAAAAAAAAAAAAAAAAAAAAAAAAAAAAAAAAAAAAAAAAAAAAAAAAAAAAAAAAAAAAAAAAAAAAAAAAAAAAAAAAAAAAAAAAAAAAAAAAAAAAAAAAAAAAAAAAAAAAAAAAAAAAAAAAAAAAAAAAAAAAAAAAAAAAAAAAAAAAAAAAAAAAAAAAAAAAAAAAAAAAAAAAAAAAAAAAAAAAAAAAAAAAAAAAAAAAAAAAAAAAAAAAAAAAAAAAAAAAAAAAAAAAAAAAAAAAAAAAAAAAAAAAAAAAAAAAAAAAAAAAAAAAAAAAAAAAAAAAAAAAAAAAAAAAAAAAAAAAAAAAAAAAAAAAAAAAAAAAAAAAAAAAAAAAAAAAAAAAAAAAAAAAAAAAAAAAAAAAAAAAAAAAAAAAAAAAAAAAAAAAAAAAAAAAAAAAAAAAAAAAAAAAAAAAAAAAAAAAAAAAAAAAAAAAAAAAAAAAAAAAAAAAAAAAAAAAAAAAAAAAAAAAAAAAAAAAAAAAAAAAAAAAAAAAAAAAAAAAAAAAAACwAAAAAAgABAAAIBQABBAgIADs=\"><title>Layer: output1 (output)\n",
       " shape = (2,)\n",
       " Keras class = Dense\n",
       " activation = sigmoid</title></image><text x=\"371.6666666666667\" y=\"52.0\" font-family=\"monospace\" font-size=\"12\" text-anchor=\"start\" alignment-baseline=\"central\">output1</text><rect x=\"532.3333333333334\" y=\"24\" width=\"202\" height=\"42\" style=\"fill:none;stroke:black;stroke-width:2\"/><image id=\"Robot Prediction Network_output2_24\" class=\"Robot Prediction Network_output2\" x=\"533.3333333333334\" y=\"25\" height=\"40\" width=\"200\" preserveAspectRatio=\"none\" href=\"data:image/gif;base64,R0lGODdhBQABAIcAAF1d/wAA7B0d/0lJ/wAAAAAAAAAAAAAAAAAAAAAAAAAAAAAAAAAAAAAAAAAAAAAAAAAAAAAAAAAAAAAAAAAAAAAAAAAAAAAAAAAAAAAAAAAAAAAAAAAAAAAAAAAAAAAAAAAAAAAAAAAAAAAAAAAAAAAAAAAAAAAAAAAAAAAAAAAAAAAAAAAAAAAAAAAAAAAAAAAAAAAAAAAAAAAAAAAAAAAAAAAAAAAAAAAAAAAAAAAAAAAAAAAAAAAAAAAAAAAAAAAAAAAAAAAAAAAAAAAAAAAAAAAAAAAAAAAAAAAAAAAAAAAAAAAAAAAAAAAAAAAAAAAAAAAAAAAAAAAAAAAAAAAAAAAAAAAAAAAAAAAAAAAAAAAAAAAAAAAAAAAAAAAAAAAAAAAAAAAAAAAAAAAAAAAAAAAAAAAAAAAAAAAAAAAAAAAAAAAAAAAAAAAAAAAAAAAAAAAAAAAAAAAAAAAAAAAAAAAAAAAAAAAAAAAAAAAAAAAAAAAAAAAAAAAAAAAAAAAAAAAAAAAAAAAAAAAAAAAAAAAAAAAAAAAAAAAAAAAAAAAAAAAAAAAAAAAAAAAAAAAAAAAAAAAAAAAAAAAAAAAAAAAAAAAAAAAAAAAAAAAAAAAAAAAAAAAAAAAAAAAAAAAAAAAAAAAAAAAAAAAAAAAAAAAAAAAAAAAAAAAAAAAAAAAAAAAAAAAAAAAAAAAAAAAAAAAAAAAAAAAAAAAAAAAAAAAAAAAAAAAAAAAAAAAAAAAAAAAAAAAAAAAAAAAAAAAAAAAAAAAAAAAAAAAAAAAAAAAAAAAAAAAAAAAAAAAAAAAAAAAAAAAAAAAAAAAAAAAAAAAAAAAAAAAAAAAAAAAAAAAAAAAAAAAAAAAAAAAAAAAAAAAAAAAAAAAAAAAAAAAAAAAAAAAAAAAAAAAAAAAAAAAAAAAAAAAAAAAAAAAAAAAAAAAAAAAAAAAAAAAAAAAAAAAAAAAAAAAAAAAAAAAAAAAAAAAAAAAAAAAAAAAAAAAAAAAAAAAAAAAAAAAAACwAAAAABQABAAAICAAFDAgAAEBAADs=\"><title>Layer: output2 (output)\n",
       " shape = (5,)\n",
       " Keras class = Dense\n",
       " activation = sigmoid</title></image><text x=\"738.3333333333334\" y=\"47.0\" font-family=\"monospace\" font-size=\"12\" text-anchor=\"start\" alignment-baseline=\"central\">output2</text><line x1=\"316.6666666666667\" y1=\"104\" x2=\"316.6666666666667\" y2=\"77\" stroke=\"black\" stroke-width=\"2\" marker-end=\"url(#arrow)\"><title>Weights from hidden4 to output1\n",
       " output1/kernel has shape (10, 2)\n",
       " output1/bias has shape (2,)</title></line><rect x=\"215.66666666666669\" y=\"104\" width=\"202\" height=\"27\" style=\"fill:none;stroke:black;stroke-width:2\"/><image id=\"Robot Prediction Network_hidden4_25\" class=\"Robot Prediction Network_hidden4\" x=\"216.66666666666669\" y=\"105\" height=\"25\" width=\"200\" preserveAspectRatio=\"none\" href=\"data:image/gif;base64,R0lGODdhCgABAIcAAAAA+R0d/0dH/1dX/wAAzYSE/wAAAAAAAAAAAAAAAAAAAAAAAAAAAAAAAAAAAAAAAAAAAAAAAAAAAAAAAAAAAAAAAAAAAAAAAAAAAAAAAAAAAAAAAAAAAAAAAAAAAAAAAAAAAAAAAAAAAAAAAAAAAAAAAAAAAAAAAAAAAAAAAAAAAAAAAAAAAAAAAAAAAAAAAAAAAAAAAAAAAAAAAAAAAAAAAAAAAAAAAAAAAAAAAAAAAAAAAAAAAAAAAAAAAAAAAAAAAAAAAAAAAAAAAAAAAAAAAAAAAAAAAAAAAAAAAAAAAAAAAAAAAAAAAAAAAAAAAAAAAAAAAAAAAAAAAAAAAAAAAAAAAAAAAAAAAAAAAAAAAAAAAAAAAAAAAAAAAAAAAAAAAAAAAAAAAAAAAAAAAAAAAAAAAAAAAAAAAAAAAAAAAAAAAAAAAAAAAAAAAAAAAAAAAAAAAAAAAAAAAAAAAAAAAAAAAAAAAAAAAAAAAAAAAAAAAAAAAAAAAAAAAAAAAAAAAAAAAAAAAAAAAAAAAAAAAAAAAAAAAAAAAAAAAAAAAAAAAAAAAAAAAAAAAAAAAAAAAAAAAAAAAAAAAAAAAAAAAAAAAAAAAAAAAAAAAAAAAAAAAAAAAAAAAAAAAAAAAAAAAAAAAAAAAAAAAAAAAAAAAAAAAAAAAAAAAAAAAAAAAAAAAAAAAAAAAAAAAAAAAAAAAAAAAAAAAAAAAAAAAAAAAAAAAAAAAAAAAAAAAAAAAAAAAAAAAAAAAAAAAAAAAAAAAAAAAAAAAAAAAAAAAAAAAAAAAAAAAAAAAAAAAAAAAAAAAAAAAAAAAAAAAAAAAAAAAAAAAAAAAAAAAAAAAAAAAAAAAAAAAAAAAAAAAAAAAAAAAAAAAAAAAAAAAAAAAAAAAAAAAAAAAAAAAAAAAAAAAAAAAAAAAAAAAAAAAAAAAAAAAAAAAAAAAAAAAAAAAAAAAAAAAAAAAAAAAAAAAAAAAAAAAAAAAAAAAAAAAAAAAAAAAAAAAAAAAAAAAAAAACwAAAAACgABAAAIDgAHBABQIIAAAgIGAAgIADs=\"><title>Layer: hidden4 (hidden)\n",
       " shape = (10,)\n",
       " Keras class = Dense\n",
       " activation = sigmoid</title></image><text x=\"421.6666666666667\" y=\"119.5\" font-family=\"monospace\" font-size=\"12\" text-anchor=\"start\" alignment-baseline=\"central\">hidden4</text><line x1=\"633.3333333333334\" y1=\"105\" x2=\"633.3333333333334\" y2=\"65\" stroke=\"red\" stroke-width=\"2\" marker-end=\"url(#arrow)\"><title>Weights from hidden3 to output2\n",
       " output2/kernel has shape (10, 5)\n",
       " output2/bias has shape (5,)</title></line><line x1=\"475.0\" y1=\"159\" x2=\"633.3333333333334\" y2=\"105\" stroke=\"red\" stroke-width=\"2\"><title>Weights from hidden3 to output2\n",
       " output2/kernel has shape (10, 5)\n",
       " output2/bias has shape (5,)</title></line><line x1=\"475.0\" y1=\"159\" x2=\"316.6666666666667\" y2=\"132\" stroke=\"red\" stroke-width=\"2\" marker-end=\"url(#arrow)\"><title>Weights from hidden3 to hidden4\n",
       " hidden4/kernel has shape (10, 10)\n",
       " hidden4/bias has shape (10,)</title></line><rect x=\"374.0\" y=\"159\" width=\"202\" height=\"27\" style=\"fill:none;stroke:black;stroke-width:2\"/><image id=\"Robot Prediction Network_hidden3_26\" class=\"Robot Prediction Network_hidden3\" x=\"375.0\" y=\"160\" height=\"25\" width=\"200\" preserveAspectRatio=\"none\" href=\"data:image/gif;base64,R0lGODdhCgABAIcAAAQE+gAA0RgY/yAg/wAAAAAAAAAAAAAAAAAAAAAAAAAAAAAAAAAAAAAAAAAAAAAAAAAAAAAAAAAAAAAAAAAAAAAAAAAAAAAAAAAAAAAAAAAAAAAAAAAAAAAAAAAAAAAAAAAAAAAAAAAAAAAAAAAAAAAAAAAAAAAAAAAAAAAAAAAAAAAAAAAAAAAAAAAAAAAAAAAAAAAAAAAAAAAAAAAAAAAAAAAAAAAAAAAAAAAAAAAAAAAAAAAAAAAAAAAAAAAAAAAAAAAAAAAAAAAAAAAAAAAAAAAAAAAAAAAAAAAAAAAAAAAAAAAAAAAAAAAAAAAAAAAAAAAAAAAAAAAAAAAAAAAAAAAAAAAAAAAAAAAAAAAAAAAAAAAAAAAAAAAAAAAAAAAAAAAAAAAAAAAAAAAAAAAAAAAAAAAAAAAAAAAAAAAAAAAAAAAAAAAAAAAAAAAAAAAAAAAAAAAAAAAAAAAAAAAAAAAAAAAAAAAAAAAAAAAAAAAAAAAAAAAAAAAAAAAAAAAAAAAAAAAAAAAAAAAAAAAAAAAAAAAAAAAAAAAAAAAAAAAAAAAAAAAAAAAAAAAAAAAAAAAAAAAAAAAAAAAAAAAAAAAAAAAAAAAAAAAAAAAAAAAAAAAAAAAAAAAAAAAAAAAAAAAAAAAAAAAAAAAAAAAAAAAAAAAAAAAAAAAAAAAAAAAAAAAAAAAAAAAAAAAAAAAAAAAAAAAAAAAAAAAAAAAAAAAAAAAAAAAAAAAAAAAAAAAAAAAAAAAAAAAAAAAAAAAAAAAAAAAAAAAAAAAAAAAAAAAAAAAAAAAAAAAAAAAAAAAAAAAAAAAAAAAAAAAAAAAAAAAAAAAAAAAAAAAAAAAAAAAAAAAAAAAAAAAAAAAAAAAAAAAAAAAAAAAAAAAAAAAAAAAAAAAAAAAAAAAAAAAAAAAAAAAAAAAAAAAAAAAAAAAAAAAAAAAAAAAAAAAAAAAAAAAAAAAAAAAAAAAAAAAAAAAAAAAAAAAAAAAAAAAAAAAAAAAAAAAAAAAAAAAAACwAAAAACgABAAAIDQABDAAAIACAgwICBAQAOw==\"><title>Layer: hidden3 (hidden)\n",
       " shape = (10,)\n",
       " dropout = 0.25\n",
       " Keras class = Dense\n",
       " activation = sigmoid</title></image><text x=\"580.0\" y=\"174.5\" font-family=\"monospace\" font-size=\"12\" text-anchor=\"start\" alignment-baseline=\"central\">hidden3</text><line x1=\"475.0\" y1=\"214\" x2=\"475.0\" y2=\"187\" stroke=\"black\" stroke-width=\"2\" marker-end=\"url(#arrow)\"><title>Weights from hidden2 to hidden3\n",
       " hidden3/kernel has shape (5, 10)\n",
       " hidden3/bias has shape (10,)</title></line><rect x=\"374.0\" y=\"214\" width=\"202\" height=\"42\" style=\"fill:none;stroke:black;stroke-width:2\"/><image id=\"Robot Prediction Network_hidden2_27\" class=\"Robot Prediction Network_hidden2\" x=\"375.0\" y=\"215\" height=\"40\" width=\"200\" preserveAspectRatio=\"none\" href=\"data:image/gif;base64,R0lGODdhBQABAIcAAAAA/wAAAAAAAAAAAAAAAAAAAAAAAAAAAAAAAAAAAAAAAAAAAAAAAAAAAAAAAAAAAAAAAAAAAAAAAAAAAAAAAAAAAAAAAAAAAAAAAAAAAAAAAAAAAAAAAAAAAAAAAAAAAAAAAAAAAAAAAAAAAAAAAAAAAAAAAAAAAAAAAAAAAAAAAAAAAAAAAAAAAAAAAAAAAAAAAAAAAAAAAAAAAAAAAAAAAAAAAAAAAAAAAAAAAAAAAAAAAAAAAAAAAAAAAAAAAAAAAAAAAAAAAAAAAAAAAAAAAAAAAAAAAAAAAAAAAAAAAAAAAAAAAAAAAAAAAAAAAAAAAAAAAAAAAAAAAAAAAAAAAAAAAAAAAAAAAAAAAAAAAAAAAAAAAAAAAAAAAAAAAAAAAAAAAAAAAAAAAAAAAAAAAAAAAAAAAAAAAAAAAAAAAAAAAAAAAAAAAAAAAAAAAAAAAAAAAAAAAAAAAAAAAAAAAAAAAAAAAAAAAAAAAAAAAAAAAAAAAAAAAAAAAAAAAAAAAAAAAAAAAAAAAAAAAAAAAAAAAAAAAAAAAAAAAAAAAAAAAAAAAAAAAAAAAAAAAAAAAAAAAAAAAAAAAAAAAAAAAAAAAAAAAAAAAAAAAAAAAAAAAAAAAAAAAAAAAAAAAAAAAAAAAAAAAAAAAAAAAAAAAAAAAAAAAAAAAAAAAAAAAAAAAAAAAAAAAAAAAAAAAAAAAAAAAAAAAAAAAAAAAAAAAAAAAAAAAAAAAAAAAAAAAAAAAAAAAAAAAAAAAAAAAAAAAAAAAAAAAAAAAAAAAAAAAAAAAAAAAAAAAAAAAAAAAAAAAAAAAAAAAAAAAAAAAAAAAAAAAAAAAAAAAAAAAAAAAAAAAAAAAAAAAAAAAAAAAAAAAAAAAAAAAAAAAAAAAAAAAAAAAAAAAAAAAAAAAAAAAAAAAAAAAAAAAAAAAAAAAAAAAAAAAAAAAAAAAAAAAAAAAAAAAAAAAAAAAAAAAAAAAAAAAAAAAAAAAAAAAAAAAAAAAAAAAAAAAAAAAAAAACwAAAAABQABAAAIBgABCBQYEAA7\"><title>Layer: hidden2 (hidden)\n",
       " shape = (5,)\n",
       " Keras class = Dense\n",
       " activation = sigmoid</title></image><text x=\"580.0\" y=\"237.0\" font-family=\"monospace\" font-size=\"12\" text-anchor=\"start\" alignment-baseline=\"central\">hidden2</text><line x1=\"237.5\" y1=\"285\" x2=\"475.0\" y2=\"255\" stroke=\"black\" stroke-width=\"2\" marker-end=\"url(#arrow)\"><title>Weights from hidden to hidden2\n",
       " hidden2/kernel has shape (35330, 5)\n",
       " hidden2/bias has shape (5,)</title></line><line x1=\"475.0\" y1=\"285\" x2=\"475.0\" y2=\"255\" stroke=\"black\" stroke-width=\"2\" marker-end=\"url(#arrow)\"><title>Weights from sonar to hidden2\n",
       " hidden2/kernel has shape (35330, 5)\n",
       " hidden2/bias has shape (5,)</title></line><line x1=\"712.5\" y1=\"284\" x2=\"475.0\" y2=\"257\" stroke=\"black\" stroke-width=\"2\" marker-end=\"url(#arrow)\"><title>Weights from flatten to hidden2\n",
       " hidden2/kernel has shape (35330, 5)\n",
       " hidden2/bias has shape (5,)</title></line><rect x=\"611.5\" y=\"284\" width=\"202\" height=\"27\" style=\"fill:none;stroke:black;stroke-width:2\"/><image id=\"Robot Prediction Network_flatten_28\" class=\"Robot Prediction Network_flatten\" x=\"612.5\" y=\"285\" height=\"25\" width=\"200\" preserveAspectRatio=\"none\" href=\"data:image/gif;base64,R0lGODdhwIkBAIcAAP/9/QAAAAAAAAAAAAAAAAAAAAAAAAAAAAAAAAAAAAAAAAAAAAAAAAAAAAAAAAAAAAAAAAAAAAAAAAAAAAAAAAAAAAAAAAAAAAAAAAAAAAAAAAAAAAAAAAAAAAAAAAAAAAAAAAAAAAAAAAAAAAAAAAAAAAAAAAAAAAAAAAAAAAAAAAAAAAAAAAAAAAAAAAAAAAAAAAAAAAAAAAAAAAAAAAAAAAAAAAAAAAAAAAAAAAAAAAAAAAAAAAAAAAAAAAAAAAAAAAAAAAAAAAAAAAAAAAAAAAAAAAAAAAAAAAAAAAAAAAAAAAAAAAAAAAAAAAAAAAAAAAAAAAAAAAAAAAAAAAAAAAAAAAAAAAAAAAAAAAAAAAAAAAAAAAAAAAAAAAAAAAAAAAAAAAAAAAAAAAAAAAAAAAAAAAAAAAAAAAAAAAAAAAAAAAAAAAAAAAAAAAAAAAAAAAAAAAAAAAAAAAAAAAAAAAAAAAAAAAAAAAAAAAAAAAAAAAAAAAAAAAAAAAAAAAAAAAAAAAAAAAAAAAAAAAAAAAAAAAAAAAAAAAAAAAAAAAAAAAAAAAAAAAAAAAAAAAAAAAAAAAAAAAAAAAAAAAAAAAAAAAAAAAAAAAAAAAAAAAAAAAAAAAAAAAAAAAAAAAAAAAAAAAAAAAAAAAAAAAAAAAAAAAAAAAAAAAAAAAAAAAAAAAAAAAAAAAAAAAAAAAAAAAAAAAAAAAAAAAAAAAAAAAAAAAAAAAAAAAAAAAAAAAAAAAAAAAAAAAAAAAAAAAAAAAAAAAAAAAAAAAAAAAAAAAAAAAAAAAAAAAAAAAAAAAAAAAAAAAAAAAAAAAAAAAAAAAAAAAAAAAAAAAAAAAAAAAAAAAAAAAAAAAAAAAAAAAAAAAAAAAAAAAAAAAAAAAAAAAAAAAAAAAAAAAAAAAAAAAAAAAAAAAAAAAAAAAAAAAAAAAAAAAAAAAAAAAAAAAAAAAAAAAAAAAAAAAAAAAAAAAAAAAAAAAAAAAAAAAAAAAAAAAAAAAAAAAAAAAAAACwAAAAAwIkBAAAI/wABCBxIsKDBgwgTKlzIsKHDhxAjSpxIsaLFixgzatzIsaPHjyBDihxJsqTJkyhTqlzJsqXLlzBjypxJs6bNmzhz6tzJs6fPn0CDCh1KtKjRo0iTKl3KtKnTp1CjSp1KtarVq1izat3KtavXr2DDih1LtqzZs2jTql3Ltq3bt3Djyp1Lt67du3jz6t3Lt6/fv4ADCx5MuLDhw4gTK17MuLHjx5AjS55MubLly5gza97MubPnz6BDix5NurTp06hTq17NurXr17Bjy55Nu7bt27hz697Nu7fv38CDCx9OvLjx48iTK1/OvLnz59CjS59Ovbr169iza9/Ovbv37+DDi3gfT768+fPo06tfz769+/fw48ufT7++/fv48+vfz7+/f4AABA4kWNDgQYQJFS5k2NDhQ4gRJU6kWNHiRYwZNW7k2NHjR5AhRY4kWdLkSZQpVa5k2dLlS5gxZc6kWdPmTZw5de7k2dPnT6BBhQ4lWtToUaRJlS7tGBAAOw==\"><title>Layer: flatten (hidden)\n",
       " Keras class = Flatten</title></image><text x=\"817.5\" y=\"299.5\" font-family=\"monospace\" font-size=\"12\" text-anchor=\"start\" alignment-baseline=\"central\">flatten</text><line x1=\"237.5\" y1=\"339\" x2=\"237.5\" y2=\"285\" stroke=\"black\" stroke-width=\"2\"><title>Weights from hidden to hidden2\n",
       " hidden2/kernel has shape (35330, 5)\n",
       " hidden2/bias has shape (5,)</title></line><rect x=\"136.5\" y=\"339\" width=\"202\" height=\"27\" style=\"fill:none;stroke:black;stroke-width:2\"/><image id=\"Robot Prediction Network_hidden_29\" class=\"Robot Prediction Network_hidden\" x=\"137.5\" y=\"340\" height=\"25\" width=\"200\" preserveAspectRatio=\"none\" href=\"data:image/gif;base64,R0lGODdhMgABAIcAAP/9/QAAAAAAAAAAAAAAAAAAAAAAAAAAAAAAAAAAAAAAAAAAAAAAAAAAAAAAAAAAAAAAAAAAAAAAAAAAAAAAAAAAAAAAAAAAAAAAAAAAAAAAAAAAAAAAAAAAAAAAAAAAAAAAAAAAAAAAAAAAAAAAAAAAAAAAAAAAAAAAAAAAAAAAAAAAAAAAAAAAAAAAAAAAAAAAAAAAAAAAAAAAAAAAAAAAAAAAAAAAAAAAAAAAAAAAAAAAAAAAAAAAAAAAAAAAAAAAAAAAAAAAAAAAAAAAAAAAAAAAAAAAAAAAAAAAAAAAAAAAAAAAAAAAAAAAAAAAAAAAAAAAAAAAAAAAAAAAAAAAAAAAAAAAAAAAAAAAAAAAAAAAAAAAAAAAAAAAAAAAAAAAAAAAAAAAAAAAAAAAAAAAAAAAAAAAAAAAAAAAAAAAAAAAAAAAAAAAAAAAAAAAAAAAAAAAAAAAAAAAAAAAAAAAAAAAAAAAAAAAAAAAAAAAAAAAAAAAAAAAAAAAAAAAAAAAAAAAAAAAAAAAAAAAAAAAAAAAAAAAAAAAAAAAAAAAAAAAAAAAAAAAAAAAAAAAAAAAAAAAAAAAAAAAAAAAAAAAAAAAAAAAAAAAAAAAAAAAAAAAAAAAAAAAAAAAAAAAAAAAAAAAAAAAAAAAAAAAAAAAAAAAAAAAAAAAAAAAAAAAAAAAAAAAAAAAAAAAAAAAAAAAAAAAAAAAAAAAAAAAAAAAAAAAAAAAAAAAAAAAAAAAAAAAAAAAAAAAAAAAAAAAAAAAAAAAAAAAAAAAAAAAAAAAAAAAAAAAAAAAAAAAAAAAAAAAAAAAAAAAAAAAAAAAAAAAAAAAAAAAAAAAAAAAAAAAAAAAAAAAAAAAAAAAAAAAAAAAAAAAAAAAAAAAAAAAAAAAAAAAAAAAAAAAAAAAAAAAAAAAAAAAAAAAAAAAAAAAAAAAAAAAAAAAAAAAAAAAAAAAAAAAAAAAAAAAAAAAAAAAAAAAAAAAAAAAAAAAAAAAAAAAAAAAAAAAAAAAAAAAACwAAAAAMgABAAAIDgABCBxIsKDBgwgTFgwIADs=\"><title>Layer: hidden (hidden)\n",
       " shape = (50,)\n",
       " Keras class = Dense\n",
       " activation = relu</title></image><text x=\"342.5\" y=\"354.5\" font-family=\"monospace\" font-size=\"12\" text-anchor=\"start\" alignment-baseline=\"central\">hidden</text><line x1=\"475.0\" y1=\"340\" x2=\"475.0\" y2=\"285\" stroke=\"black\" stroke-width=\"2\"><title>Weights from sonar to hidden2\n",
       " hidden2/kernel has shape (35330, 5)\n",
       " hidden2/bias has shape (5,)</title></line><line x1=\"712.5\" y1=\"339\" x2=\"712.5\" y2=\"312\" stroke=\"black\" stroke-width=\"2\" marker-end=\"url(#arrow)\"><title>Weights from conv to flatten</title></line><rect x=\"611.5\" y=\"339\" width=\"202\" height=\"133\" style=\"fill:none;stroke:black;stroke-width:2\"/><image id=\"Robot Prediction Network_conv_30\" class=\"Robot Prediction Network_conv\" x=\"612.5\" y=\"340\" height=\"131\" width=\"200\" preserveAspectRatio=\"none\" href=\"data:image/gif;base64,R0lGODdhOgAmAIcAAP/9/QAAAAAAAAAAAAAAAAAAAAAAAAAAAAAAAAAAAAAAAAAAAAAAAAAAAAAAAAAAAAAAAAAAAAAAAAAAAAAAAAAAAAAAAAAAAAAAAAAAAAAAAAAAAAAAAAAAAAAAAAAAAAAAAAAAAAAAAAAAAAAAAAAAAAAAAAAAAAAAAAAAAAAAAAAAAAAAAAAAAAAAAAAAAAAAAAAAAAAAAAAAAAAAAAAAAAAAAAAAAAAAAAAAAAAAAAAAAAAAAAAAAAAAAAAAAAAAAAAAAAAAAAAAAAAAAAAAAAAAAAAAAAAAAAAAAAAAAAAAAAAAAAAAAAAAAAAAAAAAAAAAAAAAAAAAAAAAAAAAAAAAAAAAAAAAAAAAAAAAAAAAAAAAAAAAAAAAAAAAAAAAAAAAAAAAAAAAAAAAAAAAAAAAAAAAAAAAAAAAAAAAAAAAAAAAAAAAAAAAAAAAAAAAAAAAAAAAAAAAAAAAAAAAAAAAAAAAAAAAAAAAAAAAAAAAAAAAAAAAAAAAAAAAAAAAAAAAAAAAAAAAAAAAAAAAAAAAAAAAAAAAAAAAAAAAAAAAAAAAAAAAAAAAAAAAAAAAAAAAAAAAAAAAAAAAAAAAAAAAAAAAAAAAAAAAAAAAAAAAAAAAAAAAAAAAAAAAAAAAAAAAAAAAAAAAAAAAAAAAAAAAAAAAAAAAAAAAAAAAAAAAAAAAAAAAAAAAAAAAAAAAAAAAAAAAAAAAAAAAAAAAAAAAAAAAAAAAAAAAAAAAAAAAAAAAAAAAAAAAAAAAAAAAAAAAAAAAAAAAAAAAAAAAAAAAAAAAAAAAAAAAAAAAAAAAAAAAAAAAAAAAAAAAAAAAAAAAAAAAAAAAAAAAAAAAAAAAAAAAAAAAAAAAAAAAAAAAAAAAAAAAAAAAAAAAAAAAAAAAAAAAAAAAAAAAAAAAAAAAAAAAAAAAAAAAAAAAAAAAAAAAAAAAAAAAAAAAAAAAAAAAAAAAAAAAAAAAAAAAAAAAAAAAAAAAAAAAAAAAAAAAAAAAAAAAAAAAAAAAACwAAAAAOgAmAEAITQABCBxIsKDBgwgTKlzIsKHDhxAjSpxIsaLFixgzatzIsaPHjyBDihxJsqTJkyhTqlzJsqXLlzBjypxJs6bNmzhz6tzJs6fPn0CD7gwIADs=\"><title>Layer: conv (hidden)\n",
       " Keras class = Conv2D</title></image><text x=\"817.5\" y=\"407.5\" font-family=\"monospace\" font-size=\"12\" text-anchor=\"start\" alignment-baseline=\"central\">conv</text><text x=\"817.5\" y=\"345\" font-family=\"monospace\" font-size=\"12\" text-anchor=\"start\" alignment-baseline=\"central\">16</text><text x=\"600.5\" y=\"466\" font-family=\"monospace\" font-size=\"12\" text-anchor=\"start\" alignment-baseline=\"central\">6</text><line x1=\"237.5\" y1=\"500\" x2=\"237.5\" y2=\"367\" stroke=\"black\" stroke-width=\"2\" marker-end=\"url(#arrow)\"><title>Weights from light to hidden\n",
       " hidden/kernel has shape (2, 50)\n",
       " hidden/bias has shape (50,)</title></line><rect x=\"186.5\" y=\"500\" width=\"102\" height=\"52\" style=\"fill:none;stroke:black;stroke-width:2\"/><image id=\"Robot Prediction Network_light_31\" class=\"Robot Prediction Network_light\" x=\"187.5\" y=\"501\" height=\"50\" width=\"100\" preserveAspectRatio=\"none\" href=\"data:image/gif;base64,R0lGODdhAgABAIcAAP/9/QAAAAAAAAAAAAAAAAAAAAAAAAAAAAAAAAAAAAAAAAAAAAAAAAAAAAAAAAAAAAAAAAAAAAAAAAAAAAAAAAAAAAAAAAAAAAAAAAAAAAAAAAAAAAAAAAAAAAAAAAAAAAAAAAAAAAAAAAAAAAAAAAAAAAAAAAAAAAAAAAAAAAAAAAAAAAAAAAAAAAAAAAAAAAAAAAAAAAAAAAAAAAAAAAAAAAAAAAAAAAAAAAAAAAAAAAAAAAAAAAAAAAAAAAAAAAAAAAAAAAAAAAAAAAAAAAAAAAAAAAAAAAAAAAAAAAAAAAAAAAAAAAAAAAAAAAAAAAAAAAAAAAAAAAAAAAAAAAAAAAAAAAAAAAAAAAAAAAAAAAAAAAAAAAAAAAAAAAAAAAAAAAAAAAAAAAAAAAAAAAAAAAAAAAAAAAAAAAAAAAAAAAAAAAAAAAAAAAAAAAAAAAAAAAAAAAAAAAAAAAAAAAAAAAAAAAAAAAAAAAAAAAAAAAAAAAAAAAAAAAAAAAAAAAAAAAAAAAAAAAAAAAAAAAAAAAAAAAAAAAAAAAAAAAAAAAAAAAAAAAAAAAAAAAAAAAAAAAAAAAAAAAAAAAAAAAAAAAAAAAAAAAAAAAAAAAAAAAAAAAAAAAAAAAAAAAAAAAAAAAAAAAAAAAAAAAAAAAAAAAAAAAAAAAAAAAAAAAAAAAAAAAAAAAAAAAAAAAAAAAAAAAAAAAAAAAAAAAAAAAAAAAAAAAAAAAAAAAAAAAAAAAAAAAAAAAAAAAAAAAAAAAAAAAAAAAAAAAAAAAAAAAAAAAAAAAAAAAAAAAAAAAAAAAAAAAAAAAAAAAAAAAAAAAAAAAAAAAAAAAAAAAAAAAAAAAAAAAAAAAAAAAAAAAAAAAAAAAAAAAAAAAAAAAAAAAAAAAAAAAAAAAAAAAAAAAAAAAAAAAAAAAAAAAAAAAAAAAAAAAAAAAAAAAAAAAAAAAAAAAAAAAAAAAAAAAAAAAAAAAAAAAAAAAAAAAAAAAAAAAAAAAAAAAAAAAAAAAAAACwAAAAAAgABAAAIBQABAAgIADs=\"><title>Layer: light (input)\n",
       " shape = (2,)\n",
       " Keras class = Input</title></image><text x=\"292.5\" y=\"528.0\" font-family=\"monospace\" font-size=\"12\" text-anchor=\"start\" alignment-baseline=\"central\">light</text><line x1=\"475.0\" y1=\"500\" x2=\"475.0\" y2=\"340\" stroke=\"black\" stroke-width=\"2\"><title>Weights from sonar to hidden2\n",
       " hidden2/kernel has shape (35330, 5)\n",
       " hidden2/bias has shape (5,)</title></line><rect x=\"374.0\" y=\"500\" width=\"202\" height=\"27\" style=\"fill:none;stroke:black;stroke-width:2\"/><image id=\"Robot Prediction Network_sonar_32\" class=\"Robot Prediction Network_sonar\" x=\"375.0\" y=\"501\" height=\"25\" width=\"200\" preserveAspectRatio=\"none\" href=\"data:image/gif;base64,R0lGODdhEAABAIcAAP/9/QAAAAAAAAAAAAAAAAAAAAAAAAAAAAAAAAAAAAAAAAAAAAAAAAAAAAAAAAAAAAAAAAAAAAAAAAAAAAAAAAAAAAAAAAAAAAAAAAAAAAAAAAAAAAAAAAAAAAAAAAAAAAAAAAAAAAAAAAAAAAAAAAAAAAAAAAAAAAAAAAAAAAAAAAAAAAAAAAAAAAAAAAAAAAAAAAAAAAAAAAAAAAAAAAAAAAAAAAAAAAAAAAAAAAAAAAAAAAAAAAAAAAAAAAAAAAAAAAAAAAAAAAAAAAAAAAAAAAAAAAAAAAAAAAAAAAAAAAAAAAAAAAAAAAAAAAAAAAAAAAAAAAAAAAAAAAAAAAAAAAAAAAAAAAAAAAAAAAAAAAAAAAAAAAAAAAAAAAAAAAAAAAAAAAAAAAAAAAAAAAAAAAAAAAAAAAAAAAAAAAAAAAAAAAAAAAAAAAAAAAAAAAAAAAAAAAAAAAAAAAAAAAAAAAAAAAAAAAAAAAAAAAAAAAAAAAAAAAAAAAAAAAAAAAAAAAAAAAAAAAAAAAAAAAAAAAAAAAAAAAAAAAAAAAAAAAAAAAAAAAAAAAAAAAAAAAAAAAAAAAAAAAAAAAAAAAAAAAAAAAAAAAAAAAAAAAAAAAAAAAAAAAAAAAAAAAAAAAAAAAAAAAAAAAAAAAAAAAAAAAAAAAAAAAAAAAAAAAAAAAAAAAAAAAAAAAAAAAAAAAAAAAAAAAAAAAAAAAAAAAAAAAAAAAAAAAAAAAAAAAAAAAAAAAAAAAAAAAAAAAAAAAAAAAAAAAAAAAAAAAAAAAAAAAAAAAAAAAAAAAAAAAAAAAAAAAAAAAAAAAAAAAAAAAAAAAAAAAAAAAAAAAAAAAAAAAAAAAAAAAAAAAAAAAAAAAAAAAAAAAAAAAAAAAAAAAAAAAAAAAAAAAAAAAAAAAAAAAAAAAAAAAAAAAAAAAAAAAAAAAAAAAAAAAAAAAAAAAAAAAAAAAAAAAAAAAAAAAAAAAAAAAAAAAAAAAAAAAAAAAAAAAAAAAAAAAAAAAAAACwAAAAAEAABAAAICQABCBxIsCCAgAA7\"><title>Layer: sonar (input)\n",
       " shape = (16,)\n",
       " Keras class = Input</title></image><text x=\"580.0\" y=\"515.5\" font-family=\"monospace\" font-size=\"12\" text-anchor=\"start\" alignment-baseline=\"central\">sonar</text><line x1=\"712.5\" y1=\"500\" x2=\"712.5\" y2=\"473\" stroke=\"black\" stroke-width=\"2\" marker-end=\"url(#arrow)\"><title>Weights from camera to conv\n",
       " conv/kernel has shape (3, 3, 3, 16)\n",
       " conv/bias has shape (16,)</title></line><rect x=\"611.5\" y=\"500\" width=\"202\" height=\"135\" style=\"fill:none;stroke:black;stroke-width:2\"/><image id=\"Robot Prediction Network_camera_33\" class=\"Robot Prediction Network_camera\" x=\"612.5\" y=\"501\" height=\"133\" width=\"200\" preserveAspectRatio=\"none\" href=\"data:image/gif;base64,R0lGODdhPAAoAIcAAAAAAAAAAAAAAAAAAAAAAAAAAAAAAAAAAAAAAAAAAAAAAAAAAAAAAAAAAAAAAAAAAAAAAAAAAAAAAAAAAAAAAAAAAAAAAAAAAAAAAAAAAAAAAAAAAAAAAAAAAAAAAAAAAAAAAAAAAAAAAAAAAAAAAAAAAAAAAAAAAAAAAAAAAAAAAAAAAAAAAAAAAAAAAAAAAAAAAAAAAAAAAAAAAAAAAAAAAAAAAAAAAAAAAAAAAAAAAAAAAAAAAAAAAAAAAAAAAAAAAAAAAAAAAAAAAAAAAAAAAAAAAAAAAAAAAAAAAAAAAAAAAAAAAAAAAAAAAAAAAAAAAAAAAAAAAAAAAAAAAAAAAAAAAAAAAAAAAAAAAAAAAAAAAAAAAAAAAAAAAAAAAAAAAAAAAAAAAAAAAAAAAAAAAAAAAAAAAAAAAAAAAAAAAAAAAAAAAAAAAAAAAAAAAAAAAAAAAAAAAAAAAAAAAAAAAAAAAAAAAAAAAAAAAAAAAAAAAAAAAAAAAAAAAAAAAAAAAAAAAAAAAAAAAAAAAAAAAAAAAAAAAAAAAAAAAAAAAAAAAAAAAAAAAAAAAAAAAAAAAAAAAAAAAAAAAAAAAAAAAAAAAAAAAAAAAAAAAAAAAAAAAAAAAAAAAAAAAAAAAAAAAAAAAAAAAAAAAAAAAAAAAAAAAAAAAAAAAAAAAAAAAAAAAAAAAAAAAAAAAAAAAAAAAAAAAAAAAAAAAAAAAAAAAAAAAAAAAAAAAAAAAAAAAAAAAAAAAAAAAAAAAAAAAAAAAAAAAAAAAAAAAAAAAAAAAAAAAAAAAAAAAAAAAAAAAAAAAAAAAAAAAAAAAAAAAAAAAAAAAAAAAAAAAAAAAAAAAAAAAAAAAAAAAAAAAAAAAAAAAAAAAAAAAAAAAAAAAAAAAAAAAAAAAAAAAAAAAAAAAAAAAAAAAAAAAAAAAAAAAAAAAAAAAAAAAAAAAAAAAAAAAAAAAAAAAAAAAAAAAAAAAAAAAAAAAAAAAAAAAAAAAAAAAAAAAAAAAAAAAAAAACwAAAAAPAAoAEAIUAABCBxIsKDBgwgTKlzIsKHDhxAjSpxIsaLFixgzatzIsaPHjyBDihxJsqTJkyhTqlzJsqXLlzBjypxJs6bNmzhz6tzJs6fPn0CDCh1K1GZAADs=\"><title>Layer: camera (input)\n",
       " shape = (40, 60, 3)\n",
       " Keras class = Input</title></image><text x=\"817.5\" y=\"569.5\" font-family=\"monospace\" font-size=\"12\" text-anchor=\"start\" alignment-baseline=\"central\">camera</text></svg>"
      ],
      "text/plain": [
       "<Network name='Robot Prediction Network' (compiled)>"
      ]
     },
     "execution_count": 26,
     "metadata": {},
     "output_type": "execute_result"
    }
   ],
   "source": [
    "net"
   ]
  },
  {
   "cell_type": "code",
   "execution_count": null,
   "metadata": {},
   "outputs": [],
   "source": [
    "net.test()"
   ]
  }
 ],
 "metadata": {
  "kernelspec": {
   "display_name": "Python 3",
   "language": "python",
   "name": "python3"
  },
  "language_info": {
   "codemirror_mode": {
    "name": "ipython",
    "version": 3
   },
   "file_extension": ".py",
   "mimetype": "text/x-python",
   "name": "python",
   "nbconvert_exporter": "python",
   "pygments_lexer": "ipython3",
   "version": "3.6.3"
  },
  "widgets": {
   "application/vnd.jupyter.widget-state+json": {
    "state": {
     "05955ec39a68471e8c91acf6df3f2d49": {
      "model_module": "@jupyter-widgets/controls",
      "model_module_version": "1.0.0",
      "model_name": "DescriptionStyleModel",
      "state": {
       "description_width": "initial"
      }
     },
     "0730e86d66854c76b9278f99403d3b67": {
      "model_module": "@jupyter-widgets/controls",
      "model_module_version": "1.0.0",
      "model_name": "FloatTextModel",
      "state": {
       "description": "Rightmost color maps to:",
       "layout": "IPY_MODEL_7a723e205be0443395082380f48abd08",
       "step": null,
       "style": "IPY_MODEL_4973688a53254b1f9bd1d4a1bb896aa6",
       "value": 1
      }
     },
     "07e9863b80304bc6ad0396cc9eabb6e9": {
      "model_module": "@jupyter-widgets/controls",
      "model_module_version": "1.0.0",
      "model_name": "SliderStyleModel",
      "state": {
       "description_width": ""
      }
     },
     "08fed8ce695e4a1bb6f41164a8e2675a": {
      "model_module": "@jupyter-widgets/controls",
      "model_module_version": "1.0.0",
      "model_name": "VBoxModel",
      "state": {
       "children": [
        "IPY_MODEL_8ec1d16839f44a5b951d2fa54c11f6a7",
        "IPY_MODEL_7fa445525740408f8934792822a1bdb0",
        "IPY_MODEL_7c88f9d7d4b4402ca9d21e26d557ade8",
        "IPY_MODEL_bd8c96380e774563a87eec7afe15996e",
        "IPY_MODEL_928167ef87794a10915928f4c166db57",
        "IPY_MODEL_f8905414bc5642a8a0670169a01ab66b",
        "IPY_MODEL_42fd18a4593f4fd3b20b843f3097e2a4",
        "IPY_MODEL_0ec022e378ed4b9aa645cce12b8b4642"
       ],
       "layout": "IPY_MODEL_a685b7bb2f044fea9b3df6389fcf1bb4"
      }
     },
     "090fa82cc7764b228c5685d5826f37fb": {
      "model_module": "@jupyter-widgets/controls",
      "model_module_version": "1.0.0",
      "model_name": "DescriptionStyleModel",
      "state": {
       "description_width": ""
      }
     },
     "0cf2b19b8ef54154b18722009df8b031": {
      "model_module": "@jupyter-widgets/controls",
      "model_module_version": "1.0.0",
      "model_name": "CheckboxModel",
      "state": {
       "description": "Visible",
       "disabled": false,
       "layout": "IPY_MODEL_489c116182b7428d8bacc9286fb5bebf",
       "style": "IPY_MODEL_f7148ff51f194768a4bfe1676fa576c3",
       "value": true
      }
     },
     "0ec022e378ed4b9aa645cce12b8b4642": {
      "model_module": "@jupyter-widgets/controls",
      "model_module_version": "1.0.0",
      "model_name": "FloatTextModel",
      "state": {
       "description": "Feature scale:",
       "layout": "IPY_MODEL_1072f2e628404f749cc8f07a71961f45",
       "step": null,
       "style": "IPY_MODEL_05955ec39a68471e8c91acf6df3f2d49",
       "value": 2
      }
     },
     "1072f2e628404f749cc8f07a71961f45": {
      "model_module": "@jupyter-widgets/base",
      "model_module_version": "1.0.0",
      "model_name": "LayoutModel",
      "state": {}
     },
     "11351ca7077a45bc9cb4ad6f3d66af0c": {
      "model_module": "@jupyter-widgets/base",
      "model_module_version": "1.0.0",
      "model_name": "LayoutModel",
      "state": {
       "width": "100%"
      }
     },
     "115ba3f70562487fad3996897f1e6c2c": {
      "model_module": "@jupyter-widgets/base",
      "model_module_version": "1.0.0",
      "model_name": "LayoutModel",
      "state": {}
     },
     "14e5a616ad464316a3ecec98c264f6fb": {
      "model_module": "@jupyter-widgets/controls",
      "model_module_version": "1.0.0",
      "model_name": "CheckboxModel",
      "state": {
       "description": "Trace Path",
       "disabled": false,
       "layout": "IPY_MODEL_e4fb55975a604deabd7e6f46a914b9f3",
       "style": "IPY_MODEL_090fa82cc7764b228c5685d5826f37fb",
       "value": false
      }
     },
     "16d4e90037dc485c9b3b1e9e1371ab63": {
      "model_module": "@jupyter-widgets/base",
      "model_module_version": "1.0.0",
      "model_name": "LayoutModel",
      "state": {}
     },
     "190dcb12047842389b39f5c6dd1a6ea7": {
      "model_module": "@jupyter-widgets/controls",
      "model_module_version": "1.0.0",
      "model_name": "VBoxModel",
      "state": {
       "children": [
        "IPY_MODEL_719615abd84a4710a02c82145b8fef1b",
        "IPY_MODEL_3fe06e926040403daa24988508f4aeed",
        "IPY_MODEL_7faa26d55ac9480f803966375ddd71ed",
        "IPY_MODEL_fb62276539c0486b99cf1bc842185709"
       ],
       "layout": "IPY_MODEL_ef8b049754db49a487d1715aea1b5017"
      }
     },
     "1ac3f9f44af14acfb8bc601e10435907": {
      "model_module": "@jupyter-widgets/controls",
      "model_module_version": "1.0.0",
      "model_name": "HBoxModel",
      "state": {
       "children": [
        "IPY_MODEL_696b6c63b68540b89363cc34988677d8",
        "IPY_MODEL_eeef8fa711434e5f851e059f7d509946"
       ],
       "layout": "IPY_MODEL_f42c8b120b1d4b77af5045212f0d8aa8"
      }
     },
     "1aedf5c77a8f4abca97fc681206fa97e": {
      "model_module": "@jupyter-widgets/controls",
      "model_module_version": "1.0.0",
      "model_name": "LabelModel",
      "state": {
       "layout": "IPY_MODEL_db1fbd2aeefa4561b4b5d962b83399a2",
       "style": "IPY_MODEL_d49baf2db18c484ebe03fa3416648c0c",
       "value": "of 0"
      }
     },
     "220aab1ac5954d14b22a1a5d68e3c733": {
      "model_module": "@jupyter-widgets/controls",
      "model_module_version": "1.0.0",
      "model_name": "ButtonModel",
      "state": {
       "description": "Clear Output",
       "layout": "IPY_MODEL_44bee6f7a7de4952830b337b8d658ede",
       "style": "IPY_MODEL_7c97172b0f3f4f3f9b8248c0e57332f2"
      }
     },
     "22f5cf4f22ff4c0db872b834be097411": {
      "model_module": "@jupyter-widgets/controls",
      "model_module_version": "1.0.0",
      "model_name": "DescriptionStyleModel",
      "state": {
       "description_width": "initial"
      }
     },
     "232fef27ddfa4803943c89dbe353f858": {
      "model_module": "@jupyter-widgets/base",
      "model_module_version": "1.0.0",
      "model_name": "LayoutModel",
      "state": {
       "width": "100%"
      }
     },
     "235240067abf452b8d696e08f2c13111": {
      "model_module": "@jupyter-widgets/controls",
      "model_module_version": "1.0.0",
      "model_name": "DescriptionStyleModel",
      "state": {
       "description_width": ""
      }
     },
     "24aa39f3e69e4d83ac66969093dd25f3": {
      "model_module": "@jupyter-widgets/controls",
      "model_module_version": "1.0.0",
      "model_name": "DescriptionStyleModel",
      "state": {
       "description_width": ""
      }
     },
     "260c080b582d4cdb91c245a169e439ce": {
      "model_module": "@jupyter-widgets/base",
      "model_module_version": "1.0.0",
      "model_name": "LayoutModel",
      "state": {}
     },
     "28262793544b46a585f01cd6bdfdfa9b": {
      "model_module": "@jupyter-widgets/base",
      "model_module_version": "1.0.0",
      "model_name": "LayoutModel",
      "state": {}
     },
     "2866c606af674eb69eb111aa8c158298": {
      "model_module": "@jupyter-widgets/controls",
      "model_module_version": "1.0.0",
      "model_name": "VBoxModel",
      "state": {
       "children": [
        "IPY_MODEL_f423bd7d43ec418aa16d96771210a321",
        "IPY_MODEL_1ac3f9f44af14acfb8bc601e10435907"
       ],
       "layout": "IPY_MODEL_4e8588565b454c4cacfdd76f1c21d982"
      }
     },
     "2b95452c13b04266bf60ca96fea877c0": {
      "model_module": "@jupyter-widgets/base",
      "model_module_version": "1.0.0",
      "model_name": "LayoutModel",
      "state": {}
     },
     "2dd916e300804f06806ca62b44e4074e": {
      "model_module": "@jupyter-widgets/base",
      "model_module_version": "1.0.0",
      "model_name": "LayoutModel",
      "state": {}
     },
     "2ecb47f4291f46f2b9e47cde3b9ce13e": {
      "model_module": "@jupyter-widgets/controls",
      "model_module_version": "1.0.0",
      "model_name": "HTMLModel",
      "state": {
       "layout": "IPY_MODEL_7bba19ac49834fb786e9df889c9376b0",
       "style": "IPY_MODEL_97d14ab97d2545a0878677884ce65cdd",
       "value": "<img style=\"image-rendering: pixelated;\" src=\"data:image/gif;base64,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\" width=\"240\"/>"
      }
     },
     "2fb0c4b9682644c19e39b47ee0dcbca3": {
      "model_module": "@jupyter-widgets/controls",
      "model_module_version": "1.0.0",
      "model_name": "CheckboxModel",
      "state": {
       "description": "Update GUI",
       "disabled": false,
       "layout": "IPY_MODEL_b4083e5ca34d4d1695a62b30f3766068",
       "style": "IPY_MODEL_24aa39f3e69e4d83ac66969093dd25f3",
       "value": true
      }
     },
     "36f91cfe99574b6faa4e61c150d4ea8f": {
      "model_module": "@jupyter-widgets/base",
      "model_module_version": "1.0.0",
      "model_name": "LayoutModel",
      "state": {
       "width": "100%"
      }
     },
     "375e39490d05455f85b0d395ee381910": {
      "model_module": "@jupyter-widgets/controls",
      "model_module_version": "1.0.0",
      "model_name": "DescriptionStyleModel",
      "state": {
       "description_width": ""
      }
     },
     "388b737a54734c3da468bf538eb65c2f": {
      "model_module": "@jupyter-widgets/base",
      "model_module_version": "1.0.0",
      "model_name": "LayoutModel",
      "state": {}
     },
     "3defa279000747f9a9e047ee229f3d9e": {
      "model_module": "@jupyter-widgets/base",
      "model_module_version": "1.0.0",
      "model_name": "LayoutModel",
      "state": {}
     },
     "3fe06e926040403daa24988508f4aeed": {
      "model_module": "@jupyter-widgets/controls",
      "model_module_version": "1.0.0",
      "model_name": "VBoxModel",
      "state": {
       "children": [
        "IPY_MODEL_7be80ea771bd4f4d8ec90f50a163871a",
        "IPY_MODEL_623ba78826d6494590e0729461213e7e"
       ],
       "layout": "IPY_MODEL_11351ca7077a45bc9cb4ad6f3d66af0c"
      }
     },
     "42fd18a4593f4fd3b20b843f3097e2a4": {
      "model_module": "@jupyter-widgets/controls",
      "model_module_version": "1.0.0",
      "model_name": "IntTextModel",
      "state": {
       "description": "Feature columns:",
       "layout": "IPY_MODEL_71a0f77084114daeb0f49b7a4c81bd8c",
       "step": 1,
       "style": "IPY_MODEL_cc1fe30c80814ab1bda8c70b321df54e",
       "value": 3
      }
     },
     "44bee6f7a7de4952830b337b8d658ede": {
      "model_module": "@jupyter-widgets/base",
      "model_module_version": "1.0.0",
      "model_name": "LayoutModel",
      "state": {}
     },
     "46f1f14fdfc14b5dacbad1cde261ff4a": {
      "model_module": "@jupyter-widgets/controls",
      "model_module_version": "1.0.0",
      "model_name": "ButtonStyleModel",
      "state": {}
     },
     "47c05939610f4ef79e7c7688bcbd23c9": {
      "model_module": "@jupyter-widgets/base",
      "model_module_version": "1.0.0",
      "model_name": "LayoutModel",
      "state": {}
     },
     "489152e29bf54b9b91a76938adee1af4": {
      "model_module": "@jupyter-widgets/controls",
      "model_module_version": "1.0.0",
      "model_name": "DescriptionStyleModel",
      "state": {
       "description_width": ""
      }
     },
     "489c116182b7428d8bacc9286fb5bebf": {
      "model_module": "@jupyter-widgets/base",
      "model_module_version": "1.0.0",
      "model_name": "LayoutModel",
      "state": {}
     },
     "4973688a53254b1f9bd1d4a1bb896aa6": {
      "model_module": "@jupyter-widgets/controls",
      "model_module_version": "1.0.0",
      "model_name": "DescriptionStyleModel",
      "state": {
       "description_width": "initial"
      }
     },
     "4a77eceeec474a56a66bf41ef234f0a5": {
      "model_module": "@jupyter-widgets/base",
      "model_module_version": "1.0.0",
      "model_name": "LayoutModel",
      "state": {}
     },
     "4b9e8c4f9a84487ab1de2a73ad93f6c1": {
      "model_module": "@jupyter-widgets/controls",
      "model_module_version": "1.0.0",
      "model_name": "DescriptionStyleModel",
      "state": {
       "description_width": ""
      }
     },
     "4cf03264a7294b72a47a5a4782be15f2": {
      "model_module": "@jupyter-widgets/controls",
      "model_module_version": "1.0.0",
      "model_name": "FloatSliderModel",
      "state": {
       "layout": "IPY_MODEL_e0b9b45efa0f44f7a6c7d8f2bd3d8b4a",
       "readout": false,
       "step": 0.1,
       "style": "IPY_MODEL_badf3a3562274ea9840056765881202c",
       "value": 87.5
      }
     },
     "4e8588565b454c4cacfdd76f1c21d982": {
      "model_module": "@jupyter-widgets/base",
      "model_module_version": "1.0.0",
      "model_name": "LayoutModel",
      "state": {}
     },
     "4e8953a0c25246f9ba8c8844cdc8d5c1": {
      "model_module": "@jupyter-widgets/base",
      "model_module_version": "1.0.0",
      "model_name": "LayoutModel",
      "state": {}
     },
     "5358a082777844ac906158543026a927": {
      "model_module": "@jupyter-widgets/base",
      "model_module_version": "1.0.0",
      "model_name": "LayoutModel",
      "state": {}
     },
     "56661394939941f391b9c2c2c1c3edc0": {
      "model_module": "@jupyter-widgets/controls",
      "model_module_version": "1.0.0",
      "model_name": "PlayModel",
      "state": {
       "layout": "IPY_MODEL_388b737a54734c3da468bf538eb65c2f",
       "max": 1000000,
       "style": "IPY_MODEL_235240067abf452b8d696e08f2c13111"
      }
     },
     "5b1f535df94949c388c0f61eb3700df2": {
      "model_module": "@jupyter-widgets/base",
      "model_module_version": "1.0.0",
      "model_name": "LayoutModel",
      "state": {
       "height": "248px",
       "padding": "0px 0px 0px 0px",
       "width": "10px"
      }
     },
     "5d49fb2005324d2a83718611521e2245": {
      "model_module": "@jupyter-widgets/base",
      "model_module_version": "1.0.0",
      "model_name": "LayoutModel",
      "state": {}
     },
     "5ea0dc89a6ac4d9a93af4e7e56df58b9": {
      "model_module": "@jupyter-widgets/controls",
      "model_module_version": "1.0.0",
      "model_name": "SliderStyleModel",
      "state": {
       "description_width": ""
      }
     },
     "5ed6345fffb14bd1b0d0e7e77c85cccd": {
      "model_module": "@jupyter-widgets/controls",
      "model_module_version": "1.0.0",
      "model_name": "ButtonModel",
      "state": {
       "icon": "backward",
       "layout": "IPY_MODEL_87d1fda2a6944603b823446851417e7f",
       "style": "IPY_MODEL_e085ed3d3ced42f5832adc848b9c22d0"
      }
     },
     "623ba78826d6494590e0729461213e7e": {
      "model_module": "@jupyter-widgets/controls",
      "model_module_version": "1.0.0",
      "model_name": "HBoxModel",
      "state": {
       "children": [
        "IPY_MODEL_dead848af2dc4f389bb4e5d5dee231f3",
        "IPY_MODEL_5ed6345fffb14bd1b0d0e7e77c85cccd",
        "IPY_MODEL_80526d67b3b647caa0971370f75b2207",
        "IPY_MODEL_7276b86b7515453e90a58c0433f7b7df",
        "IPY_MODEL_716aec3af398492f9d5c61168f5b65f6",
        "IPY_MODEL_9dd598b9c7fb403db1d4d3df7525af6d",
        "IPY_MODEL_f63761643e8b4cb5b4638ad95e658ef7"
       ],
       "layout": "IPY_MODEL_66a3c257850d4363b793cef9adb827ed"
      }
     },
     "62ee9ca84b144601a9080a384542ea6f": {
      "model_module": "@jupyter-widgets/controls",
      "model_module_version": "1.0.0",
      "model_name": "DescriptionStyleModel",
      "state": {
       "description_width": ""
      }
     },
     "631fbe9d9e74474b98379b05adde0a12": {
      "model_module": "@jupyter-widgets/base",
      "model_module_version": "1.0.0",
      "model_name": "LayoutModel",
      "state": {}
     },
     "66a3c257850d4363b793cef9adb827ed": {
      "model_module": "@jupyter-widgets/base",
      "model_module_version": "1.0.0",
      "model_name": "LayoutModel",
      "state": {
       "height": "50px",
       "width": "100%"
      }
     },
     "696b6c63b68540b89363cc34988677d8": {
      "model_module": "@jupyter-widgets/controls",
      "model_module_version": "1.0.0",
      "model_name": "VBoxModel",
      "state": {
       "children": [
        "IPY_MODEL_89ce1a27b7b54959bafc543a71385665",
        "IPY_MODEL_4cf03264a7294b72a47a5a4782be15f2"
       ],
       "layout": "IPY_MODEL_a00085aa5e1848d48bd97028d7892052"
      }
     },
     "6a25850d62564b6aa268370d988bbe54": {
      "model_module": "@jupyter-widgets/base",
      "model_module_version": "1.0.0",
      "model_name": "LayoutModel",
      "state": {}
     },
     "6bb0ebd299ff4922826512c3144f5af1": {
      "model_module": "@jupyter-widgets/controls",
      "model_module_version": "1.0.0",
      "model_name": "CheckboxModel",
      "state": {
       "description": "Errors",
       "disabled": false,
       "layout": "IPY_MODEL_489c116182b7428d8bacc9286fb5bebf",
       "style": "IPY_MODEL_bc70615faf214a6685fabe3b0dce9461",
       "value": false
      }
     },
     "6f41b6e5016f45d5b64940991c9ed8b8": {
      "model_module": "@jupyter-widgets/controls",
      "model_module_version": "1.0.0",
      "model_name": "DescriptionStyleModel",
      "state": {
       "description_width": ""
      }
     },
     "706e943a30574f1182c72c5eeee6960d": {
      "model_module": "@jupyter-widgets/base",
      "model_module_version": "1.0.0",
      "model_name": "LayoutModel",
      "state": {
       "justify_content": "center",
       "overflow_x": "auto",
       "overflow_y": "auto",
       "width": "95%"
      }
     },
     "716aec3af398492f9d5c61168f5b65f6": {
      "model_module": "@jupyter-widgets/controls",
      "model_module_version": "1.0.0",
      "model_name": "ButtonModel",
      "state": {
       "icon": "fast-forward",
       "layout": "IPY_MODEL_36f91cfe99574b6faa4e61c150d4ea8f",
       "style": "IPY_MODEL_46f1f14fdfc14b5dacbad1cde261ff4a"
      }
     },
     "719615abd84a4710a02c82145b8fef1b": {
      "model_module": "@jupyter-widgets/controls",
      "model_module_version": "1.0.0",
      "model_name": "AccordionModel",
      "state": {
       "_titles": {
        "0": "Robot Prediction Network"
       },
       "children": [
        "IPY_MODEL_7e338c7660984273860ce09fcf3b5983"
       ],
       "layout": "IPY_MODEL_91fd2cbfdd3e426091266bbce2f64538",
       "selected_index": null
      }
     },
     "71a0f77084114daeb0f49b7a4c81bd8c": {
      "model_module": "@jupyter-widgets/base",
      "model_module_version": "1.0.0",
      "model_name": "LayoutModel",
      "state": {}
     },
     "7276b86b7515453e90a58c0433f7b7df": {
      "model_module": "@jupyter-widgets/controls",
      "model_module_version": "1.0.0",
      "model_name": "ButtonModel",
      "state": {
       "icon": "forward",
       "layout": "IPY_MODEL_86b7abcb46b647a0b262962568ad2947",
       "style": "IPY_MODEL_bf89a15267be41d68a78055a1e3a204c"
      }
     },
     "74237cd2d972413e9ecb505b25fa8c40": {
      "model_module": "@jupyter-widgets/base",
      "model_module_version": "1.0.0",
      "model_name": "LayoutModel",
      "state": {}
     },
     "761ad797a2f941129b9b3ebb38e579c9": {
      "model_module": "@jupyter-widgets/controls",
      "model_module_version": "1.0.0",
      "model_name": "ButtonStyleModel",
      "state": {}
     },
     "7a723e205be0443395082380f48abd08": {
      "model_module": "@jupyter-widgets/base",
      "model_module_version": "1.0.0",
      "model_name": "LayoutModel",
      "state": {}
     },
     "7bba19ac49834fb786e9df889c9376b0": {
      "model_module": "@jupyter-widgets/base",
      "model_module_version": "1.0.0",
      "model_name": "LayoutModel",
      "state": {}
     },
     "7be80ea771bd4f4d8ec90f50a163871a": {
      "model_module": "@jupyter-widgets/controls",
      "model_module_version": "1.0.0",
      "model_name": "HBoxModel",
      "state": {
       "children": [
        "IPY_MODEL_b1df1da9b60741a49acfffef8e11e47c",
        "IPY_MODEL_1aedf5c77a8f4abca97fc681206fa97e"
       ],
       "layout": "IPY_MODEL_cb8a996783d5497ba76b81534de8c532"
      }
     },
     "7c88f9d7d4b4402ca9d21e26d557ade8": {
      "model_module": "@jupyter-widgets/controls",
      "model_module_version": "1.0.0",
      "model_name": "IntTextModel",
      "state": {
       "description": "Horizontal space between banks:",
       "layout": "IPY_MODEL_489c116182b7428d8bacc9286fb5bebf",
       "step": 1,
       "style": "IPY_MODEL_22f5cf4f22ff4c0db872b834be097411",
       "value": 150
      }
     },
     "7c97172b0f3f4f3f9b8248c0e57332f2": {
      "model_module": "@jupyter-widgets/controls",
      "model_module_version": "1.0.0",
      "model_name": "ButtonStyleModel",
      "state": {}
     },
     "7e338c7660984273860ce09fcf3b5983": {
      "model_module": "@jupyter-widgets/controls",
      "model_module_version": "1.0.0",
      "model_name": "HBoxModel",
      "state": {
       "children": [
        "IPY_MODEL_08fed8ce695e4a1bb6f41164a8e2675a",
        "IPY_MODEL_dfae72d4ad964cc7950bdd17e6962ebe"
       ],
       "layout": "IPY_MODEL_f47cfdb448e542c4b9101a455f6339dc"
      }
     },
     "7e5ea9ab2f014ddc86a65a23be0f483e": {
      "model_module": "@jupyter-widgets/controls",
      "model_module_version": "1.0.0",
      "model_name": "HTMLModel",
      "state": {
       "layout": "IPY_MODEL_74237cd2d972413e9ecb505b25fa8c40",
       "style": "IPY_MODEL_4b9e8c4f9a84487ab1de2a73ad93f6c1",
       "value": "<img src=\"data:image/gif;base64,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\"/>"
      }
     },
     "7fa445525740408f8934792822a1bdb0": {
      "model_module": "@jupyter-widgets/controls",
      "model_module_version": "1.0.0",
      "model_name": "FloatSliderModel",
      "state": {
       "continuous_update": false,
       "description": "Zoom",
       "layout": "IPY_MODEL_4a77eceeec474a56a66bf41ef234f0a5",
       "max": 3,
       "min": 0.5,
       "step": 0.1,
       "style": "IPY_MODEL_07e9863b80304bc6ad0396cc9eabb6e9",
       "value": 1
      }
     },
     "7faa26d55ac9480f803966375ddd71ed": {
      "model_module": "@jupyter-widgets/controls",
      "model_module_version": "1.0.0",
      "model_name": "HTMLModel",
      "state": {
       "layout": "IPY_MODEL_706e943a30574f1182c72c5eeee6960d",
       "style": "IPY_MODEL_cfc37aa505084675a966f58dc197c180",
       "value": "<p style=\"text-align:center\"><svg id='Robot Prediction Network' xmlns='http://www.w3.org/2000/svg' viewBox=\"0 0 950 659\" max-width=\"100%\" height=\"780\" image-rendering=\"pixelated\">\n    <defs>\n        <marker id=\"arrow\" markerWidth=\"10\" markerHeight=\"10\" refX=\"9\" refY=\"3\" orient=\"auto\" markerUnits=\"strokeWidth\">\n          <path d=\"M0,0 L0,6 L9,3 z\" fill=\"black\" />\n        </marker>\n    </defs><text x=\"475.0\" y=\"12.5\" font-family=\"monospace\" font-size=\"15\" text-anchor=\"middle\" alignment-baseline=\"central\">Robot Prediction Network</text><rect x=\"265.6666666666667\" y=\"24\" width=\"102\" height=\"52\" style=\"fill:none;stroke:black;stroke-width:2\"/><image id=\"Robot Prediction Network_output1_12\" class=\"Robot Prediction Network_output1\" x=\"266.6666666666667\" y=\"25\" height=\"50\" width=\"100\" preserveAspectRatio=\"none\" href=\"data:image/gif;base64,R0lGODdhAgABAIcAABAQ/0lJ/wAAAAAAAAAAAAAAAAAAAAAAAAAAAAAAAAAAAAAAAAAAAAAAAAAAAAAAAAAAAAAAAAAAAAAAAAAAAAAAAAAAAAAAAAAAAAAAAAAAAAAAAAAAAAAAAAAAAAAAAAAAAAAAAAAAAAAAAAAAAAAAAAAAAAAAAAAAAAAAAAAAAAAAAAAAAAAAAAAAAAAAAAAAAAAAAAAAAAAAAAAAAAAAAAAAAAAAAAAAAAAAAAAAAAAAAAAAAAAAAAAAAAAAAAAAAAAAAAAAAAAAAAAAAAAAAAAAAAAAAAAAAAAAAAAAAAAAAAAAAAAAAAAAAAAAAAAAAAAAAAAAAAAAAAAAAAAAAAAAAAAAAAAAAAAAAAAAAAAAAAAAAAAAAAAAAAAAAAAAAAAAAAAAAAAAAAAAAAAAAAAAAAAAAAAAAAAAAAAAAAAAAAAAAAAAAAAAAAAAAAAAAAAAAAAAAAAAAAAAAAAAAAAAAAAAAAAAAAAAAAAAAAAAAAAAAAAAAAAAAAAAAAAAAAAAAAAAAAAAAAAAAAAAAAAAAAAAAAAAAAAAAAAAAAAAAAAAAAAAAAAAAAAAAAAAAAAAAAAAAAAAAAAAAAAAAAAAAAAAAAAAAAAAAAAAAAAAAAAAAAAAAAAAAAAAAAAAAAAAAAAAAAAAAAAAAAAAAAAAAAAAAAAAAAAAAAAAAAAAAAAAAAAAAAAAAAAAAAAAAAAAAAAAAAAAAAAAAAAAAAAAAAAAAAAAAAAAAAAAAAAAAAAAAAAAAAAAAAAAAAAAAAAAAAAAAAAAAAAAAAAAAAAAAAAAAAAAAAAAAAAAAAAAAAAAAAAAAAAAAAAAAAAAAAAAAAAAAAAAAAAAAAAAAAAAAAAAAAAAAAAAAAAAAAAAAAAAAAAAAAAAAAAAAAAAAAAAAAAAAAAAAAAAAAAAAAAAAAAAAAAAAAAAAAAAAAAAAAAAAAAAAAAAAAAAAAAAAAAAAAAAAAAAAAAAAAAAAAAAAAAAAAAAAAAAAAAAAAAAAAAAAAAAAAAAAAAAACwAAAAAAgABAAAIBQABBAgIADs=\"><title>Layer: output1 (output)\n shape = (2,)\n Keras class = Dense\n activation = sigmoid</title></image><text x=\"371.6666666666667\" y=\"52.0\" font-family=\"monospace\" font-size=\"12\" text-anchor=\"start\" alignment-baseline=\"central\">output1</text><rect x=\"532.3333333333334\" y=\"24\" width=\"202\" height=\"42\" style=\"fill:none;stroke:black;stroke-width:2\"/><image id=\"Robot Prediction Network_output2_13\" class=\"Robot Prediction Network_output2\" x=\"533.3333333333334\" y=\"25\" height=\"40\" width=\"200\" preserveAspectRatio=\"none\" href=\"data:image/gif;base64,R0lGODdhBQABAIcAAF1d/wAA7B0d/0lJ/wAAAAAAAAAAAAAAAAAAAAAAAAAAAAAAAAAAAAAAAAAAAAAAAAAAAAAAAAAAAAAAAAAAAAAAAAAAAAAAAAAAAAAAAAAAAAAAAAAAAAAAAAAAAAAAAAAAAAAAAAAAAAAAAAAAAAAAAAAAAAAAAAAAAAAAAAAAAAAAAAAAAAAAAAAAAAAAAAAAAAAAAAAAAAAAAAAAAAAAAAAAAAAAAAAAAAAAAAAAAAAAAAAAAAAAAAAAAAAAAAAAAAAAAAAAAAAAAAAAAAAAAAAAAAAAAAAAAAAAAAAAAAAAAAAAAAAAAAAAAAAAAAAAAAAAAAAAAAAAAAAAAAAAAAAAAAAAAAAAAAAAAAAAAAAAAAAAAAAAAAAAAAAAAAAAAAAAAAAAAAAAAAAAAAAAAAAAAAAAAAAAAAAAAAAAAAAAAAAAAAAAAAAAAAAAAAAAAAAAAAAAAAAAAAAAAAAAAAAAAAAAAAAAAAAAAAAAAAAAAAAAAAAAAAAAAAAAAAAAAAAAAAAAAAAAAAAAAAAAAAAAAAAAAAAAAAAAAAAAAAAAAAAAAAAAAAAAAAAAAAAAAAAAAAAAAAAAAAAAAAAAAAAAAAAAAAAAAAAAAAAAAAAAAAAAAAAAAAAAAAAAAAAAAAAAAAAAAAAAAAAAAAAAAAAAAAAAAAAAAAAAAAAAAAAAAAAAAAAAAAAAAAAAAAAAAAAAAAAAAAAAAAAAAAAAAAAAAAAAAAAAAAAAAAAAAAAAAAAAAAAAAAAAAAAAAAAAAAAAAAAAAAAAAAAAAAAAAAAAAAAAAAAAAAAAAAAAAAAAAAAAAAAAAAAAAAAAAAAAAAAAAAAAAAAAAAAAAAAAAAAAAAAAAAAAAAAAAAAAAAAAAAAAAAAAAAAAAAAAAAAAAAAAAAAAAAAAAAAAAAAAAAAAAAAAAAAAAAAAAAAAAAAAAAAAAAAAAAAAAAAAAAAAAAAAAAAAAAAAAAAAAAAAAAAAAAAAAAAAAAAAAAAAAAAAAAAAAAAAAAAAAAAAACwAAAAABQABAAAICAAFDAgAAEBAADs=\"><title>Layer: output2 (output)\n shape = (5,)\n Keras class = Dense\n activation = sigmoid</title></image><text x=\"738.3333333333334\" y=\"47.0\" font-family=\"monospace\" font-size=\"12\" text-anchor=\"start\" alignment-baseline=\"central\">output2</text><line x1=\"316.6666666666667\" y1=\"104\" x2=\"316.6666666666667\" y2=\"77\" stroke=\"black\" stroke-width=\"2\" marker-end=\"url(#arrow)\"><title>Weights from hidden4 to output1\n output1/kernel has shape (10, 2)\n output1/bias has shape (2,)</title></line><rect x=\"215.66666666666669\" y=\"104\" width=\"202\" height=\"27\" style=\"fill:none;stroke:black;stroke-width:2\"/><image id=\"Robot Prediction Network_hidden4_14\" class=\"Robot Prediction Network_hidden4\" x=\"216.66666666666669\" y=\"105\" height=\"25\" width=\"200\" preserveAspectRatio=\"none\" href=\"data:image/gif;base64,R0lGODdhCgABAIcAAAAA+R0d/0dH/1dX/wAAzYSE/wAAAAAAAAAAAAAAAAAAAAAAAAAAAAAAAAAAAAAAAAAAAAAAAAAAAAAAAAAAAAAAAAAAAAAAAAAAAAAAAAAAAAAAAAAAAAAAAAAAAAAAAAAAAAAAAAAAAAAAAAAAAAAAAAAAAAAAAAAAAAAAAAAAAAAAAAAAAAAAAAAAAAAAAAAAAAAAAAAAAAAAAAAAAAAAAAAAAAAAAAAAAAAAAAAAAAAAAAAAAAAAAAAAAAAAAAAAAAAAAAAAAAAAAAAAAAAAAAAAAAAAAAAAAAAAAAAAAAAAAAAAAAAAAAAAAAAAAAAAAAAAAAAAAAAAAAAAAAAAAAAAAAAAAAAAAAAAAAAAAAAAAAAAAAAAAAAAAAAAAAAAAAAAAAAAAAAAAAAAAAAAAAAAAAAAAAAAAAAAAAAAAAAAAAAAAAAAAAAAAAAAAAAAAAAAAAAAAAAAAAAAAAAAAAAAAAAAAAAAAAAAAAAAAAAAAAAAAAAAAAAAAAAAAAAAAAAAAAAAAAAAAAAAAAAAAAAAAAAAAAAAAAAAAAAAAAAAAAAAAAAAAAAAAAAAAAAAAAAAAAAAAAAAAAAAAAAAAAAAAAAAAAAAAAAAAAAAAAAAAAAAAAAAAAAAAAAAAAAAAAAAAAAAAAAAAAAAAAAAAAAAAAAAAAAAAAAAAAAAAAAAAAAAAAAAAAAAAAAAAAAAAAAAAAAAAAAAAAAAAAAAAAAAAAAAAAAAAAAAAAAAAAAAAAAAAAAAAAAAAAAAAAAAAAAAAAAAAAAAAAAAAAAAAAAAAAAAAAAAAAAAAAAAAAAAAAAAAAAAAAAAAAAAAAAAAAAAAAAAAAAAAAAAAAAAAAAAAAAAAAAAAAAAAAAAAAAAAAAAAAAAAAAAAAAAAAAAAAAAAAAAAAAAAAAAAAAAAAAAAAAAAAAAAAAAAAAAAAAAAAAAAAAAAAAAAAAAAAAAAAAAAAAAAAAAAAAAAAAAAAAAAAAAAAAAAAAAAAAAAAAAAAAAAAAAAAAAAAAAACwAAAAACgABAAAIDgAHBABQIIAAAgIGAAgIADs=\"><title>Layer: hidden4 (hidden)\n shape = (10,)\n Keras class = Dense\n activation = sigmoid</title></image><text x=\"421.6666666666667\" y=\"119.5\" font-family=\"monospace\" font-size=\"12\" text-anchor=\"start\" alignment-baseline=\"central\">hidden4</text><line x1=\"633.3333333333334\" y1=\"105\" x2=\"633.3333333333334\" y2=\"65\" stroke=\"red\" stroke-width=\"2\" marker-end=\"url(#arrow)\"><title>Weights from hidden3 to output2\n output2/kernel has shape (10, 5)\n output2/bias has shape (5,)</title></line><line x1=\"475.0\" y1=\"159\" x2=\"633.3333333333334\" y2=\"105\" stroke=\"red\" stroke-width=\"2\"><title>Weights from hidden3 to output2\n output2/kernel has shape (10, 5)\n output2/bias has shape (5,)</title></line><line x1=\"475.0\" y1=\"159\" x2=\"316.6666666666667\" y2=\"132\" stroke=\"red\" stroke-width=\"2\" marker-end=\"url(#arrow)\"><title>Weights from hidden3 to hidden4\n hidden4/kernel has shape (10, 10)\n hidden4/bias has shape (10,)</title></line><rect x=\"374.0\" y=\"159\" width=\"202\" height=\"27\" style=\"fill:none;stroke:black;stroke-width:2\"/><image id=\"Robot Prediction Network_hidden3_15\" class=\"Robot Prediction Network_hidden3\" x=\"375.0\" y=\"160\" height=\"25\" width=\"200\" preserveAspectRatio=\"none\" href=\"data:image/gif;base64,R0lGODdhCgABAIcAAAQE+gAA0RgY/yAg/wAAAAAAAAAAAAAAAAAAAAAAAAAAAAAAAAAAAAAAAAAAAAAAAAAAAAAAAAAAAAAAAAAAAAAAAAAAAAAAAAAAAAAAAAAAAAAAAAAAAAAAAAAAAAAAAAAAAAAAAAAAAAAAAAAAAAAAAAAAAAAAAAAAAAAAAAAAAAAAAAAAAAAAAAAAAAAAAAAAAAAAAAAAAAAAAAAAAAAAAAAAAAAAAAAAAAAAAAAAAAAAAAAAAAAAAAAAAAAAAAAAAAAAAAAAAAAAAAAAAAAAAAAAAAAAAAAAAAAAAAAAAAAAAAAAAAAAAAAAAAAAAAAAAAAAAAAAAAAAAAAAAAAAAAAAAAAAAAAAAAAAAAAAAAAAAAAAAAAAAAAAAAAAAAAAAAAAAAAAAAAAAAAAAAAAAAAAAAAAAAAAAAAAAAAAAAAAAAAAAAAAAAAAAAAAAAAAAAAAAAAAAAAAAAAAAAAAAAAAAAAAAAAAAAAAAAAAAAAAAAAAAAAAAAAAAAAAAAAAAAAAAAAAAAAAAAAAAAAAAAAAAAAAAAAAAAAAAAAAAAAAAAAAAAAAAAAAAAAAAAAAAAAAAAAAAAAAAAAAAAAAAAAAAAAAAAAAAAAAAAAAAAAAAAAAAAAAAAAAAAAAAAAAAAAAAAAAAAAAAAAAAAAAAAAAAAAAAAAAAAAAAAAAAAAAAAAAAAAAAAAAAAAAAAAAAAAAAAAAAAAAAAAAAAAAAAAAAAAAAAAAAAAAAAAAAAAAAAAAAAAAAAAAAAAAAAAAAAAAAAAAAAAAAAAAAAAAAAAAAAAAAAAAAAAAAAAAAAAAAAAAAAAAAAAAAAAAAAAAAAAAAAAAAAAAAAAAAAAAAAAAAAAAAAAAAAAAAAAAAAAAAAAAAAAAAAAAAAAAAAAAAAAAAAAAAAAAAAAAAAAAAAAAAAAAAAAAAAAAAAAAAAAAAAAAAAAAAAAAAAAAAAAAAAAAAAAAAAAAAAAAAAAAAAAAAAAAAAAAAAAAAAAAAAAAAAAAAAAAAAAAAAAAACwAAAAACgABAAAIDQABDAAAIACAgwICBAQAOw==\"><title>Layer: hidden3 (hidden)\n shape = (10,)\n dropout = 0.25\n Keras class = Dense\n activation = sigmoid</title></image><text x=\"580.0\" y=\"174.5\" font-family=\"monospace\" font-size=\"12\" text-anchor=\"start\" alignment-baseline=\"central\">hidden3</text><line x1=\"475.0\" y1=\"214\" x2=\"475.0\" y2=\"187\" stroke=\"black\" stroke-width=\"2\" marker-end=\"url(#arrow)\"><title>Weights from hidden2 to hidden3\n hidden3/kernel has shape (5, 10)\n hidden3/bias has shape (10,)</title></line><rect x=\"374.0\" y=\"214\" width=\"202\" height=\"42\" style=\"fill:none;stroke:black;stroke-width:2\"/><image id=\"Robot Prediction Network_hidden2_16\" class=\"Robot Prediction Network_hidden2\" x=\"375.0\" y=\"215\" height=\"40\" width=\"200\" preserveAspectRatio=\"none\" href=\"data:image/gif;base64,R0lGODdhBQABAIcAAAAA/wAAAAAAAAAAAAAAAAAAAAAAAAAAAAAAAAAAAAAAAAAAAAAAAAAAAAAAAAAAAAAAAAAAAAAAAAAAAAAAAAAAAAAAAAAAAAAAAAAAAAAAAAAAAAAAAAAAAAAAAAAAAAAAAAAAAAAAAAAAAAAAAAAAAAAAAAAAAAAAAAAAAAAAAAAAAAAAAAAAAAAAAAAAAAAAAAAAAAAAAAAAAAAAAAAAAAAAAAAAAAAAAAAAAAAAAAAAAAAAAAAAAAAAAAAAAAAAAAAAAAAAAAAAAAAAAAAAAAAAAAAAAAAAAAAAAAAAAAAAAAAAAAAAAAAAAAAAAAAAAAAAAAAAAAAAAAAAAAAAAAAAAAAAAAAAAAAAAAAAAAAAAAAAAAAAAAAAAAAAAAAAAAAAAAAAAAAAAAAAAAAAAAAAAAAAAAAAAAAAAAAAAAAAAAAAAAAAAAAAAAAAAAAAAAAAAAAAAAAAAAAAAAAAAAAAAAAAAAAAAAAAAAAAAAAAAAAAAAAAAAAAAAAAAAAAAAAAAAAAAAAAAAAAAAAAAAAAAAAAAAAAAAAAAAAAAAAAAAAAAAAAAAAAAAAAAAAAAAAAAAAAAAAAAAAAAAAAAAAAAAAAAAAAAAAAAAAAAAAAAAAAAAAAAAAAAAAAAAAAAAAAAAAAAAAAAAAAAAAAAAAAAAAAAAAAAAAAAAAAAAAAAAAAAAAAAAAAAAAAAAAAAAAAAAAAAAAAAAAAAAAAAAAAAAAAAAAAAAAAAAAAAAAAAAAAAAAAAAAAAAAAAAAAAAAAAAAAAAAAAAAAAAAAAAAAAAAAAAAAAAAAAAAAAAAAAAAAAAAAAAAAAAAAAAAAAAAAAAAAAAAAAAAAAAAAAAAAAAAAAAAAAAAAAAAAAAAAAAAAAAAAAAAAAAAAAAAAAAAAAAAAAAAAAAAAAAAAAAAAAAAAAAAAAAAAAAAAAAAAAAAAAAAAAAAAAAAAAAAAAAAAAAAAAAAAAAAAAAAAAAAAAAAAAAAAAAAAAAAAAAAAAAAAAAAAAAAAAAAAACwAAAAABQABAAAIBgABCBQYEAA7\"><title>Layer: hidden2 (hidden)\n shape = (5,)\n Keras class = Dense\n activation = sigmoid</title></image><text x=\"580.0\" y=\"237.0\" font-family=\"monospace\" font-size=\"12\" text-anchor=\"start\" alignment-baseline=\"central\">hidden2</text><line x1=\"237.5\" y1=\"285\" x2=\"475.0\" y2=\"255\" stroke=\"black\" stroke-width=\"2\" marker-end=\"url(#arrow)\"><title>Weights from hidden to hidden2\n hidden2/kernel has shape (35330, 5)\n hidden2/bias has shape (5,)</title></line><line x1=\"475.0\" y1=\"285\" x2=\"475.0\" y2=\"255\" stroke=\"black\" stroke-width=\"2\" marker-end=\"url(#arrow)\"><title>Weights from sonar to hidden2\n hidden2/kernel has shape (35330, 5)\n hidden2/bias has shape (5,)</title></line><line x1=\"712.5\" y1=\"284\" x2=\"475.0\" y2=\"257\" stroke=\"black\" stroke-width=\"2\" marker-end=\"url(#arrow)\"><title>Weights from flatten to hidden2\n hidden2/kernel has shape (35330, 5)\n hidden2/bias has shape (5,)</title></line><rect x=\"611.5\" y=\"284\" width=\"202\" height=\"27\" style=\"fill:none;stroke:black;stroke-width:2\"/><image id=\"Robot Prediction Network_flatten_17\" class=\"Robot Prediction Network_flatten\" x=\"612.5\" y=\"285\" height=\"25\" width=\"200\" preserveAspectRatio=\"none\" href=\"data:image/gif;base64,R0lGODdhwIkBAIcAAP/9/QAAAAAAAAAAAAAAAAAAAAAAAAAAAAAAAAAAAAAAAAAAAAAAAAAAAAAAAAAAAAAAAAAAAAAAAAAAAAAAAAAAAAAAAAAAAAAAAAAAAAAAAAAAAAAAAAAAAAAAAAAAAAAAAAAAAAAAAAAAAAAAAAAAAAAAAAAAAAAAAAAAAAAAAAAAAAAAAAAAAAAAAAAAAAAAAAAAAAAAAAAAAAAAAAAAAAAAAAAAAAAAAAAAAAAAAAAAAAAAAAAAAAAAAAAAAAAAAAAAAAAAAAAAAAAAAAAAAAAAAAAAAAAAAAAAAAAAAAAAAAAAAAAAAAAAAAAAAAAAAAAAAAAAAAAAAAAAAAAAAAAAAAAAAAAAAAAAAAAAAAAAAAAAAAAAAAAAAAAAAAAAAAAAAAAAAAAAAAAAAAAAAAAAAAAAAAAAAAAAAAAAAAAAAAAAAAAAAAAAAAAAAAAAAAAAAAAAAAAAAAAAAAAAAAAAAAAAAAAAAAAAAAAAAAAAAAAAAAAAAAAAAAAAAAAAAAAAAAAAAAAAAAAAAAAAAAAAAAAAAAAAAAAAAAAAAAAAAAAAAAAAAAAAAAAAAAAAAAAAAAAAAAAAAAAAAAAAAAAAAAAAAAAAAAAAAAAAAAAAAAAAAAAAAAAAAAAAAAAAAAAAAAAAAAAAAAAAAAAAAAAAAAAAAAAAAAAAAAAAAAAAAAAAAAAAAAAAAAAAAAAAAAAAAAAAAAAAAAAAAAAAAAAAAAAAAAAAAAAAAAAAAAAAAAAAAAAAAAAAAAAAAAAAAAAAAAAAAAAAAAAAAAAAAAAAAAAAAAAAAAAAAAAAAAAAAAAAAAAAAAAAAAAAAAAAAAAAAAAAAAAAAAAAAAAAAAAAAAAAAAAAAAAAAAAAAAAAAAAAAAAAAAAAAAAAAAAAAAAAAAAAAAAAAAAAAAAAAAAAAAAAAAAAAAAAAAAAAAAAAAAAAAAAAAAAAAAAAAAAAAAAAAAAAAAAAAAAAAAAAAAAAAAAAAAAAAAAAAAAAAAAAAAAAAAAAAAAAAAAACwAAAAAwIkBAAAI/wABCBxIsKDBgwgTKlzIsKHDhxAjSpxIsaLFixgzatzIsaPHjyBDihxJsqTJkyhTqlzJsqXLlzBjypxJs6bNmzhz6tzJs6fPn0CDCh1KtKjRo0iTKl3KtKnTp1CjSp1KtarVq1izat3KtavXr2DDih1LtqzZs2jTql3Ltq3bt3Djyp1Lt67du3jz6t3Lt6/fv4ADCx5MuLDhw4gTK17MuLHjx5AjS55MubLly5gza97MubPnz6BDix5NurTp06hTq17NurXr17Bjy55Nu7bt27hz697Nu7fv38CDCx9OvLjx48iTK1/OvLnz59CjS59Ovbr169iza9/Ovbv37+DDi3gfT768+fPo06tfz769+/fw48ufT7++/fv48+vfz7+/f4AABA4kWNDgQYQJFS5k2NDhQ4gRJU6kWNHiRYwZNW7k2NHjR5AhRY4kWdLkSZQpVa5k2dLlS5gxZc6kWdPmTZw5de7k2dPnT6BBhQ4lWtToUaRJlS7tGBAAOw==\"><title>Layer: flatten (hidden)\n Keras class = Flatten</title></image><text x=\"817.5\" y=\"299.5\" font-family=\"monospace\" font-size=\"12\" text-anchor=\"start\" alignment-baseline=\"central\">flatten</text><line x1=\"237.5\" y1=\"339\" x2=\"237.5\" y2=\"285\" stroke=\"black\" stroke-width=\"2\"><title>Weights from hidden to hidden2\n hidden2/kernel has shape (35330, 5)\n hidden2/bias has shape (5,)</title></line><rect x=\"136.5\" y=\"339\" width=\"202\" height=\"27\" style=\"fill:none;stroke:black;stroke-width:2\"/><image id=\"Robot Prediction Network_hidden_18\" class=\"Robot Prediction Network_hidden\" x=\"137.5\" y=\"340\" height=\"25\" width=\"200\" preserveAspectRatio=\"none\" href=\"data:image/gif;base64,R0lGODdhMgABAIcAAP/9/QAAAAAAAAAAAAAAAAAAAAAAAAAAAAAAAAAAAAAAAAAAAAAAAAAAAAAAAAAAAAAAAAAAAAAAAAAAAAAAAAAAAAAAAAAAAAAAAAAAAAAAAAAAAAAAAAAAAAAAAAAAAAAAAAAAAAAAAAAAAAAAAAAAAAAAAAAAAAAAAAAAAAAAAAAAAAAAAAAAAAAAAAAAAAAAAAAAAAAAAAAAAAAAAAAAAAAAAAAAAAAAAAAAAAAAAAAAAAAAAAAAAAAAAAAAAAAAAAAAAAAAAAAAAAAAAAAAAAAAAAAAAAAAAAAAAAAAAAAAAAAAAAAAAAAAAAAAAAAAAAAAAAAAAAAAAAAAAAAAAAAAAAAAAAAAAAAAAAAAAAAAAAAAAAAAAAAAAAAAAAAAAAAAAAAAAAAAAAAAAAAAAAAAAAAAAAAAAAAAAAAAAAAAAAAAAAAAAAAAAAAAAAAAAAAAAAAAAAAAAAAAAAAAAAAAAAAAAAAAAAAAAAAAAAAAAAAAAAAAAAAAAAAAAAAAAAAAAAAAAAAAAAAAAAAAAAAAAAAAAAAAAAAAAAAAAAAAAAAAAAAAAAAAAAAAAAAAAAAAAAAAAAAAAAAAAAAAAAAAAAAAAAAAAAAAAAAAAAAAAAAAAAAAAAAAAAAAAAAAAAAAAAAAAAAAAAAAAAAAAAAAAAAAAAAAAAAAAAAAAAAAAAAAAAAAAAAAAAAAAAAAAAAAAAAAAAAAAAAAAAAAAAAAAAAAAAAAAAAAAAAAAAAAAAAAAAAAAAAAAAAAAAAAAAAAAAAAAAAAAAAAAAAAAAAAAAAAAAAAAAAAAAAAAAAAAAAAAAAAAAAAAAAAAAAAAAAAAAAAAAAAAAAAAAAAAAAAAAAAAAAAAAAAAAAAAAAAAAAAAAAAAAAAAAAAAAAAAAAAAAAAAAAAAAAAAAAAAAAAAAAAAAAAAAAAAAAAAAAAAAAAAAAAAAAAAAAAAAAAAAAAAAAAAAAAAAAAAAAAAAAAAAAAAAAAAAAAAAAAAAAAAAAAAAAAAAAAAAAAACwAAAAAMgABAAAIDgABCBxIsKDBgwgTFgwIADs=\"><title>Layer: hidden (hidden)\n shape = (50,)\n Keras class = Dense\n activation = relu</title></image><text x=\"342.5\" y=\"354.5\" font-family=\"monospace\" font-size=\"12\" text-anchor=\"start\" alignment-baseline=\"central\">hidden</text><line x1=\"475.0\" y1=\"340\" x2=\"475.0\" y2=\"285\" stroke=\"black\" stroke-width=\"2\"><title>Weights from sonar to hidden2\n hidden2/kernel has shape (35330, 5)\n hidden2/bias has shape (5,)</title></line><line x1=\"712.5\" y1=\"339\" x2=\"712.5\" y2=\"312\" stroke=\"black\" stroke-width=\"2\" marker-end=\"url(#arrow)\"><title>Weights from conv to flatten</title></line><rect x=\"611.5\" y=\"339\" width=\"202\" height=\"133\" style=\"fill:none;stroke:black;stroke-width:2\"/><image id=\"Robot Prediction Network_conv_19\" class=\"Robot Prediction Network_conv\" x=\"612.5\" y=\"340\" height=\"131\" width=\"200\" preserveAspectRatio=\"none\" href=\"data:image/gif;base64,R0lGODdhOgAmAIcAAP/9/QAAAAAAAAAAAAAAAAAAAAAAAAAAAAAAAAAAAAAAAAAAAAAAAAAAAAAAAAAAAAAAAAAAAAAAAAAAAAAAAAAAAAAAAAAAAAAAAAAAAAAAAAAAAAAAAAAAAAAAAAAAAAAAAAAAAAAAAAAAAAAAAAAAAAAAAAAAAAAAAAAAAAAAAAAAAAAAAAAAAAAAAAAAAAAAAAAAAAAAAAAAAAAAAAAAAAAAAAAAAAAAAAAAAAAAAAAAAAAAAAAAAAAAAAAAAAAAAAAAAAAAAAAAAAAAAAAAAAAAAAAAAAAAAAAAAAAAAAAAAAAAAAAAAAAAAAAAAAAAAAAAAAAAAAAAAAAAAAAAAAAAAAAAAAAAAAAAAAAAAAAAAAAAAAAAAAAAAAAAAAAAAAAAAAAAAAAAAAAAAAAAAAAAAAAAAAAAAAAAAAAAAAAAAAAAAAAAAAAAAAAAAAAAAAAAAAAAAAAAAAAAAAAAAAAAAAAAAAAAAAAAAAAAAAAAAAAAAAAAAAAAAAAAAAAAAAAAAAAAAAAAAAAAAAAAAAAAAAAAAAAAAAAAAAAAAAAAAAAAAAAAAAAAAAAAAAAAAAAAAAAAAAAAAAAAAAAAAAAAAAAAAAAAAAAAAAAAAAAAAAAAAAAAAAAAAAAAAAAAAAAAAAAAAAAAAAAAAAAAAAAAAAAAAAAAAAAAAAAAAAAAAAAAAAAAAAAAAAAAAAAAAAAAAAAAAAAAAAAAAAAAAAAAAAAAAAAAAAAAAAAAAAAAAAAAAAAAAAAAAAAAAAAAAAAAAAAAAAAAAAAAAAAAAAAAAAAAAAAAAAAAAAAAAAAAAAAAAAAAAAAAAAAAAAAAAAAAAAAAAAAAAAAAAAAAAAAAAAAAAAAAAAAAAAAAAAAAAAAAAAAAAAAAAAAAAAAAAAAAAAAAAAAAAAAAAAAAAAAAAAAAAAAAAAAAAAAAAAAAAAAAAAAAAAAAAAAAAAAAAAAAAAAAAAAAAAAAAAAAAAAAAAAAAAAAAAAAAAAAAAAAAAAAAAAAAAAAAAAAACwAAAAAOgAmAEAITQABCBxIsKDBgwgTKlzIsKHDhxAjSpxIsaLFixgzatzIsaPHjyBDihxJsqTJkyhTqlzJsqXLlzBjypxJs6bNmzhz6tzJs6fPn0CD7gwIADs=\"><title>Layer: conv (hidden)\n Keras class = Conv2D</title></image><text x=\"817.5\" y=\"407.5\" font-family=\"monospace\" font-size=\"12\" text-anchor=\"start\" alignment-baseline=\"central\">conv</text><text x=\"817.5\" y=\"345\" font-family=\"monospace\" font-size=\"12\" text-anchor=\"start\" alignment-baseline=\"central\">16</text><text x=\"600.5\" y=\"466\" font-family=\"monospace\" font-size=\"12\" text-anchor=\"start\" alignment-baseline=\"central\">6</text><line x1=\"237.5\" y1=\"500\" x2=\"237.5\" y2=\"367\" stroke=\"black\" stroke-width=\"2\" marker-end=\"url(#arrow)\"><title>Weights from light to hidden\n hidden/kernel has shape (2, 50)\n hidden/bias has shape (50,)</title></line><rect x=\"186.5\" y=\"500\" width=\"102\" height=\"52\" style=\"fill:none;stroke:black;stroke-width:2\"/><image id=\"Robot Prediction Network_light_20\" class=\"Robot Prediction Network_light\" x=\"187.5\" y=\"501\" height=\"50\" width=\"100\" preserveAspectRatio=\"none\" href=\"data:image/gif;base64,R0lGODdhAgABAIcAAP/9/QAAAAAAAAAAAAAAAAAAAAAAAAAAAAAAAAAAAAAAAAAAAAAAAAAAAAAAAAAAAAAAAAAAAAAAAAAAAAAAAAAAAAAAAAAAAAAAAAAAAAAAAAAAAAAAAAAAAAAAAAAAAAAAAAAAAAAAAAAAAAAAAAAAAAAAAAAAAAAAAAAAAAAAAAAAAAAAAAAAAAAAAAAAAAAAAAAAAAAAAAAAAAAAAAAAAAAAAAAAAAAAAAAAAAAAAAAAAAAAAAAAAAAAAAAAAAAAAAAAAAAAAAAAAAAAAAAAAAAAAAAAAAAAAAAAAAAAAAAAAAAAAAAAAAAAAAAAAAAAAAAAAAAAAAAAAAAAAAAAAAAAAAAAAAAAAAAAAAAAAAAAAAAAAAAAAAAAAAAAAAAAAAAAAAAAAAAAAAAAAAAAAAAAAAAAAAAAAAAAAAAAAAAAAAAAAAAAAAAAAAAAAAAAAAAAAAAAAAAAAAAAAAAAAAAAAAAAAAAAAAAAAAAAAAAAAAAAAAAAAAAAAAAAAAAAAAAAAAAAAAAAAAAAAAAAAAAAAAAAAAAAAAAAAAAAAAAAAAAAAAAAAAAAAAAAAAAAAAAAAAAAAAAAAAAAAAAAAAAAAAAAAAAAAAAAAAAAAAAAAAAAAAAAAAAAAAAAAAAAAAAAAAAAAAAAAAAAAAAAAAAAAAAAAAAAAAAAAAAAAAAAAAAAAAAAAAAAAAAAAAAAAAAAAAAAAAAAAAAAAAAAAAAAAAAAAAAAAAAAAAAAAAAAAAAAAAAAAAAAAAAAAAAAAAAAAAAAAAAAAAAAAAAAAAAAAAAAAAAAAAAAAAAAAAAAAAAAAAAAAAAAAAAAAAAAAAAAAAAAAAAAAAAAAAAAAAAAAAAAAAAAAAAAAAAAAAAAAAAAAAAAAAAAAAAAAAAAAAAAAAAAAAAAAAAAAAAAAAAAAAAAAAAAAAAAAAAAAAAAAAAAAAAAAAAAAAAAAAAAAAAAAAAAAAAAAAAAAAAAAAAAAAAAAAAAAAAAAAAAAAAAAAAAAAAAAAAAAAAAACwAAAAAAgABAAAIBQABAAgIADs=\"><title>Layer: light (input)\n shape = (2,)\n Keras class = Input</title></image><text x=\"292.5\" y=\"528.0\" font-family=\"monospace\" font-size=\"12\" text-anchor=\"start\" alignment-baseline=\"central\">light</text><line x1=\"475.0\" y1=\"500\" x2=\"475.0\" y2=\"340\" stroke=\"black\" stroke-width=\"2\"><title>Weights from sonar to hidden2\n hidden2/kernel has shape (35330, 5)\n hidden2/bias has shape (5,)</title></line><rect x=\"374.0\" y=\"500\" width=\"202\" height=\"27\" style=\"fill:none;stroke:black;stroke-width:2\"/><image id=\"Robot Prediction Network_sonar_21\" class=\"Robot Prediction Network_sonar\" x=\"375.0\" y=\"501\" height=\"25\" width=\"200\" preserveAspectRatio=\"none\" href=\"data:image/gif;base64,R0lGODdhEAABAIcAAP/9/QAAAAAAAAAAAAAAAAAAAAAAAAAAAAAAAAAAAAAAAAAAAAAAAAAAAAAAAAAAAAAAAAAAAAAAAAAAAAAAAAAAAAAAAAAAAAAAAAAAAAAAAAAAAAAAAAAAAAAAAAAAAAAAAAAAAAAAAAAAAAAAAAAAAAAAAAAAAAAAAAAAAAAAAAAAAAAAAAAAAAAAAAAAAAAAAAAAAAAAAAAAAAAAAAAAAAAAAAAAAAAAAAAAAAAAAAAAAAAAAAAAAAAAAAAAAAAAAAAAAAAAAAAAAAAAAAAAAAAAAAAAAAAAAAAAAAAAAAAAAAAAAAAAAAAAAAAAAAAAAAAAAAAAAAAAAAAAAAAAAAAAAAAAAAAAAAAAAAAAAAAAAAAAAAAAAAAAAAAAAAAAAAAAAAAAAAAAAAAAAAAAAAAAAAAAAAAAAAAAAAAAAAAAAAAAAAAAAAAAAAAAAAAAAAAAAAAAAAAAAAAAAAAAAAAAAAAAAAAAAAAAAAAAAAAAAAAAAAAAAAAAAAAAAAAAAAAAAAAAAAAAAAAAAAAAAAAAAAAAAAAAAAAAAAAAAAAAAAAAAAAAAAAAAAAAAAAAAAAAAAAAAAAAAAAAAAAAAAAAAAAAAAAAAAAAAAAAAAAAAAAAAAAAAAAAAAAAAAAAAAAAAAAAAAAAAAAAAAAAAAAAAAAAAAAAAAAAAAAAAAAAAAAAAAAAAAAAAAAAAAAAAAAAAAAAAAAAAAAAAAAAAAAAAAAAAAAAAAAAAAAAAAAAAAAAAAAAAAAAAAAAAAAAAAAAAAAAAAAAAAAAAAAAAAAAAAAAAAAAAAAAAAAAAAAAAAAAAAAAAAAAAAAAAAAAAAAAAAAAAAAAAAAAAAAAAAAAAAAAAAAAAAAAAAAAAAAAAAAAAAAAAAAAAAAAAAAAAAAAAAAAAAAAAAAAAAAAAAAAAAAAAAAAAAAAAAAAAAAAAAAAAAAAAAAAAAAAAAAAAAAAAAAAAAAAAAAAAAAAAAAAAAAAAAAAAAAAAAAAAAAAAAAAAAAAAAAAAAAAACwAAAAAEAABAAAICQABCBxIsCCAgAA7\"><title>Layer: sonar (input)\n shape = (16,)\n Keras class = Input</title></image><text x=\"580.0\" y=\"515.5\" font-family=\"monospace\" font-size=\"12\" text-anchor=\"start\" alignment-baseline=\"central\">sonar</text><line x1=\"712.5\" y1=\"500\" x2=\"712.5\" y2=\"473\" stroke=\"black\" stroke-width=\"2\" marker-end=\"url(#arrow)\"><title>Weights from camera to conv\n conv/kernel has shape (3, 3, 3, 16)\n conv/bias has shape (16,)</title></line><rect x=\"611.5\" y=\"500\" width=\"202\" height=\"135\" style=\"fill:none;stroke:black;stroke-width:2\"/><image id=\"Robot Prediction Network_camera_22\" class=\"Robot Prediction Network_camera\" x=\"612.5\" y=\"501\" height=\"133\" width=\"200\" preserveAspectRatio=\"none\" href=\"data:image/gif;base64,R0lGODdhPAAoAIcAAAAAAAAAAAAAAAAAAAAAAAAAAAAAAAAAAAAAAAAAAAAAAAAAAAAAAAAAAAAAAAAAAAAAAAAAAAAAAAAAAAAAAAAAAAAAAAAAAAAAAAAAAAAAAAAAAAAAAAAAAAAAAAAAAAAAAAAAAAAAAAAAAAAAAAAAAAAAAAAAAAAAAAAAAAAAAAAAAAAAAAAAAAAAAAAAAAAAAAAAAAAAAAAAAAAAAAAAAAAAAAAAAAAAAAAAAAAAAAAAAAAAAAAAAAAAAAAAAAAAAAAAAAAAAAAAAAAAAAAAAAAAAAAAAAAAAAAAAAAAAAAAAAAAAAAAAAAAAAAAAAAAAAAAAAAAAAAAAAAAAAAAAAAAAAAAAAAAAAAAAAAAAAAAAAAAAAAAAAAAAAAAAAAAAAAAAAAAAAAAAAAAAAAAAAAAAAAAAAAAAAAAAAAAAAAAAAAAAAAAAAAAAAAAAAAAAAAAAAAAAAAAAAAAAAAAAAAAAAAAAAAAAAAAAAAAAAAAAAAAAAAAAAAAAAAAAAAAAAAAAAAAAAAAAAAAAAAAAAAAAAAAAAAAAAAAAAAAAAAAAAAAAAAAAAAAAAAAAAAAAAAAAAAAAAAAAAAAAAAAAAAAAAAAAAAAAAAAAAAAAAAAAAAAAAAAAAAAAAAAAAAAAAAAAAAAAAAAAAAAAAAAAAAAAAAAAAAAAAAAAAAAAAAAAAAAAAAAAAAAAAAAAAAAAAAAAAAAAAAAAAAAAAAAAAAAAAAAAAAAAAAAAAAAAAAAAAAAAAAAAAAAAAAAAAAAAAAAAAAAAAAAAAAAAAAAAAAAAAAAAAAAAAAAAAAAAAAAAAAAAAAAAAAAAAAAAAAAAAAAAAAAAAAAAAAAAAAAAAAAAAAAAAAAAAAAAAAAAAAAAAAAAAAAAAAAAAAAAAAAAAAAAAAAAAAAAAAAAAAAAAAAAAAAAAAAAAAAAAAAAAAAAAAAAAAAAAAAAAAAAAAAAAAAAAAAAAAAAAAAAAAAAAAAAAAAAAAAAAAAAAAAAAAAAAAAAAAAAAAAAAAAACwAAAAAPAAoAEAIUAABCBxIsKDBgwgTKlzIsKHDhxAjSpxIsaLFixgzatzIsaPHjyBDihxJsqTJkyhTqlzJsqXLlzBjypxJs6bNmzhz6tzJs6fPn0CDCh1K1GZAADs=\"><title>Layer: camera (input)\n shape = (40, 60, 3)\n Keras class = Input</title></image><text x=\"817.5\" y=\"569.5\" font-family=\"monospace\" font-size=\"12\" text-anchor=\"start\" alignment-baseline=\"central\">camera</text></svg></p>"
      }
     },
     "80526d67b3b647caa0971370f75b2207": {
      "model_module": "@jupyter-widgets/controls",
      "model_module_version": "1.0.0",
      "model_name": "IntTextModel",
      "state": {
       "layout": "IPY_MODEL_a93a92d8a4424eb68edffd6513471d2b",
       "step": 1,
       "style": "IPY_MODEL_489152e29bf54b9b91a76938adee1af4"
      }
     },
     "80f9cca1ac314f3d979a25efad5d740e": {
      "model_module": "@jupyter-widgets/base",
      "model_module_version": "1.0.0",
      "model_name": "LayoutModel",
      "state": {}
     },
     "8153b3699e934dc0b3455c8cc3f7038f": {
      "model_module": "@jupyter-widgets/controls",
      "model_module_version": "1.0.0",
      "model_name": "DescriptionStyleModel",
      "state": {
       "description_width": ""
      }
     },
     "86b7abcb46b647a0b262962568ad2947": {
      "model_module": "@jupyter-widgets/base",
      "model_module_version": "1.0.0",
      "model_name": "LayoutModel",
      "state": {
       "width": "100%"
      }
     },
     "87d1fda2a6944603b823446851417e7f": {
      "model_module": "@jupyter-widgets/base",
      "model_module_version": "1.0.0",
      "model_name": "LayoutModel",
      "state": {
       "width": "100%"
      }
     },
     "89ce1a27b7b54959bafc543a71385665": {
      "model_module": "@jupyter-widgets/controls",
      "model_module_version": "1.0.0",
      "model_name": "HBoxModel",
      "state": {
       "children": [
        "IPY_MODEL_c900733749cd4ca68c5f24ccabd4378b",
        "IPY_MODEL_f3fa68b99db343799b91aa57f9f2e729"
       ],
       "layout": "IPY_MODEL_2b95452c13b04266bf60ca96fea877c0"
      }
     },
     "8e7c5c3e206944d0abffb3ebee31be77": {
      "model_module": "@jupyter-widgets/controls",
      "model_module_version": "1.0.0",
      "model_name": "SelectModel",
      "state": {
       "_options_labels": [
        "",
        "Accent",
        "Accent_r",
        "Blues",
        "Blues_r",
        "BrBG",
        "BrBG_r",
        "BuGn",
        "BuGn_r",
        "BuPu",
        "BuPu_r",
        "CMRmap",
        "CMRmap_r",
        "Dark2",
        "Dark2_r",
        "GnBu",
        "GnBu_r",
        "Greens",
        "Greens_r",
        "Greys",
        "Greys_r",
        "OrRd",
        "OrRd_r",
        "Oranges",
        "Oranges_r",
        "PRGn",
        "PRGn_r",
        "Paired",
        "Paired_r",
        "Pastel1",
        "Pastel1_r",
        "Pastel2",
        "Pastel2_r",
        "PiYG",
        "PiYG_r",
        "PuBu",
        "PuBuGn",
        "PuBuGn_r",
        "PuBu_r",
        "PuOr",
        "PuOr_r",
        "PuRd",
        "PuRd_r",
        "Purples",
        "Purples_r",
        "RdBu",
        "RdBu_r",
        "RdGy",
        "RdGy_r",
        "RdPu",
        "RdPu_r",
        "RdYlBu",
        "RdYlBu_r",
        "RdYlGn",
        "RdYlGn_r",
        "Reds",
        "Reds_r",
        "Set1",
        "Set1_r",
        "Set2",
        "Set2_r",
        "Set3",
        "Set3_r",
        "Spectral",
        "Spectral_r",
        "Vega10",
        "Vega10_r",
        "Vega20",
        "Vega20_r",
        "Vega20b",
        "Vega20b_r",
        "Vega20c",
        "Vega20c_r",
        "Wistia",
        "Wistia_r",
        "YlGn",
        "YlGnBu",
        "YlGnBu_r",
        "YlGn_r",
        "YlOrBr",
        "YlOrBr_r",
        "YlOrRd",
        "YlOrRd_r",
        "afmhot",
        "afmhot_r",
        "autumn",
        "autumn_r",
        "binary",
        "binary_r",
        "bone",
        "bone_r",
        "brg",
        "brg_r",
        "bwr",
        "bwr_r",
        "cool",
        "cool_r",
        "coolwarm",
        "coolwarm_r",
        "copper",
        "copper_r",
        "cubehelix",
        "cubehelix_r",
        "flag",
        "flag_r",
        "gist_earth",
        "gist_earth_r",
        "gist_gray",
        "gist_gray_r",
        "gist_heat",
        "gist_heat_r",
        "gist_ncar",
        "gist_ncar_r",
        "gist_rainbow",
        "gist_rainbow_r",
        "gist_stern",
        "gist_stern_r",
        "gist_yarg",
        "gist_yarg_r",
        "gnuplot",
        "gnuplot2",
        "gnuplot2_r",
        "gnuplot_r",
        "gray",
        "gray_r",
        "hot",
        "hot_r",
        "hsv",
        "hsv_r",
        "inferno",
        "inferno_r",
        "jet",
        "jet_r",
        "magma",
        "magma_r",
        "nipy_spectral",
        "nipy_spectral_r",
        "ocean",
        "ocean_r",
        "pink",
        "pink_r",
        "plasma",
        "plasma_r",
        "prism",
        "prism_r",
        "rainbow",
        "rainbow_r",
        "seismic",
        "seismic_r",
        "spectral",
        "spectral_r",
        "spring",
        "spring_r",
        "summer",
        "summer_r",
        "tab10",
        "tab10_r",
        "tab20",
        "tab20_r",
        "tab20b",
        "tab20b_r",
        "tab20c",
        "tab20c_r",
        "terrain",
        "terrain_r",
        "viridis",
        "viridis_r",
        "winter",
        "winter_r"
       ],
       "description": "Colormap:",
       "index": 0,
       "layout": "IPY_MODEL_489c116182b7428d8bacc9286fb5bebf",
       "rows": 1,
       "style": "IPY_MODEL_6f41b6e5016f45d5b64940991c9ed8b8"
      }
     },
     "8ec1d16839f44a5b951d2fa54c11f6a7": {
      "model_module": "@jupyter-widgets/controls",
      "model_module_version": "1.0.0",
      "model_name": "SelectModel",
      "state": {
       "_options_labels": [
        "Test",
        "Train"
       ],
       "description": "Dataset:",
       "index": 1,
       "layout": "IPY_MODEL_ed58a25865d14673bdf67c0f1dbae554",
       "rows": 1,
       "style": "IPY_MODEL_8153b3699e934dc0b3455c8cc3f7038f"
      }
     },
     "8f09e1567e774a8fa9b81a58e83ae16f": {
      "model_module": "@jupyter-widgets/base",
      "model_module_version": "1.0.0",
      "model_name": "LayoutModel",
      "state": {}
     },
     "8f4728959897402cb844156b8e852f39": {
      "model_module": "@jupyter-widgets/controls",
      "model_module_version": "1.0.0",
      "model_name": "SelectModel",
      "state": {
       "_options_labels": [
        "light",
        "sonar",
        "camera",
        "flatten",
        "conv",
        "hidden",
        "output1",
        "hidden2",
        "hidden3",
        "hidden4",
        "output2"
       ],
       "description": "Layer:",
       "index": 10,
       "layout": "IPY_MODEL_16d4e90037dc485c9b3b1e9e1371ab63",
       "rows": 1,
       "style": "IPY_MODEL_62ee9ca84b144601a9080a384542ea6f"
      }
     },
     "916a95c71f084f6b94fb8b7ec2120710": {
      "model_module": "@jupyter-widgets/base",
      "model_module_version": "1.0.0",
      "model_name": "LayoutModel",
      "state": {
       "width": "100%"
      }
     },
     "91fd2cbfdd3e426091266bbce2f64538": {
      "model_module": "@jupyter-widgets/base",
      "model_module_version": "1.0.0",
      "model_name": "LayoutModel",
      "state": {}
     },
     "928167ef87794a10915928f4c166db57": {
      "model_module": "@jupyter-widgets/controls",
      "model_module_version": "1.0.0",
      "model_name": "HBoxModel",
      "state": {
       "children": [
        "IPY_MODEL_a83e89b9221847439480ecc6faec9bef",
        "IPY_MODEL_6bb0ebd299ff4922826512c3144f5af1"
       ],
       "layout": "IPY_MODEL_6a25850d62564b6aa268370d988bbe54"
      }
     },
     "97d14ab97d2545a0878677884ce65cdd": {
      "model_module": "@jupyter-widgets/controls",
      "model_module_version": "1.0.0",
      "model_name": "DescriptionStyleModel",
      "state": {
       "description_width": ""
      }
     },
     "99369ca8a7c64ae0a2f1a61a07efe8a1": {
      "model_module": "@jupyter-widgets/controls",
      "model_module_version": "1.0.0",
      "model_name": "VBoxModel",
      "state": {
       "children": [
        "IPY_MODEL_2866c606af674eb69eb111aa8c158298",
        "IPY_MODEL_f1336f9c4bf644ab9570abb050bba129",
        "IPY_MODEL_ef77b22395ae4ed398253d78e4417095"
       ],
       "layout": "IPY_MODEL_115ba3f70562487fad3996897f1e6c2c"
      }
     },
     "99cc0010040d41118dd86e45196cd792": {
      "model_module": "@jupyter-widgets/controls",
      "model_module_version": "1.0.0",
      "model_name": "FloatTextModel",
      "state": {
       "description": "Leftmost color maps to:",
       "layout": "IPY_MODEL_3defa279000747f9a9e047ee229f3d9e",
       "step": null,
       "style": "IPY_MODEL_a9676f84303e4c78886c4d4f803d0eb8",
       "value": -1
      }
     },
     "9bf35004c43b4180965666a996c0e724": {
      "model_module": "@jupyter-widgets/controls",
      "model_module_version": "1.0.0",
      "model_name": "TextModel",
      "state": {
       "description": "Time:",
       "layout": "IPY_MODEL_d06f5b2266ab40b98178af1c55ff9e5b",
       "style": "IPY_MODEL_375e39490d05455f85b0d395ee381910",
       "value": "0.10 seconds"
      }
     },
     "9dd598b9c7fb403db1d4d3df7525af6d": {
      "model_module": "@jupyter-widgets/controls",
      "model_module_version": "1.0.0",
      "model_name": "ButtonModel",
      "state": {
       "description": "Play",
       "icon": "play",
       "layout": "IPY_MODEL_232fef27ddfa4803943c89dbe353f858",
       "style": "IPY_MODEL_761ad797a2f941129b9b3ebb38e579c9"
      }
     },
     "a00085aa5e1848d48bd97028d7892052": {
      "model_module": "@jupyter-widgets/base",
      "model_module_version": "1.0.0",
      "model_name": "LayoutModel",
      "state": {}
     },
     "a0bef1e50a02402dbbd6383d323ede40": {
      "model_module": "@jupyter-widgets/base",
      "model_module_version": "1.0.0",
      "model_name": "LayoutModel",
      "state": {
       "width": "100%"
      }
     },
     "a2287fe91ab74c8789a2c85e48ef225d": {
      "model_module": "@jupyter-widgets/controls",
      "model_module_version": "1.0.0",
      "model_name": "DescriptionStyleModel",
      "state": {
       "description_width": "initial"
      }
     },
     "a26d8823d3ed4d41ada4903af43b6551": {
      "model_module": "@jupyter-widgets/controls",
      "model_module_version": "1.0.0",
      "model_name": "IntTextModel",
      "state": {
       "description": "Feature to show:",
       "layout": "IPY_MODEL_260c080b582d4cdb91c245a169e439ce",
       "step": 1,
       "style": "IPY_MODEL_bea6f051a6b64b24bf25adff7207f9fd"
      }
     },
     "a4c24c9e689b432cb812c5067a336c2f": {
      "model_module": "@jupyter-widgets/controls",
      "model_module_version": "1.0.0",
      "model_name": "ButtonStyleModel",
      "state": {}
     },
     "a685b7bb2f044fea9b3df6389fcf1bb4": {
      "model_module": "@jupyter-widgets/base",
      "model_module_version": "1.0.0",
      "model_name": "LayoutModel",
      "state": {
       "width": "100%"
      }
     },
     "a83e89b9221847439480ecc6faec9bef": {
      "model_module": "@jupyter-widgets/controls",
      "model_module_version": "1.0.0",
      "model_name": "CheckboxModel",
      "state": {
       "description": "Show Targets",
       "disabled": false,
       "layout": "IPY_MODEL_489c116182b7428d8bacc9286fb5bebf",
       "style": "IPY_MODEL_c1b37b4b06374863a98f490019b960a1",
       "value": false
      }
     },
     "a93a92d8a4424eb68edffd6513471d2b": {
      "model_module": "@jupyter-widgets/base",
      "model_module_version": "1.0.0",
      "model_name": "LayoutModel",
      "state": {
       "width": "100%"
      }
     },
     "a9676f84303e4c78886c4d4f803d0eb8": {
      "model_module": "@jupyter-widgets/controls",
      "model_module_version": "1.0.0",
      "model_name": "DescriptionStyleModel",
      "state": {
       "description_width": "initial"
      }
     },
     "ae2a42e9b81b48848ea871eb5e54a9cc": {
      "model_module": "@jupyter-widgets/base",
      "model_module_version": "1.0.0",
      "model_name": "LayoutModel",
      "state": {
       "width": "25%"
      }
     },
     "b1df1da9b60741a49acfffef8e11e47c": {
      "model_module": "@jupyter-widgets/controls",
      "model_module_version": "1.0.0",
      "model_name": "IntSliderModel",
      "state": {
       "continuous_update": false,
       "description": "Dataset index",
       "layout": "IPY_MODEL_a0bef1e50a02402dbbd6383d323ede40",
       "max": 0,
       "style": "IPY_MODEL_5ea0dc89a6ac4d9a93af4e7e56df58b9"
      }
     },
     "b4083e5ca34d4d1695a62b30f3766068": {
      "model_module": "@jupyter-widgets/base",
      "model_module_version": "1.0.0",
      "model_name": "LayoutModel",
      "state": {}
     },
     "badf3a3562274ea9840056765881202c": {
      "model_module": "@jupyter-widgets/controls",
      "model_module_version": "1.0.0",
      "model_name": "SliderStyleModel",
      "state": {
       "description_width": ""
      }
     },
     "bc253d0115d2450cbe1d03e32f6026bb": {
      "model_module": "@jupyter-widgets/base",
      "model_module_version": "1.0.0",
      "model_name": "LayoutModel",
      "state": {}
     },
     "bc70615faf214a6685fabe3b0dce9461": {
      "model_module": "@jupyter-widgets/controls",
      "model_module_version": "1.0.0",
      "model_name": "DescriptionStyleModel",
      "state": {
       "description_width": "initial"
      }
     },
     "bd82d071d31146e2a6dd13081904d908": {
      "model_module": "@jupyter-widgets/base",
      "model_module_version": "1.0.0",
      "model_name": "LayoutModel",
      "state": {
       "width": "100%"
      }
     },
     "bd8c96380e774563a87eec7afe15996e": {
      "model_module": "@jupyter-widgets/controls",
      "model_module_version": "1.0.0",
      "model_name": "IntTextModel",
      "state": {
       "description": "Vertical space between layers:",
       "layout": "IPY_MODEL_489c116182b7428d8bacc9286fb5bebf",
       "step": 1,
       "style": "IPY_MODEL_a2287fe91ab74c8789a2c85e48ef225d",
       "value": 30
      }
     },
     "bea6f051a6b64b24bf25adff7207f9fd": {
      "model_module": "@jupyter-widgets/controls",
      "model_module_version": "1.0.0",
      "model_name": "DescriptionStyleModel",
      "state": {
       "description_width": "initial"
      }
     },
     "bf89a15267be41d68a78055a1e3a204c": {
      "model_module": "@jupyter-widgets/controls",
      "model_module_version": "1.0.0",
      "model_name": "ButtonStyleModel",
      "state": {}
     },
     "c1b37b4b06374863a98f490019b960a1": {
      "model_module": "@jupyter-widgets/controls",
      "model_module_version": "1.0.0",
      "model_name": "DescriptionStyleModel",
      "state": {
       "description_width": "initial"
      }
     },
     "c7f448a85f87451f9bc66e6597a0aef3": {
      "model_module": "@jupyter-widgets/controls",
      "model_module_version": "1.0.0",
      "model_name": "FloatSliderModel",
      "state": {
       "layout": "IPY_MODEL_e61376eef4b34263a2f2778c2efd7c3b",
       "readout": false,
       "step": 0.1,
       "style": "IPY_MODEL_ede150913102409c9726853c708ad14c",
       "value": 99.44295769917836
      }
     },
     "c900733749cd4ca68c5f24ccabd4378b": {
      "model_module": "@jupyter-widgets/controls",
      "model_module_version": "1.0.0",
      "model_name": "FloatSliderModel",
      "state": {
       "layout": "IPY_MODEL_5b1f535df94949c388c0f61eb3700df2",
       "orientation": "vertical",
       "readout": false,
       "step": 0.1,
       "style": "IPY_MODEL_d782da5eff664e8289b96d4084263a5f",
       "value": 51.24999999999999
      }
     },
     "c94e146c6f144812ab8bd38f83451def": {
      "model_module": "@jupyter-widgets/controls",
      "model_module_version": "1.0.0",
      "model_name": "ButtonStyleModel",
      "state": {}
     },
     "cb8a996783d5497ba76b81534de8c532": {
      "model_module": "@jupyter-widgets/base",
      "model_module_version": "1.0.0",
      "model_name": "LayoutModel",
      "state": {
       "height": "40px"
      }
     },
     "cc1fe30c80814ab1bda8c70b321df54e": {
      "model_module": "@jupyter-widgets/controls",
      "model_module_version": "1.0.0",
      "model_name": "DescriptionStyleModel",
      "state": {
       "description_width": "initial"
      }
     },
     "cfc37aa505084675a966f58dc197c180": {
      "model_module": "@jupyter-widgets/controls",
      "model_module_version": "1.0.0",
      "model_name": "DescriptionStyleModel",
      "state": {
       "description_width": ""
      }
     },
     "d06f5b2266ab40b98178af1c55ff9e5b": {
      "model_module": "@jupyter-widgets/base",
      "model_module_version": "1.0.0",
      "model_name": "LayoutModel",
      "state": {}
     },
     "d49baf2db18c484ebe03fa3416648c0c": {
      "model_module": "@jupyter-widgets/controls",
      "model_module_version": "1.0.0",
      "model_name": "DescriptionStyleModel",
      "state": {
       "description_width": ""
      }
     },
     "d782da5eff664e8289b96d4084263a5f": {
      "model_module": "@jupyter-widgets/controls",
      "model_module_version": "1.0.0",
      "model_name": "SliderStyleModel",
      "state": {
       "description_width": ""
      }
     },
     "d99d0c34a416452f908e05c89e436ce1": {
      "model_module": "@jupyter-widgets/controls",
      "model_module_version": "1.0.0",
      "model_name": "ButtonStyleModel",
      "state": {}
     },
     "dad9e79987734d7d8cb4025bf327f969": {
      "model_module": "@jupyter-widgets/base",
      "model_module_version": "1.0.0",
      "model_name": "LayoutModel",
      "state": {}
     },
     "db1fbd2aeefa4561b4b5d962b83399a2": {
      "model_module": "@jupyter-widgets/base",
      "model_module_version": "1.0.0",
      "model_name": "LayoutModel",
      "state": {
       "width": "100px"
      }
     },
     "ddf1b022b61a49a78cba4eda996e4f47": {
      "model_module": "@jupyter-widgets/controls",
      "model_module_version": "1.0.0",
      "model_name": "ButtonModel",
      "state": {
       "icon": "step-forward",
       "layout": "IPY_MODEL_4e8953a0c25246f9ba8c8844cdc8d5c1",
       "style": "IPY_MODEL_a4c24c9e689b432cb812c5067a336c2f"
      }
     },
     "dead848af2dc4f389bb4e5d5dee231f3": {
      "model_module": "@jupyter-widgets/controls",
      "model_module_version": "1.0.0",
      "model_name": "ButtonModel",
      "state": {
       "icon": "fast-backward",
       "layout": "IPY_MODEL_916a95c71f084f6b94fb8b7ec2120710",
       "style": "IPY_MODEL_c94e146c6f144812ab8bd38f83451def"
      }
     },
     "dfae72d4ad964cc7950bdd17e6962ebe": {
      "model_module": "@jupyter-widgets/controls",
      "model_module_version": "1.0.0",
      "model_name": "VBoxModel",
      "state": {
       "children": [
        "IPY_MODEL_8f4728959897402cb844156b8e852f39",
        "IPY_MODEL_0cf2b19b8ef54154b18722009df8b031",
        "IPY_MODEL_8e7c5c3e206944d0abffb3ebee31be77",
        "IPY_MODEL_7e5ea9ab2f014ddc86a65a23be0f483e",
        "IPY_MODEL_99cc0010040d41118dd86e45196cd792",
        "IPY_MODEL_0730e86d66854c76b9278f99403d3b67",
        "IPY_MODEL_a26d8823d3ed4d41ada4903af43b6551"
       ],
       "layout": "IPY_MODEL_bd82d071d31146e2a6dd13081904d908"
      }
     },
     "e085ed3d3ced42f5832adc848b9c22d0": {
      "model_module": "@jupyter-widgets/controls",
      "model_module_version": "1.0.0",
      "model_name": "ButtonStyleModel",
      "state": {}
     },
     "e0b9b45efa0f44f7a6c7d8f2bd3d8b4a": {
      "model_module": "@jupyter-widgets/base",
      "model_module_version": "1.0.0",
      "model_name": "LayoutModel",
      "state": {
       "height": "30px",
       "padding": "0px 0px 0px 10px",
       "width": "260px"
      }
     },
     "e4fb55975a604deabd7e6f46a914b9f3": {
      "model_module": "@jupyter-widgets/base",
      "model_module_version": "1.0.0",
      "model_name": "LayoutModel",
      "state": {}
     },
     "e61376eef4b34263a2f2778c2efd7c3b": {
      "model_module": "@jupyter-widgets/base",
      "model_module_version": "1.0.0",
      "model_name": "LayoutModel",
      "state": {
       "height": "20px",
       "padding": "0px 0px 0px 0px",
       "width": "248px"
      }
     },
     "ed58a25865d14673bdf67c0f1dbae554": {
      "model_module": "@jupyter-widgets/base",
      "model_module_version": "1.0.0",
      "model_name": "LayoutModel",
      "state": {}
     },
     "ed71733423d246cca133a6eabf2b1789": {
      "model_module": "@jupyter-widgets/controls",
      "model_module_version": "1.0.0",
      "model_name": "DescriptionStyleModel",
      "state": {
       "description_width": ""
      }
     },
     "ede150913102409c9726853c708ad14c": {
      "model_module": "@jupyter-widgets/controls",
      "model_module_version": "1.0.0",
      "model_name": "SliderStyleModel",
      "state": {
       "description_width": ""
      }
     },
     "eeef8fa711434e5f851e059f7d509946": {
      "model_module": "@jupyter-widgets/controls",
      "model_module_version": "1.0.0",
      "model_name": "VBoxModel",
      "state": {
       "children": [
        "IPY_MODEL_2ecb47f4291f46f2b9e47cde3b9ce13e",
        "IPY_MODEL_c7f448a85f87451f9bc66e6597a0aef3"
       ],
       "layout": "IPY_MODEL_5358a082777844ac906158543026a927"
      }
     },
     "ef77b22395ae4ed398253d78e4417095": {
      "model_module": "@jupyter-widgets/output",
      "model_module_version": "1.0.0",
      "model_name": "OutputModel",
      "state": {
       "layout": "IPY_MODEL_631fbe9d9e74474b98379b05adde0a12"
      }
     },
     "ef8b049754db49a487d1715aea1b5017": {
      "model_module": "@jupyter-widgets/base",
      "model_module_version": "1.0.0",
      "model_name": "LayoutModel",
      "state": {}
     },
     "f1336f9c4bf644ab9570abb050bba129": {
      "model_module": "@jupyter-widgets/controls",
      "model_module_version": "1.0.0",
      "model_name": "HBoxModel",
      "state": {
       "children": [
        "IPY_MODEL_ddf1b022b61a49a78cba4eda996e4f47",
        "IPY_MODEL_56661394939941f391b9c2c2c1c3edc0",
        "IPY_MODEL_220aab1ac5954d14b22a1a5d68e3c733"
       ],
       "layout": "IPY_MODEL_80f9cca1ac314f3d979a25efad5d740e"
      }
     },
     "f1b0dff2da4b40809bf431230a3171eb": {
      "model_module": "@jupyter-widgets/controls",
      "model_module_version": "1.0.0",
      "model_name": "DescriptionStyleModel",
      "state": {
       "description_width": ""
      }
     },
     "f3fa68b99db343799b91aa57f9f2e729": {
      "model_module": "@jupyter-widgets/controls",
      "model_module_version": "1.0.0",
      "model_name": "HTMLModel",
      "state": {
       "layout": "IPY_MODEL_47c05939610f4ef79e7c7688bcbd23c9",
       "style": "IPY_MODEL_f1b0dff2da4b40809bf431230a3171eb",
       "value": "<svg baseProfile=\"full\" height=\"240\" version=\"1.1\" width=\"240\" xmlns=\"http://www.w3.org/2000/svg\" xmlns:ev=\"http://www.w3.org/2001/xml-events\" xmlns:xlink=\"http://www.w3.org/1999/xlink\"><defs /><rect fill=\"#eef3dd\" height=\"240.0\" stroke=\"#bebebe\" stroke-width=\"1\" width=\"240.0\" x=\"0.0\" y=\"0.0\" /><circle cx=\"120.0\" cy=\"195.0\" fill=\"#ffff00\" r=\"15.0\" stroke=\"#ffff00\" stroke-width=\"1\" /><line fill=\"#800080\" stroke=\"#add8e6\" stroke-width=\"1\" x1=\"199.29647346587737\" x2=\"0.0\" y1=\"111.37109959820461\" y2=\"118.34932799999999\" /><line fill=\"#800080\" stroke=\"#add8e6\" stroke-width=\"1\" x1=\"200.64858482032437\" x2=\"0.0\" y1=\"107.12118255369946\" y2=\"21.973026000000004\" /><line fill=\"#800080\" stroke=\"#add8e6\" stroke-width=\"1\" x1=\"202.98412783209295\" x2=\"108.20933355871675\" y1=\"105.23830209010676\" y2=\"0.0\" /><line fill=\"#800080\" stroke=\"#add8e6\" stroke-width=\"1\" x1=\"206.529433775271\" x2=\"174.84110042201567\" y1=\"103.61324646974592\" y2=\"0.0\" /><line fill=\"#800080\" stroke=\"#add8e6\" stroke-width=\"1\" x1=\"212.52575915041191\" x2=\"236.38811675880686\" y1=\"103.4032893421199\" y2=\"0.0\" /><line fill=\"#800080\" stroke=\"#add8e6\" stroke-width=\"1\" x1=\"216.176043657403\" x2=\"240.0\" y1=\"104.77639640932952\" y2=\"74.27725800000002\" /><line fill=\"#800080\" stroke=\"#add8e6\" stroke-width=\"1\" x1=\"218.63756094574717\" x2=\"240.0\" y1=\"106.49131117082139\" y2=\"95.60408999999999\" /><line fill=\"#800080\" stroke=\"#add8e6\" stroke-width=\"1\" x1=\"220.28361227887063\" x2=\"240.0\" y1=\"110.63624965151354\" y2=\"109.94589599999998\" /><line fill=\"#800080\" stroke=\"#add8e6\" stroke-width=\"1\" x1=\"220.70352653412263\" x2=\"240.0\" y1=\"122.62890040179542\" y2=\"121.95324600000001\" /><line fill=\"#800080\" stroke=\"#add8e6\" stroke-width=\"1\" x1=\"219.35141517967563\" x2=\"240.0\" y1=\"126.87881744630057\" y2=\"135.641346\" /><line fill=\"#800080\" stroke=\"#add8e6\" stroke-width=\"1\" x1=\"217.01587216790705\" x2=\"240.0\" y1=\"128.76169790989326\" y2=\"154.283364\" /><line fill=\"#800080\" stroke=\"#add8e6\" stroke-width=\"1\" x1=\"213.470566224729\" x2=\"240.0\" y1=\"130.3867535302541\" y2=\"217.131636\" /><line fill=\"#800080\" stroke=\"#add8e6\" stroke-width=\"1\" x1=\"207.47424084958809\" x2=\"182.22726449088904\" y1=\"130.59671065788012\" y2=\"240.0\" /><line fill=\"#800080\" stroke=\"#add8e6\" stroke-width=\"1\" x1=\"203.823956342597\" x2=\"117.29260723482744\" y1=\"129.2236035906705\" y2=\"240.0\" /><line fill=\"#800080\" stroke=\"#add8e6\" stroke-width=\"1\" x1=\"201.36243905425283\" x2=\"0.0\" y1=\"127.50868882917862\" y2=\"230.131668\" /><line fill=\"#800080\" stroke=\"#add8e6\" stroke-width=\"1\" x1=\"199.71638772112937\" x2=\"0.0\" y1=\"123.36375034848649\" y2=\"130.356678\" /><line fill=\"#800080\" stroke=\"#a020f0\" stroke-width=\"1\" x1=\"210.0\" x2=\"0.0\" y1=\"117.00000000000001\" y2=\"5.366183999999992\" /><line fill=\"#800080\" stroke=\"#a020f0\" stroke-width=\"1\" x1=\"210.0\" x2=\"240.0\" y1=\"117.00000000000001\" y2=\"98.250024\" /><line fill=\"#800080\" stroke=\"#ffa500\" stroke-width=\"1\" x1=\"120.0\" x2=\"199.03402705634483\" y1=\"195.0\" y2=\"103.87569287927845\" /><line fill=\"#800080\" stroke=\"#ffa500\" stroke-width=\"1\" x1=\"120.0\" x2=\"220.02116586933806\" y1=\"195.0\" y2=\"103.14084293258738\" /><polygon fill=\"red\" points=\"204.7305361627287,103.67623360803373 199.19149490206433,108.37293691063414 199.82136628494237,126.36191303605695 205.67534323704578,130.65969779616793 215.2694638372713,130.3237663919663 220.80850509793567,125.62706308936588 220.17863371505763,107.63808696394308 214.32465676295422,103.3403022038321\" stroke=\"red\" stroke-width=\"1\" /><polygon points=\"-3.0,-3.0 0,0 3.0,-3.0 0,3.0\" stroke=\"black\" stroke-width=\"1\" transform=\"translate(210.0,117.00000000000001) rotate(177.9946477170421)\" /><polygon fill=\"black\" points=\"213.30385524640815,108.4791701982271 213.47182094850893,113.27623049833983 206.2762304983398,113.52817905149107 206.108264796239,108.73111875137835\" stroke=\"black\" stroke-width=\"1\" /><circle cx=\"199.03402705634483\" cy=\"103.87569287927845\" fill=\"yellow\" r=\"1.5\" stroke=\"orange\" stroke-width=\"1\" /><circle cx=\"220.02116586933806\" cy=\"103.14084293258738\" fill=\"yellow\" r=\"1.5\" stroke=\"orange\" stroke-width=\"1\" /></svg>"
      }
     },
     "f423bd7d43ec418aa16d96771210a321": {
      "model_module": "@jupyter-widgets/controls",
      "model_module_version": "1.0.0",
      "model_name": "HBoxModel",
      "state": {
       "children": [
        "IPY_MODEL_2fb0c4b9682644c19e39b47ee0dcbca3",
        "IPY_MODEL_14e5a616ad464316a3ecec98c264f6fb",
        "IPY_MODEL_9bf35004c43b4180965666a996c0e724"
       ],
       "layout": "IPY_MODEL_2dd916e300804f06806ca62b44e4074e"
      }
     },
     "f42c8b120b1d4b77af5045212f0d8aa8": {
      "model_module": "@jupyter-widgets/base",
      "model_module_version": "1.0.0",
      "model_name": "LayoutModel",
      "state": {}
     },
     "f47cfdb448e542c4b9101a455f6339dc": {
      "model_module": "@jupyter-widgets/base",
      "model_module_version": "1.0.0",
      "model_name": "LayoutModel",
      "state": {}
     },
     "f63761643e8b4cb5b4638ad95e658ef7": {
      "model_module": "@jupyter-widgets/controls",
      "model_module_version": "1.0.0",
      "model_name": "ButtonModel",
      "state": {
       "icon": "refresh",
       "layout": "IPY_MODEL_ae2a42e9b81b48848ea871eb5e54a9cc",
       "style": "IPY_MODEL_d99d0c34a416452f908e05c89e436ce1"
      }
     },
     "f7148ff51f194768a4bfe1676fa576c3": {
      "model_module": "@jupyter-widgets/controls",
      "model_module_version": "1.0.0",
      "model_name": "DescriptionStyleModel",
      "state": {
       "description_width": ""
      }
     },
     "f8905414bc5642a8a0670169a01ab66b": {
      "model_module": "@jupyter-widgets/controls",
      "model_module_version": "1.0.0",
      "model_name": "SelectModel",
      "state": {
       "_options_labels": [
        "",
        "camera",
        "conv"
       ],
       "description": "Features:",
       "index": 0,
       "layout": "IPY_MODEL_28262793544b46a585f01cd6bdfdfa9b",
       "rows": 1,
       "style": "IPY_MODEL_ed71733423d246cca133a6eabf2b1789"
      }
     },
     "fb62276539c0486b99cf1bc842185709": {
      "model_module": "@jupyter-widgets/output",
      "model_module_version": "1.0.0",
      "model_name": "OutputModel",
      "state": {
       "layout": "IPY_MODEL_8f09e1567e774a8fa9b81a58e83ae16f"
      }
     }
    },
    "version_major": 2,
    "version_minor": 0
   }
  }
 },
 "nbformat": 4,
 "nbformat_minor": 2
}
