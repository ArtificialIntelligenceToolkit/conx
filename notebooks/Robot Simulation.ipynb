{
 "cells": [
  {
   "cell_type": "code",
   "execution_count": 1,
   "metadata": {},
   "outputs": [],
   "source": [
    "from jyro.simulator import (Robot, Pioneer, Pioneer16Sonars, \n",
    "                            PioneerFrontLightSensors, Camera,\n",
    "                            VSimulator)\n",
    "import random\n",
    "import numpy as np"
   ]
  },
  {
   "cell_type": "code",
   "execution_count": 2,
   "metadata": {
    "collapsed": true
   },
   "outputs": [],
   "source": [
    "robot = Pioneer(\"Pioneer\", 3.5, 2, 0)"
   ]
  },
  {
   "cell_type": "code",
   "execution_count": 3,
   "metadata": {},
   "outputs": [
    {
     "data": {
      "image/svg+xml": [
       "<svg baseProfile=\"full\" height=\"240\" version=\"1.1\" width=\"240\" xmlns=\"http://www.w3.org/2000/svg\" xmlns:ev=\"http://www.w3.org/2001/xml-events\" xmlns:xlink=\"http://www.w3.org/1999/xlink\"><defs /><line fill=\"#800080\" stroke=\"#d3d3d3\" stroke-width=\"1\" x1=\"78.0\" x2=\"-1842.0\" y1=\"96.0\" y2=\"95.9999999999999\" /><line fill=\"#800080\" stroke=\"#d3d3d3\" stroke-width=\"1\" x1=\"84.0\" x2=\"-1656.110951110368\" y1=\"79.19999999999999\" y2=\"-732.227062542143\" /><line fill=\"#800080\" stroke=\"#d3d3d3\" stroke-width=\"1\" x1=\"93.60000000000001\" x2=\"-1140.5522105981554\" y1=\"72.00000000000001\" y2=\"-1398.805330788438\" /><line fill=\"#800080\" stroke=\"#d3d3d3\" stroke-width=\"1\" x1=\"108.0\" x2=\"-388.9325665968398\" y1=\"66.0\" y2=\"-1788.5775864750112\" /><line fill=\"#800080\" stroke=\"#d3d3d3\" stroke-width=\"1\" x1=\"132.0\" x2=\"628.9325665968398\" y1=\"66.0\" y2=\"-1788.5775864750112\" /><line fill=\"#800080\" stroke=\"#d3d3d3\" stroke-width=\"1\" x1=\"146.4\" x2=\"1380.5522105981554\" y1=\"72.00000000000001\" y2=\"-1398.805330788438\" /><line fill=\"#800080\" stroke=\"#d3d3d3\" stroke-width=\"1\" x1=\"156.0\" x2=\"1896.110951110368\" y1=\"79.19999999999999\" y2=\"-732.227062542143\" /><line fill=\"#800080\" stroke=\"#d3d3d3\" stroke-width=\"1\" x1=\"162.0\" x2=\"2082.0\" y1=\"96.0\" y2=\"95.9999999999999\" /><line fill=\"#800080\" stroke=\"#d3d3d3\" stroke-width=\"1\" x1=\"162.0\" x2=\"2082.0\" y1=\"144.00000000000003\" y2=\"143.9999999999999\" /><line fill=\"#800080\" stroke=\"#d3d3d3\" stroke-width=\"1\" x1=\"156.0\" x2=\"1896.1109511103682\" y1=\"160.8\" y2=\"972.2270625421423\" /><line fill=\"#800080\" stroke=\"#d3d3d3\" stroke-width=\"1\" x1=\"146.4\" x2=\"1380.5522105981554\" y1=\"168.0\" y2=\"1638.805330788438\" /><line fill=\"#800080\" stroke=\"#d3d3d3\" stroke-width=\"1\" x1=\"132.0\" x2=\"628.9325665968399\" y1=\"174.0\" y2=\"2028.5775864750112\" /><line fill=\"#800080\" stroke=\"#d3d3d3\" stroke-width=\"1\" x1=\"107.99999999999999\" x2=\"-388.9325665968404\" y1=\"174.0\" y2=\"2028.5775864750108\" /><line fill=\"#800080\" stroke=\"#d3d3d3\" stroke-width=\"1\" x1=\"93.60000000000001\" x2=\"-1140.5522105981559\" y1=\"168.0\" y2=\"1638.8053307884377\" /><line fill=\"#800080\" stroke=\"#d3d3d3\" stroke-width=\"1\" x1=\"84.0\" x2=\"-1656.1109511103682\" y1=\"160.8\" y2=\"972.2270625421426\" /><line fill=\"#800080\" stroke=\"#d3d3d3\" stroke-width=\"1\" x1=\"78.0\" x2=\"-1842.0\" y1=\"144.0\" y2=\"143.99999999999986\" /><polygon fill=\"red\" points=\"100.8,66.0 78.0,84.0 78.0,156.0 100.8,174.0 139.2,174.0 162.0,156.0 162.0,84.0 139.2,66.0\" stroke=\"red\" stroke-width=\"1\" /><polygon points=\"-12.0,-12.0 0,0 12.0,-12.0 0,12.0\" stroke=\"black\" stroke-width=\"1\" transform=\"translate(120.0,120.0) rotate(180.0)\" /><polygon fill=\"black\" points=\"134.4,86.39999999999999 134.4,105.6 105.6,105.6 105.6,86.39999999999999\" stroke=\"black\" stroke-width=\"1\" /><circle cx=\"78.0\" cy=\"66.0\" fill=\"yellow\" r=\"6.0\" stroke=\"orange\" stroke-width=\"1\" /><circle cx=\"162.0\" cy=\"66.0\" fill=\"yellow\" r=\"6.0\" stroke=\"orange\" stroke-width=\"1\" /></svg>"
      ],
      "text/plain": [
       "<jyro.simulator.robot.Pioneer at 0x7fb519756c18>"
      ]
     },
     "execution_count": 3,
     "metadata": {},
     "output_type": "execute_result"
    }
   ],
   "source": [
    "robot.addDevice(Pioneer16Sonars())\n",
    "robot.addDevice(Camera())\n",
    "light_sensors = PioneerFrontLightSensors(3.0)\n",
    "light_sensors.lightMode = 'ambient'\n",
    "robot.addDevice(light_sensors)"
   ]
  },
  {
   "cell_type": "code",
   "execution_count": 4,
   "metadata": {
    "collapsed": true
   },
   "outputs": [],
   "source": [
    "def worldf(physics):\n",
    "    physics.addBox(0, 0, 4, 4, fill=\"backgroundgreen\", wallcolor=\"gray\")\n",
    "    physics.addLight(2, 0.75, 1.0) # increased brightness for new linear version of lights"
   ]
  },
  {
   "cell_type": "code",
   "execution_count": 5,
   "metadata": {},
   "outputs": [
    {
     "data": {
      "application/vnd.jupyter.widget-view+json": {
       "model_id": "b410212338614828b9f11478eb7156ab"
      }
     },
     "metadata": {},
     "output_type": "display_data"
    }
   ],
   "source": [
    "sim = VSimulator(robot, worldf)"
   ]
  },
  {
   "cell_type": "code",
   "execution_count": 6,
   "metadata": {
    "collapsed": true
   },
   "outputs": [],
   "source": [
    "camera = robot.device[\"camera\"]"
   ]
  },
  {
   "cell_type": "code",
   "execution_count": 7,
   "metadata": {},
   "outputs": [
    {
     "data": {
      "image/png": "[encoded data removed]",
      "text/plain": [
       "<PIL.Image.Image image mode=RGB size=60x40 at 0x7FB4F6A604E0>"
      ]
     },
     "execution_count": 7,
     "metadata": {},
     "output_type": "execute_result"
    }
   ],
   "source": [
    "image = camera.getImage()\n",
    "image"
   ]
  },
  {
   "cell_type": "code",
   "execution_count": 8,
   "metadata": {},
   "outputs": [
    {
     "data": {
      "text/plain": [
       "(60, 40)"
      ]
     },
     "execution_count": 8,
     "metadata": {},
     "output_type": "execute_result"
    }
   ],
   "source": [
    "image.size"
   ]
  },
  {
   "cell_type": "code",
   "execution_count": 9,
   "metadata": {},
   "outputs": [
    {
     "data": {
      "text/plain": [
       "(60, 40, 3)"
      ]
     },
     "execution_count": 9,
     "metadata": {},
     "output_type": "execute_result"
    }
   ],
   "source": [
    "data = camera.getData()\n",
    "data.shape"
   ]
  },
  {
   "cell_type": "code",
   "execution_count": 10,
   "metadata": {
    "collapsed": true
   },
   "outputs": [],
   "source": [
    "robot.move(0.50, 0.35)"
   ]
  },
  {
   "cell_type": "code",
   "execution_count": 11,
   "metadata": {
    "collapsed": true
   },
   "outputs": [],
   "source": [
    "sim.step()"
   ]
  },
  {
   "cell_type": "code",
   "execution_count": 12,
   "metadata": {},
   "outputs": [],
   "source": [
    "def random_action():\n",
    "    \"\"\"Generate a random action from a limited set of possible settings\"\"\"\n",
    "    possible = [-1.0, -0.5, 0.0, 0.5, 1.0]\n",
    "    return [random.choice(possible), random.choice(possible)]\n",
    "\n",
    "def get_senses(robot):\n",
    "    light = robot[\"light\"].getData()\n",
    "    sonar = [v/3.0 for v in robot[\"sonar\"].getData()]\n",
    "    camera = (1.0 - robot[\"camera\"].getData() / 255.0).astype(\"float32\")\n",
    "    return [light, sonar, camera]"
   ]
  },
  {
   "cell_type": "code",
   "execution_count": 13,
   "metadata": {},
   "outputs": [
    {
     "data": {
      "text/plain": [
       "[2, 16, 60]"
      ]
     },
     "execution_count": 13,
     "metadata": {},
     "output_type": "execute_result"
    }
   ],
   "source": [
    "senses = get_senses(robot)\n",
    "list(map(len, senses))"
   ]
  },
  {
   "cell_type": "code",
   "execution_count": 14,
   "metadata": {
    "collapsed": true
   },
   "outputs": [],
   "source": [
    "def brain(robot):\n",
    "    senses = get_senses(robot)\n",
    "    #net.propagate([light, sonar, image])\n",
    "    translate, rotate = random_action()\n",
    "    #self.move(translate, rotate)\n",
    "    robot.move(0.50, 0.35)"
   ]
  },
  {
   "cell_type": "code",
   "execution_count": 15,
   "metadata": {},
   "outputs": [],
   "source": [
    "robot.brain = brain"
   ]
  },
  {
   "cell_type": "code",
   "execution_count": 43,
   "metadata": {},
   "outputs": [],
   "source": [
    "from conx import Network, Layer, FlattenLayer, SGD, ImageLayer, Conv2DTransposeLayer\n",
    "import numpy as np"
   ]
  },
  {
   "cell_type": "code",
   "execution_count": 44,
   "metadata": {},
   "outputs": [],
   "source": [
    "net = Network(\"Robot Prediction Network\")\n",
    "net.add(Layer(\"light\", 2))\n",
    "net.add(Layer(\"sonar\", 16))\n",
    "net.add(ImageLayer(\"camera\", (60, 40), 3))\n",
    "net.add(FlattenLayer(\"flatten\"))\n",
    "net.add(Conv2DTransposeLayer(\"conv\", 16, (3,3)))\n",
    "net.add(Layer(\"hidden\", 50, activation=\"relu\"))\n",
    "net.add(Layer(\"output1\", 2, activation=\"sigmoid\"))\n",
    "net.add(Layer(\"hidden2\", 5, activation=\"sigmoid\"))\n",
    "net.add(Layer(\"hidden3\", 10, activation=\"sigmoid\"))\n",
    "net.add(Layer(\"hidden4\", 10, activation=\"sigmoid\"))\n",
    "net.add(Layer(\"output2\", 5, activation=\"sigmoid\"))"
   ]
  },
  {
   "cell_type": "code",
   "execution_count": 45,
   "metadata": {},
   "outputs": [],
   "source": [
    "net.connect(\"sonar\", \"hidden\")\n",
    "net.connect(\"light\", \"hidden\")\n",
    "net.connect(\"camera\", \"conv\")\n",
    "net.connect(\"conv\", \"flatten\")\n",
    "net.connect(\"flatten\", \"hidden2\")\n",
    "net.connect(\"hidden\", \"hidden2\")\n",
    "net.connect(\"hidden2\", \"hidden3\")\n",
    "net.connect(\"hidden3\", \"output2\")\n",
    "net.connect(\"hidden3\", \"hidden4\")\n",
    "net.connect(\"hidden4\", \"output1\")"
   ]
  },
  {
   "cell_type": "code",
   "execution_count": 46,
   "metadata": {},
   "outputs": [],
   "source": [
    "net.compile(optimizer=\"adam\", error=\"mse\")\n",
    "net.config[\"hspace\"] = 200"
   ]
  },
  {
   "cell_type": "code",
   "execution_count": 47,
   "metadata": {},
   "outputs": [
    {
     "data": {
      "application/javascript": [
       "\n",
       "require(['base/js/namespace'], function(Jupyter) {\n",
       "    Jupyter.notebook.kernel.comm_manager.register_target('conx_svg_control', function(comm, msg) {\n",
       "        comm.on_msg(function(msg) {\n",
       "            var data = msg[\"content\"][\"data\"];\n",
       "            var images = document.getElementsByClassName(data[\"class\"]);\n",
       "            for (var i = 0; i < images.length; i++) {\n",
       "                images[i].setAttributeNS(null, \"href\", data[\"href\"]);\n",
       "            }\n",
       "        });\n",
       "    });\n",
       "});\n"
      ],
      "text/plain": [
       "<IPython.core.display.Javascript object>"
      ]
     },
     "metadata": {},
     "output_type": "display_data"
    },
    {
     "data": {
      "image/svg+xml": [
       "\n",
       "        <svg id='Robot Prediction Network' xmlns='http://www.w3.org/2000/svg' width=\"1100\" height=\"733\" image-rendering=\"pixelated\">\n",
       "    <defs>\n",
       "        <marker id=\"arrow\" markerWidth=\"10\" markerHeight=\"10\" refX=\"9\" refY=\"3\" orient=\"auto\" markerUnits=\"strokeWidth\">\n",
       "          <path d=\"M0,0 L0,6 L9,3 z\" fill=\"black\" />\n",
       "        </marker>\n",
       "    </defs>\n",
       "<text x=\"550.0\" y=\"12.5\" font-family=\"monospace\" font-size=\"15\" text-anchor=\"middle\" alignment-baseline=\"central\">Robot Prediction Network</text><rect x=\"315.6666666666667\" y=\"29\" width=\"102\" height=\"52\" style=\"fill:none;stroke:black;stroke-width:2\"/><image id=\"Robot Prediction Network_output1_1\" class=\"Robot Prediction Network_output1\" x=\"316.6666666666667\" y=\"30\" height=\"50\" width=\"100\" preserveAspectRatio=\"none\" href=\"data:image/gif;base64,R0lGODdhAgABAIcAAP3cye/v7wAAAAAAAAAAAAAAAAAAAAAAAAAAAAAAAAAAAAAAAAAAAAAAAAAAAAAAAAAAAAAAAAAAAAAAAAAAAAAAAAAAAAAAAAAAAAAAAAAAAAAAAAAAAAAAAAAAAAAAAAAAAAAAAAAAAAAAAAAAAAAAAAAAAAAAAAAAAAAAAAAAAAAAAAAAAAAAAAAAAAAAAAAAAAAAAAAAAAAAAAAAAAAAAAAAAAAAAAAAAAAAAAAAAAAAAAAAAAAAAAAAAAAAAAAAAAAAAAAAAAAAAAAAAAAAAAAAAAAAAAAAAAAAAAAAAAAAAAAAAAAAAAAAAAAAAAAAAAAAAAAAAAAAAAAAAAAAAAAAAAAAAAAAAAAAAAAAAAAAAAAAAAAAAAAAAAAAAAAAAAAAAAAAAAAAAAAAAAAAAAAAAAAAAAAAAAAAAAAAAAAAAAAAAAAAAAAAAAAAAAAAAAAAAAAAAAAAAAAAAAAAAAAAAAAAAAAAAAAAAAAAAAAAAAAAAAAAAAAAAAAAAAAAAAAAAAAAAAAAAAAAAAAAAAAAAAAAAAAAAAAAAAAAAAAAAAAAAAAAAAAAAAAAAAAAAAAAAAAAAAAAAAAAAAAAAAAAAAAAAAAAAAAAAAAAAAAAAAAAAAAAAAAAAAAAAAAAAAAAAAAAAAAAAAAAAAAAAAAAAAAAAAAAAAAAAAAAAAAAAAAAAAAAAAAAAAAAAAAAAAAAAAAAAAAAAAAAAAAAAAAAAAAAAAAAAAAAAAAAAAAAAAAAAAAAAAAAAAAAAAAAAAAAAAAAAAAAAAAAAAAAAAAAAAAAAAAAAAAAAAAAAAAAAAAAAAAAAAAAAAAAAAAAAAAAAAAAAAAAAAAAAAAAAAAAAAAAAAAAAAAAAAAAAAAAAAAAAAAAAAAAAAAAAAAAAAAAAAAAAAAAAAAAAAAAAAAAAAAAAAAAAAAAAAAAAAAAAAAAAAAAAAAAAAAAAAAAAAAAAAAAAAAAAAAAAAAAAAAAAAAAAAAAAAAAAAAAAAAAAAAAAAAAAAAAAAAAACwAAAAAAgABAAAIBQADAAgIADs=\"><title>Layer: output1 (output)\n",
       " shape = (2,)\n",
       " Keras class = Dense\n",
       " activation = sigmoid</title></image><text x=\"421.6666666666667\" y=\"57.0\" font-family=\"monospace\" font-size=\"12\" text-anchor=\"start\" alignment-baseline=\"central\">output1</text><rect x=\"632.3333333333334\" y=\"29\" width=\"202\" height=\"42\" style=\"fill:none;stroke:black;stroke-width:2\"/><image id=\"Robot Prediction Network_output2_2\" class=\"Robot Prediction Network_output2\" x=\"633.3333333333334\" y=\"30\" height=\"40\" width=\"200\" preserveAspectRatio=\"none\" href=\"data:image/gif;base64,R0lGODdhBQABAIcAAL29veaFave7nvi9of3n2gAAAAAAAAAAAAAAAAAAAAAAAAAAAAAAAAAAAAAAAAAAAAAAAAAAAAAAAAAAAAAAAAAAAAAAAAAAAAAAAAAAAAAAAAAAAAAAAAAAAAAAAAAAAAAAAAAAAAAAAAAAAAAAAAAAAAAAAAAAAAAAAAAAAAAAAAAAAAAAAAAAAAAAAAAAAAAAAAAAAAAAAAAAAAAAAAAAAAAAAAAAAAAAAAAAAAAAAAAAAAAAAAAAAAAAAAAAAAAAAAAAAAAAAAAAAAAAAAAAAAAAAAAAAAAAAAAAAAAAAAAAAAAAAAAAAAAAAAAAAAAAAAAAAAAAAAAAAAAAAAAAAAAAAAAAAAAAAAAAAAAAAAAAAAAAAAAAAAAAAAAAAAAAAAAAAAAAAAAAAAAAAAAAAAAAAAAAAAAAAAAAAAAAAAAAAAAAAAAAAAAAAAAAAAAAAAAAAAAAAAAAAAAAAAAAAAAAAAAAAAAAAAAAAAAAAAAAAAAAAAAAAAAAAAAAAAAAAAAAAAAAAAAAAAAAAAAAAAAAAAAAAAAAAAAAAAAAAAAAAAAAAAAAAAAAAAAAAAAAAAAAAAAAAAAAAAAAAAAAAAAAAAAAAAAAAAAAAAAAAAAAAAAAAAAAAAAAAAAAAAAAAAAAAAAAAAAAAAAAAAAAAAAAAAAAAAAAAAAAAAAAAAAAAAAAAAAAAAAAAAAAAAAAAAAAAAAAAAAAAAAAAAAAAAAAAAAAAAAAAAAAAAAAAAAAAAAAAAAAAAAAAAAAAAAAAAAAAAAAAAAAAAAAAAAAAAAAAAAAAAAAAAAAAAAAAAAAAAAAAAAAAAAAAAAAAAAAAAAAAAAAAAAAAAAAAAAAAAAAAAAAAAAAAAAAAAAAAAAAAAAAAAAAAAAAAAAAAAAAAAAAAAAAAAAAAAAAAAAAAAAAAAAAAAAAAAAAAAAAAAAAAAAAAAAAAAAAAAAAAAAAAAAAAAAAAAAAAAAAAAAAAAAAAAAAAAAAAAAAAAAAAAAAAAAAAAAAAAAAAAAAACwAAAAABQABAAAICAABDAgggEBAADs=\"><title>Layer: output2 (output)\n",
       " shape = (5,)\n",
       " Keras class = Dense\n",
       " activation = sigmoid</title></image><text x=\"838.3333333333334\" y=\"52.0\" font-family=\"monospace\" font-size=\"12\" text-anchor=\"start\" alignment-baseline=\"central\">output2</text><line x1=\"366.6666666666667\" y1=\"109\" x2=\"366.6666666666667\" y2=\"82\" stroke=\"black\" stroke-width=\"2\" marker-end=\"url(#arrow)\"><title>Weights from hidden4 to output1\n",
       " conv/concatenate_6/output1/kernel has shape (10, 2)\n",
       " conv/concatenate_6/output1/bias has shape (2,)</title></line><rect x=\"265.6666666666667\" y=\"109\" width=\"202\" height=\"27\" style=\"fill:none;stroke:black;stroke-width:2\"/><image id=\"Robot Prediction Network_hidden4_3\" class=\"Robot Prediction Network_hidden4\" x=\"266.6666666666667\" y=\"110\" height=\"25\" width=\"200\" preserveAspectRatio=\"none\" href=\"data:image/gif;base64,R0lGODdhCgABAIcAAP328v3o3Lq6uuWDaPrKsQAAAAAAAAAAAAAAAAAAAAAAAAAAAAAAAAAAAAAAAAAAAAAAAAAAAAAAAAAAAAAAAAAAAAAAAAAAAAAAAAAAAAAAAAAAAAAAAAAAAAAAAAAAAAAAAAAAAAAAAAAAAAAAAAAAAAAAAAAAAAAAAAAAAAAAAAAAAAAAAAAAAAAAAAAAAAAAAAAAAAAAAAAAAAAAAAAAAAAAAAAAAAAAAAAAAAAAAAAAAAAAAAAAAAAAAAAAAAAAAAAAAAAAAAAAAAAAAAAAAAAAAAAAAAAAAAAAAAAAAAAAAAAAAAAAAAAAAAAAAAAAAAAAAAAAAAAAAAAAAAAAAAAAAAAAAAAAAAAAAAAAAAAAAAAAAAAAAAAAAAAAAAAAAAAAAAAAAAAAAAAAAAAAAAAAAAAAAAAAAAAAAAAAAAAAAAAAAAAAAAAAAAAAAAAAAAAAAAAAAAAAAAAAAAAAAAAAAAAAAAAAAAAAAAAAAAAAAAAAAAAAAAAAAAAAAAAAAAAAAAAAAAAAAAAAAAAAAAAAAAAAAAAAAAAAAAAAAAAAAAAAAAAAAAAAAAAAAAAAAAAAAAAAAAAAAAAAAAAAAAAAAAAAAAAAAAAAAAAAAAAAAAAAAAAAAAAAAAAAAAAAAAAAAAAAAAAAAAAAAAAAAAAAAAAAAAAAAAAAAAAAAAAAAAAAAAAAAAAAAAAAAAAAAAAAAAAAAAAAAAAAAAAAAAAAAAAAAAAAAAAAAAAAAAAAAAAAAAAAAAAAAAAAAAAAAAAAAAAAAAAAAAAAAAAAAAAAAAAAAAAAAAAAAAAAAAAAAAAAAAAAAAAAAAAAAAAAAAAAAAAAAAAAAAAAAAAAAAAAAAAAAAAAAAAAAAAAAAAAAAAAAAAAAAAAAAAAAAAAAAAAAAAAAAAAAAAAAAAAAAAAAAAAAAAAAAAAAAAAAAAAAAAAAAAAAAAAAAAAAAAAAAAAAAAAAAAAAAAAAAAAAAAAAAAAAAAAAAAAAAAAAAAAAAAAAAAAAAAAAAAAACwAAAAACgABAAAIDQAHBABAEEAAAgIABAQAOw==\"><title>Layer: hidden4 (hidden)\n",
       " shape = (10,)\n",
       " Keras class = Dense\n",
       " activation = sigmoid</title></image><text x=\"471.6666666666667\" y=\"124.5\" font-family=\"monospace\" font-size=\"12\" text-anchor=\"start\" alignment-baseline=\"central\">hidden4</text><line x1=\"733.3333333333334\" y1=\"110\" x2=\"733.3333333333334\" y2=\"70\" stroke=\"black\" stroke-width=\"2\" marker-end=\"url(#arrow)\"><title>Weights from hidden4 to output1\n",
       " conv/concatenate_6/output1/kernel has shape (10, 2)\n",
       " conv/concatenate_6/output1/bias has shape (2,)</title></line><line x1=\"550.0\" y1=\"164\" x2=\"733.3333333333334\" y2=\"110\" stroke=\"black\" stroke-width=\"2\"><title>TODO</title></line><line x1=\"550.0\" y1=\"164\" x2=\"366.6666666666667\" y2=\"137\" stroke=\"black\" stroke-width=\"2\" marker-end=\"url(#arrow)\"><title>Weights from hidden3 to hidden4\n",
       " conv/concatenate_6/hidden4/kernel has shape (10, 10)\n",
       " conv/concatenate_6/hidden4/bias has shape (10,)</title></line><rect x=\"449.0\" y=\"164\" width=\"202\" height=\"27\" style=\"fill:none;stroke:black;stroke-width:2\"/><image id=\"Robot Prediction Network_hidden3_4\" class=\"Robot Prediction Network_hidden3\" x=\"450.0\" y=\"165\" height=\"25\" width=\"200\" preserveAspectRatio=\"none\" href=\"data:image/gif;base64,R0lGODdhCgABAIcAAPv08Ofn59jY2PvSvP3dywAAAAAAAAAAAAAAAAAAAAAAAAAAAAAAAAAAAAAAAAAAAAAAAAAAAAAAAAAAAAAAAAAAAAAAAAAAAAAAAAAAAAAAAAAAAAAAAAAAAAAAAAAAAAAAAAAAAAAAAAAAAAAAAAAAAAAAAAAAAAAAAAAAAAAAAAAAAAAAAAAAAAAAAAAAAAAAAAAAAAAAAAAAAAAAAAAAAAAAAAAAAAAAAAAAAAAAAAAAAAAAAAAAAAAAAAAAAAAAAAAAAAAAAAAAAAAAAAAAAAAAAAAAAAAAAAAAAAAAAAAAAAAAAAAAAAAAAAAAAAAAAAAAAAAAAAAAAAAAAAAAAAAAAAAAAAAAAAAAAAAAAAAAAAAAAAAAAAAAAAAAAAAAAAAAAAAAAAAAAAAAAAAAAAAAAAAAAAAAAAAAAAAAAAAAAAAAAAAAAAAAAAAAAAAAAAAAAAAAAAAAAAAAAAAAAAAAAAAAAAAAAAAAAAAAAAAAAAAAAAAAAAAAAAAAAAAAAAAAAAAAAAAAAAAAAAAAAAAAAAAAAAAAAAAAAAAAAAAAAAAAAAAAAAAAAAAAAAAAAAAAAAAAAAAAAAAAAAAAAAAAAAAAAAAAAAAAAAAAAAAAAAAAAAAAAAAAAAAAAAAAAAAAAAAAAAAAAAAAAAAAAAAAAAAAAAAAAAAAAAAAAAAAAAAAAAAAAAAAAAAAAAAAAAAAAAAAAAAAAAAAAAAAAAAAAAAAAAAAAAAAAAAAAAAAAAAAAAAAAAAAAAAAAAAAAAAAAAAAAAAAAAAAAAAAAAAAAAAAAAAAAAAAAAAAAAAAAAAAAAAAAAAAAAAAAAAAAAAAAAAAAAAAAAAAAAAAAAAAAAAAAAAAAAAAAAAAAAAAAAAAAAAAAAAAAAAAAAAAAAAAAAAAAAAAAAAAAAAAAAAAAAAAAAAAAAAAAAAAAAAAAAAAAAAAAAAAAAAAAAAAAAAAAAAAAAAAAAAAAAAAAAAAAAAAAAAAAAAAAAAAAAAAAAAAAAAAAAAAAAAAACwAAAAACgABAAAIDgABAAgAIACBAQIAAAgIADs=\"><title>Layer: hidden3 (hidden)\n",
       " shape = (10,)\n",
       " Keras class = Dense\n",
       " activation = sigmoid</title></image><text x=\"655.0\" y=\"179.5\" font-family=\"monospace\" font-size=\"12\" text-anchor=\"start\" alignment-baseline=\"central\">hidden3</text><line x1=\"550.0\" y1=\"219\" x2=\"550.0\" y2=\"192\" stroke=\"black\" stroke-width=\"2\" marker-end=\"url(#arrow)\"><title>Weights from hidden2 to hidden3\n",
       " conv/concatenate_6/hidden3/kernel has shape (5, 10)\n",
       " conv/concatenate_6/hidden3/bias has shape (10,)</title></line><rect x=\"449.0\" y=\"219\" width=\"202\" height=\"42\" style=\"fill:none;stroke:black;stroke-width:2\"/><image id=\"Robot Prediction Network_hidden2_5\" class=\"Robot Prediction Network_hidden2\" x=\"450.0\" y=\"220\" height=\"40\" width=\"200\" preserveAspectRatio=\"none\" href=\"data:image/gif;base64,R0lGODdhBQABAIcAAP7+/QAAAAAAAAAAAAAAAAAAAAAAAAAAAAAAAAAAAAAAAAAAAAAAAAAAAAAAAAAAAAAAAAAAAAAAAAAAAAAAAAAAAAAAAAAAAAAAAAAAAAAAAAAAAAAAAAAAAAAAAAAAAAAAAAAAAAAAAAAAAAAAAAAAAAAAAAAAAAAAAAAAAAAAAAAAAAAAAAAAAAAAAAAAAAAAAAAAAAAAAAAAAAAAAAAAAAAAAAAAAAAAAAAAAAAAAAAAAAAAAAAAAAAAAAAAAAAAAAAAAAAAAAAAAAAAAAAAAAAAAAAAAAAAAAAAAAAAAAAAAAAAAAAAAAAAAAAAAAAAAAAAAAAAAAAAAAAAAAAAAAAAAAAAAAAAAAAAAAAAAAAAAAAAAAAAAAAAAAAAAAAAAAAAAAAAAAAAAAAAAAAAAAAAAAAAAAAAAAAAAAAAAAAAAAAAAAAAAAAAAAAAAAAAAAAAAAAAAAAAAAAAAAAAAAAAAAAAAAAAAAAAAAAAAAAAAAAAAAAAAAAAAAAAAAAAAAAAAAAAAAAAAAAAAAAAAAAAAAAAAAAAAAAAAAAAAAAAAAAAAAAAAAAAAAAAAAAAAAAAAAAAAAAAAAAAAAAAAAAAAAAAAAAAAAAAAAAAAAAAAAAAAAAAAAAAAAAAAAAAAAAAAAAAAAAAAAAAAAAAAAAAAAAAAAAAAAAAAAAAAAAAAAAAAAAAAAAAAAAAAAAAAAAAAAAAAAAAAAAAAAAAAAAAAAAAAAAAAAAAAAAAAAAAAAAAAAAAAAAAAAAAAAAAAAAAAAAAAAAAAAAAAAAAAAAAAAAAAAAAAAAAAAAAAAAAAAAAAAAAAAAAAAAAAAAAAAAAAAAAAAAAAAAAAAAAAAAAAAAAAAAAAAAAAAAAAAAAAAAAAAAAAAAAAAAAAAAAAAAAAAAAAAAAAAAAAAAAAAAAAAAAAAAAAAAAAAAAAAAAAAAAAAAAAAAAAAAAAAAAAAAAAAAAAAAAAAAAAAAAAAAAAAAAAAAAAAAAAAAAAAAAAAAAAAAAAAAAAAAAACwAAAAABQABAAAIBgABCBQYEAA7\"><title>Layer: hidden2 (hidden)\n",
       " shape = (5,)\n",
       " Keras class = Dense\n",
       " activation = sigmoid</title></image><text x=\"655.0\" y=\"242.0\" font-family=\"monospace\" font-size=\"12\" text-anchor=\"start\" alignment-baseline=\"central\">hidden2</text><line x1=\"366.6666666666667\" y1=\"290\" x2=\"550.0\" y2=\"260\" stroke=\"black\" stroke-width=\"2\" marker-end=\"url(#arrow)\"><title>Weights from hidden2 to hidden3\n",
       " conv/concatenate_6/hidden3/kernel has shape (5, 10)\n",
       " conv/concatenate_6/hidden3/bias has shape (10,)</title></line><line x1=\"733.3333333333334\" y1=\"289\" x2=\"550.0\" y2=\"262\" stroke=\"black\" stroke-width=\"2\" marker-end=\"url(#arrow)\"><title>Weights from flatten to hidden2\n",
       " conv/concatenate_6/hidden2/kernel has shape (41714, 5)\n",
       " conv/concatenate_6/hidden2/bias has shape (5,)</title></line><rect x=\"632.3333333333334\" y=\"289\" width=\"202\" height=\"27\" style=\"fill:none;stroke:black;stroke-width:2\"/><image id=\"Robot Prediction Network_flatten_6\" class=\"Robot Prediction Network_flatten\" x=\"633.3333333333334\" y=\"290\" height=\"25\" width=\"200\" preserveAspectRatio=\"none\" href=\"data:image/gif;base64,R0lGODdhwKIBAIcAAP7+/QAAAAAAAAAAAAAAAAAAAAAAAAAAAAAAAAAAAAAAAAAAAAAAAAAAAAAAAAAAAAAAAAAAAAAAAAAAAAAAAAAAAAAAAAAAAAAAAAAAAAAAAAAAAAAAAAAAAAAAAAAAAAAAAAAAAAAAAAAAAAAAAAAAAAAAAAAAAAAAAAAAAAAAAAAAAAAAAAAAAAAAAAAAAAAAAAAAAAAAAAAAAAAAAAAAAAAAAAAAAAAAAAAAAAAAAAAAAAAAAAAAAAAAAAAAAAAAAAAAAAAAAAAAAAAAAAAAAAAAAAAAAAAAAAAAAAAAAAAAAAAAAAAAAAAAAAAAAAAAAAAAAAAAAAAAAAAAAAAAAAAAAAAAAAAAAAAAAAAAAAAAAAAAAAAAAAAAAAAAAAAAAAAAAAAAAAAAAAAAAAAAAAAAAAAAAAAAAAAAAAAAAAAAAAAAAAAAAAAAAAAAAAAAAAAAAAAAAAAAAAAAAAAAAAAAAAAAAAAAAAAAAAAAAAAAAAAAAAAAAAAAAAAAAAAAAAAAAAAAAAAAAAAAAAAAAAAAAAAAAAAAAAAAAAAAAAAAAAAAAAAAAAAAAAAAAAAAAAAAAAAAAAAAAAAAAAAAAAAAAAAAAAAAAAAAAAAAAAAAAAAAAAAAAAAAAAAAAAAAAAAAAAAAAAAAAAAAAAAAAAAAAAAAAAAAAAAAAAAAAAAAAAAAAAAAAAAAAAAAAAAAAAAAAAAAAAAAAAAAAAAAAAAAAAAAAAAAAAAAAAAAAAAAAAAAAAAAAAAAAAAAAAAAAAAAAAAAAAAAAAAAAAAAAAAAAAAAAAAAAAAAAAAAAAAAAAAAAAAAAAAAAAAAAAAAAAAAAAAAAAAAAAAAAAAAAAAAAAAAAAAAAAAAAAAAAAAAAAAAAAAAAAAAAAAAAAAAAAAAAAAAAAAAAAAAAAAAAAAAAAAAAAAAAAAAAAAAAAAAAAAAAAAAAAAAAAAAAAAAAAAAAAAAAAAAAAAAAAAAAAAAAAAAAAAAAAAAAAAAAAAAAAAAAAAAAAAAAAAAACwAAAAAwKIBAAAI/wABCBxIsKDBgwgTKlzIsKHDhxAjSpxIsaLFixgzatzIsaPHjyBDihxJsqTJkyhTqlzJsqXLlzBjypxJs6bNmzhz6tzJs6fPn0CDCh1KtKjRo0iTKl3KtKnTp1CjSp1KtarVq1izat3KtavXr2DDih1LtqzZs2jTql3Ltq3bt3Djyp1Lt67du3jz6t3Lt6/fv4ADCx5MuLDhw4gTK17MuLHjx5AjS55MubLly5gza97MubPnz6BDix5NurTp06hTq17NurXr17Bjy55Nu7bt27hz697Nu7fv38CDCx9OvLjx48iTK1/OvLnz59CjS59Ovbr169iza9/Ovbv37+DDi7wfT768+fPo06tfz769+/fw48ufT7++/fv48+vfz7+/f4AABA4kWNDgQYQJFS5k2NDhQ4gRJU6kWNHiRYwZNW7k2NHjR5AhRY4kWdLkSZQpVa5k2dLlS5gxZc6kWdPmTZw5de7k2dPnT6BBhQ4lWtToUaRJlS5l2tTpU6hRpU6lWtXqVaxZtW7l2tXrV7BhxY4lW9bsWbRp1a5l29btW7hx5c6lW9fuXbx59e7l29fvX8CBBQ8mXNjw4bEBAQA7\"><title>Layer: flatten (hidden)\n",
       " Keras class = Flatten</title></image><text x=\"838.3333333333334\" y=\"304.5\" font-family=\"monospace\" font-size=\"12\" text-anchor=\"start\" alignment-baseline=\"central\">flatten</text><line x1=\"366.6666666666667\" y1=\"344\" x2=\"366.6666666666667\" y2=\"290\" stroke=\"black\" stroke-width=\"2\"><title>TODO</title></line><rect x=\"265.6666666666667\" y=\"344\" width=\"202\" height=\"27\" style=\"fill:none;stroke:black;stroke-width:2\"/><image id=\"Robot Prediction Network_hidden_7\" class=\"Robot Prediction Network_hidden\" x=\"266.6666666666667\" y=\"345\" height=\"25\" width=\"200\" preserveAspectRatio=\"none\" href=\"data:image/gif;base64,R0lGODdhMgABAIcAAP7+/QAAAAAAAAAAAAAAAAAAAAAAAAAAAAAAAAAAAAAAAAAAAAAAAAAAAAAAAAAAAAAAAAAAAAAAAAAAAAAAAAAAAAAAAAAAAAAAAAAAAAAAAAAAAAAAAAAAAAAAAAAAAAAAAAAAAAAAAAAAAAAAAAAAAAAAAAAAAAAAAAAAAAAAAAAAAAAAAAAAAAAAAAAAAAAAAAAAAAAAAAAAAAAAAAAAAAAAAAAAAAAAAAAAAAAAAAAAAAAAAAAAAAAAAAAAAAAAAAAAAAAAAAAAAAAAAAAAAAAAAAAAAAAAAAAAAAAAAAAAAAAAAAAAAAAAAAAAAAAAAAAAAAAAAAAAAAAAAAAAAAAAAAAAAAAAAAAAAAAAAAAAAAAAAAAAAAAAAAAAAAAAAAAAAAAAAAAAAAAAAAAAAAAAAAAAAAAAAAAAAAAAAAAAAAAAAAAAAAAAAAAAAAAAAAAAAAAAAAAAAAAAAAAAAAAAAAAAAAAAAAAAAAAAAAAAAAAAAAAAAAAAAAAAAAAAAAAAAAAAAAAAAAAAAAAAAAAAAAAAAAAAAAAAAAAAAAAAAAAAAAAAAAAAAAAAAAAAAAAAAAAAAAAAAAAAAAAAAAAAAAAAAAAAAAAAAAAAAAAAAAAAAAAAAAAAAAAAAAAAAAAAAAAAAAAAAAAAAAAAAAAAAAAAAAAAAAAAAAAAAAAAAAAAAAAAAAAAAAAAAAAAAAAAAAAAAAAAAAAAAAAAAAAAAAAAAAAAAAAAAAAAAAAAAAAAAAAAAAAAAAAAAAAAAAAAAAAAAAAAAAAAAAAAAAAAAAAAAAAAAAAAAAAAAAAAAAAAAAAAAAAAAAAAAAAAAAAAAAAAAAAAAAAAAAAAAAAAAAAAAAAAAAAAAAAAAAAAAAAAAAAAAAAAAAAAAAAAAAAAAAAAAAAAAAAAAAAAAAAAAAAAAAAAAAAAAAAAAAAAAAAAAAAAAAAAAAAAAAAAAAAAAAAAAAAAAAAAAAAAAAAAAAAAAAAAAAAAAAAAAAAAAAAAAAAAAAAAAAAAACwAAAAAMgABAAAIDgABCBxIsKDBgwgTFgwIADs=\"><title>Layer: hidden (hidden)\n",
       " shape = (50,)\n",
       " Keras class = Dense\n",
       " activation = relu</title></image><text x=\"471.6666666666667\" y=\"359.5\" font-family=\"monospace\" font-size=\"12\" text-anchor=\"start\" alignment-baseline=\"central\">hidden</text><line x1=\"733.3333333333334\" y1=\"344\" x2=\"733.3333333333334\" y2=\"317\" stroke=\"black\" stroke-width=\"2\" marker-end=\"url(#arrow)\"><title>Weights from conv to flatten</title></line><rect x=\"664.8333333333334\" y=\"344\" width=\"137\" height=\"202\" style=\"fill:none;stroke:black;stroke-width:2\"/><image id=\"Robot Prediction Network_conv_8\" class=\"Robot Prediction Network_conv\" x=\"665.8333333333334\" y=\"345\" height=\"200\" width=\"135\" preserveAspectRatio=\"none\" href=\"data:image/gif;base64,R0lGODdhKgA+AIcAAP7+/QAAAAAAAAAAAAAAAAAAAAAAAAAAAAAAAAAAAAAAAAAAAAAAAAAAAAAAAAAAAAAAAAAAAAAAAAAAAAAAAAAAAAAAAAAAAAAAAAAAAAAAAAAAAAAAAAAAAAAAAAAAAAAAAAAAAAAAAAAAAAAAAAAAAAAAAAAAAAAAAAAAAAAAAAAAAAAAAAAAAAAAAAAAAAAAAAAAAAAAAAAAAAAAAAAAAAAAAAAAAAAAAAAAAAAAAAAAAAAAAAAAAAAAAAAAAAAAAAAAAAAAAAAAAAAAAAAAAAAAAAAAAAAAAAAAAAAAAAAAAAAAAAAAAAAAAAAAAAAAAAAAAAAAAAAAAAAAAAAAAAAAAAAAAAAAAAAAAAAAAAAAAAAAAAAAAAAAAAAAAAAAAAAAAAAAAAAAAAAAAAAAAAAAAAAAAAAAAAAAAAAAAAAAAAAAAAAAAAAAAAAAAAAAAAAAAAAAAAAAAAAAAAAAAAAAAAAAAAAAAAAAAAAAAAAAAAAAAAAAAAAAAAAAAAAAAAAAAAAAAAAAAAAAAAAAAAAAAAAAAAAAAAAAAAAAAAAAAAAAAAAAAAAAAAAAAAAAAAAAAAAAAAAAAAAAAAAAAAAAAAAAAAAAAAAAAAAAAAAAAAAAAAAAAAAAAAAAAAAAAAAAAAAAAAAAAAAAAAAAAAAAAAAAAAAAAAAAAAAAAAAAAAAAAAAAAAAAAAAAAAAAAAAAAAAAAAAAAAAAAAAAAAAAAAAAAAAAAAAAAAAAAAAAAAAAAAAAAAAAAAAAAAAAAAAAAAAAAAAAAAAAAAAAAAAAAAAAAAAAAAAAAAAAAAAAAAAAAAAAAAAAAAAAAAAAAAAAAAAAAAAAAAAAAAAAAAAAAAAAAAAAAAAAAAAAAAAAAAAAAAAAAAAAAAAAAAAAAAAAAAAAAAAAAAAAAAAAAAAAAAAAAAAAAAAAAAAAAAAAAAAAAAAAAAAAAAAAAAAAAAAAAAAAAAAAAAAAAAAAAAAAAAAAAAAAAAAAAAAAAAAAAAAAAAAAAAAAAAAAACwAAAAAKgA+AEAIVAABCBxIsKDBgwgTKlzIsKHDhxAjSpxIsaLFixgzatzIsaPHjyBDihxJsqTJkyhTqlzJsqXLlzBjypxJs6bNmzhz6tzJs6fPn0CDCh1KtKjRozADAgA7\"><title>Layer: conv (hidden)\n",
       " Keras class = Conv2DTranspose</title></image><text x=\"805.8333333333334\" y=\"447.0\" font-family=\"monospace\" font-size=\"12\" text-anchor=\"start\" alignment-baseline=\"central\">conv</text><line x1=\"275.0\" y1=\"574\" x2=\"366.6666666666667\" y2=\"372\" stroke=\"black\" stroke-width=\"2\" marker-end=\"url(#arrow)\"><title>Weights from light to hidden\n",
       " conv/concatenate_6/hidden/kernel has shape (18, 50)\n",
       " conv/concatenate_6/hidden/bias has shape (50,)</title></line><rect x=\"224.0\" y=\"574\" width=\"102\" height=\"52\" style=\"fill:none;stroke:black;stroke-width:2\"/><image id=\"Robot Prediction Network_light_9\" class=\"Robot Prediction Network_light\" x=\"225.0\" y=\"575\" height=\"50\" width=\"100\" preserveAspectRatio=\"none\" href=\"data:image/gif;base64,R0lGODdhAgABAIcAAP7+/QAAAAAAAAAAAAAAAAAAAAAAAAAAAAAAAAAAAAAAAAAAAAAAAAAAAAAAAAAAAAAAAAAAAAAAAAAAAAAAAAAAAAAAAAAAAAAAAAAAAAAAAAAAAAAAAAAAAAAAAAAAAAAAAAAAAAAAAAAAAAAAAAAAAAAAAAAAAAAAAAAAAAAAAAAAAAAAAAAAAAAAAAAAAAAAAAAAAAAAAAAAAAAAAAAAAAAAAAAAAAAAAAAAAAAAAAAAAAAAAAAAAAAAAAAAAAAAAAAAAAAAAAAAAAAAAAAAAAAAAAAAAAAAAAAAAAAAAAAAAAAAAAAAAAAAAAAAAAAAAAAAAAAAAAAAAAAAAAAAAAAAAAAAAAAAAAAAAAAAAAAAAAAAAAAAAAAAAAAAAAAAAAAAAAAAAAAAAAAAAAAAAAAAAAAAAAAAAAAAAAAAAAAAAAAAAAAAAAAAAAAAAAAAAAAAAAAAAAAAAAAAAAAAAAAAAAAAAAAAAAAAAAAAAAAAAAAAAAAAAAAAAAAAAAAAAAAAAAAAAAAAAAAAAAAAAAAAAAAAAAAAAAAAAAAAAAAAAAAAAAAAAAAAAAAAAAAAAAAAAAAAAAAAAAAAAAAAAAAAAAAAAAAAAAAAAAAAAAAAAAAAAAAAAAAAAAAAAAAAAAAAAAAAAAAAAAAAAAAAAAAAAAAAAAAAAAAAAAAAAAAAAAAAAAAAAAAAAAAAAAAAAAAAAAAAAAAAAAAAAAAAAAAAAAAAAAAAAAAAAAAAAAAAAAAAAAAAAAAAAAAAAAAAAAAAAAAAAAAAAAAAAAAAAAAAAAAAAAAAAAAAAAAAAAAAAAAAAAAAAAAAAAAAAAAAAAAAAAAAAAAAAAAAAAAAAAAAAAAAAAAAAAAAAAAAAAAAAAAAAAAAAAAAAAAAAAAAAAAAAAAAAAAAAAAAAAAAAAAAAAAAAAAAAAAAAAAAAAAAAAAAAAAAAAAAAAAAAAAAAAAAAAAAAAAAAAAAAAAAAAAAAAAAAAAAAAAAAAAAAAAAAAAAAAAAAAAAAAAAACwAAAAAAgABAAAIBQABAAgIADs=\"><title>Layer: light (input)\n",
       " shape = (2,)\n",
       " Keras class = Input</title></image><text x=\"330.0\" y=\"602.0\" font-family=\"monospace\" font-size=\"12\" text-anchor=\"start\" alignment-baseline=\"central\">light</text><line x1=\"550.0\" y1=\"574\" x2=\"366.6666666666667\" y2=\"372\" stroke=\"black\" stroke-width=\"2\" marker-end=\"url(#arrow)\"><title>Weights from sonar to hidden\n",
       " conv/concatenate_6/hidden/kernel has shape (18, 50)\n",
       " conv/concatenate_6/hidden/bias has shape (50,)</title></line><rect x=\"449.0\" y=\"574\" width=\"202\" height=\"27\" style=\"fill:none;stroke:black;stroke-width:2\"/><image id=\"Robot Prediction Network_sonar_10\" class=\"Robot Prediction Network_sonar\" x=\"450.0\" y=\"575\" height=\"25\" width=\"200\" preserveAspectRatio=\"none\" href=\"data:image/gif;base64,R0lGODdhEAABAIcAAP7+/QAAAAAAAAAAAAAAAAAAAAAAAAAAAAAAAAAAAAAAAAAAAAAAAAAAAAAAAAAAAAAAAAAAAAAAAAAAAAAAAAAAAAAAAAAAAAAAAAAAAAAAAAAAAAAAAAAAAAAAAAAAAAAAAAAAAAAAAAAAAAAAAAAAAAAAAAAAAAAAAAAAAAAAAAAAAAAAAAAAAAAAAAAAAAAAAAAAAAAAAAAAAAAAAAAAAAAAAAAAAAAAAAAAAAAAAAAAAAAAAAAAAAAAAAAAAAAAAAAAAAAAAAAAAAAAAAAAAAAAAAAAAAAAAAAAAAAAAAAAAAAAAAAAAAAAAAAAAAAAAAAAAAAAAAAAAAAAAAAAAAAAAAAAAAAAAAAAAAAAAAAAAAAAAAAAAAAAAAAAAAAAAAAAAAAAAAAAAAAAAAAAAAAAAAAAAAAAAAAAAAAAAAAAAAAAAAAAAAAAAAAAAAAAAAAAAAAAAAAAAAAAAAAAAAAAAAAAAAAAAAAAAAAAAAAAAAAAAAAAAAAAAAAAAAAAAAAAAAAAAAAAAAAAAAAAAAAAAAAAAAAAAAAAAAAAAAAAAAAAAAAAAAAAAAAAAAAAAAAAAAAAAAAAAAAAAAAAAAAAAAAAAAAAAAAAAAAAAAAAAAAAAAAAAAAAAAAAAAAAAAAAAAAAAAAAAAAAAAAAAAAAAAAAAAAAAAAAAAAAAAAAAAAAAAAAAAAAAAAAAAAAAAAAAAAAAAAAAAAAAAAAAAAAAAAAAAAAAAAAAAAAAAAAAAAAAAAAAAAAAAAAAAAAAAAAAAAAAAAAAAAAAAAAAAAAAAAAAAAAAAAAAAAAAAAAAAAAAAAAAAAAAAAAAAAAAAAAAAAAAAAAAAAAAAAAAAAAAAAAAAAAAAAAAAAAAAAAAAAAAAAAAAAAAAAAAAAAAAAAAAAAAAAAAAAAAAAAAAAAAAAAAAAAAAAAAAAAAAAAAAAAAAAAAAAAAAAAAAAAAAAAAAAAAAAAAAAAAAAAAAAAAAAAAAAAAAAAAAAAAAAAAAAAAAAAAAAAAAAAACwAAAAAEAABAAAICQABCBxIsCCAgAA7\"><title>Layer: sonar (input)\n",
       " shape = (16,)\n",
       " Keras class = Input</title></image><text x=\"655.0\" y=\"589.5\" font-family=\"monospace\" font-size=\"12\" text-anchor=\"start\" alignment-baseline=\"central\">sonar</text><line x1=\"825.0\" y1=\"574\" x2=\"733.3333333333334\" y2=\"547\" stroke=\"black\" stroke-width=\"2\" marker-end=\"url(#arrow)\"><title>Weights from camera to conv\n",
       " conv/concatenate_6/conv/kernel has shape (3, 3, 16, 3)\n",
       " conv/concatenate_6/conv/bias has shape (16,)</title></line><rect x=\"724.0\" y=\"574\" width=\"202\" height=\"135\" style=\"fill:none;stroke:black;stroke-width:2\"/><image id=\"Robot Prediction Network_camera_11\" class=\"Robot Prediction Network_camera\" x=\"725.0\" y=\"575\" height=\"133\" width=\"200\" preserveAspectRatio=\"none\" href=\"data:image/gif;base64,R0lGODdhPAAoAIcAAP///wAAAAAAAAAAAAAAAAAAAAAAAAAAAAAAAAAAAAAAAAAAAAAAAAAAAAAAAAAAAAAAAAAAAAAAAAAAAAAAAAAAAAAAAAAAAAAAAAAAAAAAAAAAAAAAAAAAAAAAAAAAAAAAAAAAAAAAAAAAAAAAAAAAAAAAAAAAAAAAAAAAAAAAAAAAAAAAAAAAAAAAAAAAAAAAAAAAAAAAAAAAAAAAAAAAAAAAAAAAAAAAAAAAAAAAAAAAAAAAAAAAAAAAAAAAAAAAAAAAAAAAAAAAAAAAAAAAAAAAAAAAAAAAAAAAAAAAAAAAAAAAAAAAAAAAAAAAAAAAAAAAAAAAAAAAAAAAAAAAAAAAAAAAAAAAAAAAAAAAAAAAAAAAAAAAAAAAAAAAAAAAAAAAAAAAAAAAAAAAAAAAAAAAAAAAAAAAAAAAAAAAAAAAAAAAAAAAAAAAAAAAAAAAAAAAAAAAAAAAAAAAAAAAAAAAAAAAAAAAAAAAAAAAAAAAAAAAAAAAAAAAAAAAAAAAAAAAAAAAAAAAAAAAAAAAAAAAAAAAAAAAAAAAAAAAAAAAAAAAAAAAAAAAAAAAAAAAAAAAAAAAAAAAAAAAAAAAAAAAAAAAAAAAAAAAAAAAAAAAAAAAAAAAAAAAAAAAAAAAAAAAAAAAAAAAAAAAAAAAAAAAAAAAAAAAAAAAAAAAAAAAAAAAAAAAAAAAAAAAAAAAAAAAAAAAAAAAAAAAAAAAAAAAAAAAAAAAAAAAAAAAAAAAAAAAAAAAAAAAAAAAAAAAAAAAAAAAAAAAAAAAAAAAAAAAAAAAAAAAAAAAAAAAAAAAAAAAAAAAAAAAAAAAAAAAAAAAAAAAAAAAAAAAAAAAAAAAAAAAAAAAAAAAAAAAAAAAAAAAAAAAAAAAAAAAAAAAAAAAAAAAAAAAAAAAAAAAAAAAAAAAAAAAAAAAAAAAAAAAAAAAAAAAAAAAAAAAAAAAAAAAAAAAAAAAAAAAAAAAAAAAAAAAAAAAAAAAAAAAAAAAAAAAAAAAAAAAAAAAACwAAAAAPAAoAEAIUAABCBxIsKDBgwgTKlzIsKHDhxAjSpxIsaLFixgzatzIsaPHjyBDihxJsqTJkyhTqlzJsqXLlzBjypxJs6bNmzhz6tzJs6fPn0CDCh1K1GZAADs=\"><title>Layer: camera (input)\n",
       " shape = (60, 40, 3)\n",
       " Keras class = Input</title></image><text x=\"930.0\" y=\"643.5\" font-family=\"monospace\" font-size=\"12\" text-anchor=\"start\" alignment-baseline=\"central\">camera</text></svg>"
      ],
      "text/plain": [
       "<Network name='Robot Prediction Network' (compiled)>"
      ]
     },
     "execution_count": 47,
     "metadata": {},
     "output_type": "execute_result"
    }
   ],
   "source": [
    "net"
   ]
  },
  {
   "cell_type": "code",
   "execution_count": 48,
   "metadata": {},
   "outputs": [
    {
     "data": {
      "text/plain": [
       "[[0.5504560470581055, 0.4072784185409546],\n",
       " [0.6936362981796265,\n",
       "  0.347713440656662,\n",
       "  0.259335994720459,\n",
       "  0.34457898139953613,\n",
       "  0.4387902617454529]]"
      ]
     },
     "execution_count": 48,
     "metadata": {},
     "output_type": "execute_result"
    }
   ],
   "source": [
    "net.propagate(get_senses(robot))"
   ]
  },
  {
   "cell_type": "code",
   "execution_count": null,
   "metadata": {
    "collapsed": true
   },
   "outputs": [],
   "source": []
  }
 ],
 "metadata": {
  "kernelspec": {
   "display_name": "Python 3",
   "language": "python",
   "name": "python3"
  },
  "language_info": {
   "codemirror_mode": {
    "name": "ipython",
    "version": 3
   },
   "file_extension": ".py",
   "mimetype": "text/x-python",
   "name": "python",
   "nbconvert_exporter": "python",
   "pygments_lexer": "ipython3",
   "version": "3.5.3"
  },
  "widgets": {
   "application/vnd.jupyter.widget-state+json": {
    "state": {
     "006d0f68e53b4cc4b52161a5aab698cd": {
      "model_module": "jupyter-js-widgets",
      "model_module_version": "~2.1.4",
      "model_name": "VBoxModel",
      "state": {
       "_model_module_version": "~2.1.4",
       "_view_module_version": "~2.1.4",
       "children": [
        "IPY_MODEL_16ae8bbeca13415d9dc1ed2b732a4a99",
        "IPY_MODEL_bfa261876f024a1098648bd7ae068730"
       ],
       "layout": "IPY_MODEL_d8dab5a92495455db4224f1b5ae6fbab"
      }
     },
     "0074bf4c87734e14ab7780e5c53ad8a4": {
      "model_module": "jupyter-js-widgets",
      "model_module_version": "~2.1.4",
      "model_name": "LayoutModel",
      "state": {
       "_model_module_version": "~2.1.4",
       "_view_module_version": "~2.1.4"
      }
     },
     "00975b64209a485a9a04fb4b21df62b4": {
      "model_module": "jupyter-js-widgets",
      "model_module_version": "~2.1.4",
      "model_name": "CheckboxModel",
      "state": {
       "_model_module_version": "~2.1.4",
       "_view_module_version": "~2.1.4",
       "description": "Update GUI",
       "disabled": false,
       "layout": "IPY_MODEL_f5518e3e43ac4cd9b54b3cf99267a10f",
       "value": true
      }
     },
     "00f042c46a8a410a9d7b46ba1195225c": {
      "model_module": "jupyter-js-widgets",
      "model_module_version": "~2.1.4",
      "model_name": "ButtonModel",
      "state": {
       "_model_module_version": "~2.1.4",
       "_view_module_version": "~2.1.4",
       "icon": "step-forward",
       "layout": "IPY_MODEL_0b6a12b9c52846b5afa95c1956d4ee98",
       "style": "IPY_MODEL_aac2217030814f5494fa88f050ee0b5d"
      }
     },
     "013b0d53a2ea4edc938c245336b72266": {
      "model_module": "jupyter-js-widgets",
      "model_module_version": "~2.1.4",
      "model_name": "LayoutModel",
      "state": {
       "_model_module_version": "~2.1.4",
       "_view_module_version": "~2.1.4"
      }
     },
     "015e591b262a4a56876a3241b76d251c": {
      "model_module": "jupyter-js-widgets",
      "model_module_version": "~2.1.4",
      "model_name": "LayoutModel",
      "state": {
       "_model_module_version": "~2.1.4",
       "_view_module_version": "~2.1.4"
      }
     },
     "0165ff3c756f49bc87a74238d9e8a0e0": {
      "model_module": "jupyter-js-widgets",
      "model_module_version": "~2.1.4",
      "model_name": "LayoutModel",
      "state": {
       "_model_module_version": "~2.1.4",
       "_view_module_version": "~2.1.4"
      }
     },
     "017a1b53fc1849a8a3abe5ea5cfef662": {
      "model_module": "jupyter-js-widgets",
      "model_module_version": "~2.1.4",
      "model_name": "LayoutModel",
      "state": {
       "_model_module_version": "~2.1.4",
       "_view_module_version": "~2.1.4"
      }
     },
     "0211c29a314c443c98ab4a633efcd576": {
      "model_module": "jupyter-js-widgets",
      "model_module_version": "~2.1.4",
      "model_name": "LayoutModel",
      "state": {
       "_model_module_version": "~2.1.4",
       "_view_module_version": "~2.1.4"
      }
     },
     "02173b5fe368463694f0ae05e162b09d": {
      "model_module": "jupyter-js-widgets",
      "model_module_version": "~2.1.4",
      "model_name": "HTMLModel",
      "state": {
       "_model_module_version": "~2.1.4",
       "_view_module_version": "~2.1.4",
       "layout": "IPY_MODEL_c7097cf9f08b481292bd8220aa5ba94b",
       "value": "<svg baseProfile=\"full\" height=\"240\" version=\"1.1\" width=\"240\" xmlns=\"http://www.w3.org/2000/svg\" xmlns:ev=\"http://www.w3.org/2001/xml-events\" xmlns:xlink=\"http://www.w3.org/1999/xlink\"><defs /><rect fill=\"white\" height=\"240\" stroke=\"#000000\" stroke-width=\"1\" width=\"240\" x=\"0\" y=\"0\" /><rect fill=\"#eef3dd\" height=\"240.0\" stroke=\"#bebebe\" stroke-width=\"1\" width=\"240.0\" x=\"0.0\" y=\"0.0\" /><circle cx=\"120.0\" cy=\"195.0\" fill=\"#ffff00\" r=\"15.0\" stroke=\"#ffff00\" stroke-width=\"1\" /><line fill=\"#800080\" stroke=\"#add8e6\" stroke-width=\"1\" x1=\"199.5\" x2=\"0.0\" y1=\"114.0\" y2=\"114.0\" /><line fill=\"#800080\" stroke=\"#add8e6\" stroke-width=\"1\" x1=\"201.0\" x2=\"0.0\" y1=\"109.80000000000001\" y2=\"16.07215199999999\" /><line fill=\"#800080\" stroke=\"#add8e6\" stroke-width=\"1\" x1=\"203.4\" x2=\"112.77724019461742\" y1=\"107.99999999999999\" y2=\"0.0\" /><line fill=\"#800080\" stroke=\"#add8e6\" stroke-width=\"1\" x1=\"207.0\" x2=\"178.4634099424212\" y1=\"106.5\" y2=\"0.0\" /><line fill=\"#800080\" stroke=\"#add8e6\" stroke-width=\"1\" x1=\"213.0\" x2=\"240.0\" y1=\"106.5\" y2=\"5.734632000000062\" /><line fill=\"#800080\" stroke=\"#add8e6\" stroke-width=\"1\" x1=\"216.6\" x2=\"240.0\" y1=\"107.99999999999999\" y2=\"80.11296600000001\" /><line fill=\"#800080\" stroke=\"#add8e6\" stroke-width=\"1\" x1=\"219.0\" x2=\"240.0\" y1=\"109.80000000000001\" y2=\"100.007538\" /><line fill=\"#800080\" stroke=\"#add8e6\" stroke-width=\"1\" x1=\"220.5\" x2=\"240.0\" y1=\"114.0\" y2=\"114.0\" /><line fill=\"#800080\" stroke=\"#add8e6\" stroke-width=\"1\" x1=\"220.5\" x2=\"240.0\" y1=\"126.0\" y2=\"126.0\" /><line fill=\"#800080\" stroke=\"#add8e6\" stroke-width=\"1\" x1=\"219.0\" x2=\"240.0\" y1=\"130.2\" y2=\"139.992462\" /><line fill=\"#800080\" stroke=\"#add8e6\" stroke-width=\"1\" x1=\"216.6\" x2=\"240.0\" y1=\"132.0\" y2=\"159.88703399999997\" /><line fill=\"#800080\" stroke=\"#add8e6\" stroke-width=\"1\" x1=\"213.0\" x2=\"240.0\" y1=\"133.5\" y2=\"234.26536799999994\" /><line fill=\"#800080\" stroke=\"#add8e6\" stroke-width=\"1\" x1=\"207.0\" x2=\"178.4634099424212\" y1=\"133.5\" y2=\"240.0\" /><line fill=\"#800080\" stroke=\"#add8e6\" stroke-width=\"1\" x1=\"203.4\" x2=\"112.7772401946174\" y1=\"132.0\" y2=\"240.0\" /><line fill=\"#800080\" stroke=\"#add8e6\" stroke-width=\"1\" x1=\"201.0\" x2=\"0.0\" y1=\"130.2\" y2=\"223.927848\" /><line fill=\"#800080\" stroke=\"#add8e6\" stroke-width=\"1\" x1=\"199.5\" x2=\"0.0\" y1=\"126.0\" y2=\"126.0\" /><line fill=\"#800080\" stroke=\"#a020f0\" stroke-width=\"1\" x1=\"210.0\" x2=\"2.1539193796210117\" y1=\"120.0\" y2=\"0.0\" /><line fill=\"#800080\" stroke=\"#a020f0\" stroke-width=\"1\" x1=\"210.0\" x2=\"240.0\" y1=\"120.0\" y2=\"102.67948799999999\" /><line fill=\"#800080\" stroke=\"#ffa500\" stroke-width=\"1\" x1=\"120.0\" x2=\"199.5\" y1=\"195.0\" y2=\"106.5\" /><line fill=\"#800080\" stroke=\"#ffa500\" stroke-width=\"1\" x1=\"120.0\" x2=\"220.5\" y1=\"195.0\" y2=\"106.5\" /><polygon fill=\"red\" points=\"205.2,106.5 199.5,111.0 199.5,129.0 205.2,133.5 214.8,133.5 220.5,129.0 220.5,111.0 214.8,106.5\" stroke=\"red\" stroke-width=\"1\" /><polygon points=\"-3.0,-3.0 0,0 3.0,-3.0 0,3.0\" stroke=\"black\" stroke-width=\"1\" transform=\"translate(210.0,120.0) rotate(180.0)\" /><polygon fill=\"black\" points=\"213.6,111.6 213.6,116.39999999999999 206.4,116.39999999999999 206.4,111.6\" stroke=\"black\" stroke-width=\"1\" /><circle cx=\"199.5\" cy=\"106.5\" fill=\"yellow\" r=\"1.5\" stroke=\"orange\" stroke-width=\"1\" /><circle cx=\"220.5\" cy=\"106.5\" fill=\"yellow\" r=\"1.5\" stroke=\"orange\" stroke-width=\"1\" /></svg>"
      }
     },
     "02527cf6fa674b4aa8f5a1a0646c8dc3": {
      "model_module": "jupyter-js-widgets",
      "model_module_version": "~2.1.4",
      "model_name": "LayoutModel",
      "state": {
       "_model_module_version": "~2.1.4",
       "_view_module_version": "~2.1.4"
      }
     },
     "02cb085c1829470091ddf278a3c3d4f1": {
      "model_module": "jupyter-js-widgets",
      "model_module_version": "~2.1.4",
      "model_name": "LayoutModel",
      "state": {
       "_model_module_version": "~2.1.4",
       "_view_module_version": "~2.1.4"
      }
     },
     "02e474a7727647799b4af6c2a8da9c83": {
      "model_module": "jupyter-js-widgets",
      "model_module_version": "~2.1.4",
      "model_name": "LayoutModel",
      "state": {
       "_model_module_version": "~2.1.4",
       "_view_module_version": "~2.1.4"
      }
     },
     "036b21fdf2114b2c8c1f6c0e485a30b5": {
      "model_module": "jupyter-js-widgets",
      "model_module_version": "~2.1.4",
      "model_name": "ButtonStyleModel",
      "state": {
       "_model_module_version": "~2.1.4",
       "_view_module_version": "~2.1.4"
      }
     },
     "036eac68538747a5937fba206e91ce2e": {
      "model_module": "jupyter-js-widgets",
      "model_module_version": "~2.1.4",
      "model_name": "TextModel",
      "state": {
       "_model_module_version": "~2.1.4",
       "_view_module_version": "~2.1.4",
       "description": "Time:",
       "layout": "IPY_MODEL_6d38a822153c47f6a2929b4b42d0929b",
       "value": "0.10 seconds"
      }
     },
     "040ffa3e5076441cbbc595ae23249e1b": {
      "model_module": "jupyter-js-widgets",
      "model_module_version": "~2.1.4",
      "model_name": "VBoxModel",
      "state": {
       "_model_module_version": "~2.1.4",
       "_view_module_version": "~2.1.4",
       "children": [
        "IPY_MODEL_e731afb558c545b1bebadead40f9d69a",
        "IPY_MODEL_16a250876d694afdb97bd0bc2c31cad0",
        "IPY_MODEL_5d6f01bcb9b54323a42125daf5a37401"
       ],
       "layout": "IPY_MODEL_39d6ad9ab047440d8d6ff9f80c1ffda6"
      }
     },
     "04326256e46847579becac5083e54bd5": {
      "model_module": "jupyter-js-widgets",
      "model_module_version": "~2.1.4",
      "model_name": "HTMLModel",
      "state": {
       "_model_module_version": "~2.1.4",
       "_view_module_version": "~2.1.4",
       "layout": "IPY_MODEL_0e129ef920c54d35860503693601efe6",
       "value": "<svg baseProfile=\"full\" height=\"240\" version=\"1.1\" width=\"240\" xmlns=\"http://www.w3.org/2000/svg\" xmlns:ev=\"http://www.w3.org/2001/xml-events\" xmlns:xlink=\"http://www.w3.org/1999/xlink\"><defs /><rect fill=\"white\" height=\"240\" stroke=\"#000000\" stroke-width=\"1\" width=\"240\" x=\"0\" y=\"0\" /><rect fill=\"#eef3dd\" height=\"240.0\" stroke=\"#bebebe\" stroke-width=\"1\" width=\"240.0\" x=\"0.0\" y=\"0.0\" /><circle cx=\"120.0\" cy=\"195.0\" fill=\"#ffff00\" r=\"15.0\" stroke=\"#ffff00\" stroke-width=\"1\" /><line fill=\"#800080\" stroke=\"#add8e6\" stroke-width=\"1\" x1=\"84.46492330696164\" x2=\"2.438495870603686\" y1=\"109.39702223915904\" y2=\"240.0\" /><line fill=\"#800080\" stroke=\"#add8e6\" stroke-width=\"1\" x1=\"81.70602064162752\" x2=\"0.0\" y1=\"105.89295944245973\" y2=\"158.687742\" /><line fill=\"#800080\" stroke=\"#add8e6\" stroke-width=\"1\" x1=\"81.45818905261355\" x2=\"0.0\" y1=\"102.90321371690264\" y2=\"114.161178\" /><line fill=\"#800080\" stroke=\"#add8e6\" stroke-width=\"1\" x1=\"82.10263988263421\" x2=\"0.0\" y1=\"99.05682799421628\" y2=\"73.74971399999998\" /><line fill=\"#800080\" stroke=\"#add8e6\" stroke-width=\"1\" x1=\"85.29380421088035\" x2=\"0.0\" y1=\"93.97583692650818\" y2=\"2.088276000000011\" /><line fill=\"#800080\" stroke=\"#add8e6\" stroke-width=\"1\" x1=\"88.47875057475505\" x2=\"58.907630277124696\" y1=\"91.72503336794486\" y2=\"0.0\" /><line fill=\"#800080\" stroke=\"#add8e6\" stroke-width=\"1\" x1=\"91.27951362636593\" x2=\"102.62079768871448\" y1=\"90.64998623933546\" y2=\"0.0\" /><line fill=\"#800080\" stroke=\"#add8e6\" stroke-width=\"1\" x1=\"95.63399845582313\" x2=\"153.1727544568508\" y1=\"91.61355350218075\" y2=\"0.0\" /><line fill=\"#800080\" stroke=\"#add8e6\" stroke-width=\"1\" x1=\"105.7959805912393\" x2=\"167.34321689530125\" y1=\"97.99588215867301\" y2=\"0.0\" /><line fill=\"#800080\" stroke=\"#add8e6\" stroke-width=\"1\" x1=\"108.55488325657342\" x2=\"240.0\" y1=\"101.49994495537233\" y2=\"16.565982000000005\" /><line fill=\"#800080\" stroke=\"#add8e6\" stroke-width=\"1\" x1=\"108.8027148455874\" x2=\"240.0\" y1=\"104.48969068092941\" y2=\"86.35751399999998\" /><line fill=\"#800080\" stroke=\"#add8e6\" stroke-width=\"1\" x1=\"108.15826401556674\" x2=\"240.0\" y1=\"108.33607640361579\" y2=\"148.974648\" /><line fill=\"#800080\" stroke=\"#add8e6\" stroke-width=\"1\" x1=\"104.9670996873206\" x2=\"222.4665703276245\" y1=\"113.41706747132388\" y2=\"240.0\" /><line fill=\"#800080\" stroke=\"#add8e6\" stroke-width=\"1\" x1=\"101.7821533234459\" x2=\"141.86543158246582\" y1=\"115.6678710298872\" y2=\"240.0\" /><line fill=\"#800080\" stroke=\"#add8e6\" stroke-width=\"1\" x1=\"98.98139027183501\" x2=\"83.5606049298705\" y1=\"116.7429181584966\" y2=\"240.0\" /><line fill=\"#800080\" stroke=\"#add8e6\" stroke-width=\"1\" x1=\"94.62690544237782\" x2=\"16.608952610403428\" y1=\"115.77935089565132\" y2=\"240.0\" /><line fill=\"#800080\" stroke=\"#a020f0\" stroke-width=\"1\" x1=\"95.13045194910048\" x2=\"0.0\" y1=\"103.69645219891603\" y2=\"153.998988\" /><line fill=\"#800080\" stroke=\"#a020f0\" stroke-width=\"1\" x1=\"95.13045194910048\" x2=\"98.98948408114062\" y1=\"103.69645219891603\" y2=\"0.0\" /><line fill=\"#800080\" stroke=\"#ffa500\" stroke-width=\"1\" x1=\"120.0\" x2=\"78.11368447232654\" y1=\"195.0\" y2=\"105.40806682885136\" /><line fill=\"#800080\" stroke=\"#ffa500\" stroke-width=\"1\" x1=\"120.0\" x2=\"89.28275962118802\" y1=\"195.0\" y2=\"87.62459809187308\" /><polygon fill=\"red\" points=\"81.14529058416036,100.58112531452869 81.9244277731076,107.80144007503597 97.16740097623186,117.3749330597744 104.00975038884677,114.94136479163629 109.11561331404057,106.81177908330338 108.33647612509334,99.59146432279609 93.09350292196908,90.01797133805765 86.25115350935418,92.45153960619577\" stroke=\"red\" stroke-width=\"1\" /><polygon points=\"-3.0,-3.0 0,0 3.0,-3.0 0,3.0\" stroke=\"black\" stroke-width=\"1\" transform=\"translate(95.13045194910048,103.69645219891603) rotate(122.13126269178692)\" /><polygon fill=\"black\" points=\"89.93176305125684,96.18022749874658 93.99655590542329,98.73315896134348 90.16715871152793,104.83034824259319 86.10236585736148,102.27741677999629\" stroke=\"black\" stroke-width=\"1\" /><circle cx=\"78.11368447232654\" cy=\"105.40806682885136\" fill=\"yellow\" r=\"1.5\" stroke=\"orange\" stroke-width=\"1\" /><circle cx=\"89.28275962118802\" cy=\"87.62459809187308\" fill=\"yellow\" r=\"1.5\" stroke=\"orange\" stroke-width=\"1\" /></svg>"
      }
     },
     "0455b41d4451468d8bfad7aa10161ff3": {
      "model_module": "jupyter-js-widgets",
      "model_module_version": "~2.1.4",
      "model_name": "LayoutModel",
      "state": {
       "_model_module_version": "~2.1.4",
       "_view_module_version": "~2.1.4"
      }
     },
     "045946c7669e4ab1980af20d15863816": {
      "model_module": "jupyter-js-widgets",
      "model_module_version": "~2.1.4",
      "model_name": "OutputModel",
      "state": {
       "_dom_classes": [],
       "_model_module": "jupyter-js-widgets",
       "_model_module_version": "~2.1.4",
       "_view_module": "jupyter-js-widgets",
       "_view_module_version": "~2.1.4",
       "layout": "IPY_MODEL_31a8d82a06404a938b244d2f1af88c50",
       "msg_throttle": 1
      }
     },
     "049399c7a1c747fab24e849700fa7fa1": {
      "model_module": "jupyter-js-widgets",
      "model_module_version": "~2.1.4",
      "model_name": "LayoutModel",
      "state": {
       "_model_module_version": "~2.1.4",
       "_view_module_version": "~2.1.4"
      }
     },
     "04b66a1e2aa44ab49c088d3114973498": {
      "model_module": "jupyter-js-widgets",
      "model_module_version": "~2.1.4",
      "model_name": "LayoutModel",
      "state": {
       "_model_module_version": "~2.1.4",
       "_view_module_version": "~2.1.4"
      }
     },
     "04e84d95329b4fbbaa8751dc9c07c1a6": {
      "model_module": "jupyter-js-widgets",
      "model_module_version": "~2.1.4",
      "model_name": "LayoutModel",
      "state": {
       "_model_module_version": "~2.1.4",
       "_view_module_version": "~2.1.4",
       "height": "30px",
       "padding": "0px 0px 0px 10px",
       "width": "260px"
      }
     },
     "053acb2aafba486a807f26713a019fea": {
      "model_module": "jupyter-js-widgets",
      "model_module_version": "~2.1.4",
      "model_name": "VBoxModel",
      "state": {
       "_model_module_version": "~2.1.4",
       "_view_module_version": "~2.1.4",
       "children": [
        "IPY_MODEL_950b97e0cd97485bb475522118d8f187",
        "IPY_MODEL_2c0b70d942ea4e6a848ba6ea96487375",
        "IPY_MODEL_80ac54413f7d4987950a5e0bab23e3f1"
       ],
       "layout": "IPY_MODEL_6464fb639ec14567b42582eaed6fea77"
      }
     },
     "0581219377aa46f7b85b033a319f2c69": {
      "model_module": "jupyter-js-widgets",
      "model_module_version": "~2.1.4",
      "model_name": "FloatSliderModel",
      "state": {
       "_model_module_version": "~2.1.4",
       "_view_module_version": "~2.1.4",
       "layout": "IPY_MODEL_123b6ed0a3884e0980c62ec35768b7f5",
       "orientation": "vertical",
       "readout": false,
       "step": 0.1,
       "value": 50
      }
     },
     "059f46fcf62d432390558136781ada1a": {
      "model_module": "jupyter-js-widgets",
      "model_module_version": "~2.1.4",
      "model_name": "FloatSliderModel",
      "state": {
       "_model_module_version": "~2.1.4",
       "_view_module_version": "~2.1.4",
       "layout": "IPY_MODEL_a0030981199f450aa4ae2968e2efa4b8",
       "readout": false,
       "step": 0.1,
       "value": 30.12604757028983
      }
     },
     "05ce4ec510a14dad8572fa57bbfa2708": {
      "model_module": "jupyter-js-widgets",
      "model_module_version": "~2.1.4",
      "model_name": "ImageModel",
      "state": {
       "_b64value": "iVBORw0KGgoAAAANSUhEUgAAADwAAAAoCAIAAAAt2Q6oAAAA8UlEQVR4nO3WoQ7CMBCA4d5d++gYggJDwMwgEJshATHkEIRgUCCwkxiwZAhGMxq2bIRcaXKfWOb655b0BvExV6FB3wHfkGguEs1ForlINBeJ5qJ9B5TuhwzeKaWqz+qLt+jbNkVEIgIARLRBbXSOztPYDqBuEg2KokBEYwwRdT3a+hx9SiJ8sZOofji/yuhdNCQirTURPVv9ZjXTm8kAAIwxvks6+OuJ1pFoLhLNJchouFzPSql+b+rc0w3L5Vcb0Vnj7f89ymjHeDQPL7rBLFqGF/0riyQLL9qxXu3Di+4kyCtPorlINBeJ5iLRXIKMfgDJGDkVat0rzwAAAABJRU5ErkJggg==",
       "_model_module_version": "~2.1.4",
       "_view_module_version": "~2.1.4",
       "layout": "IPY_MODEL_c756c4330e454f5bb9212c7888e2616a",
       "width": "240"
      }
     },
     "0653677b3a0a4bbcb161964ccf5654be": {
      "model_module": "jupyter-js-widgets",
      "model_module_version": "~2.1.4",
      "model_name": "LayoutModel",
      "state": {
       "_model_module_version": "~2.1.4",
       "_view_module_version": "~2.1.4"
      }
     },
     "06574dc3b97f4ea18b7565919cc0da32": {
      "model_module": "jupyter-js-widgets",
      "model_module_version": "~2.1.4",
      "model_name": "HTMLModel",
      "state": {
       "_model_module_version": "~2.1.4",
       "_view_module_version": "~2.1.4",
       "layout": "IPY_MODEL_ba7128a0118141789cc4ae467086cbd7",
       "value": "<svg baseProfile=\"full\" height=\"240\" version=\"1.1\" width=\"240\" xmlns=\"http://www.w3.org/2000/svg\" xmlns:ev=\"http://www.w3.org/2001/xml-events\" xmlns:xlink=\"http://www.w3.org/1999/xlink\"><defs /><rect fill=\"white\" height=\"240\" stroke=\"#000000\" stroke-width=\"1\" width=\"240\" x=\"0\" y=\"0\" /><rect fill=\"#eef3dd\" height=\"240.0\" stroke=\"#bebebe\" stroke-width=\"1\" width=\"240.0\" x=\"0.0\" y=\"0.0\" /><circle cx=\"120.0\" cy=\"195.0\" fill=\"#ffff00\" r=\"15.0\" stroke=\"#ffff00\" stroke-width=\"1\" /><line fill=\"#800080\" stroke=\"#add8e6\" stroke-width=\"1\" x1=\"199.5\" x2=\"0.0\" y1=\"114.0\" y2=\"114.0\" /><line fill=\"#800080\" stroke=\"#add8e6\" stroke-width=\"1\" x1=\"201.0\" x2=\"0.0\" y1=\"109.80000000000001\" y2=\"16.07215199999999\" /><line fill=\"#800080\" stroke=\"#add8e6\" stroke-width=\"1\" x1=\"203.4\" x2=\"112.77724019461742\" y1=\"107.99999999999999\" y2=\"0.0\" /><line fill=\"#800080\" stroke=\"#add8e6\" stroke-width=\"1\" x1=\"207.0\" x2=\"178.4634099424212\" y1=\"106.5\" y2=\"0.0\" /><line fill=\"#800080\" stroke=\"#add8e6\" stroke-width=\"1\" x1=\"213.0\" x2=\"240.0\" y1=\"106.5\" y2=\"5.734632000000062\" /><line fill=\"#800080\" stroke=\"#add8e6\" stroke-width=\"1\" x1=\"216.6\" x2=\"240.0\" y1=\"107.99999999999999\" y2=\"80.11296600000001\" /><line fill=\"#800080\" stroke=\"#add8e6\" stroke-width=\"1\" x1=\"219.0\" x2=\"240.0\" y1=\"109.80000000000001\" y2=\"100.007538\" /><line fill=\"#800080\" stroke=\"#add8e6\" stroke-width=\"1\" x1=\"220.5\" x2=\"240.0\" y1=\"114.0\" y2=\"114.0\" /><line fill=\"#800080\" stroke=\"#add8e6\" stroke-width=\"1\" x1=\"220.5\" x2=\"240.0\" y1=\"126.0\" y2=\"126.0\" /><line fill=\"#800080\" stroke=\"#add8e6\" stroke-width=\"1\" x1=\"219.0\" x2=\"240.0\" y1=\"130.2\" y2=\"139.992462\" /><line fill=\"#800080\" stroke=\"#add8e6\" stroke-width=\"1\" x1=\"216.6\" x2=\"240.0\" y1=\"132.0\" y2=\"159.88703399999997\" /><line fill=\"#800080\" stroke=\"#add8e6\" stroke-width=\"1\" x1=\"213.0\" x2=\"240.0\" y1=\"133.5\" y2=\"234.26536799999994\" /><line fill=\"#800080\" stroke=\"#add8e6\" stroke-width=\"1\" x1=\"207.0\" x2=\"178.4634099424212\" y1=\"133.5\" y2=\"240.0\" /><line fill=\"#800080\" stroke=\"#add8e6\" stroke-width=\"1\" x1=\"203.4\" x2=\"112.7772401946174\" y1=\"132.0\" y2=\"240.0\" /><line fill=\"#800080\" stroke=\"#add8e6\" stroke-width=\"1\" x1=\"201.0\" x2=\"0.0\" y1=\"130.2\" y2=\"223.927848\" /><line fill=\"#800080\" stroke=\"#add8e6\" stroke-width=\"1\" x1=\"199.5\" x2=\"0.0\" y1=\"126.0\" y2=\"126.0\" /><line fill=\"#800080\" stroke=\"#a020f0\" stroke-width=\"1\" x1=\"210.0\" x2=\"2.1539193796210117\" y1=\"120.0\" y2=\"0.0\" /><line fill=\"#800080\" stroke=\"#a020f0\" stroke-width=\"1\" x1=\"210.0\" x2=\"240.0\" y1=\"120.0\" y2=\"102.67948799999999\" /><line fill=\"#800080\" stroke=\"#ffa500\" stroke-width=\"1\" x1=\"120.0\" x2=\"199.5\" y1=\"195.0\" y2=\"106.5\" /><line fill=\"#800080\" stroke=\"#ffa500\" stroke-width=\"1\" x1=\"120.0\" x2=\"220.5\" y1=\"195.0\" y2=\"106.5\" /><polygon fill=\"red\" points=\"205.2,106.5 199.5,111.0 199.5,129.0 205.2,133.5 214.8,133.5 220.5,129.0 220.5,111.0 214.8,106.5\" stroke=\"red\" stroke-width=\"1\" /><polygon points=\"-3.0,-3.0 0,0 3.0,-3.0 0,3.0\" stroke=\"black\" stroke-width=\"1\" transform=\"translate(210.0,120.0) rotate(180.0)\" /><polygon fill=\"black\" points=\"213.6,111.6 213.6,116.39999999999999 206.4,116.39999999999999 206.4,111.6\" stroke=\"black\" stroke-width=\"1\" /><circle cx=\"199.5\" cy=\"106.5\" fill=\"yellow\" r=\"1.5\" stroke=\"orange\" stroke-width=\"1\" /><circle cx=\"220.5\" cy=\"106.5\" fill=\"yellow\" r=\"1.5\" stroke=\"orange\" stroke-width=\"1\" /></svg>"
      }
     },
     "06d29478904e4adbae0b8a0777aa361a": {
      "model_module": "jupyter-js-widgets",
      "model_module_version": "~2.1.4",
      "model_name": "LayoutModel",
      "state": {
       "_model_module_version": "~2.1.4",
       "_view_module_version": "~2.1.4"
      }
     },
     "06f68423c8ab46cd83756f0a87f030f2": {
      "model_module": "jupyter-js-widgets",
      "model_module_version": "~2.1.4",
      "model_name": "LayoutModel",
      "state": {
       "_model_module_version": "~2.1.4",
       "_view_module_version": "~2.1.4"
      }
     },
     "06f8176822444b4d82e6861197456aac": {
      "model_module": "jupyter-js-widgets",
      "model_module_version": "~2.1.4",
      "model_name": "CheckboxModel",
      "state": {
       "_model_module_version": "~2.1.4",
       "_view_module_version": "~2.1.4",
       "description": "Update GUI",
       "disabled": false,
       "layout": "IPY_MODEL_10e365b0f0a14c73a70f962137367a08",
       "value": true
      }
     },
     "0702012790894f439599ff249c9d4db0": {
      "model_module": "jupyter-js-widgets",
      "model_module_version": "~2.1.4",
      "model_name": "LayoutModel",
      "state": {
       "_model_module_version": "~2.1.4",
       "_view_module_version": "~2.1.4"
      }
     },
     "07157949cb784db5ba5a45781f5dccc3": {
      "model_module": "jupyter-js-widgets",
      "model_module_version": "~2.1.4",
      "model_name": "LayoutModel",
      "state": {
       "_model_module_version": "~2.1.4",
       "_view_module_version": "~2.1.4",
       "height": "30px",
       "padding": "0px 0px 0px 10px",
       "width": "260px"
      }
     },
     "07916eba6c2f4200969ed217a4461e70": {
      "model_module": "jupyter-js-widgets",
      "model_module_version": "~2.1.4",
      "model_name": "LayoutModel",
      "state": {
       "_model_module_version": "~2.1.4",
       "_view_module_version": "~2.1.4"
      }
     },
     "07caad2ee9ff454aa12ca22317d287fd": {
      "model_module": "jupyter-js-widgets",
      "model_module_version": "~2.1.4",
      "model_name": "LayoutModel",
      "state": {
       "_model_module_version": "~2.1.4",
       "_view_module_version": "~2.1.4"
      }
     },
     "08bd55d4a46d45e78cc1ab84e575c2d0": {
      "model_module": "jupyter-js-widgets",
      "model_module_version": "~2.1.4",
      "model_name": "FloatSliderModel",
      "state": {
       "_model_module_version": "~2.1.4",
       "_view_module_version": "~2.1.4",
       "layout": "IPY_MODEL_557e35ca7753479491ed8104df044c66",
       "readout": false,
       "step": 0.1,
       "value": 87.5
      }
     },
     "08e20ec82fa24ab8949981c717c64385": {
      "model_module": "jupyter-js-widgets",
      "model_module_version": "~2.1.4",
      "model_name": "LayoutModel",
      "state": {
       "_model_module_version": "~2.1.4",
       "_view_module_version": "~2.1.4"
      }
     },
     "08eaa8416b8649558a045f1c00714a88": {
      "model_module": "jupyter-js-widgets",
      "model_module_version": "~2.1.4",
      "model_name": "LayoutModel",
      "state": {
       "_model_module_version": "~2.1.4",
       "_view_module_version": "~2.1.4"
      }
     },
     "08f8a484ef8748dbad111b24ddb3675f": {
      "model_module": "jupyter-js-widgets",
      "model_module_version": "~2.1.4",
      "model_name": "FloatSliderModel",
      "state": {
       "_model_module_version": "~2.1.4",
       "_view_module_version": "~2.1.4",
       "layout": "IPY_MODEL_73c0270a6c4e47a69bca376fb5ac93fe",
       "orientation": "vertical",
       "readout": false,
       "step": 0.1,
       "value": 20.140248102811416
      }
     },
     "08ff67209a0f4a70a35254c8c702e243": {
      "model_module": "jupyter-js-widgets",
      "model_module_version": "~2.1.4",
      "model_name": "ButtonModel",
      "state": {
       "_model_module_version": "~2.1.4",
       "_view_module_version": "~2.1.4",
       "icon": "step-forward",
       "layout": "IPY_MODEL_e65c597c7b3e4c818bd01827204a4a3d",
       "style": "IPY_MODEL_dc1ecf2bfa4d47ed9eddadd1f9923744"
      }
     },
     "09194058177348ecaf7758d3cf5dbe7e": {
      "model_module": "jupyter-js-widgets",
      "model_module_version": "~2.1.4",
      "model_name": "LayoutModel",
      "state": {
       "_model_module_version": "~2.1.4",
       "_view_module_version": "~2.1.4"
      }
     },
     "093a775cd72c45f287af9a04c6924ff6": {
      "model_module": "jupyter-js-widgets",
      "model_module_version": "~2.1.4",
      "model_name": "LayoutModel",
      "state": {
       "_model_module_version": "~2.1.4",
       "_view_module_version": "~2.1.4"
      }
     },
     "0950e5b7b2be499789dce31ca1fe16dc": {
      "model_module": "jupyter-js-widgets",
      "model_module_version": "~2.1.4",
      "model_name": "LayoutModel",
      "state": {
       "_model_module_version": "~2.1.4",
       "_view_module_version": "~2.1.4"
      }
     },
     "09876301ccab436988321131cd1fac7b": {
      "model_module": "jupyter-js-widgets",
      "model_module_version": "~2.1.4",
      "model_name": "LayoutModel",
      "state": {
       "_model_module_version": "~2.1.4",
       "_view_module_version": "~2.1.4"
      }
     },
     "0a002f578258433891f8c7470a73124e": {
      "model_module": "jupyter-js-widgets",
      "model_module_version": "~2.1.4",
      "model_name": "HTMLModel",
      "state": {
       "_model_module_version": "~2.1.4",
       "_view_module_version": "~2.1.4",
       "layout": "IPY_MODEL_53a74d443d324fa9b69677bc4637c313",
       "value": "<svg baseProfile=\"full\" height=\"240\" version=\"1.1\" width=\"240\" xmlns=\"http://www.w3.org/2000/svg\" xmlns:ev=\"http://www.w3.org/2001/xml-events\" xmlns:xlink=\"http://www.w3.org/1999/xlink\"><defs /><rect fill=\"white\" height=\"240\" stroke=\"#000000\" stroke-width=\"1\" width=\"240\" x=\"0\" y=\"0\" /><rect fill=\"#eef3dd\" height=\"240.0\" stroke=\"#bebebe\" stroke-width=\"1\" width=\"240.0\" x=\"0.0\" y=\"0.0\" /><circle cx=\"120.0\" cy=\"195.0\" fill=\"#ffff00\" r=\"15.0\" stroke=\"#ffff00\" stroke-width=\"1\" /><line fill=\"#800080\" stroke=\"#add8e6\" stroke-width=\"1\" x1=\"190.11099553259191\" x2=\"0.0\" y1=\"136.2517665204853\" y2=\"126.82293\" /><line fill=\"#800080\" stroke=\"#add8e6\" stroke-width=\"1\" x1=\"191.81720375916217\" x2=\"0.0\" y1=\"132.13122608413667\" y2=\"30.829085999999997\" /><line fill=\"#800080\" stroke=\"#add8e6\" stroke-width=\"1\" x1=\"194.30342156855264\" x2=\"95.42583835633135\" y1=\"130.45232138038796\" y2=\"0.0\" /><line fill=\"#800080\" stroke=\"#add8e6\" stroke-width=\"1\" x1=\"197.97330551358422\" x2=\"170.14668009852412\" y1=\"129.13249115266947\" y2=\"0.0\" /><line fill=\"#800080\" stroke=\"#add8e6\" stroke-width=\"1\" x1=\"203.96593965310745\" x2=\"240.0\" y1=\"129.42970499794006\" y2=\"17.460966000000013\" /><line fill=\"#800080\" stroke=\"#add8e6\" stroke-width=\"1\" x1=\"207.48721667550376\" x2=\"240.0\" y1=\"131.1061918399832\" y2=\"96.04390799999999\" /><line fill=\"#800080\" stroke=\"#add8e6\" stroke-width=\"1\" x1=\"209.79510617773187\" x2=\"240.0\" y1=\"133.0228676199484\" y2=\"120.72066600000001\" /><line fill=\"#800080\" stroke=\"#add8e6\" stroke-width=\"1\" x1=\"211.0852150209233\" x2=\"240.0\" y1=\"137.29201497893234\" y2=\"138.726084\" /><line fill=\"#800080\" stroke=\"#add8e6\" stroke-width=\"1\" x1=\"210.49078733038212\" x2=\"240.0\" y1=\"149.2772832579788\" y2=\"150.740838\" /><line fill=\"#800080\" stroke=\"#add8e6\" stroke-width=\"1\" x1=\"208.7845791038119\" x2=\"240.0\" y1=\"153.39782369432749\" y2=\"169.88325\" /><line fill=\"#800080\" stroke=\"#add8e6\" stroke-width=\"1\" x1=\"206.29836129442143\" x2=\"240.0\" y1=\"155.0767283980762\" y2=\"199.54036200000002\" /><line fill=\"#800080\" stroke=\"#add8e6\" stroke-width=\"1\" x1=\"202.62847734938984\" x2=\"220.64409562098217\" y1=\"156.39655862579465\" y2=\"240.0\" /><line fill=\"#800080\" stroke=\"#add8e6\" stroke-width=\"1\" x1=\"196.6358432098666\" x2=\"169.63472434258574\" y1=\"156.09934478052406\" y2=\"240.0\" /><line fill=\"#800080\" stroke=\"#add8e6\" stroke-width=\"1\" x1=\"193.1145661874703\" x2=\"113.7600328927084\" y1=\"154.42285793848092\" y2=\"240.0\" /><line fill=\"#800080\" stroke=\"#add8e6\" stroke-width=\"1\" x1=\"190.8066766852422\" x2=\"0.0\" y1=\"152.50618215851568\" y2=\"230.220138\" /><line fill=\"#800080\" stroke=\"#add8e6\" stroke-width=\"1\" x1=\"189.51656784205076\" x2=\"0.0\" y1=\"148.23703479953178\" y2=\"138.837672\" /><line fill=\"#800080\" stroke=\"#a020f0\" stroke-width=\"1\" x1=\"200.30089143148703\" x2=\"0.0\" y1=\"142.76452488923206\" y2=\"13.48463999999999\" /><line fill=\"#800080\" stroke=\"#a020f0\" stroke-width=\"1\" x1=\"200.30089143148703\" x2=\"240.0\" y1=\"142.76452488923206\" y2=\"122.39639999999997\" /><line fill=\"#800080\" stroke=\"#ffa500\" stroke-width=\"1\" x1=\"120.0\" x2=\"190.48251283918017\" y1=\"195.0\" y2=\"128.76097384608127\" /><line fill=\"#800080\" stroke=\"#ffa500\" stroke-width=\"1\" x1=\"120.0\" x2=\"211.45673232751153\" y1=\"195.0\" y2=\"129.8012223045283\" /><polygon fill=\"red\" points=\"196.17551527172725,129.0433269990883 190.2596024552272,133.2554494507237 189.36796091941548,151.23335186929341 194.8380529680096,156.01018062694288 204.4262675912468,156.48572277937583 210.34218040774684,152.27360032774044 211.23382194355858,134.2956979091707 205.76372989496446,129.51886915152124\" stroke=\"red\" stroke-width=\"1\" /><polygon points=\"-3.0,-3.0 0,0 3.0,-3.0 0,3.0\" stroke=\"black\" stroke-width=\"1\" transform=\"translate(200.30089143148703,142.76452488923206) rotate(-177.16065484594407)\" /><polygon fill=\"black\" points=\"204.3125712985798,134.5531654010619 204.07480022236334,139.34727271268048 196.88363925493545,138.99061609835576 197.1214103311519,134.19650878673718\" stroke=\"black\" stroke-width=\"1\" /><circle cx=\"190.48251283918017\" cy=\"128.76097384608127\" fill=\"yellow\" r=\"1.5\" stroke=\"orange\" stroke-width=\"1\" /><circle cx=\"211.45673232751153\" cy=\"129.8012223045283\" fill=\"yellow\" r=\"1.5\" stroke=\"orange\" stroke-width=\"1\" /></svg>"
      }
     },
     "0a28d0e92f054696b7c8a416b116d7e0": {
      "model_module": "jupyter-js-widgets",
      "model_module_version": "~2.1.4",
      "model_name": "VBoxModel",
      "state": {
       "_model_module_version": "~2.1.4",
       "_view_module_version": "~2.1.4",
       "children": [
        "IPY_MODEL_fa1391d70be0476da5bcc5d63b27d6d1",
        "IPY_MODEL_960d6082ee8b4cf48e6f4230854d32e4",
        "IPY_MODEL_5c0cf59550844fe8bb419a2f58d19da2"
       ],
       "layout": "IPY_MODEL_75a84499ded64bb4b928bd2f41d202fc"
      }
     },
     "0a4fd9ddd2694341bd906f8e4697782f": {
      "model_module": "jupyter-js-widgets",
      "model_module_version": "~2.1.4",
      "model_name": "HBoxModel",
      "state": {
       "_model_module_version": "~2.1.4",
       "_view_module_version": "~2.1.4",
       "children": [
        "IPY_MODEL_83faf3e8ce3a4b51a97195486ef236c4",
        "IPY_MODEL_9f99c0ca5bc24945b4124969acbec3bd",
        "IPY_MODEL_bab7b9ebd4654751a3fb8b677cfb84e1"
       ],
       "layout": "IPY_MODEL_dfd564a23a7f4a9a8cdea83df5c45a78"
      }
     },
     "0a58aa2ef86946c0861a737633fa7b32": {
      "model_module": "jupyter-js-widgets",
      "model_module_version": "~2.1.4",
      "model_name": "VBoxModel",
      "state": {
       "_model_module_version": "~2.1.4",
       "_view_module_version": "~2.1.4",
       "children": [
        "IPY_MODEL_89488fab8e384216800ae737b1986f69",
        "IPY_MODEL_1ab384cf9f4e441a99da558cf0cb4fc9"
       ],
       "layout": "IPY_MODEL_19b474597d1f4fcca0469c910236b7ad"
      }
     },
     "0a67f36d5512426a806de2995874d16e": {
      "model_module": "jupyter-js-widgets",
      "model_module_version": "~2.1.4",
      "model_name": "ButtonStyleModel",
      "state": {
       "_model_module_version": "~2.1.4",
       "_view_module_version": "~2.1.4"
      }
     },
     "0a8f1ecc85904572a47c7cb9030474ad": {
      "model_module": "jupyter-js-widgets",
      "model_module_version": "~2.1.4",
      "model_name": "ButtonStyleModel",
      "state": {
       "_model_module_version": "~2.1.4",
       "_view_module_version": "~2.1.4"
      }
     },
     "0aad9ef5540b489c8e8fd0a3bd7104cc": {
      "model_module": "jupyter-js-widgets",
      "model_module_version": "~2.1.4",
      "model_name": "LayoutModel",
      "state": {
       "_model_module_version": "~2.1.4",
       "_view_module_version": "~2.1.4"
      }
     },
     "0abb7c12097d460e9ba03ed7a76b7bfa": {
      "model_module": "jupyter-js-widgets",
      "model_module_version": "~2.1.4",
      "model_name": "LayoutModel",
      "state": {
       "_model_module_version": "~2.1.4",
       "_view_module_version": "~2.1.4"
      }
     },
     "0ac20dce6c974c44a105b09ea11bf945": {
      "model_module": "jupyter-js-widgets",
      "model_module_version": "~2.1.4",
      "model_name": "CheckboxModel",
      "state": {
       "_model_module_version": "~2.1.4",
       "_view_module_version": "~2.1.4",
       "description": "Update GUI",
       "disabled": false,
       "layout": "IPY_MODEL_dc761c5138a1413aaffe78decf9723d6",
       "value": true
      }
     },
     "0b0241eda2f7438b8fcbb46b8b0d61bc": {
      "model_module": "jupyter-js-widgets",
      "model_module_version": "~2.1.4",
      "model_name": "OutputModel",
      "state": {
       "_dom_classes": [],
       "_model_module": "jupyter-js-widgets",
       "_model_module_version": "~2.1.4",
       "_view_module": "jupyter-js-widgets",
       "_view_module_version": "~2.1.4",
       "layout": "IPY_MODEL_013b0d53a2ea4edc938c245336b72266",
       "msg_throttle": 1
      }
     },
     "0b39bc6390c84e1a838a5d3bbbbede58": {
      "model_module": "jupyter-js-widgets",
      "model_module_version": "~2.1.4",
      "model_name": "LayoutModel",
      "state": {
       "_model_module_version": "~2.1.4",
       "_view_module_version": "~2.1.4"
      }
     },
     "0b4062c4d126482898490ce2ef87f968": {
      "model_module": "jupyter-js-widgets",
      "model_module_version": "~2.1.4",
      "model_name": "LayoutModel",
      "state": {
       "_model_module_version": "~2.1.4",
       "_view_module_version": "~2.1.4"
      }
     },
     "0b575746944f44bdbdc890d5f6292c76": {
      "model_module": "jupyter-js-widgets",
      "model_module_version": "~2.1.4",
      "model_name": "LayoutModel",
      "state": {
       "_model_module_version": "~2.1.4",
       "_view_module_version": "~2.1.4",
       "height": "248px",
       "padding": "0px 0px 0px 0px",
       "width": "10px"
      }
     },
     "0b5f3c59058a46e0a3a872667ccffeb5": {
      "model_module": "jupyter-js-widgets",
      "model_module_version": "~2.1.4",
      "model_name": "OutputModel",
      "state": {
       "_dom_classes": [],
       "_model_module": "jupyter-js-widgets",
       "_model_module_version": "~2.1.4",
       "_view_module": "jupyter-js-widgets",
       "_view_module_version": "~2.1.4",
       "layout": "IPY_MODEL_86c33eac404b4327895704cb4150bd90",
       "msg_throttle": 1
      }
     },
     "0b6a12b9c52846b5afa95c1956d4ee98": {
      "model_module": "jupyter-js-widgets",
      "model_module_version": "~2.1.4",
      "model_name": "LayoutModel",
      "state": {
       "_model_module_version": "~2.1.4",
       "_view_module_version": "~2.1.4"
      }
     },
     "0ba4d1e859a64fc8a34a1e31bb54e1c6": {
      "model_module": "jupyter-js-widgets",
      "model_module_version": "~2.1.4",
      "model_name": "HBoxModel",
      "state": {
       "_model_module_version": "~2.1.4",
       "_view_module_version": "~2.1.4",
       "children": [
        "IPY_MODEL_fcf37821a435454ab44b8b7c0d02ea9e",
        "IPY_MODEL_3b263311d2294d6c9b6522fdf8a6c9c9"
       ],
       "layout": "IPY_MODEL_f5fa5b9ed87a4d2aaa8dce14fbe00646"
      }
     },
     "0bd6fb0acbfb4669a4d1488c7e1cf54f": {
      "model_module": "jupyter-js-widgets",
      "model_module_version": "~2.1.4",
      "model_name": "LayoutModel",
      "state": {
       "_model_module_version": "~2.1.4",
       "_view_module_version": "~2.1.4"
      }
     },
     "0bf4459f4cc44648875bad76e338f00e": {
      "model_module": "jupyter-js-widgets",
      "model_module_version": "~2.1.4",
      "model_name": "FloatSliderModel",
      "state": {
       "_model_module_version": "~2.1.4",
       "_view_module_version": "~2.1.4",
       "layout": "IPY_MODEL_4a4a2d501ff645178029251473b746be",
       "orientation": "vertical",
       "readout": false,
       "step": 0.1,
       "value": 50
      }
     },
     "0bff934449ef4953b4557adb0a24f710": {
      "model_module": "jupyter-js-widgets",
      "model_module_version": "~2.1.4",
      "model_name": "VBoxModel",
      "state": {
       "_model_module_version": "~2.1.4",
       "_view_module_version": "~2.1.4",
       "children": [
        "IPY_MODEL_26438f0b082f4b89bc111ed1a09e7a25",
        "IPY_MODEL_3de234004e914e289dcdcc35b6c6d3df"
       ],
       "layout": "IPY_MODEL_5ba41aedf72c4873af244142a2a165bf"
      }
     },
     "0c594585ba5b467489bfd189e5073a64": {
      "model_module": "jupyter-js-widgets",
      "model_module_version": "~2.1.4",
      "model_name": "HTMLModel",
      "state": {
       "_model_module_version": "~2.1.4",
       "_view_module_version": "~2.1.4",
       "layout": "IPY_MODEL_b0054088c2fa481a8f6ed9f3fdbb51f9",
       "value": "<svg baseProfile=\"full\" height=\"240\" version=\"1.1\" width=\"240\" xmlns=\"http://www.w3.org/2000/svg\" xmlns:ev=\"http://www.w3.org/2001/xml-events\" xmlns:xlink=\"http://www.w3.org/1999/xlink\"><defs /><rect fill=\"white\" height=\"240\" stroke=\"#000000\" stroke-width=\"1\" width=\"240\" x=\"0\" y=\"0\" /><rect fill=\"#eef3dd\" height=\"240.0\" stroke=\"#bebebe\" stroke-width=\"1\" width=\"240.0\" x=\"0.0\" y=\"0.0\" /><circle cx=\"120.0\" cy=\"195.0\" fill=\"#ffff00\" r=\"15.0\" stroke=\"#ffff00\" stroke-width=\"1\" /><line fill=\"#800080\" stroke=\"#add8e6\" stroke-width=\"1\" x1=\"199.29647346587737\" x2=\"0.0\" y1=\"111.37109959820461\" y2=\"118.34932799999999\" /><line fill=\"#800080\" stroke=\"#add8e6\" stroke-width=\"1\" x1=\"200.64858482032437\" x2=\"0.0\" y1=\"107.12118255369946\" y2=\"21.973026000000004\" /><line fill=\"#800080\" stroke=\"#add8e6\" stroke-width=\"1\" x1=\"202.98412783209295\" x2=\"108.20933355871675\" y1=\"105.23830209010676\" y2=\"0.0\" /><line fill=\"#800080\" stroke=\"#add8e6\" stroke-width=\"1\" x1=\"206.529433775271\" x2=\"174.84110042201567\" y1=\"103.61324646974592\" y2=\"0.0\" /><line fill=\"#800080\" stroke=\"#add8e6\" stroke-width=\"1\" x1=\"212.52575915041191\" x2=\"236.38811675880686\" y1=\"103.4032893421199\" y2=\"0.0\" /><line fill=\"#800080\" stroke=\"#add8e6\" stroke-width=\"1\" x1=\"216.176043657403\" x2=\"240.0\" y1=\"104.77639640932952\" y2=\"74.27725800000002\" /><line fill=\"#800080\" stroke=\"#add8e6\" stroke-width=\"1\" x1=\"218.63756094574717\" x2=\"240.0\" y1=\"106.49131117082139\" y2=\"95.60408999999999\" /><line fill=\"#800080\" stroke=\"#add8e6\" stroke-width=\"1\" x1=\"220.28361227887063\" x2=\"240.0\" y1=\"110.63624965151354\" y2=\"109.94589599999998\" /><line fill=\"#800080\" stroke=\"#add8e6\" stroke-width=\"1\" x1=\"220.70352653412263\" x2=\"240.0\" y1=\"122.62890040179542\" y2=\"121.95324600000001\" /><line fill=\"#800080\" stroke=\"#add8e6\" stroke-width=\"1\" x1=\"219.35141517967563\" x2=\"240.0\" y1=\"126.87881744630057\" y2=\"135.641346\" /><line fill=\"#800080\" stroke=\"#add8e6\" stroke-width=\"1\" x1=\"217.01587216790705\" x2=\"240.0\" y1=\"128.76169790989326\" y2=\"154.283364\" /><line fill=\"#800080\" stroke=\"#add8e6\" stroke-width=\"1\" x1=\"213.470566224729\" x2=\"240.0\" y1=\"130.3867535302541\" y2=\"217.131636\" /><line fill=\"#800080\" stroke=\"#add8e6\" stroke-width=\"1\" x1=\"207.47424084958809\" x2=\"182.22726449088904\" y1=\"130.59671065788012\" y2=\"240.0\" /><line fill=\"#800080\" stroke=\"#add8e6\" stroke-width=\"1\" x1=\"203.823956342597\" x2=\"117.29260723482744\" y1=\"129.2236035906705\" y2=\"240.0\" /><line fill=\"#800080\" stroke=\"#add8e6\" stroke-width=\"1\" x1=\"201.36243905425283\" x2=\"0.0\" y1=\"127.50868882917862\" y2=\"230.131668\" /><line fill=\"#800080\" stroke=\"#add8e6\" stroke-width=\"1\" x1=\"199.71638772112937\" x2=\"0.0\" y1=\"123.36375034848649\" y2=\"130.356678\" /><line fill=\"#800080\" stroke=\"#a020f0\" stroke-width=\"1\" x1=\"210.0\" x2=\"0.0\" y1=\"117.00000000000001\" y2=\"5.366183999999992\" /><line fill=\"#800080\" stroke=\"#a020f0\" stroke-width=\"1\" x1=\"210.0\" x2=\"240.0\" y1=\"117.00000000000001\" y2=\"98.250024\" /><line fill=\"#800080\" stroke=\"#ffa500\" stroke-width=\"1\" x1=\"120.0\" x2=\"199.03402705634483\" y1=\"195.0\" y2=\"103.87569287927845\" /><line fill=\"#800080\" stroke=\"#ffa500\" stroke-width=\"1\" x1=\"120.0\" x2=\"220.02116586933806\" y1=\"195.0\" y2=\"103.14084293258738\" /><polygon fill=\"red\" points=\"204.7305361627287,103.67623360803373 199.19149490206433,108.37293691063414 199.82136628494237,126.36191303605695 205.67534323704578,130.65969779616793 215.2694638372713,130.3237663919663 220.80850509793567,125.62706308936588 220.17863371505763,107.63808696394308 214.32465676295422,103.3403022038321\" stroke=\"red\" stroke-width=\"1\" /><polygon points=\"-3.0,-3.0 0,0 3.0,-3.0 0,3.0\" stroke=\"black\" stroke-width=\"1\" transform=\"translate(210.0,117.00000000000001) rotate(177.9946477170421)\" /><polygon fill=\"black\" points=\"213.30385524640815,108.4791701982271 213.47182094850893,113.27623049833983 206.2762304983398,113.52817905149107 206.108264796239,108.73111875137835\" stroke=\"black\" stroke-width=\"1\" /><circle cx=\"199.03402705634483\" cy=\"103.87569287927845\" fill=\"yellow\" r=\"1.5\" stroke=\"orange\" stroke-width=\"1\" /><circle cx=\"220.02116586933806\" cy=\"103.14084293258738\" fill=\"yellow\" r=\"1.5\" stroke=\"orange\" stroke-width=\"1\" /></svg>"
      }
     },
     "0c6771b673c647329f4e8cad297744ca": {
      "model_module": "jupyter-js-widgets",
      "model_module_version": "~2.1.4",
      "model_name": "FloatSliderModel",
      "state": {
       "_model_module_version": "~2.1.4",
       "_view_module_version": "~2.1.4",
       "layout": "IPY_MODEL_310a6abcd7824beb962111351c449fa9",
       "readout": false,
       "step": 0.1,
       "value": 99.44295769917836
      }
     },
     "0c74936908fd49e0b51a0d7847013ab8": {
      "model_module": "jupyter-js-widgets",
      "model_module_version": "~2.1.4",
      "model_name": "HBoxModel",
      "state": {
       "_model_module_version": "~2.1.4",
       "_view_module_version": "~2.1.4",
       "children": [
        "IPY_MODEL_1122d18483214faaa0b6128c52ecc705",
        "IPY_MODEL_f8ce085c683840209ea5dc542c822bdd",
        "IPY_MODEL_ec6e8e1b35814bb48d920eebf7bbb620"
       ],
       "layout": "IPY_MODEL_bb39d5db5bf343e78109802a18a6c0b9"
      }
     },
     "0cf5d5b53307424daef365bbe29a0cdf": {
      "model_module": "jupyter-js-widgets",
      "model_module_version": "~2.1.4",
      "model_name": "LayoutModel",
      "state": {
       "_model_module_version": "~2.1.4",
       "_view_module_version": "~2.1.4"
      }
     },
     "0d3cb020418d49ff9032ca4b5bb17f52": {
      "model_module": "jupyter-js-widgets",
      "model_module_version": "~2.1.4",
      "model_name": "LayoutModel",
      "state": {
       "_model_module_version": "~2.1.4",
       "_view_module_version": "~2.1.4"
      }
     },
     "0d44824368a240c0ba2bb181a0401f0d": {
      "model_module": "jupyter-js-widgets",
      "model_module_version": "~2.1.4",
      "model_name": "HBoxModel",
      "state": {
       "_model_module_version": "~2.1.4",
       "_view_module_version": "~2.1.4",
       "children": [
        "IPY_MODEL_c993286939164a8e8b83718688c15cc0",
        "IPY_MODEL_04326256e46847579becac5083e54bd5"
       ],
       "layout": "IPY_MODEL_25959e7056a040d2863d8e000e02e7ed"
      }
     },
     "0d8804da05074cc2bed7915ab4a94ce5": {
      "model_module": "jupyter-js-widgets",
      "model_module_version": "~2.1.4",
      "model_name": "LayoutModel",
      "state": {
       "_model_module_version": "~2.1.4",
       "_view_module_version": "~2.1.4",
       "height": "30px",
       "padding": "0px 0px 0px 10px",
       "width": "260px"
      }
     },
     "0db0c321b9ea41248d772b2903dd7c30": {
      "model_module": "jupyter-js-widgets",
      "model_module_version": "~2.1.4",
      "model_name": "LayoutModel",
      "state": {
       "_model_module_version": "~2.1.4",
       "_view_module_version": "~2.1.4"
      }
     },
     "0de54be7d1fe4a4595b8daf8f308ff75": {
      "model_module": "jupyter-js-widgets",
      "model_module_version": "~2.1.4",
      "model_name": "PlayModel",
      "state": {
       "_model_module_version": "~2.1.4",
       "_view_module_version": "~2.1.4",
       "layout": "IPY_MODEL_fceea50a00df4026a26054ee8dcbd147",
       "max": 1000000
      }
     },
     "0e0c7989ad5c486180eaea590b34b3ab": {
      "model_module": "jupyter-js-widgets",
      "model_module_version": "~2.1.4",
      "model_name": "LayoutModel",
      "state": {
       "_model_module_version": "~2.1.4",
       "_view_module_version": "~2.1.4"
      }
     },
     "0e129ef920c54d35860503693601efe6": {
      "model_module": "jupyter-js-widgets",
      "model_module_version": "~2.1.4",
      "model_name": "LayoutModel",
      "state": {
       "_model_module_version": "~2.1.4",
       "_view_module_version": "~2.1.4"
      }
     },
     "0e71aeefe3a24f6b9e3c3604a3c905e0": {
      "model_module": "jupyter-js-widgets",
      "model_module_version": "~2.1.4",
      "model_name": "ButtonModel",
      "state": {
       "_model_module_version": "~2.1.4",
       "_view_module_version": "~2.1.4",
       "description": "Clear",
       "layout": "IPY_MODEL_0165ff3c756f49bc87a74238d9e8a0e0",
       "style": "IPY_MODEL_f7318002dec948a690ad58bf3e385a25"
      }
     },
     "0ea70eb5866a4a9e88d5d70048850a72": {
      "model_module": "jupyter-js-widgets",
      "model_module_version": "~2.1.4",
      "model_name": "OutputModel",
      "state": {
       "_dom_classes": [],
       "_model_module": "jupyter-js-widgets",
       "_model_module_version": "~2.1.4",
       "_view_module": "jupyter-js-widgets",
       "_view_module_version": "~2.1.4",
       "layout": "IPY_MODEL_f4568b09129b45cba45217f604f48a79",
       "msg_throttle": 1
      }
     },
     "0eb9094ebc824c9684b2b181d696ae22": {
      "model_module": "jupyter-js-widgets",
      "model_module_version": "~2.1.4",
      "model_name": "LayoutModel",
      "state": {
       "_model_module_version": "~2.1.4",
       "_view_module_version": "~2.1.4"
      }
     },
     "0ee331ee062d4dcd8ee314bfbc340ad7": {
      "model_module": "jupyter-js-widgets",
      "model_module_version": "~2.1.4",
      "model_name": "ImageModel",
      "state": {
       "_b64value": "iVBORw0KGgoAAAANSUhEUgAAADwAAAAoCAIAAAAt2Q6oAAAA3ElEQVR4nO2VvQrCMBSFvaWzu4/i4iQILoK4ufhqLk5WcBAVnRTsK7i41q2g7rkOQQm2YGn1aOB8Qzg35OcjXIhEx6TmG8GvBcpAaRSURkFpFJRGQWkUXkqHubPXeF1wf73Z+ZxMUcJ0vxAREbG1Dc/yLZfDygZVdUc3qKoxRlUb7b5dfN7O5IG97iVkHdwy/6W/RLKJjDEiEgSV2tLLnqY0CkqjoDQKSqPwUhr6jQ9HXRsm42WVcyS9nbKz8+mu4P7eoFXl+nLkS/85XvY0pVFQGgWlUVAaBaVR3AFO7DlvzXOI0QAAAABJRU5ErkJggg==",
       "_model_module_version": "~2.1.4",
       "_view_module_version": "~2.1.4",
       "layout": "IPY_MODEL_0f9c3a22d2af42c286f977ae4df0266b",
       "width": "240"
      }
     },
     "0eece61af07948918a58c2f06ecbdf23": {
      "model_module": "jupyter-js-widgets",
      "model_module_version": "~2.1.4",
      "model_name": "LayoutModel",
      "state": {
       "_model_module_version": "~2.1.4",
       "_view_module_version": "~2.1.4"
      }
     },
     "0f41f8abcac94c339cc3a1f109667d05": {
      "model_module": "jupyter-js-widgets",
      "model_module_version": "~2.1.4",
      "model_name": "LayoutModel",
      "state": {
       "_model_module_version": "~2.1.4",
       "_view_module_version": "~2.1.4"
      }
     },
     "0f588b9b794749519b092b9158fa2ffc": {
      "model_module": "jupyter-js-widgets",
      "model_module_version": "~2.1.4",
      "model_name": "VBoxModel",
      "state": {
       "_model_module_version": "~2.1.4",
       "_view_module_version": "~2.1.4",
       "children": [
        "IPY_MODEL_1a91555d063b43069d92b78a4e410ce9",
        "IPY_MODEL_2b14217eb1a343e8a50e56255909d34d",
        "IPY_MODEL_7dbc2baf7513460a9f3261e94c52f822"
       ],
       "layout": "IPY_MODEL_71c326fb383146318a7875fa61e387e4"
      }
     },
     "0f9c3a22d2af42c286f977ae4df0266b": {
      "model_module": "jupyter-js-widgets",
      "model_module_version": "~2.1.4",
      "model_name": "LayoutModel",
      "state": {
       "_model_module_version": "~2.1.4",
       "_view_module_version": "~2.1.4"
      }
     },
     "0f9dec481b2941e1a39bc69953ec2780": {
      "model_module": "jupyter-js-widgets",
      "model_module_version": "~2.1.4",
      "model_name": "VBoxModel",
      "state": {
       "_model_module_version": "~2.1.4",
       "_view_module_version": "~2.1.4",
       "children": [
        "IPY_MODEL_14e5acd11ea64da3a398d758ecd5db13",
        "IPY_MODEL_6a1e99cc676a424f97acdf037323b879"
       ],
       "layout": "IPY_MODEL_dfba746ba7654e278701df3d0f67f469"
      }
     },
     "0fb5edcca9b147ed8f88dd80425d3292": {
      "model_module": "jupyter-js-widgets",
      "model_module_version": "~2.1.4",
      "model_name": "LayoutModel",
      "state": {
       "_model_module_version": "~2.1.4",
       "_view_module_version": "~2.1.4"
      }
     },
     "10394100745043a891fda2e9955b36b0": {
      "model_module": "jupyter-js-widgets",
      "model_module_version": "~2.1.4",
      "model_name": "LayoutModel",
      "state": {
       "_model_module_version": "~2.1.4",
       "_view_module_version": "~2.1.4"
      }
     },
     "1085c31d5886451e88c0b997c3640345": {
      "model_module": "jupyter-js-widgets",
      "model_module_version": "~2.1.4",
      "model_name": "FloatSliderModel",
      "state": {
       "_model_module_version": "~2.1.4",
       "_view_module_version": "~2.1.4",
       "layout": "IPY_MODEL_ca9607b1e3f74bc095abac74583f5172",
       "orientation": "vertical",
       "readout": false,
       "step": 0.1,
       "value": 51.24999999999999
      }
     },
     "108796b1517c42b18b13db4f42908831": {
      "model_module": "jupyter-js-widgets",
      "model_module_version": "~2.1.4",
      "model_name": "HBoxModel",
      "state": {
       "_model_module_version": "~2.1.4",
       "_view_module_version": "~2.1.4",
       "children": [
        "IPY_MODEL_006d0f68e53b4cc4b52161a5aab698cd",
        "IPY_MODEL_80ce270704224b539a60880c11f34f9c"
       ],
       "layout": "IPY_MODEL_fadad7500026456295aeb283409fdb75"
      }
     },
     "10deef1a7cca4298b4d8d8f144048cab": {
      "model_module": "jupyter-js-widgets",
      "model_module_version": "~2.1.4",
      "model_name": "LayoutModel",
      "state": {
       "_model_module_version": "~2.1.4",
       "_view_module_version": "~2.1.4"
      }
     },
     "10e365b0f0a14c73a70f962137367a08": {
      "model_module": "jupyter-js-widgets",
      "model_module_version": "~2.1.4",
      "model_name": "LayoutModel",
      "state": {
       "_model_module_version": "~2.1.4",
       "_view_module_version": "~2.1.4"
      }
     },
     "110acdbc904b410089abea11ad38acd7": {
      "model_module": "jupyter-js-widgets",
      "model_module_version": "~2.1.4",
      "model_name": "LayoutModel",
      "state": {
       "_model_module_version": "~2.1.4",
       "_view_module_version": "~2.1.4",
       "height": "248px",
       "padding": "0px 0px 0px 0px",
       "width": "10px"
      }
     },
     "111ff6ea4ddd4171b8cb57bfab6a976c": {
      "model_module": "jupyter-js-widgets",
      "model_module_version": "~2.1.4",
      "model_name": "HBoxModel",
      "state": {
       "_model_module_version": "~2.1.4",
       "_view_module_version": "~2.1.4",
       "children": [
        "IPY_MODEL_424b3f42b9ae4f6fb493b59575e21c02",
        "IPY_MODEL_02173b5fe368463694f0ae05e162b09d"
       ],
       "layout": "IPY_MODEL_4487b1639e6149128ffb5b44bbd2f845"
      }
     },
     "1122d18483214faaa0b6128c52ecc705": {
      "model_module": "jupyter-js-widgets",
      "model_module_version": "~2.1.4",
      "model_name": "ButtonModel",
      "state": {
       "_model_module_version": "~2.1.4",
       "_view_module_version": "~2.1.4",
       "icon": "step-forward",
       "layout": "IPY_MODEL_f0d08a7d4efa4394a3350cc1b32a4fde",
       "style": "IPY_MODEL_88a6d68653074f5ea4f59f3b81158d56"
      }
     },
     "1129e2350935478cbf9fd7574a0ef86b": {
      "model_module": "jupyter-js-widgets",
      "model_module_version": "~2.1.4",
      "model_name": "LayoutModel",
      "state": {
       "_model_module_version": "~2.1.4",
       "_view_module_version": "~2.1.4"
      }
     },
     "1156954f91294ac3bf5240de29aa3384": {
      "model_module": "jupyter-js-widgets",
      "model_module_version": "~2.1.4",
      "model_name": "VBoxModel",
      "state": {
       "_model_module_version": "~2.1.4",
       "_view_module_version": "~2.1.4",
       "children": [
        "IPY_MODEL_7bb55c2b03c24dacaff8601f875a777f",
        "IPY_MODEL_0a4fd9ddd2694341bd906f8e4697782f",
        "IPY_MODEL_4b14fe1b8c1b498da6b2655ac8ca2a33"
       ],
       "layout": "IPY_MODEL_b7b09e50c20b462bb030191978149f8e"
      }
     },
     "11a256c276ae4bcfaea73e37d558f642": {
      "model_module": "jupyter-js-widgets",
      "model_module_version": "~2.1.4",
      "model_name": "LayoutModel",
      "state": {
       "_model_module_version": "~2.1.4",
       "_view_module_version": "~2.1.4"
      }
     },
     "11d259819ed0413dad9819e9189e71d2": {
      "model_module": "jupyter-js-widgets",
      "model_module_version": "~2.1.4",
      "model_name": "LayoutModel",
      "state": {
       "_model_module_version": "~2.1.4",
       "_view_module_version": "~2.1.4"
      }
     },
     "11f1384d6cd445b8b1ad48ed88678d0c": {
      "model_module": "jupyter-js-widgets",
      "model_module_version": "~2.1.4",
      "model_name": "LayoutModel",
      "state": {
       "_model_module_version": "~2.1.4",
       "_view_module_version": "~2.1.4"
      }
     },
     "1211105237f144d68120dc1f6ec0940c": {
      "model_module": "jupyter-js-widgets",
      "model_module_version": "~2.1.4",
      "model_name": "HTMLModel",
      "state": {
       "_model_module_version": "~2.1.4",
       "_view_module_version": "~2.1.4",
       "layout": "IPY_MODEL_68dc39e352734a14b80966529ad86b06",
       "value": "<svg baseProfile=\"full\" height=\"240\" version=\"1.1\" width=\"240\" xmlns=\"http://www.w3.org/2000/svg\" xmlns:ev=\"http://www.w3.org/2001/xml-events\" xmlns:xlink=\"http://www.w3.org/1999/xlink\"><defs /><rect fill=\"white\" height=\"240\" stroke=\"#000000\" stroke-width=\"1\" width=\"240\" x=\"0\" y=\"0\" /><rect fill=\"#eef3dd\" height=\"240.0\" stroke=\"#bebebe\" stroke-width=\"1\" width=\"240.0\" x=\"0.0\" y=\"0.0\" /><circle cx=\"120.0\" cy=\"195.0\" fill=\"#ffff00\" r=\"15.0\" stroke=\"#ffff00\" stroke-width=\"1\" /><line fill=\"#800080\" stroke=\"#add8e6\" stroke-width=\"1\" x1=\"199.5\" x2=\"0.0\" y1=\"114.0\" y2=\"114.0\" /><line fill=\"#800080\" stroke=\"#add8e6\" stroke-width=\"1\" x1=\"201.0\" x2=\"0.0\" y1=\"109.80000000000001\" y2=\"16.07215199999999\" /><line fill=\"#800080\" stroke=\"#add8e6\" stroke-width=\"1\" x1=\"203.4\" x2=\"112.77724019461742\" y1=\"107.99999999999999\" y2=\"0.0\" /><line fill=\"#800080\" stroke=\"#add8e6\" stroke-width=\"1\" x1=\"207.0\" x2=\"178.4634099424212\" y1=\"106.5\" y2=\"0.0\" /><line fill=\"#800080\" stroke=\"#add8e6\" stroke-width=\"1\" x1=\"213.0\" x2=\"240.0\" y1=\"106.5\" y2=\"5.734632000000062\" /><line fill=\"#800080\" stroke=\"#add8e6\" stroke-width=\"1\" x1=\"216.6\" x2=\"240.0\" y1=\"107.99999999999999\" y2=\"80.11296600000001\" /><line fill=\"#800080\" stroke=\"#add8e6\" stroke-width=\"1\" x1=\"219.0\" x2=\"240.0\" y1=\"109.80000000000001\" y2=\"100.007538\" /><line fill=\"#800080\" stroke=\"#add8e6\" stroke-width=\"1\" x1=\"220.5\" x2=\"240.0\" y1=\"114.0\" y2=\"114.0\" /><line fill=\"#800080\" stroke=\"#add8e6\" stroke-width=\"1\" x1=\"220.5\" x2=\"240.0\" y1=\"126.0\" y2=\"126.0\" /><line fill=\"#800080\" stroke=\"#add8e6\" stroke-width=\"1\" x1=\"219.0\" x2=\"240.0\" y1=\"130.2\" y2=\"139.992462\" /><line fill=\"#800080\" stroke=\"#add8e6\" stroke-width=\"1\" x1=\"216.6\" x2=\"240.0\" y1=\"132.0\" y2=\"159.88703399999997\" /><line fill=\"#800080\" stroke=\"#add8e6\" stroke-width=\"1\" x1=\"213.0\" x2=\"240.0\" y1=\"133.5\" y2=\"234.26536799999994\" /><line fill=\"#800080\" stroke=\"#add8e6\" stroke-width=\"1\" x1=\"207.0\" x2=\"178.4634099424212\" y1=\"133.5\" y2=\"240.0\" /><line fill=\"#800080\" stroke=\"#add8e6\" stroke-width=\"1\" x1=\"203.4\" x2=\"112.7772401946174\" y1=\"132.0\" y2=\"240.0\" /><line fill=\"#800080\" stroke=\"#add8e6\" stroke-width=\"1\" x1=\"201.0\" x2=\"0.0\" y1=\"130.2\" y2=\"223.927848\" /><line fill=\"#800080\" stroke=\"#add8e6\" stroke-width=\"1\" x1=\"199.5\" x2=\"0.0\" y1=\"126.0\" y2=\"126.0\" /><line fill=\"#800080\" stroke=\"#a020f0\" stroke-width=\"1\" x1=\"210.0\" x2=\"2.1539193796210117\" y1=\"120.0\" y2=\"0.0\" /><line fill=\"#800080\" stroke=\"#a020f0\" stroke-width=\"1\" x1=\"210.0\" x2=\"240.0\" y1=\"120.0\" y2=\"102.67948799999999\" /><line fill=\"#800080\" stroke=\"#ffa500\" stroke-width=\"1\" x1=\"120.0\" x2=\"199.5\" y1=\"195.0\" y2=\"106.5\" /><line fill=\"#800080\" stroke=\"#ffa500\" stroke-width=\"1\" x1=\"120.0\" x2=\"220.5\" y1=\"195.0\" y2=\"106.5\" /><polygon fill=\"red\" points=\"205.2,106.5 199.5,111.0 199.5,129.0 205.2,133.5 214.8,133.5 220.5,129.0 220.5,111.0 214.8,106.5\" stroke=\"red\" stroke-width=\"1\" /><polygon points=\"-3.0,-3.0 0,0 3.0,-3.0 0,3.0\" stroke=\"black\" stroke-width=\"1\" transform=\"translate(210.0,120.0) rotate(180.0)\" /><polygon fill=\"black\" points=\"213.6,111.6 213.6,116.39999999999999 206.4,116.39999999999999 206.4,111.6\" stroke=\"black\" stroke-width=\"1\" /><circle cx=\"199.5\" cy=\"106.5\" fill=\"yellow\" r=\"1.5\" stroke=\"orange\" stroke-width=\"1\" /><circle cx=\"220.5\" cy=\"106.5\" fill=\"yellow\" r=\"1.5\" stroke=\"orange\" stroke-width=\"1\" /></svg>"
      }
     },
     "123b6ed0a3884e0980c62ec35768b7f5": {
      "model_module": "jupyter-js-widgets",
      "model_module_version": "~2.1.4",
      "model_name": "LayoutModel",
      "state": {
       "_model_module_version": "~2.1.4",
       "_view_module_version": "~2.1.4",
       "height": "248px",
       "padding": "0px 0px 0px 0px",
       "width": "10px"
      }
     },
     "1269e8a34db14d4ca2e4d6c13bf08cbc": {
      "model_module": "jupyter-js-widgets",
      "model_module_version": "~2.1.4",
      "model_name": "ImageModel",
      "state": {
       "_b64value": "iVBORw0KGgoAAAANSUhEUgAAADwAAAAoCAIAAAAt2Q6oAAACLUlEQVR4nO3TO4saURQH8HPH0W/jJ/D9QkEEm8W3K4qICIJgYWFhaxEW8hVS21imt7AQBEFENorvBzJBIoLiI8Xs7Hg3znWSzV4TmH91jv48/kEHVSoVwFKr1QAAisUi9rL6++evTS1O6/U6AEChULhFG40GP+Tz+Ru02WzyQy6Xk6BIKN1qtfg3s9nsjbPtdpsfMpnMDdrpdPghnU6TabfbFcZUKkWkz6hcLr/MyWSSaHu9njAmEgki7ff7whiPx4l0MBgIYywWI9LhcMgP6OmJe3wk2tFoJIzRaJRIx+OxMEYiESKdTCbCGA6HSXQ6nYpLKBQCQBzHybWSZ2ezmbgEg0ECnc/n4hIIBP6Ioh/fSrhdLBbi4vf7CWc/hi6XS3Hx+Xy/0tcHUYb9jbMfS1lZViv/LA3KLu/WQM4/5oWuVisAAGAYBuDh4fVBhCs/2Hq9Fhev13vtLJ/NZnPxOfB4PJJ0u91eUrfbLUl3u90ldblc/IA4jntr9/v9pXU6nZJnD4fDJXU4HFL0eDwCFrvdLkFPpxNObTYbRsUHEc7nM26tVqtU2bexWCwSFCGEU7PZLEEZhsGpyWS6Slm5VgsAoFKpcGo0Gt9PWZbFqcFgIFKWZRm5VtZZtVqNU71e/7cpqlarVy0AAGg0GvysTqe7oJ++wF2CSqXSfb75HWFuk38vSmlaUUrTilKaVpTStKKUphWlNK0opWlFKU0rSmlaUUrTilKaVv7L0j8Bd9OWh7dyoqoAAAAASUVORK5CYII=",
       "_model_module_version": "~2.1.4",
       "_view_module_version": "~2.1.4",
       "layout": "IPY_MODEL_4e65a6b1c54f4464a72b577758d726d9",
       "width": "240"
      }
     },
     "12a8e37d1703434d83145604f4d8edc4": {
      "model_module": "jupyter-js-widgets",
      "model_module_version": "~2.1.4",
      "model_name": "VBoxModel",
      "state": {
       "_model_module_version": "~2.1.4",
       "_view_module_version": "~2.1.4",
       "children": [
        "IPY_MODEL_2c6bc4bed8a147a38a9275a7deae68fe",
        "IPY_MODEL_b08d45d80cd24812b88a1b4fe2099e92"
       ],
       "layout": "IPY_MODEL_359839063b1b457ba430d0f818b25426"
      }
     },
     "12dc24a5bafb489788fa19fa21655f45": {
      "model_module": "jupyter-js-widgets",
      "model_module_version": "~2.1.4",
      "model_name": "FloatSliderModel",
      "state": {
       "_model_module_version": "~2.1.4",
       "_view_module_version": "~2.1.4",
       "layout": "IPY_MODEL_ef17cefd287841fb9165222b3b04367b",
       "orientation": "vertical",
       "readout": false,
       "step": 0.1,
       "value": 51.24999999999999
      }
     },
     "12ec20de1c9c4c9e8c20943ca1dcf544": {
      "model_module": "jupyter-js-widgets",
      "model_module_version": "~2.1.4",
      "model_name": "OutputModel",
      "state": {
       "_dom_classes": [],
       "_model_module": "jupyter-js-widgets",
       "_model_module_version": "~2.1.4",
       "_view_module": "jupyter-js-widgets",
       "_view_module_version": "~2.1.4",
       "layout": "IPY_MODEL_7aed2d5c295b492d8fbc0c4780393f87",
       "msg_throttle": 1
      }
     },
     "132198293fda4a87b4b54e085a843ae9": {
      "model_module": "jupyter-js-widgets",
      "model_module_version": "~2.1.4",
      "model_name": "LayoutModel",
      "state": {
       "_model_module_version": "~2.1.4",
       "_view_module_version": "~2.1.4"
      }
     },
     "134af1daccfd4913bf1d4d50fb17f4ff": {
      "model_module": "jupyter-js-widgets",
      "model_module_version": "~2.1.4",
      "model_name": "LayoutModel",
      "state": {
       "_model_module_version": "~2.1.4",
       "_view_module_version": "~2.1.4",
       "height": "20px",
       "padding": "0px 0px 0px 0px",
       "width": "248px"
      }
     },
     "13574268256145ce875007543ea85824": {
      "model_module": "jupyter-js-widgets",
      "model_module_version": "~2.1.4",
      "model_name": "LayoutModel",
      "state": {
       "_model_module_version": "~2.1.4",
       "_view_module_version": "~2.1.4"
      }
     },
     "135969b38e2f445fa734712a7994f4ec": {
      "model_module": "jupyter-js-widgets",
      "model_module_version": "~2.1.4",
      "model_name": "FloatSliderModel",
      "state": {
       "_model_module_version": "~2.1.4",
       "_view_module_version": "~2.1.4",
       "layout": "IPY_MODEL_1ebd2e2eba2442a4aff597b6a5f0e1c0",
       "readout": false,
       "step": 0.1,
       "value": 87.5
      }
     },
     "137745517f06471da05f4803de8e9b7b": {
      "model_module": "jupyter-js-widgets",
      "model_module_version": "~2.1.4",
      "model_name": "LayoutModel",
      "state": {
       "_model_module_version": "~2.1.4",
       "_view_module_version": "~2.1.4"
      }
     },
     "13a4550a97c3410fb4798082a9cac3ef": {
      "model_module": "jupyter-js-widgets",
      "model_module_version": "~2.1.4",
      "model_name": "ButtonModel",
      "state": {
       "_model_module_version": "~2.1.4",
       "_view_module_version": "~2.1.4",
       "description": "Clear",
       "layout": "IPY_MODEL_1a78124cf1594ef4bf49fed572e85ed0",
       "style": "IPY_MODEL_0a67f36d5512426a806de2995874d16e"
      }
     },
     "13bd1be6471748f1bd6b0d254226d9b9": {
      "model_module": "jupyter-js-widgets",
      "model_module_version": "~2.1.4",
      "model_name": "LayoutModel",
      "state": {
       "_model_module_version": "~2.1.4",
       "_view_module_version": "~2.1.4"
      }
     },
     "13cd29f07da54ab9accadfdde019135a": {
      "model_module": "jupyter-js-widgets",
      "model_module_version": "~2.1.4",
      "model_name": "VBoxModel",
      "state": {
       "_model_module_version": "~2.1.4",
       "_view_module_version": "~2.1.4",
       "children": [
        "IPY_MODEL_d1c25ba74b42411cbc5791fe00acd7d0",
        "IPY_MODEL_99604a8540c746d6993798ca63b79bb0"
       ],
       "layout": "IPY_MODEL_8a8e852a04194aec852f3e101a7434fe"
      }
     },
     "13eedb7a267046c1be8e9323d5098838": {
      "model_module": "jupyter-js-widgets",
      "model_module_version": "~2.1.4",
      "model_name": "LayoutModel",
      "state": {
       "_model_module_version": "~2.1.4",
       "_view_module_version": "~2.1.4"
      }
     },
     "1405186aae844e54997ec871b26066fb": {
      "model_module": "jupyter-js-widgets",
      "model_module_version": "~2.1.4",
      "model_name": "LayoutModel",
      "state": {
       "_model_module_version": "~2.1.4",
       "_view_module_version": "~2.1.4"
      }
     },
     "1461bb3c61e04b0e80686df21160c266": {
      "model_module": "jupyter-js-widgets",
      "model_module_version": "~2.1.4",
      "model_name": "HBoxModel",
      "state": {
       "_model_module_version": "~2.1.4",
       "_view_module_version": "~2.1.4",
       "children": [
        "IPY_MODEL_f046436de8bc49dab640d3454a646314",
        "IPY_MODEL_f5647ecd111b43788c1b9970544e3fa0"
       ],
       "layout": "IPY_MODEL_7a716e013af24ce2a8631d261aabae05"
      }
     },
     "14a3207b66d0484a86a8a0aeafda27c4": {
      "model_module": "jupyter-js-widgets",
      "model_module_version": "~2.1.4",
      "model_name": "HBoxModel",
      "state": {
       "_model_module_version": "~2.1.4",
       "_view_module_version": "~2.1.4",
       "children": [
        "IPY_MODEL_b7b37a156ed64402b9988dbb517ea780",
        "IPY_MODEL_6dcf6dedf76a4251976511f693999fb8",
        "IPY_MODEL_27fca6ac62d64b6e82a1691351779565"
       ],
       "layout": "IPY_MODEL_7a2e082ddc2942faa39dc1e0d873a858"
      }
     },
     "14a616d0857f44988461367dfb0f4a31": {
      "model_module": "jupyter-js-widgets",
      "model_module_version": "~2.1.4",
      "model_name": "ButtonStyleModel",
      "state": {
       "_model_module_version": "~2.1.4",
       "_view_module_version": "~2.1.4"
      }
     },
     "14e5acd11ea64da3a398d758ecd5db13": {
      "model_module": "jupyter-js-widgets",
      "model_module_version": "~2.1.4",
      "model_name": "HBoxModel",
      "state": {
       "_model_module_version": "~2.1.4",
       "_view_module_version": "~2.1.4",
       "children": [
        "IPY_MODEL_00975b64209a485a9a04fb4b21df62b4",
        "IPY_MODEL_eb084dadac63450fb0d954cb0aaa9245"
       ],
       "layout": "IPY_MODEL_d4d16f3c8b35428584467e3a79746828"
      }
     },
     "150af23f79364243b9d3a72afe24f0ca": {
      "model_module": "jupyter-js-widgets",
      "model_module_version": "~2.1.4",
      "model_name": "OutputModel",
      "state": {
       "_dom_classes": [],
       "_model_module": "jupyter-js-widgets",
       "_model_module_version": "~2.1.4",
       "_view_module": "jupyter-js-widgets",
       "_view_module_version": "~2.1.4",
       "layout": "IPY_MODEL_20786895f8cb4c7fbcb7549872e2f113",
       "msg_throttle": 1
      }
     },
     "1510f629f9aa4d65b642284ae79d349a": {
      "model_module": "jupyter-js-widgets",
      "model_module_version": "~2.1.4",
      "model_name": "ImageModel",
      "state": {
       "_b64value": "iVBORw0KGgoAAAANSUhEUgAAADwAAAAoCAIAAAAt2Q6oAAAA8UlEQVR4nO3WoQ7CMBCA4d5d++gYggJDwMwgEJshATHkEIRgUCCwkxiwZAhGMxq2bIRcaXKfWOb655b0BvExV6FB3wHfkGguEs1ForlINBeJ5qJ9B5TuhwzeKaWqz+qLt+jbNkVEIgIARLRBbXSOztPYDqBuEg2KokBEYwwRdT3a+hx9SiJ8sZOofji/yuhdNCQirTURPVv9ZjXTm8kAAIwxvks6+OuJ1pFoLhLNJchouFzPSql+b+rc0w3L5Vcb0Vnj7f89ymjHeDQPL7rBLFqGF/0riyQLL9qxXu3Di+4kyCtPorlINBeJ5iLRXIKMfgDJGDkVat0rzwAAAABJRU5ErkJggg==",
       "_model_module_version": "~2.1.4",
       "_view_module_version": "~2.1.4",
       "layout": "IPY_MODEL_2bcb1c285f4a484f8ce63b7dfde876f2",
       "width": "240"
      }
     },
     "152a104c10ad4f8381ac2bd669ae4b70": {
      "model_module": "jupyter-js-widgets",
      "model_module_version": "~2.1.4",
      "model_name": "PlayModel",
      "state": {
       "_model_module_version": "~2.1.4",
       "_view_module_version": "~2.1.4",
       "layout": "IPY_MODEL_db3c54b1609a4af39af677dd25f16b80",
       "max": 1000000
      }
     },
     "156f7e169f644bfba5d214277be356bd": {
      "model_module": "jupyter-js-widgets",
      "model_module_version": "~2.1.4",
      "model_name": "LayoutModel",
      "state": {
       "_model_module_version": "~2.1.4",
       "_view_module_version": "~2.1.4"
      }
     },
     "159e073576de48d5a6eecffc109a0eeb": {
      "model_module": "jupyter-js-widgets",
      "model_module_version": "~2.1.4",
      "model_name": "LayoutModel",
      "state": {
       "_model_module_version": "~2.1.4",
       "_view_module_version": "~2.1.4"
      }
     },
     "15add9842fa34b6aa3bdaf06a02d4cae": {
      "model_module": "jupyter-js-widgets",
      "model_module_version": "~2.1.4",
      "model_name": "PlayModel",
      "state": {
       "_model_module_version": "~2.1.4",
       "_view_module_version": "~2.1.4",
       "layout": "IPY_MODEL_646c883d7fa541919090cfff18206798",
       "max": 1000000
      }
     },
     "15b6863bc87245cd8a1f9aee7a043e82": {
      "model_module": "jupyter-js-widgets",
      "model_module_version": "~2.1.4",
      "model_name": "LayoutModel",
      "state": {
       "_model_module_version": "~2.1.4",
       "_view_module_version": "~2.1.4"
      }
     },
     "15cd770267074c0aa8ffcfbed76d72b0": {
      "model_module": "jupyter-js-widgets",
      "model_module_version": "~2.1.4",
      "model_name": "LayoutModel",
      "state": {
       "_model_module_version": "~2.1.4",
       "_view_module_version": "~2.1.4"
      }
     },
     "15fcb599fb1f41d49342fcd07443d877": {
      "model_module": "jupyter-js-widgets",
      "model_module_version": "~2.1.4",
      "model_name": "HBoxModel",
      "state": {
       "_model_module_version": "~2.1.4",
       "_view_module_version": "~2.1.4",
       "children": [
        "IPY_MODEL_212007575e3942aead8e83e67d8e4499",
        "IPY_MODEL_f417c658eab44a639ebe57f5666a9dd4"
       ],
       "layout": "IPY_MODEL_d820719b314e4b7485fe820414a1a086"
      }
     },
     "168271c762f346f883de35424656a26d": {
      "model_module": "jupyter-js-widgets",
      "model_module_version": "~2.1.4",
      "model_name": "LayoutModel",
      "state": {
       "_model_module_version": "~2.1.4",
       "_view_module_version": "~2.1.4"
      }
     },
     "16a250876d694afdb97bd0bc2c31cad0": {
      "model_module": "jupyter-js-widgets",
      "model_module_version": "~2.1.4",
      "model_name": "HBoxModel",
      "state": {
       "_model_module_version": "~2.1.4",
       "_view_module_version": "~2.1.4",
       "children": [
        "IPY_MODEL_520385209b0e4f3693647a145ed69e78",
        "IPY_MODEL_a56282676d6d4f49a2f75d8351396314",
        "IPY_MODEL_999474e1fa3548deab00a77850e912c6"
       ],
       "layout": "IPY_MODEL_e0d0536643c34907bac140113d6c9cb9"
      }
     },
     "16a96086d2ad40c6ad1464fa200ab2a6": {
      "model_module": "jupyter-js-widgets",
      "model_module_version": "~2.1.4",
      "model_name": "LayoutModel",
      "state": {
       "_model_module_version": "~2.1.4",
       "_view_module_version": "~2.1.4",
       "height": "248px",
       "padding": "0px 0px 0px 0px",
       "width": "10px"
      }
     },
     "16ae8bbeca13415d9dc1ed2b732a4a99": {
      "model_module": "jupyter-js-widgets",
      "model_module_version": "~2.1.4",
      "model_name": "HBoxModel",
      "state": {
       "_model_module_version": "~2.1.4",
       "_view_module_version": "~2.1.4",
       "children": [
        "IPY_MODEL_4320d1a3532f48e6a4e30a1b2f255ae1",
        "IPY_MODEL_3df49555401a40919d02f3d4b3493fd8"
       ],
       "layout": "IPY_MODEL_2b62384830bd4820aabd5dd1dde43050"
      }
     },
     "16bf16c9893544f8a225e47bb1fc10a8": {
      "model_module": "jupyter-js-widgets",
      "model_module_version": "~2.1.4",
      "model_name": "LayoutModel",
      "state": {
       "_model_module_version": "~2.1.4",
       "_view_module_version": "~2.1.4"
      }
     },
     "16eef94bca7248babd9ba44c24debc80": {
      "model_module": "jupyter-js-widgets",
      "model_module_version": "~2.1.4",
      "model_name": "ButtonModel",
      "state": {
       "_model_module_version": "~2.1.4",
       "_view_module_version": "~2.1.4",
       "icon": "step-forward",
       "layout": "IPY_MODEL_92561f19cd884279ba68a860445abab4",
       "style": "IPY_MODEL_a1201191c4eb4948bad6cd6a063cdb87"
      }
     },
     "1776df07fd174fea8ab39ec5b4dff5ce": {
      "model_module": "jupyter-js-widgets",
      "model_module_version": "~2.1.4",
      "model_name": "LayoutModel",
      "state": {
       "_model_module_version": "~2.1.4",
       "_view_module_version": "~2.1.4"
      }
     },
     "17a15bb560854f1d994b8492990c3dd7": {
      "model_module": "jupyter-js-widgets",
      "model_module_version": "~2.1.4",
      "model_name": "HBoxModel",
      "state": {
       "_model_module_version": "~2.1.4",
       "_view_module_version": "~2.1.4",
       "children": [
        "IPY_MODEL_eb69a3eac27f4eb581925ed552a54bd5",
        "IPY_MODEL_f944a643e06b4c298a1949335380f268",
        "IPY_MODEL_53f764c4c6134433a1d28e83e7d125fc"
       ],
       "layout": "IPY_MODEL_a290d5f7e98d49cf990f64ebe44e5325"
      }
     },
     "17a7e05b049247f8a04e3f0c3e4a85b4": {
      "model_module": "jupyter-js-widgets",
      "model_module_version": "~2.1.4",
      "model_name": "LayoutModel",
      "state": {
       "_model_module_version": "~2.1.4",
       "_view_module_version": "~2.1.4"
      }
     },
     "17b23753c2a740a19859e2ab610cbf31": {
      "model_module": "jupyter-js-widgets",
      "model_module_version": "~2.1.4",
      "model_name": "ButtonStyleModel",
      "state": {
       "_model_module_version": "~2.1.4",
       "_view_module_version": "~2.1.4"
      }
     },
     "17b63b188abf4be09118722026325543": {
      "model_module": "jupyter-js-widgets",
      "model_module_version": "~2.1.4",
      "model_name": "LayoutModel",
      "state": {
       "_model_module_version": "~2.1.4",
       "_view_module_version": "~2.1.4"
      }
     },
     "17e21bc4b4be46189e777755994ad25e": {
      "model_module": "jupyter-js-widgets",
      "model_module_version": "~2.1.4",
      "model_name": "LayoutModel",
      "state": {
       "_model_module_version": "~2.1.4",
       "_view_module_version": "~2.1.4"
      }
     },
     "181046fac4e7417aadeff5bbed05f2ad": {
      "model_module": "jupyter-js-widgets",
      "model_module_version": "~2.1.4",
      "model_name": "HTMLModel",
      "state": {
       "_model_module_version": "~2.1.4",
       "_view_module_version": "~2.1.4",
       "layout": "IPY_MODEL_0aad9ef5540b489c8e8fd0a3bd7104cc",
       "value": "<svg baseProfile=\"full\" height=\"240\" version=\"1.1\" width=\"240\" xmlns=\"http://www.w3.org/2000/svg\" xmlns:ev=\"http://www.w3.org/2001/xml-events\" xmlns:xlink=\"http://www.w3.org/1999/xlink\"><defs /><rect fill=\"white\" height=\"240\" stroke=\"#000000\" stroke-width=\"1\" width=\"240\" x=\"0\" y=\"0\" /><rect fill=\"#eef3dd\" height=\"240.0\" stroke=\"#bebebe\" stroke-width=\"1\" width=\"240.0\" x=\"0.0\" y=\"0.0\" /><circle cx=\"120.0\" cy=\"195.0\" fill=\"#ffff00\" r=\"15.0\" stroke=\"#ffff00\" stroke-width=\"1\" /><line fill=\"#800080\" stroke=\"#add8e6\" stroke-width=\"1\" x1=\"199.5\" x2=\"0.0\" y1=\"114.0\" y2=\"114.0\" /><line fill=\"#800080\" stroke=\"#add8e6\" stroke-width=\"1\" x1=\"201.0\" x2=\"0.0\" y1=\"109.80000000000001\" y2=\"16.07215199999999\" /><line fill=\"#800080\" stroke=\"#add8e6\" stroke-width=\"1\" x1=\"203.4\" x2=\"112.77724019461742\" y1=\"107.99999999999999\" y2=\"0.0\" /><line fill=\"#800080\" stroke=\"#add8e6\" stroke-width=\"1\" x1=\"207.0\" x2=\"178.4634099424212\" y1=\"106.5\" y2=\"0.0\" /><line fill=\"#800080\" stroke=\"#add8e6\" stroke-width=\"1\" x1=\"213.0\" x2=\"240.0\" y1=\"106.5\" y2=\"5.734632000000062\" /><line fill=\"#800080\" stroke=\"#add8e6\" stroke-width=\"1\" x1=\"216.6\" x2=\"240.0\" y1=\"107.99999999999999\" y2=\"80.11296600000001\" /><line fill=\"#800080\" stroke=\"#add8e6\" stroke-width=\"1\" x1=\"219.0\" x2=\"240.0\" y1=\"109.80000000000001\" y2=\"100.007538\" /><line fill=\"#800080\" stroke=\"#add8e6\" stroke-width=\"1\" x1=\"220.5\" x2=\"240.0\" y1=\"114.0\" y2=\"114.0\" /><line fill=\"#800080\" stroke=\"#add8e6\" stroke-width=\"1\" x1=\"220.5\" x2=\"240.0\" y1=\"126.0\" y2=\"126.0\" /><line fill=\"#800080\" stroke=\"#add8e6\" stroke-width=\"1\" x1=\"219.0\" x2=\"240.0\" y1=\"130.2\" y2=\"139.992462\" /><line fill=\"#800080\" stroke=\"#add8e6\" stroke-width=\"1\" x1=\"216.6\" x2=\"240.0\" y1=\"132.0\" y2=\"159.88703399999997\" /><line fill=\"#800080\" stroke=\"#add8e6\" stroke-width=\"1\" x1=\"213.0\" x2=\"240.0\" y1=\"133.5\" y2=\"234.26536799999994\" /><line fill=\"#800080\" stroke=\"#add8e6\" stroke-width=\"1\" x1=\"207.0\" x2=\"178.4634099424212\" y1=\"133.5\" y2=\"240.0\" /><line fill=\"#800080\" stroke=\"#add8e6\" stroke-width=\"1\" x1=\"203.4\" x2=\"112.7772401946174\" y1=\"132.0\" y2=\"240.0\" /><line fill=\"#800080\" stroke=\"#add8e6\" stroke-width=\"1\" x1=\"201.0\" x2=\"0.0\" y1=\"130.2\" y2=\"223.927848\" /><line fill=\"#800080\" stroke=\"#add8e6\" stroke-width=\"1\" x1=\"199.5\" x2=\"0.0\" y1=\"126.0\" y2=\"126.0\" /><line fill=\"#800080\" stroke=\"#a020f0\" stroke-width=\"1\" x1=\"210.0\" x2=\"2.1539193796210117\" y1=\"120.0\" y2=\"0.0\" /><line fill=\"#800080\" stroke=\"#a020f0\" stroke-width=\"1\" x1=\"210.0\" x2=\"240.0\" y1=\"120.0\" y2=\"102.67948799999999\" /><line fill=\"#800080\" stroke=\"#ffa500\" stroke-width=\"1\" x1=\"120.0\" x2=\"199.5\" y1=\"195.0\" y2=\"106.5\" /><line fill=\"#800080\" stroke=\"#ffa500\" stroke-width=\"1\" x1=\"120.0\" x2=\"220.5\" y1=\"195.0\" y2=\"106.5\" /><polygon fill=\"red\" points=\"205.2,106.5 199.5,111.0 199.5,129.0 205.2,133.5 214.8,133.5 220.5,129.0 220.5,111.0 214.8,106.5\" stroke=\"red\" stroke-width=\"1\" /><polygon points=\"-3.0,-3.0 0,0 3.0,-3.0 0,3.0\" stroke=\"black\" stroke-width=\"1\" transform=\"translate(210.0,120.0) rotate(180.0)\" /><polygon fill=\"black\" points=\"213.6,111.6 213.6,116.39999999999999 206.4,116.39999999999999 206.4,111.6\" stroke=\"black\" stroke-width=\"1\" /><circle cx=\"199.5\" cy=\"106.5\" fill=\"yellow\" r=\"1.5\" stroke=\"orange\" stroke-width=\"1\" /><circle cx=\"220.5\" cy=\"106.5\" fill=\"yellow\" r=\"1.5\" stroke=\"orange\" stroke-width=\"1\" /></svg>"
      }
     },
     "184479bae21a4ae989de8fa664e94996": {
      "model_module": "jupyter-js-widgets",
      "model_module_version": "~2.1.4",
      "model_name": "LayoutModel",
      "state": {
       "_model_module_version": "~2.1.4",
       "_view_module_version": "~2.1.4"
      }
     },
     "185ad5f2bd084c219b076f66a5baec08": {
      "model_module": "jupyter-js-widgets",
      "model_module_version": "~2.1.4",
      "model_name": "ButtonModel",
      "state": {
       "_model_module_version": "~2.1.4",
       "_view_module_version": "~2.1.4",
       "icon": "step-forward",
       "layout": "IPY_MODEL_5d138e220cd74364a2d54a4382f5acb3",
       "style": "IPY_MODEL_a5f1825131de495ba7d75ee58b233b43"
      }
     },
     "186396cc9552439c8128cc36b03a4748": {
      "model_module": "jupyter-js-widgets",
      "model_module_version": "~2.1.4",
      "model_name": "LayoutModel",
      "state": {
       "_model_module_version": "~2.1.4",
       "_view_module_version": "~2.1.4",
       "height": "248px",
       "padding": "0px 0px 0px 0px",
       "width": "10px"
      }
     },
     "18cb76def11644f9818d71004c7d97b9": {
      "model_module": "jupyter-js-widgets",
      "model_module_version": "~2.1.4",
      "model_name": "LayoutModel",
      "state": {
       "_model_module_version": "~2.1.4",
       "_view_module_version": "~2.1.4"
      }
     },
     "19023f0ace0642f7bb1ae920d107fb4c": {
      "model_module": "jupyter-js-widgets",
      "model_module_version": "~2.1.4",
      "model_name": "FloatSliderModel",
      "state": {
       "_model_module_version": "~2.1.4",
       "_view_module_version": "~2.1.4",
       "layout": "IPY_MODEL_c3ff1b99c9c141a4817f04de36081a42",
       "readout": false,
       "step": 0.1,
       "value": 100
      }
     },
     "19846f44652a4e6b932083a219e7f983": {
      "model_module": "jupyter-js-widgets",
      "model_module_version": "~2.1.4",
      "model_name": "LayoutModel",
      "state": {
       "_model_module_version": "~2.1.4",
       "_view_module_version": "~2.1.4",
       "height": "30px",
       "padding": "0px 0px 0px 10px",
       "width": "260px"
      }
     },
     "19b474597d1f4fcca0469c910236b7ad": {
      "model_module": "jupyter-js-widgets",
      "model_module_version": "~2.1.4",
      "model_name": "LayoutModel",
      "state": {
       "_model_module_version": "~2.1.4",
       "_view_module_version": "~2.1.4"
      }
     },
     "19ed7e34ac6a4d2dbd3f0c87c4f66782": {
      "model_module": "jupyter-js-widgets",
      "model_module_version": "~2.1.4",
      "model_name": "LayoutModel",
      "state": {
       "_model_module_version": "~2.1.4",
       "_view_module_version": "~2.1.4"
      }
     },
     "1a041a1053df44edb5c598c9be925399": {
      "model_module": "jupyter-js-widgets",
      "model_module_version": "~2.1.4",
      "model_name": "LayoutModel",
      "state": {
       "_model_module_version": "~2.1.4",
       "_view_module_version": "~2.1.4"
      }
     },
     "1a139cf0bf344059b2041b0e7403ca95": {
      "model_module": "jupyter-js-widgets",
      "model_module_version": "~2.1.4",
      "model_name": "VBoxModel",
      "state": {
       "_model_module_version": "~2.1.4",
       "_view_module_version": "~2.1.4",
       "children": [
        "IPY_MODEL_75874788f0d54b53ae3773c5aa2d6d30",
        "IPY_MODEL_c2b5dbe5fba8483ca70bf20cde3ab14a"
       ],
       "layout": "IPY_MODEL_ff8ae1f9790f4af396afc3e0a3a052fa"
      }
     },
     "1a2fc896d2574da485107d6da31f0c50": {
      "model_module": "jupyter-js-widgets",
      "model_module_version": "~2.1.4",
      "model_name": "LayoutModel",
      "state": {
       "_model_module_version": "~2.1.4",
       "_view_module_version": "~2.1.4"
      }
     },
     "1a78124cf1594ef4bf49fed572e85ed0": {
      "model_module": "jupyter-js-widgets",
      "model_module_version": "~2.1.4",
      "model_name": "LayoutModel",
      "state": {
       "_model_module_version": "~2.1.4",
       "_view_module_version": "~2.1.4"
      }
     },
     "1a91555d063b43069d92b78a4e410ce9": {
      "model_module": "jupyter-js-widgets",
      "model_module_version": "~2.1.4",
      "model_name": "VBoxModel",
      "state": {
       "_model_module_version": "~2.1.4",
       "_view_module_version": "~2.1.4",
       "children": [
        "IPY_MODEL_eff1646953f34d4cb93d2ba23bb3d6a1",
        "IPY_MODEL_9d0aad16b6fc4717b84e07d5f0b07189"
       ],
       "layout": "IPY_MODEL_c349379e324a4ee3a3a8c16052b4b420"
      }
     },
     "1a9225214f3b4ec7995771ca7cda1606": {
      "model_module": "jupyter-js-widgets",
      "model_module_version": "~2.1.4",
      "model_name": "ButtonModel",
      "state": {
       "_model_module_version": "~2.1.4",
       "_view_module_version": "~2.1.4",
       "icon": "step-forward",
       "layout": "IPY_MODEL_759c1432dde3413b9d5e7f1a86b69bc9",
       "style": "IPY_MODEL_1b7ff0dfecd847048654f4e3f691f70e"
      }
     },
     "1ab384cf9f4e441a99da558cf0cb4fc9": {
      "model_module": "jupyter-js-widgets",
      "model_module_version": "~2.1.4",
      "model_name": "HBoxModel",
      "state": {
       "_model_module_version": "~2.1.4",
       "_view_module_version": "~2.1.4",
       "children": [
        "IPY_MODEL_960e7efc06cf49a3ba2eef531be5b268",
        "IPY_MODEL_d839b24e151b4b838bf139c5df8bc28e"
       ],
       "layout": "IPY_MODEL_be9810b7a91449e0a6258b1e5b0f4517"
      }
     },
     "1ae10141691a4011888204e815df3955": {
      "model_module": "jupyter-js-widgets",
      "model_module_version": "~2.1.4",
      "model_name": "VBoxModel",
      "state": {
       "_model_module_version": "~2.1.4",
       "_view_module_version": "~2.1.4",
       "children": [
        "IPY_MODEL_1269e8a34db14d4ca2e4d6c13bf08cbc",
        "IPY_MODEL_7f741a29e15747a9a6f184329b9cd063"
       ],
       "layout": "IPY_MODEL_02527cf6fa674b4aa8f5a1a0646c8dc3"
      }
     },
     "1aee76de874042df85875fe7f685c3a8": {
      "model_module": "jupyter-js-widgets",
      "model_module_version": "~2.1.4",
      "model_name": "LayoutModel",
      "state": {
       "_model_module_version": "~2.1.4",
       "_view_module_version": "~2.1.4"
      }
     },
     "1b50b03a779c4ef5ada87e89085e1a62": {
      "model_module": "jupyter-js-widgets",
      "model_module_version": "~2.1.4",
      "model_name": "LayoutModel",
      "state": {
       "_model_module_version": "~2.1.4",
       "_view_module_version": "~2.1.4"
      }
     },
     "1b7ff0dfecd847048654f4e3f691f70e": {
      "model_module": "jupyter-js-widgets",
      "model_module_version": "~2.1.4",
      "model_name": "ButtonStyleModel",
      "state": {
       "_model_module_version": "~2.1.4",
       "_view_module_version": "~2.1.4"
      }
     },
     "1b9c50baeb5f459a81a08545b74a8e7f": {
      "model_module": "jupyter-js-widgets",
      "model_module_version": "~2.1.4",
      "model_name": "LayoutModel",
      "state": {
       "_model_module_version": "~2.1.4",
       "_view_module_version": "~2.1.4"
      }
     },
     "1bbe50b01f2b46bdaad5c65ead13ad86": {
      "model_module": "jupyter-js-widgets",
      "model_module_version": "~2.1.4",
      "model_name": "ButtonModel",
      "state": {
       "_model_module_version": "~2.1.4",
       "_view_module_version": "~2.1.4",
       "description": "Clear",
       "layout": "IPY_MODEL_1c4d26965c464155ba157b723577bef4",
       "style": "IPY_MODEL_8fb7da5f58c34eb89c83dce5cceb7cd0"
      }
     },
     "1c4d26965c464155ba157b723577bef4": {
      "model_module": "jupyter-js-widgets",
      "model_module_version": "~2.1.4",
      "model_name": "LayoutModel",
      "state": {
       "_model_module_version": "~2.1.4",
       "_view_module_version": "~2.1.4"
      }
     },
     "1d9ff5c3d62a47c0907696f548f3595e": {
      "model_module": "jupyter-js-widgets",
      "model_module_version": "~2.1.4",
      "model_name": "ButtonModel",
      "state": {
       "_model_module_version": "~2.1.4",
       "_view_module_version": "~2.1.4",
       "description": "Clear",
       "layout": "IPY_MODEL_159e073576de48d5a6eecffc109a0eeb",
       "style": "IPY_MODEL_e4dde29e806f459bb25b4ab2d6782031"
      }
     },
     "1dad610463664b3491edc3f7ab7e4414": {
      "model_module": "jupyter-js-widgets",
      "model_module_version": "~2.1.4",
      "model_name": "FloatSliderModel",
      "state": {
       "_model_module_version": "~2.1.4",
       "_view_module_version": "~2.1.4",
       "layout": "IPY_MODEL_6d26e077d1f945479b06aabaf3d03d88",
       "orientation": "vertical",
       "readout": false,
       "step": 0.1,
       "value": 50
      }
     },
     "1db4a659216f447995f1ce6e567f6c92": {
      "model_module": "jupyter-js-widgets",
      "model_module_version": "~2.1.4",
      "model_name": "ImageModel",
      "state": {
       "_b64value": "iVBORw0KGgoAAAANSUhEUgAAADwAAAAoCAIAAAAt2Q6oAAAA8klEQVR4nO3WsQrCMBCA4ctd+uwuHbsoCCq4CNVB0KGOdXDo4iSCa0cXXaUOrVKDlkbl0sD9Q8jWj5TmquJDDr6FrgHfJGiuBM2VoLkSNFeC5kq7BgAA3Papeg0A6quxcYO+7hJEJCKlFCI+QS2zRudJDADGedQ3DRVFQURBEBCR7XPrvUcfF2NELM+gXI1357YKnU0ielRy3bKa09tBqLXWuhNfZMs6faKfEjRXgubKS7Q6X04AEPaGxj3dPFx+n4jGGLf696jQRv1o5h+6oelo5R/6Ly3nqX9oo8068w9tm5dXnqC5EjRXguZK0Fx5ib4DZCE5MMDH4PcAAAAASUVORK5CYII=",
       "_model_module_version": "~2.1.4",
       "_view_module_version": "~2.1.4",
       "layout": "IPY_MODEL_b2374cbfc94d442ea8410735e4beec34",
       "width": "240"
      }
     },
     "1de414bd130247048e64e67f0b897fb9": {
      "model_module": "jupyter-js-widgets",
      "model_module_version": "~2.1.4",
      "model_name": "HBoxModel",
      "state": {
       "_model_module_version": "~2.1.4",
       "_view_module_version": "~2.1.4",
       "children": [
        "IPY_MODEL_7cac688a51dc4866ad79ef7f12235f15",
        "IPY_MODEL_a97c32d51392435f9f73c323eb223c5b",
        "IPY_MODEL_0e71aeefe3a24f6b9e3c3604a3c905e0"
       ],
       "layout": "IPY_MODEL_515672f180a54244ae5fe40307f7df76"
      }
     },
     "1dee713a999944dabaf165f884b12fa8": {
      "model_module": "jupyter-js-widgets",
      "model_module_version": "~2.1.4",
      "model_name": "LayoutModel",
      "state": {
       "_model_module_version": "~2.1.4",
       "_view_module_version": "~2.1.4"
      }
     },
     "1e39240996f34b14aaac6fdb227f97c5": {
      "model_module": "jupyter-js-widgets",
      "model_module_version": "~2.1.4",
      "model_name": "VBoxModel",
      "state": {
       "_model_module_version": "~2.1.4",
       "_view_module_version": "~2.1.4",
       "children": [
        "IPY_MODEL_419aa4d9b1114ab6a8a465a6d3f26d32",
        "IPY_MODEL_89261895520e4213afad6cce91db2e66",
        "IPY_MODEL_12ec20de1c9c4c9e8c20943ca1dcf544"
       ],
       "layout": "IPY_MODEL_7a346884e0e940cc93e24806c8c35f17"
      }
     },
     "1ebd2e2eba2442a4aff597b6a5f0e1c0": {
      "model_module": "jupyter-js-widgets",
      "model_module_version": "~2.1.4",
      "model_name": "LayoutModel",
      "state": {
       "_model_module_version": "~2.1.4",
       "_view_module_version": "~2.1.4",
       "height": "30px",
       "padding": "0px 0px 0px 10px",
       "width": "260px"
      }
     },
     "1ee5252ca11c47a09de221e7564aafee": {
      "model_module": "jupyter-js-widgets",
      "model_module_version": "~2.1.4",
      "model_name": "LayoutModel",
      "state": {
       "_model_module_version": "~2.1.4",
       "_view_module_version": "~2.1.4"
      }
     },
     "1ee67e40dcfb4c4782ff3ff5cee05a9f": {
      "model_module": "jupyter-js-widgets",
      "model_module_version": "~2.1.4",
      "model_name": "LayoutModel",
      "state": {
       "_model_module_version": "~2.1.4",
       "_view_module_version": "~2.1.4"
      }
     },
     "1f1cac1af2df43c5a0b35fdb7a41f767": {
      "model_module": "jupyter-js-widgets",
      "model_module_version": "~2.1.4",
      "model_name": "LayoutModel",
      "state": {
       "_model_module_version": "~2.1.4",
       "_view_module_version": "~2.1.4",
       "height": "20px",
       "padding": "0px 0px 0px 0px",
       "width": "248px"
      }
     },
     "1f55dd5c963a4ec2b14d31542604a8db": {
      "model_module": "jupyter-js-widgets",
      "model_module_version": "~2.1.4",
      "model_name": "LayoutModel",
      "state": {
       "_model_module_version": "~2.1.4",
       "_view_module_version": "~2.1.4"
      }
     },
     "1f8183a839c140bca67ae86deb63f9a3": {
      "model_module": "jupyter-js-widgets",
      "model_module_version": "~2.1.4",
      "model_name": "HBoxModel",
      "state": {
       "_model_module_version": "~2.1.4",
       "_view_module_version": "~2.1.4",
       "children": [
        "IPY_MODEL_d647c66ad0c04166bde94a5cc0ca6317",
        "IPY_MODEL_4518288345dc44199ab9b28f81e90a5a"
       ],
       "layout": "IPY_MODEL_e43c9ae80e724f5bb8bb2d17ae6475ee"
      }
     },
     "1fbf8da4d0944d89a386c63264bd2167": {
      "model_module": "jupyter-js-widgets",
      "model_module_version": "~2.1.4",
      "model_name": "LayoutModel",
      "state": {
       "_model_module_version": "~2.1.4",
       "_view_module_version": "~2.1.4"
      }
     },
     "1fc674bd7d00454cae743d3128f88b59": {
      "model_module": "jupyter-js-widgets",
      "model_module_version": "~2.1.4",
      "model_name": "PlayModel",
      "state": {
       "_model_module_version": "~2.1.4",
       "_view_module_version": "~2.1.4",
       "layout": "IPY_MODEL_b7569b6a98a24007b22ca7e39280becf",
       "max": 1000000,
       "value": 307
      }
     },
     "1fe9fdde74ec4dfb9c17fcf2c0adecf5": {
      "model_module": "jupyter-js-widgets",
      "model_module_version": "~2.1.4",
      "model_name": "ButtonStyleModel",
      "state": {
       "_model_module_version": "~2.1.4",
       "_view_module_version": "~2.1.4"
      }
     },
     "205424d64aa24750b11163b7a40060f3": {
      "model_module": "jupyter-js-widgets",
      "model_module_version": "~2.1.4",
      "model_name": "LayoutModel",
      "state": {
       "_model_module_version": "~2.1.4",
       "_view_module_version": "~2.1.4"
      }
     },
     "20786895f8cb4c7fbcb7549872e2f113": {
      "model_module": "jupyter-js-widgets",
      "model_module_version": "~2.1.4",
      "model_name": "LayoutModel",
      "state": {
       "_model_module_version": "~2.1.4",
       "_view_module_version": "~2.1.4"
      }
     },
     "20f0e814594c49bd8a51581966380287": {
      "model_module": "jupyter-js-widgets",
      "model_module_version": "~2.1.4",
      "model_name": "LayoutModel",
      "state": {
       "_model_module_version": "~2.1.4",
       "_view_module_version": "~2.1.4"
      }
     },
     "212007575e3942aead8e83e67d8e4499": {
      "model_module": "jupyter-js-widgets",
      "model_module_version": "~2.1.4",
      "model_name": "VBoxModel",
      "state": {
       "_model_module_version": "~2.1.4",
       "_view_module_version": "~2.1.4",
       "children": [
        "IPY_MODEL_6d0152c6cd7e452c82e3af1d6df5c888",
        "IPY_MODEL_81ce6d6be95f44788e4ecc5f92c00a75"
       ],
       "layout": "IPY_MODEL_62292570a80e4d4a9eb369fdfcd26180"
      }
     },
     "21373abc3f9746329d26688f7122b28d": {
      "model_module": "jupyter-js-widgets",
      "model_module_version": "~2.1.4",
      "model_name": "PlayModel",
      "state": {
       "_model_module_version": "~2.1.4",
       "_view_module_version": "~2.1.4",
       "layout": "IPY_MODEL_45f40e4a515f43c097f21c370a47d40c",
       "max": 1000000
      }
     },
     "216307bcc5ed4fe8acce6a2d31d94eb0": {
      "model_module": "jupyter-js-widgets",
      "model_module_version": "~2.1.4",
      "model_name": "LayoutModel",
      "state": {
       "_model_module_version": "~2.1.4",
       "_view_module_version": "~2.1.4"
      }
     },
     "218dfdddedf847539629b9bde629a105": {
      "model_module": "jupyter-js-widgets",
      "model_module_version": "~2.1.4",
      "model_name": "ButtonStyleModel",
      "state": {
       "_model_module_version": "~2.1.4",
       "_view_module_version": "~2.1.4"
      }
     },
     "21d89c657c4946af9675e85597de3bf0": {
      "model_module": "jupyter-js-widgets",
      "model_module_version": "~2.1.4",
      "model_name": "LayoutModel",
      "state": {
       "_model_module_version": "~2.1.4",
       "_view_module_version": "~2.1.4"
      }
     },
     "22165ab1284349bbb7338a403c6158e1": {
      "model_module": "jupyter-js-widgets",
      "model_module_version": "~2.1.4",
      "model_name": "LayoutModel",
      "state": {
       "_model_module_version": "~2.1.4",
       "_view_module_version": "~2.1.4"
      }
     },
     "22e63ad046874813be595f1a30285455": {
      "model_module": "jupyter-js-widgets",
      "model_module_version": "~2.1.4",
      "model_name": "ImageModel",
      "state": {
       "_b64value": "iVBORw0KGgoAAAANSUhEUgAAACgAAAA8CAIAAACb22+3AAABdUlEQVR4nO3UzUoCURTA8XPO/fBr1XNEG3fhO/kGwUDLosBdREuLAhOToEXlokULEQJpYUS7pp1uTJiJtMWEODoz6r0pBOfs5sKf3+XemcFKpQKms7ndfn7cMmsp6M3iQDXLybI3zsmyN85p6nlt/DS8Nj4atuC/hyNAIiFkp5lXSmsdncvZpf7A01pKIYQgQuo080ohYsv3w1+O634QESIijtdGlMpl05M5Yjh/eX1TSkoh312XZvrPpN5/amfSKa2VklIIQZM5Dr1B30vIGz0/l82kUxr39g9m+/jtB9NqPPz2kfwiOe44uza9OV+vO/bbN8lrtas/Ob1CwT8sLZHjZbUa7osAAEfHJ4Z8MfTml8unMTmenV/M72Omfn2zEB812O12AQDg9u7ekI8c1St9bSTlY9iwN+aTfpkAEGSqVzKDE/I58Or4heBV8HPuOG7s7x4dxzHubWaJo2aYYYYZZphhhhlmmGGGGWaYYYYZZvjfwD/wH7vUQ414pAAAAABJRU5ErkJggg==",
       "_model_module_version": "~2.1.4",
       "_view_module_version": "~2.1.4",
       "layout": "IPY_MODEL_dc5408c7268b4389b19098a907b23500",
       "width": "240"
      }
     },
     "230d047af7fb4981ba5c3a3830577578": {
      "model_module": "jupyter-js-widgets",
      "model_module_version": "~2.1.4",
      "model_name": "VBoxModel",
      "state": {
       "_model_module_version": "~2.1.4",
       "_view_module_version": "~2.1.4",
       "children": [
        "IPY_MODEL_31b7b29a5edf4fc9810b5923133d9be0",
        "IPY_MODEL_f2ea052af929413aae6e992abcaffbec"
       ],
       "layout": "IPY_MODEL_965c3ee86116497097ac94a666ae3092"
      }
     },
     "234f334b95fb4166aa20cf921bf2fee6": {
      "model_module": "jupyter-js-widgets",
      "model_module_version": "~2.1.4",
      "model_name": "LayoutModel",
      "state": {
       "_model_module_version": "~2.1.4",
       "_view_module_version": "~2.1.4"
      }
     },
     "23a8e59f2a94426095206b5979a6ec71": {
      "model_module": "jupyter-js-widgets",
      "model_module_version": "~2.1.4",
      "model_name": "ButtonStyleModel",
      "state": {
       "_model_module_version": "~2.1.4",
       "_view_module_version": "~2.1.4"
      }
     },
     "23b81e70dfdd497cade8689d520e75e0": {
      "model_module": "jupyter-js-widgets",
      "model_module_version": "~2.1.4",
      "model_name": "ButtonModel",
      "state": {
       "_model_module_version": "~2.1.4",
       "_view_module_version": "~2.1.4",
       "description": "Clear",
       "layout": "IPY_MODEL_3b9f524253ec4b7fa4497e54f5138053",
       "style": "IPY_MODEL_d0a73e1f65134105af8c2238c699293c"
      }
     },
     "254c974e6f3447349094a0bb963a6869": {
      "model_module": "jupyter-js-widgets",
      "model_module_version": "~2.1.4",
      "model_name": "HTMLModel",
      "state": {
       "_model_module_version": "~2.1.4",
       "_view_module_version": "~2.1.4",
       "layout": "IPY_MODEL_17e21bc4b4be46189e777755994ad25e",
       "value": "<svg baseProfile=\"full\" height=\"240\" version=\"1.1\" width=\"240\" xmlns=\"http://www.w3.org/2000/svg\" xmlns:ev=\"http://www.w3.org/2001/xml-events\" xmlns:xlink=\"http://www.w3.org/1999/xlink\"><defs /><rect fill=\"white\" height=\"240\" stroke=\"#000000\" stroke-width=\"1\" width=\"240\" x=\"0\" y=\"0\" /><rect fill=\"#eef3dd\" height=\"240.0\" stroke=\"#bebebe\" stroke-width=\"1\" width=\"240.0\" x=\"0.0\" y=\"0.0\" /><circle cx=\"120.0\" cy=\"195.0\" fill=\"#ffff00\" r=\"15.0\" stroke=\"#ffff00\" stroke-width=\"1\" /><line fill=\"#800080\" stroke=\"#add8e6\" stroke-width=\"1\" x1=\"199.29647346587737\" x2=\"0.0\" y1=\"111.37109959820461\" y2=\"118.34932799999999\" /><line fill=\"#800080\" stroke=\"#add8e6\" stroke-width=\"1\" x1=\"200.64858482032437\" x2=\"0.0\" y1=\"107.12118255369946\" y2=\"21.973026000000004\" /><line fill=\"#800080\" stroke=\"#add8e6\" stroke-width=\"1\" x1=\"202.98412783209295\" x2=\"108.20933355871675\" y1=\"105.23830209010676\" y2=\"0.0\" /><line fill=\"#800080\" stroke=\"#add8e6\" stroke-width=\"1\" x1=\"206.529433775271\" x2=\"174.84110042201567\" y1=\"103.61324646974592\" y2=\"0.0\" /><line fill=\"#800080\" stroke=\"#add8e6\" stroke-width=\"1\" x1=\"212.52575915041191\" x2=\"236.38811675880686\" y1=\"103.4032893421199\" y2=\"0.0\" /><line fill=\"#800080\" stroke=\"#add8e6\" stroke-width=\"1\" x1=\"216.176043657403\" x2=\"240.0\" y1=\"104.77639640932952\" y2=\"74.27725800000002\" /><line fill=\"#800080\" stroke=\"#add8e6\" stroke-width=\"1\" x1=\"218.63756094574717\" x2=\"240.0\" y1=\"106.49131117082139\" y2=\"95.60408999999999\" /><line fill=\"#800080\" stroke=\"#add8e6\" stroke-width=\"1\" x1=\"220.28361227887063\" x2=\"240.0\" y1=\"110.63624965151354\" y2=\"109.94589599999998\" /><line fill=\"#800080\" stroke=\"#add8e6\" stroke-width=\"1\" x1=\"220.70352653412263\" x2=\"240.0\" y1=\"122.62890040179542\" y2=\"121.95324600000001\" /><line fill=\"#800080\" stroke=\"#add8e6\" stroke-width=\"1\" x1=\"219.35141517967563\" x2=\"240.0\" y1=\"126.87881744630057\" y2=\"135.641346\" /><line fill=\"#800080\" stroke=\"#add8e6\" stroke-width=\"1\" x1=\"217.01587216790705\" x2=\"240.0\" y1=\"128.76169790989326\" y2=\"154.283364\" /><line fill=\"#800080\" stroke=\"#add8e6\" stroke-width=\"1\" x1=\"213.470566224729\" x2=\"240.0\" y1=\"130.3867535302541\" y2=\"217.131636\" /><line fill=\"#800080\" stroke=\"#add8e6\" stroke-width=\"1\" x1=\"207.47424084958809\" x2=\"182.22726449088904\" y1=\"130.59671065788012\" y2=\"240.0\" /><line fill=\"#800080\" stroke=\"#add8e6\" stroke-width=\"1\" x1=\"203.823956342597\" x2=\"117.29260723482744\" y1=\"129.2236035906705\" y2=\"240.0\" /><line fill=\"#800080\" stroke=\"#add8e6\" stroke-width=\"1\" x1=\"201.36243905425283\" x2=\"0.0\" y1=\"127.50868882917862\" y2=\"230.131668\" /><line fill=\"#800080\" stroke=\"#add8e6\" stroke-width=\"1\" x1=\"199.71638772112937\" x2=\"0.0\" y1=\"123.36375034848649\" y2=\"130.356678\" /><line fill=\"#800080\" stroke=\"#a020f0\" stroke-width=\"1\" x1=\"210.0\" x2=\"0.0\" y1=\"117.00000000000001\" y2=\"5.366183999999992\" /><line fill=\"#800080\" stroke=\"#a020f0\" stroke-width=\"1\" x1=\"210.0\" x2=\"240.0\" y1=\"117.00000000000001\" y2=\"98.250024\" /><line fill=\"#800080\" stroke=\"#ffa500\" stroke-width=\"1\" x1=\"120.0\" x2=\"199.03402705634483\" y1=\"195.0\" y2=\"103.87569287927845\" /><line fill=\"#800080\" stroke=\"#ffa500\" stroke-width=\"1\" x1=\"120.0\" x2=\"220.02116586933806\" y1=\"195.0\" y2=\"103.14084293258738\" /><polygon fill=\"red\" points=\"204.7305361627287,103.67623360803373 199.19149490206433,108.37293691063414 199.82136628494237,126.36191303605695 205.67534323704578,130.65969779616793 215.2694638372713,130.3237663919663 220.80850509793567,125.62706308936588 220.17863371505763,107.63808696394308 214.32465676295422,103.3403022038321\" stroke=\"red\" stroke-width=\"1\" /><polygon points=\"-3.0,-3.0 0,0 3.0,-3.0 0,3.0\" stroke=\"black\" stroke-width=\"1\" transform=\"translate(210.0,117.00000000000001) rotate(177.9946477170421)\" /><polygon fill=\"black\" points=\"213.30385524640815,108.4791701982271 213.47182094850893,113.27623049833983 206.2762304983398,113.52817905149107 206.108264796239,108.73111875137835\" stroke=\"black\" stroke-width=\"1\" /><circle cx=\"199.03402705634483\" cy=\"103.87569287927845\" fill=\"yellow\" r=\"1.5\" stroke=\"orange\" stroke-width=\"1\" /><circle cx=\"220.02116586933806\" cy=\"103.14084293258738\" fill=\"yellow\" r=\"1.5\" stroke=\"orange\" stroke-width=\"1\" /></svg>"
      }
     },
     "2561d6f2ea5f46ca886b46f1c48c37af": {
      "model_module": "jupyter-js-widgets",
      "model_module_version": "~2.1.4",
      "model_name": "ButtonModel",
      "state": {
       "_model_module_version": "~2.1.4",
       "_view_module_version": "~2.1.4",
       "icon": "step-forward",
       "layout": "IPY_MODEL_ab5abd8eda174585a459a563bf66442d",
       "style": "IPY_MODEL_1fe9fdde74ec4dfb9c17fcf2c0adecf5"
      }
     },
     "2569dc0487f74fc0b2ae1ef5cfc0180e": {
      "model_module": "jupyter-js-widgets",
      "model_module_version": "~2.1.4",
      "model_name": "HBoxModel",
      "state": {
       "_model_module_version": "~2.1.4",
       "_view_module_version": "~2.1.4",
       "children": [
        "IPY_MODEL_e370a28555614160807f30522cfe6197",
        "IPY_MODEL_73d0681203e745dea3a4f737fe56cda5",
        "IPY_MODEL_dd043393425b45e8831b2ebcaf9538f0"
       ],
       "layout": "IPY_MODEL_f82c4c0946fb460aa86a757177a556f3"
      }
     },
     "25959e7056a040d2863d8e000e02e7ed": {
      "model_module": "jupyter-js-widgets",
      "model_module_version": "~2.1.4",
      "model_name": "LayoutModel",
      "state": {
       "_model_module_version": "~2.1.4",
       "_view_module_version": "~2.1.4"
      }
     },
     "259ebe8952a54a45a1f6124dae17b698": {
      "model_module": "jupyter-js-widgets",
      "model_module_version": "~2.1.4",
      "model_name": "LayoutModel",
      "state": {
       "_model_module_version": "~2.1.4",
       "_view_module_version": "~2.1.4"
      }
     },
     "26438f0b082f4b89bc111ed1a09e7a25": {
      "model_module": "jupyter-js-widgets",
      "model_module_version": "~2.1.4",
      "model_name": "ImageModel",
      "state": {
       "_b64value": "iVBORw0KGgoAAAANSUhEUgAAADwAAAAoCAIAAAAt2Q6oAAAA8klEQVR4nO3WsQrCMBCA4ctd+uwuHbsoCCq4CNVB0KGOdXDo4iSCa0cXXaUOrVKDlkbl0sD9Q8jWj5TmquJDDr6FrgHfJGiuBM2VoLkSNFeC5kq7BgAA3Papeg0A6quxcYO+7hJEJCKlFCI+QS2zRudJDADGedQ3DRVFQURBEBCR7XPrvUcfF2NELM+gXI1357YKnU0ielRy3bKa09tBqLXWuhNfZMs6faKfEjRXgubKS7Q6X04AEPaGxj3dPFx+n4jGGLf696jQRv1o5h+6oelo5R/6Ly3nqX9oo8068w9tm5dXnqC5EjRXguZK0Fx5ib4DZCE5MMDH4PcAAAAASUVORK5CYII=",
       "_model_module_version": "~2.1.4",
       "_view_module_version": "~2.1.4",
       "layout": "IPY_MODEL_1ee5252ca11c47a09de221e7564aafee",
       "width": "240"
      }
     },
     "2646cceb57664c0dac6f4246e025e1b5": {
      "model_module": "jupyter-js-widgets",
      "model_module_version": "~2.1.4",
      "model_name": "LayoutModel",
      "state": {
       "_model_module_version": "~2.1.4",
       "_view_module_version": "~2.1.4"
      }
     },
     "26b13b1143e7485fb37714ca5e308f48": {
      "model_module": "jupyter-js-widgets",
      "model_module_version": "~2.1.4",
      "model_name": "HBoxModel",
      "state": {
       "_model_module_version": "~2.1.4",
       "_view_module_version": "~2.1.4",
       "children": [
        "IPY_MODEL_83c3fe33a58941e48b776e0640015ab3",
        "IPY_MODEL_43511ab6ceb9469086a498fc1df5420a"
       ],
       "layout": "IPY_MODEL_485b327811db4a20998a3096102fc2a1"
      }
     },
     "26de2010859e45a1b37173e5c7cb1a91": {
      "model_module": "jupyter-js-widgets",
      "model_module_version": "~2.1.4",
      "model_name": "TextModel",
      "state": {
       "_model_module_version": "~2.1.4",
       "_view_module_version": "~2.1.4",
       "description": "Time:",
       "layout": "IPY_MODEL_b7e43f782f934f0dbf9bb57e88a97c76",
       "value": "0.00 seconds"
      }
     },
     "26e91bb3e45342049278ccca2231871a": {
      "model_module": "jupyter-js-widgets",
      "model_module_version": "~2.1.4",
      "model_name": "LayoutModel",
      "state": {
       "_model_module_version": "~2.1.4",
       "_view_module_version": "~2.1.4"
      }
     },
     "273162243d2b4ab18af7a5dfd3476427": {
      "model_module": "jupyter-js-widgets",
      "model_module_version": "~2.1.4",
      "model_name": "LayoutModel",
      "state": {
       "_model_module_version": "~2.1.4",
       "_view_module_version": "~2.1.4"
      }
     },
     "274f68fb0f3f4e2e9bbabf18978ca81a": {
      "model_module": "jupyter-js-widgets",
      "model_module_version": "~2.1.4",
      "model_name": "FloatSliderModel",
      "state": {
       "_model_module_version": "~2.1.4",
       "_view_module_version": "~2.1.4",
       "layout": "IPY_MODEL_110acdbc904b410089abea11ad38acd7",
       "orientation": "vertical",
       "readout": false,
       "step": 0.1,
       "value": 41.405640415011455
      }
     },
     "279d609a245340609c0a55edc5e0f7e7": {
      "model_module": "jupyter-js-widgets",
      "model_module_version": "~2.1.4",
      "model_name": "VBoxModel",
      "state": {
       "_model_module_version": "~2.1.4",
       "_view_module_version": "~2.1.4",
       "children": [
        "IPY_MODEL_52c43ecda4734ed9ab92e93485b46868",
        "IPY_MODEL_d5b3148ba7044006a099e20bfb5c7867"
       ],
       "layout": "IPY_MODEL_d72015ede7194ba69baeba3e32c7c659"
      }
     },
     "27b1323becb34ab4a2f30a9a16ca755b": {
      "model_module": "jupyter-js-widgets",
      "model_module_version": "~2.1.4",
      "model_name": "LayoutModel",
      "state": {
       "_model_module_version": "~2.1.4",
       "_view_module_version": "~2.1.4"
      }
     },
     "27fca6ac62d64b6e82a1691351779565": {
      "model_module": "jupyter-js-widgets",
      "model_module_version": "~2.1.4",
      "model_name": "ButtonModel",
      "state": {
       "_model_module_version": "~2.1.4",
       "_view_module_version": "~2.1.4",
       "description": "Clear",
       "layout": "IPY_MODEL_28e8796eb92742bab18d8ee7effe3d34",
       "style": "IPY_MODEL_50ab698c3ca54a55976aa610310bbe6b"
      }
     },
     "289942ea1dc248d89e29e0688f942b60": {
      "model_module": "jupyter-js-widgets",
      "model_module_version": "~2.1.4",
      "model_name": "VBoxModel",
      "state": {
       "_model_module_version": "~2.1.4",
       "_view_module_version": "~2.1.4",
       "children": [
        "IPY_MODEL_73ba5ffb85a44869a900c960336f8df2",
        "IPY_MODEL_47a8dd5adb55475898013ea3f3296286",
        "IPY_MODEL_314c89c5a8854b9ca0770b88433d2fb1"
       ],
       "layout": "IPY_MODEL_2acce3af7be2449ab827b955b96291d3"
      }
     },
     "28a8e1f00a5b46a08e0d87ce00aac261": {
      "model_module": "jupyter-js-widgets",
      "model_module_version": "~2.1.4",
      "model_name": "VBoxModel",
      "state": {
       "_model_module_version": "~2.1.4",
       "_view_module_version": "~2.1.4",
       "children": [
        "IPY_MODEL_bfc3a4aabc41463aa107f4d59a5ae2fb",
        "IPY_MODEL_caa3fb64d559425f99682b6b756721aa",
        "IPY_MODEL_361b1be6dd04437ab8ebf461f80fd6ed"
       ],
       "layout": "IPY_MODEL_59dd988595a44cc88fdb41142c87d87d"
      }
     },
     "28c98d24dd634f03b4419f5ec476206e": {
      "model_module": "jupyter-js-widgets",
      "model_module_version": "~2.1.4",
      "model_name": "ButtonModel",
      "state": {
       "_model_module_version": "~2.1.4",
       "_view_module_version": "~2.1.4",
       "icon": "step-forward",
       "layout": "IPY_MODEL_f6401f14561248c8a3956818ded521d1",
       "style": "IPY_MODEL_d7af7336fb7d42448a5b3cad2ed828e5"
      }
     },
     "28cd9a5c7c0f4fefac9a32a22e3d1926": {
      "model_module": "jupyter-js-widgets",
      "model_module_version": "~2.1.4",
      "model_name": "LayoutModel",
      "state": {
       "_model_module_version": "~2.1.4",
       "_view_module_version": "~2.1.4"
      }
     },
     "28dfca65df2948a5ac4792b4af827538": {
      "model_module": "jupyter-js-widgets",
      "model_module_version": "~2.1.4",
      "model_name": "LayoutModel",
      "state": {
       "_model_module_version": "~2.1.4",
       "_view_module_version": "~2.1.4"
      }
     },
     "28e8796eb92742bab18d8ee7effe3d34": {
      "model_module": "jupyter-js-widgets",
      "model_module_version": "~2.1.4",
      "model_name": "LayoutModel",
      "state": {
       "_model_module_version": "~2.1.4",
       "_view_module_version": "~2.1.4"
      }
     },
     "2975294e234c419ebb244e422db4cad7": {
      "model_module": "jupyter-js-widgets",
      "model_module_version": "~2.1.4",
      "model_name": "LayoutModel",
      "state": {
       "_model_module_version": "~2.1.4",
       "_view_module_version": "~2.1.4"
      }
     },
     "2987964e6f484f3995b43f0be687a229": {
      "model_module": "jupyter-js-widgets",
      "model_module_version": "~2.1.4",
      "model_name": "LayoutModel",
      "state": {
       "_model_module_version": "~2.1.4",
       "_view_module_version": "~2.1.4"
      }
     },
     "299d1f1bc5da437e8f4663a522111b96": {
      "model_module": "jupyter-js-widgets",
      "model_module_version": "~2.1.4",
      "model_name": "ImageModel",
      "state": {
       "_b64value": "iVBORw0KGgoAAAANSUhEUgAAADwAAAAoCAIAAAAt2Q6oAAAA8UlEQVR4nO3WoQ7CMBCA4d5d++gYggJDwMwgEJshATHkEIRgUCCwkxiwZAhGMxq2bIRcaXKfWOb655b0BvExV6FB3wHfkGguEs1ForlINBeJ5qJ9B5TuhwzeKaWqz+qLt+jbNkVEIgIARLRBbXSOztPYDqBuEg2KokBEYwwRdT3a+hx9SiJ8sZOofji/yuhdNCQirTURPVv9ZjXTm8kAAIwxvks6+OuJ1pFoLhLNJchouFzPSql+b+rc0w3L5Vcb0Vnj7f89ymjHeDQPL7rBLFqGF/0riyQLL9qxXu3Di+4kyCtPorlINBeJ5iLRXIKMfgDJGDkVat0rzwAAAABJRU5ErkJggg==",
       "_model_module_version": "~2.1.4",
       "_view_module_version": "~2.1.4",
       "layout": "IPY_MODEL_4e209eeb72ee40c1ae45a5a81afbee3f",
       "width": "240"
      }
     },
     "29d5030242fa4b22a3f548526e5e2481": {
      "model_module": "jupyter-js-widgets",
      "model_module_version": "~2.1.4",
      "model_name": "ButtonStyleModel",
      "state": {
       "_model_module_version": "~2.1.4",
       "_view_module_version": "~2.1.4"
      }
     },
     "2a3618d58be54136a02606a3f50b527b": {
      "model_module": "jupyter-js-widgets",
      "model_module_version": "~2.1.4",
      "model_name": "ButtonStyleModel",
      "state": {
       "_model_module_version": "~2.1.4",
       "_view_module_version": "~2.1.4"
      }
     },
     "2a95bca5e64c46de83779180deab0710": {
      "model_module": "jupyter-js-widgets",
      "model_module_version": "~2.1.4",
      "model_name": "FloatSliderModel",
      "state": {
       "_model_module_version": "~2.1.4",
       "_view_module_version": "~2.1.4",
       "layout": "IPY_MODEL_b0ce52da8be943d1b77f1a8ead2b0300",
       "readout": false,
       "step": 0.1,
       "value": 100
      }
     },
     "2aa95163de924223814aea829f0eeebb": {
      "model_module": "jupyter-js-widgets",
      "model_module_version": "~2.1.4",
      "model_name": "ButtonModel",
      "state": {
       "_model_module_version": "~2.1.4",
       "_view_module_version": "~2.1.4",
       "icon": "step-forward",
       "layout": "IPY_MODEL_fc8fdb5718c44ce491ffe8a2deb7f92d",
       "style": "IPY_MODEL_5e5531f2de434d7da50086dadf141ec9"
      }
     },
     "2acce3af7be2449ab827b955b96291d3": {
      "model_module": "jupyter-js-widgets",
      "model_module_version": "~2.1.4",
      "model_name": "LayoutModel",
      "state": {
       "_model_module_version": "~2.1.4",
       "_view_module_version": "~2.1.4"
      }
     },
     "2ad83a7ea1754a64ac82c6a775efa7b5": {
      "model_module": "jupyter-js-widgets",
      "model_module_version": "~2.1.4",
      "model_name": "VBoxModel",
      "state": {
       "_model_module_version": "~2.1.4",
       "_view_module_version": "~2.1.4",
       "children": [
        "IPY_MODEL_a77744ab5836486181dfc7ab7e91ec74",
        "IPY_MODEL_1f8183a839c140bca67ae86deb63f9a3"
       ],
       "layout": "IPY_MODEL_10394100745043a891fda2e9955b36b0"
      }
     },
     "2b14217eb1a343e8a50e56255909d34d": {
      "model_module": "jupyter-js-widgets",
      "model_module_version": "~2.1.4",
      "model_name": "HBoxModel",
      "state": {
       "_model_module_version": "~2.1.4",
       "_view_module_version": "~2.1.4",
       "children": [
        "IPY_MODEL_988404e8eb3c405a879ee0cc74ccbfb7",
        "IPY_MODEL_8a0850b04c2c4e909f88e1837a6e82c0",
        "IPY_MODEL_2c9916b41184464b84aaa00882a6da01"
       ],
       "layout": "IPY_MODEL_40564d89525f4790b83b9761d9e22f74"
      }
     },
     "2b3dc421a92943c9919a702db7a05702": {
      "model_module": "jupyter-js-widgets",
      "model_module_version": "~2.1.4",
      "model_name": "ButtonModel",
      "state": {
       "_model_module_version": "~2.1.4",
       "_view_module_version": "~2.1.4",
       "description": "Clear",
       "layout": "IPY_MODEL_16bf16c9893544f8a225e47bb1fc10a8",
       "style": "IPY_MODEL_4b8336e3f9d942878b8428590180d97e"
      }
     },
     "2b62384830bd4820aabd5dd1dde43050": {
      "model_module": "jupyter-js-widgets",
      "model_module_version": "~2.1.4",
      "model_name": "LayoutModel",
      "state": {
       "_model_module_version": "~2.1.4",
       "_view_module_version": "~2.1.4"
      }
     },
     "2b7d7b042df143918d561e490d343b0d": {
      "model_module": "jupyter-js-widgets",
      "model_module_version": "~2.1.4",
      "model_name": "LayoutModel",
      "state": {
       "_model_module_version": "~2.1.4",
       "_view_module_version": "~2.1.4"
      }
     },
     "2b9aeea96dfe40acae54d57b90946d95": {
      "model_module": "jupyter-js-widgets",
      "model_module_version": "~2.1.4",
      "model_name": "LayoutModel",
      "state": {
       "_model_module_version": "~2.1.4",
       "_view_module_version": "~2.1.4"
      }
     },
     "2bab5ea5b70b4c2ea729bf857714ddd5": {
      "model_module": "jupyter-js-widgets",
      "model_module_version": "~2.1.4",
      "model_name": "HTMLModel",
      "state": {
       "_model_module_version": "~2.1.4",
       "_view_module_version": "~2.1.4",
       "layout": "IPY_MODEL_1ee67e40dcfb4c4782ff3ff5cee05a9f",
       "value": "<svg baseProfile=\"full\" height=\"240\" version=\"1.1\" width=\"240\" xmlns=\"http://www.w3.org/2000/svg\" xmlns:ev=\"http://www.w3.org/2001/xml-events\" xmlns:xlink=\"http://www.w3.org/1999/xlink\"><defs /><rect fill=\"white\" height=\"240\" stroke=\"#000000\" stroke-width=\"1\" width=\"240\" x=\"0\" y=\"0\" /><rect fill=\"#eef3dd\" height=\"240.0\" stroke=\"#bebebe\" stroke-width=\"1\" width=\"240.0\" x=\"0.0\" y=\"0.0\" /><circle cx=\"120.0\" cy=\"195.0\" fill=\"#ffff00\" r=\"15.0\" stroke=\"#ffff00\" stroke-width=\"1\" /><line fill=\"#800080\" stroke=\"#add8e6\" stroke-width=\"1\" x1=\"199.29647346587737\" x2=\"0.0\" y1=\"111.37109959820461\" y2=\"118.34932799999999\" /><line fill=\"#800080\" stroke=\"#add8e6\" stroke-width=\"1\" x1=\"200.64858482032437\" x2=\"0.0\" y1=\"107.12118255369946\" y2=\"21.973026000000004\" /><line fill=\"#800080\" stroke=\"#add8e6\" stroke-width=\"1\" x1=\"202.98412783209295\" x2=\"108.20933355871675\" y1=\"105.23830209010676\" y2=\"0.0\" /><line fill=\"#800080\" stroke=\"#add8e6\" stroke-width=\"1\" x1=\"206.529433775271\" x2=\"174.84110042201567\" y1=\"103.61324646974592\" y2=\"0.0\" /><line fill=\"#800080\" stroke=\"#add8e6\" stroke-width=\"1\" x1=\"212.52575915041191\" x2=\"236.38811675880686\" y1=\"103.4032893421199\" y2=\"0.0\" /><line fill=\"#800080\" stroke=\"#add8e6\" stroke-width=\"1\" x1=\"216.176043657403\" x2=\"240.0\" y1=\"104.77639640932952\" y2=\"74.27725800000002\" /><line fill=\"#800080\" stroke=\"#add8e6\" stroke-width=\"1\" x1=\"218.63756094574717\" x2=\"240.0\" y1=\"106.49131117082139\" y2=\"95.60408999999999\" /><line fill=\"#800080\" stroke=\"#add8e6\" stroke-width=\"1\" x1=\"220.28361227887063\" x2=\"240.0\" y1=\"110.63624965151354\" y2=\"109.94589599999998\" /><line fill=\"#800080\" stroke=\"#add8e6\" stroke-width=\"1\" x1=\"220.70352653412263\" x2=\"240.0\" y1=\"122.62890040179542\" y2=\"121.95324600000001\" /><line fill=\"#800080\" stroke=\"#add8e6\" stroke-width=\"1\" x1=\"219.35141517967563\" x2=\"240.0\" y1=\"126.87881744630057\" y2=\"135.641346\" /><line fill=\"#800080\" stroke=\"#add8e6\" stroke-width=\"1\" x1=\"217.01587216790705\" x2=\"240.0\" y1=\"128.76169790989326\" y2=\"154.283364\" /><line fill=\"#800080\" stroke=\"#add8e6\" stroke-width=\"1\" x1=\"213.470566224729\" x2=\"240.0\" y1=\"130.3867535302541\" y2=\"217.131636\" /><line fill=\"#800080\" stroke=\"#add8e6\" stroke-width=\"1\" x1=\"207.47424084958809\" x2=\"182.22726449088904\" y1=\"130.59671065788012\" y2=\"240.0\" /><line fill=\"#800080\" stroke=\"#add8e6\" stroke-width=\"1\" x1=\"203.823956342597\" x2=\"117.29260723482744\" y1=\"129.2236035906705\" y2=\"240.0\" /><line fill=\"#800080\" stroke=\"#add8e6\" stroke-width=\"1\" x1=\"201.36243905425283\" x2=\"0.0\" y1=\"127.50868882917862\" y2=\"230.131668\" /><line fill=\"#800080\" stroke=\"#add8e6\" stroke-width=\"1\" x1=\"199.71638772112937\" x2=\"0.0\" y1=\"123.36375034848649\" y2=\"130.356678\" /><line fill=\"#800080\" stroke=\"#a020f0\" stroke-width=\"1\" x1=\"210.0\" x2=\"0.0\" y1=\"117.00000000000001\" y2=\"5.366183999999992\" /><line fill=\"#800080\" stroke=\"#a020f0\" stroke-width=\"1\" x1=\"210.0\" x2=\"240.0\" y1=\"117.00000000000001\" y2=\"98.250024\" /><line fill=\"#800080\" stroke=\"#ffa500\" stroke-width=\"1\" x1=\"120.0\" x2=\"199.03402705634483\" y1=\"195.0\" y2=\"103.87569287927845\" /><line fill=\"#800080\" stroke=\"#ffa500\" stroke-width=\"1\" x1=\"120.0\" x2=\"220.02116586933806\" y1=\"195.0\" y2=\"103.14084293258738\" /><polygon fill=\"red\" points=\"204.7305361627287,103.67623360803373 199.19149490206433,108.37293691063414 199.82136628494237,126.36191303605695 205.67534323704578,130.65969779616793 215.2694638372713,130.3237663919663 220.80850509793567,125.62706308936588 220.17863371505763,107.63808696394308 214.32465676295422,103.3403022038321\" stroke=\"red\" stroke-width=\"1\" /><polygon points=\"-3.0,-3.0 0,0 3.0,-3.0 0,3.0\" stroke=\"black\" stroke-width=\"1\" transform=\"translate(210.0,117.00000000000001) rotate(177.9946477170421)\" /><polygon fill=\"black\" points=\"213.30385524640815,108.4791701982271 213.47182094850893,113.27623049833983 206.2762304983398,113.52817905149107 206.108264796239,108.73111875137835\" stroke=\"black\" stroke-width=\"1\" /><circle cx=\"199.03402705634483\" cy=\"103.87569287927845\" fill=\"yellow\" r=\"1.5\" stroke=\"orange\" stroke-width=\"1\" /><circle cx=\"220.02116586933806\" cy=\"103.14084293258738\" fill=\"yellow\" r=\"1.5\" stroke=\"orange\" stroke-width=\"1\" /></svg>"
      }
     },
     "2bc6898ba19c42398f79555de034b720": {
      "model_module": "jupyter-js-widgets",
      "model_module_version": "~2.1.4",
      "model_name": "HBoxModel",
      "state": {
       "_model_module_version": "~2.1.4",
       "_view_module_version": "~2.1.4",
       "children": [
        "IPY_MODEL_b46d350369e94909ba40a2a9da053a4f",
        "IPY_MODEL_3f99b1d8293d4edaad8b87e047c321a9"
       ],
       "layout": "IPY_MODEL_4e7deae4f65442f49e9c3df346bb4e1c"
      }
     },
     "2bcb1c285f4a484f8ce63b7dfde876f2": {
      "model_module": "jupyter-js-widgets",
      "model_module_version": "~2.1.4",
      "model_name": "LayoutModel",
      "state": {
       "_model_module_version": "~2.1.4",
       "_view_module_version": "~2.1.4"
      }
     },
     "2be4ace33ffe44f0b74fe2777d5c6df8": {
      "model_module": "jupyter-js-widgets",
      "model_module_version": "~2.1.4",
      "model_name": "LayoutModel",
      "state": {
       "_model_module_version": "~2.1.4",
       "_view_module_version": "~2.1.4"
      }
     },
     "2bee9d53650644b4b5d0d56997ac47a2": {
      "model_module": "jupyter-js-widgets",
      "model_module_version": "~2.1.4",
      "model_name": "HBoxModel",
      "state": {
       "_model_module_version": "~2.1.4",
       "_view_module_version": "~2.1.4",
       "children": [
        "IPY_MODEL_68e689b6f80d4cafbd268873e3573edc",
        "IPY_MODEL_36f8fa7be5154b5b83a553ea590afb46"
       ],
       "layout": "IPY_MODEL_cf9689b325f045ee888c342634f4d24d"
      }
     },
     "2c0b70d942ea4e6a848ba6ea96487375": {
      "model_module": "jupyter-js-widgets",
      "model_module_version": "~2.1.4",
      "model_name": "HBoxModel",
      "state": {
       "_model_module_version": "~2.1.4",
       "_view_module_version": "~2.1.4",
       "children": [
        "IPY_MODEL_08ff67209a0f4a70a35254c8c702e243",
        "IPY_MODEL_15add9842fa34b6aa3bdaf06a02d4cae",
        "IPY_MODEL_3fe19bf47e1a4e50be6226b013226379"
       ],
       "layout": "IPY_MODEL_cc8b4f9de0df461687436e6bd30799f1"
      }
     },
     "2c115901cf2a42e8b94bee130a078c3b": {
      "model_module": "jupyter-js-widgets",
      "model_module_version": "~2.1.4",
      "model_name": "OutputModel",
      "state": {
       "_dom_classes": [],
       "_model_module": "jupyter-js-widgets",
       "_model_module_version": "~2.1.4",
       "_view_module": "jupyter-js-widgets",
       "_view_module_version": "~2.1.4",
       "layout": "IPY_MODEL_c75ec2299f214b3d893dbb62d68c7ead",
       "msg_throttle": 1
      }
     },
     "2c1ad1db134b4574a4df82b5726b1061": {
      "model_module": "jupyter-js-widgets",
      "model_module_version": "~2.1.4",
      "model_name": "HBoxModel",
      "state": {
       "_model_module_version": "~2.1.4",
       "_view_module_version": "~2.1.4",
       "children": [
        "IPY_MODEL_6e25987c3100430f97f82d787a1d1427",
        "IPY_MODEL_8a15198c4b854f52842e8853fba7ee58"
       ],
       "layout": "IPY_MODEL_7074a7887e704e54b358c6d14ac8ec39"
      }
     },
     "2c63f0a5b5f64768af94537aebcec424": {
      "model_module": "jupyter-js-widgets",
      "model_module_version": "~2.1.4",
      "model_name": "LayoutModel",
      "state": {
       "_model_module_version": "~2.1.4",
       "_view_module_version": "~2.1.4"
      }
     },
     "2c6bc4bed8a147a38a9275a7deae68fe": {
      "model_module": "jupyter-js-widgets",
      "model_module_version": "~2.1.4",
      "model_name": "HBoxModel",
      "state": {
       "_model_module_version": "~2.1.4",
       "_view_module_version": "~2.1.4",
       "children": [
        "IPY_MODEL_fadc4fc515c04a6396e41021c97e4c61",
        "IPY_MODEL_86dd59a576c744fea6b31170512952f8"
       ],
       "layout": "IPY_MODEL_628a0362ea104fa1827eac115fe5af8d"
      }
     },
     "2c94f30156a14e019a660894393e18a9": {
      "model_module": "jupyter-js-widgets",
      "model_module_version": "~2.1.4",
      "model_name": "LayoutModel",
      "state": {
       "_model_module_version": "~2.1.4",
       "_view_module_version": "~2.1.4"
      }
     },
     "2c9916b41184464b84aaa00882a6da01": {
      "model_module": "jupyter-js-widgets",
      "model_module_version": "~2.1.4",
      "model_name": "ButtonModel",
      "state": {
       "_model_module_version": "~2.1.4",
       "_view_module_version": "~2.1.4",
       "description": "Clear",
       "layout": "IPY_MODEL_89c27e9650ca490ea28356ea4ba6bff8",
       "style": "IPY_MODEL_a31ff82e19c346feaccab0821eaa7588"
      }
     },
     "2cc6a1a5ab714f538c1077a2aaf181ae": {
      "model_module": "jupyter-js-widgets",
      "model_module_version": "~2.1.4",
      "model_name": "LayoutModel",
      "state": {
       "_model_module_version": "~2.1.4",
       "_view_module_version": "~2.1.4"
      }
     },
     "2cd21c94bba7463e9b6176e233c12365": {
      "model_module": "jupyter-js-widgets",
      "model_module_version": "~2.1.4",
      "model_name": "OutputModel",
      "state": {
       "_dom_classes": [],
       "_model_module": "jupyter-js-widgets",
       "_model_module_version": "~2.1.4",
       "_view_module": "jupyter-js-widgets",
       "_view_module_version": "~2.1.4",
       "layout": "IPY_MODEL_0950e5b7b2be499789dce31ca1fe16dc",
       "msg_throttle": 1
      }
     },
     "2cdaabf3bfb843e6a602a758dd969b1c": {
      "model_module": "jupyter-js-widgets",
      "model_module_version": "~2.1.4",
      "model_name": "ImageModel",
      "state": {
       "_b64value": "iVBORw0KGgoAAAANSUhEUgAAADwAAAAoCAIAAAAt2Q6oAAACuklEQVR4nO2XyU9TURSHuU6J/4rzFE0UZSq0DFUkolgpVCqpiiEaTaOJJnXVTRdNatuURI02GCqtHTCKIiJRwIo4oViBaBzAIW5MjInGadGE1Pfuu+9303dl07N679wv5+v5LdpeEklN53HWQJtL3jx+soVrSN/UQl5v8ow7/UDsdvtM9+gJm1DxyPlTSkdHjlnxOYQ36UftfqWjQ3YLPod34dGOtpln4nA4Ms9aD5vFicc6TysdtRw04XO4k05Fziod7Wutw+dwLTwePZf5SpxOp4SwHdguQjwZD7KB5v3bwFF8Sb/samcD1r014CiuhV9dvpD5Slwu6fdXk22rCPHrKx1swNK8BRzFl/SbqyE20LhnMziKa+G33RczX4nb7ZYQDVajCPG7a51swNxUBY7iS3rqepgN1O+uBEfhC0/3RCQd4vF45NwuS4VoMbVAL0fS729cQjBTYzmC4Qt/6I1KOsTr9cq5nQ0G0WJqgV6OpD/ejCFYnVmPYPjCci/x+XyzIqYW6OVI+lNfHMF21JchGL6w3Ev8fspfzf8gphbozSXNI6ZWLmkBYmrlkhYgppb2Sc/WL+Ln/i5JhwQCATlXa9JpK/4y2I1g1bUFCIYm/TXZg2DpMtbkqzLgwt+Ge+VNEgzSL8mV1eu1En9/cAvB0mUwrlNl0KR/POzHxfqqtaoMuPDPx7flTRIK0e+qpRVrNBH/enJHlZGUrnw1G4CS/j06wCsuMaxiA8jCf54OUvskHFa8qxbrV2Yvzns2pM78W0VlK9gAlDQZu8srLixdzgaQhec8T9I/TzSqeHsr0C0TJ2aUqhdKem7qHq94U8lSNoAsrOQlsVhMqHjei2FVRlIbi5ewAShpEeJsFibxuOL/L03E88fvqzKSyi9azAagpEWIs1mYJBIJoeIFEyOqjKQ2FC5iA38BfIdSIiJcHl4AAAAASUVORK5CYII=",
       "_model_module_version": "~2.1.4",
       "_view_module_version": "~2.1.4",
       "layout": "IPY_MODEL_8e163851df2a4013ab60f38a96a41951",
       "width": "240"
      }
     },
     "2cdabe5aacaa404f81cff6e592668fda": {
      "model_module": "jupyter-js-widgets",
      "model_module_version": "~2.1.4",
      "model_name": "LayoutModel",
      "state": {
       "_model_module_version": "~2.1.4",
       "_view_module_version": "~2.1.4"
      }
     },
     "2d069cf6a5644290a29267533b43b496": {
      "model_module": "jupyter-js-widgets",
      "model_module_version": "~2.1.4",
      "model_name": "CheckboxModel",
      "state": {
       "_model_module_version": "~2.1.4",
       "_view_module_version": "~2.1.4",
       "description": "Update GUI",
       "disabled": false,
       "layout": "IPY_MODEL_4953c333c8b7439db5c9efcf2519fadc",
       "value": true
      }
     },
     "2d24a26d8a244264ad07152c5dab6205": {
      "model_module": "jupyter-js-widgets",
      "model_module_version": "~2.1.4",
      "model_name": "ImageModel",
      "state": {
       "_b64value": "iVBORw0KGgoAAAANSUhEUgAAACgAAAA8CAIAAACb22+3AAAA/UlEQVR4nO2XPQ6CQBSE94/TegUbKxtKGk1M1MTGBC1MtMASCwsaKuMBOIGtWVujGN7giyvhTblh52NmN7Cr00ulQJ2m8fvgcDSATBxKVUo512bWiww6oVgmrk7xeAb5wO9urUWnCLgd2Bh4W9T7QE9ftwvzWZNkTbfCEnPF7Q5Yax0G3L/EAv5CwGapslQ3aTXf84N5BVTN2HNIcP+qDpZYqv6ZBCxgAQu4e2DgW+29DwPmuhnD4CiKGMHUNb6dM0vTbpNTDKmJGa9rGJh3gQEw7/EDALNXTbK7l3njrelZx0PR6ElKzN6zgHsB/u/foiTmkJy5aiVVcyhY1Q988yDUB3xCzgAAAABJRU5ErkJggg==",
       "_model_module_version": "~2.1.4",
       "_view_module_version": "~2.1.4",
       "layout": "IPY_MODEL_c81d9156a9e24bd69020b031d43c6ff0",
       "width": "240"
      }
     },
     "2d8bb74476454b9fa9ec33b67c615f3e": {
      "model_module": "jupyter-js-widgets",
      "model_module_version": "~2.1.4",
      "model_name": "LayoutModel",
      "state": {
       "_model_module_version": "~2.1.4",
       "_view_module_version": "~2.1.4"
      }
     },
     "2da1c52c7a644479bc1df828a241414b": {
      "model_module": "jupyter-js-widgets",
      "model_module_version": "~2.1.4",
      "model_name": "LayoutModel",
      "state": {
       "_model_module_version": "~2.1.4",
       "_view_module_version": "~2.1.4"
      }
     },
     "2da7329e31b2461bb323a2aa1a39dc8b": {
      "model_module": "jupyter-js-widgets",
      "model_module_version": "~2.1.4",
      "model_name": "LayoutModel",
      "state": {
       "_model_module_version": "~2.1.4",
       "_view_module_version": "~2.1.4"
      }
     },
     "2daba476775440e7b8a5206ed8482b5f": {
      "model_module": "jupyter-js-widgets",
      "model_module_version": "~2.1.4",
      "model_name": "FloatSliderModel",
      "state": {
       "_model_module_version": "~2.1.4",
       "_view_module_version": "~2.1.4",
       "layout": "IPY_MODEL_ac55c0e1422146568d40025fe97fb773",
       "readout": false,
       "step": 0.1,
       "value": 100
      }
     },
     "2dae1b1fc04749918a845e9141e85ae7": {
      "model_module": "jupyter-js-widgets",
      "model_module_version": "~2.1.4",
      "model_name": "LayoutModel",
      "state": {
       "_model_module_version": "~2.1.4",
       "_view_module_version": "~2.1.4"
      }
     },
     "2ddb5c2ccbd64cb0b8e4aa4c3cdc79c5": {
      "model_module": "jupyter-js-widgets",
      "model_module_version": "~2.1.4",
      "model_name": "LayoutModel",
      "state": {
       "_model_module_version": "~2.1.4",
       "_view_module_version": "~2.1.4"
      }
     },
     "2e14f92626a64effbadce08a1b941158": {
      "model_module": "jupyter-js-widgets",
      "model_module_version": "~2.1.4",
      "model_name": "VBoxModel",
      "state": {
       "_model_module_version": "~2.1.4",
       "_view_module_version": "~2.1.4",
       "children": [
        "IPY_MODEL_26b13b1143e7485fb37714ca5e308f48",
        "IPY_MODEL_952765ec6609496699ef77465dd85a9e"
       ],
       "layout": "IPY_MODEL_667b4991d3f8489787cf0d2a142f1aa1"
      }
     },
     "2e59a109588d4c0dac81dc1feee7f0c0": {
      "model_module": "jupyter-js-widgets",
      "model_module_version": "~2.1.4",
      "model_name": "HBoxModel",
      "state": {
       "_model_module_version": "~2.1.4",
       "_view_module_version": "~2.1.4",
       "children": [
        "IPY_MODEL_78f7342d134a4f38a62d31224c80d3a2",
        "IPY_MODEL_9732191e3df0488494cd6157537b08ee"
       ],
       "layout": "IPY_MODEL_37c58dbba3764292a35b5ae00071c6c9"
      }
     },
     "2eb6f981f845445e8649c6911680c3b3": {
      "model_module": "jupyter-js-widgets",
      "model_module_version": "~2.1.4",
      "model_name": "LayoutModel",
      "state": {
       "_model_module_version": "~2.1.4",
       "_view_module_version": "~2.1.4"
      }
     },
     "2f0739c6f3d747c1ba62c23e901e4736": {
      "model_module": "jupyter-js-widgets",
      "model_module_version": "~2.1.4",
      "model_name": "ButtonStyleModel",
      "state": {
       "_model_module_version": "~2.1.4",
       "_view_module_version": "~2.1.4"
      }
     },
     "2f59ad5a5aca4452a47226f22b52ab8a": {
      "model_module": "jupyter-js-widgets",
      "model_module_version": "~2.1.4",
      "model_name": "VBoxModel",
      "state": {
       "_model_module_version": "~2.1.4",
       "_view_module_version": "~2.1.4",
       "children": [
        "IPY_MODEL_b733800228b34000ad31fd18e841ae7e",
        "IPY_MODEL_cd83fccf1b9c449f830104ec8db7e144"
       ],
       "layout": "IPY_MODEL_88cf4b0cb8174ddaac90356dd4ab7917"
      }
     },
     "2f8e669cf462428fbfb577e192e65462": {
      "model_module": "jupyter-js-widgets",
      "model_module_version": "~2.1.4",
      "model_name": "TextModel",
      "state": {
       "_model_module_version": "~2.1.4",
       "_view_module_version": "~2.1.4",
       "description": "Time:",
       "layout": "IPY_MODEL_e22a3ba03fc247cabf7bfeae16a44f10",
       "value": "0.00 seconds"
      }
     },
     "2f90fa4ba2f1409f9ee2229f5aa736f8": {
      "model_module": "jupyter-js-widgets",
      "model_module_version": "~2.1.4",
      "model_name": "OutputModel",
      "state": {
       "_dom_classes": [],
       "_model_module": "jupyter-js-widgets",
       "_model_module_version": "~2.1.4",
       "_view_module": "jupyter-js-widgets",
       "_view_module_version": "~2.1.4",
       "layout": "IPY_MODEL_b23cbfb8e5e94d87b56cb8e7de0fea49",
       "msg_throttle": 1
      }
     },
     "2f98ec035d9e4d7786a715ef4b4825d8": {
      "model_module": "jupyter-js-widgets",
      "model_module_version": "~2.1.4",
      "model_name": "LayoutModel",
      "state": {
       "_model_module_version": "~2.1.4",
       "_view_module_version": "~2.1.4"
      }
     },
     "2fbd511c06654e66945d07a0651af49e": {
      "model_module": "jupyter-js-widgets",
      "model_module_version": "~2.1.4",
      "model_name": "HBoxModel",
      "state": {
       "_model_module_version": "~2.1.4",
       "_view_module_version": "~2.1.4",
       "children": [
        "IPY_MODEL_230d047af7fb4981ba5c3a3830577578",
        "IPY_MODEL_97a6502721744e5fa9b05a304fbf36aa"
       ],
       "layout": "IPY_MODEL_1b50b03a779c4ef5ada87e89085e1a62"
      }
     },
     "2fe3c0e6f1994b0ba51c1d48174b57bf": {
      "model_module": "jupyter-js-widgets",
      "model_module_version": "~2.1.4",
      "model_name": "LayoutModel",
      "state": {
       "_model_module_version": "~2.1.4",
       "_view_module_version": "~2.1.4"
      }
     },
     "2ffda11d6e924d72a0d52243133499cf": {
      "model_module": "jupyter-js-widgets",
      "model_module_version": "~2.1.4",
      "model_name": "PlayModel",
      "state": {
       "_model_module_version": "~2.1.4",
       "_view_module_version": "~2.1.4",
       "layout": "IPY_MODEL_f73036def2944dd68836b4400967fde7",
       "max": 1000000,
       "value": 15
      }
     },
     "3031e297337c42c6b0a0c01b4f17818e": {
      "model_module": "jupyter-js-widgets",
      "model_module_version": "~2.1.4",
      "model_name": "VBoxModel",
      "state": {
       "_model_module_version": "~2.1.4",
       "_view_module_version": "~2.1.4",
       "children": [
        "IPY_MODEL_cec18006dd7847d7b5e4ae63a658ef0a",
        "IPY_MODEL_e4eb8fff56e5409a9d8edabdca1460af"
       ],
       "layout": "IPY_MODEL_4277baa8efce4b0c9e211fb02a14cd97"
      }
     },
     "3055d3aa9ab3437597b9ff42abd02b9d": {
      "model_module": "jupyter-js-widgets",
      "model_module_version": "~2.1.4",
      "model_name": "FloatSliderModel",
      "state": {
       "_model_module_version": "~2.1.4",
       "_view_module_version": "~2.1.4",
       "layout": "IPY_MODEL_7014670c411b4b7bb6758ce3e1f1338f",
       "readout": false,
       "step": 0.1,
       "value": 87.5
      }
     },
     "30c10cb1d0f641ddab150bb998f4403f": {
      "model_module": "jupyter-js-widgets",
      "model_module_version": "~2.1.4",
      "model_name": "OutputModel",
      "state": {
       "_dom_classes": [],
       "_model_module": "jupyter-js-widgets",
       "_model_module_version": "~2.1.4",
       "_view_module": "jupyter-js-widgets",
       "_view_module_version": "~2.1.4",
       "layout": "IPY_MODEL_c4c7b0459818492689bc6c3198a60786",
       "msg_throttle": 1
      }
     },
     "310410dc36cf4d9aaccb2bdc25f63870": {
      "model_module": "jupyter-js-widgets",
      "model_module_version": "~2.1.4",
      "model_name": "ButtonModel",
      "state": {
       "_model_module_version": "~2.1.4",
       "_view_module_version": "~2.1.4",
       "icon": "step-forward",
       "layout": "IPY_MODEL_eb30b09a21d24fabad54bc5f1ee5c625",
       "style": "IPY_MODEL_80c6412fc11a4008898613ba790b65c5"
      }
     },
     "310a6abcd7824beb962111351c449fa9": {
      "model_module": "jupyter-js-widgets",
      "model_module_version": "~2.1.4",
      "model_name": "LayoutModel",
      "state": {
       "_model_module_version": "~2.1.4",
       "_view_module_version": "~2.1.4",
       "height": "20px",
       "padding": "0px 0px 0px 0px",
       "width": "248px"
      }
     },
     "314c89c5a8854b9ca0770b88433d2fb1": {
      "model_module": "jupyter-js-widgets",
      "model_module_version": "~2.1.4",
      "model_name": "OutputModel",
      "state": {
       "_dom_classes": [],
       "_model_module": "jupyter-js-widgets",
       "_model_module_version": "~2.1.4",
       "_view_module": "jupyter-js-widgets",
       "_view_module_version": "~2.1.4",
       "layout": "IPY_MODEL_19ed7e34ac6a4d2dbd3f0c87c4f66782",
       "msg_throttle": 1
      }
     },
     "31a8d82a06404a938b244d2f1af88c50": {
      "model_module": "jupyter-js-widgets",
      "model_module_version": "~2.1.4",
      "model_name": "LayoutModel",
      "state": {
       "_model_module_version": "~2.1.4",
       "_view_module_version": "~2.1.4"
      }
     },
     "31b7b29a5edf4fc9810b5923133d9be0": {
      "model_module": "jupyter-js-widgets",
      "model_module_version": "~2.1.4",
      "model_name": "HBoxModel",
      "state": {
       "_model_module_version": "~2.1.4",
       "_view_module_version": "~2.1.4",
       "children": [
        "IPY_MODEL_82fa770469cd45ee876bc3b1d72f3030",
        "IPY_MODEL_d065502dfbd648dea56e4653cf7974a5"
       ],
       "layout": "IPY_MODEL_73e20adf41de4af396be848cfd94b8ca"
      }
     },
     "31d2f73aeb5948878106a456bb6993f7": {
      "model_module": "jupyter-js-widgets",
      "model_module_version": "~2.1.4",
      "model_name": "LayoutModel",
      "state": {
       "_model_module_version": "~2.1.4",
       "_view_module_version": "~2.1.4"
      }
     },
     "321cda134f264fdfacc70a4b38aee72a": {
      "model_module": "jupyter-js-widgets",
      "model_module_version": "~2.1.4",
      "model_name": "LayoutModel",
      "state": {
       "_model_module_version": "~2.1.4",
       "_view_module_version": "~2.1.4"
      }
     },
     "32326732216d406ba94c114505077058": {
      "model_module": "jupyter-js-widgets",
      "model_module_version": "~2.1.4",
      "model_name": "LayoutModel",
      "state": {
       "_model_module_version": "~2.1.4",
       "_view_module_version": "~2.1.4"
      }
     },
     "3269e479fe1a4b89a202b8f280d1b26a": {
      "model_module": "jupyter-js-widgets",
      "model_module_version": "~2.1.4",
      "model_name": "ImageModel",
      "state": {
       "_b64value": "iVBORw0KGgoAAAANSUhEUgAAADwAAAAoCAIAAAAt2Q6oAAAA8UlEQVR4nO3WoQ7CMBCA4d5d++gYggJDwMwgEJshATHkEIRgUCCwkxiwZAhGMxq2bIRcaXKfWOb655b0BvExV6FB3wHfkGguEs1ForlINBeJ5qJ9B5TuhwzeKaWqz+qLt+jbNkVEIgIARLRBbXSOztPYDqBuEg2KokBEYwwRdT3a+hx9SiJ8sZOofji/yuhdNCQirTURPVv9ZjXTm8kAAIwxvks6+OuJ1pFoLhLNJchouFzPSql+b+rc0w3L5Vcb0Vnj7f89ymjHeDQPL7rBLFqGF/0riyQLL9qxXu3Di+4kyCtPorlINBeJ5iLRXIKMfgDJGDkVat0rzwAAAABJRU5ErkJggg==",
       "_model_module_version": "~2.1.4",
       "_view_module_version": "~2.1.4",
       "layout": "IPY_MODEL_83d644362e7e49b1834b9ac3bd1ffb37",
       "width": "240"
      }
     },
     "32e3cf5e22b64570a6d6fea63431f065": {
      "model_module": "jupyter-js-widgets",
      "model_module_version": "~2.1.4",
      "model_name": "VBoxModel",
      "state": {
       "_model_module_version": "~2.1.4",
       "_view_module_version": "~2.1.4",
       "children": [
        "IPY_MODEL_0ee331ee062d4dcd8ee314bfbc340ad7",
        "IPY_MODEL_a727f6c18d6343018ec7481abc78e444"
       ],
       "layout": "IPY_MODEL_d0f0099cb4e5450ea4fc562ba8a0a19d"
      }
     },
     "32ee748a21be4a0c99bc361d2be66613": {
      "model_module": "jupyter-js-widgets",
      "model_module_version": "~2.1.4",
      "model_name": "ButtonModel",
      "state": {
       "_model_module_version": "~2.1.4",
       "_view_module_version": "~2.1.4",
       "description": "Clear",
       "layout": "IPY_MODEL_414b18e6018d48289d7c72f80bc74df0",
       "style": "IPY_MODEL_9783033639954d788c43605a427d2a46"
      }
     },
     "3328f684f4434340ad481f194cfbaa1b": {
      "model_module": "jupyter-js-widgets",
      "model_module_version": "~2.1.4",
      "model_name": "LayoutModel",
      "state": {
       "_model_module_version": "~2.1.4",
       "_view_module_version": "~2.1.4"
      }
     },
     "3354fe23706747c2be1d3d1e793da827": {
      "model_module": "jupyter-js-widgets",
      "model_module_version": "~2.1.4",
      "model_name": "LayoutModel",
      "state": {
       "_model_module_version": "~2.1.4",
       "_view_module_version": "~2.1.4"
      }
     },
     "344a7c784f084c29aad3c894ccbf99e5": {
      "model_module": "jupyter-js-widgets",
      "model_module_version": "~2.1.4",
      "model_name": "LayoutModel",
      "state": {
       "_model_module_version": "~2.1.4",
       "_view_module_version": "~2.1.4"
      }
     },
     "34837f63f3794f5d8eb62b63dcf66428": {
      "model_module": "jupyter-js-widgets",
      "model_module_version": "~2.1.4",
      "model_name": "LayoutModel",
      "state": {
       "_model_module_version": "~2.1.4",
       "_view_module_version": "~2.1.4"
      }
     },
     "349d99779ba14060a0aa91cc2690300f": {
      "model_module": "jupyter-js-widgets",
      "model_module_version": "~2.1.4",
      "model_name": "ButtonStyleModel",
      "state": {
       "_model_module_version": "~2.1.4",
       "_view_module_version": "~2.1.4"
      }
     },
     "35069ae05df94b80b66284e88e3310e3": {
      "model_module": "jupyter-js-widgets",
      "model_module_version": "~2.1.4",
      "model_name": "LayoutModel",
      "state": {
       "_model_module_version": "~2.1.4",
       "_view_module_version": "~2.1.4"
      }
     },
     "351b6c78396b42a9b42af926fe637f7f": {
      "model_module": "jupyter-js-widgets",
      "model_module_version": "~2.1.4",
      "model_name": "FloatSliderModel",
      "state": {
       "_model_module_version": "~2.1.4",
       "_view_module_version": "~2.1.4",
       "layout": "IPY_MODEL_5a43961f02184716b0e605bd51996fe3",
       "readout": false,
       "step": 0.1,
       "value": 86.312674894097
      }
     },
     "3521551e74cb489c996bdbba279a129e": {
      "model_module": "jupyter-js-widgets",
      "model_module_version": "~2.1.4",
      "model_name": "FloatSliderModel",
      "state": {
       "_model_module_version": "~2.1.4",
       "_view_module_version": "~2.1.4",
       "layout": "IPY_MODEL_0d8804da05074cc2bed7915ab4a94ce5",
       "readout": false,
       "step": 0.1,
       "value": 87.5
      }
     },
     "35414fce115a4ebeab694eadb23d4fb1": {
      "model_module": "jupyter-js-widgets",
      "model_module_version": "~2.1.4",
      "model_name": "LayoutModel",
      "state": {
       "_model_module_version": "~2.1.4",
       "_view_module_version": "~2.1.4"
      }
     },
     "354e3e22c97b4a549884540e04c75fce": {
      "model_module": "jupyter-js-widgets",
      "model_module_version": "~2.1.4",
      "model_name": "OutputModel",
      "state": {
       "_dom_classes": [],
       "_model_module": "jupyter-js-widgets",
       "_model_module_version": "~2.1.4",
       "_view_module": "jupyter-js-widgets",
       "_view_module_version": "~2.1.4",
       "layout": "IPY_MODEL_f1b94a2bb90341c2b13ea649e0a4147e",
       "msg_throttle": 1
      }
     },
     "359839063b1b457ba430d0f818b25426": {
      "model_module": "jupyter-js-widgets",
      "model_module_version": "~2.1.4",
      "model_name": "LayoutModel",
      "state": {
       "_model_module_version": "~2.1.4",
       "_view_module_version": "~2.1.4"
      }
     },
     "35d7b95fdd1d46dea0456caca3a94be2": {
      "model_module": "jupyter-js-widgets",
      "model_module_version": "~2.1.4",
      "model_name": "LayoutModel",
      "state": {
       "_model_module_version": "~2.1.4",
       "_view_module_version": "~2.1.4"
      }
     },
     "361b1be6dd04437ab8ebf461f80fd6ed": {
      "model_module": "jupyter-js-widgets",
      "model_module_version": "~2.1.4",
      "model_name": "OutputModel",
      "state": {
       "_dom_classes": [],
       "_model_module": "jupyter-js-widgets",
       "_model_module_version": "~2.1.4",
       "_view_module": "jupyter-js-widgets",
       "_view_module_version": "~2.1.4",
       "layout": "IPY_MODEL_f0434801a1b24b0c94b987531ce04052",
       "msg_throttle": 1
      }
     },
     "364472c54a95497789968913713272de": {
      "model_module": "jupyter-js-widgets",
      "model_module_version": "~2.1.4",
      "model_name": "LayoutModel",
      "state": {
       "_model_module_version": "~2.1.4",
       "_view_module_version": "~2.1.4"
      }
     },
     "364e37ccabf344619c0688439e8c0dd9": {
      "model_module": "jupyter-js-widgets",
      "model_module_version": "~2.1.4",
      "model_name": "LayoutModel",
      "state": {
       "_model_module_version": "~2.1.4",
       "_view_module_version": "~2.1.4"
      }
     },
     "36f8fa7be5154b5b83a553ea590afb46": {
      "model_module": "jupyter-js-widgets",
      "model_module_version": "~2.1.4",
      "model_name": "TextModel",
      "state": {
       "_model_module_version": "~2.1.4",
       "_view_module_version": "~2.1.4",
       "description": "Time:",
       "layout": "IPY_MODEL_8f15813701ca4df78f00b03da731fc0f",
       "value": "0.70 seconds"
      }
     },
     "3742b9d043da494c9e0df4bf0c63d1ff": {
      "model_module": "jupyter-js-widgets",
      "model_module_version": "~2.1.4",
      "model_name": "LayoutModel",
      "state": {
       "_model_module_version": "~2.1.4",
       "_view_module_version": "~2.1.4"
      }
     },
     "374caacfc9fe47de9d9889a1ff2162d5": {
      "model_module": "jupyter-js-widgets",
      "model_module_version": "~2.1.4",
      "model_name": "VBoxModel",
      "state": {
       "_model_module_version": "~2.1.4",
       "_view_module_version": "~2.1.4",
       "children": [
        "IPY_MODEL_f35c95b965dd4cab8be1c953f539ce71",
        "IPY_MODEL_4b47cc3fd8ca4366a44bb31aac06a833"
       ],
       "layout": "IPY_MODEL_ca83761e0e0b4228a05c07062d210b97"
      }
     },
     "376196577b274af38fa87cce22ee15ee": {
      "model_module": "jupyter-js-widgets",
      "model_module_version": "~2.1.4",
      "model_name": "HBoxModel",
      "state": {
       "_model_module_version": "~2.1.4",
       "_view_module_version": "~2.1.4",
       "children": [
        "IPY_MODEL_8da918b8837d4e24811a59e686928660",
        "IPY_MODEL_cc83a16e473f45348b8cfa8b126ef7cd"
       ],
       "layout": "IPY_MODEL_e90b885bba444da7a5f5c49f23007fce"
      }
     },
     "377c08501a804995bfbcda637af494c2": {
      "model_module": "jupyter-js-widgets",
      "model_module_version": "~2.1.4",
      "model_name": "ButtonModel",
      "state": {
       "_model_module_version": "~2.1.4",
       "_view_module_version": "~2.1.4",
       "icon": "step-forward",
       "layout": "IPY_MODEL_4654fcf903f444dd95c0aa5822961847",
       "style": "IPY_MODEL_4e2dae16b5654ec3a767b6b0e607735b"
      }
     },
     "379b0684a06c414b9b1735c197736c21": {
      "model_module": "jupyter-js-widgets",
      "model_module_version": "~2.1.4",
      "model_name": "ButtonModel",
      "state": {
       "_model_module_version": "~2.1.4",
       "_view_module_version": "~2.1.4",
       "description": "Clear",
       "layout": "IPY_MODEL_7293b605e89241cb9eb9c3ba0cf5e013",
       "style": "IPY_MODEL_57728563ed0a4857821bb88f32e5a689"
      }
     },
     "379f4ab9f90743baa3140d62c64243ed": {
      "model_module": "jupyter-js-widgets",
      "model_module_version": "~2.1.4",
      "model_name": "ButtonModel",
      "state": {
       "_model_module_version": "~2.1.4",
       "_view_module_version": "~2.1.4",
       "description": "Clear",
       "layout": "IPY_MODEL_a490c693797642abb5052cf55a2eaddf",
       "style": "IPY_MODEL_2f0739c6f3d747c1ba62c23e901e4736"
      }
     },
     "37b9741f574b4fbc9622be254eadeec8": {
      "model_module": "jupyter-js-widgets",
      "model_module_version": "~2.1.4",
      "model_name": "LayoutModel",
      "state": {
       "_model_module_version": "~2.1.4",
       "_view_module_version": "~2.1.4"
      }
     },
     "37c58dbba3764292a35b5ae00071c6c9": {
      "model_module": "jupyter-js-widgets",
      "model_module_version": "~2.1.4",
      "model_name": "LayoutModel",
      "state": {
       "_model_module_version": "~2.1.4",
       "_view_module_version": "~2.1.4"
      }
     },
     "37d66f3d721c4c3a835f3c36ac11d2f9": {
      "model_module": "jupyter-js-widgets",
      "model_module_version": "~2.1.4",
      "model_name": "LayoutModel",
      "state": {
       "_model_module_version": "~2.1.4",
       "_view_module_version": "~2.1.4"
      }
     },
     "37da67b290e0446bb18b2e3638b5179f": {
      "model_module": "jupyter-js-widgets",
      "model_module_version": "~2.1.4",
      "model_name": "HBoxModel",
      "state": {
       "_model_module_version": "~2.1.4",
       "_view_module_version": "~2.1.4",
       "children": [
        "IPY_MODEL_185ad5f2bd084c219b076f66a5baec08",
        "IPY_MODEL_cdacaece25f44b4b932f776c2418a3a1",
        "IPY_MODEL_e718921e198f4a3aa6007aa457c998f7"
       ],
       "layout": "IPY_MODEL_38fd1f74c4f14bbcb0cfbfad7ed242e9"
      }
     },
     "37e4956f2ced4339b7419fc25ac03b23": {
      "model_module": "jupyter-js-widgets",
      "model_module_version": "~2.1.4",
      "model_name": "CheckboxModel",
      "state": {
       "_model_module_version": "~2.1.4",
       "_view_module_version": "~2.1.4",
       "description": "Update GUI",
       "disabled": false,
       "layout": "IPY_MODEL_ab3187107bff4ddbb87bfc9ed2e76cf5",
       "value": true
      }
     },
     "37ea1f40f07b4d6bbc2da719199d1fe6": {
      "model_module": "jupyter-js-widgets",
      "model_module_version": "~2.1.4",
      "model_name": "LayoutModel",
      "state": {
       "_model_module_version": "~2.1.4",
       "_view_module_version": "~2.1.4",
       "height": "30px",
       "padding": "0px 0px 0px 10px",
       "width": "260px"
      }
     },
     "37f429e5607a4ec28209d5ebcb08cf58": {
      "model_module": "jupyter-js-widgets",
      "model_module_version": "~2.1.4",
      "model_name": "HBoxModel",
      "state": {
       "_model_module_version": "~2.1.4",
       "_view_module_version": "~2.1.4",
       "children": [
        "IPY_MODEL_864dee5aed0543659fe45fc6a722b80c",
        "IPY_MODEL_6fcd38c9eefe4f4e818a3a3c92956e6c"
       ],
       "layout": "IPY_MODEL_f2c4fc23d6964ff1951226b37f5d8855"
      }
     },
     "382650c75b314eaea965c63b7fd0493a": {
      "model_module": "jupyter-js-widgets",
      "model_module_version": "~2.1.4",
      "model_name": "VBoxModel",
      "state": {
       "_model_module_version": "~2.1.4",
       "_view_module_version": "~2.1.4",
       "children": [
        "IPY_MODEL_b6c040eaba2941b79b7f0c7830d01b08",
        "IPY_MODEL_eaaefce5a6344c4ab4bf9ffc2187710b",
        "IPY_MODEL_2f90fa4ba2f1409f9ee2229f5aa736f8"
       ],
       "layout": "IPY_MODEL_38a87bc5834d461092ae5b943ca4dc5e"
      }
     },
     "383d7ec5e8a74507ae9646715e65f87e": {
      "model_module": "jupyter-js-widgets",
      "model_module_version": "~2.1.4",
      "model_name": "FloatSliderModel",
      "state": {
       "_model_module_version": "~2.1.4",
       "_view_module_version": "~2.1.4",
       "layout": "IPY_MODEL_b03d0d70c0ef4492b2c9cb14c84b3c21",
       "orientation": "vertical",
       "readout": false,
       "step": 0.1,
       "value": 51.24999999999999
      }
     },
     "385bd0468ba44c0cbfa736ee505e9cf1": {
      "model_module": "jupyter-js-widgets",
      "model_module_version": "~2.1.4",
      "model_name": "FloatSliderModel",
      "state": {
       "_model_module_version": "~2.1.4",
       "_view_module_version": "~2.1.4",
       "layout": "IPY_MODEL_8e4fb976b6e5417ca948661900ece938",
       "orientation": "vertical",
       "readout": false,
       "step": 0.1,
       "value": 50
      }
     },
     "3866b017b1e34e32b1f708a2520b8890": {
      "model_module": "jupyter-js-widgets",
      "model_module_version": "~2.1.4",
      "model_name": "FloatSliderModel",
      "state": {
       "_model_module_version": "~2.1.4",
       "_view_module_version": "~2.1.4",
       "layout": "IPY_MODEL_58403090316c401d83d5018892452c25",
       "readout": false,
       "step": 0.1,
       "value": 95.22535170724315
      }
     },
     "38a87bc5834d461092ae5b943ca4dc5e": {
      "model_module": "jupyter-js-widgets",
      "model_module_version": "~2.1.4",
      "model_name": "LayoutModel",
      "state": {
       "_model_module_version": "~2.1.4",
       "_view_module_version": "~2.1.4"
      }
     },
     "38bff22e8b734843831498b51617dee9": {
      "model_module": "jupyter-js-widgets",
      "model_module_version": "~2.1.4",
      "model_name": "LayoutModel",
      "state": {
       "_model_module_version": "~2.1.4",
       "_view_module_version": "~2.1.4"
      }
     },
     "38fd1f74c4f14bbcb0cfbfad7ed242e9": {
      "model_module": "jupyter-js-widgets",
      "model_module_version": "~2.1.4",
      "model_name": "LayoutModel",
      "state": {
       "_model_module_version": "~2.1.4",
       "_view_module_version": "~2.1.4"
      }
     },
     "3946da5a18b3491099a1f159fcafbf39": {
      "model_module": "jupyter-js-widgets",
      "model_module_version": "~2.1.4",
      "model_name": "CheckboxModel",
      "state": {
       "_model_module_version": "~2.1.4",
       "_view_module_version": "~2.1.4",
       "description": "Update GUI",
       "disabled": false,
       "layout": "IPY_MODEL_764c2716a2694dd5837379994334e3f7",
       "value": true
      }
     },
     "394706d19e944867a9b4aa0252165374": {
      "model_module": "jupyter-js-widgets",
      "model_module_version": "~2.1.4",
      "model_name": "LayoutModel",
      "state": {
       "_model_module_version": "~2.1.4",
       "_view_module_version": "~2.1.4"
      }
     },
     "399ab22db04447c5bbed9db7ef17ca2a": {
      "model_module": "jupyter-js-widgets",
      "model_module_version": "~2.1.4",
      "model_name": "LayoutModel",
      "state": {
       "_model_module_version": "~2.1.4",
       "_view_module_version": "~2.1.4"
      }
     },
     "399d4a783c7e4794b0d7d90321503bcc": {
      "model_module": "jupyter-js-widgets",
      "model_module_version": "~2.1.4",
      "model_name": "LayoutModel",
      "state": {
       "_model_module_version": "~2.1.4",
       "_view_module_version": "~2.1.4"
      }
     },
     "39be4f371c764bbcbc70a126a96e87fe": {
      "model_module": "jupyter-js-widgets",
      "model_module_version": "~2.1.4",
      "model_name": "ButtonModel",
      "state": {
       "_model_module_version": "~2.1.4",
       "_view_module_version": "~2.1.4",
       "description": "Clear",
       "layout": "IPY_MODEL_17b63b188abf4be09118722026325543",
       "style": "IPY_MODEL_f50a3d4cfa9c4e43baa2c16b08a5c474"
      }
     },
     "39d6ad9ab047440d8d6ff9f80c1ffda6": {
      "model_module": "jupyter-js-widgets",
      "model_module_version": "~2.1.4",
      "model_name": "LayoutModel",
      "state": {
       "_model_module_version": "~2.1.4",
       "_view_module_version": "~2.1.4"
      }
     },
     "3a10e72751fa4c52b054b8e27577d4ec": {
      "model_module": "jupyter-js-widgets",
      "model_module_version": "~2.1.4",
      "model_name": "ButtonStyleModel",
      "state": {
       "_model_module_version": "~2.1.4",
       "_view_module_version": "~2.1.4"
      }
     },
     "3a4b35f75b414c7a86ea23e8ba52be94": {
      "model_module": "jupyter-js-widgets",
      "model_module_version": "~2.1.4",
      "model_name": "LayoutModel",
      "state": {
       "_model_module_version": "~2.1.4",
       "_view_module_version": "~2.1.4",
       "height": "30px",
       "padding": "0px 0px 0px 10px",
       "width": "260px"
      }
     },
     "3a85d760959e4c59b651fddfcfb5d19a": {
      "model_module": "jupyter-js-widgets",
      "model_module_version": "~2.1.4",
      "model_name": "FloatSliderModel",
      "state": {
       "_model_module_version": "~2.1.4",
       "_view_module_version": "~2.1.4",
       "layout": "IPY_MODEL_7e4f72b0ac754505a09a8631083c7dad",
       "orientation": "vertical",
       "readout": false,
       "step": 0.1,
       "value": 50
      }
     },
     "3ab89aec84a84d2fa333b55b3d0ef159": {
      "model_module": "jupyter-js-widgets",
      "model_module_version": "~2.1.4",
      "model_name": "LayoutModel",
      "state": {
       "_model_module_version": "~2.1.4",
       "_view_module_version": "~2.1.4"
      }
     },
     "3abf2327ef7549ba9fbefb3aa7a5309c": {
      "model_module": "jupyter-js-widgets",
      "model_module_version": "~2.1.4",
      "model_name": "PlayModel",
      "state": {
       "_model_module_version": "~2.1.4",
       "_view_module_version": "~2.1.4",
       "layout": "IPY_MODEL_07caad2ee9ff454aa12ca22317d287fd",
       "max": 1000000
      }
     },
     "3accbc4b7add4fa184e158fdda4cf71e": {
      "model_module": "jupyter-js-widgets",
      "model_module_version": "~2.1.4",
      "model_name": "LayoutModel",
      "state": {
       "_model_module_version": "~2.1.4",
       "_view_module_version": "~2.1.4"
      }
     },
     "3af021ef0c5d4c5db03bf4373c679b02": {
      "model_module": "jupyter-js-widgets",
      "model_module_version": "~2.1.4",
      "model_name": "LayoutModel",
      "state": {
       "_model_module_version": "~2.1.4",
       "_view_module_version": "~2.1.4"
      }
     },
     "3b0f0d9c2fec468d9e1c429e6f12eabb": {
      "model_module": "jupyter-js-widgets",
      "model_module_version": "~2.1.4",
      "model_name": "LayoutModel",
      "state": {
       "_model_module_version": "~2.1.4",
       "_view_module_version": "~2.1.4"
      }
     },
     "3b263311d2294d6c9b6522fdf8a6c9c9": {
      "model_module": "jupyter-js-widgets",
      "model_module_version": "~2.1.4",
      "model_name": "TextModel",
      "state": {
       "_model_module_version": "~2.1.4",
       "_view_module_version": "~2.1.4",
       "description": "Time:",
       "layout": "IPY_MODEL_771331b69b2b4c0ca98ee6da4862ae57",
       "value": "0.00 seconds"
      }
     },
     "3b66932d0b634c1da2e9412b3cc5c92c": {
      "model_module": "jupyter-js-widgets",
      "model_module_version": "~2.1.4",
      "model_name": "PlayModel",
      "state": {
       "_model_module_version": "~2.1.4",
       "_view_module_version": "~2.1.4",
       "layout": "IPY_MODEL_3fb3254932d8471096c819a10c98e1d8",
       "max": 1000000
      }
     },
     "3b820d00df534bfe8a9bb76b8c9d57d0": {
      "model_module": "jupyter-js-widgets",
      "model_module_version": "~2.1.4",
      "model_name": "LayoutModel",
      "state": {
       "_model_module_version": "~2.1.4",
       "_view_module_version": "~2.1.4"
      }
     },
     "3b9f524253ec4b7fa4497e54f5138053": {
      "model_module": "jupyter-js-widgets",
      "model_module_version": "~2.1.4",
      "model_name": "LayoutModel",
      "state": {
       "_model_module_version": "~2.1.4",
       "_view_module_version": "~2.1.4"
      }
     },
     "3bbcaf9ff3224822a86f484b59a50fd8": {
      "model_module": "jupyter-js-widgets",
      "model_module_version": "~2.1.4",
      "model_name": "LayoutModel",
      "state": {
       "_model_module_version": "~2.1.4",
       "_view_module_version": "~2.1.4"
      }
     },
     "3bd14d682e464de584dbd2c33a944d62": {
      "model_module": "jupyter-js-widgets",
      "model_module_version": "~2.1.4",
      "model_name": "TextModel",
      "state": {
       "_model_module_version": "~2.1.4",
       "_view_module_version": "~2.1.4",
       "description": "Time:",
       "layout": "IPY_MODEL_b4aa2372008b47e49b3b36f7ba34bace",
       "value": "0.0 seconds"
      }
     },
     "3c0a70225beb477d89430ec4c7c61db3": {
      "model_module": "jupyter-js-widgets",
      "model_module_version": "~2.1.4",
      "model_name": "LayoutModel",
      "state": {
       "_model_module_version": "~2.1.4",
       "_view_module_version": "~2.1.4"
      }
     },
     "3c377c731faf4cb3b357c4f0912e63a5": {
      "model_module": "jupyter-js-widgets",
      "model_module_version": "~2.1.4",
      "model_name": "ButtonModel",
      "state": {
       "_model_module_version": "~2.1.4",
       "_view_module_version": "~2.1.4",
       "description": "Clear",
       "layout": "IPY_MODEL_32326732216d406ba94c114505077058",
       "style": "IPY_MODEL_481e6f6056dd481b8a930885515cc7e1"
      }
     },
     "3c5987c4cd1448c2951ad620cab4a830": {
      "model_module": "jupyter-js-widgets",
      "model_module_version": "~2.1.4",
      "model_name": "LayoutModel",
      "state": {
       "_model_module_version": "~2.1.4",
       "_view_module_version": "~2.1.4"
      }
     },
     "3c75bab7d70e4727a67a0b94bc219036": {
      "model_module": "jupyter-js-widgets",
      "model_module_version": "~2.1.4",
      "model_name": "LayoutModel",
      "state": {
       "_model_module_version": "~2.1.4",
       "_view_module_version": "~2.1.4",
       "height": "20px",
       "padding": "0px 0px 0px 0px",
       "width": "248px"
      }
     },
     "3c8747681b6943ea9b807f8042aaff92": {
      "model_module": "jupyter-js-widgets",
      "model_module_version": "~2.1.4",
      "model_name": "LayoutModel",
      "state": {
       "_model_module_version": "~2.1.4",
       "_view_module_version": "~2.1.4"
      }
     },
     "3c98cb1d697c4ef1ab2b1926084247c6": {
      "model_module": "jupyter-js-widgets",
      "model_module_version": "~2.1.4",
      "model_name": "LayoutModel",
      "state": {
       "_model_module_version": "~2.1.4",
       "_view_module_version": "~2.1.4",
       "height": "30px",
       "padding": "0px 0px 0px 10px",
       "width": "260px"
      }
     },
     "3cfcf59bbd9246cebc8dcfe5b286c97b": {
      "model_module": "jupyter-js-widgets",
      "model_module_version": "~2.1.4",
      "model_name": "LayoutModel",
      "state": {
       "_model_module_version": "~2.1.4",
       "_view_module_version": "~2.1.4"
      }
     },
     "3d17a1b3505d4b9ab6ec88a624156bd2": {
      "model_module": "jupyter-js-widgets",
      "model_module_version": "~2.1.4",
      "model_name": "LayoutModel",
      "state": {
       "_model_module_version": "~2.1.4",
       "_view_module_version": "~2.1.4"
      }
     },
     "3d5b23b5ddaa442db2d5a2f9cf886093": {
      "model_module": "jupyter-js-widgets",
      "model_module_version": "~2.1.4",
      "model_name": "ButtonStyleModel",
      "state": {
       "_model_module_version": "~2.1.4",
       "_view_module_version": "~2.1.4"
      }
     },
     "3d8d329992c5429fb58fa5c421860448": {
      "model_module": "jupyter-js-widgets",
      "model_module_version": "~2.1.4",
      "model_name": "ButtonStyleModel",
      "state": {
       "_model_module_version": "~2.1.4",
       "_view_module_version": "~2.1.4"
      }
     },
     "3dd01a958dd940eab72cdfc3441b8b4f": {
      "model_module": "jupyter-js-widgets",
      "model_module_version": "~2.1.4",
      "model_name": "LayoutModel",
      "state": {
       "_model_module_version": "~2.1.4",
       "_view_module_version": "~2.1.4"
      }
     },
     "3de234004e914e289dcdcc35b6c6d3df": {
      "model_module": "jupyter-js-widgets",
      "model_module_version": "~2.1.4",
      "model_name": "FloatSliderModel",
      "state": {
       "_model_module_version": "~2.1.4",
       "_view_module_version": "~2.1.4",
       "layout": "IPY_MODEL_dd31a0c39b1248a2854c9880c0bd9b87",
       "readout": false,
       "step": 0.1,
       "value": 100
      }
     },
     "3df49555401a40919d02f3d4b3493fd8": {
      "model_module": "jupyter-js-widgets",
      "model_module_version": "~2.1.4",
      "model_name": "HTMLModel",
      "state": {
       "_model_module_version": "~2.1.4",
       "_view_module_version": "~2.1.4",
       "layout": "IPY_MODEL_6c6ca10af11a495b9d03e11baa296ccd",
       "value": "<svg baseProfile=\"full\" height=\"240\" version=\"1.1\" width=\"240\" xmlns=\"http://www.w3.org/2000/svg\" xmlns:ev=\"http://www.w3.org/2001/xml-events\" xmlns:xlink=\"http://www.w3.org/1999/xlink\"><defs /><rect fill=\"white\" height=\"240\" stroke=\"#000000\" stroke-width=\"1\" width=\"240\" x=\"0\" y=\"0\" /><rect fill=\"#eef3dd\" height=\"240.0\" stroke=\"#bebebe\" stroke-width=\"1\" width=\"240.0\" x=\"0.0\" y=\"0.0\" /><circle cx=\"120.0\" cy=\"195.0\" fill=\"#ffff00\" r=\"15.0\" stroke=\"#ffff00\" stroke-width=\"1\" /><line fill=\"#800080\" stroke=\"#add8e6\" stroke-width=\"1\" x1=\"199.5\" x2=\"0.0\" y1=\"114.0\" y2=\"114.0\" /><line fill=\"#800080\" stroke=\"#add8e6\" stroke-width=\"1\" x1=\"201.0\" x2=\"0.0\" y1=\"109.80000000000001\" y2=\"16.07215199999999\" /><line fill=\"#800080\" stroke=\"#add8e6\" stroke-width=\"1\" x1=\"203.4\" x2=\"112.77724019461742\" y1=\"107.99999999999999\" y2=\"0.0\" /><line fill=\"#800080\" stroke=\"#add8e6\" stroke-width=\"1\" x1=\"207.0\" x2=\"178.4634099424212\" y1=\"106.5\" y2=\"0.0\" /><line fill=\"#800080\" stroke=\"#add8e6\" stroke-width=\"1\" x1=\"213.0\" x2=\"240.0\" y1=\"106.5\" y2=\"5.734632000000062\" /><line fill=\"#800080\" stroke=\"#add8e6\" stroke-width=\"1\" x1=\"216.6\" x2=\"240.0\" y1=\"107.99999999999999\" y2=\"80.11296600000001\" /><line fill=\"#800080\" stroke=\"#add8e6\" stroke-width=\"1\" x1=\"219.0\" x2=\"240.0\" y1=\"109.80000000000001\" y2=\"100.007538\" /><line fill=\"#800080\" stroke=\"#add8e6\" stroke-width=\"1\" x1=\"220.5\" x2=\"240.0\" y1=\"114.0\" y2=\"114.0\" /><line fill=\"#800080\" stroke=\"#add8e6\" stroke-width=\"1\" x1=\"220.5\" x2=\"240.0\" y1=\"126.0\" y2=\"126.0\" /><line fill=\"#800080\" stroke=\"#add8e6\" stroke-width=\"1\" x1=\"219.0\" x2=\"240.0\" y1=\"130.2\" y2=\"139.992462\" /><line fill=\"#800080\" stroke=\"#add8e6\" stroke-width=\"1\" x1=\"216.6\" x2=\"240.0\" y1=\"132.0\" y2=\"159.88703399999997\" /><line fill=\"#800080\" stroke=\"#add8e6\" stroke-width=\"1\" x1=\"213.0\" x2=\"240.0\" y1=\"133.5\" y2=\"234.26536799999994\" /><line fill=\"#800080\" stroke=\"#add8e6\" stroke-width=\"1\" x1=\"207.0\" x2=\"178.4634099424212\" y1=\"133.5\" y2=\"240.0\" /><line fill=\"#800080\" stroke=\"#add8e6\" stroke-width=\"1\" x1=\"203.4\" x2=\"112.7772401946174\" y1=\"132.0\" y2=\"240.0\" /><line fill=\"#800080\" stroke=\"#add8e6\" stroke-width=\"1\" x1=\"201.0\" x2=\"0.0\" y1=\"130.2\" y2=\"223.927848\" /><line fill=\"#800080\" stroke=\"#add8e6\" stroke-width=\"1\" x1=\"199.5\" x2=\"0.0\" y1=\"126.0\" y2=\"126.0\" /><line fill=\"#800080\" stroke=\"#a020f0\" stroke-width=\"1\" x1=\"210.0\" x2=\"2.1539193796210117\" y1=\"120.0\" y2=\"0.0\" /><line fill=\"#800080\" stroke=\"#a020f0\" stroke-width=\"1\" x1=\"210.0\" x2=\"240.0\" y1=\"120.0\" y2=\"102.67948799999999\" /><line fill=\"#800080\" stroke=\"#ffa500\" stroke-width=\"1\" x1=\"120.0\" x2=\"199.5\" y1=\"195.0\" y2=\"106.5\" /><line fill=\"#800080\" stroke=\"#ffa500\" stroke-width=\"1\" x1=\"120.0\" x2=\"220.5\" y1=\"195.0\" y2=\"106.5\" /><polygon fill=\"red\" points=\"205.2,106.5 199.5,111.0 199.5,129.0 205.2,133.5 214.8,133.5 220.5,129.0 220.5,111.0 214.8,106.5\" stroke=\"red\" stroke-width=\"1\" /><polygon points=\"-3.0,-3.0 0,0 3.0,-3.0 0,3.0\" stroke=\"black\" stroke-width=\"1\" transform=\"translate(210.0,120.0) rotate(180.0)\" /><polygon fill=\"black\" points=\"213.6,111.6 213.6,116.39999999999999 206.4,116.39999999999999 206.4,111.6\" stroke=\"black\" stroke-width=\"1\" /><circle cx=\"199.5\" cy=\"106.5\" fill=\"yellow\" r=\"1.5\" stroke=\"orange\" stroke-width=\"1\" /><circle cx=\"220.5\" cy=\"106.5\" fill=\"yellow\" r=\"1.5\" stroke=\"orange\" stroke-width=\"1\" /></svg>"
      }
     },
     "3e00306da1474617ac5adcd09ee35a3a": {
      "model_module": "jupyter-js-widgets",
      "model_module_version": "~2.1.4",
      "model_name": "LayoutModel",
      "state": {
       "_model_module_version": "~2.1.4",
       "_view_module_version": "~2.1.4"
      }
     },
     "3e60c6b4afdf4ae488650589c2f0a1bb": {
      "model_module": "jupyter-js-widgets",
      "model_module_version": "~2.1.4",
      "model_name": "HBoxModel",
      "state": {
       "_model_module_version": "~2.1.4",
       "_view_module_version": "~2.1.4",
       "children": [
        "IPY_MODEL_9d378c33cf2b4ba9a352718192df3aed",
        "IPY_MODEL_8be7ed3ba27745dbb88c9623108a3e4f"
       ],
       "layout": "IPY_MODEL_9bd213be35b444f68835b9d73dcf4486"
      }
     },
     "3e6e07e8fad44ac885e4348593a26d19": {
      "model_module": "jupyter-js-widgets",
      "model_module_version": "~2.1.4",
      "model_name": "HBoxModel",
      "state": {
       "_model_module_version": "~2.1.4",
       "_view_module_version": "~2.1.4",
       "children": [
        "IPY_MODEL_0ac20dce6c974c44a105b09ea11bf945",
        "IPY_MODEL_912f6e457e1143b1aab4ff4c0e5dbe6b"
       ],
       "layout": "IPY_MODEL_f4714c87021f41dea537812c2be34fbf"
      }
     },
     "3e7d5ad9eec94699b1525fcf68b226e3": {
      "model_module": "jupyter-js-widgets",
      "model_module_version": "~2.1.4",
      "model_name": "LayoutModel",
      "state": {
       "_model_module_version": "~2.1.4",
       "_view_module_version": "~2.1.4"
      }
     },
     "3f173c501e4246638b48b7a07547f5ba": {
      "model_module": "jupyter-js-widgets",
      "model_module_version": "~2.1.4",
      "model_name": "HBoxModel",
      "state": {
       "_model_module_version": "~2.1.4",
       "_view_module_version": "~2.1.4",
       "children": [
        "IPY_MODEL_e769733be6504d57b5905c86fbaf49cb",
        "IPY_MODEL_8497eaee58bf4f17a00489025e8fc3d0"
       ],
       "layout": "IPY_MODEL_09876301ccab436988321131cd1fac7b"
      }
     },
     "3f1b024bc12545ff82df3202d8fb413b": {
      "model_module": "jupyter-js-widgets",
      "model_module_version": "~2.1.4",
      "model_name": "HTMLModel",
      "state": {
       "_model_module_version": "~2.1.4",
       "_view_module_version": "~2.1.4",
       "layout": "IPY_MODEL_5c8e6e05ed2e497d9514d197d208ba28",
       "value": "<svg baseProfile=\"full\" height=\"240\" version=\"1.1\" width=\"240\" xmlns=\"http://www.w3.org/2000/svg\" xmlns:ev=\"http://www.w3.org/2001/xml-events\" xmlns:xlink=\"http://www.w3.org/1999/xlink\"><defs /><rect fill=\"white\" height=\"240\" stroke=\"#000000\" stroke-width=\"1\" width=\"240\" x=\"0\" y=\"0\" /><rect fill=\"#eef3dd\" height=\"240.0\" stroke=\"#bebebe\" stroke-width=\"1\" width=\"240.0\" x=\"0.0\" y=\"0.0\" /><circle cx=\"120.0\" cy=\"195.0\" fill=\"#ffff00\" r=\"15.0\" stroke=\"#ffff00\" stroke-width=\"1\" /><line fill=\"#800080\" stroke=\"#add8e6\" stroke-width=\"1\" x1=\"199.5\" x2=\"0.0\" y1=\"114.0\" y2=\"114.0\" /><line fill=\"#800080\" stroke=\"#add8e6\" stroke-width=\"1\" x1=\"201.0\" x2=\"0.0\" y1=\"109.80000000000001\" y2=\"16.07215199999999\" /><line fill=\"#800080\" stroke=\"#add8e6\" stroke-width=\"1\" x1=\"203.4\" x2=\"112.77724019461742\" y1=\"107.99999999999999\" y2=\"0.0\" /><line fill=\"#800080\" stroke=\"#add8e6\" stroke-width=\"1\" x1=\"207.0\" x2=\"178.4634099424212\" y1=\"106.5\" y2=\"0.0\" /><line fill=\"#800080\" stroke=\"#add8e6\" stroke-width=\"1\" x1=\"213.0\" x2=\"240.0\" y1=\"106.5\" y2=\"5.734632000000062\" /><line fill=\"#800080\" stroke=\"#add8e6\" stroke-width=\"1\" x1=\"216.6\" x2=\"240.0\" y1=\"107.99999999999999\" y2=\"80.11296600000001\" /><line fill=\"#800080\" stroke=\"#add8e6\" stroke-width=\"1\" x1=\"219.0\" x2=\"240.0\" y1=\"109.80000000000001\" y2=\"100.007538\" /><line fill=\"#800080\" stroke=\"#add8e6\" stroke-width=\"1\" x1=\"220.5\" x2=\"240.0\" y1=\"114.0\" y2=\"114.0\" /><line fill=\"#800080\" stroke=\"#add8e6\" stroke-width=\"1\" x1=\"220.5\" x2=\"240.0\" y1=\"126.0\" y2=\"126.0\" /><line fill=\"#800080\" stroke=\"#add8e6\" stroke-width=\"1\" x1=\"219.0\" x2=\"240.0\" y1=\"130.2\" y2=\"139.992462\" /><line fill=\"#800080\" stroke=\"#add8e6\" stroke-width=\"1\" x1=\"216.6\" x2=\"240.0\" y1=\"132.0\" y2=\"159.88703399999997\" /><line fill=\"#800080\" stroke=\"#add8e6\" stroke-width=\"1\" x1=\"213.0\" x2=\"240.0\" y1=\"133.5\" y2=\"234.26536799999994\" /><line fill=\"#800080\" stroke=\"#add8e6\" stroke-width=\"1\" x1=\"207.0\" x2=\"178.4634099424212\" y1=\"133.5\" y2=\"240.0\" /><line fill=\"#800080\" stroke=\"#add8e6\" stroke-width=\"1\" x1=\"203.4\" x2=\"112.7772401946174\" y1=\"132.0\" y2=\"240.0\" /><line fill=\"#800080\" stroke=\"#add8e6\" stroke-width=\"1\" x1=\"201.0\" x2=\"0.0\" y1=\"130.2\" y2=\"223.927848\" /><line fill=\"#800080\" stroke=\"#add8e6\" stroke-width=\"1\" x1=\"199.5\" x2=\"0.0\" y1=\"126.0\" y2=\"126.0\" /><line fill=\"#800080\" stroke=\"#a020f0\" stroke-width=\"1\" x1=\"210.0\" x2=\"2.1539193796210117\" y1=\"120.0\" y2=\"0.0\" /><line fill=\"#800080\" stroke=\"#a020f0\" stroke-width=\"1\" x1=\"210.0\" x2=\"240.0\" y1=\"120.0\" y2=\"102.67948799999999\" /><line fill=\"#800080\" stroke=\"#ffa500\" stroke-width=\"1\" x1=\"120.0\" x2=\"199.5\" y1=\"195.0\" y2=\"106.5\" /><line fill=\"#800080\" stroke=\"#ffa500\" stroke-width=\"1\" x1=\"120.0\" x2=\"220.5\" y1=\"195.0\" y2=\"106.5\" /><polygon fill=\"red\" points=\"205.2,106.5 199.5,111.0 199.5,129.0 205.2,133.5 214.8,133.5 220.5,129.0 220.5,111.0 214.8,106.5\" stroke=\"red\" stroke-width=\"1\" /><polygon points=\"-3.0,-3.0 0,0 3.0,-3.0 0,3.0\" stroke=\"black\" stroke-width=\"1\" transform=\"translate(210.0,120.0) rotate(180.0)\" /><polygon fill=\"black\" points=\"213.6,111.6 213.6,116.39999999999999 206.4,116.39999999999999 206.4,111.6\" stroke=\"black\" stroke-width=\"1\" /><circle cx=\"199.5\" cy=\"106.5\" fill=\"yellow\" r=\"1.5\" stroke=\"orange\" stroke-width=\"1\" /><circle cx=\"220.5\" cy=\"106.5\" fill=\"yellow\" r=\"1.5\" stroke=\"orange\" stroke-width=\"1\" /></svg>"
      }
     },
     "3f253cabe0994ff285db1998a802d576": {
      "model_module": "jupyter-js-widgets",
      "model_module_version": "~2.1.4",
      "model_name": "FloatSliderModel",
      "state": {
       "_model_module_version": "~2.1.4",
       "_view_module_version": "~2.1.4",
       "layout": "IPY_MODEL_d70c04705e154822a14cb99358015784",
       "orientation": "vertical",
       "readout": false,
       "step": 0.1,
       "value": 50
      }
     },
     "3f383dcfecf949648a23483615d9f944": {
      "model_module": "jupyter-js-widgets",
      "model_module_version": "~2.1.4",
      "model_name": "LayoutModel",
      "state": {
       "_model_module_version": "~2.1.4",
       "_view_module_version": "~2.1.4",
       "height": "30px",
       "padding": "0px 0px 0px 10px",
       "width": "260px"
      }
     },
     "3f47eb961ecf4140ac32633c5adef806": {
      "model_module": "jupyter-js-widgets",
      "model_module_version": "~2.1.4",
      "model_name": "LayoutModel",
      "state": {
       "_model_module_version": "~2.1.4",
       "_view_module_version": "~2.1.4",
       "height": "20px",
       "padding": "0px 0px 0px 0px",
       "width": "248px"
      }
     },
     "3f6e4d61f42545418810257e3af8b934": {
      "model_module": "jupyter-js-widgets",
      "model_module_version": "~2.1.4",
      "model_name": "LayoutModel",
      "state": {
       "_model_module_version": "~2.1.4",
       "_view_module_version": "~2.1.4"
      }
     },
     "3f99b1d8293d4edaad8b87e047c321a9": {
      "model_module": "jupyter-js-widgets",
      "model_module_version": "~2.1.4",
      "model_name": "TextModel",
      "state": {
       "_model_module_version": "~2.1.4",
       "_view_module_version": "~2.1.4",
       "description": "Time:",
       "layout": "IPY_MODEL_80d6e872e6eb408d9006161601f92922",
       "value": "5.40 seconds"
      }
     },
     "3fb3254932d8471096c819a10c98e1d8": {
      "model_module": "jupyter-js-widgets",
      "model_module_version": "~2.1.4",
      "model_name": "LayoutModel",
      "state": {
       "_model_module_version": "~2.1.4",
       "_view_module_version": "~2.1.4"
      }
     },
     "3fe19bf47e1a4e50be6226b013226379": {
      "model_module": "jupyter-js-widgets",
      "model_module_version": "~2.1.4",
      "model_name": "ButtonModel",
      "state": {
       "_model_module_version": "~2.1.4",
       "_view_module_version": "~2.1.4",
       "description": "Clear",
       "layout": "IPY_MODEL_769fbfe892c7497185ca9e5061f2bb37",
       "style": "IPY_MODEL_504ebb6c52bd453894909f446eb74ab8"
      }
     },
     "4016e3e966a34551a7baf407af29ea52": {
      "model_module": "jupyter-js-widgets",
      "model_module_version": "~2.1.4",
      "model_name": "LayoutModel",
      "state": {
       "_model_module_version": "~2.1.4",
       "_view_module_version": "~2.1.4",
       "height": "30px",
       "padding": "0px 0px 0px 10px",
       "width": "260px"
      }
     },
     "403b7aa2eed8431d8cd9c8cac575f0fd": {
      "model_module": "jupyter-js-widgets",
      "model_module_version": "~2.1.4",
      "model_name": "LayoutModel",
      "state": {
       "_model_module_version": "~2.1.4",
       "_view_module_version": "~2.1.4"
      }
     },
     "40564d89525f4790b83b9761d9e22f74": {
      "model_module": "jupyter-js-widgets",
      "model_module_version": "~2.1.4",
      "model_name": "LayoutModel",
      "state": {
       "_model_module_version": "~2.1.4",
       "_view_module_version": "~2.1.4"
      }
     },
     "4076f5c290594dfda4f5ac14c3ca00bc": {
      "model_module": "jupyter-js-widgets",
      "model_module_version": "~2.1.4",
      "model_name": "LayoutModel",
      "state": {
       "_model_module_version": "~2.1.4",
       "_view_module_version": "~2.1.4"
      }
     },
     "40781e09aca14060871df645183d09d7": {
      "model_module": "jupyter-js-widgets",
      "model_module_version": "~2.1.4",
      "model_name": "OutputModel",
      "state": {
       "_dom_classes": [],
       "_model_module": "jupyter-js-widgets",
       "_model_module_version": "~2.1.4",
       "_view_module": "jupyter-js-widgets",
       "_view_module_version": "~2.1.4",
       "layout": "IPY_MODEL_90dd5c41ba254bafb0ccfd20174e6a70",
       "msg_throttle": 1
      }
     },
     "4086a77ce1cc4d6a9f9dac6f8d7446d0": {
      "model_module": "jupyter-js-widgets",
      "model_module_version": "~2.1.4",
      "model_name": "LayoutModel",
      "state": {
       "_model_module_version": "~2.1.4",
       "_view_module_version": "~2.1.4",
       "height": "248px",
       "padding": "0px 0px 0px 0px",
       "width": "10px"
      }
     },
     "40b1eea12c324f1b9180ff5822d84ab5": {
      "model_module": "jupyter-js-widgets",
      "model_module_version": "~2.1.4",
      "model_name": "LayoutModel",
      "state": {
       "_model_module_version": "~2.1.4",
       "_view_module_version": "~2.1.4"
      }
     },
     "40c6b7633f6a4da1bd74fe92ac78d0d5": {
      "model_module": "jupyter-js-widgets",
      "model_module_version": "~2.1.4",
      "model_name": "LayoutModel",
      "state": {
       "_model_module_version": "~2.1.4",
       "_view_module_version": "~2.1.4"
      }
     },
     "40caf9ba02f14118b3c1b33e0d3a69b9": {
      "model_module": "jupyter-js-widgets",
      "model_module_version": "~2.1.4",
      "model_name": "PlayModel",
      "state": {
       "_model_module_version": "~2.1.4",
       "_view_module_version": "~2.1.4",
       "layout": "IPY_MODEL_7f79e9ab6d1745129ee25c803794e581",
       "max": 1000000
      }
     },
     "4146f33157434f26822314ef1af4c5c2": {
      "model_module": "jupyter-js-widgets",
      "model_module_version": "~2.1.4",
      "model_name": "LayoutModel",
      "state": {
       "_model_module_version": "~2.1.4",
       "_view_module_version": "~2.1.4"
      }
     },
     "414b18e6018d48289d7c72f80bc74df0": {
      "model_module": "jupyter-js-widgets",
      "model_module_version": "~2.1.4",
      "model_name": "LayoutModel",
      "state": {
       "_model_module_version": "~2.1.4",
       "_view_module_version": "~2.1.4"
      }
     },
     "416889cdadaf4b618a5ae0bdb9698d70": {
      "model_module": "jupyter-js-widgets",
      "model_module_version": "~2.1.4",
      "model_name": "PlayModel",
      "state": {
       "_model_module_version": "~2.1.4",
       "_view_module_version": "~2.1.4",
       "layout": "IPY_MODEL_8494c3e4791b4da893c42ed898154d35",
       "max": 1000000
      }
     },
     "419aa4d9b1114ab6a8a465a6d3f26d32": {
      "model_module": "jupyter-js-widgets",
      "model_module_version": "~2.1.4",
      "model_name": "VBoxModel",
      "state": {
       "_model_module_version": "~2.1.4",
       "_view_module_version": "~2.1.4",
       "children": [
        "IPY_MODEL_895e65d2140b4037a40f1e5c5ec94e7f",
        "IPY_MODEL_e6a92e5d11b940bf9484cced311a3ba6"
       ],
       "layout": "IPY_MODEL_2be4ace33ffe44f0b74fe2777d5c6df8"
      }
     },
     "41add3a22c1540809285c45c3488176f": {
      "model_module": "jupyter-js-widgets",
      "model_module_version": "~2.1.4",
      "model_name": "LayoutModel",
      "state": {
       "_model_module_version": "~2.1.4",
       "_view_module_version": "~2.1.4",
       "height": "30px",
       "padding": "0px 0px 0px 10px",
       "width": "260px"
      }
     },
     "424b3f42b9ae4f6fb493b59575e21c02": {
      "model_module": "jupyter-js-widgets",
      "model_module_version": "~2.1.4",
      "model_name": "FloatSliderModel",
      "state": {
       "_model_module_version": "~2.1.4",
       "_view_module_version": "~2.1.4",
       "layout": "IPY_MODEL_4086a77ce1cc4d6a9f9dac6f8d7446d0",
       "orientation": "vertical",
       "readout": false,
       "step": 0.1,
       "value": 50
      }
     },
     "4267b60e864647d6aff593bf4c9dd341": {
      "model_module": "jupyter-js-widgets",
      "model_module_version": "~2.1.4",
      "model_name": "LayoutModel",
      "state": {
       "_model_module_version": "~2.1.4",
       "_view_module_version": "~2.1.4",
       "height": "30px",
       "padding": "0px 0px 0px 10px",
       "width": "260px"
      }
     },
     "4277baa8efce4b0c9e211fb02a14cd97": {
      "model_module": "jupyter-js-widgets",
      "model_module_version": "~2.1.4",
      "model_name": "LayoutModel",
      "state": {
       "_model_module_version": "~2.1.4",
       "_view_module_version": "~2.1.4"
      }
     },
     "429a72e1120a46beb408141706cd5cd7": {
      "model_module": "jupyter-js-widgets",
      "model_module_version": "~2.1.4",
      "model_name": "ButtonStyleModel",
      "state": {
       "_model_module_version": "~2.1.4",
       "_view_module_version": "~2.1.4"
      }
     },
     "42af8eb44a4b4bf6bff2127b8bd7c21e": {
      "model_module": "jupyter-js-widgets",
      "model_module_version": "~2.1.4",
      "model_name": "LayoutModel",
      "state": {
       "_model_module_version": "~2.1.4",
       "_view_module_version": "~2.1.4"
      }
     },
     "42cef5a709014f47850666f15112fe10": {
      "model_module": "jupyter-js-widgets",
      "model_module_version": "~2.1.4",
      "model_name": "LayoutModel",
      "state": {
       "_model_module_version": "~2.1.4",
       "_view_module_version": "~2.1.4"
      }
     },
     "42d3a715012b45aaaeb7802260d89f04": {
      "model_module": "jupyter-js-widgets",
      "model_module_version": "~2.1.4",
      "model_name": "PlayModel",
      "state": {
       "_model_module_version": "~2.1.4",
       "_view_module_version": "~2.1.4",
       "layout": "IPY_MODEL_73ce3754e4c24df4a10a6937dde7fac0",
       "max": 1000000,
       "value": 419
      }
     },
     "430191a682e743c4b191df559a6224d9": {
      "model_module": "jupyter-js-widgets",
      "model_module_version": "~2.1.4",
      "model_name": "LayoutModel",
      "state": {
       "_model_module_version": "~2.1.4",
       "_view_module_version": "~2.1.4"
      }
     },
     "4320d1a3532f48e6a4e30a1b2f255ae1": {
      "model_module": "jupyter-js-widgets",
      "model_module_version": "~2.1.4",
      "model_name": "FloatSliderModel",
      "state": {
       "_model_module_version": "~2.1.4",
       "_view_module_version": "~2.1.4",
       "layout": "IPY_MODEL_551de7f7e16d403eb5708981f296e3fb",
       "orientation": "vertical",
       "readout": false,
       "step": 0.1,
       "value": 50
      }
     },
     "43249ed9bead44b0a331b138e565a711": {
      "model_module": "jupyter-js-widgets",
      "model_module_version": "~2.1.4",
      "model_name": "ButtonStyleModel",
      "state": {
       "_model_module_version": "~2.1.4",
       "_view_module_version": "~2.1.4"
      }
     },
     "433fbc287e9a42dab956738522fd2e75": {
      "model_module": "jupyter-js-widgets",
      "model_module_version": "~2.1.4",
      "model_name": "ButtonStyleModel",
      "state": {
       "_model_module_version": "~2.1.4",
       "_view_module_version": "~2.1.4"
      }
     },
     "43511ab6ceb9469086a498fc1df5420a": {
      "model_module": "jupyter-js-widgets",
      "model_module_version": "~2.1.4",
      "model_name": "TextModel",
      "state": {
       "_model_module_version": "~2.1.4",
       "_view_module_version": "~2.1.4",
       "description": "Time:",
       "layout": "IPY_MODEL_bbf668c8b89344fe90ff5c21952264a6",
       "value": "0.00 seconds"
      }
     },
     "4381ba179c3d467fa9862287f6ef6b92": {
      "model_module": "jupyter-js-widgets",
      "model_module_version": "~2.1.4",
      "model_name": "LayoutModel",
      "state": {
       "_model_module_version": "~2.1.4",
       "_view_module_version": "~2.1.4"
      }
     },
     "4381bb6595574e1e90d9a5e6bf7c85eb": {
      "model_module": "jupyter-js-widgets",
      "model_module_version": "~2.1.4",
      "model_name": "LayoutModel",
      "state": {
       "_model_module_version": "~2.1.4",
       "_view_module_version": "~2.1.4"
      }
     },
     "43aa9323a6f34d26b2ba812afa40e2a7": {
      "model_module": "jupyter-js-widgets",
      "model_module_version": "~2.1.4",
      "model_name": "CheckboxModel",
      "state": {
       "_model_module_version": "~2.1.4",
       "_view_module_version": "~2.1.4",
       "description": "Update GUI",
       "disabled": false,
       "layout": "IPY_MODEL_403b7aa2eed8431d8cd9c8cac575f0fd",
       "value": true
      }
     },
     "43bfb7d2965f4ebd9bb14c6fd9ea8bb0": {
      "model_module": "jupyter-js-widgets",
      "model_module_version": "~2.1.4",
      "model_name": "LayoutModel",
      "state": {
       "_model_module_version": "~2.1.4",
       "_view_module_version": "~2.1.4"
      }
     },
     "447027640a09437abd4e05ca711a8fc7": {
      "model_module": "jupyter-js-widgets",
      "model_module_version": "~2.1.4",
      "model_name": "FloatSliderModel",
      "state": {
       "_model_module_version": "~2.1.4",
       "_view_module_version": "~2.1.4",
       "layout": "IPY_MODEL_7376799f507f48e09ea7aa2db6f3ba8a",
       "readout": false,
       "step": 0.1,
       "value": 99.44295769917836
      }
     },
     "4487b1639e6149128ffb5b44bbd2f845": {
      "model_module": "jupyter-js-widgets",
      "model_module_version": "~2.1.4",
      "model_name": "LayoutModel",
      "state": {
       "_model_module_version": "~2.1.4",
       "_view_module_version": "~2.1.4"
      }
     },
     "4499aa1a54934623a38dbb1946134ffb": {
      "model_module": "jupyter-js-widgets",
      "model_module_version": "~2.1.4",
      "model_name": "LayoutModel",
      "state": {
       "_model_module_version": "~2.1.4",
       "_view_module_version": "~2.1.4"
      }
     },
     "44bbe9d065f2468ab78795c57ba0a1e3": {
      "model_module": "jupyter-js-widgets",
      "model_module_version": "~2.1.4",
      "model_name": "LayoutModel",
      "state": {
       "_model_module_version": "~2.1.4",
       "_view_module_version": "~2.1.4"
      }
     },
     "44ef5ecac9f243f0a47aa35ced98266d": {
      "model_module": "jupyter-js-widgets",
      "model_module_version": "~2.1.4",
      "model_name": "HBoxModel",
      "state": {
       "_model_module_version": "~2.1.4",
       "_view_module_version": "~2.1.4",
       "children": [
        "IPY_MODEL_61336dc03c0f48e7941fe13f72978de5",
        "IPY_MODEL_cb1f0f9e3fc841e2bc3d393e246797b5"
       ],
       "layout": "IPY_MODEL_394706d19e944867a9b4aa0252165374"
      }
     },
     "451131398b074590822d03496ddfe795": {
      "model_module": "jupyter-js-widgets",
      "model_module_version": "~2.1.4",
      "model_name": "LayoutModel",
      "state": {
       "_model_module_version": "~2.1.4",
       "_view_module_version": "~2.1.4"
      }
     },
     "4518288345dc44199ab9b28f81e90a5a": {
      "model_module": "jupyter-js-widgets",
      "model_module_version": "~2.1.4",
      "model_name": "VBoxModel",
      "state": {
       "_model_module_version": "~2.1.4",
       "_view_module_version": "~2.1.4",
       "children": [
        "IPY_MODEL_4578e92fe46848fd8ac8316ca5b9e4b3",
        "IPY_MODEL_19023f0ace0642f7bb1ae920d107fb4c"
       ],
       "layout": "IPY_MODEL_3ab89aec84a84d2fa333b55b3d0ef159"
      }
     },
     "451d71921f8f495aaae58720efaaf589": {
      "model_module": "jupyter-js-widgets",
      "model_module_version": "~2.1.4",
      "model_name": "LayoutModel",
      "state": {
       "_model_module_version": "~2.1.4",
       "_view_module_version": "~2.1.4"
      }
     },
     "4530f6efccae439d81c7acc37a91f0df": {
      "model_module": "jupyter-js-widgets",
      "model_module_version": "~2.1.4",
      "model_name": "LayoutModel",
      "state": {
       "_model_module_version": "~2.1.4",
       "_view_module_version": "~2.1.4"
      }
     },
     "4578e92fe46848fd8ac8316ca5b9e4b3": {
      "model_module": "jupyter-js-widgets",
      "model_module_version": "~2.1.4",
      "model_name": "ImageModel",
      "state": {
       "_b64value": "iVBORw0KGgoAAAANSUhEUgAAADwAAAAoCAIAAAAt2Q6oAAAA8klEQVR4nO3WsQrCMBCA4ctd+uwuHbsoCCq4CNVB0KGOdXDo4iSCa0cXXaUOrVKDlkbl0sD9Q8jWj5TmquJDDr6FrgHfJGiuBM2VoLkSNFeC5kq7BgAA3Papeg0A6quxcYO+7hJEJCKlFCI+QS2zRudJDADGedQ3DRVFQURBEBCR7XPrvUcfF2NELM+gXI1357YKnU0ielRy3bKa09tBqLXWuhNfZMs6faKfEjRXgubKS7Q6X04AEPaGxj3dPFx+n4jGGLf696jQRv1o5h+6oelo5R/6Ly3nqX9oo8068w9tm5dXnqC5EjRXguZK0Fx5ib4DZCE5MMDH4PcAAAAASUVORK5CYII=",
       "_model_module_version": "~2.1.4",
       "_view_module_version": "~2.1.4",
       "layout": "IPY_MODEL_8ff72e5a091d4b6983fa8abaa5f6faf8",
       "width": "240"
      }
     },
     "45f40e4a515f43c097f21c370a47d40c": {
      "model_module": "jupyter-js-widgets",
      "model_module_version": "~2.1.4",
      "model_name": "LayoutModel",
      "state": {
       "_model_module_version": "~2.1.4",
       "_view_module_version": "~2.1.4"
      }
     },
     "4621e2b571cb4809953ac8629911cb82": {
      "model_module": "jupyter-js-widgets",
      "model_module_version": "~2.1.4",
      "model_name": "FloatSliderModel",
      "state": {
       "_model_module_version": "~2.1.4",
       "_view_module_version": "~2.1.4",
       "layout": "IPY_MODEL_19846f44652a4e6b932083a219e7f983",
       "readout": false,
       "step": 0.1,
       "value": 87.5
      }
     },
     "4651fd0a72a74fc29dce22d88efa333c": {
      "model_module": "jupyter-js-widgets",
      "model_module_version": "~2.1.4",
      "model_name": "TextModel",
      "state": {
       "_model_module_version": "~2.1.4",
       "_view_module_version": "~2.1.4",
       "description": "Time:",
       "layout": "IPY_MODEL_71400951ea304d1fb1b15dcef2421db5",
       "value": "5.20 seconds"
      }
     },
     "4654fcf903f444dd95c0aa5822961847": {
      "model_module": "jupyter-js-widgets",
      "model_module_version": "~2.1.4",
      "model_name": "LayoutModel",
      "state": {
       "_model_module_version": "~2.1.4",
       "_view_module_version": "~2.1.4"
      }
     },
     "46808e513d2a4037919e00b62e159579": {
      "model_module": "jupyter-js-widgets",
      "model_module_version": "~2.1.4",
      "model_name": "LayoutModel",
      "state": {
       "_model_module_version": "~2.1.4",
       "_view_module_version": "~2.1.4"
      }
     },
     "472e2a39b1c9401c9c4689a6f5eb2e8a": {
      "model_module": "jupyter-js-widgets",
      "model_module_version": "~2.1.4",
      "model_name": "LayoutModel",
      "state": {
       "_model_module_version": "~2.1.4",
       "_view_module_version": "~2.1.4"
      }
     },
     "473310222e4440bfb9f7f1fb0ef37d28": {
      "model_module": "jupyter-js-widgets",
      "model_module_version": "~2.1.4",
      "model_name": "LayoutModel",
      "state": {
       "_model_module_version": "~2.1.4",
       "_view_module_version": "~2.1.4"
      }
     },
     "47502a5240c74ba3adac1a9919281cec": {
      "model_module": "jupyter-js-widgets",
      "model_module_version": "~2.1.4",
      "model_name": "LayoutModel",
      "state": {
       "_model_module_version": "~2.1.4",
       "_view_module_version": "~2.1.4"
      }
     },
     "47597cebeb7d49f9a8f4f708ee1edc3f": {
      "model_module": "jupyter-js-widgets",
      "model_module_version": "~2.1.4",
      "model_name": "LayoutModel",
      "state": {
       "_model_module_version": "~2.1.4",
       "_view_module_version": "~2.1.4"
      }
     },
     "47a66b2edae24e37b5a797ebc5e0e713": {
      "model_module": "jupyter-js-widgets",
      "model_module_version": "~2.1.4",
      "model_name": "LayoutModel",
      "state": {
       "_model_module_version": "~2.1.4",
       "_view_module_version": "~2.1.4"
      }
     },
     "47a8dd5adb55475898013ea3f3296286": {
      "model_module": "jupyter-js-widgets",
      "model_module_version": "~2.1.4",
      "model_name": "HBoxModel",
      "state": {
       "_model_module_version": "~2.1.4",
       "_view_module_version": "~2.1.4",
       "children": [
        "IPY_MODEL_00f042c46a8a410a9d7b46ba1195225c",
        "IPY_MODEL_6c6bc09d756648a4a5173dd2fc03c34a",
        "IPY_MODEL_f758c66b9700498fbade24b196adabab"
       ],
       "layout": "IPY_MODEL_5ed5c219293147ae941d3085eeda05c0"
      }
     },
     "47a9e413d10d48b7aef422c409f96e65": {
      "model_module": "jupyter-js-widgets",
      "model_module_version": "~2.1.4",
      "model_name": "VBoxModel",
      "state": {
       "_model_module_version": "~2.1.4",
       "_view_module_version": "~2.1.4",
       "children": [
        "IPY_MODEL_299d1f1bc5da437e8f4663a522111b96",
        "IPY_MODEL_447027640a09437abd4e05ca711a8fc7"
       ],
       "layout": "IPY_MODEL_566181746e57497fa1ac33969ecb7dc1"
      }
     },
     "47c12479df4840ff8ef3032edb6ddf20": {
      "model_module": "jupyter-js-widgets",
      "model_module_version": "~2.1.4",
      "model_name": "LayoutModel",
      "state": {
       "_model_module_version": "~2.1.4",
       "_view_module_version": "~2.1.4"
      }
     },
     "47e2f06174444dd79345ae353f731257": {
      "model_module": "jupyter-js-widgets",
      "model_module_version": "~2.1.4",
      "model_name": "HBoxModel",
      "state": {
       "_model_module_version": "~2.1.4",
       "_view_module_version": "~2.1.4",
       "children": [
        "IPY_MODEL_9207e017a50349eea8eeeed6b9662103",
        "IPY_MODEL_cf6331f8cf9145848bd895e7ba019f5a"
       ],
       "layout": "IPY_MODEL_d1bcc976fbbe44c49193e51b5f2e370f"
      }
     },
     "481e6f6056dd481b8a930885515cc7e1": {
      "model_module": "jupyter-js-widgets",
      "model_module_version": "~2.1.4",
      "model_name": "ButtonStyleModel",
      "state": {
       "_model_module_version": "~2.1.4",
       "_view_module_version": "~2.1.4"
      }
     },
     "482ed434710d4c9aa44b1d0c5d3b6393": {
      "model_module": "jupyter-js-widgets",
      "model_module_version": "~2.1.4",
      "model_name": "ButtonStyleModel",
      "state": {
       "_model_module_version": "~2.1.4",
       "_view_module_version": "~2.1.4"
      }
     },
     "485b327811db4a20998a3096102fc2a1": {
      "model_module": "jupyter-js-widgets",
      "model_module_version": "~2.1.4",
      "model_name": "LayoutModel",
      "state": {
       "_model_module_version": "~2.1.4",
       "_view_module_version": "~2.1.4"
      }
     },
     "48c57d6169894a2ba9d5122ed1a06c5e": {
      "model_module": "jupyter-js-widgets",
      "model_module_version": "~2.1.4",
      "model_name": "LayoutModel",
      "state": {
       "_model_module_version": "~2.1.4",
       "_view_module_version": "~2.1.4"
      }
     },
     "48c88f3a92a64382be6b46cc46163fa6": {
      "model_module": "jupyter-js-widgets",
      "model_module_version": "~2.1.4",
      "model_name": "OutputModel",
      "state": {
       "_dom_classes": [],
       "_model_module": "jupyter-js-widgets",
       "_model_module_version": "~2.1.4",
       "_view_module": "jupyter-js-widgets",
       "_view_module_version": "~2.1.4",
       "layout": "IPY_MODEL_7d2db2990bd64dd3bf5d9474eb3272b9",
       "msg_throttle": 1
      }
     },
     "493869ccb1b44efdb112eb69e3537cd4": {
      "model_module": "jupyter-js-widgets",
      "model_module_version": "~2.1.4",
      "model_name": "ButtonModel",
      "state": {
       "_model_module_version": "~2.1.4",
       "_view_module_version": "~2.1.4",
       "icon": "step-forward",
       "layout": "IPY_MODEL_ea936f7a57784e2eb8f68cb77f6c8ba8",
       "style": "IPY_MODEL_036b21fdf2114b2c8c1f6c0e485a30b5"
      }
     },
     "494043d35462483eadbd98b827ac831c": {
      "model_module": "jupyter-js-widgets",
      "model_module_version": "~2.1.4",
      "model_name": "LayoutModel",
      "state": {
       "_model_module_version": "~2.1.4",
       "_view_module_version": "~2.1.4"
      }
     },
     "4953c333c8b7439db5c9efcf2519fadc": {
      "model_module": "jupyter-js-widgets",
      "model_module_version": "~2.1.4",
      "model_name": "LayoutModel",
      "state": {
       "_model_module_version": "~2.1.4",
       "_view_module_version": "~2.1.4"
      }
     },
     "499d726f14804d59872c4b3c895001b3": {
      "model_module": "jupyter-js-widgets",
      "model_module_version": "~2.1.4",
      "model_name": "HTMLModel",
      "state": {
       "_model_module_version": "~2.1.4",
       "_view_module_version": "~2.1.4",
       "layout": "IPY_MODEL_87aa04a1097a4f6a91470c6ff1421f22",
       "value": "<svg baseProfile=\"full\" height=\"240\" version=\"1.1\" width=\"240\" xmlns=\"http://www.w3.org/2000/svg\" xmlns:ev=\"http://www.w3.org/2001/xml-events\" xmlns:xlink=\"http://www.w3.org/1999/xlink\"><defs /><rect fill=\"white\" height=\"240\" stroke=\"#000000\" stroke-width=\"1\" width=\"240\" x=\"0\" y=\"0\" /><rect fill=\"#eef3dd\" height=\"240.0\" stroke=\"#bebebe\" stroke-width=\"1\" width=\"240.0\" x=\"0.0\" y=\"0.0\" /><circle cx=\"120.0\" cy=\"195.0\" fill=\"#ffff00\" r=\"15.0\" stroke=\"#ffff00\" stroke-width=\"1\" /><line fill=\"#800080\" stroke=\"#add8e6\" stroke-width=\"1\" x1=\"201.79799577331204\" x2=\"175.5368086172829\" y1=\"125.88690759856279\" y2=\"240.0\" /><line fill=\"#800080\" stroke=\"#add8e6\" stroke-width=\"1\" x1=\"198.0413890490325\" x2=\"107.13939489544698\" y1=\"123.48318009339552\" y2=\"240.0\" /><line fill=\"#800080\" stroke=\"#add8e6\" stroke-width=\"1\" x1=\"196.82549050429515\" x2=\"0.0\" y1=\"120.74062822899884\" y2=\"221.201358\" /><line fill=\"#800080\" stroke=\"#add8e6\" stroke-width=\"1\" x1=\"196.17107493453307\" x2=\"0.0\" y1=\"116.8959253455431\" y2=\"123.88350000000001\" /><line fill=\"#800080\" stroke=\"#add8e6\" stroke-width=\"1\" x1=\"197.51669950022935\" x2=\"0.0\" y1=\"111.04876410882363\" y2=\"6.204089999999995\" /><line fill=\"#800080\" stroke=\"#add8e6\" stroke-width=\"1\" x1=\"199.785864548827\" x2=\"118.37666805773672\" y1=\"107.87687350821602\" y2=\"0.0\" /><line fill=\"#800080\" stroke=\"#add8e6\" stroke-width=\"1\" x1=\"202.07826274612134\" x2=\"179.48234381553226\" y1=\"105.94169638323714\" y2=\"0.0\" /><line fill=\"#800080\" stroke=\"#add8e6\" stroke-width=\"1\" x1=\"206.50768175324905\" x2=\"230.76872327293265\" y1=\"105.42184327004466\" y2=\"0.0\" /><line fill=\"#800080\" stroke=\"#add8e6\" stroke-width=\"1\" x1=\"218.20200422668796\" x2=\"240.0\" y1=\"108.11309240143723\" y2=\"13.393967999999994\" /><line fill=\"#800080\" stroke=\"#add8e6\" stroke-width=\"1\" x1=\"221.9586109509675\" x2=\"240.0\" y1=\"110.51681990660451\" y2=\"87.39163799999999\" /><line fill=\"#800080\" stroke=\"#add8e6\" stroke-width=\"1\" x1=\"223.17450949570485\" x2=\"240.0\" y1=\"113.25937177100117\" y2=\"104.67156\" /><line fill=\"#800080\" stroke=\"#add8e6\" stroke-width=\"1\" x1=\"223.82892506546693\" x2=\"240.0\" y1=\"117.10407465445691\" y2=\"116.528064\" /><line fill=\"#800080\" stroke=\"#add8e6\" stroke-width=\"1\" x1=\"222.48330049977065\" x2=\"240.0\" y1=\"122.95123589117637\" y2=\"132.24935399999998\" /><line fill=\"#800080\" stroke=\"#add8e6\" stroke-width=\"1\" x1=\"220.214135451173\" x2=\"240.0\" y1=\"126.12312649178399\" y2=\"152.34175199999999\" /><line fill=\"#800080\" stroke=\"#add8e6\" stroke-width=\"1\" x1=\"217.92173725387866\" x2=\"240.0\" y1=\"128.0583036167629\" y2=\"231.572952\" /><line fill=\"#800080\" stroke=\"#add8e6\" stroke-width=\"1\" x1=\"213.49231824675095\" x2=\"187.850478929716\" y1=\"128.57815672995537\" y2=\"240.0\" /><line fill=\"#800080\" stroke=\"#a020f0\" stroke-width=\"1\" x1=\"210.0\" x2=\"95.46108153792804\" y1=\"117.00000000000001\" y2=\"240.0\" /><line fill=\"#800080\" stroke=\"#a020f0\" stroke-width=\"1\" x1=\"210.0\" x2=\"174.14017348370635\" y1=\"117.00000000000001\" y2=\"0.0\" /><line fill=\"#800080\" stroke=\"#ffa500\" stroke-width=\"1\" x1=\"120.0\" x2=\"194.48904422741273\" y1=\"195.0\" y2=\"124.20487689144244\" /><line fill=\"#800080\" stroke=\"#ffa500\" stroke-width=\"1\" x1=\"120.0\" x2=\"199.1987302073497\" y1=\"195.0\" y2=\"103.7398125629243\" /><polygon fill=\"red\" points=\"195.7673875648242,118.65007371655894 198.87441515495232,125.21409531571463 216.4158988651107,129.2509690128035 222.07961313006174,124.70538426219223 224.2326124351758,115.34992628344108 221.12558484504768,108.7859046842854 203.5841011348893,104.74903098719652 197.92038686993826,109.29461573780777\" stroke=\"red\" stroke-width=\"1\" /><polygon points=\"-3.0,-3.0 0,0 3.0,-3.0 0,3.0\" stroke=\"black\" stroke-width=\"1\" transform=\"translate(210.0,117.00000000000001) rotate(102.95999999999998)\" /><polygon fill=\"black\" points=\"202.6213490080105,111.60782886599353 207.2990779973861,112.68432851855056 205.68432851855056,119.70092200261392 201.00659952917496,118.62442235005689\" stroke=\"black\" stroke-width=\"1\" /><circle cx=\"194.48904422741273\" cy=\"124.20487689144244\" fill=\"yellow\" r=\"1.5\" stroke=\"orange\" stroke-width=\"1\" /><circle cx=\"199.1987302073497\" cy=\"103.7398125629243\" fill=\"yellow\" r=\"1.5\" stroke=\"orange\" stroke-width=\"1\" /></svg>"
      }
     },
     "4a0f32d3975c4e26b5c71de8def65118": {
      "model_module": "jupyter-js-widgets",
      "model_module_version": "~2.1.4",
      "model_name": "TextModel",
      "state": {
       "_model_module_version": "~2.1.4",
       "_view_module_version": "~2.1.4",
       "description": "Time:",
       "layout": "IPY_MODEL_35414fce115a4ebeab694eadb23d4fb1",
       "value": "0.00 seconds"
      }
     },
     "4a4a2d501ff645178029251473b746be": {
      "model_module": "jupyter-js-widgets",
      "model_module_version": "~2.1.4",
      "model_name": "LayoutModel",
      "state": {
       "_model_module_version": "~2.1.4",
       "_view_module_version": "~2.1.4",
       "height": "248px",
       "padding": "0px 0px 0px 0px",
       "width": "10px"
      }
     },
     "4a64e0e3df51420ab3de7b3a9771ecf5": {
      "model_module": "jupyter-js-widgets",
      "model_module_version": "~2.1.4",
      "model_name": "FloatSliderModel",
      "state": {
       "_model_module_version": "~2.1.4",
       "_view_module_version": "~2.1.4",
       "layout": "IPY_MODEL_9fb3f01c9f664313adb27a22e9ba3c9d",
       "readout": false,
       "step": 0.1,
       "value": 87.5
      }
     },
     "4b11eb768f7b4f7fb23455972662e0fd": {
      "model_module": "jupyter-js-widgets",
      "model_module_version": "~2.1.4",
      "model_name": "FloatSliderModel",
      "state": {
       "_model_module_version": "~2.1.4",
       "_view_module_version": "~2.1.4",
       "layout": "IPY_MODEL_41add3a22c1540809285c45c3488176f",
       "readout": false,
       "step": 0.1,
       "value": 83.4587047631196
      }
     },
     "4b14fe1b8c1b498da6b2655ac8ca2a33": {
      "model_module": "jupyter-js-widgets",
      "model_module_version": "~2.1.4",
      "model_name": "OutputModel",
      "state": {
       "_dom_classes": [],
       "_model_module": "jupyter-js-widgets",
       "_model_module_version": "~2.1.4",
       "_view_module": "jupyter-js-widgets",
       "_view_module_version": "~2.1.4",
       "layout": "IPY_MODEL_7eb9da8e99654b9d97a4d7e661488d0b",
       "msg_throttle": 1
      }
     },
     "4b47cc3fd8ca4366a44bb31aac06a833": {
      "model_module": "jupyter-js-widgets",
      "model_module_version": "~2.1.4",
      "model_name": "FloatSliderModel",
      "state": {
       "_model_module_version": "~2.1.4",
       "_view_module_version": "~2.1.4",
       "layout": "IPY_MODEL_d2fd1b2e419c4964aa9631d7e4b18294",
       "readout": false,
       "step": 0.1,
       "value": 100
      }
     },
     "4b60b7c5c1f04739bce1eb23f6be9c95": {
      "model_module": "jupyter-js-widgets",
      "model_module_version": "~2.1.4",
      "model_name": "LayoutModel",
      "state": {
       "_model_module_version": "~2.1.4",
       "_view_module_version": "~2.1.4"
      }
     },
     "4b8336e3f9d942878b8428590180d97e": {
      "model_module": "jupyter-js-widgets",
      "model_module_version": "~2.1.4",
      "model_name": "ButtonStyleModel",
      "state": {
       "_model_module_version": "~2.1.4",
       "_view_module_version": "~2.1.4"
      }
     },
     "4bbfe499be9e49a59aba506a3a2af245": {
      "model_module": "jupyter-js-widgets",
      "model_module_version": "~2.1.4",
      "model_name": "VBoxModel",
      "state": {
       "_model_module_version": "~2.1.4",
       "_view_module_version": "~2.1.4",
       "children": [
        "IPY_MODEL_65e1fcbf955449deb58c65453bdeed77",
        "IPY_MODEL_08bd55d4a46d45e78cc1ab84e575c2d0"
       ],
       "layout": "IPY_MODEL_35069ae05df94b80b66284e88e3310e3"
      }
     },
     "4c1128d662af4abf98ea7c22129b9c50": {
      "model_module": "jupyter-js-widgets",
      "model_module_version": "~2.1.4",
      "model_name": "LayoutModel",
      "state": {
       "_model_module_version": "~2.1.4",
       "_view_module_version": "~2.1.4"
      }
     },
     "4c22109742f64cb9b5e80d111557ce71": {
      "model_module": "jupyter-js-widgets",
      "model_module_version": "~2.1.4",
      "model_name": "FloatSliderModel",
      "state": {
       "_model_module_version": "~2.1.4",
       "_view_module_version": "~2.1.4",
       "layout": "IPY_MODEL_9b398458d88b4fa7b9faee63d0c8a232",
       "orientation": "vertical",
       "readout": false,
       "step": 0.1,
       "value": 51.24999999999999
      }
     },
     "4c40420a8aaf442689f0feed858003ba": {
      "model_module": "jupyter-js-widgets",
      "model_module_version": "~2.1.4",
      "model_name": "LayoutModel",
      "state": {
       "_model_module_version": "~2.1.4",
       "_view_module_version": "~2.1.4"
      }
     },
     "4c59f97be261475cb84ffdf2d16affef": {
      "model_module": "jupyter-js-widgets",
      "model_module_version": "~2.1.4",
      "model_name": "LayoutModel",
      "state": {
       "_model_module_version": "~2.1.4",
       "_view_module_version": "~2.1.4"
      }
     },
     "4c7ef519cfe04fc18426915b022bd298": {
      "model_module": "jupyter-js-widgets",
      "model_module_version": "~2.1.4",
      "model_name": "ButtonModel",
      "state": {
       "_model_module_version": "~2.1.4",
       "_view_module_version": "~2.1.4",
       "description": "Clear",
       "layout": "IPY_MODEL_c426d973f1ba491396cbb335b2ff82d7",
       "style": "IPY_MODEL_cb732f403d1b4d65aad7baf8c231e3d7"
      }
     },
     "4cce6108e3c445288c46636e55232470": {
      "model_module": "jupyter-js-widgets",
      "model_module_version": "~2.1.4",
      "model_name": "ButtonStyleModel",
      "state": {
       "_model_module_version": "~2.1.4",
       "_view_module_version": "~2.1.4"
      }
     },
     "4d38c8c77b2243f7a88a4b927daa74a2": {
      "model_module": "jupyter-js-widgets",
      "model_module_version": "~2.1.4",
      "model_name": "LayoutModel",
      "state": {
       "_model_module_version": "~2.1.4",
       "_view_module_version": "~2.1.4"
      }
     },
     "4d5b665ac03a4823a73e3cf8b505f424": {
      "model_module": "jupyter-js-widgets",
      "model_module_version": "~2.1.4",
      "model_name": "LayoutModel",
      "state": {
       "_model_module_version": "~2.1.4",
       "_view_module_version": "~2.1.4"
      }
     },
     "4d87d01597984a4db5823ad86f8379ed": {
      "model_module": "jupyter-js-widgets",
      "model_module_version": "~2.1.4",
      "model_name": "LayoutModel",
      "state": {
       "_model_module_version": "~2.1.4",
       "_view_module_version": "~2.1.4",
       "height": "248px",
       "padding": "0px 0px 0px 0px",
       "width": "10px"
      }
     },
     "4d94170eadb34a6aaa3b12467685a95c": {
      "model_module": "jupyter-js-widgets",
      "model_module_version": "~2.1.4",
      "model_name": "VBoxModel",
      "state": {
       "_model_module_version": "~2.1.4",
       "_view_module_version": "~2.1.4",
       "children": [
        "IPY_MODEL_cfc2f435e47c47f2a85517f0f665b61d",
        "IPY_MODEL_db3fc3bdc0264c65ad3194afa1bb6681",
        "IPY_MODEL_777f6e7e54264e058fc224fbbf4e3c76"
       ],
       "layout": "IPY_MODEL_516a8d1d05f5407cb47537e787e25640"
      }
     },
     "4dac95fedb48403080c1757fc37ea55a": {
      "model_module": "jupyter-js-widgets",
      "model_module_version": "~2.1.4",
      "model_name": "LayoutModel",
      "state": {
       "_model_module_version": "~2.1.4",
       "_view_module_version": "~2.1.4"
      }
     },
     "4de738d1a696451aa4e88a62375b3503": {
      "model_module": "jupyter-js-widgets",
      "model_module_version": "~2.1.4",
      "model_name": "VBoxModel",
      "state": {
       "_model_module_version": "~2.1.4",
       "_view_module_version": "~2.1.4",
       "children": [
        "IPY_MODEL_3f173c501e4246638b48b7a07547f5ba",
        "IPY_MODEL_ef6d7e28aff64fa0908dfb4f7d85c624"
       ],
       "layout": "IPY_MODEL_606c927700aa49efbee4ba89634eed82"
      }
     },
     "4e209eeb72ee40c1ae45a5a81afbee3f": {
      "model_module": "jupyter-js-widgets",
      "model_module_version": "~2.1.4",
      "model_name": "LayoutModel",
      "state": {
       "_model_module_version": "~2.1.4",
       "_view_module_version": "~2.1.4"
      }
     },
     "4e2dae16b5654ec3a767b6b0e607735b": {
      "model_module": "jupyter-js-widgets",
      "model_module_version": "~2.1.4",
      "model_name": "ButtonStyleModel",
      "state": {
       "_model_module_version": "~2.1.4",
       "_view_module_version": "~2.1.4"
      }
     },
     "4e2e49afee724d91965bf837f40b73e4": {
      "model_module": "jupyter-js-widgets",
      "model_module_version": "~2.1.4",
      "model_name": "CheckboxModel",
      "state": {
       "_model_module_version": "~2.1.4",
       "_view_module_version": "~2.1.4",
       "description": "Update GUI",
       "disabled": false,
       "layout": "IPY_MODEL_4381ba179c3d467fa9862287f6ef6b92",
       "value": true
      }
     },
     "4e41f9afb36540b899fcf0b446093e15": {
      "model_module": "jupyter-js-widgets",
      "model_module_version": "~2.1.4",
      "model_name": "FloatSliderModel",
      "state": {
       "_model_module_version": "~2.1.4",
       "_view_module_version": "~2.1.4",
       "layout": "IPY_MODEL_66ce396257ae4717b61c742deb1756b6",
       "readout": false,
       "step": 0.1,
       "value": 100
      }
     },
     "4e5df8f4208e4251bc9ff09a944610ee": {
      "model_module": "jupyter-js-widgets",
      "model_module_version": "~2.1.4",
      "model_name": "FloatSliderModel",
      "state": {
       "_model_module_version": "~2.1.4",
       "_view_module_version": "~2.1.4",
       "layout": "IPY_MODEL_4d87d01597984a4db5823ad86f8379ed",
       "orientation": "vertical",
       "readout": false,
       "step": 0.1,
       "value": 69.87126559206504
      }
     },
     "4e65a6b1c54f4464a72b577758d726d9": {
      "model_module": "jupyter-js-widgets",
      "model_module_version": "~2.1.4",
      "model_name": "LayoutModel",
      "state": {
       "_model_module_version": "~2.1.4",
       "_view_module_version": "~2.1.4"
      }
     },
     "4e7deae4f65442f49e9c3df346bb4e1c": {
      "model_module": "jupyter-js-widgets",
      "model_module_version": "~2.1.4",
      "model_name": "LayoutModel",
      "state": {
       "_model_module_version": "~2.1.4",
       "_view_module_version": "~2.1.4"
      }
     },
     "4ed5a7035bc0479b8c72773896e50d7f": {
      "model_module": "jupyter-js-widgets",
      "model_module_version": "~2.1.4",
      "model_name": "LayoutModel",
      "state": {
       "_model_module_version": "~2.1.4",
       "_view_module_version": "~2.1.4"
      }
     },
     "4f9027f94d694ca8b5f7eb15bc68b954": {
      "model_module": "jupyter-js-widgets",
      "model_module_version": "~2.1.4",
      "model_name": "LayoutModel",
      "state": {
       "_model_module_version": "~2.1.4",
       "_view_module_version": "~2.1.4"
      }
     },
     "4fb6f16abfd5430f9be6bc391b050993": {
      "model_module": "jupyter-js-widgets",
      "model_module_version": "~2.1.4",
      "model_name": "LayoutModel",
      "state": {
       "_model_module_version": "~2.1.4",
       "_view_module_version": "~2.1.4"
      }
     },
     "4fb8193b54e041a78cbf78194d4a31fb": {
      "model_module": "jupyter-js-widgets",
      "model_module_version": "~2.1.4",
      "model_name": "LayoutModel",
      "state": {
       "_model_module_version": "~2.1.4",
       "_view_module_version": "~2.1.4"
      }
     },
     "50323b140f9d4c5dac9d240fcee75caf": {
      "model_module": "jupyter-js-widgets",
      "model_module_version": "~2.1.4",
      "model_name": "LayoutModel",
      "state": {
       "_model_module_version": "~2.1.4",
       "_view_module_version": "~2.1.4"
      }
     },
     "504ebb6c52bd453894909f446eb74ab8": {
      "model_module": "jupyter-js-widgets",
      "model_module_version": "~2.1.4",
      "model_name": "ButtonStyleModel",
      "state": {
       "_model_module_version": "~2.1.4",
       "_view_module_version": "~2.1.4"
      }
     },
     "506fbf46d3fc4cc6a1c1a852f83ef460": {
      "model_module": "jupyter-js-widgets",
      "model_module_version": "~2.1.4",
      "model_name": "FloatSliderModel",
      "state": {
       "_model_module_version": "~2.1.4",
       "_view_module_version": "~2.1.4",
       "layout": "IPY_MODEL_c67bb5c1fcf740ae973b21ef74a210d4",
       "orientation": "vertical",
       "readout": false,
       "step": 0.1,
       "value": 50
      }
     },
     "50ab698c3ca54a55976aa610310bbe6b": {
      "model_module": "jupyter-js-widgets",
      "model_module_version": "~2.1.4",
      "model_name": "ButtonStyleModel",
      "state": {
       "_model_module_version": "~2.1.4",
       "_view_module_version": "~2.1.4"
      }
     },
     "50ec8bf46df94bf18b6686cfbbc95106": {
      "model_module": "jupyter-js-widgets",
      "model_module_version": "~2.1.4",
      "model_name": "LayoutModel",
      "state": {
       "_model_module_version": "~2.1.4",
       "_view_module_version": "~2.1.4"
      }
     },
     "51433b6aff55459f99106697e69f3b60": {
      "model_module": "jupyter-js-widgets",
      "model_module_version": "~2.1.4",
      "model_name": "ImageModel",
      "state": {
       "_b64value": "iVBORw0KGgoAAAANSUhEUgAAADwAAAAoCAIAAAAt2Q6oAAAA8UlEQVR4nO3WoQ7CMBCA4d5d++gYggJDwMwgEJshATHkEIRgUCCwkxiwZAhGMxq2bIRcaXKfWOb655b0BvExV6FB3wHfkGguEs1ForlINBeJ5qJ9B5TuhwzeKaWqz+qLt+jbNkVEIgIARLRBbXSOztPYDqBuEg2KokBEYwwRdT3a+hx9SiJ8sZOofji/yuhdNCQirTURPVv9ZjXTm8kAAIwxvks6+OuJ1pFoLhLNJchouFzPSql+b+rc0w3L5Vcb0Vnj7f89ymjHeDQPL7rBLFqGF/0riyQLL9qxXu3Di+4kyCtPorlINBeJ5iLRXIKMfgDJGDkVat0rzwAAAABJRU5ErkJggg==",
       "_model_module_version": "~2.1.4",
       "_view_module_version": "~2.1.4",
       "layout": "IPY_MODEL_fa65a4c4fd954790a5b1d8b4005cce4b",
       "width": "240"
      }
     },
     "515672f180a54244ae5fe40307f7df76": {
      "model_module": "jupyter-js-widgets",
      "model_module_version": "~2.1.4",
      "model_name": "LayoutModel",
      "state": {
       "_model_module_version": "~2.1.4",
       "_view_module_version": "~2.1.4"
      }
     },
     "516a8d1d05f5407cb47537e787e25640": {
      "model_module": "jupyter-js-widgets",
      "model_module_version": "~2.1.4",
      "model_name": "LayoutModel",
      "state": {
       "_model_module_version": "~2.1.4",
       "_view_module_version": "~2.1.4"
      }
     },
     "517f15a6f8dd472d83315a127c7e45a0": {
      "model_module": "jupyter-js-widgets",
      "model_module_version": "~2.1.4",
      "model_name": "PlayModel",
      "state": {
       "_model_module_version": "~2.1.4",
       "_view_module_version": "~2.1.4",
       "layout": "IPY_MODEL_eb098535d8db413c8f480829f15c47e1",
       "max": 1000000
      }
     },
     "51908f3120184404a7f156cbebd6e14d": {
      "model_module": "jupyter-js-widgets",
      "model_module_version": "~2.1.4",
      "model_name": "CheckboxModel",
      "state": {
       "_model_module_version": "~2.1.4",
       "_view_module_version": "~2.1.4",
       "description": "Update GUI",
       "disabled": false,
       "layout": "IPY_MODEL_e47001e57ac54e9f8a2ab2e8df09669e",
       "value": true
      }
     },
     "51f31a66ee6344d1b46f5d66e58e943f": {
      "model_module": "jupyter-js-widgets",
      "model_module_version": "~2.1.4",
      "model_name": "FloatSliderModel",
      "state": {
       "_model_module_version": "~2.1.4",
       "_view_module_version": "~2.1.4",
       "layout": "IPY_MODEL_85f4a64accc246b78f92e92bd776fda2",
       "readout": false,
       "step": 0.1,
       "value": 63.99039306978385
      }
     },
     "5202cd505d2140599c8b55cc18f1a7d7": {
      "model_module": "jupyter-js-widgets",
      "model_module_version": "~2.1.4",
      "model_name": "LayoutModel",
      "state": {
       "_model_module_version": "~2.1.4",
       "_view_module_version": "~2.1.4"
      }
     },
     "520385209b0e4f3693647a145ed69e78": {
      "model_module": "jupyter-js-widgets",
      "model_module_version": "~2.1.4",
      "model_name": "ButtonModel",
      "state": {
       "_model_module_version": "~2.1.4",
       "_view_module_version": "~2.1.4",
       "icon": "step-forward",
       "layout": "IPY_MODEL_99202041f41d42b88334ff11ecac93ed",
       "style": "IPY_MODEL_a47d5192fc8c446991795ec29dee488c"
      }
     },
     "52594e677d8f4625ae8ea661de94e711": {
      "model_module": "jupyter-js-widgets",
      "model_module_version": "~2.1.4",
      "model_name": "LayoutModel",
      "state": {
       "_model_module_version": "~2.1.4",
       "_view_module_version": "~2.1.4"
      }
     },
     "52879bc5c6774bf7af1a87a0ef9bbe60": {
      "model_module": "jupyter-js-widgets",
      "model_module_version": "~2.1.4",
      "model_name": "LayoutModel",
      "state": {
       "_model_module_version": "~2.1.4",
       "_view_module_version": "~2.1.4"
      }
     },
     "52c43ecda4734ed9ab92e93485b46868": {
      "model_module": "jupyter-js-widgets",
      "model_module_version": "~2.1.4",
      "model_name": "HBoxModel",
      "state": {
       "_model_module_version": "~2.1.4",
       "_view_module_version": "~2.1.4",
       "children": [
        "IPY_MODEL_67732218f0974f87b45fb3c14b6ce022",
        "IPY_MODEL_e24d9171103f477ba802495bf0061b5c"
       ],
       "layout": "IPY_MODEL_0211c29a314c443c98ab4a633efcd576"
      }
     },
     "52d03ff5048f4e5f8d070becd8eb6df7": {
      "model_module": "jupyter-js-widgets",
      "model_module_version": "~2.1.4",
      "model_name": "HBoxModel",
      "state": {
       "_model_module_version": "~2.1.4",
       "_view_module_version": "~2.1.4",
       "children": [
        "IPY_MODEL_5d6554007475493b881e0108ef2548e9",
        "IPY_MODEL_f47024d78b9d4433a6d72efb962dd602",
        "IPY_MODEL_e01b503d83aa4d55b95afe4394cec6a9"
       ],
       "layout": "IPY_MODEL_b4ed04224b2b4fa1ba90e9e6ff89509c"
      }
     },
     "52e8bd2bd5f6418591ba89c1db716497": {
      "model_module": "jupyter-js-widgets",
      "model_module_version": "~2.1.4",
      "model_name": "VBoxModel",
      "state": {
       "_model_module_version": "~2.1.4",
       "_view_module_version": "~2.1.4",
       "children": [
        "IPY_MODEL_9a5487cab37f47e8be8c34472b117b76",
        "IPY_MODEL_4621e2b571cb4809953ac8629911cb82"
       ],
       "layout": "IPY_MODEL_9a0ade31df09475aa499712ce974bc51"
      }
     },
     "52f8e4553dc549bba95d03a96f2c951a": {
      "model_module": "jupyter-js-widgets",
      "model_module_version": "~2.1.4",
      "model_name": "VBoxModel",
      "state": {
       "_model_module_version": "~2.1.4",
       "_view_module_version": "~2.1.4",
       "children": [
        "IPY_MODEL_0a58aa2ef86946c0861a737633fa7b32",
        "IPY_MODEL_81e58bbcdfc3487a9bd513a8ee6a5c0d",
        "IPY_MODEL_817cc3cc9e1a4b6382ece3e8fc151cce"
       ],
       "layout": "IPY_MODEL_3bbcaf9ff3224822a86f484b59a50fd8"
      }
     },
     "5346a240e9e146919dd05f789353629a": {
      "model_module": "jupyter-js-widgets",
      "model_module_version": "~2.1.4",
      "model_name": "LayoutModel",
      "state": {
       "_model_module_version": "~2.1.4",
       "_view_module_version": "~2.1.4"
      }
     },
     "53a74d443d324fa9b69677bc4637c313": {
      "model_module": "jupyter-js-widgets",
      "model_module_version": "~2.1.4",
      "model_name": "LayoutModel",
      "state": {
       "_model_module_version": "~2.1.4",
       "_view_module_version": "~2.1.4"
      }
     },
     "53c0f862e0d54ae89c5d29555fd10054": {
      "model_module": "jupyter-js-widgets",
      "model_module_version": "~2.1.4",
      "model_name": "LayoutModel",
      "state": {
       "_model_module_version": "~2.1.4",
       "_view_module_version": "~2.1.4"
      }
     },
     "53c6507218534f7b981b180488327c6d": {
      "model_module": "jupyter-js-widgets",
      "model_module_version": "~2.1.4",
      "model_name": "LayoutModel",
      "state": {
       "_model_module_version": "~2.1.4",
       "_view_module_version": "~2.1.4"
      }
     },
     "53f764c4c6134433a1d28e83e7d125fc": {
      "model_module": "jupyter-js-widgets",
      "model_module_version": "~2.1.4",
      "model_name": "ButtonModel",
      "state": {
       "_model_module_version": "~2.1.4",
       "_view_module_version": "~2.1.4",
       "description": "Clear",
       "layout": "IPY_MODEL_364e37ccabf344619c0688439e8c0dd9",
       "style": "IPY_MODEL_7710df8f8f5a4aa8aa8b3ed4f88725aa"
      }
     },
     "54247f0e886f4b688c214c0bf7df356a": {
      "model_module": "jupyter-js-widgets",
      "model_module_version": "~2.1.4",
      "model_name": "LayoutModel",
      "state": {
       "_model_module_version": "~2.1.4",
       "_view_module_version": "~2.1.4"
      }
     },
     "543e08aefd1b45ad9b7918722fcb55d6": {
      "model_module": "jupyter-js-widgets",
      "model_module_version": "~2.1.4",
      "model_name": "VBoxModel",
      "state": {
       "_model_module_version": "~2.1.4",
       "_view_module_version": "~2.1.4",
       "children": [
        "IPY_MODEL_05ce4ec510a14dad8572fa57bbfa2708",
        "IPY_MODEL_0c6771b673c647329f4e8cad297744ca"
       ],
       "layout": "IPY_MODEL_63333c24382c403da87b0bff08b1160f"
      }
     },
     "547d5b497afd48da94f791d87ee66164": {
      "model_module": "jupyter-js-widgets",
      "model_module_version": "~2.1.4",
      "model_name": "LayoutModel",
      "state": {
       "_model_module_version": "~2.1.4",
       "_view_module_version": "~2.1.4"
      }
     },
     "5481657ea5654d76be81295d1b8682fd": {
      "model_module": "jupyter-js-widgets",
      "model_module_version": "~2.1.4",
      "model_name": "LayoutModel",
      "state": {
       "_model_module_version": "~2.1.4",
       "_view_module_version": "~2.1.4"
      }
     },
     "54c0f56071a643739a0121ffb26f7257": {
      "model_module": "jupyter-js-widgets",
      "model_module_version": "~2.1.4",
      "model_name": "LayoutModel",
      "state": {
       "_model_module_version": "~2.1.4",
       "_view_module_version": "~2.1.4"
      }
     },
     "550250e4114443f79f976458d826f831": {
      "model_module": "jupyter-js-widgets",
      "model_module_version": "~2.1.4",
      "model_name": "ImageModel",
      "state": {
       "_b64value": "iVBORw0KGgoAAAANSUhEUgAAADwAAAAoCAIAAAAt2Q6oAAAA8klEQVR4nO3WsQrCMBCA4ctd+uwuHbsoCCq4CNVB0KGOdXDo4iSCa0cXXaUOrVKDlkbl0sD9Q8jWj5TmquJDDr6FrgHfJGiuBM2VoLkSNFeC5kq7BgAA3Papeg0A6quxcYO+7hJEJCKlFCI+QS2zRudJDADGedQ3DRVFQURBEBCR7XPrvUcfF2NELM+gXI1357YKnU0ielRy3bKa09tBqLXWuhNfZMs6faKfEjRXgubKS7Q6X04AEPaGxj3dPFx+n4jGGLf696jQRv1o5h+6oelo5R/6Ly3nqX9oo8068w9tm5dXnqC5EjRXguZK0Fx5ib4DZCE5MMDH4PcAAAAASUVORK5CYII=",
       "_model_module_version": "~2.1.4",
       "_view_module_version": "~2.1.4",
       "layout": "IPY_MODEL_aed895e60b83496da143d19758c4607d",
       "width": "240"
      }
     },
     "551de7f7e16d403eb5708981f296e3fb": {
      "model_module": "jupyter-js-widgets",
      "model_module_version": "~2.1.4",
      "model_name": "LayoutModel",
      "state": {
       "_model_module_version": "~2.1.4",
       "_view_module_version": "~2.1.4",
       "height": "248px",
       "padding": "0px 0px 0px 0px",
       "width": "10px"
      }
     },
     "5536b1548c974736a5f1d0ef02891cdb": {
      "model_module": "jupyter-js-widgets",
      "model_module_version": "~2.1.4",
      "model_name": "HBoxModel",
      "state": {
       "_model_module_version": "~2.1.4",
       "_view_module_version": "~2.1.4",
       "children": [
        "IPY_MODEL_310410dc36cf4d9aaccb2bdc25f63870",
        "IPY_MODEL_b6b8fc8dcdb6405eb50e032796477d8e",
        "IPY_MODEL_23b81e70dfdd497cade8689d520e75e0"
       ],
       "layout": "IPY_MODEL_88bc26bc14d649d4b4fa4646de4635a6"
      }
     },
     "5578b27f5d5a4a31bf82df25b3f9dd43": {
      "model_module": "jupyter-js-widgets",
      "model_module_version": "~2.1.4",
      "model_name": "VBoxModel",
      "state": {
       "_model_module_version": "~2.1.4",
       "_view_module_version": "~2.1.4",
       "children": [
        "IPY_MODEL_0d44824368a240c0ba2bb181a0401f0d",
        "IPY_MODEL_d012f2212eb14775bab8684e47f3faad"
       ],
       "layout": "IPY_MODEL_608b51f9de78478cbba64c3f30a67515"
      }
     },
     "557e35ca7753479491ed8104df044c66": {
      "model_module": "jupyter-js-widgets",
      "model_module_version": "~2.1.4",
      "model_name": "LayoutModel",
      "state": {
       "_model_module_version": "~2.1.4",
       "_view_module_version": "~2.1.4",
       "height": "30px",
       "padding": "0px 0px 0px 10px",
       "width": "260px"
      }
     },
     "557ffad776b94898928f263593cf0aa6": {
      "model_module": "jupyter-js-widgets",
      "model_module_version": "~2.1.4",
      "model_name": "LayoutModel",
      "state": {
       "_model_module_version": "~2.1.4",
       "_view_module_version": "~2.1.4"
      }
     },
     "560f48e9f1d743df877ace0746fa2610": {
      "model_module": "jupyter-js-widgets",
      "model_module_version": "~2.1.4",
      "model_name": "ImageModel",
      "state": {
       "_b64value": "iVBORw0KGgoAAAANSUhEUgAAADwAAAAoCAIAAAAt2Q6oAAAA8UlEQVR4nO3WoQ7CMBCA4d5d++gYggJDwMwgEJshATHkEIRgUCCwkxiwZAhGMxq2bIRcaXKfWOb655b0BvExV6FB3wHfkGguEs1ForlINBeJ5qJ9B5TuhwzeKaWqz+qLt+jbNkVEIgIARLRBbXSOztPYDqBuEg2KokBEYwwRdT3a+hx9SiJ8sZOofji/yuhdNCQirTURPVv9ZjXTm8kAAIwxvks6+OuJ1pFoLhLNJchouFzPSql+b+rc0w3L5Vcb0Vnj7f89ymjHeDQPL7rBLFqGF/0riyQLL9qxXu3Di+4kyCtPorlINBeJ5iLRXIKMfgDJGDkVat0rzwAAAABJRU5ErkJggg==",
       "_model_module_version": "~2.1.4",
       "_view_module_version": "~2.1.4",
       "layout": "IPY_MODEL_c8baa2b56eb247299289c12be79a75c1",
       "width": "240"
      }
     },
     "564a1b86c6b64ad3a559442b4f7469ee": {
      "model_module": "jupyter-js-widgets",
      "model_module_version": "~2.1.4",
      "model_name": "LayoutModel",
      "state": {
       "_model_module_version": "~2.1.4",
       "_view_module_version": "~2.1.4"
      }
     },
     "566181746e57497fa1ac33969ecb7dc1": {
      "model_module": "jupyter-js-widgets",
      "model_module_version": "~2.1.4",
      "model_name": "LayoutModel",
      "state": {
       "_model_module_version": "~2.1.4",
       "_view_module_version": "~2.1.4"
      }
     },
     "56764dc2315b4482a610b1db9d214e82": {
      "model_module": "jupyter-js-widgets",
      "model_module_version": "~2.1.4",
      "model_name": "VBoxModel",
      "state": {
       "_model_module_version": "~2.1.4",
       "_view_module_version": "~2.1.4",
       "children": [
        "IPY_MODEL_d6ee39962bd2411183302576d945b05b",
        "IPY_MODEL_2a95bca5e64c46de83779180deab0710"
       ],
       "layout": "IPY_MODEL_5fcc5a31ba0646c08a661dd8e4a2d8b1"
      }
     },
     "56eaa697f1cd4acb93ad579cb1e1defc": {
      "model_module": "jupyter-js-widgets",
      "model_module_version": "~2.1.4",
      "model_name": "ButtonModel",
      "state": {
       "_model_module_version": "~2.1.4",
       "_view_module_version": "~2.1.4",
       "icon": "step-forward",
       "layout": "IPY_MODEL_653e1b2691d74378b715defd574c68bb",
       "style": "IPY_MODEL_3d8d329992c5429fb58fa5c421860448"
      }
     },
     "57728563ed0a4857821bb88f32e5a689": {
      "model_module": "jupyter-js-widgets",
      "model_module_version": "~2.1.4",
      "model_name": "ButtonStyleModel",
      "state": {
       "_model_module_version": "~2.1.4",
       "_view_module_version": "~2.1.4"
      }
     },
     "57f3ae3a2cb0469e837e24f1ec968c4a": {
      "model_module": "jupyter-js-widgets",
      "model_module_version": "~2.1.4",
      "model_name": "LayoutModel",
      "state": {
       "_model_module_version": "~2.1.4",
       "_view_module_version": "~2.1.4"
      }
     },
     "58403090316c401d83d5018892452c25": {
      "model_module": "jupyter-js-widgets",
      "model_module_version": "~2.1.4",
      "model_name": "LayoutModel",
      "state": {
       "_model_module_version": "~2.1.4",
       "_view_module_version": "~2.1.4",
       "height": "20px",
       "padding": "0px 0px 0px 0px",
       "width": "248px"
      }
     },
     "58dca105b3cc4d8cb66a04a98d7d8ad5": {
      "model_module": "jupyter-js-widgets",
      "model_module_version": "~2.1.4",
      "model_name": "TextModel",
      "state": {
       "_model_module_version": "~2.1.4",
       "_view_module_version": "~2.1.4",
       "description": "Time:",
       "layout": "IPY_MODEL_d98dd8bf425f45909987ab81fa4908e7",
       "value": "0.00 seconds"
      }
     },
     "58e4178eef9445379fa19eb14756ac7f": {
      "model_module": "jupyter-js-widgets",
      "model_module_version": "~2.1.4",
      "model_name": "LayoutModel",
      "state": {
       "_model_module_version": "~2.1.4",
       "_view_module_version": "~2.1.4"
      }
     },
     "58e81b43b9384b6bbb37965e05672fb0": {
      "model_module": "jupyter-js-widgets",
      "model_module_version": "~2.1.4",
      "model_name": "LayoutModel",
      "state": {
       "_model_module_version": "~2.1.4",
       "_view_module_version": "~2.1.4"
      }
     },
     "58fd8590864942ab9ff5bbffa76378d4": {
      "model_module": "jupyter-js-widgets",
      "model_module_version": "~2.1.4",
      "model_name": "LayoutModel",
      "state": {
       "_model_module_version": "~2.1.4",
       "_view_module_version": "~2.1.4"
      }
     },
     "592ed2fd27aa4eaba55b2e2c198e6b64": {
      "model_module": "jupyter-js-widgets",
      "model_module_version": "~2.1.4",
      "model_name": "LayoutModel",
      "state": {
       "_model_module_version": "~2.1.4",
       "_view_module_version": "~2.1.4"
      }
     },
     "5951a6c22c66468abb4875e3755ccaa5": {
      "model_module": "jupyter-js-widgets",
      "model_module_version": "~2.1.4",
      "model_name": "LayoutModel",
      "state": {
       "_model_module_version": "~2.1.4",
       "_view_module_version": "~2.1.4"
      }
     },
     "597abce3bab1403aa8e9ce2495d497f9": {
      "model_module": "jupyter-js-widgets",
      "model_module_version": "~2.1.4",
      "model_name": "ButtonStyleModel",
      "state": {
       "_model_module_version": "~2.1.4",
       "_view_module_version": "~2.1.4"
      }
     },
     "59dd988595a44cc88fdb41142c87d87d": {
      "model_module": "jupyter-js-widgets",
      "model_module_version": "~2.1.4",
      "model_name": "LayoutModel",
      "state": {
       "_model_module_version": "~2.1.4",
       "_view_module_version": "~2.1.4"
      }
     },
     "59e12a4cd5c44f76a011f45b309c44fd": {
      "model_module": "jupyter-js-widgets",
      "model_module_version": "~2.1.4",
      "model_name": "ImageModel",
      "state": {
       "_b64value": "iVBORw0KGgoAAAANSUhEUgAAADwAAAAoCAIAAAAt2Q6oAAABFklEQVR4nO3XMQ6CMBSA4T5aLuEFvI8XAk5hYhwcNHEQEx1MjJuLB3DRgZXVxLjjUClVCoQS2z7CP5BCNPlS2xIhvqUEW55tgE4D2lQD2lQo0ZBln9H2jubsK9A8FPTf5TEZj6w4WqVY0+671RvRcTfy06Oc9qZ8Xo4AAACEEHkgrvKgoJSeZN84ccv0WLz0FHt5AMCvQvm/6maaVEx2sl/SvCq0zZm+rmf80/wLlFLf9xnr9Pt0D+VGHNCmakAHQWiE0a4GdBSFRhjt6uPycDOU6IY34uOVlB/Op7HdN2IdWimWWy0O+NBV7TZnO2htsYFQbkQ12uVpJkq042JSRrsvJvKfABRcHkNkFfXo9HC8AW0qlOg34ppuGHPAPhEAAAAASUVORK5CYII=",
       "_model_module_version": "~2.1.4",
       "_view_module_version": "~2.1.4",
       "layout": "IPY_MODEL_63fa431d866942caa155210d80547c85",
       "width": "240"
      }
     },
     "5a2d42565a2d448c938aa1533d487713": {
      "model_module": "jupyter-js-widgets",
      "model_module_version": "~2.1.4",
      "model_name": "LayoutModel",
      "state": {
       "_model_module_version": "~2.1.4",
       "_view_module_version": "~2.1.4",
       "height": "20px",
       "padding": "0px 0px 0px 0px",
       "width": "248px"
      }
     },
     "5a43961f02184716b0e605bd51996fe3": {
      "model_module": "jupyter-js-widgets",
      "model_module_version": "~2.1.4",
      "model_name": "LayoutModel",
      "state": {
       "_model_module_version": "~2.1.4",
       "_view_module_version": "~2.1.4",
       "height": "20px",
       "padding": "0px 0px 0px 0px",
       "width": "248px"
      }
     },
     "5a5fe5acdf964f728f89484d4f770594": {
      "model_module": "jupyter-js-widgets",
      "model_module_version": "~2.1.4",
      "model_name": "HTMLModel",
      "state": {
       "_model_module_version": "~2.1.4",
       "_view_module_version": "~2.1.4",
       "layout": "IPY_MODEL_6c5c58c6c6da46fe80efd67f41dceaf5",
       "value": "<svg baseProfile=\"full\" height=\"240\" version=\"1.1\" width=\"240\" xmlns=\"http://www.w3.org/2000/svg\" xmlns:ev=\"http://www.w3.org/2001/xml-events\" xmlns:xlink=\"http://www.w3.org/1999/xlink\"><defs /><rect fill=\"white\" height=\"240\" stroke=\"#000000\" stroke-width=\"1\" width=\"240\" x=\"0\" y=\"0\" /><rect fill=\"#eef3dd\" height=\"240.0\" stroke=\"#bebebe\" stroke-width=\"1\" width=\"240.0\" x=\"0.0\" y=\"0.0\" /><circle cx=\"120.0\" cy=\"195.0\" fill=\"#ffff00\" r=\"15.0\" stroke=\"#ffff00\" stroke-width=\"1\" /><line fill=\"#800080\" stroke=\"#add8e6\" stroke-width=\"1\" x1=\"199.5\" x2=\"0.0\" y1=\"114.0\" y2=\"114.0\" /><line fill=\"#800080\" stroke=\"#add8e6\" stroke-width=\"1\" x1=\"201.0\" x2=\"0.0\" y1=\"109.80000000000001\" y2=\"16.07215199999999\" /><line fill=\"#800080\" stroke=\"#add8e6\" stroke-width=\"1\" x1=\"203.4\" x2=\"112.77724019461742\" y1=\"107.99999999999999\" y2=\"0.0\" /><line fill=\"#800080\" stroke=\"#add8e6\" stroke-width=\"1\" x1=\"207.0\" x2=\"178.4634099424212\" y1=\"106.5\" y2=\"0.0\" /><line fill=\"#800080\" stroke=\"#add8e6\" stroke-width=\"1\" x1=\"213.0\" x2=\"240.0\" y1=\"106.5\" y2=\"5.734632000000062\" /><line fill=\"#800080\" stroke=\"#add8e6\" stroke-width=\"1\" x1=\"216.6\" x2=\"240.0\" y1=\"107.99999999999999\" y2=\"80.11296600000001\" /><line fill=\"#800080\" stroke=\"#add8e6\" stroke-width=\"1\" x1=\"219.0\" x2=\"240.0\" y1=\"109.80000000000001\" y2=\"100.007538\" /><line fill=\"#800080\" stroke=\"#add8e6\" stroke-width=\"1\" x1=\"220.5\" x2=\"240.0\" y1=\"114.0\" y2=\"114.0\" /><line fill=\"#800080\" stroke=\"#add8e6\" stroke-width=\"1\" x1=\"220.5\" x2=\"240.0\" y1=\"126.0\" y2=\"126.0\" /><line fill=\"#800080\" stroke=\"#add8e6\" stroke-width=\"1\" x1=\"219.0\" x2=\"240.0\" y1=\"130.2\" y2=\"139.992462\" /><line fill=\"#800080\" stroke=\"#add8e6\" stroke-width=\"1\" x1=\"216.6\" x2=\"240.0\" y1=\"132.0\" y2=\"159.88703399999997\" /><line fill=\"#800080\" stroke=\"#add8e6\" stroke-width=\"1\" x1=\"213.0\" x2=\"240.0\" y1=\"133.5\" y2=\"234.26536799999994\" /><line fill=\"#800080\" stroke=\"#add8e6\" stroke-width=\"1\" x1=\"207.0\" x2=\"178.4634099424212\" y1=\"133.5\" y2=\"240.0\" /><line fill=\"#800080\" stroke=\"#add8e6\" stroke-width=\"1\" x1=\"203.4\" x2=\"112.7772401946174\" y1=\"132.0\" y2=\"240.0\" /><line fill=\"#800080\" stroke=\"#add8e6\" stroke-width=\"1\" x1=\"201.0\" x2=\"0.0\" y1=\"130.2\" y2=\"223.927848\" /><line fill=\"#800080\" stroke=\"#add8e6\" stroke-width=\"1\" x1=\"199.5\" x2=\"0.0\" y1=\"126.0\" y2=\"126.0\" /><line fill=\"#800080\" stroke=\"#a020f0\" stroke-width=\"1\" x1=\"210.0\" x2=\"2.1539193796210117\" y1=\"120.0\" y2=\"0.0\" /><line fill=\"#800080\" stroke=\"#a020f0\" stroke-width=\"1\" x1=\"210.0\" x2=\"240.0\" y1=\"120.0\" y2=\"102.67948799999999\" /><line fill=\"#800080\" stroke=\"#ffa500\" stroke-width=\"1\" x1=\"120.0\" x2=\"199.5\" y1=\"195.0\" y2=\"106.5\" /><line fill=\"#800080\" stroke=\"#ffa500\" stroke-width=\"1\" x1=\"120.0\" x2=\"220.5\" y1=\"195.0\" y2=\"106.5\" /><polygon fill=\"red\" points=\"205.2,106.5 199.5,111.0 199.5,129.0 205.2,133.5 214.8,133.5 220.5,129.0 220.5,111.0 214.8,106.5\" stroke=\"red\" stroke-width=\"1\" /><polygon points=\"-3.0,-3.0 0,0 3.0,-3.0 0,3.0\" stroke=\"black\" stroke-width=\"1\" transform=\"translate(210.0,120.0) rotate(180.0)\" /><polygon fill=\"black\" points=\"213.6,111.6 213.6,116.39999999999999 206.4,116.39999999999999 206.4,111.6\" stroke=\"black\" stroke-width=\"1\" /><circle cx=\"199.5\" cy=\"106.5\" fill=\"yellow\" r=\"1.5\" stroke=\"orange\" stroke-width=\"1\" /><circle cx=\"220.5\" cy=\"106.5\" fill=\"yellow\" r=\"1.5\" stroke=\"orange\" stroke-width=\"1\" /></svg>"
      }
     },
     "5a6c1e29e5f34fd8a23507a716e0cab0": {
      "model_module": "jupyter-js-widgets",
      "model_module_version": "~2.1.4",
      "model_name": "LayoutModel",
      "state": {
       "_model_module_version": "~2.1.4",
       "_view_module_version": "~2.1.4"
      }
     },
     "5a7e5d1a618d45eab53058fe595b89c3": {
      "model_module": "jupyter-js-widgets",
      "model_module_version": "~2.1.4",
      "model_name": "ButtonStyleModel",
      "state": {
       "_model_module_version": "~2.1.4",
       "_view_module_version": "~2.1.4"
      }
     },
     "5aa856eff35e46bc9403ead92ab43a1a": {
      "model_module": "jupyter-js-widgets",
      "model_module_version": "~2.1.4",
      "model_name": "PlayModel",
      "state": {
       "_model_module_version": "~2.1.4",
       "_view_module_version": "~2.1.4",
       "layout": "IPY_MODEL_38bff22e8b734843831498b51617dee9",
       "max": 1000000,
       "value": 63
      }
     },
     "5ad7f5778218446e9f60fbbb028dd748": {
      "model_module": "jupyter-js-widgets",
      "model_module_version": "~2.1.4",
      "model_name": "LayoutModel",
      "state": {
       "_model_module_version": "~2.1.4",
       "_view_module_version": "~2.1.4"
      }
     },
     "5b4571a2e7cf4b05875d5d6dbdccacb0": {
      "model_module": "jupyter-js-widgets",
      "model_module_version": "~2.1.4",
      "model_name": "HBoxModel",
      "state": {
       "_model_module_version": "~2.1.4",
       "_view_module_version": "~2.1.4",
       "children": [
        "IPY_MODEL_a8a3a99f7c7143d0bcbb65c8b0cc4162",
        "IPY_MODEL_6f02fedc5948477d9dd5f2dfe603c929"
       ],
       "layout": "IPY_MODEL_eb00937941824961a45394ff57587acd"
      }
     },
     "5b8eb485edba4109941400944f7e566f": {
      "model_module": "jupyter-js-widgets",
      "model_module_version": "~2.1.4",
      "model_name": "OutputModel",
      "state": {
       "_dom_classes": [],
       "_model_module": "jupyter-js-widgets",
       "_model_module_version": "~2.1.4",
       "_view_module": "jupyter-js-widgets",
       "_view_module_version": "~2.1.4",
       "layout": "IPY_MODEL_8763ca41e53649a789e17b3b14602b86",
       "msg_throttle": 1
      }
     },
     "5ba41aedf72c4873af244142a2a165bf": {
      "model_module": "jupyter-js-widgets",
      "model_module_version": "~2.1.4",
      "model_name": "LayoutModel",
      "state": {
       "_model_module_version": "~2.1.4",
       "_view_module_version": "~2.1.4"
      }
     },
     "5c0cf59550844fe8bb419a2f58d19da2": {
      "model_module": "jupyter-js-widgets",
      "model_module_version": "~2.1.4",
      "model_name": "OutputModel",
      "state": {
       "_dom_classes": [],
       "_model_module": "jupyter-js-widgets",
       "_model_module_version": "~2.1.4",
       "_view_module": "jupyter-js-widgets",
       "_view_module_version": "~2.1.4",
       "layout": "IPY_MODEL_2fe3c0e6f1994b0ba51c1d48174b57bf",
       "msg_throttle": 1
      }
     },
     "5c1d1d7fbeb14a159d3a5639c73c6f3d": {
      "model_module": "jupyter-js-widgets",
      "model_module_version": "~2.1.4",
      "model_name": "LayoutModel",
      "state": {
       "_model_module_version": "~2.1.4",
       "_view_module_version": "~2.1.4",
       "height": "20px",
       "padding": "0px 0px 0px 0px",
       "width": "248px"
      }
     },
     "5c2b8129c7fc4741a5238ee4e7f00498": {
      "model_module": "jupyter-js-widgets",
      "model_module_version": "~2.1.4",
      "model_name": "ButtonStyleModel",
      "state": {
       "_model_module_version": "~2.1.4",
       "_view_module_version": "~2.1.4"
      }
     },
     "5c87c115897c42c9bc1e66512c1f3473": {
      "model_module": "jupyter-js-widgets",
      "model_module_version": "~2.1.4",
      "model_name": "FloatSliderModel",
      "state": {
       "_model_module_version": "~2.1.4",
       "_view_module_version": "~2.1.4",
       "layout": "IPY_MODEL_6f740577e5844c09b41841f40631aacd",
       "readout": false,
       "step": 0.1,
       "value": 87.5
      }
     },
     "5c8e6e05ed2e497d9514d197d208ba28": {
      "model_module": "jupyter-js-widgets",
      "model_module_version": "~2.1.4",
      "model_name": "LayoutModel",
      "state": {
       "_model_module_version": "~2.1.4",
       "_view_module_version": "~2.1.4"
      }
     },
     "5c9d4f10523a4983943cef0191548efa": {
      "model_module": "jupyter-js-widgets",
      "model_module_version": "~2.1.4",
      "model_name": "LayoutModel",
      "state": {
       "_model_module_version": "~2.1.4",
       "_view_module_version": "~2.1.4"
      }
     },
     "5ca07021155b4d0f998f2afa8e1a9a1d": {
      "model_module": "jupyter-js-widgets",
      "model_module_version": "~2.1.4",
      "model_name": "FloatSliderModel",
      "state": {
       "_model_module_version": "~2.1.4",
       "_view_module_version": "~2.1.4",
       "layout": "IPY_MODEL_cbafed798d0147d58d9a1d3986f79dd1",
       "readout": false,
       "step": 0.1,
       "value": 33.44435205433106
      }
     },
     "5ce9cf25b55445f8abb452a32a3ede09": {
      "model_module": "jupyter-js-widgets",
      "model_module_version": "~2.1.4",
      "model_name": "TextModel",
      "state": {
       "_model_module_version": "~2.1.4",
       "_view_module_version": "~2.1.4",
       "description": "Time:",
       "layout": "IPY_MODEL_cefda8653e6b46b1ac2ca86a7015357a",
       "value": "0.00 seconds"
      }
     },
     "5d07acbae78a4f6284a939a107ae9b6c": {
      "model_module": "jupyter-js-widgets",
      "model_module_version": "~2.1.4",
      "model_name": "VBoxModel",
      "state": {
       "_model_module_version": "~2.1.4",
       "_view_module_version": "~2.1.4",
       "children": [
        "IPY_MODEL_22e63ad046874813be595f1a30285455",
        "IPY_MODEL_fa6d1373f62a4253a333327c70b83ac6"
       ],
       "layout": "IPY_MODEL_2975294e234c419ebb244e422db4cad7"
      }
     },
     "5d138e220cd74364a2d54a4382f5acb3": {
      "model_module": "jupyter-js-widgets",
      "model_module_version": "~2.1.4",
      "model_name": "LayoutModel",
      "state": {
       "_model_module_version": "~2.1.4",
       "_view_module_version": "~2.1.4"
      }
     },
     "5d5c57c582a34cc684612e7b12c0c6df": {
      "model_module": "jupyter-js-widgets",
      "model_module_version": "~2.1.4",
      "model_name": "HBoxModel",
      "state": {
       "_model_module_version": "~2.1.4",
       "_view_module_version": "~2.1.4",
       "children": [
        "IPY_MODEL_1dad610463664b3491edc3f7ab7e4414",
        "IPY_MODEL_b5e1a4d3844c4fbd814db34115072ae7"
       ],
       "layout": "IPY_MODEL_c717a4be0344428aa749fb2f72ff7934"
      }
     },
     "5d6554007475493b881e0108ef2548e9": {
      "model_module": "jupyter-js-widgets",
      "model_module_version": "~2.1.4",
      "model_name": "ButtonModel",
      "state": {
       "_model_module_version": "~2.1.4",
       "_view_module_version": "~2.1.4",
       "icon": "step-forward",
       "layout": "IPY_MODEL_06d29478904e4adbae0b8a0777aa361a",
       "style": "IPY_MODEL_63e86b331bea4deebc4f0cb1f6206a83"
      }
     },
     "5d6f01bcb9b54323a42125daf5a37401": {
      "model_module": "jupyter-js-widgets",
      "model_module_version": "~2.1.4",
      "model_name": "OutputModel",
      "state": {
       "_dom_classes": [],
       "_model_module": "jupyter-js-widgets",
       "_model_module_version": "~2.1.4",
       "_view_module": "jupyter-js-widgets",
       "_view_module_version": "~2.1.4",
       "layout": "IPY_MODEL_80d186f557704403b90c2a08f58adcd3",
       "msg_throttle": 1
      }
     },
     "5d72c675c265496a812b3a1fd9c9a518": {
      "model_module": "jupyter-js-widgets",
      "model_module_version": "~2.1.4",
      "model_name": "LayoutModel",
      "state": {
       "_model_module_version": "~2.1.4",
       "_view_module_version": "~2.1.4"
      }
     },
     "5ddb288355924175b633fcec3e65aeac": {
      "model_module": "jupyter-js-widgets",
      "model_module_version": "~2.1.4",
      "model_name": "HBoxModel",
      "state": {
       "_model_module_version": "~2.1.4",
       "_view_module_version": "~2.1.4",
       "children": [
        "IPY_MODEL_ad4e92b024da43bf86f3347788cbac6f",
        "IPY_MODEL_5ce9cf25b55445f8abb452a32a3ede09"
       ],
       "layout": "IPY_MODEL_0455b41d4451468d8bfad7aa10161ff3"
      }
     },
     "5e4105cda02743a981a1e438f6fb869c": {
      "model_module": "jupyter-js-widgets",
      "model_module_version": "~2.1.4",
      "model_name": "HTMLModel",
      "state": {
       "_model_module_version": "~2.1.4",
       "_view_module_version": "~2.1.4",
       "layout": "IPY_MODEL_2c63f0a5b5f64768af94537aebcec424",
       "value": "<svg baseProfile=\"full\" height=\"240\" version=\"1.1\" width=\"240\" xmlns=\"http://www.w3.org/2000/svg\" xmlns:ev=\"http://www.w3.org/2001/xml-events\" xmlns:xlink=\"http://www.w3.org/1999/xlink\"><defs /><rect fill=\"white\" height=\"240\" stroke=\"#000000\" stroke-width=\"1\" width=\"240\" x=\"0\" y=\"0\" /><rect fill=\"#eef3dd\" height=\"240.0\" stroke=\"#bebebe\" stroke-width=\"1\" width=\"240.0\" x=\"0.0\" y=\"0.0\" /><circle cx=\"120.0\" cy=\"195.0\" fill=\"#ffff00\" r=\"15.0\" stroke=\"#ffff00\" stroke-width=\"1\" /><line fill=\"#800080\" stroke=\"#add8e6\" stroke-width=\"1\" x1=\"199.5\" x2=\"0.0\" y1=\"114.0\" y2=\"114.0\" /><line fill=\"#800080\" stroke=\"#add8e6\" stroke-width=\"1\" x1=\"201.0\" x2=\"0.0\" y1=\"109.80000000000001\" y2=\"16.07215199999999\" /><line fill=\"#800080\" stroke=\"#add8e6\" stroke-width=\"1\" x1=\"203.4\" x2=\"112.77724019461742\" y1=\"107.99999999999999\" y2=\"0.0\" /><line fill=\"#800080\" stroke=\"#add8e6\" stroke-width=\"1\" x1=\"207.0\" x2=\"178.4634099424212\" y1=\"106.5\" y2=\"0.0\" /><line fill=\"#800080\" stroke=\"#add8e6\" stroke-width=\"1\" x1=\"213.0\" x2=\"240.0\" y1=\"106.5\" y2=\"5.734632000000062\" /><line fill=\"#800080\" stroke=\"#add8e6\" stroke-width=\"1\" x1=\"216.6\" x2=\"240.0\" y1=\"107.99999999999999\" y2=\"80.11296600000001\" /><line fill=\"#800080\" stroke=\"#add8e6\" stroke-width=\"1\" x1=\"219.0\" x2=\"240.0\" y1=\"109.80000000000001\" y2=\"100.007538\" /><line fill=\"#800080\" stroke=\"#add8e6\" stroke-width=\"1\" x1=\"220.5\" x2=\"240.0\" y1=\"114.0\" y2=\"114.0\" /><line fill=\"#800080\" stroke=\"#add8e6\" stroke-width=\"1\" x1=\"220.5\" x2=\"240.0\" y1=\"126.0\" y2=\"126.0\" /><line fill=\"#800080\" stroke=\"#add8e6\" stroke-width=\"1\" x1=\"219.0\" x2=\"240.0\" y1=\"130.2\" y2=\"139.992462\" /><line fill=\"#800080\" stroke=\"#add8e6\" stroke-width=\"1\" x1=\"216.6\" x2=\"240.0\" y1=\"132.0\" y2=\"159.88703399999997\" /><line fill=\"#800080\" stroke=\"#add8e6\" stroke-width=\"1\" x1=\"213.0\" x2=\"240.0\" y1=\"133.5\" y2=\"234.26536799999994\" /><line fill=\"#800080\" stroke=\"#add8e6\" stroke-width=\"1\" x1=\"207.0\" x2=\"178.4634099424212\" y1=\"133.5\" y2=\"240.0\" /><line fill=\"#800080\" stroke=\"#add8e6\" stroke-width=\"1\" x1=\"203.4\" x2=\"112.7772401946174\" y1=\"132.0\" y2=\"240.0\" /><line fill=\"#800080\" stroke=\"#add8e6\" stroke-width=\"1\" x1=\"201.0\" x2=\"0.0\" y1=\"130.2\" y2=\"223.927848\" /><line fill=\"#800080\" stroke=\"#add8e6\" stroke-width=\"1\" x1=\"199.5\" x2=\"0.0\" y1=\"126.0\" y2=\"126.0\" /><line fill=\"#800080\" stroke=\"#a020f0\" stroke-width=\"1\" x1=\"210.0\" x2=\"2.1539193796210117\" y1=\"120.0\" y2=\"0.0\" /><line fill=\"#800080\" stroke=\"#a020f0\" stroke-width=\"1\" x1=\"210.0\" x2=\"240.0\" y1=\"120.0\" y2=\"102.67948799999999\" /><line fill=\"#800080\" stroke=\"#ffa500\" stroke-width=\"1\" x1=\"120.0\" x2=\"199.5\" y1=\"195.0\" y2=\"106.5\" /><line fill=\"#800080\" stroke=\"#ffa500\" stroke-width=\"1\" x1=\"120.0\" x2=\"220.5\" y1=\"195.0\" y2=\"106.5\" /><polygon fill=\"red\" points=\"205.2,106.5 199.5,111.0 199.5,129.0 205.2,133.5 214.8,133.5 220.5,129.0 220.5,111.0 214.8,106.5\" stroke=\"red\" stroke-width=\"1\" /><polygon points=\"-3.0,-3.0 0,0 3.0,-3.0 0,3.0\" stroke=\"black\" stroke-width=\"1\" transform=\"translate(210.0,120.0) rotate(180.0)\" /><polygon fill=\"black\" points=\"213.6,111.6 213.6,116.39999999999999 206.4,116.39999999999999 206.4,111.6\" stroke=\"black\" stroke-width=\"1\" /><circle cx=\"199.5\" cy=\"106.5\" fill=\"yellow\" r=\"1.5\" stroke=\"orange\" stroke-width=\"1\" /><circle cx=\"220.5\" cy=\"106.5\" fill=\"yellow\" r=\"1.5\" stroke=\"orange\" stroke-width=\"1\" /></svg>"
      }
     },
     "5e5531f2de434d7da50086dadf141ec9": {
      "model_module": "jupyter-js-widgets",
      "model_module_version": "~2.1.4",
      "model_name": "ButtonStyleModel",
      "state": {
       "_model_module_version": "~2.1.4",
       "_view_module_version": "~2.1.4"
      }
     },
     "5e9263047ff64136800d948a55185714": {
      "model_module": "jupyter-js-widgets",
      "model_module_version": "~2.1.4",
      "model_name": "LayoutModel",
      "state": {
       "_model_module_version": "~2.1.4",
       "_view_module_version": "~2.1.4",
       "height": "20px",
       "padding": "0px 0px 0px 0px",
       "width": "248px"
      }
     },
     "5eabf3e79ab44ccb92afc7b7238f7e1c": {
      "model_module": "jupyter-js-widgets",
      "model_module_version": "~2.1.4",
      "model_name": "LayoutModel",
      "state": {
       "_model_module_version": "~2.1.4",
       "_view_module_version": "~2.1.4"
      }
     },
     "5eb1918a9430436da90fde0830834530": {
      "model_module": "jupyter-js-widgets",
      "model_module_version": "~2.1.4",
      "model_name": "ButtonStyleModel",
      "state": {
       "_model_module_version": "~2.1.4",
       "_view_module_version": "~2.1.4"
      }
     },
     "5ed5c219293147ae941d3085eeda05c0": {
      "model_module": "jupyter-js-widgets",
      "model_module_version": "~2.1.4",
      "model_name": "LayoutModel",
      "state": {
       "_model_module_version": "~2.1.4",
       "_view_module_version": "~2.1.4"
      }
     },
     "5f1b318729894801959bbb3735bf5173": {
      "model_module": "jupyter-js-widgets",
      "model_module_version": "~2.1.4",
      "model_name": "VBoxModel",
      "state": {
       "_model_module_version": "~2.1.4",
       "_view_module_version": "~2.1.4",
       "children": [
        "IPY_MODEL_47e2f06174444dd79345ae353f731257",
        "IPY_MODEL_e57d2e441eff4d1eb26dd99720ffdf67"
       ],
       "layout": "IPY_MODEL_6b167a40a4424a0fa723372f538d6cd8"
      }
     },
     "5f5892695ec54d6f8415a616fc90f499": {
      "model_module": "jupyter-js-widgets",
      "model_module_version": "~2.1.4",
      "model_name": "LayoutModel",
      "state": {
       "_model_module_version": "~2.1.4",
       "_view_module_version": "~2.1.4"
      }
     },
     "5f89ed3460b74846ab3ddd2ed9949eaa": {
      "model_module": "jupyter-js-widgets",
      "model_module_version": "~2.1.4",
      "model_name": "LayoutModel",
      "state": {
       "_model_module_version": "~2.1.4",
       "_view_module_version": "~2.1.4"
      }
     },
     "5fcc5a31ba0646c08a661dd8e4a2d8b1": {
      "model_module": "jupyter-js-widgets",
      "model_module_version": "~2.1.4",
      "model_name": "LayoutModel",
      "state": {
       "_model_module_version": "~2.1.4",
       "_view_module_version": "~2.1.4"
      }
     },
     "604726b21c1445d59f3d2afeeb5a2f33": {
      "model_module": "jupyter-js-widgets",
      "model_module_version": "~2.1.4",
      "model_name": "VBoxModel",
      "state": {
       "_model_module_version": "~2.1.4",
       "_view_module_version": "~2.1.4",
       "children": [
        "IPY_MODEL_ad0b62b56de643fbaf929963a33955cc",
        "IPY_MODEL_7d064b53049d4f5a9ea7dc94cbc43acc",
        "IPY_MODEL_c4884cd0e8a049c798674d7224b9e796"
       ],
       "layout": "IPY_MODEL_9916788d52434d91a9387830646e366a"
      }
     },
     "606c927700aa49efbee4ba89634eed82": {
      "model_module": "jupyter-js-widgets",
      "model_module_version": "~2.1.4",
      "model_name": "LayoutModel",
      "state": {
       "_model_module_version": "~2.1.4",
       "_view_module_version": "~2.1.4"
      }
     },
     "60766dd83d18426e96e53a4d66112e59": {
      "model_module": "jupyter-js-widgets",
      "model_module_version": "~2.1.4",
      "model_name": "ImageModel",
      "state": {
       "_b64value": "iVBORw0KGgoAAAANSUhEUgAAADwAAAAoCAIAAAAt2Q6oAAABR0lEQVR4nO2VPW7CQBBG52dPwQVyAi6SE9CkTZkirp0iJaJBaZxINJEgXRqOgOhDpLS0aVJ7UlhYCANm1oadlXmFZa2tnadPs7M4/VpDbFBoAR+u0pcCRfZ/mK3s9vpB6RKD9vXtcXvTu4CHivqkS+xErjiIdiLXTQ8j3lGOPLW0hbB9kg7uHWV7uNACNaznU0RERAAon4o5vUOLY/v745WIEJGIipcq29L+SS/fRsUuO8gmBhERkf7gvvrPIhs655iZmYmImVWlz94ei2woG/I8FxEicq5R3SgPYsek0/SpRQ8V/tJJ8tiih4qOtUdAzj7yHpK76uJz+tJkT/8b8ffvp0nhbcajd9WN6CndovFxJtlnfNJ7ifIg+kiHjRk8pIMbQyfaw0LMoJI2Ygwn3oh2dAvqk7ZmDEeSNuha4izLHaIDI88I/6qkaXAKSyr4AAAAAElFTkSuQmCC",
       "_model_module_version": "~2.1.4",
       "_view_module_version": "~2.1.4",
       "layout": "IPY_MODEL_e569bccf56ea4f13baa5e2b9e21ead58",
       "width": "240"
      }
     },
     "608b51f9de78478cbba64c3f30a67515": {
      "model_module": "jupyter-js-widgets",
      "model_module_version": "~2.1.4",
      "model_name": "LayoutModel",
      "state": {
       "_model_module_version": "~2.1.4",
       "_view_module_version": "~2.1.4"
      }
     },
     "60d12956872540fa8a34c6c498091424": {
      "model_module": "jupyter-js-widgets",
      "model_module_version": "~2.1.4",
      "model_name": "CheckboxModel",
      "state": {
       "_model_module_version": "~2.1.4",
       "_view_module_version": "~2.1.4",
       "description": "Update GUI",
       "disabled": false,
       "layout": "IPY_MODEL_2cdabe5aacaa404f81cff6e592668fda",
       "value": true
      }
     },
     "60e4095cad4f4bfaa9f61d88f5c090f8": {
      "model_module": "jupyter-js-widgets",
      "model_module_version": "~2.1.4",
      "model_name": "LayoutModel",
      "state": {
       "_model_module_version": "~2.1.4",
       "_view_module_version": "~2.1.4",
       "height": "248px",
       "padding": "0px 0px 0px 0px",
       "width": "10px"
      }
     },
     "60eb2adf796d4ba2a52e9c706f091402": {
      "model_module": "jupyter-js-widgets",
      "model_module_version": "~2.1.4",
      "model_name": "FloatSliderModel",
      "state": {
       "_model_module_version": "~2.1.4",
       "_view_module_version": "~2.1.4",
       "layout": "IPY_MODEL_d61acb300559474cb818b149dfb3bf70",
       "orientation": "vertical",
       "readout": false,
       "step": 0.1,
       "value": 51.24999999999999
      }
     },
     "60f072423f8a4c7da4c1e55cf4fbdc5c": {
      "model_module": "jupyter-js-widgets",
      "model_module_version": "~2.1.4",
      "model_name": "LayoutModel",
      "state": {
       "_model_module_version": "~2.1.4",
       "_view_module_version": "~2.1.4"
      }
     },
     "60f4649cd1ca45dfb286c365cf7f071e": {
      "model_module": "jupyter-js-widgets",
      "model_module_version": "~2.1.4",
      "model_name": "HBoxModel",
      "state": {
       "_model_module_version": "~2.1.4",
       "_view_module_version": "~2.1.4",
       "children": [
        "IPY_MODEL_add3edec99e34c738d2b864beea42bf1",
        "IPY_MODEL_c81c60946024403c93256925369363af",
        "IPY_MODEL_71eb3eb72559462f8cd48e7b3ae44895"
       ],
       "layout": "IPY_MODEL_f002c286ef5943728cfe78251271b5a4"
      }
     },
     "612518ab4e344568ad45e7027907005d": {
      "model_module": "jupyter-js-widgets",
      "model_module_version": "~2.1.4",
      "model_name": "LayoutModel",
      "state": {
       "_model_module_version": "~2.1.4",
       "_view_module_version": "~2.1.4"
      }
     },
     "61336dc03c0f48e7941fe13f72978de5": {
      "model_module": "jupyter-js-widgets",
      "model_module_version": "~2.1.4",
      "model_name": "CheckboxModel",
      "state": {
       "_model_module_version": "~2.1.4",
       "_view_module_version": "~2.1.4",
       "description": "Update GUI",
       "disabled": false,
       "layout": "IPY_MODEL_1776df07fd174fea8ab39ec5b4dff5ce",
       "value": true
      }
     },
     "6135cb58cf744588a1f2a73a11fffcf8": {
      "model_module": "jupyter-js-widgets",
      "model_module_version": "~2.1.4",
      "model_name": "HBoxModel",
      "state": {
       "_model_module_version": "~2.1.4",
       "_view_module_version": "~2.1.4",
       "children": [
        "IPY_MODEL_60d12956872540fa8a34c6c498091424",
        "IPY_MODEL_c51b87cc00be44f9b7ab44693728339b"
       ],
       "layout": "IPY_MODEL_cfb7bee77fcf49ab970a50587ccd91ab"
      }
     },
     "61b5bb5b616f4ab98fc5c0c1785307b6": {
      "model_module": "jupyter-js-widgets",
      "model_module_version": "~2.1.4",
      "model_name": "TextModel",
      "state": {
       "_model_module_version": "~2.1.4",
       "_view_module_version": "~2.1.4",
       "description": "Time:",
       "layout": "IPY_MODEL_47c12479df4840ff8ef3032edb6ddf20",
       "value": "0.00 seconds"
      }
     },
     "61ef59ca137a4548a5e6c057e6023d82": {
      "model_module": "jupyter-js-widgets",
      "model_module_version": "~2.1.4",
      "model_name": "LayoutModel",
      "state": {
       "_model_module_version": "~2.1.4",
       "_view_module_version": "~2.1.4",
       "height": "20px",
       "padding": "0px 0px 0px 0px",
       "width": "248px"
      }
     },
     "6221dbc9b7a0467eaf8273b8324dcaf1": {
      "model_module": "jupyter-js-widgets",
      "model_module_version": "~2.1.4",
      "model_name": "LayoutModel",
      "state": {
       "_model_module_version": "~2.1.4",
       "_view_module_version": "~2.1.4"
      }
     },
     "62292570a80e4d4a9eb369fdfcd26180": {
      "model_module": "jupyter-js-widgets",
      "model_module_version": "~2.1.4",
      "model_name": "LayoutModel",
      "state": {
       "_model_module_version": "~2.1.4",
       "_view_module_version": "~2.1.4"
      }
     },
     "6260c1894f3c43cfa7c44e68242d449a": {
      "model_module": "jupyter-js-widgets",
      "model_module_version": "~2.1.4",
      "model_name": "LayoutModel",
      "state": {
       "_model_module_version": "~2.1.4",
       "_view_module_version": "~2.1.4"
      }
     },
     "628a0362ea104fa1827eac115fe5af8d": {
      "model_module": "jupyter-js-widgets",
      "model_module_version": "~2.1.4",
      "model_name": "LayoutModel",
      "state": {
       "_model_module_version": "~2.1.4",
       "_view_module_version": "~2.1.4"
      }
     },
     "63118bd0fc5348a681e35ce3f130f264": {
      "model_module": "jupyter-js-widgets",
      "model_module_version": "~2.1.4",
      "model_name": "HBoxModel",
      "state": {
       "_model_module_version": "~2.1.4",
       "_view_module_version": "~2.1.4",
       "children": [
        "IPY_MODEL_06f8176822444b4d82e6861197456aac",
        "IPY_MODEL_61b5bb5b616f4ab98fc5c0c1785307b6"
       ],
       "layout": "IPY_MODEL_3354fe23706747c2be1d3d1e793da827"
      }
     },
     "633043abb0cb4245b8f855df8047d842": {
      "model_module": "jupyter-js-widgets",
      "model_module_version": "~2.1.4",
      "model_name": "VBoxModel",
      "state": {
       "_model_module_version": "~2.1.4",
       "_view_module_version": "~2.1.4",
       "children": [
        "IPY_MODEL_bb4604b21dbc4cb7ab49a3e6b6eb25f0",
        "IPY_MODEL_69c2eb2623704d54b1702caeebf5f9e5"
       ],
       "layout": "IPY_MODEL_b2d73e62f35540ee998f405fce2dc308"
      }
     },
     "63333c24382c403da87b0bff08b1160f": {
      "model_module": "jupyter-js-widgets",
      "model_module_version": "~2.1.4",
      "model_name": "LayoutModel",
      "state": {
       "_model_module_version": "~2.1.4",
       "_view_module_version": "~2.1.4"
      }
     },
     "6361254f9c574d70a404502d614afbd1": {
      "model_module": "jupyter-js-widgets",
      "model_module_version": "~2.1.4",
      "model_name": "TextModel",
      "state": {
       "_model_module_version": "~2.1.4",
       "_view_module_version": "~2.1.4",
       "description": "Time:",
       "layout": "IPY_MODEL_c3572916f6e84c13aca779789c3e66e7",
       "value": "0.10 seconds"
      }
     },
     "6362f87d89bc4c65ae42aa3ac47e04a9": {
      "model_module": "jupyter-js-widgets",
      "model_module_version": "~2.1.4",
      "model_name": "LayoutModel",
      "state": {
       "_model_module_version": "~2.1.4",
       "_view_module_version": "~2.1.4"
      }
     },
     "639ad82739844269b482d2fe5bd01ee5": {
      "model_module": "jupyter-js-widgets",
      "model_module_version": "~2.1.4",
      "model_name": "LayoutModel",
      "state": {
       "_model_module_version": "~2.1.4",
       "_view_module_version": "~2.1.4"
      }
     },
     "63c4e20ba19d46db9e02a0d27d1cac07": {
      "model_module": "jupyter-js-widgets",
      "model_module_version": "~2.1.4",
      "model_name": "LayoutModel",
      "state": {
       "_model_module_version": "~2.1.4",
       "_view_module_version": "~2.1.4"
      }
     },
     "63e86b331bea4deebc4f0cb1f6206a83": {
      "model_module": "jupyter-js-widgets",
      "model_module_version": "~2.1.4",
      "model_name": "ButtonStyleModel",
      "state": {
       "_model_module_version": "~2.1.4",
       "_view_module_version": "~2.1.4"
      }
     },
     "63fa431d866942caa155210d80547c85": {
      "model_module": "jupyter-js-widgets",
      "model_module_version": "~2.1.4",
      "model_name": "LayoutModel",
      "state": {
       "_model_module_version": "~2.1.4",
       "_view_module_version": "~2.1.4"
      }
     },
     "6453bfa5f2134fdb81ef4b87edba7d0b": {
      "model_module": "jupyter-js-widgets",
      "model_module_version": "~2.1.4",
      "model_name": "LayoutModel",
      "state": {
       "_model_module_version": "~2.1.4",
       "_view_module_version": "~2.1.4"
      }
     },
     "6460382cd18243168ed903c9850f1c63": {
      "model_module": "jupyter-js-widgets",
      "model_module_version": "~2.1.4",
      "model_name": "HBoxModel",
      "state": {
       "_model_module_version": "~2.1.4",
       "_view_module_version": "~2.1.4",
       "children": [
        "IPY_MODEL_37e4956f2ced4339b7419fc25ac03b23",
        "IPY_MODEL_2f8e669cf462428fbfb577e192e65462"
       ],
       "layout": "IPY_MODEL_1fbf8da4d0944d89a386c63264bd2167"
      }
     },
     "6464fb639ec14567b42582eaed6fea77": {
      "model_module": "jupyter-js-widgets",
      "model_module_version": "~2.1.4",
      "model_name": "LayoutModel",
      "state": {
       "_model_module_version": "~2.1.4",
       "_view_module_version": "~2.1.4"
      }
     },
     "646c7d903f77404b8d6e8c85b7e52a7a": {
      "model_module": "jupyter-js-widgets",
      "model_module_version": "~2.1.4",
      "model_name": "FloatSliderModel",
      "state": {
       "_model_module_version": "~2.1.4",
       "_view_module_version": "~2.1.4",
       "layout": "IPY_MODEL_a5d17becb06947af9d0035d7c44c9190",
       "readout": false,
       "step": 0.1,
       "value": 33.179676634717836
      }
     },
     "646c883d7fa541919090cfff18206798": {
      "model_module": "jupyter-js-widgets",
      "model_module_version": "~2.1.4",
      "model_name": "LayoutModel",
      "state": {
       "_model_module_version": "~2.1.4",
       "_view_module_version": "~2.1.4"
      }
     },
     "652c607f9c8349c7ae9eded444a22df8": {
      "model_module": "jupyter-js-widgets",
      "model_module_version": "~2.1.4",
      "model_name": "LayoutModel",
      "state": {
       "_model_module_version": "~2.1.4",
       "_view_module_version": "~2.1.4"
      }
     },
     "653e1b2691d74378b715defd574c68bb": {
      "model_module": "jupyter-js-widgets",
      "model_module_version": "~2.1.4",
      "model_name": "LayoutModel",
      "state": {
       "_model_module_version": "~2.1.4",
       "_view_module_version": "~2.1.4"
      }
     },
     "654dde8fe5be425a8084617a3c4c05ae": {
      "model_module": "jupyter-js-widgets",
      "model_module_version": "~2.1.4",
      "model_name": "ButtonModel",
      "state": {
       "_model_module_version": "~2.1.4",
       "_view_module_version": "~2.1.4",
       "description": "Clear",
       "layout": "IPY_MODEL_37b9741f574b4fbc9622be254eadeec8",
       "style": "IPY_MODEL_fb2046ade39f48c58334c08346cfed9c"
      }
     },
     "654fc209a43e492088069c9ad7b0ba9b": {
      "model_module": "jupyter-js-widgets",
      "model_module_version": "~2.1.4",
      "model_name": "LayoutModel",
      "state": {
       "_model_module_version": "~2.1.4",
       "_view_module_version": "~2.1.4",
       "height": "20px",
       "padding": "0px 0px 0px 0px",
       "width": "248px"
      }
     },
     "658a92bd06ea4bd0bb75d3aeec2c7090": {
      "model_module": "jupyter-js-widgets",
      "model_module_version": "~2.1.4",
      "model_name": "ButtonModel",
      "state": {
       "_model_module_version": "~2.1.4",
       "_view_module_version": "~2.1.4",
       "description": "Clear",
       "layout": "IPY_MODEL_3328f684f4434340ad481f194cfbaa1b",
       "style": "IPY_MODEL_90a4e6814cd6417aaab139d1593f4bac"
      }
     },
     "65e1fcbf955449deb58c65453bdeed77": {
      "model_module": "jupyter-js-widgets",
      "model_module_version": "~2.1.4",
      "model_name": "HBoxModel",
      "state": {
       "_model_module_version": "~2.1.4",
       "_view_module_version": "~2.1.4",
       "children": [
        "IPY_MODEL_0581219377aa46f7b85b033a319f2c69",
        "IPY_MODEL_5e4105cda02743a981a1e438f6fb869c"
       ],
       "layout": "IPY_MODEL_0702012790894f439599ff249c9d4db0"
      }
     },
     "660c90cec0654a36a4ae4fb8bd00d5b1": {
      "model_module": "jupyter-js-widgets",
      "model_module_version": "~2.1.4",
      "model_name": "ButtonModel",
      "state": {
       "_model_module_version": "~2.1.4",
       "_view_module_version": "~2.1.4",
       "description": "Clear",
       "layout": "IPY_MODEL_0653677b3a0a4bbcb161964ccf5654be",
       "style": "IPY_MODEL_cc71f4b25e7e4d089f661746a42f9d73"
      }
     },
     "662a3d4039324b7e84569a2f85045972": {
      "model_module": "jupyter-js-widgets",
      "model_module_version": "~2.1.4",
      "model_name": "HBoxModel",
      "state": {
       "_model_module_version": "~2.1.4",
       "_view_module_version": "~2.1.4",
       "children": [
        "IPY_MODEL_7072955d493b449ca3d4d161e05dfad9",
        "IPY_MODEL_2f59ad5a5aca4452a47226f22b52ab8a"
       ],
       "layout": "IPY_MODEL_a8f2ba588d5d473f94f3139bf59b04eb"
      }
     },
     "6631c2554ed049a5b5b96aa7eb154b81": {
      "model_module": "jupyter-js-widgets",
      "model_module_version": "~2.1.4",
      "model_name": "PlayModel",
      "state": {
       "_model_module_version": "~2.1.4",
       "_view_module_version": "~2.1.4",
       "layout": "IPY_MODEL_f986b33ffc834ffdbacfa4ef5efbddcb",
       "max": 1000000
      }
     },
     "6650a3d761f24a409c8ff4bf7fdd73c8": {
      "model_module": "jupyter-js-widgets",
      "model_module_version": "~2.1.4",
      "model_name": "VBoxModel",
      "state": {
       "_model_module_version": "~2.1.4",
       "_view_module_version": "~2.1.4",
       "children": [
        "IPY_MODEL_59e12a4cd5c44f76a011f45b309c44fd",
        "IPY_MODEL_f4627df5da824c77aa48c6f2e4bdd067"
       ],
       "layout": "IPY_MODEL_5481657ea5654d76be81295d1b8682fd"
      }
     },
     "666dd31d6bee481abf496a485fb8c298": {
      "model_module": "jupyter-js-widgets",
      "model_module_version": "~2.1.4",
      "model_name": "CheckboxModel",
      "state": {
       "_model_module_version": "~2.1.4",
       "_view_module_version": "~2.1.4",
       "description": "Update GUI",
       "disabled": false,
       "layout": "IPY_MODEL_5c9d4f10523a4983943cef0191548efa",
       "value": true
      }
     },
     "66743524c78649d0b34508e41b4fa6b2": {
      "model_module": "jupyter-js-widgets",
      "model_module_version": "~2.1.4",
      "model_name": "ImageModel",
      "state": {
       "_b64value": "iVBORw0KGgoAAAANSUhEUgAAACgAAAA8CAIAAACb22+3AAAA/UlEQVR4nO2XPQ6CQBSE94/TegUbKxtKGk1M1MTGBC1MtMASCwsaKuMBOIGtWVujGN7giyvhTblh52NmN7Cr00ulQJ2m8fvgcDSATBxKVUo512bWiww6oVgmrk7xeAb5wO9urUWnCLgd2Bh4W9T7QE9ftwvzWZNkTbfCEnPF7Q5Yax0G3L/EAv5CwGapslQ3aTXf84N5BVTN2HNIcP+qDpZYqv6ZBCxgAQu4e2DgW+29DwPmuhnD4CiKGMHUNb6dM0vTbpNTDKmJGa9rGJh3gQEw7/EDALNXTbK7l3njrelZx0PR6ElKzN6zgHsB/u/foiTmkJy5aiVVcyhY1Q988yDUB3xCzgAAAABJRU5ErkJggg==",
       "_model_module_version": "~2.1.4",
       "_view_module_version": "~2.1.4",
       "layout": "IPY_MODEL_cc97ab567f3b43989f15264268ea4bca",
       "width": "240"
      }
     },
     "667b4991d3f8489787cf0d2a142f1aa1": {
      "model_module": "jupyter-js-widgets",
      "model_module_version": "~2.1.4",
      "model_name": "LayoutModel",
      "state": {
       "_model_module_version": "~2.1.4",
       "_view_module_version": "~2.1.4"
      }
     },
     "66ce396257ae4717b61c742deb1756b6": {
      "model_module": "jupyter-js-widgets",
      "model_module_version": "~2.1.4",
      "model_name": "LayoutModel",
      "state": {
       "_model_module_version": "~2.1.4",
       "_view_module_version": "~2.1.4",
       "height": "20px",
       "padding": "0px 0px 0px 0px",
       "width": "248px"
      }
     },
     "67732218f0974f87b45fb3c14b6ce022": {
      "model_module": "jupyter-js-widgets",
      "model_module_version": "~2.1.4",
      "model_name": "FloatSliderModel",
      "state": {
       "_model_module_version": "~2.1.4",
       "_view_module_version": "~2.1.4",
       "layout": "IPY_MODEL_f99f0598469b46049788ecb849dbb413",
       "orientation": "vertical",
       "readout": false,
       "step": 0.1,
       "value": 50
      }
     },
     "6810db9e936446998d53a55fd8cd3bb7": {
      "model_module": "jupyter-js-widgets",
      "model_module_version": "~2.1.4",
      "model_name": "LayoutModel",
      "state": {
       "_model_module_version": "~2.1.4",
       "_view_module_version": "~2.1.4"
      }
     },
     "6817130763ce405fa57915237f5e7380": {
      "model_module": "jupyter-js-widgets",
      "model_module_version": "~2.1.4",
      "model_name": "ButtonModel",
      "state": {
       "_model_module_version": "~2.1.4",
       "_view_module_version": "~2.1.4",
       "icon": "step-forward",
       "layout": "IPY_MODEL_8801fcece2074574bcff7b713185250a",
       "style": "IPY_MODEL_bbd4310ab4e942c6bc946b5c5c1459aa"
      }
     },
     "681bdc49070943519a9d641a4036952a": {
      "model_module": "jupyter-js-widgets",
      "model_module_version": "~2.1.4",
      "model_name": "LayoutModel",
      "state": {
       "_model_module_version": "~2.1.4",
       "_view_module_version": "~2.1.4",
       "height": "20px",
       "padding": "0px 0px 0px 0px",
       "width": "248px"
      }
     },
     "68dc39e352734a14b80966529ad86b06": {
      "model_module": "jupyter-js-widgets",
      "model_module_version": "~2.1.4",
      "model_name": "LayoutModel",
      "state": {
       "_model_module_version": "~2.1.4",
       "_view_module_version": "~2.1.4"
      }
     },
     "68e689b6f80d4cafbd268873e3573edc": {
      "model_module": "jupyter-js-widgets",
      "model_module_version": "~2.1.4",
      "model_name": "CheckboxModel",
      "state": {
       "_model_module_version": "~2.1.4",
       "_view_module_version": "~2.1.4",
       "description": "Update GUI",
       "disabled": false,
       "layout": "IPY_MODEL_5ad7f5778218446e9f60fbbb028dd748",
       "value": true
      }
     },
     "695b00b46b6a410e9a18039681c5076e": {
      "model_module": "jupyter-js-widgets",
      "model_module_version": "~2.1.4",
      "model_name": "CheckboxModel",
      "state": {
       "_model_module_version": "~2.1.4",
       "_view_module_version": "~2.1.4",
       "description": "Update GUI",
       "disabled": false,
       "layout": "IPY_MODEL_57f3ae3a2cb0469e837e24f1ec968c4a",
       "value": true
      }
     },
     "69b833989a2c4b33aade9b7b3ef0d31b": {
      "model_module": "jupyter-js-widgets",
      "model_module_version": "~2.1.4",
      "model_name": "LayoutModel",
      "state": {
       "_model_module_version": "~2.1.4",
       "_view_module_version": "~2.1.4"
      }
     },
     "69c2eb2623704d54b1702caeebf5f9e5": {
      "model_module": "jupyter-js-widgets",
      "model_module_version": "~2.1.4",
      "model_name": "FloatSliderModel",
      "state": {
       "_model_module_version": "~2.1.4",
       "_view_module_version": "~2.1.4",
       "layout": "IPY_MODEL_f887d2ed293747138cbc73a51ce97835",
       "readout": false,
       "step": 0.1,
       "value": 100
      }
     },
     "6a1e99cc676a424f97acdf037323b879": {
      "model_module": "jupyter-js-widgets",
      "model_module_version": "~2.1.4",
      "model_name": "HBoxModel",
      "state": {
       "_model_module_version": "~2.1.4",
       "_view_module_version": "~2.1.4",
       "children": [
        "IPY_MODEL_810ebea2c9f1455aa37c962639094a7e",
        "IPY_MODEL_543e08aefd1b45ad9b7918722fcb55d6"
       ],
       "layout": "IPY_MODEL_adbe5bd0bfb2418da9422f878d64114c"
      }
     },
     "6a48db0b11b047809e3a3e218c1caccb": {
      "model_module": "jupyter-js-widgets",
      "model_module_version": "~2.1.4",
      "model_name": "CheckboxModel",
      "state": {
       "_model_module_version": "~2.1.4",
       "_view_module_version": "~2.1.4",
       "description": "Update GUI",
       "disabled": false,
       "layout": "IPY_MODEL_f8abdd022e5d4985a47349f92b83e1b9",
       "value": true
      }
     },
     "6b167a40a4424a0fa723372f538d6cd8": {
      "model_module": "jupyter-js-widgets",
      "model_module_version": "~2.1.4",
      "model_name": "LayoutModel",
      "state": {
       "_model_module_version": "~2.1.4",
       "_view_module_version": "~2.1.4"
      }
     },
     "6c0fd30fdfd94470b7ffc80531a57e34": {
      "model_module": "jupyter-js-widgets",
      "model_module_version": "~2.1.4",
      "model_name": "LayoutModel",
      "state": {
       "_model_module_version": "~2.1.4",
       "_view_module_version": "~2.1.4"
      }
     },
     "6c2b84c9d85e42e083fc64272af71131": {
      "model_module": "jupyter-js-widgets",
      "model_module_version": "~2.1.4",
      "model_name": "LayoutModel",
      "state": {
       "_model_module_version": "~2.1.4",
       "_view_module_version": "~2.1.4"
      }
     },
     "6c5c58c6c6da46fe80efd67f41dceaf5": {
      "model_module": "jupyter-js-widgets",
      "model_module_version": "~2.1.4",
      "model_name": "LayoutModel",
      "state": {
       "_model_module_version": "~2.1.4",
       "_view_module_version": "~2.1.4"
      }
     },
     "6c6bc09d756648a4a5173dd2fc03c34a": {
      "model_module": "jupyter-js-widgets",
      "model_module_version": "~2.1.4",
      "model_name": "PlayModel",
      "state": {
       "_model_module_version": "~2.1.4",
       "_view_module_version": "~2.1.4",
       "layout": "IPY_MODEL_80468e59094247d5beba866eabac0cd4",
       "max": 1000000,
       "value": 52
      }
     },
     "6c6ca10af11a495b9d03e11baa296ccd": {
      "model_module": "jupyter-js-widgets",
      "model_module_version": "~2.1.4",
      "model_name": "LayoutModel",
      "state": {
       "_model_module_version": "~2.1.4",
       "_view_module_version": "~2.1.4"
      }
     },
     "6ce8cb2916784336bb0d1f7f87fc4600": {
      "model_module": "jupyter-js-widgets",
      "model_module_version": "~2.1.4",
      "model_name": "PlayModel",
      "state": {
       "_model_module_version": "~2.1.4",
       "_view_module_version": "~2.1.4",
       "layout": "IPY_MODEL_0bd6fb0acbfb4669a4d1488c7e1cf54f",
       "max": 1000000
      }
     },
     "6cf03112982f44a9a9acc1c0c2b93c86": {
      "model_module": "jupyter-js-widgets",
      "model_module_version": "~2.1.4",
      "model_name": "LayoutModel",
      "state": {
       "_model_module_version": "~2.1.4",
       "_view_module_version": "~2.1.4"
      }
     },
     "6d0152c6cd7e452c82e3af1d6df5c888": {
      "model_module": "jupyter-js-widgets",
      "model_module_version": "~2.1.4",
      "model_name": "HBoxModel",
      "state": {
       "_model_module_version": "~2.1.4",
       "_view_module_version": "~2.1.4",
       "children": [
        "IPY_MODEL_12dc24a5bafb489788fa19fa21655f45",
        "IPY_MODEL_ac0eaf88dc8b48b4a055fe47ed7fd8a0"
       ],
       "layout": "IPY_MODEL_86261504a99e4fc99b84040492b51fd1"
      }
     },
     "6d0eb550043b4461ad06604d721ffe6a": {
      "model_module": "jupyter-js-widgets",
      "model_module_version": "~2.1.4",
      "model_name": "HBoxModel",
      "state": {
       "_model_module_version": "~2.1.4",
       "_view_module_version": "~2.1.4",
       "children": [
        "IPY_MODEL_866fbc3cab36402baf7adfef440252de",
        "IPY_MODEL_1ae10141691a4011888204e815df3955"
       ],
       "layout": "IPY_MODEL_933ac70248df42c2b1fbe38c8d0ce0f3"
      }
     },
     "6d26e077d1f945479b06aabaf3d03d88": {
      "model_module": "jupyter-js-widgets",
      "model_module_version": "~2.1.4",
      "model_name": "LayoutModel",
      "state": {
       "_model_module_version": "~2.1.4",
       "_view_module_version": "~2.1.4",
       "height": "248px",
       "padding": "0px 0px 0px 0px",
       "width": "10px"
      }
     },
     "6d2e0f2c89e84734bd13a41f1b93d7ef": {
      "model_module": "jupyter-js-widgets",
      "model_module_version": "~2.1.4",
      "model_name": "HTMLModel",
      "state": {
       "_model_module_version": "~2.1.4",
       "_view_module_version": "~2.1.4",
       "layout": "IPY_MODEL_f067874708ef4193a677c23c3f1274b6",
       "value": "<svg baseProfile=\"full\" height=\"240\" version=\"1.1\" width=\"240\" xmlns=\"http://www.w3.org/2000/svg\" xmlns:ev=\"http://www.w3.org/2001/xml-events\" xmlns:xlink=\"http://www.w3.org/1999/xlink\"><defs /><rect fill=\"white\" height=\"240\" stroke=\"#000000\" stroke-width=\"1\" width=\"240\" x=\"0\" y=\"0\" /><rect fill=\"#eef3dd\" height=\"240.0\" stroke=\"#bebebe\" stroke-width=\"1\" width=\"240.0\" x=\"0.0\" y=\"0.0\" /><circle cx=\"120.0\" cy=\"195.0\" fill=\"#ffff00\" r=\"15.0\" stroke=\"#ffff00\" stroke-width=\"1\" /><line fill=\"#800080\" stroke=\"#add8e6\" stroke-width=\"1\" x1=\"199.29647346587737\" x2=\"0.0\" y1=\"111.37109959820461\" y2=\"118.34932799999999\" /><line fill=\"#800080\" stroke=\"#add8e6\" stroke-width=\"1\" x1=\"200.64858482032437\" x2=\"0.0\" y1=\"107.12118255369946\" y2=\"21.973026000000004\" /><line fill=\"#800080\" stroke=\"#add8e6\" stroke-width=\"1\" x1=\"202.98412783209295\" x2=\"108.20933355871675\" y1=\"105.23830209010676\" y2=\"0.0\" /><line fill=\"#800080\" stroke=\"#add8e6\" stroke-width=\"1\" x1=\"206.529433775271\" x2=\"174.84110042201567\" y1=\"103.61324646974592\" y2=\"0.0\" /><line fill=\"#800080\" stroke=\"#add8e6\" stroke-width=\"1\" x1=\"212.52575915041191\" x2=\"236.38811675880686\" y1=\"103.4032893421199\" y2=\"0.0\" /><line fill=\"#800080\" stroke=\"#add8e6\" stroke-width=\"1\" x1=\"216.176043657403\" x2=\"240.0\" y1=\"104.77639640932952\" y2=\"74.27725800000002\" /><line fill=\"#800080\" stroke=\"#add8e6\" stroke-width=\"1\" x1=\"218.63756094574717\" x2=\"240.0\" y1=\"106.49131117082139\" y2=\"95.60408999999999\" /><line fill=\"#800080\" stroke=\"#add8e6\" stroke-width=\"1\" x1=\"220.28361227887063\" x2=\"240.0\" y1=\"110.63624965151354\" y2=\"109.94589599999998\" /><line fill=\"#800080\" stroke=\"#add8e6\" stroke-width=\"1\" x1=\"220.70352653412263\" x2=\"240.0\" y1=\"122.62890040179542\" y2=\"121.95324600000001\" /><line fill=\"#800080\" stroke=\"#add8e6\" stroke-width=\"1\" x1=\"219.35141517967563\" x2=\"240.0\" y1=\"126.87881744630057\" y2=\"135.641346\" /><line fill=\"#800080\" stroke=\"#add8e6\" stroke-width=\"1\" x1=\"217.01587216790705\" x2=\"240.0\" y1=\"128.76169790989326\" y2=\"154.283364\" /><line fill=\"#800080\" stroke=\"#add8e6\" stroke-width=\"1\" x1=\"213.470566224729\" x2=\"240.0\" y1=\"130.3867535302541\" y2=\"217.131636\" /><line fill=\"#800080\" stroke=\"#add8e6\" stroke-width=\"1\" x1=\"207.47424084958809\" x2=\"182.22726449088904\" y1=\"130.59671065788012\" y2=\"240.0\" /><line fill=\"#800080\" stroke=\"#add8e6\" stroke-width=\"1\" x1=\"203.823956342597\" x2=\"117.29260723482744\" y1=\"129.2236035906705\" y2=\"240.0\" /><line fill=\"#800080\" stroke=\"#add8e6\" stroke-width=\"1\" x1=\"201.36243905425283\" x2=\"0.0\" y1=\"127.50868882917862\" y2=\"230.131668\" /><line fill=\"#800080\" stroke=\"#add8e6\" stroke-width=\"1\" x1=\"199.71638772112937\" x2=\"0.0\" y1=\"123.36375034848649\" y2=\"130.356678\" /><line fill=\"#800080\" stroke=\"#a020f0\" stroke-width=\"1\" x1=\"210.0\" x2=\"0.0\" y1=\"117.00000000000001\" y2=\"5.366183999999992\" /><line fill=\"#800080\" stroke=\"#a020f0\" stroke-width=\"1\" x1=\"210.0\" x2=\"240.0\" y1=\"117.00000000000001\" y2=\"98.250024\" /><line fill=\"#800080\" stroke=\"#ffa500\" stroke-width=\"1\" x1=\"120.0\" x2=\"199.03402705634483\" y1=\"195.0\" y2=\"103.87569287927845\" /><line fill=\"#800080\" stroke=\"#ffa500\" stroke-width=\"1\" x1=\"120.0\" x2=\"220.02116586933806\" y1=\"195.0\" y2=\"103.14084293258738\" /><polygon fill=\"red\" points=\"204.7305361627287,103.67623360803373 199.19149490206433,108.37293691063414 199.82136628494237,126.36191303605695 205.67534323704578,130.65969779616793 215.2694638372713,130.3237663919663 220.80850509793567,125.62706308936588 220.17863371505763,107.63808696394308 214.32465676295422,103.3403022038321\" stroke=\"red\" stroke-width=\"1\" /><polygon points=\"-3.0,-3.0 0,0 3.0,-3.0 0,3.0\" stroke=\"black\" stroke-width=\"1\" transform=\"translate(210.0,117.00000000000001) rotate(177.9946477170421)\" /><polygon fill=\"black\" points=\"213.30385524640815,108.4791701982271 213.47182094850893,113.27623049833983 206.2762304983398,113.52817905149107 206.108264796239,108.73111875137835\" stroke=\"black\" stroke-width=\"1\" /><circle cx=\"199.03402705634483\" cy=\"103.87569287927845\" fill=\"yellow\" r=\"1.5\" stroke=\"orange\" stroke-width=\"1\" /><circle cx=\"220.02116586933806\" cy=\"103.14084293258738\" fill=\"yellow\" r=\"1.5\" stroke=\"orange\" stroke-width=\"1\" /></svg>"
      }
     },
     "6d38a822153c47f6a2929b4b42d0929b": {
      "model_module": "jupyter-js-widgets",
      "model_module_version": "~2.1.4",
      "model_name": "LayoutModel",
      "state": {
       "_model_module_version": "~2.1.4",
       "_view_module_version": "~2.1.4"
      }
     },
     "6d5786f56b884e038d066c0e5a972e9d": {
      "model_module": "jupyter-js-widgets",
      "model_module_version": "~2.1.4",
      "model_name": "LayoutModel",
      "state": {
       "_model_module_version": "~2.1.4",
       "_view_module_version": "~2.1.4"
      }
     },
     "6dab7928b9a745268ceab55db36a6574": {
      "model_module": "jupyter-js-widgets",
      "model_module_version": "~2.1.4",
      "model_name": "HBoxModel",
      "state": {
       "_model_module_version": "~2.1.4",
       "_view_module_version": "~2.1.4",
       "children": [
        "IPY_MODEL_7deaa91babd245a7a57af3f7fd00374c",
        "IPY_MODEL_6e438537ca3040fda105387ec51e8697"
       ],
       "layout": "IPY_MODEL_557ffad776b94898928f263593cf0aa6"
      }
     },
     "6db834fd409a4a56a95fe2d8ab5484c4": {
      "model_module": "jupyter-js-widgets",
      "model_module_version": "~2.1.4",
      "model_name": "LayoutModel",
      "state": {
       "_model_module_version": "~2.1.4",
       "_view_module_version": "~2.1.4"
      }
     },
     "6dcf6dedf76a4251976511f693999fb8": {
      "model_module": "jupyter-js-widgets",
      "model_module_version": "~2.1.4",
      "model_name": "PlayModel",
      "state": {
       "_model_module_version": "~2.1.4",
       "_view_module_version": "~2.1.4",
       "layout": "IPY_MODEL_0f41f8abcac94c339cc3a1f109667d05",
       "max": 1000000,
       "value": 75
      }
     },
     "6ddf6060ab6f437094405a3ba642d7c3": {
      "model_module": "jupyter-js-widgets",
      "model_module_version": "~2.1.4",
      "model_name": "LayoutModel",
      "state": {
       "_model_module_version": "~2.1.4",
       "_view_module_version": "~2.1.4"
      }
     },
     "6df2e08d1c6b434888444930edc17286": {
      "model_module": "jupyter-js-widgets",
      "model_module_version": "~2.1.4",
      "model_name": "LayoutModel",
      "state": {
       "_model_module_version": "~2.1.4",
       "_view_module_version": "~2.1.4"
      }
     },
     "6e048dc00eef4bddbef384ff4dd2ffe2": {
      "model_module": "jupyter-js-widgets",
      "model_module_version": "~2.1.4",
      "model_name": "FloatSliderModel",
      "state": {
       "_model_module_version": "~2.1.4",
       "_view_module_version": "~2.1.4",
       "layout": "IPY_MODEL_e250b4d6a35149d0afb7ce57c1d9ea7a",
       "readout": false,
       "step": 0.1,
       "value": 87.5
      }
     },
     "6e0fcf9e88994654a27c9110b56eb8e3": {
      "model_module": "jupyter-js-widgets",
      "model_module_version": "~2.1.4",
      "model_name": "HTMLModel",
      "state": {
       "_model_module_version": "~2.1.4",
       "_view_module_version": "~2.1.4",
       "layout": "IPY_MODEL_137745517f06471da05f4803de8e9b7b",
       "value": "<svg baseProfile=\"full\" height=\"240\" version=\"1.1\" width=\"240\" xmlns=\"http://www.w3.org/2000/svg\" xmlns:ev=\"http://www.w3.org/2001/xml-events\" xmlns:xlink=\"http://www.w3.org/1999/xlink\"><defs /><rect fill=\"white\" height=\"240\" stroke=\"#000000\" stroke-width=\"1\" width=\"240\" x=\"0\" y=\"0\" /><rect fill=\"#eef3dd\" height=\"240.0\" stroke=\"#bebebe\" stroke-width=\"1\" width=\"240.0\" x=\"0.0\" y=\"0.0\" /><circle cx=\"120.0\" cy=\"195.0\" fill=\"#ffff00\" r=\"15.0\" stroke=\"#ffff00\" stroke-width=\"1\" /><line fill=\"#800080\" stroke=\"#add8e6\" stroke-width=\"1\" x1=\"199.5\" x2=\"0.0\" y1=\"114.0\" y2=\"114.0\" /><line fill=\"#800080\" stroke=\"#add8e6\" stroke-width=\"1\" x1=\"201.0\" x2=\"0.0\" y1=\"109.80000000000001\" y2=\"16.07215199999999\" /><line fill=\"#800080\" stroke=\"#add8e6\" stroke-width=\"1\" x1=\"203.4\" x2=\"112.77724019461742\" y1=\"107.99999999999999\" y2=\"0.0\" /><line fill=\"#800080\" stroke=\"#add8e6\" stroke-width=\"1\" x1=\"207.0\" x2=\"178.4634099424212\" y1=\"106.5\" y2=\"0.0\" /><line fill=\"#800080\" stroke=\"#add8e6\" stroke-width=\"1\" x1=\"213.0\" x2=\"240.0\" y1=\"106.5\" y2=\"5.734632000000062\" /><line fill=\"#800080\" stroke=\"#add8e6\" stroke-width=\"1\" x1=\"216.6\" x2=\"240.0\" y1=\"107.99999999999999\" y2=\"80.11296600000001\" /><line fill=\"#800080\" stroke=\"#add8e6\" stroke-width=\"1\" x1=\"219.0\" x2=\"240.0\" y1=\"109.80000000000001\" y2=\"100.007538\" /><line fill=\"#800080\" stroke=\"#add8e6\" stroke-width=\"1\" x1=\"220.5\" x2=\"240.0\" y1=\"114.0\" y2=\"114.0\" /><line fill=\"#800080\" stroke=\"#add8e6\" stroke-width=\"1\" x1=\"220.5\" x2=\"240.0\" y1=\"126.0\" y2=\"126.0\" /><line fill=\"#800080\" stroke=\"#add8e6\" stroke-width=\"1\" x1=\"219.0\" x2=\"240.0\" y1=\"130.2\" y2=\"139.992462\" /><line fill=\"#800080\" stroke=\"#add8e6\" stroke-width=\"1\" x1=\"216.6\" x2=\"240.0\" y1=\"132.0\" y2=\"159.88703399999997\" /><line fill=\"#800080\" stroke=\"#add8e6\" stroke-width=\"1\" x1=\"213.0\" x2=\"240.0\" y1=\"133.5\" y2=\"234.26536799999994\" /><line fill=\"#800080\" stroke=\"#add8e6\" stroke-width=\"1\" x1=\"207.0\" x2=\"178.4634099424212\" y1=\"133.5\" y2=\"240.0\" /><line fill=\"#800080\" stroke=\"#add8e6\" stroke-width=\"1\" x1=\"203.4\" x2=\"112.7772401946174\" y1=\"132.0\" y2=\"240.0\" /><line fill=\"#800080\" stroke=\"#add8e6\" stroke-width=\"1\" x1=\"201.0\" x2=\"0.0\" y1=\"130.2\" y2=\"223.927848\" /><line fill=\"#800080\" stroke=\"#add8e6\" stroke-width=\"1\" x1=\"199.5\" x2=\"0.0\" y1=\"126.0\" y2=\"126.0\" /><line fill=\"#800080\" stroke=\"#a020f0\" stroke-width=\"1\" x1=\"210.0\" x2=\"2.1539193796210117\" y1=\"120.0\" y2=\"0.0\" /><line fill=\"#800080\" stroke=\"#a020f0\" stroke-width=\"1\" x1=\"210.0\" x2=\"240.0\" y1=\"120.0\" y2=\"102.67948799999999\" /><line fill=\"#800080\" stroke=\"#ffa500\" stroke-width=\"1\" x1=\"120.0\" x2=\"199.5\" y1=\"195.0\" y2=\"106.5\" /><line fill=\"#800080\" stroke=\"#ffa500\" stroke-width=\"1\" x1=\"120.0\" x2=\"220.5\" y1=\"195.0\" y2=\"106.5\" /><polygon fill=\"red\" points=\"205.2,106.5 199.5,111.0 199.5,129.0 205.2,133.5 214.8,133.5 220.5,129.0 220.5,111.0 214.8,106.5\" stroke=\"red\" stroke-width=\"1\" /><polygon points=\"-3.0,-3.0 0,0 3.0,-3.0 0,3.0\" stroke=\"black\" stroke-width=\"1\" transform=\"translate(210.0,120.0) rotate(180.0)\" /><polygon fill=\"black\" points=\"213.6,111.6 213.6,116.39999999999999 206.4,116.39999999999999 206.4,111.6\" stroke=\"black\" stroke-width=\"1\" /><circle cx=\"199.5\" cy=\"106.5\" fill=\"yellow\" r=\"1.5\" stroke=\"orange\" stroke-width=\"1\" /><circle cx=\"220.5\" cy=\"106.5\" fill=\"yellow\" r=\"1.5\" stroke=\"orange\" stroke-width=\"1\" /></svg>"
      }
     },
     "6e16260bb1e748f78ff5023c2ec322e8": {
      "model_module": "jupyter-js-widgets",
      "model_module_version": "~2.1.4",
      "model_name": "ButtonModel",
      "state": {
       "_model_module_version": "~2.1.4",
       "_view_module_version": "~2.1.4",
       "icon": "step-forward",
       "layout": "IPY_MODEL_6f6f5ab2c7654d33a1bea0c69830b36b",
       "style": "IPY_MODEL_ab83e90eff5b43fa9dfd7158829b00ce"
      }
     },
     "6e18e153a03049c485be53cf7c1d1fa2": {
      "model_module": "jupyter-js-widgets",
      "model_module_version": "~2.1.4",
      "model_name": "ButtonModel",
      "state": {
       "_model_module_version": "~2.1.4",
       "_view_module_version": "~2.1.4",
       "description": "Clear",
       "layout": "IPY_MODEL_9946cc5c4580443daa9b0a613c99e24c",
       "style": "IPY_MODEL_23a8e59f2a94426095206b5979a6ec71"
      }
     },
     "6e25987c3100430f97f82d787a1d1427": {
      "model_module": "jupyter-js-widgets",
      "model_module_version": "~2.1.4",
      "model_name": "VBoxModel",
      "state": {
       "_model_module_version": "~2.1.4",
       "_view_module_version": "~2.1.4",
       "children": [
        "IPY_MODEL_c8fe1ab8c64242c1ba31859ac4b265e2",
        "IPY_MODEL_3055d3aa9ab3437597b9ff42abd02b9d"
       ],
       "layout": "IPY_MODEL_049399c7a1c747fab24e849700fa7fa1"
      }
     },
     "6e438537ca3040fda105387ec51e8697": {
      "model_module": "jupyter-js-widgets",
      "model_module_version": "~2.1.4",
      "model_name": "TextModel",
      "state": {
       "_model_module_version": "~2.1.4",
       "_view_module_version": "~2.1.4",
       "description": "Time:",
       "layout": "IPY_MODEL_0db0c321b9ea41248d772b2903dd7c30",
       "value": "0.00 seconds"
      }
     },
     "6e4a1235bc3f4d43a8ed395793c162e5": {
      "model_module": "jupyter-js-widgets",
      "model_module_version": "~2.1.4",
      "model_name": "LayoutModel",
      "state": {
       "_model_module_version": "~2.1.4",
       "_view_module_version": "~2.1.4"
      }
     },
     "6eb38a5a476c4aa199d1e827e490231a": {
      "model_module": "jupyter-js-widgets",
      "model_module_version": "~2.1.4",
      "model_name": "LayoutModel",
      "state": {
       "_model_module_version": "~2.1.4",
       "_view_module_version": "~2.1.4"
      }
     },
     "6f02fedc5948477d9dd5f2dfe603c929": {
      "model_module": "jupyter-js-widgets",
      "model_module_version": "~2.1.4",
      "model_name": "TextModel",
      "state": {
       "_model_module_version": "~2.1.4",
       "_view_module_version": "~2.1.4",
       "description": "Time:",
       "layout": "IPY_MODEL_11f1384d6cd445b8b1ad48ed88678d0c",
       "value": "0.10 seconds"
      }
     },
     "6f651d2dfb71494fb07af235a70d52be": {
      "model_module": "jupyter-js-widgets",
      "model_module_version": "~2.1.4",
      "model_name": "HBoxModel",
      "state": {
       "_model_module_version": "~2.1.4",
       "_view_module_version": "~2.1.4",
       "children": [
        "IPY_MODEL_a38b6ff81a5d4f7cb53b0c2d439c6b74",
        "IPY_MODEL_87eefea32d8644c090ad0cfaea5e04b1"
       ],
       "layout": "IPY_MODEL_ed240a6e2e1847df99ef81800da3d616"
      }
     },
     "6f6f5ab2c7654d33a1bea0c69830b36b": {
      "model_module": "jupyter-js-widgets",
      "model_module_version": "~2.1.4",
      "model_name": "LayoutModel",
      "state": {
       "_model_module_version": "~2.1.4",
       "_view_module_version": "~2.1.4"
      }
     },
     "6f740577e5844c09b41841f40631aacd": {
      "model_module": "jupyter-js-widgets",
      "model_module_version": "~2.1.4",
      "model_name": "LayoutModel",
      "state": {
       "_model_module_version": "~2.1.4",
       "_view_module_version": "~2.1.4",
       "height": "30px",
       "padding": "0px 0px 0px 10px",
       "width": "260px"
      }
     },
     "6fcd38c9eefe4f4e818a3a3c92956e6c": {
      "model_module": "jupyter-js-widgets",
      "model_module_version": "~2.1.4",
      "model_name": "TextModel",
      "state": {
       "_model_module_version": "~2.1.4",
       "_view_module_version": "~2.1.4",
       "description": "Time:",
       "layout": "IPY_MODEL_ab0c22378fbc4527ab21624b198fad1e",
       "value": "0.10 seconds"
      }
     },
     "7014670c411b4b7bb6758ce3e1f1338f": {
      "model_module": "jupyter-js-widgets",
      "model_module_version": "~2.1.4",
      "model_name": "LayoutModel",
      "state": {
       "_model_module_version": "~2.1.4",
       "_view_module_version": "~2.1.4",
       "height": "30px",
       "padding": "0px 0px 0px 10px",
       "width": "260px"
      }
     },
     "7027386442ec4454bd6f14be291a9fd5": {
      "model_module": "jupyter-js-widgets",
      "model_module_version": "~2.1.4",
      "model_name": "LayoutModel",
      "state": {
       "_model_module_version": "~2.1.4",
       "_view_module_version": "~2.1.4"
      }
     },
     "70536c7857e54e719852f7560a655f21": {
      "model_module": "jupyter-js-widgets",
      "model_module_version": "~2.1.4",
      "model_name": "HBoxModel",
      "state": {
       "_model_module_version": "~2.1.4",
       "_view_module_version": "~2.1.4",
       "children": [
        "IPY_MODEL_52e8bd2bd5f6418591ba89c1db716497",
        "IPY_MODEL_633043abb0cb4245b8f855df8047d842"
       ],
       "layout": "IPY_MODEL_6810db9e936446998d53a55fd8cd3bb7"
      }
     },
     "7072955d493b449ca3d4d161e05dfad9": {
      "model_module": "jupyter-js-widgets",
      "model_module_version": "~2.1.4",
      "model_name": "VBoxModel",
      "state": {
       "_model_module_version": "~2.1.4",
       "_view_module_version": "~2.1.4",
       "children": [
        "IPY_MODEL_ef5bd7547ed445a99141efc8d5c45a54",
        "IPY_MODEL_4b11eb768f7b4f7fb23455972662e0fd"
       ],
       "layout": "IPY_MODEL_b6e9f7f585f44d9d8cf111a6034fc3c7"
      }
     },
     "7074a7887e704e54b358c6d14ac8ec39": {
      "model_module": "jupyter-js-widgets",
      "model_module_version": "~2.1.4",
      "model_name": "LayoutModel",
      "state": {
       "_model_module_version": "~2.1.4",
       "_view_module_version": "~2.1.4"
      }
     },
     "7119868c17c34ad48cc25bf3d2ee3d6f": {
      "model_module": "jupyter-js-widgets",
      "model_module_version": "~2.1.4",
      "model_name": "ButtonModel",
      "state": {
       "_model_module_version": "~2.1.4",
       "_view_module_version": "~2.1.4",
       "icon": "step-forward",
       "layout": "IPY_MODEL_54247f0e886f4b688c214c0bf7df356a",
       "style": "IPY_MODEL_14a616d0857f44988461367dfb0f4a31"
      }
     },
     "7126ada511ef49c3b499e4a0da0fc611": {
      "model_module": "jupyter-js-widgets",
      "model_module_version": "~2.1.4",
      "model_name": "LayoutModel",
      "state": {
       "_model_module_version": "~2.1.4",
       "_view_module_version": "~2.1.4"
      }
     },
     "71279394837448a3a9de07de27d211b4": {
      "model_module": "jupyter-js-widgets",
      "model_module_version": "~2.1.4",
      "model_name": "LayoutModel",
      "state": {
       "_model_module_version": "~2.1.4",
       "_view_module_version": "~2.1.4",
       "height": "20px",
       "padding": "0px 0px 0px 0px",
       "width": "248px"
      }
     },
     "71400951ea304d1fb1b15dcef2421db5": {
      "model_module": "jupyter-js-widgets",
      "model_module_version": "~2.1.4",
      "model_name": "LayoutModel",
      "state": {
       "_model_module_version": "~2.1.4",
       "_view_module_version": "~2.1.4"
      }
     },
     "71c326fb383146318a7875fa61e387e4": {
      "model_module": "jupyter-js-widgets",
      "model_module_version": "~2.1.4",
      "model_name": "LayoutModel",
      "state": {
       "_model_module_version": "~2.1.4",
       "_view_module_version": "~2.1.4"
      }
     },
     "71e3b25d68b84db58de22ca84cd1ee1d": {
      "model_module": "jupyter-js-widgets",
      "model_module_version": "~2.1.4",
      "model_name": "FloatSliderModel",
      "state": {
       "_model_module_version": "~2.1.4",
       "_view_module_version": "~2.1.4",
       "layout": "IPY_MODEL_134af1daccfd4913bf1d4d50fb17f4ff",
       "readout": false,
       "step": 0.1,
       "value": 99.44295769917836
      }
     },
     "71eb3eb72559462f8cd48e7b3ae44895": {
      "model_module": "jupyter-js-widgets",
      "model_module_version": "~2.1.4",
      "model_name": "ButtonModel",
      "state": {
       "_model_module_version": "~2.1.4",
       "_view_module_version": "~2.1.4",
       "description": "Clear",
       "layout": "IPY_MODEL_dd5f77d6b0fc4b91a5a64feba0ff6259",
       "style": "IPY_MODEL_433fbc287e9a42dab956738522fd2e75"
      }
     },
     "720105d40f374dafa966eed97ad4073b": {
      "model_module": "jupyter-js-widgets",
      "model_module_version": "~2.1.4",
      "model_name": "VBoxModel",
      "state": {
       "_model_module_version": "~2.1.4",
       "_view_module_version": "~2.1.4",
       "children": [
        "IPY_MODEL_2cdaabf3bfb843e6a602a758dd969b1c",
        "IPY_MODEL_e78d6f68dc5940409e705b3ddbd47dcc"
       ],
       "layout": "IPY_MODEL_a339946c56ee42a695222301dbc28a3d"
      }
     },
     "725e15b696e2418bb14bdc6fcd360c4f": {
      "model_module": "jupyter-js-widgets",
      "model_module_version": "~2.1.4",
      "model_name": "LayoutModel",
      "state": {
       "_model_module_version": "~2.1.4",
       "_view_module_version": "~2.1.4",
       "height": "20px",
       "padding": "0px 0px 0px 0px",
       "width": "248px"
      }
     },
     "727af494424f4c7487d4e8700d1dc7b2": {
      "model_module": "jupyter-js-widgets",
      "model_module_version": "~2.1.4",
      "model_name": "TextModel",
      "state": {
       "_model_module_version": "~2.1.4",
       "_view_module_version": "~2.1.4",
       "description": "Time:",
       "layout": "IPY_MODEL_be3ab621b77e49318127510b247a6b20",
       "value": "0.00 seconds"
      }
     },
     "7293b605e89241cb9eb9c3ba0cf5e013": {
      "model_module": "jupyter-js-widgets",
      "model_module_version": "~2.1.4",
      "model_name": "LayoutModel",
      "state": {
       "_model_module_version": "~2.1.4",
       "_view_module_version": "~2.1.4"
      }
     },
     "72abd0cbe1b7487092c222169c18be07": {
      "model_module": "jupyter-js-widgets",
      "model_module_version": "~2.1.4",
      "model_name": "LayoutModel",
      "state": {
       "_model_module_version": "~2.1.4",
       "_view_module_version": "~2.1.4"
      }
     },
     "735037dc1bf245f6b7633de04f92bf96": {
      "model_module": "jupyter-js-widgets",
      "model_module_version": "~2.1.4",
      "model_name": "LayoutModel",
      "state": {
       "_model_module_version": "~2.1.4",
       "_view_module_version": "~2.1.4"
      }
     },
     "7357f81eaf9a47768dd0a72c7840b25e": {
      "model_module": "jupyter-js-widgets",
      "model_module_version": "~2.1.4",
      "model_name": "LayoutModel",
      "state": {
       "_model_module_version": "~2.1.4",
       "_view_module_version": "~2.1.4"
      }
     },
     "736ff88e980e4459aca55f48140a6a06": {
      "model_module": "jupyter-js-widgets",
      "model_module_version": "~2.1.4",
      "model_name": "LayoutModel",
      "state": {
       "_model_module_version": "~2.1.4",
       "_view_module_version": "~2.1.4",
       "height": "30px",
       "padding": "0px 0px 0px 10px",
       "width": "260px"
      }
     },
     "7376799f507f48e09ea7aa2db6f3ba8a": {
      "model_module": "jupyter-js-widgets",
      "model_module_version": "~2.1.4",
      "model_name": "LayoutModel",
      "state": {
       "_model_module_version": "~2.1.4",
       "_view_module_version": "~2.1.4",
       "height": "20px",
       "padding": "0px 0px 0px 0px",
       "width": "248px"
      }
     },
     "73ba5ffb85a44869a900c960336f8df2": {
      "model_module": "jupyter-js-widgets",
      "model_module_version": "~2.1.4",
      "model_name": "VBoxModel",
      "state": {
       "_model_module_version": "~2.1.4",
       "_view_module_version": "~2.1.4",
       "children": [
        "IPY_MODEL_2bc6898ba19c42398f79555de034b720",
        "IPY_MODEL_b1892c75ad614b9287477db99c6a9f4a"
       ],
       "layout": "IPY_MODEL_3e00306da1474617ac5adcd09ee35a3a"
      }
     },
     "73c0270a6c4e47a69bca376fb5ac93fe": {
      "model_module": "jupyter-js-widgets",
      "model_module_version": "~2.1.4",
      "model_name": "LayoutModel",
      "state": {
       "_model_module_version": "~2.1.4",
       "_view_module_version": "~2.1.4",
       "height": "248px",
       "padding": "0px 0px 0px 0px",
       "width": "10px"
      }
     },
     "73ce3754e4c24df4a10a6937dde7fac0": {
      "model_module": "jupyter-js-widgets",
      "model_module_version": "~2.1.4",
      "model_name": "LayoutModel",
      "state": {
       "_model_module_version": "~2.1.4",
       "_view_module_version": "~2.1.4"
      }
     },
     "73d0681203e745dea3a4f737fe56cda5": {
      "model_module": "jupyter-js-widgets",
      "model_module_version": "~2.1.4",
      "model_name": "PlayModel",
      "state": {
       "_model_module_version": "~2.1.4",
       "_view_module_version": "~2.1.4",
       "layout": "IPY_MODEL_97eae871bb95499598ad95cc504142cf",
       "max": 1000000
      }
     },
     "73e20adf41de4af396be848cfd94b8ca": {
      "model_module": "jupyter-js-widgets",
      "model_module_version": "~2.1.4",
      "model_name": "LayoutModel",
      "state": {
       "_model_module_version": "~2.1.4",
       "_view_module_version": "~2.1.4"
      }
     },
     "742b7aae91b04332a4211c709bced994": {
      "model_module": "jupyter-js-widgets",
      "model_module_version": "~2.1.4",
      "model_name": "LayoutModel",
      "state": {
       "_model_module_version": "~2.1.4",
       "_view_module_version": "~2.1.4"
      }
     },
     "7494292773cf4bbf8aae0a89599a77f9": {
      "model_module": "jupyter-js-widgets",
      "model_module_version": "~2.1.4",
      "model_name": "LayoutModel",
      "state": {
       "_model_module_version": "~2.1.4",
       "_view_module_version": "~2.1.4"
      }
     },
     "74a4a076ec3444e48d37cd009d6dfdbe": {
      "model_module": "jupyter-js-widgets",
      "model_module_version": "~2.1.4",
      "model_name": "LayoutModel",
      "state": {
       "_model_module_version": "~2.1.4",
       "_view_module_version": "~2.1.4"
      }
     },
     "74c6bbed9629466897f13338d0ae4547": {
      "model_module": "jupyter-js-widgets",
      "model_module_version": "~2.1.4",
      "model_name": "LayoutModel",
      "state": {
       "_model_module_version": "~2.1.4",
       "_view_module_version": "~2.1.4"
      }
     },
     "75426d80caa64bdb885a0fb452114b0d": {
      "model_module": "jupyter-js-widgets",
      "model_module_version": "~2.1.4",
      "model_name": "LayoutModel",
      "state": {
       "_model_module_version": "~2.1.4",
       "_view_module_version": "~2.1.4"
      }
     },
     "75874788f0d54b53ae3773c5aa2d6d30": {
      "model_module": "jupyter-js-widgets",
      "model_module_version": "~2.1.4",
      "model_name": "ImageModel",
      "state": {
       "_b64value": "iVBORw0KGgoAAAANSUhEUgAAADwAAAAoCAIAAAAt2Q6oAAAA4UlEQVR4nO3WsQrCMBDG8d6RYsiD+QouPpyDi4OCkyiCCKKTDi4q6Org4KCz4BAspWihR/JJ4H5DCYW0f0IIoeHxmqWG/x0godEoGo2i0SgajZJktIn69dZ5R0R+XAwq419vagSIfu1XzMzMROSfPqJRRyPy6Mdmmue5MYYZvceE/7stxmE7GjGnUY9Kss/2+roXC845ZGVFkqeHRqNoNIpGo2g0SpLRdH9eBNMG/Zm1trgw1dzyYlxNhSvd6bZlE4MQrnTZfLIFr3SA6Brr5SG96EiSPD00GkWjUTQaRaNR3pw9IaPLdcW8AAAAAElFTkSuQmCC",
       "_model_module_version": "~2.1.4",
       "_view_module_version": "~2.1.4",
       "layout": "IPY_MODEL_9a44d5b4f57c4d9e8fe17a9275161326",
       "width": "240"
      }
     },
     "758e0a8dc51947e78b84a2ebd5e96841": {
      "model_module": "jupyter-js-widgets",
      "model_module_version": "~2.1.4",
      "model_name": "FloatSliderModel",
      "state": {
       "_model_module_version": "~2.1.4",
       "_view_module_version": "~2.1.4",
       "layout": "IPY_MODEL_71279394837448a3a9de07de27d211b4",
       "readout": false,
       "step": 0.1,
       "value": 100
      }
     },
     "759c1432dde3413b9d5e7f1a86b69bc9": {
      "model_module": "jupyter-js-widgets",
      "model_module_version": "~2.1.4",
      "model_name": "LayoutModel",
      "state": {
       "_model_module_version": "~2.1.4",
       "_view_module_version": "~2.1.4"
      }
     },
     "75a84499ded64bb4b928bd2f41d202fc": {
      "model_module": "jupyter-js-widgets",
      "model_module_version": "~2.1.4",
      "model_name": "LayoutModel",
      "state": {
       "_model_module_version": "~2.1.4",
       "_view_module_version": "~2.1.4"
      }
     },
     "75ff023a0ccf40cfb5885d37f882de3a": {
      "model_module": "jupyter-js-widgets",
      "model_module_version": "~2.1.4",
      "model_name": "ButtonModel",
      "state": {
       "_model_module_version": "~2.1.4",
       "_view_module_version": "~2.1.4",
       "description": "Clear",
       "layout": "IPY_MODEL_9cb411591472455d83b96e5285b26a3a",
       "style": "IPY_MODEL_218dfdddedf847539629b9bde629a105"
      }
     },
     "764c2716a2694dd5837379994334e3f7": {
      "model_module": "jupyter-js-widgets",
      "model_module_version": "~2.1.4",
      "model_name": "LayoutModel",
      "state": {
       "_model_module_version": "~2.1.4",
       "_view_module_version": "~2.1.4"
      }
     },
     "7665fcacb9df4e309a98c346cf966e32": {
      "model_module": "jupyter-js-widgets",
      "model_module_version": "~2.1.4",
      "model_name": "PlayModel",
      "state": {
       "_model_module_version": "~2.1.4",
       "_view_module_version": "~2.1.4",
       "layout": "IPY_MODEL_0fb5edcca9b147ed8f88dd80425d3292",
       "max": 1000000
      }
     },
     "766c8680b72246bbb7fa0dc25ce79dc9": {
      "model_module": "jupyter-js-widgets",
      "model_module_version": "~2.1.4",
      "model_name": "TextModel",
      "state": {
       "_model_module_version": "~2.1.4",
       "_view_module_version": "~2.1.4",
       "description": "Time:",
       "layout": "IPY_MODEL_e9d9124968374ae581c0ce7601a8a262",
       "value": "29.90 seconds"
      }
     },
     "769fbfe892c7497185ca9e5061f2bb37": {
      "model_module": "jupyter-js-widgets",
      "model_module_version": "~2.1.4",
      "model_name": "LayoutModel",
      "state": {
       "_model_module_version": "~2.1.4",
       "_view_module_version": "~2.1.4"
      }
     },
     "76aaa20179694362a994be334a5c62fa": {
      "model_module": "jupyter-js-widgets",
      "model_module_version": "~2.1.4",
      "model_name": "LayoutModel",
      "state": {
       "_model_module_version": "~2.1.4",
       "_view_module_version": "~2.1.4"
      }
     },
     "76aacbcab01847d7aa3114470157d109": {
      "model_module": "jupyter-js-widgets",
      "model_module_version": "~2.1.4",
      "model_name": "LayoutModel",
      "state": {
       "_model_module_version": "~2.1.4",
       "_view_module_version": "~2.1.4",
       "height": "30px",
       "padding": "0px 0px 0px 10px",
       "width": "260px"
      }
     },
     "770391d89db5409795710fc14145a738": {
      "model_module": "jupyter-js-widgets",
      "model_module_version": "~2.1.4",
      "model_name": "HBoxModel",
      "state": {
       "_model_module_version": "~2.1.4",
       "_view_module_version": "~2.1.4",
       "children": [
        "IPY_MODEL_f5f04fdb14a84b3c9a8a1d51e8fa06d8",
        "IPY_MODEL_036eac68538747a5937fba206e91ce2e"
       ],
       "layout": "IPY_MODEL_a09424106cf94f288a3e8f3ed4c189d9"
      }
     },
     "7710df8f8f5a4aa8aa8b3ed4f88725aa": {
      "model_module": "jupyter-js-widgets",
      "model_module_version": "~2.1.4",
      "model_name": "ButtonStyleModel",
      "state": {
       "_model_module_version": "~2.1.4",
       "_view_module_version": "~2.1.4"
      }
     },
     "771331b69b2b4c0ca98ee6da4862ae57": {
      "model_module": "jupyter-js-widgets",
      "model_module_version": "~2.1.4",
      "model_name": "LayoutModel",
      "state": {
       "_model_module_version": "~2.1.4",
       "_view_module_version": "~2.1.4"
      }
     },
     "771a66e6334d410fa538227b64e15ce1": {
      "model_module": "jupyter-js-widgets",
      "model_module_version": "~2.1.4",
      "model_name": "HBoxModel",
      "state": {
       "_model_module_version": "~2.1.4",
       "_view_module_version": "~2.1.4",
       "children": [
        "IPY_MODEL_2d069cf6a5644290a29267533b43b496",
        "IPY_MODEL_7acb33a3004246e4956dc12d447623d4"
       ],
       "layout": "IPY_MODEL_b9edc46ed1cb44108c5e9a58d9576d02"
      }
     },
     "773631b9438645e4b9b1dc2e4a4ac8a2": {
      "model_module": "jupyter-js-widgets",
      "model_module_version": "~2.1.4",
      "model_name": "LayoutModel",
      "state": {
       "_model_module_version": "~2.1.4",
       "_view_module_version": "~2.1.4"
      }
     },
     "777df3fcb5e8490c93cb5abb61416e2d": {
      "model_module": "jupyter-js-widgets",
      "model_module_version": "~2.1.4",
      "model_name": "LayoutModel",
      "state": {
       "_model_module_version": "~2.1.4",
       "_view_module_version": "~2.1.4"
      }
     },
     "777f6e7e54264e058fc224fbbf4e3c76": {
      "model_module": "jupyter-js-widgets",
      "model_module_version": "~2.1.4",
      "model_name": "OutputModel",
      "state": {
       "_dom_classes": [],
       "_model_module": "jupyter-js-widgets",
       "_model_module_version": "~2.1.4",
       "_view_module": "jupyter-js-widgets",
       "_view_module_version": "~2.1.4",
       "layout": "IPY_MODEL_c97dbb607d614665aec89b460bb523a2",
       "msg_throttle": 1
      }
     },
     "77c0941c12d5424290695000c85b37ae": {
      "model_module": "jupyter-js-widgets",
      "model_module_version": "~2.1.4",
      "model_name": "LayoutModel",
      "state": {
       "_model_module_version": "~2.1.4",
       "_view_module_version": "~2.1.4"
      }
     },
     "789d3a2d17c94a3986e7d59286f44086": {
      "model_module": "jupyter-js-widgets",
      "model_module_version": "~2.1.4",
      "model_name": "LayoutModel",
      "state": {
       "_model_module_version": "~2.1.4",
       "_view_module_version": "~2.1.4"
      }
     },
     "78c0a6a2da87444fbdd0c65f6d4a76bc": {
      "model_module": "jupyter-js-widgets",
      "model_module_version": "~2.1.4",
      "model_name": "ButtonModel",
      "state": {
       "_model_module_version": "~2.1.4",
       "_view_module_version": "~2.1.4",
       "description": "Clear",
       "layout": "IPY_MODEL_7b87447cbb1940f7ae73229f797fb8cf",
       "style": "IPY_MODEL_2a3618d58be54136a02606a3f50b527b"
      }
     },
     "78f7342d134a4f38a62d31224c80d3a2": {
      "model_module": "jupyter-js-widgets",
      "model_module_version": "~2.1.4",
      "model_name": "CheckboxModel",
      "state": {
       "_model_module_version": "~2.1.4",
       "_view_module_version": "~2.1.4",
       "description": "Update GUI",
       "disabled": false,
       "layout": "IPY_MODEL_7f7ca052ce024e519e9bb485d2ac561a",
       "value": true
      }
     },
     "7941abcbfc6e4e4b82545087c6e0bdfd": {
      "model_module": "jupyter-js-widgets",
      "model_module_version": "~2.1.4",
      "model_name": "ButtonStyleModel",
      "state": {
       "_model_module_version": "~2.1.4",
       "_view_module_version": "~2.1.4"
      }
     },
     "79872dc7f66f424282f1fc8983cce999": {
      "model_module": "jupyter-js-widgets",
      "model_module_version": "~2.1.4",
      "model_name": "LayoutModel",
      "state": {
       "_model_module_version": "~2.1.4",
       "_view_module_version": "~2.1.4"
      }
     },
     "79bcb72138424e858f5453dfa5b18baf": {
      "model_module": "jupyter-js-widgets",
      "model_module_version": "~2.1.4",
      "model_name": "LayoutModel",
      "state": {
       "_model_module_version": "~2.1.4",
       "_view_module_version": "~2.1.4",
       "height": "30px",
       "padding": "0px 0px 0px 10px",
       "width": "260px"
      }
     },
     "79bda36ccf2141fcba93ca631791b7af": {
      "model_module": "jupyter-js-widgets",
      "model_module_version": "~2.1.4",
      "model_name": "VBoxModel",
      "state": {
       "_model_module_version": "~2.1.4",
       "_view_module_version": "~2.1.4",
       "children": [
        "IPY_MODEL_6460382cd18243168ed903c9850f1c63",
        "IPY_MODEL_2fbd511c06654e66945d07a0651af49e"
       ],
       "layout": "IPY_MODEL_fe57adc63c924e77a0a9c0e6a14d1a7a"
      }
     },
     "79e40ff680ae48299132c819a21d9d39": {
      "model_module": "jupyter-js-widgets",
      "model_module_version": "~2.1.4",
      "model_name": "OutputModel",
      "state": {
       "_dom_classes": [],
       "_model_module": "jupyter-js-widgets",
       "_model_module_version": "~2.1.4",
       "_view_module": "jupyter-js-widgets",
       "_view_module_version": "~2.1.4",
       "layout": "IPY_MODEL_1a2fc896d2574da485107d6da31f0c50",
       "msg_throttle": 1
      }
     },
     "7a2e082ddc2942faa39dc1e0d873a858": {
      "model_module": "jupyter-js-widgets",
      "model_module_version": "~2.1.4",
      "model_name": "LayoutModel",
      "state": {
       "_model_module_version": "~2.1.4",
       "_view_module_version": "~2.1.4"
      }
     },
     "7a346884e0e940cc93e24806c8c35f17": {
      "model_module": "jupyter-js-widgets",
      "model_module_version": "~2.1.4",
      "model_name": "LayoutModel",
      "state": {
       "_model_module_version": "~2.1.4",
       "_view_module_version": "~2.1.4"
      }
     },
     "7a44778773654e51a2bf6ed5d72f82ed": {
      "model_module": "jupyter-js-widgets",
      "model_module_version": "~2.1.4",
      "model_name": "HBoxModel",
      "state": {
       "_model_module_version": "~2.1.4",
       "_view_module_version": "~2.1.4",
       "children": [
        "IPY_MODEL_b302a8ff68fe4c69be25744c105eec94",
        "IPY_MODEL_a0bae851fc69403fbbdc319654302226"
       ],
       "layout": "IPY_MODEL_9fd65d9d22da4fe780c8ef61e3fc0e2d"
      }
     },
     "7a4f979801fd4c879d5fad4ca2c27281": {
      "model_module": "jupyter-js-widgets",
      "model_module_version": "~2.1.4",
      "model_name": "LayoutModel",
      "state": {
       "_model_module_version": "~2.1.4",
       "_view_module_version": "~2.1.4"
      }
     },
     "7a68b828a40a46688c5a1ba9e7c5910b": {
      "model_module": "jupyter-js-widgets",
      "model_module_version": "~2.1.4",
      "model_name": "ButtonStyleModel",
      "state": {
       "_model_module_version": "~2.1.4",
       "_view_module_version": "~2.1.4"
      }
     },
     "7a716e013af24ce2a8631d261aabae05": {
      "model_module": "jupyter-js-widgets",
      "model_module_version": "~2.1.4",
      "model_name": "LayoutModel",
      "state": {
       "_model_module_version": "~2.1.4",
       "_view_module_version": "~2.1.4"
      }
     },
     "7aa3859909e9469abd967e201234cd75": {
      "model_module": "jupyter-js-widgets",
      "model_module_version": "~2.1.4",
      "model_name": "LayoutModel",
      "state": {
       "_model_module_version": "~2.1.4",
       "_view_module_version": "~2.1.4"
      }
     },
     "7acb33a3004246e4956dc12d447623d4": {
      "model_module": "jupyter-js-widgets",
      "model_module_version": "~2.1.4",
      "model_name": "TextModel",
      "state": {
       "_model_module_version": "~2.1.4",
       "_view_module_version": "~2.1.4",
       "description": "Time:",
       "layout": "IPY_MODEL_4c59f97be261475cb84ffdf2d16affef",
       "value": "1.70 seconds"
      }
     },
     "7adb9b149f144fbc99a1afb03b8deb70": {
      "model_module": "jupyter-js-widgets",
      "model_module_version": "~2.1.4",
      "model_name": "LayoutModel",
      "state": {
       "_model_module_version": "~2.1.4",
       "_view_module_version": "~2.1.4"
      }
     },
     "7aed2d5c295b492d8fbc0c4780393f87": {
      "model_module": "jupyter-js-widgets",
      "model_module_version": "~2.1.4",
      "model_name": "LayoutModel",
      "state": {
       "_model_module_version": "~2.1.4",
       "_view_module_version": "~2.1.4"
      }
     },
     "7b72f9fc6a224eb5adbdae6c130d3ca2": {
      "model_module": "jupyter-js-widgets",
      "model_module_version": "~2.1.4",
      "model_name": "LayoutModel",
      "state": {
       "_model_module_version": "~2.1.4",
       "_view_module_version": "~2.1.4"
      }
     },
     "7b87447cbb1940f7ae73229f797fb8cf": {
      "model_module": "jupyter-js-widgets",
      "model_module_version": "~2.1.4",
      "model_name": "LayoutModel",
      "state": {
       "_model_module_version": "~2.1.4",
       "_view_module_version": "~2.1.4"
      }
     },
     "7bb55c2b03c24dacaff8601f875a777f": {
      "model_module": "jupyter-js-widgets",
      "model_module_version": "~2.1.4",
      "model_name": "VBoxModel",
      "state": {
       "_model_module_version": "~2.1.4",
       "_view_module_version": "~2.1.4",
       "children": [
        "IPY_MODEL_63118bd0fc5348a681e35ce3f130f264",
        "IPY_MODEL_969c1d13dd9942feaff1e0a492f91b71"
       ],
       "layout": "IPY_MODEL_3742b9d043da494c9e0df4bf0c63d1ff"
      }
     },
     "7cac688a51dc4866ad79ef7f12235f15": {
      "model_module": "jupyter-js-widgets",
      "model_module_version": "~2.1.4",
      "model_name": "ButtonModel",
      "state": {
       "_model_module_version": "~2.1.4",
       "_view_module_version": "~2.1.4",
       "icon": "step-forward",
       "layout": "IPY_MODEL_7aa3859909e9469abd967e201234cd75",
       "style": "IPY_MODEL_43249ed9bead44b0a331b138e565a711"
      }
     },
     "7cea6df46ff348ceb2eed86134f40327": {
      "model_module": "jupyter-js-widgets",
      "model_module_version": "~2.1.4",
      "model_name": "LayoutModel",
      "state": {
       "_model_module_version": "~2.1.4",
       "_view_module_version": "~2.1.4"
      }
     },
     "7d064b53049d4f5a9ea7dc94cbc43acc": {
      "model_module": "jupyter-js-widgets",
      "model_module_version": "~2.1.4",
      "model_name": "HBoxModel",
      "state": {
       "_model_module_version": "~2.1.4",
       "_view_module_version": "~2.1.4",
       "children": [
        "IPY_MODEL_377c08501a804995bfbcda637af494c2",
        "IPY_MODEL_ac1ff4fc3d3044f0b05a458cbe5b979d",
        "IPY_MODEL_379b0684a06c414b9b1735c197736c21"
       ],
       "layout": "IPY_MODEL_f07db3e586c545dfb359150301eb1022"
      }
     },
     "7d2db2990bd64dd3bf5d9474eb3272b9": {
      "model_module": "jupyter-js-widgets",
      "model_module_version": "~2.1.4",
      "model_name": "LayoutModel",
      "state": {
       "_model_module_version": "~2.1.4",
       "_view_module_version": "~2.1.4"
      }
     },
     "7d9c2a0895314c809d2b00e68723a34f": {
      "model_module": "jupyter-js-widgets",
      "model_module_version": "~2.1.4",
      "model_name": "ButtonStyleModel",
      "state": {
       "_model_module_version": "~2.1.4",
       "_view_module_version": "~2.1.4"
      }
     },
     "7dbc2baf7513460a9f3261e94c52f822": {
      "model_module": "jupyter-js-widgets",
      "model_module_version": "~2.1.4",
      "model_name": "OutputModel",
      "state": {
       "_dom_classes": [],
       "_model_module": "jupyter-js-widgets",
       "_model_module_version": "~2.1.4",
       "_view_module": "jupyter-js-widgets",
       "_view_module_version": "~2.1.4",
       "layout": "IPY_MODEL_0eb9094ebc824c9684b2b181d696ae22",
       "msg_throttle": 1
      }
     },
     "7deaa91babd245a7a57af3f7fd00374c": {
      "model_module": "jupyter-js-widgets",
      "model_module_version": "~2.1.4",
      "model_name": "CheckboxModel",
      "state": {
       "_model_module_version": "~2.1.4",
       "_view_module_version": "~2.1.4",
       "description": "Update GUI",
       "disabled": false,
       "layout": "IPY_MODEL_f7c4cf874358403388231c0ab8249a9e",
       "value": true
      }
     },
     "7e3924621c5043978393654219658507": {
      "model_module": "jupyter-js-widgets",
      "model_module_version": "~2.1.4",
      "model_name": "LayoutModel",
      "state": {
       "_model_module_version": "~2.1.4",
       "_view_module_version": "~2.1.4"
      }
     },
     "7e4f72b0ac754505a09a8631083c7dad": {
      "model_module": "jupyter-js-widgets",
      "model_module_version": "~2.1.4",
      "model_name": "LayoutModel",
      "state": {
       "_model_module_version": "~2.1.4",
       "_view_module_version": "~2.1.4",
       "height": "248px",
       "padding": "0px 0px 0px 0px",
       "width": "10px"
      }
     },
     "7e568dbfed214ca69054f6783bc7877a": {
      "model_module": "jupyter-js-widgets",
      "model_module_version": "~2.1.4",
      "model_name": "LayoutModel",
      "state": {
       "_model_module_version": "~2.1.4",
       "_view_module_version": "~2.1.4"
      }
     },
     "7eb9da8e99654b9d97a4d7e661488d0b": {
      "model_module": "jupyter-js-widgets",
      "model_module_version": "~2.1.4",
      "model_name": "LayoutModel",
      "state": {
       "_model_module_version": "~2.1.4",
       "_view_module_version": "~2.1.4"
      }
     },
     "7f3a6deb862a4bea9c18ef972b7acfbf": {
      "model_module": "jupyter-js-widgets",
      "model_module_version": "~2.1.4",
      "model_name": "PlayModel",
      "state": {
       "_model_module_version": "~2.1.4",
       "_view_module_version": "~2.1.4",
       "layout": "IPY_MODEL_e68d6dce25c74d56a38e59478d38cbec",
       "max": 1000000
      }
     },
     "7f3b267e381647759f00a5baae9a9bf1": {
      "model_module": "jupyter-js-widgets",
      "model_module_version": "~2.1.4",
      "model_name": "HBoxModel",
      "state": {
       "_model_module_version": "~2.1.4",
       "_view_module_version": "~2.1.4",
       "children": [
        "IPY_MODEL_4e2e49afee724d91965bf837f40b73e4",
        "IPY_MODEL_ba0eff0ddaf34641a1b6c9ae780041af"
       ],
       "layout": "IPY_MODEL_e9de4e13e6fe40d49c520803fa722ef4"
      }
     },
     "7f741a29e15747a9a6f184329b9cd063": {
      "model_module": "jupyter-js-widgets",
      "model_module_version": "~2.1.4",
      "model_name": "FloatSliderModel",
      "state": {
       "_model_module_version": "~2.1.4",
       "_view_module_version": "~2.1.4",
       "layout": "IPY_MODEL_5a2d42565a2d448c938aa1533d487713",
       "readout": false,
       "step": 0.1,
       "value": 100
      }
     },
     "7f79e9ab6d1745129ee25c803794e581": {
      "model_module": "jupyter-js-widgets",
      "model_module_version": "~2.1.4",
      "model_name": "LayoutModel",
      "state": {
       "_model_module_version": "~2.1.4",
       "_view_module_version": "~2.1.4"
      }
     },
     "7f7ca052ce024e519e9bb485d2ac561a": {
      "model_module": "jupyter-js-widgets",
      "model_module_version": "~2.1.4",
      "model_name": "LayoutModel",
      "state": {
       "_model_module_version": "~2.1.4",
       "_view_module_version": "~2.1.4"
      }
     },
     "7fe6936925da4289ba5b5db831144b04": {
      "model_module": "jupyter-js-widgets",
      "model_module_version": "~2.1.4",
      "model_name": "TextModel",
      "state": {
       "_model_module_version": "~2.1.4",
       "_view_module_version": "~2.1.4",
       "description": "Time:",
       "layout": "IPY_MODEL_28dfca65df2948a5ac4792b4af827538",
       "value": "0.0 seconds"
      }
     },
     "7ffd69dc67944f4ca5d65ecb56d1145b": {
      "model_module": "jupyter-js-widgets",
      "model_module_version": "~2.1.4",
      "model_name": "HBoxModel",
      "state": {
       "_model_module_version": "~2.1.4",
       "_view_module_version": "~2.1.4",
       "children": [
        "IPY_MODEL_383d7ec5e8a74507ae9646715e65f87e",
        "IPY_MODEL_0c594585ba5b467489bfd189e5073a64"
       ],
       "layout": "IPY_MODEL_42cef5a709014f47850666f15112fe10"
      }
     },
     "80145a1617c146e6b60b1c63420cdb5b": {
      "model_module": "jupyter-js-widgets",
      "model_module_version": "~2.1.4",
      "model_name": "LayoutModel",
      "state": {
       "_model_module_version": "~2.1.4",
       "_view_module_version": "~2.1.4"
      }
     },
     "80468e59094247d5beba866eabac0cd4": {
      "model_module": "jupyter-js-widgets",
      "model_module_version": "~2.1.4",
      "model_name": "LayoutModel",
      "state": {
       "_model_module_version": "~2.1.4",
       "_view_module_version": "~2.1.4"
      }
     },
     "806f324cef8646c9972425cd179a6c7f": {
      "model_module": "jupyter-js-widgets",
      "model_module_version": "~2.1.4",
      "model_name": "VBoxModel",
      "state": {
       "_model_module_version": "~2.1.4",
       "_view_module_version": "~2.1.4",
       "children": [
        "IPY_MODEL_2ad83a7ea1754a64ac82c6a775efa7b5",
        "IPY_MODEL_e2e08d5520b84265a7d9b81c2e5906ba",
        "IPY_MODEL_30c10cb1d0f641ddab150bb998f4403f"
       ],
       "layout": "IPY_MODEL_7cea6df46ff348ceb2eed86134f40327"
      }
     },
     "80ac54413f7d4987950a5e0bab23e3f1": {
      "model_module": "jupyter-js-widgets",
      "model_module_version": "~2.1.4",
      "model_name": "OutputModel",
      "state": {
       "_dom_classes": [],
       "_model_module": "jupyter-js-widgets",
       "_model_module_version": "~2.1.4",
       "_view_module": "jupyter-js-widgets",
       "_view_module_version": "~2.1.4",
       "layout": "IPY_MODEL_f9b1824837764fdebfb4e63586dc0e0d",
       "msg_throttle": 1
      }
     },
     "80c6412fc11a4008898613ba790b65c5": {
      "model_module": "jupyter-js-widgets",
      "model_module_version": "~2.1.4",
      "model_name": "ButtonStyleModel",
      "state": {
       "_model_module_version": "~2.1.4",
       "_view_module_version": "~2.1.4"
      }
     },
     "80ce270704224b539a60880c11f34f9c": {
      "model_module": "jupyter-js-widgets",
      "model_module_version": "~2.1.4",
      "model_name": "VBoxModel",
      "state": {
       "_model_module_version": "~2.1.4",
       "_view_module_version": "~2.1.4",
       "children": [
        "IPY_MODEL_cdbe55d13222459382c02c080c40ae39",
        "IPY_MODEL_758e0a8dc51947e78b84a2ebd5e96841"
       ],
       "layout": "IPY_MODEL_6c0fd30fdfd94470b7ffc80531a57e34"
      }
     },
     "80d186f557704403b90c2a08f58adcd3": {
      "model_module": "jupyter-js-widgets",
      "model_module_version": "~2.1.4",
      "model_name": "LayoutModel",
      "state": {
       "_model_module_version": "~2.1.4",
       "_view_module_version": "~2.1.4"
      }
     },
     "80d6e872e6eb408d9006161601f92922": {
      "model_module": "jupyter-js-widgets",
      "model_module_version": "~2.1.4",
      "model_name": "LayoutModel",
      "state": {
       "_model_module_version": "~2.1.4",
       "_view_module_version": "~2.1.4"
      }
     },
     "810b4456a2ce4ca3965fbee35c116ad5": {
      "model_module": "jupyter-js-widgets",
      "model_module_version": "~2.1.4",
      "model_name": "LayoutModel",
      "state": {
       "_model_module_version": "~2.1.4",
       "_view_module_version": "~2.1.4"
      }
     },
     "810ebea2c9f1455aa37c962639094a7e": {
      "model_module": "jupyter-js-widgets",
      "model_module_version": "~2.1.4",
      "model_name": "VBoxModel",
      "state": {
       "_model_module_version": "~2.1.4",
       "_view_module_version": "~2.1.4",
       "children": [
        "IPY_MODEL_3e60c6b4afdf4ae488650589c2f0a1bb",
        "IPY_MODEL_89f79e0fe40f4cdfbe8d28c1c0a6c066"
       ],
       "layout": "IPY_MODEL_a5a0b53ddfd147cc95b3ba1280882c0a"
      }
     },
     "812811cd4d214973a3382e78121a6537": {
      "model_module": "jupyter-js-widgets",
      "model_module_version": "~2.1.4",
      "model_name": "LayoutModel",
      "state": {
       "_model_module_version": "~2.1.4",
       "_view_module_version": "~2.1.4"
      }
     },
     "8132ca1b945f4345b572ad0ca2b1e753": {
      "model_module": "jupyter-js-widgets",
      "model_module_version": "~2.1.4",
      "model_name": "ButtonModel",
      "state": {
       "_model_module_version": "~2.1.4",
       "_view_module_version": "~2.1.4",
       "description": "Clear",
       "layout": "IPY_MODEL_789d3a2d17c94a3986e7d59286f44086",
       "style": "IPY_MODEL_b7ce18f2a5004f84957c46d54e1e99e9"
      }
     },
     "8133094f0cd44c0bb8e27dac4b429b9a": {
      "model_module": "jupyter-js-widgets",
      "model_module_version": "~2.1.4",
      "model_name": "HBoxModel",
      "state": {
       "_model_module_version": "~2.1.4",
       "_view_module_version": "~2.1.4",
       "children": [
        "IPY_MODEL_3f253cabe0994ff285db1998a802d576",
        "IPY_MODEL_1211105237f144d68120dc1f6ec0940c"
       ],
       "layout": "IPY_MODEL_2da7329e31b2461bb323a2aa1a39dc8b"
      }
     },
     "817cc3cc9e1a4b6382ece3e8fc151cce": {
      "model_module": "jupyter-js-widgets",
      "model_module_version": "~2.1.4",
      "model_name": "OutputModel",
      "state": {
       "_dom_classes": [],
       "_model_module": "jupyter-js-widgets",
       "_model_module_version": "~2.1.4",
       "_view_module": "jupyter-js-widgets",
       "_view_module_version": "~2.1.4",
       "layout": "IPY_MODEL_fa91b6414bb74b36827ab5df7d9445f1",
       "msg_throttle": 1
      }
     },
     "81ce6d6be95f44788e4ecc5f92c00a75": {
      "model_module": "jupyter-js-widgets",
      "model_module_version": "~2.1.4",
      "model_name": "FloatSliderModel",
      "state": {
       "_model_module_version": "~2.1.4",
       "_view_module_version": "~2.1.4",
       "layout": "IPY_MODEL_ac0b66c0bea24e84b7bbee725d79f7fb",
       "readout": false,
       "step": 0.1,
       "value": 87.5
      }
     },
     "81d1e40e1529460db4bb21e9095f2df3": {
      "model_module": "jupyter-js-widgets",
      "model_module_version": "~2.1.4",
      "model_name": "LayoutModel",
      "state": {
       "_model_module_version": "~2.1.4",
       "_view_module_version": "~2.1.4"
      }
     },
     "81e58bbcdfc3487a9bd513a8ee6a5c0d": {
      "model_module": "jupyter-js-widgets",
      "model_module_version": "~2.1.4",
      "model_name": "HBoxModel",
      "state": {
       "_model_module_version": "~2.1.4",
       "_view_module_version": "~2.1.4",
       "children": [
        "IPY_MODEL_6817130763ce405fa57915237f5e7380",
        "IPY_MODEL_1fc674bd7d00454cae743d3128f88b59",
        "IPY_MODEL_654dde8fe5be425a8084617a3c4c05ae"
       ],
       "layout": "IPY_MODEL_be508566d5224465916071093ad6fc5d"
      }
     },
     "820fedd38ce74e0cae7bb6ca6423e211": {
      "model_module": "jupyter-js-widgets",
      "model_module_version": "~2.1.4",
      "model_name": "LayoutModel",
      "state": {
       "_model_module_version": "~2.1.4",
       "_view_module_version": "~2.1.4"
      }
     },
     "82175de6e91d4250af516575f04a7f3c": {
      "model_module": "jupyter-js-widgets",
      "model_module_version": "~2.1.4",
      "model_name": "LayoutModel",
      "state": {
       "_model_module_version": "~2.1.4",
       "_view_module_version": "~2.1.4"
      }
     },
     "821a995f06d145d4a922d8aa592c6449": {
      "model_module": "jupyter-js-widgets",
      "model_module_version": "~2.1.4",
      "model_name": "FloatSliderModel",
      "state": {
       "_model_module_version": "~2.1.4",
       "_view_module_version": "~2.1.4",
       "layout": "IPY_MODEL_916947967a144901b203dee433a258f5",
       "orientation": "vertical",
       "readout": false,
       "step": 0.1,
       "value": 50
      }
     },
     "82ad3c85018549e68d5b232bc620868d": {
      "model_module": "jupyter-js-widgets",
      "model_module_version": "~2.1.4",
      "model_name": "LayoutModel",
      "state": {
       "_model_module_version": "~2.1.4",
       "_view_module_version": "~2.1.4"
      }
     },
     "82c383be369f4759b8eaec270774186b": {
      "model_module": "jupyter-js-widgets",
      "model_module_version": "~2.1.4",
      "model_name": "LayoutModel",
      "state": {
       "_model_module_version": "~2.1.4",
       "_view_module_version": "~2.1.4"
      }
     },
     "82e60a76a9064850be265928d17575fb": {
      "model_module": "jupyter-js-widgets",
      "model_module_version": "~2.1.4",
      "model_name": "HBoxModel",
      "state": {
       "_model_module_version": "~2.1.4",
       "_view_module_version": "~2.1.4",
       "children": [
        "IPY_MODEL_f191dc6e8bb34f4090797bf946f17a83",
        "IPY_MODEL_c14015a336964dab8ea9e00bb4760792"
       ],
       "layout": "IPY_MODEL_ac64c9d96df34e00966772810fbcf330"
      }
     },
     "82fa770469cd45ee876bc3b1d72f3030": {
      "model_module": "jupyter-js-widgets",
      "model_module_version": "~2.1.4",
      "model_name": "FloatSliderModel",
      "state": {
       "_model_module_version": "~2.1.4",
       "_view_module_version": "~2.1.4",
       "layout": "IPY_MODEL_f880610e5ef2457f8de275d654e8eecf",
       "orientation": "vertical",
       "readout": false,
       "step": 0.1,
       "value": 50
      }
     },
     "83529a81659047088776b317dcbf3df3": {
      "model_module": "jupyter-js-widgets",
      "model_module_version": "~2.1.4",
      "model_name": "LayoutModel",
      "state": {
       "_model_module_version": "~2.1.4",
       "_view_module_version": "~2.1.4"
      }
     },
     "838ac36858534526b77ae4a98f3ec6ed": {
      "model_module": "jupyter-js-widgets",
      "model_module_version": "~2.1.4",
      "model_name": "ButtonStyleModel",
      "state": {
       "_model_module_version": "~2.1.4",
       "_view_module_version": "~2.1.4"
      }
     },
     "83c3fe33a58941e48b776e0640015ab3": {
      "model_module": "jupyter-js-widgets",
      "model_module_version": "~2.1.4",
      "model_name": "CheckboxModel",
      "state": {
       "_model_module_version": "~2.1.4",
       "_view_module_version": "~2.1.4",
       "description": "Update GUI",
       "disabled": false,
       "layout": "IPY_MODEL_364472c54a95497789968913713272de",
       "value": true
      }
     },
     "83d644362e7e49b1834b9ac3bd1ffb37": {
      "model_module": "jupyter-js-widgets",
      "model_module_version": "~2.1.4",
      "model_name": "LayoutModel",
      "state": {
       "_model_module_version": "~2.1.4",
       "_view_module_version": "~2.1.4"
      }
     },
     "83faf3e8ce3a4b51a97195486ef236c4": {
      "model_module": "jupyter-js-widgets",
      "model_module_version": "~2.1.4",
      "model_name": "ButtonModel",
      "state": {
       "_model_module_version": "~2.1.4",
       "_view_module_version": "~2.1.4",
       "icon": "step-forward",
       "layout": "IPY_MODEL_08eaa8416b8649558a045f1c00714a88",
       "style": "IPY_MODEL_af8c1bb4519248cc87c71bebec21ce4b"
      }
     },
     "848d41cb09eb4f4990ede06d45d0a8d2": {
      "model_module": "jupyter-js-widgets",
      "model_module_version": "~2.1.4",
      "model_name": "LayoutModel",
      "state": {
       "_model_module_version": "~2.1.4",
       "_view_module_version": "~2.1.4",
       "height": "30px",
       "padding": "0px 0px 0px 10px",
       "width": "260px"
      }
     },
     "8494c3e4791b4da893c42ed898154d35": {
      "model_module": "jupyter-js-widgets",
      "model_module_version": "~2.1.4",
      "model_name": "LayoutModel",
      "state": {
       "_model_module_version": "~2.1.4",
       "_view_module_version": "~2.1.4"
      }
     },
     "8497eaee58bf4f17a00489025e8fc3d0": {
      "model_module": "jupyter-js-widgets",
      "model_module_version": "~2.1.4",
      "model_name": "TextModel",
      "state": {
       "_model_module_version": "~2.1.4",
       "_view_module_version": "~2.1.4",
       "description": "Time:",
       "layout": "IPY_MODEL_50323b140f9d4c5dac9d240fcee75caf",
       "value": "0.10 seconds"
      }
     },
     "85f4a64accc246b78f92e92bd776fda2": {
      "model_module": "jupyter-js-widgets",
      "model_module_version": "~2.1.4",
      "model_name": "LayoutModel",
      "state": {
       "_model_module_version": "~2.1.4",
       "_view_module_version": "~2.1.4",
       "height": "30px",
       "padding": "0px 0px 0px 10px",
       "width": "260px"
      }
     },
     "861c77b9df1f4dc78199a9736e4a4209": {
      "model_module": "jupyter-js-widgets",
      "model_module_version": "~2.1.4",
      "model_name": "LayoutModel",
      "state": {
       "_model_module_version": "~2.1.4",
       "_view_module_version": "~2.1.4"
      }
     },
     "86220efc7b1f4e9184abf3c89b557e8c": {
      "model_module": "jupyter-js-widgets",
      "model_module_version": "~2.1.4",
      "model_name": "VBoxModel",
      "state": {
       "_model_module_version": "~2.1.4",
       "_view_module_version": "~2.1.4",
       "children": [
        "IPY_MODEL_ad6c3a2cec8646b9a86953ad3adba58e",
        "IPY_MODEL_6d0eb550043b4461ad06604d721ffe6a"
       ],
       "layout": "IPY_MODEL_f483bc8509174cf4a80d0a7884410794"
      }
     },
     "86261504a99e4fc99b84040492b51fd1": {
      "model_module": "jupyter-js-widgets",
      "model_module_version": "~2.1.4",
      "model_name": "LayoutModel",
      "state": {
       "_model_module_version": "~2.1.4",
       "_view_module_version": "~2.1.4"
      }
     },
     "864dee5aed0543659fe45fc6a722b80c": {
      "model_module": "jupyter-js-widgets",
      "model_module_version": "~2.1.4",
      "model_name": "CheckboxModel",
      "state": {
       "_model_module_version": "~2.1.4",
       "_view_module_version": "~2.1.4",
       "description": "Update GUI",
       "disabled": false,
       "layout": "IPY_MODEL_5346a240e9e146919dd05f789353629a",
       "value": true
      }
     },
     "866fbc3cab36402baf7adfef440252de": {
      "model_module": "jupyter-js-widgets",
      "model_module_version": "~2.1.4",
      "model_name": "VBoxModel",
      "state": {
       "_model_module_version": "~2.1.4",
       "_view_module_version": "~2.1.4",
       "children": [
        "IPY_MODEL_f133e60dc6fc4b0493e20948649cf81f",
        "IPY_MODEL_fd9a5e854e094750bf66e5f0735a5578"
       ],
       "layout": "IPY_MODEL_76aaa20179694362a994be334a5c62fa"
      }
     },
     "8688b35a043c4e1fbffb3ce2e24cbe8f": {
      "model_module": "jupyter-js-widgets",
      "model_module_version": "~2.1.4",
      "model_name": "VBoxModel",
      "state": {
       "_model_module_version": "~2.1.4",
       "_view_module_version": "~2.1.4",
       "children": [
        "IPY_MODEL_d079aaf499b742d69fbd54f7ddde2b57",
        "IPY_MODEL_fe4d7a2c7c834a43b37edd32f41b3bbc"
       ],
       "layout": "IPY_MODEL_f8bfe419296e4c03a4072702bc10e2e7"
      }
     },
     "86c33eac404b4327895704cb4150bd90": {
      "model_module": "jupyter-js-widgets",
      "model_module_version": "~2.1.4",
      "model_name": "LayoutModel",
      "state": {
       "_model_module_version": "~2.1.4",
       "_view_module_version": "~2.1.4"
      }
     },
     "86dd59a576c744fea6b31170512952f8": {
      "model_module": "jupyter-js-widgets",
      "model_module_version": "~2.1.4",
      "model_name": "TextModel",
      "state": {
       "_model_module_version": "~2.1.4",
       "_view_module_version": "~2.1.4",
       "description": "Time:",
       "layout": "IPY_MODEL_451d71921f8f495aaae58720efaaf589",
       "value": "6.40 seconds"
      }
     },
     "8763ca41e53649a789e17b3b14602b86": {
      "model_module": "jupyter-js-widgets",
      "model_module_version": "~2.1.4",
      "model_name": "LayoutModel",
      "state": {
       "_model_module_version": "~2.1.4",
       "_view_module_version": "~2.1.4"
      }
     },
     "87aa04a1097a4f6a91470c6ff1421f22": {
      "model_module": "jupyter-js-widgets",
      "model_module_version": "~2.1.4",
      "model_name": "LayoutModel",
      "state": {
       "_model_module_version": "~2.1.4",
       "_view_module_version": "~2.1.4"
      }
     },
     "87eefea32d8644c090ad0cfaea5e04b1": {
      "model_module": "jupyter-js-widgets",
      "model_module_version": "~2.1.4",
      "model_name": "VBoxModel",
      "state": {
       "_model_module_version": "~2.1.4",
       "_view_module_version": "~2.1.4",
       "children": [
        "IPY_MODEL_550250e4114443f79f976458d826f831",
        "IPY_MODEL_971ee453498b4dcfaaee1503aab288ff"
       ],
       "layout": "IPY_MODEL_fc5a72846f4946a8b6280c53a49641a1"
      }
     },
     "8801fcece2074574bcff7b713185250a": {
      "model_module": "jupyter-js-widgets",
      "model_module_version": "~2.1.4",
      "model_name": "LayoutModel",
      "state": {
       "_model_module_version": "~2.1.4",
       "_view_module_version": "~2.1.4"
      }
     },
     "8815e2b4e97a4795974651fd87555060": {
      "model_module": "jupyter-js-widgets",
      "model_module_version": "~2.1.4",
      "model_name": "LayoutModel",
      "state": {
       "_model_module_version": "~2.1.4",
       "_view_module_version": "~2.1.4"
      }
     },
     "88a6d68653074f5ea4f59f3b81158d56": {
      "model_module": "jupyter-js-widgets",
      "model_module_version": "~2.1.4",
      "model_name": "ButtonStyleModel",
      "state": {
       "_model_module_version": "~2.1.4",
       "_view_module_version": "~2.1.4"
      }
     },
     "88bc26bc14d649d4b4fa4646de4635a6": {
      "model_module": "jupyter-js-widgets",
      "model_module_version": "~2.1.4",
      "model_name": "LayoutModel",
      "state": {
       "_model_module_version": "~2.1.4",
       "_view_module_version": "~2.1.4"
      }
     },
     "88cf4b0cb8174ddaac90356dd4ab7917": {
      "model_module": "jupyter-js-widgets",
      "model_module_version": "~2.1.4",
      "model_name": "LayoutModel",
      "state": {
       "_model_module_version": "~2.1.4",
       "_view_module_version": "~2.1.4"
      }
     },
     "8909bca0f4404601b6a4971c8badf20b": {
      "model_module": "jupyter-js-widgets",
      "model_module_version": "~2.1.4",
      "model_name": "LayoutModel",
      "state": {
       "_model_module_version": "~2.1.4",
       "_view_module_version": "~2.1.4"
      }
     },
     "89261895520e4213afad6cce91db2e66": {
      "model_module": "jupyter-js-widgets",
      "model_module_version": "~2.1.4",
      "model_name": "HBoxModel",
      "state": {
       "_model_module_version": "~2.1.4",
       "_view_module_version": "~2.1.4",
       "children": [
        "IPY_MODEL_56eaa697f1cd4acb93ad579cb1e1defc",
        "IPY_MODEL_6ce8cb2916784336bb0d1f7f87fc4600",
        "IPY_MODEL_75ff023a0ccf40cfb5885d37f882de3a"
       ],
       "layout": "IPY_MODEL_6db834fd409a4a56a95fe2d8ab5484c4"
      }
     },
     "89488fab8e384216800ae737b1986f69": {
      "model_module": "jupyter-js-widgets",
      "model_module_version": "~2.1.4",
      "model_name": "HBoxModel",
      "state": {
       "_model_module_version": "~2.1.4",
       "_view_module_version": "~2.1.4",
       "children": [
        "IPY_MODEL_666dd31d6bee481abf496a485fb8c298",
        "IPY_MODEL_766c8680b72246bbb7fa0dc25ce79dc9"
       ],
       "layout": "IPY_MODEL_2dae1b1fc04749918a845e9141e85ae7"
      }
     },
     "8948a1b41da54a8fac356edb46625481": {
      "model_module": "jupyter-js-widgets",
      "model_module_version": "~2.1.4",
      "model_name": "OutputModel",
      "state": {
       "_dom_classes": [],
       "_model_module": "jupyter-js-widgets",
       "_model_module_version": "~2.1.4",
       "_view_module": "jupyter-js-widgets",
       "_view_module_version": "~2.1.4",
       "layout": "IPY_MODEL_7027386442ec4454bd6f14be291a9fd5",
       "msg_throttle": 1
      }
     },
     "895e65d2140b4037a40f1e5c5ec94e7f": {
      "model_module": "jupyter-js-widgets",
      "model_module_version": "~2.1.4",
      "model_name": "HBoxModel",
      "state": {
       "_model_module_version": "~2.1.4",
       "_view_module_version": "~2.1.4",
       "children": [
        "IPY_MODEL_99f8fdd573fe48b493d81ccce091a040",
        "IPY_MODEL_6361254f9c574d70a404502d614afbd1"
       ],
       "layout": "IPY_MODEL_4076f5c290594dfda4f5ac14c3ca00bc"
      }
     },
     "896647fb06544bd5887557d2d5e14f54": {
      "model_module": "jupyter-js-widgets",
      "model_module_version": "~2.1.4",
      "model_name": "VBoxModel",
      "state": {
       "_model_module_version": "~2.1.4",
       "_view_module_version": "~2.1.4",
       "children": [
        "IPY_MODEL_8ccf286bfabd4e2a91146dabb332a332",
        "IPY_MODEL_c170fc89493d40e1a8d7bf5296092f87",
        "IPY_MODEL_0ea70eb5866a4a9e88d5d70048850a72"
       ],
       "layout": "IPY_MODEL_13eedb7a267046c1be8e9323d5098838"
      }
     },
     "89794d73116e4a429f3517e4c4d0c45d": {
      "model_module": "jupyter-js-widgets",
      "model_module_version": "~2.1.4",
      "model_name": "LayoutModel",
      "state": {
       "_model_module_version": "~2.1.4",
       "_view_module_version": "~2.1.4"
      }
     },
     "89c27e9650ca490ea28356ea4ba6bff8": {
      "model_module": "jupyter-js-widgets",
      "model_module_version": "~2.1.4",
      "model_name": "LayoutModel",
      "state": {
       "_model_module_version": "~2.1.4",
       "_view_module_version": "~2.1.4"
      }
     },
     "89c633c25bb7473099b31bb39b8fdd45": {
      "model_module": "jupyter-js-widgets",
      "model_module_version": "~2.1.4",
      "model_name": "LayoutModel",
      "state": {
       "_model_module_version": "~2.1.4",
       "_view_module_version": "~2.1.4"
      }
     },
     "89f79e0fe40f4cdfbe8d28c1c0a6c066": {
      "model_module": "jupyter-js-widgets",
      "model_module_version": "~2.1.4",
      "model_name": "FloatSliderModel",
      "state": {
       "_model_module_version": "~2.1.4",
       "_view_module_version": "~2.1.4",
       "layout": "IPY_MODEL_9fb42672d0f044e0aca24029c79dbe69",
       "readout": false,
       "step": 0.1,
       "value": 87.5
      }
     },
     "8a0850b04c2c4e909f88e1837a6e82c0": {
      "model_module": "jupyter-js-widgets",
      "model_module_version": "~2.1.4",
      "model_name": "PlayModel",
      "state": {
       "_model_module_version": "~2.1.4",
       "_view_module_version": "~2.1.4",
       "layout": "IPY_MODEL_c4537752a1ff4b4c84bad0565f396574",
       "max": 1000000
      }
     },
     "8a15198c4b854f52842e8853fba7ee58": {
      "model_module": "jupyter-js-widgets",
      "model_module_version": "~2.1.4",
      "model_name": "VBoxModel",
      "state": {
       "_model_module_version": "~2.1.4",
       "_view_module_version": "~2.1.4",
       "children": [
        "IPY_MODEL_60766dd83d18426e96e53a4d66112e59",
        "IPY_MODEL_c749b3563ccf4639b3b1550b79f21fbe"
       ],
       "layout": "IPY_MODEL_494043d35462483eadbd98b827ac831c"
      }
     },
     "8a8e852a04194aec852f3e101a7434fe": {
      "model_module": "jupyter-js-widgets",
      "model_module_version": "~2.1.4",
      "model_name": "LayoutModel",
      "state": {
       "_model_module_version": "~2.1.4",
       "_view_module_version": "~2.1.4"
      }
     },
     "8ae1d93e6430485786c3960491b0ea6d": {
      "model_module": "jupyter-js-widgets",
      "model_module_version": "~2.1.4",
      "model_name": "VBoxModel",
      "state": {
       "_model_module_version": "~2.1.4",
       "_view_module_version": "~2.1.4",
       "children": [
        "IPY_MODEL_90fc3c240f75456b8b67d4fb9e5d2227",
        "IPY_MODEL_51f31a66ee6344d1b46f5d66e58e943f"
       ],
       "layout": "IPY_MODEL_27b1323becb34ab4a2f30a9a16ca755b"
      }
     },
     "8b0db248b86145c8aefc41ef13f6daf1": {
      "model_module": "jupyter-js-widgets",
      "model_module_version": "~2.1.4",
      "model_name": "LayoutModel",
      "state": {
       "_model_module_version": "~2.1.4",
       "_view_module_version": "~2.1.4",
       "height": "248px",
       "padding": "0px 0px 0px 0px",
       "width": "10px"
      }
     },
     "8b117fc8516c4edeaacae86beea26410": {
      "model_module": "jupyter-js-widgets",
      "model_module_version": "~2.1.4",
      "model_name": "VBoxModel",
      "state": {
       "_model_module_version": "~2.1.4",
       "_view_module_version": "~2.1.4",
       "children": [
        "IPY_MODEL_86220efc7b1f4e9184abf3c89b557e8c",
        "IPY_MODEL_be6f4068fff248f0921ea275961138c5",
        "IPY_MODEL_354e3e22c97b4a549884540e04c75fce"
       ],
       "layout": "IPY_MODEL_77c0941c12d5424290695000c85b37ae"
      }
     },
     "8bbe6a93444f4220909e1084f9992b07": {
      "model_module": "jupyter-js-widgets",
      "model_module_version": "~2.1.4",
      "model_name": "LayoutModel",
      "state": {
       "_model_module_version": "~2.1.4",
       "_view_module_version": "~2.1.4"
      }
     },
     "8bd0e213132b40babcefa3ab18f06dd8": {
      "model_module": "jupyter-js-widgets",
      "model_module_version": "~2.1.4",
      "model_name": "VBoxModel",
      "state": {
       "_model_module_version": "~2.1.4",
       "_view_module_version": "~2.1.4",
       "children": [
        "IPY_MODEL_2bee9d53650644b4b5d0d56997ac47a2",
        "IPY_MODEL_e630d4ca684742a19db2a6f0ed71d35d"
       ],
       "layout": "IPY_MODEL_8bfc3b004b1f4757aff348981ee094e4"
      }
     },
     "8be7ed3ba27745dbb88c9623108a3e4f": {
      "model_module": "jupyter-js-widgets",
      "model_module_version": "~2.1.4",
      "model_name": "HTMLModel",
      "state": {
       "_model_module_version": "~2.1.4",
       "_view_module_version": "~2.1.4",
       "layout": "IPY_MODEL_7a4f979801fd4c879d5fad4ca2c27281",
       "value": "<svg baseProfile=\"full\" height=\"240\" version=\"1.1\" width=\"240\" xmlns=\"http://www.w3.org/2000/svg\" xmlns:ev=\"http://www.w3.org/2001/xml-events\" xmlns:xlink=\"http://www.w3.org/1999/xlink\"><defs /><rect fill=\"white\" height=\"240\" stroke=\"#000000\" stroke-width=\"1\" width=\"240\" x=\"0\" y=\"0\" /><rect fill=\"#eef3dd\" height=\"240.0\" stroke=\"#bebebe\" stroke-width=\"1\" width=\"240.0\" x=\"0.0\" y=\"0.0\" /><circle cx=\"120.0\" cy=\"195.0\" fill=\"#ffff00\" r=\"15.0\" stroke=\"#ffff00\" stroke-width=\"1\" /><line fill=\"#800080\" stroke=\"#add8e6\" stroke-width=\"1\" x1=\"199.29647346587737\" x2=\"0.0\" y1=\"111.37109959820461\" y2=\"118.34932799999999\" /><line fill=\"#800080\" stroke=\"#add8e6\" stroke-width=\"1\" x1=\"200.64858482032437\" x2=\"0.0\" y1=\"107.12118255369946\" y2=\"21.973026000000004\" /><line fill=\"#800080\" stroke=\"#add8e6\" stroke-width=\"1\" x1=\"202.98412783209295\" x2=\"108.20933355871675\" y1=\"105.23830209010676\" y2=\"0.0\" /><line fill=\"#800080\" stroke=\"#add8e6\" stroke-width=\"1\" x1=\"206.529433775271\" x2=\"174.84110042201567\" y1=\"103.61324646974592\" y2=\"0.0\" /><line fill=\"#800080\" stroke=\"#add8e6\" stroke-width=\"1\" x1=\"212.52575915041191\" x2=\"236.38811675880686\" y1=\"103.4032893421199\" y2=\"0.0\" /><line fill=\"#800080\" stroke=\"#add8e6\" stroke-width=\"1\" x1=\"216.176043657403\" x2=\"240.0\" y1=\"104.77639640932952\" y2=\"74.27725800000002\" /><line fill=\"#800080\" stroke=\"#add8e6\" stroke-width=\"1\" x1=\"218.63756094574717\" x2=\"240.0\" y1=\"106.49131117082139\" y2=\"95.60408999999999\" /><line fill=\"#800080\" stroke=\"#add8e6\" stroke-width=\"1\" x1=\"220.28361227887063\" x2=\"240.0\" y1=\"110.63624965151354\" y2=\"109.94589599999998\" /><line fill=\"#800080\" stroke=\"#add8e6\" stroke-width=\"1\" x1=\"220.70352653412263\" x2=\"240.0\" y1=\"122.62890040179542\" y2=\"121.95324600000001\" /><line fill=\"#800080\" stroke=\"#add8e6\" stroke-width=\"1\" x1=\"219.35141517967563\" x2=\"240.0\" y1=\"126.87881744630057\" y2=\"135.641346\" /><line fill=\"#800080\" stroke=\"#add8e6\" stroke-width=\"1\" x1=\"217.01587216790705\" x2=\"240.0\" y1=\"128.76169790989326\" y2=\"154.283364\" /><line fill=\"#800080\" stroke=\"#add8e6\" stroke-width=\"1\" x1=\"213.470566224729\" x2=\"240.0\" y1=\"130.3867535302541\" y2=\"217.131636\" /><line fill=\"#800080\" stroke=\"#add8e6\" stroke-width=\"1\" x1=\"207.47424084958809\" x2=\"182.22726449088904\" y1=\"130.59671065788012\" y2=\"240.0\" /><line fill=\"#800080\" stroke=\"#add8e6\" stroke-width=\"1\" x1=\"203.823956342597\" x2=\"117.29260723482744\" y1=\"129.2236035906705\" y2=\"240.0\" /><line fill=\"#800080\" stroke=\"#add8e6\" stroke-width=\"1\" x1=\"201.36243905425283\" x2=\"0.0\" y1=\"127.50868882917862\" y2=\"230.131668\" /><line fill=\"#800080\" stroke=\"#add8e6\" stroke-width=\"1\" x1=\"199.71638772112937\" x2=\"0.0\" y1=\"123.36375034848649\" y2=\"130.356678\" /><line fill=\"#800080\" stroke=\"#a020f0\" stroke-width=\"1\" x1=\"210.0\" x2=\"0.0\" y1=\"117.00000000000001\" y2=\"5.366183999999992\" /><line fill=\"#800080\" stroke=\"#a020f0\" stroke-width=\"1\" x1=\"210.0\" x2=\"240.0\" y1=\"117.00000000000001\" y2=\"98.250024\" /><line fill=\"#800080\" stroke=\"#ffa500\" stroke-width=\"1\" x1=\"120.0\" x2=\"199.03402705634483\" y1=\"195.0\" y2=\"103.87569287927845\" /><line fill=\"#800080\" stroke=\"#ffa500\" stroke-width=\"1\" x1=\"120.0\" x2=\"220.02116586933806\" y1=\"195.0\" y2=\"103.14084293258738\" /><polygon fill=\"red\" points=\"204.7305361627287,103.67623360803373 199.19149490206433,108.37293691063414 199.82136628494237,126.36191303605695 205.67534323704578,130.65969779616793 215.2694638372713,130.3237663919663 220.80850509793567,125.62706308936588 220.17863371505763,107.63808696394308 214.32465676295422,103.3403022038321\" stroke=\"red\" stroke-width=\"1\" /><polygon points=\"-3.0,-3.0 0,0 3.0,-3.0 0,3.0\" stroke=\"black\" stroke-width=\"1\" transform=\"translate(210.0,117.00000000000001) rotate(177.9946477170421)\" /><polygon fill=\"black\" points=\"213.30385524640815,108.4791701982271 213.47182094850893,113.27623049833983 206.2762304983398,113.52817905149107 206.108264796239,108.73111875137835\" stroke=\"black\" stroke-width=\"1\" /><circle cx=\"199.03402705634483\" cy=\"103.87569287927845\" fill=\"yellow\" r=\"1.5\" stroke=\"orange\" stroke-width=\"1\" /><circle cx=\"220.02116586933806\" cy=\"103.14084293258738\" fill=\"yellow\" r=\"1.5\" stroke=\"orange\" stroke-width=\"1\" /></svg>"
      }
     },
     "8bfc3b004b1f4757aff348981ee094e4": {
      "model_module": "jupyter-js-widgets",
      "model_module_version": "~2.1.4",
      "model_name": "LayoutModel",
      "state": {
       "_model_module_version": "~2.1.4",
       "_view_module_version": "~2.1.4"
      }
     },
     "8cbbad319d8140adbd2284d7d8ecad0e": {
      "model_module": "jupyter-js-widgets",
      "model_module_version": "~2.1.4",
      "model_name": "LayoutModel",
      "state": {
       "_model_module_version": "~2.1.4",
       "_view_module_version": "~2.1.4"
      }
     },
     "8ccf286bfabd4e2a91146dabb332a332": {
      "model_module": "jupyter-js-widgets",
      "model_module_version": "~2.1.4",
      "model_name": "VBoxModel",
      "state": {
       "_model_module_version": "~2.1.4",
       "_view_module_version": "~2.1.4",
       "children": [
        "IPY_MODEL_7a44778773654e51a2bf6ed5d72f82ed",
        "IPY_MODEL_662a3d4039324b7e84569a2f85045972"
       ],
       "layout": "IPY_MODEL_2f98ec035d9e4d7786a715ef4b4825d8"
      }
     },
     "8da918b8837d4e24811a59e686928660": {
      "model_module": "jupyter-js-widgets",
      "model_module_version": "~2.1.4",
      "model_name": "VBoxModel",
      "state": {
       "_model_module_version": "~2.1.4",
       "_view_module_version": "~2.1.4",
       "children": [
        "IPY_MODEL_fb1cb497965e4d189b44d2331df852f4",
        "IPY_MODEL_6e048dc00eef4bddbef384ff4dd2ffe2"
       ],
       "layout": "IPY_MODEL_e8762a05e047458c9b281eed0d69ded2"
      }
     },
     "8e163851df2a4013ab60f38a96a41951": {
      "model_module": "jupyter-js-widgets",
      "model_module_version": "~2.1.4",
      "model_name": "LayoutModel",
      "state": {
       "_model_module_version": "~2.1.4",
       "_view_module_version": "~2.1.4"
      }
     },
     "8e4fb976b6e5417ca948661900ece938": {
      "model_module": "jupyter-js-widgets",
      "model_module_version": "~2.1.4",
      "model_name": "LayoutModel",
      "state": {
       "_model_module_version": "~2.1.4",
       "_view_module_version": "~2.1.4",
       "height": "248px",
       "padding": "0px 0px 0px 0px",
       "width": "10px"
      }
     },
     "8eab226f306544b3814cdcaa928dc101": {
      "model_module": "jupyter-js-widgets",
      "model_module_version": "~2.1.4",
      "model_name": "FloatSliderModel",
      "state": {
       "_model_module_version": "~2.1.4",
       "_view_module_version": "~2.1.4",
       "layout": "IPY_MODEL_61ef59ca137a4548a5e6c057e6023d82",
       "readout": false,
       "step": 0.1,
       "value": 100
      }
     },
     "8f15813701ca4df78f00b03da731fc0f": {
      "model_module": "jupyter-js-widgets",
      "model_module_version": "~2.1.4",
      "model_name": "LayoutModel",
      "state": {
       "_model_module_version": "~2.1.4",
       "_view_module_version": "~2.1.4"
      }
     },
     "8f3549a48ea24bb885b30b671c7ee6ff": {
      "model_module": "jupyter-js-widgets",
      "model_module_version": "~2.1.4",
      "model_name": "LayoutModel",
      "state": {
       "_model_module_version": "~2.1.4",
       "_view_module_version": "~2.1.4"
      }
     },
     "8f4d5db6f9a54f68ac493c37ab75f19e": {
      "model_module": "jupyter-js-widgets",
      "model_module_version": "~2.1.4",
      "model_name": "ButtonStyleModel",
      "state": {
       "_model_module_version": "~2.1.4",
       "_view_module_version": "~2.1.4"
      }
     },
     "8f8ca7dd5d354671951e282b3cab3fcc": {
      "model_module": "jupyter-js-widgets",
      "model_module_version": "~2.1.4",
      "model_name": "VBoxModel",
      "state": {
       "_model_module_version": "~2.1.4",
       "_view_module_version": "~2.1.4",
       "children": [
        "IPY_MODEL_2e59a109588d4c0dac81dc1feee7f0c0",
        "IPY_MODEL_b68200f601f14ccb87c75cd5bc0ad11b"
       ],
       "layout": "IPY_MODEL_1aee76de874042df85875fe7f685c3a8"
      }
     },
     "8fb7da5f58c34eb89c83dce5cceb7cd0": {
      "model_module": "jupyter-js-widgets",
      "model_module_version": "~2.1.4",
      "model_name": "ButtonStyleModel",
      "state": {
       "_model_module_version": "~2.1.4",
       "_view_module_version": "~2.1.4"
      }
     },
     "8fd2b1f233a1470498461af1fa5e987f": {
      "model_module": "jupyter-js-widgets",
      "model_module_version": "~2.1.4",
      "model_name": "LayoutModel",
      "state": {
       "_model_module_version": "~2.1.4",
       "_view_module_version": "~2.1.4"
      }
     },
     "8ff72e5a091d4b6983fa8abaa5f6faf8": {
      "model_module": "jupyter-js-widgets",
      "model_module_version": "~2.1.4",
      "model_name": "LayoutModel",
      "state": {
       "_model_module_version": "~2.1.4",
       "_view_module_version": "~2.1.4"
      }
     },
     "8ff806c992014fdb9360919f9e859faf": {
      "model_module": "jupyter-js-widgets",
      "model_module_version": "~2.1.4",
      "model_name": "LayoutModel",
      "state": {
       "_model_module_version": "~2.1.4",
       "_view_module_version": "~2.1.4"
      }
     },
     "903a69bb56ed4f39afaa60ed1a799678": {
      "model_module": "jupyter-js-widgets",
      "model_module_version": "~2.1.4",
      "model_name": "FloatSliderModel",
      "state": {
       "_model_module_version": "~2.1.4",
       "_view_module_version": "~2.1.4",
       "layout": "IPY_MODEL_f54c6c4298db4a20a2cafd2bcffca1bd",
       "readout": false,
       "step": 0.1,
       "value": 87.5
      }
     },
     "904d6b300a7e487e943b045b529bcb97": {
      "model_module": "jupyter-js-widgets",
      "model_module_version": "~2.1.4",
      "model_name": "HBoxModel",
      "state": {
       "_model_module_version": "~2.1.4",
       "_view_module_version": "~2.1.4",
       "children": [
        "IPY_MODEL_08f8a484ef8748dbad111b24ddb3675f",
        "IPY_MODEL_bf2c46dcc29c4419bd7ab81c518db5d1"
       ],
       "layout": "IPY_MODEL_28cd9a5c7c0f4fefac9a32a22e3d1926"
      }
     },
     "9070fd111bf947ecb463cee9453e4c3e": {
      "model_module": "jupyter-js-widgets",
      "model_module_version": "~2.1.4",
      "model_name": "LayoutModel",
      "state": {
       "_model_module_version": "~2.1.4",
       "_view_module_version": "~2.1.4"
      }
     },
     "90a4e6814cd6417aaab139d1593f4bac": {
      "model_module": "jupyter-js-widgets",
      "model_module_version": "~2.1.4",
      "model_name": "ButtonStyleModel",
      "state": {
       "_model_module_version": "~2.1.4",
       "_view_module_version": "~2.1.4"
      }
     },
     "90b1d768a2e04de9b6fb8f202f6e09fa": {
      "model_module": "jupyter-js-widgets",
      "model_module_version": "~2.1.4",
      "model_name": "ButtonModel",
      "state": {
       "_model_module_version": "~2.1.4",
       "_view_module_version": "~2.1.4",
       "icon": "step-forward",
       "layout": "IPY_MODEL_7357f81eaf9a47768dd0a72c7840b25e",
       "style": "IPY_MODEL_7941abcbfc6e4e4b82545087c6e0bdfd"
      }
     },
     "90c815e5e19c432c925f8ab003a49c23": {
      "model_module": "jupyter-js-widgets",
      "model_module_version": "~2.1.4",
      "model_name": "VBoxModel",
      "state": {
       "_model_module_version": "~2.1.4",
       "_view_module_version": "~2.1.4",
       "children": [
        "IPY_MODEL_dfdbd653371b4a1696971df73c51f03c",
        "IPY_MODEL_059f46fcf62d432390558136781ada1a"
       ],
       "layout": "IPY_MODEL_3e7d5ad9eec94699b1525fcf68b226e3"
      }
     },
     "90dd5c41ba254bafb0ccfd20174e6a70": {
      "model_module": "jupyter-js-widgets",
      "model_module_version": "~2.1.4",
      "model_name": "LayoutModel",
      "state": {
       "_model_module_version": "~2.1.4",
       "_view_module_version": "~2.1.4"
      }
     },
     "90f97817376e40a59bd7b2107427345d": {
      "model_module": "jupyter-js-widgets",
      "model_module_version": "~2.1.4",
      "model_name": "LayoutModel",
      "state": {
       "_model_module_version": "~2.1.4",
       "_view_module_version": "~2.1.4"
      }
     },
     "90fc3c240f75456b8b67d4fb9e5d2227": {
      "model_module": "jupyter-js-widgets",
      "model_module_version": "~2.1.4",
      "model_name": "HBoxModel",
      "state": {
       "_model_module_version": "~2.1.4",
       "_view_module_version": "~2.1.4",
       "children": [
        "IPY_MODEL_ae697c1f0cc944dc8bcdc3900f6ea540",
        "IPY_MODEL_bd7c5df5fd3442f598c6037ca6f70254"
       ],
       "layout": "IPY_MODEL_a4ba540a135e4da0afffb599ab6af1e3"
      }
     },
     "912f6e457e1143b1aab4ff4c0e5dbe6b": {
      "model_module": "jupyter-js-widgets",
      "model_module_version": "~2.1.4",
      "model_name": "TextModel",
      "state": {
       "_model_module_version": "~2.1.4",
       "_view_module_version": "~2.1.4",
       "description": "Time:",
       "layout": "IPY_MODEL_02cb085c1829470091ddf278a3c3d4f1",
       "value": "1.00 seconds"
      }
     },
     "916947967a144901b203dee433a258f5": {
      "model_module": "jupyter-js-widgets",
      "model_module_version": "~2.1.4",
      "model_name": "LayoutModel",
      "state": {
       "_model_module_version": "~2.1.4",
       "_view_module_version": "~2.1.4",
       "height": "248px",
       "padding": "0px 0px 0px 0px",
       "width": "10px"
      }
     },
     "919d6852f1cd4bc1b1167c61324b27b8": {
      "model_module": "jupyter-js-widgets",
      "model_module_version": "~2.1.4",
      "model_name": "PlayModel",
      "state": {
       "_model_module_version": "~2.1.4",
       "_view_module_version": "~2.1.4",
       "layout": "IPY_MODEL_156f7e169f644bfba5d214277be356bd",
       "max": 1000000,
       "value": 10
      }
     },
     "92016873e9114b3db994f84397629dfc": {
      "model_module": "jupyter-js-widgets",
      "model_module_version": "~2.1.4",
      "model_name": "LayoutModel",
      "state": {
       "_model_module_version": "~2.1.4",
       "_view_module_version": "~2.1.4"
      }
     },
     "9207e017a50349eea8eeeed6b9662103": {
      "model_module": "jupyter-js-widgets",
      "model_module_version": "~2.1.4",
      "model_name": "FloatSliderModel",
      "state": {
       "_model_module_version": "~2.1.4",
       "_view_module_version": "~2.1.4",
       "layout": "IPY_MODEL_d4c507f9a7914fada20fc6c6ac00073d",
       "orientation": "vertical",
       "readout": false,
       "step": 0.1,
       "value": 51.24999999999999
      }
     },
     "920b574f75fe48db9d32e080fe670f99": {
      "model_module": "jupyter-js-widgets",
      "model_module_version": "~2.1.4",
      "model_name": "LayoutModel",
      "state": {
       "_model_module_version": "~2.1.4",
       "_view_module_version": "~2.1.4"
      }
     },
     "92561f19cd884279ba68a860445abab4": {
      "model_module": "jupyter-js-widgets",
      "model_module_version": "~2.1.4",
      "model_name": "LayoutModel",
      "state": {
       "_model_module_version": "~2.1.4",
       "_view_module_version": "~2.1.4"
      }
     },
     "933ac70248df42c2b1fbe38c8d0ce0f3": {
      "model_module": "jupyter-js-widgets",
      "model_module_version": "~2.1.4",
      "model_name": "LayoutModel",
      "state": {
       "_model_module_version": "~2.1.4",
       "_view_module_version": "~2.1.4"
      }
     },
     "9403dd2203db4d99a20ce35f6ffa6118": {
      "model_module": "jupyter-js-widgets",
      "model_module_version": "~2.1.4",
      "model_name": "LayoutModel",
      "state": {
       "_model_module_version": "~2.1.4",
       "_view_module_version": "~2.1.4"
      }
     },
     "940b531c82cb427f8f6e7e1d503db529": {
      "model_module": "jupyter-js-widgets",
      "model_module_version": "~2.1.4",
      "model_name": "LayoutModel",
      "state": {
       "_model_module_version": "~2.1.4",
       "_view_module_version": "~2.1.4"
      }
     },
     "941c7f9e2c8642c0a501fea18c168dc1": {
      "model_module": "jupyter-js-widgets",
      "model_module_version": "~2.1.4",
      "model_name": "LayoutModel",
      "state": {
       "_model_module_version": "~2.1.4",
       "_view_module_version": "~2.1.4"
      }
     },
     "950b97e0cd97485bb475522118d8f187": {
      "model_module": "jupyter-js-widgets",
      "model_module_version": "~2.1.4",
      "model_name": "VBoxModel",
      "state": {
       "_model_module_version": "~2.1.4",
       "_view_module_version": "~2.1.4",
       "children": [
        "IPY_MODEL_770391d89db5409795710fc14145a738",
        "IPY_MODEL_376196577b274af38fa87cce22ee15ee"
       ],
       "layout": "IPY_MODEL_bd56d82e327f438aa9bf426cf8c133b9"
      }
     },
     "952765ec6609496699ef77465dd85a9e": {
      "model_module": "jupyter-js-widgets",
      "model_module_version": "~2.1.4",
      "model_name": "HBoxModel",
      "state": {
       "_model_module_version": "~2.1.4",
       "_view_module_version": "~2.1.4",
       "children": [
        "IPY_MODEL_279d609a245340609c0a55edc5e0f7e7",
        "IPY_MODEL_5d07acbae78a4f6284a939a107ae9b6c"
       ],
       "layout": "IPY_MODEL_44bbe9d065f2468ab78795c57ba0a1e3"
      }
     },
     "953926a6d54344258d3456975927676a": {
      "model_module": "jupyter-js-widgets",
      "model_module_version": "~2.1.4",
      "model_name": "LayoutModel",
      "state": {
       "_model_module_version": "~2.1.4",
       "_view_module_version": "~2.1.4"
      }
     },
     "95962c73b02042ea91aeded57fa4ab76": {
      "model_module": "jupyter-js-widgets",
      "model_module_version": "~2.1.4",
      "model_name": "HBoxModel",
      "state": {
       "_model_module_version": "~2.1.4",
       "_view_module_version": "~2.1.4",
       "children": [
        "IPY_MODEL_821a995f06d145d4a922d8aa592c6449",
        "IPY_MODEL_fa61f4feccc5412b8b365b8d608f8824"
       ],
       "layout": "IPY_MODEL_273162243d2b4ab18af7a5dfd3476427"
      }
     },
     "95d055b3f59042e09f4d15400592e3a6": {
      "model_module": "jupyter-js-widgets",
      "model_module_version": "~2.1.4",
      "model_name": "VBoxModel",
      "state": {
       "_model_module_version": "~2.1.4",
       "_view_module_version": "~2.1.4",
       "children": [
        "IPY_MODEL_3e6e07e8fad44ac885e4348593a26d19",
        "IPY_MODEL_b5af13546d1041149b83ac645e648ecd"
       ],
       "layout": "IPY_MODEL_63c4e20ba19d46db9e02a0d27d1cac07"
      }
     },
     "95d4d3123fdb46cb8f5062b85593c82f": {
      "model_module": "jupyter-js-widgets",
      "model_module_version": "~2.1.4",
      "model_name": "VBoxModel",
      "state": {
       "_model_module_version": "~2.1.4",
       "_view_module_version": "~2.1.4",
       "children": [
        "IPY_MODEL_ceaafcaeb7db4519b93c4fed397f1991",
        "IPY_MODEL_c9e1686dd89443198e5cb8129d6a7449"
       ],
       "layout": "IPY_MODEL_43bfb7d2965f4ebd9bb14c6fd9ea8bb0"
      }
     },
     "9601dafbe9fd45b68db2929a2961a7a6": {
      "model_module": "jupyter-js-widgets",
      "model_module_version": "~2.1.4",
      "model_name": "VBoxModel",
      "state": {
       "_model_module_version": "~2.1.4",
       "_view_module_version": "~2.1.4",
       "children": [
        "IPY_MODEL_ec06e12587764c9eafd9cadab635242c",
        "IPY_MODEL_9a2cf415922847e4b1b2fe9153b3991d"
       ],
       "layout": "IPY_MODEL_9c0828977b50494381d4b0a4b8d35e7b"
      }
     },
     "960d6082ee8b4cf48e6f4230854d32e4": {
      "model_module": "jupyter-js-widgets",
      "model_module_version": "~2.1.4",
      "model_name": "HBoxModel",
      "state": {
       "_model_module_version": "~2.1.4",
       "_view_module_version": "~2.1.4",
       "children": [
        "IPY_MODEL_db8d5725451d45609abbdba569801a65",
        "IPY_MODEL_6631c2554ed049a5b5b96aa7eb154b81",
        "IPY_MODEL_660c90cec0654a36a4ae4fb8bd00d5b1"
       ],
       "layout": "IPY_MODEL_2646cceb57664c0dac6f4246e025e1b5"
      }
     },
     "960e7efc06cf49a3ba2eef531be5b268": {
      "model_module": "jupyter-js-widgets",
      "model_module_version": "~2.1.4",
      "model_name": "VBoxModel",
      "state": {
       "_model_module_version": "~2.1.4",
       "_view_module_version": "~2.1.4",
       "children": [
        "IPY_MODEL_904d6b300a7e487e943b045b529bcb97",
        "IPY_MODEL_646c7d903f77404b8d6e8c85b7e52a7a"
       ],
       "layout": "IPY_MODEL_47502a5240c74ba3adac1a9919281cec"
      }
     },
     "96304802e8c543b5b432039ef60cca0a": {
      "model_module": "jupyter-js-widgets",
      "model_module_version": "~2.1.4",
      "model_name": "LayoutModel",
      "state": {
       "_model_module_version": "~2.1.4",
       "_view_module_version": "~2.1.4"
      }
     },
     "9634a5f369994bcf8cd6aaea4a35c91d": {
      "model_module": "jupyter-js-widgets",
      "model_module_version": "~2.1.4",
      "model_name": "LayoutModel",
      "state": {
       "_model_module_version": "~2.1.4",
       "_view_module_version": "~2.1.4"
      }
     },
     "965c3ee86116497097ac94a666ae3092": {
      "model_module": "jupyter-js-widgets",
      "model_module_version": "~2.1.4",
      "model_name": "LayoutModel",
      "state": {
       "_model_module_version": "~2.1.4",
       "_view_module_version": "~2.1.4"
      }
     },
     "969c1d13dd9942feaff1e0a492f91b71": {
      "model_module": "jupyter-js-widgets",
      "model_module_version": "~2.1.4",
      "model_name": "HBoxModel",
      "state": {
       "_model_module_version": "~2.1.4",
       "_view_module_version": "~2.1.4",
       "children": [
        "IPY_MODEL_9601dafbe9fd45b68db2929a2961a7a6",
        "IPY_MODEL_0bff934449ef4953b4557adb0a24f710"
       ],
       "layout": "IPY_MODEL_13bd1be6471748f1bd6b0d254226d9b9"
      }
     },
     "971ee453498b4dcfaaee1503aab288ff": {
      "model_module": "jupyter-js-widgets",
      "model_module_version": "~2.1.4",
      "model_name": "FloatSliderModel",
      "state": {
       "_model_module_version": "~2.1.4",
       "_view_module_version": "~2.1.4",
       "layout": "IPY_MODEL_654fc209a43e492088069c9ad7b0ba9b",
       "readout": false,
       "step": 0.1,
       "value": 100
      }
     },
     "9732191e3df0488494cd6157537b08ee": {
      "model_module": "jupyter-js-widgets",
      "model_module_version": "~2.1.4",
      "model_name": "TextModel",
      "state": {
       "_model_module_version": "~2.1.4",
       "_view_module_version": "~2.1.4",
       "description": "Time:",
       "layout": "IPY_MODEL_612518ab4e344568ad45e7027907005d",
       "value": "0.00 seconds"
      }
     },
     "9783033639954d788c43605a427d2a46": {
      "model_module": "jupyter-js-widgets",
      "model_module_version": "~2.1.4",
      "model_name": "ButtonStyleModel",
      "state": {
       "_model_module_version": "~2.1.4",
       "_view_module_version": "~2.1.4"
      }
     },
     "97a6502721744e5fa9b05a304fbf36aa": {
      "model_module": "jupyter-js-widgets",
      "model_module_version": "~2.1.4",
      "model_name": "VBoxModel",
      "state": {
       "_model_module_version": "~2.1.4",
       "_view_module_version": "~2.1.4",
       "children": [
        "IPY_MODEL_df0494b7461c462ebbec0c8f0a30bd71",
        "IPY_MODEL_351b6c78396b42a9b42af926fe637f7f"
       ],
       "layout": "IPY_MODEL_430191a682e743c4b191df559a6224d9"
      }
     },
     "97eae871bb95499598ad95cc504142cf": {
      "model_module": "jupyter-js-widgets",
      "model_module_version": "~2.1.4",
      "model_name": "LayoutModel",
      "state": {
       "_model_module_version": "~2.1.4",
       "_view_module_version": "~2.1.4"
      }
     },
     "98029847476f4560a55e125b5613de9d": {
      "model_module": "jupyter-js-widgets",
      "model_module_version": "~2.1.4",
      "model_name": "VBoxModel",
      "state": {
       "_model_module_version": "~2.1.4",
       "_view_module_version": "~2.1.4",
       "children": [
        "IPY_MODEL_13cd29f07da54ab9accadfdde019135a",
        "IPY_MODEL_14a3207b66d0484a86a8a0aeafda27c4",
        "IPY_MODEL_2cd21c94bba7463e9b6176e233c12365"
       ],
       "layout": "IPY_MODEL_6c2b84c9d85e42e083fc64272af71131"
      }
     },
     "988404e8eb3c405a879ee0cc74ccbfb7": {
      "model_module": "jupyter-js-widgets",
      "model_module_version": "~2.1.4",
      "model_name": "ButtonModel",
      "state": {
       "_model_module_version": "~2.1.4",
       "_view_module_version": "~2.1.4",
       "icon": "step-forward",
       "layout": "IPY_MODEL_234f334b95fb4166aa20cf921bf2fee6",
       "style": "IPY_MODEL_7d9c2a0895314c809d2b00e68723a34f"
      }
     },
     "98e7e856478942b1a468d38d8c0dfdbb": {
      "model_module": "jupyter-js-widgets",
      "model_module_version": "~2.1.4",
      "model_name": "LayoutModel",
      "state": {
       "_model_module_version": "~2.1.4",
       "_view_module_version": "~2.1.4"
      }
     },
     "99013a451f7b43bca54fa4c711360f38": {
      "model_module": "jupyter-js-widgets",
      "model_module_version": "~2.1.4",
      "model_name": "LayoutModel",
      "state": {
       "_model_module_version": "~2.1.4",
       "_view_module_version": "~2.1.4"
      }
     },
     "9916788d52434d91a9387830646e366a": {
      "model_module": "jupyter-js-widgets",
      "model_module_version": "~2.1.4",
      "model_name": "LayoutModel",
      "state": {
       "_model_module_version": "~2.1.4",
       "_view_module_version": "~2.1.4"
      }
     },
     "99202041f41d42b88334ff11ecac93ed": {
      "model_module": "jupyter-js-widgets",
      "model_module_version": "~2.1.4",
      "model_name": "LayoutModel",
      "state": {
       "_model_module_version": "~2.1.4",
       "_view_module_version": "~2.1.4"
      }
     },
     "9946cc5c4580443daa9b0a613c99e24c": {
      "model_module": "jupyter-js-widgets",
      "model_module_version": "~2.1.4",
      "model_name": "LayoutModel",
      "state": {
       "_model_module_version": "~2.1.4",
       "_view_module_version": "~2.1.4"
      }
     },
     "99604a8540c746d6993798ca63b79bb0": {
      "model_module": "jupyter-js-widgets",
      "model_module_version": "~2.1.4",
      "model_name": "HBoxModel",
      "state": {
       "_model_module_version": "~2.1.4",
       "_view_module_version": "~2.1.4",
       "children": [
        "IPY_MODEL_d8de41906f074d9d85208101289ff71f",
        "IPY_MODEL_8688b35a043c4e1fbffb3ce2e24cbe8f"
       ],
       "layout": "IPY_MODEL_6e4a1235bc3f4d43a8ed395793c162e5"
      }
     },
     "999474e1fa3548deab00a77850e912c6": {
      "model_module": "jupyter-js-widgets",
      "model_module_version": "~2.1.4",
      "model_name": "ButtonModel",
      "state": {
       "_model_module_version": "~2.1.4",
       "_view_module_version": "~2.1.4",
       "description": "Clear",
       "layout": "IPY_MODEL_60f072423f8a4c7da4c1e55cf4fbdc5c",
       "style": "IPY_MODEL_429a72e1120a46beb408141706cd5cd7"
      }
     },
     "99cb6d1c61f3468abed6e633e2f6887a": {
      "model_module": "jupyter-js-widgets",
      "model_module_version": "~2.1.4",
      "model_name": "ButtonModel",
      "state": {
       "_model_module_version": "~2.1.4",
       "_view_module_version": "~2.1.4",
       "icon": "step-forward",
       "layout": "IPY_MODEL_c9c62fea857240fc9585a4edc9f56897",
       "style": "IPY_MODEL_3a10e72751fa4c52b054b8e27577d4ec"
      }
     },
     "99f8fdd573fe48b493d81ccce091a040": {
      "model_module": "jupyter-js-widgets",
      "model_module_version": "~2.1.4",
      "model_name": "CheckboxModel",
      "state": {
       "_model_module_version": "~2.1.4",
       "_view_module_version": "~2.1.4",
       "description": "Update GUI",
       "disabled": false,
       "layout": "IPY_MODEL_3c5987c4cd1448c2951ad620cab4a830",
       "value": true
      }
     },
     "9a0ade31df09475aa499712ce974bc51": {
      "model_module": "jupyter-js-widgets",
      "model_module_version": "~2.1.4",
      "model_name": "LayoutModel",
      "state": {
       "_model_module_version": "~2.1.4",
       "_view_module_version": "~2.1.4"
      }
     },
     "9a2cf415922847e4b1b2fe9153b3991d": {
      "model_module": "jupyter-js-widgets",
      "model_module_version": "~2.1.4",
      "model_name": "FloatSliderModel",
      "state": {
       "_model_module_version": "~2.1.4",
       "_view_module_version": "~2.1.4",
       "layout": "IPY_MODEL_736ff88e980e4459aca55f48140a6a06",
       "readout": false,
       "step": 0.1,
       "value": 87.5
      }
     },
     "9a44d5b4f57c4d9e8fe17a9275161326": {
      "model_module": "jupyter-js-widgets",
      "model_module_version": "~2.1.4",
      "model_name": "LayoutModel",
      "state": {
       "_model_module_version": "~2.1.4",
       "_view_module_version": "~2.1.4"
      }
     },
     "9a5487cab37f47e8be8c34472b117b76": {
      "model_module": "jupyter-js-widgets",
      "model_module_version": "~2.1.4",
      "model_name": "HBoxModel",
      "state": {
       "_model_module_version": "~2.1.4",
       "_view_module_version": "~2.1.4",
       "children": [
        "IPY_MODEL_a98f35909c2f4a6cb68efb7f40ceb072",
        "IPY_MODEL_6e0fcf9e88994654a27c9110b56eb8e3"
       ],
       "layout": "IPY_MODEL_547d5b497afd48da94f791d87ee66164"
      }
     },
     "9b398458d88b4fa7b9faee63d0c8a232": {
      "model_module": "jupyter-js-widgets",
      "model_module_version": "~2.1.4",
      "model_name": "LayoutModel",
      "state": {
       "_model_module_version": "~2.1.4",
       "_view_module_version": "~2.1.4",
       "height": "248px",
       "padding": "0px 0px 0px 0px",
       "width": "10px"
      }
     },
     "9b7b328b7f8e4bd69a067e93eec43eec": {
      "model_module": "jupyter-js-widgets",
      "model_module_version": "~2.1.4",
      "model_name": "LayoutModel",
      "state": {
       "_model_module_version": "~2.1.4",
       "_view_module_version": "~2.1.4"
      }
     },
     "9bd213be35b444f68835b9d73dcf4486": {
      "model_module": "jupyter-js-widgets",
      "model_module_version": "~2.1.4",
      "model_name": "LayoutModel",
      "state": {
       "_model_module_version": "~2.1.4",
       "_view_module_version": "~2.1.4"
      }
     },
     "9c0828977b50494381d4b0a4b8d35e7b": {
      "model_module": "jupyter-js-widgets",
      "model_module_version": "~2.1.4",
      "model_name": "LayoutModel",
      "state": {
       "_model_module_version": "~2.1.4",
       "_view_module_version": "~2.1.4"
      }
     },
     "9c5ad5c1d748477582277f618164437c": {
      "model_module": "jupyter-js-widgets",
      "model_module_version": "~2.1.4",
      "model_name": "LayoutModel",
      "state": {
       "_model_module_version": "~2.1.4",
       "_view_module_version": "~2.1.4"
      }
     },
     "9cb411591472455d83b96e5285b26a3a": {
      "model_module": "jupyter-js-widgets",
      "model_module_version": "~2.1.4",
      "model_name": "LayoutModel",
      "state": {
       "_model_module_version": "~2.1.4",
       "_view_module_version": "~2.1.4"
      }
     },
     "9d0aad16b6fc4717b84e07d5f0b07189": {
      "model_module": "jupyter-js-widgets",
      "model_module_version": "~2.1.4",
      "model_name": "HBoxModel",
      "state": {
       "_model_module_version": "~2.1.4",
       "_view_module_version": "~2.1.4",
       "children": [
        "IPY_MODEL_4bbfe499be9e49a59aba506a3a2af245",
        "IPY_MODEL_720105d40f374dafa966eed97ad4073b"
       ],
       "layout": "IPY_MODEL_a8a90c757bfc4e688c23ae9d4968559c"
      }
     },
     "9d1ed2a61e60490ab463b408a74f2258": {
      "model_module": "jupyter-js-widgets",
      "model_module_version": "~2.1.4",
      "model_name": "FloatSliderModel",
      "state": {
       "_model_module_version": "~2.1.4",
       "_view_module_version": "~2.1.4",
       "layout": "IPY_MODEL_681bdc49070943519a9d641a4036952a",
       "readout": false,
       "step": 0.1,
       "value": 99.44295769917836
      }
     },
     "9d333bcfedad4484bf64ca987d40a6d7": {
      "model_module": "jupyter-js-widgets",
      "model_module_version": "~2.1.4",
      "model_name": "LayoutModel",
      "state": {
       "_model_module_version": "~2.1.4",
       "_view_module_version": "~2.1.4"
      }
     },
     "9d378c33cf2b4ba9a352718192df3aed": {
      "model_module": "jupyter-js-widgets",
      "model_module_version": "~2.1.4",
      "model_name": "FloatSliderModel",
      "state": {
       "_model_module_version": "~2.1.4",
       "_view_module_version": "~2.1.4",
       "layout": "IPY_MODEL_8b0db248b86145c8aefc41ef13f6daf1",
       "orientation": "vertical",
       "readout": false,
       "step": 0.1,
       "value": 51.24999999999999
      }
     },
     "9d691ec2424a4a9d95e3295d1b32e5bb": {
      "model_module": "jupyter-js-widgets",
      "model_module_version": "~2.1.4",
      "model_name": "VBoxModel",
      "state": {
       "_model_module_version": "~2.1.4",
       "_view_module_version": "~2.1.4",
       "children": [
        "IPY_MODEL_79bda36ccf2141fcba93ca631791b7af",
        "IPY_MODEL_b39a39ba93fc444b8d5774b80f92f3c2",
        "IPY_MODEL_c3e4fed027a64e1c8f5cf97a66eb50a0"
       ],
       "layout": "IPY_MODEL_b65c5baf626b49c8a9e6d47427070451"
      }
     },
     "9e09425c07bf48299762803b282e0e7b": {
      "model_module": "jupyter-js-widgets",
      "model_module_version": "~2.1.4",
      "model_name": "LayoutModel",
      "state": {
       "_model_module_version": "~2.1.4",
       "_view_module_version": "~2.1.4"
      }
     },
     "9e11ed6488e94b8f9f75846c67fbfade": {
      "model_module": "jupyter-js-widgets",
      "model_module_version": "~2.1.4",
      "model_name": "HTMLModel",
      "state": {
       "_model_module_version": "~2.1.4",
       "_view_module_version": "~2.1.4",
       "layout": "IPY_MODEL_54c0f56071a643739a0121ffb26f7257",
       "value": "<svg baseProfile=\"full\" height=\"240\" version=\"1.1\" width=\"240\" xmlns=\"http://www.w3.org/2000/svg\" xmlns:ev=\"http://www.w3.org/2001/xml-events\" xmlns:xlink=\"http://www.w3.org/1999/xlink\"><defs /><rect fill=\"white\" height=\"240\" stroke=\"#000000\" stroke-width=\"1\" width=\"240\" x=\"0\" y=\"0\" /><rect fill=\"#eef3dd\" height=\"240.0\" stroke=\"#bebebe\" stroke-width=\"1\" width=\"240.0\" x=\"0.0\" y=\"0.0\" /><circle cx=\"120.0\" cy=\"195.0\" fill=\"#ffff00\" r=\"15.0\" stroke=\"#ffff00\" stroke-width=\"1\" /><line fill=\"#800080\" stroke=\"#add8e6\" stroke-width=\"1\" x1=\"199.5\" x2=\"0.0\" y1=\"114.0\" y2=\"114.0\" /><line fill=\"#800080\" stroke=\"#add8e6\" stroke-width=\"1\" x1=\"201.0\" x2=\"0.0\" y1=\"109.80000000000001\" y2=\"16.07215199999999\" /><line fill=\"#800080\" stroke=\"#add8e6\" stroke-width=\"1\" x1=\"203.4\" x2=\"112.77724019461742\" y1=\"107.99999999999999\" y2=\"0.0\" /><line fill=\"#800080\" stroke=\"#add8e6\" stroke-width=\"1\" x1=\"207.0\" x2=\"178.4634099424212\" y1=\"106.5\" y2=\"0.0\" /><line fill=\"#800080\" stroke=\"#add8e6\" stroke-width=\"1\" x1=\"213.0\" x2=\"240.0\" y1=\"106.5\" y2=\"5.734632000000062\" /><line fill=\"#800080\" stroke=\"#add8e6\" stroke-width=\"1\" x1=\"216.6\" x2=\"240.0\" y1=\"107.99999999999999\" y2=\"80.11296600000001\" /><line fill=\"#800080\" stroke=\"#add8e6\" stroke-width=\"1\" x1=\"219.0\" x2=\"240.0\" y1=\"109.80000000000001\" y2=\"100.007538\" /><line fill=\"#800080\" stroke=\"#add8e6\" stroke-width=\"1\" x1=\"220.5\" x2=\"240.0\" y1=\"114.0\" y2=\"114.0\" /><line fill=\"#800080\" stroke=\"#add8e6\" stroke-width=\"1\" x1=\"220.5\" x2=\"240.0\" y1=\"126.0\" y2=\"126.0\" /><line fill=\"#800080\" stroke=\"#add8e6\" stroke-width=\"1\" x1=\"219.0\" x2=\"240.0\" y1=\"130.2\" y2=\"139.992462\" /><line fill=\"#800080\" stroke=\"#add8e6\" stroke-width=\"1\" x1=\"216.6\" x2=\"240.0\" y1=\"132.0\" y2=\"159.88703399999997\" /><line fill=\"#800080\" stroke=\"#add8e6\" stroke-width=\"1\" x1=\"213.0\" x2=\"240.0\" y1=\"133.5\" y2=\"234.26536799999994\" /><line fill=\"#800080\" stroke=\"#add8e6\" stroke-width=\"1\" x1=\"207.0\" x2=\"178.4634099424212\" y1=\"133.5\" y2=\"240.0\" /><line fill=\"#800080\" stroke=\"#add8e6\" stroke-width=\"1\" x1=\"203.4\" x2=\"112.7772401946174\" y1=\"132.0\" y2=\"240.0\" /><line fill=\"#800080\" stroke=\"#add8e6\" stroke-width=\"1\" x1=\"201.0\" x2=\"0.0\" y1=\"130.2\" y2=\"223.927848\" /><line fill=\"#800080\" stroke=\"#add8e6\" stroke-width=\"1\" x1=\"199.5\" x2=\"0.0\" y1=\"126.0\" y2=\"126.0\" /><line fill=\"#800080\" stroke=\"#a020f0\" stroke-width=\"1\" x1=\"210.0\" x2=\"2.1539193796210117\" y1=\"120.0\" y2=\"0.0\" /><line fill=\"#800080\" stroke=\"#a020f0\" stroke-width=\"1\" x1=\"210.0\" x2=\"240.0\" y1=\"120.0\" y2=\"102.67948799999999\" /><line fill=\"#800080\" stroke=\"#ffa500\" stroke-width=\"1\" x1=\"120.0\" x2=\"199.5\" y1=\"195.0\" y2=\"106.5\" /><line fill=\"#800080\" stroke=\"#ffa500\" stroke-width=\"1\" x1=\"120.0\" x2=\"220.5\" y1=\"195.0\" y2=\"106.5\" /><polygon fill=\"red\" points=\"205.2,106.5 199.5,111.0 199.5,129.0 205.2,133.5 214.8,133.5 220.5,129.0 220.5,111.0 214.8,106.5\" stroke=\"red\" stroke-width=\"1\" /><polygon points=\"-3.0,-3.0 0,0 3.0,-3.0 0,3.0\" stroke=\"black\" stroke-width=\"1\" transform=\"translate(210.0,120.0) rotate(180.0)\" /><polygon fill=\"black\" points=\"213.6,111.6 213.6,116.39999999999999 206.4,116.39999999999999 206.4,111.6\" stroke=\"black\" stroke-width=\"1\" /><circle cx=\"199.5\" cy=\"106.5\" fill=\"yellow\" r=\"1.5\" stroke=\"orange\" stroke-width=\"1\" /><circle cx=\"220.5\" cy=\"106.5\" fill=\"yellow\" r=\"1.5\" stroke=\"orange\" stroke-width=\"1\" /></svg>"
      }
     },
     "9e2ee348067540e0a964a87d5375e970": {
      "model_module": "jupyter-js-widgets",
      "model_module_version": "~2.1.4",
      "model_name": "FloatSliderModel",
      "state": {
       "_model_module_version": "~2.1.4",
       "_view_module_version": "~2.1.4",
       "layout": "IPY_MODEL_07157949cb784db5ba5a45781f5dccc3",
       "readout": false,
       "step": 0.1,
       "value": 87.5
      }
     },
     "9e382936a76b44249b0212cd318bde0b": {
      "model_module": "jupyter-js-widgets",
      "model_module_version": "~2.1.4",
      "model_name": "LayoutModel",
      "state": {
       "_model_module_version": "~2.1.4",
       "_view_module_version": "~2.1.4"
      }
     },
     "9e86d4194216406a9953e8a97d835e2d": {
      "model_module": "jupyter-js-widgets",
      "model_module_version": "~2.1.4",
      "model_name": "LayoutModel",
      "state": {
       "_model_module_version": "~2.1.4",
       "_view_module_version": "~2.1.4",
       "height": "248px",
       "padding": "0px 0px 0px 0px",
       "width": "10px"
      }
     },
     "9effdabb43be427eb3773f083306815c": {
      "model_module": "jupyter-js-widgets",
      "model_module_version": "~2.1.4",
      "model_name": "OutputModel",
      "state": {
       "_dom_classes": [],
       "_model_module": "jupyter-js-widgets",
       "_model_module_version": "~2.1.4",
       "_view_module": "jupyter-js-widgets",
       "_view_module_version": "~2.1.4",
       "layout": "IPY_MODEL_15cd770267074c0aa8ffcfbed76d72b0",
       "msg_throttle": 1
      }
     },
     "9f0db7b854184a55b4407d7d2e813f0f": {
      "model_module": "jupyter-js-widgets",
      "model_module_version": "~2.1.4",
      "model_name": "LayoutModel",
      "state": {
       "_model_module_version": "~2.1.4",
       "_view_module_version": "~2.1.4"
      }
     },
     "9f99c0ca5bc24945b4124969acbec3bd": {
      "model_module": "jupyter-js-widgets",
      "model_module_version": "~2.1.4",
      "model_name": "PlayModel",
      "state": {
       "_model_module_version": "~2.1.4",
       "_view_module_version": "~2.1.4",
       "layout": "IPY_MODEL_ffcc8933309e418eabefe6dabbb0467e",
       "max": 1000000
      }
     },
     "9fb3f01c9f664313adb27a22e9ba3c9d": {
      "model_module": "jupyter-js-widgets",
      "model_module_version": "~2.1.4",
      "model_name": "LayoutModel",
      "state": {
       "_model_module_version": "~2.1.4",
       "_view_module_version": "~2.1.4",
       "height": "30px",
       "padding": "0px 0px 0px 10px",
       "width": "260px"
      }
     },
     "9fb42672d0f044e0aca24029c79dbe69": {
      "model_module": "jupyter-js-widgets",
      "model_module_version": "~2.1.4",
      "model_name": "LayoutModel",
      "state": {
       "_model_module_version": "~2.1.4",
       "_view_module_version": "~2.1.4",
       "height": "30px",
       "padding": "0px 0px 0px 10px",
       "width": "260px"
      }
     },
     "9fb85d0e098446c4bb468aba62c3ffcf": {
      "model_module": "jupyter-js-widgets",
      "model_module_version": "~2.1.4",
      "model_name": "LayoutModel",
      "state": {
       "_model_module_version": "~2.1.4",
       "_view_module_version": "~2.1.4"
      }
     },
     "9fc2c526f77d457ca42010eff304e8ef": {
      "model_module": "jupyter-js-widgets",
      "model_module_version": "~2.1.4",
      "model_name": "HBoxModel",
      "state": {
       "_model_module_version": "~2.1.4",
       "_view_module_version": "~2.1.4",
       "children": [
        "IPY_MODEL_4c22109742f64cb9b5e80d111557ce71",
        "IPY_MODEL_254c974e6f3447349094a0bb963a6869"
       ],
       "layout": "IPY_MODEL_7e3924621c5043978393654219658507"
      }
     },
     "9fd65d9d22da4fe780c8ef61e3fc0e2d": {
      "model_module": "jupyter-js-widgets",
      "model_module_version": "~2.1.4",
      "model_name": "LayoutModel",
      "state": {
       "_model_module_version": "~2.1.4",
       "_view_module_version": "~2.1.4"
      }
     },
     "a0030981199f450aa4ae2968e2efa4b8": {
      "model_module": "jupyter-js-widgets",
      "model_module_version": "~2.1.4",
      "model_name": "LayoutModel",
      "state": {
       "_model_module_version": "~2.1.4",
       "_view_module_version": "~2.1.4",
       "height": "30px",
       "padding": "0px 0px 0px 10px",
       "width": "260px"
      }
     },
     "a05eb30c23e9402081f87bb67fc031f6": {
      "model_module": "jupyter-js-widgets",
      "model_module_version": "~2.1.4",
      "model_name": "LayoutModel",
      "state": {
       "_model_module_version": "~2.1.4",
       "_view_module_version": "~2.1.4"
      }
     },
     "a09424106cf94f288a3e8f3ed4c189d9": {
      "model_module": "jupyter-js-widgets",
      "model_module_version": "~2.1.4",
      "model_name": "LayoutModel",
      "state": {
       "_model_module_version": "~2.1.4",
       "_view_module_version": "~2.1.4"
      }
     },
     "a0bae851fc69403fbbdc319654302226": {
      "model_module": "jupyter-js-widgets",
      "model_module_version": "~2.1.4",
      "model_name": "TextModel",
      "state": {
       "_model_module_version": "~2.1.4",
       "_view_module_version": "~2.1.4",
       "description": "Time:",
       "layout": "IPY_MODEL_dab945a0ad9f412483179834ea8cbaa4",
       "value": "40.90 seconds"
      }
     },
     "a0e9d2a41d164e488c36aa8174ff8d03": {
      "model_module": "jupyter-js-widgets",
      "model_module_version": "~2.1.4",
      "model_name": "LayoutModel",
      "state": {
       "_model_module_version": "~2.1.4",
       "_view_module_version": "~2.1.4"
      }
     },
     "a1201191c4eb4948bad6cd6a063cdb87": {
      "model_module": "jupyter-js-widgets",
      "model_module_version": "~2.1.4",
      "model_name": "ButtonStyleModel",
      "state": {
       "_model_module_version": "~2.1.4",
       "_view_module_version": "~2.1.4"
      }
     },
     "a1c7349d34f448cb84c5ebee92ff0fb1": {
      "model_module": "jupyter-js-widgets",
      "model_module_version": "~2.1.4",
      "model_name": "LayoutModel",
      "state": {
       "_model_module_version": "~2.1.4",
       "_view_module_version": "~2.1.4"
      }
     },
     "a1df490164b64662b143abb9c4bb4d74": {
      "model_module": "jupyter-js-widgets",
      "model_module_version": "~2.1.4",
      "model_name": "TextModel",
      "state": {
       "_model_module_version": "~2.1.4",
       "_view_module_version": "~2.1.4",
       "description": "Time:",
       "layout": "IPY_MODEL_35d7b95fdd1d46dea0456caca3a94be2",
       "value": "0.00 seconds"
      }
     },
     "a290d5f7e98d49cf990f64ebe44e5325": {
      "model_module": "jupyter-js-widgets",
      "model_module_version": "~2.1.4",
      "model_name": "LayoutModel",
      "state": {
       "_model_module_version": "~2.1.4",
       "_view_module_version": "~2.1.4"
      }
     },
     "a31f8ecb7247488eb5fa3d05f2670880": {
      "model_module": "jupyter-js-widgets",
      "model_module_version": "~2.1.4",
      "model_name": "LayoutModel",
      "state": {
       "_model_module_version": "~2.1.4",
       "_view_module_version": "~2.1.4"
      }
     },
     "a31ff82e19c346feaccab0821eaa7588": {
      "model_module": "jupyter-js-widgets",
      "model_module_version": "~2.1.4",
      "model_name": "ButtonStyleModel",
      "state": {
       "_model_module_version": "~2.1.4",
       "_view_module_version": "~2.1.4"
      }
     },
     "a339946c56ee42a695222301dbc28a3d": {
      "model_module": "jupyter-js-widgets",
      "model_module_version": "~2.1.4",
      "model_name": "LayoutModel",
      "state": {
       "_model_module_version": "~2.1.4",
       "_view_module_version": "~2.1.4"
      }
     },
     "a38b6ff81a5d4f7cb53b0c2d439c6b74": {
      "model_module": "jupyter-js-widgets",
      "model_module_version": "~2.1.4",
      "model_name": "VBoxModel",
      "state": {
       "_model_module_version": "~2.1.4",
       "_view_module_version": "~2.1.4",
       "children": [
        "IPY_MODEL_5d5c57c582a34cc684612e7b12c0c6df",
        "IPY_MODEL_d92ebaf86b5a4771a3ec5a7c86ebfd1d"
       ],
       "layout": "IPY_MODEL_bc52becc5330492597ec5482a5f5ce88"
      }
     },
     "a409c0ba72634ba2948b3166377796f4": {
      "model_module": "jupyter-js-widgets",
      "model_module_version": "~2.1.4",
      "model_name": "LayoutModel",
      "state": {
       "_model_module_version": "~2.1.4",
       "_view_module_version": "~2.1.4"
      }
     },
     "a4418c286d924003ba89e81fbd2ae18d": {
      "model_module": "jupyter-js-widgets",
      "model_module_version": "~2.1.4",
      "model_name": "FloatSliderModel",
      "state": {
       "_model_module_version": "~2.1.4",
       "_view_module_version": "~2.1.4",
       "layout": "IPY_MODEL_0b575746944f44bdbdc890d5f6292c76",
       "orientation": "vertical",
       "readout": false,
       "step": 0.1,
       "value": 51.24999999999999
      }
     },
     "a449dc4fc96a461b8afeb854b3ed18f5": {
      "model_module": "jupyter-js-widgets",
      "model_module_version": "~2.1.4",
      "model_name": "TextModel",
      "state": {
       "_model_module_version": "~2.1.4",
       "_view_module_version": "~2.1.4",
       "description": "Time:",
       "layout": "IPY_MODEL_0b39bc6390c84e1a838a5d3bbbbede58",
       "value": "0.0 seconds"
      }
     },
     "a47d5192fc8c446991795ec29dee488c": {
      "model_module": "jupyter-js-widgets",
      "model_module_version": "~2.1.4",
      "model_name": "ButtonStyleModel",
      "state": {
       "_model_module_version": "~2.1.4",
       "_view_module_version": "~2.1.4"
      }
     },
     "a490c693797642abb5052cf55a2eaddf": {
      "model_module": "jupyter-js-widgets",
      "model_module_version": "~2.1.4",
      "model_name": "LayoutModel",
      "state": {
       "_model_module_version": "~2.1.4",
       "_view_module_version": "~2.1.4"
      }
     },
     "a4ba540a135e4da0afffb599ab6af1e3": {
      "model_module": "jupyter-js-widgets",
      "model_module_version": "~2.1.4",
      "model_name": "LayoutModel",
      "state": {
       "_model_module_version": "~2.1.4",
       "_view_module_version": "~2.1.4"
      }
     },
     "a56282676d6d4f49a2f75d8351396314": {
      "model_module": "jupyter-js-widgets",
      "model_module_version": "~2.1.4",
      "model_name": "PlayModel",
      "state": {
       "_model_module_version": "~2.1.4",
       "_view_module_version": "~2.1.4",
       "layout": "IPY_MODEL_ca5b299a5bbd4bfbb1e96a5a6606359a",
       "max": 1000000
      }
     },
     "a5a0b53ddfd147cc95b3ba1280882c0a": {
      "model_module": "jupyter-js-widgets",
      "model_module_version": "~2.1.4",
      "model_name": "LayoutModel",
      "state": {
       "_model_module_version": "~2.1.4",
       "_view_module_version": "~2.1.4"
      }
     },
     "a5ab004f98ce445b8bb203f9734402a5": {
      "model_module": "jupyter-js-widgets",
      "model_module_version": "~2.1.4",
      "model_name": "LayoutModel",
      "state": {
       "_model_module_version": "~2.1.4",
       "_view_module_version": "~2.1.4"
      }
     },
     "a5d17becb06947af9d0035d7c44c9190": {
      "model_module": "jupyter-js-widgets",
      "model_module_version": "~2.1.4",
      "model_name": "LayoutModel",
      "state": {
       "_model_module_version": "~2.1.4",
       "_view_module_version": "~2.1.4",
       "height": "30px",
       "padding": "0px 0px 0px 10px",
       "width": "260px"
      }
     },
     "a5ec12963ed2427fab6408e6724e3945": {
      "model_module": "jupyter-js-widgets",
      "model_module_version": "~2.1.4",
      "model_name": "LayoutModel",
      "state": {
       "_model_module_version": "~2.1.4",
       "_view_module_version": "~2.1.4"
      }
     },
     "a5f1825131de495ba7d75ee58b233b43": {
      "model_module": "jupyter-js-widgets",
      "model_module_version": "~2.1.4",
      "model_name": "ButtonStyleModel",
      "state": {
       "_model_module_version": "~2.1.4",
       "_view_module_version": "~2.1.4"
      }
     },
     "a62be6d8aeea47e8a0c04599c39008a4": {
      "model_module": "jupyter-js-widgets",
      "model_module_version": "~2.1.4",
      "model_name": "PlayModel",
      "state": {
       "_model_module_version": "~2.1.4",
       "_view_module_version": "~2.1.4",
       "layout": "IPY_MODEL_e82a32daa4474c549bf27cdcbde2f758",
       "max": 1000000
      }
     },
     "a6891ca6758d4e8a9818ea0cc810e673": {
      "model_module": "jupyter-js-widgets",
      "model_module_version": "~2.1.4",
      "model_name": "ImageModel",
      "state": {
       "_b64value": "iVBORw0KGgoAAAANSUhEUgAAADwAAAAoCAIAAAAt2Q6oAAAA8UlEQVR4nO3WoQ7CMBCA4d5d++gYggJDwMwgEJshATHkEIRgUCCwkxiwZAhGMxq2bIRcaXKfWOb655b0BvExV6FB3wHfkGguEs1ForlINBeJ5qJ9B5TuhwzeKaWqz+qLt+jbNkVEIgIARLRBbXSOztPYDqBuEg2KokBEYwwRdT3a+hx9SiJ8sZOofji/yuhdNCQirTURPVv9ZjXTm8kAAIwxvks6+OuJ1pFoLhLNJchouFzPSql+b+rc0w3L5Vcb0Vnj7f89ymjHeDQPL7rBLFqGF/0riyQLL9qxXu3Di+4kyCtPorlINBeJ5iLRXIKMfgDJGDkVat0rzwAAAABJRU5ErkJggg==",
       "_model_module_version": "~2.1.4",
       "_view_module_version": "~2.1.4",
       "layout": "IPY_MODEL_c00eb2c8591a402fa109dc3486ece86a",
       "width": "240"
      }
     },
     "a7055bafab63456c8ffb514b35828250": {
      "model_module": "jupyter-js-widgets",
      "model_module_version": "~2.1.4",
      "model_name": "LayoutModel",
      "state": {
       "_model_module_version": "~2.1.4",
       "_view_module_version": "~2.1.4"
      }
     },
     "a727f6c18d6343018ec7481abc78e444": {
      "model_module": "jupyter-js-widgets",
      "model_module_version": "~2.1.4",
      "model_name": "FloatSliderModel",
      "state": {
       "_model_module_version": "~2.1.4",
       "_view_module_version": "~2.1.4",
       "layout": "IPY_MODEL_5e9263047ff64136800d948a55185714",
       "readout": false,
       "step": 0.1,
       "value": 83.92535074771858
      }
     },
     "a72e9b46ad98498ea908b0439f8d3692": {
      "model_module": "jupyter-js-widgets",
      "model_module_version": "~2.1.4",
      "model_name": "LayoutModel",
      "state": {
       "_model_module_version": "~2.1.4",
       "_view_module_version": "~2.1.4"
      }
     },
     "a77744ab5836486181dfc7ab7e91ec74": {
      "model_module": "jupyter-js-widgets",
      "model_module_version": "~2.1.4",
      "model_name": "HBoxModel",
      "state": {
       "_model_module_version": "~2.1.4",
       "_view_module_version": "~2.1.4",
       "children": [
        "IPY_MODEL_c5bc373a73b846359562513c6ed7429f",
        "IPY_MODEL_727af494424f4c7487d4e8700d1dc7b2"
       ],
       "layout": "IPY_MODEL_9fb85d0e098446c4bb468aba62c3ffcf"
      }
     },
     "a7f1f024846e4db3be31d5caf7235194": {
      "model_module": "jupyter-js-widgets",
      "model_module_version": "~2.1.4",
      "model_name": "HBoxModel",
      "state": {
       "_model_module_version": "~2.1.4",
       "_view_module_version": "~2.1.4",
       "children": [
        "IPY_MODEL_ca7bb4e221e4421b890a169650018889",
        "IPY_MODEL_2ffda11d6e924d72a0d52243133499cf",
        "IPY_MODEL_658a92bd06ea4bd0bb75d3aeec2c7090"
       ],
       "layout": "IPY_MODEL_3c0a70225beb477d89430ec4c7c61db3"
      }
     },
     "a83ba5ae58b54a188de4e6839858567d": {
      "model_module": "jupyter-js-widgets",
      "model_module_version": "~2.1.4",
      "model_name": "HBoxModel",
      "state": {
       "_model_module_version": "~2.1.4",
       "_view_module_version": "~2.1.4",
       "children": [
        "IPY_MODEL_5578b27f5d5a4a31bf82df25b3f9dd43",
        "IPY_MODEL_32e3cf5e22b64570a6d6fea63431f065"
       ],
       "layout": "IPY_MODEL_b6a2e5db89dd4244855b6f3dee24c8aa"
      }
     },
     "a8878595dcec4738979f4d69c9596a52": {
      "model_module": "jupyter-js-widgets",
      "model_module_version": "~2.1.4",
      "model_name": "VBoxModel",
      "state": {
       "_model_module_version": "~2.1.4",
       "_view_module_version": "~2.1.4",
       "children": [
        "IPY_MODEL_fc6439633c1648bd8739e20a4cfee4a8",
        "IPY_MODEL_bcc179738b9642b48992e9a1b9d56404"
       ],
       "layout": "IPY_MODEL_9070fd111bf947ecb463cee9453e4c3e"
      }
     },
     "a8a3a99f7c7143d0bcbb65c8b0cc4162": {
      "model_module": "jupyter-js-widgets",
      "model_module_version": "~2.1.4",
      "model_name": "CheckboxModel",
      "state": {
       "_model_module_version": "~2.1.4",
       "_view_module_version": "~2.1.4",
       "description": "Update GUI",
       "disabled": false,
       "layout": "IPY_MODEL_2cc6a1a5ab714f538c1077a2aaf181ae",
       "value": true
      }
     },
     "a8a90c757bfc4e688c23ae9d4968559c": {
      "model_module": "jupyter-js-widgets",
      "model_module_version": "~2.1.4",
      "model_name": "LayoutModel",
      "state": {
       "_model_module_version": "~2.1.4",
       "_view_module_version": "~2.1.4"
      }
     },
     "a8e8530ddf2d45558b722c17aa34b497": {
      "model_module": "jupyter-js-widgets",
      "model_module_version": "~2.1.4",
      "model_name": "HBoxModel",
      "state": {
       "_model_module_version": "~2.1.4",
       "_view_module_version": "~2.1.4",
       "children": [
        "IPY_MODEL_c08ff02623aa485899e4903e36823a0d",
        "IPY_MODEL_9e11ed6488e94b8f9f75846c67fbfade"
       ],
       "layout": "IPY_MODEL_4fb6f16abfd5430f9be6bc391b050993"
      }
     },
     "a8f2ba588d5d473f94f3139bf59b04eb": {
      "model_module": "jupyter-js-widgets",
      "model_module_version": "~2.1.4",
      "model_name": "LayoutModel",
      "state": {
       "_model_module_version": "~2.1.4",
       "_view_module_version": "~2.1.4"
      }
     },
     "a9631bb2820c430aa8bb525d5c751d6d": {
      "model_module": "jupyter-js-widgets",
      "model_module_version": "~2.1.4",
      "model_name": "HBoxModel",
      "state": {
       "_model_module_version": "~2.1.4",
       "_view_module_version": "~2.1.4",
       "children": [
        "IPY_MODEL_b036c7d51e6d4584b406bda6ae85961c",
        "IPY_MODEL_b686e923cbc44ca1bff98e390c9a8d81"
       ],
       "layout": "IPY_MODEL_f746451a7cbc4bd69d6b1f24d99ca870"
      }
     },
     "a96b783347bd4a309c3e074774ad7f95": {
      "model_module": "jupyter-js-widgets",
      "model_module_version": "~2.1.4",
      "model_name": "LayoutModel",
      "state": {
       "_model_module_version": "~2.1.4",
       "_view_module_version": "~2.1.4",
       "height": "30px",
       "padding": "0px 0px 0px 10px",
       "width": "260px"
      }
     },
     "a97c32d51392435f9f73c323eb223c5b": {
      "model_module": "jupyter-js-widgets",
      "model_module_version": "~2.1.4",
      "model_name": "PlayModel",
      "state": {
       "_model_module_version": "~2.1.4",
       "_view_module_version": "~2.1.4",
       "layout": "IPY_MODEL_810b4456a2ce4ca3965fbee35c116ad5",
       "max": 1000000
      }
     },
     "a98f35909c2f4a6cb68efb7f40ceb072": {
      "model_module": "jupyter-js-widgets",
      "model_module_version": "~2.1.4",
      "model_name": "FloatSliderModel",
      "state": {
       "_model_module_version": "~2.1.4",
       "_view_module_version": "~2.1.4",
       "layout": "IPY_MODEL_b095f2530c7148f7a74ccca9573413c6",
       "orientation": "vertical",
       "readout": false,
       "step": 0.1,
       "value": 50
      }
     },
     "aa64da94ad4448d399fe551e65e83b64": {
      "model_module": "jupyter-js-widgets",
      "model_module_version": "~2.1.4",
      "model_name": "FloatSliderModel",
      "state": {
       "_model_module_version": "~2.1.4",
       "_view_module_version": "~2.1.4",
       "layout": "IPY_MODEL_1f1cac1af2df43c5a0b35fdb7a41f767",
       "readout": false,
       "step": 0.1,
       "value": 99.44295769917836
      }
     },
     "aa7b22d634eb407dbf4289880ff2de44": {
      "model_module": "jupyter-js-widgets",
      "model_module_version": "~2.1.4",
      "model_name": "LayoutModel",
      "state": {
       "_model_module_version": "~2.1.4",
       "_view_module_version": "~2.1.4"
      }
     },
     "aac2217030814f5494fa88f050ee0b5d": {
      "model_module": "jupyter-js-widgets",
      "model_module_version": "~2.1.4",
      "model_name": "ButtonStyleModel",
      "state": {
       "_model_module_version": "~2.1.4",
       "_view_module_version": "~2.1.4"
      }
     },
     "ab025fb4fec344a5a81a390e2423233f": {
      "model_module": "jupyter-js-widgets",
      "model_module_version": "~2.1.4",
      "model_name": "OutputModel",
      "state": {
       "_dom_classes": [],
       "_model_module": "jupyter-js-widgets",
       "_model_module_version": "~2.1.4",
       "_view_module": "jupyter-js-widgets",
       "_view_module_version": "~2.1.4",
       "layout": "IPY_MODEL_592ed2fd27aa4eaba55b2e2c198e6b64",
       "msg_throttle": 1
      }
     },
     "ab0c22378fbc4527ab21624b198fad1e": {
      "model_module": "jupyter-js-widgets",
      "model_module_version": "~2.1.4",
      "model_name": "LayoutModel",
      "state": {
       "_model_module_version": "~2.1.4",
       "_view_module_version": "~2.1.4"
      }
     },
     "ab3187107bff4ddbb87bfc9ed2e76cf5": {
      "model_module": "jupyter-js-widgets",
      "model_module_version": "~2.1.4",
      "model_name": "LayoutModel",
      "state": {
       "_model_module_version": "~2.1.4",
       "_view_module_version": "~2.1.4"
      }
     },
     "ab5abd8eda174585a459a563bf66442d": {
      "model_module": "jupyter-js-widgets",
      "model_module_version": "~2.1.4",
      "model_name": "LayoutModel",
      "state": {
       "_model_module_version": "~2.1.4",
       "_view_module_version": "~2.1.4"
      }
     },
     "ab83e90eff5b43fa9dfd7158829b00ce": {
      "model_module": "jupyter-js-widgets",
      "model_module_version": "~2.1.4",
      "model_name": "ButtonStyleModel",
      "state": {
       "_model_module_version": "~2.1.4",
       "_view_module_version": "~2.1.4"
      }
     },
     "abb77bdd58454964b9b50eab40f0844e": {
      "model_module": "jupyter-js-widgets",
      "model_module_version": "~2.1.4",
      "model_name": "LayoutModel",
      "state": {
       "_model_module_version": "~2.1.4",
       "_view_module_version": "~2.1.4"
      }
     },
     "ac0b66c0bea24e84b7bbee725d79f7fb": {
      "model_module": "jupyter-js-widgets",
      "model_module_version": "~2.1.4",
      "model_name": "LayoutModel",
      "state": {
       "_model_module_version": "~2.1.4",
       "_view_module_version": "~2.1.4",
       "height": "30px",
       "padding": "0px 0px 0px 10px",
       "width": "260px"
      }
     },
     "ac0eaf88dc8b48b4a055fe47ed7fd8a0": {
      "model_module": "jupyter-js-widgets",
      "model_module_version": "~2.1.4",
      "model_name": "HTMLModel",
      "state": {
       "_model_module_version": "~2.1.4",
       "_view_module_version": "~2.1.4",
       "layout": "IPY_MODEL_92016873e9114b3db994f84397629dfc",
       "value": "<svg baseProfile=\"full\" height=\"240\" version=\"1.1\" width=\"240\" xmlns=\"http://www.w3.org/2000/svg\" xmlns:ev=\"http://www.w3.org/2001/xml-events\" xmlns:xlink=\"http://www.w3.org/1999/xlink\"><defs /><rect fill=\"white\" height=\"240\" stroke=\"#000000\" stroke-width=\"1\" width=\"240\" x=\"0\" y=\"0\" /><rect fill=\"#eef3dd\" height=\"240.0\" stroke=\"#bebebe\" stroke-width=\"1\" width=\"240.0\" x=\"0.0\" y=\"0.0\" /><circle cx=\"120.0\" cy=\"195.0\" fill=\"#ffff00\" r=\"15.0\" stroke=\"#ffff00\" stroke-width=\"1\" /><line fill=\"#800080\" stroke=\"#add8e6\" stroke-width=\"1\" x1=\"199.29647346587737\" x2=\"0.0\" y1=\"111.37109959820461\" y2=\"118.34932799999999\" /><line fill=\"#800080\" stroke=\"#add8e6\" stroke-width=\"1\" x1=\"200.64858482032437\" x2=\"0.0\" y1=\"107.12118255369946\" y2=\"21.973026000000004\" /><line fill=\"#800080\" stroke=\"#add8e6\" stroke-width=\"1\" x1=\"202.98412783209295\" x2=\"108.20933355871675\" y1=\"105.23830209010676\" y2=\"0.0\" /><line fill=\"#800080\" stroke=\"#add8e6\" stroke-width=\"1\" x1=\"206.529433775271\" x2=\"174.84110042201567\" y1=\"103.61324646974592\" y2=\"0.0\" /><line fill=\"#800080\" stroke=\"#add8e6\" stroke-width=\"1\" x1=\"212.52575915041191\" x2=\"236.38811675880686\" y1=\"103.4032893421199\" y2=\"0.0\" /><line fill=\"#800080\" stroke=\"#add8e6\" stroke-width=\"1\" x1=\"216.176043657403\" x2=\"240.0\" y1=\"104.77639640932952\" y2=\"74.27725800000002\" /><line fill=\"#800080\" stroke=\"#add8e6\" stroke-width=\"1\" x1=\"218.63756094574717\" x2=\"240.0\" y1=\"106.49131117082139\" y2=\"95.60408999999999\" /><line fill=\"#800080\" stroke=\"#add8e6\" stroke-width=\"1\" x1=\"220.28361227887063\" x2=\"240.0\" y1=\"110.63624965151354\" y2=\"109.94589599999998\" /><line fill=\"#800080\" stroke=\"#add8e6\" stroke-width=\"1\" x1=\"220.70352653412263\" x2=\"240.0\" y1=\"122.62890040179542\" y2=\"121.95324600000001\" /><line fill=\"#800080\" stroke=\"#add8e6\" stroke-width=\"1\" x1=\"219.35141517967563\" x2=\"240.0\" y1=\"126.87881744630057\" y2=\"135.641346\" /><line fill=\"#800080\" stroke=\"#add8e6\" stroke-width=\"1\" x1=\"217.01587216790705\" x2=\"240.0\" y1=\"128.76169790989326\" y2=\"154.283364\" /><line fill=\"#800080\" stroke=\"#add8e6\" stroke-width=\"1\" x1=\"213.470566224729\" x2=\"240.0\" y1=\"130.3867535302541\" y2=\"217.131636\" /><line fill=\"#800080\" stroke=\"#add8e6\" stroke-width=\"1\" x1=\"207.47424084958809\" x2=\"182.22726449088904\" y1=\"130.59671065788012\" y2=\"240.0\" /><line fill=\"#800080\" stroke=\"#add8e6\" stroke-width=\"1\" x1=\"203.823956342597\" x2=\"117.29260723482744\" y1=\"129.2236035906705\" y2=\"240.0\" /><line fill=\"#800080\" stroke=\"#add8e6\" stroke-width=\"1\" x1=\"201.36243905425283\" x2=\"0.0\" y1=\"127.50868882917862\" y2=\"230.131668\" /><line fill=\"#800080\" stroke=\"#add8e6\" stroke-width=\"1\" x1=\"199.71638772112937\" x2=\"0.0\" y1=\"123.36375034848649\" y2=\"130.356678\" /><line fill=\"#800080\" stroke=\"#a020f0\" stroke-width=\"1\" x1=\"210.0\" x2=\"0.0\" y1=\"117.00000000000001\" y2=\"5.366183999999992\" /><line fill=\"#800080\" stroke=\"#a020f0\" stroke-width=\"1\" x1=\"210.0\" x2=\"240.0\" y1=\"117.00000000000001\" y2=\"98.250024\" /><line fill=\"#800080\" stroke=\"#ffa500\" stroke-width=\"1\" x1=\"120.0\" x2=\"199.03402705634483\" y1=\"195.0\" y2=\"103.87569287927845\" /><line fill=\"#800080\" stroke=\"#ffa500\" stroke-width=\"1\" x1=\"120.0\" x2=\"220.02116586933806\" y1=\"195.0\" y2=\"103.14084293258738\" /><polygon fill=\"red\" points=\"204.7305361627287,103.67623360803373 199.19149490206433,108.37293691063414 199.82136628494237,126.36191303605695 205.67534323704578,130.65969779616793 215.2694638372713,130.3237663919663 220.80850509793567,125.62706308936588 220.17863371505763,107.63808696394308 214.32465676295422,103.3403022038321\" stroke=\"red\" stroke-width=\"1\" /><polygon points=\"-3.0,-3.0 0,0 3.0,-3.0 0,3.0\" stroke=\"black\" stroke-width=\"1\" transform=\"translate(210.0,117.00000000000001) rotate(177.9946477170421)\" /><polygon fill=\"black\" points=\"213.30385524640815,108.4791701982271 213.47182094850893,113.27623049833983 206.2762304983398,113.52817905149107 206.108264796239,108.73111875137835\" stroke=\"black\" stroke-width=\"1\" /><circle cx=\"199.03402705634483\" cy=\"103.87569287927845\" fill=\"yellow\" r=\"1.5\" stroke=\"orange\" stroke-width=\"1\" /><circle cx=\"220.02116586933806\" cy=\"103.14084293258738\" fill=\"yellow\" r=\"1.5\" stroke=\"orange\" stroke-width=\"1\" /></svg>"
      }
     },
     "ac1ff4fc3d3044f0b05a458cbe5b979d": {
      "model_module": "jupyter-js-widgets",
      "model_module_version": "~2.1.4",
      "model_name": "PlayModel",
      "state": {
       "_model_module_version": "~2.1.4",
       "_view_module_version": "~2.1.4",
       "layout": "IPY_MODEL_2987964e6f484f3995b43f0be687a229",
       "max": 1000000
      }
     },
     "ac2d905b4fbb402fbbdf80001ed5f166": {
      "model_module": "jupyter-js-widgets",
      "model_module_version": "~2.1.4",
      "model_name": "LayoutModel",
      "state": {
       "_model_module_version": "~2.1.4",
       "_view_module_version": "~2.1.4"
      }
     },
     "ac55c0e1422146568d40025fe97fb773": {
      "model_module": "jupyter-js-widgets",
      "model_module_version": "~2.1.4",
      "model_name": "LayoutModel",
      "state": {
       "_model_module_version": "~2.1.4",
       "_view_module_version": "~2.1.4",
       "height": "20px",
       "padding": "0px 0px 0px 0px",
       "width": "248px"
      }
     },
     "ac64c9d96df34e00966772810fbcf330": {
      "model_module": "jupyter-js-widgets",
      "model_module_version": "~2.1.4",
      "model_name": "LayoutModel",
      "state": {
       "_model_module_version": "~2.1.4",
       "_view_module_version": "~2.1.4"
      }
     },
     "ad0b62b56de643fbaf929963a33955cc": {
      "model_module": "jupyter-js-widgets",
      "model_module_version": "~2.1.4",
      "model_name": "VBoxModel",
      "state": {
       "_model_module_version": "~2.1.4",
       "_view_module_version": "~2.1.4",
       "children": [
        "IPY_MODEL_0ba4d1e859a64fc8a34a1e31bb54e1c6",
        "IPY_MODEL_82e60a76a9064850be265928d17575fb"
       ],
       "layout": "IPY_MODEL_d2ed5047c25f45acb6bb3647df14aa7a"
      }
     },
     "ad1c0ec0ec004fa9bd3da5d950333133": {
      "model_module": "jupyter-js-widgets",
      "model_module_version": "~2.1.4",
      "model_name": "ButtonModel",
      "state": {
       "_model_module_version": "~2.1.4",
       "_view_module_version": "~2.1.4",
       "icon": "step-forward",
       "layout": "IPY_MODEL_4fb8193b54e041a78cbf78194d4a31fb",
       "style": "IPY_MODEL_5c2b8129c7fc4741a5238ee4e7f00498"
      }
     },
     "ad4e92b024da43bf86f3347788cbac6f": {
      "model_module": "jupyter-js-widgets",
      "model_module_version": "~2.1.4",
      "model_name": "CheckboxModel",
      "state": {
       "_model_module_version": "~2.1.4",
       "_view_module_version": "~2.1.4",
       "description": "Update GUI",
       "disabled": false,
       "layout": "IPY_MODEL_d9417a630b464b5380b8469e2d7aefcb",
       "value": true
      }
     },
     "ad6c3a2cec8646b9a86953ad3adba58e": {
      "model_module": "jupyter-js-widgets",
      "model_module_version": "~2.1.4",
      "model_name": "HBoxModel",
      "state": {
       "_model_module_version": "~2.1.4",
       "_view_module_version": "~2.1.4",
       "children": [
        "IPY_MODEL_43aa9323a6f34d26b2ba812afa40e2a7",
        "IPY_MODEL_4a0f32d3975c4e26b5c71de8def65118"
       ],
       "layout": "IPY_MODEL_cd897f9377d64bfdb3899b699358a3f1"
      }
     },
     "ad95a9f0e4d2492dae2ea4c60042ae91": {
      "model_module": "jupyter-js-widgets",
      "model_module_version": "~2.1.4",
      "model_name": "TextModel",
      "state": {
       "_model_module_version": "~2.1.4",
       "_view_module_version": "~2.1.4",
       "description": "Time:",
       "layout": "IPY_MODEL_89794d73116e4a429f3517e4c4d0c45d",
       "value": "0.0 seconds"
      }
     },
     "adbe5bd0bfb2418da9422f878d64114c": {
      "model_module": "jupyter-js-widgets",
      "model_module_version": "~2.1.4",
      "model_name": "LayoutModel",
      "state": {
       "_model_module_version": "~2.1.4",
       "_view_module_version": "~2.1.4"
      }
     },
     "add3edec99e34c738d2b864beea42bf1": {
      "model_module": "jupyter-js-widgets",
      "model_module_version": "~2.1.4",
      "model_name": "ButtonModel",
      "state": {
       "_model_module_version": "~2.1.4",
       "_view_module_version": "~2.1.4",
       "icon": "step-forward",
       "layout": "IPY_MODEL_80145a1617c146e6b60b1c63420cdb5b",
       "style": "IPY_MODEL_de23ebe77eca48039c5bb664e73126c5"
      }
     },
     "ae697c1f0cc944dc8bcdc3900f6ea540": {
      "model_module": "jupyter-js-widgets",
      "model_module_version": "~2.1.4",
      "model_name": "FloatSliderModel",
      "state": {
       "_model_module_version": "~2.1.4",
       "_view_module_version": "~2.1.4",
       "layout": "IPY_MODEL_16a96086d2ad40c6ad1464fa200ab2a6",
       "orientation": "vertical",
       "readout": false,
       "step": 0.1,
       "value": 93.0340468280459
      }
     },
     "ae78fff1c6384326b8f8e435d47c6a0c": {
      "model_module": "jupyter-js-widgets",
      "model_module_version": "~2.1.4",
      "model_name": "ImageModel",
      "state": {
       "_b64value": "iVBORw0KGgoAAAANSUhEUgAAADwAAAAoCAIAAAAt2Q6oAAABOUlEQVR4nO2YsQ6CMBCGW8Lo4srqwPuw4ftZJl1dTFxcWZx0YHXEAQcXgwMJCC2lae/ONOm/0IT27sv1bwvl+9uD+abo3wA2ig37ZWky9+pwp56rBWgNq9yHjH4W2gRXOYQAXe1pC2KQsYZSQLtnxeYe2QMwGapVvNzyBmiMOUXySYQaHSmyl/aIGf5iz9JEXpGf64Vz3rXlxqQ9kekx7qh3eeY/0jMtirctHJpWRSEm0NaV9tLTAZpKAZpKdNB5voUKRQddFAIqVLAHlQI0lfyEfr4qgjRC7ACj8bqp1qsNYESl5NKcjqX1Vx6vm4oxhsoNPpl+erp74DkbI/JQaYzoSLXw0h6jH9uuMCCLEnUnVVTaPR/23q+2h0tWgtNq9t7Dwio0hytbvKzpOTT0ZKy9TG+Y6Mk0+gIS+mFlTR2/TwAAAABJRU5ErkJggg==",
       "_model_module_version": "~2.1.4",
       "_view_module_version": "~2.1.4",
       "layout": "IPY_MODEL_2d8bb74476454b9fa9ec33b67c615f3e",
       "width": "240"
      }
     },
     "ae7fd51413404878874bfbe45602b100": {
      "model_module": "jupyter-js-widgets",
      "model_module_version": "~2.1.4",
      "model_name": "LayoutModel",
      "state": {
       "_model_module_version": "~2.1.4",
       "_view_module_version": "~2.1.4"
      }
     },
     "aed895e60b83496da143d19758c4607d": {
      "model_module": "jupyter-js-widgets",
      "model_module_version": "~2.1.4",
      "model_name": "LayoutModel",
      "state": {
       "_model_module_version": "~2.1.4",
       "_view_module_version": "~2.1.4"
      }
     },
     "aed8bb6fbaad4028ac91cc869a81da35": {
      "model_module": "jupyter-js-widgets",
      "model_module_version": "~2.1.4",
      "model_name": "VBoxModel",
      "state": {
       "_model_module_version": "~2.1.4",
       "_view_module_version": "~2.1.4",
       "children": [
        "IPY_MODEL_5ddb288355924175b633fcec3e65aeac",
        "IPY_MODEL_a9631bb2820c430aa8bb525d5c751d6d"
       ],
       "layout": "IPY_MODEL_3af021ef0c5d4c5db03bf4373c679b02"
      }
     },
     "aee419371e1f4e538ed17e53a6dbdd94": {
      "model_module": "jupyter-js-widgets",
      "model_module_version": "~2.1.4",
      "model_name": "FloatSliderModel",
      "state": {
       "_model_module_version": "~2.1.4",
       "_view_module_version": "~2.1.4",
       "layout": "IPY_MODEL_d27a98e953c2475ca5fd90d23039e848",
       "readout": false,
       "step": 0.1,
       "value": 99.44295769917836
      }
     },
     "af114e24a558453ca73451b77e2a971d": {
      "model_module": "jupyter-js-widgets",
      "model_module_version": "~2.1.4",
      "model_name": "LayoutModel",
      "state": {
       "_model_module_version": "~2.1.4",
       "_view_module_version": "~2.1.4"
      }
     },
     "af89730c543245fab1a4ec55a6d0a10e": {
      "model_module": "jupyter-js-widgets",
      "model_module_version": "~2.1.4",
      "model_name": "HTMLModel",
      "state": {
       "_model_module_version": "~2.1.4",
       "_view_module_version": "~2.1.4",
       "layout": "IPY_MODEL_861c77b9df1f4dc78199a9736e4a4209",
       "value": "<svg baseProfile=\"full\" height=\"240\" version=\"1.1\" width=\"240\" xmlns=\"http://www.w3.org/2000/svg\" xmlns:ev=\"http://www.w3.org/2001/xml-events\" xmlns:xlink=\"http://www.w3.org/1999/xlink\"><defs /><rect fill=\"white\" height=\"240\" stroke=\"#000000\" stroke-width=\"1\" width=\"240\" x=\"0\" y=\"0\" /><rect fill=\"#eef3dd\" height=\"240.0\" stroke=\"#bebebe\" stroke-width=\"1\" width=\"240.0\" x=\"0.0\" y=\"0.0\" /><circle cx=\"120.0\" cy=\"195.0\" fill=\"#ffff00\" r=\"15.0\" stroke=\"#ffff00\" stroke-width=\"1\" /><line fill=\"#800080\" stroke=\"#add8e6\" stroke-width=\"1\" x1=\"199.5\" x2=\"0.0\" y1=\"114.0\" y2=\"114.0\" /><line fill=\"#800080\" stroke=\"#add8e6\" stroke-width=\"1\" x1=\"201.0\" x2=\"0.0\" y1=\"109.80000000000001\" y2=\"16.07215199999999\" /><line fill=\"#800080\" stroke=\"#add8e6\" stroke-width=\"1\" x1=\"203.4\" x2=\"112.77724019461742\" y1=\"107.99999999999999\" y2=\"0.0\" /><line fill=\"#800080\" stroke=\"#add8e6\" stroke-width=\"1\" x1=\"207.0\" x2=\"178.4634099424212\" y1=\"106.5\" y2=\"0.0\" /><line fill=\"#800080\" stroke=\"#add8e6\" stroke-width=\"1\" x1=\"213.0\" x2=\"240.0\" y1=\"106.5\" y2=\"5.734632000000062\" /><line fill=\"#800080\" stroke=\"#add8e6\" stroke-width=\"1\" x1=\"216.6\" x2=\"240.0\" y1=\"107.99999999999999\" y2=\"80.11296600000001\" /><line fill=\"#800080\" stroke=\"#add8e6\" stroke-width=\"1\" x1=\"219.0\" x2=\"240.0\" y1=\"109.80000000000001\" y2=\"100.007538\" /><line fill=\"#800080\" stroke=\"#add8e6\" stroke-width=\"1\" x1=\"220.5\" x2=\"240.0\" y1=\"114.0\" y2=\"114.0\" /><line fill=\"#800080\" stroke=\"#add8e6\" stroke-width=\"1\" x1=\"220.5\" x2=\"240.0\" y1=\"126.0\" y2=\"126.0\" /><line fill=\"#800080\" stroke=\"#add8e6\" stroke-width=\"1\" x1=\"219.0\" x2=\"240.0\" y1=\"130.2\" y2=\"139.992462\" /><line fill=\"#800080\" stroke=\"#add8e6\" stroke-width=\"1\" x1=\"216.6\" x2=\"240.0\" y1=\"132.0\" y2=\"159.88703399999997\" /><line fill=\"#800080\" stroke=\"#add8e6\" stroke-width=\"1\" x1=\"213.0\" x2=\"240.0\" y1=\"133.5\" y2=\"234.26536799999994\" /><line fill=\"#800080\" stroke=\"#add8e6\" stroke-width=\"1\" x1=\"207.0\" x2=\"178.4634099424212\" y1=\"133.5\" y2=\"240.0\" /><line fill=\"#800080\" stroke=\"#add8e6\" stroke-width=\"1\" x1=\"203.4\" x2=\"112.7772401946174\" y1=\"132.0\" y2=\"240.0\" /><line fill=\"#800080\" stroke=\"#add8e6\" stroke-width=\"1\" x1=\"201.0\" x2=\"0.0\" y1=\"130.2\" y2=\"223.927848\" /><line fill=\"#800080\" stroke=\"#add8e6\" stroke-width=\"1\" x1=\"199.5\" x2=\"0.0\" y1=\"126.0\" y2=\"126.0\" /><line fill=\"#800080\" stroke=\"#a020f0\" stroke-width=\"1\" x1=\"210.0\" x2=\"2.1539193796210117\" y1=\"120.0\" y2=\"0.0\" /><line fill=\"#800080\" stroke=\"#a020f0\" stroke-width=\"1\" x1=\"210.0\" x2=\"240.0\" y1=\"120.0\" y2=\"102.67948799999999\" /><line fill=\"#800080\" stroke=\"#ffa500\" stroke-width=\"1\" x1=\"120.0\" x2=\"199.5\" y1=\"195.0\" y2=\"106.5\" /><line fill=\"#800080\" stroke=\"#ffa500\" stroke-width=\"1\" x1=\"120.0\" x2=\"220.5\" y1=\"195.0\" y2=\"106.5\" /><polygon fill=\"red\" points=\"205.2,106.5 199.5,111.0 199.5,129.0 205.2,133.5 214.8,133.5 220.5,129.0 220.5,111.0 214.8,106.5\" stroke=\"red\" stroke-width=\"1\" /><polygon points=\"-3.0,-3.0 0,0 3.0,-3.0 0,3.0\" stroke=\"black\" stroke-width=\"1\" transform=\"translate(210.0,120.0) rotate(180.0)\" /><polygon fill=\"black\" points=\"213.6,111.6 213.6,116.39999999999999 206.4,116.39999999999999 206.4,111.6\" stroke=\"black\" stroke-width=\"1\" /><circle cx=\"199.5\" cy=\"106.5\" fill=\"yellow\" r=\"1.5\" stroke=\"orange\" stroke-width=\"1\" /><circle cx=\"220.5\" cy=\"106.5\" fill=\"yellow\" r=\"1.5\" stroke=\"orange\" stroke-width=\"1\" /></svg>"
      }
     },
     "af8c1bb4519248cc87c71bebec21ce4b": {
      "model_module": "jupyter-js-widgets",
      "model_module_version": "~2.1.4",
      "model_name": "ButtonStyleModel",
      "state": {
       "_model_module_version": "~2.1.4",
       "_view_module_version": "~2.1.4"
      }
     },
     "afcb07d07f6a46d0bcaf6c0ea3dfdc78": {
      "model_module": "jupyter-js-widgets",
      "model_module_version": "~2.1.4",
      "model_name": "LayoutModel",
      "state": {
       "_model_module_version": "~2.1.4",
       "_view_module_version": "~2.1.4"
      }
     },
     "b0054088c2fa481a8f6ed9f3fdbb51f9": {
      "model_module": "jupyter-js-widgets",
      "model_module_version": "~2.1.4",
      "model_name": "LayoutModel",
      "state": {
       "_model_module_version": "~2.1.4",
       "_view_module_version": "~2.1.4"
      }
     },
     "b036c7d51e6d4584b406bda6ae85961c": {
      "model_module": "jupyter-js-widgets",
      "model_module_version": "~2.1.4",
      "model_name": "VBoxModel",
      "state": {
       "_model_module_version": "~2.1.4",
       "_view_module_version": "~2.1.4",
       "children": [
        "IPY_MODEL_a8e8530ddf2d45558b722c17aa34b497",
        "IPY_MODEL_3521551e74cb489c996bdbba279a129e"
       ],
       "layout": "IPY_MODEL_6362f87d89bc4c65ae42aa3ac47e04a9"
      }
     },
     "b03934ccd81a4082bce845c791a63016": {
      "model_module": "jupyter-js-widgets",
      "model_module_version": "~2.1.4",
      "model_name": "LayoutModel",
      "state": {
       "_model_module_version": "~2.1.4",
       "_view_module_version": "~2.1.4"
      }
     },
     "b03d0d70c0ef4492b2c9cb14c84b3c21": {
      "model_module": "jupyter-js-widgets",
      "model_module_version": "~2.1.4",
      "model_name": "LayoutModel",
      "state": {
       "_model_module_version": "~2.1.4",
       "_view_module_version": "~2.1.4",
       "height": "248px",
       "padding": "0px 0px 0px 0px",
       "width": "10px"
      }
     },
     "b07a3dfcb7014dda9594185db64b294d": {
      "model_module": "jupyter-js-widgets",
      "model_module_version": "~2.1.4",
      "model_name": "LayoutModel",
      "state": {
       "_model_module_version": "~2.1.4",
       "_view_module_version": "~2.1.4"
      }
     },
     "b08d45d80cd24812b88a1b4fe2099e92": {
      "model_module": "jupyter-js-widgets",
      "model_module_version": "~2.1.4",
      "model_name": "HBoxModel",
      "state": {
       "_model_module_version": "~2.1.4",
       "_view_module_version": "~2.1.4",
       "children": [
        "IPY_MODEL_90c815e5e19c432c925f8ab003a49c23",
        "IPY_MODEL_6650a3d761f24a409c8ff4bf7fdd73c8"
       ],
       "layout": "IPY_MODEL_9403dd2203db4d99a20ce35f6ffa6118"
      }
     },
     "b095f2530c7148f7a74ccca9573413c6": {
      "model_module": "jupyter-js-widgets",
      "model_module_version": "~2.1.4",
      "model_name": "LayoutModel",
      "state": {
       "_model_module_version": "~2.1.4",
       "_view_module_version": "~2.1.4",
       "height": "248px",
       "padding": "0px 0px 0px 0px",
       "width": "10px"
      }
     },
     "b0c9966976594a78a28bb8079ac65dd9": {
      "model_module": "jupyter-js-widgets",
      "model_module_version": "~2.1.4",
      "model_name": "HBoxModel",
      "state": {
       "_model_module_version": "~2.1.4",
       "_view_module_version": "~2.1.4",
       "children": [
        "IPY_MODEL_fd52cb69a4fb4e2b9db9eded9d0c0fd8",
        "IPY_MODEL_5aa856eff35e46bc9403ead92ab43a1a",
        "IPY_MODEL_d7a18c1ebad8409cab8523fed768a304"
       ],
       "layout": "IPY_MODEL_a409c0ba72634ba2948b3166377796f4"
      }
     },
     "b0ce52da8be943d1b77f1a8ead2b0300": {
      "model_module": "jupyter-js-widgets",
      "model_module_version": "~2.1.4",
      "model_name": "LayoutModel",
      "state": {
       "_model_module_version": "~2.1.4",
       "_view_module_version": "~2.1.4",
       "height": "20px",
       "padding": "0px 0px 0px 0px",
       "width": "248px"
      }
     },
     "b1892c75ad614b9287477db99c6a9f4a": {
      "model_module": "jupyter-js-widgets",
      "model_module_version": "~2.1.4",
      "model_name": "HBoxModel",
      "state": {
       "_model_module_version": "~2.1.4",
       "_view_module_version": "~2.1.4",
       "children": [
        "IPY_MODEL_8ae1d93e6430485786c3960491b0ea6d",
        "IPY_MODEL_1a139cf0bf344059b2041b0e7403ca95"
       ],
       "layout": "IPY_MODEL_58e81b43b9384b6bbb37965e05672fb0"
      }
     },
     "b2374cbfc94d442ea8410735e4beec34": {
      "model_module": "jupyter-js-widgets",
      "model_module_version": "~2.1.4",
      "model_name": "LayoutModel",
      "state": {
       "_model_module_version": "~2.1.4",
       "_view_module_version": "~2.1.4"
      }
     },
     "b23cbfb8e5e94d87b56cb8e7de0fea49": {
      "model_module": "jupyter-js-widgets",
      "model_module_version": "~2.1.4",
      "model_name": "LayoutModel",
      "state": {
       "_model_module_version": "~2.1.4",
       "_view_module_version": "~2.1.4"
      }
     },
     "b254c500814d4ec69c2d4d9c61b62062": {
      "model_module": "jupyter-js-widgets",
      "model_module_version": "~2.1.4",
      "model_name": "VBoxModel",
      "state": {
       "_model_module_version": "~2.1.4",
       "_view_module_version": "~2.1.4",
       "children": [
        "IPY_MODEL_95d055b3f59042e09f4d15400592e3a6",
        "IPY_MODEL_e5c092960cb544248ae8a26f3b758a1a",
        "IPY_MODEL_fab9360486be4003baa0d7d32c0edad9"
       ],
       "layout": "IPY_MODEL_3d17a1b3505d4b9ab6ec88a624156bd2"
      }
     },
     "b2d73e62f35540ee998f405fce2dc308": {
      "model_module": "jupyter-js-widgets",
      "model_module_version": "~2.1.4",
      "model_name": "LayoutModel",
      "state": {
       "_model_module_version": "~2.1.4",
       "_view_module_version": "~2.1.4"
      }
     },
     "b302a8ff68fe4c69be25744c105eec94": {
      "model_module": "jupyter-js-widgets",
      "model_module_version": "~2.1.4",
      "model_name": "CheckboxModel",
      "state": {
       "_model_module_version": "~2.1.4",
       "_view_module_version": "~2.1.4",
       "description": "Update GUI",
       "disabled": false,
       "layout": "IPY_MODEL_c85b598f757f4cee9dad838cd77a33eb",
       "value": true
      }
     },
     "b39a39ba93fc444b8d5774b80f92f3c2": {
      "model_module": "jupyter-js-widgets",
      "model_module_version": "~2.1.4",
      "model_name": "HBoxModel",
      "state": {
       "_model_module_version": "~2.1.4",
       "_view_module_version": "~2.1.4",
       "children": [
        "IPY_MODEL_2561d6f2ea5f46ca886b46f1c48c37af",
        "IPY_MODEL_cd056ca4717f4412a52e4d45a14a7290",
        "IPY_MODEL_1d9ff5c3d62a47c0907696f548f3595e"
       ],
       "layout": "IPY_MODEL_399ab22db04447c5bbed9db7ef17ca2a"
      }
     },
     "b410212338614828b9f11478eb7156ab": {
      "model_module": "jupyter-js-widgets",
      "model_module_version": "~2.1.4",
      "model_name": "VBoxModel",
      "state": {
       "_model_module_version": "~2.1.4",
       "_view_module_version": "~2.1.4",
       "children": [
        "IPY_MODEL_12a8e37d1703434d83145604f4d8edc4",
        "IPY_MODEL_b0c9966976594a78a28bb8079ac65dd9",
        "IPY_MODEL_fd3a6538ae864ebd83e505dac99b2e2c"
       ],
       "layout": "IPY_MODEL_1dee713a999944dabaf165f884b12fa8"
      }
     },
     "b436b5d7ed92416abc62b5660c7047a0": {
      "model_module": "jupyter-js-widgets",
      "model_module_version": "~2.1.4",
      "model_name": "ImageModel",
      "state": {
       "_b64value": "iVBORw0KGgoAAAANSUhEUgAAADwAAAAoCAIAAAAt2Q6oAAABEklEQVR4nO3WPUvEQBCA4dmZCflF/h8rS1sbe5tr/CiukQtikyKCNgfHgYUWckeaq7SwtbjCJrVZi4WwEAkxuUyyMG+xpNiQB3bZjcnevyC0cGxAlxQtlaKlUrRUipZK0VLx2IC/+9m9mloA4MYJoYu3FRERESIiNm2BSaD3z49RFDG3xfRCfzwkxhhErC+iv5r+Qz1rbRzH//oub5Oro+PTNlPzu5tq7VwNlEFjANgsLgHAepVlWY1ExMxut41CrBfkkadoqRQtVZBoBoCz85M2U2cXtwNj2ma+i8/OL8+v00PdiO4a9/89Gn6YeqEPVXq/Cg/tespewkP7rZd5eOjmgjzyFC2VoqVStFSKlipI9C+QbUwLHPAN0wAAAABJRU5ErkJggg==",
       "_model_module_version": "~2.1.4",
       "_view_module_version": "~2.1.4",
       "layout": "IPY_MODEL_f8050cf947c7479e9c0ad920b70fd2f5",
       "width": "240"
      }
     },
     "b46d350369e94909ba40a2a9da053a4f": {
      "model_module": "jupyter-js-widgets",
      "model_module_version": "~2.1.4",
      "model_name": "CheckboxModel",
      "state": {
       "_model_module_version": "~2.1.4",
       "_view_module_version": "~2.1.4",
       "description": "Update GUI",
       "disabled": false,
       "layout": "IPY_MODEL_cc44a0e8034d4c6e9dc877fa7b28cd9b",
       "value": true
      }
     },
     "b4839d4f1e4a4ddba1af380343c5d042": {
      "model_module": "jupyter-js-widgets",
      "model_module_version": "~2.1.4",
      "model_name": "LayoutModel",
      "state": {
       "_model_module_version": "~2.1.4",
       "_view_module_version": "~2.1.4"
      }
     },
     "b4aa2372008b47e49b3b36f7ba34bace": {
      "model_module": "jupyter-js-widgets",
      "model_module_version": "~2.1.4",
      "model_name": "LayoutModel",
      "state": {
       "_model_module_version": "~2.1.4",
       "_view_module_version": "~2.1.4"
      }
     },
     "b4cbae9db849427097fee68ab3527fe3": {
      "model_module": "jupyter-js-widgets",
      "model_module_version": "~2.1.4",
      "model_name": "LayoutModel",
      "state": {
       "_model_module_version": "~2.1.4",
       "_view_module_version": "~2.1.4"
      }
     },
     "b4ed04224b2b4fa1ba90e9e6ff89509c": {
      "model_module": "jupyter-js-widgets",
      "model_module_version": "~2.1.4",
      "model_name": "LayoutModel",
      "state": {
       "_model_module_version": "~2.1.4",
       "_view_module_version": "~2.1.4"
      }
     },
     "b54b81fef8d24e1cbebcff017864dabe": {
      "model_module": "jupyter-js-widgets",
      "model_module_version": "~2.1.4",
      "model_name": "HBoxModel",
      "state": {
       "_model_module_version": "~2.1.4",
       "_view_module_version": "~2.1.4",
       "children": [
        "IPY_MODEL_fd752678550f4d5b87ea50bf964d52bc",
        "IPY_MODEL_d83eff4a9d354049894e7583a700ce9a"
       ],
       "layout": "IPY_MODEL_2ddb5c2ccbd64cb0b8e4aa4c3cdc79c5"
      }
     },
     "b585d99644484b859e3a8a1482556d8a": {
      "model_module": "jupyter-js-widgets",
      "model_module_version": "~2.1.4",
      "model_name": "LayoutModel",
      "state": {
       "_model_module_version": "~2.1.4",
       "_view_module_version": "~2.1.4"
      }
     },
     "b5af13546d1041149b83ac645e648ecd": {
      "model_module": "jupyter-js-widgets",
      "model_module_version": "~2.1.4",
      "model_name": "HBoxModel",
      "state": {
       "_model_module_version": "~2.1.4",
       "_view_module_version": "~2.1.4",
       "children": [
        "IPY_MODEL_d9b2f9f279914815afe76e3a991d4303",
        "IPY_MODEL_374caacfc9fe47de9d9889a1ff2162d5"
       ],
       "layout": "IPY_MODEL_52879bc5c6774bf7af1a87a0ef9bbe60"
      }
     },
     "b5e1a4d3844c4fbd814db34115072ae7": {
      "model_module": "jupyter-js-widgets",
      "model_module_version": "~2.1.4",
      "model_name": "HTMLModel",
      "state": {
       "_model_module_version": "~2.1.4",
       "_view_module_version": "~2.1.4",
       "layout": "IPY_MODEL_e011f5dd40f346e58df08128c694ca89",
       "value": "<svg baseProfile=\"full\" height=\"240\" version=\"1.1\" width=\"240\" xmlns=\"http://www.w3.org/2000/svg\" xmlns:ev=\"http://www.w3.org/2001/xml-events\" xmlns:xlink=\"http://www.w3.org/1999/xlink\"><defs /><rect fill=\"white\" height=\"240\" stroke=\"#000000\" stroke-width=\"1\" width=\"240\" x=\"0\" y=\"0\" /><rect fill=\"#eef3dd\" height=\"240.0\" stroke=\"#bebebe\" stroke-width=\"1\" width=\"240.0\" x=\"0.0\" y=\"0.0\" /><circle cx=\"120.0\" cy=\"195.0\" fill=\"#ffff00\" r=\"15.0\" stroke=\"#ffff00\" stroke-width=\"1\" /><line fill=\"#800080\" stroke=\"#add8e6\" stroke-width=\"1\" x1=\"199.5\" x2=\"0.0\" y1=\"114.0\" y2=\"114.0\" /><line fill=\"#800080\" stroke=\"#add8e6\" stroke-width=\"1\" x1=\"201.0\" x2=\"0.0\" y1=\"109.80000000000001\" y2=\"16.07215199999999\" /><line fill=\"#800080\" stroke=\"#add8e6\" stroke-width=\"1\" x1=\"203.4\" x2=\"112.77724019461742\" y1=\"107.99999999999999\" y2=\"0.0\" /><line fill=\"#800080\" stroke=\"#add8e6\" stroke-width=\"1\" x1=\"207.0\" x2=\"178.4634099424212\" y1=\"106.5\" y2=\"0.0\" /><line fill=\"#800080\" stroke=\"#add8e6\" stroke-width=\"1\" x1=\"213.0\" x2=\"240.0\" y1=\"106.5\" y2=\"5.734632000000062\" /><line fill=\"#800080\" stroke=\"#add8e6\" stroke-width=\"1\" x1=\"216.6\" x2=\"240.0\" y1=\"107.99999999999999\" y2=\"80.11296600000001\" /><line fill=\"#800080\" stroke=\"#add8e6\" stroke-width=\"1\" x1=\"219.0\" x2=\"240.0\" y1=\"109.80000000000001\" y2=\"100.007538\" /><line fill=\"#800080\" stroke=\"#add8e6\" stroke-width=\"1\" x1=\"220.5\" x2=\"240.0\" y1=\"114.0\" y2=\"114.0\" /><line fill=\"#800080\" stroke=\"#add8e6\" stroke-width=\"1\" x1=\"220.5\" x2=\"240.0\" y1=\"126.0\" y2=\"126.0\" /><line fill=\"#800080\" stroke=\"#add8e6\" stroke-width=\"1\" x1=\"219.0\" x2=\"240.0\" y1=\"130.2\" y2=\"139.992462\" /><line fill=\"#800080\" stroke=\"#add8e6\" stroke-width=\"1\" x1=\"216.6\" x2=\"240.0\" y1=\"132.0\" y2=\"159.88703399999997\" /><line fill=\"#800080\" stroke=\"#add8e6\" stroke-width=\"1\" x1=\"213.0\" x2=\"240.0\" y1=\"133.5\" y2=\"234.26536799999994\" /><line fill=\"#800080\" stroke=\"#add8e6\" stroke-width=\"1\" x1=\"207.0\" x2=\"178.4634099424212\" y1=\"133.5\" y2=\"240.0\" /><line fill=\"#800080\" stroke=\"#add8e6\" stroke-width=\"1\" x1=\"203.4\" x2=\"112.7772401946174\" y1=\"132.0\" y2=\"240.0\" /><line fill=\"#800080\" stroke=\"#add8e6\" stroke-width=\"1\" x1=\"201.0\" x2=\"0.0\" y1=\"130.2\" y2=\"223.927848\" /><line fill=\"#800080\" stroke=\"#add8e6\" stroke-width=\"1\" x1=\"199.5\" x2=\"0.0\" y1=\"126.0\" y2=\"126.0\" /><line fill=\"#800080\" stroke=\"#a020f0\" stroke-width=\"1\" x1=\"210.0\" x2=\"2.1539193796210117\" y1=\"120.0\" y2=\"0.0\" /><line fill=\"#800080\" stroke=\"#a020f0\" stroke-width=\"1\" x1=\"210.0\" x2=\"240.0\" y1=\"120.0\" y2=\"102.67948799999999\" /><line fill=\"#800080\" stroke=\"#ffa500\" stroke-width=\"1\" x1=\"120.0\" x2=\"199.5\" y1=\"195.0\" y2=\"106.5\" /><line fill=\"#800080\" stroke=\"#ffa500\" stroke-width=\"1\" x1=\"120.0\" x2=\"220.5\" y1=\"195.0\" y2=\"106.5\" /><polygon fill=\"red\" points=\"205.2,106.5 199.5,111.0 199.5,129.0 205.2,133.5 214.8,133.5 220.5,129.0 220.5,111.0 214.8,106.5\" stroke=\"red\" stroke-width=\"1\" /><polygon points=\"-3.0,-3.0 0,0 3.0,-3.0 0,3.0\" stroke=\"black\" stroke-width=\"1\" transform=\"translate(210.0,120.0) rotate(180.0)\" /><polygon fill=\"black\" points=\"213.6,111.6 213.6,116.39999999999999 206.4,116.39999999999999 206.4,111.6\" stroke=\"black\" stroke-width=\"1\" /><circle cx=\"199.5\" cy=\"106.5\" fill=\"yellow\" r=\"1.5\" stroke=\"orange\" stroke-width=\"1\" /><circle cx=\"220.5\" cy=\"106.5\" fill=\"yellow\" r=\"1.5\" stroke=\"orange\" stroke-width=\"1\" /></svg>"
      }
     },
     "b6226e206b444e499480915426ed9b9d": {
      "model_module": "jupyter-js-widgets",
      "model_module_version": "~2.1.4",
      "model_name": "ButtonStyleModel",
      "state": {
       "_model_module_version": "~2.1.4",
       "_view_module_version": "~2.1.4"
      }
     },
     "b65c5baf626b49c8a9e6d47427070451": {
      "model_module": "jupyter-js-widgets",
      "model_module_version": "~2.1.4",
      "model_name": "LayoutModel",
      "state": {
       "_model_module_version": "~2.1.4",
       "_view_module_version": "~2.1.4"
      }
     },
     "b68200f601f14ccb87c75cd5bc0ad11b": {
      "model_module": "jupyter-js-widgets",
      "model_module_version": "~2.1.4",
      "model_name": "HBoxModel",
      "state": {
       "_model_module_version": "~2.1.4",
       "_view_module_version": "~2.1.4",
       "children": [
        "IPY_MODEL_ce9b8128ee2649d796bdd61eea499e27",
        "IPY_MODEL_56764dc2315b4482a610b1db9d214e82"
       ],
       "layout": "IPY_MODEL_2c94f30156a14e019a660894393e18a9"
      }
     },
     "b686e923cbc44ca1bff98e390c9a8d81": {
      "model_module": "jupyter-js-widgets",
      "model_module_version": "~2.1.4",
      "model_name": "VBoxModel",
      "state": {
       "_model_module_version": "~2.1.4",
       "_view_module_version": "~2.1.4",
       "children": [
        "IPY_MODEL_1db4a659216f447995f1ce6e567f6c92",
        "IPY_MODEL_4e41f9afb36540b899fcf0b446093e15"
       ],
       "layout": "IPY_MODEL_dd0d46705b4c496b950cc07de26b8d82"
      }
     },
     "b69cd116b91e4895810f68aa655a7946": {
      "model_module": "jupyter-js-widgets",
      "model_module_version": "~2.1.4",
      "model_name": "LayoutModel",
      "state": {
       "_model_module_version": "~2.1.4",
       "_view_module_version": "~2.1.4"
      }
     },
     "b6a2e5db89dd4244855b6f3dee24c8aa": {
      "model_module": "jupyter-js-widgets",
      "model_module_version": "~2.1.4",
      "model_name": "LayoutModel",
      "state": {
       "_model_module_version": "~2.1.4",
       "_view_module_version": "~2.1.4"
      }
     },
     "b6b8fc8dcdb6405eb50e032796477d8e": {
      "model_module": "jupyter-js-widgets",
      "model_module_version": "~2.1.4",
      "model_name": "PlayModel",
      "state": {
       "_model_module_version": "~2.1.4",
       "_view_module_version": "~2.1.4",
       "layout": "IPY_MODEL_ced27070621846f1a51c64df1937e975",
       "max": 1000000
      }
     },
     "b6c040eaba2941b79b7f0c7830d01b08": {
      "model_module": "jupyter-js-widgets",
      "model_module_version": "~2.1.4",
      "model_name": "VBoxModel",
      "state": {
       "_model_module_version": "~2.1.4",
       "_view_module_version": "~2.1.4",
       "children": [
        "IPY_MODEL_6135cb58cf744588a1f2a73a11fffcf8",
        "IPY_MODEL_15fcb599fb1f41d49342fcd07443d877"
       ],
       "layout": "IPY_MODEL_79872dc7f66f424282f1fc8983cce999"
      }
     },
     "b6e9f7f585f44d9d8cf111a6034fc3c7": {
      "model_module": "jupyter-js-widgets",
      "model_module_version": "~2.1.4",
      "model_name": "LayoutModel",
      "state": {
       "_model_module_version": "~2.1.4",
       "_view_module_version": "~2.1.4"
      }
     },
     "b733800228b34000ad31fd18e841ae7e": {
      "model_module": "jupyter-js-widgets",
      "model_module_version": "~2.1.4",
      "model_name": "ImageModel",
      "state": {
       "_b64value": "iVBORw0KGgoAAAANSUhEUgAAADwAAAAoCAIAAAAt2Q6oAAAA8klEQVR4nO3WPQvCMBCA4Vwu/esuunURcVAXEfzASQVdRHHRxUkHV3Fy0NnWoRhaSanUcuHg3iG00I+HBpLC6HRV3NK+AWUSNFWCpkrQVAmaKkFTZXwDvnsdNwAAAEqp9Jg+8IZ+7Bb6E2QrvJcafVtNjDGIiIilH1KMPo87zo/hnMG84jhOLguCoLTVjd53Q601ItpZS8b/X1NtZttqRFGktU5mzbfnp1gueYKmStBUsUTD/XmxJ/Va27lOV7u52B0xbxsv/PfIoJ01wwE/dLX1e3N+aNt0uOaHzms5O/BD/xLLJU/QVAmaKkFTJWiqWKLfk2M44hLONw4AAAAASUVORK5CYII=",
       "_model_module_version": "~2.1.4",
       "_view_module_version": "~2.1.4",
       "layout": "IPY_MODEL_344a7c784f084c29aad3c894ccbf99e5",
       "width": "240"
      }
     },
     "b7569b6a98a24007b22ca7e39280becf": {
      "model_module": "jupyter-js-widgets",
      "model_module_version": "~2.1.4",
      "model_name": "LayoutModel",
      "state": {
       "_model_module_version": "~2.1.4",
       "_view_module_version": "~2.1.4"
      }
     },
     "b7ac66336cef46a595db7c0fe8fdb517": {
      "model_module": "jupyter-js-widgets",
      "model_module_version": "~2.1.4",
      "model_name": "LayoutModel",
      "state": {
       "_model_module_version": "~2.1.4",
       "_view_module_version": "~2.1.4",
       "height": "20px",
       "padding": "0px 0px 0px 0px",
       "width": "248px"
      }
     },
     "b7b09e50c20b462bb030191978149f8e": {
      "model_module": "jupyter-js-widgets",
      "model_module_version": "~2.1.4",
      "model_name": "LayoutModel",
      "state": {
       "_model_module_version": "~2.1.4",
       "_view_module_version": "~2.1.4"
      }
     },
     "b7b37a156ed64402b9988dbb517ea780": {
      "model_module": "jupyter-js-widgets",
      "model_module_version": "~2.1.4",
      "model_name": "ButtonModel",
      "state": {
       "_model_module_version": "~2.1.4",
       "_view_module_version": "~2.1.4",
       "icon": "step-forward",
       "layout": "IPY_MODEL_f6842c6e9487489d838c0e6d83ab645b",
       "style": "IPY_MODEL_e0a96c98029b47169e6545a3c2363cf1"
      }
     },
     "b7ce18f2a5004f84957c46d54e1e99e9": {
      "model_module": "jupyter-js-widgets",
      "model_module_version": "~2.1.4",
      "model_name": "ButtonStyleModel",
      "state": {
       "_model_module_version": "~2.1.4",
       "_view_module_version": "~2.1.4"
      }
     },
     "b7e43f782f934f0dbf9bb57e88a97c76": {
      "model_module": "jupyter-js-widgets",
      "model_module_version": "~2.1.4",
      "model_name": "LayoutModel",
      "state": {
       "_model_module_version": "~2.1.4",
       "_view_module_version": "~2.1.4"
      }
     },
     "b8c659bc1e944ab293e5c3ffe5d366d2": {
      "model_module": "jupyter-js-widgets",
      "model_module_version": "~2.1.4",
      "model_name": "HTMLModel",
      "state": {
       "_model_module_version": "~2.1.4",
       "_view_module_version": "~2.1.4",
       "layout": "IPY_MODEL_093a775cd72c45f287af9a04c6924ff6",
       "value": "<svg baseProfile=\"full\" height=\"240\" version=\"1.1\" width=\"240\" xmlns=\"http://www.w3.org/2000/svg\" xmlns:ev=\"http://www.w3.org/2001/xml-events\" xmlns:xlink=\"http://www.w3.org/1999/xlink\"><defs /><rect fill=\"white\" height=\"240\" stroke=\"#000000\" stroke-width=\"1\" width=\"240\" x=\"0\" y=\"0\" /><rect fill=\"#eef3dd\" height=\"240.0\" stroke=\"#bebebe\" stroke-width=\"1\" width=\"240.0\" x=\"0.0\" y=\"0.0\" /><circle cx=\"120.0\" cy=\"195.0\" fill=\"#ffff00\" r=\"15.0\" stroke=\"#ffff00\" stroke-width=\"1\" /><line fill=\"#800080\" stroke=\"#add8e6\" stroke-width=\"1\" x1=\"199.5\" x2=\"0.0\" y1=\"114.0\" y2=\"114.0\" /><line fill=\"#800080\" stroke=\"#add8e6\" stroke-width=\"1\" x1=\"201.0\" x2=\"0.0\" y1=\"109.80000000000001\" y2=\"16.07215199999999\" /><line fill=\"#800080\" stroke=\"#add8e6\" stroke-width=\"1\" x1=\"203.4\" x2=\"112.77724019461742\" y1=\"107.99999999999999\" y2=\"0.0\" /><line fill=\"#800080\" stroke=\"#add8e6\" stroke-width=\"1\" x1=\"207.0\" x2=\"178.4634099424212\" y1=\"106.5\" y2=\"0.0\" /><line fill=\"#800080\" stroke=\"#add8e6\" stroke-width=\"1\" x1=\"213.0\" x2=\"240.0\" y1=\"106.5\" y2=\"5.734632000000062\" /><line fill=\"#800080\" stroke=\"#add8e6\" stroke-width=\"1\" x1=\"216.6\" x2=\"240.0\" y1=\"107.99999999999999\" y2=\"80.11296600000001\" /><line fill=\"#800080\" stroke=\"#add8e6\" stroke-width=\"1\" x1=\"219.0\" x2=\"240.0\" y1=\"109.80000000000001\" y2=\"100.007538\" /><line fill=\"#800080\" stroke=\"#add8e6\" stroke-width=\"1\" x1=\"220.5\" x2=\"240.0\" y1=\"114.0\" y2=\"114.0\" /><line fill=\"#800080\" stroke=\"#add8e6\" stroke-width=\"1\" x1=\"220.5\" x2=\"240.0\" y1=\"126.0\" y2=\"126.0\" /><line fill=\"#800080\" stroke=\"#add8e6\" stroke-width=\"1\" x1=\"219.0\" x2=\"240.0\" y1=\"130.2\" y2=\"139.992462\" /><line fill=\"#800080\" stroke=\"#add8e6\" stroke-width=\"1\" x1=\"216.6\" x2=\"240.0\" y1=\"132.0\" y2=\"159.88703399999997\" /><line fill=\"#800080\" stroke=\"#add8e6\" stroke-width=\"1\" x1=\"213.0\" x2=\"240.0\" y1=\"133.5\" y2=\"234.26536799999994\" /><line fill=\"#800080\" stroke=\"#add8e6\" stroke-width=\"1\" x1=\"207.0\" x2=\"178.4634099424212\" y1=\"133.5\" y2=\"240.0\" /><line fill=\"#800080\" stroke=\"#add8e6\" stroke-width=\"1\" x1=\"203.4\" x2=\"112.7772401946174\" y1=\"132.0\" y2=\"240.0\" /><line fill=\"#800080\" stroke=\"#add8e6\" stroke-width=\"1\" x1=\"201.0\" x2=\"0.0\" y1=\"130.2\" y2=\"223.927848\" /><line fill=\"#800080\" stroke=\"#add8e6\" stroke-width=\"1\" x1=\"199.5\" x2=\"0.0\" y1=\"126.0\" y2=\"126.0\" /><line fill=\"#800080\" stroke=\"#a020f0\" stroke-width=\"1\" x1=\"210.0\" x2=\"2.1539193796210117\" y1=\"120.0\" y2=\"0.0\" /><line fill=\"#800080\" stroke=\"#a020f0\" stroke-width=\"1\" x1=\"210.0\" x2=\"240.0\" y1=\"120.0\" y2=\"102.67948799999999\" /><line fill=\"#800080\" stroke=\"#ffa500\" stroke-width=\"1\" x1=\"120.0\" x2=\"199.5\" y1=\"195.0\" y2=\"106.5\" /><line fill=\"#800080\" stroke=\"#ffa500\" stroke-width=\"1\" x1=\"120.0\" x2=\"220.5\" y1=\"195.0\" y2=\"106.5\" /><polygon fill=\"red\" points=\"205.2,106.5 199.5,111.0 199.5,129.0 205.2,133.5 214.8,133.5 220.5,129.0 220.5,111.0 214.8,106.5\" stroke=\"red\" stroke-width=\"1\" /><polygon points=\"-3.0,-3.0 0,0 3.0,-3.0 0,3.0\" stroke=\"black\" stroke-width=\"1\" transform=\"translate(210.0,120.0) rotate(180.0)\" /><polygon fill=\"black\" points=\"213.6,111.6 213.6,116.39999999999999 206.4,116.39999999999999 206.4,111.6\" stroke=\"black\" stroke-width=\"1\" /><circle cx=\"199.5\" cy=\"106.5\" fill=\"yellow\" r=\"1.5\" stroke=\"orange\" stroke-width=\"1\" /><circle cx=\"220.5\" cy=\"106.5\" fill=\"yellow\" r=\"1.5\" stroke=\"orange\" stroke-width=\"1\" /></svg>"
      }
     },
     "b96ab371466941ba802b62ac86eb34fb": {
      "model_module": "jupyter-js-widgets",
      "model_module_version": "~2.1.4",
      "model_name": "LayoutModel",
      "state": {
       "_model_module_version": "~2.1.4",
       "_view_module_version": "~2.1.4"
      }
     },
     "b96df3dc04f64d80ac3e4f6d6b7525a4": {
      "model_module": "jupyter-js-widgets",
      "model_module_version": "~2.1.4",
      "model_name": "LayoutModel",
      "state": {
       "_model_module_version": "~2.1.4",
       "_view_module_version": "~2.1.4"
      }
     },
     "b96fefa165934cea8252d372ac5e6f7b": {
      "model_module": "jupyter-js-widgets",
      "model_module_version": "~2.1.4",
      "model_name": "LayoutModel",
      "state": {
       "_model_module_version": "~2.1.4",
       "_view_module_version": "~2.1.4"
      }
     },
     "b97a3ad8062842f88caf30c613f45d47": {
      "model_module": "jupyter-js-widgets",
      "model_module_version": "~2.1.4",
      "model_name": "HBoxModel",
      "state": {
       "_model_module_version": "~2.1.4",
       "_view_module_version": "~2.1.4",
       "children": [
        "IPY_MODEL_ebc561250f664b37915683b1a1cd0b12",
        "IPY_MODEL_a1df490164b64662b143abb9c4bb4d74"
       ],
       "layout": "IPY_MODEL_c314473eb676443ca3dcd4690fee03e9"
      }
     },
     "b9ea632ecf0c490abbb2402e95ed42b5": {
      "model_module": "jupyter-js-widgets",
      "model_module_version": "~2.1.4",
      "model_name": "VBoxModel",
      "state": {
       "_model_module_version": "~2.1.4",
       "_view_module_version": "~2.1.4",
       "children": [
        "IPY_MODEL_6dab7928b9a745268ceab55db36a6574",
        "IPY_MODEL_d639e4d430e941b193d9952f3983c5e4"
       ],
       "layout": "IPY_MODEL_cb29b0c89d8c4718b2acd327e8cfdff3"
      }
     },
     "b9edc46ed1cb44108c5e9a58d9576d02": {
      "model_module": "jupyter-js-widgets",
      "model_module_version": "~2.1.4",
      "model_name": "LayoutModel",
      "state": {
       "_model_module_version": "~2.1.4",
       "_view_module_version": "~2.1.4"
      }
     },
     "ba0eff0ddaf34641a1b6c9ae780041af": {
      "model_module": "jupyter-js-widgets",
      "model_module_version": "~2.1.4",
      "model_name": "TextModel",
      "state": {
       "_model_module_version": "~2.1.4",
       "_view_module_version": "~2.1.4",
       "description": "Time:",
       "layout": "IPY_MODEL_820fedd38ce74e0cae7bb6ca6423e211",
       "value": "0.00 seconds"
      }
     },
     "ba7128a0118141789cc4ae467086cbd7": {
      "model_module": "jupyter-js-widgets",
      "model_module_version": "~2.1.4",
      "model_name": "LayoutModel",
      "state": {
       "_model_module_version": "~2.1.4",
       "_view_module_version": "~2.1.4"
      }
     },
     "bab7b9ebd4654751a3fb8b677cfb84e1": {
      "model_module": "jupyter-js-widgets",
      "model_module_version": "~2.1.4",
      "model_name": "ButtonModel",
      "state": {
       "_model_module_version": "~2.1.4",
       "_view_module_version": "~2.1.4",
       "description": "Clear",
       "layout": "IPY_MODEL_2b7d7b042df143918d561e490d343b0d",
       "style": "IPY_MODEL_5a7e5d1a618d45eab53058fe595b89c3"
      }
     },
     "bae9062ba932449194e0c4f8822cae35": {
      "model_module": "jupyter-js-widgets",
      "model_module_version": "~2.1.4",
      "model_name": "VBoxModel",
      "state": {
       "_model_module_version": "~2.1.4",
       "_view_module_version": "~2.1.4",
       "children": [
        "IPY_MODEL_44ef5ecac9f243f0a47aa35ced98266d",
        "IPY_MODEL_70536c7857e54e719852f7560a655f21"
       ],
       "layout": "IPY_MODEL_abb77bdd58454964b9b50eab40f0844e"
      }
     },
     "bb39d5db5bf343e78109802a18a6c0b9": {
      "model_module": "jupyter-js-widgets",
      "model_module_version": "~2.1.4",
      "model_name": "LayoutModel",
      "state": {
       "_model_module_version": "~2.1.4",
       "_view_module_version": "~2.1.4"
      }
     },
     "bb4604b21dbc4cb7ab49a3e6b6eb25f0": {
      "model_module": "jupyter-js-widgets",
      "model_module_version": "~2.1.4",
      "model_name": "ImageModel",
      "state": {
       "_b64value": "iVBORw0KGgoAAAANSUhEUgAAADwAAAAoCAIAAAAt2Q6oAAAA8klEQVR4nO3WsQrCMBCA4ctd+uwuHbsoCCq4CNVB0KGOdXDo4iSCa0cXXaUOrVKDlkbl0sD9Q8jWj5TmquJDDr6FrgHfJGiuBM2VoLkSNFeC5kq7BgAA3Papeg0A6quxcYO+7hJEJCKlFCI+QS2zRudJDADGedQ3DRVFQURBEBCR7XPrvUcfF2NELM+gXI1357YKnU0ielRy3bKa09tBqLXWuhNfZMs6faKfEjRXgubKS7Q6X04AEPaGxj3dPFx+n4jGGLf696jQRv1o5h+6oelo5R/6Ly3nqX9oo8068w9tm5dXnqC5EjRXguZK0Fx5ib4DZCE5MMDH4PcAAAAASUVORK5CYII=",
       "_model_module_version": "~2.1.4",
       "_view_module_version": "~2.1.4",
       "layout": "IPY_MODEL_8815e2b4e97a4795974651fd87555060",
       "width": "240"
      }
     },
     "bb7fcd6d6f294edaa61fe179038edcbe": {
      "model_module": "jupyter-js-widgets",
      "model_module_version": "~2.1.4",
      "model_name": "HBoxModel",
      "state": {
       "_model_module_version": "~2.1.4",
       "_view_module_version": "~2.1.4",
       "children": [
        "IPY_MODEL_506fbf46d3fc4cc6a1c1a852f83ef460",
        "IPY_MODEL_febbfad7c7e1413bb78840fb2b3bee5f"
       ],
       "layout": "IPY_MODEL_4dac95fedb48403080c1757fc37ea55a"
      }
     },
     "bb8c6b3d1a174ca89db6fea834e0aeb5": {
      "model_module": "jupyter-js-widgets",
      "model_module_version": "~2.1.4",
      "model_name": "LayoutModel",
      "state": {
       "_model_module_version": "~2.1.4",
       "_view_module_version": "~2.1.4"
      }
     },
     "bb9f1db0a34a4746b63ad0102faa81d1": {
      "model_module": "jupyter-js-widgets",
      "model_module_version": "~2.1.4",
      "model_name": "LayoutModel",
      "state": {
       "_model_module_version": "~2.1.4",
       "_view_module_version": "~2.1.4"
      }
     },
     "bbc7b9774e3f4f4087445d62f2308f58": {
      "model_module": "jupyter-js-widgets",
      "model_module_version": "~2.1.4",
      "model_name": "LayoutModel",
      "state": {
       "_model_module_version": "~2.1.4",
       "_view_module_version": "~2.1.4"
      }
     },
     "bbd4310ab4e942c6bc946b5c5c1459aa": {
      "model_module": "jupyter-js-widgets",
      "model_module_version": "~2.1.4",
      "model_name": "ButtonStyleModel",
      "state": {
       "_model_module_version": "~2.1.4",
       "_view_module_version": "~2.1.4"
      }
     },
     "bbe182ad1bd34014abfaa5df0fed30f4": {
      "model_module": "jupyter-js-widgets",
      "model_module_version": "~2.1.4",
      "model_name": "VBoxModel",
      "state": {
       "_model_module_version": "~2.1.4",
       "_view_module_version": "~2.1.4",
       "children": [
        "IPY_MODEL_e4e6d81e811748338b01f2d325c2b8dd",
        "IPY_MODEL_37da67b290e0446bb18b2e3638b5179f",
        "IPY_MODEL_bc04c82129e243acb74e988171e53e17"
       ],
       "layout": "IPY_MODEL_8bbe6a93444f4220909e1084f9992b07"
      }
     },
     "bbf668c8b89344fe90ff5c21952264a6": {
      "model_module": "jupyter-js-widgets",
      "model_module_version": "~2.1.4",
      "model_name": "LayoutModel",
      "state": {
       "_model_module_version": "~2.1.4",
       "_view_module_version": "~2.1.4"
      }
     },
     "bc04c82129e243acb74e988171e53e17": {
      "model_module": "jupyter-js-widgets",
      "model_module_version": "~2.1.4",
      "model_name": "OutputModel",
      "state": {
       "_dom_classes": [],
       "_model_module": "jupyter-js-widgets",
       "_model_module_version": "~2.1.4",
       "_view_module": "jupyter-js-widgets",
       "_view_module_version": "~2.1.4",
       "layout": "IPY_MODEL_a5ec12963ed2427fab6408e6724e3945",
       "msg_throttle": 1
      }
     },
     "bc52becc5330492597ec5482a5f5ce88": {
      "model_module": "jupyter-js-widgets",
      "model_module_version": "~2.1.4",
      "model_name": "LayoutModel",
      "state": {
       "_model_module_version": "~2.1.4",
       "_view_module_version": "~2.1.4"
      }
     },
     "bcc179738b9642b48992e9a1b9d56404": {
      "model_module": "jupyter-js-widgets",
      "model_module_version": "~2.1.4",
      "model_name": "FloatSliderModel",
      "state": {
       "_model_module_version": "~2.1.4",
       "_view_module_version": "~2.1.4",
       "layout": "IPY_MODEL_37ea1f40f07b4d6bbc2da719199d1fe6",
       "readout": false,
       "step": 0.1,
       "value": 87.5
      }
     },
     "bd56d82e327f438aa9bf426cf8c133b9": {
      "model_module": "jupyter-js-widgets",
      "model_module_version": "~2.1.4",
      "model_name": "LayoutModel",
      "state": {
       "_model_module_version": "~2.1.4",
       "_view_module_version": "~2.1.4"
      }
     },
     "bd7c5df5fd3442f598c6037ca6f70254": {
      "model_module": "jupyter-js-widgets",
      "model_module_version": "~2.1.4",
      "model_name": "HTMLModel",
      "state": {
       "_model_module_version": "~2.1.4",
       "_view_module_version": "~2.1.4",
       "layout": "IPY_MODEL_18cb76def11644f9818d71004c7d97b9",
       "value": "<svg baseProfile=\"full\" height=\"240\" version=\"1.1\" width=\"240\" xmlns=\"http://www.w3.org/2000/svg\" xmlns:ev=\"http://www.w3.org/2001/xml-events\" xmlns:xlink=\"http://www.w3.org/1999/xlink\"><defs /><rect fill=\"white\" height=\"240\" stroke=\"#000000\" stroke-width=\"1\" width=\"240\" x=\"0\" y=\"0\" /><rect fill=\"#eef3dd\" height=\"240.0\" stroke=\"#bebebe\" stroke-width=\"1\" width=\"240.0\" x=\"0.0\" y=\"0.0\" /><circle cx=\"120.0\" cy=\"195.0\" fill=\"#ffff00\" r=\"15.0\" stroke=\"#ffff00\" stroke-width=\"1\" /><line fill=\"#800080\" stroke=\"#add8e6\" stroke-width=\"1\" x1=\"142.99811991888635\" x2=\"10.94997711557074\" y1=\"22.578193281167714\" y2=\"240.0\" /><line fill=\"#800080\" stroke=\"#add8e6\" stroke-width=\"1\" x1=\"140.1869686533452\" x2=\"0.0\" y1=\"19.11590667225644\" y2=\"112.70862000000001\" /><line fill=\"#800080\" stroke=\"#add8e6\" stroke-width=\"1\" x1=\"139.89432044069184\" x2=\"0.0\" y1=\"16.130214621218553\" y2=\"37.60745999999999\" /><line fill=\"#800080\" stroke=\"#add8e6\" stroke-width=\"1\" x1=\"140.4810051490808\" x2=\"98.42841814018303\" y1=\"12.274595208861765\" y2=\"0.0\" /><line fill=\"#800080\" stroke=\"#add8e6\" stroke-width=\"1\" x1=\"143.59559847008097\" x2=\"136.75971144734896\" y1=\"7.146310072017155\" y2=\"0.0\" /><line fill=\"#800080\" stroke=\"#add8e6\" stroke-width=\"1\" x1=\"146.7464257468922\" x2=\"145.102816792537\" y1=\"4.847987320160447\" y2=\"0.0\" /><line fill=\"#800080\" stroke=\"#add8e6\" stroke-width=\"1\" x1=\"149.53074861634568\" x2=\"149.94080089401535\" y1=\"3.731051261722662\" y2=\"0.0\" /><line fill=\"#800080\" stroke=\"#add8e6\" stroke-width=\"1\" x1=\"153.8991965423869\" x2=\"156.71067667945476\" y1=\"4.629195302211633\" y2=\"0.0\" /><line fill=\"#800080\" stroke=\"#add8e6\" stroke-width=\"1\" x1=\"164.1557668160761\" x2=\"170.75045258696085\" y1=\"10.858381944211954\" y2=\"0.0\" /><line fill=\"#800080\" stroke=\"#add8e6\" stroke-width=\"1\" x1=\"166.96691808161728\" x2=\"188.41699521799424\" y1=\"14.32066855312323\" y2=\"0.0\" /><line fill=\"#800080\" stroke=\"#add8e6\" stroke-width=\"1\" x1=\"167.2595662942706\" x2=\"240.0\" y1=\"17.306360604161117\" y2=\"6.138899999999996\" /><line fill=\"#800080\" stroke=\"#add8e6\" stroke-width=\"1\" x1=\"166.67288158588167\" x2=\"240.0\" y1=\"21.161980016517905\" y2=\"42.56520000000001\" /><line fill=\"#800080\" stroke=\"#add8e6\" stroke-width=\"1\" x1=\"163.5582882648815\" x2=\"240.0\" y1=\"26.290265153362515\" y2=\"106.20324\" /><line fill=\"#800080\" stroke=\"#add8e6\" stroke-width=\"1\" x1=\"160.40746098807026\" x2=\"232.0821655603739\" y1=\"28.58858790521922\" y2=\"240.0\" /><line fill=\"#800080\" stroke=\"#add8e6\" stroke-width=\"1\" x1=\"157.6231381186168\" x2=\"134.51107436529836\" y1=\"29.705523963657008\" y2=\"240.0\" /><line fill=\"#800080\" stroke=\"#add8e6\" stroke-width=\"1\" x1=\"153.25469019257554\" x2=\"24.98975666709423\" y1=\"28.807379923168035\" y2=\"240.0\" /><line fill=\"#800080\" stroke=\"#a020f0\" stroke-width=\"1\" x1=\"153.57694336748122\" x2=\"0.0\" y1=\"16.718287612689835\" y2=\"100.897386\" /><line fill=\"#800080\" stroke=\"#a020f0\" stroke-width=\"1\" x1=\"153.57694336748122\" x2=\"153.94810795930968\" y1=\"16.718287612689835\" y2=\"0.0\" /><line fill=\"#800080\" stroke=\"#ffa500\" stroke-width=\"1\" x1=\"120.0\" x2=\"136.5877634978306\" y1=\"195.0\" y2=\"18.6849516299175\" /><line fill=\"#800080\" stroke=\"#ffa500\" stroke-width=\"1\" x1=\"120.0\" x2=\"147.48884012133118\" y1=\"195.0\" y2=\"0.7359536509614184\" /><polygon fill=\"white\" points=\"139.54662715278073,13.813080749915132 140.43397735046403,21.020896620667635 155.81883276099782,30.364676583668118 162.62391026858143,27.82875069441588 167.6072595821817,19.62349447546454 166.7199093844984,12.415678604712035 151.33505397396465,3.0718986417115524 144.52997646638102,5.6078245309637875\" stroke=\"black\" stroke-width=\"1\" /><polygon points=\"-3.0,-3.0 0,0 3.0,-3.0 0,3.0\" stroke=\"black\" stroke-width=\"1\" transform=\"translate(153.57694336748122,16.718287612689835) rotate(121.27182599909001)\" /><polygon fill=\"black\" points=\"148.2661001684989,9.280885881182854 152.36872827797458,11.772560537982972 148.63121629277435,17.926502702196494 144.5285881832987,15.434828045396376\" stroke=\"black\" stroke-width=\"1\" /><circle cx=\"136.5877634978306\" cy=\"18.6849516299175\" fill=\"yellow\" r=\"1.5\" stroke=\"orange\" stroke-width=\"1\" /><circle cx=\"147.48884012133118\" cy=\"0.7359536509614184\" fill=\"yellow\" r=\"1.5\" stroke=\"orange\" stroke-width=\"1\" /></svg>"
      }
     },
     "bddb86bc44d74bd387067a45ca1ebabc": {
      "model_module": "jupyter-js-widgets",
      "model_module_version": "~2.1.4",
      "model_name": "LayoutModel",
      "state": {
       "_model_module_version": "~2.1.4",
       "_view_module_version": "~2.1.4"
      }
     },
     "be3ab621b77e49318127510b247a6b20": {
      "model_module": "jupyter-js-widgets",
      "model_module_version": "~2.1.4",
      "model_name": "LayoutModel",
      "state": {
       "_model_module_version": "~2.1.4",
       "_view_module_version": "~2.1.4"
      }
     },
     "be508566d5224465916071093ad6fc5d": {
      "model_module": "jupyter-js-widgets",
      "model_module_version": "~2.1.4",
      "model_name": "LayoutModel",
      "state": {
       "_model_module_version": "~2.1.4",
       "_view_module_version": "~2.1.4"
      }
     },
     "be5de267146040399e7417f52c4d07a7": {
      "model_module": "jupyter-js-widgets",
      "model_module_version": "~2.1.4",
      "model_name": "LayoutModel",
      "state": {
       "_model_module_version": "~2.1.4",
       "_view_module_version": "~2.1.4"
      }
     },
     "be60ccdfd946434b94e531c67ee6618c": {
      "model_module": "jupyter-js-widgets",
      "model_module_version": "~2.1.4",
      "model_name": "LayoutModel",
      "state": {
       "_model_module_version": "~2.1.4",
       "_view_module_version": "~2.1.4"
      }
     },
     "be6f4068fff248f0921ea275961138c5": {
      "model_module": "jupyter-js-widgets",
      "model_module_version": "~2.1.4",
      "model_name": "HBoxModel",
      "state": {
       "_model_module_version": "~2.1.4",
       "_view_module_version": "~2.1.4",
       "children": [
        "IPY_MODEL_99cb6d1c61f3468abed6e633e2f6887a",
        "IPY_MODEL_0de54be7d1fe4a4595b8daf8f308ff75",
        "IPY_MODEL_6e18e153a03049c485be53cf7c1d1fa2"
       ],
       "layout": "IPY_MODEL_940b531c82cb427f8f6e7e1d503db529"
      }
     },
     "be882de0cfc845b5b414bce93fa16ee4": {
      "model_module": "jupyter-js-widgets",
      "model_module_version": "~2.1.4",
      "model_name": "LayoutModel",
      "state": {
       "_model_module_version": "~2.1.4",
       "_view_module_version": "~2.1.4"
      }
     },
     "be9810b7a91449e0a6258b1e5b0f4517": {
      "model_module": "jupyter-js-widgets",
      "model_module_version": "~2.1.4",
      "model_name": "LayoutModel",
      "state": {
       "_model_module_version": "~2.1.4",
       "_view_module_version": "~2.1.4"
      }
     },
     "beba1945bdb04870b323f25265b9727d": {
      "model_module": "jupyter-js-widgets",
      "model_module_version": "~2.1.4",
      "model_name": "LayoutModel",
      "state": {
       "_model_module_version": "~2.1.4",
       "_view_module_version": "~2.1.4"
      }
     },
     "bf2c46dcc29c4419bd7ab81c518db5d1": {
      "model_module": "jupyter-js-widgets",
      "model_module_version": "~2.1.4",
      "model_name": "HTMLModel",
      "state": {
       "_model_module_version": "~2.1.4",
       "_view_module_version": "~2.1.4",
       "layout": "IPY_MODEL_5a6c1e29e5f34fd8a23507a716e0cab0",
       "value": "<svg baseProfile=\"full\" height=\"240\" version=\"1.1\" width=\"240\" xmlns=\"http://www.w3.org/2000/svg\" xmlns:ev=\"http://www.w3.org/2001/xml-events\" xmlns:xlink=\"http://www.w3.org/1999/xlink\"><defs /><rect fill=\"white\" height=\"240\" stroke=\"#000000\" stroke-width=\"1\" width=\"240\" x=\"0\" y=\"0\" /><rect fill=\"#eef3dd\" height=\"240.0\" stroke=\"#bebebe\" stroke-width=\"1\" width=\"240.0\" x=\"0.0\" y=\"0.0\" /><circle cx=\"120.0\" cy=\"195.0\" fill=\"#ffff00\" r=\"15.0\" stroke=\"#ffff00\" stroke-width=\"1\" /><line fill=\"#800080\" stroke=\"#add8e6\" stroke-width=\"1\" x1=\"90.11962551420041\" x2=\"199.0343690462096\" y1=\"185.64315272558989\" y2=\"0.0\" /><line fill=\"#800080\" stroke=\"#add8e6\" stroke-width=\"1\" x1=\"92.98315212673157\" x2=\"240.0\" y1=\"189.06224841587493\" y2=\"87.64085399999999\" /><line fill=\"#800080\" stroke=\"#add8e6\" stroke-width=\"1\" x1=\"93.32121300162068\" x2=\"240.0\" y1=\"192.04314003498308\" y2=\"167.233404\" /><line fill=\"#800080\" stroke=\"#add8e6\" stroke-width=\"1\" x1=\"92.79328438586633\" x2=\"240.0\" y1=\"195.90724295502386\" y2=\"236.453802\" /><line fill=\"#800080\" stroke=\"#add8e6\" stroke-width=\"1\" x1=\"89.75711184275912\" x2=\"128.13558158716558\" y1=\"201.0823425954638\" y2=\"240.0\" /><line fill=\"#800080\" stroke=\"#add8e6\" stroke-width=\"1\" x1=\"86.64163340678479\" x2=\"99.66444664405516\" y1=\"203.428359243951\" y2=\"240.0\" /><line fill=\"#800080\" stroke=\"#add8e6\" stroke-width=\"1\" x1=\"83.87463449740991\" x2=\"80.52738122131849\" y1=\"204.58754733719482\" y2=\"240.0\" /><line fill=\"#800080\" stroke=\"#add8e6\" stroke-width=\"1\" x1=\"79.49302161332514\" x2=\"58.22907777110387\" y1=\"203.75600146712975\" y2=\"240.0\" /><line fill=\"#800080\" stroke=\"#add8e6\" stroke-width=\"1\" x1=\"69.1428223324452\" x2=\"44.31630406761846\" y1=\"197.68365638091532\" y2=\"240.0\" /><line fill=\"#800080\" stroke=\"#add8e6\" stroke-width=\"1\" x1=\"66.27929571991405\" x2=\"0.0\" y1=\"194.26456069063028\" y2=\"239.988156\" /><line fill=\"#800080\" stroke=\"#add8e6\" stroke-width=\"1\" x1=\"65.94123484502494\" x2=\"0.0\" y1=\"191.2836690715221\" y2=\"202.43719199999998\" /><line fill=\"#800080\" stroke=\"#add8e6\" stroke-width=\"1\" x1=\"66.46916346077928\" x2=\"0.0\" y1=\"187.41956615148132\" y2=\"169.111326\" /><line fill=\"#800080\" stroke=\"#add8e6\" stroke-width=\"1\" x1=\"69.5053360038865\" x2=\"0.0\" y1=\"182.24446651104137\" y2=\"111.76263\" /><line fill=\"#800080\" stroke=\"#add8e6\" stroke-width=\"1\" x1=\"72.62081443986082\" x2=\"8.560681759515896\" y1=\"179.8984498625542\" y2=\"0.0\" /><line fill=\"#800080\" stroke=\"#add8e6\" stroke-width=\"1\" x1=\"75.3878133492357\" x2=\"92.28260252809393\" y1=\"178.73926176931036\" y2=\"0.0\" /><line fill=\"#800080\" stroke=\"#add8e6\" stroke-width=\"1\" x1=\"79.76942623332047\" x2=\"185.1215918225919\" y1=\"179.57080763937543\" y2=\"0.0\" /><line fill=\"#800080\" stroke=\"#a020f0\" stroke-width=\"1\" x1=\"79.6312239233228\" x2=\"240.0\" y1=\"191.6634045532526\" y2=\"100.56003599999998\" /><line fill=\"#800080\" stroke=\"#a020f0\" stroke-width=\"1\" x1=\"79.6312239233228\" x2=\"79.29404805805858\" y1=\"191.6634045532526\" y2=\"240.0\" /><line fill=\"#800080\" stroke=\"#ffa500\" stroke-width=\"1\" x1=\"120.0\" x2=\"96.58850006475036\" y1=\"195.0\" y2=\"189.43836840447392\" /><line fill=\"#800080\" stroke=\"#ffa500\" stroke-width=\"1\" x1=\"120.0\" x2=\"85.9618961638751\" y1=\"195.0\" y2=\"207.55121714601378\" /><polygon fill=\"red\" points=\"93.70413614879851,194.35471306289188 92.70717533442038,187.1612389971435 77.1818764131005,178.05272136782182 70.41618776681867,180.69193661890938 65.5583116978471,188.97209604361333 66.55527251222523,196.1655701093617 82.08057143354512,205.27408773868336 88.84626007982695,202.63487248759583\" stroke=\"red\" stroke-width=\"1\" /><polygon points=\"-3.0,-3.0 0,0 3.0,-3.0 0,3.0\" stroke=\"black\" stroke-width=\"1\" transform=\"translate(79.6312239233228,191.6634045532526) rotate(-59.60033260440819)\" /><polygon fill=\"black\" points=\"85.05465989407442,199.0191058978667 80.91458018172246,196.5901678633809 84.55798723345112,190.38004829485294 88.69806694580308,192.80898632933875\" stroke=\"black\" stroke-width=\"1\" /><circle cx=\"96.58850006475036\" cy=\"189.43836840447392\" fill=\"yellow\" r=\"1.5\" stroke=\"orange\" stroke-width=\"1\" /><circle cx=\"85.9618961638751\" cy=\"207.55121714601378\" fill=\"yellow\" r=\"1.5\" stroke=\"orange\" stroke-width=\"1\" /></svg>"
      }
     },
     "bf4903bbe04e4d9b818facff8881dff8": {
      "model_module": "jupyter-js-widgets",
      "model_module_version": "~2.1.4",
      "model_name": "LayoutModel",
      "state": {
       "_model_module_version": "~2.1.4",
       "_view_module_version": "~2.1.4",
       "height": "30px",
       "padding": "0px 0px 0px 10px",
       "width": "260px"
      }
     },
     "bf49fed890a34e8eb50b43d248229755": {
      "model_module": "jupyter-js-widgets",
      "model_module_version": "~2.1.4",
      "model_name": "FloatSliderModel",
      "state": {
       "_model_module_version": "~2.1.4",
       "_view_module_version": "~2.1.4",
       "layout": "IPY_MODEL_4016e3e966a34551a7baf407af29ea52",
       "readout": false,
       "step": 0.1,
       "value": 87.5
      }
     },
     "bf5258554ae1443e8dfc3a8500248653": {
      "model_module": "jupyter-js-widgets",
      "model_module_version": "~2.1.4",
      "model_name": "LayoutModel",
      "state": {
       "_model_module_version": "~2.1.4",
       "_view_module_version": "~2.1.4"
      }
     },
     "bfa261876f024a1098648bd7ae068730": {
      "model_module": "jupyter-js-widgets",
      "model_module_version": "~2.1.4",
      "model_name": "FloatSliderModel",
      "state": {
       "_model_module_version": "~2.1.4",
       "_view_module_version": "~2.1.4",
       "layout": "IPY_MODEL_bf4903bbe04e4d9b818facff8881dff8",
       "readout": false,
       "step": 0.1,
       "value": 87.5
      }
     },
     "bfc3a4aabc41463aa107f4d59a5ae2fb": {
      "model_module": "jupyter-js-widgets",
      "model_module_version": "~2.1.4",
      "model_name": "VBoxModel",
      "state": {
       "_model_module_version": "~2.1.4",
       "_view_module_version": "~2.1.4",
       "children": [
        "IPY_MODEL_d9f9ad80abfb46d19b5dc3d69ece29a1",
        "IPY_MODEL_a83ba5ae58b54a188de4e6839858567d"
       ],
       "layout": "IPY_MODEL_b4cbae9db849427097fee68ab3527fe3"
      }
     },
     "bfdd30c0ce944aa783a46f5c15a6e919": {
      "model_module": "jupyter-js-widgets",
      "model_module_version": "~2.1.4",
      "model_name": "LayoutModel",
      "state": {
       "_model_module_version": "~2.1.4",
       "_view_module_version": "~2.1.4"
      }
     },
     "c00eb2c8591a402fa109dc3486ece86a": {
      "model_module": "jupyter-js-widgets",
      "model_module_version": "~2.1.4",
      "model_name": "LayoutModel",
      "state": {
       "_model_module_version": "~2.1.4",
       "_view_module_version": "~2.1.4"
      }
     },
     "c08603de880c4c838e4271899de006fb": {
      "model_module": "jupyter-js-widgets",
      "model_module_version": "~2.1.4",
      "model_name": "ButtonModel",
      "state": {
       "_model_module_version": "~2.1.4",
       "_view_module_version": "~2.1.4",
       "icon": "step-forward",
       "layout": "IPY_MODEL_953926a6d54344258d3456975927676a",
       "style": "IPY_MODEL_de853ad765b844538c2335353f7cd0e8"
      }
     },
     "c08ff02623aa485899e4903e36823a0d": {
      "model_module": "jupyter-js-widgets",
      "model_module_version": "~2.1.4",
      "model_name": "FloatSliderModel",
      "state": {
       "_model_module_version": "~2.1.4",
       "_view_module_version": "~2.1.4",
       "layout": "IPY_MODEL_e14246f9bf9445599bb1f11f53333b33",
       "orientation": "vertical",
       "readout": false,
       "step": 0.1,
       "value": 50
      }
     },
     "c14015a336964dab8ea9e00bb4760792": {
      "model_module": "jupyter-js-widgets",
      "model_module_version": "~2.1.4",
      "model_name": "VBoxModel",
      "state": {
       "_model_module_version": "~2.1.4",
       "_view_module_version": "~2.1.4",
       "children": [
        "IPY_MODEL_66743524c78649d0b34508e41b4fa6b2",
        "IPY_MODEL_2daba476775440e7b8a5206ed8482b5f"
       ],
       "layout": "IPY_MODEL_aa7b22d634eb407dbf4289880ff2de44"
      }
     },
     "c1431d8171c74f319d016beb739a593c": {
      "model_module": "jupyter-js-widgets",
      "model_module_version": "~2.1.4",
      "model_name": "LayoutModel",
      "state": {
       "_model_module_version": "~2.1.4",
       "_view_module_version": "~2.1.4",
       "height": "20px",
       "padding": "0px 0px 0px 0px",
       "width": "248px"
      }
     },
     "c170fc89493d40e1a8d7bf5296092f87": {
      "model_module": "jupyter-js-widgets",
      "model_module_version": "~2.1.4",
      "model_name": "HBoxModel",
      "state": {
       "_model_module_version": "~2.1.4",
       "_view_module_version": "~2.1.4",
       "children": [
        "IPY_MODEL_28c98d24dd634f03b4419f5ec476206e",
        "IPY_MODEL_42d3a715012b45aaaeb7802260d89f04",
        "IPY_MODEL_3c377c731faf4cb3b357c4f0912e63a5"
       ],
       "layout": "IPY_MODEL_72abd0cbe1b7487092c222169c18be07"
      }
     },
     "c19a51ad18b34926bce67837dd6b95b8": {
      "model_module": "jupyter-js-widgets",
      "model_module_version": "~2.1.4",
      "model_name": "LayoutModel",
      "state": {
       "_model_module_version": "~2.1.4",
       "_view_module_version": "~2.1.4"
      }
     },
     "c25a3e89171b44be9feaae5791d525e9": {
      "model_module": "jupyter-js-widgets",
      "model_module_version": "~2.1.4",
      "model_name": "ButtonModel",
      "state": {
       "_model_module_version": "~2.1.4",
       "_view_module_version": "~2.1.4",
       "description": "Clear",
       "layout": "IPY_MODEL_b07a3dfcb7014dda9594185db64b294d",
       "style": "IPY_MODEL_17b23753c2a740a19859e2ab610cbf31"
      }
     },
     "c2b0f93462f84715aced61fcadab8b58": {
      "model_module": "jupyter-js-widgets",
      "model_module_version": "~2.1.4",
      "model_name": "VBoxModel",
      "state": {
       "_model_module_version": "~2.1.4",
       "_view_module_version": "~2.1.4",
       "children": [
        "IPY_MODEL_5b4571a2e7cf4b05875d5d6dbdccacb0",
        "IPY_MODEL_2c1ad1db134b4574a4df82b5726b1061"
       ],
       "layout": "IPY_MODEL_7494292773cf4bbf8aae0a89599a77f9"
      }
     },
     "c2b5dbe5fba8483ca70bf20cde3ab14a": {
      "model_module": "jupyter-js-widgets",
      "model_module_version": "~2.1.4",
      "model_name": "FloatSliderModel",
      "state": {
       "_model_module_version": "~2.1.4",
       "_view_module_version": "~2.1.4",
       "layout": "IPY_MODEL_d040a5bae2b74a97bb3419849941c49c",
       "readout": false,
       "step": 0.1,
       "value": 83.68661833308056
      }
     },
     "c2d992fa5ab0436892571127d4154626": {
      "model_module": "jupyter-js-widgets",
      "model_module_version": "~2.1.4",
      "model_name": "HBoxModel",
      "state": {
       "_model_module_version": "~2.1.4",
       "_view_module_version": "~2.1.4",
       "children": [
        "IPY_MODEL_e3f2b676ab0e4628b2a55bac653aa213",
        "IPY_MODEL_5a5fe5acdf964f728f89484d4f770594"
       ],
       "layout": "IPY_MODEL_82175de6e91d4250af516575f04a7f3c"
      }
     },
     "c314473eb676443ca3dcd4690fee03e9": {
      "model_module": "jupyter-js-widgets",
      "model_module_version": "~2.1.4",
      "model_name": "LayoutModel",
      "state": {
       "_model_module_version": "~2.1.4",
       "_view_module_version": "~2.1.4"
      }
     },
     "c349379e324a4ee3a3a8c16052b4b420": {
      "model_module": "jupyter-js-widgets",
      "model_module_version": "~2.1.4",
      "model_name": "LayoutModel",
      "state": {
       "_model_module_version": "~2.1.4",
       "_view_module_version": "~2.1.4"
      }
     },
     "c34dafdee8fa43159999b82638987eb6": {
      "model_module": "jupyter-js-widgets",
      "model_module_version": "~2.1.4",
      "model_name": "ButtonStyleModel",
      "state": {
       "_model_module_version": "~2.1.4",
       "_view_module_version": "~2.1.4"
      }
     },
     "c3572916f6e84c13aca779789c3e66e7": {
      "model_module": "jupyter-js-widgets",
      "model_module_version": "~2.1.4",
      "model_name": "LayoutModel",
      "state": {
       "_model_module_version": "~2.1.4",
       "_view_module_version": "~2.1.4"
      }
     },
     "c3912063fbb4416285081ec93ecf9c20": {
      "model_module": "jupyter-js-widgets",
      "model_module_version": "~2.1.4",
      "model_name": "LayoutModel",
      "state": {
       "_model_module_version": "~2.1.4",
       "_view_module_version": "~2.1.4",
       "height": "248px",
       "padding": "0px 0px 0px 0px",
       "width": "10px"
      }
     },
     "c3e4fed027a64e1c8f5cf97a66eb50a0": {
      "model_module": "jupyter-js-widgets",
      "model_module_version": "~2.1.4",
      "model_name": "OutputModel",
      "state": {
       "_dom_classes": [],
       "_model_module": "jupyter-js-widgets",
       "_model_module_version": "~2.1.4",
       "_view_module": "jupyter-js-widgets",
       "_view_module_version": "~2.1.4",
       "layout": "IPY_MODEL_42af8eb44a4b4bf6bff2127b8bd7c21e",
       "msg_throttle": 1
      }
     },
     "c3ff1b99c9c141a4817f04de36081a42": {
      "model_module": "jupyter-js-widgets",
      "model_module_version": "~2.1.4",
      "model_name": "LayoutModel",
      "state": {
       "_model_module_version": "~2.1.4",
       "_view_module_version": "~2.1.4",
       "height": "20px",
       "padding": "0px 0px 0px 0px",
       "width": "248px"
      }
     },
     "c426d973f1ba491396cbb335b2ff82d7": {
      "model_module": "jupyter-js-widgets",
      "model_module_version": "~2.1.4",
      "model_name": "LayoutModel",
      "state": {
       "_model_module_version": "~2.1.4",
       "_view_module_version": "~2.1.4"
      }
     },
     "c4537752a1ff4b4c84bad0565f396574": {
      "model_module": "jupyter-js-widgets",
      "model_module_version": "~2.1.4",
      "model_name": "LayoutModel",
      "state": {
       "_model_module_version": "~2.1.4",
       "_view_module_version": "~2.1.4"
      }
     },
     "c4884cd0e8a049c798674d7224b9e796": {
      "model_module": "jupyter-js-widgets",
      "model_module_version": "~2.1.4",
      "model_name": "OutputModel",
      "state": {
       "_dom_classes": [],
       "_model_module": "jupyter-js-widgets",
       "_model_module_version": "~2.1.4",
       "_view_module": "jupyter-js-widgets",
       "_view_module_version": "~2.1.4",
       "layout": "IPY_MODEL_40c6b7633f6a4da1bd74fe92ac78d0d5",
       "msg_throttle": 1
      }
     },
     "c48a04207ba54ce8bc50547427cd76e0": {
      "model_module": "jupyter-js-widgets",
      "model_module_version": "~2.1.4",
      "model_name": "LayoutModel",
      "state": {
       "_model_module_version": "~2.1.4",
       "_view_module_version": "~2.1.4",
       "height": "20px",
       "padding": "0px 0px 0px 0px",
       "width": "248px"
      }
     },
     "c491b588027749319ae73438b5639ab0": {
      "model_module": "jupyter-js-widgets",
      "model_module_version": "~2.1.4",
      "model_name": "LayoutModel",
      "state": {
       "_model_module_version": "~2.1.4",
       "_view_module_version": "~2.1.4"
      }
     },
     "c4c5330eb3c54dbd9be30d621d73ddc5": {
      "model_module": "jupyter-js-widgets",
      "model_module_version": "~2.1.4",
      "model_name": "LayoutModel",
      "state": {
       "_model_module_version": "~2.1.4",
       "_view_module_version": "~2.1.4"
      }
     },
     "c4c7b0459818492689bc6c3198a60786": {
      "model_module": "jupyter-js-widgets",
      "model_module_version": "~2.1.4",
      "model_name": "LayoutModel",
      "state": {
       "_model_module_version": "~2.1.4",
       "_view_module_version": "~2.1.4"
      }
     },
     "c502abfdc9c548568e29ca85227097f3": {
      "model_module": "jupyter-js-widgets",
      "model_module_version": "~2.1.4",
      "model_name": "LayoutModel",
      "state": {
       "_model_module_version": "~2.1.4",
       "_view_module_version": "~2.1.4"
      }
     },
     "c51b87cc00be44f9b7ab44693728339b": {
      "model_module": "jupyter-js-widgets",
      "model_module_version": "~2.1.4",
      "model_name": "TextModel",
      "state": {
       "_model_module_version": "~2.1.4",
       "_view_module_version": "~2.1.4",
       "description": "Time:",
       "layout": "IPY_MODEL_17a7e05b049247f8a04e3f0c3e4a85b4",
       "value": "0.10 seconds"
      }
     },
     "c580584ad2c44101ac10408639b030e4": {
      "model_module": "jupyter-js-widgets",
      "model_module_version": "~2.1.4",
      "model_name": "FloatSliderModel",
      "state": {
       "_model_module_version": "~2.1.4",
       "_view_module_version": "~2.1.4",
       "layout": "IPY_MODEL_04e84d95329b4fbbaa8751dc9c07c1a6",
       "readout": false,
       "step": 0.1,
       "value": 87.5
      }
     },
     "c5ae6453c60b42848320c4ec4f9c281a": {
      "model_module": "jupyter-js-widgets",
      "model_module_version": "~2.1.4",
      "model_name": "TextModel",
      "state": {
       "_model_module_version": "~2.1.4",
       "_view_module_version": "~2.1.4",
       "description": "Time:",
       "layout": "IPY_MODEL_d988a5cb4d25447181d501c139501e9b",
       "value": "7.80 seconds"
      }
     },
     "c5bc373a73b846359562513c6ed7429f": {
      "model_module": "jupyter-js-widgets",
      "model_module_version": "~2.1.4",
      "model_name": "CheckboxModel",
      "state": {
       "_model_module_version": "~2.1.4",
       "_view_module_version": "~2.1.4",
       "description": "Update GUI",
       "disabled": false,
       "layout": "IPY_MODEL_3b820d00df534bfe8a9bb76b8c9d57d0",
       "value": true
      }
     },
     "c67bb5c1fcf740ae973b21ef74a210d4": {
      "model_module": "jupyter-js-widgets",
      "model_module_version": "~2.1.4",
      "model_name": "LayoutModel",
      "state": {
       "_model_module_version": "~2.1.4",
       "_view_module_version": "~2.1.4",
       "height": "248px",
       "padding": "0px 0px 0px 0px",
       "width": "10px"
      }
     },
     "c69c85490fe04acd934c67a1d401fe88": {
      "model_module": "jupyter-js-widgets",
      "model_module_version": "~2.1.4",
      "model_name": "LayoutModel",
      "state": {
       "_model_module_version": "~2.1.4",
       "_view_module_version": "~2.1.4"
      }
     },
     "c7097cf9f08b481292bd8220aa5ba94b": {
      "model_module": "jupyter-js-widgets",
      "model_module_version": "~2.1.4",
      "model_name": "LayoutModel",
      "state": {
       "_model_module_version": "~2.1.4",
       "_view_module_version": "~2.1.4"
      }
     },
     "c717a4be0344428aa749fb2f72ff7934": {
      "model_module": "jupyter-js-widgets",
      "model_module_version": "~2.1.4",
      "model_name": "LayoutModel",
      "state": {
       "_model_module_version": "~2.1.4",
       "_view_module_version": "~2.1.4"
      }
     },
     "c72943e6625846039e52fa20aa4d4236": {
      "model_module": "jupyter-js-widgets",
      "model_module_version": "~2.1.4",
      "model_name": "HBoxModel",
      "state": {
       "_model_module_version": "~2.1.4",
       "_view_module_version": "~2.1.4",
       "children": [
        "IPY_MODEL_3a85d760959e4c59b651fddfcfb5d19a",
        "IPY_MODEL_af89730c543245fab1a4ec55a6d0a10e"
       ],
       "layout": "IPY_MODEL_ef81960a70154358a69584ddb9a2fdcf"
      }
     },
     "c749b3563ccf4639b3b1550b79f21fbe": {
      "model_module": "jupyter-js-widgets",
      "model_module_version": "~2.1.4",
      "model_name": "FloatSliderModel",
      "state": {
       "_model_module_version": "~2.1.4",
       "_view_module_version": "~2.1.4",
       "layout": "IPY_MODEL_c48a04207ba54ce8bc50547427cd76e0",
       "readout": false,
       "step": 0.1,
       "value": 78.6
      }
     },
     "c756c4330e454f5bb9212c7888e2616a": {
      "model_module": "jupyter-js-widgets",
      "model_module_version": "~2.1.4",
      "model_name": "LayoutModel",
      "state": {
       "_model_module_version": "~2.1.4",
       "_view_module_version": "~2.1.4"
      }
     },
     "c75ec2299f214b3d893dbb62d68c7ead": {
      "model_module": "jupyter-js-widgets",
      "model_module_version": "~2.1.4",
      "model_name": "LayoutModel",
      "state": {
       "_model_module_version": "~2.1.4",
       "_view_module_version": "~2.1.4"
      }
     },
     "c7dcf95628134884bd9a417e3bd18552": {
      "model_module": "jupyter-js-widgets",
      "model_module_version": "~2.1.4",
      "model_name": "LayoutModel",
      "state": {
       "_model_module_version": "~2.1.4",
       "_view_module_version": "~2.1.4"
      }
     },
     "c7fe1e8114f94ae4aec3a64af964757f": {
      "model_module": "jupyter-js-widgets",
      "model_module_version": "~2.1.4",
      "model_name": "LayoutModel",
      "state": {
       "_model_module_version": "~2.1.4",
       "_view_module_version": "~2.1.4"
      }
     },
     "c81c60946024403c93256925369363af": {
      "model_module": "jupyter-js-widgets",
      "model_module_version": "~2.1.4",
      "model_name": "PlayModel",
      "state": {
       "_model_module_version": "~2.1.4",
       "_view_module_version": "~2.1.4",
       "layout": "IPY_MODEL_74a4a076ec3444e48d37cd009d6dfdbe",
       "max": 1000000
      }
     },
     "c81d9156a9e24bd69020b031d43c6ff0": {
      "model_module": "jupyter-js-widgets",
      "model_module_version": "~2.1.4",
      "model_name": "LayoutModel",
      "state": {
       "_model_module_version": "~2.1.4",
       "_view_module_version": "~2.1.4"
      }
     },
     "c85883c52a2e4e2ba796377fb58c9d71": {
      "model_module": "jupyter-js-widgets",
      "model_module_version": "~2.1.4",
      "model_name": "LayoutModel",
      "state": {
       "_model_module_version": "~2.1.4",
       "_view_module_version": "~2.1.4"
      }
     },
     "c85b598f757f4cee9dad838cd77a33eb": {
      "model_module": "jupyter-js-widgets",
      "model_module_version": "~2.1.4",
      "model_name": "LayoutModel",
      "state": {
       "_model_module_version": "~2.1.4",
       "_view_module_version": "~2.1.4"
      }
     },
     "c87a70b56fe5433e8884f566286f1704": {
      "model_module": "jupyter-js-widgets",
      "model_module_version": "~2.1.4",
      "model_name": "TextModel",
      "state": {
       "_model_module_version": "~2.1.4",
       "_view_module_version": "~2.1.4",
       "description": "Time:",
       "layout": "IPY_MODEL_6221dbc9b7a0467eaf8273b8324dcaf1",
       "value": "0.0 seconds"
      }
     },
     "c8baa2b56eb247299289c12be79a75c1": {
      "model_module": "jupyter-js-widgets",
      "model_module_version": "~2.1.4",
      "model_name": "LayoutModel",
      "state": {
       "_model_module_version": "~2.1.4",
       "_view_module_version": "~2.1.4"
      }
     },
     "c8fe1ab8c64242c1ba31859ac4b265e2": {
      "model_module": "jupyter-js-widgets",
      "model_module_version": "~2.1.4",
      "model_name": "HBoxModel",
      "state": {
       "_model_module_version": "~2.1.4",
       "_view_module_version": "~2.1.4",
       "children": [
        "IPY_MODEL_60eb2adf796d4ba2a52e9c706f091402",
        "IPY_MODEL_499d726f14804d59872c4b3c895001b3"
       ],
       "layout": "IPY_MODEL_321cda134f264fdfacc70a4b38aee72a"
      }
     },
     "c97dbb607d614665aec89b460bb523a2": {
      "model_module": "jupyter-js-widgets",
      "model_module_version": "~2.1.4",
      "model_name": "LayoutModel",
      "state": {
       "_model_module_version": "~2.1.4",
       "_view_module_version": "~2.1.4"
      }
     },
     "c993286939164a8e8b83718688c15cc0": {
      "model_module": "jupyter-js-widgets",
      "model_module_version": "~2.1.4",
      "model_name": "FloatSliderModel",
      "state": {
       "_model_module_version": "~2.1.4",
       "_view_module_version": "~2.1.4",
       "layout": "IPY_MODEL_60e4095cad4f4bfaa9f61d88f5c090f8",
       "orientation": "vertical",
       "readout": false,
       "step": 0.1,
       "value": 56.79314491711832
      }
     },
     "c9ad806b13ac4d14bac8cd08497b39a4": {
      "model_module": "jupyter-js-widgets",
      "model_module_version": "~2.1.4",
      "model_name": "ButtonModel",
      "state": {
       "_model_module_version": "~2.1.4",
       "_view_module_version": "~2.1.4",
       "icon": "step-forward",
       "layout": "IPY_MODEL_31d2f73aeb5948878106a456bb6993f7",
       "style": "IPY_MODEL_5eb1918a9430436da90fde0830834530"
      }
     },
     "c9c62fea857240fc9585a4edc9f56897": {
      "model_module": "jupyter-js-widgets",
      "model_module_version": "~2.1.4",
      "model_name": "LayoutModel",
      "state": {
       "_model_module_version": "~2.1.4",
       "_view_module_version": "~2.1.4"
      }
     },
     "c9d7f1d23d2c4a54b1dda30d621357be": {
      "model_module": "jupyter-js-widgets",
      "model_module_version": "~2.1.4",
      "model_name": "LayoutModel",
      "state": {
       "_model_module_version": "~2.1.4",
       "_view_module_version": "~2.1.4"
      }
     },
     "c9e1686dd89443198e5cb8129d6a7449": {
      "model_module": "jupyter-js-widgets",
      "model_module_version": "~2.1.4",
      "model_name": "FloatSliderModel",
      "state": {
       "_model_module_version": "~2.1.4",
       "_view_module_version": "~2.1.4",
       "layout": "IPY_MODEL_5c1d1d7fbeb14a159d3a5639c73c6f3d",
       "readout": false,
       "step": 0.1,
       "value": 100
      }
     },
     "c9ed8c516bca4a94a7b4f4421fd6f0fd": {
      "model_module": "jupyter-js-widgets",
      "model_module_version": "~2.1.4",
      "model_name": "HTMLModel",
      "state": {
       "_model_module_version": "~2.1.4",
       "_view_module_version": "~2.1.4",
       "layout": "IPY_MODEL_bb9f1db0a34a4746b63ad0102faa81d1",
       "value": "<svg baseProfile=\"full\" height=\"240\" version=\"1.1\" width=\"240\" xmlns=\"http://www.w3.org/2000/svg\" xmlns:ev=\"http://www.w3.org/2001/xml-events\" xmlns:xlink=\"http://www.w3.org/1999/xlink\"><defs /><rect fill=\"white\" height=\"240\" stroke=\"#000000\" stroke-width=\"1\" width=\"240\" x=\"0\" y=\"0\" /><rect fill=\"#eef3dd\" height=\"240.0\" stroke=\"#bebebe\" stroke-width=\"1\" width=\"240.0\" x=\"0.0\" y=\"0.0\" /><circle cx=\"120.0\" cy=\"195.0\" fill=\"#ffff00\" r=\"15.0\" stroke=\"#ffff00\" stroke-width=\"1\" /><line fill=\"#800080\" stroke=\"#add8e6\" stroke-width=\"1\" x1=\"202.06953776962442\" x2=\"0.0\" y1=\"137.99740623916296\" y2=\"200.504832\" /><line fill=\"#800080\" stroke=\"#add8e6\" stroke-width=\"1\" x1=\"202.2613576353352\" x2=\"0.0\" y1=\"133.54171267484338\" y2=\"105.794832\" /><line fill=\"#800080\" stroke=\"#add8e6\" stroke-width=\"1\" x1=\"204.02222883724625\" x2=\"0.6627102048084247\" y1=\"131.11285849843009\" y2=\"0.0\" /><line fill=\"#800080\" stroke=\"#add8e6\" stroke-width=\"1\" x1=\"207.0181598881064\" x2=\"126.05967007407537\" y1=\"128.61598102076084\" y2=\"0.0\" /><line fill=\"#800080\" stroke=\"#add8e6\" stroke-width=\"1\" x1=\"212.75017882286005\" x2=\"207.9023442828892\" y1=\"126.8428597807928\" y2=\"0.0\" /><line fill=\"#800080\" stroke=\"#add8e6\" stroke-width=\"1\" x1=\"216.63267049370427\" x2=\"240.0\" y1=\"127.21199177050039\" y2=\"71.653896\" /><line fill=\"#800080\" stroke=\"#add8e6\" stroke-width=\"1\" x1=\"219.4574144395961\" x2=\"240.0\" y1=\"128.22234895493926\" y2=\"109.60282799999999\" /><line fill=\"#800080\" stroke=\"#add8e6\" stroke-width=\"1\" x1=\"222.13160404126214\" x2=\"240.0\" y1=\"131.79148189927483\" y2=\"126.26413799999999\" /><line fill=\"#800080\" stroke=\"#add8e6\" stroke-width=\"1\" x1=\"225.6778465211982\" x2=\"240.0\" y1=\"143.2555197687821\" y2=\"138.825156\" /><line fill=\"#800080\" stroke=\"#add8e6\" stroke-width=\"1\" x1=\"225.48602665548742\" x2=\"240.0\" y1=\"147.71121333310165\" y2=\"149.702292\" /><line fill=\"#800080\" stroke=\"#add8e6\" stroke-width=\"1\" x1=\"223.72515545357638\" x2=\"240.0\" y1=\"150.14006750951495\" y2=\"160.63302\" /><line fill=\"#800080\" stroke=\"#add8e6\" stroke-width=\"1\" x1=\"220.72922440271623\" x2=\"240.0\" y1=\"152.6369449871842\" y2=\"183.25176599999998\" /><line fill=\"#800080\" stroke=\"#add8e6\" stroke-width=\"1\" x1=\"214.99720546796257\" x2=\"218.26838641018975\" y1=\"154.4100662271522\" y2=\"240.0\" /><line fill=\"#800080\" stroke=\"#add8e6\" stroke-width=\"1\" x1=\"211.11471379711838\" x2=\"174.9609605865956\" y1=\"154.04093423744462\" y2=\"240.0\" /><line fill=\"#800080\" stroke=\"#add8e6\" stroke-width=\"1\" x1=\"208.28996985122652\" x2=\"112.33814849825636\" y1=\"153.03057705300574\" y2=\"240.0\" /><line fill=\"#800080\" stroke=\"#add8e6\" stroke-width=\"1\" x1=\"205.6157802495605\" x2=\"0.0\" y1=\"149.46144410867024\" y2=\"213.06585\" /><line fill=\"#800080\" stroke=\"#a020f0\" stroke-width=\"1\" x1=\"213.87369214541133\" x2=\"0.0\" y1=\"140.62646300397253\" y2=\"91.991328\" /><line fill=\"#800080\" stroke=\"#a020f0\" stroke-width=\"1\" x1=\"213.87369214541133\" x2=\"240.0\" y1=\"140.62646300397253\" y2=\"112.42374\" /><line fill=\"#800080\" stroke=\"#ffa500\" stroke-width=\"1\" x1=\"120.0\" x2=\"199.85313621966435\" y1=\"195.0\" y2=\"130.83238257072088\" /><line fill=\"#800080\" stroke=\"#ffa500\" stroke-width=\"1\" x1=\"120.0\" x2=\"219.9152024913021\" y1=\"195.0\" y2=\"124.62645823083278\" /><polygon fill=\"red\" points=\"205.2985542076803,129.14791739275125 201.1829771496404,135.13139677178611 206.50234086954447,152.32745357604705 213.27759978753647,154.94200259914263 222.44883008314233,152.10500861519378 226.56440714118222,146.12152923615892 221.24504342127813,128.92547243189802 214.46978450328615,126.3109234088024\" stroke=\"red\" stroke-width=\"1\" /><polygon points=\"-3.0,-3.0 0,0 3.0,-3.0 0,3.0\" stroke=\"black\" stroke-width=\"1\" transform=\"translate(213.87369214541133,140.62646300397253) rotate(162.81126614607535)\" /><polygon fill=\"black\" points=\"214.83053377030825,131.53776375133663 216.24903076228267,136.1233788991395 209.3706080405783,138.25112438710116 207.95211104860388,133.66550923929822\" stroke=\"black\" stroke-width=\"1\" /><circle cx=\"199.85313621966435\" cy=\"130.83238257072088\" fill=\"yellow\" r=\"1.5\" stroke=\"orange\" stroke-width=\"1\" /><circle cx=\"219.9152024913021\" cy=\"124.62645823083278\" fill=\"yellow\" r=\"1.5\" stroke=\"orange\" stroke-width=\"1\" /></svg>"
      }
     },
     "c9f3dcd1706e42e28c40a339bdf88c52": {
      "model_module": "jupyter-js-widgets",
      "model_module_version": "~2.1.4",
      "model_name": "ButtonStyleModel",
      "state": {
       "_model_module_version": "~2.1.4",
       "_view_module_version": "~2.1.4"
      }
     },
     "c9fd60f9700f4430934edac26e4a8573": {
      "model_module": "jupyter-js-widgets",
      "model_module_version": "~2.1.4",
      "model_name": "OutputModel",
      "state": {
       "_dom_classes": [],
       "_model_module": "jupyter-js-widgets",
       "_model_module_version": "~2.1.4",
       "_view_module": "jupyter-js-widgets",
       "_view_module_version": "~2.1.4",
       "layout": "IPY_MODEL_7adb9b149f144fbc99a1afb03b8deb70",
       "msg_throttle": 1
      }
     },
     "ca5b299a5bbd4bfbb1e96a5a6606359a": {
      "model_module": "jupyter-js-widgets",
      "model_module_version": "~2.1.4",
      "model_name": "LayoutModel",
      "state": {
       "_model_module_version": "~2.1.4",
       "_view_module_version": "~2.1.4"
      }
     },
     "ca7bb4e221e4421b890a169650018889": {
      "model_module": "jupyter-js-widgets",
      "model_module_version": "~2.1.4",
      "model_name": "ButtonModel",
      "state": {
       "_model_module_version": "~2.1.4",
       "_view_module_version": "~2.1.4",
       "icon": "step-forward",
       "layout": "IPY_MODEL_f385409bba1c4362933e45ae6ca34455",
       "style": "IPY_MODEL_7a68b828a40a46688c5a1ba9e7c5910b"
      }
     },
     "ca83761e0e0b4228a05c07062d210b97": {
      "model_module": "jupyter-js-widgets",
      "model_module_version": "~2.1.4",
      "model_name": "LayoutModel",
      "state": {
       "_model_module_version": "~2.1.4",
       "_view_module_version": "~2.1.4"
      }
     },
     "ca9607b1e3f74bc095abac74583f5172": {
      "model_module": "jupyter-js-widgets",
      "model_module_version": "~2.1.4",
      "model_name": "LayoutModel",
      "state": {
       "_model_module_version": "~2.1.4",
       "_view_module_version": "~2.1.4",
       "height": "248px",
       "padding": "0px 0px 0px 0px",
       "width": "10px"
      }
     },
     "caa3fb64d559425f99682b6b756721aa": {
      "model_module": "jupyter-js-widgets",
      "model_module_version": "~2.1.4",
      "model_name": "HBoxModel",
      "state": {
       "_model_module_version": "~2.1.4",
       "_view_module_version": "~2.1.4",
       "children": [
        "IPY_MODEL_90b1d768a2e04de9b6fb8f202f6e09fa",
        "IPY_MODEL_ccd8bfee0807465c91339f8b14fcf243",
        "IPY_MODEL_13a4550a97c3410fb4798082a9cac3ef"
       ],
       "layout": "IPY_MODEL_0074bf4c87734e14ab7780e5c53ad8a4"
      }
     },
     "cacb9fa8839d425a98f8b04879e9d0e6": {
      "model_module": "jupyter-js-widgets",
      "model_module_version": "~2.1.4",
      "model_name": "LayoutModel",
      "state": {
       "_model_module_version": "~2.1.4",
       "_view_module_version": "~2.1.4"
      }
     },
     "cb1f0f9e3fc841e2bc3d393e246797b5": {
      "model_module": "jupyter-js-widgets",
      "model_module_version": "~2.1.4",
      "model_name": "TextModel",
      "state": {
       "_model_module_version": "~2.1.4",
       "_view_module_version": "~2.1.4",
       "description": "Time:",
       "layout": "IPY_MODEL_e340cd7a8de14a7f816da4c7d766d1d8",
       "value": "1.50 seconds"
      }
     },
     "cb29b0c89d8c4718b2acd327e8cfdff3": {
      "model_module": "jupyter-js-widgets",
      "model_module_version": "~2.1.4",
      "model_name": "LayoutModel",
      "state": {
       "_model_module_version": "~2.1.4",
       "_view_module_version": "~2.1.4"
      }
     },
     "cb732f403d1b4d65aad7baf8c231e3d7": {
      "model_module": "jupyter-js-widgets",
      "model_module_version": "~2.1.4",
      "model_name": "ButtonStyleModel",
      "state": {
       "_model_module_version": "~2.1.4",
       "_view_module_version": "~2.1.4"
      }
     },
     "cbafed798d0147d58d9a1d3986f79dd1": {
      "model_module": "jupyter-js-widgets",
      "model_module_version": "~2.1.4",
      "model_name": "LayoutModel",
      "state": {
       "_model_module_version": "~2.1.4",
       "_view_module_version": "~2.1.4",
       "height": "20px",
       "padding": "0px 0px 0px 0px",
       "width": "248px"
      }
     },
     "cc44a0e8034d4c6e9dc877fa7b28cd9b": {
      "model_module": "jupyter-js-widgets",
      "model_module_version": "~2.1.4",
      "model_name": "LayoutModel",
      "state": {
       "_model_module_version": "~2.1.4",
       "_view_module_version": "~2.1.4"
      }
     },
     "cc71f4b25e7e4d089f661746a42f9d73": {
      "model_module": "jupyter-js-widgets",
      "model_module_version": "~2.1.4",
      "model_name": "ButtonStyleModel",
      "state": {
       "_model_module_version": "~2.1.4",
       "_view_module_version": "~2.1.4"
      }
     },
     "cc83a16e473f45348b8cfa8b126ef7cd": {
      "model_module": "jupyter-js-widgets",
      "model_module_version": "~2.1.4",
      "model_name": "VBoxModel",
      "state": {
       "_model_module_version": "~2.1.4",
       "_view_module_version": "~2.1.4",
       "children": [
        "IPY_MODEL_560f48e9f1d743df877ace0746fa2610",
        "IPY_MODEL_aee419371e1f4e538ed17e53a6dbdd94"
       ],
       "layout": "IPY_MODEL_f9e5d7be1de04c6b9cc4a7e22538171c"
      }
     },
     "cc8b4f9de0df461687436e6bd30799f1": {
      "model_module": "jupyter-js-widgets",
      "model_module_version": "~2.1.4",
      "model_name": "LayoutModel",
      "state": {
       "_model_module_version": "~2.1.4",
       "_view_module_version": "~2.1.4"
      }
     },
     "cc97ab567f3b43989f15264268ea4bca": {
      "model_module": "jupyter-js-widgets",
      "model_module_version": "~2.1.4",
      "model_name": "LayoutModel",
      "state": {
       "_model_module_version": "~2.1.4",
       "_view_module_version": "~2.1.4"
      }
     },
     "ccd8bfee0807465c91339f8b14fcf243": {
      "model_module": "jupyter-js-widgets",
      "model_module_version": "~2.1.4",
      "model_name": "PlayModel",
      "state": {
       "_model_module_version": "~2.1.4",
       "_view_module_version": "~2.1.4",
       "layout": "IPY_MODEL_37d66f3d721c4c3a835f3c36ac11d2f9",
       "max": 1000000,
       "value": 51
      }
     },
     "ccdf9d2898884f7ab1fdcbc892f63729": {
      "model_module": "jupyter-js-widgets",
      "model_module_version": "~2.1.4",
      "model_name": "LayoutModel",
      "state": {
       "_model_module_version": "~2.1.4",
       "_view_module_version": "~2.1.4",
       "height": "20px",
       "padding": "0px 0px 0px 0px",
       "width": "248px"
      }
     },
     "cd056ca4717f4412a52e4d45a14a7290": {
      "model_module": "jupyter-js-widgets",
      "model_module_version": "~2.1.4",
      "model_name": "PlayModel",
      "state": {
       "_model_module_version": "~2.1.4",
       "_view_module_version": "~2.1.4",
       "layout": "IPY_MODEL_09194058177348ecaf7758d3cf5dbe7e",
       "max": 1000000
      }
     },
     "cd112ee4568543d7848a53ab79c2a26c": {
      "model_module": "jupyter-js-widgets",
      "model_module_version": "~2.1.4",
      "model_name": "LayoutModel",
      "state": {
       "_model_module_version": "~2.1.4",
       "_view_module_version": "~2.1.4"
      }
     },
     "cd83fccf1b9c449f830104ec8db7e144": {
      "model_module": "jupyter-js-widgets",
      "model_module_version": "~2.1.4",
      "model_name": "FloatSliderModel",
      "state": {
       "_model_module_version": "~2.1.4",
       "_view_module_version": "~2.1.4",
       "layout": "IPY_MODEL_ccdf9d2898884f7ab1fdcbc892f63729",
       "readout": false,
       "step": 0.1,
       "value": 0.7887069872377594
      }
     },
     "cd897f9377d64bfdb3899b699358a3f1": {
      "model_module": "jupyter-js-widgets",
      "model_module_version": "~2.1.4",
      "model_name": "LayoutModel",
      "state": {
       "_model_module_version": "~2.1.4",
       "_view_module_version": "~2.1.4"
      }
     },
     "cdacaece25f44b4b932f776c2418a3a1": {
      "model_module": "jupyter-js-widgets",
      "model_module_version": "~2.1.4",
      "model_name": "PlayModel",
      "state": {
       "_model_module_version": "~2.1.4",
       "_view_module_version": "~2.1.4",
       "layout": "IPY_MODEL_941c7f9e2c8642c0a501fea18c168dc1",
       "max": 1000000
      }
     },
     "cdbe55d13222459382c02c080c40ae39": {
      "model_module": "jupyter-js-widgets",
      "model_module_version": "~2.1.4",
      "model_name": "ImageModel",
      "state": {
       "_b64value": "iVBORw0KGgoAAAANSUhEUgAAACgAAAA8CAIAAACb22+3AAACNUlEQVR4nO3Uu6oaQRwG8Blvb5Mn8Ho0oiCCjXi/oIjYCIKFhYWtRZqA+gDpAkvAMr2FhSAIIpKjeL8gGyQiKF5S7NnsjHFm93iwm6m+0d/+P9cdFnIcB7DVaDQAAKBYLGIfa39//dn+hNNmswkAAIVCQY62Wi0h5PN5IUCe5+/bdrsthFwuJzO20+kIIZvNytBut4sV02yv1xNCJpOh036/L8Z0Ok2lv2C5XH7LqVSKageDgRiTySSVDodDMSYSibsUis94NBqJ38bjcerY8XgsxlgsRqWTyUSM0WgUpfC1xOF2Op2KMRKJUMfOZjMxhsNhGp3P59ImFAohz1iBJY5dLBbSJhgMUuhyuRQCrFQqIBAIKLEAABm6Wq2kjd/vp1BYrVaV2neMXa/X0sbn8/1P/x0uBfYdY+Up5P+8PmGsPEVeIE+5MSKFtVrtmTdGpJDjqsrPzGazkTZer5dCt9uttPF4PLdUOlxgt9shFwK3200cu9/vUepyuYj0cDig1Ol0CgHyPH9rj8cjah0OB3Hs6XRCqd1uJ9Hz+YxKAL/z/GeCvVwumAU2m41Ar9crTq1WK+nHvhVLf/XLywvBQgjxqywWC4GqVCqcms3muxRy3A+lFgC1Wo1Tk8n0IEXuGGg0GtwajUbC2I9T4QVyY7VaLW4NBgNh7MMU1ut1stXpdPhYvV6P0C/fwMMLlkqlx6/+wFLJE1bMilkxK2bFrJgVs2JWzIpZMStmxayYFbNiVvzo+gtw0qQ7D+SUvwAAAABJRU5ErkJggg==",
       "_model_module_version": "~2.1.4",
       "_view_module_version": "~2.1.4",
       "layout": "IPY_MODEL_e188debe5ac24a40bf896a2a3ea0f266",
       "width": "240"
      }
     },
     "cdd900f23bd44b668503296e4a371293": {
      "model_module": "jupyter-js-widgets",
      "model_module_version": "~2.1.4",
      "model_name": "VBoxModel",
      "state": {
       "_model_module_version": "~2.1.4",
       "_view_module_version": "~2.1.4",
       "children": [
        "IPY_MODEL_0f9dec481b2941e1a39bc69953ec2780",
        "IPY_MODEL_0c74936908fd49e0b51a0d7847013ab8",
        "IPY_MODEL_8948a1b41da54a8fac356edb46625481"
       ],
       "layout": "IPY_MODEL_bfdd30c0ce944aa783a46f5c15a6e919"
      }
     },
     "ce5136ac31854c2bb66aeda9f602c305": {
      "model_module": "jupyter-js-widgets",
      "model_module_version": "~2.1.4",
      "model_name": "FloatSliderModel",
      "state": {
       "_model_module_version": "~2.1.4",
       "_view_module_version": "~2.1.4",
       "layout": "IPY_MODEL_3c75bab7d70e4727a67a0b94bc219036",
       "readout": false,
       "step": 0.1,
       "value": 99.44295769917836
      }
     },
     "ce9b8128ee2649d796bdd61eea499e27": {
      "model_module": "jupyter-js-widgets",
      "model_module_version": "~2.1.4",
      "model_name": "VBoxModel",
      "state": {
       "_model_module_version": "~2.1.4",
       "_view_module_version": "~2.1.4",
       "children": [
        "IPY_MODEL_c72943e6625846039e52fa20aa4d4236",
        "IPY_MODEL_4a64e0e3df51420ab3de7b3a9771ecf5"
       ],
       "layout": "IPY_MODEL_04b66a1e2aa44ab49c088d3114973498"
      }
     },
     "ceaafcaeb7db4519b93c4fed397f1991": {
      "model_module": "jupyter-js-widgets",
      "model_module_version": "~2.1.4",
      "model_name": "ImageModel",
      "state": {
       "_b64value": "iVBORw0KGgoAAAANSUhEUgAAACgAAAA8CAIAAACb22+3AAABPklEQVR4nO2XPU+DUBSG7/ngdzCVwY04uvjvXBzL4GCiki4mrUMTHdCwdDGmi5MxYe3ogMahhODQltACDdxLWpuedyAwcJ6XhxtygeHHTO0juBeqgAUsYAELWMACPm4wFy/S9wmsRylVPG6czHun2mDQ3nP9vAaISEQAgIhQyvbSXDe3LrNguLizbuiWZFlGRJZlERH/vr20am3bdk6qVP35cIuIi2nlmWmaJkkCABzHsXZrrCrtOE4T1ct3PL3r0ypYSGXrTlSD7/vaCyQMQ2ZmZo3SRqpd19Vf1VEUtW2dLxAT1WzSWkN1N6taVItqUV08ga/vSCl1eXF9SN/qs/OT8vSr/n2T0uB5nnZrkx3IUnXzDG4e1f9U3TCtnzjPeDTZqequsrbLfH6aHoBqwxzfv5OABSxgAQtYwLX5A/xat8kgPRscAAAAAElFTkSuQmCC",
       "_model_module_version": "~2.1.4",
       "_view_module_version": "~2.1.4",
       "layout": "IPY_MODEL_639ad82739844269b482d2fe5bd01ee5",
       "width": "240"
      }
     },
     "cec18006dd7847d7b5e4ae63a658ef0a": {
      "model_module": "jupyter-js-widgets",
      "model_module_version": "~2.1.4",
      "model_name": "HBoxModel",
      "state": {
       "_model_module_version": "~2.1.4",
       "_view_module_version": "~2.1.4",
       "children": [
        "IPY_MODEL_274f68fb0f3f4e2e9bbabf18978ca81a",
        "IPY_MODEL_c9ed8c516bca4a94a7b4f4421fd6f0fd"
       ],
       "layout": "IPY_MODEL_bf5258554ae1443e8dfc3a8500248653"
      }
     },
     "ced27070621846f1a51c64df1937e975": {
      "model_module": "jupyter-js-widgets",
      "model_module_version": "~2.1.4",
      "model_name": "LayoutModel",
      "state": {
       "_model_module_version": "~2.1.4",
       "_view_module_version": "~2.1.4"
      }
     },
     "cefda8653e6b46b1ac2ca86a7015357a": {
      "model_module": "jupyter-js-widgets",
      "model_module_version": "~2.1.4",
      "model_name": "LayoutModel",
      "state": {
       "_model_module_version": "~2.1.4",
       "_view_module_version": "~2.1.4"
      }
     },
     "cf10531ed3734a50bc0413780e39dc16": {
      "model_module": "jupyter-js-widgets",
      "model_module_version": "~2.1.4",
      "model_name": "LayoutModel",
      "state": {
       "_model_module_version": "~2.1.4",
       "_view_module_version": "~2.1.4"
      }
     },
     "cf6331f8cf9145848bd895e7ba019f5a": {
      "model_module": "jupyter-js-widgets",
      "model_module_version": "~2.1.4",
      "model_name": "HTMLModel",
      "state": {
       "_model_module_version": "~2.1.4",
       "_view_module_version": "~2.1.4",
       "layout": "IPY_MODEL_5eabf3e79ab44ccb92afc7b7238f7e1c",
       "value": "<svg baseProfile=\"full\" height=\"240\" version=\"1.1\" width=\"240\" xmlns=\"http://www.w3.org/2000/svg\" xmlns:ev=\"http://www.w3.org/2001/xml-events\" xmlns:xlink=\"http://www.w3.org/1999/xlink\"><defs /><rect fill=\"white\" height=\"240\" stroke=\"#000000\" stroke-width=\"1\" width=\"240\" x=\"0\" y=\"0\" /><rect fill=\"#eef3dd\" height=\"240.0\" stroke=\"#bebebe\" stroke-width=\"1\" width=\"240.0\" x=\"0.0\" y=\"0.0\" /><circle cx=\"120.0\" cy=\"195.0\" fill=\"#ffff00\" r=\"15.0\" stroke=\"#ffff00\" stroke-width=\"1\" /><line fill=\"#800080\" stroke=\"#add8e6\" stroke-width=\"1\" x1=\"199.29647346587737\" x2=\"0.0\" y1=\"111.37109959820461\" y2=\"118.34932799999999\" /><line fill=\"#800080\" stroke=\"#add8e6\" stroke-width=\"1\" x1=\"200.64858482032437\" x2=\"0.0\" y1=\"107.12118255369946\" y2=\"21.973026000000004\" /><line fill=\"#800080\" stroke=\"#add8e6\" stroke-width=\"1\" x1=\"202.98412783209295\" x2=\"108.20933355871675\" y1=\"105.23830209010676\" y2=\"0.0\" /><line fill=\"#800080\" stroke=\"#add8e6\" stroke-width=\"1\" x1=\"206.529433775271\" x2=\"174.84110042201567\" y1=\"103.61324646974592\" y2=\"0.0\" /><line fill=\"#800080\" stroke=\"#add8e6\" stroke-width=\"1\" x1=\"212.52575915041191\" x2=\"236.38811675880686\" y1=\"103.4032893421199\" y2=\"0.0\" /><line fill=\"#800080\" stroke=\"#add8e6\" stroke-width=\"1\" x1=\"216.176043657403\" x2=\"240.0\" y1=\"104.77639640932952\" y2=\"74.27725800000002\" /><line fill=\"#800080\" stroke=\"#add8e6\" stroke-width=\"1\" x1=\"218.63756094574717\" x2=\"240.0\" y1=\"106.49131117082139\" y2=\"95.60408999999999\" /><line fill=\"#800080\" stroke=\"#add8e6\" stroke-width=\"1\" x1=\"220.28361227887063\" x2=\"240.0\" y1=\"110.63624965151354\" y2=\"109.94589599999998\" /><line fill=\"#800080\" stroke=\"#add8e6\" stroke-width=\"1\" x1=\"220.70352653412263\" x2=\"240.0\" y1=\"122.62890040179542\" y2=\"121.95324600000001\" /><line fill=\"#800080\" stroke=\"#add8e6\" stroke-width=\"1\" x1=\"219.35141517967563\" x2=\"240.0\" y1=\"126.87881744630057\" y2=\"135.641346\" /><line fill=\"#800080\" stroke=\"#add8e6\" stroke-width=\"1\" x1=\"217.01587216790705\" x2=\"240.0\" y1=\"128.76169790989326\" y2=\"154.283364\" /><line fill=\"#800080\" stroke=\"#add8e6\" stroke-width=\"1\" x1=\"213.470566224729\" x2=\"240.0\" y1=\"130.3867535302541\" y2=\"217.131636\" /><line fill=\"#800080\" stroke=\"#add8e6\" stroke-width=\"1\" x1=\"207.47424084958809\" x2=\"182.22726449088904\" y1=\"130.59671065788012\" y2=\"240.0\" /><line fill=\"#800080\" stroke=\"#add8e6\" stroke-width=\"1\" x1=\"203.823956342597\" x2=\"117.29260723482744\" y1=\"129.2236035906705\" y2=\"240.0\" /><line fill=\"#800080\" stroke=\"#add8e6\" stroke-width=\"1\" x1=\"201.36243905425283\" x2=\"0.0\" y1=\"127.50868882917862\" y2=\"230.131668\" /><line fill=\"#800080\" stroke=\"#add8e6\" stroke-width=\"1\" x1=\"199.71638772112937\" x2=\"0.0\" y1=\"123.36375034848649\" y2=\"130.356678\" /><line fill=\"#800080\" stroke=\"#a020f0\" stroke-width=\"1\" x1=\"210.0\" x2=\"0.0\" y1=\"117.00000000000001\" y2=\"5.366183999999992\" /><line fill=\"#800080\" stroke=\"#a020f0\" stroke-width=\"1\" x1=\"210.0\" x2=\"240.0\" y1=\"117.00000000000001\" y2=\"98.250024\" /><line fill=\"#800080\" stroke=\"#ffa500\" stroke-width=\"1\" x1=\"120.0\" x2=\"199.03402705634483\" y1=\"195.0\" y2=\"103.87569287927845\" /><line fill=\"#800080\" stroke=\"#ffa500\" stroke-width=\"1\" x1=\"120.0\" x2=\"220.02116586933806\" y1=\"195.0\" y2=\"103.14084293258738\" /><polygon fill=\"red\" points=\"204.7305361627287,103.67623360803373 199.19149490206433,108.37293691063414 199.82136628494237,126.36191303605695 205.67534323704578,130.65969779616793 215.2694638372713,130.3237663919663 220.80850509793567,125.62706308936588 220.17863371505763,107.63808696394308 214.32465676295422,103.3403022038321\" stroke=\"red\" stroke-width=\"1\" /><polygon points=\"-3.0,-3.0 0,0 3.0,-3.0 0,3.0\" stroke=\"black\" stroke-width=\"1\" transform=\"translate(210.0,117.00000000000001) rotate(177.9946477170421)\" /><polygon fill=\"black\" points=\"213.30385524640815,108.4791701982271 213.47182094850893,113.27623049833983 206.2762304983398,113.52817905149107 206.108264796239,108.73111875137835\" stroke=\"black\" stroke-width=\"1\" /><circle cx=\"199.03402705634483\" cy=\"103.87569287927845\" fill=\"yellow\" r=\"1.5\" stroke=\"orange\" stroke-width=\"1\" /><circle cx=\"220.02116586933806\" cy=\"103.14084293258738\" fill=\"yellow\" r=\"1.5\" stroke=\"orange\" stroke-width=\"1\" /></svg>"
      }
     },
     "cf9689b325f045ee888c342634f4d24d": {
      "model_module": "jupyter-js-widgets",
      "model_module_version": "~2.1.4",
      "model_name": "LayoutModel",
      "state": {
       "_model_module_version": "~2.1.4",
       "_view_module_version": "~2.1.4"
      }
     },
     "cfb7bee77fcf49ab970a50587ccd91ab": {
      "model_module": "jupyter-js-widgets",
      "model_module_version": "~2.1.4",
      "model_name": "LayoutModel",
      "state": {
       "_model_module_version": "~2.1.4",
       "_view_module_version": "~2.1.4"
      }
     },
     "cfc2f435e47c47f2a85517f0f665b61d": {
      "model_module": "jupyter-js-widgets",
      "model_module_version": "~2.1.4",
      "model_name": "VBoxModel",
      "state": {
       "_model_module_version": "~2.1.4",
       "_view_module_version": "~2.1.4",
       "children": [
        "IPY_MODEL_7f3b267e381647759f00a5baae9a9bf1",
        "IPY_MODEL_108796b1517c42b18b13db4f42908831"
       ],
       "layout": "IPY_MODEL_9d333bcfedad4484bf64ca987d40a6d7"
      }
     },
     "cfdaea509dd1401b9301bb7f8af29ea3": {
      "model_module": "jupyter-js-widgets",
      "model_module_version": "~2.1.4",
      "model_name": "VBoxModel",
      "state": {
       "_model_module_version": "~2.1.4",
       "_view_module_version": "~2.1.4",
       "children": [
        "IPY_MODEL_d955287b151b4604b3361b8e748161a0",
        "IPY_MODEL_a7f1f024846e4db3be31d5caf7235194",
        "IPY_MODEL_0b5f3c59058a46e0a3a872667ccffeb5"
       ],
       "layout": "IPY_MODEL_a31f8ecb7247488eb5fa3d05f2670880"
      }
     },
     "cff82157d0be433d9b2542d993335528": {
      "model_module": "jupyter-js-widgets",
      "model_module_version": "~2.1.4",
      "model_name": "VBoxModel",
      "state": {
       "_model_module_version": "~2.1.4",
       "_view_module_version": "~2.1.4",
       "children": [
        "IPY_MODEL_2e14f92626a64effbadce08a1b941158",
        "IPY_MODEL_2569dc0487f74fc0b2ae1ef5cfc0180e",
        "IPY_MODEL_150af23f79364243b9d3a72afe24f0ca"
       ],
       "layout": "IPY_MODEL_4c40420a8aaf442689f0feed858003ba"
      }
     },
     "d012f2212eb14775bab8684e47f3faad": {
      "model_module": "jupyter-js-widgets",
      "model_module_version": "~2.1.4",
      "model_name": "FloatSliderModel",
      "state": {
       "_model_module_version": "~2.1.4",
       "_view_module_version": "~2.1.4",
       "layout": "IPY_MODEL_d2f9fbba1427471f942c125e7128fc0f",
       "readout": false,
       "step": 0.1,
       "value": 39.6376883121252
      }
     },
     "d040a5bae2b74a97bb3419849941c49c": {
      "model_module": "jupyter-js-widgets",
      "model_module_version": "~2.1.4",
      "model_name": "LayoutModel",
      "state": {
       "_model_module_version": "~2.1.4",
       "_view_module_version": "~2.1.4",
       "height": "20px",
       "padding": "0px 0px 0px 0px",
       "width": "248px"
      }
     },
     "d065502dfbd648dea56e4653cf7974a5": {
      "model_module": "jupyter-js-widgets",
      "model_module_version": "~2.1.4",
      "model_name": "HTMLModel",
      "state": {
       "_model_module_version": "~2.1.4",
       "_view_module_version": "~2.1.4",
       "layout": "IPY_MODEL_5d72c675c265496a812b3a1fd9c9a518",
       "value": "<svg baseProfile=\"full\" height=\"240\" version=\"1.1\" width=\"240\" xmlns=\"http://www.w3.org/2000/svg\" xmlns:ev=\"http://www.w3.org/2001/xml-events\" xmlns:xlink=\"http://www.w3.org/1999/xlink\"><defs /><rect fill=\"white\" height=\"240\" stroke=\"#000000\" stroke-width=\"1\" width=\"240\" x=\"0\" y=\"0\" /><rect fill=\"#eef3dd\" height=\"240.0\" stroke=\"#bebebe\" stroke-width=\"1\" width=\"240.0\" x=\"0.0\" y=\"0.0\" /><circle cx=\"120.0\" cy=\"195.0\" fill=\"#ffff00\" r=\"15.0\" stroke=\"#ffff00\" stroke-width=\"1\" /><line fill=\"#800080\" stroke=\"#add8e6\" stroke-width=\"1\" x1=\"198.60235120690578\" x2=\"98.77307142713248\" y1=\"124.0427221014161\" y2=\"240.0\" /><line fill=\"#800080\" stroke=\"#add8e6\" stroke-width=\"1\" x1=\"196.39806864499172\" x2=\"0.0\" y1=\"120.16572089078417\" y2=\"208.737102\" /><line fill=\"#800080\" stroke=\"#add8e6\" stroke-width=\"1\" x1=\"196.59980195537392\" x2=\"0.0\" y1=\"117.17251129714022\" y2=\"114.682518\" /><line fill=\"#800080\" stroke=\"#add8e6\" stroke-width=\"1\" x1=\"197.8118129964216\" x2=\"0.0\" y1=\"113.46562186847112\" y2=\"18.15621\" /><line fill=\"#800080\" stroke=\"#add8e6\" stroke-width=\"1\" x1=\"201.7264378054059\" x2=\"127.4986000317442\" y1=\"108.91856649109948\" y2=\"0.0\" /><line fill=\"#800080\" stroke=\"#add8e6\" stroke-width=\"1\" x1=\"205.2119765351394\" x2=\"187.71160241335326\" y1=\"107.16898946692255\" y2=\"0.0\" /><line fill=\"#800080\" stroke=\"#add8e6\" stroke-width=\"1\" x1=\"208.14194307194464\" x2=\"238.1360676563272\" y1=\"106.52455475866918\" y2=\"0.0\" /><line fill=\"#800080\" stroke=\"#add8e6\" stroke-width=\"1\" x1=\"212.30353803835087\" x2=\"240.0\" y1=\"108.1280282806153\" y2=\"75.95704200000002\" /><line fill=\"#800080\" stroke=\"#add8e6\" stroke-width=\"1\" x1=\"221.39764879309422\" x2=\"240.0\" y1=\"115.9572778985839\" y2=\"94.34961000000001\" /><line fill=\"#800080\" stroke=\"#add8e6\" stroke-width=\"1\" x1=\"223.60193135500828\" x2=\"240.0\" y1=\"119.83427910921583\" y2=\"112.43909999999998\" /><line fill=\"#800080\" stroke=\"#add8e6\" stroke-width=\"1\" x1=\"223.40019804462608\" x2=\"240.0\" y1=\"122.82748870285978\" y2=\"123.03772800000002\" /><line fill=\"#800080\" stroke=\"#add8e6\" stroke-width=\"1\" x1=\"222.1881870035784\" x2=\"240.0\" y1=\"126.53437813152888\" y2=\"135.116442\" /><line fill=\"#800080\" stroke=\"#add8e6\" stroke-width=\"1\" x1=\"218.2735621945941\" x2=\"240.0\" y1=\"131.08143350890055\" y2=\"162.961824\" /><line fill=\"#800080\" stroke=\"#add8e6\" stroke-width=\"1\" x1=\"214.7880234648606\" x2=\"232.28839758664674\" y1=\"132.83101053307743\" y2=\"240.0\" /><line fill=\"#800080\" stroke=\"#add8e6\" stroke-width=\"1\" x1=\"211.85805692805536\" x2=\"181.86393234367281\" y1=\"133.47544524133082\" y2=\"240.0\" /><line fill=\"#800080\" stroke=\"#add8e6\" stroke-width=\"1\" x1=\"207.69646196164913\" x2=\"114.60750188604784\" y1=\"131.87197171938473\" y2=\"240.0\" /><line fill=\"#800080\" stroke=\"#a020f0\" stroke-width=\"1\" x1=\"210.0\" x2=\"0.0\" y1=\"120.0\" y2=\"193.43550599999998\" /><line fill=\"#800080\" stroke=\"#a020f0\" stroke-width=\"1\" x1=\"210.0\" x2=\"232.72983499958175\" y1=\"120.0\" y2=\"0.0\" /><line fill=\"#800080\" stroke=\"#ffa500\" stroke-width=\"1\" x1=\"120.0\" x2=\"192.9185319851912\" y1=\"195.0\" y2=\"119.14944109018573\" /><line fill=\"#800080\" stroke=\"#ffa500\" stroke-width=\"1\" x1=\"120.0\" x2=\"206.6197188166363\" y1=\"195.0\" y2=\"103.2347472693849\" /><polygon fill=\"red\" points=\"196.6374255537263,114.82973848168265 196.32882351821996,122.08540969692395 209.96998965033495,133.82928412387687 217.0991747518988,132.44555012211205 223.3625744462737,125.17026151831737 223.67117648178004,117.91459030307605 210.03001034966505,106.17071587612313 202.9008252481012,107.55444987788798\" stroke=\"red\" stroke-width=\"1\" /><polygon points=\"-3.0,-3.0 0,0 3.0,-3.0 0,3.0\" stroke=\"black\" stroke-width=\"1\" transform=\"translate(210.0,120.0) rotate(130.7256296187492)\" /><polygon fill=\"black\" points=\"205.98289735707024,111.79129204099897 209.6205416589676,114.92299188818643 204.92299188818643,120.37945834103242 201.2853475862891,117.24775849384497\" stroke=\"black\" stroke-width=\"1\" /><circle cx=\"192.9185319851912\" cy=\"119.14944109018573\" fill=\"yellow\" r=\"1.5\" stroke=\"orange\" stroke-width=\"1\" /><circle cx=\"206.6197188166363\" cy=\"103.2347472693849\" fill=\"yellow\" r=\"1.5\" stroke=\"orange\" stroke-width=\"1\" /></svg>"
      }
     },
     "d079aaf499b742d69fbd54f7ddde2b57": {
      "model_module": "jupyter-js-widgets",
      "model_module_version": "~2.1.4",
      "model_name": "ImageModel",
      "state": {
       "_b64value": "iVBORw0KGgoAAAANSUhEUgAAADwAAAAoCAIAAAAt2Q6oAAABI0lEQVR4nO3XPQrCMBTA8feS9BJewPt4GT2CPYeLg4pOUhAHEZxcnHRwFZwEcZU4REuN/UhKm75g/0MxIOWH5KUVp8cL+BZrGlCmFu0qL9Eo5dd6dvJgLnW0ijg9Ha0iS8/b071ux5nDqoJBpOkuPj0Iuo2OPGruvEHUqmMun4ctACDiW/P5kLqME5U74u67CBEZY/hTDMpi5Vcx+rqec87Zp2pvHmexPQAgDIfJpZRSXTnnQRAIIYQQSbThL227Pbx892jRrvoDdL8/qMlhlR1aOz2a6g+2B5FatKssHuO3x7nwO+NR5OAxXjE62WKy8Q9t0mq5h/rQdYhLZzSIpMRggqYmhkI0QTHko2mKIes/IlmuSkcT56qEF0otL989WrSrXlA6WG+7JgkVAAAAAElFTkSuQmCC",
       "_model_module_version": "~2.1.4",
       "_view_module_version": "~2.1.4",
       "layout": "IPY_MODEL_bb8c6b3d1a174ca89db6fea834e0aeb5",
       "width": "240"
      }
     },
     "d0a73e1f65134105af8c2238c699293c": {
      "model_module": "jupyter-js-widgets",
      "model_module_version": "~2.1.4",
      "model_name": "ButtonStyleModel",
      "state": {
       "_model_module_version": "~2.1.4",
       "_view_module_version": "~2.1.4"
      }
     },
     "d0f0099cb4e5450ea4fc562ba8a0a19d": {
      "model_module": "jupyter-js-widgets",
      "model_module_version": "~2.1.4",
      "model_name": "LayoutModel",
      "state": {
       "_model_module_version": "~2.1.4",
       "_view_module_version": "~2.1.4"
      }
     },
     "d172d90ef23c49b096abf69e0ddbd8ed": {
      "model_module": "jupyter-js-widgets",
      "model_module_version": "~2.1.4",
      "model_name": "LayoutModel",
      "state": {
       "_model_module_version": "~2.1.4",
       "_view_module_version": "~2.1.4"
      }
     },
     "d1bcc976fbbe44c49193e51b5f2e370f": {
      "model_module": "jupyter-js-widgets",
      "model_module_version": "~2.1.4",
      "model_name": "LayoutModel",
      "state": {
       "_model_module_version": "~2.1.4",
       "_view_module_version": "~2.1.4"
      }
     },
     "d1c25ba74b42411cbc5791fe00acd7d0": {
      "model_module": "jupyter-js-widgets",
      "model_module_version": "~2.1.4",
      "model_name": "HBoxModel",
      "state": {
       "_model_module_version": "~2.1.4",
       "_view_module_version": "~2.1.4",
       "children": [
        "IPY_MODEL_3946da5a18b3491099a1f159fcafbf39",
        "IPY_MODEL_c5ae6453c60b42848320c4ec4f9c281a"
       ],
       "layout": "IPY_MODEL_af114e24a558453ca73451b77e2a971d"
      }
     },
     "d27a98e953c2475ca5fd90d23039e848": {
      "model_module": "jupyter-js-widgets",
      "model_module_version": "~2.1.4",
      "model_name": "LayoutModel",
      "state": {
       "_model_module_version": "~2.1.4",
       "_view_module_version": "~2.1.4",
       "height": "20px",
       "padding": "0px 0px 0px 0px",
       "width": "248px"
      }
     },
     "d2ed5047c25f45acb6bb3647df14aa7a": {
      "model_module": "jupyter-js-widgets",
      "model_module_version": "~2.1.4",
      "model_name": "LayoutModel",
      "state": {
       "_model_module_version": "~2.1.4",
       "_view_module_version": "~2.1.4"
      }
     },
     "d2f9fbba1427471f942c125e7128fc0f": {
      "model_module": "jupyter-js-widgets",
      "model_module_version": "~2.1.4",
      "model_name": "LayoutModel",
      "state": {
       "_model_module_version": "~2.1.4",
       "_view_module_version": "~2.1.4",
       "height": "30px",
       "padding": "0px 0px 0px 10px",
       "width": "260px"
      }
     },
     "d2fd1b2e419c4964aa9631d7e4b18294": {
      "model_module": "jupyter-js-widgets",
      "model_module_version": "~2.1.4",
      "model_name": "LayoutModel",
      "state": {
       "_model_module_version": "~2.1.4",
       "_view_module_version": "~2.1.4",
       "height": "20px",
       "padding": "0px 0px 0px 0px",
       "width": "248px"
      }
     },
     "d3415cc7212e4194adf34775f359f2e7": {
      "model_module": "jupyter-js-widgets",
      "model_module_version": "~2.1.4",
      "model_name": "LayoutModel",
      "state": {
       "_model_module_version": "~2.1.4",
       "_view_module_version": "~2.1.4"
      }
     },
     "d40f51258b404f16be3bd4dc26f55a8e": {
      "model_module": "jupyter-js-widgets",
      "model_module_version": "~2.1.4",
      "model_name": "LayoutModel",
      "state": {
       "_model_module_version": "~2.1.4",
       "_view_module_version": "~2.1.4"
      }
     },
     "d4a40f8225184ebfab8d255c1114d587": {
      "model_module": "jupyter-js-widgets",
      "model_module_version": "~2.1.4",
      "model_name": "VBoxModel",
      "state": {
       "_model_module_version": "~2.1.4",
       "_view_module_version": "~2.1.4",
       "children": [
        "IPY_MODEL_a6891ca6758d4e8a9818ea0cc810e673",
        "IPY_MODEL_9d1ed2a61e60490ab463b408a74f2258"
       ],
       "layout": "IPY_MODEL_5202cd505d2140599c8b55cc18f1a7d7"
      }
     },
     "d4c507f9a7914fada20fc6c6ac00073d": {
      "model_module": "jupyter-js-widgets",
      "model_module_version": "~2.1.4",
      "model_name": "LayoutModel",
      "state": {
       "_model_module_version": "~2.1.4",
       "_view_module_version": "~2.1.4",
       "height": "248px",
       "padding": "0px 0px 0px 0px",
       "width": "10px"
      }
     },
     "d4d16f3c8b35428584467e3a79746828": {
      "model_module": "jupyter-js-widgets",
      "model_module_version": "~2.1.4",
      "model_name": "LayoutModel",
      "state": {
       "_model_module_version": "~2.1.4",
       "_view_module_version": "~2.1.4"
      }
     },
     "d5982ec0f2fa424e95f42b1afe0ea27a": {
      "model_module": "jupyter-js-widgets",
      "model_module_version": "~2.1.4",
      "model_name": "ButtonModel",
      "state": {
       "_model_module_version": "~2.1.4",
       "_view_module_version": "~2.1.4",
       "icon": "step-forward",
       "layout": "IPY_MODEL_22165ab1284349bbb7338a403c6158e1",
       "style": "IPY_MODEL_597abce3bab1403aa8e9ce2495d497f9"
      }
     },
     "d5b3148ba7044006a099e20bfb5c7867": {
      "model_module": "jupyter-js-widgets",
      "model_module_version": "~2.1.4",
      "model_name": "FloatSliderModel",
      "state": {
       "_model_module_version": "~2.1.4",
       "_view_module_version": "~2.1.4",
       "layout": "IPY_MODEL_a96b783347bd4a309c3e074774ad7f95",
       "readout": false,
       "step": 0.1,
       "value": 87.5
      }
     },
     "d61acb300559474cb818b149dfb3bf70": {
      "model_module": "jupyter-js-widgets",
      "model_module_version": "~2.1.4",
      "model_name": "LayoutModel",
      "state": {
       "_model_module_version": "~2.1.4",
       "_view_module_version": "~2.1.4",
       "height": "248px",
       "padding": "0px 0px 0px 0px",
       "width": "10px"
      }
     },
     "d639e4d430e941b193d9952f3983c5e4": {
      "model_module": "jupyter-js-widgets",
      "model_module_version": "~2.1.4",
      "model_name": "HBoxModel",
      "state": {
       "_model_module_version": "~2.1.4",
       "_view_module_version": "~2.1.4",
       "children": [
        "IPY_MODEL_ebc5f21af9104aa59644318053a83824",
        "IPY_MODEL_95d4d3123fdb46cb8f5062b85593c82f"
       ],
       "layout": "IPY_MODEL_168271c762f346f883de35424656a26d"
      }
     },
     "d647c66ad0c04166bde94a5cc0ca6317": {
      "model_module": "jupyter-js-widgets",
      "model_module_version": "~2.1.4",
      "model_name": "VBoxModel",
      "state": {
       "_model_module_version": "~2.1.4",
       "_view_module_version": "~2.1.4",
       "children": [
        "IPY_MODEL_bb7fcd6d6f294edaa61fe179038edcbe",
        "IPY_MODEL_c580584ad2c44101ac10408639b030e4"
       ],
       "layout": "IPY_MODEL_fc9fe9857928487db67aa333444a424e"
      }
     },
     "d6ee39962bd2411183302576d945b05b": {
      "model_module": "jupyter-js-widgets",
      "model_module_version": "~2.1.4",
      "model_name": "ImageModel",
      "state": {
       "_b64value": "iVBORw0KGgoAAAANSUhEUgAAADwAAAAoCAIAAAAt2Q6oAAAA8klEQVR4nO3WsQrCMBCA4ctd+uwuHbsoCCq4CNVB0KGOdXDo4iSCa0cXXaUOrVKDlkbl0sD9Q8jWj5TmquJDDr6FrgHfJGiuBM2VoLkSNFeC5kq7BgAA3Papeg0A6quxcYO+7hJEJCKlFCI+QS2zRudJDADGedQ3DRVFQURBEBCR7XPrvUcfF2NELM+gXI1357YKnU0ielRy3bKa09tBqLXWuhNfZMs6faKfEjRXgubKS7Q6X04AEPaGxj3dPFx+n4jGGLf696jQRv1o5h+6oelo5R/6Ly3nqX9oo8068w9tm5dXnqC5EjRXguZK0Fx5ib4DZCE5MMDH4PcAAAAASUVORK5CYII=",
       "_model_module_version": "~2.1.4",
       "_view_module_version": "~2.1.4",
       "layout": "IPY_MODEL_1129e2350935478cbf9fd7574a0ef86b",
       "width": "240"
      }
     },
     "d70c04705e154822a14cb99358015784": {
      "model_module": "jupyter-js-widgets",
      "model_module_version": "~2.1.4",
      "model_name": "LayoutModel",
      "state": {
       "_model_module_version": "~2.1.4",
       "_view_module_version": "~2.1.4",
       "height": "248px",
       "padding": "0px 0px 0px 0px",
       "width": "10px"
      }
     },
     "d72015ede7194ba69baeba3e32c7c659": {
      "model_module": "jupyter-js-widgets",
      "model_module_version": "~2.1.4",
      "model_name": "LayoutModel",
      "state": {
       "_model_module_version": "~2.1.4",
       "_view_module_version": "~2.1.4"
      }
     },
     "d78777e3d3d3483b8b5adfe44ac8f684": {
      "model_module": "jupyter-js-widgets",
      "model_module_version": "~2.1.4",
      "model_name": "LayoutModel",
      "state": {
       "_model_module_version": "~2.1.4",
       "_view_module_version": "~2.1.4"
      }
     },
     "d7a18c1ebad8409cab8523fed768a304": {
      "model_module": "jupyter-js-widgets",
      "model_module_version": "~2.1.4",
      "model_name": "ButtonModel",
      "state": {
       "_model_module_version": "~2.1.4",
       "_view_module_version": "~2.1.4",
       "description": "Clear",
       "layout": "IPY_MODEL_3f6e4d61f42545418810257e3af8b934",
       "style": "IPY_MODEL_349d99779ba14060a0aa91cc2690300f"
      }
     },
     "d7af7336fb7d42448a5b3cad2ed828e5": {
      "model_module": "jupyter-js-widgets",
      "model_module_version": "~2.1.4",
      "model_name": "ButtonStyleModel",
      "state": {
       "_model_module_version": "~2.1.4",
       "_view_module_version": "~2.1.4"
      }
     },
     "d7f89af9e2e74f569453535e39c93ee4": {
      "model_module": "jupyter-js-widgets",
      "model_module_version": "~2.1.4",
      "model_name": "ButtonModel",
      "state": {
       "_model_module_version": "~2.1.4",
       "_view_module_version": "~2.1.4",
       "description": "Clear",
       "layout": "IPY_MODEL_ff66e5702be344638c15146764015ee4",
       "style": "IPY_MODEL_0a8f1ecc85904572a47c7cb9030474ad"
      }
     },
     "d818bc5763134096bb99408a3652c4d1": {
      "model_module": "jupyter-js-widgets",
      "model_module_version": "~2.1.4",
      "model_name": "FloatSliderModel",
      "state": {
       "_model_module_version": "~2.1.4",
       "_view_module_version": "~2.1.4",
       "layout": "IPY_MODEL_4267b60e864647d6aff593bf4c9dd341",
       "readout": false,
       "step": 0.1,
       "value": 87.5
      }
     },
     "d820719b314e4b7485fe820414a1a086": {
      "model_module": "jupyter-js-widgets",
      "model_module_version": "~2.1.4",
      "model_name": "LayoutModel",
      "state": {
       "_model_module_version": "~2.1.4",
       "_view_module_version": "~2.1.4"
      }
     },
     "d839b24e151b4b838bf139c5df8bc28e": {
      "model_module": "jupyter-js-widgets",
      "model_module_version": "~2.1.4",
      "model_name": "VBoxModel",
      "state": {
       "_model_module_version": "~2.1.4",
       "_view_module_version": "~2.1.4",
       "children": [
        "IPY_MODEL_ae78fff1c6384326b8f8e435d47c6a0c",
        "IPY_MODEL_5ca07021155b4d0f998f2afa8e1a9a1d"
       ],
       "layout": "IPY_MODEL_21d89c657c4946af9675e85597de3bf0"
      }
     },
     "d83eff4a9d354049894e7583a700ce9a": {
      "model_module": "jupyter-js-widgets",
      "model_module_version": "~2.1.4",
      "model_name": "VBoxModel",
      "state": {
       "_model_module_version": "~2.1.4",
       "_view_module_version": "~2.1.4",
       "children": [
        "IPY_MODEL_3269e479fe1a4b89a202b8f280d1b26a",
        "IPY_MODEL_aa64da94ad4448d399fe551e65e83b64"
       ],
       "layout": "IPY_MODEL_e0eff52df605418181729b6cdbb2f4e6"
      }
     },
     "d880b15ab4124c9f9a1d2e5148ab27fa": {
      "model_module": "jupyter-js-widgets",
      "model_module_version": "~2.1.4",
      "model_name": "LayoutModel",
      "state": {
       "_model_module_version": "~2.1.4",
       "_view_module_version": "~2.1.4"
      }
     },
     "d8dab5a92495455db4224f1b5ae6fbab": {
      "model_module": "jupyter-js-widgets",
      "model_module_version": "~2.1.4",
      "model_name": "LayoutModel",
      "state": {
       "_model_module_version": "~2.1.4",
       "_view_module_version": "~2.1.4"
      }
     },
     "d8de41906f074d9d85208101289ff71f": {
      "model_module": "jupyter-js-widgets",
      "model_module_version": "~2.1.4",
      "model_name": "VBoxModel",
      "state": {
       "_model_module_version": "~2.1.4",
       "_view_module_version": "~2.1.4",
       "children": [
        "IPY_MODEL_e11cd1e8aa9b4aed8e6bf5aa1907001c",
        "IPY_MODEL_e7f59f06ce8f4641a51034daf5fd5c1b"
       ],
       "layout": "IPY_MODEL_0cf5d5b53307424daef365bbe29a0cdf"
      }
     },
     "d92ebaf86b5a4771a3ec5a7c86ebfd1d": {
      "model_module": "jupyter-js-widgets",
      "model_module_version": "~2.1.4",
      "model_name": "FloatSliderModel",
      "state": {
       "_model_module_version": "~2.1.4",
       "_view_module_version": "~2.1.4",
       "layout": "IPY_MODEL_3f383dcfecf949648a23483615d9f944",
       "readout": false,
       "step": 0.1,
       "value": 87.5
      }
     },
     "d9417a630b464b5380b8469e2d7aefcb": {
      "model_module": "jupyter-js-widgets",
      "model_module_version": "~2.1.4",
      "model_name": "LayoutModel",
      "state": {
       "_model_module_version": "~2.1.4",
       "_view_module_version": "~2.1.4"
      }
     },
     "d955287b151b4604b3361b8e748161a0": {
      "model_module": "jupyter-js-widgets",
      "model_module_version": "~2.1.4",
      "model_name": "VBoxModel",
      "state": {
       "_model_module_version": "~2.1.4",
       "_view_module_version": "~2.1.4",
       "children": [
        "IPY_MODEL_771a66e6334d410fa538227b64e15ce1",
        "IPY_MODEL_b54b81fef8d24e1cbebcff017864dabe"
       ],
       "layout": "IPY_MODEL_58fd8590864942ab9ff5bbffa76378d4"
      }
     },
     "d988a5cb4d25447181d501c139501e9b": {
      "model_module": "jupyter-js-widgets",
      "model_module_version": "~2.1.4",
      "model_name": "LayoutModel",
      "state": {
       "_model_module_version": "~2.1.4",
       "_view_module_version": "~2.1.4"
      }
     },
     "d98dd8bf425f45909987ab81fa4908e7": {
      "model_module": "jupyter-js-widgets",
      "model_module_version": "~2.1.4",
      "model_name": "LayoutModel",
      "state": {
       "_model_module_version": "~2.1.4",
       "_view_module_version": "~2.1.4"
      }
     },
     "d9b2f9f279914815afe76e3a991d4303": {
      "model_module": "jupyter-js-widgets",
      "model_module_version": "~2.1.4",
      "model_name": "VBoxModel",
      "state": {
       "_model_module_version": "~2.1.4",
       "_view_module_version": "~2.1.4",
       "children": [
        "IPY_MODEL_8133094f0cd44c0bb8e27dac4b429b9a",
        "IPY_MODEL_903a69bb56ed4f39afaa60ed1a799678"
       ],
       "layout": "IPY_MODEL_3cfcf59bbd9246cebc8dcfe5b286c97b"
      }
     },
     "d9f9ad80abfb46d19b5dc3d69ece29a1": {
      "model_module": "jupyter-js-widgets",
      "model_module_version": "~2.1.4",
      "model_name": "HBoxModel",
      "state": {
       "_model_module_version": "~2.1.4",
       "_view_module_version": "~2.1.4",
       "children": [
        "IPY_MODEL_695b00b46b6a410e9a18039681c5076e",
        "IPY_MODEL_4651fd0a72a74fc29dce22d88efa333c"
       ],
       "layout": "IPY_MODEL_473310222e4440bfb9f7f1fb0ef37d28"
      }
     },
     "dab945a0ad9f412483179834ea8cbaa4": {
      "model_module": "jupyter-js-widgets",
      "model_module_version": "~2.1.4",
      "model_name": "LayoutModel",
      "state": {
       "_model_module_version": "~2.1.4",
       "_view_module_version": "~2.1.4"
      }
     },
     "db3c54b1609a4af39af677dd25f16b80": {
      "model_module": "jupyter-js-widgets",
      "model_module_version": "~2.1.4",
      "model_name": "LayoutModel",
      "state": {
       "_model_module_version": "~2.1.4",
       "_view_module_version": "~2.1.4"
      }
     },
     "db3fc3bdc0264c65ad3194afa1bb6681": {
      "model_module": "jupyter-js-widgets",
      "model_module_version": "~2.1.4",
      "model_name": "HBoxModel",
      "state": {
       "_model_module_version": "~2.1.4",
       "_view_module_version": "~2.1.4",
       "children": [
        "IPY_MODEL_ad1c0ec0ec004fa9bd3da5d950333133",
        "IPY_MODEL_21373abc3f9746329d26688f7122b28d",
        "IPY_MODEL_c25a3e89171b44be9feaae5791d525e9"
       ],
       "layout": "IPY_MODEL_4381bb6595574e1e90d9a5e6bf7c85eb"
      }
     },
     "db73d951101b4c1ca52cd0a0ca1a373f": {
      "model_module": "jupyter-js-widgets",
      "model_module_version": "~2.1.4",
      "model_name": "HBoxModel",
      "state": {
       "_model_module_version": "~2.1.4",
       "_view_module_version": "~2.1.4",
       "children": [
        "IPY_MODEL_1a9225214f3b4ec7995771ca7cda1606",
        "IPY_MODEL_a62be6d8aeea47e8a0c04599c39008a4",
        "IPY_MODEL_379f4ab9f90743baa3140d62c64243ed"
       ],
       "layout": "IPY_MODEL_1f55dd5c963a4ec2b14d31542604a8db"
      }
     },
     "db8d5725451d45609abbdba569801a65": {
      "model_module": "jupyter-js-widgets",
      "model_module_version": "~2.1.4",
      "model_name": "ButtonModel",
      "state": {
       "_model_module_version": "~2.1.4",
       "_view_module_version": "~2.1.4",
       "icon": "step-forward",
       "layout": "IPY_MODEL_ac2d905b4fbb402fbbdf80001ed5f166",
       "style": "IPY_MODEL_c9f3dcd1706e42e28c40a339bdf88c52"
      }
     },
     "dc1ecf2bfa4d47ed9eddadd1f9923744": {
      "model_module": "jupyter-js-widgets",
      "model_module_version": "~2.1.4",
      "model_name": "ButtonStyleModel",
      "state": {
       "_model_module_version": "~2.1.4",
       "_view_module_version": "~2.1.4"
      }
     },
     "dc5408c7268b4389b19098a907b23500": {
      "model_module": "jupyter-js-widgets",
      "model_module_version": "~2.1.4",
      "model_name": "LayoutModel",
      "state": {
       "_model_module_version": "~2.1.4",
       "_view_module_version": "~2.1.4"
      }
     },
     "dc761c5138a1413aaffe78decf9723d6": {
      "model_module": "jupyter-js-widgets",
      "model_module_version": "~2.1.4",
      "model_name": "LayoutModel",
      "state": {
       "_model_module_version": "~2.1.4",
       "_view_module_version": "~2.1.4"
      }
     },
     "dd043393425b45e8831b2ebcaf9538f0": {
      "model_module": "jupyter-js-widgets",
      "model_module_version": "~2.1.4",
      "model_name": "ButtonModel",
      "state": {
       "_model_module_version": "~2.1.4",
       "_view_module_version": "~2.1.4",
       "description": "Clear",
       "layout": "IPY_MODEL_bbc7b9774e3f4f4087445d62f2308f58",
       "style": "IPY_MODEL_8f4d5db6f9a54f68ac493c37ab75f19e"
      }
     },
     "dd0d46705b4c496b950cc07de26b8d82": {
      "model_module": "jupyter-js-widgets",
      "model_module_version": "~2.1.4",
      "model_name": "LayoutModel",
      "state": {
       "_model_module_version": "~2.1.4",
       "_view_module_version": "~2.1.4"
      }
     },
     "dd104782ba844ded84843d684cc2c6f1": {
      "model_module": "jupyter-js-widgets",
      "model_module_version": "~2.1.4",
      "model_name": "HTMLModel",
      "state": {
       "_model_module_version": "~2.1.4",
       "_view_module_version": "~2.1.4",
       "layout": "IPY_MODEL_4d5b665ac03a4823a73e3cf8b505f424",
       "value": "<svg baseProfile=\"full\" height=\"240\" version=\"1.1\" width=\"240\" xmlns=\"http://www.w3.org/2000/svg\" xmlns:ev=\"http://www.w3.org/2001/xml-events\" xmlns:xlink=\"http://www.w3.org/1999/xlink\"><defs /><rect fill=\"white\" height=\"240\" stroke=\"#000000\" stroke-width=\"1\" width=\"240\" x=\"0\" y=\"0\" /><rect fill=\"#eef3dd\" height=\"240.0\" stroke=\"#bebebe\" stroke-width=\"1\" width=\"240.0\" x=\"0.0\" y=\"0.0\" /><circle cx=\"120.0\" cy=\"195.0\" fill=\"#ffff00\" r=\"15.0\" stroke=\"#ffff00\" stroke-width=\"1\" /><line fill=\"#800080\" stroke=\"#add8e6\" stroke-width=\"1\" x1=\"57.88438855320523\" x2=\"240.0\" y1=\"82.92157405567964\" y2=\"194.97707400000002\" /><line fill=\"#800080\" stroke=\"#add8e6\" stroke-width=\"1\" x1=\"54.40586584588884\" x2=\"156.12446944434555\" y1=\"85.71260966539232\" y2=\"240.0\" /><line fill=\"#800080\" stroke=\"#add8e6\" stroke-width=\"1\" x1=\"51.41852767528398\" x2=\"74.15025305143972\" y1=\"85.98794701201871\" y2=\"240.0\" /><line fill=\"#800080\" stroke=\"#add8e6\" stroke-width=\"1\" x1=\"47.566373629401426\" x2=\"1.4602792127810147\" y1=\"85.37892385417437\" y2=\"240.0\" /><line fill=\"#800080\" stroke=\"#add8e6\" stroke-width=\"1\" x1=\"42.45622774048202\" x2=\"0.0\" y1=\"82.23465780405074\" y2=\"122.37799800000002\" /><line fill=\"#800080\" stroke=\"#add8e6\" stroke-width=\"1\" x1=\"40.17620671966128\" x2=\"0.0\" y1=\"79.07056170174671\" y2=\"92.43234600000001\" /><line fill=\"#800080\" stroke=\"#add8e6\" stroke-width=\"1\" x1=\"39.075428179130604\" x2=\"0.0\" y1=\"76.27981151502144\" y2=\"71.755914\" /><line fill=\"#800080\" stroke=\"#add8e6\" stroke-width=\"1\" x1=\"39.998877941987296\" x2=\"0.0\" y1=\"71.91664288024695\" y2=\"47.30538600000001\" /><line fill=\"#800080\" stroke=\"#add8e6\" stroke-width=\"1\" x1=\"46.287410042234555\" x2=\"0.0\" y1=\"61.69635110240813\" y2=\"33.215766\" /><line fill=\"#800080\" stroke=\"#add8e6\" stroke-width=\"1\" x1=\"49.76593274955094\" x2=\"10.930827014133655\" y1=\"58.90531549269546\" y2=\"0.0\" /><line fill=\"#800080\" stroke=\"#add8e6\" stroke-width=\"1\" x1=\"52.7532709201558\" x2=\"44.09965965742518\" y1=\"58.62997814606907\" y2=\"0.0\" /><line fill=\"#800080\" stroke=\"#add8e6\" stroke-width=\"1\" x1=\"56.605424966038356\" x2=\"74.26976107534583\" y1=\"59.2390013039134\" y2=\"0.0\" /><line fill=\"#800080\" stroke=\"#add8e6\" stroke-width=\"1\" x1=\"61.71557085495776\" x2=\"127.6930947211226\" y1=\"62.38326735403704\" y2=\"0.0\" /><line fill=\"#800080\" stroke=\"#add8e6\" stroke-width=\"1\" x1=\"63.9955918757785\" x2=\"240.0\" y1=\"65.54736345634107\" y2=\"7.011906000000003\" /><line fill=\"#800080\" stroke=\"#add8e6\" stroke-width=\"1\" x1=\"65.09637041630917\" x2=\"240.0\" y1=\"68.33811364306635\" y2=\"88.587324\" /><line fill=\"#800080\" stroke=\"#add8e6\" stroke-width=\"1\" x1=\"64.17292065345248\" x2=\"240.0\" y1=\"72.70128227784083\" y2=\"180.887454\" /><line fill=\"#800080\" stroke=\"#a020f0\" stroke-width=\"1\" x1=\"52.08589929771989\" x2=\"142.74123637137396\" y1=\"72.3089625790439\" y2=\"240.0\" /><line fill=\"#800080\" stroke=\"#a020f0\" stroke-width=\"1\" x1=\"52.08589929771989\" x2=\"0.0\" y1=\"72.3089625790439\" y2=\"70.85049599999999\" /><line fill=\"#800080\" stroke=\"#ffa500\" stroke-width=\"1\" x1=\"120.0\" x2=\"53.954055990550685\" y1=\"195.0\" y2=\"89.30925641682892\" /><line fill=\"#800080\" stroke=\"#ffa500\" stroke-width=\"1\" x1=\"120.0\" x2=\"36.06854537933276\" y1=\"195.0\" y2=\"78.30432524139623\" /><polygon fill=\"red\" points=\"49.09941739607725,86.32220366921149 56.31225552814341,85.47664700013935 65.7450536785143,70.14620933338112 63.24861462163359,63.326547169074125 55.07238119936253,58.29572148887629 47.85954306729637,59.14127815794843 38.42674491692548,74.47171582470665 40.923183973806196,81.29137798901365\" stroke=\"red\" stroke-width=\"1\" /><polygon points=\"-3.0,-3.0 0,0 3.0,-3.0 0,3.0\" stroke=\"black\" stroke-width=\"1\" transform=\"translate(52.08589929771989,72.3089625790439) rotate(31.603931061116512)\" /><polygon fill=\"black\" points=\"44.617839294195164,77.57660719345688 47.13325213429407,73.48849048232138 53.26542720099735,77.26160974246972 50.75001436089845,81.34972645360521\" stroke=\"black\" stroke-width=\"1\" /><circle cx=\"53.954055990550685\" cy=\"89.30925641682892\" fill=\"yellow\" r=\"1.5\" stroke=\"orange\" stroke-width=\"1\" /><circle cx=\"36.06854537933276\" cy=\"78.30432524139623\" fill=\"yellow\" r=\"1.5\" stroke=\"orange\" stroke-width=\"1\" /></svg>"
      }
     },
     "dd31a0c39b1248a2854c9880c0bd9b87": {
      "model_module": "jupyter-js-widgets",
      "model_module_version": "~2.1.4",
      "model_name": "LayoutModel",
      "state": {
       "_model_module_version": "~2.1.4",
       "_view_module_version": "~2.1.4",
       "height": "20px",
       "padding": "0px 0px 0px 0px",
       "width": "248px"
      }
     },
     "dd358e6dca1e419cabb719e4da07286f": {
      "model_module": "jupyter-js-widgets",
      "model_module_version": "~2.1.4",
      "model_name": "VBoxModel",
      "state": {
       "_model_module_version": "~2.1.4",
       "_view_module_version": "~2.1.4",
       "children": [
        "IPY_MODEL_b436b5d7ed92416abc62b5660c7047a0",
        "IPY_MODEL_3866b017b1e34e32b1f708a2520b8890"
       ],
       "layout": "IPY_MODEL_9c5ad5c1d748477582277f618164437c"
      }
     },
     "dd5f77d6b0fc4b91a5a64feba0ff6259": {
      "model_module": "jupyter-js-widgets",
      "model_module_version": "~2.1.4",
      "model_name": "LayoutModel",
      "state": {
       "_model_module_version": "~2.1.4",
       "_view_module_version": "~2.1.4"
      }
     },
     "dde87865a0464efc921ac4779d81b768": {
      "model_module": "jupyter-js-widgets",
      "model_module_version": "~2.1.4",
      "model_name": "VBoxModel",
      "state": {
       "_model_module_version": "~2.1.4",
       "_view_module_version": "~2.1.4",
       "children": [
        "IPY_MODEL_9fc2c526f77d457ca42010eff304e8ef",
        "IPY_MODEL_135969b38e2f445fa734712a7994f4ec"
       ],
       "layout": "IPY_MODEL_c4c5330eb3c54dbd9be30d621d73ddc5"
      }
     },
     "de22942d334b4fc2a2b9bad1ee8422a9": {
      "model_module": "jupyter-js-widgets",
      "model_module_version": "~2.1.4",
      "model_name": "LayoutModel",
      "state": {
       "_model_module_version": "~2.1.4",
       "_view_module_version": "~2.1.4"
      }
     },
     "de23ebe77eca48039c5bb664e73126c5": {
      "model_module": "jupyter-js-widgets",
      "model_module_version": "~2.1.4",
      "model_name": "ButtonStyleModel",
      "state": {
       "_model_module_version": "~2.1.4",
       "_view_module_version": "~2.1.4"
      }
     },
     "de853ad765b844538c2335353f7cd0e8": {
      "model_module": "jupyter-js-widgets",
      "model_module_version": "~2.1.4",
      "model_name": "ButtonStyleModel",
      "state": {
       "_model_module_version": "~2.1.4",
       "_view_module_version": "~2.1.4"
      }
     },
     "dea8f1f43fbe432887da28623282a6ba": {
      "model_module": "jupyter-js-widgets",
      "model_module_version": "~2.1.4",
      "model_name": "HBoxModel",
      "state": {
       "_model_module_version": "~2.1.4",
       "_view_module_version": "~2.1.4",
       "children": [
        "IPY_MODEL_51908f3120184404a7f156cbebd6e14d",
        "IPY_MODEL_58dca105b3cc4d8cb66a04a98d7d8ad5"
       ],
       "layout": "IPY_MODEL_015e591b262a4a56876a3241b76d251c"
      }
     },
     "dedb615f13a247a6a21364bfa95cb97c": {
      "model_module": "jupyter-js-widgets",
      "model_module_version": "~2.1.4",
      "model_name": "LayoutModel",
      "state": {
       "_model_module_version": "~2.1.4",
       "_view_module_version": "~2.1.4"
      }
     },
     "def06efbe6e0440881ce76f46340f8f9": {
      "model_module": "jupyter-js-widgets",
      "model_module_version": "~2.1.4",
      "model_name": "OutputModel",
      "state": {
       "_dom_classes": [],
       "_model_module": "jupyter-js-widgets",
       "_model_module_version": "~2.1.4",
       "_view_module": "jupyter-js-widgets",
       "_view_module_version": "~2.1.4",
       "layout": "IPY_MODEL_e9f593c4146b43e69c8c8bfe4bc9cfe7",
       "msg_throttle": 1
      }
     },
     "df0494b7461c462ebbec0c8f0a30bd71": {
      "model_module": "jupyter-js-widgets",
      "model_module_version": "~2.1.4",
      "model_name": "ImageModel",
      "state": {
       "_b64value": "iVBORw0KGgoAAAANSUhEUgAAADwAAAAoCAIAAAAt2Q6oAAABK0lEQVR4nO2WP07DMBSH33vxKbgAJ+hFeoJOjKxIlLVZmBBZKiFBkFiQUrYuvUEFO0Vizdqlc8xggpw/gsQEh1+Ub7CeLDn5/PRzHE5eU0JD+hZwYZT2xSjtC0zp6fFR3w6tESKC8/6MB5Y3Zqa/KqBmFzqN4g0ZD9Xju9NNwszMTERmtItvYK3LU6tdZz+rb0+xiDCzGe3C+LlJ13T65T6qrtT55kyhtZ7MTqtrn+PrIEdEgiBoscXGuMdje3ulLbIsU0op5SNvkAdxKNKLRejfoxU10vP5uX+PVgwlHv8f9y/U2cVJdfIyvPmFTFNqbsT94b2rpy+jx7+4EcvSHRr/yMPdGk/aGciDWJCGaDPZ0ijGhB0PoDaTkcYyJiKBMybsTGMxSvsCUvoDfEdT9dZPnC8AAAAASUVORK5CYII=",
       "_model_module_version": "~2.1.4",
       "_view_module_version": "~2.1.4",
       "layout": "IPY_MODEL_be882de0cfc845b5b414bce93fa16ee4",
       "width": "240"
      }
     },
     "dfba746ba7654e278701df3d0f67f469": {
      "model_module": "jupyter-js-widgets",
      "model_module_version": "~2.1.4",
      "model_name": "LayoutModel",
      "state": {
       "_model_module_version": "~2.1.4",
       "_view_module_version": "~2.1.4"
      }
     },
     "dfd564a23a7f4a9a8cdea83df5c45a78": {
      "model_module": "jupyter-js-widgets",
      "model_module_version": "~2.1.4",
      "model_name": "LayoutModel",
      "state": {
       "_model_module_version": "~2.1.4",
       "_view_module_version": "~2.1.4"
      }
     },
     "dfdbd653371b4a1696971df73c51f03c": {
      "model_module": "jupyter-js-widgets",
      "model_module_version": "~2.1.4",
      "model_name": "HBoxModel",
      "state": {
       "_model_module_version": "~2.1.4",
       "_view_module_version": "~2.1.4",
       "children": [
        "IPY_MODEL_f38ff2d0a671422bb9660459b2d56ebc",
        "IPY_MODEL_f26fde81b6954700b11be253d4de5ea4"
       ],
       "layout": "IPY_MODEL_1405186aae844e54997ec871b26066fb"
      }
     },
     "dfdf069392ec4c39a5f09b2a55c8cdd9": {
      "model_module": "jupyter-js-widgets",
      "model_module_version": "~2.1.4",
      "model_name": "LayoutModel",
      "state": {
       "_model_module_version": "~2.1.4",
       "_view_module_version": "~2.1.4"
      }
     },
     "e011f5dd40f346e58df08128c694ca89": {
      "model_module": "jupyter-js-widgets",
      "model_module_version": "~2.1.4",
      "model_name": "LayoutModel",
      "state": {
       "_model_module_version": "~2.1.4",
       "_view_module_version": "~2.1.4"
      }
     },
     "e01b503d83aa4d55b95afe4394cec6a9": {
      "model_module": "jupyter-js-widgets",
      "model_module_version": "~2.1.4",
      "model_name": "ButtonModel",
      "state": {
       "_model_module_version": "~2.1.4",
       "_view_module_version": "~2.1.4",
       "description": "Clear",
       "layout": "IPY_MODEL_132198293fda4a87b4b54e085a843ae9",
       "style": "IPY_MODEL_c34dafdee8fa43159999b82638987eb6"
      }
     },
     "e0a96c98029b47169e6545a3c2363cf1": {
      "model_module": "jupyter-js-widgets",
      "model_module_version": "~2.1.4",
      "model_name": "ButtonStyleModel",
      "state": {
       "_model_module_version": "~2.1.4",
       "_view_module_version": "~2.1.4"
      }
     },
     "e0d0536643c34907bac140113d6c9cb9": {
      "model_module": "jupyter-js-widgets",
      "model_module_version": "~2.1.4",
      "model_name": "LayoutModel",
      "state": {
       "_model_module_version": "~2.1.4",
       "_view_module_version": "~2.1.4"
      }
     },
     "e0eff52df605418181729b6cdbb2f4e6": {
      "model_module": "jupyter-js-widgets",
      "model_module_version": "~2.1.4",
      "model_name": "LayoutModel",
      "state": {
       "_model_module_version": "~2.1.4",
       "_view_module_version": "~2.1.4"
      }
     },
     "e1093211e6784273b49f507286ae3415": {
      "model_module": "jupyter-js-widgets",
      "model_module_version": "~2.1.4",
      "model_name": "HBoxModel",
      "state": {
       "_model_module_version": "~2.1.4",
       "_view_module_version": "~2.1.4",
       "children": [
        "IPY_MODEL_5f1b318729894801959bbb3735bf5173",
        "IPY_MODEL_47a9e413d10d48b7aef422c409f96e65"
       ],
       "layout": "IPY_MODEL_7126ada511ef49c3b499e4a0da0fc611"
      }
     },
     "e11cd1e8aa9b4aed8e6bf5aa1907001c": {
      "model_module": "jupyter-js-widgets",
      "model_module_version": "~2.1.4",
      "model_name": "HBoxModel",
      "state": {
       "_model_module_version": "~2.1.4",
       "_view_module_version": "~2.1.4",
       "children": [
        "IPY_MODEL_4e5df8f4208e4251bc9ff09a944610ee",
        "IPY_MODEL_dd104782ba844ded84843d684cc2c6f1"
       ],
       "layout": "IPY_MODEL_6d5786f56b884e038d066c0e5a972e9d"
      }
     },
     "e14246f9bf9445599bb1f11f53333b33": {
      "model_module": "jupyter-js-widgets",
      "model_module_version": "~2.1.4",
      "model_name": "LayoutModel",
      "state": {
       "_model_module_version": "~2.1.4",
       "_view_module_version": "~2.1.4",
       "height": "248px",
       "padding": "0px 0px 0px 0px",
       "width": "10px"
      }
     },
     "e188debe5ac24a40bf896a2a3ea0f266": {
      "model_module": "jupyter-js-widgets",
      "model_module_version": "~2.1.4",
      "model_name": "LayoutModel",
      "state": {
       "_model_module_version": "~2.1.4",
       "_view_module_version": "~2.1.4"
      }
     },
     "e1c1880339c342e0b17e722e81672934": {
      "model_module": "jupyter-js-widgets",
      "model_module_version": "~2.1.4",
      "model_name": "VBoxModel",
      "state": {
       "_model_module_version": "~2.1.4",
       "_view_module_version": "~2.1.4",
       "children": [
        "IPY_MODEL_8f8ca7dd5d354671951e282b3cab3fcc",
        "IPY_MODEL_52d03ff5048f4e5f8d070becd8eb6df7",
        "IPY_MODEL_40781e09aca14060871df645183d09d7"
       ],
       "layout": "IPY_MODEL_8fd2b1f233a1470498461af1fa5e987f"
      }
     },
     "e22a3ba03fc247cabf7bfeae16a44f10": {
      "model_module": "jupyter-js-widgets",
      "model_module_version": "~2.1.4",
      "model_name": "LayoutModel",
      "state": {
       "_model_module_version": "~2.1.4",
       "_view_module_version": "~2.1.4"
      }
     },
     "e24d9171103f477ba802495bf0061b5c": {
      "model_module": "jupyter-js-widgets",
      "model_module_version": "~2.1.4",
      "model_name": "HTMLModel",
      "state": {
       "_model_module_version": "~2.1.4",
       "_view_module_version": "~2.1.4",
       "layout": "IPY_MODEL_f38e263de3614bf9b892e4b4c21b0c49",
       "value": "<svg baseProfile=\"full\" height=\"240\" version=\"1.1\" width=\"240\" xmlns=\"http://www.w3.org/2000/svg\" xmlns:ev=\"http://www.w3.org/2001/xml-events\" xmlns:xlink=\"http://www.w3.org/1999/xlink\"><defs /><rect fill=\"white\" height=\"240\" stroke=\"#000000\" stroke-width=\"1\" width=\"240\" x=\"0\" y=\"0\" /><rect fill=\"#eef3dd\" height=\"240.0\" stroke=\"#bebebe\" stroke-width=\"1\" width=\"240.0\" x=\"0.0\" y=\"0.0\" /><circle cx=\"120.0\" cy=\"195.0\" fill=\"#ffff00\" r=\"15.0\" stroke=\"#ffff00\" stroke-width=\"1\" /><line fill=\"#800080\" stroke=\"#add8e6\" stroke-width=\"1\" x1=\"199.5\" x2=\"0.0\" y1=\"114.0\" y2=\"114.0\" /><line fill=\"#800080\" stroke=\"#add8e6\" stroke-width=\"1\" x1=\"201.0\" x2=\"0.0\" y1=\"109.80000000000001\" y2=\"16.07215199999999\" /><line fill=\"#800080\" stroke=\"#add8e6\" stroke-width=\"1\" x1=\"203.4\" x2=\"112.77724019461742\" y1=\"107.99999999999999\" y2=\"0.0\" /><line fill=\"#800080\" stroke=\"#add8e6\" stroke-width=\"1\" x1=\"207.0\" x2=\"178.4634099424212\" y1=\"106.5\" y2=\"0.0\" /><line fill=\"#800080\" stroke=\"#add8e6\" stroke-width=\"1\" x1=\"213.0\" x2=\"240.0\" y1=\"106.5\" y2=\"5.734632000000062\" /><line fill=\"#800080\" stroke=\"#add8e6\" stroke-width=\"1\" x1=\"216.6\" x2=\"240.0\" y1=\"107.99999999999999\" y2=\"80.11296600000001\" /><line fill=\"#800080\" stroke=\"#add8e6\" stroke-width=\"1\" x1=\"219.0\" x2=\"240.0\" y1=\"109.80000000000001\" y2=\"100.007538\" /><line fill=\"#800080\" stroke=\"#add8e6\" stroke-width=\"1\" x1=\"220.5\" x2=\"240.0\" y1=\"114.0\" y2=\"114.0\" /><line fill=\"#800080\" stroke=\"#add8e6\" stroke-width=\"1\" x1=\"220.5\" x2=\"240.0\" y1=\"126.0\" y2=\"126.0\" /><line fill=\"#800080\" stroke=\"#add8e6\" stroke-width=\"1\" x1=\"219.0\" x2=\"240.0\" y1=\"130.2\" y2=\"139.992462\" /><line fill=\"#800080\" stroke=\"#add8e6\" stroke-width=\"1\" x1=\"216.6\" x2=\"240.0\" y1=\"132.0\" y2=\"159.88703399999997\" /><line fill=\"#800080\" stroke=\"#add8e6\" stroke-width=\"1\" x1=\"213.0\" x2=\"240.0\" y1=\"133.5\" y2=\"234.26536799999994\" /><line fill=\"#800080\" stroke=\"#add8e6\" stroke-width=\"1\" x1=\"207.0\" x2=\"178.4634099424212\" y1=\"133.5\" y2=\"240.0\" /><line fill=\"#800080\" stroke=\"#add8e6\" stroke-width=\"1\" x1=\"203.4\" x2=\"112.7772401946174\" y1=\"132.0\" y2=\"240.0\" /><line fill=\"#800080\" stroke=\"#add8e6\" stroke-width=\"1\" x1=\"201.0\" x2=\"0.0\" y1=\"130.2\" y2=\"223.927848\" /><line fill=\"#800080\" stroke=\"#add8e6\" stroke-width=\"1\" x1=\"199.5\" x2=\"0.0\" y1=\"126.0\" y2=\"126.0\" /><line fill=\"#800080\" stroke=\"#a020f0\" stroke-width=\"1\" x1=\"210.0\" x2=\"2.1539193796210117\" y1=\"120.0\" y2=\"0.0\" /><line fill=\"#800080\" stroke=\"#a020f0\" stroke-width=\"1\" x1=\"210.0\" x2=\"240.0\" y1=\"120.0\" y2=\"102.67948799999999\" /><line fill=\"#800080\" stroke=\"#ffa500\" stroke-width=\"1\" x1=\"120.0\" x2=\"199.5\" y1=\"195.0\" y2=\"106.5\" /><line fill=\"#800080\" stroke=\"#ffa500\" stroke-width=\"1\" x1=\"120.0\" x2=\"220.5\" y1=\"195.0\" y2=\"106.5\" /><polygon fill=\"red\" points=\"205.2,106.5 199.5,111.0 199.5,129.0 205.2,133.5 214.8,133.5 220.5,129.0 220.5,111.0 214.8,106.5\" stroke=\"red\" stroke-width=\"1\" /><polygon points=\"-3.0,-3.0 0,0 3.0,-3.0 0,3.0\" stroke=\"black\" stroke-width=\"1\" transform=\"translate(210.0,120.0) rotate(180.0)\" /><polygon fill=\"black\" points=\"213.6,111.6 213.6,116.39999999999999 206.4,116.39999999999999 206.4,111.6\" stroke=\"black\" stroke-width=\"1\" /><circle cx=\"199.5\" cy=\"106.5\" fill=\"yellow\" r=\"1.5\" stroke=\"orange\" stroke-width=\"1\" /><circle cx=\"220.5\" cy=\"106.5\" fill=\"yellow\" r=\"1.5\" stroke=\"orange\" stroke-width=\"1\" /></svg>"
      }
     },
     "e250b4d6a35149d0afb7ce57c1d9ea7a": {
      "model_module": "jupyter-js-widgets",
      "model_module_version": "~2.1.4",
      "model_name": "LayoutModel",
      "state": {
       "_model_module_version": "~2.1.4",
       "_view_module_version": "~2.1.4",
       "height": "30px",
       "padding": "0px 0px 0px 10px",
       "width": "260px"
      }
     },
     "e2e08d5520b84265a7d9b81c2e5906ba": {
      "model_module": "jupyter-js-widgets",
      "model_module_version": "~2.1.4",
      "model_name": "HBoxModel",
      "state": {
       "_model_module_version": "~2.1.4",
       "_view_module_version": "~2.1.4",
       "children": [
        "IPY_MODEL_c08603de880c4c838e4271899de006fb",
        "IPY_MODEL_7665fcacb9df4e309a98c346cf966e32",
        "IPY_MODEL_2b3dc421a92943c9919a702db7a05702"
       ],
       "layout": "IPY_MODEL_4f9027f94d694ca8b5f7eb15bc68b954"
      }
     },
     "e2f88b47722f4746b50a18b70a3acdbe": {
      "model_module": "jupyter-js-widgets",
      "model_module_version": "~2.1.4",
      "model_name": "ButtonStyleModel",
      "state": {
       "_model_module_version": "~2.1.4",
       "_view_module_version": "~2.1.4"
      }
     },
     "e340cd7a8de14a7f816da4c7d766d1d8": {
      "model_module": "jupyter-js-widgets",
      "model_module_version": "~2.1.4",
      "model_name": "LayoutModel",
      "state": {
       "_model_module_version": "~2.1.4",
       "_view_module_version": "~2.1.4"
      }
     },
     "e370a28555614160807f30522cfe6197": {
      "model_module": "jupyter-js-widgets",
      "model_module_version": "~2.1.4",
      "model_name": "ButtonModel",
      "state": {
       "_model_module_version": "~2.1.4",
       "_view_module_version": "~2.1.4",
       "icon": "step-forward",
       "layout": "IPY_MODEL_ae7fd51413404878874bfbe45602b100",
       "style": "IPY_MODEL_3d5b23b5ddaa442db2d5a2f9cf886093"
      }
     },
     "e3ed8da74c794da19cef7b77a06d25b7": {
      "model_module": "jupyter-js-widgets",
      "model_module_version": "~2.1.4",
      "model_name": "HTMLModel",
      "state": {
       "_model_module_version": "~2.1.4",
       "_view_module_version": "~2.1.4",
       "layout": "IPY_MODEL_a7055bafab63456c8ffb514b35828250",
       "value": "<svg baseProfile=\"full\" height=\"240\" version=\"1.1\" width=\"240\" xmlns=\"http://www.w3.org/2000/svg\" xmlns:ev=\"http://www.w3.org/2001/xml-events\" xmlns:xlink=\"http://www.w3.org/1999/xlink\"><defs /><rect fill=\"white\" height=\"240\" stroke=\"#000000\" stroke-width=\"1\" width=\"240\" x=\"0\" y=\"0\" /><rect fill=\"#eef3dd\" height=\"240.0\" stroke=\"#bebebe\" stroke-width=\"1\" width=\"240.0\" x=\"0.0\" y=\"0.0\" /><circle cx=\"120.0\" cy=\"195.0\" fill=\"#ffff00\" r=\"15.0\" stroke=\"#ffff00\" stroke-width=\"1\" /><line fill=\"#800080\" stroke=\"#add8e6\" stroke-width=\"1\" x1=\"199.5\" x2=\"0.0\" y1=\"114.0\" y2=\"114.0\" /><line fill=\"#800080\" stroke=\"#add8e6\" stroke-width=\"1\" x1=\"201.0\" x2=\"0.0\" y1=\"109.80000000000001\" y2=\"16.07215199999999\" /><line fill=\"#800080\" stroke=\"#add8e6\" stroke-width=\"1\" x1=\"203.4\" x2=\"112.77724019461742\" y1=\"107.99999999999999\" y2=\"0.0\" /><line fill=\"#800080\" stroke=\"#add8e6\" stroke-width=\"1\" x1=\"207.0\" x2=\"178.4634099424212\" y1=\"106.5\" y2=\"0.0\" /><line fill=\"#800080\" stroke=\"#add8e6\" stroke-width=\"1\" x1=\"213.0\" x2=\"240.0\" y1=\"106.5\" y2=\"5.734632000000062\" /><line fill=\"#800080\" stroke=\"#add8e6\" stroke-width=\"1\" x1=\"216.6\" x2=\"240.0\" y1=\"107.99999999999999\" y2=\"80.11296600000001\" /><line fill=\"#800080\" stroke=\"#add8e6\" stroke-width=\"1\" x1=\"219.0\" x2=\"240.0\" y1=\"109.80000000000001\" y2=\"100.007538\" /><line fill=\"#800080\" stroke=\"#add8e6\" stroke-width=\"1\" x1=\"220.5\" x2=\"240.0\" y1=\"114.0\" y2=\"114.0\" /><line fill=\"#800080\" stroke=\"#add8e6\" stroke-width=\"1\" x1=\"220.5\" x2=\"240.0\" y1=\"126.0\" y2=\"126.0\" /><line fill=\"#800080\" stroke=\"#add8e6\" stroke-width=\"1\" x1=\"219.0\" x2=\"240.0\" y1=\"130.2\" y2=\"139.992462\" /><line fill=\"#800080\" stroke=\"#add8e6\" stroke-width=\"1\" x1=\"216.6\" x2=\"240.0\" y1=\"132.0\" y2=\"159.88703399999997\" /><line fill=\"#800080\" stroke=\"#add8e6\" stroke-width=\"1\" x1=\"213.0\" x2=\"240.0\" y1=\"133.5\" y2=\"234.26536799999994\" /><line fill=\"#800080\" stroke=\"#add8e6\" stroke-width=\"1\" x1=\"207.0\" x2=\"178.4634099424212\" y1=\"133.5\" y2=\"240.0\" /><line fill=\"#800080\" stroke=\"#add8e6\" stroke-width=\"1\" x1=\"203.4\" x2=\"112.7772401946174\" y1=\"132.0\" y2=\"240.0\" /><line fill=\"#800080\" stroke=\"#add8e6\" stroke-width=\"1\" x1=\"201.0\" x2=\"0.0\" y1=\"130.2\" y2=\"223.927848\" /><line fill=\"#800080\" stroke=\"#add8e6\" stroke-width=\"1\" x1=\"199.5\" x2=\"0.0\" y1=\"126.0\" y2=\"126.0\" /><line fill=\"#800080\" stroke=\"#a020f0\" stroke-width=\"1\" x1=\"210.0\" x2=\"2.1539193796210117\" y1=\"120.0\" y2=\"0.0\" /><line fill=\"#800080\" stroke=\"#a020f0\" stroke-width=\"1\" x1=\"210.0\" x2=\"240.0\" y1=\"120.0\" y2=\"102.67948799999999\" /><line fill=\"#800080\" stroke=\"#ffa500\" stroke-width=\"1\" x1=\"120.0\" x2=\"199.5\" y1=\"195.0\" y2=\"106.5\" /><line fill=\"#800080\" stroke=\"#ffa500\" stroke-width=\"1\" x1=\"120.0\" x2=\"220.5\" y1=\"195.0\" y2=\"106.5\" /><polygon fill=\"red\" points=\"205.2,106.5 199.5,111.0 199.5,129.0 205.2,133.5 214.8,133.5 220.5,129.0 220.5,111.0 214.8,106.5\" stroke=\"red\" stroke-width=\"1\" /><polygon points=\"-3.0,-3.0 0,0 3.0,-3.0 0,3.0\" stroke=\"black\" stroke-width=\"1\" transform=\"translate(210.0,120.0) rotate(180.0)\" /><polygon fill=\"black\" points=\"213.6,111.6 213.6,116.39999999999999 206.4,116.39999999999999 206.4,111.6\" stroke=\"black\" stroke-width=\"1\" /><circle cx=\"199.5\" cy=\"106.5\" fill=\"yellow\" r=\"1.5\" stroke=\"orange\" stroke-width=\"1\" /><circle cx=\"220.5\" cy=\"106.5\" fill=\"yellow\" r=\"1.5\" stroke=\"orange\" stroke-width=\"1\" /></svg>"
      }
     },
     "e3f2b676ab0e4628b2a55bac653aa213": {
      "model_module": "jupyter-js-widgets",
      "model_module_version": "~2.1.4",
      "model_name": "FloatSliderModel",
      "state": {
       "_model_module_version": "~2.1.4",
       "_view_module_version": "~2.1.4",
       "layout": "IPY_MODEL_186396cc9552439c8128cc36b03a4748",
       "orientation": "vertical",
       "readout": false,
       "step": 0.1,
       "value": 50
      }
     },
     "e43c9ae80e724f5bb8bb2d17ae6475ee": {
      "model_module": "jupyter-js-widgets",
      "model_module_version": "~2.1.4",
      "model_name": "LayoutModel",
      "state": {
       "_model_module_version": "~2.1.4",
       "_view_module_version": "~2.1.4"
      }
     },
     "e47001e57ac54e9f8a2ab2e8df09669e": {
      "model_module": "jupyter-js-widgets",
      "model_module_version": "~2.1.4",
      "model_name": "LayoutModel",
      "state": {
       "_model_module_version": "~2.1.4",
       "_view_module_version": "~2.1.4"
      }
     },
     "e4dde29e806f459bb25b4ab2d6782031": {
      "model_module": "jupyter-js-widgets",
      "model_module_version": "~2.1.4",
      "model_name": "ButtonStyleModel",
      "state": {
       "_model_module_version": "~2.1.4",
       "_view_module_version": "~2.1.4"
      }
     },
     "e4e6d81e811748338b01f2d325c2b8dd": {
      "model_module": "jupyter-js-widgets",
      "model_module_version": "~2.1.4",
      "model_name": "VBoxModel",
      "state": {
       "_model_module_version": "~2.1.4",
       "_view_module_version": "~2.1.4",
       "children": [
        "IPY_MODEL_dea8f1f43fbe432887da28623282a6ba",
        "IPY_MODEL_1461bb3c61e04b0e80686df21160c266"
       ],
       "layout": "IPY_MODEL_e9c837ed05aa4112a886860993207bae"
      }
     },
     "e4eb8fff56e5409a9d8edabdca1460af": {
      "model_module": "jupyter-js-widgets",
      "model_module_version": "~2.1.4",
      "model_name": "FloatSliderModel",
      "state": {
       "_model_module_version": "~2.1.4",
       "_view_module_version": "~2.1.4",
       "layout": "IPY_MODEL_76aacbcab01847d7aa3114470157d109",
       "readout": false,
       "step": 0.1,
       "value": 89.11403839392138
      }
     },
     "e569bccf56ea4f13baa5e2b9e21ead58": {
      "model_module": "jupyter-js-widgets",
      "model_module_version": "~2.1.4",
      "model_name": "LayoutModel",
      "state": {
       "_model_module_version": "~2.1.4",
       "_view_module_version": "~2.1.4"
      }
     },
     "e57d2e441eff4d1eb26dd99720ffdf67": {
      "model_module": "jupyter-js-widgets",
      "model_module_version": "~2.1.4",
      "model_name": "FloatSliderModel",
      "state": {
       "_model_module_version": "~2.1.4",
       "_view_module_version": "~2.1.4",
       "layout": "IPY_MODEL_3a4b35f75b414c7a86ea23e8ba52be94",
       "readout": false,
       "step": 0.1,
       "value": 87.5
      }
     },
     "e5c092960cb544248ae8a26f3b758a1a": {
      "model_module": "jupyter-js-widgets",
      "model_module_version": "~2.1.4",
      "model_name": "HBoxModel",
      "state": {
       "_model_module_version": "~2.1.4",
       "_view_module_version": "~2.1.4",
       "children": [
        "IPY_MODEL_2aa95163de924223814aea829f0eeebb",
        "IPY_MODEL_919d6852f1cd4bc1b1167c61324b27b8",
        "IPY_MODEL_8132ca1b945f4345b572ad0ca2b1e753"
       ],
       "layout": "IPY_MODEL_46808e513d2a4037919e00b62e159579"
      }
     },
     "e630d4ca684742a19db2a6f0ed71d35d": {
      "model_module": "jupyter-js-widgets",
      "model_module_version": "~2.1.4",
      "model_name": "HBoxModel",
      "state": {
       "_model_module_version": "~2.1.4",
       "_view_module_version": "~2.1.4",
       "children": [
        "IPY_MODEL_3031e297337c42c6b0a0c01b4f17818e",
        "IPY_MODEL_dd358e6dca1e419cabb719e4da07286f"
       ],
       "layout": "IPY_MODEL_53c0f862e0d54ae89c5d29555fd10054"
      }
     },
     "e65c597c7b3e4c818bd01827204a4a3d": {
      "model_module": "jupyter-js-widgets",
      "model_module_version": "~2.1.4",
      "model_name": "LayoutModel",
      "state": {
       "_model_module_version": "~2.1.4",
       "_view_module_version": "~2.1.4"
      }
     },
     "e68d6dce25c74d56a38e59478d38cbec": {
      "model_module": "jupyter-js-widgets",
      "model_module_version": "~2.1.4",
      "model_name": "LayoutModel",
      "state": {
       "_model_module_version": "~2.1.4",
       "_view_module_version": "~2.1.4"
      }
     },
     "e6a92e5d11b940bf9484cced311a3ba6": {
      "model_module": "jupyter-js-widgets",
      "model_module_version": "~2.1.4",
      "model_name": "HBoxModel",
      "state": {
       "_model_module_version": "~2.1.4",
       "_view_module_version": "~2.1.4",
       "children": [
        "IPY_MODEL_a8878595dcec4738979f4d69c9596a52",
        "IPY_MODEL_f3f531993db14d70b5557279aa85ed51"
       ],
       "layout": "IPY_MODEL_184479bae21a4ae989de8fa664e94996"
      }
     },
     "e718921e198f4a3aa6007aa457c998f7": {
      "model_module": "jupyter-js-widgets",
      "model_module_version": "~2.1.4",
      "model_name": "ButtonModel",
      "state": {
       "_model_module_version": "~2.1.4",
       "_view_module_version": "~2.1.4",
       "description": "Clear",
       "layout": "IPY_MODEL_06f68423c8ab46cd83756f0a87f030f2",
       "style": "IPY_MODEL_f48a38d4869142c09d9bdf1392f69db9"
      }
     },
     "e731afb558c545b1bebadead40f9d69a": {
      "model_module": "jupyter-js-widgets",
      "model_module_version": "~2.1.4",
      "model_name": "VBoxModel",
      "state": {
       "_model_module_version": "~2.1.4",
       "_view_module_version": "~2.1.4",
       "children": [
        "IPY_MODEL_b97a3ad8062842f88caf30c613f45d47",
        "IPY_MODEL_6f651d2dfb71494fb07af235a70d52be"
       ],
       "layout": "IPY_MODEL_47a66b2edae24e37b5a797ebc5e0e713"
      }
     },
     "e769733be6504d57b5905c86fbaf49cb": {
      "model_module": "jupyter-js-widgets",
      "model_module_version": "~2.1.4",
      "model_name": "CheckboxModel",
      "state": {
       "_model_module_version": "~2.1.4",
       "_view_module_version": "~2.1.4",
       "description": "Update GUI",
       "disabled": false,
       "layout": "IPY_MODEL_96304802e8c543b5b432039ef60cca0a",
       "value": true
      }
     },
     "e78d6f68dc5940409e705b3ddbd47dcc": {
      "model_module": "jupyter-js-widgets",
      "model_module_version": "~2.1.4",
      "model_name": "FloatSliderModel",
      "state": {
       "_model_module_version": "~2.1.4",
       "_view_module_version": "~2.1.4",
       "layout": "IPY_MODEL_3f47eb961ecf4140ac32633c5adef806",
       "readout": false,
       "step": 0.1,
       "value": 100
      }
     },
     "e7f59f06ce8f4641a51034daf5fd5c1b": {
      "model_module": "jupyter-js-widgets",
      "model_module_version": "~2.1.4",
      "model_name": "FloatSliderModel",
      "state": {
       "_model_module_version": "~2.1.4",
       "_view_module_version": "~2.1.4",
       "layout": "IPY_MODEL_79bcb72138424e858f5453dfa5b18baf",
       "readout": false,
       "step": 0.1,
       "value": 21.70245804071662
      }
     },
     "e82a32daa4474c549bf27cdcbde2f758": {
      "model_module": "jupyter-js-widgets",
      "model_module_version": "~2.1.4",
      "model_name": "LayoutModel",
      "state": {
       "_model_module_version": "~2.1.4",
       "_view_module_version": "~2.1.4"
      }
     },
     "e8479d6331ae4e1d8476d664625ca644": {
      "model_module": "jupyter-js-widgets",
      "model_module_version": "~2.1.4",
      "model_name": "HTMLModel",
      "state": {
       "_model_module_version": "~2.1.4",
       "_view_module_version": "~2.1.4",
       "layout": "IPY_MODEL_564a1b86c6b64ad3a559442b4f7469ee",
       "value": "<svg baseProfile=\"full\" height=\"240\" version=\"1.1\" width=\"240\" xmlns=\"http://www.w3.org/2000/svg\" xmlns:ev=\"http://www.w3.org/2001/xml-events\" xmlns:xlink=\"http://www.w3.org/1999/xlink\"><defs /><rect fill=\"white\" height=\"240\" stroke=\"#000000\" stroke-width=\"1\" width=\"240\" x=\"0\" y=\"0\" /><rect fill=\"#eef3dd\" height=\"240.0\" stroke=\"#bebebe\" stroke-width=\"1\" width=\"240.0\" x=\"0.0\" y=\"0.0\" /><circle cx=\"120.0\" cy=\"195.0\" fill=\"#ffff00\" r=\"15.0\" stroke=\"#ffff00\" stroke-width=\"1\" /><line fill=\"#800080\" stroke=\"#add8e6\" stroke-width=\"1\" x1=\"199.5\" x2=\"0.0\" y1=\"114.0\" y2=\"114.0\" /><line fill=\"#800080\" stroke=\"#add8e6\" stroke-width=\"1\" x1=\"201.0\" x2=\"0.0\" y1=\"109.80000000000001\" y2=\"16.07215199999999\" /><line fill=\"#800080\" stroke=\"#add8e6\" stroke-width=\"1\" x1=\"203.4\" x2=\"112.77724019461742\" y1=\"107.99999999999999\" y2=\"0.0\" /><line fill=\"#800080\" stroke=\"#add8e6\" stroke-width=\"1\" x1=\"207.0\" x2=\"178.4634099424212\" y1=\"106.5\" y2=\"0.0\" /><line fill=\"#800080\" stroke=\"#add8e6\" stroke-width=\"1\" x1=\"213.0\" x2=\"240.0\" y1=\"106.5\" y2=\"5.734632000000062\" /><line fill=\"#800080\" stroke=\"#add8e6\" stroke-width=\"1\" x1=\"216.6\" x2=\"240.0\" y1=\"107.99999999999999\" y2=\"80.11296600000001\" /><line fill=\"#800080\" stroke=\"#add8e6\" stroke-width=\"1\" x1=\"219.0\" x2=\"240.0\" y1=\"109.80000000000001\" y2=\"100.007538\" /><line fill=\"#800080\" stroke=\"#add8e6\" stroke-width=\"1\" x1=\"220.5\" x2=\"240.0\" y1=\"114.0\" y2=\"114.0\" /><line fill=\"#800080\" stroke=\"#add8e6\" stroke-width=\"1\" x1=\"220.5\" x2=\"240.0\" y1=\"126.0\" y2=\"126.0\" /><line fill=\"#800080\" stroke=\"#add8e6\" stroke-width=\"1\" x1=\"219.0\" x2=\"240.0\" y1=\"130.2\" y2=\"139.992462\" /><line fill=\"#800080\" stroke=\"#add8e6\" stroke-width=\"1\" x1=\"216.6\" x2=\"240.0\" y1=\"132.0\" y2=\"159.88703399999997\" /><line fill=\"#800080\" stroke=\"#add8e6\" stroke-width=\"1\" x1=\"213.0\" x2=\"240.0\" y1=\"133.5\" y2=\"234.26536799999994\" /><line fill=\"#800080\" stroke=\"#add8e6\" stroke-width=\"1\" x1=\"207.0\" x2=\"178.4634099424212\" y1=\"133.5\" y2=\"240.0\" /><line fill=\"#800080\" stroke=\"#add8e6\" stroke-width=\"1\" x1=\"203.4\" x2=\"112.7772401946174\" y1=\"132.0\" y2=\"240.0\" /><line fill=\"#800080\" stroke=\"#add8e6\" stroke-width=\"1\" x1=\"201.0\" x2=\"0.0\" y1=\"130.2\" y2=\"223.927848\" /><line fill=\"#800080\" stroke=\"#add8e6\" stroke-width=\"1\" x1=\"199.5\" x2=\"0.0\" y1=\"126.0\" y2=\"126.0\" /><line fill=\"#800080\" stroke=\"#a020f0\" stroke-width=\"1\" x1=\"210.0\" x2=\"2.1539193796210117\" y1=\"120.0\" y2=\"0.0\" /><line fill=\"#800080\" stroke=\"#a020f0\" stroke-width=\"1\" x1=\"210.0\" x2=\"240.0\" y1=\"120.0\" y2=\"102.67948799999999\" /><line fill=\"#800080\" stroke=\"#ffa500\" stroke-width=\"1\" x1=\"120.0\" x2=\"199.5\" y1=\"195.0\" y2=\"106.5\" /><line fill=\"#800080\" stroke=\"#ffa500\" stroke-width=\"1\" x1=\"120.0\" x2=\"220.5\" y1=\"195.0\" y2=\"106.5\" /><polygon fill=\"red\" points=\"205.2,106.5 199.5,111.0 199.5,129.0 205.2,133.5 214.8,133.5 220.5,129.0 220.5,111.0 214.8,106.5\" stroke=\"red\" stroke-width=\"1\" /><polygon points=\"-3.0,-3.0 0,0 3.0,-3.0 0,3.0\" stroke=\"black\" stroke-width=\"1\" transform=\"translate(210.0,120.0) rotate(180.0)\" /><polygon fill=\"black\" points=\"213.6,111.6 213.6,116.39999999999999 206.4,116.39999999999999 206.4,111.6\" stroke=\"black\" stroke-width=\"1\" /><circle cx=\"199.5\" cy=\"106.5\" fill=\"yellow\" r=\"1.5\" stroke=\"orange\" stroke-width=\"1\" /><circle cx=\"220.5\" cy=\"106.5\" fill=\"yellow\" r=\"1.5\" stroke=\"orange\" stroke-width=\"1\" /></svg>"
      }
     },
     "e8762a05e047458c9b281eed0d69ded2": {
      "model_module": "jupyter-js-widgets",
      "model_module_version": "~2.1.4",
      "model_name": "LayoutModel",
      "state": {
       "_model_module_version": "~2.1.4",
       "_view_module_version": "~2.1.4"
      }
     },
     "e90b885bba444da7a5f5c49f23007fce": {
      "model_module": "jupyter-js-widgets",
      "model_module_version": "~2.1.4",
      "model_name": "LayoutModel",
      "state": {
       "_model_module_version": "~2.1.4",
       "_view_module_version": "~2.1.4"
      }
     },
     "e991a8e170a3409998088d4d7d535edd": {
      "model_module": "jupyter-js-widgets",
      "model_module_version": "~2.1.4",
      "model_name": "LayoutModel",
      "state": {
       "_model_module_version": "~2.1.4",
       "_view_module_version": "~2.1.4"
      }
     },
     "e9c837ed05aa4112a886860993207bae": {
      "model_module": "jupyter-js-widgets",
      "model_module_version": "~2.1.4",
      "model_name": "LayoutModel",
      "state": {
       "_model_module_version": "~2.1.4",
       "_view_module_version": "~2.1.4"
      }
     },
     "e9d9124968374ae581c0ce7601a8a262": {
      "model_module": "jupyter-js-widgets",
      "model_module_version": "~2.1.4",
      "model_name": "LayoutModel",
      "state": {
       "_model_module_version": "~2.1.4",
       "_view_module_version": "~2.1.4"
      }
     },
     "e9de4e13e6fe40d49c520803fa722ef4": {
      "model_module": "jupyter-js-widgets",
      "model_module_version": "~2.1.4",
      "model_name": "LayoutModel",
      "state": {
       "_model_module_version": "~2.1.4",
       "_view_module_version": "~2.1.4"
      }
     },
     "e9f593c4146b43e69c8c8bfe4bc9cfe7": {
      "model_module": "jupyter-js-widgets",
      "model_module_version": "~2.1.4",
      "model_name": "LayoutModel",
      "state": {
       "_model_module_version": "~2.1.4",
       "_view_module_version": "~2.1.4"
      }
     },
     "ea936f7a57784e2eb8f68cb77f6c8ba8": {
      "model_module": "jupyter-js-widgets",
      "model_module_version": "~2.1.4",
      "model_name": "LayoutModel",
      "state": {
       "_model_module_version": "~2.1.4",
       "_view_module_version": "~2.1.4"
      }
     },
     "eaaefce5a6344c4ab4bf9ffc2187710b": {
      "model_module": "jupyter-js-widgets",
      "model_module_version": "~2.1.4",
      "model_name": "HBoxModel",
      "state": {
       "_model_module_version": "~2.1.4",
       "_view_module_version": "~2.1.4",
       "children": [
        "IPY_MODEL_ee2faa67717941d4b095a372f6d04350",
        "IPY_MODEL_7f3a6deb862a4bea9c18ef972b7acfbf",
        "IPY_MODEL_32ee748a21be4a0c99bc361d2be66613"
       ],
       "layout": "IPY_MODEL_81d1e40e1529460db4bb21e9095f2df3"
      }
     },
     "eaba109432d14a3e8efd3ee89a047fea": {
      "model_module": "jupyter-js-widgets",
      "model_module_version": "~2.1.4",
      "model_name": "LayoutModel",
      "state": {
       "_model_module_version": "~2.1.4",
       "_view_module_version": "~2.1.4"
      }
     },
     "eae7d9223f4447b6866e25f82cf2ee96": {
      "model_module": "jupyter-js-widgets",
      "model_module_version": "~2.1.4",
      "model_name": "HBoxModel",
      "state": {
       "_model_module_version": "~2.1.4",
       "_view_module_version": "~2.1.4",
       "children": [
        "IPY_MODEL_7119868c17c34ad48cc25bf3d2ee3d6f",
        "IPY_MODEL_40caf9ba02f14118b3c1b33e0d3a69b9",
        "IPY_MODEL_4c7ef519cfe04fc18426915b022bd298"
       ],
       "layout": "IPY_MODEL_eedcc676496446e3af109283c97d3e64"
      }
     },
     "eb00937941824961a45394ff57587acd": {
      "model_module": "jupyter-js-widgets",
      "model_module_version": "~2.1.4",
      "model_name": "LayoutModel",
      "state": {
       "_model_module_version": "~2.1.4",
       "_view_module_version": "~2.1.4"
      }
     },
     "eb084dadac63450fb0d954cb0aaa9245": {
      "model_module": "jupyter-js-widgets",
      "model_module_version": "~2.1.4",
      "model_name": "TextModel",
      "state": {
       "_model_module_version": "~2.1.4",
       "_view_module_version": "~2.1.4",
       "description": "Time:",
       "layout": "IPY_MODEL_52594e677d8f4625ae8ea661de94e711",
       "value": "0.10 seconds"
      }
     },
     "eb098535d8db413c8f480829f15c47e1": {
      "model_module": "jupyter-js-widgets",
      "model_module_version": "~2.1.4",
      "model_name": "LayoutModel",
      "state": {
       "_model_module_version": "~2.1.4",
       "_view_module_version": "~2.1.4"
      }
     },
     "eb30b09a21d24fabad54bc5f1ee5c625": {
      "model_module": "jupyter-js-widgets",
      "model_module_version": "~2.1.4",
      "model_name": "LayoutModel",
      "state": {
       "_model_module_version": "~2.1.4",
       "_view_module_version": "~2.1.4"
      }
     },
     "eb69a3eac27f4eb581925ed552a54bd5": {
      "model_module": "jupyter-js-widgets",
      "model_module_version": "~2.1.4",
      "model_name": "ButtonModel",
      "state": {
       "_model_module_version": "~2.1.4",
       "_view_module_version": "~2.1.4",
       "icon": "step-forward",
       "layout": "IPY_MODEL_6ddf6060ab6f437094405a3ba642d7c3",
       "style": "IPY_MODEL_482ed434710d4c9aa44b1d0c5d3b6393"
      }
     },
     "ebc561250f664b37915683b1a1cd0b12": {
      "model_module": "jupyter-js-widgets",
      "model_module_version": "~2.1.4",
      "model_name": "CheckboxModel",
      "state": {
       "_model_module_version": "~2.1.4",
       "_view_module_version": "~2.1.4",
       "description": "Update GUI",
       "disabled": false,
       "layout": "IPY_MODEL_40b1eea12c324f1b9180ff5822d84ab5",
       "value": true
      }
     },
     "ebc5f21af9104aa59644318053a83824": {
      "model_module": "jupyter-js-widgets",
      "model_module_version": "~2.1.4",
      "model_name": "VBoxModel",
      "state": {
       "_model_module_version": "~2.1.4",
       "_view_module_version": "~2.1.4",
       "children": [
        "IPY_MODEL_c2d992fa5ab0436892571127d4154626",
        "IPY_MODEL_d818bc5763134096bb99408a3652c4d1"
       ],
       "layout": "IPY_MODEL_cf10531ed3734a50bc0413780e39dc16"
      }
     },
     "ec06e12587764c9eafd9cadab635242c": {
      "model_module": "jupyter-js-widgets",
      "model_module_version": "~2.1.4",
      "model_name": "HBoxModel",
      "state": {
       "_model_module_version": "~2.1.4",
       "_view_module_version": "~2.1.4",
       "children": [
        "IPY_MODEL_0bf4459f4cc44648875bad76e338f00e",
        "IPY_MODEL_e3ed8da74c794da19cef7b77a06d25b7"
       ],
       "layout": "IPY_MODEL_4c1128d662af4abf98ea7c22129b9c50"
      }
     },
     "ec09cb76b2c54a329b7da4300df12a4d": {
      "model_module": "jupyter-js-widgets",
      "model_module_version": "~2.1.4",
      "model_name": "VBoxModel",
      "state": {
       "_model_module_version": "~2.1.4",
       "_view_module_version": "~2.1.4",
       "children": [
        "IPY_MODEL_bae9062ba932449194e0c4f8822cae35",
        "IPY_MODEL_17a15bb560854f1d994b8492990c3dd7",
        "IPY_MODEL_f15749ce4e1445fab349ead40078ca68"
       ],
       "layout": "IPY_MODEL_be5de267146040399e7417f52c4d07a7"
      }
     },
     "ec6e8e1b35814bb48d920eebf7bbb620": {
      "model_module": "jupyter-js-widgets",
      "model_module_version": "~2.1.4",
      "model_name": "ButtonModel",
      "state": {
       "_model_module_version": "~2.1.4",
       "_view_module_version": "~2.1.4",
       "description": "Clear",
       "layout": "IPY_MODEL_34837f63f3794f5d8eb62b63dcf66428",
       "style": "IPY_MODEL_29d5030242fa4b22a3f548526e5e2481"
      }
     },
     "ed240a6e2e1847df99ef81800da3d616": {
      "model_module": "jupyter-js-widgets",
      "model_module_version": "~2.1.4",
      "model_name": "LayoutModel",
      "state": {
       "_model_module_version": "~2.1.4",
       "_view_module_version": "~2.1.4"
      }
     },
     "ee2faa67717941d4b095a372f6d04350": {
      "model_module": "jupyter-js-widgets",
      "model_module_version": "~2.1.4",
      "model_name": "ButtonModel",
      "state": {
       "_model_module_version": "~2.1.4",
       "_view_module_version": "~2.1.4",
       "icon": "step-forward",
       "layout": "IPY_MODEL_20f0e814594c49bd8a51581966380287",
       "style": "IPY_MODEL_e2f88b47722f4746b50a18b70a3acdbe"
      }
     },
     "ee9f8441caa640dbad19b790687a281f": {
      "model_module": "jupyter-js-widgets",
      "model_module_version": "~2.1.4",
      "model_name": "FloatSliderModel",
      "state": {
       "_model_module_version": "~2.1.4",
       "_view_module_version": "~2.1.4",
       "layout": "IPY_MODEL_c3912063fbb4416285081ec93ecf9c20",
       "orientation": "vertical",
       "readout": false,
       "step": 0.1,
       "value": 40.51478129615331
      }
     },
     "eedcc676496446e3af109283c97d3e64": {
      "model_module": "jupyter-js-widgets",
      "model_module_version": "~2.1.4",
      "model_name": "LayoutModel",
      "state": {
       "_model_module_version": "~2.1.4",
       "_view_module_version": "~2.1.4"
      }
     },
     "ef17cefd287841fb9165222b3b04367b": {
      "model_module": "jupyter-js-widgets",
      "model_module_version": "~2.1.4",
      "model_name": "LayoutModel",
      "state": {
       "_model_module_version": "~2.1.4",
       "_view_module_version": "~2.1.4",
       "height": "248px",
       "padding": "0px 0px 0px 0px",
       "width": "10px"
      }
     },
     "ef5bd7547ed445a99141efc8d5c45a54": {
      "model_module": "jupyter-js-widgets",
      "model_module_version": "~2.1.4",
      "model_name": "HBoxModel",
      "state": {
       "_model_module_version": "~2.1.4",
       "_view_module_version": "~2.1.4",
       "children": [
        "IPY_MODEL_ee9f8441caa640dbad19b790687a281f",
        "IPY_MODEL_0a002f578258433891f8c7470a73124e"
       ],
       "layout": "IPY_MODEL_f91fc03f050a4758baee0b6ba98d2e74"
      }
     },
     "ef6d7e28aff64fa0908dfb4f7d85c624": {
      "model_module": "jupyter-js-widgets",
      "model_module_version": "~2.1.4",
      "model_name": "HBoxModel",
      "state": {
       "_model_module_version": "~2.1.4",
       "_view_module_version": "~2.1.4",
       "children": [
        "IPY_MODEL_dde87865a0464efc921ac4779d81b768",
        "IPY_MODEL_d4a40f8225184ebfab8d255c1114d587"
       ],
       "layout": "IPY_MODEL_0d3cb020418d49ff9032ca4b5bb17f52"
      }
     },
     "ef81960a70154358a69584ddb9a2fdcf": {
      "model_module": "jupyter-js-widgets",
      "model_module_version": "~2.1.4",
      "model_name": "LayoutModel",
      "state": {
       "_model_module_version": "~2.1.4",
       "_view_module_version": "~2.1.4"
      }
     },
     "ef99d54ad140493aa04bf73d57cde66f": {
      "model_module": "jupyter-js-widgets",
      "model_module_version": "~2.1.4",
      "model_name": "LayoutModel",
      "state": {
       "_model_module_version": "~2.1.4",
       "_view_module_version": "~2.1.4"
      }
     },
     "eff1646953f34d4cb93d2ba23bb3d6a1": {
      "model_module": "jupyter-js-widgets",
      "model_module_version": "~2.1.4",
      "model_name": "HBoxModel",
      "state": {
       "_model_module_version": "~2.1.4",
       "_view_module_version": "~2.1.4",
       "children": [
        "IPY_MODEL_6a48db0b11b047809e3a3e218c1caccb",
        "IPY_MODEL_26de2010859e45a1b37173e5c7cb1a91"
       ],
       "layout": "IPY_MODEL_773631b9438645e4b9b1dc2e4a4ac8a2"
      }
     },
     "f002c286ef5943728cfe78251271b5a4": {
      "model_module": "jupyter-js-widgets",
      "model_module_version": "~2.1.4",
      "model_name": "LayoutModel",
      "state": {
       "_model_module_version": "~2.1.4",
       "_view_module_version": "~2.1.4"
      }
     },
     "f0434801a1b24b0c94b987531ce04052": {
      "model_module": "jupyter-js-widgets",
      "model_module_version": "~2.1.4",
      "model_name": "LayoutModel",
      "state": {
       "_model_module_version": "~2.1.4",
       "_view_module_version": "~2.1.4"
      }
     },
     "f046436de8bc49dab640d3454a646314": {
      "model_module": "jupyter-js-widgets",
      "model_module_version": "~2.1.4",
      "model_name": "VBoxModel",
      "state": {
       "_model_module_version": "~2.1.4",
       "_view_module_version": "~2.1.4",
       "children": [
        "IPY_MODEL_95962c73b02042ea91aeded57fa4ab76",
        "IPY_MODEL_5c87c115897c42c9bc1e66512c1f3473"
       ],
       "layout": "IPY_MODEL_cd112ee4568543d7848a53ab79c2a26c"
      }
     },
     "f067874708ef4193a677c23c3f1274b6": {
      "model_module": "jupyter-js-widgets",
      "model_module_version": "~2.1.4",
      "model_name": "LayoutModel",
      "state": {
       "_model_module_version": "~2.1.4",
       "_view_module_version": "~2.1.4"
      }
     },
     "f07db3e586c545dfb359150301eb1022": {
      "model_module": "jupyter-js-widgets",
      "model_module_version": "~2.1.4",
      "model_name": "LayoutModel",
      "state": {
       "_model_module_version": "~2.1.4",
       "_view_module_version": "~2.1.4"
      }
     },
     "f0c02a6b7167460c9b2fc4f9ff53e349": {
      "model_module": "jupyter-js-widgets",
      "model_module_version": "~2.1.4",
      "model_name": "LayoutModel",
      "state": {
       "_model_module_version": "~2.1.4",
       "_view_module_version": "~2.1.4"
      }
     },
     "f0d08a7d4efa4394a3350cc1b32a4fde": {
      "model_module": "jupyter-js-widgets",
      "model_module_version": "~2.1.4",
      "model_name": "LayoutModel",
      "state": {
       "_model_module_version": "~2.1.4",
       "_view_module_version": "~2.1.4"
      }
     },
     "f1205f699d704a0eaee7a8e14bbb2dcc": {
      "model_module": "jupyter-js-widgets",
      "model_module_version": "~2.1.4",
      "model_name": "VBoxModel",
      "state": {
       "_model_module_version": "~2.1.4",
       "_view_module_version": "~2.1.4",
       "children": [
        "IPY_MODEL_4de738d1a696451aa4e88a62375b3503",
        "IPY_MODEL_eae7d9223f4447b6866e25f82cf2ee96",
        "IPY_MODEL_ab025fb4fec344a5a81a390e2423233f"
       ],
       "layout": "IPY_MODEL_6cf03112982f44a9a9acc1c0c2b93c86"
      }
     },
     "f133e60dc6fc4b0493e20948649cf81f": {
      "model_module": "jupyter-js-widgets",
      "model_module_version": "~2.1.4",
      "model_name": "HBoxModel",
      "state": {
       "_model_module_version": "~2.1.4",
       "_view_module_version": "~2.1.4",
       "children": [
        "IPY_MODEL_385bd0468ba44c0cbfa736ee505e9cf1",
        "IPY_MODEL_b8c659bc1e944ab293e5c3ffe5d366d2"
       ],
       "layout": "IPY_MODEL_9634a5f369994bcf8cd6aaea4a35c91d"
      }
     },
     "f15749ce4e1445fab349ead40078ca68": {
      "model_module": "jupyter-js-widgets",
      "model_module_version": "~2.1.4",
      "model_name": "OutputModel",
      "state": {
       "_dom_classes": [],
       "_model_module": "jupyter-js-widgets",
       "_model_module_version": "~2.1.4",
       "_view_module": "jupyter-js-widgets",
       "_view_module_version": "~2.1.4",
       "layout": "IPY_MODEL_58e4178eef9445379fa19eb14756ac7f",
       "msg_throttle": 1
      }
     },
     "f191dc6e8bb34f4090797bf946f17a83": {
      "model_module": "jupyter-js-widgets",
      "model_module_version": "~2.1.4",
      "model_name": "VBoxModel",
      "state": {
       "_model_module_version": "~2.1.4",
       "_view_module_version": "~2.1.4",
       "children": [
        "IPY_MODEL_111ff6ea4ddd4171b8cb57bfab6a976c",
        "IPY_MODEL_9e2ee348067540e0a964a87d5375e970"
       ],
       "layout": "IPY_MODEL_0eece61af07948918a58c2f06ecbdf23"
      }
     },
     "f1a139e5e09947cd874612ab95a23fcd": {
      "model_module": "jupyter-js-widgets",
      "model_module_version": "~2.1.4",
      "model_name": "VBoxModel",
      "state": {
       "_model_module_version": "~2.1.4",
       "_view_module_version": "~2.1.4",
       "children": [
        "IPY_MODEL_aed8bb6fbaad4028ac91cc869a81da35",
        "IPY_MODEL_60f4649cd1ca45dfb286c365cf7f071e",
        "IPY_MODEL_5b8eb485edba4109941400944f7e566f"
       ],
       "layout": "IPY_MODEL_b69cd116b91e4895810f68aa655a7946"
      }
     },
     "f1b94a2bb90341c2b13ea649e0a4147e": {
      "model_module": "jupyter-js-widgets",
      "model_module_version": "~2.1.4",
      "model_name": "LayoutModel",
      "state": {
       "_model_module_version": "~2.1.4",
       "_view_module_version": "~2.1.4"
      }
     },
     "f2312edfe1d74b858a8f07e7019079e4": {
      "model_module": "jupyter-js-widgets",
      "model_module_version": "~2.1.4",
      "model_name": "LayoutModel",
      "state": {
       "_model_module_version": "~2.1.4",
       "_view_module_version": "~2.1.4"
      }
     },
     "f26ac8c5df6144d0857a534f2d2104cf": {
      "model_module": "jupyter-js-widgets",
      "model_module_version": "~2.1.4",
      "model_name": "VBoxModel",
      "state": {
       "_model_module_version": "~2.1.4",
       "_view_module_version": "~2.1.4",
       "children": [
        "IPY_MODEL_b9ea632ecf0c490abbb2402e95ed42b5",
        "IPY_MODEL_5536b1548c974736a5f1d0ef02891cdb",
        "IPY_MODEL_def06efbe6e0440881ce76f46340f8f9"
       ],
       "layout": "IPY_MODEL_742b7aae91b04332a4211c709bced994"
      }
     },
     "f26fde81b6954700b11be253d4de5ea4": {
      "model_module": "jupyter-js-widgets",
      "model_module_version": "~2.1.4",
      "model_name": "HTMLModel",
      "state": {
       "_model_module_version": "~2.1.4",
       "_view_module_version": "~2.1.4",
       "layout": "IPY_MODEL_f7bf81b20e7b4b50becc4a73fe762709",
       "value": "<svg baseProfile=\"full\" height=\"240\" version=\"1.1\" width=\"240\" xmlns=\"http://www.w3.org/2000/svg\" xmlns:ev=\"http://www.w3.org/2001/xml-events\" xmlns:xlink=\"http://www.w3.org/1999/xlink\"><defs /><rect fill=\"white\" height=\"240\" stroke=\"#000000\" stroke-width=\"1\" width=\"240\" x=\"0\" y=\"0\" /><rect fill=\"#eef3dd\" height=\"240.0\" stroke=\"#bebebe\" stroke-width=\"1\" width=\"240.0\" x=\"0.0\" y=\"0.0\" /><circle cx=\"120.0\" cy=\"195.0\" fill=\"#ffff00\" r=\"15.0\" stroke=\"#ffff00\" stroke-width=\"1\" /><line fill=\"#800080\" stroke=\"#add8e6\" stroke-width=\"1\" x1=\"74.11041554432227\" x2=\"214.6584762352068\" y1=\"62.30672807895723\" y2=\"240.0\" /><line fill=\"#800080\" stroke=\"#add8e6\" stroke-width=\"1\" x1=\"69.88574624094869\" x2=\"111.69106979626238\" y1=\"63.735772961783866\" y2=\"240.0\" /><line fill=\"#800080\" stroke=\"#add8e6\" stroke-width=\"1\" x1=\"66.9851097069663\" x2=\"30.46104576048264\" y1=\"62.97006564320411\" y2=\"240.0\" /><line fill=\"#800080\" stroke=\"#add8e6\" stroke-width=\"1\" x1=\"63.57533401609401\" x2=\"0.0\" y1=\"61.077070730919225\" y2=\"146.50224\" /><line fill=\"#800080\" stroke=\"#add8e6\" stroke-width=\"1\" x1=\"59.85316434401791\" x2=\"0.0\" y1=\"56.37117518041273\" y2=\"82.20072599999999\" /><line fill=\"#800080\" stroke=\"#add8e6\" stroke-width=\"1\" x1=\"58.79633642839889\" x2=\"0.0\" y1=\"52.6170954320898\" y2=\"50.915760000000006\" /><line fill=\"#800080\" stroke=\"#add8e6\" stroke-width=\"1\" x1=\"58.719237224720395\" x2=\"0.0\" y1=\"49.61808631026436\" y2=\"20.140002\" /><line fill=\"#800080\" stroke=\"#add8e6\" stroke-width=\"1\" x1=\"61.082821692055916\" x2=\"24.82835600076345\" y1=\"45.83609365218447\" y2=\"0.0\" /><line fill=\"#800080\" stroke=\"#add8e6\" stroke-width=\"1\" x1=\"70.49461279306894\" x2=\"40.12831250593714\" y1=\"38.391754308032276\" y2=\"0.0\" /><line fill=\"#800080\" stroke=\"#add8e6\" stroke-width=\"1\" x1=\"74.71928209644251\" x2=\"65.95268303887961\" y1=\"36.96270942520564\" y2=\"0.0\" /><line fill=\"#800080\" stroke=\"#add8e6\" stroke-width=\"1\" x1=\"77.6199186304249\" x2=\"85.40388402191181\" y1=\"37.7284167437854\" y2=\"0.0\" /><line fill=\"#800080\" stroke=\"#add8e6\" stroke-width=\"1\" x1=\"81.02969432129719\" x2=\"110.51684246319503\" y1=\"39.621411656070286\" y2=\"0.0\" /><line fill=\"#800080\" stroke=\"#add8e6\" stroke-width=\"1\" x1=\"84.75186399337329\" x2=\"187.4687068849256\" y1=\"44.327307206576776\" y2=\"0.0\" /><line fill=\"#800080\" stroke=\"#add8e6\" stroke-width=\"1\" x1=\"85.80869190899232\" x2=\"240.0\" y1=\"48.08138695489971\" y2=\"52.54308\" /><line fill=\"#800080\" stroke=\"#add8e6\" stroke-width=\"1\" x1=\"85.88579111267079\" x2=\"240.0\" y1=\"51.08039607672515\" y2=\"128.44842\" /><line fill=\"#800080\" stroke=\"#add8e6\" stroke-width=\"1\" x1=\"83.52220664533527\" x2=\"229.9584374861335\" y1=\"54.86238873480503\" y2=\"240.0\" /><line fill=\"#800080\" stroke=\"#a020f0\" stroke-width=\"1\" x1=\"72.3025141686956\" x2=\"100.11340934243795\" y1=\"50.349241193494755\" y2=\"240.0\" /><line fill=\"#800080\" stroke=\"#a020f0\" stroke-width=\"1\" x1=\"72.3025141686956\" x2=\"0.0\" y1=\"50.349241193494755\" y2=\"21.638747999999993\" /><line fill=\"#800080\" stroke=\"#ffa500\" stroke-width=\"1\" x1=\"120.0\" x2=\"68.22804610618914\" y1=\"195.0\" y2=\"66.95944016905236\" /><line fill=\"#800080\" stroke=\"#ffa500\" stroke-width=\"1\" x1=\"120.0\" x2=\"55.20045225392279\" y1=\"195.0\" y2=\"50.488805742279595\" /><polygon fill=\"red\" points=\"64.69198491771684,62.48883939607118 71.75746776906902,64.16781291499528 85.87515442058853,53.001303898766984 85.86851489499611,45.73907587172873 79.91304341967437,38.20964299091833 72.84756056832218,36.53066947199423 58.729873916802674,47.69717848822253 58.73651344239508,54.959406515260774\" stroke=\"red\" stroke-width=\"1\" /><polygon points=\"-3.0,-3.0 0,0 3.0,-3.0 0,3.0\" stroke=\"black\" stroke-width=\"1\" transform=\"translate(72.3025141686956,50.349241193494755) rotate(51.65745389069535)\" /><polygon fill=\"black\" points=\"63.48095859474083,52.736741404097394 67.24567503514604,49.759005666436494 71.71227864163735,55.40608032704431 67.94756220123216,58.38381606470521\" stroke=\"black\" stroke-width=\"1\" /><circle cx=\"68.22804610618914\" cy=\"66.95944016905236\" fill=\"yellow\" r=\"1.5\" stroke=\"orange\" stroke-width=\"1\" /><circle cx=\"55.20045225392279\" cy=\"50.488805742279595\" fill=\"yellow\" r=\"1.5\" stroke=\"orange\" stroke-width=\"1\" /></svg>"
      }
     },
     "f2c4fc23d6964ff1951226b37f5d8855": {
      "model_module": "jupyter-js-widgets",
      "model_module_version": "~2.1.4",
      "model_name": "LayoutModel",
      "state": {
       "_model_module_version": "~2.1.4",
       "_view_module_version": "~2.1.4"
      }
     },
     "f2ea052af929413aae6e992abcaffbec": {
      "model_module": "jupyter-js-widgets",
      "model_module_version": "~2.1.4",
      "model_name": "FloatSliderModel",
      "state": {
       "_model_module_version": "~2.1.4",
       "_view_module_version": "~2.1.4",
       "layout": "IPY_MODEL_3c98cb1d697c4ef1ab2b1926084247c6",
       "readout": false,
       "step": 0.1,
       "value": 87.5
      }
     },
     "f35c95b965dd4cab8be1c953f539ce71": {
      "model_module": "jupyter-js-widgets",
      "model_module_version": "~2.1.4",
      "model_name": "ImageModel",
      "state": {
       "_b64value": "iVBORw0KGgoAAAANSUhEUgAAADwAAAAoCAIAAAAt2Q6oAAAA8klEQVR4nO3WsQrCMBCA4ctd+uwuHbsoCCq4CNVB0KGOdXDo4iSCa0cXXaUOrVKDlkbl0sD9Q8jWj5TmquJDDr6FrgHfJGiuBM2VoLkSNFeC5kq7BgAA3Papeg0A6quxcYO+7hJEJCKlFCI+QS2zRudJDADGedQ3DRVFQURBEBCR7XPrvUcfF2NELM+gXI1357YKnU0ielRy3bKa09tBqLXWuhNfZMs6faKfEjRXgubKS7Q6X04AEPaGxj3dPFx+n4jGGLf696jQRv1o5h+6oelo5R/6Ly3nqX9oo8068w9tm5dXnqC5EjRXguZK0Fx5ib4DZCE5MMDH4PcAAAAASUVORK5CYII=",
       "_model_module_version": "~2.1.4",
       "_view_module_version": "~2.1.4",
       "layout": "IPY_MODEL_be60ccdfd946434b94e531c67ee6618c",
       "width": "240"
      }
     },
     "f385409bba1c4362933e45ae6ca34455": {
      "model_module": "jupyter-js-widgets",
      "model_module_version": "~2.1.4",
      "model_name": "LayoutModel",
      "state": {
       "_model_module_version": "~2.1.4",
       "_view_module_version": "~2.1.4"
      }
     },
     "f38e263de3614bf9b892e4b4c21b0c49": {
      "model_module": "jupyter-js-widgets",
      "model_module_version": "~2.1.4",
      "model_name": "LayoutModel",
      "state": {
       "_model_module_version": "~2.1.4",
       "_view_module_version": "~2.1.4"
      }
     },
     "f38ff2d0a671422bb9660459b2d56ebc": {
      "model_module": "jupyter-js-widgets",
      "model_module_version": "~2.1.4",
      "model_name": "FloatSliderModel",
      "state": {
       "_model_module_version": "~2.1.4",
       "_view_module_version": "~2.1.4",
       "layout": "IPY_MODEL_9e86d4194216406a9953e8a97d835e2d",
       "orientation": "vertical",
       "readout": false,
       "step": 0.1,
       "value": 79.02114950271051
      }
     },
     "f3b75886f75d4d08a6a62e6640f448e2": {
      "model_module": "jupyter-js-widgets",
      "model_module_version": "~2.1.4",
      "model_name": "VBoxModel",
      "state": {
       "_model_module_version": "~2.1.4",
       "_view_module_version": "~2.1.4",
       "children": [
        "IPY_MODEL_8bd0e213132b40babcefa3ab18f06dd8",
        "IPY_MODEL_db73d951101b4c1ca52cd0a0ca1a373f",
        "IPY_MODEL_2c115901cf2a42e8b94bee130a078c3b"
       ],
       "layout": "IPY_MODEL_74c6bbed9629466897f13338d0ae4547"
      }
     },
     "f3f531993db14d70b5557279aa85ed51": {
      "model_module": "jupyter-js-widgets",
      "model_module_version": "~2.1.4",
      "model_name": "VBoxModel",
      "state": {
       "_model_module_version": "~2.1.4",
       "_view_module_version": "~2.1.4",
       "children": [
        "IPY_MODEL_1510f629f9aa4d65b642284ae79d349a",
        "IPY_MODEL_71e3b25d68b84db58de22ca84cd1ee1d"
       ],
       "layout": "IPY_MODEL_08e20ec82fa24ab8949981c717c64385"
      }
     },
     "f417c658eab44a639ebe57f5666a9dd4": {
      "model_module": "jupyter-js-widgets",
      "model_module_version": "~2.1.4",
      "model_name": "VBoxModel",
      "state": {
       "_model_module_version": "~2.1.4",
       "_view_module_version": "~2.1.4",
       "children": [
        "IPY_MODEL_51433b6aff55459f99106697e69f3b60",
        "IPY_MODEL_ce5136ac31854c2bb66aeda9f602c305"
       ],
       "layout": "IPY_MODEL_8ff806c992014fdb9360919f9e859faf"
      }
     },
     "f4568b09129b45cba45217f604f48a79": {
      "model_module": "jupyter-js-widgets",
      "model_module_version": "~2.1.4",
      "model_name": "LayoutModel",
      "state": {
       "_model_module_version": "~2.1.4",
       "_view_module_version": "~2.1.4"
      }
     },
     "f46154d9cccc478fa726a96f383b4e63": {
      "model_module": "jupyter-js-widgets",
      "model_module_version": "~2.1.4",
      "model_name": "LayoutModel",
      "state": {
       "_model_module_version": "~2.1.4",
       "_view_module_version": "~2.1.4"
      }
     },
     "f4627df5da824c77aa48c6f2e4bdd067": {
      "model_module": "jupyter-js-widgets",
      "model_module_version": "~2.1.4",
      "model_name": "FloatSliderModel",
      "state": {
       "_model_module_version": "~2.1.4",
       "_view_module_version": "~2.1.4",
       "layout": "IPY_MODEL_725e15b696e2418bb14bdc6fcd360c4f",
       "readout": false,
       "step": 0.1,
       "value": 64.34929274741538
      }
     },
     "f47024d78b9d4433a6d72efb962dd602": {
      "model_module": "jupyter-js-widgets",
      "model_module_version": "~2.1.4",
      "model_name": "PlayModel",
      "state": {
       "_model_module_version": "~2.1.4",
       "_view_module_version": "~2.1.4",
       "layout": "IPY_MODEL_a0e9d2a41d164e488c36aa8174ff8d03",
       "max": 1000000
      }
     },
     "f4714c87021f41dea537812c2be34fbf": {
      "model_module": "jupyter-js-widgets",
      "model_module_version": "~2.1.4",
      "model_name": "LayoutModel",
      "state": {
       "_model_module_version": "~2.1.4",
       "_view_module_version": "~2.1.4"
      }
     },
     "f483bc8509174cf4a80d0a7884410794": {
      "model_module": "jupyter-js-widgets",
      "model_module_version": "~2.1.4",
      "model_name": "LayoutModel",
      "state": {
       "_model_module_version": "~2.1.4",
       "_view_module_version": "~2.1.4"
      }
     },
     "f48a38d4869142c09d9bdf1392f69db9": {
      "model_module": "jupyter-js-widgets",
      "model_module_version": "~2.1.4",
      "model_name": "ButtonStyleModel",
      "state": {
       "_model_module_version": "~2.1.4",
       "_view_module_version": "~2.1.4"
      }
     },
     "f50a3d4cfa9c4e43baa2c16b08a5c474": {
      "model_module": "jupyter-js-widgets",
      "model_module_version": "~2.1.4",
      "model_name": "ButtonStyleModel",
      "state": {
       "_model_module_version": "~2.1.4",
       "_view_module_version": "~2.1.4"
      }
     },
     "f54c6c4298db4a20a2cafd2bcffca1bd": {
      "model_module": "jupyter-js-widgets",
      "model_module_version": "~2.1.4",
      "model_name": "LayoutModel",
      "state": {
       "_model_module_version": "~2.1.4",
       "_view_module_version": "~2.1.4",
       "height": "30px",
       "padding": "0px 0px 0px 10px",
       "width": "260px"
      }
     },
     "f5518e3e43ac4cd9b54b3cf99267a10f": {
      "model_module": "jupyter-js-widgets",
      "model_module_version": "~2.1.4",
      "model_name": "LayoutModel",
      "state": {
       "_model_module_version": "~2.1.4",
       "_view_module_version": "~2.1.4"
      }
     },
     "f5647ecd111b43788c1b9970544e3fa0": {
      "model_module": "jupyter-js-widgets",
      "model_module_version": "~2.1.4",
      "model_name": "VBoxModel",
      "state": {
       "_model_module_version": "~2.1.4",
       "_view_module_version": "~2.1.4",
       "children": [
        "IPY_MODEL_2d24a26d8a244264ad07152c5dab6205",
        "IPY_MODEL_8eab226f306544b3814cdcaa928dc101"
       ],
       "layout": "IPY_MODEL_1b9c50baeb5f459a81a08545b74a8e7f"
      }
     },
     "f5f04fdb14a84b3c9a8a1d51e8fa06d8": {
      "model_module": "jupyter-js-widgets",
      "model_module_version": "~2.1.4",
      "model_name": "CheckboxModel",
      "state": {
       "_model_module_version": "~2.1.4",
       "_view_module_version": "~2.1.4",
       "description": "Update GUI",
       "disabled": false,
       "layout": "IPY_MODEL_4ed5a7035bc0479b8c72773896e50d7f",
       "value": true
      }
     },
     "f5fa5b9ed87a4d2aaa8dce14fbe00646": {
      "model_module": "jupyter-js-widgets",
      "model_module_version": "~2.1.4",
      "model_name": "LayoutModel",
      "state": {
       "_model_module_version": "~2.1.4",
       "_view_module_version": "~2.1.4"
      }
     },
     "f6401f14561248c8a3956818ded521d1": {
      "model_module": "jupyter-js-widgets",
      "model_module_version": "~2.1.4",
      "model_name": "LayoutModel",
      "state": {
       "_model_module_version": "~2.1.4",
       "_view_module_version": "~2.1.4"
      }
     },
     "f6842c6e9487489d838c0e6d83ab645b": {
      "model_module": "jupyter-js-widgets",
      "model_module_version": "~2.1.4",
      "model_name": "LayoutModel",
      "state": {
       "_model_module_version": "~2.1.4",
       "_view_module_version": "~2.1.4"
      }
     },
     "f73036def2944dd68836b4400967fde7": {
      "model_module": "jupyter-js-widgets",
      "model_module_version": "~2.1.4",
      "model_name": "LayoutModel",
      "state": {
       "_model_module_version": "~2.1.4",
       "_view_module_version": "~2.1.4"
      }
     },
     "f7318002dec948a690ad58bf3e385a25": {
      "model_module": "jupyter-js-widgets",
      "model_module_version": "~2.1.4",
      "model_name": "ButtonStyleModel",
      "state": {
       "_model_module_version": "~2.1.4",
       "_view_module_version": "~2.1.4"
      }
     },
     "f746451a7cbc4bd69d6b1f24d99ca870": {
      "model_module": "jupyter-js-widgets",
      "model_module_version": "~2.1.4",
      "model_name": "LayoutModel",
      "state": {
       "_model_module_version": "~2.1.4",
       "_view_module_version": "~2.1.4"
      }
     },
     "f758c66b9700498fbade24b196adabab": {
      "model_module": "jupyter-js-widgets",
      "model_module_version": "~2.1.4",
      "model_name": "ButtonModel",
      "state": {
       "_model_module_version": "~2.1.4",
       "_view_module_version": "~2.1.4",
       "description": "Clear",
       "layout": "IPY_MODEL_b96df3dc04f64d80ac3e4f6d6b7525a4",
       "style": "IPY_MODEL_838ac36858534526b77ae4a98f3ec6ed"
      }
     },
     "f7bf81b20e7b4b50becc4a73fe762709": {
      "model_module": "jupyter-js-widgets",
      "model_module_version": "~2.1.4",
      "model_name": "LayoutModel",
      "state": {
       "_model_module_version": "~2.1.4",
       "_view_module_version": "~2.1.4"
      }
     },
     "f7c4cf874358403388231c0ab8249a9e": {
      "model_module": "jupyter-js-widgets",
      "model_module_version": "~2.1.4",
      "model_name": "LayoutModel",
      "state": {
       "_model_module_version": "~2.1.4",
       "_view_module_version": "~2.1.4"
      }
     },
     "f8050cf947c7479e9c0ad920b70fd2f5": {
      "model_module": "jupyter-js-widgets",
      "model_module_version": "~2.1.4",
      "model_name": "LayoutModel",
      "state": {
       "_model_module_version": "~2.1.4",
       "_view_module_version": "~2.1.4"
      }
     },
     "f82c4c0946fb460aa86a757177a556f3": {
      "model_module": "jupyter-js-widgets",
      "model_module_version": "~2.1.4",
      "model_name": "LayoutModel",
      "state": {
       "_model_module_version": "~2.1.4",
       "_view_module_version": "~2.1.4"
      }
     },
     "f880610e5ef2457f8de275d654e8eecf": {
      "model_module": "jupyter-js-widgets",
      "model_module_version": "~2.1.4",
      "model_name": "LayoutModel",
      "state": {
       "_model_module_version": "~2.1.4",
       "_view_module_version": "~2.1.4",
       "height": "248px",
       "padding": "0px 0px 0px 0px",
       "width": "10px"
      }
     },
     "f887d2ed293747138cbc73a51ce97835": {
      "model_module": "jupyter-js-widgets",
      "model_module_version": "~2.1.4",
      "model_name": "LayoutModel",
      "state": {
       "_model_module_version": "~2.1.4",
       "_view_module_version": "~2.1.4",
       "height": "20px",
       "padding": "0px 0px 0px 0px",
       "width": "248px"
      }
     },
     "f8abdd022e5d4985a47349f92b83e1b9": {
      "model_module": "jupyter-js-widgets",
      "model_module_version": "~2.1.4",
      "model_name": "LayoutModel",
      "state": {
       "_model_module_version": "~2.1.4",
       "_view_module_version": "~2.1.4"
      }
     },
     "f8bfe419296e4c03a4072702bc10e2e7": {
      "model_module": "jupyter-js-widgets",
      "model_module_version": "~2.1.4",
      "model_name": "LayoutModel",
      "state": {
       "_model_module_version": "~2.1.4",
       "_view_module_version": "~2.1.4"
      }
     },
     "f8ce085c683840209ea5dc542c822bdd": {
      "model_module": "jupyter-js-widgets",
      "model_module_version": "~2.1.4",
      "model_name": "PlayModel",
      "state": {
       "_model_module_version": "~2.1.4",
       "_view_module_version": "~2.1.4",
       "layout": "IPY_MODEL_7e568dbfed214ca69054f6783bc7877a",
       "max": 1000000
      }
     },
     "f8d87d2707d142a0a41b0602e03c13c5": {
      "model_module": "jupyter-js-widgets",
      "model_module_version": "~2.1.4",
      "model_name": "LayoutModel",
      "state": {
       "_model_module_version": "~2.1.4",
       "_view_module_version": "~2.1.4"
      }
     },
     "f91fc03f050a4758baee0b6ba98d2e74": {
      "model_module": "jupyter-js-widgets",
      "model_module_version": "~2.1.4",
      "model_name": "LayoutModel",
      "state": {
       "_model_module_version": "~2.1.4",
       "_view_module_version": "~2.1.4"
      }
     },
     "f944a643e06b4c298a1949335380f268": {
      "model_module": "jupyter-js-widgets",
      "model_module_version": "~2.1.4",
      "model_name": "PlayModel",
      "state": {
       "_model_module_version": "~2.1.4",
       "_view_module_version": "~2.1.4",
       "layout": "IPY_MODEL_7b72f9fc6a224eb5adbdae6c130d3ca2",
       "max": 1000000,
       "value": 14
      }
     },
     "f97d5173420d4586b1187264f6a4cacf": {
      "model_module": "jupyter-js-widgets",
      "model_module_version": "~2.1.4",
      "model_name": "LayoutModel",
      "state": {
       "_model_module_version": "~2.1.4",
       "_view_module_version": "~2.1.4"
      }
     },
     "f986b33ffc834ffdbacfa4ef5efbddcb": {
      "model_module": "jupyter-js-widgets",
      "model_module_version": "~2.1.4",
      "model_name": "LayoutModel",
      "state": {
       "_model_module_version": "~2.1.4",
       "_view_module_version": "~2.1.4"
      }
     },
     "f99f0598469b46049788ecb849dbb413": {
      "model_module": "jupyter-js-widgets",
      "model_module_version": "~2.1.4",
      "model_name": "LayoutModel",
      "state": {
       "_model_module_version": "~2.1.4",
       "_view_module_version": "~2.1.4",
       "height": "248px",
       "padding": "0px 0px 0px 0px",
       "width": "10px"
      }
     },
     "f9b1824837764fdebfb4e63586dc0e0d": {
      "model_module": "jupyter-js-widgets",
      "model_module_version": "~2.1.4",
      "model_name": "LayoutModel",
      "state": {
       "_model_module_version": "~2.1.4",
       "_view_module_version": "~2.1.4"
      }
     },
     "f9e5d7be1de04c6b9cc4a7e22538171c": {
      "model_module": "jupyter-js-widgets",
      "model_module_version": "~2.1.4",
      "model_name": "LayoutModel",
      "state": {
       "_model_module_version": "~2.1.4",
       "_view_module_version": "~2.1.4"
      }
     },
     "fa1391d70be0476da5bcc5d63b27d6d1": {
      "model_module": "jupyter-js-widgets",
      "model_module_version": "~2.1.4",
      "model_name": "VBoxModel",
      "state": {
       "_model_module_version": "~2.1.4",
       "_view_module_version": "~2.1.4",
       "children": [
        "IPY_MODEL_37f429e5607a4ec28209d5ebcb08cf58",
        "IPY_MODEL_e1093211e6784273b49f507286ae3415"
       ],
       "layout": "IPY_MODEL_9e09425c07bf48299762803b282e0e7b"
      }
     },
     "fa61f4feccc5412b8b365b8d608f8824": {
      "model_module": "jupyter-js-widgets",
      "model_module_version": "~2.1.4",
      "model_name": "HTMLModel",
      "state": {
       "_model_module_version": "~2.1.4",
       "_view_module_version": "~2.1.4",
       "layout": "IPY_MODEL_02e474a7727647799b4af6c2a8da9c83",
       "value": "<svg baseProfile=\"full\" height=\"240\" version=\"1.1\" width=\"240\" xmlns=\"http://www.w3.org/2000/svg\" xmlns:ev=\"http://www.w3.org/2001/xml-events\" xmlns:xlink=\"http://www.w3.org/1999/xlink\"><defs /><rect fill=\"white\" height=\"240\" stroke=\"#000000\" stroke-width=\"1\" width=\"240\" x=\"0\" y=\"0\" /><rect fill=\"#eef3dd\" height=\"240.0\" stroke=\"#bebebe\" stroke-width=\"1\" width=\"240.0\" x=\"0.0\" y=\"0.0\" /><circle cx=\"120.0\" cy=\"195.0\" fill=\"#ffff00\" r=\"15.0\" stroke=\"#ffff00\" stroke-width=\"1\" /><line fill=\"#800080\" stroke=\"#add8e6\" stroke-width=\"1\" x1=\"199.5\" x2=\"0.0\" y1=\"114.0\" y2=\"114.0\" /><line fill=\"#800080\" stroke=\"#add8e6\" stroke-width=\"1\" x1=\"201.0\" x2=\"0.0\" y1=\"109.80000000000001\" y2=\"16.07215199999999\" /><line fill=\"#800080\" stroke=\"#add8e6\" stroke-width=\"1\" x1=\"203.4\" x2=\"112.77724019461742\" y1=\"107.99999999999999\" y2=\"0.0\" /><line fill=\"#800080\" stroke=\"#add8e6\" stroke-width=\"1\" x1=\"207.0\" x2=\"178.4634099424212\" y1=\"106.5\" y2=\"0.0\" /><line fill=\"#800080\" stroke=\"#add8e6\" stroke-width=\"1\" x1=\"213.0\" x2=\"240.0\" y1=\"106.5\" y2=\"5.734632000000062\" /><line fill=\"#800080\" stroke=\"#add8e6\" stroke-width=\"1\" x1=\"216.6\" x2=\"240.0\" y1=\"107.99999999999999\" y2=\"80.11296600000001\" /><line fill=\"#800080\" stroke=\"#add8e6\" stroke-width=\"1\" x1=\"219.0\" x2=\"240.0\" y1=\"109.80000000000001\" y2=\"100.007538\" /><line fill=\"#800080\" stroke=\"#add8e6\" stroke-width=\"1\" x1=\"220.5\" x2=\"240.0\" y1=\"114.0\" y2=\"114.0\" /><line fill=\"#800080\" stroke=\"#add8e6\" stroke-width=\"1\" x1=\"220.5\" x2=\"240.0\" y1=\"126.0\" y2=\"126.0\" /><line fill=\"#800080\" stroke=\"#add8e6\" stroke-width=\"1\" x1=\"219.0\" x2=\"240.0\" y1=\"130.2\" y2=\"139.992462\" /><line fill=\"#800080\" stroke=\"#add8e6\" stroke-width=\"1\" x1=\"216.6\" x2=\"240.0\" y1=\"132.0\" y2=\"159.88703399999997\" /><line fill=\"#800080\" stroke=\"#add8e6\" stroke-width=\"1\" x1=\"213.0\" x2=\"240.0\" y1=\"133.5\" y2=\"234.26536799999994\" /><line fill=\"#800080\" stroke=\"#add8e6\" stroke-width=\"1\" x1=\"207.0\" x2=\"178.4634099424212\" y1=\"133.5\" y2=\"240.0\" /><line fill=\"#800080\" stroke=\"#add8e6\" stroke-width=\"1\" x1=\"203.4\" x2=\"112.7772401946174\" y1=\"132.0\" y2=\"240.0\" /><line fill=\"#800080\" stroke=\"#add8e6\" stroke-width=\"1\" x1=\"201.0\" x2=\"0.0\" y1=\"130.2\" y2=\"223.927848\" /><line fill=\"#800080\" stroke=\"#add8e6\" stroke-width=\"1\" x1=\"199.5\" x2=\"0.0\" y1=\"126.0\" y2=\"126.0\" /><line fill=\"#800080\" stroke=\"#a020f0\" stroke-width=\"1\" x1=\"210.0\" x2=\"2.1539193796210117\" y1=\"120.0\" y2=\"0.0\" /><line fill=\"#800080\" stroke=\"#a020f0\" stroke-width=\"1\" x1=\"210.0\" x2=\"240.0\" y1=\"120.0\" y2=\"102.67948799999999\" /><line fill=\"#800080\" stroke=\"#ffa500\" stroke-width=\"1\" x1=\"120.0\" x2=\"199.5\" y1=\"195.0\" y2=\"106.5\" /><line fill=\"#800080\" stroke=\"#ffa500\" stroke-width=\"1\" x1=\"120.0\" x2=\"220.5\" y1=\"195.0\" y2=\"106.5\" /><polygon fill=\"red\" points=\"205.2,106.5 199.5,111.0 199.5,129.0 205.2,133.5 214.8,133.5 220.5,129.0 220.5,111.0 214.8,106.5\" stroke=\"red\" stroke-width=\"1\" /><polygon points=\"-3.0,-3.0 0,0 3.0,-3.0 0,3.0\" stroke=\"black\" stroke-width=\"1\" transform=\"translate(210.0,120.0) rotate(180.0)\" /><polygon fill=\"black\" points=\"213.6,111.6 213.6,116.39999999999999 206.4,116.39999999999999 206.4,111.6\" stroke=\"black\" stroke-width=\"1\" /><circle cx=\"199.5\" cy=\"106.5\" fill=\"yellow\" r=\"1.5\" stroke=\"orange\" stroke-width=\"1\" /><circle cx=\"220.5\" cy=\"106.5\" fill=\"yellow\" r=\"1.5\" stroke=\"orange\" stroke-width=\"1\" /></svg>"
      }
     },
     "fa65a4c4fd954790a5b1d8b4005cce4b": {
      "model_module": "jupyter-js-widgets",
      "model_module_version": "~2.1.4",
      "model_name": "LayoutModel",
      "state": {
       "_model_module_version": "~2.1.4",
       "_view_module_version": "~2.1.4"
      }
     },
     "fa6d1373f62a4253a333327c70b83ac6": {
      "model_module": "jupyter-js-widgets",
      "model_module_version": "~2.1.4",
      "model_name": "FloatSliderModel",
      "state": {
       "_model_module_version": "~2.1.4",
       "_view_module_version": "~2.1.4",
       "layout": "IPY_MODEL_b7ac66336cef46a595db7c0fe8fdb517",
       "readout": false,
       "step": 0.1,
       "value": 100
      }
     },
     "fa91b6414bb74b36827ab5df7d9445f1": {
      "model_module": "jupyter-js-widgets",
      "model_module_version": "~2.1.4",
      "model_name": "LayoutModel",
      "state": {
       "_model_module_version": "~2.1.4",
       "_view_module_version": "~2.1.4"
      }
     },
     "fab9360486be4003baa0d7d32c0edad9": {
      "model_module": "jupyter-js-widgets",
      "model_module_version": "~2.1.4",
      "model_name": "OutputModel",
      "state": {
       "_dom_classes": [],
       "_model_module": "jupyter-js-widgets",
       "_model_module_version": "~2.1.4",
       "_view_module": "jupyter-js-widgets",
       "_view_module_version": "~2.1.4",
       "layout": "IPY_MODEL_d3415cc7212e4194adf34775f359f2e7",
       "msg_throttle": 1
      }
     },
     "fadad7500026456295aeb283409fdb75": {
      "model_module": "jupyter-js-widgets",
      "model_module_version": "~2.1.4",
      "model_name": "LayoutModel",
      "state": {
       "_model_module_version": "~2.1.4",
       "_view_module_version": "~2.1.4"
      }
     },
     "fadc4fc515c04a6396e41021c97e4c61": {
      "model_module": "jupyter-js-widgets",
      "model_module_version": "~2.1.4",
      "model_name": "CheckboxModel",
      "state": {
       "_model_module_version": "~2.1.4",
       "_view_module_version": "~2.1.4",
       "description": "Update GUI",
       "disabled": false,
       "layout": "IPY_MODEL_de22942d334b4fc2a2b9bad1ee8422a9",
       "value": true
      }
     },
     "fb1cb497965e4d189b44d2331df852f4": {
      "model_module": "jupyter-js-widgets",
      "model_module_version": "~2.1.4",
      "model_name": "HBoxModel",
      "state": {
       "_model_module_version": "~2.1.4",
       "_view_module_version": "~2.1.4",
       "children": [
        "IPY_MODEL_1085c31d5886451e88c0b997c3640345",
        "IPY_MODEL_2bab5ea5b70b4c2ea729bf857714ddd5"
       ],
       "layout": "IPY_MODEL_50ec8bf46df94bf18b6686cfbbc95106"
      }
     },
     "fb2046ade39f48c58334c08346cfed9c": {
      "model_module": "jupyter-js-widgets",
      "model_module_version": "~2.1.4",
      "model_name": "ButtonStyleModel",
      "state": {
       "_model_module_version": "~2.1.4",
       "_view_module_version": "~2.1.4"
      }
     },
     "fc492c2e3424442e8532bfd458eea017": {
      "model_module": "jupyter-js-widgets",
      "model_module_version": "~2.1.4",
      "model_name": "VBoxModel",
      "state": {
       "_model_module_version": "~2.1.4",
       "_view_module_version": "~2.1.4",
       "children": [
        "IPY_MODEL_c2b0f93462f84715aced61fcadab8b58",
        "IPY_MODEL_1de414bd130247048e64e67f0b897fb9",
        "IPY_MODEL_c9fd60f9700f4430934edac26e4a8573"
       ],
       "layout": "IPY_MODEL_a1c7349d34f448cb84c5ebee92ff0fb1"
      }
     },
     "fc5a72846f4946a8b6280c53a49641a1": {
      "model_module": "jupyter-js-widgets",
      "model_module_version": "~2.1.4",
      "model_name": "LayoutModel",
      "state": {
       "_model_module_version": "~2.1.4",
       "_view_module_version": "~2.1.4"
      }
     },
     "fc6439633c1648bd8739e20a4cfee4a8": {
      "model_module": "jupyter-js-widgets",
      "model_module_version": "~2.1.4",
      "model_name": "HBoxModel",
      "state": {
       "_model_module_version": "~2.1.4",
       "_view_module_version": "~2.1.4",
       "children": [
        "IPY_MODEL_a4418c286d924003ba89e81fbd2ae18d",
        "IPY_MODEL_6d2e0f2c89e84734bd13a41f1b93d7ef"
       ],
       "layout": "IPY_MODEL_c502abfdc9c548568e29ca85227097f3"
      }
     },
     "fc8fdb5718c44ce491ffe8a2deb7f92d": {
      "model_module": "jupyter-js-widgets",
      "model_module_version": "~2.1.4",
      "model_name": "LayoutModel",
      "state": {
       "_model_module_version": "~2.1.4",
       "_view_module_version": "~2.1.4"
      }
     },
     "fc9fe9857928487db67aa333444a424e": {
      "model_module": "jupyter-js-widgets",
      "model_module_version": "~2.1.4",
      "model_name": "LayoutModel",
      "state": {
       "_model_module_version": "~2.1.4",
       "_view_module_version": "~2.1.4"
      }
     },
     "fceea50a00df4026a26054ee8dcbd147": {
      "model_module": "jupyter-js-widgets",
      "model_module_version": "~2.1.4",
      "model_name": "LayoutModel",
      "state": {
       "_model_module_version": "~2.1.4",
       "_view_module_version": "~2.1.4"
      }
     },
     "fcf37821a435454ab44b8b7c0d02ea9e": {
      "model_module": "jupyter-js-widgets",
      "model_module_version": "~2.1.4",
      "model_name": "CheckboxModel",
      "state": {
       "_model_module_version": "~2.1.4",
       "_view_module_version": "~2.1.4",
       "description": "Update GUI",
       "disabled": false,
       "layout": "IPY_MODEL_2eb6f981f845445e8649c6911680c3b3",
       "value": true
      }
     },
     "fd3199c6f7b74b57acc71fc8d500186a": {
      "model_module": "jupyter-js-widgets",
      "model_module_version": "~2.1.4",
      "model_name": "LayoutModel",
      "state": {
       "_model_module_version": "~2.1.4",
       "_view_module_version": "~2.1.4"
      }
     },
     "fd336843b6dd4ef4ac6b99c11eba650b": {
      "model_module": "jupyter-js-widgets",
      "model_module_version": "~2.1.4",
      "model_name": "HTMLModel",
      "state": {
       "_model_module_version": "~2.1.4",
       "_view_module_version": "~2.1.4",
       "layout": "IPY_MODEL_fd91fb2ac2e24dc68918eac4917838a4",
       "value": "<svg baseProfile=\"full\" height=\"240\" version=\"1.1\" width=\"240\" xmlns=\"http://www.w3.org/2000/svg\" xmlns:ev=\"http://www.w3.org/2001/xml-events\" xmlns:xlink=\"http://www.w3.org/1999/xlink\"><defs /><rect fill=\"white\" height=\"240\" stroke=\"#000000\" stroke-width=\"1\" width=\"240\" x=\"0\" y=\"0\" /><rect fill=\"#eef3dd\" height=\"240.0\" stroke=\"#bebebe\" stroke-width=\"1\" width=\"240.0\" x=\"0.0\" y=\"0.0\" /><circle cx=\"120.0\" cy=\"195.0\" fill=\"#ffff00\" r=\"15.0\" stroke=\"#ffff00\" stroke-width=\"1\" /><line fill=\"#800080\" stroke=\"#add8e6\" stroke-width=\"1\" x1=\"199.5\" x2=\"0.0\" y1=\"114.0\" y2=\"114.0\" /><line fill=\"#800080\" stroke=\"#add8e6\" stroke-width=\"1\" x1=\"201.0\" x2=\"0.0\" y1=\"109.80000000000001\" y2=\"16.07215199999999\" /><line fill=\"#800080\" stroke=\"#add8e6\" stroke-width=\"1\" x1=\"203.4\" x2=\"112.77724019461742\" y1=\"107.99999999999999\" y2=\"0.0\" /><line fill=\"#800080\" stroke=\"#add8e6\" stroke-width=\"1\" x1=\"207.0\" x2=\"178.4634099424212\" y1=\"106.5\" y2=\"0.0\" /><line fill=\"#800080\" stroke=\"#add8e6\" stroke-width=\"1\" x1=\"213.0\" x2=\"240.0\" y1=\"106.5\" y2=\"5.734632000000062\" /><line fill=\"#800080\" stroke=\"#add8e6\" stroke-width=\"1\" x1=\"216.6\" x2=\"240.0\" y1=\"107.99999999999999\" y2=\"80.11296600000001\" /><line fill=\"#800080\" stroke=\"#add8e6\" stroke-width=\"1\" x1=\"219.0\" x2=\"240.0\" y1=\"109.80000000000001\" y2=\"100.007538\" /><line fill=\"#800080\" stroke=\"#add8e6\" stroke-width=\"1\" x1=\"220.5\" x2=\"240.0\" y1=\"114.0\" y2=\"114.0\" /><line fill=\"#800080\" stroke=\"#add8e6\" stroke-width=\"1\" x1=\"220.5\" x2=\"240.0\" y1=\"126.0\" y2=\"126.0\" /><line fill=\"#800080\" stroke=\"#add8e6\" stroke-width=\"1\" x1=\"219.0\" x2=\"240.0\" y1=\"130.2\" y2=\"139.992462\" /><line fill=\"#800080\" stroke=\"#add8e6\" stroke-width=\"1\" x1=\"216.6\" x2=\"240.0\" y1=\"132.0\" y2=\"159.88703399999997\" /><line fill=\"#800080\" stroke=\"#add8e6\" stroke-width=\"1\" x1=\"213.0\" x2=\"240.0\" y1=\"133.5\" y2=\"234.26536799999994\" /><line fill=\"#800080\" stroke=\"#add8e6\" stroke-width=\"1\" x1=\"207.0\" x2=\"178.4634099424212\" y1=\"133.5\" y2=\"240.0\" /><line fill=\"#800080\" stroke=\"#add8e6\" stroke-width=\"1\" x1=\"203.4\" x2=\"112.7772401946174\" y1=\"132.0\" y2=\"240.0\" /><line fill=\"#800080\" stroke=\"#add8e6\" stroke-width=\"1\" x1=\"201.0\" x2=\"0.0\" y1=\"130.2\" y2=\"223.927848\" /><line fill=\"#800080\" stroke=\"#add8e6\" stroke-width=\"1\" x1=\"199.5\" x2=\"0.0\" y1=\"126.0\" y2=\"126.0\" /><line fill=\"#800080\" stroke=\"#a020f0\" stroke-width=\"1\" x1=\"210.0\" x2=\"2.1539193796210117\" y1=\"120.0\" y2=\"0.0\" /><line fill=\"#800080\" stroke=\"#a020f0\" stroke-width=\"1\" x1=\"210.0\" x2=\"240.0\" y1=\"120.0\" y2=\"102.67948799999999\" /><line fill=\"#800080\" stroke=\"#ffa500\" stroke-width=\"1\" x1=\"120.0\" x2=\"199.5\" y1=\"195.0\" y2=\"106.5\" /><line fill=\"#800080\" stroke=\"#ffa500\" stroke-width=\"1\" x1=\"120.0\" x2=\"220.5\" y1=\"195.0\" y2=\"106.5\" /><polygon fill=\"red\" points=\"205.2,106.5 199.5,111.0 199.5,129.0 205.2,133.5 214.8,133.5 220.5,129.0 220.5,111.0 214.8,106.5\" stroke=\"red\" stroke-width=\"1\" /><polygon points=\"-3.0,-3.0 0,0 3.0,-3.0 0,3.0\" stroke=\"black\" stroke-width=\"1\" transform=\"translate(210.0,120.0) rotate(180.0)\" /><polygon fill=\"black\" points=\"213.6,111.6 213.6,116.39999999999999 206.4,116.39999999999999 206.4,111.6\" stroke=\"black\" stroke-width=\"1\" /><circle cx=\"199.5\" cy=\"106.5\" fill=\"yellow\" r=\"1.5\" stroke=\"orange\" stroke-width=\"1\" /><circle cx=\"220.5\" cy=\"106.5\" fill=\"yellow\" r=\"1.5\" stroke=\"orange\" stroke-width=\"1\" /></svg>"
      }
     },
     "fd3a6538ae864ebd83e505dac99b2e2c": {
      "model_module": "jupyter-js-widgets",
      "model_module_version": "~2.1.4",
      "model_name": "OutputModel",
      "state": {
       "_dom_classes": [],
       "_model_module": "jupyter-js-widgets",
       "_model_module_version": "~2.1.4",
       "_view_module": "jupyter-js-widgets",
       "_view_module_version": "~2.1.4",
       "layout": "IPY_MODEL_a05eb30c23e9402081f87bb67fc031f6",
       "msg_throttle": 1
      }
     },
     "fd4bb0411a0842bc9fab0bc4abe78ea1": {
      "model_module": "jupyter-js-widgets",
      "model_module_version": "~2.1.4",
      "model_name": "ButtonModel",
      "state": {
       "_model_module_version": "~2.1.4",
       "_view_module_version": "~2.1.4",
       "description": "Clear",
       "layout": "IPY_MODEL_d880b15ab4124c9f9a1d2e5148ab27fa",
       "style": "IPY_MODEL_4cce6108e3c445288c46636e55232470"
      }
     },
     "fd52cb69a4fb4e2b9db9eded9d0c0fd8": {
      "model_module": "jupyter-js-widgets",
      "model_module_version": "~2.1.4",
      "model_name": "ButtonModel",
      "state": {
       "_model_module_version": "~2.1.4",
       "_view_module_version": "~2.1.4",
       "icon": "step-forward",
       "layout": "IPY_MODEL_c491b588027749319ae73438b5639ab0",
       "style": "IPY_MODEL_b6226e206b444e499480915426ed9b9d"
      }
     },
     "fd752678550f4d5b87ea50bf964d52bc": {
      "model_module": "jupyter-js-widgets",
      "model_module_version": "~2.1.4",
      "model_name": "VBoxModel",
      "state": {
       "_model_module_version": "~2.1.4",
       "_view_module_version": "~2.1.4",
       "children": [
        "IPY_MODEL_7ffd69dc67944f4ca5d65ecb56d1145b",
        "IPY_MODEL_bf49fed890a34e8eb50b43d248229755"
       ],
       "layout": "IPY_MODEL_b4839d4f1e4a4ddba1af380343c5d042"
      }
     },
     "fd91fb2ac2e24dc68918eac4917838a4": {
      "model_module": "jupyter-js-widgets",
      "model_module_version": "~2.1.4",
      "model_name": "LayoutModel",
      "state": {
       "_model_module_version": "~2.1.4",
       "_view_module_version": "~2.1.4"
      }
     },
     "fd9a5e854e094750bf66e5f0735a5578": {
      "model_module": "jupyter-js-widgets",
      "model_module_version": "~2.1.4",
      "model_name": "FloatSliderModel",
      "state": {
       "_model_module_version": "~2.1.4",
       "_view_module_version": "~2.1.4",
       "layout": "IPY_MODEL_848d41cb09eb4f4990ede06d45d0a8d2",
       "readout": false,
       "step": 0.1,
       "value": 87.5
      }
     },
     "fdd8ad8e6bf04b9f87dcfb2c6760d947": {
      "model_module": "jupyter-js-widgets",
      "model_module_version": "~2.1.4",
      "model_name": "LayoutModel",
      "state": {
       "_model_module_version": "~2.1.4",
       "_view_module_version": "~2.1.4"
      }
     },
     "fe2e4ad0b41842498a1e6450684e795d": {
      "model_module": "jupyter-js-widgets",
      "model_module_version": "~2.1.4",
      "model_name": "LayoutModel",
      "state": {
       "_model_module_version": "~2.1.4",
       "_view_module_version": "~2.1.4"
      }
     },
     "fe4d7a2c7c834a43b37edd32f41b3bbc": {
      "model_module": "jupyter-js-widgets",
      "model_module_version": "~2.1.4",
      "model_name": "FloatSliderModel",
      "state": {
       "_model_module_version": "~2.1.4",
       "_view_module_version": "~2.1.4",
       "layout": "IPY_MODEL_c1431d8171c74f319d016beb739a593c",
       "readout": false,
       "step": 0.1,
       "value": 58.77886973919903
      }
     },
     "fe57adc63c924e77a0a9c0e6a14d1a7a": {
      "model_module": "jupyter-js-widgets",
      "model_module_version": "~2.1.4",
      "model_name": "LayoutModel",
      "state": {
       "_model_module_version": "~2.1.4",
       "_view_module_version": "~2.1.4"
      }
     },
     "febbfad7c7e1413bb78840fb2b3bee5f": {
      "model_module": "jupyter-js-widgets",
      "model_module_version": "~2.1.4",
      "model_name": "HTMLModel",
      "state": {
       "_model_module_version": "~2.1.4",
       "_view_module_version": "~2.1.4",
       "layout": "IPY_MODEL_dedb615f13a247a6a21364bfa95cb97c",
       "value": "<svg baseProfile=\"full\" height=\"240\" version=\"1.1\" width=\"240\" xmlns=\"http://www.w3.org/2000/svg\" xmlns:ev=\"http://www.w3.org/2001/xml-events\" xmlns:xlink=\"http://www.w3.org/1999/xlink\"><defs /><rect fill=\"white\" height=\"240\" stroke=\"#000000\" stroke-width=\"1\" width=\"240\" x=\"0\" y=\"0\" /><rect fill=\"#eef3dd\" height=\"240.0\" stroke=\"#bebebe\" stroke-width=\"1\" width=\"240.0\" x=\"0.0\" y=\"0.0\" /><circle cx=\"120.0\" cy=\"195.0\" fill=\"#ffff00\" r=\"15.0\" stroke=\"#ffff00\" stroke-width=\"1\" /><line fill=\"#800080\" stroke=\"#add8e6\" stroke-width=\"1\" x1=\"199.5\" x2=\"0.0\" y1=\"114.0\" y2=\"114.0\" /><line fill=\"#800080\" stroke=\"#add8e6\" stroke-width=\"1\" x1=\"201.0\" x2=\"0.0\" y1=\"109.80000000000001\" y2=\"16.07215199999999\" /><line fill=\"#800080\" stroke=\"#add8e6\" stroke-width=\"1\" x1=\"203.4\" x2=\"112.77724019461742\" y1=\"107.99999999999999\" y2=\"0.0\" /><line fill=\"#800080\" stroke=\"#add8e6\" stroke-width=\"1\" x1=\"207.0\" x2=\"178.4634099424212\" y1=\"106.5\" y2=\"0.0\" /><line fill=\"#800080\" stroke=\"#add8e6\" stroke-width=\"1\" x1=\"213.0\" x2=\"240.0\" y1=\"106.5\" y2=\"5.734632000000062\" /><line fill=\"#800080\" stroke=\"#add8e6\" stroke-width=\"1\" x1=\"216.6\" x2=\"240.0\" y1=\"107.99999999999999\" y2=\"80.11296600000001\" /><line fill=\"#800080\" stroke=\"#add8e6\" stroke-width=\"1\" x1=\"219.0\" x2=\"240.0\" y1=\"109.80000000000001\" y2=\"100.007538\" /><line fill=\"#800080\" stroke=\"#add8e6\" stroke-width=\"1\" x1=\"220.5\" x2=\"240.0\" y1=\"114.0\" y2=\"114.0\" /><line fill=\"#800080\" stroke=\"#add8e6\" stroke-width=\"1\" x1=\"220.5\" x2=\"240.0\" y1=\"126.0\" y2=\"126.0\" /><line fill=\"#800080\" stroke=\"#add8e6\" stroke-width=\"1\" x1=\"219.0\" x2=\"240.0\" y1=\"130.2\" y2=\"139.992462\" /><line fill=\"#800080\" stroke=\"#add8e6\" stroke-width=\"1\" x1=\"216.6\" x2=\"240.0\" y1=\"132.0\" y2=\"159.88703399999997\" /><line fill=\"#800080\" stroke=\"#add8e6\" stroke-width=\"1\" x1=\"213.0\" x2=\"240.0\" y1=\"133.5\" y2=\"234.26536799999994\" /><line fill=\"#800080\" stroke=\"#add8e6\" stroke-width=\"1\" x1=\"207.0\" x2=\"178.4634099424212\" y1=\"133.5\" y2=\"240.0\" /><line fill=\"#800080\" stroke=\"#add8e6\" stroke-width=\"1\" x1=\"203.4\" x2=\"112.7772401946174\" y1=\"132.0\" y2=\"240.0\" /><line fill=\"#800080\" stroke=\"#add8e6\" stroke-width=\"1\" x1=\"201.0\" x2=\"0.0\" y1=\"130.2\" y2=\"223.927848\" /><line fill=\"#800080\" stroke=\"#add8e6\" stroke-width=\"1\" x1=\"199.5\" x2=\"0.0\" y1=\"126.0\" y2=\"126.0\" /><line fill=\"#800080\" stroke=\"#a020f0\" stroke-width=\"1\" x1=\"210.0\" x2=\"2.1539193796210117\" y1=\"120.0\" y2=\"0.0\" /><line fill=\"#800080\" stroke=\"#a020f0\" stroke-width=\"1\" x1=\"210.0\" x2=\"240.0\" y1=\"120.0\" y2=\"102.67948799999999\" /><line fill=\"#800080\" stroke=\"#ffa500\" stroke-width=\"1\" x1=\"120.0\" x2=\"199.5\" y1=\"195.0\" y2=\"106.5\" /><line fill=\"#800080\" stroke=\"#ffa500\" stroke-width=\"1\" x1=\"120.0\" x2=\"220.5\" y1=\"195.0\" y2=\"106.5\" /><polygon fill=\"red\" points=\"205.2,106.5 199.5,111.0 199.5,129.0 205.2,133.5 214.8,133.5 220.5,129.0 220.5,111.0 214.8,106.5\" stroke=\"red\" stroke-width=\"1\" /><polygon points=\"-3.0,-3.0 0,0 3.0,-3.0 0,3.0\" stroke=\"black\" stroke-width=\"1\" transform=\"translate(210.0,120.0) rotate(180.0)\" /><polygon fill=\"black\" points=\"213.6,111.6 213.6,116.39999999999999 206.4,116.39999999999999 206.4,111.6\" stroke=\"black\" stroke-width=\"1\" /><circle cx=\"199.5\" cy=\"106.5\" fill=\"yellow\" r=\"1.5\" stroke=\"orange\" stroke-width=\"1\" /><circle cx=\"220.5\" cy=\"106.5\" fill=\"yellow\" r=\"1.5\" stroke=\"orange\" stroke-width=\"1\" /></svg>"
      }
     },
     "ff66e5702be344638c15146764015ee4": {
      "model_module": "jupyter-js-widgets",
      "model_module_version": "~2.1.4",
      "model_name": "LayoutModel",
      "state": {
       "_model_module_version": "~2.1.4",
       "_view_module_version": "~2.1.4"
      }
     },
     "ff8ae1f9790f4af396afc3e0a3a052fa": {
      "model_module": "jupyter-js-widgets",
      "model_module_version": "~2.1.4",
      "model_name": "LayoutModel",
      "state": {
       "_model_module_version": "~2.1.4",
       "_view_module_version": "~2.1.4"
      }
     },
     "ffcc8933309e418eabefe6dabbb0467e": {
      "model_module": "jupyter-js-widgets",
      "model_module_version": "~2.1.4",
      "model_name": "LayoutModel",
      "state": {
       "_model_module_version": "~2.1.4",
       "_view_module_version": "~2.1.4"
      }
     }
    },
    "version_major": 1,
    "version_minor": 0
   }
  }
 },
 "nbformat": 4,
 "nbformat_minor": 2
}
