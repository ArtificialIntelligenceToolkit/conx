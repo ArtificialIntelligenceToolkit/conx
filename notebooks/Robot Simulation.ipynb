{
 "cells": [
  {
   "cell_type": "code",
   "execution_count": 1,
   "metadata": {
    "collapsed": true
   },
   "outputs": [],
   "source": [
    "from jyro.simulator import (Robot, Pioneer, Pioneer16Sonars, \n",
    "                            PioneerFrontLightSensors, Camera,\n",
    "                            VSimulator)\n",
    "import random\n",
    "import numpy as np"
   ]
  },
  {
   "cell_type": "code",
   "execution_count": 2,
   "metadata": {
    "collapsed": true
   },
   "outputs": [],
   "source": [
    "robot = Pioneer(\"Pioneer\", 3.5, 2, 0)"
   ]
  },
  {
   "cell_type": "code",
   "execution_count": 3,
   "metadata": {},
   "outputs": [
    {
     "data": {
      "image/svg+xml": [
       "<svg baseProfile=\"full\" height=\"240\" version=\"1.1\" width=\"240\" xmlns=\"http://www.w3.org/2000/svg\" xmlns:ev=\"http://www.w3.org/2001/xml-events\" xmlns:xlink=\"http://www.w3.org/1999/xlink\"><defs /><line fill=\"#800080\" stroke=\"#d3d3d3\" stroke-width=\"1\" x1=\"78.0\" x2=\"-1842.0\" y1=\"96.0\" y2=\"95.9999999999999\" /><line fill=\"#800080\" stroke=\"#d3d3d3\" stroke-width=\"1\" x1=\"84.0\" x2=\"-1656.110951110368\" y1=\"79.19999999999999\" y2=\"-732.227062542143\" /><line fill=\"#800080\" stroke=\"#d3d3d3\" stroke-width=\"1\" x1=\"93.60000000000001\" x2=\"-1140.5522105981554\" y1=\"72.00000000000001\" y2=\"-1398.805330788438\" /><line fill=\"#800080\" stroke=\"#d3d3d3\" stroke-width=\"1\" x1=\"108.0\" x2=\"-388.9325665968398\" y1=\"66.0\" y2=\"-1788.5775864750112\" /><line fill=\"#800080\" stroke=\"#d3d3d3\" stroke-width=\"1\" x1=\"132.0\" x2=\"628.9325665968398\" y1=\"66.0\" y2=\"-1788.5775864750112\" /><line fill=\"#800080\" stroke=\"#d3d3d3\" stroke-width=\"1\" x1=\"146.4\" x2=\"1380.5522105981554\" y1=\"72.00000000000001\" y2=\"-1398.805330788438\" /><line fill=\"#800080\" stroke=\"#d3d3d3\" stroke-width=\"1\" x1=\"156.0\" x2=\"1896.110951110368\" y1=\"79.19999999999999\" y2=\"-732.227062542143\" /><line fill=\"#800080\" stroke=\"#d3d3d3\" stroke-width=\"1\" x1=\"162.0\" x2=\"2082.0\" y1=\"96.0\" y2=\"95.9999999999999\" /><line fill=\"#800080\" stroke=\"#d3d3d3\" stroke-width=\"1\" x1=\"162.0\" x2=\"2082.0\" y1=\"144.00000000000003\" y2=\"143.9999999999999\" /><line fill=\"#800080\" stroke=\"#d3d3d3\" stroke-width=\"1\" x1=\"156.0\" x2=\"1896.1109511103682\" y1=\"160.8\" y2=\"972.2270625421423\" /><line fill=\"#800080\" stroke=\"#d3d3d3\" stroke-width=\"1\" x1=\"146.4\" x2=\"1380.5522105981554\" y1=\"168.0\" y2=\"1638.805330788438\" /><line fill=\"#800080\" stroke=\"#d3d3d3\" stroke-width=\"1\" x1=\"132.0\" x2=\"628.9325665968399\" y1=\"174.0\" y2=\"2028.5775864750112\" /><line fill=\"#800080\" stroke=\"#d3d3d3\" stroke-width=\"1\" x1=\"107.99999999999999\" x2=\"-388.9325665968404\" y1=\"174.0\" y2=\"2028.5775864750108\" /><line fill=\"#800080\" stroke=\"#d3d3d3\" stroke-width=\"1\" x1=\"93.60000000000001\" x2=\"-1140.5522105981559\" y1=\"168.0\" y2=\"1638.8053307884377\" /><line fill=\"#800080\" stroke=\"#d3d3d3\" stroke-width=\"1\" x1=\"84.0\" x2=\"-1656.1109511103682\" y1=\"160.8\" y2=\"972.2270625421426\" /><line fill=\"#800080\" stroke=\"#d3d3d3\" stroke-width=\"1\" x1=\"78.0\" x2=\"-1842.0\" y1=\"144.0\" y2=\"143.99999999999986\" /><polygon fill=\"red\" points=\"100.8,66.0 78.0,84.0 78.0,156.0 100.8,174.0 139.2,174.0 162.0,156.0 162.0,84.0 139.2,66.0\" stroke=\"red\" stroke-width=\"1\" /><polygon points=\"-12.0,-12.0 0,0 12.0,-12.0 0,12.0\" stroke=\"black\" stroke-width=\"1\" transform=\"translate(120.0,120.0) rotate(180.0)\" /><polygon fill=\"black\" points=\"134.4,86.39999999999999 134.4,105.6 105.6,105.6 105.6,86.39999999999999\" stroke=\"black\" stroke-width=\"1\" /><circle cx=\"78.0\" cy=\"66.0\" fill=\"yellow\" r=\"6.0\" stroke=\"orange\" stroke-width=\"1\" /><circle cx=\"162.0\" cy=\"66.0\" fill=\"yellow\" r=\"6.0\" stroke=\"orange\" stroke-width=\"1\" /></svg>"
      ],
      "text/plain": [
       "<jyro.simulator.robot.Pioneer at 0x7f0abd251f98>"
      ]
     },
     "execution_count": 3,
     "metadata": {},
     "output_type": "execute_result"
    }
   ],
   "source": [
    "robot.addDevice(Pioneer16Sonars())\n",
    "robot.addDevice(Camera())\n",
    "light_sensors = PioneerFrontLightSensors(3.0)\n",
    "light_sensors.lightMode = 'ambient'\n",
    "robot.addDevice(light_sensors)"
   ]
  },
  {
   "cell_type": "code",
   "execution_count": 4,
   "metadata": {
    "collapsed": true
   },
   "outputs": [],
   "source": [
    "def worldf(physics):\n",
    "    physics.addBox(0, 0, 4, 4, fill=\"backgroundgreen\", wallcolor=\"gray\")\n",
    "    physics.addLight(2, 0.75, 1.0) # increased brightness for new linear version of lights"
   ]
  },
  {
   "cell_type": "code",
   "execution_count": 5,
   "metadata": {},
   "outputs": [
    {
     "data": {
      "application/vnd.jupyter.widget-view+json": {
       "model_id": "747d303ec44f43c78c2b94ad090cb3a9"
      }
     },
     "metadata": {},
     "output_type": "display_data"
    }
   ],
   "source": [
    "sim = VSimulator(robot, worldf)"
   ]
  },
  {
   "cell_type": "code",
   "execution_count": 16,
   "metadata": {
    "collapsed": true
   },
   "outputs": [],
   "source": [
    "camera = robot.device[\"camera\"]"
   ]
  },
  {
   "cell_type": "code",
   "execution_count": 26,
   "metadata": {},
   "outputs": [
    {
     "data": {
      "image/png": "[encoded data removed]",
      "text/plain": [
       "<PIL.Image.Image image mode=RGB size=60x40 at 0x7F0ABD1224A8>"
      ]
     },
     "execution_count": 26,
     "metadata": {},
     "output_type": "execute_result"
    }
   ],
   "source": [
    "image = camera.getImage()\n",
    "image"
   ]
  },
  {
   "cell_type": "code",
   "execution_count": 28,
   "metadata": {},
   "outputs": [
    {
     "data": {
      "text/plain": [
       "(60, 40)"
      ]
     },
     "execution_count": 28,
     "metadata": {},
     "output_type": "execute_result"
    }
   ],
   "source": [
    "image.size"
   ]
  },
  {
   "cell_type": "code",
   "execution_count": 29,
   "metadata": {},
   "outputs": [
    {
     "data": {
      "text/plain": [
       "(40, 60, 3)"
      ]
     },
     "execution_count": 29,
     "metadata": {},
     "output_type": "execute_result"
    }
   ],
   "source": [
    "data = camera.getData()\n",
    "data.shape"
   ]
  },
  {
   "cell_type": "code",
   "execution_count": 30,
   "metadata": {
    "collapsed": true
   },
   "outputs": [],
   "source": [
    "robot.move(0.50, 0.35)"
   ]
  },
  {
   "cell_type": "code",
   "execution_count": 31,
   "metadata": {
    "collapsed": true
   },
   "outputs": [],
   "source": [
    "sim.step()"
   ]
  },
  {
   "cell_type": "code",
   "execution_count": 32,
   "metadata": {
    "collapsed": true
   },
   "outputs": [],
   "source": [
    "def random_action():\n",
    "    \"\"\"Generate a random action from a limited set of possible settings\"\"\"\n",
    "    possible = [-1.0, -0.5, 0.0, 0.5, 1.0]\n",
    "    return [random.choice(possible), random.choice(possible)]\n",
    "\n",
    "def get_senses(robot):\n",
    "    light = robot[\"light\"].getData()\n",
    "    sonar = [v/3.0 for v in robot[\"sonar\"].getData()]\n",
    "    camera = robot[\"camera\"].getData()\n",
    "    return [light, sonar, camera]"
   ]
  },
  {
   "cell_type": "code",
   "execution_count": 33,
   "metadata": {},
   "outputs": [
    {
     "data": {
      "text/plain": [
       "[2, 16, 40]"
      ]
     },
     "execution_count": 33,
     "metadata": {},
     "output_type": "execute_result"
    }
   ],
   "source": [
    "senses = get_senses(robot)\n",
    "list(map(len, senses))"
   ]
  },
  {
   "cell_type": "code",
   "execution_count": 34,
   "metadata": {
    "collapsed": true
   },
   "outputs": [],
   "source": [
    "def brain(robot):\n",
    "    senses = get_senses(robot)\n",
    "    net.propagate(senses)\n",
    "    translate, rotate = random_action()\n",
    "    #self.move(translate, rotate)\n",
    "    robot.move(0.50, 0.35)"
   ]
  },
  {
   "cell_type": "code",
   "execution_count": 35,
   "metadata": {
    "collapsed": true
   },
   "outputs": [],
   "source": [
    "robot.brain = brain"
   ]
  },
  {
   "cell_type": "code",
   "execution_count": 36,
   "metadata": {},
   "outputs": [
    {
     "name": "stderr",
     "output_type": "stream",
     "text": [
      "Using Theano backend.\n"
     ]
    }
   ],
   "source": [
    "from conx import Network, Layer, FlattenLayer, SGD, ImageLayer, Conv2DTransposeLayer\n",
    "import numpy as np"
   ]
  },
  {
   "cell_type": "code",
   "execution_count": 37,
   "metadata": {
    "collapsed": true
   },
   "outputs": [],
   "source": [
    "net = Network(\"Robot Prediction Network\")\n",
    "net.add(Layer(\"light\", 2))\n",
    "net.add(Layer(\"sonar\", 16))\n",
    "net.add(ImageLayer(\"camera\", (40, 60), 3))\n",
    "net.add(FlattenLayer(\"flatten\"))\n",
    "net.add(Conv2DTransposeLayer(\"conv\", 16, (3,3)))\n",
    "net.add(Layer(\"hidden\", 50, activation=\"relu\"))\n",
    "net.add(Layer(\"output1\", 2, activation=\"sigmoid\"))\n",
    "net.add(Layer(\"hidden2\", 5, activation=\"sigmoid\"))\n",
    "net.add(Layer(\"hidden3\", 10, activation=\"sigmoid\"))\n",
    "net.add(Layer(\"hidden4\", 10, activation=\"sigmoid\"))\n",
    "net.add(Layer(\"output2\", 5, activation=\"sigmoid\"))"
   ]
  },
  {
   "cell_type": "code",
   "execution_count": 38,
   "metadata": {
    "collapsed": true
   },
   "outputs": [],
   "source": [
    "net.connect(\"sonar\", \"hidden\")\n",
    "net.connect(\"light\", \"hidden\")\n",
    "net.connect(\"camera\", \"conv\")\n",
    "net.connect(\"conv\", \"flatten\")\n",
    "net.connect(\"flatten\", \"hidden2\")\n",
    "net.connect(\"hidden\", \"hidden2\")\n",
    "net.connect(\"hidden2\", \"hidden3\")\n",
    "net.connect(\"hidden3\", \"output2\")\n",
    "net.connect(\"hidden3\", \"hidden4\")\n",
    "net.connect(\"hidden4\", \"output1\")"
   ]
  },
  {
   "cell_type": "code",
   "execution_count": 39,
   "metadata": {
    "collapsed": true
   },
   "outputs": [],
   "source": [
    "net.compile(optimizer=\"adam\", error=\"mse\")\n",
    "net.config[\"hspace\"] = 200"
   ]
  },
  {
   "cell_type": "code",
   "execution_count": 40,
   "metadata": {},
   "outputs": [
    {
     "data": {
      "application/javascript": [
       "\n",
       "require(['base/js/namespace'], function(Jupyter) {\n",
       "    Jupyter.notebook.kernel.comm_manager.register_target('conx_svg_control', function(comm, msg) {\n",
       "        comm.on_msg(function(msg) {\n",
       "            var data = msg[\"content\"][\"data\"];\n",
       "            var images = document.getElementsByClassName(data[\"class\"]);\n",
       "            for (var i = 0; i < images.length; i++) {\n",
       "                images[i].setAttributeNS(null, \"href\", data[\"href\"]);\n",
       "            }\n",
       "        });\n",
       "    });\n",
       "});\n"
      ],
      "text/plain": [
       "<IPython.core.display.Javascript object>"
      ]
     },
     "metadata": {},
     "output_type": "display_data"
    },
    {
     "data": {
      "image/svg+xml": [
       "\n",
       "        <svg id='Robot Prediction Network' xmlns='http://www.w3.org/2000/svg' width=\"1100\" height=\"668\" image-rendering=\"pixelated\">\n",
       "    <defs>\n",
       "        <marker id=\"arrow\" markerWidth=\"10\" markerHeight=\"10\" refX=\"9\" refY=\"3\" orient=\"auto\" markerUnits=\"strokeWidth\">\n",
       "          <path d=\"M0,0 L0,6 L9,3 z\" fill=\"black\" />\n",
       "        </marker>\n",
       "    </defs>\n",
       "<text x=\"550.0\" y=\"12.5\" font-family=\"monospace\" font-size=\"15\" text-anchor=\"middle\" alignment-baseline=\"central\">Robot Prediction Network</text><rect x=\"315.6666666666667\" y=\"29\" width=\"102\" height=\"52\" style=\"fill:none;stroke:black;stroke-width:2\"/><image id=\"Robot Prediction Network_output1_1\" class=\"Robot Prediction Network_output1\" x=\"316.6666666666667\" y=\"30\" height=\"50\" width=\"100\" preserveAspectRatio=\"none\" href=\"data:image/gif;base64,R0lGODdhAgABAIcAANvb2wAAAAAAAAAAAAAAAAAAAAAAAAAAAAAAAAAAAAAAAAAAAAAAAAAAAAAAAAAAAAAAAAAAAAAAAAAAAAAAAAAAAAAAAAAAAAAAAAAAAAAAAAAAAAAAAAAAAAAAAAAAAAAAAAAAAAAAAAAAAAAAAAAAAAAAAAAAAAAAAAAAAAAAAAAAAAAAAAAAAAAAAAAAAAAAAAAAAAAAAAAAAAAAAAAAAAAAAAAAAAAAAAAAAAAAAAAAAAAAAAAAAAAAAAAAAAAAAAAAAAAAAAAAAAAAAAAAAAAAAAAAAAAAAAAAAAAAAAAAAAAAAAAAAAAAAAAAAAAAAAAAAAAAAAAAAAAAAAAAAAAAAAAAAAAAAAAAAAAAAAAAAAAAAAAAAAAAAAAAAAAAAAAAAAAAAAAAAAAAAAAAAAAAAAAAAAAAAAAAAAAAAAAAAAAAAAAAAAAAAAAAAAAAAAAAAAAAAAAAAAAAAAAAAAAAAAAAAAAAAAAAAAAAAAAAAAAAAAAAAAAAAAAAAAAAAAAAAAAAAAAAAAAAAAAAAAAAAAAAAAAAAAAAAAAAAAAAAAAAAAAAAAAAAAAAAAAAAAAAAAAAAAAAAAAAAAAAAAAAAAAAAAAAAAAAAAAAAAAAAAAAAAAAAAAAAAAAAAAAAAAAAAAAAAAAAAAAAAAAAAAAAAAAAAAAAAAAAAAAAAAAAAAAAAAAAAAAAAAAAAAAAAAAAAAAAAAAAAAAAAAAAAAAAAAAAAAAAAAAAAAAAAAAAAAAAAAAAAAAAAAAAAAAAAAAAAAAAAAAAAAAAAAAAAAAAAAAAAAAAAAAAAAAAAAAAAAAAAAAAAAAAAAAAAAAAAAAAAAAAAAAAAAAAAAAAAAAAAAAAAAAAAAAAAAAAAAAAAAAAAAAAAAAAAAAAAAAAAAAAAAAAAAAAAAAAAAAAAAAAAAAAAAAAAAAAAAAAAAAAAAAAAAAAAAAAAAAAAAAAAAAAAAAAAAAAAAAAAAAAAAAAAAAAAAAAAAAAAAAAAAAAAAAAAAAAAAAAAAAACwAAAAAAgABAAAIBQABAAgIADs=\"><title>Layer: output1 (output)\n",
       " shape = (2,)\n",
       " Keras class = Dense\n",
       " activation = sigmoid</title></image><text x=\"421.6666666666667\" y=\"57.0\" font-family=\"monospace\" font-size=\"12\" text-anchor=\"start\" alignment-baseline=\"central\">output1</text><rect x=\"632.3333333333334\" y=\"29\" width=\"202\" height=\"42\" style=\"fill:none;stroke:black;stroke-width:2\"/><image id=\"Robot Prediction Network_output2_2\" class=\"Robot Prediction Network_output2\" x=\"633.3333333333334\" y=\"30\" height=\"40\" width=\"200\" preserveAspectRatio=\"none\" href=\"data:image/gif;base64,R0lGODdhBQABAIcAAP3l1+Xl5fvUvgAAAAAAAAAAAAAAAAAAAAAAAAAAAAAAAAAAAAAAAAAAAAAAAAAAAAAAAAAAAAAAAAAAAAAAAAAAAAAAAAAAAAAAAAAAAAAAAAAAAAAAAAAAAAAAAAAAAAAAAAAAAAAAAAAAAAAAAAAAAAAAAAAAAAAAAAAAAAAAAAAAAAAAAAAAAAAAAAAAAAAAAAAAAAAAAAAAAAAAAAAAAAAAAAAAAAAAAAAAAAAAAAAAAAAAAAAAAAAAAAAAAAAAAAAAAAAAAAAAAAAAAAAAAAAAAAAAAAAAAAAAAAAAAAAAAAAAAAAAAAAAAAAAAAAAAAAAAAAAAAAAAAAAAAAAAAAAAAAAAAAAAAAAAAAAAAAAAAAAAAAAAAAAAAAAAAAAAAAAAAAAAAAAAAAAAAAAAAAAAAAAAAAAAAAAAAAAAAAAAAAAAAAAAAAAAAAAAAAAAAAAAAAAAAAAAAAAAAAAAAAAAAAAAAAAAAAAAAAAAAAAAAAAAAAAAAAAAAAAAAAAAAAAAAAAAAAAAAAAAAAAAAAAAAAAAAAAAAAAAAAAAAAAAAAAAAAAAAAAAAAAAAAAAAAAAAAAAAAAAAAAAAAAAAAAAAAAAAAAAAAAAAAAAAAAAAAAAAAAAAAAAAAAAAAAAAAAAAAAAAAAAAAAAAAAAAAAAAAAAAAAAAAAAAAAAAAAAAAAAAAAAAAAAAAAAAAAAAAAAAAAAAAAAAAAAAAAAAAAAAAAAAAAAAAAAAAAAAAAAAAAAAAAAAAAAAAAAAAAAAAAAAAAAAAAAAAAAAAAAAAAAAAAAAAAAAAAAAAAAAAAAAAAAAAAAAAAAAAAAAAAAAAAAAAAAAAAAAAAAAAAAAAAAAAAAAAAAAAAAAAAAAAAAAAAAAAAAAAAAAAAAAAAAAAAAAAAAAAAAAAAAAAAAAAAAAAAAAAAAAAAAAAAAAAAAAAAAAAAAAAAAAAAAAAAAAAAAAAAAAAAAAAAAAAAAAAAAAAAAAAAAAAAAAAAAAAAAAAAAAAAAAAAAAAAACwAAAAABQABAAAICAABAAggIEBAADs=\"><title>Layer: output2 (output)\n",
       " shape = (5,)\n",
       " Keras class = Dense\n",
       " activation = sigmoid</title></image><text x=\"838.3333333333334\" y=\"52.0\" font-family=\"monospace\" font-size=\"12\" text-anchor=\"start\" alignment-baseline=\"central\">output2</text><line x1=\"366.6666666666667\" y1=\"109\" x2=\"366.6666666666667\" y2=\"82\" stroke=\"black\" stroke-width=\"2\" marker-end=\"url(#arrow)\"><title>Weights from hidden4 to output1\n",
       " output1/kernel has shape (10, 2)\n",
       " output1/bias has shape (2,)</title></line><rect x=\"265.6666666666667\" y=\"109\" width=\"202\" height=\"27\" style=\"fill:none;stroke:black;stroke-width:2\"/><image id=\"Robot Prediction Network_hidden4_3\" class=\"Robot Prediction Network_hidden4\" x=\"266.6666666666667\" y=\"110\" height=\"25\" width=\"200\" preserveAspectRatio=\"none\" href=\"data:image/gif;base64,R0lGODdhCgABAIcAAPn5+a+vr7Gxsfayk/i/o/vSvP3cye3t7QAAAAAAAAAAAAAAAAAAAAAAAAAAAAAAAAAAAAAAAAAAAAAAAAAAAAAAAAAAAAAAAAAAAAAAAAAAAAAAAAAAAAAAAAAAAAAAAAAAAAAAAAAAAAAAAAAAAAAAAAAAAAAAAAAAAAAAAAAAAAAAAAAAAAAAAAAAAAAAAAAAAAAAAAAAAAAAAAAAAAAAAAAAAAAAAAAAAAAAAAAAAAAAAAAAAAAAAAAAAAAAAAAAAAAAAAAAAAAAAAAAAAAAAAAAAAAAAAAAAAAAAAAAAAAAAAAAAAAAAAAAAAAAAAAAAAAAAAAAAAAAAAAAAAAAAAAAAAAAAAAAAAAAAAAAAAAAAAAAAAAAAAAAAAAAAAAAAAAAAAAAAAAAAAAAAAAAAAAAAAAAAAAAAAAAAAAAAAAAAAAAAAAAAAAAAAAAAAAAAAAAAAAAAAAAAAAAAAAAAAAAAAAAAAAAAAAAAAAAAAAAAAAAAAAAAAAAAAAAAAAAAAAAAAAAAAAAAAAAAAAAAAAAAAAAAAAAAAAAAAAAAAAAAAAAAAAAAAAAAAAAAAAAAAAAAAAAAAAAAAAAAAAAAAAAAAAAAAAAAAAAAAAAAAAAAAAAAAAAAAAAAAAAAAAAAAAAAAAAAAAAAAAAAAAAAAAAAAAAAAAAAAAAAAAAAAAAAAAAAAAAAAAAAAAAAAAAAAAAAAAAAAAAAAAAAAAAAAAAAAAAAAAAAAAAAAAAAAAAAAAAAAAAAAAAAAAAAAAAAAAAAAAAAAAAAAAAAAAAAAAAAAAAAAAAAAAAAAAAAAAAAAAAAAAAAAAAAAAAAAAAAAAAAAAAAAAAAAAAAAAAAAAAAAAAAAAAAAAAAAAAAAAAAAAAAAAAAAAAAAAAAAAAAAAAAAAAAAAAAAAAAAAAAAAAAAAAAAAAAAAAAAAAAAAAAAAAAAAAAAAAAAAAAAAAAAAAAAAAAAAAAAAAAAAAAAAAAAAAAAAAAAAAAAAAAAAAAAAAAAAAAAAAAAAAACwAAAAACgABAAAIDgABADhgQACAAAQKDAgIADs=\"><title>Layer: hidden4 (hidden)\n",
       " shape = (10,)\n",
       " Keras class = Dense\n",
       " activation = sigmoid</title></image><text x=\"471.6666666666667\" y=\"124.5\" font-family=\"monospace\" font-size=\"12\" text-anchor=\"start\" alignment-baseline=\"central\">hidden4</text><line x1=\"733.3333333333334\" y1=\"110\" x2=\"733.3333333333334\" y2=\"70\" stroke=\"black\" stroke-width=\"2\" marker-end=\"url(#arrow)\"><title>Weights from hidden4 to output1\n",
       " output1/kernel has shape (10, 2)\n",
       " output1/bias has shape (2,)</title></line><line x1=\"550.0\" y1=\"164\" x2=\"733.3333333333334\" y2=\"110\" stroke=\"black\" stroke-width=\"2\"><title>TODO</title></line><line x1=\"550.0\" y1=\"164\" x2=\"366.6666666666667\" y2=\"137\" stroke=\"black\" stroke-width=\"2\" marker-end=\"url(#arrow)\"><title>Weights from hidden3 to hidden4\n",
       " hidden4/kernel has shape (10, 10)\n",
       " hidden4/bias has shape (10,)</title></line><rect x=\"449.0\" y=\"164\" width=\"202\" height=\"27\" style=\"fill:none;stroke:black;stroke-width:2\"/><image id=\"Robot Prediction Network_hidden3_4\" class=\"Robot Prediction Network_hidden3\" x=\"450.0\" y=\"165\" height=\"25\" width=\"200\" preserveAspectRatio=\"none\" href=\"data:image/gif;base64,R0lGODdhCgABAIcAAPv08MXFxdTU1PWujvjBpvvUvvzWwf3q3+zs7AAAAAAAAAAAAAAAAAAAAAAAAAAAAAAAAAAAAAAAAAAAAAAAAAAAAAAAAAAAAAAAAAAAAAAAAAAAAAAAAAAAAAAAAAAAAAAAAAAAAAAAAAAAAAAAAAAAAAAAAAAAAAAAAAAAAAAAAAAAAAAAAAAAAAAAAAAAAAAAAAAAAAAAAAAAAAAAAAAAAAAAAAAAAAAAAAAAAAAAAAAAAAAAAAAAAAAAAAAAAAAAAAAAAAAAAAAAAAAAAAAAAAAAAAAAAAAAAAAAAAAAAAAAAAAAAAAAAAAAAAAAAAAAAAAAAAAAAAAAAAAAAAAAAAAAAAAAAAAAAAAAAAAAAAAAAAAAAAAAAAAAAAAAAAAAAAAAAAAAAAAAAAAAAAAAAAAAAAAAAAAAAAAAAAAAAAAAAAAAAAAAAAAAAAAAAAAAAAAAAAAAAAAAAAAAAAAAAAAAAAAAAAAAAAAAAAAAAAAAAAAAAAAAAAAAAAAAAAAAAAAAAAAAAAAAAAAAAAAAAAAAAAAAAAAAAAAAAAAAAAAAAAAAAAAAAAAAAAAAAAAAAAAAAAAAAAAAAAAAAAAAAAAAAAAAAAAAAAAAAAAAAAAAAAAAAAAAAAAAAAAAAAAAAAAAAAAAAAAAAAAAAAAAAAAAAAAAAAAAAAAAAAAAAAAAAAAAAAAAAAAAAAAAAAAAAAAAAAAAAAAAAAAAAAAAAAAAAAAAAAAAAAAAAAAAAAAAAAAAAAAAAAAAAAAAAAAAAAAAAAAAAAAAAAAAAAAAAAAAAAAAAAAAAAAAAAAAAAAAAAAAAAAAAAAAAAAAAAAAAAAAAAAAAAAAAAAAAAAAAAAAAAAAAAAAAAAAAAAAAAAAAAAAAAAAAAAAAAAAAAAAAAAAAAAAAAAAAAAAAAAAAAAAAAAAAAAAAAAAAAAAAAAAAAAAAAAAAAAAAAAAAAAAAAAAAAAAAAAAAAAAAAAAAAAAAAAAAAAAAAAAAAAAAAAAAAAAAAAAAAAAAAAAACwAAAAACgABAAAIDgANDCgAAIEAAgACHAgIADs=\"><title>Layer: hidden3 (hidden)\n",
       " shape = (10,)\n",
       " Keras class = Dense\n",
       " activation = sigmoid</title></image><text x=\"655.0\" y=\"179.5\" font-family=\"monospace\" font-size=\"12\" text-anchor=\"start\" alignment-baseline=\"central\">hidden3</text><line x1=\"550.0\" y1=\"219\" x2=\"550.0\" y2=\"192\" stroke=\"black\" stroke-width=\"2\" marker-end=\"url(#arrow)\"><title>Weights from hidden2 to hidden3\n",
       " hidden3/kernel has shape (5, 10)\n",
       " hidden3/bias has shape (10,)</title></line><rect x=\"449.0\" y=\"219\" width=\"202\" height=\"42\" style=\"fill:none;stroke:black;stroke-width:2\"/><image id=\"Robot Prediction Network_hidden2_5\" class=\"Robot Prediction Network_hidden2\" x=\"450.0\" y=\"220\" height=\"40\" width=\"200\" preserveAspectRatio=\"none\" href=\"data:image/gif;base64,R0lGODdhBQABAIcAAP7+/QAAAAAAAAAAAAAAAAAAAAAAAAAAAAAAAAAAAAAAAAAAAAAAAAAAAAAAAAAAAAAAAAAAAAAAAAAAAAAAAAAAAAAAAAAAAAAAAAAAAAAAAAAAAAAAAAAAAAAAAAAAAAAAAAAAAAAAAAAAAAAAAAAAAAAAAAAAAAAAAAAAAAAAAAAAAAAAAAAAAAAAAAAAAAAAAAAAAAAAAAAAAAAAAAAAAAAAAAAAAAAAAAAAAAAAAAAAAAAAAAAAAAAAAAAAAAAAAAAAAAAAAAAAAAAAAAAAAAAAAAAAAAAAAAAAAAAAAAAAAAAAAAAAAAAAAAAAAAAAAAAAAAAAAAAAAAAAAAAAAAAAAAAAAAAAAAAAAAAAAAAAAAAAAAAAAAAAAAAAAAAAAAAAAAAAAAAAAAAAAAAAAAAAAAAAAAAAAAAAAAAAAAAAAAAAAAAAAAAAAAAAAAAAAAAAAAAAAAAAAAAAAAAAAAAAAAAAAAAAAAAAAAAAAAAAAAAAAAAAAAAAAAAAAAAAAAAAAAAAAAAAAAAAAAAAAAAAAAAAAAAAAAAAAAAAAAAAAAAAAAAAAAAAAAAAAAAAAAAAAAAAAAAAAAAAAAAAAAAAAAAAAAAAAAAAAAAAAAAAAAAAAAAAAAAAAAAAAAAAAAAAAAAAAAAAAAAAAAAAAAAAAAAAAAAAAAAAAAAAAAAAAAAAAAAAAAAAAAAAAAAAAAAAAAAAAAAAAAAAAAAAAAAAAAAAAAAAAAAAAAAAAAAAAAAAAAAAAAAAAAAAAAAAAAAAAAAAAAAAAAAAAAAAAAAAAAAAAAAAAAAAAAAAAAAAAAAAAAAAAAAAAAAAAAAAAAAAAAAAAAAAAAAAAAAAAAAAAAAAAAAAAAAAAAAAAAAAAAAAAAAAAAAAAAAAAAAAAAAAAAAAAAAAAAAAAAAAAAAAAAAAAAAAAAAAAAAAAAAAAAAAAAAAAAAAAAAAAAAAAAAAAAAAAAAAAAAAAAAAAAAAAAAAAAAAAAAAAAAAAAAAAAAAAAAAAAAAAAAAACwAAAAABQABAAAIBgABCBQYEAA7\"><title>Layer: hidden2 (hidden)\n",
       " shape = (5,)\n",
       " Keras class = Dense\n",
       " activation = sigmoid</title></image><text x=\"655.0\" y=\"242.0\" font-family=\"monospace\" font-size=\"12\" text-anchor=\"start\" alignment-baseline=\"central\">hidden2</text><line x1=\"366.6666666666667\" y1=\"290\" x2=\"550.0\" y2=\"260\" stroke=\"black\" stroke-width=\"2\" marker-end=\"url(#arrow)\"><title>Weights from hidden2 to hidden3\n",
       " hidden3/kernel has shape (5, 10)\n",
       " hidden3/bias has shape (10,)</title></line><line x1=\"733.3333333333334\" y1=\"289\" x2=\"550.0\" y2=\"262\" stroke=\"black\" stroke-width=\"2\" marker-end=\"url(#arrow)\"><title>Weights from flatten to hidden2\n",
       " hidden2/kernel has shape (41714, 5)\n",
       " hidden2/bias has shape (5,)</title></line><rect x=\"632.3333333333334\" y=\"289\" width=\"202\" height=\"27\" style=\"fill:none;stroke:black;stroke-width:2\"/><image id=\"Robot Prediction Network_flatten_6\" class=\"Robot Prediction Network_flatten\" x=\"633.3333333333334\" y=\"290\" height=\"25\" width=\"200\" preserveAspectRatio=\"none\" href=\"data:image/gif;base64,R0lGODdhwKIBAIcAAP7+/QAAAAAAAAAAAAAAAAAAAAAAAAAAAAAAAAAAAAAAAAAAAAAAAAAAAAAAAAAAAAAAAAAAAAAAAAAAAAAAAAAAAAAAAAAAAAAAAAAAAAAAAAAAAAAAAAAAAAAAAAAAAAAAAAAAAAAAAAAAAAAAAAAAAAAAAAAAAAAAAAAAAAAAAAAAAAAAAAAAAAAAAAAAAAAAAAAAAAAAAAAAAAAAAAAAAAAAAAAAAAAAAAAAAAAAAAAAAAAAAAAAAAAAAAAAAAAAAAAAAAAAAAAAAAAAAAAAAAAAAAAAAAAAAAAAAAAAAAAAAAAAAAAAAAAAAAAAAAAAAAAAAAAAAAAAAAAAAAAAAAAAAAAAAAAAAAAAAAAAAAAAAAAAAAAAAAAAAAAAAAAAAAAAAAAAAAAAAAAAAAAAAAAAAAAAAAAAAAAAAAAAAAAAAAAAAAAAAAAAAAAAAAAAAAAAAAAAAAAAAAAAAAAAAAAAAAAAAAAAAAAAAAAAAAAAAAAAAAAAAAAAAAAAAAAAAAAAAAAAAAAAAAAAAAAAAAAAAAAAAAAAAAAAAAAAAAAAAAAAAAAAAAAAAAAAAAAAAAAAAAAAAAAAAAAAAAAAAAAAAAAAAAAAAAAAAAAAAAAAAAAAAAAAAAAAAAAAAAAAAAAAAAAAAAAAAAAAAAAAAAAAAAAAAAAAAAAAAAAAAAAAAAAAAAAAAAAAAAAAAAAAAAAAAAAAAAAAAAAAAAAAAAAAAAAAAAAAAAAAAAAAAAAAAAAAAAAAAAAAAAAAAAAAAAAAAAAAAAAAAAAAAAAAAAAAAAAAAAAAAAAAAAAAAAAAAAAAAAAAAAAAAAAAAAAAAAAAAAAAAAAAAAAAAAAAAAAAAAAAAAAAAAAAAAAAAAAAAAAAAAAAAAAAAAAAAAAAAAAAAAAAAAAAAAAAAAAAAAAAAAAAAAAAAAAAAAAAAAAAAAAAAAAAAAAAAAAAAAAAAAAAAAAAAAAAAAAAAAAAAAAAAAAAAAAAAAAAAAAAAAAAAAAAAAAAAAAAAAAAACwAAAAAwKIBAAAI/wABCBxIsKDBgwgTKlzIsKHDhxAjSpxIsaLFixgzatzIsaPHjyBDihxJsqTJkyhTqlzJsqXLlzBjypxJs6bNmzhz6tzJs6fPn0CDCh1KtKjRo0iTKl3KtKnTp1CjSp1KtarVq1izat3KtavXr2DDih1LtqzZs2jTql3Ltq3bt3Djyp1Lt67du3jz6t3Lt6/fv4ADCx5MuLDhw4gTK17MuLHjx5AjS55MubLly5gza97MubPnz6BDix5NurTp06hTq17NurXr17Bjy55Nu7bt27hz697Nu7fv38CDCx9OvLjx48iTK1/OvLnz59CjS59Ovbr169iza9/Ovbv37+DDi7wfT768+fPo06tfz769+/fw48ufT7++/fv48+vfz7+/f4AABA4kWNDgQYQJFS5k2NDhQ4gRJU6kWNHiRYwZNW7k2NHjR5AhRY4kWdLkSZQpVa5k2dLlS5gxZc6kWdPmTZw5de7k2dPnT6BBhQ4lWtToUaRJlS5l2tTpU6hRpU6lWtXqVaxZtW7l2tXrV7BhxY4lW9bsWbRp1a5l29btW7hx5c6lW9fuXbx59e7l29fvX8CBBQ8mXNjw4bEBAQA7\"><title>Layer: flatten (hidden)\n",
       " Keras class = Flatten</title></image><text x=\"838.3333333333334\" y=\"304.5\" font-family=\"monospace\" font-size=\"12\" text-anchor=\"start\" alignment-baseline=\"central\">flatten</text><line x1=\"366.6666666666667\" y1=\"344\" x2=\"366.6666666666667\" y2=\"290\" stroke=\"black\" stroke-width=\"2\"><title>TODO</title></line><rect x=\"265.6666666666667\" y=\"344\" width=\"202\" height=\"27\" style=\"fill:none;stroke:black;stroke-width:2\"/><image id=\"Robot Prediction Network_hidden_7\" class=\"Robot Prediction Network_hidden\" x=\"266.6666666666667\" y=\"345\" height=\"25\" width=\"200\" preserveAspectRatio=\"none\" href=\"data:image/gif;base64,R0lGODdhMgABAIcAAP7+/QAAAAAAAAAAAAAAAAAAAAAAAAAAAAAAAAAAAAAAAAAAAAAAAAAAAAAAAAAAAAAAAAAAAAAAAAAAAAAAAAAAAAAAAAAAAAAAAAAAAAAAAAAAAAAAAAAAAAAAAAAAAAAAAAAAAAAAAAAAAAAAAAAAAAAAAAAAAAAAAAAAAAAAAAAAAAAAAAAAAAAAAAAAAAAAAAAAAAAAAAAAAAAAAAAAAAAAAAAAAAAAAAAAAAAAAAAAAAAAAAAAAAAAAAAAAAAAAAAAAAAAAAAAAAAAAAAAAAAAAAAAAAAAAAAAAAAAAAAAAAAAAAAAAAAAAAAAAAAAAAAAAAAAAAAAAAAAAAAAAAAAAAAAAAAAAAAAAAAAAAAAAAAAAAAAAAAAAAAAAAAAAAAAAAAAAAAAAAAAAAAAAAAAAAAAAAAAAAAAAAAAAAAAAAAAAAAAAAAAAAAAAAAAAAAAAAAAAAAAAAAAAAAAAAAAAAAAAAAAAAAAAAAAAAAAAAAAAAAAAAAAAAAAAAAAAAAAAAAAAAAAAAAAAAAAAAAAAAAAAAAAAAAAAAAAAAAAAAAAAAAAAAAAAAAAAAAAAAAAAAAAAAAAAAAAAAAAAAAAAAAAAAAAAAAAAAAAAAAAAAAAAAAAAAAAAAAAAAAAAAAAAAAAAAAAAAAAAAAAAAAAAAAAAAAAAAAAAAAAAAAAAAAAAAAAAAAAAAAAAAAAAAAAAAAAAAAAAAAAAAAAAAAAAAAAAAAAAAAAAAAAAAAAAAAAAAAAAAAAAAAAAAAAAAAAAAAAAAAAAAAAAAAAAAAAAAAAAAAAAAAAAAAAAAAAAAAAAAAAAAAAAAAAAAAAAAAAAAAAAAAAAAAAAAAAAAAAAAAAAAAAAAAAAAAAAAAAAAAAAAAAAAAAAAAAAAAAAAAAAAAAAAAAAAAAAAAAAAAAAAAAAAAAAAAAAAAAAAAAAAAAAAAAAAAAAAAAAAAAAAAAAAAAAAAAAAAAAAAAAAAAAAAAAAAAAAAAAAAAAAAAAAAAAAAAAAAAAAAAACwAAAAAMgABAAAIDgABCBxIsKDBgwgTFgwIADs=\"><title>Layer: hidden (hidden)\n",
       " shape = (50,)\n",
       " Keras class = Dense\n",
       " activation = relu</title></image><text x=\"471.6666666666667\" y=\"359.5\" font-family=\"monospace\" font-size=\"12\" text-anchor=\"start\" alignment-baseline=\"central\">hidden</text><line x1=\"733.3333333333334\" y1=\"344\" x2=\"733.3333333333334\" y2=\"317\" stroke=\"black\" stroke-width=\"2\" marker-end=\"url(#arrow)\"><title>Weights from conv to flatten</title></line><rect x=\"632.3333333333334\" y=\"344\" width=\"202\" height=\"137\" style=\"fill:none;stroke:black;stroke-width:2\"/><image id=\"Robot Prediction Network_conv_8\" class=\"Robot Prediction Network_conv\" x=\"633.3333333333334\" y=\"345\" height=\"135\" width=\"200\" preserveAspectRatio=\"none\" href=\"data:image/gif;base64,R0lGODdhPgAqAIcAAP7+/QAAAAAAAAAAAAAAAAAAAAAAAAAAAAAAAAAAAAAAAAAAAAAAAAAAAAAAAAAAAAAAAAAAAAAAAAAAAAAAAAAAAAAAAAAAAAAAAAAAAAAAAAAAAAAAAAAAAAAAAAAAAAAAAAAAAAAAAAAAAAAAAAAAAAAAAAAAAAAAAAAAAAAAAAAAAAAAAAAAAAAAAAAAAAAAAAAAAAAAAAAAAAAAAAAAAAAAAAAAAAAAAAAAAAAAAAAAAAAAAAAAAAAAAAAAAAAAAAAAAAAAAAAAAAAAAAAAAAAAAAAAAAAAAAAAAAAAAAAAAAAAAAAAAAAAAAAAAAAAAAAAAAAAAAAAAAAAAAAAAAAAAAAAAAAAAAAAAAAAAAAAAAAAAAAAAAAAAAAAAAAAAAAAAAAAAAAAAAAAAAAAAAAAAAAAAAAAAAAAAAAAAAAAAAAAAAAAAAAAAAAAAAAAAAAAAAAAAAAAAAAAAAAAAAAAAAAAAAAAAAAAAAAAAAAAAAAAAAAAAAAAAAAAAAAAAAAAAAAAAAAAAAAAAAAAAAAAAAAAAAAAAAAAAAAAAAAAAAAAAAAAAAAAAAAAAAAAAAAAAAAAAAAAAAAAAAAAAAAAAAAAAAAAAAAAAAAAAAAAAAAAAAAAAAAAAAAAAAAAAAAAAAAAAAAAAAAAAAAAAAAAAAAAAAAAAAAAAAAAAAAAAAAAAAAAAAAAAAAAAAAAAAAAAAAAAAAAAAAAAAAAAAAAAAAAAAAAAAAAAAAAAAAAAAAAAAAAAAAAAAAAAAAAAAAAAAAAAAAAAAAAAAAAAAAAAAAAAAAAAAAAAAAAAAAAAAAAAAAAAAAAAAAAAAAAAAAAAAAAAAAAAAAAAAAAAAAAAAAAAAAAAAAAAAAAAAAAAAAAAAAAAAAAAAAAAAAAAAAAAAAAAAAAAAAAAAAAAAAAAAAAAAAAAAAAAAAAAAAAAAAAAAAAAAAAAAAAAAAAAAAAAAAAAAAAAAAAAAAAAAAAAAAAAAAAAAAAAAAAAAAAAAAAAAAAAAAAAAAAACwAAAAAPgAqAEAIVAABCBxIsKDBgwgTKlzIsKHDhxAjSpxIsaLFixgzatzIsaPHjyBDihxJsqTJkyhTqlzJsqXLlzBjypxJs6bNmzhz6tzJs6fPn0CDCh1KtKjRozADAgA7\"><title>Layer: conv (hidden)\n",
       " Keras class = Conv2DTranspose</title></image><text x=\"838.3333333333334\" y=\"414.5\" font-family=\"monospace\" font-size=\"12\" text-anchor=\"start\" alignment-baseline=\"central\">conv</text><line x1=\"275.0\" y1=\"509\" x2=\"366.6666666666667\" y2=\"372\" stroke=\"black\" stroke-width=\"2\" marker-end=\"url(#arrow)\"><title>Weights from light to hidden\n",
       " hidden/kernel has shape (18, 50)\n",
       " hidden/bias has shape (50,)</title></line><rect x=\"224.0\" y=\"509\" width=\"102\" height=\"52\" style=\"fill:none;stroke:black;stroke-width:2\"/><image id=\"Robot Prediction Network_light_9\" class=\"Robot Prediction Network_light\" x=\"225.0\" y=\"510\" height=\"50\" width=\"100\" preserveAspectRatio=\"none\" href=\"data:image/gif;base64,R0lGODdhAgABAIcAAP7+/QAAAAAAAAAAAAAAAAAAAAAAAAAAAAAAAAAAAAAAAAAAAAAAAAAAAAAAAAAAAAAAAAAAAAAAAAAAAAAAAAAAAAAAAAAAAAAAAAAAAAAAAAAAAAAAAAAAAAAAAAAAAAAAAAAAAAAAAAAAAAAAAAAAAAAAAAAAAAAAAAAAAAAAAAAAAAAAAAAAAAAAAAAAAAAAAAAAAAAAAAAAAAAAAAAAAAAAAAAAAAAAAAAAAAAAAAAAAAAAAAAAAAAAAAAAAAAAAAAAAAAAAAAAAAAAAAAAAAAAAAAAAAAAAAAAAAAAAAAAAAAAAAAAAAAAAAAAAAAAAAAAAAAAAAAAAAAAAAAAAAAAAAAAAAAAAAAAAAAAAAAAAAAAAAAAAAAAAAAAAAAAAAAAAAAAAAAAAAAAAAAAAAAAAAAAAAAAAAAAAAAAAAAAAAAAAAAAAAAAAAAAAAAAAAAAAAAAAAAAAAAAAAAAAAAAAAAAAAAAAAAAAAAAAAAAAAAAAAAAAAAAAAAAAAAAAAAAAAAAAAAAAAAAAAAAAAAAAAAAAAAAAAAAAAAAAAAAAAAAAAAAAAAAAAAAAAAAAAAAAAAAAAAAAAAAAAAAAAAAAAAAAAAAAAAAAAAAAAAAAAAAAAAAAAAAAAAAAAAAAAAAAAAAAAAAAAAAAAAAAAAAAAAAAAAAAAAAAAAAAAAAAAAAAAAAAAAAAAAAAAAAAAAAAAAAAAAAAAAAAAAAAAAAAAAAAAAAAAAAAAAAAAAAAAAAAAAAAAAAAAAAAAAAAAAAAAAAAAAAAAAAAAAAAAAAAAAAAAAAAAAAAAAAAAAAAAAAAAAAAAAAAAAAAAAAAAAAAAAAAAAAAAAAAAAAAAAAAAAAAAAAAAAAAAAAAAAAAAAAAAAAAAAAAAAAAAAAAAAAAAAAAAAAAAAAAAAAAAAAAAAAAAAAAAAAAAAAAAAAAAAAAAAAAAAAAAAAAAAAAAAAAAAAAAAAAAAAAAAAAAAAAAAAAAAAAAAAAAAAAAAAAAAAAAAAAAAAAAAAACwAAAAAAgABAAAIBQABAAgIADs=\"><title>Layer: light (input)\n",
       " shape = (2,)\n",
       " Keras class = Input</title></image><text x=\"330.0\" y=\"537.0\" font-family=\"monospace\" font-size=\"12\" text-anchor=\"start\" alignment-baseline=\"central\">light</text><line x1=\"550.0\" y1=\"509\" x2=\"366.6666666666667\" y2=\"372\" stroke=\"black\" stroke-width=\"2\" marker-end=\"url(#arrow)\"><title>Weights from sonar to hidden\n",
       " hidden/kernel has shape (18, 50)\n",
       " hidden/bias has shape (50,)</title></line><rect x=\"449.0\" y=\"509\" width=\"202\" height=\"27\" style=\"fill:none;stroke:black;stroke-width:2\"/><image id=\"Robot Prediction Network_sonar_10\" class=\"Robot Prediction Network_sonar\" x=\"450.0\" y=\"510\" height=\"25\" width=\"200\" preserveAspectRatio=\"none\" href=\"data:image/gif;base64,R0lGODdhEAABAIcAAP7+/QAAAAAAAAAAAAAAAAAAAAAAAAAAAAAAAAAAAAAAAAAAAAAAAAAAAAAAAAAAAAAAAAAAAAAAAAAAAAAAAAAAAAAAAAAAAAAAAAAAAAAAAAAAAAAAAAAAAAAAAAAAAAAAAAAAAAAAAAAAAAAAAAAAAAAAAAAAAAAAAAAAAAAAAAAAAAAAAAAAAAAAAAAAAAAAAAAAAAAAAAAAAAAAAAAAAAAAAAAAAAAAAAAAAAAAAAAAAAAAAAAAAAAAAAAAAAAAAAAAAAAAAAAAAAAAAAAAAAAAAAAAAAAAAAAAAAAAAAAAAAAAAAAAAAAAAAAAAAAAAAAAAAAAAAAAAAAAAAAAAAAAAAAAAAAAAAAAAAAAAAAAAAAAAAAAAAAAAAAAAAAAAAAAAAAAAAAAAAAAAAAAAAAAAAAAAAAAAAAAAAAAAAAAAAAAAAAAAAAAAAAAAAAAAAAAAAAAAAAAAAAAAAAAAAAAAAAAAAAAAAAAAAAAAAAAAAAAAAAAAAAAAAAAAAAAAAAAAAAAAAAAAAAAAAAAAAAAAAAAAAAAAAAAAAAAAAAAAAAAAAAAAAAAAAAAAAAAAAAAAAAAAAAAAAAAAAAAAAAAAAAAAAAAAAAAAAAAAAAAAAAAAAAAAAAAAAAAAAAAAAAAAAAAAAAAAAAAAAAAAAAAAAAAAAAAAAAAAAAAAAAAAAAAAAAAAAAAAAAAAAAAAAAAAAAAAAAAAAAAAAAAAAAAAAAAAAAAAAAAAAAAAAAAAAAAAAAAAAAAAAAAAAAAAAAAAAAAAAAAAAAAAAAAAAAAAAAAAAAAAAAAAAAAAAAAAAAAAAAAAAAAAAAAAAAAAAAAAAAAAAAAAAAAAAAAAAAAAAAAAAAAAAAAAAAAAAAAAAAAAAAAAAAAAAAAAAAAAAAAAAAAAAAAAAAAAAAAAAAAAAAAAAAAAAAAAAAAAAAAAAAAAAAAAAAAAAAAAAAAAAAAAAAAAAAAAAAAAAAAAAAAAAAAAAAAAAAAAAAAAAAAAAAAAAAAAAAAAAAAACwAAAAAEAABAAAICQABCBxIsCCAgAA7\"><title>Layer: sonar (input)\n",
       " shape = (16,)\n",
       " Keras class = Input</title></image><text x=\"655.0\" y=\"524.5\" font-family=\"monospace\" font-size=\"12\" text-anchor=\"start\" alignment-baseline=\"central\">sonar</text><line x1=\"825.0\" y1=\"509\" x2=\"733.3333333333334\" y2=\"482\" stroke=\"black\" stroke-width=\"2\" marker-end=\"url(#arrow)\"><title>Weights from camera to conv\n",
       " conv/kernel has shape (3, 3, 16, 3)\n",
       " conv/bias has shape (16,)</title></line><rect x=\"724.0\" y=\"509\" width=\"202\" height=\"135\" style=\"fill:none;stroke:black;stroke-width:2\"/><image id=\"Robot Prediction Network_camera_11\" class=\"Robot Prediction Network_camera\" x=\"725.0\" y=\"510\" height=\"133\" width=\"200\" preserveAspectRatio=\"none\" href=\"data:image/gif;base64,R0lGODdhPAAoAIcAAAAAAAAAAAAAAAAAAAAAAAAAAAAAAAAAAAAAAAAAAAAAAAAAAAAAAAAAAAAAAAAAAAAAAAAAAAAAAAAAAAAAAAAAAAAAAAAAAAAAAAAAAAAAAAAAAAAAAAAAAAAAAAAAAAAAAAAAAAAAAAAAAAAAAAAAAAAAAAAAAAAAAAAAAAAAAAAAAAAAAAAAAAAAAAAAAAAAAAAAAAAAAAAAAAAAAAAAAAAAAAAAAAAAAAAAAAAAAAAAAAAAAAAAAAAAAAAAAAAAAAAAAAAAAAAAAAAAAAAAAAAAAAAAAAAAAAAAAAAAAAAAAAAAAAAAAAAAAAAAAAAAAAAAAAAAAAAAAAAAAAAAAAAAAAAAAAAAAAAAAAAAAAAAAAAAAAAAAAAAAAAAAAAAAAAAAAAAAAAAAAAAAAAAAAAAAAAAAAAAAAAAAAAAAAAAAAAAAAAAAAAAAAAAAAAAAAAAAAAAAAAAAAAAAAAAAAAAAAAAAAAAAAAAAAAAAAAAAAAAAAAAAAAAAAAAAAAAAAAAAAAAAAAAAAAAAAAAAAAAAAAAAAAAAAAAAAAAAAAAAAAAAAAAAAAAAAAAAAAAAAAAAAAAAAAAAAAAAAAAAAAAAAAAAAAAAAAAAAAAAAAAAAAAAAAAAAAAAAAAAAAAAAAAAAAAAAAAAAAAAAAAAAAAAAAAAAAAAAAAAAAAAAAAAAAAAAAAAAAAAAAAAAAAAAAAAAAAAAAAAAAAAAAAAAAAAAAAAAAAAAAAAAAAAAAAAAAAAAAAAAAAAAAAAAAAAAAAAAAAAAAAAAAAAAAAAAAAAAAAAAAAAAAAAAAAAAAAAAAAAAAAAAAAAAAAAAAAAAAAAAAAAAAAAAAAAAAAAAAAAAAAAAAAAAAAAAAAAAAAAAAAAAAAAAAAAAAAAAAAAAAAAAAAAAAAAAAAAAAAAAAAAAAAAAAAAAAAAAAAAAAAAAAAAAAAAAAAAAAAAAAAAAAAAAAAAAAAAAAAAAAAAAAAAAAAAAAAAAAAAAAAAAAAAAAAAAAAAAAAAAAAACwAAAAAPAAoAEAIUAABCBxIsKDBgwgTKlzIsKHDhxAjSpxIsaLFixgzatzIsaPHjyBDihxJsqTJkyhTqlzJsqXLlzBjypxJs6bNmzhz6tzJs6fPn0CDCh1K1GZAADs=\"><title>Layer: camera (input)\n",
       " shape = (40, 60, 3)\n",
       " Keras class = Input</title></image><text x=\"930.0\" y=\"578.5\" font-family=\"monospace\" font-size=\"12\" text-anchor=\"start\" alignment-baseline=\"central\">camera</text></svg>"
      ],
      "text/plain": [
       "<Network name='Robot Prediction Network' (compiled)>"
      ]
     },
     "execution_count": 40,
     "metadata": {},
     "output_type": "execute_result"
    }
   ],
   "source": [
    "net"
   ]
  },
  {
   "cell_type": "code",
   "execution_count": 41,
   "metadata": {},
   "outputs": [
    {
     "data": {
      "text/plain": [
       "[[0.6178123354911804, 0.6090826392173767],\n",
       " [0.42568066716194153,\n",
       "  0.44594305753707886,\n",
       "  0.5795302391052246,\n",
       "  0.3958825170993805,\n",
       "  0.5979085564613342]]"
      ]
     },
     "execution_count": 41,
     "metadata": {},
     "output_type": "execute_result"
    }
   ],
   "source": [
    "net.propagate(get_senses(robot))"
   ]
  },
  {
   "cell_type": "code",
   "execution_count": 42,
   "metadata": {},
   "outputs": [
    {
     "data": {
      "application/javascript": [
       "\n",
       "require(['base/js/namespace'], function(Jupyter) {\n",
       "    Jupyter.notebook.kernel.comm_manager.register_target('conx_svg_control', function(comm, msg) {\n",
       "        comm.on_msg(function(msg) {\n",
       "            var data = msg[\"content\"][\"data\"];\n",
       "            var images = document.getElementsByClassName(data[\"class\"]);\n",
       "            for (var i = 0; i < images.length; i++) {\n",
       "                images[i].setAttributeNS(null, \"href\", data[\"href\"]);\n",
       "            }\n",
       "        });\n",
       "    });\n",
       "});\n"
      ],
      "text/plain": [
       "<IPython.core.display.Javascript object>"
      ]
     },
     "metadata": {},
     "output_type": "display_data"
    },
    {
     "data": {
      "application/vnd.jupyter.widget-view+json": {
       "model_id": "d2b9d4ed19cc45229e6c525026441860"
      }
     },
     "metadata": {},
     "output_type": "display_data"
    }
   ],
   "source": [
    "net.dashboard()"
   ]
  },
  {
   "cell_type": "code",
   "execution_count": 44,
   "metadata": {},
   "outputs": [
    {
     "data": {
      "application/vnd.jupyter.widget-view+json": {
       "model_id": "747d303ec44f43c78c2b94ad090cb3a9"
      }
     },
     "metadata": {},
     "output_type": "display_data"
    }
   ],
   "source": [
    "sim.widget"
   ]
  },
  {
   "cell_type": "code",
   "execution_count": null,
   "metadata": {
    "collapsed": true
   },
   "outputs": [],
   "source": []
  }
 ],
 "metadata": {
  "kernelspec": {
   "display_name": "Python 3",
   "language": "python",
   "name": "python3"
  },
  "language_info": {
   "codemirror_mode": {
    "name": "ipython",
    "version": 3
   },
   "file_extension": ".py",
   "mimetype": "text/x-python",
   "name": "python",
   "nbconvert_exporter": "python",
   "pygments_lexer": "ipython3",
   "version": "3.5.3"
  },
  "widgets": {
   "application/vnd.jupyter.widget-state+json": {
    "state": {
     "00c73ff2203a423f90ef5a3a17842b50": {
      "model_module": "jupyter-js-widgets",
      "model_module_version": "~2.1.4",
      "model_name": "FloatSliderModel",
      "state": {
       "_model_module_version": "~2.1.4",
       "_view_module_version": "~2.1.4",
       "layout": "IPY_MODEL_6cd7da4969e144e1935f2b55b7287fec",
       "readout": false,
       "step": 0.1,
       "value": 87.5
      }
     },
     "012372234f5d460ab94716b7c9d7e9f3": {
      "model_module": "jupyter-js-widgets",
      "model_module_version": "~2.1.4",
      "model_name": "LayoutModel",
      "state": {
       "_model_module_version": "~2.1.4",
       "_view_module_version": "~2.1.4"
      }
     },
     "01a84f1d33744269b1cef4352aa14835": {
      "model_module": "jupyter-js-widgets",
      "model_module_version": "~2.1.4",
      "model_name": "VBoxModel",
      "state": {
       "_model_module_version": "~2.1.4",
       "_view_module_version": "~2.1.4",
       "children": [
        "IPY_MODEL_1a6b97e431f940dc947e5e6ab6de81fa",
        "IPY_MODEL_3bd30d4fe57347f597f95b036cdd81b6"
       ],
       "layout": "IPY_MODEL_b4587ef1398f482cb53ed6dc9256de99"
      }
     },
     "01ea5a99ceba4147815153e5af187eda": {
      "model_module": "jupyter-js-widgets",
      "model_module_version": "~2.1.4",
      "model_name": "ButtonStyleModel",
      "state": {
       "_model_module_version": "~2.1.4",
       "_view_module_version": "~2.1.4"
      }
     },
     "020769927b0640bcb39c9d1ef3118b6a": {
      "model_module": "jupyter-js-widgets",
      "model_module_version": "~2.1.4",
      "model_name": "LayoutModel",
      "state": {
       "_model_module_version": "~2.1.4",
       "_view_module_version": "~2.1.4"
      }
     },
     "025b867050be4e829ead880de90b54c5": {
      "model_module": "jupyter-js-widgets",
      "model_module_version": "~2.1.4",
      "model_name": "ButtonModel",
      "state": {
       "_model_module_version": "~2.1.4",
       "_view_module_version": "~2.1.4",
       "description": "Clear",
       "layout": "IPY_MODEL_eb85efc3b8a14ef094f33d69aac925ee",
       "style": "IPY_MODEL_10d04656c1b34cff9aa1e8943e136271"
      }
     },
     "0285bfc02694453a91a494b3b8bffc1b": {
      "model_module": "jupyter-js-widgets",
      "model_module_version": "~2.1.4",
      "model_name": "HBoxModel",
      "state": {
       "_model_module_version": "~2.1.4",
       "_view_module_version": "~2.1.4",
       "children": [
        "IPY_MODEL_cf27ed3da9934a2d8036bd224ec367d2",
        "IPY_MODEL_c2dae6ff1ff44914985269cfe4dabf51",
        "IPY_MODEL_7b11a845201d43ca9b4f6b78ab593853",
        "IPY_MODEL_8ca7812f07824c71b62fb1bd3f9d7194",
        "IPY_MODEL_4e90dbb828be43178f79c5fd3a2e187b"
       ],
       "layout": "IPY_MODEL_ad757561d8d74c73b48eb484b2c451ae"
      }
     },
     "02b2d697081b46eb938d502d171466f1": {
      "model_module": "jupyter-js-widgets",
      "model_module_version": "~2.1.4",
      "model_name": "VBoxModel",
      "state": {
       "_model_module_version": "~2.1.4",
       "_view_module_version": "~2.1.4",
       "children": [
        "IPY_MODEL_92c527731e0b4f0686592be77cc36f68",
        "IPY_MODEL_101cdfc2f285486cb2e0c652e6db643d",
        "IPY_MODEL_963d96ba2c704d5bb97e05c35dcd571b"
       ],
       "layout": "IPY_MODEL_b4d960bcfaed471d82ae7f082c4891f6"
      }
     },
     "02e4b9b367b54b65827d811a9c57ae1a": {
      "model_module": "jupyter-js-widgets",
      "model_module_version": "~2.1.4",
      "model_name": "LayoutModel",
      "state": {
       "_model_module_version": "~2.1.4",
       "_view_module_version": "~2.1.4"
      }
     },
     "02f3f06b72594f08a438293d0fc1f1de": {
      "model_module": "jupyter-js-widgets",
      "model_module_version": "~2.1.4",
      "model_name": "HBoxModel",
      "state": {
       "_model_module_version": "~2.1.4",
       "_view_module_version": "~2.1.4",
       "children": [
        "IPY_MODEL_5a11783dcd284b8fab3af14d984cb4e6",
        "IPY_MODEL_b688dc8fc96a436e8d9f895e4e8b73fb"
       ],
       "layout": "IPY_MODEL_ed22584cfa834b39837f1d81bc3d40af"
      }
     },
     "02fd93569bf146e4be1c3b43fd643068": {
      "model_module": "jupyter-js-widgets",
      "model_module_version": "~2.1.4",
      "model_name": "LayoutModel",
      "state": {
       "_model_module_version": "~2.1.4",
       "_view_module_version": "~2.1.4"
      }
     },
     "0348d00d91354c2f9df76bc49131cafb": {
      "model_module": "jupyter-js-widgets",
      "model_module_version": "~2.1.4",
      "model_name": "LayoutModel",
      "state": {
       "_model_module_version": "~2.1.4",
       "_view_module_version": "~2.1.4",
       "height": "30px",
       "padding": "0px 0px 0px 10px",
       "width": "260px"
      }
     },
     "03636f3fc01b4a089248c32ab22093c9": {
      "model_module": "jupyter-js-widgets",
      "model_module_version": "~2.1.4",
      "model_name": "LayoutModel",
      "state": {
       "_model_module_version": "~2.1.4",
       "_view_module_version": "~2.1.4"
      }
     },
     "03d16f2d4c90400cb8a0826a6b7b8117": {
      "model_module": "jupyter-js-widgets",
      "model_module_version": "~2.1.4",
      "model_name": "LayoutModel",
      "state": {
       "_model_module_version": "~2.1.4",
       "_view_module_version": "~2.1.4"
      }
     },
     "03f17468af7c4ae598ed741f63279e97": {
      "model_module": "jupyter-js-widgets",
      "model_module_version": "~2.1.4",
      "model_name": "HBoxModel",
      "state": {
       "_model_module_version": "~2.1.4",
       "_view_module_version": "~2.1.4",
       "children": [
        "IPY_MODEL_c40bf903efcc43a894a006b45da592fb",
        "IPY_MODEL_3bff5f328a9e41f9a58a3d2220ffbc1a"
       ],
       "layout": "IPY_MODEL_6218693500d646549dee24cc8b752e95"
      }
     },
     "0426018781e2480e8529ed5a75f06e73": {
      "model_module": "jupyter-js-widgets",
      "model_module_version": "~2.1.4",
      "model_name": "IntSliderModel",
      "state": {
       "_model_module_version": "~2.1.4",
       "_view_module_version": "~2.1.4",
       "continuous_update": false,
       "description": "Dataset index",
       "layout": "IPY_MODEL_298894c970e7421f9dec42d64cce7dcd",
       "max": 0,
       "style": "IPY_MODEL_3c44ca29f8244aa59bd09dd1676eb3c4"
      }
     },
     "0586b3044986437f96711374a8f2f147": {
      "model_module": "jupyter-js-widgets",
      "model_module_version": "~2.1.4",
      "model_name": "PlayModel",
      "state": {
       "_model_module_version": "~2.1.4",
       "_view_module_version": "~2.1.4",
       "layout": "IPY_MODEL_a3887ac63da240b390f9fb2cabbd720a",
       "max": 1000000
      }
     },
     "05f953e56e3e4cd0ac40b478cad396d9": {
      "model_module": "jupyter-js-widgets",
      "model_module_version": "~2.1.4",
      "model_name": "LayoutModel",
      "state": {
       "_model_module_version": "~2.1.4",
       "_view_module_version": "~2.1.4"
      }
     },
     "071014bf53f04d3db6dfef0b2faaf5b4": {
      "model_module": "jupyter-js-widgets",
      "model_module_version": "~2.1.4",
      "model_name": "LayoutModel",
      "state": {
       "_model_module_version": "~2.1.4",
       "_view_module_version": "~2.1.4"
      }
     },
     "07d28497bb6b48c9b18430c7397aa3a7": {
      "model_module": "jupyter-js-widgets",
      "model_module_version": "~2.1.4",
      "model_name": "FloatSliderModel",
      "state": {
       "_model_module_version": "~2.1.4",
       "_view_module_version": "~2.1.4",
       "layout": "IPY_MODEL_c4d6ff487a8f496a9b836ad65d008376",
       "orientation": "vertical",
       "readout": false,
       "step": 0.1,
       "value": 51.24999999999999
      }
     },
     "0866d4fc2c3941d0833dac1161dc4673": {
      "model_module": "jupyter-js-widgets",
      "model_module_version": "~2.1.4",
      "model_name": "LayoutModel",
      "state": {
       "_model_module_version": "~2.1.4",
       "_view_module_version": "~2.1.4",
       "width": "100%"
      }
     },
     "0873475d3a9c4d2793af275e309c9613": {
      "model_module": "jupyter-js-widgets",
      "model_module_version": "~2.1.4",
      "model_name": "LayoutModel",
      "state": {
       "_model_module_version": "~2.1.4",
       "_view_module_version": "~2.1.4"
      }
     },
     "08fca8f65a414300bd50f426b235d933": {
      "model_module": "jupyter-js-widgets",
      "model_module_version": "~2.1.4",
      "model_name": "FloatSliderModel",
      "state": {
       "_model_module_version": "~2.1.4",
       "_view_module_version": "~2.1.4",
       "layout": "IPY_MODEL_6fe7167c53114ebe9281c5a315f8e0ed",
       "readout": false,
       "step": 0.1,
       "value": 58.1
      }
     },
     "09225a0e137645119eef7c643cd70d74": {
      "model_module": "jupyter-js-widgets",
      "model_module_version": "~2.1.4",
      "model_name": "LayoutModel",
      "state": {
       "_model_module_version": "~2.1.4",
       "_view_module_version": "~2.1.4"
      }
     },
     "09f4f14389d64e83b288b008c9f38806": {
      "model_module": "jupyter-js-widgets",
      "model_module_version": "~2.1.4",
      "model_name": "LayoutModel",
      "state": {
       "_model_module_version": "~2.1.4",
       "_view_module_version": "~2.1.4",
       "width": "100%"
      }
     },
     "0a23e30794f94dc78548bb21e5264f8e": {
      "model_module": "jupyter-js-widgets",
      "model_module_version": "~2.1.4",
      "model_name": "LayoutModel",
      "state": {
       "_model_module_version": "~2.1.4",
       "_view_module_version": "~2.1.4"
      }
     },
     "0a43f62ab73b460bacb96bcffa2341b1": {
      "model_module": "jupyter-js-widgets",
      "model_module_version": "~2.1.4",
      "model_name": "PlayModel",
      "state": {
       "_model_module_version": "~2.1.4",
       "_view_module_version": "~2.1.4",
       "layout": "IPY_MODEL_feabf83d734a4143bd4f1aee69e48b98",
       "max": 1000000,
       "value": 1352
      }
     },
     "0a5676a4a3be46a685dd7362ff96dc07": {
      "model_module": "jupyter-js-widgets",
      "model_module_version": "~2.1.4",
      "model_name": "HBoxModel",
      "state": {
       "_model_module_version": "~2.1.4",
       "_view_module_version": "~2.1.4",
       "children": [
        "IPY_MODEL_a307ea534d75477cb72b657bd14a1862",
        "IPY_MODEL_3b3c689f592e461196e4d88dcb3e914a"
       ],
       "layout": "IPY_MODEL_92d667a8000b4e76b93801c5d20ed8ce"
      }
     },
     "0a75a2ce788240bdae0f1bdf547a33df": {
      "model_module": "jupyter-js-widgets",
      "model_module_version": "~2.1.4",
      "model_name": "ButtonStyleModel",
      "state": {
       "_model_module_version": "~2.1.4",
       "_view_module_version": "~2.1.4"
      }
     },
     "0aa31e53c97b43e1923063a606f8b57d": {
      "model_module": "jupyter-js-widgets",
      "model_module_version": "~2.1.4",
      "model_name": "LayoutModel",
      "state": {
       "_model_module_version": "~2.1.4",
       "_view_module_version": "~2.1.4"
      }
     },
     "0ab52306707c4bb899cf504f8cf56d94": {
      "model_module": "jupyter-js-widgets",
      "model_module_version": "~2.1.4",
      "model_name": "HTMLModel",
      "state": {
       "_model_module_version": "~2.1.4",
       "_view_module_version": "~2.1.4",
       "layout": "IPY_MODEL_97f7f161cc74406e9b9fd47b34b4e1e7",
       "value": "<svg baseProfile=\"full\" height=\"240\" version=\"1.1\" width=\"240\" xmlns=\"http://www.w3.org/2000/svg\" xmlns:ev=\"http://www.w3.org/2001/xml-events\" xmlns:xlink=\"http://www.w3.org/1999/xlink\"><defs /><rect fill=\"white\" height=\"240\" stroke=\"#000000\" stroke-width=\"1\" width=\"240\" x=\"0\" y=\"0\" /><rect fill=\"#eef3dd\" height=\"240.0\" stroke=\"#bebebe\" stroke-width=\"1\" width=\"240.0\" x=\"0.0\" y=\"0.0\" /><circle cx=\"120.0\" cy=\"195.0\" fill=\"#ffff00\" r=\"15.0\" stroke=\"#ffff00\" stroke-width=\"1\" /><line fill=\"#800080\" stroke=\"#add8e6\" stroke-width=\"1\" x1=\"202.34653183064063\" x2=\"240.0\" y1=\"139.7240319739804\" y2=\"132.08609399999997\" /><line fill=\"#800080\" stroke=\"#add8e6\" stroke-width=\"1\" x1=\"201.71142911624884\" x2=\"240.0\" y1=\"144.13839994031176\" y2=\"153.35416800000002\" /><line fill=\"#800080\" stroke=\"#add8e6\" stroke-width=\"1\" x1=\"199.7171716057341\" x2=\"240.0\" y1=\"146.37959091427084\" y2=\"178.460172\" /><line fill=\"#800080\" stroke=\"#add8e6\" stroke-width=\"1\" x1=\"196.4872260308187\" x2=\"240.0\" y1=\"148.56532913809457\" y2=\"235.96539\" /><line fill=\"#800080\" stroke=\"#add8e6\" stroke-width=\"1\" x1=\"190.60698484524426\" x2=\"185.03500721928\" y1=\"149.75812568381147\" y2=\"240.0\" /><line fill=\"#800080\" stroke=\"#add8e6\" stroke-width=\"1\" x1=\"186.78064099747036\" x2=\"137.30533452202195\" y1=\"149.00374331484798\" y2=\"240.0\" /><line fill=\"#800080\" stroke=\"#add8e6\" stroke-width=\"1\" x1=\"184.07070555952552\" x2=\"59.205681458851245\" y1=\"147.7167895774624\" y2=\"240.0\" /><line fill=\"#800080\" stroke=\"#add8e6\" stroke-width=\"1\" x1=\"181.7656876811301\" x2=\"0.0\" y1=\"143.89881988398955\" y2=\"180.76966199999998\" /><line fill=\"#800080\" stroke=\"#add8e6\" stroke-width=\"1\" x1=\"179.3800945896963\" x2=\"0.0\" y1=\"132.13833751284068\" y2=\"168.525264\" /><line fill=\"#800080\" stroke=\"#add8e6\" stroke-width=\"1\" x1=\"180.0151973040881\" x2=\"0.0\" y1=\"127.72396954650931\" y2=\"84.39567600000001\" /><line fill=\"#800080\" stroke=\"#add8e6\" stroke-width=\"1\" x1=\"182.0094548146028\" x2=\"24.44368824818696\" y1=\"125.48277857255025\" y2=\"0.0\" /><line fill=\"#800080\" stroke=\"#add8e6\" stroke-width=\"1\" x1=\"185.23940038951824\" x2=\"123.85504481464018\" y1=\"123.29704034872651\" y2=\"0.0\" /><line fill=\"#800080\" stroke=\"#add8e6\" stroke-width=\"1\" x1=\"191.1196415750927\" x2=\"198.65896157494066\" y1=\"122.10424380300961\" y2=\"0.0\" /><line fill=\"#800080\" stroke=\"#add8e6\" stroke-width=\"1\" x1=\"194.94598542286658\" x2=\"240.0\" y1=\"122.85862617197309\" y2=\"39.99413399999998\" /><line fill=\"#800080\" stroke=\"#add8e6\" stroke-width=\"1\" x1=\"197.65592086081142\" x2=\"240.0\" y1=\"124.14557990935867\" y2=\"92.85060600000001\" /><line fill=\"#800080\" stroke=\"#add8e6\" stroke-width=\"1\" x1=\"199.96093873920682\" x2=\"240.0\" y1=\"127.96354960283153\" y2=\"119.841696\" /><line fill=\"#800080\" stroke=\"#a020f0\" stroke-width=\"1\" x1=\"190.86331321016846\" x2=\"240.0\" y1=\"135.93118474341054\" y2=\"152.40379199999998\" /><line fill=\"#800080\" stroke=\"#a020f0\" stroke-width=\"1\" x1=\"190.86331321016846\" x2=\"73.09732264061353\" y1=\"135.93118474341054\" y2=\"240.0\" /><line fill=\"#800080\" stroke=\"#ffa500\" stroke-width=\"1\" x1=\"120.0\" x2=\"203.83752751278672\" y1=\"195.0\" y2=\"147.07433345594848\" /><line fill=\"#800080\" stroke=\"#ffa500\" stroke-width=\"1\" x1=\"120.0\" x2=\"183.2566833632762\" y1=\"195.0\" y2=\"151.2491213659576\" /><polygon fill=\"red\" points=\"198.25129838649102,148.20749017437953 202.94293010349904,142.66415256676765 199.3645404663484,125.02342901004434 192.883713930765,121.74640483929454 183.4753280338459,123.65487931244157 178.7836963168379,129.19821692005343 182.36208595398853,146.83894047677674 188.84291248957192,150.11596464752654\" stroke=\"red\" stroke-width=\"1\" /><polygon points=\"-3.0,-3.0 0,0 3.0,-3.0 0,3.0\" stroke=\"black\" stroke-width=\"1\" transform=\"translate(190.86331321016846,135.93118474341054) rotate(-11.466761414789485)\" /><polygon fill=\"black\" points=\"189.00508366282747,144.87920033064486 188.05084642625394,140.17500738218536 195.10713584894324,138.74365152732508 196.06137308551678,143.4478444757846\" stroke=\"black\" stroke-width=\"1\" /><circle cx=\"203.83752751278672\" cy=\"147.07433345594848\" fill=\"yellow\" r=\"1.5\" stroke=\"orange\" stroke-width=\"1\" /><circle cx=\"183.2566833632762\" cy=\"151.2491213659576\" fill=\"yellow\" r=\"1.5\" stroke=\"orange\" stroke-width=\"1\" /></svg>"
      }
     },
     "0af526d30bc84aa6bfe6482c07383360": {
      "model_module": "jupyter-js-widgets",
      "model_module_version": "~2.1.4",
      "model_name": "LayoutModel",
      "state": {
       "_model_module_version": "~2.1.4",
       "_view_module_version": "~2.1.4"
      }
     },
     "0b23f084825947338be3d5efbdffc1c6": {
      "model_module": "jupyter-js-widgets",
      "model_module_version": "~2.1.4",
      "model_name": "LayoutModel",
      "state": {
       "_model_module_version": "~2.1.4",
       "_view_module_version": "~2.1.4"
      }
     },
     "0c45e858db964bf59d61ff47aca63ff8": {
      "model_module": "jupyter-js-widgets",
      "model_module_version": "~2.1.4",
      "model_name": "CheckboxModel",
      "state": {
       "_model_module_version": "~2.1.4",
       "_view_module_version": "~2.1.4",
       "description": "Update GUI",
       "disabled": false,
       "layout": "IPY_MODEL_cf8d889c7df9445ba8aeafc0ea4616cc",
       "value": true
      }
     },
     "0c8c6bdd966c44eda14f8a257012fa5b": {
      "model_module": "jupyter-js-widgets",
      "model_module_version": "~2.1.4",
      "model_name": "LayoutModel",
      "state": {
       "_model_module_version": "~2.1.4",
       "_view_module_version": "~2.1.4"
      }
     },
     "0d45bfc012264dd6add83160ca0a054f": {
      "model_module": "jupyter-js-widgets",
      "model_module_version": "~2.1.4",
      "model_name": "VBoxModel",
      "state": {
       "_model_module_version": "~2.1.4",
       "_view_module_version": "~2.1.4",
       "children": [
        "IPY_MODEL_521ae11eaac54b3d99ba0f8d56ae626f",
        "IPY_MODEL_a3beac022e424f26bfd88d8ff552cf00"
       ],
       "layout": "IPY_MODEL_723bd940d4e34fe2b0bfa96dc67f3ab4"
      }
     },
     "0e1d62f36b8b440fa9bdd586053dcb31": {
      "model_module": "jupyter-js-widgets",
      "model_module_version": "~2.1.4",
      "model_name": "LayoutModel",
      "state": {
       "_model_module_version": "~2.1.4",
       "_view_module_version": "~2.1.4"
      }
     },
     "0e2b146811634d4fb62938f681eb574c": {
      "model_module": "jupyter-js-widgets",
      "model_module_version": "~2.1.4",
      "model_name": "ButtonModel",
      "state": {
       "_model_module_version": "~2.1.4",
       "_view_module_version": "~2.1.4",
       "description": "Clear",
       "layout": "IPY_MODEL_8774e657dae74270bae67ae23992be4a",
       "style": "IPY_MODEL_4d55c03476344d4a9c8258e5b33ab84f"
      }
     },
     "0e87f64d66ed4322af8fc7fa53b70cf6": {
      "model_module": "jupyter-js-widgets",
      "model_module_version": "~2.1.4",
      "model_name": "ButtonStyleModel",
      "state": {
       "_model_module_version": "~2.1.4",
       "_view_module_version": "~2.1.4"
      }
     },
     "0f5118c090cd4914b463915883bacd3b": {
      "model_module": "jupyter-js-widgets",
      "model_module_version": "~2.1.4",
      "model_name": "SelectModel",
      "state": {
       "_model_module_version": "~2.1.4",
       "_options_labels": [
        "Test",
        "Train"
       ],
       "_view_module_version": "~2.1.4",
       "description": "Dataset:",
       "layout": "IPY_MODEL_b1750aa2119e4cddab5118bd36c3b0c8",
       "value": "Train"
      }
     },
     "0f53ed119447440296ed100b5f74ee45": {
      "model_module": "jupyter-js-widgets",
      "model_module_version": "~2.1.4",
      "model_name": "VBoxModel",
      "state": {
       "_model_module_version": "~2.1.4",
       "_view_module_version": "~2.1.4",
       "children": [
        "IPY_MODEL_32e3fb1ea809476b8d75f0cb212656f6",
        "IPY_MODEL_421fa573e02b482e8d4d02231d82ba51"
       ],
       "layout": "IPY_MODEL_91f140dffc7649e08829658e44dea1d4"
      }
     },
     "0f7d41d417664f24a108ef6faf1b56cc": {
      "model_module": "jupyter-js-widgets",
      "model_module_version": "~2.1.4",
      "model_name": "LayoutModel",
      "state": {
       "_model_module_version": "~2.1.4",
       "_view_module_version": "~2.1.4"
      }
     },
     "101cdfc2f285486cb2e0c652e6db643d": {
      "model_module": "jupyter-js-widgets",
      "model_module_version": "~2.1.4",
      "model_name": "HBoxModel",
      "state": {
       "_model_module_version": "~2.1.4",
       "_view_module_version": "~2.1.4",
       "children": [
        "IPY_MODEL_2d00e22a84504bcab6693c0fea9b542f",
        "IPY_MODEL_381443efe142471d8a273bb24c3285ac",
        "IPY_MODEL_a74200bee3a3434a88b46139a2c79d5b"
       ],
       "layout": "IPY_MODEL_e0538de8594f49b39947908465f98371"
      }
     },
     "1056173c9ec343fb9e30845574ead9d0": {
      "model_module": "jupyter-js-widgets",
      "model_module_version": "~2.1.4",
      "model_name": "LayoutModel",
      "state": {
       "_model_module_version": "~2.1.4",
       "_view_module_version": "~2.1.4"
      }
     },
     "1063ea8ec0004f10a48f9f82d2d4d3b1": {
      "model_module": "jupyter-js-widgets",
      "model_module_version": "~2.1.4",
      "model_name": "LayoutModel",
      "state": {
       "_model_module_version": "~2.1.4",
       "_view_module_version": "~2.1.4"
      }
     },
     "10ae8792bc6a4e9ea001f6e500cdeb3f": {
      "model_module": "jupyter-js-widgets",
      "model_module_version": "~2.1.4",
      "model_name": "LayoutModel",
      "state": {
       "_model_module_version": "~2.1.4",
       "_view_module_version": "~2.1.4",
       "height": "30px",
       "padding": "0px 0px 0px 10px",
       "width": "260px"
      }
     },
     "10d04656c1b34cff9aa1e8943e136271": {
      "model_module": "jupyter-js-widgets",
      "model_module_version": "~2.1.4",
      "model_name": "ButtonStyleModel",
      "state": {
       "_model_module_version": "~2.1.4",
       "_view_module_version": "~2.1.4"
      }
     },
     "110c39400166490ba039ea65a7f6f2f1": {
      "model_module": "jupyter-js-widgets",
      "model_module_version": "~2.1.4",
      "model_name": "VBoxModel",
      "state": {
       "_model_module_version": "~2.1.4",
       "_view_module_version": "~2.1.4",
       "children": [
        "IPY_MODEL_0d45bfc012264dd6add83160ca0a054f",
        "IPY_MODEL_25aecf0826824380994ef04cf128d4d0",
        "IPY_MODEL_e955720d246e4db38a5daee6965ba66f"
       ],
       "layout": "IPY_MODEL_783805096f7340c5bc6a6369b5efef9a"
      }
     },
     "1151951531bb43e2be78fd798fa98b1b": {
      "model_module": "jupyter-js-widgets",
      "model_module_version": "~2.1.4",
      "model_name": "PlayModel",
      "state": {
       "_model_module_version": "~2.1.4",
       "_view_module_version": "~2.1.4",
       "layout": "IPY_MODEL_5ff84d51567b4423b784318c6d541543",
       "max": 1000000
      }
     },
     "115c0d2335b54cf4aa374b3970272d2d": {
      "model_module": "jupyter-js-widgets",
      "model_module_version": "~2.1.4",
      "model_name": "LayoutModel",
      "state": {
       "_model_module_version": "~2.1.4",
       "_view_module_version": "~2.1.4",
       "width": "100%"
      }
     },
     "1165948ca0b9490088c74396d218fc8e": {
      "model_module": "jupyter-js-widgets",
      "model_module_version": "~2.1.4",
      "model_name": "ButtonModel",
      "state": {
       "_model_module_version": "~2.1.4",
       "_view_module_version": "~2.1.4",
       "description": "Train",
       "layout": "IPY_MODEL_9862a011dcd847909359fc1765749a59",
       "style": "IPY_MODEL_e6e00ebd2f0d43c2b58f79c301cef63f"
      }
     },
     "11999d76914a4df58cb59b46dc1ac1a7": {
      "model_module": "jupyter-js-widgets",
      "model_module_version": "~2.1.4",
      "model_name": "LayoutModel",
      "state": {
       "_model_module_version": "~2.1.4",
       "_view_module_version": "~2.1.4",
       "width": "100%"
      }
     },
     "12082685ad314ddfa29d0db78509e285": {
      "model_module": "jupyter-js-widgets",
      "model_module_version": "~2.1.4",
      "model_name": "LayoutModel",
      "state": {
       "_model_module_version": "~2.1.4",
       "_view_module_version": "~2.1.4"
      }
     },
     "127dc3aebf384f0e8b2943dede91d1c9": {
      "model_module": "jupyter-js-widgets",
      "model_module_version": "~2.1.4",
      "model_name": "PlayModel",
      "state": {
       "_model_module_version": "~2.1.4",
       "_view_module_version": "~2.1.4",
       "layout": "IPY_MODEL_d49eac625b2b401097f6c3fd1f99135b",
       "max": 1000000
      }
     },
     "133b0fd4938a4fa69f601cfa9052cd28": {
      "model_module": "jupyter-js-widgets",
      "model_module_version": "~2.1.4",
      "model_name": "ButtonModel",
      "state": {
       "_model_module_version": "~2.1.4",
       "_view_module_version": "~2.1.4",
       "description": "Clear",
       "layout": "IPY_MODEL_594ccc4f42a4425e8d6321681a3a8353",
       "style": "IPY_MODEL_b4faf91b5eff4696bf7d2020d6c5232b"
      }
     },
     "137bb18d0de347bbaad53423b9ed15ef": {
      "model_module": "jupyter-js-widgets",
      "model_module_version": "~2.1.4",
      "model_name": "SliderStyleModel",
      "state": {
       "_model_module_version": "~2.1.4",
       "_view_module_version": "~2.1.4"
      }
     },
     "141b9adaf320456b9b12e982003c255a": {
      "model_module": "jupyter-js-widgets",
      "model_module_version": "~2.1.4",
      "model_name": "LayoutModel",
      "state": {
       "_model_module_version": "~2.1.4",
       "_view_module_version": "~2.1.4"
      }
     },
     "152328ef19024ae5af8690914aaf4165": {
      "model_module": "jupyter-js-widgets",
      "model_module_version": "~2.1.4",
      "model_name": "LayoutModel",
      "state": {
       "_model_module_version": "~2.1.4",
       "_view_module_version": "~2.1.4"
      }
     },
     "167cef33524543929a3173c851a027f2": {
      "model_module": "jupyter-js-widgets",
      "model_module_version": "~2.1.4",
      "model_name": "VBoxModel",
      "state": {
       "_model_module_version": "~2.1.4",
       "_view_module_version": "~2.1.4",
       "children": [
        "IPY_MODEL_2bb2845e47594e5381f2211fad6bd154",
        "IPY_MODEL_e67f46d464f345f196912e60023f2296"
       ],
       "layout": "IPY_MODEL_c023ab6774ec4afeb422c30fe303dd29"
      }
     },
     "1684596b8d264053a7f357b0f0b3661d": {
      "model_module": "jupyter-js-widgets",
      "model_module_version": "~2.1.4",
      "model_name": "VBoxModel",
      "state": {
       "_model_module_version": "~2.1.4",
       "_view_module_version": "~2.1.4",
       "children": [
        "IPY_MODEL_313c52089d2740b48dc32e7f119e8802",
        "IPY_MODEL_534b9d67622e4c33bb76ed00b6ffd651"
       ],
       "layout": "IPY_MODEL_d84972c7f0274faaa41c15c7bd77065a"
      }
     },
     "17027e183b2740a6b6b4fbc7eec5d6c7": {
      "model_module": "jupyter-js-widgets",
      "model_module_version": "~2.1.4",
      "model_name": "LayoutModel",
      "state": {
       "_model_module_version": "~2.1.4",
       "_view_module_version": "~2.1.4"
      }
     },
     "1790762ff746428983f528b65797f25e": {
      "model_module": "jupyter-js-widgets",
      "model_module_version": "~2.1.4",
      "model_name": "ButtonStyleModel",
      "state": {
       "_model_module_version": "~2.1.4",
       "_view_module_version": "~2.1.4"
      }
     },
     "17fb2fe0ef524101934e86afc601ad06": {
      "model_module": "jupyter-js-widgets",
      "model_module_version": "~2.1.4",
      "model_name": "LayoutModel",
      "state": {
       "_model_module_version": "~2.1.4",
       "_view_module_version": "~2.1.4",
       "width": "100%"
      }
     },
     "18344abb7d984c3bbcc2507a4053de3f": {
      "model_module": "jupyter-js-widgets",
      "model_module_version": "~2.1.4",
      "model_name": "LayoutModel",
      "state": {
       "_model_module_version": "~2.1.4",
       "_view_module_version": "~2.1.4"
      }
     },
     "185ce6f838d24b148e100ef0d1b834f4": {
      "model_module": "jupyter-js-widgets",
      "model_module_version": "~2.1.4",
      "model_name": "LayoutModel",
      "state": {
       "_model_module_version": "~2.1.4",
       "_view_module_version": "~2.1.4",
       "height": "20px",
       "padding": "0px 0px 0px 0px",
       "width": "248px"
      }
     },
     "192f3cc22443472caf16c9ffdeb4927c": {
      "model_module": "jupyter-js-widgets",
      "model_module_version": "~2.1.4",
      "model_name": "LayoutModel",
      "state": {
       "_model_module_version": "~2.1.4",
       "_view_module_version": "~2.1.4",
       "height": "20px",
       "padding": "0px 0px 0px 0px",
       "width": "248px"
      }
     },
     "194141117cf24ba085032dc5e6cc34d1": {
      "model_module": "jupyter-js-widgets",
      "model_module_version": "~2.1.4",
      "model_name": "LayoutModel",
      "state": {
       "_model_module_version": "~2.1.4",
       "_view_module_version": "~2.1.4"
      }
     },
     "19f0fb1f7a5749fba9205f38e3a8e805": {
      "model_module": "jupyter-js-widgets",
      "model_module_version": "~2.1.4",
      "model_name": "LayoutModel",
      "state": {
       "_model_module_version": "~2.1.4",
       "_view_module_version": "~2.1.4",
       "height": "248px",
       "padding": "0px 0px 0px 0px",
       "width": "10px"
      }
     },
     "1a22938dbbe64730b4537dc08399dfa7": {
      "model_module": "jupyter-js-widgets",
      "model_module_version": "~2.1.4",
      "model_name": "PlayModel",
      "state": {
       "_model_module_version": "~2.1.4",
       "_view_module_version": "~2.1.4",
       "layout": "IPY_MODEL_6439c21b4d5545d6a60a35f33aa2df6c",
       "max": 1000000,
       "value": 45
      }
     },
     "1a6b97e431f940dc947e5e6ab6de81fa": {
      "model_module": "jupyter-js-widgets",
      "model_module_version": "~2.1.4",
      "model_name": "ImageModel",
      "state": {
       "_b64value": "iVBORw0KGgoAAAANSUhEUgAAADwAAAAoCAIAAAAt2Q6oAAAA8UlEQVR4nO3WoQ7CMBCA4d5d++gYggJDwMwgEJshATHkEIRgUCCwkxiwZAhGMxq2bIRcaXKfWOb655b0BvExV6FB3wHfkGguEs1ForlINBeJ5qJ9B5TuhwzeKaWqz+qLt+jbNkVEIgIARLRBbXSOztPYDqBuEg2KokBEYwwRdT3a+hx9SiJ8sZOofji/yuhdNCQirTURPVv9ZjXTm8kAAIwxvks6+OuJ1pFoLhLNJchouFzPSql+b+rc0w3L5Vcb0Vnj7f89ymjHeDQPL7rBLFqGF/0riyQLL9qxXu3Di+4kyCtPorlINBeJ5iLRXIKMfgDJGDkVat0rzwAAAABJRU5ErkJggg==",
       "_model_module_version": "~2.1.4",
       "_view_module_version": "~2.1.4",
       "layout": "IPY_MODEL_5a64ce91aa9349d98e1790ededa5cb76",
       "width": "240"
      }
     },
     "1a7f0a8c93f04ac0bacef8f7ac3d6b56": {
      "model_module": "jupyter-js-widgets",
      "model_module_version": "~2.1.4",
      "model_name": "FloatSliderModel",
      "state": {
       "_model_module_version": "~2.1.4",
       "_view_module_version": "~2.1.4",
       "layout": "IPY_MODEL_89db76598a0f40ddb3a62561bcf4021b",
       "orientation": "vertical",
       "readout": false,
       "step": 0.1,
       "value": 51.24999999999999
      }
     },
     "1a8cb428dc7e4ae18c356d955cce03fe": {
      "model_module": "jupyter-js-widgets",
      "model_module_version": "~2.1.4",
      "model_name": "CheckboxModel",
      "state": {
       "_model_module_version": "~2.1.4",
       "_view_module_version": "~2.1.4",
       "description": "Update GUI",
       "disabled": false,
       "layout": "IPY_MODEL_d49891e5b61c44b287c45c677850ded2",
       "value": true
      }
     },
     "1b2245bf514448168effc677da0f35cd": {
      "model_module": "jupyter-js-widgets",
      "model_module_version": "~2.1.4",
      "model_name": "LayoutModel",
      "state": {
       "_model_module_version": "~2.1.4",
       "_view_module_version": "~2.1.4"
      }
     },
     "1be4a3f041ce43c0b7aa989fc224c66e": {
      "model_module": "jupyter-js-widgets",
      "model_module_version": "~2.1.4",
      "model_name": "LayoutModel",
      "state": {
       "_model_module_version": "~2.1.4",
       "_view_module_version": "~2.1.4"
      }
     },
     "1c76395c1c4841bd99dc133f8db293d1": {
      "model_module": "jupyter-js-widgets",
      "model_module_version": "~2.1.4",
      "model_name": "LayoutModel",
      "state": {
       "_model_module_version": "~2.1.4",
       "_view_module_version": "~2.1.4"
      }
     },
     "1c7fe11b558643f1a4b19bb5282206e0": {
      "model_module": "jupyter-js-widgets",
      "model_module_version": "~2.1.4",
      "model_name": "LayoutModel",
      "state": {
       "_model_module_version": "~2.1.4",
       "_view_module_version": "~2.1.4"
      }
     },
     "1cc2ed39cf6a47558cdc2e57190024cf": {
      "model_module": "jupyter-js-widgets",
      "model_module_version": "~2.1.4",
      "model_name": "LayoutModel",
      "state": {
       "_model_module_version": "~2.1.4",
       "_view_module_version": "~2.1.4"
      }
     },
     "1d92069f1cdc46e4a44896a3775a3370": {
      "model_module": "jupyter-js-widgets",
      "model_module_version": "~2.1.4",
      "model_name": "LayoutModel",
      "state": {
       "_model_module_version": "~2.1.4",
       "_view_module_version": "~2.1.4"
      }
     },
     "1d9c74eb05494e33b9c20fd0fed8b8a4": {
      "model_module": "jupyter-js-widgets",
      "model_module_version": "~2.1.4",
      "model_name": "LayoutModel",
      "state": {
       "_model_module_version": "~2.1.4",
       "_view_module_version": "~2.1.4"
      }
     },
     "1da709e151e141cb8f23ac3f62a3d103": {
      "model_module": "jupyter-js-widgets",
      "model_module_version": "~2.1.4",
      "model_name": "VBoxModel",
      "state": {
       "_model_module_version": "~2.1.4",
       "_view_module_version": "~2.1.4",
       "children": [
        "IPY_MODEL_4f0a27afb5244d7eb8a4f0a204629c48"
       ],
       "layout": "IPY_MODEL_da5a2c857fd143538119ac89f571d954"
      }
     },
     "1e04ebbf34ce4ab7ab055159234bfdf7": {
      "model_module": "jupyter-js-widgets",
      "model_module_version": "~2.1.4",
      "model_name": "LayoutModel",
      "state": {
       "_model_module_version": "~2.1.4",
       "_view_module_version": "~2.1.4"
      }
     },
     "1e8c1f2c3e354fdba261615dd10db74d": {
      "model_module": "jupyter-js-widgets",
      "model_module_version": "~2.1.4",
      "model_name": "FloatSliderModel",
      "state": {
       "_model_module_version": "~2.1.4",
       "_view_module_version": "~2.1.4",
       "layout": "IPY_MODEL_4923cd1058884bdf9a6962d12e8c3c9d",
       "readout": false,
       "step": 0.1,
       "value": 64.58591539835673
      }
     },
     "1eadeeac07294afd89e6d8d4d0565c65": {
      "model_module": "jupyter-js-widgets",
      "model_module_version": "~2.1.4",
      "model_name": "LayoutModel",
      "state": {
       "_model_module_version": "~2.1.4",
       "_view_module_version": "~2.1.4"
      }
     },
     "1f564a496c4e43c9a17c97bd891c6433": {
      "model_module": "jupyter-js-widgets",
      "model_module_version": "~2.1.4",
      "model_name": "HBoxModel",
      "state": {
       "_model_module_version": "~2.1.4",
       "_view_module_version": "~2.1.4",
       "children": [
        "IPY_MODEL_ef50b57794094a05906fc777cf218ec3",
        "IPY_MODEL_9d4e2e82f1e44b2b9daaf068619c6572",
        "IPY_MODEL_7ff97030d933495a945213074b65096f",
        "IPY_MODEL_9b6be3f1d44746d48453f703905c1fa6",
        "IPY_MODEL_42a6471e1c4c4a78bf98dda1a207cca4"
       ],
       "layout": "IPY_MODEL_17fb2fe0ef524101934e86afc601ad06"
      }
     },
     "1fc7de905780465ab2f6c6b5bafc927f": {
      "model_module": "jupyter-js-widgets",
      "model_module_version": "~2.1.4",
      "model_name": "LayoutModel",
      "state": {
       "_model_module_version": "~2.1.4",
       "_view_module_version": "~2.1.4"
      }
     },
     "2021716af4c44e8ebe95cc775d321879": {
      "model_module": "jupyter-js-widgets",
      "model_module_version": "~2.1.4",
      "model_name": "HBoxModel",
      "state": {
       "_model_module_version": "~2.1.4",
       "_view_module_version": "~2.1.4",
       "children": [
        "IPY_MODEL_aad8d025f40142c294132eddf5fa4f9f",
        "IPY_MODEL_d8579b16712d45d493544bd558252746"
       ],
       "layout": "IPY_MODEL_dac01ea97ebf4cbeb04c0f03912333df"
      }
     },
     "206eb5365e77458582f036fa0c693f9c": {
      "model_module": "jupyter-js-widgets",
      "model_module_version": "~2.1.4",
      "model_name": "CheckboxModel",
      "state": {
       "_model_module_version": "~2.1.4",
       "_view_module_version": "~2.1.4",
       "description": "Update GUI",
       "disabled": false,
       "layout": "IPY_MODEL_e911bd785f7c49fc8b1c019c7ae6e4e4",
       "value": true
      }
     },
     "209cfd2f4ff34705a13e2fc205c8ca98": {
      "model_module": "jupyter-js-widgets",
      "model_module_version": "~2.1.4",
      "model_name": "LayoutModel",
      "state": {
       "_model_module_version": "~2.1.4",
       "_view_module_version": "~2.1.4",
       "height": "20px",
       "padding": "0px 0px 0px 0px",
       "width": "248px"
      }
     },
     "20bdbd5ee4ad4a7f9bb74504b1ad8c1c": {
      "model_module": "jupyter-js-widgets",
      "model_module_version": "~2.1.4",
      "model_name": "ButtonStyleModel",
      "state": {
       "_model_module_version": "~2.1.4",
       "_view_module_version": "~2.1.4"
      }
     },
     "20c188277b1d44b19ae2760fae29b7b8": {
      "model_module": "jupyter-js-widgets",
      "model_module_version": "~2.1.4",
      "model_name": "SliderStyleModel",
      "state": {
       "_model_module_version": "~2.1.4",
       "_view_module_version": "~2.1.4"
      }
     },
     "21bcfc0990bd43e6ba694d66d4e54b34": {
      "model_module": "jupyter-js-widgets",
      "model_module_version": "~2.1.4",
      "model_name": "LayoutModel",
      "state": {
       "_model_module_version": "~2.1.4",
       "_view_module_version": "~2.1.4"
      }
     },
     "21c882d62af048558c9faed4cddfeacc": {
      "model_module": "jupyter-js-widgets",
      "model_module_version": "~2.1.4",
      "model_name": "HBoxModel",
      "state": {
       "_model_module_version": "~2.1.4",
       "_view_module_version": "~2.1.4",
       "children": [
        "IPY_MODEL_b42c899a047243ca9e8e93646e0fd99f",
        "IPY_MODEL_0a43f62ab73b460bacb96bcffa2341b1",
        "IPY_MODEL_a3bf484d452e4642a6e4aac271ebe981"
       ],
       "layout": "IPY_MODEL_f1dae2bd9fea4e25a7c94b40eb4f072d"
      }
     },
     "22fe083e084b4041be6f66479ac96057": {
      "model_module": "jupyter-js-widgets",
      "model_module_version": "~2.1.4",
      "model_name": "VBoxModel",
      "state": {
       "_model_module_version": "~2.1.4",
       "_view_module_version": "~2.1.4",
       "children": [
        "IPY_MODEL_259ad82922584214b800a91521d2e439",
        "IPY_MODEL_f8fbfece8eb4491cbf3f9b322e40fdc2"
       ],
       "layout": "IPY_MODEL_57b719ea308541c0a9c03c7a767beb0e"
      }
     },
     "2386600551dc4bce8f6acbbeb2527f65": {
      "model_module": "jupyter-js-widgets",
      "model_module_version": "~2.1.4",
      "model_name": "LayoutModel",
      "state": {
       "_model_module_version": "~2.1.4",
       "_view_module_version": "~2.1.4"
      }
     },
     "23cd90bc32b94e3a835300532aeda556": {
      "model_module": "jupyter-js-widgets",
      "model_module_version": "~2.1.4",
      "model_name": "FloatSliderModel",
      "state": {
       "_model_module_version": "~2.1.4",
       "_view_module_version": "~2.1.4",
       "layout": "IPY_MODEL_7775534407de43008b80d006ebfc07a7",
       "readout": false,
       "step": 0.1,
       "value": 79.52638050423685
      }
     },
     "2409e45e43e8481893838607dd8d31af": {
      "model_module": "jupyter-js-widgets",
      "model_module_version": "~2.1.4",
      "model_name": "VBoxModel",
      "state": {
       "_model_module_version": "~2.1.4",
       "_view_module_version": "~2.1.4",
       "children": [
        "IPY_MODEL_cbf88c16274445ada5686d51cc00e019",
        "IPY_MODEL_cf4e14357a0047149af8c7204beb1f21"
       ],
       "layout": "IPY_MODEL_03636f3fc01b4a089248c32ab22093c9"
      }
     },
     "2451a099552e465a8bf821547e55b39c": {
      "model_module": "jupyter-js-widgets",
      "model_module_version": "~2.1.4",
      "model_name": "HTMLModel",
      "state": {
       "_model_module_version": "~2.1.4",
       "_view_module_version": "~2.1.4",
       "layout": "IPY_MODEL_bb56f7931244452cad6ac2bf6d334247",
       "value": "<iframe style=\"width: 960px\" src=\"https://conx.readthedocs.io\" width=\"100%\" height=\"550px\"></frame>"
      }
     },
     "249335753ef047ada781a08b1dd09fd6": {
      "model_module": "jupyter-js-widgets",
      "model_module_version": "~2.1.4",
      "model_name": "LayoutModel",
      "state": {
       "_model_module_version": "~2.1.4",
       "_view_module_version": "~2.1.4"
      }
     },
     "2573568cc2ea4866b46fa7a78aa4aef7": {
      "model_module": "jupyter-js-widgets",
      "model_module_version": "~2.1.4",
      "model_name": "LayoutModel",
      "state": {
       "_model_module_version": "~2.1.4",
       "_view_module_version": "~2.1.4",
       "height": "550px",
       "justify_content": "center",
       "overflow_x": "auto",
       "width": "100%"
      }
     },
     "258a159ffd7f43d681c06b62f4e4eb03": {
      "model_module": "jupyter-js-widgets",
      "model_module_version": "~2.1.4",
      "model_name": "ButtonStyleModel",
      "state": {
       "_model_module_version": "~2.1.4",
       "_view_module_version": "~2.1.4"
      }
     },
     "259ad82922584214b800a91521d2e439": {
      "model_module": "jupyter-js-widgets",
      "model_module_version": "~2.1.4",
      "model_name": "HBoxModel",
      "state": {
       "_model_module_version": "~2.1.4",
       "_view_module_version": "~2.1.4",
       "children": [
        "IPY_MODEL_1a7f0a8c93f04ac0bacef8f7ac3d6b56",
        "IPY_MODEL_bf5fb5c81d6645ffb83d1c4a81dd71c6"
       ],
       "layout": "IPY_MODEL_afb7e49122e8406f8916b3baf6d5ad33"
      }
     },
     "25aecf0826824380994ef04cf128d4d0": {
      "model_module": "jupyter-js-widgets",
      "model_module_version": "~2.1.4",
      "model_name": "HBoxModel",
      "state": {
       "_model_module_version": "~2.1.4",
       "_view_module_version": "~2.1.4",
       "children": [
        "IPY_MODEL_ae42685873d9488d9b2e14dc808eecae",
        "IPY_MODEL_5a5123f3760d498096de5d9032d5a2f1",
        "IPY_MODEL_292130b5f66d49f6bf82efd6ee2abfb4"
       ],
       "layout": "IPY_MODEL_0f7d41d417664f24a108ef6faf1b56cc"
      }
     },
     "25be33d56f8143d4a461f604d3ddbc8f": {
      "model_module": "jupyter-js-widgets",
      "model_module_version": "~2.1.4",
      "model_name": "VBoxModel",
      "state": {
       "_model_module_version": "~2.1.4",
       "_view_module_version": "~2.1.4",
       "children": [
        "IPY_MODEL_9e05107bb615444d9d7ad5056c372238",
        "IPY_MODEL_e70f5e7297ce424b9cdc68d7f7b119e0"
       ],
       "layout": "IPY_MODEL_337968cdfadf4492b1f03e2d7916acb9"
      }
     },
     "25dd217a044e4c17b057e22fb30c8640": {
      "model_module": "jupyter-js-widgets",
      "model_module_version": "~2.1.4",
      "model_name": "HTMLModel",
      "state": {
       "_model_module_version": "~2.1.4",
       "_view_module_version": "~2.1.4",
       "layout": "IPY_MODEL_f49513d3fdbe4a2fac67803bda17c84c",
       "value": "<svg baseProfile=\"full\" height=\"240\" version=\"1.1\" width=\"240\" xmlns=\"http://www.w3.org/2000/svg\" xmlns:ev=\"http://www.w3.org/2001/xml-events\" xmlns:xlink=\"http://www.w3.org/1999/xlink\"><defs /><rect fill=\"white\" height=\"240\" stroke=\"#000000\" stroke-width=\"1\" width=\"240\" x=\"0\" y=\"0\" /><rect fill=\"#eef3dd\" height=\"240.0\" stroke=\"#bebebe\" stroke-width=\"1\" width=\"240.0\" x=\"0.0\" y=\"0.0\" /><circle cx=\"120.0\" cy=\"195.0\" fill=\"#ffff00\" r=\"15.0\" stroke=\"#ffff00\" stroke-width=\"1\" /><line fill=\"#800080\" stroke=\"#add8e6\" stroke-width=\"1\" x1=\"84.33905405015717\" x2=\"214.19517233920098\" y1=\"182.3724334422428\" y2=\"0.0\" /><line fill=\"#800080\" stroke=\"#add8e6\" stroke-width=\"1\" x1=\"86.8903301957137\" x2=\"240.0\" y1=\"186.03043700007515\" y2=\"99.236856\" /><line fill=\"#800080\" stroke=\"#add8e6\" stroke-width=\"1\" x1=\"86.96454716542753\" x2=\"240.0\" y1=\"189.02951883313781\" y2=\"176.8572\" /><line fill=\"#800080\" stroke=\"#add8e6\" stroke-width=\"1\" x1=\"86.0983543606869\" x2=\"212.575429101431\" y1=\"192.8321113731052\" y2=\"240.0\" /><line fill=\"#800080\" stroke=\"#add8e6\" stroke-width=\"1\" x1=\"82.61820331255382\" x2=\"117.53053321024373\" y1=\"197.71970266966204\" y2=\"240.0\" /><line fill=\"#800080\" stroke=\"#add8e6\" stroke-width=\"1\" x1=\"79.30821485953477\" x2=\"89.74495932169768\" y1=\"199.7822196855629\" y2=\"240.0\" /><line fill=\"#800080\" stroke=\"#add8e6\" stroke-width=\"1\" x1=\"76.44987705131449\" x2=\"69.19862590232486\" y1=\"200.69321088974567\" y2=\"240.0\" /><line fill=\"#800080\" stroke=\"#add8e6\" stroke-width=\"1\" x1=\"72.15852538169142\" x2=\"43.30603260721353\" y1=\"199.47900298019178\" y2=\"240.0\" /><line fill=\"#800080\" stroke=\"#add8e6\" stroke-width=\"1\" x1=\"62.38334278857772\" x2=\"28.574850829805598\" y1=\"192.51870088392562\" y2=\"240.0\" /><line fill=\"#800080\" stroke=\"#add8e6\" stroke-width=\"1\" x1=\"59.832066643021186\" x2=\"0.0\" y1=\"188.86069732609326\" y2=\"222.777822\" /><line fill=\"#800080\" stroke=\"#add8e6\" stroke-width=\"1\" x1=\"59.75784967330736\" x2=\"0.0\" y1=\"185.8616154930306\" y2=\"190.614708\" /><line fill=\"#800080\" stroke=\"#add8e6\" stroke-width=\"1\" x1=\"60.624042478048\" x2=\"0.0\" y1=\"182.05902295306322\" y2=\"159.45011399999999\" /><line fill=\"#800080\" stroke=\"#add8e6\" stroke-width=\"1\" x1=\"64.10419352618106\" x2=\"0.0\" y1=\"177.17143165650637\" y2=\"99.53856599999999\" /><line fill=\"#800080\" stroke=\"#add8e6\" stroke-width=\"1\" x1=\"67.41418197920012\" x2=\"21.972414851886843\" y1=\"175.10891464060552\" y2=\"0.0\" /><line fill=\"#800080\" stroke=\"#add8e6\" stroke-width=\"1\" x1=\"70.2725197874204\" x2=\"102.40825594945709\" y1=\"174.19792343642268\" y2=\"0.0\" /><line fill=\"#800080\" stroke=\"#add8e6\" stroke-width=\"1\" x1=\"74.56387145704348\" x2=\"199.46398628956464\" y1=\"175.41213134597666\" y2=\"0.0\" /><line fill=\"#800080\" stroke=\"#a020f0\" stroke-width=\"1\" x1=\"73.36119841936744\" x2=\"240.0\" y1=\"187.4455671630842\" y2=\"111.33632999999999\" /><line fill=\"#800080\" stroke=\"#a020f0\" stroke-width=\"1\" x1=\"73.36119841936744\" x2=\"68.34492219141379\" y1=\"187.4455671630842\" y2=\"240.0\" /><line fill=\"#800080\" stroke=\"#ffa500\" stroke-width=\"1\" x1=\"120.0\" x2=\"90.44854317085323\" y1=\"195.0\" y2=\"186.72262225240914\" /><line fill=\"#800080\" stroke=\"#ffa500\" stroke-width=\"1\" x1=\"120.0\" x2=\"78.26801450238749\" y1=\"195.0\" y2=\"203.8291917903581\" /><polygon fill=\"red\" points=\"87.14239967512681,191.36583398413813 86.78284969843561,184.11250896630935 72.12007580876505,173.6720558219101 65.14823884062098,175.7051542675393 59.57999716360806,183.52530034203028 59.93954714029929,190.7786253598591 74.60232102996984,201.2190785042583 81.5741579981139,199.1859800586291\" stroke=\"red\" stroke-width=\"1\" /><polygon points=\"-3.0,-3.0 0,0 3.0,-3.0 0,3.0\" stroke=\"black\" stroke-width=\"1\" transform=\"translate(73.36119841936744,187.4455671630842) rotate(-54.547686687954055)\" /><polygon fill=\"black\" points=\"78.1157356056672,195.2503334084046 74.20566256842172,192.46621256989818 78.3818438261814,186.60110301402995 82.29191686342688,189.3852238525364\" stroke=\"black\" stroke-width=\"1\" /><circle cx=\"90.44854317085323\" cy=\"186.72262225240914\" fill=\"yellow\" r=\"1.5\" stroke=\"orange\" stroke-width=\"1\" /><circle cx=\"78.26801450238749\" cy=\"203.8291917903581\" fill=\"yellow\" r=\"1.5\" stroke=\"orange\" stroke-width=\"1\" /></svg>"
      }
     },
     "26266ded8a494dd184264ba1ab7b6578": {
      "model_module": "jupyter-js-widgets",
      "model_module_version": "~2.1.4",
      "model_name": "OutputModel",
      "state": {
       "_dom_classes": [],
       "_model_module": "jupyter-js-widgets",
       "_model_module_version": "~2.1.4",
       "_view_module": "jupyter-js-widgets",
       "_view_module_version": "~2.1.4",
       "layout": "IPY_MODEL_21bcfc0990bd43e6ba694d66d4e54b34",
       "msg_throttle": 1
      }
     },
     "2829753797c1417c83cc6983cacdacdf": {
      "model_module": "jupyter-js-widgets",
      "model_module_version": "~2.1.4",
      "model_name": "LayoutModel",
      "state": {
       "_model_module_version": "~2.1.4",
       "_view_module_version": "~2.1.4"
      }
     },
     "28c8012fba584bf881148b164a6f480f": {
      "model_module": "jupyter-js-widgets",
      "model_module_version": "~2.1.4",
      "model_name": "LayoutModel",
      "state": {
       "_model_module_version": "~2.1.4",
       "_view_module_version": "~2.1.4",
       "height": "550px",
       "justify_content": "center",
       "overflow_x": "auto",
       "width": "100%"
      }
     },
     "292130b5f66d49f6bf82efd6ee2abfb4": {
      "model_module": "jupyter-js-widgets",
      "model_module_version": "~2.1.4",
      "model_name": "ButtonModel",
      "state": {
       "_model_module_version": "~2.1.4",
       "_view_module_version": "~2.1.4",
       "description": "Clear",
       "layout": "IPY_MODEL_a63402a8f62841c48ed3a6df852c9465",
       "style": "IPY_MODEL_2f3e91eba30e408db8a525cbaebf4495"
      }
     },
     "298894c970e7421f9dec42d64cce7dcd": {
      "model_module": "jupyter-js-widgets",
      "model_module_version": "~2.1.4",
      "model_name": "LayoutModel",
      "state": {
       "_model_module_version": "~2.1.4",
       "_view_module_version": "~2.1.4",
       "width": "100%"
      }
     },
     "2a7d4590e2484309ab0dcd1bac41a117": {
      "model_module": "jupyter-js-widgets",
      "model_module_version": "~2.1.4",
      "model_name": "LayoutModel",
      "state": {
       "_model_module_version": "~2.1.4",
       "_view_module_version": "~2.1.4"
      }
     },
     "2aaecdc1a30447238348f08de220d1bc": {
      "model_module": "jupyter-js-widgets",
      "model_module_version": "~2.1.4",
      "model_name": "LayoutModel",
      "state": {
       "_model_module_version": "~2.1.4",
       "_view_module_version": "~2.1.4"
      }
     },
     "2b95b6d934194f49aa66849f5da96229": {
      "model_module": "jupyter-js-widgets",
      "model_module_version": "~2.1.4",
      "model_name": "LayoutModel",
      "state": {
       "_model_module_version": "~2.1.4",
       "_view_module_version": "~2.1.4"
      }
     },
     "2bb2845e47594e5381f2211fad6bd154": {
      "model_module": "jupyter-js-widgets",
      "model_module_version": "~2.1.4",
      "model_name": "ImageModel",
      "state": {
       "_b64value": "iVBORw0KGgoAAAANSUhEUgAAADwAAAAoCAIAAAAt2Q6oAAABTElEQVR4nO2WPRKCMBCFNw6lja2tBSfwIpzAysHG1gYOYUfnCbTwBNaeQAtbG2e00JpYRBkGIb+7aBxe4SAkux+PzSZsfTiDb+p9G8BGHXRbCqxnRuGw6dHmSLtOjKElrJ9jiOjNykOH2GW8pnSdtk4vJuJaruW0u2G4lquhsfIhciugcR3CiuZln5ZBU6x9lJiN0ETdCiVycNltK7c45wAAoWNkQnlZ0/WbSxzPSLNG4TBNEwBgjBU3X1/4fVH8cs7Hk3l5uv2BqU3tV0tBn+c5eFoeHXRb6qDbkpfQfrS8RTIt/2VZllVGiK5Our/cHieX6V6WB7ve61960B/RZaVy2jGuRO6RZeVBwY0S08uaVkDjmo0VTe00VibE99cqD/d8uF9Md0cUWS36IMVqNluIpgREfdP47FFwSFyn6/FC9gcmajKJ/rFP/6aecAx2lPidH/MAAAAASUVORK5CYII=",
       "_model_module_version": "~2.1.4",
       "_view_module_version": "~2.1.4",
       "layout": "IPY_MODEL_772d3d5352374743af7e9176440a355a",
       "width": "240"
      }
     },
     "2bd621225b3f4de084a5cd597f88f005": {
      "model_module": "jupyter-js-widgets",
      "model_module_version": "~2.1.4",
      "model_name": "ButtonModel",
      "state": {
       "_model_module_version": "~2.1.4",
       "_view_module_version": "~2.1.4",
       "icon": "step-forward",
       "layout": "IPY_MODEL_012372234f5d460ab94716b7c9d7e9f3",
       "style": "IPY_MODEL_c219c9a163ed41778ef280df6aaa7f23"
      }
     },
     "2c78cf2d4b20428896a4759ac80d54d4": {
      "model_module": "jupyter-js-widgets",
      "model_module_version": "~2.1.4",
      "model_name": "LayoutModel",
      "state": {
       "_model_module_version": "~2.1.4",
       "_view_module_version": "~2.1.4"
      }
     },
     "2c99066847214bc484223c90eb26d0ca": {
      "model_module": "jupyter-js-widgets",
      "model_module_version": "~2.1.4",
      "model_name": "HTMLModel",
      "state": {
       "_model_module_version": "~2.1.4",
       "_view_module_version": "~2.1.4",
       "layout": "IPY_MODEL_b733f0f4b39540f99cb9242070d7ccd5",
       "value": "<svg baseProfile=\"full\" height=\"240\" version=\"1.1\" width=\"240\" xmlns=\"http://www.w3.org/2000/svg\" xmlns:ev=\"http://www.w3.org/2001/xml-events\" xmlns:xlink=\"http://www.w3.org/1999/xlink\"><defs /><rect fill=\"white\" height=\"240\" stroke=\"#000000\" stroke-width=\"1\" width=\"240\" x=\"0\" y=\"0\" /><rect fill=\"#eef3dd\" height=\"240.0\" stroke=\"#bebebe\" stroke-width=\"1\" width=\"240.0\" x=\"0.0\" y=\"0.0\" /><circle cx=\"120.0\" cy=\"195.0\" fill=\"#ffff00\" r=\"15.0\" stroke=\"#ffff00\" stroke-width=\"1\" /><line fill=\"#800080\" stroke=\"#add8e6\" stroke-width=\"1\" x1=\"206.68490375636316\" x2=\"240.0\" y1=\"135.37946527218918\" y2=\"178.81112999999996\" /><line fill=\"#800080\" stroke=\"#add8e6\" stroke-width=\"1\" x1=\"202.4394559006197\" x2=\"225.31284161149213\" y1=\"136.74554451738803\" y2=\"240.0\" /><line fill=\"#800080\" stroke=\"#add8e6\" stroke-width=\"1\" x1=\"199.5505236281378\" x2=\"176.46255466418128\" y1=\"135.9367983736491\" y2=\"240.0\" /><line fill=\"#800080\" stroke=\"#add8e6\" stroke-width=\"1\" x1=\"196.1692677308071\" x2=\"114.80015508282737\" y1=\"133.99331990534387\" y2=\"240.0\" /><line fill=\"#800080\" stroke=\"#add8e6\" stroke-width=\"1\" x1=\"192.51747146732276\" x2=\"0.0\" y1=\"129.23260734838325\" y2=\"208.93936200000002\" /><line fill=\"#800080\" stroke=\"#add8e6\" stroke-width=\"1\" x1=\"191.51657184847235\" x2=\"0.0\" y1=\"125.46323074833586\" y2=\"117.07030200000001\" /><line fill=\"#800080\" stroke=\"#add8e6\" stroke-width=\"1\" x1=\"191.4840671101668\" x2=\"0.0\" y1=\"122.46340684650632\" y2=\"22.743617999999994\" /><line fill=\"#800080\" stroke=\"#add8e6\" stroke-width=\"1\" x1=\"193.90361683416813\" x2=\"102.8394801019558\" y1=\"118.71697132282716\" y2=\"0.0\" /><line fill=\"#800080\" stroke=\"#add8e6\" stroke-width=\"1\" x1=\"203.42504194808927\" x2=\"117.96326535872149\" y1=\"111.41337879585856\" y2=\"0.0\" /><line fill=\"#800080\" stroke=\"#add8e6\" stroke-width=\"1\" x1=\"207.67048980383274\" x2=\"183.29232029670808\" y1=\"110.04729955065969\" y2=\"0.0\" /><line fill=\"#800080\" stroke=\"#add8e6\" stroke-width=\"1\" x1=\"210.55942207631463\" x2=\"235.15448573396637\" y1=\"110.85604569439863\" y2=\"0.0\" /><line fill=\"#800080\" stroke=\"#add8e6\" stroke-width=\"1\" x1=\"213.94067797364534\" x2=\"240.0\" y1=\"112.79952416270392\" y2=\"78.84976199999998\" /><line fill=\"#800080\" stroke=\"#add8e6\" stroke-width=\"1\" x1=\"217.59247423712966\" x2=\"240.0\" y1=\"117.56023671966449\" y2=\"108.282996\" /><line fill=\"#800080\" stroke=\"#add8e6\" stroke-width=\"1\" x1=\"218.59337385598008\" x2=\"240.0\" y1=\"121.32961331971191\" y2=\"122.26772400000002\" /><line fill=\"#800080\" stroke=\"#add8e6\" stroke-width=\"1\" x1=\"218.62587859428564\" x2=\"240.0\" y1=\"124.32943722154144\" y2=\"135.460512\" /><line fill=\"#800080\" stroke=\"#add8e6\" stroke-width=\"1\" x1=\"216.2063288702843\" x2=\"240.0\" y1=\"128.07587274522058\" y2=\"159.09480599999998\" /><line fill=\"#800080\" stroke=\"#a020f0\" stroke-width=\"1\" x1=\"205.05497285222623\" x2=\"220.3868818439548\" y1=\"123.39642203402386\" y2=\"240.0\" /><line fill=\"#800080\" stroke=\"#a020f0\" stroke-width=\"1\" x1=\"205.05497285222623\" x2=\"0.0\" y1=\"123.39642203402386\" y2=\"38.420897999999994\" /><line fill=\"#800080\" stroke=\"#ffa500\" stroke-width=\"1\" x1=\"120.0\" x2=\"200.73401306016245\" y1=\"195.0\" y2=\"139.94421060154457\" /><line fill=\"#800080\" stroke=\"#ffa500\" stroke-width=\"1\" x1=\"120.0\" x2=\"187.95272613796737\" y1=\"195.0\" y2=\"123.28171665218255\" /><polygon fill=\"red\" points=\"197.26480660985234,135.42153367243202 204.3045474778829,137.20536340393133 218.58668514876462,126.24997461347844 218.68801311617494,118.98845048675265 212.84513909460009,111.37131039561572 205.80539822656954,109.58748066411643 191.52326055568784,120.54286945456931 191.42193258827749,127.8043935812951\" stroke=\"red\" stroke-width=\"1\" /><polygon points=\"-3.0,-3.0 0,0 3.0,-3.0 0,3.0\" stroke=\"black\" stroke-width=\"1\" transform=\"translate(205.05497285222623,123.39642203402386) rotate(52.50929543408422)\" /><polygon fill=\"black\" points=\"196.19889751439084,125.65250926872552 200.0074675599593,122.7310722579381 204.38962307614045,128.4439273262908 200.58105303057198,131.36536433707823\" stroke=\"black\" stroke-width=\"1\" /><circle cx=\"200.73401306016245\" cy=\"139.94421060154457\" fill=\"yellow\" r=\"1.5\" stroke=\"orange\" stroke-width=\"1\" /><circle cx=\"187.95272613796737\" cy=\"123.28171665218255\" fill=\"yellow\" r=\"1.5\" stroke=\"orange\" stroke-width=\"1\" /></svg>"
      }
     },
     "2d00e22a84504bcab6693c0fea9b542f": {
      "model_module": "jupyter-js-widgets",
      "model_module_version": "~2.1.4",
      "model_name": "ButtonModel",
      "state": {
       "_model_module_version": "~2.1.4",
       "_view_module_version": "~2.1.4",
       "icon": "step-forward",
       "layout": "IPY_MODEL_de1aa444029847f09b5a90065db47c20",
       "style": "IPY_MODEL_f5b9ef59840642ba84cf7f1879d513e8"
      }
     },
     "2d034e8492a04192ad080e33c62362e8": {
      "model_module": "jupyter-js-widgets",
      "model_module_version": "~2.1.4",
      "model_name": "ButtonStyleModel",
      "state": {
       "_model_module_version": "~2.1.4",
       "_view_module_version": "~2.1.4"
      }
     },
     "2d3f32de44d44efe87244883422618f1": {
      "model_module": "jupyter-js-widgets",
      "model_module_version": "~2.1.4",
      "model_name": "HBoxModel",
      "state": {
       "_model_module_version": "~2.1.4",
       "_view_module_version": "~2.1.4",
       "children": [
        "IPY_MODEL_cc0183c42c8a460cadcdc5765a89fbb9",
        "IPY_MODEL_2c99066847214bc484223c90eb26d0ca"
       ],
       "layout": "IPY_MODEL_0a23e30794f94dc78548bb21e5264f8e"
      }
     },
     "2d759d4e84d04984b0941e60818704fe": {
      "model_module": "jupyter-js-widgets",
      "model_module_version": "~2.1.4",
      "model_name": "OutputModel",
      "state": {
       "_dom_classes": [],
       "_model_module": "jupyter-js-widgets",
       "_model_module_version": "~2.1.4",
       "_view_module": "jupyter-js-widgets",
       "_view_module_version": "~2.1.4",
       "layout": "IPY_MODEL_b8ae6f909f4d4900b6e793ad22a6f41f",
       "msg_throttle": 1
      }
     },
     "2ea8545901004fad8951d080fff214d2": {
      "model_module": "jupyter-js-widgets",
      "model_module_version": "~2.1.4",
      "model_name": "LayoutModel",
      "state": {
       "_model_module_version": "~2.1.4",
       "_view_module_version": "~2.1.4"
      }
     },
     "2eb66f2b601a48488a54cf95c9be8fc3": {
      "model_module": "jupyter-js-widgets",
      "model_module_version": "~2.1.4",
      "model_name": "LayoutModel",
      "state": {
       "_model_module_version": "~2.1.4",
       "_view_module_version": "~2.1.4"
      }
     },
     "2f3e91eba30e408db8a525cbaebf4495": {
      "model_module": "jupyter-js-widgets",
      "model_module_version": "~2.1.4",
      "model_name": "ButtonStyleModel",
      "state": {
       "_model_module_version": "~2.1.4",
       "_view_module_version": "~2.1.4"
      }
     },
     "2f8451f57ef7450c960274349f6dd8bc": {
      "model_module": "jupyter-js-widgets",
      "model_module_version": "~2.1.4",
      "model_name": "LayoutModel",
      "state": {
       "_model_module_version": "~2.1.4",
       "_view_module_version": "~2.1.4"
      }
     },
     "2fb9cbd2a0c4463ebc9e75a5c798d5de": {
      "model_module": "jupyter-js-widgets",
      "model_module_version": "~2.1.4",
      "model_name": "TabModel",
      "state": {
       "_model_module_version": "~2.1.4",
       "_titles": {
        "0": "Network",
        "1": "Graphs",
        "2": "Analysis",
        "3": "Camera",
        "4": "Help"
       },
       "_view_module_version": "~2.1.4",
       "children": [
        "IPY_MODEL_25be33d56f8143d4a461f604d3ddbc8f",
        "IPY_MODEL_8de673650d8c478cb96adccbfbded595",
        "IPY_MODEL_f9ea59cba00f4f86829a1321371b1be3",
        "IPY_MODEL_3ef68cd0b0284d91b2f849acea07175a",
        "IPY_MODEL_8304fed3c1244b31bbfd9c5bde9a4d0f"
       ],
       "layout": "IPY_MODEL_5166d92fd58d44779bd679e049e87bc8"
      }
     },
     "2fbfaa1b8ab946e9904db9b4d31a5fcc": {
      "model_module": "jupyter-js-widgets",
      "model_module_version": "~2.1.4",
      "model_name": "LayoutModel",
      "state": {
       "_model_module_version": "~2.1.4",
       "_view_module_version": "~2.1.4",
       "width": "100%"
      }
     },
     "2fdbe72ba611462c9b2df65f1e7cefc4": {
      "model_module": "jupyter-js-widgets",
      "model_module_version": "~2.1.4",
      "model_name": "HBoxModel",
      "state": {
       "_model_module_version": "~2.1.4",
       "_view_module_version": "~2.1.4",
       "children": [
        "IPY_MODEL_c80d16b36c8c4d529d2d5fc082c8d96c",
        "IPY_MODEL_e7a78adbe53146fb869301b6e973e7d1",
        "IPY_MODEL_df90f37d6d4f4e0a8c952d871c978cc5"
       ],
       "layout": "IPY_MODEL_78cc6dd493904a92b3059eca45ed179a"
      }
     },
     "30009ad2d0de48cda602cced58c971ec": {
      "model_module": "jupyter-js-widgets",
      "model_module_version": "~2.1.4",
      "model_name": "ButtonModel",
      "state": {
       "_model_module_version": "~2.1.4",
       "_view_module_version": "~2.1.4",
       "icon": "step-forward",
       "layout": "IPY_MODEL_a34ebf4eef2c4809ba1d8836605525c9",
       "style": "IPY_MODEL_d84ae07fcdaf4d2ca09195fe245ebc2d"
      }
     },
     "30c997e8cafd41c295a9cb3ec64cecb0": {
      "model_module": "jupyter-js-widgets",
      "model_module_version": "~2.1.4",
      "model_name": "ButtonStyleModel",
      "state": {
       "_model_module_version": "~2.1.4",
       "_view_module_version": "~2.1.4"
      }
     },
     "312c4d9f0cd64904bbd1c4a1dc1d2d1f": {
      "model_module": "jupyter-js-widgets",
      "model_module_version": "~2.1.4",
      "model_name": "ButtonStyleModel",
      "state": {
       "_model_module_version": "~2.1.4",
       "_view_module_version": "~2.1.4"
      }
     },
     "313c52089d2740b48dc32e7f119e8802": {
      "model_module": "jupyter-js-widgets",
      "model_module_version": "~2.1.4",
      "model_name": "HTMLModel",
      "state": {
       "_model_module_version": "~2.1.4",
       "_view_module_version": "~2.1.4",
       "layout": "IPY_MODEL_2573568cc2ea4866b46fa7a78aa4aef7",
       "value": "\n        <svg id='Robot Prediction Network' xmlns='http://www.w3.org/2000/svg' width=\"1100\" height=\"668\" image-rendering=\"pixelated\">\n    <defs>\n        <marker id=\"arrow\" markerWidth=\"10\" markerHeight=\"10\" refX=\"9\" refY=\"3\" orient=\"auto\" markerUnits=\"strokeWidth\">\n          <path d=\"M0,0 L0,6 L9,3 z\" fill=\"black\" />\n        </marker>\n    </defs>\n<text x=\"550.0\" y=\"12.5\" font-family=\"monospace\" font-size=\"15\" text-anchor=\"middle\" alignment-baseline=\"central\">Robot Prediction Network</text><rect x=\"315.6666666666667\" y=\"29\" width=\"102\" height=\"52\" style=\"fill:none;stroke:black;stroke-width:2\"/><image id=\"Robot Prediction Network_output1_12\" class=\"Robot Prediction Network_output1\" x=\"316.6666666666667\" y=\"30\" height=\"50\" width=\"100\" preserveAspectRatio=\"none\" href=\"data:image/gif;base64,R0lGODdhAgABAIcAANjY2O+begAAAAAAAAAAAAAAAAAAAAAAAAAAAAAAAAAAAAAAAAAAAAAAAAAAAAAAAAAAAAAAAAAAAAAAAAAAAAAAAAAAAAAAAAAAAAAAAAAAAAAAAAAAAAAAAAAAAAAAAAAAAAAAAAAAAAAAAAAAAAAAAAAAAAAAAAAAAAAAAAAAAAAAAAAAAAAAAAAAAAAAAAAAAAAAAAAAAAAAAAAAAAAAAAAAAAAAAAAAAAAAAAAAAAAAAAAAAAAAAAAAAAAAAAAAAAAAAAAAAAAAAAAAAAAAAAAAAAAAAAAAAAAAAAAAAAAAAAAAAAAAAAAAAAAAAAAAAAAAAAAAAAAAAAAAAAAAAAAAAAAAAAAAAAAAAAAAAAAAAAAAAAAAAAAAAAAAAAAAAAAAAAAAAAAAAAAAAAAAAAAAAAAAAAAAAAAAAAAAAAAAAAAAAAAAAAAAAAAAAAAAAAAAAAAAAAAAAAAAAAAAAAAAAAAAAAAAAAAAAAAAAAAAAAAAAAAAAAAAAAAAAAAAAAAAAAAAAAAAAAAAAAAAAAAAAAAAAAAAAAAAAAAAAAAAAAAAAAAAAAAAAAAAAAAAAAAAAAAAAAAAAAAAAAAAAAAAAAAAAAAAAAAAAAAAAAAAAAAAAAAAAAAAAAAAAAAAAAAAAAAAAAAAAAAAAAAAAAAAAAAAAAAAAAAAAAAAAAAAAAAAAAAAAAAAAAAAAAAAAAAAAAAAAAAAAAAAAAAAAAAAAAAAAAAAAAAAAAAAAAAAAAAAAAAAAAAAAAAAAAAAAAAAAAAAAAAAAAAAAAAAAAAAAAAAAAAAAAAAAAAAAAAAAAAAAAAAAAAAAAAAAAAAAAAAAAAAAAAAAAAAAAAAAAAAAAAAAAAAAAAAAAAAAAAAAAAAAAAAAAAAAAAAAAAAAAAAAAAAAAAAAAAAAAAAAAAAAAAAAAAAAAAAAAAAAAAAAAAAAAAAAAAAAAAAAAAAAAAAAAAAAAAAAAAAAAAAAAAAAAAAAAAAAAAAAAAAAAAAAAAAAAAAAAAAAAAAACwAAAAAAgABAAAIBQADAAgIADs=\"><title>Layer: output1 (output)\n shape = (2,)\n Keras class = Dense\n activation = sigmoid</title></image><text x=\"421.6666666666667\" y=\"57.0\" font-family=\"monospace\" font-size=\"12\" text-anchor=\"start\" alignment-baseline=\"central\">output1</text><rect x=\"632.3333333333334\" y=\"29\" width=\"202\" height=\"42\" style=\"fill:none;stroke:black;stroke-width:2\"/><image id=\"Robot Prediction Network_output2_13\" class=\"Robot Prediction Network_output2\" x=\"633.3333333333334\" y=\"30\" height=\"40\" width=\"200\" preserveAspectRatio=\"none\" href=\"data:image/gif;base64,R0lGODdhBQABAIcAAPnHrpubm87Ozv3p3AAAAAAAAAAAAAAAAAAAAAAAAAAAAAAAAAAAAAAAAAAAAAAAAAAAAAAAAAAAAAAAAAAAAAAAAAAAAAAAAAAAAAAAAAAAAAAAAAAAAAAAAAAAAAAAAAAAAAAAAAAAAAAAAAAAAAAAAAAAAAAAAAAAAAAAAAAAAAAAAAAAAAAAAAAAAAAAAAAAAAAAAAAAAAAAAAAAAAAAAAAAAAAAAAAAAAAAAAAAAAAAAAAAAAAAAAAAAAAAAAAAAAAAAAAAAAAAAAAAAAAAAAAAAAAAAAAAAAAAAAAAAAAAAAAAAAAAAAAAAAAAAAAAAAAAAAAAAAAAAAAAAAAAAAAAAAAAAAAAAAAAAAAAAAAAAAAAAAAAAAAAAAAAAAAAAAAAAAAAAAAAAAAAAAAAAAAAAAAAAAAAAAAAAAAAAAAAAAAAAAAAAAAAAAAAAAAAAAAAAAAAAAAAAAAAAAAAAAAAAAAAAAAAAAAAAAAAAAAAAAAAAAAAAAAAAAAAAAAAAAAAAAAAAAAAAAAAAAAAAAAAAAAAAAAAAAAAAAAAAAAAAAAAAAAAAAAAAAAAAAAAAAAAAAAAAAAAAAAAAAAAAAAAAAAAAAAAAAAAAAAAAAAAAAAAAAAAAAAAAAAAAAAAAAAAAAAAAAAAAAAAAAAAAAAAAAAAAAAAAAAAAAAAAAAAAAAAAAAAAAAAAAAAAAAAAAAAAAAAAAAAAAAAAAAAAAAAAAAAAAAAAAAAAAAAAAAAAAAAAAAAAAAAAAAAAAAAAAAAAAAAAAAAAAAAAAAAAAAAAAAAAAAAAAAAAAAAAAAAAAAAAAAAAAAAAAAAAAAAAAAAAAAAAAAAAAAAAAAAAAAAAAAAAAAAAAAAAAAAAAAAAAAAAAAAAAAAAAAAAAAAAAAAAAAAAAAAAAAAAAAAAAAAAAAAAAAAAAAAAAAAAAAAAAAAAAAAAAAAAAAAAAAAAAAAAAAAAAAAAAAAAAAAAAAAAAAAAAAAAAAAAAAAAAAAAAAAAAAAAAAAAAAAACwAAAAABQABAAAICAAFDAAQAEBAADs=\"><title>Layer: output2 (output)\n shape = (5,)\n Keras class = Dense\n activation = sigmoid</title></image><text x=\"838.3333333333334\" y=\"52.0\" font-family=\"monospace\" font-size=\"12\" text-anchor=\"start\" alignment-baseline=\"central\">output2</text><line x1=\"366.6666666666667\" y1=\"109\" x2=\"366.6666666666667\" y2=\"82\" stroke=\"black\" stroke-width=\"2\" marker-end=\"url(#arrow)\"><title>Weights from hidden4 to output1\n output1/kernel has shape (10, 2)\n output1/bias has shape (2,)</title></line><rect x=\"265.6666666666667\" y=\"109\" width=\"202\" height=\"27\" style=\"fill:none;stroke:black;stroke-width:2\"/><image id=\"Robot Prediction Network_hidden4_14\" class=\"Robot Prediction Network_hidden4\" x=\"266.6666666666667\" y=\"110\" height=\"25\" width=\"200\" preserveAspectRatio=\"none\" href=\"data:image/gif;base64,R0lGODdhCgABAIcAANnZ2efn5/7078bGxvOjgPayk/vSvAAAAAAAAAAAAAAAAAAAAAAAAAAAAAAAAAAAAAAAAAAAAAAAAAAAAAAAAAAAAAAAAAAAAAAAAAAAAAAAAAAAAAAAAAAAAAAAAAAAAAAAAAAAAAAAAAAAAAAAAAAAAAAAAAAAAAAAAAAAAAAAAAAAAAAAAAAAAAAAAAAAAAAAAAAAAAAAAAAAAAAAAAAAAAAAAAAAAAAAAAAAAAAAAAAAAAAAAAAAAAAAAAAAAAAAAAAAAAAAAAAAAAAAAAAAAAAAAAAAAAAAAAAAAAAAAAAAAAAAAAAAAAAAAAAAAAAAAAAAAAAAAAAAAAAAAAAAAAAAAAAAAAAAAAAAAAAAAAAAAAAAAAAAAAAAAAAAAAAAAAAAAAAAAAAAAAAAAAAAAAAAAAAAAAAAAAAAAAAAAAAAAAAAAAAAAAAAAAAAAAAAAAAAAAAAAAAAAAAAAAAAAAAAAAAAAAAAAAAAAAAAAAAAAAAAAAAAAAAAAAAAAAAAAAAAAAAAAAAAAAAAAAAAAAAAAAAAAAAAAAAAAAAAAAAAAAAAAAAAAAAAAAAAAAAAAAAAAAAAAAAAAAAAAAAAAAAAAAAAAAAAAAAAAAAAAAAAAAAAAAAAAAAAAAAAAAAAAAAAAAAAAAAAAAAAAAAAAAAAAAAAAAAAAAAAAAAAAAAAAAAAAAAAAAAAAAAAAAAAAAAAAAAAAAAAAAAAAAAAAAAAAAAAAAAAAAAAAAAAAAAAAAAAAAAAAAAAAAAAAAAAAAAAAAAAAAAAAAAAAAAAAAAAAAAAAAAAAAAAAAAAAAAAAAAAAAAAAAAAAAAAAAAAAAAAAAAAAAAAAAAAAAAAAAAAAAAAAAAAAAAAAAAAAAAAAAAAAAAAAAAAAAAAAAAAAAAAAAAAAAAAAAAAAAAAAAAAAAAAAAAAAAAAAAAAAAAAAAAAAAAAAAAAAAAAAAAAAAAAAAAAAAAAAAAAAAAAAAAAAAAAAAAAAAAAAAAAAAAAAAAAAAAAAAAAAAAAACwAAAAACgABAAAIDgAFGCAQQACAAAUADAgIADs=\"><title>Layer: hidden4 (hidden)\n shape = (10,)\n Keras class = Dense\n activation = sigmoid</title></image><text x=\"471.6666666666667\" y=\"124.5\" font-family=\"monospace\" font-size=\"12\" text-anchor=\"start\" alignment-baseline=\"central\">hidden4</text><line x1=\"733.3333333333334\" y1=\"110\" x2=\"733.3333333333334\" y2=\"70\" stroke=\"black\" stroke-width=\"2\" marker-end=\"url(#arrow)\"><title>Weights from hidden4 to output1\n output1/kernel has shape (10, 2)\n output1/bias has shape (2,)</title></line><line x1=\"550.0\" y1=\"164\" x2=\"733.3333333333334\" y2=\"110\" stroke=\"black\" stroke-width=\"2\"><title>TODO</title></line><line x1=\"550.0\" y1=\"164\" x2=\"366.6666666666667\" y2=\"137\" stroke=\"black\" stroke-width=\"2\" marker-end=\"url(#arrow)\"><title>Weights from hidden3 to hidden4\n hidden4/kernel has shape (10, 10)\n hidden4/bias has shape (10,)</title></line><rect x=\"449.0\" y=\"164\" width=\"202\" height=\"27\" style=\"fill:none;stroke:black;stroke-width:2\"/><image id=\"Robot Prediction Network_hidden3_15\" class=\"Robot Prediction Network_hidden3\" x=\"450.0\" y=\"165\" height=\"25\" width=\"200\" preserveAspectRatio=\"none\" href=\"data:image/gif;base64,R0lGODdhCgABAIcAAP3z7p+fn/3dy+Dg4AAAAAAAAAAAAAAAAAAAAAAAAAAAAAAAAAAAAAAAAAAAAAAAAAAAAAAAAAAAAAAAAAAAAAAAAAAAAAAAAAAAAAAAAAAAAAAAAAAAAAAAAAAAAAAAAAAAAAAAAAAAAAAAAAAAAAAAAAAAAAAAAAAAAAAAAAAAAAAAAAAAAAAAAAAAAAAAAAAAAAAAAAAAAAAAAAAAAAAAAAAAAAAAAAAAAAAAAAAAAAAAAAAAAAAAAAAAAAAAAAAAAAAAAAAAAAAAAAAAAAAAAAAAAAAAAAAAAAAAAAAAAAAAAAAAAAAAAAAAAAAAAAAAAAAAAAAAAAAAAAAAAAAAAAAAAAAAAAAAAAAAAAAAAAAAAAAAAAAAAAAAAAAAAAAAAAAAAAAAAAAAAAAAAAAAAAAAAAAAAAAAAAAAAAAAAAAAAAAAAAAAAAAAAAAAAAAAAAAAAAAAAAAAAAAAAAAAAAAAAAAAAAAAAAAAAAAAAAAAAAAAAAAAAAAAAAAAAAAAAAAAAAAAAAAAAAAAAAAAAAAAAAAAAAAAAAAAAAAAAAAAAAAAAAAAAAAAAAAAAAAAAAAAAAAAAAAAAAAAAAAAAAAAAAAAAAAAAAAAAAAAAAAAAAAAAAAAAAAAAAAAAAAAAAAAAAAAAAAAAAAAAAAAAAAAAAAAAAAAAAAAAAAAAAAAAAAAAAAAAAAAAAAAAAAAAAAAAAAAAAAAAAAAAAAAAAAAAAAAAAAAAAAAAAAAAAAAAAAAAAAAAAAAAAAAAAAAAAAAAAAAAAAAAAAAAAAAAAAAAAAAAAAAAAAAAAAAAAAAAAAAAAAAAAAAAAAAAAAAAAAAAAAAAAAAAAAAAAAAAAAAAAAAAAAAAAAAAAAAAAAAAAAAAAAAAAAAAAAAAAAAAAAAAAAAAAAAAAAAAAAAAAAAAAAAAAAAAAAAAAAAAAAAAAAAAAAAAAAAAAAAAAAAAAAAAAAAAAAAAAAAAAAAAAAAAAAAAAAAAAAAAAAAAAAAAAAAAAAAAAAAAAAAACwAAAAACgABAAAIDAAFBABAEMAAAAgDAgA7\"><title>Layer: hidden3 (hidden)\n shape = (10,)\n Keras class = Dense\n activation = sigmoid</title></image><text x=\"655.0\" y=\"179.5\" font-family=\"monospace\" font-size=\"12\" text-anchor=\"start\" alignment-baseline=\"central\">hidden3</text><line x1=\"550.0\" y1=\"219\" x2=\"550.0\" y2=\"192\" stroke=\"black\" stroke-width=\"2\" marker-end=\"url(#arrow)\"><title>Weights from hidden2 to hidden3\n hidden3/kernel has shape (5, 10)\n hidden3/bias has shape (10,)</title></line><rect x=\"449.0\" y=\"219\" width=\"202\" height=\"42\" style=\"fill:none;stroke:black;stroke-width:2\"/><image id=\"Robot Prediction Network_hidden2_16\" class=\"Robot Prediction Network_hidden2\" x=\"450.0\" y=\"220\" height=\"40\" width=\"200\" preserveAspectRatio=\"none\" href=\"data:image/gif;base64,R0lGODdhBQABAIcAAP7+/QAAAAAAAAAAAAAAAAAAAAAAAAAAAAAAAAAAAAAAAAAAAAAAAAAAAAAAAAAAAAAAAAAAAAAAAAAAAAAAAAAAAAAAAAAAAAAAAAAAAAAAAAAAAAAAAAAAAAAAAAAAAAAAAAAAAAAAAAAAAAAAAAAAAAAAAAAAAAAAAAAAAAAAAAAAAAAAAAAAAAAAAAAAAAAAAAAAAAAAAAAAAAAAAAAAAAAAAAAAAAAAAAAAAAAAAAAAAAAAAAAAAAAAAAAAAAAAAAAAAAAAAAAAAAAAAAAAAAAAAAAAAAAAAAAAAAAAAAAAAAAAAAAAAAAAAAAAAAAAAAAAAAAAAAAAAAAAAAAAAAAAAAAAAAAAAAAAAAAAAAAAAAAAAAAAAAAAAAAAAAAAAAAAAAAAAAAAAAAAAAAAAAAAAAAAAAAAAAAAAAAAAAAAAAAAAAAAAAAAAAAAAAAAAAAAAAAAAAAAAAAAAAAAAAAAAAAAAAAAAAAAAAAAAAAAAAAAAAAAAAAAAAAAAAAAAAAAAAAAAAAAAAAAAAAAAAAAAAAAAAAAAAAAAAAAAAAAAAAAAAAAAAAAAAAAAAAAAAAAAAAAAAAAAAAAAAAAAAAAAAAAAAAAAAAAAAAAAAAAAAAAAAAAAAAAAAAAAAAAAAAAAAAAAAAAAAAAAAAAAAAAAAAAAAAAAAAAAAAAAAAAAAAAAAAAAAAAAAAAAAAAAAAAAAAAAAAAAAAAAAAAAAAAAAAAAAAAAAAAAAAAAAAAAAAAAAAAAAAAAAAAAAAAAAAAAAAAAAAAAAAAAAAAAAAAAAAAAAAAAAAAAAAAAAAAAAAAAAAAAAAAAAAAAAAAAAAAAAAAAAAAAAAAAAAAAAAAAAAAAAAAAAAAAAAAAAAAAAAAAAAAAAAAAAAAAAAAAAAAAAAAAAAAAAAAAAAAAAAAAAAAAAAAAAAAAAAAAAAAAAAAAAAAAAAAAAAAAAAAAAAAAAAAAAAAAAAAAAAAAAAAAAAAAAAAAAAAAAAAAAAAAAAAAAAAAAAAAAAAACwAAAAABQABAAAIBgABCBQYEAA7\"><title>Layer: hidden2 (hidden)\n shape = (5,)\n Keras class = Dense\n activation = sigmoid</title></image><text x=\"655.0\" y=\"242.0\" font-family=\"monospace\" font-size=\"12\" text-anchor=\"start\" alignment-baseline=\"central\">hidden2</text><line x1=\"366.6666666666667\" y1=\"290\" x2=\"550.0\" y2=\"260\" stroke=\"black\" stroke-width=\"2\" marker-end=\"url(#arrow)\"><title>Weights from hidden2 to hidden3\n hidden3/kernel has shape (5, 10)\n hidden3/bias has shape (10,)</title></line><line x1=\"733.3333333333334\" y1=\"289\" x2=\"550.0\" y2=\"262\" stroke=\"black\" stroke-width=\"2\" marker-end=\"url(#arrow)\"><title>Weights from flatten to hidden2\n hidden2/kernel has shape (41714, 5)\n hidden2/bias has shape (5,)</title></line><rect x=\"632.3333333333334\" y=\"289\" width=\"202\" height=\"27\" style=\"fill:none;stroke:black;stroke-width:2\"/><image id=\"Robot Prediction Network_flatten_17\" class=\"Robot Prediction Network_flatten\" x=\"633.3333333333334\" y=\"290\" height=\"25\" width=\"200\" preserveAspectRatio=\"none\" href=\"data:image/gif;base64,R0lGODdhwKIBAIcAAP7+/QAAAAAAAAAAAAAAAAAAAAAAAAAAAAAAAAAAAAAAAAAAAAAAAAAAAAAAAAAAAAAAAAAAAAAAAAAAAAAAAAAAAAAAAAAAAAAAAAAAAAAAAAAAAAAAAAAAAAAAAAAAAAAAAAAAAAAAAAAAAAAAAAAAAAAAAAAAAAAAAAAAAAAAAAAAAAAAAAAAAAAAAAAAAAAAAAAAAAAAAAAAAAAAAAAAAAAAAAAAAAAAAAAAAAAAAAAAAAAAAAAAAAAAAAAAAAAAAAAAAAAAAAAAAAAAAAAAAAAAAAAAAAAAAAAAAAAAAAAAAAAAAAAAAAAAAAAAAAAAAAAAAAAAAAAAAAAAAAAAAAAAAAAAAAAAAAAAAAAAAAAAAAAAAAAAAAAAAAAAAAAAAAAAAAAAAAAAAAAAAAAAAAAAAAAAAAAAAAAAAAAAAAAAAAAAAAAAAAAAAAAAAAAAAAAAAAAAAAAAAAAAAAAAAAAAAAAAAAAAAAAAAAAAAAAAAAAAAAAAAAAAAAAAAAAAAAAAAAAAAAAAAAAAAAAAAAAAAAAAAAAAAAAAAAAAAAAAAAAAAAAAAAAAAAAAAAAAAAAAAAAAAAAAAAAAAAAAAAAAAAAAAAAAAAAAAAAAAAAAAAAAAAAAAAAAAAAAAAAAAAAAAAAAAAAAAAAAAAAAAAAAAAAAAAAAAAAAAAAAAAAAAAAAAAAAAAAAAAAAAAAAAAAAAAAAAAAAAAAAAAAAAAAAAAAAAAAAAAAAAAAAAAAAAAAAAAAAAAAAAAAAAAAAAAAAAAAAAAAAAAAAAAAAAAAAAAAAAAAAAAAAAAAAAAAAAAAAAAAAAAAAAAAAAAAAAAAAAAAAAAAAAAAAAAAAAAAAAAAAAAAAAAAAAAAAAAAAAAAAAAAAAAAAAAAAAAAAAAAAAAAAAAAAAAAAAAAAAAAAAAAAAAAAAAAAAAAAAAAAAAAAAAAAAAAAAAAAAAAAAAAAAAAAAAAAAAAAAAAAAAAAAAAAAAAAAAAAAAAAAAAAAAAAAAAAAAAAAAAAACwAAAAAwKIBAAAI/wABCBxIsKDBgwgTKlzIsKHDhxAjSpxIsaLFixgzatzIsaPHjyBDihxJsqTJkyhTqlzJsqXLlzBjypxJs6bNmzhz6tzJs6fPn0CDCh1KtKjRo0iTKl3KtKnTp1CjSp1KtarVq1izat3KtavXr2DDih1LtqzZs2jTql3Ltq3bt3Djyp1Lt67du3jz6t3Lt6/fv4ADCx5MuLDhw4gTK17MuLHjx5AjS55MubLly5gza97MubPnz6BDix5NurTp06hTq17NurXr17Bjy55Nu7bt27hz697Nu7fv38CDCx9OvLjx48iTK1/OvLnz59CjS59Ovbr169iza9/Ovbv37+DDi7wfT768+fPo06tfz769+/fw48ufT7++/fv48+vfz7+/f4AABA4kWNDgQYQJFS5k2NDhQ4gRJU6kWNHiRYwZNW7k2NHjR5AhRY4kWdLkSZQpVa5k2dLlS5gxZc6kWdPmTZw5de7k2dPnT6BBhQ4lWtToUaRJlS5l2tTpU6hRpU6lWtXqVaxZtW7l2tXrV7BhxY4lW9bsWbRp1a5l29btW7hx5c6lW9fuXbx59e7l29fvX8CBBQ8mXNjw4bEBAQA7\"><title>Layer: flatten (hidden)\n Keras class = Flatten</title></image><text x=\"838.3333333333334\" y=\"304.5\" font-family=\"monospace\" font-size=\"12\" text-anchor=\"start\" alignment-baseline=\"central\">flatten</text><line x1=\"366.6666666666667\" y1=\"344\" x2=\"366.6666666666667\" y2=\"290\" stroke=\"black\" stroke-width=\"2\"><title>TODO</title></line><rect x=\"265.6666666666667\" y=\"344\" width=\"202\" height=\"27\" style=\"fill:none;stroke:black;stroke-width:2\"/><image id=\"Robot Prediction Network_hidden_18\" class=\"Robot Prediction Network_hidden\" x=\"266.6666666666667\" y=\"345\" height=\"25\" width=\"200\" preserveAspectRatio=\"none\" href=\"data:image/gif;base64,R0lGODdhMgABAIcAAP7+/QAAAAAAAAAAAAAAAAAAAAAAAAAAAAAAAAAAAAAAAAAAAAAAAAAAAAAAAAAAAAAAAAAAAAAAAAAAAAAAAAAAAAAAAAAAAAAAAAAAAAAAAAAAAAAAAAAAAAAAAAAAAAAAAAAAAAAAAAAAAAAAAAAAAAAAAAAAAAAAAAAAAAAAAAAAAAAAAAAAAAAAAAAAAAAAAAAAAAAAAAAAAAAAAAAAAAAAAAAAAAAAAAAAAAAAAAAAAAAAAAAAAAAAAAAAAAAAAAAAAAAAAAAAAAAAAAAAAAAAAAAAAAAAAAAAAAAAAAAAAAAAAAAAAAAAAAAAAAAAAAAAAAAAAAAAAAAAAAAAAAAAAAAAAAAAAAAAAAAAAAAAAAAAAAAAAAAAAAAAAAAAAAAAAAAAAAAAAAAAAAAAAAAAAAAAAAAAAAAAAAAAAAAAAAAAAAAAAAAAAAAAAAAAAAAAAAAAAAAAAAAAAAAAAAAAAAAAAAAAAAAAAAAAAAAAAAAAAAAAAAAAAAAAAAAAAAAAAAAAAAAAAAAAAAAAAAAAAAAAAAAAAAAAAAAAAAAAAAAAAAAAAAAAAAAAAAAAAAAAAAAAAAAAAAAAAAAAAAAAAAAAAAAAAAAAAAAAAAAAAAAAAAAAAAAAAAAAAAAAAAAAAAAAAAAAAAAAAAAAAAAAAAAAAAAAAAAAAAAAAAAAAAAAAAAAAAAAAAAAAAAAAAAAAAAAAAAAAAAAAAAAAAAAAAAAAAAAAAAAAAAAAAAAAAAAAAAAAAAAAAAAAAAAAAAAAAAAAAAAAAAAAAAAAAAAAAAAAAAAAAAAAAAAAAAAAAAAAAAAAAAAAAAAAAAAAAAAAAAAAAAAAAAAAAAAAAAAAAAAAAAAAAAAAAAAAAAAAAAAAAAAAAAAAAAAAAAAAAAAAAAAAAAAAAAAAAAAAAAAAAAAAAAAAAAAAAAAAAAAAAAAAAAAAAAAAAAAAAAAAAAAAAAAAAAAAAAAAAAAAAAAAAAAAAAAAAAAAAAAAAAAAAAAAAAAAAAAAAAAACwAAAAAMgABAAAIDgABCBxIsKDBgwgTFgwIADs=\"><title>Layer: hidden (hidden)\n shape = (50,)\n Keras class = Dense\n activation = relu</title></image><text x=\"471.6666666666667\" y=\"359.5\" font-family=\"monospace\" font-size=\"12\" text-anchor=\"start\" alignment-baseline=\"central\">hidden</text><line x1=\"733.3333333333334\" y1=\"344\" x2=\"733.3333333333334\" y2=\"317\" stroke=\"black\" stroke-width=\"2\" marker-end=\"url(#arrow)\"><title>Weights from conv to flatten</title></line><rect x=\"632.3333333333334\" y=\"344\" width=\"202\" height=\"137\" style=\"fill:none;stroke:black;stroke-width:2\"/><image id=\"Robot Prediction Network_conv_19\" class=\"Robot Prediction Network_conv\" x=\"633.3333333333334\" y=\"345\" height=\"135\" width=\"200\" preserveAspectRatio=\"none\" href=\"data:image/gif;base64,R0lGODdhPgAqAIcAAP7+/QAAAAAAAAAAAAAAAAAAAAAAAAAAAAAAAAAAAAAAAAAAAAAAAAAAAAAAAAAAAAAAAAAAAAAAAAAAAAAAAAAAAAAAAAAAAAAAAAAAAAAAAAAAAAAAAAAAAAAAAAAAAAAAAAAAAAAAAAAAAAAAAAAAAAAAAAAAAAAAAAAAAAAAAAAAAAAAAAAAAAAAAAAAAAAAAAAAAAAAAAAAAAAAAAAAAAAAAAAAAAAAAAAAAAAAAAAAAAAAAAAAAAAAAAAAAAAAAAAAAAAAAAAAAAAAAAAAAAAAAAAAAAAAAAAAAAAAAAAAAAAAAAAAAAAAAAAAAAAAAAAAAAAAAAAAAAAAAAAAAAAAAAAAAAAAAAAAAAAAAAAAAAAAAAAAAAAAAAAAAAAAAAAAAAAAAAAAAAAAAAAAAAAAAAAAAAAAAAAAAAAAAAAAAAAAAAAAAAAAAAAAAAAAAAAAAAAAAAAAAAAAAAAAAAAAAAAAAAAAAAAAAAAAAAAAAAAAAAAAAAAAAAAAAAAAAAAAAAAAAAAAAAAAAAAAAAAAAAAAAAAAAAAAAAAAAAAAAAAAAAAAAAAAAAAAAAAAAAAAAAAAAAAAAAAAAAAAAAAAAAAAAAAAAAAAAAAAAAAAAAAAAAAAAAAAAAAAAAAAAAAAAAAAAAAAAAAAAAAAAAAAAAAAAAAAAAAAAAAAAAAAAAAAAAAAAAAAAAAAAAAAAAAAAAAAAAAAAAAAAAAAAAAAAAAAAAAAAAAAAAAAAAAAAAAAAAAAAAAAAAAAAAAAAAAAAAAAAAAAAAAAAAAAAAAAAAAAAAAAAAAAAAAAAAAAAAAAAAAAAAAAAAAAAAAAAAAAAAAAAAAAAAAAAAAAAAAAAAAAAAAAAAAAAAAAAAAAAAAAAAAAAAAAAAAAAAAAAAAAAAAAAAAAAAAAAAAAAAAAAAAAAAAAAAAAAAAAAAAAAAAAAAAAAAAAAAAAAAAAAAAAAAAAAAAAAAAAAAAAAAAAAAAAAAAAAAAAAAAAAAAAAAAAAAAAAAAAAAAAACwAAAAAPgAqAEAIVAABCBxIsKDBgwgTKlzIsKHDhxAjSpxIsaLFixgzatzIsaPHjyBDihxJsqTJkyhTqlzJsqXLlzBjypxJs6bNmzhz6tzJs6fPn0CDCh1KtKjRozADAgA7\"><title>Layer: conv (hidden)\n Keras class = Conv2DTranspose</title></image><text x=\"838.3333333333334\" y=\"414.5\" font-family=\"monospace\" font-size=\"12\" text-anchor=\"start\" alignment-baseline=\"central\">conv</text><line x1=\"275.0\" y1=\"509\" x2=\"366.6666666666667\" y2=\"372\" stroke=\"black\" stroke-width=\"2\" marker-end=\"url(#arrow)\"><title>Weights from light to hidden\n hidden/kernel has shape (18, 50)\n hidden/bias has shape (50,)</title></line><rect x=\"224.0\" y=\"509\" width=\"102\" height=\"52\" style=\"fill:none;stroke:black;stroke-width:2\"/><image id=\"Robot Prediction Network_light_20\" class=\"Robot Prediction Network_light\" x=\"225.0\" y=\"510\" height=\"50\" width=\"100\" preserveAspectRatio=\"none\" href=\"data:image/gif;base64,R0lGODdhAgABAIcAAP7+/QAAAAAAAAAAAAAAAAAAAAAAAAAAAAAAAAAAAAAAAAAAAAAAAAAAAAAAAAAAAAAAAAAAAAAAAAAAAAAAAAAAAAAAAAAAAAAAAAAAAAAAAAAAAAAAAAAAAAAAAAAAAAAAAAAAAAAAAAAAAAAAAAAAAAAAAAAAAAAAAAAAAAAAAAAAAAAAAAAAAAAAAAAAAAAAAAAAAAAAAAAAAAAAAAAAAAAAAAAAAAAAAAAAAAAAAAAAAAAAAAAAAAAAAAAAAAAAAAAAAAAAAAAAAAAAAAAAAAAAAAAAAAAAAAAAAAAAAAAAAAAAAAAAAAAAAAAAAAAAAAAAAAAAAAAAAAAAAAAAAAAAAAAAAAAAAAAAAAAAAAAAAAAAAAAAAAAAAAAAAAAAAAAAAAAAAAAAAAAAAAAAAAAAAAAAAAAAAAAAAAAAAAAAAAAAAAAAAAAAAAAAAAAAAAAAAAAAAAAAAAAAAAAAAAAAAAAAAAAAAAAAAAAAAAAAAAAAAAAAAAAAAAAAAAAAAAAAAAAAAAAAAAAAAAAAAAAAAAAAAAAAAAAAAAAAAAAAAAAAAAAAAAAAAAAAAAAAAAAAAAAAAAAAAAAAAAAAAAAAAAAAAAAAAAAAAAAAAAAAAAAAAAAAAAAAAAAAAAAAAAAAAAAAAAAAAAAAAAAAAAAAAAAAAAAAAAAAAAAAAAAAAAAAAAAAAAAAAAAAAAAAAAAAAAAAAAAAAAAAAAAAAAAAAAAAAAAAAAAAAAAAAAAAAAAAAAAAAAAAAAAAAAAAAAAAAAAAAAAAAAAAAAAAAAAAAAAAAAAAAAAAAAAAAAAAAAAAAAAAAAAAAAAAAAAAAAAAAAAAAAAAAAAAAAAAAAAAAAAAAAAAAAAAAAAAAAAAAAAAAAAAAAAAAAAAAAAAAAAAAAAAAAAAAAAAAAAAAAAAAAAAAAAAAAAAAAAAAAAAAAAAAAAAAAAAAAAAAAAAAAAAAAAAAAAAAAAAAAAAAAAAAAAAAAAAAAAAAAAAAAAAAAAAAAAAAAAAAAAAACwAAAAAAgABAAAIBQABAAgIADs=\"><title>Layer: light (input)\n shape = (2,)\n Keras class = Input</title></image><text x=\"330.0\" y=\"537.0\" font-family=\"monospace\" font-size=\"12\" text-anchor=\"start\" alignment-baseline=\"central\">light</text><line x1=\"550.0\" y1=\"509\" x2=\"366.6666666666667\" y2=\"372\" stroke=\"black\" stroke-width=\"2\" marker-end=\"url(#arrow)\"><title>Weights from sonar to hidden\n hidden/kernel has shape (18, 50)\n hidden/bias has shape (50,)</title></line><rect x=\"449.0\" y=\"509\" width=\"202\" height=\"27\" style=\"fill:none;stroke:black;stroke-width:2\"/><image id=\"Robot Prediction Network_sonar_21\" class=\"Robot Prediction Network_sonar\" x=\"450.0\" y=\"510\" height=\"25\" width=\"200\" preserveAspectRatio=\"none\" href=\"data:image/gif;base64,R0lGODdhEAABAIcAAP7+/QAAAAAAAAAAAAAAAAAAAAAAAAAAAAAAAAAAAAAAAAAAAAAAAAAAAAAAAAAAAAAAAAAAAAAAAAAAAAAAAAAAAAAAAAAAAAAAAAAAAAAAAAAAAAAAAAAAAAAAAAAAAAAAAAAAAAAAAAAAAAAAAAAAAAAAAAAAAAAAAAAAAAAAAAAAAAAAAAAAAAAAAAAAAAAAAAAAAAAAAAAAAAAAAAAAAAAAAAAAAAAAAAAAAAAAAAAAAAAAAAAAAAAAAAAAAAAAAAAAAAAAAAAAAAAAAAAAAAAAAAAAAAAAAAAAAAAAAAAAAAAAAAAAAAAAAAAAAAAAAAAAAAAAAAAAAAAAAAAAAAAAAAAAAAAAAAAAAAAAAAAAAAAAAAAAAAAAAAAAAAAAAAAAAAAAAAAAAAAAAAAAAAAAAAAAAAAAAAAAAAAAAAAAAAAAAAAAAAAAAAAAAAAAAAAAAAAAAAAAAAAAAAAAAAAAAAAAAAAAAAAAAAAAAAAAAAAAAAAAAAAAAAAAAAAAAAAAAAAAAAAAAAAAAAAAAAAAAAAAAAAAAAAAAAAAAAAAAAAAAAAAAAAAAAAAAAAAAAAAAAAAAAAAAAAAAAAAAAAAAAAAAAAAAAAAAAAAAAAAAAAAAAAAAAAAAAAAAAAAAAAAAAAAAAAAAAAAAAAAAAAAAAAAAAAAAAAAAAAAAAAAAAAAAAAAAAAAAAAAAAAAAAAAAAAAAAAAAAAAAAAAAAAAAAAAAAAAAAAAAAAAAAAAAAAAAAAAAAAAAAAAAAAAAAAAAAAAAAAAAAAAAAAAAAAAAAAAAAAAAAAAAAAAAAAAAAAAAAAAAAAAAAAAAAAAAAAAAAAAAAAAAAAAAAAAAAAAAAAAAAAAAAAAAAAAAAAAAAAAAAAAAAAAAAAAAAAAAAAAAAAAAAAAAAAAAAAAAAAAAAAAAAAAAAAAAAAAAAAAAAAAAAAAAAAAAAAAAAAAAAAAAAAAAAAAAAAAAAAAAAAAAAAAAAAAAAAAAAAAAAAAAAAAAAAAAAAAAAAAACwAAAAAEAABAAAICQABCBxIsCCAgAA7\"><title>Layer: sonar (input)\n shape = (16,)\n Keras class = Input</title></image><text x=\"655.0\" y=\"524.5\" font-family=\"monospace\" font-size=\"12\" text-anchor=\"start\" alignment-baseline=\"central\">sonar</text><line x1=\"825.0\" y1=\"509\" x2=\"733.3333333333334\" y2=\"482\" stroke=\"black\" stroke-width=\"2\" marker-end=\"url(#arrow)\"><title>Weights from camera to conv\n conv/kernel has shape (3, 3, 16, 3)\n conv/bias has shape (16,)</title></line><rect x=\"724.0\" y=\"509\" width=\"202\" height=\"135\" style=\"fill:none;stroke:black;stroke-width:2\"/><image id=\"Robot Prediction Network_camera_22\" class=\"Robot Prediction Network_camera\" x=\"725.0\" y=\"510\" height=\"133\" width=\"200\" preserveAspectRatio=\"none\" href=\"data:image/gif;base64,R0lGODdhPAAoAIcAAAAAAAAAAAAAAAAAAAAAAAAAAAAAAAAAAAAAAAAAAAAAAAAAAAAAAAAAAAAAAAAAAAAAAAAAAAAAAAAAAAAAAAAAAAAAAAAAAAAAAAAAAAAAAAAAAAAAAAAAAAAAAAAAAAAAAAAAAAAAAAAAAAAAAAAAAAAAAAAAAAAAAAAAAAAAAAAAAAAAAAAAAAAAAAAAAAAAAAAAAAAAAAAAAAAAAAAAAAAAAAAAAAAAAAAAAAAAAAAAAAAAAAAAAAAAAAAAAAAAAAAAAAAAAAAAAAAAAAAAAAAAAAAAAAAAAAAAAAAAAAAAAAAAAAAAAAAAAAAAAAAAAAAAAAAAAAAAAAAAAAAAAAAAAAAAAAAAAAAAAAAAAAAAAAAAAAAAAAAAAAAAAAAAAAAAAAAAAAAAAAAAAAAAAAAAAAAAAAAAAAAAAAAAAAAAAAAAAAAAAAAAAAAAAAAAAAAAAAAAAAAAAAAAAAAAAAAAAAAAAAAAAAAAAAAAAAAAAAAAAAAAAAAAAAAAAAAAAAAAAAAAAAAAAAAAAAAAAAAAAAAAAAAAAAAAAAAAAAAAAAAAAAAAAAAAAAAAAAAAAAAAAAAAAAAAAAAAAAAAAAAAAAAAAAAAAAAAAAAAAAAAAAAAAAAAAAAAAAAAAAAAAAAAAAAAAAAAAAAAAAAAAAAAAAAAAAAAAAAAAAAAAAAAAAAAAAAAAAAAAAAAAAAAAAAAAAAAAAAAAAAAAAAAAAAAAAAAAAAAAAAAAAAAAAAAAAAAAAAAAAAAAAAAAAAAAAAAAAAAAAAAAAAAAAAAAAAAAAAAAAAAAAAAAAAAAAAAAAAAAAAAAAAAAAAAAAAAAAAAAAAAAAAAAAAAAAAAAAAAAAAAAAAAAAAAAAAAAAAAAAAAAAAAAAAAAAAAAAAAAAAAAAAAAAAAAAAAAAAAAAAAAAAAAAAAAAAAAAAAAAAAAAAAAAAAAAAAAAAAAAAAAAAAAAAAAAAAAAAAAAAAAAAAAAAAAAAAAAAAAAAAAAAAAAAAAAAAAAAAAAAAACwAAAAAPAAoAEAIUAABCBxIsKDBgwgTKlzIsKHDhxAjSpxIsaLFixgzatzIsaPHjyBDihxJsqTJkyhTqlzJsqXLlzBjypxJs6bNmzhz6tzJs6fPn0CDCh1K1GZAADs=\"><title>Layer: camera (input)\n shape = (40, 60, 3)\n Keras class = Input</title></image><text x=\"930.0\" y=\"578.5\" font-family=\"monospace\" font-size=\"12\" text-anchor=\"start\" alignment-baseline=\"central\">camera</text></svg>"
      }
     },
     "313e0dcb8c054723b384f5f89a3c3b2e": {
      "model_module": "jupyter-js-widgets",
      "model_module_version": "~2.1.4",
      "model_name": "LayoutModel",
      "state": {
       "_model_module_version": "~2.1.4",
       "_view_module_version": "~2.1.4",
       "height": "550px",
       "width": "100%"
      }
     },
     "316d9e2578234041b38212f26fb1e017": {
      "model_module": "jupyter-js-widgets",
      "model_module_version": "~2.1.4",
      "model_name": "ButtonModel",
      "state": {
       "_model_module_version": "~2.1.4",
       "_view_module_version": "~2.1.4",
       "icon": "backward",
       "layout": "IPY_MODEL_6b5b84f5203e4ab297e328bcf8aa9353",
       "style": "IPY_MODEL_67a55c050744463b811104e1a8810fe2"
      }
     },
     "31a6c88216da4a7fa1984d3ef2aeb07f": {
      "model_module": "jupyter-js-widgets",
      "model_module_version": "~2.1.4",
      "model_name": "LayoutModel",
      "state": {
       "_model_module_version": "~2.1.4",
       "_view_module_version": "~2.1.4"
      }
     },
     "328b5cd67d0a415c8a00f89b826dae82": {
      "model_module": "jupyter-js-widgets",
      "model_module_version": "~2.1.4",
      "model_name": "HTMLModel",
      "state": {
       "_model_module_version": "~2.1.4",
       "_view_module_version": "~2.1.4",
       "layout": "IPY_MODEL_5d49a8a2382041ab87279691bc629879",
       "value": "<svg baseProfile=\"full\" height=\"240\" version=\"1.1\" width=\"240\" xmlns=\"http://www.w3.org/2000/svg\" xmlns:ev=\"http://www.w3.org/2001/xml-events\" xmlns:xlink=\"http://www.w3.org/1999/xlink\"><defs /><rect fill=\"white\" height=\"240\" stroke=\"#000000\" stroke-width=\"1\" width=\"240\" x=\"0\" y=\"0\" /><rect fill=\"#eef3dd\" height=\"240.0\" stroke=\"#bebebe\" stroke-width=\"1\" width=\"240.0\" x=\"0.0\" y=\"0.0\" /><circle cx=\"120.0\" cy=\"195.0\" fill=\"#ffff00\" r=\"15.0\" stroke=\"#ffff00\" stroke-width=\"1\" /><line fill=\"#800080\" stroke=\"#add8e6\" stroke-width=\"1\" x1=\"199.29647346587737\" x2=\"0.0\" y1=\"111.37109959820461\" y2=\"118.34932799999999\" /><line fill=\"#800080\" stroke=\"#add8e6\" stroke-width=\"1\" x1=\"200.64858482032437\" x2=\"0.0\" y1=\"107.12118255369946\" y2=\"21.973026000000004\" /><line fill=\"#800080\" stroke=\"#add8e6\" stroke-width=\"1\" x1=\"202.98412783209295\" x2=\"108.20933355871675\" y1=\"105.23830209010676\" y2=\"0.0\" /><line fill=\"#800080\" stroke=\"#add8e6\" stroke-width=\"1\" x1=\"206.529433775271\" x2=\"174.84110042201567\" y1=\"103.61324646974592\" y2=\"0.0\" /><line fill=\"#800080\" stroke=\"#add8e6\" stroke-width=\"1\" x1=\"212.52575915041191\" x2=\"236.38811675880686\" y1=\"103.4032893421199\" y2=\"0.0\" /><line fill=\"#800080\" stroke=\"#add8e6\" stroke-width=\"1\" x1=\"216.176043657403\" x2=\"240.0\" y1=\"104.77639640932952\" y2=\"74.27725800000002\" /><line fill=\"#800080\" stroke=\"#add8e6\" stroke-width=\"1\" x1=\"218.63756094574717\" x2=\"240.0\" y1=\"106.49131117082139\" y2=\"95.60408999999999\" /><line fill=\"#800080\" stroke=\"#add8e6\" stroke-width=\"1\" x1=\"220.28361227887063\" x2=\"240.0\" y1=\"110.63624965151354\" y2=\"109.94589599999998\" /><line fill=\"#800080\" stroke=\"#add8e6\" stroke-width=\"1\" x1=\"220.70352653412263\" x2=\"240.0\" y1=\"122.62890040179542\" y2=\"121.95324600000001\" /><line fill=\"#800080\" stroke=\"#add8e6\" stroke-width=\"1\" x1=\"219.35141517967563\" x2=\"240.0\" y1=\"126.87881744630057\" y2=\"135.641346\" /><line fill=\"#800080\" stroke=\"#add8e6\" stroke-width=\"1\" x1=\"217.01587216790705\" x2=\"240.0\" y1=\"128.76169790989326\" y2=\"154.283364\" /><line fill=\"#800080\" stroke=\"#add8e6\" stroke-width=\"1\" x1=\"213.470566224729\" x2=\"240.0\" y1=\"130.3867535302541\" y2=\"217.131636\" /><line fill=\"#800080\" stroke=\"#add8e6\" stroke-width=\"1\" x1=\"207.47424084958809\" x2=\"182.22726449088904\" y1=\"130.59671065788012\" y2=\"240.0\" /><line fill=\"#800080\" stroke=\"#add8e6\" stroke-width=\"1\" x1=\"203.823956342597\" x2=\"117.29260723482744\" y1=\"129.2236035906705\" y2=\"240.0\" /><line fill=\"#800080\" stroke=\"#add8e6\" stroke-width=\"1\" x1=\"201.36243905425283\" x2=\"0.0\" y1=\"127.50868882917862\" y2=\"230.131668\" /><line fill=\"#800080\" stroke=\"#add8e6\" stroke-width=\"1\" x1=\"199.71638772112937\" x2=\"0.0\" y1=\"123.36375034848649\" y2=\"130.356678\" /><line fill=\"#800080\" stroke=\"#a020f0\" stroke-width=\"1\" x1=\"210.0\" x2=\"0.0\" y1=\"117.00000000000001\" y2=\"5.366183999999992\" /><line fill=\"#800080\" stroke=\"#a020f0\" stroke-width=\"1\" x1=\"210.0\" x2=\"240.0\" y1=\"117.00000000000001\" y2=\"98.250024\" /><line fill=\"#800080\" stroke=\"#ffa500\" stroke-width=\"1\" x1=\"120.0\" x2=\"199.03402705634483\" y1=\"195.0\" y2=\"103.87569287927845\" /><line fill=\"#800080\" stroke=\"#ffa500\" stroke-width=\"1\" x1=\"120.0\" x2=\"220.02116586933806\" y1=\"195.0\" y2=\"103.14084293258738\" /><polygon fill=\"red\" points=\"204.7305361627287,103.67623360803373 199.19149490206433,108.37293691063414 199.82136628494237,126.36191303605695 205.67534323704578,130.65969779616793 215.2694638372713,130.3237663919663 220.80850509793567,125.62706308936588 220.17863371505763,107.63808696394308 214.32465676295422,103.3403022038321\" stroke=\"red\" stroke-width=\"1\" /><polygon points=\"-3.0,-3.0 0,0 3.0,-3.0 0,3.0\" stroke=\"black\" stroke-width=\"1\" transform=\"translate(210.0,117.00000000000001) rotate(177.9946477170421)\" /><polygon fill=\"black\" points=\"213.30385524640815,108.4791701982271 213.47182094850893,113.27623049833983 206.2762304983398,113.52817905149107 206.108264796239,108.73111875137835\" stroke=\"black\" stroke-width=\"1\" /><circle cx=\"199.03402705634483\" cy=\"103.87569287927845\" fill=\"yellow\" r=\"1.5\" stroke=\"orange\" stroke-width=\"1\" /><circle cx=\"220.02116586933806\" cy=\"103.14084293258738\" fill=\"yellow\" r=\"1.5\" stroke=\"orange\" stroke-width=\"1\" /></svg>"
      }
     },
     "3292adebdaae4f0d819576af50d70585": {
      "model_module": "jupyter-js-widgets",
      "model_module_version": "~2.1.4",
      "model_name": "LayoutModel",
      "state": {
       "_model_module_version": "~2.1.4",
       "_view_module_version": "~2.1.4",
       "width": "100%"
      }
     },
     "32b84ac4c0c54f9bb99b7b8ed445d491": {
      "model_module": "jupyter-js-widgets",
      "model_module_version": "~2.1.4",
      "model_name": "ButtonModel",
      "state": {
       "_model_module_version": "~2.1.4",
       "_view_module_version": "~2.1.4",
       "icon": "backward",
       "layout": "IPY_MODEL_766e06552e8e4ee78b850cc1cb9c9c95",
       "style": "IPY_MODEL_8a8295d04c714cea8d1039feac03958f"
      }
     },
     "32e3fb1ea809476b8d75f0cb212656f6": {
      "model_module": "jupyter-js-widgets",
      "model_module_version": "~2.1.4",
      "model_name": "HBoxModel",
      "state": {
       "_model_module_version": "~2.1.4",
       "_view_module_version": "~2.1.4",
       "children": [
        "IPY_MODEL_77ed66ecbd1447fcbe92423805e770f0",
        "IPY_MODEL_25dd217a044e4c17b057e22fb30c8640"
       ],
       "layout": "IPY_MODEL_071014bf53f04d3db6dfef0b2faaf5b4"
      }
     },
     "3352430028234430b63941e50a1f4de9": {
      "model_module": "jupyter-js-widgets",
      "model_module_version": "~2.1.4",
      "model_name": "PlayModel",
      "state": {
       "_model_module_version": "~2.1.4",
       "_view_module_version": "~2.1.4",
       "layout": "IPY_MODEL_c0ae75b44ae7435aa9178cfe2a209036",
       "max": 1000000
      }
     },
     "335b54cb71694cd8bfa654f12dafad4e": {
      "model_module": "jupyter-js-widgets",
      "model_module_version": "~2.1.4",
      "model_name": "LayoutModel",
      "state": {
       "_model_module_version": "~2.1.4",
       "_view_module_version": "~2.1.4"
      }
     },
     "337968cdfadf4492b1f03e2d7916acb9": {
      "model_module": "jupyter-js-widgets",
      "model_module_version": "~2.1.4",
      "model_name": "LayoutModel",
      "state": {
       "_model_module_version": "~2.1.4",
       "_view_module_version": "~2.1.4",
       "height": "550px",
       "width": "100%"
      }
     },
     "3417f9912b7446138ed65b12dccfd2c1": {
      "model_module": "jupyter-js-widgets",
      "model_module_version": "~2.1.4",
      "model_name": "LayoutModel",
      "state": {
       "_model_module_version": "~2.1.4",
       "_view_module_version": "~2.1.4"
      }
     },
     "357940d3295e4de5a0cae8b57db50e55": {
      "model_module": "jupyter-js-widgets",
      "model_module_version": "~2.1.4",
      "model_name": "LayoutModel",
      "state": {
       "_model_module_version": "~2.1.4",
       "_view_module_version": "~2.1.4"
      }
     },
     "35d72edb635f4c7685c8df9316bf60f8": {
      "model_module": "jupyter-js-widgets",
      "model_module_version": "~2.1.4",
      "model_name": "LayoutModel",
      "state": {
       "_model_module_version": "~2.1.4",
       "_view_module_version": "~2.1.4"
      }
     },
     "35da98dc05f948cf9dd96ec7b0f75772": {
      "model_module": "jupyter-js-widgets",
      "model_module_version": "~2.1.4",
      "model_name": "LayoutModel",
      "state": {
       "_model_module_version": "~2.1.4",
       "_view_module_version": "~2.1.4",
       "height": "20px",
       "padding": "0px 0px 0px 0px",
       "width": "248px"
      }
     },
     "35e54109dc1f41de895f3a87a08c8b75": {
      "model_module": "jupyter-js-widgets",
      "model_module_version": "~2.1.4",
      "model_name": "ButtonStyleModel",
      "state": {
       "_model_module_version": "~2.1.4",
       "_view_module_version": "~2.1.4"
      }
     },
     "381443efe142471d8a273bb24c3285ac": {
      "model_module": "jupyter-js-widgets",
      "model_module_version": "~2.1.4",
      "model_name": "PlayModel",
      "state": {
       "_model_module_version": "~2.1.4",
       "_view_module_version": "~2.1.4",
       "layout": "IPY_MODEL_d90a646fa8d64c0db1b948ea9b7fb1d2",
       "max": 1000000
      }
     },
     "388dc913ba514387a5b21a79832340f5": {
      "model_module": "jupyter-js-widgets",
      "model_module_version": "~2.1.4",
      "model_name": "ButtonStyleModel",
      "state": {
       "_model_module_version": "~2.1.4",
       "_view_module_version": "~2.1.4"
      }
     },
     "3967e8ade0ba476cb219881734b6c4cf": {
      "model_module": "jupyter-js-widgets",
      "model_module_version": "~2.1.4",
      "model_name": "LayoutModel",
      "state": {
       "_model_module_version": "~2.1.4",
       "_view_module_version": "~2.1.4",
       "height": "550px",
       "width": "100%"
      }
     },
     "39cd80f16f2743d2aa291ecf4c74dc3f": {
      "model_module": "jupyter-js-widgets",
      "model_module_version": "~2.1.4",
      "model_name": "LayoutModel",
      "state": {
       "_model_module_version": "~2.1.4",
       "_view_module_version": "~2.1.4",
       "height": "550px",
       "width": "100%"
      }
     },
     "39edbc67337c4a07b9025afaf229874e": {
      "model_module": "jupyter-js-widgets",
      "model_module_version": "~2.1.4",
      "model_name": "SelectModel",
      "state": {
       "_model_module_version": "~2.1.4",
       "_options_labels": [
        "Test",
        "Train"
       ],
       "_view_module_version": "~2.1.4",
       "description": "Dataset:",
       "layout": "IPY_MODEL_607fb0508f4b4409936ead1b96a6c061",
       "value": "Train"
      }
     },
     "3a7d770cb8cb497b9846f4fadfd47c31": {
      "model_module": "jupyter-js-widgets",
      "model_module_version": "~2.1.4",
      "model_name": "TextModel",
      "state": {
       "_model_module_version": "~2.1.4",
       "_view_module_version": "~2.1.4",
       "description": "Time:",
       "layout": "IPY_MODEL_56c414fe470b46549ebeb3bb1aa5408b",
       "value": "0.00 seconds"
      }
     },
     "3ac217b69bd44538bc750d7fdd9ee418": {
      "model_module": "jupyter-js-widgets",
      "model_module_version": "~2.1.4",
      "model_name": "LayoutModel",
      "state": {
       "_model_module_version": "~2.1.4",
       "_view_module_version": "~2.1.4",
       "width": "100%"
      }
     },
     "3ad98d6987c446db8af8acf1addedff3": {
      "model_module": "jupyter-js-widgets",
      "model_module_version": "~2.1.4",
      "model_name": "ButtonStyleModel",
      "state": {
       "_model_module_version": "~2.1.4",
       "_view_module_version": "~2.1.4"
      }
     },
     "3b3c689f592e461196e4d88dcb3e914a": {
      "model_module": "jupyter-js-widgets",
      "model_module_version": "~2.1.4",
      "model_name": "HTMLModel",
      "state": {
       "_model_module_version": "~2.1.4",
       "_view_module_version": "~2.1.4",
       "layout": "IPY_MODEL_f9634160bcf74901bdb9f10a0391253e",
       "value": "<svg baseProfile=\"full\" height=\"240\" version=\"1.1\" width=\"240\" xmlns=\"http://www.w3.org/2000/svg\" xmlns:ev=\"http://www.w3.org/2001/xml-events\" xmlns:xlink=\"http://www.w3.org/1999/xlink\"><defs /><rect fill=\"white\" height=\"240\" stroke=\"#000000\" stroke-width=\"1\" width=\"240\" x=\"0\" y=\"0\" /><rect fill=\"#eef3dd\" height=\"240.0\" stroke=\"#bebebe\" stroke-width=\"1\" width=\"240.0\" x=\"0.0\" y=\"0.0\" /><circle cx=\"120.0\" cy=\"195.0\" fill=\"#ffff00\" r=\"15.0\" stroke=\"#ffff00\" stroke-width=\"1\" /><line fill=\"#800080\" stroke=\"#add8e6\" stroke-width=\"1\" x1=\"196.12596879367595\" x2=\"240.0\" y1=\"110.45995010569834\" y2=\"238.05258000000006\" /><line fill=\"#800080\" stroke=\"#add8e6\" stroke-width=\"1\" x1=\"191.66646020079003\" x2=\"177.99095186157484\" y1=\"110.40719491660069\" y2=\"240.0\" /><line fill=\"#800080\" stroke=\"#add8e6\" stroke-width=\"1\" x1=\"189.18386680707127\" x2=\"110.22996139063017\" y1=\"108.72293542309498\" y2=\"240.0\" /><line fill=\"#800080\" stroke=\"#add8e6\" stroke-width=\"1\" x1=\"186.59476216890747\" x2=\"0.0\" y1=\"105.80633857528784\" y2=\"231.55267800000001\" /><line fill=\"#800080\" stroke=\"#add8e6\" stroke-width=\"1\" x1=\"184.64372413116428\" x2=\"0.0\" y1=\"100.13241131321624\" y2=\"112.966422\" /><line fill=\"#800080\" stroke=\"#add8e6\" stroke-width=\"1\" x1=\"184.89158312403626\" x2=\"0.0\" y1=\"96.24029544653749\" y2=\"25.178393999999997\" /><line fill=\"#800080\" stroke=\"#add8e6\" stroke-width=\"1\" x1=\"185.8133460875605\" x2=\"95.70748343756787\" y1=\"93.38541313038588\" y2=\"0.0\" /><line fill=\"#800080\" stroke=\"#add8e6\" stroke-width=\"1\" x1=\"189.2973356615748\" x2=\"158.14318285710866\" y1=\"90.60120468844775\" y2=\"0.0\" /><line fill=\"#800080\" stroke=\"#add8e6\" stroke-width=\"1\" x1=\"200.64519018571798\" x2=\"170.8328064534864\" y1=\"86.69912861296142\" y2=\"0.0\" /><line fill=\"#800080\" stroke=\"#add8e6\" stroke-width=\"1\" x1=\"205.1046987786039\" x2=\"214.25934169911562\" y1=\"86.75188380205907\" y2=\"0.0\" /><line fill=\"#800080\" stroke=\"#add8e6\" stroke-width=\"1\" x1=\"207.58729217232263\" x2=\"240.0\" y1=\"88.43614329556476\" y2=\"34.543362\" /><line fill=\"#800080\" stroke=\"#add8e6\" stroke-width=\"1\" x1=\"210.17639681048644\" x2=\"240.0\" y1=\"91.3527401433719\" y2=\"71.25459599999999\" /><line fill=\"#800080\" stroke=\"#add8e6\" stroke-width=\"1\" x1=\"212.12743484822963\" x2=\"240.0\" y1=\"97.0266674054435\" y2=\"95.08933199999998\" /><line fill=\"#800080\" stroke=\"#add8e6\" stroke-width=\"1\" x1=\"211.87957585535764\" x2=\"240.0\" y1=\"100.91878327212227\" y2=\"111.72668399999999\" /><line fill=\"#800080\" stroke=\"#add8e6\" stroke-width=\"1\" x1=\"210.95781289183344\" x2=\"240.0\" y1=\"103.77366558827387\" y2=\"133.87289400000003\" /><line fill=\"#800080\" stroke=\"#add8e6\" stroke-width=\"1\" x1=\"207.47382331781913\" x2=\"240.0\" y1=\"106.55787403021199\" y2=\"201.14913599999997\" /><line fill=\"#800080\" stroke=\"#a020f0\" stroke-width=\"1\" x1=\"198.38557948969697\" x2=\"170.83488950772212\" y1=\"98.57953935932987\" y2=\"240.0\" /><line fill=\"#800080\" stroke=\"#a020f0\" stroke-width=\"1\" x1=\"198.38557948969697\" x2=\"85.07845847805687\" y1=\"98.57953935932987\" y2=\"0.0\" /><line fill=\"#800080\" stroke=\"#ffa500\" stroke-width=\"1\" x1=\"120.0\" x2=\"189.03355971608644\" y1=\"195.0\" y2=\"112.89874765287732\" /><line fill=\"#800080\" stroke=\"#ffa500\" stroke-width=\"1\" x1=\"120.0\" x2=\"182.20492658398533\" y1=\"195.0\" y2=\"93.04000223562676\" /><polygon fill=\"red\" points=\"187.1800735802304,107.5085167539093 193.2890051626401,111.43546912456992 210.3107869488549,105.58235501134038 212.71274625955257,98.72884558406498 209.5910853991635,89.65056196475044 203.4821538167538,85.72360959408984 186.460372030539,91.57672370731936 184.05841271984133,98.43023313459477\" stroke=\"red\" stroke-width=\"1\" /><polygon points=\"-3.0,-3.0 0,0 3.0,-3.0 0,3.0\" stroke=\"black\" stroke-width=\"1\" transform=\"translate(198.38557948969697,98.57953935932987) rotate(71.02394315112642)\" /><polygon fill=\"black\" points=\"189.27145850015083,97.90663625492735 193.81060030980808,96.3458058247328 196.1518459550999,103.15451853921874 191.61270414544262,104.71534896941328\" stroke=\"black\" stroke-width=\"1\" /><circle cx=\"189.03355971608644\" cy=\"112.89874765287732\" fill=\"yellow\" r=\"1.5\" stroke=\"orange\" stroke-width=\"1\" /><circle cx=\"182.20492658398533\" cy=\"93.04000223562676\" fill=\"yellow\" r=\"1.5\" stroke=\"orange\" stroke-width=\"1\" /></svg>"
      }
     },
     "3b6046ce5c3c499983ae5e9e56dff267": {
      "model_module": "jupyter-js-widgets",
      "model_module_version": "~2.1.4",
      "model_name": "LayoutModel",
      "state": {
       "_model_module_version": "~2.1.4",
       "_view_module_version": "~2.1.4",
       "height": "248px",
       "padding": "0px 0px 0px 0px",
       "width": "10px"
      }
     },
     "3ba79bb1c74646f0946374eea99d7616": {
      "model_module": "jupyter-js-widgets",
      "model_module_version": "~2.1.4",
      "model_name": "LayoutModel",
      "state": {
       "_model_module_version": "~2.1.4",
       "_view_module_version": "~2.1.4",
       "width": "100%"
      }
     },
     "3bd30d4fe57347f597f95b036cdd81b6": {
      "model_module": "jupyter-js-widgets",
      "model_module_version": "~2.1.4",
      "model_name": "FloatSliderModel",
      "state": {
       "_model_module_version": "~2.1.4",
       "_view_module_version": "~2.1.4",
       "layout": "IPY_MODEL_185ce6f838d24b148e100ef0d1b834f4",
       "readout": false,
       "step": 0.1,
       "value": 99.44295769917836
      }
     },
     "3be1d609940847a0adeed2d9f7502f12": {
      "model_module": "jupyter-js-widgets",
      "model_module_version": "~2.1.4",
      "model_name": "LayoutModel",
      "state": {
       "_model_module_version": "~2.1.4",
       "_view_module_version": "~2.1.4"
      }
     },
     "3bf75ee19e3844999aa26398606bbc2d": {
      "model_module": "jupyter-js-widgets",
      "model_module_version": "~2.1.4",
      "model_name": "ButtonStyleModel",
      "state": {
       "_model_module_version": "~2.1.4",
       "_view_module_version": "~2.1.4"
      }
     },
     "3bff5f328a9e41f9a58a3d2220ffbc1a": {
      "model_module": "jupyter-js-widgets",
      "model_module_version": "~2.1.4",
      "model_name": "TextModel",
      "state": {
       "_model_module_version": "~2.1.4",
       "_view_module_version": "~2.1.4",
       "description": "Time:",
       "layout": "IPY_MODEL_a4761211293342fd80e9cd3ec32abfa7",
       "value": "0.10 seconds"
      }
     },
     "3c1b749206ce476286a4c95e2291ef7d": {
      "model_module": "jupyter-js-widgets",
      "model_module_version": "~2.1.4",
      "model_name": "ImageModel",
      "state": {
       "_b64value": "iVBORw0KGgoAAAANSUhEUgAAADwAAAAoCAIAAAAt2Q6oAAAA8UlEQVR4nO3WoQ7CMBCA4d5d++gYggJDwMwgEJshATHkEIRgUCCwkxiwZAhGMxq2bIRcaXKfWOb655b0BvExV6FB3wHfkGguEs1ForlINBeJ5qJ9B5TuhwzeKaWqz+qLt+jbNkVEIgIARLRBbXSOztPYDqBuEg2KokBEYwwRdT3a+hx9SiJ8sZOofji/yuhdNCQirTURPVv9ZjXTm8kAAIwxvks6+OuJ1pFoLhLNJchouFzPSql+b+rc0w3L5Vcb0Vnj7f89ymjHeDQPL7rBLFqGF/0riyQLL9qxXu3Di+4kyCtPorlINBeJ5iLRXIKMfgDJGDkVat0rzwAAAABJRU5ErkJggg==",
       "_model_module_version": "~2.1.4",
       "_view_module_version": "~2.1.4",
       "layout": "IPY_MODEL_c9a7197ccd5a49018ab4528788b2baba",
       "width": "240"
      }
     },
     "3c44ca29f8244aa59bd09dd1676eb3c4": {
      "model_module": "jupyter-js-widgets",
      "model_module_version": "~2.1.4",
      "model_name": "SliderStyleModel",
      "state": {
       "_model_module_version": "~2.1.4",
       "_view_module_version": "~2.1.4"
      }
     },
     "3d98b67d0ac24bcc8e3a97e4e69965e5": {
      "model_module": "jupyter-js-widgets",
      "model_module_version": "~2.1.4",
      "model_name": "ButtonStyleModel",
      "state": {
       "_model_module_version": "~2.1.4",
       "_view_module_version": "~2.1.4"
      }
     },
     "3dab8f9a8cb74ec6a65f74968dc53d92": {
      "model_module": "jupyter-js-widgets",
      "model_module_version": "~2.1.4",
      "model_name": "LayoutModel",
      "state": {
       "_model_module_version": "~2.1.4",
       "_view_module_version": "~2.1.4"
      }
     },
     "3ef68cd0b0284d91b2f849acea07175a": {
      "model_module": "jupyter-js-widgets",
      "model_module_version": "~2.1.4",
      "model_name": "VBoxModel",
      "state": {
       "_model_module_version": "~2.1.4",
       "_view_module_version": "~2.1.4",
       "children": [
        "IPY_MODEL_fe38063b52184a62bf557dc8ae2e6b78"
       ],
       "layout": "IPY_MODEL_a2bf889ccdff48a88edeb4f9791e0870"
      }
     },
     "3f990844e0b2458b9ad4197e5a750601": {
      "model_module": "jupyter-js-widgets",
      "model_module_version": "~2.1.4",
      "model_name": "IntSliderModel",
      "state": {
       "_model_module_version": "~2.1.4",
       "_view_module_version": "~2.1.4",
       "continuous_update": false,
       "description": "Dataset index",
       "layout": "IPY_MODEL_a13d2b1f62354e9cac70b1ff1eaa74ed",
       "max": 0,
       "style": "IPY_MODEL_137bb18d0de347bbaad53423b9ed15ef"
      }
     },
     "40f447e64c9749fda0f5fdf1ede6362d": {
      "model_module": "jupyter-js-widgets",
      "model_module_version": "~2.1.4",
      "model_name": "LayoutModel",
      "state": {
       "_model_module_version": "~2.1.4",
       "_view_module_version": "~2.1.4",
       "height": "550px",
       "width": "100%"
      }
     },
     "420caafe0ba8459d8587db1cfa85ed77": {
      "model_module": "jupyter-js-widgets",
      "model_module_version": "~2.1.4",
      "model_name": "VBoxModel",
      "state": {
       "_model_module_version": "~2.1.4",
       "_view_module_version": "~2.1.4",
       "children": [
        "IPY_MODEL_603af99e31ea43d2ba121f2a70566d85",
        "IPY_MODEL_23cd90bc32b94e3a835300532aeda556"
       ],
       "layout": "IPY_MODEL_2a7d4590e2484309ab0dcd1bac41a117"
      }
     },
     "421fa573e02b482e8d4d02231d82ba51": {
      "model_module": "jupyter-js-widgets",
      "model_module_version": "~2.1.4",
      "model_name": "FloatSliderModel",
      "state": {
       "_model_module_version": "~2.1.4",
       "_view_module_version": "~2.1.4",
       "layout": "IPY_MODEL_87d3dc9f1542400ab98fe43c11750307",
       "readout": false,
       "step": 0.1,
       "value": 30.56716600806977
      }
     },
     "42460dcab54b440ba2c79be13dcf3d2e": {
      "model_module": "jupyter-js-widgets",
      "model_module_version": "~2.1.4",
      "model_name": "ButtonStyleModel",
      "state": {
       "_model_module_version": "~2.1.4",
       "_view_module_version": "~2.1.4"
      }
     },
     "42a6471e1c4c4a78bf98dda1a207cca4": {
      "model_module": "jupyter-js-widgets",
      "model_module_version": "~2.1.4",
      "model_name": "ButtonModel",
      "state": {
       "_model_module_version": "~2.1.4",
       "_view_module_version": "~2.1.4",
       "icon": "fast-forward",
       "layout": "IPY_MODEL_ee393bc5018944169c204e816b708269",
       "style": "IPY_MODEL_35e54109dc1f41de895f3a87a08c8b75"
      }
     },
     "452312587d6c464eb43d82c277028ec2": {
      "model_module": "jupyter-js-widgets",
      "model_module_version": "~2.1.4",
      "model_name": "LayoutModel",
      "state": {
       "_model_module_version": "~2.1.4",
       "_view_module_version": "~2.1.4",
       "width": "100%"
      }
     },
     "464244a89c9148dca7b1e6841c254c30": {
      "model_module": "jupyter-js-widgets",
      "model_module_version": "~2.1.4",
      "model_name": "LayoutModel",
      "state": {
       "_model_module_version": "~2.1.4",
       "_view_module_version": "~2.1.4"
      }
     },
     "47e6c4dc1c34480f8f1634451c975620": {
      "model_module": "jupyter-js-widgets",
      "model_module_version": "~2.1.4",
      "model_name": "ImageModel",
      "state": {
       "_b64value": "iVBORw0KGgoAAAANSUhEUgAAADwAAAAoCAIAAAAt2Q6oAAABOElEQVR4nO2YsW7CMBCG/7tLNhbWrh36PrwOjPQNYGCsulVqeRNmQGJlhKHsYbCUhkCSEttnnZR/OsXO/Z+cs08OfW+PsCZODdBHA7SWTEJn7cOTt5emoZ9dsh3cCN2CW52QBP0BdCfu/WRl9HpNP0Xs+VZv3UD7eGty/0H7u6pxc1g/HW4O7qTAbbK5mISmooiSN/jJvV9/iAgzM3NHG++tzecSABERkQvc8zIAUFQWzMXFrQDkeZ5lmYiISDnZZHkM0FqKBT2fv0fKjHjQs9k0UmYM5aEnk9CxOuL5cgibcLX4KjsinX4P49FrWIPgxDWZLA+z0GG/ZuzaQLnSoZwUiFEtD38/HWLUatrHVY0Y9xuxn7cmMR7+FnME/zy8lXGdGq9bnehJcJ067ogJyVpktrmYk0noKwb9aabHjJJ9AAAAAElFTkSuQmCC",
       "_model_module_version": "~2.1.4",
       "_view_module_version": "~2.1.4",
       "layout": "IPY_MODEL_b68469e8ad5d4d1e9ffca88d5c805d63",
       "width": "240"
      }
     },
     "4923cd1058884bdf9a6962d12e8c3c9d": {
      "model_module": "jupyter-js-widgets",
      "model_module_version": "~2.1.4",
      "model_name": "LayoutModel",
      "state": {
       "_model_module_version": "~2.1.4",
       "_view_module_version": "~2.1.4",
       "height": "20px",
       "padding": "0px 0px 0px 0px",
       "width": "248px"
      }
     },
     "4949aabd002e4ec2bd62f0b3ed4ab87e": {
      "model_module": "jupyter-js-widgets",
      "model_module_version": "~2.1.4",
      "model_name": "LayoutModel",
      "state": {
       "_model_module_version": "~2.1.4",
       "_view_module_version": "~2.1.4"
      }
     },
     "4a9b3b81438c4eedb34ad8ae4b8edb6a": {
      "model_module": "jupyter-js-widgets",
      "model_module_version": "~2.1.4",
      "model_name": "HBoxModel",
      "state": {
       "_model_module_version": "~2.1.4",
       "_view_module_version": "~2.1.4",
       "children": [
        "IPY_MODEL_420caafe0ba8459d8587db1cfa85ed77",
        "IPY_MODEL_de7f05fa0e084ff280ff0be3360b6a54"
       ],
       "layout": "IPY_MODEL_1c7fe11b558643f1a4b19bb5282206e0"
      }
     },
     "4bdc1b0150df4b7699b364617ebc5690": {
      "model_module": "jupyter-js-widgets",
      "model_module_version": "~2.1.4",
      "model_name": "LayoutModel",
      "state": {
       "_model_module_version": "~2.1.4",
       "_view_module_version": "~2.1.4"
      }
     },
     "4c0f993d10c3429cb51747622df8022d": {
      "model_module": "jupyter-js-widgets",
      "model_module_version": "~2.1.4",
      "model_name": "LayoutModel",
      "state": {
       "_model_module_version": "~2.1.4",
       "_view_module_version": "~2.1.4",
       "height": "550px",
       "width": "100%"
      }
     },
     "4d1e53a82aae4eacaaa31fe668bed299": {
      "model_module": "jupyter-js-widgets",
      "model_module_version": "~2.1.4",
      "model_name": "LayoutModel",
      "state": {
       "_model_module_version": "~2.1.4",
       "_view_module_version": "~2.1.4",
       "width": "100%"
      }
     },
     "4d55c03476344d4a9c8258e5b33ab84f": {
      "model_module": "jupyter-js-widgets",
      "model_module_version": "~2.1.4",
      "model_name": "ButtonStyleModel",
      "state": {
       "_model_module_version": "~2.1.4",
       "_view_module_version": "~2.1.4"
      }
     },
     "4e90dbb828be43178f79c5fd3a2e187b": {
      "model_module": "jupyter-js-widgets",
      "model_module_version": "~2.1.4",
      "model_name": "ButtonModel",
      "state": {
       "_model_module_version": "~2.1.4",
       "_view_module_version": "~2.1.4",
       "icon": "fast-forward",
       "layout": "IPY_MODEL_0866d4fc2c3941d0833dac1161dc4673",
       "style": "IPY_MODEL_f3693907f54a443eb92baccc99cc18d3"
      }
     },
     "4e9568fae1404547a558115800e9fa69": {
      "model_module": "jupyter-js-widgets",
      "model_module_version": "~2.1.4",
      "model_name": "HBoxModel",
      "state": {
       "_model_module_version": "~2.1.4",
       "_view_module_version": "~2.1.4",
       "children": [
        "IPY_MODEL_c44024d598424e20a29da7ef212e6e20",
        "IPY_MODEL_5fb6fb6be925415e9eb787d96f5358b9",
        "IPY_MODEL_fac338f95db74603af7a8d16a207afa7"
       ],
       "layout": "IPY_MODEL_6105770f79bd4fa7b9053466408b7f52"
      }
     },
     "4e9648bf9ffb45de8e1b8b8432b1f225": {
      "model_module": "jupyter-js-widgets",
      "model_module_version": "~2.1.4",
      "model_name": "SliderStyleModel",
      "state": {
       "_model_module_version": "~2.1.4",
       "_view_module_version": "~2.1.4"
      }
     },
     "4ebf3a03f4614654adc98c7360a9113b": {
      "model_module": "jupyter-js-widgets",
      "model_module_version": "~2.1.4",
      "model_name": "LayoutModel",
      "state": {
       "_model_module_version": "~2.1.4",
       "_view_module_version": "~2.1.4",
       "height": "30px",
       "padding": "0px 0px 0px 10px",
       "width": "260px"
      }
     },
     "4f0a27afb5244d7eb8a4f0a204629c48": {
      "model_module": "jupyter-js-widgets",
      "model_module_version": "~2.1.4",
      "model_name": "ButtonModel",
      "state": {
       "_model_module_version": "~2.1.4",
       "_view_module_version": "~2.1.4",
       "description": "Turn on webcamera",
       "layout": "IPY_MODEL_758e670a5a4e4977b531170182809e91",
       "style": "IPY_MODEL_30c997e8cafd41c295a9cb3ec64cecb0"
      }
     },
     "4f3d767445e64e4fa1a49e39fa9a50b5": {
      "model_module": "jupyter-js-widgets",
      "model_module_version": "~2.1.4",
      "model_name": "VBoxModel",
      "state": {
       "_model_module_version": "~2.1.4",
       "_view_module_version": "~2.1.4",
       "children": [
        "IPY_MODEL_ccf27890a599495084f20ecfc2198b81",
        "IPY_MODEL_ab04b36496fa43379b9d544da788e24a",
        "IPY_MODEL_efd5e8e2c3614d47a0e3cdedec2c754e"
       ],
       "layout": "IPY_MODEL_05f953e56e3e4cd0ac40b478cad396d9"
      }
     },
     "4faf6f5af58c45e3b36520a33a2132b7": {
      "model_module": "jupyter-js-widgets",
      "model_module_version": "~2.1.4",
      "model_name": "OutputModel",
      "state": {
       "_dom_classes": [],
       "_model_module": "jupyter-js-widgets",
       "_model_module_version": "~2.1.4",
       "_view_module": "jupyter-js-widgets",
       "_view_module_version": "~2.1.4",
       "layout": "IPY_MODEL_8ac27b84572d47c4a326fdd6e44bd1fa",
       "msg_throttle": 1
      }
     },
     "502219e2f2f34e14a40eed0ea5bd79a9": {
      "model_module": "jupyter-js-widgets",
      "model_module_version": "~2.1.4",
      "model_name": "LayoutModel",
      "state": {
       "_model_module_version": "~2.1.4",
       "_view_module_version": "~2.1.4"
      }
     },
     "502f8863a43d447a97a59de9d2ab2930": {
      "model_module": "jupyter-js-widgets",
      "model_module_version": "~2.1.4",
      "model_name": "ButtonModel",
      "state": {
       "_model_module_version": "~2.1.4",
       "_view_module_version": "~2.1.4",
       "icon": "step-forward",
       "layout": "IPY_MODEL_a944a9a76d3647de9518665fe97cb2cf",
       "style": "IPY_MODEL_3ad98d6987c446db8af8acf1addedff3"
      }
     },
     "50a1d4a7e34e42c196bc77de462d5b1e": {
      "model_module": "jupyter-js-widgets",
      "model_module_version": "~2.1.4",
      "model_name": "LayoutModel",
      "state": {
       "_model_module_version": "~2.1.4",
       "_view_module_version": "~2.1.4"
      }
     },
     "513ec34f7b794465a2f7f30b2cd60bd7": {
      "model_module": "jupyter-js-widgets",
      "model_module_version": "~2.1.4",
      "model_name": "LayoutModel",
      "state": {
       "_model_module_version": "~2.1.4",
       "_view_module_version": "~2.1.4"
      }
     },
     "5166d92fd58d44779bd679e049e87bc8": {
      "model_module": "jupyter-js-widgets",
      "model_module_version": "~2.1.4",
      "model_name": "LayoutModel",
      "state": {
       "_model_module_version": "~2.1.4",
       "_view_module_version": "~2.1.4"
      }
     },
     "516c77a9093c4271a4f20b64acbef76d": {
      "model_module": "jupyter-js-widgets",
      "model_module_version": "~2.1.4",
      "model_name": "IntSliderModel",
      "state": {
       "_model_module_version": "~2.1.4",
       "_view_module_version": "~2.1.4",
       "continuous_update": false,
       "description": "Dataset index",
       "layout": "IPY_MODEL_11999d76914a4df58cb59b46dc1ac1a7",
       "max": 0,
       "style": "IPY_MODEL_4e9648bf9ffb45de8e1b8b8432b1f225"
      }
     },
     "51b175444e234e65981509908e097005": {
      "model_module": "jupyter-js-widgets",
      "model_module_version": "~2.1.4",
      "model_name": "LayoutModel",
      "state": {
       "_model_module_version": "~2.1.4",
       "_view_module_version": "~2.1.4"
      }
     },
     "521ae11eaac54b3d99ba0f8d56ae626f": {
      "model_module": "jupyter-js-widgets",
      "model_module_version": "~2.1.4",
      "model_name": "HBoxModel",
      "state": {
       "_model_module_version": "~2.1.4",
       "_view_module_version": "~2.1.4",
       "children": [
        "IPY_MODEL_fe15fdcb082e4d53bb6dd62f02b40712",
        "IPY_MODEL_5a61234271704a01ae85bd4e8fb4122b"
       ],
       "layout": "IPY_MODEL_5e0ec4eadc014690aab991e1a959b827"
      }
     },
     "5258841c681142e6a54fa942962ed30e": {
      "model_module": "jupyter-js-widgets",
      "model_module_version": "~2.1.4",
      "model_name": "HTMLModel",
      "state": {
       "_model_module_version": "~2.1.4",
       "_view_module_version": "~2.1.4",
       "layout": "IPY_MODEL_6a1d66147717439f94170709845fc092",
       "value": "<svg baseProfile=\"full\" height=\"240\" version=\"1.1\" width=\"240\" xmlns=\"http://www.w3.org/2000/svg\" xmlns:ev=\"http://www.w3.org/2001/xml-events\" xmlns:xlink=\"http://www.w3.org/1999/xlink\"><defs /><rect fill=\"white\" height=\"240\" stroke=\"#000000\" stroke-width=\"1\" width=\"240\" x=\"0\" y=\"0\" /><rect fill=\"#eef3dd\" height=\"240.0\" stroke=\"#bebebe\" stroke-width=\"1\" width=\"240.0\" x=\"0.0\" y=\"0.0\" /><circle cx=\"120.0\" cy=\"195.0\" fill=\"#ffff00\" r=\"15.0\" stroke=\"#ffff00\" stroke-width=\"1\" /><line fill=\"#800080\" stroke=\"#add8e6\" stroke-width=\"1\" x1=\"204.31983966974946\" x2=\"240.0\" y1=\"134.6715232264989\" y2=\"200.411634\" /><line fill=\"#800080\" stroke=\"#add8e6\" stroke-width=\"1\" x1=\"199.91295844610173\" x2=\"206.2961777149713\" y1=\"135.35664940514138\" y2=\"240.0\" /><line fill=\"#800080\" stroke=\"#add8e6\" stroke-width=\"1\" x1=\"197.18610949415148\" x2=\"155.45348235751734\" y1=\"134.105931693886\" y2=\"240.0\" /><line fill=\"#800080\" stroke=\"#add8e6\" stroke-width=\"1\" x1=\"194.15050948229592\" x2=\"79.94416734490667\" y1=\"131.6574357130801\" y2=\"240.0\" /><line fill=\"#800080\" stroke=\"#add8e6\" stroke-width=\"1\" x1=\"191.28841241268205\" x2=\"0.0\" y1=\"126.38406863273121\" y2=\"172.275534\" /><line fill=\"#800080\" stroke=\"#add8e6\" stroke-width=\"1\" x1=\"190.88949594100094\" x2=\"0.0\" y1=\"122.5045241171184\" y2=\"83.63535599999999\" /><line fill=\"#800080\" stroke=\"#add8e6\" stroke-width=\"1\" x1=\"191.32666723726004\" x2=\"29.837098064582\" y1=\"119.53654816409465\" y2=\"0.0\" /><line fill=\"#800080\" stroke=\"#add8e6\" stroke-width=\"1\" x1=\"194.3024999261008\" x2=\"131.22745889149522\" y1=\"116.2147384452777\" y2=\"0.0\" /><line fill=\"#800080\" stroke=\"#add8e6\" stroke-width=\"1\" x1=\"204.84923408679862\" x2=\"144.88097126720848\" y1=\"110.49054430604994\" y2=\"0.0\" /><line fill=\"#800080\" stroke=\"#add8e6\" stroke-width=\"1\" x1=\"209.25611531044635\" x2=\"202.55800854283524\" y1=\"109.80541812740742\" y2=\"0.0\" /><line fill=\"#800080\" stroke=\"#add8e6\" stroke-width=\"1\" x1=\"211.9829642623966\" x2=\"240.0\" y1=\"111.05613583866283\" y2=\"39.964572000000004\" /><line fill=\"#800080\" stroke=\"#add8e6\" stroke-width=\"1\" x1=\"215.01856427425216\" x2=\"240.0\" y1=\"113.50463181946868\" y2=\"89.80583399999999\" /><line fill=\"#800080\" stroke=\"#add8e6\" stroke-width=\"1\" x1=\"217.88066134386602\" x2=\"240.0\" y1=\"118.77799889981759\" y2=\"113.471412\" /><line fill=\"#800080\" stroke=\"#add8e6\" stroke-width=\"1\" x1=\"218.27957781554713\" x2=\"240.0\" y1=\"122.65754341543042\" y2=\"127.08028200000001\" /><line fill=\"#800080\" stroke=\"#add8e6\" stroke-width=\"1\" x1=\"217.84240651928803\" x2=\"240.0\" y1=\"125.62551936845416\" y2=\"142.02684\" /><line fill=\"#800080\" stroke=\"#add8e6\" stroke-width=\"1\" x1=\"214.86657383044724\" x2=\"240.0\" y1=\"128.9473290872711\" y2=\"175.25525399999998\" /><line fill=\"#800080\" stroke=\"#a020f0\" stroke-width=\"1\" x1=\"204.58453687827404\" x2=\"201.49075136087427\" y1=\"122.5810337662744\" y2=\"240.0\" /><line fill=\"#800080\" stroke=\"#a020f0\" stroke-width=\"1\" x1=\"204.58453687827404\" x2=\"4.6233132797410885\" y1=\"122.5810337662744\" y2=\"0.0\" /><line fill=\"#800080\" stroke=\"#ffa500\" stroke-width=\"1\" x1=\"120.0\" x2=\"197.7281308193133\" y1=\"195.0\" y2=\"138.24914456351624\" /><line fill=\"#800080\" stroke=\"#ffa500\" stroke-width=\"1\" x1=\"120.0\" x2=\"187.71079107566467\" y1=\"195.0\" y2=\"119.79235978229508\" /><polygon fill=\"red\" points=\"195.00913860318008,133.23944583718477 201.68315612957497,136.10257176130585 217.50325737062172,127.51628055246417 218.73929046475018,120.36000902392226 214.159935153368,111.92262169536401 207.4859176269731,109.059495771243 191.66581638592635,117.64578698008465 190.4297832917979,124.80205850862654\" stroke=\"red\" stroke-width=\"1\" /><polygon points=\"-3.0,-3.0 0,0 3.0,-3.0 0,3.0\" stroke=\"black\" stroke-width=\"1\" transform=\"translate(204.58453687827404,122.5810337662744) rotate(61.509295434084244)\" /><polygon fill=\"black\" points=\"195.4845647240172,123.4239494155245 199.70325838829635,121.13427175983338 203.13777487183305,127.46231225625208 198.9190812075539,129.7519899119432\" stroke=\"black\" stroke-width=\"1\" /><circle cx=\"197.7281308193133\" cy=\"138.24914456351624\" fill=\"yellow\" r=\"1.5\" stroke=\"orange\" stroke-width=\"1\" /><circle cx=\"187.71079107566467\" cy=\"119.79235978229508\" fill=\"yellow\" r=\"1.5\" stroke=\"orange\" stroke-width=\"1\" /></svg>"
      }
     },
     "52affcd0131f42f090b4e04b2c7e7055": {
      "model_module": "jupyter-js-widgets",
      "model_module_version": "~2.1.4",
      "model_name": "LayoutModel",
      "state": {
       "_model_module_version": "~2.1.4",
       "_view_module_version": "~2.1.4"
      }
     },
     "534b9d67622e4c33bb76ed00b6ffd651": {
      "model_module": "jupyter-js-widgets",
      "model_module_version": "~2.1.4",
      "model_name": "VBoxModel",
      "state": {
       "_model_module_version": "~2.1.4",
       "_view_module_version": "~2.1.4",
       "children": [
        "IPY_MODEL_0f5118c090cd4914b463915883bacd3b",
        "IPY_MODEL_3f990844e0b2458b9ad4197e5a750601",
        "IPY_MODEL_1f564a496c4e43c9a17c97bd891c6433"
       ],
       "layout": "IPY_MODEL_3ba79bb1c74646f0946374eea99d7616"
      }
     },
     "534db277335845a99642bc5620c0995a": {
      "model_module": "jupyter-js-widgets",
      "model_module_version": "~2.1.4",
      "model_name": "HBoxModel",
      "state": {
       "_model_module_version": "~2.1.4",
       "_view_module_version": "~2.1.4",
       "children": [
        "IPY_MODEL_69c5349488fe4fd5870085d0ef912d17",
        "IPY_MODEL_0586b3044986437f96711374a8f2f147",
        "IPY_MODEL_025b867050be4e829ead880de90b54c5"
       ],
       "layout": "IPY_MODEL_02fd93569bf146e4be1c3b43fd643068"
      }
     },
     "53936477098c42d390cb02fe09eb862d": {
      "model_module": "jupyter-js-widgets",
      "model_module_version": "~2.1.4",
      "model_name": "HBoxModel",
      "state": {
       "_model_module_version": "~2.1.4",
       "_view_module_version": "~2.1.4",
       "children": [
        "IPY_MODEL_79b66fd647504f72a9194c54c66bbcaf",
        "IPY_MODEL_32b84ac4c0c54f9bb99b7b8ed445d491",
        "IPY_MODEL_6134f22175a94317abc7ebd3edb72552",
        "IPY_MODEL_de8690eb469746d5a084db2c8c559f29",
        "IPY_MODEL_9b603ce4a6724572944f50196d0afcbf"
       ],
       "layout": "IPY_MODEL_452312587d6c464eb43d82c277028ec2"
      }
     },
     "56193feb2d24422483ca653fda29666f": {
      "model_module": "jupyter-js-widgets",
      "model_module_version": "~2.1.4",
      "model_name": "LayoutModel",
      "state": {
       "_model_module_version": "~2.1.4",
       "_view_module_version": "~2.1.4",
       "height": "550px",
       "width": "100%"
      }
     },
     "561fe4ded45a4faf9b5c42bc0fb7dfff": {
      "model_module": "jupyter-js-widgets",
      "model_module_version": "~2.1.4",
      "model_name": "LayoutModel",
      "state": {
       "_model_module_version": "~2.1.4",
       "_view_module_version": "~2.1.4",
       "height": "30px",
       "padding": "0px 0px 0px 10px",
       "width": "260px"
      }
     },
     "56a4b4863f334155a0ee81910420b5f5": {
      "model_module": "jupyter-js-widgets",
      "model_module_version": "~2.1.4",
      "model_name": "LayoutModel",
      "state": {
       "_model_module_version": "~2.1.4",
       "_view_module_version": "~2.1.4"
      }
     },
     "56c414fe470b46549ebeb3bb1aa5408b": {
      "model_module": "jupyter-js-widgets",
      "model_module_version": "~2.1.4",
      "model_name": "LayoutModel",
      "state": {
       "_model_module_version": "~2.1.4",
       "_view_module_version": "~2.1.4"
      }
     },
     "57b719ea308541c0a9c03c7a767beb0e": {
      "model_module": "jupyter-js-widgets",
      "model_module_version": "~2.1.4",
      "model_name": "LayoutModel",
      "state": {
       "_model_module_version": "~2.1.4",
       "_view_module_version": "~2.1.4"
      }
     },
     "589015694aba439a909bc5a786ba5e6b": {
      "model_module": "jupyter-js-widgets",
      "model_module_version": "~2.1.4",
      "model_name": "HTMLModel",
      "state": {
       "_model_module_version": "~2.1.4",
       "_view_module_version": "~2.1.4",
       "layout": "IPY_MODEL_249335753ef047ada781a08b1dd09fd6",
       "value": "<svg baseProfile=\"full\" height=\"240\" version=\"1.1\" width=\"240\" xmlns=\"http://www.w3.org/2000/svg\" xmlns:ev=\"http://www.w3.org/2001/xml-events\" xmlns:xlink=\"http://www.w3.org/1999/xlink\"><defs /><rect fill=\"white\" height=\"240\" stroke=\"#000000\" stroke-width=\"1\" width=\"240\" x=\"0\" y=\"0\" /><rect fill=\"#eef3dd\" height=\"240.0\" stroke=\"#bebebe\" stroke-width=\"1\" width=\"240.0\" x=\"0.0\" y=\"0.0\" /><circle cx=\"120.0\" cy=\"195.0\" fill=\"#ffff00\" r=\"15.0\" stroke=\"#ffff00\" stroke-width=\"1\" /><line fill=\"#800080\" stroke=\"#add8e6\" stroke-width=\"1\" x1=\"216.24575502115218\" x2=\"240.0\" y1=\"130.3557010489755\" y2=\"143.60974199999998\" /><line fill=\"#800080\" stroke=\"#add8e6\" stroke-width=\"1\" x1=\"212.8894108108909\" x2=\"240.0\" y1=\"133.29252817058918\" y2=\"170.82703199999997\" /><line fill=\"#800080\" stroke=\"#add8e6\" stroke-width=\"1\" x1=\"209.91653069304147\" x2=\"230.27221744353034\" y1=\"133.69500028750625\" y2=\"240.0\" /><line fill=\"#800080\" stroke=\"#add8e6\" stroke-width=\"1\" x1=\"206.04191066713776\" x2=\"179.10949029305516\" y1=\"133.25079351710994\" y2=\"240.0\" /><line fill=\"#800080\" stroke=\"#add8e6\" stroke-width=\"1\" x1=\"200.80233593827825\" x2=\"94.29916291174642\" y1=\"130.32729276275793\" y2=\"240.0\" /><line fill=\"#800080\" stroke=\"#add8e6\" stroke-width=\"1\" x1=\"198.3894662895505\" x2=\"0.0\" y1=\"127.26329862793185\" y2=\"202.782906\" /><line fill=\"#800080\" stroke=\"#add8e6\" stroke-width=\"1\" x1=\"197.17068662431234\" x2=\"0.0\" y1=\"124.52202590753318\" y2=\"110.18109000000001\" /><line fill=\"#800080\" stroke=\"#add8e6\" stroke-width=\"1\" x1=\"197.90724347014384\" x2=\"0.0\" y1=\"120.12344840874353\" y2=\"9.698076000000011\" /><line fill=\"#800080\" stroke=\"#add8e6\" stroke-width=\"1\" x1=\"203.75424497884782\" x2=\"7.246859258093612\" y1=\"109.6442989510245\" y2=\"0.0\" /><line fill=\"#800080\" stroke=\"#add8e6\" stroke-width=\"1\" x1=\"207.1105891891091\" x2=\"130.03743384144366\" y1=\"106.70747182941082\" y2=\"0.0\" /><line fill=\"#800080\" stroke=\"#add8e6\" stroke-width=\"1\" x1=\"210.08346930695853\" x2=\"189.7277825564697\" y1=\"106.30499971249377\" y2=\"0.0\" /><line fill=\"#800080\" stroke=\"#add8e6\" stroke-width=\"1\" x1=\"213.95808933286224\" x2=\"240.0\" y1=\"106.74920648289009\" y2=\"3.529620000000051\" /><line fill=\"#800080\" stroke=\"#add8e6\" stroke-width=\"1\" x1=\"219.19766406172175\" x2=\"240.0\" y1=\"109.67270723724207\" y2=\"88.251294\" /><line fill=\"#800080\" stroke=\"#add8e6\" stroke-width=\"1\" x1=\"221.6105337104495\" x2=\"240.0\" y1=\"112.73670137206815\" y2=\"105.736506\" /><line fill=\"#800080\" stroke=\"#add8e6\" stroke-width=\"1\" x1=\"222.82931337568766\" x2=\"240.0\" y1=\"115.47797409246682\" y2=\"116.726862\" /><line fill=\"#800080\" stroke=\"#add8e6\" stroke-width=\"1\" x1=\"222.09275652985616\" x2=\"240.0\" y1=\"119.87655159125647\" y2=\"129.86817\" /><line fill=\"#800080\" stroke=\"#a020f0\" stroke-width=\"1\" x1=\"210.0\" x2=\"240.0\" y1=\"120.0\" y2=\"170.24567999999994\" /><line fill=\"#800080\" stroke=\"#a020f0\" stroke-width=\"1\" x1=\"210.0\" x2=\"0.0\" y1=\"120.0\" y2=\"123.07897799999999\" /><line fill=\"#800080\" stroke=\"#ffa500\" stroke-width=\"1\" x1=\"120.0\" x2=\"212.59137907821219\" y1=\"195.0\" y2=\"136.90516946004993\" /><line fill=\"#800080\" stroke=\"#ffa500\" stroke-width=\"1\" x1=\"120.0\" x2=\"194.25286752720385\" y1=\"195.0\" y2=\"126.67291681981794\" /><polygon fill=\"red\" points=\"207.61378308579563,134.12784374341553 214.78400464397615,132.97548841340526 223.55450690703213,117.2567642268267 220.7695364803796,110.54975746354768 212.38621691420437,105.8721562565845 205.21599535602385,107.02451158659473 196.44549309296787,122.7432357731733 199.2304635196204,129.45024253645232\" stroke=\"red\" stroke-width=\"1\" /><polygon points=\"-3.0,-3.0 0,0 3.0,-3.0 0,3.0\" stroke=\"black\" stroke-width=\"1\" transform=\"translate(210.0,120.0) rotate(29.160000000000018)\" /><polygon fill=\"black\" points=\"202.7633541065915,125.58130416779213 205.10215471007308,121.38964438470451 211.38964438470452,124.8978452899269 209.0508437812229,129.08950507301452\" stroke=\"black\" stroke-width=\"1\" /><circle cx=\"212.59137907821219\" cy=\"136.90516946004993\" fill=\"yellow\" r=\"1.5\" stroke=\"orange\" stroke-width=\"1\" /><circle cx=\"194.25286752720385\" cy=\"126.67291681981794\" fill=\"yellow\" r=\"1.5\" stroke=\"orange\" stroke-width=\"1\" /></svg>"
      }
     },
     "58ad7b06c7824b968708fcfe8696c422": {
      "model_module": "jupyter-js-widgets",
      "model_module_version": "~2.1.4",
      "model_name": "LayoutModel",
      "state": {
       "_model_module_version": "~2.1.4",
       "_view_module_version": "~2.1.4",
       "height": "550px",
       "width": "100%"
      }
     },
     "591d4787eda04f308db24ecd4ac2a328": {
      "model_module": "jupyter-js-widgets",
      "model_module_version": "~2.1.4",
      "model_name": "LayoutModel",
      "state": {
       "_model_module_version": "~2.1.4",
       "_view_module_version": "~2.1.4"
      }
     },
     "594ccc4f42a4425e8d6321681a3a8353": {
      "model_module": "jupyter-js-widgets",
      "model_module_version": "~2.1.4",
      "model_name": "LayoutModel",
      "state": {
       "_model_module_version": "~2.1.4",
       "_view_module_version": "~2.1.4"
      }
     },
     "59a4e8746fd54aed9d03c9e017ad7a74": {
      "model_module": "jupyter-js-widgets",
      "model_module_version": "~2.1.4",
      "model_name": "VBoxModel",
      "state": {
       "_model_module_version": "~2.1.4",
       "_view_module_version": "~2.1.4",
       "children": [
        "IPY_MODEL_6fe1973a27dd4776a09e9cb3f8f4d878",
        "IPY_MODEL_82623d3f248a45f28312513137c54a2e"
       ],
       "layout": "IPY_MODEL_84496272d1174e05b71b2eafc7b86ab5"
      }
     },
     "5a11783dcd284b8fab3af14d984cb4e6": {
      "model_module": "jupyter-js-widgets",
      "model_module_version": "~2.1.4",
      "model_name": "CheckboxModel",
      "state": {
       "_model_module_version": "~2.1.4",
       "_view_module_version": "~2.1.4",
       "description": "Update GUI",
       "disabled": false,
       "layout": "IPY_MODEL_0e1d62f36b8b440fa9bdd586053dcb31",
       "value": true
      }
     },
     "5a5123f3760d498096de5d9032d5a2f1": {
      "model_module": "jupyter-js-widgets",
      "model_module_version": "~2.1.4",
      "model_name": "PlayModel",
      "state": {
       "_model_module_version": "~2.1.4",
       "_view_module_version": "~2.1.4",
       "layout": "IPY_MODEL_9d359e7f00744e38a5d9efacf658a459",
       "max": 1000000,
       "value": 77
      }
     },
     "5a61234271704a01ae85bd4e8fb4122b": {
      "model_module": "jupyter-js-widgets",
      "model_module_version": "~2.1.4",
      "model_name": "TextModel",
      "state": {
       "_model_module_version": "~2.1.4",
       "_view_module_version": "~2.1.4",
       "description": "Time:",
       "layout": "IPY_MODEL_1e04ebbf34ce4ab7ab055159234bfdf7",
       "value": "1.10 seconds"
      }
     },
     "5a64ce91aa9349d98e1790ededa5cb76": {
      "model_module": "jupyter-js-widgets",
      "model_module_version": "~2.1.4",
      "model_name": "LayoutModel",
      "state": {
       "_model_module_version": "~2.1.4",
       "_view_module_version": "~2.1.4"
      }
     },
     "5b55533fdb2c45aba6d3f2a50fc1c459": {
      "model_module": "jupyter-js-widgets",
      "model_module_version": "~2.1.4",
      "model_name": "LayoutModel",
      "state": {
       "_model_module_version": "~2.1.4",
       "_view_module_version": "~2.1.4"
      }
     },
     "5bb19b650cd7493182e9395133e47ae0": {
      "model_module": "jupyter-js-widgets",
      "model_module_version": "~2.1.4",
      "model_name": "ImageModel",
      "state": {
       "_b64value": "iVBORw0KGgoAAAANSUhEUgAAADwAAAAoCAIAAAAt2Q6oAAABLklEQVR4nO3YMUvDQBjG8ee0YxG6ujp069RFcOgigpsd/AT1U5mv0NkPIOLcoeCStaMRzFjeOJwehzTJe4len8D9h3AJB/1xOY5Qs37bYWidHBvQpYSO1ejYAG3L6bkbs6N9q4t6exwUg3al67g2xpVuFoMQ3SoGG1ojBhta2QjbVzuqqurg4HR2FYeiXGZoTo/95tnqKy8Rsdezy5te0p/0YvQ/8j5enkRERIwxAOzVH/y6da/R9f1kGvCjg9zTFOjV6iFoPgU6tISOVULHKqFjldBdy7LHoPkU6ND6fjDd3S/+ghFWO/r6dh7BUZT5ZHyhnGzeP/N/1QSldA9yT3Ohi1L12rnQ0Lnp0FC4GdEAijJvoJOibXVu0j8gXc7tn4bsaJe/6tTbo65Bor8AozBdblVavV4AAAAASUVORK5CYII=",
       "_model_module_version": "~2.1.4",
       "_view_module_version": "~2.1.4",
       "layout": "IPY_MODEL_a0b5560db55a499bbc6204e359a0ccbe",
       "width": "240"
      }
     },
     "5c3e0c65289e45d6b28acc340e514d5a": {
      "model_module": "jupyter-js-widgets",
      "model_module_version": "~2.1.4",
      "model_name": "VBoxModel",
      "state": {
       "_model_module_version": "~2.1.4",
       "_view_module_version": "~2.1.4",
       "children": [
        "IPY_MODEL_993ab8641c464850b7acb1b0c48d047e",
        "IPY_MODEL_0426018781e2480e8529ed5a75f06e73",
        "IPY_MODEL_0285bfc02694453a91a494b3b8bffc1b"
       ],
       "layout": "IPY_MODEL_c5062bd8508647fb9f8b195c5a770125"
      }
     },
     "5c5e2f2cdc894f58a9cf6ddeef810d66": {
      "model_module": "jupyter-js-widgets",
      "model_module_version": "~2.1.4",
      "model_name": "LayoutModel",
      "state": {
       "_model_module_version": "~2.1.4",
       "_view_module_version": "~2.1.4"
      }
     },
     "5cc317758c0e40c49e671d965bb47735": {
      "model_module": "jupyter-js-widgets",
      "model_module_version": "~2.1.4",
      "model_name": "LayoutModel",
      "state": {
       "_model_module_version": "~2.1.4",
       "_view_module_version": "~2.1.4"
      }
     },
     "5d45fe0456b84e60a7a549d583cb4d31": {
      "model_module": "jupyter-js-widgets",
      "model_module_version": "~2.1.4",
      "model_name": "VBoxModel",
      "state": {
       "_model_module_version": "~2.1.4",
       "_view_module_version": "~2.1.4",
       "layout": "IPY_MODEL_76a101c21c3c40e4994292ffd9b44f5e"
      }
     },
     "5d47a28234b04aeaa920646b90d17983": {
      "model_module": "jupyter-js-widgets",
      "model_module_version": "~2.1.4",
      "model_name": "LayoutModel",
      "state": {
       "_model_module_version": "~2.1.4",
       "_view_module_version": "~2.1.4"
      }
     },
     "5d49a8a2382041ab87279691bc629879": {
      "model_module": "jupyter-js-widgets",
      "model_module_version": "~2.1.4",
      "model_name": "LayoutModel",
      "state": {
       "_model_module_version": "~2.1.4",
       "_view_module_version": "~2.1.4"
      }
     },
     "5e0ec4eadc014690aab991e1a959b827": {
      "model_module": "jupyter-js-widgets",
      "model_module_version": "~2.1.4",
      "model_name": "LayoutModel",
      "state": {
       "_model_module_version": "~2.1.4",
       "_view_module_version": "~2.1.4"
      }
     },
     "5e1ac451344148d69ee8f975d0c75a8d": {
      "model_module": "jupyter-js-widgets",
      "model_module_version": "~2.1.4",
      "model_name": "HBoxModel",
      "state": {
       "_model_module_version": "~2.1.4",
       "_view_module_version": "~2.1.4",
       "children": [
        "IPY_MODEL_502f8863a43d447a97a59de9d2ab2930",
        "IPY_MODEL_1a22938dbbe64730b4537dc08399dfa7",
        "IPY_MODEL_f2ac26b3e518483bb0f045d59ef07c04"
       ],
       "layout": "IPY_MODEL_9fa56ce05ef841fc890b9980e6c50e66"
      }
     },
     "5f50df57b4c84bd9ada65afe334ef513": {
      "model_module": "jupyter-js-widgets",
      "model_module_version": "~2.1.4",
      "model_name": "VBoxModel",
      "state": {
       "_model_module_version": "~2.1.4",
       "_view_module_version": "~2.1.4",
       "layout": "IPY_MODEL_dc85de8b14664060a53186bd23167018"
      }
     },
     "5fb6fb6be925415e9eb787d96f5358b9": {
      "model_module": "jupyter-js-widgets",
      "model_module_version": "~2.1.4",
      "model_name": "PlayModel",
      "state": {
       "_model_module_version": "~2.1.4",
       "_view_module_version": "~2.1.4",
       "layout": "IPY_MODEL_0b23f084825947338be3d5efbdffc1c6",
       "max": 1000000
      }
     },
     "5fd946159792456d89b0331a8b2a6eb9": {
      "model_module": "jupyter-js-widgets",
      "model_module_version": "~2.1.4",
      "model_name": "ButtonModel",
      "state": {
       "_model_module_version": "~2.1.4",
       "_view_module_version": "~2.1.4",
       "description": "Turn on webcamera",
       "layout": "IPY_MODEL_85c42665bb2f469aade0039c12a3de80",
       "style": "IPY_MODEL_df761f90ccae4c46a56e2a0271c8d276"
      }
     },
     "5ff84d51567b4423b784318c6d541543": {
      "model_module": "jupyter-js-widgets",
      "model_module_version": "~2.1.4",
      "model_name": "LayoutModel",
      "state": {
       "_model_module_version": "~2.1.4",
       "_view_module_version": "~2.1.4"
      }
     },
     "603af99e31ea43d2ba121f2a70566d85": {
      "model_module": "jupyter-js-widgets",
      "model_module_version": "~2.1.4",
      "model_name": "HBoxModel",
      "state": {
       "_model_module_version": "~2.1.4",
       "_view_module_version": "~2.1.4",
       "children": [
        "IPY_MODEL_a6f8921a3f73460898e268b5a9c0867a",
        "IPY_MODEL_0ab52306707c4bb899cf504f8cf56d94"
       ],
       "layout": "IPY_MODEL_8655181bf26a49bd9b338600dfbd548a"
      }
     },
     "607fb0508f4b4409936ead1b96a6c061": {
      "model_module": "jupyter-js-widgets",
      "model_module_version": "~2.1.4",
      "model_name": "LayoutModel",
      "state": {
       "_model_module_version": "~2.1.4",
       "_view_module_version": "~2.1.4"
      }
     },
     "6094da19fa6d47e78129dd4e7d7a729d": {
      "model_module": "jupyter-js-widgets",
      "model_module_version": "~2.1.4",
      "model_name": "LayoutModel",
      "state": {
       "_model_module_version": "~2.1.4",
       "_view_module_version": "~2.1.4"
      }
     },
     "60c15ae33e0f4dcd89947e04c0623d70": {
      "model_module": "jupyter-js-widgets",
      "model_module_version": "~2.1.4",
      "model_name": "VBoxModel",
      "state": {
       "_model_module_version": "~2.1.4",
       "_view_module_version": "~2.1.4",
       "children": [
        "IPY_MODEL_a8ddbd7efbb84e0c8ae557c2830de179",
        "IPY_MODEL_c86f9b65c2da4853beefa85440ab3dcf"
       ],
       "layout": "IPY_MODEL_6c7ab3ea3b7d4aa08be5901058848a58"
      }
     },
     "6105770f79bd4fa7b9053466408b7f52": {
      "model_module": "jupyter-js-widgets",
      "model_module_version": "~2.1.4",
      "model_name": "LayoutModel",
      "state": {
       "_model_module_version": "~2.1.4",
       "_view_module_version": "~2.1.4"
      }
     },
     "6134f22175a94317abc7ebd3edb72552": {
      "model_module": "jupyter-js-widgets",
      "model_module_version": "~2.1.4",
      "model_name": "ButtonModel",
      "state": {
       "_model_module_version": "~2.1.4",
       "_view_module_version": "~2.1.4",
       "description": "Train",
       "layout": "IPY_MODEL_a08495d1e1a4463587c69c834b2d4e41",
       "style": "IPY_MODEL_de15cfd0b2cf42189b1464c434e5d88e"
      }
     },
     "61377a66419040cfba1187ae4e51fb3d": {
      "model_module": "jupyter-js-widgets",
      "model_module_version": "~2.1.4",
      "model_name": "HTMLModel",
      "state": {
       "_model_module_version": "~2.1.4",
       "_view_module_version": "~2.1.4",
       "layout": "IPY_MODEL_28c8012fba584bf881148b164a6f480f",
       "value": "\n        <svg id='Robot Prediction Network' xmlns='http://www.w3.org/2000/svg' width=\"1100\" height=\"668\" image-rendering=\"pixelated\">\n    <defs>\n        <marker id=\"arrow\" markerWidth=\"10\" markerHeight=\"10\" refX=\"9\" refY=\"3\" orient=\"auto\" markerUnits=\"strokeWidth\">\n          <path d=\"M0,0 L0,6 L9,3 z\" fill=\"black\" />\n        </marker>\n    </defs>\n<text x=\"550.0\" y=\"12.5\" font-family=\"monospace\" font-size=\"15\" text-anchor=\"middle\" alignment-baseline=\"central\">Robot Prediction Network</text><rect x=\"315.6666666666667\" y=\"29\" width=\"102\" height=\"52\" style=\"fill:none;stroke:black;stroke-width:2\"/><image id=\"Robot Prediction Network_output1_12\" class=\"Robot Prediction Network_output1\" x=\"316.6666666666667\" y=\"30\" height=\"50\" width=\"100\" preserveAspectRatio=\"none\" href=\"data:image/gif;base64,R0lGODdhAgABAIcAANvb2wAAAAAAAAAAAAAAAAAAAAAAAAAAAAAAAAAAAAAAAAAAAAAAAAAAAAAAAAAAAAAAAAAAAAAAAAAAAAAAAAAAAAAAAAAAAAAAAAAAAAAAAAAAAAAAAAAAAAAAAAAAAAAAAAAAAAAAAAAAAAAAAAAAAAAAAAAAAAAAAAAAAAAAAAAAAAAAAAAAAAAAAAAAAAAAAAAAAAAAAAAAAAAAAAAAAAAAAAAAAAAAAAAAAAAAAAAAAAAAAAAAAAAAAAAAAAAAAAAAAAAAAAAAAAAAAAAAAAAAAAAAAAAAAAAAAAAAAAAAAAAAAAAAAAAAAAAAAAAAAAAAAAAAAAAAAAAAAAAAAAAAAAAAAAAAAAAAAAAAAAAAAAAAAAAAAAAAAAAAAAAAAAAAAAAAAAAAAAAAAAAAAAAAAAAAAAAAAAAAAAAAAAAAAAAAAAAAAAAAAAAAAAAAAAAAAAAAAAAAAAAAAAAAAAAAAAAAAAAAAAAAAAAAAAAAAAAAAAAAAAAAAAAAAAAAAAAAAAAAAAAAAAAAAAAAAAAAAAAAAAAAAAAAAAAAAAAAAAAAAAAAAAAAAAAAAAAAAAAAAAAAAAAAAAAAAAAAAAAAAAAAAAAAAAAAAAAAAAAAAAAAAAAAAAAAAAAAAAAAAAAAAAAAAAAAAAAAAAAAAAAAAAAAAAAAAAAAAAAAAAAAAAAAAAAAAAAAAAAAAAAAAAAAAAAAAAAAAAAAAAAAAAAAAAAAAAAAAAAAAAAAAAAAAAAAAAAAAAAAAAAAAAAAAAAAAAAAAAAAAAAAAAAAAAAAAAAAAAAAAAAAAAAAAAAAAAAAAAAAAAAAAAAAAAAAAAAAAAAAAAAAAAAAAAAAAAAAAAAAAAAAAAAAAAAAAAAAAAAAAAAAAAAAAAAAAAAAAAAAAAAAAAAAAAAAAAAAAAAAAAAAAAAAAAAAAAAAAAAAAAAAAAAAAAAAAAAAAAAAAAAAAAAAAAAAAAAAAAAAAAAAAAAAAAAAAAAAAAAAAAAAAAAAAAAAAAAAAAAAACwAAAAAAgABAAAIBQABAAgIADs=\"><title>Layer: output1 (output)\n shape = (2,)\n Keras class = Dense\n activation = sigmoid</title></image><text x=\"421.6666666666667\" y=\"57.0\" font-family=\"monospace\" font-size=\"12\" text-anchor=\"start\" alignment-baseline=\"central\">output1</text><rect x=\"632.3333333333334\" y=\"29\" width=\"202\" height=\"42\" style=\"fill:none;stroke:black;stroke-width:2\"/><image id=\"Robot Prediction Network_output2_13\" class=\"Robot Prediction Network_output2\" x=\"633.3333333333334\" y=\"30\" height=\"40\" width=\"200\" preserveAspectRatio=\"none\" href=\"data:image/gif;base64,R0lGODdhBQABAIcAAP3l1+Xl5fvUvgAAAAAAAAAAAAAAAAAAAAAAAAAAAAAAAAAAAAAAAAAAAAAAAAAAAAAAAAAAAAAAAAAAAAAAAAAAAAAAAAAAAAAAAAAAAAAAAAAAAAAAAAAAAAAAAAAAAAAAAAAAAAAAAAAAAAAAAAAAAAAAAAAAAAAAAAAAAAAAAAAAAAAAAAAAAAAAAAAAAAAAAAAAAAAAAAAAAAAAAAAAAAAAAAAAAAAAAAAAAAAAAAAAAAAAAAAAAAAAAAAAAAAAAAAAAAAAAAAAAAAAAAAAAAAAAAAAAAAAAAAAAAAAAAAAAAAAAAAAAAAAAAAAAAAAAAAAAAAAAAAAAAAAAAAAAAAAAAAAAAAAAAAAAAAAAAAAAAAAAAAAAAAAAAAAAAAAAAAAAAAAAAAAAAAAAAAAAAAAAAAAAAAAAAAAAAAAAAAAAAAAAAAAAAAAAAAAAAAAAAAAAAAAAAAAAAAAAAAAAAAAAAAAAAAAAAAAAAAAAAAAAAAAAAAAAAAAAAAAAAAAAAAAAAAAAAAAAAAAAAAAAAAAAAAAAAAAAAAAAAAAAAAAAAAAAAAAAAAAAAAAAAAAAAAAAAAAAAAAAAAAAAAAAAAAAAAAAAAAAAAAAAAAAAAAAAAAAAAAAAAAAAAAAAAAAAAAAAAAAAAAAAAAAAAAAAAAAAAAAAAAAAAAAAAAAAAAAAAAAAAAAAAAAAAAAAAAAAAAAAAAAAAAAAAAAAAAAAAAAAAAAAAAAAAAAAAAAAAAAAAAAAAAAAAAAAAAAAAAAAAAAAAAAAAAAAAAAAAAAAAAAAAAAAAAAAAAAAAAAAAAAAAAAAAAAAAAAAAAAAAAAAAAAAAAAAAAAAAAAAAAAAAAAAAAAAAAAAAAAAAAAAAAAAAAAAAAAAAAAAAAAAAAAAAAAAAAAAAAAAAAAAAAAAAAAAAAAAAAAAAAAAAAAAAAAAAAAAAAAAAAAAAAAAAAAAAAAAAAAAAAAAAAAAAAAAAAAAAAAAAAAAAAAAAAAAAAAAAAAAAAAAAAAAAAACwAAAAABQABAAAICAABAAggIEBAADs=\"><title>Layer: output2 (output)\n shape = (5,)\n Keras class = Dense\n activation = sigmoid</title></image><text x=\"838.3333333333334\" y=\"52.0\" font-family=\"monospace\" font-size=\"12\" text-anchor=\"start\" alignment-baseline=\"central\">output2</text><line x1=\"366.6666666666667\" y1=\"109\" x2=\"366.6666666666667\" y2=\"82\" stroke=\"black\" stroke-width=\"2\" marker-end=\"url(#arrow)\"><title>Weights from hidden4 to output1\n output1/kernel has shape (10, 2)\n output1/bias has shape (2,)</title></line><rect x=\"265.6666666666667\" y=\"109\" width=\"202\" height=\"27\" style=\"fill:none;stroke:black;stroke-width:2\"/><image id=\"Robot Prediction Network_hidden4_14\" class=\"Robot Prediction Network_hidden4\" x=\"266.6666666666667\" y=\"110\" height=\"25\" width=\"200\" preserveAspectRatio=\"none\" href=\"data:image/gif;base64,R0lGODdhCgABAIcAAPn5+a+vr7Gxsfayk/i/o/vSvP3cye3t7QAAAAAAAAAAAAAAAAAAAAAAAAAAAAAAAAAAAAAAAAAAAAAAAAAAAAAAAAAAAAAAAAAAAAAAAAAAAAAAAAAAAAAAAAAAAAAAAAAAAAAAAAAAAAAAAAAAAAAAAAAAAAAAAAAAAAAAAAAAAAAAAAAAAAAAAAAAAAAAAAAAAAAAAAAAAAAAAAAAAAAAAAAAAAAAAAAAAAAAAAAAAAAAAAAAAAAAAAAAAAAAAAAAAAAAAAAAAAAAAAAAAAAAAAAAAAAAAAAAAAAAAAAAAAAAAAAAAAAAAAAAAAAAAAAAAAAAAAAAAAAAAAAAAAAAAAAAAAAAAAAAAAAAAAAAAAAAAAAAAAAAAAAAAAAAAAAAAAAAAAAAAAAAAAAAAAAAAAAAAAAAAAAAAAAAAAAAAAAAAAAAAAAAAAAAAAAAAAAAAAAAAAAAAAAAAAAAAAAAAAAAAAAAAAAAAAAAAAAAAAAAAAAAAAAAAAAAAAAAAAAAAAAAAAAAAAAAAAAAAAAAAAAAAAAAAAAAAAAAAAAAAAAAAAAAAAAAAAAAAAAAAAAAAAAAAAAAAAAAAAAAAAAAAAAAAAAAAAAAAAAAAAAAAAAAAAAAAAAAAAAAAAAAAAAAAAAAAAAAAAAAAAAAAAAAAAAAAAAAAAAAAAAAAAAAAAAAAAAAAAAAAAAAAAAAAAAAAAAAAAAAAAAAAAAAAAAAAAAAAAAAAAAAAAAAAAAAAAAAAAAAAAAAAAAAAAAAAAAAAAAAAAAAAAAAAAAAAAAAAAAAAAAAAAAAAAAAAAAAAAAAAAAAAAAAAAAAAAAAAAAAAAAAAAAAAAAAAAAAAAAAAAAAAAAAAAAAAAAAAAAAAAAAAAAAAAAAAAAAAAAAAAAAAAAAAAAAAAAAAAAAAAAAAAAAAAAAAAAAAAAAAAAAAAAAAAAAAAAAAAAAAAAAAAAAAAAAAAAAAAAAAAAAAAAAAAAAAAAAAAAAAAAAAAAAAAAAAAAAAAAAAAAAAAAAACwAAAAACgABAAAIDgABADhgQACAAAQKDAgIADs=\"><title>Layer: hidden4 (hidden)\n shape = (10,)\n Keras class = Dense\n activation = sigmoid</title></image><text x=\"471.6666666666667\" y=\"124.5\" font-family=\"monospace\" font-size=\"12\" text-anchor=\"start\" alignment-baseline=\"central\">hidden4</text><line x1=\"733.3333333333334\" y1=\"110\" x2=\"733.3333333333334\" y2=\"70\" stroke=\"black\" stroke-width=\"2\" marker-end=\"url(#arrow)\"><title>Weights from hidden4 to output1\n output1/kernel has shape (10, 2)\n output1/bias has shape (2,)</title></line><line x1=\"550.0\" y1=\"164\" x2=\"733.3333333333334\" y2=\"110\" stroke=\"black\" stroke-width=\"2\"><title>TODO</title></line><line x1=\"550.0\" y1=\"164\" x2=\"366.6666666666667\" y2=\"137\" stroke=\"black\" stroke-width=\"2\" marker-end=\"url(#arrow)\"><title>Weights from hidden3 to hidden4\n hidden4/kernel has shape (10, 10)\n hidden4/bias has shape (10,)</title></line><rect x=\"449.0\" y=\"164\" width=\"202\" height=\"27\" style=\"fill:none;stroke:black;stroke-width:2\"/><image id=\"Robot Prediction Network_hidden3_15\" class=\"Robot Prediction Network_hidden3\" x=\"450.0\" y=\"165\" height=\"25\" width=\"200\" preserveAspectRatio=\"none\" href=\"data:image/gif;base64,R0lGODdhCgABAIcAAPv08MXFxdTU1PWujvjBpvvUvvzWwf3q3+zs7AAAAAAAAAAAAAAAAAAAAAAAAAAAAAAAAAAAAAAAAAAAAAAAAAAAAAAAAAAAAAAAAAAAAAAAAAAAAAAAAAAAAAAAAAAAAAAAAAAAAAAAAAAAAAAAAAAAAAAAAAAAAAAAAAAAAAAAAAAAAAAAAAAAAAAAAAAAAAAAAAAAAAAAAAAAAAAAAAAAAAAAAAAAAAAAAAAAAAAAAAAAAAAAAAAAAAAAAAAAAAAAAAAAAAAAAAAAAAAAAAAAAAAAAAAAAAAAAAAAAAAAAAAAAAAAAAAAAAAAAAAAAAAAAAAAAAAAAAAAAAAAAAAAAAAAAAAAAAAAAAAAAAAAAAAAAAAAAAAAAAAAAAAAAAAAAAAAAAAAAAAAAAAAAAAAAAAAAAAAAAAAAAAAAAAAAAAAAAAAAAAAAAAAAAAAAAAAAAAAAAAAAAAAAAAAAAAAAAAAAAAAAAAAAAAAAAAAAAAAAAAAAAAAAAAAAAAAAAAAAAAAAAAAAAAAAAAAAAAAAAAAAAAAAAAAAAAAAAAAAAAAAAAAAAAAAAAAAAAAAAAAAAAAAAAAAAAAAAAAAAAAAAAAAAAAAAAAAAAAAAAAAAAAAAAAAAAAAAAAAAAAAAAAAAAAAAAAAAAAAAAAAAAAAAAAAAAAAAAAAAAAAAAAAAAAAAAAAAAAAAAAAAAAAAAAAAAAAAAAAAAAAAAAAAAAAAAAAAAAAAAAAAAAAAAAAAAAAAAAAAAAAAAAAAAAAAAAAAAAAAAAAAAAAAAAAAAAAAAAAAAAAAAAAAAAAAAAAAAAAAAAAAAAAAAAAAAAAAAAAAAAAAAAAAAAAAAAAAAAAAAAAAAAAAAAAAAAAAAAAAAAAAAAAAAAAAAAAAAAAAAAAAAAAAAAAAAAAAAAAAAAAAAAAAAAAAAAAAAAAAAAAAAAAAAAAAAAAAAAAAAAAAAAAAAAAAAAAAAAAAAAAAAAAAAAAAAAAAAAAAAAAAAAAAAAAAAAAAAAAAAAAAAAACwAAAAACgABAAAIDgANDCgAAIEAAgACHAgIADs=\"><title>Layer: hidden3 (hidden)\n shape = (10,)\n Keras class = Dense\n activation = sigmoid</title></image><text x=\"655.0\" y=\"179.5\" font-family=\"monospace\" font-size=\"12\" text-anchor=\"start\" alignment-baseline=\"central\">hidden3</text><line x1=\"550.0\" y1=\"219\" x2=\"550.0\" y2=\"192\" stroke=\"black\" stroke-width=\"2\" marker-end=\"url(#arrow)\"><title>Weights from hidden2 to hidden3\n hidden3/kernel has shape (5, 10)\n hidden3/bias has shape (10,)</title></line><rect x=\"449.0\" y=\"219\" width=\"202\" height=\"42\" style=\"fill:none;stroke:black;stroke-width:2\"/><image id=\"Robot Prediction Network_hidden2_16\" class=\"Robot Prediction Network_hidden2\" x=\"450.0\" y=\"220\" height=\"40\" width=\"200\" preserveAspectRatio=\"none\" href=\"data:image/gif;base64,R0lGODdhBQABAIcAAP7+/QAAAAAAAAAAAAAAAAAAAAAAAAAAAAAAAAAAAAAAAAAAAAAAAAAAAAAAAAAAAAAAAAAAAAAAAAAAAAAAAAAAAAAAAAAAAAAAAAAAAAAAAAAAAAAAAAAAAAAAAAAAAAAAAAAAAAAAAAAAAAAAAAAAAAAAAAAAAAAAAAAAAAAAAAAAAAAAAAAAAAAAAAAAAAAAAAAAAAAAAAAAAAAAAAAAAAAAAAAAAAAAAAAAAAAAAAAAAAAAAAAAAAAAAAAAAAAAAAAAAAAAAAAAAAAAAAAAAAAAAAAAAAAAAAAAAAAAAAAAAAAAAAAAAAAAAAAAAAAAAAAAAAAAAAAAAAAAAAAAAAAAAAAAAAAAAAAAAAAAAAAAAAAAAAAAAAAAAAAAAAAAAAAAAAAAAAAAAAAAAAAAAAAAAAAAAAAAAAAAAAAAAAAAAAAAAAAAAAAAAAAAAAAAAAAAAAAAAAAAAAAAAAAAAAAAAAAAAAAAAAAAAAAAAAAAAAAAAAAAAAAAAAAAAAAAAAAAAAAAAAAAAAAAAAAAAAAAAAAAAAAAAAAAAAAAAAAAAAAAAAAAAAAAAAAAAAAAAAAAAAAAAAAAAAAAAAAAAAAAAAAAAAAAAAAAAAAAAAAAAAAAAAAAAAAAAAAAAAAAAAAAAAAAAAAAAAAAAAAAAAAAAAAAAAAAAAAAAAAAAAAAAAAAAAAAAAAAAAAAAAAAAAAAAAAAAAAAAAAAAAAAAAAAAAAAAAAAAAAAAAAAAAAAAAAAAAAAAAAAAAAAAAAAAAAAAAAAAAAAAAAAAAAAAAAAAAAAAAAAAAAAAAAAAAAAAAAAAAAAAAAAAAAAAAAAAAAAAAAAAAAAAAAAAAAAAAAAAAAAAAAAAAAAAAAAAAAAAAAAAAAAAAAAAAAAAAAAAAAAAAAAAAAAAAAAAAAAAAAAAAAAAAAAAAAAAAAAAAAAAAAAAAAAAAAAAAAAAAAAAAAAAAAAAAAAAAAAAAAAAAAAAAAAAAAAAAAAAAAAAAAAAAAAAAAAAAAAAAAAACwAAAAABQABAAAIBgABCBQYEAA7\"><title>Layer: hidden2 (hidden)\n shape = (5,)\n Keras class = Dense\n activation = sigmoid</title></image><text x=\"655.0\" y=\"242.0\" font-family=\"monospace\" font-size=\"12\" text-anchor=\"start\" alignment-baseline=\"central\">hidden2</text><line x1=\"366.6666666666667\" y1=\"290\" x2=\"550.0\" y2=\"260\" stroke=\"black\" stroke-width=\"2\" marker-end=\"url(#arrow)\"><title>Weights from hidden2 to hidden3\n hidden3/kernel has shape (5, 10)\n hidden3/bias has shape (10,)</title></line><line x1=\"733.3333333333334\" y1=\"289\" x2=\"550.0\" y2=\"262\" stroke=\"black\" stroke-width=\"2\" marker-end=\"url(#arrow)\"><title>Weights from flatten to hidden2\n hidden2/kernel has shape (41714, 5)\n hidden2/bias has shape (5,)</title></line><rect x=\"632.3333333333334\" y=\"289\" width=\"202\" height=\"27\" style=\"fill:none;stroke:black;stroke-width:2\"/><image id=\"Robot Prediction Network_flatten_17\" class=\"Robot Prediction Network_flatten\" x=\"633.3333333333334\" y=\"290\" height=\"25\" width=\"200\" preserveAspectRatio=\"none\" href=\"data:image/gif;base64,R0lGODdhwKIBAIcAAP7+/QAAAAAAAAAAAAAAAAAAAAAAAAAAAAAAAAAAAAAAAAAAAAAAAAAAAAAAAAAAAAAAAAAAAAAAAAAAAAAAAAAAAAAAAAAAAAAAAAAAAAAAAAAAAAAAAAAAAAAAAAAAAAAAAAAAAAAAAAAAAAAAAAAAAAAAAAAAAAAAAAAAAAAAAAAAAAAAAAAAAAAAAAAAAAAAAAAAAAAAAAAAAAAAAAAAAAAAAAAAAAAAAAAAAAAAAAAAAAAAAAAAAAAAAAAAAAAAAAAAAAAAAAAAAAAAAAAAAAAAAAAAAAAAAAAAAAAAAAAAAAAAAAAAAAAAAAAAAAAAAAAAAAAAAAAAAAAAAAAAAAAAAAAAAAAAAAAAAAAAAAAAAAAAAAAAAAAAAAAAAAAAAAAAAAAAAAAAAAAAAAAAAAAAAAAAAAAAAAAAAAAAAAAAAAAAAAAAAAAAAAAAAAAAAAAAAAAAAAAAAAAAAAAAAAAAAAAAAAAAAAAAAAAAAAAAAAAAAAAAAAAAAAAAAAAAAAAAAAAAAAAAAAAAAAAAAAAAAAAAAAAAAAAAAAAAAAAAAAAAAAAAAAAAAAAAAAAAAAAAAAAAAAAAAAAAAAAAAAAAAAAAAAAAAAAAAAAAAAAAAAAAAAAAAAAAAAAAAAAAAAAAAAAAAAAAAAAAAAAAAAAAAAAAAAAAAAAAAAAAAAAAAAAAAAAAAAAAAAAAAAAAAAAAAAAAAAAAAAAAAAAAAAAAAAAAAAAAAAAAAAAAAAAAAAAAAAAAAAAAAAAAAAAAAAAAAAAAAAAAAAAAAAAAAAAAAAAAAAAAAAAAAAAAAAAAAAAAAAAAAAAAAAAAAAAAAAAAAAAAAAAAAAAAAAAAAAAAAAAAAAAAAAAAAAAAAAAAAAAAAAAAAAAAAAAAAAAAAAAAAAAAAAAAAAAAAAAAAAAAAAAAAAAAAAAAAAAAAAAAAAAAAAAAAAAAAAAAAAAAAAAAAAAAAAAAAAAAAAAAAAAAAAAAAAAAAAAAAAAAAAAAAAAAAAAAAAAAAAAAACwAAAAAwKIBAAAI/wABCBxIsKDBgwgTKlzIsKHDhxAjSpxIsaLFixgzatzIsaPHjyBDihxJsqTJkyhTqlzJsqXLlzBjypxJs6bNmzhz6tzJs6fPn0CDCh1KtKjRo0iTKl3KtKnTp1CjSp1KtarVq1izat3KtavXr2DDih1LtqzZs2jTql3Ltq3bt3Djyp1Lt67du3jz6t3Lt6/fv4ADCx5MuLDhw4gTK17MuLHjx5AjS55MubLly5gza97MubPnz6BDix5NurTp06hTq17NurXr17Bjy55Nu7bt27hz697Nu7fv38CDCx9OvLjx48iTK1/OvLnz59CjS59Ovbr169iza9/Ovbv37+DDi7wfT768+fPo06tfz769+/fw48ufT7++/fv48+vfz7+/f4AABA4kWNDgQYQJFS5k2NDhQ4gRJU6kWNHiRYwZNW7k2NHjR5AhRY4kWdLkSZQpVa5k2dLlS5gxZc6kWdPmTZw5de7k2dPnT6BBhQ4lWtToUaRJlS5l2tTpU6hRpU6lWtXqVaxZtW7l2tXrV7BhxY4lW9bsWbRp1a5l29btW7hx5c6lW9fuXbx59e7l29fvX8CBBQ8mXNjw4bEBAQA7\"><title>Layer: flatten (hidden)\n Keras class = Flatten</title></image><text x=\"838.3333333333334\" y=\"304.5\" font-family=\"monospace\" font-size=\"12\" text-anchor=\"start\" alignment-baseline=\"central\">flatten</text><line x1=\"366.6666666666667\" y1=\"344\" x2=\"366.6666666666667\" y2=\"290\" stroke=\"black\" stroke-width=\"2\"><title>TODO</title></line><rect x=\"265.6666666666667\" y=\"344\" width=\"202\" height=\"27\" style=\"fill:none;stroke:black;stroke-width:2\"/><image id=\"Robot Prediction Network_hidden_18\" class=\"Robot Prediction Network_hidden\" x=\"266.6666666666667\" y=\"345\" height=\"25\" width=\"200\" preserveAspectRatio=\"none\" href=\"data:image/gif;base64,R0lGODdhMgABAIcAAP7+/QAAAAAAAAAAAAAAAAAAAAAAAAAAAAAAAAAAAAAAAAAAAAAAAAAAAAAAAAAAAAAAAAAAAAAAAAAAAAAAAAAAAAAAAAAAAAAAAAAAAAAAAAAAAAAAAAAAAAAAAAAAAAAAAAAAAAAAAAAAAAAAAAAAAAAAAAAAAAAAAAAAAAAAAAAAAAAAAAAAAAAAAAAAAAAAAAAAAAAAAAAAAAAAAAAAAAAAAAAAAAAAAAAAAAAAAAAAAAAAAAAAAAAAAAAAAAAAAAAAAAAAAAAAAAAAAAAAAAAAAAAAAAAAAAAAAAAAAAAAAAAAAAAAAAAAAAAAAAAAAAAAAAAAAAAAAAAAAAAAAAAAAAAAAAAAAAAAAAAAAAAAAAAAAAAAAAAAAAAAAAAAAAAAAAAAAAAAAAAAAAAAAAAAAAAAAAAAAAAAAAAAAAAAAAAAAAAAAAAAAAAAAAAAAAAAAAAAAAAAAAAAAAAAAAAAAAAAAAAAAAAAAAAAAAAAAAAAAAAAAAAAAAAAAAAAAAAAAAAAAAAAAAAAAAAAAAAAAAAAAAAAAAAAAAAAAAAAAAAAAAAAAAAAAAAAAAAAAAAAAAAAAAAAAAAAAAAAAAAAAAAAAAAAAAAAAAAAAAAAAAAAAAAAAAAAAAAAAAAAAAAAAAAAAAAAAAAAAAAAAAAAAAAAAAAAAAAAAAAAAAAAAAAAAAAAAAAAAAAAAAAAAAAAAAAAAAAAAAAAAAAAAAAAAAAAAAAAAAAAAAAAAAAAAAAAAAAAAAAAAAAAAAAAAAAAAAAAAAAAAAAAAAAAAAAAAAAAAAAAAAAAAAAAAAAAAAAAAAAAAAAAAAAAAAAAAAAAAAAAAAAAAAAAAAAAAAAAAAAAAAAAAAAAAAAAAAAAAAAAAAAAAAAAAAAAAAAAAAAAAAAAAAAAAAAAAAAAAAAAAAAAAAAAAAAAAAAAAAAAAAAAAAAAAAAAAAAAAAAAAAAAAAAAAAAAAAAAAAAAAAAAAAAAAAAAAAAAAAAAAAAAAAAAAAAAAAAAAAAAACwAAAAAMgABAAAIDgABCBxIsKDBgwgTFgwIADs=\"><title>Layer: hidden (hidden)\n shape = (50,)\n Keras class = Dense\n activation = relu</title></image><text x=\"471.6666666666667\" y=\"359.5\" font-family=\"monospace\" font-size=\"12\" text-anchor=\"start\" alignment-baseline=\"central\">hidden</text><line x1=\"733.3333333333334\" y1=\"344\" x2=\"733.3333333333334\" y2=\"317\" stroke=\"black\" stroke-width=\"2\" marker-end=\"url(#arrow)\"><title>Weights from conv to flatten</title></line><rect x=\"632.3333333333334\" y=\"344\" width=\"202\" height=\"137\" style=\"fill:none;stroke:black;stroke-width:2\"/><image id=\"Robot Prediction Network_conv_19\" class=\"Robot Prediction Network_conv\" x=\"633.3333333333334\" y=\"345\" height=\"135\" width=\"200\" preserveAspectRatio=\"none\" href=\"data:image/gif;base64,R0lGODdhPgAqAIcAAP7+/QAAAAAAAAAAAAAAAAAAAAAAAAAAAAAAAAAAAAAAAAAAAAAAAAAAAAAAAAAAAAAAAAAAAAAAAAAAAAAAAAAAAAAAAAAAAAAAAAAAAAAAAAAAAAAAAAAAAAAAAAAAAAAAAAAAAAAAAAAAAAAAAAAAAAAAAAAAAAAAAAAAAAAAAAAAAAAAAAAAAAAAAAAAAAAAAAAAAAAAAAAAAAAAAAAAAAAAAAAAAAAAAAAAAAAAAAAAAAAAAAAAAAAAAAAAAAAAAAAAAAAAAAAAAAAAAAAAAAAAAAAAAAAAAAAAAAAAAAAAAAAAAAAAAAAAAAAAAAAAAAAAAAAAAAAAAAAAAAAAAAAAAAAAAAAAAAAAAAAAAAAAAAAAAAAAAAAAAAAAAAAAAAAAAAAAAAAAAAAAAAAAAAAAAAAAAAAAAAAAAAAAAAAAAAAAAAAAAAAAAAAAAAAAAAAAAAAAAAAAAAAAAAAAAAAAAAAAAAAAAAAAAAAAAAAAAAAAAAAAAAAAAAAAAAAAAAAAAAAAAAAAAAAAAAAAAAAAAAAAAAAAAAAAAAAAAAAAAAAAAAAAAAAAAAAAAAAAAAAAAAAAAAAAAAAAAAAAAAAAAAAAAAAAAAAAAAAAAAAAAAAAAAAAAAAAAAAAAAAAAAAAAAAAAAAAAAAAAAAAAAAAAAAAAAAAAAAAAAAAAAAAAAAAAAAAAAAAAAAAAAAAAAAAAAAAAAAAAAAAAAAAAAAAAAAAAAAAAAAAAAAAAAAAAAAAAAAAAAAAAAAAAAAAAAAAAAAAAAAAAAAAAAAAAAAAAAAAAAAAAAAAAAAAAAAAAAAAAAAAAAAAAAAAAAAAAAAAAAAAAAAAAAAAAAAAAAAAAAAAAAAAAAAAAAAAAAAAAAAAAAAAAAAAAAAAAAAAAAAAAAAAAAAAAAAAAAAAAAAAAAAAAAAAAAAAAAAAAAAAAAAAAAAAAAAAAAAAAAAAAAAAAAAAAAAAAAAAAAAAAAAAAAAAAAAAAAAAAAAAAAAAAAAAAAAAAAAAAAAAACwAAAAAPgAqAEAIVAABCBxIsKDBgwgTKlzIsKHDhxAjSpxIsaLFixgzatzIsaPHjyBDihxJsqTJkyhTqlzJsqXLlzBjypxJs6bNmzhz6tzJs6fPn0CDCh1KtKjRozADAgA7\"><title>Layer: conv (hidden)\n Keras class = Conv2DTranspose</title></image><text x=\"838.3333333333334\" y=\"414.5\" font-family=\"monospace\" font-size=\"12\" text-anchor=\"start\" alignment-baseline=\"central\">conv</text><line x1=\"275.0\" y1=\"509\" x2=\"366.6666666666667\" y2=\"372\" stroke=\"black\" stroke-width=\"2\" marker-end=\"url(#arrow)\"><title>Weights from light to hidden\n hidden/kernel has shape (18, 50)\n hidden/bias has shape (50,)</title></line><rect x=\"224.0\" y=\"509\" width=\"102\" height=\"52\" style=\"fill:none;stroke:black;stroke-width:2\"/><image id=\"Robot Prediction Network_light_20\" class=\"Robot Prediction Network_light\" x=\"225.0\" y=\"510\" height=\"50\" width=\"100\" preserveAspectRatio=\"none\" href=\"data:image/gif;base64,R0lGODdhAgABAIcAAP7+/QAAAAAAAAAAAAAAAAAAAAAAAAAAAAAAAAAAAAAAAAAAAAAAAAAAAAAAAAAAAAAAAAAAAAAAAAAAAAAAAAAAAAAAAAAAAAAAAAAAAAAAAAAAAAAAAAAAAAAAAAAAAAAAAAAAAAAAAAAAAAAAAAAAAAAAAAAAAAAAAAAAAAAAAAAAAAAAAAAAAAAAAAAAAAAAAAAAAAAAAAAAAAAAAAAAAAAAAAAAAAAAAAAAAAAAAAAAAAAAAAAAAAAAAAAAAAAAAAAAAAAAAAAAAAAAAAAAAAAAAAAAAAAAAAAAAAAAAAAAAAAAAAAAAAAAAAAAAAAAAAAAAAAAAAAAAAAAAAAAAAAAAAAAAAAAAAAAAAAAAAAAAAAAAAAAAAAAAAAAAAAAAAAAAAAAAAAAAAAAAAAAAAAAAAAAAAAAAAAAAAAAAAAAAAAAAAAAAAAAAAAAAAAAAAAAAAAAAAAAAAAAAAAAAAAAAAAAAAAAAAAAAAAAAAAAAAAAAAAAAAAAAAAAAAAAAAAAAAAAAAAAAAAAAAAAAAAAAAAAAAAAAAAAAAAAAAAAAAAAAAAAAAAAAAAAAAAAAAAAAAAAAAAAAAAAAAAAAAAAAAAAAAAAAAAAAAAAAAAAAAAAAAAAAAAAAAAAAAAAAAAAAAAAAAAAAAAAAAAAAAAAAAAAAAAAAAAAAAAAAAAAAAAAAAAAAAAAAAAAAAAAAAAAAAAAAAAAAAAAAAAAAAAAAAAAAAAAAAAAAAAAAAAAAAAAAAAAAAAAAAAAAAAAAAAAAAAAAAAAAAAAAAAAAAAAAAAAAAAAAAAAAAAAAAAAAAAAAAAAAAAAAAAAAAAAAAAAAAAAAAAAAAAAAAAAAAAAAAAAAAAAAAAAAAAAAAAAAAAAAAAAAAAAAAAAAAAAAAAAAAAAAAAAAAAAAAAAAAAAAAAAAAAAAAAAAAAAAAAAAAAAAAAAAAAAAAAAAAAAAAAAAAAAAAAAAAAAAAAAAAAAAAAAAAAAAAAAAAAAAAAAAAAAAAAAAAAAAAAAACwAAAAAAgABAAAIBQABAAgIADs=\"><title>Layer: light (input)\n shape = (2,)\n Keras class = Input</title></image><text x=\"330.0\" y=\"537.0\" font-family=\"monospace\" font-size=\"12\" text-anchor=\"start\" alignment-baseline=\"central\">light</text><line x1=\"550.0\" y1=\"509\" x2=\"366.6666666666667\" y2=\"372\" stroke=\"black\" stroke-width=\"2\" marker-end=\"url(#arrow)\"><title>Weights from sonar to hidden\n hidden/kernel has shape (18, 50)\n hidden/bias has shape (50,)</title></line><rect x=\"449.0\" y=\"509\" width=\"202\" height=\"27\" style=\"fill:none;stroke:black;stroke-width:2\"/><image id=\"Robot Prediction Network_sonar_21\" class=\"Robot Prediction Network_sonar\" x=\"450.0\" y=\"510\" height=\"25\" width=\"200\" preserveAspectRatio=\"none\" href=\"data:image/gif;base64,R0lGODdhEAABAIcAAP7+/QAAAAAAAAAAAAAAAAAAAAAAAAAAAAAAAAAAAAAAAAAAAAAAAAAAAAAAAAAAAAAAAAAAAAAAAAAAAAAAAAAAAAAAAAAAAAAAAAAAAAAAAAAAAAAAAAAAAAAAAAAAAAAAAAAAAAAAAAAAAAAAAAAAAAAAAAAAAAAAAAAAAAAAAAAAAAAAAAAAAAAAAAAAAAAAAAAAAAAAAAAAAAAAAAAAAAAAAAAAAAAAAAAAAAAAAAAAAAAAAAAAAAAAAAAAAAAAAAAAAAAAAAAAAAAAAAAAAAAAAAAAAAAAAAAAAAAAAAAAAAAAAAAAAAAAAAAAAAAAAAAAAAAAAAAAAAAAAAAAAAAAAAAAAAAAAAAAAAAAAAAAAAAAAAAAAAAAAAAAAAAAAAAAAAAAAAAAAAAAAAAAAAAAAAAAAAAAAAAAAAAAAAAAAAAAAAAAAAAAAAAAAAAAAAAAAAAAAAAAAAAAAAAAAAAAAAAAAAAAAAAAAAAAAAAAAAAAAAAAAAAAAAAAAAAAAAAAAAAAAAAAAAAAAAAAAAAAAAAAAAAAAAAAAAAAAAAAAAAAAAAAAAAAAAAAAAAAAAAAAAAAAAAAAAAAAAAAAAAAAAAAAAAAAAAAAAAAAAAAAAAAAAAAAAAAAAAAAAAAAAAAAAAAAAAAAAAAAAAAAAAAAAAAAAAAAAAAAAAAAAAAAAAAAAAAAAAAAAAAAAAAAAAAAAAAAAAAAAAAAAAAAAAAAAAAAAAAAAAAAAAAAAAAAAAAAAAAAAAAAAAAAAAAAAAAAAAAAAAAAAAAAAAAAAAAAAAAAAAAAAAAAAAAAAAAAAAAAAAAAAAAAAAAAAAAAAAAAAAAAAAAAAAAAAAAAAAAAAAAAAAAAAAAAAAAAAAAAAAAAAAAAAAAAAAAAAAAAAAAAAAAAAAAAAAAAAAAAAAAAAAAAAAAAAAAAAAAAAAAAAAAAAAAAAAAAAAAAAAAAAAAAAAAAAAAAAAAAAAAAAAAAAAAAAAAAAAAAAAAAAAAAAAAAAAAAAAAAAAAACwAAAAAEAABAAAICQABCBxIsCCAgAA7\"><title>Layer: sonar (input)\n shape = (16,)\n Keras class = Input</title></image><text x=\"655.0\" y=\"524.5\" font-family=\"monospace\" font-size=\"12\" text-anchor=\"start\" alignment-baseline=\"central\">sonar</text><line x1=\"825.0\" y1=\"509\" x2=\"733.3333333333334\" y2=\"482\" stroke=\"black\" stroke-width=\"2\" marker-end=\"url(#arrow)\"><title>Weights from camera to conv\n conv/kernel has shape (3, 3, 16, 3)\n conv/bias has shape (16,)</title></line><rect x=\"724.0\" y=\"509\" width=\"202\" height=\"135\" style=\"fill:none;stroke:black;stroke-width:2\"/><image id=\"Robot Prediction Network_camera_22\" class=\"Robot Prediction Network_camera\" x=\"725.0\" y=\"510\" height=\"133\" width=\"200\" preserveAspectRatio=\"none\" href=\"data:image/gif;base64,R0lGODdhPAAoAIcAAAAAAAAAAAAAAAAAAAAAAAAAAAAAAAAAAAAAAAAAAAAAAAAAAAAAAAAAAAAAAAAAAAAAAAAAAAAAAAAAAAAAAAAAAAAAAAAAAAAAAAAAAAAAAAAAAAAAAAAAAAAAAAAAAAAAAAAAAAAAAAAAAAAAAAAAAAAAAAAAAAAAAAAAAAAAAAAAAAAAAAAAAAAAAAAAAAAAAAAAAAAAAAAAAAAAAAAAAAAAAAAAAAAAAAAAAAAAAAAAAAAAAAAAAAAAAAAAAAAAAAAAAAAAAAAAAAAAAAAAAAAAAAAAAAAAAAAAAAAAAAAAAAAAAAAAAAAAAAAAAAAAAAAAAAAAAAAAAAAAAAAAAAAAAAAAAAAAAAAAAAAAAAAAAAAAAAAAAAAAAAAAAAAAAAAAAAAAAAAAAAAAAAAAAAAAAAAAAAAAAAAAAAAAAAAAAAAAAAAAAAAAAAAAAAAAAAAAAAAAAAAAAAAAAAAAAAAAAAAAAAAAAAAAAAAAAAAAAAAAAAAAAAAAAAAAAAAAAAAAAAAAAAAAAAAAAAAAAAAAAAAAAAAAAAAAAAAAAAAAAAAAAAAAAAAAAAAAAAAAAAAAAAAAAAAAAAAAAAAAAAAAAAAAAAAAAAAAAAAAAAAAAAAAAAAAAAAAAAAAAAAAAAAAAAAAAAAAAAAAAAAAAAAAAAAAAAAAAAAAAAAAAAAAAAAAAAAAAAAAAAAAAAAAAAAAAAAAAAAAAAAAAAAAAAAAAAAAAAAAAAAAAAAAAAAAAAAAAAAAAAAAAAAAAAAAAAAAAAAAAAAAAAAAAAAAAAAAAAAAAAAAAAAAAAAAAAAAAAAAAAAAAAAAAAAAAAAAAAAAAAAAAAAAAAAAAAAAAAAAAAAAAAAAAAAAAAAAAAAAAAAAAAAAAAAAAAAAAAAAAAAAAAAAAAAAAAAAAAAAAAAAAAAAAAAAAAAAAAAAAAAAAAAAAAAAAAAAAAAAAAAAAAAAAAAAAAAAAAAAAAAAAAAAAAAAAAAAAAAAAAAAAAAAAAAAAAAAAAAAAAAAACwAAAAAPAAoAEAIUAABCBxIsKDBgwgTKlzIsKHDhxAjSpxIsaLFixgzatzIsaPHjyBDihxJsqTJkyhTqlzJsqXLlzBjypxJs6bNmzhz6tzJs6fPn0CDCh1K1GZAADs=\"><title>Layer: camera (input)\n shape = (40, 60, 3)\n Keras class = Input</title></image><text x=\"930.0\" y=\"578.5\" font-family=\"monospace\" font-size=\"12\" text-anchor=\"start\" alignment-baseline=\"central\">camera</text></svg>"
      }
     },
     "61eac35b32f74f5ab2d21725295d31e1": {
      "model_module": "jupyter-js-widgets",
      "model_module_version": "~2.1.4",
      "model_name": "VBoxModel",
      "state": {
       "_model_module_version": "~2.1.4",
       "_view_module_version": "~2.1.4",
       "children": [
        "IPY_MODEL_2d3f32de44d44efe87244883422618f1",
        "IPY_MODEL_fee8d29b116941e9858463838c21861e"
       ],
       "layout": "IPY_MODEL_2f8451f57ef7450c960274349f6dd8bc"
      }
     },
     "6202a6d6c1504a8e8b84fc1b0033034b": {
      "model_module": "jupyter-js-widgets",
      "model_module_version": "~2.1.4",
      "model_name": "ButtonStyleModel",
      "state": {
       "_model_module_version": "~2.1.4",
       "_view_module_version": "~2.1.4"
      }
     },
     "6218693500d646549dee24cc8b752e95": {
      "model_module": "jupyter-js-widgets",
      "model_module_version": "~2.1.4",
      "model_name": "LayoutModel",
      "state": {
       "_model_module_version": "~2.1.4",
       "_view_module_version": "~2.1.4"
      }
     },
     "62b3988aefa5474887a7e46f78c7fe00": {
      "model_module": "jupyter-js-widgets",
      "model_module_version": "~2.1.4",
      "model_name": "LayoutModel",
      "state": {
       "_model_module_version": "~2.1.4",
       "_view_module_version": "~2.1.4",
       "height": "550px",
       "width": "100%"
      }
     },
     "634d999decb14e5bb4d54ebf15d03817": {
      "model_module": "jupyter-js-widgets",
      "model_module_version": "~2.1.4",
      "model_name": "LayoutModel",
      "state": {
       "_model_module_version": "~2.1.4",
       "_view_module_version": "~2.1.4",
       "height": "550px",
       "width": "100%"
      }
     },
     "6439c21b4d5545d6a60a35f33aa2df6c": {
      "model_module": "jupyter-js-widgets",
      "model_module_version": "~2.1.4",
      "model_name": "LayoutModel",
      "state": {
       "_model_module_version": "~2.1.4",
       "_view_module_version": "~2.1.4"
      }
     },
     "654b168509204cf1970d1d9b750702df": {
      "model_module": "jupyter-js-widgets",
      "model_module_version": "~2.1.4",
      "model_name": "TabModel",
      "state": {
       "_model_module_version": "~2.1.4",
       "_titles": {
        "0": "Network",
        "1": "Graphs",
        "2": "Analysis",
        "3": "Camera",
        "4": "Help"
       },
       "_view_module_version": "~2.1.4",
       "children": [
        "IPY_MODEL_60c15ae33e0f4dcd89947e04c0623d70",
        "IPY_MODEL_c4f0c18229354a52aefad19b2f228b7e",
        "IPY_MODEL_d1ac9c77b4c548628339d02daf4e1b3d",
        "IPY_MODEL_1da709e151e141cb8f23ac3f62a3d103",
        "IPY_MODEL_ba3feba0f8a047b79bf3bdac34de5089"
       ],
       "layout": "IPY_MODEL_d47c7e6d20744bdb9c74e17ce8d1a5a1"
      }
     },
     "65875a34ff4547c497bf2b1e6ba06647": {
      "model_module": "jupyter-js-widgets",
      "model_module_version": "~2.1.4",
      "model_name": "LayoutModel",
      "state": {
       "_model_module_version": "~2.1.4",
       "_view_module_version": "~2.1.4",
       "height": "248px",
       "padding": "0px 0px 0px 0px",
       "width": "10px"
      }
     },
     "66421db7a47b4eb88dae8b5bceca62ae": {
      "model_module": "jupyter-js-widgets",
      "model_module_version": "~2.1.4",
      "model_name": "LayoutModel",
      "state": {
       "_model_module_version": "~2.1.4",
       "_view_module_version": "~2.1.4"
      }
     },
     "66e515675fdb4f14a5d715457944416d": {
      "model_module": "jupyter-js-widgets",
      "model_module_version": "~2.1.4",
      "model_name": "HBoxModel",
      "state": {
       "_model_module_version": "~2.1.4",
       "_view_module_version": "~2.1.4",
       "children": [
        "IPY_MODEL_206eb5365e77458582f036fa0c693f9c",
        "IPY_MODEL_ade847f559c74f248e97c2bd0d306332"
       ],
       "layout": "IPY_MODEL_c0510eae88da421c8be33cdd00c90083"
      }
     },
     "673822554a5b4f77b71300ef1a5c38ed": {
      "model_module": "jupyter-js-widgets",
      "model_module_version": "~2.1.4",
      "model_name": "LayoutModel",
      "state": {
       "_model_module_version": "~2.1.4",
       "_view_module_version": "~2.1.4"
      }
     },
     "67a55c050744463b811104e1a8810fe2": {
      "model_module": "jupyter-js-widgets",
      "model_module_version": "~2.1.4",
      "model_name": "ButtonStyleModel",
      "state": {
       "_model_module_version": "~2.1.4",
       "_view_module_version": "~2.1.4"
      }
     },
     "67c6bd7f0c2a439c96d96b3369853145": {
      "model_module": "jupyter-js-widgets",
      "model_module_version": "~2.1.4",
      "model_name": "LayoutModel",
      "state": {
       "_model_module_version": "~2.1.4",
       "_view_module_version": "~2.1.4",
       "height": "550px",
       "width": "100%"
      }
     },
     "67c85617f7fe4428a9e37a23b645fa3d": {
      "model_module": "jupyter-js-widgets",
      "model_module_version": "~2.1.4",
      "model_name": "VBoxModel",
      "state": {
       "_model_module_version": "~2.1.4",
       "_view_module_version": "~2.1.4",
       "children": [
        "IPY_MODEL_02f3f06b72594f08a438293d0fc1f1de",
        "IPY_MODEL_4a9b3b81438c4eedb34ad8ae4b8edb6a"
       ],
       "layout": "IPY_MODEL_f851645dcaf74c9dba874af79cb111e9"
      }
     },
     "68ff441d022e4595bf8dde7bb5aaa0c1": {
      "model_module": "jupyter-js-widgets",
      "model_module_version": "~2.1.4",
      "model_name": "ButtonModel",
      "state": {
       "_model_module_version": "~2.1.4",
       "_view_module_version": "~2.1.4",
       "icon": "fast-forward",
       "layout": "IPY_MODEL_fb6b5d2aa3ec4b5782e6aa6b18875daa",
       "style": "IPY_MODEL_89231ee03b214df19148dc6aa2d869b1"
      }
     },
     "6924bb4eb58645c48b5288bb4998a322": {
      "model_module": "jupyter-js-widgets",
      "model_module_version": "~2.1.4",
      "model_name": "FloatSliderModel",
      "state": {
       "_model_module_version": "~2.1.4",
       "_view_module_version": "~2.1.4",
       "layout": "IPY_MODEL_df450d3dedf946029c4bcc60d518f404",
       "orientation": "vertical",
       "readout": false,
       "step": 0.1,
       "value": 48.92456926405233
      }
     },
     "6964d82445634633abb28c48104bace1": {
      "model_module": "jupyter-js-widgets",
      "model_module_version": "~2.1.4",
      "model_name": "LayoutModel",
      "state": {
       "_model_module_version": "~2.1.4",
       "_view_module_version": "~2.1.4",
       "height": "30px",
       "padding": "0px 0px 0px 10px",
       "width": "260px"
      }
     },
     "69c5349488fe4fd5870085d0ef912d17": {
      "model_module": "jupyter-js-widgets",
      "model_module_version": "~2.1.4",
      "model_name": "ButtonModel",
      "state": {
       "_model_module_version": "~2.1.4",
       "_view_module_version": "~2.1.4",
       "icon": "step-forward",
       "layout": "IPY_MODEL_5c5e2f2cdc894f58a9cf6ddeef810d66",
       "style": "IPY_MODEL_d42908c798de4580a54511b226cba9e0"
      }
     },
     "69f3614832024eed8bd1eebb8dae7ec0": {
      "model_module": "jupyter-js-widgets",
      "model_module_version": "~2.1.4",
      "model_name": "LayoutModel",
      "state": {
       "_model_module_version": "~2.1.4",
       "_view_module_version": "~2.1.4"
      }
     },
     "6a1c36d537a14334aa534a3c0778a619": {
      "model_module": "jupyter-js-widgets",
      "model_module_version": "~2.1.4",
      "model_name": "LayoutModel",
      "state": {
       "_model_module_version": "~2.1.4",
       "_view_module_version": "~2.1.4"
      }
     },
     "6a1d66147717439f94170709845fc092": {
      "model_module": "jupyter-js-widgets",
      "model_module_version": "~2.1.4",
      "model_name": "LayoutModel",
      "state": {
       "_model_module_version": "~2.1.4",
       "_view_module_version": "~2.1.4"
      }
     },
     "6a98733a2940422eb4d23ed1c18f6009": {
      "model_module": "jupyter-js-widgets",
      "model_module_version": "~2.1.4",
      "model_name": "LayoutModel",
      "state": {
       "_model_module_version": "~2.1.4",
       "_view_module_version": "~2.1.4"
      }
     },
     "6b5b84f5203e4ab297e328bcf8aa9353": {
      "model_module": "jupyter-js-widgets",
      "model_module_version": "~2.1.4",
      "model_name": "LayoutModel",
      "state": {
       "_model_module_version": "~2.1.4",
       "_view_module_version": "~2.1.4",
       "width": "100%"
      }
     },
     "6c1fb1ee96c0431aabcb4d9961a56198": {
      "model_module": "jupyter-js-widgets",
      "model_module_version": "~2.1.4",
      "model_name": "TextModel",
      "state": {
       "_model_module_version": "~2.1.4",
       "_view_module_version": "~2.1.4",
       "description": "Time:",
       "layout": "IPY_MODEL_69f3614832024eed8bd1eebb8dae7ec0",
       "value": "5.10 seconds"
      }
     },
     "6c7ab3ea3b7d4aa08be5901058848a58": {
      "model_module": "jupyter-js-widgets",
      "model_module_version": "~2.1.4",
      "model_name": "LayoutModel",
      "state": {
       "_model_module_version": "~2.1.4",
       "_view_module_version": "~2.1.4",
       "height": "550px",
       "width": "100%"
      }
     },
     "6c90289052504ebda1b3eeffbf52b6d3": {
      "model_module": "jupyter-js-widgets",
      "model_module_version": "~2.1.4",
      "model_name": "LayoutModel",
      "state": {
       "_model_module_version": "~2.1.4",
       "_view_module_version": "~2.1.4"
      }
     },
     "6cb0741a589f42a9a083f2dc9aaf806d": {
      "model_module": "jupyter-js-widgets",
      "model_module_version": "~2.1.4",
      "model_name": "ButtonStyleModel",
      "state": {
       "_model_module_version": "~2.1.4",
       "_view_module_version": "~2.1.4"
      }
     },
     "6cd7da4969e144e1935f2b55b7287fec": {
      "model_module": "jupyter-js-widgets",
      "model_module_version": "~2.1.4",
      "model_name": "LayoutModel",
      "state": {
       "_model_module_version": "~2.1.4",
       "_view_module_version": "~2.1.4",
       "height": "30px",
       "padding": "0px 0px 0px 10px",
       "width": "260px"
      }
     },
     "6d7463063324478486a0e3081eccd9c5": {
      "model_module": "jupyter-js-widgets",
      "model_module_version": "~2.1.4",
      "model_name": "VBoxModel",
      "state": {
       "_model_module_version": "~2.1.4",
       "_view_module_version": "~2.1.4",
       "layout": "IPY_MODEL_e16953d3df5044bc930684ab854f50b9"
      }
     },
     "6dddde359a7b4072a248c52c4704199b": {
      "model_module": "jupyter-js-widgets",
      "model_module_version": "~2.1.4",
      "model_name": "VBoxModel",
      "state": {
       "_model_module_version": "~2.1.4",
       "_view_module_version": "~2.1.4",
       "children": [
        "IPY_MODEL_d3ae30f2f705413faf736c29df9d3f97",
        "IPY_MODEL_08fca8f65a414300bd50f426b235d933"
       ],
       "layout": "IPY_MODEL_97bd06935ff34379925fe9f00b0327d3"
      }
     },
     "6de0589973d9414497ddf70e49bc455d": {
      "model_module": "jupyter-js-widgets",
      "model_module_version": "~2.1.4",
      "model_name": "FloatSliderModel",
      "state": {
       "_model_module_version": "~2.1.4",
       "_view_module_version": "~2.1.4",
       "layout": "IPY_MODEL_209cfd2f4ff34705a13e2fc205c8ca98",
       "readout": false,
       "step": 0.1,
       "value": 69.72887309753511
      }
     },
     "6de6ff40083141eaab453ebb3a032847": {
      "model_module": "jupyter-js-widgets",
      "model_module_version": "~2.1.4",
      "model_name": "LayoutModel",
      "state": {
       "_model_module_version": "~2.1.4",
       "_view_module_version": "~2.1.4",
       "height": "20px",
       "padding": "0px 0px 0px 0px",
       "width": "248px"
      }
     },
     "6fe1973a27dd4776a09e9cb3f8f4d878": {
      "model_module": "jupyter-js-widgets",
      "model_module_version": "~2.1.4",
      "model_name": "HBoxModel",
      "state": {
       "_model_module_version": "~2.1.4",
       "_view_module_version": "~2.1.4",
       "children": [
        "IPY_MODEL_07d28497bb6b48c9b18430c7397aa3a7",
        "IPY_MODEL_8aff7b5bf14d446e8f8db582b39bc19f"
       ],
       "layout": "IPY_MODEL_6a98733a2940422eb4d23ed1c18f6009"
      }
     },
     "6fe7167c53114ebe9281c5a315f8e0ed": {
      "model_module": "jupyter-js-widgets",
      "model_module_version": "~2.1.4",
      "model_name": "LayoutModel",
      "state": {
       "_model_module_version": "~2.1.4",
       "_view_module_version": "~2.1.4",
       "height": "20px",
       "padding": "0px 0px 0px 0px",
       "width": "248px"
      }
     },
     "6ffb25ff31c841f78bdddd0b0df42bb0": {
      "model_module": "jupyter-js-widgets",
      "model_module_version": "~2.1.4",
      "model_name": "ButtonStyleModel",
      "state": {
       "_model_module_version": "~2.1.4",
       "_view_module_version": "~2.1.4"
      }
     },
     "705cbeb75e9842089309867d7e58556e": {
      "model_module": "jupyter-js-widgets",
      "model_module_version": "~2.1.4",
      "model_name": "FloatSliderModel",
      "state": {
       "_model_module_version": "~2.1.4",
       "_view_module_version": "~2.1.4",
       "layout": "IPY_MODEL_6de6ff40083141eaab453ebb3a032847",
       "readout": false,
       "step": 0.1,
       "value": 46.81478849589181
      }
     },
     "714d9bd5445b4d73ad0061ef926e3c56": {
      "model_module": "jupyter-js-widgets",
      "model_module_version": "~2.1.4",
      "model_name": "LayoutModel",
      "state": {
       "_model_module_version": "~2.1.4",
       "_view_module_version": "~2.1.4"
      }
     },
     "723bd940d4e34fe2b0bfa96dc67f3ab4": {
      "model_module": "jupyter-js-widgets",
      "model_module_version": "~2.1.4",
      "model_name": "LayoutModel",
      "state": {
       "_model_module_version": "~2.1.4",
       "_view_module_version": "~2.1.4"
      }
     },
     "723c435d28f4426cafe8800908f43eb3": {
      "model_module": "jupyter-js-widgets",
      "model_module_version": "~2.1.4",
      "model_name": "LayoutModel",
      "state": {
       "_model_module_version": "~2.1.4",
       "_view_module_version": "~2.1.4",
       "width": "100%"
      }
     },
     "744eb6ad47ef4f26ac8d18fe4da06e02": {
      "model_module": "jupyter-js-widgets",
      "model_module_version": "~2.1.4",
      "model_name": "FloatSliderModel",
      "state": {
       "_model_module_version": "~2.1.4",
       "_view_module_version": "~2.1.4",
       "layout": "IPY_MODEL_83b2e00fa0ea45a3bcf61cdc97ffe634",
       "readout": false,
       "step": 0.1,
       "value": 99.44295769917836
      }
     },
     "747d303ec44f43c78c2b94ad090cb3a9": {
      "model_module": "jupyter-js-widgets",
      "model_module_version": "~2.1.4",
      "model_name": "VBoxModel",
      "state": {
       "_model_module_version": "~2.1.4",
       "_view_module_version": "~2.1.4",
       "children": [
        "IPY_MODEL_e2140d3172b24d9195269ff6ef27d283",
        "IPY_MODEL_4e9568fae1404547a558115800e9fa69",
        "IPY_MODEL_7bf0224891ae40efa34c3fde81ce697b"
       ],
       "layout": "IPY_MODEL_9e3ab9cb1b1b46ef9d10f126d491a3f8"
      }
     },
     "7517d6bec92b47d382df2a2655e50b03": {
      "model_module": "jupyter-js-widgets",
      "model_module_version": "~2.1.4",
      "model_name": "VBoxModel",
      "state": {
       "_model_module_version": "~2.1.4",
       "_view_module_version": "~2.1.4",
       "children": [
        "IPY_MODEL_c93c053aeec24c0d85d6ec05aceab5aa",
        "IPY_MODEL_9e83babd13c0412993a5408f1109e0ee"
       ],
       "layout": "IPY_MODEL_3be1d609940847a0adeed2d9f7502f12"
      }
     },
     "754b70ef67e94c82acc6fffe105cc8ea": {
      "model_module": "jupyter-js-widgets",
      "model_module_version": "~2.1.4",
      "model_name": "ButtonStyleModel",
      "state": {
       "_model_module_version": "~2.1.4",
       "_view_module_version": "~2.1.4"
      }
     },
     "758e670a5a4e4977b531170182809e91": {
      "model_module": "jupyter-js-widgets",
      "model_module_version": "~2.1.4",
      "model_name": "LayoutModel",
      "state": {
       "_model_module_version": "~2.1.4",
       "_view_module_version": "~2.1.4"
      }
     },
     "766e06552e8e4ee78b850cc1cb9c9c95": {
      "model_module": "jupyter-js-widgets",
      "model_module_version": "~2.1.4",
      "model_name": "LayoutModel",
      "state": {
       "_model_module_version": "~2.1.4",
       "_view_module_version": "~2.1.4",
       "width": "100%"
      }
     },
     "76a101c21c3c40e4994292ffd9b44f5e": {
      "model_module": "jupyter-js-widgets",
      "model_module_version": "~2.1.4",
      "model_name": "LayoutModel",
      "state": {
       "_model_module_version": "~2.1.4",
       "_view_module_version": "~2.1.4",
       "height": "550px",
       "width": "100%"
      }
     },
     "772d3d5352374743af7e9176440a355a": {
      "model_module": "jupyter-js-widgets",
      "model_module_version": "~2.1.4",
      "model_name": "LayoutModel",
      "state": {
       "_model_module_version": "~2.1.4",
       "_view_module_version": "~2.1.4"
      }
     },
     "773bb08dd51540b585f019e37894db1c": {
      "model_module": "jupyter-js-widgets",
      "model_module_version": "~2.1.4",
      "model_name": "LayoutModel",
      "state": {
       "_model_module_version": "~2.1.4",
       "_view_module_version": "~2.1.4",
       "width": "100%"
      }
     },
     "774c56c4a18049ff999abbc1bbf91d6e": {
      "model_module": "jupyter-js-widgets",
      "model_module_version": "~2.1.4",
      "model_name": "LayoutModel",
      "state": {
       "_model_module_version": "~2.1.4",
       "_view_module_version": "~2.1.4"
      }
     },
     "7775534407de43008b80d006ebfc07a7": {
      "model_module": "jupyter-js-widgets",
      "model_module_version": "~2.1.4",
      "model_name": "LayoutModel",
      "state": {
       "_model_module_version": "~2.1.4",
       "_view_module_version": "~2.1.4",
       "height": "30px",
       "padding": "0px 0px 0px 10px",
       "width": "260px"
      }
     },
     "77ed66ecbd1447fcbe92423805e770f0": {
      "model_module": "jupyter-js-widgets",
      "model_module_version": "~2.1.4",
      "model_name": "FloatSliderModel",
      "state": {
       "_model_module_version": "~2.1.4",
       "_view_module_version": "~2.1.4",
       "layout": "IPY_MODEL_ffb03ed6e0554286924653ae544850fb",
       "orientation": "vertical",
       "readout": false,
       "step": 0.1,
       "value": 21.897680348714914
      }
     },
     "783805096f7340c5bc6a6369b5efef9a": {
      "model_module": "jupyter-js-widgets",
      "model_module_version": "~2.1.4",
      "model_name": "LayoutModel",
      "state": {
       "_model_module_version": "~2.1.4",
       "_view_module_version": "~2.1.4"
      }
     },
     "785d37c86afc464596dbbf9d04a35207": {
      "model_module": "jupyter-js-widgets",
      "model_module_version": "~2.1.4",
      "model_name": "VBoxModel",
      "state": {
       "_model_module_version": "~2.1.4",
       "_view_module_version": "~2.1.4",
       "children": [
        "IPY_MODEL_9e26346e73704f85baafc6b5f599cda6",
        "IPY_MODEL_efeb4ea76c0e40c497981d2d97516403"
       ],
       "layout": "IPY_MODEL_e40dcab14155479b9b2f6be508a3342e"
      }
     },
     "78828c9a43184bf88bfd3f7201c793a6": {
      "model_module": "jupyter-js-widgets",
      "model_module_version": "~2.1.4",
      "model_name": "LayoutModel",
      "state": {
       "_model_module_version": "~2.1.4",
       "_view_module_version": "~2.1.4"
      }
     },
     "78cc6dd493904a92b3059eca45ed179a": {
      "model_module": "jupyter-js-widgets",
      "model_module_version": "~2.1.4",
      "model_name": "LayoutModel",
      "state": {
       "_model_module_version": "~2.1.4",
       "_view_module_version": "~2.1.4"
      }
     },
     "7913ae458a1d4d9a9b70f76aba0ee683": {
      "model_module": "jupyter-js-widgets",
      "model_module_version": "~2.1.4",
      "model_name": "LayoutModel",
      "state": {
       "_model_module_version": "~2.1.4",
       "_view_module_version": "~2.1.4"
      }
     },
     "79493b878a724c55a2d6c5b83092f21d": {
      "model_module": "jupyter-js-widgets",
      "model_module_version": "~2.1.4",
      "model_name": "LayoutModel",
      "state": {
       "_model_module_version": "~2.1.4",
       "_view_module_version": "~2.1.4",
       "width": "100%"
      }
     },
     "79b66fd647504f72a9194c54c66bbcaf": {
      "model_module": "jupyter-js-widgets",
      "model_module_version": "~2.1.4",
      "model_name": "ButtonModel",
      "state": {
       "_model_module_version": "~2.1.4",
       "_view_module_version": "~2.1.4",
       "icon": "fast-backward",
       "layout": "IPY_MODEL_b2e6e7e333454f44b344d6b925b31835",
       "style": "IPY_MODEL_754b70ef67e94c82acc6fffe105cc8ea"
      }
     },
     "79bbe560b16d48eaaf40c8a386a908c7": {
      "model_module": "jupyter-js-widgets",
      "model_module_version": "~2.1.4",
      "model_name": "LayoutModel",
      "state": {
       "_model_module_version": "~2.1.4",
       "_view_module_version": "~2.1.4"
      }
     },
     "79c32327eb4f45bcb3ec51639d21e52e": {
      "model_module": "jupyter-js-widgets",
      "model_module_version": "~2.1.4",
      "model_name": "LayoutModel",
      "state": {
       "_model_module_version": "~2.1.4",
       "_view_module_version": "~2.1.4"
      }
     },
     "7a8425091ea94b01af8ae363b541e900": {
      "model_module": "jupyter-js-widgets",
      "model_module_version": "~2.1.4",
      "model_name": "ButtonStyleModel",
      "state": {
       "_model_module_version": "~2.1.4",
       "_view_module_version": "~2.1.4"
      }
     },
     "7b016b0d29b64972997b9020debd725d": {
      "model_module": "jupyter-js-widgets",
      "model_module_version": "~2.1.4",
      "model_name": "LayoutModel",
      "state": {
       "_model_module_version": "~2.1.4",
       "_view_module_version": "~2.1.4",
       "width": "100%"
      }
     },
     "7b0b40de51364c20bc0b90e9549898d4": {
      "model_module": "jupyter-js-widgets",
      "model_module_version": "~2.1.4",
      "model_name": "LayoutModel",
      "state": {
       "_model_module_version": "~2.1.4",
       "_view_module_version": "~2.1.4"
      }
     },
     "7b11a845201d43ca9b4f6b78ab593853": {
      "model_module": "jupyter-js-widgets",
      "model_module_version": "~2.1.4",
      "model_name": "ButtonModel",
      "state": {
       "_model_module_version": "~2.1.4",
       "_view_module_version": "~2.1.4",
       "description": "Train",
       "layout": "IPY_MODEL_87b9e4d746f140a187c569105b2a299d",
       "style": "IPY_MODEL_1790762ff746428983f528b65797f25e"
      }
     },
     "7bd6738ef9f547d3a272a4e7030fdc54": {
      "model_module": "jupyter-js-widgets",
      "model_module_version": "~2.1.4",
      "model_name": "LayoutModel",
      "state": {
       "_model_module_version": "~2.1.4",
       "_view_module_version": "~2.1.4",
       "width": "100%"
      }
     },
     "7bf0224891ae40efa34c3fde81ce697b": {
      "model_module": "jupyter-js-widgets",
      "model_module_version": "~2.1.4",
      "model_name": "OutputModel",
      "state": {
       "_dom_classes": [],
       "_model_module": "jupyter-js-widgets",
       "_model_module_version": "~2.1.4",
       "_view_module": "jupyter-js-widgets",
       "_view_module_version": "~2.1.4",
       "layout": "IPY_MODEL_464244a89c9148dca7b1e6841c254c30",
       "msg_throttle": 1
      }
     },
     "7bf6827bd62a41ff9f2b6738c2a3e5b0": {
      "model_module": "jupyter-js-widgets",
      "model_module_version": "~2.1.4",
      "model_name": "FloatSliderModel",
      "state": {
       "_model_module_version": "~2.1.4",
       "_view_module_version": "~2.1.4",
       "layout": "IPY_MODEL_ec5910f59dc448db85d33b40ce907f95",
       "orientation": "vertical",
       "readout": false,
       "step": 0.1,
       "value": 51.24999999999999
      }
     },
     "7c5d43fa53eb4c7f810537598cc57d66": {
      "model_module": "jupyter-js-widgets",
      "model_module_version": "~2.1.4",
      "model_name": "ImageModel",
      "state": {
       "_b64value": "iVBORw0KGgoAAAANSUhEUgAAADwAAAAoCAIAAAAt2Q6oAAABP0lEQVR4nO2YLw7CMBTGX8kkBotF7ARcZCdAkWGwmO0QuDlOAIIToDkBCCyGBAT4IkqWJcuWvj8dvLBP7U/39bevr21Ssz1dQZsG3wagqIfuSpGUURKPm17tzsLThgvdwlpvI0XPKg8fYk77JhGTJnfvPmRGTkmaHxjTAQ0tNcQcHxy0FDHTTeU6jYCWjZnj6QsdgpjsHN0OewAwxpSPrLXVFp/bmAsnKJU17bW5pOkiKEQSj/M8g8qAV0fbWutu3cV0ttSX9HGz1gcNSmu6h+5KPXRX0ge9yuamKArw2MaD7i+P1wXVXl/SAGDuT6+/HA0n4SBCJY319RfBGVEeIbhpniprGgctGzbZDZ20FDfHh1IefG6mA/FYzPVKWAdFBoo1EbEEUqXFPeotOVpSF18rxQ7Vw+0+df3BOv0jegN/hnOcQyhf3QAAAABJRU5ErkJggg==",
       "_model_module_version": "~2.1.4",
       "_view_module_version": "~2.1.4",
       "layout": "IPY_MODEL_871e3e47c1144a59ba7fe090583be191",
       "width": "240"
      }
     },
     "7c9224ddfd4740de86ed61ae0e6dc54e": {
      "model_module": "jupyter-js-widgets",
      "model_module_version": "~2.1.4",
      "model_name": "ButtonStyleModel",
      "state": {
       "_model_module_version": "~2.1.4",
       "_view_module_version": "~2.1.4"
      }
     },
     "7ca310950d974119900a3d90e7cf09e0": {
      "model_module": "jupyter-js-widgets",
      "model_module_version": "~2.1.4",
      "model_name": "LayoutModel",
      "state": {
       "_model_module_version": "~2.1.4",
       "_view_module_version": "~2.1.4",
       "width": "100%"
      }
     },
     "7d545cf4e585487eb8d7fad3ac0766ab": {
      "model_module": "jupyter-js-widgets",
      "model_module_version": "~2.1.4",
      "model_name": "VBoxModel",
      "state": {
       "_model_module_version": "~2.1.4",
       "_view_module_version": "~2.1.4",
       "children": [
        "IPY_MODEL_c0ef97b2ba104171a248151e9d344106",
        "IPY_MODEL_c80fcd534b13487ea2776710489f033a"
       ],
       "layout": "IPY_MODEL_6c90289052504ebda1b3eeffbf52b6d3"
      }
     },
     "7e3f3ecd48fe4affb6651d8b96c0f375": {
      "model_module": "jupyter-js-widgets",
      "model_module_version": "~2.1.4",
      "model_name": "ButtonStyleModel",
      "state": {
       "_model_module_version": "~2.1.4",
       "_view_module_version": "~2.1.4"
      }
     },
     "7ff97030d933495a945213074b65096f": {
      "model_module": "jupyter-js-widgets",
      "model_module_version": "~2.1.4",
      "model_name": "ButtonModel",
      "state": {
       "_model_module_version": "~2.1.4",
       "_view_module_version": "~2.1.4",
       "description": "Train",
       "layout": "IPY_MODEL_7ca310950d974119900a3d90e7cf09e0",
       "style": "IPY_MODEL_7a8425091ea94b01af8ae363b541e900"
      }
     },
     "80659753bb174d0e9b9bfcbdfa182899": {
      "model_module": "jupyter-js-widgets",
      "model_module_version": "~2.1.4",
      "model_name": "LayoutModel",
      "state": {
       "_model_module_version": "~2.1.4",
       "_view_module_version": "~2.1.4"
      }
     },
     "808d5264e24a480dadccb8c67688b1c1": {
      "model_module": "jupyter-js-widgets",
      "model_module_version": "~2.1.4",
      "model_name": "LayoutModel",
      "state": {
       "_model_module_version": "~2.1.4",
       "_view_module_version": "~2.1.4"
      }
     },
     "8173aba87abd4ec2a1e6f21c62f7f1f7": {
      "model_module": "jupyter-js-widgets",
      "model_module_version": "~2.1.4",
      "model_name": "HTMLModel",
      "state": {
       "_model_module_version": "~2.1.4",
       "_view_module_version": "~2.1.4",
       "layout": "IPY_MODEL_8b234aef3c4f40b4b3ebc6223e580830",
       "value": "<svg baseProfile=\"full\" height=\"240\" version=\"1.1\" width=\"240\" xmlns=\"http://www.w3.org/2000/svg\" xmlns:ev=\"http://www.w3.org/2001/xml-events\" xmlns:xlink=\"http://www.w3.org/1999/xlink\"><defs /><rect fill=\"white\" height=\"240\" stroke=\"#000000\" stroke-width=\"1\" width=\"240\" x=\"0\" y=\"0\" /><rect fill=\"#eef3dd\" height=\"240.0\" stroke=\"#bebebe\" stroke-width=\"1\" width=\"240.0\" x=\"0.0\" y=\"0.0\" /><circle cx=\"120.0\" cy=\"195.0\" fill=\"#ffff00\" r=\"15.0\" stroke=\"#ffff00\" stroke-width=\"1\" /><line fill=\"#800080\" stroke=\"#add8e6\" stroke-width=\"1\" x1=\"199.29647346587737\" x2=\"0.0\" y1=\"111.37109959820461\" y2=\"118.34932799999999\" /><line fill=\"#800080\" stroke=\"#add8e6\" stroke-width=\"1\" x1=\"200.64858482032437\" x2=\"0.0\" y1=\"107.12118255369946\" y2=\"21.973026000000004\" /><line fill=\"#800080\" stroke=\"#add8e6\" stroke-width=\"1\" x1=\"202.98412783209295\" x2=\"108.20933355871675\" y1=\"105.23830209010676\" y2=\"0.0\" /><line fill=\"#800080\" stroke=\"#add8e6\" stroke-width=\"1\" x1=\"206.529433775271\" x2=\"174.84110042201567\" y1=\"103.61324646974592\" y2=\"0.0\" /><line fill=\"#800080\" stroke=\"#add8e6\" stroke-width=\"1\" x1=\"212.52575915041191\" x2=\"236.38811675880686\" y1=\"103.4032893421199\" y2=\"0.0\" /><line fill=\"#800080\" stroke=\"#add8e6\" stroke-width=\"1\" x1=\"216.176043657403\" x2=\"240.0\" y1=\"104.77639640932952\" y2=\"74.27725800000002\" /><line fill=\"#800080\" stroke=\"#add8e6\" stroke-width=\"1\" x1=\"218.63756094574717\" x2=\"240.0\" y1=\"106.49131117082139\" y2=\"95.60408999999999\" /><line fill=\"#800080\" stroke=\"#add8e6\" stroke-width=\"1\" x1=\"220.28361227887063\" x2=\"240.0\" y1=\"110.63624965151354\" y2=\"109.94589599999998\" /><line fill=\"#800080\" stroke=\"#add8e6\" stroke-width=\"1\" x1=\"220.70352653412263\" x2=\"240.0\" y1=\"122.62890040179542\" y2=\"121.95324600000001\" /><line fill=\"#800080\" stroke=\"#add8e6\" stroke-width=\"1\" x1=\"219.35141517967563\" x2=\"240.0\" y1=\"126.87881744630057\" y2=\"135.641346\" /><line fill=\"#800080\" stroke=\"#add8e6\" stroke-width=\"1\" x1=\"217.01587216790705\" x2=\"240.0\" y1=\"128.76169790989326\" y2=\"154.283364\" /><line fill=\"#800080\" stroke=\"#add8e6\" stroke-width=\"1\" x1=\"213.470566224729\" x2=\"240.0\" y1=\"130.3867535302541\" y2=\"217.131636\" /><line fill=\"#800080\" stroke=\"#add8e6\" stroke-width=\"1\" x1=\"207.47424084958809\" x2=\"182.22726449088904\" y1=\"130.59671065788012\" y2=\"240.0\" /><line fill=\"#800080\" stroke=\"#add8e6\" stroke-width=\"1\" x1=\"203.823956342597\" x2=\"117.29260723482744\" y1=\"129.2236035906705\" y2=\"240.0\" /><line fill=\"#800080\" stroke=\"#add8e6\" stroke-width=\"1\" x1=\"201.36243905425283\" x2=\"0.0\" y1=\"127.50868882917862\" y2=\"230.131668\" /><line fill=\"#800080\" stroke=\"#add8e6\" stroke-width=\"1\" x1=\"199.71638772112937\" x2=\"0.0\" y1=\"123.36375034848649\" y2=\"130.356678\" /><line fill=\"#800080\" stroke=\"#a020f0\" stroke-width=\"1\" x1=\"210.0\" x2=\"0.0\" y1=\"117.00000000000001\" y2=\"5.366183999999992\" /><line fill=\"#800080\" stroke=\"#a020f0\" stroke-width=\"1\" x1=\"210.0\" x2=\"240.0\" y1=\"117.00000000000001\" y2=\"98.250024\" /><line fill=\"#800080\" stroke=\"#ffa500\" stroke-width=\"1\" x1=\"120.0\" x2=\"199.03402705634483\" y1=\"195.0\" y2=\"103.87569287927845\" /><line fill=\"#800080\" stroke=\"#ffa500\" stroke-width=\"1\" x1=\"120.0\" x2=\"220.02116586933806\" y1=\"195.0\" y2=\"103.14084293258738\" /><polygon fill=\"red\" points=\"204.7305361627287,103.67623360803373 199.19149490206433,108.37293691063414 199.82136628494237,126.36191303605695 205.67534323704578,130.65969779616793 215.2694638372713,130.3237663919663 220.80850509793567,125.62706308936588 220.17863371505763,107.63808696394308 214.32465676295422,103.3403022038321\" stroke=\"red\" stroke-width=\"1\" /><polygon points=\"-3.0,-3.0 0,0 3.0,-3.0 0,3.0\" stroke=\"black\" stroke-width=\"1\" transform=\"translate(210.0,117.00000000000001) rotate(177.9946477170421)\" /><polygon fill=\"black\" points=\"213.30385524640815,108.4791701982271 213.47182094850893,113.27623049833983 206.2762304983398,113.52817905149107 206.108264796239,108.73111875137835\" stroke=\"black\" stroke-width=\"1\" /><circle cx=\"199.03402705634483\" cy=\"103.87569287927845\" fill=\"yellow\" r=\"1.5\" stroke=\"orange\" stroke-width=\"1\" /><circle cx=\"220.02116586933806\" cy=\"103.14084293258738\" fill=\"yellow\" r=\"1.5\" stroke=\"orange\" stroke-width=\"1\" /></svg>"
      }
     },
     "81f2b32f28e14c978b70b750af97c9d5": {
      "model_module": "jupyter-js-widgets",
      "model_module_version": "~2.1.4",
      "model_name": "LayoutModel",
      "state": {
       "_model_module_version": "~2.1.4",
       "_view_module_version": "~2.1.4"
      }
     },
     "82623d3f248a45f28312513137c54a2e": {
      "model_module": "jupyter-js-widgets",
      "model_module_version": "~2.1.4",
      "model_name": "FloatSliderModel",
      "state": {
       "_model_module_version": "~2.1.4",
       "_view_module_version": "~2.1.4",
       "layout": "IPY_MODEL_b394a032f84946c2892947595f72d34e",
       "readout": false,
       "step": 0.1,
       "value": 87.5
      }
     },
     "82ae9e368c1a41828174b428f4525ded": {
      "model_module": "jupyter-js-widgets",
      "model_module_version": "~2.1.4",
      "model_name": "HBoxModel",
      "state": {
       "_model_module_version": "~2.1.4",
       "_view_module_version": "~2.1.4",
       "children": [
        "IPY_MODEL_1a8cb428dc7e4ae18c356d955cce03fe",
        "IPY_MODEL_6c1fb1ee96c0431aabcb4d9961a56198"
       ],
       "layout": "IPY_MODEL_bee2830883644841a5229a0f27be4579"
      }
     },
     "82ee3b1ed0ae41d6bac7d467de4595f7": {
      "model_module": "jupyter-js-widgets",
      "model_module_version": "~2.1.4",
      "model_name": "LayoutModel",
      "state": {
       "_model_module_version": "~2.1.4",
       "_view_module_version": "~2.1.4",
       "height": "20px",
       "padding": "0px 0px 0px 0px",
       "width": "248px"
      }
     },
     "8304fed3c1244b31bbfd9c5bde9a4d0f": {
      "model_module": "jupyter-js-widgets",
      "model_module_version": "~2.1.4",
      "model_name": "HTMLModel",
      "state": {
       "_model_module_version": "~2.1.4",
       "_view_module_version": "~2.1.4",
       "layout": "IPY_MODEL_87cc76c842fa42449c9f0b9ddd095f29",
       "value": "<iframe style=\"width: 960px\" src=\"https://conx.readthedocs.io\" width=\"100%\" height=\"550px\"></frame>"
      }
     },
     "830b8fc906b84685a41596f95ded5b7d": {
      "model_module": "jupyter-js-widgets",
      "model_module_version": "~2.1.4",
      "model_name": "TextModel",
      "state": {
       "_model_module_version": "~2.1.4",
       "_view_module_version": "~2.1.4",
       "description": "Time:",
       "layout": "IPY_MODEL_2829753797c1417c83cc6983cacdacdf",
       "value": "47.60 seconds"
      }
     },
     "83a3a1ebedb140b1b813cd9e5d55c9a7": {
      "model_module": "jupyter-js-widgets",
      "model_module_version": "~2.1.4",
      "model_name": "LayoutModel",
      "state": {
       "_model_module_version": "~2.1.4",
       "_view_module_version": "~2.1.4"
      }
     },
     "83b2e00fa0ea45a3bcf61cdc97ffe634": {
      "model_module": "jupyter-js-widgets",
      "model_module_version": "~2.1.4",
      "model_name": "LayoutModel",
      "state": {
       "_model_module_version": "~2.1.4",
       "_view_module_version": "~2.1.4",
       "height": "20px",
       "padding": "0px 0px 0px 0px",
       "width": "248px"
      }
     },
     "84496272d1174e05b71b2eafc7b86ab5": {
      "model_module": "jupyter-js-widgets",
      "model_module_version": "~2.1.4",
      "model_name": "LayoutModel",
      "state": {
       "_model_module_version": "~2.1.4",
       "_view_module_version": "~2.1.4"
      }
     },
     "8503d5ed7328453b9863264441798bcf": {
      "model_module": "jupyter-js-widgets",
      "model_module_version": "~2.1.4",
      "model_name": "LayoutModel",
      "state": {
       "_model_module_version": "~2.1.4",
       "_view_module_version": "~2.1.4"
      }
     },
     "8530b0f3230a4288a49a951229e523e7": {
      "model_module": "jupyter-js-widgets",
      "model_module_version": "~2.1.4",
      "model_name": "HBoxModel",
      "state": {
       "_model_module_version": "~2.1.4",
       "_view_module_version": "~2.1.4",
       "children": [
        "IPY_MODEL_61eac35b32f74f5ab2d21725295d31e1",
        "IPY_MODEL_88aa6cd3771d47d1b6ed886809821467"
       ],
       "layout": "IPY_MODEL_3dab8f9a8cb74ec6a65f74968dc53d92"
      }
     },
     "85c42665bb2f469aade0039c12a3de80": {
      "model_module": "jupyter-js-widgets",
      "model_module_version": "~2.1.4",
      "model_name": "LayoutModel",
      "state": {
       "_model_module_version": "~2.1.4",
       "_view_module_version": "~2.1.4"
      }
     },
     "861234e339c2434088e19ebc15208722": {
      "model_module": "jupyter-js-widgets",
      "model_module_version": "~2.1.4",
      "model_name": "VBoxModel",
      "state": {
       "_model_module_version": "~2.1.4",
       "_view_module_version": "~2.1.4",
       "children": [
        "IPY_MODEL_ff06691bd8a842b0a397b7c5487edeff",
        "IPY_MODEL_00c73ff2203a423f90ef5a3a17842b50"
       ],
       "layout": "IPY_MODEL_ea497acfffca4f79b896a0abf743ebc1"
      }
     },
     "86148caeb195421eb3a35fa905589b55": {
      "model_module": "jupyter-js-widgets",
      "model_module_version": "~2.1.4",
      "model_name": "LayoutModel",
      "state": {
       "_model_module_version": "~2.1.4",
       "_view_module_version": "~2.1.4",
       "width": "100%"
      }
     },
     "8655181bf26a49bd9b338600dfbd548a": {
      "model_module": "jupyter-js-widgets",
      "model_module_version": "~2.1.4",
      "model_name": "LayoutModel",
      "state": {
       "_model_module_version": "~2.1.4",
       "_view_module_version": "~2.1.4"
      }
     },
     "871e3e47c1144a59ba7fe090583be191": {
      "model_module": "jupyter-js-widgets",
      "model_module_version": "~2.1.4",
      "model_name": "LayoutModel",
      "state": {
       "_model_module_version": "~2.1.4",
       "_view_module_version": "~2.1.4"
      }
     },
     "87735b19fc9144b497c1b6db27c01f7a": {
      "model_module": "jupyter-js-widgets",
      "model_module_version": "~2.1.4",
      "model_name": "TextModel",
      "state": {
       "_model_module_version": "~2.1.4",
       "_view_module_version": "~2.1.4",
       "description": "Time:",
       "layout": "IPY_MODEL_e6bc6f14e16848ffa7c0692050d344e5",
       "value": "0.20 seconds"
      }
     },
     "8774e657dae74270bae67ae23992be4a": {
      "model_module": "jupyter-js-widgets",
      "model_module_version": "~2.1.4",
      "model_name": "LayoutModel",
      "state": {
       "_model_module_version": "~2.1.4",
       "_view_module_version": "~2.1.4"
      }
     },
     "87b9e4d746f140a187c569105b2a299d": {
      "model_module": "jupyter-js-widgets",
      "model_module_version": "~2.1.4",
      "model_name": "LayoutModel",
      "state": {
       "_model_module_version": "~2.1.4",
       "_view_module_version": "~2.1.4",
       "width": "100%"
      }
     },
     "87cc76c842fa42449c9f0b9ddd095f29": {
      "model_module": "jupyter-js-widgets",
      "model_module_version": "~2.1.4",
      "model_name": "LayoutModel",
      "state": {
       "_model_module_version": "~2.1.4",
       "_view_module_version": "~2.1.4",
       "height": "550px",
       "width": "100%"
      }
     },
     "87d3dc9f1542400ab98fe43c11750307": {
      "model_module": "jupyter-js-widgets",
      "model_module_version": "~2.1.4",
      "model_name": "LayoutModel",
      "state": {
       "_model_module_version": "~2.1.4",
       "_view_module_version": "~2.1.4",
       "height": "30px",
       "padding": "0px 0px 0px 10px",
       "width": "260px"
      }
     },
     "8803f8cb020a4e51983bb6cd4310c9b3": {
      "model_module": "jupyter-js-widgets",
      "model_module_version": "~2.1.4",
      "model_name": "ButtonModel",
      "state": {
       "_model_module_version": "~2.1.4",
       "_view_module_version": "~2.1.4",
       "description": "Clear",
       "layout": "IPY_MODEL_357940d3295e4de5a0cae8b57db50e55",
       "style": "IPY_MODEL_0a75a2ce788240bdae0f1bdf547a33df"
      }
     },
     "883d457f96dd40a28f0864160d155392": {
      "model_module": "jupyter-js-widgets",
      "model_module_version": "~2.1.4",
      "model_name": "TextModel",
      "state": {
       "_model_module_version": "~2.1.4",
       "_view_module_version": "~2.1.4",
       "description": "Time:",
       "layout": "IPY_MODEL_b528bf48751b4feca2df5b223b0c2ebe",
       "value": "0.10 seconds"
      }
     },
     "88aa6cd3771d47d1b6ed886809821467": {
      "model_module": "jupyter-js-widgets",
      "model_module_version": "~2.1.4",
      "model_name": "VBoxModel",
      "state": {
       "_model_module_version": "~2.1.4",
       "_view_module_version": "~2.1.4",
       "children": [
        "IPY_MODEL_7c5d43fa53eb4c7f810537598cc57d66",
        "IPY_MODEL_1e8c1f2c3e354fdba261615dd10db74d"
       ],
       "layout": "IPY_MODEL_0aa31e53c97b43e1923063a606f8b57d"
      }
     },
     "89231ee03b214df19148dc6aa2d869b1": {
      "model_module": "jupyter-js-widgets",
      "model_module_version": "~2.1.4",
      "model_name": "ButtonStyleModel",
      "state": {
       "_model_module_version": "~2.1.4",
       "_view_module_version": "~2.1.4"
      }
     },
     "892dae8e6f6f49169d340ad3fbe50e82": {
      "model_module": "jupyter-js-widgets",
      "model_module_version": "~2.1.4",
      "model_name": "LayoutModel",
      "state": {
       "_model_module_version": "~2.1.4",
       "_view_module_version": "~2.1.4"
      }
     },
     "89a7197a2de64ac386e8ec176e07d716": {
      "model_module": "jupyter-js-widgets",
      "model_module_version": "~2.1.4",
      "model_name": "LayoutModel",
      "state": {
       "_model_module_version": "~2.1.4",
       "_view_module_version": "~2.1.4",
       "width": "100%"
      }
     },
     "89bd0aab9a70400c88b5988f6d97bcdc": {
      "model_module": "jupyter-js-widgets",
      "model_module_version": "~2.1.4",
      "model_name": "VBoxModel",
      "state": {
       "_model_module_version": "~2.1.4",
       "_view_module_version": "~2.1.4",
       "children": [
        "IPY_MODEL_ea90aa988bf248db922f39f45bc48b47",
        "IPY_MODEL_94ff946f682845c2b21e319ebd17f139"
       ],
       "layout": "IPY_MODEL_6094da19fa6d47e78129dd4e7d7a729d"
      }
     },
     "89db76598a0f40ddb3a62561bcf4021b": {
      "model_module": "jupyter-js-widgets",
      "model_module_version": "~2.1.4",
      "model_name": "LayoutModel",
      "state": {
       "_model_module_version": "~2.1.4",
       "_view_module_version": "~2.1.4",
       "height": "248px",
       "padding": "0px 0px 0px 0px",
       "width": "10px"
      }
     },
     "8a0201e7e31a4aec8addc6636a950535": {
      "model_module": "jupyter-js-widgets",
      "model_module_version": "~2.1.4",
      "model_name": "LayoutModel",
      "state": {
       "_model_module_version": "~2.1.4",
       "_view_module_version": "~2.1.4"
      }
     },
     "8a223dd3671846efa2095a2f2c3f705b": {
      "model_module": "jupyter-js-widgets",
      "model_module_version": "~2.1.4",
      "model_name": "ButtonModel",
      "state": {
       "_model_module_version": "~2.1.4",
       "_view_module_version": "~2.1.4",
       "icon": "forward",
       "layout": "IPY_MODEL_cc4f24858a8846f7b28f5f7ca0dab8dc",
       "style": "IPY_MODEL_6202a6d6c1504a8e8b84fc1b0033034b"
      }
     },
     "8a51225578dc4ae588af7f3d363cf766": {
      "model_module": "jupyter-js-widgets",
      "model_module_version": "~2.1.4",
      "model_name": "ButtonModel",
      "state": {
       "_model_module_version": "~2.1.4",
       "_view_module_version": "~2.1.4",
       "description": "Turn on webcamera",
       "layout": "IPY_MODEL_335b54cb71694cd8bfa654f12dafad4e",
       "style": "IPY_MODEL_bed7f5ae4a8f41aaa2bae0a3b7a4bb47"
      }
     },
     "8a8295d04c714cea8d1039feac03958f": {
      "model_module": "jupyter-js-widgets",
      "model_module_version": "~2.1.4",
      "model_name": "ButtonStyleModel",
      "state": {
       "_model_module_version": "~2.1.4",
       "_view_module_version": "~2.1.4"
      }
     },
     "8ac27b84572d47c4a326fdd6e44bd1fa": {
      "model_module": "jupyter-js-widgets",
      "model_module_version": "~2.1.4",
      "model_name": "LayoutModel",
      "state": {
       "_model_module_version": "~2.1.4",
       "_view_module_version": "~2.1.4"
      }
     },
     "8afc9ea84881460eaed73de6cd90f584": {
      "model_module": "jupyter-js-widgets",
      "model_module_version": "~2.1.4",
      "model_name": "LayoutModel",
      "state": {
       "_model_module_version": "~2.1.4",
       "_view_module_version": "~2.1.4"
      }
     },
     "8aff7b5bf14d446e8f8db582b39bc19f": {
      "model_module": "jupyter-js-widgets",
      "model_module_version": "~2.1.4",
      "model_name": "HTMLModel",
      "state": {
       "_model_module_version": "~2.1.4",
       "_view_module_version": "~2.1.4",
       "layout": "IPY_MODEL_31a6c88216da4a7fa1984d3ef2aeb07f",
       "value": "<svg baseProfile=\"full\" height=\"240\" version=\"1.1\" width=\"240\" xmlns=\"http://www.w3.org/2000/svg\" xmlns:ev=\"http://www.w3.org/2001/xml-events\" xmlns:xlink=\"http://www.w3.org/1999/xlink\"><defs /><rect fill=\"white\" height=\"240\" stroke=\"#000000\" stroke-width=\"1\" width=\"240\" x=\"0\" y=\"0\" /><rect fill=\"#eef3dd\" height=\"240.0\" stroke=\"#bebebe\" stroke-width=\"1\" width=\"240.0\" x=\"0.0\" y=\"0.0\" /><circle cx=\"120.0\" cy=\"195.0\" fill=\"#ffff00\" r=\"15.0\" stroke=\"#ffff00\" stroke-width=\"1\" /><line fill=\"#800080\" stroke=\"#add8e6\" stroke-width=\"1\" x1=\"199.29647346587737\" x2=\"0.0\" y1=\"111.37109959820461\" y2=\"118.34932799999999\" /><line fill=\"#800080\" stroke=\"#add8e6\" stroke-width=\"1\" x1=\"200.64858482032437\" x2=\"0.0\" y1=\"107.12118255369946\" y2=\"21.973026000000004\" /><line fill=\"#800080\" stroke=\"#add8e6\" stroke-width=\"1\" x1=\"202.98412783209295\" x2=\"108.20933355871675\" y1=\"105.23830209010676\" y2=\"0.0\" /><line fill=\"#800080\" stroke=\"#add8e6\" stroke-width=\"1\" x1=\"206.529433775271\" x2=\"174.84110042201567\" y1=\"103.61324646974592\" y2=\"0.0\" /><line fill=\"#800080\" stroke=\"#add8e6\" stroke-width=\"1\" x1=\"212.52575915041191\" x2=\"236.38811675880686\" y1=\"103.4032893421199\" y2=\"0.0\" /><line fill=\"#800080\" stroke=\"#add8e6\" stroke-width=\"1\" x1=\"216.176043657403\" x2=\"240.0\" y1=\"104.77639640932952\" y2=\"74.27725800000002\" /><line fill=\"#800080\" stroke=\"#add8e6\" stroke-width=\"1\" x1=\"218.63756094574717\" x2=\"240.0\" y1=\"106.49131117082139\" y2=\"95.60408999999999\" /><line fill=\"#800080\" stroke=\"#add8e6\" stroke-width=\"1\" x1=\"220.28361227887063\" x2=\"240.0\" y1=\"110.63624965151354\" y2=\"109.94589599999998\" /><line fill=\"#800080\" stroke=\"#add8e6\" stroke-width=\"1\" x1=\"220.70352653412263\" x2=\"240.0\" y1=\"122.62890040179542\" y2=\"121.95324600000001\" /><line fill=\"#800080\" stroke=\"#add8e6\" stroke-width=\"1\" x1=\"219.35141517967563\" x2=\"240.0\" y1=\"126.87881744630057\" y2=\"135.641346\" /><line fill=\"#800080\" stroke=\"#add8e6\" stroke-width=\"1\" x1=\"217.01587216790705\" x2=\"240.0\" y1=\"128.76169790989326\" y2=\"154.283364\" /><line fill=\"#800080\" stroke=\"#add8e6\" stroke-width=\"1\" x1=\"213.470566224729\" x2=\"240.0\" y1=\"130.3867535302541\" y2=\"217.131636\" /><line fill=\"#800080\" stroke=\"#add8e6\" stroke-width=\"1\" x1=\"207.47424084958809\" x2=\"182.22726449088904\" y1=\"130.59671065788012\" y2=\"240.0\" /><line fill=\"#800080\" stroke=\"#add8e6\" stroke-width=\"1\" x1=\"203.823956342597\" x2=\"117.29260723482744\" y1=\"129.2236035906705\" y2=\"240.0\" /><line fill=\"#800080\" stroke=\"#add8e6\" stroke-width=\"1\" x1=\"201.36243905425283\" x2=\"0.0\" y1=\"127.50868882917862\" y2=\"230.131668\" /><line fill=\"#800080\" stroke=\"#add8e6\" stroke-width=\"1\" x1=\"199.71638772112937\" x2=\"0.0\" y1=\"123.36375034848649\" y2=\"130.356678\" /><line fill=\"#800080\" stroke=\"#a020f0\" stroke-width=\"1\" x1=\"210.0\" x2=\"0.0\" y1=\"117.00000000000001\" y2=\"5.366183999999992\" /><line fill=\"#800080\" stroke=\"#a020f0\" stroke-width=\"1\" x1=\"210.0\" x2=\"240.0\" y1=\"117.00000000000001\" y2=\"98.250024\" /><line fill=\"#800080\" stroke=\"#ffa500\" stroke-width=\"1\" x1=\"120.0\" x2=\"199.03402705634483\" y1=\"195.0\" y2=\"103.87569287927845\" /><line fill=\"#800080\" stroke=\"#ffa500\" stroke-width=\"1\" x1=\"120.0\" x2=\"220.02116586933806\" y1=\"195.0\" y2=\"103.14084293258738\" /><polygon fill=\"red\" points=\"204.7305361627287,103.67623360803373 199.19149490206433,108.37293691063414 199.82136628494237,126.36191303605695 205.67534323704578,130.65969779616793 215.2694638372713,130.3237663919663 220.80850509793567,125.62706308936588 220.17863371505763,107.63808696394308 214.32465676295422,103.3403022038321\" stroke=\"red\" stroke-width=\"1\" /><polygon points=\"-3.0,-3.0 0,0 3.0,-3.0 0,3.0\" stroke=\"black\" stroke-width=\"1\" transform=\"translate(210.0,117.00000000000001) rotate(177.9946477170421)\" /><polygon fill=\"black\" points=\"213.30385524640815,108.4791701982271 213.47182094850893,113.27623049833983 206.2762304983398,113.52817905149107 206.108264796239,108.73111875137835\" stroke=\"black\" stroke-width=\"1\" /><circle cx=\"199.03402705634483\" cy=\"103.87569287927845\" fill=\"yellow\" r=\"1.5\" stroke=\"orange\" stroke-width=\"1\" /><circle cx=\"220.02116586933806\" cy=\"103.14084293258738\" fill=\"yellow\" r=\"1.5\" stroke=\"orange\" stroke-width=\"1\" /></svg>"
      }
     },
     "8b234aef3c4f40b4b3ebc6223e580830": {
      "model_module": "jupyter-js-widgets",
      "model_module_version": "~2.1.4",
      "model_name": "LayoutModel",
      "state": {
       "_model_module_version": "~2.1.4",
       "_view_module_version": "~2.1.4"
      }
     },
     "8c9d138ba5d3417792bc78e1257a2c65": {
      "model_module": "jupyter-js-widgets",
      "model_module_version": "~2.1.4",
      "model_name": "LayoutModel",
      "state": {
       "_model_module_version": "~2.1.4",
       "_view_module_version": "~2.1.4"
      }
     },
     "8ca7812f07824c71b62fb1bd3f9d7194": {
      "model_module": "jupyter-js-widgets",
      "model_module_version": "~2.1.4",
      "model_name": "ButtonModel",
      "state": {
       "_model_module_version": "~2.1.4",
       "_view_module_version": "~2.1.4",
       "icon": "forward",
       "layout": "IPY_MODEL_86148caeb195421eb3a35fa905589b55",
       "style": "IPY_MODEL_7e3f3ecd48fe4affb6651d8b96c0f375"
      }
     },
     "8cc2362bfd754d5ebc460fd3b552c0d9": {
      "model_module": "jupyter-js-widgets",
      "model_module_version": "~2.1.4",
      "model_name": "LayoutModel",
      "state": {
       "_model_module_version": "~2.1.4",
       "_view_module_version": "~2.1.4"
      }
     },
     "8de673650d8c478cb96adccbfbded595": {
      "model_module": "jupyter-js-widgets",
      "model_module_version": "~2.1.4",
      "model_name": "VBoxModel",
      "state": {
       "_model_module_version": "~2.1.4",
       "_view_module_version": "~2.1.4",
       "layout": "IPY_MODEL_67c6bd7f0c2a439c96d96b3369853145"
      }
     },
     "8dfa666134944aca8b2327044d82e8f4": {
      "model_module": "jupyter-js-widgets",
      "model_module_version": "~2.1.4",
      "model_name": "LayoutModel",
      "state": {
       "_model_module_version": "~2.1.4",
       "_view_module_version": "~2.1.4",
       "width": "100%"
      }
     },
     "8e7beb38595a4d82970890aa74e02a5d": {
      "model_module": "jupyter-js-widgets",
      "model_module_version": "~2.1.4",
      "model_name": "LayoutModel",
      "state": {
       "_model_module_version": "~2.1.4",
       "_view_module_version": "~2.1.4"
      }
     },
     "8f3e7fb1803f472696da8c5a93579e9d": {
      "model_module": "jupyter-js-widgets",
      "model_module_version": "~2.1.4",
      "model_name": "VBoxModel",
      "state": {
       "_model_module_version": "~2.1.4",
       "_view_module_version": "~2.1.4",
       "children": [
        "IPY_MODEL_c5275c7e41f9492a81aabc2841bbea89",
        "IPY_MODEL_e01b3c3435a349e0b68af146c228820d"
       ],
       "layout": "IPY_MODEL_18344abb7d984c3bbcc2507a4053de3f"
      }
     },
     "9005d28b069f4098a4abb0cd7f5effa0": {
      "model_module": "jupyter-js-widgets",
      "model_module_version": "~2.1.4",
      "model_name": "LayoutModel",
      "state": {
       "_model_module_version": "~2.1.4",
       "_view_module_version": "~2.1.4"
      }
     },
     "9116265c36654c299979f5ca910d3eda": {
      "model_module": "jupyter-js-widgets",
      "model_module_version": "~2.1.4",
      "model_name": "CheckboxModel",
      "state": {
       "_model_module_version": "~2.1.4",
       "_view_module_version": "~2.1.4",
       "description": "Update GUI",
       "disabled": false,
       "layout": "IPY_MODEL_81f2b32f28e14c978b70b750af97c9d5",
       "value": true
      }
     },
     "918633c147064c5da41c5b35cd67a53d": {
      "model_module": "jupyter-js-widgets",
      "model_module_version": "~2.1.4",
      "model_name": "LayoutModel",
      "state": {
       "_model_module_version": "~2.1.4",
       "_view_module_version": "~2.1.4"
      }
     },
     "91f140dffc7649e08829658e44dea1d4": {
      "model_module": "jupyter-js-widgets",
      "model_module_version": "~2.1.4",
      "model_name": "LayoutModel",
      "state": {
       "_model_module_version": "~2.1.4",
       "_view_module_version": "~2.1.4"
      }
     },
     "92a73892ebe142b6b1fb966653ad42b0": {
      "model_module": "jupyter-js-widgets",
      "model_module_version": "~2.1.4",
      "model_name": "LayoutModel",
      "state": {
       "_model_module_version": "~2.1.4",
       "_view_module_version": "~2.1.4",
       "height": "248px",
       "padding": "0px 0px 0px 0px",
       "width": "10px"
      }
     },
     "92c527731e0b4f0686592be77cc36f68": {
      "model_module": "jupyter-js-widgets",
      "model_module_version": "~2.1.4",
      "model_name": "VBoxModel",
      "state": {
       "_model_module_version": "~2.1.4",
       "_view_module_version": "~2.1.4",
       "children": [
        "IPY_MODEL_2021716af4c44e8ebe95cc775d321879",
        "IPY_MODEL_d2f86c1ceea4464a81fbb877b7746528"
       ],
       "layout": "IPY_MODEL_0af526d30bc84aa6bfe6482c07383360"
      }
     },
     "92d667a8000b4e76b93801c5d20ed8ce": {
      "model_module": "jupyter-js-widgets",
      "model_module_version": "~2.1.4",
      "model_name": "LayoutModel",
      "state": {
       "_model_module_version": "~2.1.4",
       "_view_module_version": "~2.1.4"
      }
     },
     "93c3c7d0ee0e45d3b4f7c3c56b5b2f2c": {
      "model_module": "jupyter-js-widgets",
      "model_module_version": "~2.1.4",
      "model_name": "LayoutModel",
      "state": {
       "_model_module_version": "~2.1.4",
       "_view_module_version": "~2.1.4"
      }
     },
     "94ff946f682845c2b21e319ebd17f139": {
      "model_module": "jupyter-js-widgets",
      "model_module_version": "~2.1.4",
      "model_name": "FloatSliderModel",
      "state": {
       "_model_module_version": "~2.1.4",
       "_view_module_version": "~2.1.4",
       "layout": "IPY_MODEL_6964d82445634633abb28c48104bace1",
       "readout": false,
       "step": 0.1,
       "value": 87.5
      }
     },
     "95e6e805c28947e8b7bb1260cbe350a9": {
      "model_module": "jupyter-js-widgets",
      "model_module_version": "~2.1.4",
      "model_name": "OutputModel",
      "state": {
       "_dom_classes": [],
       "_model_module": "jupyter-js-widgets",
       "_model_module_version": "~2.1.4",
       "_view_module": "jupyter-js-widgets",
       "_view_module_version": "~2.1.4",
       "layout": "IPY_MODEL_a402ada84b0a4d37a7c74cf5b7185f6e",
       "msg_throttle": 1
      }
     },
     "963d96ba2c704d5bb97e05c35dcd571b": {
      "model_module": "jupyter-js-widgets",
      "model_module_version": "~2.1.4",
      "model_name": "OutputModel",
      "state": {
       "_dom_classes": [],
       "_model_module": "jupyter-js-widgets",
       "_model_module_version": "~2.1.4",
       "_view_module": "jupyter-js-widgets",
       "_view_module_version": "~2.1.4",
       "layout": "IPY_MODEL_2ea8545901004fad8951d080fff214d2",
       "msg_throttle": 1
      }
     },
     "9718484537664809a2af4cc936617723": {
      "model_module": "jupyter-js-widgets",
      "model_module_version": "~2.1.4",
      "model_name": "IntSliderModel",
      "state": {
       "_model_module_version": "~2.1.4",
       "_view_module_version": "~2.1.4",
       "continuous_update": false,
       "description": "Dataset index",
       "layout": "IPY_MODEL_3ac217b69bd44538bc750d7fdd9ee418",
       "max": 0,
       "style": "IPY_MODEL_c1e8cbb221cc41298bb95d935aa1db71"
      }
     },
     "97bd06935ff34379925fe9f00b0327d3": {
      "model_module": "jupyter-js-widgets",
      "model_module_version": "~2.1.4",
      "model_name": "LayoutModel",
      "state": {
       "_model_module_version": "~2.1.4",
       "_view_module_version": "~2.1.4"
      }
     },
     "97f7f161cc74406e9b9fd47b34b4e1e7": {
      "model_module": "jupyter-js-widgets",
      "model_module_version": "~2.1.4",
      "model_name": "LayoutModel",
      "state": {
       "_model_module_version": "~2.1.4",
       "_view_module_version": "~2.1.4"
      }
     },
     "9856d91b169249eaa86f1c9cf6f680ee": {
      "model_module": "jupyter-js-widgets",
      "model_module_version": "~2.1.4",
      "model_name": "VBoxModel",
      "state": {
       "_model_module_version": "~2.1.4",
       "_view_module_version": "~2.1.4",
       "children": [
        "IPY_MODEL_8f3e7fb1803f472696da8c5a93579e9d",
        "IPY_MODEL_21c882d62af048558c9faed4cddfeacc",
        "IPY_MODEL_4faf6f5af58c45e3b36520a33a2132b7"
       ],
       "layout": "IPY_MODEL_a4b2f3969d204f8aa000c608dc975569"
      }
     },
     "9862a011dcd847909359fc1765749a59": {
      "model_module": "jupyter-js-widgets",
      "model_module_version": "~2.1.4",
      "model_name": "LayoutModel",
      "state": {
       "_model_module_version": "~2.1.4",
       "_view_module_version": "~2.1.4",
       "width": "100%"
      }
     },
     "98c721c77991436297190129aa053291": {
      "model_module": "jupyter-js-widgets",
      "model_module_version": "~2.1.4",
      "model_name": "HBoxModel",
      "state": {
       "_model_module_version": "~2.1.4",
       "_view_module_version": "~2.1.4",
       "children": [
        "IPY_MODEL_a3e27fc3394245b9ab919a718aacd118",
        "IPY_MODEL_8173aba87abd4ec2a1e6f21c62f7f1f7"
       ],
       "layout": "IPY_MODEL_e99289346fae46ae9a4b6ff4566d73a2"
      }
     },
     "98f49f3c32834d2f8d8f6b1daa5990ce": {
      "model_module": "jupyter-js-widgets",
      "model_module_version": "~2.1.4",
      "model_name": "LayoutModel",
      "state": {
       "_model_module_version": "~2.1.4",
       "_view_module_version": "~2.1.4"
      }
     },
     "993ab8641c464850b7acb1b0c48d047e": {
      "model_module": "jupyter-js-widgets",
      "model_module_version": "~2.1.4",
      "model_name": "SelectModel",
      "state": {
       "_model_module_version": "~2.1.4",
       "_options_labels": [
        "Test",
        "Train"
       ],
       "_view_module_version": "~2.1.4",
       "description": "Dataset:",
       "layout": "IPY_MODEL_1b2245bf514448168effc677da0f35cd",
       "value": "Train"
      }
     },
     "99ff5983672e4468958befeee7f528aa": {
      "model_module": "jupyter-js-widgets",
      "model_module_version": "~2.1.4",
      "model_name": "ButtonModel",
      "state": {
       "_model_module_version": "~2.1.4",
       "_view_module_version": "~2.1.4",
       "icon": "fast-forward",
       "layout": "IPY_MODEL_d86902637db8436cb7f9bccc68076561",
       "style": "IPY_MODEL_f93ef353f73c4c49b445665a7f30cff6"
      }
     },
     "9a651119d9c64188a2e90c73f264140e": {
      "model_module": "jupyter-js-widgets",
      "model_module_version": "~2.1.4",
      "model_name": "VBoxModel",
      "state": {
       "_model_module_version": "~2.1.4",
       "_view_module_version": "~2.1.4",
       "layout": "IPY_MODEL_4c0f993d10c3429cb51747622df8022d"
      }
     },
     "9a781b087627468897c016c8a9f60aa7": {
      "model_module": "jupyter-js-widgets",
      "model_module_version": "~2.1.4",
      "model_name": "ButtonStyleModel",
      "state": {
       "_model_module_version": "~2.1.4",
       "_view_module_version": "~2.1.4"
      }
     },
     "9b603ce4a6724572944f50196d0afcbf": {
      "model_module": "jupyter-js-widgets",
      "model_module_version": "~2.1.4",
      "model_name": "ButtonModel",
      "state": {
       "_model_module_version": "~2.1.4",
       "_view_module_version": "~2.1.4",
       "icon": "fast-forward",
       "layout": "IPY_MODEL_7b016b0d29b64972997b9020debd725d",
       "style": "IPY_MODEL_6cb0741a589f42a9a083f2dc9aaf806d"
      }
     },
     "9b6be3f1d44746d48453f703905c1fa6": {
      "model_module": "jupyter-js-widgets",
      "model_module_version": "~2.1.4",
      "model_name": "ButtonModel",
      "state": {
       "_model_module_version": "~2.1.4",
       "_view_module_version": "~2.1.4",
       "icon": "forward",
       "layout": "IPY_MODEL_7bd6738ef9f547d3a272a4e7030fdc54",
       "style": "IPY_MODEL_b2dff5a5243f467bada50cc045210073"
      }
     },
     "9c415ed805804b15b13048d3d43b663f": {
      "model_module": "jupyter-js-widgets",
      "model_module_version": "~2.1.4",
      "model_name": "FloatSliderModel",
      "state": {
       "_model_module_version": "~2.1.4",
       "_view_module_version": "~2.1.4",
       "layout": "IPY_MODEL_35da98dc05f948cf9dd96ec7b0f75772",
       "readout": false,
       "step": 0.1,
       "value": 99.44295769917836
      }
     },
     "9d359e7f00744e38a5d9efacf658a459": {
      "model_module": "jupyter-js-widgets",
      "model_module_version": "~2.1.4",
      "model_name": "LayoutModel",
      "state": {
       "_model_module_version": "~2.1.4",
       "_view_module_version": "~2.1.4"
      }
     },
     "9d4e2e82f1e44b2b9daaf068619c6572": {
      "model_module": "jupyter-js-widgets",
      "model_module_version": "~2.1.4",
      "model_name": "ButtonModel",
      "state": {
       "_model_module_version": "~2.1.4",
       "_view_module_version": "~2.1.4",
       "icon": "backward",
       "layout": "IPY_MODEL_2fbfaa1b8ab946e9904db9b4d31a5fcc",
       "style": "IPY_MODEL_f78c055a5c784afa91f25a1c2069857d"
      }
     },
     "9d57d47ec42e42ee8b3b8702b725efcc": {
      "model_module": "jupyter-js-widgets",
      "model_module_version": "~2.1.4",
      "model_name": "VBoxModel",
      "state": {
       "_model_module_version": "~2.1.4",
       "_view_module_version": "~2.1.4",
       "layout": "IPY_MODEL_bcc60f6f752e45a49caa99289d952ba5"
      }
     },
     "9e05107bb615444d9d7ad5056c372238": {
      "model_module": "jupyter-js-widgets",
      "model_module_version": "~2.1.4",
      "model_name": "HTMLModel",
      "state": {
       "_model_module_version": "~2.1.4",
       "_view_module_version": "~2.1.4",
       "layout": "IPY_MODEL_f59b5f38a9864688b787268d0b67c650",
       "value": "\n        <svg id='Robot Prediction Network' xmlns='http://www.w3.org/2000/svg' width=\"1100\" height=\"668\" image-rendering=\"pixelated\">\n    <defs>\n        <marker id=\"arrow\" markerWidth=\"10\" markerHeight=\"10\" refX=\"9\" refY=\"3\" orient=\"auto\" markerUnits=\"strokeWidth\">\n          <path d=\"M0,0 L0,6 L9,3 z\" fill=\"black\" />\n        </marker>\n    </defs>\n<text x=\"550.0\" y=\"12.5\" font-family=\"monospace\" font-size=\"15\" text-anchor=\"middle\" alignment-baseline=\"central\">Robot Prediction Network</text><rect x=\"315.6666666666667\" y=\"29\" width=\"102\" height=\"52\" style=\"fill:none;stroke:black;stroke-width:2\"/><image id=\"Robot Prediction Network_output1_12\" class=\"Robot Prediction Network_output1\" x=\"316.6666666666667\" y=\"30\" height=\"50\" width=\"100\" preserveAspectRatio=\"none\" href=\"data:image/gif;base64,R0lGODdhAgABAIcAAPSmg/39/QAAAAAAAAAAAAAAAAAAAAAAAAAAAAAAAAAAAAAAAAAAAAAAAAAAAAAAAAAAAAAAAAAAAAAAAAAAAAAAAAAAAAAAAAAAAAAAAAAAAAAAAAAAAAAAAAAAAAAAAAAAAAAAAAAAAAAAAAAAAAAAAAAAAAAAAAAAAAAAAAAAAAAAAAAAAAAAAAAAAAAAAAAAAAAAAAAAAAAAAAAAAAAAAAAAAAAAAAAAAAAAAAAAAAAAAAAAAAAAAAAAAAAAAAAAAAAAAAAAAAAAAAAAAAAAAAAAAAAAAAAAAAAAAAAAAAAAAAAAAAAAAAAAAAAAAAAAAAAAAAAAAAAAAAAAAAAAAAAAAAAAAAAAAAAAAAAAAAAAAAAAAAAAAAAAAAAAAAAAAAAAAAAAAAAAAAAAAAAAAAAAAAAAAAAAAAAAAAAAAAAAAAAAAAAAAAAAAAAAAAAAAAAAAAAAAAAAAAAAAAAAAAAAAAAAAAAAAAAAAAAAAAAAAAAAAAAAAAAAAAAAAAAAAAAAAAAAAAAAAAAAAAAAAAAAAAAAAAAAAAAAAAAAAAAAAAAAAAAAAAAAAAAAAAAAAAAAAAAAAAAAAAAAAAAAAAAAAAAAAAAAAAAAAAAAAAAAAAAAAAAAAAAAAAAAAAAAAAAAAAAAAAAAAAAAAAAAAAAAAAAAAAAAAAAAAAAAAAAAAAAAAAAAAAAAAAAAAAAAAAAAAAAAAAAAAAAAAAAAAAAAAAAAAAAAAAAAAAAAAAAAAAAAAAAAAAAAAAAAAAAAAAAAAAAAAAAAAAAAAAAAAAAAAAAAAAAAAAAAAAAAAAAAAAAAAAAAAAAAAAAAAAAAAAAAAAAAAAAAAAAAAAAAAAAAAAAAAAAAAAAAAAAAAAAAAAAAAAAAAAAAAAAAAAAAAAAAAAAAAAAAAAAAAAAAAAAAAAAAAAAAAAAAAAAAAAAAAAAAAAAAAAAAAAAAAAAAAAAAAAAAAAAAAAAAAAAAAAAAAAAAAAAAAAAAAAAAAAAAAAAAAAAAAAAAAAAAACwAAAAAAgABAAAIBQABBAgIADs=\"><title>Layer: output1 (output)\n shape = (2,)\n Keras class = Dense\n activation = sigmoid</title></image><text x=\"421.6666666666667\" y=\"57.0\" font-family=\"monospace\" font-size=\"12\" text-anchor=\"start\" alignment-baseline=\"central\">output1</text><rect x=\"632.3333333333334\" y=\"29\" width=\"202\" height=\"42\" style=\"fill:none;stroke:black;stroke-width:2\"/><image id=\"Robot Prediction Network_output2_13\" class=\"Robot Prediction Network_output2\" x=\"633.3333333333334\" y=\"30\" height=\"40\" width=\"200\" preserveAspectRatio=\"none\" href=\"data:image/gif;base64,R0lGODdhBQABAIcAAI+Pj7m5udjY2PnDqf39/QAAAAAAAAAAAAAAAAAAAAAAAAAAAAAAAAAAAAAAAAAAAAAAAAAAAAAAAAAAAAAAAAAAAAAAAAAAAAAAAAAAAAAAAAAAAAAAAAAAAAAAAAAAAAAAAAAAAAAAAAAAAAAAAAAAAAAAAAAAAAAAAAAAAAAAAAAAAAAAAAAAAAAAAAAAAAAAAAAAAAAAAAAAAAAAAAAAAAAAAAAAAAAAAAAAAAAAAAAAAAAAAAAAAAAAAAAAAAAAAAAAAAAAAAAAAAAAAAAAAAAAAAAAAAAAAAAAAAAAAAAAAAAAAAAAAAAAAAAAAAAAAAAAAAAAAAAAAAAAAAAAAAAAAAAAAAAAAAAAAAAAAAAAAAAAAAAAAAAAAAAAAAAAAAAAAAAAAAAAAAAAAAAAAAAAAAAAAAAAAAAAAAAAAAAAAAAAAAAAAAAAAAAAAAAAAAAAAAAAAAAAAAAAAAAAAAAAAAAAAAAAAAAAAAAAAAAAAAAAAAAAAAAAAAAAAAAAAAAAAAAAAAAAAAAAAAAAAAAAAAAAAAAAAAAAAAAAAAAAAAAAAAAAAAAAAAAAAAAAAAAAAAAAAAAAAAAAAAAAAAAAAAAAAAAAAAAAAAAAAAAAAAAAAAAAAAAAAAAAAAAAAAAAAAAAAAAAAAAAAAAAAAAAAAAAAAAAAAAAAAAAAAAAAAAAAAAAAAAAAAAAAAAAAAAAAAAAAAAAAAAAAAAAAAAAAAAAAAAAAAAAAAAAAAAAAAAAAAAAAAAAAAAAAAAAAAAAAAAAAAAAAAAAAAAAAAAAAAAAAAAAAAAAAAAAAAAAAAAAAAAAAAAAAAAAAAAAAAAAAAAAAAAAAAAAAAAAAAAAAAAAAAAAAAAAAAAAAAAAAAAAAAAAAAAAAAAAAAAAAAAAAAAAAAAAAAAAAAAAAAAAAAAAAAAAAAAAAAAAAAAAAAAAAAAAAAAAAAAAAAAAAAAAAAAAAAAAAAAAAAAAAAAAAAAAAAAAAAAAAAAAAAAAAAAAAAAAAAAAAAAAACwAAAAABQABAAAICAAHEBAQAEBAADs=\"><title>Layer: output2 (output)\n shape = (5,)\n Keras class = Dense\n activation = sigmoid</title></image><text x=\"838.3333333333334\" y=\"52.0\" font-family=\"monospace\" font-size=\"12\" text-anchor=\"start\" alignment-baseline=\"central\">output2</text><line x1=\"366.6666666666667\" y1=\"109\" x2=\"366.6666666666667\" y2=\"82\" stroke=\"black\" stroke-width=\"2\" marker-end=\"url(#arrow)\"><title>Weights from hidden4 to output1\n output1/kernel has shape (10, 2)\n output1/bias has shape (2,)</title></line><rect x=\"265.6666666666667\" y=\"109\" width=\"202\" height=\"27\" style=\"fill:none;stroke:black;stroke-width:2\"/><image id=\"Robot Prediction Network_hidden4_14\" class=\"Robot Prediction Network_hidden4\" x=\"266.6666666666667\" y=\"110\" height=\"25\" width=\"200\" preserveAspectRatio=\"none\" href=\"data:image/gif;base64,R0lGODdhCgABAIcAAPe6nP3m2P728r+/v9LS0vGefPi9oQAAAAAAAAAAAAAAAAAAAAAAAAAAAAAAAAAAAAAAAAAAAAAAAAAAAAAAAAAAAAAAAAAAAAAAAAAAAAAAAAAAAAAAAAAAAAAAAAAAAAAAAAAAAAAAAAAAAAAAAAAAAAAAAAAAAAAAAAAAAAAAAAAAAAAAAAAAAAAAAAAAAAAAAAAAAAAAAAAAAAAAAAAAAAAAAAAAAAAAAAAAAAAAAAAAAAAAAAAAAAAAAAAAAAAAAAAAAAAAAAAAAAAAAAAAAAAAAAAAAAAAAAAAAAAAAAAAAAAAAAAAAAAAAAAAAAAAAAAAAAAAAAAAAAAAAAAAAAAAAAAAAAAAAAAAAAAAAAAAAAAAAAAAAAAAAAAAAAAAAAAAAAAAAAAAAAAAAAAAAAAAAAAAAAAAAAAAAAAAAAAAAAAAAAAAAAAAAAAAAAAAAAAAAAAAAAAAAAAAAAAAAAAAAAAAAAAAAAAAAAAAAAAAAAAAAAAAAAAAAAAAAAAAAAAAAAAAAAAAAAAAAAAAAAAAAAAAAAAAAAAAAAAAAAAAAAAAAAAAAAAAAAAAAAAAAAAAAAAAAAAAAAAAAAAAAAAAAAAAAAAAAAAAAAAAAAAAAAAAAAAAAAAAAAAAAAAAAAAAAAAAAAAAAAAAAAAAAAAAAAAAAAAAAAAAAAAAAAAAAAAAAAAAAAAAAAAAAAAAAAAAAAAAAAAAAAAAAAAAAAAAAAAAAAAAAAAAAAAAAAAAAAAAAAAAAAAAAAAAAAAAAAAAAAAAAAAAAAAAAAAAAAAAAAAAAAAAAAAAAAAAAAAAAAAAAAAAAAAAAAAAAAAAAAAAAAAAAAAAAAAAAAAAAAAAAAAAAAAAAAAAAAAAAAAAAAAAAAAAAAAAAAAAAAAAAAAAAAAAAAAAAAAAAAAAAAAAAAAAAAAAAAAAAAAAAAAAAAAAAAAAAAAAAAAAAAAAAAAAAAAAAAAAAAAAAAAAAAAAAAAAAAAAAAAAAAAAAAAAAAAAAAAAAAAAAAAAACwAAAAACgABAAAIDgALGBAQAAABAAMEBAgIADs=\"><title>Layer: hidden4 (hidden)\n shape = (10,)\n Keras class = Dense\n activation = sigmoid</title></image><text x=\"471.6666666666667\" y=\"124.5\" font-family=\"monospace\" font-size=\"12\" text-anchor=\"start\" alignment-baseline=\"central\">hidden4</text><line x1=\"733.3333333333334\" y1=\"110\" x2=\"733.3333333333334\" y2=\"70\" stroke=\"black\" stroke-width=\"2\" marker-end=\"url(#arrow)\"><title>Weights from hidden4 to output1\n output1/kernel has shape (10, 2)\n output1/bias has shape (2,)</title></line><line x1=\"550.0\" y1=\"164\" x2=\"733.3333333333334\" y2=\"110\" stroke=\"black\" stroke-width=\"2\"><title>TODO</title></line><line x1=\"550.0\" y1=\"164\" x2=\"366.6666666666667\" y2=\"137\" stroke=\"black\" stroke-width=\"2\" marker-end=\"url(#arrow)\"><title>Weights from hidden3 to hidden4\n hidden4/kernel has shape (10, 10)\n hidden4/bias has shape (10,)</title></line><rect x=\"449.0\" y=\"164\" width=\"202\" height=\"27\" style=\"fill:none;stroke:black;stroke-width:2\"/><image id=\"Robot Prediction Network_hidden3_15\" class=\"Robot Prediction Network_hidden3\" x=\"450.0\" y=\"165\" height=\"25\" width=\"200\" preserveAspectRatio=\"none\" href=\"data:image/gif;base64,R0lGODdhCgABAIcAAOnp6f7388PDw/OjgAAAAAAAAAAAAAAAAAAAAAAAAAAAAAAAAAAAAAAAAAAAAAAAAAAAAAAAAAAAAAAAAAAAAAAAAAAAAAAAAAAAAAAAAAAAAAAAAAAAAAAAAAAAAAAAAAAAAAAAAAAAAAAAAAAAAAAAAAAAAAAAAAAAAAAAAAAAAAAAAAAAAAAAAAAAAAAAAAAAAAAAAAAAAAAAAAAAAAAAAAAAAAAAAAAAAAAAAAAAAAAAAAAAAAAAAAAAAAAAAAAAAAAAAAAAAAAAAAAAAAAAAAAAAAAAAAAAAAAAAAAAAAAAAAAAAAAAAAAAAAAAAAAAAAAAAAAAAAAAAAAAAAAAAAAAAAAAAAAAAAAAAAAAAAAAAAAAAAAAAAAAAAAAAAAAAAAAAAAAAAAAAAAAAAAAAAAAAAAAAAAAAAAAAAAAAAAAAAAAAAAAAAAAAAAAAAAAAAAAAAAAAAAAAAAAAAAAAAAAAAAAAAAAAAAAAAAAAAAAAAAAAAAAAAAAAAAAAAAAAAAAAAAAAAAAAAAAAAAAAAAAAAAAAAAAAAAAAAAAAAAAAAAAAAAAAAAAAAAAAAAAAAAAAAAAAAAAAAAAAAAAAAAAAAAAAAAAAAAAAAAAAAAAAAAAAAAAAAAAAAAAAAAAAAAAAAAAAAAAAAAAAAAAAAAAAAAAAAAAAAAAAAAAAAAAAAAAAAAAAAAAAAAAAAAAAAAAAAAAAAAAAAAAAAAAAAAAAAAAAAAAAAAAAAAAAAAAAAAAAAAAAAAAAAAAAAAAAAAAAAAAAAAAAAAAAAAAAAAAAAAAAAAAAAAAAAAAAAAAAAAAAAAAAAAAAAAAAAAAAAAAAAAAAAAAAAAAAAAAAAAAAAAAAAAAAAAAAAAAAAAAAAAAAAAAAAAAAAAAAAAAAAAAAAAAAAAAAAAAAAAAAAAAAAAAAAAAAAAAAAAAAAAAAAAAAAAAAAAAAAAAAAAAAAAAAAAAAAAAAAAAAAAAAAAAAAAAAAAAAAAAAAAAAAAAAAAAAAAAAAAAAAAAACwAAAAACgABAAAIDgADCAAQIAAAAAEADAgIADs=\"><title>Layer: hidden3 (hidden)\n shape = (10,)\n Keras class = Dense\n activation = sigmoid</title></image><text x=\"655.0\" y=\"179.5\" font-family=\"monospace\" font-size=\"12\" text-anchor=\"start\" alignment-baseline=\"central\">hidden3</text><line x1=\"550.0\" y1=\"219\" x2=\"550.0\" y2=\"192\" stroke=\"black\" stroke-width=\"2\" marker-end=\"url(#arrow)\"><title>Weights from hidden2 to hidden3\n hidden3/kernel has shape (5, 10)\n hidden3/bias has shape (10,)</title></line><rect x=\"449.0\" y=\"219\" width=\"202\" height=\"42\" style=\"fill:none;stroke:black;stroke-width:2\"/><image id=\"Robot Prediction Network_hidden2_16\" class=\"Robot Prediction Network_hidden2\" x=\"450.0\" y=\"220\" height=\"40\" width=\"200\" preserveAspectRatio=\"none\" href=\"data:image/gif;base64,R0lGODdhBQABAIcAAP7+/QAAAAAAAAAAAAAAAAAAAAAAAAAAAAAAAAAAAAAAAAAAAAAAAAAAAAAAAAAAAAAAAAAAAAAAAAAAAAAAAAAAAAAAAAAAAAAAAAAAAAAAAAAAAAAAAAAAAAAAAAAAAAAAAAAAAAAAAAAAAAAAAAAAAAAAAAAAAAAAAAAAAAAAAAAAAAAAAAAAAAAAAAAAAAAAAAAAAAAAAAAAAAAAAAAAAAAAAAAAAAAAAAAAAAAAAAAAAAAAAAAAAAAAAAAAAAAAAAAAAAAAAAAAAAAAAAAAAAAAAAAAAAAAAAAAAAAAAAAAAAAAAAAAAAAAAAAAAAAAAAAAAAAAAAAAAAAAAAAAAAAAAAAAAAAAAAAAAAAAAAAAAAAAAAAAAAAAAAAAAAAAAAAAAAAAAAAAAAAAAAAAAAAAAAAAAAAAAAAAAAAAAAAAAAAAAAAAAAAAAAAAAAAAAAAAAAAAAAAAAAAAAAAAAAAAAAAAAAAAAAAAAAAAAAAAAAAAAAAAAAAAAAAAAAAAAAAAAAAAAAAAAAAAAAAAAAAAAAAAAAAAAAAAAAAAAAAAAAAAAAAAAAAAAAAAAAAAAAAAAAAAAAAAAAAAAAAAAAAAAAAAAAAAAAAAAAAAAAAAAAAAAAAAAAAAAAAAAAAAAAAAAAAAAAAAAAAAAAAAAAAAAAAAAAAAAAAAAAAAAAAAAAAAAAAAAAAAAAAAAAAAAAAAAAAAAAAAAAAAAAAAAAAAAAAAAAAAAAAAAAAAAAAAAAAAAAAAAAAAAAAAAAAAAAAAAAAAAAAAAAAAAAAAAAAAAAAAAAAAAAAAAAAAAAAAAAAAAAAAAAAAAAAAAAAAAAAAAAAAAAAAAAAAAAAAAAAAAAAAAAAAAAAAAAAAAAAAAAAAAAAAAAAAAAAAAAAAAAAAAAAAAAAAAAAAAAAAAAAAAAAAAAAAAAAAAAAAAAAAAAAAAAAAAAAAAAAAAAAAAAAAAAAAAAAAAAAAAAAAAAAAAAAAAAAAAAAAAAAAAAAAAAAAAAAAAAAAAAAAACwAAAAABQABAAAIBgABCBQYEAA7\"><title>Layer: hidden2 (hidden)\n shape = (5,)\n Keras class = Dense\n activation = sigmoid</title></image><text x=\"655.0\" y=\"242.0\" font-family=\"monospace\" font-size=\"12\" text-anchor=\"start\" alignment-baseline=\"central\">hidden2</text><line x1=\"366.6666666666667\" y1=\"290\" x2=\"550.0\" y2=\"260\" stroke=\"black\" stroke-width=\"2\" marker-end=\"url(#arrow)\"><title>Weights from hidden2 to hidden3\n hidden3/kernel has shape (5, 10)\n hidden3/bias has shape (10,)</title></line><line x1=\"733.3333333333334\" y1=\"289\" x2=\"550.0\" y2=\"262\" stroke=\"black\" stroke-width=\"2\" marker-end=\"url(#arrow)\"><title>Weights from flatten to hidden2\n hidden2/kernel has shape (41714, 5)\n hidden2/bias has shape (5,)</title></line><rect x=\"632.3333333333334\" y=\"289\" width=\"202\" height=\"27\" style=\"fill:none;stroke:black;stroke-width:2\"/><image id=\"Robot Prediction Network_flatten_17\" class=\"Robot Prediction Network_flatten\" x=\"633.3333333333334\" y=\"290\" height=\"25\" width=\"200\" preserveAspectRatio=\"none\" href=\"data:image/gif;base64,R0lGODdhwKIBAIcAAP7+/QAAAAAAAAAAAAAAAAAAAAAAAAAAAAAAAAAAAAAAAAAAAAAAAAAAAAAAAAAAAAAAAAAAAAAAAAAAAAAAAAAAAAAAAAAAAAAAAAAAAAAAAAAAAAAAAAAAAAAAAAAAAAAAAAAAAAAAAAAAAAAAAAAAAAAAAAAAAAAAAAAAAAAAAAAAAAAAAAAAAAAAAAAAAAAAAAAAAAAAAAAAAAAAAAAAAAAAAAAAAAAAAAAAAAAAAAAAAAAAAAAAAAAAAAAAAAAAAAAAAAAAAAAAAAAAAAAAAAAAAAAAAAAAAAAAAAAAAAAAAAAAAAAAAAAAAAAAAAAAAAAAAAAAAAAAAAAAAAAAAAAAAAAAAAAAAAAAAAAAAAAAAAAAAAAAAAAAAAAAAAAAAAAAAAAAAAAAAAAAAAAAAAAAAAAAAAAAAAAAAAAAAAAAAAAAAAAAAAAAAAAAAAAAAAAAAAAAAAAAAAAAAAAAAAAAAAAAAAAAAAAAAAAAAAAAAAAAAAAAAAAAAAAAAAAAAAAAAAAAAAAAAAAAAAAAAAAAAAAAAAAAAAAAAAAAAAAAAAAAAAAAAAAAAAAAAAAAAAAAAAAAAAAAAAAAAAAAAAAAAAAAAAAAAAAAAAAAAAAAAAAAAAAAAAAAAAAAAAAAAAAAAAAAAAAAAAAAAAAAAAAAAAAAAAAAAAAAAAAAAAAAAAAAAAAAAAAAAAAAAAAAAAAAAAAAAAAAAAAAAAAAAAAAAAAAAAAAAAAAAAAAAAAAAAAAAAAAAAAAAAAAAAAAAAAAAAAAAAAAAAAAAAAAAAAAAAAAAAAAAAAAAAAAAAAAAAAAAAAAAAAAAAAAAAAAAAAAAAAAAAAAAAAAAAAAAAAAAAAAAAAAAAAAAAAAAAAAAAAAAAAAAAAAAAAAAAAAAAAAAAAAAAAAAAAAAAAAAAAAAAAAAAAAAAAAAAAAAAAAAAAAAAAAAAAAAAAAAAAAAAAAAAAAAAAAAAAAAAAAAAAAAAAAAAAAAAAAAAAAAAAAAAAAAAAAAAAAAAAAACwAAAAAwKIBAAAI/wABCBxIsKDBgwgTKlzIsKHDhxAjSpxIsaLFixgzatzIsaPHjyBDihxJsqTJkyhTqlzJsqXLlzBjypxJs6bNmzhz6tzJs6fPn0CDCh1KtKjRo0iTKl3KtKnTp1CjSp1KtarVq1izat3KtavXr2DDih1LtqzZs2jTql3Ltq3bt3Djyp1Lt67du3jz6t3Lt6/fv4ADCx5MuLDhw4gTK17MuLHjx5AjS55MubLly5gza97MubPnz6BDix5NurTp06hTq17NurXr17Bjy55Nu7bt27hz697Nu7fv38CDCx9OvLjx48iTK1/OvLnz59CjS59Ovbr169iza9/Ovbv37+DDi7wfT768+fPo06tfz769+/fw48ufT7++/fv48+vfz7+/f4AABA4kWNDgQYQJFS5k2NDhQ4gRJU6kWNHiRYwZNW7k2NHjR5AhRY4kWdLkSZQpVa5k2dLlS5gxZc6kWdPmTZw5de7k2dPnT6BBhQ4lWtToUaRJlS5l2tTpU6hRpU6lWtXqVaxZtW7l2tXrV7BhxY4lW9bsWbRp1a5l29btW7hx5c6lW9fuXbx59e7l29fvX8CBBQ8mXNjw4bEBAQA7\"><title>Layer: flatten (hidden)\n Keras class = Flatten</title></image><text x=\"838.3333333333334\" y=\"304.5\" font-family=\"monospace\" font-size=\"12\" text-anchor=\"start\" alignment-baseline=\"central\">flatten</text><line x1=\"366.6666666666667\" y1=\"344\" x2=\"366.6666666666667\" y2=\"290\" stroke=\"black\" stroke-width=\"2\"><title>TODO</title></line><rect x=\"265.6666666666667\" y=\"344\" width=\"202\" height=\"27\" style=\"fill:none;stroke:black;stroke-width:2\"/><image id=\"Robot Prediction Network_hidden_18\" class=\"Robot Prediction Network_hidden\" x=\"266.6666666666667\" y=\"345\" height=\"25\" width=\"200\" preserveAspectRatio=\"none\" href=\"data:image/gif;base64,R0lGODdhMgABAIcAAP7+/QAAAAAAAAAAAAAAAAAAAAAAAAAAAAAAAAAAAAAAAAAAAAAAAAAAAAAAAAAAAAAAAAAAAAAAAAAAAAAAAAAAAAAAAAAAAAAAAAAAAAAAAAAAAAAAAAAAAAAAAAAAAAAAAAAAAAAAAAAAAAAAAAAAAAAAAAAAAAAAAAAAAAAAAAAAAAAAAAAAAAAAAAAAAAAAAAAAAAAAAAAAAAAAAAAAAAAAAAAAAAAAAAAAAAAAAAAAAAAAAAAAAAAAAAAAAAAAAAAAAAAAAAAAAAAAAAAAAAAAAAAAAAAAAAAAAAAAAAAAAAAAAAAAAAAAAAAAAAAAAAAAAAAAAAAAAAAAAAAAAAAAAAAAAAAAAAAAAAAAAAAAAAAAAAAAAAAAAAAAAAAAAAAAAAAAAAAAAAAAAAAAAAAAAAAAAAAAAAAAAAAAAAAAAAAAAAAAAAAAAAAAAAAAAAAAAAAAAAAAAAAAAAAAAAAAAAAAAAAAAAAAAAAAAAAAAAAAAAAAAAAAAAAAAAAAAAAAAAAAAAAAAAAAAAAAAAAAAAAAAAAAAAAAAAAAAAAAAAAAAAAAAAAAAAAAAAAAAAAAAAAAAAAAAAAAAAAAAAAAAAAAAAAAAAAAAAAAAAAAAAAAAAAAAAAAAAAAAAAAAAAAAAAAAAAAAAAAAAAAAAAAAAAAAAAAAAAAAAAAAAAAAAAAAAAAAAAAAAAAAAAAAAAAAAAAAAAAAAAAAAAAAAAAAAAAAAAAAAAAAAAAAAAAAAAAAAAAAAAAAAAAAAAAAAAAAAAAAAAAAAAAAAAAAAAAAAAAAAAAAAAAAAAAAAAAAAAAAAAAAAAAAAAAAAAAAAAAAAAAAAAAAAAAAAAAAAAAAAAAAAAAAAAAAAAAAAAAAAAAAAAAAAAAAAAAAAAAAAAAAAAAAAAAAAAAAAAAAAAAAAAAAAAAAAAAAAAAAAAAAAAAAAAAAAAAAAAAAAAAAAAAAAAAAAAAAAAAAAAAAAAAAAAAAAAAAAAAAAAAAAAAAAAAAAAAAAAAAAAAACwAAAAAMgABAAAIDgABCBxIsKDBgwgTFgwIADs=\"><title>Layer: hidden (hidden)\n shape = (50,)\n Keras class = Dense\n activation = relu</title></image><text x=\"471.6666666666667\" y=\"359.5\" font-family=\"monospace\" font-size=\"12\" text-anchor=\"start\" alignment-baseline=\"central\">hidden</text><line x1=\"733.3333333333334\" y1=\"344\" x2=\"733.3333333333334\" y2=\"317\" stroke=\"black\" stroke-width=\"2\" marker-end=\"url(#arrow)\"><title>Weights from conv to flatten</title></line><rect x=\"632.3333333333334\" y=\"344\" width=\"202\" height=\"137\" style=\"fill:none;stroke:black;stroke-width:2\"/><image id=\"Robot Prediction Network_conv_19\" class=\"Robot Prediction Network_conv\" x=\"633.3333333333334\" y=\"345\" height=\"135\" width=\"200\" preserveAspectRatio=\"none\" href=\"data:image/gif;base64,R0lGODdhPgAqAIcAAP7+/QAAAAAAAAAAAAAAAAAAAAAAAAAAAAAAAAAAAAAAAAAAAAAAAAAAAAAAAAAAAAAAAAAAAAAAAAAAAAAAAAAAAAAAAAAAAAAAAAAAAAAAAAAAAAAAAAAAAAAAAAAAAAAAAAAAAAAAAAAAAAAAAAAAAAAAAAAAAAAAAAAAAAAAAAAAAAAAAAAAAAAAAAAAAAAAAAAAAAAAAAAAAAAAAAAAAAAAAAAAAAAAAAAAAAAAAAAAAAAAAAAAAAAAAAAAAAAAAAAAAAAAAAAAAAAAAAAAAAAAAAAAAAAAAAAAAAAAAAAAAAAAAAAAAAAAAAAAAAAAAAAAAAAAAAAAAAAAAAAAAAAAAAAAAAAAAAAAAAAAAAAAAAAAAAAAAAAAAAAAAAAAAAAAAAAAAAAAAAAAAAAAAAAAAAAAAAAAAAAAAAAAAAAAAAAAAAAAAAAAAAAAAAAAAAAAAAAAAAAAAAAAAAAAAAAAAAAAAAAAAAAAAAAAAAAAAAAAAAAAAAAAAAAAAAAAAAAAAAAAAAAAAAAAAAAAAAAAAAAAAAAAAAAAAAAAAAAAAAAAAAAAAAAAAAAAAAAAAAAAAAAAAAAAAAAAAAAAAAAAAAAAAAAAAAAAAAAAAAAAAAAAAAAAAAAAAAAAAAAAAAAAAAAAAAAAAAAAAAAAAAAAAAAAAAAAAAAAAAAAAAAAAAAAAAAAAAAAAAAAAAAAAAAAAAAAAAAAAAAAAAAAAAAAAAAAAAAAAAAAAAAAAAAAAAAAAAAAAAAAAAAAAAAAAAAAAAAAAAAAAAAAAAAAAAAAAAAAAAAAAAAAAAAAAAAAAAAAAAAAAAAAAAAAAAAAAAAAAAAAAAAAAAAAAAAAAAAAAAAAAAAAAAAAAAAAAAAAAAAAAAAAAAAAAAAAAAAAAAAAAAAAAAAAAAAAAAAAAAAAAAAAAAAAAAAAAAAAAAAAAAAAAAAAAAAAAAAAAAAAAAAAAAAAAAAAAAAAAAAAAAAAAAAAAAAAAAAAAAAAAAAAAAAAAAAAAAAAAAAAACwAAAAAPgAqAEAIVAABCBxIsKDBgwgTKlzIsKHDhxAjSpxIsaLFixgzatzIsaPHjyBDihxJsqTJkyhTqlzJsqXLlzBjypxJs6bNmzhz6tzJs6fPn0CDCh1KtKjRozADAgA7\"><title>Layer: conv (hidden)\n Keras class = Conv2DTranspose</title></image><text x=\"838.3333333333334\" y=\"414.5\" font-family=\"monospace\" font-size=\"12\" text-anchor=\"start\" alignment-baseline=\"central\">conv</text><line x1=\"275.0\" y1=\"509\" x2=\"366.6666666666667\" y2=\"372\" stroke=\"black\" stroke-width=\"2\" marker-end=\"url(#arrow)\"><title>Weights from light to hidden\n hidden/kernel has shape (18, 50)\n hidden/bias has shape (50,)</title></line><rect x=\"224.0\" y=\"509\" width=\"102\" height=\"52\" style=\"fill:none;stroke:black;stroke-width:2\"/><image id=\"Robot Prediction Network_light_20\" class=\"Robot Prediction Network_light\" x=\"225.0\" y=\"510\" height=\"50\" width=\"100\" preserveAspectRatio=\"none\" href=\"data:image/gif;base64,R0lGODdhAgABAIcAAP7+/QAAAAAAAAAAAAAAAAAAAAAAAAAAAAAAAAAAAAAAAAAAAAAAAAAAAAAAAAAAAAAAAAAAAAAAAAAAAAAAAAAAAAAAAAAAAAAAAAAAAAAAAAAAAAAAAAAAAAAAAAAAAAAAAAAAAAAAAAAAAAAAAAAAAAAAAAAAAAAAAAAAAAAAAAAAAAAAAAAAAAAAAAAAAAAAAAAAAAAAAAAAAAAAAAAAAAAAAAAAAAAAAAAAAAAAAAAAAAAAAAAAAAAAAAAAAAAAAAAAAAAAAAAAAAAAAAAAAAAAAAAAAAAAAAAAAAAAAAAAAAAAAAAAAAAAAAAAAAAAAAAAAAAAAAAAAAAAAAAAAAAAAAAAAAAAAAAAAAAAAAAAAAAAAAAAAAAAAAAAAAAAAAAAAAAAAAAAAAAAAAAAAAAAAAAAAAAAAAAAAAAAAAAAAAAAAAAAAAAAAAAAAAAAAAAAAAAAAAAAAAAAAAAAAAAAAAAAAAAAAAAAAAAAAAAAAAAAAAAAAAAAAAAAAAAAAAAAAAAAAAAAAAAAAAAAAAAAAAAAAAAAAAAAAAAAAAAAAAAAAAAAAAAAAAAAAAAAAAAAAAAAAAAAAAAAAAAAAAAAAAAAAAAAAAAAAAAAAAAAAAAAAAAAAAAAAAAAAAAAAAAAAAAAAAAAAAAAAAAAAAAAAAAAAAAAAAAAAAAAAAAAAAAAAAAAAAAAAAAAAAAAAAAAAAAAAAAAAAAAAAAAAAAAAAAAAAAAAAAAAAAAAAAAAAAAAAAAAAAAAAAAAAAAAAAAAAAAAAAAAAAAAAAAAAAAAAAAAAAAAAAAAAAAAAAAAAAAAAAAAAAAAAAAAAAAAAAAAAAAAAAAAAAAAAAAAAAAAAAAAAAAAAAAAAAAAAAAAAAAAAAAAAAAAAAAAAAAAAAAAAAAAAAAAAAAAAAAAAAAAAAAAAAAAAAAAAAAAAAAAAAAAAAAAAAAAAAAAAAAAAAAAAAAAAAAAAAAAAAAAAAAAAAAAAAAAAAAAAAAAAAAAAAAAAAAAAAAAAAAACwAAAAAAgABAAAIBQABAAgIADs=\"><title>Layer: light (input)\n shape = (2,)\n Keras class = Input</title></image><text x=\"330.0\" y=\"537.0\" font-family=\"monospace\" font-size=\"12\" text-anchor=\"start\" alignment-baseline=\"central\">light</text><line x1=\"550.0\" y1=\"509\" x2=\"366.6666666666667\" y2=\"372\" stroke=\"black\" stroke-width=\"2\" marker-end=\"url(#arrow)\"><title>Weights from sonar to hidden\n hidden/kernel has shape (18, 50)\n hidden/bias has shape (50,)</title></line><rect x=\"449.0\" y=\"509\" width=\"202\" height=\"27\" style=\"fill:none;stroke:black;stroke-width:2\"/><image id=\"Robot Prediction Network_sonar_21\" class=\"Robot Prediction Network_sonar\" x=\"450.0\" y=\"510\" height=\"25\" width=\"200\" preserveAspectRatio=\"none\" href=\"data:image/gif;base64,R0lGODdhEAABAIcAAP7+/QAAAAAAAAAAAAAAAAAAAAAAAAAAAAAAAAAAAAAAAAAAAAAAAAAAAAAAAAAAAAAAAAAAAAAAAAAAAAAAAAAAAAAAAAAAAAAAAAAAAAAAAAAAAAAAAAAAAAAAAAAAAAAAAAAAAAAAAAAAAAAAAAAAAAAAAAAAAAAAAAAAAAAAAAAAAAAAAAAAAAAAAAAAAAAAAAAAAAAAAAAAAAAAAAAAAAAAAAAAAAAAAAAAAAAAAAAAAAAAAAAAAAAAAAAAAAAAAAAAAAAAAAAAAAAAAAAAAAAAAAAAAAAAAAAAAAAAAAAAAAAAAAAAAAAAAAAAAAAAAAAAAAAAAAAAAAAAAAAAAAAAAAAAAAAAAAAAAAAAAAAAAAAAAAAAAAAAAAAAAAAAAAAAAAAAAAAAAAAAAAAAAAAAAAAAAAAAAAAAAAAAAAAAAAAAAAAAAAAAAAAAAAAAAAAAAAAAAAAAAAAAAAAAAAAAAAAAAAAAAAAAAAAAAAAAAAAAAAAAAAAAAAAAAAAAAAAAAAAAAAAAAAAAAAAAAAAAAAAAAAAAAAAAAAAAAAAAAAAAAAAAAAAAAAAAAAAAAAAAAAAAAAAAAAAAAAAAAAAAAAAAAAAAAAAAAAAAAAAAAAAAAAAAAAAAAAAAAAAAAAAAAAAAAAAAAAAAAAAAAAAAAAAAAAAAAAAAAAAAAAAAAAAAAAAAAAAAAAAAAAAAAAAAAAAAAAAAAAAAAAAAAAAAAAAAAAAAAAAAAAAAAAAAAAAAAAAAAAAAAAAAAAAAAAAAAAAAAAAAAAAAAAAAAAAAAAAAAAAAAAAAAAAAAAAAAAAAAAAAAAAAAAAAAAAAAAAAAAAAAAAAAAAAAAAAAAAAAAAAAAAAAAAAAAAAAAAAAAAAAAAAAAAAAAAAAAAAAAAAAAAAAAAAAAAAAAAAAAAAAAAAAAAAAAAAAAAAAAAAAAAAAAAAAAAAAAAAAAAAAAAAAAAAAAAAAAAAAAAAAAAAAAAAAAAAAAAAAAAAAAAAAAAAAAAAAAAAAAAAACwAAAAAEAABAAAICQABCBxIsCCAgAA7\"><title>Layer: sonar (input)\n shape = (16,)\n Keras class = Input</title></image><text x=\"655.0\" y=\"524.5\" font-family=\"monospace\" font-size=\"12\" text-anchor=\"start\" alignment-baseline=\"central\">sonar</text><line x1=\"825.0\" y1=\"509\" x2=\"733.3333333333334\" y2=\"482\" stroke=\"black\" stroke-width=\"2\" marker-end=\"url(#arrow)\"><title>Weights from camera to conv\n conv/kernel has shape (3, 3, 16, 3)\n conv/bias has shape (16,)</title></line><rect x=\"724.0\" y=\"509\" width=\"202\" height=\"135\" style=\"fill:none;stroke:black;stroke-width:2\"/><image id=\"Robot Prediction Network_camera_22\" class=\"Robot Prediction Network_camera\" x=\"725.0\" y=\"510\" height=\"133\" width=\"200\" preserveAspectRatio=\"none\" href=\"data:image/gif;base64,R0lGODdhPAAoAIcAAAAAAAAAAAAAAAAAAAAAAAAAAAAAAAAAAAAAAAAAAAAAAAAAAAAAAAAAAAAAAAAAAAAAAAAAAAAAAAAAAAAAAAAAAAAAAAAAAAAAAAAAAAAAAAAAAAAAAAAAAAAAAAAAAAAAAAAAAAAAAAAAAAAAAAAAAAAAAAAAAAAAAAAAAAAAAAAAAAAAAAAAAAAAAAAAAAAAAAAAAAAAAAAAAAAAAAAAAAAAAAAAAAAAAAAAAAAAAAAAAAAAAAAAAAAAAAAAAAAAAAAAAAAAAAAAAAAAAAAAAAAAAAAAAAAAAAAAAAAAAAAAAAAAAAAAAAAAAAAAAAAAAAAAAAAAAAAAAAAAAAAAAAAAAAAAAAAAAAAAAAAAAAAAAAAAAAAAAAAAAAAAAAAAAAAAAAAAAAAAAAAAAAAAAAAAAAAAAAAAAAAAAAAAAAAAAAAAAAAAAAAAAAAAAAAAAAAAAAAAAAAAAAAAAAAAAAAAAAAAAAAAAAAAAAAAAAAAAAAAAAAAAAAAAAAAAAAAAAAAAAAAAAAAAAAAAAAAAAAAAAAAAAAAAAAAAAAAAAAAAAAAAAAAAAAAAAAAAAAAAAAAAAAAAAAAAAAAAAAAAAAAAAAAAAAAAAAAAAAAAAAAAAAAAAAAAAAAAAAAAAAAAAAAAAAAAAAAAAAAAAAAAAAAAAAAAAAAAAAAAAAAAAAAAAAAAAAAAAAAAAAAAAAAAAAAAAAAAAAAAAAAAAAAAAAAAAAAAAAAAAAAAAAAAAAAAAAAAAAAAAAAAAAAAAAAAAAAAAAAAAAAAAAAAAAAAAAAAAAAAAAAAAAAAAAAAAAAAAAAAAAAAAAAAAAAAAAAAAAAAAAAAAAAAAAAAAAAAAAAAAAAAAAAAAAAAAAAAAAAAAAAAAAAAAAAAAAAAAAAAAAAAAAAAAAAAAAAAAAAAAAAAAAAAAAAAAAAAAAAAAAAAAAAAAAAAAAAAAAAAAAAAAAAAAAAAAAAAAAAAAAAAAAAAAAAAAAAAAAAAAAAAAAAAAAAAAAAAAAAAAAAACwAAAAAPAAoAEAIUAABCBxIsKDBgwgTKlzIsKHDhxAjSpxIsaLFixgzatzIsaPHjyBDihxJsqTJkyhTqlzJsqXLlzBjypxJs6bNmzhz6tzJs6fPn0CDCh1K1GZAADs=\"><title>Layer: camera (input)\n shape = (40, 60, 3)\n Keras class = Input</title></image><text x=\"930.0\" y=\"578.5\" font-family=\"monospace\" font-size=\"12\" text-anchor=\"start\" alignment-baseline=\"central\">camera</text></svg>"
      }
     },
     "9e26346e73704f85baafc6b5f599cda6": {
      "model_module": "jupyter-js-widgets",
      "model_module_version": "~2.1.4",
      "model_name": "HBoxModel",
      "state": {
       "_model_module_version": "~2.1.4",
       "_view_module_version": "~2.1.4",
       "children": [
        "IPY_MODEL_0c45e858db964bf59d61ff47aca63ff8",
        "IPY_MODEL_883d457f96dd40a28f0864160d155392"
       ],
       "layout": "IPY_MODEL_d945a37248814f03b37ac5173c20d578"
      }
     },
     "9e3ab9cb1b1b46ef9d10f126d491a3f8": {
      "model_module": "jupyter-js-widgets",
      "model_module_version": "~2.1.4",
      "model_name": "LayoutModel",
      "state": {
       "_model_module_version": "~2.1.4",
       "_view_module_version": "~2.1.4"
      }
     },
     "9e83babd13c0412993a5408f1109e0ee": {
      "model_module": "jupyter-js-widgets",
      "model_module_version": "~2.1.4",
      "model_name": "FloatSliderModel",
      "state": {
       "_model_module_version": "~2.1.4",
       "_view_module_version": "~2.1.4",
       "layout": "IPY_MODEL_82ee3b1ed0ae41d6bac7d467de4595f7",
       "readout": false,
       "step": 0.1,
       "value": 99.44295769917836
      }
     },
     "9fa56ce05ef841fc890b9980e6c50e66": {
      "model_module": "jupyter-js-widgets",
      "model_module_version": "~2.1.4",
      "model_name": "LayoutModel",
      "state": {
       "_model_module_version": "~2.1.4",
       "_view_module_version": "~2.1.4"
      }
     },
     "a08495d1e1a4463587c69c834b2d4e41": {
      "model_module": "jupyter-js-widgets",
      "model_module_version": "~2.1.4",
      "model_name": "LayoutModel",
      "state": {
       "_model_module_version": "~2.1.4",
       "_view_module_version": "~2.1.4",
       "width": "100%"
      }
     },
     "a0b5560db55a499bbc6204e359a0ccbe": {
      "model_module": "jupyter-js-widgets",
      "model_module_version": "~2.1.4",
      "model_name": "LayoutModel",
      "state": {
       "_model_module_version": "~2.1.4",
       "_view_module_version": "~2.1.4"
      }
     },
     "a0c719e0e7ae49bca2a27e6521dffe89": {
      "model_module": "jupyter-js-widgets",
      "model_module_version": "~2.1.4",
      "model_name": "ButtonModel",
      "state": {
       "_model_module_version": "~2.1.4",
       "_view_module_version": "~2.1.4",
       "icon": "step-forward",
       "layout": "IPY_MODEL_5cc317758c0e40c49e671d965bb47735",
       "style": "IPY_MODEL_3d98b67d0ac24bcc8e3a97e4e69965e5"
      }
     },
     "a13d2b1f62354e9cac70b1ff1eaa74ed": {
      "model_module": "jupyter-js-widgets",
      "model_module_version": "~2.1.4",
      "model_name": "LayoutModel",
      "state": {
       "_model_module_version": "~2.1.4",
       "_view_module_version": "~2.1.4",
       "width": "100%"
      }
     },
     "a25c539fa5fe4e5fa35dafeeec97264c": {
      "model_module": "jupyter-js-widgets",
      "model_module_version": "~2.1.4",
      "model_name": "VBoxModel",
      "state": {
       "_model_module_version": "~2.1.4",
       "_view_module_version": "~2.1.4",
       "children": [
        "IPY_MODEL_5fd946159792456d89b0331a8b2a6eb9"
       ],
       "layout": "IPY_MODEL_f44f56b1635f4ecab92bdcd5b5092e16"
      }
     },
     "a2604ec9f7f04ec9b67ddf418aac92c1": {
      "model_module": "jupyter-js-widgets",
      "model_module_version": "~2.1.4",
      "model_name": "LayoutModel",
      "state": {
       "_model_module_version": "~2.1.4",
       "_view_module_version": "~2.1.4"
      }
     },
     "a2682bbf88424d3c90bf1564debd61a1": {
      "model_module": "jupyter-js-widgets",
      "model_module_version": "~2.1.4",
      "model_name": "LayoutModel",
      "state": {
       "_model_module_version": "~2.1.4",
       "_view_module_version": "~2.1.4",
       "height": "550px",
       "justify_content": "center",
       "overflow_x": "auto",
       "width": "100%"
      }
     },
     "a2bf889ccdff48a88edeb4f9791e0870": {
      "model_module": "jupyter-js-widgets",
      "model_module_version": "~2.1.4",
      "model_name": "LayoutModel",
      "state": {
       "_model_module_version": "~2.1.4",
       "_view_module_version": "~2.1.4",
       "height": "550px",
       "width": "100%"
      }
     },
     "a307ea534d75477cb72b657bd14a1862": {
      "model_module": "jupyter-js-widgets",
      "model_module_version": "~2.1.4",
      "model_name": "FloatSliderModel",
      "state": {
       "_model_module_version": "~2.1.4",
       "_view_module_version": "~2.1.4",
       "layout": "IPY_MODEL_19f0fb1f7a5749fba9205f38e3a8e805",
       "orientation": "vertical",
       "readout": false,
       "step": 0.1,
       "value": 58.92519193361255
      }
     },
     "a34ebf4eef2c4809ba1d8836605525c9": {
      "model_module": "jupyter-js-widgets",
      "model_module_version": "~2.1.4",
      "model_name": "LayoutModel",
      "state": {
       "_model_module_version": "~2.1.4",
       "_view_module_version": "~2.1.4"
      }
     },
     "a3887ac63da240b390f9fb2cabbd720a": {
      "model_module": "jupyter-js-widgets",
      "model_module_version": "~2.1.4",
      "model_name": "LayoutModel",
      "state": {
       "_model_module_version": "~2.1.4",
       "_view_module_version": "~2.1.4"
      }
     },
     "a3956944f280457094b93ffd27f299fe": {
      "model_module": "jupyter-js-widgets",
      "model_module_version": "~2.1.4",
      "model_name": "LayoutModel",
      "state": {
       "_model_module_version": "~2.1.4",
       "_view_module_version": "~2.1.4"
      }
     },
     "a3beac022e424f26bfd88d8ff552cf00": {
      "model_module": "jupyter-js-widgets",
      "model_module_version": "~2.1.4",
      "model_name": "HBoxModel",
      "state": {
       "_model_module_version": "~2.1.4",
       "_view_module_version": "~2.1.4",
       "children": [
        "IPY_MODEL_ebe6b3dc05304a60ad2c3cc5afbc273a",
        "IPY_MODEL_dd7a8e0b1b2a4bc8986cf38b77a87f30"
       ],
       "layout": "IPY_MODEL_1eadeeac07294afd89e6d8d4d0565c65"
      }
     },
     "a3bf484d452e4642a6e4aac271ebe981": {
      "model_module": "jupyter-js-widgets",
      "model_module_version": "~2.1.4",
      "model_name": "ButtonModel",
      "state": {
       "_model_module_version": "~2.1.4",
       "_view_module_version": "~2.1.4",
       "description": "Clear",
       "layout": "IPY_MODEL_b3ed86f3a204400fa11b7ed78daf1d0d",
       "style": "IPY_MODEL_fe9211eb79f14e119debe68ca36f6515"
      }
     },
     "a3e27fc3394245b9ab919a718aacd118": {
      "model_module": "jupyter-js-widgets",
      "model_module_version": "~2.1.4",
      "model_name": "FloatSliderModel",
      "state": {
       "_model_module_version": "~2.1.4",
       "_view_module_version": "~2.1.4",
       "layout": "IPY_MODEL_3b6046ce5c3c499983ae5e9e56dff267",
       "orientation": "vertical",
       "readout": false,
       "step": 0.1,
       "value": 51.24999999999999
      }
     },
     "a3f0eb6e5eb2491b95d47ca62cfbf446": {
      "model_module": "jupyter-js-widgets",
      "model_module_version": "~2.1.4",
      "model_name": "LayoutModel",
      "state": {
       "_model_module_version": "~2.1.4",
       "_view_module_version": "~2.1.4"
      }
     },
     "a402ada84b0a4d37a7c74cf5b7185f6e": {
      "model_module": "jupyter-js-widgets",
      "model_module_version": "~2.1.4",
      "model_name": "LayoutModel",
      "state": {
       "_model_module_version": "~2.1.4",
       "_view_module_version": "~2.1.4"
      }
     },
     "a4761211293342fd80e9cd3ec32abfa7": {
      "model_module": "jupyter-js-widgets",
      "model_module_version": "~2.1.4",
      "model_name": "LayoutModel",
      "state": {
       "_model_module_version": "~2.1.4",
       "_view_module_version": "~2.1.4"
      }
     },
     "a4b2f3969d204f8aa000c608dc975569": {
      "model_module": "jupyter-js-widgets",
      "model_module_version": "~2.1.4",
      "model_name": "LayoutModel",
      "state": {
       "_model_module_version": "~2.1.4",
       "_view_module_version": "~2.1.4"
      }
     },
     "a585561461054844b0dc719b939509f1": {
      "model_module": "jupyter-js-widgets",
      "model_module_version": "~2.1.4",
      "model_name": "LayoutModel",
      "state": {
       "_model_module_version": "~2.1.4",
       "_view_module_version": "~2.1.4",
       "width": "100%"
      }
     },
     "a63175520b61462aabe8914983c2a7d0": {
      "model_module": "jupyter-js-widgets",
      "model_module_version": "~2.1.4",
      "model_name": "LayoutModel",
      "state": {
       "_model_module_version": "~2.1.4",
       "_view_module_version": "~2.1.4"
      }
     },
     "a63402a8f62841c48ed3a6df852c9465": {
      "model_module": "jupyter-js-widgets",
      "model_module_version": "~2.1.4",
      "model_name": "LayoutModel",
      "state": {
       "_model_module_version": "~2.1.4",
       "_view_module_version": "~2.1.4"
      }
     },
     "a6f8921a3f73460898e268b5a9c0867a": {
      "model_module": "jupyter-js-widgets",
      "model_module_version": "~2.1.4",
      "model_name": "FloatSliderModel",
      "state": {
       "_model_module_version": "~2.1.4",
       "_view_module_version": "~2.1.4",
       "layout": "IPY_MODEL_92a73892ebe142b6b1fb966653ad42b0",
       "orientation": "vertical",
       "readout": false,
       "step": 0.1,
       "value": 43.362006356912275
      }
     },
     "a74200bee3a3434a88b46139a2c79d5b": {
      "model_module": "jupyter-js-widgets",
      "model_module_version": "~2.1.4",
      "model_name": "ButtonModel",
      "state": {
       "_model_module_version": "~2.1.4",
       "_view_module_version": "~2.1.4",
       "description": "Clear",
       "layout": "IPY_MODEL_1056173c9ec343fb9e30845574ead9d0",
       "style": "IPY_MODEL_b7da215fe49e41769f8e72c1753c8276"
      }
     },
     "a7edf0fac81b4a0fb7f742596b2944d8": {
      "model_module": "jupyter-js-widgets",
      "model_module_version": "~2.1.4",
      "model_name": "LayoutModel",
      "state": {
       "_model_module_version": "~2.1.4",
       "_view_module_version": "~2.1.4"
      }
     },
     "a842d6b18130450fa208686f35c70321": {
      "model_module": "jupyter-js-widgets",
      "model_module_version": "~2.1.4",
      "model_name": "HBoxModel",
      "state": {
       "_model_module_version": "~2.1.4",
       "_view_module_version": "~2.1.4",
       "children": [
        "IPY_MODEL_a0c719e0e7ae49bca2a27e6521dffe89",
        "IPY_MODEL_1151951531bb43e2be78fd798fa98b1b",
        "IPY_MODEL_8803f8cb020a4e51983bb6cd4310c9b3"
       ],
       "layout": "IPY_MODEL_1d92069f1cdc46e4a44896a3775a3370"
      }
     },
     "a89a77c0e6154ed6806c3d9260c7f962": {
      "model_module": "jupyter-js-widgets",
      "model_module_version": "~2.1.4",
      "model_name": "VBoxModel",
      "state": {
       "_model_module_version": "~2.1.4",
       "_view_module_version": "~2.1.4",
       "children": [
        "IPY_MODEL_82ae9e368c1a41828174b428f4525ded",
        "IPY_MODEL_ae46422ed1564b94bcff6609c8da2712"
       ],
       "layout": "IPY_MODEL_b5eb95d07b6a428fbaa905be8e66c1d7"
      }
     },
     "a8ddbd7efbb84e0c8ae557c2830de179": {
      "model_module": "jupyter-js-widgets",
      "model_module_version": "~2.1.4",
      "model_name": "HTMLModel",
      "state": {
       "_model_module_version": "~2.1.4",
       "_view_module_version": "~2.1.4",
       "layout": "IPY_MODEL_c5beddd1054c4fce8dc2296374274072",
       "value": "\n        <svg id='Robot Prediction Network' xmlns='http://www.w3.org/2000/svg' width=\"1100\" height=\"668\" image-rendering=\"pixelated\">\n    <defs>\n        <marker id=\"arrow\" markerWidth=\"10\" markerHeight=\"10\" refX=\"9\" refY=\"3\" orient=\"auto\" markerUnits=\"strokeWidth\">\n          <path d=\"M0,0 L0,6 L9,3 z\" fill=\"black\" />\n        </marker>\n    </defs>\n<text x=\"550.0\" y=\"12.5\" font-family=\"monospace\" font-size=\"15\" text-anchor=\"middle\" alignment-baseline=\"central\">Robot Prediction Network</text><rect x=\"315.6666666666667\" y=\"29\" width=\"102\" height=\"52\" style=\"fill:none;stroke:black;stroke-width:2\"/><image id=\"Robot Prediction Network_output1_12\" class=\"Robot Prediction Network_output1\" x=\"316.6666666666667\" y=\"30\" height=\"50\" width=\"100\" preserveAspectRatio=\"none\" href=\"data:image/gif;base64,R0lGODdhAgABAIcAAKurq85RRgAAAAAAAAAAAAAAAAAAAAAAAAAAAAAAAAAAAAAAAAAAAAAAAAAAAAAAAAAAAAAAAAAAAAAAAAAAAAAAAAAAAAAAAAAAAAAAAAAAAAAAAAAAAAAAAAAAAAAAAAAAAAAAAAAAAAAAAAAAAAAAAAAAAAAAAAAAAAAAAAAAAAAAAAAAAAAAAAAAAAAAAAAAAAAAAAAAAAAAAAAAAAAAAAAAAAAAAAAAAAAAAAAAAAAAAAAAAAAAAAAAAAAAAAAAAAAAAAAAAAAAAAAAAAAAAAAAAAAAAAAAAAAAAAAAAAAAAAAAAAAAAAAAAAAAAAAAAAAAAAAAAAAAAAAAAAAAAAAAAAAAAAAAAAAAAAAAAAAAAAAAAAAAAAAAAAAAAAAAAAAAAAAAAAAAAAAAAAAAAAAAAAAAAAAAAAAAAAAAAAAAAAAAAAAAAAAAAAAAAAAAAAAAAAAAAAAAAAAAAAAAAAAAAAAAAAAAAAAAAAAAAAAAAAAAAAAAAAAAAAAAAAAAAAAAAAAAAAAAAAAAAAAAAAAAAAAAAAAAAAAAAAAAAAAAAAAAAAAAAAAAAAAAAAAAAAAAAAAAAAAAAAAAAAAAAAAAAAAAAAAAAAAAAAAAAAAAAAAAAAAAAAAAAAAAAAAAAAAAAAAAAAAAAAAAAAAAAAAAAAAAAAAAAAAAAAAAAAAAAAAAAAAAAAAAAAAAAAAAAAAAAAAAAAAAAAAAAAAAAAAAAAAAAAAAAAAAAAAAAAAAAAAAAAAAAAAAAAAAAAAAAAAAAAAAAAAAAAAAAAAAAAAAAAAAAAAAAAAAAAAAAAAAAAAAAAAAAAAAAAAAAAAAAAAAAAAAAAAAAAAAAAAAAAAAAAAAAAAAAAAAAAAAAAAAAAAAAAAAAAAAAAAAAAAAAAAAAAAAAAAAAAAAAAAAAAAAAAAAAAAAAAAAAAAAAAAAAAAAAAAAAAAAAAAAAAAAAAAAAAAAAAAAAAAAAAAAAAAAAAAAAAAAAAAAAAAAAAAAAAAAAAAAAAAAAAAAACwAAAAAAgABAAAIBQADAAgIADs=\"><title>Layer: output1 (output)\n shape = (2,)\n Keras class = Dense\n activation = sigmoid</title></image><text x=\"421.6666666666667\" y=\"57.0\" font-family=\"monospace\" font-size=\"12\" text-anchor=\"start\" alignment-baseline=\"central\">output1</text><rect x=\"632.3333333333334\" y=\"29\" width=\"202\" height=\"42\" style=\"fill:none;stroke:black;stroke-width:2\"/><image id=\"Robot Prediction Network_output2_13\" class=\"Robot Prediction Network_output2\" x=\"633.3333333333334\" y=\"30\" height=\"40\" width=\"200\" preserveAspectRatio=\"none\" href=\"data:image/gif;base64,R0lGODdhBQABAIcAAK2treaFauyTdP3bx/r6+gAAAAAAAAAAAAAAAAAAAAAAAAAAAAAAAAAAAAAAAAAAAAAAAAAAAAAAAAAAAAAAAAAAAAAAAAAAAAAAAAAAAAAAAAAAAAAAAAAAAAAAAAAAAAAAAAAAAAAAAAAAAAAAAAAAAAAAAAAAAAAAAAAAAAAAAAAAAAAAAAAAAAAAAAAAAAAAAAAAAAAAAAAAAAAAAAAAAAAAAAAAAAAAAAAAAAAAAAAAAAAAAAAAAAAAAAAAAAAAAAAAAAAAAAAAAAAAAAAAAAAAAAAAAAAAAAAAAAAAAAAAAAAAAAAAAAAAAAAAAAAAAAAAAAAAAAAAAAAAAAAAAAAAAAAAAAAAAAAAAAAAAAAAAAAAAAAAAAAAAAAAAAAAAAAAAAAAAAAAAAAAAAAAAAAAAAAAAAAAAAAAAAAAAAAAAAAAAAAAAAAAAAAAAAAAAAAAAAAAAAAAAAAAAAAAAAAAAAAAAAAAAAAAAAAAAAAAAAAAAAAAAAAAAAAAAAAAAAAAAAAAAAAAAAAAAAAAAAAAAAAAAAAAAAAAAAAAAAAAAAAAAAAAAAAAAAAAAAAAAAAAAAAAAAAAAAAAAAAAAAAAAAAAAAAAAAAAAAAAAAAAAAAAAAAAAAAAAAAAAAAAAAAAAAAAAAAAAAAAAAAAAAAAAAAAAAAAAAAAAAAAAAAAAAAAAAAAAAAAAAAAAAAAAAAAAAAAAAAAAAAAAAAAAAAAAAAAAAAAAAAAAAAAAAAAAAAAAAAAAAAAAAAAAAAAAAAAAAAAAAAAAAAAAAAAAAAAAAAAAAAAAAAAAAAAAAAAAAAAAAAAAAAAAAAAAAAAAAAAAAAAAAAAAAAAAAAAAAAAAAAAAAAAAAAAAAAAAAAAAAAAAAAAAAAAAAAAAAAAAAAAAAAAAAAAAAAAAAAAAAAAAAAAAAAAAAAAAAAAAAAAAAAAAAAAAAAAAAAAAAAAAAAAAAAAAAAAAAAAAAAAAAAAAAAAAAAAAAAAAAAAAAAAAAAAAAAAAAAAAAAAACwAAAAABQABAAAICAAJBBAAYEBAADs=\"><title>Layer: output2 (output)\n shape = (5,)\n Keras class = Dense\n activation = sigmoid</title></image><text x=\"838.3333333333334\" y=\"52.0\" font-family=\"monospace\" font-size=\"12\" text-anchor=\"start\" alignment-baseline=\"central\">output2</text><line x1=\"366.6666666666667\" y1=\"109\" x2=\"366.6666666666667\" y2=\"82\" stroke=\"black\" stroke-width=\"2\" marker-end=\"url(#arrow)\"><title>Weights from hidden4 to output1\n output1/kernel has shape (10, 2)\n output1/bias has shape (2,)</title></line><rect x=\"265.6666666666667\" y=\"109\" width=\"202\" height=\"27\" style=\"fill:none;stroke:black;stroke-width:2\"/><image id=\"Robot Prediction Network_hidden4_14\" class=\"Robot Prediction Network_hidden4\" x=\"266.6666666666667\" y=\"110\" height=\"25\" width=\"200\" preserveAspectRatio=\"none\" href=\"data:image/gif;base64,R0lGODdhCgABAIcAAOzm4/Hx8by8vMjIyPnDqf3dy/3gzwAAAAAAAAAAAAAAAAAAAAAAAAAAAAAAAAAAAAAAAAAAAAAAAAAAAAAAAAAAAAAAAAAAAAAAAAAAAAAAAAAAAAAAAAAAAAAAAAAAAAAAAAAAAAAAAAAAAAAAAAAAAAAAAAAAAAAAAAAAAAAAAAAAAAAAAAAAAAAAAAAAAAAAAAAAAAAAAAAAAAAAAAAAAAAAAAAAAAAAAAAAAAAAAAAAAAAAAAAAAAAAAAAAAAAAAAAAAAAAAAAAAAAAAAAAAAAAAAAAAAAAAAAAAAAAAAAAAAAAAAAAAAAAAAAAAAAAAAAAAAAAAAAAAAAAAAAAAAAAAAAAAAAAAAAAAAAAAAAAAAAAAAAAAAAAAAAAAAAAAAAAAAAAAAAAAAAAAAAAAAAAAAAAAAAAAAAAAAAAAAAAAAAAAAAAAAAAAAAAAAAAAAAAAAAAAAAAAAAAAAAAAAAAAAAAAAAAAAAAAAAAAAAAAAAAAAAAAAAAAAAAAAAAAAAAAAAAAAAAAAAAAAAAAAAAAAAAAAAAAAAAAAAAAAAAAAAAAAAAAAAAAAAAAAAAAAAAAAAAAAAAAAAAAAAAAAAAAAAAAAAAAAAAAAAAAAAAAAAAAAAAAAAAAAAAAAAAAAAAAAAAAAAAAAAAAAAAAAAAAAAAAAAAAAAAAAAAAAAAAAAAAAAAAAAAAAAAAAAAAAAAAAAAAAAAAAAAAAAAAAAAAAAAAAAAAAAAAAAAAAAAAAAAAAAAAAAAAAAAAAAAAAAAAAAAAAAAAAAAAAAAAAAAAAAAAAAAAAAAAAAAAAAAAAAAAAAAAAAAAAAAAAAAAAAAAAAAAAAAAAAAAAAAAAAAAAAAAAAAAAAAAAAAAAAAAAAAAAAAAAAAAAAAAAAAAAAAAAAAAAAAAAAAAAAAAAAAAAAAAAAAAAAAAAAAAAAAAAAAAAAAAAAAAAAAAAAAAAAAAAAAAAAAAAAAAAAAAAAAAAAAAAAAAAAAAAAAAAAAAAAAAAAAAAAAAAAAACwAAAAACgABAAAIDgADABAAAACBAgYCDAgIADs=\"><title>Layer: hidden4 (hidden)\n shape = (10,)\n Keras class = Dense\n activation = sigmoid</title></image><text x=\"471.6666666666667\" y=\"124.5\" font-family=\"monospace\" font-size=\"12\" text-anchor=\"start\" alignment-baseline=\"central\">hidden4</text><line x1=\"733.3333333333334\" y1=\"110\" x2=\"733.3333333333334\" y2=\"70\" stroke=\"black\" stroke-width=\"2\" marker-end=\"url(#arrow)\"><title>Weights from hidden4 to output1\n output1/kernel has shape (10, 2)\n output1/bias has shape (2,)</title></line><line x1=\"550.0\" y1=\"164\" x2=\"733.3333333333334\" y2=\"110\" stroke=\"black\" stroke-width=\"2\"><title>TODO</title></line><line x1=\"550.0\" y1=\"164\" x2=\"366.6666666666667\" y2=\"137\" stroke=\"black\" stroke-width=\"2\" marker-end=\"url(#arrow)\"><title>Weights from hidden3 to hidden4\n hidden4/kernel has shape (10, 10)\n hidden4/bias has shape (10,)</title></line><rect x=\"449.0\" y=\"164\" width=\"202\" height=\"27\" style=\"fill:none;stroke:black;stroke-width:2\"/><image id=\"Robot Prediction Network_hidden3_15\" class=\"Robot Prediction Network_hidden3\" x=\"450.0\" y=\"165\" height=\"25\" width=\"200\" preserveAspectRatio=\"none\" href=\"data:image/gif;base64,R0lGODdhCgABAIcAAP338+fn593d3fnFq/3bx/3gzwAAAAAAAAAAAAAAAAAAAAAAAAAAAAAAAAAAAAAAAAAAAAAAAAAAAAAAAAAAAAAAAAAAAAAAAAAAAAAAAAAAAAAAAAAAAAAAAAAAAAAAAAAAAAAAAAAAAAAAAAAAAAAAAAAAAAAAAAAAAAAAAAAAAAAAAAAAAAAAAAAAAAAAAAAAAAAAAAAAAAAAAAAAAAAAAAAAAAAAAAAAAAAAAAAAAAAAAAAAAAAAAAAAAAAAAAAAAAAAAAAAAAAAAAAAAAAAAAAAAAAAAAAAAAAAAAAAAAAAAAAAAAAAAAAAAAAAAAAAAAAAAAAAAAAAAAAAAAAAAAAAAAAAAAAAAAAAAAAAAAAAAAAAAAAAAAAAAAAAAAAAAAAAAAAAAAAAAAAAAAAAAAAAAAAAAAAAAAAAAAAAAAAAAAAAAAAAAAAAAAAAAAAAAAAAAAAAAAAAAAAAAAAAAAAAAAAAAAAAAAAAAAAAAAAAAAAAAAAAAAAAAAAAAAAAAAAAAAAAAAAAAAAAAAAAAAAAAAAAAAAAAAAAAAAAAAAAAAAAAAAAAAAAAAAAAAAAAAAAAAAAAAAAAAAAAAAAAAAAAAAAAAAAAAAAAAAAAAAAAAAAAAAAAAAAAAAAAAAAAAAAAAAAAAAAAAAAAAAAAAAAAAAAAAAAAAAAAAAAAAAAAAAAAAAAAAAAAAAAAAAAAAAAAAAAAAAAAAAAAAAAAAAAAAAAAAAAAAAAAAAAAAAAAAAAAAAAAAAAAAAAAAAAAAAAAAAAAAAAAAAAAAAAAAAAAAAAAAAAAAAAAAAAAAAAAAAAAAAAAAAAAAAAAAAAAAAAAAAAAAAAAAAAAAAAAAAAAAAAAAAAAAAAAAAAAAAAAAAAAAAAAAAAAAAAAAAAAAAAAAAAAAAAAAAAAAAAAAAAAAAAAAAAAAAAAAAAAAAAAAAAAAAAAAAAAAAAAAAAAAAAAAAAAAAAAAAAAAAAAAAAAAAAAAAAAAAAAAAAAAAAAAAAAAAAAAAAAAAAACwAAAAACgABAAAIDgABBABAoIAAAAEGAAgIADs=\"><title>Layer: hidden3 (hidden)\n shape = (10,)\n Keras class = Dense\n activation = sigmoid</title></image><text x=\"655.0\" y=\"179.5\" font-family=\"monospace\" font-size=\"12\" text-anchor=\"start\" alignment-baseline=\"central\">hidden3</text><line x1=\"550.0\" y1=\"219\" x2=\"550.0\" y2=\"192\" stroke=\"black\" stroke-width=\"2\" marker-end=\"url(#arrow)\"><title>Weights from hidden2 to hidden3\n hidden3/kernel has shape (5, 10)\n hidden3/bias has shape (10,)</title></line><rect x=\"449.0\" y=\"219\" width=\"202\" height=\"42\" style=\"fill:none;stroke:black;stroke-width:2\"/><image id=\"Robot Prediction Network_hidden2_16\" class=\"Robot Prediction Network_hidden2\" x=\"450.0\" y=\"220\" height=\"40\" width=\"200\" preserveAspectRatio=\"none\" href=\"data:image/gif;base64,R0lGODdhBQABAIcAAP7+/QAAAAAAAAAAAAAAAAAAAAAAAAAAAAAAAAAAAAAAAAAAAAAAAAAAAAAAAAAAAAAAAAAAAAAAAAAAAAAAAAAAAAAAAAAAAAAAAAAAAAAAAAAAAAAAAAAAAAAAAAAAAAAAAAAAAAAAAAAAAAAAAAAAAAAAAAAAAAAAAAAAAAAAAAAAAAAAAAAAAAAAAAAAAAAAAAAAAAAAAAAAAAAAAAAAAAAAAAAAAAAAAAAAAAAAAAAAAAAAAAAAAAAAAAAAAAAAAAAAAAAAAAAAAAAAAAAAAAAAAAAAAAAAAAAAAAAAAAAAAAAAAAAAAAAAAAAAAAAAAAAAAAAAAAAAAAAAAAAAAAAAAAAAAAAAAAAAAAAAAAAAAAAAAAAAAAAAAAAAAAAAAAAAAAAAAAAAAAAAAAAAAAAAAAAAAAAAAAAAAAAAAAAAAAAAAAAAAAAAAAAAAAAAAAAAAAAAAAAAAAAAAAAAAAAAAAAAAAAAAAAAAAAAAAAAAAAAAAAAAAAAAAAAAAAAAAAAAAAAAAAAAAAAAAAAAAAAAAAAAAAAAAAAAAAAAAAAAAAAAAAAAAAAAAAAAAAAAAAAAAAAAAAAAAAAAAAAAAAAAAAAAAAAAAAAAAAAAAAAAAAAAAAAAAAAAAAAAAAAAAAAAAAAAAAAAAAAAAAAAAAAAAAAAAAAAAAAAAAAAAAAAAAAAAAAAAAAAAAAAAAAAAAAAAAAAAAAAAAAAAAAAAAAAAAAAAAAAAAAAAAAAAAAAAAAAAAAAAAAAAAAAAAAAAAAAAAAAAAAAAAAAAAAAAAAAAAAAAAAAAAAAAAAAAAAAAAAAAAAAAAAAAAAAAAAAAAAAAAAAAAAAAAAAAAAAAAAAAAAAAAAAAAAAAAAAAAAAAAAAAAAAAAAAAAAAAAAAAAAAAAAAAAAAAAAAAAAAAAAAAAAAAAAAAAAAAAAAAAAAAAAAAAAAAAAAAAAAAAAAAAAAAAAAAAAAAAAAAAAAAAAAAAAAAAAAAAAAAAAAAAAAAAAAAAAAAAAAAAAACwAAAAABQABAAAIBgABCBQYEAA7\"><title>Layer: hidden2 (hidden)\n shape = (5,)\n Keras class = Dense\n activation = sigmoid</title></image><text x=\"655.0\" y=\"242.0\" font-family=\"monospace\" font-size=\"12\" text-anchor=\"start\" alignment-baseline=\"central\">hidden2</text><line x1=\"366.6666666666667\" y1=\"290\" x2=\"550.0\" y2=\"260\" stroke=\"black\" stroke-width=\"2\" marker-end=\"url(#arrow)\"><title>Weights from hidden2 to hidden3\n hidden3/kernel has shape (5, 10)\n hidden3/bias has shape (10,)</title></line><line x1=\"733.3333333333334\" y1=\"289\" x2=\"550.0\" y2=\"262\" stroke=\"black\" stroke-width=\"2\" marker-end=\"url(#arrow)\"><title>Weights from flatten to hidden2\n hidden2/kernel has shape (41714, 5)\n hidden2/bias has shape (5,)</title></line><rect x=\"632.3333333333334\" y=\"289\" width=\"202\" height=\"27\" style=\"fill:none;stroke:black;stroke-width:2\"/><image id=\"Robot Prediction Network_flatten_17\" class=\"Robot Prediction Network_flatten\" x=\"633.3333333333334\" y=\"290\" height=\"25\" width=\"200\" preserveAspectRatio=\"none\" href=\"data:image/gif;base64,R0lGODdhwKIBAIcAAP7+/QAAAAAAAAAAAAAAAAAAAAAAAAAAAAAAAAAAAAAAAAAAAAAAAAAAAAAAAAAAAAAAAAAAAAAAAAAAAAAAAAAAAAAAAAAAAAAAAAAAAAAAAAAAAAAAAAAAAAAAAAAAAAAAAAAAAAAAAAAAAAAAAAAAAAAAAAAAAAAAAAAAAAAAAAAAAAAAAAAAAAAAAAAAAAAAAAAAAAAAAAAAAAAAAAAAAAAAAAAAAAAAAAAAAAAAAAAAAAAAAAAAAAAAAAAAAAAAAAAAAAAAAAAAAAAAAAAAAAAAAAAAAAAAAAAAAAAAAAAAAAAAAAAAAAAAAAAAAAAAAAAAAAAAAAAAAAAAAAAAAAAAAAAAAAAAAAAAAAAAAAAAAAAAAAAAAAAAAAAAAAAAAAAAAAAAAAAAAAAAAAAAAAAAAAAAAAAAAAAAAAAAAAAAAAAAAAAAAAAAAAAAAAAAAAAAAAAAAAAAAAAAAAAAAAAAAAAAAAAAAAAAAAAAAAAAAAAAAAAAAAAAAAAAAAAAAAAAAAAAAAAAAAAAAAAAAAAAAAAAAAAAAAAAAAAAAAAAAAAAAAAAAAAAAAAAAAAAAAAAAAAAAAAAAAAAAAAAAAAAAAAAAAAAAAAAAAAAAAAAAAAAAAAAAAAAAAAAAAAAAAAAAAAAAAAAAAAAAAAAAAAAAAAAAAAAAAAAAAAAAAAAAAAAAAAAAAAAAAAAAAAAAAAAAAAAAAAAAAAAAAAAAAAAAAAAAAAAAAAAAAAAAAAAAAAAAAAAAAAAAAAAAAAAAAAAAAAAAAAAAAAAAAAAAAAAAAAAAAAAAAAAAAAAAAAAAAAAAAAAAAAAAAAAAAAAAAAAAAAAAAAAAAAAAAAAAAAAAAAAAAAAAAAAAAAAAAAAAAAAAAAAAAAAAAAAAAAAAAAAAAAAAAAAAAAAAAAAAAAAAAAAAAAAAAAAAAAAAAAAAAAAAAAAAAAAAAAAAAAAAAAAAAAAAAAAAAAAAAAAAAAAAAAAAAAAAAAAAAAAAAAAAAAAAAAAAAAAAAAAACwAAAAAwKIBAAAI/wABCBxIsKDBgwgTKlzIsKHDhxAjSpxIsaLFixgzatzIsaPHjyBDihxJsqTJkyhTqlzJsqXLlzBjypxJs6bNmzhz6tzJs6fPn0CDCh1KtKjRo0iTKl3KtKnTp1CjSp1KtarVq1izat3KtavXr2DDih1LtqzZs2jTql3Ltq3bt3Djyp1Lt67du3jz6t3Lt6/fv4ADCx5MuLDhw4gTK17MuLHjx5AjS55MubLly5gza97MubPnz6BDix5NurTp06hTq17NurXr17Bjy55Nu7bt27hz697Nu7fv38CDCx9OvLjx48iTK1/OvLnz59CjS59Ovbr169iza9/Ovbv37+DDi7wfT768+fPo06tfz769+/fw48ufT7++/fv48+vfz7+/f4AABA4kWNDgQYQJFS5k2NDhQ4gRJU6kWNHiRYwZNW7k2NHjR5AhRY4kWdLkSZQpVa5k2dLlS5gxZc6kWdPmTZw5de7k2dPnT6BBhQ4lWtToUaRJlS5l2tTpU6hRpU6lWtXqVaxZtW7l2tXrV7BhxY4lW9bsWbRp1a5l29btW7hx5c6lW9fuXbx59e7l29fvX8CBBQ8mXNjw4bEBAQA7\"><title>Layer: flatten (hidden)\n Keras class = Flatten</title></image><text x=\"838.3333333333334\" y=\"304.5\" font-family=\"monospace\" font-size=\"12\" text-anchor=\"start\" alignment-baseline=\"central\">flatten</text><line x1=\"366.6666666666667\" y1=\"344\" x2=\"366.6666666666667\" y2=\"290\" stroke=\"black\" stroke-width=\"2\"><title>TODO</title></line><rect x=\"265.6666666666667\" y=\"344\" width=\"202\" height=\"27\" style=\"fill:none;stroke:black;stroke-width:2\"/><image id=\"Robot Prediction Network_hidden_18\" class=\"Robot Prediction Network_hidden\" x=\"266.6666666666667\" y=\"345\" height=\"25\" width=\"200\" preserveAspectRatio=\"none\" href=\"data:image/gif;base64,R0lGODdhMgABAIcAAP7+/QAAAAAAAAAAAAAAAAAAAAAAAAAAAAAAAAAAAAAAAAAAAAAAAAAAAAAAAAAAAAAAAAAAAAAAAAAAAAAAAAAAAAAAAAAAAAAAAAAAAAAAAAAAAAAAAAAAAAAAAAAAAAAAAAAAAAAAAAAAAAAAAAAAAAAAAAAAAAAAAAAAAAAAAAAAAAAAAAAAAAAAAAAAAAAAAAAAAAAAAAAAAAAAAAAAAAAAAAAAAAAAAAAAAAAAAAAAAAAAAAAAAAAAAAAAAAAAAAAAAAAAAAAAAAAAAAAAAAAAAAAAAAAAAAAAAAAAAAAAAAAAAAAAAAAAAAAAAAAAAAAAAAAAAAAAAAAAAAAAAAAAAAAAAAAAAAAAAAAAAAAAAAAAAAAAAAAAAAAAAAAAAAAAAAAAAAAAAAAAAAAAAAAAAAAAAAAAAAAAAAAAAAAAAAAAAAAAAAAAAAAAAAAAAAAAAAAAAAAAAAAAAAAAAAAAAAAAAAAAAAAAAAAAAAAAAAAAAAAAAAAAAAAAAAAAAAAAAAAAAAAAAAAAAAAAAAAAAAAAAAAAAAAAAAAAAAAAAAAAAAAAAAAAAAAAAAAAAAAAAAAAAAAAAAAAAAAAAAAAAAAAAAAAAAAAAAAAAAAAAAAAAAAAAAAAAAAAAAAAAAAAAAAAAAAAAAAAAAAAAAAAAAAAAAAAAAAAAAAAAAAAAAAAAAAAAAAAAAAAAAAAAAAAAAAAAAAAAAAAAAAAAAAAAAAAAAAAAAAAAAAAAAAAAAAAAAAAAAAAAAAAAAAAAAAAAAAAAAAAAAAAAAAAAAAAAAAAAAAAAAAAAAAAAAAAAAAAAAAAAAAAAAAAAAAAAAAAAAAAAAAAAAAAAAAAAAAAAAAAAAAAAAAAAAAAAAAAAAAAAAAAAAAAAAAAAAAAAAAAAAAAAAAAAAAAAAAAAAAAAAAAAAAAAAAAAAAAAAAAAAAAAAAAAAAAAAAAAAAAAAAAAAAAAAAAAAAAAAAAAAAAAAAAAAAAAAAAAAAAAAAAAAAAAAAAAAAAAAAAACwAAAAAMgABAAAIDgABCBxIsKDBgwgTFgwIADs=\"><title>Layer: hidden (hidden)\n shape = (50,)\n Keras class = Dense\n activation = relu</title></image><text x=\"471.6666666666667\" y=\"359.5\" font-family=\"monospace\" font-size=\"12\" text-anchor=\"start\" alignment-baseline=\"central\">hidden</text><line x1=\"733.3333333333334\" y1=\"344\" x2=\"733.3333333333334\" y2=\"317\" stroke=\"black\" stroke-width=\"2\" marker-end=\"url(#arrow)\"><title>Weights from conv to flatten</title></line><rect x=\"632.3333333333334\" y=\"344\" width=\"202\" height=\"137\" style=\"fill:none;stroke:black;stroke-width:2\"/><image id=\"Robot Prediction Network_conv_19\" class=\"Robot Prediction Network_conv\" x=\"633.3333333333334\" y=\"345\" height=\"135\" width=\"200\" preserveAspectRatio=\"none\" href=\"data:image/gif;base64,R0lGODdhPgAqAIcAAP7+/QAAAAAAAAAAAAAAAAAAAAAAAAAAAAAAAAAAAAAAAAAAAAAAAAAAAAAAAAAAAAAAAAAAAAAAAAAAAAAAAAAAAAAAAAAAAAAAAAAAAAAAAAAAAAAAAAAAAAAAAAAAAAAAAAAAAAAAAAAAAAAAAAAAAAAAAAAAAAAAAAAAAAAAAAAAAAAAAAAAAAAAAAAAAAAAAAAAAAAAAAAAAAAAAAAAAAAAAAAAAAAAAAAAAAAAAAAAAAAAAAAAAAAAAAAAAAAAAAAAAAAAAAAAAAAAAAAAAAAAAAAAAAAAAAAAAAAAAAAAAAAAAAAAAAAAAAAAAAAAAAAAAAAAAAAAAAAAAAAAAAAAAAAAAAAAAAAAAAAAAAAAAAAAAAAAAAAAAAAAAAAAAAAAAAAAAAAAAAAAAAAAAAAAAAAAAAAAAAAAAAAAAAAAAAAAAAAAAAAAAAAAAAAAAAAAAAAAAAAAAAAAAAAAAAAAAAAAAAAAAAAAAAAAAAAAAAAAAAAAAAAAAAAAAAAAAAAAAAAAAAAAAAAAAAAAAAAAAAAAAAAAAAAAAAAAAAAAAAAAAAAAAAAAAAAAAAAAAAAAAAAAAAAAAAAAAAAAAAAAAAAAAAAAAAAAAAAAAAAAAAAAAAAAAAAAAAAAAAAAAAAAAAAAAAAAAAAAAAAAAAAAAAAAAAAAAAAAAAAAAAAAAAAAAAAAAAAAAAAAAAAAAAAAAAAAAAAAAAAAAAAAAAAAAAAAAAAAAAAAAAAAAAAAAAAAAAAAAAAAAAAAAAAAAAAAAAAAAAAAAAAAAAAAAAAAAAAAAAAAAAAAAAAAAAAAAAAAAAAAAAAAAAAAAAAAAAAAAAAAAAAAAAAAAAAAAAAAAAAAAAAAAAAAAAAAAAAAAAAAAAAAAAAAAAAAAAAAAAAAAAAAAAAAAAAAAAAAAAAAAAAAAAAAAAAAAAAAAAAAAAAAAAAAAAAAAAAAAAAAAAAAAAAAAAAAAAAAAAAAAAAAAAAAAAAAAAAAAAAAAAAAAAAAAAAAAAAAAAAAACwAAAAAPgAqAEAIVAABCBxIsKDBgwgTKlzIsKHDhxAjSpxIsaLFixgzatzIsaPHjyBDihxJsqTJkyhTqlzJsqXLlzBjypxJs6bNmzhz6tzJs6fPn0CDCh1KtKjRozADAgA7\"><title>Layer: conv (hidden)\n Keras class = Conv2DTranspose</title></image><text x=\"838.3333333333334\" y=\"414.5\" font-family=\"monospace\" font-size=\"12\" text-anchor=\"start\" alignment-baseline=\"central\">conv</text><line x1=\"275.0\" y1=\"509\" x2=\"366.6666666666667\" y2=\"372\" stroke=\"black\" stroke-width=\"2\" marker-end=\"url(#arrow)\"><title>Weights from light to hidden\n hidden/kernel has shape (18, 50)\n hidden/bias has shape (50,)</title></line><rect x=\"224.0\" y=\"509\" width=\"102\" height=\"52\" style=\"fill:none;stroke:black;stroke-width:2\"/><image id=\"Robot Prediction Network_light_20\" class=\"Robot Prediction Network_light\" x=\"225.0\" y=\"510\" height=\"50\" width=\"100\" preserveAspectRatio=\"none\" href=\"data:image/gif;base64,R0lGODdhAgABAIcAAP7+/QAAAAAAAAAAAAAAAAAAAAAAAAAAAAAAAAAAAAAAAAAAAAAAAAAAAAAAAAAAAAAAAAAAAAAAAAAAAAAAAAAAAAAAAAAAAAAAAAAAAAAAAAAAAAAAAAAAAAAAAAAAAAAAAAAAAAAAAAAAAAAAAAAAAAAAAAAAAAAAAAAAAAAAAAAAAAAAAAAAAAAAAAAAAAAAAAAAAAAAAAAAAAAAAAAAAAAAAAAAAAAAAAAAAAAAAAAAAAAAAAAAAAAAAAAAAAAAAAAAAAAAAAAAAAAAAAAAAAAAAAAAAAAAAAAAAAAAAAAAAAAAAAAAAAAAAAAAAAAAAAAAAAAAAAAAAAAAAAAAAAAAAAAAAAAAAAAAAAAAAAAAAAAAAAAAAAAAAAAAAAAAAAAAAAAAAAAAAAAAAAAAAAAAAAAAAAAAAAAAAAAAAAAAAAAAAAAAAAAAAAAAAAAAAAAAAAAAAAAAAAAAAAAAAAAAAAAAAAAAAAAAAAAAAAAAAAAAAAAAAAAAAAAAAAAAAAAAAAAAAAAAAAAAAAAAAAAAAAAAAAAAAAAAAAAAAAAAAAAAAAAAAAAAAAAAAAAAAAAAAAAAAAAAAAAAAAAAAAAAAAAAAAAAAAAAAAAAAAAAAAAAAAAAAAAAAAAAAAAAAAAAAAAAAAAAAAAAAAAAAAAAAAAAAAAAAAAAAAAAAAAAAAAAAAAAAAAAAAAAAAAAAAAAAAAAAAAAAAAAAAAAAAAAAAAAAAAAAAAAAAAAAAAAAAAAAAAAAAAAAAAAAAAAAAAAAAAAAAAAAAAAAAAAAAAAAAAAAAAAAAAAAAAAAAAAAAAAAAAAAAAAAAAAAAAAAAAAAAAAAAAAAAAAAAAAAAAAAAAAAAAAAAAAAAAAAAAAAAAAAAAAAAAAAAAAAAAAAAAAAAAAAAAAAAAAAAAAAAAAAAAAAAAAAAAAAAAAAAAAAAAAAAAAAAAAAAAAAAAAAAAAAAAAAAAAAAAAAAAAAAAAAAAAAAAAAAAAAAAAAAAAAAAAAAAAAAAAAAAAACwAAAAAAgABAAAIBQABAAgIADs=\"><title>Layer: light (input)\n shape = (2,)\n Keras class = Input</title></image><text x=\"330.0\" y=\"537.0\" font-family=\"monospace\" font-size=\"12\" text-anchor=\"start\" alignment-baseline=\"central\">light</text><line x1=\"550.0\" y1=\"509\" x2=\"366.6666666666667\" y2=\"372\" stroke=\"black\" stroke-width=\"2\" marker-end=\"url(#arrow)\"><title>Weights from sonar to hidden\n hidden/kernel has shape (18, 50)\n hidden/bias has shape (50,)</title></line><rect x=\"449.0\" y=\"509\" width=\"202\" height=\"27\" style=\"fill:none;stroke:black;stroke-width:2\"/><image id=\"Robot Prediction Network_sonar_21\" class=\"Robot Prediction Network_sonar\" x=\"450.0\" y=\"510\" height=\"25\" width=\"200\" preserveAspectRatio=\"none\" href=\"data:image/gif;base64,R0lGODdhEAABAIcAAP7+/QAAAAAAAAAAAAAAAAAAAAAAAAAAAAAAAAAAAAAAAAAAAAAAAAAAAAAAAAAAAAAAAAAAAAAAAAAAAAAAAAAAAAAAAAAAAAAAAAAAAAAAAAAAAAAAAAAAAAAAAAAAAAAAAAAAAAAAAAAAAAAAAAAAAAAAAAAAAAAAAAAAAAAAAAAAAAAAAAAAAAAAAAAAAAAAAAAAAAAAAAAAAAAAAAAAAAAAAAAAAAAAAAAAAAAAAAAAAAAAAAAAAAAAAAAAAAAAAAAAAAAAAAAAAAAAAAAAAAAAAAAAAAAAAAAAAAAAAAAAAAAAAAAAAAAAAAAAAAAAAAAAAAAAAAAAAAAAAAAAAAAAAAAAAAAAAAAAAAAAAAAAAAAAAAAAAAAAAAAAAAAAAAAAAAAAAAAAAAAAAAAAAAAAAAAAAAAAAAAAAAAAAAAAAAAAAAAAAAAAAAAAAAAAAAAAAAAAAAAAAAAAAAAAAAAAAAAAAAAAAAAAAAAAAAAAAAAAAAAAAAAAAAAAAAAAAAAAAAAAAAAAAAAAAAAAAAAAAAAAAAAAAAAAAAAAAAAAAAAAAAAAAAAAAAAAAAAAAAAAAAAAAAAAAAAAAAAAAAAAAAAAAAAAAAAAAAAAAAAAAAAAAAAAAAAAAAAAAAAAAAAAAAAAAAAAAAAAAAAAAAAAAAAAAAAAAAAAAAAAAAAAAAAAAAAAAAAAAAAAAAAAAAAAAAAAAAAAAAAAAAAAAAAAAAAAAAAAAAAAAAAAAAAAAAAAAAAAAAAAAAAAAAAAAAAAAAAAAAAAAAAAAAAAAAAAAAAAAAAAAAAAAAAAAAAAAAAAAAAAAAAAAAAAAAAAAAAAAAAAAAAAAAAAAAAAAAAAAAAAAAAAAAAAAAAAAAAAAAAAAAAAAAAAAAAAAAAAAAAAAAAAAAAAAAAAAAAAAAAAAAAAAAAAAAAAAAAAAAAAAAAAAAAAAAAAAAAAAAAAAAAAAAAAAAAAAAAAAAAAAAAAAAAAAAAAAAAAAAAAAAAAAAAAAAAAAAAAAAAAACwAAAAAEAABAAAICQABCBxIsCCAgAA7\"><title>Layer: sonar (input)\n shape = (16,)\n Keras class = Input</title></image><text x=\"655.0\" y=\"524.5\" font-family=\"monospace\" font-size=\"12\" text-anchor=\"start\" alignment-baseline=\"central\">sonar</text><line x1=\"825.0\" y1=\"509\" x2=\"733.3333333333334\" y2=\"482\" stroke=\"black\" stroke-width=\"2\" marker-end=\"url(#arrow)\"><title>Weights from camera to conv\n conv/kernel has shape (3, 3, 16, 3)\n conv/bias has shape (16,)</title></line><rect x=\"724.0\" y=\"509\" width=\"202\" height=\"135\" style=\"fill:none;stroke:black;stroke-width:2\"/><image id=\"Robot Prediction Network_camera_22\" class=\"Robot Prediction Network_camera\" x=\"725.0\" y=\"510\" height=\"133\" width=\"200\" preserveAspectRatio=\"none\" href=\"data:image/gif;base64,R0lGODdhPAAoAIcAAAAAAAAAAAAAAAAAAAAAAAAAAAAAAAAAAAAAAAAAAAAAAAAAAAAAAAAAAAAAAAAAAAAAAAAAAAAAAAAAAAAAAAAAAAAAAAAAAAAAAAAAAAAAAAAAAAAAAAAAAAAAAAAAAAAAAAAAAAAAAAAAAAAAAAAAAAAAAAAAAAAAAAAAAAAAAAAAAAAAAAAAAAAAAAAAAAAAAAAAAAAAAAAAAAAAAAAAAAAAAAAAAAAAAAAAAAAAAAAAAAAAAAAAAAAAAAAAAAAAAAAAAAAAAAAAAAAAAAAAAAAAAAAAAAAAAAAAAAAAAAAAAAAAAAAAAAAAAAAAAAAAAAAAAAAAAAAAAAAAAAAAAAAAAAAAAAAAAAAAAAAAAAAAAAAAAAAAAAAAAAAAAAAAAAAAAAAAAAAAAAAAAAAAAAAAAAAAAAAAAAAAAAAAAAAAAAAAAAAAAAAAAAAAAAAAAAAAAAAAAAAAAAAAAAAAAAAAAAAAAAAAAAAAAAAAAAAAAAAAAAAAAAAAAAAAAAAAAAAAAAAAAAAAAAAAAAAAAAAAAAAAAAAAAAAAAAAAAAAAAAAAAAAAAAAAAAAAAAAAAAAAAAAAAAAAAAAAAAAAAAAAAAAAAAAAAAAAAAAAAAAAAAAAAAAAAAAAAAAAAAAAAAAAAAAAAAAAAAAAAAAAAAAAAAAAAAAAAAAAAAAAAAAAAAAAAAAAAAAAAAAAAAAAAAAAAAAAAAAAAAAAAAAAAAAAAAAAAAAAAAAAAAAAAAAAAAAAAAAAAAAAAAAAAAAAAAAAAAAAAAAAAAAAAAAAAAAAAAAAAAAAAAAAAAAAAAAAAAAAAAAAAAAAAAAAAAAAAAAAAAAAAAAAAAAAAAAAAAAAAAAAAAAAAAAAAAAAAAAAAAAAAAAAAAAAAAAAAAAAAAAAAAAAAAAAAAAAAAAAAAAAAAAAAAAAAAAAAAAAAAAAAAAAAAAAAAAAAAAAAAAAAAAAAAAAAAAAAAAAAAAAAAAAAAAAAAAAAAAAAAAAAAAAAAAAAAAAAAAAAAAAACwAAAAAPAAoAEAIUAABCBxIsKDBgwgTKlzIsKHDhxAjSpxIsaLFixgzatzIsaPHjyBDihxJsqTJkyhTqlzJsqXLlzBjypxJs6bNmzhz6tzJs6fPn0CDCh1K1GZAADs=\"><title>Layer: camera (input)\n shape = (40, 60, 3)\n Keras class = Input</title></image><text x=\"930.0\" y=\"578.5\" font-family=\"monospace\" font-size=\"12\" text-anchor=\"start\" alignment-baseline=\"central\">camera</text></svg>"
      }
     },
     "a944a9a76d3647de9518665fe97cb2cf": {
      "model_module": "jupyter-js-widgets",
      "model_module_version": "~2.1.4",
      "model_name": "LayoutModel",
      "state": {
       "_model_module_version": "~2.1.4",
       "_view_module_version": "~2.1.4"
      }
     },
     "a95bd74f8e7d43618f0d3c75b70d25fa": {
      "model_module": "jupyter-js-widgets",
      "model_module_version": "~2.1.4",
      "model_name": "HTMLModel",
      "state": {
       "_model_module_version": "~2.1.4",
       "_view_module_version": "~2.1.4",
       "layout": "IPY_MODEL_a2682bbf88424d3c90bf1564debd61a1",
       "value": "\n        <svg id='Robot Prediction Network' xmlns='http://www.w3.org/2000/svg' width=\"1100\" height=\"668\" image-rendering=\"pixelated\">\n    <defs>\n        <marker id=\"arrow\" markerWidth=\"10\" markerHeight=\"10\" refX=\"9\" refY=\"3\" orient=\"auto\" markerUnits=\"strokeWidth\">\n          <path d=\"M0,0 L0,6 L9,3 z\" fill=\"black\" />\n        </marker>\n    </defs>\n<text x=\"550.0\" y=\"12.5\" font-family=\"monospace\" font-size=\"15\" text-anchor=\"middle\" alignment-baseline=\"central\">Robot Prediction Network</text><rect x=\"315.6666666666667\" y=\"29\" width=\"102\" height=\"52\" style=\"fill:none;stroke:black;stroke-width:2\"/><image id=\"Robot Prediction Network_output1_12\" class=\"Robot Prediction Network_output1\" x=\"316.6666666666667\" y=\"30\" height=\"50\" width=\"100\" preserveAspectRatio=\"none\" href=\"data:image/gif;base64,R0lGODdhAgABAIcAAN7e3ve2mAAAAAAAAAAAAAAAAAAAAAAAAAAAAAAAAAAAAAAAAAAAAAAAAAAAAAAAAAAAAAAAAAAAAAAAAAAAAAAAAAAAAAAAAAAAAAAAAAAAAAAAAAAAAAAAAAAAAAAAAAAAAAAAAAAAAAAAAAAAAAAAAAAAAAAAAAAAAAAAAAAAAAAAAAAAAAAAAAAAAAAAAAAAAAAAAAAAAAAAAAAAAAAAAAAAAAAAAAAAAAAAAAAAAAAAAAAAAAAAAAAAAAAAAAAAAAAAAAAAAAAAAAAAAAAAAAAAAAAAAAAAAAAAAAAAAAAAAAAAAAAAAAAAAAAAAAAAAAAAAAAAAAAAAAAAAAAAAAAAAAAAAAAAAAAAAAAAAAAAAAAAAAAAAAAAAAAAAAAAAAAAAAAAAAAAAAAAAAAAAAAAAAAAAAAAAAAAAAAAAAAAAAAAAAAAAAAAAAAAAAAAAAAAAAAAAAAAAAAAAAAAAAAAAAAAAAAAAAAAAAAAAAAAAAAAAAAAAAAAAAAAAAAAAAAAAAAAAAAAAAAAAAAAAAAAAAAAAAAAAAAAAAAAAAAAAAAAAAAAAAAAAAAAAAAAAAAAAAAAAAAAAAAAAAAAAAAAAAAAAAAAAAAAAAAAAAAAAAAAAAAAAAAAAAAAAAAAAAAAAAAAAAAAAAAAAAAAAAAAAAAAAAAAAAAAAAAAAAAAAAAAAAAAAAAAAAAAAAAAAAAAAAAAAAAAAAAAAAAAAAAAAAAAAAAAAAAAAAAAAAAAAAAAAAAAAAAAAAAAAAAAAAAAAAAAAAAAAAAAAAAAAAAAAAAAAAAAAAAAAAAAAAAAAAAAAAAAAAAAAAAAAAAAAAAAAAAAAAAAAAAAAAAAAAAAAAAAAAAAAAAAAAAAAAAAAAAAAAAAAAAAAAAAAAAAAAAAAAAAAAAAAAAAAAAAAAAAAAAAAAAAAAAAAAAAAAAAAAAAAAAAAAAAAAAAAAAAAAAAAAAAAAAAAAAAAAAAAAAAAAAAAAAAAAAAAAAAAAAAAAAAAAAAAAAAAAAAACwAAAAAAgABAAAIBQABBAgIADs=\"><title>Layer: output1 (output)\n shape = (2,)\n Keras class = Dense\n activation = sigmoid</title></image><text x=\"421.6666666666667\" y=\"57.0\" font-family=\"monospace\" font-size=\"12\" text-anchor=\"start\" alignment-baseline=\"central\">output1</text><rect x=\"632.3333333333334\" y=\"29\" width=\"202\" height=\"42\" style=\"fill:none;stroke:black;stroke-width:2\"/><image id=\"Robot Prediction Network_output2_13\" class=\"Robot Prediction Network_output2\" x=\"633.3333333333334\" y=\"30\" height=\"40\" width=\"200\" preserveAspectRatio=\"none\" href=\"data:image/gif;base64,R0lGODdhBQABAIcAANra2vDo4/3k1gAAAAAAAAAAAAAAAAAAAAAAAAAAAAAAAAAAAAAAAAAAAAAAAAAAAAAAAAAAAAAAAAAAAAAAAAAAAAAAAAAAAAAAAAAAAAAAAAAAAAAAAAAAAAAAAAAAAAAAAAAAAAAAAAAAAAAAAAAAAAAAAAAAAAAAAAAAAAAAAAAAAAAAAAAAAAAAAAAAAAAAAAAAAAAAAAAAAAAAAAAAAAAAAAAAAAAAAAAAAAAAAAAAAAAAAAAAAAAAAAAAAAAAAAAAAAAAAAAAAAAAAAAAAAAAAAAAAAAAAAAAAAAAAAAAAAAAAAAAAAAAAAAAAAAAAAAAAAAAAAAAAAAAAAAAAAAAAAAAAAAAAAAAAAAAAAAAAAAAAAAAAAAAAAAAAAAAAAAAAAAAAAAAAAAAAAAAAAAAAAAAAAAAAAAAAAAAAAAAAAAAAAAAAAAAAAAAAAAAAAAAAAAAAAAAAAAAAAAAAAAAAAAAAAAAAAAAAAAAAAAAAAAAAAAAAAAAAAAAAAAAAAAAAAAAAAAAAAAAAAAAAAAAAAAAAAAAAAAAAAAAAAAAAAAAAAAAAAAAAAAAAAAAAAAAAAAAAAAAAAAAAAAAAAAAAAAAAAAAAAAAAAAAAAAAAAAAAAAAAAAAAAAAAAAAAAAAAAAAAAAAAAAAAAAAAAAAAAAAAAAAAAAAAAAAAAAAAAAAAAAAAAAAAAAAAAAAAAAAAAAAAAAAAAAAAAAAAAAAAAAAAAAAAAAAAAAAAAAAAAAAAAAAAAAAAAAAAAAAAAAAAAAAAAAAAAAAAAAAAAAAAAAAAAAAAAAAAAAAAAAAAAAAAAAAAAAAAAAAAAAAAAAAAAAAAAAAAAAAAAAAAAAAAAAAAAAAAAAAAAAAAAAAAAAAAAAAAAAAAAAAAAAAAAAAAAAAAAAAAAAAAAAAAAAAAAAAAAAAAAAAAAAAAAAAAAAAAAAAAAAAAAAAAAAAAAAAAAAAAAAAAAAAAAAAAAAAAAAAAAAAAAAAAAAAAAAAAAAAAAAAAAAAAAAAACwAAAAABQABAAAICAADCAAAIEBAADs=\"><title>Layer: output2 (output)\n shape = (5,)\n Keras class = Dense\n activation = sigmoid</title></image><text x=\"838.3333333333334\" y=\"52.0\" font-family=\"monospace\" font-size=\"12\" text-anchor=\"start\" alignment-baseline=\"central\">output2</text><line x1=\"366.6666666666667\" y1=\"109\" x2=\"366.6666666666667\" y2=\"82\" stroke=\"black\" stroke-width=\"2\" marker-end=\"url(#arrow)\"><title>Weights from hidden4 to output1\n output1/kernel has shape (10, 2)\n output1/bias has shape (2,)</title></line><rect x=\"265.6666666666667\" y=\"109\" width=\"202\" height=\"27\" style=\"fill:none;stroke:black;stroke-width:2\"/><image id=\"Robot Prediction Network_hidden4_14\" class=\"Robot Prediction Network_hidden4\" x=\"266.6666666666667\" y=\"110\" height=\"25\" width=\"200\" preserveAspectRatio=\"none\" href=\"data:image/gif;base64,R0lGODdhCgABAIcAAP3j1dra2uzs7P78++6YeAAAAAAAAAAAAAAAAAAAAAAAAAAAAAAAAAAAAAAAAAAAAAAAAAAAAAAAAAAAAAAAAAAAAAAAAAAAAAAAAAAAAAAAAAAAAAAAAAAAAAAAAAAAAAAAAAAAAAAAAAAAAAAAAAAAAAAAAAAAAAAAAAAAAAAAAAAAAAAAAAAAAAAAAAAAAAAAAAAAAAAAAAAAAAAAAAAAAAAAAAAAAAAAAAAAAAAAAAAAAAAAAAAAAAAAAAAAAAAAAAAAAAAAAAAAAAAAAAAAAAAAAAAAAAAAAAAAAAAAAAAAAAAAAAAAAAAAAAAAAAAAAAAAAAAAAAAAAAAAAAAAAAAAAAAAAAAAAAAAAAAAAAAAAAAAAAAAAAAAAAAAAAAAAAAAAAAAAAAAAAAAAAAAAAAAAAAAAAAAAAAAAAAAAAAAAAAAAAAAAAAAAAAAAAAAAAAAAAAAAAAAAAAAAAAAAAAAAAAAAAAAAAAAAAAAAAAAAAAAAAAAAAAAAAAAAAAAAAAAAAAAAAAAAAAAAAAAAAAAAAAAAAAAAAAAAAAAAAAAAAAAAAAAAAAAAAAAAAAAAAAAAAAAAAAAAAAAAAAAAAAAAAAAAAAAAAAAAAAAAAAAAAAAAAAAAAAAAAAAAAAAAAAAAAAAAAAAAAAAAAAAAAAAAAAAAAAAAAAAAAAAAAAAAAAAAAAAAAAAAAAAAAAAAAAAAAAAAAAAAAAAAAAAAAAAAAAAAAAAAAAAAAAAAAAAAAAAAAAAAAAAAAAAAAAAAAAAAAAAAAAAAAAAAAAAAAAAAAAAAAAAAAAAAAAAAAAAAAAAAAAAAAAAAAAAAAAAAAAAAAAAAAAAAAAAAAAAAAAAAAAAAAAAAAAAAAAAAAAAAAAAAAAAAAAAAAAAAAAAAAAAAAAAAAAAAAAAAAAAAAAAAAAAAAAAAAAAAAAAAAAAAAAAAAAAAAAAAAAAAAAAAAAAAAAAAAAAAAAAAAAAAAAAAAAAAAAAAAAAAAAAAAAAAAAAAAAAAAAAAAAAACwAAAAACgABAAAIDgAFDABAQACAAQACBAgIADs=\"><title>Layer: hidden4 (hidden)\n shape = (10,)\n Keras class = Dense\n activation = sigmoid</title></image><text x=\"471.6666666666667\" y=\"124.5\" font-family=\"monospace\" font-size=\"12\" text-anchor=\"start\" alignment-baseline=\"central\">hidden4</text><line x1=\"733.3333333333334\" y1=\"110\" x2=\"733.3333333333334\" y2=\"70\" stroke=\"black\" stroke-width=\"2\" marker-end=\"url(#arrow)\"><title>Weights from hidden4 to output1\n output1/kernel has shape (10, 2)\n output1/bias has shape (2,)</title></line><line x1=\"550.0\" y1=\"164\" x2=\"733.3333333333334\" y2=\"110\" stroke=\"black\" stroke-width=\"2\"><title>TODO</title></line><line x1=\"550.0\" y1=\"164\" x2=\"366.6666666666667\" y2=\"137\" stroke=\"black\" stroke-width=\"2\" marker-end=\"url(#arrow)\"><title>Weights from hidden3 to hidden4\n hidden4/kernel has shape (10, 10)\n hidden4/bias has shape (10,)</title></line><rect x=\"449.0\" y=\"164\" width=\"202\" height=\"27\" style=\"fill:none;stroke:black;stroke-width:2\"/><image id=\"Robot Prediction Network_hidden3_15\" class=\"Robot Prediction Network_hidden3\" x=\"450.0\" y=\"165\" height=\"25\" width=\"200\" preserveAspectRatio=\"none\" href=\"data:image/gif;base64,R0lGODdhCgABAIcAAPz8/PzbyNfX1/ayk/rOtv3gz/7u5QAAAAAAAAAAAAAAAAAAAAAAAAAAAAAAAAAAAAAAAAAAAAAAAAAAAAAAAAAAAAAAAAAAAAAAAAAAAAAAAAAAAAAAAAAAAAAAAAAAAAAAAAAAAAAAAAAAAAAAAAAAAAAAAAAAAAAAAAAAAAAAAAAAAAAAAAAAAAAAAAAAAAAAAAAAAAAAAAAAAAAAAAAAAAAAAAAAAAAAAAAAAAAAAAAAAAAAAAAAAAAAAAAAAAAAAAAAAAAAAAAAAAAAAAAAAAAAAAAAAAAAAAAAAAAAAAAAAAAAAAAAAAAAAAAAAAAAAAAAAAAAAAAAAAAAAAAAAAAAAAAAAAAAAAAAAAAAAAAAAAAAAAAAAAAAAAAAAAAAAAAAAAAAAAAAAAAAAAAAAAAAAAAAAAAAAAAAAAAAAAAAAAAAAAAAAAAAAAAAAAAAAAAAAAAAAAAAAAAAAAAAAAAAAAAAAAAAAAAAAAAAAAAAAAAAAAAAAAAAAAAAAAAAAAAAAAAAAAAAAAAAAAAAAAAAAAAAAAAAAAAAAAAAAAAAAAAAAAAAAAAAAAAAAAAAAAAAAAAAAAAAAAAAAAAAAAAAAAAAAAAAAAAAAAAAAAAAAAAAAAAAAAAAAAAAAAAAAAAAAAAAAAAAAAAAAAAAAAAAAAAAAAAAAAAAAAAAAAAAAAAAAAAAAAAAAAAAAAAAAAAAAAAAAAAAAAAAAAAAAAAAAAAAAAAAAAAAAAAAAAAAAAAAAAAAAAAAAAAAAAAAAAAAAAAAAAAAAAAAAAAAAAAAAAAAAAAAAAAAAAAAAAAAAAAAAAAAAAAAAAAAAAAAAAAAAAAAAAAAAAAAAAAAAAAAAAAAAAAAAAAAAAAAAAAAAAAAAAAAAAAAAAAAAAAAAAAAAAAAAAAAAAAAAAAAAAAAAAAAAAAAAAAAAAAAAAAAAAAAAAAAAAAAAAAAAAAAAAAAAAAAAAAAAAAAAAAAAAAAAAAAAAAAAAAAAAAAAAAAAAAAAAAAAAAAAAAAACwAAAAACgABAAAIDgAHCAAQAACAAAQKGAgIADs=\"><title>Layer: hidden3 (hidden)\n shape = (10,)\n Keras class = Dense\n activation = sigmoid</title></image><text x=\"655.0\" y=\"179.5\" font-family=\"monospace\" font-size=\"12\" text-anchor=\"start\" alignment-baseline=\"central\">hidden3</text><line x1=\"550.0\" y1=\"219\" x2=\"550.0\" y2=\"192\" stroke=\"black\" stroke-width=\"2\" marker-end=\"url(#arrow)\"><title>Weights from hidden2 to hidden3\n hidden3/kernel has shape (5, 10)\n hidden3/bias has shape (10,)</title></line><rect x=\"449.0\" y=\"219\" width=\"202\" height=\"42\" style=\"fill:none;stroke:black;stroke-width:2\"/><image id=\"Robot Prediction Network_hidden2_16\" class=\"Robot Prediction Network_hidden2\" x=\"450.0\" y=\"220\" height=\"40\" width=\"200\" preserveAspectRatio=\"none\" href=\"data:image/gif;base64,R0lGODdhBQABAIcAAP7+/QAAAAAAAAAAAAAAAAAAAAAAAAAAAAAAAAAAAAAAAAAAAAAAAAAAAAAAAAAAAAAAAAAAAAAAAAAAAAAAAAAAAAAAAAAAAAAAAAAAAAAAAAAAAAAAAAAAAAAAAAAAAAAAAAAAAAAAAAAAAAAAAAAAAAAAAAAAAAAAAAAAAAAAAAAAAAAAAAAAAAAAAAAAAAAAAAAAAAAAAAAAAAAAAAAAAAAAAAAAAAAAAAAAAAAAAAAAAAAAAAAAAAAAAAAAAAAAAAAAAAAAAAAAAAAAAAAAAAAAAAAAAAAAAAAAAAAAAAAAAAAAAAAAAAAAAAAAAAAAAAAAAAAAAAAAAAAAAAAAAAAAAAAAAAAAAAAAAAAAAAAAAAAAAAAAAAAAAAAAAAAAAAAAAAAAAAAAAAAAAAAAAAAAAAAAAAAAAAAAAAAAAAAAAAAAAAAAAAAAAAAAAAAAAAAAAAAAAAAAAAAAAAAAAAAAAAAAAAAAAAAAAAAAAAAAAAAAAAAAAAAAAAAAAAAAAAAAAAAAAAAAAAAAAAAAAAAAAAAAAAAAAAAAAAAAAAAAAAAAAAAAAAAAAAAAAAAAAAAAAAAAAAAAAAAAAAAAAAAAAAAAAAAAAAAAAAAAAAAAAAAAAAAAAAAAAAAAAAAAAAAAAAAAAAAAAAAAAAAAAAAAAAAAAAAAAAAAAAAAAAAAAAAAAAAAAAAAAAAAAAAAAAAAAAAAAAAAAAAAAAAAAAAAAAAAAAAAAAAAAAAAAAAAAAAAAAAAAAAAAAAAAAAAAAAAAAAAAAAAAAAAAAAAAAAAAAAAAAAAAAAAAAAAAAAAAAAAAAAAAAAAAAAAAAAAAAAAAAAAAAAAAAAAAAAAAAAAAAAAAAAAAAAAAAAAAAAAAAAAAAAAAAAAAAAAAAAAAAAAAAAAAAAAAAAAAAAAAAAAAAAAAAAAAAAAAAAAAAAAAAAAAAAAAAAAAAAAAAAAAAAAAAAAAAAAAAAAAAAAAAAAAAAAAAAAAAAAAAAAAAAAAAAAAAAAAAAAAAAAACwAAAAABQABAAAIBgABCBQYEAA7\"><title>Layer: hidden2 (hidden)\n shape = (5,)\n Keras class = Dense\n activation = sigmoid</title></image><text x=\"655.0\" y=\"242.0\" font-family=\"monospace\" font-size=\"12\" text-anchor=\"start\" alignment-baseline=\"central\">hidden2</text><line x1=\"366.6666666666667\" y1=\"290\" x2=\"550.0\" y2=\"260\" stroke=\"black\" stroke-width=\"2\" marker-end=\"url(#arrow)\"><title>Weights from hidden2 to hidden3\n hidden3/kernel has shape (5, 10)\n hidden3/bias has shape (10,)</title></line><line x1=\"733.3333333333334\" y1=\"289\" x2=\"550.0\" y2=\"262\" stroke=\"black\" stroke-width=\"2\" marker-end=\"url(#arrow)\"><title>Weights from flatten to hidden2\n hidden2/kernel has shape (41714, 5)\n hidden2/bias has shape (5,)</title></line><rect x=\"632.3333333333334\" y=\"289\" width=\"202\" height=\"27\" style=\"fill:none;stroke:black;stroke-width:2\"/><image id=\"Robot Prediction Network_flatten_17\" class=\"Robot Prediction Network_flatten\" x=\"633.3333333333334\" y=\"290\" height=\"25\" width=\"200\" preserveAspectRatio=\"none\" href=\"data:image/gif;base64,R0lGODdhwKIBAIcAAP7+/QAAAAAAAAAAAAAAAAAAAAAAAAAAAAAAAAAAAAAAAAAAAAAAAAAAAAAAAAAAAAAAAAAAAAAAAAAAAAAAAAAAAAAAAAAAAAAAAAAAAAAAAAAAAAAAAAAAAAAAAAAAAAAAAAAAAAAAAAAAAAAAAAAAAAAAAAAAAAAAAAAAAAAAAAAAAAAAAAAAAAAAAAAAAAAAAAAAAAAAAAAAAAAAAAAAAAAAAAAAAAAAAAAAAAAAAAAAAAAAAAAAAAAAAAAAAAAAAAAAAAAAAAAAAAAAAAAAAAAAAAAAAAAAAAAAAAAAAAAAAAAAAAAAAAAAAAAAAAAAAAAAAAAAAAAAAAAAAAAAAAAAAAAAAAAAAAAAAAAAAAAAAAAAAAAAAAAAAAAAAAAAAAAAAAAAAAAAAAAAAAAAAAAAAAAAAAAAAAAAAAAAAAAAAAAAAAAAAAAAAAAAAAAAAAAAAAAAAAAAAAAAAAAAAAAAAAAAAAAAAAAAAAAAAAAAAAAAAAAAAAAAAAAAAAAAAAAAAAAAAAAAAAAAAAAAAAAAAAAAAAAAAAAAAAAAAAAAAAAAAAAAAAAAAAAAAAAAAAAAAAAAAAAAAAAAAAAAAAAAAAAAAAAAAAAAAAAAAAAAAAAAAAAAAAAAAAAAAAAAAAAAAAAAAAAAAAAAAAAAAAAAAAAAAAAAAAAAAAAAAAAAAAAAAAAAAAAAAAAAAAAAAAAAAAAAAAAAAAAAAAAAAAAAAAAAAAAAAAAAAAAAAAAAAAAAAAAAAAAAAAAAAAAAAAAAAAAAAAAAAAAAAAAAAAAAAAAAAAAAAAAAAAAAAAAAAAAAAAAAAAAAAAAAAAAAAAAAAAAAAAAAAAAAAAAAAAAAAAAAAAAAAAAAAAAAAAAAAAAAAAAAAAAAAAAAAAAAAAAAAAAAAAAAAAAAAAAAAAAAAAAAAAAAAAAAAAAAAAAAAAAAAAAAAAAAAAAAAAAAAAAAAAAAAAAAAAAAAAAAAAAAAAAAAAAAAAAAAAAAAAAAAAAAAAAAAAAAAAAAACwAAAAAwKIBAAAI/wABCBxIsKDBgwgTKlzIsKHDhxAjSpxIsaLFixgzatzIsaPHjyBDihxJsqTJkyhTqlzJsqXLlzBjypxJs6bNmzhz6tzJs6fPn0CDCh1KtKjRo0iTKl3KtKnTp1CjSp1KtarVq1izat3KtavXr2DDih1LtqzZs2jTql3Ltq3bt3Djyp1Lt67du3jz6t3Lt6/fv4ADCx5MuLDhw4gTK17MuLHjx5AjS55MubLly5gza97MubPnz6BDix5NurTp06hTq17NurXr17Bjy55Nu7bt27hz697Nu7fv38CDCx9OvLjx48iTK1/OvLnz59CjS59Ovbr169iza9/Ovbv37+DDi7wfT768+fPo06tfz769+/fw48ufT7++/fv48+vfz7+/f4AABA4kWNDgQYQJFS5k2NDhQ4gRJU6kWNHiRYwZNW7k2NHjR5AhRY4kWdLkSZQpVa5k2dLlS5gxZc6kWdPmTZw5de7k2dPnT6BBhQ4lWtToUaRJlS5l2tTpU6hRpU6lWtXqVaxZtW7l2tXrV7BhxY4lW9bsWbRp1a5l29btW7hx5c6lW9fuXbx59e7l29fvX8CBBQ8mXNjw4bEBAQA7\"><title>Layer: flatten (hidden)\n Keras class = Flatten</title></image><text x=\"838.3333333333334\" y=\"304.5\" font-family=\"monospace\" font-size=\"12\" text-anchor=\"start\" alignment-baseline=\"central\">flatten</text><line x1=\"366.6666666666667\" y1=\"344\" x2=\"366.6666666666667\" y2=\"290\" stroke=\"black\" stroke-width=\"2\"><title>TODO</title></line><rect x=\"265.6666666666667\" y=\"344\" width=\"202\" height=\"27\" style=\"fill:none;stroke:black;stroke-width:2\"/><image id=\"Robot Prediction Network_hidden_18\" class=\"Robot Prediction Network_hidden\" x=\"266.6666666666667\" y=\"345\" height=\"25\" width=\"200\" preserveAspectRatio=\"none\" href=\"data:image/gif;base64,R0lGODdhMgABAIcAAP7+/QAAAAAAAAAAAAAAAAAAAAAAAAAAAAAAAAAAAAAAAAAAAAAAAAAAAAAAAAAAAAAAAAAAAAAAAAAAAAAAAAAAAAAAAAAAAAAAAAAAAAAAAAAAAAAAAAAAAAAAAAAAAAAAAAAAAAAAAAAAAAAAAAAAAAAAAAAAAAAAAAAAAAAAAAAAAAAAAAAAAAAAAAAAAAAAAAAAAAAAAAAAAAAAAAAAAAAAAAAAAAAAAAAAAAAAAAAAAAAAAAAAAAAAAAAAAAAAAAAAAAAAAAAAAAAAAAAAAAAAAAAAAAAAAAAAAAAAAAAAAAAAAAAAAAAAAAAAAAAAAAAAAAAAAAAAAAAAAAAAAAAAAAAAAAAAAAAAAAAAAAAAAAAAAAAAAAAAAAAAAAAAAAAAAAAAAAAAAAAAAAAAAAAAAAAAAAAAAAAAAAAAAAAAAAAAAAAAAAAAAAAAAAAAAAAAAAAAAAAAAAAAAAAAAAAAAAAAAAAAAAAAAAAAAAAAAAAAAAAAAAAAAAAAAAAAAAAAAAAAAAAAAAAAAAAAAAAAAAAAAAAAAAAAAAAAAAAAAAAAAAAAAAAAAAAAAAAAAAAAAAAAAAAAAAAAAAAAAAAAAAAAAAAAAAAAAAAAAAAAAAAAAAAAAAAAAAAAAAAAAAAAAAAAAAAAAAAAAAAAAAAAAAAAAAAAAAAAAAAAAAAAAAAAAAAAAAAAAAAAAAAAAAAAAAAAAAAAAAAAAAAAAAAAAAAAAAAAAAAAAAAAAAAAAAAAAAAAAAAAAAAAAAAAAAAAAAAAAAAAAAAAAAAAAAAAAAAAAAAAAAAAAAAAAAAAAAAAAAAAAAAAAAAAAAAAAAAAAAAAAAAAAAAAAAAAAAAAAAAAAAAAAAAAAAAAAAAAAAAAAAAAAAAAAAAAAAAAAAAAAAAAAAAAAAAAAAAAAAAAAAAAAAAAAAAAAAAAAAAAAAAAAAAAAAAAAAAAAAAAAAAAAAAAAAAAAAAAAAAAAAAAAAAAAAAAAAAAAAAAAAAAAAAAAAAAAAAAAAAAACwAAAAAMgABAAAIDgABCBxIsKDBgwgTFgwIADs=\"><title>Layer: hidden (hidden)\n shape = (50,)\n Keras class = Dense\n activation = relu</title></image><text x=\"471.6666666666667\" y=\"359.5\" font-family=\"monospace\" font-size=\"12\" text-anchor=\"start\" alignment-baseline=\"central\">hidden</text><line x1=\"733.3333333333334\" y1=\"344\" x2=\"733.3333333333334\" y2=\"317\" stroke=\"black\" stroke-width=\"2\" marker-end=\"url(#arrow)\"><title>Weights from conv to flatten</title></line><rect x=\"632.3333333333334\" y=\"344\" width=\"202\" height=\"137\" style=\"fill:none;stroke:black;stroke-width:2\"/><image id=\"Robot Prediction Network_conv_19\" class=\"Robot Prediction Network_conv\" x=\"633.3333333333334\" y=\"345\" height=\"135\" width=\"200\" preserveAspectRatio=\"none\" href=\"data:image/gif;base64,R0lGODdhPgAqAIcAAP7+/QAAAAAAAAAAAAAAAAAAAAAAAAAAAAAAAAAAAAAAAAAAAAAAAAAAAAAAAAAAAAAAAAAAAAAAAAAAAAAAAAAAAAAAAAAAAAAAAAAAAAAAAAAAAAAAAAAAAAAAAAAAAAAAAAAAAAAAAAAAAAAAAAAAAAAAAAAAAAAAAAAAAAAAAAAAAAAAAAAAAAAAAAAAAAAAAAAAAAAAAAAAAAAAAAAAAAAAAAAAAAAAAAAAAAAAAAAAAAAAAAAAAAAAAAAAAAAAAAAAAAAAAAAAAAAAAAAAAAAAAAAAAAAAAAAAAAAAAAAAAAAAAAAAAAAAAAAAAAAAAAAAAAAAAAAAAAAAAAAAAAAAAAAAAAAAAAAAAAAAAAAAAAAAAAAAAAAAAAAAAAAAAAAAAAAAAAAAAAAAAAAAAAAAAAAAAAAAAAAAAAAAAAAAAAAAAAAAAAAAAAAAAAAAAAAAAAAAAAAAAAAAAAAAAAAAAAAAAAAAAAAAAAAAAAAAAAAAAAAAAAAAAAAAAAAAAAAAAAAAAAAAAAAAAAAAAAAAAAAAAAAAAAAAAAAAAAAAAAAAAAAAAAAAAAAAAAAAAAAAAAAAAAAAAAAAAAAAAAAAAAAAAAAAAAAAAAAAAAAAAAAAAAAAAAAAAAAAAAAAAAAAAAAAAAAAAAAAAAAAAAAAAAAAAAAAAAAAAAAAAAAAAAAAAAAAAAAAAAAAAAAAAAAAAAAAAAAAAAAAAAAAAAAAAAAAAAAAAAAAAAAAAAAAAAAAAAAAAAAAAAAAAAAAAAAAAAAAAAAAAAAAAAAAAAAAAAAAAAAAAAAAAAAAAAAAAAAAAAAAAAAAAAAAAAAAAAAAAAAAAAAAAAAAAAAAAAAAAAAAAAAAAAAAAAAAAAAAAAAAAAAAAAAAAAAAAAAAAAAAAAAAAAAAAAAAAAAAAAAAAAAAAAAAAAAAAAAAAAAAAAAAAAAAAAAAAAAAAAAAAAAAAAAAAAAAAAAAAAAAAAAAAAAAAAAAAAAAAAAAAAAAAAAAAAAAAAAAAAAAACwAAAAAPgAqAEAIVAABCBxIsKDBgwgTKlzIsKHDhxAjSpxIsaLFixgzatzIsaPHjyBDihxJsqTJkyhTqlzJsqXLlzBjypxJs6bNmzhz6tzJs6fPn0CDCh1KtKjRozADAgA7\"><title>Layer: conv (hidden)\n Keras class = Conv2DTranspose</title></image><text x=\"838.3333333333334\" y=\"414.5\" font-family=\"monospace\" font-size=\"12\" text-anchor=\"start\" alignment-baseline=\"central\">conv</text><line x1=\"275.0\" y1=\"509\" x2=\"366.6666666666667\" y2=\"372\" stroke=\"black\" stroke-width=\"2\" marker-end=\"url(#arrow)\"><title>Weights from light to hidden\n hidden/kernel has shape (18, 50)\n hidden/bias has shape (50,)</title></line><rect x=\"224.0\" y=\"509\" width=\"102\" height=\"52\" style=\"fill:none;stroke:black;stroke-width:2\"/><image id=\"Robot Prediction Network_light_20\" class=\"Robot Prediction Network_light\" x=\"225.0\" y=\"510\" height=\"50\" width=\"100\" preserveAspectRatio=\"none\" href=\"data:image/gif;base64,R0lGODdhAgABAIcAAP7+/QAAAAAAAAAAAAAAAAAAAAAAAAAAAAAAAAAAAAAAAAAAAAAAAAAAAAAAAAAAAAAAAAAAAAAAAAAAAAAAAAAAAAAAAAAAAAAAAAAAAAAAAAAAAAAAAAAAAAAAAAAAAAAAAAAAAAAAAAAAAAAAAAAAAAAAAAAAAAAAAAAAAAAAAAAAAAAAAAAAAAAAAAAAAAAAAAAAAAAAAAAAAAAAAAAAAAAAAAAAAAAAAAAAAAAAAAAAAAAAAAAAAAAAAAAAAAAAAAAAAAAAAAAAAAAAAAAAAAAAAAAAAAAAAAAAAAAAAAAAAAAAAAAAAAAAAAAAAAAAAAAAAAAAAAAAAAAAAAAAAAAAAAAAAAAAAAAAAAAAAAAAAAAAAAAAAAAAAAAAAAAAAAAAAAAAAAAAAAAAAAAAAAAAAAAAAAAAAAAAAAAAAAAAAAAAAAAAAAAAAAAAAAAAAAAAAAAAAAAAAAAAAAAAAAAAAAAAAAAAAAAAAAAAAAAAAAAAAAAAAAAAAAAAAAAAAAAAAAAAAAAAAAAAAAAAAAAAAAAAAAAAAAAAAAAAAAAAAAAAAAAAAAAAAAAAAAAAAAAAAAAAAAAAAAAAAAAAAAAAAAAAAAAAAAAAAAAAAAAAAAAAAAAAAAAAAAAAAAAAAAAAAAAAAAAAAAAAAAAAAAAAAAAAAAAAAAAAAAAAAAAAAAAAAAAAAAAAAAAAAAAAAAAAAAAAAAAAAAAAAAAAAAAAAAAAAAAAAAAAAAAAAAAAAAAAAAAAAAAAAAAAAAAAAAAAAAAAAAAAAAAAAAAAAAAAAAAAAAAAAAAAAAAAAAAAAAAAAAAAAAAAAAAAAAAAAAAAAAAAAAAAAAAAAAAAAAAAAAAAAAAAAAAAAAAAAAAAAAAAAAAAAAAAAAAAAAAAAAAAAAAAAAAAAAAAAAAAAAAAAAAAAAAAAAAAAAAAAAAAAAAAAAAAAAAAAAAAAAAAAAAAAAAAAAAAAAAAAAAAAAAAAAAAAAAAAAAAAAAAAAAAAAAAAAAAAAAAAAAAACwAAAAAAgABAAAIBQABAAgIADs=\"><title>Layer: light (input)\n shape = (2,)\n Keras class = Input</title></image><text x=\"330.0\" y=\"537.0\" font-family=\"monospace\" font-size=\"12\" text-anchor=\"start\" alignment-baseline=\"central\">light</text><line x1=\"550.0\" y1=\"509\" x2=\"366.6666666666667\" y2=\"372\" stroke=\"black\" stroke-width=\"2\" marker-end=\"url(#arrow)\"><title>Weights from sonar to hidden\n hidden/kernel has shape (18, 50)\n hidden/bias has shape (50,)</title></line><rect x=\"449.0\" y=\"509\" width=\"202\" height=\"27\" style=\"fill:none;stroke:black;stroke-width:2\"/><image id=\"Robot Prediction Network_sonar_21\" class=\"Robot Prediction Network_sonar\" x=\"450.0\" y=\"510\" height=\"25\" width=\"200\" preserveAspectRatio=\"none\" href=\"data:image/gif;base64,R0lGODdhEAABAIcAAP7+/QAAAAAAAAAAAAAAAAAAAAAAAAAAAAAAAAAAAAAAAAAAAAAAAAAAAAAAAAAAAAAAAAAAAAAAAAAAAAAAAAAAAAAAAAAAAAAAAAAAAAAAAAAAAAAAAAAAAAAAAAAAAAAAAAAAAAAAAAAAAAAAAAAAAAAAAAAAAAAAAAAAAAAAAAAAAAAAAAAAAAAAAAAAAAAAAAAAAAAAAAAAAAAAAAAAAAAAAAAAAAAAAAAAAAAAAAAAAAAAAAAAAAAAAAAAAAAAAAAAAAAAAAAAAAAAAAAAAAAAAAAAAAAAAAAAAAAAAAAAAAAAAAAAAAAAAAAAAAAAAAAAAAAAAAAAAAAAAAAAAAAAAAAAAAAAAAAAAAAAAAAAAAAAAAAAAAAAAAAAAAAAAAAAAAAAAAAAAAAAAAAAAAAAAAAAAAAAAAAAAAAAAAAAAAAAAAAAAAAAAAAAAAAAAAAAAAAAAAAAAAAAAAAAAAAAAAAAAAAAAAAAAAAAAAAAAAAAAAAAAAAAAAAAAAAAAAAAAAAAAAAAAAAAAAAAAAAAAAAAAAAAAAAAAAAAAAAAAAAAAAAAAAAAAAAAAAAAAAAAAAAAAAAAAAAAAAAAAAAAAAAAAAAAAAAAAAAAAAAAAAAAAAAAAAAAAAAAAAAAAAAAAAAAAAAAAAAAAAAAAAAAAAAAAAAAAAAAAAAAAAAAAAAAAAAAAAAAAAAAAAAAAAAAAAAAAAAAAAAAAAAAAAAAAAAAAAAAAAAAAAAAAAAAAAAAAAAAAAAAAAAAAAAAAAAAAAAAAAAAAAAAAAAAAAAAAAAAAAAAAAAAAAAAAAAAAAAAAAAAAAAAAAAAAAAAAAAAAAAAAAAAAAAAAAAAAAAAAAAAAAAAAAAAAAAAAAAAAAAAAAAAAAAAAAAAAAAAAAAAAAAAAAAAAAAAAAAAAAAAAAAAAAAAAAAAAAAAAAAAAAAAAAAAAAAAAAAAAAAAAAAAAAAAAAAAAAAAAAAAAAAAAAAAAAAAAAAAAAAAAAAAAAAAAAAAAAAAAAAAACwAAAAAEAABAAAICQABCBxIsCCAgAA7\"><title>Layer: sonar (input)\n shape = (16,)\n Keras class = Input</title></image><text x=\"655.0\" y=\"524.5\" font-family=\"monospace\" font-size=\"12\" text-anchor=\"start\" alignment-baseline=\"central\">sonar</text><line x1=\"825.0\" y1=\"509\" x2=\"733.3333333333334\" y2=\"482\" stroke=\"black\" stroke-width=\"2\" marker-end=\"url(#arrow)\"><title>Weights from camera to conv\n conv/kernel has shape (3, 3, 16, 3)\n conv/bias has shape (16,)</title></line><rect x=\"724.0\" y=\"509\" width=\"202\" height=\"135\" style=\"fill:none;stroke:black;stroke-width:2\"/><image id=\"Robot Prediction Network_camera_22\" class=\"Robot Prediction Network_camera\" x=\"725.0\" y=\"510\" height=\"133\" width=\"200\" preserveAspectRatio=\"none\" href=\"data:image/gif;base64,R0lGODdhPAAoAIcAAAAAAAAAAAAAAAAAAAAAAAAAAAAAAAAAAAAAAAAAAAAAAAAAAAAAAAAAAAAAAAAAAAAAAAAAAAAAAAAAAAAAAAAAAAAAAAAAAAAAAAAAAAAAAAAAAAAAAAAAAAAAAAAAAAAAAAAAAAAAAAAAAAAAAAAAAAAAAAAAAAAAAAAAAAAAAAAAAAAAAAAAAAAAAAAAAAAAAAAAAAAAAAAAAAAAAAAAAAAAAAAAAAAAAAAAAAAAAAAAAAAAAAAAAAAAAAAAAAAAAAAAAAAAAAAAAAAAAAAAAAAAAAAAAAAAAAAAAAAAAAAAAAAAAAAAAAAAAAAAAAAAAAAAAAAAAAAAAAAAAAAAAAAAAAAAAAAAAAAAAAAAAAAAAAAAAAAAAAAAAAAAAAAAAAAAAAAAAAAAAAAAAAAAAAAAAAAAAAAAAAAAAAAAAAAAAAAAAAAAAAAAAAAAAAAAAAAAAAAAAAAAAAAAAAAAAAAAAAAAAAAAAAAAAAAAAAAAAAAAAAAAAAAAAAAAAAAAAAAAAAAAAAAAAAAAAAAAAAAAAAAAAAAAAAAAAAAAAAAAAAAAAAAAAAAAAAAAAAAAAAAAAAAAAAAAAAAAAAAAAAAAAAAAAAAAAAAAAAAAAAAAAAAAAAAAAAAAAAAAAAAAAAAAAAAAAAAAAAAAAAAAAAAAAAAAAAAAAAAAAAAAAAAAAAAAAAAAAAAAAAAAAAAAAAAAAAAAAAAAAAAAAAAAAAAAAAAAAAAAAAAAAAAAAAAAAAAAAAAAAAAAAAAAAAAAAAAAAAAAAAAAAAAAAAAAAAAAAAAAAAAAAAAAAAAAAAAAAAAAAAAAAAAAAAAAAAAAAAAAAAAAAAAAAAAAAAAAAAAAAAAAAAAAAAAAAAAAAAAAAAAAAAAAAAAAAAAAAAAAAAAAAAAAAAAAAAAAAAAAAAAAAAAAAAAAAAAAAAAAAAAAAAAAAAAAAAAAAAAAAAAAAAAAAAAAAAAAAAAAAAAAAAAAAAAAAAAAAAAAAAAAAAAAAAAAAAAAAAAAAAAAACwAAAAAPAAoAEAIUAABCBxIsKDBgwgTKlzIsKHDhxAjSpxIsaLFixgzatzIsaPHjyBDihxJsqTJkyhTqlzJsqXLlzBjypxJs6bNmzhz6tzJs6fPn0CDCh1K1GZAADs=\"><title>Layer: camera (input)\n shape = (40, 60, 3)\n Keras class = Input</title></image><text x=\"930.0\" y=\"578.5\" font-family=\"monospace\" font-size=\"12\" text-anchor=\"start\" alignment-baseline=\"central\">camera</text></svg>"
      }
     },
     "a969b49910ee4027a5ad8d019aeb4f43": {
      "model_module": "jupyter-js-widgets",
      "model_module_version": "~2.1.4",
      "model_name": "LayoutModel",
      "state": {
       "_model_module_version": "~2.1.4",
       "_view_module_version": "~2.1.4"
      }
     },
     "a9997375c71b40d7bd9d9015ce512582": {
      "model_module": "jupyter-js-widgets",
      "model_module_version": "~2.1.4",
      "model_name": "LayoutModel",
      "state": {
       "_model_module_version": "~2.1.4",
       "_view_module_version": "~2.1.4"
      }
     },
     "aac52c2fb98a4218ad66b529dfe4e2b2": {
      "model_module": "jupyter-js-widgets",
      "model_module_version": "~2.1.4",
      "model_name": "LayoutModel",
      "state": {
       "_model_module_version": "~2.1.4",
       "_view_module_version": "~2.1.4"
      }
     },
     "aad8d025f40142c294132eddf5fa4f9f": {
      "model_module": "jupyter-js-widgets",
      "model_module_version": "~2.1.4",
      "model_name": "CheckboxModel",
      "state": {
       "_model_module_version": "~2.1.4",
       "_view_module_version": "~2.1.4",
       "description": "Update GUI",
       "disabled": false,
       "layout": "IPY_MODEL_8c9d138ba5d3417792bc78e1257a2c65",
       "value": true
      }
     },
     "ab04b36496fa43379b9d544da788e24a": {
      "model_module": "jupyter-js-widgets",
      "model_module_version": "~2.1.4",
      "model_name": "HBoxModel",
      "state": {
       "_model_module_version": "~2.1.4",
       "_view_module_version": "~2.1.4",
       "children": [
        "IPY_MODEL_2bd621225b3f4de084a5cd597f88f005",
        "IPY_MODEL_3352430028234430b63941e50a1f4de9",
        "IPY_MODEL_133b0fd4938a4fa69f601cfa9052cd28"
       ],
       "layout": "IPY_MODEL_12082685ad314ddfa29d0db78509e285"
      }
     },
     "ab32fc214b704baa953ae7a6eafca96e": {
      "model_module": "jupyter-js-widgets",
      "model_module_version": "~2.1.4",
      "model_name": "OutputModel",
      "state": {
       "_dom_classes": [],
       "_model_module": "jupyter-js-widgets",
       "_model_module_version": "~2.1.4",
       "_view_module": "jupyter-js-widgets",
       "_view_module_version": "~2.1.4",
       "layout": "IPY_MODEL_17027e183b2740a6b6b4fbc7eec5d6c7",
       "msg_throttle": 1
      }
     },
     "ab7066115cfd4604b26c76f10a430e46": {
      "model_module": "jupyter-js-widgets",
      "model_module_version": "~2.1.4",
      "model_name": "LayoutModel",
      "state": {
       "_model_module_version": "~2.1.4",
       "_view_module_version": "~2.1.4"
      }
     },
     "ab7badf450184110b88d98be50a5b489": {
      "model_module": "jupyter-js-widgets",
      "model_module_version": "~2.1.4",
      "model_name": "LayoutModel",
      "state": {
       "_model_module_version": "~2.1.4",
       "_view_module_version": "~2.1.4",
       "height": "20px",
       "padding": "0px 0px 0px 0px",
       "width": "248px"
      }
     },
     "abb4afee799c45169098a5f7acaa90e6": {
      "model_module": "jupyter-js-widgets",
      "model_module_version": "~2.1.4",
      "model_name": "LayoutModel",
      "state": {
       "_model_module_version": "~2.1.4",
       "_view_module_version": "~2.1.4"
      }
     },
     "abfedcb9f3fc45c3897467d147e8d4c3": {
      "model_module": "jupyter-js-widgets",
      "model_module_version": "~2.1.4",
      "model_name": "HBoxModel",
      "state": {
       "_model_module_version": "~2.1.4",
       "_view_module_version": "~2.1.4",
       "children": [
        "IPY_MODEL_f7a5ddd4e5764d7bac800d80f018cb52",
        "IPY_MODEL_87735b19fc9144b497c1b6db27c01f7a"
       ],
       "layout": "IPY_MODEL_673822554a5b4f77b71300ef1a5c38ed"
      }
     },
     "ad757561d8d74c73b48eb484b2c451ae": {
      "model_module": "jupyter-js-widgets",
      "model_module_version": "~2.1.4",
      "model_name": "LayoutModel",
      "state": {
       "_model_module_version": "~2.1.4",
       "_view_module_version": "~2.1.4",
       "width": "100%"
      }
     },
     "ade847f559c74f248e97c2bd0d306332": {
      "model_module": "jupyter-js-widgets",
      "model_module_version": "~2.1.4",
      "model_name": "TextModel",
      "state": {
       "_model_module_version": "~2.1.4",
       "_view_module_version": "~2.1.4",
       "description": "Time:",
       "layout": "IPY_MODEL_ce8d25219c564c479054390e4c4a2c43",
       "value": "0.10 seconds"
      }
     },
     "adf103d115414f42bdab5e5f3aa2c5fa": {
      "model_module": "jupyter-js-widgets",
      "model_module_version": "~2.1.4",
      "model_name": "LayoutModel",
      "state": {
       "_model_module_version": "~2.1.4",
       "_view_module_version": "~2.1.4"
      }
     },
     "ae42685873d9488d9b2e14dc808eecae": {
      "model_module": "jupyter-js-widgets",
      "model_module_version": "~2.1.4",
      "model_name": "ButtonModel",
      "state": {
       "_model_module_version": "~2.1.4",
       "_view_module_version": "~2.1.4",
       "icon": "step-forward",
       "layout": "IPY_MODEL_1fc7de905780465ab2f6c6b5bafc927f",
       "style": "IPY_MODEL_7c9224ddfd4740de86ed61ae0e6dc54e"
      }
     },
     "ae46422ed1564b94bcff6609c8da2712": {
      "model_module": "jupyter-js-widgets",
      "model_module_version": "~2.1.4",
      "model_name": "HBoxModel",
      "state": {
       "_model_module_version": "~2.1.4",
       "_view_module_version": "~2.1.4",
       "children": [
        "IPY_MODEL_22fe083e084b4041be6f66479ac96057",
        "IPY_MODEL_7517d6bec92b47d382df2a2655e50b03"
       ],
       "layout": "IPY_MODEL_50a1d4a7e34e42c196bc77de462d5b1e"
      }
     },
     "ae8a39dcc3c447e8a56f9319b12f26bf": {
      "model_module": "jupyter-js-widgets",
      "model_module_version": "~2.1.4",
      "model_name": "ButtonStyleModel",
      "state": {
       "_model_module_version": "~2.1.4",
       "_view_module_version": "~2.1.4"
      }
     },
     "aebd241c523a425caddd3c3a02c6af80": {
      "model_module": "jupyter-js-widgets",
      "model_module_version": "~2.1.4",
      "model_name": "LayoutModel",
      "state": {
       "_model_module_version": "~2.1.4",
       "_view_module_version": "~2.1.4"
      }
     },
     "afb7e49122e8406f8916b3baf6d5ad33": {
      "model_module": "jupyter-js-widgets",
      "model_module_version": "~2.1.4",
      "model_name": "LayoutModel",
      "state": {
       "_model_module_version": "~2.1.4",
       "_view_module_version": "~2.1.4"
      }
     },
     "b005ce89be6f493ebdc70439a4272d58": {
      "model_module": "jupyter-js-widgets",
      "model_module_version": "~2.1.4",
      "model_name": "ButtonStyleModel",
      "state": {
       "_model_module_version": "~2.1.4",
       "_view_module_version": "~2.1.4"
      }
     },
     "b1750aa2119e4cddab5118bd36c3b0c8": {
      "model_module": "jupyter-js-widgets",
      "model_module_version": "~2.1.4",
      "model_name": "LayoutModel",
      "state": {
       "_model_module_version": "~2.1.4",
       "_view_module_version": "~2.1.4"
      }
     },
     "b2896b4c91bc49d2a723956298cc48ef": {
      "model_module": "jupyter-js-widgets",
      "model_module_version": "~2.1.4",
      "model_name": "LayoutModel",
      "state": {
       "_model_module_version": "~2.1.4",
       "_view_module_version": "~2.1.4"
      }
     },
     "b2dff5a5243f467bada50cc045210073": {
      "model_module": "jupyter-js-widgets",
      "model_module_version": "~2.1.4",
      "model_name": "ButtonStyleModel",
      "state": {
       "_model_module_version": "~2.1.4",
       "_view_module_version": "~2.1.4"
      }
     },
     "b2e6e7e333454f44b344d6b925b31835": {
      "model_module": "jupyter-js-widgets",
      "model_module_version": "~2.1.4",
      "model_name": "LayoutModel",
      "state": {
       "_model_module_version": "~2.1.4",
       "_view_module_version": "~2.1.4",
       "width": "100%"
      }
     },
     "b2e98fa617a4484a858e330487af1807": {
      "model_module": "jupyter-js-widgets",
      "model_module_version": "~2.1.4",
      "model_name": "VBoxModel",
      "state": {
       "_model_module_version": "~2.1.4",
       "_view_module_version": "~2.1.4",
       "children": [
        "IPY_MODEL_67c85617f7fe4428a9e37a23b645fa3d",
        "IPY_MODEL_2fdbe72ba611462c9b2df65f1e7cefc4",
        "IPY_MODEL_26266ded8a494dd184264ba1ab7b6578"
       ],
       "layout": "IPY_MODEL_79bbe560b16d48eaaf40c8a386a908c7"
      }
     },
     "b394a032f84946c2892947595f72d34e": {
      "model_module": "jupyter-js-widgets",
      "model_module_version": "~2.1.4",
      "model_name": "LayoutModel",
      "state": {
       "_model_module_version": "~2.1.4",
       "_view_module_version": "~2.1.4",
       "height": "30px",
       "padding": "0px 0px 0px 10px",
       "width": "260px"
      }
     },
     "b3ed86f3a204400fa11b7ed78daf1d0d": {
      "model_module": "jupyter-js-widgets",
      "model_module_version": "~2.1.4",
      "model_name": "LayoutModel",
      "state": {
       "_model_module_version": "~2.1.4",
       "_view_module_version": "~2.1.4"
      }
     },
     "b42c899a047243ca9e8e93646e0fd99f": {
      "model_module": "jupyter-js-widgets",
      "model_module_version": "~2.1.4",
      "model_name": "ButtonModel",
      "state": {
       "_model_module_version": "~2.1.4",
       "_view_module_version": "~2.1.4",
       "icon": "step-forward",
       "layout": "IPY_MODEL_6a1c36d537a14334aa534a3c0778a619",
       "style": "IPY_MODEL_20bdbd5ee4ad4a7f9bb74504b1ad8c1c"
      }
     },
     "b4587ef1398f482cb53ed6dc9256de99": {
      "model_module": "jupyter-js-widgets",
      "model_module_version": "~2.1.4",
      "model_name": "LayoutModel",
      "state": {
       "_model_module_version": "~2.1.4",
       "_view_module_version": "~2.1.4"
      }
     },
     "b4d960bcfaed471d82ae7f082c4891f6": {
      "model_module": "jupyter-js-widgets",
      "model_module_version": "~2.1.4",
      "model_name": "LayoutModel",
      "state": {
       "_model_module_version": "~2.1.4",
       "_view_module_version": "~2.1.4"
      }
     },
     "b4faf91b5eff4696bf7d2020d6c5232b": {
      "model_module": "jupyter-js-widgets",
      "model_module_version": "~2.1.4",
      "model_name": "ButtonStyleModel",
      "state": {
       "_model_module_version": "~2.1.4",
       "_view_module_version": "~2.1.4"
      }
     },
     "b4fed73b86e64c2bb4b9a847300f69a9": {
      "model_module": "jupyter-js-widgets",
      "model_module_version": "~2.1.4",
      "model_name": "SelectModel",
      "state": {
       "_model_module_version": "~2.1.4",
       "_options_labels": [
        "Test",
        "Train"
       ],
       "_view_module_version": "~2.1.4",
       "description": "Dataset:",
       "layout": "IPY_MODEL_bae5862495694080ac5d2b662a9d8230",
       "value": "Train"
      }
     },
     "b528bf48751b4feca2df5b223b0c2ebe": {
      "model_module": "jupyter-js-widgets",
      "model_module_version": "~2.1.4",
      "model_name": "LayoutModel",
      "state": {
       "_model_module_version": "~2.1.4",
       "_view_module_version": "~2.1.4"
      }
     },
     "b5eb95d07b6a428fbaa905be8e66c1d7": {
      "model_module": "jupyter-js-widgets",
      "model_module_version": "~2.1.4",
      "model_name": "LayoutModel",
      "state": {
       "_model_module_version": "~2.1.4",
       "_view_module_version": "~2.1.4"
      }
     },
     "b68469e8ad5d4d1e9ffca88d5c805d63": {
      "model_module": "jupyter-js-widgets",
      "model_module_version": "~2.1.4",
      "model_name": "LayoutModel",
      "state": {
       "_model_module_version": "~2.1.4",
       "_view_module_version": "~2.1.4"
      }
     },
     "b688dc8fc96a436e8d9f895e4e8b73fb": {
      "model_module": "jupyter-js-widgets",
      "model_module_version": "~2.1.4",
      "model_name": "TextModel",
      "state": {
       "_model_module_version": "~2.1.4",
       "_view_module_version": "~2.1.4",
       "description": "Time:",
       "layout": "IPY_MODEL_7913ae458a1d4d9a9b70f76aba0ee683",
       "value": "1.30 seconds"
      }
     },
     "b733f0f4b39540f99cb9242070d7ccd5": {
      "model_module": "jupyter-js-widgets",
      "model_module_version": "~2.1.4",
      "model_name": "LayoutModel",
      "state": {
       "_model_module_version": "~2.1.4",
       "_view_module_version": "~2.1.4"
      }
     },
     "b7da215fe49e41769f8e72c1753c8276": {
      "model_module": "jupyter-js-widgets",
      "model_module_version": "~2.1.4",
      "model_name": "ButtonStyleModel",
      "state": {
       "_model_module_version": "~2.1.4",
       "_view_module_version": "~2.1.4"
      }
     },
     "b8ae6f909f4d4900b6e793ad22a6f41f": {
      "model_module": "jupyter-js-widgets",
      "model_module_version": "~2.1.4",
      "model_name": "LayoutModel",
      "state": {
       "_model_module_version": "~2.1.4",
       "_view_module_version": "~2.1.4"
      }
     },
     "b8f1b36366714c3fb4bed1bc766f7b8f": {
      "model_module": "jupyter-js-widgets",
      "model_module_version": "~2.1.4",
      "model_name": "LayoutModel",
      "state": {
       "_model_module_version": "~2.1.4",
       "_view_module_version": "~2.1.4",
       "height": "248px",
       "padding": "0px 0px 0px 0px",
       "width": "10px"
      }
     },
     "b997ce67536e4bddac5be391e62e8204": {
      "model_module": "jupyter-js-widgets",
      "model_module_version": "~2.1.4",
      "model_name": "FloatSliderModel",
      "state": {
       "_model_module_version": "~2.1.4",
       "_view_module_version": "~2.1.4",
       "layout": "IPY_MODEL_65875a34ff4547c497bf2b1e6ba06647",
       "orientation": "vertical",
       "readout": false,
       "step": 0.1,
       "value": 50
      }
     },
     "ba3feba0f8a047b79bf3bdac34de5089": {
      "model_module": "jupyter-js-widgets",
      "model_module_version": "~2.1.4",
      "model_name": "HTMLModel",
      "state": {
       "_model_module_version": "~2.1.4",
       "_view_module_version": "~2.1.4",
       "layout": "IPY_MODEL_313e0dcb8c054723b384f5f89a3c3b2e",
       "value": "<iframe style=\"width: 960px\" src=\"https://conx.readthedocs.io\" width=\"100%\" height=\"550px\"></frame>"
      }
     },
     "ba6a0bf4e5834cfbab02f1a4e37196bb": {
      "model_module": "jupyter-js-widgets",
      "model_module_version": "~2.1.4",
      "model_name": "HTMLModel",
      "state": {
       "_model_module_version": "~2.1.4",
       "_view_module_version": "~2.1.4",
       "layout": "IPY_MODEL_d937d34976c74d759b0364fe717ab147",
       "value": "<iframe style=\"width: 960px\" src=\"https://conx.readthedocs.io\" width=\"100%\" height=\"550px\"></frame>"
      }
     },
     "bae5862495694080ac5d2b662a9d8230": {
      "model_module": "jupyter-js-widgets",
      "model_module_version": "~2.1.4",
      "model_name": "LayoutModel",
      "state": {
       "_model_module_version": "~2.1.4",
       "_view_module_version": "~2.1.4"
      }
     },
     "bb56f7931244452cad6ac2bf6d334247": {
      "model_module": "jupyter-js-widgets",
      "model_module_version": "~2.1.4",
      "model_name": "LayoutModel",
      "state": {
       "_model_module_version": "~2.1.4",
       "_view_module_version": "~2.1.4",
       "height": "550px",
       "width": "100%"
      }
     },
     "bc7037ee88ad48e8b5796021ebece6aa": {
      "model_module": "jupyter-js-widgets",
      "model_module_version": "~2.1.4",
      "model_name": "VBoxModel",
      "state": {
       "_model_module_version": "~2.1.4",
       "_view_module_version": "~2.1.4",
       "children": [
        "IPY_MODEL_03f17468af7c4ae598ed741f63279e97",
        "IPY_MODEL_db0dd84de6f24e01a277b937ef1b1b99"
       ],
       "layout": "IPY_MODEL_dd222d073fc44e348333ddc93b672788"
      }
     },
     "bcc60f6f752e45a49caa99289d952ba5": {
      "model_module": "jupyter-js-widgets",
      "model_module_version": "~2.1.4",
      "model_name": "LayoutModel",
      "state": {
       "_model_module_version": "~2.1.4",
       "_view_module_version": "~2.1.4",
       "height": "550px",
       "width": "100%"
      }
     },
     "be0301b31b63494187f458453014bab3": {
      "model_module": "jupyter-js-widgets",
      "model_module_version": "~2.1.4",
      "model_name": "VBoxModel",
      "state": {
       "_model_module_version": "~2.1.4",
       "_view_module_version": "~2.1.4",
       "children": [
        "IPY_MODEL_d2ddefb06f594d7c8d19a55daf2565c0"
       ],
       "layout": "IPY_MODEL_3967e8ade0ba476cb219881734b6c4cf"
      }
     },
     "be5c4186f3aa422bb0938283d6944c43": {
      "model_module": "jupyter-js-widgets",
      "model_module_version": "~2.1.4",
      "model_name": "LayoutModel",
      "state": {
       "_model_module_version": "~2.1.4",
       "_view_module_version": "~2.1.4"
      }
     },
     "beac4dd0eaad4292924dbdfdc4e5fdd8": {
      "model_module": "jupyter-js-widgets",
      "model_module_version": "~2.1.4",
      "model_name": "HBoxModel",
      "state": {
       "_model_module_version": "~2.1.4",
       "_view_module_version": "~2.1.4",
       "children": [
        "IPY_MODEL_9116265c36654c299979f5ca910d3eda",
        "IPY_MODEL_3a7d770cb8cb497b9846f4fadfd47c31"
       ],
       "layout": "IPY_MODEL_03d16f2d4c90400cb8a0826a6b7b8117"
      }
     },
     "bed7f5ae4a8f41aaa2bae0a3b7a4bb47": {
      "model_module": "jupyter-js-widgets",
      "model_module_version": "~2.1.4",
      "model_name": "ButtonStyleModel",
      "state": {
       "_model_module_version": "~2.1.4",
       "_view_module_version": "~2.1.4"
      }
     },
     "bee2830883644841a5229a0f27be4579": {
      "model_module": "jupyter-js-widgets",
      "model_module_version": "~2.1.4",
      "model_name": "LayoutModel",
      "state": {
       "_model_module_version": "~2.1.4",
       "_view_module_version": "~2.1.4"
      }
     },
     "bf5fb5c81d6645ffb83d1c4a81dd71c6": {
      "model_module": "jupyter-js-widgets",
      "model_module_version": "~2.1.4",
      "model_name": "HTMLModel",
      "state": {
       "_model_module_version": "~2.1.4",
       "_view_module_version": "~2.1.4",
       "layout": "IPY_MODEL_4bdc1b0150df4b7699b364617ebc5690",
       "value": "<svg baseProfile=\"full\" height=\"240\" version=\"1.1\" width=\"240\" xmlns=\"http://www.w3.org/2000/svg\" xmlns:ev=\"http://www.w3.org/2001/xml-events\" xmlns:xlink=\"http://www.w3.org/1999/xlink\"><defs /><rect fill=\"white\" height=\"240\" stroke=\"#000000\" stroke-width=\"1\" width=\"240\" x=\"0\" y=\"0\" /><rect fill=\"#eef3dd\" height=\"240.0\" stroke=\"#bebebe\" stroke-width=\"1\" width=\"240.0\" x=\"0.0\" y=\"0.0\" /><circle cx=\"120.0\" cy=\"195.0\" fill=\"#ffff00\" r=\"15.0\" stroke=\"#ffff00\" stroke-width=\"1\" /><line fill=\"#800080\" stroke=\"#add8e6\" stroke-width=\"1\" x1=\"199.29647346587737\" x2=\"0.0\" y1=\"111.37109959820461\" y2=\"118.34932799999999\" /><line fill=\"#800080\" stroke=\"#add8e6\" stroke-width=\"1\" x1=\"200.64858482032437\" x2=\"0.0\" y1=\"107.12118255369946\" y2=\"21.973026000000004\" /><line fill=\"#800080\" stroke=\"#add8e6\" stroke-width=\"1\" x1=\"202.98412783209295\" x2=\"108.20933355871675\" y1=\"105.23830209010676\" y2=\"0.0\" /><line fill=\"#800080\" stroke=\"#add8e6\" stroke-width=\"1\" x1=\"206.529433775271\" x2=\"174.84110042201567\" y1=\"103.61324646974592\" y2=\"0.0\" /><line fill=\"#800080\" stroke=\"#add8e6\" stroke-width=\"1\" x1=\"212.52575915041191\" x2=\"236.38811675880686\" y1=\"103.4032893421199\" y2=\"0.0\" /><line fill=\"#800080\" stroke=\"#add8e6\" stroke-width=\"1\" x1=\"216.176043657403\" x2=\"240.0\" y1=\"104.77639640932952\" y2=\"74.27725800000002\" /><line fill=\"#800080\" stroke=\"#add8e6\" stroke-width=\"1\" x1=\"218.63756094574717\" x2=\"240.0\" y1=\"106.49131117082139\" y2=\"95.60408999999999\" /><line fill=\"#800080\" stroke=\"#add8e6\" stroke-width=\"1\" x1=\"220.28361227887063\" x2=\"240.0\" y1=\"110.63624965151354\" y2=\"109.94589599999998\" /><line fill=\"#800080\" stroke=\"#add8e6\" stroke-width=\"1\" x1=\"220.70352653412263\" x2=\"240.0\" y1=\"122.62890040179542\" y2=\"121.95324600000001\" /><line fill=\"#800080\" stroke=\"#add8e6\" stroke-width=\"1\" x1=\"219.35141517967563\" x2=\"240.0\" y1=\"126.87881744630057\" y2=\"135.641346\" /><line fill=\"#800080\" stroke=\"#add8e6\" stroke-width=\"1\" x1=\"217.01587216790705\" x2=\"240.0\" y1=\"128.76169790989326\" y2=\"154.283364\" /><line fill=\"#800080\" stroke=\"#add8e6\" stroke-width=\"1\" x1=\"213.470566224729\" x2=\"240.0\" y1=\"130.3867535302541\" y2=\"217.131636\" /><line fill=\"#800080\" stroke=\"#add8e6\" stroke-width=\"1\" x1=\"207.47424084958809\" x2=\"182.22726449088904\" y1=\"130.59671065788012\" y2=\"240.0\" /><line fill=\"#800080\" stroke=\"#add8e6\" stroke-width=\"1\" x1=\"203.823956342597\" x2=\"117.29260723482744\" y1=\"129.2236035906705\" y2=\"240.0\" /><line fill=\"#800080\" stroke=\"#add8e6\" stroke-width=\"1\" x1=\"201.36243905425283\" x2=\"0.0\" y1=\"127.50868882917862\" y2=\"230.131668\" /><line fill=\"#800080\" stroke=\"#add8e6\" stroke-width=\"1\" x1=\"199.71638772112937\" x2=\"0.0\" y1=\"123.36375034848649\" y2=\"130.356678\" /><line fill=\"#800080\" stroke=\"#a020f0\" stroke-width=\"1\" x1=\"210.0\" x2=\"0.0\" y1=\"117.00000000000001\" y2=\"5.366183999999992\" /><line fill=\"#800080\" stroke=\"#a020f0\" stroke-width=\"1\" x1=\"210.0\" x2=\"240.0\" y1=\"117.00000000000001\" y2=\"98.250024\" /><line fill=\"#800080\" stroke=\"#ffa500\" stroke-width=\"1\" x1=\"120.0\" x2=\"199.03402705634483\" y1=\"195.0\" y2=\"103.87569287927845\" /><line fill=\"#800080\" stroke=\"#ffa500\" stroke-width=\"1\" x1=\"120.0\" x2=\"220.02116586933806\" y1=\"195.0\" y2=\"103.14084293258738\" /><polygon fill=\"red\" points=\"204.7305361627287,103.67623360803373 199.19149490206433,108.37293691063414 199.82136628494237,126.36191303605695 205.67534323704578,130.65969779616793 215.2694638372713,130.3237663919663 220.80850509793567,125.62706308936588 220.17863371505763,107.63808696394308 214.32465676295422,103.3403022038321\" stroke=\"red\" stroke-width=\"1\" /><polygon points=\"-3.0,-3.0 0,0 3.0,-3.0 0,3.0\" stroke=\"black\" stroke-width=\"1\" transform=\"translate(210.0,117.00000000000001) rotate(177.9946477170421)\" /><polygon fill=\"black\" points=\"213.30385524640815,108.4791701982271 213.47182094850893,113.27623049833983 206.2762304983398,113.52817905149107 206.108264796239,108.73111875137835\" stroke=\"black\" stroke-width=\"1\" /><circle cx=\"199.03402705634483\" cy=\"103.87569287927845\" fill=\"yellow\" r=\"1.5\" stroke=\"orange\" stroke-width=\"1\" /><circle cx=\"220.02116586933806\" cy=\"103.14084293258738\" fill=\"yellow\" r=\"1.5\" stroke=\"orange\" stroke-width=\"1\" /></svg>"
      }
     },
     "bf8eb64b36924e5ea8f9b82aa52942b9": {
      "model_module": "jupyter-js-widgets",
      "model_module_version": "~2.1.4",
      "model_name": "ButtonStyleModel",
      "state": {
       "_model_module_version": "~2.1.4",
       "_view_module_version": "~2.1.4"
      }
     },
     "c023ab6774ec4afeb422c30fe303dd29": {
      "model_module": "jupyter-js-widgets",
      "model_module_version": "~2.1.4",
      "model_name": "LayoutModel",
      "state": {
       "_model_module_version": "~2.1.4",
       "_view_module_version": "~2.1.4"
      }
     },
     "c0510eae88da421c8be33cdd00c90083": {
      "model_module": "jupyter-js-widgets",
      "model_module_version": "~2.1.4",
      "model_name": "LayoutModel",
      "state": {
       "_model_module_version": "~2.1.4",
       "_view_module_version": "~2.1.4"
      }
     },
     "c076360a15de4d29bdf9b5997ae48757": {
      "model_module": "jupyter-js-widgets",
      "model_module_version": "~2.1.4",
      "model_name": "ButtonModel",
      "state": {
       "_model_module_version": "~2.1.4",
       "_view_module_version": "~2.1.4",
       "description": "Train",
       "layout": "IPY_MODEL_09f4f14389d64e83b288b008c9f38806",
       "style": "IPY_MODEL_42460dcab54b440ba2c79be13dcf3d2e"
      }
     },
     "c0ae75b44ae7435aa9178cfe2a209036": {
      "model_module": "jupyter-js-widgets",
      "model_module_version": "~2.1.4",
      "model_name": "LayoutModel",
      "state": {
       "_model_module_version": "~2.1.4",
       "_view_module_version": "~2.1.4"
      }
     },
     "c0ef97b2ba104171a248151e9d344106": {
      "model_module": "jupyter-js-widgets",
      "model_module_version": "~2.1.4",
      "model_name": "ImageModel",
      "state": {
       "_b64value": "iVBORw0KGgoAAAANSUhEUgAAADwAAAAoCAIAAAAt2Q6oAAABLklEQVR4nO2YLQ/CMBCGdwsSg8Ui+D+4jd/HpsBiSDDYGRSIWSQIJjBkiC7b0nVNae9uadJX7aN778n13Vdhf3tEvimeGsBGM5NBm/Vy7NThPsFE6aA1rMMxnPRqaBNc5SU86IpMWxCjXGsuGdq9KgN3Fw/EYtRR8fKR10BTzCldTmJSdyJnL+MBdU1eQ3lHfq+XhgBA2lDu9mX0GnfUpzgDgIDob1gbcsQjTbe4hl5mOkBzKUBziQk6SVJENyboPM8Q3UI8uBSguRSgR5RlO1xDju/pV1UOD56ORUPw//c0PN/lYr7CI5SlJHaUt5mmaIYQkXNM507XCy/j0f3Yisag3JR0PRaSO+1ej5o4UsbDpSoDcTS27mERFR5cId1iTcuhoedkbWW0wjQJmUY/VtdbejxZSK0AAAAASUVORK5CYII=",
       "_model_module_version": "~2.1.4",
       "_view_module_version": "~2.1.4",
       "layout": "IPY_MODEL_513ec34f7b794465a2f7f30b2cd60bd7",
       "width": "240"
      }
     },
     "c12a3c3c016947f1afdfcf5b50e6b79f": {
      "model_module": "jupyter-js-widgets",
      "model_module_version": "~2.1.4",
      "model_name": "LayoutModel",
      "state": {
       "_model_module_version": "~2.1.4",
       "_view_module_version": "~2.1.4",
       "width": "100%"
      }
     },
     "c1bc270c94294ca6919017b5a07d9efb": {
      "model_module": "jupyter-js-widgets",
      "model_module_version": "~2.1.4",
      "model_name": "HBoxModel",
      "state": {
       "_model_module_version": "~2.1.4",
       "_view_module_version": "~2.1.4",
       "children": [
        "IPY_MODEL_c87e35413a954b4db062240690f748ca",
        "IPY_MODEL_f63a44b27a8741aaa9c90816298ec201"
       ],
       "layout": "IPY_MODEL_8afc9ea84881460eaed73de6cd90f584"
      }
     },
     "c1e8cbb221cc41298bb95d935aa1db71": {
      "model_module": "jupyter-js-widgets",
      "model_module_version": "~2.1.4",
      "model_name": "SliderStyleModel",
      "state": {
       "_model_module_version": "~2.1.4",
       "_view_module_version": "~2.1.4"
      }
     },
     "c219c9a163ed41778ef280df6aaa7f23": {
      "model_module": "jupyter-js-widgets",
      "model_module_version": "~2.1.4",
      "model_name": "ButtonStyleModel",
      "state": {
       "_model_module_version": "~2.1.4",
       "_view_module_version": "~2.1.4"
      }
     },
     "c2dae6ff1ff44914985269cfe4dabf51": {
      "model_module": "jupyter-js-widgets",
      "model_module_version": "~2.1.4",
      "model_name": "ButtonModel",
      "state": {
       "_model_module_version": "~2.1.4",
       "_view_module_version": "~2.1.4",
       "icon": "backward",
       "layout": "IPY_MODEL_8dfa666134944aca8b2327044d82e8f4",
       "style": "IPY_MODEL_258a159ffd7f43d681c06b62f4e4eb03"
      }
     },
     "c3d5c97bdef049e598ea150baf98ce83": {
      "model_module": "jupyter-js-widgets",
      "model_module_version": "~2.1.4",
      "model_name": "HBoxModel",
      "state": {
       "_model_module_version": "~2.1.4",
       "_view_module_version": "~2.1.4",
       "children": [
        "IPY_MODEL_89bd0aab9a70400c88b5988f6d97bcdc",
        "IPY_MODEL_6dddde359a7b4072a248c52c4704199b"
       ],
       "layout": "IPY_MODEL_b2896b4c91bc49d2a723956298cc48ef"
      }
     },
     "c40bf903efcc43a894a006b45da592fb": {
      "model_module": "jupyter-js-widgets",
      "model_module_version": "~2.1.4",
      "model_name": "CheckboxModel",
      "state": {
       "_model_module_version": "~2.1.4",
       "_view_module_version": "~2.1.4",
       "description": "Update GUI",
       "disabled": false,
       "layout": "IPY_MODEL_80659753bb174d0e9b9bfcbdfa182899",
       "value": true
      }
     },
     "c44024d598424e20a29da7ef212e6e20": {
      "model_module": "jupyter-js-widgets",
      "model_module_version": "~2.1.4",
      "model_name": "ButtonModel",
      "state": {
       "_model_module_version": "~2.1.4",
       "_view_module_version": "~2.1.4",
       "icon": "step-forward",
       "layout": "IPY_MODEL_a63175520b61462aabe8914983c2a7d0",
       "style": "IPY_MODEL_3bf75ee19e3844999aa26398606bbc2d"
      }
     },
     "c4d6ff487a8f496a9b836ad65d008376": {
      "model_module": "jupyter-js-widgets",
      "model_module_version": "~2.1.4",
      "model_name": "LayoutModel",
      "state": {
       "_model_module_version": "~2.1.4",
       "_view_module_version": "~2.1.4",
       "height": "248px",
       "padding": "0px 0px 0px 0px",
       "width": "10px"
      }
     },
     "c4f0c18229354a52aefad19b2f228b7e": {
      "model_module": "jupyter-js-widgets",
      "model_module_version": "~2.1.4",
      "model_name": "VBoxModel",
      "state": {
       "_model_module_version": "~2.1.4",
       "_view_module_version": "~2.1.4",
       "layout": "IPY_MODEL_62b3988aefa5474887a7e46f78c7fe00"
      }
     },
     "c5062bd8508647fb9f8b195c5a770125": {
      "model_module": "jupyter-js-widgets",
      "model_module_version": "~2.1.4",
      "model_name": "LayoutModel",
      "state": {
       "_model_module_version": "~2.1.4",
       "_view_module_version": "~2.1.4",
       "width": "100%"
      }
     },
     "c5275c7e41f9492a81aabc2841bbea89": {
      "model_module": "jupyter-js-widgets",
      "model_module_version": "~2.1.4",
      "model_name": "HBoxModel",
      "state": {
       "_model_module_version": "~2.1.4",
       "_view_module_version": "~2.1.4",
       "children": [
        "IPY_MODEL_e38af6dc02104596afb67ffa95ea10ac",
        "IPY_MODEL_830b8fc906b84685a41596f95ded5b7d"
       ],
       "layout": "IPY_MODEL_be5c4186f3aa422bb0938283d6944c43"
      }
     },
     "c5beddd1054c4fce8dc2296374274072": {
      "model_module": "jupyter-js-widgets",
      "model_module_version": "~2.1.4",
      "model_name": "LayoutModel",
      "state": {
       "_model_module_version": "~2.1.4",
       "_view_module_version": "~2.1.4",
       "height": "550px",
       "justify_content": "center",
       "overflow_x": "auto",
       "width": "100%"
      }
     },
     "c6a64ed503d945d290f927241daf41f3": {
      "model_module": "jupyter-js-widgets",
      "model_module_version": "~2.1.4",
      "model_name": "VBoxModel",
      "state": {
       "_model_module_version": "~2.1.4",
       "_view_module_version": "~2.1.4",
       "children": [
        "IPY_MODEL_a95bd74f8e7d43618f0d3c75b70d25fa",
        "IPY_MODEL_5c3e0c65289e45d6b28acc340e514d5a"
       ],
       "layout": "IPY_MODEL_ced688f6ce044328b05bd7c7e71d1ecf"
      }
     },
     "c70a9cf939e447b7a3439cf9ea44fc39": {
      "model_module": "jupyter-js-widgets",
      "model_module_version": "~2.1.4",
      "model_name": "LayoutModel",
      "state": {
       "_model_module_version": "~2.1.4",
       "_view_module_version": "~2.1.4",
       "height": "550px",
       "width": "100%"
      }
     },
     "c80d16b36c8c4d529d2d5fc082c8d96c": {
      "model_module": "jupyter-js-widgets",
      "model_module_version": "~2.1.4",
      "model_name": "ButtonModel",
      "state": {
       "_model_module_version": "~2.1.4",
       "_view_module_version": "~2.1.4",
       "icon": "step-forward",
       "layout": "IPY_MODEL_9005d28b069f4098a4abb0cd7f5effa0",
       "style": "IPY_MODEL_01ea5a99ceba4147815153e5af187eda"
      }
     },
     "c80fcd534b13487ea2776710489f033a": {
      "model_module": "jupyter-js-widgets",
      "model_module_version": "~2.1.4",
      "model_name": "FloatSliderModel",
      "state": {
       "_model_module_version": "~2.1.4",
       "_view_module_version": "~2.1.4",
       "layout": "IPY_MODEL_ab7badf450184110b88d98be50a5b489",
       "readout": false,
       "step": 0.1,
       "value": 34.84786480890165
      }
     },
     "c851d91acff64925a5bef91e647f8e1c": {
      "model_module": "jupyter-js-widgets",
      "model_module_version": "~2.1.4",
      "model_name": "ButtonModel",
      "state": {
       "_model_module_version": "~2.1.4",
       "_view_module_version": "~2.1.4",
       "icon": "forward",
       "layout": "IPY_MODEL_c8dd6a6fd3a7483eae53c90796b77405",
       "style": "IPY_MODEL_ed43c7648410449e8fce71106043c612"
      }
     },
     "c86154a0606b4f36a4bf0b44a556bc98": {
      "model_module": "jupyter-js-widgets",
      "model_module_version": "~2.1.4",
      "model_name": "LayoutModel",
      "state": {
       "_model_module_version": "~2.1.4",
       "_view_module_version": "~2.1.4"
      }
     },
     "c86f9b65c2da4853beefa85440ab3dcf": {
      "model_module": "jupyter-js-widgets",
      "model_module_version": "~2.1.4",
      "model_name": "VBoxModel",
      "state": {
       "_model_module_version": "~2.1.4",
       "_view_module_version": "~2.1.4",
       "children": [
        "IPY_MODEL_ec5ea82ee5064cd5a5b5db057bf5d911",
        "IPY_MODEL_d7d122358322497c917477207efe1de7",
        "IPY_MODEL_fa690b9f49e941b9998954803c016c76"
       ],
       "layout": "IPY_MODEL_f2e86c3cac8d4f3182e93a3304bb061d"
      }
     },
     "c87e35413a954b4db062240690f748ca": {
      "model_module": "jupyter-js-widgets",
      "model_module_version": "~2.1.4",
      "model_name": "VBoxModel",
      "state": {
       "_model_module_version": "~2.1.4",
       "_view_module_version": "~2.1.4",
       "children": [
        "IPY_MODEL_98c721c77991436297190129aa053291",
        "IPY_MODEL_ea11adf38e7643dba311b3fa903284a4"
       ],
       "layout": "IPY_MODEL_2b95b6d934194f49aa66849f5da96229"
      }
     },
     "c8dd6a6fd3a7483eae53c90796b77405": {
      "model_module": "jupyter-js-widgets",
      "model_module_version": "~2.1.4",
      "model_name": "LayoutModel",
      "state": {
       "_model_module_version": "~2.1.4",
       "_view_module_version": "~2.1.4",
       "width": "100%"
      }
     },
     "c93c053aeec24c0d85d6ec05aceab5aa": {
      "model_module": "jupyter-js-widgets",
      "model_module_version": "~2.1.4",
      "model_name": "ImageModel",
      "state": {
       "_b64value": "iVBORw0KGgoAAAANSUhEUgAAADwAAAAoCAIAAAAt2Q6oAAAA8UlEQVR4nO3WoQ7CMBCA4d5d++gYggJDwMwgEJshATHkEIRgUCCwkxiwZAhGMxq2bIRcaXKfWOb655b0BvExV6FB3wHfkGguEs1ForlINBeJ5qJ9B5TuhwzeKaWqz+qLt+jbNkVEIgIARLRBbXSOztPYDqBuEg2KokBEYwwRdT3a+hx9SiJ8sZOofji/yuhdNCQirTURPVv9ZjXTm8kAAIwxvks6+OuJ1pFoLhLNJchouFzPSql+b+rc0w3L5Vcb0Vnj7f89ymjHeDQPL7rBLFqGF/0riyQLL9qxXu3Di+4kyCtPorlINBeJ5iLRXIKMfgDJGDkVat0rzwAAAABJRU5ErkJggg==",
       "_model_module_version": "~2.1.4",
       "_view_module_version": "~2.1.4",
       "layout": "IPY_MODEL_ab7066115cfd4604b26c76f10a430e46",
       "width": "240"
      }
     },
     "c9a7197ccd5a49018ab4528788b2baba": {
      "model_module": "jupyter-js-widgets",
      "model_module_version": "~2.1.4",
      "model_name": "LayoutModel",
      "state": {
       "_model_module_version": "~2.1.4",
       "_view_module_version": "~2.1.4"
      }
     },
     "cbf88c16274445ada5686d51cc00e019": {
      "model_module": "jupyter-js-widgets",
      "model_module_version": "~2.1.4",
      "model_name": "HBoxModel",
      "state": {
       "_model_module_version": "~2.1.4",
       "_view_module_version": "~2.1.4",
       "children": [
        "IPY_MODEL_6924bb4eb58645c48b5288bb4998a322",
        "IPY_MODEL_5258841c681142e6a54fa942962ed30e"
       ],
       "layout": "IPY_MODEL_ee05c1e97dbb43a797623aa7a65d7ad1"
      }
     },
     "cc0183c42c8a460cadcdc5765a89fbb9": {
      "model_module": "jupyter-js-widgets",
      "model_module_version": "~2.1.4",
      "model_name": "FloatSliderModel",
      "state": {
       "_model_module_version": "~2.1.4",
       "_view_module_version": "~2.1.4",
       "layout": "IPY_MODEL_b8f1b36366714c3fb4bed1bc766f7b8f",
       "orientation": "vertical",
       "readout": false,
       "step": 0.1,
       "value": 48.58482415249005
      }
     },
     "cc4f24858a8846f7b28f5f7ca0dab8dc": {
      "model_module": "jupyter-js-widgets",
      "model_module_version": "~2.1.4",
      "model_name": "LayoutModel",
      "state": {
       "_model_module_version": "~2.1.4",
       "_view_module_version": "~2.1.4",
       "width": "100%"
      }
     },
     "cc78d7bd3fe147738413c202d126eb82": {
      "model_module": "jupyter-js-widgets",
      "model_module_version": "~2.1.4",
      "model_name": "ButtonStyleModel",
      "state": {
       "_model_module_version": "~2.1.4",
       "_view_module_version": "~2.1.4"
      }
     },
     "cc9f53c066c34052974fa9cd05cb74b8": {
      "model_module": "jupyter-js-widgets",
      "model_module_version": "~2.1.4",
      "model_name": "VBoxModel",
      "state": {
       "_model_module_version": "~2.1.4",
       "_view_module_version": "~2.1.4",
       "children": [
        "IPY_MODEL_b4fed73b86e64c2bb4b9a847300f69a9",
        "IPY_MODEL_516c77a9093c4271a4f20b64acbef76d",
        "IPY_MODEL_e367a566635e4fa6b48b1f753ad9d0e1"
       ],
       "layout": "IPY_MODEL_723c435d28f4426cafe8800908f43eb3"
      }
     },
     "ccf27890a599495084f20ecfc2198b81": {
      "model_module": "jupyter-js-widgets",
      "model_module_version": "~2.1.4",
      "model_name": "VBoxModel",
      "state": {
       "_model_module_version": "~2.1.4",
       "_view_module_version": "~2.1.4",
       "children": [
        "IPY_MODEL_66e515675fdb4f14a5d715457944416d",
        "IPY_MODEL_c1bc270c94294ca6919017b5a07d9efb"
       ],
       "layout": "IPY_MODEL_152328ef19024ae5af8690914aaf4165"
      }
     },
     "ce2153af62a84a2ea4e4d48549c68936": {
      "model_module": "jupyter-js-widgets",
      "model_module_version": "~2.1.4",
      "model_name": "LayoutModel",
      "state": {
       "_model_module_version": "~2.1.4",
       "_view_module_version": "~2.1.4"
      }
     },
     "ce8d25219c564c479054390e4c4a2c43": {
      "model_module": "jupyter-js-widgets",
      "model_module_version": "~2.1.4",
      "model_name": "LayoutModel",
      "state": {
       "_model_module_version": "~2.1.4",
       "_view_module_version": "~2.1.4"
      }
     },
     "ce966bd2e5644af18c563aa06711067d": {
      "model_module": "jupyter-js-widgets",
      "model_module_version": "~2.1.4",
      "model_name": "LayoutModel",
      "state": {
       "_model_module_version": "~2.1.4",
       "_view_module_version": "~2.1.4"
      }
     },
     "ceae0e48b4de4c5696ab044b376c96cc": {
      "model_module": "jupyter-js-widgets",
      "model_module_version": "~2.1.4",
      "model_name": "VBoxModel",
      "state": {
       "_model_module_version": "~2.1.4",
       "_view_module_version": "~2.1.4",
       "children": [
        "IPY_MODEL_e507308790a2493b8b33293b9bd78a24",
        "IPY_MODEL_e23251cf06334c11924761a7417bd043",
        "IPY_MODEL_e172700c94df4c7e95276bf95a731a76"
       ],
       "layout": "IPY_MODEL_774c56c4a18049ff999abbc1bbf91d6e"
      }
     },
     "ced688f6ce044328b05bd7c7e71d1ecf": {
      "model_module": "jupyter-js-widgets",
      "model_module_version": "~2.1.4",
      "model_name": "LayoutModel",
      "state": {
       "_model_module_version": "~2.1.4",
       "_view_module_version": "~2.1.4",
       "height": "550px",
       "width": "100%"
      }
     },
     "cf27ed3da9934a2d8036bd224ec367d2": {
      "model_module": "jupyter-js-widgets",
      "model_module_version": "~2.1.4",
      "model_name": "ButtonModel",
      "state": {
       "_model_module_version": "~2.1.4",
       "_view_module_version": "~2.1.4",
       "icon": "fast-backward",
       "layout": "IPY_MODEL_a585561461054844b0dc719b939509f1",
       "style": "IPY_MODEL_6ffb25ff31c841f78bdddd0b0df42bb0"
      }
     },
     "cf4e14357a0047149af8c7204beb1f21": {
      "model_module": "jupyter-js-widgets",
      "model_module_version": "~2.1.4",
      "model_name": "FloatSliderModel",
      "state": {
       "_model_module_version": "~2.1.4",
       "_view_module_version": "~2.1.4",
       "layout": "IPY_MODEL_e0eb9a87e73e4f59af1f0700c93b5550",
       "readout": false,
       "step": 0.1,
       "value": 85.24355703261418
      }
     },
     "cf552e656ecf499cbfa9f30ac6a4175a": {
      "model_module": "jupyter-js-widgets",
      "model_module_version": "~2.1.4",
      "model_name": "LayoutModel",
      "state": {
       "_model_module_version": "~2.1.4",
       "_view_module_version": "~2.1.4"
      }
     },
     "cf8d889c7df9445ba8aeafc0ea4616cc": {
      "model_module": "jupyter-js-widgets",
      "model_module_version": "~2.1.4",
      "model_name": "LayoutModel",
      "state": {
       "_model_module_version": "~2.1.4",
       "_view_module_version": "~2.1.4"
      }
     },
     "d1ac9c77b4c548628339d02daf4e1b3d": {
      "model_module": "jupyter-js-widgets",
      "model_module_version": "~2.1.4",
      "model_name": "VBoxModel",
      "state": {
       "_model_module_version": "~2.1.4",
       "_view_module_version": "~2.1.4",
       "layout": "IPY_MODEL_58ad7b06c7824b968708fcfe8696c422"
      }
     },
     "d265f7e083eb4699a3dddd7432d3a0f6": {
      "model_module": "jupyter-js-widgets",
      "model_module_version": "~2.1.4",
      "model_name": "LayoutModel",
      "state": {
       "_model_module_version": "~2.1.4",
       "_view_module_version": "~2.1.4"
      }
     },
     "d2b9d4ed19cc45229e6c525026441860": {
      "model_module": "jupyter-js-widgets",
      "model_module_version": "~2.1.4",
      "model_name": "TabModel",
      "state": {
       "_model_module_version": "~2.1.4",
       "_titles": {
        "0": "Network",
        "1": "Graphs",
        "2": "Analysis",
        "3": "Camera",
        "4": "Help"
       },
       "_view_module_version": "~2.1.4",
       "children": [
        "IPY_MODEL_efd015f3c4eb42259e404be53d57c23a",
        "IPY_MODEL_9a651119d9c64188a2e90c73f264140e",
        "IPY_MODEL_9d57d47ec42e42ee8b3b8702b725efcc",
        "IPY_MODEL_a25c539fa5fe4e5fa35dafeeec97264c",
        "IPY_MODEL_ba6a0bf4e5834cfbab02f1a4e37196bb"
       ],
       "layout": "IPY_MODEL_ef4b517943004261b845f96860796220"
      }
     },
     "d2ddefb06f594d7c8d19a55daf2565c0": {
      "model_module": "jupyter-js-widgets",
      "model_module_version": "~2.1.4",
      "model_name": "ButtonModel",
      "state": {
       "_model_module_version": "~2.1.4",
       "_view_module_version": "~2.1.4",
       "description": "Turn on webcamera",
       "layout": "IPY_MODEL_8e7beb38595a4d82970890aa74e02a5d",
       "style": "IPY_MODEL_0e87f64d66ed4322af8fc7fa53b70cf6"
      }
     },
     "d2f86c1ceea4464a81fbb877b7746528": {
      "model_module": "jupyter-js-widgets",
      "model_module_version": "~2.1.4",
      "model_name": "HBoxModel",
      "state": {
       "_model_module_version": "~2.1.4",
       "_view_module_version": "~2.1.4",
       "children": [
        "IPY_MODEL_2409e45e43e8481893838607dd8d31af",
        "IPY_MODEL_167cef33524543929a3173c851a027f2"
       ],
       "layout": "IPY_MODEL_0873475d3a9c4d2793af275e309c9613"
      }
     },
     "d3ae30f2f705413faf736c29df9d3f97": {
      "model_module": "jupyter-js-widgets",
      "model_module_version": "~2.1.4",
      "model_name": "ImageModel",
      "state": {
       "_b64value": "iVBORw0KGgoAAAANSUhEUgAAADwAAAAoCAIAAAAt2Q6oAAABWElEQVR4nO2YPY7CMBCFCaKEgjbtFjkBEi0NDV0azsBeAW4UseUeAEGPoIEiLeWmWDocmyJRiCAx/pkZZMmvSpTJ85cnexw5WJ8uHdfU/TSAiTw0lXqUg8VR2Pbo56yxtCigJayvNSr06NNDhVi3HjFpXdynFyWRYyVtTKzigAJtTyz3gYeGIpa4Odmnu/y4yw9bKDvYmNs8y+5x22+EEJxzznme54PxFMQdSnEU1ptJc8vLtr+MMSGEiuOjLLKmU5OTcxpsc1ksvqGsGhVH4Wq1LK6dTNpDU8lDU8lDU8lJ6CBJkuKvo/7vwRgz2MZR95fsmlbXTibdvI3H8wkxh5ZK6OlsZO+VXdNh/8vep9G5fhv8/adtpWYC534i7jg6p+GhX4MBd0NJGoq7zQdrethzSxwQj8WKUQ3W5dsPRl+IupGr1FMc9VYcktS1vo30UB1qgfo+TaU7WlWOWxnOs+wAAAAASUVORK5CYII=",
       "_model_module_version": "~2.1.4",
       "_view_module_version": "~2.1.4",
       "layout": "IPY_MODEL_5b55533fdb2c45aba6d3f2a50fc1c459",
       "width": "240"
      }
     },
     "d42908c798de4580a54511b226cba9e0": {
      "model_module": "jupyter-js-widgets",
      "model_module_version": "~2.1.4",
      "model_name": "ButtonStyleModel",
      "state": {
       "_model_module_version": "~2.1.4",
       "_view_module_version": "~2.1.4"
      }
     },
     "d47c7e6d20744bdb9c74e17ce8d1a5a1": {
      "model_module": "jupyter-js-widgets",
      "model_module_version": "~2.1.4",
      "model_name": "LayoutModel",
      "state": {
       "_model_module_version": "~2.1.4",
       "_view_module_version": "~2.1.4"
      }
     },
     "d49891e5b61c44b287c45c677850ded2": {
      "model_module": "jupyter-js-widgets",
      "model_module_version": "~2.1.4",
      "model_name": "LayoutModel",
      "state": {
       "_model_module_version": "~2.1.4",
       "_view_module_version": "~2.1.4"
      }
     },
     "d49eac625b2b401097f6c3fd1f99135b": {
      "model_module": "jupyter-js-widgets",
      "model_module_version": "~2.1.4",
      "model_name": "LayoutModel",
      "state": {
       "_model_module_version": "~2.1.4",
       "_view_module_version": "~2.1.4"
      }
     },
     "d69c98322e7f4d6c894f5376895bf625": {
      "model_module": "jupyter-js-widgets",
      "model_module_version": "~2.1.4",
      "model_name": "LayoutModel",
      "state": {
       "_model_module_version": "~2.1.4",
       "_view_module_version": "~2.1.4"
      }
     },
     "d7d122358322497c917477207efe1de7": {
      "model_module": "jupyter-js-widgets",
      "model_module_version": "~2.1.4",
      "model_name": "IntSliderModel",
      "state": {
       "_model_module_version": "~2.1.4",
       "_view_module_version": "~2.1.4",
       "continuous_update": false,
       "description": "Dataset index",
       "layout": "IPY_MODEL_c12a3c3c016947f1afdfcf5b50e6b79f",
       "max": 0,
       "style": "IPY_MODEL_20c188277b1d44b19ae2760fae29b7b8"
      }
     },
     "d83cab63840b4f94a615a3396f3fd2be": {
      "model_module": "jupyter-js-widgets",
      "model_module_version": "~2.1.4",
      "model_name": "LayoutModel",
      "state": {
       "_model_module_version": "~2.1.4",
       "_view_module_version": "~2.1.4"
      }
     },
     "d84972c7f0274faaa41c15c7bd77065a": {
      "model_module": "jupyter-js-widgets",
      "model_module_version": "~2.1.4",
      "model_name": "LayoutModel",
      "state": {
       "_model_module_version": "~2.1.4",
       "_view_module_version": "~2.1.4",
       "height": "550px",
       "width": "100%"
      }
     },
     "d84ae07fcdaf4d2ca09195fe245ebc2d": {
      "model_module": "jupyter-js-widgets",
      "model_module_version": "~2.1.4",
      "model_name": "ButtonStyleModel",
      "state": {
       "_model_module_version": "~2.1.4",
       "_view_module_version": "~2.1.4"
      }
     },
     "d8579b16712d45d493544bd558252746": {
      "model_module": "jupyter-js-widgets",
      "model_module_version": "~2.1.4",
      "model_name": "TextModel",
      "state": {
       "_model_module_version": "~2.1.4",
       "_view_module_version": "~2.1.4",
       "description": "Time:",
       "layout": "IPY_MODEL_83a3a1ebedb140b1b813cd9e5d55c9a7",
       "value": "0.20 seconds"
      }
     },
     "d86902637db8436cb7f9bccc68076561": {
      "model_module": "jupyter-js-widgets",
      "model_module_version": "~2.1.4",
      "model_name": "LayoutModel",
      "state": {
       "_model_module_version": "~2.1.4",
       "_view_module_version": "~2.1.4",
       "width": "100%"
      }
     },
     "d90a646fa8d64c0db1b948ea9b7fb1d2": {
      "model_module": "jupyter-js-widgets",
      "model_module_version": "~2.1.4",
      "model_name": "LayoutModel",
      "state": {
       "_model_module_version": "~2.1.4",
       "_view_module_version": "~2.1.4"
      }
     },
     "d937d34976c74d759b0364fe717ab147": {
      "model_module": "jupyter-js-widgets",
      "model_module_version": "~2.1.4",
      "model_name": "LayoutModel",
      "state": {
       "_model_module_version": "~2.1.4",
       "_view_module_version": "~2.1.4",
       "height": "550px",
       "width": "100%"
      }
     },
     "d945a37248814f03b37ac5173c20d578": {
      "model_module": "jupyter-js-widgets",
      "model_module_version": "~2.1.4",
      "model_name": "LayoutModel",
      "state": {
       "_model_module_version": "~2.1.4",
       "_view_module_version": "~2.1.4"
      }
     },
     "da5a2c857fd143538119ac89f571d954": {
      "model_module": "jupyter-js-widgets",
      "model_module_version": "~2.1.4",
      "model_name": "LayoutModel",
      "state": {
       "_model_module_version": "~2.1.4",
       "_view_module_version": "~2.1.4",
       "height": "550px",
       "width": "100%"
      }
     },
     "dac01ea97ebf4cbeb04c0f03912333df": {
      "model_module": "jupyter-js-widgets",
      "model_module_version": "~2.1.4",
      "model_name": "LayoutModel",
      "state": {
       "_model_module_version": "~2.1.4",
       "_view_module_version": "~2.1.4"
      }
     },
     "db0dd84de6f24e01a277b937ef1b1b99": {
      "model_module": "jupyter-js-widgets",
      "model_module_version": "~2.1.4",
      "model_name": "HBoxModel",
      "state": {
       "_model_module_version": "~2.1.4",
       "_view_module_version": "~2.1.4",
       "children": [
        "IPY_MODEL_861234e339c2434088e19ebc15208722",
        "IPY_MODEL_dc8b53ab5aec41aab9026a56f7879908"
       ],
       "layout": "IPY_MODEL_d265f7e083eb4699a3dddd7432d3a0f6"
      }
     },
     "dc287ac32dc04a78bd6a40e25997491b": {
      "model_module": "jupyter-js-widgets",
      "model_module_version": "~2.1.4",
      "model_name": "LayoutModel",
      "state": {
       "_model_module_version": "~2.1.4",
       "_view_module_version": "~2.1.4"
      }
     },
     "dc85de8b14664060a53186bd23167018": {
      "model_module": "jupyter-js-widgets",
      "model_module_version": "~2.1.4",
      "model_name": "LayoutModel",
      "state": {
       "_model_module_version": "~2.1.4",
       "_view_module_version": "~2.1.4",
       "height": "550px",
       "width": "100%"
      }
     },
     "dc8b53ab5aec41aab9026a56f7879908": {
      "model_module": "jupyter-js-widgets",
      "model_module_version": "~2.1.4",
      "model_name": "VBoxModel",
      "state": {
       "_model_module_version": "~2.1.4",
       "_view_module_version": "~2.1.4",
       "children": [
        "IPY_MODEL_3c1b749206ce476286a4c95e2291ef7d",
        "IPY_MODEL_744eb6ad47ef4f26ac8d18fe4da06e02"
       ],
       "layout": "IPY_MODEL_dc287ac32dc04a78bd6a40e25997491b"
      }
     },
     "dce5f0eaf69a4a67b59f6bbf151f50dc": {
      "model_module": "jupyter-js-widgets",
      "model_module_version": "~2.1.4",
      "model_name": "HTMLModel",
      "state": {
       "_model_module_version": "~2.1.4",
       "_view_module_version": "~2.1.4",
       "layout": "IPY_MODEL_40f447e64c9749fda0f5fdf1ede6362d",
       "value": "<iframe style=\"width: 960px\" src=\"https://conx.readthedocs.io\" width=\"100%\" height=\"550px\"></frame>"
      }
     },
     "dd222d073fc44e348333ddc93b672788": {
      "model_module": "jupyter-js-widgets",
      "model_module_version": "~2.1.4",
      "model_name": "LayoutModel",
      "state": {
       "_model_module_version": "~2.1.4",
       "_view_module_version": "~2.1.4"
      }
     },
     "dd7a8e0b1b2a4bc8986cf38b77a87f30": {
      "model_module": "jupyter-js-widgets",
      "model_module_version": "~2.1.4",
      "model_name": "VBoxModel",
      "state": {
       "_model_module_version": "~2.1.4",
       "_view_module_version": "~2.1.4",
       "children": [
        "IPY_MODEL_47e6c4dc1c34480f8f1634451c975620",
        "IPY_MODEL_6de0589973d9414497ddf70e49bc455d"
       ],
       "layout": "IPY_MODEL_a7edf0fac81b4a0fb7f742596b2944d8"
      }
     },
     "de1498f12e074a0b8b2981fde247170c": {
      "model_module": "jupyter-js-widgets",
      "model_module_version": "~2.1.4",
      "model_name": "VBoxModel",
      "state": {
       "_model_module_version": "~2.1.4",
       "_view_module_version": "~2.1.4",
       "children": [
        "IPY_MODEL_785d37c86afc464596dbbf9d04a35207",
        "IPY_MODEL_a842d6b18130450fa208686f35c70321",
        "IPY_MODEL_2d759d4e84d04984b0941e60818704fe"
       ],
       "layout": "IPY_MODEL_a3f0eb6e5eb2491b95d47ca62cfbf446"
      }
     },
     "de15cfd0b2cf42189b1464c434e5d88e": {
      "model_module": "jupyter-js-widgets",
      "model_module_version": "~2.1.4",
      "model_name": "ButtonStyleModel",
      "state": {
       "_model_module_version": "~2.1.4",
       "_view_module_version": "~2.1.4"
      }
     },
     "de1aa444029847f09b5a90065db47c20": {
      "model_module": "jupyter-js-widgets",
      "model_module_version": "~2.1.4",
      "model_name": "LayoutModel",
      "state": {
       "_model_module_version": "~2.1.4",
       "_view_module_version": "~2.1.4"
      }
     },
     "de7f05fa0e084ff280ff0be3360b6a54": {
      "model_module": "jupyter-js-widgets",
      "model_module_version": "~2.1.4",
      "model_name": "VBoxModel",
      "state": {
       "_model_module_version": "~2.1.4",
       "_view_module_version": "~2.1.4",
       "children": [
        "IPY_MODEL_5bb19b650cd7493182e9395133e47ae0",
        "IPY_MODEL_705cbeb75e9842089309867d7e58556e"
       ],
       "layout": "IPY_MODEL_f729d5cb14b6440a8851005e6023e35f"
      }
     },
     "de8690eb469746d5a084db2c8c559f29": {
      "model_module": "jupyter-js-widgets",
      "model_module_version": "~2.1.4",
      "model_name": "ButtonModel",
      "state": {
       "_model_module_version": "~2.1.4",
       "_view_module_version": "~2.1.4",
       "icon": "forward",
       "layout": "IPY_MODEL_4d1e53a82aae4eacaaa31fe668bed299",
       "style": "IPY_MODEL_bf8eb64b36924e5ea8f9b82aa52942b9"
      }
     },
     "df450d3dedf946029c4bcc60d518f404": {
      "model_module": "jupyter-js-widgets",
      "model_module_version": "~2.1.4",
      "model_name": "LayoutModel",
      "state": {
       "_model_module_version": "~2.1.4",
       "_view_module_version": "~2.1.4",
       "height": "248px",
       "padding": "0px 0px 0px 0px",
       "width": "10px"
      }
     },
     "df761f90ccae4c46a56e2a0271c8d276": {
      "model_module": "jupyter-js-widgets",
      "model_module_version": "~2.1.4",
      "model_name": "ButtonStyleModel",
      "state": {
       "_model_module_version": "~2.1.4",
       "_view_module_version": "~2.1.4"
      }
     },
     "df90f37d6d4f4e0a8c952d871c978cc5": {
      "model_module": "jupyter-js-widgets",
      "model_module_version": "~2.1.4",
      "model_name": "ButtonModel",
      "state": {
       "_model_module_version": "~2.1.4",
       "_view_module_version": "~2.1.4",
       "description": "Clear",
       "layout": "IPY_MODEL_35d72edb635f4c7685c8df9316bf60f8",
       "style": "IPY_MODEL_b005ce89be6f493ebdc70439a4272d58"
      }
     },
     "e01b3c3435a349e0b68af146c228820d": {
      "model_module": "jupyter-js-widgets",
      "model_module_version": "~2.1.4",
      "model_name": "HBoxModel",
      "state": {
       "_model_module_version": "~2.1.4",
       "_view_module_version": "~2.1.4",
       "children": [
        "IPY_MODEL_0f53ed119447440296ed100b5f74ee45",
        "IPY_MODEL_7d545cf4e585487eb8d7fad3ac0766ab"
       ],
       "layout": "IPY_MODEL_1cc2ed39cf6a47558cdc2e57190024cf"
      }
     },
     "e0538de8594f49b39947908465f98371": {
      "model_module": "jupyter-js-widgets",
      "model_module_version": "~2.1.4",
      "model_name": "LayoutModel",
      "state": {
       "_model_module_version": "~2.1.4",
       "_view_module_version": "~2.1.4"
      }
     },
     "e0bca86a916c4f389da4aa3bc328bb66": {
      "model_module": "jupyter-js-widgets",
      "model_module_version": "~2.1.4",
      "model_name": "LayoutModel",
      "state": {
       "_model_module_version": "~2.1.4",
       "_view_module_version": "~2.1.4",
       "width": "100%"
      }
     },
     "e0eb9a87e73e4f59af1f0700c93b5550": {
      "model_module": "jupyter-js-widgets",
      "model_module_version": "~2.1.4",
      "model_name": "LayoutModel",
      "state": {
       "_model_module_version": "~2.1.4",
       "_view_module_version": "~2.1.4",
       "height": "30px",
       "padding": "0px 0px 0px 10px",
       "width": "260px"
      }
     },
     "e0f0528fc8944efc84faf229f1a262e4": {
      "model_module": "jupyter-js-widgets",
      "model_module_version": "~2.1.4",
      "model_name": "ButtonModel",
      "state": {
       "_model_module_version": "~2.1.4",
       "_view_module_version": "~2.1.4",
       "icon": "fast-backward",
       "layout": "IPY_MODEL_ed788bd3355e4913abee33b4d8cc6f61",
       "style": "IPY_MODEL_9a781b087627468897c016c8a9f60aa7"
      }
     },
     "e16953d3df5044bc930684ab854f50b9": {
      "model_module": "jupyter-js-widgets",
      "model_module_version": "~2.1.4",
      "model_name": "LayoutModel",
      "state": {
       "_model_module_version": "~2.1.4",
       "_view_module_version": "~2.1.4",
       "height": "550px",
       "width": "100%"
      }
     },
     "e172700c94df4c7e95276bf95a731a76": {
      "model_module": "jupyter-js-widgets",
      "model_module_version": "~2.1.4",
      "model_name": "OutputModel",
      "state": {
       "_dom_classes": [],
       "_model_module": "jupyter-js-widgets",
       "_model_module_version": "~2.1.4",
       "_view_module": "jupyter-js-widgets",
       "_view_module_version": "~2.1.4",
       "layout": "IPY_MODEL_fe15ad94bcb0436e8b61c172c5a47675",
       "msg_throttle": 1
      }
     },
     "e21166257a014513a4ee5c28d41e8d52": {
      "model_module": "jupyter-js-widgets",
      "model_module_version": "~2.1.4",
      "model_name": "FloatSliderModel",
      "state": {
       "_model_module_version": "~2.1.4",
       "_view_module_version": "~2.1.4",
       "layout": "IPY_MODEL_4ebf3a03f4614654adc98c7360a9113b",
       "readout": false,
       "step": 0.1,
       "value": 82.66065812070707
      }
     },
     "e2140d3172b24d9195269ff6ef27d283": {
      "model_module": "jupyter-js-widgets",
      "model_module_version": "~2.1.4",
      "model_name": "VBoxModel",
      "state": {
       "_model_module_version": "~2.1.4",
       "_view_module_version": "~2.1.4",
       "children": [
        "IPY_MODEL_abfedcb9f3fc45c3897467d147e8d4c3",
        "IPY_MODEL_8530b0f3230a4288a49a951229e523e7"
       ],
       "layout": "IPY_MODEL_1d9c74eb05494e33b9c20fd0fed8b8a4"
      }
     },
     "e23251cf06334c11924761a7417bd043": {
      "model_module": "jupyter-js-widgets",
      "model_module_version": "~2.1.4",
      "model_name": "HBoxModel",
      "state": {
       "_model_module_version": "~2.1.4",
       "_view_module_version": "~2.1.4",
       "children": [
        "IPY_MODEL_30009ad2d0de48cda602cced58c971ec",
        "IPY_MODEL_127dc3aebf384f0e8b2943dede91d1c9",
        "IPY_MODEL_0e2b146811634d4fb62938f681eb574c"
       ],
       "layout": "IPY_MODEL_fdbdfef34767470bac9309c00730c0a2"
      }
     },
     "e2650696d2d04d019eba647b2fb78391": {
      "model_module": "jupyter-js-widgets",
      "model_module_version": "~2.1.4",
      "model_name": "TabModel",
      "state": {
       "_model_module_version": "~2.1.4",
       "_titles": {
        "0": "Network",
        "1": "Graphs",
        "2": "Analysis",
        "3": "Camera",
        "4": "Help"
       },
       "_view_module_version": "~2.1.4",
       "children": [
        "IPY_MODEL_c6a64ed503d945d290f927241daf41f3",
        "IPY_MODEL_e4e260bd548a4a91a980d924378b744c",
        "IPY_MODEL_5f50df57b4c84bd9ada65afe334ef513",
        "IPY_MODEL_be0301b31b63494187f458453014bab3",
        "IPY_MODEL_dce5f0eaf69a4a67b59f6bbf151f50dc"
       ],
       "layout": "IPY_MODEL_1c76395c1c4841bd99dc133f8db293d1"
      }
     },
     "e334c1b31e3d48f4bce3d87944b75a5c": {
      "model_module": "jupyter-js-widgets",
      "model_module_version": "~2.1.4",
      "model_name": "ImageModel",
      "state": {
       "_b64value": "iVBORw0KGgoAAAANSUhEUgAAADwAAAAoCAIAAAAt2Q6oAAAA8UlEQVR4nO3WoQ7CMBCA4d5d++gYggJDwMwgEJshATHkEIRgUCCwkxiwZAhGMxq2bIRcaXKfWOb655b0BvExV6FB3wHfkGguEs1ForlINBeJ5qJ9B5TuhwzeKaWqz+qLt+jbNkVEIgIARLRBbXSOztPYDqBuEg2KokBEYwwRdT3a+hx9SiJ8sZOofji/yuhdNCQirTURPVv9ZjXTm8kAAIwxvks6+OuJ1pFoLhLNJchouFzPSql+b+rc0w3L5Vcb0Vnj7f89ymjHeDQPL7rBLFqGF/0riyQLL9qxXu3Di+4kyCtPorlINBeJ5iLRXIKMfgDJGDkVat0rzwAAAABJRU5ErkJggg==",
       "_model_module_version": "~2.1.4",
       "_view_module_version": "~2.1.4",
       "layout": "IPY_MODEL_fcdbe330ae36468ba68c029be7b96e2a",
       "width": "240"
      }
     },
     "e367a566635e4fa6b48b1f753ad9d0e1": {
      "model_module": "jupyter-js-widgets",
      "model_module_version": "~2.1.4",
      "model_name": "HBoxModel",
      "state": {
       "_model_module_version": "~2.1.4",
       "_view_module_version": "~2.1.4",
       "children": [
        "IPY_MODEL_f08a926282784e9ba6e06d2cce232b6c",
        "IPY_MODEL_316d9e2578234041b38212f26fb1e017",
        "IPY_MODEL_c076360a15de4d29bdf9b5997ae48757",
        "IPY_MODEL_8a223dd3671846efa2095a2f2c3f705b",
        "IPY_MODEL_99ff5983672e4468958befeee7f528aa"
       ],
       "layout": "IPY_MODEL_e0bca86a916c4f389da4aa3bc328bb66"
      }
     },
     "e38af6dc02104596afb67ffa95ea10ac": {
      "model_module": "jupyter-js-widgets",
      "model_module_version": "~2.1.4",
      "model_name": "CheckboxModel",
      "state": {
       "_model_module_version": "~2.1.4",
       "_view_module_version": "~2.1.4",
       "description": "Update GUI",
       "disabled": false,
       "layout": "IPY_MODEL_79c32327eb4f45bcb3ec51639d21e52e",
       "value": true
      }
     },
     "e40dcab14155479b9b2f6be508a3342e": {
      "model_module": "jupyter-js-widgets",
      "model_module_version": "~2.1.4",
      "model_name": "LayoutModel",
      "state": {
       "_model_module_version": "~2.1.4",
       "_view_module_version": "~2.1.4"
      }
     },
     "e4e260bd548a4a91a980d924378b744c": {
      "model_module": "jupyter-js-widgets",
      "model_module_version": "~2.1.4",
      "model_name": "VBoxModel",
      "state": {
       "_model_module_version": "~2.1.4",
       "_view_module_version": "~2.1.4",
       "layout": "IPY_MODEL_c70a9cf939e447b7a3439cf9ea44fc39"
      }
     },
     "e507308790a2493b8b33293b9bd78a24": {
      "model_module": "jupyter-js-widgets",
      "model_module_version": "~2.1.4",
      "model_name": "VBoxModel",
      "state": {
       "_model_module_version": "~2.1.4",
       "_view_module_version": "~2.1.4",
       "children": [
        "IPY_MODEL_beac4dd0eaad4292924dbdfdc4e5fdd8",
        "IPY_MODEL_c3d5c97bdef049e598ea150baf98ce83"
       ],
       "layout": "IPY_MODEL_f8779ad0d5a6441d890185bb7744ff84"
      }
     },
     "e67f46d464f345f196912e60023f2296": {
      "model_module": "jupyter-js-widgets",
      "model_module_version": "~2.1.4",
      "model_name": "FloatSliderModel",
      "state": {
       "_model_module_version": "~2.1.4",
       "_view_module_version": "~2.1.4",
       "layout": "IPY_MODEL_192f3cc22443472caf16c9ffdeb4927c",
       "readout": false,
       "step": 0.1,
       "value": 67.08591539835673
      }
     },
     "e6bc6f14e16848ffa7c0692050d344e5": {
      "model_module": "jupyter-js-widgets",
      "model_module_version": "~2.1.4",
      "model_name": "LayoutModel",
      "state": {
       "_model_module_version": "~2.1.4",
       "_view_module_version": "~2.1.4"
      }
     },
     "e6e00ebd2f0d43c2b58f79c301cef63f": {
      "model_module": "jupyter-js-widgets",
      "model_module_version": "~2.1.4",
      "model_name": "ButtonStyleModel",
      "state": {
       "_model_module_version": "~2.1.4",
       "_view_module_version": "~2.1.4"
      }
     },
     "e70f5e7297ce424b9cdc68d7f7b119e0": {
      "model_module": "jupyter-js-widgets",
      "model_module_version": "~2.1.4",
      "model_name": "VBoxModel",
      "state": {
       "_model_module_version": "~2.1.4",
       "_view_module_version": "~2.1.4",
       "children": [
        "IPY_MODEL_39edbc67337c4a07b9025afaf229874e",
        "IPY_MODEL_9718484537664809a2af4cc936617723",
        "IPY_MODEL_53936477098c42d390cb02fe09eb862d"
       ],
       "layout": "IPY_MODEL_115c0d2335b54cf4aa374b3970272d2d"
      }
     },
     "e7a78adbe53146fb869301b6e973e7d1": {
      "model_module": "jupyter-js-widgets",
      "model_module_version": "~2.1.4",
      "model_name": "PlayModel",
      "state": {
       "_model_module_version": "~2.1.4",
       "_view_module_version": "~2.1.4",
       "layout": "IPY_MODEL_892dae8e6f6f49169d340ad3fbe50e82",
       "max": 1000000
      }
     },
     "e911bd785f7c49fc8b1c019c7ae6e4e4": {
      "model_module": "jupyter-js-widgets",
      "model_module_version": "~2.1.4",
      "model_name": "LayoutModel",
      "state": {
       "_model_module_version": "~2.1.4",
       "_view_module_version": "~2.1.4"
      }
     },
     "e955720d246e4db38a5daee6965ba66f": {
      "model_module": "jupyter-js-widgets",
      "model_module_version": "~2.1.4",
      "model_name": "OutputModel",
      "state": {
       "_dom_classes": [],
       "_model_module": "jupyter-js-widgets",
       "_model_module_version": "~2.1.4",
       "_view_module": "jupyter-js-widgets",
       "_view_module_version": "~2.1.4",
       "layout": "IPY_MODEL_591d4787eda04f308db24ecd4ac2a328",
       "msg_throttle": 1
      }
     },
     "e99289346fae46ae9a4b6ff4566d73a2": {
      "model_module": "jupyter-js-widgets",
      "model_module_version": "~2.1.4",
      "model_name": "LayoutModel",
      "state": {
       "_model_module_version": "~2.1.4",
       "_view_module_version": "~2.1.4"
      }
     },
     "ea11adf38e7643dba311b3fa903284a4": {
      "model_module": "jupyter-js-widgets",
      "model_module_version": "~2.1.4",
      "model_name": "FloatSliderModel",
      "state": {
       "_model_module_version": "~2.1.4",
       "_view_module_version": "~2.1.4",
       "layout": "IPY_MODEL_561fe4ded45a4faf9b5c42bc0fb7dfff",
       "readout": false,
       "step": 0.1,
       "value": 87.5
      }
     },
     "ea47cee4b0fd4bf3ab7c9e29f45c9c9b": {
      "model_module": "jupyter-js-widgets",
      "model_module_version": "~2.1.4",
      "model_name": "LayoutModel",
      "state": {
       "_model_module_version": "~2.1.4",
       "_view_module_version": "~2.1.4"
      }
     },
     "ea497acfffca4f79b896a0abf743ebc1": {
      "model_module": "jupyter-js-widgets",
      "model_module_version": "~2.1.4",
      "model_name": "LayoutModel",
      "state": {
       "_model_module_version": "~2.1.4",
       "_view_module_version": "~2.1.4"
      }
     },
     "ea90aa988bf248db922f39f45bc48b47": {
      "model_module": "jupyter-js-widgets",
      "model_module_version": "~2.1.4",
      "model_name": "HBoxModel",
      "state": {
       "_model_module_version": "~2.1.4",
       "_view_module_version": "~2.1.4",
       "children": [
        "IPY_MODEL_b997ce67536e4bddac5be391e62e8204",
        "IPY_MODEL_589015694aba439a909bc5a786ba5e6b"
       ],
       "layout": "IPY_MODEL_502219e2f2f34e14a40eed0ea5bd79a9"
      }
     },
     "eace8ff5081c4de780b2f97eff993e01": {
      "model_module": "jupyter-js-widgets",
      "model_module_version": "~2.1.4",
      "model_name": "VBoxModel",
      "state": {
       "_model_module_version": "~2.1.4",
       "_view_module_version": "~2.1.4",
       "children": [
        "IPY_MODEL_bc7037ee88ad48e8b5796021ebece6aa",
        "IPY_MODEL_534db277335845a99642bc5620c0995a",
        "IPY_MODEL_ab32fc214b704baa953ae7a6eafca96e"
       ],
       "layout": "IPY_MODEL_714d9bd5445b4d73ad0061ef926e3c56"
      }
     },
     "eb85efc3b8a14ef094f33d69aac925ee": {
      "model_module": "jupyter-js-widgets",
      "model_module_version": "~2.1.4",
      "model_name": "LayoutModel",
      "state": {
       "_model_module_version": "~2.1.4",
       "_view_module_version": "~2.1.4"
      }
     },
     "ebe6b3dc05304a60ad2c3cc5afbc273a": {
      "model_module": "jupyter-js-widgets",
      "model_module_version": "~2.1.4",
      "model_name": "VBoxModel",
      "state": {
       "_model_module_version": "~2.1.4",
       "_view_module_version": "~2.1.4",
       "children": [
        "IPY_MODEL_0a5676a4a3be46a685dd7362ff96dc07",
        "IPY_MODEL_e21166257a014513a4ee5c28d41e8d52"
       ],
       "layout": "IPY_MODEL_09225a0e137645119eef7c643cd70d74"
      }
     },
     "ec5910f59dc448db85d33b40ce907f95": {
      "model_module": "jupyter-js-widgets",
      "model_module_version": "~2.1.4",
      "model_name": "LayoutModel",
      "state": {
       "_model_module_version": "~2.1.4",
       "_view_module_version": "~2.1.4",
       "height": "248px",
       "padding": "0px 0px 0px 0px",
       "width": "10px"
      }
     },
     "ec5ea82ee5064cd5a5b5db057bf5d911": {
      "model_module": "jupyter-js-widgets",
      "model_module_version": "~2.1.4",
      "model_name": "SelectModel",
      "state": {
       "_model_module_version": "~2.1.4",
       "_options_labels": [
        "Test",
        "Train"
       ],
       "_view_module_version": "~2.1.4",
       "description": "Dataset:",
       "layout": "IPY_MODEL_51b175444e234e65981509908e097005",
       "value": "Train"
      }
     },
     "ed22584cfa834b39837f1d81bc3d40af": {
      "model_module": "jupyter-js-widgets",
      "model_module_version": "~2.1.4",
      "model_name": "LayoutModel",
      "state": {
       "_model_module_version": "~2.1.4",
       "_view_module_version": "~2.1.4"
      }
     },
     "ed43c7648410449e8fce71106043c612": {
      "model_module": "jupyter-js-widgets",
      "model_module_version": "~2.1.4",
      "model_name": "ButtonStyleModel",
      "state": {
       "_model_module_version": "~2.1.4",
       "_view_module_version": "~2.1.4"
      }
     },
     "ed788bd3355e4913abee33b4d8cc6f61": {
      "model_module": "jupyter-js-widgets",
      "model_module_version": "~2.1.4",
      "model_name": "LayoutModel",
      "state": {
       "_model_module_version": "~2.1.4",
       "_view_module_version": "~2.1.4",
       "width": "100%"
      }
     },
     "ee05c1e97dbb43a797623aa7a65d7ad1": {
      "model_module": "jupyter-js-widgets",
      "model_module_version": "~2.1.4",
      "model_name": "LayoutModel",
      "state": {
       "_model_module_version": "~2.1.4",
       "_view_module_version": "~2.1.4"
      }
     },
     "ee393bc5018944169c204e816b708269": {
      "model_module": "jupyter-js-widgets",
      "model_module_version": "~2.1.4",
      "model_name": "LayoutModel",
      "state": {
       "_model_module_version": "~2.1.4",
       "_view_module_version": "~2.1.4",
       "width": "100%"
      }
     },
     "ee9ae3dc8d2c4823892f58d25a202bb6": {
      "model_module": "jupyter-js-widgets",
      "model_module_version": "~2.1.4",
      "model_name": "VBoxModel",
      "state": {
       "_model_module_version": "~2.1.4",
       "_view_module_version": "~2.1.4",
       "children": [
        "IPY_MODEL_8a51225578dc4ae588af7f3d363cf766"
       ],
       "layout": "IPY_MODEL_56193feb2d24422483ca653fda29666f"
      }
     },
     "ef4b517943004261b845f96860796220": {
      "model_module": "jupyter-js-widgets",
      "model_module_version": "~2.1.4",
      "model_name": "LayoutModel",
      "state": {
       "_model_module_version": "~2.1.4",
       "_view_module_version": "~2.1.4"
      }
     },
     "ef50b57794094a05906fc777cf218ec3": {
      "model_module": "jupyter-js-widgets",
      "model_module_version": "~2.1.4",
      "model_name": "ButtonModel",
      "state": {
       "_model_module_version": "~2.1.4",
       "_view_module_version": "~2.1.4",
       "icon": "fast-backward",
       "layout": "IPY_MODEL_3292adebdaae4f0d819576af50d70585",
       "style": "IPY_MODEL_2d034e8492a04192ad080e33c62362e8"
      }
     },
     "efd015f3c4eb42259e404be53d57c23a": {
      "model_module": "jupyter-js-widgets",
      "model_module_version": "~2.1.4",
      "model_name": "VBoxModel",
      "state": {
       "_model_module_version": "~2.1.4",
       "_view_module_version": "~2.1.4",
       "children": [
        "IPY_MODEL_61377a66419040cfba1187ae4e51fb3d",
        "IPY_MODEL_cc9f53c066c34052974fa9cd05cb74b8"
       ],
       "layout": "IPY_MODEL_634d999decb14e5bb4d54ebf15d03817"
      }
     },
     "efd5e8e2c3614d47a0e3cdedec2c754e": {
      "model_module": "jupyter-js-widgets",
      "model_module_version": "~2.1.4",
      "model_name": "OutputModel",
      "state": {
       "_dom_classes": [],
       "_model_module": "jupyter-js-widgets",
       "_model_module_version": "~2.1.4",
       "_view_module": "jupyter-js-widgets",
       "_view_module_version": "~2.1.4",
       "layout": "IPY_MODEL_66421db7a47b4eb88dae8b5bceca62ae",
       "msg_throttle": 1
      }
     },
     "efeb4ea76c0e40c497981d2d97516403": {
      "model_module": "jupyter-js-widgets",
      "model_module_version": "~2.1.4",
      "model_name": "HBoxModel",
      "state": {
       "_model_module_version": "~2.1.4",
       "_view_module_version": "~2.1.4",
       "children": [
        "IPY_MODEL_59a4e8746fd54aed9d03c9e017ad7a74",
        "IPY_MODEL_01a84f1d33744269b1cef4352aa14835"
       ],
       "layout": "IPY_MODEL_0c8c6bdd966c44eda14f8a257012fa5b"
      }
     },
     "f08a926282784e9ba6e06d2cce232b6c": {
      "model_module": "jupyter-js-widgets",
      "model_module_version": "~2.1.4",
      "model_name": "ButtonModel",
      "state": {
       "_model_module_version": "~2.1.4",
       "_view_module_version": "~2.1.4",
       "icon": "fast-backward",
       "layout": "IPY_MODEL_79493b878a724c55a2d6c5b83092f21d",
       "style": "IPY_MODEL_312c4d9f0cd64904bbd1c4a1dc1d2d1f"
      }
     },
     "f1dae2bd9fea4e25a7c94b40eb4f072d": {
      "model_module": "jupyter-js-widgets",
      "model_module_version": "~2.1.4",
      "model_name": "LayoutModel",
      "state": {
       "_model_module_version": "~2.1.4",
       "_view_module_version": "~2.1.4"
      }
     },
     "f29f33adf7f742e5acdea0377a44c3ca": {
      "model_module": "jupyter-js-widgets",
      "model_module_version": "~2.1.4",
      "model_name": "VBoxModel",
      "state": {
       "_model_module_version": "~2.1.4",
       "_view_module_version": "~2.1.4",
       "children": [
        "IPY_MODEL_a89a77c0e6154ed6806c3d9260c7f962",
        "IPY_MODEL_5e1ac451344148d69ee8f975d0c75a8d",
        "IPY_MODEL_95e6e805c28947e8b7bb1260cbe350a9"
       ],
       "layout": "IPY_MODEL_ea47cee4b0fd4bf3ab7c9e29f45c9c9b"
      }
     },
     "f2ac26b3e518483bb0f045d59ef07c04": {
      "model_module": "jupyter-js-widgets",
      "model_module_version": "~2.1.4",
      "model_name": "ButtonModel",
      "state": {
       "_model_module_version": "~2.1.4",
       "_view_module_version": "~2.1.4",
       "description": "Clear",
       "layout": "IPY_MODEL_141b9adaf320456b9b12e982003c255a",
       "style": "IPY_MODEL_f7d19231a53c4e4ab8b8536db89ed0e1"
      }
     },
     "f2e86c3cac8d4f3182e93a3304bb061d": {
      "model_module": "jupyter-js-widgets",
      "model_module_version": "~2.1.4",
      "model_name": "LayoutModel",
      "state": {
       "_model_module_version": "~2.1.4",
       "_view_module_version": "~2.1.4",
       "width": "100%"
      }
     },
     "f3693907f54a443eb92baccc99cc18d3": {
      "model_module": "jupyter-js-widgets",
      "model_module_version": "~2.1.4",
      "model_name": "ButtonStyleModel",
      "state": {
       "_model_module_version": "~2.1.4",
       "_view_module_version": "~2.1.4"
      }
     },
     "f3bc674c05434e4e983a0f05a85151eb": {
      "model_module": "jupyter-js-widgets",
      "model_module_version": "~2.1.4",
      "model_name": "TabModel",
      "state": {
       "_model_module_version": "~2.1.4",
       "_titles": {
        "0": "Network",
        "1": "Graphs",
        "2": "Analysis",
        "3": "Camera",
        "4": "Help"
       },
       "_view_module_version": "~2.1.4",
       "children": [
        "IPY_MODEL_1684596b8d264053a7f357b0f0b3661d",
        "IPY_MODEL_6d7463063324478486a0e3081eccd9c5",
        "IPY_MODEL_5d45fe0456b84e60a7a549d583cb4d31",
        "IPY_MODEL_ee9ae3dc8d2c4823892f58d25a202bb6",
        "IPY_MODEL_2451a099552e465a8bf821547e55b39c"
       ],
       "layout": "IPY_MODEL_4949aabd002e4ec2bd62f0b3ed4ab87e"
      }
     },
     "f44f56b1635f4ecab92bdcd5b5092e16": {
      "model_module": "jupyter-js-widgets",
      "model_module_version": "~2.1.4",
      "model_name": "LayoutModel",
      "state": {
       "_model_module_version": "~2.1.4",
       "_view_module_version": "~2.1.4",
       "height": "550px",
       "width": "100%"
      }
     },
     "f49513d3fdbe4a2fac67803bda17c84c": {
      "model_module": "jupyter-js-widgets",
      "model_module_version": "~2.1.4",
      "model_name": "LayoutModel",
      "state": {
       "_model_module_version": "~2.1.4",
       "_view_module_version": "~2.1.4"
      }
     },
     "f59b5f38a9864688b787268d0b67c650": {
      "model_module": "jupyter-js-widgets",
      "model_module_version": "~2.1.4",
      "model_name": "LayoutModel",
      "state": {
       "_model_module_version": "~2.1.4",
       "_view_module_version": "~2.1.4",
       "height": "550px",
       "justify_content": "center",
       "overflow_x": "auto",
       "width": "100%"
      }
     },
     "f5b9ef59840642ba84cf7f1879d513e8": {
      "model_module": "jupyter-js-widgets",
      "model_module_version": "~2.1.4",
      "model_name": "ButtonStyleModel",
      "state": {
       "_model_module_version": "~2.1.4",
       "_view_module_version": "~2.1.4"
      }
     },
     "f63a44b27a8741aaa9c90816298ec201": {
      "model_module": "jupyter-js-widgets",
      "model_module_version": "~2.1.4",
      "model_name": "VBoxModel",
      "state": {
       "_model_module_version": "~2.1.4",
       "_view_module_version": "~2.1.4",
       "children": [
        "IPY_MODEL_e334c1b31e3d48f4bce3d87944b75a5c",
        "IPY_MODEL_9c415ed805804b15b13048d3d43b663f"
       ],
       "layout": "IPY_MODEL_2c78cf2d4b20428896a4759ac80d54d4"
      }
     },
     "f729d5cb14b6440a8851005e6023e35f": {
      "model_module": "jupyter-js-widgets",
      "model_module_version": "~2.1.4",
      "model_name": "LayoutModel",
      "state": {
       "_model_module_version": "~2.1.4",
       "_view_module_version": "~2.1.4"
      }
     },
     "f78c055a5c784afa91f25a1c2069857d": {
      "model_module": "jupyter-js-widgets",
      "model_module_version": "~2.1.4",
      "model_name": "ButtonStyleModel",
      "state": {
       "_model_module_version": "~2.1.4",
       "_view_module_version": "~2.1.4"
      }
     },
     "f7a5ddd4e5764d7bac800d80f018cb52": {
      "model_module": "jupyter-js-widgets",
      "model_module_version": "~2.1.4",
      "model_name": "CheckboxModel",
      "state": {
       "_model_module_version": "~2.1.4",
       "_view_module_version": "~2.1.4",
       "description": "Update GUI",
       "disabled": false,
       "layout": "IPY_MODEL_808d5264e24a480dadccb8c67688b1c1",
       "value": true
      }
     },
     "f7d19231a53c4e4ab8b8536db89ed0e1": {
      "model_module": "jupyter-js-widgets",
      "model_module_version": "~2.1.4",
      "model_name": "ButtonStyleModel",
      "state": {
       "_model_module_version": "~2.1.4",
       "_view_module_version": "~2.1.4"
      }
     },
     "f851645dcaf74c9dba874af79cb111e9": {
      "model_module": "jupyter-js-widgets",
      "model_module_version": "~2.1.4",
      "model_name": "LayoutModel",
      "state": {
       "_model_module_version": "~2.1.4",
       "_view_module_version": "~2.1.4"
      }
     },
     "f8779ad0d5a6441d890185bb7744ff84": {
      "model_module": "jupyter-js-widgets",
      "model_module_version": "~2.1.4",
      "model_name": "LayoutModel",
      "state": {
       "_model_module_version": "~2.1.4",
       "_view_module_version": "~2.1.4"
      }
     },
     "f8fbfece8eb4491cbf3f9b322e40fdc2": {
      "model_module": "jupyter-js-widgets",
      "model_module_version": "~2.1.4",
      "model_name": "FloatSliderModel",
      "state": {
       "_model_module_version": "~2.1.4",
       "_view_module_version": "~2.1.4",
       "layout": "IPY_MODEL_0348d00d91354c2f9df76bc49131cafb",
       "readout": false,
       "step": 0.1,
       "value": 87.5
      }
     },
     "f93ef353f73c4c49b445665a7f30cff6": {
      "model_module": "jupyter-js-widgets",
      "model_module_version": "~2.1.4",
      "model_name": "ButtonStyleModel",
      "state": {
       "_model_module_version": "~2.1.4",
       "_view_module_version": "~2.1.4"
      }
     },
     "f9634160bcf74901bdb9f10a0391253e": {
      "model_module": "jupyter-js-widgets",
      "model_module_version": "~2.1.4",
      "model_name": "LayoutModel",
      "state": {
       "_model_module_version": "~2.1.4",
       "_view_module_version": "~2.1.4"
      }
     },
     "f9ea59cba00f4f86829a1321371b1be3": {
      "model_module": "jupyter-js-widgets",
      "model_module_version": "~2.1.4",
      "model_name": "VBoxModel",
      "state": {
       "_model_module_version": "~2.1.4",
       "_view_module_version": "~2.1.4",
       "layout": "IPY_MODEL_39cd80f16f2743d2aa291ecf4c74dc3f"
      }
     },
     "fa690b9f49e941b9998954803c016c76": {
      "model_module": "jupyter-js-widgets",
      "model_module_version": "~2.1.4",
      "model_name": "HBoxModel",
      "state": {
       "_model_module_version": "~2.1.4",
       "_view_module_version": "~2.1.4",
       "children": [
        "IPY_MODEL_e0f0528fc8944efc84faf229f1a262e4",
        "IPY_MODEL_fc52295675814098bdfe6f4619427fff",
        "IPY_MODEL_1165948ca0b9490088c74396d218fc8e",
        "IPY_MODEL_c851d91acff64925a5bef91e647f8e1c",
        "IPY_MODEL_68ff441d022e4595bf8dde7bb5aaa0c1"
       ],
       "layout": "IPY_MODEL_773bb08dd51540b585f019e37894db1c"
      }
     },
     "fac338f95db74603af7a8d16a207afa7": {
      "model_module": "jupyter-js-widgets",
      "model_module_version": "~2.1.4",
      "model_name": "ButtonModel",
      "state": {
       "_model_module_version": "~2.1.4",
       "_view_module_version": "~2.1.4",
       "description": "Clear",
       "layout": "IPY_MODEL_ce966bd2e5644af18c563aa06711067d",
       "style": "IPY_MODEL_cc78d7bd3fe147738413c202d126eb82"
      }
     },
     "fb6b5d2aa3ec4b5782e6aa6b18875daa": {
      "model_module": "jupyter-js-widgets",
      "model_module_version": "~2.1.4",
      "model_name": "LayoutModel",
      "state": {
       "_model_module_version": "~2.1.4",
       "_view_module_version": "~2.1.4",
       "width": "100%"
      }
     },
     "fc52295675814098bdfe6f4619427fff": {
      "model_module": "jupyter-js-widgets",
      "model_module_version": "~2.1.4",
      "model_name": "ButtonModel",
      "state": {
       "_model_module_version": "~2.1.4",
       "_view_module_version": "~2.1.4",
       "icon": "backward",
       "layout": "IPY_MODEL_89a7197a2de64ac386e8ec176e07d716",
       "style": "IPY_MODEL_388dc913ba514387a5b21a79832340f5"
      }
     },
     "fcdbe330ae36468ba68c029be7b96e2a": {
      "model_module": "jupyter-js-widgets",
      "model_module_version": "~2.1.4",
      "model_name": "LayoutModel",
      "state": {
       "_model_module_version": "~2.1.4",
       "_view_module_version": "~2.1.4"
      }
     },
     "fdbdfef34767470bac9309c00730c0a2": {
      "model_module": "jupyter-js-widgets",
      "model_module_version": "~2.1.4",
      "model_name": "LayoutModel",
      "state": {
       "_model_module_version": "~2.1.4",
       "_view_module_version": "~2.1.4"
      }
     },
     "fe15ad94bcb0436e8b61c172c5a47675": {
      "model_module": "jupyter-js-widgets",
      "model_module_version": "~2.1.4",
      "model_name": "LayoutModel",
      "state": {
       "_model_module_version": "~2.1.4",
       "_view_module_version": "~2.1.4"
      }
     },
     "fe15fdcb082e4d53bb6dd62f02b40712": {
      "model_module": "jupyter-js-widgets",
      "model_module_version": "~2.1.4",
      "model_name": "CheckboxModel",
      "state": {
       "_model_module_version": "~2.1.4",
       "_view_module_version": "~2.1.4",
       "description": "Update GUI",
       "disabled": false,
       "layout": "IPY_MODEL_d83cab63840b4f94a615a3396f3fd2be",
       "value": true
      }
     },
     "fe38063b52184a62bf557dc8ae2e6b78": {
      "model_module": "jupyter-js-widgets",
      "model_module_version": "~2.1.4",
      "model_name": "ButtonModel",
      "state": {
       "_model_module_version": "~2.1.4",
       "_view_module_version": "~2.1.4",
       "description": "Turn on webcamera",
       "layout": "IPY_MODEL_a969b49910ee4027a5ad8d019aeb4f43",
       "style": "IPY_MODEL_ae8a39dcc3c447e8a56f9319b12f26bf"
      }
     },
     "fe9211eb79f14e119debe68ca36f6515": {
      "model_module": "jupyter-js-widgets",
      "model_module_version": "~2.1.4",
      "model_name": "ButtonStyleModel",
      "state": {
       "_model_module_version": "~2.1.4",
       "_view_module_version": "~2.1.4"
      }
     },
     "feabf83d734a4143bd4f1aee69e48b98": {
      "model_module": "jupyter-js-widgets",
      "model_module_version": "~2.1.4",
      "model_name": "LayoutModel",
      "state": {
       "_model_module_version": "~2.1.4",
       "_view_module_version": "~2.1.4"
      }
     },
     "fee8d29b116941e9858463838c21861e": {
      "model_module": "jupyter-js-widgets",
      "model_module_version": "~2.1.4",
      "model_name": "FloatSliderModel",
      "state": {
       "_model_module_version": "~2.1.4",
       "_view_module_version": "~2.1.4",
       "layout": "IPY_MODEL_10ae8792bc6a4e9ea001f6e500cdeb3f",
       "readout": false,
       "step": 0.1,
       "value": 85.43957202176092
      }
     },
     "ff06691bd8a842b0a397b7c5487edeff": {
      "model_module": "jupyter-js-widgets",
      "model_module_version": "~2.1.4",
      "model_name": "HBoxModel",
      "state": {
       "_model_module_version": "~2.1.4",
       "_view_module_version": "~2.1.4",
       "children": [
        "IPY_MODEL_7bf6827bd62a41ff9f2b6738c2a3e5b0",
        "IPY_MODEL_328b5cd67d0a415c8a00f89b826dae82"
       ],
       "layout": "IPY_MODEL_1be4a3f041ce43c0b7aa989fc224c66e"
      }
     },
     "ffb03ed6e0554286924653ae544850fb": {
      "model_module": "jupyter-js-widgets",
      "model_module_version": "~2.1.4",
      "model_name": "LayoutModel",
      "state": {
       "_model_module_version": "~2.1.4",
       "_view_module_version": "~2.1.4",
       "height": "248px",
       "padding": "0px 0px 0px 0px",
       "width": "10px"
      }
     }
    },
    "version_major": 1,
    "version_minor": 0
   }
  }
 },
 "nbformat": 4,
 "nbformat_minor": 2
}
