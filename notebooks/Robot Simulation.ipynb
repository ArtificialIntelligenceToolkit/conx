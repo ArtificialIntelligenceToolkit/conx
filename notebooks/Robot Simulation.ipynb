{
 "cells": [
  {
   "cell_type": "markdown",
   "metadata": {},
   "source": [
    "# Robot Simulation"
   ]
  },
  {
   "cell_type": "code",
   "execution_count": 1,
   "metadata": {},
   "outputs": [],
   "source": [
    "from jyro.simulator import (Robot, Pioneer, Pioneer16Sonars, \n",
    "                            PioneerFrontLightSensors, Camera,\n",
    "                            VSimulator)\n",
    "import random\n",
    "import numpy as np"
   ]
  },
  {
   "cell_type": "code",
   "execution_count": 2,
   "metadata": {},
   "outputs": [],
   "source": [
    "robot = Pioneer(\"Pioneer\", 3.5, 2, 0)"
   ]
  },
  {
   "cell_type": "code",
   "execution_count": 3,
   "metadata": {},
   "outputs": [
    {
     "data": {
      "image/svg+xml": [
       "<svg baseProfile=\"full\" height=\"240\" version=\"1.1\" width=\"240\" xmlns=\"http://www.w3.org/2000/svg\" xmlns:ev=\"http://www.w3.org/2001/xml-events\" xmlns:xlink=\"http://www.w3.org/1999/xlink\"><defs /><line fill=\"#800080\" stroke=\"#d3d3d3\" stroke-width=\"1\" x1=\"78.0\" x2=\"-1842.0\" y1=\"96.0\" y2=\"95.9999999999999\" /><line fill=\"#800080\" stroke=\"#d3d3d3\" stroke-width=\"1\" x1=\"84.0\" x2=\"-1656.110951110368\" y1=\"79.19999999999999\" y2=\"-732.227062542143\" /><line fill=\"#800080\" stroke=\"#d3d3d3\" stroke-width=\"1\" x1=\"93.60000000000001\" x2=\"-1140.5522105981554\" y1=\"72.00000000000001\" y2=\"-1398.805330788438\" /><line fill=\"#800080\" stroke=\"#d3d3d3\" stroke-width=\"1\" x1=\"108.0\" x2=\"-388.9325665968398\" y1=\"66.0\" y2=\"-1788.5775864750112\" /><line fill=\"#800080\" stroke=\"#d3d3d3\" stroke-width=\"1\" x1=\"132.0\" x2=\"628.9325665968398\" y1=\"66.0\" y2=\"-1788.5775864750112\" /><line fill=\"#800080\" stroke=\"#d3d3d3\" stroke-width=\"1\" x1=\"146.4\" x2=\"1380.5522105981554\" y1=\"72.00000000000001\" y2=\"-1398.805330788438\" /><line fill=\"#800080\" stroke=\"#d3d3d3\" stroke-width=\"1\" x1=\"156.0\" x2=\"1896.110951110368\" y1=\"79.19999999999999\" y2=\"-732.227062542143\" /><line fill=\"#800080\" stroke=\"#d3d3d3\" stroke-width=\"1\" x1=\"162.0\" x2=\"2082.0\" y1=\"96.0\" y2=\"95.9999999999999\" /><line fill=\"#800080\" stroke=\"#d3d3d3\" stroke-width=\"1\" x1=\"162.0\" x2=\"2082.0\" y1=\"144.00000000000003\" y2=\"143.9999999999999\" /><line fill=\"#800080\" stroke=\"#d3d3d3\" stroke-width=\"1\" x1=\"156.0\" x2=\"1896.1109511103682\" y1=\"160.8\" y2=\"972.2270625421423\" /><line fill=\"#800080\" stroke=\"#d3d3d3\" stroke-width=\"1\" x1=\"146.4\" x2=\"1380.5522105981554\" y1=\"168.0\" y2=\"1638.805330788438\" /><line fill=\"#800080\" stroke=\"#d3d3d3\" stroke-width=\"1\" x1=\"132.0\" x2=\"628.9325665968399\" y1=\"174.0\" y2=\"2028.5775864750112\" /><line fill=\"#800080\" stroke=\"#d3d3d3\" stroke-width=\"1\" x1=\"107.99999999999999\" x2=\"-388.9325665968404\" y1=\"174.0\" y2=\"2028.5775864750108\" /><line fill=\"#800080\" stroke=\"#d3d3d3\" stroke-width=\"1\" x1=\"93.60000000000001\" x2=\"-1140.5522105981559\" y1=\"168.0\" y2=\"1638.8053307884377\" /><line fill=\"#800080\" stroke=\"#d3d3d3\" stroke-width=\"1\" x1=\"84.0\" x2=\"-1656.1109511103682\" y1=\"160.8\" y2=\"972.2270625421426\" /><line fill=\"#800080\" stroke=\"#d3d3d3\" stroke-width=\"1\" x1=\"78.0\" x2=\"-1842.0\" y1=\"144.0\" y2=\"143.99999999999986\" /><polygon fill=\"red\" points=\"100.8,66.0 78.0,84.0 78.0,156.0 100.8,174.0 139.2,174.0 162.0,156.0 162.0,84.0 139.2,66.0\" stroke=\"red\" stroke-width=\"1\" /><polygon points=\"-12.0,-12.0 0,0 12.0,-12.0 0,12.0\" stroke=\"black\" stroke-width=\"1\" transform=\"translate(120.0,120.0) rotate(180.0)\" /><polygon fill=\"black\" points=\"134.4,86.39999999999999 134.4,105.6 105.6,105.6 105.6,86.39999999999999\" stroke=\"black\" stroke-width=\"1\" /><circle cx=\"78.0\" cy=\"66.0\" fill=\"yellow\" r=\"6.0\" stroke=\"orange\" stroke-width=\"1\" /><circle cx=\"162.0\" cy=\"66.0\" fill=\"yellow\" r=\"6.0\" stroke=\"orange\" stroke-width=\"1\" /></svg>"
      ],
      "text/plain": [
       "<jyro.simulator.robot.Pioneer at 0x7f56fd83dd68>"
      ]
     },
     "execution_count": 3,
     "metadata": {},
     "output_type": "execute_result"
    }
   ],
   "source": [
    "robot.addDevice(Pioneer16Sonars())\n",
    "robot.addDevice(Camera())\n",
    "light_sensors = PioneerFrontLightSensors(3.0)\n",
    "light_sensors.lightMode = 'ambient'\n",
    "robot.addDevice(light_sensors)"
   ]
  },
  {
   "cell_type": "code",
   "execution_count": 4,
   "metadata": {},
   "outputs": [],
   "source": [
    "def worldf(physics):\n",
    "    physics.addBox(0, 0, 4, 4, fill=\"backgroundgreen\", wallcolor=\"gray\")\n",
    "    physics.addLight(2, 0.75, 1.0) # increased brightness for new linear version of lights"
   ]
  },
  {
   "cell_type": "code",
   "execution_count": 5,
   "metadata": {},
   "outputs": [
    {
     "data": {
      "application/vnd.jupyter.widget-view+json": {
       "model_id": "aff61c943a614208ad024b6cfc75ecb2",
       "version_major": 2,
       "version_minor": 0
      },
      "text/html": [
       "<p>Failed to display Jupyter Widget of type <code>VBox</code>.</p>\n",
       "<p>\n",
       "  If you're reading this message in Jupyter Notebook or JupyterLab, it may mean\n",
       "  that the widgets JavaScript is still loading. If this message persists, it\n",
       "  likely means that the widgets JavaScript library is either not installed or\n",
       "  not enabled. See the <a href=\"https://ipywidgets.readthedocs.io/en/stable/user_install.html\">Jupyter\n",
       "  Widgets Documentation</a> for setup instructions.\n",
       "</p>\n",
       "<p>\n",
       "  If you're reading this message in another notebook frontend (for example, a static\n",
       "  rendering on GitHub or <a href=\"https://nbviewer.jupyter.org/\">NBViewer</a>),\n",
       "  it may mean that your frontend doesn't currently support widgets.\n",
       "</p>\n"
      ],
      "text/plain": [
       "VBox(children=(VBox(children=(HBox(children=(Checkbox(value=True, description='Update GUI'), Checkbox(value=False, description='Trace Path'), Text(value='0.0 seconds', description='Time:'))), HBox(children=(VBox(children=(HBox(children=(FloatSlider(value=0.0, layout=Layout(height='248px', padding='0px 0px 0px 0px', width='10px'), orientation='vertical', readout=False), HTML(value='<svg baseProfile=\"full\" height=\"240\" version=\"1.1\" width=\"240\" xmlns=\"http://www.w3.org/2000/svg\" xmlns:ev=\"http://www.w3.org/2001/xml-events\" xmlns:xlink=\"http://www.w3.org/1999/xlink\"><defs /><rect fill=\"#eef3dd\" height=\"240.0\" stroke=\"#bebebe\" stroke-width=\"1\" width=\"240.0\" x=\"0.0\" y=\"0.0\" /><circle cx=\"120.0\" cy=\"195.0\" fill=\"#ffff00\" r=\"15.0\" stroke=\"#ffff00\" stroke-width=\"1\" /><line fill=\"#800080\" stroke=\"#add8e6\" stroke-width=\"1\" x1=\"199.5\" x2=\"0.0\" y1=\"114.0\" y2=\"114.0\" /><line fill=\"#800080\" stroke=\"#add8e6\" stroke-width=\"1\" x1=\"201.0\" x2=\"0.0\" y1=\"109.80000000000001\" y2=\"16.07215199999999\" /><line fill=\"#800080\" stroke=\"#add8e6\" stroke-width=\"1\" x1=\"203.4\" x2=\"112.77724019461742\" y1=\"107.99999999999999\" y2=\"0.0\" /><line fill=\"#800080\" stroke=\"#add8e6\" stroke-width=\"1\" x1=\"207.0\" x2=\"178.4634099424212\" y1=\"106.5\" y2=\"0.0\" /><line fill=\"#800080\" stroke=\"#add8e6\" stroke-width=\"1\" x1=\"213.0\" x2=\"240.0\" y1=\"106.5\" y2=\"5.734632000000062\" /><line fill=\"#800080\" stroke=\"#add8e6\" stroke-width=\"1\" x1=\"216.6\" x2=\"240.0\" y1=\"107.99999999999999\" y2=\"80.11296600000001\" /><line fill=\"#800080\" stroke=\"#add8e6\" stroke-width=\"1\" x1=\"219.0\" x2=\"240.0\" y1=\"109.80000000000001\" y2=\"100.007538\" /><line fill=\"#800080\" stroke=\"#add8e6\" stroke-width=\"1\" x1=\"220.5\" x2=\"240.0\" y1=\"114.0\" y2=\"114.0\" /><line fill=\"#800080\" stroke=\"#add8e6\" stroke-width=\"1\" x1=\"220.5\" x2=\"240.0\" y1=\"126.0\" y2=\"126.0\" /><line fill=\"#800080\" stroke=\"#add8e6\" stroke-width=\"1\" x1=\"219.0\" x2=\"240.0\" y1=\"130.2\" y2=\"139.992462\" /><line fill=\"#800080\" stroke=\"#add8e6\" stroke-width=\"1\" x1=\"216.6\" x2=\"240.0\" y1=\"132.0\" y2=\"159.88703399999997\" /><line fill=\"#800080\" stroke=\"#add8e6\" stroke-width=\"1\" x1=\"213.0\" x2=\"240.0\" y1=\"133.5\" y2=\"234.26536799999994\" /><line fill=\"#800080\" stroke=\"#add8e6\" stroke-width=\"1\" x1=\"207.0\" x2=\"178.4634099424212\" y1=\"133.5\" y2=\"240.0\" /><line fill=\"#800080\" stroke=\"#add8e6\" stroke-width=\"1\" x1=\"203.4\" x2=\"112.7772401946174\" y1=\"132.0\" y2=\"240.0\" /><line fill=\"#800080\" stroke=\"#add8e6\" stroke-width=\"1\" x1=\"201.0\" x2=\"0.0\" y1=\"130.2\" y2=\"223.927848\" /><line fill=\"#800080\" stroke=\"#add8e6\" stroke-width=\"1\" x1=\"199.5\" x2=\"0.0\" y1=\"126.0\" y2=\"126.0\" /><line fill=\"#800080\" stroke=\"#a020f0\" stroke-width=\"1\" x1=\"210.0\" x2=\"2.1539193796210117\" y1=\"120.0\" y2=\"0.0\" /><line fill=\"#800080\" stroke=\"#a020f0\" stroke-width=\"1\" x1=\"210.0\" x2=\"240.0\" y1=\"120.0\" y2=\"102.67948799999999\" /><line fill=\"#800080\" stroke=\"#ffa500\" stroke-width=\"1\" x1=\"120.0\" x2=\"199.5\" y1=\"195.0\" y2=\"106.5\" /><line fill=\"#800080\" stroke=\"#ffa500\" stroke-width=\"1\" x1=\"120.0\" x2=\"220.5\" y1=\"195.0\" y2=\"106.5\" /><polygon fill=\"red\" points=\"205.2,106.5 199.5,111.0 199.5,129.0 205.2,133.5 214.8,133.5 220.5,129.0 220.5,111.0 214.8,106.5\" stroke=\"red\" stroke-width=\"1\" /><polygon points=\"-3.0,-3.0 0,0 3.0,-3.0 0,3.0\" stroke=\"black\" stroke-width=\"1\" transform=\"translate(210.0,120.0) rotate(180.0)\" /><polygon fill=\"black\" points=\"213.6,111.6 213.6,116.39999999999999 206.4,116.39999999999999 206.4,111.6\" stroke=\"black\" stroke-width=\"1\" /><circle cx=\"199.5\" cy=\"106.5\" fill=\"yellow\" r=\"1.5\" stroke=\"orange\" stroke-width=\"1\" /><circle cx=\"220.5\" cy=\"106.5\" fill=\"yellow\" r=\"1.5\" stroke=\"orange\" stroke-width=\"1\" /></svg>'))), FloatSlider(value=0.0, layout=Layout(height='30px', padding='0px 0px 0px 10px', width='260px'), readout=False))), VBox(children=(Image(value=b'\\x89PNG\\r\\n\\x1a\\n\\x00\\x00\\x00\\rIHDR\\x00\\x00\\x00<\\x00\\x00\\x00(\\x08\\x02\\x00\\x00\\x00-\\xd9\\x0e\\xa8\\x00\\x00\\x00\\xf6IDATx\\x9c\\xed\\xd6\\xaf\\x0b\\xc2@\\x14\\xc0\\xf1\\xf7\\xee\\xdd\\xfev\\xcb\\xa2\\xc5\\x81`\\x11\\x86\\xa0e0\\x8bAA\\x83A\\x8bA\\x8b\\xc1b\\x12\\x8b\\xc94\\xc3\\xa9\\xccMn:\\x8f7\\x0f\\xde\\'\\x8c\\x85\\xfd\\xf8\\xf2\\x06\\xbb\\xc3\\xe1\\xee\\x08\\xbeQM\\x07\\xd4!\\xd1\\\\$\\x9a\\x8bDs\\x91h.^F\\xeb\\xa6\\x03\\xdeS\\xdb%\"\\x02\\x809\\x16N\\x9a\\x8c\\xbe\\xae\\xa7\\x88\\xa8\\x94\\xc2\\x12\\xfb\\x8d\\xdc\\xd1\\xa7Y\\x12\\x04\\x01\\x11)\\xa5\\x88\\xa8\\xdeC\\xaa\\xa3\\x0fi\\\\\\x1eC\\xfe\\xc4\\\\V9\\x1e\\x00\\xc8\\xb2\\xacvh\\xdeK\\xf4&\\x8e\\xcc\\x0c\\x9e\\xcc\\xe7\\xfb\\xfd5n\\xe9E\\x14j\\xad\\xb5\\xd6D\\xe4d\\x0c\\x0c\\xfen\\x8a\\x9f\\x90h.\\x12\\xcdE\\xa2\\xb9\\xe0\\xf9\\xb2\\x07\\x80\\xb0\\xd5\\xa5\\x87\\xf2\\xe2\\xe2vE\\xcc/\\xe3\\x96\\xbd\\x87e\\xc3t\\x8f.\\xe8\\xb4\\x07\\xfeE[\\xf4{\\xa9\\x7f\\xd1N$\\xa3\\xb9\\x7f\\xd1\\x05\\x93\\xf1\\xca\\xbf\\xe8oy\\xf9\\xcb\\x93h.\\x12\\xcdE\\xa2\\xb9H4\\x17/\\xa3o\\xb3~8\\x87\\xea\\xaf#\\xce\\x00\\x00\\x00\\x00IEND\\xaeB`\\x82', width='240'), FloatSlider(value=0.0, layout=Layout(height='20px', padding='0px 0px 0px 0px', width='248px'), readout=False))))))), HBox(children=(Button(icon='step-forward', style=ButtonStyle()), Play(value=0, max=1000000), Button(description='Clear Output', style=ButtonStyle()))), Output()))"
      ]
     },
     "metadata": {},
     "output_type": "display_data"
    }
   ],
   "source": [
    "sim = VSimulator(robot, worldf)"
   ]
  },
  {
   "cell_type": "code",
   "execution_count": 6,
   "metadata": {},
   "outputs": [],
   "source": [
    "camera = robot.device[\"camera\"]"
   ]
  },
  {
   "cell_type": "code",
   "execution_count": 7,
   "metadata": {},
   "outputs": [
    {
     "data": {
      "image/png": "[encoded data removed]",
      "text/plain": [
       "<PIL.Image.Image image mode=RGB size=60x40 at 0x7F56FD7767B8>"
      ]
     },
     "execution_count": 7,
     "metadata": {},
     "output_type": "execute_result"
    }
   ],
   "source": [
    "image = camera.getImage()\n",
    "image"
   ]
  },
  {
   "cell_type": "code",
   "execution_count": 8,
   "metadata": {},
   "outputs": [
    {
     "data": {
      "text/plain": [
       "(60, 40)"
      ]
     },
     "execution_count": 8,
     "metadata": {},
     "output_type": "execute_result"
    }
   ],
   "source": [
    "image.size"
   ]
  },
  {
   "cell_type": "code",
   "execution_count": 9,
   "metadata": {},
   "outputs": [
    {
     "data": {
      "text/plain": [
       "(40, 60, 3)"
      ]
     },
     "execution_count": 9,
     "metadata": {},
     "output_type": "execute_result"
    }
   ],
   "source": [
    "data = camera.getData()\n",
    "data.shape"
   ]
  },
  {
   "cell_type": "code",
   "execution_count": 10,
   "metadata": {},
   "outputs": [],
   "source": [
    "robot.move(0.50, 0.35)"
   ]
  },
  {
   "cell_type": "code",
   "execution_count": 11,
   "metadata": {},
   "outputs": [],
   "source": [
    "sim.step()"
   ]
  },
  {
   "cell_type": "code",
   "execution_count": 12,
   "metadata": {},
   "outputs": [],
   "source": [
    "def random_action():\n",
    "    \"\"\"Generate a random action from a limited set of possible settings\"\"\"\n",
    "    possible = [-1.0, -0.5, 0.0, 0.5, 1.0]\n",
    "    return [random.choice(possible), random.choice(possible)]\n",
    "\n",
    "def get_senses(robot):\n",
    "    light = robot[\"light\"].getData()\n",
    "    sonar = [v/3.0 for v in robot[\"sonar\"].getData()]\n",
    "    camera = robot[\"camera\"].getData()\n",
    "    return [light, sonar, camera]"
   ]
  },
  {
   "cell_type": "code",
   "execution_count": 13,
   "metadata": {},
   "outputs": [
    {
     "data": {
      "text/plain": [
       "[2, 16, 40]"
      ]
     },
     "execution_count": 13,
     "metadata": {},
     "output_type": "execute_result"
    }
   ],
   "source": [
    "senses = get_senses(robot)\n",
    "list(map(len, senses))"
   ]
  },
  {
   "cell_type": "code",
   "execution_count": 14,
   "metadata": {},
   "outputs": [],
   "source": [
    "def brain(robot):\n",
    "    senses = get_senses(robot)\n",
    "    net.propagate(senses)\n",
    "    translate, rotate = random_action()\n",
    "    #self.move(translate, rotate)\n",
    "    robot.move(0.50, 0.35)"
   ]
  },
  {
   "cell_type": "code",
   "execution_count": 15,
   "metadata": {},
   "outputs": [],
   "source": [
    "robot.brain = brain"
   ]
  },
  {
   "cell_type": "code",
   "execution_count": 16,
   "metadata": {},
   "outputs": [
    {
     "name": "stderr",
     "output_type": "stream",
     "text": [
      "conx, version 3.2.0\n",
      "Using Theano backend.\n"
     ]
    }
   ],
   "source": [
    "from conx import Network, Layer, FlattenLayer, SGD, ImageLayer, Conv2DLayer\n",
    "import numpy as np"
   ]
  },
  {
   "cell_type": "code",
   "execution_count": 17,
   "metadata": {},
   "outputs": [],
   "source": [
    "net = Network(\"Robot Prediction Network\")\n",
    "net.add(Layer(\"light\", 2))\n",
    "net.add(Layer(\"sonar\", 16))\n",
    "net.add(ImageLayer(\"camera\", (40,60), 3))\n",
    "net.add(FlattenLayer(\"flatten\"))\n",
    "net.add(Conv2DLayer(\"conv\", 16, (3,3)))\n",
    "net.add(Layer(\"hidden\", 50, activation=\"relu\"))\n",
    "net.add(Layer(\"output1\", 2, activation=\"sigmoid\"))\n",
    "net.add(Layer(\"hidden2\", 5, activation=\"sigmoid\"))\n",
    "net.add(Layer(\"hidden3\", 10, activation=\"sigmoid\", dropout=0.25))\n",
    "net.add(Layer(\"hidden4\", 10, activation=\"sigmoid\"))\n",
    "net.add(Layer(\"output2\", 5, activation=\"sigmoid\"))"
   ]
  },
  {
   "cell_type": "code",
   "execution_count": 18,
   "metadata": {},
   "outputs": [],
   "source": [
    "net.connect(\"sonar\", \"hidden2\")\n",
    "net.connect(\"light\", \"hidden\")\n",
    "net.connect(\"camera\", \"conv\")\n",
    "net.connect(\"conv\", \"flatten\")\n",
    "net.connect(\"flatten\", \"hidden2\")\n",
    "net.connect(\"hidden\", \"hidden2\")\n",
    "net.connect(\"hidden2\", \"hidden3\")\n",
    "##net.connect(\"hidden2\", \"output2\")\n",
    "net.connect(\"hidden3\", \"output2\")\n",
    "net.connect(\"hidden3\", \"hidden4\")\n",
    "net.connect(\"hidden4\", \"output1\")"
   ]
  },
  {
   "cell_type": "code",
   "execution_count": 19,
   "metadata": {},
   "outputs": [],
   "source": [
    "net.compile(optimizer=\"adam\", error=\"mse\")\n",
    "net.config[\"hspace\"] = 200"
   ]
  },
  {
   "cell_type": "code",
   "execution_count": 20,
   "metadata": {},
   "outputs": [
    {
     "data": {
      "application/javascript": [
       "\n",
       "require(['base/js/namespace'], function(Jupyter) {\n",
       "    Jupyter.notebook.kernel.comm_manager.register_target('conx_svg_control', function(comm, msg) {\n",
       "        comm.on_msg(function(msg) {\n",
       "            var data = msg[\"content\"][\"data\"];\n",
       "            var images = document.getElementsByClassName(data[\"class\"]);\n",
       "            for (var i = 0; i < images.length; i++) {\n",
       "                images[i].setAttributeNS(null, \"href\", data[\"href\"]);\n",
       "            }\n",
       "        });\n",
       "    });\n",
       "});\n"
      ],
      "text/plain": [
       "<IPython.core.display.Javascript object>"
      ]
     },
     "metadata": {},
     "output_type": "display_data"
    },
    {
     "data": {
      "image/svg+xml": [
       "<svg id='Robot Prediction Network' xmlns='http://www.w3.org/2000/svg' width=\"1100\" height=\"664\" image-rendering=\"pixelated\">\n",
       "    <defs>\n",
       "        <marker id=\"arrow\" markerWidth=\"10\" markerHeight=\"10\" refX=\"9\" refY=\"3\" orient=\"auto\" markerUnits=\"strokeWidth\">\n",
       "          <path d=\"M0,0 L0,6 L9,3 z\" fill=\"black\" />\n",
       "        </marker>\n",
       "    </defs><text x=\"550.0\" y=\"12.5\" font-family=\"monospace\" font-size=\"15\" text-anchor=\"middle\" alignment-baseline=\"central\">Robot Prediction Network</text><rect x=\"315.6666666666667\" y=\"29\" width=\"102\" height=\"52\" style=\"fill:none;stroke:black;stroke-width:2\"/><image id=\"Robot Prediction Network_output1_1\" class=\"Robot Prediction Network_output1\" x=\"316.6666666666667\" y=\"30\" height=\"50\" width=\"100\" preserveAspectRatio=\"none\" href=\"data:image/gif;base64,R0lGODdhAgABAIcAAPnFq/3dywAAAAAAAAAAAAAAAAAAAAAAAAAAAAAAAAAAAAAAAAAAAAAAAAAAAAAAAAAAAAAAAAAAAAAAAAAAAAAAAAAAAAAAAAAAAAAAAAAAAAAAAAAAAAAAAAAAAAAAAAAAAAAAAAAAAAAAAAAAAAAAAAAAAAAAAAAAAAAAAAAAAAAAAAAAAAAAAAAAAAAAAAAAAAAAAAAAAAAAAAAAAAAAAAAAAAAAAAAAAAAAAAAAAAAAAAAAAAAAAAAAAAAAAAAAAAAAAAAAAAAAAAAAAAAAAAAAAAAAAAAAAAAAAAAAAAAAAAAAAAAAAAAAAAAAAAAAAAAAAAAAAAAAAAAAAAAAAAAAAAAAAAAAAAAAAAAAAAAAAAAAAAAAAAAAAAAAAAAAAAAAAAAAAAAAAAAAAAAAAAAAAAAAAAAAAAAAAAAAAAAAAAAAAAAAAAAAAAAAAAAAAAAAAAAAAAAAAAAAAAAAAAAAAAAAAAAAAAAAAAAAAAAAAAAAAAAAAAAAAAAAAAAAAAAAAAAAAAAAAAAAAAAAAAAAAAAAAAAAAAAAAAAAAAAAAAAAAAAAAAAAAAAAAAAAAAAAAAAAAAAAAAAAAAAAAAAAAAAAAAAAAAAAAAAAAAAAAAAAAAAAAAAAAAAAAAAAAAAAAAAAAAAAAAAAAAAAAAAAAAAAAAAAAAAAAAAAAAAAAAAAAAAAAAAAAAAAAAAAAAAAAAAAAAAAAAAAAAAAAAAAAAAAAAAAAAAAAAAAAAAAAAAAAAAAAAAAAAAAAAAAAAAAAAAAAAAAAAAAAAAAAAAAAAAAAAAAAAAAAAAAAAAAAAAAAAAAAAAAAAAAAAAAAAAAAAAAAAAAAAAAAAAAAAAAAAAAAAAAAAAAAAAAAAAAAAAAAAAAAAAAAAAAAAAAAAAAAAAAAAAAAAAAAAAAAAAAAAAAAAAAAAAAAAAAAAAAAAAAAAAAAAAAAAAAAAAAAAAAAAAAAAAAAAAAAAAAAAAAAAAAAAAAAAAAAAAAAAAAAAAAAAAAAAAAAAAAACwAAAAAAgABAAAIBQABBAgIADs=\"><title>Layer: output1 (output)\n",
       " shape = (2,)\n",
       " Keras class = Dense\n",
       " activation = sigmoid</title></image><text x=\"421.6666666666667\" y=\"57.0\" font-family=\"monospace\" font-size=\"12\" text-anchor=\"start\" alignment-baseline=\"central\">output1</text><rect x=\"632.3333333333334\" y=\"29\" width=\"202\" height=\"42\" style=\"fill:none;stroke:black;stroke-width:2\"/><image id=\"Robot Prediction Network_output2_2\" class=\"Robot Prediction Network_output2\" x=\"633.3333333333334\" y=\"30\" height=\"40\" width=\"200\" preserveAspectRatio=\"none\" href=\"data:image/gif;base64,R0lGODdhBQABAIcAAMjIyOWDaPWwkP3n2unp6QAAAAAAAAAAAAAAAAAAAAAAAAAAAAAAAAAAAAAAAAAAAAAAAAAAAAAAAAAAAAAAAAAAAAAAAAAAAAAAAAAAAAAAAAAAAAAAAAAAAAAAAAAAAAAAAAAAAAAAAAAAAAAAAAAAAAAAAAAAAAAAAAAAAAAAAAAAAAAAAAAAAAAAAAAAAAAAAAAAAAAAAAAAAAAAAAAAAAAAAAAAAAAAAAAAAAAAAAAAAAAAAAAAAAAAAAAAAAAAAAAAAAAAAAAAAAAAAAAAAAAAAAAAAAAAAAAAAAAAAAAAAAAAAAAAAAAAAAAAAAAAAAAAAAAAAAAAAAAAAAAAAAAAAAAAAAAAAAAAAAAAAAAAAAAAAAAAAAAAAAAAAAAAAAAAAAAAAAAAAAAAAAAAAAAAAAAAAAAAAAAAAAAAAAAAAAAAAAAAAAAAAAAAAAAAAAAAAAAAAAAAAAAAAAAAAAAAAAAAAAAAAAAAAAAAAAAAAAAAAAAAAAAAAAAAAAAAAAAAAAAAAAAAAAAAAAAAAAAAAAAAAAAAAAAAAAAAAAAAAAAAAAAAAAAAAAAAAAAAAAAAAAAAAAAAAAAAAAAAAAAAAAAAAAAAAAAAAAAAAAAAAAAAAAAAAAAAAAAAAAAAAAAAAAAAAAAAAAAAAAAAAAAAAAAAAAAAAAAAAAAAAAAAAAAAAAAAAAAAAAAAAAAAAAAAAAAAAAAAAAAAAAAAAAAAAAAAAAAAAAAAAAAAAAAAAAAAAAAAAAAAAAAAAAAAAAAAAAAAAAAAAAAAAAAAAAAAAAAAAAAAAAAAAAAAAAAAAAAAAAAAAAAAAAAAAAAAAAAAAAAAAAAAAAAAAAAAAAAAAAAAAAAAAAAAAAAAAAAAAAAAAAAAAAAAAAAAAAAAAAAAAAAAAAAAAAAAAAAAAAAAAAAAAAAAAAAAAAAAAAAAAAAAAAAAAAAAAAAAAAAAAAAAAAAAAAAAAAAAAAAAAAAAAAAAAAAAAAAAAAAAAAAAAAAAAAAAAAAAAAAAACwAAAAABQABAAAICAABEBAQYEBAADs=\"><title>Layer: output2 (output)\n",
       " shape = (5,)\n",
       " Keras class = Dense\n",
       " activation = sigmoid</title></image><text x=\"838.3333333333334\" y=\"52.0\" font-family=\"monospace\" font-size=\"12\" text-anchor=\"start\" alignment-baseline=\"central\">output2</text><line x1=\"366.6666666666667\" y1=\"109\" x2=\"366.6666666666667\" y2=\"82\" stroke=\"black\" stroke-width=\"2\" marker-end=\"url(#arrow)\"><title>Weights from hidden4 to output1\n",
       " output1/kernel has shape (10, 2)\n",
       " output1/bias has shape (2,)</title></line><rect x=\"265.6666666666667\" y=\"109\" width=\"202\" height=\"27\" style=\"fill:none;stroke:black;stroke-width:2\"/><image id=\"Robot Prediction Network_hidden4_3\" class=\"Robot Prediction Network_hidden4\" x=\"266.6666666666667\" y=\"110\" height=\"25\" width=\"200\" preserveAspectRatio=\"none\" href=\"data:image/gif;base64,R0lGODdhCgABAIcAAPv29NloU95yW9HR0fayk/3cye3t7QAAAAAAAAAAAAAAAAAAAAAAAAAAAAAAAAAAAAAAAAAAAAAAAAAAAAAAAAAAAAAAAAAAAAAAAAAAAAAAAAAAAAAAAAAAAAAAAAAAAAAAAAAAAAAAAAAAAAAAAAAAAAAAAAAAAAAAAAAAAAAAAAAAAAAAAAAAAAAAAAAAAAAAAAAAAAAAAAAAAAAAAAAAAAAAAAAAAAAAAAAAAAAAAAAAAAAAAAAAAAAAAAAAAAAAAAAAAAAAAAAAAAAAAAAAAAAAAAAAAAAAAAAAAAAAAAAAAAAAAAAAAAAAAAAAAAAAAAAAAAAAAAAAAAAAAAAAAAAAAAAAAAAAAAAAAAAAAAAAAAAAAAAAAAAAAAAAAAAAAAAAAAAAAAAAAAAAAAAAAAAAAAAAAAAAAAAAAAAAAAAAAAAAAAAAAAAAAAAAAAAAAAAAAAAAAAAAAAAAAAAAAAAAAAAAAAAAAAAAAAAAAAAAAAAAAAAAAAAAAAAAAAAAAAAAAAAAAAAAAAAAAAAAAAAAAAAAAAAAAAAAAAAAAAAAAAAAAAAAAAAAAAAAAAAAAAAAAAAAAAAAAAAAAAAAAAAAAAAAAAAAAAAAAAAAAAAAAAAAAAAAAAAAAAAAAAAAAAAAAAAAAAAAAAAAAAAAAAAAAAAAAAAAAAAAAAAAAAAAAAAAAAAAAAAAAAAAAAAAAAAAAAAAAAAAAAAAAAAAAAAAAAAAAAAAAAAAAAAAAAAAAAAAAAAAAAAAAAAAAAAAAAAAAAAAAAAAAAAAAAAAAAAAAAAAAAAAAAAAAAAAAAAAAAAAAAAAAAAAAAAAAAAAAAAAAAAAAAAAAAAAAAAAAAAAAAAAAAAAAAAAAAAAAAAAAAAAAAAAAAAAAAAAAAAAAAAAAAAAAAAAAAAAAAAAAAAAAAAAAAAAAAAAAAAAAAAAAAAAAAAAAAAAAAAAAAAAAAAAAAAAAAAAAAAAAAAAAAAAAAAAAAAAAAAAAAAAAAAAAAAAAAAAAAAAAAAAACwAAAAACgABAAAIDgADAChggIAAAAMAAAgIADs=\"><title>Layer: hidden4 (hidden)\n",
       " shape = (10,)\n",
       " Keras class = Dense\n",
       " activation = sigmoid</title></image><text x=\"471.6666666666667\" y=\"124.5\" font-family=\"monospace\" font-size=\"12\" text-anchor=\"start\" alignment-baseline=\"central\">hidden4</text><line x1=\"733.3333333333334\" y1=\"110\" x2=\"733.3333333333334\" y2=\"70\" stroke=\"red\" stroke-width=\"2\" marker-end=\"url(#arrow)\"><title>Weights from hidden4 to output1\n",
       " output1/kernel has shape (10, 2)\n",
       " output1/bias has shape (2,)</title></line><line x1=\"550.0\" y1=\"164\" x2=\"733.3333333333334\" y2=\"110\" stroke=\"red\" stroke-width=\"2\"><title>TODO</title></line><line x1=\"550.0\" y1=\"164\" x2=\"366.6666666666667\" y2=\"137\" stroke=\"red\" stroke-width=\"2\" marker-end=\"url(#arrow)\"><title>Weights from hidden3 to hidden4\n",
       " hidden4/kernel has shape (10, 10)\n",
       " hidden4/bias has shape (10,)</title></line><rect x=\"449.0\" y=\"164\" width=\"202\" height=\"27\" style=\"fill:none;stroke:black;stroke-width:2\"/><image id=\"Robot Prediction Network_hidden3_4\" class=\"Robot Prediction Network_hidden3\" x=\"450.0\" y=\"165\" height=\"25\" width=\"200\" preserveAspectRatio=\"none\" href=\"data:image/gif;base64,R0lGODdhCgABAIcAAPz49cXFxdfX1+Pj4wAAAAAAAAAAAAAAAAAAAAAAAAAAAAAAAAAAAAAAAAAAAAAAAAAAAAAAAAAAAAAAAAAAAAAAAAAAAAAAAAAAAAAAAAAAAAAAAAAAAAAAAAAAAAAAAAAAAAAAAAAAAAAAAAAAAAAAAAAAAAAAAAAAAAAAAAAAAAAAAAAAAAAAAAAAAAAAAAAAAAAAAAAAAAAAAAAAAAAAAAAAAAAAAAAAAAAAAAAAAAAAAAAAAAAAAAAAAAAAAAAAAAAAAAAAAAAAAAAAAAAAAAAAAAAAAAAAAAAAAAAAAAAAAAAAAAAAAAAAAAAAAAAAAAAAAAAAAAAAAAAAAAAAAAAAAAAAAAAAAAAAAAAAAAAAAAAAAAAAAAAAAAAAAAAAAAAAAAAAAAAAAAAAAAAAAAAAAAAAAAAAAAAAAAAAAAAAAAAAAAAAAAAAAAAAAAAAAAAAAAAAAAAAAAAAAAAAAAAAAAAAAAAAAAAAAAAAAAAAAAAAAAAAAAAAAAAAAAAAAAAAAAAAAAAAAAAAAAAAAAAAAAAAAAAAAAAAAAAAAAAAAAAAAAAAAAAAAAAAAAAAAAAAAAAAAAAAAAAAAAAAAAAAAAAAAAAAAAAAAAAAAAAAAAAAAAAAAAAAAAAAAAAAAAAAAAAAAAAAAAAAAAAAAAAAAAAAAAAAAAAAAAAAAAAAAAAAAAAAAAAAAAAAAAAAAAAAAAAAAAAAAAAAAAAAAAAAAAAAAAAAAAAAAAAAAAAAAAAAAAAAAAAAAAAAAAAAAAAAAAAAAAAAAAAAAAAAAAAAAAAAAAAAAAAAAAAAAAAAAAAAAAAAAAAAAAAAAAAAAAAAAAAAAAAAAAAAAAAAAAAAAAAAAAAAAAAAAAAAAAAAAAAAAAAAAAAAAAAAAAAAAAAAAAAAAAAAAAAAAAAAAAAAAAAAAAAAAAAAAAAAAAAAAAAAAAAAAAAAAAAAAAAAAAAAAAAAAAAAAAAAAAAAAAAAAAAAAAAAAAAAAAAAAAAAAAAAAAAAAAAAAAAAACwAAAAACgABAAAIDQABDABAEEAAAQAABAQAOw==\"><title>Layer: hidden3 (hidden)\n",
       " shape = (10,)\n",
       " dropout = 0.25\n",
       " Keras class = Dense\n",
       " activation = sigmoid</title></image><text x=\"655.0\" y=\"179.5\" font-family=\"monospace\" font-size=\"12\" text-anchor=\"start\" alignment-baseline=\"central\">hidden3</text><line x1=\"550.0\" y1=\"219\" x2=\"550.0\" y2=\"192\" stroke=\"black\" stroke-width=\"2\" marker-end=\"url(#arrow)\"><title>Weights from hidden2 to hidden3\n",
       " hidden3/kernel has shape (5, 10)\n",
       " hidden3/bias has shape (10,)</title></line><rect x=\"449.0\" y=\"219\" width=\"202\" height=\"42\" style=\"fill:none;stroke:black;stroke-width:2\"/><image id=\"Robot Prediction Network_hidden2_5\" class=\"Robot Prediction Network_hidden2\" x=\"450.0\" y=\"220\" height=\"40\" width=\"200\" preserveAspectRatio=\"none\" href=\"data:image/gif;base64,R0lGODdhBQABAIcAAP7+/QAAAAAAAAAAAAAAAAAAAAAAAAAAAAAAAAAAAAAAAAAAAAAAAAAAAAAAAAAAAAAAAAAAAAAAAAAAAAAAAAAAAAAAAAAAAAAAAAAAAAAAAAAAAAAAAAAAAAAAAAAAAAAAAAAAAAAAAAAAAAAAAAAAAAAAAAAAAAAAAAAAAAAAAAAAAAAAAAAAAAAAAAAAAAAAAAAAAAAAAAAAAAAAAAAAAAAAAAAAAAAAAAAAAAAAAAAAAAAAAAAAAAAAAAAAAAAAAAAAAAAAAAAAAAAAAAAAAAAAAAAAAAAAAAAAAAAAAAAAAAAAAAAAAAAAAAAAAAAAAAAAAAAAAAAAAAAAAAAAAAAAAAAAAAAAAAAAAAAAAAAAAAAAAAAAAAAAAAAAAAAAAAAAAAAAAAAAAAAAAAAAAAAAAAAAAAAAAAAAAAAAAAAAAAAAAAAAAAAAAAAAAAAAAAAAAAAAAAAAAAAAAAAAAAAAAAAAAAAAAAAAAAAAAAAAAAAAAAAAAAAAAAAAAAAAAAAAAAAAAAAAAAAAAAAAAAAAAAAAAAAAAAAAAAAAAAAAAAAAAAAAAAAAAAAAAAAAAAAAAAAAAAAAAAAAAAAAAAAAAAAAAAAAAAAAAAAAAAAAAAAAAAAAAAAAAAAAAAAAAAAAAAAAAAAAAAAAAAAAAAAAAAAAAAAAAAAAAAAAAAAAAAAAAAAAAAAAAAAAAAAAAAAAAAAAAAAAAAAAAAAAAAAAAAAAAAAAAAAAAAAAAAAAAAAAAAAAAAAAAAAAAAAAAAAAAAAAAAAAAAAAAAAAAAAAAAAAAAAAAAAAAAAAAAAAAAAAAAAAAAAAAAAAAAAAAAAAAAAAAAAAAAAAAAAAAAAAAAAAAAAAAAAAAAAAAAAAAAAAAAAAAAAAAAAAAAAAAAAAAAAAAAAAAAAAAAAAAAAAAAAAAAAAAAAAAAAAAAAAAAAAAAAAAAAAAAAAAAAAAAAAAAAAAAAAAAAAAAAAAAAAAAAAAAAAAAAAAAAAAAAAAAAAAAAAAAAAAAAAACwAAAAABQABAAAIBgABCBQYEAA7\"><title>Layer: hidden2 (hidden)\n",
       " shape = (5,)\n",
       " Keras class = Dense\n",
       " activation = sigmoid</title></image><text x=\"655.0\" y=\"242.0\" font-family=\"monospace\" font-size=\"12\" text-anchor=\"start\" alignment-baseline=\"central\">hidden2</text><line x1=\"275.0\" y1=\"290\" x2=\"550.0\" y2=\"260\" stroke=\"black\" stroke-width=\"2\" marker-end=\"url(#arrow)\"><title>Weights from hidden2 to hidden3\n",
       " hidden3/kernel has shape (5, 10)\n",
       " hidden3/bias has shape (10,)</title></line><line x1=\"550.0\" y1=\"290\" x2=\"550.0\" y2=\"260\" stroke=\"black\" stroke-width=\"2\" marker-end=\"url(#arrow)\"><title>Weights from hidden2 to hidden3\n",
       " hidden3/kernel has shape (5, 10)\n",
       " hidden3/bias has shape (10,)</title></line><line x1=\"825.0\" y1=\"289\" x2=\"550.0\" y2=\"262\" stroke=\"black\" stroke-width=\"2\" marker-end=\"url(#arrow)\"><title>Weights from flatten to hidden2\n",
       " hidden2/kernel has shape (35330, 5)\n",
       " hidden2/bias has shape (5,)</title></line><rect x=\"724.0\" y=\"289\" width=\"202\" height=\"27\" style=\"fill:none;stroke:black;stroke-width:2\"/><image id=\"Robot Prediction Network_flatten_6\" class=\"Robot Prediction Network_flatten\" x=\"725.0\" y=\"290\" height=\"25\" width=\"200\" preserveAspectRatio=\"none\" href=\"data:image/gif;base64,R0lGODdhwIkBAIcAAP7+/QAAAAAAAAAAAAAAAAAAAAAAAAAAAAAAAAAAAAAAAAAAAAAAAAAAAAAAAAAAAAAAAAAAAAAAAAAAAAAAAAAAAAAAAAAAAAAAAAAAAAAAAAAAAAAAAAAAAAAAAAAAAAAAAAAAAAAAAAAAAAAAAAAAAAAAAAAAAAAAAAAAAAAAAAAAAAAAAAAAAAAAAAAAAAAAAAAAAAAAAAAAAAAAAAAAAAAAAAAAAAAAAAAAAAAAAAAAAAAAAAAAAAAAAAAAAAAAAAAAAAAAAAAAAAAAAAAAAAAAAAAAAAAAAAAAAAAAAAAAAAAAAAAAAAAAAAAAAAAAAAAAAAAAAAAAAAAAAAAAAAAAAAAAAAAAAAAAAAAAAAAAAAAAAAAAAAAAAAAAAAAAAAAAAAAAAAAAAAAAAAAAAAAAAAAAAAAAAAAAAAAAAAAAAAAAAAAAAAAAAAAAAAAAAAAAAAAAAAAAAAAAAAAAAAAAAAAAAAAAAAAAAAAAAAAAAAAAAAAAAAAAAAAAAAAAAAAAAAAAAAAAAAAAAAAAAAAAAAAAAAAAAAAAAAAAAAAAAAAAAAAAAAAAAAAAAAAAAAAAAAAAAAAAAAAAAAAAAAAAAAAAAAAAAAAAAAAAAAAAAAAAAAAAAAAAAAAAAAAAAAAAAAAAAAAAAAAAAAAAAAAAAAAAAAAAAAAAAAAAAAAAAAAAAAAAAAAAAAAAAAAAAAAAAAAAAAAAAAAAAAAAAAAAAAAAAAAAAAAAAAAAAAAAAAAAAAAAAAAAAAAAAAAAAAAAAAAAAAAAAAAAAAAAAAAAAAAAAAAAAAAAAAAAAAAAAAAAAAAAAAAAAAAAAAAAAAAAAAAAAAAAAAAAAAAAAAAAAAAAAAAAAAAAAAAAAAAAAAAAAAAAAAAAAAAAAAAAAAAAAAAAAAAAAAAAAAAAAAAAAAAAAAAAAAAAAAAAAAAAAAAAAAAAAAAAAAAAAAAAAAAAAAAAAAAAAAAAAAAAAAAAAAAAAAAAAAAAAAAAAAAAAAAAAAAAAAAAAAAAACwAAAAAwIkBAAAI/wABCBxIsKDBgwgTKlzIsKHDhxAjSpxIsaLFixgzatzIsaPHjyBDihxJsqTJkyhTqlzJsqXLlzBjypxJs6bNmzhz6tzJs6fPn0CDCh1KtKjRo0iTKl3KtKnTp1CjSp1KtarVq1izat3KtavXr2DDih1LtqzZs2jTql3Ltq3bt3Djyp1Lt67du3jz6t3Lt6/fv4ADCx5MuLDhw4gTK17MuLHjx5AjS55MubLly5gza97MubPnz6BDix5NurTp06hTq17NurXr17Bjy55Nu7bt27hz697Nu7fv38CDCx9OvLjx48iTK1/OvLnz59CjS59Ovbr169iza9/Ovbv37+DDi3gfT768+fPo06tfz769+/fw48ufT7++/fv48+vfz7+/f4AABA4kWNDgQYQJFS5k2NDhQ4gRJU6kWNHiRYwZNW7k2NHjR5AhRY4kWdLkSZQpVa5k2dLlS5gxZc6kWdPmTZw5de7k2dPnT6BBhQ4lWtToUaRJlS7tGBAAOw==\"><title>Layer: flatten (hidden)\n",
       " Keras class = Flatten</title></image><text x=\"930.0\" y=\"304.5\" font-family=\"monospace\" font-size=\"12\" text-anchor=\"start\" alignment-baseline=\"central\">flatten</text><line x1=\"275.0\" y1=\"344\" x2=\"275.0\" y2=\"290\" stroke=\"black\" stroke-width=\"2\"><title>TODO</title></line><rect x=\"174.0\" y=\"344\" width=\"202\" height=\"27\" style=\"fill:none;stroke:black;stroke-width:2\"/><image id=\"Robot Prediction Network_hidden_7\" class=\"Robot Prediction Network_hidden\" x=\"175.0\" y=\"345\" height=\"25\" width=\"200\" preserveAspectRatio=\"none\" href=\"data:image/gif;base64,R0lGODdhMgABAIcAAP7+/QAAAAAAAAAAAAAAAAAAAAAAAAAAAAAAAAAAAAAAAAAAAAAAAAAAAAAAAAAAAAAAAAAAAAAAAAAAAAAAAAAAAAAAAAAAAAAAAAAAAAAAAAAAAAAAAAAAAAAAAAAAAAAAAAAAAAAAAAAAAAAAAAAAAAAAAAAAAAAAAAAAAAAAAAAAAAAAAAAAAAAAAAAAAAAAAAAAAAAAAAAAAAAAAAAAAAAAAAAAAAAAAAAAAAAAAAAAAAAAAAAAAAAAAAAAAAAAAAAAAAAAAAAAAAAAAAAAAAAAAAAAAAAAAAAAAAAAAAAAAAAAAAAAAAAAAAAAAAAAAAAAAAAAAAAAAAAAAAAAAAAAAAAAAAAAAAAAAAAAAAAAAAAAAAAAAAAAAAAAAAAAAAAAAAAAAAAAAAAAAAAAAAAAAAAAAAAAAAAAAAAAAAAAAAAAAAAAAAAAAAAAAAAAAAAAAAAAAAAAAAAAAAAAAAAAAAAAAAAAAAAAAAAAAAAAAAAAAAAAAAAAAAAAAAAAAAAAAAAAAAAAAAAAAAAAAAAAAAAAAAAAAAAAAAAAAAAAAAAAAAAAAAAAAAAAAAAAAAAAAAAAAAAAAAAAAAAAAAAAAAAAAAAAAAAAAAAAAAAAAAAAAAAAAAAAAAAAAAAAAAAAAAAAAAAAAAAAAAAAAAAAAAAAAAAAAAAAAAAAAAAAAAAAAAAAAAAAAAAAAAAAAAAAAAAAAAAAAAAAAAAAAAAAAAAAAAAAAAAAAAAAAAAAAAAAAAAAAAAAAAAAAAAAAAAAAAAAAAAAAAAAAAAAAAAAAAAAAAAAAAAAAAAAAAAAAAAAAAAAAAAAAAAAAAAAAAAAAAAAAAAAAAAAAAAAAAAAAAAAAAAAAAAAAAAAAAAAAAAAAAAAAAAAAAAAAAAAAAAAAAAAAAAAAAAAAAAAAAAAAAAAAAAAAAAAAAAAAAAAAAAAAAAAAAAAAAAAAAAAAAAAAAAAAAAAAAAAAAAAAAAAAAAAAAAAAAAAAAAAAAAAAAAAAAAAAAAAAAAAACwAAAAAMgABAAAIDgABCBxIsKDBgwgTFgwIADs=\"><title>Layer: hidden (hidden)\n",
       " shape = (50,)\n",
       " Keras class = Dense\n",
       " activation = relu</title></image><text x=\"380.0\" y=\"359.5\" font-family=\"monospace\" font-size=\"12\" text-anchor=\"start\" alignment-baseline=\"central\">hidden</text><line x1=\"550.0\" y1=\"345\" x2=\"550.0\" y2=\"290\" stroke=\"black\" stroke-width=\"2\"><title>TODO</title></line><line x1=\"825.0\" y1=\"344\" x2=\"825.0\" y2=\"317\" stroke=\"black\" stroke-width=\"2\" marker-end=\"url(#arrow)\"><title>Weights from conv to flatten</title></line><rect x=\"724.0\" y=\"344\" width=\"202\" height=\"133\" style=\"fill:none;stroke:black;stroke-width:2\"/><image id=\"Robot Prediction Network_conv_8\" class=\"Robot Prediction Network_conv\" x=\"725.0\" y=\"345\" height=\"131\" width=\"200\" preserveAspectRatio=\"none\" href=\"data:image/gif;base64,R0lGODdhOgAmAIcAAP7+/QAAAAAAAAAAAAAAAAAAAAAAAAAAAAAAAAAAAAAAAAAAAAAAAAAAAAAAAAAAAAAAAAAAAAAAAAAAAAAAAAAAAAAAAAAAAAAAAAAAAAAAAAAAAAAAAAAAAAAAAAAAAAAAAAAAAAAAAAAAAAAAAAAAAAAAAAAAAAAAAAAAAAAAAAAAAAAAAAAAAAAAAAAAAAAAAAAAAAAAAAAAAAAAAAAAAAAAAAAAAAAAAAAAAAAAAAAAAAAAAAAAAAAAAAAAAAAAAAAAAAAAAAAAAAAAAAAAAAAAAAAAAAAAAAAAAAAAAAAAAAAAAAAAAAAAAAAAAAAAAAAAAAAAAAAAAAAAAAAAAAAAAAAAAAAAAAAAAAAAAAAAAAAAAAAAAAAAAAAAAAAAAAAAAAAAAAAAAAAAAAAAAAAAAAAAAAAAAAAAAAAAAAAAAAAAAAAAAAAAAAAAAAAAAAAAAAAAAAAAAAAAAAAAAAAAAAAAAAAAAAAAAAAAAAAAAAAAAAAAAAAAAAAAAAAAAAAAAAAAAAAAAAAAAAAAAAAAAAAAAAAAAAAAAAAAAAAAAAAAAAAAAAAAAAAAAAAAAAAAAAAAAAAAAAAAAAAAAAAAAAAAAAAAAAAAAAAAAAAAAAAAAAAAAAAAAAAAAAAAAAAAAAAAAAAAAAAAAAAAAAAAAAAAAAAAAAAAAAAAAAAAAAAAAAAAAAAAAAAAAAAAAAAAAAAAAAAAAAAAAAAAAAAAAAAAAAAAAAAAAAAAAAAAAAAAAAAAAAAAAAAAAAAAAAAAAAAAAAAAAAAAAAAAAAAAAAAAAAAAAAAAAAAAAAAAAAAAAAAAAAAAAAAAAAAAAAAAAAAAAAAAAAAAAAAAAAAAAAAAAAAAAAAAAAAAAAAAAAAAAAAAAAAAAAAAAAAAAAAAAAAAAAAAAAAAAAAAAAAAAAAAAAAAAAAAAAAAAAAAAAAAAAAAAAAAAAAAAAAAAAAAAAAAAAAAAAAAAAAAAAAAAAAAAAAAAAAAAAAAAAAAAAAAAAAAAAAAAAAAACwAAAAAOgAmAEAITQABCBxIsKDBgwgTKlzIsKHDhxAjSpxIsaLFixgzatzIsaPHjyBDihxJsqTJkyhTqlzJsqXLlzBjypxJs6bNmzhz6tzJs6fPn0CD7gwIADs=\"><title>Layer: conv (hidden)\n",
       " Keras class = Conv2D</title></image><text x=\"930.0\" y=\"412.5\" font-family=\"monospace\" font-size=\"12\" text-anchor=\"start\" alignment-baseline=\"central\">conv</text><text x=\"930.0\" y=\"350\" font-family=\"monospace\" font-size=\"12\" text-anchor=\"start\" alignment-baseline=\"central\">16</text><text x=\"713.0\" y=\"471\" font-family=\"monospace\" font-size=\"12\" text-anchor=\"start\" alignment-baseline=\"central\">0</text><line x1=\"275.0\" y1=\"505\" x2=\"275.0\" y2=\"372\" stroke=\"black\" stroke-width=\"2\" marker-end=\"url(#arrow)\"><title>Weights from light to hidden\n",
       " hidden/kernel has shape (2, 50)\n",
       " hidden/bias has shape (50,)</title></line><rect x=\"224.0\" y=\"505\" width=\"102\" height=\"52\" style=\"fill:none;stroke:black;stroke-width:2\"/><image id=\"Robot Prediction Network_light_9\" class=\"Robot Prediction Network_light\" x=\"225.0\" y=\"506\" height=\"50\" width=\"100\" preserveAspectRatio=\"none\" href=\"data:image/gif;base64,R0lGODdhAgABAIcAAP7+/QAAAAAAAAAAAAAAAAAAAAAAAAAAAAAAAAAAAAAAAAAAAAAAAAAAAAAAAAAAAAAAAAAAAAAAAAAAAAAAAAAAAAAAAAAAAAAAAAAAAAAAAAAAAAAAAAAAAAAAAAAAAAAAAAAAAAAAAAAAAAAAAAAAAAAAAAAAAAAAAAAAAAAAAAAAAAAAAAAAAAAAAAAAAAAAAAAAAAAAAAAAAAAAAAAAAAAAAAAAAAAAAAAAAAAAAAAAAAAAAAAAAAAAAAAAAAAAAAAAAAAAAAAAAAAAAAAAAAAAAAAAAAAAAAAAAAAAAAAAAAAAAAAAAAAAAAAAAAAAAAAAAAAAAAAAAAAAAAAAAAAAAAAAAAAAAAAAAAAAAAAAAAAAAAAAAAAAAAAAAAAAAAAAAAAAAAAAAAAAAAAAAAAAAAAAAAAAAAAAAAAAAAAAAAAAAAAAAAAAAAAAAAAAAAAAAAAAAAAAAAAAAAAAAAAAAAAAAAAAAAAAAAAAAAAAAAAAAAAAAAAAAAAAAAAAAAAAAAAAAAAAAAAAAAAAAAAAAAAAAAAAAAAAAAAAAAAAAAAAAAAAAAAAAAAAAAAAAAAAAAAAAAAAAAAAAAAAAAAAAAAAAAAAAAAAAAAAAAAAAAAAAAAAAAAAAAAAAAAAAAAAAAAAAAAAAAAAAAAAAAAAAAAAAAAAAAAAAAAAAAAAAAAAAAAAAAAAAAAAAAAAAAAAAAAAAAAAAAAAAAAAAAAAAAAAAAAAAAAAAAAAAAAAAAAAAAAAAAAAAAAAAAAAAAAAAAAAAAAAAAAAAAAAAAAAAAAAAAAAAAAAAAAAAAAAAAAAAAAAAAAAAAAAAAAAAAAAAAAAAAAAAAAAAAAAAAAAAAAAAAAAAAAAAAAAAAAAAAAAAAAAAAAAAAAAAAAAAAAAAAAAAAAAAAAAAAAAAAAAAAAAAAAAAAAAAAAAAAAAAAAAAAAAAAAAAAAAAAAAAAAAAAAAAAAAAAAAAAAAAAAAAAAAAAAAAAAAAAAAAAAAAAAAAAAAAAAAAAAAACwAAAAAAgABAAAIBQABAAgIADs=\"><title>Layer: light (input)\n",
       " shape = (2,)\n",
       " Keras class = Input</title></image><text x=\"330.0\" y=\"533.0\" font-family=\"monospace\" font-size=\"12\" text-anchor=\"start\" alignment-baseline=\"central\">light</text><line x1=\"550.0\" y1=\"505\" x2=\"550.0\" y2=\"345\" stroke=\"black\" stroke-width=\"2\"><title>TODO</title></line><rect x=\"449.0\" y=\"505\" width=\"202\" height=\"27\" style=\"fill:none;stroke:black;stroke-width:2\"/><image id=\"Robot Prediction Network_sonar_10\" class=\"Robot Prediction Network_sonar\" x=\"450.0\" y=\"506\" height=\"25\" width=\"200\" preserveAspectRatio=\"none\" href=\"data:image/gif;base64,R0lGODdhEAABAIcAAP7+/QAAAAAAAAAAAAAAAAAAAAAAAAAAAAAAAAAAAAAAAAAAAAAAAAAAAAAAAAAAAAAAAAAAAAAAAAAAAAAAAAAAAAAAAAAAAAAAAAAAAAAAAAAAAAAAAAAAAAAAAAAAAAAAAAAAAAAAAAAAAAAAAAAAAAAAAAAAAAAAAAAAAAAAAAAAAAAAAAAAAAAAAAAAAAAAAAAAAAAAAAAAAAAAAAAAAAAAAAAAAAAAAAAAAAAAAAAAAAAAAAAAAAAAAAAAAAAAAAAAAAAAAAAAAAAAAAAAAAAAAAAAAAAAAAAAAAAAAAAAAAAAAAAAAAAAAAAAAAAAAAAAAAAAAAAAAAAAAAAAAAAAAAAAAAAAAAAAAAAAAAAAAAAAAAAAAAAAAAAAAAAAAAAAAAAAAAAAAAAAAAAAAAAAAAAAAAAAAAAAAAAAAAAAAAAAAAAAAAAAAAAAAAAAAAAAAAAAAAAAAAAAAAAAAAAAAAAAAAAAAAAAAAAAAAAAAAAAAAAAAAAAAAAAAAAAAAAAAAAAAAAAAAAAAAAAAAAAAAAAAAAAAAAAAAAAAAAAAAAAAAAAAAAAAAAAAAAAAAAAAAAAAAAAAAAAAAAAAAAAAAAAAAAAAAAAAAAAAAAAAAAAAAAAAAAAAAAAAAAAAAAAAAAAAAAAAAAAAAAAAAAAAAAAAAAAAAAAAAAAAAAAAAAAAAAAAAAAAAAAAAAAAAAAAAAAAAAAAAAAAAAAAAAAAAAAAAAAAAAAAAAAAAAAAAAAAAAAAAAAAAAAAAAAAAAAAAAAAAAAAAAAAAAAAAAAAAAAAAAAAAAAAAAAAAAAAAAAAAAAAAAAAAAAAAAAAAAAAAAAAAAAAAAAAAAAAAAAAAAAAAAAAAAAAAAAAAAAAAAAAAAAAAAAAAAAAAAAAAAAAAAAAAAAAAAAAAAAAAAAAAAAAAAAAAAAAAAAAAAAAAAAAAAAAAAAAAAAAAAAAAAAAAAAAAAAAAAAAAAAAAAAAAAAAAAAAAAAAAAAAAAAAAAAAAAAAAAAAAAAACwAAAAAEAABAAAICQABCBxIsCCAgAA7\"><title>Layer: sonar (input)\n",
       " shape = (16,)\n",
       " Keras class = Input</title></image><text x=\"655.0\" y=\"520.5\" font-family=\"monospace\" font-size=\"12\" text-anchor=\"start\" alignment-baseline=\"central\">sonar</text><line x1=\"825.0\" y1=\"505\" x2=\"825.0\" y2=\"478\" stroke=\"black\" stroke-width=\"2\" marker-end=\"url(#arrow)\"><title>Weights from camera to conv\n",
       " conv/kernel has shape (3, 3, 3, 16)\n",
       " conv/bias has shape (16,)</title></line><rect x=\"724.0\" y=\"505\" width=\"202\" height=\"135\" style=\"fill:none;stroke:black;stroke-width:2\"/><image id=\"Robot Prediction Network_camera_11\" class=\"Robot Prediction Network_camera\" x=\"725.0\" y=\"506\" height=\"133\" width=\"200\" preserveAspectRatio=\"none\" href=\"data:image/gif;base64,R0lGODdhPAAoAIcAAAAAAAAAAAAAAAAAAAAAAAAAAAAAAAAAAAAAAAAAAAAAAAAAAAAAAAAAAAAAAAAAAAAAAAAAAAAAAAAAAAAAAAAAAAAAAAAAAAAAAAAAAAAAAAAAAAAAAAAAAAAAAAAAAAAAAAAAAAAAAAAAAAAAAAAAAAAAAAAAAAAAAAAAAAAAAAAAAAAAAAAAAAAAAAAAAAAAAAAAAAAAAAAAAAAAAAAAAAAAAAAAAAAAAAAAAAAAAAAAAAAAAAAAAAAAAAAAAAAAAAAAAAAAAAAAAAAAAAAAAAAAAAAAAAAAAAAAAAAAAAAAAAAAAAAAAAAAAAAAAAAAAAAAAAAAAAAAAAAAAAAAAAAAAAAAAAAAAAAAAAAAAAAAAAAAAAAAAAAAAAAAAAAAAAAAAAAAAAAAAAAAAAAAAAAAAAAAAAAAAAAAAAAAAAAAAAAAAAAAAAAAAAAAAAAAAAAAAAAAAAAAAAAAAAAAAAAAAAAAAAAAAAAAAAAAAAAAAAAAAAAAAAAAAAAAAAAAAAAAAAAAAAAAAAAAAAAAAAAAAAAAAAAAAAAAAAAAAAAAAAAAAAAAAAAAAAAAAAAAAAAAAAAAAAAAAAAAAAAAAAAAAAAAAAAAAAAAAAAAAAAAAAAAAAAAAAAAAAAAAAAAAAAAAAAAAAAAAAAAAAAAAAAAAAAAAAAAAAAAAAAAAAAAAAAAAAAAAAAAAAAAAAAAAAAAAAAAAAAAAAAAAAAAAAAAAAAAAAAAAAAAAAAAAAAAAAAAAAAAAAAAAAAAAAAAAAAAAAAAAAAAAAAAAAAAAAAAAAAAAAAAAAAAAAAAAAAAAAAAAAAAAAAAAAAAAAAAAAAAAAAAAAAAAAAAAAAAAAAAAAAAAAAAAAAAAAAAAAAAAAAAAAAAAAAAAAAAAAAAAAAAAAAAAAAAAAAAAAAAAAAAAAAAAAAAAAAAAAAAAAAAAAAAAAAAAAAAAAAAAAAAAAAAAAAAAAAAAAAAAAAAAAAAAAAAAAAAAAAAAAAAAAAAAAAAAAAAAAAAAAAAACwAAAAAPAAoAEAIUAABCBxIsKDBgwgTKlzIsKHDhxAjSpxIsaLFixgzatzIsaPHjyBDihxJsqTJkyhTqlzJsqXLlzBjypxJs6bNmzhz6tzJs6fPn0CDCh1K1GZAADs=\"><title>Layer: camera (input)\n",
       " shape = (40, 60, 3)\n",
       " Keras class = Input</title></image><text x=\"930.0\" y=\"574.5\" font-family=\"monospace\" font-size=\"12\" text-anchor=\"start\" alignment-baseline=\"central\">camera</text></svg>"
      ],
      "text/plain": [
       "<Network name='Robot Prediction Network' (compiled)>"
      ]
     },
     "execution_count": 20,
     "metadata": {},
     "output_type": "execute_result"
    }
   ],
   "source": [
    "net"
   ]
  },
  {
   "cell_type": "code",
   "execution_count": 21,
   "metadata": {},
   "outputs": [],
   "source": [
    "matrix = net.propagate_to(\"conv\", get_senses(robot))"
   ]
  },
  {
   "cell_type": "code",
   "execution_count": 22,
   "metadata": {},
   "outputs": [],
   "source": [
    "net[\"conv\"].feature = 6"
   ]
  },
  {
   "cell_type": "code",
   "execution_count": 23,
   "metadata": {},
   "outputs": [
    {
     "data": {
      "text/html": [
       "<table><tr><td><img src=\"data:image/gif;base64,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\"/><br/><center>Feature 0</center></td><td><img src=\"data:image/gif;base64,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\"/><br/><center>Feature 1</center></td><td><img src=\"data:image/gif;base64,R0lGODdhrgByAIcAAMTExKamptTU1OLi4np6eoiIiJWVlbq6uvPz82pqaltbWwAAAAAAAAAAAAAAAAAAAAAAAAAAAAAAAAAAAAAAAAAAAAAAAAAAAAAAAAAAAAAAAAAAAAAAAAAAAAAAAAAAAAAAAAAAAAAAAAAAAAAAAAAAAAAAAAAAAAAAAAAAAAAAAAAAAAAAAAAAAAAAAAAAAAAAAAAAAAAAAAAAAAAAAAAAAAAAAAAAAAAAAAAAAAAAAAAAAAAAAAAAAAAAAAAAAAAAAAAAAAAAAAAAAAAAAAAAAAAAAAAAAAAAAAAAAAAAAAAAAAAAAAAAAAAAAAAAAAAAAAAAAAAAAAAAAAAAAAAAAAAAAAAAAAAAAAAAAAAAAAAAAAAAAAAAAAAAAAAAAAAAAAAAAAAAAAAAAAAAAAAAAAAAAAAAAAAAAAAAAAAAAAAAAAAAAAAAAAAAAAAAAAAAAAAAAAAAAAAAAAAAAAAAAAAAAAAAAAAAAAAAAAAAAAAAAAAAAAAAAAAAAAAAAAAAAAAAAAAAAAAAAAAAAAAAAAAAAAAAAAAAAAAAAAAAAAAAAAAAAAAAAAAAAAAAAAAAAAAAAAAAAAAAAAAAAAAAAAAAAAAAAAAAAAAAAAAAAAAAAAAAAAAAAAAAAAAAAAAAAAAAAAAAAAAAAAAAAAAAAAAAAAAAAAAAAAAAAAAAAAAAAAAAAAAAAAAAAAAAAAAAAAAAAAAAAAAAAAAAAAAAAAAAAAAAAAAAAAAAAAAAAAAAAAAAAAAAAAAAAAAAAAAAAAAAAAAAAAAAAAAAAAAAAAAAAAAAAAAAAAAAAAAAAAAAAAAAAAAAAAAAAAAAAAAAAAAAAAAAAAAAAAAAAAAAAAAAAAAAAAAAAAAAAAAAAAAAAAAAAAAAAAAAAAAAAAAAAAAAAAAAAAAAAAAAAAAAAAAAAAAAAAAAAAAAAAAAAAAAAAAAAAAAAAAAAAAAAAAAAAAAAAAAAAAAAAAAAAAAAAAAAAAAAAAAAAAAAAAAAAAAAAAAAAAAAAAAAAAAACwAAAAArgByAEAI/wABCBxIsKDBgwgTKlzIsKHDhxAjSpxIsaLFixgzatzIsaPHjyBDihxJsqTJkyhTShTAsqXLlzAHyJxJs6bNmzhz6tzJU4DPnwCCCh1KtKjRo0iTEhXAtKnTp1CjSp0KoKrVq1izat3KtavXr2DDiuUqoKzZs2jTql3LFoDbt3Djyp1Lt67du3jz6t1bV4Dfv4ADCx5MuDCAw4gTK17MuLHjx5AjS55M2XGBy5gTaCbAuXOCzwZCBxhNurTp0wdSA1jNurXr17Bjy55Nu7bt27hlB9jNu7fv38CD/zZAvIBxAsiTK1/OvLnz59CjJzdAPYD169cPaAfAvbv37+DDi/8HH6C8+fPo06tfz769+/fw48ufT7++/fv48+vfz7+/f4ABBA4kWNDgQYQJFS5k2NDhQ4gRJU6kWNHiRYwSAWzk2NHjR5AhRY4kWdLkSZQpVa5k2dLlS5gxZc6kWdPmTZw5de7k2dMnTAFBhQ4lWtToUaRJlS4F0FTAU6hQAUylWtXqVaxZtWod0NWrVwFhB4wlW9asALRp1a5NC8DtW7hx5c6lW9fuXbx59e6tK8DvX8CBBQ8mXBjAYcSJFS9m3NjxY8iRJU+m7FjAZcyZNW/m3NkzANChRY8mXdr0adSpVa9m3bq1ANixZc+mXdt2bAC5de/m3dv3b+DBhQ8nXtz/OPAAyZUvZ27AeQHoBKRPp17d+nQD2QNs597d+3fw4cWPJ3/APAD06dWvZ9/e/Xv46APMp1/f/n38+fXv59/fP8AAAgcSLGjwIEKBBhYyLODwIcSIEidSfBjgIsaMGjdy7OjxI8iQIkeSLGnyJMqUKleybOnyJcyYMmfSfAngJs6cOnfy7OnzJ9CgQocSLWr0KNKkSpcyber0KdSoUqdSrWr1KtasWrdy7er1K9iwYseSLWv2LNq0atcqFeAWANy4AubSrWuXLoC8evfy7ev3L+DAfwUQLmz4MOLEihczbuwYAGQBkidPBmD5MubMmjdz7tx5AOjQoQWQHmD6NOrU/wJWs27tmjWA2LJn065t+zbu3Lp38+7tGzeC4MKFDygu4Djy5MqXM1cO4Dn06NKnU69u/Tr27Nq3c7cu4Dv48OLHky9vHgD69OrXs2/v/j38+PLn06//XgD+/Pr38+/vH6AAgQMHAjB4EGFChQsZNnT4EGJEiRMbCrB4EWNGjRs5dgTwEWRIkSNJljR5EmVKlStZmhTwEmZMmTNp1rQJAGdOnTt59vT5E2hQoUOJFi0qAGlSpUuZNnWaFEBUqVOpVrV6FWtWrVu5dvWKVUFYA2MDlDVr9kBaAGsFtHX7Fm5ctwDo1rV7F29evXv59vX7F3DgvQUIF05wmEBixQkYG/9wHAByZMmTKR+wDABzZs2bOXf2/Bl0aNGjSZf+HAB1atWrWbd2zdpA7AKzCdS2fRt3bt27eff2bdtA8ADDiRM/cBxAcuXLmTd3/rx5AOnTqVe3fh17du3buXf3nt1AePEFyJc3T95A+gDr2bd3/x5+fPnz6de3fx9/fv34DfT3D7CAwIEECxo8iHBggIUMGzp8CDGixIkUK1q8iDGjxo0cO3r8CDKkyJEkS5o8iTKlypUsW7p8CTOmzJk0a9qUCCCnzp08e/r8CTSo0KFEixo9ijSp0qVMmzp9CjWq1KlUq1q9ijWr1q1cu3r9Cjas2LFky5o9izat2rVs27p9Czf/rty5dOvavYs3r969fPv6/Qs4sOCzAgoDOIxYgOLFjBsvBgA5suTJlCtbvow5s+bNnDt7ziwgNIDRpAWYPo069WkArFu7fg07tuzZtGULuI07t+7dvHv7/g08OIDhAoobNw4gufLlzJs7fw49+nMB1Ktbv459gPbt3Lt7/w4+vPjx5AWYPw8gvfr17Nu7fw8/vnz1Aurbv48//4D9/Pv7BzhA4ECCBQ0eRJhQIUIBDR0CgBhR4kSKFS1exDhxwEaOHAV8HBBS5EiSAkyeRJnyJACWLV2+hBlT5kyaNW3exJlzJgKePXsOACpA6FCiRY0eLQpA6VKmTZ0+hRpV6lSq/1WtXo2KQOvWrQO8CgAbVuxYsmXHAkCbVu1atm3dvoUbV+5cunXfCsCbV+9evn39/gUQWPBgwoUNH0acWPFixo0dIxYQWfJkypUtX8YMQPNmzp09fwYdWvRo0qVNnw4tQPVq1q1dv4YdG8Bs2rVt38adW/du3r19/wauW8Bw4sWNH0eeXDkA5s2dP4ceXfp06tWtX8eefboA7t29fwcfXvx4AOXNn0efXv169u3dv4cfXz57AfXt38efX/9+/gD8AwQgcCDBggYPIkyocCHDhg4fGhQgcSLFihYvYswIYCPHjh4/ggwpciTJkiZPohQpYCXLli5fwowpEwDNmjZv4v/MqXMnz54+fwINulMA0aJGjyJNqnQpgKZOn0KNKnUq1apWr2LNqlWrgK5ev4INK3asVwBmz6JNq3Yt27Zu38KNK3duWwV2DeANoHfv3gN+AQAWIHgw4cKGBwNIrHgx48aOH0OOLHky5cqWISvIbGBzgM6ePR8IDWC0gNKmT6NObRoA69auX8OOLXs27dq2b+POPbsA794JfhMILjwBcQPGAyBPrnw58wPOAUCPLn069erWr2PPrn079+7XA4APL368gfIFzhNIr349+/bqDcAPIH8+/fr27+PPr3//gf4AAAIQOJBgQYMHESZUCCBAQ4cPIRqQWIAiAYsXMWbUeNH5QMcAH0GGFDmSZEmTJ1EeUAmAZUuXL2HGlDmTJssAN3Hm1LmTZ8+dBoAWEEqAaFGjR5EmVbqUadOiBqAGkDp16gGrALBm1bqVa1evXAOEFTuWbFmzZ9GmVbuWbVu0BuDGLTCXbt25BvAG0LuXb1+/fwEHFjyYcGHDhxEnNrCYcQHHjyE7NjA5QGXLlzFn1ryZc2fPn0GHFj2atGgDp1EXUL2adWvXr2GvDjCbdm3bt3Hn1r2bd2/fv4EHFz6ceHHjx5EnV76ceXPnz6FHlz6denXr17Fn176de3fv38GHFz+efHnz59GnV7+efXv37+HHlz+ffn37xgMCADs=\"/><br/><center>Feature 2</center></td><td><img src=\"data:image/gif;base64,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\"/><br/><center>Feature 3</center></td><td><img src=\"data:image/gif;base64,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\"/><br/><center>Feature 4</center></td></tr><tr><td><img src=\"data:image/gif;base64,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\"/><br/><center>Feature 5</center></td><td><img src=\"data:image/gif;base64,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\"/><br/><center>Feature 6</center></td><td><img src=\"data:image/gif;base64,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\"/><br/><center>Feature 7</center></td><td><img src=\"data:image/gif;base64,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\"/><br/><center>Feature 8</center></td><td><img src=\"data:image/gif;base64,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\"/><br/><center>Feature 9</center></td></tr><tr><td><img src=\"data:image/gif;base64,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\"/><br/><center>Feature 10</center></td><td><img src=\"data:image/gif;base64,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\"/><br/><center>Feature 11</center></td><td><img src=\"data:image/gif;base64,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\"/><br/><center>Feature 12</center></td><td><img src=\"data:image/gif;base64,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\"/><br/><center>Feature 13</center></td><td><img src=\"data:image/gif;base64,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\"/><br/><center>Feature 14</center></td></tr><tr><td><img src=\"data:image/gif;base64,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\"/><br/><center>Feature 15</center></td></tr></table>"
      ],
      "text/plain": [
       "<IPython.core.display.HTML object>"
      ]
     },
     "execution_count": 23,
     "metadata": {},
     "output_type": "execute_result"
    }
   ],
   "source": [
    "net.propagate_to_features(\"conv\", get_senses(robot), scale=3)"
   ]
  },
  {
   "cell_type": "code",
   "execution_count": null,
   "metadata": {},
   "outputs": [],
   "source": []
  }
 ],
 "metadata": {
  "kernelspec": {
   "display_name": "Python 3",
   "language": "python",
   "name": "python3"
  },
  "language_info": {
   "codemirror_mode": {
    "name": "ipython",
    "version": 3
   },
   "file_extension": ".py",
   "mimetype": "text/x-python",
   "name": "python",
   "nbconvert_exporter": "python",
   "pygments_lexer": "ipython3",
   "version": "3.5.3"
  },
  "widgets": {
   "application/vnd.jupyter.widget-state+json": {
    "state": {
     "08423084241441eb9091dfd3995ec7fe": {
      "model_module": "jupyter-js-widgets",
      "model_module_version": "~2.1.4",
      "model_name": "LayoutModel",
      "state": {
       "_model_module_version": "~2.1.4",
       "_view_module_version": "~2.1.4"
      }
     },
     "0a486aece37d4ceda35626962a10b644": {
      "model_module": "jupyter-js-widgets",
      "model_module_version": "~2.1.4",
      "model_name": "LayoutModel",
      "state": {
       "_model_module_version": "~2.1.4",
       "_view_module_version": "~2.1.4",
       "height": "20px",
       "padding": "0px 0px 0px 0px",
       "width": "248px"
      }
     },
     "116e160ad9f14e7fb81d6dabde0c37eb": {
      "model_module": "jupyter-js-widgets",
      "model_module_version": "~2.1.4",
      "model_name": "FloatSliderModel",
      "state": {
       "_model_module_version": "~2.1.4",
       "_view_module_version": "~2.1.4",
       "layout": "IPY_MODEL_c3c7c15d20ec4640a9f5fe85ade3682c",
       "orientation": "vertical",
       "readout": false,
       "step": 0.1,
       "value": 51.24999999999999
      }
     },
     "1adceb8e00834cea8cf5b6dbe7433a09": {
      "model_module": "jupyter-js-widgets",
      "model_module_version": "~2.1.4",
      "model_name": "LayoutModel",
      "state": {
       "_model_module_version": "~2.1.4",
       "_view_module_version": "~2.1.4"
      }
     },
     "1c00298cd5294f93a5bd80d8eb821703": {
      "model_module": "jupyter-js-widgets",
      "model_module_version": "~2.1.4",
      "model_name": "ImageModel",
      "state": {
       "_b64value": "iVBORw0KGgoAAAANSUhEUgAAADwAAAAoCAIAAAAt2Q6oAAAA8UlEQVR4nO3WoQ7CMBCA4d5d++gYggJDwMwgEJshATHkEIRgUCCwkxiwZAhGMxq2bIRcaXKfWOb655b0BvExV6FB3wHfkGguEs1ForlINBeJ5qJ9B5TuhwzeKaWqz+qLt+jbNkVEIgIARLRBbXSOztPYDqBuEg2KokBEYwwRdT3a+hx9SiJ8sZOofji/yuhdNCQirTURPVv9ZjXTm8kAAIwxvks6+OuJ1pFoLhLNJchouFzPSql+b+rc0w3L5Vcb0Vnj7f89ymjHeDQPL7rBLFqGF/0riyQLL9qxXu3Di+4kyCtPorlINBeJ5iLRXIKMfgDJGDkVat0rzwAAAABJRU5ErkJggg==",
       "_model_module_version": "~2.1.4",
       "_view_module_version": "~2.1.4",
       "layout": "IPY_MODEL_826d8904866c4e82ba2a9a5221fd2631",
       "width": "240"
      }
     },
     "2e5b657e21fa4e3fb459a974ef89ffea": {
      "model_module": "jupyter-js-widgets",
      "model_module_version": "~2.1.4",
      "model_name": "FloatSliderModel",
      "state": {
       "_model_module_version": "~2.1.4",
       "_view_module_version": "~2.1.4",
       "layout": "IPY_MODEL_0a486aece37d4ceda35626962a10b644",
       "readout": false,
       "step": 0.1,
       "value": 99.44295769917836
      }
     },
     "2e5d973073534c3eb26e448b646a8c7d": {
      "model_module": "jupyter-js-widgets",
      "model_module_version": "~2.1.4",
      "model_name": "OutputModel",
      "state": {
       "_dom_classes": [],
       "_model_module": "jupyter-js-widgets",
       "_model_module_version": "~2.1.4",
       "_view_module": "jupyter-js-widgets",
       "_view_module_version": "~2.1.4",
       "layout": "IPY_MODEL_39f10ac0d7e94b6a998cecbcde4c3c24",
       "msg_throttle": 1
      }
     },
     "35e0bf572944420cb3eb23722feea99e": {
      "model_module": "jupyter-js-widgets",
      "model_module_version": "~2.1.4",
      "model_name": "LayoutModel",
      "state": {
       "_model_module_version": "~2.1.4",
       "_view_module_version": "~2.1.4"
      }
     },
     "39f10ac0d7e94b6a998cecbcde4c3c24": {
      "model_module": "jupyter-js-widgets",
      "model_module_version": "~2.1.4",
      "model_name": "LayoutModel",
      "state": {
       "_model_module_version": "~2.1.4",
       "_view_module_version": "~2.1.4"
      }
     },
     "497f35579b594d33b9416aa809c0bbe3": {
      "model_module": "jupyter-js-widgets",
      "model_module_version": "~2.1.4",
      "model_name": "LayoutModel",
      "state": {
       "_model_module_version": "~2.1.4",
       "_view_module_version": "~2.1.4"
      }
     },
     "4bdda6111b9546a697c36c05475b6a3e": {
      "model_module": "jupyter-js-widgets",
      "model_module_version": "~2.1.4",
      "model_name": "TextModel",
      "state": {
       "_model_module_version": "~2.1.4",
       "_view_module_version": "~2.1.4",
       "description": "Time:",
       "layout": "IPY_MODEL_e558e089bd89408784f5d3d9c965f2aa",
       "value": "0.10 seconds"
      }
     },
     "5527ccfc5f274a7dbc6ce3afe206b84b": {
      "model_module": "jupyter-js-widgets",
      "model_module_version": "~2.1.4",
      "model_name": "CheckboxModel",
      "state": {
       "_model_module_version": "~2.1.4",
       "_view_module_version": "~2.1.4",
       "description": "Update GUI",
       "disabled": false,
       "layout": "IPY_MODEL_752f6bab412348b7b4fbcd2a3a3dd15a",
       "value": true
      }
     },
     "55d26593c20a4c6fa86765e4fa753a11": {
      "model_module": "jupyter-js-widgets",
      "model_module_version": "~2.1.4",
      "model_name": "LayoutModel",
      "state": {
       "_model_module_version": "~2.1.4",
       "_view_module_version": "~2.1.4"
      }
     },
     "5d02f863f83c4124aa1dea90e55f836c": {
      "model_module": "jupyter-js-widgets",
      "model_module_version": "~2.1.4",
      "model_name": "HTMLModel",
      "state": {
       "_model_module_version": "~2.1.4",
       "_view_module_version": "~2.1.4",
       "layout": "IPY_MODEL_08423084241441eb9091dfd3995ec7fe",
       "value": "<svg baseProfile=\"full\" height=\"240\" version=\"1.1\" width=\"240\" xmlns=\"http://www.w3.org/2000/svg\" xmlns:ev=\"http://www.w3.org/2001/xml-events\" xmlns:xlink=\"http://www.w3.org/1999/xlink\"><defs /><rect fill=\"white\" height=\"240\" stroke=\"#000000\" stroke-width=\"1\" width=\"240\" x=\"0\" y=\"0\" /><rect fill=\"#eef3dd\" height=\"240.0\" stroke=\"#bebebe\" stroke-width=\"1\" width=\"240.0\" x=\"0.0\" y=\"0.0\" /><circle cx=\"120.0\" cy=\"195.0\" fill=\"#ffff00\" r=\"15.0\" stroke=\"#ffff00\" stroke-width=\"1\" /><line fill=\"#800080\" stroke=\"#add8e6\" stroke-width=\"1\" x1=\"199.29647346587737\" x2=\"0.0\" y1=\"111.37109959820461\" y2=\"118.34932799999999\" /><line fill=\"#800080\" stroke=\"#add8e6\" stroke-width=\"1\" x1=\"200.64858482032437\" x2=\"0.0\" y1=\"107.12118255369946\" y2=\"21.973026000000004\" /><line fill=\"#800080\" stroke=\"#add8e6\" stroke-width=\"1\" x1=\"202.98412783209295\" x2=\"108.20933355871675\" y1=\"105.23830209010676\" y2=\"0.0\" /><line fill=\"#800080\" stroke=\"#add8e6\" stroke-width=\"1\" x1=\"206.529433775271\" x2=\"174.84110042201567\" y1=\"103.61324646974592\" y2=\"0.0\" /><line fill=\"#800080\" stroke=\"#add8e6\" stroke-width=\"1\" x1=\"212.52575915041191\" x2=\"236.38811675880686\" y1=\"103.4032893421199\" y2=\"0.0\" /><line fill=\"#800080\" stroke=\"#add8e6\" stroke-width=\"1\" x1=\"216.176043657403\" x2=\"240.0\" y1=\"104.77639640932952\" y2=\"74.27725800000002\" /><line fill=\"#800080\" stroke=\"#add8e6\" stroke-width=\"1\" x1=\"218.63756094574717\" x2=\"240.0\" y1=\"106.49131117082139\" y2=\"95.60408999999999\" /><line fill=\"#800080\" stroke=\"#add8e6\" stroke-width=\"1\" x1=\"220.28361227887063\" x2=\"240.0\" y1=\"110.63624965151354\" y2=\"109.94589599999998\" /><line fill=\"#800080\" stroke=\"#add8e6\" stroke-width=\"1\" x1=\"220.70352653412263\" x2=\"240.0\" y1=\"122.62890040179542\" y2=\"121.95324600000001\" /><line fill=\"#800080\" stroke=\"#add8e6\" stroke-width=\"1\" x1=\"219.35141517967563\" x2=\"240.0\" y1=\"126.87881744630057\" y2=\"135.641346\" /><line fill=\"#800080\" stroke=\"#add8e6\" stroke-width=\"1\" x1=\"217.01587216790705\" x2=\"240.0\" y1=\"128.76169790989326\" y2=\"154.283364\" /><line fill=\"#800080\" stroke=\"#add8e6\" stroke-width=\"1\" x1=\"213.470566224729\" x2=\"240.0\" y1=\"130.3867535302541\" y2=\"217.131636\" /><line fill=\"#800080\" stroke=\"#add8e6\" stroke-width=\"1\" x1=\"207.47424084958809\" x2=\"182.22726449088904\" y1=\"130.59671065788012\" y2=\"240.0\" /><line fill=\"#800080\" stroke=\"#add8e6\" stroke-width=\"1\" x1=\"203.823956342597\" x2=\"117.29260723482744\" y1=\"129.2236035906705\" y2=\"240.0\" /><line fill=\"#800080\" stroke=\"#add8e6\" stroke-width=\"1\" x1=\"201.36243905425283\" x2=\"0.0\" y1=\"127.50868882917862\" y2=\"230.131668\" /><line fill=\"#800080\" stroke=\"#add8e6\" stroke-width=\"1\" x1=\"199.71638772112937\" x2=\"0.0\" y1=\"123.36375034848649\" y2=\"130.356678\" /><line fill=\"#800080\" stroke=\"#a020f0\" stroke-width=\"1\" x1=\"210.0\" x2=\"0.0\" y1=\"117.00000000000001\" y2=\"5.366183999999992\" /><line fill=\"#800080\" stroke=\"#a020f0\" stroke-width=\"1\" x1=\"210.0\" x2=\"240.0\" y1=\"117.00000000000001\" y2=\"98.250024\" /><line fill=\"#800080\" stroke=\"#ffa500\" stroke-width=\"1\" x1=\"120.0\" x2=\"199.03402705634483\" y1=\"195.0\" y2=\"103.87569287927845\" /><line fill=\"#800080\" stroke=\"#ffa500\" stroke-width=\"1\" x1=\"120.0\" x2=\"220.02116586933806\" y1=\"195.0\" y2=\"103.14084293258738\" /><polygon fill=\"red\" points=\"204.7305361627287,103.67623360803373 199.19149490206433,108.37293691063414 199.82136628494237,126.36191303605695 205.67534323704578,130.65969779616793 215.2694638372713,130.3237663919663 220.80850509793567,125.62706308936588 220.17863371505763,107.63808696394308 214.32465676295422,103.3403022038321\" stroke=\"red\" stroke-width=\"1\" /><polygon points=\"-3.0,-3.0 0,0 3.0,-3.0 0,3.0\" stroke=\"black\" stroke-width=\"1\" transform=\"translate(210.0,117.00000000000001) rotate(177.9946477170421)\" /><polygon fill=\"black\" points=\"213.30385524640815,108.4791701982271 213.47182094850893,113.27623049833983 206.2762304983398,113.52817905149107 206.108264796239,108.73111875137835\" stroke=\"black\" stroke-width=\"1\" /><circle cx=\"199.03402705634483\" cy=\"103.87569287927845\" fill=\"yellow\" r=\"1.5\" stroke=\"orange\" stroke-width=\"1\" /><circle cx=\"220.02116586933806\" cy=\"103.14084293258738\" fill=\"yellow\" r=\"1.5\" stroke=\"orange\" stroke-width=\"1\" /></svg>"
      }
     },
     "6d1f771c19254382accb04cae6f7b62e": {
      "model_module": "jupyter-js-widgets",
      "model_module_version": "~2.1.4",
      "model_name": "HBoxModel",
      "state": {
       "_model_module_version": "~2.1.4",
       "_view_module_version": "~2.1.4",
       "children": [
        "IPY_MODEL_5527ccfc5f274a7dbc6ce3afe206b84b",
        "IPY_MODEL_4bdda6111b9546a697c36c05475b6a3e"
       ],
       "layout": "IPY_MODEL_b0fe5bc26a9a44bb95dcf2756e7f5088"
      }
     },
     "7001bc75c2104b43a6bd388d787ba44a": {
      "model_module": "jupyter-js-widgets",
      "model_module_version": "~2.1.4",
      "model_name": "VBoxModel",
      "state": {
       "_model_module_version": "~2.1.4",
       "_view_module_version": "~2.1.4",
       "children": [
        "IPY_MODEL_d0cefa9ffa6841c8b59ef0278cc97beb",
        "IPY_MODEL_852d97123f894e63b3ebef0aef4d9a3c",
        "IPY_MODEL_2e5d973073534c3eb26e448b646a8c7d"
       ],
       "layout": "IPY_MODEL_d61e3a6a6d9a409e8f9f65f4541dfd99"
      }
     },
     "752f6bab412348b7b4fbcd2a3a3dd15a": {
      "model_module": "jupyter-js-widgets",
      "model_module_version": "~2.1.4",
      "model_name": "LayoutModel",
      "state": {
       "_model_module_version": "~2.1.4",
       "_view_module_version": "~2.1.4"
      }
     },
     "826d8904866c4e82ba2a9a5221fd2631": {
      "model_module": "jupyter-js-widgets",
      "model_module_version": "~2.1.4",
      "model_name": "LayoutModel",
      "state": {
       "_model_module_version": "~2.1.4",
       "_view_module_version": "~2.1.4"
      }
     },
     "827d29fe3e44461ea1e5e05c88098d68": {
      "model_module": "jupyter-js-widgets",
      "model_module_version": "~2.1.4",
      "model_name": "LayoutModel",
      "state": {
       "_model_module_version": "~2.1.4",
       "_view_module_version": "~2.1.4"
      }
     },
     "852d97123f894e63b3ebef0aef4d9a3c": {
      "model_module": "jupyter-js-widgets",
      "model_module_version": "~2.1.4",
      "model_name": "HBoxModel",
      "state": {
       "_model_module_version": "~2.1.4",
       "_view_module_version": "~2.1.4",
       "children": [
        "IPY_MODEL_dd4d62d9e58842aa9d84a32eb9cb982b",
        "IPY_MODEL_9b7c5fb54cc14aff95c4da6406a0f9ed",
        "IPY_MODEL_d7171539ef4d427cbdcf2195a6ca282d"
       ],
       "layout": "IPY_MODEL_aa94d9d63ae740c3af61b752640a80eb"
      }
     },
     "89534f4f8b8340549bf750fb7dfe0a7a": {
      "model_module": "jupyter-js-widgets",
      "model_module_version": "~2.1.4",
      "model_name": "LayoutModel",
      "state": {
       "_model_module_version": "~2.1.4",
       "_view_module_version": "~2.1.4"
      }
     },
     "9975e40b042c4cd0acf0d02d9b6a3849": {
      "model_module": "jupyter-js-widgets",
      "model_module_version": "~2.1.4",
      "model_name": "HBoxModel",
      "state": {
       "_model_module_version": "~2.1.4",
       "_view_module_version": "~2.1.4",
       "children": [
        "IPY_MODEL_116e160ad9f14e7fb81d6dabde0c37eb",
        "IPY_MODEL_5d02f863f83c4124aa1dea90e55f836c"
       ],
       "layout": "IPY_MODEL_bd23f5a3366547359806ed9502494e70"
      }
     },
     "9af44a5cae7246a89a20a5fbd5a0f130": {
      "model_module": "jupyter-js-widgets",
      "model_module_version": "~2.1.4",
      "model_name": "HBoxModel",
      "state": {
       "_model_module_version": "~2.1.4",
       "_view_module_version": "~2.1.4",
       "children": [
        "IPY_MODEL_c1ceded972004efa89bf5d3ee4943378",
        "IPY_MODEL_d37e45d89f4640d9858bfe2a0f53ad63"
       ],
       "layout": "IPY_MODEL_1adceb8e00834cea8cf5b6dbe7433a09"
      }
     },
     "9b7c5fb54cc14aff95c4da6406a0f9ed": {
      "model_module": "jupyter-js-widgets",
      "model_module_version": "~2.1.4",
      "model_name": "PlayModel",
      "state": {
       "_model_module_version": "~2.1.4",
       "_view_module_version": "~2.1.4",
       "layout": "IPY_MODEL_827d29fe3e44461ea1e5e05c88098d68",
       "max": 1000000
      }
     },
     "9c61c7e69e704f0cbddb4bfa789e9eb2": {
      "model_module": "jupyter-js-widgets",
      "model_module_version": "~2.1.4",
      "model_name": "ButtonStyleModel",
      "state": {
       "_model_module_version": "~2.1.4",
       "_view_module_version": "~2.1.4"
      }
     },
     "a64f5b5a05b545fb8c99ab1de942f334": {
      "model_module": "jupyter-js-widgets",
      "model_module_version": "~2.1.4",
      "model_name": "LayoutModel",
      "state": {
       "_model_module_version": "~2.1.4",
       "_view_module_version": "~2.1.4"
      }
     },
     "aa94d9d63ae740c3af61b752640a80eb": {
      "model_module": "jupyter-js-widgets",
      "model_module_version": "~2.1.4",
      "model_name": "LayoutModel",
      "state": {
       "_model_module_version": "~2.1.4",
       "_view_module_version": "~2.1.4"
      }
     },
     "ad478466503948e3ac134c0d813b347d": {
      "model_module": "jupyter-js-widgets",
      "model_module_version": "~2.1.4",
      "model_name": "FloatSliderModel",
      "state": {
       "_model_module_version": "~2.1.4",
       "_view_module_version": "~2.1.4",
       "layout": "IPY_MODEL_eef4e9caeead4949aec10f216c39e9bd",
       "readout": false,
       "step": 0.1,
       "value": 87.5
      }
     },
     "b0fe5bc26a9a44bb95dcf2756e7f5088": {
      "model_module": "jupyter-js-widgets",
      "model_module_version": "~2.1.4",
      "model_name": "LayoutModel",
      "state": {
       "_model_module_version": "~2.1.4",
       "_view_module_version": "~2.1.4"
      }
     },
     "ba31d73a384e45dcbda53395c2bf5992": {
      "model_module": "jupyter-js-widgets",
      "model_module_version": "~2.1.4",
      "model_name": "LayoutModel",
      "state": {
       "_model_module_version": "~2.1.4",
       "_view_module_version": "~2.1.4"
      }
     },
     "bd23f5a3366547359806ed9502494e70": {
      "model_module": "jupyter-js-widgets",
      "model_module_version": "~2.1.4",
      "model_name": "LayoutModel",
      "state": {
       "_model_module_version": "~2.1.4",
       "_view_module_version": "~2.1.4"
      }
     },
     "c1ceded972004efa89bf5d3ee4943378": {
      "model_module": "jupyter-js-widgets",
      "model_module_version": "~2.1.4",
      "model_name": "VBoxModel",
      "state": {
       "_model_module_version": "~2.1.4",
       "_view_module_version": "~2.1.4",
       "children": [
        "IPY_MODEL_9975e40b042c4cd0acf0d02d9b6a3849",
        "IPY_MODEL_ad478466503948e3ac134c0d813b347d"
       ],
       "layout": "IPY_MODEL_89534f4f8b8340549bf750fb7dfe0a7a"
      }
     },
     "c2195209deb34c269574ca9023bd156f": {
      "model_module": "jupyter-js-widgets",
      "model_module_version": "~2.1.4",
      "model_name": "ButtonStyleModel",
      "state": {
       "_model_module_version": "~2.1.4",
       "_view_module_version": "~2.1.4"
      }
     },
     "c3c7c15d20ec4640a9f5fe85ade3682c": {
      "model_module": "jupyter-js-widgets",
      "model_module_version": "~2.1.4",
      "model_name": "LayoutModel",
      "state": {
       "_model_module_version": "~2.1.4",
       "_view_module_version": "~2.1.4",
       "height": "248px",
       "padding": "0px 0px 0px 0px",
       "width": "10px"
      }
     },
     "d0cefa9ffa6841c8b59ef0278cc97beb": {
      "model_module": "jupyter-js-widgets",
      "model_module_version": "~2.1.4",
      "model_name": "VBoxModel",
      "state": {
       "_model_module_version": "~2.1.4",
       "_view_module_version": "~2.1.4",
       "children": [
        "IPY_MODEL_6d1f771c19254382accb04cae6f7b62e",
        "IPY_MODEL_9af44a5cae7246a89a20a5fbd5a0f130"
       ],
       "layout": "IPY_MODEL_dd4313da261c4547902a7c752f0fc454"
      }
     },
     "d37e45d89f4640d9858bfe2a0f53ad63": {
      "model_module": "jupyter-js-widgets",
      "model_module_version": "~2.1.4",
      "model_name": "VBoxModel",
      "state": {
       "_model_module_version": "~2.1.4",
       "_view_module_version": "~2.1.4",
       "children": [
        "IPY_MODEL_1c00298cd5294f93a5bd80d8eb821703",
        "IPY_MODEL_2e5b657e21fa4e3fb459a974ef89ffea"
       ],
       "layout": "IPY_MODEL_a64f5b5a05b545fb8c99ab1de942f334"
      }
     },
     "d61e3a6a6d9a409e8f9f65f4541dfd99": {
      "model_module": "jupyter-js-widgets",
      "model_module_version": "~2.1.4",
      "model_name": "LayoutModel",
      "state": {
       "_model_module_version": "~2.1.4",
       "_view_module_version": "~2.1.4"
      }
     },
     "d7171539ef4d427cbdcf2195a6ca282d": {
      "model_module": "jupyter-js-widgets",
      "model_module_version": "~2.1.4",
      "model_name": "ButtonModel",
      "state": {
       "_model_module_version": "~2.1.4",
       "_view_module_version": "~2.1.4",
       "description": "Clear",
       "layout": "IPY_MODEL_ba31d73a384e45dcbda53395c2bf5992",
       "style": "IPY_MODEL_c2195209deb34c269574ca9023bd156f"
      }
     },
     "d983b94c07a44bcf96b3b6294d43c01f": {
      "model_module": "jupyter-js-widgets",
      "model_module_version": "~2.1.4",
      "model_name": "LayoutModel",
      "state": {
       "_model_module_version": "~2.1.4",
       "_view_module_version": "~2.1.4"
      }
     },
     "dd4313da261c4547902a7c752f0fc454": {
      "model_module": "jupyter-js-widgets",
      "model_module_version": "~2.1.4",
      "model_name": "LayoutModel",
      "state": {
       "_model_module_version": "~2.1.4",
       "_view_module_version": "~2.1.4"
      }
     },
     "dd4d62d9e58842aa9d84a32eb9cb982b": {
      "model_module": "jupyter-js-widgets",
      "model_module_version": "~2.1.4",
      "model_name": "ButtonModel",
      "state": {
       "_model_module_version": "~2.1.4",
       "_view_module_version": "~2.1.4",
       "icon": "step-forward",
       "layout": "IPY_MODEL_497f35579b594d33b9416aa809c0bbe3",
       "style": "IPY_MODEL_9c61c7e69e704f0cbddb4bfa789e9eb2"
      }
     },
     "e558e089bd89408784f5d3d9c965f2aa": {
      "model_module": "jupyter-js-widgets",
      "model_module_version": "~2.1.4",
      "model_name": "LayoutModel",
      "state": {
       "_model_module_version": "~2.1.4",
       "_view_module_version": "~2.1.4"
      }
     },
     "eef4e9caeead4949aec10f216c39e9bd": {
      "model_module": "jupyter-js-widgets",
      "model_module_version": "~2.1.4",
      "model_name": "LayoutModel",
      "state": {
       "_model_module_version": "~2.1.4",
       "_view_module_version": "~2.1.4",
       "height": "30px",
       "padding": "0px 0px 0px 10px",
       "width": "260px"
      }
     }
    },
    "version_major": 1,
    "version_minor": 0
   }
  }
 },
 "nbformat": 4,
 "nbformat_minor": 2
}
