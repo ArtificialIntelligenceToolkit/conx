{
 "cells": [
  {
   "cell_type": "markdown",
   "metadata": {},
   "source": [
    "# Robot Simulation"
   ]
  },
  {
   "cell_type": "code",
   "execution_count": 1,
   "metadata": {},
   "outputs": [],
   "source": [
    "from jyro.simulator import (Robot, Pioneer, Pioneer16Sonars, \n",
    "                            PioneerFrontLightSensors, Camera,\n",
    "                            VSimulator)\n",
    "import random\n",
    "import numpy as np"
   ]
  },
  {
   "cell_type": "code",
   "execution_count": 2,
   "metadata": {},
   "outputs": [],
   "source": [
    "robot = Pioneer(\"Pioneer\", 3.5, 2, 0)"
   ]
  },
  {
   "cell_type": "code",
   "execution_count": 3,
   "metadata": {},
   "outputs": [
    {
     "data": {
      "image/svg+xml": [
       "<svg baseProfile=\"full\" height=\"240\" version=\"1.1\" width=\"240\" xmlns=\"http://www.w3.org/2000/svg\" xmlns:ev=\"http://www.w3.org/2001/xml-events\" xmlns:xlink=\"http://www.w3.org/1999/xlink\"><defs /><line fill=\"#800080\" stroke=\"#d3d3d3\" stroke-width=\"1\" x1=\"78.0\" x2=\"-1842.0\" y1=\"96.0\" y2=\"95.9999999999999\" /><line fill=\"#800080\" stroke=\"#d3d3d3\" stroke-width=\"1\" x1=\"84.0\" x2=\"-1656.110951110368\" y1=\"79.19999999999999\" y2=\"-732.227062542143\" /><line fill=\"#800080\" stroke=\"#d3d3d3\" stroke-width=\"1\" x1=\"93.60000000000001\" x2=\"-1140.5522105981554\" y1=\"72.00000000000001\" y2=\"-1398.805330788438\" /><line fill=\"#800080\" stroke=\"#d3d3d3\" stroke-width=\"1\" x1=\"108.0\" x2=\"-388.9325665968398\" y1=\"66.0\" y2=\"-1788.5775864750112\" /><line fill=\"#800080\" stroke=\"#d3d3d3\" stroke-width=\"1\" x1=\"132.0\" x2=\"628.9325665968398\" y1=\"66.0\" y2=\"-1788.5775864750112\" /><line fill=\"#800080\" stroke=\"#d3d3d3\" stroke-width=\"1\" x1=\"146.4\" x2=\"1380.5522105981554\" y1=\"72.00000000000001\" y2=\"-1398.805330788438\" /><line fill=\"#800080\" stroke=\"#d3d3d3\" stroke-width=\"1\" x1=\"156.0\" x2=\"1896.110951110368\" y1=\"79.19999999999999\" y2=\"-732.227062542143\" /><line fill=\"#800080\" stroke=\"#d3d3d3\" stroke-width=\"1\" x1=\"162.0\" x2=\"2082.0\" y1=\"96.0\" y2=\"95.9999999999999\" /><line fill=\"#800080\" stroke=\"#d3d3d3\" stroke-width=\"1\" x1=\"162.0\" x2=\"2082.0\" y1=\"144.00000000000003\" y2=\"143.9999999999999\" /><line fill=\"#800080\" stroke=\"#d3d3d3\" stroke-width=\"1\" x1=\"156.0\" x2=\"1896.1109511103682\" y1=\"160.8\" y2=\"972.2270625421423\" /><line fill=\"#800080\" stroke=\"#d3d3d3\" stroke-width=\"1\" x1=\"146.4\" x2=\"1380.5522105981554\" y1=\"168.0\" y2=\"1638.805330788438\" /><line fill=\"#800080\" stroke=\"#d3d3d3\" stroke-width=\"1\" x1=\"132.0\" x2=\"628.9325665968399\" y1=\"174.0\" y2=\"2028.5775864750112\" /><line fill=\"#800080\" stroke=\"#d3d3d3\" stroke-width=\"1\" x1=\"107.99999999999999\" x2=\"-388.9325665968404\" y1=\"174.0\" y2=\"2028.5775864750108\" /><line fill=\"#800080\" stroke=\"#d3d3d3\" stroke-width=\"1\" x1=\"93.60000000000001\" x2=\"-1140.5522105981559\" y1=\"168.0\" y2=\"1638.8053307884377\" /><line fill=\"#800080\" stroke=\"#d3d3d3\" stroke-width=\"1\" x1=\"84.0\" x2=\"-1656.1109511103682\" y1=\"160.8\" y2=\"972.2270625421426\" /><line fill=\"#800080\" stroke=\"#d3d3d3\" stroke-width=\"1\" x1=\"78.0\" x2=\"-1842.0\" y1=\"144.0\" y2=\"143.99999999999986\" /><polygon fill=\"red\" points=\"100.8,66.0 78.0,84.0 78.0,156.0 100.8,174.0 139.2,174.0 162.0,156.0 162.0,84.0 139.2,66.0\" stroke=\"red\" stroke-width=\"1\" /><polygon points=\"-12.0,-12.0 0,0 12.0,-12.0 0,12.0\" stroke=\"black\" stroke-width=\"1\" transform=\"translate(120.0,120.0) rotate(180.0)\" /><polygon fill=\"black\" points=\"134.4,86.39999999999999 134.4,105.6 105.6,105.6 105.6,86.39999999999999\" stroke=\"black\" stroke-width=\"1\" /><circle cx=\"78.0\" cy=\"66.0\" fill=\"yellow\" r=\"6.0\" stroke=\"orange\" stroke-width=\"1\" /><circle cx=\"162.0\" cy=\"66.0\" fill=\"yellow\" r=\"6.0\" stroke=\"orange\" stroke-width=\"1\" /></svg>"
      ],
      "text/plain": [
       "<jyro.simulator.robot.Pioneer at 0x7f5b50fb1dd8>"
      ]
     },
     "execution_count": 3,
     "metadata": {},
     "output_type": "execute_result"
    }
   ],
   "source": [
    "robot.addDevice(Pioneer16Sonars())\n",
    "robot.addDevice(Camera())\n",
    "light_sensors = PioneerFrontLightSensors(3.0)\n",
    "light_sensors.lightMode = 'ambient'\n",
    "robot.addDevice(light_sensors)"
   ]
  },
  {
   "cell_type": "code",
   "execution_count": 4,
   "metadata": {},
   "outputs": [],
   "source": [
    "def worldf(physics):\n",
    "    physics.addBox(0, 0, 4, 4, fill=\"backgroundgreen\", wallcolor=\"gray\")\n",
    "    physics.addLight(2, 0.75, 1.0) # increased brightness for new linear version of lights"
   ]
  },
  {
   "cell_type": "code",
   "execution_count": 5,
   "metadata": {},
   "outputs": [
    {
     "data": {
      "application/vnd.jupyter.widget-view+json": {
       "model_id": "456dffcc33ea46809ec21a3d993c35eb",
       "version_major": 2,
       "version_minor": 0
      },
      "text/html": [
       "<p>Failed to display Jupyter Widget of type <code>VBox</code>.</p>\n",
       "<p>\n",
       "  If you're reading this message in Jupyter Notebook or JupyterLab, it may mean\n",
       "  that the widgets JavaScript is still loading. If this message persists, it\n",
       "  likely means that the widgets JavaScript library is either not installed or\n",
       "  not enabled. See the <a href=\"https://ipywidgets.readthedocs.io/en/stable/user_install.html\">Jupyter\n",
       "  Widgets Documentation</a> for setup instructions.\n",
       "</p>\n",
       "<p>\n",
       "  If you're reading this message in another notebook frontend (for example, a static\n",
       "  rendering on GitHub or <a href=\"https://nbviewer.jupyter.org/\">NBViewer</a>),\n",
       "  it may mean that your frontend doesn't currently support widgets.\n",
       "</p>\n"
      ],
      "text/plain": [
       "VBox(children=(VBox(children=(HBox(children=(Checkbox(value=True, description='Update GUI'), Checkbox(value=False, description='Trace Path'), Text(value='0.0 seconds', description='Time:'))), HBox(children=(VBox(children=(HBox(children=(FloatSlider(value=0.0, layout=Layout(height='248px', padding='0px 0px 0px 0px', width='10px'), orientation='vertical', readout=False), HTML(value='<svg baseProfile=\"full\" height=\"240\" version=\"1.1\" width=\"240\" xmlns=\"http://www.w3.org/2000/svg\" xmlns:ev=\"http://www.w3.org/2001/xml-events\" xmlns:xlink=\"http://www.w3.org/1999/xlink\"><defs /><rect fill=\"#eef3dd\" height=\"240.0\" stroke=\"#bebebe\" stroke-width=\"1\" width=\"240.0\" x=\"0.0\" y=\"0.0\" /><circle cx=\"120.0\" cy=\"195.0\" fill=\"#ffff00\" r=\"15.0\" stroke=\"#ffff00\" stroke-width=\"1\" /><line fill=\"#800080\" stroke=\"#add8e6\" stroke-width=\"1\" x1=\"199.5\" x2=\"0.0\" y1=\"114.0\" y2=\"114.0\" /><line fill=\"#800080\" stroke=\"#add8e6\" stroke-width=\"1\" x1=\"201.0\" x2=\"0.0\" y1=\"109.80000000000001\" y2=\"16.07215199999999\" /><line fill=\"#800080\" stroke=\"#add8e6\" stroke-width=\"1\" x1=\"203.4\" x2=\"112.77724019461742\" y1=\"107.99999999999999\" y2=\"0.0\" /><line fill=\"#800080\" stroke=\"#add8e6\" stroke-width=\"1\" x1=\"207.0\" x2=\"178.4634099424212\" y1=\"106.5\" y2=\"0.0\" /><line fill=\"#800080\" stroke=\"#add8e6\" stroke-width=\"1\" x1=\"213.0\" x2=\"240.0\" y1=\"106.5\" y2=\"5.734632000000062\" /><line fill=\"#800080\" stroke=\"#add8e6\" stroke-width=\"1\" x1=\"216.6\" x2=\"240.0\" y1=\"107.99999999999999\" y2=\"80.11296600000001\" /><line fill=\"#800080\" stroke=\"#add8e6\" stroke-width=\"1\" x1=\"219.0\" x2=\"240.0\" y1=\"109.80000000000001\" y2=\"100.007538\" /><line fill=\"#800080\" stroke=\"#add8e6\" stroke-width=\"1\" x1=\"220.5\" x2=\"240.0\" y1=\"114.0\" y2=\"114.0\" /><line fill=\"#800080\" stroke=\"#add8e6\" stroke-width=\"1\" x1=\"220.5\" x2=\"240.0\" y1=\"126.0\" y2=\"126.0\" /><line fill=\"#800080\" stroke=\"#add8e6\" stroke-width=\"1\" x1=\"219.0\" x2=\"240.0\" y1=\"130.2\" y2=\"139.992462\" /><line fill=\"#800080\" stroke=\"#add8e6\" stroke-width=\"1\" x1=\"216.6\" x2=\"240.0\" y1=\"132.0\" y2=\"159.88703399999997\" /><line fill=\"#800080\" stroke=\"#add8e6\" stroke-width=\"1\" x1=\"213.0\" x2=\"240.0\" y1=\"133.5\" y2=\"234.26536799999994\" /><line fill=\"#800080\" stroke=\"#add8e6\" stroke-width=\"1\" x1=\"207.0\" x2=\"178.4634099424212\" y1=\"133.5\" y2=\"240.0\" /><line fill=\"#800080\" stroke=\"#add8e6\" stroke-width=\"1\" x1=\"203.4\" x2=\"112.7772401946174\" y1=\"132.0\" y2=\"240.0\" /><line fill=\"#800080\" stroke=\"#add8e6\" stroke-width=\"1\" x1=\"201.0\" x2=\"0.0\" y1=\"130.2\" y2=\"223.927848\" /><line fill=\"#800080\" stroke=\"#add8e6\" stroke-width=\"1\" x1=\"199.5\" x2=\"0.0\" y1=\"126.0\" y2=\"126.0\" /><line fill=\"#800080\" stroke=\"#a020f0\" stroke-width=\"1\" x1=\"210.0\" x2=\"2.1539193796210117\" y1=\"120.0\" y2=\"0.0\" /><line fill=\"#800080\" stroke=\"#a020f0\" stroke-width=\"1\" x1=\"210.0\" x2=\"240.0\" y1=\"120.0\" y2=\"102.67948799999999\" /><line fill=\"#800080\" stroke=\"#ffa500\" stroke-width=\"1\" x1=\"120.0\" x2=\"199.5\" y1=\"195.0\" y2=\"106.5\" /><line fill=\"#800080\" stroke=\"#ffa500\" stroke-width=\"1\" x1=\"120.0\" x2=\"220.5\" y1=\"195.0\" y2=\"106.5\" /><polygon fill=\"red\" points=\"205.2,106.5 199.5,111.0 199.5,129.0 205.2,133.5 214.8,133.5 220.5,129.0 220.5,111.0 214.8,106.5\" stroke=\"red\" stroke-width=\"1\" /><polygon points=\"-3.0,-3.0 0,0 3.0,-3.0 0,3.0\" stroke=\"black\" stroke-width=\"1\" transform=\"translate(210.0,120.0) rotate(180.0)\" /><polygon fill=\"black\" points=\"213.6,111.6 213.6,116.39999999999999 206.4,116.39999999999999 206.4,111.6\" stroke=\"black\" stroke-width=\"1\" /><circle cx=\"199.5\" cy=\"106.5\" fill=\"yellow\" r=\"1.5\" stroke=\"orange\" stroke-width=\"1\" /><circle cx=\"220.5\" cy=\"106.5\" fill=\"yellow\" r=\"1.5\" stroke=\"orange\" stroke-width=\"1\" /></svg>'))), FloatSlider(value=0.0, layout=Layout(height='30px', padding='0px 0px 0px 10px', width='260px'), readout=False))), VBox(children=(Image(value=b'\\x89PNG\\r\\n\\x1a\\n\\x00\\x00\\x00\\rIHDR\\x00\\x00\\x00<\\x00\\x00\\x00(\\x08\\x02\\x00\\x00\\x00-\\xd9\\x0e\\xa8\\x00\\x00\\x00\\xf6IDATx\\x9c\\xed\\xd6\\xaf\\x0b\\xc2@\\x14\\xc0\\xf1\\xf7\\xee\\xdd\\xfev\\xcb\\xa2\\xc5\\x81`\\x11\\x86\\xa0e0\\x8bAA\\x83A\\x8bA\\x8b\\xc1b\\x12\\x8b\\xc94\\xc3\\xa9\\xccMn:\\x8f7\\x0f\\xde\\'\\x8c\\x85\\xfd\\xf8\\xf2\\x06\\xbb\\xc3\\xe1\\xee\\x08\\xbeQM\\x07\\xd4!\\xd1\\\\$\\x9a\\x8bDs\\x91h.^F\\xeb\\xa6\\x03\\xdeS\\xdb%\"\\x02\\x809\\x16N\\x9a\\x8c\\xbe\\xae\\xa7\\x88\\xa8\\x94\\xc2\\x12\\xfb\\x8d\\xdc\\xd1\\xa7Y\\x12\\x04\\x01\\x11)\\xa5\\x88\\xa8\\xdeC\\xaa\\xa3\\x0fi\\\\\\x1eC\\xfe\\xc4\\\\V9\\x1e\\x00\\xc8\\xb2\\xacvh\\xdeK\\xf4&\\x8e\\xcc\\x0c\\x9e\\xcc\\xe7\\xfb\\xfd5n\\xe9E\\x14j\\xad\\xb5\\xd6D\\xe4d\\x0c\\x0c\\xfen\\x8a\\x9f\\x90h.\\x12\\xcdE\\xa2\\xb9\\xe0\\xf9\\xb2\\x07\\x80\\xb0\\xd5\\xa5\\x87\\xf2\\xe2\\xe2vE\\xcc/\\xe3\\x96\\xbd\\x87e\\xc3t\\x8f.\\xe8\\xb4\\x07\\xfeE[\\xf4{\\xa9\\x7f\\xd1N$\\xa3\\xb9\\x7f\\xd1\\x05\\x93\\xf1\\xca\\xbf\\xe8oy\\xf9\\xcb\\x93h.\\x12\\xcdE\\xa2\\xb9H4\\x17/\\xa3o\\xb3~8\\x87\\xea\\xaf#\\xce\\x00\\x00\\x00\\x00IEND\\xaeB`\\x82', width='240'), FloatSlider(value=0.0, layout=Layout(height='20px', padding='0px 0px 0px 0px', width='248px'), readout=False))))))), HBox(children=(Button(icon='step-forward', style=ButtonStyle()), Play(value=0, max=1000000), Button(description='Clear Output', style=ButtonStyle()))), Output()))"
      ]
     },
     "metadata": {},
     "output_type": "display_data"
    }
   ],
   "source": [
    "sim = VSimulator(robot, worldf)"
   ]
  },
  {
   "cell_type": "code",
   "execution_count": 6,
   "metadata": {},
   "outputs": [],
   "source": [
    "camera = robot.device[\"camera\"]"
   ]
  },
  {
   "cell_type": "code",
   "execution_count": 7,
   "metadata": {},
   "outputs": [
    {
     "data": {
      "image/png": "[encoded data removed]",
      "text/plain": [
       "<PIL.Image.Image image mode=RGB size=60x40 at 0x7F5B50EE9CC0>"
      ]
     },
     "execution_count": 7,
     "metadata": {},
     "output_type": "execute_result"
    }
   ],
   "source": [
    "image = camera.getImage()\n",
    "image"
   ]
  },
  {
   "cell_type": "code",
   "execution_count": 8,
   "metadata": {},
   "outputs": [
    {
     "data": {
      "text/plain": [
       "(60, 40)"
      ]
     },
     "execution_count": 8,
     "metadata": {},
     "output_type": "execute_result"
    }
   ],
   "source": [
    "image.size"
   ]
  },
  {
   "cell_type": "code",
   "execution_count": 9,
   "metadata": {},
   "outputs": [
    {
     "data": {
      "text/plain": [
       "(40, 60, 3)"
      ]
     },
     "execution_count": 9,
     "metadata": {},
     "output_type": "execute_result"
    }
   ],
   "source": [
    "data = camera.getData()\n",
    "data.shape"
   ]
  },
  {
   "cell_type": "code",
   "execution_count": 10,
   "metadata": {},
   "outputs": [],
   "source": [
    "robot.move(0.50, 0.35)"
   ]
  },
  {
   "cell_type": "code",
   "execution_count": 11,
   "metadata": {},
   "outputs": [],
   "source": [
    "sim.step()"
   ]
  },
  {
   "cell_type": "code",
   "execution_count": 12,
   "metadata": {},
   "outputs": [],
   "source": [
    "def random_action():\n",
    "    \"\"\"Generate a random action from a limited set of possible settings\"\"\"\n",
    "    possible = [-1.0, -0.5, 0.0, 0.5, 1.0]\n",
    "    return [random.choice(possible), random.choice(possible)]\n",
    "\n",
    "def get_senses(robot):\n",
    "    light = robot[\"light\"].getData()\n",
    "    sonar = [v/3.0 for v in robot[\"sonar\"].getData()]\n",
    "    camera = robot[\"camera\"].getData()\n",
    "    return [light, sonar, camera]"
   ]
  },
  {
   "cell_type": "code",
   "execution_count": 13,
   "metadata": {},
   "outputs": [
    {
     "data": {
      "text/plain": [
       "[2, 16, 40]"
      ]
     },
     "execution_count": 13,
     "metadata": {},
     "output_type": "execute_result"
    }
   ],
   "source": [
    "senses = get_senses(robot)\n",
    "list(map(len, senses))"
   ]
  },
  {
   "cell_type": "code",
   "execution_count": 14,
   "metadata": {},
   "outputs": [],
   "source": [
    "def brain(robot):\n",
    "    senses = get_senses(robot)\n",
    "    net.propagate(senses)\n",
    "    translate, rotate = random_action()\n",
    "    #self.move(translate, rotate)\n",
    "    robot.move(0.50, 0.35)"
   ]
  },
  {
   "cell_type": "code",
   "execution_count": 15,
   "metadata": {},
   "outputs": [],
   "source": [
    "robot.brain = brain"
   ]
  },
  {
   "cell_type": "code",
   "execution_count": 16,
   "metadata": {},
   "outputs": [
    {
     "name": "stderr",
     "output_type": "stream",
     "text": [
      "Using Theano backend.\n"
     ]
    }
   ],
   "source": [
    "from conx import Network, Layer, FlattenLayer, SGD, ImageLayer, Conv2DLayer\n",
    "import numpy as np"
   ]
  },
  {
   "cell_type": "code",
   "execution_count": 17,
   "metadata": {},
   "outputs": [],
   "source": [
    "net = Network(\"Robot Prediction Network\")\n",
    "net.add(Layer(\"light\", 2))\n",
    "net.add(Layer(\"sonar\", 16))\n",
    "net.add(ImageLayer(\"camera\", (40,60), 3))\n",
    "net.add(FlattenLayer(\"flatten\"))\n",
    "net.add(Conv2DLayer(\"conv\", 16, (3,3)))\n",
    "net.add(Layer(\"hidden\", 50, activation=\"relu\"))\n",
    "net.add(Layer(\"output1\", 2, activation=\"sigmoid\"))\n",
    "net.add(Layer(\"hidden2\", 5, activation=\"sigmoid\"))\n",
    "net.add(Layer(\"hidden3\", 10, activation=\"sigmoid\", dropout=0.25))\n",
    "net.add(Layer(\"hidden4\", 10, activation=\"sigmoid\"))\n",
    "net.add(Layer(\"output2\", 5, activation=\"sigmoid\"))"
   ]
  },
  {
   "cell_type": "code",
   "execution_count": 18,
   "metadata": {},
   "outputs": [],
   "source": [
    "net.connect(\"sonar\", \"hidden2\")\n",
    "net.connect(\"light\", \"hidden\")\n",
    "net.connect(\"camera\", \"conv\")\n",
    "net.connect(\"conv\", \"flatten\")\n",
    "net.connect(\"flatten\", \"hidden2\")\n",
    "net.connect(\"hidden\", \"hidden2\")\n",
    "net.connect(\"hidden2\", \"hidden3\")\n",
    "##net.connect(\"hidden2\", \"output2\")\n",
    "net.connect(\"hidden3\", \"output2\")\n",
    "net.connect(\"hidden3\", \"hidden4\")\n",
    "net.connect(\"hidden4\", \"output1\")"
   ]
  },
  {
   "cell_type": "code",
   "execution_count": 19,
   "metadata": {},
   "outputs": [],
   "source": [
    "net.compile(optimizer=\"adam\", error=\"mse\")\n",
    "net.config[\"hspace\"] = 200"
   ]
  },
  {
   "cell_type": "code",
   "execution_count": 20,
   "metadata": {},
   "outputs": [
    {
     "data": {
      "application/javascript": [
       "\n",
       "require(['base/js/namespace'], function(Jupyter) {\n",
       "    Jupyter.notebook.kernel.comm_manager.register_target('conx_svg_control', function(comm, msg) {\n",
       "        comm.on_msg(function(msg) {\n",
       "            var data = msg[\"content\"][\"data\"];\n",
       "            var images = document.getElementsByClassName(data[\"class\"]);\n",
       "            for (var i = 0; i < images.length; i++) {\n",
       "                images[i].setAttributeNS(null, \"href\", data[\"href\"]);\n",
       "            }\n",
       "        });\n",
       "    });\n",
       "});\n"
      ],
      "text/plain": [
       "<IPython.core.display.Javascript object>"
      ]
     },
     "metadata": {},
     "output_type": "display_data"
    },
    {
     "data": {
      "image/svg+xml": [
       "<svg id='Robot Prediction Network' xmlns='http://www.w3.org/2000/svg' width=\"1100\" height=\"664\" image-rendering=\"pixelated\">\n",
       "    <defs>\n",
       "        <marker id=\"arrow\" markerWidth=\"10\" markerHeight=\"10\" refX=\"9\" refY=\"3\" orient=\"auto\" markerUnits=\"strokeWidth\">\n",
       "          <path d=\"M0,0 L0,6 L9,3 z\" fill=\"black\" />\n",
       "        </marker>\n",
       "    </defs><text x=\"550.0\" y=\"12.5\" font-family=\"monospace\" font-size=\"15\" text-anchor=\"middle\" alignment-baseline=\"central\">Robot Prediction Network</text><rect x=\"315.6666666666667\" y=\"29\" width=\"102\" height=\"52\" style=\"fill:none;stroke:black;stroke-width:2\"/><image id=\"Robot Prediction Network_output1_1\" class=\"Robot Prediction Network_output1\" x=\"316.6666666666667\" y=\"30\" height=\"50\" width=\"100\" preserveAspectRatio=\"none\" href=\"data:image/gif;base64,R0lGODdhAgABAIcAAOjo6Pn5+QAAAAAAAAAAAAAAAAAAAAAAAAAAAAAAAAAAAAAAAAAAAAAAAAAAAAAAAAAAAAAAAAAAAAAAAAAAAAAAAAAAAAAAAAAAAAAAAAAAAAAAAAAAAAAAAAAAAAAAAAAAAAAAAAAAAAAAAAAAAAAAAAAAAAAAAAAAAAAAAAAAAAAAAAAAAAAAAAAAAAAAAAAAAAAAAAAAAAAAAAAAAAAAAAAAAAAAAAAAAAAAAAAAAAAAAAAAAAAAAAAAAAAAAAAAAAAAAAAAAAAAAAAAAAAAAAAAAAAAAAAAAAAAAAAAAAAAAAAAAAAAAAAAAAAAAAAAAAAAAAAAAAAAAAAAAAAAAAAAAAAAAAAAAAAAAAAAAAAAAAAAAAAAAAAAAAAAAAAAAAAAAAAAAAAAAAAAAAAAAAAAAAAAAAAAAAAAAAAAAAAAAAAAAAAAAAAAAAAAAAAAAAAAAAAAAAAAAAAAAAAAAAAAAAAAAAAAAAAAAAAAAAAAAAAAAAAAAAAAAAAAAAAAAAAAAAAAAAAAAAAAAAAAAAAAAAAAAAAAAAAAAAAAAAAAAAAAAAAAAAAAAAAAAAAAAAAAAAAAAAAAAAAAAAAAAAAAAAAAAAAAAAAAAAAAAAAAAAAAAAAAAAAAAAAAAAAAAAAAAAAAAAAAAAAAAAAAAAAAAAAAAAAAAAAAAAAAAAAAAAAAAAAAAAAAAAAAAAAAAAAAAAAAAAAAAAAAAAAAAAAAAAAAAAAAAAAAAAAAAAAAAAAAAAAAAAAAAAAAAAAAAAAAAAAAAAAAAAAAAAAAAAAAAAAAAAAAAAAAAAAAAAAAAAAAAAAAAAAAAAAAAAAAAAAAAAAAAAAAAAAAAAAAAAAAAAAAAAAAAAAAAAAAAAAAAAAAAAAAAAAAAAAAAAAAAAAAAAAAAAAAAAAAAAAAAAAAAAAAAAAAAAAAAAAAAAAAAAAAAAAAAAAAAAAAAAAAAAAAAAAAAAAAAAAAAAAAAAAAAAAAAAAAAAAAAAAAAAAAAAAAAAAAAAAAAAAAACwAAAAAAgABAAAIBQADAAgIADs=\"><title>Layer: output1 (output)\n",
       " shape = (2,)\n",
       " Keras class = Dense\n",
       " activation = sigmoid</title></image><text x=\"421.6666666666667\" y=\"57.0\" font-family=\"monospace\" font-size=\"12\" text-anchor=\"start\" alignment-baseline=\"central\">output1</text><rect x=\"632.3333333333334\" y=\"29\" width=\"202\" height=\"42\" style=\"fill:none;stroke:black;stroke-width:2\"/><image id=\"Robot Prediction Network_output2_2\" class=\"Robot Prediction Network_output2\" x=\"633.3333333333334\" y=\"30\" height=\"40\" width=\"200\" preserveAspectRatio=\"none\" href=\"data:image/gif;base64,R0lGODdhBQABAIcAAPjy7/nHrv3j1P7t4wAAAAAAAAAAAAAAAAAAAAAAAAAAAAAAAAAAAAAAAAAAAAAAAAAAAAAAAAAAAAAAAAAAAAAAAAAAAAAAAAAAAAAAAAAAAAAAAAAAAAAAAAAAAAAAAAAAAAAAAAAAAAAAAAAAAAAAAAAAAAAAAAAAAAAAAAAAAAAAAAAAAAAAAAAAAAAAAAAAAAAAAAAAAAAAAAAAAAAAAAAAAAAAAAAAAAAAAAAAAAAAAAAAAAAAAAAAAAAAAAAAAAAAAAAAAAAAAAAAAAAAAAAAAAAAAAAAAAAAAAAAAAAAAAAAAAAAAAAAAAAAAAAAAAAAAAAAAAAAAAAAAAAAAAAAAAAAAAAAAAAAAAAAAAAAAAAAAAAAAAAAAAAAAAAAAAAAAAAAAAAAAAAAAAAAAAAAAAAAAAAAAAAAAAAAAAAAAAAAAAAAAAAAAAAAAAAAAAAAAAAAAAAAAAAAAAAAAAAAAAAAAAAAAAAAAAAAAAAAAAAAAAAAAAAAAAAAAAAAAAAAAAAAAAAAAAAAAAAAAAAAAAAAAAAAAAAAAAAAAAAAAAAAAAAAAAAAAAAAAAAAAAAAAAAAAAAAAAAAAAAAAAAAAAAAAAAAAAAAAAAAAAAAAAAAAAAAAAAAAAAAAAAAAAAAAAAAAAAAAAAAAAAAAAAAAAAAAAAAAAAAAAAAAAAAAAAAAAAAAAAAAAAAAAAAAAAAAAAAAAAAAAAAAAAAAAAAAAAAAAAAAAAAAAAAAAAAAAAAAAAAAAAAAAAAAAAAAAAAAAAAAAAAAAAAAAAAAAAAAAAAAAAAAAAAAAAAAAAAAAAAAAAAAAAAAAAAAAAAAAAAAAAAAAAAAAAAAAAAAAAAAAAAAAAAAAAAAAAAAAAAAAAAAAAAAAAAAAAAAAAAAAAAAAAAAAAAAAAAAAAAAAAAAAAAAAAAAAAAAAAAAAAAAAAAAAAAAAAAAAAAAAAAAAAAAAAAAAAAAAAAAAAAAAAAAAAAAAAAAAAAAAAAAAAAAAAAAAAAAAAAAAAAACwAAAAABQABAAAICAABCAgAYEBAADs=\"><title>Layer: output2 (output)\n",
       " shape = (5,)\n",
       " Keras class = Dense\n",
       " activation = sigmoid</title></image><text x=\"838.3333333333334\" y=\"52.0\" font-family=\"monospace\" font-size=\"12\" text-anchor=\"start\" alignment-baseline=\"central\">output2</text><line x1=\"366.6666666666667\" y1=\"109\" x2=\"366.6666666666667\" y2=\"82\" stroke=\"black\" stroke-width=\"2\" marker-end=\"url(#arrow)\"><title>Weights from hidden4 to output1\n",
       " output1/kernel has shape (10, 2)\n",
       " output1/bias has shape (2,)</title></line><rect x=\"265.6666666666667\" y=\"109\" width=\"202\" height=\"27\" style=\"fill:none;stroke:black;stroke-width:2\"/><image id=\"Robot Prediction Network_hidden4_3\" class=\"Robot Prediction Network_hidden4\" x=\"266.6666666666667\" y=\"110\" height=\"25\" width=\"200\" preserveAspectRatio=\"none\" href=\"data:image/gif;base64,R0lGODdhCgABAIcAANra2vvQucvLy+6YeP3cyf3k1u3t7ff39wAAAAAAAAAAAAAAAAAAAAAAAAAAAAAAAAAAAAAAAAAAAAAAAAAAAAAAAAAAAAAAAAAAAAAAAAAAAAAAAAAAAAAAAAAAAAAAAAAAAAAAAAAAAAAAAAAAAAAAAAAAAAAAAAAAAAAAAAAAAAAAAAAAAAAAAAAAAAAAAAAAAAAAAAAAAAAAAAAAAAAAAAAAAAAAAAAAAAAAAAAAAAAAAAAAAAAAAAAAAAAAAAAAAAAAAAAAAAAAAAAAAAAAAAAAAAAAAAAAAAAAAAAAAAAAAAAAAAAAAAAAAAAAAAAAAAAAAAAAAAAAAAAAAAAAAAAAAAAAAAAAAAAAAAAAAAAAAAAAAAAAAAAAAAAAAAAAAAAAAAAAAAAAAAAAAAAAAAAAAAAAAAAAAAAAAAAAAAAAAAAAAAAAAAAAAAAAAAAAAAAAAAAAAAAAAAAAAAAAAAAAAAAAAAAAAAAAAAAAAAAAAAAAAAAAAAAAAAAAAAAAAAAAAAAAAAAAAAAAAAAAAAAAAAAAAAAAAAAAAAAAAAAAAAAAAAAAAAAAAAAAAAAAAAAAAAAAAAAAAAAAAAAAAAAAAAAAAAAAAAAAAAAAAAAAAAAAAAAAAAAAAAAAAAAAAAAAAAAAAAAAAAAAAAAAAAAAAAAAAAAAAAAAAAAAAAAAAAAAAAAAAAAAAAAAAAAAAAAAAAAAAAAAAAAAAAAAAAAAAAAAAAAAAAAAAAAAAAAAAAAAAAAAAAAAAAAAAAAAAAAAAAAAAAAAAAAAAAAAAAAAAAAAAAAAAAAAAAAAAAAAAAAAAAAAAAAAAAAAAAAAAAAAAAAAAAAAAAAAAAAAAAAAAAAAAAAAAAAAAAAAAAAAAAAAAAAAAAAAAAAAAAAAAAAAAAAAAAAAAAAAAAAAAAAAAAAAAAAAAAAAAAAAAAAAAAAAAAAAAAAAAAAAAAAAAAAAAAAAAAAAAAAAAAAAAAAAAAAAAAAAAAAAAAAAAAAAAAAAAAAAAAAAAAAAACwAAAAACgABAAAIDgADEBggAECBAwEMAAgIADs=\"><title>Layer: hidden4 (hidden)\n",
       " shape = (10,)\n",
       " Keras class = Dense\n",
       " activation = sigmoid</title></image><text x=\"471.6666666666667\" y=\"124.5\" font-family=\"monospace\" font-size=\"12\" text-anchor=\"start\" alignment-baseline=\"central\">hidden4</text><line x1=\"733.3333333333334\" y1=\"110\" x2=\"733.3333333333334\" y2=\"70\" stroke=\"black\" stroke-width=\"2\" marker-end=\"url(#arrow)\"><title>Weights from hidden4 to output1\n",
       " output1/kernel has shape (10, 2)\n",
       " output1/bias has shape (2,)</title></line><line x1=\"550.0\" y1=\"164\" x2=\"733.3333333333334\" y2=\"110\" stroke=\"red\" stroke-width=\"2\"><title>TODO</title></line><line x1=\"550.0\" y1=\"164\" x2=\"366.6666666666667\" y2=\"137\" stroke=\"red\" stroke-width=\"2\" marker-end=\"url(#arrow)\"><title>Weights from hidden3 to hidden4\n",
       " hidden4/kernel has shape (10, 10)\n",
       " hidden4/bias has shape (10,)</title></line><rect x=\"449.0\" y=\"164\" width=\"202\" height=\"27\" style=\"fill:none;stroke:black;stroke-width:2\"/><image id=\"Robot Prediction Network_hidden3_4\" class=\"Robot Prediction Network_hidden3\" x=\"450.0\" y=\"165\" height=\"25\" width=\"200\" preserveAspectRatio=\"none\" href=\"data:image/gif;base64,R0lGODdhCgABAIcAAPrKsv3j0/j08c7Ozvi9oezs7AAAAAAAAAAAAAAAAAAAAAAAAAAAAAAAAAAAAAAAAAAAAAAAAAAAAAAAAAAAAAAAAAAAAAAAAAAAAAAAAAAAAAAAAAAAAAAAAAAAAAAAAAAAAAAAAAAAAAAAAAAAAAAAAAAAAAAAAAAAAAAAAAAAAAAAAAAAAAAAAAAAAAAAAAAAAAAAAAAAAAAAAAAAAAAAAAAAAAAAAAAAAAAAAAAAAAAAAAAAAAAAAAAAAAAAAAAAAAAAAAAAAAAAAAAAAAAAAAAAAAAAAAAAAAAAAAAAAAAAAAAAAAAAAAAAAAAAAAAAAAAAAAAAAAAAAAAAAAAAAAAAAAAAAAAAAAAAAAAAAAAAAAAAAAAAAAAAAAAAAAAAAAAAAAAAAAAAAAAAAAAAAAAAAAAAAAAAAAAAAAAAAAAAAAAAAAAAAAAAAAAAAAAAAAAAAAAAAAAAAAAAAAAAAAAAAAAAAAAAAAAAAAAAAAAAAAAAAAAAAAAAAAAAAAAAAAAAAAAAAAAAAAAAAAAAAAAAAAAAAAAAAAAAAAAAAAAAAAAAAAAAAAAAAAAAAAAAAAAAAAAAAAAAAAAAAAAAAAAAAAAAAAAAAAAAAAAAAAAAAAAAAAAAAAAAAAAAAAAAAAAAAAAAAAAAAAAAAAAAAAAAAAAAAAAAAAAAAAAAAAAAAAAAAAAAAAAAAAAAAAAAAAAAAAAAAAAAAAAAAAAAAAAAAAAAAAAAAAAAAAAAAAAAAAAAAAAAAAAAAAAAAAAAAAAAAAAAAAAAAAAAAAAAAAAAAAAAAAAAAAAAAAAAAAAAAAAAAAAAAAAAAAAAAAAAAAAAAAAAAAAAAAAAAAAAAAAAAAAAAAAAAAAAAAAAAAAAAAAAAAAAAAAAAAAAAAAAAAAAAAAAAAAAAAAAAAAAAAAAAAAAAAAAAAAAAAAAAAAAAAAAAAAAAAAAAAAAAAAAAAAAAAAAAAAAAAAAAAAAAAAAAAAAAAAAAAAAAAAAAAAAAAAAAAAAAAAAAAAAACwAAAAACgABAAAIDgAFCBgQIEABAAAIAAgIADs=\"><title>Layer: hidden3 (hidden)\n",
       " shape = (10,)\n",
       " dropout = 0.25\n",
       " Keras class = Dense\n",
       " activation = sigmoid</title></image><text x=\"655.0\" y=\"179.5\" font-family=\"monospace\" font-size=\"12\" text-anchor=\"start\" alignment-baseline=\"central\">hidden3</text><line x1=\"550.0\" y1=\"219\" x2=\"550.0\" y2=\"192\" stroke=\"black\" stroke-width=\"2\" marker-end=\"url(#arrow)\"><title>Weights from hidden2 to hidden3\n",
       " hidden3/kernel has shape (5, 10)\n",
       " hidden3/bias has shape (10,)</title></line><rect x=\"449.0\" y=\"219\" width=\"202\" height=\"42\" style=\"fill:none;stroke:black;stroke-width:2\"/><image id=\"Robot Prediction Network_hidden2_5\" class=\"Robot Prediction Network_hidden2\" x=\"450.0\" y=\"220\" height=\"40\" width=\"200\" preserveAspectRatio=\"none\" href=\"data:image/gif;base64,R0lGODdhBQABAIcAAP7+/QAAAAAAAAAAAAAAAAAAAAAAAAAAAAAAAAAAAAAAAAAAAAAAAAAAAAAAAAAAAAAAAAAAAAAAAAAAAAAAAAAAAAAAAAAAAAAAAAAAAAAAAAAAAAAAAAAAAAAAAAAAAAAAAAAAAAAAAAAAAAAAAAAAAAAAAAAAAAAAAAAAAAAAAAAAAAAAAAAAAAAAAAAAAAAAAAAAAAAAAAAAAAAAAAAAAAAAAAAAAAAAAAAAAAAAAAAAAAAAAAAAAAAAAAAAAAAAAAAAAAAAAAAAAAAAAAAAAAAAAAAAAAAAAAAAAAAAAAAAAAAAAAAAAAAAAAAAAAAAAAAAAAAAAAAAAAAAAAAAAAAAAAAAAAAAAAAAAAAAAAAAAAAAAAAAAAAAAAAAAAAAAAAAAAAAAAAAAAAAAAAAAAAAAAAAAAAAAAAAAAAAAAAAAAAAAAAAAAAAAAAAAAAAAAAAAAAAAAAAAAAAAAAAAAAAAAAAAAAAAAAAAAAAAAAAAAAAAAAAAAAAAAAAAAAAAAAAAAAAAAAAAAAAAAAAAAAAAAAAAAAAAAAAAAAAAAAAAAAAAAAAAAAAAAAAAAAAAAAAAAAAAAAAAAAAAAAAAAAAAAAAAAAAAAAAAAAAAAAAAAAAAAAAAAAAAAAAAAAAAAAAAAAAAAAAAAAAAAAAAAAAAAAAAAAAAAAAAAAAAAAAAAAAAAAAAAAAAAAAAAAAAAAAAAAAAAAAAAAAAAAAAAAAAAAAAAAAAAAAAAAAAAAAAAAAAAAAAAAAAAAAAAAAAAAAAAAAAAAAAAAAAAAAAAAAAAAAAAAAAAAAAAAAAAAAAAAAAAAAAAAAAAAAAAAAAAAAAAAAAAAAAAAAAAAAAAAAAAAAAAAAAAAAAAAAAAAAAAAAAAAAAAAAAAAAAAAAAAAAAAAAAAAAAAAAAAAAAAAAAAAAAAAAAAAAAAAAAAAAAAAAAAAAAAAAAAAAAAAAAAAAAAAAAAAAAAAAAAAAAAAAAAAAAAAAAAAAAAAAAAAAAAAAAAAAAAAAAAAAACwAAAAABQABAAAIBgABCBQYEAA7\"><title>Layer: hidden2 (hidden)\n",
       " shape = (5,)\n",
       " Keras class = Dense\n",
       " activation = sigmoid</title></image><text x=\"655.0\" y=\"242.0\" font-family=\"monospace\" font-size=\"12\" text-anchor=\"start\" alignment-baseline=\"central\">hidden2</text><line x1=\"366.6666666666667\" y1=\"290\" x2=\"550.0\" y2=\"260\" stroke=\"black\" stroke-width=\"2\" marker-end=\"url(#arrow)\"><title>Weights from hidden2 to hidden3\n",
       " hidden3/kernel has shape (5, 10)\n",
       " hidden3/bias has shape (10,)</title></line><line x1=\"733.3333333333334\" y1=\"289\" x2=\"550.0\" y2=\"262\" stroke=\"black\" stroke-width=\"2\" marker-end=\"url(#arrow)\"><title>Weights from flatten to hidden2\n",
       " hidden2/kernel has shape (35330, 5)\n",
       " hidden2/bias has shape (5,)</title></line><rect x=\"632.3333333333334\" y=\"289\" width=\"202\" height=\"27\" style=\"fill:none;stroke:black;stroke-width:2\"/><image id=\"Robot Prediction Network_flatten_6\" class=\"Robot Prediction Network_flatten\" x=\"633.3333333333334\" y=\"290\" height=\"25\" width=\"200\" preserveAspectRatio=\"none\" href=\"data:image/gif;base64,R0lGODdhwIkBAIcAAP7+/QAAAAAAAAAAAAAAAAAAAAAAAAAAAAAAAAAAAAAAAAAAAAAAAAAAAAAAAAAAAAAAAAAAAAAAAAAAAAAAAAAAAAAAAAAAAAAAAAAAAAAAAAAAAAAAAAAAAAAAAAAAAAAAAAAAAAAAAAAAAAAAAAAAAAAAAAAAAAAAAAAAAAAAAAAAAAAAAAAAAAAAAAAAAAAAAAAAAAAAAAAAAAAAAAAAAAAAAAAAAAAAAAAAAAAAAAAAAAAAAAAAAAAAAAAAAAAAAAAAAAAAAAAAAAAAAAAAAAAAAAAAAAAAAAAAAAAAAAAAAAAAAAAAAAAAAAAAAAAAAAAAAAAAAAAAAAAAAAAAAAAAAAAAAAAAAAAAAAAAAAAAAAAAAAAAAAAAAAAAAAAAAAAAAAAAAAAAAAAAAAAAAAAAAAAAAAAAAAAAAAAAAAAAAAAAAAAAAAAAAAAAAAAAAAAAAAAAAAAAAAAAAAAAAAAAAAAAAAAAAAAAAAAAAAAAAAAAAAAAAAAAAAAAAAAAAAAAAAAAAAAAAAAAAAAAAAAAAAAAAAAAAAAAAAAAAAAAAAAAAAAAAAAAAAAAAAAAAAAAAAAAAAAAAAAAAAAAAAAAAAAAAAAAAAAAAAAAAAAAAAAAAAAAAAAAAAAAAAAAAAAAAAAAAAAAAAAAAAAAAAAAAAAAAAAAAAAAAAAAAAAAAAAAAAAAAAAAAAAAAAAAAAAAAAAAAAAAAAAAAAAAAAAAAAAAAAAAAAAAAAAAAAAAAAAAAAAAAAAAAAAAAAAAAAAAAAAAAAAAAAAAAAAAAAAAAAAAAAAAAAAAAAAAAAAAAAAAAAAAAAAAAAAAAAAAAAAAAAAAAAAAAAAAAAAAAAAAAAAAAAAAAAAAAAAAAAAAAAAAAAAAAAAAAAAAAAAAAAAAAAAAAAAAAAAAAAAAAAAAAAAAAAAAAAAAAAAAAAAAAAAAAAAAAAAAAAAAAAAAAAAAAAAAAAAAAAAAAAAAAAAAAAAAAAAAAAAAAAAAAAAAAAAAAAAAAAAAAAAAACwAAAAAwIkBAAAI/wABCBxIsKDBgwgTKlzIsKHDhxAjSpxIsaLFixgzatzIsaPHjyBDihxJsqTJkyhTqlzJsqXLlzBjypxJs6bNmzhz6tzJs6fPn0CDCh1KtKjRo0iTKl3KtKnTp1CjSp1KtarVq1izat3KtavXr2DDih1LtqzZs2jTql3Ltq3bt3Djyp1Lt67du3jz6t3Lt6/fv4ADCx5MuLDhw4gTK17MuLHjx5AjS55MubLly5gza97MubPnz6BDix5NurTp06hTq17NurXr17Bjy55Nu7bt27hz697Nu7fv38CDCx9OvLjx48iTK1/OvLnz59CjS59Ovbr169iza9/Ovbv37+DDi3gfT768+fPo06tfz769+/fw48ufT7++/fv48+vfz7+/f4AABA4kWNDgQYQJFS5k2NDhQ4gRJU6kWNHiRYwZNW7k2NHjR5AhRY4kWdLkSZQpVa5k2dLlS5gxZc6kWdPmTZw5de7k2dPnT6BBhQ4lWtToUaRJlS7tGBAAOw==\"><title>Layer: flatten (hidden)\n",
       " Keras class = Flatten</title></image><text x=\"838.3333333333334\" y=\"304.5\" font-family=\"monospace\" font-size=\"12\" text-anchor=\"start\" alignment-baseline=\"central\">flatten</text><line x1=\"275.0\" y1=\"344\" x2=\"366.6666666666667\" y2=\"290\" stroke=\"black\" stroke-width=\"2\"><title>TODO</title></line><rect x=\"174.0\" y=\"344\" width=\"202\" height=\"27\" style=\"fill:none;stroke:black;stroke-width:2\"/><image id=\"Robot Prediction Network_hidden_7\" class=\"Robot Prediction Network_hidden\" x=\"175.0\" y=\"345\" height=\"25\" width=\"200\" preserveAspectRatio=\"none\" href=\"data:image/gif;base64,R0lGODdhMgABAIcAAP7+/QAAAAAAAAAAAAAAAAAAAAAAAAAAAAAAAAAAAAAAAAAAAAAAAAAAAAAAAAAAAAAAAAAAAAAAAAAAAAAAAAAAAAAAAAAAAAAAAAAAAAAAAAAAAAAAAAAAAAAAAAAAAAAAAAAAAAAAAAAAAAAAAAAAAAAAAAAAAAAAAAAAAAAAAAAAAAAAAAAAAAAAAAAAAAAAAAAAAAAAAAAAAAAAAAAAAAAAAAAAAAAAAAAAAAAAAAAAAAAAAAAAAAAAAAAAAAAAAAAAAAAAAAAAAAAAAAAAAAAAAAAAAAAAAAAAAAAAAAAAAAAAAAAAAAAAAAAAAAAAAAAAAAAAAAAAAAAAAAAAAAAAAAAAAAAAAAAAAAAAAAAAAAAAAAAAAAAAAAAAAAAAAAAAAAAAAAAAAAAAAAAAAAAAAAAAAAAAAAAAAAAAAAAAAAAAAAAAAAAAAAAAAAAAAAAAAAAAAAAAAAAAAAAAAAAAAAAAAAAAAAAAAAAAAAAAAAAAAAAAAAAAAAAAAAAAAAAAAAAAAAAAAAAAAAAAAAAAAAAAAAAAAAAAAAAAAAAAAAAAAAAAAAAAAAAAAAAAAAAAAAAAAAAAAAAAAAAAAAAAAAAAAAAAAAAAAAAAAAAAAAAAAAAAAAAAAAAAAAAAAAAAAAAAAAAAAAAAAAAAAAAAAAAAAAAAAAAAAAAAAAAAAAAAAAAAAAAAAAAAAAAAAAAAAAAAAAAAAAAAAAAAAAAAAAAAAAAAAAAAAAAAAAAAAAAAAAAAAAAAAAAAAAAAAAAAAAAAAAAAAAAAAAAAAAAAAAAAAAAAAAAAAAAAAAAAAAAAAAAAAAAAAAAAAAAAAAAAAAAAAAAAAAAAAAAAAAAAAAAAAAAAAAAAAAAAAAAAAAAAAAAAAAAAAAAAAAAAAAAAAAAAAAAAAAAAAAAAAAAAAAAAAAAAAAAAAAAAAAAAAAAAAAAAAAAAAAAAAAAAAAAAAAAAAAAAAAAAAAAAAAAAAAAAAAAAAAAAAAAAAAAAAAAAAAAAAAAAAAAAACwAAAAAMgABAAAIDgABCBxIsKDBgwgTFgwIADs=\"><title>Layer: hidden (hidden)\n",
       " shape = (50,)\n",
       " Keras class = Dense\n",
       " activation = relu</title></image><text x=\"380.0\" y=\"359.5\" font-family=\"monospace\" font-size=\"12\" text-anchor=\"start\" alignment-baseline=\"central\">hidden</text><line x1=\"550.0\" y1=\"345\" x2=\"366.6666666666667\" y2=\"290\" stroke=\"black\" stroke-width=\"2\"><title>TODO</title></line><line x1=\"825.0\" y1=\"344\" x2=\"733.3333333333334\" y2=\"317\" stroke=\"black\" stroke-width=\"2\" marker-end=\"url(#arrow)\"><title>Weights from conv to flatten</title></line><rect x=\"724.0\" y=\"344\" width=\"202\" height=\"133\" style=\"fill:none;stroke:black;stroke-width:2\"/><image id=\"Robot Prediction Network_conv_8\" class=\"Robot Prediction Network_conv\" x=\"725.0\" y=\"345\" height=\"131\" width=\"200\" preserveAspectRatio=\"none\" href=\"data:image/gif;base64,R0lGODdhOgAmAIcAAP7+/QAAAAAAAAAAAAAAAAAAAAAAAAAAAAAAAAAAAAAAAAAAAAAAAAAAAAAAAAAAAAAAAAAAAAAAAAAAAAAAAAAAAAAAAAAAAAAAAAAAAAAAAAAAAAAAAAAAAAAAAAAAAAAAAAAAAAAAAAAAAAAAAAAAAAAAAAAAAAAAAAAAAAAAAAAAAAAAAAAAAAAAAAAAAAAAAAAAAAAAAAAAAAAAAAAAAAAAAAAAAAAAAAAAAAAAAAAAAAAAAAAAAAAAAAAAAAAAAAAAAAAAAAAAAAAAAAAAAAAAAAAAAAAAAAAAAAAAAAAAAAAAAAAAAAAAAAAAAAAAAAAAAAAAAAAAAAAAAAAAAAAAAAAAAAAAAAAAAAAAAAAAAAAAAAAAAAAAAAAAAAAAAAAAAAAAAAAAAAAAAAAAAAAAAAAAAAAAAAAAAAAAAAAAAAAAAAAAAAAAAAAAAAAAAAAAAAAAAAAAAAAAAAAAAAAAAAAAAAAAAAAAAAAAAAAAAAAAAAAAAAAAAAAAAAAAAAAAAAAAAAAAAAAAAAAAAAAAAAAAAAAAAAAAAAAAAAAAAAAAAAAAAAAAAAAAAAAAAAAAAAAAAAAAAAAAAAAAAAAAAAAAAAAAAAAAAAAAAAAAAAAAAAAAAAAAAAAAAAAAAAAAAAAAAAAAAAAAAAAAAAAAAAAAAAAAAAAAAAAAAAAAAAAAAAAAAAAAAAAAAAAAAAAAAAAAAAAAAAAAAAAAAAAAAAAAAAAAAAAAAAAAAAAAAAAAAAAAAAAAAAAAAAAAAAAAAAAAAAAAAAAAAAAAAAAAAAAAAAAAAAAAAAAAAAAAAAAAAAAAAAAAAAAAAAAAAAAAAAAAAAAAAAAAAAAAAAAAAAAAAAAAAAAAAAAAAAAAAAAAAAAAAAAAAAAAAAAAAAAAAAAAAAAAAAAAAAAAAAAAAAAAAAAAAAAAAAAAAAAAAAAAAAAAAAAAAAAAAAAAAAAAAAAAAAAAAAAAAAAAAAAAAAAAAAAAAAAAAAAAAAAAAAAAAAAAAAAAAAAAACwAAAAAOgAmAEAITQABCBxIsKDBgwgTKlzIsKHDhxAjSpxIsaLFixgzatzIsaPHjyBDihxJsqTJkyhTqlzJsqXLlzBjypxJs6bNmzhz6tzJs6fPn0CD7gwIADs=\"><title>Layer: conv (hidden)\n",
       " Keras class = Conv2D</title></image><text x=\"930.0\" y=\"412.5\" font-family=\"monospace\" font-size=\"12\" text-anchor=\"start\" alignment-baseline=\"central\">conv</text><text x=\"930.0\" y=\"350\" font-family=\"monospace\" font-size=\"12\" text-anchor=\"start\" alignment-baseline=\"central\">16</text><text x=\"713.0\" y=\"471\" font-family=\"monospace\" font-size=\"12\" text-anchor=\"start\" alignment-baseline=\"central\">0</text><line x1=\"275.0\" y1=\"505\" x2=\"275.0\" y2=\"372\" stroke=\"black\" stroke-width=\"2\" marker-end=\"url(#arrow)\"><title>Weights from light to hidden\n",
       " hidden/kernel has shape (2, 50)\n",
       " hidden/bias has shape (50,)</title></line><rect x=\"224.0\" y=\"505\" width=\"102\" height=\"52\" style=\"fill:none;stroke:black;stroke-width:2\"/><image id=\"Robot Prediction Network_light_9\" class=\"Robot Prediction Network_light\" x=\"225.0\" y=\"506\" height=\"50\" width=\"100\" preserveAspectRatio=\"none\" href=\"data:image/gif;base64,R0lGODdhAgABAIcAAP7+/QAAAAAAAAAAAAAAAAAAAAAAAAAAAAAAAAAAAAAAAAAAAAAAAAAAAAAAAAAAAAAAAAAAAAAAAAAAAAAAAAAAAAAAAAAAAAAAAAAAAAAAAAAAAAAAAAAAAAAAAAAAAAAAAAAAAAAAAAAAAAAAAAAAAAAAAAAAAAAAAAAAAAAAAAAAAAAAAAAAAAAAAAAAAAAAAAAAAAAAAAAAAAAAAAAAAAAAAAAAAAAAAAAAAAAAAAAAAAAAAAAAAAAAAAAAAAAAAAAAAAAAAAAAAAAAAAAAAAAAAAAAAAAAAAAAAAAAAAAAAAAAAAAAAAAAAAAAAAAAAAAAAAAAAAAAAAAAAAAAAAAAAAAAAAAAAAAAAAAAAAAAAAAAAAAAAAAAAAAAAAAAAAAAAAAAAAAAAAAAAAAAAAAAAAAAAAAAAAAAAAAAAAAAAAAAAAAAAAAAAAAAAAAAAAAAAAAAAAAAAAAAAAAAAAAAAAAAAAAAAAAAAAAAAAAAAAAAAAAAAAAAAAAAAAAAAAAAAAAAAAAAAAAAAAAAAAAAAAAAAAAAAAAAAAAAAAAAAAAAAAAAAAAAAAAAAAAAAAAAAAAAAAAAAAAAAAAAAAAAAAAAAAAAAAAAAAAAAAAAAAAAAAAAAAAAAAAAAAAAAAAAAAAAAAAAAAAAAAAAAAAAAAAAAAAAAAAAAAAAAAAAAAAAAAAAAAAAAAAAAAAAAAAAAAAAAAAAAAAAAAAAAAAAAAAAAAAAAAAAAAAAAAAAAAAAAAAAAAAAAAAAAAAAAAAAAAAAAAAAAAAAAAAAAAAAAAAAAAAAAAAAAAAAAAAAAAAAAAAAAAAAAAAAAAAAAAAAAAAAAAAAAAAAAAAAAAAAAAAAAAAAAAAAAAAAAAAAAAAAAAAAAAAAAAAAAAAAAAAAAAAAAAAAAAAAAAAAAAAAAAAAAAAAAAAAAAAAAAAAAAAAAAAAAAAAAAAAAAAAAAAAAAAAAAAAAAAAAAAAAAAAAAAAAAAAAAAAAAAAAAAAAAAAAAAAAAAAAAAAACwAAAAAAgABAAAIBQABAAgIADs=\"><title>Layer: light (input)\n",
       " shape = (2,)\n",
       " Keras class = Input</title></image><text x=\"330.0\" y=\"533.0\" font-family=\"monospace\" font-size=\"12\" text-anchor=\"start\" alignment-baseline=\"central\">light</text><line x1=\"550.0\" y1=\"505\" x2=\"550.0\" y2=\"345\" stroke=\"black\" stroke-width=\"2\"><title>TODO</title></line><rect x=\"449.0\" y=\"505\" width=\"202\" height=\"27\" style=\"fill:none;stroke:black;stroke-width:2\"/><image id=\"Robot Prediction Network_sonar_10\" class=\"Robot Prediction Network_sonar\" x=\"450.0\" y=\"506\" height=\"25\" width=\"200\" preserveAspectRatio=\"none\" href=\"data:image/gif;base64,R0lGODdhEAABAIcAAP7+/QAAAAAAAAAAAAAAAAAAAAAAAAAAAAAAAAAAAAAAAAAAAAAAAAAAAAAAAAAAAAAAAAAAAAAAAAAAAAAAAAAAAAAAAAAAAAAAAAAAAAAAAAAAAAAAAAAAAAAAAAAAAAAAAAAAAAAAAAAAAAAAAAAAAAAAAAAAAAAAAAAAAAAAAAAAAAAAAAAAAAAAAAAAAAAAAAAAAAAAAAAAAAAAAAAAAAAAAAAAAAAAAAAAAAAAAAAAAAAAAAAAAAAAAAAAAAAAAAAAAAAAAAAAAAAAAAAAAAAAAAAAAAAAAAAAAAAAAAAAAAAAAAAAAAAAAAAAAAAAAAAAAAAAAAAAAAAAAAAAAAAAAAAAAAAAAAAAAAAAAAAAAAAAAAAAAAAAAAAAAAAAAAAAAAAAAAAAAAAAAAAAAAAAAAAAAAAAAAAAAAAAAAAAAAAAAAAAAAAAAAAAAAAAAAAAAAAAAAAAAAAAAAAAAAAAAAAAAAAAAAAAAAAAAAAAAAAAAAAAAAAAAAAAAAAAAAAAAAAAAAAAAAAAAAAAAAAAAAAAAAAAAAAAAAAAAAAAAAAAAAAAAAAAAAAAAAAAAAAAAAAAAAAAAAAAAAAAAAAAAAAAAAAAAAAAAAAAAAAAAAAAAAAAAAAAAAAAAAAAAAAAAAAAAAAAAAAAAAAAAAAAAAAAAAAAAAAAAAAAAAAAAAAAAAAAAAAAAAAAAAAAAAAAAAAAAAAAAAAAAAAAAAAAAAAAAAAAAAAAAAAAAAAAAAAAAAAAAAAAAAAAAAAAAAAAAAAAAAAAAAAAAAAAAAAAAAAAAAAAAAAAAAAAAAAAAAAAAAAAAAAAAAAAAAAAAAAAAAAAAAAAAAAAAAAAAAAAAAAAAAAAAAAAAAAAAAAAAAAAAAAAAAAAAAAAAAAAAAAAAAAAAAAAAAAAAAAAAAAAAAAAAAAAAAAAAAAAAAAAAAAAAAAAAAAAAAAAAAAAAAAAAAAAAAAAAAAAAAAAAAAAAAAAAAAAAAAAAAAAAAAAAAAAAAAAAAAAAAAAACwAAAAAEAABAAAICQABCBxIsCCAgAA7\"><title>Layer: sonar (input)\n",
       " shape = (16,)\n",
       " Keras class = Input</title></image><text x=\"655.0\" y=\"520.5\" font-family=\"monospace\" font-size=\"12\" text-anchor=\"start\" alignment-baseline=\"central\">sonar</text><line x1=\"825.0\" y1=\"505\" x2=\"825.0\" y2=\"478\" stroke=\"black\" stroke-width=\"2\" marker-end=\"url(#arrow)\"><title>Weights from camera to conv\n",
       " conv/kernel has shape (3, 3, 3, 16)\n",
       " conv/bias has shape (16,)</title></line><rect x=\"724.0\" y=\"505\" width=\"202\" height=\"135\" style=\"fill:none;stroke:black;stroke-width:2\"/><image id=\"Robot Prediction Network_camera_11\" class=\"Robot Prediction Network_camera\" x=\"725.0\" y=\"506\" height=\"133\" width=\"200\" preserveAspectRatio=\"none\" href=\"data:image/gif;base64,R0lGODdhPAAoAIcAAAAAAAAAAAAAAAAAAAAAAAAAAAAAAAAAAAAAAAAAAAAAAAAAAAAAAAAAAAAAAAAAAAAAAAAAAAAAAAAAAAAAAAAAAAAAAAAAAAAAAAAAAAAAAAAAAAAAAAAAAAAAAAAAAAAAAAAAAAAAAAAAAAAAAAAAAAAAAAAAAAAAAAAAAAAAAAAAAAAAAAAAAAAAAAAAAAAAAAAAAAAAAAAAAAAAAAAAAAAAAAAAAAAAAAAAAAAAAAAAAAAAAAAAAAAAAAAAAAAAAAAAAAAAAAAAAAAAAAAAAAAAAAAAAAAAAAAAAAAAAAAAAAAAAAAAAAAAAAAAAAAAAAAAAAAAAAAAAAAAAAAAAAAAAAAAAAAAAAAAAAAAAAAAAAAAAAAAAAAAAAAAAAAAAAAAAAAAAAAAAAAAAAAAAAAAAAAAAAAAAAAAAAAAAAAAAAAAAAAAAAAAAAAAAAAAAAAAAAAAAAAAAAAAAAAAAAAAAAAAAAAAAAAAAAAAAAAAAAAAAAAAAAAAAAAAAAAAAAAAAAAAAAAAAAAAAAAAAAAAAAAAAAAAAAAAAAAAAAAAAAAAAAAAAAAAAAAAAAAAAAAAAAAAAAAAAAAAAAAAAAAAAAAAAAAAAAAAAAAAAAAAAAAAAAAAAAAAAAAAAAAAAAAAAAAAAAAAAAAAAAAAAAAAAAAAAAAAAAAAAAAAAAAAAAAAAAAAAAAAAAAAAAAAAAAAAAAAAAAAAAAAAAAAAAAAAAAAAAAAAAAAAAAAAAAAAAAAAAAAAAAAAAAAAAAAAAAAAAAAAAAAAAAAAAAAAAAAAAAAAAAAAAAAAAAAAAAAAAAAAAAAAAAAAAAAAAAAAAAAAAAAAAAAAAAAAAAAAAAAAAAAAAAAAAAAAAAAAAAAAAAAAAAAAAAAAAAAAAAAAAAAAAAAAAAAAAAAAAAAAAAAAAAAAAAAAAAAAAAAAAAAAAAAAAAAAAAAAAAAAAAAAAAAAAAAAAAAAAAAAAAAAAAAAAAAAAAAAAAAAAAAAAAAAAAAAAAAAAAAAAAAACwAAAAAPAAoAEAIUAABCBxIsKDBgwgTKlzIsKHDhxAjSpxIsaLFixgzatzIsaPHjyBDihxJsqTJkyhTqlzJsqXLlzBjypxJs6bNmzhz6tzJs6fPn0CDCh1K1GZAADs=\"><title>Layer: camera (input)\n",
       " shape = (40, 60, 3)\n",
       " Keras class = Input</title></image><text x=\"930.0\" y=\"574.5\" font-family=\"monospace\" font-size=\"12\" text-anchor=\"start\" alignment-baseline=\"central\">camera</text></svg>"
      ],
      "text/plain": [
       "<Network name='Robot Prediction Network' (compiled)>"
      ]
     },
     "execution_count": 20,
     "metadata": {},
     "output_type": "execute_result"
    }
   ],
   "source": [
    "net"
   ]
  },
  {
   "cell_type": "code",
   "execution_count": 21,
   "metadata": {},
   "outputs": [],
   "source": [
    "matrix = net.propagate_to(\"conv\", get_senses(robot))"
   ]
  },
  {
   "cell_type": "code",
   "execution_count": 22,
   "metadata": {},
   "outputs": [],
   "source": [
    "net[\"conv\"].feature = 6"
   ]
  },
  {
   "cell_type": "code",
   "execution_count": 25,
   "metadata": {},
   "outputs": [
    {
     "data": {
      "text/html": [
       "<table><tr><td><img src=\"data:image/gif;base64,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\"/><br/><center>Feature 0</center></td><td><img src=\"data:image/gif;base64,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\"/><br/><center>Feature 1</center></td><td><img src=\"data:image/gif;base64,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\"/><br/><center>Feature 2</center></td><td><img src=\"data:image/gif;base64,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\"/><br/><center>Feature 3</center></td><td><img src=\"data:image/gif;base64,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\"/><br/><center>Feature 4</center></td></tr><tr><td><img src=\"data:image/gif;base64,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\"/><br/><center>Feature 5</center></td><td><img src=\"data:image/gif;base64,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\"/><br/><center>Feature 6</center></td><td><img src=\"data:image/gif;base64,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\"/><br/><center>Feature 7</center></td><td><img src=\"data:image/gif;base64,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\"/><br/><center>Feature 8</center></td><td><img src=\"data:image/gif;base64,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\"/><br/><center>Feature 9</center></td></tr><tr><td><img src=\"data:image/gif;base64,R0lGODdhrgByAIcAAJiYmMPDw7e3t6enp9HR0Y+PjwAAAAAAAAAAAAAAAAAAAAAAAAAAAAAAAAAAAAAAAAAAAAAAAAAAAAAAAAAAAAAAAAAAAAAAAAAAAAAAAAAAAAAAAAAAAAAAAAAAAAAAAAAAAAAAAAAAAAAAAAAAAAAAAAAAAAAAAAAAAAAAAAAAAAAAAAAAAAAAAAAAAAAAAAAAAAAAAAAAAAAAAAAAAAAAAAAAAAAAAAAAAAAAAAAAAAAAAAAAAAAAAAAAAAAAAAAAAAAAAAAAAAAAAAAAAAAAAAAAAAAAAAAAAAAAAAAAAAAAAAAAAAAAAAAAAAAAAAAAAAAAAAAAAAAAAAAAAAAAAAAAAAAAAAAAAAAAAAAAAAAAAAAAAAAAAAAAAAAAAAAAAAAAAAAAAAAAAAAAAAAAAAAAAAAAAAAAAAAAAAAAAAAAAAAAAAAAAAAAAAAAAAAAAAAAAAAAAAAAAAAAAAAAAAAAAAAAAAAAAAAAAAAAAAAAAAAAAAAAAAAAAAAAAAAAAAAAAAAAAAAAAAAAAAAAAAAAAAAAAAAAAAAAAAAAAAAAAAAAAAAAAAAAAAAAAAAAAAAAAAAAAAAAAAAAAAAAAAAAAAAAAAAAAAAAAAAAAAAAAAAAAAAAAAAAAAAAAAAAAAAAAAAAAAAAAAAAAAAAAAAAAAAAAAAAAAAAAAAAAAAAAAAAAAAAAAAAAAAAAAAAAAAAAAAAAAAAAAAAAAAAAAAAAAAAAAAAAAAAAAAAAAAAAAAAAAAAAAAAAAAAAAAAAAAAAAAAAAAAAAAAAAAAAAAAAAAAAAAAAAAAAAAAAAAAAAAAAAAAAAAAAAAAAAAAAAAAAAAAAAAAAAAAAAAAAAAAAAAAAAAAAAAAAAAAAAAAAAAAAAAAAAAAAAAAAAAAAAAAAAAAAAAAAAAAAAAAAAAAAAAAAAAAAAAAAAAAAAAAAAAAAAAAAAAAAAAAAAAAAAAAAAAAAAAAAAAAAAAAAAAAAAAAAAAAAAAAAAAAAAAAAAAAAAAAAAAAAAAAACwAAAAArgByAEAI/wABCBxIsKDBgwgTKlzIsKHDhxAjSpxIsaLFixgzatzIsaPHjyBDihxJsqTJkygFDljJsqVLADBjypxJs6ZNmgNy6tzJUyeAnwOCCh1KtKjRo0iTKl1aVIDTp1CjSp1KtarVqASyag3AtavXr2DDih1LtqzZs2i7CljLtq3bt3Djyp3rloDduwHy6t3Lt6/fv4ADCx5MuLBeAYgTK17MuLHjx5AXE5hMOYDly5gza97MubPnz6BDi74soLTp06hTq17NujVqALBjD5hNm3aB2wNy697Nu7duAcCDBxhOvLjx48iTK1/OXIDz59CjS59Ovbr16ACya9/Ovbv37+DDi/8fT778+AHo06tfn16A+/fw48ufT/89gPv48+vfz7+/f4AABA4kWNDgQYQJFS5k2NDhQ4gRJU6kWNHiRYwZNW7k2NHjR5AhRY4kWdLkSZQpVa5k2dLlS5gxZc6EOcDmTZw5de7k2dPnT6A3AQwdUNToUaQClC5l2tTpU6hRpSoFUHXAVQFZtW7lqjXAV7BhxY4lW9bsWbRpwQpg29btW7hx5c6l+5bAXbwB9O7l29fvX8CBBQ8mXNjwXgGJFS9m3NjxY8iRGROgXDnAZcyZNW/m3NnzZ9ChRY/GLMD0adSpVa9m3do16wCxZc+mXdv2bdy5de/m3bu2AODBhQ8nXtz/+HHkwwEsZ97c+fMB0QFMp17dOvUC2Qds597d+3fw4cWPJ/9dwHn06dWvZ9/e/fvzAOTPp1/f/n38+fXv59/fP0AAAgcSLGjwIMKEChcybOjwIcSIEidSrGjxIsaMGjdy7OjxI8iQIkeSLGnyJMqUKleybOnyJcyYMmfSrGnzJs6cOnfy7MlyANCgQocCKGr0KNKkSpcyber0KdSoUqciHWD1KlarALZyHeD1K9iwYsUKKGv2LNq0ANaybev27dsBcufSrWv3Lt68evfynQvg74DAggcTFmD4MOLEihczbuzYMIDIAyYLqGz5MmbLATZz7uz5M+jQokeTLs1ZAOrU/6pXs27t+jXs2K8D0K5t+zbu3Lp38+7t+7duAcKHEy9u/Djy5MqLE2juPAD06NKnU69u/Tr27Nq3c48u4Dv48OLHky9v/rx4AurXB2jv/j38+PLn069v/z7+/O4F8O/vH6AAgQMJFjR4EGHCggQYNgzwEGJEiRMpVrR4EWNGjRshCvD4EWRIkSNJljQZkkBKlQFYtnT5EmZMmTNp1rR5E2dLATt59vT5E2hQoUODBjB6FGlSpUuZNnX6FGpUqUoFVLV6FWtWrVu5dsUKAKwAsQPIli0rAG3aAGvZtnX7Fm5cuXPp1rW7VkBevXv59vX7F3BgvgAIFx5wGDHiAosHNP92/BhyZMcCKFcOcBlzZs2bOXf2/Bm0ANGjSZc2fRp1atWlAbR2/Rp2bNmzade2fRt37tsDePf2/bu3AOHDiRc3fhz5cADLmTd3/hx6dOnTqVe3fh279ALbB3T3/r07APHjyZc3fx59evXr2bd3/x5+fPnz6de3fx9/fv37+ff3DxCAwIEECxo8iDChwoUMGzp8CDGixIkUK1q8iDGjxo0cO3r8CDKkyJEkS5o8iTKlypUsW7p8CTOmzJk0a9q8iTOnzp08e/r8CTSo0KFEixo9ijSp0qVMmzp9CjWq1KkhB1i9ijUrgK1cu3r9Cjas2LFky5o9izat1wFs27plCyD/rtwBdOvavYsXr4C9fPv6/QsgsODBhAsbPow4seLFjBsLHgA5smTIACpbHoA5s+bNnDkL+Aw6tOjRAEqbPo06deoBrFu7fg07tuzZtGvbbg0g94DdvHv7FgA8uPDhxIsbPx4cgPLlywc4fw49+nMA1AdYv449u/bt3Lt7/w5eu4Dx5MubP48+vfr15gG4f/9+gPz59OvPB4B/gP79/Pv7BzhA4ECCBQ0eRJhQIUIBDR0+hBhR4kSKFS06BJBxwEYBHT1+BOkxwEiSJU2eRJlS5UqWLUkKgBlT5kyaNW3exJnzZgCePX3+BBpU6FCiRY0eFSpA6VKmTZ0+hRpV6tSo/wGsXsWaVetWrl29fgUblqsAsmXNnkWbVu1atmcJvIUbQO5cunXt3sWbV+9evn39zhUQWPBgwoUNH0acmDABxo0DPIYcWfJkypUtX8acWfNmyAI8fwYdWvRo0qVNhyaQWnUA1q1dv4YdW/Zs2rVt38bdWsBu3r19/wYeXPhw3wSMHw+QXPly5s2dP4ceXfp06tWVC8CeXft27t29fwe/ncB48gHMn0efXv169u3dv4cfX/55AfXt38efX/9+/v3xAyQgcGCAggYPIkyocCHDhg4fQoxoUADFihYvYsyocSPHiwQ+ggwgciTJkiZPokypciXLli5HCogpcybNmjZv4v/MSZMAz54BfgINKnQo0aJGjyJNqnQpUAFOn0KNKnUq1apWoxLIqjUA165ev4INK3Ys2bJmz6LtKmAt27Zu38KNK3du3AB27+LNq3cv375+/wIOLFivgMKGDyNOrHgx48aIAUAWIHkA5cqVBWDOHGAz586eP4MOLXo06dKmNwtIrXo169auX8OOzRoAbQG2B+DOnVsA794BfgMPLnw48eLGjyNPrvy3gObOn0OPLn069erQAWDPPmA7d+4Fvg8IL348+fLiBaBPH2A9+/bu38OPL38+fQH27+PPr38///7+AQoQKBBAQYMHESYcsBBAQ4cPITosMHFARYsXMWbUuJHoY0ePGQWEFDmSZEmTJ1GmDAmAZUuXL2EOkAmAZk2bN2sW0DmAZ0+fP4EGFTqUaFGgApAmVbqUaVOnT6EiBTCValWrV7Fm1bqVa1evX7sOEDuWbNmxAtCmVbuWbVu3aQHElTuXbl27d/Hm1buXb1+/eAsEHjCYcOHBABAnVryYcWPHjyFHljyZcmXLlxkX0DyAc2fPnAGEFj2adGnTp1GnVr2adWvXr2HHlj2bdm3bt3Hn1r2bd2/fv4EHFz6ceHHjx5EnV76ceXPnz6FHlz6denXr17Fn176de3fv38GHFz+efHnz51cHBAA7\"/><br/><center>Feature 10</center></td><td><img src=\"data:image/gif;base64,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\"/><br/><center>Feature 11</center></td><td><img src=\"data:image/gif;base64,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\"/><br/><center>Feature 12</center></td><td><img src=\"data:image/gif;base64,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\"/><br/><center>Feature 13</center></td><td><img src=\"data:image/gif;base64,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\"/><br/><center>Feature 14</center></td></tr><tr><td><img src=\"data:image/gif;base64,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\"/><br/><center>Feature 15</center></td></tr>"
      ],
      "text/plain": [
       "<IPython.core.display.HTML object>"
      ]
     },
     "execution_count": 25,
     "metadata": {},
     "output_type": "execute_result"
    }
   ],
   "source": [
    "net.propagate_to_features(\"conv\", get_senses(robot), scale=3)"
   ]
  }
 ],
 "metadata": {
  "kernelspec": {
   "display_name": "Python 3",
   "language": "python",
   "name": "python3"
  },
  "language_info": {
   "codemirror_mode": {
    "name": "ipython",
    "version": 3
   },
   "file_extension": ".py",
   "mimetype": "text/x-python",
   "name": "python",
   "nbconvert_exporter": "python",
   "pygments_lexer": "ipython3",
   "version": "3.5.3"
  },
  "widgets": {
   "application/vnd.jupyter.widget-state+json": {
    "state": {
     "08423084241441eb9091dfd3995ec7fe": {
      "model_module": "jupyter-js-widgets",
      "model_module_version": "~2.1.4",
      "model_name": "LayoutModel",
      "state": {
       "_model_module_version": "~2.1.4",
       "_view_module_version": "~2.1.4"
      }
     },
     "0a486aece37d4ceda35626962a10b644": {
      "model_module": "jupyter-js-widgets",
      "model_module_version": "~2.1.4",
      "model_name": "LayoutModel",
      "state": {
       "_model_module_version": "~2.1.4",
       "_view_module_version": "~2.1.4",
       "height": "20px",
       "padding": "0px 0px 0px 0px",
       "width": "248px"
      }
     },
     "116e160ad9f14e7fb81d6dabde0c37eb": {
      "model_module": "jupyter-js-widgets",
      "model_module_version": "~2.1.4",
      "model_name": "FloatSliderModel",
      "state": {
       "_model_module_version": "~2.1.4",
       "_view_module_version": "~2.1.4",
       "layout": "IPY_MODEL_c3c7c15d20ec4640a9f5fe85ade3682c",
       "orientation": "vertical",
       "readout": false,
       "step": 0.1,
       "value": 51.24999999999999
      }
     },
     "1adceb8e00834cea8cf5b6dbe7433a09": {
      "model_module": "jupyter-js-widgets",
      "model_module_version": "~2.1.4",
      "model_name": "LayoutModel",
      "state": {
       "_model_module_version": "~2.1.4",
       "_view_module_version": "~2.1.4"
      }
     },
     "1c00298cd5294f93a5bd80d8eb821703": {
      "model_module": "jupyter-js-widgets",
      "model_module_version": "~2.1.4",
      "model_name": "ImageModel",
      "state": {
       "_b64value": "iVBORw0KGgoAAAANSUhEUgAAADwAAAAoCAIAAAAt2Q6oAAAA8UlEQVR4nO3WoQ7CMBCA4d5d++gYggJDwMwgEJshATHkEIRgUCCwkxiwZAhGMxq2bIRcaXKfWOb655b0BvExV6FB3wHfkGguEs1ForlINBeJ5qJ9B5TuhwzeKaWqz+qLt+jbNkVEIgIARLRBbXSOztPYDqBuEg2KokBEYwwRdT3a+hx9SiJ8sZOofji/yuhdNCQirTURPVv9ZjXTm8kAAIwxvks6+OuJ1pFoLhLNJchouFzPSql+b+rc0w3L5Vcb0Vnj7f89ymjHeDQPL7rBLFqGF/0riyQLL9qxXu3Di+4kyCtPorlINBeJ5iLRXIKMfgDJGDkVat0rzwAAAABJRU5ErkJggg==",
       "_model_module_version": "~2.1.4",
       "_view_module_version": "~2.1.4",
       "layout": "IPY_MODEL_826d8904866c4e82ba2a9a5221fd2631",
       "width": "240"
      }
     },
     "2e5b657e21fa4e3fb459a974ef89ffea": {
      "model_module": "jupyter-js-widgets",
      "model_module_version": "~2.1.4",
      "model_name": "FloatSliderModel",
      "state": {
       "_model_module_version": "~2.1.4",
       "_view_module_version": "~2.1.4",
       "layout": "IPY_MODEL_0a486aece37d4ceda35626962a10b644",
       "readout": false,
       "step": 0.1,
       "value": 99.44295769917836
      }
     },
     "2e5d973073534c3eb26e448b646a8c7d": {
      "model_module": "jupyter-js-widgets",
      "model_module_version": "~2.1.4",
      "model_name": "OutputModel",
      "state": {
       "_dom_classes": [],
       "_model_module": "jupyter-js-widgets",
       "_model_module_version": "~2.1.4",
       "_view_module": "jupyter-js-widgets",
       "_view_module_version": "~2.1.4",
       "layout": "IPY_MODEL_39f10ac0d7e94b6a998cecbcde4c3c24",
       "msg_throttle": 1
      }
     },
     "35e0bf572944420cb3eb23722feea99e": {
      "model_module": "jupyter-js-widgets",
      "model_module_version": "~2.1.4",
      "model_name": "LayoutModel",
      "state": {
       "_model_module_version": "~2.1.4",
       "_view_module_version": "~2.1.4"
      }
     },
     "39f10ac0d7e94b6a998cecbcde4c3c24": {
      "model_module": "jupyter-js-widgets",
      "model_module_version": "~2.1.4",
      "model_name": "LayoutModel",
      "state": {
       "_model_module_version": "~2.1.4",
       "_view_module_version": "~2.1.4"
      }
     },
     "497f35579b594d33b9416aa809c0bbe3": {
      "model_module": "jupyter-js-widgets",
      "model_module_version": "~2.1.4",
      "model_name": "LayoutModel",
      "state": {
       "_model_module_version": "~2.1.4",
       "_view_module_version": "~2.1.4"
      }
     },
     "4bdda6111b9546a697c36c05475b6a3e": {
      "model_module": "jupyter-js-widgets",
      "model_module_version": "~2.1.4",
      "model_name": "TextModel",
      "state": {
       "_model_module_version": "~2.1.4",
       "_view_module_version": "~2.1.4",
       "description": "Time:",
       "layout": "IPY_MODEL_e558e089bd89408784f5d3d9c965f2aa",
       "value": "0.10 seconds"
      }
     },
     "5527ccfc5f274a7dbc6ce3afe206b84b": {
      "model_module": "jupyter-js-widgets",
      "model_module_version": "~2.1.4",
      "model_name": "CheckboxModel",
      "state": {
       "_model_module_version": "~2.1.4",
       "_view_module_version": "~2.1.4",
       "description": "Update GUI",
       "disabled": false,
       "layout": "IPY_MODEL_752f6bab412348b7b4fbcd2a3a3dd15a",
       "value": true
      }
     },
     "55d26593c20a4c6fa86765e4fa753a11": {
      "model_module": "jupyter-js-widgets",
      "model_module_version": "~2.1.4",
      "model_name": "LayoutModel",
      "state": {
       "_model_module_version": "~2.1.4",
       "_view_module_version": "~2.1.4"
      }
     },
     "5d02f863f83c4124aa1dea90e55f836c": {
      "model_module": "jupyter-js-widgets",
      "model_module_version": "~2.1.4",
      "model_name": "HTMLModel",
      "state": {
       "_model_module_version": "~2.1.4",
       "_view_module_version": "~2.1.4",
       "layout": "IPY_MODEL_08423084241441eb9091dfd3995ec7fe",
       "value": "<svg baseProfile=\"full\" height=\"240\" version=\"1.1\" width=\"240\" xmlns=\"http://www.w3.org/2000/svg\" xmlns:ev=\"http://www.w3.org/2001/xml-events\" xmlns:xlink=\"http://www.w3.org/1999/xlink\"><defs /><rect fill=\"white\" height=\"240\" stroke=\"#000000\" stroke-width=\"1\" width=\"240\" x=\"0\" y=\"0\" /><rect fill=\"#eef3dd\" height=\"240.0\" stroke=\"#bebebe\" stroke-width=\"1\" width=\"240.0\" x=\"0.0\" y=\"0.0\" /><circle cx=\"120.0\" cy=\"195.0\" fill=\"#ffff00\" r=\"15.0\" stroke=\"#ffff00\" stroke-width=\"1\" /><line fill=\"#800080\" stroke=\"#add8e6\" stroke-width=\"1\" x1=\"199.29647346587737\" x2=\"0.0\" y1=\"111.37109959820461\" y2=\"118.34932799999999\" /><line fill=\"#800080\" stroke=\"#add8e6\" stroke-width=\"1\" x1=\"200.64858482032437\" x2=\"0.0\" y1=\"107.12118255369946\" y2=\"21.973026000000004\" /><line fill=\"#800080\" stroke=\"#add8e6\" stroke-width=\"1\" x1=\"202.98412783209295\" x2=\"108.20933355871675\" y1=\"105.23830209010676\" y2=\"0.0\" /><line fill=\"#800080\" stroke=\"#add8e6\" stroke-width=\"1\" x1=\"206.529433775271\" x2=\"174.84110042201567\" y1=\"103.61324646974592\" y2=\"0.0\" /><line fill=\"#800080\" stroke=\"#add8e6\" stroke-width=\"1\" x1=\"212.52575915041191\" x2=\"236.38811675880686\" y1=\"103.4032893421199\" y2=\"0.0\" /><line fill=\"#800080\" stroke=\"#add8e6\" stroke-width=\"1\" x1=\"216.176043657403\" x2=\"240.0\" y1=\"104.77639640932952\" y2=\"74.27725800000002\" /><line fill=\"#800080\" stroke=\"#add8e6\" stroke-width=\"1\" x1=\"218.63756094574717\" x2=\"240.0\" y1=\"106.49131117082139\" y2=\"95.60408999999999\" /><line fill=\"#800080\" stroke=\"#add8e6\" stroke-width=\"1\" x1=\"220.28361227887063\" x2=\"240.0\" y1=\"110.63624965151354\" y2=\"109.94589599999998\" /><line fill=\"#800080\" stroke=\"#add8e6\" stroke-width=\"1\" x1=\"220.70352653412263\" x2=\"240.0\" y1=\"122.62890040179542\" y2=\"121.95324600000001\" /><line fill=\"#800080\" stroke=\"#add8e6\" stroke-width=\"1\" x1=\"219.35141517967563\" x2=\"240.0\" y1=\"126.87881744630057\" y2=\"135.641346\" /><line fill=\"#800080\" stroke=\"#add8e6\" stroke-width=\"1\" x1=\"217.01587216790705\" x2=\"240.0\" y1=\"128.76169790989326\" y2=\"154.283364\" /><line fill=\"#800080\" stroke=\"#add8e6\" stroke-width=\"1\" x1=\"213.470566224729\" x2=\"240.0\" y1=\"130.3867535302541\" y2=\"217.131636\" /><line fill=\"#800080\" stroke=\"#add8e6\" stroke-width=\"1\" x1=\"207.47424084958809\" x2=\"182.22726449088904\" y1=\"130.59671065788012\" y2=\"240.0\" /><line fill=\"#800080\" stroke=\"#add8e6\" stroke-width=\"1\" x1=\"203.823956342597\" x2=\"117.29260723482744\" y1=\"129.2236035906705\" y2=\"240.0\" /><line fill=\"#800080\" stroke=\"#add8e6\" stroke-width=\"1\" x1=\"201.36243905425283\" x2=\"0.0\" y1=\"127.50868882917862\" y2=\"230.131668\" /><line fill=\"#800080\" stroke=\"#add8e6\" stroke-width=\"1\" x1=\"199.71638772112937\" x2=\"0.0\" y1=\"123.36375034848649\" y2=\"130.356678\" /><line fill=\"#800080\" stroke=\"#a020f0\" stroke-width=\"1\" x1=\"210.0\" x2=\"0.0\" y1=\"117.00000000000001\" y2=\"5.366183999999992\" /><line fill=\"#800080\" stroke=\"#a020f0\" stroke-width=\"1\" x1=\"210.0\" x2=\"240.0\" y1=\"117.00000000000001\" y2=\"98.250024\" /><line fill=\"#800080\" stroke=\"#ffa500\" stroke-width=\"1\" x1=\"120.0\" x2=\"199.03402705634483\" y1=\"195.0\" y2=\"103.87569287927845\" /><line fill=\"#800080\" stroke=\"#ffa500\" stroke-width=\"1\" x1=\"120.0\" x2=\"220.02116586933806\" y1=\"195.0\" y2=\"103.14084293258738\" /><polygon fill=\"red\" points=\"204.7305361627287,103.67623360803373 199.19149490206433,108.37293691063414 199.82136628494237,126.36191303605695 205.67534323704578,130.65969779616793 215.2694638372713,130.3237663919663 220.80850509793567,125.62706308936588 220.17863371505763,107.63808696394308 214.32465676295422,103.3403022038321\" stroke=\"red\" stroke-width=\"1\" /><polygon points=\"-3.0,-3.0 0,0 3.0,-3.0 0,3.0\" stroke=\"black\" stroke-width=\"1\" transform=\"translate(210.0,117.00000000000001) rotate(177.9946477170421)\" /><polygon fill=\"black\" points=\"213.30385524640815,108.4791701982271 213.47182094850893,113.27623049833983 206.2762304983398,113.52817905149107 206.108264796239,108.73111875137835\" stroke=\"black\" stroke-width=\"1\" /><circle cx=\"199.03402705634483\" cy=\"103.87569287927845\" fill=\"yellow\" r=\"1.5\" stroke=\"orange\" stroke-width=\"1\" /><circle cx=\"220.02116586933806\" cy=\"103.14084293258738\" fill=\"yellow\" r=\"1.5\" stroke=\"orange\" stroke-width=\"1\" /></svg>"
      }
     },
     "6d1f771c19254382accb04cae6f7b62e": {
      "model_module": "jupyter-js-widgets",
      "model_module_version": "~2.1.4",
      "model_name": "HBoxModel",
      "state": {
       "_model_module_version": "~2.1.4",
       "_view_module_version": "~2.1.4",
       "children": [
        "IPY_MODEL_5527ccfc5f274a7dbc6ce3afe206b84b",
        "IPY_MODEL_4bdda6111b9546a697c36c05475b6a3e"
       ],
       "layout": "IPY_MODEL_b0fe5bc26a9a44bb95dcf2756e7f5088"
      }
     },
     "7001bc75c2104b43a6bd388d787ba44a": {
      "model_module": "jupyter-js-widgets",
      "model_module_version": "~2.1.4",
      "model_name": "VBoxModel",
      "state": {
       "_model_module_version": "~2.1.4",
       "_view_module_version": "~2.1.4",
       "children": [
        "IPY_MODEL_d0cefa9ffa6841c8b59ef0278cc97beb",
        "IPY_MODEL_852d97123f894e63b3ebef0aef4d9a3c",
        "IPY_MODEL_2e5d973073534c3eb26e448b646a8c7d"
       ],
       "layout": "IPY_MODEL_d61e3a6a6d9a409e8f9f65f4541dfd99"
      }
     },
     "752f6bab412348b7b4fbcd2a3a3dd15a": {
      "model_module": "jupyter-js-widgets",
      "model_module_version": "~2.1.4",
      "model_name": "LayoutModel",
      "state": {
       "_model_module_version": "~2.1.4",
       "_view_module_version": "~2.1.4"
      }
     },
     "826d8904866c4e82ba2a9a5221fd2631": {
      "model_module": "jupyter-js-widgets",
      "model_module_version": "~2.1.4",
      "model_name": "LayoutModel",
      "state": {
       "_model_module_version": "~2.1.4",
       "_view_module_version": "~2.1.4"
      }
     },
     "827d29fe3e44461ea1e5e05c88098d68": {
      "model_module": "jupyter-js-widgets",
      "model_module_version": "~2.1.4",
      "model_name": "LayoutModel",
      "state": {
       "_model_module_version": "~2.1.4",
       "_view_module_version": "~2.1.4"
      }
     },
     "852d97123f894e63b3ebef0aef4d9a3c": {
      "model_module": "jupyter-js-widgets",
      "model_module_version": "~2.1.4",
      "model_name": "HBoxModel",
      "state": {
       "_model_module_version": "~2.1.4",
       "_view_module_version": "~2.1.4",
       "children": [
        "IPY_MODEL_dd4d62d9e58842aa9d84a32eb9cb982b",
        "IPY_MODEL_9b7c5fb54cc14aff95c4da6406a0f9ed",
        "IPY_MODEL_d7171539ef4d427cbdcf2195a6ca282d"
       ],
       "layout": "IPY_MODEL_aa94d9d63ae740c3af61b752640a80eb"
      }
     },
     "89534f4f8b8340549bf750fb7dfe0a7a": {
      "model_module": "jupyter-js-widgets",
      "model_module_version": "~2.1.4",
      "model_name": "LayoutModel",
      "state": {
       "_model_module_version": "~2.1.4",
       "_view_module_version": "~2.1.4"
      }
     },
     "9975e40b042c4cd0acf0d02d9b6a3849": {
      "model_module": "jupyter-js-widgets",
      "model_module_version": "~2.1.4",
      "model_name": "HBoxModel",
      "state": {
       "_model_module_version": "~2.1.4",
       "_view_module_version": "~2.1.4",
       "children": [
        "IPY_MODEL_116e160ad9f14e7fb81d6dabde0c37eb",
        "IPY_MODEL_5d02f863f83c4124aa1dea90e55f836c"
       ],
       "layout": "IPY_MODEL_bd23f5a3366547359806ed9502494e70"
      }
     },
     "9af44a5cae7246a89a20a5fbd5a0f130": {
      "model_module": "jupyter-js-widgets",
      "model_module_version": "~2.1.4",
      "model_name": "HBoxModel",
      "state": {
       "_model_module_version": "~2.1.4",
       "_view_module_version": "~2.1.4",
       "children": [
        "IPY_MODEL_c1ceded972004efa89bf5d3ee4943378",
        "IPY_MODEL_d37e45d89f4640d9858bfe2a0f53ad63"
       ],
       "layout": "IPY_MODEL_1adceb8e00834cea8cf5b6dbe7433a09"
      }
     },
     "9b7c5fb54cc14aff95c4da6406a0f9ed": {
      "model_module": "jupyter-js-widgets",
      "model_module_version": "~2.1.4",
      "model_name": "PlayModel",
      "state": {
       "_model_module_version": "~2.1.4",
       "_view_module_version": "~2.1.4",
       "layout": "IPY_MODEL_827d29fe3e44461ea1e5e05c88098d68",
       "max": 1000000
      }
     },
     "9c61c7e69e704f0cbddb4bfa789e9eb2": {
      "model_module": "jupyter-js-widgets",
      "model_module_version": "~2.1.4",
      "model_name": "ButtonStyleModel",
      "state": {
       "_model_module_version": "~2.1.4",
       "_view_module_version": "~2.1.4"
      }
     },
     "a64f5b5a05b545fb8c99ab1de942f334": {
      "model_module": "jupyter-js-widgets",
      "model_module_version": "~2.1.4",
      "model_name": "LayoutModel",
      "state": {
       "_model_module_version": "~2.1.4",
       "_view_module_version": "~2.1.4"
      }
     },
     "aa94d9d63ae740c3af61b752640a80eb": {
      "model_module": "jupyter-js-widgets",
      "model_module_version": "~2.1.4",
      "model_name": "LayoutModel",
      "state": {
       "_model_module_version": "~2.1.4",
       "_view_module_version": "~2.1.4"
      }
     },
     "ad478466503948e3ac134c0d813b347d": {
      "model_module": "jupyter-js-widgets",
      "model_module_version": "~2.1.4",
      "model_name": "FloatSliderModel",
      "state": {
       "_model_module_version": "~2.1.4",
       "_view_module_version": "~2.1.4",
       "layout": "IPY_MODEL_eef4e9caeead4949aec10f216c39e9bd",
       "readout": false,
       "step": 0.1,
       "value": 87.5
      }
     },
     "b0fe5bc26a9a44bb95dcf2756e7f5088": {
      "model_module": "jupyter-js-widgets",
      "model_module_version": "~2.1.4",
      "model_name": "LayoutModel",
      "state": {
       "_model_module_version": "~2.1.4",
       "_view_module_version": "~2.1.4"
      }
     },
     "ba31d73a384e45dcbda53395c2bf5992": {
      "model_module": "jupyter-js-widgets",
      "model_module_version": "~2.1.4",
      "model_name": "LayoutModel",
      "state": {
       "_model_module_version": "~2.1.4",
       "_view_module_version": "~2.1.4"
      }
     },
     "bd23f5a3366547359806ed9502494e70": {
      "model_module": "jupyter-js-widgets",
      "model_module_version": "~2.1.4",
      "model_name": "LayoutModel",
      "state": {
       "_model_module_version": "~2.1.4",
       "_view_module_version": "~2.1.4"
      }
     },
     "c1ceded972004efa89bf5d3ee4943378": {
      "model_module": "jupyter-js-widgets",
      "model_module_version": "~2.1.4",
      "model_name": "VBoxModel",
      "state": {
       "_model_module_version": "~2.1.4",
       "_view_module_version": "~2.1.4",
       "children": [
        "IPY_MODEL_9975e40b042c4cd0acf0d02d9b6a3849",
        "IPY_MODEL_ad478466503948e3ac134c0d813b347d"
       ],
       "layout": "IPY_MODEL_89534f4f8b8340549bf750fb7dfe0a7a"
      }
     },
     "c2195209deb34c269574ca9023bd156f": {
      "model_module": "jupyter-js-widgets",
      "model_module_version": "~2.1.4",
      "model_name": "ButtonStyleModel",
      "state": {
       "_model_module_version": "~2.1.4",
       "_view_module_version": "~2.1.4"
      }
     },
     "c3c7c15d20ec4640a9f5fe85ade3682c": {
      "model_module": "jupyter-js-widgets",
      "model_module_version": "~2.1.4",
      "model_name": "LayoutModel",
      "state": {
       "_model_module_version": "~2.1.4",
       "_view_module_version": "~2.1.4",
       "height": "248px",
       "padding": "0px 0px 0px 0px",
       "width": "10px"
      }
     },
     "d0cefa9ffa6841c8b59ef0278cc97beb": {
      "model_module": "jupyter-js-widgets",
      "model_module_version": "~2.1.4",
      "model_name": "VBoxModel",
      "state": {
       "_model_module_version": "~2.1.4",
       "_view_module_version": "~2.1.4",
       "children": [
        "IPY_MODEL_6d1f771c19254382accb04cae6f7b62e",
        "IPY_MODEL_9af44a5cae7246a89a20a5fbd5a0f130"
       ],
       "layout": "IPY_MODEL_dd4313da261c4547902a7c752f0fc454"
      }
     },
     "d37e45d89f4640d9858bfe2a0f53ad63": {
      "model_module": "jupyter-js-widgets",
      "model_module_version": "~2.1.4",
      "model_name": "VBoxModel",
      "state": {
       "_model_module_version": "~2.1.4",
       "_view_module_version": "~2.1.4",
       "children": [
        "IPY_MODEL_1c00298cd5294f93a5bd80d8eb821703",
        "IPY_MODEL_2e5b657e21fa4e3fb459a974ef89ffea"
       ],
       "layout": "IPY_MODEL_a64f5b5a05b545fb8c99ab1de942f334"
      }
     },
     "d61e3a6a6d9a409e8f9f65f4541dfd99": {
      "model_module": "jupyter-js-widgets",
      "model_module_version": "~2.1.4",
      "model_name": "LayoutModel",
      "state": {
       "_model_module_version": "~2.1.4",
       "_view_module_version": "~2.1.4"
      }
     },
     "d7171539ef4d427cbdcf2195a6ca282d": {
      "model_module": "jupyter-js-widgets",
      "model_module_version": "~2.1.4",
      "model_name": "ButtonModel",
      "state": {
       "_model_module_version": "~2.1.4",
       "_view_module_version": "~2.1.4",
       "description": "Clear",
       "layout": "IPY_MODEL_ba31d73a384e45dcbda53395c2bf5992",
       "style": "IPY_MODEL_c2195209deb34c269574ca9023bd156f"
      }
     },
     "d983b94c07a44bcf96b3b6294d43c01f": {
      "model_module": "jupyter-js-widgets",
      "model_module_version": "~2.1.4",
      "model_name": "LayoutModel",
      "state": {
       "_model_module_version": "~2.1.4",
       "_view_module_version": "~2.1.4"
      }
     },
     "dd4313da261c4547902a7c752f0fc454": {
      "model_module": "jupyter-js-widgets",
      "model_module_version": "~2.1.4",
      "model_name": "LayoutModel",
      "state": {
       "_model_module_version": "~2.1.4",
       "_view_module_version": "~2.1.4"
      }
     },
     "dd4d62d9e58842aa9d84a32eb9cb982b": {
      "model_module": "jupyter-js-widgets",
      "model_module_version": "~2.1.4",
      "model_name": "ButtonModel",
      "state": {
       "_model_module_version": "~2.1.4",
       "_view_module_version": "~2.1.4",
       "icon": "step-forward",
       "layout": "IPY_MODEL_497f35579b594d33b9416aa809c0bbe3",
       "style": "IPY_MODEL_9c61c7e69e704f0cbddb4bfa789e9eb2"
      }
     },
     "e558e089bd89408784f5d3d9c965f2aa": {
      "model_module": "jupyter-js-widgets",
      "model_module_version": "~2.1.4",
      "model_name": "LayoutModel",
      "state": {
       "_model_module_version": "~2.1.4",
       "_view_module_version": "~2.1.4"
      }
     },
     "eef4e9caeead4949aec10f216c39e9bd": {
      "model_module": "jupyter-js-widgets",
      "model_module_version": "~2.1.4",
      "model_name": "LayoutModel",
      "state": {
       "_model_module_version": "~2.1.4",
       "_view_module_version": "~2.1.4",
       "height": "30px",
       "padding": "0px 0px 0px 10px",
       "width": "260px"
      }
     }
    },
    "version_major": 1,
    "version_minor": 0
   }
  }
 },
 "nbformat": 4,
 "nbformat_minor": 2
}
