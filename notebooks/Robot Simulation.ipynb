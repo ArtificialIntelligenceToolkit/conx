{
 "cells": [
  {
   "cell_type": "markdown",
   "metadata": {},
   "source": [
    "# Robot Simulation"
   ]
  },
  {
   "cell_type": "code",
   "execution_count": 1,
   "metadata": {},
   "outputs": [],
   "source": [
    "from jyro.simulator import (Robot, Pioneer, Pioneer16Sonars, \n",
    "                            PioneerFrontLightSensors, Camera,\n",
    "                            VSimulator)\n",
    "import random\n",
    "import numpy as np"
   ]
  },
  {
   "cell_type": "code",
   "execution_count": 2,
   "metadata": {},
   "outputs": [],
   "source": [
    "robot = Pioneer(\"Pioneer\", 3.5, 2, 0)"
   ]
  },
  {
   "cell_type": "code",
   "execution_count": 3,
   "metadata": {},
   "outputs": [
    {
     "data": {
      "image/svg+xml": [
       "<svg baseProfile=\"full\" height=\"240\" version=\"1.1\" width=\"240\" xmlns=\"http://www.w3.org/2000/svg\" xmlns:ev=\"http://www.w3.org/2001/xml-events\" xmlns:xlink=\"http://www.w3.org/1999/xlink\"><defs /><line fill=\"#800080\" stroke=\"#d3d3d3\" stroke-width=\"1\" x1=\"78.0\" x2=\"-1842.0\" y1=\"96.0\" y2=\"95.9999999999999\" /><line fill=\"#800080\" stroke=\"#d3d3d3\" stroke-width=\"1\" x1=\"84.0\" x2=\"-1656.110951110368\" y1=\"79.19999999999999\" y2=\"-732.227062542143\" /><line fill=\"#800080\" stroke=\"#d3d3d3\" stroke-width=\"1\" x1=\"93.60000000000001\" x2=\"-1140.5522105981554\" y1=\"72.00000000000001\" y2=\"-1398.805330788438\" /><line fill=\"#800080\" stroke=\"#d3d3d3\" stroke-width=\"1\" x1=\"108.0\" x2=\"-388.9325665968398\" y1=\"66.0\" y2=\"-1788.5775864750112\" /><line fill=\"#800080\" stroke=\"#d3d3d3\" stroke-width=\"1\" x1=\"132.0\" x2=\"628.9325665968398\" y1=\"66.0\" y2=\"-1788.5775864750112\" /><line fill=\"#800080\" stroke=\"#d3d3d3\" stroke-width=\"1\" x1=\"146.4\" x2=\"1380.5522105981554\" y1=\"72.00000000000001\" y2=\"-1398.805330788438\" /><line fill=\"#800080\" stroke=\"#d3d3d3\" stroke-width=\"1\" x1=\"156.0\" x2=\"1896.110951110368\" y1=\"79.19999999999999\" y2=\"-732.227062542143\" /><line fill=\"#800080\" stroke=\"#d3d3d3\" stroke-width=\"1\" x1=\"162.0\" x2=\"2082.0\" y1=\"96.0\" y2=\"95.9999999999999\" /><line fill=\"#800080\" stroke=\"#d3d3d3\" stroke-width=\"1\" x1=\"162.0\" x2=\"2082.0\" y1=\"144.00000000000003\" y2=\"143.9999999999999\" /><line fill=\"#800080\" stroke=\"#d3d3d3\" stroke-width=\"1\" x1=\"156.0\" x2=\"1896.1109511103682\" y1=\"160.8\" y2=\"972.2270625421423\" /><line fill=\"#800080\" stroke=\"#d3d3d3\" stroke-width=\"1\" x1=\"146.4\" x2=\"1380.5522105981554\" y1=\"168.0\" y2=\"1638.805330788438\" /><line fill=\"#800080\" stroke=\"#d3d3d3\" stroke-width=\"1\" x1=\"132.0\" x2=\"628.9325665968399\" y1=\"174.0\" y2=\"2028.5775864750112\" /><line fill=\"#800080\" stroke=\"#d3d3d3\" stroke-width=\"1\" x1=\"107.99999999999999\" x2=\"-388.9325665968404\" y1=\"174.0\" y2=\"2028.5775864750108\" /><line fill=\"#800080\" stroke=\"#d3d3d3\" stroke-width=\"1\" x1=\"93.60000000000001\" x2=\"-1140.5522105981559\" y1=\"168.0\" y2=\"1638.8053307884377\" /><line fill=\"#800080\" stroke=\"#d3d3d3\" stroke-width=\"1\" x1=\"84.0\" x2=\"-1656.1109511103682\" y1=\"160.8\" y2=\"972.2270625421426\" /><line fill=\"#800080\" stroke=\"#d3d3d3\" stroke-width=\"1\" x1=\"78.0\" x2=\"-1842.0\" y1=\"144.0\" y2=\"143.99999999999986\" /><polygon fill=\"red\" points=\"100.8,66.0 78.0,84.0 78.0,156.0 100.8,174.0 139.2,174.0 162.0,156.0 162.0,84.0 139.2,66.0\" stroke=\"red\" stroke-width=\"1\" /><polygon points=\"-12.0,-12.0 0,0 12.0,-12.0 0,12.0\" stroke=\"black\" stroke-width=\"1\" transform=\"translate(120.0,120.0) rotate(180.0)\" /><polygon fill=\"black\" points=\"134.4,86.39999999999999 134.4,105.6 105.6,105.6 105.6,86.39999999999999\" stroke=\"black\" stroke-width=\"1\" /><circle cx=\"78.0\" cy=\"66.0\" fill=\"yellow\" r=\"6.0\" stroke=\"orange\" stroke-width=\"1\" /><circle cx=\"162.0\" cy=\"66.0\" fill=\"yellow\" r=\"6.0\" stroke=\"orange\" stroke-width=\"1\" /></svg>"
      ],
      "text/plain": [
       "<jyro.simulator.robot.Pioneer at 0x7f864419fda0>"
      ]
     },
     "execution_count": 3,
     "metadata": {},
     "output_type": "execute_result"
    }
   ],
   "source": [
    "robot.addDevice(Pioneer16Sonars())\n",
    "robot.addDevice(Camera())\n",
    "light_sensors = PioneerFrontLightSensors(3.0)\n",
    "light_sensors.lightMode = 'ambient'\n",
    "robot.addDevice(light_sensors)"
   ]
  },
  {
   "cell_type": "code",
   "execution_count": 4,
   "metadata": {},
   "outputs": [],
   "source": [
    "def worldf(physics):\n",
    "    physics.addBox(0, 0, 4, 4, fill=\"backgroundgreen\", wallcolor=\"gray\")\n",
    "    physics.addLight(2, 0.75, 1.0) # increased brightness for new linear version of lights"
   ]
  },
  {
   "cell_type": "code",
   "execution_count": 5,
   "metadata": {},
   "outputs": [
    {
     "data": {
      "application/vnd.jupyter.widget-view+json": {
       "model_id": "848b419cf61f473a81bcce3bf7f7e6d8",
       "version_major": 2,
       "version_minor": 0
      },
      "text/html": [
       "<p>Failed to display Jupyter Widget of type <code>VBox</code>.</p>\n",
       "<p>\n",
       "  If you're reading this message in Jupyter Notebook or JupyterLab, it may mean\n",
       "  that the widgets JavaScript is still loading. If this message persists, it\n",
       "  likely means that the widgets JavaScript library is either not installed or\n",
       "  not enabled. See the <a href=\"https://ipywidgets.readthedocs.io/en/stable/user_install.html\">Jupyter\n",
       "  Widgets Documentation</a> for setup instructions.\n",
       "</p>\n",
       "<p>\n",
       "  If you're reading this message in another notebook frontend (for example, a static\n",
       "  rendering on GitHub or <a href=\"https://nbviewer.jupyter.org/\">NBViewer</a>),\n",
       "  it may mean that your frontend doesn't currently support widgets.\n",
       "</p>\n"
      ],
      "text/plain": [
       "VBox(children=(VBox(children=(HBox(children=(Checkbox(value=True, description='Update GUI'), Checkbox(value=False, description='Trace Path'), Text(value='0.0 seconds', description='Time:'))), HBox(children=(VBox(children=(HBox(children=(FloatSlider(value=0.0, layout=Layout(height='248px', padding='0px 0px 0px 0px', width='10px'), orientation='vertical', readout=False), HTML(value='<svg baseProfile=\"full\" height=\"240\" version=\"1.1\" width=\"240\" xmlns=\"http://www.w3.org/2000/svg\" xmlns:ev=\"http://www.w3.org/2001/xml-events\" xmlns:xlink=\"http://www.w3.org/1999/xlink\"><defs /><rect fill=\"#eef3dd\" height=\"240.0\" stroke=\"#bebebe\" stroke-width=\"1\" width=\"240.0\" x=\"0.0\" y=\"0.0\" /><circle cx=\"120.0\" cy=\"195.0\" fill=\"#ffff00\" r=\"15.0\" stroke=\"#ffff00\" stroke-width=\"1\" /><line fill=\"#800080\" stroke=\"#add8e6\" stroke-width=\"1\" x1=\"199.5\" x2=\"0.0\" y1=\"114.0\" y2=\"114.0\" /><line fill=\"#800080\" stroke=\"#add8e6\" stroke-width=\"1\" x1=\"201.0\" x2=\"0.0\" y1=\"109.80000000000001\" y2=\"16.07215199999999\" /><line fill=\"#800080\" stroke=\"#add8e6\" stroke-width=\"1\" x1=\"203.4\" x2=\"112.77724019461742\" y1=\"107.99999999999999\" y2=\"0.0\" /><line fill=\"#800080\" stroke=\"#add8e6\" stroke-width=\"1\" x1=\"207.0\" x2=\"178.4634099424212\" y1=\"106.5\" y2=\"0.0\" /><line fill=\"#800080\" stroke=\"#add8e6\" stroke-width=\"1\" x1=\"213.0\" x2=\"240.0\" y1=\"106.5\" y2=\"5.734632000000062\" /><line fill=\"#800080\" stroke=\"#add8e6\" stroke-width=\"1\" x1=\"216.6\" x2=\"240.0\" y1=\"107.99999999999999\" y2=\"80.11296600000001\" /><line fill=\"#800080\" stroke=\"#add8e6\" stroke-width=\"1\" x1=\"219.0\" x2=\"240.0\" y1=\"109.80000000000001\" y2=\"100.007538\" /><line fill=\"#800080\" stroke=\"#add8e6\" stroke-width=\"1\" x1=\"220.5\" x2=\"240.0\" y1=\"114.0\" y2=\"114.0\" /><line fill=\"#800080\" stroke=\"#add8e6\" stroke-width=\"1\" x1=\"220.5\" x2=\"240.0\" y1=\"126.0\" y2=\"126.0\" /><line fill=\"#800080\" stroke=\"#add8e6\" stroke-width=\"1\" x1=\"219.0\" x2=\"240.0\" y1=\"130.2\" y2=\"139.992462\" /><line fill=\"#800080\" stroke=\"#add8e6\" stroke-width=\"1\" x1=\"216.6\" x2=\"240.0\" y1=\"132.0\" y2=\"159.88703399999997\" /><line fill=\"#800080\" stroke=\"#add8e6\" stroke-width=\"1\" x1=\"213.0\" x2=\"240.0\" y1=\"133.5\" y2=\"234.26536799999994\" /><line fill=\"#800080\" stroke=\"#add8e6\" stroke-width=\"1\" x1=\"207.0\" x2=\"178.4634099424212\" y1=\"133.5\" y2=\"240.0\" /><line fill=\"#800080\" stroke=\"#add8e6\" stroke-width=\"1\" x1=\"203.4\" x2=\"112.7772401946174\" y1=\"132.0\" y2=\"240.0\" /><line fill=\"#800080\" stroke=\"#add8e6\" stroke-width=\"1\" x1=\"201.0\" x2=\"0.0\" y1=\"130.2\" y2=\"223.927848\" /><line fill=\"#800080\" stroke=\"#add8e6\" stroke-width=\"1\" x1=\"199.5\" x2=\"0.0\" y1=\"126.0\" y2=\"126.0\" /><line fill=\"#800080\" stroke=\"#a020f0\" stroke-width=\"1\" x1=\"210.0\" x2=\"2.1539193796210117\" y1=\"120.0\" y2=\"0.0\" /><line fill=\"#800080\" stroke=\"#a020f0\" stroke-width=\"1\" x1=\"210.0\" x2=\"240.0\" y1=\"120.0\" y2=\"102.67948799999999\" /><line fill=\"#800080\" stroke=\"#ffa500\" stroke-width=\"1\" x1=\"120.0\" x2=\"199.5\" y1=\"195.0\" y2=\"106.5\" /><line fill=\"#800080\" stroke=\"#ffa500\" stroke-width=\"1\" x1=\"120.0\" x2=\"220.5\" y1=\"195.0\" y2=\"106.5\" /><polygon fill=\"red\" points=\"205.2,106.5 199.5,111.0 199.5,129.0 205.2,133.5 214.8,133.5 220.5,129.0 220.5,111.0 214.8,106.5\" stroke=\"red\" stroke-width=\"1\" /><polygon points=\"-3.0,-3.0 0,0 3.0,-3.0 0,3.0\" stroke=\"black\" stroke-width=\"1\" transform=\"translate(210.0,120.0) rotate(180.0)\" /><polygon fill=\"black\" points=\"213.6,111.6 213.6,116.39999999999999 206.4,116.39999999999999 206.4,111.6\" stroke=\"black\" stroke-width=\"1\" /><circle cx=\"199.5\" cy=\"106.5\" fill=\"yellow\" r=\"1.5\" stroke=\"orange\" stroke-width=\"1\" /><circle cx=\"220.5\" cy=\"106.5\" fill=\"yellow\" r=\"1.5\" stroke=\"orange\" stroke-width=\"1\" /></svg>'))), FloatSlider(value=0.0, layout=Layout(height='30px', padding='0px 0px 0px 10px', width='260px'), readout=False))), VBox(children=(Image(value=b'\\x89PNG\\r\\n\\x1a\\n\\x00\\x00\\x00\\rIHDR\\x00\\x00\\x00<\\x00\\x00\\x00(\\x08\\x02\\x00\\x00\\x00-\\xd9\\x0e\\xa8\\x00\\x00\\x00\\xf6IDATx\\x9c\\xed\\xd6\\xaf\\x0b\\xc2@\\x14\\xc0\\xf1\\xf7\\xee\\xdd\\xfev\\xcb\\xa2\\xc5\\x81`\\x11\\x86\\xa0e0\\x8bAA\\x83A\\x8bA\\x8b\\xc1b\\x12\\x8b\\xc94\\xc3\\xa9\\xccMn:\\x8f7\\x0f\\xde\\'\\x8c\\x85\\xfd\\xf8\\xf2\\x06\\xbb\\xc3\\xe1\\xee\\x08\\xbeQM\\x07\\xd4!\\xd1\\\\$\\x9a\\x8bDs\\x91h.^F\\xeb\\xa6\\x03\\xdeS\\xdb%\"\\x02\\x809\\x16N\\x9a\\x8c\\xbe\\xae\\xa7\\x88\\xa8\\x94\\xc2\\x12\\xfb\\x8d\\xdc\\xd1\\xa7Y\\x12\\x04\\x01\\x11)\\xa5\\x88\\xa8\\xdeC\\xaa\\xa3\\x0fi\\\\\\x1eC\\xfe\\xc4\\\\V9\\x1e\\x00\\xc8\\xb2\\xacvh\\xdeK\\xf4&\\x8e\\xcc\\x0c\\x9e\\xcc\\xe7\\xfb\\xfd5n\\xe9E\\x14j\\xad\\xb5\\xd6D\\xe4d\\x0c\\x0c\\xfen\\x8a\\x9f\\x90h.\\x12\\xcdE\\xa2\\xb9\\xe0\\xf9\\xb2\\x07\\x80\\xb0\\xd5\\xa5\\x87\\xf2\\xe2\\xe2vE\\xcc/\\xe3\\x96\\xbd\\x87e\\xc3t\\x8f.\\xe8\\xb4\\x07\\xfeE[\\xf4{\\xa9\\x7f\\xd1N$\\xa3\\xb9\\x7f\\xd1\\x05\\x93\\xf1\\xca\\xbf\\xe8oy\\xf9\\xcb\\x93h.\\x12\\xcdE\\xa2\\xb9H4\\x17/\\xa3o\\xb3~8\\x87\\xea\\xaf#\\xce\\x00\\x00\\x00\\x00IEND\\xaeB`\\x82', width='240'), FloatSlider(value=0.0, layout=Layout(height='20px', padding='0px 0px 0px 0px', width='248px'), readout=False))))))), HBox(children=(Button(icon='step-forward', style=ButtonStyle()), Play(value=0, max=1000000), Button(description='Clear Output', style=ButtonStyle()))), Output()))"
      ]
     },
     "metadata": {},
     "output_type": "display_data"
    }
   ],
   "source": [
    "sim = VSimulator(robot, worldf)"
   ]
  },
  {
   "cell_type": "code",
   "execution_count": 6,
   "metadata": {},
   "outputs": [],
   "source": [
    "camera = robot.device[\"camera\"]"
   ]
  },
  {
   "cell_type": "code",
   "execution_count": 7,
   "metadata": {},
   "outputs": [
    {
     "data": {
      "image/png": "[encoded data removed]",
      "text/plain": [
       "<PIL.Image.Image image mode=RGB size=60x40 at 0x7F861CC1B780>"
      ]
     },
     "execution_count": 7,
     "metadata": {},
     "output_type": "execute_result"
    }
   ],
   "source": [
    "image = camera.getImage()\n",
    "image"
   ]
  },
  {
   "cell_type": "code",
   "execution_count": 8,
   "metadata": {},
   "outputs": [
    {
     "data": {
      "text/plain": [
       "(60, 40)"
      ]
     },
     "execution_count": 8,
     "metadata": {},
     "output_type": "execute_result"
    }
   ],
   "source": [
    "image.size"
   ]
  },
  {
   "cell_type": "code",
   "execution_count": 9,
   "metadata": {},
   "outputs": [
    {
     "data": {
      "text/plain": [
       "(40, 60, 3)"
      ]
     },
     "execution_count": 9,
     "metadata": {},
     "output_type": "execute_result"
    }
   ],
   "source": [
    "data = camera.getData()\n",
    "data.shape"
   ]
  },
  {
   "cell_type": "code",
   "execution_count": 10,
   "metadata": {},
   "outputs": [],
   "source": [
    "robot.move(0.50, 0.35)"
   ]
  },
  {
   "cell_type": "code",
   "execution_count": 11,
   "metadata": {},
   "outputs": [],
   "source": [
    "sim.step()"
   ]
  },
  {
   "cell_type": "code",
   "execution_count": 12,
   "metadata": {},
   "outputs": [],
   "source": [
    "def random_action():\n",
    "    \"\"\"Generate a random action from a limited set of possible settings\"\"\"\n",
    "    possible = [-1.0, -0.5, 0.0, 0.5, 1.0]\n",
    "    return [random.choice(possible), random.choice(possible)]\n",
    "\n",
    "def get_senses(robot):\n",
    "    light = robot[\"light\"].getData()\n",
    "    sonar = [v/3.0 for v in robot[\"sonar\"].getData()]\n",
    "    camera = robot[\"camera\"].getData()\n",
    "    return [light, sonar, camera]"
   ]
  },
  {
   "cell_type": "code",
   "execution_count": 13,
   "metadata": {},
   "outputs": [
    {
     "data": {
      "text/plain": [
       "[2, 16, 40]"
      ]
     },
     "execution_count": 13,
     "metadata": {},
     "output_type": "execute_result"
    }
   ],
   "source": [
    "senses = get_senses(robot)\n",
    "list(map(len, senses))"
   ]
  },
  {
   "cell_type": "code",
   "execution_count": 14,
   "metadata": {},
   "outputs": [],
   "source": [
    "def brain(robot):\n",
    "    senses = get_senses(robot)\n",
    "    net.propagate(senses)\n",
    "    translate, rotate = random_action()\n",
    "    #self.move(translate, rotate)\n",
    "    robot.move(0.50, 0.35)"
   ]
  },
  {
   "cell_type": "code",
   "execution_count": 15,
   "metadata": {},
   "outputs": [],
   "source": [
    "robot.brain = brain"
   ]
  },
  {
   "cell_type": "code",
   "execution_count": 16,
   "metadata": {},
   "outputs": [
    {
     "name": "stderr",
     "output_type": "stream",
     "text": [
      "conx, version 3.2.2\n",
      "Using Theano backend.\n"
     ]
    }
   ],
   "source": [
    "from conx import Network, Layer, FlattenLayer, SGD, ImageLayer, Conv2DLayer\n",
    "import numpy as np"
   ]
  },
  {
   "cell_type": "code",
   "execution_count": 17,
   "metadata": {},
   "outputs": [],
   "source": [
    "net = Network(\"Robot Prediction Network\")\n",
    "net.add(Layer(\"light\", 2))\n",
    "net.add(Layer(\"sonar\", 16))\n",
    "net.add(ImageLayer(\"camera\", (40,60), 3))\n",
    "net.add(FlattenLayer(\"flatten\"))\n",
    "net.add(Conv2DLayer(\"conv\", 16, (3,3)))\n",
    "net.add(Layer(\"hidden\", 50, activation=\"relu\"))\n",
    "net.add(Layer(\"output1\", 2, activation=\"sigmoid\"))\n",
    "net.add(Layer(\"hidden2\", 5, activation=\"sigmoid\"))\n",
    "net.add(Layer(\"hidden3\", 10, activation=\"sigmoid\", dropout=0.25))\n",
    "net.add(Layer(\"hidden4\", 10, activation=\"sigmoid\"))\n",
    "net.add(Layer(\"output2\", 5, activation=\"sigmoid\"))"
   ]
  },
  {
   "cell_type": "code",
   "execution_count": 18,
   "metadata": {},
   "outputs": [],
   "source": [
    "net.connect(\"sonar\", \"hidden2\")\n",
    "net.connect(\"light\", \"hidden\")\n",
    "net.connect(\"camera\", \"conv\")\n",
    "net.connect(\"conv\", \"flatten\")\n",
    "net.connect(\"flatten\", \"hidden2\")\n",
    "net.connect(\"hidden\", \"hidden2\")\n",
    "net.connect(\"hidden2\", \"hidden3\")\n",
    "##net.connect(\"hidden2\", \"output2\")\n",
    "net.connect(\"hidden3\", \"output2\")\n",
    "net.connect(\"hidden3\", \"hidden4\")\n",
    "net.connect(\"hidden4\", \"output1\")"
   ]
  },
  {
   "cell_type": "code",
   "execution_count": 19,
   "metadata": {},
   "outputs": [],
   "source": [
    "net.compile(optimizer=\"adam\", error=\"mse\")\n",
    "net.config[\"hspace\"] = 200"
   ]
  },
  {
   "cell_type": "code",
   "execution_count": 20,
   "metadata": {},
   "outputs": [
    {
     "data": {
      "application/javascript": [
       "\n",
       "require(['base/js/namespace'], function(Jupyter) {\n",
       "    Jupyter.notebook.kernel.comm_manager.register_target('conx_svg_control', function(comm, msg) {\n",
       "        comm.on_msg(function(msg) {\n",
       "            var data = msg[\"content\"][\"data\"];\n",
       "            var images = document.getElementsByClassName(data[\"class\"]);\n",
       "            for (var i = 0; i < images.length; i++) {\n",
       "                images[i].setAttributeNS(null, \"href\", data[\"href\"]);\n",
       "            }\n",
       "        });\n",
       "    });\n",
       "});\n"
      ],
      "text/plain": [
       "<IPython.core.display.Javascript object>"
      ]
     },
     "metadata": {},
     "output_type": "display_data"
    },
    {
     "data": {
      "text/html": [
       "<svg id='Robot Prediction Network' xmlns='http://www.w3.org/2000/svg' viewBox=\"0 0 1100 664\" height=\"780\" image-rendering=\"pixelated\">\n",
       "    <defs>\n",
       "        <marker id=\"arrow\" markerWidth=\"10\" markerHeight=\"10\" refX=\"9\" refY=\"3\" orient=\"auto\" markerUnits=\"strokeWidth\">\n",
       "          <path d=\"M0,0 L0,6 L9,3 z\" fill=\"black\" />\n",
       "        </marker>\n",
       "    </defs><text x=\"550.0\" y=\"12.5\" font-family=\"monospace\" font-size=\"15\" text-anchor=\"middle\" alignment-baseline=\"central\">Robot Prediction Network</text><rect x=\"315.6666666666667\" y=\"29\" width=\"102\" height=\"52\" style=\"fill:none;stroke:black;stroke-width:2\"/><image id=\"Robot Prediction Network_output1_1\" class=\"Robot Prediction Network_output1\" x=\"316.6666666666667\" y=\"30\" height=\"50\" width=\"100\" preserveAspectRatio=\"none\" href=\"data:image/gif;base64,R0lGODdhAgABAIcAAP3n2v707gAAAAAAAAAAAAAAAAAAAAAAAAAAAAAAAAAAAAAAAAAAAAAAAAAAAAAAAAAAAAAAAAAAAAAAAAAAAAAAAAAAAAAAAAAAAAAAAAAAAAAAAAAAAAAAAAAAAAAAAAAAAAAAAAAAAAAAAAAAAAAAAAAAAAAAAAAAAAAAAAAAAAAAAAAAAAAAAAAAAAAAAAAAAAAAAAAAAAAAAAAAAAAAAAAAAAAAAAAAAAAAAAAAAAAAAAAAAAAAAAAAAAAAAAAAAAAAAAAAAAAAAAAAAAAAAAAAAAAAAAAAAAAAAAAAAAAAAAAAAAAAAAAAAAAAAAAAAAAAAAAAAAAAAAAAAAAAAAAAAAAAAAAAAAAAAAAAAAAAAAAAAAAAAAAAAAAAAAAAAAAAAAAAAAAAAAAAAAAAAAAAAAAAAAAAAAAAAAAAAAAAAAAAAAAAAAAAAAAAAAAAAAAAAAAAAAAAAAAAAAAAAAAAAAAAAAAAAAAAAAAAAAAAAAAAAAAAAAAAAAAAAAAAAAAAAAAAAAAAAAAAAAAAAAAAAAAAAAAAAAAAAAAAAAAAAAAAAAAAAAAAAAAAAAAAAAAAAAAAAAAAAAAAAAAAAAAAAAAAAAAAAAAAAAAAAAAAAAAAAAAAAAAAAAAAAAAAAAAAAAAAAAAAAAAAAAAAAAAAAAAAAAAAAAAAAAAAAAAAAAAAAAAAAAAAAAAAAAAAAAAAAAAAAAAAAAAAAAAAAAAAAAAAAAAAAAAAAAAAAAAAAAAAAAAAAAAAAAAAAAAAAAAAAAAAAAAAAAAAAAAAAAAAAAAAAAAAAAAAAAAAAAAAAAAAAAAAAAAAAAAAAAAAAAAAAAAAAAAAAAAAAAAAAAAAAAAAAAAAAAAAAAAAAAAAAAAAAAAAAAAAAAAAAAAAAAAAAAAAAAAAAAAAAAAAAAAAAAAAAAAAAAAAAAAAAAAAAAAAAAAAAAAAAAAAAAAAAAAAAAAAAAAAAAAAAAAAAAAAAAAAAAAAAAAAAAAAAAAAAAAAAAAAAAAAAAAAACwAAAAAAgABAAAIBQADAAgIADs=\"><title>Layer: output1 (output)\n",
       " shape = (2,)\n",
       " Keras class = Dense\n",
       " activation = sigmoid</title></image><text x=\"421.6666666666667\" y=\"57.0\" font-family=\"monospace\" font-size=\"12\" text-anchor=\"start\" alignment-baseline=\"central\">output1</text><rect x=\"632.3333333333334\" y=\"29\" width=\"202\" height=\"42\" style=\"fill:none;stroke:black;stroke-width:2\"/><image id=\"Robot Prediction Network_output2_2\" class=\"Robot Prediction Network_output2\" x=\"633.3333333333334\" y=\"30\" height=\"40\" width=\"200\" preserveAspectRatio=\"none\" href=\"data:image/gif;base64,R0lGODdhBQABAIcAAPa1l/Smg/vQufzWwQAAAAAAAAAAAAAAAAAAAAAAAAAAAAAAAAAAAAAAAAAAAAAAAAAAAAAAAAAAAAAAAAAAAAAAAAAAAAAAAAAAAAAAAAAAAAAAAAAAAAAAAAAAAAAAAAAAAAAAAAAAAAAAAAAAAAAAAAAAAAAAAAAAAAAAAAAAAAAAAAAAAAAAAAAAAAAAAAAAAAAAAAAAAAAAAAAAAAAAAAAAAAAAAAAAAAAAAAAAAAAAAAAAAAAAAAAAAAAAAAAAAAAAAAAAAAAAAAAAAAAAAAAAAAAAAAAAAAAAAAAAAAAAAAAAAAAAAAAAAAAAAAAAAAAAAAAAAAAAAAAAAAAAAAAAAAAAAAAAAAAAAAAAAAAAAAAAAAAAAAAAAAAAAAAAAAAAAAAAAAAAAAAAAAAAAAAAAAAAAAAAAAAAAAAAAAAAAAAAAAAAAAAAAAAAAAAAAAAAAAAAAAAAAAAAAAAAAAAAAAAAAAAAAAAAAAAAAAAAAAAAAAAAAAAAAAAAAAAAAAAAAAAAAAAAAAAAAAAAAAAAAAAAAAAAAAAAAAAAAAAAAAAAAAAAAAAAAAAAAAAAAAAAAAAAAAAAAAAAAAAAAAAAAAAAAAAAAAAAAAAAAAAAAAAAAAAAAAAAAAAAAAAAAAAAAAAAAAAAAAAAAAAAAAAAAAAAAAAAAAAAAAAAAAAAAAAAAAAAAAAAAAAAAAAAAAAAAAAAAAAAAAAAAAAAAAAAAAAAAAAAAAAAAAAAAAAAAAAAAAAAAAAAAAAAAAAAAAAAAAAAAAAAAAAAAAAAAAAAAAAAAAAAAAAAAAAAAAAAAAAAAAAAAAAAAAAAAAAAAAAAAAAAAAAAAAAAAAAAAAAAAAAAAAAAAAAAAAAAAAAAAAAAAAAAAAAAAAAAAAAAAAAAAAAAAAAAAAAAAAAAAAAAAAAAAAAAAAAAAAAAAAAAAAAAAAAAAAAAAAAAAAAAAAAAAAAAAAAAAAAAAAAAAAAAAAAAAAAAAAAAAAAAAAAAAAAAAAAAAAAAAAAAACwAAAAABQABAAAICAAHBBAAAEBAADs=\"><title>Layer: output2 (output)\n",
       " shape = (5,)\n",
       " Keras class = Dense\n",
       " activation = sigmoid</title></image><text x=\"838.3333333333334\" y=\"52.0\" font-family=\"monospace\" font-size=\"12\" text-anchor=\"start\" alignment-baseline=\"central\">output2</text><line x1=\"366.6666666666667\" y1=\"109\" x2=\"366.6666666666667\" y2=\"82\" stroke=\"black\" stroke-width=\"2\" marker-end=\"url(#arrow)\"><title>Weights from hidden4 to output1\n",
       " output1/kernel has shape (10, 2)\n",
       " output1/bias has shape (2,)</title></line><rect x=\"265.6666666666667\" y=\"109\" width=\"202\" height=\"27\" style=\"fill:none;stroke:black;stroke-width:2\"/><image id=\"Robot Prediction Network_hidden4_3\" class=\"Robot Prediction Network_hidden4\" x=\"266.6666666666667\" y=\"110\" height=\"25\" width=\"200\" preserveAspectRatio=\"none\" href=\"data:image/gif;base64,R0lGODdhCgABAIcAAPSnhebm5v717/GefPe2mPnHrvzWwQAAAAAAAAAAAAAAAAAAAAAAAAAAAAAAAAAAAAAAAAAAAAAAAAAAAAAAAAAAAAAAAAAAAAAAAAAAAAAAAAAAAAAAAAAAAAAAAAAAAAAAAAAAAAAAAAAAAAAAAAAAAAAAAAAAAAAAAAAAAAAAAAAAAAAAAAAAAAAAAAAAAAAAAAAAAAAAAAAAAAAAAAAAAAAAAAAAAAAAAAAAAAAAAAAAAAAAAAAAAAAAAAAAAAAAAAAAAAAAAAAAAAAAAAAAAAAAAAAAAAAAAAAAAAAAAAAAAAAAAAAAAAAAAAAAAAAAAAAAAAAAAAAAAAAAAAAAAAAAAAAAAAAAAAAAAAAAAAAAAAAAAAAAAAAAAAAAAAAAAAAAAAAAAAAAAAAAAAAAAAAAAAAAAAAAAAAAAAAAAAAAAAAAAAAAAAAAAAAAAAAAAAAAAAAAAAAAAAAAAAAAAAAAAAAAAAAAAAAAAAAAAAAAAAAAAAAAAAAAAAAAAAAAAAAAAAAAAAAAAAAAAAAAAAAAAAAAAAAAAAAAAAAAAAAAAAAAAAAAAAAAAAAAAAAAAAAAAAAAAAAAAAAAAAAAAAAAAAAAAAAAAAAAAAAAAAAAAAAAAAAAAAAAAAAAAAAAAAAAAAAAAAAAAAAAAAAAAAAAAAAAAAAAAAAAAAAAAAAAAAAAAAAAAAAAAAAAAAAAAAAAAAAAAAAAAAAAAAAAAAAAAAAAAAAAAAAAAAAAAAAAAAAAAAAAAAAAAAAAAAAAAAAAAAAAAAAAAAAAAAAAAAAAAAAAAAAAAAAAAAAAAAAAAAAAAAAAAAAAAAAAAAAAAAAAAAAAAAAAAAAAAAAAAAAAAAAAAAAAAAAAAAAAAAAAAAAAAAAAAAAAAAAAAAAAAAAAAAAAAAAAAAAAAAAAAAAAAAAAAAAAAAAAAAAAAAAAAAAAAAAAAAAAAAAAAAAAAAAAAAAAAAAAAAAAAAAAAAAAAAAAAAAAAAAAAAAAAAAAAAAAAAAAAAAAAAAAACwAAAAACgABAAAIDgAHFAggQIABAAAIBAgIADs=\"><title>Layer: hidden4 (hidden)\n",
       " shape = (10,)\n",
       " Keras class = Dense\n",
       " activation = sigmoid</title></image><text x=\"471.6666666666667\" y=\"124.5\" font-family=\"monospace\" font-size=\"12\" text-anchor=\"start\" alignment-baseline=\"central\">hidden4</text><line x1=\"733.3333333333334\" y1=\"110\" x2=\"733.3333333333334\" y2=\"70\" stroke=\"red\" stroke-width=\"2\" marker-end=\"url(#arrow)\"><title>Weights from hidden3 to output2\n",
       " output2/kernel has shape (10, 5)\n",
       " output2/bias has shape (5,)</title></line><line x1=\"550.0\" y1=\"164\" x2=\"733.3333333333334\" y2=\"110\" stroke=\"red\" stroke-width=\"2\"><title>Weights from hidden3 to output2\n",
       " output2/kernel has shape (10, 5)\n",
       " output2/bias has shape (5,)</title></line><line x1=\"550.0\" y1=\"164\" x2=\"366.6666666666667\" y2=\"137\" stroke=\"red\" stroke-width=\"2\" marker-end=\"url(#arrow)\"><title>Weights from hidden3 to hidden4\n",
       " hidden4/kernel has shape (10, 10)\n",
       " hidden4/bias has shape (10,)</title></line><rect x=\"449.0\" y=\"164\" width=\"202\" height=\"27\" style=\"fill:none;stroke:black;stroke-width:2\"/><image id=\"Robot Prediction Network_hidden3_4\" class=\"Robot Prediction Network_hidden3\" x=\"450.0\" y=\"165\" height=\"25\" width=\"200\" preserveAspectRatio=\"none\" href=\"data:image/gif;base64,R0lGODdhCgABAIcAAPz59/Xt6MvLy9TU1P3bxwAAAAAAAAAAAAAAAAAAAAAAAAAAAAAAAAAAAAAAAAAAAAAAAAAAAAAAAAAAAAAAAAAAAAAAAAAAAAAAAAAAAAAAAAAAAAAAAAAAAAAAAAAAAAAAAAAAAAAAAAAAAAAAAAAAAAAAAAAAAAAAAAAAAAAAAAAAAAAAAAAAAAAAAAAAAAAAAAAAAAAAAAAAAAAAAAAAAAAAAAAAAAAAAAAAAAAAAAAAAAAAAAAAAAAAAAAAAAAAAAAAAAAAAAAAAAAAAAAAAAAAAAAAAAAAAAAAAAAAAAAAAAAAAAAAAAAAAAAAAAAAAAAAAAAAAAAAAAAAAAAAAAAAAAAAAAAAAAAAAAAAAAAAAAAAAAAAAAAAAAAAAAAAAAAAAAAAAAAAAAAAAAAAAAAAAAAAAAAAAAAAAAAAAAAAAAAAAAAAAAAAAAAAAAAAAAAAAAAAAAAAAAAAAAAAAAAAAAAAAAAAAAAAAAAAAAAAAAAAAAAAAAAAAAAAAAAAAAAAAAAAAAAAAAAAAAAAAAAAAAAAAAAAAAAAAAAAAAAAAAAAAAAAAAAAAAAAAAAAAAAAAAAAAAAAAAAAAAAAAAAAAAAAAAAAAAAAAAAAAAAAAAAAAAAAAAAAAAAAAAAAAAAAAAAAAAAAAAAAAAAAAAAAAAAAAAAAAAAAAAAAAAAAAAAAAAAAAAAAAAAAAAAAAAAAAAAAAAAAAAAAAAAAAAAAAAAAAAAAAAAAAAAAAAAAAAAAAAAAAAAAAAAAAAAAAAAAAAAAAAAAAAAAAAAAAAAAAAAAAAAAAAAAAAAAAAAAAAAAAAAAAAAAAAAAAAAAAAAAAAAAAAAAAAAAAAAAAAAAAAAAAAAAAAAAAAAAAAAAAAAAAAAAAAAAAAAAAAAAAAAAAAAAAAAAAAAAAAAAAAAAAAAAAAAAAAAAAAAAAAAAAAAAAAAAAAAAAAAAAAAAAAAAAAAAAAAAAAAAAAAAAAAAAAAAAAAAAAAAAAAAAAAAAAAAAAAAAAAAAAAAACwAAAAACgABAAAIDQAHCAAQAIDBAAQABAQAOw==\"><title>Layer: hidden3 (hidden)\n",
       " shape = (10,)\n",
       " dropout = 0.25\n",
       " Keras class = Dense\n",
       " activation = sigmoid</title></image><text x=\"655.0\" y=\"179.5\" font-family=\"monospace\" font-size=\"12\" text-anchor=\"start\" alignment-baseline=\"central\">hidden3</text><line x1=\"550.0\" y1=\"219\" x2=\"550.0\" y2=\"192\" stroke=\"black\" stroke-width=\"2\" marker-end=\"url(#arrow)\"><title>Weights from hidden2 to hidden3\n",
       " hidden3/kernel has shape (5, 10)\n",
       " hidden3/bias has shape (10,)</title></line><rect x=\"449.0\" y=\"219\" width=\"202\" height=\"42\" style=\"fill:none;stroke:black;stroke-width:2\"/><image id=\"Robot Prediction Network_hidden2_5\" class=\"Robot Prediction Network_hidden2\" x=\"450.0\" y=\"220\" height=\"40\" width=\"200\" preserveAspectRatio=\"none\" href=\"data:image/gif;base64,R0lGODdhBQABAIcAAP7+/QAAAAAAAAAAAAAAAAAAAAAAAAAAAAAAAAAAAAAAAAAAAAAAAAAAAAAAAAAAAAAAAAAAAAAAAAAAAAAAAAAAAAAAAAAAAAAAAAAAAAAAAAAAAAAAAAAAAAAAAAAAAAAAAAAAAAAAAAAAAAAAAAAAAAAAAAAAAAAAAAAAAAAAAAAAAAAAAAAAAAAAAAAAAAAAAAAAAAAAAAAAAAAAAAAAAAAAAAAAAAAAAAAAAAAAAAAAAAAAAAAAAAAAAAAAAAAAAAAAAAAAAAAAAAAAAAAAAAAAAAAAAAAAAAAAAAAAAAAAAAAAAAAAAAAAAAAAAAAAAAAAAAAAAAAAAAAAAAAAAAAAAAAAAAAAAAAAAAAAAAAAAAAAAAAAAAAAAAAAAAAAAAAAAAAAAAAAAAAAAAAAAAAAAAAAAAAAAAAAAAAAAAAAAAAAAAAAAAAAAAAAAAAAAAAAAAAAAAAAAAAAAAAAAAAAAAAAAAAAAAAAAAAAAAAAAAAAAAAAAAAAAAAAAAAAAAAAAAAAAAAAAAAAAAAAAAAAAAAAAAAAAAAAAAAAAAAAAAAAAAAAAAAAAAAAAAAAAAAAAAAAAAAAAAAAAAAAAAAAAAAAAAAAAAAAAAAAAAAAAAAAAAAAAAAAAAAAAAAAAAAAAAAAAAAAAAAAAAAAAAAAAAAAAAAAAAAAAAAAAAAAAAAAAAAAAAAAAAAAAAAAAAAAAAAAAAAAAAAAAAAAAAAAAAAAAAAAAAAAAAAAAAAAAAAAAAAAAAAAAAAAAAAAAAAAAAAAAAAAAAAAAAAAAAAAAAAAAAAAAAAAAAAAAAAAAAAAAAAAAAAAAAAAAAAAAAAAAAAAAAAAAAAAAAAAAAAAAAAAAAAAAAAAAAAAAAAAAAAAAAAAAAAAAAAAAAAAAAAAAAAAAAAAAAAAAAAAAAAAAAAAAAAAAAAAAAAAAAAAAAAAAAAAAAAAAAAAAAAAAAAAAAAAAAAAAAAAAAAAAAAAAAAAAAAAAAAAAAAAAAAAAAAAAAAAAAAAAAAAACwAAAAABQABAAAIBgABCBQYEAA7\"><title>Layer: hidden2 (hidden)\n",
       " shape = (5,)\n",
       " Keras class = Dense\n",
       " activation = sigmoid</title></image><text x=\"655.0\" y=\"242.0\" font-family=\"monospace\" font-size=\"12\" text-anchor=\"start\" alignment-baseline=\"central\">hidden2</text><line x1=\"275.0\" y1=\"290\" x2=\"550.0\" y2=\"260\" stroke=\"black\" stroke-width=\"2\" marker-end=\"url(#arrow)\"><title>Weights from hidden to hidden2\n",
       " hidden2/kernel has shape (35330, 5)\n",
       " hidden2/bias has shape (5,)</title></line><line x1=\"550.0\" y1=\"290\" x2=\"550.0\" y2=\"260\" stroke=\"black\" stroke-width=\"2\" marker-end=\"url(#arrow)\"><title>Weights from sonar to hidden2\n",
       " hidden2/kernel has shape (35330, 5)\n",
       " hidden2/bias has shape (5,)</title></line><line x1=\"825.0\" y1=\"289\" x2=\"550.0\" y2=\"262\" stroke=\"black\" stroke-width=\"2\" marker-end=\"url(#arrow)\"><title>Weights from flatten to hidden2\n",
       " hidden2/kernel has shape (35330, 5)\n",
       " hidden2/bias has shape (5,)</title></line><rect x=\"724.0\" y=\"289\" width=\"202\" height=\"27\" style=\"fill:none;stroke:black;stroke-width:2\"/><image id=\"Robot Prediction Network_flatten_6\" class=\"Robot Prediction Network_flatten\" x=\"725.0\" y=\"290\" height=\"25\" width=\"200\" preserveAspectRatio=\"none\" href=\"data:image/gif;base64,R0lGODdhwIkBAIcAAP7+/QAAAAAAAAAAAAAAAAAAAAAAAAAAAAAAAAAAAAAAAAAAAAAAAAAAAAAAAAAAAAAAAAAAAAAAAAAAAAAAAAAAAAAAAAAAAAAAAAAAAAAAAAAAAAAAAAAAAAAAAAAAAAAAAAAAAAAAAAAAAAAAAAAAAAAAAAAAAAAAAAAAAAAAAAAAAAAAAAAAAAAAAAAAAAAAAAAAAAAAAAAAAAAAAAAAAAAAAAAAAAAAAAAAAAAAAAAAAAAAAAAAAAAAAAAAAAAAAAAAAAAAAAAAAAAAAAAAAAAAAAAAAAAAAAAAAAAAAAAAAAAAAAAAAAAAAAAAAAAAAAAAAAAAAAAAAAAAAAAAAAAAAAAAAAAAAAAAAAAAAAAAAAAAAAAAAAAAAAAAAAAAAAAAAAAAAAAAAAAAAAAAAAAAAAAAAAAAAAAAAAAAAAAAAAAAAAAAAAAAAAAAAAAAAAAAAAAAAAAAAAAAAAAAAAAAAAAAAAAAAAAAAAAAAAAAAAAAAAAAAAAAAAAAAAAAAAAAAAAAAAAAAAAAAAAAAAAAAAAAAAAAAAAAAAAAAAAAAAAAAAAAAAAAAAAAAAAAAAAAAAAAAAAAAAAAAAAAAAAAAAAAAAAAAAAAAAAAAAAAAAAAAAAAAAAAAAAAAAAAAAAAAAAAAAAAAAAAAAAAAAAAAAAAAAAAAAAAAAAAAAAAAAAAAAAAAAAAAAAAAAAAAAAAAAAAAAAAAAAAAAAAAAAAAAAAAAAAAAAAAAAAAAAAAAAAAAAAAAAAAAAAAAAAAAAAAAAAAAAAAAAAAAAAAAAAAAAAAAAAAAAAAAAAAAAAAAAAAAAAAAAAAAAAAAAAAAAAAAAAAAAAAAAAAAAAAAAAAAAAAAAAAAAAAAAAAAAAAAAAAAAAAAAAAAAAAAAAAAAAAAAAAAAAAAAAAAAAAAAAAAAAAAAAAAAAAAAAAAAAAAAAAAAAAAAAAAAAAAAAAAAAAAAAAAAAAAAAAAAAAAAAAAAAAAAAAAAAAAAAAAAAAAAAAAAAAAAAAAAAACwAAAAAwIkBAAAI/wABCBxIsKDBgwgTKlzIsKHDhxAjSpxIsaLFixgzatzIsaPHjyBDihxJsqTJkyhTqlzJsqXLlzBjypxJs6bNmzhz6tzJs6fPn0CDCh1KtKjRo0iTKl3KtKnTp1CjSp1KtarVq1izat3KtavXr2DDih1LtqzZs2jTql3Ltq3bt3Djyp1Lt67du3jz6t3Lt6/fv4ADCx5MuLDhw4gTK17MuLHjx5AjS55MubLly5gza97MubPnz6BDix5NurTp06hTq17NurXr17Bjy55Nu7bt27hz697Nu7fv38CDCx9OvLjx48iTK1/OvLnz59CjS59Ovbr169iza9/Ovbv37+DDi3gfT768+fPo06tfz769+/fw48ufT7++/fv48+vfz7+/f4AABA4kWNDgQYQJFS5k2NDhQ4gRJU6kWNHiRYwZNW7k2NHjR5AhRY4kWdLkSZQpVa5k2dLlS5gxZc6kWdPmTZw5de7k2dPnT6BBhQ4lWtToUaRJlS7tGBAAOw==\"><title>Layer: flatten (hidden)\n",
       " Keras class = Flatten</title></image><text x=\"930.0\" y=\"304.5\" font-family=\"monospace\" font-size=\"12\" text-anchor=\"start\" alignment-baseline=\"central\">flatten</text><line x1=\"275.0\" y1=\"344\" x2=\"275.0\" y2=\"290\" stroke=\"black\" stroke-width=\"2\"><title>Weights from hidden to hidden2\n",
       " hidden2/kernel has shape (35330, 5)\n",
       " hidden2/bias has shape (5,)</title></line><rect x=\"174.0\" y=\"344\" width=\"202\" height=\"27\" style=\"fill:none;stroke:black;stroke-width:2\"/><image id=\"Robot Prediction Network_hidden_7\" class=\"Robot Prediction Network_hidden\" x=\"175.0\" y=\"345\" height=\"25\" width=\"200\" preserveAspectRatio=\"none\" href=\"data:image/gif;base64,R0lGODdhMgABAIcAAP7+/QAAAAAAAAAAAAAAAAAAAAAAAAAAAAAAAAAAAAAAAAAAAAAAAAAAAAAAAAAAAAAAAAAAAAAAAAAAAAAAAAAAAAAAAAAAAAAAAAAAAAAAAAAAAAAAAAAAAAAAAAAAAAAAAAAAAAAAAAAAAAAAAAAAAAAAAAAAAAAAAAAAAAAAAAAAAAAAAAAAAAAAAAAAAAAAAAAAAAAAAAAAAAAAAAAAAAAAAAAAAAAAAAAAAAAAAAAAAAAAAAAAAAAAAAAAAAAAAAAAAAAAAAAAAAAAAAAAAAAAAAAAAAAAAAAAAAAAAAAAAAAAAAAAAAAAAAAAAAAAAAAAAAAAAAAAAAAAAAAAAAAAAAAAAAAAAAAAAAAAAAAAAAAAAAAAAAAAAAAAAAAAAAAAAAAAAAAAAAAAAAAAAAAAAAAAAAAAAAAAAAAAAAAAAAAAAAAAAAAAAAAAAAAAAAAAAAAAAAAAAAAAAAAAAAAAAAAAAAAAAAAAAAAAAAAAAAAAAAAAAAAAAAAAAAAAAAAAAAAAAAAAAAAAAAAAAAAAAAAAAAAAAAAAAAAAAAAAAAAAAAAAAAAAAAAAAAAAAAAAAAAAAAAAAAAAAAAAAAAAAAAAAAAAAAAAAAAAAAAAAAAAAAAAAAAAAAAAAAAAAAAAAAAAAAAAAAAAAAAAAAAAAAAAAAAAAAAAAAAAAAAAAAAAAAAAAAAAAAAAAAAAAAAAAAAAAAAAAAAAAAAAAAAAAAAAAAAAAAAAAAAAAAAAAAAAAAAAAAAAAAAAAAAAAAAAAAAAAAAAAAAAAAAAAAAAAAAAAAAAAAAAAAAAAAAAAAAAAAAAAAAAAAAAAAAAAAAAAAAAAAAAAAAAAAAAAAAAAAAAAAAAAAAAAAAAAAAAAAAAAAAAAAAAAAAAAAAAAAAAAAAAAAAAAAAAAAAAAAAAAAAAAAAAAAAAAAAAAAAAAAAAAAAAAAAAAAAAAAAAAAAAAAAAAAAAAAAAAAAAAAAAAAAAAAAAAAAAAAAAAAAAAAAAAAAAAAAAAAAAACwAAAAAMgABAAAIDgABCBxIsKDBgwgTFgwIADs=\"><title>Layer: hidden (hidden)\n",
       " shape = (50,)\n",
       " Keras class = Dense\n",
       " activation = relu</title></image><text x=\"380.0\" y=\"359.5\" font-family=\"monospace\" font-size=\"12\" text-anchor=\"start\" alignment-baseline=\"central\">hidden</text><line x1=\"550.0\" y1=\"345\" x2=\"550.0\" y2=\"290\" stroke=\"black\" stroke-width=\"2\"><title>Weights from sonar to hidden2\n",
       " hidden2/kernel has shape (35330, 5)\n",
       " hidden2/bias has shape (5,)</title></line><line x1=\"825.0\" y1=\"344\" x2=\"825.0\" y2=\"317\" stroke=\"black\" stroke-width=\"2\" marker-end=\"url(#arrow)\"><title>Weights from conv to flatten</title></line><rect x=\"724.0\" y=\"344\" width=\"202\" height=\"133\" style=\"fill:none;stroke:black;stroke-width:2\"/><image id=\"Robot Prediction Network_conv_8\" class=\"Robot Prediction Network_conv\" x=\"725.0\" y=\"345\" height=\"131\" width=\"200\" preserveAspectRatio=\"none\" href=\"data:image/gif;base64,R0lGODdhOgAmAIcAAP7+/QAAAAAAAAAAAAAAAAAAAAAAAAAAAAAAAAAAAAAAAAAAAAAAAAAAAAAAAAAAAAAAAAAAAAAAAAAAAAAAAAAAAAAAAAAAAAAAAAAAAAAAAAAAAAAAAAAAAAAAAAAAAAAAAAAAAAAAAAAAAAAAAAAAAAAAAAAAAAAAAAAAAAAAAAAAAAAAAAAAAAAAAAAAAAAAAAAAAAAAAAAAAAAAAAAAAAAAAAAAAAAAAAAAAAAAAAAAAAAAAAAAAAAAAAAAAAAAAAAAAAAAAAAAAAAAAAAAAAAAAAAAAAAAAAAAAAAAAAAAAAAAAAAAAAAAAAAAAAAAAAAAAAAAAAAAAAAAAAAAAAAAAAAAAAAAAAAAAAAAAAAAAAAAAAAAAAAAAAAAAAAAAAAAAAAAAAAAAAAAAAAAAAAAAAAAAAAAAAAAAAAAAAAAAAAAAAAAAAAAAAAAAAAAAAAAAAAAAAAAAAAAAAAAAAAAAAAAAAAAAAAAAAAAAAAAAAAAAAAAAAAAAAAAAAAAAAAAAAAAAAAAAAAAAAAAAAAAAAAAAAAAAAAAAAAAAAAAAAAAAAAAAAAAAAAAAAAAAAAAAAAAAAAAAAAAAAAAAAAAAAAAAAAAAAAAAAAAAAAAAAAAAAAAAAAAAAAAAAAAAAAAAAAAAAAAAAAAAAAAAAAAAAAAAAAAAAAAAAAAAAAAAAAAAAAAAAAAAAAAAAAAAAAAAAAAAAAAAAAAAAAAAAAAAAAAAAAAAAAAAAAAAAAAAAAAAAAAAAAAAAAAAAAAAAAAAAAAAAAAAAAAAAAAAAAAAAAAAAAAAAAAAAAAAAAAAAAAAAAAAAAAAAAAAAAAAAAAAAAAAAAAAAAAAAAAAAAAAAAAAAAAAAAAAAAAAAAAAAAAAAAAAAAAAAAAAAAAAAAAAAAAAAAAAAAAAAAAAAAAAAAAAAAAAAAAAAAAAAAAAAAAAAAAAAAAAAAAAAAAAAAAAAAAAAAAAAAAAAAAAAAAAAAAAAAAAAAAAAAAAAAAAAAAAAAAAAAAAAAAACwAAAAAOgAmAEAITQABCBxIsKDBgwgTKlzIsKHDhxAjSpxIsaLFixgzatzIsaPHjyBDihxJsqTJkyhTqlzJsqXLlzBjypxJs6bNmzhz6tzJs6fPn0CD7gwIADs=\"><title>Layer: conv (hidden)\n",
       " Keras class = Conv2D</title></image><text x=\"930.0\" y=\"412.5\" font-family=\"monospace\" font-size=\"12\" text-anchor=\"start\" alignment-baseline=\"central\">conv</text><text x=\"930.0\" y=\"350\" font-family=\"monospace\" font-size=\"12\" text-anchor=\"start\" alignment-baseline=\"central\">16</text><text x=\"713.0\" y=\"471\" font-family=\"monospace\" font-size=\"12\" text-anchor=\"start\" alignment-baseline=\"central\">0</text><line x1=\"275.0\" y1=\"505\" x2=\"275.0\" y2=\"372\" stroke=\"black\" stroke-width=\"2\" marker-end=\"url(#arrow)\"><title>Weights from light to hidden\n",
       " hidden/kernel has shape (2, 50)\n",
       " hidden/bias has shape (50,)</title></line><rect x=\"224.0\" y=\"505\" width=\"102\" height=\"52\" style=\"fill:none;stroke:black;stroke-width:2\"/><image id=\"Robot Prediction Network_light_9\" class=\"Robot Prediction Network_light\" x=\"225.0\" y=\"506\" height=\"50\" width=\"100\" preserveAspectRatio=\"none\" href=\"data:image/gif;base64,R0lGODdhAgABAIcAAP7+/QAAAAAAAAAAAAAAAAAAAAAAAAAAAAAAAAAAAAAAAAAAAAAAAAAAAAAAAAAAAAAAAAAAAAAAAAAAAAAAAAAAAAAAAAAAAAAAAAAAAAAAAAAAAAAAAAAAAAAAAAAAAAAAAAAAAAAAAAAAAAAAAAAAAAAAAAAAAAAAAAAAAAAAAAAAAAAAAAAAAAAAAAAAAAAAAAAAAAAAAAAAAAAAAAAAAAAAAAAAAAAAAAAAAAAAAAAAAAAAAAAAAAAAAAAAAAAAAAAAAAAAAAAAAAAAAAAAAAAAAAAAAAAAAAAAAAAAAAAAAAAAAAAAAAAAAAAAAAAAAAAAAAAAAAAAAAAAAAAAAAAAAAAAAAAAAAAAAAAAAAAAAAAAAAAAAAAAAAAAAAAAAAAAAAAAAAAAAAAAAAAAAAAAAAAAAAAAAAAAAAAAAAAAAAAAAAAAAAAAAAAAAAAAAAAAAAAAAAAAAAAAAAAAAAAAAAAAAAAAAAAAAAAAAAAAAAAAAAAAAAAAAAAAAAAAAAAAAAAAAAAAAAAAAAAAAAAAAAAAAAAAAAAAAAAAAAAAAAAAAAAAAAAAAAAAAAAAAAAAAAAAAAAAAAAAAAAAAAAAAAAAAAAAAAAAAAAAAAAAAAAAAAAAAAAAAAAAAAAAAAAAAAAAAAAAAAAAAAAAAAAAAAAAAAAAAAAAAAAAAAAAAAAAAAAAAAAAAAAAAAAAAAAAAAAAAAAAAAAAAAAAAAAAAAAAAAAAAAAAAAAAAAAAAAAAAAAAAAAAAAAAAAAAAAAAAAAAAAAAAAAAAAAAAAAAAAAAAAAAAAAAAAAAAAAAAAAAAAAAAAAAAAAAAAAAAAAAAAAAAAAAAAAAAAAAAAAAAAAAAAAAAAAAAAAAAAAAAAAAAAAAAAAAAAAAAAAAAAAAAAAAAAAAAAAAAAAAAAAAAAAAAAAAAAAAAAAAAAAAAAAAAAAAAAAAAAAAAAAAAAAAAAAAAAAAAAAAAAAAAAAAAAAAAAAAAAAAAAAAAAAAAAAAAAAAAAAAAAAAACwAAAAAAgABAAAIBQABAAgIADs=\"><title>Layer: light (input)\n",
       " shape = (2,)\n",
       " Keras class = Input</title></image><text x=\"330.0\" y=\"533.0\" font-family=\"monospace\" font-size=\"12\" text-anchor=\"start\" alignment-baseline=\"central\">light</text><line x1=\"550.0\" y1=\"505\" x2=\"550.0\" y2=\"345\" stroke=\"black\" stroke-width=\"2\"><title>Weights from sonar to hidden2\n",
       " hidden2/kernel has shape (35330, 5)\n",
       " hidden2/bias has shape (5,)</title></line><rect x=\"449.0\" y=\"505\" width=\"202\" height=\"27\" style=\"fill:none;stroke:black;stroke-width:2\"/><image id=\"Robot Prediction Network_sonar_10\" class=\"Robot Prediction Network_sonar\" x=\"450.0\" y=\"506\" height=\"25\" width=\"200\" preserveAspectRatio=\"none\" href=\"data:image/gif;base64,R0lGODdhEAABAIcAAP7+/QAAAAAAAAAAAAAAAAAAAAAAAAAAAAAAAAAAAAAAAAAAAAAAAAAAAAAAAAAAAAAAAAAAAAAAAAAAAAAAAAAAAAAAAAAAAAAAAAAAAAAAAAAAAAAAAAAAAAAAAAAAAAAAAAAAAAAAAAAAAAAAAAAAAAAAAAAAAAAAAAAAAAAAAAAAAAAAAAAAAAAAAAAAAAAAAAAAAAAAAAAAAAAAAAAAAAAAAAAAAAAAAAAAAAAAAAAAAAAAAAAAAAAAAAAAAAAAAAAAAAAAAAAAAAAAAAAAAAAAAAAAAAAAAAAAAAAAAAAAAAAAAAAAAAAAAAAAAAAAAAAAAAAAAAAAAAAAAAAAAAAAAAAAAAAAAAAAAAAAAAAAAAAAAAAAAAAAAAAAAAAAAAAAAAAAAAAAAAAAAAAAAAAAAAAAAAAAAAAAAAAAAAAAAAAAAAAAAAAAAAAAAAAAAAAAAAAAAAAAAAAAAAAAAAAAAAAAAAAAAAAAAAAAAAAAAAAAAAAAAAAAAAAAAAAAAAAAAAAAAAAAAAAAAAAAAAAAAAAAAAAAAAAAAAAAAAAAAAAAAAAAAAAAAAAAAAAAAAAAAAAAAAAAAAAAAAAAAAAAAAAAAAAAAAAAAAAAAAAAAAAAAAAAAAAAAAAAAAAAAAAAAAAAAAAAAAAAAAAAAAAAAAAAAAAAAAAAAAAAAAAAAAAAAAAAAAAAAAAAAAAAAAAAAAAAAAAAAAAAAAAAAAAAAAAAAAAAAAAAAAAAAAAAAAAAAAAAAAAAAAAAAAAAAAAAAAAAAAAAAAAAAAAAAAAAAAAAAAAAAAAAAAAAAAAAAAAAAAAAAAAAAAAAAAAAAAAAAAAAAAAAAAAAAAAAAAAAAAAAAAAAAAAAAAAAAAAAAAAAAAAAAAAAAAAAAAAAAAAAAAAAAAAAAAAAAAAAAAAAAAAAAAAAAAAAAAAAAAAAAAAAAAAAAAAAAAAAAAAAAAAAAAAAAAAAAAAAAAAAAAAAAAAAAAAAAAAAAAAAAAAAAAAAAAAAAAAAAAAAACwAAAAAEAABAAAICQABCBxIsCCAgAA7\"><title>Layer: sonar (input)\n",
       " shape = (16,)\n",
       " Keras class = Input</title></image><text x=\"655.0\" y=\"520.5\" font-family=\"monospace\" font-size=\"12\" text-anchor=\"start\" alignment-baseline=\"central\">sonar</text><line x1=\"825.0\" y1=\"505\" x2=\"825.0\" y2=\"478\" stroke=\"black\" stroke-width=\"2\" marker-end=\"url(#arrow)\"><title>Weights from camera to conv\n",
       " conv/kernel has shape (3, 3, 3, 16)\n",
       " conv/bias has shape (16,)</title></line><rect x=\"724.0\" y=\"505\" width=\"202\" height=\"135\" style=\"fill:none;stroke:black;stroke-width:2\"/><image id=\"Robot Prediction Network_camera_11\" class=\"Robot Prediction Network_camera\" x=\"725.0\" y=\"506\" height=\"133\" width=\"200\" preserveAspectRatio=\"none\" href=\"data:image/gif;base64,R0lGODdhPAAoAIcAAAAAAAAAAAAAAAAAAAAAAAAAAAAAAAAAAAAAAAAAAAAAAAAAAAAAAAAAAAAAAAAAAAAAAAAAAAAAAAAAAAAAAAAAAAAAAAAAAAAAAAAAAAAAAAAAAAAAAAAAAAAAAAAAAAAAAAAAAAAAAAAAAAAAAAAAAAAAAAAAAAAAAAAAAAAAAAAAAAAAAAAAAAAAAAAAAAAAAAAAAAAAAAAAAAAAAAAAAAAAAAAAAAAAAAAAAAAAAAAAAAAAAAAAAAAAAAAAAAAAAAAAAAAAAAAAAAAAAAAAAAAAAAAAAAAAAAAAAAAAAAAAAAAAAAAAAAAAAAAAAAAAAAAAAAAAAAAAAAAAAAAAAAAAAAAAAAAAAAAAAAAAAAAAAAAAAAAAAAAAAAAAAAAAAAAAAAAAAAAAAAAAAAAAAAAAAAAAAAAAAAAAAAAAAAAAAAAAAAAAAAAAAAAAAAAAAAAAAAAAAAAAAAAAAAAAAAAAAAAAAAAAAAAAAAAAAAAAAAAAAAAAAAAAAAAAAAAAAAAAAAAAAAAAAAAAAAAAAAAAAAAAAAAAAAAAAAAAAAAAAAAAAAAAAAAAAAAAAAAAAAAAAAAAAAAAAAAAAAAAAAAAAAAAAAAAAAAAAAAAAAAAAAAAAAAAAAAAAAAAAAAAAAAAAAAAAAAAAAAAAAAAAAAAAAAAAAAAAAAAAAAAAAAAAAAAAAAAAAAAAAAAAAAAAAAAAAAAAAAAAAAAAAAAAAAAAAAAAAAAAAAAAAAAAAAAAAAAAAAAAAAAAAAAAAAAAAAAAAAAAAAAAAAAAAAAAAAAAAAAAAAAAAAAAAAAAAAAAAAAAAAAAAAAAAAAAAAAAAAAAAAAAAAAAAAAAAAAAAAAAAAAAAAAAAAAAAAAAAAAAAAAAAAAAAAAAAAAAAAAAAAAAAAAAAAAAAAAAAAAAAAAAAAAAAAAAAAAAAAAAAAAAAAAAAAAAAAAAAAAAAAAAAAAAAAAAAAAAAAAAAAAAAAAAAAAAAAAAAAAAAAAAAAAAAAAAAAAAAAAAAAAACwAAAAAPAAoAEAIUAABCBxIsKDBgwgTKlzIsKHDhxAjSpxIsaLFixgzatzIsaPHjyBDihxJsqTJkyhTqlzJsqXLlzBjypxJs6bNmzhz6tzJs6fPn0CDCh1K1GZAADs=\"><title>Layer: camera (input)\n",
       " shape = (40, 60, 3)\n",
       " Keras class = Input</title></image><text x=\"930.0\" y=\"574.5\" font-family=\"monospace\" font-size=\"12\" text-anchor=\"start\" alignment-baseline=\"central\">camera</text></svg>"
      ],
      "text/plain": [
       "<Network name='Robot Prediction Network' (compiled)>"
      ]
     },
     "execution_count": 20,
     "metadata": {},
     "output_type": "execute_result"
    }
   ],
   "source": [
    "net"
   ]
  },
  {
   "cell_type": "code",
   "execution_count": 21,
   "metadata": {},
   "outputs": [],
   "source": [
    "matrix = net.propagate_to(\"conv\", get_senses(robot))"
   ]
  },
  {
   "cell_type": "code",
   "execution_count": 22,
   "metadata": {},
   "outputs": [],
   "source": [
    "net[\"conv\"].feature = 6"
   ]
  },
  {
   "cell_type": "code",
   "execution_count": 23,
   "metadata": {},
   "outputs": [
    {
     "data": {
      "text/html": [
       "<table><tr><td><img src=\"data:image/gif;base64,R0lGODdhrgByAIcAAN1xWuF8YvWyk/OnhPCde/KgfumMb/jEqvi9odpsVstMQ9FXSMdDPwAAAAAAAAAAAAAAAAAAAAAAAAAAAAAAAAAAAAAAAAAAAAAAAAAAAAAAAAAAAAAAAAAAAAAAAAAAAAAAAAAAAAAAAAAAAAAAAAAAAAAAAAAAAAAAAAAAAAAAAAAAAAAAAAAAAAAAAAAAAAAAAAAAAAAAAAAAAAAAAAAAAAAAAAAAAAAAAAAAAAAAAAAAAAAAAAAAAAAAAAAAAAAAAAAAAAAAAAAAAAAAAAAAAAAAAAAAAAAAAAAAAAAAAAAAAAAAAAAAAAAAAAAAAAAAAAAAAAAAAAAAAAAAAAAAAAAAAAAAAAAAAAAAAAAAAAAAAAAAAAAAAAAAAAAAAAAAAAAAAAAAAAAAAAAAAAAAAAAAAAAAAAAAAAAAAAAAAAAAAAAAAAAAAAAAAAAAAAAAAAAAAAAAAAAAAAAAAAAAAAAAAAAAAAAAAAAAAAAAAAAAAAAAAAAAAAAAAAAAAAAAAAAAAAAAAAAAAAAAAAAAAAAAAAAAAAAAAAAAAAAAAAAAAAAAAAAAAAAAAAAAAAAAAAAAAAAAAAAAAAAAAAAAAAAAAAAAAAAAAAAAAAAAAAAAAAAAAAAAAAAAAAAAAAAAAAAAAAAAAAAAAAAAAAAAAAAAAAAAAAAAAAAAAAAAAAAAAAAAAAAAAAAAAAAAAAAAAAAAAAAAAAAAAAAAAAAAAAAAAAAAAAAAAAAAAAAAAAAAAAAAAAAAAAAAAAAAAAAAAAAAAAAAAAAAAAAAAAAAAAAAAAAAAAAAAAAAAAAAAAAAAAAAAAAAAAAAAAAAAAAAAAAAAAAAAAAAAAAAAAAAAAAAAAAAAAAAAAAAAAAAAAAAAAAAAAAAAAAAAAAAAAAAAAAAAAAAAAAAAAAAAAAAAAAAAAAAAAAAAAAAAAAAAAAAAAAAAAAAAAAAAAAAAAAAAAAAAAAAAAAAAAAAAAAAAAAAAAAAAAAAAAAAAAAAAAAAAAAAAAAAAAAAAAAAACwAAAAArgByAEAI/wADCBxIsKDBgwgTKlzIsKHDhxAjSpxIsaLFixgzatzIsaPHjyBDihxJsqTJkyQBqAzA0oDLlzBjyiRAs4DNAThz6tzJM4DPnz8TCA1A1IDRo0iNDlgqoCmCp1AFSJ1KtarVq1izat1qlYDXAWDDih1LtizYAmjTqkVLoK3bt3DdHphLt+5cBHjzCtjLt6/fv4ADCx5MuHDhAYgFKB7AuLHjx5AjMy5AubJlygQya97MWfOBz6BDf0ZAurSA06hTq17NurXr17Bjxx5AW4DtAbhz697NuzfuAsCDCwdOoLjx48iNH1jOvPlyBNCjC5hOvbr169iza9/OvXv3AeAFiP8fQL68+fPo05MvwL69e/YE4sufT19+gvsM8gPYz58/AYAECAwgKMDgQYQJFS5k2NDhQ4gNB0wUUHHARYwZNW7keLHAR5AhPxIgWdLkyZIAVK5k2dLlS5guE8xUUBPATZw5de7k2dPnT6AGhBIgOsDoUaRGCywd0NSp0wJRpU6NSsDqVaxZrwLg2tXrV7BhxY4lW9bsWbRp1a5l29btW7hx5c6lW9fuXbx59e7l29cv3gCBBQ8mXNjwYcSJFS9m3NjxY8iRJU+mXNnyZcyZNW/m3NnzZ9ChRY8WDMB0ANQGVK9m3dp1ANixZc+mTTvB7QC5Dezm3dv3b+DBhQ8nLnz/wHHkApQvX07A+QDo0aVPj17A+nXs1gls597d+/fvA8QLIH/A/Hn05hGsH9BewHv48eXPp1/f/n389gfsF9B/AMABAgcSLGjw4IACChcyVEjgIcSIEiEeqGjxYkUEGjcK6OjxI8iQIkeSLGny5MkBKgWwHODyJcyYMme6LGDzJk6bBHby7OmT54GgQocGRWD0qICkSpcyber0KdSoUqdOHWBVANYBWrdy7er1q9YCYseSFUvgLNq0atEeaOv2bVsEcucKqGv3Lt68evfy7ev3798BggUQHmD4MOLEihcbLuD4MWTHBCZTrmyZMoDMmjdzTuBZAWgAokeTLm2aAOrU/wJWs27t+jXs2LJn0x5g+zbu3Lp32y7g+zdw3wSGEy9unDiA5MqXM2/u/Dn06NKnU69uffqC7AC2c+/u/Tv48OLHky9v/jz69OrXs2/v/j38+PLn069v/z7+/PoD8O/vH2AAgQMJFjR4EGFChQsZNnT4EGJEiRMpVrR4EWNGjRs5dvT4EWRIkSNJljR5EmVKlStZtnT5EmZMmTMFArAZAKcBnTt59vRJAGgBoQOIFjV6FGkApUuZNnX6FGpUqVOpVrW6FEDWAFsNdPU6AGxYsWPJlgVLAG0BtQTYtnX7tm0AuXPp1rVrN0HeAHsN9PX7F3BgwYMJFzZMeEBixQIYN/9uTADyAMmTKVeeXABzZs2YCXT2/Bl06NADSAswfQB1atWoEbQe8FpAbNmzade2fRt3bt24B/QW8HtAcOHDiRc3HrxAcuXLkxNw/hx69OcHqFe3Tn1AdgTbBXT3/h18ePHjyZc3f/78APUC2A9w/x5+fPnz3Rewfx+/fQL7+ff3D5CAwAMECxokiCChQgEMGzp8CDGixIkUK1q0OCCjgI0DOnr8CDKkyI4FSpo8WZKAypUsW648ADOmTJgIatoUgDOnzp08e/r8CTSoUKEDigo4OiCp0qVMmzpNWiCq1KlRCVi9ijXr1QNcu3rliiCsWAFky5o9izat2rVs27p1OyD/roC5A+ravYs3r966Bfr6/duXgODBhAsPPoA4sWLECBo7FgA5suTJlCtbvow5s2bNAzoL+DwgtOjRpEubDl0gterVqQm4fg079usDtGvbpo0gt24BvHv7/g08uPDhxIsbNz4guYDlA5o7fw49uvTmBapbv16dgPbt3Lt7HwD+gPjxCMoLOI8+vfr17Nu7fw8/vvzzA+oLuD8gv/79/Pv7BzhgQAGCBQ0SJJBQ4UKGChM8ZBARwESKFAlcHJBRwEaOHT1+BBlS5EiSJUUOQClA5QCWLV2+hBmTZQGaNW3SJJBT506eOgH8BBpU6FCiRYcmQKpAKQCmTZ0+hRpV6lSq/1UNXCWQdcBWrl23FgA7QOzYsQXMnkVrlsBatm3dsgUQV+5cunXt3sWbV+9evn3xJgC8QDAAwoULG0BMQPEAxo0dP4ZcQPIAygUsX8ZsGcBmzp09fwYdWvRo0qVNn0ZdesFqAK1dv4YdW/Zs2rVt38adW/du3r19/wYeXPhw4sWNH0eeXPly5s2dP4ceXfp06tWtX8eevXUA7t29fwcfXvx48uXNn0efXv169u3dv4cfX/58+vXt38efX/9+/v39AwwgcCDBggYPIkyocCHDhg4fQowocSLFihYvYsyocSPHjh4/ggwpciTJkiZPokypciXLli5fwowpcybNmjZv4v/MqRMkgJ4BfhoIKnQo0aIBjiJNqnQp06ZOn0KNKnUq1apQAWANoNUA165ev4INIHYs2bJmz6JNq3Yt27Zu3wKIG2Cugbp27+LNS2Bvgb4D/gIOLHhwgMKGDyNOrHgx48aOH0OObBgA5QCWDWDOPGAz586eP4PeTGB0gdIETqNOrRp1gNauX8OOLXs27dq2b+PO7RoA7wC+DQAPPmA48eLGjyMfTmB5geYEnkOPLh16gOrWr2PPnj0B9wDeDYAPL348+fLmz6NPf34A+/YC3sOHT2D+gPr27+O3X2A///77ARIQOJBgwYEBECZMmIBhAIcGIEaUCHFARQEXEWTUKID/Y0ePH0GGFDmSZEmQBFAOULmSZUuXL1UWkDmTpkwCN3Hm1IkzQE+fPhMEDTDUQFGjR4sOUCqAKQKnTwVElTqValWrV7Fm1VqVQNcBX8GGFTuW7NcCZ9GmPUuAbVu3b+HCHTBXQN0Dd/HmvYuA7wC/AgAHFjyYcGHDhxEnPjyAsQDHAyBHljyZcmXIBTBn1oyZQGfPn0F7PjCadOnRA1AjUC2AdWvXr2HHlj2bdm3btgfkFrB7QG/fv4EHF967QHHjx4sTUL6cefPlB6BHlw59QHUE1wVk176de3fv38GHFz9+/ADzAtAPUL+efXv379UXkD+fvnwC9/Hn14//QH///wAPCByIoKBBAQgTKlzIsKHDhxAjSpQ4oKKAiwMyatzIsaPHjAVCihwZkoDJkyhTnjzAsqVLlghiyhRAs6bNmzhz6tzJs6dPnwOCChg6oKjRo0iTKi1aoKnTp00JSJ1KterUA1izasWKoKtXAWDDih1LtqzZs2jTqlU7oK2AtwPiyp1Lt67duAXy6t2bl4Dfv4AD/z1AuLBhwggSKxbAuLHjx5AjS55MubJlywMyC9g8oLPnz6BDi+5coLTp06UJqF7NuvXqA7Bjy4aNoLZtAbhz697Nu7fv38CDCxc+oLiA4wOSK1/OvLnz5AWiS58enYD169izXz/Avbt37gjCi/8XQL68+fPo06tfz769e/cD4guYP6C+/fv48+uvX6C/f4AFBA4kUNDgQYQGDyxk2HAhAogRBUykWNHiRYwZNW7k2LHjAJACRA4gWdLkSZQpSRZg2dIlSwIxZc6kKfPATZw5byLg2VPAT6BBhQ4lWtToUaRJkw5gKsDpAKhRpU6lWhVqAaxZtWIl0NXrV7BeD4wlW3YsArRpBaxl29btW7hx5c6lW7fuALwC9A7g29fvX8CB+RYgXNgwYQKJFS9mrPjAY8iRHyOgXFnAZcyZNW/m3NnzZ9ChQw8gLcD0ANSpVa9m3Rp1AdixZcMmUNv2bdy5B+w+0Ns3AuAChA8nXtz/+HHkyZUvZ95c+ADoAqQPoF7d+nXs2akX4N7dO3cC4cWPJ19+wPkD6dUjYC/A/Xv48eXPp1/f/n38+d0P4C/AP8ABAgcSLGjwoMACChcyVEjgIcSIEiEmqMjgIoCMGjUS6Djgo4CQIkeSLGnyJMqUKleiHOBSAMwBMmfSrGnzpswCOnfy1EngJ9CgQoECKGr0KNIEShUwBeD0KdSoUglQrSrgKtasWrdy7er1K9gBYseSLWv2rNgCateyVUvgLdy4cuECqGv3Lt4EehXwBeD3L+DAggkQLizgMOLEihczbuz4MeQBkidTrmz5suQCmjdz1kzgM+jQokEDKG36NOrU96pXp07gWgFsALJn065t+zbu3Lp3G+hN4PeA4MKHBy9gfADy5MkLMG/unDmB6NKnU5cO4Dr27Nq3c+/u/Tv48OLHe09gfgF6AOrXrzfgngD8AfLn069vvwD+AfoL8O/vH2CBAgAIFjR4EGFChQsZNnT4EOLCBBMXVARwESNGAxsJdBzwEWRIkSMLlBxwskBKlStTAnD5EmZMmTNp1rR5E2dOnTtxLvAJAGhQoUOJFjV6FGlSpUuZNnX6FGpUqVOpVrV6FWtWrVu5dvX6FWxYsWPJljV7Fm1atWvZtnX7Fm5cuXPp1rV7F29evXv59vX7F3BgwYP1BgQAOw==\"/><br/><center>Feature 0</center></td><td><img src=\"data:image/gif;base64,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\"/><br/><center>Feature 1</center></td><td><img src=\"data:image/gif;base64,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\"/><br/><center>Feature 2</center></td><td><img src=\"data:image/gif;base64,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\"/><br/><center>Feature 3</center></td><td><img src=\"data:image/gif;base64,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\"/><br/><center>Feature 4</center></td></tr><tr><td><img src=\"data:image/gif;base64,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\"/><br/><center>Feature 5</center></td><td><img src=\"data:image/gif;base64,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\"/><br/><center>Feature 6</center></td><td><img src=\"data:image/gif;base64,R0lGODdhrgByAIcAAMjIyNfX1+Hh4b29vfX19QAAAAAAAAAAAAAAAAAAAAAAAAAAAAAAAAAAAAAAAAAAAAAAAAAAAAAAAAAAAAAAAAAAAAAAAAAAAAAAAAAAAAAAAAAAAAAAAAAAAAAAAAAAAAAAAAAAAAAAAAAAAAAAAAAAAAAAAAAAAAAAAAAAAAAAAAAAAAAAAAAAAAAAAAAAAAAAAAAAAAAAAAAAAAAAAAAAAAAAAAAAAAAAAAAAAAAAAAAAAAAAAAAAAAAAAAAAAAAAAAAAAAAAAAAAAAAAAAAAAAAAAAAAAAAAAAAAAAAAAAAAAAAAAAAAAAAAAAAAAAAAAAAAAAAAAAAAAAAAAAAAAAAAAAAAAAAAAAAAAAAAAAAAAAAAAAAAAAAAAAAAAAAAAAAAAAAAAAAAAAAAAAAAAAAAAAAAAAAAAAAAAAAAAAAAAAAAAAAAAAAAAAAAAAAAAAAAAAAAAAAAAAAAAAAAAAAAAAAAAAAAAAAAAAAAAAAAAAAAAAAAAAAAAAAAAAAAAAAAAAAAAAAAAAAAAAAAAAAAAAAAAAAAAAAAAAAAAAAAAAAAAAAAAAAAAAAAAAAAAAAAAAAAAAAAAAAAAAAAAAAAAAAAAAAAAAAAAAAAAAAAAAAAAAAAAAAAAAAAAAAAAAAAAAAAAAAAAAAAAAAAAAAAAAAAAAAAAAAAAAAAAAAAAAAAAAAAAAAAAAAAAAAAAAAAAAAAAAAAAAAAAAAAAAAAAAAAAAAAAAAAAAAAAAAAAAAAAAAAAAAAAAAAAAAAAAAAAAAAAAAAAAAAAAAAAAAAAAAAAAAAAAAAAAAAAAAAAAAAAAAAAAAAAAAAAAAAAAAAAAAAAAAAAAAAAAAAAAAAAAAAAAAAAAAAAAAAAAAAAAAAAAAAAAAAAAAAAAAAAAAAAAAAAAAAAAAAAAAAAAAAAAAAAAAAAAAAAAAAAAAAAAAAAAAAAAAAAAAAAAAAAAAAAAAAAAAAAAAAAAAAAAAAAAAAAAAAAAAAAAAAAAAAAAAAAAAAAAAAAAAAACwAAAAArgByAEAI/wABCBxIsKDBgwgTKlzIsKHDhxAjSpxIsaLFixgzatzIsaPHjyBDihxJsqTJkyQDqFwJoKXLlzBjxgxAs6bNmzgB6Ny5M4DPnwCCCh1KVGiAo0iTKl3KtKnTp1CjSp1KtapSAVizat3KNYDXr2DDih1LtqzZs2jTql3Ltq2At3Djyp0boK7du3jz6t3Lt6/fv4ADCx5MWIDhw4gTKw7AuLHjx5AjS55MubLly5gza948oDOAzwFCix5NurTp0wJSqw7AurXr17Bjy55Nu7bt27hzwwbAu7fv38CDCwc+oDiA4wGSK1/OvLnz59CjS5/eXID1ANiza9/Ovbv37ADCi/8fT768+fPo06tfz769+/fw48ufT7++/fv48+vfz7+/f4AABA4kWNDgQYQJFS5k2NDhQ4gRJU6kWNHiRYwZNW7k2NHjR5AhRY4kWdLkSZQpEQZg2RLAS5gxZc6kWdMmzAA5dQLg2dPnT6BBhQ4lWtRozwBJlQJgGsDpU6hRpU6lWlUqAKxZtW4N0NXrV7BhxY4lW9bsWbRp1a5lG1bAW7hx5c4NUNfuXbx59e7l29fvX8CBBQ8mLMDwYcSJFQdg3NjxY8iRJU+mXNnyZcyZNW8W0JnAZwGhRY8mHcD0adSpVa9m3dr1a9ixZc+mXRvAbdy5dQ/gDcB3AODBhQ8nXtz/+HHkyZUvBy7A+fMA0aVPp17d+nXs2AFs597d+3fw4cWPJ1/e/Hn04gesB9De/Xv48eXPp1/f/n38+fXv59/fP0AAAgcSLGjwIMKEChcybOjwIcSIEidSrGjxIsaMGjdy7OjxI8iQIkeSLGnyJMqUKleybOnyJcyYMmfSrGnzJs6cOgEE6OkTANCgQocSJRrgKNKkSpcCaOr0KdSoUqdSrWr1KtasTgNw7QrgK9iwXwOQLWv2LFoAagOwbev2Ldy2AObSrWv37t0AevcC6Ov3L+DAggcTLmz4sN8AihcDaBzgMeTIkidTrmx5MoDMmjdzDuD5M+jQokeTLm36NOrU/6pXs27t+rOA2LID0K5t+zbu3Lp38+7t+zfw4MKHCyhu/Djy5AGWM2/u/Dn06NKnU69u/Tr27NoFcO/u/Tv4AOLHky9v/jz69OrXs2/v/j38+ALm069v/36A/Pr38+/vH2AAgQMJFjR4EGFChQsZNnT4sKAAiRMpVrQYAGNGjRs5dvT4EWRIkSNJljR5UkBKAisFtHT5EmYAmTNp1rR5E2dOnTt59vT5E2hQAUMDFBVwFGnSowSYBnD6FGpUqVOpVrV6FWtWrVu5dh3wFUDYAGPJljV7Fm1aAWvZBnD7Fm5cuXPp1rV7F29evXvlAvD7F3BgwYMJCx5wGEDiAIsZN/92/BhyZMmTKVd+LABzAM2bOXf2/Bn0ZgCjSZc2fRp1atWrWbd2/Vr1ANkAaAewfRtA7gC7eff2/Rt4cOEAiBc3fhx5cuXLmTd3/hx69OUDqAOwfh17du3buXf3/h18ePHjyZc3fx59evXr2bd3/x5+fPnz6de3fx9/fv37+ff3DxCAwIEECxo8iDChwoUMGzp8CDGixIkUK1q8iDGjxo0cO3r8CDKkyJEkS5o8iTKlypUsW7p8CTOmzJk0a9q8iTOnzp08e/r8CTSo0KFEixo9SjKA0qUAmjp9CjWq1KlUq1q9ijWr1q1ctQb4ChaA2LFky5o9izat2rVs27p9C7f/bIC5dAHYvYs3r169Afr6/Qs4MIDBhAsbPow4seLFjBs7fkw4gOTJACpbvlw5gObNnDt7BgA6gOjRpEubHg0gterVrFu7fg07tuzZtGurDoA7N4DdvHvvDgA8uPDhxAEYD4A8ufLlzJMDeA49uvTp0wNYvw4gu/bt3Lt7/w4+vPjx2gOYPw8gfYD17Nu7fw8/vvz3AOrbtx8gv34A/Pv7BwhA4ECBAQweRJhQ4UKGDR0+hBhR4kSKCQFcxIgxwEaOADx+BBnyYwCSJU2eRJlS5UqWLV2+hBlT5kkANW3exBlA506ePX3+BBpU6FCiRY0eRZpU6U4BTZ0GgBpV6lSq/1WtXsWaVetWrl29fu0qQOzYAGXNnkWbVu1atm3dvoUbV+5cugLs3sWbV28Avn39/gUcWPBgwoUNH0acWPFiAY0dP4YcOcBkypUtX8acWfNmzp09fwYdWrQA0qVNn0YdQPVq1q1dv4YdW/Zs2rVt38adW8Bu3r19/w4QXPhw4sWNH0eeXPly5s2dP4cuQPp06tWtB8CeXft27t29fwcfXvx48uXNnxeQXv169u0DvIcfX/58+vXt38efX/9+/v39AxQgcCDBggYDIEyocCHDhg4fQowocSLFihYvCsiocSPHjgE+ggwpciTJkiZPokypciXLli4FwIwpcybNADZv4v/MqXMnz54+fwINKnQo0aICjhJIKmAp06ZOA0CNKnUq1apWr2LNqnUr165evwoIG2CsgLJmz5YloDYA27Zu38KNK3cu3bp27+LNq3evgL4B/goILHhwYAKGAyBOrHgx48aOH0OOLHky5cqWLw/IDGBzgM6eP4MOLXq0gNKmA6BOrXo169auX8OOLXs27dqsAeDOrXv3gN4AfgcILnw48eLGjyNPrnw58+ACnkMPIH069erWr2PPnh0A9+7evw8ID2B8gPLmz6NPr349+/bu38MvL2A+/QD27+PPr38///79AQIQOJBgQYMHERocsBBAwwAPIUaUOJFiRYsXMWacKIC6YwCPH0GGFDmS5EcAJ1GmVLmSZUuXL2HGlDnT5QCbAHAG0LkTQM8AP4EGFTqUaFGjAJAmVbqUaVOnT6FGlTqV6tMBVwFkDbCVKwCvAcCGFTuWbFmzZwGkVbuWbVu3b+HGlTuXbl27cAfkBbCXb1+/fwEHFjyYcGHDhxEnVryYcWPHjyFHljyZcmXLlzFn1ryZc2fPn0GHFj2adGnTp1GnVr2adWvXr2HHlj2bdm3bt3Hn1r2bd2/fuAMCADs=\"/><br/><center>Feature 7</center></td><td><img src=\"data:image/gif;base64,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\"/><br/><center>Feature 8</center></td><td><img src=\"data:image/gif;base64,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\"/><br/><center>Feature 9</center></td></tr><tr><td><img src=\"data:image/gif;base64,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\"/><br/><center>Feature 10</center></td><td><img src=\"data:image/gif;base64,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\"/><br/><center>Feature 11</center></td><td><img src=\"data:image/gif;base64,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\"/><br/><center>Feature 12</center></td><td><img src=\"data:image/gif;base64,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\"/><br/><center>Feature 13</center></td><td><img src=\"data:image/gif;base64,R0lGODdhrgByAIcAAPCde+mMb/a0lfjEqvi+ovSpiPKgfvvSvP3dy/3m2AAAAAAAAAAAAAAAAAAAAAAAAAAAAAAAAAAAAAAAAAAAAAAAAAAAAAAAAAAAAAAAAAAAAAAAAAAAAAAAAAAAAAAAAAAAAAAAAAAAAAAAAAAAAAAAAAAAAAAAAAAAAAAAAAAAAAAAAAAAAAAAAAAAAAAAAAAAAAAAAAAAAAAAAAAAAAAAAAAAAAAAAAAAAAAAAAAAAAAAAAAAAAAAAAAAAAAAAAAAAAAAAAAAAAAAAAAAAAAAAAAAAAAAAAAAAAAAAAAAAAAAAAAAAAAAAAAAAAAAAAAAAAAAAAAAAAAAAAAAAAAAAAAAAAAAAAAAAAAAAAAAAAAAAAAAAAAAAAAAAAAAAAAAAAAAAAAAAAAAAAAAAAAAAAAAAAAAAAAAAAAAAAAAAAAAAAAAAAAAAAAAAAAAAAAAAAAAAAAAAAAAAAAAAAAAAAAAAAAAAAAAAAAAAAAAAAAAAAAAAAAAAAAAAAAAAAAAAAAAAAAAAAAAAAAAAAAAAAAAAAAAAAAAAAAAAAAAAAAAAAAAAAAAAAAAAAAAAAAAAAAAAAAAAAAAAAAAAAAAAAAAAAAAAAAAAAAAAAAAAAAAAAAAAAAAAAAAAAAAAAAAAAAAAAAAAAAAAAAAAAAAAAAAAAAAAAAAAAAAAAAAAAAAAAAAAAAAAAAAAAAAAAAAAAAAAAAAAAAAAAAAAAAAAAAAAAAAAAAAAAAAAAAAAAAAAAAAAAAAAAAAAAAAAAAAAAAAAAAAAAAAAAAAAAAAAAAAAAAAAAAAAAAAAAAAAAAAAAAAAAAAAAAAAAAAAAAAAAAAAAAAAAAAAAAAAAAAAAAAAAAAAAAAAAAAAAAAAAAAAAAAAAAAAAAAAAAAAAAAAAAAAAAAAAAAAAAAAAAAAAAAAAAAAAAAAAAAAAAAAAAAAAAAAAAAAAAAAAAAAAAAAAAAAAAAAAAAAAAAAAAAAAAAAAAAAAAAAAAAAAAAAAAAAAAAAAAAAAAAAAAAACwAAAAArgByAEAI/wABCBxIsKDBgwgTKlzIsKHDhxAjSpxIsaLFixgzatzIsaPHjyBDihxJsqTJkycLqFzJsqVLlwJiFphJs6bNmwBy6tyZU4DPn0CDFhg6oCiBo0iRCljKtKnTp1CjSp1K9YDVAVgFaN3KtavXr2DDiu16oOyAs2jTql3Ltq3bt2oJyJ1Lt67du3jz2hXAt6/fv4ADCx5M+O+BwwMSK17MuLHjx5AjMyZAubLly5gza96MWYDnz6BDix5NurTp0AdSD1jNurXr17Bjy57tmoDt27hz697Nu7duAcCDCx9OvLjx48iHD1heoDmA59ChB5heoLr169gNaN/OXTuB7wPCi/8fT56A+fPo06tfz769egHw48ufT7++/fv45wfYz7+/f4ABBA4kWNCgQQIJCywE0NDhQ4gRJU6kWNFiAIwGNALg2NEjRwEhRY4kWdLkyZIBVK5k2dLlS5gxZc6kWdPmTZw5de7k2dPnT6BBhQ4lWtToUaRJlS5lahTAU6hRpU6lWtXqVaxZtW7l2tXrV7BhxY4lW9bsWbRp1a5l29btW7hxpxagW9fuXbx1Aezl29fvX8B7BQwmTLjAYcSJFS9m3NjxY8iLCUwWUNnyAMwCNG/m3NnzZ9ChRXcuUHrAadSpTxNgjcD1ANixZc+mXXs2Ady5de/m3dv3b94ChA8nXtz/+HHkyZUXP9B8wHPo0aVPp17d+nXpBLRv597d+3fw4b0LIF/e/Hn06dWvZ3/+wPsB8eXPp1/f/n38+ekT4N/fP0ACAgcSLGjwIMKCAhYybOjwIcSIEic6LGBxAMaMGjdy7OjxI8iNBEaSLGnyJMqUKk8KaOnyJcyYMmfSrAkzAM6cOncO6FngJ4CgQocSLRrgaIGkBpYyber0KdSoUqdGBWD1qoCsWrdy7er1K9iwWQOQLWv2LNq0ateybev2Ldy4awXQNWAXAN68evfy7es3b4DAggcTLmz4MOLEihczbuz4MeTIkidTrmz5MubMmjdz7uw5M4DQokeTLm36NOrU/6pXs27t+jXs2LJn065t+zbu3Lp38+7t+zfw4MKHEy9u/Djy5MqXM2/u/Dn06NJdF6hu/Tr27NkFcC/g/Tv48OIBkC9v/jz69OrXs2/v/j189AXm068/XwD+/Pr38y/gHyABgQIIFjR4EGFBAAsZNnT4EOJCARMpUixwEWNGjRs5dvT4EeRGAiMFlDQ5AKUAlStZtnT5EmZMmS0L1BxwE2fOmwR4IvA5AGhQoUOJFh1KAGlSpUuZNnX6lKkAqVOpVrV6FWtWrVUHdPXqNUHYA2MHlDV7Fm1atWvZmiXwFm5cuXPp1rU7V0BevXv59vX7F3BgvgcIDzB8GHFixYsZN/92nJhAZMmTKVe2fBlzZQGbOXf2/Bl0aNGjPR8wPQB1atWrWbd2/Rr2agKzade2fRt3bt23BfT2/Rt4cOHDiRcHfgD5AOXLmTd3/hx6dOnNCVS3fh17du3buWcX8B18ePHjyZc3f178AfUD2Ld3/x5+fPnz6b8ncB9/fv37+ff3D5CAwIECCho8iDChwoUMGyIsAHGAxIkUK1q8iDGjxooEOnr8CDKkyJEkQwo4iTKlypUsW7p8qTKAzAI0a9qkaSDngJ08e/r8CTSoUAJEixo9ijSp0qVIBTh9CjWq1KlUq1qNOiBrga0Aunr1GiBsgbFky5o1gDatWrQE2g54Czf/rlwCdOvavYs3r969eAX4/Qs4sODBhAsbDhwgseLFjBs7ftyYgOQClAFYvow5s+bNnDt7/hwgtIHRAEqbPl1agOrVrFu7fg3bdYDZtGvbvo07t+7dvHv7/q1bgPACxAEYP348gHIDzAE4fw49uvTp1J8HuI49u/bt3Lt7/w4+vPjx5L0LOG8gPYD17Nu7fw8/PvsA9Ovbv48/v/79/Pv7BxhA4ECCBQ0eRJhQ4UKGDR0+hBhR4kSKFS1exJhR40aOHT1+BBlS5EiSJU2eRJlS5UqKAFy+hBlT5kyaNW3exJlT506ePX3+BBpU6FCiRY0eRZpU6VKmTZ0+hRpV6lSq/1WtXsWaVetWrl29fgUbVuxYsmXNnkWbVu1atm3dvoXrtsBcunXt3qULQO9evn39/gUcWPBgwoUNH0ZsuMBixo0dP2YMQPJkypUtX8acWfNmzp09f55cQPRo0qVNmxaQusBq1q1dvwYQW/Zs2rVt38adW/du3r1rFwAeXDhwAcWNH0eevMByAs0FPIceXfp06ACsX8eeXft27t29fwcfXrz2AuXNny8vQP169u3dF4BPQL4A+vXt38dfH8B+/v39AwQgcCDBggIOIkRYYCHDhg4fQowocSLFhwQuCsiocQBHAR4/ggwpciTJkiIBoEypEqWAli5fwiwgcwBNAjZv3v8UoHMnz54+fwINKnTogaIDjgpIqnQp06ZOn0KNyhQA1apWqQrIqnUr1wJeB4AlIHbsWAFmz6JNq3Yt27Zu3x6IO2CugLp27+LNq3cv375+7RYIPGAw4cKDCSBGoHgA48aOH0OO/JgA5cqWL2POrHkzZgGeP4MOLXo06dKmQw9IrVp1gtYHXg+ILXs27dq2b+OWTWA3796+fwMPLvy3gOLGjyNPrnw58+bIB0CPHj0B9QPWB2DPrn079+7ev2cnIH48+fLmz6NPb14A+/bu38OPL38+/fcH7g/Ir38///7+AQ4QOJBgQYMHCRJQuJBhQ4cPIUZ0KIBiRYsXMWbUuJH/48UDHweEFDmSZEmTJ1GmJEmAZUuXL2HGlDkTpgCbN3Hm1LmTZ0+fOQ8EHTCUaFGjR5EmVbrUKAGnT6FGlTqValWpArBm1bqVa1evX8FuPTB2QFmzZ9GmVbuWbVu0BODGlTuXbl27d+kK0LuXb1+/fwEHFtz3QOEBhxEnVryYcWPHjxUTkDyZcmXLlzFntiyAc2fPn0GHFj2a9OcDpwekVr2adWvXr2HHZk2Adm3bt3Hn1r0btwDfv4EHFz6ceHHjwQ8kH7CceXPnz6FHlz7dOQHr17Fn176de3ftAsCHFz+efHnz59GPP7B+QHv37+HHlz+ffn34BPDn17+ff3///wAJCBxIsKCAgwgTKlzIsKHDhwoPSBxAsaLFixgzatzI8SKBjyBDihxJsqTJkQJSqlzJsqXLlzBjsixAc4DNmzhz6tzJs6fPnASCCh1KtKjRo0iLCljKtKnTp1CjSp3qNIDVAlizasVqoOuAr2DDih1LtqxZAmjTql3Ltq3bt2wFyJ1Lt67du3jz6q0boG+Bv4AD/zVAeIDhw4gTK17MuDGBx5AjS55MubLlyQIya97MubPnz6BDcx5AuoBpAKhTpw7AuoDr17BjG5hNu/ZsArgH6N7NuzeB38CDCx9OvLjx4QKSK1/OvLnz59CjMw9Avbr16wOyF9gOoLv37+DDB/8YX6C8gfPo06tfz769+/ftAcifL6C+/fv48+vfz79/fYABBA4kWHDAwQIJASxk2NDhwwARC0w0UNHiRYwZNW7k2HEjAJAhBYwkWdLkSZQpVa4cGcDlS5gxZc6kKZPAzQI5Aezk2dPnT6BBhQ4lGsCoAaQAlC5lqlTAU6hRpU6lWnVqAKxZtW7l2tXrV7BhxY4l+1XA2QJpAaxlyzbAWwNxAcylW9fuXbx56Qbg29fvX8CBBQ8mXNjwYcSDBSwu0BjAY8iQA0w2UBnAZcyZNW/m3BlzANChRY8mXdr0adSpVa9m3fq0ANgGZAOgXdv2bdy5ddcO0Nv3b+DBhQ8nXtxX+HHkyZUvZ97c+XPo0aVPp17d+nXs2bVv597d+3fw4cWPJ1/e/Hn06dWvZ9/e/Xv48eXPp1/f/n38+fXv59/fP8AAAgcSLGjwIMKEChcybOjwIcSIBQMCADs=\"/><br/><center>Feature 14</center></td></tr><tr><td><img src=\"data:image/gif;base64,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\"/><br/><center>Feature 15</center></td></tr></table>"
      ],
      "text/plain": [
       "<IPython.core.display.HTML object>"
      ]
     },
     "execution_count": 23,
     "metadata": {},
     "output_type": "execute_result"
    }
   ],
   "source": [
    "net.propagate_to_features(\"conv\", get_senses(robot), scale=3)"
   ]
  },
  {
   "cell_type": "code",
   "execution_count": 24,
   "metadata": {},
   "outputs": [
    {
     "data": {
      "text/plain": [
       "{}"
      ]
     },
     "execution_count": 24,
     "metadata": {},
     "output_type": "execute_result"
    }
   ],
   "source": [
    "net.train_options"
   ]
  },
  {
   "cell_type": "code",
   "execution_count": 25,
   "metadata": {
    "scrolled": false
   },
   "outputs": [
    {
     "data": {
      "application/javascript": [
       "\n",
       "require(['base/js/namespace'], function(Jupyter) {\n",
       "    Jupyter.notebook.kernel.comm_manager.register_target('conx_svg_control', function(comm, msg) {\n",
       "        comm.on_msg(function(msg) {\n",
       "            var data = msg[\"content\"][\"data\"];\n",
       "            var images = document.getElementsByClassName(data[\"class\"]);\n",
       "            for (var i = 0; i < images.length; i++) {\n",
       "                images[i].setAttributeNS(null, \"href\", data[\"href\"]);\n",
       "            }\n",
       "        });\n",
       "    });\n",
       "});\n"
      ],
      "text/plain": [
       "<IPython.core.display.Javascript object>"
      ]
     },
     "metadata": {},
     "output_type": "display_data"
    },
    {
     "data": {
      "application/vnd.jupyter.widget-view+json": {
       "model_id": "77bb028b44a84291bc6d7cb3ff138b5c",
       "version_major": 2,
       "version_minor": 0
      },
      "text/html": [
       "<p>Failed to display Jupyter Widget of type <code>Tab</code>.</p>\n",
       "<p>\n",
       "  If you're reading this message in Jupyter Notebook or JupyterLab, it may mean\n",
       "  that the widgets JavaScript is still loading. If this message persists, it\n",
       "  likely means that the widgets JavaScript library is either not installed or\n",
       "  not enabled. See the <a href=\"https://ipywidgets.readthedocs.io/en/stable/user_install.html\">Jupyter\n",
       "  Widgets Documentation</a> for setup instructions.\n",
       "</p>\n",
       "<p>\n",
       "  If you're reading this message in another notebook frontend (for example, a static\n",
       "  rendering on GitHub or <a href=\"https://nbviewer.jupyter.org/\">NBViewer</a>),\n",
       "  it may mean that your frontend doesn't currently support widgets.\n",
       "</p>\n"
      ],
      "text/plain": [
       "Tab(children=(VBox(children=(HTML(value='<p style=\"text-align:center\"><svg id=\\'Robot Prediction Network\\' xmlns=\\'http://www.w3.org/2000/svg\\' viewBox=\"0 0 1100 664\" height=\"780\" image-rendering=\"pixelated\">\\n    <defs>\\n        <marker id=\"arrow\" markerWidth=\"10\" markerHeight=\"10\" refX=\"9\" refY=\"3\" orient=\"auto\" markerUnits=\"strokeWidth\">\\n          <path d=\"M0,0 L0,6 L9,3 z\" fill=\"black\" />\\n        </marker>\\n    </defs><text x=\"550.0\" y=\"12.5\" font-family=\"monospace\" font-size=\"15\" text-anchor=\"middle\" alignment-baseline=\"central\">Robot Prediction Network</text><rect x=\"315.6666666666667\" y=\"29\" width=\"102\" height=\"52\" style=\"fill:none;stroke:black;stroke-width:2\"/><image id=\"Robot Prediction Network_output1_12\" class=\"Robot Prediction Network_output1\" x=\"316.6666666666667\" y=\"30\" height=\"50\" width=\"100\" preserveAspectRatio=\"none\" href=\"data:image/gif;base64,R0lGODdhAgABAIcAAP3n2v707gAAAAAAAAAAAAAAAAAAAAAAAAAAAAAAAAAAAAAAAAAAAAAAAAAAAAAAAAAAAAAAAAAAAAAAAAAAAAAAAAAAAAAAAAAAAAAAAAAAAAAAAAAAAAAAAAAAAAAAAAAAAAAAAAAAAAAAAAAAAAAAAAAAAAAAAAAAAAAAAAAAAAAAAAAAAAAAAAAAAAAAAAAAAAAAAAAAAAAAAAAAAAAAAAAAAAAAAAAAAAAAAAAAAAAAAAAAAAAAAAAAAAAAAAAAAAAAAAAAAAAAAAAAAAAAAAAAAAAAAAAAAAAAAAAAAAAAAAAAAAAAAAAAAAAAAAAAAAAAAAAAAAAAAAAAAAAAAAAAAAAAAAAAAAAAAAAAAAAAAAAAAAAAAAAAAAAAAAAAAAAAAAAAAAAAAAAAAAAAAAAAAAAAAAAAAAAAAAAAAAAAAAAAAAAAAAAAAAAAAAAAAAAAAAAAAAAAAAAAAAAAAAAAAAAAAAAAAAAAAAAAAAAAAAAAAAAAAAAAAAAAAAAAAAAAAAAAAAAAAAAAAAAAAAAAAAAAAAAAAAAAAAAAAAAAAAAAAAAAAAAAAAAAAAAAAAAAAAAAAAAAAAAAAAAAAAAAAAAAAAAAAAAAAAAAAAAAAAAAAAAAAAAAAAAAAAAAAAAAAAAAAAAAAAAAAAAAAAAAAAAAAAAAAAAAAAAAAAAAAAAAAAAAAAAAAAAAAAAAAAAAAAAAAAAAAAAAAAAAAAAAAAAAAAAAAAAAAAAAAAAAAAAAAAAAAAAAAAAAAAAAAAAAAAAAAAAAAAAAAAAAAAAAAAAAAAAAAAAAAAAAAAAAAAAAAAAAAAAAAAAAAAAAAAAAAAAAAAAAAAAAAAAAAAAAAAAAAAAAAAAAAAAAAAAAAAAAAAAAAAAAAAAAAAAAAAAAAAAAAAAAAAAAAAAAAAAAAAAAAAAAAAAAAAAAAAAAAAAAAAAAAAAAAAAAAAAAAAAAAAAAAAAAAAAAAAAAAAAAAAAAAAAAAAAAAAAAAAAAAAAAAAAAAAAAAAAAACwAAAAAAgABAAAIBQADAAgIADs=\"><title>Layer: output1 (output)\\n shape = (2,)\\n Keras class = Dense\\n activation = sigmoid</title></image><text x=\"421.6666666666667\" y=\"57.0\" font-family=\"monospace\" font-size=\"12\" text-anchor=\"start\" alignment-baseline=\"central\">output1</text><rect x=\"632.3333333333334\" y=\"29\" width=\"202\" height=\"42\" style=\"fill:none;stroke:black;stroke-width:2\"/><image id=\"Robot Prediction Network_output2_13\" class=\"Robot Prediction Network_output2\" x=\"633.3333333333334\" y=\"30\" height=\"40\" width=\"200\" preserveAspectRatio=\"none\" href=\"data:image/gif;base64,R0lGODdhBQABAIcAAPa1l/Smg/vQufzWwQAAAAAAAAAAAAAAAAAAAAAAAAAAAAAAAAAAAAAAAAAAAAAAAAAAAAAAAAAAAAAAAAAAAAAAAAAAAAAAAAAAAAAAAAAAAAAAAAAAAAAAAAAAAAAAAAAAAAAAAAAAAAAAAAAAAAAAAAAAAAAAAAAAAAAAAAAAAAAAAAAAAAAAAAAAAAAAAAAAAAAAAAAAAAAAAAAAAAAAAAAAAAAAAAAAAAAAAAAAAAAAAAAAAAAAAAAAAAAAAAAAAAAAAAAAAAAAAAAAAAAAAAAAAAAAAAAAAAAAAAAAAAAAAAAAAAAAAAAAAAAAAAAAAAAAAAAAAAAAAAAAAAAAAAAAAAAAAAAAAAAAAAAAAAAAAAAAAAAAAAAAAAAAAAAAAAAAAAAAAAAAAAAAAAAAAAAAAAAAAAAAAAAAAAAAAAAAAAAAAAAAAAAAAAAAAAAAAAAAAAAAAAAAAAAAAAAAAAAAAAAAAAAAAAAAAAAAAAAAAAAAAAAAAAAAAAAAAAAAAAAAAAAAAAAAAAAAAAAAAAAAAAAAAAAAAAAAAAAAAAAAAAAAAAAAAAAAAAAAAAAAAAAAAAAAAAAAAAAAAAAAAAAAAAAAAAAAAAAAAAAAAAAAAAAAAAAAAAAAAAAAAAAAAAAAAAAAAAAAAAAAAAAAAAAAAAAAAAAAAAAAAAAAAAAAAAAAAAAAAAAAAAAAAAAAAAAAAAAAAAAAAAAAAAAAAAAAAAAAAAAAAAAAAAAAAAAAAAAAAAAAAAAAAAAAAAAAAAAAAAAAAAAAAAAAAAAAAAAAAAAAAAAAAAAAAAAAAAAAAAAAAAAAAAAAAAAAAAAAAAAAAAAAAAAAAAAAAAAAAAAAAAAAAAAAAAAAAAAAAAAAAAAAAAAAAAAAAAAAAAAAAAAAAAAAAAAAAAAAAAAAAAAAAAAAAAAAAAAAAAAAAAAAAAAAAAAAAAAAAAAAAAAAAAAAAAAAAAAAAAAAAAAAAAAAAAAAAAAAAAAAAAAAAAAAAAAAAAAAAAAAAAAAACwAAAAABQABAAAICAAHBBAAAEBAADs=\"><title>Layer: output2 (output)\\n shape = (5,)\\n Keras class = Dense\\n activation = sigmoid</title></image><text x=\"838.3333333333334\" y=\"52.0\" font-family=\"monospace\" font-size=\"12\" text-anchor=\"start\" alignment-baseline=\"central\">output2</text><line x1=\"366.6666666666667\" y1=\"109\" x2=\"366.6666666666667\" y2=\"82\" stroke=\"black\" stroke-width=\"2\" marker-end=\"url(#arrow)\"><title>Weights from hidden4 to output1\\n output1/kernel has shape (10, 2)\\n output1/bias has shape (2,)</title></line><rect x=\"265.6666666666667\" y=\"109\" width=\"202\" height=\"27\" style=\"fill:none;stroke:black;stroke-width:2\"/><image id=\"Robot Prediction Network_hidden4_14\" class=\"Robot Prediction Network_hidden4\" x=\"266.6666666666667\" y=\"110\" height=\"25\" width=\"200\" preserveAspectRatio=\"none\" href=\"data:image/gif;base64,R0lGODdhCgABAIcAAPSnhebm5v717/GefPe2mPnHrvzWwQAAAAAAAAAAAAAAAAAAAAAAAAAAAAAAAAAAAAAAAAAAAAAAAAAAAAAAAAAAAAAAAAAAAAAAAAAAAAAAAAAAAAAAAAAAAAAAAAAAAAAAAAAAAAAAAAAAAAAAAAAAAAAAAAAAAAAAAAAAAAAAAAAAAAAAAAAAAAAAAAAAAAAAAAAAAAAAAAAAAAAAAAAAAAAAAAAAAAAAAAAAAAAAAAAAAAAAAAAAAAAAAAAAAAAAAAAAAAAAAAAAAAAAAAAAAAAAAAAAAAAAAAAAAAAAAAAAAAAAAAAAAAAAAAAAAAAAAAAAAAAAAAAAAAAAAAAAAAAAAAAAAAAAAAAAAAAAAAAAAAAAAAAAAAAAAAAAAAAAAAAAAAAAAAAAAAAAAAAAAAAAAAAAAAAAAAAAAAAAAAAAAAAAAAAAAAAAAAAAAAAAAAAAAAAAAAAAAAAAAAAAAAAAAAAAAAAAAAAAAAAAAAAAAAAAAAAAAAAAAAAAAAAAAAAAAAAAAAAAAAAAAAAAAAAAAAAAAAAAAAAAAAAAAAAAAAAAAAAAAAAAAAAAAAAAAAAAAAAAAAAAAAAAAAAAAAAAAAAAAAAAAAAAAAAAAAAAAAAAAAAAAAAAAAAAAAAAAAAAAAAAAAAAAAAAAAAAAAAAAAAAAAAAAAAAAAAAAAAAAAAAAAAAAAAAAAAAAAAAAAAAAAAAAAAAAAAAAAAAAAAAAAAAAAAAAAAAAAAAAAAAAAAAAAAAAAAAAAAAAAAAAAAAAAAAAAAAAAAAAAAAAAAAAAAAAAAAAAAAAAAAAAAAAAAAAAAAAAAAAAAAAAAAAAAAAAAAAAAAAAAAAAAAAAAAAAAAAAAAAAAAAAAAAAAAAAAAAAAAAAAAAAAAAAAAAAAAAAAAAAAAAAAAAAAAAAAAAAAAAAAAAAAAAAAAAAAAAAAAAAAAAAAAAAAAAAAAAAAAAAAAAAAAAAAAAAAAAAAAAAAAAAAAAAAAAAAAAAAAAAAAAAAAAAAAAAAAACwAAAAACgABAAAIDgAHFAggQIABAAAIBAgIADs=\"><title>Layer: hidden4 (hidden)\\n shape = (10,)\\n Keras class = Dense\\n activation = sigmoid</title></image><text x=\"471.6666666666667\" y=\"124.5\" font-family=\"monospace\" font-size=\"12\" text-anchor=\"start\" alignment-baseline=\"central\">hidden4</text><line x1=\"733.3333333333334\" y1=\"110\" x2=\"733.3333333333334\" y2=\"70\" stroke=\"red\" stroke-width=\"2\" marker-end=\"url(#arrow)\"><title>Weights from hidden3 to output2\\n output2/kernel has shape (10, 5)\\n output2/bias has shape (5,)</title></line><line x1=\"550.0\" y1=\"164\" x2=\"733.3333333333334\" y2=\"110\" stroke=\"red\" stroke-width=\"2\"><title>Weights from hidden3 to output2\\n output2/kernel has shape (10, 5)\\n output2/bias has shape (5,)</title></line><line x1=\"550.0\" y1=\"164\" x2=\"366.6666666666667\" y2=\"137\" stroke=\"red\" stroke-width=\"2\" marker-end=\"url(#arrow)\"><title>Weights from hidden3 to hidden4\\n hidden4/kernel has shape (10, 10)\\n hidden4/bias has shape (10,)</title></line><rect x=\"449.0\" y=\"164\" width=\"202\" height=\"27\" style=\"fill:none;stroke:black;stroke-width:2\"/><image id=\"Robot Prediction Network_hidden3_15\" class=\"Robot Prediction Network_hidden3\" x=\"450.0\" y=\"165\" height=\"25\" width=\"200\" preserveAspectRatio=\"none\" href=\"data:image/gif;base64,R0lGODdhCgABAIcAAPz59/Xt6MvLy9TU1P3bxwAAAAAAAAAAAAAAAAAAAAAAAAAAAAAAAAAAAAAAAAAAAAAAAAAAAAAAAAAAAAAAAAAAAAAAAAAAAAAAAAAAAAAAAAAAAAAAAAAAAAAAAAAAAAAAAAAAAAAAAAAAAAAAAAAAAAAAAAAAAAAAAAAAAAAAAAAAAAAAAAAAAAAAAAAAAAAAAAAAAAAAAAAAAAAAAAAAAAAAAAAAAAAAAAAAAAAAAAAAAAAAAAAAAAAAAAAAAAAAAAAAAAAAAAAAAAAAAAAAAAAAAAAAAAAAAAAAAAAAAAAAAAAAAAAAAAAAAAAAAAAAAAAAAAAAAAAAAAAAAAAAAAAAAAAAAAAAAAAAAAAAAAAAAAAAAAAAAAAAAAAAAAAAAAAAAAAAAAAAAAAAAAAAAAAAAAAAAAAAAAAAAAAAAAAAAAAAAAAAAAAAAAAAAAAAAAAAAAAAAAAAAAAAAAAAAAAAAAAAAAAAAAAAAAAAAAAAAAAAAAAAAAAAAAAAAAAAAAAAAAAAAAAAAAAAAAAAAAAAAAAAAAAAAAAAAAAAAAAAAAAAAAAAAAAAAAAAAAAAAAAAAAAAAAAAAAAAAAAAAAAAAAAAAAAAAAAAAAAAAAAAAAAAAAAAAAAAAAAAAAAAAAAAAAAAAAAAAAAAAAAAAAAAAAAAAAAAAAAAAAAAAAAAAAAAAAAAAAAAAAAAAAAAAAAAAAAAAAAAAAAAAAAAAAAAAAAAAAAAAAAAAAAAAAAAAAAAAAAAAAAAAAAAAAAAAAAAAAAAAAAAAAAAAAAAAAAAAAAAAAAAAAAAAAAAAAAAAAAAAAAAAAAAAAAAAAAAAAAAAAAAAAAAAAAAAAAAAAAAAAAAAAAAAAAAAAAAAAAAAAAAAAAAAAAAAAAAAAAAAAAAAAAAAAAAAAAAAAAAAAAAAAAAAAAAAAAAAAAAAAAAAAAAAAAAAAAAAAAAAAAAAAAAAAAAAAAAAAAAAAAAAAAAAAAAAAAAAAAAAAAAAAAAAAAAAAAAAAAAAAAAACwAAAAACgABAAAIDQAHCAAQAIDBAAQABAQAOw==\"><title>Layer: hidden3 (hidden)\\n shape = (10,)\\n dropout = 0.25\\n Keras class = Dense\\n activation = sigmoid</title></image><text x=\"655.0\" y=\"179.5\" font-family=\"monospace\" font-size=\"12\" text-anchor=\"start\" alignment-baseline=\"central\">hidden3</text><line x1=\"550.0\" y1=\"219\" x2=\"550.0\" y2=\"192\" stroke=\"black\" stroke-width=\"2\" marker-end=\"url(#arrow)\"><title>Weights from hidden2 to hidden3\\n hidden3/kernel has shape (5, 10)\\n hidden3/bias has shape (10,)</title></line><rect x=\"449.0\" y=\"219\" width=\"202\" height=\"42\" style=\"fill:none;stroke:black;stroke-width:2\"/><image id=\"Robot Prediction Network_hidden2_16\" class=\"Robot Prediction Network_hidden2\" x=\"450.0\" y=\"220\" height=\"40\" width=\"200\" preserveAspectRatio=\"none\" href=\"data:image/gif;base64,R0lGODdhBQABAIcAAP7+/QAAAAAAAAAAAAAAAAAAAAAAAAAAAAAAAAAAAAAAAAAAAAAAAAAAAAAAAAAAAAAAAAAAAAAAAAAAAAAAAAAAAAAAAAAAAAAAAAAAAAAAAAAAAAAAAAAAAAAAAAAAAAAAAAAAAAAAAAAAAAAAAAAAAAAAAAAAAAAAAAAAAAAAAAAAAAAAAAAAAAAAAAAAAAAAAAAAAAAAAAAAAAAAAAAAAAAAAAAAAAAAAAAAAAAAAAAAAAAAAAAAAAAAAAAAAAAAAAAAAAAAAAAAAAAAAAAAAAAAAAAAAAAAAAAAAAAAAAAAAAAAAAAAAAAAAAAAAAAAAAAAAAAAAAAAAAAAAAAAAAAAAAAAAAAAAAAAAAAAAAAAAAAAAAAAAAAAAAAAAAAAAAAAAAAAAAAAAAAAAAAAAAAAAAAAAAAAAAAAAAAAAAAAAAAAAAAAAAAAAAAAAAAAAAAAAAAAAAAAAAAAAAAAAAAAAAAAAAAAAAAAAAAAAAAAAAAAAAAAAAAAAAAAAAAAAAAAAAAAAAAAAAAAAAAAAAAAAAAAAAAAAAAAAAAAAAAAAAAAAAAAAAAAAAAAAAAAAAAAAAAAAAAAAAAAAAAAAAAAAAAAAAAAAAAAAAAAAAAAAAAAAAAAAAAAAAAAAAAAAAAAAAAAAAAAAAAAAAAAAAAAAAAAAAAAAAAAAAAAAAAAAAAAAAAAAAAAAAAAAAAAAAAAAAAAAAAAAAAAAAAAAAAAAAAAAAAAAAAAAAAAAAAAAAAAAAAAAAAAAAAAAAAAAAAAAAAAAAAAAAAAAAAAAAAAAAAAAAAAAAAAAAAAAAAAAAAAAAAAAAAAAAAAAAAAAAAAAAAAAAAAAAAAAAAAAAAAAAAAAAAAAAAAAAAAAAAAAAAAAAAAAAAAAAAAAAAAAAAAAAAAAAAAAAAAAAAAAAAAAAAAAAAAAAAAAAAAAAAAAAAAAAAAAAAAAAAAAAAAAAAAAAAAAAAAAAAAAAAAAAAAAAAAAAAAAAAAAAAAAAAAAAAAAAAAAAAAAAAAACwAAAAABQABAAAIBgABCBQYEAA7\"><title>Layer: hidden2 (hidden)\\n shape = (5,)\\n Keras class = Dense\\n activation = sigmoid</title></image><text x=\"655.0\" y=\"242.0\" font-family=\"monospace\" font-size=\"12\" text-anchor=\"start\" alignment-baseline=\"central\">hidden2</text><line x1=\"275.0\" y1=\"290\" x2=\"550.0\" y2=\"260\" stroke=\"black\" stroke-width=\"2\" marker-end=\"url(#arrow)\"><title>Weights from hidden to hidden2\\n hidden2/kernel has shape (35330, 5)\\n hidden2/bias has shape (5,)</title></line><line x1=\"550.0\" y1=\"290\" x2=\"550.0\" y2=\"260\" stroke=\"black\" stroke-width=\"2\" marker-end=\"url(#arrow)\"><title>Weights from sonar to hidden2\\n hidden2/kernel has shape (35330, 5)\\n hidden2/bias has shape (5,)</title></line><line x1=\"825.0\" y1=\"289\" x2=\"550.0\" y2=\"262\" stroke=\"black\" stroke-width=\"2\" marker-end=\"url(#arrow)\"><title>Weights from flatten to hidden2\\n hidden2/kernel has shape (35330, 5)\\n hidden2/bias has shape (5,)</title></line><rect x=\"724.0\" y=\"289\" width=\"202\" height=\"27\" style=\"fill:none;stroke:black;stroke-width:2\"/><image id=\"Robot Prediction Network_flatten_17\" class=\"Robot Prediction Network_flatten\" x=\"725.0\" y=\"290\" height=\"25\" width=\"200\" preserveAspectRatio=\"none\" href=\"data:image/gif;base64,R0lGODdhwIkBAIcAAP7+/QAAAAAAAAAAAAAAAAAAAAAAAAAAAAAAAAAAAAAAAAAAAAAAAAAAAAAAAAAAAAAAAAAAAAAAAAAAAAAAAAAAAAAAAAAAAAAAAAAAAAAAAAAAAAAAAAAAAAAAAAAAAAAAAAAAAAAAAAAAAAAAAAAAAAAAAAAAAAAAAAAAAAAAAAAAAAAAAAAAAAAAAAAAAAAAAAAAAAAAAAAAAAAAAAAAAAAAAAAAAAAAAAAAAAAAAAAAAAAAAAAAAAAAAAAAAAAAAAAAAAAAAAAAAAAAAAAAAAAAAAAAAAAAAAAAAAAAAAAAAAAAAAAAAAAAAAAAAAAAAAAAAAAAAAAAAAAAAAAAAAAAAAAAAAAAAAAAAAAAAAAAAAAAAAAAAAAAAAAAAAAAAAAAAAAAAAAAAAAAAAAAAAAAAAAAAAAAAAAAAAAAAAAAAAAAAAAAAAAAAAAAAAAAAAAAAAAAAAAAAAAAAAAAAAAAAAAAAAAAAAAAAAAAAAAAAAAAAAAAAAAAAAAAAAAAAAAAAAAAAAAAAAAAAAAAAAAAAAAAAAAAAAAAAAAAAAAAAAAAAAAAAAAAAAAAAAAAAAAAAAAAAAAAAAAAAAAAAAAAAAAAAAAAAAAAAAAAAAAAAAAAAAAAAAAAAAAAAAAAAAAAAAAAAAAAAAAAAAAAAAAAAAAAAAAAAAAAAAAAAAAAAAAAAAAAAAAAAAAAAAAAAAAAAAAAAAAAAAAAAAAAAAAAAAAAAAAAAAAAAAAAAAAAAAAAAAAAAAAAAAAAAAAAAAAAAAAAAAAAAAAAAAAAAAAAAAAAAAAAAAAAAAAAAAAAAAAAAAAAAAAAAAAAAAAAAAAAAAAAAAAAAAAAAAAAAAAAAAAAAAAAAAAAAAAAAAAAAAAAAAAAAAAAAAAAAAAAAAAAAAAAAAAAAAAAAAAAAAAAAAAAAAAAAAAAAAAAAAAAAAAAAAAAAAAAAAAAAAAAAAAAAAAAAAAAAAAAAAAAAAAAAAAAAAAAAAAAAAAAAAAAAAAAAAAAAAAAAAAAACwAAAAAwIkBAAAI/wABCBxIsKDBgwgTKlzIsKHDhxAjSpxIsaLFixgzatzIsaPHjyBDihxJsqTJkyhTqlzJsqXLlzBjypxJs6bNmzhz6tzJs6fPn0CDCh1KtKjRo0iTKl3KtKnTp1CjSp1KtarVq1izat3KtavXr2DDih1LtqzZs2jTql3Ltq3bt3Djyp1Lt67du3jz6t3Lt6/fv4ADCx5MuLDhw4gTK17MuLHjx5AjS55MubLly5gza97MubPnz6BDix5NurTp06hTq17NurXr17Bjy55Nu7bt27hz697Nu7fv38CDCx9OvLjx48iTK1/OvLnz59CjS59Ovbr169iza9/Ovbv37+DDi3gfT768+fPo06tfz769+/fw48ufT7++/fv48+vfz7+/f4AABA4kWNDgQYQJFS5k2NDhQ4gRJU6kWNHiRYwZNW7k2NHjR5AhRY4kWdLkSZQpVa5k2dLlS5gxZc6kWdPmTZw5de7k2dPnT6BBhQ4lWtToUaRJlS7tGBAAOw==\"><title>Layer: flatten (hidden)\\n Keras class = Flatten</title></image><text x=\"930.0\" y=\"304.5\" font-family=\"monospace\" font-size=\"12\" text-anchor=\"start\" alignment-baseline=\"central\">flatten</text><line x1=\"275.0\" y1=\"344\" x2=\"275.0\" y2=\"290\" stroke=\"black\" stroke-width=\"2\"><title>Weights from hidden to hidden2\\n hidden2/kernel has shape (35330, 5)\\n hidden2/bias has shape (5,)</title></line><rect x=\"174.0\" y=\"344\" width=\"202\" height=\"27\" style=\"fill:none;stroke:black;stroke-width:2\"/><image id=\"Robot Prediction Network_hidden_18\" class=\"Robot Prediction Network_hidden\" x=\"175.0\" y=\"345\" height=\"25\" width=\"200\" preserveAspectRatio=\"none\" href=\"data:image/gif;base64,R0lGODdhMgABAIcAAP7+/QAAAAAAAAAAAAAAAAAAAAAAAAAAAAAAAAAAAAAAAAAAAAAAAAAAAAAAAAAAAAAAAAAAAAAAAAAAAAAAAAAAAAAAAAAAAAAAAAAAAAAAAAAAAAAAAAAAAAAAAAAAAAAAAAAAAAAAAAAAAAAAAAAAAAAAAAAAAAAAAAAAAAAAAAAAAAAAAAAAAAAAAAAAAAAAAAAAAAAAAAAAAAAAAAAAAAAAAAAAAAAAAAAAAAAAAAAAAAAAAAAAAAAAAAAAAAAAAAAAAAAAAAAAAAAAAAAAAAAAAAAAAAAAAAAAAAAAAAAAAAAAAAAAAAAAAAAAAAAAAAAAAAAAAAAAAAAAAAAAAAAAAAAAAAAAAAAAAAAAAAAAAAAAAAAAAAAAAAAAAAAAAAAAAAAAAAAAAAAAAAAAAAAAAAAAAAAAAAAAAAAAAAAAAAAAAAAAAAAAAAAAAAAAAAAAAAAAAAAAAAAAAAAAAAAAAAAAAAAAAAAAAAAAAAAAAAAAAAAAAAAAAAAAAAAAAAAAAAAAAAAAAAAAAAAAAAAAAAAAAAAAAAAAAAAAAAAAAAAAAAAAAAAAAAAAAAAAAAAAAAAAAAAAAAAAAAAAAAAAAAAAAAAAAAAAAAAAAAAAAAAAAAAAAAAAAAAAAAAAAAAAAAAAAAAAAAAAAAAAAAAAAAAAAAAAAAAAAAAAAAAAAAAAAAAAAAAAAAAAAAAAAAAAAAAAAAAAAAAAAAAAAAAAAAAAAAAAAAAAAAAAAAAAAAAAAAAAAAAAAAAAAAAAAAAAAAAAAAAAAAAAAAAAAAAAAAAAAAAAAAAAAAAAAAAAAAAAAAAAAAAAAAAAAAAAAAAAAAAAAAAAAAAAAAAAAAAAAAAAAAAAAAAAAAAAAAAAAAAAAAAAAAAAAAAAAAAAAAAAAAAAAAAAAAAAAAAAAAAAAAAAAAAAAAAAAAAAAAAAAAAAAAAAAAAAAAAAAAAAAAAAAAAAAAAAAAAAAAAAAAAAAAAAAAAAAAAAAAAAAAAAAAAAAAAAAAAAAAAAACwAAAAAMgABAAAIDgABCBxIsKDBgwgTFgwIADs=\"><title>Layer: hidden (hidden)\\n shape = (50,)\\n Keras class = Dense\\n activation = relu</title></image><text x=\"380.0\" y=\"359.5\" font-family=\"monospace\" font-size=\"12\" text-anchor=\"start\" alignment-baseline=\"central\">hidden</text><line x1=\"550.0\" y1=\"345\" x2=\"550.0\" y2=\"290\" stroke=\"black\" stroke-width=\"2\"><title>Weights from sonar to hidden2\\n hidden2/kernel has shape (35330, 5)\\n hidden2/bias has shape (5,)</title></line><line x1=\"825.0\" y1=\"344\" x2=\"825.0\" y2=\"317\" stroke=\"black\" stroke-width=\"2\" marker-end=\"url(#arrow)\"><title>Weights from conv to flatten</title></line><rect x=\"724.0\" y=\"344\" width=\"202\" height=\"133\" style=\"fill:none;stroke:black;stroke-width:2\"/><image id=\"Robot Prediction Network_conv_19\" class=\"Robot Prediction Network_conv\" x=\"725.0\" y=\"345\" height=\"131\" width=\"200\" preserveAspectRatio=\"none\" href=\"data:image/gif;base64,R0lGODdhOgAmAIcAAP7+/QAAAAAAAAAAAAAAAAAAAAAAAAAAAAAAAAAAAAAAAAAAAAAAAAAAAAAAAAAAAAAAAAAAAAAAAAAAAAAAAAAAAAAAAAAAAAAAAAAAAAAAAAAAAAAAAAAAAAAAAAAAAAAAAAAAAAAAAAAAAAAAAAAAAAAAAAAAAAAAAAAAAAAAAAAAAAAAAAAAAAAAAAAAAAAAAAAAAAAAAAAAAAAAAAAAAAAAAAAAAAAAAAAAAAAAAAAAAAAAAAAAAAAAAAAAAAAAAAAAAAAAAAAAAAAAAAAAAAAAAAAAAAAAAAAAAAAAAAAAAAAAAAAAAAAAAAAAAAAAAAAAAAAAAAAAAAAAAAAAAAAAAAAAAAAAAAAAAAAAAAAAAAAAAAAAAAAAAAAAAAAAAAAAAAAAAAAAAAAAAAAAAAAAAAAAAAAAAAAAAAAAAAAAAAAAAAAAAAAAAAAAAAAAAAAAAAAAAAAAAAAAAAAAAAAAAAAAAAAAAAAAAAAAAAAAAAAAAAAAAAAAAAAAAAAAAAAAAAAAAAAAAAAAAAAAAAAAAAAAAAAAAAAAAAAAAAAAAAAAAAAAAAAAAAAAAAAAAAAAAAAAAAAAAAAAAAAAAAAAAAAAAAAAAAAAAAAAAAAAAAAAAAAAAAAAAAAAAAAAAAAAAAAAAAAAAAAAAAAAAAAAAAAAAAAAAAAAAAAAAAAAAAAAAAAAAAAAAAAAAAAAAAAAAAAAAAAAAAAAAAAAAAAAAAAAAAAAAAAAAAAAAAAAAAAAAAAAAAAAAAAAAAAAAAAAAAAAAAAAAAAAAAAAAAAAAAAAAAAAAAAAAAAAAAAAAAAAAAAAAAAAAAAAAAAAAAAAAAAAAAAAAAAAAAAAAAAAAAAAAAAAAAAAAAAAAAAAAAAAAAAAAAAAAAAAAAAAAAAAAAAAAAAAAAAAAAAAAAAAAAAAAAAAAAAAAAAAAAAAAAAAAAAAAAAAAAAAAAAAAAAAAAAAAAAAAAAAAAAAAAAAAAAAAAAAAAAAAAAAAAAAAAAAAAAAAAAAAAAAACwAAAAAOgAmAEAITQABCBxIsKDBgwgTKlzIsKHDhxAjSpxIsaLFixgzatzIsaPHjyBDihxJsqTJkyhTqlzJsqXLlzBjypxJs6bNmzhz6tzJs6fPn0CD7gwIADs=\"><title>Layer: conv (hidden)\\n Keras class = Conv2D</title></image><text x=\"930.0\" y=\"412.5\" font-family=\"monospace\" font-size=\"12\" text-anchor=\"start\" alignment-baseline=\"central\">conv</text><text x=\"930.0\" y=\"350\" font-family=\"monospace\" font-size=\"12\" text-anchor=\"start\" alignment-baseline=\"central\">16</text><text x=\"706.0\" y=\"471\" font-family=\"monospace\" font-size=\"12\" text-anchor=\"start\" alignment-baseline=\"central\">15</text><line x1=\"275.0\" y1=\"505\" x2=\"275.0\" y2=\"372\" stroke=\"black\" stroke-width=\"2\" marker-end=\"url(#arrow)\"><title>Weights from light to hidden\\n hidden/kernel has shape (2, 50)\\n hidden/bias has shape (50,)</title></line><rect x=\"224.0\" y=\"505\" width=\"102\" height=\"52\" style=\"fill:none;stroke:black;stroke-width:2\"/><image id=\"Robot Prediction Network_light_20\" class=\"Robot Prediction Network_light\" x=\"225.0\" y=\"506\" height=\"50\" width=\"100\" preserveAspectRatio=\"none\" href=\"data:image/gif;base64,R0lGODdhAgABAIcAAP7+/QAAAAAAAAAAAAAAAAAAAAAAAAAAAAAAAAAAAAAAAAAAAAAAAAAAAAAAAAAAAAAAAAAAAAAAAAAAAAAAAAAAAAAAAAAAAAAAAAAAAAAAAAAAAAAAAAAAAAAAAAAAAAAAAAAAAAAAAAAAAAAAAAAAAAAAAAAAAAAAAAAAAAAAAAAAAAAAAAAAAAAAAAAAAAAAAAAAAAAAAAAAAAAAAAAAAAAAAAAAAAAAAAAAAAAAAAAAAAAAAAAAAAAAAAAAAAAAAAAAAAAAAAAAAAAAAAAAAAAAAAAAAAAAAAAAAAAAAAAAAAAAAAAAAAAAAAAAAAAAAAAAAAAAAAAAAAAAAAAAAAAAAAAAAAAAAAAAAAAAAAAAAAAAAAAAAAAAAAAAAAAAAAAAAAAAAAAAAAAAAAAAAAAAAAAAAAAAAAAAAAAAAAAAAAAAAAAAAAAAAAAAAAAAAAAAAAAAAAAAAAAAAAAAAAAAAAAAAAAAAAAAAAAAAAAAAAAAAAAAAAAAAAAAAAAAAAAAAAAAAAAAAAAAAAAAAAAAAAAAAAAAAAAAAAAAAAAAAAAAAAAAAAAAAAAAAAAAAAAAAAAAAAAAAAAAAAAAAAAAAAAAAAAAAAAAAAAAAAAAAAAAAAAAAAAAAAAAAAAAAAAAAAAAAAAAAAAAAAAAAAAAAAAAAAAAAAAAAAAAAAAAAAAAAAAAAAAAAAAAAAAAAAAAAAAAAAAAAAAAAAAAAAAAAAAAAAAAAAAAAAAAAAAAAAAAAAAAAAAAAAAAAAAAAAAAAAAAAAAAAAAAAAAAAAAAAAAAAAAAAAAAAAAAAAAAAAAAAAAAAAAAAAAAAAAAAAAAAAAAAAAAAAAAAAAAAAAAAAAAAAAAAAAAAAAAAAAAAAAAAAAAAAAAAAAAAAAAAAAAAAAAAAAAAAAAAAAAAAAAAAAAAAAAAAAAAAAAAAAAAAAAAAAAAAAAAAAAAAAAAAAAAAAAAAAAAAAAAAAAAAAAAAAAAAAAAAAAAAAAAAAAAAAAAAAAAAAAAAAAACwAAAAAAgABAAAIBQABAAgIADs=\"><title>Layer: light (input)\\n shape = (2,)\\n Keras class = Input</title></image><text x=\"330.0\" y=\"533.0\" font-family=\"monospace\" font-size=\"12\" text-anchor=\"start\" alignment-baseline=\"central\">light</text><line x1=\"550.0\" y1=\"505\" x2=\"550.0\" y2=\"345\" stroke=\"black\" stroke-width=\"2\"><title>Weights from sonar to hidden2\\n hidden2/kernel has shape (35330, 5)\\n hidden2/bias has shape (5,)</title></line><rect x=\"449.0\" y=\"505\" width=\"202\" height=\"27\" style=\"fill:none;stroke:black;stroke-width:2\"/><image id=\"Robot Prediction Network_sonar_21\" class=\"Robot Prediction Network_sonar\" x=\"450.0\" y=\"506\" height=\"25\" width=\"200\" preserveAspectRatio=\"none\" href=\"data:image/gif;base64,R0lGODdhEAABAIcAAP7+/QAAAAAAAAAAAAAAAAAAAAAAAAAAAAAAAAAAAAAAAAAAAAAAAAAAAAAAAAAAAAAAAAAAAAAAAAAAAAAAAAAAAAAAAAAAAAAAAAAAAAAAAAAAAAAAAAAAAAAAAAAAAAAAAAAAAAAAAAAAAAAAAAAAAAAAAAAAAAAAAAAAAAAAAAAAAAAAAAAAAAAAAAAAAAAAAAAAAAAAAAAAAAAAAAAAAAAAAAAAAAAAAAAAAAAAAAAAAAAAAAAAAAAAAAAAAAAAAAAAAAAAAAAAAAAAAAAAAAAAAAAAAAAAAAAAAAAAAAAAAAAAAAAAAAAAAAAAAAAAAAAAAAAAAAAAAAAAAAAAAAAAAAAAAAAAAAAAAAAAAAAAAAAAAAAAAAAAAAAAAAAAAAAAAAAAAAAAAAAAAAAAAAAAAAAAAAAAAAAAAAAAAAAAAAAAAAAAAAAAAAAAAAAAAAAAAAAAAAAAAAAAAAAAAAAAAAAAAAAAAAAAAAAAAAAAAAAAAAAAAAAAAAAAAAAAAAAAAAAAAAAAAAAAAAAAAAAAAAAAAAAAAAAAAAAAAAAAAAAAAAAAAAAAAAAAAAAAAAAAAAAAAAAAAAAAAAAAAAAAAAAAAAAAAAAAAAAAAAAAAAAAAAAAAAAAAAAAAAAAAAAAAAAAAAAAAAAAAAAAAAAAAAAAAAAAAAAAAAAAAAAAAAAAAAAAAAAAAAAAAAAAAAAAAAAAAAAAAAAAAAAAAAAAAAAAAAAAAAAAAAAAAAAAAAAAAAAAAAAAAAAAAAAAAAAAAAAAAAAAAAAAAAAAAAAAAAAAAAAAAAAAAAAAAAAAAAAAAAAAAAAAAAAAAAAAAAAAAAAAAAAAAAAAAAAAAAAAAAAAAAAAAAAAAAAAAAAAAAAAAAAAAAAAAAAAAAAAAAAAAAAAAAAAAAAAAAAAAAAAAAAAAAAAAAAAAAAAAAAAAAAAAAAAAAAAAAAAAAAAAAAAAAAAAAAAAAAAAAAAAAAAAAAAAAAAAAAAAAAAAAAAAAAAAAAAAAAAAAAAACwAAAAAEAABAAAICQABCBxIsCCAgAA7\"><title>Layer: sonar (input)\\n shape = (16,)\\n Keras class = Input</title></image><text x=\"655.0\" y=\"520.5\" font-family=\"monospace\" font-size=\"12\" text-anchor=\"start\" alignment-baseline=\"central\">sonar</text><line x1=\"825.0\" y1=\"505\" x2=\"825.0\" y2=\"478\" stroke=\"black\" stroke-width=\"2\" marker-end=\"url(#arrow)\"><title>Weights from camera to conv\\n conv/kernel has shape (3, 3, 3, 16)\\n conv/bias has shape (16,)</title></line><rect x=\"724.0\" y=\"505\" width=\"202\" height=\"135\" style=\"fill:none;stroke:black;stroke-width:2\"/><image id=\"Robot Prediction Network_camera_22\" class=\"Robot Prediction Network_camera\" x=\"725.0\" y=\"506\" height=\"133\" width=\"200\" preserveAspectRatio=\"none\" href=\"data:image/gif;base64,R0lGODdhPAAoAIcAAAAAAAAAAAAAAAAAAAAAAAAAAAAAAAAAAAAAAAAAAAAAAAAAAAAAAAAAAAAAAAAAAAAAAAAAAAAAAAAAAAAAAAAAAAAAAAAAAAAAAAAAAAAAAAAAAAAAAAAAAAAAAAAAAAAAAAAAAAAAAAAAAAAAAAAAAAAAAAAAAAAAAAAAAAAAAAAAAAAAAAAAAAAAAAAAAAAAAAAAAAAAAAAAAAAAAAAAAAAAAAAAAAAAAAAAAAAAAAAAAAAAAAAAAAAAAAAAAAAAAAAAAAAAAAAAAAAAAAAAAAAAAAAAAAAAAAAAAAAAAAAAAAAAAAAAAAAAAAAAAAAAAAAAAAAAAAAAAAAAAAAAAAAAAAAAAAAAAAAAAAAAAAAAAAAAAAAAAAAAAAAAAAAAAAAAAAAAAAAAAAAAAAAAAAAAAAAAAAAAAAAAAAAAAAAAAAAAAAAAAAAAAAAAAAAAAAAAAAAAAAAAAAAAAAAAAAAAAAAAAAAAAAAAAAAAAAAAAAAAAAAAAAAAAAAAAAAAAAAAAAAAAAAAAAAAAAAAAAAAAAAAAAAAAAAAAAAAAAAAAAAAAAAAAAAAAAAAAAAAAAAAAAAAAAAAAAAAAAAAAAAAAAAAAAAAAAAAAAAAAAAAAAAAAAAAAAAAAAAAAAAAAAAAAAAAAAAAAAAAAAAAAAAAAAAAAAAAAAAAAAAAAAAAAAAAAAAAAAAAAAAAAAAAAAAAAAAAAAAAAAAAAAAAAAAAAAAAAAAAAAAAAAAAAAAAAAAAAAAAAAAAAAAAAAAAAAAAAAAAAAAAAAAAAAAAAAAAAAAAAAAAAAAAAAAAAAAAAAAAAAAAAAAAAAAAAAAAAAAAAAAAAAAAAAAAAAAAAAAAAAAAAAAAAAAAAAAAAAAAAAAAAAAAAAAAAAAAAAAAAAAAAAAAAAAAAAAAAAAAAAAAAAAAAAAAAAAAAAAAAAAAAAAAAAAAAAAAAAAAAAAAAAAAAAAAAAAAAAAAAAAAAAAAAAAAAAAAAAAAAAAAAAAAAAAAAAAAAAAAAAAAACwAAAAAPAAoAEAIUAABCBxIsKDBgwgTKlzIsKHDhxAjSpxIsaLFixgzatzIsaPHjyBDihxJsqTJkyhTqlzJsqXLlzBjypxJs6bNmzhz6tzJs6fPn0CDCh1K1GZAADs=\"><title>Layer: camera (input)\\n shape = (40, 60, 3)\\n Keras class = Input</title></image><text x=\"930.0\" y=\"574.5\" font-family=\"monospace\" font-size=\"12\" text-anchor=\"start\" alignment-baseline=\"central\">camera</text></svg></p>', layout=Layout(height='550px', justify_content='center', overflow_x='auto', width='95%')), VBox(children=(HBox(children=(Select(description='Dataset:', index=1, options=('Test', 'Train'), rows=1, value='Train'), Button(icon='refresh', layout=Layout(width='40px'), style=ButtonStyle())), layout=Layout(height='40px')), HBox(children=(IntSlider(value=0, continuous_update=False, description='Dataset index', layout=Layout(width='95%'), max=0), Label(value='of 0', layout=Layout(width='100px'))), layout=Layout(height='40px')), HBox(children=(Button(icon='fast-backward', layout=Layout(width='100%'), style=ButtonStyle()), Button(icon='backward', layout=Layout(width='100%'), style=ButtonStyle()), Button(icon='forward', layout=Layout(width='100%'), style=ButtonStyle()), Button(icon='fast-forward', layout=Layout(width='100%'), style=ButtonStyle())), layout=Layout(height='50px', width='100%'))), layout=Layout(width='95%'))), layout=Layout(width='95%')), VBox(children=(Accordion(children=(VBox(children=(HTML(value='<p><h3>Robot Prediction Network:</h3></p>'), FloatSlider(value=1.0, continuous_update=False, description='Zoom', max=3.0, min=0.5), IntText(value=200, description='Horizontal space between banks:', style=DescriptionStyle(description_width='initial')), IntText(value=30, description='Vertical space between layers:', style=DescriptionStyle(description_width='initial')), Checkbox(value=False, description='Show Targets'), Checkbox(value=False, description='Show Errors'))), VBox(children=(HTML(value='<p><hr/><h3>output2 bank:</h3></p>'), Checkbox(value=True, description='Visible'), Text(value='RdGy', description='Colormap:'))), VBox(children=(HTML(value='<p><hr/><h3>hidden4 bank:</h3></p>'), Checkbox(value=True, description='Visible'), Text(value='RdGy', description='Colormap:'))), VBox(children=(HTML(value='<p><hr/><h3>hidden3 bank:</h3></p>'), Checkbox(value=True, description='Visible'), Text(value='RdGy', description='Colormap:'))), VBox(children=(HTML(value='<p><hr/><h3>hidden2 bank:</h3></p>'), Checkbox(value=True, description='Visible'), Text(value='RdGy', description='Colormap:'))), VBox(children=(HTML(value='<p><hr/><h3>output1 bank:</h3></p>'), Checkbox(value=True, description='Visible'), Text(value='RdGy', description='Colormap:'))), VBox(children=(HTML(value='<p><hr/><h3>hidden bank:</h3></p>'), Checkbox(value=True, description='Visible'), Text(value='RdGy', description='Colormap:'))), VBox(children=(HTML(value='<p><hr/><h3>conv bank:</h3></p>'), Checkbox(value=True, description='Visible'), Text(value='RdGy', description='Colormap:'), IntText(value=15, description='Feature to show:', style=DescriptionStyle(description_width='initial')))), VBox(children=(HTML(value='<p><hr/><h3>flatten bank:</h3></p>'), Checkbox(value=True, description='Visible'), Text(value='RdGy', description='Colormap:'))), VBox(children=(HTML(value='<p><hr/><h3>camera bank:</h3></p>'), Checkbox(value=True, description='Visible'), Text(value='RdGy', description='Colormap:'))), VBox(children=(HTML(value='<p><hr/><h3>sonar bank:</h3></p>'), Checkbox(value=True, description='Visible'), Text(value='RdGy', description='Colormap:'))), VBox(children=(HTML(value='<p><hr/><h3>light bank:</h3></p>'), Checkbox(value=True, description='Visible'), Text(value='RdGy', description='Colormap:')))), _titles={'6': 'hidden bank', '1': 'output2 bank', '4': 'hidden2 bank', '9': 'camera bank', '5': 'output1 bank', '7': 'conv bank', '2': 'hidden4 bank', '0': 'Robot Prediction Network network', '8': 'flatten bank', '11': 'light bank', '3': 'hidden3 bank', '10': 'sonar bank'}),), layout=Layout(overflow_y='auto', width='95%')), HTML(value='<iframe src=\"https://conx.readthedocs.io\" width=\"100%\" height=\"550px\"></frame>', layout=Layout(height='550px', width='95%'))), _titles={'0': 'Network', '1': 'Configuration', '2': 'Help'})"
      ]
     },
     "metadata": {},
     "output_type": "display_data"
    }
   ],
   "source": [
    "net.dashboard()"
   ]
  },
  {
   "cell_type": "code",
   "execution_count": 26,
   "metadata": {},
   "outputs": [
    {
     "data": {
      "application/javascript": [
       "\n",
       "require(['base/js/namespace'], function(Jupyter) {\n",
       "    Jupyter.notebook.kernel.comm_manager.register_target('conx_svg_control', function(comm, msg) {\n",
       "        comm.on_msg(function(msg) {\n",
       "            var data = msg[\"content\"][\"data\"];\n",
       "            var images = document.getElementsByClassName(data[\"class\"]);\n",
       "            for (var i = 0; i < images.length; i++) {\n",
       "                images[i].setAttributeNS(null, \"href\", data[\"href\"]);\n",
       "            }\n",
       "        });\n",
       "    });\n",
       "});\n"
      ],
      "text/plain": [
       "<IPython.core.display.Javascript object>"
      ]
     },
     "metadata": {},
     "output_type": "display_data"
    },
    {
     "data": {
      "text/html": [
       "<svg id='Robot Prediction Network' xmlns='http://www.w3.org/2000/svg' viewBox=\"0 0 1100 664\" height=\"780\" image-rendering=\"pixelated\">\n",
       "    <defs>\n",
       "        <marker id=\"arrow\" markerWidth=\"10\" markerHeight=\"10\" refX=\"9\" refY=\"3\" orient=\"auto\" markerUnits=\"strokeWidth\">\n",
       "          <path d=\"M0,0 L0,6 L9,3 z\" fill=\"black\" />\n",
       "        </marker>\n",
       "    </defs><text x=\"550.0\" y=\"12.5\" font-family=\"monospace\" font-size=\"15\" text-anchor=\"middle\" alignment-baseline=\"central\">Robot Prediction Network</text><rect x=\"315.6666666666667\" y=\"29\" width=\"102\" height=\"52\" style=\"fill:none;stroke:black;stroke-width:2\"/><image id=\"Robot Prediction Network_output1_23\" class=\"Robot Prediction Network_output1\" x=\"316.6666666666667\" y=\"30\" height=\"50\" width=\"100\" preserveAspectRatio=\"none\" href=\"data:image/gif;base64,R0lGODdhAgABAIcAAP3n2v707gAAAAAAAAAAAAAAAAAAAAAAAAAAAAAAAAAAAAAAAAAAAAAAAAAAAAAAAAAAAAAAAAAAAAAAAAAAAAAAAAAAAAAAAAAAAAAAAAAAAAAAAAAAAAAAAAAAAAAAAAAAAAAAAAAAAAAAAAAAAAAAAAAAAAAAAAAAAAAAAAAAAAAAAAAAAAAAAAAAAAAAAAAAAAAAAAAAAAAAAAAAAAAAAAAAAAAAAAAAAAAAAAAAAAAAAAAAAAAAAAAAAAAAAAAAAAAAAAAAAAAAAAAAAAAAAAAAAAAAAAAAAAAAAAAAAAAAAAAAAAAAAAAAAAAAAAAAAAAAAAAAAAAAAAAAAAAAAAAAAAAAAAAAAAAAAAAAAAAAAAAAAAAAAAAAAAAAAAAAAAAAAAAAAAAAAAAAAAAAAAAAAAAAAAAAAAAAAAAAAAAAAAAAAAAAAAAAAAAAAAAAAAAAAAAAAAAAAAAAAAAAAAAAAAAAAAAAAAAAAAAAAAAAAAAAAAAAAAAAAAAAAAAAAAAAAAAAAAAAAAAAAAAAAAAAAAAAAAAAAAAAAAAAAAAAAAAAAAAAAAAAAAAAAAAAAAAAAAAAAAAAAAAAAAAAAAAAAAAAAAAAAAAAAAAAAAAAAAAAAAAAAAAAAAAAAAAAAAAAAAAAAAAAAAAAAAAAAAAAAAAAAAAAAAAAAAAAAAAAAAAAAAAAAAAAAAAAAAAAAAAAAAAAAAAAAAAAAAAAAAAAAAAAAAAAAAAAAAAAAAAAAAAAAAAAAAAAAAAAAAAAAAAAAAAAAAAAAAAAAAAAAAAAAAAAAAAAAAAAAAAAAAAAAAAAAAAAAAAAAAAAAAAAAAAAAAAAAAAAAAAAAAAAAAAAAAAAAAAAAAAAAAAAAAAAAAAAAAAAAAAAAAAAAAAAAAAAAAAAAAAAAAAAAAAAAAAAAAAAAAAAAAAAAAAAAAAAAAAAAAAAAAAAAAAAAAAAAAAAAAAAAAAAAAAAAAAAAAAAAAAAAAAAAAAAAAAAAAAAAAAAAAAAAAAAAAAAACwAAAAAAgABAAAIBQADAAgIADs=\"><title>Layer: output1 (output)\n",
       " shape = (2,)\n",
       " Keras class = Dense\n",
       " activation = sigmoid</title></image><text x=\"421.6666666666667\" y=\"57.0\" font-family=\"monospace\" font-size=\"12\" text-anchor=\"start\" alignment-baseline=\"central\">output1</text><rect x=\"632.3333333333334\" y=\"29\" width=\"202\" height=\"42\" style=\"fill:none;stroke:black;stroke-width:2\"/><image id=\"Robot Prediction Network_output2_24\" class=\"Robot Prediction Network_output2\" x=\"633.3333333333334\" y=\"30\" height=\"40\" width=\"200\" preserveAspectRatio=\"none\" href=\"data:image/gif;base64,R0lGODdhBQABAIcAAPa1l/Smg/vQufzWwQAAAAAAAAAAAAAAAAAAAAAAAAAAAAAAAAAAAAAAAAAAAAAAAAAAAAAAAAAAAAAAAAAAAAAAAAAAAAAAAAAAAAAAAAAAAAAAAAAAAAAAAAAAAAAAAAAAAAAAAAAAAAAAAAAAAAAAAAAAAAAAAAAAAAAAAAAAAAAAAAAAAAAAAAAAAAAAAAAAAAAAAAAAAAAAAAAAAAAAAAAAAAAAAAAAAAAAAAAAAAAAAAAAAAAAAAAAAAAAAAAAAAAAAAAAAAAAAAAAAAAAAAAAAAAAAAAAAAAAAAAAAAAAAAAAAAAAAAAAAAAAAAAAAAAAAAAAAAAAAAAAAAAAAAAAAAAAAAAAAAAAAAAAAAAAAAAAAAAAAAAAAAAAAAAAAAAAAAAAAAAAAAAAAAAAAAAAAAAAAAAAAAAAAAAAAAAAAAAAAAAAAAAAAAAAAAAAAAAAAAAAAAAAAAAAAAAAAAAAAAAAAAAAAAAAAAAAAAAAAAAAAAAAAAAAAAAAAAAAAAAAAAAAAAAAAAAAAAAAAAAAAAAAAAAAAAAAAAAAAAAAAAAAAAAAAAAAAAAAAAAAAAAAAAAAAAAAAAAAAAAAAAAAAAAAAAAAAAAAAAAAAAAAAAAAAAAAAAAAAAAAAAAAAAAAAAAAAAAAAAAAAAAAAAAAAAAAAAAAAAAAAAAAAAAAAAAAAAAAAAAAAAAAAAAAAAAAAAAAAAAAAAAAAAAAAAAAAAAAAAAAAAAAAAAAAAAAAAAAAAAAAAAAAAAAAAAAAAAAAAAAAAAAAAAAAAAAAAAAAAAAAAAAAAAAAAAAAAAAAAAAAAAAAAAAAAAAAAAAAAAAAAAAAAAAAAAAAAAAAAAAAAAAAAAAAAAAAAAAAAAAAAAAAAAAAAAAAAAAAAAAAAAAAAAAAAAAAAAAAAAAAAAAAAAAAAAAAAAAAAAAAAAAAAAAAAAAAAAAAAAAAAAAAAAAAAAAAAAAAAAAAAAAAAAAAAAAAAAAAAAAAAAAAAAAAAAAAAAAAAAAAAAAACwAAAAABQABAAAICAAHBBAAAEBAADs=\"><title>Layer: output2 (output)\n",
       " shape = (5,)\n",
       " Keras class = Dense\n",
       " activation = sigmoid</title></image><text x=\"838.3333333333334\" y=\"52.0\" font-family=\"monospace\" font-size=\"12\" text-anchor=\"start\" alignment-baseline=\"central\">output2</text><line x1=\"366.6666666666667\" y1=\"109\" x2=\"366.6666666666667\" y2=\"82\" stroke=\"black\" stroke-width=\"2\" marker-end=\"url(#arrow)\"><title>Weights from hidden4 to output1\n",
       " output1/kernel has shape (10, 2)\n",
       " output1/bias has shape (2,)</title></line><rect x=\"265.6666666666667\" y=\"109\" width=\"202\" height=\"27\" style=\"fill:none;stroke:black;stroke-width:2\"/><image id=\"Robot Prediction Network_hidden4_25\" class=\"Robot Prediction Network_hidden4\" x=\"266.6666666666667\" y=\"110\" height=\"25\" width=\"200\" preserveAspectRatio=\"none\" href=\"data:image/gif;base64,R0lGODdhCgABAIcAAPSnhebm5v717/GefPe2mPnHrvzWwQAAAAAAAAAAAAAAAAAAAAAAAAAAAAAAAAAAAAAAAAAAAAAAAAAAAAAAAAAAAAAAAAAAAAAAAAAAAAAAAAAAAAAAAAAAAAAAAAAAAAAAAAAAAAAAAAAAAAAAAAAAAAAAAAAAAAAAAAAAAAAAAAAAAAAAAAAAAAAAAAAAAAAAAAAAAAAAAAAAAAAAAAAAAAAAAAAAAAAAAAAAAAAAAAAAAAAAAAAAAAAAAAAAAAAAAAAAAAAAAAAAAAAAAAAAAAAAAAAAAAAAAAAAAAAAAAAAAAAAAAAAAAAAAAAAAAAAAAAAAAAAAAAAAAAAAAAAAAAAAAAAAAAAAAAAAAAAAAAAAAAAAAAAAAAAAAAAAAAAAAAAAAAAAAAAAAAAAAAAAAAAAAAAAAAAAAAAAAAAAAAAAAAAAAAAAAAAAAAAAAAAAAAAAAAAAAAAAAAAAAAAAAAAAAAAAAAAAAAAAAAAAAAAAAAAAAAAAAAAAAAAAAAAAAAAAAAAAAAAAAAAAAAAAAAAAAAAAAAAAAAAAAAAAAAAAAAAAAAAAAAAAAAAAAAAAAAAAAAAAAAAAAAAAAAAAAAAAAAAAAAAAAAAAAAAAAAAAAAAAAAAAAAAAAAAAAAAAAAAAAAAAAAAAAAAAAAAAAAAAAAAAAAAAAAAAAAAAAAAAAAAAAAAAAAAAAAAAAAAAAAAAAAAAAAAAAAAAAAAAAAAAAAAAAAAAAAAAAAAAAAAAAAAAAAAAAAAAAAAAAAAAAAAAAAAAAAAAAAAAAAAAAAAAAAAAAAAAAAAAAAAAAAAAAAAAAAAAAAAAAAAAAAAAAAAAAAAAAAAAAAAAAAAAAAAAAAAAAAAAAAAAAAAAAAAAAAAAAAAAAAAAAAAAAAAAAAAAAAAAAAAAAAAAAAAAAAAAAAAAAAAAAAAAAAAAAAAAAAAAAAAAAAAAAAAAAAAAAAAAAAAAAAAAAAAAAAAAAAAAAAAAAAAAAAAAAAAAAAAAAAAAAAAAAAAAAAAACwAAAAACgABAAAIDgAHFAggQIABAAAIBAgIADs=\"><title>Layer: hidden4 (hidden)\n",
       " shape = (10,)\n",
       " Keras class = Dense\n",
       " activation = sigmoid</title></image><text x=\"471.6666666666667\" y=\"124.5\" font-family=\"monospace\" font-size=\"12\" text-anchor=\"start\" alignment-baseline=\"central\">hidden4</text><line x1=\"733.3333333333334\" y1=\"110\" x2=\"733.3333333333334\" y2=\"70\" stroke=\"red\" stroke-width=\"2\" marker-end=\"url(#arrow)\"><title>Weights from hidden3 to output2\n",
       " output2/kernel has shape (10, 5)\n",
       " output2/bias has shape (5,)</title></line><line x1=\"550.0\" y1=\"164\" x2=\"733.3333333333334\" y2=\"110\" stroke=\"red\" stroke-width=\"2\"><title>Weights from hidden3 to output2\n",
       " output2/kernel has shape (10, 5)\n",
       " output2/bias has shape (5,)</title></line><line x1=\"550.0\" y1=\"164\" x2=\"366.6666666666667\" y2=\"137\" stroke=\"red\" stroke-width=\"2\" marker-end=\"url(#arrow)\"><title>Weights from hidden3 to hidden4\n",
       " hidden4/kernel has shape (10, 10)\n",
       " hidden4/bias has shape (10,)</title></line><rect x=\"449.0\" y=\"164\" width=\"202\" height=\"27\" style=\"fill:none;stroke:black;stroke-width:2\"/><image id=\"Robot Prediction Network_hidden3_26\" class=\"Robot Prediction Network_hidden3\" x=\"450.0\" y=\"165\" height=\"25\" width=\"200\" preserveAspectRatio=\"none\" href=\"data:image/gif;base64,R0lGODdhCgABAIcAAPz59/Xt6MvLy9TU1P3bxwAAAAAAAAAAAAAAAAAAAAAAAAAAAAAAAAAAAAAAAAAAAAAAAAAAAAAAAAAAAAAAAAAAAAAAAAAAAAAAAAAAAAAAAAAAAAAAAAAAAAAAAAAAAAAAAAAAAAAAAAAAAAAAAAAAAAAAAAAAAAAAAAAAAAAAAAAAAAAAAAAAAAAAAAAAAAAAAAAAAAAAAAAAAAAAAAAAAAAAAAAAAAAAAAAAAAAAAAAAAAAAAAAAAAAAAAAAAAAAAAAAAAAAAAAAAAAAAAAAAAAAAAAAAAAAAAAAAAAAAAAAAAAAAAAAAAAAAAAAAAAAAAAAAAAAAAAAAAAAAAAAAAAAAAAAAAAAAAAAAAAAAAAAAAAAAAAAAAAAAAAAAAAAAAAAAAAAAAAAAAAAAAAAAAAAAAAAAAAAAAAAAAAAAAAAAAAAAAAAAAAAAAAAAAAAAAAAAAAAAAAAAAAAAAAAAAAAAAAAAAAAAAAAAAAAAAAAAAAAAAAAAAAAAAAAAAAAAAAAAAAAAAAAAAAAAAAAAAAAAAAAAAAAAAAAAAAAAAAAAAAAAAAAAAAAAAAAAAAAAAAAAAAAAAAAAAAAAAAAAAAAAAAAAAAAAAAAAAAAAAAAAAAAAAAAAAAAAAAAAAAAAAAAAAAAAAAAAAAAAAAAAAAAAAAAAAAAAAAAAAAAAAAAAAAAAAAAAAAAAAAAAAAAAAAAAAAAAAAAAAAAAAAAAAAAAAAAAAAAAAAAAAAAAAAAAAAAAAAAAAAAAAAAAAAAAAAAAAAAAAAAAAAAAAAAAAAAAAAAAAAAAAAAAAAAAAAAAAAAAAAAAAAAAAAAAAAAAAAAAAAAAAAAAAAAAAAAAAAAAAAAAAAAAAAAAAAAAAAAAAAAAAAAAAAAAAAAAAAAAAAAAAAAAAAAAAAAAAAAAAAAAAAAAAAAAAAAAAAAAAAAAAAAAAAAAAAAAAAAAAAAAAAAAAAAAAAAAAAAAAAAAAAAAAAAAAAAAAAAAAAAAAAAAAAAAAAAAAAAAAAAACwAAAAACgABAAAIDQAHCAAQAIDBAAQABAQAOw==\"><title>Layer: hidden3 (hidden)\n",
       " shape = (10,)\n",
       " dropout = 0.25\n",
       " Keras class = Dense\n",
       " activation = sigmoid</title></image><text x=\"655.0\" y=\"179.5\" font-family=\"monospace\" font-size=\"12\" text-anchor=\"start\" alignment-baseline=\"central\">hidden3</text><line x1=\"550.0\" y1=\"219\" x2=\"550.0\" y2=\"192\" stroke=\"black\" stroke-width=\"2\" marker-end=\"url(#arrow)\"><title>Weights from hidden2 to hidden3\n",
       " hidden3/kernel has shape (5, 10)\n",
       " hidden3/bias has shape (10,)</title></line><rect x=\"449.0\" y=\"219\" width=\"202\" height=\"42\" style=\"fill:none;stroke:black;stroke-width:2\"/><image id=\"Robot Prediction Network_hidden2_27\" class=\"Robot Prediction Network_hidden2\" x=\"450.0\" y=\"220\" height=\"40\" width=\"200\" preserveAspectRatio=\"none\" href=\"data:image/gif;base64,R0lGODdhBQABAIcAAP7+/QAAAAAAAAAAAAAAAAAAAAAAAAAAAAAAAAAAAAAAAAAAAAAAAAAAAAAAAAAAAAAAAAAAAAAAAAAAAAAAAAAAAAAAAAAAAAAAAAAAAAAAAAAAAAAAAAAAAAAAAAAAAAAAAAAAAAAAAAAAAAAAAAAAAAAAAAAAAAAAAAAAAAAAAAAAAAAAAAAAAAAAAAAAAAAAAAAAAAAAAAAAAAAAAAAAAAAAAAAAAAAAAAAAAAAAAAAAAAAAAAAAAAAAAAAAAAAAAAAAAAAAAAAAAAAAAAAAAAAAAAAAAAAAAAAAAAAAAAAAAAAAAAAAAAAAAAAAAAAAAAAAAAAAAAAAAAAAAAAAAAAAAAAAAAAAAAAAAAAAAAAAAAAAAAAAAAAAAAAAAAAAAAAAAAAAAAAAAAAAAAAAAAAAAAAAAAAAAAAAAAAAAAAAAAAAAAAAAAAAAAAAAAAAAAAAAAAAAAAAAAAAAAAAAAAAAAAAAAAAAAAAAAAAAAAAAAAAAAAAAAAAAAAAAAAAAAAAAAAAAAAAAAAAAAAAAAAAAAAAAAAAAAAAAAAAAAAAAAAAAAAAAAAAAAAAAAAAAAAAAAAAAAAAAAAAAAAAAAAAAAAAAAAAAAAAAAAAAAAAAAAAAAAAAAAAAAAAAAAAAAAAAAAAAAAAAAAAAAAAAAAAAAAAAAAAAAAAAAAAAAAAAAAAAAAAAAAAAAAAAAAAAAAAAAAAAAAAAAAAAAAAAAAAAAAAAAAAAAAAAAAAAAAAAAAAAAAAAAAAAAAAAAAAAAAAAAAAAAAAAAAAAAAAAAAAAAAAAAAAAAAAAAAAAAAAAAAAAAAAAAAAAAAAAAAAAAAAAAAAAAAAAAAAAAAAAAAAAAAAAAAAAAAAAAAAAAAAAAAAAAAAAAAAAAAAAAAAAAAAAAAAAAAAAAAAAAAAAAAAAAAAAAAAAAAAAAAAAAAAAAAAAAAAAAAAAAAAAAAAAAAAAAAAAAAAAAAAAAAAAAAAAAAAAAAAAAAAAAAAAAAAAAAAAAAAAAAAAAAAACwAAAAABQABAAAIBgABCBQYEAA7\"><title>Layer: hidden2 (hidden)\n",
       " shape = (5,)\n",
       " Keras class = Dense\n",
       " activation = sigmoid</title></image><text x=\"655.0\" y=\"242.0\" font-family=\"monospace\" font-size=\"12\" text-anchor=\"start\" alignment-baseline=\"central\">hidden2</text><line x1=\"275.0\" y1=\"290\" x2=\"550.0\" y2=\"260\" stroke=\"black\" stroke-width=\"2\" marker-end=\"url(#arrow)\"><title>Weights from hidden to hidden2\n",
       " hidden2/kernel has shape (35330, 5)\n",
       " hidden2/bias has shape (5,)</title></line><line x1=\"550.0\" y1=\"290\" x2=\"550.0\" y2=\"260\" stroke=\"black\" stroke-width=\"2\" marker-end=\"url(#arrow)\"><title>Weights from sonar to hidden2\n",
       " hidden2/kernel has shape (35330, 5)\n",
       " hidden2/bias has shape (5,)</title></line><line x1=\"825.0\" y1=\"289\" x2=\"550.0\" y2=\"262\" stroke=\"black\" stroke-width=\"2\" marker-end=\"url(#arrow)\"><title>Weights from flatten to hidden2\n",
       " hidden2/kernel has shape (35330, 5)\n",
       " hidden2/bias has shape (5,)</title></line><rect x=\"724.0\" y=\"289\" width=\"202\" height=\"27\" style=\"fill:none;stroke:black;stroke-width:2\"/><image id=\"Robot Prediction Network_flatten_28\" class=\"Robot Prediction Network_flatten\" x=\"725.0\" y=\"290\" height=\"25\" width=\"200\" preserveAspectRatio=\"none\" href=\"data:image/gif;base64,R0lGODdhwIkBAIcAAP7+/QAAAAAAAAAAAAAAAAAAAAAAAAAAAAAAAAAAAAAAAAAAAAAAAAAAAAAAAAAAAAAAAAAAAAAAAAAAAAAAAAAAAAAAAAAAAAAAAAAAAAAAAAAAAAAAAAAAAAAAAAAAAAAAAAAAAAAAAAAAAAAAAAAAAAAAAAAAAAAAAAAAAAAAAAAAAAAAAAAAAAAAAAAAAAAAAAAAAAAAAAAAAAAAAAAAAAAAAAAAAAAAAAAAAAAAAAAAAAAAAAAAAAAAAAAAAAAAAAAAAAAAAAAAAAAAAAAAAAAAAAAAAAAAAAAAAAAAAAAAAAAAAAAAAAAAAAAAAAAAAAAAAAAAAAAAAAAAAAAAAAAAAAAAAAAAAAAAAAAAAAAAAAAAAAAAAAAAAAAAAAAAAAAAAAAAAAAAAAAAAAAAAAAAAAAAAAAAAAAAAAAAAAAAAAAAAAAAAAAAAAAAAAAAAAAAAAAAAAAAAAAAAAAAAAAAAAAAAAAAAAAAAAAAAAAAAAAAAAAAAAAAAAAAAAAAAAAAAAAAAAAAAAAAAAAAAAAAAAAAAAAAAAAAAAAAAAAAAAAAAAAAAAAAAAAAAAAAAAAAAAAAAAAAAAAAAAAAAAAAAAAAAAAAAAAAAAAAAAAAAAAAAAAAAAAAAAAAAAAAAAAAAAAAAAAAAAAAAAAAAAAAAAAAAAAAAAAAAAAAAAAAAAAAAAAAAAAAAAAAAAAAAAAAAAAAAAAAAAAAAAAAAAAAAAAAAAAAAAAAAAAAAAAAAAAAAAAAAAAAAAAAAAAAAAAAAAAAAAAAAAAAAAAAAAAAAAAAAAAAAAAAAAAAAAAAAAAAAAAAAAAAAAAAAAAAAAAAAAAAAAAAAAAAAAAAAAAAAAAAAAAAAAAAAAAAAAAAAAAAAAAAAAAAAAAAAAAAAAAAAAAAAAAAAAAAAAAAAAAAAAAAAAAAAAAAAAAAAAAAAAAAAAAAAAAAAAAAAAAAAAAAAAAAAAAAAAAAAAAAAAAAAAAAAAAAAAAAAAAAAAAAAAAAAAAAAAAAAAAAACwAAAAAwIkBAAAI/wABCBxIsKDBgwgTKlzIsKHDhxAjSpxIsaLFixgzatzIsaPHjyBDihxJsqTJkyhTqlzJsqXLlzBjypxJs6bNmzhz6tzJs6fPn0CDCh1KtKjRo0iTKl3KtKnTp1CjSp1KtarVq1izat3KtavXr2DDih1LtqzZs2jTql3Ltq3bt3Djyp1Lt67du3jz6t3Lt6/fv4ADCx5MuLDhw4gTK17MuLHjx5AjS55MubLly5gza97MubPnz6BDix5NurTp06hTq17NurXr17Bjy55Nu7bt27hz697Nu7fv38CDCx9OvLjx48iTK1/OvLnz59CjS59Ovbr169iza9/Ovbv37+DDi3gfT768+fPo06tfz769+/fw48ufT7++/fv48+vfz7+/f4AABA4kWNDgQYQJFS5k2NDhQ4gRJU6kWNHiRYwZNW7k2NHjR5AhRY4kWdLkSZQpVa5k2dLlS5gxZc6kWdPmTZw5de7k2dPnT6BBhQ4lWtToUaRJlS7tGBAAOw==\"><title>Layer: flatten (hidden)\n",
       " Keras class = Flatten</title></image><text x=\"930.0\" y=\"304.5\" font-family=\"monospace\" font-size=\"12\" text-anchor=\"start\" alignment-baseline=\"central\">flatten</text><line x1=\"275.0\" y1=\"344\" x2=\"275.0\" y2=\"290\" stroke=\"black\" stroke-width=\"2\"><title>Weights from hidden to hidden2\n",
       " hidden2/kernel has shape (35330, 5)\n",
       " hidden2/bias has shape (5,)</title></line><rect x=\"174.0\" y=\"344\" width=\"202\" height=\"27\" style=\"fill:none;stroke:black;stroke-width:2\"/><image id=\"Robot Prediction Network_hidden_29\" class=\"Robot Prediction Network_hidden\" x=\"175.0\" y=\"345\" height=\"25\" width=\"200\" preserveAspectRatio=\"none\" href=\"data:image/gif;base64,R0lGODdhMgABAIcAAP7+/QAAAAAAAAAAAAAAAAAAAAAAAAAAAAAAAAAAAAAAAAAAAAAAAAAAAAAAAAAAAAAAAAAAAAAAAAAAAAAAAAAAAAAAAAAAAAAAAAAAAAAAAAAAAAAAAAAAAAAAAAAAAAAAAAAAAAAAAAAAAAAAAAAAAAAAAAAAAAAAAAAAAAAAAAAAAAAAAAAAAAAAAAAAAAAAAAAAAAAAAAAAAAAAAAAAAAAAAAAAAAAAAAAAAAAAAAAAAAAAAAAAAAAAAAAAAAAAAAAAAAAAAAAAAAAAAAAAAAAAAAAAAAAAAAAAAAAAAAAAAAAAAAAAAAAAAAAAAAAAAAAAAAAAAAAAAAAAAAAAAAAAAAAAAAAAAAAAAAAAAAAAAAAAAAAAAAAAAAAAAAAAAAAAAAAAAAAAAAAAAAAAAAAAAAAAAAAAAAAAAAAAAAAAAAAAAAAAAAAAAAAAAAAAAAAAAAAAAAAAAAAAAAAAAAAAAAAAAAAAAAAAAAAAAAAAAAAAAAAAAAAAAAAAAAAAAAAAAAAAAAAAAAAAAAAAAAAAAAAAAAAAAAAAAAAAAAAAAAAAAAAAAAAAAAAAAAAAAAAAAAAAAAAAAAAAAAAAAAAAAAAAAAAAAAAAAAAAAAAAAAAAAAAAAAAAAAAAAAAAAAAAAAAAAAAAAAAAAAAAAAAAAAAAAAAAAAAAAAAAAAAAAAAAAAAAAAAAAAAAAAAAAAAAAAAAAAAAAAAAAAAAAAAAAAAAAAAAAAAAAAAAAAAAAAAAAAAAAAAAAAAAAAAAAAAAAAAAAAAAAAAAAAAAAAAAAAAAAAAAAAAAAAAAAAAAAAAAAAAAAAAAAAAAAAAAAAAAAAAAAAAAAAAAAAAAAAAAAAAAAAAAAAAAAAAAAAAAAAAAAAAAAAAAAAAAAAAAAAAAAAAAAAAAAAAAAAAAAAAAAAAAAAAAAAAAAAAAAAAAAAAAAAAAAAAAAAAAAAAAAAAAAAAAAAAAAAAAAAAAAAAAAAAAAAAAAAAAAAAAAAAAAAAAAAAAAAAAAAAAACwAAAAAMgABAAAIDgABCBxIsKDBgwgTFgwIADs=\"><title>Layer: hidden (hidden)\n",
       " shape = (50,)\n",
       " Keras class = Dense\n",
       " activation = relu</title></image><text x=\"380.0\" y=\"359.5\" font-family=\"monospace\" font-size=\"12\" text-anchor=\"start\" alignment-baseline=\"central\">hidden</text><line x1=\"550.0\" y1=\"345\" x2=\"550.0\" y2=\"290\" stroke=\"black\" stroke-width=\"2\"><title>Weights from sonar to hidden2\n",
       " hidden2/kernel has shape (35330, 5)\n",
       " hidden2/bias has shape (5,)</title></line><line x1=\"825.0\" y1=\"344\" x2=\"825.0\" y2=\"317\" stroke=\"black\" stroke-width=\"2\" marker-end=\"url(#arrow)\"><title>Weights from conv to flatten</title></line><rect x=\"724.0\" y=\"344\" width=\"202\" height=\"133\" style=\"fill:none;stroke:black;stroke-width:2\"/><image id=\"Robot Prediction Network_conv_30\" class=\"Robot Prediction Network_conv\" x=\"725.0\" y=\"345\" height=\"131\" width=\"200\" preserveAspectRatio=\"none\" href=\"data:image/gif;base64,R0lGODdhOgAmAIcAAP7+/QAAAAAAAAAAAAAAAAAAAAAAAAAAAAAAAAAAAAAAAAAAAAAAAAAAAAAAAAAAAAAAAAAAAAAAAAAAAAAAAAAAAAAAAAAAAAAAAAAAAAAAAAAAAAAAAAAAAAAAAAAAAAAAAAAAAAAAAAAAAAAAAAAAAAAAAAAAAAAAAAAAAAAAAAAAAAAAAAAAAAAAAAAAAAAAAAAAAAAAAAAAAAAAAAAAAAAAAAAAAAAAAAAAAAAAAAAAAAAAAAAAAAAAAAAAAAAAAAAAAAAAAAAAAAAAAAAAAAAAAAAAAAAAAAAAAAAAAAAAAAAAAAAAAAAAAAAAAAAAAAAAAAAAAAAAAAAAAAAAAAAAAAAAAAAAAAAAAAAAAAAAAAAAAAAAAAAAAAAAAAAAAAAAAAAAAAAAAAAAAAAAAAAAAAAAAAAAAAAAAAAAAAAAAAAAAAAAAAAAAAAAAAAAAAAAAAAAAAAAAAAAAAAAAAAAAAAAAAAAAAAAAAAAAAAAAAAAAAAAAAAAAAAAAAAAAAAAAAAAAAAAAAAAAAAAAAAAAAAAAAAAAAAAAAAAAAAAAAAAAAAAAAAAAAAAAAAAAAAAAAAAAAAAAAAAAAAAAAAAAAAAAAAAAAAAAAAAAAAAAAAAAAAAAAAAAAAAAAAAAAAAAAAAAAAAAAAAAAAAAAAAAAAAAAAAAAAAAAAAAAAAAAAAAAAAAAAAAAAAAAAAAAAAAAAAAAAAAAAAAAAAAAAAAAAAAAAAAAAAAAAAAAAAAAAAAAAAAAAAAAAAAAAAAAAAAAAAAAAAAAAAAAAAAAAAAAAAAAAAAAAAAAAAAAAAAAAAAAAAAAAAAAAAAAAAAAAAAAAAAAAAAAAAAAAAAAAAAAAAAAAAAAAAAAAAAAAAAAAAAAAAAAAAAAAAAAAAAAAAAAAAAAAAAAAAAAAAAAAAAAAAAAAAAAAAAAAAAAAAAAAAAAAAAAAAAAAAAAAAAAAAAAAAAAAAAAAAAAAAAAAAAAAAAAAAAAAAAAAAAAAAAAAAAAAAAAAAAAAAACwAAAAAOgAmAEAITQABCBxIsKDBgwgTKlzIsKHDhxAjSpxIsaLFixgzatzIsaPHjyBDihxJsqTJkyhTqlzJsqXLlzBjypxJs6bNmzhz6tzJs6fPn0CD7gwIADs=\"><title>Layer: conv (hidden)\n",
       " Keras class = Conv2D</title></image><text x=\"930.0\" y=\"412.5\" font-family=\"monospace\" font-size=\"12\" text-anchor=\"start\" alignment-baseline=\"central\">conv</text><text x=\"930.0\" y=\"350\" font-family=\"monospace\" font-size=\"12\" text-anchor=\"start\" alignment-baseline=\"central\">16</text><text x=\"706.0\" y=\"471\" font-family=\"monospace\" font-size=\"12\" text-anchor=\"start\" alignment-baseline=\"central\">15</text><line x1=\"275.0\" y1=\"505\" x2=\"275.0\" y2=\"372\" stroke=\"black\" stroke-width=\"2\" marker-end=\"url(#arrow)\"><title>Weights from light to hidden\n",
       " hidden/kernel has shape (2, 50)\n",
       " hidden/bias has shape (50,)</title></line><rect x=\"224.0\" y=\"505\" width=\"102\" height=\"52\" style=\"fill:none;stroke:black;stroke-width:2\"/><image id=\"Robot Prediction Network_light_31\" class=\"Robot Prediction Network_light\" x=\"225.0\" y=\"506\" height=\"50\" width=\"100\" preserveAspectRatio=\"none\" href=\"data:image/gif;base64,R0lGODdhAgABAIcAAP7+/QAAAAAAAAAAAAAAAAAAAAAAAAAAAAAAAAAAAAAAAAAAAAAAAAAAAAAAAAAAAAAAAAAAAAAAAAAAAAAAAAAAAAAAAAAAAAAAAAAAAAAAAAAAAAAAAAAAAAAAAAAAAAAAAAAAAAAAAAAAAAAAAAAAAAAAAAAAAAAAAAAAAAAAAAAAAAAAAAAAAAAAAAAAAAAAAAAAAAAAAAAAAAAAAAAAAAAAAAAAAAAAAAAAAAAAAAAAAAAAAAAAAAAAAAAAAAAAAAAAAAAAAAAAAAAAAAAAAAAAAAAAAAAAAAAAAAAAAAAAAAAAAAAAAAAAAAAAAAAAAAAAAAAAAAAAAAAAAAAAAAAAAAAAAAAAAAAAAAAAAAAAAAAAAAAAAAAAAAAAAAAAAAAAAAAAAAAAAAAAAAAAAAAAAAAAAAAAAAAAAAAAAAAAAAAAAAAAAAAAAAAAAAAAAAAAAAAAAAAAAAAAAAAAAAAAAAAAAAAAAAAAAAAAAAAAAAAAAAAAAAAAAAAAAAAAAAAAAAAAAAAAAAAAAAAAAAAAAAAAAAAAAAAAAAAAAAAAAAAAAAAAAAAAAAAAAAAAAAAAAAAAAAAAAAAAAAAAAAAAAAAAAAAAAAAAAAAAAAAAAAAAAAAAAAAAAAAAAAAAAAAAAAAAAAAAAAAAAAAAAAAAAAAAAAAAAAAAAAAAAAAAAAAAAAAAAAAAAAAAAAAAAAAAAAAAAAAAAAAAAAAAAAAAAAAAAAAAAAAAAAAAAAAAAAAAAAAAAAAAAAAAAAAAAAAAAAAAAAAAAAAAAAAAAAAAAAAAAAAAAAAAAAAAAAAAAAAAAAAAAAAAAAAAAAAAAAAAAAAAAAAAAAAAAAAAAAAAAAAAAAAAAAAAAAAAAAAAAAAAAAAAAAAAAAAAAAAAAAAAAAAAAAAAAAAAAAAAAAAAAAAAAAAAAAAAAAAAAAAAAAAAAAAAAAAAAAAAAAAAAAAAAAAAAAAAAAAAAAAAAAAAAAAAAAAAAAAAAAAAAAAAAAAAAAAAAAAAAAAAACwAAAAAAgABAAAIBQABAAgIADs=\"><title>Layer: light (input)\n",
       " shape = (2,)\n",
       " Keras class = Input</title></image><text x=\"330.0\" y=\"533.0\" font-family=\"monospace\" font-size=\"12\" text-anchor=\"start\" alignment-baseline=\"central\">light</text><line x1=\"550.0\" y1=\"505\" x2=\"550.0\" y2=\"345\" stroke=\"black\" stroke-width=\"2\"><title>Weights from sonar to hidden2\n",
       " hidden2/kernel has shape (35330, 5)\n",
       " hidden2/bias has shape (5,)</title></line><rect x=\"449.0\" y=\"505\" width=\"202\" height=\"27\" style=\"fill:none;stroke:black;stroke-width:2\"/><image id=\"Robot Prediction Network_sonar_32\" class=\"Robot Prediction Network_sonar\" x=\"450.0\" y=\"506\" height=\"25\" width=\"200\" preserveAspectRatio=\"none\" href=\"data:image/gif;base64,R0lGODdhEAABAIcAAP7+/QAAAAAAAAAAAAAAAAAAAAAAAAAAAAAAAAAAAAAAAAAAAAAAAAAAAAAAAAAAAAAAAAAAAAAAAAAAAAAAAAAAAAAAAAAAAAAAAAAAAAAAAAAAAAAAAAAAAAAAAAAAAAAAAAAAAAAAAAAAAAAAAAAAAAAAAAAAAAAAAAAAAAAAAAAAAAAAAAAAAAAAAAAAAAAAAAAAAAAAAAAAAAAAAAAAAAAAAAAAAAAAAAAAAAAAAAAAAAAAAAAAAAAAAAAAAAAAAAAAAAAAAAAAAAAAAAAAAAAAAAAAAAAAAAAAAAAAAAAAAAAAAAAAAAAAAAAAAAAAAAAAAAAAAAAAAAAAAAAAAAAAAAAAAAAAAAAAAAAAAAAAAAAAAAAAAAAAAAAAAAAAAAAAAAAAAAAAAAAAAAAAAAAAAAAAAAAAAAAAAAAAAAAAAAAAAAAAAAAAAAAAAAAAAAAAAAAAAAAAAAAAAAAAAAAAAAAAAAAAAAAAAAAAAAAAAAAAAAAAAAAAAAAAAAAAAAAAAAAAAAAAAAAAAAAAAAAAAAAAAAAAAAAAAAAAAAAAAAAAAAAAAAAAAAAAAAAAAAAAAAAAAAAAAAAAAAAAAAAAAAAAAAAAAAAAAAAAAAAAAAAAAAAAAAAAAAAAAAAAAAAAAAAAAAAAAAAAAAAAAAAAAAAAAAAAAAAAAAAAAAAAAAAAAAAAAAAAAAAAAAAAAAAAAAAAAAAAAAAAAAAAAAAAAAAAAAAAAAAAAAAAAAAAAAAAAAAAAAAAAAAAAAAAAAAAAAAAAAAAAAAAAAAAAAAAAAAAAAAAAAAAAAAAAAAAAAAAAAAAAAAAAAAAAAAAAAAAAAAAAAAAAAAAAAAAAAAAAAAAAAAAAAAAAAAAAAAAAAAAAAAAAAAAAAAAAAAAAAAAAAAAAAAAAAAAAAAAAAAAAAAAAAAAAAAAAAAAAAAAAAAAAAAAAAAAAAAAAAAAAAAAAAAAAAAAAAAAAAAAAAAAAAAAAAAAAAAAAAAAAAAAAAAAAAAAAAAAAAAAACwAAAAAEAABAAAICQABCBxIsCCAgAA7\"><title>Layer: sonar (input)\n",
       " shape = (16,)\n",
       " Keras class = Input</title></image><text x=\"655.0\" y=\"520.5\" font-family=\"monospace\" font-size=\"12\" text-anchor=\"start\" alignment-baseline=\"central\">sonar</text><line x1=\"825.0\" y1=\"505\" x2=\"825.0\" y2=\"478\" stroke=\"black\" stroke-width=\"2\" marker-end=\"url(#arrow)\"><title>Weights from camera to conv\n",
       " conv/kernel has shape (3, 3, 3, 16)\n",
       " conv/bias has shape (16,)</title></line><rect x=\"724.0\" y=\"505\" width=\"202\" height=\"135\" style=\"fill:none;stroke:black;stroke-width:2\"/><image id=\"Robot Prediction Network_camera_33\" class=\"Robot Prediction Network_camera\" x=\"725.0\" y=\"506\" height=\"133\" width=\"200\" preserveAspectRatio=\"none\" href=\"data:image/gif;base64,R0lGODdhPAAoAIcAAAAAAAAAAAAAAAAAAAAAAAAAAAAAAAAAAAAAAAAAAAAAAAAAAAAAAAAAAAAAAAAAAAAAAAAAAAAAAAAAAAAAAAAAAAAAAAAAAAAAAAAAAAAAAAAAAAAAAAAAAAAAAAAAAAAAAAAAAAAAAAAAAAAAAAAAAAAAAAAAAAAAAAAAAAAAAAAAAAAAAAAAAAAAAAAAAAAAAAAAAAAAAAAAAAAAAAAAAAAAAAAAAAAAAAAAAAAAAAAAAAAAAAAAAAAAAAAAAAAAAAAAAAAAAAAAAAAAAAAAAAAAAAAAAAAAAAAAAAAAAAAAAAAAAAAAAAAAAAAAAAAAAAAAAAAAAAAAAAAAAAAAAAAAAAAAAAAAAAAAAAAAAAAAAAAAAAAAAAAAAAAAAAAAAAAAAAAAAAAAAAAAAAAAAAAAAAAAAAAAAAAAAAAAAAAAAAAAAAAAAAAAAAAAAAAAAAAAAAAAAAAAAAAAAAAAAAAAAAAAAAAAAAAAAAAAAAAAAAAAAAAAAAAAAAAAAAAAAAAAAAAAAAAAAAAAAAAAAAAAAAAAAAAAAAAAAAAAAAAAAAAAAAAAAAAAAAAAAAAAAAAAAAAAAAAAAAAAAAAAAAAAAAAAAAAAAAAAAAAAAAAAAAAAAAAAAAAAAAAAAAAAAAAAAAAAAAAAAAAAAAAAAAAAAAAAAAAAAAAAAAAAAAAAAAAAAAAAAAAAAAAAAAAAAAAAAAAAAAAAAAAAAAAAAAAAAAAAAAAAAAAAAAAAAAAAAAAAAAAAAAAAAAAAAAAAAAAAAAAAAAAAAAAAAAAAAAAAAAAAAAAAAAAAAAAAAAAAAAAAAAAAAAAAAAAAAAAAAAAAAAAAAAAAAAAAAAAAAAAAAAAAAAAAAAAAAAAAAAAAAAAAAAAAAAAAAAAAAAAAAAAAAAAAAAAAAAAAAAAAAAAAAAAAAAAAAAAAAAAAAAAAAAAAAAAAAAAAAAAAAAAAAAAAAAAAAAAAAAAAAAAAAAAAAAAAAAAAAAAAAAAAAAAAAAAAAAAAAAAAAAAAACwAAAAAPAAoAEAIUAABCBxIsKDBgwgTKlzIsKHDhxAjSpxIsaLFixgzatzIsaPHjyBDihxJsqTJkyhTqlzJsqXLlzBjypxJs6bNmzhz6tzJs6fPn0CDCh1K1GZAADs=\"><title>Layer: camera (input)\n",
       " shape = (40, 60, 3)\n",
       " Keras class = Input</title></image><text x=\"930.0\" y=\"574.5\" font-family=\"monospace\" font-size=\"12\" text-anchor=\"start\" alignment-baseline=\"central\">camera</text></svg>"
      ],
      "text/plain": [
       "<Network name='Robot Prediction Network' (compiled)>"
      ]
     },
     "execution_count": 26,
     "metadata": {},
     "output_type": "execute_result"
    }
   ],
   "source": [
    "net"
   ]
  },
  {
   "cell_type": "code",
   "execution_count": null,
   "metadata": {},
   "outputs": [],
   "source": []
  },
  {
   "cell_type": "code",
   "execution_count": 27,
   "metadata": {},
   "outputs": [
    {
     "name": "stdout",
     "output_type": "stream",
     "text": [
      "Testing on training dataset...\n"
     ]
    },
    {
     "ename": "ValueError",
     "evalue": "Error when checking model : you are passing a list as input to your model, but the model expects a list of 3 Numpy arrays instead. The list you passed was: []",
     "output_type": "error",
     "traceback": [
      "\u001b[0;31m---------------------------------------------------------------------------\u001b[0m",
      "\u001b[0;31mValueError\u001b[0m                                Traceback (most recent call last)",
      "\u001b[0;32m<ipython-input-27-70ff5a56f9ac>\u001b[0m in \u001b[0;36m<module>\u001b[0;34m()\u001b[0m\n\u001b[0;32m----> 1\u001b[0;31m \u001b[0mnet\u001b[0m\u001b[0;34m.\u001b[0m\u001b[0mtest\u001b[0m\u001b[0;34m(\u001b[0m\u001b[0;34m)\u001b[0m\u001b[0;34m\u001b[0m\u001b[0m\n\u001b[0m",
      "\u001b[0;32m/usr/local/lib/python3.5/dist-packages/conx/network.py\u001b[0m in \u001b[0;36mtest\u001b[0;34m(self, batch_size, tolerance, force, show_inputs, show_outputs)\u001b[0m\n\u001b[1;32m    327\u001b[0m             \u001b[0mtargets\u001b[0m \u001b[0;34m=\u001b[0m \u001b[0mself\u001b[0m\u001b[0;34m.\u001b[0m\u001b[0mdataset\u001b[0m\u001b[0;34m.\u001b[0m\u001b[0m_test_targets\u001b[0m\u001b[0;34m\u001b[0m\u001b[0m\n\u001b[1;32m    328\u001b[0m         \u001b[0mprint\u001b[0m\u001b[0;34m(\u001b[0m\u001b[0;34m\"Testing on %s dataset...\"\u001b[0m \u001b[0;34m%\u001b[0m \u001b[0mdataset_name\u001b[0m\u001b[0;34m)\u001b[0m\u001b[0;34m\u001b[0m\u001b[0m\n\u001b[0;32m--> 329\u001b[0;31m         \u001b[0moutputs\u001b[0m \u001b[0;34m=\u001b[0m \u001b[0mself\u001b[0m\u001b[0;34m.\u001b[0m\u001b[0mmodel\u001b[0m\u001b[0;34m.\u001b[0m\u001b[0mpredict\u001b[0m\u001b[0;34m(\u001b[0m\u001b[0minputs\u001b[0m\u001b[0;34m,\u001b[0m \u001b[0mbatch_size\u001b[0m\u001b[0;34m=\u001b[0m\u001b[0mbatch_size\u001b[0m\u001b[0;34m)\u001b[0m\u001b[0;34m\u001b[0m\u001b[0m\n\u001b[0m\u001b[1;32m    330\u001b[0m         \u001b[0;31m## FIXME: outputs not shaped\u001b[0m\u001b[0;34m\u001b[0m\u001b[0;34m\u001b[0m\u001b[0m\n\u001b[1;32m    331\u001b[0m         \u001b[0min_formatted\u001b[0m \u001b[0;34m=\u001b[0m \u001b[0mself\u001b[0m\u001b[0;34m.\u001b[0m\u001b[0mpf_matrix\u001b[0m\u001b[0;34m(\u001b[0m\u001b[0minputs\u001b[0m\u001b[0;34m,\u001b[0m \u001b[0mforce\u001b[0m\u001b[0;34m)\u001b[0m\u001b[0;34m\u001b[0m\u001b[0m\n",
      "\u001b[0;32m/usr/local/lib/python3.5/dist-packages/keras/engine/training.py\u001b[0m in \u001b[0;36mpredict\u001b[0;34m(self, x, batch_size, verbose)\u001b[0m\n\u001b[1;32m   1497\u001b[0m         x = _standardize_input_data(x, self._feed_input_names,\n\u001b[1;32m   1498\u001b[0m                                     \u001b[0mself\u001b[0m\u001b[0;34m.\u001b[0m\u001b[0m_feed_input_shapes\u001b[0m\u001b[0;34m,\u001b[0m\u001b[0;34m\u001b[0m\u001b[0m\n\u001b[0;32m-> 1499\u001b[0;31m                                     check_batch_axis=False)\n\u001b[0m\u001b[1;32m   1500\u001b[0m         \u001b[0;32mif\u001b[0m \u001b[0mself\u001b[0m\u001b[0;34m.\u001b[0m\u001b[0mstateful\u001b[0m\u001b[0;34m:\u001b[0m\u001b[0;34m\u001b[0m\u001b[0m\n\u001b[1;32m   1501\u001b[0m             \u001b[0;32mif\u001b[0m \u001b[0mx\u001b[0m\u001b[0;34m[\u001b[0m\u001b[0;36m0\u001b[0m\u001b[0;34m]\u001b[0m\u001b[0;34m.\u001b[0m\u001b[0mshape\u001b[0m\u001b[0;34m[\u001b[0m\u001b[0;36m0\u001b[0m\u001b[0;34m]\u001b[0m \u001b[0;34m>\u001b[0m \u001b[0mbatch_size\u001b[0m \u001b[0;32mand\u001b[0m \u001b[0mx\u001b[0m\u001b[0;34m[\u001b[0m\u001b[0;36m0\u001b[0m\u001b[0;34m]\u001b[0m\u001b[0;34m.\u001b[0m\u001b[0mshape\u001b[0m\u001b[0;34m[\u001b[0m\u001b[0;36m0\u001b[0m\u001b[0;34m]\u001b[0m \u001b[0;34m%\u001b[0m \u001b[0mbatch_size\u001b[0m \u001b[0;34m!=\u001b[0m \u001b[0;36m0\u001b[0m\u001b[0;34m:\u001b[0m\u001b[0;34m\u001b[0m\u001b[0m\n",
      "\u001b[0;32m/usr/local/lib/python3.5/dist-packages/keras/engine/training.py\u001b[0m in \u001b[0;36m_standardize_input_data\u001b[0;34m(data, names, shapes, check_batch_axis, exception_prefix)\u001b[0m\n\u001b[1;32m     90\u001b[0m                         \u001b[0;34m' Numpy arrays instead. '\u001b[0m\u001b[0;34m\u001b[0m\u001b[0m\n\u001b[1;32m     91\u001b[0m                         \u001b[0;34m'The list you passed was: '\u001b[0m \u001b[0;34m+\u001b[0m\u001b[0;34m\u001b[0m\u001b[0m\n\u001b[0;32m---> 92\u001b[0;31m                         str(data)[:200])\n\u001b[0m\u001b[1;32m     93\u001b[0m         \u001b[0marrays\u001b[0m \u001b[0;34m=\u001b[0m \u001b[0mdata\u001b[0m\u001b[0;34m\u001b[0m\u001b[0m\n\u001b[1;32m     94\u001b[0m     \u001b[0;32melse\u001b[0m\u001b[0;34m:\u001b[0m\u001b[0;34m\u001b[0m\u001b[0m\n",
      "\u001b[0;31mValueError\u001b[0m: Error when checking model : you are passing a list as input to your model, but the model expects a list of 3 Numpy arrays instead. The list you passed was: []"
     ]
    }
   ],
   "source": [
    "net.test()"
   ]
  },
  {
   "cell_type": "code",
   "execution_count": null,
   "metadata": {},
   "outputs": [],
   "source": []
  }
 ],
 "metadata": {
  "kernelspec": {
   "display_name": "Python 3",
   "language": "python",
   "name": "python3"
  },
  "language_info": {
   "codemirror_mode": {
    "name": "ipython",
    "version": 3
   },
   "file_extension": ".py",
   "mimetype": "text/x-python",
   "name": "python",
   "nbconvert_exporter": "python",
   "pygments_lexer": "ipython3",
   "version": "3.5.3"
  },
  "widgets": {
   "application/vnd.jupyter.widget-state+json": {
    "state": {
     "08423084241441eb9091dfd3995ec7fe": {
      "model_module": "jupyter-js-widgets",
      "model_module_version": "~2.1.4",
      "model_name": "LayoutModel",
      "state": {
       "_model_module_version": "~2.1.4",
       "_view_module_version": "~2.1.4"
      }
     },
     "0a486aece37d4ceda35626962a10b644": {
      "model_module": "jupyter-js-widgets",
      "model_module_version": "~2.1.4",
      "model_name": "LayoutModel",
      "state": {
       "_model_module_version": "~2.1.4",
       "_view_module_version": "~2.1.4",
       "height": "20px",
       "padding": "0px 0px 0px 0px",
       "width": "248px"
      }
     },
     "116e160ad9f14e7fb81d6dabde0c37eb": {
      "model_module": "jupyter-js-widgets",
      "model_module_version": "~2.1.4",
      "model_name": "FloatSliderModel",
      "state": {
       "_model_module_version": "~2.1.4",
       "_view_module_version": "~2.1.4",
       "layout": "IPY_MODEL_c3c7c15d20ec4640a9f5fe85ade3682c",
       "orientation": "vertical",
       "readout": false,
       "step": 0.1,
       "value": 51.24999999999999
      }
     },
     "1adceb8e00834cea8cf5b6dbe7433a09": {
      "model_module": "jupyter-js-widgets",
      "model_module_version": "~2.1.4",
      "model_name": "LayoutModel",
      "state": {
       "_model_module_version": "~2.1.4",
       "_view_module_version": "~2.1.4"
      }
     },
     "1c00298cd5294f93a5bd80d8eb821703": {
      "model_module": "jupyter-js-widgets",
      "model_module_version": "~2.1.4",
      "model_name": "ImageModel",
      "state": {
       "_b64value": "iVBORw0KGgoAAAANSUhEUgAAADwAAAAoCAIAAAAt2Q6oAAAA8UlEQVR4nO3WoQ7CMBCA4d5d++gYggJDwMwgEJshATHkEIRgUCCwkxiwZAhGMxq2bIRcaXKfWOb655b0BvExV6FB3wHfkGguEs1ForlINBeJ5qJ9B5TuhwzeKaWqz+qLt+jbNkVEIgIARLRBbXSOztPYDqBuEg2KokBEYwwRdT3a+hx9SiJ8sZOofji/yuhdNCQirTURPVv9ZjXTm8kAAIwxvks6+OuJ1pFoLhLNJchouFzPSql+b+rc0w3L5Vcb0Vnj7f89ymjHeDQPL7rBLFqGF/0riyQLL9qxXu3Di+4kyCtPorlINBeJ5iLRXIKMfgDJGDkVat0rzwAAAABJRU5ErkJggg==",
       "_model_module_version": "~2.1.4",
       "_view_module_version": "~2.1.4",
       "layout": "IPY_MODEL_826d8904866c4e82ba2a9a5221fd2631",
       "width": "240"
      }
     },
     "2e5b657e21fa4e3fb459a974ef89ffea": {
      "model_module": "jupyter-js-widgets",
      "model_module_version": "~2.1.4",
      "model_name": "FloatSliderModel",
      "state": {
       "_model_module_version": "~2.1.4",
       "_view_module_version": "~2.1.4",
       "layout": "IPY_MODEL_0a486aece37d4ceda35626962a10b644",
       "readout": false,
       "step": 0.1,
       "value": 99.44295769917836
      }
     },
     "2e5d973073534c3eb26e448b646a8c7d": {
      "model_module": "jupyter-js-widgets",
      "model_module_version": "~2.1.4",
      "model_name": "OutputModel",
      "state": {
       "_dom_classes": [],
       "_model_module": "jupyter-js-widgets",
       "_model_module_version": "~2.1.4",
       "_view_module": "jupyter-js-widgets",
       "_view_module_version": "~2.1.4",
       "layout": "IPY_MODEL_39f10ac0d7e94b6a998cecbcde4c3c24",
       "msg_throttle": 1
      }
     },
     "35e0bf572944420cb3eb23722feea99e": {
      "model_module": "jupyter-js-widgets",
      "model_module_version": "~2.1.4",
      "model_name": "LayoutModel",
      "state": {
       "_model_module_version": "~2.1.4",
       "_view_module_version": "~2.1.4"
      }
     },
     "39f10ac0d7e94b6a998cecbcde4c3c24": {
      "model_module": "jupyter-js-widgets",
      "model_module_version": "~2.1.4",
      "model_name": "LayoutModel",
      "state": {
       "_model_module_version": "~2.1.4",
       "_view_module_version": "~2.1.4"
      }
     },
     "497f35579b594d33b9416aa809c0bbe3": {
      "model_module": "jupyter-js-widgets",
      "model_module_version": "~2.1.4",
      "model_name": "LayoutModel",
      "state": {
       "_model_module_version": "~2.1.4",
       "_view_module_version": "~2.1.4"
      }
     },
     "4bdda6111b9546a697c36c05475b6a3e": {
      "model_module": "jupyter-js-widgets",
      "model_module_version": "~2.1.4",
      "model_name": "TextModel",
      "state": {
       "_model_module_version": "~2.1.4",
       "_view_module_version": "~2.1.4",
       "description": "Time:",
       "layout": "IPY_MODEL_e558e089bd89408784f5d3d9c965f2aa",
       "value": "0.10 seconds"
      }
     },
     "5527ccfc5f274a7dbc6ce3afe206b84b": {
      "model_module": "jupyter-js-widgets",
      "model_module_version": "~2.1.4",
      "model_name": "CheckboxModel",
      "state": {
       "_model_module_version": "~2.1.4",
       "_view_module_version": "~2.1.4",
       "description": "Update GUI",
       "disabled": false,
       "layout": "IPY_MODEL_752f6bab412348b7b4fbcd2a3a3dd15a",
       "value": true
      }
     },
     "55d26593c20a4c6fa86765e4fa753a11": {
      "model_module": "jupyter-js-widgets",
      "model_module_version": "~2.1.4",
      "model_name": "LayoutModel",
      "state": {
       "_model_module_version": "~2.1.4",
       "_view_module_version": "~2.1.4"
      }
     },
     "5d02f863f83c4124aa1dea90e55f836c": {
      "model_module": "jupyter-js-widgets",
      "model_module_version": "~2.1.4",
      "model_name": "HTMLModel",
      "state": {
       "_model_module_version": "~2.1.4",
       "_view_module_version": "~2.1.4",
       "layout": "IPY_MODEL_08423084241441eb9091dfd3995ec7fe",
       "value": "<svg baseProfile=\"full\" height=\"240\" version=\"1.1\" width=\"240\" xmlns=\"http://www.w3.org/2000/svg\" xmlns:ev=\"http://www.w3.org/2001/xml-events\" xmlns:xlink=\"http://www.w3.org/1999/xlink\"><defs /><rect fill=\"white\" height=\"240\" stroke=\"#000000\" stroke-width=\"1\" width=\"240\" x=\"0\" y=\"0\" /><rect fill=\"#eef3dd\" height=\"240.0\" stroke=\"#bebebe\" stroke-width=\"1\" width=\"240.0\" x=\"0.0\" y=\"0.0\" /><circle cx=\"120.0\" cy=\"195.0\" fill=\"#ffff00\" r=\"15.0\" stroke=\"#ffff00\" stroke-width=\"1\" /><line fill=\"#800080\" stroke=\"#add8e6\" stroke-width=\"1\" x1=\"199.29647346587737\" x2=\"0.0\" y1=\"111.37109959820461\" y2=\"118.34932799999999\" /><line fill=\"#800080\" stroke=\"#add8e6\" stroke-width=\"1\" x1=\"200.64858482032437\" x2=\"0.0\" y1=\"107.12118255369946\" y2=\"21.973026000000004\" /><line fill=\"#800080\" stroke=\"#add8e6\" stroke-width=\"1\" x1=\"202.98412783209295\" x2=\"108.20933355871675\" y1=\"105.23830209010676\" y2=\"0.0\" /><line fill=\"#800080\" stroke=\"#add8e6\" stroke-width=\"1\" x1=\"206.529433775271\" x2=\"174.84110042201567\" y1=\"103.61324646974592\" y2=\"0.0\" /><line fill=\"#800080\" stroke=\"#add8e6\" stroke-width=\"1\" x1=\"212.52575915041191\" x2=\"236.38811675880686\" y1=\"103.4032893421199\" y2=\"0.0\" /><line fill=\"#800080\" stroke=\"#add8e6\" stroke-width=\"1\" x1=\"216.176043657403\" x2=\"240.0\" y1=\"104.77639640932952\" y2=\"74.27725800000002\" /><line fill=\"#800080\" stroke=\"#add8e6\" stroke-width=\"1\" x1=\"218.63756094574717\" x2=\"240.0\" y1=\"106.49131117082139\" y2=\"95.60408999999999\" /><line fill=\"#800080\" stroke=\"#add8e6\" stroke-width=\"1\" x1=\"220.28361227887063\" x2=\"240.0\" y1=\"110.63624965151354\" y2=\"109.94589599999998\" /><line fill=\"#800080\" stroke=\"#add8e6\" stroke-width=\"1\" x1=\"220.70352653412263\" x2=\"240.0\" y1=\"122.62890040179542\" y2=\"121.95324600000001\" /><line fill=\"#800080\" stroke=\"#add8e6\" stroke-width=\"1\" x1=\"219.35141517967563\" x2=\"240.0\" y1=\"126.87881744630057\" y2=\"135.641346\" /><line fill=\"#800080\" stroke=\"#add8e6\" stroke-width=\"1\" x1=\"217.01587216790705\" x2=\"240.0\" y1=\"128.76169790989326\" y2=\"154.283364\" /><line fill=\"#800080\" stroke=\"#add8e6\" stroke-width=\"1\" x1=\"213.470566224729\" x2=\"240.0\" y1=\"130.3867535302541\" y2=\"217.131636\" /><line fill=\"#800080\" stroke=\"#add8e6\" stroke-width=\"1\" x1=\"207.47424084958809\" x2=\"182.22726449088904\" y1=\"130.59671065788012\" y2=\"240.0\" /><line fill=\"#800080\" stroke=\"#add8e6\" stroke-width=\"1\" x1=\"203.823956342597\" x2=\"117.29260723482744\" y1=\"129.2236035906705\" y2=\"240.0\" /><line fill=\"#800080\" stroke=\"#add8e6\" stroke-width=\"1\" x1=\"201.36243905425283\" x2=\"0.0\" y1=\"127.50868882917862\" y2=\"230.131668\" /><line fill=\"#800080\" stroke=\"#add8e6\" stroke-width=\"1\" x1=\"199.71638772112937\" x2=\"0.0\" y1=\"123.36375034848649\" y2=\"130.356678\" /><line fill=\"#800080\" stroke=\"#a020f0\" stroke-width=\"1\" x1=\"210.0\" x2=\"0.0\" y1=\"117.00000000000001\" y2=\"5.366183999999992\" /><line fill=\"#800080\" stroke=\"#a020f0\" stroke-width=\"1\" x1=\"210.0\" x2=\"240.0\" y1=\"117.00000000000001\" y2=\"98.250024\" /><line fill=\"#800080\" stroke=\"#ffa500\" stroke-width=\"1\" x1=\"120.0\" x2=\"199.03402705634483\" y1=\"195.0\" y2=\"103.87569287927845\" /><line fill=\"#800080\" stroke=\"#ffa500\" stroke-width=\"1\" x1=\"120.0\" x2=\"220.02116586933806\" y1=\"195.0\" y2=\"103.14084293258738\" /><polygon fill=\"red\" points=\"204.7305361627287,103.67623360803373 199.19149490206433,108.37293691063414 199.82136628494237,126.36191303605695 205.67534323704578,130.65969779616793 215.2694638372713,130.3237663919663 220.80850509793567,125.62706308936588 220.17863371505763,107.63808696394308 214.32465676295422,103.3403022038321\" stroke=\"red\" stroke-width=\"1\" /><polygon points=\"-3.0,-3.0 0,0 3.0,-3.0 0,3.0\" stroke=\"black\" stroke-width=\"1\" transform=\"translate(210.0,117.00000000000001) rotate(177.9946477170421)\" /><polygon fill=\"black\" points=\"213.30385524640815,108.4791701982271 213.47182094850893,113.27623049833983 206.2762304983398,113.52817905149107 206.108264796239,108.73111875137835\" stroke=\"black\" stroke-width=\"1\" /><circle cx=\"199.03402705634483\" cy=\"103.87569287927845\" fill=\"yellow\" r=\"1.5\" stroke=\"orange\" stroke-width=\"1\" /><circle cx=\"220.02116586933806\" cy=\"103.14084293258738\" fill=\"yellow\" r=\"1.5\" stroke=\"orange\" stroke-width=\"1\" /></svg>"
      }
     },
     "6d1f771c19254382accb04cae6f7b62e": {
      "model_module": "jupyter-js-widgets",
      "model_module_version": "~2.1.4",
      "model_name": "HBoxModel",
      "state": {
       "_model_module_version": "~2.1.4",
       "_view_module_version": "~2.1.4",
       "children": [
        "IPY_MODEL_5527ccfc5f274a7dbc6ce3afe206b84b",
        "IPY_MODEL_4bdda6111b9546a697c36c05475b6a3e"
       ],
       "layout": "IPY_MODEL_b0fe5bc26a9a44bb95dcf2756e7f5088"
      }
     },
     "7001bc75c2104b43a6bd388d787ba44a": {
      "model_module": "jupyter-js-widgets",
      "model_module_version": "~2.1.4",
      "model_name": "VBoxModel",
      "state": {
       "_model_module_version": "~2.1.4",
       "_view_module_version": "~2.1.4",
       "children": [
        "IPY_MODEL_d0cefa9ffa6841c8b59ef0278cc97beb",
        "IPY_MODEL_852d97123f894e63b3ebef0aef4d9a3c",
        "IPY_MODEL_2e5d973073534c3eb26e448b646a8c7d"
       ],
       "layout": "IPY_MODEL_d61e3a6a6d9a409e8f9f65f4541dfd99"
      }
     },
     "752f6bab412348b7b4fbcd2a3a3dd15a": {
      "model_module": "jupyter-js-widgets",
      "model_module_version": "~2.1.4",
      "model_name": "LayoutModel",
      "state": {
       "_model_module_version": "~2.1.4",
       "_view_module_version": "~2.1.4"
      }
     },
     "826d8904866c4e82ba2a9a5221fd2631": {
      "model_module": "jupyter-js-widgets",
      "model_module_version": "~2.1.4",
      "model_name": "LayoutModel",
      "state": {
       "_model_module_version": "~2.1.4",
       "_view_module_version": "~2.1.4"
      }
     },
     "827d29fe3e44461ea1e5e05c88098d68": {
      "model_module": "jupyter-js-widgets",
      "model_module_version": "~2.1.4",
      "model_name": "LayoutModel",
      "state": {
       "_model_module_version": "~2.1.4",
       "_view_module_version": "~2.1.4"
      }
     },
     "852d97123f894e63b3ebef0aef4d9a3c": {
      "model_module": "jupyter-js-widgets",
      "model_module_version": "~2.1.4",
      "model_name": "HBoxModel",
      "state": {
       "_model_module_version": "~2.1.4",
       "_view_module_version": "~2.1.4",
       "children": [
        "IPY_MODEL_dd4d62d9e58842aa9d84a32eb9cb982b",
        "IPY_MODEL_9b7c5fb54cc14aff95c4da6406a0f9ed",
        "IPY_MODEL_d7171539ef4d427cbdcf2195a6ca282d"
       ],
       "layout": "IPY_MODEL_aa94d9d63ae740c3af61b752640a80eb"
      }
     },
     "89534f4f8b8340549bf750fb7dfe0a7a": {
      "model_module": "jupyter-js-widgets",
      "model_module_version": "~2.1.4",
      "model_name": "LayoutModel",
      "state": {
       "_model_module_version": "~2.1.4",
       "_view_module_version": "~2.1.4"
      }
     },
     "9975e40b042c4cd0acf0d02d9b6a3849": {
      "model_module": "jupyter-js-widgets",
      "model_module_version": "~2.1.4",
      "model_name": "HBoxModel",
      "state": {
       "_model_module_version": "~2.1.4",
       "_view_module_version": "~2.1.4",
       "children": [
        "IPY_MODEL_116e160ad9f14e7fb81d6dabde0c37eb",
        "IPY_MODEL_5d02f863f83c4124aa1dea90e55f836c"
       ],
       "layout": "IPY_MODEL_bd23f5a3366547359806ed9502494e70"
      }
     },
     "9af44a5cae7246a89a20a5fbd5a0f130": {
      "model_module": "jupyter-js-widgets",
      "model_module_version": "~2.1.4",
      "model_name": "HBoxModel",
      "state": {
       "_model_module_version": "~2.1.4",
       "_view_module_version": "~2.1.4",
       "children": [
        "IPY_MODEL_c1ceded972004efa89bf5d3ee4943378",
        "IPY_MODEL_d37e45d89f4640d9858bfe2a0f53ad63"
       ],
       "layout": "IPY_MODEL_1adceb8e00834cea8cf5b6dbe7433a09"
      }
     },
     "9b7c5fb54cc14aff95c4da6406a0f9ed": {
      "model_module": "jupyter-js-widgets",
      "model_module_version": "~2.1.4",
      "model_name": "PlayModel",
      "state": {
       "_model_module_version": "~2.1.4",
       "_view_module_version": "~2.1.4",
       "layout": "IPY_MODEL_827d29fe3e44461ea1e5e05c88098d68",
       "max": 1000000
      }
     },
     "9c61c7e69e704f0cbddb4bfa789e9eb2": {
      "model_module": "jupyter-js-widgets",
      "model_module_version": "~2.1.4",
      "model_name": "ButtonStyleModel",
      "state": {
       "_model_module_version": "~2.1.4",
       "_view_module_version": "~2.1.4"
      }
     },
     "a64f5b5a05b545fb8c99ab1de942f334": {
      "model_module": "jupyter-js-widgets",
      "model_module_version": "~2.1.4",
      "model_name": "LayoutModel",
      "state": {
       "_model_module_version": "~2.1.4",
       "_view_module_version": "~2.1.4"
      }
     },
     "aa94d9d63ae740c3af61b752640a80eb": {
      "model_module": "jupyter-js-widgets",
      "model_module_version": "~2.1.4",
      "model_name": "LayoutModel",
      "state": {
       "_model_module_version": "~2.1.4",
       "_view_module_version": "~2.1.4"
      }
     },
     "ad478466503948e3ac134c0d813b347d": {
      "model_module": "jupyter-js-widgets",
      "model_module_version": "~2.1.4",
      "model_name": "FloatSliderModel",
      "state": {
       "_model_module_version": "~2.1.4",
       "_view_module_version": "~2.1.4",
       "layout": "IPY_MODEL_eef4e9caeead4949aec10f216c39e9bd",
       "readout": false,
       "step": 0.1,
       "value": 87.5
      }
     },
     "b0fe5bc26a9a44bb95dcf2756e7f5088": {
      "model_module": "jupyter-js-widgets",
      "model_module_version": "~2.1.4",
      "model_name": "LayoutModel",
      "state": {
       "_model_module_version": "~2.1.4",
       "_view_module_version": "~2.1.4"
      }
     },
     "ba31d73a384e45dcbda53395c2bf5992": {
      "model_module": "jupyter-js-widgets",
      "model_module_version": "~2.1.4",
      "model_name": "LayoutModel",
      "state": {
       "_model_module_version": "~2.1.4",
       "_view_module_version": "~2.1.4"
      }
     },
     "bd23f5a3366547359806ed9502494e70": {
      "model_module": "jupyter-js-widgets",
      "model_module_version": "~2.1.4",
      "model_name": "LayoutModel",
      "state": {
       "_model_module_version": "~2.1.4",
       "_view_module_version": "~2.1.4"
      }
     },
     "c1ceded972004efa89bf5d3ee4943378": {
      "model_module": "jupyter-js-widgets",
      "model_module_version": "~2.1.4",
      "model_name": "VBoxModel",
      "state": {
       "_model_module_version": "~2.1.4",
       "_view_module_version": "~2.1.4",
       "children": [
        "IPY_MODEL_9975e40b042c4cd0acf0d02d9b6a3849",
        "IPY_MODEL_ad478466503948e3ac134c0d813b347d"
       ],
       "layout": "IPY_MODEL_89534f4f8b8340549bf750fb7dfe0a7a"
      }
     },
     "c2195209deb34c269574ca9023bd156f": {
      "model_module": "jupyter-js-widgets",
      "model_module_version": "~2.1.4",
      "model_name": "ButtonStyleModel",
      "state": {
       "_model_module_version": "~2.1.4",
       "_view_module_version": "~2.1.4"
      }
     },
     "c3c7c15d20ec4640a9f5fe85ade3682c": {
      "model_module": "jupyter-js-widgets",
      "model_module_version": "~2.1.4",
      "model_name": "LayoutModel",
      "state": {
       "_model_module_version": "~2.1.4",
       "_view_module_version": "~2.1.4",
       "height": "248px",
       "padding": "0px 0px 0px 0px",
       "width": "10px"
      }
     },
     "d0cefa9ffa6841c8b59ef0278cc97beb": {
      "model_module": "jupyter-js-widgets",
      "model_module_version": "~2.1.4",
      "model_name": "VBoxModel",
      "state": {
       "_model_module_version": "~2.1.4",
       "_view_module_version": "~2.1.4",
       "children": [
        "IPY_MODEL_6d1f771c19254382accb04cae6f7b62e",
        "IPY_MODEL_9af44a5cae7246a89a20a5fbd5a0f130"
       ],
       "layout": "IPY_MODEL_dd4313da261c4547902a7c752f0fc454"
      }
     },
     "d37e45d89f4640d9858bfe2a0f53ad63": {
      "model_module": "jupyter-js-widgets",
      "model_module_version": "~2.1.4",
      "model_name": "VBoxModel",
      "state": {
       "_model_module_version": "~2.1.4",
       "_view_module_version": "~2.1.4",
       "children": [
        "IPY_MODEL_1c00298cd5294f93a5bd80d8eb821703",
        "IPY_MODEL_2e5b657e21fa4e3fb459a974ef89ffea"
       ],
       "layout": "IPY_MODEL_a64f5b5a05b545fb8c99ab1de942f334"
      }
     },
     "d61e3a6a6d9a409e8f9f65f4541dfd99": {
      "model_module": "jupyter-js-widgets",
      "model_module_version": "~2.1.4",
      "model_name": "LayoutModel",
      "state": {
       "_model_module_version": "~2.1.4",
       "_view_module_version": "~2.1.4"
      }
     },
     "d7171539ef4d427cbdcf2195a6ca282d": {
      "model_module": "jupyter-js-widgets",
      "model_module_version": "~2.1.4",
      "model_name": "ButtonModel",
      "state": {
       "_model_module_version": "~2.1.4",
       "_view_module_version": "~2.1.4",
       "description": "Clear",
       "layout": "IPY_MODEL_ba31d73a384e45dcbda53395c2bf5992",
       "style": "IPY_MODEL_c2195209deb34c269574ca9023bd156f"
      }
     },
     "d983b94c07a44bcf96b3b6294d43c01f": {
      "model_module": "jupyter-js-widgets",
      "model_module_version": "~2.1.4",
      "model_name": "LayoutModel",
      "state": {
       "_model_module_version": "~2.1.4",
       "_view_module_version": "~2.1.4"
      }
     },
     "dd4313da261c4547902a7c752f0fc454": {
      "model_module": "jupyter-js-widgets",
      "model_module_version": "~2.1.4",
      "model_name": "LayoutModel",
      "state": {
       "_model_module_version": "~2.1.4",
       "_view_module_version": "~2.1.4"
      }
     },
     "dd4d62d9e58842aa9d84a32eb9cb982b": {
      "model_module": "jupyter-js-widgets",
      "model_module_version": "~2.1.4",
      "model_name": "ButtonModel",
      "state": {
       "_model_module_version": "~2.1.4",
       "_view_module_version": "~2.1.4",
       "icon": "step-forward",
       "layout": "IPY_MODEL_497f35579b594d33b9416aa809c0bbe3",
       "style": "IPY_MODEL_9c61c7e69e704f0cbddb4bfa789e9eb2"
      }
     },
     "e558e089bd89408784f5d3d9c965f2aa": {
      "model_module": "jupyter-js-widgets",
      "model_module_version": "~2.1.4",
      "model_name": "LayoutModel",
      "state": {
       "_model_module_version": "~2.1.4",
       "_view_module_version": "~2.1.4"
      }
     },
     "eef4e9caeead4949aec10f216c39e9bd": {
      "model_module": "jupyter-js-widgets",
      "model_module_version": "~2.1.4",
      "model_name": "LayoutModel",
      "state": {
       "_model_module_version": "~2.1.4",
       "_view_module_version": "~2.1.4",
       "height": "30px",
       "padding": "0px 0px 0px 10px",
       "width": "260px"
      }
     }
    },
    "version_major": 1,
    "version_minor": 0
   }
  }
 },
 "nbformat": 4,
 "nbformat_minor": 2
}
