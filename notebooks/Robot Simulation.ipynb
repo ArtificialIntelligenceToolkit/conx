{
 "cells": [
  {
   "cell_type": "markdown",
   "metadata": {},
   "source": [
    "# Robot Simulation"
   ]
  },
  {
   "cell_type": "code",
   "execution_count": 1,
   "metadata": {},
   "outputs": [],
   "source": [
    "from jyro.simulator import (Robot, Pioneer, Pioneer16Sonars, \n",
    "                            PioneerFrontLightSensors, Camera,\n",
    "                            VSimulator)\n",
    "import random\n",
    "import numpy as np"
   ]
  },
  {
   "cell_type": "code",
   "execution_count": 2,
   "metadata": {},
   "outputs": [],
   "source": [
    "robot = Pioneer(\"Pioneer\", 3.5, 2, 0)"
   ]
  },
  {
   "cell_type": "code",
   "execution_count": 3,
   "metadata": {},
   "outputs": [
    {
     "data": {
      "image/svg+xml": [
       "<svg baseProfile=\"full\" height=\"240\" version=\"1.1\" width=\"240\" xmlns=\"http://www.w3.org/2000/svg\" xmlns:ev=\"http://www.w3.org/2001/xml-events\" xmlns:xlink=\"http://www.w3.org/1999/xlink\"><defs /><line fill=\"#800080\" stroke=\"#d3d3d3\" stroke-width=\"1\" x1=\"78.0\" x2=\"-1842.0\" y1=\"96.0\" y2=\"95.9999999999999\" /><line fill=\"#800080\" stroke=\"#d3d3d3\" stroke-width=\"1\" x1=\"84.0\" x2=\"-1656.110951110368\" y1=\"79.19999999999999\" y2=\"-732.227062542143\" /><line fill=\"#800080\" stroke=\"#d3d3d3\" stroke-width=\"1\" x1=\"93.60000000000001\" x2=\"-1140.5522105981554\" y1=\"72.00000000000001\" y2=\"-1398.805330788438\" /><line fill=\"#800080\" stroke=\"#d3d3d3\" stroke-width=\"1\" x1=\"108.0\" x2=\"-388.9325665968398\" y1=\"66.0\" y2=\"-1788.5775864750112\" /><line fill=\"#800080\" stroke=\"#d3d3d3\" stroke-width=\"1\" x1=\"132.0\" x2=\"628.9325665968398\" y1=\"66.0\" y2=\"-1788.5775864750112\" /><line fill=\"#800080\" stroke=\"#d3d3d3\" stroke-width=\"1\" x1=\"146.4\" x2=\"1380.5522105981554\" y1=\"72.00000000000001\" y2=\"-1398.805330788438\" /><line fill=\"#800080\" stroke=\"#d3d3d3\" stroke-width=\"1\" x1=\"156.0\" x2=\"1896.110951110368\" y1=\"79.19999999999999\" y2=\"-732.227062542143\" /><line fill=\"#800080\" stroke=\"#d3d3d3\" stroke-width=\"1\" x1=\"162.0\" x2=\"2082.0\" y1=\"96.0\" y2=\"95.9999999999999\" /><line fill=\"#800080\" stroke=\"#d3d3d3\" stroke-width=\"1\" x1=\"162.0\" x2=\"2082.0\" y1=\"144.00000000000003\" y2=\"143.9999999999999\" /><line fill=\"#800080\" stroke=\"#d3d3d3\" stroke-width=\"1\" x1=\"156.0\" x2=\"1896.1109511103682\" y1=\"160.8\" y2=\"972.2270625421423\" /><line fill=\"#800080\" stroke=\"#d3d3d3\" stroke-width=\"1\" x1=\"146.4\" x2=\"1380.5522105981554\" y1=\"168.0\" y2=\"1638.805330788438\" /><line fill=\"#800080\" stroke=\"#d3d3d3\" stroke-width=\"1\" x1=\"132.0\" x2=\"628.9325665968399\" y1=\"174.0\" y2=\"2028.5775864750112\" /><line fill=\"#800080\" stroke=\"#d3d3d3\" stroke-width=\"1\" x1=\"107.99999999999999\" x2=\"-388.9325665968404\" y1=\"174.0\" y2=\"2028.5775864750108\" /><line fill=\"#800080\" stroke=\"#d3d3d3\" stroke-width=\"1\" x1=\"93.60000000000001\" x2=\"-1140.5522105981559\" y1=\"168.0\" y2=\"1638.8053307884377\" /><line fill=\"#800080\" stroke=\"#d3d3d3\" stroke-width=\"1\" x1=\"84.0\" x2=\"-1656.1109511103682\" y1=\"160.8\" y2=\"972.2270625421426\" /><line fill=\"#800080\" stroke=\"#d3d3d3\" stroke-width=\"1\" x1=\"78.0\" x2=\"-1842.0\" y1=\"144.0\" y2=\"143.99999999999986\" /><polygon fill=\"red\" points=\"100.8,66.0 78.0,84.0 78.0,156.0 100.8,174.0 139.2,174.0 162.0,156.0 162.0,84.0 139.2,66.0\" stroke=\"red\" stroke-width=\"1\" /><polygon points=\"-12.0,-12.0 0,0 12.0,-12.0 0,12.0\" stroke=\"black\" stroke-width=\"1\" transform=\"translate(120.0,120.0) rotate(180.0)\" /><polygon fill=\"black\" points=\"134.4,86.39999999999999 134.4,105.6 105.6,105.6 105.6,86.39999999999999\" stroke=\"black\" stroke-width=\"1\" /><circle cx=\"78.0\" cy=\"66.0\" fill=\"yellow\" r=\"6.0\" stroke=\"orange\" stroke-width=\"1\" /><circle cx=\"162.0\" cy=\"66.0\" fill=\"yellow\" r=\"6.0\" stroke=\"orange\" stroke-width=\"1\" /></svg>"
      ],
      "text/plain": [
       "<jyro.simulator.robot.Pioneer at 0x7fd55cb7bda0>"
      ]
     },
     "execution_count": 3,
     "metadata": {},
     "output_type": "execute_result"
    }
   ],
   "source": [
    "robot.addDevice(Pioneer16Sonars())\n",
    "robot.addDevice(Camera())\n",
    "light_sensors = PioneerFrontLightSensors(3.0)\n",
    "light_sensors.lightMode = 'ambient'\n",
    "robot.addDevice(light_sensors)"
   ]
  },
  {
   "cell_type": "code",
   "execution_count": 4,
   "metadata": {},
   "outputs": [],
   "source": [
    "def worldf(physics):\n",
    "    physics.addBox(0, 0, 4, 4, fill=\"backgroundgreen\", wallcolor=\"gray\")\n",
    "    physics.addLight(2, 0.75, 1.0) # increased brightness for new linear version of lights"
   ]
  },
  {
   "cell_type": "code",
   "execution_count": 5,
   "metadata": {},
   "outputs": [
    {
     "data": {
      "application/vnd.jupyter.widget-view+json": {
       "model_id": "ffaeb0599b914a85a16c7f065420bbed",
       "version_major": 2,
       "version_minor": 0
      },
      "text/html": [
       "<p>Failed to display Jupyter Widget of type <code>VBox</code>.</p>\n",
       "<p>\n",
       "  If you're reading this message in Jupyter Notebook or JupyterLab, it may mean\n",
       "  that the widgets JavaScript is still loading. If this message persists, it\n",
       "  likely means that the widgets JavaScript library is either not installed or\n",
       "  not enabled. See the <a href=\"https://ipywidgets.readthedocs.io/en/stable/user_install.html\">Jupyter\n",
       "  Widgets Documentation</a> for setup instructions.\n",
       "</p>\n",
       "<p>\n",
       "  If you're reading this message in another notebook frontend (for example, a static\n",
       "  rendering on GitHub or <a href=\"https://nbviewer.jupyter.org/\">NBViewer</a>),\n",
       "  it may mean that your frontend doesn't currently support widgets.\n",
       "</p>\n"
      ],
      "text/plain": [
       "VBox(children=(VBox(children=(HBox(children=(Checkbox(value=True, description='Update GUI'), Checkbox(value=False, description='Trace Path'), Text(value='0.0 seconds', description='Time:'))), HBox(children=(VBox(children=(HBox(children=(FloatSlider(value=0.0, layout=Layout(height='248px', padding='0px 0px 0px 0px', width='10px'), orientation='vertical', readout=False), HTML(value='<svg baseProfile=\"full\" height=\"240\" version=\"1.1\" width=\"240\" xmlns=\"http://www.w3.org/2000/svg\" xmlns:ev=\"http://www.w3.org/2001/xml-events\" xmlns:xlink=\"http://www.w3.org/1999/xlink\"><defs /><rect fill=\"#eef3dd\" height=\"240.0\" stroke=\"#bebebe\" stroke-width=\"1\" width=\"240.0\" x=\"0.0\" y=\"0.0\" /><circle cx=\"120.0\" cy=\"195.0\" fill=\"#ffff00\" r=\"15.0\" stroke=\"#ffff00\" stroke-width=\"1\" /><line fill=\"#800080\" stroke=\"#add8e6\" stroke-width=\"1\" x1=\"199.5\" x2=\"0.0\" y1=\"114.0\" y2=\"114.0\" /><line fill=\"#800080\" stroke=\"#add8e6\" stroke-width=\"1\" x1=\"201.0\" x2=\"0.0\" y1=\"109.80000000000001\" y2=\"16.07215199999999\" /><line fill=\"#800080\" stroke=\"#add8e6\" stroke-width=\"1\" x1=\"203.4\" x2=\"112.77724019461742\" y1=\"107.99999999999999\" y2=\"0.0\" /><line fill=\"#800080\" stroke=\"#add8e6\" stroke-width=\"1\" x1=\"207.0\" x2=\"178.4634099424212\" y1=\"106.5\" y2=\"0.0\" /><line fill=\"#800080\" stroke=\"#add8e6\" stroke-width=\"1\" x1=\"213.0\" x2=\"240.0\" y1=\"106.5\" y2=\"5.734632000000062\" /><line fill=\"#800080\" stroke=\"#add8e6\" stroke-width=\"1\" x1=\"216.6\" x2=\"240.0\" y1=\"107.99999999999999\" y2=\"80.11296600000001\" /><line fill=\"#800080\" stroke=\"#add8e6\" stroke-width=\"1\" x1=\"219.0\" x2=\"240.0\" y1=\"109.80000000000001\" y2=\"100.007538\" /><line fill=\"#800080\" stroke=\"#add8e6\" stroke-width=\"1\" x1=\"220.5\" x2=\"240.0\" y1=\"114.0\" y2=\"114.0\" /><line fill=\"#800080\" stroke=\"#add8e6\" stroke-width=\"1\" x1=\"220.5\" x2=\"240.0\" y1=\"126.0\" y2=\"126.0\" /><line fill=\"#800080\" stroke=\"#add8e6\" stroke-width=\"1\" x1=\"219.0\" x2=\"240.0\" y1=\"130.2\" y2=\"139.992462\" /><line fill=\"#800080\" stroke=\"#add8e6\" stroke-width=\"1\" x1=\"216.6\" x2=\"240.0\" y1=\"132.0\" y2=\"159.88703399999997\" /><line fill=\"#800080\" stroke=\"#add8e6\" stroke-width=\"1\" x1=\"213.0\" x2=\"240.0\" y1=\"133.5\" y2=\"234.26536799999994\" /><line fill=\"#800080\" stroke=\"#add8e6\" stroke-width=\"1\" x1=\"207.0\" x2=\"178.4634099424212\" y1=\"133.5\" y2=\"240.0\" /><line fill=\"#800080\" stroke=\"#add8e6\" stroke-width=\"1\" x1=\"203.4\" x2=\"112.7772401946174\" y1=\"132.0\" y2=\"240.0\" /><line fill=\"#800080\" stroke=\"#add8e6\" stroke-width=\"1\" x1=\"201.0\" x2=\"0.0\" y1=\"130.2\" y2=\"223.927848\" /><line fill=\"#800080\" stroke=\"#add8e6\" stroke-width=\"1\" x1=\"199.5\" x2=\"0.0\" y1=\"126.0\" y2=\"126.0\" /><line fill=\"#800080\" stroke=\"#a020f0\" stroke-width=\"1\" x1=\"210.0\" x2=\"2.1539193796210117\" y1=\"120.0\" y2=\"0.0\" /><line fill=\"#800080\" stroke=\"#a020f0\" stroke-width=\"1\" x1=\"210.0\" x2=\"240.0\" y1=\"120.0\" y2=\"102.67948799999999\" /><line fill=\"#800080\" stroke=\"#ffa500\" stroke-width=\"1\" x1=\"120.0\" x2=\"199.5\" y1=\"195.0\" y2=\"106.5\" /><line fill=\"#800080\" stroke=\"#ffa500\" stroke-width=\"1\" x1=\"120.0\" x2=\"220.5\" y1=\"195.0\" y2=\"106.5\" /><polygon fill=\"red\" points=\"205.2,106.5 199.5,111.0 199.5,129.0 205.2,133.5 214.8,133.5 220.5,129.0 220.5,111.0 214.8,106.5\" stroke=\"red\" stroke-width=\"1\" /><polygon points=\"-3.0,-3.0 0,0 3.0,-3.0 0,3.0\" stroke=\"black\" stroke-width=\"1\" transform=\"translate(210.0,120.0) rotate(180.0)\" /><polygon fill=\"black\" points=\"213.6,111.6 213.6,116.39999999999999 206.4,116.39999999999999 206.4,111.6\" stroke=\"black\" stroke-width=\"1\" /><circle cx=\"199.5\" cy=\"106.5\" fill=\"yellow\" r=\"1.5\" stroke=\"orange\" stroke-width=\"1\" /><circle cx=\"220.5\" cy=\"106.5\" fill=\"yellow\" r=\"1.5\" stroke=\"orange\" stroke-width=\"1\" /></svg>'))), FloatSlider(value=0.0, layout=Layout(height='30px', padding='0px 0px 0px 10px', width='260px'), readout=False))), VBox(children=(Image(value=b'\\x89PNG\\r\\n\\x1a\\n\\x00\\x00\\x00\\rIHDR\\x00\\x00\\x00<\\x00\\x00\\x00(\\x08\\x02\\x00\\x00\\x00-\\xd9\\x0e\\xa8\\x00\\x00\\x00\\xf6IDATx\\x9c\\xed\\xd6\\xaf\\x0b\\xc2@\\x14\\xc0\\xf1\\xf7\\xee\\xdd\\xfev\\xcb\\xa2\\xc5\\x81`\\x11\\x86\\xa0e0\\x8bAA\\x83A\\x8bA\\x8b\\xc1b\\x12\\x8b\\xc94\\xc3\\xa9\\xccMn:\\x8f7\\x0f\\xde\\'\\x8c\\x85\\xfd\\xf8\\xf2\\x06\\xbb\\xc3\\xe1\\xee\\x08\\xbeQM\\x07\\xd4!\\xd1\\\\$\\x9a\\x8bDs\\x91h.^F\\xeb\\xa6\\x03\\xdeS\\xdb%\"\\x02\\x809\\x16N\\x9a\\x8c\\xbe\\xae\\xa7\\x88\\xa8\\x94\\xc2\\x12\\xfb\\x8d\\xdc\\xd1\\xa7Y\\x12\\x04\\x01\\x11)\\xa5\\x88\\xa8\\xdeC\\xaa\\xa3\\x0fi\\\\\\x1eC\\xfe\\xc4\\\\V9\\x1e\\x00\\xc8\\xb2\\xacvh\\xdeK\\xf4&\\x8e\\xcc\\x0c\\x9e\\xcc\\xe7\\xfb\\xfd5n\\xe9E\\x14j\\xad\\xb5\\xd6D\\xe4d\\x0c\\x0c\\xfen\\x8a\\x9f\\x90h.\\x12\\xcdE\\xa2\\xb9\\xe0\\xf9\\xb2\\x07\\x80\\xb0\\xd5\\xa5\\x87\\xf2\\xe2\\xe2vE\\xcc/\\xe3\\x96\\xbd\\x87e\\xc3t\\x8f.\\xe8\\xb4\\x07\\xfeE[\\xf4{\\xa9\\x7f\\xd1N$\\xa3\\xb9\\x7f\\xd1\\x05\\x93\\xf1\\xca\\xbf\\xe8oy\\xf9\\xcb\\x93h.\\x12\\xcdE\\xa2\\xb9H4\\x17/\\xa3o\\xb3~8\\x87\\xea\\xaf#\\xce\\x00\\x00\\x00\\x00IEND\\xaeB`\\x82', width='240'), FloatSlider(value=0.0, layout=Layout(height='20px', padding='0px 0px 0px 0px', width='248px'), readout=False))))))), HBox(children=(Button(icon='step-forward', style=ButtonStyle()), Play(value=0, max=1000000), Button(description='Clear Output', style=ButtonStyle()))), Output()))"
      ]
     },
     "metadata": {},
     "output_type": "display_data"
    }
   ],
   "source": [
    "sim = VSimulator(robot, worldf)"
   ]
  },
  {
   "cell_type": "code",
   "execution_count": 6,
   "metadata": {},
   "outputs": [],
   "source": [
    "camera = robot.device[\"camera\"]"
   ]
  },
  {
   "cell_type": "code",
   "execution_count": 7,
   "metadata": {},
   "outputs": [
    {
     "data": {
      "image/png": "[encoded data removed]",
      "text/plain": [
       "<PIL.Image.Image image mode=RGB size=60x40 at 0x7FD535E026D8>"
      ]
     },
     "execution_count": 7,
     "metadata": {},
     "output_type": "execute_result"
    }
   ],
   "source": [
    "image = camera.getImage()\n",
    "image"
   ]
  },
  {
   "cell_type": "code",
   "execution_count": 8,
   "metadata": {},
   "outputs": [
    {
     "data": {
      "text/plain": [
       "(60, 40)"
      ]
     },
     "execution_count": 8,
     "metadata": {},
     "output_type": "execute_result"
    }
   ],
   "source": [
    "image.size"
   ]
  },
  {
   "cell_type": "code",
   "execution_count": 9,
   "metadata": {},
   "outputs": [
    {
     "data": {
      "text/plain": [
       "(40, 60, 3)"
      ]
     },
     "execution_count": 9,
     "metadata": {},
     "output_type": "execute_result"
    }
   ],
   "source": [
    "data = camera.getData()\n",
    "data.shape"
   ]
  },
  {
   "cell_type": "code",
   "execution_count": 10,
   "metadata": {},
   "outputs": [],
   "source": [
    "robot.move(0.50, 0.35)"
   ]
  },
  {
   "cell_type": "code",
   "execution_count": 11,
   "metadata": {},
   "outputs": [],
   "source": [
    "sim.step()"
   ]
  },
  {
   "cell_type": "code",
   "execution_count": 12,
   "metadata": {},
   "outputs": [],
   "source": [
    "def random_action():\n",
    "    \"\"\"Generate a random action from a limited set of possible settings\"\"\"\n",
    "    possible = [-1.0, -0.5, 0.0, 0.5, 1.0]\n",
    "    return [random.choice(possible), random.choice(possible)]\n",
    "\n",
    "def get_senses(robot):\n",
    "    light = robot[\"light\"].getData()\n",
    "    sonar = [v/3.0 for v in robot[\"sonar\"].getData()]\n",
    "    camera = robot[\"camera\"].getData()\n",
    "    return [light, sonar, camera]"
   ]
  },
  {
   "cell_type": "code",
   "execution_count": 13,
   "metadata": {},
   "outputs": [
    {
     "data": {
      "text/plain": [
       "[2, 16, 40]"
      ]
     },
     "execution_count": 13,
     "metadata": {},
     "output_type": "execute_result"
    }
   ],
   "source": [
    "senses = get_senses(robot)\n",
    "list(map(len, senses))"
   ]
  },
  {
   "cell_type": "code",
   "execution_count": 14,
   "metadata": {},
   "outputs": [],
   "source": [
    "def brain(robot):\n",
    "    senses = get_senses(robot)\n",
    "    net.propagate(senses)\n",
    "    translate, rotate = random_action()\n",
    "    #self.move(translate, rotate)\n",
    "    robot.move(0.50, 0.35)"
   ]
  },
  {
   "cell_type": "code",
   "execution_count": 15,
   "metadata": {},
   "outputs": [],
   "source": [
    "robot.brain = brain"
   ]
  },
  {
   "cell_type": "code",
   "execution_count": 16,
   "metadata": {},
   "outputs": [
    {
     "name": "stderr",
     "output_type": "stream",
     "text": [
      "conx, version 3.2.1\n",
      "Using Theano backend.\n"
     ]
    }
   ],
   "source": [
    "from conx import Network, Layer, FlattenLayer, SGD, ImageLayer, Conv2DLayer\n",
    "import numpy as np"
   ]
  },
  {
   "cell_type": "code",
   "execution_count": 17,
   "metadata": {},
   "outputs": [],
   "source": [
    "net = Network(\"Robot Prediction Network\")\n",
    "net.add(Layer(\"light\", 2))\n",
    "net.add(Layer(\"sonar\", 16))\n",
    "net.add(ImageLayer(\"camera\", (40,60), 3))\n",
    "net.add(FlattenLayer(\"flatten\"))\n",
    "net.add(Conv2DLayer(\"conv\", 16, (3,3)))\n",
    "net.add(Layer(\"hidden\", 50, activation=\"relu\"))\n",
    "net.add(Layer(\"output1\", 2, activation=\"sigmoid\"))\n",
    "net.add(Layer(\"hidden2\", 5, activation=\"sigmoid\"))\n",
    "net.add(Layer(\"hidden3\", 10, activation=\"sigmoid\", dropout=0.25))\n",
    "net.add(Layer(\"hidden4\", 10, activation=\"sigmoid\"))\n",
    "net.add(Layer(\"output2\", 5, activation=\"sigmoid\"))"
   ]
  },
  {
   "cell_type": "code",
   "execution_count": 18,
   "metadata": {},
   "outputs": [],
   "source": [
    "net.connect(\"sonar\", \"hidden2\")\n",
    "net.connect(\"light\", \"hidden\")\n",
    "net.connect(\"camera\", \"conv\")\n",
    "net.connect(\"conv\", \"flatten\")\n",
    "net.connect(\"flatten\", \"hidden2\")\n",
    "net.connect(\"hidden\", \"hidden2\")\n",
    "net.connect(\"hidden2\", \"hidden3\")\n",
    "##net.connect(\"hidden2\", \"output2\")\n",
    "net.connect(\"hidden3\", \"output2\")\n",
    "net.connect(\"hidden3\", \"hidden4\")\n",
    "net.connect(\"hidden4\", \"output1\")"
   ]
  },
  {
   "cell_type": "code",
   "execution_count": 19,
   "metadata": {},
   "outputs": [],
   "source": [
    "net.compile(optimizer=\"adam\", error=\"mse\")\n",
    "net.config[\"hspace\"] = 200"
   ]
  },
  {
   "cell_type": "code",
   "execution_count": 20,
   "metadata": {},
   "outputs": [
    {
     "data": {
      "application/javascript": [
       "\n",
       "require(['base/js/namespace'], function(Jupyter) {\n",
       "    Jupyter.notebook.kernel.comm_manager.register_target('conx_svg_control', function(comm, msg) {\n",
       "        comm.on_msg(function(msg) {\n",
       "            var data = msg[\"content\"][\"data\"];\n",
       "            var images = document.getElementsByClassName(data[\"class\"]);\n",
       "            for (var i = 0; i < images.length; i++) {\n",
       "                images[i].setAttributeNS(null, \"href\", data[\"href\"]);\n",
       "            }\n",
       "        });\n",
       "    });\n",
       "});\n"
      ],
      "text/plain": [
       "<IPython.core.display.Javascript object>"
      ]
     },
     "metadata": {},
     "output_type": "display_data"
    },
    {
     "data": {
      "image/svg+xml": [
       "<svg id='Robot Prediction Network' xmlns='http://www.w3.org/2000/svg' viewBox=\"0 0 1100 664\" height=\"780\" image-rendering=\"pixelated\">\n",
       "    <defs>\n",
       "        <marker id=\"arrow\" markerWidth=\"10\" markerHeight=\"10\" refX=\"9\" refY=\"3\" orient=\"auto\" markerUnits=\"strokeWidth\">\n",
       "          <path d=\"M0,0 L0,6 L9,3 z\" fill=\"black\" />\n",
       "        </marker>\n",
       "    </defs><text x=\"550.0\" y=\"12.5\" font-family=\"monospace\" font-size=\"15\" text-anchor=\"middle\" alignment-baseline=\"central\">Robot Prediction Network</text><rect x=\"315.6666666666667\" y=\"29\" width=\"102\" height=\"52\" style=\"fill:none;stroke:black;stroke-width:2\"/><image id=\"Robot Prediction Network_output1_1\" class=\"Robot Prediction Network_output1\" x=\"316.6666666666667\" y=\"30\" height=\"50\" width=\"100\" preserveAspectRatio=\"none\" href=\"data:image/gif;base64,R0lGODdhAgABAIcAAOfn5/7x6gAAAAAAAAAAAAAAAAAAAAAAAAAAAAAAAAAAAAAAAAAAAAAAAAAAAAAAAAAAAAAAAAAAAAAAAAAAAAAAAAAAAAAAAAAAAAAAAAAAAAAAAAAAAAAAAAAAAAAAAAAAAAAAAAAAAAAAAAAAAAAAAAAAAAAAAAAAAAAAAAAAAAAAAAAAAAAAAAAAAAAAAAAAAAAAAAAAAAAAAAAAAAAAAAAAAAAAAAAAAAAAAAAAAAAAAAAAAAAAAAAAAAAAAAAAAAAAAAAAAAAAAAAAAAAAAAAAAAAAAAAAAAAAAAAAAAAAAAAAAAAAAAAAAAAAAAAAAAAAAAAAAAAAAAAAAAAAAAAAAAAAAAAAAAAAAAAAAAAAAAAAAAAAAAAAAAAAAAAAAAAAAAAAAAAAAAAAAAAAAAAAAAAAAAAAAAAAAAAAAAAAAAAAAAAAAAAAAAAAAAAAAAAAAAAAAAAAAAAAAAAAAAAAAAAAAAAAAAAAAAAAAAAAAAAAAAAAAAAAAAAAAAAAAAAAAAAAAAAAAAAAAAAAAAAAAAAAAAAAAAAAAAAAAAAAAAAAAAAAAAAAAAAAAAAAAAAAAAAAAAAAAAAAAAAAAAAAAAAAAAAAAAAAAAAAAAAAAAAAAAAAAAAAAAAAAAAAAAAAAAAAAAAAAAAAAAAAAAAAAAAAAAAAAAAAAAAAAAAAAAAAAAAAAAAAAAAAAAAAAAAAAAAAAAAAAAAAAAAAAAAAAAAAAAAAAAAAAAAAAAAAAAAAAAAAAAAAAAAAAAAAAAAAAAAAAAAAAAAAAAAAAAAAAAAAAAAAAAAAAAAAAAAAAAAAAAAAAAAAAAAAAAAAAAAAAAAAAAAAAAAAAAAAAAAAAAAAAAAAAAAAAAAAAAAAAAAAAAAAAAAAAAAAAAAAAAAAAAAAAAAAAAAAAAAAAAAAAAAAAAAAAAAAAAAAAAAAAAAAAAAAAAAAAAAAAAAAAAAAAAAAAAAAAAAAAAAAAAAAAAAAAAAAAAAAAAAAAAAAAAAAAAAAAAAAAAAAACwAAAAAAgABAAAIBQADAAgIADs=\"><title>Layer: output1 (output)\n",
       " shape = (2,)\n",
       " Keras class = Dense\n",
       " activation = sigmoid</title></image><text x=\"421.6666666666667\" y=\"57.0\" font-family=\"monospace\" font-size=\"12\" text-anchor=\"start\" alignment-baseline=\"central\">output1</text><rect x=\"632.3333333333334\" y=\"29\" width=\"202\" height=\"42\" style=\"fill:none;stroke:black;stroke-width:2\"/><image id=\"Robot Prediction Network_output2_2\" class=\"Robot Prediction Network_output2\" x=\"633.3333333333334\" y=\"30\" height=\"40\" width=\"200\" preserveAspectRatio=\"none\" href=\"data:image/gif;base64,R0lGODdhBQABAIcAAP759/nFq/3i0e7u7gAAAAAAAAAAAAAAAAAAAAAAAAAAAAAAAAAAAAAAAAAAAAAAAAAAAAAAAAAAAAAAAAAAAAAAAAAAAAAAAAAAAAAAAAAAAAAAAAAAAAAAAAAAAAAAAAAAAAAAAAAAAAAAAAAAAAAAAAAAAAAAAAAAAAAAAAAAAAAAAAAAAAAAAAAAAAAAAAAAAAAAAAAAAAAAAAAAAAAAAAAAAAAAAAAAAAAAAAAAAAAAAAAAAAAAAAAAAAAAAAAAAAAAAAAAAAAAAAAAAAAAAAAAAAAAAAAAAAAAAAAAAAAAAAAAAAAAAAAAAAAAAAAAAAAAAAAAAAAAAAAAAAAAAAAAAAAAAAAAAAAAAAAAAAAAAAAAAAAAAAAAAAAAAAAAAAAAAAAAAAAAAAAAAAAAAAAAAAAAAAAAAAAAAAAAAAAAAAAAAAAAAAAAAAAAAAAAAAAAAAAAAAAAAAAAAAAAAAAAAAAAAAAAAAAAAAAAAAAAAAAAAAAAAAAAAAAAAAAAAAAAAAAAAAAAAAAAAAAAAAAAAAAAAAAAAAAAAAAAAAAAAAAAAAAAAAAAAAAAAAAAAAAAAAAAAAAAAAAAAAAAAAAAAAAAAAAAAAAAAAAAAAAAAAAAAAAAAAAAAAAAAAAAAAAAAAAAAAAAAAAAAAAAAAAAAAAAAAAAAAAAAAAAAAAAAAAAAAAAAAAAAAAAAAAAAAAAAAAAAAAAAAAAAAAAAAAAAAAAAAAAAAAAAAAAAAAAAAAAAAAAAAAAAAAAAAAAAAAAAAAAAAAAAAAAAAAAAAAAAAAAAAAAAAAAAAAAAAAAAAAAAAAAAAAAAAAAAAAAAAAAAAAAAAAAAAAAAAAAAAAAAAAAAAAAAAAAAAAAAAAAAAAAAAAAAAAAAAAAAAAAAAAAAAAAAAAAAAAAAAAAAAAAAAAAAAAAAAAAAAAAAAAAAAAAAAAAAAAAAAAAAAAAAAAAAAAAAAAAAAAAAAAAAAAAAAAAAAAAAAAAAAAAAAAAAAAAAAAAAAAAAAAAACwAAAAABQABAAAICAABDAgAQEBAADs=\"><title>Layer: output2 (output)\n",
       " shape = (5,)\n",
       " Keras class = Dense\n",
       " activation = sigmoid</title></image><text x=\"838.3333333333334\" y=\"52.0\" font-family=\"monospace\" font-size=\"12\" text-anchor=\"start\" alignment-baseline=\"central\">output2</text><line x1=\"366.6666666666667\" y1=\"109\" x2=\"366.6666666666667\" y2=\"82\" stroke=\"black\" stroke-width=\"2\" marker-end=\"url(#arrow)\"><title>Weights from hidden4 to output1\n",
       " output1/kernel has shape (10, 2)\n",
       " output1/bias has shape (2,)</title></line><rect x=\"265.6666666666667\" y=\"109\" width=\"202\" height=\"27\" style=\"fill:none;stroke:black;stroke-width:2\"/><image id=\"Robot Prediction Network_hidden4_3\" class=\"Robot Prediction Network_hidden4\" x=\"266.6666666666667\" y=\"110\" height=\"25\" width=\"200\" preserveAspectRatio=\"none\" href=\"data:image/gif;base64,R0lGODdhCgABAIcAALy8vPnHrvj4+K2trczMzPa0lvzYxAAAAAAAAAAAAAAAAAAAAAAAAAAAAAAAAAAAAAAAAAAAAAAAAAAAAAAAAAAAAAAAAAAAAAAAAAAAAAAAAAAAAAAAAAAAAAAAAAAAAAAAAAAAAAAAAAAAAAAAAAAAAAAAAAAAAAAAAAAAAAAAAAAAAAAAAAAAAAAAAAAAAAAAAAAAAAAAAAAAAAAAAAAAAAAAAAAAAAAAAAAAAAAAAAAAAAAAAAAAAAAAAAAAAAAAAAAAAAAAAAAAAAAAAAAAAAAAAAAAAAAAAAAAAAAAAAAAAAAAAAAAAAAAAAAAAAAAAAAAAAAAAAAAAAAAAAAAAAAAAAAAAAAAAAAAAAAAAAAAAAAAAAAAAAAAAAAAAAAAAAAAAAAAAAAAAAAAAAAAAAAAAAAAAAAAAAAAAAAAAAAAAAAAAAAAAAAAAAAAAAAAAAAAAAAAAAAAAAAAAAAAAAAAAAAAAAAAAAAAAAAAAAAAAAAAAAAAAAAAAAAAAAAAAAAAAAAAAAAAAAAAAAAAAAAAAAAAAAAAAAAAAAAAAAAAAAAAAAAAAAAAAAAAAAAAAAAAAAAAAAAAAAAAAAAAAAAAAAAAAAAAAAAAAAAAAAAAAAAAAAAAAAAAAAAAAAAAAAAAAAAAAAAAAAAAAAAAAAAAAAAAAAAAAAAAAAAAAAAAAAAAAAAAAAAAAAAAAAAAAAAAAAAAAAAAAAAAAAAAAAAAAAAAAAAAAAAAAAAAAAAAAAAAAAAAAAAAAAAAAAAAAAAAAAAAAAAAAAAAAAAAAAAAAAAAAAAAAAAAAAAAAAAAAAAAAAAAAAAAAAAAAAAAAAAAAAAAAAAAAAAAAAAAAAAAAAAAAAAAAAAAAAAAAAAAAAAAAAAAAAAAAAAAAAAAAAAAAAAAAAAAAAAAAAAAAAAAAAAAAAAAAAAAAAAAAAAAAAAAAAAAAAAAAAAAAAAAAAAAAAAAAAAAAAAAAAAAAAAAAAAAAAAAAAAAAAAAAAAAAAAAAAAAAAAAAAAAACwAAAAACgABAAAIDgANBBBQgACAAAAEDAgIADs=\"><title>Layer: hidden4 (hidden)\n",
       " shape = (10,)\n",
       " Keras class = Dense\n",
       " activation = sigmoid</title></image><text x=\"471.6666666666667\" y=\"124.5\" font-family=\"monospace\" font-size=\"12\" text-anchor=\"start\" alignment-baseline=\"central\">hidden4</text><line x1=\"733.3333333333334\" y1=\"110\" x2=\"733.3333333333334\" y2=\"70\" stroke=\"red\" stroke-width=\"2\" marker-end=\"url(#arrow)\"><title>Weights from hidden4 to output1\n",
       " output1/kernel has shape (10, 2)\n",
       " output1/bias has shape (2,)</title></line><line x1=\"550.0\" y1=\"164\" x2=\"733.3333333333334\" y2=\"110\" stroke=\"red\" stroke-width=\"2\"><title>TODO</title></line><line x1=\"550.0\" y1=\"164\" x2=\"366.6666666666667\" y2=\"137\" stroke=\"red\" stroke-width=\"2\" marker-end=\"url(#arrow)\"><title>Weights from hidden3 to hidden4\n",
       " hidden4/kernel has shape (10, 10)\n",
       " hidden4/bias has shape (10,)</title></line><rect x=\"449.0\" y=\"164\" width=\"202\" height=\"27\" style=\"fill:none;stroke:black;stroke-width:2\"/><image id=\"Robot Prediction Network_hidden3_4\" class=\"Robot Prediction Network_hidden3\" x=\"450.0\" y=\"165\" height=\"25\" width=\"200\" preserveAspectRatio=\"none\" href=\"data:image/gif;base64,R0lGODdhCgABAIcAAPry7dPT0/3k1fSqiAAAAAAAAAAAAAAAAAAAAAAAAAAAAAAAAAAAAAAAAAAAAAAAAAAAAAAAAAAAAAAAAAAAAAAAAAAAAAAAAAAAAAAAAAAAAAAAAAAAAAAAAAAAAAAAAAAAAAAAAAAAAAAAAAAAAAAAAAAAAAAAAAAAAAAAAAAAAAAAAAAAAAAAAAAAAAAAAAAAAAAAAAAAAAAAAAAAAAAAAAAAAAAAAAAAAAAAAAAAAAAAAAAAAAAAAAAAAAAAAAAAAAAAAAAAAAAAAAAAAAAAAAAAAAAAAAAAAAAAAAAAAAAAAAAAAAAAAAAAAAAAAAAAAAAAAAAAAAAAAAAAAAAAAAAAAAAAAAAAAAAAAAAAAAAAAAAAAAAAAAAAAAAAAAAAAAAAAAAAAAAAAAAAAAAAAAAAAAAAAAAAAAAAAAAAAAAAAAAAAAAAAAAAAAAAAAAAAAAAAAAAAAAAAAAAAAAAAAAAAAAAAAAAAAAAAAAAAAAAAAAAAAAAAAAAAAAAAAAAAAAAAAAAAAAAAAAAAAAAAAAAAAAAAAAAAAAAAAAAAAAAAAAAAAAAAAAAAAAAAAAAAAAAAAAAAAAAAAAAAAAAAAAAAAAAAAAAAAAAAAAAAAAAAAAAAAAAAAAAAAAAAAAAAAAAAAAAAAAAAAAAAAAAAAAAAAAAAAAAAAAAAAAAAAAAAAAAAAAAAAAAAAAAAAAAAAAAAAAAAAAAAAAAAAAAAAAAAAAAAAAAAAAAAAAAAAAAAAAAAAAAAAAAAAAAAAAAAAAAAAAAAAAAAAAAAAAAAAAAAAAAAAAAAAAAAAAAAAAAAAAAAAAAAAAAAAAAAAAAAAAAAAAAAAAAAAAAAAAAAAAAAAAAAAAAAAAAAAAAAAAAAAAAAAAAAAAAAAAAAAAAAAAAAAAAAAAAAAAAAAAAAAAAAAAAAAAAAAAAAAAAAAAAAAAAAAAAAAAAAAAAAAAAAAAAAAAAAAAAAAAAAAAAAAAAAAAAAAAAAAAAAAAAAAAAAAAAAAAAAAAAAAAAACwAAAAACgABAAAIDgADABgAAIAAAQEAAAgIADs=\"><title>Layer: hidden3 (hidden)\n",
       " shape = (10,)\n",
       " dropout = 0.25\n",
       " Keras class = Dense\n",
       " activation = sigmoid</title></image><text x=\"655.0\" y=\"179.5\" font-family=\"monospace\" font-size=\"12\" text-anchor=\"start\" alignment-baseline=\"central\">hidden3</text><line x1=\"550.0\" y1=\"219\" x2=\"550.0\" y2=\"192\" stroke=\"black\" stroke-width=\"2\" marker-end=\"url(#arrow)\"><title>Weights from hidden2 to hidden3\n",
       " hidden3/kernel has shape (5, 10)\n",
       " hidden3/bias has shape (10,)</title></line><rect x=\"449.0\" y=\"219\" width=\"202\" height=\"42\" style=\"fill:none;stroke:black;stroke-width:2\"/><image id=\"Robot Prediction Network_hidden2_5\" class=\"Robot Prediction Network_hidden2\" x=\"450.0\" y=\"220\" height=\"40\" width=\"200\" preserveAspectRatio=\"none\" href=\"data:image/gif;base64,R0lGODdhBQABAIcAAP7+/QAAAAAAAAAAAAAAAAAAAAAAAAAAAAAAAAAAAAAAAAAAAAAAAAAAAAAAAAAAAAAAAAAAAAAAAAAAAAAAAAAAAAAAAAAAAAAAAAAAAAAAAAAAAAAAAAAAAAAAAAAAAAAAAAAAAAAAAAAAAAAAAAAAAAAAAAAAAAAAAAAAAAAAAAAAAAAAAAAAAAAAAAAAAAAAAAAAAAAAAAAAAAAAAAAAAAAAAAAAAAAAAAAAAAAAAAAAAAAAAAAAAAAAAAAAAAAAAAAAAAAAAAAAAAAAAAAAAAAAAAAAAAAAAAAAAAAAAAAAAAAAAAAAAAAAAAAAAAAAAAAAAAAAAAAAAAAAAAAAAAAAAAAAAAAAAAAAAAAAAAAAAAAAAAAAAAAAAAAAAAAAAAAAAAAAAAAAAAAAAAAAAAAAAAAAAAAAAAAAAAAAAAAAAAAAAAAAAAAAAAAAAAAAAAAAAAAAAAAAAAAAAAAAAAAAAAAAAAAAAAAAAAAAAAAAAAAAAAAAAAAAAAAAAAAAAAAAAAAAAAAAAAAAAAAAAAAAAAAAAAAAAAAAAAAAAAAAAAAAAAAAAAAAAAAAAAAAAAAAAAAAAAAAAAAAAAAAAAAAAAAAAAAAAAAAAAAAAAAAAAAAAAAAAAAAAAAAAAAAAAAAAAAAAAAAAAAAAAAAAAAAAAAAAAAAAAAAAAAAAAAAAAAAAAAAAAAAAAAAAAAAAAAAAAAAAAAAAAAAAAAAAAAAAAAAAAAAAAAAAAAAAAAAAAAAAAAAAAAAAAAAAAAAAAAAAAAAAAAAAAAAAAAAAAAAAAAAAAAAAAAAAAAAAAAAAAAAAAAAAAAAAAAAAAAAAAAAAAAAAAAAAAAAAAAAAAAAAAAAAAAAAAAAAAAAAAAAAAAAAAAAAAAAAAAAAAAAAAAAAAAAAAAAAAAAAAAAAAAAAAAAAAAAAAAAAAAAAAAAAAAAAAAAAAAAAAAAAAAAAAAAAAAAAAAAAAAAAAAAAAAAAAAAAAAAAAAAAAAAAAAAAAAAAAAAAAAAAAAAACwAAAAABQABAAAIBgABCBQYEAA7\"><title>Layer: hidden2 (hidden)\n",
       " shape = (5,)\n",
       " Keras class = Dense\n",
       " activation = sigmoid</title></image><text x=\"655.0\" y=\"242.0\" font-family=\"monospace\" font-size=\"12\" text-anchor=\"start\" alignment-baseline=\"central\">hidden2</text><line x1=\"275.0\" y1=\"290\" x2=\"550.0\" y2=\"260\" stroke=\"black\" stroke-width=\"2\" marker-end=\"url(#arrow)\"><title>Weights from hidden2 to hidden3\n",
       " hidden3/kernel has shape (5, 10)\n",
       " hidden3/bias has shape (10,)</title></line><line x1=\"550.0\" y1=\"290\" x2=\"550.0\" y2=\"260\" stroke=\"black\" stroke-width=\"2\" marker-end=\"url(#arrow)\"><title>Weights from hidden2 to hidden3\n",
       " hidden3/kernel has shape (5, 10)\n",
       " hidden3/bias has shape (10,)</title></line><line x1=\"825.0\" y1=\"289\" x2=\"550.0\" y2=\"262\" stroke=\"black\" stroke-width=\"2\" marker-end=\"url(#arrow)\"><title>Weights from flatten to hidden2\n",
       " hidden2/kernel has shape (35330, 5)\n",
       " hidden2/bias has shape (5,)</title></line><rect x=\"724.0\" y=\"289\" width=\"202\" height=\"27\" style=\"fill:none;stroke:black;stroke-width:2\"/><image id=\"Robot Prediction Network_flatten_6\" class=\"Robot Prediction Network_flatten\" x=\"725.0\" y=\"290\" height=\"25\" width=\"200\" preserveAspectRatio=\"none\" href=\"data:image/gif;base64,R0lGODdhwIkBAIcAAP7+/QAAAAAAAAAAAAAAAAAAAAAAAAAAAAAAAAAAAAAAAAAAAAAAAAAAAAAAAAAAAAAAAAAAAAAAAAAAAAAAAAAAAAAAAAAAAAAAAAAAAAAAAAAAAAAAAAAAAAAAAAAAAAAAAAAAAAAAAAAAAAAAAAAAAAAAAAAAAAAAAAAAAAAAAAAAAAAAAAAAAAAAAAAAAAAAAAAAAAAAAAAAAAAAAAAAAAAAAAAAAAAAAAAAAAAAAAAAAAAAAAAAAAAAAAAAAAAAAAAAAAAAAAAAAAAAAAAAAAAAAAAAAAAAAAAAAAAAAAAAAAAAAAAAAAAAAAAAAAAAAAAAAAAAAAAAAAAAAAAAAAAAAAAAAAAAAAAAAAAAAAAAAAAAAAAAAAAAAAAAAAAAAAAAAAAAAAAAAAAAAAAAAAAAAAAAAAAAAAAAAAAAAAAAAAAAAAAAAAAAAAAAAAAAAAAAAAAAAAAAAAAAAAAAAAAAAAAAAAAAAAAAAAAAAAAAAAAAAAAAAAAAAAAAAAAAAAAAAAAAAAAAAAAAAAAAAAAAAAAAAAAAAAAAAAAAAAAAAAAAAAAAAAAAAAAAAAAAAAAAAAAAAAAAAAAAAAAAAAAAAAAAAAAAAAAAAAAAAAAAAAAAAAAAAAAAAAAAAAAAAAAAAAAAAAAAAAAAAAAAAAAAAAAAAAAAAAAAAAAAAAAAAAAAAAAAAAAAAAAAAAAAAAAAAAAAAAAAAAAAAAAAAAAAAAAAAAAAAAAAAAAAAAAAAAAAAAAAAAAAAAAAAAAAAAAAAAAAAAAAAAAAAAAAAAAAAAAAAAAAAAAAAAAAAAAAAAAAAAAAAAAAAAAAAAAAAAAAAAAAAAAAAAAAAAAAAAAAAAAAAAAAAAAAAAAAAAAAAAAAAAAAAAAAAAAAAAAAAAAAAAAAAAAAAAAAAAAAAAAAAAAAAAAAAAAAAAAAAAAAAAAAAAAAAAAAAAAAAAAAAAAAAAAAAAAAAAAAAAAAAAAAAAAAAAAAAAAAAAAAAAAAAAAAAAAAAAAAAAAAACwAAAAAwIkBAAAI/wABCBxIsKDBgwgTKlzIsKHDhxAjSpxIsaLFixgzatzIsaPHjyBDihxJsqTJkyhTqlzJsqXLlzBjypxJs6bNmzhz6tzJs6fPn0CDCh1KtKjRo0iTKl3KtKnTp1CjSp1KtarVq1izat3KtavXr2DDih1LtqzZs2jTql3Ltq3bt3Djyp1Lt67du3jz6t3Lt6/fv4ADCx5MuLDhw4gTK17MuLHjx5AjS55MubLly5gza97MubPnz6BDix5NurTp06hTq17NurXr17Bjy55Nu7bt27hz697Nu7fv38CDCx9OvLjx48iTK1/OvLnz59CjS59Ovbr169iza9/Ovbv37+DDi3gfT768+fPo06tfz769+/fw48ufT7++/fv48+vfz7+/f4AABA4kWNDgQYQJFS5k2NDhQ4gRJU6kWNHiRYwZNW7k2NHjR5AhRY4kWdLkSZQpVa5k2dLlS5gxZc6kWdPmTZw5de7k2dPnT6BBhQ4lWtToUaRJlS7tGBAAOw==\"><title>Layer: flatten (hidden)\n",
       " Keras class = Flatten</title></image><text x=\"930.0\" y=\"304.5\" font-family=\"monospace\" font-size=\"12\" text-anchor=\"start\" alignment-baseline=\"central\">flatten</text><line x1=\"275.0\" y1=\"344\" x2=\"275.0\" y2=\"290\" stroke=\"black\" stroke-width=\"2\"><title>TODO</title></line><rect x=\"174.0\" y=\"344\" width=\"202\" height=\"27\" style=\"fill:none;stroke:black;stroke-width:2\"/><image id=\"Robot Prediction Network_hidden_7\" class=\"Robot Prediction Network_hidden\" x=\"175.0\" y=\"345\" height=\"25\" width=\"200\" preserveAspectRatio=\"none\" href=\"data:image/gif;base64,R0lGODdhMgABAIcAAP7+/QAAAAAAAAAAAAAAAAAAAAAAAAAAAAAAAAAAAAAAAAAAAAAAAAAAAAAAAAAAAAAAAAAAAAAAAAAAAAAAAAAAAAAAAAAAAAAAAAAAAAAAAAAAAAAAAAAAAAAAAAAAAAAAAAAAAAAAAAAAAAAAAAAAAAAAAAAAAAAAAAAAAAAAAAAAAAAAAAAAAAAAAAAAAAAAAAAAAAAAAAAAAAAAAAAAAAAAAAAAAAAAAAAAAAAAAAAAAAAAAAAAAAAAAAAAAAAAAAAAAAAAAAAAAAAAAAAAAAAAAAAAAAAAAAAAAAAAAAAAAAAAAAAAAAAAAAAAAAAAAAAAAAAAAAAAAAAAAAAAAAAAAAAAAAAAAAAAAAAAAAAAAAAAAAAAAAAAAAAAAAAAAAAAAAAAAAAAAAAAAAAAAAAAAAAAAAAAAAAAAAAAAAAAAAAAAAAAAAAAAAAAAAAAAAAAAAAAAAAAAAAAAAAAAAAAAAAAAAAAAAAAAAAAAAAAAAAAAAAAAAAAAAAAAAAAAAAAAAAAAAAAAAAAAAAAAAAAAAAAAAAAAAAAAAAAAAAAAAAAAAAAAAAAAAAAAAAAAAAAAAAAAAAAAAAAAAAAAAAAAAAAAAAAAAAAAAAAAAAAAAAAAAAAAAAAAAAAAAAAAAAAAAAAAAAAAAAAAAAAAAAAAAAAAAAAAAAAAAAAAAAAAAAAAAAAAAAAAAAAAAAAAAAAAAAAAAAAAAAAAAAAAAAAAAAAAAAAAAAAAAAAAAAAAAAAAAAAAAAAAAAAAAAAAAAAAAAAAAAAAAAAAAAAAAAAAAAAAAAAAAAAAAAAAAAAAAAAAAAAAAAAAAAAAAAAAAAAAAAAAAAAAAAAAAAAAAAAAAAAAAAAAAAAAAAAAAAAAAAAAAAAAAAAAAAAAAAAAAAAAAAAAAAAAAAAAAAAAAAAAAAAAAAAAAAAAAAAAAAAAAAAAAAAAAAAAAAAAAAAAAAAAAAAAAAAAAAAAAAAAAAAAAAAAAAAAAAAAAAAAAAAAAAAAAAAAAAAAAAAACwAAAAAMgABAAAIDgABCBxIsKDBgwgTFgwIADs=\"><title>Layer: hidden (hidden)\n",
       " shape = (50,)\n",
       " Keras class = Dense\n",
       " activation = relu</title></image><text x=\"380.0\" y=\"359.5\" font-family=\"monospace\" font-size=\"12\" text-anchor=\"start\" alignment-baseline=\"central\">hidden</text><line x1=\"550.0\" y1=\"345\" x2=\"550.0\" y2=\"290\" stroke=\"black\" stroke-width=\"2\"><title>TODO</title></line><line x1=\"825.0\" y1=\"344\" x2=\"825.0\" y2=\"317\" stroke=\"black\" stroke-width=\"2\" marker-end=\"url(#arrow)\"><title>Weights from conv to flatten</title></line><rect x=\"724.0\" y=\"344\" width=\"202\" height=\"133\" style=\"fill:none;stroke:black;stroke-width:2\"/><image id=\"Robot Prediction Network_conv_8\" class=\"Robot Prediction Network_conv\" x=\"725.0\" y=\"345\" height=\"131\" width=\"200\" preserveAspectRatio=\"none\" href=\"data:image/gif;base64,R0lGODdhOgAmAIcAAP7+/QAAAAAAAAAAAAAAAAAAAAAAAAAAAAAAAAAAAAAAAAAAAAAAAAAAAAAAAAAAAAAAAAAAAAAAAAAAAAAAAAAAAAAAAAAAAAAAAAAAAAAAAAAAAAAAAAAAAAAAAAAAAAAAAAAAAAAAAAAAAAAAAAAAAAAAAAAAAAAAAAAAAAAAAAAAAAAAAAAAAAAAAAAAAAAAAAAAAAAAAAAAAAAAAAAAAAAAAAAAAAAAAAAAAAAAAAAAAAAAAAAAAAAAAAAAAAAAAAAAAAAAAAAAAAAAAAAAAAAAAAAAAAAAAAAAAAAAAAAAAAAAAAAAAAAAAAAAAAAAAAAAAAAAAAAAAAAAAAAAAAAAAAAAAAAAAAAAAAAAAAAAAAAAAAAAAAAAAAAAAAAAAAAAAAAAAAAAAAAAAAAAAAAAAAAAAAAAAAAAAAAAAAAAAAAAAAAAAAAAAAAAAAAAAAAAAAAAAAAAAAAAAAAAAAAAAAAAAAAAAAAAAAAAAAAAAAAAAAAAAAAAAAAAAAAAAAAAAAAAAAAAAAAAAAAAAAAAAAAAAAAAAAAAAAAAAAAAAAAAAAAAAAAAAAAAAAAAAAAAAAAAAAAAAAAAAAAAAAAAAAAAAAAAAAAAAAAAAAAAAAAAAAAAAAAAAAAAAAAAAAAAAAAAAAAAAAAAAAAAAAAAAAAAAAAAAAAAAAAAAAAAAAAAAAAAAAAAAAAAAAAAAAAAAAAAAAAAAAAAAAAAAAAAAAAAAAAAAAAAAAAAAAAAAAAAAAAAAAAAAAAAAAAAAAAAAAAAAAAAAAAAAAAAAAAAAAAAAAAAAAAAAAAAAAAAAAAAAAAAAAAAAAAAAAAAAAAAAAAAAAAAAAAAAAAAAAAAAAAAAAAAAAAAAAAAAAAAAAAAAAAAAAAAAAAAAAAAAAAAAAAAAAAAAAAAAAAAAAAAAAAAAAAAAAAAAAAAAAAAAAAAAAAAAAAAAAAAAAAAAAAAAAAAAAAAAAAAAAAAAAAAAAAAAAAAAAAAAAAAAAAAAAAAAAAAAAAAAAAAACwAAAAAOgAmAEAITQABCBxIsKDBgwgTKlzIsKHDhxAjSpxIsaLFixgzatzIsaPHjyBDihxJsqTJkyhTqlzJsqXLlzBjypxJs6bNmzhz6tzJs6fPn0CD7gwIADs=\"><title>Layer: conv (hidden)\n",
       " Keras class = Conv2D</title></image><text x=\"930.0\" y=\"412.5\" font-family=\"monospace\" font-size=\"12\" text-anchor=\"start\" alignment-baseline=\"central\">conv</text><text x=\"930.0\" y=\"350\" font-family=\"monospace\" font-size=\"12\" text-anchor=\"start\" alignment-baseline=\"central\">16</text><text x=\"713.0\" y=\"471\" font-family=\"monospace\" font-size=\"12\" text-anchor=\"start\" alignment-baseline=\"central\">0</text><line x1=\"275.0\" y1=\"505\" x2=\"275.0\" y2=\"372\" stroke=\"black\" stroke-width=\"2\" marker-end=\"url(#arrow)\"><title>Weights from light to hidden\n",
       " hidden/kernel has shape (2, 50)\n",
       " hidden/bias has shape (50,)</title></line><rect x=\"224.0\" y=\"505\" width=\"102\" height=\"52\" style=\"fill:none;stroke:black;stroke-width:2\"/><image id=\"Robot Prediction Network_light_9\" class=\"Robot Prediction Network_light\" x=\"225.0\" y=\"506\" height=\"50\" width=\"100\" preserveAspectRatio=\"none\" href=\"data:image/gif;base64,R0lGODdhAgABAIcAAP7+/QAAAAAAAAAAAAAAAAAAAAAAAAAAAAAAAAAAAAAAAAAAAAAAAAAAAAAAAAAAAAAAAAAAAAAAAAAAAAAAAAAAAAAAAAAAAAAAAAAAAAAAAAAAAAAAAAAAAAAAAAAAAAAAAAAAAAAAAAAAAAAAAAAAAAAAAAAAAAAAAAAAAAAAAAAAAAAAAAAAAAAAAAAAAAAAAAAAAAAAAAAAAAAAAAAAAAAAAAAAAAAAAAAAAAAAAAAAAAAAAAAAAAAAAAAAAAAAAAAAAAAAAAAAAAAAAAAAAAAAAAAAAAAAAAAAAAAAAAAAAAAAAAAAAAAAAAAAAAAAAAAAAAAAAAAAAAAAAAAAAAAAAAAAAAAAAAAAAAAAAAAAAAAAAAAAAAAAAAAAAAAAAAAAAAAAAAAAAAAAAAAAAAAAAAAAAAAAAAAAAAAAAAAAAAAAAAAAAAAAAAAAAAAAAAAAAAAAAAAAAAAAAAAAAAAAAAAAAAAAAAAAAAAAAAAAAAAAAAAAAAAAAAAAAAAAAAAAAAAAAAAAAAAAAAAAAAAAAAAAAAAAAAAAAAAAAAAAAAAAAAAAAAAAAAAAAAAAAAAAAAAAAAAAAAAAAAAAAAAAAAAAAAAAAAAAAAAAAAAAAAAAAAAAAAAAAAAAAAAAAAAAAAAAAAAAAAAAAAAAAAAAAAAAAAAAAAAAAAAAAAAAAAAAAAAAAAAAAAAAAAAAAAAAAAAAAAAAAAAAAAAAAAAAAAAAAAAAAAAAAAAAAAAAAAAAAAAAAAAAAAAAAAAAAAAAAAAAAAAAAAAAAAAAAAAAAAAAAAAAAAAAAAAAAAAAAAAAAAAAAAAAAAAAAAAAAAAAAAAAAAAAAAAAAAAAAAAAAAAAAAAAAAAAAAAAAAAAAAAAAAAAAAAAAAAAAAAAAAAAAAAAAAAAAAAAAAAAAAAAAAAAAAAAAAAAAAAAAAAAAAAAAAAAAAAAAAAAAAAAAAAAAAAAAAAAAAAAAAAAAAAAAAAAAAAAAAAAAAAAAAAAAAAAAAAAAAAAAAAAACwAAAAAAgABAAAIBQABAAgIADs=\"><title>Layer: light (input)\n",
       " shape = (2,)\n",
       " Keras class = Input</title></image><text x=\"330.0\" y=\"533.0\" font-family=\"monospace\" font-size=\"12\" text-anchor=\"start\" alignment-baseline=\"central\">light</text><line x1=\"550.0\" y1=\"505\" x2=\"550.0\" y2=\"345\" stroke=\"black\" stroke-width=\"2\"><title>TODO</title></line><rect x=\"449.0\" y=\"505\" width=\"202\" height=\"27\" style=\"fill:none;stroke:black;stroke-width:2\"/><image id=\"Robot Prediction Network_sonar_10\" class=\"Robot Prediction Network_sonar\" x=\"450.0\" y=\"506\" height=\"25\" width=\"200\" preserveAspectRatio=\"none\" href=\"data:image/gif;base64,R0lGODdhEAABAIcAAP7+/QAAAAAAAAAAAAAAAAAAAAAAAAAAAAAAAAAAAAAAAAAAAAAAAAAAAAAAAAAAAAAAAAAAAAAAAAAAAAAAAAAAAAAAAAAAAAAAAAAAAAAAAAAAAAAAAAAAAAAAAAAAAAAAAAAAAAAAAAAAAAAAAAAAAAAAAAAAAAAAAAAAAAAAAAAAAAAAAAAAAAAAAAAAAAAAAAAAAAAAAAAAAAAAAAAAAAAAAAAAAAAAAAAAAAAAAAAAAAAAAAAAAAAAAAAAAAAAAAAAAAAAAAAAAAAAAAAAAAAAAAAAAAAAAAAAAAAAAAAAAAAAAAAAAAAAAAAAAAAAAAAAAAAAAAAAAAAAAAAAAAAAAAAAAAAAAAAAAAAAAAAAAAAAAAAAAAAAAAAAAAAAAAAAAAAAAAAAAAAAAAAAAAAAAAAAAAAAAAAAAAAAAAAAAAAAAAAAAAAAAAAAAAAAAAAAAAAAAAAAAAAAAAAAAAAAAAAAAAAAAAAAAAAAAAAAAAAAAAAAAAAAAAAAAAAAAAAAAAAAAAAAAAAAAAAAAAAAAAAAAAAAAAAAAAAAAAAAAAAAAAAAAAAAAAAAAAAAAAAAAAAAAAAAAAAAAAAAAAAAAAAAAAAAAAAAAAAAAAAAAAAAAAAAAAAAAAAAAAAAAAAAAAAAAAAAAAAAAAAAAAAAAAAAAAAAAAAAAAAAAAAAAAAAAAAAAAAAAAAAAAAAAAAAAAAAAAAAAAAAAAAAAAAAAAAAAAAAAAAAAAAAAAAAAAAAAAAAAAAAAAAAAAAAAAAAAAAAAAAAAAAAAAAAAAAAAAAAAAAAAAAAAAAAAAAAAAAAAAAAAAAAAAAAAAAAAAAAAAAAAAAAAAAAAAAAAAAAAAAAAAAAAAAAAAAAAAAAAAAAAAAAAAAAAAAAAAAAAAAAAAAAAAAAAAAAAAAAAAAAAAAAAAAAAAAAAAAAAAAAAAAAAAAAAAAAAAAAAAAAAAAAAAAAAAAAAAAAAAAAAAAAAAAAAAAAAAAAAAAAAAAAAAAAAAAAAAAAAAAAACwAAAAAEAABAAAICQABCBxIsCCAgAA7\"><title>Layer: sonar (input)\n",
       " shape = (16,)\n",
       " Keras class = Input</title></image><text x=\"655.0\" y=\"520.5\" font-family=\"monospace\" font-size=\"12\" text-anchor=\"start\" alignment-baseline=\"central\">sonar</text><line x1=\"825.0\" y1=\"505\" x2=\"825.0\" y2=\"478\" stroke=\"black\" stroke-width=\"2\" marker-end=\"url(#arrow)\"><title>Weights from camera to conv\n",
       " conv/kernel has shape (3, 3, 3, 16)\n",
       " conv/bias has shape (16,)</title></line><rect x=\"724.0\" y=\"505\" width=\"202\" height=\"135\" style=\"fill:none;stroke:black;stroke-width:2\"/><image id=\"Robot Prediction Network_camera_11\" class=\"Robot Prediction Network_camera\" x=\"725.0\" y=\"506\" height=\"133\" width=\"200\" preserveAspectRatio=\"none\" href=\"data:image/gif;base64,R0lGODdhPAAoAIcAAAAAAAAAAAAAAAAAAAAAAAAAAAAAAAAAAAAAAAAAAAAAAAAAAAAAAAAAAAAAAAAAAAAAAAAAAAAAAAAAAAAAAAAAAAAAAAAAAAAAAAAAAAAAAAAAAAAAAAAAAAAAAAAAAAAAAAAAAAAAAAAAAAAAAAAAAAAAAAAAAAAAAAAAAAAAAAAAAAAAAAAAAAAAAAAAAAAAAAAAAAAAAAAAAAAAAAAAAAAAAAAAAAAAAAAAAAAAAAAAAAAAAAAAAAAAAAAAAAAAAAAAAAAAAAAAAAAAAAAAAAAAAAAAAAAAAAAAAAAAAAAAAAAAAAAAAAAAAAAAAAAAAAAAAAAAAAAAAAAAAAAAAAAAAAAAAAAAAAAAAAAAAAAAAAAAAAAAAAAAAAAAAAAAAAAAAAAAAAAAAAAAAAAAAAAAAAAAAAAAAAAAAAAAAAAAAAAAAAAAAAAAAAAAAAAAAAAAAAAAAAAAAAAAAAAAAAAAAAAAAAAAAAAAAAAAAAAAAAAAAAAAAAAAAAAAAAAAAAAAAAAAAAAAAAAAAAAAAAAAAAAAAAAAAAAAAAAAAAAAAAAAAAAAAAAAAAAAAAAAAAAAAAAAAAAAAAAAAAAAAAAAAAAAAAAAAAAAAAAAAAAAAAAAAAAAAAAAAAAAAAAAAAAAAAAAAAAAAAAAAAAAAAAAAAAAAAAAAAAAAAAAAAAAAAAAAAAAAAAAAAAAAAAAAAAAAAAAAAAAAAAAAAAAAAAAAAAAAAAAAAAAAAAAAAAAAAAAAAAAAAAAAAAAAAAAAAAAAAAAAAAAAAAAAAAAAAAAAAAAAAAAAAAAAAAAAAAAAAAAAAAAAAAAAAAAAAAAAAAAAAAAAAAAAAAAAAAAAAAAAAAAAAAAAAAAAAAAAAAAAAAAAAAAAAAAAAAAAAAAAAAAAAAAAAAAAAAAAAAAAAAAAAAAAAAAAAAAAAAAAAAAAAAAAAAAAAAAAAAAAAAAAAAAAAAAAAAAAAAAAAAAAAAAAAAAAAAAAAAAAAAAAAAAAAAAAAAAAAAAAAAAACwAAAAAPAAoAEAIUAABCBxIsKDBgwgTKlzIsKHDhxAjSpxIsaLFixgzatzIsaPHjyBDihxJsqTJkyhTqlzJsqXLlzBjypxJs6bNmzhz6tzJs6fPn0CDCh1K1GZAADs=\"><title>Layer: camera (input)\n",
       " shape = (40, 60, 3)\n",
       " Keras class = Input</title></image><text x=\"930.0\" y=\"574.5\" font-family=\"monospace\" font-size=\"12\" text-anchor=\"start\" alignment-baseline=\"central\">camera</text></svg>"
      ],
      "text/plain": [
       "<Network name='Robot Prediction Network' (compiled)>"
      ]
     },
     "execution_count": 20,
     "metadata": {},
     "output_type": "execute_result"
    }
   ],
   "source": [
    "net"
   ]
  },
  {
   "cell_type": "code",
   "execution_count": 21,
   "metadata": {},
   "outputs": [],
   "source": [
    "matrix = net.propagate_to(\"conv\", get_senses(robot))"
   ]
  },
  {
   "cell_type": "code",
   "execution_count": 22,
   "metadata": {},
   "outputs": [],
   "source": [
    "net[\"conv\"].feature = 6"
   ]
  },
  {
   "cell_type": "code",
   "execution_count": 23,
   "metadata": {},
   "outputs": [
    {
     "data": {
      "text/html": [
       "<table><tr><td><img src=\"data:image/gif;base64,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\"/><br/><center>Feature 0</center></td><td><img src=\"data:image/gif;base64,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\"/><br/><center>Feature 1</center></td><td><img src=\"data:image/gif;base64,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\"/><br/><center>Feature 2</center></td><td><img src=\"data:image/gif;base64,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\"/><br/><center>Feature 3</center></td><td><img src=\"data:image/gif;base64,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\"/><br/><center>Feature 4</center></td></tr><tr><td><img src=\"data:image/gif;base64,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\"/><br/><center>Feature 5</center></td><td><img src=\"data:image/gif;base64,R0lGODdhrgByAIcAAPv7+v7t5AAAAAAAAAAAAAAAAAAAAAAAAAAAAAAAAAAAAAAAAAAAAAAAAAAAAAAAAAAAAAAAAAAAAAAAAAAAAAAAAAAAAAAAAAAAAAAAAAAAAAAAAAAAAAAAAAAAAAAAAAAAAAAAAAAAAAAAAAAAAAAAAAAAAAAAAAAAAAAAAAAAAAAAAAAAAAAAAAAAAAAAAAAAAAAAAAAAAAAAAAAAAAAAAAAAAAAAAAAAAAAAAAAAAAAAAAAAAAAAAAAAAAAAAAAAAAAAAAAAAAAAAAAAAAAAAAAAAAAAAAAAAAAAAAAAAAAAAAAAAAAAAAAAAAAAAAAAAAAAAAAAAAAAAAAAAAAAAAAAAAAAAAAAAAAAAAAAAAAAAAAAAAAAAAAAAAAAAAAAAAAAAAAAAAAAAAAAAAAAAAAAAAAAAAAAAAAAAAAAAAAAAAAAAAAAAAAAAAAAAAAAAAAAAAAAAAAAAAAAAAAAAAAAAAAAAAAAAAAAAAAAAAAAAAAAAAAAAAAAAAAAAAAAAAAAAAAAAAAAAAAAAAAAAAAAAAAAAAAAAAAAAAAAAAAAAAAAAAAAAAAAAAAAAAAAAAAAAAAAAAAAAAAAAAAAAAAAAAAAAAAAAAAAAAAAAAAAAAAAAAAAAAAAAAAAAAAAAAAAAAAAAAAAAAAAAAAAAAAAAAAAAAAAAAAAAAAAAAAAAAAAAAAAAAAAAAAAAAAAAAAAAAAAAAAAAAAAAAAAAAAAAAAAAAAAAAAAAAAAAAAAAAAAAAAAAAAAAAAAAAAAAAAAAAAAAAAAAAAAAAAAAAAAAAAAAAAAAAAAAAAAAAAAAAAAAAAAAAAAAAAAAAAAAAAAAAAAAAAAAAAAAAAAAAAAAAAAAAAAAAAAAAAAAAAAAAAAAAAAAAAAAAAAAAAAAAAAAAAAAAAAAAAAAAAAAAAAAAAAAAAAAAAAAAAAAAAAAAAAAAAAAAAAAAAAAAAAAAAAAAAAAAAAAAAAAAAAAAAAAAAAAAAAAAAAAAAAAAAAAAAAAAAAAAAAAAAAACwAAAAArgByAEAI/wABCBxIsKDBgwgTKlzIsKHDhxAjSpxIsaLFixgzatzIsaPHjyBDihxJsqTJkyhTqlzJsqXLlzBjypxJs6bNmzhz6tzJs6fPn0CDCh1KtKjRo0iTKl3KtKnTp1CjSp1KtarVq1itBtjKFYDXr2DDih1LtqzZs2jTql3Ltq3bt3Djyp1Lt67du3jz6t3Lt6/fv4ADCx5MuLDhw4gTK17MuLHjx5AjS55MubLly5gza97MubPnz6BDix5NurTp06hTq17NurXr17Bjy24doLZtALhz697Nu7fv38CDCx9OvLjx48iTK1/OvLnz59CjS59Ovbr169iza9/Ovbv37+DDi/8fT768+fPo06tfz769+/fw48ufT7++/fv48+vfz7+/f4AABA4kWNDgQYQJFS5k2NDhQ4gRJU6kWNHiRYwZNW7k2NHjR5AhRY4kWdLkSZQpVa5k2dLlS5gxZc6kWdPmTZw5de7k2dPnT6BBhQ4lWtToUaRJlS5l2tTpU6hRpU6lWtXqVaxZtW7l2tXrV7BhxY4lW7ZlALRpAaxl29btW7hx5c6lW9fuXbx59e7l29fvX8CBBQ8mXNjwYcSJFS9m3NjxY8iRJU+mXNnyZcyZNW/m3NnzZ9ChRY8mXdr0adSpVa9m3dr1a9ixZc+mXdv2bdy5de/m3dv3b+DBhQ+nHRAAOw==\"/><br/><center>Feature 6</center></td><td><img src=\"data:image/gif;base64,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\"/><br/><center>Feature 7</center></td><td><img src=\"data:image/gif;base64,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\"/><br/><center>Feature 8</center></td><td><img src=\"data:image/gif;base64,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\"/><br/><center>Feature 9</center></td></tr><tr><td><img src=\"data:image/gif;base64,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\"/><br/><center>Feature 10</center></td><td><img src=\"data:image/gif;base64,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\"/><br/><center>Feature 11</center></td><td><img src=\"data:image/gif;base64,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\"/><br/><center>Feature 12</center></td><td><img src=\"data:image/gif;base64,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\"/><br/><center>Feature 13</center></td><td><img src=\"data:image/gif;base64,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\"/><br/><center>Feature 14</center></td></tr><tr><td><img src=\"data:image/gif;base64,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\"/><br/><center>Feature 15</center></td></tr></table>"
      ],
      "text/plain": [
       "<IPython.core.display.HTML object>"
      ]
     },
     "execution_count": 23,
     "metadata": {},
     "output_type": "execute_result"
    }
   ],
   "source": [
    "net.propagate_to_features(\"conv\", get_senses(robot), scale=3)"
   ]
  },
  {
   "cell_type": "code",
   "execution_count": 24,
   "metadata": {},
   "outputs": [
    {
     "data": {
      "application/javascript": [
       "\n",
       "require(['base/js/namespace'], function(Jupyter) {\n",
       "    Jupyter.notebook.kernel.comm_manager.register_target('conx_svg_control', function(comm, msg) {\n",
       "        comm.on_msg(function(msg) {\n",
       "            var data = msg[\"content\"][\"data\"];\n",
       "            var images = document.getElementsByClassName(data[\"class\"]);\n",
       "            for (var i = 0; i < images.length; i++) {\n",
       "                images[i].setAttributeNS(null, \"href\", data[\"href\"]);\n",
       "            }\n",
       "        });\n",
       "    });\n",
       "});\n"
      ],
      "text/plain": [
       "<IPython.core.display.Javascript object>"
      ]
     },
     "metadata": {},
     "output_type": "display_data"
    },
    {
     "data": {
      "application/vnd.jupyter.widget-view+json": {
       "model_id": "cea490eb6f304e3caabcc6b2fa586b14",
       "version_major": 2,
       "version_minor": 0
      },
      "text/html": [
       "<p>Failed to display Jupyter Widget of type <code>Tab</code>.</p>\n",
       "<p>\n",
       "  If you're reading this message in Jupyter Notebook or JupyterLab, it may mean\n",
       "  that the widgets JavaScript is still loading. If this message persists, it\n",
       "  likely means that the widgets JavaScript library is either not installed or\n",
       "  not enabled. See the <a href=\"https://ipywidgets.readthedocs.io/en/stable/user_install.html\">Jupyter\n",
       "  Widgets Documentation</a> for setup instructions.\n",
       "</p>\n",
       "<p>\n",
       "  If you're reading this message in another notebook frontend (for example, a static\n",
       "  rendering on GitHub or <a href=\"https://nbviewer.jupyter.org/\">NBViewer</a>),\n",
       "  it may mean that your frontend doesn't currently support widgets.\n",
       "</p>\n"
      ],
      "text/plain": [
       "Tab(children=(VBox(children=(HTML(value='<p style=\"text-align:center\"><svg id=\\'Robot Prediction Network\\' xmlns=\\'http://www.w3.org/2000/svg\\' viewBox=\"0 0 1100 664\" height=\"780\" image-rendering=\"pixelated\">\\n    <defs>\\n        <marker id=\"arrow\" markerWidth=\"10\" markerHeight=\"10\" refX=\"9\" refY=\"3\" orient=\"auto\" markerUnits=\"strokeWidth\">\\n          <path d=\"M0,0 L0,6 L9,3 z\" fill=\"black\" />\\n        </marker>\\n    </defs><text x=\"550.0\" y=\"12.5\" font-family=\"monospace\" font-size=\"15\" text-anchor=\"middle\" alignment-baseline=\"central\">Robot Prediction Network</text><rect x=\"315.6666666666667\" y=\"29\" width=\"102\" height=\"52\" style=\"fill:none;stroke:black;stroke-width:2\"/><image id=\"Robot Prediction Network_output1_12\" class=\"Robot Prediction Network_output1\" x=\"316.6666666666667\" y=\"30\" height=\"50\" width=\"100\" preserveAspectRatio=\"none\" href=\"data:image/gif;base64,R0lGODdhAgABAIcAAOfn5/7x6gAAAAAAAAAAAAAAAAAAAAAAAAAAAAAAAAAAAAAAAAAAAAAAAAAAAAAAAAAAAAAAAAAAAAAAAAAAAAAAAAAAAAAAAAAAAAAAAAAAAAAAAAAAAAAAAAAAAAAAAAAAAAAAAAAAAAAAAAAAAAAAAAAAAAAAAAAAAAAAAAAAAAAAAAAAAAAAAAAAAAAAAAAAAAAAAAAAAAAAAAAAAAAAAAAAAAAAAAAAAAAAAAAAAAAAAAAAAAAAAAAAAAAAAAAAAAAAAAAAAAAAAAAAAAAAAAAAAAAAAAAAAAAAAAAAAAAAAAAAAAAAAAAAAAAAAAAAAAAAAAAAAAAAAAAAAAAAAAAAAAAAAAAAAAAAAAAAAAAAAAAAAAAAAAAAAAAAAAAAAAAAAAAAAAAAAAAAAAAAAAAAAAAAAAAAAAAAAAAAAAAAAAAAAAAAAAAAAAAAAAAAAAAAAAAAAAAAAAAAAAAAAAAAAAAAAAAAAAAAAAAAAAAAAAAAAAAAAAAAAAAAAAAAAAAAAAAAAAAAAAAAAAAAAAAAAAAAAAAAAAAAAAAAAAAAAAAAAAAAAAAAAAAAAAAAAAAAAAAAAAAAAAAAAAAAAAAAAAAAAAAAAAAAAAAAAAAAAAAAAAAAAAAAAAAAAAAAAAAAAAAAAAAAAAAAAAAAAAAAAAAAAAAAAAAAAAAAAAAAAAAAAAAAAAAAAAAAAAAAAAAAAAAAAAAAAAAAAAAAAAAAAAAAAAAAAAAAAAAAAAAAAAAAAAAAAAAAAAAAAAAAAAAAAAAAAAAAAAAAAAAAAAAAAAAAAAAAAAAAAAAAAAAAAAAAAAAAAAAAAAAAAAAAAAAAAAAAAAAAAAAAAAAAAAAAAAAAAAAAAAAAAAAAAAAAAAAAAAAAAAAAAAAAAAAAAAAAAAAAAAAAAAAAAAAAAAAAAAAAAAAAAAAAAAAAAAAAAAAAAAAAAAAAAAAAAAAAAAAAAAAAAAAAAAAAAAAAAAAAAAAAAAAAAAAAAAAAAAAAAAAAAAAAAAAAAAAAACwAAAAAAgABAAAIBQADAAgIADs=\"><title>Layer: output1 (output)\\n shape = (2,)\\n Keras class = Dense\\n activation = sigmoid</title></image><text x=\"421.6666666666667\" y=\"57.0\" font-family=\"monospace\" font-size=\"12\" text-anchor=\"start\" alignment-baseline=\"central\">output1</text><rect x=\"632.3333333333334\" y=\"29\" width=\"202\" height=\"42\" style=\"fill:none;stroke:black;stroke-width:2\"/><image id=\"Robot Prediction Network_output2_13\" class=\"Robot Prediction Network_output2\" x=\"633.3333333333334\" y=\"30\" height=\"40\" width=\"200\" preserveAspectRatio=\"none\" href=\"data:image/gif;base64,R0lGODdhBQABAIcAAP759/nFq/3i0e7u7gAAAAAAAAAAAAAAAAAAAAAAAAAAAAAAAAAAAAAAAAAAAAAAAAAAAAAAAAAAAAAAAAAAAAAAAAAAAAAAAAAAAAAAAAAAAAAAAAAAAAAAAAAAAAAAAAAAAAAAAAAAAAAAAAAAAAAAAAAAAAAAAAAAAAAAAAAAAAAAAAAAAAAAAAAAAAAAAAAAAAAAAAAAAAAAAAAAAAAAAAAAAAAAAAAAAAAAAAAAAAAAAAAAAAAAAAAAAAAAAAAAAAAAAAAAAAAAAAAAAAAAAAAAAAAAAAAAAAAAAAAAAAAAAAAAAAAAAAAAAAAAAAAAAAAAAAAAAAAAAAAAAAAAAAAAAAAAAAAAAAAAAAAAAAAAAAAAAAAAAAAAAAAAAAAAAAAAAAAAAAAAAAAAAAAAAAAAAAAAAAAAAAAAAAAAAAAAAAAAAAAAAAAAAAAAAAAAAAAAAAAAAAAAAAAAAAAAAAAAAAAAAAAAAAAAAAAAAAAAAAAAAAAAAAAAAAAAAAAAAAAAAAAAAAAAAAAAAAAAAAAAAAAAAAAAAAAAAAAAAAAAAAAAAAAAAAAAAAAAAAAAAAAAAAAAAAAAAAAAAAAAAAAAAAAAAAAAAAAAAAAAAAAAAAAAAAAAAAAAAAAAAAAAAAAAAAAAAAAAAAAAAAAAAAAAAAAAAAAAAAAAAAAAAAAAAAAAAAAAAAAAAAAAAAAAAAAAAAAAAAAAAAAAAAAAAAAAAAAAAAAAAAAAAAAAAAAAAAAAAAAAAAAAAAAAAAAAAAAAAAAAAAAAAAAAAAAAAAAAAAAAAAAAAAAAAAAAAAAAAAAAAAAAAAAAAAAAAAAAAAAAAAAAAAAAAAAAAAAAAAAAAAAAAAAAAAAAAAAAAAAAAAAAAAAAAAAAAAAAAAAAAAAAAAAAAAAAAAAAAAAAAAAAAAAAAAAAAAAAAAAAAAAAAAAAAAAAAAAAAAAAAAAAAAAAAAAAAAAAAAAAAAAAAAAAAAAAAAAAAAAAAAAAAAAAAAAAAAAAAAAAAAAAACwAAAAABQABAAAICAABDAgAQEBAADs=\"><title>Layer: output2 (output)\\n shape = (5,)\\n Keras class = Dense\\n activation = sigmoid</title></image><text x=\"838.3333333333334\" y=\"52.0\" font-family=\"monospace\" font-size=\"12\" text-anchor=\"start\" alignment-baseline=\"central\">output2</text><line x1=\"366.6666666666667\" y1=\"109\" x2=\"366.6666666666667\" y2=\"82\" stroke=\"black\" stroke-width=\"2\" marker-end=\"url(#arrow)\"><title>Weights from hidden4 to output1\\n output1/kernel has shape (10, 2)\\n output1/bias has shape (2,)</title></line><rect x=\"265.6666666666667\" y=\"109\" width=\"202\" height=\"27\" style=\"fill:none;stroke:black;stroke-width:2\"/><image id=\"Robot Prediction Network_hidden4_14\" class=\"Robot Prediction Network_hidden4\" x=\"266.6666666666667\" y=\"110\" height=\"25\" width=\"200\" preserveAspectRatio=\"none\" href=\"data:image/gif;base64,R0lGODdhCgABAIcAALy8vPnHrvj4+K2trczMzPa0lvzYxAAAAAAAAAAAAAAAAAAAAAAAAAAAAAAAAAAAAAAAAAAAAAAAAAAAAAAAAAAAAAAAAAAAAAAAAAAAAAAAAAAAAAAAAAAAAAAAAAAAAAAAAAAAAAAAAAAAAAAAAAAAAAAAAAAAAAAAAAAAAAAAAAAAAAAAAAAAAAAAAAAAAAAAAAAAAAAAAAAAAAAAAAAAAAAAAAAAAAAAAAAAAAAAAAAAAAAAAAAAAAAAAAAAAAAAAAAAAAAAAAAAAAAAAAAAAAAAAAAAAAAAAAAAAAAAAAAAAAAAAAAAAAAAAAAAAAAAAAAAAAAAAAAAAAAAAAAAAAAAAAAAAAAAAAAAAAAAAAAAAAAAAAAAAAAAAAAAAAAAAAAAAAAAAAAAAAAAAAAAAAAAAAAAAAAAAAAAAAAAAAAAAAAAAAAAAAAAAAAAAAAAAAAAAAAAAAAAAAAAAAAAAAAAAAAAAAAAAAAAAAAAAAAAAAAAAAAAAAAAAAAAAAAAAAAAAAAAAAAAAAAAAAAAAAAAAAAAAAAAAAAAAAAAAAAAAAAAAAAAAAAAAAAAAAAAAAAAAAAAAAAAAAAAAAAAAAAAAAAAAAAAAAAAAAAAAAAAAAAAAAAAAAAAAAAAAAAAAAAAAAAAAAAAAAAAAAAAAAAAAAAAAAAAAAAAAAAAAAAAAAAAAAAAAAAAAAAAAAAAAAAAAAAAAAAAAAAAAAAAAAAAAAAAAAAAAAAAAAAAAAAAAAAAAAAAAAAAAAAAAAAAAAAAAAAAAAAAAAAAAAAAAAAAAAAAAAAAAAAAAAAAAAAAAAAAAAAAAAAAAAAAAAAAAAAAAAAAAAAAAAAAAAAAAAAAAAAAAAAAAAAAAAAAAAAAAAAAAAAAAAAAAAAAAAAAAAAAAAAAAAAAAAAAAAAAAAAAAAAAAAAAAAAAAAAAAAAAAAAAAAAAAAAAAAAAAAAAAAAAAAAAAAAAAAAAAAAAAAAAAAAAAAAAAAAAAAAAAAAAAAAAAAAAAAAAAAAAACwAAAAACgABAAAIDgANBBBQgACAAAAEDAgIADs=\"><title>Layer: hidden4 (hidden)\\n shape = (10,)\\n Keras class = Dense\\n activation = sigmoid</title></image><text x=\"471.6666666666667\" y=\"124.5\" font-family=\"monospace\" font-size=\"12\" text-anchor=\"start\" alignment-baseline=\"central\">hidden4</text><line x1=\"733.3333333333334\" y1=\"110\" x2=\"733.3333333333334\" y2=\"70\" stroke=\"red\" stroke-width=\"2\" marker-end=\"url(#arrow)\"><title>Weights from hidden4 to output1\\n output1/kernel has shape (10, 2)\\n output1/bias has shape (2,)</title></line><line x1=\"550.0\" y1=\"164\" x2=\"733.3333333333334\" y2=\"110\" stroke=\"red\" stroke-width=\"2\"><title>TODO</title></line><line x1=\"550.0\" y1=\"164\" x2=\"366.6666666666667\" y2=\"137\" stroke=\"red\" stroke-width=\"2\" marker-end=\"url(#arrow)\"><title>Weights from hidden3 to hidden4\\n hidden4/kernel has shape (10, 10)\\n hidden4/bias has shape (10,)</title></line><rect x=\"449.0\" y=\"164\" width=\"202\" height=\"27\" style=\"fill:none;stroke:black;stroke-width:2\"/><image id=\"Robot Prediction Network_hidden3_15\" class=\"Robot Prediction Network_hidden3\" x=\"450.0\" y=\"165\" height=\"25\" width=\"200\" preserveAspectRatio=\"none\" href=\"data:image/gif;base64,R0lGODdhCgABAIcAAPry7dPT0/3k1fSqiAAAAAAAAAAAAAAAAAAAAAAAAAAAAAAAAAAAAAAAAAAAAAAAAAAAAAAAAAAAAAAAAAAAAAAAAAAAAAAAAAAAAAAAAAAAAAAAAAAAAAAAAAAAAAAAAAAAAAAAAAAAAAAAAAAAAAAAAAAAAAAAAAAAAAAAAAAAAAAAAAAAAAAAAAAAAAAAAAAAAAAAAAAAAAAAAAAAAAAAAAAAAAAAAAAAAAAAAAAAAAAAAAAAAAAAAAAAAAAAAAAAAAAAAAAAAAAAAAAAAAAAAAAAAAAAAAAAAAAAAAAAAAAAAAAAAAAAAAAAAAAAAAAAAAAAAAAAAAAAAAAAAAAAAAAAAAAAAAAAAAAAAAAAAAAAAAAAAAAAAAAAAAAAAAAAAAAAAAAAAAAAAAAAAAAAAAAAAAAAAAAAAAAAAAAAAAAAAAAAAAAAAAAAAAAAAAAAAAAAAAAAAAAAAAAAAAAAAAAAAAAAAAAAAAAAAAAAAAAAAAAAAAAAAAAAAAAAAAAAAAAAAAAAAAAAAAAAAAAAAAAAAAAAAAAAAAAAAAAAAAAAAAAAAAAAAAAAAAAAAAAAAAAAAAAAAAAAAAAAAAAAAAAAAAAAAAAAAAAAAAAAAAAAAAAAAAAAAAAAAAAAAAAAAAAAAAAAAAAAAAAAAAAAAAAAAAAAAAAAAAAAAAAAAAAAAAAAAAAAAAAAAAAAAAAAAAAAAAAAAAAAAAAAAAAAAAAAAAAAAAAAAAAAAAAAAAAAAAAAAAAAAAAAAAAAAAAAAAAAAAAAAAAAAAAAAAAAAAAAAAAAAAAAAAAAAAAAAAAAAAAAAAAAAAAAAAAAAAAAAAAAAAAAAAAAAAAAAAAAAAAAAAAAAAAAAAAAAAAAAAAAAAAAAAAAAAAAAAAAAAAAAAAAAAAAAAAAAAAAAAAAAAAAAAAAAAAAAAAAAAAAAAAAAAAAAAAAAAAAAAAAAAAAAAAAAAAAAAAAAAAAAAAAAAAAAAAAAAAAAAAAAAAAAAAAAAAAAAAAAAAAAAAAACwAAAAACgABAAAIDgADABgAAIAAAQEAAAgIADs=\"><title>Layer: hidden3 (hidden)\\n shape = (10,)\\n dropout = 0.25\\n Keras class = Dense\\n activation = sigmoid</title></image><text x=\"655.0\" y=\"179.5\" font-family=\"monospace\" font-size=\"12\" text-anchor=\"start\" alignment-baseline=\"central\">hidden3</text><line x1=\"550.0\" y1=\"219\" x2=\"550.0\" y2=\"192\" stroke=\"black\" stroke-width=\"2\" marker-end=\"url(#arrow)\"><title>Weights from hidden2 to hidden3\\n hidden3/kernel has shape (5, 10)\\n hidden3/bias has shape (10,)</title></line><rect x=\"449.0\" y=\"219\" width=\"202\" height=\"42\" style=\"fill:none;stroke:black;stroke-width:2\"/><image id=\"Robot Prediction Network_hidden2_16\" class=\"Robot Prediction Network_hidden2\" x=\"450.0\" y=\"220\" height=\"40\" width=\"200\" preserveAspectRatio=\"none\" href=\"data:image/gif;base64,R0lGODdhBQABAIcAAP7+/QAAAAAAAAAAAAAAAAAAAAAAAAAAAAAAAAAAAAAAAAAAAAAAAAAAAAAAAAAAAAAAAAAAAAAAAAAAAAAAAAAAAAAAAAAAAAAAAAAAAAAAAAAAAAAAAAAAAAAAAAAAAAAAAAAAAAAAAAAAAAAAAAAAAAAAAAAAAAAAAAAAAAAAAAAAAAAAAAAAAAAAAAAAAAAAAAAAAAAAAAAAAAAAAAAAAAAAAAAAAAAAAAAAAAAAAAAAAAAAAAAAAAAAAAAAAAAAAAAAAAAAAAAAAAAAAAAAAAAAAAAAAAAAAAAAAAAAAAAAAAAAAAAAAAAAAAAAAAAAAAAAAAAAAAAAAAAAAAAAAAAAAAAAAAAAAAAAAAAAAAAAAAAAAAAAAAAAAAAAAAAAAAAAAAAAAAAAAAAAAAAAAAAAAAAAAAAAAAAAAAAAAAAAAAAAAAAAAAAAAAAAAAAAAAAAAAAAAAAAAAAAAAAAAAAAAAAAAAAAAAAAAAAAAAAAAAAAAAAAAAAAAAAAAAAAAAAAAAAAAAAAAAAAAAAAAAAAAAAAAAAAAAAAAAAAAAAAAAAAAAAAAAAAAAAAAAAAAAAAAAAAAAAAAAAAAAAAAAAAAAAAAAAAAAAAAAAAAAAAAAAAAAAAAAAAAAAAAAAAAAAAAAAAAAAAAAAAAAAAAAAAAAAAAAAAAAAAAAAAAAAAAAAAAAAAAAAAAAAAAAAAAAAAAAAAAAAAAAAAAAAAAAAAAAAAAAAAAAAAAAAAAAAAAAAAAAAAAAAAAAAAAAAAAAAAAAAAAAAAAAAAAAAAAAAAAAAAAAAAAAAAAAAAAAAAAAAAAAAAAAAAAAAAAAAAAAAAAAAAAAAAAAAAAAAAAAAAAAAAAAAAAAAAAAAAAAAAAAAAAAAAAAAAAAAAAAAAAAAAAAAAAAAAAAAAAAAAAAAAAAAAAAAAAAAAAAAAAAAAAAAAAAAAAAAAAAAAAAAAAAAAAAAAAAAAAAAAAAAAAAAAAAAAAAAAAAAAAAAAAAAAAAAAAAAAAAAAAAAAACwAAAAABQABAAAIBgABCBQYEAA7\"><title>Layer: hidden2 (hidden)\\n shape = (5,)\\n Keras class = Dense\\n activation = sigmoid</title></image><text x=\"655.0\" y=\"242.0\" font-family=\"monospace\" font-size=\"12\" text-anchor=\"start\" alignment-baseline=\"central\">hidden2</text><line x1=\"275.0\" y1=\"290\" x2=\"550.0\" y2=\"260\" stroke=\"black\" stroke-width=\"2\" marker-end=\"url(#arrow)\"><title>Weights from hidden2 to hidden3\\n hidden3/kernel has shape (5, 10)\\n hidden3/bias has shape (10,)</title></line><line x1=\"550.0\" y1=\"290\" x2=\"550.0\" y2=\"260\" stroke=\"black\" stroke-width=\"2\" marker-end=\"url(#arrow)\"><title>Weights from hidden2 to hidden3\\n hidden3/kernel has shape (5, 10)\\n hidden3/bias has shape (10,)</title></line><line x1=\"825.0\" y1=\"289\" x2=\"550.0\" y2=\"262\" stroke=\"black\" stroke-width=\"2\" marker-end=\"url(#arrow)\"><title>Weights from flatten to hidden2\\n hidden2/kernel has shape (35330, 5)\\n hidden2/bias has shape (5,)</title></line><rect x=\"724.0\" y=\"289\" width=\"202\" height=\"27\" style=\"fill:none;stroke:black;stroke-width:2\"/><image id=\"Robot Prediction Network_flatten_17\" class=\"Robot Prediction Network_flatten\" x=\"725.0\" y=\"290\" height=\"25\" width=\"200\" preserveAspectRatio=\"none\" href=\"data:image/gif;base64,R0lGODdhwIkBAIcAAP7+/QAAAAAAAAAAAAAAAAAAAAAAAAAAAAAAAAAAAAAAAAAAAAAAAAAAAAAAAAAAAAAAAAAAAAAAAAAAAAAAAAAAAAAAAAAAAAAAAAAAAAAAAAAAAAAAAAAAAAAAAAAAAAAAAAAAAAAAAAAAAAAAAAAAAAAAAAAAAAAAAAAAAAAAAAAAAAAAAAAAAAAAAAAAAAAAAAAAAAAAAAAAAAAAAAAAAAAAAAAAAAAAAAAAAAAAAAAAAAAAAAAAAAAAAAAAAAAAAAAAAAAAAAAAAAAAAAAAAAAAAAAAAAAAAAAAAAAAAAAAAAAAAAAAAAAAAAAAAAAAAAAAAAAAAAAAAAAAAAAAAAAAAAAAAAAAAAAAAAAAAAAAAAAAAAAAAAAAAAAAAAAAAAAAAAAAAAAAAAAAAAAAAAAAAAAAAAAAAAAAAAAAAAAAAAAAAAAAAAAAAAAAAAAAAAAAAAAAAAAAAAAAAAAAAAAAAAAAAAAAAAAAAAAAAAAAAAAAAAAAAAAAAAAAAAAAAAAAAAAAAAAAAAAAAAAAAAAAAAAAAAAAAAAAAAAAAAAAAAAAAAAAAAAAAAAAAAAAAAAAAAAAAAAAAAAAAAAAAAAAAAAAAAAAAAAAAAAAAAAAAAAAAAAAAAAAAAAAAAAAAAAAAAAAAAAAAAAAAAAAAAAAAAAAAAAAAAAAAAAAAAAAAAAAAAAAAAAAAAAAAAAAAAAAAAAAAAAAAAAAAAAAAAAAAAAAAAAAAAAAAAAAAAAAAAAAAAAAAAAAAAAAAAAAAAAAAAAAAAAAAAAAAAAAAAAAAAAAAAAAAAAAAAAAAAAAAAAAAAAAAAAAAAAAAAAAAAAAAAAAAAAAAAAAAAAAAAAAAAAAAAAAAAAAAAAAAAAAAAAAAAAAAAAAAAAAAAAAAAAAAAAAAAAAAAAAAAAAAAAAAAAAAAAAAAAAAAAAAAAAAAAAAAAAAAAAAAAAAAAAAAAAAAAAAAAAAAAAAAAAAAAAAAAAAAAAAAAAAAAAAAAAAAAAAAAAAAAAAAAAACwAAAAAwIkBAAAI/wABCBxIsKDBgwgTKlzIsKHDhxAjSpxIsaLFixgzatzIsaPHjyBDihxJsqTJkyhTqlzJsqXLlzBjypxJs6bNmzhz6tzJs6fPn0CDCh1KtKjRo0iTKl3KtKnTp1CjSp1KtarVq1izat3KtavXr2DDih1LtqzZs2jTql3Ltq3bt3Djyp1Lt67du3jz6t3Lt6/fv4ADCx5MuLDhw4gTK17MuLHjx5AjS55MubLly5gza97MubPnz6BDix5NurTp06hTq17NurXr17Bjy55Nu7bt27hz697Nu7fv38CDCx9OvLjx48iTK1/OvLnz59CjS59Ovbr169iza9/Ovbv37+DDi3gfT768+fPo06tfz769+/fw48ufT7++/fv48+vfz7+/f4AABA4kWNDgQYQJFS5k2NDhQ4gRJU6kWNHiRYwZNW7k2NHjR5AhRY4kWdLkSZQpVa5k2dLlS5gxZc6kWdPmTZw5de7k2dPnT6BBhQ4lWtToUaRJlS7tGBAAOw==\"><title>Layer: flatten (hidden)\\n Keras class = Flatten</title></image><text x=\"930.0\" y=\"304.5\" font-family=\"monospace\" font-size=\"12\" text-anchor=\"start\" alignment-baseline=\"central\">flatten</text><line x1=\"275.0\" y1=\"344\" x2=\"275.0\" y2=\"290\" stroke=\"black\" stroke-width=\"2\"><title>TODO</title></line><rect x=\"174.0\" y=\"344\" width=\"202\" height=\"27\" style=\"fill:none;stroke:black;stroke-width:2\"/><image id=\"Robot Prediction Network_hidden_18\" class=\"Robot Prediction Network_hidden\" x=\"175.0\" y=\"345\" height=\"25\" width=\"200\" preserveAspectRatio=\"none\" href=\"data:image/gif;base64,R0lGODdhMgABAIcAAP7+/QAAAAAAAAAAAAAAAAAAAAAAAAAAAAAAAAAAAAAAAAAAAAAAAAAAAAAAAAAAAAAAAAAAAAAAAAAAAAAAAAAAAAAAAAAAAAAAAAAAAAAAAAAAAAAAAAAAAAAAAAAAAAAAAAAAAAAAAAAAAAAAAAAAAAAAAAAAAAAAAAAAAAAAAAAAAAAAAAAAAAAAAAAAAAAAAAAAAAAAAAAAAAAAAAAAAAAAAAAAAAAAAAAAAAAAAAAAAAAAAAAAAAAAAAAAAAAAAAAAAAAAAAAAAAAAAAAAAAAAAAAAAAAAAAAAAAAAAAAAAAAAAAAAAAAAAAAAAAAAAAAAAAAAAAAAAAAAAAAAAAAAAAAAAAAAAAAAAAAAAAAAAAAAAAAAAAAAAAAAAAAAAAAAAAAAAAAAAAAAAAAAAAAAAAAAAAAAAAAAAAAAAAAAAAAAAAAAAAAAAAAAAAAAAAAAAAAAAAAAAAAAAAAAAAAAAAAAAAAAAAAAAAAAAAAAAAAAAAAAAAAAAAAAAAAAAAAAAAAAAAAAAAAAAAAAAAAAAAAAAAAAAAAAAAAAAAAAAAAAAAAAAAAAAAAAAAAAAAAAAAAAAAAAAAAAAAAAAAAAAAAAAAAAAAAAAAAAAAAAAAAAAAAAAAAAAAAAAAAAAAAAAAAAAAAAAAAAAAAAAAAAAAAAAAAAAAAAAAAAAAAAAAAAAAAAAAAAAAAAAAAAAAAAAAAAAAAAAAAAAAAAAAAAAAAAAAAAAAAAAAAAAAAAAAAAAAAAAAAAAAAAAAAAAAAAAAAAAAAAAAAAAAAAAAAAAAAAAAAAAAAAAAAAAAAAAAAAAAAAAAAAAAAAAAAAAAAAAAAAAAAAAAAAAAAAAAAAAAAAAAAAAAAAAAAAAAAAAAAAAAAAAAAAAAAAAAAAAAAAAAAAAAAAAAAAAAAAAAAAAAAAAAAAAAAAAAAAAAAAAAAAAAAAAAAAAAAAAAAAAAAAAAAAAAAAAAAAAAAAAAAAAAAAAAAAAAAAAAAAAAAAAAAAAAAAAAAAAAAAACwAAAAAMgABAAAIDgABCBxIsKDBgwgTFgwIADs=\"><title>Layer: hidden (hidden)\\n shape = (50,)\\n Keras class = Dense\\n activation = relu</title></image><text x=\"380.0\" y=\"359.5\" font-family=\"monospace\" font-size=\"12\" text-anchor=\"start\" alignment-baseline=\"central\">hidden</text><line x1=\"550.0\" y1=\"345\" x2=\"550.0\" y2=\"290\" stroke=\"black\" stroke-width=\"2\"><title>TODO</title></line><line x1=\"825.0\" y1=\"344\" x2=\"825.0\" y2=\"317\" stroke=\"black\" stroke-width=\"2\" marker-end=\"url(#arrow)\"><title>Weights from conv to flatten</title></line><rect x=\"724.0\" y=\"344\" width=\"202\" height=\"133\" style=\"fill:none;stroke:black;stroke-width:2\"/><image id=\"Robot Prediction Network_conv_19\" class=\"Robot Prediction Network_conv\" x=\"725.0\" y=\"345\" height=\"131\" width=\"200\" preserveAspectRatio=\"none\" href=\"data:image/gif;base64,R0lGODdhOgAmAIcAAP7+/QAAAAAAAAAAAAAAAAAAAAAAAAAAAAAAAAAAAAAAAAAAAAAAAAAAAAAAAAAAAAAAAAAAAAAAAAAAAAAAAAAAAAAAAAAAAAAAAAAAAAAAAAAAAAAAAAAAAAAAAAAAAAAAAAAAAAAAAAAAAAAAAAAAAAAAAAAAAAAAAAAAAAAAAAAAAAAAAAAAAAAAAAAAAAAAAAAAAAAAAAAAAAAAAAAAAAAAAAAAAAAAAAAAAAAAAAAAAAAAAAAAAAAAAAAAAAAAAAAAAAAAAAAAAAAAAAAAAAAAAAAAAAAAAAAAAAAAAAAAAAAAAAAAAAAAAAAAAAAAAAAAAAAAAAAAAAAAAAAAAAAAAAAAAAAAAAAAAAAAAAAAAAAAAAAAAAAAAAAAAAAAAAAAAAAAAAAAAAAAAAAAAAAAAAAAAAAAAAAAAAAAAAAAAAAAAAAAAAAAAAAAAAAAAAAAAAAAAAAAAAAAAAAAAAAAAAAAAAAAAAAAAAAAAAAAAAAAAAAAAAAAAAAAAAAAAAAAAAAAAAAAAAAAAAAAAAAAAAAAAAAAAAAAAAAAAAAAAAAAAAAAAAAAAAAAAAAAAAAAAAAAAAAAAAAAAAAAAAAAAAAAAAAAAAAAAAAAAAAAAAAAAAAAAAAAAAAAAAAAAAAAAAAAAAAAAAAAAAAAAAAAAAAAAAAAAAAAAAAAAAAAAAAAAAAAAAAAAAAAAAAAAAAAAAAAAAAAAAAAAAAAAAAAAAAAAAAAAAAAAAAAAAAAAAAAAAAAAAAAAAAAAAAAAAAAAAAAAAAAAAAAAAAAAAAAAAAAAAAAAAAAAAAAAAAAAAAAAAAAAAAAAAAAAAAAAAAAAAAAAAAAAAAAAAAAAAAAAAAAAAAAAAAAAAAAAAAAAAAAAAAAAAAAAAAAAAAAAAAAAAAAAAAAAAAAAAAAAAAAAAAAAAAAAAAAAAAAAAAAAAAAAAAAAAAAAAAAAAAAAAAAAAAAAAAAAAAAAAAAAAAAAAAAAAAAAAAAAAAAAAAAAAAAAAAAAAAAAAAAACwAAAAAOgAmAEAITQABCBxIsKDBgwgTKlzIsKHDhxAjSpxIsaLFixgzatzIsaPHjyBDihxJsqTJkyhTqlzJsqXLlzBjypxJs6bNmzhz6tzJs6fPn0CD7gwIADs=\"><title>Layer: conv (hidden)\\n Keras class = Conv2D</title></image><text x=\"930.0\" y=\"412.5\" font-family=\"monospace\" font-size=\"12\" text-anchor=\"start\" alignment-baseline=\"central\">conv</text><text x=\"930.0\" y=\"350\" font-family=\"monospace\" font-size=\"12\" text-anchor=\"start\" alignment-baseline=\"central\">16</text><text x=\"706.0\" y=\"471\" font-family=\"monospace\" font-size=\"12\" text-anchor=\"start\" alignment-baseline=\"central\">15</text><line x1=\"275.0\" y1=\"505\" x2=\"275.0\" y2=\"372\" stroke=\"black\" stroke-width=\"2\" marker-end=\"url(#arrow)\"><title>Weights from light to hidden\\n hidden/kernel has shape (2, 50)\\n hidden/bias has shape (50,)</title></line><rect x=\"224.0\" y=\"505\" width=\"102\" height=\"52\" style=\"fill:none;stroke:black;stroke-width:2\"/><image id=\"Robot Prediction Network_light_20\" class=\"Robot Prediction Network_light\" x=\"225.0\" y=\"506\" height=\"50\" width=\"100\" preserveAspectRatio=\"none\" href=\"data:image/gif;base64,R0lGODdhAgABAIcAAP7+/QAAAAAAAAAAAAAAAAAAAAAAAAAAAAAAAAAAAAAAAAAAAAAAAAAAAAAAAAAAAAAAAAAAAAAAAAAAAAAAAAAAAAAAAAAAAAAAAAAAAAAAAAAAAAAAAAAAAAAAAAAAAAAAAAAAAAAAAAAAAAAAAAAAAAAAAAAAAAAAAAAAAAAAAAAAAAAAAAAAAAAAAAAAAAAAAAAAAAAAAAAAAAAAAAAAAAAAAAAAAAAAAAAAAAAAAAAAAAAAAAAAAAAAAAAAAAAAAAAAAAAAAAAAAAAAAAAAAAAAAAAAAAAAAAAAAAAAAAAAAAAAAAAAAAAAAAAAAAAAAAAAAAAAAAAAAAAAAAAAAAAAAAAAAAAAAAAAAAAAAAAAAAAAAAAAAAAAAAAAAAAAAAAAAAAAAAAAAAAAAAAAAAAAAAAAAAAAAAAAAAAAAAAAAAAAAAAAAAAAAAAAAAAAAAAAAAAAAAAAAAAAAAAAAAAAAAAAAAAAAAAAAAAAAAAAAAAAAAAAAAAAAAAAAAAAAAAAAAAAAAAAAAAAAAAAAAAAAAAAAAAAAAAAAAAAAAAAAAAAAAAAAAAAAAAAAAAAAAAAAAAAAAAAAAAAAAAAAAAAAAAAAAAAAAAAAAAAAAAAAAAAAAAAAAAAAAAAAAAAAAAAAAAAAAAAAAAAAAAAAAAAAAAAAAAAAAAAAAAAAAAAAAAAAAAAAAAAAAAAAAAAAAAAAAAAAAAAAAAAAAAAAAAAAAAAAAAAAAAAAAAAAAAAAAAAAAAAAAAAAAAAAAAAAAAAAAAAAAAAAAAAAAAAAAAAAAAAAAAAAAAAAAAAAAAAAAAAAAAAAAAAAAAAAAAAAAAAAAAAAAAAAAAAAAAAAAAAAAAAAAAAAAAAAAAAAAAAAAAAAAAAAAAAAAAAAAAAAAAAAAAAAAAAAAAAAAAAAAAAAAAAAAAAAAAAAAAAAAAAAAAAAAAAAAAAAAAAAAAAAAAAAAAAAAAAAAAAAAAAAAAAAAAAAAAAAAAAAAAAAAAAAAAAAAAAAAAAAAAAACwAAAAAAgABAAAIBQABAAgIADs=\"><title>Layer: light (input)\\n shape = (2,)\\n Keras class = Input</title></image><text x=\"330.0\" y=\"533.0\" font-family=\"monospace\" font-size=\"12\" text-anchor=\"start\" alignment-baseline=\"central\">light</text><line x1=\"550.0\" y1=\"505\" x2=\"550.0\" y2=\"345\" stroke=\"black\" stroke-width=\"2\"><title>TODO</title></line><rect x=\"449.0\" y=\"505\" width=\"202\" height=\"27\" style=\"fill:none;stroke:black;stroke-width:2\"/><image id=\"Robot Prediction Network_sonar_21\" class=\"Robot Prediction Network_sonar\" x=\"450.0\" y=\"506\" height=\"25\" width=\"200\" preserveAspectRatio=\"none\" href=\"data:image/gif;base64,R0lGODdhEAABAIcAAP7+/QAAAAAAAAAAAAAAAAAAAAAAAAAAAAAAAAAAAAAAAAAAAAAAAAAAAAAAAAAAAAAAAAAAAAAAAAAAAAAAAAAAAAAAAAAAAAAAAAAAAAAAAAAAAAAAAAAAAAAAAAAAAAAAAAAAAAAAAAAAAAAAAAAAAAAAAAAAAAAAAAAAAAAAAAAAAAAAAAAAAAAAAAAAAAAAAAAAAAAAAAAAAAAAAAAAAAAAAAAAAAAAAAAAAAAAAAAAAAAAAAAAAAAAAAAAAAAAAAAAAAAAAAAAAAAAAAAAAAAAAAAAAAAAAAAAAAAAAAAAAAAAAAAAAAAAAAAAAAAAAAAAAAAAAAAAAAAAAAAAAAAAAAAAAAAAAAAAAAAAAAAAAAAAAAAAAAAAAAAAAAAAAAAAAAAAAAAAAAAAAAAAAAAAAAAAAAAAAAAAAAAAAAAAAAAAAAAAAAAAAAAAAAAAAAAAAAAAAAAAAAAAAAAAAAAAAAAAAAAAAAAAAAAAAAAAAAAAAAAAAAAAAAAAAAAAAAAAAAAAAAAAAAAAAAAAAAAAAAAAAAAAAAAAAAAAAAAAAAAAAAAAAAAAAAAAAAAAAAAAAAAAAAAAAAAAAAAAAAAAAAAAAAAAAAAAAAAAAAAAAAAAAAAAAAAAAAAAAAAAAAAAAAAAAAAAAAAAAAAAAAAAAAAAAAAAAAAAAAAAAAAAAAAAAAAAAAAAAAAAAAAAAAAAAAAAAAAAAAAAAAAAAAAAAAAAAAAAAAAAAAAAAAAAAAAAAAAAAAAAAAAAAAAAAAAAAAAAAAAAAAAAAAAAAAAAAAAAAAAAAAAAAAAAAAAAAAAAAAAAAAAAAAAAAAAAAAAAAAAAAAAAAAAAAAAAAAAAAAAAAAAAAAAAAAAAAAAAAAAAAAAAAAAAAAAAAAAAAAAAAAAAAAAAAAAAAAAAAAAAAAAAAAAAAAAAAAAAAAAAAAAAAAAAAAAAAAAAAAAAAAAAAAAAAAAAAAAAAAAAAAAAAAAAAAAAAAAAAAAAAAAAAAAAAAAAAAAAAAAAACwAAAAAEAABAAAICQABCBxIsCCAgAA7\"><title>Layer: sonar (input)\\n shape = (16,)\\n Keras class = Input</title></image><text x=\"655.0\" y=\"520.5\" font-family=\"monospace\" font-size=\"12\" text-anchor=\"start\" alignment-baseline=\"central\">sonar</text><line x1=\"825.0\" y1=\"505\" x2=\"825.0\" y2=\"478\" stroke=\"black\" stroke-width=\"2\" marker-end=\"url(#arrow)\"><title>Weights from camera to conv\\n conv/kernel has shape (3, 3, 3, 16)\\n conv/bias has shape (16,)</title></line><rect x=\"724.0\" y=\"505\" width=\"202\" height=\"135\" style=\"fill:none;stroke:black;stroke-width:2\"/><image id=\"Robot Prediction Network_camera_22\" class=\"Robot Prediction Network_camera\" x=\"725.0\" y=\"506\" height=\"133\" width=\"200\" preserveAspectRatio=\"none\" href=\"data:image/gif;base64,R0lGODdhPAAoAIcAAAAAAAAAAAAAAAAAAAAAAAAAAAAAAAAAAAAAAAAAAAAAAAAAAAAAAAAAAAAAAAAAAAAAAAAAAAAAAAAAAAAAAAAAAAAAAAAAAAAAAAAAAAAAAAAAAAAAAAAAAAAAAAAAAAAAAAAAAAAAAAAAAAAAAAAAAAAAAAAAAAAAAAAAAAAAAAAAAAAAAAAAAAAAAAAAAAAAAAAAAAAAAAAAAAAAAAAAAAAAAAAAAAAAAAAAAAAAAAAAAAAAAAAAAAAAAAAAAAAAAAAAAAAAAAAAAAAAAAAAAAAAAAAAAAAAAAAAAAAAAAAAAAAAAAAAAAAAAAAAAAAAAAAAAAAAAAAAAAAAAAAAAAAAAAAAAAAAAAAAAAAAAAAAAAAAAAAAAAAAAAAAAAAAAAAAAAAAAAAAAAAAAAAAAAAAAAAAAAAAAAAAAAAAAAAAAAAAAAAAAAAAAAAAAAAAAAAAAAAAAAAAAAAAAAAAAAAAAAAAAAAAAAAAAAAAAAAAAAAAAAAAAAAAAAAAAAAAAAAAAAAAAAAAAAAAAAAAAAAAAAAAAAAAAAAAAAAAAAAAAAAAAAAAAAAAAAAAAAAAAAAAAAAAAAAAAAAAAAAAAAAAAAAAAAAAAAAAAAAAAAAAAAAAAAAAAAAAAAAAAAAAAAAAAAAAAAAAAAAAAAAAAAAAAAAAAAAAAAAAAAAAAAAAAAAAAAAAAAAAAAAAAAAAAAAAAAAAAAAAAAAAAAAAAAAAAAAAAAAAAAAAAAAAAAAAAAAAAAAAAAAAAAAAAAAAAAAAAAAAAAAAAAAAAAAAAAAAAAAAAAAAAAAAAAAAAAAAAAAAAAAAAAAAAAAAAAAAAAAAAAAAAAAAAAAAAAAAAAAAAAAAAAAAAAAAAAAAAAAAAAAAAAAAAAAAAAAAAAAAAAAAAAAAAAAAAAAAAAAAAAAAAAAAAAAAAAAAAAAAAAAAAAAAAAAAAAAAAAAAAAAAAAAAAAAAAAAAAAAAAAAAAAAAAAAAAAAAAAAAAAAAAAAAAAAAAAAAAAAAAAAAACwAAAAAPAAoAEAIUAABCBxIsKDBgwgTKlzIsKHDhxAjSpxIsaLFixgzatzIsaPHjyBDihxJsqTJkyhTqlzJsqXLlzBjypxJs6bNmzhz6tzJs6fPn0CDCh1K1GZAADs=\"><title>Layer: camera (input)\\n shape = (40, 60, 3)\\n Keras class = Input</title></image><text x=\"930.0\" y=\"574.5\" font-family=\"monospace\" font-size=\"12\" text-anchor=\"start\" alignment-baseline=\"central\">camera</text></svg></p>', layout=Layout(height='550px', justify_content='center', overflow_x='auto', width='95%')), VBox(children=(HBox(children=(Select(description='Dataset:', index=1, options=('Test', 'Train'), rows=1, value='Train'), Button(icon='refresh', layout=Layout(width='40px'), style=ButtonStyle())), layout=Layout(height='40px')), HBox(children=(IntSlider(value=0, continuous_update=False, description='Dataset index', layout=Layout(width='95%'), max=0), Text(value='', description='Total:')), layout=Layout(height='40px')), HBox(children=(Button(icon='fast-backward', layout=Layout(width='100%'), style=ButtonStyle()), Button(icon='backward', layout=Layout(width='100%'), style=ButtonStyle()), Button(description='Train', layout=Layout(width='100%'), style=ButtonStyle()), Button(icon='forward', layout=Layout(width='100%'), style=ButtonStyle()), Button(icon='fast-forward', layout=Layout(width='100%'), style=ButtonStyle())), layout=Layout(height='50px', width='95%'))), layout=Layout(width='95%'))), layout=Layout(height='550px', width='95%')), HTML(value='<iframe src=\"https://conx.readthedocs.io\" width=\"100%\" height=\"550px\"></frame>', layout=Layout(height='550px', width='95%'))), _titles={'0': 'Network', '1': 'Help'})"
      ]
     },
     "metadata": {},
     "output_type": "display_data"
    }
   ],
   "source": [
    "net.dashboard()"
   ]
  },
  {
   "cell_type": "code",
   "execution_count": null,
   "metadata": {},
   "outputs": [],
   "source": []
  }
 ],
 "metadata": {
  "kernelspec": {
   "display_name": "Python 3",
   "language": "python",
   "name": "python3"
  },
  "language_info": {
   "codemirror_mode": {
    "name": "ipython",
    "version": 3
   },
   "file_extension": ".py",
   "mimetype": "text/x-python",
   "name": "python",
   "nbconvert_exporter": "python",
   "pygments_lexer": "ipython3",
   "version": "3.5.3"
  },
  "widgets": {
   "application/vnd.jupyter.widget-state+json": {
    "state": {
     "08423084241441eb9091dfd3995ec7fe": {
      "model_module": "jupyter-js-widgets",
      "model_module_version": "~2.1.4",
      "model_name": "LayoutModel",
      "state": {
       "_model_module_version": "~2.1.4",
       "_view_module_version": "~2.1.4"
      }
     },
     "0a486aece37d4ceda35626962a10b644": {
      "model_module": "jupyter-js-widgets",
      "model_module_version": "~2.1.4",
      "model_name": "LayoutModel",
      "state": {
       "_model_module_version": "~2.1.4",
       "_view_module_version": "~2.1.4",
       "height": "20px",
       "padding": "0px 0px 0px 0px",
       "width": "248px"
      }
     },
     "116e160ad9f14e7fb81d6dabde0c37eb": {
      "model_module": "jupyter-js-widgets",
      "model_module_version": "~2.1.4",
      "model_name": "FloatSliderModel",
      "state": {
       "_model_module_version": "~2.1.4",
       "_view_module_version": "~2.1.4",
       "layout": "IPY_MODEL_c3c7c15d20ec4640a9f5fe85ade3682c",
       "orientation": "vertical",
       "readout": false,
       "step": 0.1,
       "value": 51.24999999999999
      }
     },
     "1adceb8e00834cea8cf5b6dbe7433a09": {
      "model_module": "jupyter-js-widgets",
      "model_module_version": "~2.1.4",
      "model_name": "LayoutModel",
      "state": {
       "_model_module_version": "~2.1.4",
       "_view_module_version": "~2.1.4"
      }
     },
     "1c00298cd5294f93a5bd80d8eb821703": {
      "model_module": "jupyter-js-widgets",
      "model_module_version": "~2.1.4",
      "model_name": "ImageModel",
      "state": {
       "_b64value": "iVBORw0KGgoAAAANSUhEUgAAADwAAAAoCAIAAAAt2Q6oAAAA8UlEQVR4nO3WoQ7CMBCA4d5d++gYggJDwMwgEJshATHkEIRgUCCwkxiwZAhGMxq2bIRcaXKfWOb655b0BvExV6FB3wHfkGguEs1ForlINBeJ5qJ9B5TuhwzeKaWqz+qLt+jbNkVEIgIARLRBbXSOztPYDqBuEg2KokBEYwwRdT3a+hx9SiJ8sZOofji/yuhdNCQirTURPVv9ZjXTm8kAAIwxvks6+OuJ1pFoLhLNJchouFzPSql+b+rc0w3L5Vcb0Vnj7f89ymjHeDQPL7rBLFqGF/0riyQLL9qxXu3Di+4kyCtPorlINBeJ5iLRXIKMfgDJGDkVat0rzwAAAABJRU5ErkJggg==",
       "_model_module_version": "~2.1.4",
       "_view_module_version": "~2.1.4",
       "layout": "IPY_MODEL_826d8904866c4e82ba2a9a5221fd2631",
       "width": "240"
      }
     },
     "2e5b657e21fa4e3fb459a974ef89ffea": {
      "model_module": "jupyter-js-widgets",
      "model_module_version": "~2.1.4",
      "model_name": "FloatSliderModel",
      "state": {
       "_model_module_version": "~2.1.4",
       "_view_module_version": "~2.1.4",
       "layout": "IPY_MODEL_0a486aece37d4ceda35626962a10b644",
       "readout": false,
       "step": 0.1,
       "value": 99.44295769917836
      }
     },
     "2e5d973073534c3eb26e448b646a8c7d": {
      "model_module": "jupyter-js-widgets",
      "model_module_version": "~2.1.4",
      "model_name": "OutputModel",
      "state": {
       "_dom_classes": [],
       "_model_module": "jupyter-js-widgets",
       "_model_module_version": "~2.1.4",
       "_view_module": "jupyter-js-widgets",
       "_view_module_version": "~2.1.4",
       "layout": "IPY_MODEL_39f10ac0d7e94b6a998cecbcde4c3c24",
       "msg_throttle": 1
      }
     },
     "35e0bf572944420cb3eb23722feea99e": {
      "model_module": "jupyter-js-widgets",
      "model_module_version": "~2.1.4",
      "model_name": "LayoutModel",
      "state": {
       "_model_module_version": "~2.1.4",
       "_view_module_version": "~2.1.4"
      }
     },
     "39f10ac0d7e94b6a998cecbcde4c3c24": {
      "model_module": "jupyter-js-widgets",
      "model_module_version": "~2.1.4",
      "model_name": "LayoutModel",
      "state": {
       "_model_module_version": "~2.1.4",
       "_view_module_version": "~2.1.4"
      }
     },
     "497f35579b594d33b9416aa809c0bbe3": {
      "model_module": "jupyter-js-widgets",
      "model_module_version": "~2.1.4",
      "model_name": "LayoutModel",
      "state": {
       "_model_module_version": "~2.1.4",
       "_view_module_version": "~2.1.4"
      }
     },
     "4bdda6111b9546a697c36c05475b6a3e": {
      "model_module": "jupyter-js-widgets",
      "model_module_version": "~2.1.4",
      "model_name": "TextModel",
      "state": {
       "_model_module_version": "~2.1.4",
       "_view_module_version": "~2.1.4",
       "description": "Time:",
       "layout": "IPY_MODEL_e558e089bd89408784f5d3d9c965f2aa",
       "value": "0.10 seconds"
      }
     },
     "5527ccfc5f274a7dbc6ce3afe206b84b": {
      "model_module": "jupyter-js-widgets",
      "model_module_version": "~2.1.4",
      "model_name": "CheckboxModel",
      "state": {
       "_model_module_version": "~2.1.4",
       "_view_module_version": "~2.1.4",
       "description": "Update GUI",
       "disabled": false,
       "layout": "IPY_MODEL_752f6bab412348b7b4fbcd2a3a3dd15a",
       "value": true
      }
     },
     "55d26593c20a4c6fa86765e4fa753a11": {
      "model_module": "jupyter-js-widgets",
      "model_module_version": "~2.1.4",
      "model_name": "LayoutModel",
      "state": {
       "_model_module_version": "~2.1.4",
       "_view_module_version": "~2.1.4"
      }
     },
     "5d02f863f83c4124aa1dea90e55f836c": {
      "model_module": "jupyter-js-widgets",
      "model_module_version": "~2.1.4",
      "model_name": "HTMLModel",
      "state": {
       "_model_module_version": "~2.1.4",
       "_view_module_version": "~2.1.4",
       "layout": "IPY_MODEL_08423084241441eb9091dfd3995ec7fe",
       "value": "<svg baseProfile=\"full\" height=\"240\" version=\"1.1\" width=\"240\" xmlns=\"http://www.w3.org/2000/svg\" xmlns:ev=\"http://www.w3.org/2001/xml-events\" xmlns:xlink=\"http://www.w3.org/1999/xlink\"><defs /><rect fill=\"white\" height=\"240\" stroke=\"#000000\" stroke-width=\"1\" width=\"240\" x=\"0\" y=\"0\" /><rect fill=\"#eef3dd\" height=\"240.0\" stroke=\"#bebebe\" stroke-width=\"1\" width=\"240.0\" x=\"0.0\" y=\"0.0\" /><circle cx=\"120.0\" cy=\"195.0\" fill=\"#ffff00\" r=\"15.0\" stroke=\"#ffff00\" stroke-width=\"1\" /><line fill=\"#800080\" stroke=\"#add8e6\" stroke-width=\"1\" x1=\"199.29647346587737\" x2=\"0.0\" y1=\"111.37109959820461\" y2=\"118.34932799999999\" /><line fill=\"#800080\" stroke=\"#add8e6\" stroke-width=\"1\" x1=\"200.64858482032437\" x2=\"0.0\" y1=\"107.12118255369946\" y2=\"21.973026000000004\" /><line fill=\"#800080\" stroke=\"#add8e6\" stroke-width=\"1\" x1=\"202.98412783209295\" x2=\"108.20933355871675\" y1=\"105.23830209010676\" y2=\"0.0\" /><line fill=\"#800080\" stroke=\"#add8e6\" stroke-width=\"1\" x1=\"206.529433775271\" x2=\"174.84110042201567\" y1=\"103.61324646974592\" y2=\"0.0\" /><line fill=\"#800080\" stroke=\"#add8e6\" stroke-width=\"1\" x1=\"212.52575915041191\" x2=\"236.38811675880686\" y1=\"103.4032893421199\" y2=\"0.0\" /><line fill=\"#800080\" stroke=\"#add8e6\" stroke-width=\"1\" x1=\"216.176043657403\" x2=\"240.0\" y1=\"104.77639640932952\" y2=\"74.27725800000002\" /><line fill=\"#800080\" stroke=\"#add8e6\" stroke-width=\"1\" x1=\"218.63756094574717\" x2=\"240.0\" y1=\"106.49131117082139\" y2=\"95.60408999999999\" /><line fill=\"#800080\" stroke=\"#add8e6\" stroke-width=\"1\" x1=\"220.28361227887063\" x2=\"240.0\" y1=\"110.63624965151354\" y2=\"109.94589599999998\" /><line fill=\"#800080\" stroke=\"#add8e6\" stroke-width=\"1\" x1=\"220.70352653412263\" x2=\"240.0\" y1=\"122.62890040179542\" y2=\"121.95324600000001\" /><line fill=\"#800080\" stroke=\"#add8e6\" stroke-width=\"1\" x1=\"219.35141517967563\" x2=\"240.0\" y1=\"126.87881744630057\" y2=\"135.641346\" /><line fill=\"#800080\" stroke=\"#add8e6\" stroke-width=\"1\" x1=\"217.01587216790705\" x2=\"240.0\" y1=\"128.76169790989326\" y2=\"154.283364\" /><line fill=\"#800080\" stroke=\"#add8e6\" stroke-width=\"1\" x1=\"213.470566224729\" x2=\"240.0\" y1=\"130.3867535302541\" y2=\"217.131636\" /><line fill=\"#800080\" stroke=\"#add8e6\" stroke-width=\"1\" x1=\"207.47424084958809\" x2=\"182.22726449088904\" y1=\"130.59671065788012\" y2=\"240.0\" /><line fill=\"#800080\" stroke=\"#add8e6\" stroke-width=\"1\" x1=\"203.823956342597\" x2=\"117.29260723482744\" y1=\"129.2236035906705\" y2=\"240.0\" /><line fill=\"#800080\" stroke=\"#add8e6\" stroke-width=\"1\" x1=\"201.36243905425283\" x2=\"0.0\" y1=\"127.50868882917862\" y2=\"230.131668\" /><line fill=\"#800080\" stroke=\"#add8e6\" stroke-width=\"1\" x1=\"199.71638772112937\" x2=\"0.0\" y1=\"123.36375034848649\" y2=\"130.356678\" /><line fill=\"#800080\" stroke=\"#a020f0\" stroke-width=\"1\" x1=\"210.0\" x2=\"0.0\" y1=\"117.00000000000001\" y2=\"5.366183999999992\" /><line fill=\"#800080\" stroke=\"#a020f0\" stroke-width=\"1\" x1=\"210.0\" x2=\"240.0\" y1=\"117.00000000000001\" y2=\"98.250024\" /><line fill=\"#800080\" stroke=\"#ffa500\" stroke-width=\"1\" x1=\"120.0\" x2=\"199.03402705634483\" y1=\"195.0\" y2=\"103.87569287927845\" /><line fill=\"#800080\" stroke=\"#ffa500\" stroke-width=\"1\" x1=\"120.0\" x2=\"220.02116586933806\" y1=\"195.0\" y2=\"103.14084293258738\" /><polygon fill=\"red\" points=\"204.7305361627287,103.67623360803373 199.19149490206433,108.37293691063414 199.82136628494237,126.36191303605695 205.67534323704578,130.65969779616793 215.2694638372713,130.3237663919663 220.80850509793567,125.62706308936588 220.17863371505763,107.63808696394308 214.32465676295422,103.3403022038321\" stroke=\"red\" stroke-width=\"1\" /><polygon points=\"-3.0,-3.0 0,0 3.0,-3.0 0,3.0\" stroke=\"black\" stroke-width=\"1\" transform=\"translate(210.0,117.00000000000001) rotate(177.9946477170421)\" /><polygon fill=\"black\" points=\"213.30385524640815,108.4791701982271 213.47182094850893,113.27623049833983 206.2762304983398,113.52817905149107 206.108264796239,108.73111875137835\" stroke=\"black\" stroke-width=\"1\" /><circle cx=\"199.03402705634483\" cy=\"103.87569287927845\" fill=\"yellow\" r=\"1.5\" stroke=\"orange\" stroke-width=\"1\" /><circle cx=\"220.02116586933806\" cy=\"103.14084293258738\" fill=\"yellow\" r=\"1.5\" stroke=\"orange\" stroke-width=\"1\" /></svg>"
      }
     },
     "6d1f771c19254382accb04cae6f7b62e": {
      "model_module": "jupyter-js-widgets",
      "model_module_version": "~2.1.4",
      "model_name": "HBoxModel",
      "state": {
       "_model_module_version": "~2.1.4",
       "_view_module_version": "~2.1.4",
       "children": [
        "IPY_MODEL_5527ccfc5f274a7dbc6ce3afe206b84b",
        "IPY_MODEL_4bdda6111b9546a697c36c05475b6a3e"
       ],
       "layout": "IPY_MODEL_b0fe5bc26a9a44bb95dcf2756e7f5088"
      }
     },
     "7001bc75c2104b43a6bd388d787ba44a": {
      "model_module": "jupyter-js-widgets",
      "model_module_version": "~2.1.4",
      "model_name": "VBoxModel",
      "state": {
       "_model_module_version": "~2.1.4",
       "_view_module_version": "~2.1.4",
       "children": [
        "IPY_MODEL_d0cefa9ffa6841c8b59ef0278cc97beb",
        "IPY_MODEL_852d97123f894e63b3ebef0aef4d9a3c",
        "IPY_MODEL_2e5d973073534c3eb26e448b646a8c7d"
       ],
       "layout": "IPY_MODEL_d61e3a6a6d9a409e8f9f65f4541dfd99"
      }
     },
     "752f6bab412348b7b4fbcd2a3a3dd15a": {
      "model_module": "jupyter-js-widgets",
      "model_module_version": "~2.1.4",
      "model_name": "LayoutModel",
      "state": {
       "_model_module_version": "~2.1.4",
       "_view_module_version": "~2.1.4"
      }
     },
     "826d8904866c4e82ba2a9a5221fd2631": {
      "model_module": "jupyter-js-widgets",
      "model_module_version": "~2.1.4",
      "model_name": "LayoutModel",
      "state": {
       "_model_module_version": "~2.1.4",
       "_view_module_version": "~2.1.4"
      }
     },
     "827d29fe3e44461ea1e5e05c88098d68": {
      "model_module": "jupyter-js-widgets",
      "model_module_version": "~2.1.4",
      "model_name": "LayoutModel",
      "state": {
       "_model_module_version": "~2.1.4",
       "_view_module_version": "~2.1.4"
      }
     },
     "852d97123f894e63b3ebef0aef4d9a3c": {
      "model_module": "jupyter-js-widgets",
      "model_module_version": "~2.1.4",
      "model_name": "HBoxModel",
      "state": {
       "_model_module_version": "~2.1.4",
       "_view_module_version": "~2.1.4",
       "children": [
        "IPY_MODEL_dd4d62d9e58842aa9d84a32eb9cb982b",
        "IPY_MODEL_9b7c5fb54cc14aff95c4da6406a0f9ed",
        "IPY_MODEL_d7171539ef4d427cbdcf2195a6ca282d"
       ],
       "layout": "IPY_MODEL_aa94d9d63ae740c3af61b752640a80eb"
      }
     },
     "89534f4f8b8340549bf750fb7dfe0a7a": {
      "model_module": "jupyter-js-widgets",
      "model_module_version": "~2.1.4",
      "model_name": "LayoutModel",
      "state": {
       "_model_module_version": "~2.1.4",
       "_view_module_version": "~2.1.4"
      }
     },
     "9975e40b042c4cd0acf0d02d9b6a3849": {
      "model_module": "jupyter-js-widgets",
      "model_module_version": "~2.1.4",
      "model_name": "HBoxModel",
      "state": {
       "_model_module_version": "~2.1.4",
       "_view_module_version": "~2.1.4",
       "children": [
        "IPY_MODEL_116e160ad9f14e7fb81d6dabde0c37eb",
        "IPY_MODEL_5d02f863f83c4124aa1dea90e55f836c"
       ],
       "layout": "IPY_MODEL_bd23f5a3366547359806ed9502494e70"
      }
     },
     "9af44a5cae7246a89a20a5fbd5a0f130": {
      "model_module": "jupyter-js-widgets",
      "model_module_version": "~2.1.4",
      "model_name": "HBoxModel",
      "state": {
       "_model_module_version": "~2.1.4",
       "_view_module_version": "~2.1.4",
       "children": [
        "IPY_MODEL_c1ceded972004efa89bf5d3ee4943378",
        "IPY_MODEL_d37e45d89f4640d9858bfe2a0f53ad63"
       ],
       "layout": "IPY_MODEL_1adceb8e00834cea8cf5b6dbe7433a09"
      }
     },
     "9b7c5fb54cc14aff95c4da6406a0f9ed": {
      "model_module": "jupyter-js-widgets",
      "model_module_version": "~2.1.4",
      "model_name": "PlayModel",
      "state": {
       "_model_module_version": "~2.1.4",
       "_view_module_version": "~2.1.4",
       "layout": "IPY_MODEL_827d29fe3e44461ea1e5e05c88098d68",
       "max": 1000000
      }
     },
     "9c61c7e69e704f0cbddb4bfa789e9eb2": {
      "model_module": "jupyter-js-widgets",
      "model_module_version": "~2.1.4",
      "model_name": "ButtonStyleModel",
      "state": {
       "_model_module_version": "~2.1.4",
       "_view_module_version": "~2.1.4"
      }
     },
     "a64f5b5a05b545fb8c99ab1de942f334": {
      "model_module": "jupyter-js-widgets",
      "model_module_version": "~2.1.4",
      "model_name": "LayoutModel",
      "state": {
       "_model_module_version": "~2.1.4",
       "_view_module_version": "~2.1.4"
      }
     },
     "aa94d9d63ae740c3af61b752640a80eb": {
      "model_module": "jupyter-js-widgets",
      "model_module_version": "~2.1.4",
      "model_name": "LayoutModel",
      "state": {
       "_model_module_version": "~2.1.4",
       "_view_module_version": "~2.1.4"
      }
     },
     "ad478466503948e3ac134c0d813b347d": {
      "model_module": "jupyter-js-widgets",
      "model_module_version": "~2.1.4",
      "model_name": "FloatSliderModel",
      "state": {
       "_model_module_version": "~2.1.4",
       "_view_module_version": "~2.1.4",
       "layout": "IPY_MODEL_eef4e9caeead4949aec10f216c39e9bd",
       "readout": false,
       "step": 0.1,
       "value": 87.5
      }
     },
     "b0fe5bc26a9a44bb95dcf2756e7f5088": {
      "model_module": "jupyter-js-widgets",
      "model_module_version": "~2.1.4",
      "model_name": "LayoutModel",
      "state": {
       "_model_module_version": "~2.1.4",
       "_view_module_version": "~2.1.4"
      }
     },
     "ba31d73a384e45dcbda53395c2bf5992": {
      "model_module": "jupyter-js-widgets",
      "model_module_version": "~2.1.4",
      "model_name": "LayoutModel",
      "state": {
       "_model_module_version": "~2.1.4",
       "_view_module_version": "~2.1.4"
      }
     },
     "bd23f5a3366547359806ed9502494e70": {
      "model_module": "jupyter-js-widgets",
      "model_module_version": "~2.1.4",
      "model_name": "LayoutModel",
      "state": {
       "_model_module_version": "~2.1.4",
       "_view_module_version": "~2.1.4"
      }
     },
     "c1ceded972004efa89bf5d3ee4943378": {
      "model_module": "jupyter-js-widgets",
      "model_module_version": "~2.1.4",
      "model_name": "VBoxModel",
      "state": {
       "_model_module_version": "~2.1.4",
       "_view_module_version": "~2.1.4",
       "children": [
        "IPY_MODEL_9975e40b042c4cd0acf0d02d9b6a3849",
        "IPY_MODEL_ad478466503948e3ac134c0d813b347d"
       ],
       "layout": "IPY_MODEL_89534f4f8b8340549bf750fb7dfe0a7a"
      }
     },
     "c2195209deb34c269574ca9023bd156f": {
      "model_module": "jupyter-js-widgets",
      "model_module_version": "~2.1.4",
      "model_name": "ButtonStyleModel",
      "state": {
       "_model_module_version": "~2.1.4",
       "_view_module_version": "~2.1.4"
      }
     },
     "c3c7c15d20ec4640a9f5fe85ade3682c": {
      "model_module": "jupyter-js-widgets",
      "model_module_version": "~2.1.4",
      "model_name": "LayoutModel",
      "state": {
       "_model_module_version": "~2.1.4",
       "_view_module_version": "~2.1.4",
       "height": "248px",
       "padding": "0px 0px 0px 0px",
       "width": "10px"
      }
     },
     "d0cefa9ffa6841c8b59ef0278cc97beb": {
      "model_module": "jupyter-js-widgets",
      "model_module_version": "~2.1.4",
      "model_name": "VBoxModel",
      "state": {
       "_model_module_version": "~2.1.4",
       "_view_module_version": "~2.1.4",
       "children": [
        "IPY_MODEL_6d1f771c19254382accb04cae6f7b62e",
        "IPY_MODEL_9af44a5cae7246a89a20a5fbd5a0f130"
       ],
       "layout": "IPY_MODEL_dd4313da261c4547902a7c752f0fc454"
      }
     },
     "d37e45d89f4640d9858bfe2a0f53ad63": {
      "model_module": "jupyter-js-widgets",
      "model_module_version": "~2.1.4",
      "model_name": "VBoxModel",
      "state": {
       "_model_module_version": "~2.1.4",
       "_view_module_version": "~2.1.4",
       "children": [
        "IPY_MODEL_1c00298cd5294f93a5bd80d8eb821703",
        "IPY_MODEL_2e5b657e21fa4e3fb459a974ef89ffea"
       ],
       "layout": "IPY_MODEL_a64f5b5a05b545fb8c99ab1de942f334"
      }
     },
     "d61e3a6a6d9a409e8f9f65f4541dfd99": {
      "model_module": "jupyter-js-widgets",
      "model_module_version": "~2.1.4",
      "model_name": "LayoutModel",
      "state": {
       "_model_module_version": "~2.1.4",
       "_view_module_version": "~2.1.4"
      }
     },
     "d7171539ef4d427cbdcf2195a6ca282d": {
      "model_module": "jupyter-js-widgets",
      "model_module_version": "~2.1.4",
      "model_name": "ButtonModel",
      "state": {
       "_model_module_version": "~2.1.4",
       "_view_module_version": "~2.1.4",
       "description": "Clear",
       "layout": "IPY_MODEL_ba31d73a384e45dcbda53395c2bf5992",
       "style": "IPY_MODEL_c2195209deb34c269574ca9023bd156f"
      }
     },
     "d983b94c07a44bcf96b3b6294d43c01f": {
      "model_module": "jupyter-js-widgets",
      "model_module_version": "~2.1.4",
      "model_name": "LayoutModel",
      "state": {
       "_model_module_version": "~2.1.4",
       "_view_module_version": "~2.1.4"
      }
     },
     "dd4313da261c4547902a7c752f0fc454": {
      "model_module": "jupyter-js-widgets",
      "model_module_version": "~2.1.4",
      "model_name": "LayoutModel",
      "state": {
       "_model_module_version": "~2.1.4",
       "_view_module_version": "~2.1.4"
      }
     },
     "dd4d62d9e58842aa9d84a32eb9cb982b": {
      "model_module": "jupyter-js-widgets",
      "model_module_version": "~2.1.4",
      "model_name": "ButtonModel",
      "state": {
       "_model_module_version": "~2.1.4",
       "_view_module_version": "~2.1.4",
       "icon": "step-forward",
       "layout": "IPY_MODEL_497f35579b594d33b9416aa809c0bbe3",
       "style": "IPY_MODEL_9c61c7e69e704f0cbddb4bfa789e9eb2"
      }
     },
     "e558e089bd89408784f5d3d9c965f2aa": {
      "model_module": "jupyter-js-widgets",
      "model_module_version": "~2.1.4",
      "model_name": "LayoutModel",
      "state": {
       "_model_module_version": "~2.1.4",
       "_view_module_version": "~2.1.4"
      }
     },
     "eef4e9caeead4949aec10f216c39e9bd": {
      "model_module": "jupyter-js-widgets",
      "model_module_version": "~2.1.4",
      "model_name": "LayoutModel",
      "state": {
       "_model_module_version": "~2.1.4",
       "_view_module_version": "~2.1.4",
       "height": "30px",
       "padding": "0px 0px 0px 10px",
       "width": "260px"
      }
     }
    },
    "version_major": 1,
    "version_minor": 0
   }
  }
 },
 "nbformat": 4,
 "nbformat_minor": 2
}
