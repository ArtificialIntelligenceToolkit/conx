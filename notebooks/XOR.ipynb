{
 "cells": [
  {
   "cell_type": "markdown",
   "metadata": {},
   "source": [
    "# XOR Multiple Inputs/Targets\n",
    "\n",
    "Testing..."
   ]
  },
  {
   "cell_type": "code",
   "execution_count": 11,
   "metadata": {},
   "outputs": [],
   "source": [
    "from conx import Network, Layer, SGD"
   ]
  },
  {
   "cell_type": "code",
   "execution_count": 12,
   "metadata": {
    "collapsed": true
   },
   "outputs": [],
   "source": [
    "net = Network(\"XOR\", 2, 2, 1, activation=\"sigmoid\")\n",
    "net.connect()\n",
    "dataset = [\n",
    "    ([0, 0], [0]),\n",
    "    ([0, 1], [1]),\n",
    "    ([1, 0], [1]),\n",
    "    ([1, 1], [0])\n",
    "]"
   ]
  },
  {
   "cell_type": "code",
   "execution_count": 13,
   "metadata": {},
   "outputs": [
    {
     "name": "stdout",
     "output_type": "stream",
     "text": [
      "Split dataset into:\n",
      "   train set count: 4\n",
      "   test set count : 0\n",
      "Input Summary:\n",
      "   count  : 4\n",
      "   shape  : (2,)\n",
      "   range  : (0.0, 1.0)\n",
      "Target Summary:\n",
      "   count  : 4\n",
      "   shape  : (1,)\n",
      "   range  : (0.0, 1.0)\n"
     ]
    }
   ],
   "source": [
    "net.set_dataset(dataset)"
   ]
  },
  {
   "cell_type": "code",
   "execution_count": 14,
   "metadata": {},
   "outputs": [
    {
     "data": {
      "text/plain": [
       "[0.0]"
      ]
     },
     "execution_count": 14,
     "metadata": {},
     "output_type": "execute_result"
    }
   ],
   "source": [
    "net.get_target(0)"
   ]
  },
  {
   "cell_type": "code",
   "execution_count": 15,
   "metadata": {
    "collapsed": true
   },
   "outputs": [],
   "source": [
    "net.compile(loss='mean_squared_error',\n",
    "            optimizer=SGD(lr=0.3, momentum=0.9))"
   ]
  },
  {
   "cell_type": "code",
   "execution_count": 16,
   "metadata": {
    "collapsed": true
   },
   "outputs": [],
   "source": [
    "net.config[\"image_maxdim\"] = 50"
   ]
  },
  {
   "cell_type": "code",
   "execution_count": 17,
   "metadata": {},
   "outputs": [
    {
     "data": {
      "application/javascript": [
       "\n",
       "require(['base/js/namespace'], function(Jupyter) {\n",
       "    Jupyter.notebook.kernel.comm_manager.register_target('conx_svg_control', function(comm, msg) {\n",
       "        comm.on_msg(function(msg) {\n",
       "            var data = msg[\"content\"][\"data\"];\n",
       "            var images = document.getElementsByClassName(data[\"class\"]);\n",
       "            for (var i = 0; i < images.length; i++) {\n",
       "                images[i].setAttributeNS(null, \"href\", data[\"href\"]);\n",
       "            }\n",
       "        });\n",
       "    });\n",
       "});\n"
      ],
      "text/plain": [
       "<IPython.core.display.Javascript object>"
      ]
     },
     "metadata": {},
     "output_type": "display_data"
    },
    {
     "data": {
      "application/vnd.jupyter.widget-view+json": {
       "model_id": "3f17bb20bf5e4f2596164b07b9a8d26d"
      }
     },
     "metadata": {},
     "output_type": "display_data"
    }
   ],
   "source": [
    "net.dashboard()"
   ]
  },
  {
   "cell_type": "code",
   "execution_count": 18,
   "metadata": {},
   "outputs": [
    {
     "data": {
      "application/javascript": [
       "\n",
       "require.undef('camera');\n",
       "\n",
       "define('camera', [\"jupyter-js-widgets\"], function(widgets) {\n",
       "    var CameraView = widgets.DOMWidgetView.extend({\n",
       "        defaults: _.extend({}, widgets.DOMWidgetView.prototype.defaults, {\n",
       "            _view_name: 'CameraView',\n",
       "            _view_module: 'camera',\n",
       "            audio: false,\n",
       "            video: true,\n",
       "        }),\n",
       "\n",
       "        initialize: function() {\n",
       "\n",
       "            var div = document.createElement('div');\n",
       "            var el = document.createElement('video');\n",
       "            el.setAttribute('id', \"video_widget\");\n",
       "            el.setAttribute('width', 320);\n",
       "            el.setAttribute('height', 240);\n",
       "            div.appendChild(el);\n",
       "            var canvas = document.createElement('canvas');\n",
       "            canvas.setAttribute('id', \"video_canvas\");\n",
       "            canvas.setAttribute('width', 320);\n",
       "            canvas.setAttribute('height', 240);\n",
       "            div.appendChild(canvas);\n",
       "            div.appendChild(document.createElement('br'));\n",
       "            var button = document.createElement('button');\n",
       "            button.innerHTML = \"Take a Picture\";\n",
       "            var that = this;\n",
       "            button.onclick = function(b) {\n",
       "                var video = document.querySelector(\"#video_widget\");\n",
       "                var canvas = document.querySelector(\"#video_canvas\");\n",
       "                if (video) {\n",
       "                    canvas.getContext('2d').drawImage(video, 0, 0, canvas.width, canvas.height);\n",
       "                    var url = canvas.toDataURL('image/png');\n",
       "                    if (that.model) {\n",
       "                        that.model.set('image', url);\n",
       "                        that.model.save_changes();\n",
       "                    }\n",
       "                }\n",
       "            };\n",
       "            div.appendChild(button);\n",
       "            this.setElement(div);\n",
       "            CameraView.__super__.initialize.apply(this, arguments);\n",
       "        },\n",
       "\n",
       "        render: function() {\n",
       "            var that = this;\n",
       "             that.model.stream.then(function(stream) {\n",
       "                 that.el.children[0].src = window.URL.createObjectURL(stream);\n",
       "                 that.el.children[0].play();\n",
       "             });\n",
       "        }\n",
       "    });\n",
       "\n",
       "    var CameraModel = widgets.DOMWidgetModel.extend({\n",
       "        defaults: _.extend({}, widgets.DOMWidgetModel.prototype.defaults, {\n",
       "            _model_name: 'CameraModel',\n",
       "            _model_module: 'camera',\n",
       "            audio: false,\n",
       "            video: true\n",
       "        }),\n",
       "\n",
       "        initialize: function() {\n",
       "            CameraModel.__super__.initialize.apply(this, arguments);\n",
       "            // Get the camera permissions\n",
       "            this.stream = navigator.mediaDevices.getUserMedia({audio: false, video: true});\n",
       "        }\n",
       "    });\n",
       "    return {\n",
       "        CameraModel: CameraModel,\n",
       "        CameraView: CameraView\n",
       "    }\n",
       "});\n"
      ],
      "text/plain": [
       "<IPython.core.display.Javascript object>"
      ]
     },
     "metadata": {},
     "output_type": "display_data"
    },
    {
     "data": {
      "application/vnd.jupyter.widget-view+json": {
       "model_id": "1d83579ec49b4e798dcafd9f3b258e42"
      }
     },
     "metadata": {},
     "output_type": "display_data"
    }
   ],
   "source": [
    "from conx.widgets import Camera\n",
    "camera = Camera()\n",
    "camera"
   ]
  },
  {
   "cell_type": "code",
   "execution_count": 8,
   "metadata": {},
   "outputs": [
    {
     "name": "stdout",
     "output_type": "stream",
     "text": [
      "Training...\n",
      "Epoch #   25 | train error 0.24992 | train accuracy 0.50000 | validate% 0.00000\n",
      "Epoch #   50 | train error 0.24969 | train accuracy 0.50000 | validate% 0.00000\n",
      "Epoch #   75 | train error 0.24940 | train accuracy 0.50000 | validate% 0.00000\n",
      "Epoch #  100 | train error 0.24874 | train accuracy 0.50000 | validate% 0.00000\n",
      "Epoch #  125 | train error 0.24693 | train accuracy 0.50000 | validate% 0.00000\n",
      "Epoch #  150 | train error 0.24118 | train accuracy 0.75000 | validate% 0.00000\n",
      "Epoch #  175 | train error 0.22378 | train accuracy 0.75000 | validate% 0.00000\n",
      "Epoch #  200 | train error 0.18657 | train accuracy 0.75000 | validate% 0.00000\n",
      "Epoch #  225 | train error 0.10439 | train accuracy 1.00000 | validate% 0.00000\n",
      "Epoch #  250 | train error 0.02656 | train accuracy 1.00000 | validate% 0.00000\n",
      "Epoch #  275 | train error 0.01118 | train accuracy 1.00000 | validate% 0.50000\n",
      "Epoch #  300 | train error 0.00712 | train accuracy 1.00000 | validate% 0.75000\n",
      "========================================================================\n",
      "Epoch #  302 | train error 0.00693 | train accuracy 1.00000 | validate% 1.00000\n"
     ]
    }
   ],
   "source": [
    "net.train(epochs=2000, accuracy=1.0, report_rate=25)"
   ]
  },
  {
   "cell_type": "code",
   "execution_count": 9,
   "metadata": {},
   "outputs": [
    {
     "name": "stdout",
     "output_type": "stream",
     "text": [
      "Testing on training dataset...\n",
      "# | inputs | targets | outputs | result\n",
      "---------------------------------------\n",
      "0 | [0.0, 0.0] | [0.0] | [0.1] | correct\n",
      "1 | [0.0, 1.0] | [1.0] | [0.9] | correct\n",
      "2 | [1.0, 0.0] | [1.0] | [0.9] | correct\n",
      "3 | [1.0, 1.0] | [0.0] | [0.1] | correct\n",
      "Total count: 4\n",
      "Total percentage correct: 1.0\n"
     ]
    }
   ],
   "source": [
    "net.test()"
   ]
  },
  {
   "cell_type": "code",
   "execution_count": 10,
   "metadata": {},
   "outputs": [
    {
     "data": {
      "text/plain": [
       "[0.0, 1.0]"
      ]
     },
     "execution_count": 10,
     "metadata": {},
     "output_type": "execute_result"
    }
   ],
   "source": [
    "net.propagate_to(\"input\", [0, 1])"
   ]
  },
  {
   "cell_type": "code",
   "execution_count": 11,
   "metadata": {},
   "outputs": [
    {
     "data": {
      "text/plain": [
       "[0.073824428]"
      ]
     },
     "execution_count": 11,
     "metadata": {},
     "output_type": "execute_result"
    }
   ],
   "source": [
    "net.propagate([0.5, 0.5])"
   ]
  },
  {
   "cell_type": "code",
   "execution_count": 12,
   "metadata": {},
   "outputs": [
    {
     "data": {
      "text/plain": [
       "[0.0016013431595638394, 0.052593737840652466]"
      ]
     },
     "execution_count": 12,
     "metadata": {},
     "output_type": "execute_result"
    }
   ],
   "source": [
    "net.propagate_to(\"hidden\", [1, 0])"
   ]
  },
  {
   "cell_type": "code",
   "execution_count": 13,
   "metadata": {},
   "outputs": [
    {
     "data": {
      "text/plain": [
       "[0.4176524579524994]"
      ]
     },
     "execution_count": 13,
     "metadata": {},
     "output_type": "execute_result"
    }
   ],
   "source": [
    "net.propagate_to(\"output\", [0.25, 0.75])"
   ]
  },
  {
   "cell_type": "code",
   "execution_count": 14,
   "metadata": {},
   "outputs": [
    {
     "data": {
      "text/plain": [
       "[0.25, 0.25]"
      ]
     },
     "execution_count": 14,
     "metadata": {},
     "output_type": "execute_result"
    }
   ],
   "source": [
    "net.propagate_to(\"input\", [0.25, 0.25])"
   ]
  },
  {
   "cell_type": "code",
   "execution_count": 15,
   "metadata": {},
   "outputs": [
    {
     "data": {
      "text/plain": [
       "[0.61946207]"
      ]
     },
     "execution_count": 15,
     "metadata": {},
     "output_type": "execute_result"
    }
   ],
   "source": [
    "net.propagate_from(\"input\", [1.0, 1.0])"
   ]
  },
  {
   "cell_type": "code",
   "execution_count": 16,
   "metadata": {},
   "outputs": [
    {
     "data": {
      "text/plain": [
       "[0.507052]"
      ]
     },
     "execution_count": 16,
     "metadata": {},
     "output_type": "execute_result"
    }
   ],
   "source": [
    "net.propagate_from(\"hidden\", [1.0, 0.0])"
   ]
  },
  {
   "cell_type": "code",
   "execution_count": 17,
   "metadata": {},
   "outputs": [
    {
     "name": "stdout",
     "output_type": "stream",
     "text": [
      "Testing on training dataset...\n",
      "# | inputs | targets | outputs | result\n",
      "---------------------------------------\n",
      "0 | [0.0, 0.0] | [0.0] | [0.1] | correct\n",
      "1 | [0.0, 1.0] | [1.0] | [0.9] | correct\n",
      "2 | [1.0, 0.0] | [1.0] | [0.9] | correct\n",
      "3 | [1.0, 1.0] | [0.0] | [0.1] | correct\n",
      "Total count: 4\n",
      "Total percentage correct: 1.0\n"
     ]
    }
   ],
   "source": [
    "net.test()"
   ]
  },
  {
   "cell_type": "code",
   "execution_count": 18,
   "metadata": {
    "collapsed": true
   },
   "outputs": [],
   "source": [
    "from conx import Network, Layer, SGD"
   ]
  },
  {
   "cell_type": "code",
   "execution_count": 19,
   "metadata": {
    "collapsed": true
   },
   "outputs": [],
   "source": [
    "net = Network(\"XOR2\")\n",
    "net.add(Layer(\"input1\", shape=1, image_maxdim=100))\n",
    "net.add(Layer(\"input2\", shape=1, image_maxdim=50))\n",
    "net.add(Layer(\"hidden1\", shape=10, activation=\"sigmoid\"))\n",
    "net.add(Layer(\"hidden2\", shape=10, activation=\"sigmoid\"))\n",
    "net.add(Layer(\"shared-hidden\", shape=5, activation=\"sigmoid\"))\n",
    "net.add(Layer(\"output1\", shape=1, activation=\"sigmoid\", image_maxdim=100))\n",
    "net.add(Layer(\"output2\", shape=1, activation=\"sigmoid\", image_maxdim=50))"
   ]
  },
  {
   "cell_type": "code",
   "execution_count": 20,
   "metadata": {},
   "outputs": [
    {
     "data": {
      "text/plain": [
       "<Network name='XOR2' (uncompiled)>"
      ]
     },
     "execution_count": 20,
     "metadata": {},
     "output_type": "execute_result"
    }
   ],
   "source": [
    "net"
   ]
  },
  {
   "cell_type": "code",
   "execution_count": 21,
   "metadata": {
    "collapsed": true
   },
   "outputs": [],
   "source": [
    "net.connect(\"input1\", \"hidden1\")\n",
    "net.connect(\"input2\", \"hidden2\")\n",
    "net.connect(\"hidden1\", \"shared-hidden\")\n",
    "net.connect(\"hidden2\", \"shared-hidden\")\n",
    "net.connect(\"shared-hidden\", \"output1\")\n",
    "net.connect(\"shared-hidden\", \"output2\")"
   ]
  },
  {
   "cell_type": "code",
   "execution_count": 22,
   "metadata": {
    "collapsed": true
   },
   "outputs": [],
   "source": [
    "net.set_input_layer_order(\"input1\", \"input2\")\n",
    "net.set_output_layer_order(\"output1\", \"output2\")"
   ]
  },
  {
   "cell_type": "code",
   "execution_count": 23,
   "metadata": {
    "collapsed": true
   },
   "outputs": [],
   "source": [
    "net.compile(loss='mean_squared_error',\n",
    "            optimizer=SGD(lr=0.3, momentum=0.9))"
   ]
  },
  {
   "cell_type": "code",
   "execution_count": 24,
   "metadata": {},
   "outputs": [
    {
     "data": {
      "application/javascript": [
       "\n",
       "require(['base/js/namespace'], function(Jupyter) {\n",
       "    Jupyter.notebook.kernel.comm_manager.register_target('conx_svg_control', function(comm, msg) {\n",
       "        comm.on_msg(function(msg) {\n",
       "            var data = msg[\"content\"][\"data\"];\n",
       "            var images = document.getElementsByClassName(data[\"class\"]);\n",
       "            for (var i = 0; i < images.length; i++) {\n",
       "                images[i].setAttributeNS(null, \"href\", data[\"href\"]);\n",
       "            }\n",
       "        });\n",
       "    });\n",
       "});\n"
      ],
      "text/plain": [
       "<IPython.core.display.Javascript object>"
      ]
     },
     "metadata": {},
     "output_type": "display_data"
    },
    {
     "data": {
      "application/vnd.jupyter.widget-view+json": {
       "model_id": "3495dcba12664c98beda5909eb567b8e"
      }
     },
     "metadata": {},
     "output_type": "display_data"
    }
   ],
   "source": [
    "net.config[\"image_maxdim\"] = 50\n",
    "net.dashboard()"
   ]
  },
  {
   "cell_type": "code",
   "execution_count": 25,
   "metadata": {
    "collapsed": true
   },
   "outputs": [],
   "source": [
    "dataset = [\n",
    "    ([[0],[0]], [[0],[0]]),\n",
    "    ([[0],[1]], [[1],[1]]),\n",
    "    ([[1],[0]], [[1],[1]]),\n",
    "    ([[1],[1]], [[0],[0]])\n",
    "]"
   ]
  },
  {
   "cell_type": "code",
   "execution_count": 26,
   "metadata": {},
   "outputs": [
    {
     "name": "stdout",
     "output_type": "stream",
     "text": [
      "Split dataset into:\n",
      "   4 train inputs\n",
      "   0 test inputs\n",
      "Input Summary:\n",
      "   length  : 4\n",
      "   training: 4\n",
      "   testing : 0\n",
      "   shape  : [(1,), (1,)]\n",
      "   range  : (0.0, 1.0)\n",
      "Target Summary:\n",
      "   length  : 4\n",
      "   training: 4\n",
      "   testing : 0\n",
      "   shape  : [(1,), (1,)]\n",
      "   range  : (0.0, 1.0)\n"
     ]
    }
   ],
   "source": [
    "net.set_dataset(dataset)"
   ]
  },
  {
   "cell_type": "code",
   "execution_count": 27,
   "metadata": {
    "collapsed": true
   },
   "outputs": [],
   "source": [
    "net.config[\"image_maxdim\"] = 50"
   ]
  },
  {
   "cell_type": "code",
   "execution_count": 28,
   "metadata": {},
   "outputs": [
    {
     "data": {
      "application/javascript": [
       "\n",
       "require(['base/js/namespace'], function(Jupyter) {\n",
       "    Jupyter.notebook.kernel.comm_manager.register_target('conx_svg_control', function(comm, msg) {\n",
       "        comm.on_msg(function(msg) {\n",
       "            var data = msg[\"content\"][\"data\"];\n",
       "            var images = document.getElementsByClassName(data[\"class\"]);\n",
       "            for (var i = 0; i < images.length; i++) {\n",
       "                images[i].setAttributeNS(null, \"href\", data[\"href\"]);\n",
       "            }\n",
       "        });\n",
       "    });\n",
       "});\n"
      ],
      "text/plain": [
       "<IPython.core.display.Javascript object>"
      ]
     },
     "metadata": {},
     "output_type": "display_data"
    },
    {
     "data": {
      "application/vnd.jupyter.widget-view+json": {
       "model_id": "121f0a9660c744cdaa08906ea3c54414"
      }
     },
     "metadata": {},
     "output_type": "display_data"
    }
   ],
   "source": [
    "net.dashboard()"
   ]
  },
  {
   "cell_type": "code",
   "execution_count": 29,
   "metadata": {},
   "outputs": [
    {
     "data": {
      "text/plain": [
       "[[0.69199979], [0.3493453]]"
      ]
     },
     "execution_count": 29,
     "metadata": {},
     "output_type": "execute_result"
    }
   ],
   "source": [
    "net[\"shared-hidden\"].colormap = \"spring\"\n",
    "net.propagate_from(\"hidden1\", [0.0, 1.0] * 5)"
   ]
  },
  {
   "cell_type": "code",
   "execution_count": 30,
   "metadata": {},
   "outputs": [
    {
     "data": {
      "text/plain": [
       "[0.26171306, 0.76274085, 0.265212, 0.11297761, 0.66586345]"
      ]
     },
     "execution_count": 30,
     "metadata": {},
     "output_type": "execute_result"
    }
   ],
   "source": [
    "net[\"shared-hidden\"].colormap = \"hot\"\n",
    "net.propagate_from(\"hidden1\", [1.0, 1.0] * 5, [\"shared-hidden\"])"
   ]
  },
  {
   "cell_type": "code",
   "execution_count": 31,
   "metadata": {},
   "outputs": [
    {
     "data": {
      "text/plain": [
       "[0.5030538439750671]"
      ]
     },
     "execution_count": 31,
     "metadata": {},
     "output_type": "execute_result"
    }
   ],
   "source": [
    "net.propagate_to(\"output1\", [[1], [0]])"
   ]
  },
  {
   "cell_type": "code",
   "execution_count": 32,
   "metadata": {
    "collapsed": true
   },
   "outputs": [],
   "source": [
    "for i in range(20):\n",
    "    (epoch_count, loss, acc, val_acc) = net.train(epochs=100, verbose=0)\n",
    "    for index in range(4):\n",
    "        net.propagate(dataset[index][0])"
   ]
  },
  {
   "cell_type": "code",
   "execution_count": 33,
   "metadata": {},
   "outputs": [
    {
     "name": "stdout",
     "output_type": "stream",
     "text": [
      "Training...\n",
      "========================================================================\n",
      "Epoch # 2001 | train error 0.00151 | train accuracy 2.00000 | validate% 1.00000\n"
     ]
    }
   ],
   "source": [
    "net.train(epochs=2000, accuracy=1.0, report_rate=25)"
   ]
  },
  {
   "cell_type": "code",
   "execution_count": 34,
   "metadata": {},
   "outputs": [
    {
     "data": {
      "text/plain": [
       "[[0.5], [0.5]]"
      ]
     },
     "execution_count": 34,
     "metadata": {},
     "output_type": "execute_result"
    }
   ],
   "source": [
    "net.propagate_from(\"input1\", [0.0])"
   ]
  },
  {
   "cell_type": "code",
   "execution_count": 35,
   "metadata": {},
   "outputs": [
    {
     "data": {
      "text/plain": [
       "[[0.5], [0.5]]"
      ]
     },
     "execution_count": 35,
     "metadata": {},
     "output_type": "execute_result"
    }
   ],
   "source": [
    "net.propagate_from(\"shared-hidden\", [0.0] * 5)"
   ]
  },
  {
   "cell_type": "code",
   "execution_count": 36,
   "metadata": {},
   "outputs": [
    {
     "data": {
      "text/plain": [
       "[0.16668787598609924,\n",
       " 0.13967588543891907,\n",
       " 0.8931041955947876,\n",
       " 0.8223327398300171,\n",
       " 0.19805079698562622,\n",
       " 0.7693232297897339,\n",
       " 0.6709631681442261,\n",
       " 0.8438820838928223,\n",
       " 0.6473685503005981,\n",
       " 0.12924261391162872]"
      ]
     },
     "execution_count": 36,
     "metadata": {},
     "output_type": "execute_result"
    }
   ],
   "source": [
    "net.propagate_to(\"hidden1\", [[1], [1]])"
   ]
  },
  {
   "cell_type": "code",
   "execution_count": 37,
   "metadata": {},
   "outputs": [
    {
     "name": "stdout",
     "output_type": "stream",
     "text": [
      "Testing on training dataset...\n",
      "# | inputs | targets | outputs | result\n",
      "---------------------------------------\n",
      "0 | [[0.0], [0.0]] | [ 0.  0.] | [ 0.02752927  0.0273406 ] | correct\n",
      "1 | [[0.0], [1.0]] | [ 1.  1.] | [ 0.96860015  0.97040695] | correct\n",
      "2 | [[1.0], [0.0]] | [ 1.  1.] | [ 0.97567117  0.97366613] | correct\n",
      "3 | [[1.0], [1.0]] | [ 0.  0.] | [ 0.0262641   0.02651409] | correct\n",
      "Total count: 4\n",
      "Total percentage correct: 1.0\n"
     ]
    }
   ],
   "source": [
    "net.test()"
   ]
  },
  {
   "cell_type": "code",
   "execution_count": 38,
   "metadata": {},
   "outputs": [
    {
     "name": "stdout",
     "output_type": "stream",
     "text": [
      "Slicing dataset 0:2...\n",
      "Input Summary:\n",
      "   length  : 2\n",
      "   training: 2\n",
      "   testing : 0\n",
      "   shape  : [(1,), (1,)]\n",
      "   range  : (0.0, 1.0)\n",
      "Target Summary:\n",
      "   length  : 2\n",
      "   training: 2\n",
      "   testing : 0\n",
      "   shape  : [(1,), (1,)]\n",
      "   range  : (0.0, 1.0)\n"
     ]
    }
   ],
   "source": [
    "net.slice_dataset(2)"
   ]
  },
  {
   "cell_type": "code",
   "execution_count": 39,
   "metadata": {},
   "outputs": [
    {
     "name": "stdout",
     "output_type": "stream",
     "text": [
      "Training...\n",
      "========================================================================\n",
      "Epoch # 2002 | train error 0.00168 | train accuracy 2.00000 | validate% 1.00000\n"
     ]
    }
   ],
   "source": [
    "net.train(epochs=2000, accuracy=1.0, report_rate=25)"
   ]
  },
  {
   "cell_type": "markdown",
   "metadata": {},
   "source": [
    "# Conx model is a Keras Model"
   ]
  },
  {
   "cell_type": "code",
   "execution_count": 40,
   "metadata": {
    "collapsed": true
   },
   "outputs": [],
   "source": [
    "from keras.utils.vis_utils import model_to_dot\n",
    "from IPython.display import HTML"
   ]
  },
  {
   "cell_type": "code",
   "execution_count": 41,
   "metadata": {
    "collapsed": true
   },
   "outputs": [],
   "source": [
    "dot = model_to_dot(net.model, rankdir=\"BT\")"
   ]
  },
  {
   "cell_type": "code",
   "execution_count": 42,
   "metadata": {},
   "outputs": [
    {
     "data": {
      "text/html": [
       "<?xml version=\"1.0\" encoding=\"UTF-8\" standalone=\"no\"?>\n",
       "<!DOCTYPE svg PUBLIC \"-//W3C//DTD SVG 1.1//EN\"\n",
       " \"http://www.w3.org/Graphics/SVG/1.1/DTD/svg11.dtd\">\n",
       "<!-- Generated by graphviz version 2.38.0 (20140413.2041)\n",
       " -->\n",
       "<!-- Title: G Pages: 1 -->\n",
       "<svg width=\"264pt\" height=\"337pt\"\n",
       " viewBox=\"0.00 0.00 264.00 337.00\" xmlns=\"http://www.w3.org/2000/svg\" xmlns:xlink=\"http://www.w3.org/1999/xlink\">\n",
       "<g id=\"graph0\" class=\"graph\" transform=\"scale(1 1) rotate(0) translate(4 333)\">\n",
       "<title>G</title>\n",
       "<polygon fill=\"white\" stroke=\"none\" points=\"-4,4 -4,-333 260,-333 260,4 -4,4\"/>\n",
       "<!-- 140621354335704 -->\n",
       "<g id=\"node1\" class=\"node\"><title>140621354335704</title>\n",
       "<polygon fill=\"none\" stroke=\"black\" points=\"0,-0.5 0,-36.5 119,-36.5 119,-0.5 0,-0.5\"/>\n",
       "<text text-anchor=\"middle\" x=\"59.5\" y=\"-14.8\" font-family=\"Times,serif\" font-size=\"14.00\">input1: InputLayer</text>\n",
       "</g>\n",
       "<!-- 140621354706312 -->\n",
       "<g id=\"node3\" class=\"node\"><title>140621354706312</title>\n",
       "<polygon fill=\"none\" stroke=\"black\" points=\"13,-73.5 13,-109.5 114,-109.5 114,-73.5 13,-73.5\"/>\n",
       "<text text-anchor=\"middle\" x=\"63.5\" y=\"-87.8\" font-family=\"Times,serif\" font-size=\"14.00\">hidden1: Dense</text>\n",
       "</g>\n",
       "<!-- 140621354335704&#45;&gt;140621354706312 -->\n",
       "<g id=\"edge1\" class=\"edge\"><title>140621354335704&#45;&gt;140621354706312</title>\n",
       "<path fill=\"none\" stroke=\"black\" d=\"M60.4683,-36.6871C60.9203,-44.7105 61.4692,-54.4525 61.975,-63.4309\"/>\n",
       "<polygon fill=\"black\" stroke=\"black\" points=\"58.4836,-63.6839 62.5406,-73.4712 65.4725,-63.2901 58.4836,-63.6839\"/>\n",
       "</g>\n",
       "<!-- 140621354680616 -->\n",
       "<g id=\"node2\" class=\"node\"><title>140621354680616</title>\n",
       "<polygon fill=\"none\" stroke=\"black\" points=\"137,-0.5 137,-36.5 256,-36.5 256,-0.5 137,-0.5\"/>\n",
       "<text text-anchor=\"middle\" x=\"196.5\" y=\"-14.8\" font-family=\"Times,serif\" font-size=\"14.00\">input2: InputLayer</text>\n",
       "</g>\n",
       "<!-- 140621354680896 -->\n",
       "<g id=\"node4\" class=\"node\"><title>140621354680896</title>\n",
       "<polygon fill=\"none\" stroke=\"black\" points=\"141,-73.5 141,-109.5 242,-109.5 242,-73.5 141,-73.5\"/>\n",
       "<text text-anchor=\"middle\" x=\"191.5\" y=\"-87.8\" font-family=\"Times,serif\" font-size=\"14.00\">hidden2: Dense</text>\n",
       "</g>\n",
       "<!-- 140621354680616&#45;&gt;140621354680896 -->\n",
       "<g id=\"edge2\" class=\"edge\"><title>140621354680616&#45;&gt;140621354680896</title>\n",
       "<path fill=\"none\" stroke=\"black\" d=\"M195.29,-36.6871C194.725,-44.7105 194.039,-54.4525 193.406,-63.4309\"/>\n",
       "<polygon fill=\"black\" stroke=\"black\" points=\"189.91,-63.25 192.699,-73.4712 196.893,-63.7418 189.91,-63.25\"/>\n",
       "</g>\n",
       "<!-- 140621351973048 -->\n",
       "<g id=\"node5\" class=\"node\"><title>140621351973048</title>\n",
       "<polygon fill=\"none\" stroke=\"black\" points=\"43.5,-146.5 43.5,-182.5 211.5,-182.5 211.5,-146.5 43.5,-146.5\"/>\n",
       "<text text-anchor=\"middle\" x=\"127.5\" y=\"-160.8\" font-family=\"Times,serif\" font-size=\"14.00\">concatenate_3: Concatenate</text>\n",
       "</g>\n",
       "<!-- 140621354706312&#45;&gt;140621351973048 -->\n",
       "<g id=\"edge3\" class=\"edge\"><title>140621354706312&#45;&gt;140621351973048</title>\n",
       "<path fill=\"none\" stroke=\"black\" d=\"M78.9926,-109.687C86.9325,-118.495 96.7394,-129.375 105.453,-139.042\"/>\n",
       "<polygon fill=\"black\" stroke=\"black\" points=\"102.855,-141.387 112.15,-146.471 108.054,-136.7 102.855,-141.387\"/>\n",
       "</g>\n",
       "<!-- 140621354680896&#45;&gt;140621351973048 -->\n",
       "<g id=\"edge4\" class=\"edge\"><title>140621354680896&#45;&gt;140621351973048</title>\n",
       "<path fill=\"none\" stroke=\"black\" d=\"M176.007,-109.687C168.068,-118.495 158.261,-129.375 149.547,-139.042\"/>\n",
       "<polygon fill=\"black\" stroke=\"black\" points=\"146.946,-136.7 142.85,-146.471 152.145,-141.387 146.946,-136.7\"/>\n",
       "</g>\n",
       "<!-- 140621354705808 -->\n",
       "<g id=\"node6\" class=\"node\"><title>140621354705808</title>\n",
       "<polygon fill=\"none\" stroke=\"black\" points=\"60.5,-219.5 60.5,-255.5 194.5,-255.5 194.5,-219.5 60.5,-219.5\"/>\n",
       "<text text-anchor=\"middle\" x=\"127.5\" y=\"-233.8\" font-family=\"Times,serif\" font-size=\"14.00\">shared&#45;hidden: Dense</text>\n",
       "</g>\n",
       "<!-- 140621351973048&#45;&gt;140621354705808 -->\n",
       "<g id=\"edge5\" class=\"edge\"><title>140621351973048&#45;&gt;140621354705808</title>\n",
       "<path fill=\"none\" stroke=\"black\" d=\"M127.5,-182.687C127.5,-190.711 127.5,-200.453 127.5,-209.431\"/>\n",
       "<polygon fill=\"black\" stroke=\"black\" points=\"124,-209.471 127.5,-219.471 131,-209.471 124,-209.471\"/>\n",
       "</g>\n",
       "<!-- 140621354683080 -->\n",
       "<g id=\"node7\" class=\"node\"><title>140621354683080</title>\n",
       "<polygon fill=\"none\" stroke=\"black\" points=\"20,-292.5 20,-328.5 119,-328.5 119,-292.5 20,-292.5\"/>\n",
       "<text text-anchor=\"middle\" x=\"69.5\" y=\"-306.8\" font-family=\"Times,serif\" font-size=\"14.00\">output1: Dense</text>\n",
       "</g>\n",
       "<!-- 140621354705808&#45;&gt;140621354683080 -->\n",
       "<g id=\"edge6\" class=\"edge\"><title>140621354705808&#45;&gt;140621354683080</title>\n",
       "<path fill=\"none\" stroke=\"black\" d=\"M113.46,-255.687C106.407,-264.321 97.7281,-274.945 89.9504,-284.466\"/>\n",
       "<polygon fill=\"black\" stroke=\"black\" points=\"87.0268,-282.512 83.4109,-292.471 92.4479,-286.941 87.0268,-282.512\"/>\n",
       "</g>\n",
       "<!-- 140621351973552 -->\n",
       "<g id=\"node8\" class=\"node\"><title>140621351973552</title>\n",
       "<polygon fill=\"none\" stroke=\"black\" points=\"137,-292.5 137,-328.5 236,-328.5 236,-292.5 137,-292.5\"/>\n",
       "<text text-anchor=\"middle\" x=\"186.5\" y=\"-306.8\" font-family=\"Times,serif\" font-size=\"14.00\">output2: Dense</text>\n",
       "</g>\n",
       "<!-- 140621354705808&#45;&gt;140621351973552 -->\n",
       "<g id=\"edge7\" class=\"edge\"><title>140621354705808&#45;&gt;140621351973552</title>\n",
       "<path fill=\"none\" stroke=\"black\" d=\"M141.782,-255.687C149.029,-264.408 157.964,-275.16 165.936,-284.754\"/>\n",
       "<polygon fill=\"black\" stroke=\"black\" points=\"163.266,-287.017 172.349,-292.471 168.65,-282.543 163.266,-287.017\"/>\n",
       "</g>\n",
       "</g>\n",
       "</svg>\n"
      ],
      "text/plain": [
       "<IPython.core.display.HTML object>"
      ]
     },
     "execution_count": 42,
     "metadata": {},
     "output_type": "execute_result"
    }
   ],
   "source": [
    "HTML(dot.create_svg().decode())"
   ]
  },
  {
   "cell_type": "code",
   "execution_count": null,
   "metadata": {
    "collapsed": true
   },
   "outputs": [],
   "source": []
  }
 ],
 "metadata": {
  "kernelspec": {
   "display_name": "Python 3",
   "language": "python",
   "name": "python3"
  },
  "language_info": {
   "codemirror_mode": {
    "name": "ipython",
    "version": 3
   },
   "file_extension": ".py",
   "mimetype": "text/x-python",
   "name": "python",
   "nbconvert_exporter": "python",
   "pygments_lexer": "ipython3",
   "version": "3.5.3"
  },
  "widgets": {
   "application/vnd.jupyter.widget-state+json": {
    "state": {
     "0010423e28de4b03aeba01a30286bb4e": {
      "model_module": "jupyter-js-widgets",
      "model_module_version": "~2.1.4",
      "model_name": "LayoutModel",
      "state": {
       "_model_module_version": "~2.1.4",
       "_view_module_version": "~2.1.4",
       "width": "100%"
      }
     },
     "001d53b0263f4a9e8b6ec7f052895ae9": {
      "model_module": "jupyter-js-widgets",
      "model_module_version": "~2.1.4",
      "model_name": "VBoxModel",
      "state": {
       "_model_module_version": "~2.1.4",
       "_view_module_version": "~2.1.4",
       "layout": "IPY_MODEL_b011cd6a7e2f4dbdb649959c4cec63ed"
      }
     },
     "00746cbd76bd44c4be98356ff76d5ec4": {
      "model_module": "jupyter-js-widgets",
      "model_module_version": "~2.1.4",
      "model_name": "ButtonStyleModel",
      "state": {
       "_model_module_version": "~2.1.4",
       "_view_module_version": "~2.1.4"
      }
     },
     "00e4e65970df4945970bddaf0e79f6b8": {
      "model_module": "jupyter-js-widgets",
      "model_module_version": "~2.1.4",
      "model_name": "ButtonStyleModel",
      "state": {
       "_model_module_version": "~2.1.4",
       "_view_module_version": "~2.1.4"
      }
     },
     "015fef175ed541219f8327bc9e7be02f": {
      "model_module": "jupyter-js-widgets",
      "model_module_version": "~2.1.4",
      "model_name": "VBoxModel",
      "state": {
       "_model_module_version": "~2.1.4",
       "_view_module_version": "~2.1.4",
       "layout": "IPY_MODEL_66938692b7c64a1b9f401e490fb2d0c2"
      }
     },
     "01bf682255c84898aa89c86c3eb776e8": {
      "model_module": "jupyter-js-widgets",
      "model_module_version": "~2.1.4",
      "model_name": "VBoxModel",
      "state": {
       "_model_module_version": "~2.1.4",
       "_view_module_version": "~2.1.4",
       "children": [
        "IPY_MODEL_0c35c863b89642cbb0a5c5e1a0fd88bb",
        "IPY_MODEL_b41c30918c674af0ac96deb83eaddd47",
        "IPY_MODEL_f3c959215f144e96b1f1e9f6b0b88628"
       ],
       "layout": "IPY_MODEL_d1a2d7aad71741d1a96390c0044477ba"
      }
     },
     "01ea4c288c86483cbb86c1bf66f0c2ff": {
      "model_module": "jupyter-js-widgets",
      "model_module_version": "~2.1.4",
      "model_name": "VBoxModel",
      "state": {
       "_model_module_version": "~2.1.4",
       "_view_module_version": "~2.1.4",
       "children": [
        "IPY_MODEL_41654bd1806946d390690cbd2077e12f"
       ],
       "layout": "IPY_MODEL_464ce2dfdb7647ea8979ecb1a5e6db63"
      }
     },
     "0223d49834fc4b80a0e7175c074ffe2d": {
      "model_module": "jupyter-js-widgets",
      "model_module_version": "~2.1.4",
      "model_name": "LayoutModel",
      "state": {
       "_model_module_version": "~2.1.4",
       "_view_module_version": "~2.1.4"
      }
     },
     "02b16e8df9c74d33a8c775e25eeeb21c": {
      "model_module": "jupyter-js-widgets",
      "model_module_version": "~2.1.4",
      "model_name": "LayoutModel",
      "state": {
       "_model_module_version": "~2.1.4",
       "_view_module_version": "~2.1.4"
      }
     },
     "031827130abb402f9269dfaf6823de84": {
      "model_module": "jupyter-js-widgets",
      "model_module_version": "~2.1.4",
      "model_name": "ButtonModel",
      "state": {
       "_model_module_version": "~2.1.4",
       "_view_module_version": "~2.1.4",
       "icon": "forward",
       "layout": "IPY_MODEL_9598aaf268e34e3b948c5f2f08f0d831",
       "style": "IPY_MODEL_ba87d0c82588478fa32880ae7baed770"
      }
     },
     "0328bbe2b29349bd8d7fc13adfa4aa84": {
      "model_module": "jupyter-js-widgets",
      "model_module_version": "~2.1.4",
      "model_name": "ButtonStyleModel",
      "state": {
       "_model_module_version": "~2.1.4",
       "_view_module_version": "~2.1.4"
      }
     },
     "0393e442eded4304ad45d4e4d7c79848": {
      "model_module": "jupyter-js-widgets",
      "model_module_version": "~2.1.4",
      "model_name": "TabModel",
      "state": {
       "_model_module_version": "~2.1.4",
       "_titles": {
        "0": "Network",
        "1": "Graphs",
        "2": "Analysis",
        "3": "Camera",
        "4": "Help"
       },
       "_view_module_version": "~2.1.4",
       "children": [
        "IPY_MODEL_1adc9169d3104594b3eef9d638c6d211",
        "IPY_MODEL_93a2430522b8427480de2d62f9ded638",
        "IPY_MODEL_cecb956b63ac4585865d26aa8db18a7e",
        "IPY_MODEL_51f0ff08f2c54ed3859ca81518c139b2",
        "IPY_MODEL_414930c12b014165bc874791a3c228db"
       ],
       "layout": "IPY_MODEL_49c6d8d7fd2c4cf89f614bd9f78e8f3d"
      }
     },
     "03c76a8843f24f81bc3856c3af94ebe3": {
      "model_module": "jupyter-js-widgets",
      "model_module_version": "~2.1.4",
      "model_name": "LayoutModel",
      "state": {
       "_model_module_version": "~2.1.4",
       "_view_module_version": "~2.1.4"
      }
     },
     "0483e3391249457091b56b7c79e69531": {
      "model_module": "jupyter-js-widgets",
      "model_module_version": "~2.1.4",
      "model_name": "ButtonStyleModel",
      "state": {
       "_model_module_version": "~2.1.4",
       "_view_module_version": "~2.1.4"
      }
     },
     "0499577633b945c3801d9cf801d664c5": {
      "model_module": "jupyter-js-widgets",
      "model_module_version": "~2.1.4",
      "model_name": "ButtonModel",
      "state": {
       "_model_module_version": "~2.1.4",
       "_view_module_version": "~2.1.4",
       "icon": "backward",
       "layout": "IPY_MODEL_94f2503b175543a0a13277509fc57957",
       "style": "IPY_MODEL_21506d43cfde461bb67bc8cc9e811c5d"
      }
     },
     "0534ace1a3b542beb536490273f77c81": {
      "model_module": "jupyter-js-widgets",
      "model_module_version": "~2.1.4",
      "model_name": "LayoutModel",
      "state": {
       "_model_module_version": "~2.1.4",
       "_view_module_version": "~2.1.4",
       "width": "100%"
      }
     },
     "058c865a2c2245dc811517f4bfdd058b": {
      "model_module": "jupyter-js-widgets",
      "model_module_version": "~2.1.4",
      "model_name": "HTMLModel",
      "state": {
       "_model_module_version": "~2.1.4",
       "_view_module_version": "~2.1.4",
       "layout": "IPY_MODEL_150df5b42df944dd8dace3184c3036cc",
       "value": "\n        <svg id='XOR2' xmlns='http://www.w3.org/2000/svg' width=\"450\" height=\"615\" image-rendering=\"pixelated\">\n    <defs>\n        <marker id=\"arrow\" markerWidth=\"10\" markerHeight=\"10\" refX=\"9\" refY=\"3\" orient=\"auto\" markerUnits=\"strokeWidth\">\n          <path d=\"M0,0 L0,6 L9,3 z\" fill=\"blue\" />\n        </marker>\n    </defs>\n<rect x=\"49.0\" y=\"24\" width=\"102\" height=\"102\" style=\"fill:none;stroke:blue;stroke-width:2\"/><image id=\"XOR2_output1_targets_1\" class=\"XOR2_output1_targets\" x=\"50.0\" y=\"25\" height=\"100\" width=\"100\" preserveAspectRatio=\"none\" href=\"data:image/gif;base64,R0lGODdhAQABAIAAAG5ubgAAACwAAAAAAQABAAAIBQABAAgIADs=\"><title>Layer: output1 (output)\n shape = (1,)\n Keras class = Dense\n activation = sigmoid</title></image><text x=\"155.0\" y=\"77.0\" font-family=\"monospace\" font-size=\"12\">targets</text><rect x=\"124.0\" y=\"24\" width=\"52\" height=\"52\" style=\"fill:none;stroke:blue;stroke-width:2\"/><image id=\"XOR2_output2_targets_1\" class=\"XOR2_output2_targets\" x=\"125.0\" y=\"25\" height=\"50\" width=\"50\" preserveAspectRatio=\"none\" href=\"data:image/gif;base64,R0lGODdhAQABAIAAAKCgoAAAACwAAAAAAQABAAAIBQAB7AgIADs=\"><title>Layer: output2 (output)\n shape = (1,)\n Keras class = Dense\n activation = sigmoid</title></image><text x=\"180.0\" y=\"52.0\" font-family=\"monospace\" font-size=\"12\">targets</text><rect x=\"49.0\" y=\"134\" width=\"102\" height=\"102\" style=\"fill:none;stroke:blue;stroke-width:2\"/><image id=\"XOR2_output1_errors_1\" class=\"XOR2_output1_errors\" x=\"50.0\" y=\"135\" height=\"100\" width=\"100\" preserveAspectRatio=\"none\" href=\"data:image/gif;base64,R0lGODdhAQABAIAAAG5ubgAAACwAAAAAAQABAAAIBQAB7AgIADs=\"><title>Layer: output1 (output)\n shape = (1,)\n Keras class = Dense\n activation = sigmoid</title></image><text x=\"155.0\" y=\"187.0\" font-family=\"monospace\" font-size=\"12\">errors</text><rect x=\"124.0\" y=\"134\" width=\"52\" height=\"52\" style=\"fill:none;stroke:blue;stroke-width:2\"/><image id=\"XOR2_output2_errors_1\" class=\"XOR2_output2_errors\" x=\"125.0\" y=\"135\" height=\"50\" width=\"50\" preserveAspectRatio=\"none\" href=\"data:image/gif;base64,R0lGODdhAQABAIAAAKCgoAAAACwAAAAAAQABAAAIBQAB7AgIADs=\"><title>Layer: output2 (output)\n shape = (1,)\n Keras class = Dense\n activation = sigmoid</title></image><text x=\"180.0\" y=\"162.0\" font-family=\"monospace\" font-size=\"12\">errors</text><rect x=\"49.0\" y=\"249\" width=\"102\" height=\"102\" style=\"fill:none;stroke:blue;stroke-width:2\"/><image id=\"XOR2_output1_1\" class=\"XOR2_output1\" x=\"50.0\" y=\"250\" height=\"100\" width=\"100\" preserveAspectRatio=\"none\" href=\"data:image/gif;base64,R0lGODdhAQABAIAAAG5ubgAAACwAAAAAAQABAAAIBQAB7AgIADs=\"><title>Layer: output1 (output)\n shape = (1,)\n Keras class = Dense\n activation = sigmoid</title></image><text x=\"155.0\" y=\"302.0\" font-family=\"monospace\" font-size=\"12\">output1</text><rect x=\"124.0\" y=\"249\" width=\"52\" height=\"52\" style=\"fill:none;stroke:blue;stroke-width:2\"/><image id=\"XOR2_output2_2\" class=\"XOR2_output2\" x=\"125.0\" y=\"250\" height=\"50\" width=\"50\" preserveAspectRatio=\"none\" href=\"data:image/gif;base64,R0lGODdhAQABAIAAAKCgoAAAACwAAAAAAQABAAAIBQAB7AgIADs=\"><title>Layer: output2 (output)\n shape = (1,)\n Keras class = Dense\n activation = sigmoid</title></image><text x=\"180.0\" y=\"277.0\" font-family=\"monospace\" font-size=\"12\">output2</text><rect x=\"100.0\" y=\"352\" width=\"100.0\" height=\"27\" style=\"fill:white;stroke:none\"><title>Weights from shared-hidden to output1\n output1/kernel:0 has shape (5, 1)\n output1/bias:0 has shape (1,)</title></rect><rect x=\"150.0\" y=\"302\" width=\"50.0\" height=\"77\" style=\"fill:white;stroke:none\"><title>Weights from shared-hidden to output2\n output2/kernel:0 has shape (5, 1)\n output2/bias:0 has shape (1,)</title></rect><line x1=\"200.0\" y1=\"379\" x2=\"100.0\" y2=\"352\" stroke=\"blue\" stroke-width=\"2\" marker-end=\"url(#arrow)\"><title>Weights from shared-hidden to output1\n output1/kernel:0 has shape (5, 1)\n output1/bias:0 has shape (1,)</title></line><line x1=\"200.0\" y1=\"379\" x2=\"150.0\" y2=\"302\" stroke=\"blue\" stroke-width=\"2\" marker-end=\"url(#arrow)\"><title>Weights from shared-hidden to output2\n output2/kernel:0 has shape (5, 1)\n output2/bias:0 has shape (1,)</title></line><rect x=\"174.0\" y=\"379\" width=\"52\" height=\"27\" style=\"fill:none;stroke:blue;stroke-width:2\"/><image id=\"XOR2_shared-hidden_3\" class=\"XOR2_shared-hidden\" x=\"175.0\" y=\"380\" height=\"25\" width=\"50\" preserveAspectRatio=\"none\" href=\"data:image/gif;base64,R0lGODdhBQABAIIAAHFxcYCAgIODg5CQkMrKygAAAAAAAAAAACwAAAAABQABAAAICAAHBBAAgEBAADs=\"><title>Layer: shared-hidden (hidden)\n shape = (5,)\n Keras class = Dense\n activation = sigmoid</title></image><text x=\"230.0\" y=\"394.5\" font-family=\"monospace\" font-size=\"12\">shared-hidden</text><rect x=\"116.66666666666667\" y=\"407\" width=\"83.33333333333333\" height=\"27\" style=\"fill:white;stroke:none\"><title>Weights from hidden1 to shared-hidden\n shared-hidden/kernel:0 has shape (20, 5)\n shared-hidden/bias:0 has shape (5,)</title></rect><line x1=\"116.66666666666667\" y1=\"434\" x2=\"200.0\" y2=\"407\" stroke=\"blue\" stroke-width=\"2\" marker-end=\"url(#arrow)\"><title>Weights from hidden1 to shared-hidden\n shared-hidden/kernel:0 has shape (20, 5)\n shared-hidden/bias:0 has shape (5,)</title></line><rect x=\"90.66666666666667\" y=\"434\" width=\"52\" height=\"27\" style=\"fill:none;stroke:blue;stroke-width:2\"/><image id=\"XOR2_hidden1_4\" class=\"XOR2_hidden1\" x=\"91.66666666666667\" y=\"435\" height=\"25\" width=\"50\" preserveAspectRatio=\"none\" href=\"data:image/gif;base64,R0lGODdhCgABAIAAAH9/fwAAACwAAAAACgABAAAIBwABCBxIMCAAOw==\"><title>Layer: hidden1 (hidden)\n shape = (10,)\n Keras class = Dense\n activation = sigmoid</title></image><text x=\"146.66666666666669\" y=\"449.5\" font-family=\"monospace\" font-size=\"12\">hidden1</text><rect x=\"190.0\" y=\"407\" width=\"28.333333333333343\" height=\"27\" style=\"fill:white;stroke:none\"><title>Weights from hidden2 to shared-hidden\n shared-hidden/kernel:0 has shape (20, 5)\n shared-hidden/bias:0 has shape (5,)</title></rect><line x1=\"208.33333333333334\" y1=\"434\" x2=\"200.0\" y2=\"407\" stroke=\"blue\" stroke-width=\"2\" marker-end=\"url(#arrow)\"><title>Weights from hidden2 to shared-hidden\n shared-hidden/kernel:0 has shape (20, 5)\n shared-hidden/bias:0 has shape (5,)</title></line><rect x=\"182.33333333333334\" y=\"434\" width=\"52\" height=\"27\" style=\"fill:none;stroke:blue;stroke-width:2\"/><image id=\"XOR2_hidden2_5\" class=\"XOR2_hidden2\" x=\"183.33333333333334\" y=\"435\" height=\"25\" width=\"50\" preserveAspectRatio=\"none\" href=\"data:image/gif;base64,R0lGODdhCgABAIAAAH9/fwAAACwAAAAACgABAAAIBwABCBxIMCAAOw==\"><title>Layer: hidden2 (hidden)\n shape = (10,)\n Keras class = Dense\n activation = sigmoid</title></image><text x=\"238.33333333333334\" y=\"449.5\" font-family=\"monospace\" font-size=\"12\">hidden2</text><rect x=\"90.0\" y=\"462\" width=\"36.66666666666667\" height=\"27\" style=\"fill:white;stroke:none\"><title>Weights from input1 to hidden1\n hidden1/kernel:0 has shape (1, 10)\n hidden1/bias:0 has shape (10,)</title></rect><line x1=\"100.0\" y1=\"489\" x2=\"116.66666666666667\" y2=\"462\" stroke=\"blue\" stroke-width=\"2\" marker-end=\"url(#arrow)\"><title>Weights from input1 to hidden1\n hidden1/kernel:0 has shape (1, 10)\n hidden1/bias:0 has shape (10,)</title></line><rect x=\"49.0\" y=\"489\" width=\"102\" height=\"102\" style=\"fill:none;stroke:blue;stroke-width:2\"/><image id=\"XOR2_input1_6\" class=\"XOR2_input1\" x=\"50.0\" y=\"490\" height=\"100\" width=\"100\" preserveAspectRatio=\"none\" href=\"data:image/gif;base64,R0lGODdhAQABAIAAAH9/fwAAACwAAAAAAQABAAAIBQAB7AgIADs=\"><title>Layer: input1 (input)\n shape = (1,)\n Keras class = Input</title></image><text x=\"155.0\" y=\"542.0\" font-family=\"monospace\" font-size=\"12\">input1</text><rect x=\"150.0\" y=\"462\" width=\"58.33333333333334\" height=\"27\" style=\"fill:white;stroke:none\"><title>Weights from input2 to hidden2\n hidden2/kernel:0 has shape (1, 10)\n hidden2/bias:0 has shape (10,)</title></rect><line x1=\"150.0\" y1=\"489\" x2=\"208.33333333333334\" y2=\"462\" stroke=\"blue\" stroke-width=\"2\" marker-end=\"url(#arrow)\"><title>Weights from input2 to hidden2\n hidden2/kernel:0 has shape (1, 10)\n hidden2/bias:0 has shape (10,)</title></line><rect x=\"124.0\" y=\"489\" width=\"52\" height=\"52\" style=\"fill:none;stroke:blue;stroke-width:2\"/><image id=\"XOR2_input2_7\" class=\"XOR2_input2\" x=\"125.0\" y=\"490\" height=\"50\" width=\"50\" preserveAspectRatio=\"none\" href=\"data:image/gif;base64,R0lGODdhAQABAIAAAH9/fwAAACwAAAAAAQABAAAIBQAB7AgIADs=\"><title>Layer: input2 (input)\n shape = (1,)\n Keras class = Input</title></image><text x=\"180.0\" y=\"517.0\" font-family=\"monospace\" font-size=\"12\">input2</text></svg>"
      }
     },
     "05b72144aa3747baa67fa83b676d3e5d": {
      "model_module": "jupyter-js-widgets",
      "model_module_version": "~2.1.4",
      "model_name": "LayoutModel",
      "state": {
       "_model_module_version": "~2.1.4",
       "_view_module_version": "~2.1.4"
      }
     },
     "05da83f8a3f84478b175c8e2416e7aa0": {
      "model_module": "jupyter-js-widgets",
      "model_module_version": "~2.1.4",
      "model_name": "ButtonModel",
      "state": {
       "_model_module_version": "~2.1.4",
       "_view_module_version": "~2.1.4",
       "description": "Turn on webcamera",
       "layout": "IPY_MODEL_cc1d0e87c1ff40308ac51949956969bf",
       "style": "IPY_MODEL_f769de8dbc9d482d87c8b8b1c0507638"
      }
     },
     "062e6cbe89964aecb578e94bf7fc57f6": {
      "model_module": "jupyter-js-widgets",
      "model_module_version": "~2.1.4",
      "model_name": "VBoxModel",
      "state": {
       "_model_module_version": "~2.1.4",
       "_view_module_version": "~2.1.4",
       "children": [
        "IPY_MODEL_c31fc6e101b345759f02633c8fa942f5",
        "IPY_MODEL_5eb5d6a2d9374b508d2f6b1569459890"
       ],
       "layout": "IPY_MODEL_4d9dec6ff69b48c18cbf3197150adf62"
      }
     },
     "06b4286b818c4cbcabcb220dd628aeea": {
      "model_module": "jupyter-js-widgets",
      "model_module_version": "~2.1.4",
      "model_name": "HTMLModel",
      "state": {
       "_model_module_version": "~2.1.4",
       "_view_module_version": "~2.1.4",
       "layout": "IPY_MODEL_0e80100219c64d21b71d2b7b179f4002",
       "value": "\n        <svg id='XOR2' xmlns='http://www.w3.org/2000/svg' width=\"450\" height=\"615\" image-rendering=\"pixelated\">\n    <defs>\n        <marker id=\"arrow\" markerWidth=\"10\" markerHeight=\"10\" refX=\"9\" refY=\"3\" orient=\"auto\" markerUnits=\"strokeWidth\">\n          <path d=\"M0,0 L0,6 L9,3 z\" fill=\"blue\" />\n        </marker>\n    </defs>\n<rect x=\"99.0\" y=\"24\" width=\"102\" height=\"102\" style=\"fill:none;stroke:blue;stroke-width:2\"/><image id=\"XOR2_output1_targets_1\" class=\"XOR2_output1_targets\" x=\"100.0\" y=\"25\" height=\"100\" width=\"100\" preserveAspectRatio=\"none\" href=\"data:image/gif;base64,R0lGODdhAQABAIAAAH5+fgAAACwAAAAAAQABAAAIBQAB2AgIADs=\"><title>Layer: output1 (output)\n shape = (1,)\n Keras class = Dense\n activation = sigmoid</title></image><text x=\"205.0\" y=\"77.0\" font-family=\"monospace\" font-size=\"12\">targets</text><rect x=\"274.0\" y=\"24\" width=\"52\" height=\"52\" style=\"fill:none;stroke:blue;stroke-width:2\"/><image id=\"XOR2_output2_targets_1\" class=\"XOR2_output2_targets\" x=\"275.0\" y=\"25\" height=\"50\" width=\"50\" preserveAspectRatio=\"none\" href=\"data:image/gif;base64,R0lGODdhAQABAIAAALKysgAAACwAAAAAAQABAAAIBQABrAoIADs=\"><title>Layer: output2 (output)\n shape = (1,)\n Keras class = Dense\n activation = sigmoid</title></image><text x=\"330.0\" y=\"52.0\" font-family=\"monospace\" font-size=\"12\">targets</text><rect x=\"99.0\" y=\"134\" width=\"102\" height=\"102\" style=\"fill:none;stroke:blue;stroke-width:2\"/><image id=\"XOR2_output1_errors_1\" class=\"XOR2_output1_errors\" x=\"100.0\" y=\"135\" height=\"100\" width=\"100\" preserveAspectRatio=\"none\" href=\"data:image/gif;base64,R0lGODdhAQABAIAAAH5+fgAAACwAAAAAAQABAAAIBQABrAoIADs=\"><title>Layer: output1 (output)\n shape = (1,)\n Keras class = Dense\n activation = sigmoid</title></image><text x=\"205.0\" y=\"187.0\" font-family=\"monospace\" font-size=\"12\">errors</text><rect x=\"274.0\" y=\"134\" width=\"52\" height=\"52\" style=\"fill:none;stroke:blue;stroke-width:2\"/><image id=\"XOR2_output2_errors_1\" class=\"XOR2_output2_errors\" x=\"275.0\" y=\"135\" height=\"50\" width=\"50\" preserveAspectRatio=\"none\" href=\"data:image/gif;base64,R0lGODdhAQABAIAAALKysgAAACwAAAAAAQABAAAIBQABrAoIADs=\"><title>Layer: output2 (output)\n shape = (1,)\n Keras class = Dense\n activation = sigmoid</title></image><text x=\"330.0\" y=\"162.0\" font-family=\"monospace\" font-size=\"12\">errors</text><rect x=\"99.0\" y=\"249\" width=\"102\" height=\"102\" style=\"fill:none;stroke:blue;stroke-width:2\"/><image id=\"XOR2_output1_1\" class=\"XOR2_output1\" x=\"100.0\" y=\"250\" height=\"100\" width=\"100\" preserveAspectRatio=\"none\" href=\"data:image/gif;base64,R0lGODdhAQABAIAAAH5+fgAAACwAAAAAAQABAAAIBQABrAoIADs=\"><title>Layer: output1 (output)\n shape = (1,)\n Keras class = Dense\n activation = sigmoid</title></image><text x=\"205.0\" y=\"302.0\" font-family=\"monospace\" font-size=\"12\">output1</text><rect x=\"274.0\" y=\"249\" width=\"52\" height=\"52\" style=\"fill:none;stroke:blue;stroke-width:2\"/><image id=\"XOR2_output2_2\" class=\"XOR2_output2\" x=\"275.0\" y=\"250\" height=\"50\" width=\"50\" preserveAspectRatio=\"none\" href=\"data:image/gif;base64,R0lGODdhAQABAIAAALKysgAAACwAAAAAAQABAAAIBQABrAoIADs=\"><title>Layer: output2 (output)\n shape = (1,)\n Keras class = Dense\n activation = sigmoid</title></image><text x=\"330.0\" y=\"277.0\" font-family=\"monospace\" font-size=\"12\">output2</text><rect x=\"140.0\" y=\"352\" width=\"20.0\" height=\"27\" style=\"fill:white;stroke:none\"><title>Weights from shared-hidden to output1\n output1/kernel has shape (5, 1)\n output1/bias has shape (1,)</title></rect><rect x=\"150.0\" y=\"302\" width=\"150.0\" height=\"77\" style=\"fill:white;stroke:none\"><title>Weights from shared-hidden to output2\n output2/kernel has shape (5, 1)\n output2/bias has shape (1,)</title></rect><line x1=\"150.0\" y1=\"379\" x2=\"150.0\" y2=\"352\" stroke=\"blue\" stroke-width=\"2\" marker-end=\"url(#arrow)\"><title>Weights from shared-hidden to output1\n output1/kernel has shape (5, 1)\n output1/bias has shape (1,)</title></line><line x1=\"150.0\" y1=\"379\" x2=\"300.0\" y2=\"302\" stroke=\"blue\" stroke-width=\"2\" marker-end=\"url(#arrow)\"><title>Weights from shared-hidden to output2\n output2/kernel has shape (5, 1)\n output2/bias has shape (1,)</title></line><rect x=\"124.0\" y=\"379\" width=\"52\" height=\"27\" style=\"fill:none;stroke:blue;stroke-width:2\"/><image id=\"XOR2_shared-hidden_3\" class=\"XOR2_shared-hidden\" x=\"125.0\" y=\"380\" height=\"25\" width=\"50\" preserveAspectRatio=\"none\" href=\"data:image/gif;base64,R0lGODdhBQABAIEAAHd3d4ODg4yMjLi4uCwAAAAABQABAAAICAAFBBAAYEBAADs=\"><title>Layer: shared-hidden (hidden)\n shape = (5,)\n Keras class = Dense\n activation = sigmoid</title></image><text x=\"180.0\" y=\"394.5\" font-family=\"monospace\" font-size=\"12\">shared-hidden</text><rect x=\"140.0\" y=\"407\" width=\"20.0\" height=\"27\" style=\"fill:white;stroke:none\"><title>Weights from hidden1 to shared-hidden\n shared-hidden/kernel has shape (20, 5)\n shared-hidden/bias has shape (5,)</title></rect><line x1=\"150.0\" y1=\"434\" x2=\"150.0\" y2=\"407\" stroke=\"blue\" stroke-width=\"2\" marker-end=\"url(#arrow)\"><title>Weights from hidden1 to shared-hidden\n shared-hidden/kernel has shape (20, 5)\n shared-hidden/bias has shape (5,)</title></line><rect x=\"124.0\" y=\"434\" width=\"52\" height=\"27\" style=\"fill:none;stroke:blue;stroke-width:2\"/><image id=\"XOR2_hidden1_4\" class=\"XOR2_hidden1\" x=\"125.0\" y=\"435\" height=\"25\" width=\"50\" preserveAspectRatio=\"none\" href=\"data:image/gif;base64,R0lGODdhCgABAIAAAH9/fwAAACwAAAAACgABAAAIBwABCBxIMCAAOw==\"><title>Layer: hidden1 (hidden)\n shape = (10,)\n Keras class = Dense\n activation = sigmoid</title></image><text x=\"180.0\" y=\"449.5\" font-family=\"monospace\" font-size=\"12\">hidden1</text><rect x=\"150.0\" y=\"407\" width=\"150.0\" height=\"27\" style=\"fill:white;stroke:none\"><title>Weights from hidden2 to shared-hidden\n shared-hidden/kernel has shape (20, 5)\n shared-hidden/bias has shape (5,)</title></rect><line x1=\"300.0\" y1=\"434\" x2=\"150.0\" y2=\"407\" stroke=\"blue\" stroke-width=\"2\" marker-end=\"url(#arrow)\"><title>Weights from hidden2 to shared-hidden\n shared-hidden/kernel has shape (20, 5)\n shared-hidden/bias has shape (5,)</title></line><rect x=\"274.0\" y=\"434\" width=\"52\" height=\"27\" style=\"fill:none;stroke:blue;stroke-width:2\"/><image id=\"XOR2_hidden2_5\" class=\"XOR2_hidden2\" x=\"275.0\" y=\"435\" height=\"25\" width=\"50\" preserveAspectRatio=\"none\" href=\"data:image/gif;base64,R0lGODdhCgABAIAAAH9/fwAAACwAAAAACgABAAAIBwABCBxIMCAAOw==\"><title>Layer: hidden2 (hidden)\n shape = (10,)\n Keras class = Dense\n activation = sigmoid</title></image><text x=\"330.0\" y=\"449.5\" font-family=\"monospace\" font-size=\"12\">hidden2</text><rect x=\"140.0\" y=\"462\" width=\"20.0\" height=\"27\" style=\"fill:white;stroke:none\"><title>Weights from input1 to hidden1\n hidden1/kernel has shape (1, 10)\n hidden1/bias has shape (10,)</title></rect><line x1=\"150.0\" y1=\"489\" x2=\"150.0\" y2=\"462\" stroke=\"blue\" stroke-width=\"2\" marker-end=\"url(#arrow)\"><title>Weights from input1 to hidden1\n hidden1/kernel has shape (1, 10)\n hidden1/bias has shape (10,)</title></line><rect x=\"99.0\" y=\"489\" width=\"102\" height=\"102\" style=\"fill:none;stroke:blue;stroke-width:2\"/><image id=\"XOR2_input1_6\" class=\"XOR2_input1\" x=\"100.0\" y=\"490\" height=\"100\" width=\"100\" preserveAspectRatio=\"none\" href=\"data:image/gif;base64,R0lGODdhAQABAIAAAH9/fwAAACwAAAAAAQABAAAIBQABrAoIADs=\"><title>Layer: input1 (input)\n shape = (1,)\n Keras class = Input</title></image><text x=\"205.0\" y=\"542.0\" font-family=\"monospace\" font-size=\"12\">input1</text><rect x=\"290.0\" y=\"462\" width=\"20.0\" height=\"27\" style=\"fill:white;stroke:none\"><title>Weights from input2 to hidden2\n hidden2/kernel has shape (1, 10)\n hidden2/bias has shape (10,)</title></rect><line x1=\"300.0\" y1=\"489\" x2=\"300.0\" y2=\"462\" stroke=\"blue\" stroke-width=\"2\" marker-end=\"url(#arrow)\"><title>Weights from input2 to hidden2\n hidden2/kernel has shape (1, 10)\n hidden2/bias has shape (10,)</title></line><rect x=\"274.0\" y=\"489\" width=\"52\" height=\"52\" style=\"fill:none;stroke:blue;stroke-width:2\"/><image id=\"XOR2_input2_7\" class=\"XOR2_input2\" x=\"275.0\" y=\"490\" height=\"50\" width=\"50\" preserveAspectRatio=\"none\" href=\"data:image/gif;base64,R0lGODdhAQABAIAAAH9/fwAAACwAAAAAAQABAAAIBQABrAoIADs=\"><title>Layer: input2 (input)\n shape = (1,)\n Keras class = Input</title></image><text x=\"330.0\" y=\"517.0\" font-family=\"monospace\" font-size=\"12\">input2</text></svg>"
      }
     },
     "08426ac25b224897aadebc0c386dffb8": {
      "model_module": "jupyter-js-widgets",
      "model_module_version": "~2.1.4",
      "model_name": "LayoutModel",
      "state": {
       "_model_module_version": "~2.1.4",
       "_view_module_version": "~2.1.4"
      }
     },
     "087b46feff724a86b8b7bad06e2d8952": {
      "model_module": "jupyter-js-widgets",
      "model_module_version": "~2.1.4",
      "model_name": "SliderStyleModel",
      "state": {
       "_model_module_version": "~2.1.4",
       "_view_module_version": "~2.1.4"
      }
     },
     "09067e6c87d04ec0ac893260826c9145": {
      "model_module": "jupyter-js-widgets",
      "model_module_version": "~2.1.4",
      "model_name": "ButtonModel",
      "state": {
       "_model_module_version": "~2.1.4",
       "_view_module_version": "~2.1.4",
       "icon": "fast-backward",
       "layout": "IPY_MODEL_6b6b80c65ff5499f9855777c09d59c6e",
       "style": "IPY_MODEL_3bc10550b8964f09a919b7c3d188390f"
      }
     },
     "09806fe79ff14611a0303c3d8d251872": {
      "model_module": "jupyter-js-widgets",
      "model_module_version": "~2.1.4",
      "model_name": "LayoutModel",
      "state": {
       "_model_module_version": "~2.1.4",
       "_view_module_version": "~2.1.4",
       "width": "100%"
      }
     },
     "098c551c55124394b27982f295c769fe": {
      "model_module": "jupyter-js-widgets",
      "model_module_version": "~2.1.4",
      "model_name": "LayoutModel",
      "state": {
       "_model_module_version": "~2.1.4",
       "_view_module_version": "~2.1.4",
       "width": "100%"
      }
     },
     "0a82745ed78f4f50a8c74335a03dc087": {
      "model_module": "jupyter-js-widgets",
      "model_module_version": "~2.1.4",
      "model_name": "VBoxModel",
      "state": {
       "_model_module_version": "~2.1.4",
       "_view_module_version": "~2.1.4",
       "layout": "IPY_MODEL_d5392854b7b3479d9c5430e548c65324"
      }
     },
     "0b62dcd256bc4c2880e458e9ea2fa0ab": {
      "model_module": "jupyter-js-widgets",
      "model_module_version": "~2.1.4",
      "model_name": "ButtonModel",
      "state": {
       "_model_module_version": "~2.1.4",
       "_view_module_version": "~2.1.4",
       "icon": "backward",
       "layout": "IPY_MODEL_b3ea039368614e2cb755af2435ee63bd",
       "style": "IPY_MODEL_77a6cacfbbcf438e87156dd273d4574a"
      }
     },
     "0c2540a441a848c58c4d1d1a07983d70": {
      "model_module": "jupyter-js-widgets",
      "model_module_version": "~2.1.4",
      "model_name": "TabModel",
      "state": {
       "_model_module_version": "~2.1.4",
       "_titles": {
        "0": "Network",
        "1": "Graphs",
        "2": "Analysis",
        "3": "Camera",
        "4": "Help"
       },
       "_view_module_version": "~2.1.4",
       "children": [
        "IPY_MODEL_9b8bb58c7f7a44089b5188ab3f6e14b0",
        "IPY_MODEL_9833e271555c45339d9afbd22f18ef27",
        "IPY_MODEL_7bf842a2ed46474f93e9f77b53b7bcba",
        "IPY_MODEL_22b719d24f614186bd7e3899095ff79f",
        "IPY_MODEL_4409bae3d15d4943bc28982cdffeab3d"
       ],
       "layout": "IPY_MODEL_7a738be1211c463da47bb880222cf972"
      }
     },
     "0c35c863b89642cbb0a5c5e1a0fd88bb": {
      "model_module": "jupyter-js-widgets",
      "model_module_version": "~2.1.4",
      "model_name": "SelectModel",
      "state": {
       "_model_module_version": "~2.1.4",
       "_options_labels": [
        "Test",
        "Train"
       ],
       "_view_module_version": "~2.1.4",
       "description": "Dataset:",
       "layout": "IPY_MODEL_ef4191dc3b7444c2a7db53ec402fdc52",
       "value": "Train"
      }
     },
     "0c851c2ae1aa4c2886bca738aefa446b": {
      "model_module": "jupyter-js-widgets",
      "model_module_version": "~2.1.4",
      "model_name": "ButtonModel",
      "state": {
       "_model_module_version": "~2.1.4",
       "_view_module_version": "~2.1.4",
       "icon": "fast-forward",
       "layout": "IPY_MODEL_87e78addcc00464aab3e657876db3f47",
       "style": "IPY_MODEL_f752ac23718c4079bc76b8f726b85a43"
      }
     },
     "0cb046f7f871406daacc6a0b704d1b64": {
      "model_module": "jupyter-js-widgets",
      "model_module_version": "~2.1.4",
      "model_name": "LayoutModel",
      "state": {
       "_model_module_version": "~2.1.4",
       "_view_module_version": "~2.1.4",
       "width": "100%"
      }
     },
     "0cb829394cbd4df78598f7de22a65459": {
      "model_module": "jupyter-js-widgets",
      "model_module_version": "~2.1.4",
      "model_name": "LayoutModel",
      "state": {
       "_model_module_version": "~2.1.4",
       "_view_module_version": "~2.1.4",
       "width": "100%"
      }
     },
     "0ccaa79342e34113a903e9e6208b79d5": {
      "model_module": "jupyter-js-widgets",
      "model_module_version": "~2.1.4",
      "model_name": "IntSliderModel",
      "state": {
       "_model_module_version": "~2.1.4",
       "_view_module_version": "~2.1.4",
       "continuous_update": false,
       "description": "Dataset index",
       "layout": "IPY_MODEL_ca7349b511e64bcca87b730dea62bddd",
       "max": 0,
       "style": "IPY_MODEL_62a004b7239745dd8fa687e37eb02bdf"
      }
     },
     "0d9f6e1462364b7ebde417a0204adf19": {
      "model_module": "jupyter-js-widgets",
      "model_module_version": "~2.1.4",
      "model_name": "ButtonModel",
      "state": {
       "_model_module_version": "~2.1.4",
       "_view_module_version": "~2.1.4",
       "icon": "fast-forward",
       "layout": "IPY_MODEL_b5409c526fc04060b7b42695bef3c5ce",
       "style": "IPY_MODEL_5be312cbd4f847eb832194a95e7d1322"
      }
     },
     "0dbc259bc66e4deeb20da3fa9ec9abb2": {
      "model_module": "jupyter-js-widgets",
      "model_module_version": "~2.1.4",
      "model_name": "LayoutModel",
      "state": {
       "_model_module_version": "~2.1.4",
       "_view_module_version": "~2.1.4",
       "width": "100%"
      }
     },
     "0e060a51e4d44b82b02e1cf0ae171606": {
      "model_module": "jupyter-js-widgets",
      "model_module_version": "~2.1.4",
      "model_name": "LayoutModel",
      "state": {
       "_model_module_version": "~2.1.4",
       "_view_module_version": "~2.1.4",
       "width": "100%"
      }
     },
     "0e3f22eac7e34504ba952959cd9503db": {
      "model_module": "jupyter-js-widgets",
      "model_module_version": "~2.1.4",
      "model_name": "LayoutModel",
      "state": {
       "_model_module_version": "~2.1.4",
       "_view_module_version": "~2.1.4"
      }
     },
     "0e80100219c64d21b71d2b7b179f4002": {
      "model_module": "jupyter-js-widgets",
      "model_module_version": "~2.1.4",
      "model_name": "LayoutModel",
      "state": {
       "_model_module_version": "~2.1.4",
       "_view_module_version": "~2.1.4",
       "height": "100%",
       "justify_content": "center",
       "max_height": "550px",
       "overflow_x": "auto",
       "width": "100%"
      }
     },
     "0f2976e0269642a296ea848e1305f10a": {
      "model_module": "jupyter-js-widgets",
      "model_module_version": "~2.1.4",
      "model_name": "LayoutModel",
      "state": {
       "_model_module_version": "~2.1.4",
       "_view_module_version": "~2.1.4"
      }
     },
     "0f6cbc94b7064a608f968fe2bdaccc1c": {
      "model_module": "jupyter-js-widgets",
      "model_module_version": "~2.1.4",
      "model_name": "LayoutModel",
      "state": {
       "_model_module_version": "~2.1.4",
       "_view_module_version": "~2.1.4",
       "width": "100%"
      }
     },
     "1008c15f18404f8eb14a8714715f9967": {
      "model_module": "jupyter-js-widgets",
      "model_module_version": "~2.1.4",
      "model_name": "ButtonModel",
      "state": {
       "_model_module_version": "~2.1.4",
       "_view_module_version": "~2.1.4",
       "icon": "fast-forward",
       "layout": "IPY_MODEL_9496e278f2a8451ea3ae581ca6f21573",
       "style": "IPY_MODEL_1fbf34300ca541a09ab33395c87dd96f"
      }
     },
     "10b8d53e3425433a9cf93e09dc0640d9": {
      "model_module": "jupyter-js-widgets",
      "model_module_version": "~2.1.4",
      "model_name": "ButtonStyleModel",
      "state": {
       "_model_module_version": "~2.1.4",
       "_view_module_version": "~2.1.4"
      }
     },
     "10c7f6ee033140eca457474ad7a87adf": {
      "model_module": "jupyter-js-widgets",
      "model_module_version": "~2.1.4",
      "model_name": "ButtonModel",
      "state": {
       "_model_module_version": "~2.1.4",
       "_view_module_version": "~2.1.4",
       "icon": "backward",
       "layout": "IPY_MODEL_5ebe9416d2084a788bd1cd636fd2caf2",
       "style": "IPY_MODEL_542b77fcbf2948c58facff76e83b29c2"
      }
     },
     "1140c4444d234de4ba915b74f6693ced": {
      "model_module": "jupyter-js-widgets",
      "model_module_version": "~2.1.4",
      "model_name": "ButtonModel",
      "state": {
       "_model_module_version": "~2.1.4",
       "_view_module_version": "~2.1.4",
       "icon": "fast-backward",
       "layout": "IPY_MODEL_3d3183cca03246d4ab45264809b33745",
       "style": "IPY_MODEL_9a7e21c620a84841880de34b575a45ed"
      }
     },
     "119f253a5a864d33a75c2e63cd93daac": {
      "model_module": "jupyter-js-widgets",
      "model_module_version": "~2.1.4",
      "model_name": "LayoutModel",
      "state": {
       "_model_module_version": "~2.1.4",
       "_view_module_version": "~2.1.4",
       "width": "100%"
      }
     },
     "11e6ba5f07134f54afb104f9528af729": {
      "model_module": "jupyter-js-widgets",
      "model_module_version": "~2.1.4",
      "model_name": "LayoutModel",
      "state": {
       "_model_module_version": "~2.1.4",
       "_view_module_version": "~2.1.4",
       "height": "100%",
       "justify_content": "center",
       "max_height": "550px",
       "overflow_x": "auto",
       "width": "100%"
      }
     },
     "14102831fcad4a02b2c4c3c67835f30f": {
      "model_module": "jupyter-js-widgets",
      "model_module_version": "~2.1.4",
      "model_name": "LayoutModel",
      "state": {
       "_model_module_version": "~2.1.4",
       "_view_module_version": "~2.1.4"
      }
     },
     "15053225dd1848c9a4bb325c8a43efbc": {
      "model_module": "jupyter-js-widgets",
      "model_module_version": "~2.1.4",
      "model_name": "LayoutModel",
      "state": {
       "_model_module_version": "~2.1.4",
       "_view_module_version": "~2.1.4",
       "width": "100%"
      }
     },
     "150df5b42df944dd8dace3184c3036cc": {
      "model_module": "jupyter-js-widgets",
      "model_module_version": "~2.1.4",
      "model_name": "LayoutModel",
      "state": {
       "_model_module_version": "~2.1.4",
       "_view_module_version": "~2.1.4",
       "height": "100%",
       "justify_content": "center",
       "max_height": "550px",
       "overflow_x": "auto",
       "width": "100%"
      }
     },
     "15b74ee70369481bb82e876b8a368cae": {
      "model_module": "jupyter-js-widgets",
      "model_module_version": "~2.1.4",
      "model_name": "ButtonStyleModel",
      "state": {
       "_model_module_version": "~2.1.4",
       "_view_module_version": "~2.1.4"
      }
     },
     "15b8565608324856bfade39c784bdbdb": {
      "model_module": "jupyter-js-widgets",
      "model_module_version": "~2.1.4",
      "model_name": "VBoxModel",
      "state": {
       "_model_module_version": "~2.1.4",
       "_view_module_version": "~2.1.4",
       "layout": "IPY_MODEL_5e3f052e4c65466795535c032c99c5b9"
      }
     },
     "15ca970ce2ea47faaa786a57c965589b": {
      "model_module": "jupyter-js-widgets",
      "model_module_version": "~2.1.4",
      "model_name": "LayoutModel",
      "state": {
       "_model_module_version": "~2.1.4",
       "_view_module_version": "~2.1.4",
       "width": "100%"
      }
     },
     "168068316b0f45d387bfb907965100df": {
      "model_module": "jupyter-js-widgets",
      "model_module_version": "~2.1.4",
      "model_name": "LayoutModel",
      "state": {
       "_model_module_version": "~2.1.4",
       "_view_module_version": "~2.1.4",
       "width": "100%"
      }
     },
     "1694e59c53a340af891e4dd6b85ec4e0": {
      "model_module": "jupyter-js-widgets",
      "model_module_version": "~2.1.4",
      "model_name": "SelectModel",
      "state": {
       "_model_module_version": "~2.1.4",
       "_options_labels": [
        "Test",
        "Train"
       ],
       "_view_module_version": "~2.1.4",
       "description": "Dataset:",
       "layout": "IPY_MODEL_5f51f73ad46c468f8acc5088db234ec5",
       "value": "Train"
      }
     },
     "16a5a4f25942405e8c7c68ad20e6779c": {
      "model_module": "jupyter-js-widgets",
      "model_module_version": "~2.1.4",
      "model_name": "VBoxModel",
      "state": {
       "_model_module_version": "~2.1.4",
       "_view_module_version": "~2.1.4",
       "children": [
        "IPY_MODEL_706793c3a9164ebc864246ea813087c9",
        "IPY_MODEL_9d910e63610f4dae970eac74efceb70d",
        "IPY_MODEL_a3d38bb7e1fd45dea65599a01db4f27d"
       ],
       "layout": "IPY_MODEL_d7e884fba6794280bdab74c058c80c3d"
      }
     },
     "16bec80826684b1089a71acaf9c8e6b5": {
      "model_module": "jupyter-js-widgets",
      "model_module_version": "~2.1.4",
      "model_name": "ButtonStyleModel",
      "state": {
       "_model_module_version": "~2.1.4",
       "_view_module_version": "~2.1.4"
      }
     },
     "16cefb9e70914a03be3aff53a1aec4e3": {
      "model_module": "jupyter-js-widgets",
      "model_module_version": "~2.1.4",
      "model_name": "LayoutModel",
      "state": {
       "_model_module_version": "~2.1.4",
       "_view_module_version": "~2.1.4",
       "width": "100%"
      }
     },
     "1768970ad13045ccb4ae2a2f3525b2aa": {
      "model_module": "jupyter-js-widgets",
      "model_module_version": "~2.1.4",
      "model_name": "ButtonStyleModel",
      "state": {
       "_model_module_version": "~2.1.4",
       "_view_module_version": "~2.1.4"
      }
     },
     "17991695af8a4bb8a84788fb4e352235": {
      "model_module": "jupyter-js-widgets",
      "model_module_version": "~2.1.4",
      "model_name": "LayoutModel",
      "state": {
       "_model_module_version": "~2.1.4",
       "_view_module_version": "~2.1.4",
       "width": "100%"
      }
     },
     "17fd78f937cc41348f11c8eee928d9fc": {
      "model_module": "jupyter-js-widgets",
      "model_module_version": "~2.1.4",
      "model_name": "IntSliderModel",
      "state": {
       "_model_module_version": "~2.1.4",
       "_view_module_version": "~2.1.4",
       "continuous_update": false,
       "description": "Dataset index",
       "layout": "IPY_MODEL_b8abbd3c69e649f8adcf441516320efb",
       "max": 0,
       "style": "IPY_MODEL_25315525d9034921be1e535f98132c12"
      }
     },
     "181cd7ae4a464e4d9cb30998f445d38e": {
      "model_module": "jupyter-js-widgets",
      "model_module_version": "~2.1.4",
      "model_name": "ButtonStyleModel",
      "state": {
       "_model_module_version": "~2.1.4",
       "_view_module_version": "~2.1.4"
      }
     },
     "18d0de85bfdc43b987ea53ade20e0cc1": {
      "model_module": "jupyter-js-widgets",
      "model_module_version": "~2.1.4",
      "model_name": "LayoutModel",
      "state": {
       "_model_module_version": "~2.1.4",
       "_view_module_version": "~2.1.4",
       "width": "100%"
      }
     },
     "1a64a37c8029408fa32df8cda89262c0": {
      "model_module": "jupyter-js-widgets",
      "model_module_version": "~2.1.4",
      "model_name": "SliderStyleModel",
      "state": {
       "_model_module_version": "~2.1.4",
       "_view_module_version": "~2.1.4"
      }
     },
     "1adc9169d3104594b3eef9d638c6d211": {
      "model_module": "jupyter-js-widgets",
      "model_module_version": "~2.1.4",
      "model_name": "VBoxModel",
      "state": {
       "_model_module_version": "~2.1.4",
       "_view_module_version": "~2.1.4",
       "children": [
        "IPY_MODEL_5c5211eced414c39922d28ba9abee493",
        "IPY_MODEL_81a827b8bccb40e98ff018018da5ebcd"
       ],
       "layout": "IPY_MODEL_342b07d423c34dea8474ebaedc8c1851"
      }
     },
     "1afa55fcf3254c83929b0f289f398788": {
      "model_module": "jupyter-js-widgets",
      "model_module_version": "~2.1.4",
      "model_name": "ButtonModel",
      "state": {
       "_model_module_version": "~2.1.4",
       "_view_module_version": "~2.1.4",
       "icon": "backward",
       "layout": "IPY_MODEL_f1330271173143ba9a75b9de3aa47d34",
       "style": "IPY_MODEL_7b92573bb5e34e92b7583e3bafce8e39"
      }
     },
     "1c0ecb42139f4749ba86e8ccce4869ce": {
      "model_module": "jupyter-js-widgets",
      "model_module_version": "~2.1.4",
      "model_name": "ButtonStyleModel",
      "state": {
       "_model_module_version": "~2.1.4",
       "_view_module_version": "~2.1.4"
      }
     },
     "1ccd4f01f4b04cb3a8aa645e4d171efe": {
      "model_module": "jupyter-js-widgets",
      "model_module_version": "~2.1.4",
      "model_name": "VBoxModel",
      "state": {
       "_model_module_version": "~2.1.4",
       "_view_module_version": "~2.1.4",
       "children": [
        "IPY_MODEL_50127d44b8a4495eb184941fa2dfffcc"
       ],
       "layout": "IPY_MODEL_9de743d78d464056aaf37a1c08ec8e72"
      }
     },
     "1d3384dd0d3e4ae8b02c5c9476156eb3": {
      "model_module": "jupyter-js-widgets",
      "model_module_version": "~2.1.4",
      "model_name": "LayoutModel",
      "state": {
       "_model_module_version": "~2.1.4",
       "_view_module_version": "~2.1.4",
       "width": "100%"
      }
     },
     "1d6a09f7abb442fbab7ce158ebf15dff": {
      "model_module": "jupyter-js-widgets",
      "model_module_version": "~2.1.4",
      "model_name": "ButtonModel",
      "state": {
       "_model_module_version": "~2.1.4",
       "_view_module_version": "~2.1.4",
       "description": "Train",
       "layout": "IPY_MODEL_1f69539938dd463f894d47652ba18627",
       "style": "IPY_MODEL_4fbd79a6a4784d4097c86179f37f57e0"
      }
     },
     "1d7d22d6a7194282ae922a83bbe81664": {
      "model_module": "jupyter-js-widgets",
      "model_module_version": "~2.1.4",
      "model_name": "LayoutModel",
      "state": {
       "_model_module_version": "~2.1.4",
       "_view_module_version": "~2.1.4"
      }
     },
     "1e7c5d7c6b754e58a3ed90e4b2687f12": {
      "model_module": "jupyter-js-widgets",
      "model_module_version": "~2.1.4",
      "model_name": "LayoutModel",
      "state": {
       "_model_module_version": "~2.1.4",
       "_view_module_version": "~2.1.4",
       "width": "100%"
      }
     },
     "1e7db0b721b442e0abd644cd5647b147": {
      "model_module": "jupyter-js-widgets",
      "model_module_version": "~2.1.4",
      "model_name": "ButtonStyleModel",
      "state": {
       "_model_module_version": "~2.1.4",
       "_view_module_version": "~2.1.4"
      }
     },
     "1ec61eb710bb4bd7b0d916417eac4229": {
      "model_module": "jupyter-js-widgets",
      "model_module_version": "~2.1.4",
      "model_name": "ButtonModel",
      "state": {
       "_model_module_version": "~2.1.4",
       "_view_module_version": "~2.1.4",
       "icon": "fast-backward",
       "layout": "IPY_MODEL_efc605b97eeb4062a8ac1463df13e2ca",
       "style": "IPY_MODEL_9c8d4f7c34524582a79e63d0d9a53554"
      }
     },
     "1f1b07ddba8245caa5c19a95af726b8f": {
      "model_module": "jupyter-js-widgets",
      "model_module_version": "~2.1.4",
      "model_name": "ButtonModel",
      "state": {
       "_model_module_version": "~2.1.4",
       "_view_module_version": "~2.1.4",
       "icon": "forward",
       "layout": "IPY_MODEL_5c7296c95b9643abaa3349b95c0c57e4",
       "style": "IPY_MODEL_e2ff3fe017a642d8bfc4e2b61d6a4ac9"
      }
     },
     "1f23a6116dde454f8ac1b433508df96c": {
      "model_module": "jupyter-js-widgets",
      "model_module_version": "~2.1.4",
      "model_name": "ButtonModel",
      "state": {
       "_model_module_version": "~2.1.4",
       "_view_module_version": "~2.1.4",
       "icon": "forward",
       "layout": "IPY_MODEL_a3f5bed3fe9b4ae4b42915af5600ddae",
       "style": "IPY_MODEL_f36f0a37a7a54066ae6016fa04aa3cd6"
      }
     },
     "1f69539938dd463f894d47652ba18627": {
      "model_module": "jupyter-js-widgets",
      "model_module_version": "~2.1.4",
      "model_name": "LayoutModel",
      "state": {
       "_model_module_version": "~2.1.4",
       "_view_module_version": "~2.1.4",
       "width": "100%"
      }
     },
     "1fbf34300ca541a09ab33395c87dd96f": {
      "model_module": "jupyter-js-widgets",
      "model_module_version": "~2.1.4",
      "model_name": "ButtonStyleModel",
      "state": {
       "_model_module_version": "~2.1.4",
       "_view_module_version": "~2.1.4"
      }
     },
     "1fd9101e385c403bb571fcbf1cfa1c06": {
      "model_module": "jupyter-js-widgets",
      "model_module_version": "~2.1.4",
      "model_name": "ButtonModel",
      "state": {
       "_model_module_version": "~2.1.4",
       "_view_module_version": "~2.1.4",
       "icon": "backward",
       "layout": "IPY_MODEL_53607e2bb9594bb9bd0eb4c3b7012d05",
       "style": "IPY_MODEL_3486d3772ad74f8b89807e0d7afe9cb3"
      }
     },
     "200ea0ede5fe4892919ddc2ef453f019": {
      "model_module": "jupyter-js-widgets",
      "model_module_version": "~2.1.4",
      "model_name": "TabModel",
      "state": {
       "_model_module_version": "~2.1.4",
       "_titles": {
        "0": "Network",
        "1": "Graphs",
        "2": "Analysis",
        "3": "Camera",
        "4": "Help"
       },
       "_view_module_version": "~2.1.4",
       "children": [
        "IPY_MODEL_40caf14a39a94bc59d63a9f0f1c741af",
        "IPY_MODEL_b5602bf8a38045039d8672e2af7889b7",
        "IPY_MODEL_6419364372884f25802e618a173f73c4",
        "IPY_MODEL_3593b7cd706c4d9abee15b91832f050e",
        "IPY_MODEL_8bad97d8ba024383908dc71618873d55"
       ],
       "layout": "IPY_MODEL_8622aa9473f648ca83e4b3f61f20b71a"
      }
     },
     "20685dfae5eb45c68e10513c27d9aab7": {
      "model_module": "jupyter-js-widgets",
      "model_module_version": "~2.1.4",
      "model_name": "LayoutModel",
      "state": {
       "_model_module_version": "~2.1.4",
       "_view_module_version": "~2.1.4"
      }
     },
     "21506d43cfde461bb67bc8cc9e811c5d": {
      "model_module": "jupyter-js-widgets",
      "model_module_version": "~2.1.4",
      "model_name": "ButtonStyleModel",
      "state": {
       "_model_module_version": "~2.1.4",
       "_view_module_version": "~2.1.4"
      }
     },
     "21a20493a32148828e7e5d2f0d8d2310": {
      "model_module": "jupyter-js-widgets",
      "model_module_version": "~2.1.4",
      "model_name": "ButtonStyleModel",
      "state": {
       "_model_module_version": "~2.1.4",
       "_view_module_version": "~2.1.4"
      }
     },
     "21ecf1f862d140b581559e30aa2ac9de": {
      "model_module": "jupyter-js-widgets",
      "model_module_version": "~2.1.4",
      "model_name": "LayoutModel",
      "state": {
       "_model_module_version": "~2.1.4",
       "_view_module_version": "~2.1.4",
       "height": "100%",
       "justify_content": "center",
       "max_height": "550px",
       "overflow_x": "auto",
       "width": "100%"
      }
     },
     "22b719d24f614186bd7e3899095ff79f": {
      "model_module": "jupyter-js-widgets",
      "model_module_version": "~2.1.4",
      "model_name": "VBoxModel",
      "state": {
       "_model_module_version": "~2.1.4",
       "_view_module_version": "~2.1.4",
       "children": [
        "IPY_MODEL_50c025fd355b42fd82cb1187dae169ce"
       ],
       "layout": "IPY_MODEL_7b6210257cfb47db8ecadcdf139d250e"
      }
     },
     "230d70a31a0349f3b18882f7bd8774e8": {
      "model_module": "jupyter-js-widgets",
      "model_module_version": "~2.1.4",
      "model_name": "VBoxModel",
      "state": {
       "_model_module_version": "~2.1.4",
       "_view_module_version": "~2.1.4",
       "children": [
        "IPY_MODEL_45def2498a6343ee8ac1c0e41078f2a8",
        "IPY_MODEL_249000295dab475da27559fa736f15b7",
        "IPY_MODEL_da4771b91ff944ac926cfc548b958618"
       ],
       "layout": "IPY_MODEL_9bfe02d850664a059b5511385267a925"
      }
     },
     "234aac74bad84d31ba012ad8ee601476": {
      "model_module": "jupyter-js-widgets",
      "model_module_version": "~2.1.4",
      "model_name": "LayoutModel",
      "state": {
       "_model_module_version": "~2.1.4",
       "_view_module_version": "~2.1.4",
       "width": "100%"
      }
     },
     "24002969d75944bb830dadd93ba3a541": {
      "model_module": "jupyter-js-widgets",
      "model_module_version": "~2.1.4",
      "model_name": "ButtonModel",
      "state": {
       "_model_module_version": "~2.1.4",
       "_view_module_version": "~2.1.4",
       "description": "Turn on webcamera",
       "layout": "IPY_MODEL_b2c655cd02c64c709e6e62a7339e4e68",
       "style": "IPY_MODEL_803e5a1ab7ac4e9386d6d45d0e636628"
      }
     },
     "24292e009c2748469358510ca33d9afc": {
      "model_module": "jupyter-js-widgets",
      "model_module_version": "~2.1.4",
      "model_name": "ButtonModel",
      "state": {
       "_model_module_version": "~2.1.4",
       "_view_module_version": "~2.1.4",
       "icon": "backward",
       "layout": "IPY_MODEL_95a7358dee99494897d9dc2e919ab81e",
       "style": "IPY_MODEL_3dc4817f9bdb42d1a15de951f2fb33cf"
      }
     },
     "243a18f9d38741cebc47f492acbf35b4": {
      "model_module": "jupyter-js-widgets",
      "model_module_version": "~2.1.4",
      "model_name": "HTMLModel",
      "state": {
       "_model_module_version": "~2.1.4",
       "_view_module_version": "~2.1.4",
       "layout": "IPY_MODEL_470f613a3155494b82329f2db12f9f7c",
       "value": "<iframe style=\"width: 800px\" src=\"https://conx.readthedocs.io\" width=\"100%\" height=\"550px\"></frame>"
      }
     },
     "24798bd9f4034ae88fd65bb22ad0f551": {
      "model_module": "jupyter-js-widgets",
      "model_module_version": "~2.1.4",
      "model_name": "LayoutModel",
      "state": {
       "_model_module_version": "~2.1.4",
       "_view_module_version": "~2.1.4",
       "width": "100%"
      }
     },
     "249000295dab475da27559fa736f15b7": {
      "model_module": "jupyter-js-widgets",
      "model_module_version": "~2.1.4",
      "model_name": "IntSliderModel",
      "state": {
       "_model_module_version": "~2.1.4",
       "_view_module_version": "~2.1.4",
       "continuous_update": false,
       "description": "Dataset index",
       "layout": "IPY_MODEL_69dce60db8cd4172bba73ae8338a356e",
       "max": 0,
       "style": "IPY_MODEL_6a20661040974d3c971f25f40872e04e"
      }
     },
     "252aac35b50041ff899983f5b4c51ea9": {
      "model_module": "jupyter-js-widgets",
      "model_module_version": "~2.1.4",
      "model_name": "ButtonStyleModel",
      "state": {
       "_model_module_version": "~2.1.4",
       "_view_module_version": "~2.1.4"
      }
     },
     "25315525d9034921be1e535f98132c12": {
      "model_module": "jupyter-js-widgets",
      "model_module_version": "~2.1.4",
      "model_name": "SliderStyleModel",
      "state": {
       "_model_module_version": "~2.1.4",
       "_view_module_version": "~2.1.4"
      }
     },
     "254f1e8e98c344e48ab430cfddcc2fc4": {
      "model_module": "jupyter-js-widgets",
      "model_module_version": "~2.1.4",
      "model_name": "HBoxModel",
      "state": {
       "_model_module_version": "~2.1.4",
       "_view_module_version": "~2.1.4",
       "children": [
        "IPY_MODEL_1ec61eb710bb4bd7b0d916417eac4229",
        "IPY_MODEL_279305171a974f76b4d6589438962b17",
        "IPY_MODEL_97d56cd9d33f483fa611eea01f6d0e50",
        "IPY_MODEL_d10993eeae324cddb42e15d49b782ed5",
        "IPY_MODEL_8aa87e8e243642719a288b47698e0859"
       ],
       "layout": "IPY_MODEL_16cefb9e70914a03be3aff53a1aec4e3"
      }
     },
     "255157042ca1441b85e636f282c5c51f": {
      "model_module": "jupyter-js-widgets",
      "model_module_version": "~2.1.4",
      "model_name": "SliderStyleModel",
      "state": {
       "_model_module_version": "~2.1.4",
       "_view_module_version": "~2.1.4"
      }
     },
     "257c65496184495cb449ef0544e8d443": {
      "model_module": "jupyter-js-widgets",
      "model_module_version": "~2.1.4",
      "model_name": "HTMLModel",
      "state": {
       "_model_module_version": "~2.1.4",
       "_view_module_version": "~2.1.4",
       "layout": "IPY_MODEL_aa03407e6abd40c98d1b64ffb6cfb0e0",
       "value": "<iframe style=\"width: 800px\" src=\"https://conx.readthedocs.io\" width=\"100%\" height=\"550px\"></frame>"
      }
     },
     "2708d51cdfb24a77b0ba383955b4aedd": {
      "model_module": "jupyter-js-widgets",
      "model_module_version": "~2.1.4",
      "model_name": "LayoutModel",
      "state": {
       "_model_module_version": "~2.1.4",
       "_view_module_version": "~2.1.4",
       "width": "100%"
      }
     },
     "273ad071d8994f24ba4881fafd8debfe": {
      "model_module": "jupyter-js-widgets",
      "model_module_version": "~2.1.4",
      "model_name": "ButtonStyleModel",
      "state": {
       "_model_module_version": "~2.1.4",
       "_view_module_version": "~2.1.4"
      }
     },
     "279305171a974f76b4d6589438962b17": {
      "model_module": "jupyter-js-widgets",
      "model_module_version": "~2.1.4",
      "model_name": "ButtonModel",
      "state": {
       "_model_module_version": "~2.1.4",
       "_view_module_version": "~2.1.4",
       "icon": "backward",
       "layout": "IPY_MODEL_be5a1dc880e04f9dbcd9f11ed98eb12e",
       "style": "IPY_MODEL_d2555fcf34f64e00af766081b2213249"
      }
     },
     "279c549de2ad40ce82e52213cce0e892": {
      "model_module": "jupyter-js-widgets",
      "model_module_version": "~2.1.4",
      "model_name": "LayoutModel",
      "state": {
       "_model_module_version": "~2.1.4",
       "_view_module_version": "~2.1.4"
      }
     },
     "28a65f3865ca41a1ab9492831815ad5c": {
      "model_module": "jupyter-js-widgets",
      "model_module_version": "~2.1.4",
      "model_name": "ButtonModel",
      "state": {
       "_model_module_version": "~2.1.4",
       "_view_module_version": "~2.1.4",
       "icon": "forward",
       "layout": "IPY_MODEL_f8e30c4141354f97a1dfc5656333564d",
       "style": "IPY_MODEL_cd5a8c3bc8894adf9ed1caf358b122e5"
      }
     },
     "28d2cce6a0b341baac407ce52f61bd26": {
      "model_module": "jupyter-js-widgets",
      "model_module_version": "~2.1.4",
      "model_name": "TabModel",
      "state": {
       "_model_module_version": "~2.1.4",
       "_titles": {
        "0": "Network",
        "1": "Graphs",
        "2": "Analysis",
        "3": "Camera",
        "4": "Help"
       },
       "_view_module_version": "~2.1.4",
       "children": [
        "IPY_MODEL_062e6cbe89964aecb578e94bf7fc57f6",
        "IPY_MODEL_d07a6dae085244e193aa1ab3c228d1d0",
        "IPY_MODEL_15b8565608324856bfade39c784bdbdb",
        "IPY_MODEL_b9f9b3ebd1bc40fd8479fdcee467f285",
        "IPY_MODEL_31e5b3d9b19c48ce847140589c1c4817"
       ],
       "layout": "IPY_MODEL_f5afa20896b5437d97f6fb75c96b85dc"
      }
     },
     "29125a06dd89497db8f2d3b65fe7b610": {
      "model_module": "jupyter-js-widgets",
      "model_module_version": "~2.1.4",
      "model_name": "LayoutModel",
      "state": {
       "_model_module_version": "~2.1.4",
       "_view_module_version": "~2.1.4"
      }
     },
     "29b3d90608a343c4a7bcce2d3f8f2cd7": {
      "model_module": "jupyter-js-widgets",
      "model_module_version": "~2.1.4",
      "model_name": "ButtonStyleModel",
      "state": {
       "_model_module_version": "~2.1.4",
       "_view_module_version": "~2.1.4"
      }
     },
     "2a2a7bb1c3bd4d6196497befbca77856": {
      "model_module": "jupyter-js-widgets",
      "model_module_version": "~2.1.4",
      "model_name": "LayoutModel",
      "state": {
       "_model_module_version": "~2.1.4",
       "_view_module_version": "~2.1.4",
       "width": "100%"
      }
     },
     "2a6af8dedffe47f8999334cb00b6fe63": {
      "model_module": "jupyter-js-widgets",
      "model_module_version": "~2.1.4",
      "model_name": "ButtonStyleModel",
      "state": {
       "_model_module_version": "~2.1.4",
       "_view_module_version": "~2.1.4"
      }
     },
     "2ac8d97b28df44228227f9eb9f0fb18e": {
      "model_module": "jupyter-js-widgets",
      "model_module_version": "~2.1.4",
      "model_name": "ButtonModel",
      "state": {
       "_model_module_version": "~2.1.4",
       "_view_module_version": "~2.1.4",
       "icon": "backward",
       "layout": "IPY_MODEL_7aecb9769ae4472f8d73fe92d8673beb",
       "style": "IPY_MODEL_f088db690cf446b799289ca79d07ac93"
      }
     },
     "2ba20b58a712478aafccf5528455944d": {
      "model_module": "jupyter-js-widgets",
      "model_module_version": "~2.1.4",
      "model_name": "ButtonStyleModel",
      "state": {
       "_model_module_version": "~2.1.4",
       "_view_module_version": "~2.1.4"
      }
     },
     "2bd4f863c3ab495bba7e8a9ba8c10d06": {
      "model_module": "jupyter-js-widgets",
      "model_module_version": "~2.1.4",
      "model_name": "LayoutModel",
      "state": {
       "_model_module_version": "~2.1.4",
       "_view_module_version": "~2.1.4"
      }
     },
     "2bdf8e092e0342b7aaec523ff8e459c9": {
      "model_module": "jupyter-js-widgets",
      "model_module_version": "~2.1.4",
      "model_name": "LayoutModel",
      "state": {
       "_model_module_version": "~2.1.4",
       "_view_module_version": "~2.1.4",
       "width": "100%"
      }
     },
     "2c121207bfa243d7833af28357ae17b1": {
      "model_module": "jupyter-js-widgets",
      "model_module_version": "~2.1.4",
      "model_name": "ButtonModel",
      "state": {
       "_model_module_version": "~2.1.4",
       "_view_module_version": "~2.1.4",
       "description": "Train",
       "layout": "IPY_MODEL_67cb2730285a4fd7b1b1e62f6e92b8a1",
       "style": "IPY_MODEL_fd9aff41054d43fe9e2acad5ce9d7fcd"
      }
     },
     "2c1b9b22c9fe48f4aca98da373fb6cd9": {
      "model_module": "jupyter-js-widgets",
      "model_module_version": "~2.1.4",
      "model_name": "VBoxModel",
      "state": {
       "_model_module_version": "~2.1.4",
       "_view_module_version": "~2.1.4",
       "children": [
        "IPY_MODEL_dc8d68102cef4784bd4162a545be7315",
        "IPY_MODEL_9bca34e2623e48b895fef70c7a69f4e6"
       ],
       "layout": "IPY_MODEL_fe9b0226ee9e403294ff0a4c15e546f4"
      }
     },
     "2c1e9be6713f4fe4af64e88dbcf60ab9": {
      "model_module": "jupyter-js-widgets",
      "model_module_version": "~2.1.4",
      "model_name": "ButtonModel",
      "state": {
       "_model_module_version": "~2.1.4",
       "_view_module_version": "~2.1.4",
       "icon": "backward",
       "layout": "IPY_MODEL_aae129f9d8734447aa16198a3ba3f065",
       "style": "IPY_MODEL_7afbad9d9286473683563caafdbc33a7"
      }
     },
     "2c616c0b595f49cc876c71c6ff469dba": {
      "model_module": "jupyter-js-widgets",
      "model_module_version": "~2.1.4",
      "model_name": "SelectModel",
      "state": {
       "_model_module_version": "~2.1.4",
       "_options_labels": [
        "Test",
        "Train"
       ],
       "_view_module_version": "~2.1.4",
       "description": "Dataset:",
       "layout": "IPY_MODEL_31b175bc46c0458cbbc7ffc2322dd8e1",
       "value": "Train"
      }
     },
     "2ce422a8d8e042f1bf63d4310910b6f6": {
      "model_module": "jupyter-js-widgets",
      "model_module_version": "~2.1.4",
      "model_name": "LayoutModel",
      "state": {
       "_model_module_version": "~2.1.4",
       "_view_module_version": "~2.1.4"
      }
     },
     "2d1350895f68434f9c95bc75f0111754": {
      "model_module": "jupyter-js-widgets",
      "model_module_version": "~2.1.4",
      "model_name": "HTMLModel",
      "state": {
       "_model_module_version": "~2.1.4",
       "_view_module_version": "~2.1.4",
       "layout": "IPY_MODEL_54089cec89f74c29b7e79d1a84c5efe2",
       "value": "<iframe style=\"width: 800px\" src=\"https://conx.readthedocs.io\" width=\"100%\" height=\"550px\"></frame>"
      }
     },
     "2daf9cd4dcda4f0faedd5ef277c8f7e1": {
      "model_module": "jupyter-js-widgets",
      "model_module_version": "~2.1.4",
      "model_name": "ButtonModel",
      "state": {
       "_model_module_version": "~2.1.4",
       "_view_module_version": "~2.1.4",
       "description": "Train",
       "layout": "IPY_MODEL_a39d625647ae4cce91bbbc68218703bd",
       "style": "IPY_MODEL_a2b7f82bc31d41d3ad6da3d167ba72c9"
      }
     },
     "2e3339ea8b984cc6989419f4ebc4c175": {
      "model_module": "jupyter-js-widgets",
      "model_module_version": "~2.1.4",
      "model_name": "VBoxModel",
      "state": {
       "_model_module_version": "~2.1.4",
       "_view_module_version": "~2.1.4",
       "layout": "IPY_MODEL_ba61f8f77cf54f84b7136a0658aa0ad8"
      }
     },
     "2e7c44508b504dd59c2093c81273b033": {
      "model_module": "jupyter-js-widgets",
      "model_module_version": "~2.1.4",
      "model_name": "VBoxModel",
      "state": {
       "_model_module_version": "~2.1.4",
       "_view_module_version": "~2.1.4",
       "children": [
        "IPY_MODEL_802fadaceb764446a5ff9035a6406387",
        "IPY_MODEL_9fb08b5f21f545929789d29659e79765"
       ],
       "layout": "IPY_MODEL_a9ccaf1520214d4fbb5bebc0aa8f9c6f"
      }
     },
     "2f060ba0c700472782c5c2a5f0f47b52": {
      "model_module": "jupyter-js-widgets",
      "model_module_version": "~2.1.4",
      "model_name": "LayoutModel",
      "state": {
       "_model_module_version": "~2.1.4",
       "_view_module_version": "~2.1.4",
       "width": "100%"
      }
     },
     "303c2d42626b426dbdfc6c8671d38319": {
      "model_module": "jupyter-js-widgets",
      "model_module_version": "~2.1.4",
      "model_name": "HTMLModel",
      "state": {
       "_model_module_version": "~2.1.4",
       "_view_module_version": "~2.1.4",
       "layout": "IPY_MODEL_d2f07f4d2e13482eb27225cf85e9fcb0",
       "value": "\n        <svg id='XOR' xmlns='http://www.w3.org/2000/svg' width=\"200\" height=\"335\" image-rendering=\"pixelated\">\n    <defs>\n        <marker id=\"arrow\" markerWidth=\"10\" markerHeight=\"10\" refX=\"9\" refY=\"3\" orient=\"auto\" markerUnits=\"strokeWidth\">\n          <path d=\"M0,0 L0,6 L9,3 z\" fill=\"blue\" />\n        </marker>\n    </defs>\n<rect x=\"74.0\" y=\"24\" width=\"52\" height=\"52\" style=\"fill:none;stroke:blue;stroke-width:2\"/><image id=\"XOR_output_targets_1\" class=\"XOR_output_targets\" x=\"75.0\" y=\"25\" height=\"50\" width=\"50\" preserveAspectRatio=\"none\" href=\"data:image/gif;base64,R0lGODdhAQABAIAAACoqKgAAACwAAAAAAQABAAAIBQABAAgIADs=\"><title>Layer: output (output)\n shape = (1,)\n Keras class = Dense\n activation = sigmoid</title></image><text x=\"130.0\" y=\"52.0\" font-family=\"monospace\" font-size=\"12\">targets</text><rect x=\"74.0\" y=\"84\" width=\"52\" height=\"52\" style=\"fill:none;stroke:blue;stroke-width:2\"/><image id=\"XOR_output_errors_1\" class=\"XOR_output_errors\" x=\"75.0\" y=\"85\" height=\"50\" width=\"50\" preserveAspectRatio=\"none\" href=\"data:image/gif;base64,R0lGODdhAQABAIAAACoqKgAAACwAAAAAAQABAAAIBQABrAsIADs=\"><title>Layer: output (output)\n shape = (1,)\n Keras class = Dense\n activation = sigmoid</title></image><text x=\"130.0\" y=\"112.0\" font-family=\"monospace\" font-size=\"12\">errors</text><rect x=\"74.0\" y=\"149\" width=\"52\" height=\"52\" style=\"fill:none;stroke:blue;stroke-width:2\"/><image id=\"XOR_output_1\" class=\"XOR_output\" x=\"75.0\" y=\"150\" height=\"50\" width=\"50\" preserveAspectRatio=\"none\" href=\"data:image/gif;base64,R0lGODdhAQABAIAAACoqKgAAACwAAAAAAQABAAAIBQABrAsIADs=\"><title>Layer: output (output)\n shape = (1,)\n Keras class = Dense\n activation = sigmoid</title></image><text x=\"130.0\" y=\"177.0\" font-family=\"monospace\" font-size=\"12\">output</text><rect x=\"90.0\" y=\"202\" width=\"20.0\" height=\"27\" style=\"fill:white;stroke:none\"><title>Weights from hidden to output\n output/kernel has shape (4, 1)\n output/bias has shape (1,)</title></rect><rect x=\"90.0\" y=\"202\" width=\"20.0\" height=\"27\" style=\"fill:white;stroke:none\"><title>Weights from hidden to output\n output/kernel has shape (4, 1)\n output/bias has shape (1,)</title></rect><line x1=\"100.0\" y1=\"229\" x2=\"100.0\" y2=\"202\" stroke=\"blue\" stroke-width=\"2\" marker-end=\"url(#arrow)\"><title>Weights from hidden to output\n output/kernel has shape (4, 1)\n output/bias has shape (1,)</title></line><line x1=\"100.0\" y1=\"229\" x2=\"100.0\" y2=\"202\" stroke=\"blue\" stroke-width=\"2\" marker-end=\"url(#arrow)\"><title>Weights from hidden to output\n output/kernel has shape (4, 1)\n output/bias has shape (1,)</title></line><rect x=\"74.0\" y=\"229\" width=\"52\" height=\"27\" style=\"fill:none;stroke:blue;stroke-width:2\"/><image id=\"XOR_hidden_2\" class=\"XOR_hidden\" x=\"75.0\" y=\"230\" height=\"25\" width=\"50\" preserveAspectRatio=\"none\" href=\"data:image/gif;base64,R0lGODdhAgABAIAAAH9/fwAAACwAAAAAAgABAAAIBQABAAgIADs=\"><title>Layer: hidden (hidden)\n shape = (2,)\n Keras class = Dense\n activation = sigmoid</title></image><text x=\"130.0\" y=\"244.5\" font-family=\"monospace\" font-size=\"12\">hidden</text><rect x=\"90.0\" y=\"257\" width=\"20.0\" height=\"27\" style=\"fill:white;stroke:none\"><title>Weights from input to hidden\n hidden/kernel has shape (4, 2)\n hidden/bias has shape (2,)</title></rect><rect x=\"90.0\" y=\"257\" width=\"20.0\" height=\"27\" style=\"fill:white;stroke:none\"><title>Weights from input to hidden\n hidden/kernel has shape (4, 2)\n hidden/bias has shape (2,)</title></rect><line x1=\"100.0\" y1=\"284\" x2=\"100.0\" y2=\"257\" stroke=\"blue\" stroke-width=\"2\" marker-end=\"url(#arrow)\"><title>Weights from input to hidden\n hidden/kernel has shape (4, 2)\n hidden/bias has shape (2,)</title></line><line x1=\"100.0\" y1=\"284\" x2=\"100.0\" y2=\"257\" stroke=\"blue\" stroke-width=\"2\" marker-end=\"url(#arrow)\"><title>Weights from input to hidden\n hidden/kernel has shape (4, 2)\n hidden/bias has shape (2,)</title></line><rect x=\"74.0\" y=\"284\" width=\"52\" height=\"27\" style=\"fill:none;stroke:blue;stroke-width:2\"/><image id=\"XOR_input_3\" class=\"XOR_input\" x=\"75.0\" y=\"285\" height=\"25\" width=\"50\" preserveAspectRatio=\"none\" href=\"data:image/gif;base64,R0lGODdhAgABAIAAAH9/fwAAACwAAAAAAgABAAAIBQABAAgIADs=\"><title>Layer: input (input)\n shape = (2,)\n Keras class = Input</title></image><text x=\"130.0\" y=\"299.5\" font-family=\"monospace\" font-size=\"12\">input</text></svg>"
      }
     },
     "304ec77ed7fa449c8f53a5e88466a679": {
      "model_module": "jupyter-js-widgets",
      "model_module_version": "~2.1.4",
      "model_name": "ButtonStyleModel",
      "state": {
       "_model_module_version": "~2.1.4",
       "_view_module_version": "~2.1.4"
      }
     },
     "30e0c583bdd048f3b68dbaea594481ab": {
      "model_module": "jupyter-js-widgets",
      "model_module_version": "~2.1.4",
      "model_name": "LayoutModel",
      "state": {
       "_model_module_version": "~2.1.4",
       "_view_module_version": "~2.1.4",
       "width": "100%"
      }
     },
     "30ffa27159274bbfad493d9dc0c8aa1c": {
      "model_module": "jupyter-js-widgets",
      "model_module_version": "~2.1.4",
      "model_name": "LayoutModel",
      "state": {
       "_model_module_version": "~2.1.4",
       "_view_module_version": "~2.1.4",
       "width": "100%"
      }
     },
     "31066f50f52c46078ddbe46d2b3626d6": {
      "model_module": "jupyter-js-widgets",
      "model_module_version": "~2.1.4",
      "model_name": "LayoutModel",
      "state": {
       "_model_module_version": "~2.1.4",
       "_view_module_version": "~2.1.4"
      }
     },
     "3141788a1c24491fabc12d1d3973a44c": {
      "model_module": "jupyter-js-widgets",
      "model_module_version": "~2.1.4",
      "model_name": "ButtonStyleModel",
      "state": {
       "_model_module_version": "~2.1.4",
       "_view_module_version": "~2.1.4"
      }
     },
     "31b175bc46c0458cbbc7ffc2322dd8e1": {
      "model_module": "jupyter-js-widgets",
      "model_module_version": "~2.1.4",
      "model_name": "LayoutModel",
      "state": {
       "_model_module_version": "~2.1.4",
       "_view_module_version": "~2.1.4"
      }
     },
     "31e5b3d9b19c48ce847140589c1c4817": {
      "model_module": "jupyter-js-widgets",
      "model_module_version": "~2.1.4",
      "model_name": "HTMLModel",
      "state": {
       "_model_module_version": "~2.1.4",
       "_view_module_version": "~2.1.4",
       "layout": "IPY_MODEL_ef73302ddaa14ba1aa33567d525b198a",
       "value": "<iframe style=\"width: 800px\" src=\"https://conx.readthedocs.io\" width=\"100%\" height=\"550px\"></frame>"
      }
     },
     "33c28993528b44fbb7fc1a641fa738b8": {
      "model_module": "jupyter-js-widgets",
      "model_module_version": "~2.1.4",
      "model_name": "LayoutModel",
      "state": {
       "_model_module_version": "~2.1.4",
       "_view_module_version": "~2.1.4",
       "width": "100%"
      }
     },
     "342b07d423c34dea8474ebaedc8c1851": {
      "model_module": "jupyter-js-widgets",
      "model_module_version": "~2.1.4",
      "model_name": "LayoutModel",
      "state": {
       "_model_module_version": "~2.1.4",
       "_view_module_version": "~2.1.4",
       "width": "100%"
      }
     },
     "345d1097a1934bfc87981df49430efdf": {
      "model_module": "jupyter-js-widgets",
      "model_module_version": "~2.1.4",
      "model_name": "LayoutModel",
      "state": {
       "_model_module_version": "~2.1.4",
       "_view_module_version": "~2.1.4"
      }
     },
     "3486d3772ad74f8b89807e0d7afe9cb3": {
      "model_module": "jupyter-js-widgets",
      "model_module_version": "~2.1.4",
      "model_name": "ButtonStyleModel",
      "state": {
       "_model_module_version": "~2.1.4",
       "_view_module_version": "~2.1.4"
      }
     },
     "34a9739355564ec08c979c30ad55bd4c": {
      "model_module": "jupyter-js-widgets",
      "model_module_version": "~2.1.4",
      "model_name": "LayoutModel",
      "state": {
       "_model_module_version": "~2.1.4",
       "_view_module_version": "~2.1.4",
       "width": "100%"
      }
     },
     "34fefdb82cff40d282e8e2ff1e2d6af6": {
      "model_module": "jupyter-js-widgets",
      "model_module_version": "~2.1.4",
      "model_name": "LayoutModel",
      "state": {
       "_model_module_version": "~2.1.4",
       "_view_module_version": "~2.1.4"
      }
     },
     "3593b7cd706c4d9abee15b91832f050e": {
      "model_module": "jupyter-js-widgets",
      "model_module_version": "~2.1.4",
      "model_name": "VBoxModel",
      "state": {
       "_model_module_version": "~2.1.4",
       "_view_module_version": "~2.1.4",
       "children": [
        "IPY_MODEL_5a0f3ffc8d8c4459815e33fc839752b9"
       ],
       "layout": "IPY_MODEL_8f6b35d82c664664ab7d5c6ef12481bf"
      }
     },
     "35a3cd5270c74d56925878698c3a9924": {
      "model_module": "jupyter-js-widgets",
      "model_module_version": "~2.1.4",
      "model_name": "ButtonModel",
      "state": {
       "_model_module_version": "~2.1.4",
       "_view_module_version": "~2.1.4",
       "icon": "fast-forward",
       "layout": "IPY_MODEL_6c25135152b04c1183d4a92055bec258",
       "style": "IPY_MODEL_c964dc6d6da042cd90f010eb38d9ba9a"
      }
     },
     "35f9231a5c404c98b8ea63276b7dc106": {
      "model_module": "jupyter-js-widgets",
      "model_module_version": "~2.1.4",
      "model_name": "ButtonStyleModel",
      "state": {
       "_model_module_version": "~2.1.4",
       "_view_module_version": "~2.1.4"
      }
     },
     "35fae83620bf42f4a941a7ff20c2c655": {
      "model_module": "jupyter-js-widgets",
      "model_module_version": "~2.1.4",
      "model_name": "ButtonStyleModel",
      "state": {
       "_model_module_version": "~2.1.4",
       "_view_module_version": "~2.1.4"
      }
     },
     "36ea16bd018644c28a659c513557c1cc": {
      "model_module": "jupyter-js-widgets",
      "model_module_version": "~2.1.4",
      "model_name": "ButtonStyleModel",
      "state": {
       "_model_module_version": "~2.1.4",
       "_view_module_version": "~2.1.4"
      }
     },
     "36fb2a9c712249fe8d69af5b4f22a45a": {
      "model_module": "jupyter-js-widgets",
      "model_module_version": "~2.1.4",
      "model_name": "LayoutModel",
      "state": {
       "_model_module_version": "~2.1.4",
       "_view_module_version": "~2.1.4",
       "width": "100%"
      }
     },
     "3717648831064eccb526931ae40d6519": {
      "model_module": "jupyter-js-widgets",
      "model_module_version": "~2.1.4",
      "model_name": "ButtonStyleModel",
      "state": {
       "_model_module_version": "~2.1.4",
       "_view_module_version": "~2.1.4"
      }
     },
     "38aaf767e68c40ffa5b31b291f41e642": {
      "model_module": "jupyter-js-widgets",
      "model_module_version": "~2.1.4",
      "model_name": "LayoutModel",
      "state": {
       "_model_module_version": "~2.1.4",
       "_view_module_version": "~2.1.4",
       "width": "100%"
      }
     },
     "3a217b95e125497cb81e7ec7b753e9d5": {
      "model_module": "jupyter-js-widgets",
      "model_module_version": "~2.1.4",
      "model_name": "ButtonStyleModel",
      "state": {
       "_model_module_version": "~2.1.4",
       "_view_module_version": "~2.1.4"
      }
     },
     "3b8eb05575a54048bb00267713cfbcbc": {
      "model_module": "jupyter-js-widgets",
      "model_module_version": "~2.1.4",
      "model_name": "LayoutModel",
      "state": {
       "_model_module_version": "~2.1.4",
       "_view_module_version": "~2.1.4"
      }
     },
     "3bc10550b8964f09a919b7c3d188390f": {
      "model_module": "jupyter-js-widgets",
      "model_module_version": "~2.1.4",
      "model_name": "ButtonStyleModel",
      "state": {
       "_model_module_version": "~2.1.4",
       "_view_module_version": "~2.1.4"
      }
     },
     "3c425fa095384b3e9669d058ea20924c": {
      "model_module": "jupyter-js-widgets",
      "model_module_version": "~2.1.4",
      "model_name": "ButtonModel",
      "state": {
       "_model_module_version": "~2.1.4",
       "_view_module_version": "~2.1.4",
       "icon": "forward",
       "layout": "IPY_MODEL_a344a283bb024847ba34b03e42cc82b1",
       "style": "IPY_MODEL_f219e7d73fee4aae9643ff2677cda080"
      }
     },
     "3c455f869cb248d5b7a9a4414fa96381": {
      "model_module": "jupyter-js-widgets",
      "model_module_version": "~2.1.4",
      "model_name": "ButtonStyleModel",
      "state": {
       "_model_module_version": "~2.1.4",
       "_view_module_version": "~2.1.4"
      }
     },
     "3cd814bde4b842f586569e861532a593": {
      "model_module": "jupyter-js-widgets",
      "model_module_version": "~2.1.4",
      "model_name": "VBoxModel",
      "state": {
       "_model_module_version": "~2.1.4",
       "_view_module_version": "~2.1.4",
       "layout": "IPY_MODEL_e81f86af4b16468dbf235acb8116ec36"
      }
     },
     "3d3183cca03246d4ab45264809b33745": {
      "model_module": "jupyter-js-widgets",
      "model_module_version": "~2.1.4",
      "model_name": "LayoutModel",
      "state": {
       "_model_module_version": "~2.1.4",
       "_view_module_version": "~2.1.4",
       "width": "100%"
      }
     },
     "3d50f3e1ee094a04b49045e4cfdc7f67": {
      "model_module": "jupyter-js-widgets",
      "model_module_version": "~2.1.4",
      "model_name": "LayoutModel",
      "state": {
       "_model_module_version": "~2.1.4",
       "_view_module_version": "~2.1.4",
       "width": "100%"
      }
     },
     "3dc4817f9bdb42d1a15de951f2fb33cf": {
      "model_module": "jupyter-js-widgets",
      "model_module_version": "~2.1.4",
      "model_name": "ButtonStyleModel",
      "state": {
       "_model_module_version": "~2.1.4",
       "_view_module_version": "~2.1.4"
      }
     },
     "3e2c97dac7054a4199255f092b52a768": {
      "model_module": "jupyter-js-widgets",
      "model_module_version": "~2.1.4",
      "model_name": "HTMLModel",
      "state": {
       "_model_module_version": "~2.1.4",
       "_view_module_version": "~2.1.4",
       "layout": "IPY_MODEL_11e6ba5f07134f54afb104f9528af729",
       "value": "\n        <svg id='XOR2' xmlns='http://www.w3.org/2000/svg' width=\"450\" height=\"615\" image-rendering=\"pixelated\">\n    <defs>\n        <marker id=\"arrow\" markerWidth=\"10\" markerHeight=\"10\" refX=\"9\" refY=\"3\" orient=\"auto\" markerUnits=\"strokeWidth\">\n          <path d=\"M0,0 L0,6 L9,3 z\" fill=\"blue\" />\n        </marker>\n    </defs>\n<rect x=\"99.0\" y=\"24\" width=\"102\" height=\"102\" style=\"fill:none;stroke:blue;stroke-width:2\"/><image id=\"XOR2_output1_targets_1\" class=\"XOR2_output1_targets\" x=\"100.0\" y=\"25\" height=\"100\" width=\"100\" preserveAspectRatio=\"none\" href=\"data:image/gif;base64,R0lGODdhAQABAIAAAKKiogAAACwAAAAAAQABAAAIBQABEAkIADs=\"><title>Layer: output1 (output)\n shape = (1,)\n Keras class = Dense\n activation = sigmoid</title></image><text x=\"205.0\" y=\"77.0\" font-family=\"monospace\" font-size=\"12\">targets</text><rect x=\"274.0\" y=\"24\" width=\"52\" height=\"52\" style=\"fill:none;stroke:blue;stroke-width:2\"/><image id=\"XOR2_output2_targets_1\" class=\"XOR2_output2_targets\" x=\"275.0\" y=\"25\" height=\"50\" width=\"50\" preserveAspectRatio=\"none\" href=\"data:image/gif;base64,R0lGODdhAQABAIAAANjY2AAAACwAAAAAAQABAAAIBQAB7AkIADs=\"><title>Layer: output2 (output)\n shape = (1,)\n Keras class = Dense\n activation = sigmoid</title></image><text x=\"330.0\" y=\"52.0\" font-family=\"monospace\" font-size=\"12\">targets</text><rect x=\"99.0\" y=\"134\" width=\"102\" height=\"102\" style=\"fill:none;stroke:blue;stroke-width:2\"/><image id=\"XOR2_output1_errors_1\" class=\"XOR2_output1_errors\" x=\"100.0\" y=\"135\" height=\"100\" width=\"100\" preserveAspectRatio=\"none\" href=\"data:image/gif;base64,R0lGODdhAQABAIAAAKKiogAAACwAAAAAAQABAAAIBQAB7AkIADs=\"><title>Layer: output1 (output)\n shape = (1,)\n Keras class = Dense\n activation = sigmoid</title></image><text x=\"205.0\" y=\"187.0\" font-family=\"monospace\" font-size=\"12\">errors</text><rect x=\"274.0\" y=\"134\" width=\"52\" height=\"52\" style=\"fill:none;stroke:blue;stroke-width:2\"/><image id=\"XOR2_output2_errors_1\" class=\"XOR2_output2_errors\" x=\"275.0\" y=\"135\" height=\"50\" width=\"50\" preserveAspectRatio=\"none\" href=\"data:image/gif;base64,R0lGODdhAQABAIAAANjY2AAAACwAAAAAAQABAAAIBQAB7AkIADs=\"><title>Layer: output2 (output)\n shape = (1,)\n Keras class = Dense\n activation = sigmoid</title></image><text x=\"330.0\" y=\"162.0\" font-family=\"monospace\" font-size=\"12\">errors</text><rect x=\"99.0\" y=\"249\" width=\"102\" height=\"102\" style=\"fill:none;stroke:blue;stroke-width:2\"/><image id=\"XOR2_output1_1\" class=\"XOR2_output1\" x=\"100.0\" y=\"250\" height=\"100\" width=\"100\" preserveAspectRatio=\"none\" href=\"data:image/gif;base64,R0lGODdhAQABAIAAAKKiogAAACwAAAAAAQABAAAIBQAB7AkIADs=\"><title>Layer: output1 (output)\n shape = (1,)\n Keras class = Dense\n activation = sigmoid</title></image><text x=\"205.0\" y=\"302.0\" font-family=\"monospace\" font-size=\"12\">output1</text><rect x=\"274.0\" y=\"249\" width=\"52\" height=\"52\" style=\"fill:none;stroke:blue;stroke-width:2\"/><image id=\"XOR2_output2_2\" class=\"XOR2_output2\" x=\"275.0\" y=\"250\" height=\"50\" width=\"50\" preserveAspectRatio=\"none\" href=\"data:image/gif;base64,R0lGODdhAQABAIAAANjY2AAAACwAAAAAAQABAAAIBQAB7AkIADs=\"><title>Layer: output2 (output)\n shape = (1,)\n Keras class = Dense\n activation = sigmoid</title></image><text x=\"330.0\" y=\"277.0\" font-family=\"monospace\" font-size=\"12\">output2</text><rect x=\"150.0\" y=\"352\" width=\"75.0\" height=\"27\" style=\"fill:white;stroke:none\"><title>Weights from shared-hidden to output1\n output1/kernel has shape (5, 1)\n output1/bias has shape (1,)</title></rect><rect x=\"225.0\" y=\"302\" width=\"75.0\" height=\"77\" style=\"fill:white;stroke:none\"><title>Weights from shared-hidden to output2\n output2/kernel has shape (5, 1)\n output2/bias has shape (1,)</title></rect><line x1=\"225.0\" y1=\"379\" x2=\"150.0\" y2=\"352\" stroke=\"blue\" stroke-width=\"2\" marker-end=\"url(#arrow)\"><title>Weights from shared-hidden to output1\n output1/kernel has shape (5, 1)\n output1/bias has shape (1,)</title></line><line x1=\"225.0\" y1=\"379\" x2=\"300.0\" y2=\"302\" stroke=\"blue\" stroke-width=\"2\" marker-end=\"url(#arrow)\"><title>Weights from shared-hidden to output2\n output2/kernel has shape (5, 1)\n output2/bias has shape (1,)</title></line><rect x=\"199.0\" y=\"379\" width=\"52\" height=\"27\" style=\"fill:none;stroke:blue;stroke-width:2\"/><image id=\"XOR2_shared-hidden_3\" class=\"XOR2_shared-hidden\" x=\"200.0\" y=\"380\" height=\"25\" width=\"50\" preserveAspectRatio=\"none\" href=\"data:image/gif;base64,R0lGODdhBQABAIIAAFFRUV9fX6SkpK+vr7m5uQAAAAAAAAAAACwAAAAABQABAAAICAABEBgQQEBAADs=\"><title>Layer: shared-hidden (hidden)\n shape = (5,)\n Keras class = Dense\n activation = sigmoid</title></image><text x=\"255.0\" y=\"394.5\" font-family=\"monospace\" font-size=\"12\">shared-hidden</text><rect x=\"150.0\" y=\"407\" width=\"75.0\" height=\"27\" style=\"fill:white;stroke:none\"><title>Weights from hidden1 to shared-hidden\n shared-hidden/kernel has shape (20, 5)\n shared-hidden/bias has shape (5,)</title></rect><line x1=\"150.0\" y1=\"434\" x2=\"225.0\" y2=\"407\" stroke=\"blue\" stroke-width=\"2\" marker-end=\"url(#arrow)\"><title>Weights from hidden1 to shared-hidden\n shared-hidden/kernel has shape (20, 5)\n shared-hidden/bias has shape (5,)</title></line><rect x=\"124.0\" y=\"434\" width=\"52\" height=\"27\" style=\"fill:none;stroke:blue;stroke-width:2\"/><image id=\"XOR2_hidden1_4\" class=\"XOR2_hidden1\" x=\"125.0\" y=\"435\" height=\"25\" width=\"50\" preserveAspectRatio=\"none\" href=\"data:image/gif;base64,R0lGODdhCgABAIAAAH9/fwAAACwAAAAACgABAAAIBwABCBxIMCAAOw==\"><title>Layer: hidden1 (hidden)\n shape = (10,)\n Keras class = Dense\n activation = sigmoid</title></image><text x=\"180.0\" y=\"449.5\" font-family=\"monospace\" font-size=\"12\">hidden1</text><rect x=\"225.0\" y=\"407\" width=\"75.0\" height=\"27\" style=\"fill:white;stroke:none\"><title>Weights from hidden2 to shared-hidden\n shared-hidden/kernel has shape (20, 5)\n shared-hidden/bias has shape (5,)</title></rect><line x1=\"300.0\" y1=\"434\" x2=\"225.0\" y2=\"407\" stroke=\"blue\" stroke-width=\"2\" marker-end=\"url(#arrow)\"><title>Weights from hidden2 to shared-hidden\n shared-hidden/kernel has shape (20, 5)\n shared-hidden/bias has shape (5,)</title></line><rect x=\"274.0\" y=\"434\" width=\"52\" height=\"27\" style=\"fill:none;stroke:blue;stroke-width:2\"/><image id=\"XOR2_hidden2_5\" class=\"XOR2_hidden2\" x=\"275.0\" y=\"435\" height=\"25\" width=\"50\" preserveAspectRatio=\"none\" href=\"data:image/gif;base64,R0lGODdhCgABAIAAAH9/fwAAACwAAAAACgABAAAIBwABCBxIMCAAOw==\"><title>Layer: hidden2 (hidden)\n shape = (10,)\n Keras class = Dense\n activation = sigmoid</title></image><text x=\"330.0\" y=\"449.5\" font-family=\"monospace\" font-size=\"12\">hidden2</text><rect x=\"140.0\" y=\"462\" width=\"20.0\" height=\"27\" style=\"fill:white;stroke:none\"><title>Weights from input1 to hidden1\n hidden1/kernel has shape (1, 10)\n hidden1/bias has shape (10,)</title></rect><line x1=\"150.0\" y1=\"489\" x2=\"150.0\" y2=\"462\" stroke=\"blue\" stroke-width=\"2\" marker-end=\"url(#arrow)\"><title>Weights from input1 to hidden1\n hidden1/kernel has shape (1, 10)\n hidden1/bias has shape (10,)</title></line><rect x=\"99.0\" y=\"489\" width=\"102\" height=\"102\" style=\"fill:none;stroke:blue;stroke-width:2\"/><image id=\"XOR2_input1_6\" class=\"XOR2_input1\" x=\"100.0\" y=\"490\" height=\"100\" width=\"100\" preserveAspectRatio=\"none\" href=\"data:image/gif;base64,R0lGODdhAQABAIAAAH9/fwAAACwAAAAAAQABAAAIBQAB7AkIADs=\"><title>Layer: input1 (input)\n shape = (1,)\n Keras class = Input</title></image><text x=\"205.0\" y=\"542.0\" font-family=\"monospace\" font-size=\"12\">input1</text><rect x=\"290.0\" y=\"462\" width=\"20.0\" height=\"27\" style=\"fill:white;stroke:none\"><title>Weights from input2 to hidden2\n hidden2/kernel has shape (1, 10)\n hidden2/bias has shape (10,)</title></rect><line x1=\"300.0\" y1=\"489\" x2=\"300.0\" y2=\"462\" stroke=\"blue\" stroke-width=\"2\" marker-end=\"url(#arrow)\"><title>Weights from input2 to hidden2\n hidden2/kernel has shape (1, 10)\n hidden2/bias has shape (10,)</title></line><rect x=\"274.0\" y=\"489\" width=\"52\" height=\"52\" style=\"fill:none;stroke:blue;stroke-width:2\"/><image id=\"XOR2_input2_7\" class=\"XOR2_input2\" x=\"275.0\" y=\"490\" height=\"50\" width=\"50\" preserveAspectRatio=\"none\" href=\"data:image/gif;base64,R0lGODdhAQABAIAAAH9/fwAAACwAAAAAAQABAAAIBQAB7AkIADs=\"><title>Layer: input2 (input)\n shape = (1,)\n Keras class = Input</title></image><text x=\"330.0\" y=\"517.0\" font-family=\"monospace\" font-size=\"12\">input2</text></svg>"
      }
     },
     "3f89b84d896e4c6082ba84a7e01878df": {
      "model_module": "jupyter-js-widgets",
      "model_module_version": "~2.1.4",
      "model_name": "VBoxModel",
      "state": {
       "_model_module_version": "~2.1.4",
       "_view_module_version": "~2.1.4",
       "layout": "IPY_MODEL_893b5678c1b4456b94a0dd9e22cc500e"
      }
     },
     "3fd833808b85479da6c3248c466f01ab": {
      "model_module": "jupyter-js-widgets",
      "model_module_version": "~2.1.4",
      "model_name": "LayoutModel",
      "state": {
       "_model_module_version": "~2.1.4",
       "_view_module_version": "~2.1.4",
       "width": "100%"
      }
     },
     "402987aac43c4286b2d0b5bd9a38134b": {
      "model_module": "jupyter-js-widgets",
      "model_module_version": "~2.1.4",
      "model_name": "IntSliderModel",
      "state": {
       "_model_module_version": "~2.1.4",
       "_view_module_version": "~2.1.4",
       "continuous_update": false,
       "description": "Dataset index",
       "layout": "IPY_MODEL_a84471532b91424d87f5e7cead1bf86c",
       "max": 3,
       "style": "IPY_MODEL_97f5ee35ab544929afc938908aabe572",
       "value": 3
      }
     },
     "40caf14a39a94bc59d63a9f0f1c741af": {
      "model_module": "jupyter-js-widgets",
      "model_module_version": "~2.1.4",
      "model_name": "VBoxModel",
      "state": {
       "_model_module_version": "~2.1.4",
       "_view_module_version": "~2.1.4",
       "children": [
        "IPY_MODEL_303c2d42626b426dbdfc6c8671d38319",
        "IPY_MODEL_b4a6630b9763437ab53a0add8aa7da14"
       ],
       "layout": "IPY_MODEL_234aac74bad84d31ba012ad8ee601476"
      }
     },
     "4113d94fac104cc683fa9dd574927069": {
      "model_module": "jupyter-js-widgets",
      "model_module_version": "~2.1.4",
      "model_name": "VBoxModel",
      "state": {
       "_model_module_version": "~2.1.4",
       "_view_module_version": "~2.1.4",
       "children": [
        "IPY_MODEL_7d0c8bf5353740d3b133b563b3425f37"
       ],
       "layout": "IPY_MODEL_4e7d196a1a254a41902a3fddf46cd574"
      }
     },
     "414930c12b014165bc874791a3c228db": {
      "model_module": "jupyter-js-widgets",
      "model_module_version": "~2.1.4",
      "model_name": "HTMLModel",
      "state": {
       "_model_module_version": "~2.1.4",
       "_view_module_version": "~2.1.4",
       "layout": "IPY_MODEL_c0da6e42edde439cbff67d9cecea6e37",
       "value": "<iframe style=\"width: 800px\" src=\"https://conx.readthedocs.io\" width=\"100%\" height=\"550px\"></frame>"
      }
     },
     "41654bd1806946d390690cbd2077e12f": {
      "model_module": "jupyter-js-widgets",
      "model_module_version": "~2.1.4",
      "model_name": "ButtonModel",
      "state": {
       "_model_module_version": "~2.1.4",
       "_view_module_version": "~2.1.4",
       "description": "Turn on webcamera",
       "layout": "IPY_MODEL_d3e3642fef8f45be8e63aa864bf846ab",
       "style": "IPY_MODEL_87c24ac3969b4e739be0bc667f544876"
      }
     },
     "421b14b3d8db4abea861a721c19d0fc6": {
      "model_module": "jupyter-js-widgets",
      "model_module_version": "~2.1.4",
      "model_name": "LayoutModel",
      "state": {
       "_model_module_version": "~2.1.4",
       "_view_module_version": "~2.1.4",
       "width": "100%"
      }
     },
     "439ba2387d0d4d71a322874d30bffdfe": {
      "model_module": "jupyter-js-widgets",
      "model_module_version": "~2.1.4",
      "model_name": "VBoxModel",
      "state": {
       "_model_module_version": "~2.1.4",
       "_view_module_version": "~2.1.4",
       "children": [
        "IPY_MODEL_5bbb21f11f5e4a629cc641589d00b5d6",
        "IPY_MODEL_402987aac43c4286b2d0b5bd9a38134b",
        "IPY_MODEL_5dbf026a8ff3414794dfa0845dae4081"
       ],
       "layout": "IPY_MODEL_4e2c829867c541fe9e40b88b0ffb344d"
      }
     },
     "4409bae3d15d4943bc28982cdffeab3d": {
      "model_module": "jupyter-js-widgets",
      "model_module_version": "~2.1.4",
      "model_name": "HTMLModel",
      "state": {
       "_model_module_version": "~2.1.4",
       "_view_module_version": "~2.1.4",
       "layout": "IPY_MODEL_9e65353eb545427b8cf2a44005344843",
       "value": "<iframe style=\"width: 800px\" src=\"https://conx.readthedocs.io\" width=\"100%\" height=\"550px\"></frame>"
      }
     },
     "442497f10163439a93d58921f09153d2": {
      "model_module": "jupyter-js-widgets",
      "model_module_version": "~2.1.4",
      "model_name": "LayoutModel",
      "state": {
       "_model_module_version": "~2.1.4",
       "_view_module_version": "~2.1.4"
      }
     },
     "44e5f71a045448c3b322fc9c16894401": {
      "model_module": "jupyter-js-widgets",
      "model_module_version": "~2.1.4",
      "model_name": "TabModel",
      "state": {
       "_model_module_version": "~2.1.4",
       "_titles": {
        "0": "Network",
        "1": "Graphs",
        "2": "Analysis",
        "3": "Camera",
        "4": "Help"
       },
       "_view_module_version": "~2.1.4",
       "children": [
        "IPY_MODEL_c40f9d2988164011a0781f3d13633946",
        "IPY_MODEL_3cd814bde4b842f586569e861532a593",
        "IPY_MODEL_91a1ed1d9b7f4bfaaf9322b8de1e8201",
        "IPY_MODEL_5b8d558dc8de4d6ebed669da9be97e0a",
        "IPY_MODEL_8a76f08e64a84750a47c650cf83dd2fb"
       ],
       "layout": "IPY_MODEL_7ade35ec97e542dd84aea3f77c156dd9"
      }
     },
     "44efc54587484999880c64ab51c02296": {
      "model_module": "jupyter-js-widgets",
      "model_module_version": "~2.1.4",
      "model_name": "TabModel",
      "state": {
       "_model_module_version": "~2.1.4",
       "_titles": {
        "0": "Network",
        "1": "Graphs",
        "2": "Analysis",
        "3": "Camera",
        "4": "Help"
       },
       "_view_module_version": "~2.1.4",
       "children": [
        "IPY_MODEL_c5d5f72fc07e43f5b4ffe3098dd7bc88",
        "IPY_MODEL_a7bc6f88bb7845f4b981397560f92def",
        "IPY_MODEL_3f89b84d896e4c6082ba84a7e01878df",
        "IPY_MODEL_f81c5b7523794d0ba5198e4d5baaabc3",
        "IPY_MODEL_2d1350895f68434f9c95bc75f0111754"
       ],
       "layout": "IPY_MODEL_ca0908527e054c9c8df2b364c6b794ad"
      }
     },
     "4566156ec56542cc80eb076db259ad6f": {
      "model_module": "jupyter-js-widgets",
      "model_module_version": "~2.1.4",
      "model_name": "IntSliderModel",
      "state": {
       "_model_module_version": "~2.1.4",
       "_view_module_version": "~2.1.4",
       "continuous_update": false,
       "description": "Dataset index",
       "layout": "IPY_MODEL_d771b5a8c061419ca512c4dfb3f840f7",
       "max": 0,
       "style": "IPY_MODEL_255157042ca1441b85e636f282c5c51f"
      }
     },
     "45def2498a6343ee8ac1c0e41078f2a8": {
      "model_module": "jupyter-js-widgets",
      "model_module_version": "~2.1.4",
      "model_name": "SelectModel",
      "state": {
       "_model_module_version": "~2.1.4",
       "_options_labels": [
        "Test",
        "Train"
       ],
       "_view_module_version": "~2.1.4",
       "description": "Dataset:",
       "layout": "IPY_MODEL_02b16e8df9c74d33a8c775e25eeeb21c",
       "value": "Train"
      }
     },
     "464ce2dfdb7647ea8979ecb1a5e6db63": {
      "model_module": "jupyter-js-widgets",
      "model_module_version": "~2.1.4",
      "model_name": "LayoutModel",
      "state": {
       "_model_module_version": "~2.1.4",
       "_view_module_version": "~2.1.4"
      }
     },
     "4679ac4bee54430eac60a76556f0f166": {
      "model_module": "jupyter-js-widgets",
      "model_module_version": "~2.1.4",
      "model_name": "LayoutModel",
      "state": {
       "_model_module_version": "~2.1.4",
       "_view_module_version": "~2.1.4",
       "width": "100%"
      }
     },
     "470f613a3155494b82329f2db12f9f7c": {
      "model_module": "jupyter-js-widgets",
      "model_module_version": "~2.1.4",
      "model_name": "LayoutModel",
      "state": {
       "_model_module_version": "~2.1.4",
       "_view_module_version": "~2.1.4",
       "width": "100%"
      }
     },
     "49aa5652109940f296238f978556ac60": {
      "model_module": "jupyter-js-widgets",
      "model_module_version": "~2.1.4",
      "model_name": "VBoxModel",
      "state": {
       "_model_module_version": "~2.1.4",
       "_view_module_version": "~2.1.4",
       "children": [
        "IPY_MODEL_df123b2e24b24460aaf755dd627f9a1f",
        "IPY_MODEL_c108d4d174fb47bb885609984faeb38b",
        "IPY_MODEL_6dc6f06a857f4cd48279c9b9fd9ba9a8"
       ],
       "layout": "IPY_MODEL_34a9739355564ec08c979c30ad55bd4c"
      }
     },
     "49c6d8d7fd2c4cf89f614bd9f78e8f3d": {
      "model_module": "jupyter-js-widgets",
      "model_module_version": "~2.1.4",
      "model_name": "LayoutModel",
      "state": {
       "_model_module_version": "~2.1.4",
       "_view_module_version": "~2.1.4"
      }
     },
     "4a42e513b18a4462895cded9396cc32c": {
      "model_module": "jupyter-js-widgets",
      "model_module_version": "~2.1.4",
      "model_name": "LayoutModel",
      "state": {
       "_model_module_version": "~2.1.4",
       "_view_module_version": "~2.1.4",
       "width": "100%"
      }
     },
     "4a9ff758e7fc4959ac92c18708317be6": {
      "model_module": "jupyter-js-widgets",
      "model_module_version": "~2.1.4",
      "model_name": "LayoutModel",
      "state": {
       "_model_module_version": "~2.1.4",
       "_view_module_version": "~2.1.4"
      }
     },
     "4b4a3e8f7c6f40b7aca5dde773ce390f": {
      "model_module": "jupyter-js-widgets",
      "model_module_version": "~2.1.4",
      "model_name": "SliderStyleModel",
      "state": {
       "_model_module_version": "~2.1.4",
       "_view_module_version": "~2.1.4"
      }
     },
     "4b915e0f2734403fba921b49e6e1b0aa": {
      "model_module": "jupyter-js-widgets",
      "model_module_version": "~2.1.4",
      "model_name": "LayoutModel",
      "state": {
       "_model_module_version": "~2.1.4",
       "_view_module_version": "~2.1.4"
      }
     },
     "4bc2d3bd6f2547a898ec1c279a864f1a": {
      "model_module": "jupyter-js-widgets",
      "model_module_version": "~2.1.4",
      "model_name": "LayoutModel",
      "state": {
       "_model_module_version": "~2.1.4",
       "_view_module_version": "~2.1.4",
       "width": "100%"
      }
     },
     "4c41875340bb46bbbba3755953feccd1": {
      "model_module": "jupyter-js-widgets",
      "model_module_version": "~2.1.4",
      "model_name": "LayoutModel",
      "state": {
       "_model_module_version": "~2.1.4",
       "_view_module_version": "~2.1.4"
      }
     },
     "4c61d591967a49c48839ca5d179d221d": {
      "model_module": "jupyter-js-widgets",
      "model_module_version": "~2.1.4",
      "model_name": "LayoutModel",
      "state": {
       "_model_module_version": "~2.1.4",
       "_view_module_version": "~2.1.4"
      }
     },
     "4cc46e1ffa1449f09862f1e32a51c58a": {
      "model_module": "jupyter-js-widgets",
      "model_module_version": "~2.1.4",
      "model_name": "LayoutModel",
      "state": {
       "_model_module_version": "~2.1.4",
       "_view_module_version": "~2.1.4",
       "width": "100%"
      }
     },
     "4cdf1c06710f44759d1aa0689e778ca1": {
      "model_module": "jupyter-js-widgets",
      "model_module_version": "~2.1.4",
      "model_name": "VBoxModel",
      "state": {
       "_model_module_version": "~2.1.4",
       "_view_module_version": "~2.1.4",
       "children": [
        "IPY_MODEL_6b76b85cd76a41c6a304af05f552b9ba",
        "IPY_MODEL_439ba2387d0d4d71a322874d30bffdfe"
       ],
       "layout": "IPY_MODEL_af47a50aa28c4e748124ee7658835a74"
      }
     },
     "4d9dec6ff69b48c18cbf3197150adf62": {
      "model_module": "jupyter-js-widgets",
      "model_module_version": "~2.1.4",
      "model_name": "LayoutModel",
      "state": {
       "_model_module_version": "~2.1.4",
       "_view_module_version": "~2.1.4",
       "width": "100%"
      }
     },
     "4da58572b23d496baff1b3dd3634bc69": {
      "model_module": "jupyter-js-widgets",
      "model_module_version": "~2.1.4",
      "model_name": "ButtonModel",
      "state": {
       "_model_module_version": "~2.1.4",
       "_view_module_version": "~2.1.4",
       "description": "Turn on webcamera",
       "layout": "IPY_MODEL_86ea01164351479d8290a6af19738c3a",
       "style": "IPY_MODEL_7eeea8463b434db7bc183486362fe08c"
      }
     },
     "4db813e0f6ef43edbc6dc5dc0896ae79": {
      "model_module": "jupyter-js-widgets",
      "model_module_version": "~2.1.4",
      "model_name": "LayoutModel",
      "state": {
       "_model_module_version": "~2.1.4",
       "_view_module_version": "~2.1.4"
      }
     },
     "4e2c829867c541fe9e40b88b0ffb344d": {
      "model_module": "jupyter-js-widgets",
      "model_module_version": "~2.1.4",
      "model_name": "LayoutModel",
      "state": {
       "_model_module_version": "~2.1.4",
       "_view_module_version": "~2.1.4",
       "width": "100%"
      }
     },
     "4e5f1bf2cb8d4569ba0020651629b63f": {
      "model_module": "jupyter-js-widgets",
      "model_module_version": "~2.1.4",
      "model_name": "LayoutModel",
      "state": {
       "_model_module_version": "~2.1.4",
       "_view_module_version": "~2.1.4",
       "height": "100%",
       "justify_content": "center",
       "max_height": "550px",
       "overflow_x": "auto",
       "width": "100%"
      }
     },
     "4e7d196a1a254a41902a3fddf46cd574": {
      "model_module": "jupyter-js-widgets",
      "model_module_version": "~2.1.4",
      "model_name": "LayoutModel",
      "state": {
       "_model_module_version": "~2.1.4",
       "_view_module_version": "~2.1.4"
      }
     },
     "4e9e889c24344d73acac86c752aa3b5b": {
      "model_module": "jupyter-js-widgets",
      "model_module_version": "~2.1.4",
      "model_name": "ButtonStyleModel",
      "state": {
       "_model_module_version": "~2.1.4",
       "_view_module_version": "~2.1.4"
      }
     },
     "4f2334ff5efe4a3a99321e9128fb5e09": {
      "model_module": "jupyter-js-widgets",
      "model_module_version": "~2.1.4",
      "model_name": "VBoxModel",
      "state": {
       "_model_module_version": "~2.1.4",
       "_view_module_version": "~2.1.4",
       "children": [
        "IPY_MODEL_efb86a53ee1741938207d3685a925456",
        "IPY_MODEL_01bf682255c84898aa89c86c3eb776e8"
       ],
       "layout": "IPY_MODEL_9d6ba06fa5d54356985a811825920e3f"
      }
     },
     "4f583f767ab7406f95247e6938548146": {
      "model_module": "jupyter-js-widgets",
      "model_module_version": "~2.1.4",
      "model_name": "ButtonStyleModel",
      "state": {
       "_model_module_version": "~2.1.4",
       "_view_module_version": "~2.1.4"
      }
     },
     "4fbd79a6a4784d4097c86179f37f57e0": {
      "model_module": "jupyter-js-widgets",
      "model_module_version": "~2.1.4",
      "model_name": "ButtonStyleModel",
      "state": {
       "_model_module_version": "~2.1.4",
       "_view_module_version": "~2.1.4"
      }
     },
     "50127d44b8a4495eb184941fa2dfffcc": {
      "model_module": "jupyter-js-widgets",
      "model_module_version": "~2.1.4",
      "model_name": "ButtonModel",
      "state": {
       "_model_module_version": "~2.1.4",
       "_view_module_version": "~2.1.4",
       "description": "Turn on webcamera",
       "layout": "IPY_MODEL_a5f85916a6a646f58ed0caf2dd816377",
       "style": "IPY_MODEL_f908746304d64e779f9b4cb2ac5ab4c7"
      }
     },
     "5028c361b42b473984b239ee2808d2c2": {
      "model_module": "jupyter-js-widgets",
      "model_module_version": "~2.1.4",
      "model_name": "TabModel",
      "state": {
       "_model_module_version": "~2.1.4",
       "_titles": {
        "0": "Network",
        "1": "Graphs",
        "2": "Analysis",
        "3": "Camera",
        "4": "Help"
       },
       "_view_module_version": "~2.1.4",
       "children": [
        "IPY_MODEL_d12ebc7499e6471ba07a0ba99e19ce42",
        "IPY_MODEL_0a82745ed78f4f50a8c74335a03dc087",
        "IPY_MODEL_9fcbab9034964ed38c6b4f29c2e3fd29",
        "IPY_MODEL_1ccd4f01f4b04cb3a8aa645e4d171efe",
        "IPY_MODEL_6bc6e1e548234f5181ef0f4ee6f6996b"
       ],
       "layout": "IPY_MODEL_a56a9f73fd4b4c3cab364e43408190d2"
      }
     },
     "503ea797362943aab4c25393651ad02e": {
      "model_module": "jupyter-js-widgets",
      "model_module_version": "~2.1.4",
      "model_name": "SelectModel",
      "state": {
       "_model_module_version": "~2.1.4",
       "_options_labels": [
        "Test",
        "Train"
       ],
       "_view_module_version": "~2.1.4",
       "description": "Dataset:",
       "layout": "IPY_MODEL_0f2976e0269642a296ea848e1305f10a",
       "value": "Train"
      }
     },
     "50c025fd355b42fd82cb1187dae169ce": {
      "model_module": "jupyter-js-widgets",
      "model_module_version": "~2.1.4",
      "model_name": "ButtonModel",
      "state": {
       "_model_module_version": "~2.1.4",
       "_view_module_version": "~2.1.4",
       "description": "Turn on webcamera",
       "layout": "IPY_MODEL_4b915e0f2734403fba921b49e6e1b0aa",
       "style": "IPY_MODEL_5d407f90271b4dfd8f5b008c03498965"
      }
     },
     "50c5bc0aa0b4478fbf5bd3c01bb71b46": {
      "model_module": "jupyter-js-widgets",
      "model_module_version": "~2.1.4",
      "model_name": "ButtonStyleModel",
      "state": {
       "_model_module_version": "~2.1.4",
       "_view_module_version": "~2.1.4"
      }
     },
     "512a7607a01e4dcabdd33d8923d24640": {
      "model_module": "jupyter-js-widgets",
      "model_module_version": "~2.1.4",
      "model_name": "IntSliderModel",
      "state": {
       "_model_module_version": "~2.1.4",
       "_view_module_version": "~2.1.4",
       "continuous_update": false,
       "description": "Dataset index",
       "layout": "IPY_MODEL_0e060a51e4d44b82b02e1cf0ae171606",
       "max": 0,
       "style": "IPY_MODEL_b90b5e95f4ca478599fef49f0ca55773"
      }
     },
     "517828a2450d48da960badf1700c01e3": {
      "model_module": "jupyter-js-widgets",
      "model_module_version": "~2.1.4",
      "model_name": "LayoutModel",
      "state": {
       "_model_module_version": "~2.1.4",
       "_view_module_version": "~2.1.4",
       "height": "100%",
       "justify_content": "center",
       "max_height": "550px",
       "overflow_x": "auto",
       "width": "100%"
      }
     },
     "51f0ff08f2c54ed3859ca81518c139b2": {
      "model_module": "jupyter-js-widgets",
      "model_module_version": "~2.1.4",
      "model_name": "VBoxModel",
      "state": {
       "_model_module_version": "~2.1.4",
       "_view_module_version": "~2.1.4",
       "children": [
        "IPY_MODEL_bdc2c9b143fb409e91ff361e0311ea34"
       ],
       "layout": "IPY_MODEL_704656aee09a4c00860d49882d0ab91e"
      }
     },
     "53472695d3e54a22b5ae7ce2c7a3cdc1": {
      "model_module": "jupyter-js-widgets",
      "model_module_version": "~2.1.4",
      "model_name": "SelectModel",
      "state": {
       "_model_module_version": "~2.1.4",
       "_options_labels": [
        "Test",
        "Train"
       ],
       "_view_module_version": "~2.1.4",
       "description": "Dataset:",
       "layout": "IPY_MODEL_4c61d591967a49c48839ca5d179d221d",
       "value": "Train"
      }
     },
     "53607e2bb9594bb9bd0eb4c3b7012d05": {
      "model_module": "jupyter-js-widgets",
      "model_module_version": "~2.1.4",
      "model_name": "LayoutModel",
      "state": {
       "_model_module_version": "~2.1.4",
       "_view_module_version": "~2.1.4",
       "width": "100%"
      }
     },
     "54089cec89f74c29b7e79d1a84c5efe2": {
      "model_module": "jupyter-js-widgets",
      "model_module_version": "~2.1.4",
      "model_name": "LayoutModel",
      "state": {
       "_model_module_version": "~2.1.4",
       "_view_module_version": "~2.1.4",
       "width": "100%"
      }
     },
     "542b77fcbf2948c58facff76e83b29c2": {
      "model_module": "jupyter-js-widgets",
      "model_module_version": "~2.1.4",
      "model_name": "ButtonStyleModel",
      "state": {
       "_model_module_version": "~2.1.4",
       "_view_module_version": "~2.1.4"
      }
     },
     "5551701f412f44b79c2cc2092f7b51fd": {
      "model_module": "jupyter-js-widgets",
      "model_module_version": "~2.1.4",
      "model_name": "HTMLModel",
      "state": {
       "_model_module_version": "~2.1.4",
       "_view_module_version": "~2.1.4",
       "layout": "IPY_MODEL_4e5f1bf2cb8d4569ba0020651629b63f",
       "value": "\n        <svg id='XOR2' xmlns='http://www.w3.org/2000/svg' width=\"450\" height=\"615\" image-rendering=\"pixelated\">\n    <defs>\n        <marker id=\"arrow\" markerWidth=\"10\" markerHeight=\"10\" refX=\"9\" refY=\"3\" orient=\"auto\" markerUnits=\"strokeWidth\">\n          <path d=\"M0,0 L0,6 L9,3 z\" fill=\"blue\" />\n        </marker>\n    </defs>\n<rect x=\"99.0\" y=\"24\" width=\"102\" height=\"102\" style=\"fill:none;stroke:blue;stroke-width:2\"/><image id=\"XOR2_output1_targets_1\" class=\"XOR2_output1_targets\" x=\"100.0\" y=\"25\" height=\"100\" width=\"100\" preserveAspectRatio=\"none\" href=\"data:image/gif;base64,R0lGODdhAQABAIAAAGtrawAAACwAAAAAAQABAAAIBQAB6AoIADs=\"><title>Layer: output1 (output)\n shape = (1,)\n Keras class = Dense\n activation = sigmoid</title></image><text x=\"205.0\" y=\"77.0\" font-family=\"monospace\" font-size=\"12\">targets</text><rect x=\"274.0\" y=\"24\" width=\"52\" height=\"52\" style=\"fill:none;stroke:blue;stroke-width:2\"/><image id=\"XOR2_output2_targets_1\" class=\"XOR2_output2_targets\" x=\"275.0\" y=\"25\" height=\"50\" width=\"50\" preserveAspectRatio=\"none\" href=\"data:image/gif;base64,R0lGODdhAQABAIAAAJ6engAAACwAAAAAAQABAAAIBQAB7AkIADs=\"><title>Layer: output2 (output)\n shape = (1,)\n Keras class = Dense\n activation = sigmoid</title></image><text x=\"330.0\" y=\"52.0\" font-family=\"monospace\" font-size=\"12\">targets</text><rect x=\"49.0\" y=\"134\" width=\"102\" height=\"102\" style=\"fill:none;stroke:blue;stroke-width:2\"/><image id=\"XOR2_output1_errors_1\" class=\"XOR2_output1_errors\" x=\"50.0\" y=\"135\" height=\"100\" width=\"100\" preserveAspectRatio=\"none\" href=\"data:image/gif;base64,R0lGODdhAQABAIAAAGtrawAAACwAAAAAAQABAAAIBQAB7AkIADs=\"><title>Layer: output1 (output)\n shape = (1,)\n Keras class = Dense\n activation = sigmoid</title></image><text x=\"155.0\" y=\"187.0\" font-family=\"monospace\" font-size=\"12\">errors</text><rect x=\"174.0\" y=\"134\" width=\"52\" height=\"52\" style=\"fill:none;stroke:blue;stroke-width:2\"/><image id=\"XOR2_output2_errors_1\" class=\"XOR2_output2_errors\" x=\"175.0\" y=\"135\" height=\"50\" width=\"50\" preserveAspectRatio=\"none\" href=\"data:image/gif;base64,R0lGODdhAQABAIAAAJ6engAAACwAAAAAAQABAAAIBQAB7AkIADs=\"><title>Layer: output2 (output)\n shape = (1,)\n Keras class = Dense\n activation = sigmoid</title></image><text x=\"230.0\" y=\"162.0\" font-family=\"monospace\" font-size=\"12\">errors</text><rect x=\"49.0\" y=\"249\" width=\"102\" height=\"102\" style=\"fill:none;stroke:blue;stroke-width:2\"/><image id=\"XOR2_output1_1\" class=\"XOR2_output1\" x=\"50.0\" y=\"250\" height=\"100\" width=\"100\" preserveAspectRatio=\"none\" href=\"data:image/gif;base64,R0lGODdhAQABAIAAAGtrawAAACwAAAAAAQABAAAIBQAB7AkIADs=\"><title>Layer: output1 (output)\n shape = (1,)\n Keras class = Dense\n activation = sigmoid</title></image><text x=\"155.0\" y=\"302.0\" font-family=\"monospace\" font-size=\"12\">output1</text><rect x=\"174.0\" y=\"249\" width=\"52\" height=\"52\" style=\"fill:none;stroke:blue;stroke-width:2\"/><image id=\"XOR2_output2_2\" class=\"XOR2_output2\" x=\"175.0\" y=\"250\" height=\"50\" width=\"50\" preserveAspectRatio=\"none\" href=\"data:image/gif;base64,R0lGODdhAQABAIAAAJ6engAAACwAAAAAAQABAAAIBQAB7AkIADs=\"><title>Layer: output2 (output)\n shape = (1,)\n Keras class = Dense\n activation = sigmoid</title></image><text x=\"230.0\" y=\"277.0\" font-family=\"monospace\" font-size=\"12\">output2</text><rect x=\"100.0\" y=\"352\" width=\"100.0\" height=\"27\" style=\"fill:white;stroke:none\"><title>Weights from shared-hidden to output1\n output1/kernel has shape (5, 1)\n output1/bias has shape (1,)</title></rect><rect x=\"190.0\" y=\"302\" width=\"20.0\" height=\"77\" style=\"fill:white;stroke:none\"><title>Weights from shared-hidden to output2\n output2/kernel has shape (5, 1)\n output2/bias has shape (1,)</title></rect><line x1=\"200.0\" y1=\"379\" x2=\"100.0\" y2=\"352\" stroke=\"blue\" stroke-width=\"2\" marker-end=\"url(#arrow)\"><title>Weights from shared-hidden to output1\n output1/kernel has shape (5, 1)\n output1/bias has shape (1,)</title></line><line x1=\"200.0\" y1=\"379\" x2=\"200.0\" y2=\"302\" stroke=\"blue\" stroke-width=\"2\" marker-end=\"url(#arrow)\"><title>Weights from shared-hidden to output2\n output2/kernel has shape (5, 1)\n output2/bias has shape (1,)</title></line><rect x=\"174.0\" y=\"379\" width=\"52\" height=\"27\" style=\"fill:none;stroke:blue;stroke-width:2\"/><image id=\"XOR2_shared-hidden_3\" class=\"XOR2_shared-hidden\" x=\"175.0\" y=\"380\" height=\"25\" width=\"50\" preserveAspectRatio=\"none\" href=\"data:image/gif;base64,R0lGODdhBQABAIIAADY2Nj09PXR0dJycnKCgoAAAAAAAAAAAACwAAAAABQABAAAICAAFEBgQAEBAADs=\"><title>Layer: shared-hidden (hidden)\n shape = (5,)\n Keras class = Dense\n activation = sigmoid</title></image><text x=\"230.0\" y=\"394.5\" font-family=\"monospace\" font-size=\"12\">shared-hidden</text><rect x=\"116.66666666666667\" y=\"407\" width=\"83.33333333333333\" height=\"27\" style=\"fill:white;stroke:none\"><title>Weights from hidden1 to shared-hidden\n shared-hidden/kernel has shape (20, 5)\n shared-hidden/bias has shape (5,)</title></rect><line x1=\"116.66666666666667\" y1=\"434\" x2=\"200.0\" y2=\"407\" stroke=\"blue\" stroke-width=\"2\" marker-end=\"url(#arrow)\"><title>Weights from hidden1 to shared-hidden\n shared-hidden/kernel has shape (20, 5)\n shared-hidden/bias has shape (5,)</title></line><rect x=\"90.66666666666667\" y=\"434\" width=\"52\" height=\"27\" style=\"fill:none;stroke:blue;stroke-width:2\"/><image id=\"XOR2_hidden1_4\" class=\"XOR2_hidden1\" x=\"91.66666666666667\" y=\"435\" height=\"25\" width=\"50\" preserveAspectRatio=\"none\" href=\"data:image/gif;base64,R0lGODdhCgABAIAAAH9/fwAAACwAAAAACgABAAAIBwABCBxIMCAAOw==\"><title>Layer: hidden1 (hidden)\n shape = (10,)\n Keras class = Dense\n activation = sigmoid</title></image><text x=\"146.66666666666669\" y=\"449.5\" font-family=\"monospace\" font-size=\"12\">hidden1</text><rect x=\"200.0\" y=\"407\" width=\"33.33333333333334\" height=\"27\" style=\"fill:white;stroke:none\"><title>Weights from hidden2 to shared-hidden\n shared-hidden/kernel has shape (20, 5)\n shared-hidden/bias has shape (5,)</title></rect><line x1=\"233.33333333333334\" y1=\"434\" x2=\"200.0\" y2=\"407\" stroke=\"blue\" stroke-width=\"2\" marker-end=\"url(#arrow)\"><title>Weights from hidden2 to shared-hidden\n shared-hidden/kernel has shape (20, 5)\n shared-hidden/bias has shape (5,)</title></line><rect x=\"207.33333333333334\" y=\"434\" width=\"52\" height=\"27\" style=\"fill:none;stroke:blue;stroke-width:2\"/><image id=\"XOR2_hidden2_5\" class=\"XOR2_hidden2\" x=\"208.33333333333334\" y=\"435\" height=\"25\" width=\"50\" preserveAspectRatio=\"none\" href=\"data:image/gif;base64,R0lGODdhCgABAIAAAH9/fwAAACwAAAAACgABAAAIBwABCBxIMCAAOw==\"><title>Layer: hidden2 (hidden)\n shape = (10,)\n Keras class = Dense\n activation = sigmoid</title></image><text x=\"263.33333333333337\" y=\"449.5\" font-family=\"monospace\" font-size=\"12\">hidden2</text><rect x=\"90.0\" y=\"462\" width=\"36.66666666666667\" height=\"27\" style=\"fill:white;stroke:none\"><title>Weights from input1 to hidden1\n hidden1/kernel has shape (1, 10)\n hidden1/bias has shape (10,)</title></rect><line x1=\"100.0\" y1=\"489\" x2=\"116.66666666666667\" y2=\"462\" stroke=\"blue\" stroke-width=\"2\" marker-end=\"url(#arrow)\"><title>Weights from input1 to hidden1\n hidden1/kernel has shape (1, 10)\n hidden1/bias has shape (10,)</title></line><rect x=\"49.0\" y=\"489\" width=\"102\" height=\"102\" style=\"fill:none;stroke:blue;stroke-width:2\"/><image id=\"XOR2_input1_6\" class=\"XOR2_input1\" x=\"50.0\" y=\"490\" height=\"100\" width=\"100\" preserveAspectRatio=\"none\" href=\"data:image/gif;base64,R0lGODdhAQABAIAAAH9/fwAAACwAAAAAAQABAAAIBQAB7AkIADs=\"><title>Layer: input1 (input)\n shape = (1,)\n Keras class = Input</title></image><text x=\"155.0\" y=\"542.0\" font-family=\"monospace\" font-size=\"12\">input1</text><rect x=\"200.0\" y=\"462\" width=\"33.33333333333334\" height=\"27\" style=\"fill:white;stroke:none\"><title>Weights from input2 to hidden2\n hidden2/kernel has shape (1, 10)\n hidden2/bias has shape (10,)</title></rect><line x1=\"200.0\" y1=\"489\" x2=\"233.33333333333334\" y2=\"462\" stroke=\"blue\" stroke-width=\"2\" marker-end=\"url(#arrow)\"><title>Weights from input2 to hidden2\n hidden2/kernel has shape (1, 10)\n hidden2/bias has shape (10,)</title></line><rect x=\"174.0\" y=\"489\" width=\"52\" height=\"52\" style=\"fill:none;stroke:blue;stroke-width:2\"/><image id=\"XOR2_input2_7\" class=\"XOR2_input2\" x=\"175.0\" y=\"490\" height=\"50\" width=\"50\" preserveAspectRatio=\"none\" href=\"data:image/gif;base64,R0lGODdhAQABAIAAAH9/fwAAACwAAAAAAQABAAAIBQAB7AkIADs=\"><title>Layer: input2 (input)\n shape = (1,)\n Keras class = Input</title></image><text x=\"230.0\" y=\"517.0\" font-family=\"monospace\" font-size=\"12\">input2</text></svg>"
      }
     },
     "557369a80a874b5dbebde89afe1f98e8": {
      "model_module": "jupyter-js-widgets",
      "model_module_version": "~2.1.4",
      "model_name": "LayoutModel",
      "state": {
       "_model_module_version": "~2.1.4",
       "_view_module_version": "~2.1.4",
       "width": "100%"
      }
     },
     "55c4bc0f319243398fb511dec1a6bc06": {
      "model_module": "jupyter-js-widgets",
      "model_module_version": "~2.1.4",
      "model_name": "ButtonModel",
      "state": {
       "_model_module_version": "~2.1.4",
       "_view_module_version": "~2.1.4",
       "description": "Train",
       "layout": "IPY_MODEL_f065b7f19ce94993a4ecaef13a6a48a8",
       "style": "IPY_MODEL_273ad071d8994f24ba4881fafd8debfe"
      }
     },
     "561165920e724f529959bed753921e72": {
      "model_module": "jupyter-js-widgets",
      "model_module_version": "~2.1.4",
      "model_name": "LayoutModel",
      "state": {
       "_model_module_version": "~2.1.4",
       "_view_module_version": "~2.1.4",
       "width": "100%"
      }
     },
     "56fcaf32cb964dedb2996d7d155b7a5b": {
      "model_module": "jupyter-js-widgets",
      "model_module_version": "~2.1.4",
      "model_name": "LayoutModel",
      "state": {
       "_model_module_version": "~2.1.4",
       "_view_module_version": "~2.1.4",
       "width": "100%"
      }
     },
     "5716138ec1444a1eaee9def6a1de5c45": {
      "model_module": "jupyter-js-widgets",
      "model_module_version": "~2.1.4",
      "model_name": "ButtonModel",
      "state": {
       "_model_module_version": "~2.1.4",
       "_view_module_version": "~2.1.4",
       "icon": "fast-backward",
       "layout": "IPY_MODEL_65e94362693d4d01a9b5bf297b02aeaa",
       "style": "IPY_MODEL_50c5bc0aa0b4478fbf5bd3c01bb71b46"
      }
     },
     "57566cfc14c94bd89b27711315a3ac85": {
      "model_module": "jupyter-js-widgets",
      "model_module_version": "~2.1.4",
      "model_name": "LayoutModel",
      "state": {
       "_model_module_version": "~2.1.4",
       "_view_module_version": "~2.1.4",
       "width": "100%"
      }
     },
     "59ce4afac196447790f81a655e2e8334": {
      "model_module": "jupyter-js-widgets",
      "model_module_version": "~2.1.4",
      "model_name": "LayoutModel",
      "state": {
       "_model_module_version": "~2.1.4",
       "_view_module_version": "~2.1.4",
       "width": "100%"
      }
     },
     "5a0f3ffc8d8c4459815e33fc839752b9": {
      "model_module": "jupyter-js-widgets",
      "model_module_version": "~2.1.4",
      "model_name": "ButtonModel",
      "state": {
       "_model_module_version": "~2.1.4",
       "_view_module_version": "~2.1.4",
       "description": "Turn on webcamera",
       "layout": "IPY_MODEL_1d7d22d6a7194282ae922a83bbe81664",
       "style": "IPY_MODEL_89083768dc6a44078856ad96ef6b9fe3"
      }
     },
     "5a1667cbb33543dda8f16126bdc262b8": {
      "model_module": "jupyter-js-widgets",
      "model_module_version": "~2.1.4",
      "model_name": "LayoutModel",
      "state": {
       "_model_module_version": "~2.1.4",
       "_view_module_version": "~2.1.4",
       "width": "100%"
      }
     },
     "5aa957f95a4c4a5c8737013ef50d65e3": {
      "model_module": "jupyter-js-widgets",
      "model_module_version": "~2.1.4",
      "model_name": "ButtonStyleModel",
      "state": {
       "_model_module_version": "~2.1.4",
       "_view_module_version": "~2.1.4"
      }
     },
     "5b3d01069a0e4d05a9960411d2a5e4d9": {
      "model_module": "jupyter-js-widgets",
      "model_module_version": "~2.1.4",
      "model_name": "LayoutModel",
      "state": {
       "_model_module_version": "~2.1.4",
       "_view_module_version": "~2.1.4",
       "width": "100%"
      }
     },
     "5b8939e1b5454efc80451160d61f20d4": {
      "model_module": "jupyter-js-widgets",
      "model_module_version": "~2.1.4",
      "model_name": "LayoutModel",
      "state": {
       "_model_module_version": "~2.1.4",
       "_view_module_version": "~2.1.4",
       "height": "100%",
       "justify_content": "center",
       "max_height": "550px",
       "overflow_x": "auto",
       "width": "100%"
      }
     },
     "5b8d558dc8de4d6ebed669da9be97e0a": {
      "model_module": "jupyter-js-widgets",
      "model_module_version": "~2.1.4",
      "model_name": "VBoxModel",
      "state": {
       "_model_module_version": "~2.1.4",
       "_view_module_version": "~2.1.4",
       "children": [
        "IPY_MODEL_9585dc0604ce4177acb1b803db57537c"
       ],
       "layout": "IPY_MODEL_bafb5bb15e7647b8aeb4dda676c9bd38"
      }
     },
     "5bbb21f11f5e4a629cc641589d00b5d6": {
      "model_module": "jupyter-js-widgets",
      "model_module_version": "~2.1.4",
      "model_name": "SelectModel",
      "state": {
       "_model_module_version": "~2.1.4",
       "_options_labels": [
        "Test",
        "Train"
       ],
       "_view_module_version": "~2.1.4",
       "description": "Dataset:",
       "layout": "IPY_MODEL_d13fff01403740c39af63ba7630a61dd",
       "value": "Train"
      }
     },
     "5be312cbd4f847eb832194a95e7d1322": {
      "model_module": "jupyter-js-widgets",
      "model_module_version": "~2.1.4",
      "model_name": "ButtonStyleModel",
      "state": {
       "_model_module_version": "~2.1.4",
       "_view_module_version": "~2.1.4"
      }
     },
     "5c13d3d0596842b7ab247ef7dfd44207": {
      "model_module": "jupyter-js-widgets",
      "model_module_version": "~2.1.4",
      "model_name": "LayoutModel",
      "state": {
       "_model_module_version": "~2.1.4",
       "_view_module_version": "~2.1.4"
      }
     },
     "5c5211eced414c39922d28ba9abee493": {
      "model_module": "jupyter-js-widgets",
      "model_module_version": "~2.1.4",
      "model_name": "HTMLModel",
      "state": {
       "_model_module_version": "~2.1.4",
       "_view_module_version": "~2.1.4",
       "layout": "IPY_MODEL_847268ea0c30408c971690e6b92a06c4",
       "value": "\n        <svg id='XOR2' xmlns='http://www.w3.org/2000/svg' width=\"450\" height=\"615\" image-rendering=\"pixelated\">\n    <defs>\n        <marker id=\"arrow\" markerWidth=\"10\" markerHeight=\"10\" refX=\"9\" refY=\"3\" orient=\"auto\" markerUnits=\"strokeWidth\">\n          <path d=\"M0,0 L0,6 L9,3 z\" fill=\"blue\" />\n        </marker>\n    </defs>\n<rect x=\"99.0\" y=\"24\" width=\"102\" height=\"102\" style=\"fill:none;stroke:blue;stroke-width:2\"/><image id=\"XOR2_output1_targets_1\" class=\"XOR2_output1_targets\" x=\"100.0\" y=\"25\" height=\"100\" width=\"100\" preserveAspectRatio=\"none\" href=\"data:image/gif;base64,R0lGODdhAQABAIAAALu7uwAAACwAAAAAAQABAAAIBQAB6AkIADs=\"><title>Layer: output1 (output)\n shape = (1,)\n Keras class = Dense\n activation = sigmoid</title></image><text x=\"205.0\" y=\"77.0\" font-family=\"monospace\" font-size=\"12\">targets</text><rect x=\"224.0\" y=\"24\" width=\"52\" height=\"52\" style=\"fill:none;stroke:blue;stroke-width:2\"/><image id=\"XOR2_output2_targets_1\" class=\"XOR2_output2_targets\" x=\"225.0\" y=\"25\" height=\"50\" width=\"50\" preserveAspectRatio=\"none\" href=\"data:image/gif;base64,R0lGODdhAQABAIAAAHd3dwAAACwAAAAAAQABAAAIBQABLAgIADs=\"><title>Layer: output2 (output)\n shape = (1,)\n Keras class = Dense\n activation = sigmoid</title></image><text x=\"280.0\" y=\"52.0\" font-family=\"monospace\" font-size=\"12\">targets</text><rect x=\"49.0\" y=\"134\" width=\"102\" height=\"102\" style=\"fill:none;stroke:blue;stroke-width:2\"/><image id=\"XOR2_output1_errors_1\" class=\"XOR2_output1_errors\" x=\"50.0\" y=\"135\" height=\"100\" width=\"100\" preserveAspectRatio=\"none\" href=\"data:image/gif;base64,R0lGODdhAQABAIAAALu7uwAAACwAAAAAAQABAAAIBQABLAgIADs=\"><title>Layer: output1 (output)\n shape = (1,)\n Keras class = Dense\n activation = sigmoid</title></image><text x=\"155.0\" y=\"187.0\" font-family=\"monospace\" font-size=\"12\">errors</text><rect x=\"124.0\" y=\"134\" width=\"52\" height=\"52\" style=\"fill:none;stroke:blue;stroke-width:2\"/><image id=\"XOR2_output2_errors_1\" class=\"XOR2_output2_errors\" x=\"125.0\" y=\"135\" height=\"50\" width=\"50\" preserveAspectRatio=\"none\" href=\"data:image/gif;base64,R0lGODdhAQABAIAAAHd3dwAAACwAAAAAAQABAAAIBQABLAgIADs=\"><title>Layer: output2 (output)\n shape = (1,)\n Keras class = Dense\n activation = sigmoid</title></image><text x=\"180.0\" y=\"162.0\" font-family=\"monospace\" font-size=\"12\">errors</text><rect x=\"49.0\" y=\"249\" width=\"102\" height=\"102\" style=\"fill:none;stroke:blue;stroke-width:2\"/><image id=\"XOR2_output1_1\" class=\"XOR2_output1\" x=\"50.0\" y=\"250\" height=\"100\" width=\"100\" preserveAspectRatio=\"none\" href=\"data:image/gif;base64,R0lGODdhAQABAIAAALu7uwAAACwAAAAAAQABAAAIBQABLAgIADs=\"><title>Layer: output1 (output)\n shape = (1,)\n Keras class = Dense\n activation = sigmoid</title></image><text x=\"155.0\" y=\"302.0\" font-family=\"monospace\" font-size=\"12\">output1</text><rect x=\"124.0\" y=\"249\" width=\"52\" height=\"52\" style=\"fill:none;stroke:blue;stroke-width:2\"/><image id=\"XOR2_output2_2\" class=\"XOR2_output2\" x=\"125.0\" y=\"250\" height=\"50\" width=\"50\" preserveAspectRatio=\"none\" href=\"data:image/gif;base64,R0lGODdhAQABAIAAAHd3dwAAACwAAAAAAQABAAAIBQABLAgIADs=\"><title>Layer: output2 (output)\n shape = (1,)\n Keras class = Dense\n activation = sigmoid</title></image><text x=\"180.0\" y=\"277.0\" font-family=\"monospace\" font-size=\"12\">output2</text><rect x=\"100.0\" y=\"352\" width=\"100.0\" height=\"27\" style=\"fill:white;stroke:none\"><title>Weights from shared-hidden to output1\n output1/kernel has shape (5, 1)\n output1/bias has shape (1,)</title></rect><rect x=\"150.0\" y=\"302\" width=\"50.0\" height=\"77\" style=\"fill:white;stroke:none\"><title>Weights from shared-hidden to output2\n output2/kernel has shape (5, 1)\n output2/bias has shape (1,)</title></rect><line x1=\"200.0\" y1=\"379\" x2=\"100.0\" y2=\"352\" stroke=\"blue\" stroke-width=\"2\" marker-end=\"url(#arrow)\"><title>Weights from shared-hidden to output1\n output1/kernel has shape (5, 1)\n output1/bias has shape (1,)</title></line><line x1=\"200.0\" y1=\"379\" x2=\"150.0\" y2=\"302\" stroke=\"blue\" stroke-width=\"2\" marker-end=\"url(#arrow)\"><title>Weights from shared-hidden to output2\n output2/kernel has shape (5, 1)\n output2/bias has shape (1,)</title></line><rect x=\"174.0\" y=\"379\" width=\"52\" height=\"27\" style=\"fill:none;stroke:blue;stroke-width:2\"/><image id=\"XOR2_shared-hidden_3\" class=\"XOR2_shared-hidden\" x=\"175.0\" y=\"380\" height=\"25\" width=\"50\" preserveAspectRatio=\"none\" href=\"data:image/gif;base64,R0lGODdhBQABAIIAAFBQUFlZWZ+fn6WlpbW1tQAAAAAAAAAAACwAAAAABQABAAAICAAJBAAwQEBAADs=\"><title>Layer: shared-hidden (hidden)\n shape = (5,)\n Keras class = Dense\n activation = sigmoid</title></image><text x=\"230.0\" y=\"394.5\" font-family=\"monospace\" font-size=\"12\">shared-hidden</text><rect x=\"116.66666666666667\" y=\"407\" width=\"83.33333333333333\" height=\"27\" style=\"fill:white;stroke:none\"><title>Weights from hidden1 to shared-hidden\n shared-hidden/kernel has shape (20, 5)\n shared-hidden/bias has shape (5,)</title></rect><line x1=\"116.66666666666667\" y1=\"434\" x2=\"200.0\" y2=\"407\" stroke=\"blue\" stroke-width=\"2\" marker-end=\"url(#arrow)\"><title>Weights from hidden1 to shared-hidden\n shared-hidden/kernel has shape (20, 5)\n shared-hidden/bias has shape (5,)</title></line><rect x=\"90.66666666666667\" y=\"434\" width=\"52\" height=\"27\" style=\"fill:none;stroke:blue;stroke-width:2\"/><image id=\"XOR2_hidden1_4\" class=\"XOR2_hidden1\" x=\"91.66666666666667\" y=\"435\" height=\"25\" width=\"50\" preserveAspectRatio=\"none\" href=\"data:image/gif;base64,R0lGODdhCgABAIAAAH9/fwAAACwAAAAACgABAAAIBwABCBxIMCAAOw==\"><title>Layer: hidden1 (hidden)\n shape = (10,)\n Keras class = Dense\n activation = sigmoid</title></image><text x=\"146.66666666666669\" y=\"449.5\" font-family=\"monospace\" font-size=\"12\">hidden1</text><rect x=\"190.0\" y=\"407\" width=\"28.333333333333343\" height=\"27\" style=\"fill:white;stroke:none\"><title>Weights from hidden2 to shared-hidden\n shared-hidden/kernel has shape (20, 5)\n shared-hidden/bias has shape (5,)</title></rect><line x1=\"208.33333333333334\" y1=\"434\" x2=\"200.0\" y2=\"407\" stroke=\"blue\" stroke-width=\"2\" marker-end=\"url(#arrow)\"><title>Weights from hidden2 to shared-hidden\n shared-hidden/kernel has shape (20, 5)\n shared-hidden/bias has shape (5,)</title></line><rect x=\"182.33333333333334\" y=\"434\" width=\"52\" height=\"27\" style=\"fill:none;stroke:blue;stroke-width:2\"/><image id=\"XOR2_hidden2_5\" class=\"XOR2_hidden2\" x=\"183.33333333333334\" y=\"435\" height=\"25\" width=\"50\" preserveAspectRatio=\"none\" href=\"data:image/gif;base64,R0lGODdhCgABAIAAAH9/fwAAACwAAAAACgABAAAIBwABCBxIMCAAOw==\"><title>Layer: hidden2 (hidden)\n shape = (10,)\n Keras class = Dense\n activation = sigmoid</title></image><text x=\"238.33333333333334\" y=\"449.5\" font-family=\"monospace\" font-size=\"12\">hidden2</text><rect x=\"90.0\" y=\"462\" width=\"36.66666666666667\" height=\"27\" style=\"fill:white;stroke:none\"><title>Weights from input1 to hidden1\n hidden1/kernel has shape (1, 10)\n hidden1/bias has shape (10,)</title></rect><line x1=\"100.0\" y1=\"489\" x2=\"116.66666666666667\" y2=\"462\" stroke=\"blue\" stroke-width=\"2\" marker-end=\"url(#arrow)\"><title>Weights from input1 to hidden1\n hidden1/kernel has shape (1, 10)\n hidden1/bias has shape (10,)</title></line><rect x=\"49.0\" y=\"489\" width=\"102\" height=\"102\" style=\"fill:none;stroke:blue;stroke-width:2\"/><image id=\"XOR2_input1_6\" class=\"XOR2_input1\" x=\"50.0\" y=\"490\" height=\"100\" width=\"100\" preserveAspectRatio=\"none\" href=\"data:image/gif;base64,R0lGODdhAQABAIAAAH9/fwAAACwAAAAAAQABAAAIBQABLAgIADs=\"><title>Layer: input1 (input)\n shape = (1,)\n Keras class = Input</title></image><text x=\"155.0\" y=\"542.0\" font-family=\"monospace\" font-size=\"12\">input1</text><rect x=\"150.0\" y=\"462\" width=\"58.33333333333334\" height=\"27\" style=\"fill:white;stroke:none\"><title>Weights from input2 to hidden2\n hidden2/kernel has shape (1, 10)\n hidden2/bias has shape (10,)</title></rect><line x1=\"150.0\" y1=\"489\" x2=\"208.33333333333334\" y2=\"462\" stroke=\"blue\" stroke-width=\"2\" marker-end=\"url(#arrow)\"><title>Weights from input2 to hidden2\n hidden2/kernel has shape (1, 10)\n hidden2/bias has shape (10,)</title></line><rect x=\"124.0\" y=\"489\" width=\"52\" height=\"52\" style=\"fill:none;stroke:blue;stroke-width:2\"/><image id=\"XOR2_input2_7\" class=\"XOR2_input2\" x=\"125.0\" y=\"490\" height=\"50\" width=\"50\" preserveAspectRatio=\"none\" href=\"data:image/gif;base64,R0lGODdhAQABAIAAAH9/fwAAACwAAAAAAQABAAAIBQABLAgIADs=\"><title>Layer: input2 (input)\n shape = (1,)\n Keras class = Input</title></image><text x=\"180.0\" y=\"517.0\" font-family=\"monospace\" font-size=\"12\">input2</text></svg>"
      }
     },
     "5c7296c95b9643abaa3349b95c0c57e4": {
      "model_module": "jupyter-js-widgets",
      "model_module_version": "~2.1.4",
      "model_name": "LayoutModel",
      "state": {
       "_model_module_version": "~2.1.4",
       "_view_module_version": "~2.1.4",
       "width": "100%"
      }
     },
     "5cd8fcb36c48450faf158add28deaa86": {
      "model_module": "jupyter-js-widgets",
      "model_module_version": "~2.1.4",
      "model_name": "ButtonStyleModel",
      "state": {
       "_model_module_version": "~2.1.4",
       "_view_module_version": "~2.1.4"
      }
     },
     "5d112117f50c49cd9bbf0e4a1ce05f69": {
      "model_module": "jupyter-js-widgets",
      "model_module_version": "~2.1.4",
      "model_name": "ButtonModel",
      "state": {
       "_model_module_version": "~2.1.4",
       "_view_module_version": "~2.1.4",
       "description": "Train",
       "layout": "IPY_MODEL_4679ac4bee54430eac60a76556f0f166",
       "style": "IPY_MODEL_1c0ecb42139f4749ba86e8ccce4869ce"
      }
     },
     "5d407f90271b4dfd8f5b008c03498965": {
      "model_module": "jupyter-js-widgets",
      "model_module_version": "~2.1.4",
      "model_name": "ButtonStyleModel",
      "state": {
       "_model_module_version": "~2.1.4",
       "_view_module_version": "~2.1.4"
      }
     },
     "5d952163c11e4ae89fbf898f02d928f5": {
      "model_module": "jupyter-js-widgets",
      "model_module_version": "~2.1.4",
      "model_name": "ButtonModel",
      "state": {
       "_model_module_version": "~2.1.4",
       "_view_module_version": "~2.1.4",
       "icon": "fast-forward",
       "layout": "IPY_MODEL_863e42739fc54f0e86b1677986e3aaee",
       "style": "IPY_MODEL_36ea16bd018644c28a659c513557c1cc"
      }
     },
     "5dbf026a8ff3414794dfa0845dae4081": {
      "model_module": "jupyter-js-widgets",
      "model_module_version": "~2.1.4",
      "model_name": "HBoxModel",
      "state": {
       "_model_module_version": "~2.1.4",
       "_view_module_version": "~2.1.4",
       "children": [
        "IPY_MODEL_829a904cef544dc2ad8f9c7a144823e6",
        "IPY_MODEL_2ac8d97b28df44228227f9eb9f0fb18e",
        "IPY_MODEL_803e81c1b27641e7aa7f847609cad47c",
        "IPY_MODEL_8c01549d6e77498c966cddcb0890c77d",
        "IPY_MODEL_733119bbfc6648bdb1abcc7408d82296"
       ],
       "layout": "IPY_MODEL_0f6cbc94b7064a608f968fe2bdaccc1c"
      }
     },
     "5dd62794639d4114b88d41d28419817c": {
      "model_module": "jupyter-js-widgets",
      "model_module_version": "~2.1.4",
      "model_name": "LayoutModel",
      "state": {
       "_model_module_version": "~2.1.4",
       "_view_module_version": "~2.1.4",
       "width": "100%"
      }
     },
     "5e22be2b53144af4bf1873f1ea480d7f": {
      "model_module": "jupyter-js-widgets",
      "model_module_version": "~2.1.4",
      "model_name": "HBoxModel",
      "state": {
       "_model_module_version": "~2.1.4",
       "_view_module_version": "~2.1.4",
       "children": [
        "IPY_MODEL_1140c4444d234de4ba915b74f6693ced",
        "IPY_MODEL_1afa55fcf3254c83929b0f289f398788",
        "IPY_MODEL_67c16a4c688c47f4a51b0cd41bf42d10",
        "IPY_MODEL_6590289477b6465ab3ef40cdce9704a6",
        "IPY_MODEL_1008c15f18404f8eb14a8714715f9967"
       ],
       "layout": "IPY_MODEL_f01fe165dedf433fa6cdea351a488f05"
      }
     },
     "5e39c11ef8554740b4840209cd95e5c3": {
      "model_module": "jupyter-js-widgets",
      "model_module_version": "~2.1.4",
      "model_name": "ButtonStyleModel",
      "state": {
       "_model_module_version": "~2.1.4",
       "_view_module_version": "~2.1.4"
      }
     },
     "5e3f052e4c65466795535c032c99c5b9": {
      "model_module": "jupyter-js-widgets",
      "model_module_version": "~2.1.4",
      "model_name": "LayoutModel",
      "state": {
       "_model_module_version": "~2.1.4",
       "_view_module_version": "~2.1.4"
      }
     },
     "5e42286652544ea08b0d80b1bd8342fb": {
      "model_module": "jupyter-js-widgets",
      "model_module_version": "~2.1.4",
      "model_name": "LayoutModel",
      "state": {
       "_model_module_version": "~2.1.4",
       "_view_module_version": "~2.1.4",
       "width": "100%"
      }
     },
     "5e5816a694684e2188a641c0232f3438": {
      "model_module": "jupyter-js-widgets",
      "model_module_version": "~2.1.4",
      "model_name": "ButtonStyleModel",
      "state": {
       "_model_module_version": "~2.1.4",
       "_view_module_version": "~2.1.4"
      }
     },
     "5eb0a55f834544e5bb21327c0209c975": {
      "model_module": "jupyter-js-widgets",
      "model_module_version": "~2.1.4",
      "model_name": "LayoutModel",
      "state": {
       "_model_module_version": "~2.1.4",
       "_view_module_version": "~2.1.4",
       "width": "100%"
      }
     },
     "5eb5d6a2d9374b508d2f6b1569459890": {
      "model_module": "jupyter-js-widgets",
      "model_module_version": "~2.1.4",
      "model_name": "VBoxModel",
      "state": {
       "_model_module_version": "~2.1.4",
       "_view_module_version": "~2.1.4",
       "children": [
        "IPY_MODEL_c03a5af364764fe98c6b857d1e76ebae",
        "IPY_MODEL_7a4baab40ccc4fb3b8dc8c7426311aef",
        "IPY_MODEL_e3e8791cefb344858e1f03587368e194"
       ],
       "layout": "IPY_MODEL_9af649d1353c4b6ca91ea55732119cb3"
      }
     },
     "5ebe9416d2084a788bd1cd636fd2caf2": {
      "model_module": "jupyter-js-widgets",
      "model_module_version": "~2.1.4",
      "model_name": "LayoutModel",
      "state": {
       "_model_module_version": "~2.1.4",
       "_view_module_version": "~2.1.4",
       "width": "100%"
      }
     },
     "5f1089a547294eb8aa396acaba764100": {
      "model_module": "jupyter-js-widgets",
      "model_module_version": "~2.1.4",
      "model_name": "LayoutModel",
      "state": {
       "_model_module_version": "~2.1.4",
       "_view_module_version": "~2.1.4",
       "width": "100%"
      }
     },
     "5f51f73ad46c468f8acc5088db234ec5": {
      "model_module": "jupyter-js-widgets",
      "model_module_version": "~2.1.4",
      "model_name": "LayoutModel",
      "state": {
       "_model_module_version": "~2.1.4",
       "_view_module_version": "~2.1.4"
      }
     },
     "5fb1b28cca584c079ac69c30501846fc": {
      "model_module": "jupyter-js-widgets",
      "model_module_version": "~2.1.4",
      "model_name": "ButtonStyleModel",
      "state": {
       "_model_module_version": "~2.1.4",
       "_view_module_version": "~2.1.4"
      }
     },
     "6006b413fe8043969cebd127a3ab4188": {
      "model_module": "jupyter-js-widgets",
      "model_module_version": "~2.1.4",
      "model_name": "LayoutModel",
      "state": {
       "_model_module_version": "~2.1.4",
       "_view_module_version": "~2.1.4",
       "height": "100%",
       "justify_content": "center",
       "max_height": "550px",
       "overflow_x": "auto",
       "width": "100%"
      }
     },
     "60145f64fc634ba0a4291bf4db9a1854": {
      "model_module": "jupyter-js-widgets",
      "model_module_version": "~2.1.4",
      "model_name": "VBoxModel",
      "state": {
       "_model_module_version": "~2.1.4",
       "_view_module_version": "~2.1.4",
       "layout": "IPY_MODEL_8e05873836f948baa0f8619fa896fe94"
      }
     },
     "6025095935ec46adaa6c41d44e0ac1a6": {
      "model_module": "jupyter-js-widgets",
      "model_module_version": "~2.1.4",
      "model_name": "ButtonModel",
      "state": {
       "_model_module_version": "~2.1.4",
       "_view_module_version": "~2.1.4",
       "icon": "fast-forward",
       "layout": "IPY_MODEL_92e906e1227b48268ac0d707000e1866",
       "style": "IPY_MODEL_16bec80826684b1089a71acaf9c8e6b5"
      }
     },
     "6093a1cf711d42b2a038710b4ab94cdb": {
      "model_module": "jupyter-js-widgets",
      "model_module_version": "~2.1.4",
      "model_name": "VBoxModel",
      "state": {
       "_model_module_version": "~2.1.4",
       "_view_module_version": "~2.1.4",
       "children": [
        "IPY_MODEL_3e2c97dac7054a4199255f092b52a768",
        "IPY_MODEL_a0b29b5a1aec458c8de15ae154037763"
       ],
       "layout": "IPY_MODEL_c9c6fed7128e4377a412c7d765f20a33"
      }
     },
     "609fa5f92d624e96bb5e278d8637d0b0": {
      "model_module": "jupyter-js-widgets",
      "model_module_version": "~2.1.4",
      "model_name": "LayoutModel",
      "state": {
       "_model_module_version": "~2.1.4",
       "_view_module_version": "~2.1.4",
       "width": "100%"
      }
     },
     "60c2ef3c312c42bbb9e61f9e8a5193a4": {
      "model_module": "jupyter-js-widgets",
      "model_module_version": "~2.1.4",
      "model_name": "HTMLModel",
      "state": {
       "_model_module_version": "~2.1.4",
       "_view_module_version": "~2.1.4",
       "layout": "IPY_MODEL_5b3d01069a0e4d05a9960411d2a5e4d9",
       "value": "<iframe style=\"width: 800px\" src=\"https://conx.readthedocs.io\" width=\"100%\" height=\"550px\"></frame>"
      }
     },
     "6103f279a4f143e798c417fa29dcfa9d": {
      "model_module": "jupyter-js-widgets",
      "model_module_version": "~2.1.4",
      "model_name": "ButtonStyleModel",
      "state": {
       "_model_module_version": "~2.1.4",
       "_view_module_version": "~2.1.4"
      }
     },
     "61bbb22aa170435eb7df56a2a8165dd2": {
      "model_module": "jupyter-js-widgets",
      "model_module_version": "~2.1.4",
      "model_name": "ButtonModel",
      "state": {
       "_model_module_version": "~2.1.4",
       "_view_module_version": "~2.1.4",
       "icon": "forward",
       "layout": "IPY_MODEL_830e6873a07448799315ba6ef6dee64c",
       "style": "IPY_MODEL_4e9e889c24344d73acac86c752aa3b5b"
      }
     },
     "61d2481a4c544aa8b0a0d737531a530f": {
      "model_module": "jupyter-js-widgets",
      "model_module_version": "~2.1.4",
      "model_name": "ButtonModel",
      "state": {
       "_model_module_version": "~2.1.4",
       "_view_module_version": "~2.1.4",
       "description": "Train",
       "layout": "IPY_MODEL_da2bf65c246e423fa831c87ab92d49c4",
       "style": "IPY_MODEL_35f9231a5c404c98b8ea63276b7dc106"
      }
     },
     "627514c70412483d930ee0c39b47f9a0": {
      "model_module": "jupyter-js-widgets",
      "model_module_version": "~2.1.4",
      "model_name": "LayoutModel",
      "state": {
       "_model_module_version": "~2.1.4",
       "_view_module_version": "~2.1.4",
       "width": "100%"
      }
     },
     "62a004b7239745dd8fa687e37eb02bdf": {
      "model_module": "jupyter-js-widgets",
      "model_module_version": "~2.1.4",
      "model_name": "SliderStyleModel",
      "state": {
       "_model_module_version": "~2.1.4",
       "_view_module_version": "~2.1.4"
      }
     },
     "6338e40d14e1466c8fbbc2de1ea2cd5c": {
      "model_module": "jupyter-js-widgets",
      "model_module_version": "~2.1.4",
      "model_name": "LayoutModel",
      "state": {
       "_model_module_version": "~2.1.4",
       "_view_module_version": "~2.1.4",
       "width": "100%"
      }
     },
     "63a2ebf232ac4708bbe7d841fb42abcd": {
      "model_module": "jupyter-js-widgets",
      "model_module_version": "~2.1.4",
      "model_name": "ButtonStyleModel",
      "state": {
       "_model_module_version": "~2.1.4",
       "_view_module_version": "~2.1.4"
      }
     },
     "64173c618e124700abb04e775efe4d0d": {
      "model_module": "jupyter-js-widgets",
      "model_module_version": "~2.1.4",
      "model_name": "LayoutModel",
      "state": {
       "_model_module_version": "~2.1.4",
       "_view_module_version": "~2.1.4"
      }
     },
     "6419364372884f25802e618a173f73c4": {
      "model_module": "jupyter-js-widgets",
      "model_module_version": "~2.1.4",
      "model_name": "VBoxModel",
      "state": {
       "_model_module_version": "~2.1.4",
       "_view_module_version": "~2.1.4",
       "layout": "IPY_MODEL_bf0b17cb12694281a05cdcaaf68ba110"
      }
     },
     "6507dda359c7480dac86ce952240b5cf": {
      "model_module": "jupyter-js-widgets",
      "model_module_version": "~2.1.4",
      "model_name": "LayoutModel",
      "state": {
       "_model_module_version": "~2.1.4",
       "_view_module_version": "~2.1.4"
      }
     },
     "65124f575dda454d90e2d96a7fff76d7": {
      "model_module": "jupyter-js-widgets",
      "model_module_version": "~2.1.4",
      "model_name": "VBoxModel",
      "state": {
       "_model_module_version": "~2.1.4",
       "_view_module_version": "~2.1.4",
       "children": [
        "IPY_MODEL_1694e59c53a340af891e4dd6b85ec4e0",
        "IPY_MODEL_9a258ff6c54c4675a75d148eb5af0bc8",
        "IPY_MODEL_c33c96884350465988576973afb422b1"
       ],
       "layout": "IPY_MODEL_7fea34f4fbcf4aea932883df99f55d79"
      }
     },
     "6590289477b6465ab3ef40cdce9704a6": {
      "model_module": "jupyter-js-widgets",
      "model_module_version": "~2.1.4",
      "model_name": "ButtonModel",
      "state": {
       "_model_module_version": "~2.1.4",
       "_view_module_version": "~2.1.4",
       "icon": "forward",
       "layout": "IPY_MODEL_0534ace1a3b542beb536490273f77c81",
       "style": "IPY_MODEL_00746cbd76bd44c4be98356ff76d5ec4"
      }
     },
     "6594e6e9b8e44b9686becb1c5a8f8a86": {
      "model_module": "jupyter-js-widgets",
      "model_module_version": "~2.1.4",
      "model_name": "IntSliderModel",
      "state": {
       "_model_module_version": "~2.1.4",
       "_view_module_version": "~2.1.4",
       "continuous_update": false,
       "description": "Dataset index",
       "layout": "IPY_MODEL_15ca970ce2ea47faaa786a57c965589b",
       "max": 3,
       "style": "IPY_MODEL_966714a76c404a9aadaa9fafa9d683e1"
      }
     },
     "65c2651735524d1dab3a941e627eff80": {
      "model_module": "jupyter-js-widgets",
      "model_module_version": "~2.1.4",
      "model_name": "ButtonModel",
      "state": {
       "_model_module_version": "~2.1.4",
       "_view_module_version": "~2.1.4",
       "icon": "forward",
       "layout": "IPY_MODEL_8181bb93b6ea42d2b38ab7a1859b0106",
       "style": "IPY_MODEL_7a51c57a58c648b8822ae2c0aa085a5d"
      }
     },
     "65e94362693d4d01a9b5bf297b02aeaa": {
      "model_module": "jupyter-js-widgets",
      "model_module_version": "~2.1.4",
      "model_name": "LayoutModel",
      "state": {
       "_model_module_version": "~2.1.4",
       "_view_module_version": "~2.1.4",
       "width": "100%"
      }
     },
     "66938692b7c64a1b9f401e490fb2d0c2": {
      "model_module": "jupyter-js-widgets",
      "model_module_version": "~2.1.4",
      "model_name": "LayoutModel",
      "state": {
       "_model_module_version": "~2.1.4",
       "_view_module_version": "~2.1.4"
      }
     },
     "66fe94f392a546f18eca623909b7702e": {
      "model_module": "jupyter-js-widgets",
      "model_module_version": "~2.1.4",
      "model_name": "LayoutModel",
      "state": {
       "_model_module_version": "~2.1.4",
       "_view_module_version": "~2.1.4"
      }
     },
     "6787f74ca7724a0da42387fe9f03caec": {
      "model_module": "jupyter-js-widgets",
      "model_module_version": "~2.1.4",
      "model_name": "LayoutModel",
      "state": {
       "_model_module_version": "~2.1.4",
       "_view_module_version": "~2.1.4"
      }
     },
     "67c13d58c778485a96074ac20ae2ef9b": {
      "model_module": "jupyter-js-widgets",
      "model_module_version": "~2.1.4",
      "model_name": "ButtonStyleModel",
      "state": {
       "_model_module_version": "~2.1.4",
       "_view_module_version": "~2.1.4"
      }
     },
     "67c16a4c688c47f4a51b0cd41bf42d10": {
      "model_module": "jupyter-js-widgets",
      "model_module_version": "~2.1.4",
      "model_name": "ButtonModel",
      "state": {
       "_model_module_version": "~2.1.4",
       "_view_module_version": "~2.1.4",
       "description": "Train",
       "layout": "IPY_MODEL_5f1089a547294eb8aa396acaba764100",
       "style": "IPY_MODEL_21a20493a32148828e7e5d2f0d8d2310"
      }
     },
     "67cb2730285a4fd7b1b1e62f6e92b8a1": {
      "model_module": "jupyter-js-widgets",
      "model_module_version": "~2.1.4",
      "model_name": "LayoutModel",
      "state": {
       "_model_module_version": "~2.1.4",
       "_view_module_version": "~2.1.4",
       "width": "100%"
      }
     },
     "681b884a984548a7a03bd7a159cc85f6": {
      "model_module": "jupyter-js-widgets",
      "model_module_version": "~2.1.4",
      "model_name": "SelectModel",
      "state": {
       "_model_module_version": "~2.1.4",
       "_options_labels": [
        "Test",
        "Train"
       ],
       "_view_module_version": "~2.1.4",
       "description": "Dataset:",
       "layout": "IPY_MODEL_a83b0456e9394762a7923606677424ea",
       "value": "Train"
      }
     },
     "69dce60db8cd4172bba73ae8338a356e": {
      "model_module": "jupyter-js-widgets",
      "model_module_version": "~2.1.4",
      "model_name": "LayoutModel",
      "state": {
       "_model_module_version": "~2.1.4",
       "_view_module_version": "~2.1.4",
       "width": "100%"
      }
     },
     "6a20661040974d3c971f25f40872e04e": {
      "model_module": "jupyter-js-widgets",
      "model_module_version": "~2.1.4",
      "model_name": "SliderStyleModel",
      "state": {
       "_model_module_version": "~2.1.4",
       "_view_module_version": "~2.1.4"
      }
     },
     "6a3b3e5ac0fe4e8da2838940eed248e4": {
      "model_module": "jupyter-js-widgets",
      "model_module_version": "~2.1.4",
      "model_name": "LayoutModel",
      "state": {
       "_model_module_version": "~2.1.4",
       "_view_module_version": "~2.1.4"
      }
     },
     "6a8196c2c4434e4686744c843adf6bc7": {
      "model_module": "jupyter-js-widgets",
      "model_module_version": "~2.1.4",
      "model_name": "ButtonStyleModel",
      "state": {
       "_model_module_version": "~2.1.4",
       "_view_module_version": "~2.1.4"
      }
     },
     "6aa8569e8c7345d38907373f319f1a90": {
      "model_module": "jupyter-js-widgets",
      "model_module_version": "~2.1.4",
      "model_name": "LayoutModel",
      "state": {
       "_model_module_version": "~2.1.4",
       "_view_module_version": "~2.1.4",
       "width": "100%"
      }
     },
     "6aaf92828d984fe397f39a60c2a3cab3": {
      "model_module": "jupyter-js-widgets",
      "model_module_version": "~2.1.4",
      "model_name": "HBoxModel",
      "state": {
       "_model_module_version": "~2.1.4",
       "_view_module_version": "~2.1.4",
       "children": [
        "IPY_MODEL_74ac5b12b5e048eda4ee019c6eeec077",
        "IPY_MODEL_b925ec0e3118407eb27f2cbfa49d2495",
        "IPY_MODEL_fa961c1ae5e6482995b50085a27624dd",
        "IPY_MODEL_f1c49018b50f4ee0ae55eba26896294c",
        "IPY_MODEL_d8b838c602124a1d994a6c08cd0f500c"
       ],
       "layout": "IPY_MODEL_36fb2a9c712249fe8d69af5b4f22a45a"
      }
     },
     "6ab986094de448d2ab2f7640df1a86fd": {
      "model_module": "jupyter-js-widgets",
      "model_module_version": "~2.1.4",
      "model_name": "SliderStyleModel",
      "state": {
       "_model_module_version": "~2.1.4",
       "_view_module_version": "~2.1.4"
      }
     },
     "6aec50b608cc41ccbf049873ac2f1657": {
      "model_module": "jupyter-js-widgets",
      "model_module_version": "~2.1.4",
      "model_name": "SliderStyleModel",
      "state": {
       "_model_module_version": "~2.1.4",
       "_view_module_version": "~2.1.4"
      }
     },
     "6b6b80c65ff5499f9855777c09d59c6e": {
      "model_module": "jupyter-js-widgets",
      "model_module_version": "~2.1.4",
      "model_name": "LayoutModel",
      "state": {
       "_model_module_version": "~2.1.4",
       "_view_module_version": "~2.1.4",
       "width": "100%"
      }
     },
     "6b76b85cd76a41c6a304af05f552b9ba": {
      "model_module": "jupyter-js-widgets",
      "model_module_version": "~2.1.4",
      "model_name": "HTMLModel",
      "state": {
       "_model_module_version": "~2.1.4",
       "_view_module_version": "~2.1.4",
       "layout": "IPY_MODEL_9b746cd432cc4175bcf6ffe4beb085cf",
       "value": "\n        <svg id='XOR' xmlns='http://www.w3.org/2000/svg' width=\"200\" height=\"335\" image-rendering=\"pixelated\">\n    <defs>\n        <marker id=\"arrow\" markerWidth=\"10\" markerHeight=\"10\" refX=\"9\" refY=\"3\" orient=\"auto\" markerUnits=\"strokeWidth\">\n          <path d=\"M0,0 L0,6 L9,3 z\" fill=\"blue\" />\n        </marker>\n    </defs>\n<rect x=\"74.0\" y=\"24\" width=\"52\" height=\"52\" style=\"fill:none;stroke:blue;stroke-width:2\"/><image id=\"XOR_output_targets_1\" class=\"XOR_output_targets\" x=\"75.0\" y=\"25\" height=\"50\" width=\"50\" preserveAspectRatio=\"none\" href=\"data:image/gif;base64,R0lGODdhAQABAIAAAHd3dwAAACwAAAAAAQABAAAIBQABkAoIADs=\"><title>Layer: output (output)\n shape = (1,)\n Keras class = Dense\n activation = sigmoid</title></image><text x=\"130.0\" y=\"52.0\" font-family=\"monospace\" font-size=\"12\">targets</text><rect x=\"74.0\" y=\"84\" width=\"52\" height=\"52\" style=\"fill:none;stroke:blue;stroke-width:2\"/><image id=\"XOR_output_errors_1\" class=\"XOR_output_errors\" x=\"75.0\" y=\"85\" height=\"50\" width=\"50\" preserveAspectRatio=\"none\" href=\"data:image/gif;base64,R0lGODdhAQABAIAAAHd3dwAAACwAAAAAAQABAAAIBQAB7AoIADs=\"><title>Layer: output (output)\n shape = (1,)\n Keras class = Dense\n activation = sigmoid</title></image><text x=\"130.0\" y=\"112.0\" font-family=\"monospace\" font-size=\"12\">errors</text><rect x=\"74.0\" y=\"149\" width=\"52\" height=\"52\" style=\"fill:none;stroke:blue;stroke-width:2\"/><image id=\"XOR_output_1\" class=\"XOR_output\" x=\"75.0\" y=\"150\" height=\"50\" width=\"50\" preserveAspectRatio=\"none\" href=\"data:image/gif;base64,R0lGODdhAQABAIAAAHd3dwAAACwAAAAAAQABAAAIBQAB7AoIADs=\"><title>Layer: output (output)\n shape = (1,)\n Keras class = Dense\n activation = sigmoid</title></image><text x=\"130.0\" y=\"177.0\" font-family=\"monospace\" font-size=\"12\">output</text><rect x=\"90.0\" y=\"202\" width=\"20.0\" height=\"27\" style=\"fill:white;stroke:none\"><title>Weights from hidden to output\n output/kernel:0 has shape (4, 1)\n output/bias:0 has shape (1,)</title></rect><rect x=\"90.0\" y=\"202\" width=\"20.0\" height=\"27\" style=\"fill:white;stroke:none\"><title>Weights from hidden to output\n output/kernel:0 has shape (4, 1)\n output/bias:0 has shape (1,)</title></rect><line x1=\"100.0\" y1=\"229\" x2=\"100.0\" y2=\"202\" stroke=\"blue\" stroke-width=\"2\" marker-end=\"url(#arrow)\"><title>Weights from hidden to output\n output/kernel:0 has shape (4, 1)\n output/bias:0 has shape (1,)</title></line><line x1=\"100.0\" y1=\"229\" x2=\"100.0\" y2=\"202\" stroke=\"blue\" stroke-width=\"2\" marker-end=\"url(#arrow)\"><title>Weights from hidden to output\n output/kernel:0 has shape (4, 1)\n output/bias:0 has shape (1,)</title></line><rect x=\"74.0\" y=\"229\" width=\"52\" height=\"27\" style=\"fill:none;stroke:blue;stroke-width:2\"/><image id=\"XOR_hidden_2\" class=\"XOR_hidden\" x=\"75.0\" y=\"230\" height=\"25\" width=\"50\" preserveAspectRatio=\"none\" href=\"data:image/gif;base64,R0lGODdhAgABAIAAAH9/fwAAACwAAAAAAgABAAAIBQABAAgIADs=\"><title>Layer: hidden (hidden)\n shape = (2,)\n Keras class = Dense\n activation = sigmoid</title></image><text x=\"130.0\" y=\"244.5\" font-family=\"monospace\" font-size=\"12\">hidden</text><rect x=\"90.0\" y=\"257\" width=\"20.0\" height=\"27\" style=\"fill:white;stroke:none\"><title>Weights from input to hidden\n hidden/kernel:0 has shape (4, 2)\n hidden/bias:0 has shape (2,)</title></rect><rect x=\"90.0\" y=\"257\" width=\"20.0\" height=\"27\" style=\"fill:white;stroke:none\"><title>Weights from input to hidden\n hidden/kernel:0 has shape (4, 2)\n hidden/bias:0 has shape (2,)</title></rect><line x1=\"100.0\" y1=\"284\" x2=\"100.0\" y2=\"257\" stroke=\"blue\" stroke-width=\"2\" marker-end=\"url(#arrow)\"><title>Weights from input to hidden\n hidden/kernel:0 has shape (4, 2)\n hidden/bias:0 has shape (2,)</title></line><line x1=\"100.0\" y1=\"284\" x2=\"100.0\" y2=\"257\" stroke=\"blue\" stroke-width=\"2\" marker-end=\"url(#arrow)\"><title>Weights from input to hidden\n hidden/kernel:0 has shape (4, 2)\n hidden/bias:0 has shape (2,)</title></line><rect x=\"74.0\" y=\"284\" width=\"52\" height=\"27\" style=\"fill:none;stroke:blue;stroke-width:2\"/><image id=\"XOR_input_3\" class=\"XOR_input\" x=\"75.0\" y=\"285\" height=\"25\" width=\"50\" preserveAspectRatio=\"none\" href=\"data:image/gif;base64,R0lGODdhAgABAIAAAH9/fwAAACwAAAAAAgABAAAIBQABAAgIADs=\"><title>Layer: input (input)\n shape = (2,)\n Keras class = Input</title></image><text x=\"130.0\" y=\"299.5\" font-family=\"monospace\" font-size=\"12\">input</text></svg>"
      }
     },
     "6b7a98aad3a740a2b97e8cf43d9be892": {
      "model_module": "jupyter-js-widgets",
      "model_module_version": "~2.1.4",
      "model_name": "LayoutModel",
      "state": {
       "_model_module_version": "~2.1.4",
       "_view_module_version": "~2.1.4",
       "width": "100%"
      }
     },
     "6bc6e1e548234f5181ef0f4ee6f6996b": {
      "model_module": "jupyter-js-widgets",
      "model_module_version": "~2.1.4",
      "model_name": "HTMLModel",
      "state": {
       "_model_module_version": "~2.1.4",
       "_view_module_version": "~2.1.4",
       "layout": "IPY_MODEL_87d04e312acd4dce9580f01ddc746d87",
       "value": "<iframe style=\"width: 800px\" src=\"https://conx.readthedocs.io\" width=\"100%\" height=\"550px\"></frame>"
      }
     },
     "6bf51d2673ad412d9c5cea7e05632b86": {
      "model_module": "jupyter-js-widgets",
      "model_module_version": "~2.1.4",
      "model_name": "VBoxModel",
      "state": {
       "_model_module_version": "~2.1.4",
       "_view_module_version": "~2.1.4",
       "layout": "IPY_MODEL_6a3b3e5ac0fe4e8da2838940eed248e4"
      }
     },
     "6c25135152b04c1183d4a92055bec258": {
      "model_module": "jupyter-js-widgets",
      "model_module_version": "~2.1.4",
      "model_name": "LayoutModel",
      "state": {
       "_model_module_version": "~2.1.4",
       "_view_module_version": "~2.1.4",
       "width": "100%"
      }
     },
     "6d60d1f6935343c2a7d824a521298a80": {
      "model_module": "jupyter-js-widgets",
      "model_module_version": "~2.1.4",
      "model_name": "LayoutModel",
      "state": {
       "_model_module_version": "~2.1.4",
       "_view_module_version": "~2.1.4"
      }
     },
     "6dc6f06a857f4cd48279c9b9fd9ba9a8": {
      "model_module": "jupyter-js-widgets",
      "model_module_version": "~2.1.4",
      "model_name": "HBoxModel",
      "state": {
       "_model_module_version": "~2.1.4",
       "_view_module_version": "~2.1.4",
       "children": [
        "IPY_MODEL_5716138ec1444a1eaee9def6a1de5c45",
        "IPY_MODEL_0499577633b945c3801d9cf801d664c5",
        "IPY_MODEL_55c4bc0f319243398fb511dec1a6bc06",
        "IPY_MODEL_1f1b07ddba8245caa5c19a95af726b8f",
        "IPY_MODEL_8a3186a5727644279e300c4db05f6d52"
       ],
       "layout": "IPY_MODEL_ee339c9526e34e0fb50eed5572b8dc96"
      }
     },
     "6e66fcd5b3d0474e8a2505002ed37a4d": {
      "model_module": "jupyter-js-widgets",
      "model_module_version": "~2.1.4",
      "model_name": "LayoutModel",
      "state": {
       "_model_module_version": "~2.1.4",
       "_view_module_version": "~2.1.4"
      }
     },
     "6e80a2f8c24c489b937dfe0ff779b1ec": {
      "model_module": "jupyter-js-widgets",
      "model_module_version": "~2.1.4",
      "model_name": "TabModel",
      "state": {
       "_model_module_version": "~2.1.4",
       "_titles": {
        "0": "Network",
        "1": "Graphs",
        "2": "Analysis",
        "3": "Camera",
        "4": "Help"
       },
       "_view_module_version": "~2.1.4",
       "children": [
        "IPY_MODEL_72e173660f814b55b4e37e91ee4a85a4",
        "IPY_MODEL_001d53b0263f4a9e8b6ec7f052895ae9",
        "IPY_MODEL_60145f64fc634ba0a4291bf4db9a1854",
        "IPY_MODEL_4113d94fac104cc683fa9dd574927069",
        "IPY_MODEL_bdf57cedb8c3410f9089681c30b28dab"
       ],
       "layout": "IPY_MODEL_d4a4f69e113045b091c13ffb66c334e4"
      }
     },
     "6eb3ba38633f43b1b3061f4f45bf4bb9": {
      "model_module": "jupyter-js-widgets",
      "model_module_version": "~2.1.4",
      "model_name": "LayoutModel",
      "state": {
       "_model_module_version": "~2.1.4",
       "_view_module_version": "~2.1.4",
       "width": "100%"
      }
     },
     "6f1f5338ee2841a4a984010a60cf462f": {
      "model_module": "jupyter-js-widgets",
      "model_module_version": "~2.1.4",
      "model_name": "LayoutModel",
      "state": {
       "_model_module_version": "~2.1.4",
       "_view_module_version": "~2.1.4",
       "width": "100%"
      }
     },
     "6f913feb48634132ace340c1cc4cdea4": {
      "model_module": "jupyter-js-widgets",
      "model_module_version": "~2.1.4",
      "model_name": "LayoutModel",
      "state": {
       "_model_module_version": "~2.1.4",
       "_view_module_version": "~2.1.4"
      }
     },
     "704656aee09a4c00860d49882d0ab91e": {
      "model_module": "jupyter-js-widgets",
      "model_module_version": "~2.1.4",
      "model_name": "LayoutModel",
      "state": {
       "_model_module_version": "~2.1.4",
       "_view_module_version": "~2.1.4"
      }
     },
     "705c77bf77d6420e9d9b24207d955f7b": {
      "model_module": "jupyter-js-widgets",
      "model_module_version": "~2.1.4",
      "model_name": "ButtonModel",
      "state": {
       "_model_module_version": "~2.1.4",
       "_view_module_version": "~2.1.4",
       "icon": "fast-forward",
       "layout": "IPY_MODEL_627514c70412483d930ee0c39b47f9a0",
       "style": "IPY_MODEL_7f790187c599455888cc6abfb2078529"
      }
     },
     "706793c3a9164ebc864246ea813087c9": {
      "model_module": "jupyter-js-widgets",
      "model_module_version": "~2.1.4",
      "model_name": "SelectModel",
      "state": {
       "_model_module_version": "~2.1.4",
       "_options_labels": [
        "Test",
        "Train"
       ],
       "_view_module_version": "~2.1.4",
       "description": "Dataset:",
       "layout": "IPY_MODEL_34fefdb82cff40d282e8e2ff1e2d6af6",
       "value": "Train"
      }
     },
     "709646ae281741daa5e01ab9ca87cddf": {
      "model_module": "jupyter-js-widgets",
      "model_module_version": "~2.1.4",
      "model_name": "HBoxModel",
      "state": {
       "_model_module_version": "~2.1.4",
       "_view_module_version": "~2.1.4",
       "children": [
        "IPY_MODEL_b3eecd4941774cb7b539068012657904",
        "IPY_MODEL_24292e009c2748469358510ca33d9afc",
        "IPY_MODEL_d831ddf3cdcc43918202603ef7dd100b",
        "IPY_MODEL_61bbb22aa170435eb7df56a2a8165dd2",
        "IPY_MODEL_35a3cd5270c74d56925878698c3a9924"
       ],
       "layout": "IPY_MODEL_119f253a5a864d33a75c2e63cd93daac"
      }
     },
     "72e173660f814b55b4e37e91ee4a85a4": {
      "model_module": "jupyter-js-widgets",
      "model_module_version": "~2.1.4",
      "model_name": "VBoxModel",
      "state": {
       "_model_module_version": "~2.1.4",
       "_view_module_version": "~2.1.4",
       "children": [
        "IPY_MODEL_dafe0ebecc6a400d8c2575cbd94de319",
        "IPY_MODEL_49aa5652109940f296238f978556ac60"
       ],
       "layout": "IPY_MODEL_5eb0a55f834544e5bb21327c0209c975"
      }
     },
     "733119bbfc6648bdb1abcc7408d82296": {
      "model_module": "jupyter-js-widgets",
      "model_module_version": "~2.1.4",
      "model_name": "ButtonModel",
      "state": {
       "_model_module_version": "~2.1.4",
       "_view_module_version": "~2.1.4",
       "icon": "fast-forward",
       "layout": "IPY_MODEL_33c28993528b44fbb7fc1a641fa738b8",
       "style": "IPY_MODEL_6103f279a4f143e798c417fa29dcfa9d"
      }
     },
     "74218c6fe8604a099bbc1203e64536fa": {
      "model_module": "jupyter-js-widgets",
      "model_module_version": "~2.1.4",
      "model_name": "VBoxModel",
      "state": {
       "_model_module_version": "~2.1.4",
       "_view_module_version": "~2.1.4",
       "children": [
        "IPY_MODEL_8d25150e304f48649438edf9fe7fa22f"
       ],
       "layout": "IPY_MODEL_6e66fcd5b3d0474e8a2505002ed37a4d"
      }
     },
     "74ac5b12b5e048eda4ee019c6eeec077": {
      "model_module": "jupyter-js-widgets",
      "model_module_version": "~2.1.4",
      "model_name": "ButtonModel",
      "state": {
       "_model_module_version": "~2.1.4",
       "_view_module_version": "~2.1.4",
       "icon": "fast-backward",
       "layout": "IPY_MODEL_18d0de85bfdc43b987ea53ade20e0cc1",
       "style": "IPY_MODEL_7c79dcc4777640ecb1abf83fab15dbc5"
      }
     },
     "760cb9c080eb45ec8e3c7ac151cbba53": {
      "model_module": "jupyter-js-widgets",
      "model_module_version": "~2.1.4",
      "model_name": "HTMLModel",
      "state": {
       "_model_module_version": "~2.1.4",
       "_view_module_version": "~2.1.4",
       "layout": "IPY_MODEL_7959818df8574eab94517a15bdc9e1b8",
       "value": "<iframe style=\"width: 800px\" src=\"https://conx.readthedocs.io\" width=\"100%\" height=\"550px\"></frame>"
      }
     },
     "764c31a0d2c24ad0853c444bbef5c851": {
      "model_module": "jupyter-js-widgets",
      "model_module_version": "~2.1.4",
      "model_name": "LayoutModel",
      "state": {
       "_model_module_version": "~2.1.4",
       "_view_module_version": "~2.1.4"
      }
     },
     "76a935620dbf4a5d9f4cfa375befd078": {
      "model_module": "jupyter-js-widgets",
      "model_module_version": "~2.1.4",
      "model_name": "LayoutModel",
      "state": {
       "_model_module_version": "~2.1.4",
       "_view_module_version": "~2.1.4",
       "width": "100%"
      }
     },
     "76b865ef97f14948b23ff8b71a46ac6c": {
      "model_module": "jupyter-js-widgets",
      "model_module_version": "~2.1.4",
      "model_name": "ButtonModel",
      "state": {
       "_model_module_version": "~2.1.4",
       "_view_module_version": "~2.1.4",
       "description": "Train",
       "layout": "IPY_MODEL_a48eb2eecb53464d88da67ca00a07491",
       "style": "IPY_MODEL_29b3d90608a343c4a7bcce2d3f8f2cd7"
      }
     },
     "77a6cacfbbcf438e87156dd273d4574a": {
      "model_module": "jupyter-js-widgets",
      "model_module_version": "~2.1.4",
      "model_name": "ButtonStyleModel",
      "state": {
       "_model_module_version": "~2.1.4",
       "_view_module_version": "~2.1.4"
      }
     },
     "780c6432b1374fcfa66797f946063cf9": {
      "model_module": "jupyter-js-widgets",
      "model_module_version": "~2.1.4",
      "model_name": "ButtonStyleModel",
      "state": {
       "_model_module_version": "~2.1.4",
       "_view_module_version": "~2.1.4"
      }
     },
     "7881263785fa450a9b9c1d5850718924": {
      "model_module": "jupyter-js-widgets",
      "model_module_version": "~2.1.4",
      "model_name": "VBoxModel",
      "state": {
       "_model_module_version": "~2.1.4",
       "_view_module_version": "~2.1.4",
       "children": [
        "IPY_MODEL_06b4286b818c4cbcabcb220dd628aeea",
        "IPY_MODEL_16a5a4f25942405e8c7c68ad20e6779c"
       ],
       "layout": "IPY_MODEL_7bdff70f5fd545b3b02da04954123b12"
      }
     },
     "788930bf9d0545709ab7b25a7832a2d7": {
      "model_module": "jupyter-js-widgets",
      "model_module_version": "~2.1.4",
      "model_name": "LayoutModel",
      "state": {
       "_model_module_version": "~2.1.4",
       "_view_module_version": "~2.1.4",
       "width": "100%"
      }
     },
     "792e365a69534ab3b0cfeeac8ffb7311": {
      "model_module": "jupyter-js-widgets",
      "model_module_version": "~2.1.4",
      "model_name": "LayoutModel",
      "state": {
       "_model_module_version": "~2.1.4",
       "_view_module_version": "~2.1.4",
       "width": "100%"
      }
     },
     "7959818df8574eab94517a15bdc9e1b8": {
      "model_module": "jupyter-js-widgets",
      "model_module_version": "~2.1.4",
      "model_name": "LayoutModel",
      "state": {
       "_model_module_version": "~2.1.4",
       "_view_module_version": "~2.1.4",
       "width": "100%"
      }
     },
     "79702b07c1d44e86986421876c3699b8": {
      "model_module": "jupyter-js-widgets",
      "model_module_version": "~2.1.4",
      "model_name": "ButtonModel",
      "state": {
       "_model_module_version": "~2.1.4",
       "_view_module_version": "~2.1.4",
       "description": "Turn on webcamera",
       "layout": "IPY_MODEL_20685dfae5eb45c68e10513c27d9aab7",
       "style": "IPY_MODEL_5aa957f95a4c4a5c8737013ef50d65e3"
      }
     },
     "79ca8a0a204f4d6ba226b445f026e9ea": {
      "model_module": "jupyter-js-widgets",
      "model_module_version": "~2.1.4",
      "model_name": "ButtonModel",
      "state": {
       "_model_module_version": "~2.1.4",
       "_view_module_version": "~2.1.4",
       "icon": "forward",
       "layout": "IPY_MODEL_4bc2d3bd6f2547a898ec1c279a864f1a",
       "style": "IPY_MODEL_e970455b50d94aa29f0d38c1ad6e07be"
      }
     },
     "7a4baab40ccc4fb3b8dc8c7426311aef": {
      "model_module": "jupyter-js-widgets",
      "model_module_version": "~2.1.4",
      "model_name": "IntSliderModel",
      "state": {
       "_model_module_version": "~2.1.4",
       "_view_module_version": "~2.1.4",
       "continuous_update": false,
       "description": "Dataset index",
       "layout": "IPY_MODEL_bfb428807c2a403e8e6c5bc991238e5b",
       "max": 0,
       "style": "IPY_MODEL_d7e71144762f4e21a85381b5198b1fbe"
      }
     },
     "7a51c57a58c648b8822ae2c0aa085a5d": {
      "model_module": "jupyter-js-widgets",
      "model_module_version": "~2.1.4",
      "model_name": "ButtonStyleModel",
      "state": {
       "_model_module_version": "~2.1.4",
       "_view_module_version": "~2.1.4"
      }
     },
     "7a738be1211c463da47bb880222cf972": {
      "model_module": "jupyter-js-widgets",
      "model_module_version": "~2.1.4",
      "model_name": "LayoutModel",
      "state": {
       "_model_module_version": "~2.1.4",
       "_view_module_version": "~2.1.4"
      }
     },
     "7ade35ec97e542dd84aea3f77c156dd9": {
      "model_module": "jupyter-js-widgets",
      "model_module_version": "~2.1.4",
      "model_name": "LayoutModel",
      "state": {
       "_model_module_version": "~2.1.4",
       "_view_module_version": "~2.1.4"
      }
     },
     "7aecb9769ae4472f8d73fe92d8673beb": {
      "model_module": "jupyter-js-widgets",
      "model_module_version": "~2.1.4",
      "model_name": "LayoutModel",
      "state": {
       "_model_module_version": "~2.1.4",
       "_view_module_version": "~2.1.4",
       "width": "100%"
      }
     },
     "7afbad9d9286473683563caafdbc33a7": {
      "model_module": "jupyter-js-widgets",
      "model_module_version": "~2.1.4",
      "model_name": "ButtonStyleModel",
      "state": {
       "_model_module_version": "~2.1.4",
       "_view_module_version": "~2.1.4"
      }
     },
     "7b6210257cfb47db8ecadcdf139d250e": {
      "model_module": "jupyter-js-widgets",
      "model_module_version": "~2.1.4",
      "model_name": "LayoutModel",
      "state": {
       "_model_module_version": "~2.1.4",
       "_view_module_version": "~2.1.4"
      }
     },
     "7b92573bb5e34e92b7583e3bafce8e39": {
      "model_module": "jupyter-js-widgets",
      "model_module_version": "~2.1.4",
      "model_name": "ButtonStyleModel",
      "state": {
       "_model_module_version": "~2.1.4",
       "_view_module_version": "~2.1.4"
      }
     },
     "7bdff70f5fd545b3b02da04954123b12": {
      "model_module": "jupyter-js-widgets",
      "model_module_version": "~2.1.4",
      "model_name": "LayoutModel",
      "state": {
       "_model_module_version": "~2.1.4",
       "_view_module_version": "~2.1.4",
       "width": "100%"
      }
     },
     "7bf842a2ed46474f93e9f77b53b7bcba": {
      "model_module": "jupyter-js-widgets",
      "model_module_version": "~2.1.4",
      "model_name": "VBoxModel",
      "state": {
       "_model_module_version": "~2.1.4",
       "_view_module_version": "~2.1.4",
       "layout": "IPY_MODEL_99107b3b94d54bbe94e2670f03511c41"
      }
     },
     "7c79dcc4777640ecb1abf83fab15dbc5": {
      "model_module": "jupyter-js-widgets",
      "model_module_version": "~2.1.4",
      "model_name": "ButtonStyleModel",
      "state": {
       "_model_module_version": "~2.1.4",
       "_view_module_version": "~2.1.4"
      }
     },
     "7d0c8bf5353740d3b133b563b3425f37": {
      "model_module": "jupyter-js-widgets",
      "model_module_version": "~2.1.4",
      "model_name": "ButtonModel",
      "state": {
       "_model_module_version": "~2.1.4",
       "_view_module_version": "~2.1.4",
       "description": "Turn on webcamera",
       "layout": "IPY_MODEL_89bac317df404b7eb8aa11aee798e3b3",
       "style": "IPY_MODEL_9e700b32143047c68d0c1ee82cba79d3"
      }
     },
     "7e6b487e06994aa1b6aa694a5c19d00d": {
      "model_module": "jupyter-js-widgets",
      "model_module_version": "~2.1.4",
      "model_name": "LayoutModel",
      "state": {
       "_model_module_version": "~2.1.4",
       "_view_module_version": "~2.1.4"
      }
     },
     "7eeea8463b434db7bc183486362fe08c": {
      "model_module": "jupyter-js-widgets",
      "model_module_version": "~2.1.4",
      "model_name": "ButtonStyleModel",
      "state": {
       "_model_module_version": "~2.1.4",
       "_view_module_version": "~2.1.4"
      }
     },
     "7f611681f32149358a68e33c6ef7fe03": {
      "model_module": "jupyter-js-widgets",
      "model_module_version": "~2.1.4",
      "model_name": "LayoutModel",
      "state": {
       "_model_module_version": "~2.1.4",
       "_view_module_version": "~2.1.4"
      }
     },
     "7f790187c599455888cc6abfb2078529": {
      "model_module": "jupyter-js-widgets",
      "model_module_version": "~2.1.4",
      "model_name": "ButtonStyleModel",
      "state": {
       "_model_module_version": "~2.1.4",
       "_view_module_version": "~2.1.4"
      }
     },
     "7fea34f4fbcf4aea932883df99f55d79": {
      "model_module": "jupyter-js-widgets",
      "model_module_version": "~2.1.4",
      "model_name": "LayoutModel",
      "state": {
       "_model_module_version": "~2.1.4",
       "_view_module_version": "~2.1.4",
       "width": "100%"
      }
     },
     "802aa4e80e504678a04e34372107e208": {
      "model_module": "jupyter-js-widgets",
      "model_module_version": "~2.1.4",
      "model_name": "LayoutModel",
      "state": {
       "_model_module_version": "~2.1.4",
       "_view_module_version": "~2.1.4"
      }
     },
     "802fadaceb764446a5ff9035a6406387": {
      "model_module": "jupyter-js-widgets",
      "model_module_version": "~2.1.4",
      "model_name": "HTMLModel",
      "state": {
       "_model_module_version": "~2.1.4",
       "_view_module_version": "~2.1.4",
       "layout": "IPY_MODEL_5b8939e1b5454efc80451160d61f20d4",
       "value": "\n        <svg id='XOR2' xmlns='http://www.w3.org/2000/svg' width=\"450\" height=\"615\" image-rendering=\"pixelated\">\n    <defs>\n        <marker id=\"arrow\" markerWidth=\"10\" markerHeight=\"10\" refX=\"9\" refY=\"3\" orient=\"auto\" markerUnits=\"strokeWidth\">\n          <path d=\"M0,0 L0,6 L9,3 z\" fill=\"blue\" />\n        </marker>\n    </defs>\n<rect x=\"99.0\" y=\"24\" width=\"102\" height=\"102\" style=\"fill:none;stroke:blue;stroke-width:2\"/><image id=\"XOR2_output1_targets_1\" class=\"XOR2_output1_targets\" x=\"100.0\" y=\"25\" height=\"100\" width=\"100\" preserveAspectRatio=\"none\" href=\"data:image/gif;base64,R0lGODdhAQABAIAAAKOjowAAACwAAAAAAQABAAAIBQABTAsIADs=\"><title>Layer: output1 (output)\n shape = (1,)\n Keras class = Dense\n activation = sigmoid</title></image><text x=\"205.0\" y=\"77.0\" font-family=\"monospace\" font-size=\"12\">targets</text><rect x=\"274.0\" y=\"24\" width=\"52\" height=\"52\" style=\"fill:none;stroke:blue;stroke-width:2\"/><image id=\"XOR2_output2_targets_1\" class=\"XOR2_output2_targets\" x=\"275.0\" y=\"25\" height=\"50\" width=\"50\" preserveAspectRatio=\"none\" href=\"data:image/gif;base64,R0lGODdhAQABAIAAAF1dXQAAACwAAAAAAQABAAAIBQABrAsIADs=\"><title>Layer: output2 (output)\n shape = (1,)\n Keras class = Dense\n activation = sigmoid</title></image><text x=\"330.0\" y=\"52.0\" font-family=\"monospace\" font-size=\"12\">targets</text><rect x=\"99.0\" y=\"134\" width=\"102\" height=\"102\" style=\"fill:none;stroke:blue;stroke-width:2\"/><image id=\"XOR2_output1_errors_1\" class=\"XOR2_output1_errors\" x=\"100.0\" y=\"135\" height=\"100\" width=\"100\" preserveAspectRatio=\"none\" href=\"data:image/gif;base64,R0lGODdhAQABAIAAAKOjowAAACwAAAAAAQABAAAIBQABrAsIADs=\"><title>Layer: output1 (output)\n shape = (1,)\n Keras class = Dense\n activation = sigmoid</title></image><text x=\"205.0\" y=\"187.0\" font-family=\"monospace\" font-size=\"12\">errors</text><rect x=\"274.0\" y=\"134\" width=\"52\" height=\"52\" style=\"fill:none;stroke:blue;stroke-width:2\"/><image id=\"XOR2_output2_errors_1\" class=\"XOR2_output2_errors\" x=\"275.0\" y=\"135\" height=\"50\" width=\"50\" preserveAspectRatio=\"none\" href=\"data:image/gif;base64,R0lGODdhAQABAIAAAF1dXQAAACwAAAAAAQABAAAIBQABrAsIADs=\"><title>Layer: output2 (output)\n shape = (1,)\n Keras class = Dense\n activation = sigmoid</title></image><text x=\"330.0\" y=\"162.0\" font-family=\"monospace\" font-size=\"12\">errors</text><rect x=\"99.0\" y=\"249\" width=\"102\" height=\"102\" style=\"fill:none;stroke:blue;stroke-width:2\"/><image id=\"XOR2_output1_1\" class=\"XOR2_output1\" x=\"100.0\" y=\"250\" height=\"100\" width=\"100\" preserveAspectRatio=\"none\" href=\"data:image/gif;base64,R0lGODdhAQABAIAAAKOjowAAACwAAAAAAQABAAAIBQABrAsIADs=\"><title>Layer: output1 (output)\n shape = (1,)\n Keras class = Dense\n activation = sigmoid</title></image><text x=\"205.0\" y=\"302.0\" font-family=\"monospace\" font-size=\"12\">output1</text><rect x=\"274.0\" y=\"249\" width=\"52\" height=\"52\" style=\"fill:none;stroke:blue;stroke-width:2\"/><image id=\"XOR2_output2_2\" class=\"XOR2_output2\" x=\"275.0\" y=\"250\" height=\"50\" width=\"50\" preserveAspectRatio=\"none\" href=\"data:image/gif;base64,R0lGODdhAQABAIAAAF1dXQAAACwAAAAAAQABAAAIBQABrAsIADs=\"><title>Layer: output2 (output)\n shape = (1,)\n Keras class = Dense\n activation = sigmoid</title></image><text x=\"330.0\" y=\"277.0\" font-family=\"monospace\" font-size=\"12\">output2</text><rect x=\"150.0\" y=\"352\" width=\"75.0\" height=\"27\" style=\"fill:white;stroke:none\"><title>Weights from shared-hidden to output1\n output1/kernel has shape (5, 1)\n output1/bias has shape (1,)</title></rect><rect x=\"225.0\" y=\"302\" width=\"75.0\" height=\"77\" style=\"fill:white;stroke:none\"><title>Weights from shared-hidden to output2\n output2/kernel has shape (5, 1)\n output2/bias has shape (1,)</title></rect><line x1=\"225.0\" y1=\"379\" x2=\"150.0\" y2=\"352\" stroke=\"blue\" stroke-width=\"2\" marker-end=\"url(#arrow)\"><title>Weights from shared-hidden to output1\n output1/kernel has shape (5, 1)\n output1/bias has shape (1,)</title></line><line x1=\"225.0\" y1=\"379\" x2=\"300.0\" y2=\"302\" stroke=\"blue\" stroke-width=\"2\" marker-end=\"url(#arrow)\"><title>Weights from shared-hidden to output2\n output2/kernel has shape (5, 1)\n output2/bias has shape (1,)</title></line><rect x=\"199.0\" y=\"379\" width=\"52\" height=\"27\" style=\"fill:none;stroke:blue;stroke-width:2\"/><image id=\"XOR2_shared-hidden_3\" class=\"XOR2_shared-hidden\" x=\"200.0\" y=\"380\" height=\"25\" width=\"50\" preserveAspectRatio=\"none\" href=\"data:image/gif;base64,R0lGODdhBQABAIIAAFxcXGNjY2hoaIaGhoeHhwAAAAAAAAAAACwAAAAABQABAAAICAAFEAAQYEBAADs=\"><title>Layer: shared-hidden (hidden)\n shape = (5,)\n Keras class = Dense\n activation = sigmoid</title></image><text x=\"255.0\" y=\"394.5\" font-family=\"monospace\" font-size=\"12\">shared-hidden</text><rect x=\"150.0\" y=\"407\" width=\"75.0\" height=\"27\" style=\"fill:white;stroke:none\"><title>Weights from hidden1 to shared-hidden\n shared-hidden/kernel has shape (20, 5)\n shared-hidden/bias has shape (5,)</title></rect><line x1=\"150.0\" y1=\"434\" x2=\"225.0\" y2=\"407\" stroke=\"blue\" stroke-width=\"2\" marker-end=\"url(#arrow)\"><title>Weights from hidden1 to shared-hidden\n shared-hidden/kernel has shape (20, 5)\n shared-hidden/bias has shape (5,)</title></line><rect x=\"124.0\" y=\"434\" width=\"52\" height=\"27\" style=\"fill:none;stroke:blue;stroke-width:2\"/><image id=\"XOR2_hidden1_4\" class=\"XOR2_hidden1\" x=\"125.0\" y=\"435\" height=\"25\" width=\"50\" preserveAspectRatio=\"none\" href=\"data:image/gif;base64,R0lGODdhCgABAIAAAH9/fwAAACwAAAAACgABAAAIBwABCBxIMCAAOw==\"><title>Layer: hidden1 (hidden)\n shape = (10,)\n Keras class = Dense\n activation = sigmoid</title></image><text x=\"180.0\" y=\"449.5\" font-family=\"monospace\" font-size=\"12\">hidden1</text><rect x=\"225.0\" y=\"407\" width=\"75.0\" height=\"27\" style=\"fill:white;stroke:none\"><title>Weights from hidden2 to shared-hidden\n shared-hidden/kernel has shape (20, 5)\n shared-hidden/bias has shape (5,)</title></rect><line x1=\"300.0\" y1=\"434\" x2=\"225.0\" y2=\"407\" stroke=\"blue\" stroke-width=\"2\" marker-end=\"url(#arrow)\"><title>Weights from hidden2 to shared-hidden\n shared-hidden/kernel has shape (20, 5)\n shared-hidden/bias has shape (5,)</title></line><rect x=\"274.0\" y=\"434\" width=\"52\" height=\"27\" style=\"fill:none;stroke:blue;stroke-width:2\"/><image id=\"XOR2_hidden2_5\" class=\"XOR2_hidden2\" x=\"275.0\" y=\"435\" height=\"25\" width=\"50\" preserveAspectRatio=\"none\" href=\"data:image/gif;base64,R0lGODdhCgABAIAAAH9/fwAAACwAAAAACgABAAAIBwABCBxIMCAAOw==\"><title>Layer: hidden2 (hidden)\n shape = (10,)\n Keras class = Dense\n activation = sigmoid</title></image><text x=\"330.0\" y=\"449.5\" font-family=\"monospace\" font-size=\"12\">hidden2</text><rect x=\"140.0\" y=\"462\" width=\"20.0\" height=\"27\" style=\"fill:white;stroke:none\"><title>Weights from input1 to hidden1\n hidden1/kernel has shape (1, 10)\n hidden1/bias has shape (10,)</title></rect><line x1=\"150.0\" y1=\"489\" x2=\"150.0\" y2=\"462\" stroke=\"blue\" stroke-width=\"2\" marker-end=\"url(#arrow)\"><title>Weights from input1 to hidden1\n hidden1/kernel has shape (1, 10)\n hidden1/bias has shape (10,)</title></line><rect x=\"99.0\" y=\"489\" width=\"102\" height=\"102\" style=\"fill:none;stroke:blue;stroke-width:2\"/><image id=\"XOR2_input1_6\" class=\"XOR2_input1\" x=\"100.0\" y=\"490\" height=\"100\" width=\"100\" preserveAspectRatio=\"none\" href=\"data:image/gif;base64,R0lGODdhAQABAIAAAH9/fwAAACwAAAAAAQABAAAIBQABrAsIADs=\"><title>Layer: input1 (input)\n shape = (1,)\n Keras class = Input</title></image><text x=\"205.0\" y=\"542.0\" font-family=\"monospace\" font-size=\"12\">input1</text><rect x=\"290.0\" y=\"462\" width=\"20.0\" height=\"27\" style=\"fill:white;stroke:none\"><title>Weights from input2 to hidden2\n hidden2/kernel has shape (1, 10)\n hidden2/bias has shape (10,)</title></rect><line x1=\"300.0\" y1=\"489\" x2=\"300.0\" y2=\"462\" stroke=\"blue\" stroke-width=\"2\" marker-end=\"url(#arrow)\"><title>Weights from input2 to hidden2\n hidden2/kernel has shape (1, 10)\n hidden2/bias has shape (10,)</title></line><rect x=\"274.0\" y=\"489\" width=\"52\" height=\"52\" style=\"fill:none;stroke:blue;stroke-width:2\"/><image id=\"XOR2_input2_7\" class=\"XOR2_input2\" x=\"275.0\" y=\"490\" height=\"50\" width=\"50\" preserveAspectRatio=\"none\" href=\"data:image/gif;base64,R0lGODdhAQABAIAAAH9/fwAAACwAAAAAAQABAAAIBQABrAsIADs=\"><title>Layer: input2 (input)\n shape = (1,)\n Keras class = Input</title></image><text x=\"330.0\" y=\"517.0\" font-family=\"monospace\" font-size=\"12\">input2</text></svg>"
      }
     },
     "803e5a1ab7ac4e9386d6d45d0e636628": {
      "model_module": "jupyter-js-widgets",
      "model_module_version": "~2.1.4",
      "model_name": "ButtonStyleModel",
      "state": {
       "_model_module_version": "~2.1.4",
       "_view_module_version": "~2.1.4"
      }
     },
     "803e81c1b27641e7aa7f847609cad47c": {
      "model_module": "jupyter-js-widgets",
      "model_module_version": "~2.1.4",
      "model_name": "ButtonModel",
      "state": {
       "_model_module_version": "~2.1.4",
       "_view_module_version": "~2.1.4",
       "description": "Train",
       "layout": "IPY_MODEL_30e0c583bdd048f3b68dbaea594481ab",
       "style": "IPY_MODEL_4f583f767ab7406f95247e6938548146"
      }
     },
     "8181bb93b6ea42d2b38ab7a1859b0106": {
      "model_module": "jupyter-js-widgets",
      "model_module_version": "~2.1.4",
      "model_name": "LayoutModel",
      "state": {
       "_model_module_version": "~2.1.4",
       "_view_module_version": "~2.1.4",
       "width": "100%"
      }
     },
     "81a827b8bccb40e98ff018018da5ebcd": {
      "model_module": "jupyter-js-widgets",
      "model_module_version": "~2.1.4",
      "model_name": "VBoxModel",
      "state": {
       "_model_module_version": "~2.1.4",
       "_view_module_version": "~2.1.4",
       "children": [
        "IPY_MODEL_83aad11ec9284318bd620a628dd1a015",
        "IPY_MODEL_0ccaa79342e34113a903e9e6208b79d5",
        "IPY_MODEL_5e22be2b53144af4bf1873f1ea480d7f"
       ],
       "layout": "IPY_MODEL_2708d51cdfb24a77b0ba383955b4aedd"
      }
     },
     "829a904cef544dc2ad8f9c7a144823e6": {
      "model_module": "jupyter-js-widgets",
      "model_module_version": "~2.1.4",
      "model_name": "ButtonModel",
      "state": {
       "_model_module_version": "~2.1.4",
       "_view_module_version": "~2.1.4",
       "icon": "fast-backward",
       "layout": "IPY_MODEL_c776f0d3b3a440c1bc542c123ca6d7a4",
       "style": "IPY_MODEL_f525952b6d2f413c8800c3ae6bdb4828"
      }
     },
     "830e6873a07448799315ba6ef6dee64c": {
      "model_module": "jupyter-js-widgets",
      "model_module_version": "~2.1.4",
      "model_name": "LayoutModel",
      "state": {
       "_model_module_version": "~2.1.4",
       "_view_module_version": "~2.1.4",
       "width": "100%"
      }
     },
     "83aad11ec9284318bd620a628dd1a015": {
      "model_module": "jupyter-js-widgets",
      "model_module_version": "~2.1.4",
      "model_name": "SelectModel",
      "state": {
       "_model_module_version": "~2.1.4",
       "_options_labels": [
        "Test",
        "Train"
       ],
       "_view_module_version": "~2.1.4",
       "description": "Dataset:",
       "layout": "IPY_MODEL_aee75d74d0084a1d873084917443d38d",
       "value": "Train"
      }
     },
     "840f57d3d67e4f95b9d28ad239f76b0b": {
      "model_module": "jupyter-js-widgets",
      "model_module_version": "~2.1.4",
      "model_name": "VBoxModel",
      "state": {
       "_model_module_version": "~2.1.4",
       "_view_module_version": "~2.1.4",
       "layout": "IPY_MODEL_14102831fcad4a02b2c4c3c67835f30f"
      }
     },
     "847268ea0c30408c971690e6b92a06c4": {
      "model_module": "jupyter-js-widgets",
      "model_module_version": "~2.1.4",
      "model_name": "LayoutModel",
      "state": {
       "_model_module_version": "~2.1.4",
       "_view_module_version": "~2.1.4",
       "height": "100%",
       "justify_content": "center",
       "max_height": "550px",
       "overflow_x": "auto",
       "width": "100%"
      }
     },
     "84a1ab4f5b674f76984319c6282c7ea2": {
      "model_module": "jupyter-js-widgets",
      "model_module_version": "~2.1.4",
      "model_name": "ButtonModel",
      "state": {
       "_model_module_version": "~2.1.4",
       "_view_module_version": "~2.1.4",
       "icon": "backward",
       "layout": "IPY_MODEL_6b7a98aad3a740a2b97e8cf43d9be892",
       "style": "IPY_MODEL_cd914e1d60a5420ab0bf9be46f0dea2b"
      }
     },
     "85397c75fd2d4dd6b409a16db84acc6e": {
      "model_module": "jupyter-js-widgets",
      "model_module_version": "~2.1.4",
      "model_name": "LayoutModel",
      "state": {
       "_model_module_version": "~2.1.4",
       "_view_module_version": "~2.1.4",
       "height": "100%",
       "justify_content": "center",
       "max_height": "550px",
       "overflow_x": "auto",
       "width": "100%"
      }
     },
     "85add506101d480f87198c1c6a14e58c": {
      "model_module": "jupyter-js-widgets",
      "model_module_version": "~2.1.4",
      "model_name": "ButtonStyleModel",
      "state": {
       "_model_module_version": "~2.1.4",
       "_view_module_version": "~2.1.4"
      }
     },
     "85b9257d94b14ab9a6377cfbf920c0a6": {
      "model_module": "jupyter-js-widgets",
      "model_module_version": "~2.1.4",
      "model_name": "LayoutModel",
      "state": {
       "_model_module_version": "~2.1.4",
       "_view_module_version": "~2.1.4",
       "width": "100%"
      }
     },
     "8622aa9473f648ca83e4b3f61f20b71a": {
      "model_module": "jupyter-js-widgets",
      "model_module_version": "~2.1.4",
      "model_name": "LayoutModel",
      "state": {
       "_model_module_version": "~2.1.4",
       "_view_module_version": "~2.1.4"
      }
     },
     "863e42739fc54f0e86b1677986e3aaee": {
      "model_module": "jupyter-js-widgets",
      "model_module_version": "~2.1.4",
      "model_name": "LayoutModel",
      "state": {
       "_model_module_version": "~2.1.4",
       "_view_module_version": "~2.1.4",
       "width": "100%"
      }
     },
     "865a67a955ed46f8af9f4f41bb23b6c0": {
      "model_module": "jupyter-js-widgets",
      "model_module_version": "~2.1.4",
      "model_name": "ButtonModel",
      "state": {
       "_model_module_version": "~2.1.4",
       "_view_module_version": "~2.1.4",
       "description": "Turn on webcamera",
       "layout": "IPY_MODEL_6787f74ca7724a0da42387fe9f03caec",
       "style": "IPY_MODEL_2ba20b58a712478aafccf5528455944d"
      }
     },
     "867f88280a904000ae2f85f1f024bd2d": {
      "model_module": "jupyter-js-widgets",
      "model_module_version": "~2.1.4",
      "model_name": "HBoxModel",
      "state": {
       "_model_module_version": "~2.1.4",
       "_view_module_version": "~2.1.4",
       "children": [
        "IPY_MODEL_e9d585b458f0425e9e268d2fda2ca087",
        "IPY_MODEL_fe642911cf4e4e1f965ef3008eb1bcab",
        "IPY_MODEL_9deb9bbabb5b40aeaa5991137716eacc",
        "IPY_MODEL_79ca8a0a204f4d6ba226b445f026e9ea",
        "IPY_MODEL_5d952163c11e4ae89fbf898f02d928f5"
       ],
       "layout": "IPY_MODEL_f56ae6bcdf19449a9dd369028ba0364a"
      }
     },
     "86ea01164351479d8290a6af19738c3a": {
      "model_module": "jupyter-js-widgets",
      "model_module_version": "~2.1.4",
      "model_name": "LayoutModel",
      "state": {
       "_model_module_version": "~2.1.4",
       "_view_module_version": "~2.1.4"
      }
     },
     "87c24ac3969b4e739be0bc667f544876": {
      "model_module": "jupyter-js-widgets",
      "model_module_version": "~2.1.4",
      "model_name": "ButtonStyleModel",
      "state": {
       "_model_module_version": "~2.1.4",
       "_view_module_version": "~2.1.4"
      }
     },
     "87d04e312acd4dce9580f01ddc746d87": {
      "model_module": "jupyter-js-widgets",
      "model_module_version": "~2.1.4",
      "model_name": "LayoutModel",
      "state": {
       "_model_module_version": "~2.1.4",
       "_view_module_version": "~2.1.4",
       "width": "100%"
      }
     },
     "87e78addcc00464aab3e657876db3f47": {
      "model_module": "jupyter-js-widgets",
      "model_module_version": "~2.1.4",
      "model_name": "LayoutModel",
      "state": {
       "_model_module_version": "~2.1.4",
       "_view_module_version": "~2.1.4",
       "width": "100%"
      }
     },
     "89083768dc6a44078856ad96ef6b9fe3": {
      "model_module": "jupyter-js-widgets",
      "model_module_version": "~2.1.4",
      "model_name": "ButtonStyleModel",
      "state": {
       "_model_module_version": "~2.1.4",
       "_view_module_version": "~2.1.4"
      }
     },
     "893b5678c1b4456b94a0dd9e22cc500e": {
      "model_module": "jupyter-js-widgets",
      "model_module_version": "~2.1.4",
      "model_name": "LayoutModel",
      "state": {
       "_model_module_version": "~2.1.4",
       "_view_module_version": "~2.1.4"
      }
     },
     "895f5329d3a4441aabe3b0f79781d0a5": {
      "model_module": "jupyter-js-widgets",
      "model_module_version": "~2.1.4",
      "model_name": "ButtonStyleModel",
      "state": {
       "_model_module_version": "~2.1.4",
       "_view_module_version": "~2.1.4"
      }
     },
     "89bac317df404b7eb8aa11aee798e3b3": {
      "model_module": "jupyter-js-widgets",
      "model_module_version": "~2.1.4",
      "model_name": "LayoutModel",
      "state": {
       "_model_module_version": "~2.1.4",
       "_view_module_version": "~2.1.4"
      }
     },
     "89c8f9a98d9c47818e48729da18dbea9": {
      "model_module": "jupyter-js-widgets",
      "model_module_version": "~2.1.4",
      "model_name": "LayoutModel",
      "state": {
       "_model_module_version": "~2.1.4",
       "_view_module_version": "~2.1.4",
       "width": "100%"
      }
     },
     "89eca4b805204a2c89d952c5ffb7ad2b": {
      "model_module": "jupyter-js-widgets",
      "model_module_version": "~2.1.4",
      "model_name": "LayoutModel",
      "state": {
       "_model_module_version": "~2.1.4",
       "_view_module_version": "~2.1.4",
       "width": "100%"
      }
     },
     "8a08387c29ff432a9cd106b2a88cb9a8": {
      "model_module": "jupyter-js-widgets",
      "model_module_version": "~2.1.4",
      "model_name": "VBoxModel",
      "state": {
       "_model_module_version": "~2.1.4",
       "_view_module_version": "~2.1.4",
       "children": [
        "IPY_MODEL_e747cdd9a95d4a18b76ba197cc4b5f09"
       ],
       "layout": "IPY_MODEL_4a9ff758e7fc4959ac92c18708317be6"
      }
     },
     "8a3186a5727644279e300c4db05f6d52": {
      "model_module": "jupyter-js-widgets",
      "model_module_version": "~2.1.4",
      "model_name": "ButtonModel",
      "state": {
       "_model_module_version": "~2.1.4",
       "_view_module_version": "~2.1.4",
       "icon": "fast-forward",
       "layout": "IPY_MODEL_0cb046f7f871406daacc6a0b704d1b64",
       "style": "IPY_MODEL_5e5816a694684e2188a641c0232f3438"
      }
     },
     "8a76f08e64a84750a47c650cf83dd2fb": {
      "model_module": "jupyter-js-widgets",
      "model_module_version": "~2.1.4",
      "model_name": "HTMLModel",
      "state": {
       "_model_module_version": "~2.1.4",
       "_view_module_version": "~2.1.4",
       "layout": "IPY_MODEL_17991695af8a4bb8a84788fb4e352235",
       "value": "<iframe style=\"width: 800px\" src=\"https://conx.readthedocs.io\" width=\"100%\" height=\"550px\"></frame>"
      }
     },
     "8aa87e8e243642719a288b47698e0859": {
      "model_module": "jupyter-js-widgets",
      "model_module_version": "~2.1.4",
      "model_name": "ButtonModel",
      "state": {
       "_model_module_version": "~2.1.4",
       "_view_module_version": "~2.1.4",
       "icon": "fast-forward",
       "layout": "IPY_MODEL_be54e41703074d178e1c07ab3b218bd5",
       "style": "IPY_MODEL_fbe2a2b02eeb4035b6a3132451533644"
      }
     },
     "8adf41094d784a99832743843fb1b28d": {
      "model_module": "jupyter-js-widgets",
      "model_module_version": "~2.1.4",
      "model_name": "LayoutModel",
      "state": {
       "_model_module_version": "~2.1.4",
       "_view_module_version": "~2.1.4"
      }
     },
     "8bad97d8ba024383908dc71618873d55": {
      "model_module": "jupyter-js-widgets",
      "model_module_version": "~2.1.4",
      "model_name": "HTMLModel",
      "state": {
       "_model_module_version": "~2.1.4",
       "_view_module_version": "~2.1.4",
       "layout": "IPY_MODEL_09806fe79ff14611a0303c3d8d251872",
       "value": "<iframe style=\"width: 800px\" src=\"https://conx.readthedocs.io\" width=\"100%\" height=\"550px\"></frame>"
      }
     },
     "8c01549d6e77498c966cddcb0890c77d": {
      "model_module": "jupyter-js-widgets",
      "model_module_version": "~2.1.4",
      "model_name": "ButtonModel",
      "state": {
       "_model_module_version": "~2.1.4",
       "_view_module_version": "~2.1.4",
       "icon": "forward",
       "layout": "IPY_MODEL_a91c0b96373a4831a4832f43ebae7792",
       "style": "IPY_MODEL_9056bb13e5d04c8eac42badad22f9c69"
      }
     },
     "8c0c946cc9064be3b6ce73cd64446137": {
      "model_module": "jupyter-js-widgets",
      "model_module_version": "~2.1.4",
      "model_name": "LayoutModel",
      "state": {
       "_model_module_version": "~2.1.4",
       "_view_module_version": "~2.1.4",
       "width": "100%"
      }
     },
     "8cc100e660354acdb769bdf6a4f01602": {
      "model_module": "jupyter-js-widgets",
      "model_module_version": "~2.1.4",
      "model_name": "SelectModel",
      "state": {
       "_model_module_version": "~2.1.4",
       "_options_labels": [
        "Test",
        "Train"
       ],
       "_view_module_version": "~2.1.4",
       "description": "Dataset:",
       "layout": "IPY_MODEL_c390dc0e6a9d4079a804b0712566cd87",
       "value": "Train"
      }
     },
     "8d25150e304f48649438edf9fe7fa22f": {
      "model_module": "jupyter-js-widgets",
      "model_module_version": "~2.1.4",
      "model_name": "ButtonModel",
      "state": {
       "_model_module_version": "~2.1.4",
       "_view_module_version": "~2.1.4",
       "description": "Turn on webcamera",
       "layout": "IPY_MODEL_442497f10163439a93d58921f09153d2",
       "style": "IPY_MODEL_5fb1b28cca584c079ac69c30501846fc"
      }
     },
     "8d89527f92414602a80c083a1bd15c62": {
      "model_module": "jupyter-js-widgets",
      "model_module_version": "~2.1.4",
      "model_name": "IntSliderModel",
      "state": {
       "_model_module_version": "~2.1.4",
       "_view_module_version": "~2.1.4",
       "continuous_update": false,
       "description": "Dataset index",
       "layout": "IPY_MODEL_b7ccb2f1437c41768cd5200ce32b3853",
       "max": 0,
       "style": "IPY_MODEL_6aec50b608cc41ccbf049873ac2f1657"
      }
     },
     "8d9fc680517740be96d27650efde13ef": {
      "model_module": "jupyter-js-widgets",
      "model_module_version": "~2.1.4",
      "model_name": "LayoutModel",
      "state": {
       "_model_module_version": "~2.1.4",
       "_view_module_version": "~2.1.4"
      }
     },
     "8db72f3221d5453699719840bbb5aa2c": {
      "model_module": "jupyter-js-widgets",
      "model_module_version": "~2.1.4",
      "model_name": "ButtonModel",
      "state": {
       "_model_module_version": "~2.1.4",
       "_view_module_version": "~2.1.4",
       "description": "Turn on webcamera",
       "layout": "IPY_MODEL_dcdf6894d6b5437eb87a902c2a94411e",
       "style": "IPY_MODEL_c81c266ae44f442db40325feebf3e328"
      }
     },
     "8e05873836f948baa0f8619fa896fe94": {
      "model_module": "jupyter-js-widgets",
      "model_module_version": "~2.1.4",
      "model_name": "LayoutModel",
      "state": {
       "_model_module_version": "~2.1.4",
       "_view_module_version": "~2.1.4"
      }
     },
     "8e883a7ce8fc4cfcb59e2f6e83a305c6": {
      "model_module": "jupyter-js-widgets",
      "model_module_version": "~2.1.4",
      "model_name": "VBoxModel",
      "state": {
       "_model_module_version": "~2.1.4",
       "_view_module_version": "~2.1.4",
       "layout": "IPY_MODEL_dfa8fa422f6f4c7eb11598bee31603ac"
      }
     },
     "8f6b35d82c664664ab7d5c6ef12481bf": {
      "model_module": "jupyter-js-widgets",
      "model_module_version": "~2.1.4",
      "model_name": "LayoutModel",
      "state": {
       "_model_module_version": "~2.1.4",
       "_view_module_version": "~2.1.4"
      }
     },
     "9056bb13e5d04c8eac42badad22f9c69": {
      "model_module": "jupyter-js-widgets",
      "model_module_version": "~2.1.4",
      "model_name": "ButtonStyleModel",
      "state": {
       "_model_module_version": "~2.1.4",
       "_view_module_version": "~2.1.4"
      }
     },
     "91a1ed1d9b7f4bfaaf9322b8de1e8201": {
      "model_module": "jupyter-js-widgets",
      "model_module_version": "~2.1.4",
      "model_name": "VBoxModel",
      "state": {
       "_model_module_version": "~2.1.4",
       "_view_module_version": "~2.1.4",
       "layout": "IPY_MODEL_6d60d1f6935343c2a7d824a521298a80"
      }
     },
     "92e906e1227b48268ac0d707000e1866": {
      "model_module": "jupyter-js-widgets",
      "model_module_version": "~2.1.4",
      "model_name": "LayoutModel",
      "state": {
       "_model_module_version": "~2.1.4",
       "_view_module_version": "~2.1.4",
       "width": "100%"
      }
     },
     "93a2430522b8427480de2d62f9ded638": {
      "model_module": "jupyter-js-widgets",
      "model_module_version": "~2.1.4",
      "model_name": "VBoxModel",
      "state": {
       "_model_module_version": "~2.1.4",
       "_view_module_version": "~2.1.4",
       "layout": "IPY_MODEL_b06783c5bedf476a880eac45cec5abc3"
      }
     },
     "942950352e72403683360c2d99f850cc": {
      "model_module": "jupyter-js-widgets",
      "model_module_version": "~2.1.4",
      "model_name": "LayoutModel",
      "state": {
       "_model_module_version": "~2.1.4",
       "_view_module_version": "~2.1.4",
       "width": "100%"
      }
     },
     "9496e278f2a8451ea3ae581ca6f21573": {
      "model_module": "jupyter-js-widgets",
      "model_module_version": "~2.1.4",
      "model_name": "LayoutModel",
      "state": {
       "_model_module_version": "~2.1.4",
       "_view_module_version": "~2.1.4",
       "width": "100%"
      }
     },
     "94f2503b175543a0a13277509fc57957": {
      "model_module": "jupyter-js-widgets",
      "model_module_version": "~2.1.4",
      "model_name": "LayoutModel",
      "state": {
       "_model_module_version": "~2.1.4",
       "_view_module_version": "~2.1.4",
       "width": "100%"
      }
     },
     "95802d4a6a594c08a500985fecba5ce1": {
      "model_module": "jupyter-js-widgets",
      "model_module_version": "~2.1.4",
      "model_name": "VBoxModel",
      "state": {
       "_model_module_version": "~2.1.4",
       "_view_module_version": "~2.1.4",
       "children": [
        "IPY_MODEL_dc4b7fd1d9a74ba985001030225057be",
        "IPY_MODEL_8d89527f92414602a80c083a1bd15c62",
        "IPY_MODEL_efd14758cf50432d9635600b26034fe9"
       ],
       "layout": "IPY_MODEL_609fa5f92d624e96bb5e278d8637d0b0"
      }
     },
     "9585dc0604ce4177acb1b803db57537c": {
      "model_module": "jupyter-js-widgets",
      "model_module_version": "~2.1.4",
      "model_name": "ButtonModel",
      "state": {
       "_model_module_version": "~2.1.4",
       "_view_module_version": "~2.1.4",
       "description": "Turn on webcamera",
       "layout": "IPY_MODEL_345d1097a1934bfc87981df49430efdf",
       "style": "IPY_MODEL_304ec77ed7fa449c8f53a5e88466a679"
      }
     },
     "9598aaf268e34e3b948c5f2f08f0d831": {
      "model_module": "jupyter-js-widgets",
      "model_module_version": "~2.1.4",
      "model_name": "LayoutModel",
      "state": {
       "_model_module_version": "~2.1.4",
       "_view_module_version": "~2.1.4",
       "width": "100%"
      }
     },
     "95a7358dee99494897d9dc2e919ab81e": {
      "model_module": "jupyter-js-widgets",
      "model_module_version": "~2.1.4",
      "model_name": "LayoutModel",
      "state": {
       "_model_module_version": "~2.1.4",
       "_view_module_version": "~2.1.4",
       "width": "100%"
      }
     },
     "95e9c681b55c47d395c79bc05f9c63b2": {
      "model_module": "jupyter-js-widgets",
      "model_module_version": "~2.1.4",
      "model_name": "ButtonStyleModel",
      "state": {
       "_model_module_version": "~2.1.4",
       "_view_module_version": "~2.1.4"
      }
     },
     "964187ed3c854743b6d0715a83bf3a32": {
      "model_module": "jupyter-js-widgets",
      "model_module_version": "~2.1.4",
      "model_name": "LayoutModel",
      "state": {
       "_model_module_version": "~2.1.4",
       "_view_module_version": "~2.1.4",
       "height": "100%",
       "justify_content": "center",
       "max_height": "550px",
       "overflow_x": "auto",
       "width": "100%"
      }
     },
     "964cc95d94a24375bed425919ac9b1f8": {
      "model_module": "jupyter-js-widgets",
      "model_module_version": "~2.1.4",
      "model_name": "LayoutModel",
      "state": {
       "_model_module_version": "~2.1.4",
       "_view_module_version": "~2.1.4"
      }
     },
     "966714a76c404a9aadaa9fafa9d683e1": {
      "model_module": "jupyter-js-widgets",
      "model_module_version": "~2.1.4",
      "model_name": "SliderStyleModel",
      "state": {
       "_model_module_version": "~2.1.4",
       "_view_module_version": "~2.1.4"
      }
     },
     "97d56cd9d33f483fa611eea01f6d0e50": {
      "model_module": "jupyter-js-widgets",
      "model_module_version": "~2.1.4",
      "model_name": "ButtonModel",
      "state": {
       "_model_module_version": "~2.1.4",
       "_view_module_version": "~2.1.4",
       "description": "Train",
       "layout": "IPY_MODEL_3fd833808b85479da6c3248c466f01ab",
       "style": "IPY_MODEL_15b74ee70369481bb82e876b8a368cae"
      }
     },
     "97f5ee35ab544929afc938908aabe572": {
      "model_module": "jupyter-js-widgets",
      "model_module_version": "~2.1.4",
      "model_name": "SliderStyleModel",
      "state": {
       "_model_module_version": "~2.1.4",
       "_view_module_version": "~2.1.4"
      }
     },
     "9833e271555c45339d9afbd22f18ef27": {
      "model_module": "jupyter-js-widgets",
      "model_module_version": "~2.1.4",
      "model_name": "VBoxModel",
      "state": {
       "_model_module_version": "~2.1.4",
       "_view_module_version": "~2.1.4",
       "layout": "IPY_MODEL_eccf1b0cbeae463ba62eb5af4039efc0"
      }
     },
     "98b5b6e4947041cfaedd41e8087b9f65": {
      "model_module": "jupyter-js-widgets",
      "model_module_version": "~2.1.4",
      "model_name": "LayoutModel",
      "state": {
       "_model_module_version": "~2.1.4",
       "_view_module_version": "~2.1.4",
       "width": "100%"
      }
     },
     "99107b3b94d54bbe94e2670f03511c41": {
      "model_module": "jupyter-js-widgets",
      "model_module_version": "~2.1.4",
      "model_name": "LayoutModel",
      "state": {
       "_model_module_version": "~2.1.4",
       "_view_module_version": "~2.1.4"
      }
     },
     "9a258ff6c54c4675a75d148eb5af0bc8": {
      "model_module": "jupyter-js-widgets",
      "model_module_version": "~2.1.4",
      "model_name": "IntSliderModel",
      "state": {
       "_model_module_version": "~2.1.4",
       "_view_module_version": "~2.1.4",
       "continuous_update": false,
       "description": "Dataset index",
       "layout": "IPY_MODEL_3d50f3e1ee094a04b49045e4cfdc7f67",
       "max": 0,
       "style": "IPY_MODEL_fd044e22ad9740779edab3c483866a9c"
      }
     },
     "9a7e21c620a84841880de34b575a45ed": {
      "model_module": "jupyter-js-widgets",
      "model_module_version": "~2.1.4",
      "model_name": "ButtonStyleModel",
      "state": {
       "_model_module_version": "~2.1.4",
       "_view_module_version": "~2.1.4"
      }
     },
     "9af649d1353c4b6ca91ea55732119cb3": {
      "model_module": "jupyter-js-widgets",
      "model_module_version": "~2.1.4",
      "model_name": "LayoutModel",
      "state": {
       "_model_module_version": "~2.1.4",
       "_view_module_version": "~2.1.4",
       "width": "100%"
      }
     },
     "9b746cd432cc4175bcf6ffe4beb085cf": {
      "model_module": "jupyter-js-widgets",
      "model_module_version": "~2.1.4",
      "model_name": "LayoutModel",
      "state": {
       "_model_module_version": "~2.1.4",
       "_view_module_version": "~2.1.4",
       "height": "100%",
       "justify_content": "center",
       "max_height": "550px",
       "overflow_x": "auto",
       "width": "100%"
      }
     },
     "9b8bb58c7f7a44089b5188ab3f6e14b0": {
      "model_module": "jupyter-js-widgets",
      "model_module_version": "~2.1.4",
      "model_name": "VBoxModel",
      "state": {
       "_model_module_version": "~2.1.4",
       "_view_module_version": "~2.1.4",
       "children": [
        "IPY_MODEL_058c865a2c2245dc811517f4bfdd058b",
        "IPY_MODEL_95802d4a6a594c08a500985fecba5ce1"
       ],
       "layout": "IPY_MODEL_1d3384dd0d3e4ae8b02c5c9476156eb3"
      }
     },
     "9bca34e2623e48b895fef70c7a69f4e6": {
      "model_module": "jupyter-js-widgets",
      "model_module_version": "~2.1.4",
      "model_name": "VBoxModel",
      "state": {
       "_model_module_version": "~2.1.4",
       "_view_module_version": "~2.1.4",
       "children": [
        "IPY_MODEL_2c616c0b595f49cc876c71c6ff469dba",
        "IPY_MODEL_17fd78f937cc41348f11c8eee928d9fc",
        "IPY_MODEL_867f88280a904000ae2f85f1f024bd2d"
       ],
       "layout": "IPY_MODEL_2bdf8e092e0342b7aaec523ff8e459c9"
      }
     },
     "9bfe02d850664a059b5511385267a925": {
      "model_module": "jupyter-js-widgets",
      "model_module_version": "~2.1.4",
      "model_name": "LayoutModel",
      "state": {
       "_model_module_version": "~2.1.4",
       "_view_module_version": "~2.1.4",
       "width": "100%"
      }
     },
     "9c8d4f7c34524582a79e63d0d9a53554": {
      "model_module": "jupyter-js-widgets",
      "model_module_version": "~2.1.4",
      "model_name": "ButtonStyleModel",
      "state": {
       "_model_module_version": "~2.1.4",
       "_view_module_version": "~2.1.4"
      }
     },
     "9d43eda577854a54afbfc840492e274b": {
      "model_module": "jupyter-js-widgets",
      "model_module_version": "~2.1.4",
      "model_name": "TabModel",
      "state": {
       "_model_module_version": "~2.1.4",
       "_titles": {
        "0": "Network",
        "1": "Graphs",
        "2": "Analysis",
        "3": "Camera",
        "4": "Help"
       },
       "_view_module_version": "~2.1.4",
       "children": [
        "IPY_MODEL_6093a1cf711d42b2a038710b4ab94cdb",
        "IPY_MODEL_f14cb92aaa6246b295824441ca21d8f4",
        "IPY_MODEL_840f57d3d67e4f95b9d28ad239f76b0b",
        "IPY_MODEL_fdde544ab12c4e93a4529093e217141d",
        "IPY_MODEL_60c2ef3c312c42bbb9e61f9e8a5193a4"
       ],
       "layout": "IPY_MODEL_2bd4f863c3ab495bba7e8a9ba8c10d06"
      }
     },
     "9d6ba06fa5d54356985a811825920e3f": {
      "model_module": "jupyter-js-widgets",
      "model_module_version": "~2.1.4",
      "model_name": "LayoutModel",
      "state": {
       "_model_module_version": "~2.1.4",
       "_view_module_version": "~2.1.4",
       "width": "100%"
      }
     },
     "9d910e63610f4dae970eac74efceb70d": {
      "model_module": "jupyter-js-widgets",
      "model_module_version": "~2.1.4",
      "model_name": "IntSliderModel",
      "state": {
       "_model_module_version": "~2.1.4",
       "_view_module_version": "~2.1.4",
       "continuous_update": false,
       "description": "Dataset index",
       "layout": "IPY_MODEL_6338e40d14e1466c8fbbc2de1ea2cd5c",
       "max": 0,
       "style": "IPY_MODEL_1a64a37c8029408fa32df8cda89262c0"
      }
     },
     "9de743d78d464056aaf37a1c08ec8e72": {
      "model_module": "jupyter-js-widgets",
      "model_module_version": "~2.1.4",
      "model_name": "LayoutModel",
      "state": {
       "_model_module_version": "~2.1.4",
       "_view_module_version": "~2.1.4"
      }
     },
     "9deb9bbabb5b40aeaa5991137716eacc": {
      "model_module": "jupyter-js-widgets",
      "model_module_version": "~2.1.4",
      "model_name": "ButtonModel",
      "state": {
       "_model_module_version": "~2.1.4",
       "_view_module_version": "~2.1.4",
       "description": "Train",
       "layout": "IPY_MODEL_f8555d5ff7ba4fdf9fba7523d296743f",
       "style": "IPY_MODEL_d2b5940425894984a94774602991e009"
      }
     },
     "9e46fbff0805469e951140e520575817": {
      "model_module": "jupyter-js-widgets",
      "model_module_version": "~2.1.4",
      "model_name": "VBoxModel",
      "state": {
       "_model_module_version": "~2.1.4",
       "_view_module_version": "~2.1.4",
       "layout": "IPY_MODEL_802aa4e80e504678a04e34372107e208"
      }
     },
     "9e65353eb545427b8cf2a44005344843": {
      "model_module": "jupyter-js-widgets",
      "model_module_version": "~2.1.4",
      "model_name": "LayoutModel",
      "state": {
       "_model_module_version": "~2.1.4",
       "_view_module_version": "~2.1.4",
       "width": "100%"
      }
     },
     "9e700b32143047c68d0c1ee82cba79d3": {
      "model_module": "jupyter-js-widgets",
      "model_module_version": "~2.1.4",
      "model_name": "ButtonStyleModel",
      "state": {
       "_model_module_version": "~2.1.4",
       "_view_module_version": "~2.1.4"
      }
     },
     "9f62d305baea41b39e0fb5ffa4a9a9aa": {
      "model_module": "jupyter-js-widgets",
      "model_module_version": "~2.1.4",
      "model_name": "TabModel",
      "state": {
       "_model_module_version": "~2.1.4",
       "_titles": {
        "0": "Network",
        "1": "Graphs",
        "2": "Analysis",
        "3": "Camera",
        "4": "Help"
       },
       "_view_module_version": "~2.1.4",
       "children": [
        "IPY_MODEL_7881263785fa450a9b9c1d5850718924",
        "IPY_MODEL_d3be7ad137014d3cb85b8851b8d657c7",
        "IPY_MODEL_e1a6ace22a604e28b0042910c1317e27",
        "IPY_MODEL_e900d94dcbd7431c83e98475c67c229b",
        "IPY_MODEL_760cb9c080eb45ec8e3c7ac151cbba53"
       ],
       "layout": "IPY_MODEL_f20373a2dcd540c7b9a83cbad3717f9c"
      }
     },
     "9fb08b5f21f545929789d29659e79765": {
      "model_module": "jupyter-js-widgets",
      "model_module_version": "~2.1.4",
      "model_name": "VBoxModel",
      "state": {
       "_model_module_version": "~2.1.4",
       "_view_module_version": "~2.1.4",
       "children": [
        "IPY_MODEL_681b884a984548a7a03bd7a159cc85f6",
        "IPY_MODEL_ee32b0954f5c4330879f7365c672b5fd",
        "IPY_MODEL_d0964bebabd74f79b312bbafb3c7c0a3"
       ],
       "layout": "IPY_MODEL_5e42286652544ea08b0d80b1bd8342fb"
      }
     },
     "9fcbab9034964ed38c6b4f29c2e3fd29": {
      "model_module": "jupyter-js-widgets",
      "model_module_version": "~2.1.4",
      "model_name": "VBoxModel",
      "state": {
       "_model_module_version": "~2.1.4",
       "_view_module_version": "~2.1.4",
       "layout": "IPY_MODEL_bb27e99b3f4c459b93461f3fadc19bb7"
      }
     },
     "a0b29b5a1aec458c8de15ae154037763": {
      "model_module": "jupyter-js-widgets",
      "model_module_version": "~2.1.4",
      "model_name": "VBoxModel",
      "state": {
       "_model_module_version": "~2.1.4",
       "_view_module_version": "~2.1.4",
       "children": [
        "IPY_MODEL_8cc100e660354acdb769bdf6a4f01602",
        "IPY_MODEL_4566156ec56542cc80eb076db259ad6f",
        "IPY_MODEL_6aaf92828d984fe397f39a60c2a3cab3"
       ],
       "layout": "IPY_MODEL_942950352e72403683360c2d99f850cc"
      }
     },
     "a0c9e8248f8640d5950a50e2ccefce50": {
      "model_module": "jupyter-js-widgets",
      "model_module_version": "~2.1.4",
      "model_name": "LayoutModel",
      "state": {
       "_model_module_version": "~2.1.4",
       "_view_module_version": "~2.1.4",
       "width": "100%"
      }
     },
     "a19d3439922c49539cad4f949238b51d": {
      "model_module": "jupyter-js-widgets",
      "model_module_version": "~2.1.4",
      "model_name": "ButtonModel",
      "state": {
       "_model_module_version": "~2.1.4",
       "_view_module_version": "~2.1.4",
       "icon": "fast-forward",
       "layout": "IPY_MODEL_788930bf9d0545709ab7b25a7832a2d7",
       "style": "IPY_MODEL_67c13d58c778485a96074ac20ae2ef9b"
      }
     },
     "a2b7f82bc31d41d3ad6da3d167ba72c9": {
      "model_module": "jupyter-js-widgets",
      "model_module_version": "~2.1.4",
      "model_name": "ButtonStyleModel",
      "state": {
       "_model_module_version": "~2.1.4",
       "_view_module_version": "~2.1.4"
      }
     },
     "a2eebf220136415981511635cbdf3e2d": {
      "model_module": "jupyter-js-widgets",
      "model_module_version": "~2.1.4",
      "model_name": "ButtonModel",
      "state": {
       "_model_module_version": "~2.1.4",
       "_view_module_version": "~2.1.4",
       "icon": "fast-backward",
       "layout": "IPY_MODEL_4cc46e1ffa1449f09862f1e32a51c58a",
       "style": "IPY_MODEL_10b8d53e3425433a9cf93e09dc0640d9"
      }
     },
     "a344a283bb024847ba34b03e42cc82b1": {
      "model_module": "jupyter-js-widgets",
      "model_module_version": "~2.1.4",
      "model_name": "LayoutModel",
      "state": {
       "_model_module_version": "~2.1.4",
       "_view_module_version": "~2.1.4",
       "width": "100%"
      }
     },
     "a39d625647ae4cce91bbbc68218703bd": {
      "model_module": "jupyter-js-widgets",
      "model_module_version": "~2.1.4",
      "model_name": "LayoutModel",
      "state": {
       "_model_module_version": "~2.1.4",
       "_view_module_version": "~2.1.4",
       "width": "100%"
      }
     },
     "a3d38bb7e1fd45dea65599a01db4f27d": {
      "model_module": "jupyter-js-widgets",
      "model_module_version": "~2.1.4",
      "model_name": "HBoxModel",
      "state": {
       "_model_module_version": "~2.1.4",
       "_view_module_version": "~2.1.4",
       "children": [
        "IPY_MODEL_d71e71cab098449c899a821c5d1bc9ee",
        "IPY_MODEL_f78f8b9fa3a44d1597f2b041e846a7e2",
        "IPY_MODEL_76b865ef97f14948b23ff8b71a46ac6c",
        "IPY_MODEL_d6d2bd44c2914bbdb505797fe49549d4",
        "IPY_MODEL_0d9f6e1462364b7ebde417a0204adf19"
       ],
       "layout": "IPY_MODEL_098c551c55124394b27982f295c769fe"
      }
     },
     "a3f5bed3fe9b4ae4b42915af5600ddae": {
      "model_module": "jupyter-js-widgets",
      "model_module_version": "~2.1.4",
      "model_name": "LayoutModel",
      "state": {
       "_model_module_version": "~2.1.4",
       "_view_module_version": "~2.1.4",
       "width": "100%"
      }
     },
     "a48eb2eecb53464d88da67ca00a07491": {
      "model_module": "jupyter-js-widgets",
      "model_module_version": "~2.1.4",
      "model_name": "LayoutModel",
      "state": {
       "_model_module_version": "~2.1.4",
       "_view_module_version": "~2.1.4",
       "width": "100%"
      }
     },
     "a56a9f73fd4b4c3cab364e43408190d2": {
      "model_module": "jupyter-js-widgets",
      "model_module_version": "~2.1.4",
      "model_name": "LayoutModel",
      "state": {
       "_model_module_version": "~2.1.4",
       "_view_module_version": "~2.1.4"
      }
     },
     "a5f85916a6a646f58ed0caf2dd816377": {
      "model_module": "jupyter-js-widgets",
      "model_module_version": "~2.1.4",
      "model_name": "LayoutModel",
      "state": {
       "_model_module_version": "~2.1.4",
       "_view_module_version": "~2.1.4"
      }
     },
     "a6b1484b3e1f48349400c1a95fed81e0": {
      "model_module": "jupyter-js-widgets",
      "model_module_version": "~2.1.4",
      "model_name": "HBoxModel",
      "state": {
       "_model_module_version": "~2.1.4",
       "_view_module_version": "~2.1.4",
       "children": [
        "IPY_MODEL_b88dd276d6e249aba771a9c3c4555e81",
        "IPY_MODEL_dd95f9d4145342358737ead1cc114d09",
        "IPY_MODEL_1d6a09f7abb442fbab7ce158ebf15dff",
        "IPY_MODEL_ea9c422207fa410881be940afcc5a45c",
        "IPY_MODEL_bde5a261e5464fa0b04934fe0350bea6"
       ],
       "layout": "IPY_MODEL_f43f644cc6814b80ac75e94d1933d68a"
      }
     },
     "a7bc6f88bb7845f4b981397560f92def": {
      "model_module": "jupyter-js-widgets",
      "model_module_version": "~2.1.4",
      "model_name": "VBoxModel",
      "state": {
       "_model_module_version": "~2.1.4",
       "_view_module_version": "~2.1.4",
       "layout": "IPY_MODEL_4db813e0f6ef43edbc6dc5dc0896ae79"
      }
     },
     "a83b0456e9394762a7923606677424ea": {
      "model_module": "jupyter-js-widgets",
      "model_module_version": "~2.1.4",
      "model_name": "LayoutModel",
      "state": {
       "_model_module_version": "~2.1.4",
       "_view_module_version": "~2.1.4"
      }
     },
     "a84471532b91424d87f5e7cead1bf86c": {
      "model_module": "jupyter-js-widgets",
      "model_module_version": "~2.1.4",
      "model_name": "LayoutModel",
      "state": {
       "_model_module_version": "~2.1.4",
       "_view_module_version": "~2.1.4",
       "width": "100%"
      }
     },
     "a91c0b96373a4831a4832f43ebae7792": {
      "model_module": "jupyter-js-widgets",
      "model_module_version": "~2.1.4",
      "model_name": "LayoutModel",
      "state": {
       "_model_module_version": "~2.1.4",
       "_view_module_version": "~2.1.4",
       "width": "100%"
      }
     },
     "a92ae2225fff4373b00494384f7a9214": {
      "model_module": "jupyter-js-widgets",
      "model_module_version": "~2.1.4",
      "model_name": "LayoutModel",
      "state": {
       "_model_module_version": "~2.1.4",
       "_view_module_version": "~2.1.4",
       "width": "100%"
      }
     },
     "a9356ea437634408b5daa16b71bc95bb": {
      "model_module": "jupyter-js-widgets",
      "model_module_version": "~2.1.4",
      "model_name": "ButtonStyleModel",
      "state": {
       "_model_module_version": "~2.1.4",
       "_view_module_version": "~2.1.4"
      }
     },
     "a9ccaf1520214d4fbb5bebc0aa8f9c6f": {
      "model_module": "jupyter-js-widgets",
      "model_module_version": "~2.1.4",
      "model_name": "LayoutModel",
      "state": {
       "_model_module_version": "~2.1.4",
       "_view_module_version": "~2.1.4",
       "width": "100%"
      }
     },
     "aa03407e6abd40c98d1b64ffb6cfb0e0": {
      "model_module": "jupyter-js-widgets",
      "model_module_version": "~2.1.4",
      "model_name": "LayoutModel",
      "state": {
       "_model_module_version": "~2.1.4",
       "_view_module_version": "~2.1.4",
       "width": "100%"
      }
     },
     "aae129f9d8734447aa16198a3ba3f065": {
      "model_module": "jupyter-js-widgets",
      "model_module_version": "~2.1.4",
      "model_name": "LayoutModel",
      "state": {
       "_model_module_version": "~2.1.4",
       "_view_module_version": "~2.1.4",
       "width": "100%"
      }
     },
     "abad93826b2545728d045b44802b267f": {
      "model_module": "jupyter-js-widgets",
      "model_module_version": "~2.1.4",
      "model_name": "LayoutModel",
      "state": {
       "_model_module_version": "~2.1.4",
       "_view_module_version": "~2.1.4"
      }
     },
     "acae6e37f44541fb9d2606773eae9acc": {
      "model_module": "jupyter-js-widgets",
      "model_module_version": "~2.1.4",
      "model_name": "VBoxModel",
      "state": {
       "_model_module_version": "~2.1.4",
       "_view_module_version": "~2.1.4",
       "layout": "IPY_MODEL_7f611681f32149358a68e33c6ef7fe03"
      }
     },
     "ad1289339640427fa42eb37f881fe44b": {
      "model_module": "jupyter-js-widgets",
      "model_module_version": "~2.1.4",
      "model_name": "TabModel",
      "state": {
       "_model_module_version": "~2.1.4",
       "_titles": {
        "0": "Network",
        "1": "Graphs",
        "2": "Analysis",
        "3": "Camera",
        "4": "Help"
       },
       "_view_module_version": "~2.1.4",
       "children": [
        "IPY_MODEL_bc0a40ae2e1247388f0c65f6deaf0f8f",
        "IPY_MODEL_ad9203d559d9425ca46de2af5ab48abd",
        "IPY_MODEL_6bf51d2673ad412d9c5cea7e05632b86",
        "IPY_MODEL_74218c6fe8604a099bbc1203e64536fa",
        "IPY_MODEL_bdf4f74477f84b9fbaba27872a21a519"
       ],
       "layout": "IPY_MODEL_3b8eb05575a54048bb00267713cfbcbc"
      }
     },
     "ad2768fdbc814547b1f36f96af821f06": {
      "model_module": "jupyter-js-widgets",
      "model_module_version": "~2.1.4",
      "model_name": "LayoutModel",
      "state": {
       "_model_module_version": "~2.1.4",
       "_view_module_version": "~2.1.4"
      }
     },
     "ad9203d559d9425ca46de2af5ab48abd": {
      "model_module": "jupyter-js-widgets",
      "model_module_version": "~2.1.4",
      "model_name": "VBoxModel",
      "state": {
       "_model_module_version": "~2.1.4",
       "_view_module_version": "~2.1.4",
       "layout": "IPY_MODEL_29125a06dd89497db8f2d3b65fe7b610"
      }
     },
     "ae7b22539d8844ba9c284ac275077096": {
      "model_module": "jupyter-js-widgets",
      "model_module_version": "~2.1.4",
      "model_name": "HTMLModel",
      "state": {
       "_model_module_version": "~2.1.4",
       "_view_module_version": "~2.1.4",
       "layout": "IPY_MODEL_517828a2450d48da960badf1700c01e3",
       "value": "\n        <svg id='XOR2' xmlns='http://www.w3.org/2000/svg' width=\"450\" height=\"615\" image-rendering=\"pixelated\">\n    <defs>\n        <marker id=\"arrow\" markerWidth=\"10\" markerHeight=\"10\" refX=\"9\" refY=\"3\" orient=\"auto\" markerUnits=\"strokeWidth\">\n          <path d=\"M0,0 L0,6 L9,3 z\" fill=\"blue\" />\n        </marker>\n    </defs>\n<rect x=\"99.0\" y=\"24\" width=\"102\" height=\"102\" style=\"fill:none;stroke:blue;stroke-width:2\"/><image id=\"XOR2_output1_targets_1\" class=\"XOR2_output1_targets\" x=\"100.0\" y=\"25\" height=\"100\" width=\"100\" preserveAspectRatio=\"none\" href=\"data:image/gif;base64,R0lGODdhAQABAIAAAHBwcAAAACwAAAAAAQABAAAIBQAB4AoIADs=\"><title>Layer: output1 (output)\n shape = (1,)\n Keras class = Dense\n activation = sigmoid</title></image><text x=\"205.0\" y=\"77.0\" font-family=\"monospace\" font-size=\"12\">targets</text><rect x=\"274.0\" y=\"24\" width=\"52\" height=\"52\" style=\"fill:none;stroke:blue;stroke-width:2\"/><image id=\"XOR2_output2_targets_1\" class=\"XOR2_output2_targets\" x=\"275.0\" y=\"25\" height=\"50\" width=\"50\" preserveAspectRatio=\"none\" href=\"data:image/gif;base64,R0lGODdhAQABAIAAAFdXVwAAACwAAAAAAQABAAAIBQABbAsIADs=\"><title>Layer: output2 (output)\n shape = (1,)\n Keras class = Dense\n activation = sigmoid</title></image><text x=\"330.0\" y=\"52.0\" font-family=\"monospace\" font-size=\"12\">targets</text><rect x=\"99.0\" y=\"134\" width=\"102\" height=\"102\" style=\"fill:none;stroke:blue;stroke-width:2\"/><image id=\"XOR2_output1_errors_1\" class=\"XOR2_output1_errors\" x=\"100.0\" y=\"135\" height=\"100\" width=\"100\" preserveAspectRatio=\"none\" href=\"data:image/gif;base64,R0lGODdhAQABAIAAAHBwcAAAACwAAAAAAQABAAAIBQABbAsIADs=\"><title>Layer: output1 (output)\n shape = (1,)\n Keras class = Dense\n activation = sigmoid</title></image><text x=\"205.0\" y=\"187.0\" font-family=\"monospace\" font-size=\"12\">errors</text><rect x=\"274.0\" y=\"134\" width=\"52\" height=\"52\" style=\"fill:none;stroke:blue;stroke-width:2\"/><image id=\"XOR2_output2_errors_1\" class=\"XOR2_output2_errors\" x=\"275.0\" y=\"135\" height=\"50\" width=\"50\" preserveAspectRatio=\"none\" href=\"data:image/gif;base64,R0lGODdhAQABAIAAAFdXVwAAACwAAAAAAQABAAAIBQABbAsIADs=\"><title>Layer: output2 (output)\n shape = (1,)\n Keras class = Dense\n activation = sigmoid</title></image><text x=\"330.0\" y=\"162.0\" font-family=\"monospace\" font-size=\"12\">errors</text><rect x=\"99.0\" y=\"249\" width=\"102\" height=\"102\" style=\"fill:none;stroke:blue;stroke-width:2\"/><image id=\"XOR2_output1_1\" class=\"XOR2_output1\" x=\"100.0\" y=\"250\" height=\"100\" width=\"100\" preserveAspectRatio=\"none\" href=\"data:image/gif;base64,R0lGODdhAQABAIAAAHBwcAAAACwAAAAAAQABAAAIBQABbAsIADs=\"><title>Layer: output1 (output)\n shape = (1,)\n Keras class = Dense\n activation = sigmoid</title></image><text x=\"205.0\" y=\"302.0\" font-family=\"monospace\" font-size=\"12\">output1</text><rect x=\"274.0\" y=\"249\" width=\"52\" height=\"52\" style=\"fill:none;stroke:blue;stroke-width:2\"/><image id=\"XOR2_output2_2\" class=\"XOR2_output2\" x=\"275.0\" y=\"250\" height=\"50\" width=\"50\" preserveAspectRatio=\"none\" href=\"data:image/gif;base64,R0lGODdhAQABAIAAAFdXVwAAACwAAAAAAQABAAAIBQABbAsIADs=\"><title>Layer: output2 (output)\n shape = (1,)\n Keras class = Dense\n activation = sigmoid</title></image><text x=\"330.0\" y=\"277.0\" font-family=\"monospace\" font-size=\"12\">output2</text><rect x=\"150.0\" y=\"352\" width=\"75.0\" height=\"27\" style=\"fill:white;stroke:none\"><title>Weights from shared-hidden to output1\n output1/kernel has shape (5, 1)\n output1/bias has shape (1,)</title></rect><rect x=\"225.0\" y=\"302\" width=\"75.0\" height=\"77\" style=\"fill:white;stroke:none\"><title>Weights from shared-hidden to output2\n output2/kernel has shape (5, 1)\n output2/bias has shape (1,)</title></rect><line x1=\"225.0\" y1=\"379\" x2=\"150.0\" y2=\"352\" stroke=\"blue\" stroke-width=\"2\" marker-end=\"url(#arrow)\"><title>Weights from shared-hidden to output1\n output1/kernel has shape (5, 1)\n output1/bias has shape (1,)</title></line><line x1=\"225.0\" y1=\"379\" x2=\"300.0\" y2=\"302\" stroke=\"blue\" stroke-width=\"2\" marker-end=\"url(#arrow)\"><title>Weights from shared-hidden to output2\n output2/kernel has shape (5, 1)\n output2/bias has shape (1,)</title></line><rect x=\"199.0\" y=\"379\" width=\"52\" height=\"27\" style=\"fill:none;stroke:blue;stroke-width:2\"/><image id=\"XOR2_shared-hidden_3\" class=\"XOR2_shared-hidden\" x=\"200.0\" y=\"380\" height=\"25\" width=\"50\" preserveAspectRatio=\"none\" href=\"data:image/gif;base64,R0lGODdhBQABAIIAAE1NTXFxcXl5eY2NjZCQkAAAAAAAAAAAACwAAAAABQABAAAICAAHBAAggEBAADs=\"><title>Layer: shared-hidden (hidden)\n shape = (5,)\n Keras class = Dense\n activation = sigmoid</title></image><text x=\"255.0\" y=\"394.5\" font-family=\"monospace\" font-size=\"12\">shared-hidden</text><rect x=\"150.0\" y=\"407\" width=\"75.0\" height=\"27\" style=\"fill:white;stroke:none\"><title>Weights from hidden1 to shared-hidden\n shared-hidden/kernel has shape (20, 5)\n shared-hidden/bias has shape (5,)</title></rect><line x1=\"150.0\" y1=\"434\" x2=\"225.0\" y2=\"407\" stroke=\"blue\" stroke-width=\"2\" marker-end=\"url(#arrow)\"><title>Weights from hidden1 to shared-hidden\n shared-hidden/kernel has shape (20, 5)\n shared-hidden/bias has shape (5,)</title></line><rect x=\"124.0\" y=\"434\" width=\"52\" height=\"27\" style=\"fill:none;stroke:blue;stroke-width:2\"/><image id=\"XOR2_hidden1_4\" class=\"XOR2_hidden1\" x=\"125.0\" y=\"435\" height=\"25\" width=\"50\" preserveAspectRatio=\"none\" href=\"data:image/gif;base64,R0lGODdhCgABAIAAAH9/fwAAACwAAAAACgABAAAIBwABCBxIMCAAOw==\"><title>Layer: hidden1 (hidden)\n shape = (10,)\n Keras class = Dense\n activation = sigmoid</title></image><text x=\"180.0\" y=\"449.5\" font-family=\"monospace\" font-size=\"12\">hidden1</text><rect x=\"225.0\" y=\"407\" width=\"75.0\" height=\"27\" style=\"fill:white;stroke:none\"><title>Weights from hidden2 to shared-hidden\n shared-hidden/kernel has shape (20, 5)\n shared-hidden/bias has shape (5,)</title></rect><line x1=\"300.0\" y1=\"434\" x2=\"225.0\" y2=\"407\" stroke=\"blue\" stroke-width=\"2\" marker-end=\"url(#arrow)\"><title>Weights from hidden2 to shared-hidden\n shared-hidden/kernel has shape (20, 5)\n shared-hidden/bias has shape (5,)</title></line><rect x=\"274.0\" y=\"434\" width=\"52\" height=\"27\" style=\"fill:none;stroke:blue;stroke-width:2\"/><image id=\"XOR2_hidden2_5\" class=\"XOR2_hidden2\" x=\"275.0\" y=\"435\" height=\"25\" width=\"50\" preserveAspectRatio=\"none\" href=\"data:image/gif;base64,R0lGODdhCgABAIAAAH9/fwAAACwAAAAACgABAAAIBwABCBxIMCAAOw==\"><title>Layer: hidden2 (hidden)\n shape = (10,)\n Keras class = Dense\n activation = sigmoid</title></image><text x=\"330.0\" y=\"449.5\" font-family=\"monospace\" font-size=\"12\">hidden2</text><rect x=\"140.0\" y=\"462\" width=\"20.0\" height=\"27\" style=\"fill:white;stroke:none\"><title>Weights from input1 to hidden1\n hidden1/kernel has shape (1, 10)\n hidden1/bias has shape (10,)</title></rect><line x1=\"150.0\" y1=\"489\" x2=\"150.0\" y2=\"462\" stroke=\"blue\" stroke-width=\"2\" marker-end=\"url(#arrow)\"><title>Weights from input1 to hidden1\n hidden1/kernel has shape (1, 10)\n hidden1/bias has shape (10,)</title></line><rect x=\"99.0\" y=\"489\" width=\"102\" height=\"102\" style=\"fill:none;stroke:blue;stroke-width:2\"/><image id=\"XOR2_input1_6\" class=\"XOR2_input1\" x=\"100.0\" y=\"490\" height=\"100\" width=\"100\" preserveAspectRatio=\"none\" href=\"data:image/gif;base64,R0lGODdhAQABAIAAAH9/fwAAACwAAAAAAQABAAAIBQABbAsIADs=\"><title>Layer: input1 (input)\n shape = (1,)\n Keras class = Input</title></image><text x=\"205.0\" y=\"542.0\" font-family=\"monospace\" font-size=\"12\">input1</text><rect x=\"290.0\" y=\"462\" width=\"20.0\" height=\"27\" style=\"fill:white;stroke:none\"><title>Weights from input2 to hidden2\n hidden2/kernel has shape (1, 10)\n hidden2/bias has shape (10,)</title></rect><line x1=\"300.0\" y1=\"489\" x2=\"300.0\" y2=\"462\" stroke=\"blue\" stroke-width=\"2\" marker-end=\"url(#arrow)\"><title>Weights from input2 to hidden2\n hidden2/kernel has shape (1, 10)\n hidden2/bias has shape (10,)</title></line><rect x=\"274.0\" y=\"489\" width=\"52\" height=\"52\" style=\"fill:none;stroke:blue;stroke-width:2\"/><image id=\"XOR2_input2_7\" class=\"XOR2_input2\" x=\"275.0\" y=\"490\" height=\"50\" width=\"50\" preserveAspectRatio=\"none\" href=\"data:image/gif;base64,R0lGODdhAQABAIAAAH9/fwAAACwAAAAAAQABAAAIBQABbAsIADs=\"><title>Layer: input2 (input)\n shape = (1,)\n Keras class = Input</title></image><text x=\"330.0\" y=\"517.0\" font-family=\"monospace\" font-size=\"12\">input2</text></svg>"
      }
     },
     "ae7b6f906c334344bbf2a6b9fb97a331": {
      "model_module": "jupyter-js-widgets",
      "model_module_version": "~2.1.4",
      "model_name": "LayoutModel",
      "state": {
       "_model_module_version": "~2.1.4",
       "_view_module_version": "~2.1.4"
      }
     },
     "aecec9cc20b146df902f8659a19972a2": {
      "model_module": "jupyter-js-widgets",
      "model_module_version": "~2.1.4",
      "model_name": "ButtonModel",
      "state": {
       "_model_module_version": "~2.1.4",
       "_view_module_version": "~2.1.4",
       "icon": "backward",
       "layout": "IPY_MODEL_89eca4b805204a2c89d952c5ffb7ad2b",
       "style": "IPY_MODEL_1768970ad13045ccb4ae2a2f3525b2aa"
      }
     },
     "aee75d74d0084a1d873084917443d38d": {
      "model_module": "jupyter-js-widgets",
      "model_module_version": "~2.1.4",
      "model_name": "LayoutModel",
      "state": {
       "_model_module_version": "~2.1.4",
       "_view_module_version": "~2.1.4"
      }
     },
     "af47a50aa28c4e748124ee7658835a74": {
      "model_module": "jupyter-js-widgets",
      "model_module_version": "~2.1.4",
      "model_name": "LayoutModel",
      "state": {
       "_model_module_version": "~2.1.4",
       "_view_module_version": "~2.1.4",
       "width": "100%"
      }
     },
     "afef75656ef449fa9e41deecb4cd5fe4": {
      "model_module": "jupyter-js-widgets",
      "model_module_version": "~2.1.4",
      "model_name": "HTMLModel",
      "state": {
       "_model_module_version": "~2.1.4",
       "_view_module_version": "~2.1.4",
       "layout": "IPY_MODEL_85397c75fd2d4dd6b409a16db84acc6e",
       "value": "\n        <svg id='XOR2' xmlns='http://www.w3.org/2000/svg' width=\"450\" height=\"615\" image-rendering=\"pixelated\">\n    <defs>\n        <marker id=\"arrow\" markerWidth=\"10\" markerHeight=\"10\" refX=\"9\" refY=\"3\" orient=\"auto\" markerUnits=\"strokeWidth\">\n          <path d=\"M0,0 L0,6 L9,3 z\" fill=\"blue\" />\n        </marker>\n    </defs>\n<rect x=\"99.0\" y=\"24\" width=\"102\" height=\"102\" style=\"fill:none;stroke:blue;stroke-width:2\"/><image id=\"XOR2_output1_targets_1\" class=\"XOR2_output1_targets\" x=\"100.0\" y=\"25\" height=\"100\" width=\"100\" preserveAspectRatio=\"none\" href=\"data:image/gif;base64,R0lGODdhAQABAIAAAJ2dnQAAACwAAAAAAQABAAAIBQAB+AsIADs=\"><title>Layer: output1 (output)\n shape = (1,)\n Keras class = Dense\n activation = sigmoid</title></image><text x=\"205.0\" y=\"77.0\" font-family=\"monospace\" font-size=\"12\">targets</text><rect x=\"274.0\" y=\"24\" width=\"52\" height=\"52\" style=\"fill:none;stroke:blue;stroke-width:2\"/><image id=\"XOR2_output2_targets_1\" class=\"XOR2_output2_targets\" x=\"275.0\" y=\"25\" height=\"50\" width=\"50\" preserveAspectRatio=\"none\" href=\"data:image/gif;base64,R0lGODdhAQABAIAAAKOjowAAACwAAAAAAQABAAAIBQAB7AkIADs=\"><title>Layer: output2 (output)\n shape = (1,)\n Keras class = Dense\n activation = sigmoid</title></image><text x=\"330.0\" y=\"52.0\" font-family=\"monospace\" font-size=\"12\">targets</text><rect x=\"99.0\" y=\"134\" width=\"102\" height=\"102\" style=\"fill:none;stroke:blue;stroke-width:2\"/><image id=\"XOR2_output1_errors_1\" class=\"XOR2_output1_errors\" x=\"100.0\" y=\"135\" height=\"100\" width=\"100\" preserveAspectRatio=\"none\" href=\"data:image/gif;base64,R0lGODdhAQABAIAAAJ2dnQAAACwAAAAAAQABAAAIBQAB7AkIADs=\"><title>Layer: output1 (output)\n shape = (1,)\n Keras class = Dense\n activation = sigmoid</title></image><text x=\"205.0\" y=\"187.0\" font-family=\"monospace\" font-size=\"12\">errors</text><rect x=\"274.0\" y=\"134\" width=\"52\" height=\"52\" style=\"fill:none;stroke:blue;stroke-width:2\"/><image id=\"XOR2_output2_errors_1\" class=\"XOR2_output2_errors\" x=\"275.0\" y=\"135\" height=\"50\" width=\"50\" preserveAspectRatio=\"none\" href=\"data:image/gif;base64,R0lGODdhAQABAIAAAKOjowAAACwAAAAAAQABAAAIBQAB7AkIADs=\"><title>Layer: output2 (output)\n shape = (1,)\n Keras class = Dense\n activation = sigmoid</title></image><text x=\"330.0\" y=\"162.0\" font-family=\"monospace\" font-size=\"12\">errors</text><rect x=\"99.0\" y=\"249\" width=\"102\" height=\"102\" style=\"fill:none;stroke:blue;stroke-width:2\"/><image id=\"XOR2_output1_1\" class=\"XOR2_output1\" x=\"100.0\" y=\"250\" height=\"100\" width=\"100\" preserveAspectRatio=\"none\" href=\"data:image/gif;base64,R0lGODdhAQABAIAAAJ2dnQAAACwAAAAAAQABAAAIBQAB7AkIADs=\"><title>Layer: output1 (output)\n shape = (1,)\n Keras class = Dense\n activation = sigmoid</title></image><text x=\"205.0\" y=\"302.0\" font-family=\"monospace\" font-size=\"12\">output1</text><rect x=\"274.0\" y=\"249\" width=\"52\" height=\"52\" style=\"fill:none;stroke:blue;stroke-width:2\"/><image id=\"XOR2_output2_2\" class=\"XOR2_output2\" x=\"275.0\" y=\"250\" height=\"50\" width=\"50\" preserveAspectRatio=\"none\" href=\"data:image/gif;base64,R0lGODdhAQABAIAAAKOjowAAACwAAAAAAQABAAAIBQAB7AkIADs=\"><title>Layer: output2 (output)\n shape = (1,)\n Keras class = Dense\n activation = sigmoid</title></image><text x=\"330.0\" y=\"277.0\" font-family=\"monospace\" font-size=\"12\">output2</text><rect x=\"150.0\" y=\"352\" width=\"75.0\" height=\"27\" style=\"fill:white;stroke:none\"><title>Weights from shared-hidden to output1\n output1/kernel has shape (5, 1)\n output1/bias has shape (1,)</title></rect><rect x=\"225.0\" y=\"302\" width=\"75.0\" height=\"77\" style=\"fill:white;stroke:none\"><title>Weights from shared-hidden to output2\n output2/kernel has shape (5, 1)\n output2/bias has shape (1,)</title></rect><line x1=\"225.0\" y1=\"379\" x2=\"150.0\" y2=\"352\" stroke=\"blue\" stroke-width=\"2\" marker-end=\"url(#arrow)\"><title>Weights from shared-hidden to output1\n output1/kernel has shape (5, 1)\n output1/bias has shape (1,)</title></line><line x1=\"225.0\" y1=\"379\" x2=\"300.0\" y2=\"302\" stroke=\"blue\" stroke-width=\"2\" marker-end=\"url(#arrow)\"><title>Weights from shared-hidden to output2\n output2/kernel has shape (5, 1)\n output2/bias has shape (1,)</title></line><rect x=\"199.0\" y=\"379\" width=\"52\" height=\"27\" style=\"fill:none;stroke:blue;stroke-width:2\"/><image id=\"XOR2_shared-hidden_3\" class=\"XOR2_shared-hidden\" x=\"200.0\" y=\"380\" height=\"25\" width=\"50\" preserveAspectRatio=\"none\" href=\"data:image/gif;base64,R0lGODdhBQABAIIAAFpaWl5eXoODg42NjZaWlgAAAAAAAAAAACwAAAAABQABAAAICAAHCABAIEBAADs=\"><title>Layer: shared-hidden (hidden)\n shape = (5,)\n Keras class = Dense\n activation = sigmoid</title></image><text x=\"255.0\" y=\"394.5\" font-family=\"monospace\" font-size=\"12\">shared-hidden</text><rect x=\"150.0\" y=\"407\" width=\"75.0\" height=\"27\" style=\"fill:white;stroke:none\"><title>Weights from hidden1 to shared-hidden\n shared-hidden/kernel has shape (20, 5)\n shared-hidden/bias has shape (5,)</title></rect><line x1=\"150.0\" y1=\"434\" x2=\"225.0\" y2=\"407\" stroke=\"blue\" stroke-width=\"2\" marker-end=\"url(#arrow)\"><title>Weights from hidden1 to shared-hidden\n shared-hidden/kernel has shape (20, 5)\n shared-hidden/bias has shape (5,)</title></line><rect x=\"124.0\" y=\"434\" width=\"52\" height=\"27\" style=\"fill:none;stroke:blue;stroke-width:2\"/><image id=\"XOR2_hidden1_4\" class=\"XOR2_hidden1\" x=\"125.0\" y=\"435\" height=\"25\" width=\"50\" preserveAspectRatio=\"none\" href=\"data:image/gif;base64,R0lGODdhCgABAIAAAH9/fwAAACwAAAAACgABAAAIBwABCBxIMCAAOw==\"><title>Layer: hidden1 (hidden)\n shape = (10,)\n Keras class = Dense\n activation = sigmoid</title></image><text x=\"180.0\" y=\"449.5\" font-family=\"monospace\" font-size=\"12\">hidden1</text><rect x=\"225.0\" y=\"407\" width=\"75.0\" height=\"27\" style=\"fill:white;stroke:none\"><title>Weights from hidden2 to shared-hidden\n shared-hidden/kernel has shape (20, 5)\n shared-hidden/bias has shape (5,)</title></rect><line x1=\"300.0\" y1=\"434\" x2=\"225.0\" y2=\"407\" stroke=\"blue\" stroke-width=\"2\" marker-end=\"url(#arrow)\"><title>Weights from hidden2 to shared-hidden\n shared-hidden/kernel has shape (20, 5)\n shared-hidden/bias has shape (5,)</title></line><rect x=\"274.0\" y=\"434\" width=\"52\" height=\"27\" style=\"fill:none;stroke:blue;stroke-width:2\"/><image id=\"XOR2_hidden2_5\" class=\"XOR2_hidden2\" x=\"275.0\" y=\"435\" height=\"25\" width=\"50\" preserveAspectRatio=\"none\" href=\"data:image/gif;base64,R0lGODdhCgABAIAAAH9/fwAAACwAAAAACgABAAAIBwABCBxIMCAAOw==\"><title>Layer: hidden2 (hidden)\n shape = (10,)\n Keras class = Dense\n activation = sigmoid</title></image><text x=\"330.0\" y=\"449.5\" font-family=\"monospace\" font-size=\"12\">hidden2</text><rect x=\"140.0\" y=\"462\" width=\"20.0\" height=\"27\" style=\"fill:white;stroke:none\"><title>Weights from input1 to hidden1\n hidden1/kernel has shape (1, 10)\n hidden1/bias has shape (10,)</title></rect><line x1=\"150.0\" y1=\"489\" x2=\"150.0\" y2=\"462\" stroke=\"blue\" stroke-width=\"2\" marker-end=\"url(#arrow)\"><title>Weights from input1 to hidden1\n hidden1/kernel has shape (1, 10)\n hidden1/bias has shape (10,)</title></line><rect x=\"99.0\" y=\"489\" width=\"102\" height=\"102\" style=\"fill:none;stroke:blue;stroke-width:2\"/><image id=\"XOR2_input1_6\" class=\"XOR2_input1\" x=\"100.0\" y=\"490\" height=\"100\" width=\"100\" preserveAspectRatio=\"none\" href=\"data:image/gif;base64,R0lGODdhAQABAIAAAH9/fwAAACwAAAAAAQABAAAIBQAB7AkIADs=\"><title>Layer: input1 (input)\n shape = (1,)\n Keras class = Input</title></image><text x=\"205.0\" y=\"542.0\" font-family=\"monospace\" font-size=\"12\">input1</text><rect x=\"290.0\" y=\"462\" width=\"20.0\" height=\"27\" style=\"fill:white;stroke:none\"><title>Weights from input2 to hidden2\n hidden2/kernel has shape (1, 10)\n hidden2/bias has shape (10,)</title></rect><line x1=\"300.0\" y1=\"489\" x2=\"300.0\" y2=\"462\" stroke=\"blue\" stroke-width=\"2\" marker-end=\"url(#arrow)\"><title>Weights from input2 to hidden2\n hidden2/kernel has shape (1, 10)\n hidden2/bias has shape (10,)</title></line><rect x=\"274.0\" y=\"489\" width=\"52\" height=\"52\" style=\"fill:none;stroke:blue;stroke-width:2\"/><image id=\"XOR2_input2_7\" class=\"XOR2_input2\" x=\"275.0\" y=\"490\" height=\"50\" width=\"50\" preserveAspectRatio=\"none\" href=\"data:image/gif;base64,R0lGODdhAQABAIAAAH9/fwAAACwAAAAAAQABAAAIBQAB7AkIADs=\"><title>Layer: input2 (input)\n shape = (1,)\n Keras class = Input</title></image><text x=\"330.0\" y=\"517.0\" font-family=\"monospace\" font-size=\"12\">input2</text></svg>"
      }
     },
     "b011cd6a7e2f4dbdb649959c4cec63ed": {
      "model_module": "jupyter-js-widgets",
      "model_module_version": "~2.1.4",
      "model_name": "LayoutModel",
      "state": {
       "_model_module_version": "~2.1.4",
       "_view_module_version": "~2.1.4"
      }
     },
     "b06783c5bedf476a880eac45cec5abc3": {
      "model_module": "jupyter-js-widgets",
      "model_module_version": "~2.1.4",
      "model_name": "LayoutModel",
      "state": {
       "_model_module_version": "~2.1.4",
       "_view_module_version": "~2.1.4"
      }
     },
     "b2c655cd02c64c709e6e62a7339e4e68": {
      "model_module": "jupyter-js-widgets",
      "model_module_version": "~2.1.4",
      "model_name": "LayoutModel",
      "state": {
       "_model_module_version": "~2.1.4",
       "_view_module_version": "~2.1.4"
      }
     },
     "b35ee54de4774bf9b45ad55a867196ce": {
      "model_module": "jupyter-js-widgets",
      "model_module_version": "~2.1.4",
      "model_name": "LayoutModel",
      "state": {
       "_model_module_version": "~2.1.4",
       "_view_module_version": "~2.1.4",
       "height": "100%",
       "justify_content": "center",
       "max_height": "550px",
       "overflow_x": "auto",
       "width": "100%"
      }
     },
     "b3bb6d8a177e47a38db8b2341a87cc5e": {
      "model_module": "jupyter-js-widgets",
      "model_module_version": "~2.1.4",
      "model_name": "LayoutModel",
      "state": {
       "_model_module_version": "~2.1.4",
       "_view_module_version": "~2.1.4",
       "width": "100%"
      }
     },
     "b3ea039368614e2cb755af2435ee63bd": {
      "model_module": "jupyter-js-widgets",
      "model_module_version": "~2.1.4",
      "model_name": "LayoutModel",
      "state": {
       "_model_module_version": "~2.1.4",
       "_view_module_version": "~2.1.4",
       "width": "100%"
      }
     },
     "b3eecd4941774cb7b539068012657904": {
      "model_module": "jupyter-js-widgets",
      "model_module_version": "~2.1.4",
      "model_name": "ButtonModel",
      "state": {
       "_model_module_version": "~2.1.4",
       "_view_module_version": "~2.1.4",
       "icon": "fast-backward",
       "layout": "IPY_MODEL_59ce4afac196447790f81a655e2e8334",
       "style": "IPY_MODEL_c9fbd5a7fa734ceb97bfc86c9699df31"
      }
     },
     "b41c30918c674af0ac96deb83eaddd47": {
      "model_module": "jupyter-js-widgets",
      "model_module_version": "~2.1.4",
      "model_name": "IntSliderModel",
      "state": {
       "_model_module_version": "~2.1.4",
       "_view_module_version": "~2.1.4",
       "continuous_update": false,
       "description": "Dataset index",
       "layout": "IPY_MODEL_c49b1dcaf07445d2851490641d9eda2f",
       "max": 0,
       "style": "IPY_MODEL_087b46feff724a86b8b7bad06e2d8952"
      }
     },
     "b4a6630b9763437ab53a0add8aa7da14": {
      "model_module": "jupyter-js-widgets",
      "model_module_version": "~2.1.4",
      "model_name": "VBoxModel",
      "state": {
       "_model_module_version": "~2.1.4",
       "_view_module_version": "~2.1.4",
       "children": [
        "IPY_MODEL_d38c0e365be14520af1606717fa44c2d",
        "IPY_MODEL_6594e6e9b8e44b9686becb1c5a8f8a86",
        "IPY_MODEL_709646ae281741daa5e01ab9ca87cddf"
       ],
       "layout": "IPY_MODEL_1e7c5d7c6b754e58a3ed90e4b2687f12"
      }
     },
     "b4f6d12942ef4159bdaa25e9ca1e59ff": {
      "model_module": "jupyter-js-widgets",
      "model_module_version": "~2.1.4",
      "model_name": "VBoxModel",
      "state": {
       "_model_module_version": "~2.1.4",
       "_view_module_version": "~2.1.4",
       "children": [
        "IPY_MODEL_05da83f8a3f84478b175c8e2416e7aa0"
       ],
       "layout": "IPY_MODEL_8adf41094d784a99832743843fb1b28d"
      }
     },
     "b5409c526fc04060b7b42695bef3c5ce": {
      "model_module": "jupyter-js-widgets",
      "model_module_version": "~2.1.4",
      "model_name": "LayoutModel",
      "state": {
       "_model_module_version": "~2.1.4",
       "_view_module_version": "~2.1.4",
       "width": "100%"
      }
     },
     "b5602bf8a38045039d8672e2af7889b7": {
      "model_module": "jupyter-js-widgets",
      "model_module_version": "~2.1.4",
      "model_name": "VBoxModel",
      "state": {
       "_model_module_version": "~2.1.4",
       "_view_module_version": "~2.1.4",
       "layout": "IPY_MODEL_be2499460d524696a95d559440faab30"
      }
     },
     "b671d13d61ca4ca3b1374cada5c65777": {
      "model_module": "jupyter-js-widgets",
      "model_module_version": "~2.1.4",
      "model_name": "LayoutModel",
      "state": {
       "_model_module_version": "~2.1.4",
       "_view_module_version": "~2.1.4",
       "width": "100%"
      }
     },
     "b7ccb2f1437c41768cd5200ce32b3853": {
      "model_module": "jupyter-js-widgets",
      "model_module_version": "~2.1.4",
      "model_name": "LayoutModel",
      "state": {
       "_model_module_version": "~2.1.4",
       "_view_module_version": "~2.1.4",
       "width": "100%"
      }
     },
     "b88dd276d6e249aba771a9c3c4555e81": {
      "model_module": "jupyter-js-widgets",
      "model_module_version": "~2.1.4",
      "model_name": "ButtonModel",
      "state": {
       "_model_module_version": "~2.1.4",
       "_view_module_version": "~2.1.4",
       "icon": "fast-backward",
       "layout": "IPY_MODEL_6f1f5338ee2841a4a984010a60cf462f",
       "style": "IPY_MODEL_5cd8fcb36c48450faf158add28deaa86"
      }
     },
     "b8a1838690c946e58b7d4dc3e97e44bb": {
      "model_module": "jupyter-js-widgets",
      "model_module_version": "~2.1.4",
      "model_name": "ButtonStyleModel",
      "state": {
       "_model_module_version": "~2.1.4",
       "_view_module_version": "~2.1.4"
      }
     },
     "b8abbd3c69e649f8adcf441516320efb": {
      "model_module": "jupyter-js-widgets",
      "model_module_version": "~2.1.4",
      "model_name": "LayoutModel",
      "state": {
       "_model_module_version": "~2.1.4",
       "_view_module_version": "~2.1.4",
       "width": "100%"
      }
     },
     "b90b5e95f4ca478599fef49f0ca55773": {
      "model_module": "jupyter-js-widgets",
      "model_module_version": "~2.1.4",
      "model_name": "SliderStyleModel",
      "state": {
       "_model_module_version": "~2.1.4",
       "_view_module_version": "~2.1.4"
      }
     },
     "b925ec0e3118407eb27f2cbfa49d2495": {
      "model_module": "jupyter-js-widgets",
      "model_module_version": "~2.1.4",
      "model_name": "ButtonModel",
      "state": {
       "_model_module_version": "~2.1.4",
       "_view_module_version": "~2.1.4",
       "icon": "backward",
       "layout": "IPY_MODEL_792e365a69534ab3b0cfeeac8ffb7311",
       "style": "IPY_MODEL_780c6432b1374fcfa66797f946063cf9"
      }
     },
     "b9f9b3ebd1bc40fd8479fdcee467f285": {
      "model_module": "jupyter-js-widgets",
      "model_module_version": "~2.1.4",
      "model_name": "VBoxModel",
      "state": {
       "_model_module_version": "~2.1.4",
       "_view_module_version": "~2.1.4",
       "children": [
        "IPY_MODEL_4da58572b23d496baff1b3dd3634bc69"
       ],
       "layout": "IPY_MODEL_7e6b487e06994aa1b6aa694a5c19d00d"
      }
     },
     "ba2601b0ab2c4eb08d823db75bf280a8": {
      "model_module": "jupyter-js-widgets",
      "model_module_version": "~2.1.4",
      "model_name": "HTMLModel",
      "state": {
       "_model_module_version": "~2.1.4",
       "_view_module_version": "~2.1.4",
       "layout": "IPY_MODEL_4a42e513b18a4462895cded9396cc32c",
       "value": "<iframe style=\"width: 800px\" src=\"https://conx.readthedocs.io\" width=\"100%\" height=\"550px\"></frame>"
      }
     },
     "ba4196b2651d480fb55b9422788207f2": {
      "model_module": "jupyter-js-widgets",
      "model_module_version": "~2.1.4",
      "model_name": "ButtonStyleModel",
      "state": {
       "_model_module_version": "~2.1.4",
       "_view_module_version": "~2.1.4"
      }
     },
     "ba61f8f77cf54f84b7136a0658aa0ad8": {
      "model_module": "jupyter-js-widgets",
      "model_module_version": "~2.1.4",
      "model_name": "LayoutModel",
      "state": {
       "_model_module_version": "~2.1.4",
       "_view_module_version": "~2.1.4"
      }
     },
     "ba87d0c82588478fa32880ae7baed770": {
      "model_module": "jupyter-js-widgets",
      "model_module_version": "~2.1.4",
      "model_name": "ButtonStyleModel",
      "state": {
       "_model_module_version": "~2.1.4",
       "_view_module_version": "~2.1.4"
      }
     },
     "bafb5bb15e7647b8aeb4dda676c9bd38": {
      "model_module": "jupyter-js-widgets",
      "model_module_version": "~2.1.4",
      "model_name": "LayoutModel",
      "state": {
       "_model_module_version": "~2.1.4",
       "_view_module_version": "~2.1.4"
      }
     },
     "bb27e99b3f4c459b93461f3fadc19bb7": {
      "model_module": "jupyter-js-widgets",
      "model_module_version": "~2.1.4",
      "model_name": "LayoutModel",
      "state": {
       "_model_module_version": "~2.1.4",
       "_view_module_version": "~2.1.4"
      }
     },
     "bc0a40ae2e1247388f0c65f6deaf0f8f": {
      "model_module": "jupyter-js-widgets",
      "model_module_version": "~2.1.4",
      "model_name": "VBoxModel",
      "state": {
       "_model_module_version": "~2.1.4",
       "_view_module_version": "~2.1.4",
       "children": [
        "IPY_MODEL_afef75656ef449fa9e41deecb4cd5fe4",
        "IPY_MODEL_230d70a31a0349f3b18882f7bd8774e8"
       ],
       "layout": "IPY_MODEL_e1a601c188d8426891381873598b2b0c"
      }
     },
     "bcc72f503f524d51a44631885b6d8d91": {
      "model_module": "jupyter-js-widgets",
      "model_module_version": "~2.1.4",
      "model_name": "LayoutModel",
      "state": {
       "_model_module_version": "~2.1.4",
       "_view_module_version": "~2.1.4"
      }
     },
     "bdc2c9b143fb409e91ff361e0311ea34": {
      "model_module": "jupyter-js-widgets",
      "model_module_version": "~2.1.4",
      "model_name": "ButtonModel",
      "state": {
       "_model_module_version": "~2.1.4",
       "_view_module_version": "~2.1.4",
       "description": "Turn on webcamera",
       "layout": "IPY_MODEL_31066f50f52c46078ddbe46d2b3626d6",
       "style": "IPY_MODEL_e4b05541f7d84d6aadedd9b9854dbddd"
      }
     },
     "bde5a261e5464fa0b04934fe0350bea6": {
      "model_module": "jupyter-js-widgets",
      "model_module_version": "~2.1.4",
      "model_name": "ButtonModel",
      "state": {
       "_model_module_version": "~2.1.4",
       "_view_module_version": "~2.1.4",
       "icon": "fast-forward",
       "layout": "IPY_MODEL_ebcee70bbab74929a3b4d4ef2682a596",
       "style": "IPY_MODEL_0483e3391249457091b56b7c79e69531"
      }
     },
     "bdf423655e074b2293a810cae61f1ced": {
      "model_module": "jupyter-js-widgets",
      "model_module_version": "~2.1.4",
      "model_name": "LayoutModel",
      "state": {
       "_model_module_version": "~2.1.4",
       "_view_module_version": "~2.1.4",
       "height": "100%",
       "justify_content": "center",
       "max_height": "550px",
       "overflow_x": "auto",
       "width": "100%"
      }
     },
     "bdf4f74477f84b9fbaba27872a21a519": {
      "model_module": "jupyter-js-widgets",
      "model_module_version": "~2.1.4",
      "model_name": "HTMLModel",
      "state": {
       "_model_module_version": "~2.1.4",
       "_view_module_version": "~2.1.4",
       "layout": "IPY_MODEL_5a1667cbb33543dda8f16126bdc262b8",
       "value": "<iframe style=\"width: 800px\" src=\"https://conx.readthedocs.io\" width=\"100%\" height=\"550px\"></frame>"
      }
     },
     "bdf57cedb8c3410f9089681c30b28dab": {
      "model_module": "jupyter-js-widgets",
      "model_module_version": "~2.1.4",
      "model_name": "HTMLModel",
      "state": {
       "_model_module_version": "~2.1.4",
       "_view_module_version": "~2.1.4",
       "layout": "IPY_MODEL_557369a80a874b5dbebde89afe1f98e8",
       "value": "<iframe style=\"width: 800px\" src=\"https://conx.readthedocs.io\" width=\"100%\" height=\"550px\"></frame>"
      }
     },
     "be2499460d524696a95d559440faab30": {
      "model_module": "jupyter-js-widgets",
      "model_module_version": "~2.1.4",
      "model_name": "LayoutModel",
      "state": {
       "_model_module_version": "~2.1.4",
       "_view_module_version": "~2.1.4"
      }
     },
     "be54e41703074d178e1c07ab3b218bd5": {
      "model_module": "jupyter-js-widgets",
      "model_module_version": "~2.1.4",
      "model_name": "LayoutModel",
      "state": {
       "_model_module_version": "~2.1.4",
       "_view_module_version": "~2.1.4",
       "width": "100%"
      }
     },
     "be5a1dc880e04f9dbcd9f11ed98eb12e": {
      "model_module": "jupyter-js-widgets",
      "model_module_version": "~2.1.4",
      "model_name": "LayoutModel",
      "state": {
       "_model_module_version": "~2.1.4",
       "_view_module_version": "~2.1.4",
       "width": "100%"
      }
     },
     "bead8ef0cc404fb9b2ca10d14db25c29": {
      "model_module": "jupyter-js-widgets",
      "model_module_version": "~2.1.4",
      "model_name": "ButtonModel",
      "state": {
       "_model_module_version": "~2.1.4",
       "_view_module_version": "~2.1.4",
       "icon": "fast-forward",
       "layout": "IPY_MODEL_85b9257d94b14ab9a6377cfbf920c0a6",
       "style": "IPY_MODEL_3c455f869cb248d5b7a9a4414fa96381"
      }
     },
     "bf0b17cb12694281a05cdcaaf68ba110": {
      "model_module": "jupyter-js-widgets",
      "model_module_version": "~2.1.4",
      "model_name": "LayoutModel",
      "state": {
       "_model_module_version": "~2.1.4",
       "_view_module_version": "~2.1.4"
      }
     },
     "bfb428807c2a403e8e6c5bc991238e5b": {
      "model_module": "jupyter-js-widgets",
      "model_module_version": "~2.1.4",
      "model_name": "LayoutModel",
      "state": {
       "_model_module_version": "~2.1.4",
       "_view_module_version": "~2.1.4",
       "width": "100%"
      }
     },
     "c03a5af364764fe98c6b857d1e76ebae": {
      "model_module": "jupyter-js-widgets",
      "model_module_version": "~2.1.4",
      "model_name": "SelectModel",
      "state": {
       "_model_module_version": "~2.1.4",
       "_options_labels": [
        "Test",
        "Train"
       ],
       "_view_module_version": "~2.1.4",
       "description": "Dataset:",
       "layout": "IPY_MODEL_0223d49834fc4b80a0e7175c074ffe2d",
       "value": "Train"
      }
     },
     "c0b7a34aa5014e3facb5d1d4257c7600": {
      "model_module": "jupyter-js-widgets",
      "model_module_version": "~2.1.4",
      "model_name": "ButtonModel",
      "state": {
       "_model_module_version": "~2.1.4",
       "_view_module_version": "~2.1.4",
       "description": "Train",
       "layout": "IPY_MODEL_76a935620dbf4a5d9f4cfa375befd078",
       "style": "IPY_MODEL_3a217b95e125497cb81e7ec7b753e9d5"
      }
     },
     "c0da6e42edde439cbff67d9cecea6e37": {
      "model_module": "jupyter-js-widgets",
      "model_module_version": "~2.1.4",
      "model_name": "LayoutModel",
      "state": {
       "_model_module_version": "~2.1.4",
       "_view_module_version": "~2.1.4",
       "width": "100%"
      }
     },
     "c108d4d174fb47bb885609984faeb38b": {
      "model_module": "jupyter-js-widgets",
      "model_module_version": "~2.1.4",
      "model_name": "IntSliderModel",
      "state": {
       "_model_module_version": "~2.1.4",
       "_view_module_version": "~2.1.4",
       "continuous_update": false,
       "description": "Dataset index",
       "layout": "IPY_MODEL_98b5b6e4947041cfaedd41e8087b9f65",
       "max": 0,
       "style": "IPY_MODEL_6ab986094de448d2ab2f7640df1a86fd"
      }
     },
     "c21f36b821cf4d96a3d57edb2ba83e02": {
      "model_module": "jupyter-js-widgets",
      "model_module_version": "~2.1.4",
      "model_name": "IntSliderModel",
      "state": {
       "_model_module_version": "~2.1.4",
       "_view_module_version": "~2.1.4",
       "continuous_update": false,
       "description": "Dataset index",
       "layout": "IPY_MODEL_421b14b3d8db4abea861a721c19d0fc6",
       "max": 0,
       "style": "IPY_MODEL_4b4a3e8f7c6f40b7aca5dde773ce390f"
      }
     },
     "c31fc6e101b345759f02633c8fa942f5": {
      "model_module": "jupyter-js-widgets",
      "model_module_version": "~2.1.4",
      "model_name": "HTMLModel",
      "state": {
       "_model_module_version": "~2.1.4",
       "_view_module_version": "~2.1.4",
       "layout": "IPY_MODEL_964187ed3c854743b6d0715a83bf3a32",
       "value": "\n        <svg id='XOR2' xmlns='http://www.w3.org/2000/svg' width=\"450\" height=\"615\" image-rendering=\"pixelated\">\n    <defs>\n        <marker id=\"arrow\" markerWidth=\"10\" markerHeight=\"10\" refX=\"9\" refY=\"3\" orient=\"auto\" markerUnits=\"strokeWidth\">\n          <path d=\"M0,0 L0,6 L9,3 z\" fill=\"blue\" />\n        </marker>\n    </defs>\n<rect x=\"99.0\" y=\"24\" width=\"102\" height=\"102\" style=\"fill:none;stroke:blue;stroke-width:2\"/><image id=\"XOR2_output1_targets_1\" class=\"XOR2_output1_targets\" x=\"100.0\" y=\"25\" height=\"100\" width=\"100\" preserveAspectRatio=\"none\" href=\"data:image/gif;base64,R0lGODdhAQABAIAAALW1tQAAACwAAAAAAQABAAAIBQABqAgIADs=\"><title>Layer: output1 (output)\n shape = (1,)\n Keras class = Dense\n activation = sigmoid</title></image><text x=\"205.0\" y=\"77.0\" font-family=\"monospace\" font-size=\"12\">targets</text><rect x=\"274.0\" y=\"24\" width=\"52\" height=\"52\" style=\"fill:none;stroke:blue;stroke-width:2\"/><image id=\"XOR2_output2_targets_1\" class=\"XOR2_output2_targets\" x=\"275.0\" y=\"25\" height=\"50\" width=\"50\" preserveAspectRatio=\"none\" href=\"data:image/gif;base64,R0lGODdhAQABAIAAALGxsQAAACwAAAAAAQABAAAIBQABbAkIADs=\"><title>Layer: output2 (output)\n shape = (1,)\n Keras class = Dense\n activation = sigmoid</title></image><text x=\"330.0\" y=\"52.0\" font-family=\"monospace\" font-size=\"12\">targets</text><rect x=\"49.0\" y=\"134\" width=\"102\" height=\"102\" style=\"fill:none;stroke:blue;stroke-width:2\"/><image id=\"XOR2_output1_errors_1\" class=\"XOR2_output1_errors\" x=\"50.0\" y=\"135\" height=\"100\" width=\"100\" preserveAspectRatio=\"none\" href=\"data:image/gif;base64,R0lGODdhAQABAIAAALW1tQAAACwAAAAAAQABAAAIBQABbAkIADs=\"><title>Layer: output1 (output)\n shape = (1,)\n Keras class = Dense\n activation = sigmoid</title></image><text x=\"155.0\" y=\"187.0\" font-family=\"monospace\" font-size=\"12\">errors</text><rect x=\"174.0\" y=\"134\" width=\"52\" height=\"52\" style=\"fill:none;stroke:blue;stroke-width:2\"/><image id=\"XOR2_output2_errors_1\" class=\"XOR2_output2_errors\" x=\"175.0\" y=\"135\" height=\"50\" width=\"50\" preserveAspectRatio=\"none\" href=\"data:image/gif;base64,R0lGODdhAQABAIAAALGxsQAAACwAAAAAAQABAAAIBQABbAkIADs=\"><title>Layer: output2 (output)\n shape = (1,)\n Keras class = Dense\n activation = sigmoid</title></image><text x=\"230.0\" y=\"162.0\" font-family=\"monospace\" font-size=\"12\">errors</text><rect x=\"49.0\" y=\"249\" width=\"102\" height=\"102\" style=\"fill:none;stroke:blue;stroke-width:2\"/><image id=\"XOR2_output1_1\" class=\"XOR2_output1\" x=\"50.0\" y=\"250\" height=\"100\" width=\"100\" preserveAspectRatio=\"none\" href=\"data:image/gif;base64,R0lGODdhAQABAIAAALW1tQAAACwAAAAAAQABAAAIBQABbAkIADs=\"><title>Layer: output1 (output)\n shape = (1,)\n Keras class = Dense\n activation = sigmoid</title></image><text x=\"155.0\" y=\"302.0\" font-family=\"monospace\" font-size=\"12\">output1</text><rect x=\"174.0\" y=\"249\" width=\"52\" height=\"52\" style=\"fill:none;stroke:blue;stroke-width:2\"/><image id=\"XOR2_output2_2\" class=\"XOR2_output2\" x=\"175.0\" y=\"250\" height=\"50\" width=\"50\" preserveAspectRatio=\"none\" href=\"data:image/gif;base64,R0lGODdhAQABAIAAALGxsQAAACwAAAAAAQABAAAIBQABbAkIADs=\"><title>Layer: output2 (output)\n shape = (1,)\n Keras class = Dense\n activation = sigmoid</title></image><text x=\"230.0\" y=\"277.0\" font-family=\"monospace\" font-size=\"12\">output2</text><rect x=\"100.0\" y=\"352\" width=\"100.0\" height=\"27\" style=\"fill:white;stroke:none\"><title>Weights from shared-hidden to output1\n output1/kernel has shape (5, 1)\n output1/bias has shape (1,)</title></rect><rect x=\"190.0\" y=\"302\" width=\"20.0\" height=\"77\" style=\"fill:white;stroke:none\"><title>Weights from shared-hidden to output2\n output2/kernel has shape (5, 1)\n output2/bias has shape (1,)</title></rect><line x1=\"200.0\" y1=\"379\" x2=\"100.0\" y2=\"352\" stroke=\"blue\" stroke-width=\"2\" marker-end=\"url(#arrow)\"><title>Weights from shared-hidden to output1\n output1/kernel has shape (5, 1)\n output1/bias has shape (1,)</title></line><line x1=\"200.0\" y1=\"379\" x2=\"200.0\" y2=\"302\" stroke=\"blue\" stroke-width=\"2\" marker-end=\"url(#arrow)\"><title>Weights from shared-hidden to output2\n output2/kernel has shape (5, 1)\n output2/bias has shape (1,)</title></line><rect x=\"174.0\" y=\"379\" width=\"52\" height=\"27\" style=\"fill:none;stroke:blue;stroke-width:2\"/><image id=\"XOR2_shared-hidden_3\" class=\"XOR2_shared-hidden\" x=\"175.0\" y=\"380\" height=\"25\" width=\"50\" preserveAspectRatio=\"none\" href=\"data:image/gif;base64,R0lGODdhBQABAIIAAF1dXWhoaHp6epmZmaysrAAAAAAAAAAAACwAAAAABQABAAAICAABCAgwgEBAADs=\"><title>Layer: shared-hidden (hidden)\n shape = (5,)\n Keras class = Dense\n activation = sigmoid</title></image><text x=\"230.0\" y=\"394.5\" font-family=\"monospace\" font-size=\"12\">shared-hidden</text><rect x=\"116.66666666666667\" y=\"407\" width=\"83.33333333333333\" height=\"27\" style=\"fill:white;stroke:none\"><title>Weights from hidden1 to shared-hidden\n shared-hidden/kernel has shape (20, 5)\n shared-hidden/bias has shape (5,)</title></rect><line x1=\"116.66666666666667\" y1=\"434\" x2=\"200.0\" y2=\"407\" stroke=\"blue\" stroke-width=\"2\" marker-end=\"url(#arrow)\"><title>Weights from hidden1 to shared-hidden\n shared-hidden/kernel has shape (20, 5)\n shared-hidden/bias has shape (5,)</title></line><rect x=\"90.66666666666667\" y=\"434\" width=\"52\" height=\"27\" style=\"fill:none;stroke:blue;stroke-width:2\"/><image id=\"XOR2_hidden1_4\" class=\"XOR2_hidden1\" x=\"91.66666666666667\" y=\"435\" height=\"25\" width=\"50\" preserveAspectRatio=\"none\" href=\"data:image/gif;base64,R0lGODdhCgABAIAAAH9/fwAAACwAAAAACgABAAAIBwABCBxIMCAAOw==\"><title>Layer: hidden1 (hidden)\n shape = (10,)\n Keras class = Dense\n activation = sigmoid</title></image><text x=\"146.66666666666669\" y=\"449.5\" font-family=\"monospace\" font-size=\"12\">hidden1</text><rect x=\"200.0\" y=\"407\" width=\"33.33333333333334\" height=\"27\" style=\"fill:white;stroke:none\"><title>Weights from hidden2 to shared-hidden\n shared-hidden/kernel has shape (20, 5)\n shared-hidden/bias has shape (5,)</title></rect><line x1=\"233.33333333333334\" y1=\"434\" x2=\"200.0\" y2=\"407\" stroke=\"blue\" stroke-width=\"2\" marker-end=\"url(#arrow)\"><title>Weights from hidden2 to shared-hidden\n shared-hidden/kernel has shape (20, 5)\n shared-hidden/bias has shape (5,)</title></line><rect x=\"207.33333333333334\" y=\"434\" width=\"52\" height=\"27\" style=\"fill:none;stroke:blue;stroke-width:2\"/><image id=\"XOR2_hidden2_5\" class=\"XOR2_hidden2\" x=\"208.33333333333334\" y=\"435\" height=\"25\" width=\"50\" preserveAspectRatio=\"none\" href=\"data:image/gif;base64,R0lGODdhCgABAIAAAH9/fwAAACwAAAAACgABAAAIBwABCBxIMCAAOw==\"><title>Layer: hidden2 (hidden)\n shape = (10,)\n Keras class = Dense\n activation = sigmoid</title></image><text x=\"263.33333333333337\" y=\"449.5\" font-family=\"monospace\" font-size=\"12\">hidden2</text><rect x=\"90.0\" y=\"462\" width=\"36.66666666666667\" height=\"27\" style=\"fill:white;stroke:none\"><title>Weights from input1 to hidden1\n hidden1/kernel has shape (1, 10)\n hidden1/bias has shape (10,)</title></rect><line x1=\"100.0\" y1=\"489\" x2=\"116.66666666666667\" y2=\"462\" stroke=\"blue\" stroke-width=\"2\" marker-end=\"url(#arrow)\"><title>Weights from input1 to hidden1\n hidden1/kernel has shape (1, 10)\n hidden1/bias has shape (10,)</title></line><rect x=\"49.0\" y=\"489\" width=\"102\" height=\"102\" style=\"fill:none;stroke:blue;stroke-width:2\"/><image id=\"XOR2_input1_6\" class=\"XOR2_input1\" x=\"50.0\" y=\"490\" height=\"100\" width=\"100\" preserveAspectRatio=\"none\" href=\"data:image/gif;base64,R0lGODdhAQABAIAAAH9/fwAAACwAAAAAAQABAAAIBQABbAkIADs=\"><title>Layer: input1 (input)\n shape = (1,)\n Keras class = Input</title></image><text x=\"155.0\" y=\"542.0\" font-family=\"monospace\" font-size=\"12\">input1</text><rect x=\"200.0\" y=\"462\" width=\"33.33333333333334\" height=\"27\" style=\"fill:white;stroke:none\"><title>Weights from input2 to hidden2\n hidden2/kernel has shape (1, 10)\n hidden2/bias has shape (10,)</title></rect><line x1=\"200.0\" y1=\"489\" x2=\"233.33333333333334\" y2=\"462\" stroke=\"blue\" stroke-width=\"2\" marker-end=\"url(#arrow)\"><title>Weights from input2 to hidden2\n hidden2/kernel has shape (1, 10)\n hidden2/bias has shape (10,)</title></line><rect x=\"174.0\" y=\"489\" width=\"52\" height=\"52\" style=\"fill:none;stroke:blue;stroke-width:2\"/><image id=\"XOR2_input2_7\" class=\"XOR2_input2\" x=\"175.0\" y=\"490\" height=\"50\" width=\"50\" preserveAspectRatio=\"none\" href=\"data:image/gif;base64,R0lGODdhAQABAIAAAH9/fwAAACwAAAAAAQABAAAIBQABbAkIADs=\"><title>Layer: input2 (input)\n shape = (1,)\n Keras class = Input</title></image><text x=\"230.0\" y=\"517.0\" font-family=\"monospace\" font-size=\"12\">input2</text></svg>"
      }
     },
     "c33c96884350465988576973afb422b1": {
      "model_module": "jupyter-js-widgets",
      "model_module_version": "~2.1.4",
      "model_name": "HBoxModel",
      "state": {
       "_model_module_version": "~2.1.4",
       "_view_module_version": "~2.1.4",
       "children": [
        "IPY_MODEL_e76ec6a9aa0545acb4a6fa7ef38efd09",
        "IPY_MODEL_aecec9cc20b146df902f8659a19972a2",
        "IPY_MODEL_ffe01c72e3ca4d67b279c44cc9408e76",
        "IPY_MODEL_65c2651735524d1dab3a941e627eff80",
        "IPY_MODEL_bead8ef0cc404fb9b2ca10d14db25c29"
       ],
       "layout": "IPY_MODEL_b3bb6d8a177e47a38db8b2341a87cc5e"
      }
     },
     "c370c684b60944019d8c3bebabffbd6d": {
      "model_module": "jupyter-js-widgets",
      "model_module_version": "~2.1.4",
      "model_name": "LayoutModel",
      "state": {
       "_model_module_version": "~2.1.4",
       "_view_module_version": "~2.1.4"
      }
     },
     "c390dc0e6a9d4079a804b0712566cd87": {
      "model_module": "jupyter-js-widgets",
      "model_module_version": "~2.1.4",
      "model_name": "LayoutModel",
      "state": {
       "_model_module_version": "~2.1.4",
       "_view_module_version": "~2.1.4"
      }
     },
     "c40f9d2988164011a0781f3d13633946": {
      "model_module": "jupyter-js-widgets",
      "model_module_version": "~2.1.4",
      "model_name": "VBoxModel",
      "state": {
       "_model_module_version": "~2.1.4",
       "_view_module_version": "~2.1.4",
       "children": [
        "IPY_MODEL_ae7b22539d8844ba9c284ac275077096",
        "IPY_MODEL_fac781eadf3f4514ac48f8c1d3b47d7d"
       ],
       "layout": "IPY_MODEL_a92ae2225fff4373b00494384f7a9214"
      }
     },
     "c49b1dcaf07445d2851490641d9eda2f": {
      "model_module": "jupyter-js-widgets",
      "model_module_version": "~2.1.4",
      "model_name": "LayoutModel",
      "state": {
       "_model_module_version": "~2.1.4",
       "_view_module_version": "~2.1.4",
       "width": "100%"
      }
     },
     "c5d5c64ad25c494a8c4d49b53aed03ec": {
      "model_module": "jupyter-js-widgets",
      "model_module_version": "~2.1.4",
      "model_name": "ButtonModel",
      "state": {
       "_model_module_version": "~2.1.4",
       "_view_module_version": "~2.1.4",
       "icon": "fast-backward",
       "layout": "IPY_MODEL_0dbc259bc66e4deeb20da3fa9ec9abb2",
       "style": "IPY_MODEL_63a2ebf232ac4708bbe7d841fb42abcd"
      }
     },
     "c5d5f72fc07e43f5b4ffe3098dd7bc88": {
      "model_module": "jupyter-js-widgets",
      "model_module_version": "~2.1.4",
      "model_name": "VBoxModel",
      "state": {
       "_model_module_version": "~2.1.4",
       "_view_module_version": "~2.1.4",
       "children": [
        "IPY_MODEL_d8e1cdae455c406b8ac44eb1c955d934",
        "IPY_MODEL_fb22fae16bff41a8a47ee315caa08705"
       ],
       "layout": "IPY_MODEL_15053225dd1848c9a4bb325c8a43efbc"
      }
     },
     "c776f0d3b3a440c1bc542c123ca6d7a4": {
      "model_module": "jupyter-js-widgets",
      "model_module_version": "~2.1.4",
      "model_name": "LayoutModel",
      "state": {
       "_model_module_version": "~2.1.4",
       "_view_module_version": "~2.1.4",
       "width": "100%"
      }
     },
     "c81c266ae44f442db40325feebf3e328": {
      "model_module": "jupyter-js-widgets",
      "model_module_version": "~2.1.4",
      "model_name": "ButtonStyleModel",
      "state": {
       "_model_module_version": "~2.1.4",
       "_view_module_version": "~2.1.4"
      }
     },
     "c8f7ff5cd99a4e718b2ef63c00f885c8": {
      "model_module": "jupyter-js-widgets",
      "model_module_version": "~2.1.4",
      "model_name": "ButtonModel",
      "state": {
       "_model_module_version": "~2.1.4",
       "_view_module_version": "~2.1.4",
       "icon": "forward",
       "layout": "IPY_MODEL_168068316b0f45d387bfb907965100df",
       "style": "IPY_MODEL_a9356ea437634408b5daa16b71bc95bb"
      }
     },
     "c9168d74f4ee466e83347995c24ed85e": {
      "model_module": "jupyter-js-widgets",
      "model_module_version": "~2.1.4",
      "model_name": "LayoutModel",
      "state": {
       "_model_module_version": "~2.1.4",
       "_view_module_version": "~2.1.4",
       "width": "100%"
      }
     },
     "c964dc6d6da042cd90f010eb38d9ba9a": {
      "model_module": "jupyter-js-widgets",
      "model_module_version": "~2.1.4",
      "model_name": "ButtonStyleModel",
      "state": {
       "_model_module_version": "~2.1.4",
       "_view_module_version": "~2.1.4"
      }
     },
     "c9c6fed7128e4377a412c7d765f20a33": {
      "model_module": "jupyter-js-widgets",
      "model_module_version": "~2.1.4",
      "model_name": "LayoutModel",
      "state": {
       "_model_module_version": "~2.1.4",
       "_view_module_version": "~2.1.4",
       "width": "100%"
      }
     },
     "c9fbd5a7fa734ceb97bfc86c9699df31": {
      "model_module": "jupyter-js-widgets",
      "model_module_version": "~2.1.4",
      "model_name": "ButtonStyleModel",
      "state": {
       "_model_module_version": "~2.1.4",
       "_view_module_version": "~2.1.4"
      }
     },
     "ca0908527e054c9c8df2b364c6b794ad": {
      "model_module": "jupyter-js-widgets",
      "model_module_version": "~2.1.4",
      "model_name": "LayoutModel",
      "state": {
       "_model_module_version": "~2.1.4",
       "_view_module_version": "~2.1.4"
      }
     },
     "ca7349b511e64bcca87b730dea62bddd": {
      "model_module": "jupyter-js-widgets",
      "model_module_version": "~2.1.4",
      "model_name": "LayoutModel",
      "state": {
       "_model_module_version": "~2.1.4",
       "_view_module_version": "~2.1.4",
       "width": "100%"
      }
     },
     "cad00774a6664def806929a2e2a7cc68": {
      "model_module": "jupyter-js-widgets",
      "model_module_version": "~2.1.4",
      "model_name": "VBoxModel",
      "state": {
       "_model_module_version": "~2.1.4",
       "_view_module_version": "~2.1.4",
       "layout": "IPY_MODEL_05b72144aa3747baa67fa83b676d3e5d"
      }
     },
     "cc1d0e87c1ff40308ac51949956969bf": {
      "model_module": "jupyter-js-widgets",
      "model_module_version": "~2.1.4",
      "model_name": "LayoutModel",
      "state": {
       "_model_module_version": "~2.1.4",
       "_view_module_version": "~2.1.4"
      }
     },
     "cd5a8c3bc8894adf9ed1caf358b122e5": {
      "model_module": "jupyter-js-widgets",
      "model_module_version": "~2.1.4",
      "model_name": "ButtonStyleModel",
      "state": {
       "_model_module_version": "~2.1.4",
       "_view_module_version": "~2.1.4"
      }
     },
     "cd914e1d60a5420ab0bf9be46f0dea2b": {
      "model_module": "jupyter-js-widgets",
      "model_module_version": "~2.1.4",
      "model_name": "ButtonStyleModel",
      "state": {
       "_model_module_version": "~2.1.4",
       "_view_module_version": "~2.1.4"
      }
     },
     "cdee386ba47340209444bb6e208cb9ad": {
      "model_module": "jupyter-js-widgets",
      "model_module_version": "~2.1.4",
      "model_name": "TabModel",
      "state": {
       "_model_module_version": "~2.1.4",
       "_titles": {
        "0": "Network",
        "1": "Graphs",
        "2": "Analysis",
        "3": "Camera",
        "4": "Help"
       },
       "_view_module_version": "~2.1.4",
       "children": [
        "IPY_MODEL_2e7c44508b504dd59c2093c81273b033",
        "IPY_MODEL_e7086d669c6448dfa15efddd4937f967",
        "IPY_MODEL_fbdf476717ab4f02bbe185d68184a8cf",
        "IPY_MODEL_8a08387c29ff432a9cd106b2a88cb9a8",
        "IPY_MODEL_243a18f9d38741cebc47f492acbf35b4"
       ],
       "layout": "IPY_MODEL_6507dda359c7480dac86ce952240b5cf"
      }
     },
     "cecb956b63ac4585865d26aa8db18a7e": {
      "model_module": "jupyter-js-widgets",
      "model_module_version": "~2.1.4",
      "model_name": "VBoxModel",
      "state": {
       "_model_module_version": "~2.1.4",
       "_view_module_version": "~2.1.4",
       "layout": "IPY_MODEL_2ce422a8d8e042f1bf63d4310910b6f6"
      }
     },
     "cf846982558b4235bc3a205918f98c0f": {
      "model_module": "jupyter-js-widgets",
      "model_module_version": "~2.1.4",
      "model_name": "ButtonStyleModel",
      "state": {
       "_model_module_version": "~2.1.4",
       "_view_module_version": "~2.1.4"
      }
     },
     "d07a6dae085244e193aa1ab3c228d1d0": {
      "model_module": "jupyter-js-widgets",
      "model_module_version": "~2.1.4",
      "model_name": "VBoxModel",
      "state": {
       "_model_module_version": "~2.1.4",
       "_view_module_version": "~2.1.4",
       "layout": "IPY_MODEL_279c549de2ad40ce82e52213cce0e892"
      }
     },
     "d0964bebabd74f79b312bbafb3c7c0a3": {
      "model_module": "jupyter-js-widgets",
      "model_module_version": "~2.1.4",
      "model_name": "HBoxModel",
      "state": {
       "_model_module_version": "~2.1.4",
       "_view_module_version": "~2.1.4",
       "children": [
        "IPY_MODEL_d9a74388c3434b7fa20d648b82a82f57",
        "IPY_MODEL_1fd9101e385c403bb571fcbf1cfa1c06",
        "IPY_MODEL_2c121207bfa243d7833af28357ae17b1",
        "IPY_MODEL_1f23a6116dde454f8ac1b433508df96c",
        "IPY_MODEL_0c851c2ae1aa4c2886bca738aefa446b"
       ],
       "layout": "IPY_MODEL_56fcaf32cb964dedb2996d7d155b7a5b"
      }
     },
     "d10993eeae324cddb42e15d49b782ed5": {
      "model_module": "jupyter-js-widgets",
      "model_module_version": "~2.1.4",
      "model_name": "ButtonModel",
      "state": {
       "_model_module_version": "~2.1.4",
       "_view_module_version": "~2.1.4",
       "icon": "forward",
       "layout": "IPY_MODEL_89c8f9a98d9c47818e48729da18dbea9",
       "style": "IPY_MODEL_2a6af8dedffe47f8999334cb00b6fe63"
      }
     },
     "d12ebc7499e6471ba07a0ba99e19ce42": {
      "model_module": "jupyter-js-widgets",
      "model_module_version": "~2.1.4",
      "model_name": "VBoxModel",
      "state": {
       "_model_module_version": "~2.1.4",
       "_view_module_version": "~2.1.4",
       "children": [
        "IPY_MODEL_5551701f412f44b79c2cc2092f7b51fd",
        "IPY_MODEL_65124f575dda454d90e2d96a7fff76d7"
       ],
       "layout": "IPY_MODEL_e1542e46310f473f82b6da29d76f1932"
      }
     },
     "d13fff01403740c39af63ba7630a61dd": {
      "model_module": "jupyter-js-widgets",
      "model_module_version": "~2.1.4",
      "model_name": "LayoutModel",
      "state": {
       "_model_module_version": "~2.1.4",
       "_view_module_version": "~2.1.4"
      }
     },
     "d1a2d7aad71741d1a96390c0044477ba": {
      "model_module": "jupyter-js-widgets",
      "model_module_version": "~2.1.4",
      "model_name": "LayoutModel",
      "state": {
       "_model_module_version": "~2.1.4",
       "_view_module_version": "~2.1.4",
       "width": "100%"
      }
     },
     "d2555fcf34f64e00af766081b2213249": {
      "model_module": "jupyter-js-widgets",
      "model_module_version": "~2.1.4",
      "model_name": "ButtonStyleModel",
      "state": {
       "_model_module_version": "~2.1.4",
       "_view_module_version": "~2.1.4"
      }
     },
     "d2b5940425894984a94774602991e009": {
      "model_module": "jupyter-js-widgets",
      "model_module_version": "~2.1.4",
      "model_name": "ButtonStyleModel",
      "state": {
       "_model_module_version": "~2.1.4",
       "_view_module_version": "~2.1.4"
      }
     },
     "d2f07f4d2e13482eb27225cf85e9fcb0": {
      "model_module": "jupyter-js-widgets",
      "model_module_version": "~2.1.4",
      "model_name": "LayoutModel",
      "state": {
       "_model_module_version": "~2.1.4",
       "_view_module_version": "~2.1.4",
       "height": "100%",
       "justify_content": "center",
       "max_height": "550px",
       "overflow_x": "auto",
       "width": "100%"
      }
     },
     "d38c0e365be14520af1606717fa44c2d": {
      "model_module": "jupyter-js-widgets",
      "model_module_version": "~2.1.4",
      "model_name": "SelectModel",
      "state": {
       "_model_module_version": "~2.1.4",
       "_options_labels": [
        "Test",
        "Train"
       ],
       "_view_module_version": "~2.1.4",
       "description": "Dataset:",
       "layout": "IPY_MODEL_abad93826b2545728d045b44802b267f",
       "value": "Train"
      }
     },
     "d3be7ad137014d3cb85b8851b8d657c7": {
      "model_module": "jupyter-js-widgets",
      "model_module_version": "~2.1.4",
      "model_name": "VBoxModel",
      "state": {
       "_model_module_version": "~2.1.4",
       "_view_module_version": "~2.1.4",
       "layout": "IPY_MODEL_bcc72f503f524d51a44631885b6d8d91"
      }
     },
     "d3e3642fef8f45be8e63aa864bf846ab": {
      "model_module": "jupyter-js-widgets",
      "model_module_version": "~2.1.4",
      "model_name": "LayoutModel",
      "state": {
       "_model_module_version": "~2.1.4",
       "_view_module_version": "~2.1.4"
      }
     },
     "d4a4f69e113045b091c13ffb66c334e4": {
      "model_module": "jupyter-js-widgets",
      "model_module_version": "~2.1.4",
      "model_name": "LayoutModel",
      "state": {
       "_model_module_version": "~2.1.4",
       "_view_module_version": "~2.1.4"
      }
     },
     "d5392854b7b3479d9c5430e548c65324": {
      "model_module": "jupyter-js-widgets",
      "model_module_version": "~2.1.4",
      "model_name": "LayoutModel",
      "state": {
       "_model_module_version": "~2.1.4",
       "_view_module_version": "~2.1.4"
      }
     },
     "d6d2bd44c2914bbdb505797fe49549d4": {
      "model_module": "jupyter-js-widgets",
      "model_module_version": "~2.1.4",
      "model_name": "ButtonModel",
      "state": {
       "_model_module_version": "~2.1.4",
       "_view_module_version": "~2.1.4",
       "icon": "forward",
       "layout": "IPY_MODEL_c9168d74f4ee466e83347995c24ed85e",
       "style": "IPY_MODEL_3717648831064eccb526931ae40d6519"
      }
     },
     "d71e71cab098449c899a821c5d1bc9ee": {
      "model_module": "jupyter-js-widgets",
      "model_module_version": "~2.1.4",
      "model_name": "ButtonModel",
      "state": {
       "_model_module_version": "~2.1.4",
       "_view_module_version": "~2.1.4",
       "icon": "fast-backward",
       "layout": "IPY_MODEL_0cb829394cbd4df78598f7de22a65459",
       "style": "IPY_MODEL_b8a1838690c946e58b7d4dc3e97e44bb"
      }
     },
     "d771b5a8c061419ca512c4dfb3f840f7": {
      "model_module": "jupyter-js-widgets",
      "model_module_version": "~2.1.4",
      "model_name": "LayoutModel",
      "state": {
       "_model_module_version": "~2.1.4",
       "_view_module_version": "~2.1.4",
       "width": "100%"
      }
     },
     "d7e71144762f4e21a85381b5198b1fbe": {
      "model_module": "jupyter-js-widgets",
      "model_module_version": "~2.1.4",
      "model_name": "SliderStyleModel",
      "state": {
       "_model_module_version": "~2.1.4",
       "_view_module_version": "~2.1.4"
      }
     },
     "d7e884fba6794280bdab74c058c80c3d": {
      "model_module": "jupyter-js-widgets",
      "model_module_version": "~2.1.4",
      "model_name": "LayoutModel",
      "state": {
       "_model_module_version": "~2.1.4",
       "_view_module_version": "~2.1.4",
       "width": "100%"
      }
     },
     "d831ddf3cdcc43918202603ef7dd100b": {
      "model_module": "jupyter-js-widgets",
      "model_module_version": "~2.1.4",
      "model_name": "ButtonModel",
      "state": {
       "_model_module_version": "~2.1.4",
       "_view_module_version": "~2.1.4",
       "description": "Train",
       "layout": "IPY_MODEL_5dd62794639d4114b88d41d28419817c",
       "style": "IPY_MODEL_85add506101d480f87198c1c6a14e58c"
      }
     },
     "d8b838c602124a1d994a6c08cd0f500c": {
      "model_module": "jupyter-js-widgets",
      "model_module_version": "~2.1.4",
      "model_name": "ButtonModel",
      "state": {
       "_model_module_version": "~2.1.4",
       "_view_module_version": "~2.1.4",
       "icon": "fast-forward",
       "layout": "IPY_MODEL_561165920e724f529959bed753921e72",
       "style": "IPY_MODEL_5e39c11ef8554740b4840209cd95e5c3"
      }
     },
     "d8e1cdae455c406b8ac44eb1c955d934": {
      "model_module": "jupyter-js-widgets",
      "model_module_version": "~2.1.4",
      "model_name": "HTMLModel",
      "state": {
       "_model_module_version": "~2.1.4",
       "_view_module_version": "~2.1.4",
       "layout": "IPY_MODEL_21ecf1f862d140b581559e30aa2ac9de",
       "value": "\n        <svg id='XOR2' xmlns='http://www.w3.org/2000/svg' width=\"450\" height=\"615\" image-rendering=\"pixelated\">\n    <defs>\n        <marker id=\"arrow\" markerWidth=\"10\" markerHeight=\"10\" refX=\"9\" refY=\"3\" orient=\"auto\" markerUnits=\"strokeWidth\">\n          <path d=\"M0,0 L0,6 L9,3 z\" fill=\"blue\" />\n        </marker>\n    </defs>\n<rect x=\"99.0\" y=\"24\" width=\"102\" height=\"102\" style=\"fill:none;stroke:blue;stroke-width:2\"/><image id=\"XOR2_output1_targets_1\" class=\"XOR2_output1_targets\" x=\"100.0\" y=\"25\" height=\"100\" width=\"100\" preserveAspectRatio=\"none\" href=\"data:image/gif;base64,R0lGODdhAQABAIAAAEpKSgAAACwAAAAAAQABAAAIBQAB5AsIADs=\"><title>Layer: output1 (output)\n shape = (1,)\n Keras class = Dense\n activation = sigmoid</title></image><text x=\"205.0\" y=\"77.0\" font-family=\"monospace\" font-size=\"12\">targets</text><rect x=\"274.0\" y=\"24\" width=\"52\" height=\"52\" style=\"fill:none;stroke:blue;stroke-width:2\"/><image id=\"XOR2_output2_targets_1\" class=\"XOR2_output2_targets\" x=\"275.0\" y=\"25\" height=\"50\" width=\"50\" preserveAspectRatio=\"none\" href=\"data:image/gif;base64,R0lGODdhAQABAIAAAL6+vgAAACwAAAAAAQABAAAIBQAB7AoIADs=\"><title>Layer: output2 (output)\n shape = (1,)\n Keras class = Dense\n activation = sigmoid</title></image><text x=\"330.0\" y=\"52.0\" font-family=\"monospace\" font-size=\"12\">targets</text><rect x=\"99.0\" y=\"134\" width=\"102\" height=\"102\" style=\"fill:none;stroke:blue;stroke-width:2\"/><image id=\"XOR2_output1_errors_1\" class=\"XOR2_output1_errors\" x=\"100.0\" y=\"135\" height=\"100\" width=\"100\" preserveAspectRatio=\"none\" href=\"data:image/gif;base64,R0lGODdhAQABAIAAAEpKSgAAACwAAAAAAQABAAAIBQAB7AoIADs=\"><title>Layer: output1 (output)\n shape = (1,)\n Keras class = Dense\n activation = sigmoid</title></image><text x=\"205.0\" y=\"187.0\" font-family=\"monospace\" font-size=\"12\">errors</text><rect x=\"274.0\" y=\"134\" width=\"52\" height=\"52\" style=\"fill:none;stroke:blue;stroke-width:2\"/><image id=\"XOR2_output2_errors_1\" class=\"XOR2_output2_errors\" x=\"275.0\" y=\"135\" height=\"50\" width=\"50\" preserveAspectRatio=\"none\" href=\"data:image/gif;base64,R0lGODdhAQABAIAAAL6+vgAAACwAAAAAAQABAAAIBQAB7AoIADs=\"><title>Layer: output2 (output)\n shape = (1,)\n Keras class = Dense\n activation = sigmoid</title></image><text x=\"330.0\" y=\"162.0\" font-family=\"monospace\" font-size=\"12\">errors</text><rect x=\"99.0\" y=\"249\" width=\"102\" height=\"102\" style=\"fill:none;stroke:blue;stroke-width:2\"/><image id=\"XOR2_output1_1\" class=\"XOR2_output1\" x=\"100.0\" y=\"250\" height=\"100\" width=\"100\" preserveAspectRatio=\"none\" href=\"data:image/gif;base64,R0lGODdhAQABAIAAAEpKSgAAACwAAAAAAQABAAAIBQAB7AoIADs=\"><title>Layer: output1 (output)\n shape = (1,)\n Keras class = Dense\n activation = sigmoid</title></image><text x=\"205.0\" y=\"302.0\" font-family=\"monospace\" font-size=\"12\">output1</text><rect x=\"274.0\" y=\"249\" width=\"52\" height=\"52\" style=\"fill:none;stroke:blue;stroke-width:2\"/><image id=\"XOR2_output2_2\" class=\"XOR2_output2\" x=\"275.0\" y=\"250\" height=\"50\" width=\"50\" preserveAspectRatio=\"none\" href=\"data:image/gif;base64,R0lGODdhAQABAIAAAL6+vgAAACwAAAAAAQABAAAIBQAB7AoIADs=\"><title>Layer: output2 (output)\n shape = (1,)\n Keras class = Dense\n activation = sigmoid</title></image><text x=\"330.0\" y=\"277.0\" font-family=\"monospace\" font-size=\"12\">output2</text><rect x=\"140.0\" y=\"352\" width=\"20.0\" height=\"27\" style=\"fill:white;stroke:none\"><title>Weights from shared-hidden to output1\n output1/kernel has shape (5, 1)\n output1/bias has shape (1,)</title></rect><rect x=\"150.0\" y=\"302\" width=\"150.0\" height=\"77\" style=\"fill:white;stroke:none\"><title>Weights from shared-hidden to output2\n output2/kernel has shape (5, 1)\n output2/bias has shape (1,)</title></rect><line x1=\"150.0\" y1=\"379\" x2=\"150.0\" y2=\"352\" stroke=\"blue\" stroke-width=\"2\" marker-end=\"url(#arrow)\"><title>Weights from shared-hidden to output1\n output1/kernel has shape (5, 1)\n output1/bias has shape (1,)</title></line><line x1=\"150.0\" y1=\"379\" x2=\"300.0\" y2=\"302\" stroke=\"blue\" stroke-width=\"2\" marker-end=\"url(#arrow)\"><title>Weights from shared-hidden to output2\n output2/kernel has shape (5, 1)\n output2/bias has shape (1,)</title></line><rect x=\"124.0\" y=\"379\" width=\"52\" height=\"27\" style=\"fill:none;stroke:blue;stroke-width:2\"/><image id=\"XOR2_shared-hidden_3\" class=\"XOR2_shared-hidden\" x=\"125.0\" y=\"380\" height=\"25\" width=\"50\" preserveAspectRatio=\"none\" href=\"data:image/gif;base64,R0lGODdhBQABAIIAAGVlZZaWlpeXl5iYmLu7uwAAAAAAAAAAACwAAAAABQABAAAICAADACAwQEBAADs=\"><title>Layer: shared-hidden (hidden)\n shape = (5,)\n Keras class = Dense\n activation = sigmoid</title></image><text x=\"180.0\" y=\"394.5\" font-family=\"monospace\" font-size=\"12\">shared-hidden</text><rect x=\"140.0\" y=\"407\" width=\"20.0\" height=\"27\" style=\"fill:white;stroke:none\"><title>Weights from hidden1 to shared-hidden\n shared-hidden/kernel has shape (20, 5)\n shared-hidden/bias has shape (5,)</title></rect><line x1=\"150.0\" y1=\"434\" x2=\"150.0\" y2=\"407\" stroke=\"blue\" stroke-width=\"2\" marker-end=\"url(#arrow)\"><title>Weights from hidden1 to shared-hidden\n shared-hidden/kernel has shape (20, 5)\n shared-hidden/bias has shape (5,)</title></line><rect x=\"124.0\" y=\"434\" width=\"52\" height=\"27\" style=\"fill:none;stroke:blue;stroke-width:2\"/><image id=\"XOR2_hidden1_4\" class=\"XOR2_hidden1\" x=\"125.0\" y=\"435\" height=\"25\" width=\"50\" preserveAspectRatio=\"none\" href=\"data:image/gif;base64,R0lGODdhCgABAIAAAH9/fwAAACwAAAAACgABAAAIBwABCBxIMCAAOw==\"><title>Layer: hidden1 (hidden)\n shape = (10,)\n Keras class = Dense\n activation = sigmoid</title></image><text x=\"180.0\" y=\"449.5\" font-family=\"monospace\" font-size=\"12\">hidden1</text><rect x=\"150.0\" y=\"407\" width=\"150.0\" height=\"27\" style=\"fill:white;stroke:none\"><title>Weights from hidden2 to shared-hidden\n shared-hidden/kernel has shape (20, 5)\n shared-hidden/bias has shape (5,)</title></rect><line x1=\"300.0\" y1=\"434\" x2=\"150.0\" y2=\"407\" stroke=\"blue\" stroke-width=\"2\" marker-end=\"url(#arrow)\"><title>Weights from hidden2 to shared-hidden\n shared-hidden/kernel has shape (20, 5)\n shared-hidden/bias has shape (5,)</title></line><rect x=\"274.0\" y=\"434\" width=\"52\" height=\"27\" style=\"fill:none;stroke:blue;stroke-width:2\"/><image id=\"XOR2_hidden2_5\" class=\"XOR2_hidden2\" x=\"275.0\" y=\"435\" height=\"25\" width=\"50\" preserveAspectRatio=\"none\" href=\"data:image/gif;base64,R0lGODdhCgABAIAAAH9/fwAAACwAAAAACgABAAAIBwABCBxIMCAAOw==\"><title>Layer: hidden2 (hidden)\n shape = (10,)\n Keras class = Dense\n activation = sigmoid</title></image><text x=\"330.0\" y=\"449.5\" font-family=\"monospace\" font-size=\"12\">hidden2</text><rect x=\"140.0\" y=\"462\" width=\"20.0\" height=\"27\" style=\"fill:white;stroke:none\"><title>Weights from input1 to hidden1\n hidden1/kernel has shape (1, 10)\n hidden1/bias has shape (10,)</title></rect><line x1=\"150.0\" y1=\"489\" x2=\"150.0\" y2=\"462\" stroke=\"blue\" stroke-width=\"2\" marker-end=\"url(#arrow)\"><title>Weights from input1 to hidden1\n hidden1/kernel has shape (1, 10)\n hidden1/bias has shape (10,)</title></line><rect x=\"99.0\" y=\"489\" width=\"102\" height=\"102\" style=\"fill:none;stroke:blue;stroke-width:2\"/><image id=\"XOR2_input1_6\" class=\"XOR2_input1\" x=\"100.0\" y=\"490\" height=\"100\" width=\"100\" preserveAspectRatio=\"none\" href=\"data:image/gif;base64,R0lGODdhAQABAIAAAH9/fwAAACwAAAAAAQABAAAIBQAB7AoIADs=\"><title>Layer: input1 (input)\n shape = (1,)\n Keras class = Input</title></image><text x=\"205.0\" y=\"542.0\" font-family=\"monospace\" font-size=\"12\">input1</text><rect x=\"290.0\" y=\"462\" width=\"20.0\" height=\"27\" style=\"fill:white;stroke:none\"><title>Weights from input2 to hidden2\n hidden2/kernel has shape (1, 10)\n hidden2/bias has shape (10,)</title></rect><line x1=\"300.0\" y1=\"489\" x2=\"300.0\" y2=\"462\" stroke=\"blue\" stroke-width=\"2\" marker-end=\"url(#arrow)\"><title>Weights from input2 to hidden2\n hidden2/kernel has shape (1, 10)\n hidden2/bias has shape (10,)</title></line><rect x=\"274.0\" y=\"489\" width=\"52\" height=\"52\" style=\"fill:none;stroke:blue;stroke-width:2\"/><image id=\"XOR2_input2_7\" class=\"XOR2_input2\" x=\"275.0\" y=\"490\" height=\"50\" width=\"50\" preserveAspectRatio=\"none\" href=\"data:image/gif;base64,R0lGODdhAQABAIAAAH9/fwAAACwAAAAAAQABAAAIBQAB7AoIADs=\"><title>Layer: input2 (input)\n shape = (1,)\n Keras class = Input</title></image><text x=\"330.0\" y=\"517.0\" font-family=\"monospace\" font-size=\"12\">input2</text></svg>"
      }
     },
     "d9a74388c3434b7fa20d648b82a82f57": {
      "model_module": "jupyter-js-widgets",
      "model_module_version": "~2.1.4",
      "model_name": "ButtonModel",
      "state": {
       "_model_module_version": "~2.1.4",
       "_view_module_version": "~2.1.4",
       "icon": "fast-backward",
       "layout": "IPY_MODEL_57566cfc14c94bd89b27711315a3ac85",
       "style": "IPY_MODEL_ba4196b2651d480fb55b9422788207f2"
      }
     },
     "da009bb01bea4df8a1a8a09edc843e3e": {
      "model_module": "jupyter-js-widgets",
      "model_module_version": "~2.1.4",
      "model_name": "LayoutModel",
      "state": {
       "_model_module_version": "~2.1.4",
       "_view_module_version": "~2.1.4",
       "width": "100%"
      }
     },
     "da2bf65c246e423fa831c87ab92d49c4": {
      "model_module": "jupyter-js-widgets",
      "model_module_version": "~2.1.4",
      "model_name": "LayoutModel",
      "state": {
       "_model_module_version": "~2.1.4",
       "_view_module_version": "~2.1.4",
       "width": "100%"
      }
     },
     "da4771b91ff944ac926cfc548b958618": {
      "model_module": "jupyter-js-widgets",
      "model_module_version": "~2.1.4",
      "model_name": "HBoxModel",
      "state": {
       "_model_module_version": "~2.1.4",
       "_view_module_version": "~2.1.4",
       "children": [
        "IPY_MODEL_c5d5c64ad25c494a8c4d49b53aed03ec",
        "IPY_MODEL_0b62dcd256bc4c2880e458e9ea2fa0ab",
        "IPY_MODEL_c0b7a34aa5014e3facb5d1d4257c7600",
        "IPY_MODEL_28a65f3865ca41a1ab9492831815ad5c",
        "IPY_MODEL_6025095935ec46adaa6c41d44e0ac1a6"
       ],
       "layout": "IPY_MODEL_dfe49e594a5641d6bd4b1a04f083ed70"
      }
     },
     "dafe0ebecc6a400d8c2575cbd94de319": {
      "model_module": "jupyter-js-widgets",
      "model_module_version": "~2.1.4",
      "model_name": "HTMLModel",
      "state": {
       "_model_module_version": "~2.1.4",
       "_view_module_version": "~2.1.4",
       "layout": "IPY_MODEL_bdf423655e074b2293a810cae61f1ced",
       "value": "\n        <svg id='XOR2' xmlns='http://www.w3.org/2000/svg' width=\"450\" height=\"615\" image-rendering=\"pixelated\">\n    <defs>\n        <marker id=\"arrow\" markerWidth=\"10\" markerHeight=\"10\" refX=\"9\" refY=\"3\" orient=\"auto\" markerUnits=\"strokeWidth\">\n          <path d=\"M0,0 L0,6 L9,3 z\" fill=\"blue\" />\n        </marker>\n    </defs>\n<rect x=\"99.0\" y=\"24\" width=\"102\" height=\"102\" style=\"fill:none;stroke:blue;stroke-width:2\"/><image id=\"XOR2_output1_targets_1\" class=\"XOR2_output1_targets\" x=\"100.0\" y=\"25\" height=\"100\" width=\"100\" preserveAspectRatio=\"none\" href=\"data:image/gif;base64,R0lGODdhAQABAIAAAHx8fAAAACwAAAAAAQABAAAIBQABAAgIADs=\"><title>Layer: output1 (output)\n shape = (1,)\n Keras class = Dense\n activation = sigmoid</title></image><text x=\"205.0\" y=\"77.0\" font-family=\"monospace\" font-size=\"12\">targets</text><rect x=\"299.0\" y=\"24\" width=\"52\" height=\"52\" style=\"fill:none;stroke:blue;stroke-width:2\"/><image id=\"XOR2_output2_targets_1\" class=\"XOR2_output2_targets\" x=\"300.0\" y=\"25\" height=\"50\" width=\"50\" preserveAspectRatio=\"none\" href=\"data:image/gif;base64,R0lGODdhAQABAIAAAJmZmQAAACwAAAAAAQABAAAIBQABrAsIADs=\"><title>Layer: output2 (output)\n shape = (1,)\n Keras class = Dense\n activation = sigmoid</title></image><text x=\"355.0\" y=\"52.0\" font-family=\"monospace\" font-size=\"12\">targets</text><rect x=\"99.0\" y=\"134\" width=\"102\" height=\"102\" style=\"fill:none;stroke:blue;stroke-width:2\"/><image id=\"XOR2_output1_errors_1\" class=\"XOR2_output1_errors\" x=\"100.0\" y=\"135\" height=\"100\" width=\"100\" preserveAspectRatio=\"none\" href=\"data:image/gif;base64,R0lGODdhAQABAIAAAHx8fAAAACwAAAAAAQABAAAIBQABrAsIADs=\"><title>Layer: output1 (output)\n shape = (1,)\n Keras class = Dense\n activation = sigmoid</title></image><text x=\"205.0\" y=\"187.0\" font-family=\"monospace\" font-size=\"12\">errors</text><rect x=\"299.0\" y=\"134\" width=\"52\" height=\"52\" style=\"fill:none;stroke:blue;stroke-width:2\"/><image id=\"XOR2_output2_errors_1\" class=\"XOR2_output2_errors\" x=\"300.0\" y=\"135\" height=\"50\" width=\"50\" preserveAspectRatio=\"none\" href=\"data:image/gif;base64,R0lGODdhAQABAIAAAJmZmQAAACwAAAAAAQABAAAIBQABrAsIADs=\"><title>Layer: output2 (output)\n shape = (1,)\n Keras class = Dense\n activation = sigmoid</title></image><text x=\"355.0\" y=\"162.0\" font-family=\"monospace\" font-size=\"12\">errors</text><rect x=\"99.0\" y=\"249\" width=\"102\" height=\"102\" style=\"fill:none;stroke:blue;stroke-width:2\"/><image id=\"XOR2_output1_1\" class=\"XOR2_output1\" x=\"100.0\" y=\"250\" height=\"100\" width=\"100\" preserveAspectRatio=\"none\" href=\"data:image/gif;base64,R0lGODdhAQABAIAAAHx8fAAAACwAAAAAAQABAAAIBQABrAsIADs=\"><title>Layer: output1 (output)\n shape = (1,)\n Keras class = Dense\n activation = sigmoid</title></image><text x=\"205.0\" y=\"302.0\" font-family=\"monospace\" font-size=\"12\">output1</text><rect x=\"299.0\" y=\"249\" width=\"52\" height=\"52\" style=\"fill:none;stroke:blue;stroke-width:2\"/><image id=\"XOR2_output2_2\" class=\"XOR2_output2\" x=\"300.0\" y=\"250\" height=\"50\" width=\"50\" preserveAspectRatio=\"none\" href=\"data:image/gif;base64,R0lGODdhAQABAIAAAJmZmQAAACwAAAAAAQABAAAIBQABrAsIADs=\"><title>Layer: output2 (output)\n shape = (1,)\n Keras class = Dense\n activation = sigmoid</title></image><text x=\"355.0\" y=\"277.0\" font-family=\"monospace\" font-size=\"12\">output2</text><rect x=\"150.0\" y=\"352\" width=\"75.0\" height=\"27\" style=\"fill:white;stroke:none\"><title>Weights from shared-hidden to output1\n output1/kernel:0 has shape (5, 1)\n output1/bias:0 has shape (1,)</title></rect><rect x=\"225.0\" y=\"302\" width=\"100.0\" height=\"77\" style=\"fill:white;stroke:none\"><title>Weights from shared-hidden to output2\n output2/kernel:0 has shape (5, 1)\n output2/bias:0 has shape (1,)</title></rect><line x1=\"225.0\" y1=\"379\" x2=\"150.0\" y2=\"352\" stroke=\"blue\" stroke-width=\"2\" marker-end=\"url(#arrow)\"><title>Weights from shared-hidden to output1\n output1/kernel:0 has shape (5, 1)\n output1/bias:0 has shape (1,)</title></line><line x1=\"225.0\" y1=\"379\" x2=\"325.0\" y2=\"302\" stroke=\"blue\" stroke-width=\"2\" marker-end=\"url(#arrow)\"><title>Weights from shared-hidden to output2\n output2/kernel:0 has shape (5, 1)\n output2/bias:0 has shape (1,)</title></line><rect x=\"199.0\" y=\"379\" width=\"52\" height=\"27\" style=\"fill:none;stroke:blue;stroke-width:2\"/><image id=\"XOR2_shared-hidden_3\" class=\"XOR2_shared-hidden\" x=\"200.0\" y=\"380\" height=\"25\" width=\"50\" preserveAspectRatio=\"none\" href=\"data:image/gif;base64,R0lGODdhBQABAIIAAE5OToaGhoeHh4yMjJSUlAAAAAAAAAAAACwAAAAABQABAAAICAAFBCAAYEBAADs=\"><title>Layer: shared-hidden (hidden)\n shape = (5,)\n Keras class = Dense\n activation = sigmoid</title></image><text x=\"255.0\" y=\"394.5\" font-family=\"monospace\" font-size=\"12\">shared-hidden</text><rect x=\"141.66666666666669\" y=\"407\" width=\"83.33333333333331\" height=\"27\" style=\"fill:white;stroke:none\"><title>Weights from hidden1 to shared-hidden\n shared-hidden/kernel:0 has shape (20, 5)\n shared-hidden/bias:0 has shape (5,)</title></rect><line x1=\"141.66666666666669\" y1=\"434\" x2=\"225.0\" y2=\"407\" stroke=\"blue\" stroke-width=\"2\" marker-end=\"url(#arrow)\"><title>Weights from hidden1 to shared-hidden\n shared-hidden/kernel:0 has shape (20, 5)\n shared-hidden/bias:0 has shape (5,)</title></line><rect x=\"115.66666666666667\" y=\"434\" width=\"52\" height=\"27\" style=\"fill:none;stroke:blue;stroke-width:2\"/><image id=\"XOR2_hidden1_4\" class=\"XOR2_hidden1\" x=\"116.66666666666667\" y=\"435\" height=\"25\" width=\"50\" preserveAspectRatio=\"none\" href=\"data:image/gif;base64,R0lGODdhCgABAIAAAH9/fwAAACwAAAAACgABAAAIBwABCBxIMCAAOw==\"><title>Layer: hidden1 (hidden)\n shape = (10,)\n Keras class = Dense\n activation = sigmoid</title></image><text x=\"171.66666666666669\" y=\"449.5\" font-family=\"monospace\" font-size=\"12\">hidden1</text><rect x=\"225.0\" y=\"407\" width=\"83.33333333333337\" height=\"27\" style=\"fill:white;stroke:none\"><title>Weights from hidden2 to shared-hidden\n shared-hidden/kernel:0 has shape (20, 5)\n shared-hidden/bias:0 has shape (5,)</title></rect><line x1=\"308.33333333333337\" y1=\"434\" x2=\"225.0\" y2=\"407\" stroke=\"blue\" stroke-width=\"2\" marker-end=\"url(#arrow)\"><title>Weights from hidden2 to shared-hidden\n shared-hidden/kernel:0 has shape (20, 5)\n shared-hidden/bias:0 has shape (5,)</title></line><rect x=\"282.33333333333337\" y=\"434\" width=\"52\" height=\"27\" style=\"fill:none;stroke:blue;stroke-width:2\"/><image id=\"XOR2_hidden2_5\" class=\"XOR2_hidden2\" x=\"283.33333333333337\" y=\"435\" height=\"25\" width=\"50\" preserveAspectRatio=\"none\" href=\"data:image/gif;base64,R0lGODdhCgABAIAAAH9/fwAAACwAAAAACgABAAAIBwABCBxIMCAAOw==\"><title>Layer: hidden2 (hidden)\n shape = (10,)\n Keras class = Dense\n activation = sigmoid</title></image><text x=\"338.33333333333337\" y=\"449.5\" font-family=\"monospace\" font-size=\"12\">hidden2</text><rect x=\"131.66666666666669\" y=\"462\" width=\"28.333333333333314\" height=\"27\" style=\"fill:white;stroke:none\"><title>Weights from input1 to hidden1\n hidden1/kernel:0 has shape (1, 10)\n hidden1/bias:0 has shape (10,)</title></rect><line x1=\"150.0\" y1=\"489\" x2=\"141.66666666666669\" y2=\"462\" stroke=\"blue\" stroke-width=\"2\" marker-end=\"url(#arrow)\"><title>Weights from input1 to hidden1\n hidden1/kernel:0 has shape (1, 10)\n hidden1/bias:0 has shape (10,)</title></line><rect x=\"99.0\" y=\"489\" width=\"102\" height=\"102\" style=\"fill:none;stroke:blue;stroke-width:2\"/><image id=\"XOR2_input1_6\" class=\"XOR2_input1\" x=\"100.0\" y=\"490\" height=\"100\" width=\"100\" preserveAspectRatio=\"none\" href=\"data:image/gif;base64,R0lGODdhAQABAIAAAH9/fwAAACwAAAAAAQABAAAIBQABrAsIADs=\"><title>Layer: input1 (input)\n shape = (1,)\n Keras class = Input</title></image><text x=\"205.0\" y=\"542.0\" font-family=\"monospace\" font-size=\"12\">input1</text><rect x=\"298.33333333333337\" y=\"462\" width=\"36.66666666666663\" height=\"27\" style=\"fill:white;stroke:none\"><title>Weights from input2 to hidden2\n hidden2/kernel:0 has shape (1, 10)\n hidden2/bias:0 has shape (10,)</title></rect><line x1=\"325.0\" y1=\"489\" x2=\"308.33333333333337\" y2=\"462\" stroke=\"blue\" stroke-width=\"2\" marker-end=\"url(#arrow)\"><title>Weights from input2 to hidden2\n hidden2/kernel:0 has shape (1, 10)\n hidden2/bias:0 has shape (10,)</title></line><rect x=\"299.0\" y=\"489\" width=\"52\" height=\"52\" style=\"fill:none;stroke:blue;stroke-width:2\"/><image id=\"XOR2_input2_7\" class=\"XOR2_input2\" x=\"300.0\" y=\"490\" height=\"50\" width=\"50\" preserveAspectRatio=\"none\" href=\"data:image/gif;base64,R0lGODdhAQABAIAAAH9/fwAAACwAAAAAAQABAAAIBQABrAsIADs=\"><title>Layer: input2 (input)\n shape = (1,)\n Keras class = Input</title></image><text x=\"355.0\" y=\"517.0\" font-family=\"monospace\" font-size=\"12\">input2</text></svg>"
      }
     },
     "dc4b7fd1d9a74ba985001030225057be": {
      "model_module": "jupyter-js-widgets",
      "model_module_version": "~2.1.4",
      "model_name": "SelectModel",
      "state": {
       "_model_module_version": "~2.1.4",
       "_options_labels": [
        "Test",
        "Train"
       ],
       "_view_module_version": "~2.1.4",
       "description": "Dataset:",
       "layout": "IPY_MODEL_5c13d3d0596842b7ab247ef7dfd44207",
       "value": "Train"
      }
     },
     "dc8d68102cef4784bd4162a545be7315": {
      "model_module": "jupyter-js-widgets",
      "model_module_version": "~2.1.4",
      "model_name": "HTMLModel",
      "state": {
       "_model_module_version": "~2.1.4",
       "_view_module_version": "~2.1.4",
       "layout": "IPY_MODEL_b35ee54de4774bf9b45ad55a867196ce",
       "value": "\n        <svg id='XOR2' xmlns='http://www.w3.org/2000/svg' width=\"450\" height=\"615\" image-rendering=\"pixelated\">\n    <defs>\n        <marker id=\"arrow\" markerWidth=\"10\" markerHeight=\"10\" refX=\"9\" refY=\"3\" orient=\"auto\" markerUnits=\"strokeWidth\">\n          <path d=\"M0,0 L0,6 L9,3 z\" fill=\"blue\" />\n        </marker>\n    </defs>\n<rect x=\"99.0\" y=\"24\" width=\"102\" height=\"102\" style=\"fill:none;stroke:blue;stroke-width:2\"/><image id=\"XOR2_output1_targets_1\" class=\"XOR2_output1_targets\" x=\"100.0\" y=\"25\" height=\"100\" width=\"100\" preserveAspectRatio=\"none\" href=\"data:image/gif;base64,R0lGODdhAQABAIAAAImJiQAAACwAAAAAAQABAAAIBQABrAsIADs=\"><title>Layer: output1 (output)\n shape = (1,)\n Keras class = Dense\n activation = sigmoid</title></image><text x=\"205.0\" y=\"77.0\" font-family=\"monospace\" font-size=\"12\">targets</text><rect x=\"274.0\" y=\"24\" width=\"52\" height=\"52\" style=\"fill:none;stroke:blue;stroke-width:2\"/><image id=\"XOR2_output2_targets_1\" class=\"XOR2_output2_targets\" x=\"275.0\" y=\"25\" height=\"50\" width=\"50\" preserveAspectRatio=\"none\" href=\"data:image/gif;base64,R0lGODdhAQABAIAAAI2NjQAAACwAAAAAAQABAAAIBQABrAsIADs=\"><title>Layer: output2 (output)\n shape = (1,)\n Keras class = Dense\n activation = sigmoid</title></image><text x=\"330.0\" y=\"52.0\" font-family=\"monospace\" font-size=\"12\">targets</text><rect x=\"99.0\" y=\"134\" width=\"102\" height=\"102\" style=\"fill:none;stroke:blue;stroke-width:2\"/><image id=\"XOR2_output1_errors_1\" class=\"XOR2_output1_errors\" x=\"100.0\" y=\"135\" height=\"100\" width=\"100\" preserveAspectRatio=\"none\" href=\"data:image/gif;base64,R0lGODdhAQABAIAAAImJiQAAACwAAAAAAQABAAAIBQABrAsIADs=\"><title>Layer: output1 (output)\n shape = (1,)\n Keras class = Dense\n activation = sigmoid</title></image><text x=\"205.0\" y=\"187.0\" font-family=\"monospace\" font-size=\"12\">errors</text><rect x=\"274.0\" y=\"134\" width=\"52\" height=\"52\" style=\"fill:none;stroke:blue;stroke-width:2\"/><image id=\"XOR2_output2_errors_1\" class=\"XOR2_output2_errors\" x=\"275.0\" y=\"135\" height=\"50\" width=\"50\" preserveAspectRatio=\"none\" href=\"data:image/gif;base64,R0lGODdhAQABAIAAAI2NjQAAACwAAAAAAQABAAAIBQABrAsIADs=\"><title>Layer: output2 (output)\n shape = (1,)\n Keras class = Dense\n activation = sigmoid</title></image><text x=\"330.0\" y=\"162.0\" font-family=\"monospace\" font-size=\"12\">errors</text><rect x=\"99.0\" y=\"249\" width=\"102\" height=\"102\" style=\"fill:none;stroke:blue;stroke-width:2\"/><image id=\"XOR2_output1_1\" class=\"XOR2_output1\" x=\"100.0\" y=\"250\" height=\"100\" width=\"100\" preserveAspectRatio=\"none\" href=\"data:image/gif;base64,R0lGODdhAQABAIAAAImJiQAAACwAAAAAAQABAAAIBQABrAsIADs=\"><title>Layer: output1 (output)\n shape = (1,)\n Keras class = Dense\n activation = sigmoid</title></image><text x=\"205.0\" y=\"302.0\" font-family=\"monospace\" font-size=\"12\">output1</text><rect x=\"274.0\" y=\"249\" width=\"52\" height=\"52\" style=\"fill:none;stroke:blue;stroke-width:2\"/><image id=\"XOR2_output2_2\" class=\"XOR2_output2\" x=\"275.0\" y=\"250\" height=\"50\" width=\"50\" preserveAspectRatio=\"none\" href=\"data:image/gif;base64,R0lGODdhAQABAIAAAI2NjQAAACwAAAAAAQABAAAIBQABrAsIADs=\"><title>Layer: output2 (output)\n shape = (1,)\n Keras class = Dense\n activation = sigmoid</title></image><text x=\"330.0\" y=\"277.0\" font-family=\"monospace\" font-size=\"12\">output2</text><rect x=\"150.0\" y=\"352\" width=\"75.0\" height=\"27\" style=\"fill:white;stroke:none\"><title>Weights from shared-hidden to output1\n output1/kernel has shape (5, 1)\n output1/bias has shape (1,)</title></rect><rect x=\"225.0\" y=\"302\" width=\"75.0\" height=\"77\" style=\"fill:white;stroke:none\"><title>Weights from shared-hidden to output2\n output2/kernel has shape (5, 1)\n output2/bias has shape (1,)</title></rect><line x1=\"225.0\" y1=\"379\" x2=\"150.0\" y2=\"352\" stroke=\"blue\" stroke-width=\"2\" marker-end=\"url(#arrow)\"><title>Weights from shared-hidden to output1\n output1/kernel has shape (5, 1)\n output1/bias has shape (1,)</title></line><line x1=\"225.0\" y1=\"379\" x2=\"300.0\" y2=\"302\" stroke=\"blue\" stroke-width=\"2\" marker-end=\"url(#arrow)\"><title>Weights from shared-hidden to output2\n output2/kernel has shape (5, 1)\n output2/bias has shape (1,)</title></line><rect x=\"199.0\" y=\"379\" width=\"52\" height=\"27\" style=\"fill:none;stroke:blue;stroke-width:2\"/><image id=\"XOR2_shared-hidden_3\" class=\"XOR2_shared-hidden\" x=\"200.0\" y=\"380\" height=\"25\" width=\"50\" preserveAspectRatio=\"none\" href=\"data:image/gif;base64,R0lGODdhBQABAIIAAD09PVxcXH19fX5+fpaWlgAAAAAAAAAAACwAAAAABQABAAAICAAJBAAwQEBAADs=\"><title>Layer: shared-hidden (hidden)\n shape = (5,)\n Keras class = Dense\n activation = sigmoid</title></image><text x=\"255.0\" y=\"394.5\" font-family=\"monospace\" font-size=\"12\">shared-hidden</text><rect x=\"150.0\" y=\"407\" width=\"75.0\" height=\"27\" style=\"fill:white;stroke:none\"><title>Weights from hidden1 to shared-hidden\n shared-hidden/kernel has shape (20, 5)\n shared-hidden/bias has shape (5,)</title></rect><line x1=\"150.0\" y1=\"434\" x2=\"225.0\" y2=\"407\" stroke=\"blue\" stroke-width=\"2\" marker-end=\"url(#arrow)\"><title>Weights from hidden1 to shared-hidden\n shared-hidden/kernel has shape (20, 5)\n shared-hidden/bias has shape (5,)</title></line><rect x=\"124.0\" y=\"434\" width=\"52\" height=\"27\" style=\"fill:none;stroke:blue;stroke-width:2\"/><image id=\"XOR2_hidden1_4\" class=\"XOR2_hidden1\" x=\"125.0\" y=\"435\" height=\"25\" width=\"50\" preserveAspectRatio=\"none\" href=\"data:image/gif;base64,R0lGODdhCgABAIAAAH9/fwAAACwAAAAACgABAAAIBwABCBxIMCAAOw==\"><title>Layer: hidden1 (hidden)\n shape = (10,)\n Keras class = Dense\n activation = sigmoid</title></image><text x=\"180.0\" y=\"449.5\" font-family=\"monospace\" font-size=\"12\">hidden1</text><rect x=\"225.0\" y=\"407\" width=\"75.0\" height=\"27\" style=\"fill:white;stroke:none\"><title>Weights from hidden2 to shared-hidden\n shared-hidden/kernel has shape (20, 5)\n shared-hidden/bias has shape (5,)</title></rect><line x1=\"300.0\" y1=\"434\" x2=\"225.0\" y2=\"407\" stroke=\"blue\" stroke-width=\"2\" marker-end=\"url(#arrow)\"><title>Weights from hidden2 to shared-hidden\n shared-hidden/kernel has shape (20, 5)\n shared-hidden/bias has shape (5,)</title></line><rect x=\"274.0\" y=\"434\" width=\"52\" height=\"27\" style=\"fill:none;stroke:blue;stroke-width:2\"/><image id=\"XOR2_hidden2_5\" class=\"XOR2_hidden2\" x=\"275.0\" y=\"435\" height=\"25\" width=\"50\" preserveAspectRatio=\"none\" href=\"data:image/gif;base64,R0lGODdhCgABAIAAAH9/fwAAACwAAAAACgABAAAIBwABCBxIMCAAOw==\"><title>Layer: hidden2 (hidden)\n shape = (10,)\n Keras class = Dense\n activation = sigmoid</title></image><text x=\"330.0\" y=\"449.5\" font-family=\"monospace\" font-size=\"12\">hidden2</text><rect x=\"140.0\" y=\"462\" width=\"20.0\" height=\"27\" style=\"fill:white;stroke:none\"><title>Weights from input1 to hidden1\n hidden1/kernel has shape (1, 10)\n hidden1/bias has shape (10,)</title></rect><line x1=\"150.0\" y1=\"489\" x2=\"150.0\" y2=\"462\" stroke=\"blue\" stroke-width=\"2\" marker-end=\"url(#arrow)\"><title>Weights from input1 to hidden1\n hidden1/kernel has shape (1, 10)\n hidden1/bias has shape (10,)</title></line><rect x=\"99.0\" y=\"489\" width=\"102\" height=\"102\" style=\"fill:none;stroke:blue;stroke-width:2\"/><image id=\"XOR2_input1_6\" class=\"XOR2_input1\" x=\"100.0\" y=\"490\" height=\"100\" width=\"100\" preserveAspectRatio=\"none\" href=\"data:image/gif;base64,R0lGODdhAQABAIAAAH9/fwAAACwAAAAAAQABAAAIBQABrAsIADs=\"><title>Layer: input1 (input)\n shape = (1,)\n Keras class = Input</title></image><text x=\"205.0\" y=\"542.0\" font-family=\"monospace\" font-size=\"12\">input1</text><rect x=\"290.0\" y=\"462\" width=\"20.0\" height=\"27\" style=\"fill:white;stroke:none\"><title>Weights from input2 to hidden2\n hidden2/kernel has shape (1, 10)\n hidden2/bias has shape (10,)</title></rect><line x1=\"300.0\" y1=\"489\" x2=\"300.0\" y2=\"462\" stroke=\"blue\" stroke-width=\"2\" marker-end=\"url(#arrow)\"><title>Weights from input2 to hidden2\n hidden2/kernel has shape (1, 10)\n hidden2/bias has shape (10,)</title></line><rect x=\"274.0\" y=\"489\" width=\"52\" height=\"52\" style=\"fill:none;stroke:blue;stroke-width:2\"/><image id=\"XOR2_input2_7\" class=\"XOR2_input2\" x=\"275.0\" y=\"490\" height=\"50\" width=\"50\" preserveAspectRatio=\"none\" href=\"data:image/gif;base64,R0lGODdhAQABAIAAAH9/fwAAACwAAAAAAQABAAAIBQABrAsIADs=\"><title>Layer: input2 (input)\n shape = (1,)\n Keras class = Input</title></image><text x=\"330.0\" y=\"517.0\" font-family=\"monospace\" font-size=\"12\">input2</text></svg>"
      }
     },
     "dcdf6894d6b5437eb87a902c2a94411e": {
      "model_module": "jupyter-js-widgets",
      "model_module_version": "~2.1.4",
      "model_name": "LayoutModel",
      "state": {
       "_model_module_version": "~2.1.4",
       "_view_module_version": "~2.1.4"
      }
     },
     "dd95f9d4145342358737ead1cc114d09": {
      "model_module": "jupyter-js-widgets",
      "model_module_version": "~2.1.4",
      "model_name": "ButtonModel",
      "state": {
       "_model_module_version": "~2.1.4",
       "_view_module_version": "~2.1.4",
       "icon": "backward",
       "layout": "IPY_MODEL_df6bbccb89bd495cab164ad42911bf2a",
       "style": "IPY_MODEL_895f5329d3a4441aabe3b0f79781d0a5"
      }
     },
     "df123b2e24b24460aaf755dd627f9a1f": {
      "model_module": "jupyter-js-widgets",
      "model_module_version": "~2.1.4",
      "model_name": "SelectModel",
      "state": {
       "_model_module_version": "~2.1.4",
       "_options_labels": [
        "Test",
        "Train"
       ],
       "_view_module_version": "~2.1.4",
       "description": "Dataset:",
       "layout": "IPY_MODEL_03c76a8843f24f81bc3856c3af94ebe3",
       "value": "Train"
      }
     },
     "df6bbccb89bd495cab164ad42911bf2a": {
      "model_module": "jupyter-js-widgets",
      "model_module_version": "~2.1.4",
      "model_name": "LayoutModel",
      "state": {
       "_model_module_version": "~2.1.4",
       "_view_module_version": "~2.1.4",
       "width": "100%"
      }
     },
     "dfa3926ca7384f15aef0c4a95b8d5149": {
      "model_module": "jupyter-js-widgets",
      "model_module_version": "~2.1.4",
      "model_name": "LayoutModel",
      "state": {
       "_model_module_version": "~2.1.4",
       "_view_module_version": "~2.1.4",
       "width": "100%"
      }
     },
     "dfa8fa422f6f4c7eb11598bee31603ac": {
      "model_module": "jupyter-js-widgets",
      "model_module_version": "~2.1.4",
      "model_name": "LayoutModel",
      "state": {
       "_model_module_version": "~2.1.4",
       "_view_module_version": "~2.1.4"
      }
     },
     "dfe49e594a5641d6bd4b1a04f083ed70": {
      "model_module": "jupyter-js-widgets",
      "model_module_version": "~2.1.4",
      "model_name": "LayoutModel",
      "state": {
       "_model_module_version": "~2.1.4",
       "_view_module_version": "~2.1.4",
       "width": "100%"
      }
     },
     "e0f2f123df414b3fb800529843cec03b": {
      "model_module": "jupyter-js-widgets",
      "model_module_version": "~2.1.4",
      "model_name": "LayoutModel",
      "state": {
       "_model_module_version": "~2.1.4",
       "_view_module_version": "~2.1.4",
       "width": "100%"
      }
     },
     "e1542e46310f473f82b6da29d76f1932": {
      "model_module": "jupyter-js-widgets",
      "model_module_version": "~2.1.4",
      "model_name": "LayoutModel",
      "state": {
       "_model_module_version": "~2.1.4",
       "_view_module_version": "~2.1.4",
       "width": "100%"
      }
     },
     "e1a601c188d8426891381873598b2b0c": {
      "model_module": "jupyter-js-widgets",
      "model_module_version": "~2.1.4",
      "model_name": "LayoutModel",
      "state": {
       "_model_module_version": "~2.1.4",
       "_view_module_version": "~2.1.4",
       "width": "100%"
      }
     },
     "e1a6ace22a604e28b0042910c1317e27": {
      "model_module": "jupyter-js-widgets",
      "model_module_version": "~2.1.4",
      "model_name": "VBoxModel",
      "state": {
       "_model_module_version": "~2.1.4",
       "_view_module_version": "~2.1.4",
       "layout": "IPY_MODEL_764c31a0d2c24ad0853c444bbef5c851"
      }
     },
     "e2ff3fe017a642d8bfc4e2b61d6a4ac9": {
      "model_module": "jupyter-js-widgets",
      "model_module_version": "~2.1.4",
      "model_name": "ButtonStyleModel",
      "state": {
       "_model_module_version": "~2.1.4",
       "_view_module_version": "~2.1.4"
      }
     },
     "e3e8791cefb344858e1f03587368e194": {
      "model_module": "jupyter-js-widgets",
      "model_module_version": "~2.1.4",
      "model_name": "HBoxModel",
      "state": {
       "_model_module_version": "~2.1.4",
       "_view_module_version": "~2.1.4",
       "children": [
        "IPY_MODEL_ff793a65f9a04b119c77602447d9ce14",
        "IPY_MODEL_10c7f6ee033140eca457474ad7a87adf",
        "IPY_MODEL_61d2481a4c544aa8b0a0d737531a530f",
        "IPY_MODEL_031827130abb402f9269dfaf6823de84",
        "IPY_MODEL_705c77bf77d6420e9d9b24207d955f7b"
       ],
       "layout": "IPY_MODEL_30ffa27159274bbfad493d9dc0c8aa1c"
      }
     },
     "e4515cc695b640bba4ac7aa7edd2bad8": {
      "model_module": "jupyter-js-widgets",
      "model_module_version": "~2.1.4",
      "model_name": "ButtonStyleModel",
      "state": {
       "_model_module_version": "~2.1.4",
       "_view_module_version": "~2.1.4"
      }
     },
     "e4b05541f7d84d6aadedd9b9854dbddd": {
      "model_module": "jupyter-js-widgets",
      "model_module_version": "~2.1.4",
      "model_name": "ButtonStyleModel",
      "state": {
       "_model_module_version": "~2.1.4",
       "_view_module_version": "~2.1.4"
      }
     },
     "e7086d669c6448dfa15efddd4937f967": {
      "model_module": "jupyter-js-widgets",
      "model_module_version": "~2.1.4",
      "model_name": "VBoxModel",
      "state": {
       "_model_module_version": "~2.1.4",
       "_view_module_version": "~2.1.4",
       "layout": "IPY_MODEL_64173c618e124700abb04e775efe4d0d"
      }
     },
     "e747cdd9a95d4a18b76ba197cc4b5f09": {
      "model_module": "jupyter-js-widgets",
      "model_module_version": "~2.1.4",
      "model_name": "ButtonModel",
      "state": {
       "_model_module_version": "~2.1.4",
       "_view_module_version": "~2.1.4",
       "description": "Turn on webcamera",
       "layout": "IPY_MODEL_08426ac25b224897aadebc0c386dffb8",
       "style": "IPY_MODEL_00e4e65970df4945970bddaf0e79f6b8"
      }
     },
     "e76ec6a9aa0545acb4a6fa7ef38efd09": {
      "model_module": "jupyter-js-widgets",
      "model_module_version": "~2.1.4",
      "model_name": "ButtonModel",
      "state": {
       "_model_module_version": "~2.1.4",
       "_view_module_version": "~2.1.4",
       "icon": "fast-backward",
       "layout": "IPY_MODEL_e0f2f123df414b3fb800529843cec03b",
       "style": "IPY_MODEL_35fae83620bf42f4a941a7ff20c2c655"
      }
     },
     "e7d3cb49787a4e5190a3b715281d6148": {
      "model_module": "jupyter-js-widgets",
      "model_module_version": "~2.1.4",
      "model_name": "TabModel",
      "state": {
       "_model_module_version": "~2.1.4",
       "_titles": {
        "0": "Network",
        "1": "Graphs",
        "2": "Analysis",
        "3": "Camera",
        "4": "Help"
       },
       "_view_module_version": "~2.1.4",
       "children": [
        "IPY_MODEL_2c1b9b22c9fe48f4aca98da373fb6cd9",
        "IPY_MODEL_acae6e37f44541fb9d2606773eae9acc",
        "IPY_MODEL_9e46fbff0805469e951140e520575817",
        "IPY_MODEL_b4f6d12942ef4159bdaa25e9ca1e59ff",
        "IPY_MODEL_257c65496184495cb449ef0544e8d443"
       ],
       "layout": "IPY_MODEL_4c41875340bb46bbbba3755953feccd1"
      }
     },
     "e81f86af4b16468dbf235acb8116ec36": {
      "model_module": "jupyter-js-widgets",
      "model_module_version": "~2.1.4",
      "model_name": "LayoutModel",
      "state": {
       "_model_module_version": "~2.1.4",
       "_view_module_version": "~2.1.4"
      }
     },
     "e900d94dcbd7431c83e98475c67c229b": {
      "model_module": "jupyter-js-widgets",
      "model_module_version": "~2.1.4",
      "model_name": "VBoxModel",
      "state": {
       "_model_module_version": "~2.1.4",
       "_view_module_version": "~2.1.4",
       "children": [
        "IPY_MODEL_24002969d75944bb830dadd93ba3a541"
       ],
       "layout": "IPY_MODEL_6f913feb48634132ace340c1cc4cdea4"
      }
     },
     "e970455b50d94aa29f0d38c1ad6e07be": {
      "model_module": "jupyter-js-widgets",
      "model_module_version": "~2.1.4",
      "model_name": "ButtonStyleModel",
      "state": {
       "_model_module_version": "~2.1.4",
       "_view_module_version": "~2.1.4"
      }
     },
     "e9d585b458f0425e9e268d2fda2ca087": {
      "model_module": "jupyter-js-widgets",
      "model_module_version": "~2.1.4",
      "model_name": "ButtonModel",
      "state": {
       "_model_module_version": "~2.1.4",
       "_view_module_version": "~2.1.4",
       "icon": "fast-backward",
       "layout": "IPY_MODEL_6eb3ba38633f43b1b3061f4f45bf4bb9",
       "style": "IPY_MODEL_1e7db0b721b442e0abd644cd5647b147"
      }
     },
     "ea9c422207fa410881be940afcc5a45c": {
      "model_module": "jupyter-js-widgets",
      "model_module_version": "~2.1.4",
      "model_name": "ButtonModel",
      "state": {
       "_model_module_version": "~2.1.4",
       "_view_module_version": "~2.1.4",
       "icon": "forward",
       "layout": "IPY_MODEL_2f060ba0c700472782c5c2a5f0f47b52",
       "style": "IPY_MODEL_6a8196c2c4434e4686744c843adf6bc7"
      }
     },
     "ebcee70bbab74929a3b4d4ef2682a596": {
      "model_module": "jupyter-js-widgets",
      "model_module_version": "~2.1.4",
      "model_name": "LayoutModel",
      "state": {
       "_model_module_version": "~2.1.4",
       "_view_module_version": "~2.1.4",
       "width": "100%"
      }
     },
     "eccf1b0cbeae463ba62eb5af4039efc0": {
      "model_module": "jupyter-js-widgets",
      "model_module_version": "~2.1.4",
      "model_name": "LayoutModel",
      "state": {
       "_model_module_version": "~2.1.4",
       "_view_module_version": "~2.1.4"
      }
     },
     "ed5edf0a3a8a44af82aed8558a7df305": {
      "model_module": "jupyter-js-widgets",
      "model_module_version": "~2.1.4",
      "model_name": "LayoutModel",
      "state": {
       "_model_module_version": "~2.1.4",
       "_view_module_version": "~2.1.4",
       "width": "100%"
      }
     },
     "ed838a5f6ead44fd95109e3d371420b6": {
      "model_module": "jupyter-js-widgets",
      "model_module_version": "~2.1.4",
      "model_name": "TabModel",
      "state": {
       "_model_module_version": "~2.1.4",
       "_titles": {
        "0": "Network",
        "1": "Graphs",
        "2": "Analysis",
        "3": "Camera",
        "4": "Help"
       },
       "_view_module_version": "~2.1.4",
       "children": [
        "IPY_MODEL_4cdf1c06710f44759d1aa0689e778ca1",
        "IPY_MODEL_015fef175ed541219f8327bc9e7be02f",
        "IPY_MODEL_cad00774a6664def806929a2e2a7cc68",
        "IPY_MODEL_f0776cd5503542a39ddc1e148a5c0d2c",
        "IPY_MODEL_ba2601b0ab2c4eb08d823db75bf280a8"
       ],
       "layout": "IPY_MODEL_ae7b6f906c334344bbf2a6b9fb97a331",
       "selected_index": 4
      }
     },
     "ee32b0954f5c4330879f7365c672b5fd": {
      "model_module": "jupyter-js-widgets",
      "model_module_version": "~2.1.4",
      "model_name": "IntSliderModel",
      "state": {
       "_model_module_version": "~2.1.4",
       "_view_module_version": "~2.1.4",
       "continuous_update": false,
       "description": "Dataset index",
       "layout": "IPY_MODEL_ed5edf0a3a8a44af82aed8558a7df305",
       "max": 0,
       "style": "IPY_MODEL_f0fc3a2f3682435facf2d6b7e8cc0c97"
      }
     },
     "ee339c9526e34e0fb50eed5572b8dc96": {
      "model_module": "jupyter-js-widgets",
      "model_module_version": "~2.1.4",
      "model_name": "LayoutModel",
      "state": {
       "_model_module_version": "~2.1.4",
       "_view_module_version": "~2.1.4",
       "width": "100%"
      }
     },
     "ee3650b2613b4d779465c446a0e1d4a2": {
      "model_module": "jupyter-js-widgets",
      "model_module_version": "~2.1.4",
      "model_name": "HTMLModel",
      "state": {
       "_model_module_version": "~2.1.4",
       "_view_module_version": "~2.1.4",
       "layout": "IPY_MODEL_da009bb01bea4df8a1a8a09edc843e3e",
       "value": "<iframe style=\"width: 800px\" src=\"https://conx.readthedocs.io\" width=\"100%\" height=\"550px\"></frame>"
      }
     },
     "ef4191dc3b7444c2a7db53ec402fdc52": {
      "model_module": "jupyter-js-widgets",
      "model_module_version": "~2.1.4",
      "model_name": "LayoutModel",
      "state": {
       "_model_module_version": "~2.1.4",
       "_view_module_version": "~2.1.4"
      }
     },
     "ef73302ddaa14ba1aa33567d525b198a": {
      "model_module": "jupyter-js-widgets",
      "model_module_version": "~2.1.4",
      "model_name": "LayoutModel",
      "state": {
       "_model_module_version": "~2.1.4",
       "_view_module_version": "~2.1.4",
       "width": "100%"
      }
     },
     "efb86a53ee1741938207d3685a925456": {
      "model_module": "jupyter-js-widgets",
      "model_module_version": "~2.1.4",
      "model_name": "HTMLModel",
      "state": {
       "_model_module_version": "~2.1.4",
       "_view_module_version": "~2.1.4",
       "layout": "IPY_MODEL_6006b413fe8043969cebd127a3ab4188",
       "value": "\n        <svg id='XOR2' xmlns='http://www.w3.org/2000/svg' width=\"450\" height=\"615\" image-rendering=\"pixelated\">\n    <defs>\n        <marker id=\"arrow\" markerWidth=\"10\" markerHeight=\"10\" refX=\"9\" refY=\"3\" orient=\"auto\" markerUnits=\"strokeWidth\">\n          <path d=\"M0,0 L0,6 L9,3 z\" fill=\"blue\" />\n        </marker>\n    </defs>\n<rect x=\"49.0\" y=\"24\" width=\"102\" height=\"102\" style=\"fill:none;stroke:blue;stroke-width:2\"/><image id=\"XOR2_output1_targets_1\" class=\"XOR2_output1_targets\" x=\"50.0\" y=\"25\" height=\"100\" width=\"100\" preserveAspectRatio=\"none\" href=\"data:image/gif;base64,R0lGODdhAQABAIAAAFNTUwAAACwAAAAAAQABAAAIBQABrAoIADs=\"><title>Layer: output1 (output)\n shape = (1,)\n Keras class = Dense\n activation = sigmoid</title></image><text x=\"155.0\" y=\"77.0\" font-family=\"monospace\" font-size=\"12\">targets</text><rect x=\"174.0\" y=\"24\" width=\"52\" height=\"52\" style=\"fill:none;stroke:blue;stroke-width:2\"/><image id=\"XOR2_output2_targets_1\" class=\"XOR2_output2_targets\" x=\"175.0\" y=\"25\" height=\"50\" width=\"50\" preserveAspectRatio=\"none\" href=\"data:image/gif;base64,R0lGODdhAQABAIAAAIqKigAAACwAAAAAAQABAAAIBQABrAoIADs=\"><title>Layer: output2 (output)\n shape = (1,)\n Keras class = Dense\n activation = sigmoid</title></image><text x=\"230.0\" y=\"52.0\" font-family=\"monospace\" font-size=\"12\">targets</text><rect x=\"49.0\" y=\"134\" width=\"102\" height=\"102\" style=\"fill:none;stroke:blue;stroke-width:2\"/><image id=\"XOR2_output1_errors_1\" class=\"XOR2_output1_errors\" x=\"50.0\" y=\"135\" height=\"100\" width=\"100\" preserveAspectRatio=\"none\" href=\"data:image/gif;base64,R0lGODdhAQABAIAAAFNTUwAAACwAAAAAAQABAAAIBQABrAoIADs=\"><title>Layer: output1 (output)\n shape = (1,)\n Keras class = Dense\n activation = sigmoid</title></image><text x=\"155.0\" y=\"187.0\" font-family=\"monospace\" font-size=\"12\">errors</text><rect x=\"174.0\" y=\"134\" width=\"52\" height=\"52\" style=\"fill:none;stroke:blue;stroke-width:2\"/><image id=\"XOR2_output2_errors_1\" class=\"XOR2_output2_errors\" x=\"175.0\" y=\"135\" height=\"50\" width=\"50\" preserveAspectRatio=\"none\" href=\"data:image/gif;base64,R0lGODdhAQABAIAAAIqKigAAACwAAAAAAQABAAAIBQABrAoIADs=\"><title>Layer: output2 (output)\n shape = (1,)\n Keras class = Dense\n activation = sigmoid</title></image><text x=\"230.0\" y=\"162.0\" font-family=\"monospace\" font-size=\"12\">errors</text><rect x=\"49.0\" y=\"249\" width=\"102\" height=\"102\" style=\"fill:none;stroke:blue;stroke-width:2\"/><image id=\"XOR2_output1_1\" class=\"XOR2_output1\" x=\"50.0\" y=\"250\" height=\"100\" width=\"100\" preserveAspectRatio=\"none\" href=\"data:image/gif;base64,R0lGODdhAQABAIAAAFNTUwAAACwAAAAAAQABAAAIBQABrAoIADs=\"><title>Layer: output1 (output)\n shape = (1,)\n Keras class = Dense\n activation = sigmoid</title></image><text x=\"155.0\" y=\"302.0\" font-family=\"monospace\" font-size=\"12\">output1</text><rect x=\"174.0\" y=\"249\" width=\"52\" height=\"52\" style=\"fill:none;stroke:blue;stroke-width:2\"/><image id=\"XOR2_output2_2\" class=\"XOR2_output2\" x=\"175.0\" y=\"250\" height=\"50\" width=\"50\" preserveAspectRatio=\"none\" href=\"data:image/gif;base64,R0lGODdhAQABAIAAAIqKigAAACwAAAAAAQABAAAIBQABrAoIADs=\"><title>Layer: output2 (output)\n shape = (1,)\n Keras class = Dense\n activation = sigmoid</title></image><text x=\"230.0\" y=\"277.0\" font-family=\"monospace\" font-size=\"12\">output2</text><rect x=\"100.0\" y=\"352\" width=\"100.0\" height=\"27\" style=\"fill:white;stroke:none\"><title>Weights from shared-hidden to output1\n output1/kernel:0 has shape (5, 1)\n output1/bias:0 has shape (1,)</title></rect><rect x=\"190.0\" y=\"302\" width=\"20.0\" height=\"77\" style=\"fill:white;stroke:none\"><title>Weights from shared-hidden to output2\n output2/kernel:0 has shape (5, 1)\n output2/bias:0 has shape (1,)</title></rect><line x1=\"200.0\" y1=\"379\" x2=\"100.0\" y2=\"352\" stroke=\"blue\" stroke-width=\"2\" marker-end=\"url(#arrow)\"><title>Weights from shared-hidden to output1\n output1/kernel:0 has shape (5, 1)\n output1/bias:0 has shape (1,)</title></line><line x1=\"200.0\" y1=\"379\" x2=\"200.0\" y2=\"302\" stroke=\"blue\" stroke-width=\"2\" marker-end=\"url(#arrow)\"><title>Weights from shared-hidden to output2\n output2/kernel:0 has shape (5, 1)\n output2/bias:0 has shape (1,)</title></line><rect x=\"174.0\" y=\"379\" width=\"52\" height=\"27\" style=\"fill:none;stroke:blue;stroke-width:2\"/><image id=\"XOR2_shared-hidden_3\" class=\"XOR2_shared-hidden\" x=\"175.0\" y=\"380\" height=\"25\" width=\"50\" preserveAspectRatio=\"none\" href=\"data:image/gif;base64,R0lGODdhBQABAIIAAE1NTXd3d5CQkKGhoaysrAAAAAAAAAAAACwAAAAABQABAAAICAABEAgwQEBAADs=\"><title>Layer: shared-hidden (hidden)\n shape = (5,)\n Keras class = Dense\n activation = sigmoid</title></image><text x=\"230.0\" y=\"394.5\" font-family=\"monospace\" font-size=\"12\">shared-hidden</text><rect x=\"116.66666666666667\" y=\"407\" width=\"83.33333333333333\" height=\"27\" style=\"fill:white;stroke:none\"><title>Weights from hidden1 to shared-hidden\n shared-hidden/kernel:0 has shape (20, 5)\n shared-hidden/bias:0 has shape (5,)</title></rect><line x1=\"116.66666666666667\" y1=\"434\" x2=\"200.0\" y2=\"407\" stroke=\"blue\" stroke-width=\"2\" marker-end=\"url(#arrow)\"><title>Weights from hidden1 to shared-hidden\n shared-hidden/kernel:0 has shape (20, 5)\n shared-hidden/bias:0 has shape (5,)</title></line><rect x=\"90.66666666666667\" y=\"434\" width=\"52\" height=\"27\" style=\"fill:none;stroke:blue;stroke-width:2\"/><image id=\"XOR2_hidden1_4\" class=\"XOR2_hidden1\" x=\"91.66666666666667\" y=\"435\" height=\"25\" width=\"50\" preserveAspectRatio=\"none\" href=\"data:image/gif;base64,R0lGODdhCgABAIAAAH9/fwAAACwAAAAACgABAAAIBwABCBxIMCAAOw==\"><title>Layer: hidden1 (hidden)\n shape = (10,)\n Keras class = Dense\n activation = sigmoid</title></image><text x=\"146.66666666666669\" y=\"449.5\" font-family=\"monospace\" font-size=\"12\">hidden1</text><rect x=\"200.0\" y=\"407\" width=\"33.33333333333334\" height=\"27\" style=\"fill:white;stroke:none\"><title>Weights from hidden2 to shared-hidden\n shared-hidden/kernel:0 has shape (20, 5)\n shared-hidden/bias:0 has shape (5,)</title></rect><line x1=\"233.33333333333334\" y1=\"434\" x2=\"200.0\" y2=\"407\" stroke=\"blue\" stroke-width=\"2\" marker-end=\"url(#arrow)\"><title>Weights from hidden2 to shared-hidden\n shared-hidden/kernel:0 has shape (20, 5)\n shared-hidden/bias:0 has shape (5,)</title></line><rect x=\"207.33333333333334\" y=\"434\" width=\"52\" height=\"27\" style=\"fill:none;stroke:blue;stroke-width:2\"/><image id=\"XOR2_hidden2_5\" class=\"XOR2_hidden2\" x=\"208.33333333333334\" y=\"435\" height=\"25\" width=\"50\" preserveAspectRatio=\"none\" href=\"data:image/gif;base64,R0lGODdhCgABAIAAAH9/fwAAACwAAAAACgABAAAIBwABCBxIMCAAOw==\"><title>Layer: hidden2 (hidden)\n shape = (10,)\n Keras class = Dense\n activation = sigmoid</title></image><text x=\"263.33333333333337\" y=\"449.5\" font-family=\"monospace\" font-size=\"12\">hidden2</text><rect x=\"90.0\" y=\"462\" width=\"36.66666666666667\" height=\"27\" style=\"fill:white;stroke:none\"><title>Weights from input1 to hidden1\n hidden1/kernel:0 has shape (1, 10)\n hidden1/bias:0 has shape (10,)</title></rect><line x1=\"100.0\" y1=\"489\" x2=\"116.66666666666667\" y2=\"462\" stroke=\"blue\" stroke-width=\"2\" marker-end=\"url(#arrow)\"><title>Weights from input1 to hidden1\n hidden1/kernel:0 has shape (1, 10)\n hidden1/bias:0 has shape (10,)</title></line><rect x=\"49.0\" y=\"489\" width=\"102\" height=\"102\" style=\"fill:none;stroke:blue;stroke-width:2\"/><image id=\"XOR2_input1_6\" class=\"XOR2_input1\" x=\"50.0\" y=\"490\" height=\"100\" width=\"100\" preserveAspectRatio=\"none\" href=\"data:image/gif;base64,R0lGODdhAQABAIAAAH9/fwAAACwAAAAAAQABAAAIBQABrAoIADs=\"><title>Layer: input1 (input)\n shape = (1,)\n Keras class = Input</title></image><text x=\"155.0\" y=\"542.0\" font-family=\"monospace\" font-size=\"12\">input1</text><rect x=\"200.0\" y=\"462\" width=\"33.33333333333334\" height=\"27\" style=\"fill:white;stroke:none\"><title>Weights from input2 to hidden2\n hidden2/kernel:0 has shape (1, 10)\n hidden2/bias:0 has shape (10,)</title></rect><line x1=\"200.0\" y1=\"489\" x2=\"233.33333333333334\" y2=\"462\" stroke=\"blue\" stroke-width=\"2\" marker-end=\"url(#arrow)\"><title>Weights from input2 to hidden2\n hidden2/kernel:0 has shape (1, 10)\n hidden2/bias:0 has shape (10,)</title></line><rect x=\"174.0\" y=\"489\" width=\"52\" height=\"52\" style=\"fill:none;stroke:blue;stroke-width:2\"/><image id=\"XOR2_input2_7\" class=\"XOR2_input2\" x=\"175.0\" y=\"490\" height=\"50\" width=\"50\" preserveAspectRatio=\"none\" href=\"data:image/gif;base64,R0lGODdhAQABAIAAAH9/fwAAACwAAAAAAQABAAAIBQABrAoIADs=\"><title>Layer: input2 (input)\n shape = (1,)\n Keras class = Input</title></image><text x=\"230.0\" y=\"517.0\" font-family=\"monospace\" font-size=\"12\">input2</text></svg>"
      }
     },
     "efc605b97eeb4062a8ac1463df13e2ca": {
      "model_module": "jupyter-js-widgets",
      "model_module_version": "~2.1.4",
      "model_name": "LayoutModel",
      "state": {
       "_model_module_version": "~2.1.4",
       "_view_module_version": "~2.1.4",
       "width": "100%"
      }
     },
     "efd14758cf50432d9635600b26034fe9": {
      "model_module": "jupyter-js-widgets",
      "model_module_version": "~2.1.4",
      "model_name": "HBoxModel",
      "state": {
       "_model_module_version": "~2.1.4",
       "_view_module_version": "~2.1.4",
       "children": [
        "IPY_MODEL_a2eebf220136415981511635cbdf3e2d",
        "IPY_MODEL_84a1ab4f5b674f76984319c6282c7ea2",
        "IPY_MODEL_5d112117f50c49cd9bbf0e4a1ce05f69",
        "IPY_MODEL_c8f7ff5cd99a4e718b2ef63c00f885c8",
        "IPY_MODEL_f906f73b46da4ed7b443fb9e3260a49f"
       ],
       "layout": "IPY_MODEL_6aa8569e8c7345d38907373f319f1a90"
      }
     },
     "f01fe165dedf433fa6cdea351a488f05": {
      "model_module": "jupyter-js-widgets",
      "model_module_version": "~2.1.4",
      "model_name": "LayoutModel",
      "state": {
       "_model_module_version": "~2.1.4",
       "_view_module_version": "~2.1.4",
       "width": "100%"
      }
     },
     "f065b7f19ce94993a4ecaef13a6a48a8": {
      "model_module": "jupyter-js-widgets",
      "model_module_version": "~2.1.4",
      "model_name": "LayoutModel",
      "state": {
       "_model_module_version": "~2.1.4",
       "_view_module_version": "~2.1.4",
       "width": "100%"
      }
     },
     "f0776cd5503542a39ddc1e148a5c0d2c": {
      "model_module": "jupyter-js-widgets",
      "model_module_version": "~2.1.4",
      "model_name": "VBoxModel",
      "state": {
       "_model_module_version": "~2.1.4",
       "_view_module_version": "~2.1.4",
       "children": [
        "IPY_MODEL_79702b07c1d44e86986421876c3699b8"
       ],
       "layout": "IPY_MODEL_0e3f22eac7e34504ba952959cd9503db"
      }
     },
     "f088db690cf446b799289ca79d07ac93": {
      "model_module": "jupyter-js-widgets",
      "model_module_version": "~2.1.4",
      "model_name": "ButtonStyleModel",
      "state": {
       "_model_module_version": "~2.1.4",
       "_view_module_version": "~2.1.4"
      }
     },
     "f0fc3a2f3682435facf2d6b7e8cc0c97": {
      "model_module": "jupyter-js-widgets",
      "model_module_version": "~2.1.4",
      "model_name": "SliderStyleModel",
      "state": {
       "_model_module_version": "~2.1.4",
       "_view_module_version": "~2.1.4"
      }
     },
     "f1330271173143ba9a75b9de3aa47d34": {
      "model_module": "jupyter-js-widgets",
      "model_module_version": "~2.1.4",
      "model_name": "LayoutModel",
      "state": {
       "_model_module_version": "~2.1.4",
       "_view_module_version": "~2.1.4",
       "width": "100%"
      }
     },
     "f14cb92aaa6246b295824441ca21d8f4": {
      "model_module": "jupyter-js-widgets",
      "model_module_version": "~2.1.4",
      "model_name": "VBoxModel",
      "state": {
       "_model_module_version": "~2.1.4",
       "_view_module_version": "~2.1.4",
       "layout": "IPY_MODEL_66fe94f392a546f18eca623909b7702e"
      }
     },
     "f1c49018b50f4ee0ae55eba26896294c": {
      "model_module": "jupyter-js-widgets",
      "model_module_version": "~2.1.4",
      "model_name": "ButtonModel",
      "state": {
       "_model_module_version": "~2.1.4",
       "_view_module_version": "~2.1.4",
       "icon": "forward",
       "layout": "IPY_MODEL_a0c9e8248f8640d5950a50e2ccefce50",
       "style": "IPY_MODEL_0328bbe2b29349bd8d7fc13adfa4aa84"
      }
     },
     "f20373a2dcd540c7b9a83cbad3717f9c": {
      "model_module": "jupyter-js-widgets",
      "model_module_version": "~2.1.4",
      "model_name": "LayoutModel",
      "state": {
       "_model_module_version": "~2.1.4",
       "_view_module_version": "~2.1.4"
      }
     },
     "f219e7d73fee4aae9643ff2677cda080": {
      "model_module": "jupyter-js-widgets",
      "model_module_version": "~2.1.4",
      "model_name": "ButtonStyleModel",
      "state": {
       "_model_module_version": "~2.1.4",
       "_view_module_version": "~2.1.4"
      }
     },
     "f36f0a37a7a54066ae6016fa04aa3cd6": {
      "model_module": "jupyter-js-widgets",
      "model_module_version": "~2.1.4",
      "model_name": "ButtonStyleModel",
      "state": {
       "_model_module_version": "~2.1.4",
       "_view_module_version": "~2.1.4"
      }
     },
     "f3c959215f144e96b1f1e9f6b0b88628": {
      "model_module": "jupyter-js-widgets",
      "model_module_version": "~2.1.4",
      "model_name": "HBoxModel",
      "state": {
       "_model_module_version": "~2.1.4",
       "_view_module_version": "~2.1.4",
       "children": [
        "IPY_MODEL_09067e6c87d04ec0ac893260826c9145",
        "IPY_MODEL_2c1e9be6713f4fe4af64e88dbcf60ab9",
        "IPY_MODEL_2daf9cd4dcda4f0faedd5ef277c8f7e1",
        "IPY_MODEL_3c425fa095384b3e9669d058ea20924c",
        "IPY_MODEL_a19d3439922c49539cad4f949238b51d"
       ],
       "layout": "IPY_MODEL_fba351c22b1847cb80c13b90e37b4482"
      }
     },
     "f43f644cc6814b80ac75e94d1933d68a": {
      "model_module": "jupyter-js-widgets",
      "model_module_version": "~2.1.4",
      "model_name": "LayoutModel",
      "state": {
       "_model_module_version": "~2.1.4",
       "_view_module_version": "~2.1.4",
       "width": "100%"
      }
     },
     "f525952b6d2f413c8800c3ae6bdb4828": {
      "model_module": "jupyter-js-widgets",
      "model_module_version": "~2.1.4",
      "model_name": "ButtonStyleModel",
      "state": {
       "_model_module_version": "~2.1.4",
       "_view_module_version": "~2.1.4"
      }
     },
     "f56ae6bcdf19449a9dd369028ba0364a": {
      "model_module": "jupyter-js-widgets",
      "model_module_version": "~2.1.4",
      "model_name": "LayoutModel",
      "state": {
       "_model_module_version": "~2.1.4",
       "_view_module_version": "~2.1.4",
       "width": "100%"
      }
     },
     "f5afa20896b5437d97f6fb75c96b85dc": {
      "model_module": "jupyter-js-widgets",
      "model_module_version": "~2.1.4",
      "model_name": "LayoutModel",
      "state": {
       "_model_module_version": "~2.1.4",
       "_view_module_version": "~2.1.4"
      }
     },
     "f752ac23718c4079bc76b8f726b85a43": {
      "model_module": "jupyter-js-widgets",
      "model_module_version": "~2.1.4",
      "model_name": "ButtonStyleModel",
      "state": {
       "_model_module_version": "~2.1.4",
       "_view_module_version": "~2.1.4"
      }
     },
     "f769de8dbc9d482d87c8b8b1c0507638": {
      "model_module": "jupyter-js-widgets",
      "model_module_version": "~2.1.4",
      "model_name": "ButtonStyleModel",
      "state": {
       "_model_module_version": "~2.1.4",
       "_view_module_version": "~2.1.4"
      }
     },
     "f78f8b9fa3a44d1597f2b041e846a7e2": {
      "model_module": "jupyter-js-widgets",
      "model_module_version": "~2.1.4",
      "model_name": "ButtonModel",
      "state": {
       "_model_module_version": "~2.1.4",
       "_view_module_version": "~2.1.4",
       "icon": "backward",
       "layout": "IPY_MODEL_dfa3926ca7384f15aef0c4a95b8d5149",
       "style": "IPY_MODEL_181cd7ae4a464e4d9cb30998f445d38e"
      }
     },
     "f81c5b7523794d0ba5198e4d5baaabc3": {
      "model_module": "jupyter-js-widgets",
      "model_module_version": "~2.1.4",
      "model_name": "VBoxModel",
      "state": {
       "_model_module_version": "~2.1.4",
       "_view_module_version": "~2.1.4",
       "children": [
        "IPY_MODEL_865a67a955ed46f8af9f4f41bb23b6c0"
       ],
       "layout": "IPY_MODEL_8d9fc680517740be96d27650efde13ef"
      }
     },
     "f8555d5ff7ba4fdf9fba7523d296743f": {
      "model_module": "jupyter-js-widgets",
      "model_module_version": "~2.1.4",
      "model_name": "LayoutModel",
      "state": {
       "_model_module_version": "~2.1.4",
       "_view_module_version": "~2.1.4",
       "width": "100%"
      }
     },
     "f87fad4b38064d209cd0dbd97f90e7a3": {
      "model_module": "jupyter-js-widgets",
      "model_module_version": "~2.1.4",
      "model_name": "TabModel",
      "state": {
       "_model_module_version": "~2.1.4",
       "_titles": {
        "0": "Network",
        "1": "Graphs",
        "2": "Analysis",
        "3": "Camera",
        "4": "Help"
       },
       "_view_module_version": "~2.1.4",
       "children": [
        "IPY_MODEL_4f2334ff5efe4a3a99321e9128fb5e09",
        "IPY_MODEL_8e883a7ce8fc4cfcb59e2f6e83a305c6",
        "IPY_MODEL_2e3339ea8b984cc6989419f4ebc4c175",
        "IPY_MODEL_01ea4c288c86483cbb86c1bf66f0c2ff",
        "IPY_MODEL_ee3650b2613b4d779465c446a0e1d4a2"
       ],
       "layout": "IPY_MODEL_ad2768fdbc814547b1f36f96af821f06"
      }
     },
     "f8e30c4141354f97a1dfc5656333564d": {
      "model_module": "jupyter-js-widgets",
      "model_module_version": "~2.1.4",
      "model_name": "LayoutModel",
      "state": {
       "_model_module_version": "~2.1.4",
       "_view_module_version": "~2.1.4",
       "width": "100%"
      }
     },
     "f906f73b46da4ed7b443fb9e3260a49f": {
      "model_module": "jupyter-js-widgets",
      "model_module_version": "~2.1.4",
      "model_name": "ButtonModel",
      "state": {
       "_model_module_version": "~2.1.4",
       "_view_module_version": "~2.1.4",
       "icon": "fast-forward",
       "layout": "IPY_MODEL_0010423e28de4b03aeba01a30286bb4e",
       "style": "IPY_MODEL_95e9c681b55c47d395c79bc05f9c63b2"
      }
     },
     "f908746304d64e779f9b4cb2ac5ab4c7": {
      "model_module": "jupyter-js-widgets",
      "model_module_version": "~2.1.4",
      "model_name": "ButtonStyleModel",
      "state": {
       "_model_module_version": "~2.1.4",
       "_view_module_version": "~2.1.4"
      }
     },
     "fa961c1ae5e6482995b50085a27624dd": {
      "model_module": "jupyter-js-widgets",
      "model_module_version": "~2.1.4",
      "model_name": "ButtonModel",
      "state": {
       "_model_module_version": "~2.1.4",
       "_view_module_version": "~2.1.4",
       "description": "Train",
       "layout": "IPY_MODEL_2a2a7bb1c3bd4d6196497befbca77856",
       "style": "IPY_MODEL_cf846982558b4235bc3a205918f98c0f"
      }
     },
     "fac781eadf3f4514ac48f8c1d3b47d7d": {
      "model_module": "jupyter-js-widgets",
      "model_module_version": "~2.1.4",
      "model_name": "VBoxModel",
      "state": {
       "_model_module_version": "~2.1.4",
       "_view_module_version": "~2.1.4",
       "children": [
        "IPY_MODEL_53472695d3e54a22b5ae7ce2c7a3cdc1",
        "IPY_MODEL_512a7607a01e4dcabdd33d8923d24640",
        "IPY_MODEL_254f1e8e98c344e48ab430cfddcc2fc4"
       ],
       "layout": "IPY_MODEL_8c0c946cc9064be3b6ce73cd64446137"
      }
     },
     "fb22fae16bff41a8a47ee315caa08705": {
      "model_module": "jupyter-js-widgets",
      "model_module_version": "~2.1.4",
      "model_name": "VBoxModel",
      "state": {
       "_model_module_version": "~2.1.4",
       "_view_module_version": "~2.1.4",
       "children": [
        "IPY_MODEL_503ea797362943aab4c25393651ad02e",
        "IPY_MODEL_c21f36b821cf4d96a3d57edb2ba83e02",
        "IPY_MODEL_a6b1484b3e1f48349400c1a95fed81e0"
       ],
       "layout": "IPY_MODEL_b671d13d61ca4ca3b1374cada5c65777"
      }
     },
     "fba351c22b1847cb80c13b90e37b4482": {
      "model_module": "jupyter-js-widgets",
      "model_module_version": "~2.1.4",
      "model_name": "LayoutModel",
      "state": {
       "_model_module_version": "~2.1.4",
       "_view_module_version": "~2.1.4",
       "width": "100%"
      }
     },
     "fbdf476717ab4f02bbe185d68184a8cf": {
      "model_module": "jupyter-js-widgets",
      "model_module_version": "~2.1.4",
      "model_name": "VBoxModel",
      "state": {
       "_model_module_version": "~2.1.4",
       "_view_module_version": "~2.1.4",
       "layout": "IPY_MODEL_964cc95d94a24375bed425919ac9b1f8"
      }
     },
     "fbe2a2b02eeb4035b6a3132451533644": {
      "model_module": "jupyter-js-widgets",
      "model_module_version": "~2.1.4",
      "model_name": "ButtonStyleModel",
      "state": {
       "_model_module_version": "~2.1.4",
       "_view_module_version": "~2.1.4"
      }
     },
     "fd044e22ad9740779edab3c483866a9c": {
      "model_module": "jupyter-js-widgets",
      "model_module_version": "~2.1.4",
      "model_name": "SliderStyleModel",
      "state": {
       "_model_module_version": "~2.1.4",
       "_view_module_version": "~2.1.4"
      }
     },
     "fd89d4294e744cb58417ac6b6cdd29e5": {
      "model_module": "jupyter-js-widgets",
      "model_module_version": "~2.1.4",
      "model_name": "LayoutModel",
      "state": {
       "_model_module_version": "~2.1.4",
       "_view_module_version": "~2.1.4",
       "width": "100%"
      }
     },
     "fd9aff41054d43fe9e2acad5ce9d7fcd": {
      "model_module": "jupyter-js-widgets",
      "model_module_version": "~2.1.4",
      "model_name": "ButtonStyleModel",
      "state": {
       "_model_module_version": "~2.1.4",
       "_view_module_version": "~2.1.4"
      }
     },
     "fdde544ab12c4e93a4529093e217141d": {
      "model_module": "jupyter-js-widgets",
      "model_module_version": "~2.1.4",
      "model_name": "VBoxModel",
      "state": {
       "_model_module_version": "~2.1.4",
       "_view_module_version": "~2.1.4",
       "children": [
        "IPY_MODEL_8db72f3221d5453699719840bbb5aa2c"
       ],
       "layout": "IPY_MODEL_c370c684b60944019d8c3bebabffbd6d"
      }
     },
     "fe642911cf4e4e1f965ef3008eb1bcab": {
      "model_module": "jupyter-js-widgets",
      "model_module_version": "~2.1.4",
      "model_name": "ButtonModel",
      "state": {
       "_model_module_version": "~2.1.4",
       "_view_module_version": "~2.1.4",
       "icon": "backward",
       "layout": "IPY_MODEL_fd89d4294e744cb58417ac6b6cdd29e5",
       "style": "IPY_MODEL_252aac35b50041ff899983f5b4c51ea9"
      }
     },
     "fe9b0226ee9e403294ff0a4c15e546f4": {
      "model_module": "jupyter-js-widgets",
      "model_module_version": "~2.1.4",
      "model_name": "LayoutModel",
      "state": {
       "_model_module_version": "~2.1.4",
       "_view_module_version": "~2.1.4",
       "width": "100%"
      }
     },
     "ff793a65f9a04b119c77602447d9ce14": {
      "model_module": "jupyter-js-widgets",
      "model_module_version": "~2.1.4",
      "model_name": "ButtonModel",
      "state": {
       "_model_module_version": "~2.1.4",
       "_view_module_version": "~2.1.4",
       "icon": "fast-backward",
       "layout": "IPY_MODEL_38aaf767e68c40ffa5b31b291f41e642",
       "style": "IPY_MODEL_e4515cc695b640bba4ac7aa7edd2bad8"
      }
     },
     "ffe01c72e3ca4d67b279c44cc9408e76": {
      "model_module": "jupyter-js-widgets",
      "model_module_version": "~2.1.4",
      "model_name": "ButtonModel",
      "state": {
       "_model_module_version": "~2.1.4",
       "_view_module_version": "~2.1.4",
       "description": "Train",
       "layout": "IPY_MODEL_24798bd9f4034ae88fd65bb22ad0f551",
       "style": "IPY_MODEL_3141788a1c24491fabc12d1d3973a44c"
      }
     }
    },
    "version_major": 1,
    "version_minor": 0
   }
  }
 },
 "nbformat": 4,
 "nbformat_minor": 2
}
