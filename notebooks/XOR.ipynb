{
 "cells": [
  {
   "cell_type": "markdown",
   "metadata": {},
   "source": [
    "# XOR Multiple Inputs/Targets\n",
    "\n",
    "Testing..."
   ]
  },
  {
   "cell_type": "code",
   "execution_count": 1,
   "metadata": {},
   "outputs": [
    {
     "name": "stderr",
     "output_type": "stream",
     "text": [
      "Using Theano backend.\n"
     ]
    }
   ],
   "source": [
    "from conx import Network, Layer, SGD"
   ]
  },
  {
   "cell_type": "code",
   "execution_count": 2,
   "metadata": {
    "collapsed": true
   },
   "outputs": [],
   "source": [
    "net = Network(\"XOR\", 2, 2, 1, activation=\"sigmoid\")\n",
    "net.connect()\n",
    "dataset = [\n",
    "    ([0, 0], [0]),\n",
    "    ([0, 1], [1]),\n",
    "    ([1, 0], [1]),\n",
    "    ([1, 1], [0])\n",
    "]"
   ]
  },
  {
   "cell_type": "code",
   "execution_count": 3,
   "metadata": {},
   "outputs": [
    {
     "name": "stdout",
     "output_type": "stream",
     "text": [
      "Split dataset into:\n",
      "   4 train inputs\n",
      "   0 test inputs\n",
      "Input Summary:\n",
      "   length  : 4\n",
      "   training: 4\n",
      "   testing : 0\n",
      "   shape  : (2,)\n",
      "   range  : (0.0, 1.0)\n",
      "Target Summary:\n",
      "   length  : 4\n",
      "   training: 4\n",
      "   testing : 0\n",
      "   shape  : (1,)\n",
      "   range  : (0.0, 1.0)\n"
     ]
    }
   ],
   "source": [
    "net.set_dataset(dataset)"
   ]
  },
  {
   "cell_type": "code",
   "execution_count": 4,
   "metadata": {},
   "outputs": [
    {
     "data": {
      "text/plain": [
       "[0.0]"
      ]
     },
     "execution_count": 4,
     "metadata": {},
     "output_type": "execute_result"
    }
   ],
   "source": [
    "net.get_target(0)"
   ]
  },
  {
   "cell_type": "code",
   "execution_count": 5,
   "metadata": {
    "collapsed": true
   },
   "outputs": [],
   "source": [
    "net.compile(loss='mean_squared_error',\n",
    "            optimizer=SGD(lr=0.3, momentum=0.9))"
   ]
  },
  {
   "cell_type": "code",
   "execution_count": 6,
   "metadata": {
    "collapsed": true
   },
   "outputs": [],
   "source": [
    "net.config[\"image_maxdim\"] = 50"
   ]
  },
  {
   "cell_type": "code",
   "execution_count": 7,
   "metadata": {},
   "outputs": [
    {
     "data": {
      "application/javascript": [
       "\n",
       "require(['base/js/namespace'], function(Jupyter) {\n",
       "    Jupyter.notebook.kernel.comm_manager.register_target('conx_svg_control', function(comm, msg) {\n",
       "        comm.on_msg(function(msg) {\n",
       "            var data = msg[\"content\"][\"data\"];\n",
       "            var images = document.getElementsByClassName(data[\"class\"]);\n",
       "            for (var i = 0; i < images.length; i++) {\n",
       "                images[i].setAttributeNS(null, \"href\", data[\"href\"]);\n",
       "            }\n",
       "        });\n",
       "    });\n",
       "});\n"
      ],
      "text/plain": [
       "<IPython.core.display.Javascript object>"
      ]
     },
     "metadata": {},
     "output_type": "display_data"
    },
    {
     "data": {
      "application/vnd.jupyter.widget-view+json": {
       "model_id": "4d9de99e8ec44752b9bacba094699ea8"
      }
     },
     "metadata": {},
     "output_type": "display_data"
    }
   ],
   "source": [
    "net.build_widget()"
   ]
  },
  {
   "cell_type": "code",
   "execution_count": 8,
   "metadata": {},
   "outputs": [
    {
     "name": "stdout",
     "output_type": "stream",
     "text": [
      "Training...\n",
      "Epoch #   25 | train error 0.25236 | train accuracy 0.50000 | validate% 0.00000\n",
      "Epoch #   50 | train error 0.24971 | train accuracy 0.50000 | validate% 0.00000\n",
      "Epoch #   75 | train error 0.24854 | train accuracy 0.50000 | validate% 0.00000\n",
      "Epoch #  100 | train error 0.24323 | train accuracy 0.50000 | validate% 0.00000\n",
      "Epoch #  125 | train error 0.22552 | train accuracy 0.75000 | validate% 0.00000\n",
      "Epoch #  150 | train error 0.19000 | train accuracy 0.75000 | validate% 0.00000\n",
      "Epoch #  175 | train error 0.15940 | train accuracy 0.75000 | validate% 0.00000\n",
      "Epoch #  200 | train error 0.14461 | train accuracy 0.75000 | validate% 0.00000\n",
      "Epoch #  225 | train error 0.13785 | train accuracy 0.75000 | validate% 0.00000\n",
      "Epoch #  250 | train error 0.13435 | train accuracy 0.75000 | validate% 0.25000\n",
      "Epoch #  275 | train error 0.13227 | train accuracy 0.75000 | validate% 0.50000\n",
      "Epoch #  300 | train error 0.13090 | train accuracy 0.50000 | validate% 0.50000\n",
      "Epoch #  325 | train error 0.12995 | train accuracy 0.50000 | validate% 0.50000\n",
      "Epoch #  350 | train error 0.12924 | train accuracy 0.50000 | validate% 0.50000\n",
      "Epoch #  375 | train error 0.12870 | train accuracy 0.50000 | validate% 0.50000\n",
      "Epoch #  400 | train error 0.12828 | train accuracy 0.50000 | validate% 0.50000\n",
      "Epoch #  425 | train error 0.12793 | train accuracy 0.50000 | validate% 0.50000\n",
      "Epoch #  450 | train error 0.12765 | train accuracy 0.50000 | validate% 0.50000\n",
      "Epoch #  475 | train error 0.12742 | train accuracy 0.50000 | validate% 0.50000\n",
      "Epoch #  500 | train error 0.12722 | train accuracy 0.50000 | validate% 0.50000\n",
      "Epoch #  525 | train error 0.12705 | train accuracy 0.50000 | validate% 0.50000\n",
      "Epoch #  550 | train error 0.12690 | train accuracy 0.50000 | validate% 0.50000\n",
      "Epoch #  575 | train error 0.12677 | train accuracy 0.50000 | validate% 0.50000\n",
      "Epoch #  600 | train error 0.12666 | train accuracy 0.50000 | validate% 0.50000\n",
      "Epoch #  625 | train error 0.12656 | train accuracy 0.50000 | validate% 0.50000\n",
      "Epoch #  650 | train error 0.12647 | train accuracy 0.50000 | validate% 0.50000\n",
      "Epoch #  675 | train error 0.12639 | train accuracy 0.50000 | validate% 0.50000\n",
      "Epoch #  700 | train error 0.12632 | train accuracy 0.50000 | validate% 0.50000\n",
      "Epoch #  725 | train error 0.12625 | train accuracy 0.50000 | validate% 0.50000\n",
      "Epoch #  750 | train error 0.12619 | train accuracy 0.50000 | validate% 0.50000\n",
      "Epoch #  775 | train error 0.12614 | train accuracy 0.50000 | validate% 0.50000\n",
      "Epoch #  800 | train error 0.12609 | train accuracy 0.50000 | validate% 0.50000\n",
      "Epoch #  825 | train error 0.12604 | train accuracy 0.50000 | validate% 0.50000\n",
      "Epoch #  850 | train error 0.12600 | train accuracy 0.50000 | validate% 0.50000\n",
      "Epoch #  875 | train error 0.12596 | train accuracy 0.50000 | validate% 0.50000\n",
      "Epoch #  900 | train error 0.12593 | train accuracy 0.50000 | validate% 0.50000\n",
      "Epoch #  925 | train error 0.12589 | train accuracy 0.50000 | validate% 0.50000\n",
      "Epoch #  950 | train error 0.12586 | train accuracy 0.50000 | validate% 0.50000\n",
      "Epoch #  975 | train error 0.12583 | train accuracy 0.50000 | validate% 0.50000\n",
      "Epoch # 1000 | train error 0.12580 | train accuracy 0.50000 | validate% 0.50000\n",
      "Epoch # 1025 | train error 0.12578 | train accuracy 0.50000 | validate% 0.50000\n",
      "Epoch # 1050 | train error 0.12575 | train accuracy 0.50000 | validate% 0.50000\n",
      "Epoch # 1075 | train error 0.12573 | train accuracy 0.50000 | validate% 0.50000\n",
      "Epoch # 1100 | train error 0.12571 | train accuracy 0.50000 | validate% 0.50000\n",
      "Epoch # 1125 | train error 0.12569 | train accuracy 0.50000 | validate% 0.50000\n",
      "Epoch # 1150 | train error 0.12567 | train accuracy 0.50000 | validate% 0.50000\n",
      "Epoch # 1175 | train error 0.12565 | train accuracy 0.50000 | validate% 0.50000\n",
      "Epoch # 1200 | train error 0.12563 | train accuracy 0.50000 | validate% 0.50000\n",
      "Epoch # 1225 | train error 0.12562 | train accuracy 0.50000 | validate% 0.50000\n",
      "Epoch # 1250 | train error 0.12560 | train accuracy 0.50000 | validate% 0.50000\n",
      "Epoch # 1275 | train error 0.12559 | train accuracy 0.50000 | validate% 0.50000\n",
      "Epoch # 1300 | train error 0.12557 | train accuracy 0.50000 | validate% 0.50000\n",
      "Epoch # 1325 | train error 0.12556 | train accuracy 0.50000 | validate% 0.50000\n",
      "Epoch # 1350 | train error 0.12555 | train accuracy 0.50000 | validate% 0.50000\n",
      "Epoch # 1375 | train error 0.12553 | train accuracy 0.50000 | validate% 0.50000\n",
      "Epoch # 1400 | train error 0.12552 | train accuracy 0.50000 | validate% 0.50000\n",
      "Epoch # 1425 | train error 0.12551 | train accuracy 0.50000 | validate% 0.50000\n",
      "Epoch # 1450 | train error 0.12550 | train accuracy 0.50000 | validate% 0.50000\n",
      "Epoch # 1475 | train error 0.12549 | train accuracy 0.50000 | validate% 0.50000\n",
      "Epoch # 1500 | train error 0.12548 | train accuracy 0.50000 | validate% 0.50000\n",
      "Epoch # 1525 | train error 0.12547 | train accuracy 0.50000 | validate% 0.50000\n",
      "Epoch # 1550 | train error 0.12546 | train accuracy 0.50000 | validate% 0.50000\n",
      "Epoch # 1575 | train error 0.12545 | train accuracy 0.50000 | validate% 0.50000\n",
      "Epoch # 1600 | train error 0.12544 | train accuracy 0.50000 | validate% 0.50000\n",
      "Epoch # 1625 | train error 0.12544 | train accuracy 0.50000 | validate% 0.50000\n",
      "Epoch # 1650 | train error 0.12543 | train accuracy 0.50000 | validate% 0.50000\n",
      "Epoch # 1675 | train error 0.12542 | train accuracy 0.50000 | validate% 0.50000\n",
      "Epoch # 1700 | train error 0.12541 | train accuracy 0.50000 | validate% 0.50000\n",
      "Epoch # 1725 | train error 0.12540 | train accuracy 0.50000 | validate% 0.50000\n",
      "Epoch # 1750 | train error 0.12540 | train accuracy 0.50000 | validate% 0.50000\n",
      "Epoch # 1775 | train error 0.12539 | train accuracy 0.50000 | validate% 0.50000\n",
      "Epoch # 1800 | train error 0.12538 | train accuracy 0.50000 | validate% 0.50000\n",
      "Epoch # 1825 | train error 0.12538 | train accuracy 0.50000 | validate% 0.50000\n",
      "Epoch # 1850 | train error 0.12537 | train accuracy 0.50000 | validate% 0.50000\n",
      "Epoch # 1875 | train error 0.12537 | train accuracy 0.50000 | validate% 0.50000\n",
      "Epoch # 1900 | train error 0.12536 | train accuracy 0.50000 | validate% 0.50000\n",
      "Epoch # 1925 | train error 0.12536 | train accuracy 0.50000 | validate% 0.50000\n",
      "Epoch # 1950 | train error 0.12535 | train accuracy 0.50000 | validate% 0.50000\n",
      "Epoch # 1975 | train error 0.12534 | train accuracy 0.50000 | validate% 0.50000\n",
      "Epoch # 2000 | train error 0.12534 | train accuracy 0.50000 | validate% 0.50000\n",
      "========================================================================\n",
      "Epoch # 2000 | train error 0.12534 | train accuracy 0.50000 | validate% 0.50000\n"
     ]
    }
   ],
   "source": [
    "net.train(epochs=2000, accuracy=1.0, report_rate=25)"
   ]
  },
  {
   "cell_type": "code",
   "execution_count": 9,
   "metadata": {},
   "outputs": [
    {
     "name": "stdout",
     "output_type": "stream",
     "text": [
      "Testing on training dataset...\n",
      "# | inputs | targets | outputs | result\n",
      "---------------------------------------\n",
      "0 | [0.0, 0.0] | [0.0] | [0.0] | correct\n",
      "1 | [0.0, 1.0] | [1.0] | [0.5] | X\n",
      "2 | [1.0, 0.0] | [1.0] | [1.0] | correct\n",
      "3 | [1.0, 1.0] | [0.0] | [0.5] | X\n",
      "Total count: 4\n",
      "Total percentage correct: 0.5\n"
     ]
    }
   ],
   "source": [
    "net.test()"
   ]
  },
  {
   "cell_type": "code",
   "execution_count": 10,
   "metadata": {},
   "outputs": [
    {
     "data": {
      "text/plain": [
       "[0.0, 1.0]"
      ]
     },
     "execution_count": 10,
     "metadata": {},
     "output_type": "execute_result"
    }
   ],
   "source": [
    "net.propagate_to(\"input\", [0, 1])"
   ]
  },
  {
   "cell_type": "code",
   "execution_count": 11,
   "metadata": {},
   "outputs": [
    {
     "data": {
      "text/plain": [
       "[0.51456457]"
      ]
     },
     "execution_count": 11,
     "metadata": {},
     "output_type": "execute_result"
    }
   ],
   "source": [
    "net.propagate([0.5, 0.5])"
   ]
  },
  {
   "cell_type": "code",
   "execution_count": 12,
   "metadata": {},
   "outputs": [
    {
     "data": {
      "text/plain": [
       "[0.9858523607254028, 0.31112492084503174]"
      ]
     },
     "execution_count": 12,
     "metadata": {},
     "output_type": "execute_result"
    }
   ],
   "source": [
    "net.propagate_to(\"hidden\", [1, 0])"
   ]
  },
  {
   "cell_type": "code",
   "execution_count": 13,
   "metadata": {},
   "outputs": [
    {
     "data": {
      "text/plain": [
       "[0.5002371668815613]"
      ]
     },
     "execution_count": 13,
     "metadata": {},
     "output_type": "execute_result"
    }
   ],
   "source": [
    "net.propagate_to(\"output\", [0.25, 0.75])"
   ]
  },
  {
   "cell_type": "code",
   "execution_count": 14,
   "metadata": {},
   "outputs": [
    {
     "data": {
      "text/plain": [
       "[0.25, 0.25]"
      ]
     },
     "execution_count": 14,
     "metadata": {},
     "output_type": "execute_result"
    }
   ],
   "source": [
    "net.propagate_to(\"input\", [0.25, 0.25])"
   ]
  },
  {
   "cell_type": "code",
   "execution_count": 15,
   "metadata": {},
   "outputs": [
    {
     "data": {
      "text/plain": [
       "[0.29428226]"
      ]
     },
     "execution_count": 15,
     "metadata": {},
     "output_type": "execute_result"
    }
   ],
   "source": [
    "net.propagate_from(\"input\", [1.0, 1.0])"
   ]
  },
  {
   "cell_type": "code",
   "execution_count": 16,
   "metadata": {},
   "outputs": [
    {
     "data": {
      "text/plain": [
       "[0.64310867]"
      ]
     },
     "execution_count": 16,
     "metadata": {},
     "output_type": "execute_result"
    }
   ],
   "source": [
    "net.propagate_from(\"hidden\", [1.0, 0.0])"
   ]
  },
  {
   "cell_type": "code",
   "execution_count": 17,
   "metadata": {},
   "outputs": [
    {
     "name": "stdout",
     "output_type": "stream",
     "text": [
      "Testing on training dataset...\n",
      "# | inputs | targets | outputs | result\n",
      "---------------------------------------\n",
      "0 | [0.0, 0.0] | [0.0] | [0.0] | correct\n",
      "1 | [0.0, 1.0] | [1.0] | [0.5] | X\n",
      "2 | [1.0, 0.0] | [1.0] | [1.0] | correct\n",
      "3 | [1.0, 1.0] | [0.0] | [0.5] | X\n",
      "Total count: 4\n",
      "Total percentage correct: 0.5\n"
     ]
    }
   ],
   "source": [
    "net.test()"
   ]
  },
  {
   "cell_type": "code",
   "execution_count": 18,
   "metadata": {
    "collapsed": true
   },
   "outputs": [],
   "source": [
    "from conx import Network, Layer, SGD"
   ]
  },
  {
   "cell_type": "code",
   "execution_count": 19,
   "metadata": {
    "collapsed": true
   },
   "outputs": [],
   "source": [
    "net = Network(\"XOR2\")\n",
    "net.add(Layer(\"input1\", shape=1))\n",
    "net.add(Layer(\"input2\", shape=1))\n",
    "net.add(Layer(\"hidden1\", shape=10, activation=\"sigmoid\"))\n",
    "net.add(Layer(\"hidden2\", shape=10, activation=\"sigmoid\"))\n",
    "net.add(Layer(\"shared-hidden\", shape=5, activation=\"sigmoid\"))\n",
    "net.add(Layer(\"output1\", shape=1, activation=\"sigmoid\"))\n",
    "net.add(Layer(\"output2\", shape=1, activation=\"sigmoid\"))"
   ]
  },
  {
   "cell_type": "code",
   "execution_count": 20,
   "metadata": {},
   "outputs": [
    {
     "data": {
      "text/plain": [
       "<Network name='XOR2'>"
      ]
     },
     "execution_count": 20,
     "metadata": {},
     "output_type": "execute_result"
    }
   ],
   "source": [
    "net"
   ]
  },
  {
   "cell_type": "code",
   "execution_count": 21,
   "metadata": {
    "collapsed": true
   },
   "outputs": [],
   "source": [
    "net.connect(\"input1\", \"hidden1\")\n",
    "net.connect(\"input2\", \"hidden2\")\n",
    "net.connect(\"hidden1\", \"shared-hidden\")\n",
    "net.connect(\"hidden2\", \"shared-hidden\")\n",
    "net.connect(\"shared-hidden\", \"output1\")\n",
    "net.connect(\"shared-hidden\", \"output2\")"
   ]
  },
  {
   "cell_type": "code",
   "execution_count": 22,
   "metadata": {
    "collapsed": true
   },
   "outputs": [],
   "source": [
    "net.set_input_layer_order(\"input1\", \"input2\")\n",
    "net.set_output_layer_order(\"output1\", \"output2\")"
   ]
  },
  {
   "cell_type": "code",
   "execution_count": 23,
   "metadata": {
    "collapsed": true
   },
   "outputs": [],
   "source": [
    "net.compile(loss='mean_squared_error',\n",
    "            optimizer=SGD(lr=0.3, momentum=0.9))"
   ]
  },
  {
   "cell_type": "code",
   "execution_count": 24,
   "metadata": {},
   "outputs": [
    {
     "data": {
      "application/javascript": [
       "\n",
       "require(['base/js/namespace'], function(Jupyter) {\n",
       "    Jupyter.notebook.kernel.comm_manager.register_target('conx_svg_control', function(comm, msg) {\n",
       "        comm.on_msg(function(msg) {\n",
       "            var data = msg[\"content\"][\"data\"];\n",
       "            var images = document.getElementsByClassName(data[\"class\"]);\n",
       "            for (var i = 0; i < images.length; i++) {\n",
       "                images[i].setAttributeNS(null, \"href\", data[\"href\"]);\n",
       "            }\n",
       "        });\n",
       "    });\n",
       "});\n"
      ],
      "text/plain": [
       "<IPython.core.display.Javascript object>"
      ]
     },
     "metadata": {},
     "output_type": "display_data"
    },
    {
     "data": {
      "application/vnd.jupyter.widget-view+json": {
       "model_id": "71528636fddd442883649aac3c97aefc"
      }
     },
     "metadata": {},
     "output_type": "display_data"
    }
   ],
   "source": [
    "net.config[\"image_maxdim\"] = 50\n",
    "net.build_widget()"
   ]
  },
  {
   "cell_type": "code",
   "execution_count": 25,
   "metadata": {
    "collapsed": true
   },
   "outputs": [],
   "source": [
    "dataset = [\n",
    "    ([[0],[0]], [[0],[0]]),\n",
    "    ([[0],[1]], [[1],[1]]),\n",
    "    ([[1],[0]], [[1],[1]]),\n",
    "    ([[1],[1]], [[0],[0]])\n",
    "]"
   ]
  },
  {
   "cell_type": "code",
   "execution_count": 26,
   "metadata": {},
   "outputs": [
    {
     "name": "stdout",
     "output_type": "stream",
     "text": [
      "Split dataset into:\n",
      "   4 train inputs\n",
      "   0 test inputs\n",
      "Input Summary:\n",
      "   length  : 4\n",
      "   training: 4\n",
      "   testing : 0\n",
      "   shape  : [(1,), (1,)]\n",
      "   range  : (0.0, 1.0)\n",
      "Target Summary:\n",
      "   length  : 4\n",
      "   training: 4\n",
      "   testing : 0\n",
      "   shape  : [(1,), (1,)]\n",
      "   range  : (0.0, 1.0)\n"
     ]
    }
   ],
   "source": [
    "net.set_dataset(dataset)"
   ]
  },
  {
   "cell_type": "code",
   "execution_count": 27,
   "metadata": {
    "collapsed": true
   },
   "outputs": [],
   "source": [
    "net.config[\"image_maxdim\"] = 50"
   ]
  },
  {
   "cell_type": "code",
   "execution_count": 28,
   "metadata": {},
   "outputs": [
    {
     "data": {
      "application/javascript": [
       "\n",
       "require(['base/js/namespace'], function(Jupyter) {\n",
       "    Jupyter.notebook.kernel.comm_manager.register_target('conx_svg_control', function(comm, msg) {\n",
       "        comm.on_msg(function(msg) {\n",
       "            var data = msg[\"content\"][\"data\"];\n",
       "            var images = document.getElementsByClassName(data[\"class\"]);\n",
       "            for (var i = 0; i < images.length; i++) {\n",
       "                images[i].setAttributeNS(null, \"href\", data[\"href\"]);\n",
       "            }\n",
       "        });\n",
       "    });\n",
       "});\n"
      ],
      "text/plain": [
       "<IPython.core.display.Javascript object>"
      ]
     },
     "metadata": {},
     "output_type": "display_data"
    },
    {
     "data": {
      "application/vnd.jupyter.widget-view+json": {
       "model_id": "121f0a9660c744cdaa08906ea3c54414"
      }
     },
     "metadata": {},
     "output_type": "display_data"
    }
   ],
   "source": [
    "net.build_widget()"
   ]
  },
  {
   "cell_type": "code",
   "execution_count": 29,
   "metadata": {},
   "outputs": [
    {
     "data": {
      "text/plain": [
       "[[0.69199979], [0.3493453]]"
      ]
     },
     "execution_count": 29,
     "metadata": {},
     "output_type": "execute_result"
    }
   ],
   "source": [
    "net[\"shared-hidden\"].colormap = \"spring\"\n",
    "net.propagate_from(\"hidden1\", [0.0, 1.0] * 5)"
   ]
  },
  {
   "cell_type": "code",
   "execution_count": 30,
   "metadata": {},
   "outputs": [
    {
     "data": {
      "text/plain": [
       "[0.26171306, 0.76274085, 0.265212, 0.11297761, 0.66586345]"
      ]
     },
     "execution_count": 30,
     "metadata": {},
     "output_type": "execute_result"
    }
   ],
   "source": [
    "net[\"shared-hidden\"].colormap = \"hot\"\n",
    "net.propagate_from(\"hidden1\", [1.0, 1.0] * 5, [\"shared-hidden\"])"
   ]
  },
  {
   "cell_type": "code",
   "execution_count": 31,
   "metadata": {},
   "outputs": [
    {
     "data": {
      "text/plain": [
       "[0.5030538439750671]"
      ]
     },
     "execution_count": 31,
     "metadata": {},
     "output_type": "execute_result"
    }
   ],
   "source": [
    "net.propagate_to(\"output1\", [[1], [0]])"
   ]
  },
  {
   "cell_type": "code",
   "execution_count": 32,
   "metadata": {
    "collapsed": true
   },
   "outputs": [],
   "source": [
    "for i in range(20):\n",
    "    (epoch_count, loss, acc, val_acc) = net.train(epochs=100, verbose=0)\n",
    "    for index in range(4):\n",
    "        net.propagate(dataset[index][0])"
   ]
  },
  {
   "cell_type": "code",
   "execution_count": 33,
   "metadata": {},
   "outputs": [
    {
     "name": "stdout",
     "output_type": "stream",
     "text": [
      "Training...\n",
      "========================================================================\n",
      "Epoch # 2001 | train error 0.00151 | train accuracy 2.00000 | validate% 1.00000\n"
     ]
    }
   ],
   "source": [
    "net.train(epochs=2000, accuracy=1.0, report_rate=25)"
   ]
  },
  {
   "cell_type": "code",
   "execution_count": 34,
   "metadata": {},
   "outputs": [
    {
     "data": {
      "text/plain": [
       "[[0.5], [0.5]]"
      ]
     },
     "execution_count": 34,
     "metadata": {},
     "output_type": "execute_result"
    }
   ],
   "source": [
    "net.propagate_from(\"input1\", [0.0])"
   ]
  },
  {
   "cell_type": "code",
   "execution_count": 35,
   "metadata": {},
   "outputs": [
    {
     "data": {
      "text/plain": [
       "[[0.5], [0.5]]"
      ]
     },
     "execution_count": 35,
     "metadata": {},
     "output_type": "execute_result"
    }
   ],
   "source": [
    "net.propagate_from(\"shared-hidden\", [0.0] * 5)"
   ]
  },
  {
   "cell_type": "code",
   "execution_count": 36,
   "metadata": {},
   "outputs": [
    {
     "data": {
      "text/plain": [
       "[0.16668787598609924,\n",
       " 0.13967588543891907,\n",
       " 0.8931041955947876,\n",
       " 0.8223327398300171,\n",
       " 0.19805079698562622,\n",
       " 0.7693232297897339,\n",
       " 0.6709631681442261,\n",
       " 0.8438820838928223,\n",
       " 0.6473685503005981,\n",
       " 0.12924261391162872]"
      ]
     },
     "execution_count": 36,
     "metadata": {},
     "output_type": "execute_result"
    }
   ],
   "source": [
    "net.propagate_to(\"hidden1\", [[1], [1]])"
   ]
  },
  {
   "cell_type": "code",
   "execution_count": 37,
   "metadata": {},
   "outputs": [
    {
     "name": "stdout",
     "output_type": "stream",
     "text": [
      "Testing on training dataset...\n",
      "# | inputs | targets | outputs | result\n",
      "---------------------------------------\n",
      "0 | [[0.0], [0.0]] | [ 0.  0.] | [ 0.02752927  0.0273406 ] | correct\n",
      "1 | [[0.0], [1.0]] | [ 1.  1.] | [ 0.96860015  0.97040695] | correct\n",
      "2 | [[1.0], [0.0]] | [ 1.  1.] | [ 0.97567117  0.97366613] | correct\n",
      "3 | [[1.0], [1.0]] | [ 0.  0.] | [ 0.0262641   0.02651409] | correct\n",
      "Total count: 4\n",
      "Total percentage correct: 1.0\n"
     ]
    }
   ],
   "source": [
    "net.test()"
   ]
  },
  {
   "cell_type": "code",
   "execution_count": 38,
   "metadata": {},
   "outputs": [
    {
     "name": "stdout",
     "output_type": "stream",
     "text": [
      "Slicing dataset 0:2...\n",
      "Input Summary:\n",
      "   length  : 2\n",
      "   training: 2\n",
      "   testing : 0\n",
      "   shape  : [(1,), (1,)]\n",
      "   range  : (0.0, 1.0)\n",
      "Target Summary:\n",
      "   length  : 2\n",
      "   training: 2\n",
      "   testing : 0\n",
      "   shape  : [(1,), (1,)]\n",
      "   range  : (0.0, 1.0)\n"
     ]
    }
   ],
   "source": [
    "net.slice_dataset(2)"
   ]
  },
  {
   "cell_type": "code",
   "execution_count": 39,
   "metadata": {},
   "outputs": [
    {
     "name": "stdout",
     "output_type": "stream",
     "text": [
      "Training...\n",
      "========================================================================\n",
      "Epoch # 2002 | train error 0.00168 | train accuracy 2.00000 | validate% 1.00000\n"
     ]
    }
   ],
   "source": [
    "net.train(epochs=2000, accuracy=1.0, report_rate=25)"
   ]
  },
  {
   "cell_type": "markdown",
   "metadata": {},
   "source": [
    "# Conx model is a Keras Model"
   ]
  },
  {
   "cell_type": "code",
   "execution_count": 40,
   "metadata": {
    "collapsed": true
   },
   "outputs": [],
   "source": [
    "from keras.utils.vis_utils import model_to_dot\n",
    "from IPython.display import HTML"
   ]
  },
  {
   "cell_type": "code",
   "execution_count": 41,
   "metadata": {
    "collapsed": true
   },
   "outputs": [],
   "source": [
    "dot = model_to_dot(net.model, rankdir=\"BT\")"
   ]
  },
  {
   "cell_type": "code",
   "execution_count": 42,
   "metadata": {},
   "outputs": [
    {
     "data": {
      "text/html": [
       "<?xml version=\"1.0\" encoding=\"UTF-8\" standalone=\"no\"?>\n",
       "<!DOCTYPE svg PUBLIC \"-//W3C//DTD SVG 1.1//EN\"\n",
       " \"http://www.w3.org/Graphics/SVG/1.1/DTD/svg11.dtd\">\n",
       "<!-- Generated by graphviz version 2.38.0 (20140413.2041)\n",
       " -->\n",
       "<!-- Title: G Pages: 1 -->\n",
       "<svg width=\"264pt\" height=\"337pt\"\n",
       " viewBox=\"0.00 0.00 264.00 337.00\" xmlns=\"http://www.w3.org/2000/svg\" xmlns:xlink=\"http://www.w3.org/1999/xlink\">\n",
       "<g id=\"graph0\" class=\"graph\" transform=\"scale(1 1) rotate(0) translate(4 333)\">\n",
       "<title>G</title>\n",
       "<polygon fill=\"white\" stroke=\"none\" points=\"-4,4 -4,-333 260,-333 260,4 -4,4\"/>\n",
       "<!-- 140621354335704 -->\n",
       "<g id=\"node1\" class=\"node\"><title>140621354335704</title>\n",
       "<polygon fill=\"none\" stroke=\"black\" points=\"0,-0.5 0,-36.5 119,-36.5 119,-0.5 0,-0.5\"/>\n",
       "<text text-anchor=\"middle\" x=\"59.5\" y=\"-14.8\" font-family=\"Times,serif\" font-size=\"14.00\">input1: InputLayer</text>\n",
       "</g>\n",
       "<!-- 140621354706312 -->\n",
       "<g id=\"node3\" class=\"node\"><title>140621354706312</title>\n",
       "<polygon fill=\"none\" stroke=\"black\" points=\"13,-73.5 13,-109.5 114,-109.5 114,-73.5 13,-73.5\"/>\n",
       "<text text-anchor=\"middle\" x=\"63.5\" y=\"-87.8\" font-family=\"Times,serif\" font-size=\"14.00\">hidden1: Dense</text>\n",
       "</g>\n",
       "<!-- 140621354335704&#45;&gt;140621354706312 -->\n",
       "<g id=\"edge1\" class=\"edge\"><title>140621354335704&#45;&gt;140621354706312</title>\n",
       "<path fill=\"none\" stroke=\"black\" d=\"M60.4683,-36.6871C60.9203,-44.7105 61.4692,-54.4525 61.975,-63.4309\"/>\n",
       "<polygon fill=\"black\" stroke=\"black\" points=\"58.4836,-63.6839 62.5406,-73.4712 65.4725,-63.2901 58.4836,-63.6839\"/>\n",
       "</g>\n",
       "<!-- 140621354680616 -->\n",
       "<g id=\"node2\" class=\"node\"><title>140621354680616</title>\n",
       "<polygon fill=\"none\" stroke=\"black\" points=\"137,-0.5 137,-36.5 256,-36.5 256,-0.5 137,-0.5\"/>\n",
       "<text text-anchor=\"middle\" x=\"196.5\" y=\"-14.8\" font-family=\"Times,serif\" font-size=\"14.00\">input2: InputLayer</text>\n",
       "</g>\n",
       "<!-- 140621354680896 -->\n",
       "<g id=\"node4\" class=\"node\"><title>140621354680896</title>\n",
       "<polygon fill=\"none\" stroke=\"black\" points=\"141,-73.5 141,-109.5 242,-109.5 242,-73.5 141,-73.5\"/>\n",
       "<text text-anchor=\"middle\" x=\"191.5\" y=\"-87.8\" font-family=\"Times,serif\" font-size=\"14.00\">hidden2: Dense</text>\n",
       "</g>\n",
       "<!-- 140621354680616&#45;&gt;140621354680896 -->\n",
       "<g id=\"edge2\" class=\"edge\"><title>140621354680616&#45;&gt;140621354680896</title>\n",
       "<path fill=\"none\" stroke=\"black\" d=\"M195.29,-36.6871C194.725,-44.7105 194.039,-54.4525 193.406,-63.4309\"/>\n",
       "<polygon fill=\"black\" stroke=\"black\" points=\"189.91,-63.25 192.699,-73.4712 196.893,-63.7418 189.91,-63.25\"/>\n",
       "</g>\n",
       "<!-- 140621351973048 -->\n",
       "<g id=\"node5\" class=\"node\"><title>140621351973048</title>\n",
       "<polygon fill=\"none\" stroke=\"black\" points=\"43.5,-146.5 43.5,-182.5 211.5,-182.5 211.5,-146.5 43.5,-146.5\"/>\n",
       "<text text-anchor=\"middle\" x=\"127.5\" y=\"-160.8\" font-family=\"Times,serif\" font-size=\"14.00\">concatenate_3: Concatenate</text>\n",
       "</g>\n",
       "<!-- 140621354706312&#45;&gt;140621351973048 -->\n",
       "<g id=\"edge3\" class=\"edge\"><title>140621354706312&#45;&gt;140621351973048</title>\n",
       "<path fill=\"none\" stroke=\"black\" d=\"M78.9926,-109.687C86.9325,-118.495 96.7394,-129.375 105.453,-139.042\"/>\n",
       "<polygon fill=\"black\" stroke=\"black\" points=\"102.855,-141.387 112.15,-146.471 108.054,-136.7 102.855,-141.387\"/>\n",
       "</g>\n",
       "<!-- 140621354680896&#45;&gt;140621351973048 -->\n",
       "<g id=\"edge4\" class=\"edge\"><title>140621354680896&#45;&gt;140621351973048</title>\n",
       "<path fill=\"none\" stroke=\"black\" d=\"M176.007,-109.687C168.068,-118.495 158.261,-129.375 149.547,-139.042\"/>\n",
       "<polygon fill=\"black\" stroke=\"black\" points=\"146.946,-136.7 142.85,-146.471 152.145,-141.387 146.946,-136.7\"/>\n",
       "</g>\n",
       "<!-- 140621354705808 -->\n",
       "<g id=\"node6\" class=\"node\"><title>140621354705808</title>\n",
       "<polygon fill=\"none\" stroke=\"black\" points=\"60.5,-219.5 60.5,-255.5 194.5,-255.5 194.5,-219.5 60.5,-219.5\"/>\n",
       "<text text-anchor=\"middle\" x=\"127.5\" y=\"-233.8\" font-family=\"Times,serif\" font-size=\"14.00\">shared&#45;hidden: Dense</text>\n",
       "</g>\n",
       "<!-- 140621351973048&#45;&gt;140621354705808 -->\n",
       "<g id=\"edge5\" class=\"edge\"><title>140621351973048&#45;&gt;140621354705808</title>\n",
       "<path fill=\"none\" stroke=\"black\" d=\"M127.5,-182.687C127.5,-190.711 127.5,-200.453 127.5,-209.431\"/>\n",
       "<polygon fill=\"black\" stroke=\"black\" points=\"124,-209.471 127.5,-219.471 131,-209.471 124,-209.471\"/>\n",
       "</g>\n",
       "<!-- 140621354683080 -->\n",
       "<g id=\"node7\" class=\"node\"><title>140621354683080</title>\n",
       "<polygon fill=\"none\" stroke=\"black\" points=\"20,-292.5 20,-328.5 119,-328.5 119,-292.5 20,-292.5\"/>\n",
       "<text text-anchor=\"middle\" x=\"69.5\" y=\"-306.8\" font-family=\"Times,serif\" font-size=\"14.00\">output1: Dense</text>\n",
       "</g>\n",
       "<!-- 140621354705808&#45;&gt;140621354683080 -->\n",
       "<g id=\"edge6\" class=\"edge\"><title>140621354705808&#45;&gt;140621354683080</title>\n",
       "<path fill=\"none\" stroke=\"black\" d=\"M113.46,-255.687C106.407,-264.321 97.7281,-274.945 89.9504,-284.466\"/>\n",
       "<polygon fill=\"black\" stroke=\"black\" points=\"87.0268,-282.512 83.4109,-292.471 92.4479,-286.941 87.0268,-282.512\"/>\n",
       "</g>\n",
       "<!-- 140621351973552 -->\n",
       "<g id=\"node8\" class=\"node\"><title>140621351973552</title>\n",
       "<polygon fill=\"none\" stroke=\"black\" points=\"137,-292.5 137,-328.5 236,-328.5 236,-292.5 137,-292.5\"/>\n",
       "<text text-anchor=\"middle\" x=\"186.5\" y=\"-306.8\" font-family=\"Times,serif\" font-size=\"14.00\">output2: Dense</text>\n",
       "</g>\n",
       "<!-- 140621354705808&#45;&gt;140621351973552 -->\n",
       "<g id=\"edge7\" class=\"edge\"><title>140621354705808&#45;&gt;140621351973552</title>\n",
       "<path fill=\"none\" stroke=\"black\" d=\"M141.782,-255.687C149.029,-264.408 157.964,-275.16 165.936,-284.754\"/>\n",
       "<polygon fill=\"black\" stroke=\"black\" points=\"163.266,-287.017 172.349,-292.471 168.65,-282.543 163.266,-287.017\"/>\n",
       "</g>\n",
       "</g>\n",
       "</svg>\n"
      ],
      "text/plain": [
       "<IPython.core.display.HTML object>"
      ]
     },
     "execution_count": 42,
     "metadata": {},
     "output_type": "execute_result"
    }
   ],
   "source": [
    "HTML(dot.create_svg().decode())"
   ]
  },
  {
   "cell_type": "code",
   "execution_count": null,
   "metadata": {
    "collapsed": true
   },
   "outputs": [],
   "source": []
  }
 ],
 "metadata": {
  "kernelspec": {
   "display_name": "Python 3",
   "language": "python",
   "name": "python3"
  },
  "language_info": {
   "codemirror_mode": {
    "name": "ipython",
    "version": 3
   },
   "file_extension": ".py",
   "mimetype": "text/x-python",
   "name": "python",
   "nbconvert_exporter": "python",
   "pygments_lexer": "ipython3",
   "version": "3.5.3"
  },
  "widgets": {
   "application/vnd.jupyter.widget-state+json": {
    "state": {
     "01300d0017af48ab94e63ea1c265f5cf": {
      "model_module": "jupyter-js-widgets",
      "model_module_version": "~2.1.4",
      "model_name": "ButtonStyleModel",
      "state": {
       "_model_module_version": "~2.1.4",
       "_view_module_version": "~2.1.4"
      }
     },
     "07040a82de8c4af3b9a6816b18ed907d": {
      "model_module": "jupyter-js-widgets",
      "model_module_version": "~2.1.4",
      "model_name": "LayoutModel",
      "state": {
       "_model_module_version": "~2.1.4",
       "_view_module_version": "~2.1.4",
       "width": "100%"
      }
     },
     "0e31bec10048418a87851109232852b0": {
      "model_module": "jupyter-js-widgets",
      "model_module_version": "~2.1.4",
      "model_name": "ButtonModel",
      "state": {
       "_model_module_version": "~2.1.4",
       "_view_module_version": "~2.1.4",
       "description": "Train",
       "layout": "IPY_MODEL_e8fcb82a8e5a4cb484cc9ccf8717300c",
       "style": "IPY_MODEL_41d03fe676004d04ab17721b52065d9f"
      }
     },
     "0fd75aac6f7f48be9a95d7da91a63ff0": {
      "model_module": "jupyter-js-widgets",
      "model_module_version": "~2.1.4",
      "model_name": "LayoutModel",
      "state": {
       "_model_module_version": "~2.1.4",
       "_view_module_version": "~2.1.4",
       "width": "100%"
      }
     },
     "121a9a4dc3664c94a13949a3ed3b596a": {
      "model_module": "jupyter-js-widgets",
      "model_module_version": "~2.1.4",
      "model_name": "HTMLModel",
      "state": {
       "_model_module_version": "~2.1.4",
       "_view_module_version": "~2.1.4",
       "layout": "IPY_MODEL_e14fac223c5b4bbd8820aee7034e4339",
       "value": "\n        <svg id='XOR' xmlns='http://www.w3.org/2000/svg' width=\"200\" height=\"335\" image-rendering=\"pixelated\">\n    <defs>\n        <marker id=\"arrow\" markerWidth=\"10\" markerHeight=\"10\" refX=\"9\" refY=\"3\" orient=\"auto\" markerUnits=\"strokeWidth\">\n          <path d=\"M0,0 L0,6 L9,3 z\" fill=\"blue\" />\n        </marker>\n    </defs>\n<rect x=\"74.0\" y=\"24\" width=\"52\" height=\"52\" style=\"fill:none;stroke:blue;stroke-width:2\"/><image id=\"XOR_output_targets_1\" class=\"XOR_output_targets\" x=\"75.0\" y=\"25\" height=\"50\" width=\"50\" preserveAspectRatio=\"none\" href=\"data:image/gif;base64,R0lGODdhAQABAIAAAKysrAAAACwAAAAAAQABAAAIBQABLAgIADs=\"><title>Layer: output (output)\n shape = (1,)\n Keras class = Dense\n activation = sigmoid</title></image><text x=\"130.0\" y=\"52.0\" font-family=\"monospace\" font-size=\"12\">targets</text><rect x=\"74.0\" y=\"84\" width=\"52\" height=\"52\" style=\"fill:none;stroke:blue;stroke-width:2\"/><image id=\"XOR_output_errors_1\" class=\"XOR_output_errors\" x=\"75.0\" y=\"85\" height=\"50\" width=\"50\" preserveAspectRatio=\"none\" href=\"data:image/gif;base64,R0lGODdhAQABAIAAAKysrAAAACwAAAAAAQABAAAIBQABLAgIADs=\"><title>Layer: output (output)\n shape = (1,)\n Keras class = Dense\n activation = sigmoid</title></image><text x=\"130.0\" y=\"112.0\" font-family=\"monospace\" font-size=\"12\">errors</text><rect x=\"74.0\" y=\"149\" width=\"52\" height=\"52\" style=\"fill:none;stroke:blue;stroke-width:2\"/><image id=\"XOR_output_1\" class=\"XOR_output\" x=\"75.0\" y=\"150\" height=\"50\" width=\"50\" preserveAspectRatio=\"none\" href=\"data:image/gif;base64,R0lGODdhAQABAIAAAKysrAAAACwAAAAAAQABAAAIBQABLAgIADs=\"><title>Layer: output (output)\n shape = (1,)\n Keras class = Dense\n activation = sigmoid</title></image><text x=\"130.0\" y=\"177.0\" font-family=\"monospace\" font-size=\"12\">output</text><rect x=\"90.0\" y=\"202\" width=\"20.0\" height=\"27\" style=\"fill:white;stroke:none\"><title>Weights from hidden to output\n output/kernel has shape (4, 1)\n output/bias has shape (1,)</title></rect><rect x=\"90.0\" y=\"202\" width=\"20.0\" height=\"27\" style=\"fill:white;stroke:none\"><title>Weights from hidden to output\n output/kernel has shape (4, 1)\n output/bias has shape (1,)</title></rect><line x1=\"100.0\" y1=\"229\" x2=\"100.0\" y2=\"202\" stroke=\"blue\" stroke-width=\"2\" marker-end=\"url(#arrow)\"><title>Weights from hidden to output\n output/kernel has shape (4, 1)\n output/bias has shape (1,)</title></line><line x1=\"100.0\" y1=\"229\" x2=\"100.0\" y2=\"202\" stroke=\"blue\" stroke-width=\"2\" marker-end=\"url(#arrow)\"><title>Weights from hidden to output\n output/kernel has shape (4, 1)\n output/bias has shape (1,)</title></line><rect x=\"74.0\" y=\"229\" width=\"52\" height=\"27\" style=\"fill:none;stroke:blue;stroke-width:2\"/><image id=\"XOR_hidden_2\" class=\"XOR_hidden\" x=\"75.0\" y=\"230\" height=\"25\" width=\"50\" preserveAspectRatio=\"none\" href=\"data:image/gif;base64,R0lGODdhAgABAIAAAH9/fwAAACwAAAAAAgABAAAIBQABAAgIADs=\"><title>Layer: hidden (hidden)\n shape = (2,)\n Keras class = Dense\n activation = sigmoid</title></image><text x=\"130.0\" y=\"244.5\" font-family=\"monospace\" font-size=\"12\">hidden</text><rect x=\"90.0\" y=\"257\" width=\"20.0\" height=\"27\" style=\"fill:white;stroke:none\"><title>Weights from input to hidden\n hidden/kernel has shape (4, 2)\n hidden/bias has shape (2,)</title></rect><rect x=\"90.0\" y=\"257\" width=\"20.0\" height=\"27\" style=\"fill:white;stroke:none\"><title>Weights from input to hidden\n hidden/kernel has shape (4, 2)\n hidden/bias has shape (2,)</title></rect><line x1=\"100.0\" y1=\"284\" x2=\"100.0\" y2=\"257\" stroke=\"blue\" stroke-width=\"2\" marker-end=\"url(#arrow)\"><title>Weights from input to hidden\n hidden/kernel has shape (4, 2)\n hidden/bias has shape (2,)</title></line><line x1=\"100.0\" y1=\"284\" x2=\"100.0\" y2=\"257\" stroke=\"blue\" stroke-width=\"2\" marker-end=\"url(#arrow)\"><title>Weights from input to hidden\n hidden/kernel has shape (4, 2)\n hidden/bias has shape (2,)</title></line><rect x=\"74.0\" y=\"284\" width=\"52\" height=\"27\" style=\"fill:none;stroke:blue;stroke-width:2\"/><image id=\"XOR_input_3\" class=\"XOR_input\" x=\"75.0\" y=\"285\" height=\"25\" width=\"50\" preserveAspectRatio=\"none\" href=\"data:image/gif;base64,R0lGODdhAgABAIAAAH9/fwAAACwAAAAAAgABAAAIBQABAAgIADs=\"><title>Layer: input (input)\n shape = (2,)\n Keras class = Input</title></image><text x=\"130.0\" y=\"299.5\" font-family=\"monospace\" font-size=\"12\">input</text></svg>"
      }
     },
     "121f0a9660c744cdaa08906ea3c54414": {
      "model_module": "jupyter-js-widgets",
      "model_module_version": "~2.1.4",
      "model_name": "VBoxModel",
      "state": {
       "_model_module_version": "~2.1.4",
       "_view_module_version": "~2.1.4",
       "children": [
        "IPY_MODEL_9ba3c18486d7495ab899b1f271a15921",
        "IPY_MODEL_b4c103883a4f40a1946a82ac080f92d8"
       ],
       "layout": "IPY_MODEL_555d07dd7c054ed49dafc3ac594d0b96"
      }
     },
     "17c236f2325245e28b551086532251ef": {
      "model_module": "jupyter-js-widgets",
      "model_module_version": "~2.1.4",
      "model_name": "ButtonModel",
      "state": {
       "_model_module_version": "~2.1.4",
       "_view_module_version": "~2.1.4",
       "icon": "fast-forward",
       "layout": "IPY_MODEL_5d5468027a534a57b091c825b28426fb",
       "style": "IPY_MODEL_8765130dbc414ea2869548bab3aa5159"
      }
     },
     "1d8d9d512b834a6c99b10c67ec44ba70": {
      "model_module": "jupyter-js-widgets",
      "model_module_version": "~2.1.4",
      "model_name": "ButtonStyleModel",
      "state": {
       "_model_module_version": "~2.1.4",
       "_view_module_version": "~2.1.4"
      }
     },
     "1f248e9d369840b5988e4097ec610d47": {
      "model_module": "jupyter-js-widgets",
      "model_module_version": "~2.1.4",
      "model_name": "LayoutModel",
      "state": {
       "_model_module_version": "~2.1.4",
       "_view_module_version": "~2.1.4",
       "width": "100%"
      }
     },
     "2740170fd279474295749a87b58f26dc": {
      "model_module": "jupyter-js-widgets",
      "model_module_version": "~2.1.4",
      "model_name": "SliderStyleModel",
      "state": {
       "_model_module_version": "~2.1.4",
       "_view_module_version": "~2.1.4"
      }
     },
     "2747d38dd86941ed87efc636a131163b": {
      "model_module": "jupyter-js-widgets",
      "model_module_version": "~2.1.4",
      "model_name": "LayoutModel",
      "state": {
       "_model_module_version": "~2.1.4",
       "_view_module_version": "~2.1.4",
       "width": "100%"
      }
     },
     "298aae02494741bcbe96a780c1f97bde": {
      "model_module": "jupyter-js-widgets",
      "model_module_version": "~2.1.4",
      "model_name": "LayoutModel",
      "state": {
       "_model_module_version": "~2.1.4",
       "_view_module_version": "~2.1.4",
       "width": "100%"
      }
     },
     "31098832339b4e04bfc5707f29258251": {
      "model_module": "jupyter-js-widgets",
      "model_module_version": "~2.1.4",
      "model_name": "SelectModel",
      "state": {
       "_model_module_version": "~2.1.4",
       "_options_labels": [
        "Test",
        "Train"
       ],
       "_view_module_version": "~2.1.4",
       "description": "Dataset:",
       "layout": "IPY_MODEL_f1575c08d22e44ac9e579fe74fd570e3",
       "value": "Train"
      }
     },
     "33dbb31c612a422a92da8887c497d757": {
      "model_module": "jupyter-js-widgets",
      "model_module_version": "~2.1.4",
      "model_name": "ButtonStyleModel",
      "state": {
       "_model_module_version": "~2.1.4",
       "_view_module_version": "~2.1.4"
      }
     },
     "33fc79dc36d349f1959253abc4949e1f": {
      "model_module": "jupyter-js-widgets",
      "model_module_version": "~2.1.4",
      "model_name": "HBoxModel",
      "state": {
       "_model_module_version": "~2.1.4",
       "_view_module_version": "~2.1.4",
       "children": [
        "IPY_MODEL_dc1b53fc3a2242919110032b83ae292f",
        "IPY_MODEL_911475608d994f439a3438810925f1fa",
        "IPY_MODEL_0e31bec10048418a87851109232852b0",
        "IPY_MODEL_ef4ef44dc4a14a519aa3c623df09ca81",
        "IPY_MODEL_acb64570dd9d4777b8313f7e29766e54"
       ],
       "layout": "IPY_MODEL_e04f18170ee94545b666161a39b1a828"
      }
     },
     "3765038851f54c3f9ed7f51792eaaa39": {
      "model_module": "jupyter-js-widgets",
      "model_module_version": "~2.1.4",
      "model_name": "LayoutModel",
      "state": {
       "_model_module_version": "~2.1.4",
       "_view_module_version": "~2.1.4",
       "width": "100%"
      }
     },
     "383c6f06daf44687b9e95aee456334cb": {
      "model_module": "jupyter-js-widgets",
      "model_module_version": "~2.1.4",
      "model_name": "SliderStyleModel",
      "state": {
       "_model_module_version": "~2.1.4",
       "_view_module_version": "~2.1.4"
      }
     },
     "3876ad3f20e749dfb9184ba8fcbf01db": {
      "model_module": "jupyter-js-widgets",
      "model_module_version": "~2.1.4",
      "model_name": "ButtonStyleModel",
      "state": {
       "_model_module_version": "~2.1.4",
       "_view_module_version": "~2.1.4"
      }
     },
     "3e71f1b7cc37495580b57e2977ada668": {
      "model_module": "jupyter-js-widgets",
      "model_module_version": "~2.1.4",
      "model_name": "SelectModel",
      "state": {
       "_model_module_version": "~2.1.4",
       "_options_labels": [
        "Test",
        "Train"
       ],
       "_view_module_version": "~2.1.4",
       "description": "Dataset:",
       "layout": "IPY_MODEL_762d22e3ef724dbe9007e25ddd8368fd",
       "value": "Train"
      }
     },
     "40c8dca969be4eaa84289c673275afde": {
      "model_module": "jupyter-js-widgets",
      "model_module_version": "~2.1.4",
      "model_name": "ButtonModel",
      "state": {
       "_model_module_version": "~2.1.4",
       "_view_module_version": "~2.1.4",
       "icon": "forward",
       "layout": "IPY_MODEL_298aae02494741bcbe96a780c1f97bde",
       "style": "IPY_MODEL_e6ee4ef1b5f34b60b80f23c745cda442"
      }
     },
     "41d03fe676004d04ab17721b52065d9f": {
      "model_module": "jupyter-js-widgets",
      "model_module_version": "~2.1.4",
      "model_name": "ButtonStyleModel",
      "state": {
       "_model_module_version": "~2.1.4",
       "_view_module_version": "~2.1.4"
      }
     },
     "4442776ca05749039d5187acc73d0d6c": {
      "model_module": "jupyter-js-widgets",
      "model_module_version": "~2.1.4",
      "model_name": "VBoxModel",
      "state": {
       "_model_module_version": "~2.1.4",
       "_view_module_version": "~2.1.4",
       "children": [
        "IPY_MODEL_f09d38e67c514d7e869e820882061b81",
        "IPY_MODEL_bfc08390130e4d41ba204cd5209a7230",
        "IPY_MODEL_bb09a95c7a304d44a1a55de541728159"
       ],
       "layout": "IPY_MODEL_9a6dbb8f904f4d70a08044df4df65ba6"
      }
     },
     "47becb61bdb24759a8d22ea650380889": {
      "model_module": "jupyter-js-widgets",
      "model_module_version": "~2.1.4",
      "model_name": "HTMLModel",
      "state": {
       "_model_module_version": "~2.1.4",
       "_view_module_version": "~2.1.4",
       "layout": "IPY_MODEL_85f382ce63a844f88ad851bf700f1bf9",
       "value": "\n        <svg id='XOR2' xmlns='http://www.w3.org/2000/svg' width=\"400\" height=\"415\" image-rendering=\"pixelated\">\n    <defs>\n        <marker id=\"arrow\" markerWidth=\"10\" markerHeight=\"10\" refX=\"9\" refY=\"3\" orient=\"auto\" markerUnits=\"strokeWidth\">\n          <path d=\"M0,0 L0,6 L9,3 z\" fill=\"blue\" />\n        </marker>\n    </defs>\n<rect x=\"99.0\" y=\"24\" width=\"52\" height=\"52\" style=\"fill:none;stroke:blue;stroke-width:2\"/><image id=\"XOR2_output1_targets_1\" class=\"XOR2_output1_targets\" x=\"100.0\" y=\"25\" height=\"50\" width=\"50\" preserveAspectRatio=\"none\" href=\"data:image/gif;base64,R0lGODdhAQABAIAAAICAgAAAACwAAAAAAQABAAAIBQABLAgIADs=\"><title>Layer: output1 (output)\n shape = (1,)\n Keras class = Dense\n activation = sigmoid</title></image><text x=\"155.0\" y=\"52.0\" font-family=\"monospace\" font-size=\"12\">targets</text><rect x=\"249.0\" y=\"24\" width=\"52\" height=\"52\" style=\"fill:none;stroke:blue;stroke-width:2\"/><image id=\"XOR2_output2_targets_1\" class=\"XOR2_output2_targets\" x=\"250.0\" y=\"25\" height=\"50\" width=\"50\" preserveAspectRatio=\"none\" href=\"data:image/gif;base64,R0lGODdhAQABAIAAAF9fXwAAACwAAAAAAQABAAAIBQABLAgIADs=\"><title>Layer: output2 (output)\n shape = (1,)\n Keras class = Dense\n activation = sigmoid</title></image><text x=\"305.0\" y=\"52.0\" font-family=\"monospace\" font-size=\"12\">targets</text><rect x=\"99.0\" y=\"84\" width=\"52\" height=\"52\" style=\"fill:none;stroke:blue;stroke-width:2\"/><image id=\"XOR2_output1_errors_1\" class=\"XOR2_output1_errors\" x=\"100.0\" y=\"85\" height=\"50\" width=\"50\" preserveAspectRatio=\"none\" href=\"data:image/gif;base64,R0lGODdhAQABAIAAAICAgAAAACwAAAAAAQABAAAIBQABLAgIADs=\"><title>Layer: output1 (output)\n shape = (1,)\n Keras class = Dense\n activation = sigmoid</title></image><text x=\"155.0\" y=\"112.0\" font-family=\"monospace\" font-size=\"12\">errors</text><rect x=\"249.0\" y=\"84\" width=\"52\" height=\"52\" style=\"fill:none;stroke:blue;stroke-width:2\"/><image id=\"XOR2_output2_errors_1\" class=\"XOR2_output2_errors\" x=\"250.0\" y=\"85\" height=\"50\" width=\"50\" preserveAspectRatio=\"none\" href=\"data:image/gif;base64,R0lGODdhAQABAIAAAF9fXwAAACwAAAAAAQABAAAIBQABLAgIADs=\"><title>Layer: output2 (output)\n shape = (1,)\n Keras class = Dense\n activation = sigmoid</title></image><text x=\"305.0\" y=\"112.0\" font-family=\"monospace\" font-size=\"12\">errors</text><rect x=\"99.0\" y=\"149\" width=\"52\" height=\"52\" style=\"fill:none;stroke:blue;stroke-width:2\"/><image id=\"XOR2_output1_1\" class=\"XOR2_output1\" x=\"100.0\" y=\"150\" height=\"50\" width=\"50\" preserveAspectRatio=\"none\" href=\"data:image/gif;base64,R0lGODdhAQABAIAAAICAgAAAACwAAAAAAQABAAAIBQABLAgIADs=\"><title>Layer: output1 (output)\n shape = (1,)\n Keras class = Dense\n activation = sigmoid</title></image><text x=\"155.0\" y=\"177.0\" font-family=\"monospace\" font-size=\"12\">output1</text><rect x=\"249.0\" y=\"149\" width=\"52\" height=\"52\" style=\"fill:none;stroke:blue;stroke-width:2\"/><image id=\"XOR2_output2_2\" class=\"XOR2_output2\" x=\"250.0\" y=\"150\" height=\"50\" width=\"50\" preserveAspectRatio=\"none\" href=\"data:image/gif;base64,R0lGODdhAQABAIAAAF9fXwAAACwAAAAAAQABAAAIBQABLAgIADs=\"><title>Layer: output2 (output)\n shape = (1,)\n Keras class = Dense\n activation = sigmoid</title></image><text x=\"305.0\" y=\"177.0\" font-family=\"monospace\" font-size=\"12\">output2</text><rect x=\"125.0\" y=\"202\" width=\"75.0\" height=\"27\" style=\"fill:white;stroke:none\"><title>Weights from shared-hidden to output1\n output1/kernel has shape (5, 1)\n output1/bias has shape (1,)</title></rect><rect x=\"200.0\" y=\"202\" width=\"75.0\" height=\"27\" style=\"fill:white;stroke:none\"><title>Weights from shared-hidden to output2\n output2/kernel has shape (5, 1)\n output2/bias has shape (1,)</title></rect><line x1=\"200.0\" y1=\"229\" x2=\"125.0\" y2=\"202\" stroke=\"blue\" stroke-width=\"2\" marker-end=\"url(#arrow)\"><title>Weights from shared-hidden to output1\n output1/kernel has shape (5, 1)\n output1/bias has shape (1,)</title></line><line x1=\"200.0\" y1=\"229\" x2=\"275.0\" y2=\"202\" stroke=\"blue\" stroke-width=\"2\" marker-end=\"url(#arrow)\"><title>Weights from shared-hidden to output2\n output2/kernel has shape (5, 1)\n output2/bias has shape (1,)</title></line><rect x=\"174.0\" y=\"229\" width=\"52\" height=\"27\" style=\"fill:none;stroke:blue;stroke-width:2\"/><image id=\"XOR2_shared-hidden_3\" class=\"XOR2_shared-hidden\" x=\"175.0\" y=\"230\" height=\"25\" width=\"50\" preserveAspectRatio=\"none\" href=\"data:image/gif;base64,R0lGODdhBQABAIIAAERERE1NTWJiYoeHh7y8vAAAAAAAAAAAACwAAAAABQABAAAICAAFEAgAYEBAADs=\"><title>Layer: shared-hidden (hidden)\n shape = (5,)\n Keras class = Dense\n activation = sigmoid</title></image><text x=\"230.0\" y=\"244.5\" font-family=\"monospace\" font-size=\"12\">shared-hidden</text><rect x=\"125.0\" y=\"257\" width=\"75.0\" height=\"27\" style=\"fill:white;stroke:none\"><title>Weights from hidden1 to shared-hidden\n shared-hidden/kernel has shape (20, 5)\n shared-hidden/bias has shape (5,)</title></rect><line x1=\"125.0\" y1=\"284\" x2=\"200.0\" y2=\"257\" stroke=\"blue\" stroke-width=\"2\" marker-end=\"url(#arrow)\"><title>Weights from hidden1 to shared-hidden\n shared-hidden/kernel has shape (20, 5)\n shared-hidden/bias has shape (5,)</title></line><rect x=\"99.0\" y=\"284\" width=\"52\" height=\"27\" style=\"fill:none;stroke:blue;stroke-width:2\"/><image id=\"XOR2_hidden1_4\" class=\"XOR2_hidden1\" x=\"100.0\" y=\"285\" height=\"25\" width=\"50\" preserveAspectRatio=\"none\" href=\"data:image/gif;base64,R0lGODdhCgABAIAAAH9/fwAAACwAAAAACgABAAAIBwABCBxIMCAAOw==\"><title>Layer: hidden1 (hidden)\n shape = (10,)\n Keras class = Dense\n activation = sigmoid</title></image><text x=\"155.0\" y=\"299.5\" font-family=\"monospace\" font-size=\"12\">hidden1</text><rect x=\"200.0\" y=\"257\" width=\"75.0\" height=\"27\" style=\"fill:white;stroke:none\"><title>Weights from hidden2 to shared-hidden\n shared-hidden/kernel has shape (20, 5)\n shared-hidden/bias has shape (5,)</title></rect><line x1=\"275.0\" y1=\"284\" x2=\"200.0\" y2=\"257\" stroke=\"blue\" stroke-width=\"2\" marker-end=\"url(#arrow)\"><title>Weights from hidden2 to shared-hidden\n shared-hidden/kernel has shape (20, 5)\n shared-hidden/bias has shape (5,)</title></line><rect x=\"249.0\" y=\"284\" width=\"52\" height=\"27\" style=\"fill:none;stroke:blue;stroke-width:2\"/><image id=\"XOR2_hidden2_5\" class=\"XOR2_hidden2\" x=\"250.0\" y=\"285\" height=\"25\" width=\"50\" preserveAspectRatio=\"none\" href=\"data:image/gif;base64,R0lGODdhCgABAIAAAH9/fwAAACwAAAAACgABAAAIBwABCBxIMCAAOw==\"><title>Layer: hidden2 (hidden)\n shape = (10,)\n Keras class = Dense\n activation = sigmoid</title></image><text x=\"305.0\" y=\"299.5\" font-family=\"monospace\" font-size=\"12\">hidden2</text><rect x=\"115.0\" y=\"312\" width=\"20.0\" height=\"27\" style=\"fill:white;stroke:none\"><title>Weights from input1 to hidden1\n hidden1/kernel has shape (1, 10)\n hidden1/bias has shape (10,)</title></rect><line x1=\"125.0\" y1=\"339\" x2=\"125.0\" y2=\"312\" stroke=\"blue\" stroke-width=\"2\" marker-end=\"url(#arrow)\"><title>Weights from input1 to hidden1\n hidden1/kernel has shape (1, 10)\n hidden1/bias has shape (10,)</title></line><rect x=\"99.0\" y=\"339\" width=\"52\" height=\"52\" style=\"fill:none;stroke:blue;stroke-width:2\"/><image id=\"XOR2_input1_6\" class=\"XOR2_input1\" x=\"100.0\" y=\"340\" height=\"50\" width=\"50\" preserveAspectRatio=\"none\" href=\"data:image/gif;base64,R0lGODdhAQABAIAAAH9/fwAAACwAAAAAAQABAAAIBQABLAgIADs=\"><title>Layer: input1 (input)\n shape = (1,)\n Keras class = Input</title></image><text x=\"155.0\" y=\"367.0\" font-family=\"monospace\" font-size=\"12\">input1</text><rect x=\"265.0\" y=\"312\" width=\"20.0\" height=\"27\" style=\"fill:white;stroke:none\"><title>Weights from input2 to hidden2\n hidden2/kernel has shape (1, 10)\n hidden2/bias has shape (10,)</title></rect><line x1=\"275.0\" y1=\"339\" x2=\"275.0\" y2=\"312\" stroke=\"blue\" stroke-width=\"2\" marker-end=\"url(#arrow)\"><title>Weights from input2 to hidden2\n hidden2/kernel has shape (1, 10)\n hidden2/bias has shape (10,)</title></line><rect x=\"249.0\" y=\"339\" width=\"52\" height=\"52\" style=\"fill:none;stroke:blue;stroke-width:2\"/><image id=\"XOR2_input2_7\" class=\"XOR2_input2\" x=\"250.0\" y=\"340\" height=\"50\" width=\"50\" preserveAspectRatio=\"none\" href=\"data:image/gif;base64,R0lGODdhAQABAIAAAH9/fwAAACwAAAAAAQABAAAIBQABLAgIADs=\"><title>Layer: input2 (input)\n shape = (1,)\n Keras class = Input</title></image><text x=\"305.0\" y=\"367.0\" font-family=\"monospace\" font-size=\"12\">input2</text></svg>"
      }
     },
     "4bad2bd2ebb9483186d9afb3c88f3e9b": {
      "model_module": "jupyter-js-widgets",
      "model_module_version": "~2.1.4",
      "model_name": "ButtonStyleModel",
      "state": {
       "_model_module_version": "~2.1.4",
       "_view_module_version": "~2.1.4"
      }
     },
     "4d9de99e8ec44752b9bacba094699ea8": {
      "model_module": "jupyter-js-widgets",
      "model_module_version": "~2.1.4",
      "model_name": "VBoxModel",
      "state": {
       "_model_module_version": "~2.1.4",
       "_view_module_version": "~2.1.4",
       "children": [
        "IPY_MODEL_121a9a4dc3664c94a13949a3ed3b596a",
        "IPY_MODEL_a79d0d0fb44a4e6d82a80f9850969fd2"
       ],
       "layout": "IPY_MODEL_2747d38dd86941ed87efc636a131163b"
      }
     },
     "555d07dd7c054ed49dafc3ac594d0b96": {
      "model_module": "jupyter-js-widgets",
      "model_module_version": "~2.1.4",
      "model_name": "LayoutModel",
      "state": {
       "_model_module_version": "~2.1.4",
       "_view_module_version": "~2.1.4",
       "width": "100%"
      }
     },
     "571ce9bfde7248528fefc72593a7f396": {
      "model_module": "jupyter-js-widgets",
      "model_module_version": "~2.1.4",
      "model_name": "ButtonModel",
      "state": {
       "_model_module_version": "~2.1.4",
       "_view_module_version": "~2.1.4",
       "icon": "backward",
       "layout": "IPY_MODEL_bc5293e8e3e2490a8c340aa41bfda552",
       "style": "IPY_MODEL_8aff7f710e4845d7885962d53d801c95"
      }
     },
     "5793380b6ddb427786fb8ca3837a0957": {
      "model_module": "jupyter-js-widgets",
      "model_module_version": "~2.1.4",
      "model_name": "ButtonModel",
      "state": {
       "_model_module_version": "~2.1.4",
       "_view_module_version": "~2.1.4",
       "icon": "fast-backward",
       "layout": "IPY_MODEL_b011ef09efe34d32b6a98c42f168940b",
       "style": "IPY_MODEL_b280160be54b48d084dc47b74997c16c"
      }
     },
     "588ca161d61d46e695819372cb57d262": {
      "model_module": "jupyter-js-widgets",
      "model_module_version": "~2.1.4",
      "model_name": "ButtonStyleModel",
      "state": {
       "_model_module_version": "~2.1.4",
       "_view_module_version": "~2.1.4"
      }
     },
     "5b85dd9cf9e5462eb7ac00e2fd1bc4aa": {
      "model_module": "jupyter-js-widgets",
      "model_module_version": "~2.1.4",
      "model_name": "LayoutModel",
      "state": {
       "_model_module_version": "~2.1.4",
       "_view_module_version": "~2.1.4"
      }
     },
     "5d5468027a534a57b091c825b28426fb": {
      "model_module": "jupyter-js-widgets",
      "model_module_version": "~2.1.4",
      "model_name": "LayoutModel",
      "state": {
       "_model_module_version": "~2.1.4",
       "_view_module_version": "~2.1.4",
       "width": "100%"
      }
     },
     "63d2de4ea3eb4f24b73050cac47ecb1b": {
      "model_module": "jupyter-js-widgets",
      "model_module_version": "~2.1.4",
      "model_name": "ButtonStyleModel",
      "state": {
       "_model_module_version": "~2.1.4",
       "_view_module_version": "~2.1.4"
      }
     },
     "71528636fddd442883649aac3c97aefc": {
      "model_module": "jupyter-js-widgets",
      "model_module_version": "~2.1.4",
      "model_name": "VBoxModel",
      "state": {
       "_model_module_version": "~2.1.4",
       "_view_module_version": "~2.1.4",
       "children": [
        "IPY_MODEL_47becb61bdb24759a8d22ea650380889",
        "IPY_MODEL_4442776ca05749039d5187acc73d0d6c"
       ],
       "layout": "IPY_MODEL_0fd75aac6f7f48be9a95d7da91a63ff0"
      }
     },
     "73b03d9c06fd449d91df88af47e23fb9": {
      "model_module": "jupyter-js-widgets",
      "model_module_version": "~2.1.4",
      "model_name": "ButtonStyleModel",
      "state": {
       "_model_module_version": "~2.1.4",
       "_view_module_version": "~2.1.4"
      }
     },
     "762d22e3ef724dbe9007e25ddd8368fd": {
      "model_module": "jupyter-js-widgets",
      "model_module_version": "~2.1.4",
      "model_name": "LayoutModel",
      "state": {
       "_model_module_version": "~2.1.4",
       "_view_module_version": "~2.1.4"
      }
     },
     "78056b2a587b4c0ba9e6893572266d84": {
      "model_module": "jupyter-js-widgets",
      "model_module_version": "~2.1.4",
      "model_name": "LayoutModel",
      "state": {
       "_model_module_version": "~2.1.4",
       "_view_module_version": "~2.1.4",
       "width": "100%"
      }
     },
     "792b7d27742c4956a19002a096841b36": {
      "model_module": "jupyter-js-widgets",
      "model_module_version": "~2.1.4",
      "model_name": "ButtonModel",
      "state": {
       "_model_module_version": "~2.1.4",
       "_view_module_version": "~2.1.4",
       "description": "Train",
       "layout": "IPY_MODEL_8b5f51973d094ca79b57dab3afb5cb77",
       "style": "IPY_MODEL_3876ad3f20e749dfb9184ba8fcbf01db"
      }
     },
     "7fd2cf5fbd3c4e12926182ba7674c00e": {
      "model_module": "jupyter-js-widgets",
      "model_module_version": "~2.1.4",
      "model_name": "ButtonModel",
      "state": {
       "_model_module_version": "~2.1.4",
       "_view_module_version": "~2.1.4",
       "icon": "fast-forward",
       "layout": "IPY_MODEL_bb44beef503740a08788287d1acaab90",
       "style": "IPY_MODEL_d0e5b5f14e1d438eaad4046824ceda6f"
      }
     },
     "80a9b9d51123418e82f7c26aae8d8ed5": {
      "model_module": "jupyter-js-widgets",
      "model_module_version": "~2.1.4",
      "model_name": "LayoutModel",
      "state": {
       "_model_module_version": "~2.1.4",
       "_view_module_version": "~2.1.4",
       "width": "100%"
      }
     },
     "84f79d153ccc44fea68361f2f3713d5e": {
      "model_module": "jupyter-js-widgets",
      "model_module_version": "~2.1.4",
      "model_name": "LayoutModel",
      "state": {
       "_model_module_version": "~2.1.4",
       "_view_module_version": "~2.1.4",
       "width": "100%"
      }
     },
     "85f382ce63a844f88ad851bf700f1bf9": {
      "model_module": "jupyter-js-widgets",
      "model_module_version": "~2.1.4",
      "model_name": "LayoutModel",
      "state": {
       "_model_module_version": "~2.1.4",
       "_view_module_version": "~2.1.4",
       "height": "100%",
       "justify_content": "center",
       "max_height": "550px",
       "overflow_x": "auto",
       "width": "100%"
      }
     },
     "8765130dbc414ea2869548bab3aa5159": {
      "model_module": "jupyter-js-widgets",
      "model_module_version": "~2.1.4",
      "model_name": "ButtonStyleModel",
      "state": {
       "_model_module_version": "~2.1.4",
       "_view_module_version": "~2.1.4"
      }
     },
     "87b6ef81b8f94de2a4360bd376d0eb32": {
      "model_module": "jupyter-js-widgets",
      "model_module_version": "~2.1.4",
      "model_name": "LayoutModel",
      "state": {
       "_model_module_version": "~2.1.4",
       "_view_module_version": "~2.1.4",
       "width": "100%"
      }
     },
     "8aff7f710e4845d7885962d53d801c95": {
      "model_module": "jupyter-js-widgets",
      "model_module_version": "~2.1.4",
      "model_name": "ButtonStyleModel",
      "state": {
       "_model_module_version": "~2.1.4",
       "_view_module_version": "~2.1.4"
      }
     },
     "8b5f51973d094ca79b57dab3afb5cb77": {
      "model_module": "jupyter-js-widgets",
      "model_module_version": "~2.1.4",
      "model_name": "LayoutModel",
      "state": {
       "_model_module_version": "~2.1.4",
       "_view_module_version": "~2.1.4",
       "width": "100%"
      }
     },
     "911475608d994f439a3438810925f1fa": {
      "model_module": "jupyter-js-widgets",
      "model_module_version": "~2.1.4",
      "model_name": "ButtonModel",
      "state": {
       "_model_module_version": "~2.1.4",
       "_view_module_version": "~2.1.4",
       "icon": "backward",
       "layout": "IPY_MODEL_1f248e9d369840b5988e4097ec610d47",
       "style": "IPY_MODEL_01300d0017af48ab94e63ea1c265f5cf"
      }
     },
     "929036f9e73b44fdb065b97face30b25": {
      "model_module": "jupyter-js-widgets",
      "model_module_version": "~2.1.4",
      "model_name": "SliderStyleModel",
      "state": {
       "_model_module_version": "~2.1.4",
       "_view_module_version": "~2.1.4"
      }
     },
     "9a6dbb8f904f4d70a08044df4df65ba6": {
      "model_module": "jupyter-js-widgets",
      "model_module_version": "~2.1.4",
      "model_name": "LayoutModel",
      "state": {
       "_model_module_version": "~2.1.4",
       "_view_module_version": "~2.1.4",
       "width": "100%"
      }
     },
     "9ba3c18486d7495ab899b1f271a15921": {
      "model_module": "jupyter-js-widgets",
      "model_module_version": "~2.1.4",
      "model_name": "HTMLModel",
      "state": {
       "_model_module_version": "~2.1.4",
       "_view_module_version": "~2.1.4",
       "layout": "IPY_MODEL_dd93de8473634e83b8f98874382bb97b",
       "value": "\n        <svg id='XOR2' xmlns='http://www.w3.org/2000/svg' width=\"400\" height=\"415\" image-rendering=\"pixelated\">\n    <defs>\n        <marker id=\"arrow\" markerWidth=\"10\" markerHeight=\"10\" refX=\"9\" refY=\"3\" orient=\"auto\" markerUnits=\"strokeWidth\">\n          <path d=\"M0,0 L0,6 L9,3 z\" fill=\"blue\" />\n        </marker>\n    </defs>\n<rect x=\"99.0\" y=\"24\" width=\"52\" height=\"52\" style=\"fill:none;stroke:blue;stroke-width:2\"/><image id=\"XOR2_output1_targets_8\" class=\"XOR2_output1_targets\" x=\"100.0\" y=\"25\" height=\"50\" width=\"50\" preserveAspectRatio=\"none\" href=\"data:image/gif;base64,R0lGODdhAQABAIAAAICAgAAAACwAAAAAAQABAAAIBQABLAgIADs=\"><title>Layer: output1 (output)\n shape = (1,)\n Keras class = Dense\n activation = sigmoid</title></image><text x=\"155.0\" y=\"52.0\" font-family=\"monospace\" font-size=\"12\">targets</text><rect x=\"249.0\" y=\"24\" width=\"52\" height=\"52\" style=\"fill:none;stroke:blue;stroke-width:2\"/><image id=\"XOR2_output2_targets_8\" class=\"XOR2_output2_targets\" x=\"250.0\" y=\"25\" height=\"50\" width=\"50\" preserveAspectRatio=\"none\" href=\"data:image/gif;base64,R0lGODdhAQABAIAAAF9fXwAAACwAAAAAAQABAAAIBQABLAgIADs=\"><title>Layer: output2 (output)\n shape = (1,)\n Keras class = Dense\n activation = sigmoid</title></image><text x=\"305.0\" y=\"52.0\" font-family=\"monospace\" font-size=\"12\">targets</text><rect x=\"99.0\" y=\"84\" width=\"52\" height=\"52\" style=\"fill:none;stroke:blue;stroke-width:2\"/><image id=\"XOR2_output1_errors_8\" class=\"XOR2_output1_errors\" x=\"100.0\" y=\"85\" height=\"50\" width=\"50\" preserveAspectRatio=\"none\" href=\"data:image/gif;base64,R0lGODdhAQABAIAAAICAgAAAACwAAAAAAQABAAAIBQABLAgIADs=\"><title>Layer: output1 (output)\n shape = (1,)\n Keras class = Dense\n activation = sigmoid</title></image><text x=\"155.0\" y=\"112.0\" font-family=\"monospace\" font-size=\"12\">errors</text><rect x=\"249.0\" y=\"84\" width=\"52\" height=\"52\" style=\"fill:none;stroke:blue;stroke-width:2\"/><image id=\"XOR2_output2_errors_8\" class=\"XOR2_output2_errors\" x=\"250.0\" y=\"85\" height=\"50\" width=\"50\" preserveAspectRatio=\"none\" href=\"data:image/gif;base64,R0lGODdhAQABAIAAAF9fXwAAACwAAAAAAQABAAAIBQABLAgIADs=\"><title>Layer: output2 (output)\n shape = (1,)\n Keras class = Dense\n activation = sigmoid</title></image><text x=\"305.0\" y=\"112.0\" font-family=\"monospace\" font-size=\"12\">errors</text><rect x=\"99.0\" y=\"149\" width=\"52\" height=\"52\" style=\"fill:none;stroke:blue;stroke-width:2\"/><image id=\"XOR2_output1_8\" class=\"XOR2_output1\" x=\"100.0\" y=\"150\" height=\"50\" width=\"50\" preserveAspectRatio=\"none\" href=\"data:image/gif;base64,R0lGODdhAQABAIAAAICAgAAAACwAAAAAAQABAAAIBQABLAgIADs=\"><title>Layer: output1 (output)\n shape = (1,)\n Keras class = Dense\n activation = sigmoid</title></image><text x=\"155.0\" y=\"177.0\" font-family=\"monospace\" font-size=\"12\">output1</text><rect x=\"249.0\" y=\"149\" width=\"52\" height=\"52\" style=\"fill:none;stroke:blue;stroke-width:2\"/><image id=\"XOR2_output2_9\" class=\"XOR2_output2\" x=\"250.0\" y=\"150\" height=\"50\" width=\"50\" preserveAspectRatio=\"none\" href=\"data:image/gif;base64,R0lGODdhAQABAIAAAF9fXwAAACwAAAAAAQABAAAIBQABLAgIADs=\"><title>Layer: output2 (output)\n shape = (1,)\n Keras class = Dense\n activation = sigmoid</title></image><text x=\"305.0\" y=\"177.0\" font-family=\"monospace\" font-size=\"12\">output2</text><rect x=\"125.0\" y=\"202\" width=\"75.0\" height=\"27\" style=\"fill:white;stroke:none\"><title>Weights from shared-hidden to output1\n output1/kernel has shape (5, 1)\n output1/bias has shape (1,)</title></rect><rect x=\"200.0\" y=\"202\" width=\"75.0\" height=\"27\" style=\"fill:white;stroke:none\"><title>Weights from shared-hidden to output2\n output2/kernel has shape (5, 1)\n output2/bias has shape (1,)</title></rect><line x1=\"200.0\" y1=\"229\" x2=\"125.0\" y2=\"202\" stroke=\"blue\" stroke-width=\"2\" marker-end=\"url(#arrow)\"><title>Weights from shared-hidden to output1\n output1/kernel has shape (5, 1)\n output1/bias has shape (1,)</title></line><line x1=\"200.0\" y1=\"229\" x2=\"275.0\" y2=\"202\" stroke=\"blue\" stroke-width=\"2\" marker-end=\"url(#arrow)\"><title>Weights from shared-hidden to output2\n output2/kernel has shape (5, 1)\n output2/bias has shape (1,)</title></line><rect x=\"174.0\" y=\"229\" width=\"52\" height=\"27\" style=\"fill:none;stroke:blue;stroke-width:2\"/><image id=\"XOR2_shared-hidden_10\" class=\"XOR2_shared-hidden\" x=\"175.0\" y=\"230\" height=\"25\" width=\"50\" preserveAspectRatio=\"none\" href=\"data:image/gif;base64,R0lGODdhBQABAIIAAERERE1NTWJiYoeHh7y8vAAAAAAAAAAAACwAAAAABQABAAAICAAFEAgAYEBAADs=\"><title>Layer: shared-hidden (hidden)\n shape = (5,)\n Keras class = Dense\n activation = sigmoid</title></image><text x=\"230.0\" y=\"244.5\" font-family=\"monospace\" font-size=\"12\">shared-hidden</text><rect x=\"125.0\" y=\"257\" width=\"75.0\" height=\"27\" style=\"fill:white;stroke:none\"><title>Weights from hidden1 to shared-hidden\n shared-hidden/kernel has shape (20, 5)\n shared-hidden/bias has shape (5,)</title></rect><line x1=\"125.0\" y1=\"284\" x2=\"200.0\" y2=\"257\" stroke=\"blue\" stroke-width=\"2\" marker-end=\"url(#arrow)\"><title>Weights from hidden1 to shared-hidden\n shared-hidden/kernel has shape (20, 5)\n shared-hidden/bias has shape (5,)</title></line><rect x=\"99.0\" y=\"284\" width=\"52\" height=\"27\" style=\"fill:none;stroke:blue;stroke-width:2\"/><image id=\"XOR2_hidden1_11\" class=\"XOR2_hidden1\" x=\"100.0\" y=\"285\" height=\"25\" width=\"50\" preserveAspectRatio=\"none\" href=\"data:image/gif;base64,R0lGODdhCgABAIAAAH9/fwAAACwAAAAACgABAAAIBwABCBxIMCAAOw==\"><title>Layer: hidden1 (hidden)\n shape = (10,)\n Keras class = Dense\n activation = sigmoid</title></image><text x=\"155.0\" y=\"299.5\" font-family=\"monospace\" font-size=\"12\">hidden1</text><rect x=\"200.0\" y=\"257\" width=\"75.0\" height=\"27\" style=\"fill:white;stroke:none\"><title>Weights from hidden2 to shared-hidden\n shared-hidden/kernel has shape (20, 5)\n shared-hidden/bias has shape (5,)</title></rect><line x1=\"275.0\" y1=\"284\" x2=\"200.0\" y2=\"257\" stroke=\"blue\" stroke-width=\"2\" marker-end=\"url(#arrow)\"><title>Weights from hidden2 to shared-hidden\n shared-hidden/kernel has shape (20, 5)\n shared-hidden/bias has shape (5,)</title></line><rect x=\"249.0\" y=\"284\" width=\"52\" height=\"27\" style=\"fill:none;stroke:blue;stroke-width:2\"/><image id=\"XOR2_hidden2_12\" class=\"XOR2_hidden2\" x=\"250.0\" y=\"285\" height=\"25\" width=\"50\" preserveAspectRatio=\"none\" href=\"data:image/gif;base64,R0lGODdhCgABAIAAAH9/fwAAACwAAAAACgABAAAIBwABCBxIMCAAOw==\"><title>Layer: hidden2 (hidden)\n shape = (10,)\n Keras class = Dense\n activation = sigmoid</title></image><text x=\"305.0\" y=\"299.5\" font-family=\"monospace\" font-size=\"12\">hidden2</text><rect x=\"115.0\" y=\"312\" width=\"20.0\" height=\"27\" style=\"fill:white;stroke:none\"><title>Weights from input1 to hidden1\n hidden1/kernel has shape (1, 10)\n hidden1/bias has shape (10,)</title></rect><line x1=\"125.0\" y1=\"339\" x2=\"125.0\" y2=\"312\" stroke=\"blue\" stroke-width=\"2\" marker-end=\"url(#arrow)\"><title>Weights from input1 to hidden1\n hidden1/kernel has shape (1, 10)\n hidden1/bias has shape (10,)</title></line><rect x=\"99.0\" y=\"339\" width=\"52\" height=\"52\" style=\"fill:none;stroke:blue;stroke-width:2\"/><image id=\"XOR2_input1_13\" class=\"XOR2_input1\" x=\"100.0\" y=\"340\" height=\"50\" width=\"50\" preserveAspectRatio=\"none\" href=\"data:image/gif;base64,R0lGODdhAQABAIAAAH9/fwAAACwAAAAAAQABAAAIBQABLAgIADs=\"><title>Layer: input1 (input)\n shape = (1,)\n Keras class = Input</title></image><text x=\"155.0\" y=\"367.0\" font-family=\"monospace\" font-size=\"12\">input1</text><rect x=\"265.0\" y=\"312\" width=\"20.0\" height=\"27\" style=\"fill:white;stroke:none\"><title>Weights from input2 to hidden2\n hidden2/kernel has shape (1, 10)\n hidden2/bias has shape (10,)</title></rect><line x1=\"275.0\" y1=\"339\" x2=\"275.0\" y2=\"312\" stroke=\"blue\" stroke-width=\"2\" marker-end=\"url(#arrow)\"><title>Weights from input2 to hidden2\n hidden2/kernel has shape (1, 10)\n hidden2/bias has shape (10,)</title></line><rect x=\"249.0\" y=\"339\" width=\"52\" height=\"52\" style=\"fill:none;stroke:blue;stroke-width:2\"/><image id=\"XOR2_input2_14\" class=\"XOR2_input2\" x=\"250.0\" y=\"340\" height=\"50\" width=\"50\" preserveAspectRatio=\"none\" href=\"data:image/gif;base64,R0lGODdhAQABAIAAAH9/fwAAACwAAAAAAQABAAAIBQABLAgIADs=\"><title>Layer: input2 (input)\n shape = (1,)\n Keras class = Input</title></image><text x=\"305.0\" y=\"367.0\" font-family=\"monospace\" font-size=\"12\">input2</text></svg>"
      }
     },
     "a6e205386f7e42bfbc0e32c0f2bd42fb": {
      "model_module": "jupyter-js-widgets",
      "model_module_version": "~2.1.4",
      "model_name": "ButtonModel",
      "state": {
       "_model_module_version": "~2.1.4",
       "_view_module_version": "~2.1.4",
       "icon": "fast-backward",
       "layout": "IPY_MODEL_3765038851f54c3f9ed7f51792eaaa39",
       "style": "IPY_MODEL_63d2de4ea3eb4f24b73050cac47ecb1b"
      }
     },
     "a79d0d0fb44a4e6d82a80f9850969fd2": {
      "model_module": "jupyter-js-widgets",
      "model_module_version": "~2.1.4",
      "model_name": "VBoxModel",
      "state": {
       "_model_module_version": "~2.1.4",
       "_view_module_version": "~2.1.4",
       "children": [
        "IPY_MODEL_3e71f1b7cc37495580b57e2977ada668",
        "IPY_MODEL_eddf20ca01764fe58edcccc4579b0f06",
        "IPY_MODEL_33fc79dc36d349f1959253abc4949e1f"
       ],
       "layout": "IPY_MODEL_eab3f0c1a3704df99a766a255ff4442f"
      }
     },
     "a912982dffc24cf9a2dedcbf02aa98fa": {
      "model_module": "jupyter-js-widgets",
      "model_module_version": "~2.1.4",
      "model_name": "ButtonModel",
      "state": {
       "_model_module_version": "~2.1.4",
       "_view_module_version": "~2.1.4",
       "icon": "forward",
       "layout": "IPY_MODEL_cee2a7187bf043acb535a25abf757b9c",
       "style": "IPY_MODEL_73b03d9c06fd449d91df88af47e23fb9"
      }
     },
     "acb64570dd9d4777b8313f7e29766e54": {
      "model_module": "jupyter-js-widgets",
      "model_module_version": "~2.1.4",
      "model_name": "ButtonModel",
      "state": {
       "_model_module_version": "~2.1.4",
       "_view_module_version": "~2.1.4",
       "icon": "fast-forward",
       "layout": "IPY_MODEL_80a9b9d51123418e82f7c26aae8d8ed5",
       "style": "IPY_MODEL_33dbb31c612a422a92da8887c497d757"
      }
     },
     "b011ef09efe34d32b6a98c42f168940b": {
      "model_module": "jupyter-js-widgets",
      "model_module_version": "~2.1.4",
      "model_name": "LayoutModel",
      "state": {
       "_model_module_version": "~2.1.4",
       "_view_module_version": "~2.1.4",
       "width": "100%"
      }
     },
     "b280160be54b48d084dc47b74997c16c": {
      "model_module": "jupyter-js-widgets",
      "model_module_version": "~2.1.4",
      "model_name": "ButtonStyleModel",
      "state": {
       "_model_module_version": "~2.1.4",
       "_view_module_version": "~2.1.4"
      }
     },
     "b36fd74cc73b4197a950d3e694342a05": {
      "model_module": "jupyter-js-widgets",
      "model_module_version": "~2.1.4",
      "model_name": "LayoutModel",
      "state": {
       "_model_module_version": "~2.1.4",
       "_view_module_version": "~2.1.4",
       "width": "100%"
      }
     },
     "b4935d68b4ff44cdabb765b404c78ba0": {
      "model_module": "jupyter-js-widgets",
      "model_module_version": "~2.1.4",
      "model_name": "HBoxModel",
      "state": {
       "_model_module_version": "~2.1.4",
       "_view_module_version": "~2.1.4",
       "children": [
        "IPY_MODEL_a6e205386f7e42bfbc0e32c0f2bd42fb",
        "IPY_MODEL_571ce9bfde7248528fefc72593a7f396",
        "IPY_MODEL_d56a8697b1d24d3ea96f073479bb5f63",
        "IPY_MODEL_40c8dca969be4eaa84289c673275afde",
        "IPY_MODEL_17c236f2325245e28b551086532251ef"
       ],
       "layout": "IPY_MODEL_78056b2a587b4c0ba9e6893572266d84"
      }
     },
     "b4c103883a4f40a1946a82ac080f92d8": {
      "model_module": "jupyter-js-widgets",
      "model_module_version": "~2.1.4",
      "model_name": "VBoxModel",
      "state": {
       "_model_module_version": "~2.1.4",
       "_view_module_version": "~2.1.4",
       "children": [
        "IPY_MODEL_31098832339b4e04bfc5707f29258251",
        "IPY_MODEL_e1a804f1036b43178a0d1816eac56ad0",
        "IPY_MODEL_b4935d68b4ff44cdabb765b404c78ba0"
       ],
       "layout": "IPY_MODEL_c4dff0f594224ebeb8d9a0916bef0a90"
      }
     },
     "bb09a95c7a304d44a1a55de541728159": {
      "model_module": "jupyter-js-widgets",
      "model_module_version": "~2.1.4",
      "model_name": "HBoxModel",
      "state": {
       "_model_module_version": "~2.1.4",
       "_view_module_version": "~2.1.4",
       "children": [
        "IPY_MODEL_5793380b6ddb427786fb8ca3837a0957",
        "IPY_MODEL_cbf7966b4e6a4c3f9207ecddc7036a7f",
        "IPY_MODEL_792b7d27742c4956a19002a096841b36",
        "IPY_MODEL_a912982dffc24cf9a2dedcbf02aa98fa",
        "IPY_MODEL_7fd2cf5fbd3c4e12926182ba7674c00e"
       ],
       "layout": "IPY_MODEL_f9e67d6b55844e7d8fe8a1308591c3d7"
      }
     },
     "bb44beef503740a08788287d1acaab90": {
      "model_module": "jupyter-js-widgets",
      "model_module_version": "~2.1.4",
      "model_name": "LayoutModel",
      "state": {
       "_model_module_version": "~2.1.4",
       "_view_module_version": "~2.1.4",
       "width": "100%"
      }
     },
     "bc5293e8e3e2490a8c340aa41bfda552": {
      "model_module": "jupyter-js-widgets",
      "model_module_version": "~2.1.4",
      "model_name": "LayoutModel",
      "state": {
       "_model_module_version": "~2.1.4",
       "_view_module_version": "~2.1.4",
       "width": "100%"
      }
     },
     "bfc08390130e4d41ba204cd5209a7230": {
      "model_module": "jupyter-js-widgets",
      "model_module_version": "~2.1.4",
      "model_name": "IntSliderModel",
      "state": {
       "_model_module_version": "~2.1.4",
       "_view_module_version": "~2.1.4",
       "continuous_update": false,
       "description": "Dataset index",
       "layout": "IPY_MODEL_07040a82de8c4af3b9a6816b18ed907d",
       "max": 0,
       "style": "IPY_MODEL_929036f9e73b44fdb065b97face30b25"
      }
     },
     "c4dff0f594224ebeb8d9a0916bef0a90": {
      "model_module": "jupyter-js-widgets",
      "model_module_version": "~2.1.4",
      "model_name": "LayoutModel",
      "state": {
       "_model_module_version": "~2.1.4",
       "_view_module_version": "~2.1.4",
       "width": "100%"
      }
     },
     "c5c7c081a51a4bd8881eb41b85dc349b": {
      "model_module": "jupyter-js-widgets",
      "model_module_version": "~2.1.4",
      "model_name": "LayoutModel",
      "state": {
       "_model_module_version": "~2.1.4",
       "_view_module_version": "~2.1.4",
       "width": "100%"
      }
     },
     "cbf7966b4e6a4c3f9207ecddc7036a7f": {
      "model_module": "jupyter-js-widgets",
      "model_module_version": "~2.1.4",
      "model_name": "ButtonModel",
      "state": {
       "_model_module_version": "~2.1.4",
       "_view_module_version": "~2.1.4",
       "icon": "backward",
       "layout": "IPY_MODEL_84f79d153ccc44fea68361f2f3713d5e",
       "style": "IPY_MODEL_f46f71526399460e9aed2230a3619120"
      }
     },
     "cee2a7187bf043acb535a25abf757b9c": {
      "model_module": "jupyter-js-widgets",
      "model_module_version": "~2.1.4",
      "model_name": "LayoutModel",
      "state": {
       "_model_module_version": "~2.1.4",
       "_view_module_version": "~2.1.4",
       "width": "100%"
      }
     },
     "d0e5b5f14e1d438eaad4046824ceda6f": {
      "model_module": "jupyter-js-widgets",
      "model_module_version": "~2.1.4",
      "model_name": "ButtonStyleModel",
      "state": {
       "_model_module_version": "~2.1.4",
       "_view_module_version": "~2.1.4"
      }
     },
     "d56a8697b1d24d3ea96f073479bb5f63": {
      "model_module": "jupyter-js-widgets",
      "model_module_version": "~2.1.4",
      "model_name": "ButtonModel",
      "state": {
       "_model_module_version": "~2.1.4",
       "_view_module_version": "~2.1.4",
       "description": "Train",
       "layout": "IPY_MODEL_c5c7c081a51a4bd8881eb41b85dc349b",
       "style": "IPY_MODEL_4bad2bd2ebb9483186d9afb3c88f3e9b"
      }
     },
     "d92700e574d342b7bf92d5e382d36099": {
      "model_module": "jupyter-js-widgets",
      "model_module_version": "~2.1.4",
      "model_name": "LayoutModel",
      "state": {
       "_model_module_version": "~2.1.4",
       "_view_module_version": "~2.1.4",
       "width": "100%"
      }
     },
     "db2c67cb605a4c3e9dd0cfcad35a5e5a": {
      "model_module": "jupyter-js-widgets",
      "model_module_version": "~2.1.4",
      "model_name": "LayoutModel",
      "state": {
       "_model_module_version": "~2.1.4",
       "_view_module_version": "~2.1.4",
       "width": "100%"
      }
     },
     "dc1b53fc3a2242919110032b83ae292f": {
      "model_module": "jupyter-js-widgets",
      "model_module_version": "~2.1.4",
      "model_name": "ButtonModel",
      "state": {
       "_model_module_version": "~2.1.4",
       "_view_module_version": "~2.1.4",
       "icon": "fast-backward",
       "layout": "IPY_MODEL_db2c67cb605a4c3e9dd0cfcad35a5e5a",
       "style": "IPY_MODEL_1d8d9d512b834a6c99b10c67ec44ba70"
      }
     },
     "dd93de8473634e83b8f98874382bb97b": {
      "model_module": "jupyter-js-widgets",
      "model_module_version": "~2.1.4",
      "model_name": "LayoutModel",
      "state": {
       "_model_module_version": "~2.1.4",
       "_view_module_version": "~2.1.4",
       "height": "100%",
       "justify_content": "center",
       "max_height": "550px",
       "overflow_x": "auto",
       "width": "100%"
      }
     },
     "e04f18170ee94545b666161a39b1a828": {
      "model_module": "jupyter-js-widgets",
      "model_module_version": "~2.1.4",
      "model_name": "LayoutModel",
      "state": {
       "_model_module_version": "~2.1.4",
       "_view_module_version": "~2.1.4",
       "width": "100%"
      }
     },
     "e14fac223c5b4bbd8820aee7034e4339": {
      "model_module": "jupyter-js-widgets",
      "model_module_version": "~2.1.4",
      "model_name": "LayoutModel",
      "state": {
       "_model_module_version": "~2.1.4",
       "_view_module_version": "~2.1.4",
       "height": "100%",
       "justify_content": "center",
       "max_height": "550px",
       "overflow_x": "auto",
       "width": "100%"
      }
     },
     "e1a804f1036b43178a0d1816eac56ad0": {
      "model_module": "jupyter-js-widgets",
      "model_module_version": "~2.1.4",
      "model_name": "IntSliderModel",
      "state": {
       "_model_module_version": "~2.1.4",
       "_view_module_version": "~2.1.4",
       "continuous_update": false,
       "description": "Dataset index",
       "layout": "IPY_MODEL_d92700e574d342b7bf92d5e382d36099",
       "max": 3,
       "style": "IPY_MODEL_383c6f06daf44687b9e95aee456334cb"
      }
     },
     "e6ee4ef1b5f34b60b80f23c745cda442": {
      "model_module": "jupyter-js-widgets",
      "model_module_version": "~2.1.4",
      "model_name": "ButtonStyleModel",
      "state": {
       "_model_module_version": "~2.1.4",
       "_view_module_version": "~2.1.4"
      }
     },
     "e8fcb82a8e5a4cb484cc9ccf8717300c": {
      "model_module": "jupyter-js-widgets",
      "model_module_version": "~2.1.4",
      "model_name": "LayoutModel",
      "state": {
       "_model_module_version": "~2.1.4",
       "_view_module_version": "~2.1.4",
       "width": "100%"
      }
     },
     "eab3f0c1a3704df99a766a255ff4442f": {
      "model_module": "jupyter-js-widgets",
      "model_module_version": "~2.1.4",
      "model_name": "LayoutModel",
      "state": {
       "_model_module_version": "~2.1.4",
       "_view_module_version": "~2.1.4",
       "width": "100%"
      }
     },
     "eddf20ca01764fe58edcccc4579b0f06": {
      "model_module": "jupyter-js-widgets",
      "model_module_version": "~2.1.4",
      "model_name": "IntSliderModel",
      "state": {
       "_model_module_version": "~2.1.4",
       "_view_module_version": "~2.1.4",
       "continuous_update": false,
       "description": "Dataset index",
       "layout": "IPY_MODEL_87b6ef81b8f94de2a4360bd376d0eb32",
       "max": 3,
       "style": "IPY_MODEL_2740170fd279474295749a87b58f26dc"
      }
     },
     "ef4ef44dc4a14a519aa3c623df09ca81": {
      "model_module": "jupyter-js-widgets",
      "model_module_version": "~2.1.4",
      "model_name": "ButtonModel",
      "state": {
       "_model_module_version": "~2.1.4",
       "_view_module_version": "~2.1.4",
       "icon": "forward",
       "layout": "IPY_MODEL_b36fd74cc73b4197a950d3e694342a05",
       "style": "IPY_MODEL_588ca161d61d46e695819372cb57d262"
      }
     },
     "f09d38e67c514d7e869e820882061b81": {
      "model_module": "jupyter-js-widgets",
      "model_module_version": "~2.1.4",
      "model_name": "SelectModel",
      "state": {
       "_model_module_version": "~2.1.4",
       "_options_labels": [
        "Test",
        "Train"
       ],
       "_view_module_version": "~2.1.4",
       "description": "Dataset:",
       "layout": "IPY_MODEL_5b85dd9cf9e5462eb7ac00e2fd1bc4aa",
       "value": "Train"
      }
     },
     "f1575c08d22e44ac9e579fe74fd570e3": {
      "model_module": "jupyter-js-widgets",
      "model_module_version": "~2.1.4",
      "model_name": "LayoutModel",
      "state": {
       "_model_module_version": "~2.1.4",
       "_view_module_version": "~2.1.4"
      }
     },
     "f46f71526399460e9aed2230a3619120": {
      "model_module": "jupyter-js-widgets",
      "model_module_version": "~2.1.4",
      "model_name": "ButtonStyleModel",
      "state": {
       "_model_module_version": "~2.1.4",
       "_view_module_version": "~2.1.4"
      }
     },
     "f9e67d6b55844e7d8fe8a1308591c3d7": {
      "model_module": "jupyter-js-widgets",
      "model_module_version": "~2.1.4",
      "model_name": "LayoutModel",
      "state": {
       "_model_module_version": "~2.1.4",
       "_view_module_version": "~2.1.4",
       "width": "100%"
      }
     }
    },
    "version_major": 1,
    "version_minor": 0
   }
  }
 },
 "nbformat": 4,
 "nbformat_minor": 2
}
