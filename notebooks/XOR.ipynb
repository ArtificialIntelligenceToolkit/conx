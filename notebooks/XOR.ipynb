{
 "cells": [
  {
   "cell_type": "markdown",
   "metadata": {},
   "source": [
    "# XOR Multiple Inputs/Targets\n",
    "\n",
    "Testing..."
   ]
  },
  {
   "cell_type": "code",
   "execution_count": 1,
   "metadata": {},
   "outputs": [
    {
     "name": "stderr",
     "output_type": "stream",
     "text": [
      "conx, version 3.4.3\n",
      "Using Theano backend.\n"
     ]
    }
   ],
   "source": [
    "from conx import Network, Layer, SGD"
   ]
  },
  {
   "cell_type": "code",
   "execution_count": 2,
   "metadata": {},
   "outputs": [],
   "source": [
    "net = Network(\"XOR Network\", 2, 4, 1, activation=\"sigmoid\")"
   ]
  },
  {
   "cell_type": "code",
   "execution_count": 3,
   "metadata": {},
   "outputs": [],
   "source": [
    "net.compile(loss='mean_squared_error',\n",
    "            optimizer=SGD(lr=0.3, momentum=0.9))"
   ]
  },
  {
   "cell_type": "code",
   "execution_count": 4,
   "metadata": {},
   "outputs": [],
   "source": [
    "dataset = [\n",
    "    ([0, 0], [0]),\n",
    "    ([0, 1], [1]),\n",
    "    ([1, 0], [1]),\n",
    "    ([1, 1], [0])\n",
    "]\n",
    "net[\"output\"].minmax = (0, 1)"
   ]
  },
  {
   "cell_type": "code",
   "execution_count": 5,
   "metadata": {},
   "outputs": [
    {
     "name": "stdout",
     "output_type": "stream",
     "text": [
      "Input Summary:\n",
      "   count  : 4 (4 for training, 0 for testing)\n",
      "   shape  : [(2,)]\n",
      "   range  : (0.0, 1.0)\n",
      "Target Summary:\n",
      "   count  : 4 (4 for training, 0 for testing)\n",
      "   shape  : [(1,)]\n",
      "   range  : (0.0, 1.0)\n"
     ]
    }
   ],
   "source": [
    "net.dataset.load(dataset)\n",
    "net.dataset.summary()"
   ]
  },
  {
   "cell_type": "code",
   "execution_count": 6,
   "metadata": {},
   "outputs": [
    {
     "data": {
      "text/plain": [
       "[0.0]"
      ]
     },
     "execution_count": 6,
     "metadata": {},
     "output_type": "execute_result"
    }
   ],
   "source": [
    "net.dataset.targets[0]"
   ]
  },
  {
   "cell_type": "code",
   "execution_count": 7,
   "metadata": {},
   "outputs": [
    {
     "data": {
      "text/plain": [
       "[(2,)]"
      ]
     },
     "execution_count": 7,
     "metadata": {},
     "output_type": "execute_result"
    }
   ],
   "source": [
    "net.dataset.inputs.shape"
   ]
  },
  {
   "cell_type": "code",
   "execution_count": 8,
   "metadata": {
    "scrolled": false
   },
   "outputs": [
    {
     "data": {
      "application/vnd.jupyter.widget-view+json": {
       "model_id": "89a4988e9efa4a9cbe7249ba124f0c1d",
       "version_major": 2,
       "version_minor": 0
      },
      "text/html": [
       "<p>Failed to display Jupyter Widget of type <code>Dashboard</code>.</p>\n",
       "<p>\n",
       "  If you're reading this message in the Jupyter Notebook or JupyterLab Notebook, it may mean\n",
       "  that the widgets JavaScript is still loading. If this message persists, it\n",
       "  likely means that the widgets JavaScript library is either not installed or\n",
       "  not enabled. See the <a href=\"https://ipywidgets.readthedocs.io/en/stable/user_install.html\">Jupyter\n",
       "  Widgets Documentation</a> for setup instructions.\n",
       "</p>\n",
       "<p>\n",
       "  If you're reading this message in another frontend (for example, a static\n",
       "  rendering on GitHub or <a href=\"https://nbviewer.jupyter.org/\">NBViewer</a>),\n",
       "  it may mean that your frontend doesn't currently support widgets.\n",
       "</p>\n"
      ],
      "text/plain": [
       "Dashboard(children=(Accordion(children=(HBox(children=(VBox(children=(Select(description='Dataset:', index=1, options=('Test', 'Train'), rows=1, value='Train'), FloatSlider(value=1.0, continuous_update=False, description='Zoom', max=3.0, min=0.5), IntText(value=150, description='Horizontal space between banks:', style=DescriptionStyle(description_width='initial')), IntText(value=30, description='Vertical space between layers:', style=DescriptionStyle(description_width='initial')), HBox(children=(Checkbox(value=False, description='Show Targets', style=DescriptionStyle(description_width='initial')), Checkbox(value=False, description='Errors', style=DescriptionStyle(description_width='initial')))), Select(description='Features:', options=('',), rows=1, value=''), IntText(value=3, description='Feature columns:', style=DescriptionStyle(description_width='initial')), FloatText(value=2.0, description='Feature scale:', style=DescriptionStyle(description_width='initial'))), layout=Layout(width='100%')), VBox(children=(Select(description='Layer:', index=2, options=('input', 'hidden', 'output'), rows=1, value='output'), Checkbox(value=True, description='Visible'), Select(description='Colormap:', options=('', 'Accent', 'Accent_r', 'Blues', 'Blues_r', 'BrBG', 'BrBG_r', 'BuGn', 'BuGn_r', 'BuPu', 'BuPu_r', 'CMRmap', 'CMRmap_r', 'Dark2', 'Dark2_r', 'GnBu', 'GnBu_r', 'Greens', 'Greens_r', 'Greys', 'Greys_r', 'OrRd', 'OrRd_r', 'Oranges', 'Oranges_r', 'PRGn', 'PRGn_r', 'Paired', 'Paired_r', 'Pastel1', 'Pastel1_r', 'Pastel2', 'Pastel2_r', 'PiYG', 'PiYG_r', 'PuBu', 'PuBuGn', 'PuBuGn_r', 'PuBu_r', 'PuOr', 'PuOr_r', 'PuRd', 'PuRd_r', 'Purples', 'Purples_r', 'RdBu', 'RdBu_r', 'RdGy', 'RdGy_r', 'RdPu', 'RdPu_r', 'RdYlBu', 'RdYlBu_r', 'RdYlGn', 'RdYlGn_r', 'Reds', 'Reds_r', 'Set1', 'Set1_r', 'Set2', 'Set2_r', 'Set3', 'Set3_r', 'Spectral', 'Spectral_r', 'Vega10', 'Vega10_r', 'Vega20', 'Vega20_r', 'Vega20b', 'Vega20b_r', 'Vega20c', 'Vega20c_r', 'Wistia', 'Wistia_r', 'YlGn', 'YlGnBu', 'YlGnBu_r', 'YlGn_r', 'YlOrBr', 'YlOrBr_r', 'YlOrRd', 'YlOrRd_r', 'afmhot', 'afmhot_r', 'autumn', 'autumn_r', 'binary', 'binary_r', 'bone', 'bone_r', 'brg', 'brg_r', 'bwr', 'bwr_r', 'cool', 'cool_r', 'coolwarm', 'coolwarm_r', 'copper', 'copper_r', 'cubehelix', 'cubehelix_r', 'flag', 'flag_r', 'gist_earth', 'gist_earth_r', 'gist_gray', 'gist_gray_r', 'gist_heat', 'gist_heat_r', 'gist_ncar', 'gist_ncar_r', 'gist_rainbow', 'gist_rainbow_r', 'gist_stern', 'gist_stern_r', 'gist_yarg', 'gist_yarg_r', 'gnuplot', 'gnuplot2', 'gnuplot2_r', 'gnuplot_r', 'gray', 'gray_r', 'hot', 'hot_r', 'hsv', 'hsv_r', 'inferno', 'inferno_r', 'jet', 'jet_r', 'magma', 'magma_r', 'nipy_spectral', 'nipy_spectral_r', 'ocean', 'ocean_r', 'pink', 'pink_r', 'plasma', 'plasma_r', 'prism', 'prism_r', 'rainbow', 'rainbow_r', 'seismic', 'seismic_r', 'spectral', 'spectral_r', 'spring', 'spring_r', 'summer', 'summer_r', 'tab10', 'tab10_r', 'tab20', 'tab20_r', 'tab20b', 'tab20b_r', 'tab20c', 'tab20c_r', 'terrain', 'terrain_r', 'viridis', 'viridis_r', 'winter', 'winter_r'), rows=1, value=''), HTML(value='<img src=\"data:image/gif;base64,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\"/>'), FloatText(value=0.0, description='Leftmost color maps to:', style=DescriptionStyle(description_width='initial')), FloatText(value=1.0, description='Rightmost color maps to:', style=DescriptionStyle(description_width='initial')), IntText(value=0, description='Feature to show:', style=DescriptionStyle(description_width='initial'))), layout=Layout(width='100%')))),), selected_index=None, _titles={'0': 'XOR Network'}), VBox(children=(HBox(children=(IntSlider(value=0, continuous_update=False, description='Dataset index', layout=Layout(width='100%'), max=3), Label(value='of 0', layout=Layout(width='100px'))), layout=Layout(height='40px')), HBox(children=(Button(icon='fast-backward', layout=Layout(width='100%'), style=ButtonStyle()), Button(icon='backward', layout=Layout(width='100%'), style=ButtonStyle()), IntText(value=0, layout=Layout(width='100%')), Button(icon='forward', layout=Layout(width='100%'), style=ButtonStyle()), Button(icon='fast-forward', layout=Layout(width='100%'), style=ButtonStyle()), Button(description='Play', icon='play', layout=Layout(width='100%'), style=ButtonStyle()), Button(icon='refresh', layout=Layout(width='25%'), style=ButtonStyle())), layout=Layout(height='50px', width='100%'))), layout=Layout(width='100%')), HTML(value='<p style=\"text-align:center\"></p>', layout=Layout(justify_content='center', overflow_x='auto', overflow_y='auto', width='95%')), Output()))"
      ]
     },
     "metadata": {},
     "output_type": "display_data"
    },
    {
     "data": {
      "application/javascript": [
       "\n",
       "require(['base/js/namespace'], function(Jupyter) {\n",
       "    Jupyter.notebook.kernel.comm_manager.register_target('conx_svg_control', function(comm, msg) {\n",
       "        comm.on_msg(function(msg) {\n",
       "            var data = msg[\"content\"][\"data\"];\n",
       "            var images = document.getElementsByClassName(data[\"class\"]);\n",
       "            for (var i = 0; i < images.length; i++) {\n",
       "                if (data[\"href\"]) {\n",
       "                    images[i].setAttributeNS(null, \"href\", data[\"href\"]);\n",
       "                }\n",
       "                if (data[\"src\"]) {\n",
       "                    images[i].setAttributeNS(null, \"src\", data[\"src\"]);\n",
       "                }\n",
       "            }\n",
       "        });\n",
       "    });\n",
       "});\n"
      ],
      "text/plain": [
       "<IPython.core.display.Javascript object>"
      ]
     },
     "metadata": {},
     "output_type": "display_data"
    },
    {
     "data": {
      "application/javascript": [
       "\n",
       "require(['base/js/namespace'], function(Jupyter) {\n",
       "    Jupyter.notebook.kernel.comm_manager.register_target('conx_svg_control', function(comm, msg) {\n",
       "        comm.on_msg(function(msg) {\n",
       "            var data = msg[\"content\"][\"data\"];\n",
       "            var images = document.getElementsByClassName(data[\"class\"]);\n",
       "            for (var i = 0; i < images.length; i++) {\n",
       "                if (data[\"href\"]) {\n",
       "                    images[i].setAttributeNS(null, \"href\", data[\"href\"]);\n",
       "                }\n",
       "                if (data[\"src\"]) {\n",
       "                    images[i].setAttributeNS(null, \"src\", data[\"src\"]);\n",
       "                }\n",
       "            }\n",
       "        });\n",
       "    });\n",
       "});\n"
      ],
      "text/plain": [
       "<IPython.core.display.Javascript object>"
      ]
     },
     "metadata": {},
     "output_type": "display_data"
    },
    {
     "data": {
      "application/javascript": [
       "\n",
       "require(['base/js/namespace'], function(Jupyter) {\n",
       "    Jupyter.notebook.kernel.comm_manager.register_target('conx_svg_control', function(comm, msg) {\n",
       "        comm.on_msg(function(msg) {\n",
       "            var data = msg[\"content\"][\"data\"];\n",
       "            var images = document.getElementsByClassName(data[\"class\"]);\n",
       "            for (var i = 0; i < images.length; i++) {\n",
       "                if (data[\"href\"]) {\n",
       "                    images[i].setAttributeNS(null, \"href\", data[\"href\"]);\n",
       "                }\n",
       "                if (data[\"src\"]) {\n",
       "                    images[i].setAttributeNS(null, \"src\", data[\"src\"]);\n",
       "                }\n",
       "            }\n",
       "        });\n",
       "    });\n",
       "});\n"
      ],
      "text/plain": [
       "<IPython.core.display.Javascript object>"
      ]
     },
     "metadata": {},
     "output_type": "display_data"
    },
    {
     "data": {
      "application/javascript": [
       "\n",
       "require(['base/js/namespace'], function(Jupyter) {\n",
       "    Jupyter.notebook.kernel.comm_manager.register_target('conx_svg_control', function(comm, msg) {\n",
       "        comm.on_msg(function(msg) {\n",
       "            var data = msg[\"content\"][\"data\"];\n",
       "            var images = document.getElementsByClassName(data[\"class\"]);\n",
       "            for (var i = 0; i < images.length; i++) {\n",
       "                if (data[\"href\"]) {\n",
       "                    images[i].setAttributeNS(null, \"href\", data[\"href\"]);\n",
       "                }\n",
       "                if (data[\"src\"]) {\n",
       "                    images[i].setAttributeNS(null, \"src\", data[\"src\"]);\n",
       "                }\n",
       "            }\n",
       "        });\n",
       "    });\n",
       "});\n"
      ],
      "text/plain": [
       "<IPython.core.display.Javascript object>"
      ]
     },
     "metadata": {},
     "output_type": "display_data"
    },
    {
     "data": {
      "application/javascript": [
       "\n",
       "require(['base/js/namespace'], function(Jupyter) {\n",
       "    Jupyter.notebook.kernel.comm_manager.register_target('conx_svg_control', function(comm, msg) {\n",
       "        comm.on_msg(function(msg) {\n",
       "            var data = msg[\"content\"][\"data\"];\n",
       "            var images = document.getElementsByClassName(data[\"class\"]);\n",
       "            for (var i = 0; i < images.length; i++) {\n",
       "                if (data[\"href\"]) {\n",
       "                    images[i].setAttributeNS(null, \"href\", data[\"href\"]);\n",
       "                }\n",
       "                if (data[\"src\"]) {\n",
       "                    images[i].setAttributeNS(null, \"src\", data[\"src\"]);\n",
       "                }\n",
       "            }\n",
       "        });\n",
       "    });\n",
       "});\n"
      ],
      "text/plain": [
       "<IPython.core.display.Javascript object>"
      ]
     },
     "metadata": {},
     "output_type": "display_data"
    },
    {
     "data": {
      "application/javascript": [
       "\n",
       "require(['base/js/namespace'], function(Jupyter) {\n",
       "    Jupyter.notebook.kernel.comm_manager.register_target('conx_svg_control', function(comm, msg) {\n",
       "        comm.on_msg(function(msg) {\n",
       "            var data = msg[\"content\"][\"data\"];\n",
       "            var images = document.getElementsByClassName(data[\"class\"]);\n",
       "            for (var i = 0; i < images.length; i++) {\n",
       "                if (data[\"href\"]) {\n",
       "                    images[i].setAttributeNS(null, \"href\", data[\"href\"]);\n",
       "                }\n",
       "                if (data[\"src\"]) {\n",
       "                    images[i].setAttributeNS(null, \"src\", data[\"src\"]);\n",
       "                }\n",
       "            }\n",
       "        });\n",
       "    });\n",
       "});\n"
      ],
      "text/plain": [
       "<IPython.core.display.Javascript object>"
      ]
     },
     "metadata": {},
     "output_type": "display_data"
    },
    {
     "data": {
      "application/javascript": [
       "\n",
       "require(['base/js/namespace'], function(Jupyter) {\n",
       "    Jupyter.notebook.kernel.comm_manager.register_target('conx_svg_control', function(comm, msg) {\n",
       "        comm.on_msg(function(msg) {\n",
       "            var data = msg[\"content\"][\"data\"];\n",
       "            var images = document.getElementsByClassName(data[\"class\"]);\n",
       "            for (var i = 0; i < images.length; i++) {\n",
       "                if (data[\"href\"]) {\n",
       "                    images[i].setAttributeNS(null, \"href\", data[\"href\"]);\n",
       "                }\n",
       "                if (data[\"src\"]) {\n",
       "                    images[i].setAttributeNS(null, \"src\", data[\"src\"]);\n",
       "                }\n",
       "            }\n",
       "        });\n",
       "    });\n",
       "});\n"
      ],
      "text/plain": [
       "<IPython.core.display.Javascript object>"
      ]
     },
     "metadata": {},
     "output_type": "display_data"
    }
   ],
   "source": [
    "widget = net.dashboard()\n",
    "widget"
   ]
  },
  {
   "cell_type": "code",
   "execution_count": 10,
   "metadata": {},
   "outputs": [
    {
     "data": {
      "text/plain": [
       "[0.48909813165664673]"
      ]
     },
     "execution_count": 10,
     "metadata": {},
     "output_type": "execute_result"
    }
   ],
   "source": [
    "net.propagate([0, 0])"
   ]
  },
  {
   "cell_type": "code",
   "execution_count": 11,
   "metadata": {},
   "outputs": [
    {
     "data": {
      "image/svg+xml": [
       "<svg height=\"288pt\" version=\"1.1\" viewBox=\"0 0 720 288\" width=\"720pt\" xmlns=\"http://www.w3.org/2000/svg\" xmlns:xlink=\"http://www.w3.org/1999/xlink\">\n",
       " <defs>\n",
       "  <style type=\"text/css\">\n",
       "*{stroke-linecap:butt;stroke-linejoin:round;}\n",
       "  </style>\n",
       " </defs>\n",
       " <g id=\"figure_1\">\n",
       "  <g id=\"patch_1\">\n",
       "   <path d=\"M 0 288  L 720 288  L 720 0  L 0 0  z \" style=\"fill:#ffffff;\"/>\n",
       "  </g>\n",
       "  <g id=\"axes_1\">\n",
       "   <g id=\"patch_2\">\n",
       "    <path d=\"M 90 252  L 343.636364 252  L 343.636364 34.56  L 90 34.56  z \" style=\"fill:#ffffff;\"/>\n",
       "   </g>\n",
       "   <g id=\"matplotlib.axis_1\">\n",
       "    <g id=\"xtick_1\">\n",
       "     <g id=\"line2d_1\">\n",
       "      <defs>\n",
       "       <path d=\"M 0 0  L 0 3.5  \" id=\"mb36767796b\" style=\"stroke:#000000;stroke-width:0.8;\"/>\n",
       "      </defs>\n",
       "      <g>\n",
       "       <use style=\"stroke:#000000;stroke-width:0.8;\" x=\"101.528926\" xlink:href=\"#mb36767796b\" y=\"252\"/>\n",
       "      </g>\n",
       "     </g>\n",
       "     <g id=\"text_1\">\n",
       "      <!-- 0 -->\n",
       "      <defs>\n",
       "       <path d=\"M 31.78125 66.40625  Q 24.171875 66.40625 20.328125 58.90625  Q 16.5 51.421875 16.5 36.375  Q 16.5 21.390625 20.328125 13.890625  Q 24.171875 6.390625 31.78125 6.390625  Q 39.453125 6.390625 43.28125 13.890625  Q 47.125 21.390625 47.125 36.375  Q 47.125 51.421875 43.28125 58.90625  Q 39.453125 66.40625 31.78125 66.40625  z M 31.78125 74.21875  Q 44.046875 74.21875 50.515625 64.515625  Q 56.984375 54.828125 56.984375 36.375  Q 56.984375 17.96875 50.515625 8.265625  Q 44.046875 -1.421875 31.78125 -1.421875  Q 19.53125 -1.421875 13.0625 8.265625  Q 6.59375 17.96875 6.59375 36.375  Q 6.59375 54.828125 13.0625 64.515625  Q 19.53125 74.21875 31.78125 74.21875  z \" id=\"DejaVuSans-30\"/>\n",
       "      </defs>\n",
       "      <g transform=\"translate(98.347676 266.598437)scale(0.1 -0.1)\">\n",
       "       <use xlink:href=\"#DejaVuSans-30\"/>\n",
       "      </g>\n",
       "     </g>\n",
       "    </g>\n",
       "    <g id=\"xtick_2\">\n",
       "     <g id=\"line2d_2\">\n",
       "      <g>\n",
       "       <use style=\"stroke:#000000;stroke-width:0.8;\" x=\"148.875643\" xlink:href=\"#mb36767796b\" y=\"252\"/>\n",
       "      </g>\n",
       "     </g>\n",
       "     <g id=\"text_2\">\n",
       "      <!-- 100 -->\n",
       "      <defs>\n",
       "       <path d=\"M 12.40625 8.296875  L 28.515625 8.296875  L 28.515625 63.921875  L 10.984375 60.40625  L 10.984375 69.390625  L 28.421875 72.90625  L 38.28125 72.90625  L 38.28125 8.296875  L 54.390625 8.296875  L 54.390625 0  L 12.40625 0  z \" id=\"DejaVuSans-31\"/>\n",
       "      </defs>\n",
       "      <g transform=\"translate(139.331893 266.598437)scale(0.1 -0.1)\">\n",
       "       <use xlink:href=\"#DejaVuSans-31\"/>\n",
       "       <use x=\"63.623047\" xlink:href=\"#DejaVuSans-30\"/>\n",
       "       <use x=\"127.246094\" xlink:href=\"#DejaVuSans-30\"/>\n",
       "      </g>\n",
       "     </g>\n",
       "    </g>\n",
       "    <g id=\"xtick_3\">\n",
       "     <g id=\"line2d_3\">\n",
       "      <g>\n",
       "       <use style=\"stroke:#000000;stroke-width:0.8;\" x=\"196.22236\" xlink:href=\"#mb36767796b\" y=\"252\"/>\n",
       "      </g>\n",
       "     </g>\n",
       "     <g id=\"text_3\">\n",
       "      <!-- 200 -->\n",
       "      <defs>\n",
       "       <path d=\"M 19.1875 8.296875  L 53.609375 8.296875  L 53.609375 0  L 7.328125 0  L 7.328125 8.296875  Q 12.9375 14.109375 22.625 23.890625  Q 32.328125 33.6875 34.8125 36.53125  Q 39.546875 41.84375 41.421875 45.53125  Q 43.3125 49.21875 43.3125 52.78125  Q 43.3125 58.59375 39.234375 62.25  Q 35.15625 65.921875 28.609375 65.921875  Q 23.96875 65.921875 18.8125 64.3125  Q 13.671875 62.703125 7.8125 59.421875  L 7.8125 69.390625  Q 13.765625 71.78125 18.9375 73  Q 24.125 74.21875 28.421875 74.21875  Q 39.75 74.21875 46.484375 68.546875  Q 53.21875 62.890625 53.21875 53.421875  Q 53.21875 48.921875 51.53125 44.890625  Q 49.859375 40.875 45.40625 35.40625  Q 44.1875 33.984375 37.640625 27.21875  Q 31.109375 20.453125 19.1875 8.296875  z \" id=\"DejaVuSans-32\"/>\n",
       "      </defs>\n",
       "      <g transform=\"translate(186.67861 266.598437)scale(0.1 -0.1)\">\n",
       "       <use xlink:href=\"#DejaVuSans-32\"/>\n",
       "       <use x=\"63.623047\" xlink:href=\"#DejaVuSans-30\"/>\n",
       "       <use x=\"127.246094\" xlink:href=\"#DejaVuSans-30\"/>\n",
       "      </g>\n",
       "     </g>\n",
       "    </g>\n",
       "    <g id=\"xtick_4\">\n",
       "     <g id=\"line2d_4\">\n",
       "      <g>\n",
       "       <use style=\"stroke:#000000;stroke-width:0.8;\" x=\"243.569077\" xlink:href=\"#mb36767796b\" y=\"252\"/>\n",
       "      </g>\n",
       "     </g>\n",
       "     <g id=\"text_4\">\n",
       "      <!-- 300 -->\n",
       "      <defs>\n",
       "       <path d=\"M 40.578125 39.3125  Q 47.65625 37.796875 51.625 33  Q 55.609375 28.21875 55.609375 21.1875  Q 55.609375 10.40625 48.1875 4.484375  Q 40.765625 -1.421875 27.09375 -1.421875  Q 22.515625 -1.421875 17.65625 -0.515625  Q 12.796875 0.390625 7.625 2.203125  L 7.625 11.71875  Q 11.71875 9.328125 16.59375 8.109375  Q 21.484375 6.890625 26.8125 6.890625  Q 36.078125 6.890625 40.9375 10.546875  Q 45.796875 14.203125 45.796875 21.1875  Q 45.796875 27.640625 41.28125 31.265625  Q 36.765625 34.90625 28.71875 34.90625  L 20.21875 34.90625  L 20.21875 43.015625  L 29.109375 43.015625  Q 36.375 43.015625 40.234375 45.921875  Q 44.09375 48.828125 44.09375 54.296875  Q 44.09375 59.90625 40.109375 62.90625  Q 36.140625 65.921875 28.71875 65.921875  Q 24.65625 65.921875 20.015625 65.03125  Q 15.375 64.15625 9.8125 62.3125  L 9.8125 71.09375  Q 15.4375 72.65625 20.34375 73.4375  Q 25.25 74.21875 29.59375 74.21875  Q 40.828125 74.21875 47.359375 69.109375  Q 53.90625 64.015625 53.90625 55.328125  Q 53.90625 49.265625 50.4375 45.09375  Q 46.96875 40.921875 40.578125 39.3125  z \" id=\"DejaVuSans-33\"/>\n",
       "      </defs>\n",
       "      <g transform=\"translate(234.025327 266.598437)scale(0.1 -0.1)\">\n",
       "       <use xlink:href=\"#DejaVuSans-33\"/>\n",
       "       <use x=\"63.623047\" xlink:href=\"#DejaVuSans-30\"/>\n",
       "       <use x=\"127.246094\" xlink:href=\"#DejaVuSans-30\"/>\n",
       "      </g>\n",
       "     </g>\n",
       "    </g>\n",
       "    <g id=\"xtick_5\">\n",
       "     <g id=\"line2d_5\">\n",
       "      <g>\n",
       "       <use style=\"stroke:#000000;stroke-width:0.8;\" x=\"290.915794\" xlink:href=\"#mb36767796b\" y=\"252\"/>\n",
       "      </g>\n",
       "     </g>\n",
       "     <g id=\"text_5\">\n",
       "      <!-- 400 -->\n",
       "      <defs>\n",
       "       <path d=\"M 37.796875 64.3125  L 12.890625 25.390625  L 37.796875 25.390625  z M 35.203125 72.90625  L 47.609375 72.90625  L 47.609375 25.390625  L 58.015625 25.390625  L 58.015625 17.1875  L 47.609375 17.1875  L 47.609375 0  L 37.796875 0  L 37.796875 17.1875  L 4.890625 17.1875  L 4.890625 26.703125  z \" id=\"DejaVuSans-34\"/>\n",
       "      </defs>\n",
       "      <g transform=\"translate(281.372044 266.598437)scale(0.1 -0.1)\">\n",
       "       <use xlink:href=\"#DejaVuSans-34\"/>\n",
       "       <use x=\"63.623047\" xlink:href=\"#DejaVuSans-30\"/>\n",
       "       <use x=\"127.246094\" xlink:href=\"#DejaVuSans-30\"/>\n",
       "      </g>\n",
       "     </g>\n",
       "    </g>\n",
       "    <g id=\"xtick_6\">\n",
       "     <g id=\"line2d_6\">\n",
       "      <g>\n",
       "       <use style=\"stroke:#000000;stroke-width:0.8;\" x=\"338.262511\" xlink:href=\"#mb36767796b\" y=\"252\"/>\n",
       "      </g>\n",
       "     </g>\n",
       "     <g id=\"text_6\">\n",
       "      <!-- 500 -->\n",
       "      <defs>\n",
       "       <path d=\"M 10.796875 72.90625  L 49.515625 72.90625  L 49.515625 64.59375  L 19.828125 64.59375  L 19.828125 46.734375  Q 21.96875 47.46875 24.109375 47.828125  Q 26.265625 48.1875 28.421875 48.1875  Q 40.625 48.1875 47.75 41.5  Q 54.890625 34.8125 54.890625 23.390625  Q 54.890625 11.625 47.5625 5.09375  Q 40.234375 -1.421875 26.90625 -1.421875  Q 22.3125 -1.421875 17.546875 -0.640625  Q 12.796875 0.140625 7.71875 1.703125  L 7.71875 11.625  Q 12.109375 9.234375 16.796875 8.0625  Q 21.484375 6.890625 26.703125 6.890625  Q 35.15625 6.890625 40.078125 11.328125  Q 45.015625 15.765625 45.015625 23.390625  Q 45.015625 31 40.078125 35.4375  Q 35.15625 39.890625 26.703125 39.890625  Q 22.75 39.890625 18.8125 39.015625  Q 14.890625 38.140625 10.796875 36.28125  z \" id=\"DejaVuSans-35\"/>\n",
       "      </defs>\n",
       "      <g transform=\"translate(328.718761 266.598437)scale(0.1 -0.1)\">\n",
       "       <use xlink:href=\"#DejaVuSans-35\"/>\n",
       "       <use x=\"63.623047\" xlink:href=\"#DejaVuSans-30\"/>\n",
       "       <use x=\"127.246094\" xlink:href=\"#DejaVuSans-30\"/>\n",
       "      </g>\n",
       "     </g>\n",
       "    </g>\n",
       "    <g id=\"text_7\">\n",
       "     <!-- Epoch -->\n",
       "     <defs>\n",
       "      <path d=\"M 9.8125 72.90625  L 55.90625 72.90625  L 55.90625 64.59375  L 19.671875 64.59375  L 19.671875 43.015625  L 54.390625 43.015625  L 54.390625 34.71875  L 19.671875 34.71875  L 19.671875 8.296875  L 56.78125 8.296875  L 56.78125 0  L 9.8125 0  z \" id=\"DejaVuSans-45\"/>\n",
       "      <path d=\"M 18.109375 8.203125  L 18.109375 -20.796875  L 9.078125 -20.796875  L 9.078125 54.6875  L 18.109375 54.6875  L 18.109375 46.390625  Q 20.953125 51.265625 25.265625 53.625  Q 29.59375 56 35.59375 56  Q 45.5625 56 51.78125 48.09375  Q 58.015625 40.1875 58.015625 27.296875  Q 58.015625 14.40625 51.78125 6.484375  Q 45.5625 -1.421875 35.59375 -1.421875  Q 29.59375 -1.421875 25.265625 0.953125  Q 20.953125 3.328125 18.109375 8.203125  z M 48.6875 27.296875  Q 48.6875 37.203125 44.609375 42.84375  Q 40.53125 48.484375 33.40625 48.484375  Q 26.265625 48.484375 22.1875 42.84375  Q 18.109375 37.203125 18.109375 27.296875  Q 18.109375 17.390625 22.1875 11.75  Q 26.265625 6.109375 33.40625 6.109375  Q 40.53125 6.109375 44.609375 11.75  Q 48.6875 17.390625 48.6875 27.296875  z \" id=\"DejaVuSans-70\"/>\n",
       "      <path d=\"M 30.609375 48.390625  Q 23.390625 48.390625 19.1875 42.75  Q 14.984375 37.109375 14.984375 27.296875  Q 14.984375 17.484375 19.15625 11.84375  Q 23.34375 6.203125 30.609375 6.203125  Q 37.796875 6.203125 41.984375 11.859375  Q 46.1875 17.53125 46.1875 27.296875  Q 46.1875 37.015625 41.984375 42.703125  Q 37.796875 48.390625 30.609375 48.390625  z M 30.609375 56  Q 42.328125 56 49.015625 48.375  Q 55.71875 40.765625 55.71875 27.296875  Q 55.71875 13.875 49.015625 6.21875  Q 42.328125 -1.421875 30.609375 -1.421875  Q 18.84375 -1.421875 12.171875 6.21875  Q 5.515625 13.875 5.515625 27.296875  Q 5.515625 40.765625 12.171875 48.375  Q 18.84375 56 30.609375 56  z \" id=\"DejaVuSans-6f\"/>\n",
       "      <path d=\"M 48.78125 52.59375  L 48.78125 44.1875  Q 44.96875 46.296875 41.140625 47.34375  Q 37.3125 48.390625 33.40625 48.390625  Q 24.65625 48.390625 19.8125 42.84375  Q 14.984375 37.3125 14.984375 27.296875  Q 14.984375 17.28125 19.8125 11.734375  Q 24.65625 6.203125 33.40625 6.203125  Q 37.3125 6.203125 41.140625 7.25  Q 44.96875 8.296875 48.78125 10.40625  L 48.78125 2.09375  Q 45.015625 0.34375 40.984375 -0.53125  Q 36.96875 -1.421875 32.421875 -1.421875  Q 20.0625 -1.421875 12.78125 6.34375  Q 5.515625 14.109375 5.515625 27.296875  Q 5.515625 40.671875 12.859375 48.328125  Q 20.21875 56 33.015625 56  Q 37.15625 56 41.109375 55.140625  Q 45.0625 54.296875 48.78125 52.59375  z \" id=\"DejaVuSans-63\"/>\n",
       "      <path d=\"M 54.890625 33.015625  L 54.890625 0  L 45.90625 0  L 45.90625 32.71875  Q 45.90625 40.484375 42.875 44.328125  Q 39.84375 48.1875 33.796875 48.1875  Q 26.515625 48.1875 22.3125 43.546875  Q 18.109375 38.921875 18.109375 30.90625  L 18.109375 0  L 9.078125 0  L 9.078125 75.984375  L 18.109375 75.984375  L 18.109375 46.1875  Q 21.34375 51.125 25.703125 53.5625  Q 30.078125 56 35.796875 56  Q 45.21875 56 50.046875 50.171875  Q 54.890625 44.34375 54.890625 33.015625  z \" id=\"DejaVuSans-68\"/>\n",
       "     </defs>\n",
       "     <g transform=\"translate(201.507244 280.276563)scale(0.1 -0.1)\">\n",
       "      <use xlink:href=\"#DejaVuSans-45\"/>\n",
       "      <use x=\"63.183594\" xlink:href=\"#DejaVuSans-70\"/>\n",
       "      <use x=\"126.660156\" xlink:href=\"#DejaVuSans-6f\"/>\n",
       "      <use x=\"187.841797\" xlink:href=\"#DejaVuSans-63\"/>\n",
       "      <use x=\"242.822266\" xlink:href=\"#DejaVuSans-68\"/>\n",
       "     </g>\n",
       "    </g>\n",
       "   </g>\n",
       "   <g id=\"matplotlib.axis_2\">\n",
       "    <g id=\"ytick_1\">\n",
       "     <g id=\"line2d_7\">\n",
       "      <defs>\n",
       "       <path d=\"M 0 0  L -3.5 0  \" id=\"mf16403e593\" style=\"stroke:#000000;stroke-width:0.8;\"/>\n",
       "      </defs>\n",
       "      <g>\n",
       "       <use style=\"stroke:#000000;stroke-width:0.8;\" x=\"90\" xlink:href=\"#mf16403e593\" y=\"252\"/>\n",
       "      </g>\n",
       "     </g>\n",
       "     <g id=\"text_8\">\n",
       "      <!-- 0.00 -->\n",
       "      <defs>\n",
       "       <path d=\"M 10.6875 12.40625  L 21 12.40625  L 21 0  L 10.6875 0  z \" id=\"DejaVuSans-2e\"/>\n",
       "      </defs>\n",
       "      <g transform=\"translate(60.734375 255.799219)scale(0.1 -0.1)\">\n",
       "       <use xlink:href=\"#DejaVuSans-30\"/>\n",
       "       <use x=\"63.623047\" xlink:href=\"#DejaVuSans-2e\"/>\n",
       "       <use x=\"95.410156\" xlink:href=\"#DejaVuSans-30\"/>\n",
       "       <use x=\"159.033203\" xlink:href=\"#DejaVuSans-30\"/>\n",
       "      </g>\n",
       "     </g>\n",
       "    </g>\n",
       "    <g id=\"ytick_2\">\n",
       "     <g id=\"line2d_8\">\n",
       "      <g>\n",
       "       <use style=\"stroke:#000000;stroke-width:0.8;\" x=\"90\" xlink:href=\"#mf16403e593\" y=\"210.498312\"/>\n",
       "      </g>\n",
       "     </g>\n",
       "     <g id=\"text_9\">\n",
       "      <!-- 0.05 -->\n",
       "      <g transform=\"translate(60.734375 214.297531)scale(0.1 -0.1)\">\n",
       "       <use xlink:href=\"#DejaVuSans-30\"/>\n",
       "       <use x=\"63.623047\" xlink:href=\"#DejaVuSans-2e\"/>\n",
       "       <use x=\"95.410156\" xlink:href=\"#DejaVuSans-30\"/>\n",
       "       <use x=\"159.033203\" xlink:href=\"#DejaVuSans-35\"/>\n",
       "      </g>\n",
       "     </g>\n",
       "    </g>\n",
       "    <g id=\"ytick_3\">\n",
       "     <g id=\"line2d_9\">\n",
       "      <g>\n",
       "       <use style=\"stroke:#000000;stroke-width:0.8;\" x=\"90\" xlink:href=\"#mf16403e593\" y=\"168.996624\"/>\n",
       "      </g>\n",
       "     </g>\n",
       "     <g id=\"text_10\">\n",
       "      <!-- 0.10 -->\n",
       "      <g transform=\"translate(60.734375 172.795843)scale(0.1 -0.1)\">\n",
       "       <use xlink:href=\"#DejaVuSans-30\"/>\n",
       "       <use x=\"63.623047\" xlink:href=\"#DejaVuSans-2e\"/>\n",
       "       <use x=\"95.410156\" xlink:href=\"#DejaVuSans-31\"/>\n",
       "       <use x=\"159.033203\" xlink:href=\"#DejaVuSans-30\"/>\n",
       "      </g>\n",
       "     </g>\n",
       "    </g>\n",
       "    <g id=\"ytick_4\">\n",
       "     <g id=\"line2d_10\">\n",
       "      <g>\n",
       "       <use style=\"stroke:#000000;stroke-width:0.8;\" x=\"90\" xlink:href=\"#mf16403e593\" y=\"127.494936\"/>\n",
       "      </g>\n",
       "     </g>\n",
       "     <g id=\"text_11\">\n",
       "      <!-- 0.15 -->\n",
       "      <g transform=\"translate(60.734375 131.294155)scale(0.1 -0.1)\">\n",
       "       <use xlink:href=\"#DejaVuSans-30\"/>\n",
       "       <use x=\"63.623047\" xlink:href=\"#DejaVuSans-2e\"/>\n",
       "       <use x=\"95.410156\" xlink:href=\"#DejaVuSans-31\"/>\n",
       "       <use x=\"159.033203\" xlink:href=\"#DejaVuSans-35\"/>\n",
       "      </g>\n",
       "     </g>\n",
       "    </g>\n",
       "    <g id=\"ytick_5\">\n",
       "     <g id=\"line2d_11\">\n",
       "      <g>\n",
       "       <use style=\"stroke:#000000;stroke-width:0.8;\" x=\"90\" xlink:href=\"#mf16403e593\" y=\"85.993248\"/>\n",
       "      </g>\n",
       "     </g>\n",
       "     <g id=\"text_12\">\n",
       "      <!-- 0.20 -->\n",
       "      <g transform=\"translate(60.734375 89.792466)scale(0.1 -0.1)\">\n",
       "       <use xlink:href=\"#DejaVuSans-30\"/>\n",
       "       <use x=\"63.623047\" xlink:href=\"#DejaVuSans-2e\"/>\n",
       "       <use x=\"95.410156\" xlink:href=\"#DejaVuSans-32\"/>\n",
       "       <use x=\"159.033203\" xlink:href=\"#DejaVuSans-30\"/>\n",
       "      </g>\n",
       "     </g>\n",
       "    </g>\n",
       "    <g id=\"ytick_6\">\n",
       "     <g id=\"line2d_12\">\n",
       "      <g>\n",
       "       <use style=\"stroke:#000000;stroke-width:0.8;\" x=\"90\" xlink:href=\"#mf16403e593\" y=\"44.49156\"/>\n",
       "      </g>\n",
       "     </g>\n",
       "     <g id=\"text_13\">\n",
       "      <!-- 0.25 -->\n",
       "      <g transform=\"translate(60.734375 48.290778)scale(0.1 -0.1)\">\n",
       "       <use xlink:href=\"#DejaVuSans-30\"/>\n",
       "       <use x=\"63.623047\" xlink:href=\"#DejaVuSans-2e\"/>\n",
       "       <use x=\"95.410156\" xlink:href=\"#DejaVuSans-32\"/>\n",
       "       <use x=\"159.033203\" xlink:href=\"#DejaVuSans-35\"/>\n",
       "      </g>\n",
       "     </g>\n",
       "    </g>\n",
       "   </g>\n",
       "   <g id=\"line2d_13\">\n",
       "    <path clip-path=\"url(#p6001dcda10)\" d=\"M 101.528926 44.608071  L 110.998269 44.714897  L 126.622686 45.002847  L 137.512431 45.386431  L 145.087905 45.86462  L 150.769511 46.436316  L 155.504183 47.134194  L 159.291921 47.897415  L 162.606191 48.75967  L 165.920461 49.845003  L 168.761264 50.984102  L 171.602067 52.342778  L 174.44287 53.944791  L 177.283673 55.811502  L 180.124476 57.961129  L 182.965279 60.407216  L 185.806082 63.155749  L 188.646885 66.200433  L 191.961155 70.094088  L 195.748893 74.902317  L 201.903966 83.139061  L 212.793711 97.66956  L 219.422251 106.620583  L 223.683456 112.745509  L 226.997726 117.861058  L 230.311996 123.402316  L 233.152799 128.579349  L 235.993602 134.22094  L 238.834405 140.365805  L 241.675208 147.004542  L 245.462946 156.49598  L 252.564953 175.17435  L 256.826158 186.056863  L 260.140428 193.962719  L 262.981231 200.215183  L 265.822034 205.920711  L 268.18937 210.239285  L 270.556706 214.16216  L 272.924042 217.701295  L 275.291377 220.876386  L 277.658713 223.712234  L 280.026049 226.23678  L 282.393385 228.479224  L 285.234188 230.838546  L 288.074991 232.881229  L 290.915794 234.651225  L 294.230064 236.423678  L 297.544335 237.932098  L 301.332072 239.390429  L 305.119809 240.618057  L 309.381014 241.77796  L 314.115686 242.848939  L 319.797292 243.900026  L 326.425832 244.883282  L 332.107438 245.569483  L 332.107438 245.569483  \" style=\"fill:none;stroke:#1f77b4;stroke-linecap:square;stroke-width:1.5;\"/>\n",
       "   </g>\n",
       "   <g id=\"patch_3\">\n",
       "    <path d=\"M 90 252  L 90 34.56  \" style=\"fill:none;stroke:#000000;stroke-linecap:square;stroke-linejoin:miter;stroke-width:0.8;\"/>\n",
       "   </g>\n",
       "   <g id=\"patch_4\">\n",
       "    <path d=\"M 343.636364 252  L 343.636364 34.56  \" style=\"fill:none;stroke:#000000;stroke-linecap:square;stroke-linejoin:miter;stroke-width:0.8;\"/>\n",
       "   </g>\n",
       "   <g id=\"patch_5\">\n",
       "    <path d=\"M 90 252  L 343.636364 252  \" style=\"fill:none;stroke:#000000;stroke-linecap:square;stroke-linejoin:miter;stroke-width:0.8;\"/>\n",
       "   </g>\n",
       "   <g id=\"patch_6\">\n",
       "    <path d=\"M 90 34.56  L 343.636364 34.56  \" style=\"fill:none;stroke:#000000;stroke-linecap:square;stroke-linejoin:miter;stroke-width:0.8;\"/>\n",
       "   </g>\n",
       "   <g id=\"text_14\">\n",
       "    <!-- XOR Network: Loss -->\n",
       "    <defs>\n",
       "     <path d=\"M 6.296875 72.90625  L 16.890625 72.90625  L 35.015625 45.796875  L 53.21875 72.90625  L 63.8125 72.90625  L 40.375 37.890625  L 65.375 0  L 54.78125 0  L 34.28125 31  L 13.625 0  L 2.984375 0  L 29 38.921875  z \" id=\"DejaVuSans-58\"/>\n",
       "     <path d=\"M 39.40625 66.21875  Q 28.65625 66.21875 22.328125 58.203125  Q 16.015625 50.203125 16.015625 36.375  Q 16.015625 22.609375 22.328125 14.59375  Q 28.65625 6.59375 39.40625 6.59375  Q 50.140625 6.59375 56.421875 14.59375  Q 62.703125 22.609375 62.703125 36.375  Q 62.703125 50.203125 56.421875 58.203125  Q 50.140625 66.21875 39.40625 66.21875  z M 39.40625 74.21875  Q 54.734375 74.21875 63.90625 63.9375  Q 73.09375 53.65625 73.09375 36.375  Q 73.09375 19.140625 63.90625 8.859375  Q 54.734375 -1.421875 39.40625 -1.421875  Q 24.03125 -1.421875 14.8125 8.828125  Q 5.609375 19.09375 5.609375 36.375  Q 5.609375 53.65625 14.8125 63.9375  Q 24.03125 74.21875 39.40625 74.21875  z \" id=\"DejaVuSans-4f\"/>\n",
       "     <path d=\"M 44.390625 34.1875  Q 47.5625 33.109375 50.5625 29.59375  Q 53.5625 26.078125 56.59375 19.921875  L 66.609375 0  L 56 0  L 46.6875 18.703125  Q 43.0625 26.03125 39.671875 28.421875  Q 36.28125 30.8125 30.421875 30.8125  L 19.671875 30.8125  L 19.671875 0  L 9.8125 0  L 9.8125 72.90625  L 32.078125 72.90625  Q 44.578125 72.90625 50.734375 67.671875  Q 56.890625 62.453125 56.890625 51.90625  Q 56.890625 45.015625 53.6875 40.46875  Q 50.484375 35.9375 44.390625 34.1875  z M 19.671875 64.796875  L 19.671875 38.921875  L 32.078125 38.921875  Q 39.203125 38.921875 42.84375 42.21875  Q 46.484375 45.515625 46.484375 51.90625  Q 46.484375 58.296875 42.84375 61.546875  Q 39.203125 64.796875 32.078125 64.796875  z \" id=\"DejaVuSans-52\"/>\n",
       "     <path id=\"DejaVuSans-20\"/>\n",
       "     <path d=\"M 9.8125 72.90625  L 23.09375 72.90625  L 55.421875 11.921875  L 55.421875 72.90625  L 64.984375 72.90625  L 64.984375 0  L 51.703125 0  L 19.390625 60.984375  L 19.390625 0  L 9.8125 0  z \" id=\"DejaVuSans-4e\"/>\n",
       "     <path d=\"M 56.203125 29.59375  L 56.203125 25.203125  L 14.890625 25.203125  Q 15.484375 15.921875 20.484375 11.0625  Q 25.484375 6.203125 34.421875 6.203125  Q 39.59375 6.203125 44.453125 7.46875  Q 49.3125 8.734375 54.109375 11.28125  L 54.109375 2.78125  Q 49.265625 0.734375 44.1875 -0.34375  Q 39.109375 -1.421875 33.890625 -1.421875  Q 20.796875 -1.421875 13.15625 6.1875  Q 5.515625 13.8125 5.515625 26.8125  Q 5.515625 40.234375 12.765625 48.109375  Q 20.015625 56 32.328125 56  Q 43.359375 56 49.78125 48.890625  Q 56.203125 41.796875 56.203125 29.59375  z M 47.21875 32.234375  Q 47.125 39.59375 43.09375 43.984375  Q 39.0625 48.390625 32.421875 48.390625  Q 24.90625 48.390625 20.390625 44.140625  Q 15.875 39.890625 15.1875 32.171875  z \" id=\"DejaVuSans-65\"/>\n",
       "     <path d=\"M 18.3125 70.21875  L 18.3125 54.6875  L 36.8125 54.6875  L 36.8125 47.703125  L 18.3125 47.703125  L 18.3125 18.015625  Q 18.3125 11.328125 20.140625 9.421875  Q 21.96875 7.515625 27.59375 7.515625  L 36.8125 7.515625  L 36.8125 0  L 27.59375 0  Q 17.1875 0 13.234375 3.875  Q 9.28125 7.765625 9.28125 18.015625  L 9.28125 47.703125  L 2.6875 47.703125  L 2.6875 54.6875  L 9.28125 54.6875  L 9.28125 70.21875  z \" id=\"DejaVuSans-74\"/>\n",
       "     <path d=\"M 4.203125 54.6875  L 13.1875 54.6875  L 24.421875 12.015625  L 35.59375 54.6875  L 46.1875 54.6875  L 57.421875 12.015625  L 68.609375 54.6875  L 77.59375 54.6875  L 63.28125 0  L 52.6875 0  L 40.921875 44.828125  L 29.109375 0  L 18.5 0  z \" id=\"DejaVuSans-77\"/>\n",
       "     <path d=\"M 41.109375 46.296875  Q 39.59375 47.171875 37.8125 47.578125  Q 36.03125 48 33.890625 48  Q 26.265625 48 22.1875 43.046875  Q 18.109375 38.09375 18.109375 28.8125  L 18.109375 0  L 9.078125 0  L 9.078125 54.6875  L 18.109375 54.6875  L 18.109375 46.1875  Q 20.953125 51.171875 25.484375 53.578125  Q 30.03125 56 36.53125 56  Q 37.453125 56 38.578125 55.875  Q 39.703125 55.765625 41.0625 55.515625  z \" id=\"DejaVuSans-72\"/>\n",
       "     <path d=\"M 9.078125 75.984375  L 18.109375 75.984375  L 18.109375 31.109375  L 44.921875 54.6875  L 56.390625 54.6875  L 27.390625 29.109375  L 57.625 0  L 45.90625 0  L 18.109375 26.703125  L 18.109375 0  L 9.078125 0  z \" id=\"DejaVuSans-6b\"/>\n",
       "     <path d=\"M 11.71875 12.40625  L 22.015625 12.40625  L 22.015625 0  L 11.71875 0  z M 11.71875 51.703125  L 22.015625 51.703125  L 22.015625 39.3125  L 11.71875 39.3125  z \" id=\"DejaVuSans-3a\"/>\n",
       "     <path d=\"M 9.8125 72.90625  L 19.671875 72.90625  L 19.671875 8.296875  L 55.171875 8.296875  L 55.171875 0  L 9.8125 0  z \" id=\"DejaVuSans-4c\"/>\n",
       "     <path d=\"M 44.28125 53.078125  L 44.28125 44.578125  Q 40.484375 46.53125 36.375 47.5  Q 32.28125 48.484375 27.875 48.484375  Q 21.1875 48.484375 17.84375 46.4375  Q 14.5 44.390625 14.5 40.28125  Q 14.5 37.15625 16.890625 35.375  Q 19.28125 33.59375 26.515625 31.984375  L 29.59375 31.296875  Q 39.15625 29.25 43.1875 25.515625  Q 47.21875 21.78125 47.21875 15.09375  Q 47.21875 7.46875 41.1875 3.015625  Q 35.15625 -1.421875 24.609375 -1.421875  Q 20.21875 -1.421875 15.453125 -0.5625  Q 10.6875 0.296875 5.421875 2  L 5.421875 11.28125  Q 10.40625 8.6875 15.234375 7.390625  Q 20.0625 6.109375 24.8125 6.109375  Q 31.15625 6.109375 34.5625 8.28125  Q 37.984375 10.453125 37.984375 14.40625  Q 37.984375 18.0625 35.515625 20.015625  Q 33.0625 21.96875 24.703125 23.78125  L 21.578125 24.515625  Q 13.234375 26.265625 9.515625 29.90625  Q 5.8125 33.546875 5.8125 39.890625  Q 5.8125 47.609375 11.28125 51.796875  Q 16.75 56 26.8125 56  Q 31.78125 56 36.171875 55.265625  Q 40.578125 54.546875 44.28125 53.078125  z \" id=\"DejaVuSans-73\"/>\n",
       "    </defs>\n",
       "    <g transform=\"translate(159.670057 28.56)scale(0.12 -0.12)\">\n",
       "     <use xlink:href=\"#DejaVuSans-58\"/>\n",
       "     <use x=\"68.412109\" xlink:href=\"#DejaVuSans-4f\"/>\n",
       "     <use x=\"147.123047\" xlink:href=\"#DejaVuSans-52\"/>\n",
       "     <use x=\"216.605469\" xlink:href=\"#DejaVuSans-20\"/>\n",
       "     <use x=\"248.392578\" xlink:href=\"#DejaVuSans-4e\"/>\n",
       "     <use x=\"323.197266\" xlink:href=\"#DejaVuSans-65\"/>\n",
       "     <use x=\"384.720703\" xlink:href=\"#DejaVuSans-74\"/>\n",
       "     <use x=\"423.929688\" xlink:href=\"#DejaVuSans-77\"/>\n",
       "     <use x=\"505.716797\" xlink:href=\"#DejaVuSans-6f\"/>\n",
       "     <use x=\"566.898438\" xlink:href=\"#DejaVuSans-72\"/>\n",
       "     <use x=\"608.011719\" xlink:href=\"#DejaVuSans-6b\"/>\n",
       "     <use x=\"665.921875\" xlink:href=\"#DejaVuSans-3a\"/>\n",
       "     <use x=\"699.613281\" xlink:href=\"#DejaVuSans-20\"/>\n",
       "     <use x=\"731.400391\" xlink:href=\"#DejaVuSans-4c\"/>\n",
       "     <use x=\"787.097656\" xlink:href=\"#DejaVuSans-6f\"/>\n",
       "     <use x=\"848.279297\" xlink:href=\"#DejaVuSans-73\"/>\n",
       "     <use x=\"900.378906\" xlink:href=\"#DejaVuSans-73\"/>\n",
       "    </g>\n",
       "   </g>\n",
       "   <g id=\"legend_1\">\n",
       "    <g id=\"patch_7\">\n",
       "     <path d=\"M 245.270739 57.238125  L 336.636364 57.238125  Q 338.636364 57.238125 338.636364 55.238125  L 338.636364 41.56  Q 338.636364 39.56 336.636364 39.56  L 245.270739 39.56  Q 243.270739 39.56 243.270739 41.56  L 243.270739 55.238125  Q 243.270739 57.238125 245.270739 57.238125  z \" style=\"fill:#ffffff;opacity:0.8;stroke:#cccccc;stroke-linejoin:miter;\"/>\n",
       "    </g>\n",
       "    <g id=\"line2d_14\">\n",
       "     <path d=\"M 247.270739 47.658437  L 267.270739 47.658437  \" style=\"fill:none;stroke:#1f77b4;stroke-linecap:square;stroke-width:1.5;\"/>\n",
       "    </g>\n",
       "    <g id=\"line2d_15\"/>\n",
       "    <g id=\"text_15\">\n",
       "     <!-- Training set -->\n",
       "     <defs>\n",
       "      <path d=\"M -0.296875 72.90625  L 61.375 72.90625  L 61.375 64.59375  L 35.5 64.59375  L 35.5 0  L 25.59375 0  L 25.59375 64.59375  L -0.296875 64.59375  z \" id=\"DejaVuSans-54\"/>\n",
       "      <path d=\"M 34.28125 27.484375  Q 23.390625 27.484375 19.1875 25  Q 14.984375 22.515625 14.984375 16.5  Q 14.984375 11.71875 18.140625 8.90625  Q 21.296875 6.109375 26.703125 6.109375  Q 34.1875 6.109375 38.703125 11.40625  Q 43.21875 16.703125 43.21875 25.484375  L 43.21875 27.484375  z M 52.203125 31.203125  L 52.203125 0  L 43.21875 0  L 43.21875 8.296875  Q 40.140625 3.328125 35.546875 0.953125  Q 30.953125 -1.421875 24.3125 -1.421875  Q 15.921875 -1.421875 10.953125 3.296875  Q 6 8.015625 6 15.921875  Q 6 25.140625 12.171875 29.828125  Q 18.359375 34.515625 30.609375 34.515625  L 43.21875 34.515625  L 43.21875 35.40625  Q 43.21875 41.609375 39.140625 45  Q 35.0625 48.390625 27.6875 48.390625  Q 23 48.390625 18.546875 47.265625  Q 14.109375 46.140625 10.015625 43.890625  L 10.015625 52.203125  Q 14.9375 54.109375 19.578125 55.046875  Q 24.21875 56 28.609375 56  Q 40.484375 56 46.34375 49.84375  Q 52.203125 43.703125 52.203125 31.203125  z \" id=\"DejaVuSans-61\"/>\n",
       "      <path d=\"M 9.421875 54.6875  L 18.40625 54.6875  L 18.40625 0  L 9.421875 0  z M 9.421875 75.984375  L 18.40625 75.984375  L 18.40625 64.59375  L 9.421875 64.59375  z \" id=\"DejaVuSans-69\"/>\n",
       "      <path d=\"M 54.890625 33.015625  L 54.890625 0  L 45.90625 0  L 45.90625 32.71875  Q 45.90625 40.484375 42.875 44.328125  Q 39.84375 48.1875 33.796875 48.1875  Q 26.515625 48.1875 22.3125 43.546875  Q 18.109375 38.921875 18.109375 30.90625  L 18.109375 0  L 9.078125 0  L 9.078125 54.6875  L 18.109375 54.6875  L 18.109375 46.1875  Q 21.34375 51.125 25.703125 53.5625  Q 30.078125 56 35.796875 56  Q 45.21875 56 50.046875 50.171875  Q 54.890625 44.34375 54.890625 33.015625  z \" id=\"DejaVuSans-6e\"/>\n",
       "      <path d=\"M 45.40625 27.984375  Q 45.40625 37.75 41.375 43.109375  Q 37.359375 48.484375 30.078125 48.484375  Q 22.859375 48.484375 18.828125 43.109375  Q 14.796875 37.75 14.796875 27.984375  Q 14.796875 18.265625 18.828125 12.890625  Q 22.859375 7.515625 30.078125 7.515625  Q 37.359375 7.515625 41.375 12.890625  Q 45.40625 18.265625 45.40625 27.984375  z M 54.390625 6.78125  Q 54.390625 -7.171875 48.1875 -13.984375  Q 42 -20.796875 29.203125 -20.796875  Q 24.46875 -20.796875 20.265625 -20.09375  Q 16.0625 -19.390625 12.109375 -17.921875  L 12.109375 -9.1875  Q 16.0625 -11.328125 19.921875 -12.34375  Q 23.78125 -13.375 27.78125 -13.375  Q 36.625 -13.375 41.015625 -8.765625  Q 45.40625 -4.15625 45.40625 5.171875  L 45.40625 9.625  Q 42.625 4.78125 38.28125 2.390625  Q 33.9375 0 27.875 0  Q 17.828125 0 11.671875 7.65625  Q 5.515625 15.328125 5.515625 27.984375  Q 5.515625 40.671875 11.671875 48.328125  Q 17.828125 56 27.875 56  Q 33.9375 56 38.28125 53.609375  Q 42.625 51.21875 45.40625 46.390625  L 45.40625 54.6875  L 54.390625 54.6875  z \" id=\"DejaVuSans-67\"/>\n",
       "     </defs>\n",
       "     <g transform=\"translate(275.270739 51.158437)scale(0.1 -0.1)\">\n",
       "      <use xlink:href=\"#DejaVuSans-54\"/>\n",
       "      <use x=\"60.865234\" xlink:href=\"#DejaVuSans-72\"/>\n",
       "      <use x=\"101.978516\" xlink:href=\"#DejaVuSans-61\"/>\n",
       "      <use x=\"163.257812\" xlink:href=\"#DejaVuSans-69\"/>\n",
       "      <use x=\"191.041016\" xlink:href=\"#DejaVuSans-6e\"/>\n",
       "      <use x=\"254.419922\" xlink:href=\"#DejaVuSans-69\"/>\n",
       "      <use x=\"282.203125\" xlink:href=\"#DejaVuSans-6e\"/>\n",
       "      <use x=\"345.582031\" xlink:href=\"#DejaVuSans-67\"/>\n",
       "      <use x=\"409.058594\" xlink:href=\"#DejaVuSans-20\"/>\n",
       "      <use x=\"440.845703\" xlink:href=\"#DejaVuSans-73\"/>\n",
       "      <use x=\"492.945312\" xlink:href=\"#DejaVuSans-65\"/>\n",
       "      <use x=\"554.46875\" xlink:href=\"#DejaVuSans-74\"/>\n",
       "     </g>\n",
       "    </g>\n",
       "   </g>\n",
       "  </g>\n",
       "  <g id=\"axes_2\">\n",
       "   <g id=\"patch_8\">\n",
       "    <path d=\"M 394.363636 252  L 648 252  L 648 34.56  L 394.363636 34.56  z \" style=\"fill:#ffffff;\"/>\n",
       "   </g>\n",
       "   <g id=\"matplotlib.axis_3\">\n",
       "    <g id=\"xtick_7\">\n",
       "     <g id=\"line2d_16\">\n",
       "      <g>\n",
       "       <use style=\"stroke:#000000;stroke-width:0.8;\" x=\"405.892562\" xlink:href=\"#mb36767796b\" y=\"252\"/>\n",
       "      </g>\n",
       "     </g>\n",
       "     <g id=\"text_16\">\n",
       "      <!-- 0 -->\n",
       "      <g transform=\"translate(402.711312 266.598437)scale(0.1 -0.1)\">\n",
       "       <use xlink:href=\"#DejaVuSans-30\"/>\n",
       "      </g>\n",
       "     </g>\n",
       "    </g>\n",
       "    <g id=\"xtick_8\">\n",
       "     <g id=\"line2d_17\">\n",
       "      <g>\n",
       "       <use style=\"stroke:#000000;stroke-width:0.8;\" x=\"453.239279\" xlink:href=\"#mb36767796b\" y=\"252\"/>\n",
       "      </g>\n",
       "     </g>\n",
       "     <g id=\"text_17\">\n",
       "      <!-- 100 -->\n",
       "      <g transform=\"translate(443.695529 266.598437)scale(0.1 -0.1)\">\n",
       "       <use xlink:href=\"#DejaVuSans-31\"/>\n",
       "       <use x=\"63.623047\" xlink:href=\"#DejaVuSans-30\"/>\n",
       "       <use x=\"127.246094\" xlink:href=\"#DejaVuSans-30\"/>\n",
       "      </g>\n",
       "     </g>\n",
       "    </g>\n",
       "    <g id=\"xtick_9\">\n",
       "     <g id=\"line2d_18\">\n",
       "      <g>\n",
       "       <use style=\"stroke:#000000;stroke-width:0.8;\" x=\"500.585996\" xlink:href=\"#mb36767796b\" y=\"252\"/>\n",
       "      </g>\n",
       "     </g>\n",
       "     <g id=\"text_18\">\n",
       "      <!-- 200 -->\n",
       "      <g transform=\"translate(491.042246 266.598437)scale(0.1 -0.1)\">\n",
       "       <use xlink:href=\"#DejaVuSans-32\"/>\n",
       "       <use x=\"63.623047\" xlink:href=\"#DejaVuSans-30\"/>\n",
       "       <use x=\"127.246094\" xlink:href=\"#DejaVuSans-30\"/>\n",
       "      </g>\n",
       "     </g>\n",
       "    </g>\n",
       "    <g id=\"xtick_10\">\n",
       "     <g id=\"line2d_19\">\n",
       "      <g>\n",
       "       <use style=\"stroke:#000000;stroke-width:0.8;\" x=\"547.932713\" xlink:href=\"#mb36767796b\" y=\"252\"/>\n",
       "      </g>\n",
       "     </g>\n",
       "     <g id=\"text_19\">\n",
       "      <!-- 300 -->\n",
       "      <g transform=\"translate(538.388963 266.598437)scale(0.1 -0.1)\">\n",
       "       <use xlink:href=\"#DejaVuSans-33\"/>\n",
       "       <use x=\"63.623047\" xlink:href=\"#DejaVuSans-30\"/>\n",
       "       <use x=\"127.246094\" xlink:href=\"#DejaVuSans-30\"/>\n",
       "      </g>\n",
       "     </g>\n",
       "    </g>\n",
       "    <g id=\"xtick_11\">\n",
       "     <g id=\"line2d_20\">\n",
       "      <g>\n",
       "       <use style=\"stroke:#000000;stroke-width:0.8;\" x=\"595.27943\" xlink:href=\"#mb36767796b\" y=\"252\"/>\n",
       "      </g>\n",
       "     </g>\n",
       "     <g id=\"text_20\">\n",
       "      <!-- 400 -->\n",
       "      <g transform=\"translate(585.73568 266.598437)scale(0.1 -0.1)\">\n",
       "       <use xlink:href=\"#DejaVuSans-34\"/>\n",
       "       <use x=\"63.623047\" xlink:href=\"#DejaVuSans-30\"/>\n",
       "       <use x=\"127.246094\" xlink:href=\"#DejaVuSans-30\"/>\n",
       "      </g>\n",
       "     </g>\n",
       "    </g>\n",
       "    <g id=\"xtick_12\">\n",
       "     <g id=\"line2d_21\">\n",
       "      <g>\n",
       "       <use style=\"stroke:#000000;stroke-width:0.8;\" x=\"642.626148\" xlink:href=\"#mb36767796b\" y=\"252\"/>\n",
       "      </g>\n",
       "     </g>\n",
       "     <g id=\"text_21\">\n",
       "      <!-- 500 -->\n",
       "      <g transform=\"translate(633.082398 266.598437)scale(0.1 -0.1)\">\n",
       "       <use xlink:href=\"#DejaVuSans-35\"/>\n",
       "       <use x=\"63.623047\" xlink:href=\"#DejaVuSans-30\"/>\n",
       "       <use x=\"127.246094\" xlink:href=\"#DejaVuSans-30\"/>\n",
       "      </g>\n",
       "     </g>\n",
       "    </g>\n",
       "    <g id=\"text_22\">\n",
       "     <!-- Epoch -->\n",
       "     <g transform=\"translate(505.870881 280.276563)scale(0.1 -0.1)\">\n",
       "      <use xlink:href=\"#DejaVuSans-45\"/>\n",
       "      <use x=\"63.183594\" xlink:href=\"#DejaVuSans-70\"/>\n",
       "      <use x=\"126.660156\" xlink:href=\"#DejaVuSans-6f\"/>\n",
       "      <use x=\"187.841797\" xlink:href=\"#DejaVuSans-63\"/>\n",
       "      <use x=\"242.822266\" xlink:href=\"#DejaVuSans-68\"/>\n",
       "     </g>\n",
       "    </g>\n",
       "   </g>\n",
       "   <g id=\"matplotlib.axis_4\">\n",
       "    <g id=\"ytick_7\">\n",
       "     <g id=\"line2d_22\">\n",
       "      <g>\n",
       "       <use style=\"stroke:#000000;stroke-width:0.8;\" x=\"394.363636\" xlink:href=\"#mf16403e593\" y=\"233.88\"/>\n",
       "      </g>\n",
       "     </g>\n",
       "     <g id=\"text_23\">\n",
       "      <!-- 0.0 -->\n",
       "      <g transform=\"translate(371.460511 237.679219)scale(0.1 -0.1)\">\n",
       "       <use xlink:href=\"#DejaVuSans-30\"/>\n",
       "       <use x=\"63.623047\" xlink:href=\"#DejaVuSans-2e\"/>\n",
       "       <use x=\"95.410156\" xlink:href=\"#DejaVuSans-30\"/>\n",
       "      </g>\n",
       "     </g>\n",
       "    </g>\n",
       "    <g id=\"ytick_8\">\n",
       "     <g id=\"line2d_23\">\n",
       "      <g>\n",
       "       <use style=\"stroke:#000000;stroke-width:0.8;\" x=\"394.363636\" xlink:href=\"#mf16403e593\" y=\"197.64\"/>\n",
       "      </g>\n",
       "     </g>\n",
       "     <g id=\"text_24\">\n",
       "      <!-- 0.2 -->\n",
       "      <g transform=\"translate(371.460511 201.439219)scale(0.1 -0.1)\">\n",
       "       <use xlink:href=\"#DejaVuSans-30\"/>\n",
       "       <use x=\"63.623047\" xlink:href=\"#DejaVuSans-2e\"/>\n",
       "       <use x=\"95.410156\" xlink:href=\"#DejaVuSans-32\"/>\n",
       "      </g>\n",
       "     </g>\n",
       "    </g>\n",
       "    <g id=\"ytick_9\">\n",
       "     <g id=\"line2d_24\">\n",
       "      <g>\n",
       "       <use style=\"stroke:#000000;stroke-width:0.8;\" x=\"394.363636\" xlink:href=\"#mf16403e593\" y=\"161.4\"/>\n",
       "      </g>\n",
       "     </g>\n",
       "     <g id=\"text_25\">\n",
       "      <!-- 0.4 -->\n",
       "      <g transform=\"translate(371.460511 165.199219)scale(0.1 -0.1)\">\n",
       "       <use xlink:href=\"#DejaVuSans-30\"/>\n",
       "       <use x=\"63.623047\" xlink:href=\"#DejaVuSans-2e\"/>\n",
       "       <use x=\"95.410156\" xlink:href=\"#DejaVuSans-34\"/>\n",
       "      </g>\n",
       "     </g>\n",
       "    </g>\n",
       "    <g id=\"ytick_10\">\n",
       "     <g id=\"line2d_25\">\n",
       "      <g>\n",
       "       <use style=\"stroke:#000000;stroke-width:0.8;\" x=\"394.363636\" xlink:href=\"#mf16403e593\" y=\"125.16\"/>\n",
       "      </g>\n",
       "     </g>\n",
       "     <g id=\"text_26\">\n",
       "      <!-- 0.6 -->\n",
       "      <defs>\n",
       "       <path d=\"M 33.015625 40.375  Q 26.375 40.375 22.484375 35.828125  Q 18.609375 31.296875 18.609375 23.390625  Q 18.609375 15.53125 22.484375 10.953125  Q 26.375 6.390625 33.015625 6.390625  Q 39.65625 6.390625 43.53125 10.953125  Q 47.40625 15.53125 47.40625 23.390625  Q 47.40625 31.296875 43.53125 35.828125  Q 39.65625 40.375 33.015625 40.375  z M 52.59375 71.296875  L 52.59375 62.3125  Q 48.875 64.0625 45.09375 64.984375  Q 41.3125 65.921875 37.59375 65.921875  Q 27.828125 65.921875 22.671875 59.328125  Q 17.53125 52.734375 16.796875 39.40625  Q 19.671875 43.65625 24.015625 45.921875  Q 28.375 48.1875 33.59375 48.1875  Q 44.578125 48.1875 50.953125 41.515625  Q 57.328125 34.859375 57.328125 23.390625  Q 57.328125 12.15625 50.6875 5.359375  Q 44.046875 -1.421875 33.015625 -1.421875  Q 20.359375 -1.421875 13.671875 8.265625  Q 6.984375 17.96875 6.984375 36.375  Q 6.984375 53.65625 15.1875 63.9375  Q 23.390625 74.21875 37.203125 74.21875  Q 40.921875 74.21875 44.703125 73.484375  Q 48.484375 72.75 52.59375 71.296875  z \" id=\"DejaVuSans-36\"/>\n",
       "      </defs>\n",
       "      <g transform=\"translate(371.460511 128.959219)scale(0.1 -0.1)\">\n",
       "       <use xlink:href=\"#DejaVuSans-30\"/>\n",
       "       <use x=\"63.623047\" xlink:href=\"#DejaVuSans-2e\"/>\n",
       "       <use x=\"95.410156\" xlink:href=\"#DejaVuSans-36\"/>\n",
       "      </g>\n",
       "     </g>\n",
       "    </g>\n",
       "    <g id=\"ytick_11\">\n",
       "     <g id=\"line2d_26\">\n",
       "      <g>\n",
       "       <use style=\"stroke:#000000;stroke-width:0.8;\" x=\"394.363636\" xlink:href=\"#mf16403e593\" y=\"88.92\"/>\n",
       "      </g>\n",
       "     </g>\n",
       "     <g id=\"text_27\">\n",
       "      <!-- 0.8 -->\n",
       "      <defs>\n",
       "       <path d=\"M 31.78125 34.625  Q 24.75 34.625 20.71875 30.859375  Q 16.703125 27.09375 16.703125 20.515625  Q 16.703125 13.921875 20.71875 10.15625  Q 24.75 6.390625 31.78125 6.390625  Q 38.8125 6.390625 42.859375 10.171875  Q 46.921875 13.96875 46.921875 20.515625  Q 46.921875 27.09375 42.890625 30.859375  Q 38.875 34.625 31.78125 34.625  z M 21.921875 38.8125  Q 15.578125 40.375 12.03125 44.71875  Q 8.5 49.078125 8.5 55.328125  Q 8.5 64.0625 14.71875 69.140625  Q 20.953125 74.21875 31.78125 74.21875  Q 42.671875 74.21875 48.875 69.140625  Q 55.078125 64.0625 55.078125 55.328125  Q 55.078125 49.078125 51.53125 44.71875  Q 48 40.375 41.703125 38.8125  Q 48.828125 37.15625 52.796875 32.3125  Q 56.78125 27.484375 56.78125 20.515625  Q 56.78125 9.90625 50.3125 4.234375  Q 43.84375 -1.421875 31.78125 -1.421875  Q 19.734375 -1.421875 13.25 4.234375  Q 6.78125 9.90625 6.78125 20.515625  Q 6.78125 27.484375 10.78125 32.3125  Q 14.796875 37.15625 21.921875 38.8125  z M 18.3125 54.390625  Q 18.3125 48.734375 21.84375 45.5625  Q 25.390625 42.390625 31.78125 42.390625  Q 38.140625 42.390625 41.71875 45.5625  Q 45.3125 48.734375 45.3125 54.390625  Q 45.3125 60.0625 41.71875 63.234375  Q 38.140625 66.40625 31.78125 66.40625  Q 25.390625 66.40625 21.84375 63.234375  Q 18.3125 60.0625 18.3125 54.390625  z \" id=\"DejaVuSans-38\"/>\n",
       "      </defs>\n",
       "      <g transform=\"translate(371.460511 92.719219)scale(0.1 -0.1)\">\n",
       "       <use xlink:href=\"#DejaVuSans-30\"/>\n",
       "       <use x=\"63.623047\" xlink:href=\"#DejaVuSans-2e\"/>\n",
       "       <use x=\"95.410156\" xlink:href=\"#DejaVuSans-38\"/>\n",
       "      </g>\n",
       "     </g>\n",
       "    </g>\n",
       "    <g id=\"ytick_12\">\n",
       "     <g id=\"line2d_27\">\n",
       "      <g>\n",
       "       <use style=\"stroke:#000000;stroke-width:0.8;\" x=\"394.363636\" xlink:href=\"#mf16403e593\" y=\"52.68\"/>\n",
       "      </g>\n",
       "     </g>\n",
       "     <g id=\"text_28\">\n",
       "      <!-- 1.0 -->\n",
       "      <g transform=\"translate(371.460511 56.479219)scale(0.1 -0.1)\">\n",
       "       <use xlink:href=\"#DejaVuSans-31\"/>\n",
       "       <use x=\"63.623047\" xlink:href=\"#DejaVuSans-2e\"/>\n",
       "       <use x=\"95.410156\" xlink:href=\"#DejaVuSans-30\"/>\n",
       "      </g>\n",
       "     </g>\n",
       "    </g>\n",
       "   </g>\n",
       "   <g id=\"line2d_28\">\n",
       "    <path clip-path=\"url(#pd1e1b9944d)\" d=\"M 405.892562 233.88  L 610.43038 233.88  L 610.903847 188.58  L 617.532388 188.58  L 618.005855 143.28  L 623.213994 143.28  L 623.687461 97.98  L 635.997607 97.98  L 636.471074 52.68  L 636.471074 52.68  \" style=\"fill:none;stroke:#1f77b4;stroke-linecap:square;stroke-width:1.5;\"/>\n",
       "   </g>\n",
       "   <g id=\"patch_9\">\n",
       "    <path d=\"M 394.363636 252  L 394.363636 34.56  \" style=\"fill:none;stroke:#000000;stroke-linecap:square;stroke-linejoin:miter;stroke-width:0.8;\"/>\n",
       "   </g>\n",
       "   <g id=\"patch_10\">\n",
       "    <path d=\"M 648 252  L 648 34.56  \" style=\"fill:none;stroke:#000000;stroke-linecap:square;stroke-linejoin:miter;stroke-width:0.8;\"/>\n",
       "   </g>\n",
       "   <g id=\"patch_11\">\n",
       "    <path d=\"M 394.363636 252  L 648 252  \" style=\"fill:none;stroke:#000000;stroke-linecap:square;stroke-linejoin:miter;stroke-width:0.8;\"/>\n",
       "   </g>\n",
       "   <g id=\"patch_12\">\n",
       "    <path d=\"M 394.363636 34.56  L 648 34.56  \" style=\"fill:none;stroke:#000000;stroke-linecap:square;stroke-linejoin:miter;stroke-width:0.8;\"/>\n",
       "   </g>\n",
       "   <g id=\"text_29\">\n",
       "    <!-- XOR Network: Accuracy -->\n",
       "    <defs>\n",
       "     <path d=\"M 34.1875 63.1875  L 20.796875 26.90625  L 47.609375 26.90625  z M 28.609375 72.90625  L 39.796875 72.90625  L 67.578125 0  L 57.328125 0  L 50.6875 18.703125  L 17.828125 18.703125  L 11.1875 0  L 0.78125 0  z \" id=\"DejaVuSans-41\"/>\n",
       "     <path d=\"M 8.5 21.578125  L 8.5 54.6875  L 17.484375 54.6875  L 17.484375 21.921875  Q 17.484375 14.15625 20.5 10.265625  Q 23.53125 6.390625 29.59375 6.390625  Q 36.859375 6.390625 41.078125 11.03125  Q 45.3125 15.671875 45.3125 23.6875  L 45.3125 54.6875  L 54.296875 54.6875  L 54.296875 0  L 45.3125 0  L 45.3125 8.40625  Q 42.046875 3.421875 37.71875 1  Q 33.40625 -1.421875 27.6875 -1.421875  Q 18.265625 -1.421875 13.375 4.4375  Q 8.5 10.296875 8.5 21.578125  z M 31.109375 56  z \" id=\"DejaVuSans-75\"/>\n",
       "     <path d=\"M 32.171875 -5.078125  Q 28.375 -14.84375 24.75 -17.8125  Q 21.140625 -20.796875 15.09375 -20.796875  L 7.90625 -20.796875  L 7.90625 -13.28125  L 13.1875 -13.28125  Q 16.890625 -13.28125 18.9375 -11.515625  Q 21 -9.765625 23.484375 -3.21875  L 25.09375 0.875  L 2.984375 54.6875  L 12.5 54.6875  L 29.59375 11.921875  L 46.6875 54.6875  L 56.203125 54.6875  z \" id=\"DejaVuSans-79\"/>\n",
       "    </defs>\n",
       "    <g transform=\"translate(449.800568 28.56)scale(0.12 -0.12)\">\n",
       "     <use xlink:href=\"#DejaVuSans-58\"/>\n",
       "     <use x=\"68.412109\" xlink:href=\"#DejaVuSans-4f\"/>\n",
       "     <use x=\"147.123047\" xlink:href=\"#DejaVuSans-52\"/>\n",
       "     <use x=\"216.605469\" xlink:href=\"#DejaVuSans-20\"/>\n",
       "     <use x=\"248.392578\" xlink:href=\"#DejaVuSans-4e\"/>\n",
       "     <use x=\"323.197266\" xlink:href=\"#DejaVuSans-65\"/>\n",
       "     <use x=\"384.720703\" xlink:href=\"#DejaVuSans-74\"/>\n",
       "     <use x=\"423.929688\" xlink:href=\"#DejaVuSans-77\"/>\n",
       "     <use x=\"505.716797\" xlink:href=\"#DejaVuSans-6f\"/>\n",
       "     <use x=\"566.898438\" xlink:href=\"#DejaVuSans-72\"/>\n",
       "     <use x=\"608.011719\" xlink:href=\"#DejaVuSans-6b\"/>\n",
       "     <use x=\"665.921875\" xlink:href=\"#DejaVuSans-3a\"/>\n",
       "     <use x=\"699.613281\" xlink:href=\"#DejaVuSans-20\"/>\n",
       "     <use x=\"731.400391\" xlink:href=\"#DejaVuSans-41\"/>\n",
       "     <use x=\"799.792969\" xlink:href=\"#DejaVuSans-63\"/>\n",
       "     <use x=\"854.773438\" xlink:href=\"#DejaVuSans-63\"/>\n",
       "     <use x=\"909.753906\" xlink:href=\"#DejaVuSans-75\"/>\n",
       "     <use x=\"973.132812\" xlink:href=\"#DejaVuSans-72\"/>\n",
       "     <use x=\"1014.246094\" xlink:href=\"#DejaVuSans-61\"/>\n",
       "     <use x=\"1075.525391\" xlink:href=\"#DejaVuSans-63\"/>\n",
       "     <use x=\"1130.505859\" xlink:href=\"#DejaVuSans-79\"/>\n",
       "    </g>\n",
       "   </g>\n",
       "   <g id=\"legend_2\">\n",
       "    <g id=\"patch_13\">\n",
       "     <path d=\"M 401.363636 57.238125  L 492.729261 57.238125  Q 494.729261 57.238125 494.729261 55.238125  L 494.729261 41.56  Q 494.729261 39.56 492.729261 39.56  L 401.363636 39.56  Q 399.363636 39.56 399.363636 41.56  L 399.363636 55.238125  Q 399.363636 57.238125 401.363636 57.238125  z \" style=\"fill:#ffffff;opacity:0.8;stroke:#cccccc;stroke-linejoin:miter;\"/>\n",
       "    </g>\n",
       "    <g id=\"line2d_29\">\n",
       "     <path d=\"M 403.363636 47.658437  L 423.363636 47.658437  \" style=\"fill:none;stroke:#1f77b4;stroke-linecap:square;stroke-width:1.5;\"/>\n",
       "    </g>\n",
       "    <g id=\"line2d_30\"/>\n",
       "    <g id=\"text_30\">\n",
       "     <!-- Training set -->\n",
       "     <g transform=\"translate(431.363636 51.158437)scale(0.1 -0.1)\">\n",
       "      <use xlink:href=\"#DejaVuSans-54\"/>\n",
       "      <use x=\"60.865234\" xlink:href=\"#DejaVuSans-72\"/>\n",
       "      <use x=\"101.978516\" xlink:href=\"#DejaVuSans-61\"/>\n",
       "      <use x=\"163.257812\" xlink:href=\"#DejaVuSans-69\"/>\n",
       "      <use x=\"191.041016\" xlink:href=\"#DejaVuSans-6e\"/>\n",
       "      <use x=\"254.419922\" xlink:href=\"#DejaVuSans-69\"/>\n",
       "      <use x=\"282.203125\" xlink:href=\"#DejaVuSans-6e\"/>\n",
       "      <use x=\"345.582031\" xlink:href=\"#DejaVuSans-67\"/>\n",
       "      <use x=\"409.058594\" xlink:href=\"#DejaVuSans-20\"/>\n",
       "      <use x=\"440.845703\" xlink:href=\"#DejaVuSans-73\"/>\n",
       "      <use x=\"492.945312\" xlink:href=\"#DejaVuSans-65\"/>\n",
       "      <use x=\"554.46875\" xlink:href=\"#DejaVuSans-74\"/>\n",
       "     </g>\n",
       "    </g>\n",
       "   </g>\n",
       "  </g>\n",
       " </g>\n",
       " <defs>\n",
       "  <clipPath id=\"p6001dcda10\">\n",
       "   <rect height=\"217.44\" width=\"253.636364\" x=\"90\" y=\"34.56\"/>\n",
       "  </clipPath>\n",
       "  <clipPath id=\"pd1e1b9944d\">\n",
       "   <rect height=\"217.44\" width=\"253.636364\" x=\"394.363636\" y=\"34.56\"/>\n",
       "  </clipPath>\n",
       " </defs>\n",
       "</svg>"
      ],
      "text/plain": [
       "<IPython.core.display.SVG object>"
      ]
     },
     "metadata": {},
     "output_type": "display_data"
    },
    {
     "name": "stdout",
     "output_type": "stream",
     "text": [
      "========================================================================\n",
      "       |  Training |  Training \n",
      "Epochs |     Error |  Accuracy \n",
      "------ | --------- | --------- \n",
      "#  487 |   0.00775 |   1.00000 \n"
     ]
    }
   ],
   "source": [
    "net.reset()\n",
    "net.train(epochs=2000, accuracy=1.0, report_rate=25, plot=True)"
   ]
  },
  {
   "cell_type": "code",
   "execution_count": 12,
   "metadata": {},
   "outputs": [
    {
     "name": "stdout",
     "output_type": "stream",
     "text": [
      "========================================================\n",
      "Testing train dataset with tolerance 0.1000...\n",
      "Total count: 1\n",
      "      correct: 1\n",
      "      incorrect: 0\n",
      "Total percentage correct: 1.0\n"
     ]
    }
   ],
   "source": [
    "net.test()"
   ]
  },
  {
   "cell_type": "code",
   "execution_count": 13,
   "metadata": {},
   "outputs": [
    {
     "data": {
      "text/plain": [
       "[0.0, 1.0]"
      ]
     },
     "execution_count": 13,
     "metadata": {},
     "output_type": "execute_result"
    }
   ],
   "source": [
    "net.propagate_to(\"input\", [0, 1])"
   ]
  },
  {
   "cell_type": "code",
   "execution_count": 14,
   "metadata": {},
   "outputs": [
    {
     "data": {
      "text/plain": [
       "[0.9175764918327332]"
      ]
     },
     "execution_count": 14,
     "metadata": {},
     "output_type": "execute_result"
    }
   ],
   "source": [
    "net.propagate([0.5, 0.5])"
   ]
  },
  {
   "cell_type": "code",
   "execution_count": 15,
   "metadata": {},
   "outputs": [
    {
     "data": {
      "text/plain": [
       "[0.47055867314338684,\n",
       " 0.5521896481513977,\n",
       " 0.025266211479902267,\n",
       " 0.8365349173545837]"
      ]
     },
     "execution_count": 15,
     "metadata": {},
     "output_type": "execute_result"
    }
   ],
   "source": [
    "net.propagate_to(\"hidden\", [1, 0])"
   ]
  },
  {
   "cell_type": "code",
   "execution_count": 16,
   "metadata": {},
   "outputs": [
    {
     "data": {
      "text/plain": [
       "[0.09950613975524902]"
      ]
     },
     "execution_count": 16,
     "metadata": {},
     "output_type": "execute_result"
    }
   ],
   "source": [
    "net.propagate_to(\"output\", [1, 1])"
   ]
  },
  {
   "cell_type": "code",
   "execution_count": 17,
   "metadata": {},
   "outputs": [
    {
     "data": {
      "text/plain": [
       "[0.25, 0.25]"
      ]
     },
     "execution_count": 17,
     "metadata": {},
     "output_type": "execute_result"
    }
   ],
   "source": [
    "net.propagate_to(\"input\", [0.25, 0.25])"
   ]
  },
  {
   "cell_type": "code",
   "execution_count": 18,
   "metadata": {},
   "outputs": [
    {
     "data": {
      "text/plain": [
       "[0.09950614]"
      ]
     },
     "execution_count": 18,
     "metadata": {},
     "output_type": "execute_result"
    }
   ],
   "source": [
    "net.propagate_from(\"input\", [1.0, 1.0])"
   ]
  },
  {
   "cell_type": "code",
   "execution_count": 19,
   "metadata": {},
   "outputs": [
    {
     "data": {
      "text/plain": [
       "[6.5656707e-08]"
      ]
     },
     "execution_count": 19,
     "metadata": {},
     "output_type": "execute_result"
    }
   ],
   "source": [
    "net.propagate_from(\"hidden\", [1.0, 0.0, 1.0, -1.0])"
   ]
  },
  {
   "cell_type": "code",
   "execution_count": 20,
   "metadata": {},
   "outputs": [
    {
     "name": "stdout",
     "output_type": "stream",
     "text": [
      "========================================================\n",
      "Testing train dataset with tolerance 0.1000...\n",
      "Total count: 1\n",
      "      correct: 1\n",
      "      incorrect: 0\n",
      "Total percentage correct: 1.0\n"
     ]
    }
   ],
   "source": [
    "net.test()"
   ]
  },
  {
   "cell_type": "code",
   "execution_count": 21,
   "metadata": {},
   "outputs": [],
   "source": [
    "from conx import Network, Layer, SGD"
   ]
  },
  {
   "cell_type": "code",
   "execution_count": 22,
   "metadata": {},
   "outputs": [],
   "source": [
    "net = Network(\"XOR2 Network\")\n",
    "net.add(Layer(\"input1\", 1))\n",
    "net.add(Layer(\"input2\", 1))\n",
    "net.add(Layer(\"hidden1\", 10, activation=\"sigmoid\"))\n",
    "net.add(Layer(\"hidden2\", 10, activation=\"sigmoid\"))\n",
    "net.add(Layer(\"shared-hidden\", 5, activation=\"sigmoid\"))\n",
    "net.add(Layer(\"output1\", 1, activation=\"sigmoid\", minmax=(-1,1)))\n",
    "net.add(Layer(\"output2\", 1, activation=\"sigmoid\", minmax=(-1,1)))"
   ]
  },
  {
   "cell_type": "code",
   "execution_count": 23,
   "metadata": {},
   "outputs": [
    {
     "data": {
      "text/plain": [
       "<Network name='XOR2 Network' (uncompiled)>"
      ]
     },
     "execution_count": 23,
     "metadata": {},
     "output_type": "execute_result"
    }
   ],
   "source": [
    "net"
   ]
  },
  {
   "cell_type": "code",
   "execution_count": 24,
   "metadata": {},
   "outputs": [],
   "source": [
    "net.connect(\"input1\", \"hidden1\")\n",
    "net.connect(\"input2\", \"hidden2\")\n",
    "net.connect(\"hidden1\", \"shared-hidden\")\n",
    "net.connect(\"hidden2\", \"shared-hidden\")\n",
    "net.connect(\"shared-hidden\", \"output1\")\n",
    "net.connect(\"shared-hidden\", \"output2\")"
   ]
  },
  {
   "cell_type": "code",
   "execution_count": 25,
   "metadata": {},
   "outputs": [
    {
     "data": {
      "text/plain": [
       "[<Layer name='input1', shape=(1,), act='None'>]"
      ]
     },
     "execution_count": 25,
     "metadata": {},
     "output_type": "execute_result"
    }
   ],
   "source": [
    "net.layers[2].incoming_connections"
   ]
  },
  {
   "cell_type": "code",
   "execution_count": 26,
   "metadata": {},
   "outputs": [],
   "source": [
    "net.compile(loss='mean_squared_error',\n",
    "            optimizer=SGD(lr=0.3, momentum=0.9))"
   ]
  },
  {
   "cell_type": "code",
   "execution_count": 27,
   "metadata": {},
   "outputs": [
    {
     "data": {
      "application/vnd.jupyter.widget-view+json": {
       "model_id": "9f12c2b6535f4fcb95df7c75eebbd724",
       "version_major": 2,
       "version_minor": 0
      },
      "text/html": [
       "<p>Failed to display Jupyter Widget of type <code>Dashboard</code>.</p>\n",
       "<p>\n",
       "  If you're reading this message in the Jupyter Notebook or JupyterLab Notebook, it may mean\n",
       "  that the widgets JavaScript is still loading. If this message persists, it\n",
       "  likely means that the widgets JavaScript library is either not installed or\n",
       "  not enabled. See the <a href=\"https://ipywidgets.readthedocs.io/en/stable/user_install.html\">Jupyter\n",
       "  Widgets Documentation</a> for setup instructions.\n",
       "</p>\n",
       "<p>\n",
       "  If you're reading this message in another frontend (for example, a static\n",
       "  rendering on GitHub or <a href=\"https://nbviewer.jupyter.org/\">NBViewer</a>),\n",
       "  it may mean that your frontend doesn't currently support widgets.\n",
       "</p>\n"
      ],
      "text/plain": [
       "Dashboard(children=(Accordion(children=(HBox(children=(VBox(children=(Select(description='Dataset:', index=1, options=('Test', 'Train'), rows=1, value='Train'), FloatSlider(value=1.0, continuous_update=False, description='Zoom', max=3.0, min=0.5), IntText(value=200, description='Horizontal space between banks:', style=DescriptionStyle(description_width='initial')), IntText(value=30, description='Vertical space between layers:', style=DescriptionStyle(description_width='initial')), HBox(children=(Checkbox(value=False, description='Show Targets', style=DescriptionStyle(description_width='initial')), Checkbox(value=False, description='Errors', style=DescriptionStyle(description_width='initial')))), Select(description='Features:', options=('',), rows=1, value=''), IntText(value=3, description='Feature columns:', style=DescriptionStyle(description_width='initial')), FloatText(value=2.0, description='Feature scale:', style=DescriptionStyle(description_width='initial'))), layout=Layout(width='100%')), VBox(children=(Select(description='Layer:', index=6, options=('input1', 'input2', 'hidden1', 'hidden2', 'shared-hidden', 'output1', 'output2'), rows=1, value='output2'), Checkbox(value=True, description='Visible'), Select(description='Colormap:', options=('', 'Accent', 'Accent_r', 'Blues', 'Blues_r', 'BrBG', 'BrBG_r', 'BuGn', 'BuGn_r', 'BuPu', 'BuPu_r', 'CMRmap', 'CMRmap_r', 'Dark2', 'Dark2_r', 'GnBu', 'GnBu_r', 'Greens', 'Greens_r', 'Greys', 'Greys_r', 'OrRd', 'OrRd_r', 'Oranges', 'Oranges_r', 'PRGn', 'PRGn_r', 'Paired', 'Paired_r', 'Pastel1', 'Pastel1_r', 'Pastel2', 'Pastel2_r', 'PiYG', 'PiYG_r', 'PuBu', 'PuBuGn', 'PuBuGn_r', 'PuBu_r', 'PuOr', 'PuOr_r', 'PuRd', 'PuRd_r', 'Purples', 'Purples_r', 'RdBu', 'RdBu_r', 'RdGy', 'RdGy_r', 'RdPu', 'RdPu_r', 'RdYlBu', 'RdYlBu_r', 'RdYlGn', 'RdYlGn_r', 'Reds', 'Reds_r', 'Set1', 'Set1_r', 'Set2', 'Set2_r', 'Set3', 'Set3_r', 'Spectral', 'Spectral_r', 'Vega10', 'Vega10_r', 'Vega20', 'Vega20_r', 'Vega20b', 'Vega20b_r', 'Vega20c', 'Vega20c_r', 'Wistia', 'Wistia_r', 'YlGn', 'YlGnBu', 'YlGnBu_r', 'YlGn_r', 'YlOrBr', 'YlOrBr_r', 'YlOrRd', 'YlOrRd_r', 'afmhot', 'afmhot_r', 'autumn', 'autumn_r', 'binary', 'binary_r', 'bone', 'bone_r', 'brg', 'brg_r', 'bwr', 'bwr_r', 'cool', 'cool_r', 'coolwarm', 'coolwarm_r', 'copper', 'copper_r', 'cubehelix', 'cubehelix_r', 'flag', 'flag_r', 'gist_earth', 'gist_earth_r', 'gist_gray', 'gist_gray_r', 'gist_heat', 'gist_heat_r', 'gist_ncar', 'gist_ncar_r', 'gist_rainbow', 'gist_rainbow_r', 'gist_stern', 'gist_stern_r', 'gist_yarg', 'gist_yarg_r', 'gnuplot', 'gnuplot2', 'gnuplot2_r', 'gnuplot_r', 'gray', 'gray_r', 'hot', 'hot_r', 'hsv', 'hsv_r', 'inferno', 'inferno_r', 'jet', 'jet_r', 'magma', 'magma_r', 'nipy_spectral', 'nipy_spectral_r', 'ocean', 'ocean_r', 'pink', 'pink_r', 'plasma', 'plasma_r', 'prism', 'prism_r', 'rainbow', 'rainbow_r', 'seismic', 'seismic_r', 'spectral', 'spectral_r', 'spring', 'spring_r', 'summer', 'summer_r', 'tab10', 'tab10_r', 'tab20', 'tab20_r', 'tab20b', 'tab20b_r', 'tab20c', 'tab20c_r', 'terrain', 'terrain_r', 'viridis', 'viridis_r', 'winter', 'winter_r'), rows=1, value=''), HTML(value='<img src=\"data:image/gif;base64,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\"/>'), FloatText(value=-1.0, description='Leftmost color maps to:', style=DescriptionStyle(description_width='initial')), FloatText(value=1.0, description='Rightmost color maps to:', style=DescriptionStyle(description_width='initial')), IntText(value=0, description='Feature to show:', style=DescriptionStyle(description_width='initial'))), layout=Layout(width='100%')))),), selected_index=None, _titles={'0': 'XOR2 Network'}), VBox(children=(HBox(children=(IntSlider(value=0, continuous_update=False, description='Dataset index', layout=Layout(width='100%'), max=0), Label(value='of 0', layout=Layout(width='100px'))), layout=Layout(height='40px')), HBox(children=(Button(icon='fast-backward', layout=Layout(width='100%'), style=ButtonStyle()), Button(icon='backward', layout=Layout(width='100%'), style=ButtonStyle()), IntText(value=0, layout=Layout(width='100%')), Button(icon='forward', layout=Layout(width='100%'), style=ButtonStyle()), Button(icon='fast-forward', layout=Layout(width='100%'), style=ButtonStyle()), Button(description='Play', icon='play', layout=Layout(width='100%'), style=ButtonStyle()), Button(icon='refresh', layout=Layout(width='25%'), style=ButtonStyle())), layout=Layout(height='50px', width='100%'))), layout=Layout(width='100%')), HTML(value='<p style=\"text-align:center\"></p>', layout=Layout(justify_content='center', overflow_x='auto', overflow_y='auto', width='95%')), Output()))"
      ]
     },
     "metadata": {},
     "output_type": "display_data"
    },
    {
     "data": {
      "application/javascript": [
       "\n",
       "require(['base/js/namespace'], function(Jupyter) {\n",
       "    Jupyter.notebook.kernel.comm_manager.register_target('conx_svg_control', function(comm, msg) {\n",
       "        comm.on_msg(function(msg) {\n",
       "            var data = msg[\"content\"][\"data\"];\n",
       "            var images = document.getElementsByClassName(data[\"class\"]);\n",
       "            for (var i = 0; i < images.length; i++) {\n",
       "                if (data[\"href\"]) {\n",
       "                    images[i].setAttributeNS(null, \"href\", data[\"href\"]);\n",
       "                }\n",
       "                if (data[\"src\"]) {\n",
       "                    images[i].setAttributeNS(null, \"src\", data[\"src\"]);\n",
       "                }\n",
       "            }\n",
       "        });\n",
       "    });\n",
       "});\n"
      ],
      "text/plain": [
       "<IPython.core.display.Javascript object>"
      ]
     },
     "metadata": {},
     "output_type": "display_data"
    },
    {
     "data": {
      "application/javascript": [
       "\n",
       "require(['base/js/namespace'], function(Jupyter) {\n",
       "    Jupyter.notebook.kernel.comm_manager.register_target('conx_svg_control', function(comm, msg) {\n",
       "        comm.on_msg(function(msg) {\n",
       "            var data = msg[\"content\"][\"data\"];\n",
       "            var images = document.getElementsByClassName(data[\"class\"]);\n",
       "            for (var i = 0; i < images.length; i++) {\n",
       "                if (data[\"href\"]) {\n",
       "                    images[i].setAttributeNS(null, \"href\", data[\"href\"]);\n",
       "                }\n",
       "                if (data[\"src\"]) {\n",
       "                    images[i].setAttributeNS(null, \"src\", data[\"src\"]);\n",
       "                }\n",
       "            }\n",
       "        });\n",
       "    });\n",
       "});\n"
      ],
      "text/plain": [
       "<IPython.core.display.Javascript object>"
      ]
     },
     "metadata": {},
     "output_type": "display_data"
    },
    {
     "data": {
      "application/javascript": [
       "\n",
       "require(['base/js/namespace'], function(Jupyter) {\n",
       "    Jupyter.notebook.kernel.comm_manager.register_target('conx_svg_control', function(comm, msg) {\n",
       "        comm.on_msg(function(msg) {\n",
       "            var data = msg[\"content\"][\"data\"];\n",
       "            var images = document.getElementsByClassName(data[\"class\"]);\n",
       "            for (var i = 0; i < images.length; i++) {\n",
       "                if (data[\"href\"]) {\n",
       "                    images[i].setAttributeNS(null, \"href\", data[\"href\"]);\n",
       "                }\n",
       "                if (data[\"src\"]) {\n",
       "                    images[i].setAttributeNS(null, \"src\", data[\"src\"]);\n",
       "                }\n",
       "            }\n",
       "        });\n",
       "    });\n",
       "});\n"
      ],
      "text/plain": [
       "<IPython.core.display.Javascript object>"
      ]
     },
     "metadata": {},
     "output_type": "display_data"
    },
    {
     "data": {
      "application/javascript": [
       "\n",
       "require(['base/js/namespace'], function(Jupyter) {\n",
       "    Jupyter.notebook.kernel.comm_manager.register_target('conx_svg_control', function(comm, msg) {\n",
       "        comm.on_msg(function(msg) {\n",
       "            var data = msg[\"content\"][\"data\"];\n",
       "            var images = document.getElementsByClassName(data[\"class\"]);\n",
       "            for (var i = 0; i < images.length; i++) {\n",
       "                if (data[\"href\"]) {\n",
       "                    images[i].setAttributeNS(null, \"href\", data[\"href\"]);\n",
       "                }\n",
       "                if (data[\"src\"]) {\n",
       "                    images[i].setAttributeNS(null, \"src\", data[\"src\"]);\n",
       "                }\n",
       "            }\n",
       "        });\n",
       "    });\n",
       "});\n"
      ],
      "text/plain": [
       "<IPython.core.display.Javascript object>"
      ]
     },
     "metadata": {},
     "output_type": "display_data"
    },
    {
     "data": {
      "application/javascript": [
       "\n",
       "require(['base/js/namespace'], function(Jupyter) {\n",
       "    Jupyter.notebook.kernel.comm_manager.register_target('conx_svg_control', function(comm, msg) {\n",
       "        comm.on_msg(function(msg) {\n",
       "            var data = msg[\"content\"][\"data\"];\n",
       "            var images = document.getElementsByClassName(data[\"class\"]);\n",
       "            for (var i = 0; i < images.length; i++) {\n",
       "                if (data[\"href\"]) {\n",
       "                    images[i].setAttributeNS(null, \"href\", data[\"href\"]);\n",
       "                }\n",
       "                if (data[\"src\"]) {\n",
       "                    images[i].setAttributeNS(null, \"src\", data[\"src\"]);\n",
       "                }\n",
       "            }\n",
       "        });\n",
       "    });\n",
       "});\n"
      ],
      "text/plain": [
       "<IPython.core.display.Javascript object>"
      ]
     },
     "metadata": {},
     "output_type": "display_data"
    }
   ],
   "source": [
    "net.config[\"hspace\"] = 200\n",
    "widget = net.dashboard()\n",
    "widget"
   ]
  },
  {
   "cell_type": "code",
   "execution_count": 28,
   "metadata": {},
   "outputs": [
    {
     "ename": "Exception",
     "evalue": "layer 'hidden1' has no features",
     "output_type": "error",
     "traceback": [
      "\u001b[0;31m---------------------------------------------------------------------------\u001b[0m",
      "\u001b[0;31mException\u001b[0m                                 Traceback (most recent call last)",
      "\u001b[0;32m<ipython-input-28-9d4a5c378635>\u001b[0m in \u001b[0;36m<module>\u001b[0;34m()\u001b[0m\n\u001b[0;32m----> 1\u001b[0;31m \u001b[0mnet\u001b[0m\u001b[0;34m.\u001b[0m\u001b[0mpropagate_to_features\u001b[0m\u001b[0;34m(\u001b[0m\u001b[0;34m\"hidden1\"\u001b[0m\u001b[0;34m,\u001b[0m \u001b[0;34m[\u001b[0m\u001b[0;34m[\u001b[0m\u001b[0;34m[\u001b[0m\u001b[0;36m1\u001b[0m\u001b[0;34m]\u001b[0m\u001b[0;34m,\u001b[0m \u001b[0;34m[\u001b[0m\u001b[0;36m1\u001b[0m\u001b[0;34m]\u001b[0m\u001b[0;34m]\u001b[0m\u001b[0;34m]\u001b[0m\u001b[0;34m)\u001b[0m\u001b[0;34m\u001b[0m\u001b[0m\n\u001b[0m",
      "\u001b[0;32m/usr/local/lib/python3.6/dist-packages/conx/network.py\u001b[0m in \u001b[0;36mpropagate_to_features\u001b[0;34m(self, layer_name, inputs, cols, scale, html, size, display)\u001b[0m\n\u001b[1;32m   1185\u001b[0m                 \u001b[0mself\u001b[0m\u001b[0;34m[\u001b[0m\u001b[0mlayer_name\u001b[0m\u001b[0;34m]\u001b[0m\u001b[0;34m.\u001b[0m\u001b[0mfeature\u001b[0m \u001b[0;34m=\u001b[0m \u001b[0morig_feature\u001b[0m\u001b[0;34m\u001b[0m\u001b[0m\n\u001b[1;32m   1186\u001b[0m         \u001b[0;32melse\u001b[0m\u001b[0;34m:\u001b[0m\u001b[0;34m\u001b[0m\u001b[0m\n\u001b[0;32m-> 1187\u001b[0;31m             \u001b[0;32mraise\u001b[0m \u001b[0mException\u001b[0m\u001b[0;34m(\u001b[0m\u001b[0;34m\"layer '%s' has no features\"\u001b[0m \u001b[0;34m%\u001b[0m \u001b[0mlayer_name\u001b[0m\u001b[0;34m)\u001b[0m\u001b[0;34m\u001b[0m\u001b[0m\n\u001b[0m\u001b[1;32m   1188\u001b[0m \u001b[0;34m\u001b[0m\u001b[0m\n\u001b[1;32m   1189\u001b[0m     \u001b[0;32mdef\u001b[0m \u001b[0mpropagate_to_image\u001b[0m\u001b[0;34m(\u001b[0m\u001b[0mself\u001b[0m\u001b[0;34m,\u001b[0m \u001b[0mlayer_name\u001b[0m\u001b[0;34m,\u001b[0m \u001b[0minput\u001b[0m\u001b[0;34m,\u001b[0m \u001b[0mbatch_size\u001b[0m\u001b[0;34m=\u001b[0m\u001b[0;36m32\u001b[0m\u001b[0;34m,\u001b[0m \u001b[0mscale\u001b[0m\u001b[0;34m=\u001b[0m\u001b[0;36m1.0\u001b[0m\u001b[0;34m,\u001b[0m \u001b[0mvisualize\u001b[0m\u001b[0;34m=\u001b[0m\u001b[0;32mNone\u001b[0m\u001b[0;34m)\u001b[0m\u001b[0;34m:\u001b[0m\u001b[0;34m\u001b[0m\u001b[0m\n",
      "\u001b[0;31mException\u001b[0m: layer 'hidden1' has no features"
     ]
    }
   ],
   "source": [
    "net.propagate_to_features(\"hidden1\", [[[1], [1]]])"
   ]
  },
  {
   "cell_type": "code",
   "execution_count": 29,
   "metadata": {},
   "outputs": [
    {
     "data": {
      "text/plain": [
       "[[0.3960672616958618], [0.6604986786842346]]"
      ]
     },
     "execution_count": 29,
     "metadata": {},
     "output_type": "execute_result"
    }
   ],
   "source": [
    "net.propagate([[1], [1]])"
   ]
  },
  {
   "cell_type": "code",
   "execution_count": 30,
   "metadata": {},
   "outputs": [],
   "source": [
    "dataset = [\n",
    "    ([[0],[0]], [[0],[0]]),\n",
    "    ([[0],[1]], [[1],[1]]),\n",
    "    ([[1],[0]], [[1],[1]]),\n",
    "    ([[1],[1]], [[0],[0]])\n",
    "]"
   ]
  },
  {
   "cell_type": "code",
   "execution_count": 31,
   "metadata": {},
   "outputs": [],
   "source": [
    "net.dataset.load(dataset)"
   ]
  },
  {
   "cell_type": "code",
   "execution_count": 32,
   "metadata": {},
   "outputs": [
    {
     "data": {
      "text/plain": [
       "[[[-0.45850542187690735,\n",
       "   0.3539709448814392,\n",
       "   0.22485627233982086,\n",
       "   0.5756452083587646,\n",
       "   0.35333147644996643,\n",
       "   0.4201839864253998,\n",
       "   0.6079747080802917,\n",
       "   0.10399402678012848,\n",
       "   0.02507265843451023,\n",
       "   0.7115357518196106]],\n",
       " [0.0, 0.0, 0.0, 0.0, 0.0, 0.0, 0.0, 0.0, 0.0, 0.0]]"
      ]
     },
     "execution_count": 32,
     "metadata": {},
     "output_type": "execute_result"
    }
   ],
   "source": [
    "net.get_weights(\"hidden2\")"
   ]
  },
  {
   "cell_type": "code",
   "execution_count": 33,
   "metadata": {},
   "outputs": [
    {
     "data": {
      "text/plain": [
       "[[0.3960672616958618], [0.6604986786842346]]"
      ]
     },
     "execution_count": 33,
     "metadata": {},
     "output_type": "execute_result"
    }
   ],
   "source": [
    "net.propagate([[1], [1]])"
   ]
  },
  {
   "cell_type": "code",
   "execution_count": 34,
   "metadata": {},
   "outputs": [
    {
     "data": {
      "application/vnd.jupyter.widget-view+json": {
       "model_id": "cb8e74d707604f758864f6dcef2dda10",
       "version_major": 2,
       "version_minor": 0
      },
      "text/html": [
       "<p>Failed to display Jupyter Widget of type <code>Dashboard</code>.</p>\n",
       "<p>\n",
       "  If you're reading this message in the Jupyter Notebook or JupyterLab Notebook, it may mean\n",
       "  that the widgets JavaScript is still loading. If this message persists, it\n",
       "  likely means that the widgets JavaScript library is either not installed or\n",
       "  not enabled. See the <a href=\"https://ipywidgets.readthedocs.io/en/stable/user_install.html\">Jupyter\n",
       "  Widgets Documentation</a> for setup instructions.\n",
       "</p>\n",
       "<p>\n",
       "  If you're reading this message in another frontend (for example, a static\n",
       "  rendering on GitHub or <a href=\"https://nbviewer.jupyter.org/\">NBViewer</a>),\n",
       "  it may mean that your frontend doesn't currently support widgets.\n",
       "</p>\n"
      ],
      "text/plain": [
       "Dashboard(children=(Accordion(children=(HBox(children=(VBox(children=(Select(description='Dataset:', index=1, options=('Test', 'Train'), rows=1, value='Train'), FloatSlider(value=1.7, continuous_update=False, description='Zoom', max=3.0, min=0.5), IntText(value=200, description='Horizontal space between banks:', style=DescriptionStyle(description_width='initial')), IntText(value=30, description='Vertical space between layers:', style=DescriptionStyle(description_width='initial')), HBox(children=(Checkbox(value=False, description='Show Targets', style=DescriptionStyle(description_width='initial')), Checkbox(value=False, description='Errors', style=DescriptionStyle(description_width='initial')))), Select(description='Features:', options=('',), rows=1, value=''), IntText(value=3, description='Feature columns:', style=DescriptionStyle(description_width='initial')), FloatText(value=2.0, description='Feature scale:', style=DescriptionStyle(description_width='initial'))), layout=Layout(width='100%')), VBox(children=(Select(description='Layer:', index=6, options=('input1', 'input2', 'hidden1', 'hidden2', 'shared-hidden', 'output1', 'output2'), rows=1, value='output2'), Checkbox(value=True, description='Visible'), Select(description='Colormap:', options=('', 'Accent', 'Accent_r', 'Blues', 'Blues_r', 'BrBG', 'BrBG_r', 'BuGn', 'BuGn_r', 'BuPu', 'BuPu_r', 'CMRmap', 'CMRmap_r', 'Dark2', 'Dark2_r', 'GnBu', 'GnBu_r', 'Greens', 'Greens_r', 'Greys', 'Greys_r', 'OrRd', 'OrRd_r', 'Oranges', 'Oranges_r', 'PRGn', 'PRGn_r', 'Paired', 'Paired_r', 'Pastel1', 'Pastel1_r', 'Pastel2', 'Pastel2_r', 'PiYG', 'PiYG_r', 'PuBu', 'PuBuGn', 'PuBuGn_r', 'PuBu_r', 'PuOr', 'PuOr_r', 'PuRd', 'PuRd_r', 'Purples', 'Purples_r', 'RdBu', 'RdBu_r', 'RdGy', 'RdGy_r', 'RdPu', 'RdPu_r', 'RdYlBu', 'RdYlBu_r', 'RdYlGn', 'RdYlGn_r', 'Reds', 'Reds_r', 'Set1', 'Set1_r', 'Set2', 'Set2_r', 'Set3', 'Set3_r', 'Spectral', 'Spectral_r', 'Vega10', 'Vega10_r', 'Vega20', 'Vega20_r', 'Vega20b', 'Vega20b_r', 'Vega20c', 'Vega20c_r', 'Wistia', 'Wistia_r', 'YlGn', 'YlGnBu', 'YlGnBu_r', 'YlGn_r', 'YlOrBr', 'YlOrBr_r', 'YlOrRd', 'YlOrRd_r', 'afmhot', 'afmhot_r', 'autumn', 'autumn_r', 'binary', 'binary_r', 'bone', 'bone_r', 'brg', 'brg_r', 'bwr', 'bwr_r', 'cool', 'cool_r', 'coolwarm', 'coolwarm_r', 'copper', 'copper_r', 'cubehelix', 'cubehelix_r', 'flag', 'flag_r', 'gist_earth', 'gist_earth_r', 'gist_gray', 'gist_gray_r', 'gist_heat', 'gist_heat_r', 'gist_ncar', 'gist_ncar_r', 'gist_rainbow', 'gist_rainbow_r', 'gist_stern', 'gist_stern_r', 'gist_yarg', 'gist_yarg_r', 'gnuplot', 'gnuplot2', 'gnuplot2_r', 'gnuplot_r', 'gray', 'gray_r', 'hot', 'hot_r', 'hsv', 'hsv_r', 'inferno', 'inferno_r', 'jet', 'jet_r', 'magma', 'magma_r', 'nipy_spectral', 'nipy_spectral_r', 'ocean', 'ocean_r', 'pink', 'pink_r', 'plasma', 'plasma_r', 'prism', 'prism_r', 'rainbow', 'rainbow_r', 'seismic', 'seismic_r', 'spectral', 'spectral_r', 'spring', 'spring_r', 'summer', 'summer_r', 'tab10', 'tab10_r', 'tab20', 'tab20_r', 'tab20b', 'tab20b_r', 'tab20c', 'tab20c_r', 'terrain', 'terrain_r', 'viridis', 'viridis_r', 'winter', 'winter_r'), rows=1, value=''), HTML(value='<img src=\"data:image/gif;base64,R0lGODdhLAEZAIcAAPEBAY8AAM8AAAEB8q8AAAAAbwAAsAAAkAAA0PTo8vr3+wAAV0dH/7e3//9WVv/W1hYW/zQ0/2dn/4aG/6Sk/9nZ//8XF/82Nv9oaP+Xl/+1tSQk/1lZ/3h4/5SU/8nJ//8mJv9ERP95ef+Hh/+mpv/ExH8AAAAAAAAAAAAAAAAAAAAAAAAAAAAAAAAAAAAAAAAAAAAAAAAAAAAAAAAAAAAAAAAAAAAAAAAAAAAAAAAAAAAAAAAAAAAAAAAAAAAAAAAAAAAAAAAAAAAAAAAAAAAAAAAAAAAAAAAAAAAAAAAAAAAAAAAAAAAAAAAAAAAAAAAAAAAAAAAAAAAAAAAAAAAAAAAAAAAAAAAAAAAAAAAAAAAAAAAAAAAAAAAAAAAAAAAAAAAAAAAAAAAAAAAAAAAAAAAAAAAAAAAAAAAAAAAAAAAAAAAAAAAAAAAAAAAAAAAAAAAAAAAAAAAAAAAAAAAAAAAAAAAAAAAAAAAAAAAAAAAAAAAAAAAAAAAAAAAAAAAAAAAAAAAAAAAAAAAAAAAAAAAAAAAAAAAAAAAAAAAAAAAAAAAAAAAAAAAAAAAAAAAAAAAAAAAAAAAAAAAAAAAAAAAAAAAAAAAAAAAAAAAAAAAAAAAAAAAAAAAAAAAAAAAAAAAAAAAAAAAAAAAAAAAAAAAAAAAAAAAAAAAAAAAAAAAAAAAAAAAAAAAAAAAAAAAAAAAAAAAAAAAAAAAAAAAAAAAAAAAAAAAAAAAAAAAAAAAAAAAAAAAAAAAAAAAAAAAAAAAAAAAAAAAAAAAAAAAAAAAAAAAAAAAAAAAAAAAAAAAAAAAAAAAAAAAAAAAAAAAAAAAAAAAAAAAAAAAAAAAAAAAAAAAAAAAAAAAAAAAAAAAAAAAAAAAAAAAAAAAAAAAAAAAAAAAAAAAAAAAAAAAAAAAAAAAAAAAAAAAAAAAAAAAAAAAAAAAAAAAAAAAAAAAAAAAAAAAAAAAAAAAAAAAAAAAAAAAAAAAAAAAAAAAAAAAAAAAAAAAAAAAAAAAAACwAAAAALAEZAEAI/wBNBBhIsKBBgwQSKlzIUKGAhxAjSowIoKLFixgzVrTAkSOIjyAuiBQZomQIByhTYli5UoRLESNijshAkyaJmyQ06NRZomeJB0CDJhg6VIHRo0cTKE1QoWnTD1A/NJhKlYJVqx6yepjAlWuHrx0kiBXLoSwHBmjTRli7doPbDRDixh1At67du3UR6N3LV6+Bv4ADCz5AuLBhwgUSK17MeIHjxyYCSJ5MuXJlApgza96cWYDnz6BDgwZAurTp06hJW1i9GoRrEBdixw5BO4SD27gx6NYtoreIEcBHZBg+nIRxEhqSJy/BvMSD59ATSJeuoLp16wmyJ6jAnfuH7x8aiP8fT6F8eQ/oPUxYv76D+w4S4sfnQJ8Dg/v4I+jXv6H/BoAQBAocUNDgQYQGESxk2HChAYgRJU48UNHixYoFNG7k2HHBR5AmAowkWdKkSQIpVa5kqVLAS5gxZcYEUNPmTZw5a1rgyRPETxAXhAoNUTSEA6RJMSxdKsKpiBFRR2SgSpXEVRIatGot0bXEA7BhE4wdq8Ds2bMJ1Cao0LbtB7gfGsylS8GuXQ95PUzgy7fD3w4SBAvmUJgDA8SJIyxevMHxBgiRIw+gXNny5coING/mrNnAZ9ChRR8gXdo06QKpVa9mvcD1axMBZM+mXbs2Ady5de/OLcD3b+DBgQMgXtz/+HHkxC0sXw7COYgL0aOHoB7CwXXsGLRrF9FdxAjwIzKMH0/CPAkN6dOXYF/iwXv4CeTLV1Dfvv0E+RNU4M//A8APAhsQLEjh4EEPCj1MaNiwA8QOEiZO5GCRA4OMGiNw5Ljh4wYIIkUOKGnyJEqTCFaybLnSAMyYMmceqGnzZs0COnfy7LngJ1ATAYYSLWrUKIGkSpcyVSrgKdSoUqMCqGr1KtasVS1w5QriK4gLYsWGKBvCAdq0GNauFeFWxIi4IzLQpUviLgkNevWW6FviAeDACQYPVmD48OEEihNUaNz4A+QPDSZTpmDZsofMHiZw5tzhcwcJokVzKM2BAerU/xFWr97gegOE2LEH0K5t+3ZtBLp389Zt4Dfw4MIPEC9unHiB5MqXM1/g/LmJANKnU69enQD27Nq3Zxfg/Tv48OABkC9v/jx68hbWrwfhHsSF+PFD0A/h4D5+DPr1i+gvAuAIgSMyFCxIAiEJDQsXlnBY4kFEiQkoUlRwESPGBBsTVPDo8UPIDw1IlqRw8qQHlR4mtGzZAWYHCTNncrDJgUFOnRF48tzwcwMEoUIHFDV6FKlRBEuZNl1qAGpUqVMPVLV6tWoBrVu5dl3wFayJAGPJljVrlkBatWvZqhXwFm5cuXEB1LV7F2/euhb48gXxF8QFwYJDFA7hAHFiDIsXi/9wLGJE5BEZKFMmcZmEBs2aS3Qu8QB06ASjRyswffp0AtUJKrRu/QH2hwazaVOwbdtDbg8TePPu8LuDBOHCORTnwAB58gjLl29wvgFC9OgDqFe3fr06Au3buWs38B18ePEHyJc3T75AevXr2S9w/95EAPnz6devTwB/fv378wvwD1CAwIEECwoAgDChwoUMEVp4+BCERBAXKlYMgTGEg40cMXj0KCKkiBEkR2Q4eZKEShIaWrYsAbPEg5k0E9i0qSCnTp0JeiaoABToh6EfGhg9SiFpUg9MPUx4+rSD1A4SqlblgJUDg61cI3j1uiHsBghkyQ44izatWrQI2rp929b/gNy5dOseuIs3790CfPv6/bsgsGATAQobPowYMYHFjBs7ZiwgsuTJlCcDuIw5s+bNly149gwiNIgLpEmHOB3CgerVGFq3FgFbxIjZIzLYtk0iNwkNvHmX+F3igfDhCYoXV4A8efIEzBNUeP78g/QPDapbp4Adu4ftHiZ4994hfAcJ5MlzOM+Bgfr1Edq33wB/A4T58wfYv48//30E/Pv7B4gAgQGCBQ0ePJBQ4cKEBRw+hBhxwUSKJgJcxJhRo0YCHT1+BOlRwEiSJU2WBJBS5UqWLVNagAkTxEwQF2zaDJEzhAOePTH8/ClCqIgRRUdkQIqUxFISGpw6LRG1xAOq/1UTXL2qQOvWrQm8JqgQNuwHsh8anEVLQa1aD209TIALt8PcDhLs2uWQlwMDvn0j/P27QfAGCIULD0CcWPHixAgcP4bs2MBkypUtH8CcWTPmAp09fwa9QPRoEwFMn0adOjUB1q1dv24tQPZs2rVpA8CdW/du3rgt/P4NQjiIC8WLh0AewsFy5hicOxcRXcQI6iMyXL9OQjsJDd27lwBf4sF48gnMm1eQXr36BO0TVIAP/8P8Dw3s36eQP78H/h4mAJwgcEKHgh0kIETIYSEHBg4fRogYcQPFDRAuXhygcSPHjhsRgAwpEqSBkiZPojygciVLlQVewowpcwHNmiYC4P/MqXPnTgI+fwIN+lMA0aJGjxoFoHQp06ZOlVqIGhUEVRAXrl4NoTWEg65eMYAFK2KsiBFmR2RIm5YEWxIa3r4tIbfEg7p2E+DFq2AvX74J/iaoIFjwh8IfGiBOTGHxYg+OPUyIHLkD5Q4SLl/moJkDg86eI4AGvWH0BgimTQ9IrXo1a9UIXsOO/doA7dq2bx/IrXt37gK+fwMPvmA4cRMBjiNPrlw5gebOn0N3LmA69erWqwPIrn079+7ZLYAHD2I8iAvmzYdIH8IB+/YY3r8XIV/EiPojMuDHT2I/CQ3+AWrQUIJgiQcHESZQqFBBQ4cOE0RMUIEixQ8XPzTQuJH/QseOHkB6mDByZAeTHSSkTMmBJQcGL2FGkClzQ80NEHDiHLCTZ0+fPBEEFTo0qAGjR5EmPbCUadOlBaBGlTp1QVWrJgJk1bqVK1cCX8GGFQtWQFmzZ9GeBbCWbVu3b9dakCsXRF0QF/DiDbE3hAO/fzEEDiyCsIgRh0dkUKyYRGMSGiBDLjG5xAPLlxNkzqyAc+fOCUAnqDB69AfTHxqkVk2BNWsPrz1MkC27Q+0OEnDj5rCbAwPfvyMED76B+AYIx48PUL6cefPlCKBHlw7dQHXr17Ef0L6du/YC38GHF7+AfHkTAdCnV79+PQH37+HHfy+Afn379+0D0L+ff3///wABALBAkCCIgyAuKFQYomEIBxAjYpg4UYRFESMyjsjAkSOJjyQ0iBRZomSJByhTJli5UoHLly8TyExQoWbNDzg/NNjJk4JPnx6CephAlGiHox0kKFXKoSkHBlCjRpg6dYPVDRCyZh3AtavXr10RiB1LVqyBs2jTqj3Atq1btgXiyp1Ld4HduyYC6N3Lt29fAoADCx4cWIDhw4gTIwbAuLHjx5AZW5g8GYRlEBcyZw7BOYSDz6AxiBYtorSIEahHZFi9moRrEhpixy5Bu8SD27gT6NatoLdv3wmCJ6hAnPiH4x8aKF9OoXlzD9A9TJg+vYP1DhKyZ+fAnQOD7+AjiP8Xv6H8Bgjo0Q9Yz769e/YI4sufH9+A/fv48x/Yz7//foAFBA4kWHDBQYQmAixk2NChQwIRJU6kKFHARYwZNWYE0NHjR5AhO1ogSRLESRAXVKoM0TKEA5gxMcycKcKmiBE5R2TgyZPETxIahAotUbTEA6RJEyxdqsDp06cJpCaoULXqB6wfGmzlSsGrVw9hPUwgS7bD2Q4S1Krl0JYDA7hxI8ydu8HuBgh58w7g29fv374IBA8mLNjAYcSJFR9g3Ngx4wKRJU+mvMDyZRMBNG/m3LkzAdChRY8OLcD0adSpUQNg3dr1a9isLcyeDcI2iAu5c4fgHcLBb+AYhAsXUVz/xAjkIzIsX07COQkN0aOXoF7iwXXsCbRrV9Ddu/cE4RNUIE/+w/kPDdSvp9C+vQf4HibMn9/BfgcJ+fNz4M+BAUAGAgVGKFhwA8INEBYuHODwIcSIDxFQrGiRooGMGjdyPODxI0iPBUaSLGlyAcqUJgKwbOny5UsCMmfSrDlTAM6cOnfqBODzJ9CgQn1aKFoUBFIQF5YuDeE0hIOoUjFQpSriqogRWkdk6NqVBFgSGsaOLWG2xIO0ahOwZavgLVy4CeYmqGDX7oe8Hxrw7Uvh718Pgj1MKFy4A+IOEhYv5uCYA4PIkiNQprzh8gYImjUP6Oz5M2jPCEaTLj3aAOrU/6pXH2jt+nXrArJn06694DZuEwF28+7t2zeB4MKHExcu4Djy5MqTA2ju/Dn06M0tUKcO4jqIC9q1h+gewgH48BjGjxdhXsSI9CMysGdP4j0JDfLll6hf4gH+/An271fgH6ACgQMTFExQASHCDws/NHD4kELEiB4oephw8WIHjR0kdOzIASQHBiNJRjBpckPKDRBYshzwEmZMmTAR1LR5s6YBnTt59jzwE2jQnwWIFjV6dEFSpSYCNHX6FCpUAlOpVrVKVUBWrVu5bgXwFWxYsWO/WjBrFkRaEBfYsg3xNoQDuXMx1K0rAq+IEXtHZPDrl0RgEhoIEy5xuMQDxYsTNP9urABy5MgJKCeocPnyB80fGnT2TAE0aA+jPUwwbbpD6g4SWLPm8JoDA9mzI9SuvQH3Bgi7dw/w/Rt48N8IiBc3TtxAcuXLmR9w/hy68wLTqVe3vgB7dhMBuHf3/v07AfHjyZcfLwB9evXr1QNw/x5+fPnuLdSvDwI/iAv794fwDzCEg4EEMRg0KCKhiBEMR2R4+JCERBIaKlYsgbHEg40cE3j0qCCkSJEJSiaogBLlh5UfGrh8SSFmTA80PUy4ebODzg4SevbkAJQDg6FEIxg1uiHpBghMmQ54CjWqVKgIqlq9WtWA1q1cux74Cjbs1wJky5o9uyCtWhMB2rp9Cxf/LoG5dOvapSsgr969fPcC+As4sODBfy0YNgwiMYgLjBmHeBzCgeTJGCpXFoFZxIjNIzJ49kwiNAkNpEmXOF3igerVCVq3VgA7duwEtBNUuH37g+4PDXr7pgAcuIfhHiYYN94heQcJzJlzeM6BgfTpEapX34B9A4Tt2wd4/w4+/HcE5MubJ28gvfr17A+4fw/ffYH59OvbX4A/v4kA/Pv7BxhA4ECCBAweRJjwoACGDR0+dAhA4kSKFS1KtJAxIwiOIC58/BhCZAgHJU1iQIlSxEoRI1yOyBAzJgmaJDTcvFlCZ4kHPX0mAApUwVCiRBMcTVBBqdIPTT80gBqVwtSp4x6sepiQNWsHrh0kfP3KQSwHBmXNRkCLdsPaDRDcuh0QV+5cunIR3MWb964Bvn39/j0QWPDgwAUMH0aceMFixiYCPIYcWbJkApUtX8ZsWcBmzp09dwYQWvRo0qVDW0CNGsRqEBdcuw4RO4QD2rUx3L4tQreIEb1HZAAOnMRwEhqMGy+RvMQD5s0TPH+uQPr06QmsJ6iQPfsH7h8afAdPQbx4D+U9TECPvsP6DhLcu+cQnwMD+vUj3L+/Qf8GCP37AxwgcCDBggMRIEyoEKGBhg4fQjwgcSJFiQUuYsyocQHHjgEBADs=\"/>'), FloatText(value=-1.0, description='Leftmost color maps to:', style=DescriptionStyle(description_width='initial')), FloatText(value=1.0, description='Rightmost color maps to:', style=DescriptionStyle(description_width='initial')), IntText(value=0, description='Feature to show:', style=DescriptionStyle(description_width='initial'))), layout=Layout(width='100%')))),), selected_index=None, _titles={'0': 'XOR2 Network'}), VBox(children=(HBox(children=(IntSlider(value=0, continuous_update=False, description='Dataset index', layout=Layout(width='100%'), max=3), Label(value='of 0', layout=Layout(width='100px'))), layout=Layout(height='40px')), HBox(children=(Button(icon='fast-backward', layout=Layout(width='100%'), style=ButtonStyle()), Button(icon='backward', layout=Layout(width='100%'), style=ButtonStyle()), IntText(value=0, layout=Layout(width='100%')), Button(icon='forward', layout=Layout(width='100%'), style=ButtonStyle()), Button(icon='fast-forward', layout=Layout(width='100%'), style=ButtonStyle()), Button(description='Play', icon='play', layout=Layout(width='100%'), style=ButtonStyle()), Button(icon='refresh', layout=Layout(width='25%'), style=ButtonStyle())), layout=Layout(height='50px', width='100%'))), layout=Layout(width='100%')), HTML(value='<p style=\"text-align:center\"></p>', layout=Layout(justify_content='center', overflow_x='auto', overflow_y='auto', width='95%')), Output()))"
      ]
     },
     "metadata": {},
     "output_type": "display_data"
    },
    {
     "data": {
      "application/javascript": [
       "\n",
       "require(['base/js/namespace'], function(Jupyter) {\n",
       "    Jupyter.notebook.kernel.comm_manager.register_target('conx_svg_control', function(comm, msg) {\n",
       "        comm.on_msg(function(msg) {\n",
       "            var data = msg[\"content\"][\"data\"];\n",
       "            var images = document.getElementsByClassName(data[\"class\"]);\n",
       "            for (var i = 0; i < images.length; i++) {\n",
       "                if (data[\"href\"]) {\n",
       "                    images[i].setAttributeNS(null, \"href\", data[\"href\"]);\n",
       "                }\n",
       "                if (data[\"src\"]) {\n",
       "                    images[i].setAttributeNS(null, \"src\", data[\"src\"]);\n",
       "                }\n",
       "            }\n",
       "        });\n",
       "    });\n",
       "});\n"
      ],
      "text/plain": [
       "<IPython.core.display.Javascript object>"
      ]
     },
     "metadata": {},
     "output_type": "display_data"
    }
   ],
   "source": [
    "widget = net.dashboard()\n",
    "widget"
   ]
  },
  {
   "cell_type": "code",
   "execution_count": 35,
   "metadata": {},
   "outputs": [
    {
     "data": {
      "image/svg+xml": [
       "<svg height=\"288pt\" version=\"1.1\" viewBox=\"0 0 432 288\" width=\"432pt\" xmlns=\"http://www.w3.org/2000/svg\" xmlns:xlink=\"http://www.w3.org/1999/xlink\">\n",
       " <defs>\n",
       "  <style type=\"text/css\">\n",
       "*{stroke-linecap:butt;stroke-linejoin:round;}\n",
       "  </style>\n",
       " </defs>\n",
       " <g id=\"figure_1\">\n",
       "  <g id=\"patch_1\">\n",
       "   <path d=\"M 0 288  L 432 288  L 432 0  L 0 0  z \" style=\"fill:#ffffff;\"/>\n",
       "  </g>\n",
       "  <g id=\"axes_1\">\n",
       "   <g id=\"patch_2\">\n",
       "    <path d=\"M 54 252  L 388.8 252  L 388.8 34.56  L 54 34.56  z \" style=\"fill:#ffffff;\"/>\n",
       "   </g>\n",
       "   <g id=\"matplotlib.axis_1\">\n",
       "    <g id=\"xtick_1\">\n",
       "     <g id=\"line2d_1\">\n",
       "      <defs>\n",
       "       <path d=\"M 0 0  L 0 3.5  \" id=\"m3bc7015479\" style=\"stroke:#000000;stroke-width:0.8;\"/>\n",
       "      </defs>\n",
       "      <g>\n",
       "       <use style=\"stroke:#000000;stroke-width:0.8;\" x=\"69.218182\" xlink:href=\"#m3bc7015479\" y=\"252\"/>\n",
       "      </g>\n",
       "     </g>\n",
       "     <g id=\"text_1\">\n",
       "      <!-- 0 -->\n",
       "      <defs>\n",
       "       <path d=\"M 31.78125 66.40625  Q 24.171875 66.40625 20.328125 58.90625  Q 16.5 51.421875 16.5 36.375  Q 16.5 21.390625 20.328125 13.890625  Q 24.171875 6.390625 31.78125 6.390625  Q 39.453125 6.390625 43.28125 13.890625  Q 47.125 21.390625 47.125 36.375  Q 47.125 51.421875 43.28125 58.90625  Q 39.453125 66.40625 31.78125 66.40625  z M 31.78125 74.21875  Q 44.046875 74.21875 50.515625 64.515625  Q 56.984375 54.828125 56.984375 36.375  Q 56.984375 17.96875 50.515625 8.265625  Q 44.046875 -1.421875 31.78125 -1.421875  Q 19.53125 -1.421875 13.0625 8.265625  Q 6.59375 17.96875 6.59375 36.375  Q 6.59375 54.828125 13.0625 64.515625  Q 19.53125 74.21875 31.78125 74.21875  z \" id=\"DejaVuSans-30\"/>\n",
       "      </defs>\n",
       "      <g transform=\"translate(66.036932 266.598437)scale(0.1 -0.1)\">\n",
       "       <use xlink:href=\"#DejaVuSans-30\"/>\n",
       "      </g>\n",
       "     </g>\n",
       "    </g>\n",
       "    <g id=\"xtick_2\">\n",
       "     <g id=\"line2d_2\">\n",
       "      <g>\n",
       "       <use style=\"stroke:#000000;stroke-width:0.8;\" x=\"107.263636\" xlink:href=\"#m3bc7015479\" y=\"252\"/>\n",
       "      </g>\n",
       "     </g>\n",
       "     <g id=\"text_2\">\n",
       "      <!-- 250 -->\n",
       "      <defs>\n",
       "       <path d=\"M 19.1875 8.296875  L 53.609375 8.296875  L 53.609375 0  L 7.328125 0  L 7.328125 8.296875  Q 12.9375 14.109375 22.625 23.890625  Q 32.328125 33.6875 34.8125 36.53125  Q 39.546875 41.84375 41.421875 45.53125  Q 43.3125 49.21875 43.3125 52.78125  Q 43.3125 58.59375 39.234375 62.25  Q 35.15625 65.921875 28.609375 65.921875  Q 23.96875 65.921875 18.8125 64.3125  Q 13.671875 62.703125 7.8125 59.421875  L 7.8125 69.390625  Q 13.765625 71.78125 18.9375 73  Q 24.125 74.21875 28.421875 74.21875  Q 39.75 74.21875 46.484375 68.546875  Q 53.21875 62.890625 53.21875 53.421875  Q 53.21875 48.921875 51.53125 44.890625  Q 49.859375 40.875 45.40625 35.40625  Q 44.1875 33.984375 37.640625 27.21875  Q 31.109375 20.453125 19.1875 8.296875  z \" id=\"DejaVuSans-32\"/>\n",
       "       <path d=\"M 10.796875 72.90625  L 49.515625 72.90625  L 49.515625 64.59375  L 19.828125 64.59375  L 19.828125 46.734375  Q 21.96875 47.46875 24.109375 47.828125  Q 26.265625 48.1875 28.421875 48.1875  Q 40.625 48.1875 47.75 41.5  Q 54.890625 34.8125 54.890625 23.390625  Q 54.890625 11.625 47.5625 5.09375  Q 40.234375 -1.421875 26.90625 -1.421875  Q 22.3125 -1.421875 17.546875 -0.640625  Q 12.796875 0.140625 7.71875 1.703125  L 7.71875 11.625  Q 12.109375 9.234375 16.796875 8.0625  Q 21.484375 6.890625 26.703125 6.890625  Q 35.15625 6.890625 40.078125 11.328125  Q 45.015625 15.765625 45.015625 23.390625  Q 45.015625 31 40.078125 35.4375  Q 35.15625 39.890625 26.703125 39.890625  Q 22.75 39.890625 18.8125 39.015625  Q 14.890625 38.140625 10.796875 36.28125  z \" id=\"DejaVuSans-35\"/>\n",
       "      </defs>\n",
       "      <g transform=\"translate(97.719886 266.598437)scale(0.1 -0.1)\">\n",
       "       <use xlink:href=\"#DejaVuSans-32\"/>\n",
       "       <use x=\"63.623047\" xlink:href=\"#DejaVuSans-35\"/>\n",
       "       <use x=\"127.246094\" xlink:href=\"#DejaVuSans-30\"/>\n",
       "      </g>\n",
       "     </g>\n",
       "    </g>\n",
       "    <g id=\"xtick_3\">\n",
       "     <g id=\"line2d_3\">\n",
       "      <g>\n",
       "       <use style=\"stroke:#000000;stroke-width:0.8;\" x=\"145.309091\" xlink:href=\"#m3bc7015479\" y=\"252\"/>\n",
       "      </g>\n",
       "     </g>\n",
       "     <g id=\"text_3\">\n",
       "      <!-- 500 -->\n",
       "      <g transform=\"translate(135.765341 266.598437)scale(0.1 -0.1)\">\n",
       "       <use xlink:href=\"#DejaVuSans-35\"/>\n",
       "       <use x=\"63.623047\" xlink:href=\"#DejaVuSans-30\"/>\n",
       "       <use x=\"127.246094\" xlink:href=\"#DejaVuSans-30\"/>\n",
       "      </g>\n",
       "     </g>\n",
       "    </g>\n",
       "    <g id=\"xtick_4\">\n",
       "     <g id=\"line2d_4\">\n",
       "      <g>\n",
       "       <use style=\"stroke:#000000;stroke-width:0.8;\" x=\"183.354545\" xlink:href=\"#m3bc7015479\" y=\"252\"/>\n",
       "      </g>\n",
       "     </g>\n",
       "     <g id=\"text_4\">\n",
       "      <!-- 750 -->\n",
       "      <defs>\n",
       "       <path d=\"M 8.203125 72.90625  L 55.078125 72.90625  L 55.078125 68.703125  L 28.609375 0  L 18.3125 0  L 43.21875 64.59375  L 8.203125 64.59375  z \" id=\"DejaVuSans-37\"/>\n",
       "      </defs>\n",
       "      <g transform=\"translate(173.810795 266.598437)scale(0.1 -0.1)\">\n",
       "       <use xlink:href=\"#DejaVuSans-37\"/>\n",
       "       <use x=\"63.623047\" xlink:href=\"#DejaVuSans-35\"/>\n",
       "       <use x=\"127.246094\" xlink:href=\"#DejaVuSans-30\"/>\n",
       "      </g>\n",
       "     </g>\n",
       "    </g>\n",
       "    <g id=\"xtick_5\">\n",
       "     <g id=\"line2d_5\">\n",
       "      <g>\n",
       "       <use style=\"stroke:#000000;stroke-width:0.8;\" x=\"221.4\" xlink:href=\"#m3bc7015479\" y=\"252\"/>\n",
       "      </g>\n",
       "     </g>\n",
       "     <g id=\"text_5\">\n",
       "      <!-- 1000 -->\n",
       "      <defs>\n",
       "       <path d=\"M 12.40625 8.296875  L 28.515625 8.296875  L 28.515625 63.921875  L 10.984375 60.40625  L 10.984375 69.390625  L 28.421875 72.90625  L 38.28125 72.90625  L 38.28125 8.296875  L 54.390625 8.296875  L 54.390625 0  L 12.40625 0  z \" id=\"DejaVuSans-31\"/>\n",
       "      </defs>\n",
       "      <g transform=\"translate(208.675 266.598437)scale(0.1 -0.1)\">\n",
       "       <use xlink:href=\"#DejaVuSans-31\"/>\n",
       "       <use x=\"63.623047\" xlink:href=\"#DejaVuSans-30\"/>\n",
       "       <use x=\"127.246094\" xlink:href=\"#DejaVuSans-30\"/>\n",
       "       <use x=\"190.869141\" xlink:href=\"#DejaVuSans-30\"/>\n",
       "      </g>\n",
       "     </g>\n",
       "    </g>\n",
       "    <g id=\"xtick_6\">\n",
       "     <g id=\"line2d_6\">\n",
       "      <g>\n",
       "       <use style=\"stroke:#000000;stroke-width:0.8;\" x=\"259.445455\" xlink:href=\"#m3bc7015479\" y=\"252\"/>\n",
       "      </g>\n",
       "     </g>\n",
       "     <g id=\"text_6\">\n",
       "      <!-- 1250 -->\n",
       "      <g transform=\"translate(246.720455 266.598437)scale(0.1 -0.1)\">\n",
       "       <use xlink:href=\"#DejaVuSans-31\"/>\n",
       "       <use x=\"63.623047\" xlink:href=\"#DejaVuSans-32\"/>\n",
       "       <use x=\"127.246094\" xlink:href=\"#DejaVuSans-35\"/>\n",
       "       <use x=\"190.869141\" xlink:href=\"#DejaVuSans-30\"/>\n",
       "      </g>\n",
       "     </g>\n",
       "    </g>\n",
       "    <g id=\"xtick_7\">\n",
       "     <g id=\"line2d_7\">\n",
       "      <g>\n",
       "       <use style=\"stroke:#000000;stroke-width:0.8;\" x=\"297.490909\" xlink:href=\"#m3bc7015479\" y=\"252\"/>\n",
       "      </g>\n",
       "     </g>\n",
       "     <g id=\"text_7\">\n",
       "      <!-- 1500 -->\n",
       "      <g transform=\"translate(284.765909 266.598437)scale(0.1 -0.1)\">\n",
       "       <use xlink:href=\"#DejaVuSans-31\"/>\n",
       "       <use x=\"63.623047\" xlink:href=\"#DejaVuSans-35\"/>\n",
       "       <use x=\"127.246094\" xlink:href=\"#DejaVuSans-30\"/>\n",
       "       <use x=\"190.869141\" xlink:href=\"#DejaVuSans-30\"/>\n",
       "      </g>\n",
       "     </g>\n",
       "    </g>\n",
       "    <g id=\"xtick_8\">\n",
       "     <g id=\"line2d_8\">\n",
       "      <g>\n",
       "       <use style=\"stroke:#000000;stroke-width:0.8;\" x=\"335.536364\" xlink:href=\"#m3bc7015479\" y=\"252\"/>\n",
       "      </g>\n",
       "     </g>\n",
       "     <g id=\"text_8\">\n",
       "      <!-- 1750 -->\n",
       "      <g transform=\"translate(322.811364 266.598437)scale(0.1 -0.1)\">\n",
       "       <use xlink:href=\"#DejaVuSans-31\"/>\n",
       "       <use x=\"63.623047\" xlink:href=\"#DejaVuSans-37\"/>\n",
       "       <use x=\"127.246094\" xlink:href=\"#DejaVuSans-35\"/>\n",
       "       <use x=\"190.869141\" xlink:href=\"#DejaVuSans-30\"/>\n",
       "      </g>\n",
       "     </g>\n",
       "    </g>\n",
       "    <g id=\"xtick_9\">\n",
       "     <g id=\"line2d_9\">\n",
       "      <g>\n",
       "       <use style=\"stroke:#000000;stroke-width:0.8;\" x=\"373.581818\" xlink:href=\"#m3bc7015479\" y=\"252\"/>\n",
       "      </g>\n",
       "     </g>\n",
       "     <g id=\"text_9\">\n",
       "      <!-- 2000 -->\n",
       "      <g transform=\"translate(360.856818 266.598437)scale(0.1 -0.1)\">\n",
       "       <use xlink:href=\"#DejaVuSans-32\"/>\n",
       "       <use x=\"63.623047\" xlink:href=\"#DejaVuSans-30\"/>\n",
       "       <use x=\"127.246094\" xlink:href=\"#DejaVuSans-30\"/>\n",
       "       <use x=\"190.869141\" xlink:href=\"#DejaVuSans-30\"/>\n",
       "      </g>\n",
       "     </g>\n",
       "    </g>\n",
       "    <g id=\"text_10\">\n",
       "     <!-- Epoch -->\n",
       "     <defs>\n",
       "      <path d=\"M 9.8125 72.90625  L 55.90625 72.90625  L 55.90625 64.59375  L 19.671875 64.59375  L 19.671875 43.015625  L 54.390625 43.015625  L 54.390625 34.71875  L 19.671875 34.71875  L 19.671875 8.296875  L 56.78125 8.296875  L 56.78125 0  L 9.8125 0  z \" id=\"DejaVuSans-45\"/>\n",
       "      <path d=\"M 18.109375 8.203125  L 18.109375 -20.796875  L 9.078125 -20.796875  L 9.078125 54.6875  L 18.109375 54.6875  L 18.109375 46.390625  Q 20.953125 51.265625 25.265625 53.625  Q 29.59375 56 35.59375 56  Q 45.5625 56 51.78125 48.09375  Q 58.015625 40.1875 58.015625 27.296875  Q 58.015625 14.40625 51.78125 6.484375  Q 45.5625 -1.421875 35.59375 -1.421875  Q 29.59375 -1.421875 25.265625 0.953125  Q 20.953125 3.328125 18.109375 8.203125  z M 48.6875 27.296875  Q 48.6875 37.203125 44.609375 42.84375  Q 40.53125 48.484375 33.40625 48.484375  Q 26.265625 48.484375 22.1875 42.84375  Q 18.109375 37.203125 18.109375 27.296875  Q 18.109375 17.390625 22.1875 11.75  Q 26.265625 6.109375 33.40625 6.109375  Q 40.53125 6.109375 44.609375 11.75  Q 48.6875 17.390625 48.6875 27.296875  z \" id=\"DejaVuSans-70\"/>\n",
       "      <path d=\"M 30.609375 48.390625  Q 23.390625 48.390625 19.1875 42.75  Q 14.984375 37.109375 14.984375 27.296875  Q 14.984375 17.484375 19.15625 11.84375  Q 23.34375 6.203125 30.609375 6.203125  Q 37.796875 6.203125 41.984375 11.859375  Q 46.1875 17.53125 46.1875 27.296875  Q 46.1875 37.015625 41.984375 42.703125  Q 37.796875 48.390625 30.609375 48.390625  z M 30.609375 56  Q 42.328125 56 49.015625 48.375  Q 55.71875 40.765625 55.71875 27.296875  Q 55.71875 13.875 49.015625 6.21875  Q 42.328125 -1.421875 30.609375 -1.421875  Q 18.84375 -1.421875 12.171875 6.21875  Q 5.515625 13.875 5.515625 27.296875  Q 5.515625 40.765625 12.171875 48.375  Q 18.84375 56 30.609375 56  z \" id=\"DejaVuSans-6f\"/>\n",
       "      <path d=\"M 48.78125 52.59375  L 48.78125 44.1875  Q 44.96875 46.296875 41.140625 47.34375  Q 37.3125 48.390625 33.40625 48.390625  Q 24.65625 48.390625 19.8125 42.84375  Q 14.984375 37.3125 14.984375 27.296875  Q 14.984375 17.28125 19.8125 11.734375  Q 24.65625 6.203125 33.40625 6.203125  Q 37.3125 6.203125 41.140625 7.25  Q 44.96875 8.296875 48.78125 10.40625  L 48.78125 2.09375  Q 45.015625 0.34375 40.984375 -0.53125  Q 36.96875 -1.421875 32.421875 -1.421875  Q 20.0625 -1.421875 12.78125 6.34375  Q 5.515625 14.109375 5.515625 27.296875  Q 5.515625 40.671875 12.859375 48.328125  Q 20.21875 56 33.015625 56  Q 37.15625 56 41.109375 55.140625  Q 45.0625 54.296875 48.78125 52.59375  z \" id=\"DejaVuSans-63\"/>\n",
       "      <path d=\"M 54.890625 33.015625  L 54.890625 0  L 45.90625 0  L 45.90625 32.71875  Q 45.90625 40.484375 42.875 44.328125  Q 39.84375 48.1875 33.796875 48.1875  Q 26.515625 48.1875 22.3125 43.546875  Q 18.109375 38.921875 18.109375 30.90625  L 18.109375 0  L 9.078125 0  L 9.078125 75.984375  L 18.109375 75.984375  L 18.109375 46.1875  Q 21.34375 51.125 25.703125 53.5625  Q 30.078125 56 35.796875 56  Q 45.21875 56 50.046875 50.171875  Q 54.890625 44.34375 54.890625 33.015625  z \" id=\"DejaVuSans-68\"/>\n",
       "     </defs>\n",
       "     <g transform=\"translate(206.089063 280.276563)scale(0.1 -0.1)\">\n",
       "      <use xlink:href=\"#DejaVuSans-45\"/>\n",
       "      <use x=\"63.183594\" xlink:href=\"#DejaVuSans-70\"/>\n",
       "      <use x=\"126.660156\" xlink:href=\"#DejaVuSans-6f\"/>\n",
       "      <use x=\"187.841797\" xlink:href=\"#DejaVuSans-63\"/>\n",
       "      <use x=\"242.822266\" xlink:href=\"#DejaVuSans-68\"/>\n",
       "     </g>\n",
       "    </g>\n",
       "   </g>\n",
       "   <g id=\"matplotlib.axis_2\">\n",
       "    <g id=\"ytick_1\">\n",
       "     <g id=\"line2d_10\">\n",
       "      <defs>\n",
       "       <path d=\"M 0 0  L -3.5 0  \" id=\"mfab72c06fc\" style=\"stroke:#000000;stroke-width:0.8;\"/>\n",
       "      </defs>\n",
       "      <g>\n",
       "       <use style=\"stroke:#000000;stroke-width:0.8;\" x=\"54\" xlink:href=\"#mfab72c06fc\" y=\"252\"/>\n",
       "      </g>\n",
       "     </g>\n",
       "     <g id=\"text_11\">\n",
       "      <!-- 0.0 -->\n",
       "      <defs>\n",
       "       <path d=\"M 10.6875 12.40625  L 21 12.40625  L 21 0  L 10.6875 0  z \" id=\"DejaVuSans-2e\"/>\n",
       "      </defs>\n",
       "      <g transform=\"translate(31.096875 255.799219)scale(0.1 -0.1)\">\n",
       "       <use xlink:href=\"#DejaVuSans-30\"/>\n",
       "       <use x=\"63.623047\" xlink:href=\"#DejaVuSans-2e\"/>\n",
       "       <use x=\"95.410156\" xlink:href=\"#DejaVuSans-30\"/>\n",
       "      </g>\n",
       "     </g>\n",
       "    </g>\n",
       "    <g id=\"ytick_2\">\n",
       "     <g id=\"line2d_11\">\n",
       "      <g>\n",
       "       <use style=\"stroke:#000000;stroke-width:0.8;\" x=\"54\" xlink:href=\"#mfab72c06fc\" y=\"211.870408\"/>\n",
       "      </g>\n",
       "     </g>\n",
       "     <g id=\"text_12\">\n",
       "      <!-- 0.1 -->\n",
       "      <g transform=\"translate(31.096875 215.669627)scale(0.1 -0.1)\">\n",
       "       <use xlink:href=\"#DejaVuSans-30\"/>\n",
       "       <use x=\"63.623047\" xlink:href=\"#DejaVuSans-2e\"/>\n",
       "       <use x=\"95.410156\" xlink:href=\"#DejaVuSans-31\"/>\n",
       "      </g>\n",
       "     </g>\n",
       "    </g>\n",
       "    <g id=\"ytick_3\">\n",
       "     <g id=\"line2d_12\">\n",
       "      <g>\n",
       "       <use style=\"stroke:#000000;stroke-width:0.8;\" x=\"54\" xlink:href=\"#mfab72c06fc\" y=\"171.740816\"/>\n",
       "      </g>\n",
       "     </g>\n",
       "     <g id=\"text_13\">\n",
       "      <!-- 0.2 -->\n",
       "      <g transform=\"translate(31.096875 175.540034)scale(0.1 -0.1)\">\n",
       "       <use xlink:href=\"#DejaVuSans-30\"/>\n",
       "       <use x=\"63.623047\" xlink:href=\"#DejaVuSans-2e\"/>\n",
       "       <use x=\"95.410156\" xlink:href=\"#DejaVuSans-32\"/>\n",
       "      </g>\n",
       "     </g>\n",
       "    </g>\n",
       "    <g id=\"ytick_4\">\n",
       "     <g id=\"line2d_13\">\n",
       "      <g>\n",
       "       <use style=\"stroke:#000000;stroke-width:0.8;\" x=\"54\" xlink:href=\"#mfab72c06fc\" y=\"131.611223\"/>\n",
       "      </g>\n",
       "     </g>\n",
       "     <g id=\"text_14\">\n",
       "      <!-- 0.3 -->\n",
       "      <defs>\n",
       "       <path d=\"M 40.578125 39.3125  Q 47.65625 37.796875 51.625 33  Q 55.609375 28.21875 55.609375 21.1875  Q 55.609375 10.40625 48.1875 4.484375  Q 40.765625 -1.421875 27.09375 -1.421875  Q 22.515625 -1.421875 17.65625 -0.515625  Q 12.796875 0.390625 7.625 2.203125  L 7.625 11.71875  Q 11.71875 9.328125 16.59375 8.109375  Q 21.484375 6.890625 26.8125 6.890625  Q 36.078125 6.890625 40.9375 10.546875  Q 45.796875 14.203125 45.796875 21.1875  Q 45.796875 27.640625 41.28125 31.265625  Q 36.765625 34.90625 28.71875 34.90625  L 20.21875 34.90625  L 20.21875 43.015625  L 29.109375 43.015625  Q 36.375 43.015625 40.234375 45.921875  Q 44.09375 48.828125 44.09375 54.296875  Q 44.09375 59.90625 40.109375 62.90625  Q 36.140625 65.921875 28.71875 65.921875  Q 24.65625 65.921875 20.015625 65.03125  Q 15.375 64.15625 9.8125 62.3125  L 9.8125 71.09375  Q 15.4375 72.65625 20.34375 73.4375  Q 25.25 74.21875 29.59375 74.21875  Q 40.828125 74.21875 47.359375 69.109375  Q 53.90625 64.015625 53.90625 55.328125  Q 53.90625 49.265625 50.4375 45.09375  Q 46.96875 40.921875 40.578125 39.3125  z \" id=\"DejaVuSans-33\"/>\n",
       "      </defs>\n",
       "      <g transform=\"translate(31.096875 135.410442)scale(0.1 -0.1)\">\n",
       "       <use xlink:href=\"#DejaVuSans-30\"/>\n",
       "       <use x=\"63.623047\" xlink:href=\"#DejaVuSans-2e\"/>\n",
       "       <use x=\"95.410156\" xlink:href=\"#DejaVuSans-33\"/>\n",
       "      </g>\n",
       "     </g>\n",
       "    </g>\n",
       "    <g id=\"ytick_5\">\n",
       "     <g id=\"line2d_14\">\n",
       "      <g>\n",
       "       <use style=\"stroke:#000000;stroke-width:0.8;\" x=\"54\" xlink:href=\"#mfab72c06fc\" y=\"91.481631\"/>\n",
       "      </g>\n",
       "     </g>\n",
       "     <g id=\"text_15\">\n",
       "      <!-- 0.4 -->\n",
       "      <defs>\n",
       "       <path d=\"M 37.796875 64.3125  L 12.890625 25.390625  L 37.796875 25.390625  z M 35.203125 72.90625  L 47.609375 72.90625  L 47.609375 25.390625  L 58.015625 25.390625  L 58.015625 17.1875  L 47.609375 17.1875  L 47.609375 0  L 37.796875 0  L 37.796875 17.1875  L 4.890625 17.1875  L 4.890625 26.703125  z \" id=\"DejaVuSans-34\"/>\n",
       "      </defs>\n",
       "      <g transform=\"translate(31.096875 95.28085)scale(0.1 -0.1)\">\n",
       "       <use xlink:href=\"#DejaVuSans-30\"/>\n",
       "       <use x=\"63.623047\" xlink:href=\"#DejaVuSans-2e\"/>\n",
       "       <use x=\"95.410156\" xlink:href=\"#DejaVuSans-34\"/>\n",
       "      </g>\n",
       "     </g>\n",
       "    </g>\n",
       "    <g id=\"ytick_6\">\n",
       "     <g id=\"line2d_15\">\n",
       "      <g>\n",
       "       <use style=\"stroke:#000000;stroke-width:0.8;\" x=\"54\" xlink:href=\"#mfab72c06fc\" y=\"51.352039\"/>\n",
       "      </g>\n",
       "     </g>\n",
       "     <g id=\"text_16\">\n",
       "      <!-- 0.5 -->\n",
       "      <g transform=\"translate(31.096875 55.151258)scale(0.1 -0.1)\">\n",
       "       <use xlink:href=\"#DejaVuSans-30\"/>\n",
       "       <use x=\"63.623047\" xlink:href=\"#DejaVuSans-2e\"/>\n",
       "       <use x=\"95.410156\" xlink:href=\"#DejaVuSans-35\"/>\n",
       "      </g>\n",
       "     </g>\n",
       "    </g>\n",
       "   </g>\n",
       "   <g id=\"line2d_16\">\n",
       "    <path clip-path=\"url(#p526fb59c7e)\" d=\"M 69.218182 44.895412  L 69.370364 44.895412  L 69.674727 47.821627  L 69.979091 50.905469  L 70.131273 51.328  L 70.283455 50.989186  L 70.74 49.094076  L 70.892182 49.128878  L 71.196545 50.178137  L 71.500909 51.18549  L 71.653091 51.310467  L 71.957455 50.954312  L 72.261818 50.589546  L 72.414 50.603945  L 73.327091 51.288797  L 73.935818 51.098879  L 75.001091 51.308889  L 75.762 51.291045  L 76.675091 51.329603  L 78.805636 51.340414  L 86.110364 51.352182  L 175.745455 51.498352  L 193.855091 51.726457  L 202.529455 52.034905  L 207.703636 52.41913  L 211.203818 52.880111  L 213.790909 53.426997  L 215.769273 54.052757  L 217.443273 54.81086  L 218.812909 55.669867  L 220.030364 56.698664  L 221.095636 57.888471  L 222.160909 59.453032  L 223.074 61.195873  L 223.987091 63.427406  L 224.900182 66.282629  L 225.813273 69.907401  L 226.726364 74.429486  L 227.791636 80.915868  L 229.009091 89.785489  L 230.683091 103.806364  L 232.204909 118.423303  L 233.270182 130.778882  L 234.335455 146.017717  L 235.400727 164.583633  L 237.987818 211.458398  L 238.900909 222.845432  L 239.661818 229.686143  L 240.422727 234.577411  L 241.183636 238.035562  L 241.944545 240.495342  L 242.705455 242.274984  L 243.618545 243.814556  L 244.531636 244.927962  L 245.596909 245.881957  L 246.814364 246.682265  L 248.336182 247.413105  L 250.314545 248.09432  L 252.749455 248.688631  L 255.945273 249.234408  L 260.206364 249.729665  L 266.141455 250.181255  L 274.511455 250.578829  L 286.838182 250.924569  L 306.013091 251.219762  L 337.819091 251.463991  L 373.581818 251.603662  L 373.581818 251.603662  \" style=\"fill:none;stroke:#1f77b4;stroke-linecap:square;stroke-width:1.5;\"/>\n",
       "   </g>\n",
       "   <g id=\"patch_3\">\n",
       "    <path d=\"M 54 252  L 54 34.56  \" style=\"fill:none;stroke:#000000;stroke-linecap:square;stroke-linejoin:miter;stroke-width:0.8;\"/>\n",
       "   </g>\n",
       "   <g id=\"patch_4\">\n",
       "    <path d=\"M 388.8 252  L 388.8 34.56  \" style=\"fill:none;stroke:#000000;stroke-linecap:square;stroke-linejoin:miter;stroke-width:0.8;\"/>\n",
       "   </g>\n",
       "   <g id=\"patch_5\">\n",
       "    <path d=\"M 54 252  L 388.8 252  \" style=\"fill:none;stroke:#000000;stroke-linecap:square;stroke-linejoin:miter;stroke-width:0.8;\"/>\n",
       "   </g>\n",
       "   <g id=\"patch_6\">\n",
       "    <path d=\"M 54 34.56  L 388.8 34.56  \" style=\"fill:none;stroke:#000000;stroke-linecap:square;stroke-linejoin:miter;stroke-width:0.8;\"/>\n",
       "   </g>\n",
       "   <g id=\"text_17\">\n",
       "    <!-- XOR2 Network: Loss -->\n",
       "    <defs>\n",
       "     <path d=\"M 6.296875 72.90625  L 16.890625 72.90625  L 35.015625 45.796875  L 53.21875 72.90625  L 63.8125 72.90625  L 40.375 37.890625  L 65.375 0  L 54.78125 0  L 34.28125 31  L 13.625 0  L 2.984375 0  L 29 38.921875  z \" id=\"DejaVuSans-58\"/>\n",
       "     <path d=\"M 39.40625 66.21875  Q 28.65625 66.21875 22.328125 58.203125  Q 16.015625 50.203125 16.015625 36.375  Q 16.015625 22.609375 22.328125 14.59375  Q 28.65625 6.59375 39.40625 6.59375  Q 50.140625 6.59375 56.421875 14.59375  Q 62.703125 22.609375 62.703125 36.375  Q 62.703125 50.203125 56.421875 58.203125  Q 50.140625 66.21875 39.40625 66.21875  z M 39.40625 74.21875  Q 54.734375 74.21875 63.90625 63.9375  Q 73.09375 53.65625 73.09375 36.375  Q 73.09375 19.140625 63.90625 8.859375  Q 54.734375 -1.421875 39.40625 -1.421875  Q 24.03125 -1.421875 14.8125 8.828125  Q 5.609375 19.09375 5.609375 36.375  Q 5.609375 53.65625 14.8125 63.9375  Q 24.03125 74.21875 39.40625 74.21875  z \" id=\"DejaVuSans-4f\"/>\n",
       "     <path d=\"M 44.390625 34.1875  Q 47.5625 33.109375 50.5625 29.59375  Q 53.5625 26.078125 56.59375 19.921875  L 66.609375 0  L 56 0  L 46.6875 18.703125  Q 43.0625 26.03125 39.671875 28.421875  Q 36.28125 30.8125 30.421875 30.8125  L 19.671875 30.8125  L 19.671875 0  L 9.8125 0  L 9.8125 72.90625  L 32.078125 72.90625  Q 44.578125 72.90625 50.734375 67.671875  Q 56.890625 62.453125 56.890625 51.90625  Q 56.890625 45.015625 53.6875 40.46875  Q 50.484375 35.9375 44.390625 34.1875  z M 19.671875 64.796875  L 19.671875 38.921875  L 32.078125 38.921875  Q 39.203125 38.921875 42.84375 42.21875  Q 46.484375 45.515625 46.484375 51.90625  Q 46.484375 58.296875 42.84375 61.546875  Q 39.203125 64.796875 32.078125 64.796875  z \" id=\"DejaVuSans-52\"/>\n",
       "     <path id=\"DejaVuSans-20\"/>\n",
       "     <path d=\"M 9.8125 72.90625  L 23.09375 72.90625  L 55.421875 11.921875  L 55.421875 72.90625  L 64.984375 72.90625  L 64.984375 0  L 51.703125 0  L 19.390625 60.984375  L 19.390625 0  L 9.8125 0  z \" id=\"DejaVuSans-4e\"/>\n",
       "     <path d=\"M 56.203125 29.59375  L 56.203125 25.203125  L 14.890625 25.203125  Q 15.484375 15.921875 20.484375 11.0625  Q 25.484375 6.203125 34.421875 6.203125  Q 39.59375 6.203125 44.453125 7.46875  Q 49.3125 8.734375 54.109375 11.28125  L 54.109375 2.78125  Q 49.265625 0.734375 44.1875 -0.34375  Q 39.109375 -1.421875 33.890625 -1.421875  Q 20.796875 -1.421875 13.15625 6.1875  Q 5.515625 13.8125 5.515625 26.8125  Q 5.515625 40.234375 12.765625 48.109375  Q 20.015625 56 32.328125 56  Q 43.359375 56 49.78125 48.890625  Q 56.203125 41.796875 56.203125 29.59375  z M 47.21875 32.234375  Q 47.125 39.59375 43.09375 43.984375  Q 39.0625 48.390625 32.421875 48.390625  Q 24.90625 48.390625 20.390625 44.140625  Q 15.875 39.890625 15.1875 32.171875  z \" id=\"DejaVuSans-65\"/>\n",
       "     <path d=\"M 18.3125 70.21875  L 18.3125 54.6875  L 36.8125 54.6875  L 36.8125 47.703125  L 18.3125 47.703125  L 18.3125 18.015625  Q 18.3125 11.328125 20.140625 9.421875  Q 21.96875 7.515625 27.59375 7.515625  L 36.8125 7.515625  L 36.8125 0  L 27.59375 0  Q 17.1875 0 13.234375 3.875  Q 9.28125 7.765625 9.28125 18.015625  L 9.28125 47.703125  L 2.6875 47.703125  L 2.6875 54.6875  L 9.28125 54.6875  L 9.28125 70.21875  z \" id=\"DejaVuSans-74\"/>\n",
       "     <path d=\"M 4.203125 54.6875  L 13.1875 54.6875  L 24.421875 12.015625  L 35.59375 54.6875  L 46.1875 54.6875  L 57.421875 12.015625  L 68.609375 54.6875  L 77.59375 54.6875  L 63.28125 0  L 52.6875 0  L 40.921875 44.828125  L 29.109375 0  L 18.5 0  z \" id=\"DejaVuSans-77\"/>\n",
       "     <path d=\"M 41.109375 46.296875  Q 39.59375 47.171875 37.8125 47.578125  Q 36.03125 48 33.890625 48  Q 26.265625 48 22.1875 43.046875  Q 18.109375 38.09375 18.109375 28.8125  L 18.109375 0  L 9.078125 0  L 9.078125 54.6875  L 18.109375 54.6875  L 18.109375 46.1875  Q 20.953125 51.171875 25.484375 53.578125  Q 30.03125 56 36.53125 56  Q 37.453125 56 38.578125 55.875  Q 39.703125 55.765625 41.0625 55.515625  z \" id=\"DejaVuSans-72\"/>\n",
       "     <path d=\"M 9.078125 75.984375  L 18.109375 75.984375  L 18.109375 31.109375  L 44.921875 54.6875  L 56.390625 54.6875  L 27.390625 29.109375  L 57.625 0  L 45.90625 0  L 18.109375 26.703125  L 18.109375 0  L 9.078125 0  z \" id=\"DejaVuSans-6b\"/>\n",
       "     <path d=\"M 11.71875 12.40625  L 22.015625 12.40625  L 22.015625 0  L 11.71875 0  z M 11.71875 51.703125  L 22.015625 51.703125  L 22.015625 39.3125  L 11.71875 39.3125  z \" id=\"DejaVuSans-3a\"/>\n",
       "     <path d=\"M 9.8125 72.90625  L 19.671875 72.90625  L 19.671875 8.296875  L 55.171875 8.296875  L 55.171875 0  L 9.8125 0  z \" id=\"DejaVuSans-4c\"/>\n",
       "     <path d=\"M 44.28125 53.078125  L 44.28125 44.578125  Q 40.484375 46.53125 36.375 47.5  Q 32.28125 48.484375 27.875 48.484375  Q 21.1875 48.484375 17.84375 46.4375  Q 14.5 44.390625 14.5 40.28125  Q 14.5 37.15625 16.890625 35.375  Q 19.28125 33.59375 26.515625 31.984375  L 29.59375 31.296875  Q 39.15625 29.25 43.1875 25.515625  Q 47.21875 21.78125 47.21875 15.09375  Q 47.21875 7.46875 41.1875 3.015625  Q 35.15625 -1.421875 24.609375 -1.421875  Q 20.21875 -1.421875 15.453125 -0.5625  Q 10.6875 0.296875 5.421875 2  L 5.421875 11.28125  Q 10.40625 8.6875 15.234375 7.390625  Q 20.0625 6.109375 24.8125 6.109375  Q 31.15625 6.109375 34.5625 8.28125  Q 37.984375 10.453125 37.984375 14.40625  Q 37.984375 18.0625 35.515625 20.015625  Q 33.0625 21.96875 24.703125 23.78125  L 21.578125 24.515625  Q 13.234375 26.265625 9.515625 29.90625  Q 5.8125 33.546875 5.8125 39.890625  Q 5.8125 47.609375 11.28125 51.796875  Q 16.75 56 26.8125 56  Q 31.78125 56 36.171875 55.265625  Q 40.578125 54.546875 44.28125 53.078125  z \" id=\"DejaVuSans-73\"/>\n",
       "    </defs>\n",
       "    <g transform=\"translate(160.434375 28.56)scale(0.12 -0.12)\">\n",
       "     <use xlink:href=\"#DejaVuSans-58\"/>\n",
       "     <use x=\"68.412109\" xlink:href=\"#DejaVuSans-4f\"/>\n",
       "     <use x=\"147.123047\" xlink:href=\"#DejaVuSans-52\"/>\n",
       "     <use x=\"216.605469\" xlink:href=\"#DejaVuSans-32\"/>\n",
       "     <use x=\"280.228516\" xlink:href=\"#DejaVuSans-20\"/>\n",
       "     <use x=\"312.015625\" xlink:href=\"#DejaVuSans-4e\"/>\n",
       "     <use x=\"386.820312\" xlink:href=\"#DejaVuSans-65\"/>\n",
       "     <use x=\"448.34375\" xlink:href=\"#DejaVuSans-74\"/>\n",
       "     <use x=\"487.552734\" xlink:href=\"#DejaVuSans-77\"/>\n",
       "     <use x=\"569.339844\" xlink:href=\"#DejaVuSans-6f\"/>\n",
       "     <use x=\"630.521484\" xlink:href=\"#DejaVuSans-72\"/>\n",
       "     <use x=\"671.634766\" xlink:href=\"#DejaVuSans-6b\"/>\n",
       "     <use x=\"729.544922\" xlink:href=\"#DejaVuSans-3a\"/>\n",
       "     <use x=\"763.236328\" xlink:href=\"#DejaVuSans-20\"/>\n",
       "     <use x=\"795.023438\" xlink:href=\"#DejaVuSans-4c\"/>\n",
       "     <use x=\"850.720703\" xlink:href=\"#DejaVuSans-6f\"/>\n",
       "     <use x=\"911.902344\" xlink:href=\"#DejaVuSans-73\"/>\n",
       "     <use x=\"964.001953\" xlink:href=\"#DejaVuSans-73\"/>\n",
       "    </g>\n",
       "   </g>\n",
       "   <g id=\"legend_1\">\n",
       "    <g id=\"patch_7\">\n",
       "     <path d=\"M 290.434375 57.238125  L 381.8 57.238125  Q 383.8 57.238125 383.8 55.238125  L 383.8 41.56  Q 383.8 39.56 381.8 39.56  L 290.434375 39.56  Q 288.434375 39.56 288.434375 41.56  L 288.434375 55.238125  Q 288.434375 57.238125 290.434375 57.238125  z \" style=\"fill:#ffffff;opacity:0.8;stroke:#cccccc;stroke-linejoin:miter;\"/>\n",
       "    </g>\n",
       "    <g id=\"line2d_17\">\n",
       "     <path d=\"M 292.434375 47.658437  L 312.434375 47.658437  \" style=\"fill:none;stroke:#1f77b4;stroke-linecap:square;stroke-width:1.5;\"/>\n",
       "    </g>\n",
       "    <g id=\"line2d_18\"/>\n",
       "    <g id=\"text_18\">\n",
       "     <!-- Training set -->\n",
       "     <defs>\n",
       "      <path d=\"M -0.296875 72.90625  L 61.375 72.90625  L 61.375 64.59375  L 35.5 64.59375  L 35.5 0  L 25.59375 0  L 25.59375 64.59375  L -0.296875 64.59375  z \" id=\"DejaVuSans-54\"/>\n",
       "      <path d=\"M 34.28125 27.484375  Q 23.390625 27.484375 19.1875 25  Q 14.984375 22.515625 14.984375 16.5  Q 14.984375 11.71875 18.140625 8.90625  Q 21.296875 6.109375 26.703125 6.109375  Q 34.1875 6.109375 38.703125 11.40625  Q 43.21875 16.703125 43.21875 25.484375  L 43.21875 27.484375  z M 52.203125 31.203125  L 52.203125 0  L 43.21875 0  L 43.21875 8.296875  Q 40.140625 3.328125 35.546875 0.953125  Q 30.953125 -1.421875 24.3125 -1.421875  Q 15.921875 -1.421875 10.953125 3.296875  Q 6 8.015625 6 15.921875  Q 6 25.140625 12.171875 29.828125  Q 18.359375 34.515625 30.609375 34.515625  L 43.21875 34.515625  L 43.21875 35.40625  Q 43.21875 41.609375 39.140625 45  Q 35.0625 48.390625 27.6875 48.390625  Q 23 48.390625 18.546875 47.265625  Q 14.109375 46.140625 10.015625 43.890625  L 10.015625 52.203125  Q 14.9375 54.109375 19.578125 55.046875  Q 24.21875 56 28.609375 56  Q 40.484375 56 46.34375 49.84375  Q 52.203125 43.703125 52.203125 31.203125  z \" id=\"DejaVuSans-61\"/>\n",
       "      <path d=\"M 9.421875 54.6875  L 18.40625 54.6875  L 18.40625 0  L 9.421875 0  z M 9.421875 75.984375  L 18.40625 75.984375  L 18.40625 64.59375  L 9.421875 64.59375  z \" id=\"DejaVuSans-69\"/>\n",
       "      <path d=\"M 54.890625 33.015625  L 54.890625 0  L 45.90625 0  L 45.90625 32.71875  Q 45.90625 40.484375 42.875 44.328125  Q 39.84375 48.1875 33.796875 48.1875  Q 26.515625 48.1875 22.3125 43.546875  Q 18.109375 38.921875 18.109375 30.90625  L 18.109375 0  L 9.078125 0  L 9.078125 54.6875  L 18.109375 54.6875  L 18.109375 46.1875  Q 21.34375 51.125 25.703125 53.5625  Q 30.078125 56 35.796875 56  Q 45.21875 56 50.046875 50.171875  Q 54.890625 44.34375 54.890625 33.015625  z \" id=\"DejaVuSans-6e\"/>\n",
       "      <path d=\"M 45.40625 27.984375  Q 45.40625 37.75 41.375 43.109375  Q 37.359375 48.484375 30.078125 48.484375  Q 22.859375 48.484375 18.828125 43.109375  Q 14.796875 37.75 14.796875 27.984375  Q 14.796875 18.265625 18.828125 12.890625  Q 22.859375 7.515625 30.078125 7.515625  Q 37.359375 7.515625 41.375 12.890625  Q 45.40625 18.265625 45.40625 27.984375  z M 54.390625 6.78125  Q 54.390625 -7.171875 48.1875 -13.984375  Q 42 -20.796875 29.203125 -20.796875  Q 24.46875 -20.796875 20.265625 -20.09375  Q 16.0625 -19.390625 12.109375 -17.921875  L 12.109375 -9.1875  Q 16.0625 -11.328125 19.921875 -12.34375  Q 23.78125 -13.375 27.78125 -13.375  Q 36.625 -13.375 41.015625 -8.765625  Q 45.40625 -4.15625 45.40625 5.171875  L 45.40625 9.625  Q 42.625 4.78125 38.28125 2.390625  Q 33.9375 0 27.875 0  Q 17.828125 0 11.671875 7.65625  Q 5.515625 15.328125 5.515625 27.984375  Q 5.515625 40.671875 11.671875 48.328125  Q 17.828125 56 27.875 56  Q 33.9375 56 38.28125 53.609375  Q 42.625 51.21875 45.40625 46.390625  L 45.40625 54.6875  L 54.390625 54.6875  z \" id=\"DejaVuSans-67\"/>\n",
       "     </defs>\n",
       "     <g transform=\"translate(320.434375 51.158437)scale(0.1 -0.1)\">\n",
       "      <use xlink:href=\"#DejaVuSans-54\"/>\n",
       "      <use x=\"60.865234\" xlink:href=\"#DejaVuSans-72\"/>\n",
       "      <use x=\"101.978516\" xlink:href=\"#DejaVuSans-61\"/>\n",
       "      <use x=\"163.257812\" xlink:href=\"#DejaVuSans-69\"/>\n",
       "      <use x=\"191.041016\" xlink:href=\"#DejaVuSans-6e\"/>\n",
       "      <use x=\"254.419922\" xlink:href=\"#DejaVuSans-69\"/>\n",
       "      <use x=\"282.203125\" xlink:href=\"#DejaVuSans-6e\"/>\n",
       "      <use x=\"345.582031\" xlink:href=\"#DejaVuSans-67\"/>\n",
       "      <use x=\"409.058594\" xlink:href=\"#DejaVuSans-20\"/>\n",
       "      <use x=\"440.845703\" xlink:href=\"#DejaVuSans-73\"/>\n",
       "      <use x=\"492.945312\" xlink:href=\"#DejaVuSans-65\"/>\n",
       "      <use x=\"554.46875\" xlink:href=\"#DejaVuSans-74\"/>\n",
       "     </g>\n",
       "    </g>\n",
       "   </g>\n",
       "  </g>\n",
       " </g>\n",
       " <defs>\n",
       "  <clipPath id=\"p526fb59c7e\">\n",
       "   <rect height=\"217.44\" width=\"334.8\" x=\"54\" y=\"34.56\"/>\n",
       "  </clipPath>\n",
       " </defs>\n",
       "</svg>"
      ],
      "text/plain": [
       "<IPython.core.display.SVG object>"
      ]
     },
     "metadata": {},
     "output_type": "display_data"
    }
   ],
   "source": [
    "import time\n",
    "net.reset()\n",
    "for i in range(20):\n",
    "    (epoch_count, results) = net.train(epochs=100, verbose=0, report_rate=25, plot=True)\n",
    "    for index in range(4):\n",
    "        net.propagate(dataset[index][0])\n",
    "        time.sleep(.1)"
   ]
  },
  {
   "cell_type": "code",
   "execution_count": 36,
   "metadata": {},
   "outputs": [],
   "source": [
    "net.reset()"
   ]
  },
  {
   "cell_type": "code",
   "execution_count": 37,
   "metadata": {},
   "outputs": [
    {
     "data": {
      "image/svg+xml": [
       "<svg height=\"288pt\" version=\"1.1\" viewBox=\"0 0 432 288\" width=\"432pt\" xmlns=\"http://www.w3.org/2000/svg\" xmlns:xlink=\"http://www.w3.org/1999/xlink\">\n",
       " <defs>\n",
       "  <style type=\"text/css\">\n",
       "*{stroke-linecap:butt;stroke-linejoin:round;}\n",
       "  </style>\n",
       " </defs>\n",
       " <g id=\"figure_1\">\n",
       "  <g id=\"patch_1\">\n",
       "   <path d=\"M 0 288  L 432 288  L 432 0  L 0 0  z \" style=\"fill:#ffffff;\"/>\n",
       "  </g>\n",
       "  <g id=\"axes_1\">\n",
       "   <g id=\"patch_2\">\n",
       "    <path d=\"M 54 252  L 388.8 252  L 388.8 34.56  L 54 34.56  z \" style=\"fill:#ffffff;\"/>\n",
       "   </g>\n",
       "   <g id=\"matplotlib.axis_1\">\n",
       "    <g id=\"xtick_1\">\n",
       "     <g id=\"line2d_1\">\n",
       "      <defs>\n",
       "       <path d=\"M 0 0  L 0 3.5  \" id=\"m6d6f4c04b1\" style=\"stroke:#000000;stroke-width:0.8;\"/>\n",
       "      </defs>\n",
       "      <g>\n",
       "       <use style=\"stroke:#000000;stroke-width:0.8;\" x=\"69.218182\" xlink:href=\"#m6d6f4c04b1\" y=\"252\"/>\n",
       "      </g>\n",
       "     </g>\n",
       "     <g id=\"text_1\">\n",
       "      <!-- 0 -->\n",
       "      <defs>\n",
       "       <path d=\"M 31.78125 66.40625  Q 24.171875 66.40625 20.328125 58.90625  Q 16.5 51.421875 16.5 36.375  Q 16.5 21.390625 20.328125 13.890625  Q 24.171875 6.390625 31.78125 6.390625  Q 39.453125 6.390625 43.28125 13.890625  Q 47.125 21.390625 47.125 36.375  Q 47.125 51.421875 43.28125 58.90625  Q 39.453125 66.40625 31.78125 66.40625  z M 31.78125 74.21875  Q 44.046875 74.21875 50.515625 64.515625  Q 56.984375 54.828125 56.984375 36.375  Q 56.984375 17.96875 50.515625 8.265625  Q 44.046875 -1.421875 31.78125 -1.421875  Q 19.53125 -1.421875 13.0625 8.265625  Q 6.59375 17.96875 6.59375 36.375  Q 6.59375 54.828125 13.0625 64.515625  Q 19.53125 74.21875 31.78125 74.21875  z \" id=\"DejaVuSans-30\"/>\n",
       "      </defs>\n",
       "      <g transform=\"translate(66.036932 266.598437)scale(0.1 -0.1)\">\n",
       "       <use xlink:href=\"#DejaVuSans-30\"/>\n",
       "      </g>\n",
       "     </g>\n",
       "    </g>\n",
       "    <g id=\"xtick_2\">\n",
       "     <g id=\"line2d_2\">\n",
       "      <g>\n",
       "       <use style=\"stroke:#000000;stroke-width:0.8;\" x=\"108.339472\" xlink:href=\"#m6d6f4c04b1\" y=\"252\"/>\n",
       "      </g>\n",
       "     </g>\n",
       "     <g id=\"text_2\">\n",
       "      <!-- 200 -->\n",
       "      <defs>\n",
       "       <path d=\"M 19.1875 8.296875  L 53.609375 8.296875  L 53.609375 0  L 7.328125 0  L 7.328125 8.296875  Q 12.9375 14.109375 22.625 23.890625  Q 32.328125 33.6875 34.8125 36.53125  Q 39.546875 41.84375 41.421875 45.53125  Q 43.3125 49.21875 43.3125 52.78125  Q 43.3125 58.59375 39.234375 62.25  Q 35.15625 65.921875 28.609375 65.921875  Q 23.96875 65.921875 18.8125 64.3125  Q 13.671875 62.703125 7.8125 59.421875  L 7.8125 69.390625  Q 13.765625 71.78125 18.9375 73  Q 24.125 74.21875 28.421875 74.21875  Q 39.75 74.21875 46.484375 68.546875  Q 53.21875 62.890625 53.21875 53.421875  Q 53.21875 48.921875 51.53125 44.890625  Q 49.859375 40.875 45.40625 35.40625  Q 44.1875 33.984375 37.640625 27.21875  Q 31.109375 20.453125 19.1875 8.296875  z \" id=\"DejaVuSans-32\"/>\n",
       "      </defs>\n",
       "      <g transform=\"translate(98.795722 266.598437)scale(0.1 -0.1)\">\n",
       "       <use xlink:href=\"#DejaVuSans-32\"/>\n",
       "       <use x=\"63.623047\" xlink:href=\"#DejaVuSans-30\"/>\n",
       "       <use x=\"127.246094\" xlink:href=\"#DejaVuSans-30\"/>\n",
       "      </g>\n",
       "     </g>\n",
       "    </g>\n",
       "    <g id=\"xtick_3\">\n",
       "     <g id=\"line2d_3\">\n",
       "      <g>\n",
       "       <use style=\"stroke:#000000;stroke-width:0.8;\" x=\"147.460762\" xlink:href=\"#m6d6f4c04b1\" y=\"252\"/>\n",
       "      </g>\n",
       "     </g>\n",
       "     <g id=\"text_3\">\n",
       "      <!-- 400 -->\n",
       "      <defs>\n",
       "       <path d=\"M 37.796875 64.3125  L 12.890625 25.390625  L 37.796875 25.390625  z M 35.203125 72.90625  L 47.609375 72.90625  L 47.609375 25.390625  L 58.015625 25.390625  L 58.015625 17.1875  L 47.609375 17.1875  L 47.609375 0  L 37.796875 0  L 37.796875 17.1875  L 4.890625 17.1875  L 4.890625 26.703125  z \" id=\"DejaVuSans-34\"/>\n",
       "      </defs>\n",
       "      <g transform=\"translate(137.917012 266.598437)scale(0.1 -0.1)\">\n",
       "       <use xlink:href=\"#DejaVuSans-34\"/>\n",
       "       <use x=\"63.623047\" xlink:href=\"#DejaVuSans-30\"/>\n",
       "       <use x=\"127.246094\" xlink:href=\"#DejaVuSans-30\"/>\n",
       "      </g>\n",
       "     </g>\n",
       "    </g>\n",
       "    <g id=\"xtick_4\">\n",
       "     <g id=\"line2d_4\">\n",
       "      <g>\n",
       "       <use style=\"stroke:#000000;stroke-width:0.8;\" x=\"186.582052\" xlink:href=\"#m6d6f4c04b1\" y=\"252\"/>\n",
       "      </g>\n",
       "     </g>\n",
       "     <g id=\"text_4\">\n",
       "      <!-- 600 -->\n",
       "      <defs>\n",
       "       <path d=\"M 33.015625 40.375  Q 26.375 40.375 22.484375 35.828125  Q 18.609375 31.296875 18.609375 23.390625  Q 18.609375 15.53125 22.484375 10.953125  Q 26.375 6.390625 33.015625 6.390625  Q 39.65625 6.390625 43.53125 10.953125  Q 47.40625 15.53125 47.40625 23.390625  Q 47.40625 31.296875 43.53125 35.828125  Q 39.65625 40.375 33.015625 40.375  z M 52.59375 71.296875  L 52.59375 62.3125  Q 48.875 64.0625 45.09375 64.984375  Q 41.3125 65.921875 37.59375 65.921875  Q 27.828125 65.921875 22.671875 59.328125  Q 17.53125 52.734375 16.796875 39.40625  Q 19.671875 43.65625 24.015625 45.921875  Q 28.375 48.1875 33.59375 48.1875  Q 44.578125 48.1875 50.953125 41.515625  Q 57.328125 34.859375 57.328125 23.390625  Q 57.328125 12.15625 50.6875 5.359375  Q 44.046875 -1.421875 33.015625 -1.421875  Q 20.359375 -1.421875 13.671875 8.265625  Q 6.984375 17.96875 6.984375 36.375  Q 6.984375 53.65625 15.1875 63.9375  Q 23.390625 74.21875 37.203125 74.21875  Q 40.921875 74.21875 44.703125 73.484375  Q 48.484375 72.75 52.59375 71.296875  z \" id=\"DejaVuSans-36\"/>\n",
       "      </defs>\n",
       "      <g transform=\"translate(177.038302 266.598437)scale(0.1 -0.1)\">\n",
       "       <use xlink:href=\"#DejaVuSans-36\"/>\n",
       "       <use x=\"63.623047\" xlink:href=\"#DejaVuSans-30\"/>\n",
       "       <use x=\"127.246094\" xlink:href=\"#DejaVuSans-30\"/>\n",
       "      </g>\n",
       "     </g>\n",
       "    </g>\n",
       "    <g id=\"xtick_5\">\n",
       "     <g id=\"line2d_5\">\n",
       "      <g>\n",
       "       <use style=\"stroke:#000000;stroke-width:0.8;\" x=\"225.703342\" xlink:href=\"#m6d6f4c04b1\" y=\"252\"/>\n",
       "      </g>\n",
       "     </g>\n",
       "     <g id=\"text_5\">\n",
       "      <!-- 800 -->\n",
       "      <defs>\n",
       "       <path d=\"M 31.78125 34.625  Q 24.75 34.625 20.71875 30.859375  Q 16.703125 27.09375 16.703125 20.515625  Q 16.703125 13.921875 20.71875 10.15625  Q 24.75 6.390625 31.78125 6.390625  Q 38.8125 6.390625 42.859375 10.171875  Q 46.921875 13.96875 46.921875 20.515625  Q 46.921875 27.09375 42.890625 30.859375  Q 38.875 34.625 31.78125 34.625  z M 21.921875 38.8125  Q 15.578125 40.375 12.03125 44.71875  Q 8.5 49.078125 8.5 55.328125  Q 8.5 64.0625 14.71875 69.140625  Q 20.953125 74.21875 31.78125 74.21875  Q 42.671875 74.21875 48.875 69.140625  Q 55.078125 64.0625 55.078125 55.328125  Q 55.078125 49.078125 51.53125 44.71875  Q 48 40.375 41.703125 38.8125  Q 48.828125 37.15625 52.796875 32.3125  Q 56.78125 27.484375 56.78125 20.515625  Q 56.78125 9.90625 50.3125 4.234375  Q 43.84375 -1.421875 31.78125 -1.421875  Q 19.734375 -1.421875 13.25 4.234375  Q 6.78125 9.90625 6.78125 20.515625  Q 6.78125 27.484375 10.78125 32.3125  Q 14.796875 37.15625 21.921875 38.8125  z M 18.3125 54.390625  Q 18.3125 48.734375 21.84375 45.5625  Q 25.390625 42.390625 31.78125 42.390625  Q 38.140625 42.390625 41.71875 45.5625  Q 45.3125 48.734375 45.3125 54.390625  Q 45.3125 60.0625 41.71875 63.234375  Q 38.140625 66.40625 31.78125 66.40625  Q 25.390625 66.40625 21.84375 63.234375  Q 18.3125 60.0625 18.3125 54.390625  z \" id=\"DejaVuSans-38\"/>\n",
       "      </defs>\n",
       "      <g transform=\"translate(216.159592 266.598437)scale(0.1 -0.1)\">\n",
       "       <use xlink:href=\"#DejaVuSans-38\"/>\n",
       "       <use x=\"63.623047\" xlink:href=\"#DejaVuSans-30\"/>\n",
       "       <use x=\"127.246094\" xlink:href=\"#DejaVuSans-30\"/>\n",
       "      </g>\n",
       "     </g>\n",
       "    </g>\n",
       "    <g id=\"xtick_6\">\n",
       "     <g id=\"line2d_6\">\n",
       "      <g>\n",
       "       <use style=\"stroke:#000000;stroke-width:0.8;\" x=\"264.824632\" xlink:href=\"#m6d6f4c04b1\" y=\"252\"/>\n",
       "      </g>\n",
       "     </g>\n",
       "     <g id=\"text_6\">\n",
       "      <!-- 1000 -->\n",
       "      <defs>\n",
       "       <path d=\"M 12.40625 8.296875  L 28.515625 8.296875  L 28.515625 63.921875  L 10.984375 60.40625  L 10.984375 69.390625  L 28.421875 72.90625  L 38.28125 72.90625  L 38.28125 8.296875  L 54.390625 8.296875  L 54.390625 0  L 12.40625 0  z \" id=\"DejaVuSans-31\"/>\n",
       "      </defs>\n",
       "      <g transform=\"translate(252.099632 266.598437)scale(0.1 -0.1)\">\n",
       "       <use xlink:href=\"#DejaVuSans-31\"/>\n",
       "       <use x=\"63.623047\" xlink:href=\"#DejaVuSans-30\"/>\n",
       "       <use x=\"127.246094\" xlink:href=\"#DejaVuSans-30\"/>\n",
       "       <use x=\"190.869141\" xlink:href=\"#DejaVuSans-30\"/>\n",
       "      </g>\n",
       "     </g>\n",
       "    </g>\n",
       "    <g id=\"xtick_7\">\n",
       "     <g id=\"line2d_7\">\n",
       "      <g>\n",
       "       <use style=\"stroke:#000000;stroke-width:0.8;\" x=\"303.945922\" xlink:href=\"#m6d6f4c04b1\" y=\"252\"/>\n",
       "      </g>\n",
       "     </g>\n",
       "     <g id=\"text_7\">\n",
       "      <!-- 1200 -->\n",
       "      <g transform=\"translate(291.220922 266.598437)scale(0.1 -0.1)\">\n",
       "       <use xlink:href=\"#DejaVuSans-31\"/>\n",
       "       <use x=\"63.623047\" xlink:href=\"#DejaVuSans-32\"/>\n",
       "       <use x=\"127.246094\" xlink:href=\"#DejaVuSans-30\"/>\n",
       "       <use x=\"190.869141\" xlink:href=\"#DejaVuSans-30\"/>\n",
       "      </g>\n",
       "     </g>\n",
       "    </g>\n",
       "    <g id=\"xtick_8\">\n",
       "     <g id=\"line2d_8\">\n",
       "      <g>\n",
       "       <use style=\"stroke:#000000;stroke-width:0.8;\" x=\"343.067212\" xlink:href=\"#m6d6f4c04b1\" y=\"252\"/>\n",
       "      </g>\n",
       "     </g>\n",
       "     <g id=\"text_8\">\n",
       "      <!-- 1400 -->\n",
       "      <g transform=\"translate(330.342212 266.598437)scale(0.1 -0.1)\">\n",
       "       <use xlink:href=\"#DejaVuSans-31\"/>\n",
       "       <use x=\"63.623047\" xlink:href=\"#DejaVuSans-34\"/>\n",
       "       <use x=\"127.246094\" xlink:href=\"#DejaVuSans-30\"/>\n",
       "       <use x=\"190.869141\" xlink:href=\"#DejaVuSans-30\"/>\n",
       "      </g>\n",
       "     </g>\n",
       "    </g>\n",
       "    <g id=\"xtick_9\">\n",
       "     <g id=\"line2d_9\">\n",
       "      <g>\n",
       "       <use style=\"stroke:#000000;stroke-width:0.8;\" x=\"382.188502\" xlink:href=\"#m6d6f4c04b1\" y=\"252\"/>\n",
       "      </g>\n",
       "     </g>\n",
       "     <g id=\"text_9\">\n",
       "      <!-- 1600 -->\n",
       "      <g transform=\"translate(369.463502 266.598437)scale(0.1 -0.1)\">\n",
       "       <use xlink:href=\"#DejaVuSans-31\"/>\n",
       "       <use x=\"63.623047\" xlink:href=\"#DejaVuSans-36\"/>\n",
       "       <use x=\"127.246094\" xlink:href=\"#DejaVuSans-30\"/>\n",
       "       <use x=\"190.869141\" xlink:href=\"#DejaVuSans-30\"/>\n",
       "      </g>\n",
       "     </g>\n",
       "    </g>\n",
       "    <g id=\"text_10\">\n",
       "     <!-- Epoch -->\n",
       "     <defs>\n",
       "      <path d=\"M 9.8125 72.90625  L 55.90625 72.90625  L 55.90625 64.59375  L 19.671875 64.59375  L 19.671875 43.015625  L 54.390625 43.015625  L 54.390625 34.71875  L 19.671875 34.71875  L 19.671875 8.296875  L 56.78125 8.296875  L 56.78125 0  L 9.8125 0  z \" id=\"DejaVuSans-45\"/>\n",
       "      <path d=\"M 18.109375 8.203125  L 18.109375 -20.796875  L 9.078125 -20.796875  L 9.078125 54.6875  L 18.109375 54.6875  L 18.109375 46.390625  Q 20.953125 51.265625 25.265625 53.625  Q 29.59375 56 35.59375 56  Q 45.5625 56 51.78125 48.09375  Q 58.015625 40.1875 58.015625 27.296875  Q 58.015625 14.40625 51.78125 6.484375  Q 45.5625 -1.421875 35.59375 -1.421875  Q 29.59375 -1.421875 25.265625 0.953125  Q 20.953125 3.328125 18.109375 8.203125  z M 48.6875 27.296875  Q 48.6875 37.203125 44.609375 42.84375  Q 40.53125 48.484375 33.40625 48.484375  Q 26.265625 48.484375 22.1875 42.84375  Q 18.109375 37.203125 18.109375 27.296875  Q 18.109375 17.390625 22.1875 11.75  Q 26.265625 6.109375 33.40625 6.109375  Q 40.53125 6.109375 44.609375 11.75  Q 48.6875 17.390625 48.6875 27.296875  z \" id=\"DejaVuSans-70\"/>\n",
       "      <path d=\"M 30.609375 48.390625  Q 23.390625 48.390625 19.1875 42.75  Q 14.984375 37.109375 14.984375 27.296875  Q 14.984375 17.484375 19.15625 11.84375  Q 23.34375 6.203125 30.609375 6.203125  Q 37.796875 6.203125 41.984375 11.859375  Q 46.1875 17.53125 46.1875 27.296875  Q 46.1875 37.015625 41.984375 42.703125  Q 37.796875 48.390625 30.609375 48.390625  z M 30.609375 56  Q 42.328125 56 49.015625 48.375  Q 55.71875 40.765625 55.71875 27.296875  Q 55.71875 13.875 49.015625 6.21875  Q 42.328125 -1.421875 30.609375 -1.421875  Q 18.84375 -1.421875 12.171875 6.21875  Q 5.515625 13.875 5.515625 27.296875  Q 5.515625 40.765625 12.171875 48.375  Q 18.84375 56 30.609375 56  z \" id=\"DejaVuSans-6f\"/>\n",
       "      <path d=\"M 48.78125 52.59375  L 48.78125 44.1875  Q 44.96875 46.296875 41.140625 47.34375  Q 37.3125 48.390625 33.40625 48.390625  Q 24.65625 48.390625 19.8125 42.84375  Q 14.984375 37.3125 14.984375 27.296875  Q 14.984375 17.28125 19.8125 11.734375  Q 24.65625 6.203125 33.40625 6.203125  Q 37.3125 6.203125 41.140625 7.25  Q 44.96875 8.296875 48.78125 10.40625  L 48.78125 2.09375  Q 45.015625 0.34375 40.984375 -0.53125  Q 36.96875 -1.421875 32.421875 -1.421875  Q 20.0625 -1.421875 12.78125 6.34375  Q 5.515625 14.109375 5.515625 27.296875  Q 5.515625 40.671875 12.859375 48.328125  Q 20.21875 56 33.015625 56  Q 37.15625 56 41.109375 55.140625  Q 45.0625 54.296875 48.78125 52.59375  z \" id=\"DejaVuSans-63\"/>\n",
       "      <path d=\"M 54.890625 33.015625  L 54.890625 0  L 45.90625 0  L 45.90625 32.71875  Q 45.90625 40.484375 42.875 44.328125  Q 39.84375 48.1875 33.796875 48.1875  Q 26.515625 48.1875 22.3125 43.546875  Q 18.109375 38.921875 18.109375 30.90625  L 18.109375 0  L 9.078125 0  L 9.078125 75.984375  L 18.109375 75.984375  L 18.109375 46.1875  Q 21.34375 51.125 25.703125 53.5625  Q 30.078125 56 35.796875 56  Q 45.21875 56 50.046875 50.171875  Q 54.890625 44.34375 54.890625 33.015625  z \" id=\"DejaVuSans-68\"/>\n",
       "     </defs>\n",
       "     <g transform=\"translate(206.089063 280.276563)scale(0.1 -0.1)\">\n",
       "      <use xlink:href=\"#DejaVuSans-45\"/>\n",
       "      <use x=\"63.183594\" xlink:href=\"#DejaVuSans-70\"/>\n",
       "      <use x=\"126.660156\" xlink:href=\"#DejaVuSans-6f\"/>\n",
       "      <use x=\"187.841797\" xlink:href=\"#DejaVuSans-63\"/>\n",
       "      <use x=\"242.822266\" xlink:href=\"#DejaVuSans-68\"/>\n",
       "     </g>\n",
       "    </g>\n",
       "   </g>\n",
       "   <g id=\"matplotlib.axis_2\">\n",
       "    <g id=\"ytick_1\">\n",
       "     <g id=\"line2d_10\">\n",
       "      <defs>\n",
       "       <path d=\"M 0 0  L -3.5 0  \" id=\"m2839bdba3b\" style=\"stroke:#000000;stroke-width:0.8;\"/>\n",
       "      </defs>\n",
       "      <g>\n",
       "       <use style=\"stroke:#000000;stroke-width:0.8;\" x=\"54\" xlink:href=\"#m2839bdba3b\" y=\"252\"/>\n",
       "      </g>\n",
       "     </g>\n",
       "     <g id=\"text_11\">\n",
       "      <!-- 0.0 -->\n",
       "      <defs>\n",
       "       <path d=\"M 10.6875 12.40625  L 21 12.40625  L 21 0  L 10.6875 0  z \" id=\"DejaVuSans-2e\"/>\n",
       "      </defs>\n",
       "      <g transform=\"translate(31.096875 255.799219)scale(0.1 -0.1)\">\n",
       "       <use xlink:href=\"#DejaVuSans-30\"/>\n",
       "       <use x=\"63.623047\" xlink:href=\"#DejaVuSans-2e\"/>\n",
       "       <use x=\"95.410156\" xlink:href=\"#DejaVuSans-30\"/>\n",
       "      </g>\n",
       "     </g>\n",
       "    </g>\n",
       "    <g id=\"ytick_2\">\n",
       "     <g id=\"line2d_11\">\n",
       "      <g>\n",
       "       <use style=\"stroke:#000000;stroke-width:0.8;\" x=\"54\" xlink:href=\"#m2839bdba3b\" y=\"216.597064\"/>\n",
       "      </g>\n",
       "     </g>\n",
       "     <g id=\"text_12\">\n",
       "      <!-- 0.1 -->\n",
       "      <g transform=\"translate(31.096875 220.396283)scale(0.1 -0.1)\">\n",
       "       <use xlink:href=\"#DejaVuSans-30\"/>\n",
       "       <use x=\"63.623047\" xlink:href=\"#DejaVuSans-2e\"/>\n",
       "       <use x=\"95.410156\" xlink:href=\"#DejaVuSans-31\"/>\n",
       "      </g>\n",
       "     </g>\n",
       "    </g>\n",
       "    <g id=\"ytick_3\">\n",
       "     <g id=\"line2d_12\">\n",
       "      <g>\n",
       "       <use style=\"stroke:#000000;stroke-width:0.8;\" x=\"54\" xlink:href=\"#m2839bdba3b\" y=\"181.194128\"/>\n",
       "      </g>\n",
       "     </g>\n",
       "     <g id=\"text_13\">\n",
       "      <!-- 0.2 -->\n",
       "      <g transform=\"translate(31.096875 184.993347)scale(0.1 -0.1)\">\n",
       "       <use xlink:href=\"#DejaVuSans-30\"/>\n",
       "       <use x=\"63.623047\" xlink:href=\"#DejaVuSans-2e\"/>\n",
       "       <use x=\"95.410156\" xlink:href=\"#DejaVuSans-32\"/>\n",
       "      </g>\n",
       "     </g>\n",
       "    </g>\n",
       "    <g id=\"ytick_4\">\n",
       "     <g id=\"line2d_13\">\n",
       "      <g>\n",
       "       <use style=\"stroke:#000000;stroke-width:0.8;\" x=\"54\" xlink:href=\"#m2839bdba3b\" y=\"145.791192\"/>\n",
       "      </g>\n",
       "     </g>\n",
       "     <g id=\"text_14\">\n",
       "      <!-- 0.3 -->\n",
       "      <defs>\n",
       "       <path d=\"M 40.578125 39.3125  Q 47.65625 37.796875 51.625 33  Q 55.609375 28.21875 55.609375 21.1875  Q 55.609375 10.40625 48.1875 4.484375  Q 40.765625 -1.421875 27.09375 -1.421875  Q 22.515625 -1.421875 17.65625 -0.515625  Q 12.796875 0.390625 7.625 2.203125  L 7.625 11.71875  Q 11.71875 9.328125 16.59375 8.109375  Q 21.484375 6.890625 26.8125 6.890625  Q 36.078125 6.890625 40.9375 10.546875  Q 45.796875 14.203125 45.796875 21.1875  Q 45.796875 27.640625 41.28125 31.265625  Q 36.765625 34.90625 28.71875 34.90625  L 20.21875 34.90625  L 20.21875 43.015625  L 29.109375 43.015625  Q 36.375 43.015625 40.234375 45.921875  Q 44.09375 48.828125 44.09375 54.296875  Q 44.09375 59.90625 40.109375 62.90625  Q 36.140625 65.921875 28.71875 65.921875  Q 24.65625 65.921875 20.015625 65.03125  Q 15.375 64.15625 9.8125 62.3125  L 9.8125 71.09375  Q 15.4375 72.65625 20.34375 73.4375  Q 25.25 74.21875 29.59375 74.21875  Q 40.828125 74.21875 47.359375 69.109375  Q 53.90625 64.015625 53.90625 55.328125  Q 53.90625 49.265625 50.4375 45.09375  Q 46.96875 40.921875 40.578125 39.3125  z \" id=\"DejaVuSans-33\"/>\n",
       "      </defs>\n",
       "      <g transform=\"translate(31.096875 149.590411)scale(0.1 -0.1)\">\n",
       "       <use xlink:href=\"#DejaVuSans-30\"/>\n",
       "       <use x=\"63.623047\" xlink:href=\"#DejaVuSans-2e\"/>\n",
       "       <use x=\"95.410156\" xlink:href=\"#DejaVuSans-33\"/>\n",
       "      </g>\n",
       "     </g>\n",
       "    </g>\n",
       "    <g id=\"ytick_5\">\n",
       "     <g id=\"line2d_14\">\n",
       "      <g>\n",
       "       <use style=\"stroke:#000000;stroke-width:0.8;\" x=\"54\" xlink:href=\"#m2839bdba3b\" y=\"110.388256\"/>\n",
       "      </g>\n",
       "     </g>\n",
       "     <g id=\"text_15\">\n",
       "      <!-- 0.4 -->\n",
       "      <g transform=\"translate(31.096875 114.187475)scale(0.1 -0.1)\">\n",
       "       <use xlink:href=\"#DejaVuSans-30\"/>\n",
       "       <use x=\"63.623047\" xlink:href=\"#DejaVuSans-2e\"/>\n",
       "       <use x=\"95.410156\" xlink:href=\"#DejaVuSans-34\"/>\n",
       "      </g>\n",
       "     </g>\n",
       "    </g>\n",
       "    <g id=\"ytick_6\">\n",
       "     <g id=\"line2d_15\">\n",
       "      <g>\n",
       "       <use style=\"stroke:#000000;stroke-width:0.8;\" x=\"54\" xlink:href=\"#m2839bdba3b\" y=\"74.98532\"/>\n",
       "      </g>\n",
       "     </g>\n",
       "     <g id=\"text_16\">\n",
       "      <!-- 0.5 -->\n",
       "      <defs>\n",
       "       <path d=\"M 10.796875 72.90625  L 49.515625 72.90625  L 49.515625 64.59375  L 19.828125 64.59375  L 19.828125 46.734375  Q 21.96875 47.46875 24.109375 47.828125  Q 26.265625 48.1875 28.421875 48.1875  Q 40.625 48.1875 47.75 41.5  Q 54.890625 34.8125 54.890625 23.390625  Q 54.890625 11.625 47.5625 5.09375  Q 40.234375 -1.421875 26.90625 -1.421875  Q 22.3125 -1.421875 17.546875 -0.640625  Q 12.796875 0.140625 7.71875 1.703125  L 7.71875 11.625  Q 12.109375 9.234375 16.796875 8.0625  Q 21.484375 6.890625 26.703125 6.890625  Q 35.15625 6.890625 40.078125 11.328125  Q 45.015625 15.765625 45.015625 23.390625  Q 45.015625 31 40.078125 35.4375  Q 35.15625 39.890625 26.703125 39.890625  Q 22.75 39.890625 18.8125 39.015625  Q 14.890625 38.140625 10.796875 36.28125  z \" id=\"DejaVuSans-35\"/>\n",
       "      </defs>\n",
       "      <g transform=\"translate(31.096875 78.784539)scale(0.1 -0.1)\">\n",
       "       <use xlink:href=\"#DejaVuSans-30\"/>\n",
       "       <use x=\"63.623047\" xlink:href=\"#DejaVuSans-2e\"/>\n",
       "       <use x=\"95.410156\" xlink:href=\"#DejaVuSans-35\"/>\n",
       "      </g>\n",
       "     </g>\n",
       "    </g>\n",
       "    <g id=\"ytick_7\">\n",
       "     <g id=\"line2d_16\">\n",
       "      <g>\n",
       "       <use style=\"stroke:#000000;stroke-width:0.8;\" x=\"54\" xlink:href=\"#m2839bdba3b\" y=\"39.582384\"/>\n",
       "      </g>\n",
       "     </g>\n",
       "     <g id=\"text_17\">\n",
       "      <!-- 0.6 -->\n",
       "      <g transform=\"translate(31.096875 43.381603)scale(0.1 -0.1)\">\n",
       "       <use xlink:href=\"#DejaVuSans-30\"/>\n",
       "       <use x=\"63.623047\" xlink:href=\"#DejaVuSans-2e\"/>\n",
       "       <use x=\"95.410156\" xlink:href=\"#DejaVuSans-36\"/>\n",
       "      </g>\n",
       "     </g>\n",
       "    </g>\n",
       "   </g>\n",
       "   <g id=\"line2d_17\">\n",
       "    <path clip-path=\"url(#p86f71f55f9)\" d=\"M 69.218182 44.759659  L 69.413788 44.759659  L 69.609395 48.818125  L 70.391821 74.386072  L 70.587427 74.599326  L 71.369853 65.496308  L 71.565459 65.712791  L 71.956672 69.304506  L 72.347885 73.529887  L 72.543491 74.670439  L 72.739098 74.940775  L 72.934704 74.511121  L 73.521524 72.40896  L 73.71713 72.297901  L 73.912737 72.579484  L 74.695162 74.768689  L 74.890769 74.940479  L 75.086375 74.908341  L 75.868801 74.235489  L 76.260014 74.313481  L 77.238046 74.944467  L 77.824866 74.85335  L 78.411685 74.760228  L 81.541388 74.940542  L 84.084272 74.957846  L 95.820659 74.968692  L 269.519187 75.154388  L 290.644683 75.383933  L 301.011825 75.698899  L 307.075625 76.083468  L 311.183361 76.542802  L 314.313064 77.10566  L 316.660341 77.740181  L 318.616406 78.495224  L 320.181257 79.324197  L 321.550502 80.287104  L 322.724141 81.356764  L 323.89778 82.731937  L 324.875812 84.184816  L 325.853844 85.997724  L 326.831877 88.264363  L 327.809909 91.093048  L 328.787941 94.598562  L 329.765973 98.884516  L 330.939612 105.145724  L 332.308857 113.956325  L 333.873709 125.656267  L 335.829773 142.066236  L 337.590231 158.744651  L 339.350689 177.807242  L 341.893573 205.59534  L 343.067212 215.777955  L 344.045244 222.443308  L 345.023276 227.609059  L 346.001309 231.556623  L 346.979341 234.571838  L 347.957373 236.894248  L 348.935405 238.707589  L 350.109044 240.398824  L 351.282683 241.712486  L 352.651928 242.911343  L 354.21678 243.97602  L 355.977238 244.907527  L 358.128909 245.787951  L 360.671792 246.584519  L 363.801496 247.327361  L 367.713625 248.01852  L 372.603786 248.648848  L 373.581818 248.75284  L 373.581818 248.75284  \" style=\"fill:none;stroke:#1f77b4;stroke-linecap:square;stroke-width:1.5;\"/>\n",
       "   </g>\n",
       "   <g id=\"patch_3\">\n",
       "    <path d=\"M 54 252  L 54 34.56  \" style=\"fill:none;stroke:#000000;stroke-linecap:square;stroke-linejoin:miter;stroke-width:0.8;\"/>\n",
       "   </g>\n",
       "   <g id=\"patch_4\">\n",
       "    <path d=\"M 388.8 252  L 388.8 34.56  \" style=\"fill:none;stroke:#000000;stroke-linecap:square;stroke-linejoin:miter;stroke-width:0.8;\"/>\n",
       "   </g>\n",
       "   <g id=\"patch_5\">\n",
       "    <path d=\"M 54 252  L 388.8 252  \" style=\"fill:none;stroke:#000000;stroke-linecap:square;stroke-linejoin:miter;stroke-width:0.8;\"/>\n",
       "   </g>\n",
       "   <g id=\"patch_6\">\n",
       "    <path d=\"M 54 34.56  L 388.8 34.56  \" style=\"fill:none;stroke:#000000;stroke-linecap:square;stroke-linejoin:miter;stroke-width:0.8;\"/>\n",
       "   </g>\n",
       "   <g id=\"text_18\">\n",
       "    <!-- XOR2 Network: Loss -->\n",
       "    <defs>\n",
       "     <path d=\"M 6.296875 72.90625  L 16.890625 72.90625  L 35.015625 45.796875  L 53.21875 72.90625  L 63.8125 72.90625  L 40.375 37.890625  L 65.375 0  L 54.78125 0  L 34.28125 31  L 13.625 0  L 2.984375 0  L 29 38.921875  z \" id=\"DejaVuSans-58\"/>\n",
       "     <path d=\"M 39.40625 66.21875  Q 28.65625 66.21875 22.328125 58.203125  Q 16.015625 50.203125 16.015625 36.375  Q 16.015625 22.609375 22.328125 14.59375  Q 28.65625 6.59375 39.40625 6.59375  Q 50.140625 6.59375 56.421875 14.59375  Q 62.703125 22.609375 62.703125 36.375  Q 62.703125 50.203125 56.421875 58.203125  Q 50.140625 66.21875 39.40625 66.21875  z M 39.40625 74.21875  Q 54.734375 74.21875 63.90625 63.9375  Q 73.09375 53.65625 73.09375 36.375  Q 73.09375 19.140625 63.90625 8.859375  Q 54.734375 -1.421875 39.40625 -1.421875  Q 24.03125 -1.421875 14.8125 8.828125  Q 5.609375 19.09375 5.609375 36.375  Q 5.609375 53.65625 14.8125 63.9375  Q 24.03125 74.21875 39.40625 74.21875  z \" id=\"DejaVuSans-4f\"/>\n",
       "     <path d=\"M 44.390625 34.1875  Q 47.5625 33.109375 50.5625 29.59375  Q 53.5625 26.078125 56.59375 19.921875  L 66.609375 0  L 56 0  L 46.6875 18.703125  Q 43.0625 26.03125 39.671875 28.421875  Q 36.28125 30.8125 30.421875 30.8125  L 19.671875 30.8125  L 19.671875 0  L 9.8125 0  L 9.8125 72.90625  L 32.078125 72.90625  Q 44.578125 72.90625 50.734375 67.671875  Q 56.890625 62.453125 56.890625 51.90625  Q 56.890625 45.015625 53.6875 40.46875  Q 50.484375 35.9375 44.390625 34.1875  z M 19.671875 64.796875  L 19.671875 38.921875  L 32.078125 38.921875  Q 39.203125 38.921875 42.84375 42.21875  Q 46.484375 45.515625 46.484375 51.90625  Q 46.484375 58.296875 42.84375 61.546875  Q 39.203125 64.796875 32.078125 64.796875  z \" id=\"DejaVuSans-52\"/>\n",
       "     <path id=\"DejaVuSans-20\"/>\n",
       "     <path d=\"M 9.8125 72.90625  L 23.09375 72.90625  L 55.421875 11.921875  L 55.421875 72.90625  L 64.984375 72.90625  L 64.984375 0  L 51.703125 0  L 19.390625 60.984375  L 19.390625 0  L 9.8125 0  z \" id=\"DejaVuSans-4e\"/>\n",
       "     <path d=\"M 56.203125 29.59375  L 56.203125 25.203125  L 14.890625 25.203125  Q 15.484375 15.921875 20.484375 11.0625  Q 25.484375 6.203125 34.421875 6.203125  Q 39.59375 6.203125 44.453125 7.46875  Q 49.3125 8.734375 54.109375 11.28125  L 54.109375 2.78125  Q 49.265625 0.734375 44.1875 -0.34375  Q 39.109375 -1.421875 33.890625 -1.421875  Q 20.796875 -1.421875 13.15625 6.1875  Q 5.515625 13.8125 5.515625 26.8125  Q 5.515625 40.234375 12.765625 48.109375  Q 20.015625 56 32.328125 56  Q 43.359375 56 49.78125 48.890625  Q 56.203125 41.796875 56.203125 29.59375  z M 47.21875 32.234375  Q 47.125 39.59375 43.09375 43.984375  Q 39.0625 48.390625 32.421875 48.390625  Q 24.90625 48.390625 20.390625 44.140625  Q 15.875 39.890625 15.1875 32.171875  z \" id=\"DejaVuSans-65\"/>\n",
       "     <path d=\"M 18.3125 70.21875  L 18.3125 54.6875  L 36.8125 54.6875  L 36.8125 47.703125  L 18.3125 47.703125  L 18.3125 18.015625  Q 18.3125 11.328125 20.140625 9.421875  Q 21.96875 7.515625 27.59375 7.515625  L 36.8125 7.515625  L 36.8125 0  L 27.59375 0  Q 17.1875 0 13.234375 3.875  Q 9.28125 7.765625 9.28125 18.015625  L 9.28125 47.703125  L 2.6875 47.703125  L 2.6875 54.6875  L 9.28125 54.6875  L 9.28125 70.21875  z \" id=\"DejaVuSans-74\"/>\n",
       "     <path d=\"M 4.203125 54.6875  L 13.1875 54.6875  L 24.421875 12.015625  L 35.59375 54.6875  L 46.1875 54.6875  L 57.421875 12.015625  L 68.609375 54.6875  L 77.59375 54.6875  L 63.28125 0  L 52.6875 0  L 40.921875 44.828125  L 29.109375 0  L 18.5 0  z \" id=\"DejaVuSans-77\"/>\n",
       "     <path d=\"M 41.109375 46.296875  Q 39.59375 47.171875 37.8125 47.578125  Q 36.03125 48 33.890625 48  Q 26.265625 48 22.1875 43.046875  Q 18.109375 38.09375 18.109375 28.8125  L 18.109375 0  L 9.078125 0  L 9.078125 54.6875  L 18.109375 54.6875  L 18.109375 46.1875  Q 20.953125 51.171875 25.484375 53.578125  Q 30.03125 56 36.53125 56  Q 37.453125 56 38.578125 55.875  Q 39.703125 55.765625 41.0625 55.515625  z \" id=\"DejaVuSans-72\"/>\n",
       "     <path d=\"M 9.078125 75.984375  L 18.109375 75.984375  L 18.109375 31.109375  L 44.921875 54.6875  L 56.390625 54.6875  L 27.390625 29.109375  L 57.625 0  L 45.90625 0  L 18.109375 26.703125  L 18.109375 0  L 9.078125 0  z \" id=\"DejaVuSans-6b\"/>\n",
       "     <path d=\"M 11.71875 12.40625  L 22.015625 12.40625  L 22.015625 0  L 11.71875 0  z M 11.71875 51.703125  L 22.015625 51.703125  L 22.015625 39.3125  L 11.71875 39.3125  z \" id=\"DejaVuSans-3a\"/>\n",
       "     <path d=\"M 9.8125 72.90625  L 19.671875 72.90625  L 19.671875 8.296875  L 55.171875 8.296875  L 55.171875 0  L 9.8125 0  z \" id=\"DejaVuSans-4c\"/>\n",
       "     <path d=\"M 44.28125 53.078125  L 44.28125 44.578125  Q 40.484375 46.53125 36.375 47.5  Q 32.28125 48.484375 27.875 48.484375  Q 21.1875 48.484375 17.84375 46.4375  Q 14.5 44.390625 14.5 40.28125  Q 14.5 37.15625 16.890625 35.375  Q 19.28125 33.59375 26.515625 31.984375  L 29.59375 31.296875  Q 39.15625 29.25 43.1875 25.515625  Q 47.21875 21.78125 47.21875 15.09375  Q 47.21875 7.46875 41.1875 3.015625  Q 35.15625 -1.421875 24.609375 -1.421875  Q 20.21875 -1.421875 15.453125 -0.5625  Q 10.6875 0.296875 5.421875 2  L 5.421875 11.28125  Q 10.40625 8.6875 15.234375 7.390625  Q 20.0625 6.109375 24.8125 6.109375  Q 31.15625 6.109375 34.5625 8.28125  Q 37.984375 10.453125 37.984375 14.40625  Q 37.984375 18.0625 35.515625 20.015625  Q 33.0625 21.96875 24.703125 23.78125  L 21.578125 24.515625  Q 13.234375 26.265625 9.515625 29.90625  Q 5.8125 33.546875 5.8125 39.890625  Q 5.8125 47.609375 11.28125 51.796875  Q 16.75 56 26.8125 56  Q 31.78125 56 36.171875 55.265625  Q 40.578125 54.546875 44.28125 53.078125  z \" id=\"DejaVuSans-73\"/>\n",
       "    </defs>\n",
       "    <g transform=\"translate(160.434375 28.56)scale(0.12 -0.12)\">\n",
       "     <use xlink:href=\"#DejaVuSans-58\"/>\n",
       "     <use x=\"68.412109\" xlink:href=\"#DejaVuSans-4f\"/>\n",
       "     <use x=\"147.123047\" xlink:href=\"#DejaVuSans-52\"/>\n",
       "     <use x=\"216.605469\" xlink:href=\"#DejaVuSans-32\"/>\n",
       "     <use x=\"280.228516\" xlink:href=\"#DejaVuSans-20\"/>\n",
       "     <use x=\"312.015625\" xlink:href=\"#DejaVuSans-4e\"/>\n",
       "     <use x=\"386.820312\" xlink:href=\"#DejaVuSans-65\"/>\n",
       "     <use x=\"448.34375\" xlink:href=\"#DejaVuSans-74\"/>\n",
       "     <use x=\"487.552734\" xlink:href=\"#DejaVuSans-77\"/>\n",
       "     <use x=\"569.339844\" xlink:href=\"#DejaVuSans-6f\"/>\n",
       "     <use x=\"630.521484\" xlink:href=\"#DejaVuSans-72\"/>\n",
       "     <use x=\"671.634766\" xlink:href=\"#DejaVuSans-6b\"/>\n",
       "     <use x=\"729.544922\" xlink:href=\"#DejaVuSans-3a\"/>\n",
       "     <use x=\"763.236328\" xlink:href=\"#DejaVuSans-20\"/>\n",
       "     <use x=\"795.023438\" xlink:href=\"#DejaVuSans-4c\"/>\n",
       "     <use x=\"850.720703\" xlink:href=\"#DejaVuSans-6f\"/>\n",
       "     <use x=\"911.902344\" xlink:href=\"#DejaVuSans-73\"/>\n",
       "     <use x=\"964.001953\" xlink:href=\"#DejaVuSans-73\"/>\n",
       "    </g>\n",
       "   </g>\n",
       "   <g id=\"legend_1\">\n",
       "    <g id=\"patch_7\">\n",
       "     <path d=\"M 290.434375 57.238125  L 381.8 57.238125  Q 383.8 57.238125 383.8 55.238125  L 383.8 41.56  Q 383.8 39.56 381.8 39.56  L 290.434375 39.56  Q 288.434375 39.56 288.434375 41.56  L 288.434375 55.238125  Q 288.434375 57.238125 290.434375 57.238125  z \" style=\"fill:#ffffff;opacity:0.8;stroke:#cccccc;stroke-linejoin:miter;\"/>\n",
       "    </g>\n",
       "    <g id=\"line2d_18\">\n",
       "     <path d=\"M 292.434375 47.658437  L 312.434375 47.658437  \" style=\"fill:none;stroke:#1f77b4;stroke-linecap:square;stroke-width:1.5;\"/>\n",
       "    </g>\n",
       "    <g id=\"line2d_19\"/>\n",
       "    <g id=\"text_19\">\n",
       "     <!-- Training set -->\n",
       "     <defs>\n",
       "      <path d=\"M -0.296875 72.90625  L 61.375 72.90625  L 61.375 64.59375  L 35.5 64.59375  L 35.5 0  L 25.59375 0  L 25.59375 64.59375  L -0.296875 64.59375  z \" id=\"DejaVuSans-54\"/>\n",
       "      <path d=\"M 34.28125 27.484375  Q 23.390625 27.484375 19.1875 25  Q 14.984375 22.515625 14.984375 16.5  Q 14.984375 11.71875 18.140625 8.90625  Q 21.296875 6.109375 26.703125 6.109375  Q 34.1875 6.109375 38.703125 11.40625  Q 43.21875 16.703125 43.21875 25.484375  L 43.21875 27.484375  z M 52.203125 31.203125  L 52.203125 0  L 43.21875 0  L 43.21875 8.296875  Q 40.140625 3.328125 35.546875 0.953125  Q 30.953125 -1.421875 24.3125 -1.421875  Q 15.921875 -1.421875 10.953125 3.296875  Q 6 8.015625 6 15.921875  Q 6 25.140625 12.171875 29.828125  Q 18.359375 34.515625 30.609375 34.515625  L 43.21875 34.515625  L 43.21875 35.40625  Q 43.21875 41.609375 39.140625 45  Q 35.0625 48.390625 27.6875 48.390625  Q 23 48.390625 18.546875 47.265625  Q 14.109375 46.140625 10.015625 43.890625  L 10.015625 52.203125  Q 14.9375 54.109375 19.578125 55.046875  Q 24.21875 56 28.609375 56  Q 40.484375 56 46.34375 49.84375  Q 52.203125 43.703125 52.203125 31.203125  z \" id=\"DejaVuSans-61\"/>\n",
       "      <path d=\"M 9.421875 54.6875  L 18.40625 54.6875  L 18.40625 0  L 9.421875 0  z M 9.421875 75.984375  L 18.40625 75.984375  L 18.40625 64.59375  L 9.421875 64.59375  z \" id=\"DejaVuSans-69\"/>\n",
       "      <path d=\"M 54.890625 33.015625  L 54.890625 0  L 45.90625 0  L 45.90625 32.71875  Q 45.90625 40.484375 42.875 44.328125  Q 39.84375 48.1875 33.796875 48.1875  Q 26.515625 48.1875 22.3125 43.546875  Q 18.109375 38.921875 18.109375 30.90625  L 18.109375 0  L 9.078125 0  L 9.078125 54.6875  L 18.109375 54.6875  L 18.109375 46.1875  Q 21.34375 51.125 25.703125 53.5625  Q 30.078125 56 35.796875 56  Q 45.21875 56 50.046875 50.171875  Q 54.890625 44.34375 54.890625 33.015625  z \" id=\"DejaVuSans-6e\"/>\n",
       "      <path d=\"M 45.40625 27.984375  Q 45.40625 37.75 41.375 43.109375  Q 37.359375 48.484375 30.078125 48.484375  Q 22.859375 48.484375 18.828125 43.109375  Q 14.796875 37.75 14.796875 27.984375  Q 14.796875 18.265625 18.828125 12.890625  Q 22.859375 7.515625 30.078125 7.515625  Q 37.359375 7.515625 41.375 12.890625  Q 45.40625 18.265625 45.40625 27.984375  z M 54.390625 6.78125  Q 54.390625 -7.171875 48.1875 -13.984375  Q 42 -20.796875 29.203125 -20.796875  Q 24.46875 -20.796875 20.265625 -20.09375  Q 16.0625 -19.390625 12.109375 -17.921875  L 12.109375 -9.1875  Q 16.0625 -11.328125 19.921875 -12.34375  Q 23.78125 -13.375 27.78125 -13.375  Q 36.625 -13.375 41.015625 -8.765625  Q 45.40625 -4.15625 45.40625 5.171875  L 45.40625 9.625  Q 42.625 4.78125 38.28125 2.390625  Q 33.9375 0 27.875 0  Q 17.828125 0 11.671875 7.65625  Q 5.515625 15.328125 5.515625 27.984375  Q 5.515625 40.671875 11.671875 48.328125  Q 17.828125 56 27.875 56  Q 33.9375 56 38.28125 53.609375  Q 42.625 51.21875 45.40625 46.390625  L 45.40625 54.6875  L 54.390625 54.6875  z \" id=\"DejaVuSans-67\"/>\n",
       "     </defs>\n",
       "     <g transform=\"translate(320.434375 51.158437)scale(0.1 -0.1)\">\n",
       "      <use xlink:href=\"#DejaVuSans-54\"/>\n",
       "      <use x=\"60.865234\" xlink:href=\"#DejaVuSans-72\"/>\n",
       "      <use x=\"101.978516\" xlink:href=\"#DejaVuSans-61\"/>\n",
       "      <use x=\"163.257812\" xlink:href=\"#DejaVuSans-69\"/>\n",
       "      <use x=\"191.041016\" xlink:href=\"#DejaVuSans-6e\"/>\n",
       "      <use x=\"254.419922\" xlink:href=\"#DejaVuSans-69\"/>\n",
       "      <use x=\"282.203125\" xlink:href=\"#DejaVuSans-6e\"/>\n",
       "      <use x=\"345.582031\" xlink:href=\"#DejaVuSans-67\"/>\n",
       "      <use x=\"409.058594\" xlink:href=\"#DejaVuSans-20\"/>\n",
       "      <use x=\"440.845703\" xlink:href=\"#DejaVuSans-73\"/>\n",
       "      <use x=\"492.945312\" xlink:href=\"#DejaVuSans-65\"/>\n",
       "      <use x=\"554.46875\" xlink:href=\"#DejaVuSans-74\"/>\n",
       "     </g>\n",
       "    </g>\n",
       "   </g>\n",
       "  </g>\n",
       " </g>\n",
       " <defs>\n",
       "  <clipPath id=\"p86f71f55f9\">\n",
       "   <rect height=\"217.44\" width=\"334.8\" x=\"54\" y=\"34.56\"/>\n",
       "  </clipPath>\n",
       " </defs>\n",
       "</svg>"
      ],
      "text/plain": [
       "<IPython.core.display.SVG object>"
      ]
     },
     "metadata": {},
     "output_type": "display_data"
    },
    {
     "name": "stdout",
     "output_type": "stream",
     "text": [
      "========================================================================\n",
      "       |  Training |   output1 |   output2 \n",
      "Epochs |     Error |       acc |       acc \n",
      "------ | --------- | --------- | --------- \n",
      "# 1556 |   0.00917 |   1.00000 |   1.00000 \n"
     ]
    }
   ],
   "source": [
    "net.train(epochs=2000, accuracy=1.0, report_rate=25, plot=True)"
   ]
  },
  {
   "cell_type": "code",
   "execution_count": 38,
   "metadata": {},
   "outputs": [
    {
     "data": {
      "text/plain": [
       "[[0.1348401], [0.083617575]]"
      ]
     },
     "execution_count": 38,
     "metadata": {},
     "output_type": "execute_result"
    }
   ],
   "source": [
    "net.propagate_from(\"shared-hidden\", [0.0] * 5)"
   ]
  },
  {
   "cell_type": "code",
   "execution_count": 39,
   "metadata": {},
   "outputs": [
    {
     "data": {
      "text/plain": [
       "[0.8779739141464233,\n",
       " 0.169812873005867,\n",
       " 0.7813137769699097,\n",
       " 0.16778863966464996,\n",
       " 0.41088947653770447,\n",
       " 0.7654796242713928,\n",
       " 0.24763965606689453,\n",
       " 0.16072389483451843,\n",
       " 0.7294251322746277,\n",
       " 0.8840998411178589]"
      ]
     },
     "execution_count": 39,
     "metadata": {},
     "output_type": "execute_result"
    }
   ],
   "source": [
    "net.propagate_to(\"hidden1\", [[1], [1]])"
   ]
  },
  {
   "cell_type": "code",
   "execution_count": 40,
   "metadata": {},
   "outputs": [
    {
     "name": "stdout",
     "output_type": "stream",
     "text": [
      "========================================================\n",
      "Testing train dataset with tolerance 0.1000...\n",
      "Total count: 4\n",
      "      correct: 4\n",
      "      incorrect: 0\n",
      "Total percentage correct: 1.0\n"
     ]
    }
   ],
   "source": [
    "net.test()"
   ]
  },
  {
   "cell_type": "code",
   "execution_count": 41,
   "metadata": {},
   "outputs": [],
   "source": [
    "net.dataset.slice(2)"
   ]
  },
  {
   "cell_type": "code",
   "execution_count": 42,
   "metadata": {},
   "outputs": [
    {
     "name": "stdout",
     "output_type": "stream",
     "text": [
      "No training required: accuracy already to desired value\n",
      "Training dataset status:\n",
      "       |  Training |   output1 |   output2 \n",
      "Epochs |     Error |       acc |       acc \n",
      "------ | --------- | --------- | --------- \n",
      "# 1556 |   0.00917 |   1.00000 |   1.00000 \n"
     ]
    }
   ],
   "source": [
    "net.train(epochs=2000, accuracy=1.0, report_rate=25)"
   ]
  }
 ],
 "metadata": {
  "kernelspec": {
   "display_name": "Python 3",
   "language": "python",
   "name": "python3"
  },
  "language_info": {
   "codemirror_mode": {
    "name": "ipython",
    "version": 3
   },
   "file_extension": ".py",
   "mimetype": "text/x-python",
   "name": "python",
   "nbconvert_exporter": "python",
   "pygments_lexer": "ipython3",
   "version": "3.6.3"
  },
  "widgets": {
   "application/vnd.jupyter.widget-state+json": {
    "state": {
     "0026f97660724613a206291bd3b5ad8c": {
      "model_module": "@jupyter-widgets/base",
      "model_module_version": "1.0.0",
      "model_name": "LayoutModel",
      "state": {
       "width": "100%"
      }
     },
     "0068b04e0ee84f4eb964fde726f4b13b": {
      "model_module": "@jupyter-widgets/base",
      "model_module_version": "1.0.0",
      "model_name": "LayoutModel",
      "state": {
       "height": "50px",
       "width": "100%"
      }
     },
     "00fef4a82ac34321a3e4f8297ef3d03c": {
      "model_module": "@jupyter-widgets/controls",
      "model_module_version": "1.0.0",
      "model_name": "FloatTextModel",
      "state": {
       "description": "Feature scale:",
       "layout": "IPY_MODEL_6c578621b3b64f9aac72be5d5a9a84fa",
       "step": null,
       "style": "IPY_MODEL_e5e0a79a9be949c99858518922e2a429",
       "value": 2
      }
     },
     "01434a2cc0a94a95b8ec8d4e672f8188": {
      "model_module": "@jupyter-widgets/controls",
      "model_module_version": "1.0.0",
      "model_name": "DescriptionStyleModel",
      "state": {
       "description_width": "initial"
      }
     },
     "01cb6278c8c5443494b67f81dc9d684d": {
      "model_module": "@jupyter-widgets/controls",
      "model_module_version": "1.0.0",
      "model_name": "ButtonModel",
      "state": {
       "icon": "refresh",
       "layout": "IPY_MODEL_8df45dbd184f4dd09d6108d43e19aad0",
       "style": "IPY_MODEL_c23916fa729948dfb3ebc96857c49928"
      }
     },
     "01ce3f5e29014b0c970c6a9337495882": {
      "model_module": "@jupyter-widgets/base",
      "model_module_version": "1.0.0",
      "model_name": "LayoutModel",
      "state": {}
     },
     "01f1ccafc21a4f3dbac154685d484932": {
      "model_module": "@jupyter-widgets/base",
      "model_module_version": "1.0.0",
      "model_name": "LayoutModel",
      "state": {
       "width": "100%"
      }
     },
     "02012f1f1dba4a25b987352ab435fc7c": {
      "model_module": "@jupyter-widgets/controls",
      "model_module_version": "1.0.0",
      "model_name": "SliderStyleModel",
      "state": {
       "description_width": ""
      }
     },
     "02560e0a618c45a6a877e58d6b00bcb0": {
      "model_module": "@jupyter-widgets/controls",
      "model_module_version": "1.0.0",
      "model_name": "IntTextModel",
      "state": {
       "description": "Horizontal space between banks:",
       "layout": "IPY_MODEL_0733ab47b5cd42a78da6c77993e20fa5",
       "step": 1,
       "style": "IPY_MODEL_ccff427421894164a19819a3c1666ecc",
       "value": 150
      }
     },
     "0272feee3fb34ff69987363583e197b4": {
      "model_module": "@jupyter-widgets/controls",
      "model_module_version": "1.0.0",
      "model_name": "CheckboxModel",
      "state": {
       "description": "Errors",
       "disabled": false,
       "layout": "IPY_MODEL_577ecc573e8a4287bff2858034e8f45f",
       "style": "IPY_MODEL_38b97c899889401aa00371056e401c86",
       "value": false
      }
     },
     "028f997ff9c94bbfaa845ccf9d8ebf30": {
      "model_module": "@jupyter-widgets/controls",
      "model_module_version": "1.0.0",
      "model_name": "FloatTextModel",
      "state": {
       "description": "Feature scale:",
       "layout": "IPY_MODEL_d2316a28fe2849c19a7acb9fc1a897e0",
       "step": null,
       "style": "IPY_MODEL_b735ad50146e4ac6850a51c1afdb669b",
       "value": 2
      }
     },
     "02983d3c678c4cbfac16d9e4e39ee88e": {
      "model_module": "@jupyter-widgets/controls",
      "model_module_version": "1.0.0",
      "model_name": "SelectModel",
      "state": {
       "_options_labels": [
        ""
       ],
       "description": "Features:",
       "index": 0,
       "layout": "IPY_MODEL_55f30232800b468ba0b1c7aef8032c41",
       "rows": 1,
       "style": "IPY_MODEL_8e85e7a0ea6741679b5303201c293cec"
      }
     },
     "03531f542fdb4f33baf5dc5b30eee250": {
      "model_module": "@jupyter-widgets/controls",
      "model_module_version": "1.0.0",
      "model_name": "VBoxModel",
      "state": {
       "children": [
        "IPY_MODEL_5921dcd7b8974ce4956bfbf86aca6d7e",
        "IPY_MODEL_38bdf5980af34a909234fd15213b45b9",
        "IPY_MODEL_62e148c006a6447e8558ece62b9776af",
        "IPY_MODEL_1b8006ab053a409cbbbf3d7a357939fb",
        "IPY_MODEL_cfcc0e0515a0470b8a17c565351e04bc",
        "IPY_MODEL_c0f11046a1f34a69998c5c322eee640a",
        "IPY_MODEL_6c1f716a977c48bf8b9b69b705ac6685",
        "IPY_MODEL_f69940aa43e04bc28a945065e793bd5a"
       ],
       "layout": "IPY_MODEL_30986e21f839408099c448bfc9b10f21"
      }
     },
     "04c96083a9f74930b7d97db379ebbbbb": {
      "model_module": "@jupyter-widgets/base",
      "model_module_version": "1.0.0",
      "model_name": "LayoutModel",
      "state": {
       "width": "100%"
      }
     },
     "05f76a9711814bdc929b6548469f58c0": {
      "model_module": "@jupyter-widgets/controls",
      "model_module_version": "1.0.0",
      "model_name": "DescriptionStyleModel",
      "state": {
       "description_width": ""
      }
     },
     "0640584e4f20497784bc584bc08979fe": {
      "model_module": "@jupyter-widgets/controls",
      "model_module_version": "1.0.0",
      "model_name": "DescriptionStyleModel",
      "state": {
       "description_width": "initial"
      }
     },
     "06a83d7fa5fb457787efa29d7e3c1ac8": {
      "model_module": "@jupyter-widgets/controls",
      "model_module_version": "1.0.0",
      "model_name": "ButtonStyleModel",
      "state": {}
     },
     "0716bb34d96741d5b5158394af1aab8c": {
      "model_module": "@jupyter-widgets/controls",
      "model_module_version": "1.0.0",
      "model_name": "SelectModel",
      "state": {
       "_options_labels": [
        "",
        "Accent",
        "Accent_r",
        "Blues",
        "Blues_r",
        "BrBG",
        "BrBG_r",
        "BuGn",
        "BuGn_r",
        "BuPu",
        "BuPu_r",
        "CMRmap",
        "CMRmap_r",
        "Dark2",
        "Dark2_r",
        "GnBu",
        "GnBu_r",
        "Greens",
        "Greens_r",
        "Greys",
        "Greys_r",
        "OrRd",
        "OrRd_r",
        "Oranges",
        "Oranges_r",
        "PRGn",
        "PRGn_r",
        "Paired",
        "Paired_r",
        "Pastel1",
        "Pastel1_r",
        "Pastel2",
        "Pastel2_r",
        "PiYG",
        "PiYG_r",
        "PuBu",
        "PuBuGn",
        "PuBuGn_r",
        "PuBu_r",
        "PuOr",
        "PuOr_r",
        "PuRd",
        "PuRd_r",
        "Purples",
        "Purples_r",
        "RdBu",
        "RdBu_r",
        "RdGy",
        "RdGy_r",
        "RdPu",
        "RdPu_r",
        "RdYlBu",
        "RdYlBu_r",
        "RdYlGn",
        "RdYlGn_r",
        "Reds",
        "Reds_r",
        "Set1",
        "Set1_r",
        "Set2",
        "Set2_r",
        "Set3",
        "Set3_r",
        "Spectral",
        "Spectral_r",
        "Vega10",
        "Vega10_r",
        "Vega20",
        "Vega20_r",
        "Vega20b",
        "Vega20b_r",
        "Vega20c",
        "Vega20c_r",
        "Wistia",
        "Wistia_r",
        "YlGn",
        "YlGnBu",
        "YlGnBu_r",
        "YlGn_r",
        "YlOrBr",
        "YlOrBr_r",
        "YlOrRd",
        "YlOrRd_r",
        "afmhot",
        "afmhot_r",
        "autumn",
        "autumn_r",
        "binary",
        "binary_r",
        "bone",
        "bone_r",
        "brg",
        "brg_r",
        "bwr",
        "bwr_r",
        "cool",
        "cool_r",
        "coolwarm",
        "coolwarm_r",
        "copper",
        "copper_r",
        "cubehelix",
        "cubehelix_r",
        "flag",
        "flag_r",
        "gist_earth",
        "gist_earth_r",
        "gist_gray",
        "gist_gray_r",
        "gist_heat",
        "gist_heat_r",
        "gist_ncar",
        "gist_ncar_r",
        "gist_rainbow",
        "gist_rainbow_r",
        "gist_stern",
        "gist_stern_r",
        "gist_yarg",
        "gist_yarg_r",
        "gnuplot",
        "gnuplot2",
        "gnuplot2_r",
        "gnuplot_r",
        "gray",
        "gray_r",
        "hot",
        "hot_r",
        "hsv",
        "hsv_r",
        "inferno",
        "inferno_r",
        "jet",
        "jet_r",
        "magma",
        "magma_r",
        "nipy_spectral",
        "nipy_spectral_r",
        "ocean",
        "ocean_r",
        "pink",
        "pink_r",
        "plasma",
        "plasma_r",
        "prism",
        "prism_r",
        "rainbow",
        "rainbow_r",
        "seismic",
        "seismic_r",
        "spectral",
        "spectral_r",
        "spring",
        "spring_r",
        "summer",
        "summer_r",
        "tab10",
        "tab10_r",
        "tab20",
        "tab20_r",
        "tab20b",
        "tab20b_r",
        "tab20c",
        "tab20c_r",
        "terrain",
        "terrain_r",
        "viridis",
        "viridis_r",
        "winter",
        "winter_r"
       ],
       "description": "Colormap:",
       "index": 0,
       "layout": "IPY_MODEL_101c6ed00c9541af92f484aec3dbd20f",
       "rows": 1,
       "style": "IPY_MODEL_e22967ac16f34f53b71bc252fb5bcd1f"
      }
     },
     "0733ab47b5cd42a78da6c77993e20fa5": {
      "model_module": "@jupyter-widgets/base",
      "model_module_version": "1.0.0",
      "model_name": "LayoutModel",
      "state": {}
     },
     "07562e0bf0c049eaa3237b2bfe22fd29": {
      "model_module": "@jupyter-widgets/controls",
      "model_module_version": "1.0.0",
      "model_name": "FloatTextModel",
      "state": {
       "description": "Rightmost color maps to:",
       "layout": "IPY_MODEL_fa59230725384b14b3e1170cfdd8bfdf",
       "step": null,
       "style": "IPY_MODEL_0ada3d1e8a804b6e925de3f15861f1e2",
       "value": 1
      }
     },
     "0763d645e4e340d1bc8211d83f287337": {
      "model_module": "@jupyter-widgets/controls",
      "model_module_version": "1.0.0",
      "model_name": "LabelModel",
      "state": {
       "layout": "IPY_MODEL_9068e4b2119d46958aab03ee0fc4e326",
       "style": "IPY_MODEL_ae85cabc62044eb180ac845d3eaeb35e",
       "value": "of 0"
      }
     },
     "076df4c99d7c46cfaeedeaf0ca3b20d6": {
      "model_module": "@jupyter-widgets/controls",
      "model_module_version": "1.0.0",
      "model_name": "IntTextModel",
      "state": {
       "description": "Feature columns:",
       "layout": "IPY_MODEL_b14035ca563e4ba2947269c45979e505",
       "step": 1,
       "style": "IPY_MODEL_c1bcbcffcd464ba5b44b9c42a3c6a203",
       "value": 3
      }
     },
     "07c5c7e1598a48fe9026191ce8456b4a": {
      "model_module": "@jupyter-widgets/controls",
      "model_module_version": "1.0.0",
      "model_name": "DescriptionStyleModel",
      "state": {
       "description_width": ""
      }
     },
     "081c8e433a3a492b8ad39fb8fbbdefb2": {
      "model_module": "@jupyter-widgets/controls",
      "model_module_version": "1.0.0",
      "model_name": "AccordionModel",
      "state": {
       "_titles": {
        "0": "XOR Network"
       },
       "children": [
        "IPY_MODEL_114752b861a34e5eb472c7d0b9dd0944"
       ],
       "layout": "IPY_MODEL_763ff53388c344d59d8a1e7022abb24e",
       "selected_index": null
      }
     },
     "0871136fff9247368acece5afa15e8ad": {
      "model_module": "@jupyter-widgets/controls",
      "model_module_version": "1.0.0",
      "model_name": "CheckboxModel",
      "state": {
       "description": "Show Targets",
       "disabled": false,
       "layout": "IPY_MODEL_7aa4162c5b014e94a77f19770305fd77",
       "style": "IPY_MODEL_5feb85abc10b4b78a4c02b81e569f9d2",
       "value": false
      }
     },
     "093aaa5a7f164cb0a185976c37b2a55f": {
      "model_module": "@jupyter-widgets/controls",
      "model_module_version": "1.0.0",
      "model_name": "DescriptionStyleModel",
      "state": {
       "description_width": ""
      }
     },
     "0983c26d2c4d4aaeb1b5f7d8de0d7dbf": {
      "model_module": "@jupyter-widgets/base",
      "model_module_version": "1.0.0",
      "model_name": "LayoutModel",
      "state": {
       "width": "100%"
      }
     },
     "098c1ba3b35d49e7bcd0ac10483608d2": {
      "model_module": "@jupyter-widgets/base",
      "model_module_version": "1.0.0",
      "model_name": "LayoutModel",
      "state": {}
     },
     "09951b9621be495e895d5780ace271dc": {
      "model_module": "@jupyter-widgets/controls",
      "model_module_version": "1.0.0",
      "model_name": "CheckboxModel",
      "state": {
       "description": "Show Targets",
       "disabled": false,
       "layout": "IPY_MODEL_965fefa61e1a41e5b42803f3156aa187",
       "style": "IPY_MODEL_f635c6f27911445aa0d6feade708e611",
       "value": false
      }
     },
     "09a677ec12924aec8c85c26cc4b4342c": {
      "model_module": "@jupyter-widgets/controls",
      "model_module_version": "1.0.0",
      "model_name": "SelectModel",
      "state": {
       "_options_labels": [
        "",
        "Accent",
        "Accent_r",
        "Blues",
        "Blues_r",
        "BrBG",
        "BrBG_r",
        "BuGn",
        "BuGn_r",
        "BuPu",
        "BuPu_r",
        "CMRmap",
        "CMRmap_r",
        "Dark2",
        "Dark2_r",
        "GnBu",
        "GnBu_r",
        "Greens",
        "Greens_r",
        "Greys",
        "Greys_r",
        "OrRd",
        "OrRd_r",
        "Oranges",
        "Oranges_r",
        "PRGn",
        "PRGn_r",
        "Paired",
        "Paired_r",
        "Pastel1",
        "Pastel1_r",
        "Pastel2",
        "Pastel2_r",
        "PiYG",
        "PiYG_r",
        "PuBu",
        "PuBuGn",
        "PuBuGn_r",
        "PuBu_r",
        "PuOr",
        "PuOr_r",
        "PuRd",
        "PuRd_r",
        "Purples",
        "Purples_r",
        "RdBu",
        "RdBu_r",
        "RdGy",
        "RdGy_r",
        "RdPu",
        "RdPu_r",
        "RdYlBu",
        "RdYlBu_r",
        "RdYlGn",
        "RdYlGn_r",
        "Reds",
        "Reds_r",
        "Set1",
        "Set1_r",
        "Set2",
        "Set2_r",
        "Set3",
        "Set3_r",
        "Spectral",
        "Spectral_r",
        "Vega10",
        "Vega10_r",
        "Vega20",
        "Vega20_r",
        "Vega20b",
        "Vega20b_r",
        "Vega20c",
        "Vega20c_r",
        "Wistia",
        "Wistia_r",
        "YlGn",
        "YlGnBu",
        "YlGnBu_r",
        "YlGn_r",
        "YlOrBr",
        "YlOrBr_r",
        "YlOrRd",
        "YlOrRd_r",
        "afmhot",
        "afmhot_r",
        "autumn",
        "autumn_r",
        "binary",
        "binary_r",
        "bone",
        "bone_r",
        "brg",
        "brg_r",
        "bwr",
        "bwr_r",
        "cool",
        "cool_r",
        "coolwarm",
        "coolwarm_r",
        "copper",
        "copper_r",
        "cubehelix",
        "cubehelix_r",
        "flag",
        "flag_r",
        "gist_earth",
        "gist_earth_r",
        "gist_gray",
        "gist_gray_r",
        "gist_heat",
        "gist_heat_r",
        "gist_ncar",
        "gist_ncar_r",
        "gist_rainbow",
        "gist_rainbow_r",
        "gist_stern",
        "gist_stern_r",
        "gist_yarg",
        "gist_yarg_r",
        "gnuplot",
        "gnuplot2",
        "gnuplot2_r",
        "gnuplot_r",
        "gray",
        "gray_r",
        "hot",
        "hot_r",
        "hsv",
        "hsv_r",
        "inferno",
        "inferno_r",
        "jet",
        "jet_r",
        "magma",
        "magma_r",
        "nipy_spectral",
        "nipy_spectral_r",
        "ocean",
        "ocean_r",
        "pink",
        "pink_r",
        "plasma",
        "plasma_r",
        "prism",
        "prism_r",
        "rainbow",
        "rainbow_r",
        "seismic",
        "seismic_r",
        "spectral",
        "spectral_r",
        "spring",
        "spring_r",
        "summer",
        "summer_r",
        "tab10",
        "tab10_r",
        "tab20",
        "tab20_r",
        "tab20b",
        "tab20b_r",
        "tab20c",
        "tab20c_r",
        "terrain",
        "terrain_r",
        "viridis",
        "viridis_r",
        "winter",
        "winter_r"
       ],
       "description": "Colormap:",
       "index": 0,
       "layout": "IPY_MODEL_965fefa61e1a41e5b42803f3156aa187",
       "rows": 1,
       "style": "IPY_MODEL_76f7f665b8854359ab93ab1147daa94f"
      }
     },
     "0ac1f7f4f98845c9bf05d49a058ee034": {
      "model_module": "@jupyter-widgets/controls",
      "model_module_version": "1.0.0",
      "model_name": "SliderStyleModel",
      "state": {
       "description_width": ""
      }
     },
     "0ada3d1e8a804b6e925de3f15861f1e2": {
      "model_module": "@jupyter-widgets/controls",
      "model_module_version": "1.0.0",
      "model_name": "DescriptionStyleModel",
      "state": {
       "description_width": "initial"
      }
     },
     "0b3f1977a1cf482eb204ebdae8c03088": {
      "model_module": "@jupyter-widgets/controls",
      "model_module_version": "1.0.0",
      "model_name": "ButtonStyleModel",
      "state": {}
     },
     "0b8b807c2ba741df960d0fba38f0508d": {
      "model_module": "@jupyter-widgets/base",
      "model_module_version": "1.0.0",
      "model_name": "LayoutModel",
      "state": {}
     },
     "0c04335e1ba947da95e7027bfc752b84": {
      "model_module": "@jupyter-widgets/base",
      "model_module_version": "1.0.0",
      "model_name": "LayoutModel",
      "state": {
       "width": "100%"
      }
     },
     "0db5095fee7c41ac8cb5d480ba902961": {
      "model_module": "@jupyter-widgets/base",
      "model_module_version": "1.0.0",
      "model_name": "LayoutModel",
      "state": {}
     },
     "0e5ed026aac846b9a20e757624336b43": {
      "model_module": "@jupyter-widgets/base",
      "model_module_version": "1.0.0",
      "model_name": "LayoutModel",
      "state": {}
     },
     "0e6f2ce835b34ad9ad3a31300e4b578d": {
      "model_module": "@jupyter-widgets/controls",
      "model_module_version": "1.0.0",
      "model_name": "ButtonModel",
      "state": {
       "description": "Play",
       "icon": "play",
       "layout": "IPY_MODEL_78bef92496f2492289141e8eb73a1af3",
       "style": "IPY_MODEL_8a5dcc966d61465a956c85c9fc155aec"
      }
     },
     "0e95bea24d6b496d90a92e3756990f80": {
      "model_module": "@jupyter-widgets/controls",
      "model_module_version": "1.0.0",
      "model_name": "DescriptionStyleModel",
      "state": {
       "description_width": "initial"
      }
     },
     "0f11abd31d114ad7acceb669c3e2233c": {
      "model_module": "@jupyter-widgets/base",
      "model_module_version": "1.0.0",
      "model_name": "LayoutModel",
      "state": {}
     },
     "0f5c77e86c1643179ee57d6f495f585d": {
      "model_module": "@jupyter-widgets/controls",
      "model_module_version": "1.0.0",
      "model_name": "SliderStyleModel",
      "state": {
       "description_width": ""
      }
     },
     "0f8c1403993d4d168e687fde163cecc9": {
      "model_module": "@jupyter-widgets/base",
      "model_module_version": "1.0.0",
      "model_name": "LayoutModel",
      "state": {
       "width": "100%"
      }
     },
     "101c6ed00c9541af92f484aec3dbd20f": {
      "model_module": "@jupyter-widgets/base",
      "model_module_version": "1.0.0",
      "model_name": "LayoutModel",
      "state": {}
     },
     "101fff870282403abfae5d79270cc8e3": {
      "model_module": "@jupyter-widgets/controls",
      "model_module_version": "1.0.0",
      "model_name": "HTMLModel",
      "state": {
       "layout": "IPY_MODEL_c01452ef16a34a91b6a387930197131f",
       "style": "IPY_MODEL_acdbbadbf4c04b19a828789a66e6e4cc",
       "value": "<img src=\"data:image/gif;base64,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\"/>"
      }
     },
     "10749716a3d445f2805076a033570f3c": {
      "model_module": "@jupyter-widgets/controls",
      "model_module_version": "1.0.0",
      "model_name": "IntSliderModel",
      "state": {
       "continuous_update": false,
       "description": "Dataset index",
       "layout": "IPY_MODEL_47589b05050e44efb5eacaa95cce9235",
       "max": 3,
       "style": "IPY_MODEL_bdbccac5b19a48f9862a8cd84951235f"
      }
     },
     "10b13c7437fe44ceaf4237b6cc93e697": {
      "model_module": "@jupyter-widgets/controls",
      "model_module_version": "1.0.0",
      "model_name": "ButtonStyleModel",
      "state": {}
     },
     "114752b861a34e5eb472c7d0b9dd0944": {
      "model_module": "@jupyter-widgets/controls",
      "model_module_version": "1.0.0",
      "model_name": "HBoxModel",
      "state": {
       "children": [
        "IPY_MODEL_6c3c301b93354d10853445baf3b3ab4c",
        "IPY_MODEL_5ae6200fa2474b13be553fe4dd89fba2"
       ],
       "layout": "IPY_MODEL_0f11abd31d114ad7acceb669c3e2233c"
      }
     },
     "117b66d3b0f543a4b76f6d3d43733a4d": {
      "model_module": "@jupyter-widgets/base",
      "model_module_version": "1.0.0",
      "model_name": "LayoutModel",
      "state": {
       "width": "100px"
      }
     },
     "1186ec11071f4babba6512cf62412f30": {
      "model_module": "@jupyter-widgets/controls",
      "model_module_version": "1.0.0",
      "model_name": "ButtonModel",
      "state": {
       "icon": "refresh",
       "layout": "IPY_MODEL_a41c053ee42c4d37a8b91f51618c876a",
       "style": "IPY_MODEL_9858f3a92a9a4f01b68fd6cb285b95d9"
      }
     },
     "11a0d9f5301d49a9b1fa89622d2c67a8": {
      "model_module": "@jupyter-widgets/controls",
      "model_module_version": "1.0.0",
      "model_name": "ButtonStyleModel",
      "state": {}
     },
     "11b504ead803439aa47f94226ff4fcc9": {
      "model_module": "@jupyter-widgets/controls",
      "model_module_version": "1.0.0",
      "model_name": "ButtonModel",
      "state": {
       "icon": "forward",
       "layout": "IPY_MODEL_d7b3e646e0b942d18075565163e9aefa",
       "style": "IPY_MODEL_894f1a132ded4090805c101a2214bccd"
      }
     },
     "122af9119290410d87614b9a2612ef2e": {
      "model_module": "@jupyter-widgets/base",
      "model_module_version": "1.0.0",
      "model_name": "LayoutModel",
      "state": {}
     },
     "124b411ea78c4113a90ff4641875405a": {
      "model_module": "@jupyter-widgets/base",
      "model_module_version": "1.0.0",
      "model_name": "LayoutModel",
      "state": {}
     },
     "124c0769b6c14b3d9892c266337611c5": {
      "model_module": "@jupyter-widgets/base",
      "model_module_version": "1.0.0",
      "model_name": "LayoutModel",
      "state": {
       "width": "100%"
      }
     },
     "12aa03d86a9a456fba485aaf7aebe9f0": {
      "model_module": "@jupyter-widgets/base",
      "model_module_version": "1.0.0",
      "model_name": "LayoutModel",
      "state": {}
     },
     "12d5746509e34e42bc61ebcb8b7975a7": {
      "model_module": "@jupyter-widgets/controls",
      "model_module_version": "1.0.0",
      "model_name": "SelectModel",
      "state": {
       "_options_labels": [
        "input1",
        "input2",
        "hidden1",
        "hidden2",
        "shared-hidden",
        "output1",
        "output2"
       ],
       "description": "Layer:",
       "index": 6,
       "layout": "IPY_MODEL_1a1bef53b1954d41af1a020f7a3786ab",
       "rows": 1,
       "style": "IPY_MODEL_7385f6c2e61a43979a02807f5417871f"
      }
     },
     "1373775d503044479af6c24332b3f1ee": {
      "model_module": "@jupyter-widgets/base",
      "model_module_version": "1.0.0",
      "model_name": "LayoutModel",
      "state": {
       "width": "100%"
      }
     },
     "13c09aa4e30545378ff5334263774182": {
      "model_module": "@jupyter-widgets/base",
      "model_module_version": "1.0.0",
      "model_name": "LayoutModel",
      "state": {}
     },
     "13e912094ea349a59b1b084958ec2d39": {
      "model_module": "@jupyter-widgets/base",
      "model_module_version": "1.0.0",
      "model_name": "LayoutModel",
      "state": {}
     },
     "13ffa0f9d1ca43dfb9d5e29fbac55f46": {
      "model_module": "@jupyter-widgets/controls",
      "model_module_version": "1.0.0",
      "model_name": "ButtonStyleModel",
      "state": {}
     },
     "146c657683374fac9d47045161559d6d": {
      "model_module": "@jupyter-widgets/base",
      "model_module_version": "1.0.0",
      "model_name": "LayoutModel",
      "state": {}
     },
     "1473b4e948074ef7aad6fb0dbce05e83": {
      "model_module": "@jupyter-widgets/controls",
      "model_module_version": "1.0.0",
      "model_name": "DescriptionStyleModel",
      "state": {
       "description_width": "initial"
      }
     },
     "15467d627eb94f80838ff2f12746a0fa": {
      "model_module": "@jupyter-widgets/controls",
      "model_module_version": "1.0.0",
      "model_name": "ButtonStyleModel",
      "state": {}
     },
     "1592910bd7c44085ac661381fbfb3c9d": {
      "model_module": "@jupyter-widgets/base",
      "model_module_version": "1.0.0",
      "model_name": "LayoutModel",
      "state": {}
     },
     "16fb5dc7650d40d48e4f239057f2aaed": {
      "model_module": "@jupyter-widgets/output",
      "model_module_version": "1.0.0",
      "model_name": "OutputModel",
      "state": {
       "layout": "IPY_MODEL_22f256557cb84fe28bea0f18b368e66e"
      }
     },
     "17bdb8c38a5c4e80afd7a3f88f31665c": {
      "model_module": "@jupyter-widgets/controls",
      "model_module_version": "1.0.0",
      "model_name": "SelectModel",
      "state": {
       "_options_labels": [
        "Test",
        "Train"
       ],
       "description": "Dataset:",
       "index": 1,
       "layout": "IPY_MODEL_7f970335e9034874bd9f2a3bdcf98e57",
       "rows": 1,
       "style": "IPY_MODEL_54efbd143d1547c4b7ce294862673646"
      }
     },
     "18732705723641f4b7a8a25ae8df4540": {
      "model_module": "@jupyter-widgets/controls",
      "model_module_version": "1.0.0",
      "model_name": "ButtonModel",
      "state": {
       "icon": "fast-backward",
       "layout": "IPY_MODEL_d19b172a893749beba28e9128cd61cf1",
       "style": "IPY_MODEL_10b13c7437fe44ceaf4237b6cc93e697"
      }
     },
     "1888907361e64d12ba1f3eb2761f398e": {
      "model_module": "@jupyter-widgets/controls",
      "model_module_version": "1.0.0",
      "model_name": "IntTextModel",
      "state": {
       "description": "Horizontal space between banks:",
       "layout": "IPY_MODEL_38857e0b0e4144c0b46e419ee77c45e7",
       "step": 1,
       "style": "IPY_MODEL_36086bab7e7e4eb5a18a4908ef80c1cb",
       "value": 200
      }
     },
     "191492abe78345f5bddddbcca80fe7a3": {
      "model_module": "@jupyter-widgets/base",
      "model_module_version": "1.0.0",
      "model_name": "LayoutModel",
      "state": {
       "width": "100%"
      }
     },
     "1950ec4efde745e99201c61b79a9a326": {
      "model_module": "@jupyter-widgets/controls",
      "model_module_version": "1.0.0",
      "model_name": "VBoxModel",
      "state": {
       "children": [
        "IPY_MODEL_e555bde1ba9443a580a4071cddc7bb14",
        "IPY_MODEL_5dce5dd84b364f38a3338c76520e66bd",
        "IPY_MODEL_2203f8bf5fb744399b0b34318c4eb479",
        "IPY_MODEL_8f938f9798614f99be606a47564d5c2e",
        "IPY_MODEL_740eaafbc1e9436288fea675c74dcbf4",
        "IPY_MODEL_cb4fda6f1f9d4b2b88737da96bbae74a",
        "IPY_MODEL_4d7c5faca63a4b6f8840e3eee47a0065"
       ],
       "layout": "IPY_MODEL_6d490ba1bdbd4496bbf3818bee4fc261"
      }
     },
     "19cc554f8612407492e295ccf319e3c0": {
      "model_module": "@jupyter-widgets/base",
      "model_module_version": "1.0.0",
      "model_name": "LayoutModel",
      "state": {
       "width": "100%"
      }
     },
     "1a1bef53b1954d41af1a020f7a3786ab": {
      "model_module": "@jupyter-widgets/base",
      "model_module_version": "1.0.0",
      "model_name": "LayoutModel",
      "state": {}
     },
     "1a4db51a2f25441982d963db2bbfa733": {
      "model_module": "@jupyter-widgets/base",
      "model_module_version": "1.0.0",
      "model_name": "LayoutModel",
      "state": {}
     },
     "1a585d21ebae48eca26c0d67ed6e430b": {
      "model_module": "@jupyter-widgets/controls",
      "model_module_version": "1.0.0",
      "model_name": "ButtonStyleModel",
      "state": {}
     },
     "1b35073f4a9d4d3f97893f9a9f2509f7": {
      "model_module": "@jupyter-widgets/controls",
      "model_module_version": "1.0.0",
      "model_name": "IntTextModel",
      "state": {
       "layout": "IPY_MODEL_b11c8e49a4694abcb7710891c3705b1e",
       "step": 1,
       "style": "IPY_MODEL_093aaa5a7f164cb0a185976c37b2a55f"
      }
     },
     "1b37df4b95ee4df892faa1cad0135e90": {
      "model_module": "@jupyter-widgets/controls",
      "model_module_version": "1.0.0",
      "model_name": "LabelModel",
      "state": {
       "layout": "IPY_MODEL_117b66d3b0f543a4b76f6d3d43733a4d",
       "style": "IPY_MODEL_73f6798e49164cb2991e3be863cb6947",
       "value": "of 0"
      }
     },
     "1b8006ab053a409cbbbf3d7a357939fb": {
      "model_module": "@jupyter-widgets/controls",
      "model_module_version": "1.0.0",
      "model_name": "IntTextModel",
      "state": {
       "description": "Vertical space between layers:",
       "layout": "IPY_MODEL_101c6ed00c9541af92f484aec3dbd20f",
       "step": 1,
       "style": "IPY_MODEL_4088415b1781463fb4a28aa4d439d5a0",
       "value": 30
      }
     },
     "1c6cb839bbbc48ab869247774a9b0902": {
      "model_module": "@jupyter-widgets/controls",
      "model_module_version": "1.0.0",
      "model_name": "DescriptionStyleModel",
      "state": {
       "description_width": ""
      }
     },
     "1c861609739c4ff48aea7a72f6147a16": {
      "model_module": "@jupyter-widgets/controls",
      "model_module_version": "1.0.0",
      "model_name": "DescriptionStyleModel",
      "state": {
       "description_width": ""
      }
     },
     "1c89b1ea57ba4ee0931bd70c1064b9a8": {
      "model_module": "@jupyter-widgets/controls",
      "model_module_version": "1.0.0",
      "model_name": "DescriptionStyleModel",
      "state": {
       "description_width": ""
      }
     },
     "1cd14858b1a8438dad97796ff2389c19": {
      "model_module": "@jupyter-widgets/controls",
      "model_module_version": "1.0.0",
      "model_name": "DescriptionStyleModel",
      "state": {
       "description_width": ""
      }
     },
     "1d2004af23af4381a327ec269b417690": {
      "model_module": "@jupyter-widgets/controls",
      "model_module_version": "1.0.0",
      "model_name": "DescriptionStyleModel",
      "state": {
       "description_width": "initial"
      }
     },
     "1d630b0c5ad348259a641e45c67506f2": {
      "model_module": "@jupyter-widgets/controls",
      "model_module_version": "1.0.0",
      "model_name": "HBoxModel",
      "state": {
       "children": [
        "IPY_MODEL_5caf423ba0b04a5e91c3e6909e16b191",
        "IPY_MODEL_fd689e66667f43edabf157e40858a078"
       ],
       "layout": "IPY_MODEL_ce6538cd3ae84572856cf5c579d0f79c"
      }
     },
     "1d9429b3177b4365b0e2e35302a6e6e6": {
      "model_module": "@jupyter-widgets/controls",
      "model_module_version": "1.0.0",
      "model_name": "HBoxModel",
      "state": {
       "children": [
        "IPY_MODEL_f925b6afa94d4914a71e8e719c749e5f",
        "IPY_MODEL_0272feee3fb34ff69987363583e197b4"
       ],
       "layout": "IPY_MODEL_5b1c51ccca6942cbb011edc59e2402e4"
      }
     },
     "1e0e809e5d36476cbb36cf6ba0467af0": {
      "model_module": "@jupyter-widgets/base",
      "model_module_version": "1.0.0",
      "model_name": "LayoutModel",
      "state": {
       "width": "100%"
      }
     },
     "1e79d0036b2240acbced8a987ff9e88e": {
      "model_module": "@jupyter-widgets/controls",
      "model_module_version": "1.0.0",
      "model_name": "FloatTextModel",
      "state": {
       "description": "Rightmost color maps to:",
       "layout": "IPY_MODEL_2259b8af3aa549a0ab6551b6eedef053",
       "step": null,
       "style": "IPY_MODEL_b5f41d0598bc4a47b24b0b3909d17ea8",
       "value": 1
      }
     },
     "1facfd1b7c79463c8ce1e3283db2e5b1": {
      "model_module": "@jupyter-widgets/controls",
      "model_module_version": "1.0.0",
      "model_name": "VBoxModel",
      "state": {
       "children": [
        "IPY_MODEL_d1a1aaf2352a4fa7abd6563552f0d15a",
        "IPY_MODEL_aca3e8f7a3a9431eb9b72b51641ecfe2"
       ],
       "layout": "IPY_MODEL_914de93b26fe4ba1a7a9be4d3a4878ef"
      }
     },
     "1fbf4ffd868f44dab71516fb45c5b2bb": {
      "model_module": "@jupyter-widgets/controls",
      "model_module_version": "1.0.0",
      "model_name": "HBoxModel",
      "state": {
       "children": [
        "IPY_MODEL_a6b3dfbf8cb54577be711de8e563d97e",
        "IPY_MODEL_3cfef0088fc943ca8bd8c38fe56a67d5"
       ],
       "layout": "IPY_MODEL_a7e626fa3145468da39ecc5f443ae065"
      }
     },
     "1fed749287564be7950abf39ee71aab1": {
      "model_module": "@jupyter-widgets/controls",
      "model_module_version": "1.0.0",
      "model_name": "DescriptionStyleModel",
      "state": {
       "description_width": ""
      }
     },
     "200153f5774f42a883c94152a838ff9f": {
      "model_module": "@jupyter-widgets/controls",
      "model_module_version": "1.0.0",
      "model_name": "ButtonModel",
      "state": {
       "icon": "forward",
       "layout": "IPY_MODEL_0026f97660724613a206291bd3b5ad8c",
       "style": "IPY_MODEL_06a83d7fa5fb457787efa29d7e3c1ac8"
      }
     },
     "2092c4d836f4430083c6a7bd9d25d7d4": {
      "model_module": "@jupyter-widgets/controls",
      "model_module_version": "1.0.0",
      "model_name": "ButtonModel",
      "state": {
       "icon": "fast-backward",
       "layout": "IPY_MODEL_310fae3fa0314d42ab5125804264d9a1",
       "style": "IPY_MODEL_a99acc22dc144db3807f098208a35260"
      }
     },
     "20a2203f2b134f57a64b51f57b882872": {
      "model_module": "@jupyter-widgets/controls",
      "model_module_version": "1.0.0",
      "model_name": "DescriptionStyleModel",
      "state": {
       "description_width": ""
      }
     },
     "20ad347b8a1840279449a6a9766feba2": {
      "model_module": "@jupyter-widgets/controls",
      "model_module_version": "1.0.0",
      "model_name": "FloatTextModel",
      "state": {
       "description": "Feature scale:",
       "layout": "IPY_MODEL_5915234901e04dccac9e019706504968",
       "step": null,
       "style": "IPY_MODEL_1473b4e948074ef7aad6fb0dbce05e83",
       "value": 2
      }
     },
     "20d2aa0550d54f6f96b8ee863416ad93": {
      "model_module": "@jupyter-widgets/base",
      "model_module_version": "1.0.0",
      "model_name": "LayoutModel",
      "state": {}
     },
     "2158cefba61d44a6af1702df18f283fe": {
      "model_module": "@jupyter-widgets/controls",
      "model_module_version": "1.0.0",
      "model_name": "FloatTextModel",
      "state": {
       "description": "Leftmost color maps to:",
       "layout": "IPY_MODEL_68f92e974d97409798e0ba666fe53766",
       "step": null,
       "style": "IPY_MODEL_f4a094c425814a88bd48b9e03901bc1c"
      }
     },
     "216a972f9f39433285951b95909f6db2": {
      "model_module": "@jupyter-widgets/controls",
      "model_module_version": "1.0.0",
      "model_name": "CheckboxModel",
      "state": {
       "description": "Show Targets",
       "disabled": false,
       "layout": "IPY_MODEL_f494a18df62344c59518ff2b34eca1a1",
       "style": "IPY_MODEL_c24326029bc84d7ba92cf30416743ca7",
       "value": false
      }
     },
     "21b7407f10e54f37b19b1565e313455f": {
      "model_module": "@jupyter-widgets/base",
      "model_module_version": "1.0.0",
      "model_name": "LayoutModel",
      "state": {
       "width": "100%"
      }
     },
     "2203f8bf5fb744399b0b34318c4eb479": {
      "model_module": "@jupyter-widgets/controls",
      "model_module_version": "1.0.0",
      "model_name": "SelectModel",
      "state": {
       "_options_labels": [
        "",
        "Accent",
        "Accent_r",
        "Blues",
        "Blues_r",
        "BrBG",
        "BrBG_r",
        "BuGn",
        "BuGn_r",
        "BuPu",
        "BuPu_r",
        "CMRmap",
        "CMRmap_r",
        "Dark2",
        "Dark2_r",
        "GnBu",
        "GnBu_r",
        "Greens",
        "Greens_r",
        "Greys",
        "Greys_r",
        "OrRd",
        "OrRd_r",
        "Oranges",
        "Oranges_r",
        "PRGn",
        "PRGn_r",
        "Paired",
        "Paired_r",
        "Pastel1",
        "Pastel1_r",
        "Pastel2",
        "Pastel2_r",
        "PiYG",
        "PiYG_r",
        "PuBu",
        "PuBuGn",
        "PuBuGn_r",
        "PuBu_r",
        "PuOr",
        "PuOr_r",
        "PuRd",
        "PuRd_r",
        "Purples",
        "Purples_r",
        "RdBu",
        "RdBu_r",
        "RdGy",
        "RdGy_r",
        "RdPu",
        "RdPu_r",
        "RdYlBu",
        "RdYlBu_r",
        "RdYlGn",
        "RdYlGn_r",
        "Reds",
        "Reds_r",
        "Set1",
        "Set1_r",
        "Set2",
        "Set2_r",
        "Set3",
        "Set3_r",
        "Spectral",
        "Spectral_r",
        "Vega10",
        "Vega10_r",
        "Vega20",
        "Vega20_r",
        "Vega20b",
        "Vega20b_r",
        "Vega20c",
        "Vega20c_r",
        "Wistia",
        "Wistia_r",
        "YlGn",
        "YlGnBu",
        "YlGnBu_r",
        "YlGn_r",
        "YlOrBr",
        "YlOrBr_r",
        "YlOrRd",
        "YlOrRd_r",
        "afmhot",
        "afmhot_r",
        "autumn",
        "autumn_r",
        "binary",
        "binary_r",
        "bone",
        "bone_r",
        "brg",
        "brg_r",
        "bwr",
        "bwr_r",
        "cool",
        "cool_r",
        "coolwarm",
        "coolwarm_r",
        "copper",
        "copper_r",
        "cubehelix",
        "cubehelix_r",
        "flag",
        "flag_r",
        "gist_earth",
        "gist_earth_r",
        "gist_gray",
        "gist_gray_r",
        "gist_heat",
        "gist_heat_r",
        "gist_ncar",
        "gist_ncar_r",
        "gist_rainbow",
        "gist_rainbow_r",
        "gist_stern",
        "gist_stern_r",
        "gist_yarg",
        "gist_yarg_r",
        "gnuplot",
        "gnuplot2",
        "gnuplot2_r",
        "gnuplot_r",
        "gray",
        "gray_r",
        "hot",
        "hot_r",
        "hsv",
        "hsv_r",
        "inferno",
        "inferno_r",
        "jet",
        "jet_r",
        "magma",
        "magma_r",
        "nipy_spectral",
        "nipy_spectral_r",
        "ocean",
        "ocean_r",
        "pink",
        "pink_r",
        "plasma",
        "plasma_r",
        "prism",
        "prism_r",
        "rainbow",
        "rainbow_r",
        "seismic",
        "seismic_r",
        "spectral",
        "spectral_r",
        "spring",
        "spring_r",
        "summer",
        "summer_r",
        "tab10",
        "tab10_r",
        "tab20",
        "tab20_r",
        "tab20b",
        "tab20b_r",
        "tab20c",
        "tab20c_r",
        "terrain",
        "terrain_r",
        "viridis",
        "viridis_r",
        "winter",
        "winter_r"
       ],
       "description": "Colormap:",
       "index": 0,
       "layout": "IPY_MODEL_f494a18df62344c59518ff2b34eca1a1",
       "rows": 1,
       "style": "IPY_MODEL_ff6d04a61012492c89ab061b9fda82d7"
      }
     },
     "2259b8af3aa549a0ab6551b6eedef053": {
      "model_module": "@jupyter-widgets/base",
      "model_module_version": "1.0.0",
      "model_name": "LayoutModel",
      "state": {}
     },
     "228dcf093be74306ae578577965a8560": {
      "model_module": "@jupyter-widgets/base",
      "model_module_version": "1.0.0",
      "model_name": "LayoutModel",
      "state": {
       "width": "100%"
      }
     },
     "22f256557cb84fe28bea0f18b368e66e": {
      "model_module": "@jupyter-widgets/base",
      "model_module_version": "1.0.0",
      "model_name": "LayoutModel",
      "state": {}
     },
     "23642b1b971741bea1cbeb32562c49bd": {
      "model_module": "@jupyter-widgets/controls",
      "model_module_version": "1.0.0",
      "model_name": "DescriptionStyleModel",
      "state": {
       "description_width": "initial"
      }
     },
     "23eddda6d3a241f9884a9e15a3e66ea5": {
      "model_module": "@jupyter-widgets/controls",
      "model_module_version": "1.0.0",
      "model_name": "DescriptionStyleModel",
      "state": {
       "description_width": ""
      }
     },
     "241cd5fa680045f2afb0372a893933f1": {
      "model_module": "@jupyter-widgets/controls",
      "model_module_version": "1.0.0",
      "model_name": "VBoxModel",
      "state": {
       "children": [
        "IPY_MODEL_c299b90d84a64c55b53e1e350eff4048",
        "IPY_MODEL_5fda1cd4f9ce4e23b4293e464ae52a4b"
       ],
       "layout": "IPY_MODEL_87d22ade3cd34484b10b815a877ef527"
      }
     },
     "2481faefddd641c388b8b5ab5e704352": {
      "model_module": "@jupyter-widgets/controls",
      "model_module_version": "1.0.0",
      "model_name": "DescriptionStyleModel",
      "state": {
       "description_width": ""
      }
     },
     "248cc349140c43a5840c615e4c2df315": {
      "model_module": "@jupyter-widgets/controls",
      "model_module_version": "1.0.0",
      "model_name": "DescriptionStyleModel",
      "state": {
       "description_width": ""
      }
     },
     "25a36232fd354ae0bc6e5f113fcb60f4": {
      "model_module": "@jupyter-widgets/controls",
      "model_module_version": "1.0.0",
      "model_name": "FloatSliderModel",
      "state": {
       "continuous_update": false,
       "description": "Zoom",
       "layout": "IPY_MODEL_a6ceb47c9b7840fab44439492391cab5",
       "max": 3,
       "min": 0.5,
       "step": 0.1,
       "style": "IPY_MODEL_aefaef61ac4949f49e9812b7c67baf1d",
       "value": 1.3
      }
     },
     "262f158353c5422fab37bbc7aa86e064": {
      "model_module": "@jupyter-widgets/base",
      "model_module_version": "1.0.0",
      "model_name": "LayoutModel",
      "state": {
       "width": "100%"
      }
     },
     "281cdf4c1c24445bb6f46a7315be2967": {
      "model_module": "@jupyter-widgets/controls",
      "model_module_version": "1.0.0",
      "model_name": "HBoxModel",
      "state": {
       "children": [
        "IPY_MODEL_88dee1cd19564587a700839b6dbf830d",
        "IPY_MODEL_7904a8d3fbcb4c65a7cc574fb60bc0e6"
       ],
       "layout": "IPY_MODEL_87d49d0e32054136a0c70cad42a0bb6b"
      }
     },
     "28238d73c5164699a7bb901628d93a42": {
      "model_module": "@jupyter-widgets/controls",
      "model_module_version": "1.0.0",
      "model_name": "IntTextModel",
      "state": {
       "description": "Feature columns:",
       "layout": "IPY_MODEL_64420f42857049a9a21a682b1bbceef2",
       "step": 1,
       "style": "IPY_MODEL_ff16ace8ae544006858abbf9c5cdacc9",
       "value": 3
      }
     },
     "28663a569ee644fd9ee10ed529fa79da": {
      "model_module": "@jupyter-widgets/base",
      "model_module_version": "1.0.0",
      "model_name": "LayoutModel",
      "state": {
       "height": "50px",
       "width": "100%"
      }
     },
     "2946423bc26f4b72a2f895192648acc6": {
      "model_module": "@jupyter-widgets/output",
      "model_module_version": "1.0.0",
      "model_name": "OutputModel",
      "state": {
       "layout": "IPY_MODEL_7f367b9e420b41a68510ed1d8a740f3c"
      }
     },
     "2ac8acde5bcd4d2f84a4749c05ccc470": {
      "model_module": "@jupyter-widgets/base",
      "model_module_version": "1.0.0",
      "model_name": "LayoutModel",
      "state": {}
     },
     "2b60b64abae14180adbee7d42a58a10f": {
      "model_module": "@jupyter-widgets/controls",
      "model_module_version": "1.0.0",
      "model_name": "SelectModel",
      "state": {
       "_options_labels": [
        ""
       ],
       "description": "Features:",
       "index": 0,
       "layout": "IPY_MODEL_c82727157b364af0b0832ecddc613f0c",
       "rows": 1,
       "style": "IPY_MODEL_1cd14858b1a8438dad97796ff2389c19"
      }
     },
     "2c49db11a49b4e5d9008f3e46faf7ba6": {
      "model_module": "@jupyter-widgets/controls",
      "model_module_version": "1.0.0",
      "model_name": "FloatTextModel",
      "state": {
       "description": "Rightmost color maps to:",
       "layout": "IPY_MODEL_8995e01b73e94cc697711ec5438ecdc8",
       "step": null,
       "style": "IPY_MODEL_c7f408b3b32141d4bcfc87eee31bf675",
       "value": 1
      }
     },
     "2c5364a66c9248299b161b052c854316": {
      "model_module": "@jupyter-widgets/controls",
      "model_module_version": "1.0.0",
      "model_name": "HBoxModel",
      "state": {
       "children": [
        "IPY_MODEL_cc3f67032fd44a4db21563f6acb3dce5",
        "IPY_MODEL_c169084c90d640619d5d9dc6cfd5ad39"
       ],
       "layout": "IPY_MODEL_e678a747b1f04dc5a873354d819443bc"
      }
     },
     "2c5706d496ad422eb3cf18242440b4c7": {
      "model_module": "@jupyter-widgets/base",
      "model_module_version": "1.0.0",
      "model_name": "LayoutModel",
      "state": {}
     },
     "2c5846309455430f8b23e86a10f911b8": {
      "model_module": "@jupyter-widgets/controls",
      "model_module_version": "1.0.0",
      "model_name": "IntTextModel",
      "state": {
       "description": "Vertical space between layers:",
       "layout": "IPY_MODEL_7aa4162c5b014e94a77f19770305fd77",
       "step": 1,
       "style": "IPY_MODEL_7a53c95e154c4874a63b335efaa5be9f",
       "value": 30
      }
     },
     "2c5ef887bd8e4ec8bb3871f179453c58": {
      "model_module": "@jupyter-widgets/base",
      "model_module_version": "1.0.0",
      "model_name": "LayoutModel",
      "state": {
       "width": "100%"
      }
     },
     "2ccbff546cd84fe49fe5f0f1a7af5806": {
      "model_module": "@jupyter-widgets/controls",
      "model_module_version": "1.0.0",
      "model_name": "AccordionModel",
      "state": {
       "_titles": {
        "0": "XOR2 Network"
       },
       "children": [
        "IPY_MODEL_6cb3a1f49c49415e8708c566dcf2492b"
       ],
       "layout": "IPY_MODEL_6cb036e188744688886aed2223631d12",
       "selected_index": null
      }
     },
     "2d0f0ad9f2b8448f959f34a1a3c7f298": {
      "model_module": "@jupyter-widgets/controls",
      "model_module_version": "1.0.0",
      "model_name": "SliderStyleModel",
      "state": {
       "description_width": ""
      }
     },
     "2d2e8449fe0e446d9e56d58677af0868": {
      "model_module": "@jupyter-widgets/controls",
      "model_module_version": "1.0.0",
      "model_name": "CheckboxModel",
      "state": {
       "description": "Errors",
       "disabled": false,
       "layout": "IPY_MODEL_101c6ed00c9541af92f484aec3dbd20f",
       "style": "IPY_MODEL_f41a05c04c8f4f73897e3fc1656db11b",
       "value": false
      }
     },
     "2d44a523b9e0428abf3f5ea35d942a72": {
      "model_module": "@jupyter-widgets/controls",
      "model_module_version": "1.0.0",
      "model_name": "ButtonStyleModel",
      "state": {}
     },
     "2d7d16a7a43d4cae8f894bf7bd8d22d5": {
      "model_module": "@jupyter-widgets/base",
      "model_module_version": "1.0.0",
      "model_name": "LayoutModel",
      "state": {
       "width": "100%"
      }
     },
     "2e355c0ab59f4522b996ddeb620d3661": {
      "model_module": "@jupyter-widgets/base",
      "model_module_version": "1.0.0",
      "model_name": "LayoutModel",
      "state": {}
     },
     "2e39a0c648864360a6d785bfed861e2d": {
      "model_module": "@jupyter-widgets/controls",
      "model_module_version": "1.0.0",
      "model_name": "IntTextModel",
      "state": {
       "description": "Vertical space between layers:",
       "layout": "IPY_MODEL_577ecc573e8a4287bff2858034e8f45f",
       "step": 1,
       "style": "IPY_MODEL_6a302a995e0a495aa3322e7013984664",
       "value": 30
      }
     },
     "2e5f7c42b8294fbe9895dcd779a5c6c2": {
      "model_module": "@jupyter-widgets/controls",
      "model_module_version": "1.0.0",
      "model_name": "SliderStyleModel",
      "state": {
       "description_width": ""
      }
     },
     "300e21df637e43578907df963795b4ca": {
      "model_module": "@jupyter-widgets/controls",
      "model_module_version": "1.0.0",
      "model_name": "ButtonStyleModel",
      "state": {}
     },
     "303fa76f7a0e430487e758956fec57f0": {
      "model_module": "@jupyter-widgets/controls",
      "model_module_version": "1.0.0",
      "model_name": "VBoxModel",
      "state": {
       "children": [
        "IPY_MODEL_85a242858c4f42f49fb3acaa1f512c2e",
        "IPY_MODEL_654548ecabcc49ce93c7df48e3114b07",
        "IPY_MODEL_1888907361e64d12ba1f3eb2761f398e",
        "IPY_MODEL_e7c4459c83de4441951bec122cc1b6b7",
        "IPY_MODEL_1d630b0c5ad348259a641e45c67506f2",
        "IPY_MODEL_364a08099e674652a3471f4d8ee284ec",
        "IPY_MODEL_9e9a38cb76464278bb8be40a9915618d",
        "IPY_MODEL_028f997ff9c94bbfaa845ccf9d8ebf30"
       ],
       "layout": "IPY_MODEL_4d71455ca4004d508ee5005c201873b5"
      }
     },
     "309248f23bff49f5a57322c89463eb7e": {
      "model_module": "@jupyter-widgets/controls",
      "model_module_version": "1.0.0",
      "model_name": "DescriptionStyleModel",
      "state": {
       "description_width": ""
      }
     },
     "30986e21f839408099c448bfc9b10f21": {
      "model_module": "@jupyter-widgets/base",
      "model_module_version": "1.0.0",
      "model_name": "LayoutModel",
      "state": {
       "width": "100%"
      }
     },
     "30d56ce07b7f4411a874d828cae786f8": {
      "model_module": "@jupyter-widgets/base",
      "model_module_version": "1.0.0",
      "model_name": "LayoutModel",
      "state": {
       "justify_content": "center",
       "overflow_x": "auto",
       "overflow_y": "auto",
       "width": "95%"
      }
     },
     "310fae3fa0314d42ab5125804264d9a1": {
      "model_module": "@jupyter-widgets/base",
      "model_module_version": "1.0.0",
      "model_name": "LayoutModel",
      "state": {
       "width": "100%"
      }
     },
     "3133eee84948489c9c43fb9e97843f91": {
      "model_module": "@jupyter-widgets/controls",
      "model_module_version": "1.0.0",
      "model_name": "DescriptionStyleModel",
      "state": {
       "description_width": ""
      }
     },
     "323d64e980ba482bbd4e57b369438003": {
      "model_module": "@jupyter-widgets/controls",
      "model_module_version": "1.0.0",
      "model_name": "DescriptionStyleModel",
      "state": {
       "description_width": "initial"
      }
     },
     "325ef4df9d1f48ceac534be8e22a63bc": {
      "model_module": "@jupyter-widgets/controls",
      "model_module_version": "1.0.0",
      "model_name": "DescriptionStyleModel",
      "state": {
       "description_width": ""
      }
     },
     "32fbadbd38a24a17b9b2998256fce7df": {
      "model_module": "@jupyter-widgets/controls",
      "model_module_version": "1.0.0",
      "model_name": "VBoxModel",
      "state": {
       "children": [
        "IPY_MODEL_17bdb8c38a5c4e80afd7a3f88f31665c",
        "IPY_MODEL_25a36232fd354ae0bc6e5f113fcb60f4",
        "IPY_MODEL_3e86d109212c4e958405619f6c180c23",
        "IPY_MODEL_2e39a0c648864360a6d785bfed861e2d",
        "IPY_MODEL_1d9429b3177b4365b0e2e35302a6e6e6",
        "IPY_MODEL_2b60b64abae14180adbee7d42a58a10f",
        "IPY_MODEL_4b5dabd50883414899b2ae2535d39a08",
        "IPY_MODEL_00fef4a82ac34321a3e4f8297ef3d03c"
       ],
       "layout": "IPY_MODEL_cafc462d2ed647d1b28e9237a8dffb3e"
      }
     },
     "334b76df3a344d40bc1c85530073bac9": {
      "model_module": "@jupyter-widgets/controls",
      "model_module_version": "1.0.0",
      "model_name": "HBoxModel",
      "state": {
       "children": [
        "IPY_MODEL_8f324444b079475b8d82a7941a97c4d3",
        "IPY_MODEL_caa934d2398c43e6907d46811f313618"
       ],
       "layout": "IPY_MODEL_f0a452a21714446ca90ed571eca52ab2"
      }
     },
     "337b165dbeb34e74a0df9365723c6895": {
      "model_module": "@jupyter-widgets/controls",
      "model_module_version": "1.0.0",
      "model_name": "SliderStyleModel",
      "state": {
       "description_width": ""
      }
     },
     "33d2210f79f4418ca093638d8b7da483": {
      "model_module": "@jupyter-widgets/controls",
      "model_module_version": "1.0.0",
      "model_name": "CheckboxModel",
      "state": {
       "description": "Visible",
       "disabled": false,
       "layout": "IPY_MODEL_101c6ed00c9541af92f484aec3dbd20f",
       "style": "IPY_MODEL_3c4eaa9795ce4c87bbf903dbcde9d713",
       "value": true
      }
     },
     "33fafbf084fa4513a1e63b548b96f526": {
      "model_module": "@jupyter-widgets/controls",
      "model_module_version": "1.0.0",
      "model_name": "VBoxModel",
      "state": {
       "children": [
        "IPY_MODEL_c0cb20a9051f43b185022784bf93ee6d",
        "IPY_MODEL_b4ab75a8f5e94690b75d15c4fcfc0556",
        "IPY_MODEL_09a677ec12924aec8c85c26cc4b4342c",
        "IPY_MODEL_101fff870282403abfae5d79270cc8e3",
        "IPY_MODEL_66c4c473a1aa4b8ba78d26b2600ced1a",
        "IPY_MODEL_2c49db11a49b4e5d9008f3e46faf7ba6",
        "IPY_MODEL_819402d66fa14bb5a2b39dce5ffa33ab"
       ],
       "layout": "IPY_MODEL_ae5c19eb0cc2440cad23a6c1817ca062"
      }
     },
     "33fcbf0d2ad345bba1630a91af39260b": {
      "model_module": "@jupyter-widgets/controls",
      "model_module_version": "1.0.0",
      "model_name": "DescriptionStyleModel",
      "state": {
       "description_width": "initial"
      }
     },
     "348dc24a8acd4f1bbf16dcea2506b9ee": {
      "model_module": "@jupyter-widgets/base",
      "model_module_version": "1.0.0",
      "model_name": "LayoutModel",
      "state": {
       "width": "100%"
      }
     },
     "352af412ade742fb8ece80b2da1ce603": {
      "model_module": "@jupyter-widgets/base",
      "model_module_version": "1.0.0",
      "model_name": "LayoutModel",
      "state": {
       "width": "100%"
      }
     },
     "35ceece14e5b453baf8a6de464517b15": {
      "model_module": "@jupyter-widgets/controls",
      "model_module_version": "1.0.0",
      "model_name": "ButtonModel",
      "state": {
       "icon": "fast-forward",
       "layout": "IPY_MODEL_82a50a94df924fb18dbc34983ad3077a",
       "style": "IPY_MODEL_7cb41573cdfb400e9a4d57765148a8f6"
      }
     },
     "36086bab7e7e4eb5a18a4908ef80c1cb": {
      "model_module": "@jupyter-widgets/controls",
      "model_module_version": "1.0.0",
      "model_name": "DescriptionStyleModel",
      "state": {
       "description_width": "initial"
      }
     },
     "3645d3c2931e4badb6e594ec631bfc32": {
      "model_module": "@jupyter-widgets/base",
      "model_module_version": "1.0.0",
      "model_name": "LayoutModel",
      "state": {
       "width": "100%"
      }
     },
     "364a08099e674652a3471f4d8ee284ec": {
      "model_module": "@jupyter-widgets/controls",
      "model_module_version": "1.0.0",
      "model_name": "SelectModel",
      "state": {
       "_options_labels": [
        ""
       ],
       "description": "Features:",
       "index": 0,
       "layout": "IPY_MODEL_99809ffc6a5e479497af333273fef7cd",
       "rows": 1,
       "style": "IPY_MODEL_325ef4df9d1f48ceac534be8e22a63bc"
      }
     },
     "378bd982fed84607ae88a5fbdc92ea7f": {
      "model_module": "@jupyter-widgets/controls",
      "model_module_version": "1.0.0",
      "model_name": "DescriptionStyleModel",
      "state": {
       "description_width": "initial"
      }
     },
     "37c7bd86f35745c5be2e9e918f219964": {
      "model_module": "@jupyter-widgets/controls",
      "model_module_version": "1.0.0",
      "model_name": "FloatSliderModel",
      "state": {
       "continuous_update": false,
       "description": "Zoom",
       "layout": "IPY_MODEL_9e11ffe472424d9186335a75da60c82d",
       "max": 3,
       "min": 0.5,
       "step": 0.1,
       "style": "IPY_MODEL_0ac1f7f4f98845c9bf05d49a058ee034",
       "value": 1
      }
     },
     "37eb40c5a6b04a2c8761085ab4281fd7": {
      "model_module": "@jupyter-widgets/controls",
      "model_module_version": "1.0.0",
      "model_name": "DescriptionStyleModel",
      "state": {
       "description_width": "initial"
      }
     },
     "38401272b46a4fabaa3fea04f0cbc3aa": {
      "model_module": "@jupyter-widgets/controls",
      "model_module_version": "1.0.0",
      "model_name": "ButtonModel",
      "state": {
       "icon": "backward",
       "layout": "IPY_MODEL_352af412ade742fb8ece80b2da1ce603",
       "style": "IPY_MODEL_bfff5c345ab347caa58ad3e79a27e13e"
      }
     },
     "38857e0b0e4144c0b46e419ee77c45e7": {
      "model_module": "@jupyter-widgets/base",
      "model_module_version": "1.0.0",
      "model_name": "LayoutModel",
      "state": {}
     },
     "38b97c899889401aa00371056e401c86": {
      "model_module": "@jupyter-widgets/controls",
      "model_module_version": "1.0.0",
      "model_name": "DescriptionStyleModel",
      "state": {
       "description_width": "initial"
      }
     },
     "38bdf5980af34a909234fd15213b45b9": {
      "model_module": "@jupyter-widgets/controls",
      "model_module_version": "1.0.0",
      "model_name": "FloatSliderModel",
      "state": {
       "continuous_update": false,
       "description": "Zoom",
       "layout": "IPY_MODEL_5b45da6ee57d43fd8ad676158c4768b6",
       "max": 3,
       "min": 0.5,
       "step": 0.1,
       "style": "IPY_MODEL_3e3919899c144d7bab84a6cab40a3a79",
       "value": 1.7
      }
     },
     "395144aff69b44e0877e362b0ef04a8d": {
      "model_module": "@jupyter-widgets/controls",
      "model_module_version": "1.0.0",
      "model_name": "ButtonModel",
      "state": {
       "icon": "fast-backward",
       "layout": "IPY_MODEL_7dc3ad89eae34310b9b7a241850350b1",
       "style": "IPY_MODEL_cb326653117c45799066ad6072aa92c2"
      }
     },
     "3973ddc311eb4ffba4f4ab12d80e1033": {
      "model_module": "@jupyter-widgets/controls",
      "model_module_version": "1.0.0",
      "model_name": "DescriptionStyleModel",
      "state": {
       "description_width": ""
      }
     },
     "39ee2e7a2e6a42cc896f1181cb1bc5d3": {
      "model_module": "@jupyter-widgets/base",
      "model_module_version": "1.0.0",
      "model_name": "LayoutModel",
      "state": {}
     },
     "3ae64dca604a49b1aeeb887e489b152a": {
      "model_module": "@jupyter-widgets/controls",
      "model_module_version": "1.0.0",
      "model_name": "DescriptionStyleModel",
      "state": {
       "description_width": "initial"
      }
     },
     "3b4f1cb821a04575a44fdb2a72a54568": {
      "model_module": "@jupyter-widgets/base",
      "model_module_version": "1.0.0",
      "model_name": "LayoutModel",
      "state": {}
     },
     "3b69442939c142848f88ae73598fee8a": {
      "model_module": "@jupyter-widgets/base",
      "model_module_version": "1.0.0",
      "model_name": "LayoutModel",
      "state": {
       "width": "100%"
      }
     },
     "3bbf19b00a0841009e3dfdbc65c3c012": {
      "model_module": "@jupyter-widgets/controls",
      "model_module_version": "1.0.0",
      "model_name": "HBoxModel",
      "state": {
       "children": [
        "IPY_MODEL_32fbadbd38a24a17b9b2998256fce7df",
        "IPY_MODEL_99358d45b7214b33b804f3f60c111270"
       ],
       "layout": "IPY_MODEL_ec60cbc4e0544d2d99a21f0f6b2a8f78"
      }
     },
     "3c4eaa9795ce4c87bbf903dbcde9d713": {
      "model_module": "@jupyter-widgets/controls",
      "model_module_version": "1.0.0",
      "model_name": "DescriptionStyleModel",
      "state": {
       "description_width": ""
      }
     },
     "3cfbd8074caf444889b0b2e546a14ff7": {
      "model_module": "@jupyter-widgets/controls",
      "model_module_version": "1.0.0",
      "model_name": "ButtonModel",
      "state": {
       "icon": "forward",
       "layout": "IPY_MODEL_cfad18362d274c9b92b27d9d3fb19ed4",
       "style": "IPY_MODEL_cc222bc2e5684482864970d5f44bc050"
      }
     },
     "3cfef0088fc943ca8bd8c38fe56a67d5": {
      "model_module": "@jupyter-widgets/controls",
      "model_module_version": "1.0.0",
      "model_name": "LabelModel",
      "state": {
       "layout": "IPY_MODEL_bf56ee0cbb76404ea90f16b678246229",
       "style": "IPY_MODEL_d135b4a9e5ca46cebdf81bbd1f871a51",
       "value": "of 0"
      }
     },
     "3d609371489f494f8fd645eb1da4247d": {
      "model_module": "@jupyter-widgets/controls",
      "model_module_version": "1.0.0",
      "model_name": "FloatTextModel",
      "state": {
       "description": "Leftmost color maps to:",
       "layout": "IPY_MODEL_6f41fefd61e944a6a0e68eb1ae44a136",
       "step": null,
       "style": "IPY_MODEL_929ae38ad85b42b691ad8278452b97ad"
      }
     },
     "3e3919899c144d7bab84a6cab40a3a79": {
      "model_module": "@jupyter-widgets/controls",
      "model_module_version": "1.0.0",
      "model_name": "SliderStyleModel",
      "state": {
       "description_width": ""
      }
     },
     "3e86d109212c4e958405619f6c180c23": {
      "model_module": "@jupyter-widgets/controls",
      "model_module_version": "1.0.0",
      "model_name": "IntTextModel",
      "state": {
       "description": "Horizontal space between banks:",
       "layout": "IPY_MODEL_577ecc573e8a4287bff2858034e8f45f",
       "step": 1,
       "style": "IPY_MODEL_efeb3dc6839e468b8080f84af861dfc5",
       "value": 150
      }
     },
     "3f3f7b7765d347d895c13b6bb2ce6cf7": {
      "model_module": "@jupyter-widgets/controls",
      "model_module_version": "1.0.0",
      "model_name": "VBoxModel",
      "state": {
       "children": [
        "IPY_MODEL_ba2cca8d185d42449347c850ae1a8a35",
        "IPY_MODEL_4bad5259778d446197a3ddaac6dda782",
        "IPY_MODEL_523f6d4d8d064a909dac2edb1783e645",
        "IPY_MODEL_2946423bc26f4b72a2f895192648acc6"
       ],
       "layout": "IPY_MODEL_968d6d88cc3d4122adcc90dc379469d3"
      }
     },
     "403130c147d44a02882819d6f20d73f5": {
      "model_module": "@jupyter-widgets/controls",
      "model_module_version": "1.0.0",
      "model_name": "DescriptionStyleModel",
      "state": {
       "description_width": ""
      }
     },
     "404ffa543f5840c798d2bc004932ec17": {
      "model_module": "@jupyter-widgets/controls",
      "model_module_version": "1.0.0",
      "model_name": "DescriptionStyleModel",
      "state": {
       "description_width": ""
      }
     },
     "4088415b1781463fb4a28aa4d439d5a0": {
      "model_module": "@jupyter-widgets/controls",
      "model_module_version": "1.0.0",
      "model_name": "DescriptionStyleModel",
      "state": {
       "description_width": "initial"
      }
     },
     "408f6f5a2eda491992ec0fbb9073a5e0": {
      "model_module": "@jupyter-widgets/controls",
      "model_module_version": "1.0.0",
      "model_name": "DescriptionStyleModel",
      "state": {
       "description_width": ""
      }
     },
     "411dcc9db2b245d2ad8bf0081df35fc6": {
      "model_module": "@jupyter-widgets/controls",
      "model_module_version": "1.0.0",
      "model_name": "IntTextModel",
      "state": {
       "description": "Vertical space between layers:",
       "layout": "IPY_MODEL_f494a18df62344c59518ff2b34eca1a1",
       "step": 1,
       "style": "IPY_MODEL_c17b5c68774644718424d22326b42a4c",
       "value": 30
      }
     },
     "4223ed9aeed84215a63a962d86ef1831": {
      "model_module": "@jupyter-widgets/controls",
      "model_module_version": "1.0.0",
      "model_name": "DescriptionStyleModel",
      "state": {
       "description_width": ""
      }
     },
     "4276ef9ee59542cca7ec62d67c99b9fd": {
      "model_module": "@jupyter-widgets/controls",
      "model_module_version": "1.0.0",
      "model_name": "IntTextModel",
      "state": {
       "description": "Horizontal space between banks:",
       "layout": "IPY_MODEL_965fefa61e1a41e5b42803f3156aa187",
       "step": 1,
       "style": "IPY_MODEL_ff2e921169ea419fa039607d978d0e0c",
       "value": 200
      }
     },
     "428cd740011749e3afa77ee1f72d5909": {
      "model_module": "@jupyter-widgets/controls",
      "model_module_version": "1.0.0",
      "model_name": "DescriptionStyleModel",
      "state": {
       "description_width": "initial"
      }
     },
     "42d15e94e69643b8a7816e6767aefb05": {
      "model_module": "@jupyter-widgets/controls",
      "model_module_version": "1.0.0",
      "model_name": "DescriptionStyleModel",
      "state": {
       "description_width": "initial"
      }
     },
     "42dde20eb2674f5d917027dc431ef312": {
      "model_module": "@jupyter-widgets/base",
      "model_module_version": "1.0.0",
      "model_name": "LayoutModel",
      "state": {
       "width": "100%"
      }
     },
     "440685ce5c98458ead19e1cc654ec622": {
      "model_module": "@jupyter-widgets/base",
      "model_module_version": "1.0.0",
      "model_name": "LayoutModel",
      "state": {
       "height": "40px"
      }
     },
     "44a043633a12473dae62837f50f8b01c": {
      "model_module": "@jupyter-widgets/controls",
      "model_module_version": "1.0.0",
      "model_name": "SelectModel",
      "state": {
       "_options_labels": [
        "Test",
        "Train"
       ],
       "description": "Dataset:",
       "index": 1,
       "layout": "IPY_MODEL_714e637d285941f6bbcab9f520f30fab",
       "rows": 1,
       "style": "IPY_MODEL_d80e6af3198141da8b12632372c8c1b8"
      }
     },
     "44e5fe5dd7d946fea29310bfababd932": {
      "model_module": "@jupyter-widgets/controls",
      "model_module_version": "1.0.0",
      "model_name": "DescriptionStyleModel",
      "state": {
       "description_width": "initial"
      }
     },
     "462b2178b3134def88242c89c1b8e7bc": {
      "model_module": "@jupyter-widgets/controls",
      "model_module_version": "1.0.0",
      "model_name": "SelectModel",
      "state": {
       "_options_labels": [
        "Test",
        "Train"
       ],
       "description": "Dataset:",
       "index": 1,
       "layout": "IPY_MODEL_dfde107161464fdead2e3030497797e9",
       "rows": 1,
       "style": "IPY_MODEL_86d1b516d9b64875a2b1150962ba4daa"
      }
     },
     "4745b5632d6e497499fe75dacaf07308": {
      "model_module": "@jupyter-widgets/controls",
      "model_module_version": "1.0.0",
      "model_name": "DescriptionStyleModel",
      "state": {
       "description_width": ""
      }
     },
     "47589b05050e44efb5eacaa95cce9235": {
      "model_module": "@jupyter-widgets/base",
      "model_module_version": "1.0.0",
      "model_name": "LayoutModel",
      "state": {
       "width": "100%"
      }
     },
     "47b366d8602846f486412747c15096a0": {
      "model_module": "@jupyter-widgets/controls",
      "model_module_version": "1.0.0",
      "model_name": "ButtonModel",
      "state": {
       "icon": "backward",
       "layout": "IPY_MODEL_9919e5da29574e39ab12372d70c46d3b",
       "style": "IPY_MODEL_9be23eac3364446a9319a59e422697a0"
      }
     },
     "47ba863f07df40968f3776cf7efe7a10": {
      "model_module": "@jupyter-widgets/controls",
      "model_module_version": "1.0.0",
      "model_name": "FloatTextModel",
      "state": {
       "description": "Rightmost color maps to:",
       "layout": "IPY_MODEL_95cf882b6fb54a33b813ababa8406668",
       "step": null,
       "style": "IPY_MODEL_428cd740011749e3afa77ee1f72d5909",
       "value": 1
      }
     },
     "47d3b915675441e48002a53071e9db33": {
      "model_module": "@jupyter-widgets/base",
      "model_module_version": "1.0.0",
      "model_name": "LayoutModel",
      "state": {}
     },
     "481262b4aa5b499cbda6190f69bcd4bd": {
      "model_module": "@jupyter-widgets/base",
      "model_module_version": "1.0.0",
      "model_name": "LayoutModel",
      "state": {
       "width": "100px"
      }
     },
     "483ba9cf907d48cfb2fe054a862f000f": {
      "model_module": "@jupyter-widgets/controls",
      "model_module_version": "1.0.0",
      "model_name": "ButtonModel",
      "state": {
       "icon": "refresh",
       "layout": "IPY_MODEL_f921590408c24e72ba1d85c87ddeeb9c",
       "style": "IPY_MODEL_6167c4c0d1134b73ab9c4b095214b31b"
      }
     },
     "488b0c8fb37241d8b8ba5fb98949b561": {
      "model_module": "@jupyter-widgets/controls",
      "model_module_version": "1.0.0",
      "model_name": "DescriptionStyleModel",
      "state": {
       "description_width": "initial"
      }
     },
     "48941a1623e7470b9a3e0d5c7131d9dd": {
      "model_module": "@jupyter-widgets/controls",
      "model_module_version": "1.0.0",
      "model_name": "DescriptionStyleModel",
      "state": {
       "description_width": ""
      }
     },
     "48e13f0545804d938a0596d2b3db5d0c": {
      "model_module": "@jupyter-widgets/controls",
      "model_module_version": "1.0.0",
      "model_name": "DescriptionStyleModel",
      "state": {
       "description_width": "initial"
      }
     },
     "4983b5e028004586848fe773e70c2370": {
      "model_module": "@jupyter-widgets/controls",
      "model_module_version": "1.0.0",
      "model_name": "DescriptionStyleModel",
      "state": {
       "description_width": "initial"
      }
     },
     "499e77a2731945ca95048d65f35123db": {
      "model_module": "@jupyter-widgets/base",
      "model_module_version": "1.0.0",
      "model_name": "LayoutModel",
      "state": {}
     },
     "4a4f9be3059b47be85e37bf2e7654ff2": {
      "model_module": "@jupyter-widgets/base",
      "model_module_version": "1.0.0",
      "model_name": "LayoutModel",
      "state": {}
     },
     "4a64e757530f455c80aacc112da974fb": {
      "model_module": "@jupyter-widgets/base",
      "model_module_version": "1.0.0",
      "model_name": "LayoutModel",
      "state": {}
     },
     "4ac0db3c52914029b2fa518344d4b10f": {
      "model_module": "@jupyter-widgets/controls",
      "model_module_version": "1.0.0",
      "model_name": "IntTextModel",
      "state": {
       "description": "Vertical space between layers:",
       "layout": "IPY_MODEL_0733ab47b5cd42a78da6c77993e20fa5",
       "step": 1,
       "style": "IPY_MODEL_5b61b93b308e4f6392fe08b4c703a8d0",
       "value": 30
      }
     },
     "4ad3e9bdaad74edea5cb760f8b05604a": {
      "model_module": "@jupyter-widgets/controls",
      "model_module_version": "1.0.0",
      "model_name": "ButtonModel",
      "state": {
       "description": "Play",
       "icon": "play",
       "layout": "IPY_MODEL_262f158353c5422fab37bbc7aa86e064",
       "style": "IPY_MODEL_300e21df637e43578907df963795b4ca"
      }
     },
     "4b5dabd50883414899b2ae2535d39a08": {
      "model_module": "@jupyter-widgets/controls",
      "model_module_version": "1.0.0",
      "model_name": "IntTextModel",
      "state": {
       "description": "Feature columns:",
       "layout": "IPY_MODEL_3b4f1cb821a04575a44fdb2a72a54568",
       "step": 1,
       "style": "IPY_MODEL_33fcbf0d2ad345bba1630a91af39260b",
       "value": 3
      }
     },
     "4b92fffa31174122aa966787785a1a68": {
      "model_module": "@jupyter-widgets/controls",
      "model_module_version": "1.0.0",
      "model_name": "ButtonModel",
      "state": {
       "icon": "fast-backward",
       "layout": "IPY_MODEL_124c0769b6c14b3d9892c266337611c5",
       "style": "IPY_MODEL_c5a585886ef642478537eb4fad441b97"
      }
     },
     "4bad5259778d446197a3ddaac6dda782": {
      "model_module": "@jupyter-widgets/controls",
      "model_module_version": "1.0.0",
      "model_name": "VBoxModel",
      "state": {
       "children": [
        "IPY_MODEL_8f75d73c65c54d35b26a84718fcb2368",
        "IPY_MODEL_e223f84643044ec9b69e1108c1208540"
       ],
       "layout": "IPY_MODEL_5202805f34af40f99bddaa1051d882d4"
      }
     },
     "4cca1fee53054fef829c6eaf7b6f62fd": {
      "model_module": "@jupyter-widgets/controls",
      "model_module_version": "1.0.0",
      "model_name": "DescriptionStyleModel",
      "state": {
       "description_width": "initial"
      }
     },
     "4cd609a964674b6184a576ca95508d6c": {
      "model_module": "@jupyter-widgets/controls",
      "model_module_version": "1.0.0",
      "model_name": "DescriptionStyleModel",
      "state": {
       "description_width": ""
      }
     },
     "4d71455ca4004d508ee5005c201873b5": {
      "model_module": "@jupyter-widgets/base",
      "model_module_version": "1.0.0",
      "model_name": "LayoutModel",
      "state": {
       "width": "100%"
      }
     },
     "4d7c5faca63a4b6f8840e3eee47a0065": {
      "model_module": "@jupyter-widgets/controls",
      "model_module_version": "1.0.0",
      "model_name": "IntTextModel",
      "state": {
       "description": "Feature to show:",
       "layout": "IPY_MODEL_e2fbc9719518404689f95d4ea6981068",
       "step": 1,
       "style": "IPY_MODEL_9da815210f5844599421f5f4404cce0c"
      }
     },
     "4dab2b66ba9b40769d5981da9060dee6": {
      "model_module": "@jupyter-widgets/controls",
      "model_module_version": "1.0.0",
      "model_name": "HTMLModel",
      "state": {
       "layout": "IPY_MODEL_30d56ce07b7f4411a874d828cae786f8",
       "style": "IPY_MODEL_865574b49ecb44ec937ff09b886bd931",
       "value": "<p style=\"text-align:center\"><svg id='XOR Network' xmlns='http://www.w3.org/2000/svg' viewBox=\"0 0 350 260\" height=\"780\" image-rendering=\"pixelated\">\n    <defs>\n        <marker id=\"arrow\" markerWidth=\"10\" markerHeight=\"10\" refX=\"9\" refY=\"3\" orient=\"auto\" markerUnits=\"strokeWidth\">\n          <path d=\"M0,0 L0,6 L9,3 z\" fill=\"black\" />\n        </marker>\n    </defs><text x=\"175.0\" y=\"12.5\" font-family=\"monospace\" font-size=\"15\" text-anchor=\"middle\" alignment-baseline=\"central\">XOR Network</text><rect x=\"149.0\" y=\"24\" width=\"52\" height=\"52\" style=\"fill:none;stroke:black;stroke-width:2\"/><image id=\"XOR Network_output_1\" class=\"XOR Network_output\" x=\"150.0\" y=\"25\" height=\"50\" width=\"50\" preserveAspectRatio=\"none\" href=\"data:image/gif;base64,R0lGODdhAQABAIcAAP9NTQAAAAAAAAAAAAAAAAAAAAAAAAAAAAAAAAAAAAAAAAAAAAAAAAAAAAAAAAAAAAAAAAAAAAAAAAAAAAAAAAAAAAAAAAAAAAAAAAAAAAAAAAAAAAAAAAAAAAAAAAAAAAAAAAAAAAAAAAAAAAAAAAAAAAAAAAAAAAAAAAAAAAAAAAAAAAAAAAAAAAAAAAAAAAAAAAAAAAAAAAAAAAAAAAAAAAAAAAAAAAAAAAAAAAAAAAAAAAAAAAAAAAAAAAAAAAAAAAAAAAAAAAAAAAAAAAAAAAAAAAAAAAAAAAAAAAAAAAAAAAAAAAAAAAAAAAAAAAAAAAAAAAAAAAAAAAAAAAAAAAAAAAAAAAAAAAAAAAAAAAAAAAAAAAAAAAAAAAAAAAAAAAAAAAAAAAAAAAAAAAAAAAAAAAAAAAAAAAAAAAAAAAAAAAAAAAAAAAAAAAAAAAAAAAAAAAAAAAAAAAAAAAAAAAAAAAAAAAAAAAAAAAAAAAAAAAAAAAAAAAAAAAAAAAAAAAAAAAAAAAAAAAAAAAAAAAAAAAAAAAAAAAAAAAAAAAAAAAAAAAAAAAAAAAAAAAAAAAAAAAAAAAAAAAAAAAAAAAAAAAAAAAAAAAAAAAAAAAAAAAAAAAAAAAAAAAAAAAAAAAAAAAAAAAAAAAAAAAAAAAAAAAAAAAAAAAAAAAAAAAAAAAAAAAAAAAAAAAAAAAAAAAAAAAAAAAAAAAAAAAAAAAAAAAAAAAAAAAAAAAAAAAAAAAAAAAAAAAAAAAAAAAAAAAAAAAAAAAAAAAAAAAAAAAAAAAAAAAAAAAAAAAAAAAAAAAAAAAAAAAAAAAAAAAAAAAAAAAAAAAAAAAAAAAAAAAAAAAAAAAAAAAAAAAAAAAAAAAAAAAAAAAAAAAAAAAAAAAAAAAAAAAAAAAAAAAAAAAAAAAAAAAAAAAAAAAAAAAAAAAAAAAAAAAAAAAAAAAAAAAAAAAAAAAAAAAAAAAAAAAAAAAAAAAAAAAAAAAAAAAAAAAAAAAAAAAAAAAAAACwAAAAAAQABAAAIBQABEAoIADs=\"><title>Layer: output (output)\n shape = (1,)\n Keras class = Dense\n activation = sigmoid</title></image><text x=\"205.0\" y=\"52.0\" font-family=\"monospace\" font-size=\"12\" text-anchor=\"start\" alignment-baseline=\"central\">output</text><line x1=\"175.0\" y1=\"104\" x2=\"175.0\" y2=\"77\" stroke=\"black\" stroke-width=\"2\" marker-end=\"url(#arrow)\"><title>Weights from hidden to output\n output/kernel has shape (4, 1)\n output/bias has shape (1,)</title></line><rect x=\"74.0\" y=\"104\" width=\"202\" height=\"52\" style=\"fill:none;stroke:black;stroke-width:2\"/><image id=\"XOR Network_hidden_2\" class=\"XOR Network_hidden\" x=\"75.0\" y=\"105\" height=\"50\" width=\"200\" preserveAspectRatio=\"none\" href=\"data:image/gif;base64,R0lGODdhBAABAIcAAAAA/wAAAAAAAAAAAAAAAAAAAAAAAAAAAAAAAAAAAAAAAAAAAAAAAAAAAAAAAAAAAAAAAAAAAAAAAAAAAAAAAAAAAAAAAAAAAAAAAAAAAAAAAAAAAAAAAAAAAAAAAAAAAAAAAAAAAAAAAAAAAAAAAAAAAAAAAAAAAAAAAAAAAAAAAAAAAAAAAAAAAAAAAAAAAAAAAAAAAAAAAAAAAAAAAAAAAAAAAAAAAAAAAAAAAAAAAAAAAAAAAAAAAAAAAAAAAAAAAAAAAAAAAAAAAAAAAAAAAAAAAAAAAAAAAAAAAAAAAAAAAAAAAAAAAAAAAAAAAAAAAAAAAAAAAAAAAAAAAAAAAAAAAAAAAAAAAAAAAAAAAAAAAAAAAAAAAAAAAAAAAAAAAAAAAAAAAAAAAAAAAAAAAAAAAAAAAAAAAAAAAAAAAAAAAAAAAAAAAAAAAAAAAAAAAAAAAAAAAAAAAAAAAAAAAAAAAAAAAAAAAAAAAAAAAAAAAAAAAAAAAAAAAAAAAAAAAAAAAAAAAAAAAAAAAAAAAAAAAAAAAAAAAAAAAAAAAAAAAAAAAAAAAAAAAAAAAAAAAAAAAAAAAAAAAAAAAAAAAAAAAAAAAAAAAAAAAAAAAAAAAAAAAAAAAAAAAAAAAAAAAAAAAAAAAAAAAAAAAAAAAAAAAAAAAAAAAAAAAAAAAAAAAAAAAAAAAAAAAAAAAAAAAAAAAAAAAAAAAAAAAAAAAAAAAAAAAAAAAAAAAAAAAAAAAAAAAAAAAAAAAAAAAAAAAAAAAAAAAAAAAAAAAAAAAAAAAAAAAAAAAAAAAAAAAAAAAAAAAAAAAAAAAAAAAAAAAAAAAAAAAAAAAAAAAAAAAAAAAAAAAAAAAAAAAAAAAAAAAAAAAAAAAAAAAAAAAAAAAAAAAAAAAAAAAAAAAAAAAAAAAAAAAAAAAAAAAAAAAAAAAAAAAAAAAAAAAAAAAAAAAAAAAAAAAAAAAAAAAAAAAAAAAAAAAAAAAAAAAAAAAAAAAAAAAAAAAAAAAAAAACwAAAAABAABAAAIBgABCAQQEAA7\"><title>Layer: hidden (hidden)\n shape = (4,)\n Keras class = Dense\n activation = sigmoid</title></image><text x=\"280.0\" y=\"132.0\" font-family=\"monospace\" font-size=\"12\" text-anchor=\"start\" alignment-baseline=\"central\">hidden</text><line x1=\"175.0\" y1=\"184\" x2=\"175.0\" y2=\"157\" stroke=\"black\" stroke-width=\"2\" marker-end=\"url(#arrow)\"><title>Weights from input to hidden\n hidden/kernel has shape (2, 4)\n hidden/bias has shape (4,)</title></line><rect x=\"124.0\" y=\"184\" width=\"102\" height=\"52\" style=\"fill:none;stroke:black;stroke-width:2\"/><image id=\"XOR Network_input_3\" class=\"XOR Network_input\" x=\"125.0\" y=\"185\" height=\"50\" width=\"100\" preserveAspectRatio=\"none\" href=\"data:image/gif;base64,R0lGODdhAgABAIcAAP/9/QAAAAAAAAAAAAAAAAAAAAAAAAAAAAAAAAAAAAAAAAAAAAAAAAAAAAAAAAAAAAAAAAAAAAAAAAAAAAAAAAAAAAAAAAAAAAAAAAAAAAAAAAAAAAAAAAAAAAAAAAAAAAAAAAAAAAAAAAAAAAAAAAAAAAAAAAAAAAAAAAAAAAAAAAAAAAAAAAAAAAAAAAAAAAAAAAAAAAAAAAAAAAAAAAAAAAAAAAAAAAAAAAAAAAAAAAAAAAAAAAAAAAAAAAAAAAAAAAAAAAAAAAAAAAAAAAAAAAAAAAAAAAAAAAAAAAAAAAAAAAAAAAAAAAAAAAAAAAAAAAAAAAAAAAAAAAAAAAAAAAAAAAAAAAAAAAAAAAAAAAAAAAAAAAAAAAAAAAAAAAAAAAAAAAAAAAAAAAAAAAAAAAAAAAAAAAAAAAAAAAAAAAAAAAAAAAAAAAAAAAAAAAAAAAAAAAAAAAAAAAAAAAAAAAAAAAAAAAAAAAAAAAAAAAAAAAAAAAAAAAAAAAAAAAAAAAAAAAAAAAAAAAAAAAAAAAAAAAAAAAAAAAAAAAAAAAAAAAAAAAAAAAAAAAAAAAAAAAAAAAAAAAAAAAAAAAAAAAAAAAAAAAAAAAAAAAAAAAAAAAAAAAAAAAAAAAAAAAAAAAAAAAAAAAAAAAAAAAAAAAAAAAAAAAAAAAAAAAAAAAAAAAAAAAAAAAAAAAAAAAAAAAAAAAAAAAAAAAAAAAAAAAAAAAAAAAAAAAAAAAAAAAAAAAAAAAAAAAAAAAAAAAAAAAAAAAAAAAAAAAAAAAAAAAAAAAAAAAAAAAAAAAAAAAAAAAAAAAAAAAAAAAAAAAAAAAAAAAAAAAAAAAAAAAAAAAAAAAAAAAAAAAAAAAAAAAAAAAAAAAAAAAAAAAAAAAAAAAAAAAAAAAAAAAAAAAAAAAAAAAAAAAAAAAAAAAAAAAAAAAAAAAAAAAAAAAAAAAAAAAAAAAAAAAAAAAAAAAAAAAAAAAAAAAAAAAAAAAAAAAAAAAAAAAAAAAAAAAAAACwAAAAAAgABAAAIBQABAAgIADs=\"><title>Layer: input (input)\n shape = (2,)\n Keras class = Input</title></image><text x=\"230.0\" y=\"212.0\" font-family=\"monospace\" font-size=\"12\" text-anchor=\"start\" alignment-baseline=\"central\">input</text></svg></p>"
      }
     },
     "4e4d12869fb5420f9013fc6d917223f7": {
      "model_module": "@jupyter-widgets/controls",
      "model_module_version": "1.0.0",
      "model_name": "IntTextModel",
      "state": {
       "description": "Vertical space between layers:",
       "layout": "IPY_MODEL_965fefa61e1a41e5b42803f3156aa187",
       "step": 1,
       "style": "IPY_MODEL_01434a2cc0a94a95b8ec8d4e672f8188",
       "value": 30
      }
     },
     "4e52d92220d44c3e9d6b951ef0c0e88c": {
      "model_module": "@jupyter-widgets/controls",
      "model_module_version": "1.0.0",
      "model_name": "FloatTextModel",
      "state": {
       "description": "Rightmost color maps to:",
       "layout": "IPY_MODEL_8acc6cc24399409e8b1a559963919b37",
       "step": null,
       "style": "IPY_MODEL_e2a547f1399247e6adff2f68bbe31023",
       "value": 1
      }
     },
     "4e7b6c78aacc49498efa4a5da73461fc": {
      "model_module": "@jupyter-widgets/controls",
      "model_module_version": "1.0.0",
      "model_name": "IntTextModel",
      "state": {
       "description": "Feature columns:",
       "layout": "IPY_MODEL_605e2758be6b4b1daac4803cf1cdac6f",
       "step": 1,
       "style": "IPY_MODEL_6fe2d914fa0e4e3abc229456a04bb969",
       "value": 3
      }
     },
     "4ea3e3261a9a40cf82c61d9fe01fb235": {
      "model_module": "@jupyter-widgets/controls",
      "model_module_version": "1.0.0",
      "model_name": "HTMLModel",
      "state": {
       "layout": "IPY_MODEL_ff70ab8defad4c7d8fed8b29c3ee0b26",
       "style": "IPY_MODEL_51813fb8f9744543a1c5cc62f300f991",
       "value": "<p style=\"text-align:center\"><svg id='XOR2 Network' xmlns='http://www.w3.org/2000/svg' viewBox=\"0 0 800 305\" max-width=\"100%\" height=\"1326.0\" image-rendering=\"pixelated\">\n    <defs>\n        <marker id=\"arrow\" markerWidth=\"10\" markerHeight=\"10\" refX=\"9\" refY=\"3\" orient=\"auto\" markerUnits=\"strokeWidth\">\n          <path d=\"M0,0 L0,6 L9,3 z\" fill=\"black\" />\n        </marker>\n    </defs><text x=\"400.0\" y=\"12.5\" font-family=\"monospace\" font-size=\"15\" text-anchor=\"middle\" alignment-baseline=\"central\">XOR2 Network</text><rect x=\"240.66666666666669\" y=\"24\" width=\"52\" height=\"52\" style=\"fill:none;stroke:black;stroke-width:2\"/><image id=\"XOR2 Network_output1_29\" class=\"XOR2 Network_output1\" x=\"241.66666666666669\" y=\"25\" height=\"50\" width=\"50\" preserveAspectRatio=\"none\" href=\"data:image/gif;base64,R0lGODdhAQABAIcAADU1/wAAAAAAAAAAAAAAAAAAAAAAAAAAAAAAAAAAAAAAAAAAAAAAAAAAAAAAAAAAAAAAAAAAAAAAAAAAAAAAAAAAAAAAAAAAAAAAAAAAAAAAAAAAAAAAAAAAAAAAAAAAAAAAAAAAAAAAAAAAAAAAAAAAAAAAAAAAAAAAAAAAAAAAAAAAAAAAAAAAAAAAAAAAAAAAAAAAAAAAAAAAAAAAAAAAAAAAAAAAAAAAAAAAAAAAAAAAAAAAAAAAAAAAAAAAAAAAAAAAAAAAAAAAAAAAAAAAAAAAAAAAAAAAAAAAAAAAAAAAAAAAAAAAAAAAAAAAAAAAAAAAAAAAAAAAAAAAAAAAAAAAAAAAAAAAAAAAAAAAAAAAAAAAAAAAAAAAAAAAAAAAAAAAAAAAAAAAAAAAAAAAAAAAAAAAAAAAAAAAAAAAAAAAAAAAAAAAAAAAAAAAAAAAAAAAAAAAAAAAAAAAAAAAAAAAAAAAAAAAAAAAAAAAAAAAAAAAAAAAAAAAAAAAAAAAAAAAAAAAAAAAAAAAAAAAAAAAAAAAAAAAAAAAAAAAAAAAAAAAAAAAAAAAAAAAAAAAAAAAAAAAAAAAAAAAAAAAAAAAAAAAAAAAAAAAAAAAAAAAAAAAAAAAAAAAAAAAAAAAAAAAAAAAAAAAAAAAAAAAAAAAAAAAAAAAAAAAAAAAAAAAAAAAAAAAAAAAAAAAAAAAAAAAAAAAAAAAAAAAAAAAAAAAAAAAAAAAAAAAAAAAAAAAAAAAAAAAAAAAAAAAAAAAAAAAAAAAAAAAAAAAAAAAAAAAAAAAAAAAAAAAAAAAAAAAAAAAAAAAAAAAAAAAAAAAAAAAAAAAAAAAAAAAAAAAAAAAAAAAAAAAAAAAAAAAAAAAAAAAAAAAAAAAAAAAAAAAAAAAAAAAAAAAAAAAAAAAAAAAAAAAAAAAAAAAAAAAAAAAAAAAAAAAAAAAAAAAAAAAAAAAAAAAAAAAAAAAAAAAAAAAAAAAAAAAAAAAAAAAAAAAAAAAAAAAAAAAAAAAACwAAAAAAQABAAAIBQABtAgIADs=\"><title>Layer: output1 (output)\n shape = (1,)\n Keras class = Dense\n activation = sigmoid</title></image><text x=\"296.6666666666667\" y=\"52.0\" font-family=\"monospace\" font-size=\"12\" text-anchor=\"start\" alignment-baseline=\"central\">output1</text><rect x=\"507.33333333333337\" y=\"24\" width=\"52\" height=\"52\" style=\"fill:none;stroke:black;stroke-width:2\"/><image id=\"XOR2 Network_output2_30\" class=\"XOR2 Network_output2\" x=\"508.33333333333337\" y=\"25\" height=\"50\" width=\"50\" preserveAspectRatio=\"none\" href=\"data:image/gif;base64,R0lGODdhAQABAIcAAAAAxwAAAAAAAAAAAAAAAAAAAAAAAAAAAAAAAAAAAAAAAAAAAAAAAAAAAAAAAAAAAAAAAAAAAAAAAAAAAAAAAAAAAAAAAAAAAAAAAAAAAAAAAAAAAAAAAAAAAAAAAAAAAAAAAAAAAAAAAAAAAAAAAAAAAAAAAAAAAAAAAAAAAAAAAAAAAAAAAAAAAAAAAAAAAAAAAAAAAAAAAAAAAAAAAAAAAAAAAAAAAAAAAAAAAAAAAAAAAAAAAAAAAAAAAAAAAAAAAAAAAAAAAAAAAAAAAAAAAAAAAAAAAAAAAAAAAAAAAAAAAAAAAAAAAAAAAAAAAAAAAAAAAAAAAAAAAAAAAAAAAAAAAAAAAAAAAAAAAAAAAAAAAAAAAAAAAAAAAAAAAAAAAAAAAAAAAAAAAAAAAAAAAAAAAAAAAAAAAAAAAAAAAAAAAAAAAAAAAAAAAAAAAAAAAAAAAAAAAAAAAAAAAAAAAAAAAAAAAAAAAAAAAAAAAAAAAAAAAAAAAAAAAAAAAAAAAAAAAAAAAAAAAAAAAAAAAAAAAAAAAAAAAAAAAAAAAAAAAAAAAAAAAAAAAAAAAAAAAAAAAAAAAAAAAAAAAAAAAAAAAAAAAAAAAAAAAAAAAAAAAAAAAAAAAAAAAAAAAAAAAAAAAAAAAAAAAAAAAAAAAAAAAAAAAAAAAAAAAAAAAAAAAAAAAAAAAAAAAAAAAAAAAAAAAAAAAAAAAAAAAAAAAAAAAAAAAAAAAAAAAAAAAAAAAAAAAAAAAAAAAAAAAAAAAAAAAAAAAAAAAAAAAAAAAAAAAAAAAAAAAAAAAAAAAAAAAAAAAAAAAAAAAAAAAAAAAAAAAAAAAAAAAAAAAAAAAAAAAAAAAAAAAAAAAAAAAAAAAAAAAAAAAAAAAAAAAAAAAAAAAAAAAAAAAAAAAAAAAAAAAAAAAAAAAAAAAAAAAAAAAAAAAAAAAAAAAAAAAAAAAAAAAAAAAAAAAAAAAAAAAAAAAAAAAAAAAAAAAAAAAAAAAAAAAAAAAAAAAAAAACwAAAAAAQABAAAIBQABtAgIADs=\"><title>Layer: output2 (output)\n shape = (1,)\n Keras class = Dense\n activation = sigmoid</title></image><text x=\"563.3333333333334\" y=\"52.0\" font-family=\"monospace\" font-size=\"12\" text-anchor=\"start\" alignment-baseline=\"central\">output2</text><line x1=\"400.0\" y1=\"104\" x2=\"266.6666666666667\" y2=\"77\" stroke=\"black\" stroke-width=\"2\" marker-end=\"url(#arrow)\"><title>Weights from shared-hidden to output1\n output1/kernel has shape (5, 1)\n output1/bias has shape (1,)</title></line><line x1=\"400.0\" y1=\"104\" x2=\"533.3333333333334\" y2=\"77\" stroke=\"black\" stroke-width=\"2\" marker-end=\"url(#arrow)\"><title>Weights from shared-hidden to output2\n output2/kernel has shape (5, 1)\n output2/bias has shape (1,)</title></line><rect x=\"299.0\" y=\"104\" width=\"202\" height=\"42\" style=\"fill:none;stroke:black;stroke-width:2\"/><image id=\"XOR2 Network_shared-hidden_31\" class=\"XOR2 Network_shared-hidden\" x=\"300.0\" y=\"105\" height=\"40\" width=\"200\" preserveAspectRatio=\"none\" href=\"data:image/gif;base64,R0lGODdhBQABAIcAAAAA5AAAmhUV/2Vl/wAAAAAAAAAAAAAAAAAAAAAAAAAAAAAAAAAAAAAAAAAAAAAAAAAAAAAAAAAAAAAAAAAAAAAAAAAAAAAAAAAAAAAAAAAAAAAAAAAAAAAAAAAAAAAAAAAAAAAAAAAAAAAAAAAAAAAAAAAAAAAAAAAAAAAAAAAAAAAAAAAAAAAAAAAAAAAAAAAAAAAAAAAAAAAAAAAAAAAAAAAAAAAAAAAAAAAAAAAAAAAAAAAAAAAAAAAAAAAAAAAAAAAAAAAAAAAAAAAAAAAAAAAAAAAAAAAAAAAAAAAAAAAAAAAAAAAAAAAAAAAAAAAAAAAAAAAAAAAAAAAAAAAAAAAAAAAAAAAAAAAAAAAAAAAAAAAAAAAAAAAAAAAAAAAAAAAAAAAAAAAAAAAAAAAAAAAAAAAAAAAAAAAAAAAAAAAAAAAAAAAAAAAAAAAAAAAAAAAAAAAAAAAAAAAAAAAAAAAAAAAAAAAAAAAAAAAAAAAAAAAAAAAAAAAAAAAAAAAAAAAAAAAAAAAAAAAAAAAAAAAAAAAAAAAAAAAAAAAAAAAAAAAAAAAAAAAAAAAAAAAAAAAAAAAAAAAAAAAAAAAAAAAAAAAAAAAAAAAAAAAAAAAAAAAAAAAAAAAAAAAAAAAAAAAAAAAAAAAAAAAAAAAAAAAAAAAAAAAAAAAAAAAAAAAAAAAAAAAAAAAAAAAAAAAAAAAAAAAAAAAAAAAAAAAAAAAAAAAAAAAAAAAAAAAAAAAAAAAAAAAAAAAAAAAAAAAAAAAAAAAAAAAAAAAAAAAAAAAAAAAAAAAAAAAAAAAAAAAAAAAAAAAAAAAAAAAAAAAAAAAAAAAAAAAAAAAAAAAAAAAAAAAAAAAAAAAAAAAAAAAAAAAAAAAAAAAAAAAAAAAAAAAAAAAAAAAAAAAAAAAAAAAAAAAAAAAAAAAAAAAAAAAAAAAAAAAAAAAAAAAAAAAAAAAAAAAAAAAAAAAAAAAAAAAAAAAAAAAAAAAAAAAAAAAAAAAAAAAAAAAAAAAAACwAAAAABQABAAAICAADAAAwQEBAADs=\"><title>Layer: shared-hidden (hidden)\n shape = (5,)\n Keras class = Dense\n activation = sigmoid</title></image><text x=\"505.0\" y=\"127.0\" font-family=\"monospace\" font-size=\"12\" text-anchor=\"start\" alignment-baseline=\"central\">shared-hidden</text><line x1=\"266.6666666666667\" y1=\"174\" x2=\"400.0\" y2=\"147\" stroke=\"black\" stroke-width=\"2\" marker-end=\"url(#arrow)\"><title>Weights from hidden1 to shared-hidden\n shared-hidden/kernel has shape (20, 5)\n shared-hidden/bias has shape (5,)</title></line><rect x=\"165.66666666666669\" y=\"174\" width=\"202\" height=\"27\" style=\"fill:none;stroke:black;stroke-width:2\"/><image id=\"XOR2 Network_hidden1_32\" class=\"XOR2 Network_hidden1\" x=\"166.66666666666669\" y=\"175\" height=\"25\" width=\"200\" preserveAspectRatio=\"none\" href=\"data:image/gif;base64,R0lGODdhCgABAIcAAAAA/wAAAAAAAAAAAAAAAAAAAAAAAAAAAAAAAAAAAAAAAAAAAAAAAAAAAAAAAAAAAAAAAAAAAAAAAAAAAAAAAAAAAAAAAAAAAAAAAAAAAAAAAAAAAAAAAAAAAAAAAAAAAAAAAAAAAAAAAAAAAAAAAAAAAAAAAAAAAAAAAAAAAAAAAAAAAAAAAAAAAAAAAAAAAAAAAAAAAAAAAAAAAAAAAAAAAAAAAAAAAAAAAAAAAAAAAAAAAAAAAAAAAAAAAAAAAAAAAAAAAAAAAAAAAAAAAAAAAAAAAAAAAAAAAAAAAAAAAAAAAAAAAAAAAAAAAAAAAAAAAAAAAAAAAAAAAAAAAAAAAAAAAAAAAAAAAAAAAAAAAAAAAAAAAAAAAAAAAAAAAAAAAAAAAAAAAAAAAAAAAAAAAAAAAAAAAAAAAAAAAAAAAAAAAAAAAAAAAAAAAAAAAAAAAAAAAAAAAAAAAAAAAAAAAAAAAAAAAAAAAAAAAAAAAAAAAAAAAAAAAAAAAAAAAAAAAAAAAAAAAAAAAAAAAAAAAAAAAAAAAAAAAAAAAAAAAAAAAAAAAAAAAAAAAAAAAAAAAAAAAAAAAAAAAAAAAAAAAAAAAAAAAAAAAAAAAAAAAAAAAAAAAAAAAAAAAAAAAAAAAAAAAAAAAAAAAAAAAAAAAAAAAAAAAAAAAAAAAAAAAAAAAAAAAAAAAAAAAAAAAAAAAAAAAAAAAAAAAAAAAAAAAAAAAAAAAAAAAAAAAAAAAAAAAAAAAAAAAAAAAAAAAAAAAAAAAAAAAAAAAAAAAAAAAAAAAAAAAAAAAAAAAAAAAAAAAAAAAAAAAAAAAAAAAAAAAAAAAAAAAAAAAAAAAAAAAAAAAAAAAAAAAAAAAAAAAAAAAAAAAAAAAAAAAAAAAAAAAAAAAAAAAAAAAAAAAAAAAAAAAAAAAAAAAAAAAAAAAAAAAAAAAAAAAAAAAAAAAAAAAAAAAAAAAAAAAAAAAAAAAAAAAAAAAAAAAAAAAAAAAAAAAAAAAAAAAAAAAAAAACwAAAAACgABAAAIBwABCBxIMCAAOw==\"><title>Layer: hidden1 (hidden)\n shape = (10,)\n Keras class = Dense\n activation = sigmoid</title></image><text x=\"371.6666666666667\" y=\"189.5\" font-family=\"monospace\" font-size=\"12\" text-anchor=\"start\" alignment-baseline=\"central\">hidden1</text><line x1=\"533.3333333333334\" y1=\"174\" x2=\"400.0\" y2=\"147\" stroke=\"black\" stroke-width=\"2\" marker-end=\"url(#arrow)\"><title>Weights from hidden2 to shared-hidden\n shared-hidden/kernel has shape (20, 5)\n shared-hidden/bias has shape (5,)</title></line><rect x=\"432.33333333333337\" y=\"174\" width=\"202\" height=\"27\" style=\"fill:none;stroke:black;stroke-width:2\"/><image id=\"XOR2 Network_hidden2_33\" class=\"XOR2 Network_hidden2\" x=\"433.33333333333337\" y=\"175\" height=\"25\" width=\"200\" preserveAspectRatio=\"none\" href=\"data:image/gif;base64,R0lGODdhCgABAIcAAAAA/wAAAAAAAAAAAAAAAAAAAAAAAAAAAAAAAAAAAAAAAAAAAAAAAAAAAAAAAAAAAAAAAAAAAAAAAAAAAAAAAAAAAAAAAAAAAAAAAAAAAAAAAAAAAAAAAAAAAAAAAAAAAAAAAAAAAAAAAAAAAAAAAAAAAAAAAAAAAAAAAAAAAAAAAAAAAAAAAAAAAAAAAAAAAAAAAAAAAAAAAAAAAAAAAAAAAAAAAAAAAAAAAAAAAAAAAAAAAAAAAAAAAAAAAAAAAAAAAAAAAAAAAAAAAAAAAAAAAAAAAAAAAAAAAAAAAAAAAAAAAAAAAAAAAAAAAAAAAAAAAAAAAAAAAAAAAAAAAAAAAAAAAAAAAAAAAAAAAAAAAAAAAAAAAAAAAAAAAAAAAAAAAAAAAAAAAAAAAAAAAAAAAAAAAAAAAAAAAAAAAAAAAAAAAAAAAAAAAAAAAAAAAAAAAAAAAAAAAAAAAAAAAAAAAAAAAAAAAAAAAAAAAAAAAAAAAAAAAAAAAAAAAAAAAAAAAAAAAAAAAAAAAAAAAAAAAAAAAAAAAAAAAAAAAAAAAAAAAAAAAAAAAAAAAAAAAAAAAAAAAAAAAAAAAAAAAAAAAAAAAAAAAAAAAAAAAAAAAAAAAAAAAAAAAAAAAAAAAAAAAAAAAAAAAAAAAAAAAAAAAAAAAAAAAAAAAAAAAAAAAAAAAAAAAAAAAAAAAAAAAAAAAAAAAAAAAAAAAAAAAAAAAAAAAAAAAAAAAAAAAAAAAAAAAAAAAAAAAAAAAAAAAAAAAAAAAAAAAAAAAAAAAAAAAAAAAAAAAAAAAAAAAAAAAAAAAAAAAAAAAAAAAAAAAAAAAAAAAAAAAAAAAAAAAAAAAAAAAAAAAAAAAAAAAAAAAAAAAAAAAAAAAAAAAAAAAAAAAAAAAAAAAAAAAAAAAAAAAAAAAAAAAAAAAAAAAAAAAAAAAAAAAAAAAAAAAAAAAAAAAAAAAAAAAAAAAAAAAAAAAAAAAAAAAAAAAAAAAAAAAAAAAAAAAAAAAAAAAAAAACwAAAAACgABAAAIBwABCBxIMCAAOw==\"><title>Layer: hidden2 (hidden)\n shape = (10,)\n Keras class = Dense\n activation = sigmoid</title></image><text x=\"638.3333333333334\" y=\"189.5\" font-family=\"monospace\" font-size=\"12\" text-anchor=\"start\" alignment-baseline=\"central\">hidden2</text><line x1=\"266.6666666666667\" y1=\"229\" x2=\"266.6666666666667\" y2=\"202\" stroke=\"black\" stroke-width=\"2\" marker-end=\"url(#arrow)\"><title>Weights from input1 to hidden1\n hidden1/kernel has shape (1, 10)\n hidden1/bias has shape (10,)</title></line><rect x=\"240.66666666666669\" y=\"229\" width=\"52\" height=\"52\" style=\"fill:none;stroke:black;stroke-width:2\"/><image id=\"XOR2 Network_input1_34\" class=\"XOR2 Network_input1\" x=\"241.66666666666669\" y=\"230\" height=\"50\" width=\"50\" preserveAspectRatio=\"none\" href=\"data:image/gif;base64,R0lGODdhAQABAIcAAP/9/QAAAAAAAAAAAAAAAAAAAAAAAAAAAAAAAAAAAAAAAAAAAAAAAAAAAAAAAAAAAAAAAAAAAAAAAAAAAAAAAAAAAAAAAAAAAAAAAAAAAAAAAAAAAAAAAAAAAAAAAAAAAAAAAAAAAAAAAAAAAAAAAAAAAAAAAAAAAAAAAAAAAAAAAAAAAAAAAAAAAAAAAAAAAAAAAAAAAAAAAAAAAAAAAAAAAAAAAAAAAAAAAAAAAAAAAAAAAAAAAAAAAAAAAAAAAAAAAAAAAAAAAAAAAAAAAAAAAAAAAAAAAAAAAAAAAAAAAAAAAAAAAAAAAAAAAAAAAAAAAAAAAAAAAAAAAAAAAAAAAAAAAAAAAAAAAAAAAAAAAAAAAAAAAAAAAAAAAAAAAAAAAAAAAAAAAAAAAAAAAAAAAAAAAAAAAAAAAAAAAAAAAAAAAAAAAAAAAAAAAAAAAAAAAAAAAAAAAAAAAAAAAAAAAAAAAAAAAAAAAAAAAAAAAAAAAAAAAAAAAAAAAAAAAAAAAAAAAAAAAAAAAAAAAAAAAAAAAAAAAAAAAAAAAAAAAAAAAAAAAAAAAAAAAAAAAAAAAAAAAAAAAAAAAAAAAAAAAAAAAAAAAAAAAAAAAAAAAAAAAAAAAAAAAAAAAAAAAAAAAAAAAAAAAAAAAAAAAAAAAAAAAAAAAAAAAAAAAAAAAAAAAAAAAAAAAAAAAAAAAAAAAAAAAAAAAAAAAAAAAAAAAAAAAAAAAAAAAAAAAAAAAAAAAAAAAAAAAAAAAAAAAAAAAAAAAAAAAAAAAAAAAAAAAAAAAAAAAAAAAAAAAAAAAAAAAAAAAAAAAAAAAAAAAAAAAAAAAAAAAAAAAAAAAAAAAAAAAAAAAAAAAAAAAAAAAAAAAAAAAAAAAAAAAAAAAAAAAAAAAAAAAAAAAAAAAAAAAAAAAAAAAAAAAAAAAAAAAAAAAAAAAAAAAAAAAAAAAAAAAAAAAAAAAAAAAAAAAAAAAAAAAAAAAAAAAAAAAAAAAAAAAAAAAAAAAAAAAAAAACwAAAAAAQABAAAIBQABtAgIADs=\"><title>Layer: input1 (input)\n shape = (1,)\n Keras class = Input</title></image><text x=\"296.6666666666667\" y=\"257.0\" font-family=\"monospace\" font-size=\"12\" text-anchor=\"start\" alignment-baseline=\"central\">input1</text><line x1=\"533.3333333333334\" y1=\"229\" x2=\"533.3333333333334\" y2=\"202\" stroke=\"black\" stroke-width=\"2\" marker-end=\"url(#arrow)\"><title>Weights from input2 to hidden2\n hidden2/kernel has shape (1, 10)\n hidden2/bias has shape (10,)</title></line><rect x=\"507.33333333333337\" y=\"229\" width=\"52\" height=\"52\" style=\"fill:none;stroke:black;stroke-width:2\"/><image id=\"XOR2 Network_input2_35\" class=\"XOR2 Network_input2\" x=\"508.33333333333337\" y=\"230\" height=\"50\" width=\"50\" preserveAspectRatio=\"none\" href=\"data:image/gif;base64,R0lGODdhAQABAIcAAP/9/QAAAAAAAAAAAAAAAAAAAAAAAAAAAAAAAAAAAAAAAAAAAAAAAAAAAAAAAAAAAAAAAAAAAAAAAAAAAAAAAAAAAAAAAAAAAAAAAAAAAAAAAAAAAAAAAAAAAAAAAAAAAAAAAAAAAAAAAAAAAAAAAAAAAAAAAAAAAAAAAAAAAAAAAAAAAAAAAAAAAAAAAAAAAAAAAAAAAAAAAAAAAAAAAAAAAAAAAAAAAAAAAAAAAAAAAAAAAAAAAAAAAAAAAAAAAAAAAAAAAAAAAAAAAAAAAAAAAAAAAAAAAAAAAAAAAAAAAAAAAAAAAAAAAAAAAAAAAAAAAAAAAAAAAAAAAAAAAAAAAAAAAAAAAAAAAAAAAAAAAAAAAAAAAAAAAAAAAAAAAAAAAAAAAAAAAAAAAAAAAAAAAAAAAAAAAAAAAAAAAAAAAAAAAAAAAAAAAAAAAAAAAAAAAAAAAAAAAAAAAAAAAAAAAAAAAAAAAAAAAAAAAAAAAAAAAAAAAAAAAAAAAAAAAAAAAAAAAAAAAAAAAAAAAAAAAAAAAAAAAAAAAAAAAAAAAAAAAAAAAAAAAAAAAAAAAAAAAAAAAAAAAAAAAAAAAAAAAAAAAAAAAAAAAAAAAAAAAAAAAAAAAAAAAAAAAAAAAAAAAAAAAAAAAAAAAAAAAAAAAAAAAAAAAAAAAAAAAAAAAAAAAAAAAAAAAAAAAAAAAAAAAAAAAAAAAAAAAAAAAAAAAAAAAAAAAAAAAAAAAAAAAAAAAAAAAAAAAAAAAAAAAAAAAAAAAAAAAAAAAAAAAAAAAAAAAAAAAAAAAAAAAAAAAAAAAAAAAAAAAAAAAAAAAAAAAAAAAAAAAAAAAAAAAAAAAAAAAAAAAAAAAAAAAAAAAAAAAAAAAAAAAAAAAAAAAAAAAAAAAAAAAAAAAAAAAAAAAAAAAAAAAAAAAAAAAAAAAAAAAAAAAAAAAAAAAAAAAAAAAAAAAAAAAAAAAAAAAAAAAAAAAAAAAAAAAAAAAAAAAAAAAAAAAAAAAAAAAAAAACwAAAAAAQABAAAIBQABtAgIADs=\"><title>Layer: input2 (input)\n shape = (1,)\n Keras class = Input</title></image><text x=\"563.3333333333334\" y=\"257.0\" font-family=\"monospace\" font-size=\"12\" text-anchor=\"start\" alignment-baseline=\"central\">input2</text></svg></p>"
      }
     },
     "4eda9b2b4a8f4a8cbf997e5a25e1f14f": {
      "model_module": "@jupyter-widgets/base",
      "model_module_version": "1.0.0",
      "model_name": "LayoutModel",
      "state": {}
     },
     "4f5d6af2e0c5486db7e556fbcc828565": {
      "model_module": "@jupyter-widgets/controls",
      "model_module_version": "1.0.0",
      "model_name": "FloatSliderModel",
      "state": {
       "continuous_update": false,
       "description": "Zoom",
       "layout": "IPY_MODEL_61cbfd9d207d47c8857f2dee26dd805a",
       "max": 3,
       "min": 0.5,
       "step": 0.1,
       "style": "IPY_MODEL_82c2070a548c4021a18fe3b8121239f0",
       "value": 1.7
      }
     },
     "4fa534713b3c471c9b2361d0ad47bf7a": {
      "model_module": "@jupyter-widgets/controls",
      "model_module_version": "1.0.0",
      "model_name": "ButtonModel",
      "state": {
       "description": "Play",
       "icon": "play",
       "layout": "IPY_MODEL_1e0e809e5d36476cbb36cf6ba0467af0",
       "style": "IPY_MODEL_780df59895e346ac8f6ca65a6ae06165"
      }
     },
     "4fd13936dd4d42ecba64e41db87d976d": {
      "model_module": "@jupyter-widgets/controls",
      "model_module_version": "1.0.0",
      "model_name": "CheckboxModel",
      "state": {
       "description": "Errors",
       "disabled": false,
       "layout": "IPY_MODEL_0733ab47b5cd42a78da6c77993e20fa5",
       "style": "IPY_MODEL_afde91265d4b45899b2995ce43b78c78",
       "value": false
      }
     },
     "51813fb8f9744543a1c5cc62f300f991": {
      "model_module": "@jupyter-widgets/controls",
      "model_module_version": "1.0.0",
      "model_name": "DescriptionStyleModel",
      "state": {
       "description_width": ""
      }
     },
     "519d596ad28c4f2f84b8db0187b57a18": {
      "model_module": "@jupyter-widgets/controls",
      "model_module_version": "1.0.0",
      "model_name": "DescriptionStyleModel",
      "state": {
       "description_width": ""
      }
     },
     "51b2de912e924daaa161a17f51314e4c": {
      "model_module": "@jupyter-widgets/controls",
      "model_module_version": "1.0.0",
      "model_name": "ButtonModel",
      "state": {
       "description": "Play",
       "icon": "play",
       "layout": "IPY_MODEL_fcb9680e63c24f65b7ab84c67c852f13",
       "style": "IPY_MODEL_9d8f45eecd9c4f0d9b75e64d717e3a92"
      }
     },
     "5202805f34af40f99bddaa1051d882d4": {
      "model_module": "@jupyter-widgets/base",
      "model_module_version": "1.0.0",
      "model_name": "LayoutModel",
      "state": {
       "width": "100%"
      }
     },
     "523f6d4d8d064a909dac2edb1783e645": {
      "model_module": "@jupyter-widgets/controls",
      "model_module_version": "1.0.0",
      "model_name": "HTMLModel",
      "state": {
       "layout": "IPY_MODEL_929497d068b24bcfbf481e68989572be",
       "style": "IPY_MODEL_e3de752bdf504bc6a5b6b4c4efe5b123",
       "value": "<p style=\"text-align:center\"><svg id='XOR Network' xmlns='http://www.w3.org/2000/svg' viewBox=\"0 0 350 260\" width=\"100%\" height=\"1248.0\" image-rendering=\"pixelated\">\n    <defs>\n        <marker id=\"arrow\" markerWidth=\"10\" markerHeight=\"10\" refX=\"9\" refY=\"3\" orient=\"auto\" markerUnits=\"strokeWidth\">\n          <path d=\"M0,0 L0,6 L9,3 z\" fill=\"black\" />\n        </marker>\n    </defs><text x=\"175.0\" y=\"12.5\" font-family=\"monospace\" font-size=\"15\" text-anchor=\"middle\" alignment-baseline=\"central\">XOR Network</text><rect x=\"149.0\" y=\"24\" width=\"52\" height=\"52\" style=\"fill:none;stroke:black;stroke-width:2\"/><image id=\"XOR Network_output_13\" class=\"XOR Network_output\" x=\"150.0\" y=\"25\" height=\"50\" width=\"50\" preserveAspectRatio=\"none\" href=\"data:image/gif;base64,R0lGODdhAQABAIcAAP/9/QAAAAAAAAAAAAAAAAAAAAAAAAAAAAAAAAAAAAAAAAAAAAAAAAAAAAAAAAAAAAAAAAAAAAAAAAAAAAAAAAAAAAAAAAAAAAAAAAAAAAAAAAAAAAAAAAAAAAAAAAAAAAAAAAAAAAAAAAAAAAAAAAAAAAAAAAAAAAAAAAAAAAAAAAAAAAAAAAAAAAAAAAAAAAAAAAAAAAAAAAAAAAAAAAAAAAAAAAAAAAAAAAAAAAAAAAAAAAAAAAAAAAAAAAAAAAAAAAAAAAAAAAAAAAAAAAAAAAAAAAAAAAAAAAAAAAAAAAAAAAAAAAAAAAAAAAAAAAAAAAAAAAAAAAAAAAAAAAAAAAAAAAAAAAAAAAAAAAAAAAAAAAAAAAAAAAAAAAAAAAAAAAAAAAAAAAAAAAAAAAAAAAAAAAAAAAAAAAAAAAAAAAAAAAAAAAAAAAAAAAAAAAAAAAAAAAAAAAAAAAAAAAAAAAAAAAAAAAAAAAAAAAAAAAAAAAAAAAAAAAAAAAAAAAAAAAAAAAAAAAAAAAAAAAAAAAAAAAAAAAAAAAAAAAAAAAAAAAAAAAAAAAAAAAAAAAAAAAAAAAAAAAAAAAAAAAAAAAAAAAAAAAAAAAAAAAAAAAAAAAAAAAAAAAAAAAAAAAAAAAAAAAAAAAAAAAAAAAAAAAAAAAAAAAAAAAAAAAAAAAAAAAAAAAAAAAAAAAAAAAAAAAAAAAAAAAAAAAAAAAAAAAAAAAAAAAAAAAAAAAAAAAAAAAAAAAAAAAAAAAAAAAAAAAAAAAAAAAAAAAAAAAAAAAAAAAAAAAAAAAAAAAAAAAAAAAAAAAAAAAAAAAAAAAAAAAAAAAAAAAAAAAAAAAAAAAAAAAAAAAAAAAAAAAAAAAAAAAAAAAAAAAAAAAAAAAAAAAAAAAAAAAAAAAAAAAAAAAAAAAAAAAAAAAAAAAAAAAAAAAAAAAAAAAAAAAAAAAAAAAAAAAAAAAAAAAAAAAAAAAAAAAAAAAAAAAAAAAAAAAAAAAAAAAAAAAAAAAAAACwAAAAAAQABAAAIBQABjAgIADs=\"><title>Layer: output (output)\n shape = (1,)\n Keras class = Dense\n activation = sigmoid</title></image><text x=\"205.0\" y=\"52.0\" font-family=\"monospace\" font-size=\"12\" text-anchor=\"start\" alignment-baseline=\"central\">output</text><line x1=\"175.0\" y1=\"104\" x2=\"175.0\" y2=\"77\" stroke=\"black\" stroke-width=\"2\" marker-end=\"url(#arrow)\"><title>Weights from hidden to output\n output/kernel has shape (4, 1)\n output/bias has shape (1,)</title></line><rect x=\"74.0\" y=\"104\" width=\"202\" height=\"52\" style=\"fill:none;stroke:black;stroke-width:2\"/><image id=\"XOR Network_hidden_14\" class=\"XOR Network_hidden\" x=\"75.0\" y=\"105\" height=\"50\" width=\"200\" preserveAspectRatio=\"none\" href=\"data:image/gif;base64,R0lGODdhBAABAIcAAAAA/wAAAAAAAAAAAAAAAAAAAAAAAAAAAAAAAAAAAAAAAAAAAAAAAAAAAAAAAAAAAAAAAAAAAAAAAAAAAAAAAAAAAAAAAAAAAAAAAAAAAAAAAAAAAAAAAAAAAAAAAAAAAAAAAAAAAAAAAAAAAAAAAAAAAAAAAAAAAAAAAAAAAAAAAAAAAAAAAAAAAAAAAAAAAAAAAAAAAAAAAAAAAAAAAAAAAAAAAAAAAAAAAAAAAAAAAAAAAAAAAAAAAAAAAAAAAAAAAAAAAAAAAAAAAAAAAAAAAAAAAAAAAAAAAAAAAAAAAAAAAAAAAAAAAAAAAAAAAAAAAAAAAAAAAAAAAAAAAAAAAAAAAAAAAAAAAAAAAAAAAAAAAAAAAAAAAAAAAAAAAAAAAAAAAAAAAAAAAAAAAAAAAAAAAAAAAAAAAAAAAAAAAAAAAAAAAAAAAAAAAAAAAAAAAAAAAAAAAAAAAAAAAAAAAAAAAAAAAAAAAAAAAAAAAAAAAAAAAAAAAAAAAAAAAAAAAAAAAAAAAAAAAAAAAAAAAAAAAAAAAAAAAAAAAAAAAAAAAAAAAAAAAAAAAAAAAAAAAAAAAAAAAAAAAAAAAAAAAAAAAAAAAAAAAAAAAAAAAAAAAAAAAAAAAAAAAAAAAAAAAAAAAAAAAAAAAAAAAAAAAAAAAAAAAAAAAAAAAAAAAAAAAAAAAAAAAAAAAAAAAAAAAAAAAAAAAAAAAAAAAAAAAAAAAAAAAAAAAAAAAAAAAAAAAAAAAAAAAAAAAAAAAAAAAAAAAAAAAAAAAAAAAAAAAAAAAAAAAAAAAAAAAAAAAAAAAAAAAAAAAAAAAAAAAAAAAAAAAAAAAAAAAAAAAAAAAAAAAAAAAAAAAAAAAAAAAAAAAAAAAAAAAAAAAAAAAAAAAAAAAAAAAAAAAAAAAAAAAAAAAAAAAAAAAAAAAAAAAAAAAAAAAAAAAAAAAAAAAAAAAAAAAAAAAAAAAAAAAAAAAAAAAAAAAAAAAAAAAAAAAAAAAAAAAAAAAAAAAAAAACwAAAAABAABAAAIBgABCAQQEAA7\"><title>Layer: hidden (hidden)\n shape = (4,)\n Keras class = Dense\n activation = sigmoid</title></image><text x=\"280.0\" y=\"132.0\" font-family=\"monospace\" font-size=\"12\" text-anchor=\"start\" alignment-baseline=\"central\">hidden</text><line x1=\"175.0\" y1=\"184\" x2=\"175.0\" y2=\"157\" stroke=\"black\" stroke-width=\"2\" marker-end=\"url(#arrow)\"><title>Weights from input to hidden\n hidden/kernel has shape (2, 4)\n hidden/bias has shape (4,)</title></line><rect x=\"124.0\" y=\"184\" width=\"102\" height=\"52\" style=\"fill:none;stroke:black;stroke-width:2\"/><image id=\"XOR Network_input_15\" class=\"XOR Network_input\" x=\"125.0\" y=\"185\" height=\"50\" width=\"100\" preserveAspectRatio=\"none\" href=\"data:image/gif;base64,R0lGODdhAgABAIcAAP/9/QAAAAAAAAAAAAAAAAAAAAAAAAAAAAAAAAAAAAAAAAAAAAAAAAAAAAAAAAAAAAAAAAAAAAAAAAAAAAAAAAAAAAAAAAAAAAAAAAAAAAAAAAAAAAAAAAAAAAAAAAAAAAAAAAAAAAAAAAAAAAAAAAAAAAAAAAAAAAAAAAAAAAAAAAAAAAAAAAAAAAAAAAAAAAAAAAAAAAAAAAAAAAAAAAAAAAAAAAAAAAAAAAAAAAAAAAAAAAAAAAAAAAAAAAAAAAAAAAAAAAAAAAAAAAAAAAAAAAAAAAAAAAAAAAAAAAAAAAAAAAAAAAAAAAAAAAAAAAAAAAAAAAAAAAAAAAAAAAAAAAAAAAAAAAAAAAAAAAAAAAAAAAAAAAAAAAAAAAAAAAAAAAAAAAAAAAAAAAAAAAAAAAAAAAAAAAAAAAAAAAAAAAAAAAAAAAAAAAAAAAAAAAAAAAAAAAAAAAAAAAAAAAAAAAAAAAAAAAAAAAAAAAAAAAAAAAAAAAAAAAAAAAAAAAAAAAAAAAAAAAAAAAAAAAAAAAAAAAAAAAAAAAAAAAAAAAAAAAAAAAAAAAAAAAAAAAAAAAAAAAAAAAAAAAAAAAAAAAAAAAAAAAAAAAAAAAAAAAAAAAAAAAAAAAAAAAAAAAAAAAAAAAAAAAAAAAAAAAAAAAAAAAAAAAAAAAAAAAAAAAAAAAAAAAAAAAAAAAAAAAAAAAAAAAAAAAAAAAAAAAAAAAAAAAAAAAAAAAAAAAAAAAAAAAAAAAAAAAAAAAAAAAAAAAAAAAAAAAAAAAAAAAAAAAAAAAAAAAAAAAAAAAAAAAAAAAAAAAAAAAAAAAAAAAAAAAAAAAAAAAAAAAAAAAAAAAAAAAAAAAAAAAAAAAAAAAAAAAAAAAAAAAAAAAAAAAAAAAAAAAAAAAAAAAAAAAAAAAAAAAAAAAAAAAAAAAAAAAAAAAAAAAAAAAAAAAAAAAAAAAAAAAAAAAAAAAAAAAAAAAAAAAAAAAAAAAAAAAAAAAAAAAAAAAAAAAAAAAAAACwAAAAAAgABAAAIBQABAAgIADs=\"><title>Layer: input (input)\n shape = (2,)\n Keras class = Input</title></image><text x=\"230.0\" y=\"212.0\" font-family=\"monospace\" font-size=\"12\" text-anchor=\"start\" alignment-baseline=\"central\">input</text></svg></p>"
      }
     },
     "52afd78dd9aa413ba5a4abc86df9e279": {
      "model_module": "@jupyter-widgets/controls",
      "model_module_version": "1.0.0",
      "model_name": "DescriptionStyleModel",
      "state": {
       "description_width": ""
      }
     },
     "52cc78e7acee408aa983a20ae78f0b09": {
      "model_module": "@jupyter-widgets/base",
      "model_module_version": "1.0.0",
      "model_name": "LayoutModel",
      "state": {
       "width": "100%"
      }
     },
     "53361c7f6a254e4797df196ed11e5efe": {
      "model_module": "@jupyter-widgets/controls",
      "model_module_version": "1.0.0",
      "model_name": "HBoxModel",
      "state": {
       "children": [
        "IPY_MODEL_adf250a542f94f87a2c885c52b0baac2",
        "IPY_MODEL_1950ec4efde745e99201c61b79a9a326"
       ],
       "layout": "IPY_MODEL_8d7c22e1b06b448f8a747e14620a09fc"
      }
     },
     "53412851bf4e4219a66350d3d5b396e9": {
      "model_module": "@jupyter-widgets/controls",
      "model_module_version": "1.0.0",
      "model_name": "DescriptionStyleModel",
      "state": {
       "description_width": "initial"
      }
     },
     "54a9a44c78f34ec396ac178cca436d0f": {
      "model_module": "@jupyter-widgets/output",
      "model_module_version": "1.0.0",
      "model_name": "OutputModel",
      "state": {
       "layout": "IPY_MODEL_73fdabfc99e4475ca3e9abef01316a0c"
      }
     },
     "54efbd143d1547c4b7ce294862673646": {
      "model_module": "@jupyter-widgets/controls",
      "model_module_version": "1.0.0",
      "model_name": "DescriptionStyleModel",
      "state": {
       "description_width": ""
      }
     },
     "551c1378249d4100833a89bab5ce7a65": {
      "model_module": "@jupyter-widgets/controls",
      "model_module_version": "1.0.0",
      "model_name": "VBoxModel",
      "state": {
       "children": [
        "IPY_MODEL_334b76df3a344d40bc1c85530073bac9",
        "IPY_MODEL_5562fdff469344f7a83421405c4f018b"
       ],
       "layout": "IPY_MODEL_1373775d503044479af6c24332b3f1ee"
      }
     },
     "5523bad8c3e64fff9c49dad0e59ba018": {
      "model_module": "@jupyter-widgets/base",
      "model_module_version": "1.0.0",
      "model_name": "LayoutModel",
      "state": {
       "width": "100px"
      }
     },
     "5562fdff469344f7a83421405c4f018b": {
      "model_module": "@jupyter-widgets/controls",
      "model_module_version": "1.0.0",
      "model_name": "HBoxModel",
      "state": {
       "children": [
        "IPY_MODEL_e519437ac26d4788ac19c4a314f17ebf",
        "IPY_MODEL_ab07f254b53549c485ff3084a53d87ed",
        "IPY_MODEL_b9d4bbcf5a824107b60bb54c89499a93",
        "IPY_MODEL_fe2c2146a6a942e5966293ab586e75a2",
        "IPY_MODEL_972d185fad2244eca74bc6dad17d153f",
        "IPY_MODEL_0e6f2ce835b34ad9ad3a31300e4b578d",
        "IPY_MODEL_c0989d621b684977a0522f201b061a27"
       ],
       "layout": "IPY_MODEL_0068b04e0ee84f4eb964fde726f4b13b"
      }
     },
     "55b5fe2dde444721b1230f590dda45f6": {
      "model_module": "@jupyter-widgets/base",
      "model_module_version": "1.0.0",
      "model_name": "LayoutModel",
      "state": {}
     },
     "55f30232800b468ba0b1c7aef8032c41": {
      "model_module": "@jupyter-widgets/base",
      "model_module_version": "1.0.0",
      "model_name": "LayoutModel",
      "state": {}
     },
     "561d7e11efe84881a096c581cb9844fa": {
      "model_module": "@jupyter-widgets/controls",
      "model_module_version": "1.0.0",
      "model_name": "DescriptionStyleModel",
      "state": {
       "description_width": "initial"
      }
     },
     "563d85bde0cd49208eaa255054db2e52": {
      "model_module": "@jupyter-widgets/base",
      "model_module_version": "1.0.0",
      "model_name": "LayoutModel",
      "state": {}
     },
     "56eef0f0e8a94292a181fd90bb1aac2e": {
      "model_module": "@jupyter-widgets/base",
      "model_module_version": "1.0.0",
      "model_name": "LayoutModel",
      "state": {}
     },
     "572250e505ab41b7b92c2c0218e6e0d3": {
      "model_module": "@jupyter-widgets/controls",
      "model_module_version": "1.0.0",
      "model_name": "ButtonStyleModel",
      "state": {}
     },
     "577ecc573e8a4287bff2858034e8f45f": {
      "model_module": "@jupyter-widgets/base",
      "model_module_version": "1.0.0",
      "model_name": "LayoutModel",
      "state": {}
     },
     "58d242cd4181453284ead836607a18cb": {
      "model_module": "@jupyter-widgets/base",
      "model_module_version": "1.0.0",
      "model_name": "LayoutModel",
      "state": {
       "height": "40px"
      }
     },
     "58db27ac6ef14d368db6766c5d254690": {
      "model_module": "@jupyter-widgets/controls",
      "model_module_version": "1.0.0",
      "model_name": "DescriptionStyleModel",
      "state": {
       "description_width": ""
      }
     },
     "58e9dfac34a34e94913046df440faec1": {
      "model_module": "@jupyter-widgets/controls",
      "model_module_version": "1.0.0",
      "model_name": "CheckboxModel",
      "state": {
       "description": "Errors",
       "disabled": false,
       "layout": "IPY_MODEL_f494a18df62344c59518ff2b34eca1a1",
       "style": "IPY_MODEL_830d0237dd544ee194a6f5b721ed69bd",
       "value": false
      }
     },
     "5915234901e04dccac9e019706504968": {
      "model_module": "@jupyter-widgets/base",
      "model_module_version": "1.0.0",
      "model_name": "LayoutModel",
      "state": {}
     },
     "5921dcd7b8974ce4956bfbf86aca6d7e": {
      "model_module": "@jupyter-widgets/controls",
      "model_module_version": "1.0.0",
      "model_name": "SelectModel",
      "state": {
       "_options_labels": [
        "Test",
        "Train"
       ],
       "description": "Dataset:",
       "index": 1,
       "layout": "IPY_MODEL_91c585a5eb90439081f6e6ef2bb9e99e",
       "rows": 1,
       "style": "IPY_MODEL_5b9feb5b6a1f4592ae03e2afe95bba86"
      }
     },
     "599373b8124f4b60a38fe1bf0b90e650": {
      "model_module": "@jupyter-widgets/controls",
      "model_module_version": "1.0.0",
      "model_name": "ButtonStyleModel",
      "state": {}
     },
     "59e84513f9254df7aaca608ba60d8fb0": {
      "model_module": "@jupyter-widgets/controls",
      "model_module_version": "1.0.0",
      "model_name": "ButtonModel",
      "state": {
       "icon": "refresh",
       "layout": "IPY_MODEL_e3cfc9911f7e44d484ed32ed0be47a2e",
       "style": "IPY_MODEL_2d44a523b9e0428abf3f5ea35d942a72"
      }
     },
     "5ae6200fa2474b13be553fe4dd89fba2": {
      "model_module": "@jupyter-widgets/controls",
      "model_module_version": "1.0.0",
      "model_name": "VBoxModel",
      "state": {
       "children": [
        "IPY_MODEL_c881bd13c0ac4df192242591f0eb2c66",
        "IPY_MODEL_99443e3f83b047b2b1b511c9a6e9a2c3",
        "IPY_MODEL_b3b6d22a83d645dda6f5f3342efdd5f1",
        "IPY_MODEL_8528ef20bff34ca1b4851fb459270a13",
        "IPY_MODEL_2158cefba61d44a6af1702df18f283fe",
        "IPY_MODEL_07562e0bf0c049eaa3237b2bfe22fd29",
        "IPY_MODEL_f29b4050a7c841ffabd007a2a522a862"
       ],
       "layout": "IPY_MODEL_3b69442939c142848f88ae73598fee8a"
      }
     },
     "5b1c51ccca6942cbb011edc59e2402e4": {
      "model_module": "@jupyter-widgets/base",
      "model_module_version": "1.0.0",
      "model_name": "LayoutModel",
      "state": {}
     },
     "5b45da6ee57d43fd8ad676158c4768b6": {
      "model_module": "@jupyter-widgets/base",
      "model_module_version": "1.0.0",
      "model_name": "LayoutModel",
      "state": {}
     },
     "5b61b93b308e4f6392fe08b4c703a8d0": {
      "model_module": "@jupyter-widgets/controls",
      "model_module_version": "1.0.0",
      "model_name": "DescriptionStyleModel",
      "state": {
       "description_width": "initial"
      }
     },
     "5b9feb5b6a1f4592ae03e2afe95bba86": {
      "model_module": "@jupyter-widgets/controls",
      "model_module_version": "1.0.0",
      "model_name": "DescriptionStyleModel",
      "state": {
       "description_width": ""
      }
     },
     "5bb5c50d9d304041bfe265c71a18d03d": {
      "model_module": "@jupyter-widgets/base",
      "model_module_version": "1.0.0",
      "model_name": "LayoutModel",
      "state": {}
     },
     "5bcee508908e4e05a2f78669b02734a4": {
      "model_module": "@jupyter-widgets/base",
      "model_module_version": "1.0.0",
      "model_name": "LayoutModel",
      "state": {
       "width": "100%"
      }
     },
     "5c24caad0799451ebc9c07fb4a96725b": {
      "model_module": "@jupyter-widgets/controls",
      "model_module_version": "1.0.0",
      "model_name": "ButtonModel",
      "state": {
       "icon": "fast-backward",
       "layout": "IPY_MODEL_e3554c9b968246e2a5fecd6aec3f06a6",
       "style": "IPY_MODEL_6b63c35811e84707ad779e8c77958745"
      }
     },
     "5caf423ba0b04a5e91c3e6909e16b191": {
      "model_module": "@jupyter-widgets/controls",
      "model_module_version": "1.0.0",
      "model_name": "CheckboxModel",
      "state": {
       "description": "Show Targets",
       "disabled": false,
       "layout": "IPY_MODEL_38857e0b0e4144c0b46e419ee77c45e7",
       "style": "IPY_MODEL_6b41ca2bef0e4718897b40618e01ae96",
       "value": false
      }
     },
     "5dce5dd84b364f38a3338c76520e66bd": {
      "model_module": "@jupyter-widgets/controls",
      "model_module_version": "1.0.0",
      "model_name": "CheckboxModel",
      "state": {
       "description": "Visible",
       "disabled": false,
       "layout": "IPY_MODEL_f494a18df62344c59518ff2b34eca1a1",
       "style": "IPY_MODEL_3973ddc311eb4ffba4f4ab12d80e1033",
       "value": true
      }
     },
     "5e04811e28bd4b7394deb6efe855a9a4": {
      "model_module": "@jupyter-widgets/base",
      "model_module_version": "1.0.0",
      "model_name": "LayoutModel",
      "state": {}
     },
     "5e5dbf0424f7452c841de4c3a3c67a41": {
      "model_module": "@jupyter-widgets/base",
      "model_module_version": "1.0.0",
      "model_name": "LayoutModel",
      "state": {
       "width": "100%"
      }
     },
     "5e782c9aa99f4cab8e1d81a77f3dad98": {
      "model_module": "@jupyter-widgets/base",
      "model_module_version": "1.0.0",
      "model_name": "LayoutModel",
      "state": {
       "width": "100%"
      }
     },
     "5f4831d58f10470f8ce4288aa51444db": {
      "model_module": "@jupyter-widgets/base",
      "model_module_version": "1.0.0",
      "model_name": "LayoutModel",
      "state": {}
     },
     "5fda1cd4f9ce4e23b4293e464ae52a4b": {
      "model_module": "@jupyter-widgets/controls",
      "model_module_version": "1.0.0",
      "model_name": "HBoxModel",
      "state": {
       "children": [
        "IPY_MODEL_88ace079e1b143318d254eb71c248c89",
        "IPY_MODEL_38401272b46a4fabaa3fea04f0cbc3aa",
        "IPY_MODEL_6ac8412535664ab3b800b7785b5fd7f3",
        "IPY_MODEL_200153f5774f42a883c94152a838ff9f",
        "IPY_MODEL_35ceece14e5b453baf8a6de464517b15",
        "IPY_MODEL_cc788d53ade64aecba0529a2479d7e7c",
        "IPY_MODEL_1186ec11071f4babba6512cf62412f30"
       ],
       "layout": "IPY_MODEL_912f9b50bac24411bcec1534aff0491e"
      }
     },
     "5fe32f681f064f49bcba4f78af0def81": {
      "model_module": "@jupyter-widgets/base",
      "model_module_version": "1.0.0",
      "model_name": "LayoutModel",
      "state": {
       "width": "100%"
      }
     },
     "5feb85abc10b4b78a4c02b81e569f9d2": {
      "model_module": "@jupyter-widgets/controls",
      "model_module_version": "1.0.0",
      "model_name": "DescriptionStyleModel",
      "state": {
       "description_width": "initial"
      }
     },
     "605371fef5f14bfabc0b1656054fefb8": {
      "model_module": "@jupyter-widgets/controls",
      "model_module_version": "1.0.0",
      "model_name": "ButtonModel",
      "state": {
       "icon": "backward",
       "layout": "IPY_MODEL_191492abe78345f5bddddbcca80fe7a3",
       "style": "IPY_MODEL_be7557f55ab4430e9b63bac96161839c"
      }
     },
     "6055dc4510e147069cf5bf326540751c": {
      "model_module": "@jupyter-widgets/base",
      "model_module_version": "1.0.0",
      "model_name": "LayoutModel",
      "state": {}
     },
     "605e2758be6b4b1daac4803cf1cdac6f": {
      "model_module": "@jupyter-widgets/base",
      "model_module_version": "1.0.0",
      "model_name": "LayoutModel",
      "state": {}
     },
     "60b37c8769c6433190392db1df170873": {
      "model_module": "@jupyter-widgets/controls",
      "model_module_version": "1.0.0",
      "model_name": "CheckboxModel",
      "state": {
       "description": "Visible",
       "disabled": false,
       "layout": "IPY_MODEL_38857e0b0e4144c0b46e419ee77c45e7",
       "style": "IPY_MODEL_75b03d1f75d34eefb5f9e6899d9f6899",
       "value": true
      }
     },
     "6167c4c0d1134b73ab9c4b095214b31b": {
      "model_module": "@jupyter-widgets/controls",
      "model_module_version": "1.0.0",
      "model_name": "ButtonStyleModel",
      "state": {}
     },
     "61cbfd9d207d47c8857f2dee26dd805a": {
      "model_module": "@jupyter-widgets/base",
      "model_module_version": "1.0.0",
      "model_name": "LayoutModel",
      "state": {}
     },
     "62e148c006a6447e8558ece62b9776af": {
      "model_module": "@jupyter-widgets/controls",
      "model_module_version": "1.0.0",
      "model_name": "IntTextModel",
      "state": {
       "description": "Horizontal space between banks:",
       "layout": "IPY_MODEL_101c6ed00c9541af92f484aec3dbd20f",
       "step": 1,
       "style": "IPY_MODEL_f33ff18ff0764d798f1bdeb2662adf0e",
       "value": 200
      }
     },
     "63a75b2069db413388f1f900c501df94": {
      "model_module": "@jupyter-widgets/controls",
      "model_module_version": "1.0.0",
      "model_name": "IntTextModel",
      "state": {
       "description": "Feature to show:",
       "layout": "IPY_MODEL_74323a18ed3345a0985a59c59d7e49c5",
       "step": 1,
       "style": "IPY_MODEL_3ae64dca604a49b1aeeb887e489b152a"
      }
     },
     "64420f42857049a9a21a682b1bbceef2": {
      "model_module": "@jupyter-widgets/base",
      "model_module_version": "1.0.0",
      "model_name": "LayoutModel",
      "state": {}
     },
     "645222c43c4e4ba5a4a83323dffc8be5": {
      "model_module": "@jupyter-widgets/base",
      "model_module_version": "1.0.0",
      "model_name": "LayoutModel",
      "state": {}
     },
     "64b6b56f1c28483fb94fd70afb0a4034": {
      "model_module": "@jupyter-widgets/controls",
      "model_module_version": "1.0.0",
      "model_name": "HTMLModel",
      "state": {
       "layout": "IPY_MODEL_a4471189aca9418facb74932e7acec84",
       "style": "IPY_MODEL_309248f23bff49f5a57322c89463eb7e",
       "value": "<p style=\"text-align:center\"><svg id='XOR2 Network' xmlns='http://www.w3.org/2000/svg' viewBox=\"0 0 800 305\" max-width=\"100%\" height=\"1326.0\" image-rendering=\"pixelated\">\n    <defs>\n        <marker id=\"arrow\" markerWidth=\"10\" markerHeight=\"10\" refX=\"9\" refY=\"3\" orient=\"auto\" markerUnits=\"strokeWidth\">\n          <path d=\"M0,0 L0,6 L9,3 z\" fill=\"black\" />\n        </marker>\n    </defs><text x=\"400.0\" y=\"12.5\" font-family=\"monospace\" font-size=\"15\" text-anchor=\"middle\" alignment-baseline=\"central\">XOR2 Network</text><rect x=\"240.66666666666669\" y=\"24\" width=\"52\" height=\"52\" style=\"fill:none;stroke:black;stroke-width:2\"/><image id=\"XOR2 Network_output1_36\" class=\"XOR2 Network_output1\" x=\"241.66666666666669\" y=\"25\" height=\"50\" width=\"50\" preserveAspectRatio=\"none\" href=\"data:image/gif;base64,R0lGODdhAQABAIcAADU1/wAAAAAAAAAAAAAAAAAAAAAAAAAAAAAAAAAAAAAAAAAAAAAAAAAAAAAAAAAAAAAAAAAAAAAAAAAAAAAAAAAAAAAAAAAAAAAAAAAAAAAAAAAAAAAAAAAAAAAAAAAAAAAAAAAAAAAAAAAAAAAAAAAAAAAAAAAAAAAAAAAAAAAAAAAAAAAAAAAAAAAAAAAAAAAAAAAAAAAAAAAAAAAAAAAAAAAAAAAAAAAAAAAAAAAAAAAAAAAAAAAAAAAAAAAAAAAAAAAAAAAAAAAAAAAAAAAAAAAAAAAAAAAAAAAAAAAAAAAAAAAAAAAAAAAAAAAAAAAAAAAAAAAAAAAAAAAAAAAAAAAAAAAAAAAAAAAAAAAAAAAAAAAAAAAAAAAAAAAAAAAAAAAAAAAAAAAAAAAAAAAAAAAAAAAAAAAAAAAAAAAAAAAAAAAAAAAAAAAAAAAAAAAAAAAAAAAAAAAAAAAAAAAAAAAAAAAAAAAAAAAAAAAAAAAAAAAAAAAAAAAAAAAAAAAAAAAAAAAAAAAAAAAAAAAAAAAAAAAAAAAAAAAAAAAAAAAAAAAAAAAAAAAAAAAAAAAAAAAAAAAAAAAAAAAAAAAAAAAAAAAAAAAAAAAAAAAAAAAAAAAAAAAAAAAAAAAAAAAAAAAAAAAAAAAAAAAAAAAAAAAAAAAAAAAAAAAAAAAAAAAAAAAAAAAAAAAAAAAAAAAAAAAAAAAAAAAAAAAAAAAAAAAAAAAAAAAAAAAAAAAAAAAAAAAAAAAAAAAAAAAAAAAAAAAAAAAAAAAAAAAAAAAAAAAAAAAAAAAAAAAAAAAAAAAAAAAAAAAAAAAAAAAAAAAAAAAAAAAAAAAAAAAAAAAAAAAAAAAAAAAAAAAAAAAAAAAAAAAAAAAAAAAAAAAAAAAAAAAAAAAAAAAAAAAAAAAAAAAAAAAAAAAAAAAAAAAAAAAAAAAAAAAAAAAAAAAAAAAAAAAAAAAAAAAAAAAAAAAAAAAAAAAAAAAAAAAAAAAAAAAAAAAAAAAAAAAAAAAAACwAAAAAAQABAAAIBQABuAoIADs=\"><title>Layer: output1 (output)\n shape = (1,)\n Keras class = Dense\n activation = sigmoid</title></image><text x=\"296.6666666666667\" y=\"52.0\" font-family=\"monospace\" font-size=\"12\" text-anchor=\"start\" alignment-baseline=\"central\">output1</text><rect x=\"507.33333333333337\" y=\"24\" width=\"52\" height=\"52\" style=\"fill:none;stroke:black;stroke-width:2\"/><image id=\"XOR2 Network_output2_37\" class=\"XOR2 Network_output2\" x=\"508.33333333333337\" y=\"25\" height=\"50\" width=\"50\" preserveAspectRatio=\"none\" href=\"data:image/gif;base64,R0lGODdhAQABAIcAAAAAxwAAAAAAAAAAAAAAAAAAAAAAAAAAAAAAAAAAAAAAAAAAAAAAAAAAAAAAAAAAAAAAAAAAAAAAAAAAAAAAAAAAAAAAAAAAAAAAAAAAAAAAAAAAAAAAAAAAAAAAAAAAAAAAAAAAAAAAAAAAAAAAAAAAAAAAAAAAAAAAAAAAAAAAAAAAAAAAAAAAAAAAAAAAAAAAAAAAAAAAAAAAAAAAAAAAAAAAAAAAAAAAAAAAAAAAAAAAAAAAAAAAAAAAAAAAAAAAAAAAAAAAAAAAAAAAAAAAAAAAAAAAAAAAAAAAAAAAAAAAAAAAAAAAAAAAAAAAAAAAAAAAAAAAAAAAAAAAAAAAAAAAAAAAAAAAAAAAAAAAAAAAAAAAAAAAAAAAAAAAAAAAAAAAAAAAAAAAAAAAAAAAAAAAAAAAAAAAAAAAAAAAAAAAAAAAAAAAAAAAAAAAAAAAAAAAAAAAAAAAAAAAAAAAAAAAAAAAAAAAAAAAAAAAAAAAAAAAAAAAAAAAAAAAAAAAAAAAAAAAAAAAAAAAAAAAAAAAAAAAAAAAAAAAAAAAAAAAAAAAAAAAAAAAAAAAAAAAAAAAAAAAAAAAAAAAAAAAAAAAAAAAAAAAAAAAAAAAAAAAAAAAAAAAAAAAAAAAAAAAAAAAAAAAAAAAAAAAAAAAAAAAAAAAAAAAAAAAAAAAAAAAAAAAAAAAAAAAAAAAAAAAAAAAAAAAAAAAAAAAAAAAAAAAAAAAAAAAAAAAAAAAAAAAAAAAAAAAAAAAAAAAAAAAAAAAAAAAAAAAAAAAAAAAAAAAAAAAAAAAAAAAAAAAAAAAAAAAAAAAAAAAAAAAAAAAAAAAAAAAAAAAAAAAAAAAAAAAAAAAAAAAAAAAAAAAAAAAAAAAAAAAAAAAAAAAAAAAAAAAAAAAAAAAAAAAAAAAAAAAAAAAAAAAAAAAAAAAAAAAAAAAAAAAAAAAAAAAAAAAAAAAAAAAAAAAAAAAAAAAAAAAAAAAAAAAAAAAAAAAAAAAAAAAAAAAAAAAAAAAACwAAAAAAQABAAAIBQABuAoIADs=\"><title>Layer: output2 (output)\n shape = (1,)\n Keras class = Dense\n activation = sigmoid</title></image><text x=\"563.3333333333334\" y=\"52.0\" font-family=\"monospace\" font-size=\"12\" text-anchor=\"start\" alignment-baseline=\"central\">output2</text><line x1=\"400.0\" y1=\"104\" x2=\"266.6666666666667\" y2=\"77\" stroke=\"black\" stroke-width=\"2\" marker-end=\"url(#arrow)\"><title>Weights from shared-hidden to output1\n output1/kernel has shape (5, 1)\n output1/bias has shape (1,)</title></line><line x1=\"400.0\" y1=\"104\" x2=\"533.3333333333334\" y2=\"77\" stroke=\"black\" stroke-width=\"2\" marker-end=\"url(#arrow)\"><title>Weights from shared-hidden to output2\n output2/kernel has shape (5, 1)\n output2/bias has shape (1,)</title></line><rect x=\"299.0\" y=\"104\" width=\"202\" height=\"42\" style=\"fill:none;stroke:black;stroke-width:2\"/><image id=\"XOR2 Network_shared-hidden_38\" class=\"XOR2 Network_shared-hidden\" x=\"300.0\" y=\"105\" height=\"40\" width=\"200\" preserveAspectRatio=\"none\" href=\"data:image/gif;base64,R0lGODdhBQABAIcAAAAA5AAAmhUV/2Vl/wAAAAAAAAAAAAAAAAAAAAAAAAAAAAAAAAAAAAAAAAAAAAAAAAAAAAAAAAAAAAAAAAAAAAAAAAAAAAAAAAAAAAAAAAAAAAAAAAAAAAAAAAAAAAAAAAAAAAAAAAAAAAAAAAAAAAAAAAAAAAAAAAAAAAAAAAAAAAAAAAAAAAAAAAAAAAAAAAAAAAAAAAAAAAAAAAAAAAAAAAAAAAAAAAAAAAAAAAAAAAAAAAAAAAAAAAAAAAAAAAAAAAAAAAAAAAAAAAAAAAAAAAAAAAAAAAAAAAAAAAAAAAAAAAAAAAAAAAAAAAAAAAAAAAAAAAAAAAAAAAAAAAAAAAAAAAAAAAAAAAAAAAAAAAAAAAAAAAAAAAAAAAAAAAAAAAAAAAAAAAAAAAAAAAAAAAAAAAAAAAAAAAAAAAAAAAAAAAAAAAAAAAAAAAAAAAAAAAAAAAAAAAAAAAAAAAAAAAAAAAAAAAAAAAAAAAAAAAAAAAAAAAAAAAAAAAAAAAAAAAAAAAAAAAAAAAAAAAAAAAAAAAAAAAAAAAAAAAAAAAAAAAAAAAAAAAAAAAAAAAAAAAAAAAAAAAAAAAAAAAAAAAAAAAAAAAAAAAAAAAAAAAAAAAAAAAAAAAAAAAAAAAAAAAAAAAAAAAAAAAAAAAAAAAAAAAAAAAAAAAAAAAAAAAAAAAAAAAAAAAAAAAAAAAAAAAAAAAAAAAAAAAAAAAAAAAAAAAAAAAAAAAAAAAAAAAAAAAAAAAAAAAAAAAAAAAAAAAAAAAAAAAAAAAAAAAAAAAAAAAAAAAAAAAAAAAAAAAAAAAAAAAAAAAAAAAAAAAAAAAAAAAAAAAAAAAAAAAAAAAAAAAAAAAAAAAAAAAAAAAAAAAAAAAAAAAAAAAAAAAAAAAAAAAAAAAAAAAAAAAAAAAAAAAAAAAAAAAAAAAAAAAAAAAAAAAAAAAAAAAAAAAAAAAAAAAAAAAAAAAAAAAAAAAAAAAAAAAAAAAAAAAAAAAAAAAAAAAAAAAAAAAAAACwAAAAABQABAAAICAADAAAwQEBAADs=\"><title>Layer: shared-hidden (hidden)\n shape = (5,)\n Keras class = Dense\n activation = sigmoid</title></image><text x=\"505.0\" y=\"127.0\" font-family=\"monospace\" font-size=\"12\" text-anchor=\"start\" alignment-baseline=\"central\">shared-hidden</text><line x1=\"266.6666666666667\" y1=\"174\" x2=\"400.0\" y2=\"147\" stroke=\"black\" stroke-width=\"2\" marker-end=\"url(#arrow)\"><title>Weights from hidden1 to shared-hidden\n shared-hidden/kernel has shape (20, 5)\n shared-hidden/bias has shape (5,)</title></line><rect x=\"165.66666666666669\" y=\"174\" width=\"202\" height=\"27\" style=\"fill:none;stroke:black;stroke-width:2\"/><image id=\"XOR2 Network_hidden1_39\" class=\"XOR2 Network_hidden1\" x=\"166.66666666666669\" y=\"175\" height=\"25\" width=\"200\" preserveAspectRatio=\"none\" href=\"data:image/gif;base64,R0lGODdhCgABAIcAAAAA/wAAAAAAAAAAAAAAAAAAAAAAAAAAAAAAAAAAAAAAAAAAAAAAAAAAAAAAAAAAAAAAAAAAAAAAAAAAAAAAAAAAAAAAAAAAAAAAAAAAAAAAAAAAAAAAAAAAAAAAAAAAAAAAAAAAAAAAAAAAAAAAAAAAAAAAAAAAAAAAAAAAAAAAAAAAAAAAAAAAAAAAAAAAAAAAAAAAAAAAAAAAAAAAAAAAAAAAAAAAAAAAAAAAAAAAAAAAAAAAAAAAAAAAAAAAAAAAAAAAAAAAAAAAAAAAAAAAAAAAAAAAAAAAAAAAAAAAAAAAAAAAAAAAAAAAAAAAAAAAAAAAAAAAAAAAAAAAAAAAAAAAAAAAAAAAAAAAAAAAAAAAAAAAAAAAAAAAAAAAAAAAAAAAAAAAAAAAAAAAAAAAAAAAAAAAAAAAAAAAAAAAAAAAAAAAAAAAAAAAAAAAAAAAAAAAAAAAAAAAAAAAAAAAAAAAAAAAAAAAAAAAAAAAAAAAAAAAAAAAAAAAAAAAAAAAAAAAAAAAAAAAAAAAAAAAAAAAAAAAAAAAAAAAAAAAAAAAAAAAAAAAAAAAAAAAAAAAAAAAAAAAAAAAAAAAAAAAAAAAAAAAAAAAAAAAAAAAAAAAAAAAAAAAAAAAAAAAAAAAAAAAAAAAAAAAAAAAAAAAAAAAAAAAAAAAAAAAAAAAAAAAAAAAAAAAAAAAAAAAAAAAAAAAAAAAAAAAAAAAAAAAAAAAAAAAAAAAAAAAAAAAAAAAAAAAAAAAAAAAAAAAAAAAAAAAAAAAAAAAAAAAAAAAAAAAAAAAAAAAAAAAAAAAAAAAAAAAAAAAAAAAAAAAAAAAAAAAAAAAAAAAAAAAAAAAAAAAAAAAAAAAAAAAAAAAAAAAAAAAAAAAAAAAAAAAAAAAAAAAAAAAAAAAAAAAAAAAAAAAAAAAAAAAAAAAAAAAAAAAAAAAAAAAAAAAAAAAAAAAAAAAAAAAAAAAAAAAAAAAAAAAAAAAAAAAAAAAAAAAAAAAAAAAAAAAAAAAAAAAACwAAAAACgABAAAIBwABCBxIMCAAOw==\"><title>Layer: hidden1 (hidden)\n shape = (10,)\n Keras class = Dense\n activation = sigmoid</title></image><text x=\"371.6666666666667\" y=\"189.5\" font-family=\"monospace\" font-size=\"12\" text-anchor=\"start\" alignment-baseline=\"central\">hidden1</text><line x1=\"533.3333333333334\" y1=\"174\" x2=\"400.0\" y2=\"147\" stroke=\"black\" stroke-width=\"2\" marker-end=\"url(#arrow)\"><title>Weights from hidden2 to shared-hidden\n shared-hidden/kernel has shape (20, 5)\n shared-hidden/bias has shape (5,)</title></line><rect x=\"432.33333333333337\" y=\"174\" width=\"202\" height=\"27\" style=\"fill:none;stroke:black;stroke-width:2\"/><image id=\"XOR2 Network_hidden2_40\" class=\"XOR2 Network_hidden2\" x=\"433.33333333333337\" y=\"175\" height=\"25\" width=\"200\" preserveAspectRatio=\"none\" href=\"data:image/gif;base64,R0lGODdhCgABAIcAAAAA/wAAAAAAAAAAAAAAAAAAAAAAAAAAAAAAAAAAAAAAAAAAAAAAAAAAAAAAAAAAAAAAAAAAAAAAAAAAAAAAAAAAAAAAAAAAAAAAAAAAAAAAAAAAAAAAAAAAAAAAAAAAAAAAAAAAAAAAAAAAAAAAAAAAAAAAAAAAAAAAAAAAAAAAAAAAAAAAAAAAAAAAAAAAAAAAAAAAAAAAAAAAAAAAAAAAAAAAAAAAAAAAAAAAAAAAAAAAAAAAAAAAAAAAAAAAAAAAAAAAAAAAAAAAAAAAAAAAAAAAAAAAAAAAAAAAAAAAAAAAAAAAAAAAAAAAAAAAAAAAAAAAAAAAAAAAAAAAAAAAAAAAAAAAAAAAAAAAAAAAAAAAAAAAAAAAAAAAAAAAAAAAAAAAAAAAAAAAAAAAAAAAAAAAAAAAAAAAAAAAAAAAAAAAAAAAAAAAAAAAAAAAAAAAAAAAAAAAAAAAAAAAAAAAAAAAAAAAAAAAAAAAAAAAAAAAAAAAAAAAAAAAAAAAAAAAAAAAAAAAAAAAAAAAAAAAAAAAAAAAAAAAAAAAAAAAAAAAAAAAAAAAAAAAAAAAAAAAAAAAAAAAAAAAAAAAAAAAAAAAAAAAAAAAAAAAAAAAAAAAAAAAAAAAAAAAAAAAAAAAAAAAAAAAAAAAAAAAAAAAAAAAAAAAAAAAAAAAAAAAAAAAAAAAAAAAAAAAAAAAAAAAAAAAAAAAAAAAAAAAAAAAAAAAAAAAAAAAAAAAAAAAAAAAAAAAAAAAAAAAAAAAAAAAAAAAAAAAAAAAAAAAAAAAAAAAAAAAAAAAAAAAAAAAAAAAAAAAAAAAAAAAAAAAAAAAAAAAAAAAAAAAAAAAAAAAAAAAAAAAAAAAAAAAAAAAAAAAAAAAAAAAAAAAAAAAAAAAAAAAAAAAAAAAAAAAAAAAAAAAAAAAAAAAAAAAAAAAAAAAAAAAAAAAAAAAAAAAAAAAAAAAAAAAAAAAAAAAAAAAAAAAAAAAAAAAAAAAAAAAAAAAAAAAAAAAAAAAAAAAACwAAAAACgABAAAIBwABCBxIMCAAOw==\"><title>Layer: hidden2 (hidden)\n shape = (10,)\n Keras class = Dense\n activation = sigmoid</title></image><text x=\"638.3333333333334\" y=\"189.5\" font-family=\"monospace\" font-size=\"12\" text-anchor=\"start\" alignment-baseline=\"central\">hidden2</text><line x1=\"266.6666666666667\" y1=\"229\" x2=\"266.6666666666667\" y2=\"202\" stroke=\"black\" stroke-width=\"2\" marker-end=\"url(#arrow)\"><title>Weights from input1 to hidden1\n hidden1/kernel has shape (1, 10)\n hidden1/bias has shape (10,)</title></line><rect x=\"240.66666666666669\" y=\"229\" width=\"52\" height=\"52\" style=\"fill:none;stroke:black;stroke-width:2\"/><image id=\"XOR2 Network_input1_41\" class=\"XOR2 Network_input1\" x=\"241.66666666666669\" y=\"230\" height=\"50\" width=\"50\" preserveAspectRatio=\"none\" href=\"data:image/gif;base64,R0lGODdhAQABAIcAAP/9/QAAAAAAAAAAAAAAAAAAAAAAAAAAAAAAAAAAAAAAAAAAAAAAAAAAAAAAAAAAAAAAAAAAAAAAAAAAAAAAAAAAAAAAAAAAAAAAAAAAAAAAAAAAAAAAAAAAAAAAAAAAAAAAAAAAAAAAAAAAAAAAAAAAAAAAAAAAAAAAAAAAAAAAAAAAAAAAAAAAAAAAAAAAAAAAAAAAAAAAAAAAAAAAAAAAAAAAAAAAAAAAAAAAAAAAAAAAAAAAAAAAAAAAAAAAAAAAAAAAAAAAAAAAAAAAAAAAAAAAAAAAAAAAAAAAAAAAAAAAAAAAAAAAAAAAAAAAAAAAAAAAAAAAAAAAAAAAAAAAAAAAAAAAAAAAAAAAAAAAAAAAAAAAAAAAAAAAAAAAAAAAAAAAAAAAAAAAAAAAAAAAAAAAAAAAAAAAAAAAAAAAAAAAAAAAAAAAAAAAAAAAAAAAAAAAAAAAAAAAAAAAAAAAAAAAAAAAAAAAAAAAAAAAAAAAAAAAAAAAAAAAAAAAAAAAAAAAAAAAAAAAAAAAAAAAAAAAAAAAAAAAAAAAAAAAAAAAAAAAAAAAAAAAAAAAAAAAAAAAAAAAAAAAAAAAAAAAAAAAAAAAAAAAAAAAAAAAAAAAAAAAAAAAAAAAAAAAAAAAAAAAAAAAAAAAAAAAAAAAAAAAAAAAAAAAAAAAAAAAAAAAAAAAAAAAAAAAAAAAAAAAAAAAAAAAAAAAAAAAAAAAAAAAAAAAAAAAAAAAAAAAAAAAAAAAAAAAAAAAAAAAAAAAAAAAAAAAAAAAAAAAAAAAAAAAAAAAAAAAAAAAAAAAAAAAAAAAAAAAAAAAAAAAAAAAAAAAAAAAAAAAAAAAAAAAAAAAAAAAAAAAAAAAAAAAAAAAAAAAAAAAAAAAAAAAAAAAAAAAAAAAAAAAAAAAAAAAAAAAAAAAAAAAAAAAAAAAAAAAAAAAAAAAAAAAAAAAAAAAAAAAAAAAAAAAAAAAAAAAAAAAAAAAAAAAAAAAAAAAAAAAAAAAAAAAAAAAAAAAACwAAAAAAQABAAAIBQABuAoIADs=\"><title>Layer: input1 (input)\n shape = (1,)\n Keras class = Input</title></image><text x=\"296.6666666666667\" y=\"257.0\" font-family=\"monospace\" font-size=\"12\" text-anchor=\"start\" alignment-baseline=\"central\">input1</text><line x1=\"533.3333333333334\" y1=\"229\" x2=\"533.3333333333334\" y2=\"202\" stroke=\"black\" stroke-width=\"2\" marker-end=\"url(#arrow)\"><title>Weights from input2 to hidden2\n hidden2/kernel has shape (1, 10)\n hidden2/bias has shape (10,)</title></line><rect x=\"507.33333333333337\" y=\"229\" width=\"52\" height=\"52\" style=\"fill:none;stroke:black;stroke-width:2\"/><image id=\"XOR2 Network_input2_42\" class=\"XOR2 Network_input2\" x=\"508.33333333333337\" y=\"230\" height=\"50\" width=\"50\" preserveAspectRatio=\"none\" href=\"data:image/gif;base64,R0lGODdhAQABAIcAAP/9/QAAAAAAAAAAAAAAAAAAAAAAAAAAAAAAAAAAAAAAAAAAAAAAAAAAAAAAAAAAAAAAAAAAAAAAAAAAAAAAAAAAAAAAAAAAAAAAAAAAAAAAAAAAAAAAAAAAAAAAAAAAAAAAAAAAAAAAAAAAAAAAAAAAAAAAAAAAAAAAAAAAAAAAAAAAAAAAAAAAAAAAAAAAAAAAAAAAAAAAAAAAAAAAAAAAAAAAAAAAAAAAAAAAAAAAAAAAAAAAAAAAAAAAAAAAAAAAAAAAAAAAAAAAAAAAAAAAAAAAAAAAAAAAAAAAAAAAAAAAAAAAAAAAAAAAAAAAAAAAAAAAAAAAAAAAAAAAAAAAAAAAAAAAAAAAAAAAAAAAAAAAAAAAAAAAAAAAAAAAAAAAAAAAAAAAAAAAAAAAAAAAAAAAAAAAAAAAAAAAAAAAAAAAAAAAAAAAAAAAAAAAAAAAAAAAAAAAAAAAAAAAAAAAAAAAAAAAAAAAAAAAAAAAAAAAAAAAAAAAAAAAAAAAAAAAAAAAAAAAAAAAAAAAAAAAAAAAAAAAAAAAAAAAAAAAAAAAAAAAAAAAAAAAAAAAAAAAAAAAAAAAAAAAAAAAAAAAAAAAAAAAAAAAAAAAAAAAAAAAAAAAAAAAAAAAAAAAAAAAAAAAAAAAAAAAAAAAAAAAAAAAAAAAAAAAAAAAAAAAAAAAAAAAAAAAAAAAAAAAAAAAAAAAAAAAAAAAAAAAAAAAAAAAAAAAAAAAAAAAAAAAAAAAAAAAAAAAAAAAAAAAAAAAAAAAAAAAAAAAAAAAAAAAAAAAAAAAAAAAAAAAAAAAAAAAAAAAAAAAAAAAAAAAAAAAAAAAAAAAAAAAAAAAAAAAAAAAAAAAAAAAAAAAAAAAAAAAAAAAAAAAAAAAAAAAAAAAAAAAAAAAAAAAAAAAAAAAAAAAAAAAAAAAAAAAAAAAAAAAAAAAAAAAAAAAAAAAAAAAAAAAAAAAAAAAAAAAAAAAAAAAAAAAAAAAAAAAAAAAAAAAAAAAAAAAAAAAAAAAACwAAAAAAQABAAAIBQABuAoIADs=\"><title>Layer: input2 (input)\n shape = (1,)\n Keras class = Input</title></image><text x=\"563.3333333333334\" y=\"257.0\" font-family=\"monospace\" font-size=\"12\" text-anchor=\"start\" alignment-baseline=\"central\">input2</text></svg></p>"
      }
     },
     "654548ecabcc49ce93c7df48e3114b07": {
      "model_module": "@jupyter-widgets/controls",
      "model_module_version": "1.0.0",
      "model_name": "FloatSliderModel",
      "state": {
       "continuous_update": false,
       "description": "Zoom",
       "layout": "IPY_MODEL_47d3b915675441e48002a53071e9db33",
       "max": 3,
       "min": 0.5,
       "step": 0.1,
       "style": "IPY_MODEL_2d0f0ad9f2b8448f959f34a1a3c7f298",
       "value": 1
      }
     },
     "65513fe69d4a47bd842d93d32a5cbaaf": {
      "model_module": "@jupyter-widgets/controls",
      "model_module_version": "1.0.0",
      "model_name": "DescriptionStyleModel",
      "state": {
       "description_width": ""
      }
     },
     "66c4c473a1aa4b8ba78d26b2600ced1a": {
      "model_module": "@jupyter-widgets/controls",
      "model_module_version": "1.0.0",
      "model_name": "FloatTextModel",
      "state": {
       "description": "Leftmost color maps to:",
       "layout": "IPY_MODEL_e96a356f12814bfcb39740de5147dc69",
       "step": null,
       "style": "IPY_MODEL_c34a9ece608c47e3a903a7d92fb5a037",
       "value": -1
      }
     },
     "68f92e974d97409798e0ba666fe53766": {
      "model_module": "@jupyter-widgets/base",
      "model_module_version": "1.0.0",
      "model_name": "LayoutModel",
      "state": {}
     },
     "694c20a7dae543c08fef84412d6d826b": {
      "model_module": "@jupyter-widgets/controls",
      "model_module_version": "1.0.0",
      "model_name": "CheckboxModel",
      "state": {
       "description": "Errors",
       "disabled": false,
       "layout": "IPY_MODEL_965fefa61e1a41e5b42803f3156aa187",
       "style": "IPY_MODEL_ee8e7f3e589e4336a81be01253157d04",
       "value": false
      }
     },
     "6a302a995e0a495aa3322e7013984664": {
      "model_module": "@jupyter-widgets/controls",
      "model_module_version": "1.0.0",
      "model_name": "DescriptionStyleModel",
      "state": {
       "description_width": "initial"
      }
     },
     "6a479aae197944eb8b1a70333ff32ff6": {
      "model_module": "@jupyter-widgets/controls",
      "model_module_version": "1.0.0",
      "model_name": "ButtonStyleModel",
      "state": {}
     },
     "6ac8412535664ab3b800b7785b5fd7f3": {
      "model_module": "@jupyter-widgets/controls",
      "model_module_version": "1.0.0",
      "model_name": "IntTextModel",
      "state": {
       "layout": "IPY_MODEL_3645d3c2931e4badb6e594ec631bfc32",
       "step": 1,
       "style": "IPY_MODEL_403130c147d44a02882819d6f20d73f5"
      }
     },
     "6b2811da3c004ccb8077f63b494df93a": {
      "model_module": "@jupyter-widgets/base",
      "model_module_version": "1.0.0",
      "model_name": "LayoutModel",
      "state": {
       "width": "100%"
      }
     },
     "6b41ca2bef0e4718897b40618e01ae96": {
      "model_module": "@jupyter-widgets/controls",
      "model_module_version": "1.0.0",
      "model_name": "DescriptionStyleModel",
      "state": {
       "description_width": "initial"
      }
     },
     "6b63c35811e84707ad779e8c77958745": {
      "model_module": "@jupyter-widgets/controls",
      "model_module_version": "1.0.0",
      "model_name": "ButtonStyleModel",
      "state": {}
     },
     "6c1f716a977c48bf8b9b69b705ac6685": {
      "model_module": "@jupyter-widgets/controls",
      "model_module_version": "1.0.0",
      "model_name": "IntTextModel",
      "state": {
       "description": "Feature columns:",
       "layout": "IPY_MODEL_6f290d7700a341a7ab000e8199464044",
       "step": 1,
       "style": "IPY_MODEL_eacdf97dda5148e08ce5f84f8d160940",
       "value": 3
      }
     },
     "6c3c301b93354d10853445baf3b3ab4c": {
      "model_module": "@jupyter-widgets/controls",
      "model_module_version": "1.0.0",
      "model_name": "VBoxModel",
      "state": {
       "children": [
        "IPY_MODEL_8d06842b4e1548a7a98860b3eb755b94",
        "IPY_MODEL_8ebc45bfb1834e96a41d0ea24713b567",
        "IPY_MODEL_02560e0a618c45a6a877e58d6b00bcb0",
        "IPY_MODEL_4ac0db3c52914029b2fa518344d4b10f",
        "IPY_MODEL_8cc0f471eb0a42ae94ccb558aa037fae",
        "IPY_MODEL_ca84aea774904cea97a5fa4134268d6b",
        "IPY_MODEL_c05d2c6195a74f22a4ee4f03b0c4f1c8",
        "IPY_MODEL_acff5e9f91a04a61957eeb4e0bcec8a5"
       ],
       "layout": "IPY_MODEL_04c96083a9f74930b7d97db379ebbbbb"
      }
     },
     "6c578621b3b64f9aac72be5d5a9a84fa": {
      "model_module": "@jupyter-widgets/base",
      "model_module_version": "1.0.0",
      "model_name": "LayoutModel",
      "state": {}
     },
     "6cb036e188744688886aed2223631d12": {
      "model_module": "@jupyter-widgets/base",
      "model_module_version": "1.0.0",
      "model_name": "LayoutModel",
      "state": {}
     },
     "6cb3a1f49c49415e8708c566dcf2492b": {
      "model_module": "@jupyter-widgets/controls",
      "model_module_version": "1.0.0",
      "model_name": "HBoxModel",
      "state": {
       "children": [
        "IPY_MODEL_6d093e105fc94fc08618af810f5df9d4",
        "IPY_MODEL_33fafbf084fa4513a1e63b548b96f526"
       ],
       "layout": "IPY_MODEL_e2948e875ad54c95a1b9b67e5b9369a6"
      }
     },
     "6cd23746f6de45d699b490fa12ac8499": {
      "model_module": "@jupyter-widgets/controls",
      "model_module_version": "1.0.0",
      "model_name": "ButtonModel",
      "state": {
       "icon": "forward",
       "layout": "IPY_MODEL_9969f1ce9814411f9f7c896b38b063c1",
       "style": "IPY_MODEL_b184aedbbe0f495c87887f6c236bfab7"
      }
     },
     "6d093e105fc94fc08618af810f5df9d4": {
      "model_module": "@jupyter-widgets/controls",
      "model_module_version": "1.0.0",
      "model_name": "VBoxModel",
      "state": {
       "children": [
        "IPY_MODEL_7cca0f004e204da1b253b70e31d8703b",
        "IPY_MODEL_37c7bd86f35745c5be2e9e918f219964",
        "IPY_MODEL_4276ef9ee59542cca7ec62d67c99b9fd",
        "IPY_MODEL_4e4d12869fb5420f9013fc6d917223f7",
        "IPY_MODEL_ac9c831e71174e8780b382b7608bf220",
        "IPY_MODEL_f568f5fb4c28406e8b244922364ccdbc",
        "IPY_MODEL_28238d73c5164699a7bb901628d93a42",
        "IPY_MODEL_b6113be7ccb7470dbe83b6a5be946133"
       ],
       "layout": "IPY_MODEL_c8ccc29eb8f54966b2d35eaca7f0a144"
      }
     },
     "6d0c28f5506148f3b24713830ee5047e": {
      "model_module": "@jupyter-widgets/controls",
      "model_module_version": "1.0.0",
      "model_name": "ButtonModel",
      "state": {
       "icon": "backward",
       "layout": "IPY_MODEL_edda2105091f44a3a9b600c36836053f",
       "style": "IPY_MODEL_ef9e501936914e54a8849d3f805d3a69"
      }
     },
     "6d2a62a9b6ed4b21b4cd693fa8ce6d08": {
      "model_module": "@jupyter-widgets/base",
      "model_module_version": "1.0.0",
      "model_name": "LayoutModel",
      "state": {
       "width": "100%"
      }
     },
     "6d454fd683bb4e5db0608013aeceb3ad": {
      "model_module": "@jupyter-widgets/controls",
      "model_module_version": "1.0.0",
      "model_name": "IntSliderModel",
      "state": {
       "continuous_update": false,
       "description": "Dataset index",
       "layout": "IPY_MODEL_7555cd7e04ae43ac8e35e14a07f89a78",
       "max": 0,
       "style": "IPY_MODEL_d122989318524dc1b9adfc6c3456e331"
      }
     },
     "6d490ba1bdbd4496bbf3818bee4fc261": {
      "model_module": "@jupyter-widgets/base",
      "model_module_version": "1.0.0",
      "model_name": "LayoutModel",
      "state": {
       "width": "100%"
      }
     },
     "6db7ab9c17624a5290ec6a282867c1d8": {
      "model_module": "@jupyter-widgets/controls",
      "model_module_version": "1.0.0",
      "model_name": "DescriptionStyleModel",
      "state": {
       "description_width": "initial"
      }
     },
     "6e4105251e1143259c973ec7e045fcbd": {
      "model_module": "@jupyter-widgets/base",
      "model_module_version": "1.0.0",
      "model_name": "LayoutModel",
      "state": {
       "width": "25%"
      }
     },
     "6f290d7700a341a7ab000e8199464044": {
      "model_module": "@jupyter-widgets/base",
      "model_module_version": "1.0.0",
      "model_name": "LayoutModel",
      "state": {}
     },
     "6f41fefd61e944a6a0e68eb1ae44a136": {
      "model_module": "@jupyter-widgets/base",
      "model_module_version": "1.0.0",
      "model_name": "LayoutModel",
      "state": {}
     },
     "6fe2d914fa0e4e3abc229456a04bb969": {
      "model_module": "@jupyter-widgets/controls",
      "model_module_version": "1.0.0",
      "model_name": "DescriptionStyleModel",
      "state": {
       "description_width": "initial"
      }
     },
     "706228563a014a1680df17bc35dd153d": {
      "model_module": "@jupyter-widgets/controls",
      "model_module_version": "1.0.0",
      "model_name": "IntTextModel",
      "state": {
       "description": "Horizontal space between banks:",
       "layout": "IPY_MODEL_f494a18df62344c59518ff2b34eca1a1",
       "step": 1,
       "style": "IPY_MODEL_0e95bea24d6b496d90a92e3756990f80",
       "value": 150
      }
     },
     "706a68e4036d402898c417738213e776": {
      "model_module": "@jupyter-widgets/base",
      "model_module_version": "1.0.0",
      "model_name": "LayoutModel",
      "state": {}
     },
     "70b19d46118f4e40869c22c0c7ea96ae": {
      "model_module": "@jupyter-widgets/base",
      "model_module_version": "1.0.0",
      "model_name": "LayoutModel",
      "state": {}
     },
     "714e637d285941f6bbcab9f520f30fab": {
      "model_module": "@jupyter-widgets/base",
      "model_module_version": "1.0.0",
      "model_name": "LayoutModel",
      "state": {}
     },
     "72122d513dc542ae880b206ee2b722a2": {
      "model_module": "@jupyter-widgets/base",
      "model_module_version": "1.0.0",
      "model_name": "LayoutModel",
      "state": {}
     },
     "7293a97f692e4c18a0af36ed9ed9507e": {
      "model_module": "@jupyter-widgets/base",
      "model_module_version": "1.0.0",
      "model_name": "LayoutModel",
      "state": {
       "justify_content": "center",
       "overflow_x": "auto",
       "overflow_y": "auto",
       "width": "95%"
      }
     },
     "72e0f4f1533745d5b2c3dbef5a348bfb": {
      "model_module": "@jupyter-widgets/controls",
      "model_module_version": "1.0.0",
      "model_name": "DescriptionStyleModel",
      "state": {
       "description_width": "initial"
      }
     },
     "7385f6c2e61a43979a02807f5417871f": {
      "model_module": "@jupyter-widgets/controls",
      "model_module_version": "1.0.0",
      "model_name": "DescriptionStyleModel",
      "state": {
       "description_width": ""
      }
     },
     "73f6798e49164cb2991e3be863cb6947": {
      "model_module": "@jupyter-widgets/controls",
      "model_module_version": "1.0.0",
      "model_name": "DescriptionStyleModel",
      "state": {
       "description_width": ""
      }
     },
     "73fdabfc99e4475ca3e9abef01316a0c": {
      "model_module": "@jupyter-widgets/base",
      "model_module_version": "1.0.0",
      "model_name": "LayoutModel",
      "state": {}
     },
     "740eaafbc1e9436288fea675c74dcbf4": {
      "model_module": "@jupyter-widgets/controls",
      "model_module_version": "1.0.0",
      "model_name": "FloatTextModel",
      "state": {
       "description": "Leftmost color maps to:",
       "layout": "IPY_MODEL_5bb5c50d9d304041bfe265c71a18d03d",
       "step": null,
       "style": "IPY_MODEL_4983b5e028004586848fe773e70c2370"
      }
     },
     "74323a18ed3345a0985a59c59d7e49c5": {
      "model_module": "@jupyter-widgets/base",
      "model_module_version": "1.0.0",
      "model_name": "LayoutModel",
      "state": {}
     },
     "7555cd7e04ae43ac8e35e14a07f89a78": {
      "model_module": "@jupyter-widgets/base",
      "model_module_version": "1.0.0",
      "model_name": "LayoutModel",
      "state": {
       "width": "100%"
      }
     },
     "75903a6e322f4bffa2b5db3afbce9bde": {
      "model_module": "@jupyter-widgets/controls",
      "model_module_version": "1.0.0",
      "model_name": "IntTextModel",
      "state": {
       "description": "Feature to show:",
       "layout": "IPY_MODEL_fdf5c00fb0024bda910708dcb814935b",
       "step": 1,
       "style": "IPY_MODEL_488b0c8fb37241d8b8ba5fb98949b561"
      }
     },
     "75b03d1f75d34eefb5f9e6899d9f6899": {
      "model_module": "@jupyter-widgets/controls",
      "model_module_version": "1.0.0",
      "model_name": "DescriptionStyleModel",
      "state": {
       "description_width": ""
      }
     },
     "763ff53388c344d59d8a1e7022abb24e": {
      "model_module": "@jupyter-widgets/base",
      "model_module_version": "1.0.0",
      "model_name": "LayoutModel",
      "state": {}
     },
     "765f1112dd4c4c6798675d792d0247d5": {
      "model_module": "@jupyter-widgets/base",
      "model_module_version": "1.0.0",
      "model_name": "LayoutModel",
      "state": {}
     },
     "76f7f665b8854359ab93ab1147daa94f": {
      "model_module": "@jupyter-widgets/controls",
      "model_module_version": "1.0.0",
      "model_name": "DescriptionStyleModel",
      "state": {
       "description_width": ""
      }
     },
     "77d8785b3fab429fa19cbcf1b91d42a3": {
      "model_module": "@jupyter-widgets/base",
      "model_module_version": "1.0.0",
      "model_name": "LayoutModel",
      "state": {}
     },
     "780df59895e346ac8f6ca65a6ae06165": {
      "model_module": "@jupyter-widgets/controls",
      "model_module_version": "1.0.0",
      "model_name": "ButtonStyleModel",
      "state": {}
     },
     "78bef92496f2492289141e8eb73a1af3": {
      "model_module": "@jupyter-widgets/base",
      "model_module_version": "1.0.0",
      "model_name": "LayoutModel",
      "state": {
       "width": "100%"
      }
     },
     "7904a8d3fbcb4c65a7cc574fb60bc0e6": {
      "model_module": "@jupyter-widgets/controls",
      "model_module_version": "1.0.0",
      "model_name": "LabelModel",
      "state": {
       "layout": "IPY_MODEL_eafcae661bb04267b41ca25b1e91834a",
       "style": "IPY_MODEL_cca606642cae4e68b3bb9ef66210749f",
       "value": "of 0"
      }
     },
     "7a53c95e154c4874a63b335efaa5be9f": {
      "model_module": "@jupyter-widgets/controls",
      "model_module_version": "1.0.0",
      "model_name": "DescriptionStyleModel",
      "state": {
       "description_width": "initial"
      }
     },
     "7aa4162c5b014e94a77f19770305fd77": {
      "model_module": "@jupyter-widgets/base",
      "model_module_version": "1.0.0",
      "model_name": "LayoutModel",
      "state": {}
     },
     "7c72ebf6d0cc4d94a3d9cfba0e2540c5": {
      "model_module": "@jupyter-widgets/base",
      "model_module_version": "1.0.0",
      "model_name": "LayoutModel",
      "state": {
       "width": "100%"
      }
     },
     "7cb41573cdfb400e9a4d57765148a8f6": {
      "model_module": "@jupyter-widgets/controls",
      "model_module_version": "1.0.0",
      "model_name": "ButtonStyleModel",
      "state": {}
     },
     "7cca0f004e204da1b253b70e31d8703b": {
      "model_module": "@jupyter-widgets/controls",
      "model_module_version": "1.0.0",
      "model_name": "SelectModel",
      "state": {
       "_options_labels": [
        "Test",
        "Train"
       ],
       "description": "Dataset:",
       "index": 1,
       "layout": "IPY_MODEL_2ac8acde5bcd4d2f84a4749c05ccc470",
       "rows": 1,
       "style": "IPY_MODEL_e86c9da55be44b98865e650a5a6017ae"
      }
     },
     "7dc3ad89eae34310b9b7a241850350b1": {
      "model_module": "@jupyter-widgets/base",
      "model_module_version": "1.0.0",
      "model_name": "LayoutModel",
      "state": {
       "width": "100%"
      }
     },
     "7edd5dfc21ea405b9ab9c8f6ce77aaef": {
      "model_module": "@jupyter-widgets/controls",
      "model_module_version": "1.0.0",
      "model_name": "FloatSliderModel",
      "state": {
       "continuous_update": false,
       "description": "Zoom",
       "layout": "IPY_MODEL_c598f01f7ec24a40b898be83bb0231d4",
       "max": 3,
       "min": 0.5,
       "step": 0.1,
       "style": "IPY_MODEL_2e5f7c42b8294fbe9895dcd779a5c6c2",
       "value": 1.6
      }
     },
     "7f13dbf1903542e0afcf38fea9938bea": {
      "model_module": "@jupyter-widgets/controls",
      "model_module_version": "1.0.0",
      "model_name": "FloatTextModel",
      "state": {
       "description": "Leftmost color maps to:",
       "layout": "IPY_MODEL_146c657683374fac9d47045161559d6d",
       "step": null,
       "style": "IPY_MODEL_48e13f0545804d938a0596d2b3db5d0c",
       "value": -1
      }
     },
     "7f367b9e420b41a68510ed1d8a740f3c": {
      "model_module": "@jupyter-widgets/base",
      "model_module_version": "1.0.0",
      "model_name": "LayoutModel",
      "state": {}
     },
     "7f970335e9034874bd9f2a3bdcf98e57": {
      "model_module": "@jupyter-widgets/base",
      "model_module_version": "1.0.0",
      "model_name": "LayoutModel",
      "state": {}
     },
     "7fc68951278a48b7ba36b83023a33008": {
      "model_module": "@jupyter-widgets/base",
      "model_module_version": "1.0.0",
      "model_name": "LayoutModel",
      "state": {
       "width": "100%"
      }
     },
     "80674cc114b74804a255a2ef72219cac": {
      "model_module": "@jupyter-widgets/controls",
      "model_module_version": "1.0.0",
      "model_name": "SliderStyleModel",
      "state": {
       "description_width": ""
      }
     },
     "818ad743e1714d7cb58ba5e0546eb5fc": {
      "model_module": "@jupyter-widgets/controls",
      "model_module_version": "1.0.0",
      "model_name": "ButtonModel",
      "state": {
       "icon": "fast-forward",
       "layout": "IPY_MODEL_a90c1b5b665d49c59bbf2c1d37da7bed",
       "style": "IPY_MODEL_6a479aae197944eb8b1a70333ff32ff6"
      }
     },
     "819402d66fa14bb5a2b39dce5ffa33ab": {
      "model_module": "@jupyter-widgets/controls",
      "model_module_version": "1.0.0",
      "model_name": "IntTextModel",
      "state": {
       "description": "Feature to show:",
       "layout": "IPY_MODEL_645222c43c4e4ba5a4a83323dffc8be5",
       "step": 1,
       "style": "IPY_MODEL_72e0f4f1533745d5b2c3dbef5a348bfb"
      }
     },
     "82a50a94df924fb18dbc34983ad3077a": {
      "model_module": "@jupyter-widgets/base",
      "model_module_version": "1.0.0",
      "model_name": "LayoutModel",
      "state": {
       "width": "100%"
      }
     },
     "82c2070a548c4021a18fe3b8121239f0": {
      "model_module": "@jupyter-widgets/controls",
      "model_module_version": "1.0.0",
      "model_name": "SliderStyleModel",
      "state": {
       "description_width": ""
      }
     },
     "82f0e88100f94f8daf158ece8228df5c": {
      "model_module": "@jupyter-widgets/controls",
      "model_module_version": "1.0.0",
      "model_name": "VBoxModel",
      "state": {
       "children": [
        "IPY_MODEL_8f394418bf2348418ef1dd30d5b05494",
        "IPY_MODEL_e22ac612b90c47cf96a0bbc124a9cbb7",
        "IPY_MODEL_a8fa859525bc4465a5b6097372b2e648",
        "IPY_MODEL_e9f98836b8014f68b6567828d1f93417"
       ],
       "layout": "IPY_MODEL_be4048c2ce9a425eabf619184876f8e6"
      }
     },
     "830d0237dd544ee194a6f5b721ed69bd": {
      "model_module": "@jupyter-widgets/controls",
      "model_module_version": "1.0.0",
      "model_name": "DescriptionStyleModel",
      "state": {
       "description_width": "initial"
      }
     },
     "837a997b155a417e817877f05254c5d2": {
      "model_module": "@jupyter-widgets/controls",
      "model_module_version": "1.0.0",
      "model_name": "FloatTextModel",
      "state": {
       "description": "Rightmost color maps to:",
       "layout": "IPY_MODEL_b434d35bbb8a4cbda1ccaeadc8f2861a",
       "step": null,
       "style": "IPY_MODEL_d13153382fc24e69a02c82866eaa289c",
       "value": 1
      }
     },
     "8528ef20bff34ca1b4851fb459270a13": {
      "model_module": "@jupyter-widgets/controls",
      "model_module_version": "1.0.0",
      "model_name": "HTMLModel",
      "state": {
       "layout": "IPY_MODEL_2c5706d496ad422eb3cf18242440b4c7",
       "style": "IPY_MODEL_b2ffe66ea43b49ffb6ccfc1d01505dcd",
       "value": "<img src=\"data:image/gif;base64,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\"/>"
      }
     },
     "85928f79581d4c40b2def3dea9a7a24f": {
      "model_module": "@jupyter-widgets/controls",
      "model_module_version": "1.0.0",
      "model_name": "ButtonModel",
      "state": {
       "description": "Play",
       "icon": "play",
       "layout": "IPY_MODEL_52cc78e7acee408aa983a20ae78f0b09",
       "style": "IPY_MODEL_1a585d21ebae48eca26c0d67ed6e430b"
      }
     },
     "85a242858c4f42f49fb3acaa1f512c2e": {
      "model_module": "@jupyter-widgets/controls",
      "model_module_version": "1.0.0",
      "model_name": "SelectModel",
      "state": {
       "_options_labels": [
        "Test",
        "Train"
       ],
       "description": "Dataset:",
       "index": 1,
       "layout": "IPY_MODEL_01ce3f5e29014b0c970c6a9337495882",
       "rows": 1,
       "style": "IPY_MODEL_1fed749287564be7950abf39ee71aab1"
      }
     },
     "865574b49ecb44ec937ff09b886bd931": {
      "model_module": "@jupyter-widgets/controls",
      "model_module_version": "1.0.0",
      "model_name": "DescriptionStyleModel",
      "state": {
       "description_width": ""
      }
     },
     "86d1b516d9b64875a2b1150962ba4daa": {
      "model_module": "@jupyter-widgets/controls",
      "model_module_version": "1.0.0",
      "model_name": "DescriptionStyleModel",
      "state": {
       "description_width": ""
      }
     },
     "87d22ade3cd34484b10b815a877ef527": {
      "model_module": "@jupyter-widgets/base",
      "model_module_version": "1.0.0",
      "model_name": "LayoutModel",
      "state": {
       "width": "100%"
      }
     },
     "87d49d0e32054136a0c70cad42a0bb6b": {
      "model_module": "@jupyter-widgets/base",
      "model_module_version": "1.0.0",
      "model_name": "LayoutModel",
      "state": {
       "height": "40px"
      }
     },
     "888ee6faa8644ad886c670d8eca3f7dd": {
      "model_module": "@jupyter-widgets/controls",
      "model_module_version": "1.0.0",
      "model_name": "HBoxModel",
      "state": {
       "children": [
        "IPY_MODEL_18732705723641f4b7a8a25ae8df4540",
        "IPY_MODEL_e300d939a8bd44f8a9f05c8e2e3e2de1",
        "IPY_MODEL_c2ff6a07e55f4ac0a07c05b251210a35",
        "IPY_MODEL_cd6583d77a8d450a935f7d0a9ea916b0",
        "IPY_MODEL_c0d476610d434e699bc9745bac6b5a81",
        "IPY_MODEL_85928f79581d4c40b2def3dea9a7a24f",
        "IPY_MODEL_b3583c7aac3d4c2f9b6756b2d90a681a"
       ],
       "layout": "IPY_MODEL_a6fb01dc172e44139a717eb7dc72cfa7"
      }
     },
     "88ace079e1b143318d254eb71c248c89": {
      "model_module": "@jupyter-widgets/controls",
      "model_module_version": "1.0.0",
      "model_name": "ButtonModel",
      "state": {
       "icon": "fast-backward",
       "layout": "IPY_MODEL_0f8c1403993d4d168e687fde163cecc9",
       "style": "IPY_MODEL_15467d627eb94f80838ff2f12746a0fa"
      }
     },
     "88dee1cd19564587a700839b6dbf830d": {
      "model_module": "@jupyter-widgets/controls",
      "model_module_version": "1.0.0",
      "model_name": "IntSliderModel",
      "state": {
       "continuous_update": false,
       "description": "Dataset index",
       "layout": "IPY_MODEL_348dc24a8acd4f1bbf16dcea2506b9ee",
       "max": 3,
       "style": "IPY_MODEL_897da860f566431cb69ebc2ee1c4ff5f"
      }
     },
     "892e6cc49e024e9fb8b7bedbee8028ed": {
      "model_module": "@jupyter-widgets/base",
      "model_module_version": "1.0.0",
      "model_name": "LayoutModel",
      "state": {
       "width": "100%"
      }
     },
     "894f1a132ded4090805c101a2214bccd": {
      "model_module": "@jupyter-widgets/controls",
      "model_module_version": "1.0.0",
      "model_name": "ButtonStyleModel",
      "state": {}
     },
     "897da860f566431cb69ebc2ee1c4ff5f": {
      "model_module": "@jupyter-widgets/controls",
      "model_module_version": "1.0.0",
      "model_name": "SliderStyleModel",
      "state": {
       "description_width": ""
      }
     },
     "8995e01b73e94cc697711ec5438ecdc8": {
      "model_module": "@jupyter-widgets/base",
      "model_module_version": "1.0.0",
      "model_name": "LayoutModel",
      "state": {}
     },
     "89a4988e9efa4a9cbe7249ba124f0c1d": {
      "model_module": "@jupyter-widgets/controls",
      "model_module_version": "1.0.0",
      "model_name": "VBoxModel",
      "state": {
       "children": [
        "IPY_MODEL_a9218052d2604f86806a3105d89f797a",
        "IPY_MODEL_1facfd1b7c79463c8ce1e3283db2e5b1",
        "IPY_MODEL_d882ea236efe42c2b94bb8268c62251d",
        "IPY_MODEL_a204a68456784a62bbfdedc1d95e626a"
       ],
       "layout": "IPY_MODEL_4a64e757530f455c80aacc112da974fb"
      }
     },
     "8a4df310de2f44309eadf52ead0d30b5": {
      "model_module": "@jupyter-widgets/base",
      "model_module_version": "1.0.0",
      "model_name": "LayoutModel",
      "state": {
       "height": "50px",
       "width": "100%"
      }
     },
     "8a5dcc966d61465a956c85c9fc155aec": {
      "model_module": "@jupyter-widgets/controls",
      "model_module_version": "1.0.0",
      "model_name": "ButtonStyleModel",
      "state": {}
     },
     "8a80d52a3b83424e848bc7174fdac8da": {
      "model_module": "@jupyter-widgets/controls",
      "model_module_version": "1.0.0",
      "model_name": "ButtonStyleModel",
      "state": {}
     },
     "8acc6cc24399409e8b1a559963919b37": {
      "model_module": "@jupyter-widgets/base",
      "model_module_version": "1.0.0",
      "model_name": "LayoutModel",
      "state": {}
     },
     "8bb9c9109d88459eaa76ed2ecbd7835e": {
      "model_module": "@jupyter-widgets/base",
      "model_module_version": "1.0.0",
      "model_name": "LayoutModel",
      "state": {}
     },
     "8bec62ad8e0a4cd2a4268c850057e502": {
      "model_module": "@jupyter-widgets/controls",
      "model_module_version": "1.0.0",
      "model_name": "LabelModel",
      "state": {
       "layout": "IPY_MODEL_481262b4aa5b499cbda6190f69bcd4bd",
       "style": "IPY_MODEL_2481faefddd641c388b8b5ab5e704352",
       "value": "of 0"
      }
     },
     "8cc0f471eb0a42ae94ccb558aa037fae": {
      "model_module": "@jupyter-widgets/controls",
      "model_module_version": "1.0.0",
      "model_name": "HBoxModel",
      "state": {
       "children": [
        "IPY_MODEL_c7acfbafdc6d4c729f63afa10b85f7ee",
        "IPY_MODEL_4fd13936dd4d42ecba64e41db87d976d"
       ],
       "layout": "IPY_MODEL_9a23896a86a44ec3bddad7a612458cd7"
      }
     },
     "8d06842b4e1548a7a98860b3eb755b94": {
      "model_module": "@jupyter-widgets/controls",
      "model_module_version": "1.0.0",
      "model_name": "SelectModel",
      "state": {
       "_options_labels": [
        "Test",
        "Train"
       ],
       "description": "Dataset:",
       "index": 1,
       "layout": "IPY_MODEL_4eda9b2b4a8f4a8cbf997e5a25e1f14f",
       "rows": 1,
       "style": "IPY_MODEL_b28b2aefcef24150a5c622d14399213f"
      }
     },
     "8d7c22e1b06b448f8a747e14620a09fc": {
      "model_module": "@jupyter-widgets/base",
      "model_module_version": "1.0.0",
      "model_name": "LayoutModel",
      "state": {}
     },
     "8d82bb97bdda40e0b2d14d8fd572e2f5": {
      "model_module": "@jupyter-widgets/base",
      "model_module_version": "1.0.0",
      "model_name": "LayoutModel",
      "state": {
       "width": "100%"
      }
     },
     "8d9785089fb2457589b241d8e4f474b9": {
      "model_module": "@jupyter-widgets/controls",
      "model_module_version": "1.0.0",
      "model_name": "ButtonStyleModel",
      "state": {}
     },
     "8df45dbd184f4dd09d6108d43e19aad0": {
      "model_module": "@jupyter-widgets/base",
      "model_module_version": "1.0.0",
      "model_name": "LayoutModel",
      "state": {
       "width": "25%"
      }
     },
     "8e85e7a0ea6741679b5303201c293cec": {
      "model_module": "@jupyter-widgets/controls",
      "model_module_version": "1.0.0",
      "model_name": "DescriptionStyleModel",
      "state": {
       "description_width": ""
      }
     },
     "8ebc45bfb1834e96a41d0ea24713b567": {
      "model_module": "@jupyter-widgets/controls",
      "model_module_version": "1.0.0",
      "model_name": "FloatSliderModel",
      "state": {
       "continuous_update": false,
       "description": "Zoom",
       "layout": "IPY_MODEL_12aa03d86a9a456fba485aaf7aebe9f0",
       "max": 3,
       "min": 0.5,
       "step": 0.1,
       "style": "IPY_MODEL_c79ed401680347bf80126d847dc420a7",
       "value": 1
      }
     },
     "8f2875c96f0843f69b6bbafee303d833": {
      "model_module": "@jupyter-widgets/controls",
      "model_module_version": "1.0.0",
      "model_name": "DescriptionStyleModel",
      "state": {
       "description_width": ""
      }
     },
     "8f324444b079475b8d82a7941a97c4d3": {
      "model_module": "@jupyter-widgets/controls",
      "model_module_version": "1.0.0",
      "model_name": "IntSliderModel",
      "state": {
       "continuous_update": false,
       "description": "Dataset index",
       "layout": "IPY_MODEL_ca9c402ffd6d4748964c4bd2fad2ffe4",
       "max": 3,
       "style": "IPY_MODEL_02012f1f1dba4a25b987352ab435fc7c"
      }
     },
     "8f394418bf2348418ef1dd30d5b05494": {
      "model_module": "@jupyter-widgets/controls",
      "model_module_version": "1.0.0",
      "model_name": "AccordionModel",
      "state": {
       "_titles": {
        "0": "XOR2 Network"
       },
       "children": [
        "IPY_MODEL_b43807816a984ab2881f97842b29595f"
       ],
       "layout": "IPY_MODEL_4a4f9be3059b47be85e37bf2e7654ff2",
       "selected_index": null
      }
     },
     "8f75d73c65c54d35b26a84718fcb2368": {
      "model_module": "@jupyter-widgets/controls",
      "model_module_version": "1.0.0",
      "model_name": "HBoxModel",
      "state": {
       "children": [
        "IPY_MODEL_10749716a3d445f2805076a033570f3c",
        "IPY_MODEL_1b37df4b95ee4df892faa1cad0135e90"
       ],
       "layout": "IPY_MODEL_440685ce5c98458ead19e1cc654ec622"
      }
     },
     "8f938f9798614f99be606a47564d5c2e": {
      "model_module": "@jupyter-widgets/controls",
      "model_module_version": "1.0.0",
      "model_name": "HTMLModel",
      "state": {
       "layout": "IPY_MODEL_fb3c18c8bb3f44b88f0514e6f4943e0b",
       "style": "IPY_MODEL_a9314411df974c45aa045d91c80c3484",
       "value": "<img src=\"data:image/gif;base64,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\"/>"
      }
     },
     "8fce38e49a0c46a3a30a4476fa38629b": {
      "model_module": "@jupyter-widgets/controls",
      "model_module_version": "1.0.0",
      "model_name": "AccordionModel",
      "state": {
       "_titles": {
        "0": "XOR2 Network"
       },
       "children": [
        "IPY_MODEL_2c5364a66c9248299b161b052c854316"
       ],
       "layout": "IPY_MODEL_987a3b5b7de74ab2b71297d0063a0dd3",
       "selected_index": null
      }
     },
     "90311ac86b7844758334be70daaca731": {
      "model_module": "@jupyter-widgets/controls",
      "model_module_version": "1.0.0",
      "model_name": "IntTextModel",
      "state": {
       "description": "Horizontal space between banks:",
       "layout": "IPY_MODEL_7aa4162c5b014e94a77f19770305fd77",
       "step": 1,
       "style": "IPY_MODEL_561d7e11efe84881a096c581cb9844fa",
       "value": 200
      }
     },
     "9068e4b2119d46958aab03ee0fc4e326": {
      "model_module": "@jupyter-widgets/base",
      "model_module_version": "1.0.0",
      "model_name": "LayoutModel",
      "state": {
       "width": "100px"
      }
     },
     "908cf759a71747348f8902f115a5cb67": {
      "model_module": "@jupyter-widgets/controls",
      "model_module_version": "1.0.0",
      "model_name": "HBoxModel",
      "state": {
       "children": [
        "IPY_MODEL_216a972f9f39433285951b95909f6db2",
        "IPY_MODEL_58e9dfac34a34e94913046df440faec1"
       ],
       "layout": "IPY_MODEL_6055dc4510e147069cf5bf326540751c"
      }
     },
     "90d218e3162249ca96a964497c0ff8d5": {
      "model_module": "@jupyter-widgets/controls",
      "model_module_version": "1.0.0",
      "model_name": "ButtonModel",
      "state": {
       "icon": "fast-forward",
       "layout": "IPY_MODEL_21b7407f10e54f37b19b1565e313455f",
       "style": "IPY_MODEL_e240c1464e2a4f12a08825c90910caa2"
      }
     },
     "912f9b50bac24411bcec1534aff0491e": {
      "model_module": "@jupyter-widgets/base",
      "model_module_version": "1.0.0",
      "model_name": "LayoutModel",
      "state": {
       "height": "50px",
       "width": "100%"
      }
     },
     "914de93b26fe4ba1a7a9be4d3a4878ef": {
      "model_module": "@jupyter-widgets/base",
      "model_module_version": "1.0.0",
      "model_name": "LayoutModel",
      "state": {
       "width": "100%"
      }
     },
     "91c585a5eb90439081f6e6ef2bb9e99e": {
      "model_module": "@jupyter-widgets/base",
      "model_module_version": "1.0.0",
      "model_name": "LayoutModel",
      "state": {}
     },
     "929497d068b24bcfbf481e68989572be": {
      "model_module": "@jupyter-widgets/base",
      "model_module_version": "1.0.0",
      "model_name": "LayoutModel",
      "state": {
       "justify_content": "center",
       "overflow_x": "auto",
       "overflow_y": "auto",
       "width": "95%"
      }
     },
     "929ae38ad85b42b691ad8278452b97ad": {
      "model_module": "@jupyter-widgets/controls",
      "model_module_version": "1.0.0",
      "model_name": "DescriptionStyleModel",
      "state": {
       "description_width": "initial"
      }
     },
     "9355c72873f94bd79fe267f49a8b214d": {
      "model_module": "@jupyter-widgets/controls",
      "model_module_version": "1.0.0",
      "model_name": "FloatTextModel",
      "state": {
       "description": "Leftmost color maps to:",
       "layout": "IPY_MODEL_39ee2e7a2e6a42cc896f1181cb1bc5d3",
       "step": null,
       "style": "IPY_MODEL_fcdb4586743a467c9d911766ee3d5634",
       "value": -1
      }
     },
     "94a1fa079c4a4d8e84f279918cabd9f2": {
      "model_module": "@jupyter-widgets/controls",
      "model_module_version": "1.0.0",
      "model_name": "HBoxModel",
      "state": {
       "children": [
        "IPY_MODEL_9b8ae87d0b6d49c0a62780a2181a5623",
        "IPY_MODEL_8bec62ad8e0a4cd2a4268c850057e502"
       ],
       "layout": "IPY_MODEL_fe2ad63ffe39442fb6ed011391247fdc"
      }
     },
     "94b6dc05e7e34502ad535def4dc718bc": {
      "model_module": "@jupyter-widgets/base",
      "model_module_version": "1.0.0",
      "model_name": "LayoutModel",
      "state": {
       "width": "100%"
      }
     },
     "9529dd6b5dbe43e88ca306a1b05a8776": {
      "model_module": "@jupyter-widgets/controls",
      "model_module_version": "1.0.0",
      "model_name": "IntTextModel",
      "state": {
       "layout": "IPY_MODEL_cf6abc42d51a4b0d9e3d70c4210075a1",
       "step": 1,
       "style": "IPY_MODEL_4cd609a964674b6184a576ca95508d6c"
      }
     },
     "95c13b187a4c42e9b1141611d5c31a68": {
      "model_module": "@jupyter-widgets/controls",
      "model_module_version": "1.0.0",
      "model_name": "DescriptionStyleModel",
      "state": {
       "description_width": ""
      }
     },
     "95cf882b6fb54a33b813ababa8406668": {
      "model_module": "@jupyter-widgets/base",
      "model_module_version": "1.0.0",
      "model_name": "LayoutModel",
      "state": {}
     },
     "960ea6e7d1f64aff85448230a4e458ba": {
      "model_module": "@jupyter-widgets/controls",
      "model_module_version": "1.0.0",
      "model_name": "SelectModel",
      "state": {
       "_options_labels": [
        "input1",
        "input2",
        "hidden1",
        "hidden2",
        "shared-hidden",
        "output1",
        "output2"
       ],
       "description": "Layer:",
       "index": 6,
       "layout": "IPY_MODEL_c95ed0ffd57240f688f575759ec8f5de",
       "rows": 1,
       "style": "IPY_MODEL_519d596ad28c4f2f84b8db0187b57a18"
      }
     },
     "965fefa61e1a41e5b42803f3156aa187": {
      "model_module": "@jupyter-widgets/base",
      "model_module_version": "1.0.0",
      "model_name": "LayoutModel",
      "state": {}
     },
     "968d6d88cc3d4122adcc90dc379469d3": {
      "model_module": "@jupyter-widgets/base",
      "model_module_version": "1.0.0",
      "model_name": "LayoutModel",
      "state": {}
     },
     "972d185fad2244eca74bc6dad17d153f": {
      "model_module": "@jupyter-widgets/controls",
      "model_module_version": "1.0.0",
      "model_name": "ButtonModel",
      "state": {
       "icon": "fast-forward",
       "layout": "IPY_MODEL_a9fbaf491bd44825b7d376642cc97dc7",
       "style": "IPY_MODEL_b7a0d420907242fd86c7713795f1680c"
      }
     },
     "9858f3a92a9a4f01b68fd6cb285b95d9": {
      "model_module": "@jupyter-widgets/controls",
      "model_module_version": "1.0.0",
      "model_name": "ButtonStyleModel",
      "state": {}
     },
     "987a3b5b7de74ab2b71297d0063a0dd3": {
      "model_module": "@jupyter-widgets/base",
      "model_module_version": "1.0.0",
      "model_name": "LayoutModel",
      "state": {}
     },
     "9919e5da29574e39ab12372d70c46d3b": {
      "model_module": "@jupyter-widgets/base",
      "model_module_version": "1.0.0",
      "model_name": "LayoutModel",
      "state": {
       "width": "100%"
      }
     },
     "99358d45b7214b33b804f3f60c111270": {
      "model_module": "@jupyter-widgets/controls",
      "model_module_version": "1.0.0",
      "model_name": "VBoxModel",
      "state": {
       "children": [
        "IPY_MODEL_a2f4a838a6994d8c908dd7291d119f97",
        "IPY_MODEL_bfbb7086000841088cb0bff98586d703",
        "IPY_MODEL_9c56e01b97fb453285b6314265355bdd",
        "IPY_MODEL_f984f831f17f46fab4e78f525a1d0347",
        "IPY_MODEL_3d609371489f494f8fd645eb1da4247d",
        "IPY_MODEL_837a997b155a417e817877f05254c5d2",
        "IPY_MODEL_75903a6e322f4bffa2b5db3afbce9bde"
       ],
       "layout": "IPY_MODEL_fd9c7b739fbb47a398094dcc38f8999a"
      }
     },
     "99443e3f83b047b2b1b511c9a6e9a2c3": {
      "model_module": "@jupyter-widgets/controls",
      "model_module_version": "1.0.0",
      "model_name": "CheckboxModel",
      "state": {
       "description": "Visible",
       "disabled": false,
       "layout": "IPY_MODEL_0733ab47b5cd42a78da6c77993e20fa5",
       "style": "IPY_MODEL_3133eee84948489c9c43fb9e97843f91",
       "value": true
      }
     },
     "9969f1ce9814411f9f7c896b38b063c1": {
      "model_module": "@jupyter-widgets/base",
      "model_module_version": "1.0.0",
      "model_name": "LayoutModel",
      "state": {
       "width": "100%"
      }
     },
     "99809ffc6a5e479497af333273fef7cd": {
      "model_module": "@jupyter-widgets/base",
      "model_module_version": "1.0.0",
      "model_name": "LayoutModel",
      "state": {}
     },
     "9a23896a86a44ec3bddad7a612458cd7": {
      "model_module": "@jupyter-widgets/base",
      "model_module_version": "1.0.0",
      "model_name": "LayoutModel",
      "state": {}
     },
     "9a72583b9f2644d985c722a36968d771": {
      "model_module": "@jupyter-widgets/base",
      "model_module_version": "1.0.0",
      "model_name": "LayoutModel",
      "state": {
       "width": "100%"
      }
     },
     "9b12720c9550478c8bcc9771b07625dd": {
      "model_module": "@jupyter-widgets/controls",
      "model_module_version": "1.0.0",
      "model_name": "VBoxModel",
      "state": {
       "children": [
        "IPY_MODEL_1fbf4ffd868f44dab71516fb45c5b2bb",
        "IPY_MODEL_d50b4ba3fdf046f6aab3ed8c23733c34"
       ],
       "layout": "IPY_MODEL_a95b5ee0c2804586a601c944b8a8f601"
      }
     },
     "9b8ae87d0b6d49c0a62780a2181a5623": {
      "model_module": "@jupyter-widgets/controls",
      "model_module_version": "1.0.0",
      "model_name": "IntSliderModel",
      "state": {
       "continuous_update": false,
       "description": "Dataset index",
       "layout": "IPY_MODEL_5bcee508908e4e05a2f78669b02734a4",
       "max": 3,
       "style": "IPY_MODEL_80674cc114b74804a255a2ef72219cac"
      }
     },
     "9be23eac3364446a9319a59e422697a0": {
      "model_module": "@jupyter-widgets/controls",
      "model_module_version": "1.0.0",
      "model_name": "ButtonStyleModel",
      "state": {}
     },
     "9c56e01b97fb453285b6314265355bdd": {
      "model_module": "@jupyter-widgets/controls",
      "model_module_version": "1.0.0",
      "model_name": "SelectModel",
      "state": {
       "_options_labels": [
        "",
        "Accent",
        "Accent_r",
        "Blues",
        "Blues_r",
        "BrBG",
        "BrBG_r",
        "BuGn",
        "BuGn_r",
        "BuPu",
        "BuPu_r",
        "CMRmap",
        "CMRmap_r",
        "Dark2",
        "Dark2_r",
        "GnBu",
        "GnBu_r",
        "Greens",
        "Greens_r",
        "Greys",
        "Greys_r",
        "OrRd",
        "OrRd_r",
        "Oranges",
        "Oranges_r",
        "PRGn",
        "PRGn_r",
        "Paired",
        "Paired_r",
        "Pastel1",
        "Pastel1_r",
        "Pastel2",
        "Pastel2_r",
        "PiYG",
        "PiYG_r",
        "PuBu",
        "PuBuGn",
        "PuBuGn_r",
        "PuBu_r",
        "PuOr",
        "PuOr_r",
        "PuRd",
        "PuRd_r",
        "Purples",
        "Purples_r",
        "RdBu",
        "RdBu_r",
        "RdGy",
        "RdGy_r",
        "RdPu",
        "RdPu_r",
        "RdYlBu",
        "RdYlBu_r",
        "RdYlGn",
        "RdYlGn_r",
        "Reds",
        "Reds_r",
        "Set1",
        "Set1_r",
        "Set2",
        "Set2_r",
        "Set3",
        "Set3_r",
        "Spectral",
        "Spectral_r",
        "Vega10",
        "Vega10_r",
        "Vega20",
        "Vega20_r",
        "Vega20b",
        "Vega20b_r",
        "Vega20c",
        "Vega20c_r",
        "Wistia",
        "Wistia_r",
        "YlGn",
        "YlGnBu",
        "YlGnBu_r",
        "YlGn_r",
        "YlOrBr",
        "YlOrBr_r",
        "YlOrRd",
        "YlOrRd_r",
        "afmhot",
        "afmhot_r",
        "autumn",
        "autumn_r",
        "binary",
        "binary_r",
        "bone",
        "bone_r",
        "brg",
        "brg_r",
        "bwr",
        "bwr_r",
        "cool",
        "cool_r",
        "coolwarm",
        "coolwarm_r",
        "copper",
        "copper_r",
        "cubehelix",
        "cubehelix_r",
        "flag",
        "flag_r",
        "gist_earth",
        "gist_earth_r",
        "gist_gray",
        "gist_gray_r",
        "gist_heat",
        "gist_heat_r",
        "gist_ncar",
        "gist_ncar_r",
        "gist_rainbow",
        "gist_rainbow_r",
        "gist_stern",
        "gist_stern_r",
        "gist_yarg",
        "gist_yarg_r",
        "gnuplot",
        "gnuplot2",
        "gnuplot2_r",
        "gnuplot_r",
        "gray",
        "gray_r",
        "hot",
        "hot_r",
        "hsv",
        "hsv_r",
        "inferno",
        "inferno_r",
        "jet",
        "jet_r",
        "magma",
        "magma_r",
        "nipy_spectral",
        "nipy_spectral_r",
        "ocean",
        "ocean_r",
        "pink",
        "pink_r",
        "plasma",
        "plasma_r",
        "prism",
        "prism_r",
        "rainbow",
        "rainbow_r",
        "seismic",
        "seismic_r",
        "spectral",
        "spectral_r",
        "spring",
        "spring_r",
        "summer",
        "summer_r",
        "tab10",
        "tab10_r",
        "tab20",
        "tab20_r",
        "tab20b",
        "tab20b_r",
        "tab20c",
        "tab20c_r",
        "terrain",
        "terrain_r",
        "viridis",
        "viridis_r",
        "winter",
        "winter_r"
       ],
       "description": "Colormap:",
       "index": 0,
       "layout": "IPY_MODEL_577ecc573e8a4287bff2858034e8f45f",
       "rows": 1,
       "style": "IPY_MODEL_4223ed9aeed84215a63a962d86ef1831"
      }
     },
     "9c92caa64d4640ef846569156f8b2f63": {
      "model_module": "@jupyter-widgets/controls",
      "model_module_version": "1.0.0",
      "model_name": "DescriptionStyleModel",
      "state": {
       "description_width": ""
      }
     },
     "9cfb91175a544c93b7d55b86f8397d1c": {
      "model_module": "@jupyter-widgets/base",
      "model_module_version": "1.0.0",
      "model_name": "LayoutModel",
      "state": {
       "height": "50px",
       "width": "100%"
      }
     },
     "9d8f45eecd9c4f0d9b75e64d717e3a92": {
      "model_module": "@jupyter-widgets/controls",
      "model_module_version": "1.0.0",
      "model_name": "ButtonStyleModel",
      "state": {}
     },
     "9da815210f5844599421f5f4404cce0c": {
      "model_module": "@jupyter-widgets/controls",
      "model_module_version": "1.0.0",
      "model_name": "DescriptionStyleModel",
      "state": {
       "description_width": "initial"
      }
     },
     "9e11ffe472424d9186335a75da60c82d": {
      "model_module": "@jupyter-widgets/base",
      "model_module_version": "1.0.0",
      "model_name": "LayoutModel",
      "state": {}
     },
     "9e9a38cb76464278bb8be40a9915618d": {
      "model_module": "@jupyter-widgets/controls",
      "model_module_version": "1.0.0",
      "model_name": "IntTextModel",
      "state": {
       "description": "Feature columns:",
       "layout": "IPY_MODEL_563d85bde0cd49208eaa255054db2e52",
       "step": 1,
       "style": "IPY_MODEL_dc756a49778f4ae1a4e47199e7859cba",
       "value": 3
      }
     },
     "9f12c2b6535f4fcb95df7c75eebbd724": {
      "model_module": "@jupyter-widgets/controls",
      "model_module_version": "1.0.0",
      "model_name": "VBoxModel",
      "state": {
       "children": [
        "IPY_MODEL_8fce38e49a0c46a3a30a4476fa38629b",
        "IPY_MODEL_9b12720c9550478c8bcc9771b07625dd",
        "IPY_MODEL_4ea3e3261a9a40cf82c61d9fe01fb235",
        "IPY_MODEL_54a9a44c78f34ec396ac178cca436d0f"
       ],
       "layout": "IPY_MODEL_124b411ea78c4113a90ff4641875405a"
      }
     },
     "a204a68456784a62bbfdedc1d95e626a": {
      "model_module": "@jupyter-widgets/output",
      "model_module_version": "1.0.0",
      "model_name": "OutputModel",
      "state": {
       "layout": "IPY_MODEL_f671bddd480848e286bb0489cd18d107"
      }
     },
     "a2f4a838a6994d8c908dd7291d119f97": {
      "model_module": "@jupyter-widgets/controls",
      "model_module_version": "1.0.0",
      "model_name": "SelectModel",
      "state": {
       "_options_labels": [
        "input",
        "hidden",
        "output"
       ],
       "description": "Layer:",
       "index": 2,
       "layout": "IPY_MODEL_55b5fe2dde444721b1230f590dda45f6",
       "rows": 1,
       "style": "IPY_MODEL_b9dd9552f28a4962a6f7d832e63fa809"
      }
     },
     "a41c053ee42c4d37a8b91f51618c876a": {
      "model_module": "@jupyter-widgets/base",
      "model_module_version": "1.0.0",
      "model_name": "LayoutModel",
      "state": {
       "width": "25%"
      }
     },
     "a4471189aca9418facb74932e7acec84": {
      "model_module": "@jupyter-widgets/base",
      "model_module_version": "1.0.0",
      "model_name": "LayoutModel",
      "state": {
       "justify_content": "center",
       "overflow_x": "auto",
       "overflow_y": "auto",
       "width": "95%"
      }
     },
     "a458788771d14397b80b5c8e4b98cc7d": {
      "model_module": "@jupyter-widgets/controls",
      "model_module_version": "1.0.0",
      "model_name": "ButtonModel",
      "state": {
       "icon": "forward",
       "layout": "IPY_MODEL_0983c26d2c4d4aaeb1b5f7d8de0d7dbf",
       "style": "IPY_MODEL_eec56a4950414e9d94bfe4e777c93244"
      }
     },
     "a546ecb3557648c0908d6be96ce0c0dc": {
      "model_module": "@jupyter-widgets/base",
      "model_module_version": "1.0.0",
      "model_name": "LayoutModel",
      "state": {
       "height": "40px"
      }
     },
     "a55b5befafcf4f0c979b518a7c255273": {
      "model_module": "@jupyter-widgets/base",
      "model_module_version": "1.0.0",
      "model_name": "LayoutModel",
      "state": {}
     },
     "a65993399d1448fc8da38c6d0053d58f": {
      "model_module": "@jupyter-widgets/base",
      "model_module_version": "1.0.0",
      "model_name": "LayoutModel",
      "state": {}
     },
     "a6b3dfbf8cb54577be711de8e563d97e": {
      "model_module": "@jupyter-widgets/controls",
      "model_module_version": "1.0.0",
      "model_name": "IntSliderModel",
      "state": {
       "continuous_update": false,
       "description": "Dataset index",
       "layout": "IPY_MODEL_2d7d16a7a43d4cae8f894bf7bd8d22d5",
       "max": 0,
       "style": "IPY_MODEL_337b165dbeb34e74a0df9365723c6895"
      }
     },
     "a6ceb47c9b7840fab44439492391cab5": {
      "model_module": "@jupyter-widgets/base",
      "model_module_version": "1.0.0",
      "model_name": "LayoutModel",
      "state": {}
     },
     "a6dad20a8c204f0880ca6fa134de5aff": {
      "model_module": "@jupyter-widgets/base",
      "model_module_version": "1.0.0",
      "model_name": "LayoutModel",
      "state": {}
     },
     "a6fb01dc172e44139a717eb7dc72cfa7": {
      "model_module": "@jupyter-widgets/base",
      "model_module_version": "1.0.0",
      "model_name": "LayoutModel",
      "state": {
       "height": "50px",
       "width": "100%"
      }
     },
     "a71bf1c10b8f47d1a9cc44e3e50ea352": {
      "model_module": "@jupyter-widgets/controls",
      "model_module_version": "1.0.0",
      "model_name": "IntTextModel",
      "state": {
       "layout": "IPY_MODEL_d684c5fe52414aa8ba0ba33d6b099539",
       "step": 1,
       "style": "IPY_MODEL_1c6cb839bbbc48ab869247774a9b0902"
      }
     },
     "a74c02d2f150440882686bd2e67c9583": {
      "model_module": "@jupyter-widgets/controls",
      "model_module_version": "1.0.0",
      "model_name": "SelectModel",
      "state": {
       "_options_labels": [
        "",
        "Accent",
        "Accent_r",
        "Blues",
        "Blues_r",
        "BrBG",
        "BrBG_r",
        "BuGn",
        "BuGn_r",
        "BuPu",
        "BuPu_r",
        "CMRmap",
        "CMRmap_r",
        "Dark2",
        "Dark2_r",
        "GnBu",
        "GnBu_r",
        "Greens",
        "Greens_r",
        "Greys",
        "Greys_r",
        "OrRd",
        "OrRd_r",
        "Oranges",
        "Oranges_r",
        "PRGn",
        "PRGn_r",
        "Paired",
        "Paired_r",
        "Pastel1",
        "Pastel1_r",
        "Pastel2",
        "Pastel2_r",
        "PiYG",
        "PiYG_r",
        "PuBu",
        "PuBuGn",
        "PuBuGn_r",
        "PuBu_r",
        "PuOr",
        "PuOr_r",
        "PuRd",
        "PuRd_r",
        "Purples",
        "Purples_r",
        "RdBu",
        "RdBu_r",
        "RdGy",
        "RdGy_r",
        "RdPu",
        "RdPu_r",
        "RdYlBu",
        "RdYlBu_r",
        "RdYlGn",
        "RdYlGn_r",
        "Reds",
        "Reds_r",
        "Set1",
        "Set1_r",
        "Set2",
        "Set2_r",
        "Set3",
        "Set3_r",
        "Spectral",
        "Spectral_r",
        "Vega10",
        "Vega10_r",
        "Vega20",
        "Vega20_r",
        "Vega20b",
        "Vega20b_r",
        "Vega20c",
        "Vega20c_r",
        "Wistia",
        "Wistia_r",
        "YlGn",
        "YlGnBu",
        "YlGnBu_r",
        "YlGn_r",
        "YlOrBr",
        "YlOrBr_r",
        "YlOrRd",
        "YlOrRd_r",
        "afmhot",
        "afmhot_r",
        "autumn",
        "autumn_r",
        "binary",
        "binary_r",
        "bone",
        "bone_r",
        "brg",
        "brg_r",
        "bwr",
        "bwr_r",
        "cool",
        "cool_r",
        "coolwarm",
        "coolwarm_r",
        "copper",
        "copper_r",
        "cubehelix",
        "cubehelix_r",
        "flag",
        "flag_r",
        "gist_earth",
        "gist_earth_r",
        "gist_gray",
        "gist_gray_r",
        "gist_heat",
        "gist_heat_r",
        "gist_ncar",
        "gist_ncar_r",
        "gist_rainbow",
        "gist_rainbow_r",
        "gist_stern",
        "gist_stern_r",
        "gist_yarg",
        "gist_yarg_r",
        "gnuplot",
        "gnuplot2",
        "gnuplot2_r",
        "gnuplot_r",
        "gray",
        "gray_r",
        "hot",
        "hot_r",
        "hsv",
        "hsv_r",
        "inferno",
        "inferno_r",
        "jet",
        "jet_r",
        "magma",
        "magma_r",
        "nipy_spectral",
        "nipy_spectral_r",
        "ocean",
        "ocean_r",
        "pink",
        "pink_r",
        "plasma",
        "plasma_r",
        "prism",
        "prism_r",
        "rainbow",
        "rainbow_r",
        "seismic",
        "seismic_r",
        "spectral",
        "spectral_r",
        "spring",
        "spring_r",
        "summer",
        "summer_r",
        "tab10",
        "tab10_r",
        "tab20",
        "tab20_r",
        "tab20b",
        "tab20b_r",
        "tab20c",
        "tab20c_r",
        "terrain",
        "terrain_r",
        "viridis",
        "viridis_r",
        "winter",
        "winter_r"
       ],
       "description": "Colormap:",
       "index": 0,
       "layout": "IPY_MODEL_38857e0b0e4144c0b46e419ee77c45e7",
       "rows": 1,
       "style": "IPY_MODEL_b4b5f3a953a04514bd9685418ecf15db"
      }
     },
     "a7e626fa3145468da39ecc5f443ae065": {
      "model_module": "@jupyter-widgets/base",
      "model_module_version": "1.0.0",
      "model_name": "LayoutModel",
      "state": {
       "height": "40px"
      }
     },
     "a857290f9cc0486b813f5205cb378eff": {
      "model_module": "@jupyter-widgets/controls",
      "model_module_version": "1.0.0",
      "model_name": "DescriptionStyleModel",
      "state": {
       "description_width": ""
      }
     },
     "a8d4c53ba38942d4876c3a7ee8085a91": {
      "model_module": "@jupyter-widgets/controls",
      "model_module_version": "1.0.0",
      "model_name": "IntTextModel",
      "state": {
       "description": "Feature to show:",
       "layout": "IPY_MODEL_bf34dc414dc44f999f75572aaf1bb63e",
       "step": 1,
       "style": "IPY_MODEL_37eb40c5a6b04a2c8761085ab4281fd7"
      }
     },
     "a8fa859525bc4465a5b6097372b2e648": {
      "model_module": "@jupyter-widgets/controls",
      "model_module_version": "1.0.0",
      "model_name": "HTMLModel",
      "state": {
       "layout": "IPY_MODEL_c8a57a746d094d41a3ee647249560eca",
       "style": "IPY_MODEL_a857290f9cc0486b813f5205cb378eff",
       "value": "<p style=\"text-align:center\"><svg id='XOR2 Network' xmlns='http://www.w3.org/2000/svg' viewBox=\"0 0 800 305\" height=\"780\" image-rendering=\"pixelated\">\n    <defs>\n        <marker id=\"arrow\" markerWidth=\"10\" markerHeight=\"10\" refX=\"9\" refY=\"3\" orient=\"auto\" markerUnits=\"strokeWidth\">\n          <path d=\"M0,0 L0,6 L9,3 z\" fill=\"black\" />\n        </marker>\n    </defs><text x=\"400.0\" y=\"12.5\" font-family=\"monospace\" font-size=\"15\" text-anchor=\"middle\" alignment-baseline=\"central\">XOR2 Network</text><rect x=\"240.66666666666669\" y=\"24\" width=\"52\" height=\"52\" style=\"fill:none;stroke:black;stroke-width:2\"/><image id=\"XOR2 Network_output1_8\" class=\"XOR2 Network_output1\" x=\"241.66666666666669\" y=\"25\" height=\"50\" width=\"50\" preserveAspectRatio=\"none\" href=\"data:image/gif;base64,R0lGODdhAQABAIcAAAAAvwAAAAAAAAAAAAAAAAAAAAAAAAAAAAAAAAAAAAAAAAAAAAAAAAAAAAAAAAAAAAAAAAAAAAAAAAAAAAAAAAAAAAAAAAAAAAAAAAAAAAAAAAAAAAAAAAAAAAAAAAAAAAAAAAAAAAAAAAAAAAAAAAAAAAAAAAAAAAAAAAAAAAAAAAAAAAAAAAAAAAAAAAAAAAAAAAAAAAAAAAAAAAAAAAAAAAAAAAAAAAAAAAAAAAAAAAAAAAAAAAAAAAAAAAAAAAAAAAAAAAAAAAAAAAAAAAAAAAAAAAAAAAAAAAAAAAAAAAAAAAAAAAAAAAAAAAAAAAAAAAAAAAAAAAAAAAAAAAAAAAAAAAAAAAAAAAAAAAAAAAAAAAAAAAAAAAAAAAAAAAAAAAAAAAAAAAAAAAAAAAAAAAAAAAAAAAAAAAAAAAAAAAAAAAAAAAAAAAAAAAAAAAAAAAAAAAAAAAAAAAAAAAAAAAAAAAAAAAAAAAAAAAAAAAAAAAAAAAAAAAAAAAAAAAAAAAAAAAAAAAAAAAAAAAAAAAAAAAAAAAAAAAAAAAAAAAAAAAAAAAAAAAAAAAAAAAAAAAAAAAAAAAAAAAAAAAAAAAAAAAAAAAAAAAAAAAAAAAAAAAAAAAAAAAAAAAAAAAAAAAAAAAAAAAAAAAAAAAAAAAAAAAAAAAAAAAAAAAAAAAAAAAAAAAAAAAAAAAAAAAAAAAAAAAAAAAAAAAAAAAAAAAAAAAAAAAAAAAAAAAAAAAAAAAAAAAAAAAAAAAAAAAAAAAAAAAAAAAAAAAAAAAAAAAAAAAAAAAAAAAAAAAAAAAAAAAAAAAAAAAAAAAAAAAAAAAAAAAAAAAAAAAAAAAAAAAAAAAAAAAAAAAAAAAAAAAAAAAAAAAAAAAAAAAAAAAAAAAAAAAAAAAAAAAAAAAAAAAAAAAAAAAAAAAAAAAAAAAAAAAAAAAAAAAAAAAAAAAAAAAAAAAAAAAAAAAAAAAAAAAAAAAAAAAAAAAAAAAAAAAAAAAAAAAAAAAAAAAAAACwAAAAAAQABAAAIBQAB6AsIADs=\"><title>Layer: output1 (output)\n shape = (1,)\n Keras class = Dense\n activation = sigmoid</title></image><text x=\"296.6666666666667\" y=\"52.0\" font-family=\"monospace\" font-size=\"12\" text-anchor=\"start\" alignment-baseline=\"central\">output1</text><rect x=\"507.33333333333337\" y=\"24\" width=\"52\" height=\"52\" style=\"fill:none;stroke:black;stroke-width:2\"/><image id=\"XOR2 Network_output2_9\" class=\"XOR2 Network_output2\" x=\"508.33333333333337\" y=\"25\" height=\"50\" width=\"50\" preserveAspectRatio=\"none\" href=\"data:image/gif;base64,R0lGODdhAQABAIcAAEFB/wAAAAAAAAAAAAAAAAAAAAAAAAAAAAAAAAAAAAAAAAAAAAAAAAAAAAAAAAAAAAAAAAAAAAAAAAAAAAAAAAAAAAAAAAAAAAAAAAAAAAAAAAAAAAAAAAAAAAAAAAAAAAAAAAAAAAAAAAAAAAAAAAAAAAAAAAAAAAAAAAAAAAAAAAAAAAAAAAAAAAAAAAAAAAAAAAAAAAAAAAAAAAAAAAAAAAAAAAAAAAAAAAAAAAAAAAAAAAAAAAAAAAAAAAAAAAAAAAAAAAAAAAAAAAAAAAAAAAAAAAAAAAAAAAAAAAAAAAAAAAAAAAAAAAAAAAAAAAAAAAAAAAAAAAAAAAAAAAAAAAAAAAAAAAAAAAAAAAAAAAAAAAAAAAAAAAAAAAAAAAAAAAAAAAAAAAAAAAAAAAAAAAAAAAAAAAAAAAAAAAAAAAAAAAAAAAAAAAAAAAAAAAAAAAAAAAAAAAAAAAAAAAAAAAAAAAAAAAAAAAAAAAAAAAAAAAAAAAAAAAAAAAAAAAAAAAAAAAAAAAAAAAAAAAAAAAAAAAAAAAAAAAAAAAAAAAAAAAAAAAAAAAAAAAAAAAAAAAAAAAAAAAAAAAAAAAAAAAAAAAAAAAAAAAAAAAAAAAAAAAAAAAAAAAAAAAAAAAAAAAAAAAAAAAAAAAAAAAAAAAAAAAAAAAAAAAAAAAAAAAAAAAAAAAAAAAAAAAAAAAAAAAAAAAAAAAAAAAAAAAAAAAAAAAAAAAAAAAAAAAAAAAAAAAAAAAAAAAAAAAAAAAAAAAAAAAAAAAAAAAAAAAAAAAAAAAAAAAAAAAAAAAAAAAAAAAAAAAAAAAAAAAAAAAAAAAAAAAAAAAAAAAAAAAAAAAAAAAAAAAAAAAAAAAAAAAAAAAAAAAAAAAAAAAAAAAAAAAAAAAAAAAAAAAAAAAAAAAAAAAAAAAAAAAAAAAAAAAAAAAAAAAAAAAAAAAAAAAAAAAAAAAAAAAAAAAAAAAAAAAAAAAAAAAAAAAAAAAAAAAAAAAAAAAAAAAAAAAAAACwAAAAAAQABAAAIBQAB6AsIADs=\"><title>Layer: output2 (output)\n shape = (1,)\n Keras class = Dense\n activation = sigmoid</title></image><text x=\"563.3333333333334\" y=\"52.0\" font-family=\"monospace\" font-size=\"12\" text-anchor=\"start\" alignment-baseline=\"central\">output2</text><line x1=\"400.0\" y1=\"104\" x2=\"266.6666666666667\" y2=\"77\" stroke=\"black\" stroke-width=\"2\" marker-end=\"url(#arrow)\"><title>Weights from shared-hidden to output1\n output1/kernel has shape (5, 1)\n output1/bias has shape (1,)</title></line><line x1=\"400.0\" y1=\"104\" x2=\"533.3333333333334\" y2=\"77\" stroke=\"black\" stroke-width=\"2\" marker-end=\"url(#arrow)\"><title>Weights from shared-hidden to output2\n output2/kernel has shape (5, 1)\n output2/bias has shape (1,)</title></line><rect x=\"299.0\" y=\"104\" width=\"202\" height=\"42\" style=\"fill:none;stroke:black;stroke-width:2\"/><image id=\"XOR2 Network_shared-hidden_10\" class=\"XOR2 Network_shared-hidden\" x=\"300.0\" y=\"105\" height=\"40\" width=\"200\" preserveAspectRatio=\"none\" href=\"data:image/gif;base64,R0lGODdhBQABAIcAAAQE7j09/0FB/wAAAAAAAAAAAAAAAAAAAAAAAAAAAAAAAAAAAAAAAAAAAAAAAAAAAAAAAAAAAAAAAAAAAAAAAAAAAAAAAAAAAAAAAAAAAAAAAAAAAAAAAAAAAAAAAAAAAAAAAAAAAAAAAAAAAAAAAAAAAAAAAAAAAAAAAAAAAAAAAAAAAAAAAAAAAAAAAAAAAAAAAAAAAAAAAAAAAAAAAAAAAAAAAAAAAAAAAAAAAAAAAAAAAAAAAAAAAAAAAAAAAAAAAAAAAAAAAAAAAAAAAAAAAAAAAAAAAAAAAAAAAAAAAAAAAAAAAAAAAAAAAAAAAAAAAAAAAAAAAAAAAAAAAAAAAAAAAAAAAAAAAAAAAAAAAAAAAAAAAAAAAAAAAAAAAAAAAAAAAAAAAAAAAAAAAAAAAAAAAAAAAAAAAAAAAAAAAAAAAAAAAAAAAAAAAAAAAAAAAAAAAAAAAAAAAAAAAAAAAAAAAAAAAAAAAAAAAAAAAAAAAAAAAAAAAAAAAAAAAAAAAAAAAAAAAAAAAAAAAAAAAAAAAAAAAAAAAAAAAAAAAAAAAAAAAAAAAAAAAAAAAAAAAAAAAAAAAAAAAAAAAAAAAAAAAAAAAAAAAAAAAAAAAAAAAAAAAAAAAAAAAAAAAAAAAAAAAAAAAAAAAAAAAAAAAAAAAAAAAAAAAAAAAAAAAAAAAAAAAAAAAAAAAAAAAAAAAAAAAAAAAAAAAAAAAAAAAAAAAAAAAAAAAAAAAAAAAAAAAAAAAAAAAAAAAAAAAAAAAAAAAAAAAAAAAAAAAAAAAAAAAAAAAAAAAAAAAAAAAAAAAAAAAAAAAAAAAAAAAAAAAAAAAAAAAAAAAAAAAAAAAAAAAAAAAAAAAAAAAAAAAAAAAAAAAAAAAAAAAAAAAAAAAAAAAAAAAAAAAAAAAAAAAAAAAAAAAAAAAAAAAAAAAAAAAAAAAAAAAAAAAAAAAAAAAAAAAAAAAAAAAAAAAAAAAAAAAAAAAAAAAAAAAAAAAAAAAAAAAAAAAAAAAAAAACwAAAAABQABAAAIBwAFABgYICAAOw==\"><title>Layer: shared-hidden (hidden)\n shape = (5,)\n Keras class = Dense\n activation = sigmoid</title></image><text x=\"505.0\" y=\"127.0\" font-family=\"monospace\" font-size=\"12\" text-anchor=\"start\" alignment-baseline=\"central\">shared-hidden</text><line x1=\"266.6666666666667\" y1=\"174\" x2=\"400.0\" y2=\"147\" stroke=\"black\" stroke-width=\"2\" marker-end=\"url(#arrow)\"><title>Weights from hidden1 to shared-hidden\n shared-hidden/kernel has shape (20, 5)\n shared-hidden/bias has shape (5,)</title></line><rect x=\"165.66666666666669\" y=\"174\" width=\"202\" height=\"27\" style=\"fill:none;stroke:black;stroke-width:2\"/><image id=\"XOR2 Network_hidden1_11\" class=\"XOR2 Network_hidden1\" x=\"166.66666666666669\" y=\"175\" height=\"25\" width=\"200\" preserveAspectRatio=\"none\" href=\"data:image/gif;base64,R0lGODdhCgABAIcAAAAA/wAAAAAAAAAAAAAAAAAAAAAAAAAAAAAAAAAAAAAAAAAAAAAAAAAAAAAAAAAAAAAAAAAAAAAAAAAAAAAAAAAAAAAAAAAAAAAAAAAAAAAAAAAAAAAAAAAAAAAAAAAAAAAAAAAAAAAAAAAAAAAAAAAAAAAAAAAAAAAAAAAAAAAAAAAAAAAAAAAAAAAAAAAAAAAAAAAAAAAAAAAAAAAAAAAAAAAAAAAAAAAAAAAAAAAAAAAAAAAAAAAAAAAAAAAAAAAAAAAAAAAAAAAAAAAAAAAAAAAAAAAAAAAAAAAAAAAAAAAAAAAAAAAAAAAAAAAAAAAAAAAAAAAAAAAAAAAAAAAAAAAAAAAAAAAAAAAAAAAAAAAAAAAAAAAAAAAAAAAAAAAAAAAAAAAAAAAAAAAAAAAAAAAAAAAAAAAAAAAAAAAAAAAAAAAAAAAAAAAAAAAAAAAAAAAAAAAAAAAAAAAAAAAAAAAAAAAAAAAAAAAAAAAAAAAAAAAAAAAAAAAAAAAAAAAAAAAAAAAAAAAAAAAAAAAAAAAAAAAAAAAAAAAAAAAAAAAAAAAAAAAAAAAAAAAAAAAAAAAAAAAAAAAAAAAAAAAAAAAAAAAAAAAAAAAAAAAAAAAAAAAAAAAAAAAAAAAAAAAAAAAAAAAAAAAAAAAAAAAAAAAAAAAAAAAAAAAAAAAAAAAAAAAAAAAAAAAAAAAAAAAAAAAAAAAAAAAAAAAAAAAAAAAAAAAAAAAAAAAAAAAAAAAAAAAAAAAAAAAAAAAAAAAAAAAAAAAAAAAAAAAAAAAAAAAAAAAAAAAAAAAAAAAAAAAAAAAAAAAAAAAAAAAAAAAAAAAAAAAAAAAAAAAAAAAAAAAAAAAAAAAAAAAAAAAAAAAAAAAAAAAAAAAAAAAAAAAAAAAAAAAAAAAAAAAAAAAAAAAAAAAAAAAAAAAAAAAAAAAAAAAAAAAAAAAAAAAAAAAAAAAAAAAAAAAAAAAAAAAAAAAAAAAAAAAAAAAAAAAAAAAAAAAAAAAAAAAAAAAAACwAAAAACgABAAAIBwABCBxIMCAAOw==\"><title>Layer: hidden1 (hidden)\n shape = (10,)\n Keras class = Dense\n activation = sigmoid</title></image><text x=\"371.6666666666667\" y=\"189.5\" font-family=\"monospace\" font-size=\"12\" text-anchor=\"start\" alignment-baseline=\"central\">hidden1</text><line x1=\"533.3333333333334\" y1=\"174\" x2=\"400.0\" y2=\"147\" stroke=\"black\" stroke-width=\"2\" marker-end=\"url(#arrow)\"><title>Weights from hidden2 to shared-hidden\n shared-hidden/kernel has shape (20, 5)\n shared-hidden/bias has shape (5,)</title></line><rect x=\"432.33333333333337\" y=\"174\" width=\"202\" height=\"27\" style=\"fill:none;stroke:black;stroke-width:2\"/><image id=\"XOR2 Network_hidden2_12\" class=\"XOR2 Network_hidden2\" x=\"433.33333333333337\" y=\"175\" height=\"25\" width=\"200\" preserveAspectRatio=\"none\" href=\"data:image/gif;base64,R0lGODdhCgABAIcAAAAA/wAAAAAAAAAAAAAAAAAAAAAAAAAAAAAAAAAAAAAAAAAAAAAAAAAAAAAAAAAAAAAAAAAAAAAAAAAAAAAAAAAAAAAAAAAAAAAAAAAAAAAAAAAAAAAAAAAAAAAAAAAAAAAAAAAAAAAAAAAAAAAAAAAAAAAAAAAAAAAAAAAAAAAAAAAAAAAAAAAAAAAAAAAAAAAAAAAAAAAAAAAAAAAAAAAAAAAAAAAAAAAAAAAAAAAAAAAAAAAAAAAAAAAAAAAAAAAAAAAAAAAAAAAAAAAAAAAAAAAAAAAAAAAAAAAAAAAAAAAAAAAAAAAAAAAAAAAAAAAAAAAAAAAAAAAAAAAAAAAAAAAAAAAAAAAAAAAAAAAAAAAAAAAAAAAAAAAAAAAAAAAAAAAAAAAAAAAAAAAAAAAAAAAAAAAAAAAAAAAAAAAAAAAAAAAAAAAAAAAAAAAAAAAAAAAAAAAAAAAAAAAAAAAAAAAAAAAAAAAAAAAAAAAAAAAAAAAAAAAAAAAAAAAAAAAAAAAAAAAAAAAAAAAAAAAAAAAAAAAAAAAAAAAAAAAAAAAAAAAAAAAAAAAAAAAAAAAAAAAAAAAAAAAAAAAAAAAAAAAAAAAAAAAAAAAAAAAAAAAAAAAAAAAAAAAAAAAAAAAAAAAAAAAAAAAAAAAAAAAAAAAAAAAAAAAAAAAAAAAAAAAAAAAAAAAAAAAAAAAAAAAAAAAAAAAAAAAAAAAAAAAAAAAAAAAAAAAAAAAAAAAAAAAAAAAAAAAAAAAAAAAAAAAAAAAAAAAAAAAAAAAAAAAAAAAAAAAAAAAAAAAAAAAAAAAAAAAAAAAAAAAAAAAAAAAAAAAAAAAAAAAAAAAAAAAAAAAAAAAAAAAAAAAAAAAAAAAAAAAAAAAAAAAAAAAAAAAAAAAAAAAAAAAAAAAAAAAAAAAAAAAAAAAAAAAAAAAAAAAAAAAAAAAAAAAAAAAAAAAAAAAAAAAAAAAAAAAAAAAAAAAAAAAAAAAAAAAAAAAAAAAAAAAAAAAAAAAAAAAAACwAAAAACgABAAAIBwABCBxIMCAAOw==\"><title>Layer: hidden2 (hidden)\n shape = (10,)\n Keras class = Dense\n activation = sigmoid</title></image><text x=\"638.3333333333334\" y=\"189.5\" font-family=\"monospace\" font-size=\"12\" text-anchor=\"start\" alignment-baseline=\"central\">hidden2</text><line x1=\"266.6666666666667\" y1=\"229\" x2=\"266.6666666666667\" y2=\"202\" stroke=\"black\" stroke-width=\"2\" marker-end=\"url(#arrow)\"><title>Weights from input1 to hidden1\n hidden1/kernel has shape (1, 10)\n hidden1/bias has shape (10,)</title></line><rect x=\"240.66666666666669\" y=\"229\" width=\"52\" height=\"52\" style=\"fill:none;stroke:black;stroke-width:2\"/><image id=\"XOR2 Network_input1_13\" class=\"XOR2 Network_input1\" x=\"241.66666666666669\" y=\"230\" height=\"50\" width=\"50\" preserveAspectRatio=\"none\" href=\"data:image/gif;base64,R0lGODdhAQABAIcAAP/9/QAAAAAAAAAAAAAAAAAAAAAAAAAAAAAAAAAAAAAAAAAAAAAAAAAAAAAAAAAAAAAAAAAAAAAAAAAAAAAAAAAAAAAAAAAAAAAAAAAAAAAAAAAAAAAAAAAAAAAAAAAAAAAAAAAAAAAAAAAAAAAAAAAAAAAAAAAAAAAAAAAAAAAAAAAAAAAAAAAAAAAAAAAAAAAAAAAAAAAAAAAAAAAAAAAAAAAAAAAAAAAAAAAAAAAAAAAAAAAAAAAAAAAAAAAAAAAAAAAAAAAAAAAAAAAAAAAAAAAAAAAAAAAAAAAAAAAAAAAAAAAAAAAAAAAAAAAAAAAAAAAAAAAAAAAAAAAAAAAAAAAAAAAAAAAAAAAAAAAAAAAAAAAAAAAAAAAAAAAAAAAAAAAAAAAAAAAAAAAAAAAAAAAAAAAAAAAAAAAAAAAAAAAAAAAAAAAAAAAAAAAAAAAAAAAAAAAAAAAAAAAAAAAAAAAAAAAAAAAAAAAAAAAAAAAAAAAAAAAAAAAAAAAAAAAAAAAAAAAAAAAAAAAAAAAAAAAAAAAAAAAAAAAAAAAAAAAAAAAAAAAAAAAAAAAAAAAAAAAAAAAAAAAAAAAAAAAAAAAAAAAAAAAAAAAAAAAAAAAAAAAAAAAAAAAAAAAAAAAAAAAAAAAAAAAAAAAAAAAAAAAAAAAAAAAAAAAAAAAAAAAAAAAAAAAAAAAAAAAAAAAAAAAAAAAAAAAAAAAAAAAAAAAAAAAAAAAAAAAAAAAAAAAAAAAAAAAAAAAAAAAAAAAAAAAAAAAAAAAAAAAAAAAAAAAAAAAAAAAAAAAAAAAAAAAAAAAAAAAAAAAAAAAAAAAAAAAAAAAAAAAAAAAAAAAAAAAAAAAAAAAAAAAAAAAAAAAAAAAAAAAAAAAAAAAAAAAAAAAAAAAAAAAAAAAAAAAAAAAAAAAAAAAAAAAAAAAAAAAAAAAAAAAAAAAAAAAAAAAAAAAAAAAAAAAAAAAAAAAAAAAAAAAAAAAAAAAAAAAAAAAAAAAAAAAAAAAAAAAAACwAAAAAAQABAAAIBQAB6AsIADs=\"><title>Layer: input1 (input)\n shape = (1,)\n Keras class = Input</title></image><text x=\"296.6666666666667\" y=\"257.0\" font-family=\"monospace\" font-size=\"12\" text-anchor=\"start\" alignment-baseline=\"central\">input1</text><line x1=\"533.3333333333334\" y1=\"229\" x2=\"533.3333333333334\" y2=\"202\" stroke=\"black\" stroke-width=\"2\" marker-end=\"url(#arrow)\"><title>Weights from input2 to hidden2\n hidden2/kernel has shape (1, 10)\n hidden2/bias has shape (10,)</title></line><rect x=\"507.33333333333337\" y=\"229\" width=\"52\" height=\"52\" style=\"fill:none;stroke:black;stroke-width:2\"/><image id=\"XOR2 Network_input2_14\" class=\"XOR2 Network_input2\" x=\"508.33333333333337\" y=\"230\" height=\"50\" width=\"50\" preserveAspectRatio=\"none\" href=\"data:image/gif;base64,R0lGODdhAQABAIcAAP/9/QAAAAAAAAAAAAAAAAAAAAAAAAAAAAAAAAAAAAAAAAAAAAAAAAAAAAAAAAAAAAAAAAAAAAAAAAAAAAAAAAAAAAAAAAAAAAAAAAAAAAAAAAAAAAAAAAAAAAAAAAAAAAAAAAAAAAAAAAAAAAAAAAAAAAAAAAAAAAAAAAAAAAAAAAAAAAAAAAAAAAAAAAAAAAAAAAAAAAAAAAAAAAAAAAAAAAAAAAAAAAAAAAAAAAAAAAAAAAAAAAAAAAAAAAAAAAAAAAAAAAAAAAAAAAAAAAAAAAAAAAAAAAAAAAAAAAAAAAAAAAAAAAAAAAAAAAAAAAAAAAAAAAAAAAAAAAAAAAAAAAAAAAAAAAAAAAAAAAAAAAAAAAAAAAAAAAAAAAAAAAAAAAAAAAAAAAAAAAAAAAAAAAAAAAAAAAAAAAAAAAAAAAAAAAAAAAAAAAAAAAAAAAAAAAAAAAAAAAAAAAAAAAAAAAAAAAAAAAAAAAAAAAAAAAAAAAAAAAAAAAAAAAAAAAAAAAAAAAAAAAAAAAAAAAAAAAAAAAAAAAAAAAAAAAAAAAAAAAAAAAAAAAAAAAAAAAAAAAAAAAAAAAAAAAAAAAAAAAAAAAAAAAAAAAAAAAAAAAAAAAAAAAAAAAAAAAAAAAAAAAAAAAAAAAAAAAAAAAAAAAAAAAAAAAAAAAAAAAAAAAAAAAAAAAAAAAAAAAAAAAAAAAAAAAAAAAAAAAAAAAAAAAAAAAAAAAAAAAAAAAAAAAAAAAAAAAAAAAAAAAAAAAAAAAAAAAAAAAAAAAAAAAAAAAAAAAAAAAAAAAAAAAAAAAAAAAAAAAAAAAAAAAAAAAAAAAAAAAAAAAAAAAAAAAAAAAAAAAAAAAAAAAAAAAAAAAAAAAAAAAAAAAAAAAAAAAAAAAAAAAAAAAAAAAAAAAAAAAAAAAAAAAAAAAAAAAAAAAAAAAAAAAAAAAAAAAAAAAAAAAAAAAAAAAAAAAAAAAAAAAAAAAAAAAAAAAAAAAAAAAAAAAAAAAAAAAAAAAAAACwAAAAAAQABAAAIBQAB6AsIADs=\"><title>Layer: input2 (input)\n shape = (1,)\n Keras class = Input</title></image><text x=\"563.3333333333334\" y=\"257.0\" font-family=\"monospace\" font-size=\"12\" text-anchor=\"start\" alignment-baseline=\"central\">input2</text></svg></p>"
      }
     },
     "a90c1b5b665d49c59bbf2c1d37da7bed": {
      "model_module": "@jupyter-widgets/base",
      "model_module_version": "1.0.0",
      "model_name": "LayoutModel",
      "state": {
       "width": "100%"
      }
     },
     "a9218052d2604f86806a3105d89f797a": {
      "model_module": "@jupyter-widgets/controls",
      "model_module_version": "1.0.0",
      "model_name": "AccordionModel",
      "state": {
       "_titles": {
        "0": "XOR Network"
       },
       "children": [
        "IPY_MODEL_3bbf19b00a0841009e3dfdbc65c3c012"
       ],
       "layout": "IPY_MODEL_c1ba453921194994b644834cd11d8793",
       "selected_index": null
      }
     },
     "a9314411df974c45aa045d91c80c3484": {
      "model_module": "@jupyter-widgets/controls",
      "model_module_version": "1.0.0",
      "model_name": "DescriptionStyleModel",
      "state": {
       "description_width": ""
      }
     },
     "a95b5ee0c2804586a601c944b8a8f601": {
      "model_module": "@jupyter-widgets/base",
      "model_module_version": "1.0.0",
      "model_name": "LayoutModel",
      "state": {
       "width": "100%"
      }
     },
     "a95e091fc50d4087853f89b0b62cbb3e": {
      "model_module": "@jupyter-widgets/base",
      "model_module_version": "1.0.0",
      "model_name": "LayoutModel",
      "state": {
       "width": "100%"
      }
     },
     "a99acc22dc144db3807f098208a35260": {
      "model_module": "@jupyter-widgets/controls",
      "model_module_version": "1.0.0",
      "model_name": "ButtonStyleModel",
      "state": {}
     },
     "a9fbaf491bd44825b7d376642cc97dc7": {
      "model_module": "@jupyter-widgets/base",
      "model_module_version": "1.0.0",
      "model_name": "LayoutModel",
      "state": {
       "width": "100%"
      }
     },
     "aa29f262adbf45c8846da19b23909b81": {
      "model_module": "@jupyter-widgets/output",
      "model_module_version": "1.0.0",
      "model_name": "OutputModel",
      "state": {
       "layout": "IPY_MODEL_5f4831d58f10470f8ce4288aa51444db"
      }
     },
     "aa4431aa7d6446a6adcfb11445488307": {
      "model_module": "@jupyter-widgets/controls",
      "model_module_version": "1.0.0",
      "model_name": "ButtonModel",
      "state": {
       "icon": "fast-forward",
       "layout": "IPY_MODEL_d5274838d57248a997d76751cad64066",
       "style": "IPY_MODEL_b541eaa4adb1467b827de590ff6e38ef"
      }
     },
     "ab07f254b53549c485ff3084a53d87ed": {
      "model_module": "@jupyter-widgets/controls",
      "model_module_version": "1.0.0",
      "model_name": "ButtonModel",
      "state": {
       "icon": "backward",
       "layout": "IPY_MODEL_c99e8e4204b24294a0fb05620e8ed383",
       "style": "IPY_MODEL_8d9785089fb2457589b241d8e4f474b9"
      }
     },
     "ac9c831e71174e8780b382b7608bf220": {
      "model_module": "@jupyter-widgets/controls",
      "model_module_version": "1.0.0",
      "model_name": "HBoxModel",
      "state": {
       "children": [
        "IPY_MODEL_09951b9621be495e895d5780ace271dc",
        "IPY_MODEL_694c20a7dae543c08fef84412d6d826b"
       ],
       "layout": "IPY_MODEL_20d2aa0550d54f6f96b8ee863416ad93"
      }
     },
     "aca3e8f7a3a9431eb9b72b51641ecfe2": {
      "model_module": "@jupyter-widgets/controls",
      "model_module_version": "1.0.0",
      "model_name": "HBoxModel",
      "state": {
       "children": [
        "IPY_MODEL_395144aff69b44e0877e362b0ef04a8d",
        "IPY_MODEL_47b366d8602846f486412747c15096a0",
        "IPY_MODEL_9529dd6b5dbe43e88ca306a1b05a8776",
        "IPY_MODEL_6cd23746f6de45d699b490fa12ac8499",
        "IPY_MODEL_aa4431aa7d6446a6adcfb11445488307",
        "IPY_MODEL_b6220cc02ba64aa48856a8a5133dbc70",
        "IPY_MODEL_59e84513f9254df7aaca608ba60d8fb0"
       ],
       "layout": "IPY_MODEL_8a4df310de2f44309eadf52ead0d30b5"
      }
     },
     "acdbbadbf4c04b19a828789a66e6e4cc": {
      "model_module": "@jupyter-widgets/controls",
      "model_module_version": "1.0.0",
      "model_name": "DescriptionStyleModel",
      "state": {
       "description_width": ""
      }
     },
     "acff5e9f91a04a61957eeb4e0bcec8a5": {
      "model_module": "@jupyter-widgets/controls",
      "model_module_version": "1.0.0",
      "model_name": "FloatTextModel",
      "state": {
       "description": "Feature scale:",
       "layout": "IPY_MODEL_2e355c0ab59f4522b996ddeb620d3661",
       "step": null,
       "style": "IPY_MODEL_23642b1b971741bea1cbeb32562c49bd",
       "value": 2
      }
     },
     "adf250a542f94f87a2c885c52b0baac2": {
      "model_module": "@jupyter-widgets/controls",
      "model_module_version": "1.0.0",
      "model_name": "VBoxModel",
      "state": {
       "children": [
        "IPY_MODEL_462b2178b3134def88242c89c1b8e7bc",
        "IPY_MODEL_7edd5dfc21ea405b9ab9c8f6ce77aaef",
        "IPY_MODEL_706228563a014a1680df17bc35dd153d",
        "IPY_MODEL_411dcc9db2b245d2ad8bf0081df35fc6",
        "IPY_MODEL_908cf759a71747348f8902f115a5cb67",
        "IPY_MODEL_cf246d29d4ba4721ac9c1f803759eca6",
        "IPY_MODEL_076df4c99d7c46cfaeedeaf0ca3b20d6",
        "IPY_MODEL_20ad347b8a1840279449a6a9766feba2"
       ],
       "layout": "IPY_MODEL_6b2811da3c004ccb8077f63b494df93a"
      }
     },
     "ae386343abb44efdbf8f2db71c722b76": {
      "model_module": "@jupyter-widgets/controls",
      "model_module_version": "1.0.0",
      "model_name": "DescriptionStyleModel",
      "state": {
       "description_width": ""
      }
     },
     "ae5c19eb0cc2440cad23a6c1817ca062": {
      "model_module": "@jupyter-widgets/base",
      "model_module_version": "1.0.0",
      "model_name": "LayoutModel",
      "state": {
       "width": "100%"
      }
     },
     "ae85cabc62044eb180ac845d3eaeb35e": {
      "model_module": "@jupyter-widgets/controls",
      "model_module_version": "1.0.0",
      "model_name": "DescriptionStyleModel",
      "state": {
       "description_width": ""
      }
     },
     "aefaef61ac4949f49e9812b7c67baf1d": {
      "model_module": "@jupyter-widgets/controls",
      "model_module_version": "1.0.0",
      "model_name": "SliderStyleModel",
      "state": {
       "description_width": ""
      }
     },
     "af970ba97a1343c3a01fec895b565ee9": {
      "model_module": "@jupyter-widgets/controls",
      "model_module_version": "1.0.0",
      "model_name": "ButtonModel",
      "state": {
       "icon": "refresh",
       "layout": "IPY_MODEL_bdc4e420859f44c590267d5d12cd33b7",
       "style": "IPY_MODEL_0b3f1977a1cf482eb204ebdae8c03088"
      }
     },
     "afde91265d4b45899b2995ce43b78c78": {
      "model_module": "@jupyter-widgets/controls",
      "model_module_version": "1.0.0",
      "model_name": "DescriptionStyleModel",
      "state": {
       "description_width": "initial"
      }
     },
     "b11c8e49a4694abcb7710891c3705b1e": {
      "model_module": "@jupyter-widgets/base",
      "model_module_version": "1.0.0",
      "model_name": "LayoutModel",
      "state": {
       "width": "100%"
      }
     },
     "b14035ca563e4ba2947269c45979e505": {
      "model_module": "@jupyter-widgets/base",
      "model_module_version": "1.0.0",
      "model_name": "LayoutModel",
      "state": {}
     },
     "b184aedbbe0f495c87887f6c236bfab7": {
      "model_module": "@jupyter-widgets/controls",
      "model_module_version": "1.0.0",
      "model_name": "ButtonStyleModel",
      "state": {}
     },
     "b25ab4be3c074c218e2f53bd4a5acf59": {
      "model_module": "@jupyter-widgets/controls",
      "model_module_version": "1.0.0",
      "model_name": "CheckboxModel",
      "state": {
       "description": "Errors",
       "disabled": false,
       "layout": "IPY_MODEL_7aa4162c5b014e94a77f19770305fd77",
       "style": "IPY_MODEL_4cca1fee53054fef829c6eaf7b6f62fd",
       "value": false
      }
     },
     "b28b2aefcef24150a5c622d14399213f": {
      "model_module": "@jupyter-widgets/controls",
      "model_module_version": "1.0.0",
      "model_name": "DescriptionStyleModel",
      "state": {
       "description_width": ""
      }
     },
     "b2ffe66ea43b49ffb6ccfc1d01505dcd": {
      "model_module": "@jupyter-widgets/controls",
      "model_module_version": "1.0.0",
      "model_name": "DescriptionStyleModel",
      "state": {
       "description_width": ""
      }
     },
     "b3583c7aac3d4c2f9b6756b2d90a681a": {
      "model_module": "@jupyter-widgets/controls",
      "model_module_version": "1.0.0",
      "model_name": "ButtonModel",
      "state": {
       "icon": "refresh",
       "layout": "IPY_MODEL_6e4105251e1143259c973ec7e045fcbd",
       "style": "IPY_MODEL_13ffa0f9d1ca43dfb9d5e29fbac55f46"
      }
     },
     "b39e025f51f946a896b2c5dc91078728": {
      "model_module": "@jupyter-widgets/controls",
      "model_module_version": "1.0.0",
      "model_name": "ButtonStyleModel",
      "state": {}
     },
     "b3b6d22a83d645dda6f5f3342efdd5f1": {
      "model_module": "@jupyter-widgets/controls",
      "model_module_version": "1.0.0",
      "model_name": "SelectModel",
      "state": {
       "_options_labels": [
        "",
        "Accent",
        "Accent_r",
        "Blues",
        "Blues_r",
        "BrBG",
        "BrBG_r",
        "BuGn",
        "BuGn_r",
        "BuPu",
        "BuPu_r",
        "CMRmap",
        "CMRmap_r",
        "Dark2",
        "Dark2_r",
        "GnBu",
        "GnBu_r",
        "Greens",
        "Greens_r",
        "Greys",
        "Greys_r",
        "OrRd",
        "OrRd_r",
        "Oranges",
        "Oranges_r",
        "PRGn",
        "PRGn_r",
        "Paired",
        "Paired_r",
        "Pastel1",
        "Pastel1_r",
        "Pastel2",
        "Pastel2_r",
        "PiYG",
        "PiYG_r",
        "PuBu",
        "PuBuGn",
        "PuBuGn_r",
        "PuBu_r",
        "PuOr",
        "PuOr_r",
        "PuRd",
        "PuRd_r",
        "Purples",
        "Purples_r",
        "RdBu",
        "RdBu_r",
        "RdGy",
        "RdGy_r",
        "RdPu",
        "RdPu_r",
        "RdYlBu",
        "RdYlBu_r",
        "RdYlGn",
        "RdYlGn_r",
        "Reds",
        "Reds_r",
        "Set1",
        "Set1_r",
        "Set2",
        "Set2_r",
        "Set3",
        "Set3_r",
        "Spectral",
        "Spectral_r",
        "Vega10",
        "Vega10_r",
        "Vega20",
        "Vega20_r",
        "Vega20b",
        "Vega20b_r",
        "Vega20c",
        "Vega20c_r",
        "Wistia",
        "Wistia_r",
        "YlGn",
        "YlGnBu",
        "YlGnBu_r",
        "YlGn_r",
        "YlOrBr",
        "YlOrBr_r",
        "YlOrRd",
        "YlOrRd_r",
        "afmhot",
        "afmhot_r",
        "autumn",
        "autumn_r",
        "binary",
        "binary_r",
        "bone",
        "bone_r",
        "brg",
        "brg_r",
        "bwr",
        "bwr_r",
        "cool",
        "cool_r",
        "coolwarm",
        "coolwarm_r",
        "copper",
        "copper_r",
        "cubehelix",
        "cubehelix_r",
        "flag",
        "flag_r",
        "gist_earth",
        "gist_earth_r",
        "gist_gray",
        "gist_gray_r",
        "gist_heat",
        "gist_heat_r",
        "gist_ncar",
        "gist_ncar_r",
        "gist_rainbow",
        "gist_rainbow_r",
        "gist_stern",
        "gist_stern_r",
        "gist_yarg",
        "gist_yarg_r",
        "gnuplot",
        "gnuplot2",
        "gnuplot2_r",
        "gnuplot_r",
        "gray",
        "gray_r",
        "hot",
        "hot_r",
        "hsv",
        "hsv_r",
        "inferno",
        "inferno_r",
        "jet",
        "jet_r",
        "magma",
        "magma_r",
        "nipy_spectral",
        "nipy_spectral_r",
        "ocean",
        "ocean_r",
        "pink",
        "pink_r",
        "plasma",
        "plasma_r",
        "prism",
        "prism_r",
        "rainbow",
        "rainbow_r",
        "seismic",
        "seismic_r",
        "spectral",
        "spectral_r",
        "spring",
        "spring_r",
        "summer",
        "summer_r",
        "tab10",
        "tab10_r",
        "tab20",
        "tab20_r",
        "tab20b",
        "tab20b_r",
        "tab20c",
        "tab20c_r",
        "terrain",
        "terrain_r",
        "viridis",
        "viridis_r",
        "winter",
        "winter_r"
       ],
       "description": "Colormap:",
       "index": 0,
       "layout": "IPY_MODEL_0733ab47b5cd42a78da6c77993e20fa5",
       "rows": 1,
       "style": "IPY_MODEL_58db27ac6ef14d368db6766c5d254690"
      }
     },
     "b3ccf83d27bd4f51a11ba3c6fd165aaf": {
      "model_module": "@jupyter-widgets/base",
      "model_module_version": "1.0.0",
      "model_name": "LayoutModel",
      "state": {}
     },
     "b434d35bbb8a4cbda1ccaeadc8f2861a": {
      "model_module": "@jupyter-widgets/base",
      "model_module_version": "1.0.0",
      "model_name": "LayoutModel",
      "state": {}
     },
     "b43807816a984ab2881f97842b29595f": {
      "model_module": "@jupyter-widgets/controls",
      "model_module_version": "1.0.0",
      "model_name": "HBoxModel",
      "state": {
       "children": [
        "IPY_MODEL_303fa76f7a0e430487e758956fec57f0",
        "IPY_MODEL_d744a631eca04e46ad390d1b17bf06ea"
       ],
       "layout": "IPY_MODEL_122af9119290410d87614b9a2612ef2e"
      }
     },
     "b4ab75a8f5e94690b75d15c4fcfc0556": {
      "model_module": "@jupyter-widgets/controls",
      "model_module_version": "1.0.0",
      "model_name": "CheckboxModel",
      "state": {
       "description": "Visible",
       "disabled": false,
       "layout": "IPY_MODEL_965fefa61e1a41e5b42803f3156aa187",
       "style": "IPY_MODEL_4745b5632d6e497499fe75dacaf07308",
       "value": true
      }
     },
     "b4b5f3a953a04514bd9685418ecf15db": {
      "model_module": "@jupyter-widgets/controls",
      "model_module_version": "1.0.0",
      "model_name": "DescriptionStyleModel",
      "state": {
       "description_width": ""
      }
     },
     "b4e2299e0b5b420988153976de454b57": {
      "model_module": "@jupyter-widgets/base",
      "model_module_version": "1.0.0",
      "model_name": "LayoutModel",
      "state": {
       "width": "100px"
      }
     },
     "b541eaa4adb1467b827de590ff6e38ef": {
      "model_module": "@jupyter-widgets/controls",
      "model_module_version": "1.0.0",
      "model_name": "ButtonStyleModel",
      "state": {}
     },
     "b5489ebc144340c6bbc195494a9c21e4": {
      "model_module": "@jupyter-widgets/controls",
      "model_module_version": "1.0.0",
      "model_name": "ButtonModel",
      "state": {
       "icon": "backward",
       "layout": "IPY_MODEL_9a72583b9f2644d985c722a36968d771",
       "style": "IPY_MODEL_f0b876fa05d94577867deab2fd252701"
      }
     },
     "b548c350d7f74ea3893cb6cf92133b81": {
      "model_module": "@jupyter-widgets/controls",
      "model_module_version": "1.0.0",
      "model_name": "IntSliderModel",
      "state": {
       "continuous_update": false,
       "description": "Dataset index",
       "layout": "IPY_MODEL_7fc68951278a48b7ba36b83023a33008",
       "max": 3,
       "style": "IPY_MODEL_0f5c77e86c1643179ee57d6f495f585d"
      }
     },
     "b5d6c8efe5bc40889ab0dcd21e76fecd": {
      "model_module": "@jupyter-widgets/controls",
      "model_module_version": "1.0.0",
      "model_name": "VBoxModel",
      "state": {
       "children": [
        "IPY_MODEL_2ccbff546cd84fe49fe5f0f1a7af5806",
        "IPY_MODEL_241cd5fa680045f2afb0372a893933f1",
        "IPY_MODEL_e9b937d211704040a69f7c9813c78e91",
        "IPY_MODEL_aa29f262adbf45c8846da19b23909b81"
       ],
       "layout": "IPY_MODEL_098c1ba3b35d49e7bcd0ac10483608d2"
      }
     },
     "b5f41d0598bc4a47b24b0b3909d17ea8": {
      "model_module": "@jupyter-widgets/controls",
      "model_module_version": "1.0.0",
      "model_name": "DescriptionStyleModel",
      "state": {
       "description_width": "initial"
      }
     },
     "b6113be7ccb7470dbe83b6a5be946133": {
      "model_module": "@jupyter-widgets/controls",
      "model_module_version": "1.0.0",
      "model_name": "FloatTextModel",
      "state": {
       "description": "Feature scale:",
       "layout": "IPY_MODEL_13c09aa4e30545378ff5334263774182",
       "step": null,
       "style": "IPY_MODEL_c9c9432c270447aea50441e3487ba352",
       "value": 2
      }
     },
     "b6220cc02ba64aa48856a8a5133dbc70": {
      "model_module": "@jupyter-widgets/controls",
      "model_module_version": "1.0.0",
      "model_name": "ButtonModel",
      "state": {
       "description": "Play",
       "icon": "play",
       "layout": "IPY_MODEL_0c04335e1ba947da95e7027bfc752b84",
       "style": "IPY_MODEL_d8487c51af27459bbf3e6e4e58366b39"
      }
     },
     "b6263e9d81884df489b0ceef3890cb13": {
      "model_module": "@jupyter-widgets/controls",
      "model_module_version": "1.0.0",
      "model_name": "SelectModel",
      "state": {
       "_options_labels": [
        "",
        "Accent",
        "Accent_r",
        "Blues",
        "Blues_r",
        "BrBG",
        "BrBG_r",
        "BuGn",
        "BuGn_r",
        "BuPu",
        "BuPu_r",
        "CMRmap",
        "CMRmap_r",
        "Dark2",
        "Dark2_r",
        "GnBu",
        "GnBu_r",
        "Greens",
        "Greens_r",
        "Greys",
        "Greys_r",
        "OrRd",
        "OrRd_r",
        "Oranges",
        "Oranges_r",
        "PRGn",
        "PRGn_r",
        "Paired",
        "Paired_r",
        "Pastel1",
        "Pastel1_r",
        "Pastel2",
        "Pastel2_r",
        "PiYG",
        "PiYG_r",
        "PuBu",
        "PuBuGn",
        "PuBuGn_r",
        "PuBu_r",
        "PuOr",
        "PuOr_r",
        "PuRd",
        "PuRd_r",
        "Purples",
        "Purples_r",
        "RdBu",
        "RdBu_r",
        "RdGy",
        "RdGy_r",
        "RdPu",
        "RdPu_r",
        "RdYlBu",
        "RdYlBu_r",
        "RdYlGn",
        "RdYlGn_r",
        "Reds",
        "Reds_r",
        "Set1",
        "Set1_r",
        "Set2",
        "Set2_r",
        "Set3",
        "Set3_r",
        "Spectral",
        "Spectral_r",
        "Vega10",
        "Vega10_r",
        "Vega20",
        "Vega20_r",
        "Vega20b",
        "Vega20b_r",
        "Vega20c",
        "Vega20c_r",
        "Wistia",
        "Wistia_r",
        "YlGn",
        "YlGnBu",
        "YlGnBu_r",
        "YlGn_r",
        "YlOrBr",
        "YlOrBr_r",
        "YlOrRd",
        "YlOrRd_r",
        "afmhot",
        "afmhot_r",
        "autumn",
        "autumn_r",
        "binary",
        "binary_r",
        "bone",
        "bone_r",
        "brg",
        "brg_r",
        "bwr",
        "bwr_r",
        "cool",
        "cool_r",
        "coolwarm",
        "coolwarm_r",
        "copper",
        "copper_r",
        "cubehelix",
        "cubehelix_r",
        "flag",
        "flag_r",
        "gist_earth",
        "gist_earth_r",
        "gist_gray",
        "gist_gray_r",
        "gist_heat",
        "gist_heat_r",
        "gist_ncar",
        "gist_ncar_r",
        "gist_rainbow",
        "gist_rainbow_r",
        "gist_stern",
        "gist_stern_r",
        "gist_yarg",
        "gist_yarg_r",
        "gnuplot",
        "gnuplot2",
        "gnuplot2_r",
        "gnuplot_r",
        "gray",
        "gray_r",
        "hot",
        "hot_r",
        "hsv",
        "hsv_r",
        "inferno",
        "inferno_r",
        "jet",
        "jet_r",
        "magma",
        "magma_r",
        "nipy_spectral",
        "nipy_spectral_r",
        "ocean",
        "ocean_r",
        "pink",
        "pink_r",
        "plasma",
        "plasma_r",
        "prism",
        "prism_r",
        "rainbow",
        "rainbow_r",
        "seismic",
        "seismic_r",
        "spectral",
        "spectral_r",
        "spring",
        "spring_r",
        "summer",
        "summer_r",
        "tab10",
        "tab10_r",
        "tab20",
        "tab20_r",
        "tab20b",
        "tab20b_r",
        "tab20c",
        "tab20c_r",
        "terrain",
        "terrain_r",
        "viridis",
        "viridis_r",
        "winter",
        "winter_r"
       ],
       "description": "Colormap:",
       "index": 0,
       "layout": "IPY_MODEL_7aa4162c5b014e94a77f19770305fd77",
       "rows": 1,
       "style": "IPY_MODEL_404ffa543f5840c798d2bc004932ec17"
      }
     },
     "b6413c4587854dcb82a679b92e9a5c0b": {
      "model_module": "@jupyter-widgets/controls",
      "model_module_version": "1.0.0",
      "model_name": "VBoxModel",
      "state": {
       "children": [
        "IPY_MODEL_12d5746509e34e42bc61ebcb8b7975a7",
        "IPY_MODEL_33d2210f79f4418ca093638d8b7da483",
        "IPY_MODEL_0716bb34d96741d5b5158394af1aab8c",
        "IPY_MODEL_ed503b345e004da7afe4ac8129dea14d",
        "IPY_MODEL_9355c72873f94bd79fe267f49a8b214d",
        "IPY_MODEL_47ba863f07df40968f3776cf7efe7a10",
        "IPY_MODEL_fc50394babc94e0dbfc8eea3de28c9fd"
       ],
       "layout": "IPY_MODEL_5e5dbf0424f7452c841de4c3a3c67a41"
      }
     },
     "b735ad50146e4ac6850a51c1afdb669b": {
      "model_module": "@jupyter-widgets/controls",
      "model_module_version": "1.0.0",
      "model_name": "DescriptionStyleModel",
      "state": {
       "description_width": "initial"
      }
     },
     "b7a0d420907242fd86c7713795f1680c": {
      "model_module": "@jupyter-widgets/controls",
      "model_module_version": "1.0.0",
      "model_name": "ButtonStyleModel",
      "state": {}
     },
     "b9d4bbcf5a824107b60bb54c89499a93": {
      "model_module": "@jupyter-widgets/controls",
      "model_module_version": "1.0.0",
      "model_name": "IntTextModel",
      "state": {
       "layout": "IPY_MODEL_c67c4fef1ef143c1becdf3610eecd585",
       "step": 1,
       "style": "IPY_MODEL_23eddda6d3a241f9884a9e15a3e66ea5"
      }
     },
     "b9dd9552f28a4962a6f7d832e63fa809": {
      "model_module": "@jupyter-widgets/controls",
      "model_module_version": "1.0.0",
      "model_name": "DescriptionStyleModel",
      "state": {
       "description_width": ""
      }
     },
     "ba2cca8d185d42449347c850ae1a8a35": {
      "model_module": "@jupyter-widgets/controls",
      "model_module_version": "1.0.0",
      "model_name": "AccordionModel",
      "state": {
       "_titles": {
        "0": "XOR Network"
       },
       "children": [
        "IPY_MODEL_53361c7f6a254e4797df196ed11e5efe"
       ],
       "layout": "IPY_MODEL_0b8b807c2ba741df960d0fba38f0508d"
      }
     },
     "ba9f7c99b8f7440f8e64fbcd99dfd153": {
      "model_module": "@jupyter-widgets/controls",
      "model_module_version": "1.0.0",
      "model_name": "DescriptionStyleModel",
      "state": {
       "description_width": "initial"
      }
     },
     "bac8c171fefc4f758cae02b964e370d7": {
      "model_module": "@jupyter-widgets/base",
      "model_module_version": "1.0.0",
      "model_name": "LayoutModel",
      "state": {}
     },
     "bb8629aa512f4a8ab8d2dbea23a80398": {
      "model_module": "@jupyter-widgets/controls",
      "model_module_version": "1.0.0",
      "model_name": "DescriptionStyleModel",
      "state": {
       "description_width": ""
      }
     },
     "bd791987dc2c4110a31659b17a152d7c": {
      "model_module": "@jupyter-widgets/controls",
      "model_module_version": "1.0.0",
      "model_name": "FloatTextModel",
      "state": {
       "description": "Leftmost color maps to:",
       "layout": "IPY_MODEL_a55b5befafcf4f0c979b518a7c255273",
       "step": null,
       "style": "IPY_MODEL_ba9f7c99b8f7440f8e64fbcd99dfd153",
       "value": -1
      }
     },
     "bdbccac5b19a48f9862a8cd84951235f": {
      "model_module": "@jupyter-widgets/controls",
      "model_module_version": "1.0.0",
      "model_name": "SliderStyleModel",
      "state": {
       "description_width": ""
      }
     },
     "bdc4e420859f44c590267d5d12cd33b7": {
      "model_module": "@jupyter-widgets/base",
      "model_module_version": "1.0.0",
      "model_name": "LayoutModel",
      "state": {
       "width": "25%"
      }
     },
     "be4048c2ce9a425eabf619184876f8e6": {
      "model_module": "@jupyter-widgets/base",
      "model_module_version": "1.0.0",
      "model_name": "LayoutModel",
      "state": {}
     },
     "be7557f55ab4430e9b63bac96161839c": {
      "model_module": "@jupyter-widgets/controls",
      "model_module_version": "1.0.0",
      "model_name": "ButtonStyleModel",
      "state": {}
     },
     "bf34dc414dc44f999f75572aaf1bb63e": {
      "model_module": "@jupyter-widgets/base",
      "model_module_version": "1.0.0",
      "model_name": "LayoutModel",
      "state": {}
     },
     "bf56ee0cbb76404ea90f16b678246229": {
      "model_module": "@jupyter-widgets/base",
      "model_module_version": "1.0.0",
      "model_name": "LayoutModel",
      "state": {
       "width": "100px"
      }
     },
     "bfbb7086000841088cb0bff98586d703": {
      "model_module": "@jupyter-widgets/controls",
      "model_module_version": "1.0.0",
      "model_name": "CheckboxModel",
      "state": {
       "description": "Visible",
       "disabled": false,
       "layout": "IPY_MODEL_577ecc573e8a4287bff2858034e8f45f",
       "style": "IPY_MODEL_05f76a9711814bdc929b6548469f58c0",
       "value": true
      }
     },
     "bfd67d1aaa48446eb1f64b2234167574": {
      "model_module": "@jupyter-widgets/controls",
      "model_module_version": "1.0.0",
      "model_name": "DescriptionStyleModel",
      "state": {
       "description_width": ""
      }
     },
     "bfff5c345ab347caa58ad3e79a27e13e": {
      "model_module": "@jupyter-widgets/controls",
      "model_module_version": "1.0.0",
      "model_name": "ButtonStyleModel",
      "state": {}
     },
     "c01452ef16a34a91b6a387930197131f": {
      "model_module": "@jupyter-widgets/base",
      "model_module_version": "1.0.0",
      "model_name": "LayoutModel",
      "state": {}
     },
     "c05d2c6195a74f22a4ee4f03b0c4f1c8": {
      "model_module": "@jupyter-widgets/controls",
      "model_module_version": "1.0.0",
      "model_name": "IntTextModel",
      "state": {
       "description": "Feature columns:",
       "layout": "IPY_MODEL_a6dad20a8c204f0880ca6fa134de5aff",
       "step": 1,
       "style": "IPY_MODEL_d59d3cbd6f8242e999ae21c2f1fbf4d8",
       "value": 3
      }
     },
     "c0989d621b684977a0522f201b061a27": {
      "model_module": "@jupyter-widgets/controls",
      "model_module_version": "1.0.0",
      "model_name": "ButtonModel",
      "state": {
       "icon": "refresh",
       "layout": "IPY_MODEL_e47bb9f88f17478fb68d0db1dc4a841c",
       "style": "IPY_MODEL_fc5bb27af23f451eb6f722355ff54fec"
      }
     },
     "c0cb20a9051f43b185022784bf93ee6d": {
      "model_module": "@jupyter-widgets/controls",
      "model_module_version": "1.0.0",
      "model_name": "SelectModel",
      "state": {
       "_options_labels": [
        "input1",
        "input2",
        "hidden1",
        "hidden2",
        "shared-hidden",
        "output1",
        "output2"
       ],
       "description": "Layer:",
       "index": 6,
       "layout": "IPY_MODEL_5e04811e28bd4b7394deb6efe855a9a4",
       "rows": 1,
       "style": "IPY_MODEL_07c5c7e1598a48fe9026191ce8456b4a"
      }
     },
     "c0d476610d434e699bc9745bac6b5a81": {
      "model_module": "@jupyter-widgets/controls",
      "model_module_version": "1.0.0",
      "model_name": "ButtonModel",
      "state": {
       "icon": "fast-forward",
       "layout": "IPY_MODEL_5e782c9aa99f4cab8e1d81a77f3dad98",
       "style": "IPY_MODEL_ecc0ea531efb45baa840d97efc64b185"
      }
     },
     "c0f11046a1f34a69998c5c322eee640a": {
      "model_module": "@jupyter-widgets/controls",
      "model_module_version": "1.0.0",
      "model_name": "SelectModel",
      "state": {
       "_options_labels": [
        ""
       ],
       "description": "Features:",
       "index": 0,
       "layout": "IPY_MODEL_706a68e4036d402898c417738213e776",
       "rows": 1,
       "style": "IPY_MODEL_fb1839a999354b809ac197b95805a310"
      }
     },
     "c169084c90d640619d5d9dc6cfd5ad39": {
      "model_module": "@jupyter-widgets/controls",
      "model_module_version": "1.0.0",
      "model_name": "VBoxModel",
      "state": {
       "children": [
        "IPY_MODEL_d1108bddd1f14732bf5e2de4ad6da907",
        "IPY_MODEL_d3b5af7dbe00448da2ff35ace3b2e68a",
        "IPY_MODEL_b6263e9d81884df489b0ceef3890cb13",
        "IPY_MODEL_ce3fc385712b4cf7aaf4e82bfddbaf7b",
        "IPY_MODEL_7f13dbf1903542e0afcf38fea9938bea",
        "IPY_MODEL_4e52d92220d44c3e9d6b951ef0c0e88c",
        "IPY_MODEL_63a75b2069db413388f1f900c501df94"
       ],
       "layout": "IPY_MODEL_5fe32f681f064f49bcba4f78af0def81"
      }
     },
     "c17b5c68774644718424d22326b42a4c": {
      "model_module": "@jupyter-widgets/controls",
      "model_module_version": "1.0.0",
      "model_name": "DescriptionStyleModel",
      "state": {
       "description_width": "initial"
      }
     },
     "c1ba453921194994b644834cd11d8793": {
      "model_module": "@jupyter-widgets/base",
      "model_module_version": "1.0.0",
      "model_name": "LayoutModel",
      "state": {}
     },
     "c1bcbcffcd464ba5b44b9c42a3c6a203": {
      "model_module": "@jupyter-widgets/controls",
      "model_module_version": "1.0.0",
      "model_name": "DescriptionStyleModel",
      "state": {
       "description_width": "initial"
      }
     },
     "c23916fa729948dfb3ebc96857c49928": {
      "model_module": "@jupyter-widgets/controls",
      "model_module_version": "1.0.0",
      "model_name": "ButtonStyleModel",
      "state": {}
     },
     "c24326029bc84d7ba92cf30416743ca7": {
      "model_module": "@jupyter-widgets/controls",
      "model_module_version": "1.0.0",
      "model_name": "DescriptionStyleModel",
      "state": {
       "description_width": "initial"
      }
     },
     "c254cbf1d64e4006a779bff765577091": {
      "model_module": "@jupyter-widgets/controls",
      "model_module_version": "1.0.0",
      "model_name": "LabelModel",
      "state": {
       "layout": "IPY_MODEL_5523bad8c3e64fff9c49dad0e59ba018",
       "style": "IPY_MODEL_248cc349140c43a5840c615e4c2df315",
       "value": "of 0"
      }
     },
     "c299b90d84a64c55b53e1e350eff4048": {
      "model_module": "@jupyter-widgets/controls",
      "model_module_version": "1.0.0",
      "model_name": "HBoxModel",
      "state": {
       "children": [
        "IPY_MODEL_6d454fd683bb4e5db0608013aeceb3ad",
        "IPY_MODEL_0763d645e4e340d1bc8211d83f287337"
       ],
       "layout": "IPY_MODEL_a546ecb3557648c0908d6be96ce0c0dc"
      }
     },
     "c2f0f1e6b78d4c71ac8f0a4b9d450df4": {
      "model_module": "@jupyter-widgets/controls",
      "model_module_version": "1.0.0",
      "model_name": "CheckboxModel",
      "state": {
       "description": "Show Targets",
       "disabled": false,
       "layout": "IPY_MODEL_101c6ed00c9541af92f484aec3dbd20f",
       "style": "IPY_MODEL_f6477d8aad6141c785248875a6181212",
       "value": false
      }
     },
     "c2ff6a07e55f4ac0a07c05b251210a35": {
      "model_module": "@jupyter-widgets/controls",
      "model_module_version": "1.0.0",
      "model_name": "IntTextModel",
      "state": {
       "layout": "IPY_MODEL_892e6cc49e024e9fb8b7bedbee8028ed",
       "step": 1,
       "style": "IPY_MODEL_1c861609739c4ff48aea7a72f6147a16"
      }
     },
     "c32d3b0ff1804415ac46cc7badd8005e": {
      "model_module": "@jupyter-widgets/controls",
      "model_module_version": "1.0.0",
      "model_name": "VBoxModel",
      "state": {
       "children": [
        "IPY_MODEL_94a1fa079c4a4d8e84f279918cabd9f2",
        "IPY_MODEL_888ee6faa8644ad886c670d8eca3f7dd"
       ],
       "layout": "IPY_MODEL_19cc554f8612407492e295ccf319e3c0"
      }
     },
     "c34a9ece608c47e3a903a7d92fb5a037": {
      "model_module": "@jupyter-widgets/controls",
      "model_module_version": "1.0.0",
      "model_name": "DescriptionStyleModel",
      "state": {
       "description_width": "initial"
      }
     },
     "c598f01f7ec24a40b898be83bb0231d4": {
      "model_module": "@jupyter-widgets/base",
      "model_module_version": "1.0.0",
      "model_name": "LayoutModel",
      "state": {}
     },
     "c5a585886ef642478537eb4fad441b97": {
      "model_module": "@jupyter-widgets/controls",
      "model_module_version": "1.0.0",
      "model_name": "ButtonStyleModel",
      "state": {}
     },
     "c62dde8ac67d4e93ab32d74487073684": {
      "model_module": "@jupyter-widgets/controls",
      "model_module_version": "1.0.0",
      "model_name": "HBoxModel",
      "state": {
       "children": [
        "IPY_MODEL_03531f542fdb4f33baf5dc5b30eee250",
        "IPY_MODEL_b6413c4587854dcb82a679b92e9a5c0b"
       ],
       "layout": "IPY_MODEL_56eef0f0e8a94292a181fd90bb1aac2e"
      }
     },
     "c67c4fef1ef143c1becdf3610eecd585": {
      "model_module": "@jupyter-widgets/base",
      "model_module_version": "1.0.0",
      "model_name": "LayoutModel",
      "state": {
       "width": "100%"
      }
     },
     "c6de4d9560b14f1fb47dd92147c8e9f5": {
      "model_module": "@jupyter-widgets/controls",
      "model_module_version": "1.0.0",
      "model_name": "VBoxModel",
      "state": {
       "children": [
        "IPY_MODEL_081c8e433a3a492b8ad39fb8fbbdefb2",
        "IPY_MODEL_c32d3b0ff1804415ac46cc7badd8005e",
        "IPY_MODEL_4dab2b66ba9b40769d5981da9060dee6",
        "IPY_MODEL_f5b0e91878e243609aaba3423d53820f"
       ],
       "layout": "IPY_MODEL_f9149ce4988047aa8ee0a05d34d57770"
      }
     },
     "c7101b821ed14ab385bc907ed35ce8c8": {
      "model_module": "@jupyter-widgets/controls",
      "model_module_version": "1.0.0",
      "model_name": "AccordionModel",
      "state": {
       "_titles": {
        "0": "XOR2 Network"
       },
       "children": [
        "IPY_MODEL_c62dde8ac67d4e93ab32d74487073684"
       ],
       "layout": "IPY_MODEL_1592910bd7c44085ac661381fbfb3c9d",
       "selected_index": null
      }
     },
     "c79ed401680347bf80126d847dc420a7": {
      "model_module": "@jupyter-widgets/controls",
      "model_module_version": "1.0.0",
      "model_name": "SliderStyleModel",
      "state": {
       "description_width": ""
      }
     },
     "c7acfbafdc6d4c729f63afa10b85f7ee": {
      "model_module": "@jupyter-widgets/controls",
      "model_module_version": "1.0.0",
      "model_name": "CheckboxModel",
      "state": {
       "description": "Show Targets",
       "disabled": false,
       "layout": "IPY_MODEL_0733ab47b5cd42a78da6c77993e20fa5",
       "style": "IPY_MODEL_42d15e94e69643b8a7816e6767aefb05",
       "value": false
      }
     },
     "c7f408b3b32141d4bcfc87eee31bf675": {
      "model_module": "@jupyter-widgets/controls",
      "model_module_version": "1.0.0",
      "model_name": "DescriptionStyleModel",
      "state": {
       "description_width": "initial"
      }
     },
     "c82727157b364af0b0832ecddc613f0c": {
      "model_module": "@jupyter-widgets/base",
      "model_module_version": "1.0.0",
      "model_name": "LayoutModel",
      "state": {}
     },
     "c881bd13c0ac4df192242591f0eb2c66": {
      "model_module": "@jupyter-widgets/controls",
      "model_module_version": "1.0.0",
      "model_name": "SelectModel",
      "state": {
       "_options_labels": [
        "input",
        "hidden",
        "output"
       ],
       "description": "Layer:",
       "index": 2,
       "layout": "IPY_MODEL_a65993399d1448fc8da38c6d0053d58f",
       "rows": 1,
       "style": "IPY_MODEL_9c92caa64d4640ef846569156f8b2f63"
      }
     },
     "c8a57a746d094d41a3ee647249560eca": {
      "model_module": "@jupyter-widgets/base",
      "model_module_version": "1.0.0",
      "model_name": "LayoutModel",
      "state": {
       "justify_content": "center",
       "overflow_x": "auto",
       "overflow_y": "auto",
       "width": "95%"
      }
     },
     "c8ccc29eb8f54966b2d35eaca7f0a144": {
      "model_module": "@jupyter-widgets/base",
      "model_module_version": "1.0.0",
      "model_name": "LayoutModel",
      "state": {
       "width": "100%"
      }
     },
     "c95ed0ffd57240f688f575759ec8f5de": {
      "model_module": "@jupyter-widgets/base",
      "model_module_version": "1.0.0",
      "model_name": "LayoutModel",
      "state": {}
     },
     "c99e8e4204b24294a0fb05620e8ed383": {
      "model_module": "@jupyter-widgets/base",
      "model_module_version": "1.0.0",
      "model_name": "LayoutModel",
      "state": {
       "width": "100%"
      }
     },
     "c9c9432c270447aea50441e3487ba352": {
      "model_module": "@jupyter-widgets/controls",
      "model_module_version": "1.0.0",
      "model_name": "DescriptionStyleModel",
      "state": {
       "description_width": "initial"
      }
     },
     "ca84aea774904cea97a5fa4134268d6b": {
      "model_module": "@jupyter-widgets/controls",
      "model_module_version": "1.0.0",
      "model_name": "SelectModel",
      "state": {
       "_options_labels": [
        ""
       ],
       "description": "Features:",
       "index": 0,
       "layout": "IPY_MODEL_e7f87a5219ed44219a03707226d0e434",
       "rows": 1,
       "style": "IPY_MODEL_ae386343abb44efdbf8f2db71c722b76"
      }
     },
     "ca9c402ffd6d4748964c4bd2fad2ffe4": {
      "model_module": "@jupyter-widgets/base",
      "model_module_version": "1.0.0",
      "model_name": "LayoutModel",
      "state": {
       "width": "100%"
      }
     },
     "caa934d2398c43e6907d46811f313618": {
      "model_module": "@jupyter-widgets/controls",
      "model_module_version": "1.0.0",
      "model_name": "LabelModel",
      "state": {
       "layout": "IPY_MODEL_b4e2299e0b5b420988153976de454b57",
       "style": "IPY_MODEL_f2bbdd2575934b939e2b8992570f42c7",
       "value": "of 0"
      }
     },
     "cafc462d2ed647d1b28e9237a8dffb3e": {
      "model_module": "@jupyter-widgets/base",
      "model_module_version": "1.0.0",
      "model_name": "LayoutModel",
      "state": {
       "width": "100%"
      }
     },
     "cb326653117c45799066ad6072aa92c2": {
      "model_module": "@jupyter-widgets/controls",
      "model_module_version": "1.0.0",
      "model_name": "ButtonStyleModel",
      "state": {}
     },
     "cb4fda6f1f9d4b2b88737da96bbae74a": {
      "model_module": "@jupyter-widgets/controls",
      "model_module_version": "1.0.0",
      "model_name": "FloatTextModel",
      "state": {
       "description": "Rightmost color maps to:",
       "layout": "IPY_MODEL_765f1112dd4c4c6798675d792d0247d5",
       "step": null,
       "style": "IPY_MODEL_0640584e4f20497784bc584bc08979fe",
       "value": 1
      }
     },
     "cb82d6f49bbd496a8a7ce1e5426a56fb": {
      "model_module": "@jupyter-widgets/controls",
      "model_module_version": "1.0.0",
      "model_name": "DescriptionStyleModel",
      "state": {
       "description_width": "initial"
      }
     },
     "cb8e74d707604f758864f6dcef2dda10": {
      "model_module": "@jupyter-widgets/controls",
      "model_module_version": "1.0.0",
      "model_name": "VBoxModel",
      "state": {
       "children": [
        "IPY_MODEL_c7101b821ed14ab385bc907ed35ce8c8",
        "IPY_MODEL_551c1378249d4100833a89bab5ce7a65",
        "IPY_MODEL_64b6b56f1c28483fb94fd70afb0a4034",
        "IPY_MODEL_16fb5dc7650d40d48e4f239057f2aaed"
       ],
       "layout": "IPY_MODEL_0e5ed026aac846b9a20e757624336b43"
      }
     },
     "cc222bc2e5684482864970d5f44bc050": {
      "model_module": "@jupyter-widgets/controls",
      "model_module_version": "1.0.0",
      "model_name": "ButtonStyleModel",
      "state": {}
     },
     "cc3f67032fd44a4db21563f6acb3dce5": {
      "model_module": "@jupyter-widgets/controls",
      "model_module_version": "1.0.0",
      "model_name": "VBoxModel",
      "state": {
       "children": [
        "IPY_MODEL_44a043633a12473dae62837f50f8b01c",
        "IPY_MODEL_4f5d6af2e0c5486db7e556fbcc828565",
        "IPY_MODEL_90311ac86b7844758334be70daaca731",
        "IPY_MODEL_2c5846309455430f8b23e86a10f911b8",
        "IPY_MODEL_f6ebc6ea804e4f21968952dca90b4dff",
        "IPY_MODEL_02983d3c678c4cbfac16d9e4e39ee88e",
        "IPY_MODEL_4e7b6c78aacc49498efa4a5da73461fc",
        "IPY_MODEL_ed2a3924c8914620ac5fee73a4f6c9cc"
       ],
       "layout": "IPY_MODEL_7c72ebf6d0cc4d94a3d9cfba0e2540c5"
      }
     },
     "cc788d53ade64aecba0529a2479d7e7c": {
      "model_module": "@jupyter-widgets/controls",
      "model_module_version": "1.0.0",
      "model_name": "ButtonModel",
      "state": {
       "description": "Play",
       "icon": "play",
       "layout": "IPY_MODEL_228dcf093be74306ae578577965a8560",
       "style": "IPY_MODEL_11a0d9f5301d49a9b1fa89622d2c67a8"
      }
     },
     "cca606642cae4e68b3bb9ef66210749f": {
      "model_module": "@jupyter-widgets/controls",
      "model_module_version": "1.0.0",
      "model_name": "DescriptionStyleModel",
      "state": {
       "description_width": ""
      }
     },
     "ccff427421894164a19819a3c1666ecc": {
      "model_module": "@jupyter-widgets/controls",
      "model_module_version": "1.0.0",
      "model_name": "DescriptionStyleModel",
      "state": {
       "description_width": "initial"
      }
     },
     "cd6583d77a8d450a935f7d0a9ea916b0": {
      "model_module": "@jupyter-widgets/controls",
      "model_module_version": "1.0.0",
      "model_name": "ButtonModel",
      "state": {
       "icon": "forward",
       "layout": "IPY_MODEL_94b6dc05e7e34502ad535def4dc718bc",
       "style": "IPY_MODEL_b39e025f51f946a896b2c5dc91078728"
      }
     },
     "cd699b1b93a64a4ab5118278dde7eedd": {
      "model_module": "@jupyter-widgets/controls",
      "model_module_version": "1.0.0",
      "model_name": "IntTextModel",
      "state": {
       "layout": "IPY_MODEL_6d2a62a9b6ed4b21b4cd693fa8ce6d08",
       "step": 1,
       "style": "IPY_MODEL_95c13b187a4c42e9b1141611d5c31a68"
      }
     },
     "ce3fc385712b4cf7aaf4e82bfddbaf7b": {
      "model_module": "@jupyter-widgets/controls",
      "model_module_version": "1.0.0",
      "model_name": "HTMLModel",
      "state": {
       "layout": "IPY_MODEL_72122d513dc542ae880b206ee2b722a2",
       "style": "IPY_MODEL_eefafdb72aca409b9441f91ddff4724a",
       "value": "<img src=\"data:image/gif;base64,R0lGODdhLAEZAIcAAPEBAY8AAM8AAAEB8q8AAAAAbwAAsAAAkAAA0PTo8vr3+wAAV0dH/7e3//9WVv/W1hYW/zQ0/2dn/4aG/6Sk/9nZ//8XF/82Nv9oaP+Xl/+1tSQk/1lZ/3h4/5SU/8nJ//8mJv9ERP95ef+Hh/+mpv/ExH8AAAAAAAAAAAAAAAAAAAAAAAAAAAAAAAAAAAAAAAAAAAAAAAAAAAAAAAAAAAAAAAAAAAAAAAAAAAAAAAAAAAAAAAAAAAAAAAAAAAAAAAAAAAAAAAAAAAAAAAAAAAAAAAAAAAAAAAAAAAAAAAAAAAAAAAAAAAAAAAAAAAAAAAAAAAAAAAAAAAAAAAAAAAAAAAAAAAAAAAAAAAAAAAAAAAAAAAAAAAAAAAAAAAAAAAAAAAAAAAAAAAAAAAAAAAAAAAAAAAAAAAAAAAAAAAAAAAAAAAAAAAAAAAAAAAAAAAAAAAAAAAAAAAAAAAAAAAAAAAAAAAAAAAAAAAAAAAAAAAAAAAAAAAAAAAAAAAAAAAAAAAAAAAAAAAAAAAAAAAAAAAAAAAAAAAAAAAAAAAAAAAAAAAAAAAAAAAAAAAAAAAAAAAAAAAAAAAAAAAAAAAAAAAAAAAAAAAAAAAAAAAAAAAAAAAAAAAAAAAAAAAAAAAAAAAAAAAAAAAAAAAAAAAAAAAAAAAAAAAAAAAAAAAAAAAAAAAAAAAAAAAAAAAAAAAAAAAAAAAAAAAAAAAAAAAAAAAAAAAAAAAAAAAAAAAAAAAAAAAAAAAAAAAAAAAAAAAAAAAAAAAAAAAAAAAAAAAAAAAAAAAAAAAAAAAAAAAAAAAAAAAAAAAAAAAAAAAAAAAAAAAAAAAAAAAAAAAAAAAAAAAAAAAAAAAAAAAAAAAAAAAAAAAAAAAAAAAAAAAAAAAAAAAAAAAAAAAAAAAAAAAAAAAAAAAAAAAAAAAAAAAAAAAAAAAAAAAAAAAAAAAAAAAAAAAAAAAAAAAAAAAAAAAAAAAAAAAAAAAAAAAAAAAAAAAAAAAAAAAAAAAAAAAAAACwAAAAALAEZAEAI/wBNBBhIsKBBgwQSKlzIUKGAhxAjSowIoKLFixgzVrTAkSOIjyAuiBQZomQIByhTYli5UoRLESNijshAkyaJmyQ06NRZomeJB0CDJhg6VIHRo0cTKE1QoWnTD1A/NJhKlYJVqx6yepjAlWuHrx0kiBXLoSwHBmjTRli7doPbDRDixh1At67du3UR6N3LV6+Bv4ADCz5AuLBhwgUSK17MeIHjxyYCSJ5MuXJlApgza96cWYDnz6BDgwZAurTp06hJW1i9GoRrEBdixw5BO4SD27gx6NYtoreIEcBHZBg+nIRxEhqSJy/BvMSD59ATSJeuoLp16wmyJ6jAnfuH7x8aiP8fT6F8eQ/oPUxYv76D+w4S4sfnQJ8Dg/v4I+jXv6H/BoAQBAocUNDgQYQGESxk2HChAYgRJU48UNHixYoFNG7k2HHBR5AmAowkWdKkSQIpVa5kqVLAS5gxZcYEUNPmTZw5a1rgyRPETxAXhAoNUTSEA6RJMSxdKsKpiBFRR2SgSpXEVRIatGot0bXEA7BhE4wdq8Ds2bMJ1Cao0LbtB7gfGsylS8GuXQ95PUzgy7fD3w4SBAvmUJgDA8SJIyxevMHxBgiRIw+gXNny5coING/mrNnAZ9ChRR8gXdo06QKpVa9mvcD1axMBZM+mXbs2Ady5de/OLcD3b+DBgQMgXtz/+HHkxC0sXw7COYgL0aOHoB7CwXXsGLRrF9FdxAjwIzKMH0/CPAkN6dOXYF/iwXv4CeTLV1Dfvv0E+RNU4M//A8APAhsQLEjh4EEPCj1MaNiwA8QOEiZO5GCRA4OMGiNw5Ljh4wYIIkUOKGnyJEqTCFaybLnSAMyYMmceqGnzZs0COnfy7LngJ1ATAYYSLWrUKIGkSpcyVSrgKdSoUqMCqGr1KtasVS1w5QriK4gLYsWGKBvCAdq0GNauFeFWxIi4IzLQpUviLgkNevWW6FviAeDACQYPVmD48OEEihNUaNz4A+QPDSZTpmDZsofMHiZw5tzhcwcJokVzKM2BAerU/xFWr97gegOE2LEH0K5t+3ZtBLp389Zt4Dfw4MIPEC9unHiB5MqXM1/g/LmJANKnU69enQD27Nq3Zxfg/Tv48OABkC9v/jx68hbWrwfhHsSF+PFD0A/h4D5+DPr1i+gvAuAIgSMyFCxIAiEJDQsXlnBY4kFEiQkoUlRwESPGBBsTVPDo8UPIDw1IlqRw8qQHlR4mtGzZAWYHCTNncrDJgUFOnRF48tzwcwMEoUIHFDV6FKlRBEuZNl1qAGpUqVMPVLV6tWoBrVu5dl3wFayJAGPJljVrlkBatWvZqhXwFm5cuXEB1LV7F2/euhb48gXxF8QFwYJDFA7hAHFiDIsXi/9wLGJE5BEZKFMmcZmEBs2aS3Qu8QB06ASjRyswffp0AtUJKrRu/QH2hwazaVOwbdtDbg8TePPu8LuDBOHCORTnwAB58gjLl29wvgFC9OgDqFe3fr06Au3buWs38B18ePEHyJc3T75AevXr2S9w/95EAPnz6devTwB/fv378wvwD1CAwIEECwoAgDChwoUMEVp4+BCERBAXKlYMgTGEg40cMXj0KCKkiBEkR2Q4eZKEShIaWrYsAbPEg5k0E9i0qSCnTp0JeiaoABToh6EfGhg9SiFpUg9MPUx4+rSD1A4SqlblgJUDg61cI3j1uiHsBghkyQ44izatWrQI2rp929b/gNy5dOseuIs3790CfPv6/bsgsGATAQobPowYMYHFjBs7ZiwgsuTJlCcDuIw5s+bNly149gwiNIgLpEmHOB3CgerVGFq3FgFbxIjZIzLYtk0iNwkNvHmX+F3igfDhCYoXV4A8efIEzBNUeP78g/QPDapbp4Adu4ftHiZ4994hfAcJ5MlzOM+Bgfr1Edq33wB/A4T58wfYv48//30E/Pv7B4gAgQGCBQ0ePJBQ4cKEBRw+hBhxwUSKJgJcxJhRo0YCHT1+BOlRwEiSJU2WBJBS5UqWLVNagAkTxEwQF2zaDJEzhAOePTH8/ClCqIgRRUdkQIqUxFISGpw6LRG1xAOq/1UTXL2qQOvWrQm8JqgQNuwHsh8anEVLQa1aD209TIALt8PcDhLs2uWQlwMDvn0j/P27QfAGCIULD0CcWPHixAgcP4bs2MBkypUtH8CcWTPmAp09fwa9QPRoEwFMn0adOjUB1q1dv24tQPZs2rVpA8CdW/du3rgt/P4NQjiIC8WLh0AewsFy5hicOxcRXcQI6iMyXL9OQjsJDd27lwBf4sF48gnMm1eQXr36BO0TVIAP/8P8Dw3s36eQP78H/h4mAJwgcEKHgh0kIETIYSEHBg4fRogYcQPFDRAuXhygcSPHjhsRgAwpEqSBkiZPojygciVLlQVewowpcwHNmiYC4P/MqXPnTgI+fwIN+lMA0aJGjxoFoHQp06ZOlVqIGhUEVRAXrl4NoTWEg65eMYAFK2KsiBFmR2RIm5YEWxIa3r4tIbfEg7p2E+DFq2AvX74J/iaoIFjwh8IfGiBOTGHxYg+OPUyIHLkD5Q4SLl/moJkDg86eI4AGvWH0BgimTQ9IrXo1a9UIXsOO/doA7dq2bx/IrXt37gK+fwMPvmA4cRMBjiNPrlw5gebOn0N3LmA69erWqwPIrn079+7ZLYAHD2I8iAvmzYdIH8IB+/YY3r8XIV/EiPojMuDHT2I/CQ3+AWrQUIJgiQcHESZQqFBBQ4cOE0RMUIEixQ8XPzTQuJH/QseOHkB6mDByZAeTHSSkTMmBJQcGL2FGkClzQ80NEHDiHLCTZ0+fPBEEFTo0qAGjR5EmPbCUadOlBaBGlTp1QVWrJgJk1bqVK1cCX8GGFQtWQFmzZ9GeBbCWbVu3b9dakCsXRF0QF/DiDbE3hAO/fzEEDiyCsIgRh0dkUKyYRGMSGiBDLjG5xAPLlxNkzqyAc+fOCUAnqDB69AfTHxqkVk2BNWsPrz1MkC27Q+0OEnDj5rCbAwPfvyMED76B+AYIx48PUL6cefPlCKBHlw7dQHXr17Ef0L6du/YC38GHF7+AfHkTAdCnV79+PQH37+HHfy+Afn379+0D0L+ff3///wABALBAkCCIgyAuKFQYomEIBxAjYpg4UYRFESMyjsjAkSOJjyQ0iBRZomSJByhTJli5UoHLly8TyExQoWbNDzg/NNjJk4JPnx6CephAlGiHox0kKFXKoSkHBlCjRpg6dYPVDRCyZh3AtavXr10RiB1LVqyBs2jTqj3Atq1btgXiyp1Ld4HduyYC6N3Lt29fAoADCx4cWIDhw4gTIwbAuLHjx5AZW5g8GYRlEBcyZw7BOYSDz6AxiBYtorSIEahHZFi9moRrEhpixy5Bu8SD27gT6NatoLdv3wmCJ6hAnPiH4x8aKF9OoXlzD9A9TJg+vYP1DhKyZ+fAnQOD7+AjiP8Xv6H8Bgjo0Q9Yz769e/YI4sufH9+A/fv48x/Yz7//foAFBA4kWHDBQYQmAixk2NChQwIRJU6kKFHARYwZNWYE0NHjR5AhO1ogSRLESRAXVKoM0TKEA5gxMcycKcKmiBE5R2TgyZPETxIahAotUbTEA6RJEyxdqsDp06cJpCaoULXqB6wfGmzlSsGrVw9hPUwgS7bD2Q4S1Krl0JYDA7hxI8ydu8HuBgh58w7g29fv374IBA8mLNjAYcSJFR9g3Ngx4wKRJU+mvMDyZRMBNG/m3LkzAdChRY8OLcD0adSpUQNg3dr1a9isLcyeDcI2iAu5c4fgHcLBb+AYhAsXUVz/xAjkIzIsX07COQkN0aOXoF7iwXXsCbRrV9Ddu/cE4RNUIE/+w/kPDdSvp9C+vQf4HibMn9/BfgcJ+fNz4M+BAUAGAgVGKFhwA8INEBYuHODwIcSIDxFQrGiRooGMGjdyPODxI0iPBUaSLGlyAcqUJgKwbOny5UsCMmfSrDlTAM6cOnfqBODzJ9CgQn1aKFoUBFIQF5YuDeE0hIOoUjFQpSriqogRWkdk6NqVBFgSGsaOLWG2xIO0ahOwZavgLVy4CeYmqGDX7oe8Hxrw7Uvh718Pgj1MKFy4A+IOEhYv5uCYA4PIkiNQprzh8gYImjUP6Oz5M2jPCEaTLj3aAOrU/6pXH2jt+nXrArJn06694DZuEwF28+7t2zeB4MKHExcu4Djy5MqTA2ju/Dn06M0tUKcO4jqIC9q1h+gewgH48BjGjxdhXsSI9CMysGdP4j0JDfLll6hf4gH+/An271fgH6ACgQMTFExQASHCDws/NHD4kELEiB4oephw8WIHjR0kdOzIASQHBiNJRjBpckPKDRBYshzwEmZMmTAR1LR5s6YBnTt59jzwE2jQnwWIFjV6dEFSpSYCNHX6FCpUAlOpVrVKVUBWrVu5bgXwFWxYsWO/WjBrFkRaEBfYsg3xNoQDuXMx1K0rAq+IEXtHZPDrl0RgEhoIEy5xuMQDxYsTNP9urABy5MgJKCeocPnyB80fGnT2TAE0aA+jPUwwbbpD6g4SWLPm8JoDA9mzI9SuvQH3Bgi7dw/w/Rt48N8IiBc3TtxAcuXLmR9w/hy68wLTqVe3vgB7dhMBuHf3/v07AfHjyZcfLwB9evXr1QNw/x5+fPnuLdSvDwI/iAv794fwDzCEg4EEMRg0KCKhiBEMR2R4+JCERBIaKlYsgbHEg40cE3j0qCCkSJEJSiaogBLlh5UfGrh8SSFmTA80PUy4ebODzg4SevbkAJQDg6FEIxg1uiHpBghMmQ54CjWqVKgIqlq9WtWA1q1cux74Cjbs1wJky5o9uyCtWhMB2rp9Cxf/LoG5dOvapSsgr969fPcC+As4sODBfy0YNgwiMYgLjBmHeBzCgeTJGCpXFoFZxIjNIzJ49kwiNAkNpEmXOF3igerVCVq3VgA7duwEtBNUuH37g+4PDXr7pgAcuIfhHiYYN94heQcJzJlzeM6BgfTpEapX34B9A4Tt2wd4/w4+/HcE5MubJ28gvfr17A+4fw/ffYH59OvbX4A/v4kA/Pv7BxhA4ECCBAweRJjwoACGDR0+dAhA4kSKFS1KtJAxIwiOIC58/BhCZAgHJU1iQIlSxEoRI1yOyBAzJgmaJDTcvFlCZ4kHPX0mAApUwVCiRBMcTVBBqdIPTT80gBqVwtSp4x6sepiQNWsHrh0kfP3KQSwHBmXNRkCLdsPaDRDcuh0QV+5cunIR3MWb964Bvn39/j0QWPDgwAUMH0aceMFixiYCPIYcWbJkApUtX8ZsWcBmzp09dwYQWvRo0qVDW0CNGsRqEBdcuw4RO4QD2rUx3L4tQreIEb1HZAAOnMRwEhqMGy+RvMQD5s0TPH+uQPr06QmsJ6iQPfsH7h8afAdPQbx4D+U9TECPvsP6DhLcu+cQnwMD+vUj3L+/Qf8GCP37AxwgcCDBggMRIEyoEKGBhg4fQjwgcSJFiQUuYsyocQHHjgEBADs=\"/>"
      }
     },
     "ce6538cd3ae84572856cf5c579d0f79c": {
      "model_module": "@jupyter-widgets/base",
      "model_module_version": "1.0.0",
      "model_name": "LayoutModel",
      "state": {}
     },
     "cf246d29d4ba4721ac9c1f803759eca6": {
      "model_module": "@jupyter-widgets/controls",
      "model_module_version": "1.0.0",
      "model_name": "SelectModel",
      "state": {
       "_options_labels": [
        ""
       ],
       "description": "Features:",
       "index": 0,
       "layout": "IPY_MODEL_13e912094ea349a59b1b084958ec2d39",
       "rows": 1,
       "style": "IPY_MODEL_bb8629aa512f4a8ab8d2dbea23a80398"
      }
     },
     "cf6abc42d51a4b0d9e3d70c4210075a1": {
      "model_module": "@jupyter-widgets/base",
      "model_module_version": "1.0.0",
      "model_name": "LayoutModel",
      "state": {
       "width": "100%"
      }
     },
     "cf9ca8d001414398b80ad6f60e280361": {
      "model_module": "@jupyter-widgets/base",
      "model_module_version": "1.0.0",
      "model_name": "LayoutModel",
      "state": {}
     },
     "cfad18362d274c9b92b27d9d3fb19ed4": {
      "model_module": "@jupyter-widgets/base",
      "model_module_version": "1.0.0",
      "model_name": "LayoutModel",
      "state": {
       "width": "100%"
      }
     },
     "cfcc0e0515a0470b8a17c565351e04bc": {
      "model_module": "@jupyter-widgets/controls",
      "model_module_version": "1.0.0",
      "model_name": "HBoxModel",
      "state": {
       "children": [
        "IPY_MODEL_c2f0f1e6b78d4c71ac8f0a4b9d450df4",
        "IPY_MODEL_2d2e8449fe0e446d9e56d58677af0868"
       ],
       "layout": "IPY_MODEL_f80bb82810684e4a9dac584a0f125abb"
      }
     },
     "d1108bddd1f14732bf5e2de4ad6da907": {
      "model_module": "@jupyter-widgets/controls",
      "model_module_version": "1.0.0",
      "model_name": "SelectModel",
      "state": {
       "_options_labels": [
        "input1",
        "input2",
        "hidden1",
        "hidden2",
        "shared-hidden",
        "output1",
        "output2"
       ],
       "description": "Layer:",
       "index": 6,
       "layout": "IPY_MODEL_fd06dd935c494516897671fd1cfb8e64",
       "rows": 1,
       "style": "IPY_MODEL_1c89b1ea57ba4ee0931bd70c1064b9a8"
      }
     },
     "d122989318524dc1b9adfc6c3456e331": {
      "model_module": "@jupyter-widgets/controls",
      "model_module_version": "1.0.0",
      "model_name": "SliderStyleModel",
      "state": {
       "description_width": ""
      }
     },
     "d13153382fc24e69a02c82866eaa289c": {
      "model_module": "@jupyter-widgets/controls",
      "model_module_version": "1.0.0",
      "model_name": "DescriptionStyleModel",
      "state": {
       "description_width": "initial"
      }
     },
     "d135b4a9e5ca46cebdf81bbd1f871a51": {
      "model_module": "@jupyter-widgets/controls",
      "model_module_version": "1.0.0",
      "model_name": "DescriptionStyleModel",
      "state": {
       "description_width": ""
      }
     },
     "d19b172a893749beba28e9128cd61cf1": {
      "model_module": "@jupyter-widgets/base",
      "model_module_version": "1.0.0",
      "model_name": "LayoutModel",
      "state": {
       "width": "100%"
      }
     },
     "d1a1aaf2352a4fa7abd6563552f0d15a": {
      "model_module": "@jupyter-widgets/controls",
      "model_module_version": "1.0.0",
      "model_name": "HBoxModel",
      "state": {
       "children": [
        "IPY_MODEL_b548c350d7f74ea3893cb6cf92133b81",
        "IPY_MODEL_c254cbf1d64e4006a779bff765577091"
       ],
       "layout": "IPY_MODEL_58d242cd4181453284ead836607a18cb"
      }
     },
     "d2316a28fe2849c19a7acb9fc1a897e0": {
      "model_module": "@jupyter-widgets/base",
      "model_module_version": "1.0.0",
      "model_name": "LayoutModel",
      "state": {}
     },
     "d3b5af7dbe00448da2ff35ace3b2e68a": {
      "model_module": "@jupyter-widgets/controls",
      "model_module_version": "1.0.0",
      "model_name": "CheckboxModel",
      "state": {
       "description": "Visible",
       "disabled": false,
       "layout": "IPY_MODEL_7aa4162c5b014e94a77f19770305fd77",
       "style": "IPY_MODEL_408f6f5a2eda491992ec0fbb9073a5e0",
       "value": true
      }
     },
     "d50b4ba3fdf046f6aab3ed8c23733c34": {
      "model_module": "@jupyter-widgets/controls",
      "model_module_version": "1.0.0",
      "model_name": "HBoxModel",
      "state": {
       "children": [
        "IPY_MODEL_2092c4d836f4430083c6a7bd9d25d7d4",
        "IPY_MODEL_b5489ebc144340c6bbc195494a9c21e4",
        "IPY_MODEL_a71bf1c10b8f47d1a9cc44e3e50ea352",
        "IPY_MODEL_11b504ead803439aa47f94226ff4fcc9",
        "IPY_MODEL_818ad743e1714d7cb58ba5e0546eb5fc",
        "IPY_MODEL_4ad3e9bdaad74edea5cb760f8b05604a",
        "IPY_MODEL_01cb6278c8c5443494b67f81dc9d684d"
       ],
       "layout": "IPY_MODEL_28663a569ee644fd9ee10ed529fa79da"
      }
     },
     "d5274838d57248a997d76751cad64066": {
      "model_module": "@jupyter-widgets/base",
      "model_module_version": "1.0.0",
      "model_name": "LayoutModel",
      "state": {
       "width": "100%"
      }
     },
     "d59d3cbd6f8242e999ae21c2f1fbf4d8": {
      "model_module": "@jupyter-widgets/controls",
      "model_module_version": "1.0.0",
      "model_name": "DescriptionStyleModel",
      "state": {
       "description_width": "initial"
      }
     },
     "d684c5fe52414aa8ba0ba33d6b099539": {
      "model_module": "@jupyter-widgets/base",
      "model_module_version": "1.0.0",
      "model_name": "LayoutModel",
      "state": {
       "width": "100%"
      }
     },
     "d744a631eca04e46ad390d1b17bf06ea": {
      "model_module": "@jupyter-widgets/controls",
      "model_module_version": "1.0.0",
      "model_name": "VBoxModel",
      "state": {
       "children": [
        "IPY_MODEL_960ea6e7d1f64aff85448230a4e458ba",
        "IPY_MODEL_60b37c8769c6433190392db1df170873",
        "IPY_MODEL_a74c02d2f150440882686bd2e67c9583",
        "IPY_MODEL_ed407e886c6e40ed81a6250697e8b301",
        "IPY_MODEL_bd791987dc2c4110a31659b17a152d7c",
        "IPY_MODEL_1e79d0036b2240acbced8a987ff9e88e",
        "IPY_MODEL_a8d4c53ba38942d4876c3a7ee8085a91"
       ],
       "layout": "IPY_MODEL_a95e091fc50d4087853f89b0b62cbb3e"
      }
     },
     "d75a464bb44a45e685977cb31760a1aa": {
      "model_module": "@jupyter-widgets/base",
      "model_module_version": "1.0.0",
      "model_name": "LayoutModel",
      "state": {
       "justify_content": "center",
       "overflow_x": "auto",
       "overflow_y": "auto",
       "width": "95%"
      }
     },
     "d7b3e646e0b942d18075565163e9aefa": {
      "model_module": "@jupyter-widgets/base",
      "model_module_version": "1.0.0",
      "model_name": "LayoutModel",
      "state": {
       "width": "100%"
      }
     },
     "d80e6af3198141da8b12632372c8c1b8": {
      "model_module": "@jupyter-widgets/controls",
      "model_module_version": "1.0.0",
      "model_name": "DescriptionStyleModel",
      "state": {
       "description_width": ""
      }
     },
     "d8487c51af27459bbf3e6e4e58366b39": {
      "model_module": "@jupyter-widgets/controls",
      "model_module_version": "1.0.0",
      "model_name": "ButtonStyleModel",
      "state": {}
     },
     "d882ea236efe42c2b94bb8268c62251d": {
      "model_module": "@jupyter-widgets/controls",
      "model_module_version": "1.0.0",
      "model_name": "HTMLModel",
      "state": {
       "layout": "IPY_MODEL_d75a464bb44a45e685977cb31760a1aa",
       "style": "IPY_MODEL_f25fe01184e04fb1bc46980611845761",
       "value": "<p style=\"text-align:center\"><svg id='XOR Network' xmlns='http://www.w3.org/2000/svg' viewBox=\"0 0 350 260\" max-width=\"100%\" height=\"1014.0\" image-rendering=\"pixelated\">\n    <defs>\n        <marker id=\"arrow\" markerWidth=\"10\" markerHeight=\"10\" refX=\"9\" refY=\"3\" orient=\"auto\" markerUnits=\"strokeWidth\">\n          <path d=\"M0,0 L0,6 L9,3 z\" fill=\"black\" />\n        </marker>\n    </defs><text x=\"175.0\" y=\"12.5\" font-family=\"monospace\" font-size=\"15\" text-anchor=\"middle\" alignment-baseline=\"central\">XOR Network</text><rect x=\"149.0\" y=\"24\" width=\"52\" height=\"52\" style=\"fill:none;stroke:black;stroke-width:2\"/><image id=\"XOR Network_output_19\" class=\"XOR Network_output\" x=\"150.0\" y=\"25\" height=\"50\" width=\"50\" preserveAspectRatio=\"none\" href=\"data:image/gif;base64,R0lGODdhAQABAIcAAP/x8QAAAAAAAAAAAAAAAAAAAAAAAAAAAAAAAAAAAAAAAAAAAAAAAAAAAAAAAAAAAAAAAAAAAAAAAAAAAAAAAAAAAAAAAAAAAAAAAAAAAAAAAAAAAAAAAAAAAAAAAAAAAAAAAAAAAAAAAAAAAAAAAAAAAAAAAAAAAAAAAAAAAAAAAAAAAAAAAAAAAAAAAAAAAAAAAAAAAAAAAAAAAAAAAAAAAAAAAAAAAAAAAAAAAAAAAAAAAAAAAAAAAAAAAAAAAAAAAAAAAAAAAAAAAAAAAAAAAAAAAAAAAAAAAAAAAAAAAAAAAAAAAAAAAAAAAAAAAAAAAAAAAAAAAAAAAAAAAAAAAAAAAAAAAAAAAAAAAAAAAAAAAAAAAAAAAAAAAAAAAAAAAAAAAAAAAAAAAAAAAAAAAAAAAAAAAAAAAAAAAAAAAAAAAAAAAAAAAAAAAAAAAAAAAAAAAAAAAAAAAAAAAAAAAAAAAAAAAAAAAAAAAAAAAAAAAAAAAAAAAAAAAAAAAAAAAAAAAAAAAAAAAAAAAAAAAAAAAAAAAAAAAAAAAAAAAAAAAAAAAAAAAAAAAAAAAAAAAAAAAAAAAAAAAAAAAAAAAAAAAAAAAAAAAAAAAAAAAAAAAAAAAAAAAAAAAAAAAAAAAAAAAAAAAAAAAAAAAAAAAAAAAAAAAAAAAAAAAAAAAAAAAAAAAAAAAAAAAAAAAAAAAAAAAAAAAAAAAAAAAAAAAAAAAAAAAAAAAAAAAAAAAAAAAAAAAAAAAAAAAAAAAAAAAAAAAAAAAAAAAAAAAAAAAAAAAAAAAAAAAAAAAAAAAAAAAAAAAAAAAAAAAAAAAAAAAAAAAAAAAAAAAAAAAAAAAAAAAAAAAAAAAAAAAAAAAAAAAAAAAAAAAAAAAAAAAAAAAAAAAAAAAAAAAAAAAAAAAAAAAAAAAAAAAAAAAAAAAAAAAAAAAAAAAAAAAAAAAAAAAAAAAAAAAAAAAAAAAAAAAAAAAAAAAAAAAAAAAAAAAAAAAAAAAAAAAAAAAAAAACwAAAAAAQABAAAIBQABdAsIADs=\"><title>Layer: output (output)\n shape = (1,)\n Keras class = Dense\n activation = sigmoid</title></image><text x=\"205.0\" y=\"52.0\" font-family=\"monospace\" font-size=\"12\" text-anchor=\"start\" alignment-baseline=\"central\">output</text><line x1=\"175.0\" y1=\"104\" x2=\"175.0\" y2=\"77\" stroke=\"black\" stroke-width=\"2\" marker-end=\"url(#arrow)\"><title>Weights from hidden to output\n output/kernel has shape (4, 1)\n output/bias has shape (1,)</title></line><rect x=\"74.0\" y=\"104\" width=\"202\" height=\"52\" style=\"fill:none;stroke:black;stroke-width:2\"/><image id=\"XOR Network_hidden_20\" class=\"XOR Network_hidden\" x=\"75.0\" y=\"105\" height=\"50\" width=\"200\" preserveAspectRatio=\"none\" href=\"data:image/gif;base64,R0lGODdhBAABAIcAAAAA/wAAAAAAAAAAAAAAAAAAAAAAAAAAAAAAAAAAAAAAAAAAAAAAAAAAAAAAAAAAAAAAAAAAAAAAAAAAAAAAAAAAAAAAAAAAAAAAAAAAAAAAAAAAAAAAAAAAAAAAAAAAAAAAAAAAAAAAAAAAAAAAAAAAAAAAAAAAAAAAAAAAAAAAAAAAAAAAAAAAAAAAAAAAAAAAAAAAAAAAAAAAAAAAAAAAAAAAAAAAAAAAAAAAAAAAAAAAAAAAAAAAAAAAAAAAAAAAAAAAAAAAAAAAAAAAAAAAAAAAAAAAAAAAAAAAAAAAAAAAAAAAAAAAAAAAAAAAAAAAAAAAAAAAAAAAAAAAAAAAAAAAAAAAAAAAAAAAAAAAAAAAAAAAAAAAAAAAAAAAAAAAAAAAAAAAAAAAAAAAAAAAAAAAAAAAAAAAAAAAAAAAAAAAAAAAAAAAAAAAAAAAAAAAAAAAAAAAAAAAAAAAAAAAAAAAAAAAAAAAAAAAAAAAAAAAAAAAAAAAAAAAAAAAAAAAAAAAAAAAAAAAAAAAAAAAAAAAAAAAAAAAAAAAAAAAAAAAAAAAAAAAAAAAAAAAAAAAAAAAAAAAAAAAAAAAAAAAAAAAAAAAAAAAAAAAAAAAAAAAAAAAAAAAAAAAAAAAAAAAAAAAAAAAAAAAAAAAAAAAAAAAAAAAAAAAAAAAAAAAAAAAAAAAAAAAAAAAAAAAAAAAAAAAAAAAAAAAAAAAAAAAAAAAAAAAAAAAAAAAAAAAAAAAAAAAAAAAAAAAAAAAAAAAAAAAAAAAAAAAAAAAAAAAAAAAAAAAAAAAAAAAAAAAAAAAAAAAAAAAAAAAAAAAAAAAAAAAAAAAAAAAAAAAAAAAAAAAAAAAAAAAAAAAAAAAAAAAAAAAAAAAAAAAAAAAAAAAAAAAAAAAAAAAAAAAAAAAAAAAAAAAAAAAAAAAAAAAAAAAAAAAAAAAAAAAAAAAAAAAAAAAAAAAAAAAAAAAAAAAAAAAAAAAAAAAAAAAAAAAAAAAAAAAAAAAAAAAAAAAACwAAAAABAABAAAIBgABCAQQEAA7\"><title>Layer: hidden (hidden)\n shape = (4,)\n Keras class = Dense\n activation = sigmoid</title></image><text x=\"280.0\" y=\"132.0\" font-family=\"monospace\" font-size=\"12\" text-anchor=\"start\" alignment-baseline=\"central\">hidden</text><line x1=\"175.0\" y1=\"184\" x2=\"175.0\" y2=\"157\" stroke=\"black\" stroke-width=\"2\" marker-end=\"url(#arrow)\"><title>Weights from input to hidden\n hidden/kernel has shape (2, 4)\n hidden/bias has shape (4,)</title></line><rect x=\"124.0\" y=\"184\" width=\"102\" height=\"52\" style=\"fill:none;stroke:black;stroke-width:2\"/><image id=\"XOR Network_input_21\" class=\"XOR Network_input\" x=\"125.0\" y=\"185\" height=\"50\" width=\"100\" preserveAspectRatio=\"none\" href=\"data:image/gif;base64,R0lGODdhAgABAIcAAP/9/QAAAAAAAAAAAAAAAAAAAAAAAAAAAAAAAAAAAAAAAAAAAAAAAAAAAAAAAAAAAAAAAAAAAAAAAAAAAAAAAAAAAAAAAAAAAAAAAAAAAAAAAAAAAAAAAAAAAAAAAAAAAAAAAAAAAAAAAAAAAAAAAAAAAAAAAAAAAAAAAAAAAAAAAAAAAAAAAAAAAAAAAAAAAAAAAAAAAAAAAAAAAAAAAAAAAAAAAAAAAAAAAAAAAAAAAAAAAAAAAAAAAAAAAAAAAAAAAAAAAAAAAAAAAAAAAAAAAAAAAAAAAAAAAAAAAAAAAAAAAAAAAAAAAAAAAAAAAAAAAAAAAAAAAAAAAAAAAAAAAAAAAAAAAAAAAAAAAAAAAAAAAAAAAAAAAAAAAAAAAAAAAAAAAAAAAAAAAAAAAAAAAAAAAAAAAAAAAAAAAAAAAAAAAAAAAAAAAAAAAAAAAAAAAAAAAAAAAAAAAAAAAAAAAAAAAAAAAAAAAAAAAAAAAAAAAAAAAAAAAAAAAAAAAAAAAAAAAAAAAAAAAAAAAAAAAAAAAAAAAAAAAAAAAAAAAAAAAAAAAAAAAAAAAAAAAAAAAAAAAAAAAAAAAAAAAAAAAAAAAAAAAAAAAAAAAAAAAAAAAAAAAAAAAAAAAAAAAAAAAAAAAAAAAAAAAAAAAAAAAAAAAAAAAAAAAAAAAAAAAAAAAAAAAAAAAAAAAAAAAAAAAAAAAAAAAAAAAAAAAAAAAAAAAAAAAAAAAAAAAAAAAAAAAAAAAAAAAAAAAAAAAAAAAAAAAAAAAAAAAAAAAAAAAAAAAAAAAAAAAAAAAAAAAAAAAAAAAAAAAAAAAAAAAAAAAAAAAAAAAAAAAAAAAAAAAAAAAAAAAAAAAAAAAAAAAAAAAAAAAAAAAAAAAAAAAAAAAAAAAAAAAAAAAAAAAAAAAAAAAAAAAAAAAAAAAAAAAAAAAAAAAAAAAAAAAAAAAAAAAAAAAAAAAAAAAAAAAAAAAAAAAAAAAAAAAAAAAAAAAAAAAAAAAAAAAAAAAAAAACwAAAAAAgABAAAIBQABAAgIADs=\"><title>Layer: input (input)\n shape = (2,)\n Keras class = Input</title></image><text x=\"230.0\" y=\"212.0\" font-family=\"monospace\" font-size=\"12\" text-anchor=\"start\" alignment-baseline=\"central\">input</text></svg></p>"
      }
     },
     "d8d38c527f954402bf3ebaef3c5742bb": {
      "model_module": "@jupyter-widgets/controls",
      "model_module_version": "1.0.0",
      "model_name": "ButtonStyleModel",
      "state": {}
     },
     "d9eb3bf65c9c4fafa97bb5814ecd5c0e": {
      "model_module": "@jupyter-widgets/controls",
      "model_module_version": "1.0.0",
      "model_name": "HBoxModel",
      "state": {
       "children": [
        "IPY_MODEL_4b92fffa31174122aa966787785a1a68",
        "IPY_MODEL_6d0c28f5506148f3b24713830ee5047e",
        "IPY_MODEL_cd699b1b93a64a4ab5118278dde7eedd",
        "IPY_MODEL_a458788771d14397b80b5c8e4b98cc7d",
        "IPY_MODEL_90d218e3162249ca96a964497c0ff8d5",
        "IPY_MODEL_51b2de912e924daaa161a17f51314e4c",
        "IPY_MODEL_af970ba97a1343c3a01fec895b565ee9"
       ],
       "layout": "IPY_MODEL_9cfb91175a544c93b7d55b86f8397d1c"
      }
     },
     "dc756a49778f4ae1a4e47199e7859cba": {
      "model_module": "@jupyter-widgets/controls",
      "model_module_version": "1.0.0",
      "model_name": "DescriptionStyleModel",
      "state": {
       "description_width": "initial"
      }
     },
     "dfde107161464fdead2e3030497797e9": {
      "model_module": "@jupyter-widgets/base",
      "model_module_version": "1.0.0",
      "model_name": "LayoutModel",
      "state": {}
     },
     "e223f84643044ec9b69e1108c1208540": {
      "model_module": "@jupyter-widgets/controls",
      "model_module_version": "1.0.0",
      "model_name": "HBoxModel",
      "state": {
       "children": [
        "IPY_MODEL_5c24caad0799451ebc9c07fb4a96725b",
        "IPY_MODEL_605371fef5f14bfabc0b1656054fefb8",
        "IPY_MODEL_1b35073f4a9d4d3f97893f9a9f2509f7",
        "IPY_MODEL_3cfbd8074caf444889b0b2e546a14ff7",
        "IPY_MODEL_e3d58329e2314b14914d8d05dedde7f7",
        "IPY_MODEL_4fa534713b3c471c9b2361d0ad47bf7a",
        "IPY_MODEL_483ba9cf907d48cfb2fe054a862f000f"
       ],
       "layout": "IPY_MODEL_f921b179f79546299ba6c2291d5204c4"
      }
     },
     "e22967ac16f34f53b71bc252fb5bcd1f": {
      "model_module": "@jupyter-widgets/controls",
      "model_module_version": "1.0.0",
      "model_name": "DescriptionStyleModel",
      "state": {
       "description_width": ""
      }
     },
     "e22ac612b90c47cf96a0bbc124a9cbb7": {
      "model_module": "@jupyter-widgets/controls",
      "model_module_version": "1.0.0",
      "model_name": "VBoxModel",
      "state": {
       "children": [
        "IPY_MODEL_281cdf4c1c24445bb6f46a7315be2967",
        "IPY_MODEL_d9eb3bf65c9c4fafa97bb5814ecd5c0e"
       ],
       "layout": "IPY_MODEL_f8fa202d055443808ac8d408589f9267"
      }
     },
     "e240c1464e2a4f12a08825c90910caa2": {
      "model_module": "@jupyter-widgets/controls",
      "model_module_version": "1.0.0",
      "model_name": "ButtonStyleModel",
      "state": {}
     },
     "e2948e875ad54c95a1b9b67e5b9369a6": {
      "model_module": "@jupyter-widgets/base",
      "model_module_version": "1.0.0",
      "model_name": "LayoutModel",
      "state": {}
     },
     "e2a547f1399247e6adff2f68bbe31023": {
      "model_module": "@jupyter-widgets/controls",
      "model_module_version": "1.0.0",
      "model_name": "DescriptionStyleModel",
      "state": {
       "description_width": "initial"
      }
     },
     "e2fbc9719518404689f95d4ea6981068": {
      "model_module": "@jupyter-widgets/base",
      "model_module_version": "1.0.0",
      "model_name": "LayoutModel",
      "state": {}
     },
     "e300d939a8bd44f8a9f05c8e2e3e2de1": {
      "model_module": "@jupyter-widgets/controls",
      "model_module_version": "1.0.0",
      "model_name": "ButtonModel",
      "state": {
       "icon": "backward",
       "layout": "IPY_MODEL_2c5ef887bd8e4ec8bb3871f179453c58",
       "style": "IPY_MODEL_d8d38c527f954402bf3ebaef3c5742bb"
      }
     },
     "e3554c9b968246e2a5fecd6aec3f06a6": {
      "model_module": "@jupyter-widgets/base",
      "model_module_version": "1.0.0",
      "model_name": "LayoutModel",
      "state": {
       "width": "100%"
      }
     },
     "e3cfc9911f7e44d484ed32ed0be47a2e": {
      "model_module": "@jupyter-widgets/base",
      "model_module_version": "1.0.0",
      "model_name": "LayoutModel",
      "state": {
       "width": "25%"
      }
     },
     "e3d58329e2314b14914d8d05dedde7f7": {
      "model_module": "@jupyter-widgets/controls",
      "model_module_version": "1.0.0",
      "model_name": "ButtonModel",
      "state": {
       "icon": "fast-forward",
       "layout": "IPY_MODEL_8d82bb97bdda40e0b2d14d8fd572e2f5",
       "style": "IPY_MODEL_8a80d52a3b83424e848bc7174fdac8da"
      }
     },
     "e3de752bdf504bc6a5b6b4c4efe5b123": {
      "model_module": "@jupyter-widgets/controls",
      "model_module_version": "1.0.0",
      "model_name": "DescriptionStyleModel",
      "state": {
       "description_width": ""
      }
     },
     "e47bb9f88f17478fb68d0db1dc4a841c": {
      "model_module": "@jupyter-widgets/base",
      "model_module_version": "1.0.0",
      "model_name": "LayoutModel",
      "state": {
       "width": "25%"
      }
     },
     "e519437ac26d4788ac19c4a314f17ebf": {
      "model_module": "@jupyter-widgets/controls",
      "model_module_version": "1.0.0",
      "model_name": "ButtonModel",
      "state": {
       "icon": "fast-backward",
       "layout": "IPY_MODEL_42dde20eb2674f5d917027dc431ef312",
       "style": "IPY_MODEL_572250e505ab41b7b92c2c0218e6e0d3"
      }
     },
     "e555bde1ba9443a580a4071cddc7bb14": {
      "model_module": "@jupyter-widgets/controls",
      "model_module_version": "1.0.0",
      "model_name": "SelectModel",
      "state": {
       "_options_labels": [
        "input",
        "hidden",
        "output"
       ],
       "description": "Layer:",
       "index": 2,
       "layout": "IPY_MODEL_70b19d46118f4e40869c22c0c7ea96ae",
       "rows": 1,
       "style": "IPY_MODEL_52afd78dd9aa413ba5a4abc86df9e279"
      }
     },
     "e5e0a79a9be949c99858518922e2a429": {
      "model_module": "@jupyter-widgets/controls",
      "model_module_version": "1.0.0",
      "model_name": "DescriptionStyleModel",
      "state": {
       "description_width": "initial"
      }
     },
     "e678a747b1f04dc5a873354d819443bc": {
      "model_module": "@jupyter-widgets/base",
      "model_module_version": "1.0.0",
      "model_name": "LayoutModel",
      "state": {}
     },
     "e7c4459c83de4441951bec122cc1b6b7": {
      "model_module": "@jupyter-widgets/controls",
      "model_module_version": "1.0.0",
      "model_name": "IntTextModel",
      "state": {
       "description": "Vertical space between layers:",
       "layout": "IPY_MODEL_38857e0b0e4144c0b46e419ee77c45e7",
       "step": 1,
       "style": "IPY_MODEL_1d2004af23af4381a327ec269b417690",
       "value": 30
      }
     },
     "e7f87a5219ed44219a03707226d0e434": {
      "model_module": "@jupyter-widgets/base",
      "model_module_version": "1.0.0",
      "model_name": "LayoutModel",
      "state": {}
     },
     "e86c9da55be44b98865e650a5a6017ae": {
      "model_module": "@jupyter-widgets/controls",
      "model_module_version": "1.0.0",
      "model_name": "DescriptionStyleModel",
      "state": {
       "description_width": ""
      }
     },
     "e96a356f12814bfcb39740de5147dc69": {
      "model_module": "@jupyter-widgets/base",
      "model_module_version": "1.0.0",
      "model_name": "LayoutModel",
      "state": {}
     },
     "e9b937d211704040a69f7c9813c78e91": {
      "model_module": "@jupyter-widgets/controls",
      "model_module_version": "1.0.0",
      "model_name": "HTMLModel",
      "state": {
       "layout": "IPY_MODEL_7293a97f692e4c18a0af36ed9ed9507e",
       "style": "IPY_MODEL_8f2875c96f0843f69b6bbafee303d833",
       "value": "<p style=\"text-align:center\"><svg id='XOR2 Network' xmlns='http://www.w3.org/2000/svg' viewBox=\"0 0 800 305\" height=\"780\" image-rendering=\"pixelated\">\n    <defs>\n        <marker id=\"arrow\" markerWidth=\"10\" markerHeight=\"10\" refX=\"9\" refY=\"3\" orient=\"auto\" markerUnits=\"strokeWidth\">\n          <path d=\"M0,0 L0,6 L9,3 z\" fill=\"black\" />\n        </marker>\n    </defs><text x=\"400.0\" y=\"12.5\" font-family=\"monospace\" font-size=\"15\" text-anchor=\"middle\" alignment-baseline=\"central\">XOR2 Network</text><rect x=\"240.66666666666669\" y=\"24\" width=\"52\" height=\"52\" style=\"fill:none;stroke:black;stroke-width:2\"/><image id=\"XOR2 Network_output1_1\" class=\"XOR2 Network_output1\" x=\"241.66666666666669\" y=\"25\" height=\"50\" width=\"50\" preserveAspectRatio=\"none\" href=\"data:image/gif;base64,R0lGODdhAQABAIcAAAAAvwAAAAAAAAAAAAAAAAAAAAAAAAAAAAAAAAAAAAAAAAAAAAAAAAAAAAAAAAAAAAAAAAAAAAAAAAAAAAAAAAAAAAAAAAAAAAAAAAAAAAAAAAAAAAAAAAAAAAAAAAAAAAAAAAAAAAAAAAAAAAAAAAAAAAAAAAAAAAAAAAAAAAAAAAAAAAAAAAAAAAAAAAAAAAAAAAAAAAAAAAAAAAAAAAAAAAAAAAAAAAAAAAAAAAAAAAAAAAAAAAAAAAAAAAAAAAAAAAAAAAAAAAAAAAAAAAAAAAAAAAAAAAAAAAAAAAAAAAAAAAAAAAAAAAAAAAAAAAAAAAAAAAAAAAAAAAAAAAAAAAAAAAAAAAAAAAAAAAAAAAAAAAAAAAAAAAAAAAAAAAAAAAAAAAAAAAAAAAAAAAAAAAAAAAAAAAAAAAAAAAAAAAAAAAAAAAAAAAAAAAAAAAAAAAAAAAAAAAAAAAAAAAAAAAAAAAAAAAAAAAAAAAAAAAAAAAAAAAAAAAAAAAAAAAAAAAAAAAAAAAAAAAAAAAAAAAAAAAAAAAAAAAAAAAAAAAAAAAAAAAAAAAAAAAAAAAAAAAAAAAAAAAAAAAAAAAAAAAAAAAAAAAAAAAAAAAAAAAAAAAAAAAAAAAAAAAAAAAAAAAAAAAAAAAAAAAAAAAAAAAAAAAAAAAAAAAAAAAAAAAAAAAAAAAAAAAAAAAAAAAAAAAAAAAAAAAAAAAAAAAAAAAAAAAAAAAAAAAAAAAAAAAAAAAAAAAAAAAAAAAAAAAAAAAAAAAAAAAAAAAAAAAAAAAAAAAAAAAAAAAAAAAAAAAAAAAAAAAAAAAAAAAAAAAAAAAAAAAAAAAAAAAAAAAAAAAAAAAAAAAAAAAAAAAAAAAAAAAAAAAAAAAAAAAAAAAAAAAAAAAAAAAAAAAAAAAAAAAAAAAAAAAAAAAAAAAAAAAAAAAAAAAAAAAAAAAAAAAAAAAAAAAAAAAAAAAAAAAAAAAAAAAAAAAAAAAAAAAAAAAAAAAAAAAAAAAAAAAAAACwAAAAAAQABAAAIBQABNAsIADs=\"><title>Layer: output1 (output)\n shape = (1,)\n Keras class = Dense\n activation = sigmoid</title></image><text x=\"296.6666666666667\" y=\"52.0\" font-family=\"monospace\" font-size=\"12\" text-anchor=\"start\" alignment-baseline=\"central\">output1</text><rect x=\"507.33333333333337\" y=\"24\" width=\"52\" height=\"52\" style=\"fill:none;stroke:black;stroke-width:2\"/><image id=\"XOR2 Network_output2_2\" class=\"XOR2 Network_output2\" x=\"508.33333333333337\" y=\"25\" height=\"50\" width=\"50\" preserveAspectRatio=\"none\" href=\"data:image/gif;base64,R0lGODdhAQABAIcAAEFB/wAAAAAAAAAAAAAAAAAAAAAAAAAAAAAAAAAAAAAAAAAAAAAAAAAAAAAAAAAAAAAAAAAAAAAAAAAAAAAAAAAAAAAAAAAAAAAAAAAAAAAAAAAAAAAAAAAAAAAAAAAAAAAAAAAAAAAAAAAAAAAAAAAAAAAAAAAAAAAAAAAAAAAAAAAAAAAAAAAAAAAAAAAAAAAAAAAAAAAAAAAAAAAAAAAAAAAAAAAAAAAAAAAAAAAAAAAAAAAAAAAAAAAAAAAAAAAAAAAAAAAAAAAAAAAAAAAAAAAAAAAAAAAAAAAAAAAAAAAAAAAAAAAAAAAAAAAAAAAAAAAAAAAAAAAAAAAAAAAAAAAAAAAAAAAAAAAAAAAAAAAAAAAAAAAAAAAAAAAAAAAAAAAAAAAAAAAAAAAAAAAAAAAAAAAAAAAAAAAAAAAAAAAAAAAAAAAAAAAAAAAAAAAAAAAAAAAAAAAAAAAAAAAAAAAAAAAAAAAAAAAAAAAAAAAAAAAAAAAAAAAAAAAAAAAAAAAAAAAAAAAAAAAAAAAAAAAAAAAAAAAAAAAAAAAAAAAAAAAAAAAAAAAAAAAAAAAAAAAAAAAAAAAAAAAAAAAAAAAAAAAAAAAAAAAAAAAAAAAAAAAAAAAAAAAAAAAAAAAAAAAAAAAAAAAAAAAAAAAAAAAAAAAAAAAAAAAAAAAAAAAAAAAAAAAAAAAAAAAAAAAAAAAAAAAAAAAAAAAAAAAAAAAAAAAAAAAAAAAAAAAAAAAAAAAAAAAAAAAAAAAAAAAAAAAAAAAAAAAAAAAAAAAAAAAAAAAAAAAAAAAAAAAAAAAAAAAAAAAAAAAAAAAAAAAAAAAAAAAAAAAAAAAAAAAAAAAAAAAAAAAAAAAAAAAAAAAAAAAAAAAAAAAAAAAAAAAAAAAAAAAAAAAAAAAAAAAAAAAAAAAAAAAAAAAAAAAAAAAAAAAAAAAAAAAAAAAAAAAAAAAAAAAAAAAAAAAAAAAAAAAAAAAAAAAAAAAAAAAAAAAAAAAAAAAAAAAAAAAAACwAAAAAAQABAAAIBQABcAoIADs=\"><title>Layer: output2 (output)\n shape = (1,)\n Keras class = Dense\n activation = sigmoid</title></image><text x=\"563.3333333333334\" y=\"52.0\" font-family=\"monospace\" font-size=\"12\" text-anchor=\"start\" alignment-baseline=\"central\">output2</text><line x1=\"400.0\" y1=\"104\" x2=\"266.6666666666667\" y2=\"77\" stroke=\"black\" stroke-width=\"2\" marker-end=\"url(#arrow)\"><title>Weights from shared-hidden to output1\n output1/kernel has shape (5, 1)\n output1/bias has shape (1,)</title></line><line x1=\"400.0\" y1=\"104\" x2=\"533.3333333333334\" y2=\"77\" stroke=\"black\" stroke-width=\"2\" marker-end=\"url(#arrow)\"><title>Weights from shared-hidden to output2\n output2/kernel has shape (5, 1)\n output2/bias has shape (1,)</title></line><rect x=\"299.0\" y=\"104\" width=\"202\" height=\"42\" style=\"fill:none;stroke:black;stroke-width:2\"/><image id=\"XOR2 Network_shared-hidden_3\" class=\"XOR2 Network_shared-hidden\" x=\"300.0\" y=\"105\" height=\"40\" width=\"200\" preserveAspectRatio=\"none\" href=\"data:image/gif;base64,R0lGODdhBQABAIcAAAQE7j09/0FB/wAAAAAAAAAAAAAAAAAAAAAAAAAAAAAAAAAAAAAAAAAAAAAAAAAAAAAAAAAAAAAAAAAAAAAAAAAAAAAAAAAAAAAAAAAAAAAAAAAAAAAAAAAAAAAAAAAAAAAAAAAAAAAAAAAAAAAAAAAAAAAAAAAAAAAAAAAAAAAAAAAAAAAAAAAAAAAAAAAAAAAAAAAAAAAAAAAAAAAAAAAAAAAAAAAAAAAAAAAAAAAAAAAAAAAAAAAAAAAAAAAAAAAAAAAAAAAAAAAAAAAAAAAAAAAAAAAAAAAAAAAAAAAAAAAAAAAAAAAAAAAAAAAAAAAAAAAAAAAAAAAAAAAAAAAAAAAAAAAAAAAAAAAAAAAAAAAAAAAAAAAAAAAAAAAAAAAAAAAAAAAAAAAAAAAAAAAAAAAAAAAAAAAAAAAAAAAAAAAAAAAAAAAAAAAAAAAAAAAAAAAAAAAAAAAAAAAAAAAAAAAAAAAAAAAAAAAAAAAAAAAAAAAAAAAAAAAAAAAAAAAAAAAAAAAAAAAAAAAAAAAAAAAAAAAAAAAAAAAAAAAAAAAAAAAAAAAAAAAAAAAAAAAAAAAAAAAAAAAAAAAAAAAAAAAAAAAAAAAAAAAAAAAAAAAAAAAAAAAAAAAAAAAAAAAAAAAAAAAAAAAAAAAAAAAAAAAAAAAAAAAAAAAAAAAAAAAAAAAAAAAAAAAAAAAAAAAAAAAAAAAAAAAAAAAAAAAAAAAAAAAAAAAAAAAAAAAAAAAAAAAAAAAAAAAAAAAAAAAAAAAAAAAAAAAAAAAAAAAAAAAAAAAAAAAAAAAAAAAAAAAAAAAAAAAAAAAAAAAAAAAAAAAAAAAAAAAAAAAAAAAAAAAAAAAAAAAAAAAAAAAAAAAAAAAAAAAAAAAAAAAAAAAAAAAAAAAAAAAAAAAAAAAAAAAAAAAAAAAAAAAAAAAAAAAAAAAAAAAAAAAAAAAAAAAAAAAAAAAAAAAAAAAAAAAAAAAAAAAAAAAAAAAAAAAAAAAAAAAAAAAAAAAAAAAAACwAAAAABQABAAAIBwAFABgYICAAOw==\"><title>Layer: shared-hidden (hidden)\n shape = (5,)\n Keras class = Dense\n activation = sigmoid</title></image><text x=\"505.0\" y=\"127.0\" font-family=\"monospace\" font-size=\"12\" text-anchor=\"start\" alignment-baseline=\"central\">shared-hidden</text><line x1=\"266.6666666666667\" y1=\"174\" x2=\"400.0\" y2=\"147\" stroke=\"black\" stroke-width=\"2\" marker-end=\"url(#arrow)\"><title>Weights from hidden1 to shared-hidden\n shared-hidden/kernel has shape (20, 5)\n shared-hidden/bias has shape (5,)</title></line><rect x=\"165.66666666666669\" y=\"174\" width=\"202\" height=\"27\" style=\"fill:none;stroke:black;stroke-width:2\"/><image id=\"XOR2 Network_hidden1_4\" class=\"XOR2 Network_hidden1\" x=\"166.66666666666669\" y=\"175\" height=\"25\" width=\"200\" preserveAspectRatio=\"none\" href=\"data:image/gif;base64,R0lGODdhCgABAIcAAAAA/wAAAAAAAAAAAAAAAAAAAAAAAAAAAAAAAAAAAAAAAAAAAAAAAAAAAAAAAAAAAAAAAAAAAAAAAAAAAAAAAAAAAAAAAAAAAAAAAAAAAAAAAAAAAAAAAAAAAAAAAAAAAAAAAAAAAAAAAAAAAAAAAAAAAAAAAAAAAAAAAAAAAAAAAAAAAAAAAAAAAAAAAAAAAAAAAAAAAAAAAAAAAAAAAAAAAAAAAAAAAAAAAAAAAAAAAAAAAAAAAAAAAAAAAAAAAAAAAAAAAAAAAAAAAAAAAAAAAAAAAAAAAAAAAAAAAAAAAAAAAAAAAAAAAAAAAAAAAAAAAAAAAAAAAAAAAAAAAAAAAAAAAAAAAAAAAAAAAAAAAAAAAAAAAAAAAAAAAAAAAAAAAAAAAAAAAAAAAAAAAAAAAAAAAAAAAAAAAAAAAAAAAAAAAAAAAAAAAAAAAAAAAAAAAAAAAAAAAAAAAAAAAAAAAAAAAAAAAAAAAAAAAAAAAAAAAAAAAAAAAAAAAAAAAAAAAAAAAAAAAAAAAAAAAAAAAAAAAAAAAAAAAAAAAAAAAAAAAAAAAAAAAAAAAAAAAAAAAAAAAAAAAAAAAAAAAAAAAAAAAAAAAAAAAAAAAAAAAAAAAAAAAAAAAAAAAAAAAAAAAAAAAAAAAAAAAAAAAAAAAAAAAAAAAAAAAAAAAAAAAAAAAAAAAAAAAAAAAAAAAAAAAAAAAAAAAAAAAAAAAAAAAAAAAAAAAAAAAAAAAAAAAAAAAAAAAAAAAAAAAAAAAAAAAAAAAAAAAAAAAAAAAAAAAAAAAAAAAAAAAAAAAAAAAAAAAAAAAAAAAAAAAAAAAAAAAAAAAAAAAAAAAAAAAAAAAAAAAAAAAAAAAAAAAAAAAAAAAAAAAAAAAAAAAAAAAAAAAAAAAAAAAAAAAAAAAAAAAAAAAAAAAAAAAAAAAAAAAAAAAAAAAAAAAAAAAAAAAAAAAAAAAAAAAAAAAAAAAAAAAAAAAAAAAAAAAAAAAAAAAAAAAAAAAAAAAAAAAAAAACwAAAAACgABAAAIBwABCBxIMCAAOw==\"><title>Layer: hidden1 (hidden)\n shape = (10,)\n Keras class = Dense\n activation = sigmoid</title></image><text x=\"371.6666666666667\" y=\"189.5\" font-family=\"monospace\" font-size=\"12\" text-anchor=\"start\" alignment-baseline=\"central\">hidden1</text><line x1=\"533.3333333333334\" y1=\"174\" x2=\"400.0\" y2=\"147\" stroke=\"black\" stroke-width=\"2\" marker-end=\"url(#arrow)\"><title>Weights from hidden2 to shared-hidden\n shared-hidden/kernel has shape (20, 5)\n shared-hidden/bias has shape (5,)</title></line><rect x=\"432.33333333333337\" y=\"174\" width=\"202\" height=\"27\" style=\"fill:none;stroke:black;stroke-width:2\"/><image id=\"XOR2 Network_hidden2_5\" class=\"XOR2 Network_hidden2\" x=\"433.33333333333337\" y=\"175\" height=\"25\" width=\"200\" preserveAspectRatio=\"none\" href=\"data:image/gif;base64,R0lGODdhCgABAIcAAAAA/wAAAAAAAAAAAAAAAAAAAAAAAAAAAAAAAAAAAAAAAAAAAAAAAAAAAAAAAAAAAAAAAAAAAAAAAAAAAAAAAAAAAAAAAAAAAAAAAAAAAAAAAAAAAAAAAAAAAAAAAAAAAAAAAAAAAAAAAAAAAAAAAAAAAAAAAAAAAAAAAAAAAAAAAAAAAAAAAAAAAAAAAAAAAAAAAAAAAAAAAAAAAAAAAAAAAAAAAAAAAAAAAAAAAAAAAAAAAAAAAAAAAAAAAAAAAAAAAAAAAAAAAAAAAAAAAAAAAAAAAAAAAAAAAAAAAAAAAAAAAAAAAAAAAAAAAAAAAAAAAAAAAAAAAAAAAAAAAAAAAAAAAAAAAAAAAAAAAAAAAAAAAAAAAAAAAAAAAAAAAAAAAAAAAAAAAAAAAAAAAAAAAAAAAAAAAAAAAAAAAAAAAAAAAAAAAAAAAAAAAAAAAAAAAAAAAAAAAAAAAAAAAAAAAAAAAAAAAAAAAAAAAAAAAAAAAAAAAAAAAAAAAAAAAAAAAAAAAAAAAAAAAAAAAAAAAAAAAAAAAAAAAAAAAAAAAAAAAAAAAAAAAAAAAAAAAAAAAAAAAAAAAAAAAAAAAAAAAAAAAAAAAAAAAAAAAAAAAAAAAAAAAAAAAAAAAAAAAAAAAAAAAAAAAAAAAAAAAAAAAAAAAAAAAAAAAAAAAAAAAAAAAAAAAAAAAAAAAAAAAAAAAAAAAAAAAAAAAAAAAAAAAAAAAAAAAAAAAAAAAAAAAAAAAAAAAAAAAAAAAAAAAAAAAAAAAAAAAAAAAAAAAAAAAAAAAAAAAAAAAAAAAAAAAAAAAAAAAAAAAAAAAAAAAAAAAAAAAAAAAAAAAAAAAAAAAAAAAAAAAAAAAAAAAAAAAAAAAAAAAAAAAAAAAAAAAAAAAAAAAAAAAAAAAAAAAAAAAAAAAAAAAAAAAAAAAAAAAAAAAAAAAAAAAAAAAAAAAAAAAAAAAAAAAAAAAAAAAAAAAAAAAAAAAAAAAAAAAAAAAAAAAAAAAAAAAAAAAAAAACwAAAAACgABAAAIBwABCBxIMCAAOw==\"><title>Layer: hidden2 (hidden)\n shape = (10,)\n Keras class = Dense\n activation = sigmoid</title></image><text x=\"638.3333333333334\" y=\"189.5\" font-family=\"monospace\" font-size=\"12\" text-anchor=\"start\" alignment-baseline=\"central\">hidden2</text><line x1=\"266.6666666666667\" y1=\"229\" x2=\"266.6666666666667\" y2=\"202\" stroke=\"black\" stroke-width=\"2\" marker-end=\"url(#arrow)\"><title>Weights from input1 to hidden1\n hidden1/kernel has shape (1, 10)\n hidden1/bias has shape (10,)</title></line><rect x=\"240.66666666666669\" y=\"229\" width=\"52\" height=\"52\" style=\"fill:none;stroke:black;stroke-width:2\"/><image id=\"XOR2 Network_input1_6\" class=\"XOR2 Network_input1\" x=\"241.66666666666669\" y=\"230\" height=\"50\" width=\"50\" preserveAspectRatio=\"none\" href=\"data:image/gif;base64,R0lGODdhAQABAIcAAP/9/QAAAAAAAAAAAAAAAAAAAAAAAAAAAAAAAAAAAAAAAAAAAAAAAAAAAAAAAAAAAAAAAAAAAAAAAAAAAAAAAAAAAAAAAAAAAAAAAAAAAAAAAAAAAAAAAAAAAAAAAAAAAAAAAAAAAAAAAAAAAAAAAAAAAAAAAAAAAAAAAAAAAAAAAAAAAAAAAAAAAAAAAAAAAAAAAAAAAAAAAAAAAAAAAAAAAAAAAAAAAAAAAAAAAAAAAAAAAAAAAAAAAAAAAAAAAAAAAAAAAAAAAAAAAAAAAAAAAAAAAAAAAAAAAAAAAAAAAAAAAAAAAAAAAAAAAAAAAAAAAAAAAAAAAAAAAAAAAAAAAAAAAAAAAAAAAAAAAAAAAAAAAAAAAAAAAAAAAAAAAAAAAAAAAAAAAAAAAAAAAAAAAAAAAAAAAAAAAAAAAAAAAAAAAAAAAAAAAAAAAAAAAAAAAAAAAAAAAAAAAAAAAAAAAAAAAAAAAAAAAAAAAAAAAAAAAAAAAAAAAAAAAAAAAAAAAAAAAAAAAAAAAAAAAAAAAAAAAAAAAAAAAAAAAAAAAAAAAAAAAAAAAAAAAAAAAAAAAAAAAAAAAAAAAAAAAAAAAAAAAAAAAAAAAAAAAAAAAAAAAAAAAAAAAAAAAAAAAAAAAAAAAAAAAAAAAAAAAAAAAAAAAAAAAAAAAAAAAAAAAAAAAAAAAAAAAAAAAAAAAAAAAAAAAAAAAAAAAAAAAAAAAAAAAAAAAAAAAAAAAAAAAAAAAAAAAAAAAAAAAAAAAAAAAAAAAAAAAAAAAAAAAAAAAAAAAAAAAAAAAAAAAAAAAAAAAAAAAAAAAAAAAAAAAAAAAAAAAAAAAAAAAAAAAAAAAAAAAAAAAAAAAAAAAAAAAAAAAAAAAAAAAAAAAAAAAAAAAAAAAAAAAAAAAAAAAAAAAAAAAAAAAAAAAAAAAAAAAAAAAAAAAAAAAAAAAAAAAAAAAAAAAAAAAAAAAAAAAAAAAAAAAAAAAAAAAAAAAAAAAAAAAAAAAAAAAAAAAAAAACwAAAAAAQABAAAIBQABcAoIADs=\"><title>Layer: input1 (input)\n shape = (1,)\n Keras class = Input</title></image><text x=\"296.6666666666667\" y=\"257.0\" font-family=\"monospace\" font-size=\"12\" text-anchor=\"start\" alignment-baseline=\"central\">input1</text><line x1=\"533.3333333333334\" y1=\"229\" x2=\"533.3333333333334\" y2=\"202\" stroke=\"black\" stroke-width=\"2\" marker-end=\"url(#arrow)\"><title>Weights from input2 to hidden2\n hidden2/kernel has shape (1, 10)\n hidden2/bias has shape (10,)</title></line><rect x=\"507.33333333333337\" y=\"229\" width=\"52\" height=\"52\" style=\"fill:none;stroke:black;stroke-width:2\"/><image id=\"XOR2 Network_input2_7\" class=\"XOR2 Network_input2\" x=\"508.33333333333337\" y=\"230\" height=\"50\" width=\"50\" preserveAspectRatio=\"none\" href=\"data:image/gif;base64,R0lGODdhAQABAIcAAP/9/QAAAAAAAAAAAAAAAAAAAAAAAAAAAAAAAAAAAAAAAAAAAAAAAAAAAAAAAAAAAAAAAAAAAAAAAAAAAAAAAAAAAAAAAAAAAAAAAAAAAAAAAAAAAAAAAAAAAAAAAAAAAAAAAAAAAAAAAAAAAAAAAAAAAAAAAAAAAAAAAAAAAAAAAAAAAAAAAAAAAAAAAAAAAAAAAAAAAAAAAAAAAAAAAAAAAAAAAAAAAAAAAAAAAAAAAAAAAAAAAAAAAAAAAAAAAAAAAAAAAAAAAAAAAAAAAAAAAAAAAAAAAAAAAAAAAAAAAAAAAAAAAAAAAAAAAAAAAAAAAAAAAAAAAAAAAAAAAAAAAAAAAAAAAAAAAAAAAAAAAAAAAAAAAAAAAAAAAAAAAAAAAAAAAAAAAAAAAAAAAAAAAAAAAAAAAAAAAAAAAAAAAAAAAAAAAAAAAAAAAAAAAAAAAAAAAAAAAAAAAAAAAAAAAAAAAAAAAAAAAAAAAAAAAAAAAAAAAAAAAAAAAAAAAAAAAAAAAAAAAAAAAAAAAAAAAAAAAAAAAAAAAAAAAAAAAAAAAAAAAAAAAAAAAAAAAAAAAAAAAAAAAAAAAAAAAAAAAAAAAAAAAAAAAAAAAAAAAAAAAAAAAAAAAAAAAAAAAAAAAAAAAAAAAAAAAAAAAAAAAAAAAAAAAAAAAAAAAAAAAAAAAAAAAAAAAAAAAAAAAAAAAAAAAAAAAAAAAAAAAAAAAAAAAAAAAAAAAAAAAAAAAAAAAAAAAAAAAAAAAAAAAAAAAAAAAAAAAAAAAAAAAAAAAAAAAAAAAAAAAAAAAAAAAAAAAAAAAAAAAAAAAAAAAAAAAAAAAAAAAAAAAAAAAAAAAAAAAAAAAAAAAAAAAAAAAAAAAAAAAAAAAAAAAAAAAAAAAAAAAAAAAAAAAAAAAAAAAAAAAAAAAAAAAAAAAAAAAAAAAAAAAAAAAAAAAAAAAAAAAAAAAAAAAAAAAAAAAAAAAAAAAAAAAAAAAAAAAAAAAAAAAAAAAAAAAAAAAAAAACwAAAAAAQABAAAIBQABcAoIADs=\"><title>Layer: input2 (input)\n shape = (1,)\n Keras class = Input</title></image><text x=\"563.3333333333334\" y=\"257.0\" font-family=\"monospace\" font-size=\"12\" text-anchor=\"start\" alignment-baseline=\"central\">input2</text></svg></p>"
      }
     },
     "e9f98836b8014f68b6567828d1f93417": {
      "model_module": "@jupyter-widgets/output",
      "model_module_version": "1.0.0",
      "model_name": "OutputModel",
      "state": {
       "layout": "IPY_MODEL_f29ab5b8b901487683d0028c2d5095f7"
      }
     },
     "eacdf97dda5148e08ce5f84f8d160940": {
      "model_module": "@jupyter-widgets/controls",
      "model_module_version": "1.0.0",
      "model_name": "DescriptionStyleModel",
      "state": {
       "description_width": "initial"
      }
     },
     "eafcae661bb04267b41ca25b1e91834a": {
      "model_module": "@jupyter-widgets/base",
      "model_module_version": "1.0.0",
      "model_name": "LayoutModel",
      "state": {
       "width": "100px"
      }
     },
     "ec60cbc4e0544d2d99a21f0f6b2a8f78": {
      "model_module": "@jupyter-widgets/base",
      "model_module_version": "1.0.0",
      "model_name": "LayoutModel",
      "state": {}
     },
     "ecc0ea531efb45baa840d97efc64b185": {
      "model_module": "@jupyter-widgets/controls",
      "model_module_version": "1.0.0",
      "model_name": "ButtonStyleModel",
      "state": {}
     },
     "ed2a3924c8914620ac5fee73a4f6c9cc": {
      "model_module": "@jupyter-widgets/controls",
      "model_module_version": "1.0.0",
      "model_name": "FloatTextModel",
      "state": {
       "description": "Feature scale:",
       "layout": "IPY_MODEL_1a4db51a2f25441982d963db2bbfa733",
       "step": null,
       "style": "IPY_MODEL_44e5fe5dd7d946fea29310bfababd932",
       "value": 2
      }
     },
     "ed407e886c6e40ed81a6250697e8b301": {
      "model_module": "@jupyter-widgets/controls",
      "model_module_version": "1.0.0",
      "model_name": "HTMLModel",
      "state": {
       "layout": "IPY_MODEL_b3ccf83d27bd4f51a11ba3c6fd165aaf",
       "style": "IPY_MODEL_bfd67d1aaa48446eb1f64b2234167574",
       "value": "<img src=\"data:image/gif;base64,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\"/>"
      }
     },
     "ed503b345e004da7afe4ac8129dea14d": {
      "model_module": "@jupyter-widgets/controls",
      "model_module_version": "1.0.0",
      "model_name": "HTMLModel",
      "state": {
       "layout": "IPY_MODEL_bac8c171fefc4f758cae02b964e370d7",
       "style": "IPY_MODEL_20a2203f2b134f57a64b51f57b882872",
       "value": "<img src=\"data:image/gif;base64,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\"/>"
      }
     },
     "edda2105091f44a3a9b600c36836053f": {
      "model_module": "@jupyter-widgets/base",
      "model_module_version": "1.0.0",
      "model_name": "LayoutModel",
      "state": {
       "width": "100%"
      }
     },
     "ee28cac03ec9445b932ba25ad87812fb": {
      "model_module": "@jupyter-widgets/base",
      "model_module_version": "1.0.0",
      "model_name": "LayoutModel",
      "state": {}
     },
     "ee8e7f3e589e4336a81be01253157d04": {
      "model_module": "@jupyter-widgets/controls",
      "model_module_version": "1.0.0",
      "model_name": "DescriptionStyleModel",
      "state": {
       "description_width": "initial"
      }
     },
     "eec56a4950414e9d94bfe4e777c93244": {
      "model_module": "@jupyter-widgets/controls",
      "model_module_version": "1.0.0",
      "model_name": "ButtonStyleModel",
      "state": {}
     },
     "eefafdb72aca409b9441f91ddff4724a": {
      "model_module": "@jupyter-widgets/controls",
      "model_module_version": "1.0.0",
      "model_name": "DescriptionStyleModel",
      "state": {
       "description_width": ""
      }
     },
     "ef9e501936914e54a8849d3f805d3a69": {
      "model_module": "@jupyter-widgets/controls",
      "model_module_version": "1.0.0",
      "model_name": "ButtonStyleModel",
      "state": {}
     },
     "efeb3dc6839e468b8080f84af861dfc5": {
      "model_module": "@jupyter-widgets/controls",
      "model_module_version": "1.0.0",
      "model_name": "DescriptionStyleModel",
      "state": {
       "description_width": "initial"
      }
     },
     "f0a452a21714446ca90ed571eca52ab2": {
      "model_module": "@jupyter-widgets/base",
      "model_module_version": "1.0.0",
      "model_name": "LayoutModel",
      "state": {
       "height": "40px"
      }
     },
     "f0b876fa05d94577867deab2fd252701": {
      "model_module": "@jupyter-widgets/controls",
      "model_module_version": "1.0.0",
      "model_name": "ButtonStyleModel",
      "state": {}
     },
     "f25fe01184e04fb1bc46980611845761": {
      "model_module": "@jupyter-widgets/controls",
      "model_module_version": "1.0.0",
      "model_name": "DescriptionStyleModel",
      "state": {
       "description_width": ""
      }
     },
     "f29ab5b8b901487683d0028c2d5095f7": {
      "model_module": "@jupyter-widgets/base",
      "model_module_version": "1.0.0",
      "model_name": "LayoutModel",
      "state": {}
     },
     "f29b4050a7c841ffabd007a2a522a862": {
      "model_module": "@jupyter-widgets/controls",
      "model_module_version": "1.0.0",
      "model_name": "IntTextModel",
      "state": {
       "description": "Feature to show:",
       "layout": "IPY_MODEL_fb9dad168df64e9180ebb8684b1658bb",
       "step": 1,
       "style": "IPY_MODEL_6db7ab9c17624a5290ec6a282867c1d8"
      }
     },
     "f2bbdd2575934b939e2b8992570f42c7": {
      "model_module": "@jupyter-widgets/controls",
      "model_module_version": "1.0.0",
      "model_name": "DescriptionStyleModel",
      "state": {
       "description_width": ""
      }
     },
     "f33ff18ff0764d798f1bdeb2662adf0e": {
      "model_module": "@jupyter-widgets/controls",
      "model_module_version": "1.0.0",
      "model_name": "DescriptionStyleModel",
      "state": {
       "description_width": "initial"
      }
     },
     "f41a05c04c8f4f73897e3fc1656db11b": {
      "model_module": "@jupyter-widgets/controls",
      "model_module_version": "1.0.0",
      "model_name": "DescriptionStyleModel",
      "state": {
       "description_width": "initial"
      }
     },
     "f494a18df62344c59518ff2b34eca1a1": {
      "model_module": "@jupyter-widgets/base",
      "model_module_version": "1.0.0",
      "model_name": "LayoutModel",
      "state": {}
     },
     "f4a094c425814a88bd48b9e03901bc1c": {
      "model_module": "@jupyter-widgets/controls",
      "model_module_version": "1.0.0",
      "model_name": "DescriptionStyleModel",
      "state": {
       "description_width": "initial"
      }
     },
     "f568f5fb4c28406e8b244922364ccdbc": {
      "model_module": "@jupyter-widgets/controls",
      "model_module_version": "1.0.0",
      "model_name": "SelectModel",
      "state": {
       "_options_labels": [
        ""
       ],
       "description": "Features:",
       "index": 0,
       "layout": "IPY_MODEL_77d8785b3fab429fa19cbcf1b91d42a3",
       "rows": 1,
       "style": "IPY_MODEL_65513fe69d4a47bd842d93d32a5cbaaf"
      }
     },
     "f5b0e91878e243609aaba3423d53820f": {
      "model_module": "@jupyter-widgets/output",
      "model_module_version": "1.0.0",
      "model_name": "OutputModel",
      "state": {
       "layout": "IPY_MODEL_ee28cac03ec9445b932ba25ad87812fb"
      }
     },
     "f635c6f27911445aa0d6feade708e611": {
      "model_module": "@jupyter-widgets/controls",
      "model_module_version": "1.0.0",
      "model_name": "DescriptionStyleModel",
      "state": {
       "description_width": "initial"
      }
     },
     "f6477d8aad6141c785248875a6181212": {
      "model_module": "@jupyter-widgets/controls",
      "model_module_version": "1.0.0",
      "model_name": "DescriptionStyleModel",
      "state": {
       "description_width": "initial"
      }
     },
     "f671bddd480848e286bb0489cd18d107": {
      "model_module": "@jupyter-widgets/base",
      "model_module_version": "1.0.0",
      "model_name": "LayoutModel",
      "state": {}
     },
     "f69940aa43e04bc28a945065e793bd5a": {
      "model_module": "@jupyter-widgets/controls",
      "model_module_version": "1.0.0",
      "model_name": "FloatTextModel",
      "state": {
       "description": "Feature scale:",
       "layout": "IPY_MODEL_499e77a2731945ca95048d65f35123db",
       "step": null,
       "style": "IPY_MODEL_323d64e980ba482bbd4e57b369438003",
       "value": 2
      }
     },
     "f6ebc6ea804e4f21968952dca90b4dff": {
      "model_module": "@jupyter-widgets/controls",
      "model_module_version": "1.0.0",
      "model_name": "HBoxModel",
      "state": {
       "children": [
        "IPY_MODEL_0871136fff9247368acece5afa15e8ad",
        "IPY_MODEL_b25ab4be3c074c218e2f53bd4a5acf59"
       ],
       "layout": "IPY_MODEL_cf9ca8d001414398b80ad6f60e280361"
      }
     },
     "f80bb82810684e4a9dac584a0f125abb": {
      "model_module": "@jupyter-widgets/base",
      "model_module_version": "1.0.0",
      "model_name": "LayoutModel",
      "state": {}
     },
     "f8fa202d055443808ac8d408589f9267": {
      "model_module": "@jupyter-widgets/base",
      "model_module_version": "1.0.0",
      "model_name": "LayoutModel",
      "state": {
       "width": "100%"
      }
     },
     "f9149ce4988047aa8ee0a05d34d57770": {
      "model_module": "@jupyter-widgets/base",
      "model_module_version": "1.0.0",
      "model_name": "LayoutModel",
      "state": {}
     },
     "f921590408c24e72ba1d85c87ddeeb9c": {
      "model_module": "@jupyter-widgets/base",
      "model_module_version": "1.0.0",
      "model_name": "LayoutModel",
      "state": {
       "width": "25%"
      }
     },
     "f921b179f79546299ba6c2291d5204c4": {
      "model_module": "@jupyter-widgets/base",
      "model_module_version": "1.0.0",
      "model_name": "LayoutModel",
      "state": {
       "height": "50px",
       "width": "100%"
      }
     },
     "f925b6afa94d4914a71e8e719c749e5f": {
      "model_module": "@jupyter-widgets/controls",
      "model_module_version": "1.0.0",
      "model_name": "CheckboxModel",
      "state": {
       "description": "Show Targets",
       "disabled": false,
       "layout": "IPY_MODEL_577ecc573e8a4287bff2858034e8f45f",
       "style": "IPY_MODEL_cb82d6f49bbd496a8a7ce1e5426a56fb",
       "value": false
      }
     },
     "f984f831f17f46fab4e78f525a1d0347": {
      "model_module": "@jupyter-widgets/controls",
      "model_module_version": "1.0.0",
      "model_name": "HTMLModel",
      "state": {
       "layout": "IPY_MODEL_8bb9c9109d88459eaa76ed2ecbd7835e",
       "style": "IPY_MODEL_48941a1623e7470b9a3e0d5c7131d9dd",
       "value": "<img src=\"data:image/gif;base64,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\"/>"
      }
     },
     "fa59230725384b14b3e1170cfdd8bfdf": {
      "model_module": "@jupyter-widgets/base",
      "model_module_version": "1.0.0",
      "model_name": "LayoutModel",
      "state": {}
     },
     "fb1839a999354b809ac197b95805a310": {
      "model_module": "@jupyter-widgets/controls",
      "model_module_version": "1.0.0",
      "model_name": "DescriptionStyleModel",
      "state": {
       "description_width": ""
      }
     },
     "fb3c18c8bb3f44b88f0514e6f4943e0b": {
      "model_module": "@jupyter-widgets/base",
      "model_module_version": "1.0.0",
      "model_name": "LayoutModel",
      "state": {}
     },
     "fb9dad168df64e9180ebb8684b1658bb": {
      "model_module": "@jupyter-widgets/base",
      "model_module_version": "1.0.0",
      "model_name": "LayoutModel",
      "state": {}
     },
     "fc50394babc94e0dbfc8eea3de28c9fd": {
      "model_module": "@jupyter-widgets/controls",
      "model_module_version": "1.0.0",
      "model_name": "IntTextModel",
      "state": {
       "description": "Feature to show:",
       "layout": "IPY_MODEL_0db5095fee7c41ac8cb5d480ba902961",
       "step": 1,
       "style": "IPY_MODEL_378bd982fed84607ae88a5fbdc92ea7f"
      }
     },
     "fc5bb27af23f451eb6f722355ff54fec": {
      "model_module": "@jupyter-widgets/controls",
      "model_module_version": "1.0.0",
      "model_name": "ButtonStyleModel",
      "state": {}
     },
     "fcb9680e63c24f65b7ab84c67c852f13": {
      "model_module": "@jupyter-widgets/base",
      "model_module_version": "1.0.0",
      "model_name": "LayoutModel",
      "state": {
       "width": "100%"
      }
     },
     "fcdb4586743a467c9d911766ee3d5634": {
      "model_module": "@jupyter-widgets/controls",
      "model_module_version": "1.0.0",
      "model_name": "DescriptionStyleModel",
      "state": {
       "description_width": "initial"
      }
     },
     "fd06dd935c494516897671fd1cfb8e64": {
      "model_module": "@jupyter-widgets/base",
      "model_module_version": "1.0.0",
      "model_name": "LayoutModel",
      "state": {}
     },
     "fd689e66667f43edabf157e40858a078": {
      "model_module": "@jupyter-widgets/controls",
      "model_module_version": "1.0.0",
      "model_name": "CheckboxModel",
      "state": {
       "description": "Errors",
       "disabled": false,
       "layout": "IPY_MODEL_38857e0b0e4144c0b46e419ee77c45e7",
       "style": "IPY_MODEL_53412851bf4e4219a66350d3d5b396e9",
       "value": false
      }
     },
     "fd9c7b739fbb47a398094dcc38f8999a": {
      "model_module": "@jupyter-widgets/base",
      "model_module_version": "1.0.0",
      "model_name": "LayoutModel",
      "state": {
       "width": "100%"
      }
     },
     "fdf5c00fb0024bda910708dcb814935b": {
      "model_module": "@jupyter-widgets/base",
      "model_module_version": "1.0.0",
      "model_name": "LayoutModel",
      "state": {}
     },
     "fe2ad63ffe39442fb6ed011391247fdc": {
      "model_module": "@jupyter-widgets/base",
      "model_module_version": "1.0.0",
      "model_name": "LayoutModel",
      "state": {
       "height": "40px"
      }
     },
     "fe2c2146a6a942e5966293ab586e75a2": {
      "model_module": "@jupyter-widgets/controls",
      "model_module_version": "1.0.0",
      "model_name": "ButtonModel",
      "state": {
       "icon": "forward",
       "layout": "IPY_MODEL_01f1ccafc21a4f3dbac154685d484932",
       "style": "IPY_MODEL_599373b8124f4b60a38fe1bf0b90e650"
      }
     },
     "ff16ace8ae544006858abbf9c5cdacc9": {
      "model_module": "@jupyter-widgets/controls",
      "model_module_version": "1.0.0",
      "model_name": "DescriptionStyleModel",
      "state": {
       "description_width": "initial"
      }
     },
     "ff2e921169ea419fa039607d978d0e0c": {
      "model_module": "@jupyter-widgets/controls",
      "model_module_version": "1.0.0",
      "model_name": "DescriptionStyleModel",
      "state": {
       "description_width": "initial"
      }
     },
     "ff6d04a61012492c89ab061b9fda82d7": {
      "model_module": "@jupyter-widgets/controls",
      "model_module_version": "1.0.0",
      "model_name": "DescriptionStyleModel",
      "state": {
       "description_width": ""
      }
     },
     "ff70ab8defad4c7d8fed8b29c3ee0b26": {
      "model_module": "@jupyter-widgets/base",
      "model_module_version": "1.0.0",
      "model_name": "LayoutModel",
      "state": {
       "justify_content": "center",
       "overflow_x": "auto",
       "overflow_y": "auto",
       "width": "95%"
      }
     }
    },
    "version_major": 2,
    "version_minor": 0
   }
  }
 },
 "nbformat": 4,
 "nbformat_minor": 2
}
