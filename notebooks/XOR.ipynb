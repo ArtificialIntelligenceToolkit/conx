{
 "cells": [
  {
   "cell_type": "markdown",
   "metadata": {},
   "source": [
    "# XOR Multiple Inputs/Targets\n",
    "\n",
    "Testing..."
   ]
  },
  {
   "cell_type": "code",
   "execution_count": 1,
   "metadata": {},
   "outputs": [
    {
     "name": "stderr",
     "output_type": "stream",
     "text": [
      "conx, version 3.4.3\n",
      "Using Theano backend.\n"
     ]
    }
   ],
   "source": [
    "from conx import Network, Layer, SGD"
   ]
  },
  {
   "cell_type": "code",
   "execution_count": 2,
   "metadata": {},
   "outputs": [],
   "source": [
    "net = Network(\"XOR Network\", 2, 4, 1, activation=\"sigmoid\")"
   ]
  },
  {
   "cell_type": "code",
   "execution_count": 3,
   "metadata": {},
   "outputs": [],
   "source": [
    "net.compile(loss='mean_squared_error',\n",
    "            optimizer=SGD(lr=0.3, momentum=0.9))"
   ]
  },
  {
   "cell_type": "code",
   "execution_count": 4,
   "metadata": {},
   "outputs": [],
   "source": [
    "dataset = [\n",
    "    ([0, 0], [0]),\n",
    "    ([0, 1], [1]),\n",
    "    ([1, 0], [1]),\n",
    "    ([1, 1], [0])\n",
    "]\n",
    "net[\"output\"].minmax = (0, 1)"
   ]
  },
  {
   "cell_type": "code",
   "execution_count": 5,
   "metadata": {},
   "outputs": [
    {
     "name": "stdout",
     "output_type": "stream",
     "text": [
      "Input Summary:\n",
      "   count  : 4 (4 for training, 0 for testing)\n",
      "   shape  : [(2,)]\n",
      "   range  : (0.0, 1.0)\n",
      "Target Summary:\n",
      "   count  : 4 (4 for training, 0 for testing)\n",
      "   shape  : [(1,)]\n",
      "   range  : (0.0, 1.0)\n"
     ]
    }
   ],
   "source": [
    "net.dataset.load(dataset)\n",
    "net.dataset.summary()"
   ]
  },
  {
   "cell_type": "code",
   "execution_count": 6,
   "metadata": {},
   "outputs": [
    {
     "data": {
      "text/plain": [
       "[0.0]"
      ]
     },
     "execution_count": 6,
     "metadata": {},
     "output_type": "execute_result"
    }
   ],
   "source": [
    "net.dataset.targets[0]"
   ]
  },
  {
   "cell_type": "code",
   "execution_count": 7,
   "metadata": {},
   "outputs": [
    {
     "data": {
      "text/plain": [
       "[(2,)]"
      ]
     },
     "execution_count": 7,
     "metadata": {},
     "output_type": "execute_result"
    }
   ],
   "source": [
    "net.dataset.inputs.shape"
   ]
  },
  {
   "cell_type": "code",
   "execution_count": 8,
   "metadata": {
    "scrolled": false
   },
   "outputs": [
    {
     "data": {
      "application/vnd.jupyter.widget-view+json": {
       "model_id": "c6de4d9560b14f1fb47dd92147c8e9f5",
       "version_major": 2,
       "version_minor": 0
      },
      "text/html": [
       "<p>Failed to display Jupyter Widget of type <code>Dashboard</code>.</p>\n",
       "<p>\n",
       "  If you're reading this message in the Jupyter Notebook or JupyterLab Notebook, it may mean\n",
       "  that the widgets JavaScript is still loading. If this message persists, it\n",
       "  likely means that the widgets JavaScript library is either not installed or\n",
       "  not enabled. See the <a href=\"https://ipywidgets.readthedocs.io/en/stable/user_install.html\">Jupyter\n",
       "  Widgets Documentation</a> for setup instructions.\n",
       "</p>\n",
       "<p>\n",
       "  If you're reading this message in another frontend (for example, a static\n",
       "  rendering on GitHub or <a href=\"https://nbviewer.jupyter.org/\">NBViewer</a>),\n",
       "  it may mean that your frontend doesn't currently support widgets.\n",
       "</p>\n"
      ],
      "text/plain": [
       "Dashboard(children=(Accordion(children=(HBox(children=(VBox(children=(Select(description='Dataset:', index=1, options=('Test', 'Train'), rows=1, value='Train'), FloatSlider(value=1.0, continuous_update=False, description='Zoom', max=3.0, min=0.5), IntText(value=150, description='Horizontal space between banks:', style=DescriptionStyle(description_width='initial')), IntText(value=30, description='Vertical space between layers:', style=DescriptionStyle(description_width='initial')), HBox(children=(Checkbox(value=False, description='Show Targets', style=DescriptionStyle(description_width='initial')), Checkbox(value=False, description='Errors', style=DescriptionStyle(description_width='initial')))), Select(description='Features:', options=('',), rows=1, value=''), IntText(value=3, description='Feature columns:', style=DescriptionStyle(description_width='initial')), FloatText(value=2.0, description='Feature scale:', style=DescriptionStyle(description_width='initial'))), layout=Layout(width='100%')), VBox(children=(Select(description='Layer:', index=2, options=('input', 'hidden', 'output'), rows=1, value='output'), Checkbox(value=True, description='Visible'), Select(description='Colormap:', options=('', 'Accent', 'Accent_r', 'Blues', 'Blues_r', 'BrBG', 'BrBG_r', 'BuGn', 'BuGn_r', 'BuPu', 'BuPu_r', 'CMRmap', 'CMRmap_r', 'Dark2', 'Dark2_r', 'GnBu', 'GnBu_r', 'Greens', 'Greens_r', 'Greys', 'Greys_r', 'OrRd', 'OrRd_r', 'Oranges', 'Oranges_r', 'PRGn', 'PRGn_r', 'Paired', 'Paired_r', 'Pastel1', 'Pastel1_r', 'Pastel2', 'Pastel2_r', 'PiYG', 'PiYG_r', 'PuBu', 'PuBuGn', 'PuBuGn_r', 'PuBu_r', 'PuOr', 'PuOr_r', 'PuRd', 'PuRd_r', 'Purples', 'Purples_r', 'RdBu', 'RdBu_r', 'RdGy', 'RdGy_r', 'RdPu', 'RdPu_r', 'RdYlBu', 'RdYlBu_r', 'RdYlGn', 'RdYlGn_r', 'Reds', 'Reds_r', 'Set1', 'Set1_r', 'Set2', 'Set2_r', 'Set3', 'Set3_r', 'Spectral', 'Spectral_r', 'Vega10', 'Vega10_r', 'Vega20', 'Vega20_r', 'Vega20b', 'Vega20b_r', 'Vega20c', 'Vega20c_r', 'Wistia', 'Wistia_r', 'YlGn', 'YlGnBu', 'YlGnBu_r', 'YlGn_r', 'YlOrBr', 'YlOrBr_r', 'YlOrRd', 'YlOrRd_r', 'afmhot', 'afmhot_r', 'autumn', 'autumn_r', 'binary', 'binary_r', 'bone', 'bone_r', 'brg', 'brg_r', 'bwr', 'bwr_r', 'cool', 'cool_r', 'coolwarm', 'coolwarm_r', 'copper', 'copper_r', 'cubehelix', 'cubehelix_r', 'flag', 'flag_r', 'gist_earth', 'gist_earth_r', 'gist_gray', 'gist_gray_r', 'gist_heat', 'gist_heat_r', 'gist_ncar', 'gist_ncar_r', 'gist_rainbow', 'gist_rainbow_r', 'gist_stern', 'gist_stern_r', 'gist_yarg', 'gist_yarg_r', 'gnuplot', 'gnuplot2', 'gnuplot2_r', 'gnuplot_r', 'gray', 'gray_r', 'hot', 'hot_r', 'hsv', 'hsv_r', 'inferno', 'inferno_r', 'jet', 'jet_r', 'magma', 'magma_r', 'nipy_spectral', 'nipy_spectral_r', 'ocean', 'ocean_r', 'pink', 'pink_r', 'plasma', 'plasma_r', 'prism', 'prism_r', 'rainbow', 'rainbow_r', 'seismic', 'seismic_r', 'spectral', 'spectral_r', 'spring', 'spring_r', 'summer', 'summer_r', 'tab10', 'tab10_r', 'tab20', 'tab20_r', 'tab20b', 'tab20b_r', 'tab20c', 'tab20c_r', 'terrain', 'terrain_r', 'viridis', 'viridis_r', 'winter', 'winter_r'), rows=1, value=''), HTML(value='<img src=\"data:image/gif;base64,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\"/>'), FloatText(value=0.0, description='Leftmost color maps to:', style=DescriptionStyle(description_width='initial')), FloatText(value=1.0, description='Rightmost color maps to:', style=DescriptionStyle(description_width='initial')), IntText(value=0, description='Feature to show:', style=DescriptionStyle(description_width='initial'))), layout=Layout(width='100%')))),), selected_index=None, _titles={'0': 'XOR Network'}), VBox(children=(HBox(children=(IntSlider(value=0, continuous_update=False, description='Dataset index', layout=Layout(width='100%'), max=3), Label(value='of 0', layout=Layout(width='100px'))), layout=Layout(height='40px')), HBox(children=(Button(icon='fast-backward', layout=Layout(width='100%'), style=ButtonStyle()), Button(icon='backward', layout=Layout(width='100%'), style=ButtonStyle()), IntText(value=0, layout=Layout(width='100%')), Button(icon='forward', layout=Layout(width='100%'), style=ButtonStyle()), Button(icon='fast-forward', layout=Layout(width='100%'), style=ButtonStyle()), Button(description='Play', icon='play', layout=Layout(width='100%'), style=ButtonStyle()), Button(icon='refresh', layout=Layout(width='25%'), style=ButtonStyle())), layout=Layout(height='50px', width='100%'))), layout=Layout(width='100%')), HTML(value='<p style=\"text-align:center\"></p>', layout=Layout(justify_content='center', overflow_x='auto', overflow_y='auto', width='95%')), Output()))"
      ]
     },
     "metadata": {},
     "output_type": "display_data"
    },
    {
     "data": {
      "application/javascript": [
       "\n",
       "require(['base/js/namespace'], function(Jupyter) {\n",
       "    Jupyter.notebook.kernel.comm_manager.register_target('conx_svg_control', function(comm, msg) {\n",
       "        comm.on_msg(function(msg) {\n",
       "            var data = msg[\"content\"][\"data\"];\n",
       "            var images = document.getElementsByClassName(data[\"class\"]);\n",
       "            for (var i = 0; i < images.length; i++) {\n",
       "                if (data[\"href\"]) {\n",
       "                    images[i].setAttributeNS(null, \"href\", data[\"href\"]);\n",
       "                }\n",
       "                if (data[\"src\"]) {\n",
       "                    images[i].setAttributeNS(null, \"src\", data[\"src\"]);\n",
       "                }\n",
       "            }\n",
       "        });\n",
       "    });\n",
       "});\n"
      ],
      "text/plain": [
       "<IPython.core.display.Javascript object>"
      ]
     },
     "metadata": {},
     "output_type": "display_data"
    }
   ],
   "source": [
    "widget = net.dashboard()\n",
    "widget"
   ]
  },
  {
   "cell_type": "code",
   "execution_count": 9,
   "metadata": {},
   "outputs": [
    {
     "data": {
      "text/plain": [
       "[0.32627636194229126]"
      ]
     },
     "execution_count": 9,
     "metadata": {},
     "output_type": "execute_result"
    }
   ],
   "source": [
    "net.propagate([0, 0])"
   ]
  },
  {
   "cell_type": "code",
   "execution_count": 10,
   "metadata": {},
   "outputs": [
    {
     "data": {
      "image/svg+xml": [
       "<svg height=\"288pt\" version=\"1.1\" viewBox=\"0 0 720 288\" width=\"720pt\" xmlns=\"http://www.w3.org/2000/svg\" xmlns:xlink=\"http://www.w3.org/1999/xlink\">\n",
       " <defs>\n",
       "  <style type=\"text/css\">\n",
       "*{stroke-linecap:butt;stroke-linejoin:round;}\n",
       "  </style>\n",
       " </defs>\n",
       " <g id=\"figure_1\">\n",
       "  <g id=\"patch_1\">\n",
       "   <path d=\"M 0 288  L 720 288  L 720 0  L 0 0  z \" style=\"fill:#ffffff;\"/>\n",
       "  </g>\n",
       "  <g id=\"axes_1\">\n",
       "   <g id=\"patch_2\">\n",
       "    <path d=\"M 90 252  L 343.636364 252  L 343.636364 34.56  L 90 34.56  z \" style=\"fill:#ffffff;\"/>\n",
       "   </g>\n",
       "   <g id=\"matplotlib.axis_1\">\n",
       "    <g id=\"xtick_1\">\n",
       "     <g id=\"line2d_1\">\n",
       "      <defs>\n",
       "       <path d=\"M 0 0  L 0 3.5  \" id=\"m9445708dc7\" style=\"stroke:#000000;stroke-width:0.8;\"/>\n",
       "      </defs>\n",
       "      <g>\n",
       "       <use style=\"stroke:#000000;stroke-width:0.8;\" x=\"101.528926\" xlink:href=\"#m9445708dc7\" y=\"252\"/>\n",
       "      </g>\n",
       "     </g>\n",
       "     <g id=\"text_1\">\n",
       "      <!-- 0 -->\n",
       "      <defs>\n",
       "       <path d=\"M 31.78125 66.40625  Q 24.171875 66.40625 20.328125 58.90625  Q 16.5 51.421875 16.5 36.375  Q 16.5 21.390625 20.328125 13.890625  Q 24.171875 6.390625 31.78125 6.390625  Q 39.453125 6.390625 43.28125 13.890625  Q 47.125 21.390625 47.125 36.375  Q 47.125 51.421875 43.28125 58.90625  Q 39.453125 66.40625 31.78125 66.40625  z M 31.78125 74.21875  Q 44.046875 74.21875 50.515625 64.515625  Q 56.984375 54.828125 56.984375 36.375  Q 56.984375 17.96875 50.515625 8.265625  Q 44.046875 -1.421875 31.78125 -1.421875  Q 19.53125 -1.421875 13.0625 8.265625  Q 6.59375 17.96875 6.59375 36.375  Q 6.59375 54.828125 13.0625 64.515625  Q 19.53125 74.21875 31.78125 74.21875  z \" id=\"DejaVuSans-30\"/>\n",
       "      </defs>\n",
       "      <g transform=\"translate(98.347676 266.598437)scale(0.1 -0.1)\">\n",
       "       <use xlink:href=\"#DejaVuSans-30\"/>\n",
       "      </g>\n",
       "     </g>\n",
       "    </g>\n",
       "    <g id=\"xtick_2\">\n",
       "     <g id=\"line2d_2\">\n",
       "      <g>\n",
       "       <use style=\"stroke:#000000;stroke-width:0.8;\" x=\"148.778621\" xlink:href=\"#m9445708dc7\" y=\"252\"/>\n",
       "      </g>\n",
       "     </g>\n",
       "     <g id=\"text_2\">\n",
       "      <!-- 100 -->\n",
       "      <defs>\n",
       "       <path d=\"M 12.40625 8.296875  L 28.515625 8.296875  L 28.515625 63.921875  L 10.984375 60.40625  L 10.984375 69.390625  L 28.421875 72.90625  L 38.28125 72.90625  L 38.28125 8.296875  L 54.390625 8.296875  L 54.390625 0  L 12.40625 0  z \" id=\"DejaVuSans-31\"/>\n",
       "      </defs>\n",
       "      <g transform=\"translate(139.234871 266.598437)scale(0.1 -0.1)\">\n",
       "       <use xlink:href=\"#DejaVuSans-31\"/>\n",
       "       <use x=\"63.623047\" xlink:href=\"#DejaVuSans-30\"/>\n",
       "       <use x=\"127.246094\" xlink:href=\"#DejaVuSans-30\"/>\n",
       "      </g>\n",
       "     </g>\n",
       "    </g>\n",
       "    <g id=\"xtick_3\">\n",
       "     <g id=\"line2d_3\">\n",
       "      <g>\n",
       "       <use style=\"stroke:#000000;stroke-width:0.8;\" x=\"196.028316\" xlink:href=\"#m9445708dc7\" y=\"252\"/>\n",
       "      </g>\n",
       "     </g>\n",
       "     <g id=\"text_3\">\n",
       "      <!-- 200 -->\n",
       "      <defs>\n",
       "       <path d=\"M 19.1875 8.296875  L 53.609375 8.296875  L 53.609375 0  L 7.328125 0  L 7.328125 8.296875  Q 12.9375 14.109375 22.625 23.890625  Q 32.328125 33.6875 34.8125 36.53125  Q 39.546875 41.84375 41.421875 45.53125  Q 43.3125 49.21875 43.3125 52.78125  Q 43.3125 58.59375 39.234375 62.25  Q 35.15625 65.921875 28.609375 65.921875  Q 23.96875 65.921875 18.8125 64.3125  Q 13.671875 62.703125 7.8125 59.421875  L 7.8125 69.390625  Q 13.765625 71.78125 18.9375 73  Q 24.125 74.21875 28.421875 74.21875  Q 39.75 74.21875 46.484375 68.546875  Q 53.21875 62.890625 53.21875 53.421875  Q 53.21875 48.921875 51.53125 44.890625  Q 49.859375 40.875 45.40625 35.40625  Q 44.1875 33.984375 37.640625 27.21875  Q 31.109375 20.453125 19.1875 8.296875  z \" id=\"DejaVuSans-32\"/>\n",
       "      </defs>\n",
       "      <g transform=\"translate(186.484566 266.598437)scale(0.1 -0.1)\">\n",
       "       <use xlink:href=\"#DejaVuSans-32\"/>\n",
       "       <use x=\"63.623047\" xlink:href=\"#DejaVuSans-30\"/>\n",
       "       <use x=\"127.246094\" xlink:href=\"#DejaVuSans-30\"/>\n",
       "      </g>\n",
       "     </g>\n",
       "    </g>\n",
       "    <g id=\"xtick_4\">\n",
       "     <g id=\"line2d_4\">\n",
       "      <g>\n",
       "       <use style=\"stroke:#000000;stroke-width:0.8;\" x=\"243.278011\" xlink:href=\"#m9445708dc7\" y=\"252\"/>\n",
       "      </g>\n",
       "     </g>\n",
       "     <g id=\"text_4\">\n",
       "      <!-- 300 -->\n",
       "      <defs>\n",
       "       <path d=\"M 40.578125 39.3125  Q 47.65625 37.796875 51.625 33  Q 55.609375 28.21875 55.609375 21.1875  Q 55.609375 10.40625 48.1875 4.484375  Q 40.765625 -1.421875 27.09375 -1.421875  Q 22.515625 -1.421875 17.65625 -0.515625  Q 12.796875 0.390625 7.625 2.203125  L 7.625 11.71875  Q 11.71875 9.328125 16.59375 8.109375  Q 21.484375 6.890625 26.8125 6.890625  Q 36.078125 6.890625 40.9375 10.546875  Q 45.796875 14.203125 45.796875 21.1875  Q 45.796875 27.640625 41.28125 31.265625  Q 36.765625 34.90625 28.71875 34.90625  L 20.21875 34.90625  L 20.21875 43.015625  L 29.109375 43.015625  Q 36.375 43.015625 40.234375 45.921875  Q 44.09375 48.828125 44.09375 54.296875  Q 44.09375 59.90625 40.109375 62.90625  Q 36.140625 65.921875 28.71875 65.921875  Q 24.65625 65.921875 20.015625 65.03125  Q 15.375 64.15625 9.8125 62.3125  L 9.8125 71.09375  Q 15.4375 72.65625 20.34375 73.4375  Q 25.25 74.21875 29.59375 74.21875  Q 40.828125 74.21875 47.359375 69.109375  Q 53.90625 64.015625 53.90625 55.328125  Q 53.90625 49.265625 50.4375 45.09375  Q 46.96875 40.921875 40.578125 39.3125  z \" id=\"DejaVuSans-33\"/>\n",
       "      </defs>\n",
       "      <g transform=\"translate(233.734261 266.598437)scale(0.1 -0.1)\">\n",
       "       <use xlink:href=\"#DejaVuSans-33\"/>\n",
       "       <use x=\"63.623047\" xlink:href=\"#DejaVuSans-30\"/>\n",
       "       <use x=\"127.246094\" xlink:href=\"#DejaVuSans-30\"/>\n",
       "      </g>\n",
       "     </g>\n",
       "    </g>\n",
       "    <g id=\"xtick_5\">\n",
       "     <g id=\"line2d_5\">\n",
       "      <g>\n",
       "       <use style=\"stroke:#000000;stroke-width:0.8;\" x=\"290.527706\" xlink:href=\"#m9445708dc7\" y=\"252\"/>\n",
       "      </g>\n",
       "     </g>\n",
       "     <g id=\"text_5\">\n",
       "      <!-- 400 -->\n",
       "      <defs>\n",
       "       <path d=\"M 37.796875 64.3125  L 12.890625 25.390625  L 37.796875 25.390625  z M 35.203125 72.90625  L 47.609375 72.90625  L 47.609375 25.390625  L 58.015625 25.390625  L 58.015625 17.1875  L 47.609375 17.1875  L 47.609375 0  L 37.796875 0  L 37.796875 17.1875  L 4.890625 17.1875  L 4.890625 26.703125  z \" id=\"DejaVuSans-34\"/>\n",
       "      </defs>\n",
       "      <g transform=\"translate(280.983956 266.598437)scale(0.1 -0.1)\">\n",
       "       <use xlink:href=\"#DejaVuSans-34\"/>\n",
       "       <use x=\"63.623047\" xlink:href=\"#DejaVuSans-30\"/>\n",
       "       <use x=\"127.246094\" xlink:href=\"#DejaVuSans-30\"/>\n",
       "      </g>\n",
       "     </g>\n",
       "    </g>\n",
       "    <g id=\"xtick_6\">\n",
       "     <g id=\"line2d_6\">\n",
       "      <g>\n",
       "       <use style=\"stroke:#000000;stroke-width:0.8;\" x=\"337.777401\" xlink:href=\"#m9445708dc7\" y=\"252\"/>\n",
       "      </g>\n",
       "     </g>\n",
       "     <g id=\"text_6\">\n",
       "      <!-- 500 -->\n",
       "      <defs>\n",
       "       <path d=\"M 10.796875 72.90625  L 49.515625 72.90625  L 49.515625 64.59375  L 19.828125 64.59375  L 19.828125 46.734375  Q 21.96875 47.46875 24.109375 47.828125  Q 26.265625 48.1875 28.421875 48.1875  Q 40.625 48.1875 47.75 41.5  Q 54.890625 34.8125 54.890625 23.390625  Q 54.890625 11.625 47.5625 5.09375  Q 40.234375 -1.421875 26.90625 -1.421875  Q 22.3125 -1.421875 17.546875 -0.640625  Q 12.796875 0.140625 7.71875 1.703125  L 7.71875 11.625  Q 12.109375 9.234375 16.796875 8.0625  Q 21.484375 6.890625 26.703125 6.890625  Q 35.15625 6.890625 40.078125 11.328125  Q 45.015625 15.765625 45.015625 23.390625  Q 45.015625 31 40.078125 35.4375  Q 35.15625 39.890625 26.703125 39.890625  Q 22.75 39.890625 18.8125 39.015625  Q 14.890625 38.140625 10.796875 36.28125  z \" id=\"DejaVuSans-35\"/>\n",
       "      </defs>\n",
       "      <g transform=\"translate(328.233651 266.598437)scale(0.1 -0.1)\">\n",
       "       <use xlink:href=\"#DejaVuSans-35\"/>\n",
       "       <use x=\"63.623047\" xlink:href=\"#DejaVuSans-30\"/>\n",
       "       <use x=\"127.246094\" xlink:href=\"#DejaVuSans-30\"/>\n",
       "      </g>\n",
       "     </g>\n",
       "    </g>\n",
       "    <g id=\"text_7\">\n",
       "     <!-- Epoch -->\n",
       "     <defs>\n",
       "      <path d=\"M 9.8125 72.90625  L 55.90625 72.90625  L 55.90625 64.59375  L 19.671875 64.59375  L 19.671875 43.015625  L 54.390625 43.015625  L 54.390625 34.71875  L 19.671875 34.71875  L 19.671875 8.296875  L 56.78125 8.296875  L 56.78125 0  L 9.8125 0  z \" id=\"DejaVuSans-45\"/>\n",
       "      <path d=\"M 18.109375 8.203125  L 18.109375 -20.796875  L 9.078125 -20.796875  L 9.078125 54.6875  L 18.109375 54.6875  L 18.109375 46.390625  Q 20.953125 51.265625 25.265625 53.625  Q 29.59375 56 35.59375 56  Q 45.5625 56 51.78125 48.09375  Q 58.015625 40.1875 58.015625 27.296875  Q 58.015625 14.40625 51.78125 6.484375  Q 45.5625 -1.421875 35.59375 -1.421875  Q 29.59375 -1.421875 25.265625 0.953125  Q 20.953125 3.328125 18.109375 8.203125  z M 48.6875 27.296875  Q 48.6875 37.203125 44.609375 42.84375  Q 40.53125 48.484375 33.40625 48.484375  Q 26.265625 48.484375 22.1875 42.84375  Q 18.109375 37.203125 18.109375 27.296875  Q 18.109375 17.390625 22.1875 11.75  Q 26.265625 6.109375 33.40625 6.109375  Q 40.53125 6.109375 44.609375 11.75  Q 48.6875 17.390625 48.6875 27.296875  z \" id=\"DejaVuSans-70\"/>\n",
       "      <path d=\"M 30.609375 48.390625  Q 23.390625 48.390625 19.1875 42.75  Q 14.984375 37.109375 14.984375 27.296875  Q 14.984375 17.484375 19.15625 11.84375  Q 23.34375 6.203125 30.609375 6.203125  Q 37.796875 6.203125 41.984375 11.859375  Q 46.1875 17.53125 46.1875 27.296875  Q 46.1875 37.015625 41.984375 42.703125  Q 37.796875 48.390625 30.609375 48.390625  z M 30.609375 56  Q 42.328125 56 49.015625 48.375  Q 55.71875 40.765625 55.71875 27.296875  Q 55.71875 13.875 49.015625 6.21875  Q 42.328125 -1.421875 30.609375 -1.421875  Q 18.84375 -1.421875 12.171875 6.21875  Q 5.515625 13.875 5.515625 27.296875  Q 5.515625 40.765625 12.171875 48.375  Q 18.84375 56 30.609375 56  z \" id=\"DejaVuSans-6f\"/>\n",
       "      <path d=\"M 48.78125 52.59375  L 48.78125 44.1875  Q 44.96875 46.296875 41.140625 47.34375  Q 37.3125 48.390625 33.40625 48.390625  Q 24.65625 48.390625 19.8125 42.84375  Q 14.984375 37.3125 14.984375 27.296875  Q 14.984375 17.28125 19.8125 11.734375  Q 24.65625 6.203125 33.40625 6.203125  Q 37.3125 6.203125 41.140625 7.25  Q 44.96875 8.296875 48.78125 10.40625  L 48.78125 2.09375  Q 45.015625 0.34375 40.984375 -0.53125  Q 36.96875 -1.421875 32.421875 -1.421875  Q 20.0625 -1.421875 12.78125 6.34375  Q 5.515625 14.109375 5.515625 27.296875  Q 5.515625 40.671875 12.859375 48.328125  Q 20.21875 56 33.015625 56  Q 37.15625 56 41.109375 55.140625  Q 45.0625 54.296875 48.78125 52.59375  z \" id=\"DejaVuSans-63\"/>\n",
       "      <path d=\"M 54.890625 33.015625  L 54.890625 0  L 45.90625 0  L 45.90625 32.71875  Q 45.90625 40.484375 42.875 44.328125  Q 39.84375 48.1875 33.796875 48.1875  Q 26.515625 48.1875 22.3125 43.546875  Q 18.109375 38.921875 18.109375 30.90625  L 18.109375 0  L 9.078125 0  L 9.078125 75.984375  L 18.109375 75.984375  L 18.109375 46.1875  Q 21.34375 51.125 25.703125 53.5625  Q 30.078125 56 35.796875 56  Q 45.21875 56 50.046875 50.171875  Q 54.890625 44.34375 54.890625 33.015625  z \" id=\"DejaVuSans-68\"/>\n",
       "     </defs>\n",
       "     <g transform=\"translate(201.507244 280.276563)scale(0.1 -0.1)\">\n",
       "      <use xlink:href=\"#DejaVuSans-45\"/>\n",
       "      <use x=\"63.183594\" xlink:href=\"#DejaVuSans-70\"/>\n",
       "      <use x=\"126.660156\" xlink:href=\"#DejaVuSans-6f\"/>\n",
       "      <use x=\"187.841797\" xlink:href=\"#DejaVuSans-63\"/>\n",
       "      <use x=\"242.822266\" xlink:href=\"#DejaVuSans-68\"/>\n",
       "     </g>\n",
       "    </g>\n",
       "   </g>\n",
       "   <g id=\"matplotlib.axis_2\">\n",
       "    <g id=\"ytick_1\">\n",
       "     <g id=\"line2d_7\">\n",
       "      <defs>\n",
       "       <path d=\"M 0 0  L -3.5 0  \" id=\"m8fcffead17\" style=\"stroke:#000000;stroke-width:0.8;\"/>\n",
       "      </defs>\n",
       "      <g>\n",
       "       <use style=\"stroke:#000000;stroke-width:0.8;\" x=\"90\" xlink:href=\"#m8fcffead17\" y=\"252\"/>\n",
       "      </g>\n",
       "     </g>\n",
       "     <g id=\"text_8\">\n",
       "      <!-- 0.00 -->\n",
       "      <defs>\n",
       "       <path d=\"M 10.6875 12.40625  L 21 12.40625  L 21 0  L 10.6875 0  z \" id=\"DejaVuSans-2e\"/>\n",
       "      </defs>\n",
       "      <g transform=\"translate(60.734375 255.799219)scale(0.1 -0.1)\">\n",
       "       <use xlink:href=\"#DejaVuSans-30\"/>\n",
       "       <use x=\"63.623047\" xlink:href=\"#DejaVuSans-2e\"/>\n",
       "       <use x=\"95.410156\" xlink:href=\"#DejaVuSans-30\"/>\n",
       "       <use x=\"159.033203\" xlink:href=\"#DejaVuSans-30\"/>\n",
       "      </g>\n",
       "     </g>\n",
       "    </g>\n",
       "    <g id=\"ytick_2\">\n",
       "     <g id=\"line2d_8\">\n",
       "      <g>\n",
       "       <use style=\"stroke:#000000;stroke-width:0.8;\" x=\"90\" xlink:href=\"#m8fcffead17\" y=\"210.587855\"/>\n",
       "      </g>\n",
       "     </g>\n",
       "     <g id=\"text_9\">\n",
       "      <!-- 0.05 -->\n",
       "      <g transform=\"translate(60.734375 214.387073)scale(0.1 -0.1)\">\n",
       "       <use xlink:href=\"#DejaVuSans-30\"/>\n",
       "       <use x=\"63.623047\" xlink:href=\"#DejaVuSans-2e\"/>\n",
       "       <use x=\"95.410156\" xlink:href=\"#DejaVuSans-30\"/>\n",
       "       <use x=\"159.033203\" xlink:href=\"#DejaVuSans-35\"/>\n",
       "      </g>\n",
       "     </g>\n",
       "    </g>\n",
       "    <g id=\"ytick_3\">\n",
       "     <g id=\"line2d_9\">\n",
       "      <g>\n",
       "       <use style=\"stroke:#000000;stroke-width:0.8;\" x=\"90\" xlink:href=\"#m8fcffead17\" y=\"169.175709\"/>\n",
       "      </g>\n",
       "     </g>\n",
       "     <g id=\"text_10\">\n",
       "      <!-- 0.10 -->\n",
       "      <g transform=\"translate(60.734375 172.974928)scale(0.1 -0.1)\">\n",
       "       <use xlink:href=\"#DejaVuSans-30\"/>\n",
       "       <use x=\"63.623047\" xlink:href=\"#DejaVuSans-2e\"/>\n",
       "       <use x=\"95.410156\" xlink:href=\"#DejaVuSans-31\"/>\n",
       "       <use x=\"159.033203\" xlink:href=\"#DejaVuSans-30\"/>\n",
       "      </g>\n",
       "     </g>\n",
       "    </g>\n",
       "    <g id=\"ytick_4\">\n",
       "     <g id=\"line2d_10\">\n",
       "      <g>\n",
       "       <use style=\"stroke:#000000;stroke-width:0.8;\" x=\"90\" xlink:href=\"#m8fcffead17\" y=\"127.763564\"/>\n",
       "      </g>\n",
       "     </g>\n",
       "     <g id=\"text_11\">\n",
       "      <!-- 0.15 -->\n",
       "      <g transform=\"translate(60.734375 131.562782)scale(0.1 -0.1)\">\n",
       "       <use xlink:href=\"#DejaVuSans-30\"/>\n",
       "       <use x=\"63.623047\" xlink:href=\"#DejaVuSans-2e\"/>\n",
       "       <use x=\"95.410156\" xlink:href=\"#DejaVuSans-31\"/>\n",
       "       <use x=\"159.033203\" xlink:href=\"#DejaVuSans-35\"/>\n",
       "      </g>\n",
       "     </g>\n",
       "    </g>\n",
       "    <g id=\"ytick_5\">\n",
       "     <g id=\"line2d_11\">\n",
       "      <g>\n",
       "       <use style=\"stroke:#000000;stroke-width:0.8;\" x=\"90\" xlink:href=\"#m8fcffead17\" y=\"86.351418\"/>\n",
       "      </g>\n",
       "     </g>\n",
       "     <g id=\"text_12\">\n",
       "      <!-- 0.20 -->\n",
       "      <g transform=\"translate(60.734375 90.150637)scale(0.1 -0.1)\">\n",
       "       <use xlink:href=\"#DejaVuSans-30\"/>\n",
       "       <use x=\"63.623047\" xlink:href=\"#DejaVuSans-2e\"/>\n",
       "       <use x=\"95.410156\" xlink:href=\"#DejaVuSans-32\"/>\n",
       "       <use x=\"159.033203\" xlink:href=\"#DejaVuSans-30\"/>\n",
       "      </g>\n",
       "     </g>\n",
       "    </g>\n",
       "    <g id=\"ytick_6\">\n",
       "     <g id=\"line2d_12\">\n",
       "      <g>\n",
       "       <use style=\"stroke:#000000;stroke-width:0.8;\" x=\"90\" xlink:href=\"#m8fcffead17\" y=\"44.939273\"/>\n",
       "      </g>\n",
       "     </g>\n",
       "     <g id=\"text_13\">\n",
       "      <!-- 0.25 -->\n",
       "      <g transform=\"translate(60.734375 48.738492)scale(0.1 -0.1)\">\n",
       "       <use xlink:href=\"#DejaVuSans-30\"/>\n",
       "       <use x=\"63.623047\" xlink:href=\"#DejaVuSans-2e\"/>\n",
       "       <use x=\"95.410156\" xlink:href=\"#DejaVuSans-32\"/>\n",
       "       <use x=\"159.033203\" xlink:href=\"#DejaVuSans-35\"/>\n",
       "      </g>\n",
       "     </g>\n",
       "    </g>\n",
       "   </g>\n",
       "   <g id=\"line2d_13\">\n",
       "    <path clip-path=\"url(#p9d649b5d00)\" d=\"M 101.528926 44.666273  L 102.47392 44.723835  L 104.363907 45.031478  L 106.253895 44.949714  L 108.143883 45.007227  L 110.506368 45.084573  L 114.286343 45.144146  L 138.383688 45.706635  L 146.888633 46.156419  L 153.031093 46.680698  L 158.22856 47.339144  L 162.481032 48.092585  L 166.261008 48.983255  L 169.568487 49.981125  L 172.875965 51.230952  L 175.710947 52.542081  L 178.545929 54.113141  L 180.908413 55.65031  L 183.270898 57.422577  L 185.633383 59.45844  L 187.995868 61.788433  L 190.358353 64.443421  L 192.720837 67.452064  L 195.083322 70.836871  L 197.445807 74.609495  L 199.808292 78.766651  L 202.643273 84.233677  L 205.478255 90.164903  L 208.785734 97.577969  L 212.565709 106.599885  L 216.345685 116.184401  L 220.12566 126.403408  L 223.905636 137.346532  L 227.685612 148.991996  L 239.970532 187.521765  L 242.805514 195.283944  L 245.167999 201.161445  L 247.530484 206.465067  L 249.892968 211.193157  L 252.255453 215.368613  L 254.617938 219.030996  L 256.980423 222.229393  L 259.342907 225.01639  L 261.705392 227.443848  L 264.067877 229.56024  L 266.430362 231.409332  L 269.265343 233.329167  L 272.100325 234.975857  L 275.407804 236.613764  L 278.715282 238.003257  L 282.495258 239.347174  L 286.747731 240.61207  L 291.4727 241.778184  L 296.670167 242.836779  L 302.812627 243.858305  L 309.900081 244.806827  L 318.405026 245.708528  L 328.327462 246.528824  L 332.107438 246.791724  L 332.107438 246.791724  \" style=\"fill:none;stroke:#1f77b4;stroke-linecap:square;stroke-width:1.5;\"/>\n",
       "   </g>\n",
       "   <g id=\"patch_3\">\n",
       "    <path d=\"M 90 252  L 90 34.56  \" style=\"fill:none;stroke:#000000;stroke-linecap:square;stroke-linejoin:miter;stroke-width:0.8;\"/>\n",
       "   </g>\n",
       "   <g id=\"patch_4\">\n",
       "    <path d=\"M 343.636364 252  L 343.636364 34.56  \" style=\"fill:none;stroke:#000000;stroke-linecap:square;stroke-linejoin:miter;stroke-width:0.8;\"/>\n",
       "   </g>\n",
       "   <g id=\"patch_5\">\n",
       "    <path d=\"M 90 252  L 343.636364 252  \" style=\"fill:none;stroke:#000000;stroke-linecap:square;stroke-linejoin:miter;stroke-width:0.8;\"/>\n",
       "   </g>\n",
       "   <g id=\"patch_6\">\n",
       "    <path d=\"M 90 34.56  L 343.636364 34.56  \" style=\"fill:none;stroke:#000000;stroke-linecap:square;stroke-linejoin:miter;stroke-width:0.8;\"/>\n",
       "   </g>\n",
       "   <g id=\"text_14\">\n",
       "    <!-- XOR Network: Loss -->\n",
       "    <defs>\n",
       "     <path d=\"M 6.296875 72.90625  L 16.890625 72.90625  L 35.015625 45.796875  L 53.21875 72.90625  L 63.8125 72.90625  L 40.375 37.890625  L 65.375 0  L 54.78125 0  L 34.28125 31  L 13.625 0  L 2.984375 0  L 29 38.921875  z \" id=\"DejaVuSans-58\"/>\n",
       "     <path d=\"M 39.40625 66.21875  Q 28.65625 66.21875 22.328125 58.203125  Q 16.015625 50.203125 16.015625 36.375  Q 16.015625 22.609375 22.328125 14.59375  Q 28.65625 6.59375 39.40625 6.59375  Q 50.140625 6.59375 56.421875 14.59375  Q 62.703125 22.609375 62.703125 36.375  Q 62.703125 50.203125 56.421875 58.203125  Q 50.140625 66.21875 39.40625 66.21875  z M 39.40625 74.21875  Q 54.734375 74.21875 63.90625 63.9375  Q 73.09375 53.65625 73.09375 36.375  Q 73.09375 19.140625 63.90625 8.859375  Q 54.734375 -1.421875 39.40625 -1.421875  Q 24.03125 -1.421875 14.8125 8.828125  Q 5.609375 19.09375 5.609375 36.375  Q 5.609375 53.65625 14.8125 63.9375  Q 24.03125 74.21875 39.40625 74.21875  z \" id=\"DejaVuSans-4f\"/>\n",
       "     <path d=\"M 44.390625 34.1875  Q 47.5625 33.109375 50.5625 29.59375  Q 53.5625 26.078125 56.59375 19.921875  L 66.609375 0  L 56 0  L 46.6875 18.703125  Q 43.0625 26.03125 39.671875 28.421875  Q 36.28125 30.8125 30.421875 30.8125  L 19.671875 30.8125  L 19.671875 0  L 9.8125 0  L 9.8125 72.90625  L 32.078125 72.90625  Q 44.578125 72.90625 50.734375 67.671875  Q 56.890625 62.453125 56.890625 51.90625  Q 56.890625 45.015625 53.6875 40.46875  Q 50.484375 35.9375 44.390625 34.1875  z M 19.671875 64.796875  L 19.671875 38.921875  L 32.078125 38.921875  Q 39.203125 38.921875 42.84375 42.21875  Q 46.484375 45.515625 46.484375 51.90625  Q 46.484375 58.296875 42.84375 61.546875  Q 39.203125 64.796875 32.078125 64.796875  z \" id=\"DejaVuSans-52\"/>\n",
       "     <path id=\"DejaVuSans-20\"/>\n",
       "     <path d=\"M 9.8125 72.90625  L 23.09375 72.90625  L 55.421875 11.921875  L 55.421875 72.90625  L 64.984375 72.90625  L 64.984375 0  L 51.703125 0  L 19.390625 60.984375  L 19.390625 0  L 9.8125 0  z \" id=\"DejaVuSans-4e\"/>\n",
       "     <path d=\"M 56.203125 29.59375  L 56.203125 25.203125  L 14.890625 25.203125  Q 15.484375 15.921875 20.484375 11.0625  Q 25.484375 6.203125 34.421875 6.203125  Q 39.59375 6.203125 44.453125 7.46875  Q 49.3125 8.734375 54.109375 11.28125  L 54.109375 2.78125  Q 49.265625 0.734375 44.1875 -0.34375  Q 39.109375 -1.421875 33.890625 -1.421875  Q 20.796875 -1.421875 13.15625 6.1875  Q 5.515625 13.8125 5.515625 26.8125  Q 5.515625 40.234375 12.765625 48.109375  Q 20.015625 56 32.328125 56  Q 43.359375 56 49.78125 48.890625  Q 56.203125 41.796875 56.203125 29.59375  z M 47.21875 32.234375  Q 47.125 39.59375 43.09375 43.984375  Q 39.0625 48.390625 32.421875 48.390625  Q 24.90625 48.390625 20.390625 44.140625  Q 15.875 39.890625 15.1875 32.171875  z \" id=\"DejaVuSans-65\"/>\n",
       "     <path d=\"M 18.3125 70.21875  L 18.3125 54.6875  L 36.8125 54.6875  L 36.8125 47.703125  L 18.3125 47.703125  L 18.3125 18.015625  Q 18.3125 11.328125 20.140625 9.421875  Q 21.96875 7.515625 27.59375 7.515625  L 36.8125 7.515625  L 36.8125 0  L 27.59375 0  Q 17.1875 0 13.234375 3.875  Q 9.28125 7.765625 9.28125 18.015625  L 9.28125 47.703125  L 2.6875 47.703125  L 2.6875 54.6875  L 9.28125 54.6875  L 9.28125 70.21875  z \" id=\"DejaVuSans-74\"/>\n",
       "     <path d=\"M 4.203125 54.6875  L 13.1875 54.6875  L 24.421875 12.015625  L 35.59375 54.6875  L 46.1875 54.6875  L 57.421875 12.015625  L 68.609375 54.6875  L 77.59375 54.6875  L 63.28125 0  L 52.6875 0  L 40.921875 44.828125  L 29.109375 0  L 18.5 0  z \" id=\"DejaVuSans-77\"/>\n",
       "     <path d=\"M 41.109375 46.296875  Q 39.59375 47.171875 37.8125 47.578125  Q 36.03125 48 33.890625 48  Q 26.265625 48 22.1875 43.046875  Q 18.109375 38.09375 18.109375 28.8125  L 18.109375 0  L 9.078125 0  L 9.078125 54.6875  L 18.109375 54.6875  L 18.109375 46.1875  Q 20.953125 51.171875 25.484375 53.578125  Q 30.03125 56 36.53125 56  Q 37.453125 56 38.578125 55.875  Q 39.703125 55.765625 41.0625 55.515625  z \" id=\"DejaVuSans-72\"/>\n",
       "     <path d=\"M 9.078125 75.984375  L 18.109375 75.984375  L 18.109375 31.109375  L 44.921875 54.6875  L 56.390625 54.6875  L 27.390625 29.109375  L 57.625 0  L 45.90625 0  L 18.109375 26.703125  L 18.109375 0  L 9.078125 0  z \" id=\"DejaVuSans-6b\"/>\n",
       "     <path d=\"M 11.71875 12.40625  L 22.015625 12.40625  L 22.015625 0  L 11.71875 0  z M 11.71875 51.703125  L 22.015625 51.703125  L 22.015625 39.3125  L 11.71875 39.3125  z \" id=\"DejaVuSans-3a\"/>\n",
       "     <path d=\"M 9.8125 72.90625  L 19.671875 72.90625  L 19.671875 8.296875  L 55.171875 8.296875  L 55.171875 0  L 9.8125 0  z \" id=\"DejaVuSans-4c\"/>\n",
       "     <path d=\"M 44.28125 53.078125  L 44.28125 44.578125  Q 40.484375 46.53125 36.375 47.5  Q 32.28125 48.484375 27.875 48.484375  Q 21.1875 48.484375 17.84375 46.4375  Q 14.5 44.390625 14.5 40.28125  Q 14.5 37.15625 16.890625 35.375  Q 19.28125 33.59375 26.515625 31.984375  L 29.59375 31.296875  Q 39.15625 29.25 43.1875 25.515625  Q 47.21875 21.78125 47.21875 15.09375  Q 47.21875 7.46875 41.1875 3.015625  Q 35.15625 -1.421875 24.609375 -1.421875  Q 20.21875 -1.421875 15.453125 -0.5625  Q 10.6875 0.296875 5.421875 2  L 5.421875 11.28125  Q 10.40625 8.6875 15.234375 7.390625  Q 20.0625 6.109375 24.8125 6.109375  Q 31.15625 6.109375 34.5625 8.28125  Q 37.984375 10.453125 37.984375 14.40625  Q 37.984375 18.0625 35.515625 20.015625  Q 33.0625 21.96875 24.703125 23.78125  L 21.578125 24.515625  Q 13.234375 26.265625 9.515625 29.90625  Q 5.8125 33.546875 5.8125 39.890625  Q 5.8125 47.609375 11.28125 51.796875  Q 16.75 56 26.8125 56  Q 31.78125 56 36.171875 55.265625  Q 40.578125 54.546875 44.28125 53.078125  z \" id=\"DejaVuSans-73\"/>\n",
       "    </defs>\n",
       "    <g transform=\"translate(159.670057 28.56)scale(0.12 -0.12)\">\n",
       "     <use xlink:href=\"#DejaVuSans-58\"/>\n",
       "     <use x=\"68.412109\" xlink:href=\"#DejaVuSans-4f\"/>\n",
       "     <use x=\"147.123047\" xlink:href=\"#DejaVuSans-52\"/>\n",
       "     <use x=\"216.605469\" xlink:href=\"#DejaVuSans-20\"/>\n",
       "     <use x=\"248.392578\" xlink:href=\"#DejaVuSans-4e\"/>\n",
       "     <use x=\"323.197266\" xlink:href=\"#DejaVuSans-65\"/>\n",
       "     <use x=\"384.720703\" xlink:href=\"#DejaVuSans-74\"/>\n",
       "     <use x=\"423.929688\" xlink:href=\"#DejaVuSans-77\"/>\n",
       "     <use x=\"505.716797\" xlink:href=\"#DejaVuSans-6f\"/>\n",
       "     <use x=\"566.898438\" xlink:href=\"#DejaVuSans-72\"/>\n",
       "     <use x=\"608.011719\" xlink:href=\"#DejaVuSans-6b\"/>\n",
       "     <use x=\"665.921875\" xlink:href=\"#DejaVuSans-3a\"/>\n",
       "     <use x=\"699.613281\" xlink:href=\"#DejaVuSans-20\"/>\n",
       "     <use x=\"731.400391\" xlink:href=\"#DejaVuSans-4c\"/>\n",
       "     <use x=\"787.097656\" xlink:href=\"#DejaVuSans-6f\"/>\n",
       "     <use x=\"848.279297\" xlink:href=\"#DejaVuSans-73\"/>\n",
       "     <use x=\"900.378906\" xlink:href=\"#DejaVuSans-73\"/>\n",
       "    </g>\n",
       "   </g>\n",
       "   <g id=\"legend_1\">\n",
       "    <g id=\"patch_7\">\n",
       "     <path d=\"M 245.270739 57.238125  L 336.636364 57.238125  Q 338.636364 57.238125 338.636364 55.238125  L 338.636364 41.56  Q 338.636364 39.56 336.636364 39.56  L 245.270739 39.56  Q 243.270739 39.56 243.270739 41.56  L 243.270739 55.238125  Q 243.270739 57.238125 245.270739 57.238125  z \" style=\"fill:#ffffff;opacity:0.8;stroke:#cccccc;stroke-linejoin:miter;\"/>\n",
       "    </g>\n",
       "    <g id=\"line2d_14\">\n",
       "     <path d=\"M 247.270739 47.658437  L 267.270739 47.658437  \" style=\"fill:none;stroke:#1f77b4;stroke-linecap:square;stroke-width:1.5;\"/>\n",
       "    </g>\n",
       "    <g id=\"line2d_15\"/>\n",
       "    <g id=\"text_15\">\n",
       "     <!-- Training set -->\n",
       "     <defs>\n",
       "      <path d=\"M -0.296875 72.90625  L 61.375 72.90625  L 61.375 64.59375  L 35.5 64.59375  L 35.5 0  L 25.59375 0  L 25.59375 64.59375  L -0.296875 64.59375  z \" id=\"DejaVuSans-54\"/>\n",
       "      <path d=\"M 34.28125 27.484375  Q 23.390625 27.484375 19.1875 25  Q 14.984375 22.515625 14.984375 16.5  Q 14.984375 11.71875 18.140625 8.90625  Q 21.296875 6.109375 26.703125 6.109375  Q 34.1875 6.109375 38.703125 11.40625  Q 43.21875 16.703125 43.21875 25.484375  L 43.21875 27.484375  z M 52.203125 31.203125  L 52.203125 0  L 43.21875 0  L 43.21875 8.296875  Q 40.140625 3.328125 35.546875 0.953125  Q 30.953125 -1.421875 24.3125 -1.421875  Q 15.921875 -1.421875 10.953125 3.296875  Q 6 8.015625 6 15.921875  Q 6 25.140625 12.171875 29.828125  Q 18.359375 34.515625 30.609375 34.515625  L 43.21875 34.515625  L 43.21875 35.40625  Q 43.21875 41.609375 39.140625 45  Q 35.0625 48.390625 27.6875 48.390625  Q 23 48.390625 18.546875 47.265625  Q 14.109375 46.140625 10.015625 43.890625  L 10.015625 52.203125  Q 14.9375 54.109375 19.578125 55.046875  Q 24.21875 56 28.609375 56  Q 40.484375 56 46.34375 49.84375  Q 52.203125 43.703125 52.203125 31.203125  z \" id=\"DejaVuSans-61\"/>\n",
       "      <path d=\"M 9.421875 54.6875  L 18.40625 54.6875  L 18.40625 0  L 9.421875 0  z M 9.421875 75.984375  L 18.40625 75.984375  L 18.40625 64.59375  L 9.421875 64.59375  z \" id=\"DejaVuSans-69\"/>\n",
       "      <path d=\"M 54.890625 33.015625  L 54.890625 0  L 45.90625 0  L 45.90625 32.71875  Q 45.90625 40.484375 42.875 44.328125  Q 39.84375 48.1875 33.796875 48.1875  Q 26.515625 48.1875 22.3125 43.546875  Q 18.109375 38.921875 18.109375 30.90625  L 18.109375 0  L 9.078125 0  L 9.078125 54.6875  L 18.109375 54.6875  L 18.109375 46.1875  Q 21.34375 51.125 25.703125 53.5625  Q 30.078125 56 35.796875 56  Q 45.21875 56 50.046875 50.171875  Q 54.890625 44.34375 54.890625 33.015625  z \" id=\"DejaVuSans-6e\"/>\n",
       "      <path d=\"M 45.40625 27.984375  Q 45.40625 37.75 41.375 43.109375  Q 37.359375 48.484375 30.078125 48.484375  Q 22.859375 48.484375 18.828125 43.109375  Q 14.796875 37.75 14.796875 27.984375  Q 14.796875 18.265625 18.828125 12.890625  Q 22.859375 7.515625 30.078125 7.515625  Q 37.359375 7.515625 41.375 12.890625  Q 45.40625 18.265625 45.40625 27.984375  z M 54.390625 6.78125  Q 54.390625 -7.171875 48.1875 -13.984375  Q 42 -20.796875 29.203125 -20.796875  Q 24.46875 -20.796875 20.265625 -20.09375  Q 16.0625 -19.390625 12.109375 -17.921875  L 12.109375 -9.1875  Q 16.0625 -11.328125 19.921875 -12.34375  Q 23.78125 -13.375 27.78125 -13.375  Q 36.625 -13.375 41.015625 -8.765625  Q 45.40625 -4.15625 45.40625 5.171875  L 45.40625 9.625  Q 42.625 4.78125 38.28125 2.390625  Q 33.9375 0 27.875 0  Q 17.828125 0 11.671875 7.65625  Q 5.515625 15.328125 5.515625 27.984375  Q 5.515625 40.671875 11.671875 48.328125  Q 17.828125 56 27.875 56  Q 33.9375 56 38.28125 53.609375  Q 42.625 51.21875 45.40625 46.390625  L 45.40625 54.6875  L 54.390625 54.6875  z \" id=\"DejaVuSans-67\"/>\n",
       "     </defs>\n",
       "     <g transform=\"translate(275.270739 51.158437)scale(0.1 -0.1)\">\n",
       "      <use xlink:href=\"#DejaVuSans-54\"/>\n",
       "      <use x=\"60.865234\" xlink:href=\"#DejaVuSans-72\"/>\n",
       "      <use x=\"101.978516\" xlink:href=\"#DejaVuSans-61\"/>\n",
       "      <use x=\"163.257812\" xlink:href=\"#DejaVuSans-69\"/>\n",
       "      <use x=\"191.041016\" xlink:href=\"#DejaVuSans-6e\"/>\n",
       "      <use x=\"254.419922\" xlink:href=\"#DejaVuSans-69\"/>\n",
       "      <use x=\"282.203125\" xlink:href=\"#DejaVuSans-6e\"/>\n",
       "      <use x=\"345.582031\" xlink:href=\"#DejaVuSans-67\"/>\n",
       "      <use x=\"409.058594\" xlink:href=\"#DejaVuSans-20\"/>\n",
       "      <use x=\"440.845703\" xlink:href=\"#DejaVuSans-73\"/>\n",
       "      <use x=\"492.945312\" xlink:href=\"#DejaVuSans-65\"/>\n",
       "      <use x=\"554.46875\" xlink:href=\"#DejaVuSans-74\"/>\n",
       "     </g>\n",
       "    </g>\n",
       "   </g>\n",
       "  </g>\n",
       "  <g id=\"axes_2\">\n",
       "   <g id=\"patch_8\">\n",
       "    <path d=\"M 394.363636 252  L 648 252  L 648 34.56  L 394.363636 34.56  z \" style=\"fill:#ffffff;\"/>\n",
       "   </g>\n",
       "   <g id=\"matplotlib.axis_3\">\n",
       "    <g id=\"xtick_7\">\n",
       "     <g id=\"line2d_16\">\n",
       "      <g>\n",
       "       <use style=\"stroke:#000000;stroke-width:0.8;\" x=\"405.892562\" xlink:href=\"#m9445708dc7\" y=\"252\"/>\n",
       "      </g>\n",
       "     </g>\n",
       "     <g id=\"text_16\">\n",
       "      <!-- 0 -->\n",
       "      <g transform=\"translate(402.711312 266.598437)scale(0.1 -0.1)\">\n",
       "       <use xlink:href=\"#DejaVuSans-30\"/>\n",
       "      </g>\n",
       "     </g>\n",
       "    </g>\n",
       "    <g id=\"xtick_8\">\n",
       "     <g id=\"line2d_17\">\n",
       "      <g>\n",
       "       <use style=\"stroke:#000000;stroke-width:0.8;\" x=\"453.142257\" xlink:href=\"#m9445708dc7\" y=\"252\"/>\n",
       "      </g>\n",
       "     </g>\n",
       "     <g id=\"text_17\">\n",
       "      <!-- 100 -->\n",
       "      <g transform=\"translate(443.598507 266.598437)scale(0.1 -0.1)\">\n",
       "       <use xlink:href=\"#DejaVuSans-31\"/>\n",
       "       <use x=\"63.623047\" xlink:href=\"#DejaVuSans-30\"/>\n",
       "       <use x=\"127.246094\" xlink:href=\"#DejaVuSans-30\"/>\n",
       "      </g>\n",
       "     </g>\n",
       "    </g>\n",
       "    <g id=\"xtick_9\">\n",
       "     <g id=\"line2d_18\">\n",
       "      <g>\n",
       "       <use style=\"stroke:#000000;stroke-width:0.8;\" x=\"500.391952\" xlink:href=\"#m9445708dc7\" y=\"252\"/>\n",
       "      </g>\n",
       "     </g>\n",
       "     <g id=\"text_18\">\n",
       "      <!-- 200 -->\n",
       "      <g transform=\"translate(490.848202 266.598437)scale(0.1 -0.1)\">\n",
       "       <use xlink:href=\"#DejaVuSans-32\"/>\n",
       "       <use x=\"63.623047\" xlink:href=\"#DejaVuSans-30\"/>\n",
       "       <use x=\"127.246094\" xlink:href=\"#DejaVuSans-30\"/>\n",
       "      </g>\n",
       "     </g>\n",
       "    </g>\n",
       "    <g id=\"xtick_10\">\n",
       "     <g id=\"line2d_19\">\n",
       "      <g>\n",
       "       <use style=\"stroke:#000000;stroke-width:0.8;\" x=\"547.641647\" xlink:href=\"#m9445708dc7\" y=\"252\"/>\n",
       "      </g>\n",
       "     </g>\n",
       "     <g id=\"text_19\">\n",
       "      <!-- 300 -->\n",
       "      <g transform=\"translate(538.097897 266.598437)scale(0.1 -0.1)\">\n",
       "       <use xlink:href=\"#DejaVuSans-33\"/>\n",
       "       <use x=\"63.623047\" xlink:href=\"#DejaVuSans-30\"/>\n",
       "       <use x=\"127.246094\" xlink:href=\"#DejaVuSans-30\"/>\n",
       "      </g>\n",
       "     </g>\n",
       "    </g>\n",
       "    <g id=\"xtick_11\">\n",
       "     <g id=\"line2d_20\">\n",
       "      <g>\n",
       "       <use style=\"stroke:#000000;stroke-width:0.8;\" x=\"594.891343\" xlink:href=\"#m9445708dc7\" y=\"252\"/>\n",
       "      </g>\n",
       "     </g>\n",
       "     <g id=\"text_20\">\n",
       "      <!-- 400 -->\n",
       "      <g transform=\"translate(585.347593 266.598437)scale(0.1 -0.1)\">\n",
       "       <use xlink:href=\"#DejaVuSans-34\"/>\n",
       "       <use x=\"63.623047\" xlink:href=\"#DejaVuSans-30\"/>\n",
       "       <use x=\"127.246094\" xlink:href=\"#DejaVuSans-30\"/>\n",
       "      </g>\n",
       "     </g>\n",
       "    </g>\n",
       "    <g id=\"xtick_12\">\n",
       "     <g id=\"line2d_21\">\n",
       "      <g>\n",
       "       <use style=\"stroke:#000000;stroke-width:0.8;\" x=\"642.141038\" xlink:href=\"#m9445708dc7\" y=\"252\"/>\n",
       "      </g>\n",
       "     </g>\n",
       "     <g id=\"text_21\">\n",
       "      <!-- 500 -->\n",
       "      <g transform=\"translate(632.597288 266.598437)scale(0.1 -0.1)\">\n",
       "       <use xlink:href=\"#DejaVuSans-35\"/>\n",
       "       <use x=\"63.623047\" xlink:href=\"#DejaVuSans-30\"/>\n",
       "       <use x=\"127.246094\" xlink:href=\"#DejaVuSans-30\"/>\n",
       "      </g>\n",
       "     </g>\n",
       "    </g>\n",
       "    <g id=\"text_22\">\n",
       "     <!-- Epoch -->\n",
       "     <g transform=\"translate(505.870881 280.276563)scale(0.1 -0.1)\">\n",
       "      <use xlink:href=\"#DejaVuSans-45\"/>\n",
       "      <use x=\"63.183594\" xlink:href=\"#DejaVuSans-70\"/>\n",
       "      <use x=\"126.660156\" xlink:href=\"#DejaVuSans-6f\"/>\n",
       "      <use x=\"187.841797\" xlink:href=\"#DejaVuSans-63\"/>\n",
       "      <use x=\"242.822266\" xlink:href=\"#DejaVuSans-68\"/>\n",
       "     </g>\n",
       "    </g>\n",
       "   </g>\n",
       "   <g id=\"matplotlib.axis_4\">\n",
       "    <g id=\"ytick_7\">\n",
       "     <g id=\"line2d_22\">\n",
       "      <g>\n",
       "       <use style=\"stroke:#000000;stroke-width:0.8;\" x=\"394.363636\" xlink:href=\"#m8fcffead17\" y=\"233.88\"/>\n",
       "      </g>\n",
       "     </g>\n",
       "     <g id=\"text_23\">\n",
       "      <!-- 0.0 -->\n",
       "      <g transform=\"translate(371.460511 237.679219)scale(0.1 -0.1)\">\n",
       "       <use xlink:href=\"#DejaVuSans-30\"/>\n",
       "       <use x=\"63.623047\" xlink:href=\"#DejaVuSans-2e\"/>\n",
       "       <use x=\"95.410156\" xlink:href=\"#DejaVuSans-30\"/>\n",
       "      </g>\n",
       "     </g>\n",
       "    </g>\n",
       "    <g id=\"ytick_8\">\n",
       "     <g id=\"line2d_23\">\n",
       "      <g>\n",
       "       <use style=\"stroke:#000000;stroke-width:0.8;\" x=\"394.363636\" xlink:href=\"#m8fcffead17\" y=\"197.64\"/>\n",
       "      </g>\n",
       "     </g>\n",
       "     <g id=\"text_24\">\n",
       "      <!-- 0.2 -->\n",
       "      <g transform=\"translate(371.460511 201.439219)scale(0.1 -0.1)\">\n",
       "       <use xlink:href=\"#DejaVuSans-30\"/>\n",
       "       <use x=\"63.623047\" xlink:href=\"#DejaVuSans-2e\"/>\n",
       "       <use x=\"95.410156\" xlink:href=\"#DejaVuSans-32\"/>\n",
       "      </g>\n",
       "     </g>\n",
       "    </g>\n",
       "    <g id=\"ytick_9\">\n",
       "     <g id=\"line2d_24\">\n",
       "      <g>\n",
       "       <use style=\"stroke:#000000;stroke-width:0.8;\" x=\"394.363636\" xlink:href=\"#m8fcffead17\" y=\"161.4\"/>\n",
       "      </g>\n",
       "     </g>\n",
       "     <g id=\"text_25\">\n",
       "      <!-- 0.4 -->\n",
       "      <g transform=\"translate(371.460511 165.199219)scale(0.1 -0.1)\">\n",
       "       <use xlink:href=\"#DejaVuSans-30\"/>\n",
       "       <use x=\"63.623047\" xlink:href=\"#DejaVuSans-2e\"/>\n",
       "       <use x=\"95.410156\" xlink:href=\"#DejaVuSans-34\"/>\n",
       "      </g>\n",
       "     </g>\n",
       "    </g>\n",
       "    <g id=\"ytick_10\">\n",
       "     <g id=\"line2d_25\">\n",
       "      <g>\n",
       "       <use style=\"stroke:#000000;stroke-width:0.8;\" x=\"394.363636\" xlink:href=\"#m8fcffead17\" y=\"125.16\"/>\n",
       "      </g>\n",
       "     </g>\n",
       "     <g id=\"text_26\">\n",
       "      <!-- 0.6 -->\n",
       "      <defs>\n",
       "       <path d=\"M 33.015625 40.375  Q 26.375 40.375 22.484375 35.828125  Q 18.609375 31.296875 18.609375 23.390625  Q 18.609375 15.53125 22.484375 10.953125  Q 26.375 6.390625 33.015625 6.390625  Q 39.65625 6.390625 43.53125 10.953125  Q 47.40625 15.53125 47.40625 23.390625  Q 47.40625 31.296875 43.53125 35.828125  Q 39.65625 40.375 33.015625 40.375  z M 52.59375 71.296875  L 52.59375 62.3125  Q 48.875 64.0625 45.09375 64.984375  Q 41.3125 65.921875 37.59375 65.921875  Q 27.828125 65.921875 22.671875 59.328125  Q 17.53125 52.734375 16.796875 39.40625  Q 19.671875 43.65625 24.015625 45.921875  Q 28.375 48.1875 33.59375 48.1875  Q 44.578125 48.1875 50.953125 41.515625  Q 57.328125 34.859375 57.328125 23.390625  Q 57.328125 12.15625 50.6875 5.359375  Q 44.046875 -1.421875 33.015625 -1.421875  Q 20.359375 -1.421875 13.671875 8.265625  Q 6.984375 17.96875 6.984375 36.375  Q 6.984375 53.65625 15.1875 63.9375  Q 23.390625 74.21875 37.203125 74.21875  Q 40.921875 74.21875 44.703125 73.484375  Q 48.484375 72.75 52.59375 71.296875  z \" id=\"DejaVuSans-36\"/>\n",
       "      </defs>\n",
       "      <g transform=\"translate(371.460511 128.959219)scale(0.1 -0.1)\">\n",
       "       <use xlink:href=\"#DejaVuSans-30\"/>\n",
       "       <use x=\"63.623047\" xlink:href=\"#DejaVuSans-2e\"/>\n",
       "       <use x=\"95.410156\" xlink:href=\"#DejaVuSans-36\"/>\n",
       "      </g>\n",
       "     </g>\n",
       "    </g>\n",
       "    <g id=\"ytick_11\">\n",
       "     <g id=\"line2d_26\">\n",
       "      <g>\n",
       "       <use style=\"stroke:#000000;stroke-width:0.8;\" x=\"394.363636\" xlink:href=\"#m8fcffead17\" y=\"88.92\"/>\n",
       "      </g>\n",
       "     </g>\n",
       "     <g id=\"text_27\">\n",
       "      <!-- 0.8 -->\n",
       "      <defs>\n",
       "       <path d=\"M 31.78125 34.625  Q 24.75 34.625 20.71875 30.859375  Q 16.703125 27.09375 16.703125 20.515625  Q 16.703125 13.921875 20.71875 10.15625  Q 24.75 6.390625 31.78125 6.390625  Q 38.8125 6.390625 42.859375 10.171875  Q 46.921875 13.96875 46.921875 20.515625  Q 46.921875 27.09375 42.890625 30.859375  Q 38.875 34.625 31.78125 34.625  z M 21.921875 38.8125  Q 15.578125 40.375 12.03125 44.71875  Q 8.5 49.078125 8.5 55.328125  Q 8.5 64.0625 14.71875 69.140625  Q 20.953125 74.21875 31.78125 74.21875  Q 42.671875 74.21875 48.875 69.140625  Q 55.078125 64.0625 55.078125 55.328125  Q 55.078125 49.078125 51.53125 44.71875  Q 48 40.375 41.703125 38.8125  Q 48.828125 37.15625 52.796875 32.3125  Q 56.78125 27.484375 56.78125 20.515625  Q 56.78125 9.90625 50.3125 4.234375  Q 43.84375 -1.421875 31.78125 -1.421875  Q 19.734375 -1.421875 13.25 4.234375  Q 6.78125 9.90625 6.78125 20.515625  Q 6.78125 27.484375 10.78125 32.3125  Q 14.796875 37.15625 21.921875 38.8125  z M 18.3125 54.390625  Q 18.3125 48.734375 21.84375 45.5625  Q 25.390625 42.390625 31.78125 42.390625  Q 38.140625 42.390625 41.71875 45.5625  Q 45.3125 48.734375 45.3125 54.390625  Q 45.3125 60.0625 41.71875 63.234375  Q 38.140625 66.40625 31.78125 66.40625  Q 25.390625 66.40625 21.84375 63.234375  Q 18.3125 60.0625 18.3125 54.390625  z \" id=\"DejaVuSans-38\"/>\n",
       "      </defs>\n",
       "      <g transform=\"translate(371.460511 92.719219)scale(0.1 -0.1)\">\n",
       "       <use xlink:href=\"#DejaVuSans-30\"/>\n",
       "       <use x=\"63.623047\" xlink:href=\"#DejaVuSans-2e\"/>\n",
       "       <use x=\"95.410156\" xlink:href=\"#DejaVuSans-38\"/>\n",
       "      </g>\n",
       "     </g>\n",
       "    </g>\n",
       "    <g id=\"ytick_12\">\n",
       "     <g id=\"line2d_27\">\n",
       "      <g>\n",
       "       <use style=\"stroke:#000000;stroke-width:0.8;\" x=\"394.363636\" xlink:href=\"#m8fcffead17\" y=\"52.68\"/>\n",
       "      </g>\n",
       "     </g>\n",
       "     <g id=\"text_28\">\n",
       "      <!-- 1.0 -->\n",
       "      <g transform=\"translate(371.460511 56.479219)scale(0.1 -0.1)\">\n",
       "       <use xlink:href=\"#DejaVuSans-31\"/>\n",
       "       <use x=\"63.623047\" xlink:href=\"#DejaVuSans-2e\"/>\n",
       "       <use x=\"95.410156\" xlink:href=\"#DejaVuSans-30\"/>\n",
       "      </g>\n",
       "     </g>\n",
       "    </g>\n",
       "   </g>\n",
       "   <g id=\"line2d_28\">\n",
       "    <path clip-path=\"url(#p7f378b3364)\" d=\"M 405.892562 233.88  L 566.541526 233.88  L 567.014022 188.58  L 601.5063 188.58  L 601.978797 143.28  L 616.153705 143.28  L 616.626202 97.98  L 635.998577 97.98  L 636.471074 52.68  L 636.471074 52.68  \" style=\"fill:none;stroke:#1f77b4;stroke-linecap:square;stroke-width:1.5;\"/>\n",
       "   </g>\n",
       "   <g id=\"patch_9\">\n",
       "    <path d=\"M 394.363636 252  L 394.363636 34.56  \" style=\"fill:none;stroke:#000000;stroke-linecap:square;stroke-linejoin:miter;stroke-width:0.8;\"/>\n",
       "   </g>\n",
       "   <g id=\"patch_10\">\n",
       "    <path d=\"M 648 252  L 648 34.56  \" style=\"fill:none;stroke:#000000;stroke-linecap:square;stroke-linejoin:miter;stroke-width:0.8;\"/>\n",
       "   </g>\n",
       "   <g id=\"patch_11\">\n",
       "    <path d=\"M 394.363636 252  L 648 252  \" style=\"fill:none;stroke:#000000;stroke-linecap:square;stroke-linejoin:miter;stroke-width:0.8;\"/>\n",
       "   </g>\n",
       "   <g id=\"patch_12\">\n",
       "    <path d=\"M 394.363636 34.56  L 648 34.56  \" style=\"fill:none;stroke:#000000;stroke-linecap:square;stroke-linejoin:miter;stroke-width:0.8;\"/>\n",
       "   </g>\n",
       "   <g id=\"text_29\">\n",
       "    <!-- XOR Network: Accuracy -->\n",
       "    <defs>\n",
       "     <path d=\"M 34.1875 63.1875  L 20.796875 26.90625  L 47.609375 26.90625  z M 28.609375 72.90625  L 39.796875 72.90625  L 67.578125 0  L 57.328125 0  L 50.6875 18.703125  L 17.828125 18.703125  L 11.1875 0  L 0.78125 0  z \" id=\"DejaVuSans-41\"/>\n",
       "     <path d=\"M 8.5 21.578125  L 8.5 54.6875  L 17.484375 54.6875  L 17.484375 21.921875  Q 17.484375 14.15625 20.5 10.265625  Q 23.53125 6.390625 29.59375 6.390625  Q 36.859375 6.390625 41.078125 11.03125  Q 45.3125 15.671875 45.3125 23.6875  L 45.3125 54.6875  L 54.296875 54.6875  L 54.296875 0  L 45.3125 0  L 45.3125 8.40625  Q 42.046875 3.421875 37.71875 1  Q 33.40625 -1.421875 27.6875 -1.421875  Q 18.265625 -1.421875 13.375 4.4375  Q 8.5 10.296875 8.5 21.578125  z M 31.109375 56  z \" id=\"DejaVuSans-75\"/>\n",
       "     <path d=\"M 32.171875 -5.078125  Q 28.375 -14.84375 24.75 -17.8125  Q 21.140625 -20.796875 15.09375 -20.796875  L 7.90625 -20.796875  L 7.90625 -13.28125  L 13.1875 -13.28125  Q 16.890625 -13.28125 18.9375 -11.515625  Q 21 -9.765625 23.484375 -3.21875  L 25.09375 0.875  L 2.984375 54.6875  L 12.5 54.6875  L 29.59375 11.921875  L 46.6875 54.6875  L 56.203125 54.6875  z \" id=\"DejaVuSans-79\"/>\n",
       "    </defs>\n",
       "    <g transform=\"translate(449.800568 28.56)scale(0.12 -0.12)\">\n",
       "     <use xlink:href=\"#DejaVuSans-58\"/>\n",
       "     <use x=\"68.412109\" xlink:href=\"#DejaVuSans-4f\"/>\n",
       "     <use x=\"147.123047\" xlink:href=\"#DejaVuSans-52\"/>\n",
       "     <use x=\"216.605469\" xlink:href=\"#DejaVuSans-20\"/>\n",
       "     <use x=\"248.392578\" xlink:href=\"#DejaVuSans-4e\"/>\n",
       "     <use x=\"323.197266\" xlink:href=\"#DejaVuSans-65\"/>\n",
       "     <use x=\"384.720703\" xlink:href=\"#DejaVuSans-74\"/>\n",
       "     <use x=\"423.929688\" xlink:href=\"#DejaVuSans-77\"/>\n",
       "     <use x=\"505.716797\" xlink:href=\"#DejaVuSans-6f\"/>\n",
       "     <use x=\"566.898438\" xlink:href=\"#DejaVuSans-72\"/>\n",
       "     <use x=\"608.011719\" xlink:href=\"#DejaVuSans-6b\"/>\n",
       "     <use x=\"665.921875\" xlink:href=\"#DejaVuSans-3a\"/>\n",
       "     <use x=\"699.613281\" xlink:href=\"#DejaVuSans-20\"/>\n",
       "     <use x=\"731.400391\" xlink:href=\"#DejaVuSans-41\"/>\n",
       "     <use x=\"799.792969\" xlink:href=\"#DejaVuSans-63\"/>\n",
       "     <use x=\"854.773438\" xlink:href=\"#DejaVuSans-63\"/>\n",
       "     <use x=\"909.753906\" xlink:href=\"#DejaVuSans-75\"/>\n",
       "     <use x=\"973.132812\" xlink:href=\"#DejaVuSans-72\"/>\n",
       "     <use x=\"1014.246094\" xlink:href=\"#DejaVuSans-61\"/>\n",
       "     <use x=\"1075.525391\" xlink:href=\"#DejaVuSans-63\"/>\n",
       "     <use x=\"1130.505859\" xlink:href=\"#DejaVuSans-79\"/>\n",
       "    </g>\n",
       "   </g>\n",
       "   <g id=\"legend_2\">\n",
       "    <g id=\"patch_13\">\n",
       "     <path d=\"M 401.363636 57.238125  L 492.729261 57.238125  Q 494.729261 57.238125 494.729261 55.238125  L 494.729261 41.56  Q 494.729261 39.56 492.729261 39.56  L 401.363636 39.56  Q 399.363636 39.56 399.363636 41.56  L 399.363636 55.238125  Q 399.363636 57.238125 401.363636 57.238125  z \" style=\"fill:#ffffff;opacity:0.8;stroke:#cccccc;stroke-linejoin:miter;\"/>\n",
       "    </g>\n",
       "    <g id=\"line2d_29\">\n",
       "     <path d=\"M 403.363636 47.658437  L 423.363636 47.658437  \" style=\"fill:none;stroke:#1f77b4;stroke-linecap:square;stroke-width:1.5;\"/>\n",
       "    </g>\n",
       "    <g id=\"line2d_30\"/>\n",
       "    <g id=\"text_30\">\n",
       "     <!-- Training set -->\n",
       "     <g transform=\"translate(431.363636 51.158437)scale(0.1 -0.1)\">\n",
       "      <use xlink:href=\"#DejaVuSans-54\"/>\n",
       "      <use x=\"60.865234\" xlink:href=\"#DejaVuSans-72\"/>\n",
       "      <use x=\"101.978516\" xlink:href=\"#DejaVuSans-61\"/>\n",
       "      <use x=\"163.257812\" xlink:href=\"#DejaVuSans-69\"/>\n",
       "      <use x=\"191.041016\" xlink:href=\"#DejaVuSans-6e\"/>\n",
       "      <use x=\"254.419922\" xlink:href=\"#DejaVuSans-69\"/>\n",
       "      <use x=\"282.203125\" xlink:href=\"#DejaVuSans-6e\"/>\n",
       "      <use x=\"345.582031\" xlink:href=\"#DejaVuSans-67\"/>\n",
       "      <use x=\"409.058594\" xlink:href=\"#DejaVuSans-20\"/>\n",
       "      <use x=\"440.845703\" xlink:href=\"#DejaVuSans-73\"/>\n",
       "      <use x=\"492.945312\" xlink:href=\"#DejaVuSans-65\"/>\n",
       "      <use x=\"554.46875\" xlink:href=\"#DejaVuSans-74\"/>\n",
       "     </g>\n",
       "    </g>\n",
       "   </g>\n",
       "  </g>\n",
       " </g>\n",
       " <defs>\n",
       "  <clipPath id=\"p9d649b5d00\">\n",
       "   <rect height=\"217.44\" width=\"253.636364\" x=\"90\" y=\"34.56\"/>\n",
       "  </clipPath>\n",
       "  <clipPath id=\"p7f378b3364\">\n",
       "   <rect height=\"217.44\" width=\"253.636364\" x=\"394.363636\" y=\"34.56\"/>\n",
       "  </clipPath>\n",
       " </defs>\n",
       "</svg>"
      ],
      "text/plain": [
       "<IPython.core.display.SVG object>"
      ]
     },
     "metadata": {},
     "output_type": "display_data"
    },
    {
     "name": "stdout",
     "output_type": "stream",
     "text": [
      "========================================================================\n",
      "       |  Training |  Training \n",
      "Epochs |     Error |  Accuracy \n",
      "------ | --------- | --------- \n",
      "#  488 |   0.00629 |   1.00000 \n"
     ]
    }
   ],
   "source": [
    "net.reset()\n",
    "net.train(epochs=2000, accuracy=1.0, report_rate=25, plot=True)"
   ]
  },
  {
   "cell_type": "code",
   "execution_count": 11,
   "metadata": {},
   "outputs": [
    {
     "name": "stdout",
     "output_type": "stream",
     "text": [
      "========================================================\n",
      "Testing train dataset with tolerance 0.1000...\n",
      "Total count: 1\n",
      "      correct: 1\n",
      "      incorrect: 0\n",
      "Total percentage correct: 1.0\n"
     ]
    }
   ],
   "source": [
    "net.test()"
   ]
  },
  {
   "cell_type": "code",
   "execution_count": 12,
   "metadata": {},
   "outputs": [
    {
     "data": {
      "text/plain": [
       "[0.0, 1.0]"
      ]
     },
     "execution_count": 12,
     "metadata": {},
     "output_type": "execute_result"
    }
   ],
   "source": [
    "net.propagate_to(\"input\", [0, 1])"
   ]
  },
  {
   "cell_type": "code",
   "execution_count": 13,
   "metadata": {},
   "outputs": [
    {
     "data": {
      "text/plain": [
       "[0.2951253354549408]"
      ]
     },
     "execution_count": 13,
     "metadata": {},
     "output_type": "execute_result"
    }
   ],
   "source": [
    "net.propagate([0.5, 0.5])"
   ]
  },
  {
   "cell_type": "code",
   "execution_count": 14,
   "metadata": {},
   "outputs": [
    {
     "data": {
      "text/plain": [
       "[0.9793714284896851,\n",
       " 0.10674116760492325,\n",
       " 0.992639422416687,\n",
       " 0.05981138348579407]"
      ]
     },
     "execution_count": 14,
     "metadata": {},
     "output_type": "execute_result"
    }
   ],
   "source": [
    "net.propagate_to(\"hidden\", [1, 0])"
   ]
  },
  {
   "cell_type": "code",
   "execution_count": 15,
   "metadata": {},
   "outputs": [
    {
     "data": {
      "text/plain": [
       "[0.09964042901992798]"
      ]
     },
     "execution_count": 15,
     "metadata": {},
     "output_type": "execute_result"
    }
   ],
   "source": [
    "net.propagate_to(\"output\", [1, 1])"
   ]
  },
  {
   "cell_type": "code",
   "execution_count": 16,
   "metadata": {},
   "outputs": [
    {
     "data": {
      "text/plain": [
       "[0.25, 0.25]"
      ]
     },
     "execution_count": 16,
     "metadata": {},
     "output_type": "execute_result"
    }
   ],
   "source": [
    "net.propagate_to(\"input\", [0.25, 0.25])"
   ]
  },
  {
   "cell_type": "code",
   "execution_count": 17,
   "metadata": {},
   "outputs": [
    {
     "data": {
      "text/plain": [
       "[0.099640429]"
      ]
     },
     "execution_count": 17,
     "metadata": {},
     "output_type": "execute_result"
    }
   ],
   "source": [
    "net.propagate_from(\"input\", [1.0, 1.0])"
   ]
  },
  {
   "cell_type": "code",
   "execution_count": 18,
   "metadata": {},
   "outputs": [
    {
     "data": {
      "text/plain": [
       "[0.46807635]"
      ]
     },
     "execution_count": 18,
     "metadata": {},
     "output_type": "execute_result"
    }
   ],
   "source": [
    "net.propagate_from(\"hidden\", [1.0, 0.0, 1.0, -1.0])"
   ]
  },
  {
   "cell_type": "code",
   "execution_count": 19,
   "metadata": {},
   "outputs": [
    {
     "name": "stdout",
     "output_type": "stream",
     "text": [
      "========================================================\n",
      "Testing train dataset with tolerance 0.1000...\n",
      "Total count: 1\n",
      "      correct: 1\n",
      "      incorrect: 0\n",
      "Total percentage correct: 1.0\n"
     ]
    }
   ],
   "source": [
    "net.test()"
   ]
  },
  {
   "cell_type": "code",
   "execution_count": 20,
   "metadata": {},
   "outputs": [],
   "source": [
    "from conx import Network, Layer, SGD"
   ]
  },
  {
   "cell_type": "code",
   "execution_count": 21,
   "metadata": {},
   "outputs": [],
   "source": [
    "net = Network(\"XOR2 Network\")\n",
    "net.add(Layer(\"input1\", 1))\n",
    "net.add(Layer(\"input2\", 1))\n",
    "net.add(Layer(\"hidden1\", 10, activation=\"sigmoid\"))\n",
    "net.add(Layer(\"hidden2\", 10, activation=\"sigmoid\"))\n",
    "net.add(Layer(\"shared-hidden\", 5, activation=\"sigmoid\"))\n",
    "net.add(Layer(\"output1\", 1, activation=\"sigmoid\", minmax=(-1,1)))\n",
    "net.add(Layer(\"output2\", 1, activation=\"sigmoid\", minmax=(-1,1)))"
   ]
  },
  {
   "cell_type": "code",
   "execution_count": 22,
   "metadata": {},
   "outputs": [
    {
     "data": {
      "text/plain": [
       "<Network name='XOR2 Network' (uncompiled)>"
      ]
     },
     "execution_count": 22,
     "metadata": {},
     "output_type": "execute_result"
    }
   ],
   "source": [
    "net"
   ]
  },
  {
   "cell_type": "code",
   "execution_count": 23,
   "metadata": {},
   "outputs": [],
   "source": [
    "net.connect(\"input1\", \"hidden1\")\n",
    "net.connect(\"input2\", \"hidden2\")\n",
    "net.connect(\"hidden1\", \"shared-hidden\")\n",
    "net.connect(\"hidden2\", \"shared-hidden\")\n",
    "net.connect(\"shared-hidden\", \"output1\")\n",
    "net.connect(\"shared-hidden\", \"output2\")"
   ]
  },
  {
   "cell_type": "code",
   "execution_count": 24,
   "metadata": {},
   "outputs": [
    {
     "data": {
      "text/plain": [
       "[<Layer name='input1', shape=(1,), act='None'>]"
      ]
     },
     "execution_count": 24,
     "metadata": {},
     "output_type": "execute_result"
    }
   ],
   "source": [
    "net.layers[2].incoming_connections"
   ]
  },
  {
   "cell_type": "code",
   "execution_count": 25,
   "metadata": {},
   "outputs": [],
   "source": [
    "net.compile(loss='mean_squared_error',\n",
    "            optimizer=SGD(lr=0.3, momentum=0.9))"
   ]
  },
  {
   "cell_type": "code",
   "execution_count": 26,
   "metadata": {},
   "outputs": [
    {
     "data": {
      "application/vnd.jupyter.widget-view+json": {
       "model_id": "b5d6c8efe5bc40889ab0dcd21e76fecd",
       "version_major": 2,
       "version_minor": 0
      },
      "text/html": [
       "<p>Failed to display Jupyter Widget of type <code>Dashboard</code>.</p>\n",
       "<p>\n",
       "  If you're reading this message in the Jupyter Notebook or JupyterLab Notebook, it may mean\n",
       "  that the widgets JavaScript is still loading. If this message persists, it\n",
       "  likely means that the widgets JavaScript library is either not installed or\n",
       "  not enabled. See the <a href=\"https://ipywidgets.readthedocs.io/en/stable/user_install.html\">Jupyter\n",
       "  Widgets Documentation</a> for setup instructions.\n",
       "</p>\n",
       "<p>\n",
       "  If you're reading this message in another frontend (for example, a static\n",
       "  rendering on GitHub or <a href=\"https://nbviewer.jupyter.org/\">NBViewer</a>),\n",
       "  it may mean that your frontend doesn't currently support widgets.\n",
       "</p>\n"
      ],
      "text/plain": [
       "Dashboard(children=(Accordion(children=(HBox(children=(VBox(children=(Select(description='Dataset:', index=1, options=('Test', 'Train'), rows=1, value='Train'), FloatSlider(value=1.0, continuous_update=False, description='Zoom', max=3.0, min=0.5), IntText(value=200, description='Horizontal space between banks:', style=DescriptionStyle(description_width='initial')), IntText(value=30, description='Vertical space between layers:', style=DescriptionStyle(description_width='initial')), HBox(children=(Checkbox(value=False, description='Show Targets', style=DescriptionStyle(description_width='initial')), Checkbox(value=False, description='Errors', style=DescriptionStyle(description_width='initial')))), Select(description='Features:', options=('',), rows=1, value=''), IntText(value=3, description='Feature columns:', style=DescriptionStyle(description_width='initial')), FloatText(value=2.0, description='Feature scale:', style=DescriptionStyle(description_width='initial'))), layout=Layout(width='100%')), VBox(children=(Select(description='Layer:', index=6, options=('input1', 'input2', 'hidden1', 'hidden2', 'shared-hidden', 'output1', 'output2'), rows=1, value='output2'), Checkbox(value=True, description='Visible'), Select(description='Colormap:', options=('', 'Accent', 'Accent_r', 'Blues', 'Blues_r', 'BrBG', 'BrBG_r', 'BuGn', 'BuGn_r', 'BuPu', 'BuPu_r', 'CMRmap', 'CMRmap_r', 'Dark2', 'Dark2_r', 'GnBu', 'GnBu_r', 'Greens', 'Greens_r', 'Greys', 'Greys_r', 'OrRd', 'OrRd_r', 'Oranges', 'Oranges_r', 'PRGn', 'PRGn_r', 'Paired', 'Paired_r', 'Pastel1', 'Pastel1_r', 'Pastel2', 'Pastel2_r', 'PiYG', 'PiYG_r', 'PuBu', 'PuBuGn', 'PuBuGn_r', 'PuBu_r', 'PuOr', 'PuOr_r', 'PuRd', 'PuRd_r', 'Purples', 'Purples_r', 'RdBu', 'RdBu_r', 'RdGy', 'RdGy_r', 'RdPu', 'RdPu_r', 'RdYlBu', 'RdYlBu_r', 'RdYlGn', 'RdYlGn_r', 'Reds', 'Reds_r', 'Set1', 'Set1_r', 'Set2', 'Set2_r', 'Set3', 'Set3_r', 'Spectral', 'Spectral_r', 'Vega10', 'Vega10_r', 'Vega20', 'Vega20_r', 'Vega20b', 'Vega20b_r', 'Vega20c', 'Vega20c_r', 'Wistia', 'Wistia_r', 'YlGn', 'YlGnBu', 'YlGnBu_r', 'YlGn_r', 'YlOrBr', 'YlOrBr_r', 'YlOrRd', 'YlOrRd_r', 'afmhot', 'afmhot_r', 'autumn', 'autumn_r', 'binary', 'binary_r', 'bone', 'bone_r', 'brg', 'brg_r', 'bwr', 'bwr_r', 'cool', 'cool_r', 'coolwarm', 'coolwarm_r', 'copper', 'copper_r', 'cubehelix', 'cubehelix_r', 'flag', 'flag_r', 'gist_earth', 'gist_earth_r', 'gist_gray', 'gist_gray_r', 'gist_heat', 'gist_heat_r', 'gist_ncar', 'gist_ncar_r', 'gist_rainbow', 'gist_rainbow_r', 'gist_stern', 'gist_stern_r', 'gist_yarg', 'gist_yarg_r', 'gnuplot', 'gnuplot2', 'gnuplot2_r', 'gnuplot_r', 'gray', 'gray_r', 'hot', 'hot_r', 'hsv', 'hsv_r', 'inferno', 'inferno_r', 'jet', 'jet_r', 'magma', 'magma_r', 'nipy_spectral', 'nipy_spectral_r', 'ocean', 'ocean_r', 'pink', 'pink_r', 'plasma', 'plasma_r', 'prism', 'prism_r', 'rainbow', 'rainbow_r', 'seismic', 'seismic_r', 'spectral', 'spectral_r', 'spring', 'spring_r', 'summer', 'summer_r', 'tab10', 'tab10_r', 'tab20', 'tab20_r', 'tab20b', 'tab20b_r', 'tab20c', 'tab20c_r', 'terrain', 'terrain_r', 'viridis', 'viridis_r', 'winter', 'winter_r'), rows=1, value=''), HTML(value='<img src=\"data:image/gif;base64,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\"/>'), FloatText(value=-1.0, description='Leftmost color maps to:', style=DescriptionStyle(description_width='initial')), FloatText(value=1.0, description='Rightmost color maps to:', style=DescriptionStyle(description_width='initial')), IntText(value=0, description='Feature to show:', style=DescriptionStyle(description_width='initial'))), layout=Layout(width='100%')))),), selected_index=None, _titles={'0': 'XOR2 Network'}), VBox(children=(HBox(children=(IntSlider(value=0, continuous_update=False, description='Dataset index', layout=Layout(width='100%'), max=0), Label(value='of 0', layout=Layout(width='100px'))), layout=Layout(height='40px')), HBox(children=(Button(icon='fast-backward', layout=Layout(width='100%'), style=ButtonStyle()), Button(icon='backward', layout=Layout(width='100%'), style=ButtonStyle()), IntText(value=0, layout=Layout(width='100%')), Button(icon='forward', layout=Layout(width='100%'), style=ButtonStyle()), Button(icon='fast-forward', layout=Layout(width='100%'), style=ButtonStyle()), Button(description='Play', icon='play', layout=Layout(width='100%'), style=ButtonStyle()), Button(icon='refresh', layout=Layout(width='25%'), style=ButtonStyle())), layout=Layout(height='50px', width='100%'))), layout=Layout(width='100%')), HTML(value='<p style=\"text-align:center\"></p>', layout=Layout(justify_content='center', overflow_x='auto', overflow_y='auto', width='95%')), Output()))"
      ]
     },
     "metadata": {},
     "output_type": "display_data"
    },
    {
     "data": {
      "application/javascript": [
       "\n",
       "require(['base/js/namespace'], function(Jupyter) {\n",
       "    Jupyter.notebook.kernel.comm_manager.register_target('conx_svg_control', function(comm, msg) {\n",
       "        comm.on_msg(function(msg) {\n",
       "            var data = msg[\"content\"][\"data\"];\n",
       "            var images = document.getElementsByClassName(data[\"class\"]);\n",
       "            for (var i = 0; i < images.length; i++) {\n",
       "                if (data[\"href\"]) {\n",
       "                    images[i].setAttributeNS(null, \"href\", data[\"href\"]);\n",
       "                }\n",
       "                if (data[\"src\"]) {\n",
       "                    images[i].setAttributeNS(null, \"src\", data[\"src\"]);\n",
       "                }\n",
       "            }\n",
       "        });\n",
       "    });\n",
       "});\n"
      ],
      "text/plain": [
       "<IPython.core.display.Javascript object>"
      ]
     },
     "metadata": {},
     "output_type": "display_data"
    }
   ],
   "source": [
    "net.config[\"hspace\"] = 200\n",
    "widget = net.dashboard()\n",
    "widget"
   ]
  },
  {
   "cell_type": "code",
   "execution_count": 27,
   "metadata": {},
   "outputs": [
    {
     "ename": "Exception",
     "evalue": "layer 'hidden1' has no features",
     "output_type": "error",
     "traceback": [
      "\u001b[0;31m---------------------------------------------------------------------------\u001b[0m",
      "\u001b[0;31mException\u001b[0m                                 Traceback (most recent call last)",
      "\u001b[0;32m<ipython-input-27-9d4a5c378635>\u001b[0m in \u001b[0;36m<module>\u001b[0;34m()\u001b[0m\n\u001b[0;32m----> 1\u001b[0;31m \u001b[0mnet\u001b[0m\u001b[0;34m.\u001b[0m\u001b[0mpropagate_to_features\u001b[0m\u001b[0;34m(\u001b[0m\u001b[0;34m\"hidden1\"\u001b[0m\u001b[0;34m,\u001b[0m \u001b[0;34m[\u001b[0m\u001b[0;34m[\u001b[0m\u001b[0;34m[\u001b[0m\u001b[0;36m1\u001b[0m\u001b[0;34m]\u001b[0m\u001b[0;34m,\u001b[0m \u001b[0;34m[\u001b[0m\u001b[0;36m1\u001b[0m\u001b[0;34m]\u001b[0m\u001b[0;34m]\u001b[0m\u001b[0;34m]\u001b[0m\u001b[0;34m)\u001b[0m\u001b[0;34m\u001b[0m\u001b[0m\n\u001b[0m",
      "\u001b[0;32m/usr/local/lib/python3.6/dist-packages/conx/network.py\u001b[0m in \u001b[0;36mpropagate_to_features\u001b[0;34m(self, layer_name, inputs, cols, scale, html, size, display)\u001b[0m\n\u001b[1;32m   1185\u001b[0m                 \u001b[0mself\u001b[0m\u001b[0;34m[\u001b[0m\u001b[0mlayer_name\u001b[0m\u001b[0;34m]\u001b[0m\u001b[0;34m.\u001b[0m\u001b[0mfeature\u001b[0m \u001b[0;34m=\u001b[0m \u001b[0morig_feature\u001b[0m\u001b[0;34m\u001b[0m\u001b[0m\n\u001b[1;32m   1186\u001b[0m         \u001b[0;32melse\u001b[0m\u001b[0;34m:\u001b[0m\u001b[0;34m\u001b[0m\u001b[0m\n\u001b[0;32m-> 1187\u001b[0;31m             \u001b[0;32mraise\u001b[0m \u001b[0mException\u001b[0m\u001b[0;34m(\u001b[0m\u001b[0;34m\"layer '%s' has no features\"\u001b[0m \u001b[0;34m%\u001b[0m \u001b[0mlayer_name\u001b[0m\u001b[0;34m)\u001b[0m\u001b[0;34m\u001b[0m\u001b[0m\n\u001b[0m\u001b[1;32m   1188\u001b[0m \u001b[0;34m\u001b[0m\u001b[0m\n\u001b[1;32m   1189\u001b[0m     \u001b[0;32mdef\u001b[0m \u001b[0mpropagate_to_image\u001b[0m\u001b[0;34m(\u001b[0m\u001b[0mself\u001b[0m\u001b[0;34m,\u001b[0m \u001b[0mlayer_name\u001b[0m\u001b[0;34m,\u001b[0m \u001b[0minput\u001b[0m\u001b[0;34m,\u001b[0m \u001b[0mbatch_size\u001b[0m\u001b[0;34m=\u001b[0m\u001b[0;36m32\u001b[0m\u001b[0;34m,\u001b[0m \u001b[0mscale\u001b[0m\u001b[0;34m=\u001b[0m\u001b[0;36m1.0\u001b[0m\u001b[0;34m,\u001b[0m \u001b[0mvisualize\u001b[0m\u001b[0;34m=\u001b[0m\u001b[0;32mNone\u001b[0m\u001b[0;34m)\u001b[0m\u001b[0;34m:\u001b[0m\u001b[0;34m\u001b[0m\u001b[0m\n",
      "\u001b[0;31mException\u001b[0m: layer 'hidden1' has no features"
     ]
    }
   ],
   "source": [
    "net.propagate_to_features(\"hidden1\", [[[1], [1]]])"
   ]
  },
  {
   "cell_type": "code",
   "execution_count": 28,
   "metadata": {},
   "outputs": [
    {
     "data": {
      "text/plain": [
       "[[0.709621012210846], [0.38572362065315247]]"
      ]
     },
     "execution_count": 28,
     "metadata": {},
     "output_type": "execute_result"
    }
   ],
   "source": [
    "net.propagate([[1], [1]])"
   ]
  },
  {
   "cell_type": "code",
   "execution_count": 29,
   "metadata": {},
   "outputs": [],
   "source": [
    "dataset = [\n",
    "    ([[0],[0]], [[0],[0]]),\n",
    "    ([[0],[1]], [[1],[1]]),\n",
    "    ([[1],[0]], [[1],[1]]),\n",
    "    ([[1],[1]], [[0],[0]])\n",
    "]"
   ]
  },
  {
   "cell_type": "code",
   "execution_count": 30,
   "metadata": {},
   "outputs": [],
   "source": [
    "net.dataset.load(dataset)"
   ]
  },
  {
   "cell_type": "code",
   "execution_count": 31,
   "metadata": {},
   "outputs": [
    {
     "data": {
      "text/plain": [
       "[[[-0.38621872663497925,\n",
       "   0.016128217801451683,\n",
       "   0.1350439339876175,\n",
       "   0.7314419150352478,\n",
       "   -0.4823369085788727,\n",
       "   0.3670632839202881,\n",
       "   -0.5892837047576904,\n",
       "   -0.1621503233909607,\n",
       "   -0.5103069543838501,\n",
       "   -0.005609765183180571]],\n",
       " [0.0, 0.0, 0.0, 0.0, 0.0, 0.0, 0.0, 0.0, 0.0, 0.0]]"
      ]
     },
     "execution_count": 31,
     "metadata": {},
     "output_type": "execute_result"
    }
   ],
   "source": [
    "net.get_weights(\"hidden2\")"
   ]
  },
  {
   "cell_type": "code",
   "execution_count": 32,
   "metadata": {},
   "outputs": [
    {
     "data": {
      "text/plain": [
       "[[0.709621012210846], [0.38572362065315247]]"
      ]
     },
     "execution_count": 32,
     "metadata": {},
     "output_type": "execute_result"
    }
   ],
   "source": [
    "net.propagate([[1], [1]])"
   ]
  },
  {
   "cell_type": "code",
   "execution_count": 33,
   "metadata": {},
   "outputs": [
    {
     "data": {
      "application/vnd.jupyter.widget-view+json": {
       "model_id": "82f0e88100f94f8daf158ece8228df5c",
       "version_major": 2,
       "version_minor": 0
      },
      "text/html": [
       "<p>Failed to display Jupyter Widget of type <code>Dashboard</code>.</p>\n",
       "<p>\n",
       "  If you're reading this message in the Jupyter Notebook or JupyterLab Notebook, it may mean\n",
       "  that the widgets JavaScript is still loading. If this message persists, it\n",
       "  likely means that the widgets JavaScript library is either not installed or\n",
       "  not enabled. See the <a href=\"https://ipywidgets.readthedocs.io/en/stable/user_install.html\">Jupyter\n",
       "  Widgets Documentation</a> for setup instructions.\n",
       "</p>\n",
       "<p>\n",
       "  If you're reading this message in another frontend (for example, a static\n",
       "  rendering on GitHub or <a href=\"https://nbviewer.jupyter.org/\">NBViewer</a>),\n",
       "  it may mean that your frontend doesn't currently support widgets.\n",
       "</p>\n"
      ],
      "text/plain": [
       "Dashboard(children=(Accordion(children=(HBox(children=(VBox(children=(Select(description='Dataset:', index=1, options=('Test', 'Train'), rows=1, value='Train'), FloatSlider(value=1.0, continuous_update=False, description='Zoom', max=3.0, min=0.5), IntText(value=200, description='Horizontal space between banks:', style=DescriptionStyle(description_width='initial')), IntText(value=30, description='Vertical space between layers:', style=DescriptionStyle(description_width='initial')), HBox(children=(Checkbox(value=False, description='Show Targets', style=DescriptionStyle(description_width='initial')), Checkbox(value=False, description='Errors', style=DescriptionStyle(description_width='initial')))), Select(description='Features:', options=('',), rows=1, value=''), IntText(value=3, description='Feature columns:', style=DescriptionStyle(description_width='initial')), FloatText(value=2.0, description='Feature scale:', style=DescriptionStyle(description_width='initial'))), layout=Layout(width='100%')), VBox(children=(Select(description='Layer:', index=6, options=('input1', 'input2', 'hidden1', 'hidden2', 'shared-hidden', 'output1', 'output2'), rows=1, value='output2'), Checkbox(value=True, description='Visible'), Select(description='Colormap:', options=('', 'Accent', 'Accent_r', 'Blues', 'Blues_r', 'BrBG', 'BrBG_r', 'BuGn', 'BuGn_r', 'BuPu', 'BuPu_r', 'CMRmap', 'CMRmap_r', 'Dark2', 'Dark2_r', 'GnBu', 'GnBu_r', 'Greens', 'Greens_r', 'Greys', 'Greys_r', 'OrRd', 'OrRd_r', 'Oranges', 'Oranges_r', 'PRGn', 'PRGn_r', 'Paired', 'Paired_r', 'Pastel1', 'Pastel1_r', 'Pastel2', 'Pastel2_r', 'PiYG', 'PiYG_r', 'PuBu', 'PuBuGn', 'PuBuGn_r', 'PuBu_r', 'PuOr', 'PuOr_r', 'PuRd', 'PuRd_r', 'Purples', 'Purples_r', 'RdBu', 'RdBu_r', 'RdGy', 'RdGy_r', 'RdPu', 'RdPu_r', 'RdYlBu', 'RdYlBu_r', 'RdYlGn', 'RdYlGn_r', 'Reds', 'Reds_r', 'Set1', 'Set1_r', 'Set2', 'Set2_r', 'Set3', 'Set3_r', 'Spectral', 'Spectral_r', 'Vega10', 'Vega10_r', 'Vega20', 'Vega20_r', 'Vega20b', 'Vega20b_r', 'Vega20c', 'Vega20c_r', 'Wistia', 'Wistia_r', 'YlGn', 'YlGnBu', 'YlGnBu_r', 'YlGn_r', 'YlOrBr', 'YlOrBr_r', 'YlOrRd', 'YlOrRd_r', 'afmhot', 'afmhot_r', 'autumn', 'autumn_r', 'binary', 'binary_r', 'bone', 'bone_r', 'brg', 'brg_r', 'bwr', 'bwr_r', 'cool', 'cool_r', 'coolwarm', 'coolwarm_r', 'copper', 'copper_r', 'cubehelix', 'cubehelix_r', 'flag', 'flag_r', 'gist_earth', 'gist_earth_r', 'gist_gray', 'gist_gray_r', 'gist_heat', 'gist_heat_r', 'gist_ncar', 'gist_ncar_r', 'gist_rainbow', 'gist_rainbow_r', 'gist_stern', 'gist_stern_r', 'gist_yarg', 'gist_yarg_r', 'gnuplot', 'gnuplot2', 'gnuplot2_r', 'gnuplot_r', 'gray', 'gray_r', 'hot', 'hot_r', 'hsv', 'hsv_r', 'inferno', 'inferno_r', 'jet', 'jet_r', 'magma', 'magma_r', 'nipy_spectral', 'nipy_spectral_r', 'ocean', 'ocean_r', 'pink', 'pink_r', 'plasma', 'plasma_r', 'prism', 'prism_r', 'rainbow', 'rainbow_r', 'seismic', 'seismic_r', 'spectral', 'spectral_r', 'spring', 'spring_r', 'summer', 'summer_r', 'tab10', 'tab10_r', 'tab20', 'tab20_r', 'tab20b', 'tab20b_r', 'tab20c', 'tab20c_r', 'terrain', 'terrain_r', 'viridis', 'viridis_r', 'winter', 'winter_r'), rows=1, value=''), HTML(value='<img src=\"data:image/gif;base64,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\"/>'), FloatText(value=-1.0, description='Leftmost color maps to:', style=DescriptionStyle(description_width='initial')), FloatText(value=1.0, description='Rightmost color maps to:', style=DescriptionStyle(description_width='initial')), IntText(value=0, description='Feature to show:', style=DescriptionStyle(description_width='initial'))), layout=Layout(width='100%')))),), selected_index=None, _titles={'0': 'XOR2 Network'}), VBox(children=(HBox(children=(IntSlider(value=0, continuous_update=False, description='Dataset index', layout=Layout(width='100%'), max=3), Label(value='of 0', layout=Layout(width='100px'))), layout=Layout(height='40px')), HBox(children=(Button(icon='fast-backward', layout=Layout(width='100%'), style=ButtonStyle()), Button(icon='backward', layout=Layout(width='100%'), style=ButtonStyle()), IntText(value=0, layout=Layout(width='100%')), Button(icon='forward', layout=Layout(width='100%'), style=ButtonStyle()), Button(icon='fast-forward', layout=Layout(width='100%'), style=ButtonStyle()), Button(description='Play', icon='play', layout=Layout(width='100%'), style=ButtonStyle()), Button(icon='refresh', layout=Layout(width='25%'), style=ButtonStyle())), layout=Layout(height='50px', width='100%'))), layout=Layout(width='100%')), HTML(value='<p style=\"text-align:center\"></p>', layout=Layout(justify_content='center', overflow_x='auto', overflow_y='auto', width='95%')), Output()))"
      ]
     },
     "metadata": {},
     "output_type": "display_data"
    },
    {
     "data": {
      "application/javascript": [
       "\n",
       "require(['base/js/namespace'], function(Jupyter) {\n",
       "    Jupyter.notebook.kernel.comm_manager.register_target('conx_svg_control', function(comm, msg) {\n",
       "        comm.on_msg(function(msg) {\n",
       "            var data = msg[\"content\"][\"data\"];\n",
       "            var images = document.getElementsByClassName(data[\"class\"]);\n",
       "            for (var i = 0; i < images.length; i++) {\n",
       "                if (data[\"href\"]) {\n",
       "                    images[i].setAttributeNS(null, \"href\", data[\"href\"]);\n",
       "                }\n",
       "                if (data[\"src\"]) {\n",
       "                    images[i].setAttributeNS(null, \"src\", data[\"src\"]);\n",
       "                }\n",
       "            }\n",
       "        });\n",
       "    });\n",
       "});\n"
      ],
      "text/plain": [
       "<IPython.core.display.Javascript object>"
      ]
     },
     "metadata": {},
     "output_type": "display_data"
    }
   ],
   "source": [
    "widget = net.dashboard()\n",
    "widget"
   ]
  },
  {
   "cell_type": "code",
   "execution_count": 34,
   "metadata": {},
   "outputs": [
    {
     "data": {
      "image/svg+xml": [
       "<svg height=\"288pt\" version=\"1.1\" viewBox=\"0 0 432 288\" width=\"432pt\" xmlns=\"http://www.w3.org/2000/svg\" xmlns:xlink=\"http://www.w3.org/1999/xlink\">\n",
       " <defs>\n",
       "  <style type=\"text/css\">\n",
       "*{stroke-linecap:butt;stroke-linejoin:round;}\n",
       "  </style>\n",
       " </defs>\n",
       " <g id=\"figure_1\">\n",
       "  <g id=\"patch_1\">\n",
       "   <path d=\"M 0 288  L 432 288  L 432 0  L 0 0  z \" style=\"fill:#ffffff;\"/>\n",
       "  </g>\n",
       "  <g id=\"axes_1\">\n",
       "   <g id=\"patch_2\">\n",
       "    <path d=\"M 54 252  L 388.8 252  L 388.8 34.56  L 54 34.56  z \" style=\"fill:#ffffff;\"/>\n",
       "   </g>\n",
       "   <g id=\"matplotlib.axis_1\">\n",
       "    <g id=\"xtick_1\">\n",
       "     <g id=\"line2d_1\">\n",
       "      <defs>\n",
       "       <path d=\"M 0 0  L 0 3.5  \" id=\"m5078f55d93\" style=\"stroke:#000000;stroke-width:0.8;\"/>\n",
       "      </defs>\n",
       "      <g>\n",
       "       <use style=\"stroke:#000000;stroke-width:0.8;\" x=\"69.218182\" xlink:href=\"#m5078f55d93\" y=\"252\"/>\n",
       "      </g>\n",
       "     </g>\n",
       "     <g id=\"text_1\">\n",
       "      <!-- 0 -->\n",
       "      <defs>\n",
       "       <path d=\"M 31.78125 66.40625  Q 24.171875 66.40625 20.328125 58.90625  Q 16.5 51.421875 16.5 36.375  Q 16.5 21.390625 20.328125 13.890625  Q 24.171875 6.390625 31.78125 6.390625  Q 39.453125 6.390625 43.28125 13.890625  Q 47.125 21.390625 47.125 36.375  Q 47.125 51.421875 43.28125 58.90625  Q 39.453125 66.40625 31.78125 66.40625  z M 31.78125 74.21875  Q 44.046875 74.21875 50.515625 64.515625  Q 56.984375 54.828125 56.984375 36.375  Q 56.984375 17.96875 50.515625 8.265625  Q 44.046875 -1.421875 31.78125 -1.421875  Q 19.53125 -1.421875 13.0625 8.265625  Q 6.59375 17.96875 6.59375 36.375  Q 6.59375 54.828125 13.0625 64.515625  Q 19.53125 74.21875 31.78125 74.21875  z \" id=\"DejaVuSans-30\"/>\n",
       "      </defs>\n",
       "      <g transform=\"translate(66.036932 266.598437)scale(0.1 -0.1)\">\n",
       "       <use xlink:href=\"#DejaVuSans-30\"/>\n",
       "      </g>\n",
       "     </g>\n",
       "    </g>\n",
       "    <g id=\"xtick_2\">\n",
       "     <g id=\"line2d_2\">\n",
       "      <g>\n",
       "       <use style=\"stroke:#000000;stroke-width:0.8;\" x=\"107.263636\" xlink:href=\"#m5078f55d93\" y=\"252\"/>\n",
       "      </g>\n",
       "     </g>\n",
       "     <g id=\"text_2\">\n",
       "      <!-- 250 -->\n",
       "      <defs>\n",
       "       <path d=\"M 19.1875 8.296875  L 53.609375 8.296875  L 53.609375 0  L 7.328125 0  L 7.328125 8.296875  Q 12.9375 14.109375 22.625 23.890625  Q 32.328125 33.6875 34.8125 36.53125  Q 39.546875 41.84375 41.421875 45.53125  Q 43.3125 49.21875 43.3125 52.78125  Q 43.3125 58.59375 39.234375 62.25  Q 35.15625 65.921875 28.609375 65.921875  Q 23.96875 65.921875 18.8125 64.3125  Q 13.671875 62.703125 7.8125 59.421875  L 7.8125 69.390625  Q 13.765625 71.78125 18.9375 73  Q 24.125 74.21875 28.421875 74.21875  Q 39.75 74.21875 46.484375 68.546875  Q 53.21875 62.890625 53.21875 53.421875  Q 53.21875 48.921875 51.53125 44.890625  Q 49.859375 40.875 45.40625 35.40625  Q 44.1875 33.984375 37.640625 27.21875  Q 31.109375 20.453125 19.1875 8.296875  z \" id=\"DejaVuSans-32\"/>\n",
       "       <path d=\"M 10.796875 72.90625  L 49.515625 72.90625  L 49.515625 64.59375  L 19.828125 64.59375  L 19.828125 46.734375  Q 21.96875 47.46875 24.109375 47.828125  Q 26.265625 48.1875 28.421875 48.1875  Q 40.625 48.1875 47.75 41.5  Q 54.890625 34.8125 54.890625 23.390625  Q 54.890625 11.625 47.5625 5.09375  Q 40.234375 -1.421875 26.90625 -1.421875  Q 22.3125 -1.421875 17.546875 -0.640625  Q 12.796875 0.140625 7.71875 1.703125  L 7.71875 11.625  Q 12.109375 9.234375 16.796875 8.0625  Q 21.484375 6.890625 26.703125 6.890625  Q 35.15625 6.890625 40.078125 11.328125  Q 45.015625 15.765625 45.015625 23.390625  Q 45.015625 31 40.078125 35.4375  Q 35.15625 39.890625 26.703125 39.890625  Q 22.75 39.890625 18.8125 39.015625  Q 14.890625 38.140625 10.796875 36.28125  z \" id=\"DejaVuSans-35\"/>\n",
       "      </defs>\n",
       "      <g transform=\"translate(97.719886 266.598437)scale(0.1 -0.1)\">\n",
       "       <use xlink:href=\"#DejaVuSans-32\"/>\n",
       "       <use x=\"63.623047\" xlink:href=\"#DejaVuSans-35\"/>\n",
       "       <use x=\"127.246094\" xlink:href=\"#DejaVuSans-30\"/>\n",
       "      </g>\n",
       "     </g>\n",
       "    </g>\n",
       "    <g id=\"xtick_3\">\n",
       "     <g id=\"line2d_3\">\n",
       "      <g>\n",
       "       <use style=\"stroke:#000000;stroke-width:0.8;\" x=\"145.309091\" xlink:href=\"#m5078f55d93\" y=\"252\"/>\n",
       "      </g>\n",
       "     </g>\n",
       "     <g id=\"text_3\">\n",
       "      <!-- 500 -->\n",
       "      <g transform=\"translate(135.765341 266.598437)scale(0.1 -0.1)\">\n",
       "       <use xlink:href=\"#DejaVuSans-35\"/>\n",
       "       <use x=\"63.623047\" xlink:href=\"#DejaVuSans-30\"/>\n",
       "       <use x=\"127.246094\" xlink:href=\"#DejaVuSans-30\"/>\n",
       "      </g>\n",
       "     </g>\n",
       "    </g>\n",
       "    <g id=\"xtick_4\">\n",
       "     <g id=\"line2d_4\">\n",
       "      <g>\n",
       "       <use style=\"stroke:#000000;stroke-width:0.8;\" x=\"183.354545\" xlink:href=\"#m5078f55d93\" y=\"252\"/>\n",
       "      </g>\n",
       "     </g>\n",
       "     <g id=\"text_4\">\n",
       "      <!-- 750 -->\n",
       "      <defs>\n",
       "       <path d=\"M 8.203125 72.90625  L 55.078125 72.90625  L 55.078125 68.703125  L 28.609375 0  L 18.3125 0  L 43.21875 64.59375  L 8.203125 64.59375  z \" id=\"DejaVuSans-37\"/>\n",
       "      </defs>\n",
       "      <g transform=\"translate(173.810795 266.598437)scale(0.1 -0.1)\">\n",
       "       <use xlink:href=\"#DejaVuSans-37\"/>\n",
       "       <use x=\"63.623047\" xlink:href=\"#DejaVuSans-35\"/>\n",
       "       <use x=\"127.246094\" xlink:href=\"#DejaVuSans-30\"/>\n",
       "      </g>\n",
       "     </g>\n",
       "    </g>\n",
       "    <g id=\"xtick_5\">\n",
       "     <g id=\"line2d_5\">\n",
       "      <g>\n",
       "       <use style=\"stroke:#000000;stroke-width:0.8;\" x=\"221.4\" xlink:href=\"#m5078f55d93\" y=\"252\"/>\n",
       "      </g>\n",
       "     </g>\n",
       "     <g id=\"text_5\">\n",
       "      <!-- 1000 -->\n",
       "      <defs>\n",
       "       <path d=\"M 12.40625 8.296875  L 28.515625 8.296875  L 28.515625 63.921875  L 10.984375 60.40625  L 10.984375 69.390625  L 28.421875 72.90625  L 38.28125 72.90625  L 38.28125 8.296875  L 54.390625 8.296875  L 54.390625 0  L 12.40625 0  z \" id=\"DejaVuSans-31\"/>\n",
       "      </defs>\n",
       "      <g transform=\"translate(208.675 266.598437)scale(0.1 -0.1)\">\n",
       "       <use xlink:href=\"#DejaVuSans-31\"/>\n",
       "       <use x=\"63.623047\" xlink:href=\"#DejaVuSans-30\"/>\n",
       "       <use x=\"127.246094\" xlink:href=\"#DejaVuSans-30\"/>\n",
       "       <use x=\"190.869141\" xlink:href=\"#DejaVuSans-30\"/>\n",
       "      </g>\n",
       "     </g>\n",
       "    </g>\n",
       "    <g id=\"xtick_6\">\n",
       "     <g id=\"line2d_6\">\n",
       "      <g>\n",
       "       <use style=\"stroke:#000000;stroke-width:0.8;\" x=\"259.445455\" xlink:href=\"#m5078f55d93\" y=\"252\"/>\n",
       "      </g>\n",
       "     </g>\n",
       "     <g id=\"text_6\">\n",
       "      <!-- 1250 -->\n",
       "      <g transform=\"translate(246.720455 266.598437)scale(0.1 -0.1)\">\n",
       "       <use xlink:href=\"#DejaVuSans-31\"/>\n",
       "       <use x=\"63.623047\" xlink:href=\"#DejaVuSans-32\"/>\n",
       "       <use x=\"127.246094\" xlink:href=\"#DejaVuSans-35\"/>\n",
       "       <use x=\"190.869141\" xlink:href=\"#DejaVuSans-30\"/>\n",
       "      </g>\n",
       "     </g>\n",
       "    </g>\n",
       "    <g id=\"xtick_7\">\n",
       "     <g id=\"line2d_7\">\n",
       "      <g>\n",
       "       <use style=\"stroke:#000000;stroke-width:0.8;\" x=\"297.490909\" xlink:href=\"#m5078f55d93\" y=\"252\"/>\n",
       "      </g>\n",
       "     </g>\n",
       "     <g id=\"text_7\">\n",
       "      <!-- 1500 -->\n",
       "      <g transform=\"translate(284.765909 266.598437)scale(0.1 -0.1)\">\n",
       "       <use xlink:href=\"#DejaVuSans-31\"/>\n",
       "       <use x=\"63.623047\" xlink:href=\"#DejaVuSans-35\"/>\n",
       "       <use x=\"127.246094\" xlink:href=\"#DejaVuSans-30\"/>\n",
       "       <use x=\"190.869141\" xlink:href=\"#DejaVuSans-30\"/>\n",
       "      </g>\n",
       "     </g>\n",
       "    </g>\n",
       "    <g id=\"xtick_8\">\n",
       "     <g id=\"line2d_8\">\n",
       "      <g>\n",
       "       <use style=\"stroke:#000000;stroke-width:0.8;\" x=\"335.536364\" xlink:href=\"#m5078f55d93\" y=\"252\"/>\n",
       "      </g>\n",
       "     </g>\n",
       "     <g id=\"text_8\">\n",
       "      <!-- 1750 -->\n",
       "      <g transform=\"translate(322.811364 266.598437)scale(0.1 -0.1)\">\n",
       "       <use xlink:href=\"#DejaVuSans-31\"/>\n",
       "       <use x=\"63.623047\" xlink:href=\"#DejaVuSans-37\"/>\n",
       "       <use x=\"127.246094\" xlink:href=\"#DejaVuSans-35\"/>\n",
       "       <use x=\"190.869141\" xlink:href=\"#DejaVuSans-30\"/>\n",
       "      </g>\n",
       "     </g>\n",
       "    </g>\n",
       "    <g id=\"xtick_9\">\n",
       "     <g id=\"line2d_9\">\n",
       "      <g>\n",
       "       <use style=\"stroke:#000000;stroke-width:0.8;\" x=\"373.581818\" xlink:href=\"#m5078f55d93\" y=\"252\"/>\n",
       "      </g>\n",
       "     </g>\n",
       "     <g id=\"text_9\">\n",
       "      <!-- 2000 -->\n",
       "      <g transform=\"translate(360.856818 266.598437)scale(0.1 -0.1)\">\n",
       "       <use xlink:href=\"#DejaVuSans-32\"/>\n",
       "       <use x=\"63.623047\" xlink:href=\"#DejaVuSans-30\"/>\n",
       "       <use x=\"127.246094\" xlink:href=\"#DejaVuSans-30\"/>\n",
       "       <use x=\"190.869141\" xlink:href=\"#DejaVuSans-30\"/>\n",
       "      </g>\n",
       "     </g>\n",
       "    </g>\n",
       "    <g id=\"text_10\">\n",
       "     <!-- Epoch -->\n",
       "     <defs>\n",
       "      <path d=\"M 9.8125 72.90625  L 55.90625 72.90625  L 55.90625 64.59375  L 19.671875 64.59375  L 19.671875 43.015625  L 54.390625 43.015625  L 54.390625 34.71875  L 19.671875 34.71875  L 19.671875 8.296875  L 56.78125 8.296875  L 56.78125 0  L 9.8125 0  z \" id=\"DejaVuSans-45\"/>\n",
       "      <path d=\"M 18.109375 8.203125  L 18.109375 -20.796875  L 9.078125 -20.796875  L 9.078125 54.6875  L 18.109375 54.6875  L 18.109375 46.390625  Q 20.953125 51.265625 25.265625 53.625  Q 29.59375 56 35.59375 56  Q 45.5625 56 51.78125 48.09375  Q 58.015625 40.1875 58.015625 27.296875  Q 58.015625 14.40625 51.78125 6.484375  Q 45.5625 -1.421875 35.59375 -1.421875  Q 29.59375 -1.421875 25.265625 0.953125  Q 20.953125 3.328125 18.109375 8.203125  z M 48.6875 27.296875  Q 48.6875 37.203125 44.609375 42.84375  Q 40.53125 48.484375 33.40625 48.484375  Q 26.265625 48.484375 22.1875 42.84375  Q 18.109375 37.203125 18.109375 27.296875  Q 18.109375 17.390625 22.1875 11.75  Q 26.265625 6.109375 33.40625 6.109375  Q 40.53125 6.109375 44.609375 11.75  Q 48.6875 17.390625 48.6875 27.296875  z \" id=\"DejaVuSans-70\"/>\n",
       "      <path d=\"M 30.609375 48.390625  Q 23.390625 48.390625 19.1875 42.75  Q 14.984375 37.109375 14.984375 27.296875  Q 14.984375 17.484375 19.15625 11.84375  Q 23.34375 6.203125 30.609375 6.203125  Q 37.796875 6.203125 41.984375 11.859375  Q 46.1875 17.53125 46.1875 27.296875  Q 46.1875 37.015625 41.984375 42.703125  Q 37.796875 48.390625 30.609375 48.390625  z M 30.609375 56  Q 42.328125 56 49.015625 48.375  Q 55.71875 40.765625 55.71875 27.296875  Q 55.71875 13.875 49.015625 6.21875  Q 42.328125 -1.421875 30.609375 -1.421875  Q 18.84375 -1.421875 12.171875 6.21875  Q 5.515625 13.875 5.515625 27.296875  Q 5.515625 40.765625 12.171875 48.375  Q 18.84375 56 30.609375 56  z \" id=\"DejaVuSans-6f\"/>\n",
       "      <path d=\"M 48.78125 52.59375  L 48.78125 44.1875  Q 44.96875 46.296875 41.140625 47.34375  Q 37.3125 48.390625 33.40625 48.390625  Q 24.65625 48.390625 19.8125 42.84375  Q 14.984375 37.3125 14.984375 27.296875  Q 14.984375 17.28125 19.8125 11.734375  Q 24.65625 6.203125 33.40625 6.203125  Q 37.3125 6.203125 41.140625 7.25  Q 44.96875 8.296875 48.78125 10.40625  L 48.78125 2.09375  Q 45.015625 0.34375 40.984375 -0.53125  Q 36.96875 -1.421875 32.421875 -1.421875  Q 20.0625 -1.421875 12.78125 6.34375  Q 5.515625 14.109375 5.515625 27.296875  Q 5.515625 40.671875 12.859375 48.328125  Q 20.21875 56 33.015625 56  Q 37.15625 56 41.109375 55.140625  Q 45.0625 54.296875 48.78125 52.59375  z \" id=\"DejaVuSans-63\"/>\n",
       "      <path d=\"M 54.890625 33.015625  L 54.890625 0  L 45.90625 0  L 45.90625 32.71875  Q 45.90625 40.484375 42.875 44.328125  Q 39.84375 48.1875 33.796875 48.1875  Q 26.515625 48.1875 22.3125 43.546875  Q 18.109375 38.921875 18.109375 30.90625  L 18.109375 0  L 9.078125 0  L 9.078125 75.984375  L 18.109375 75.984375  L 18.109375 46.1875  Q 21.34375 51.125 25.703125 53.5625  Q 30.078125 56 35.796875 56  Q 45.21875 56 50.046875 50.171875  Q 54.890625 44.34375 54.890625 33.015625  z \" id=\"DejaVuSans-68\"/>\n",
       "     </defs>\n",
       "     <g transform=\"translate(206.089063 280.276563)scale(0.1 -0.1)\">\n",
       "      <use xlink:href=\"#DejaVuSans-45\"/>\n",
       "      <use x=\"63.183594\" xlink:href=\"#DejaVuSans-70\"/>\n",
       "      <use x=\"126.660156\" xlink:href=\"#DejaVuSans-6f\"/>\n",
       "      <use x=\"187.841797\" xlink:href=\"#DejaVuSans-63\"/>\n",
       "      <use x=\"242.822266\" xlink:href=\"#DejaVuSans-68\"/>\n",
       "     </g>\n",
       "    </g>\n",
       "   </g>\n",
       "   <g id=\"matplotlib.axis_2\">\n",
       "    <g id=\"ytick_1\">\n",
       "     <g id=\"line2d_10\">\n",
       "      <defs>\n",
       "       <path d=\"M 0 0  L -3.5 0  \" id=\"mc87c78deaa\" style=\"stroke:#000000;stroke-width:0.8;\"/>\n",
       "      </defs>\n",
       "      <g>\n",
       "       <use style=\"stroke:#000000;stroke-width:0.8;\" x=\"54\" xlink:href=\"#mc87c78deaa\" y=\"252\"/>\n",
       "      </g>\n",
       "     </g>\n",
       "     <g id=\"text_11\">\n",
       "      <!-- 0.0 -->\n",
       "      <defs>\n",
       "       <path d=\"M 10.6875 12.40625  L 21 12.40625  L 21 0  L 10.6875 0  z \" id=\"DejaVuSans-2e\"/>\n",
       "      </defs>\n",
       "      <g transform=\"translate(31.096875 255.799219)scale(0.1 -0.1)\">\n",
       "       <use xlink:href=\"#DejaVuSans-30\"/>\n",
       "       <use x=\"63.623047\" xlink:href=\"#DejaVuSans-2e\"/>\n",
       "       <use x=\"95.410156\" xlink:href=\"#DejaVuSans-30\"/>\n",
       "      </g>\n",
       "     </g>\n",
       "    </g>\n",
       "    <g id=\"ytick_2\">\n",
       "     <g id=\"line2d_11\">\n",
       "      <g>\n",
       "       <use style=\"stroke:#000000;stroke-width:0.8;\" x=\"54\" xlink:href=\"#mc87c78deaa\" y=\"214.069364\"/>\n",
       "      </g>\n",
       "     </g>\n",
       "     <g id=\"text_12\">\n",
       "      <!-- 0.1 -->\n",
       "      <g transform=\"translate(31.096875 217.868583)scale(0.1 -0.1)\">\n",
       "       <use xlink:href=\"#DejaVuSans-30\"/>\n",
       "       <use x=\"63.623047\" xlink:href=\"#DejaVuSans-2e\"/>\n",
       "       <use x=\"95.410156\" xlink:href=\"#DejaVuSans-31\"/>\n",
       "      </g>\n",
       "     </g>\n",
       "    </g>\n",
       "    <g id=\"ytick_3\">\n",
       "     <g id=\"line2d_12\">\n",
       "      <g>\n",
       "       <use style=\"stroke:#000000;stroke-width:0.8;\" x=\"54\" xlink:href=\"#mc87c78deaa\" y=\"176.138728\"/>\n",
       "      </g>\n",
       "     </g>\n",
       "     <g id=\"text_13\">\n",
       "      <!-- 0.2 -->\n",
       "      <g transform=\"translate(31.096875 179.937947)scale(0.1 -0.1)\">\n",
       "       <use xlink:href=\"#DejaVuSans-30\"/>\n",
       "       <use x=\"63.623047\" xlink:href=\"#DejaVuSans-2e\"/>\n",
       "       <use x=\"95.410156\" xlink:href=\"#DejaVuSans-32\"/>\n",
       "      </g>\n",
       "     </g>\n",
       "    </g>\n",
       "    <g id=\"ytick_4\">\n",
       "     <g id=\"line2d_13\">\n",
       "      <g>\n",
       "       <use style=\"stroke:#000000;stroke-width:0.8;\" x=\"54\" xlink:href=\"#mc87c78deaa\" y=\"138.208092\"/>\n",
       "      </g>\n",
       "     </g>\n",
       "     <g id=\"text_14\">\n",
       "      <!-- 0.3 -->\n",
       "      <defs>\n",
       "       <path d=\"M 40.578125 39.3125  Q 47.65625 37.796875 51.625 33  Q 55.609375 28.21875 55.609375 21.1875  Q 55.609375 10.40625 48.1875 4.484375  Q 40.765625 -1.421875 27.09375 -1.421875  Q 22.515625 -1.421875 17.65625 -0.515625  Q 12.796875 0.390625 7.625 2.203125  L 7.625 11.71875  Q 11.71875 9.328125 16.59375 8.109375  Q 21.484375 6.890625 26.8125 6.890625  Q 36.078125 6.890625 40.9375 10.546875  Q 45.796875 14.203125 45.796875 21.1875  Q 45.796875 27.640625 41.28125 31.265625  Q 36.765625 34.90625 28.71875 34.90625  L 20.21875 34.90625  L 20.21875 43.015625  L 29.109375 43.015625  Q 36.375 43.015625 40.234375 45.921875  Q 44.09375 48.828125 44.09375 54.296875  Q 44.09375 59.90625 40.109375 62.90625  Q 36.140625 65.921875 28.71875 65.921875  Q 24.65625 65.921875 20.015625 65.03125  Q 15.375 64.15625 9.8125 62.3125  L 9.8125 71.09375  Q 15.4375 72.65625 20.34375 73.4375  Q 25.25 74.21875 29.59375 74.21875  Q 40.828125 74.21875 47.359375 69.109375  Q 53.90625 64.015625 53.90625 55.328125  Q 53.90625 49.265625 50.4375 45.09375  Q 46.96875 40.921875 40.578125 39.3125  z \" id=\"DejaVuSans-33\"/>\n",
       "      </defs>\n",
       "      <g transform=\"translate(31.096875 142.007311)scale(0.1 -0.1)\">\n",
       "       <use xlink:href=\"#DejaVuSans-30\"/>\n",
       "       <use x=\"63.623047\" xlink:href=\"#DejaVuSans-2e\"/>\n",
       "       <use x=\"95.410156\" xlink:href=\"#DejaVuSans-33\"/>\n",
       "      </g>\n",
       "     </g>\n",
       "    </g>\n",
       "    <g id=\"ytick_5\">\n",
       "     <g id=\"line2d_14\">\n",
       "      <g>\n",
       "       <use style=\"stroke:#000000;stroke-width:0.8;\" x=\"54\" xlink:href=\"#mc87c78deaa\" y=\"100.277456\"/>\n",
       "      </g>\n",
       "     </g>\n",
       "     <g id=\"text_15\">\n",
       "      <!-- 0.4 -->\n",
       "      <defs>\n",
       "       <path d=\"M 37.796875 64.3125  L 12.890625 25.390625  L 37.796875 25.390625  z M 35.203125 72.90625  L 47.609375 72.90625  L 47.609375 25.390625  L 58.015625 25.390625  L 58.015625 17.1875  L 47.609375 17.1875  L 47.609375 0  L 37.796875 0  L 37.796875 17.1875  L 4.890625 17.1875  L 4.890625 26.703125  z \" id=\"DejaVuSans-34\"/>\n",
       "      </defs>\n",
       "      <g transform=\"translate(31.096875 104.076675)scale(0.1 -0.1)\">\n",
       "       <use xlink:href=\"#DejaVuSans-30\"/>\n",
       "       <use x=\"63.623047\" xlink:href=\"#DejaVuSans-2e\"/>\n",
       "       <use x=\"95.410156\" xlink:href=\"#DejaVuSans-34\"/>\n",
       "      </g>\n",
       "     </g>\n",
       "    </g>\n",
       "    <g id=\"ytick_6\">\n",
       "     <g id=\"line2d_15\">\n",
       "      <g>\n",
       "       <use style=\"stroke:#000000;stroke-width:0.8;\" x=\"54\" xlink:href=\"#mc87c78deaa\" y=\"62.34682\"/>\n",
       "      </g>\n",
       "     </g>\n",
       "     <g id=\"text_16\">\n",
       "      <!-- 0.5 -->\n",
       "      <g transform=\"translate(31.096875 66.146038)scale(0.1 -0.1)\">\n",
       "       <use xlink:href=\"#DejaVuSans-30\"/>\n",
       "       <use x=\"63.623047\" xlink:href=\"#DejaVuSans-2e\"/>\n",
       "       <use x=\"95.410156\" xlink:href=\"#DejaVuSans-35\"/>\n",
       "      </g>\n",
       "     </g>\n",
       "    </g>\n",
       "   </g>\n",
       "   <g id=\"line2d_16\">\n",
       "    <path clip-path=\"url(#p54504d6c30)\" d=\"M 69.218182 44.88611  L 69.370364 44.88611  L 69.674727 51.478952  L 69.979091 59.984941  L 70.131273 61.916988  L 70.283455 61.833428  L 70.892182 57.087106  L 71.044364 57.42144  L 71.805273 61.67865  L 71.957455 61.708154  L 72.566182 61.173262  L 72.870545 61.346533  L 73.783636 62.068284  L 74.240182 62.147255  L 75.001091 62.072941  L 75.914182 62.325884  L 76.979455 62.285167  L 77.740364 62.337776  L 79.262182 62.343564  L 97.828364 62.349601  L 214.247455 62.477135  L 231.900545 62.700845  L 240.118364 63.002464  L 245.140364 63.395217  L 248.488364 63.873137  L 250.923273 64.443864  L 252.749455 65.094444  L 254.271273 65.878119  L 255.488727 66.749945  L 256.554 67.777001  L 257.467091 68.935501  L 258.380182 70.451159  L 259.293273 72.46038  L 260.054182 74.64796  L 260.815091 77.45865  L 261.576 81.081796  L 262.336909 85.749203  L 263.097818 91.728113  L 263.858727 99.302974  L 264.771818 110.881085  L 265.684909 125.518885  L 266.750182 146.533684  L 269.641636 207.606693  L 270.402545 218.239196  L 271.163455 225.934424  L 271.924364 231.360716  L 272.685273 235.189575  L 273.446182 237.935824  L 274.207091 239.953191  L 275.120182 241.734365  L 276.033273 243.052966  L 277.098545 244.209696  L 278.316 245.202832  L 279.837818 246.129074  L 281.664 246.949818  L 283.794545 247.657416  L 286.533818 248.322441  L 290.034 248.92812  L 294.599455 249.475921  L 300.686727 249.965531  L 309.056727 250.398512  L 320.926909 250.774079  L 338.732182 251.096986  L 367.038 251.366969  L 373.581818 251.408313  L 373.581818 251.408313  \" style=\"fill:none;stroke:#1f77b4;stroke-linecap:square;stroke-width:1.5;\"/>\n",
       "   </g>\n",
       "   <g id=\"patch_3\">\n",
       "    <path d=\"M 54 252  L 54 34.56  \" style=\"fill:none;stroke:#000000;stroke-linecap:square;stroke-linejoin:miter;stroke-width:0.8;\"/>\n",
       "   </g>\n",
       "   <g id=\"patch_4\">\n",
       "    <path d=\"M 388.8 252  L 388.8 34.56  \" style=\"fill:none;stroke:#000000;stroke-linecap:square;stroke-linejoin:miter;stroke-width:0.8;\"/>\n",
       "   </g>\n",
       "   <g id=\"patch_5\">\n",
       "    <path d=\"M 54 252  L 388.8 252  \" style=\"fill:none;stroke:#000000;stroke-linecap:square;stroke-linejoin:miter;stroke-width:0.8;\"/>\n",
       "   </g>\n",
       "   <g id=\"patch_6\">\n",
       "    <path d=\"M 54 34.56  L 388.8 34.56  \" style=\"fill:none;stroke:#000000;stroke-linecap:square;stroke-linejoin:miter;stroke-width:0.8;\"/>\n",
       "   </g>\n",
       "   <g id=\"text_17\">\n",
       "    <!-- XOR2 Network: Loss -->\n",
       "    <defs>\n",
       "     <path d=\"M 6.296875 72.90625  L 16.890625 72.90625  L 35.015625 45.796875  L 53.21875 72.90625  L 63.8125 72.90625  L 40.375 37.890625  L 65.375 0  L 54.78125 0  L 34.28125 31  L 13.625 0  L 2.984375 0  L 29 38.921875  z \" id=\"DejaVuSans-58\"/>\n",
       "     <path d=\"M 39.40625 66.21875  Q 28.65625 66.21875 22.328125 58.203125  Q 16.015625 50.203125 16.015625 36.375  Q 16.015625 22.609375 22.328125 14.59375  Q 28.65625 6.59375 39.40625 6.59375  Q 50.140625 6.59375 56.421875 14.59375  Q 62.703125 22.609375 62.703125 36.375  Q 62.703125 50.203125 56.421875 58.203125  Q 50.140625 66.21875 39.40625 66.21875  z M 39.40625 74.21875  Q 54.734375 74.21875 63.90625 63.9375  Q 73.09375 53.65625 73.09375 36.375  Q 73.09375 19.140625 63.90625 8.859375  Q 54.734375 -1.421875 39.40625 -1.421875  Q 24.03125 -1.421875 14.8125 8.828125  Q 5.609375 19.09375 5.609375 36.375  Q 5.609375 53.65625 14.8125 63.9375  Q 24.03125 74.21875 39.40625 74.21875  z \" id=\"DejaVuSans-4f\"/>\n",
       "     <path d=\"M 44.390625 34.1875  Q 47.5625 33.109375 50.5625 29.59375  Q 53.5625 26.078125 56.59375 19.921875  L 66.609375 0  L 56 0  L 46.6875 18.703125  Q 43.0625 26.03125 39.671875 28.421875  Q 36.28125 30.8125 30.421875 30.8125  L 19.671875 30.8125  L 19.671875 0  L 9.8125 0  L 9.8125 72.90625  L 32.078125 72.90625  Q 44.578125 72.90625 50.734375 67.671875  Q 56.890625 62.453125 56.890625 51.90625  Q 56.890625 45.015625 53.6875 40.46875  Q 50.484375 35.9375 44.390625 34.1875  z M 19.671875 64.796875  L 19.671875 38.921875  L 32.078125 38.921875  Q 39.203125 38.921875 42.84375 42.21875  Q 46.484375 45.515625 46.484375 51.90625  Q 46.484375 58.296875 42.84375 61.546875  Q 39.203125 64.796875 32.078125 64.796875  z \" id=\"DejaVuSans-52\"/>\n",
       "     <path id=\"DejaVuSans-20\"/>\n",
       "     <path d=\"M 9.8125 72.90625  L 23.09375 72.90625  L 55.421875 11.921875  L 55.421875 72.90625  L 64.984375 72.90625  L 64.984375 0  L 51.703125 0  L 19.390625 60.984375  L 19.390625 0  L 9.8125 0  z \" id=\"DejaVuSans-4e\"/>\n",
       "     <path d=\"M 56.203125 29.59375  L 56.203125 25.203125  L 14.890625 25.203125  Q 15.484375 15.921875 20.484375 11.0625  Q 25.484375 6.203125 34.421875 6.203125  Q 39.59375 6.203125 44.453125 7.46875  Q 49.3125 8.734375 54.109375 11.28125  L 54.109375 2.78125  Q 49.265625 0.734375 44.1875 -0.34375  Q 39.109375 -1.421875 33.890625 -1.421875  Q 20.796875 -1.421875 13.15625 6.1875  Q 5.515625 13.8125 5.515625 26.8125  Q 5.515625 40.234375 12.765625 48.109375  Q 20.015625 56 32.328125 56  Q 43.359375 56 49.78125 48.890625  Q 56.203125 41.796875 56.203125 29.59375  z M 47.21875 32.234375  Q 47.125 39.59375 43.09375 43.984375  Q 39.0625 48.390625 32.421875 48.390625  Q 24.90625 48.390625 20.390625 44.140625  Q 15.875 39.890625 15.1875 32.171875  z \" id=\"DejaVuSans-65\"/>\n",
       "     <path d=\"M 18.3125 70.21875  L 18.3125 54.6875  L 36.8125 54.6875  L 36.8125 47.703125  L 18.3125 47.703125  L 18.3125 18.015625  Q 18.3125 11.328125 20.140625 9.421875  Q 21.96875 7.515625 27.59375 7.515625  L 36.8125 7.515625  L 36.8125 0  L 27.59375 0  Q 17.1875 0 13.234375 3.875  Q 9.28125 7.765625 9.28125 18.015625  L 9.28125 47.703125  L 2.6875 47.703125  L 2.6875 54.6875  L 9.28125 54.6875  L 9.28125 70.21875  z \" id=\"DejaVuSans-74\"/>\n",
       "     <path d=\"M 4.203125 54.6875  L 13.1875 54.6875  L 24.421875 12.015625  L 35.59375 54.6875  L 46.1875 54.6875  L 57.421875 12.015625  L 68.609375 54.6875  L 77.59375 54.6875  L 63.28125 0  L 52.6875 0  L 40.921875 44.828125  L 29.109375 0  L 18.5 0  z \" id=\"DejaVuSans-77\"/>\n",
       "     <path d=\"M 41.109375 46.296875  Q 39.59375 47.171875 37.8125 47.578125  Q 36.03125 48 33.890625 48  Q 26.265625 48 22.1875 43.046875  Q 18.109375 38.09375 18.109375 28.8125  L 18.109375 0  L 9.078125 0  L 9.078125 54.6875  L 18.109375 54.6875  L 18.109375 46.1875  Q 20.953125 51.171875 25.484375 53.578125  Q 30.03125 56 36.53125 56  Q 37.453125 56 38.578125 55.875  Q 39.703125 55.765625 41.0625 55.515625  z \" id=\"DejaVuSans-72\"/>\n",
       "     <path d=\"M 9.078125 75.984375  L 18.109375 75.984375  L 18.109375 31.109375  L 44.921875 54.6875  L 56.390625 54.6875  L 27.390625 29.109375  L 57.625 0  L 45.90625 0  L 18.109375 26.703125  L 18.109375 0  L 9.078125 0  z \" id=\"DejaVuSans-6b\"/>\n",
       "     <path d=\"M 11.71875 12.40625  L 22.015625 12.40625  L 22.015625 0  L 11.71875 0  z M 11.71875 51.703125  L 22.015625 51.703125  L 22.015625 39.3125  L 11.71875 39.3125  z \" id=\"DejaVuSans-3a\"/>\n",
       "     <path d=\"M 9.8125 72.90625  L 19.671875 72.90625  L 19.671875 8.296875  L 55.171875 8.296875  L 55.171875 0  L 9.8125 0  z \" id=\"DejaVuSans-4c\"/>\n",
       "     <path d=\"M 44.28125 53.078125  L 44.28125 44.578125  Q 40.484375 46.53125 36.375 47.5  Q 32.28125 48.484375 27.875 48.484375  Q 21.1875 48.484375 17.84375 46.4375  Q 14.5 44.390625 14.5 40.28125  Q 14.5 37.15625 16.890625 35.375  Q 19.28125 33.59375 26.515625 31.984375  L 29.59375 31.296875  Q 39.15625 29.25 43.1875 25.515625  Q 47.21875 21.78125 47.21875 15.09375  Q 47.21875 7.46875 41.1875 3.015625  Q 35.15625 -1.421875 24.609375 -1.421875  Q 20.21875 -1.421875 15.453125 -0.5625  Q 10.6875 0.296875 5.421875 2  L 5.421875 11.28125  Q 10.40625 8.6875 15.234375 7.390625  Q 20.0625 6.109375 24.8125 6.109375  Q 31.15625 6.109375 34.5625 8.28125  Q 37.984375 10.453125 37.984375 14.40625  Q 37.984375 18.0625 35.515625 20.015625  Q 33.0625 21.96875 24.703125 23.78125  L 21.578125 24.515625  Q 13.234375 26.265625 9.515625 29.90625  Q 5.8125 33.546875 5.8125 39.890625  Q 5.8125 47.609375 11.28125 51.796875  Q 16.75 56 26.8125 56  Q 31.78125 56 36.171875 55.265625  Q 40.578125 54.546875 44.28125 53.078125  z \" id=\"DejaVuSans-73\"/>\n",
       "    </defs>\n",
       "    <g transform=\"translate(160.434375 28.56)scale(0.12 -0.12)\">\n",
       "     <use xlink:href=\"#DejaVuSans-58\"/>\n",
       "     <use x=\"68.412109\" xlink:href=\"#DejaVuSans-4f\"/>\n",
       "     <use x=\"147.123047\" xlink:href=\"#DejaVuSans-52\"/>\n",
       "     <use x=\"216.605469\" xlink:href=\"#DejaVuSans-32\"/>\n",
       "     <use x=\"280.228516\" xlink:href=\"#DejaVuSans-20\"/>\n",
       "     <use x=\"312.015625\" xlink:href=\"#DejaVuSans-4e\"/>\n",
       "     <use x=\"386.820312\" xlink:href=\"#DejaVuSans-65\"/>\n",
       "     <use x=\"448.34375\" xlink:href=\"#DejaVuSans-74\"/>\n",
       "     <use x=\"487.552734\" xlink:href=\"#DejaVuSans-77\"/>\n",
       "     <use x=\"569.339844\" xlink:href=\"#DejaVuSans-6f\"/>\n",
       "     <use x=\"630.521484\" xlink:href=\"#DejaVuSans-72\"/>\n",
       "     <use x=\"671.634766\" xlink:href=\"#DejaVuSans-6b\"/>\n",
       "     <use x=\"729.544922\" xlink:href=\"#DejaVuSans-3a\"/>\n",
       "     <use x=\"763.236328\" xlink:href=\"#DejaVuSans-20\"/>\n",
       "     <use x=\"795.023438\" xlink:href=\"#DejaVuSans-4c\"/>\n",
       "     <use x=\"850.720703\" xlink:href=\"#DejaVuSans-6f\"/>\n",
       "     <use x=\"911.902344\" xlink:href=\"#DejaVuSans-73\"/>\n",
       "     <use x=\"964.001953\" xlink:href=\"#DejaVuSans-73\"/>\n",
       "    </g>\n",
       "   </g>\n",
       "   <g id=\"legend_1\">\n",
       "    <g id=\"patch_7\">\n",
       "     <path d=\"M 290.434375 57.238125  L 381.8 57.238125  Q 383.8 57.238125 383.8 55.238125  L 383.8 41.56  Q 383.8 39.56 381.8 39.56  L 290.434375 39.56  Q 288.434375 39.56 288.434375 41.56  L 288.434375 55.238125  Q 288.434375 57.238125 290.434375 57.238125  z \" style=\"fill:#ffffff;opacity:0.8;stroke:#cccccc;stroke-linejoin:miter;\"/>\n",
       "    </g>\n",
       "    <g id=\"line2d_17\">\n",
       "     <path d=\"M 292.434375 47.658437  L 312.434375 47.658437  \" style=\"fill:none;stroke:#1f77b4;stroke-linecap:square;stroke-width:1.5;\"/>\n",
       "    </g>\n",
       "    <g id=\"line2d_18\"/>\n",
       "    <g id=\"text_18\">\n",
       "     <!-- Training set -->\n",
       "     <defs>\n",
       "      <path d=\"M -0.296875 72.90625  L 61.375 72.90625  L 61.375 64.59375  L 35.5 64.59375  L 35.5 0  L 25.59375 0  L 25.59375 64.59375  L -0.296875 64.59375  z \" id=\"DejaVuSans-54\"/>\n",
       "      <path d=\"M 34.28125 27.484375  Q 23.390625 27.484375 19.1875 25  Q 14.984375 22.515625 14.984375 16.5  Q 14.984375 11.71875 18.140625 8.90625  Q 21.296875 6.109375 26.703125 6.109375  Q 34.1875 6.109375 38.703125 11.40625  Q 43.21875 16.703125 43.21875 25.484375  L 43.21875 27.484375  z M 52.203125 31.203125  L 52.203125 0  L 43.21875 0  L 43.21875 8.296875  Q 40.140625 3.328125 35.546875 0.953125  Q 30.953125 -1.421875 24.3125 -1.421875  Q 15.921875 -1.421875 10.953125 3.296875  Q 6 8.015625 6 15.921875  Q 6 25.140625 12.171875 29.828125  Q 18.359375 34.515625 30.609375 34.515625  L 43.21875 34.515625  L 43.21875 35.40625  Q 43.21875 41.609375 39.140625 45  Q 35.0625 48.390625 27.6875 48.390625  Q 23 48.390625 18.546875 47.265625  Q 14.109375 46.140625 10.015625 43.890625  L 10.015625 52.203125  Q 14.9375 54.109375 19.578125 55.046875  Q 24.21875 56 28.609375 56  Q 40.484375 56 46.34375 49.84375  Q 52.203125 43.703125 52.203125 31.203125  z \" id=\"DejaVuSans-61\"/>\n",
       "      <path d=\"M 9.421875 54.6875  L 18.40625 54.6875  L 18.40625 0  L 9.421875 0  z M 9.421875 75.984375  L 18.40625 75.984375  L 18.40625 64.59375  L 9.421875 64.59375  z \" id=\"DejaVuSans-69\"/>\n",
       "      <path d=\"M 54.890625 33.015625  L 54.890625 0  L 45.90625 0  L 45.90625 32.71875  Q 45.90625 40.484375 42.875 44.328125  Q 39.84375 48.1875 33.796875 48.1875  Q 26.515625 48.1875 22.3125 43.546875  Q 18.109375 38.921875 18.109375 30.90625  L 18.109375 0  L 9.078125 0  L 9.078125 54.6875  L 18.109375 54.6875  L 18.109375 46.1875  Q 21.34375 51.125 25.703125 53.5625  Q 30.078125 56 35.796875 56  Q 45.21875 56 50.046875 50.171875  Q 54.890625 44.34375 54.890625 33.015625  z \" id=\"DejaVuSans-6e\"/>\n",
       "      <path d=\"M 45.40625 27.984375  Q 45.40625 37.75 41.375 43.109375  Q 37.359375 48.484375 30.078125 48.484375  Q 22.859375 48.484375 18.828125 43.109375  Q 14.796875 37.75 14.796875 27.984375  Q 14.796875 18.265625 18.828125 12.890625  Q 22.859375 7.515625 30.078125 7.515625  Q 37.359375 7.515625 41.375 12.890625  Q 45.40625 18.265625 45.40625 27.984375  z M 54.390625 6.78125  Q 54.390625 -7.171875 48.1875 -13.984375  Q 42 -20.796875 29.203125 -20.796875  Q 24.46875 -20.796875 20.265625 -20.09375  Q 16.0625 -19.390625 12.109375 -17.921875  L 12.109375 -9.1875  Q 16.0625 -11.328125 19.921875 -12.34375  Q 23.78125 -13.375 27.78125 -13.375  Q 36.625 -13.375 41.015625 -8.765625  Q 45.40625 -4.15625 45.40625 5.171875  L 45.40625 9.625  Q 42.625 4.78125 38.28125 2.390625  Q 33.9375 0 27.875 0  Q 17.828125 0 11.671875 7.65625  Q 5.515625 15.328125 5.515625 27.984375  Q 5.515625 40.671875 11.671875 48.328125  Q 17.828125 56 27.875 56  Q 33.9375 56 38.28125 53.609375  Q 42.625 51.21875 45.40625 46.390625  L 45.40625 54.6875  L 54.390625 54.6875  z \" id=\"DejaVuSans-67\"/>\n",
       "     </defs>\n",
       "     <g transform=\"translate(320.434375 51.158437)scale(0.1 -0.1)\">\n",
       "      <use xlink:href=\"#DejaVuSans-54\"/>\n",
       "      <use x=\"60.865234\" xlink:href=\"#DejaVuSans-72\"/>\n",
       "      <use x=\"101.978516\" xlink:href=\"#DejaVuSans-61\"/>\n",
       "      <use x=\"163.257812\" xlink:href=\"#DejaVuSans-69\"/>\n",
       "      <use x=\"191.041016\" xlink:href=\"#DejaVuSans-6e\"/>\n",
       "      <use x=\"254.419922\" xlink:href=\"#DejaVuSans-69\"/>\n",
       "      <use x=\"282.203125\" xlink:href=\"#DejaVuSans-6e\"/>\n",
       "      <use x=\"345.582031\" xlink:href=\"#DejaVuSans-67\"/>\n",
       "      <use x=\"409.058594\" xlink:href=\"#DejaVuSans-20\"/>\n",
       "      <use x=\"440.845703\" xlink:href=\"#DejaVuSans-73\"/>\n",
       "      <use x=\"492.945312\" xlink:href=\"#DejaVuSans-65\"/>\n",
       "      <use x=\"554.46875\" xlink:href=\"#DejaVuSans-74\"/>\n",
       "     </g>\n",
       "    </g>\n",
       "   </g>\n",
       "  </g>\n",
       " </g>\n",
       " <defs>\n",
       "  <clipPath id=\"p54504d6c30\">\n",
       "   <rect height=\"217.44\" width=\"334.8\" x=\"54\" y=\"34.56\"/>\n",
       "  </clipPath>\n",
       " </defs>\n",
       "</svg>"
      ],
      "text/plain": [
       "<IPython.core.display.SVG object>"
      ]
     },
     "metadata": {},
     "output_type": "display_data"
    }
   ],
   "source": [
    "import time\n",
    "net.reset()\n",
    "for i in range(20):\n",
    "    (epoch_count, results) = net.train(epochs=100, verbose=0, report_rate=25, plot=True)\n",
    "    for index in range(4):\n",
    "        net.propagate(dataset[index][0])\n",
    "        time.sleep(.1)"
   ]
  },
  {
   "cell_type": "code",
   "execution_count": 35,
   "metadata": {},
   "outputs": [],
   "source": [
    "net.reset()"
   ]
  },
  {
   "cell_type": "code",
   "execution_count": 36,
   "metadata": {},
   "outputs": [
    {
     "data": {
      "image/svg+xml": [
       "<svg height=\"288pt\" version=\"1.1\" viewBox=\"0 0 432 288\" width=\"432pt\" xmlns=\"http://www.w3.org/2000/svg\" xmlns:xlink=\"http://www.w3.org/1999/xlink\">\n",
       " <defs>\n",
       "  <style type=\"text/css\">\n",
       "*{stroke-linecap:butt;stroke-linejoin:round;}\n",
       "  </style>\n",
       " </defs>\n",
       " <g id=\"figure_1\">\n",
       "  <g id=\"patch_1\">\n",
       "   <path d=\"M 0 288  L 432 288  L 432 0  L 0 0  z \" style=\"fill:#ffffff;\"/>\n",
       "  </g>\n",
       "  <g id=\"axes_1\">\n",
       "   <g id=\"patch_2\">\n",
       "    <path d=\"M 54 252  L 388.8 252  L 388.8 34.56  L 54 34.56  z \" style=\"fill:#ffffff;\"/>\n",
       "   </g>\n",
       "   <g id=\"matplotlib.axis_1\">\n",
       "    <g id=\"xtick_1\">\n",
       "     <g id=\"line2d_1\">\n",
       "      <defs>\n",
       "       <path d=\"M 0 0  L 0 3.5  \" id=\"m9f09d67bb1\" style=\"stroke:#000000;stroke-width:0.8;\"/>\n",
       "      </defs>\n",
       "      <g>\n",
       "       <use style=\"stroke:#000000;stroke-width:0.8;\" x=\"69.218182\" xlink:href=\"#m9f09d67bb1\" y=\"252\"/>\n",
       "      </g>\n",
       "     </g>\n",
       "     <g id=\"text_1\">\n",
       "      <!-- 0 -->\n",
       "      <defs>\n",
       "       <path d=\"M 31.78125 66.40625  Q 24.171875 66.40625 20.328125 58.90625  Q 16.5 51.421875 16.5 36.375  Q 16.5 21.390625 20.328125 13.890625  Q 24.171875 6.390625 31.78125 6.390625  Q 39.453125 6.390625 43.28125 13.890625  Q 47.125 21.390625 47.125 36.375  Q 47.125 51.421875 43.28125 58.90625  Q 39.453125 66.40625 31.78125 66.40625  z M 31.78125 74.21875  Q 44.046875 74.21875 50.515625 64.515625  Q 56.984375 54.828125 56.984375 36.375  Q 56.984375 17.96875 50.515625 8.265625  Q 44.046875 -1.421875 31.78125 -1.421875  Q 19.53125 -1.421875 13.0625 8.265625  Q 6.59375 17.96875 6.59375 36.375  Q 6.59375 54.828125 13.0625 64.515625  Q 19.53125 74.21875 31.78125 74.21875  z \" id=\"DejaVuSans-30\"/>\n",
       "      </defs>\n",
       "      <g transform=\"translate(66.036932 266.598437)scale(0.1 -0.1)\">\n",
       "       <use xlink:href=\"#DejaVuSans-30\"/>\n",
       "      </g>\n",
       "     </g>\n",
       "    </g>\n",
       "    <g id=\"xtick_2\">\n",
       "     <g id=\"line2d_2\">\n",
       "      <g>\n",
       "       <use style=\"stroke:#000000;stroke-width:0.8;\" x=\"108.823079\" xlink:href=\"#m9f09d67bb1\" y=\"252\"/>\n",
       "      </g>\n",
       "     </g>\n",
       "     <g id=\"text_2\">\n",
       "      <!-- 200 -->\n",
       "      <defs>\n",
       "       <path d=\"M 19.1875 8.296875  L 53.609375 8.296875  L 53.609375 0  L 7.328125 0  L 7.328125 8.296875  Q 12.9375 14.109375 22.625 23.890625  Q 32.328125 33.6875 34.8125 36.53125  Q 39.546875 41.84375 41.421875 45.53125  Q 43.3125 49.21875 43.3125 52.78125  Q 43.3125 58.59375 39.234375 62.25  Q 35.15625 65.921875 28.609375 65.921875  Q 23.96875 65.921875 18.8125 64.3125  Q 13.671875 62.703125 7.8125 59.421875  L 7.8125 69.390625  Q 13.765625 71.78125 18.9375 73  Q 24.125 74.21875 28.421875 74.21875  Q 39.75 74.21875 46.484375 68.546875  Q 53.21875 62.890625 53.21875 53.421875  Q 53.21875 48.921875 51.53125 44.890625  Q 49.859375 40.875 45.40625 35.40625  Q 44.1875 33.984375 37.640625 27.21875  Q 31.109375 20.453125 19.1875 8.296875  z \" id=\"DejaVuSans-32\"/>\n",
       "      </defs>\n",
       "      <g transform=\"translate(99.279329 266.598437)scale(0.1 -0.1)\">\n",
       "       <use xlink:href=\"#DejaVuSans-32\"/>\n",
       "       <use x=\"63.623047\" xlink:href=\"#DejaVuSans-30\"/>\n",
       "       <use x=\"127.246094\" xlink:href=\"#DejaVuSans-30\"/>\n",
       "      </g>\n",
       "     </g>\n",
       "    </g>\n",
       "    <g id=\"xtick_3\">\n",
       "     <g id=\"line2d_3\">\n",
       "      <g>\n",
       "       <use style=\"stroke:#000000;stroke-width:0.8;\" x=\"148.427977\" xlink:href=\"#m9f09d67bb1\" y=\"252\"/>\n",
       "      </g>\n",
       "     </g>\n",
       "     <g id=\"text_3\">\n",
       "      <!-- 400 -->\n",
       "      <defs>\n",
       "       <path d=\"M 37.796875 64.3125  L 12.890625 25.390625  L 37.796875 25.390625  z M 35.203125 72.90625  L 47.609375 72.90625  L 47.609375 25.390625  L 58.015625 25.390625  L 58.015625 17.1875  L 47.609375 17.1875  L 47.609375 0  L 37.796875 0  L 37.796875 17.1875  L 4.890625 17.1875  L 4.890625 26.703125  z \" id=\"DejaVuSans-34\"/>\n",
       "      </defs>\n",
       "      <g transform=\"translate(138.884227 266.598437)scale(0.1 -0.1)\">\n",
       "       <use xlink:href=\"#DejaVuSans-34\"/>\n",
       "       <use x=\"63.623047\" xlink:href=\"#DejaVuSans-30\"/>\n",
       "       <use x=\"127.246094\" xlink:href=\"#DejaVuSans-30\"/>\n",
       "      </g>\n",
       "     </g>\n",
       "    </g>\n",
       "    <g id=\"xtick_4\">\n",
       "     <g id=\"line2d_4\">\n",
       "      <g>\n",
       "       <use style=\"stroke:#000000;stroke-width:0.8;\" x=\"188.032874\" xlink:href=\"#m9f09d67bb1\" y=\"252\"/>\n",
       "      </g>\n",
       "     </g>\n",
       "     <g id=\"text_4\">\n",
       "      <!-- 600 -->\n",
       "      <defs>\n",
       "       <path d=\"M 33.015625 40.375  Q 26.375 40.375 22.484375 35.828125  Q 18.609375 31.296875 18.609375 23.390625  Q 18.609375 15.53125 22.484375 10.953125  Q 26.375 6.390625 33.015625 6.390625  Q 39.65625 6.390625 43.53125 10.953125  Q 47.40625 15.53125 47.40625 23.390625  Q 47.40625 31.296875 43.53125 35.828125  Q 39.65625 40.375 33.015625 40.375  z M 52.59375 71.296875  L 52.59375 62.3125  Q 48.875 64.0625 45.09375 64.984375  Q 41.3125 65.921875 37.59375 65.921875  Q 27.828125 65.921875 22.671875 59.328125  Q 17.53125 52.734375 16.796875 39.40625  Q 19.671875 43.65625 24.015625 45.921875  Q 28.375 48.1875 33.59375 48.1875  Q 44.578125 48.1875 50.953125 41.515625  Q 57.328125 34.859375 57.328125 23.390625  Q 57.328125 12.15625 50.6875 5.359375  Q 44.046875 -1.421875 33.015625 -1.421875  Q 20.359375 -1.421875 13.671875 8.265625  Q 6.984375 17.96875 6.984375 36.375  Q 6.984375 53.65625 15.1875 63.9375  Q 23.390625 74.21875 37.203125 74.21875  Q 40.921875 74.21875 44.703125 73.484375  Q 48.484375 72.75 52.59375 71.296875  z \" id=\"DejaVuSans-36\"/>\n",
       "      </defs>\n",
       "      <g transform=\"translate(178.489124 266.598437)scale(0.1 -0.1)\">\n",
       "       <use xlink:href=\"#DejaVuSans-36\"/>\n",
       "       <use x=\"63.623047\" xlink:href=\"#DejaVuSans-30\"/>\n",
       "       <use x=\"127.246094\" xlink:href=\"#DejaVuSans-30\"/>\n",
       "      </g>\n",
       "     </g>\n",
       "    </g>\n",
       "    <g id=\"xtick_5\">\n",
       "     <g id=\"line2d_5\">\n",
       "      <g>\n",
       "       <use style=\"stroke:#000000;stroke-width:0.8;\" x=\"227.637771\" xlink:href=\"#m9f09d67bb1\" y=\"252\"/>\n",
       "      </g>\n",
       "     </g>\n",
       "     <g id=\"text_5\">\n",
       "      <!-- 800 -->\n",
       "      <defs>\n",
       "       <path d=\"M 31.78125 34.625  Q 24.75 34.625 20.71875 30.859375  Q 16.703125 27.09375 16.703125 20.515625  Q 16.703125 13.921875 20.71875 10.15625  Q 24.75 6.390625 31.78125 6.390625  Q 38.8125 6.390625 42.859375 10.171875  Q 46.921875 13.96875 46.921875 20.515625  Q 46.921875 27.09375 42.890625 30.859375  Q 38.875 34.625 31.78125 34.625  z M 21.921875 38.8125  Q 15.578125 40.375 12.03125 44.71875  Q 8.5 49.078125 8.5 55.328125  Q 8.5 64.0625 14.71875 69.140625  Q 20.953125 74.21875 31.78125 74.21875  Q 42.671875 74.21875 48.875 69.140625  Q 55.078125 64.0625 55.078125 55.328125  Q 55.078125 49.078125 51.53125 44.71875  Q 48 40.375 41.703125 38.8125  Q 48.828125 37.15625 52.796875 32.3125  Q 56.78125 27.484375 56.78125 20.515625  Q 56.78125 9.90625 50.3125 4.234375  Q 43.84375 -1.421875 31.78125 -1.421875  Q 19.734375 -1.421875 13.25 4.234375  Q 6.78125 9.90625 6.78125 20.515625  Q 6.78125 27.484375 10.78125 32.3125  Q 14.796875 37.15625 21.921875 38.8125  z M 18.3125 54.390625  Q 18.3125 48.734375 21.84375 45.5625  Q 25.390625 42.390625 31.78125 42.390625  Q 38.140625 42.390625 41.71875 45.5625  Q 45.3125 48.734375 45.3125 54.390625  Q 45.3125 60.0625 41.71875 63.234375  Q 38.140625 66.40625 31.78125 66.40625  Q 25.390625 66.40625 21.84375 63.234375  Q 18.3125 60.0625 18.3125 54.390625  z \" id=\"DejaVuSans-38\"/>\n",
       "      </defs>\n",
       "      <g transform=\"translate(218.094021 266.598437)scale(0.1 -0.1)\">\n",
       "       <use xlink:href=\"#DejaVuSans-38\"/>\n",
       "       <use x=\"63.623047\" xlink:href=\"#DejaVuSans-30\"/>\n",
       "       <use x=\"127.246094\" xlink:href=\"#DejaVuSans-30\"/>\n",
       "      </g>\n",
       "     </g>\n",
       "    </g>\n",
       "    <g id=\"xtick_6\">\n",
       "     <g id=\"line2d_6\">\n",
       "      <g>\n",
       "       <use style=\"stroke:#000000;stroke-width:0.8;\" x=\"267.242669\" xlink:href=\"#m9f09d67bb1\" y=\"252\"/>\n",
       "      </g>\n",
       "     </g>\n",
       "     <g id=\"text_6\">\n",
       "      <!-- 1000 -->\n",
       "      <defs>\n",
       "       <path d=\"M 12.40625 8.296875  L 28.515625 8.296875  L 28.515625 63.921875  L 10.984375 60.40625  L 10.984375 69.390625  L 28.421875 72.90625  L 38.28125 72.90625  L 38.28125 8.296875  L 54.390625 8.296875  L 54.390625 0  L 12.40625 0  z \" id=\"DejaVuSans-31\"/>\n",
       "      </defs>\n",
       "      <g transform=\"translate(254.517669 266.598437)scale(0.1 -0.1)\">\n",
       "       <use xlink:href=\"#DejaVuSans-31\"/>\n",
       "       <use x=\"63.623047\" xlink:href=\"#DejaVuSans-30\"/>\n",
       "       <use x=\"127.246094\" xlink:href=\"#DejaVuSans-30\"/>\n",
       "       <use x=\"190.869141\" xlink:href=\"#DejaVuSans-30\"/>\n",
       "      </g>\n",
       "     </g>\n",
       "    </g>\n",
       "    <g id=\"xtick_7\">\n",
       "     <g id=\"line2d_7\">\n",
       "      <g>\n",
       "       <use style=\"stroke:#000000;stroke-width:0.8;\" x=\"306.847566\" xlink:href=\"#m9f09d67bb1\" y=\"252\"/>\n",
       "      </g>\n",
       "     </g>\n",
       "     <g id=\"text_7\">\n",
       "      <!-- 1200 -->\n",
       "      <g transform=\"translate(294.122566 266.598437)scale(0.1 -0.1)\">\n",
       "       <use xlink:href=\"#DejaVuSans-31\"/>\n",
       "       <use x=\"63.623047\" xlink:href=\"#DejaVuSans-32\"/>\n",
       "       <use x=\"127.246094\" xlink:href=\"#DejaVuSans-30\"/>\n",
       "       <use x=\"190.869141\" xlink:href=\"#DejaVuSans-30\"/>\n",
       "      </g>\n",
       "     </g>\n",
       "    </g>\n",
       "    <g id=\"xtick_8\">\n",
       "     <g id=\"line2d_8\">\n",
       "      <g>\n",
       "       <use style=\"stroke:#000000;stroke-width:0.8;\" x=\"346.452463\" xlink:href=\"#m9f09d67bb1\" y=\"252\"/>\n",
       "      </g>\n",
       "     </g>\n",
       "     <g id=\"text_8\">\n",
       "      <!-- 1400 -->\n",
       "      <g transform=\"translate(333.727463 266.598437)scale(0.1 -0.1)\">\n",
       "       <use xlink:href=\"#DejaVuSans-31\"/>\n",
       "       <use x=\"63.623047\" xlink:href=\"#DejaVuSans-34\"/>\n",
       "       <use x=\"127.246094\" xlink:href=\"#DejaVuSans-30\"/>\n",
       "       <use x=\"190.869141\" xlink:href=\"#DejaVuSans-30\"/>\n",
       "      </g>\n",
       "     </g>\n",
       "    </g>\n",
       "    <g id=\"xtick_9\">\n",
       "     <g id=\"line2d_9\">\n",
       "      <g>\n",
       "       <use style=\"stroke:#000000;stroke-width:0.8;\" x=\"386.057361\" xlink:href=\"#m9f09d67bb1\" y=\"252\"/>\n",
       "      </g>\n",
       "     </g>\n",
       "     <g id=\"text_9\">\n",
       "      <!-- 1600 -->\n",
       "      <g transform=\"translate(373.332361 266.598437)scale(0.1 -0.1)\">\n",
       "       <use xlink:href=\"#DejaVuSans-31\"/>\n",
       "       <use x=\"63.623047\" xlink:href=\"#DejaVuSans-36\"/>\n",
       "       <use x=\"127.246094\" xlink:href=\"#DejaVuSans-30\"/>\n",
       "       <use x=\"190.869141\" xlink:href=\"#DejaVuSans-30\"/>\n",
       "      </g>\n",
       "     </g>\n",
       "    </g>\n",
       "    <g id=\"text_10\">\n",
       "     <!-- Epoch -->\n",
       "     <defs>\n",
       "      <path d=\"M 9.8125 72.90625  L 55.90625 72.90625  L 55.90625 64.59375  L 19.671875 64.59375  L 19.671875 43.015625  L 54.390625 43.015625  L 54.390625 34.71875  L 19.671875 34.71875  L 19.671875 8.296875  L 56.78125 8.296875  L 56.78125 0  L 9.8125 0  z \" id=\"DejaVuSans-45\"/>\n",
       "      <path d=\"M 18.109375 8.203125  L 18.109375 -20.796875  L 9.078125 -20.796875  L 9.078125 54.6875  L 18.109375 54.6875  L 18.109375 46.390625  Q 20.953125 51.265625 25.265625 53.625  Q 29.59375 56 35.59375 56  Q 45.5625 56 51.78125 48.09375  Q 58.015625 40.1875 58.015625 27.296875  Q 58.015625 14.40625 51.78125 6.484375  Q 45.5625 -1.421875 35.59375 -1.421875  Q 29.59375 -1.421875 25.265625 0.953125  Q 20.953125 3.328125 18.109375 8.203125  z M 48.6875 27.296875  Q 48.6875 37.203125 44.609375 42.84375  Q 40.53125 48.484375 33.40625 48.484375  Q 26.265625 48.484375 22.1875 42.84375  Q 18.109375 37.203125 18.109375 27.296875  Q 18.109375 17.390625 22.1875 11.75  Q 26.265625 6.109375 33.40625 6.109375  Q 40.53125 6.109375 44.609375 11.75  Q 48.6875 17.390625 48.6875 27.296875  z \" id=\"DejaVuSans-70\"/>\n",
       "      <path d=\"M 30.609375 48.390625  Q 23.390625 48.390625 19.1875 42.75  Q 14.984375 37.109375 14.984375 27.296875  Q 14.984375 17.484375 19.15625 11.84375  Q 23.34375 6.203125 30.609375 6.203125  Q 37.796875 6.203125 41.984375 11.859375  Q 46.1875 17.53125 46.1875 27.296875  Q 46.1875 37.015625 41.984375 42.703125  Q 37.796875 48.390625 30.609375 48.390625  z M 30.609375 56  Q 42.328125 56 49.015625 48.375  Q 55.71875 40.765625 55.71875 27.296875  Q 55.71875 13.875 49.015625 6.21875  Q 42.328125 -1.421875 30.609375 -1.421875  Q 18.84375 -1.421875 12.171875 6.21875  Q 5.515625 13.875 5.515625 27.296875  Q 5.515625 40.765625 12.171875 48.375  Q 18.84375 56 30.609375 56  z \" id=\"DejaVuSans-6f\"/>\n",
       "      <path d=\"M 48.78125 52.59375  L 48.78125 44.1875  Q 44.96875 46.296875 41.140625 47.34375  Q 37.3125 48.390625 33.40625 48.390625  Q 24.65625 48.390625 19.8125 42.84375  Q 14.984375 37.3125 14.984375 27.296875  Q 14.984375 17.28125 19.8125 11.734375  Q 24.65625 6.203125 33.40625 6.203125  Q 37.3125 6.203125 41.140625 7.25  Q 44.96875 8.296875 48.78125 10.40625  L 48.78125 2.09375  Q 45.015625 0.34375 40.984375 -0.53125  Q 36.96875 -1.421875 32.421875 -1.421875  Q 20.0625 -1.421875 12.78125 6.34375  Q 5.515625 14.109375 5.515625 27.296875  Q 5.515625 40.671875 12.859375 48.328125  Q 20.21875 56 33.015625 56  Q 37.15625 56 41.109375 55.140625  Q 45.0625 54.296875 48.78125 52.59375  z \" id=\"DejaVuSans-63\"/>\n",
       "      <path d=\"M 54.890625 33.015625  L 54.890625 0  L 45.90625 0  L 45.90625 32.71875  Q 45.90625 40.484375 42.875 44.328125  Q 39.84375 48.1875 33.796875 48.1875  Q 26.515625 48.1875 22.3125 43.546875  Q 18.109375 38.921875 18.109375 30.90625  L 18.109375 0  L 9.078125 0  L 9.078125 75.984375  L 18.109375 75.984375  L 18.109375 46.1875  Q 21.34375 51.125 25.703125 53.5625  Q 30.078125 56 35.796875 56  Q 45.21875 56 50.046875 50.171875  Q 54.890625 44.34375 54.890625 33.015625  z \" id=\"DejaVuSans-68\"/>\n",
       "     </defs>\n",
       "     <g transform=\"translate(206.089063 280.276563)scale(0.1 -0.1)\">\n",
       "      <use xlink:href=\"#DejaVuSans-45\"/>\n",
       "      <use x=\"63.183594\" xlink:href=\"#DejaVuSans-70\"/>\n",
       "      <use x=\"126.660156\" xlink:href=\"#DejaVuSans-6f\"/>\n",
       "      <use x=\"187.841797\" xlink:href=\"#DejaVuSans-63\"/>\n",
       "      <use x=\"242.822266\" xlink:href=\"#DejaVuSans-68\"/>\n",
       "     </g>\n",
       "    </g>\n",
       "   </g>\n",
       "   <g id=\"matplotlib.axis_2\">\n",
       "    <g id=\"ytick_1\">\n",
       "     <g id=\"line2d_10\">\n",
       "      <defs>\n",
       "       <path d=\"M 0 0  L -3.5 0  \" id=\"m466f556b8d\" style=\"stroke:#000000;stroke-width:0.8;\"/>\n",
       "      </defs>\n",
       "      <g>\n",
       "       <use style=\"stroke:#000000;stroke-width:0.8;\" x=\"54\" xlink:href=\"#m466f556b8d\" y=\"252\"/>\n",
       "      </g>\n",
       "     </g>\n",
       "     <g id=\"text_11\">\n",
       "      <!-- 0.0 -->\n",
       "      <defs>\n",
       "       <path d=\"M 10.6875 12.40625  L 21 12.40625  L 21 0  L 10.6875 0  z \" id=\"DejaVuSans-2e\"/>\n",
       "      </defs>\n",
       "      <g transform=\"translate(31.096875 255.799219)scale(0.1 -0.1)\">\n",
       "       <use xlink:href=\"#DejaVuSans-30\"/>\n",
       "       <use x=\"63.623047\" xlink:href=\"#DejaVuSans-2e\"/>\n",
       "       <use x=\"95.410156\" xlink:href=\"#DejaVuSans-30\"/>\n",
       "      </g>\n",
       "     </g>\n",
       "    </g>\n",
       "    <g id=\"ytick_2\">\n",
       "     <g id=\"line2d_11\">\n",
       "      <g>\n",
       "       <use style=\"stroke:#000000;stroke-width:0.8;\" x=\"54\" xlink:href=\"#m466f556b8d\" y=\"211.221289\"/>\n",
       "      </g>\n",
       "     </g>\n",
       "     <g id=\"text_12\">\n",
       "      <!-- 0.1 -->\n",
       "      <g transform=\"translate(31.096875 215.020508)scale(0.1 -0.1)\">\n",
       "       <use xlink:href=\"#DejaVuSans-30\"/>\n",
       "       <use x=\"63.623047\" xlink:href=\"#DejaVuSans-2e\"/>\n",
       "       <use x=\"95.410156\" xlink:href=\"#DejaVuSans-31\"/>\n",
       "      </g>\n",
       "     </g>\n",
       "    </g>\n",
       "    <g id=\"ytick_3\">\n",
       "     <g id=\"line2d_12\">\n",
       "      <g>\n",
       "       <use style=\"stroke:#000000;stroke-width:0.8;\" x=\"54\" xlink:href=\"#m466f556b8d\" y=\"170.442578\"/>\n",
       "      </g>\n",
       "     </g>\n",
       "     <g id=\"text_13\">\n",
       "      <!-- 0.2 -->\n",
       "      <g transform=\"translate(31.096875 174.241797)scale(0.1 -0.1)\">\n",
       "       <use xlink:href=\"#DejaVuSans-30\"/>\n",
       "       <use x=\"63.623047\" xlink:href=\"#DejaVuSans-2e\"/>\n",
       "       <use x=\"95.410156\" xlink:href=\"#DejaVuSans-32\"/>\n",
       "      </g>\n",
       "     </g>\n",
       "    </g>\n",
       "    <g id=\"ytick_4\">\n",
       "     <g id=\"line2d_13\">\n",
       "      <g>\n",
       "       <use style=\"stroke:#000000;stroke-width:0.8;\" x=\"54\" xlink:href=\"#m466f556b8d\" y=\"129.663867\"/>\n",
       "      </g>\n",
       "     </g>\n",
       "     <g id=\"text_14\">\n",
       "      <!-- 0.3 -->\n",
       "      <defs>\n",
       "       <path d=\"M 40.578125 39.3125  Q 47.65625 37.796875 51.625 33  Q 55.609375 28.21875 55.609375 21.1875  Q 55.609375 10.40625 48.1875 4.484375  Q 40.765625 -1.421875 27.09375 -1.421875  Q 22.515625 -1.421875 17.65625 -0.515625  Q 12.796875 0.390625 7.625 2.203125  L 7.625 11.71875  Q 11.71875 9.328125 16.59375 8.109375  Q 21.484375 6.890625 26.8125 6.890625  Q 36.078125 6.890625 40.9375 10.546875  Q 45.796875 14.203125 45.796875 21.1875  Q 45.796875 27.640625 41.28125 31.265625  Q 36.765625 34.90625 28.71875 34.90625  L 20.21875 34.90625  L 20.21875 43.015625  L 29.109375 43.015625  Q 36.375 43.015625 40.234375 45.921875  Q 44.09375 48.828125 44.09375 54.296875  Q 44.09375 59.90625 40.109375 62.90625  Q 36.140625 65.921875 28.71875 65.921875  Q 24.65625 65.921875 20.015625 65.03125  Q 15.375 64.15625 9.8125 62.3125  L 9.8125 71.09375  Q 15.4375 72.65625 20.34375 73.4375  Q 25.25 74.21875 29.59375 74.21875  Q 40.828125 74.21875 47.359375 69.109375  Q 53.90625 64.015625 53.90625 55.328125  Q 53.90625 49.265625 50.4375 45.09375  Q 46.96875 40.921875 40.578125 39.3125  z \" id=\"DejaVuSans-33\"/>\n",
       "      </defs>\n",
       "      <g transform=\"translate(31.096875 133.463086)scale(0.1 -0.1)\">\n",
       "       <use xlink:href=\"#DejaVuSans-30\"/>\n",
       "       <use x=\"63.623047\" xlink:href=\"#DejaVuSans-2e\"/>\n",
       "       <use x=\"95.410156\" xlink:href=\"#DejaVuSans-33\"/>\n",
       "      </g>\n",
       "     </g>\n",
       "    </g>\n",
       "    <g id=\"ytick_5\">\n",
       "     <g id=\"line2d_14\">\n",
       "      <g>\n",
       "       <use style=\"stroke:#000000;stroke-width:0.8;\" x=\"54\" xlink:href=\"#m466f556b8d\" y=\"88.885156\"/>\n",
       "      </g>\n",
       "     </g>\n",
       "     <g id=\"text_15\">\n",
       "      <!-- 0.4 -->\n",
       "      <g transform=\"translate(31.096875 92.684375)scale(0.1 -0.1)\">\n",
       "       <use xlink:href=\"#DejaVuSans-30\"/>\n",
       "       <use x=\"63.623047\" xlink:href=\"#DejaVuSans-2e\"/>\n",
       "       <use x=\"95.410156\" xlink:href=\"#DejaVuSans-34\"/>\n",
       "      </g>\n",
       "     </g>\n",
       "    </g>\n",
       "    <g id=\"ytick_6\">\n",
       "     <g id=\"line2d_15\">\n",
       "      <g>\n",
       "       <use style=\"stroke:#000000;stroke-width:0.8;\" x=\"54\" xlink:href=\"#m466f556b8d\" y=\"48.106446\"/>\n",
       "      </g>\n",
       "     </g>\n",
       "     <g id=\"text_16\">\n",
       "      <!-- 0.5 -->\n",
       "      <defs>\n",
       "       <path d=\"M 10.796875 72.90625  L 49.515625 72.90625  L 49.515625 64.59375  L 19.828125 64.59375  L 19.828125 46.734375  Q 21.96875 47.46875 24.109375 47.828125  Q 26.265625 48.1875 28.421875 48.1875  Q 40.625 48.1875 47.75 41.5  Q 54.890625 34.8125 54.890625 23.390625  Q 54.890625 11.625 47.5625 5.09375  Q 40.234375 -1.421875 26.90625 -1.421875  Q 22.3125 -1.421875 17.546875 -0.640625  Q 12.796875 0.140625 7.71875 1.703125  L 7.71875 11.625  Q 12.109375 9.234375 16.796875 8.0625  Q 21.484375 6.890625 26.703125 6.890625  Q 35.15625 6.890625 40.078125 11.328125  Q 45.015625 15.765625 45.015625 23.390625  Q 45.015625 31 40.078125 35.4375  Q 35.15625 39.890625 26.703125 39.890625  Q 22.75 39.890625 18.8125 39.015625  Q 14.890625 38.140625 10.796875 36.28125  z \" id=\"DejaVuSans-35\"/>\n",
       "      </defs>\n",
       "      <g transform=\"translate(31.096875 51.905664)scale(0.1 -0.1)\">\n",
       "       <use xlink:href=\"#DejaVuSans-30\"/>\n",
       "       <use x=\"63.623047\" xlink:href=\"#DejaVuSans-2e\"/>\n",
       "       <use x=\"95.410156\" xlink:href=\"#DejaVuSans-35\"/>\n",
       "      </g>\n",
       "     </g>\n",
       "    </g>\n",
       "   </g>\n",
       "   <g id=\"line2d_16\">\n",
       "    <path clip-path=\"url(#pe9e39565ae)\" d=\"M 69.218182 44.687223  L 69.416206 44.687223  L 69.812255 46.529034  L 70.208304 48.01627  L 70.406329 47.975631  L 71.000402 46.766358  L 71.198427 46.768643  L 71.594476 47.460489  L 71.990525 48.035083  L 72.188549 48.032361  L 72.782623 47.578082  L 73.178672 47.681771  L 73.772745 48.052972  L 74.168794 47.996826  L 74.762867 47.885431  L 75.951014 48.044708  L 76.743112 48.018069  L 77.931259 48.054795  L 80.901627 48.077716  L 301.104856 48.404121  L 313.382374 48.693387  L 320.313231 49.057369  L 325.065819 49.519086  L 328.432235 50.060527  L 331.006553 50.691195  L 332.986798 51.384548  L 334.769019 52.245649  L 336.15519 53.139551  L 337.541362 54.308974  L 338.729508 55.608543  L 339.917655 57.274963  L 340.907778 59.025591  L 341.8979 61.190575  L 342.888023 63.861027  L 343.878145 67.131048  L 344.868268 71.082621  L 346.056415 76.787666  L 347.442586 84.719676  L 349.224806 96.49771  L 351.403076 112.57256  L 352.987272 125.850834  L 354.373443 139.386095  L 355.957639 157.364324  L 359.918129 204.138722  L 361.106276 215.232019  L 362.096398 222.76645  L 363.08652 228.764628  L 364.076643 233.392091  L 365.066765 236.894981  L 366.056888 239.530606  L 367.04701 241.520836  L 368.037133 243.038915  L 369.225279 244.415742  L 370.413426 245.451758  L 371.799598 246.365929  L 373.383794 247.14854  L 373.581818 247.231674  L 373.581818 247.231674  \" style=\"fill:none;stroke:#1f77b4;stroke-linecap:square;stroke-width:1.5;\"/>\n",
       "   </g>\n",
       "   <g id=\"patch_3\">\n",
       "    <path d=\"M 54 252  L 54 34.56  \" style=\"fill:none;stroke:#000000;stroke-linecap:square;stroke-linejoin:miter;stroke-width:0.8;\"/>\n",
       "   </g>\n",
       "   <g id=\"patch_4\">\n",
       "    <path d=\"M 388.8 252  L 388.8 34.56  \" style=\"fill:none;stroke:#000000;stroke-linecap:square;stroke-linejoin:miter;stroke-width:0.8;\"/>\n",
       "   </g>\n",
       "   <g id=\"patch_5\">\n",
       "    <path d=\"M 54 252  L 388.8 252  \" style=\"fill:none;stroke:#000000;stroke-linecap:square;stroke-linejoin:miter;stroke-width:0.8;\"/>\n",
       "   </g>\n",
       "   <g id=\"patch_6\">\n",
       "    <path d=\"M 54 34.56  L 388.8 34.56  \" style=\"fill:none;stroke:#000000;stroke-linecap:square;stroke-linejoin:miter;stroke-width:0.8;\"/>\n",
       "   </g>\n",
       "   <g id=\"text_17\">\n",
       "    <!-- XOR2 Network: Loss -->\n",
       "    <defs>\n",
       "     <path d=\"M 6.296875 72.90625  L 16.890625 72.90625  L 35.015625 45.796875  L 53.21875 72.90625  L 63.8125 72.90625  L 40.375 37.890625  L 65.375 0  L 54.78125 0  L 34.28125 31  L 13.625 0  L 2.984375 0  L 29 38.921875  z \" id=\"DejaVuSans-58\"/>\n",
       "     <path d=\"M 39.40625 66.21875  Q 28.65625 66.21875 22.328125 58.203125  Q 16.015625 50.203125 16.015625 36.375  Q 16.015625 22.609375 22.328125 14.59375  Q 28.65625 6.59375 39.40625 6.59375  Q 50.140625 6.59375 56.421875 14.59375  Q 62.703125 22.609375 62.703125 36.375  Q 62.703125 50.203125 56.421875 58.203125  Q 50.140625 66.21875 39.40625 66.21875  z M 39.40625 74.21875  Q 54.734375 74.21875 63.90625 63.9375  Q 73.09375 53.65625 73.09375 36.375  Q 73.09375 19.140625 63.90625 8.859375  Q 54.734375 -1.421875 39.40625 -1.421875  Q 24.03125 -1.421875 14.8125 8.828125  Q 5.609375 19.09375 5.609375 36.375  Q 5.609375 53.65625 14.8125 63.9375  Q 24.03125 74.21875 39.40625 74.21875  z \" id=\"DejaVuSans-4f\"/>\n",
       "     <path d=\"M 44.390625 34.1875  Q 47.5625 33.109375 50.5625 29.59375  Q 53.5625 26.078125 56.59375 19.921875  L 66.609375 0  L 56 0  L 46.6875 18.703125  Q 43.0625 26.03125 39.671875 28.421875  Q 36.28125 30.8125 30.421875 30.8125  L 19.671875 30.8125  L 19.671875 0  L 9.8125 0  L 9.8125 72.90625  L 32.078125 72.90625  Q 44.578125 72.90625 50.734375 67.671875  Q 56.890625 62.453125 56.890625 51.90625  Q 56.890625 45.015625 53.6875 40.46875  Q 50.484375 35.9375 44.390625 34.1875  z M 19.671875 64.796875  L 19.671875 38.921875  L 32.078125 38.921875  Q 39.203125 38.921875 42.84375 42.21875  Q 46.484375 45.515625 46.484375 51.90625  Q 46.484375 58.296875 42.84375 61.546875  Q 39.203125 64.796875 32.078125 64.796875  z \" id=\"DejaVuSans-52\"/>\n",
       "     <path id=\"DejaVuSans-20\"/>\n",
       "     <path d=\"M 9.8125 72.90625  L 23.09375 72.90625  L 55.421875 11.921875  L 55.421875 72.90625  L 64.984375 72.90625  L 64.984375 0  L 51.703125 0  L 19.390625 60.984375  L 19.390625 0  L 9.8125 0  z \" id=\"DejaVuSans-4e\"/>\n",
       "     <path d=\"M 56.203125 29.59375  L 56.203125 25.203125  L 14.890625 25.203125  Q 15.484375 15.921875 20.484375 11.0625  Q 25.484375 6.203125 34.421875 6.203125  Q 39.59375 6.203125 44.453125 7.46875  Q 49.3125 8.734375 54.109375 11.28125  L 54.109375 2.78125  Q 49.265625 0.734375 44.1875 -0.34375  Q 39.109375 -1.421875 33.890625 -1.421875  Q 20.796875 -1.421875 13.15625 6.1875  Q 5.515625 13.8125 5.515625 26.8125  Q 5.515625 40.234375 12.765625 48.109375  Q 20.015625 56 32.328125 56  Q 43.359375 56 49.78125 48.890625  Q 56.203125 41.796875 56.203125 29.59375  z M 47.21875 32.234375  Q 47.125 39.59375 43.09375 43.984375  Q 39.0625 48.390625 32.421875 48.390625  Q 24.90625 48.390625 20.390625 44.140625  Q 15.875 39.890625 15.1875 32.171875  z \" id=\"DejaVuSans-65\"/>\n",
       "     <path d=\"M 18.3125 70.21875  L 18.3125 54.6875  L 36.8125 54.6875  L 36.8125 47.703125  L 18.3125 47.703125  L 18.3125 18.015625  Q 18.3125 11.328125 20.140625 9.421875  Q 21.96875 7.515625 27.59375 7.515625  L 36.8125 7.515625  L 36.8125 0  L 27.59375 0  Q 17.1875 0 13.234375 3.875  Q 9.28125 7.765625 9.28125 18.015625  L 9.28125 47.703125  L 2.6875 47.703125  L 2.6875 54.6875  L 9.28125 54.6875  L 9.28125 70.21875  z \" id=\"DejaVuSans-74\"/>\n",
       "     <path d=\"M 4.203125 54.6875  L 13.1875 54.6875  L 24.421875 12.015625  L 35.59375 54.6875  L 46.1875 54.6875  L 57.421875 12.015625  L 68.609375 54.6875  L 77.59375 54.6875  L 63.28125 0  L 52.6875 0  L 40.921875 44.828125  L 29.109375 0  L 18.5 0  z \" id=\"DejaVuSans-77\"/>\n",
       "     <path d=\"M 41.109375 46.296875  Q 39.59375 47.171875 37.8125 47.578125  Q 36.03125 48 33.890625 48  Q 26.265625 48 22.1875 43.046875  Q 18.109375 38.09375 18.109375 28.8125  L 18.109375 0  L 9.078125 0  L 9.078125 54.6875  L 18.109375 54.6875  L 18.109375 46.1875  Q 20.953125 51.171875 25.484375 53.578125  Q 30.03125 56 36.53125 56  Q 37.453125 56 38.578125 55.875  Q 39.703125 55.765625 41.0625 55.515625  z \" id=\"DejaVuSans-72\"/>\n",
       "     <path d=\"M 9.078125 75.984375  L 18.109375 75.984375  L 18.109375 31.109375  L 44.921875 54.6875  L 56.390625 54.6875  L 27.390625 29.109375  L 57.625 0  L 45.90625 0  L 18.109375 26.703125  L 18.109375 0  L 9.078125 0  z \" id=\"DejaVuSans-6b\"/>\n",
       "     <path d=\"M 11.71875 12.40625  L 22.015625 12.40625  L 22.015625 0  L 11.71875 0  z M 11.71875 51.703125  L 22.015625 51.703125  L 22.015625 39.3125  L 11.71875 39.3125  z \" id=\"DejaVuSans-3a\"/>\n",
       "     <path d=\"M 9.8125 72.90625  L 19.671875 72.90625  L 19.671875 8.296875  L 55.171875 8.296875  L 55.171875 0  L 9.8125 0  z \" id=\"DejaVuSans-4c\"/>\n",
       "     <path d=\"M 44.28125 53.078125  L 44.28125 44.578125  Q 40.484375 46.53125 36.375 47.5  Q 32.28125 48.484375 27.875 48.484375  Q 21.1875 48.484375 17.84375 46.4375  Q 14.5 44.390625 14.5 40.28125  Q 14.5 37.15625 16.890625 35.375  Q 19.28125 33.59375 26.515625 31.984375  L 29.59375 31.296875  Q 39.15625 29.25 43.1875 25.515625  Q 47.21875 21.78125 47.21875 15.09375  Q 47.21875 7.46875 41.1875 3.015625  Q 35.15625 -1.421875 24.609375 -1.421875  Q 20.21875 -1.421875 15.453125 -0.5625  Q 10.6875 0.296875 5.421875 2  L 5.421875 11.28125  Q 10.40625 8.6875 15.234375 7.390625  Q 20.0625 6.109375 24.8125 6.109375  Q 31.15625 6.109375 34.5625 8.28125  Q 37.984375 10.453125 37.984375 14.40625  Q 37.984375 18.0625 35.515625 20.015625  Q 33.0625 21.96875 24.703125 23.78125  L 21.578125 24.515625  Q 13.234375 26.265625 9.515625 29.90625  Q 5.8125 33.546875 5.8125 39.890625  Q 5.8125 47.609375 11.28125 51.796875  Q 16.75 56 26.8125 56  Q 31.78125 56 36.171875 55.265625  Q 40.578125 54.546875 44.28125 53.078125  z \" id=\"DejaVuSans-73\"/>\n",
       "    </defs>\n",
       "    <g transform=\"translate(160.434375 28.56)scale(0.12 -0.12)\">\n",
       "     <use xlink:href=\"#DejaVuSans-58\"/>\n",
       "     <use x=\"68.412109\" xlink:href=\"#DejaVuSans-4f\"/>\n",
       "     <use x=\"147.123047\" xlink:href=\"#DejaVuSans-52\"/>\n",
       "     <use x=\"216.605469\" xlink:href=\"#DejaVuSans-32\"/>\n",
       "     <use x=\"280.228516\" xlink:href=\"#DejaVuSans-20\"/>\n",
       "     <use x=\"312.015625\" xlink:href=\"#DejaVuSans-4e\"/>\n",
       "     <use x=\"386.820312\" xlink:href=\"#DejaVuSans-65\"/>\n",
       "     <use x=\"448.34375\" xlink:href=\"#DejaVuSans-74\"/>\n",
       "     <use x=\"487.552734\" xlink:href=\"#DejaVuSans-77\"/>\n",
       "     <use x=\"569.339844\" xlink:href=\"#DejaVuSans-6f\"/>\n",
       "     <use x=\"630.521484\" xlink:href=\"#DejaVuSans-72\"/>\n",
       "     <use x=\"671.634766\" xlink:href=\"#DejaVuSans-6b\"/>\n",
       "     <use x=\"729.544922\" xlink:href=\"#DejaVuSans-3a\"/>\n",
       "     <use x=\"763.236328\" xlink:href=\"#DejaVuSans-20\"/>\n",
       "     <use x=\"795.023438\" xlink:href=\"#DejaVuSans-4c\"/>\n",
       "     <use x=\"850.720703\" xlink:href=\"#DejaVuSans-6f\"/>\n",
       "     <use x=\"911.902344\" xlink:href=\"#DejaVuSans-73\"/>\n",
       "     <use x=\"964.001953\" xlink:href=\"#DejaVuSans-73\"/>\n",
       "    </g>\n",
       "   </g>\n",
       "   <g id=\"legend_1\">\n",
       "    <g id=\"patch_7\">\n",
       "     <path d=\"M 61 247  L 152.365625 247  Q 154.365625 247 154.365625 245  L 154.365625 231.321875  Q 154.365625 229.321875 152.365625 229.321875  L 61 229.321875  Q 59 229.321875 59 231.321875  L 59 245  Q 59 247 61 247  z \" style=\"fill:#ffffff;opacity:0.8;stroke:#cccccc;stroke-linejoin:miter;\"/>\n",
       "    </g>\n",
       "    <g id=\"line2d_17\">\n",
       "     <path d=\"M 63 237.420312  L 83 237.420312  \" style=\"fill:none;stroke:#1f77b4;stroke-linecap:square;stroke-width:1.5;\"/>\n",
       "    </g>\n",
       "    <g id=\"line2d_18\"/>\n",
       "    <g id=\"text_18\">\n",
       "     <!-- Training set -->\n",
       "     <defs>\n",
       "      <path d=\"M -0.296875 72.90625  L 61.375 72.90625  L 61.375 64.59375  L 35.5 64.59375  L 35.5 0  L 25.59375 0  L 25.59375 64.59375  L -0.296875 64.59375  z \" id=\"DejaVuSans-54\"/>\n",
       "      <path d=\"M 34.28125 27.484375  Q 23.390625 27.484375 19.1875 25  Q 14.984375 22.515625 14.984375 16.5  Q 14.984375 11.71875 18.140625 8.90625  Q 21.296875 6.109375 26.703125 6.109375  Q 34.1875 6.109375 38.703125 11.40625  Q 43.21875 16.703125 43.21875 25.484375  L 43.21875 27.484375  z M 52.203125 31.203125  L 52.203125 0  L 43.21875 0  L 43.21875 8.296875  Q 40.140625 3.328125 35.546875 0.953125  Q 30.953125 -1.421875 24.3125 -1.421875  Q 15.921875 -1.421875 10.953125 3.296875  Q 6 8.015625 6 15.921875  Q 6 25.140625 12.171875 29.828125  Q 18.359375 34.515625 30.609375 34.515625  L 43.21875 34.515625  L 43.21875 35.40625  Q 43.21875 41.609375 39.140625 45  Q 35.0625 48.390625 27.6875 48.390625  Q 23 48.390625 18.546875 47.265625  Q 14.109375 46.140625 10.015625 43.890625  L 10.015625 52.203125  Q 14.9375 54.109375 19.578125 55.046875  Q 24.21875 56 28.609375 56  Q 40.484375 56 46.34375 49.84375  Q 52.203125 43.703125 52.203125 31.203125  z \" id=\"DejaVuSans-61\"/>\n",
       "      <path d=\"M 9.421875 54.6875  L 18.40625 54.6875  L 18.40625 0  L 9.421875 0  z M 9.421875 75.984375  L 18.40625 75.984375  L 18.40625 64.59375  L 9.421875 64.59375  z \" id=\"DejaVuSans-69\"/>\n",
       "      <path d=\"M 54.890625 33.015625  L 54.890625 0  L 45.90625 0  L 45.90625 32.71875  Q 45.90625 40.484375 42.875 44.328125  Q 39.84375 48.1875 33.796875 48.1875  Q 26.515625 48.1875 22.3125 43.546875  Q 18.109375 38.921875 18.109375 30.90625  L 18.109375 0  L 9.078125 0  L 9.078125 54.6875  L 18.109375 54.6875  L 18.109375 46.1875  Q 21.34375 51.125 25.703125 53.5625  Q 30.078125 56 35.796875 56  Q 45.21875 56 50.046875 50.171875  Q 54.890625 44.34375 54.890625 33.015625  z \" id=\"DejaVuSans-6e\"/>\n",
       "      <path d=\"M 45.40625 27.984375  Q 45.40625 37.75 41.375 43.109375  Q 37.359375 48.484375 30.078125 48.484375  Q 22.859375 48.484375 18.828125 43.109375  Q 14.796875 37.75 14.796875 27.984375  Q 14.796875 18.265625 18.828125 12.890625  Q 22.859375 7.515625 30.078125 7.515625  Q 37.359375 7.515625 41.375 12.890625  Q 45.40625 18.265625 45.40625 27.984375  z M 54.390625 6.78125  Q 54.390625 -7.171875 48.1875 -13.984375  Q 42 -20.796875 29.203125 -20.796875  Q 24.46875 -20.796875 20.265625 -20.09375  Q 16.0625 -19.390625 12.109375 -17.921875  L 12.109375 -9.1875  Q 16.0625 -11.328125 19.921875 -12.34375  Q 23.78125 -13.375 27.78125 -13.375  Q 36.625 -13.375 41.015625 -8.765625  Q 45.40625 -4.15625 45.40625 5.171875  L 45.40625 9.625  Q 42.625 4.78125 38.28125 2.390625  Q 33.9375 0 27.875 0  Q 17.828125 0 11.671875 7.65625  Q 5.515625 15.328125 5.515625 27.984375  Q 5.515625 40.671875 11.671875 48.328125  Q 17.828125 56 27.875 56  Q 33.9375 56 38.28125 53.609375  Q 42.625 51.21875 45.40625 46.390625  L 45.40625 54.6875  L 54.390625 54.6875  z \" id=\"DejaVuSans-67\"/>\n",
       "     </defs>\n",
       "     <g transform=\"translate(91 240.920312)scale(0.1 -0.1)\">\n",
       "      <use xlink:href=\"#DejaVuSans-54\"/>\n",
       "      <use x=\"60.865234\" xlink:href=\"#DejaVuSans-72\"/>\n",
       "      <use x=\"101.978516\" xlink:href=\"#DejaVuSans-61\"/>\n",
       "      <use x=\"163.257812\" xlink:href=\"#DejaVuSans-69\"/>\n",
       "      <use x=\"191.041016\" xlink:href=\"#DejaVuSans-6e\"/>\n",
       "      <use x=\"254.419922\" xlink:href=\"#DejaVuSans-69\"/>\n",
       "      <use x=\"282.203125\" xlink:href=\"#DejaVuSans-6e\"/>\n",
       "      <use x=\"345.582031\" xlink:href=\"#DejaVuSans-67\"/>\n",
       "      <use x=\"409.058594\" xlink:href=\"#DejaVuSans-20\"/>\n",
       "      <use x=\"440.845703\" xlink:href=\"#DejaVuSans-73\"/>\n",
       "      <use x=\"492.945312\" xlink:href=\"#DejaVuSans-65\"/>\n",
       "      <use x=\"554.46875\" xlink:href=\"#DejaVuSans-74\"/>\n",
       "     </g>\n",
       "    </g>\n",
       "   </g>\n",
       "  </g>\n",
       " </g>\n",
       " <defs>\n",
       "  <clipPath id=\"pe9e39565ae\">\n",
       "   <rect height=\"217.44\" width=\"334.8\" x=\"54\" y=\"34.56\"/>\n",
       "  </clipPath>\n",
       " </defs>\n",
       "</svg>"
      ],
      "text/plain": [
       "<IPython.core.display.SVG object>"
      ]
     },
     "metadata": {},
     "output_type": "display_data"
    },
    {
     "name": "stdout",
     "output_type": "stream",
     "text": [
      "========================================================================\n",
      "       |  Training |   output1 |   output2 \n",
      "Epochs |     Error |       acc |       acc \n",
      "------ | --------- | --------- | --------- \n",
      "# 1537 |   0.01169 |   1.00000 |   1.00000 \n"
     ]
    }
   ],
   "source": [
    "net.train(epochs=2000, accuracy=1.0, report_rate=25, plot=True)"
   ]
  },
  {
   "cell_type": "code",
   "execution_count": 37,
   "metadata": {},
   "outputs": [
    {
     "data": {
      "text/plain": [
       "[[0.53162831], [0.48087591]]"
      ]
     },
     "execution_count": 37,
     "metadata": {},
     "output_type": "execute_result"
    }
   ],
   "source": [
    "net.propagate_from(\"shared-hidden\", [0.0] * 5)"
   ]
  },
  {
   "cell_type": "code",
   "execution_count": 38,
   "metadata": {},
   "outputs": [
    {
     "data": {
      "text/plain": [
       "[0.7412692904472351,\n",
       " 0.21025732159614563,\n",
       " 0.10109291225671768,\n",
       " 0.2285163849592209,\n",
       " 0.16248318552970886,\n",
       " 0.14068926870822906,\n",
       " 0.28485798835754395,\n",
       " 0.8719057440757751,\n",
       " 0.2060094028711319,\n",
       " 0.39646267890930176]"
      ]
     },
     "execution_count": 38,
     "metadata": {},
     "output_type": "execute_result"
    }
   ],
   "source": [
    "net.propagate_to(\"hidden1\", [[1], [1]])"
   ]
  },
  {
   "cell_type": "code",
   "execution_count": 39,
   "metadata": {},
   "outputs": [
    {
     "name": "stdout",
     "output_type": "stream",
     "text": [
      "========================================================\n",
      "Testing train dataset with tolerance 0.1000...\n",
      "Total count: 4\n",
      "      correct: 4\n",
      "      incorrect: 0\n",
      "Total percentage correct: 1.0\n"
     ]
    }
   ],
   "source": [
    "net.test()"
   ]
  },
  {
   "cell_type": "code",
   "execution_count": 40,
   "metadata": {},
   "outputs": [],
   "source": [
    "net.dataset.slice(2)"
   ]
  },
  {
   "cell_type": "code",
   "execution_count": 41,
   "metadata": {},
   "outputs": [
    {
     "name": "stdout",
     "output_type": "stream",
     "text": [
      "No training required: accuracy already to desired value\n",
      "Training dataset status:\n",
      "       |  Training |   output1 |   output2 \n",
      "Epochs |     Error |       acc |       acc \n",
      "------ | --------- | --------- | --------- \n",
      "# 1537 |   0.01169 |   1.00000 |   1.00000 \n"
     ]
    }
   ],
   "source": [
    "net.train(epochs=2000, accuracy=1.0, report_rate=25)"
   ]
  }
 ],
 "metadata": {
  "kernelspec": {
   "display_name": "Python 3",
   "language": "python",
   "name": "python3"
  },
  "language_info": {
   "codemirror_mode": {
    "name": "ipython",
    "version": 3
   },
   "file_extension": ".py",
   "mimetype": "text/x-python",
   "name": "python",
   "nbconvert_exporter": "python",
   "pygments_lexer": "ipython3",
   "version": "3.6.3"
  },
  "widgets": {
   "application/vnd.jupyter.widget-state+json": {
    "state": {
     "0026f97660724613a206291bd3b5ad8c": {
      "model_module": "@jupyter-widgets/base",
      "model_module_version": "1.0.0",
      "model_name": "LayoutModel",
      "state": {
       "width": "100%"
      }
     },
     "01434a2cc0a94a95b8ec8d4e672f8188": {
      "model_module": "@jupyter-widgets/controls",
      "model_module_version": "1.0.0",
      "model_name": "DescriptionStyleModel",
      "state": {
       "description_width": "initial"
      }
     },
     "01ce3f5e29014b0c970c6a9337495882": {
      "model_module": "@jupyter-widgets/base",
      "model_module_version": "1.0.0",
      "model_name": "LayoutModel",
      "state": {}
     },
     "02560e0a618c45a6a877e58d6b00bcb0": {
      "model_module": "@jupyter-widgets/controls",
      "model_module_version": "1.0.0",
      "model_name": "IntTextModel",
      "state": {
       "description": "Horizontal space between banks:",
       "layout": "IPY_MODEL_0733ab47b5cd42a78da6c77993e20fa5",
       "step": 1,
       "style": "IPY_MODEL_ccff427421894164a19819a3c1666ecc",
       "value": 150
      }
     },
     "028f997ff9c94bbfaa845ccf9d8ebf30": {
      "model_module": "@jupyter-widgets/controls",
      "model_module_version": "1.0.0",
      "model_name": "FloatTextModel",
      "state": {
       "description": "Feature scale:",
       "layout": "IPY_MODEL_d2316a28fe2849c19a7acb9fc1a897e0",
       "step": null,
       "style": "IPY_MODEL_b735ad50146e4ac6850a51c1afdb669b",
       "value": 2
      }
     },
     "04c96083a9f74930b7d97db379ebbbbb": {
      "model_module": "@jupyter-widgets/base",
      "model_module_version": "1.0.0",
      "model_name": "LayoutModel",
      "state": {
       "width": "100%"
      }
     },
     "06a83d7fa5fb457787efa29d7e3c1ac8": {
      "model_module": "@jupyter-widgets/controls",
      "model_module_version": "1.0.0",
      "model_name": "ButtonStyleModel",
      "state": {}
     },
     "0733ab47b5cd42a78da6c77993e20fa5": {
      "model_module": "@jupyter-widgets/base",
      "model_module_version": "1.0.0",
      "model_name": "LayoutModel",
      "state": {}
     },
     "07562e0bf0c049eaa3237b2bfe22fd29": {
      "model_module": "@jupyter-widgets/controls",
      "model_module_version": "1.0.0",
      "model_name": "FloatTextModel",
      "state": {
       "description": "Rightmost color maps to:",
       "layout": "IPY_MODEL_fa59230725384b14b3e1170cfdd8bfdf",
       "step": null,
       "style": "IPY_MODEL_0ada3d1e8a804b6e925de3f15861f1e2",
       "value": 1
      }
     },
     "0763d645e4e340d1bc8211d83f287337": {
      "model_module": "@jupyter-widgets/controls",
      "model_module_version": "1.0.0",
      "model_name": "LabelModel",
      "state": {
       "layout": "IPY_MODEL_9068e4b2119d46958aab03ee0fc4e326",
       "style": "IPY_MODEL_ae85cabc62044eb180ac845d3eaeb35e",
       "value": "of 0"
      }
     },
     "07c5c7e1598a48fe9026191ce8456b4a": {
      "model_module": "@jupyter-widgets/controls",
      "model_module_version": "1.0.0",
      "model_name": "DescriptionStyleModel",
      "state": {
       "description_width": ""
      }
     },
     "081c8e433a3a492b8ad39fb8fbbdefb2": {
      "model_module": "@jupyter-widgets/controls",
      "model_module_version": "1.0.0",
      "model_name": "AccordionModel",
      "state": {
       "_titles": {
        "0": "XOR Network"
       },
       "children": [
        "IPY_MODEL_114752b861a34e5eb472c7d0b9dd0944"
       ],
       "layout": "IPY_MODEL_763ff53388c344d59d8a1e7022abb24e",
       "selected_index": null
      }
     },
     "0983c26d2c4d4aaeb1b5f7d8de0d7dbf": {
      "model_module": "@jupyter-widgets/base",
      "model_module_version": "1.0.0",
      "model_name": "LayoutModel",
      "state": {
       "width": "100%"
      }
     },
     "098c1ba3b35d49e7bcd0ac10483608d2": {
      "model_module": "@jupyter-widgets/base",
      "model_module_version": "1.0.0",
      "model_name": "LayoutModel",
      "state": {}
     },
     "09951b9621be495e895d5780ace271dc": {
      "model_module": "@jupyter-widgets/controls",
      "model_module_version": "1.0.0",
      "model_name": "CheckboxModel",
      "state": {
       "description": "Show Targets",
       "disabled": false,
       "layout": "IPY_MODEL_965fefa61e1a41e5b42803f3156aa187",
       "style": "IPY_MODEL_f635c6f27911445aa0d6feade708e611",
       "value": false
      }
     },
     "09a677ec12924aec8c85c26cc4b4342c": {
      "model_module": "@jupyter-widgets/controls",
      "model_module_version": "1.0.0",
      "model_name": "SelectModel",
      "state": {
       "_options_labels": [
        "",
        "Accent",
        "Accent_r",
        "Blues",
        "Blues_r",
        "BrBG",
        "BrBG_r",
        "BuGn",
        "BuGn_r",
        "BuPu",
        "BuPu_r",
        "CMRmap",
        "CMRmap_r",
        "Dark2",
        "Dark2_r",
        "GnBu",
        "GnBu_r",
        "Greens",
        "Greens_r",
        "Greys",
        "Greys_r",
        "OrRd",
        "OrRd_r",
        "Oranges",
        "Oranges_r",
        "PRGn",
        "PRGn_r",
        "Paired",
        "Paired_r",
        "Pastel1",
        "Pastel1_r",
        "Pastel2",
        "Pastel2_r",
        "PiYG",
        "PiYG_r",
        "PuBu",
        "PuBuGn",
        "PuBuGn_r",
        "PuBu_r",
        "PuOr",
        "PuOr_r",
        "PuRd",
        "PuRd_r",
        "Purples",
        "Purples_r",
        "RdBu",
        "RdBu_r",
        "RdGy",
        "RdGy_r",
        "RdPu",
        "RdPu_r",
        "RdYlBu",
        "RdYlBu_r",
        "RdYlGn",
        "RdYlGn_r",
        "Reds",
        "Reds_r",
        "Set1",
        "Set1_r",
        "Set2",
        "Set2_r",
        "Set3",
        "Set3_r",
        "Spectral",
        "Spectral_r",
        "Vega10",
        "Vega10_r",
        "Vega20",
        "Vega20_r",
        "Vega20b",
        "Vega20b_r",
        "Vega20c",
        "Vega20c_r",
        "Wistia",
        "Wistia_r",
        "YlGn",
        "YlGnBu",
        "YlGnBu_r",
        "YlGn_r",
        "YlOrBr",
        "YlOrBr_r",
        "YlOrRd",
        "YlOrRd_r",
        "afmhot",
        "afmhot_r",
        "autumn",
        "autumn_r",
        "binary",
        "binary_r",
        "bone",
        "bone_r",
        "brg",
        "brg_r",
        "bwr",
        "bwr_r",
        "cool",
        "cool_r",
        "coolwarm",
        "coolwarm_r",
        "copper",
        "copper_r",
        "cubehelix",
        "cubehelix_r",
        "flag",
        "flag_r",
        "gist_earth",
        "gist_earth_r",
        "gist_gray",
        "gist_gray_r",
        "gist_heat",
        "gist_heat_r",
        "gist_ncar",
        "gist_ncar_r",
        "gist_rainbow",
        "gist_rainbow_r",
        "gist_stern",
        "gist_stern_r",
        "gist_yarg",
        "gist_yarg_r",
        "gnuplot",
        "gnuplot2",
        "gnuplot2_r",
        "gnuplot_r",
        "gray",
        "gray_r",
        "hot",
        "hot_r",
        "hsv",
        "hsv_r",
        "inferno",
        "inferno_r",
        "jet",
        "jet_r",
        "magma",
        "magma_r",
        "nipy_spectral",
        "nipy_spectral_r",
        "ocean",
        "ocean_r",
        "pink",
        "pink_r",
        "plasma",
        "plasma_r",
        "prism",
        "prism_r",
        "rainbow",
        "rainbow_r",
        "seismic",
        "seismic_r",
        "spectral",
        "spectral_r",
        "spring",
        "spring_r",
        "summer",
        "summer_r",
        "tab10",
        "tab10_r",
        "tab20",
        "tab20_r",
        "tab20b",
        "tab20b_r",
        "tab20c",
        "tab20c_r",
        "terrain",
        "terrain_r",
        "viridis",
        "viridis_r",
        "winter",
        "winter_r"
       ],
       "description": "Colormap:",
       "index": 0,
       "layout": "IPY_MODEL_965fefa61e1a41e5b42803f3156aa187",
       "rows": 1,
       "style": "IPY_MODEL_76f7f665b8854359ab93ab1147daa94f"
      }
     },
     "0ac1f7f4f98845c9bf05d49a058ee034": {
      "model_module": "@jupyter-widgets/controls",
      "model_module_version": "1.0.0",
      "model_name": "SliderStyleModel",
      "state": {
       "description_width": ""
      }
     },
     "0ada3d1e8a804b6e925de3f15861f1e2": {
      "model_module": "@jupyter-widgets/controls",
      "model_module_version": "1.0.0",
      "model_name": "DescriptionStyleModel",
      "state": {
       "description_width": "initial"
      }
     },
     "0b3f1977a1cf482eb204ebdae8c03088": {
      "model_module": "@jupyter-widgets/controls",
      "model_module_version": "1.0.0",
      "model_name": "ButtonStyleModel",
      "state": {}
     },
     "0f11abd31d114ad7acceb669c3e2233c": {
      "model_module": "@jupyter-widgets/base",
      "model_module_version": "1.0.0",
      "model_name": "LayoutModel",
      "state": {}
     },
     "0f8c1403993d4d168e687fde163cecc9": {
      "model_module": "@jupyter-widgets/base",
      "model_module_version": "1.0.0",
      "model_name": "LayoutModel",
      "state": {
       "width": "100%"
      }
     },
     "101fff870282403abfae5d79270cc8e3": {
      "model_module": "@jupyter-widgets/controls",
      "model_module_version": "1.0.0",
      "model_name": "HTMLModel",
      "state": {
       "layout": "IPY_MODEL_c01452ef16a34a91b6a387930197131f",
       "style": "IPY_MODEL_acdbbadbf4c04b19a828789a66e6e4cc",
       "value": "<img src=\"data:image/gif;base64,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\"/>"
      }
     },
     "10b13c7437fe44ceaf4237b6cc93e697": {
      "model_module": "@jupyter-widgets/controls",
      "model_module_version": "1.0.0",
      "model_name": "ButtonStyleModel",
      "state": {}
     },
     "114752b861a34e5eb472c7d0b9dd0944": {
      "model_module": "@jupyter-widgets/controls",
      "model_module_version": "1.0.0",
      "model_name": "HBoxModel",
      "state": {
       "children": [
        "IPY_MODEL_6c3c301b93354d10853445baf3b3ab4c",
        "IPY_MODEL_5ae6200fa2474b13be553fe4dd89fba2"
       ],
       "layout": "IPY_MODEL_0f11abd31d114ad7acceb669c3e2233c"
      }
     },
     "1186ec11071f4babba6512cf62412f30": {
      "model_module": "@jupyter-widgets/controls",
      "model_module_version": "1.0.0",
      "model_name": "ButtonModel",
      "state": {
       "icon": "refresh",
       "layout": "IPY_MODEL_a41c053ee42c4d37a8b91f51618c876a",
       "style": "IPY_MODEL_9858f3a92a9a4f01b68fd6cb285b95d9"
      }
     },
     "11a0d9f5301d49a9b1fa89622d2c67a8": {
      "model_module": "@jupyter-widgets/controls",
      "model_module_version": "1.0.0",
      "model_name": "ButtonStyleModel",
      "state": {}
     },
     "122af9119290410d87614b9a2612ef2e": {
      "model_module": "@jupyter-widgets/base",
      "model_module_version": "1.0.0",
      "model_name": "LayoutModel",
      "state": {}
     },
     "124c0769b6c14b3d9892c266337611c5": {
      "model_module": "@jupyter-widgets/base",
      "model_module_version": "1.0.0",
      "model_name": "LayoutModel",
      "state": {
       "width": "100%"
      }
     },
     "12aa03d86a9a456fba485aaf7aebe9f0": {
      "model_module": "@jupyter-widgets/base",
      "model_module_version": "1.0.0",
      "model_name": "LayoutModel",
      "state": {}
     },
     "13c09aa4e30545378ff5334263774182": {
      "model_module": "@jupyter-widgets/base",
      "model_module_version": "1.0.0",
      "model_name": "LayoutModel",
      "state": {}
     },
     "13ffa0f9d1ca43dfb9d5e29fbac55f46": {
      "model_module": "@jupyter-widgets/controls",
      "model_module_version": "1.0.0",
      "model_name": "ButtonStyleModel",
      "state": {}
     },
     "15467d627eb94f80838ff2f12746a0fa": {
      "model_module": "@jupyter-widgets/controls",
      "model_module_version": "1.0.0",
      "model_name": "ButtonStyleModel",
      "state": {}
     },
     "18732705723641f4b7a8a25ae8df4540": {
      "model_module": "@jupyter-widgets/controls",
      "model_module_version": "1.0.0",
      "model_name": "ButtonModel",
      "state": {
       "icon": "fast-backward",
       "layout": "IPY_MODEL_d19b172a893749beba28e9128cd61cf1",
       "style": "IPY_MODEL_10b13c7437fe44ceaf4237b6cc93e697"
      }
     },
     "1888907361e64d12ba1f3eb2761f398e": {
      "model_module": "@jupyter-widgets/controls",
      "model_module_version": "1.0.0",
      "model_name": "IntTextModel",
      "state": {
       "description": "Horizontal space between banks:",
       "layout": "IPY_MODEL_38857e0b0e4144c0b46e419ee77c45e7",
       "step": 1,
       "style": "IPY_MODEL_36086bab7e7e4eb5a18a4908ef80c1cb",
       "value": 200
      }
     },
     "19cc554f8612407492e295ccf319e3c0": {
      "model_module": "@jupyter-widgets/base",
      "model_module_version": "1.0.0",
      "model_name": "LayoutModel",
      "state": {
       "width": "100%"
      }
     },
     "1a585d21ebae48eca26c0d67ed6e430b": {
      "model_module": "@jupyter-widgets/controls",
      "model_module_version": "1.0.0",
      "model_name": "ButtonStyleModel",
      "state": {}
     },
     "1c861609739c4ff48aea7a72f6147a16": {
      "model_module": "@jupyter-widgets/controls",
      "model_module_version": "1.0.0",
      "model_name": "DescriptionStyleModel",
      "state": {
       "description_width": ""
      }
     },
     "1d2004af23af4381a327ec269b417690": {
      "model_module": "@jupyter-widgets/controls",
      "model_module_version": "1.0.0",
      "model_name": "DescriptionStyleModel",
      "state": {
       "description_width": "initial"
      }
     },
     "1d630b0c5ad348259a641e45c67506f2": {
      "model_module": "@jupyter-widgets/controls",
      "model_module_version": "1.0.0",
      "model_name": "HBoxModel",
      "state": {
       "children": [
        "IPY_MODEL_5caf423ba0b04a5e91c3e6909e16b191",
        "IPY_MODEL_fd689e66667f43edabf157e40858a078"
       ],
       "layout": "IPY_MODEL_ce6538cd3ae84572856cf5c579d0f79c"
      }
     },
     "1e79d0036b2240acbced8a987ff9e88e": {
      "model_module": "@jupyter-widgets/controls",
      "model_module_version": "1.0.0",
      "model_name": "FloatTextModel",
      "state": {
       "description": "Rightmost color maps to:",
       "layout": "IPY_MODEL_2259b8af3aa549a0ab6551b6eedef053",
       "step": null,
       "style": "IPY_MODEL_b5f41d0598bc4a47b24b0b3909d17ea8",
       "value": 1
      }
     },
     "1fed749287564be7950abf39ee71aab1": {
      "model_module": "@jupyter-widgets/controls",
      "model_module_version": "1.0.0",
      "model_name": "DescriptionStyleModel",
      "state": {
       "description_width": ""
      }
     },
     "200153f5774f42a883c94152a838ff9f": {
      "model_module": "@jupyter-widgets/controls",
      "model_module_version": "1.0.0",
      "model_name": "ButtonModel",
      "state": {
       "icon": "forward",
       "layout": "IPY_MODEL_0026f97660724613a206291bd3b5ad8c",
       "style": "IPY_MODEL_06a83d7fa5fb457787efa29d7e3c1ac8"
      }
     },
     "20d2aa0550d54f6f96b8ee863416ad93": {
      "model_module": "@jupyter-widgets/base",
      "model_module_version": "1.0.0",
      "model_name": "LayoutModel",
      "state": {}
     },
     "2158cefba61d44a6af1702df18f283fe": {
      "model_module": "@jupyter-widgets/controls",
      "model_module_version": "1.0.0",
      "model_name": "FloatTextModel",
      "state": {
       "description": "Leftmost color maps to:",
       "layout": "IPY_MODEL_68f92e974d97409798e0ba666fe53766",
       "step": null,
       "style": "IPY_MODEL_f4a094c425814a88bd48b9e03901bc1c"
      }
     },
     "21b7407f10e54f37b19b1565e313455f": {
      "model_module": "@jupyter-widgets/base",
      "model_module_version": "1.0.0",
      "model_name": "LayoutModel",
      "state": {
       "width": "100%"
      }
     },
     "2259b8af3aa549a0ab6551b6eedef053": {
      "model_module": "@jupyter-widgets/base",
      "model_module_version": "1.0.0",
      "model_name": "LayoutModel",
      "state": {}
     },
     "228dcf093be74306ae578577965a8560": {
      "model_module": "@jupyter-widgets/base",
      "model_module_version": "1.0.0",
      "model_name": "LayoutModel",
      "state": {
       "width": "100%"
      }
     },
     "23642b1b971741bea1cbeb32562c49bd": {
      "model_module": "@jupyter-widgets/controls",
      "model_module_version": "1.0.0",
      "model_name": "DescriptionStyleModel",
      "state": {
       "description_width": "initial"
      }
     },
     "241cd5fa680045f2afb0372a893933f1": {
      "model_module": "@jupyter-widgets/controls",
      "model_module_version": "1.0.0",
      "model_name": "VBoxModel",
      "state": {
       "children": [
        "IPY_MODEL_c299b90d84a64c55b53e1e350eff4048",
        "IPY_MODEL_5fda1cd4f9ce4e23b4293e464ae52a4b"
       ],
       "layout": "IPY_MODEL_87d22ade3cd34484b10b815a877ef527"
      }
     },
     "2481faefddd641c388b8b5ab5e704352": {
      "model_module": "@jupyter-widgets/controls",
      "model_module_version": "1.0.0",
      "model_name": "DescriptionStyleModel",
      "state": {
       "description_width": ""
      }
     },
     "281cdf4c1c24445bb6f46a7315be2967": {
      "model_module": "@jupyter-widgets/controls",
      "model_module_version": "1.0.0",
      "model_name": "HBoxModel",
      "state": {
       "children": [
        "IPY_MODEL_88dee1cd19564587a700839b6dbf830d",
        "IPY_MODEL_7904a8d3fbcb4c65a7cc574fb60bc0e6"
       ],
       "layout": "IPY_MODEL_87d49d0e32054136a0c70cad42a0bb6b"
      }
     },
     "28238d73c5164699a7bb901628d93a42": {
      "model_module": "@jupyter-widgets/controls",
      "model_module_version": "1.0.0",
      "model_name": "IntTextModel",
      "state": {
       "description": "Feature columns:",
       "layout": "IPY_MODEL_64420f42857049a9a21a682b1bbceef2",
       "step": 1,
       "style": "IPY_MODEL_ff16ace8ae544006858abbf9c5cdacc9",
       "value": 3
      }
     },
     "2ac8acde5bcd4d2f84a4749c05ccc470": {
      "model_module": "@jupyter-widgets/base",
      "model_module_version": "1.0.0",
      "model_name": "LayoutModel",
      "state": {}
     },
     "2c49db11a49b4e5d9008f3e46faf7ba6": {
      "model_module": "@jupyter-widgets/controls",
      "model_module_version": "1.0.0",
      "model_name": "FloatTextModel",
      "state": {
       "description": "Rightmost color maps to:",
       "layout": "IPY_MODEL_8995e01b73e94cc697711ec5438ecdc8",
       "step": null,
       "style": "IPY_MODEL_c7f408b3b32141d4bcfc87eee31bf675",
       "value": 1
      }
     },
     "2c5706d496ad422eb3cf18242440b4c7": {
      "model_module": "@jupyter-widgets/base",
      "model_module_version": "1.0.0",
      "model_name": "LayoutModel",
      "state": {}
     },
     "2c5ef887bd8e4ec8bb3871f179453c58": {
      "model_module": "@jupyter-widgets/base",
      "model_module_version": "1.0.0",
      "model_name": "LayoutModel",
      "state": {
       "width": "100%"
      }
     },
     "2ccbff546cd84fe49fe5f0f1a7af5806": {
      "model_module": "@jupyter-widgets/controls",
      "model_module_version": "1.0.0",
      "model_name": "AccordionModel",
      "state": {
       "_titles": {
        "0": "XOR2 Network"
       },
       "children": [
        "IPY_MODEL_6cb3a1f49c49415e8708c566dcf2492b"
       ],
       "layout": "IPY_MODEL_6cb036e188744688886aed2223631d12",
       "selected_index": null
      }
     },
     "2d0f0ad9f2b8448f959f34a1a3c7f298": {
      "model_module": "@jupyter-widgets/controls",
      "model_module_version": "1.0.0",
      "model_name": "SliderStyleModel",
      "state": {
       "description_width": ""
      }
     },
     "2e355c0ab59f4522b996ddeb620d3661": {
      "model_module": "@jupyter-widgets/base",
      "model_module_version": "1.0.0",
      "model_name": "LayoutModel",
      "state": {}
     },
     "303fa76f7a0e430487e758956fec57f0": {
      "model_module": "@jupyter-widgets/controls",
      "model_module_version": "1.0.0",
      "model_name": "VBoxModel",
      "state": {
       "children": [
        "IPY_MODEL_85a242858c4f42f49fb3acaa1f512c2e",
        "IPY_MODEL_654548ecabcc49ce93c7df48e3114b07",
        "IPY_MODEL_1888907361e64d12ba1f3eb2761f398e",
        "IPY_MODEL_e7c4459c83de4441951bec122cc1b6b7",
        "IPY_MODEL_1d630b0c5ad348259a641e45c67506f2",
        "IPY_MODEL_364a08099e674652a3471f4d8ee284ec",
        "IPY_MODEL_9e9a38cb76464278bb8be40a9915618d",
        "IPY_MODEL_028f997ff9c94bbfaa845ccf9d8ebf30"
       ],
       "layout": "IPY_MODEL_4d71455ca4004d508ee5005c201873b5"
      }
     },
     "30d56ce07b7f4411a874d828cae786f8": {
      "model_module": "@jupyter-widgets/base",
      "model_module_version": "1.0.0",
      "model_name": "LayoutModel",
      "state": {
       "justify_content": "center",
       "overflow_x": "auto",
       "overflow_y": "auto",
       "width": "95%"
      }
     },
     "3133eee84948489c9c43fb9e97843f91": {
      "model_module": "@jupyter-widgets/controls",
      "model_module_version": "1.0.0",
      "model_name": "DescriptionStyleModel",
      "state": {
       "description_width": ""
      }
     },
     "325ef4df9d1f48ceac534be8e22a63bc": {
      "model_module": "@jupyter-widgets/controls",
      "model_module_version": "1.0.0",
      "model_name": "DescriptionStyleModel",
      "state": {
       "description_width": ""
      }
     },
     "33fafbf084fa4513a1e63b548b96f526": {
      "model_module": "@jupyter-widgets/controls",
      "model_module_version": "1.0.0",
      "model_name": "VBoxModel",
      "state": {
       "children": [
        "IPY_MODEL_c0cb20a9051f43b185022784bf93ee6d",
        "IPY_MODEL_b4ab75a8f5e94690b75d15c4fcfc0556",
        "IPY_MODEL_09a677ec12924aec8c85c26cc4b4342c",
        "IPY_MODEL_101fff870282403abfae5d79270cc8e3",
        "IPY_MODEL_66c4c473a1aa4b8ba78d26b2600ced1a",
        "IPY_MODEL_2c49db11a49b4e5d9008f3e46faf7ba6",
        "IPY_MODEL_819402d66fa14bb5a2b39dce5ffa33ab"
       ],
       "layout": "IPY_MODEL_ae5c19eb0cc2440cad23a6c1817ca062"
      }
     },
     "348dc24a8acd4f1bbf16dcea2506b9ee": {
      "model_module": "@jupyter-widgets/base",
      "model_module_version": "1.0.0",
      "model_name": "LayoutModel",
      "state": {
       "width": "100%"
      }
     },
     "352af412ade742fb8ece80b2da1ce603": {
      "model_module": "@jupyter-widgets/base",
      "model_module_version": "1.0.0",
      "model_name": "LayoutModel",
      "state": {
       "width": "100%"
      }
     },
     "35ceece14e5b453baf8a6de464517b15": {
      "model_module": "@jupyter-widgets/controls",
      "model_module_version": "1.0.0",
      "model_name": "ButtonModel",
      "state": {
       "icon": "fast-forward",
       "layout": "IPY_MODEL_82a50a94df924fb18dbc34983ad3077a",
       "style": "IPY_MODEL_7cb41573cdfb400e9a4d57765148a8f6"
      }
     },
     "36086bab7e7e4eb5a18a4908ef80c1cb": {
      "model_module": "@jupyter-widgets/controls",
      "model_module_version": "1.0.0",
      "model_name": "DescriptionStyleModel",
      "state": {
       "description_width": "initial"
      }
     },
     "3645d3c2931e4badb6e594ec631bfc32": {
      "model_module": "@jupyter-widgets/base",
      "model_module_version": "1.0.0",
      "model_name": "LayoutModel",
      "state": {
       "width": "100%"
      }
     },
     "364a08099e674652a3471f4d8ee284ec": {
      "model_module": "@jupyter-widgets/controls",
      "model_module_version": "1.0.0",
      "model_name": "SelectModel",
      "state": {
       "_options_labels": [
        ""
       ],
       "description": "Features:",
       "index": 0,
       "layout": "IPY_MODEL_99809ffc6a5e479497af333273fef7cd",
       "rows": 1,
       "style": "IPY_MODEL_325ef4df9d1f48ceac534be8e22a63bc"
      }
     },
     "37c7bd86f35745c5be2e9e918f219964": {
      "model_module": "@jupyter-widgets/controls",
      "model_module_version": "1.0.0",
      "model_name": "FloatSliderModel",
      "state": {
       "continuous_update": false,
       "description": "Zoom",
       "layout": "IPY_MODEL_9e11ffe472424d9186335a75da60c82d",
       "max": 3,
       "min": 0.5,
       "step": 0.1,
       "style": "IPY_MODEL_0ac1f7f4f98845c9bf05d49a058ee034",
       "value": 1
      }
     },
     "37eb40c5a6b04a2c8761085ab4281fd7": {
      "model_module": "@jupyter-widgets/controls",
      "model_module_version": "1.0.0",
      "model_name": "DescriptionStyleModel",
      "state": {
       "description_width": "initial"
      }
     },
     "38401272b46a4fabaa3fea04f0cbc3aa": {
      "model_module": "@jupyter-widgets/controls",
      "model_module_version": "1.0.0",
      "model_name": "ButtonModel",
      "state": {
       "icon": "backward",
       "layout": "IPY_MODEL_352af412ade742fb8ece80b2da1ce603",
       "style": "IPY_MODEL_bfff5c345ab347caa58ad3e79a27e13e"
      }
     },
     "38857e0b0e4144c0b46e419ee77c45e7": {
      "model_module": "@jupyter-widgets/base",
      "model_module_version": "1.0.0",
      "model_name": "LayoutModel",
      "state": {}
     },
     "3b69442939c142848f88ae73598fee8a": {
      "model_module": "@jupyter-widgets/base",
      "model_module_version": "1.0.0",
      "model_name": "LayoutModel",
      "state": {
       "width": "100%"
      }
     },
     "403130c147d44a02882819d6f20d73f5": {
      "model_module": "@jupyter-widgets/controls",
      "model_module_version": "1.0.0",
      "model_name": "DescriptionStyleModel",
      "state": {
       "description_width": ""
      }
     },
     "4276ef9ee59542cca7ec62d67c99b9fd": {
      "model_module": "@jupyter-widgets/controls",
      "model_module_version": "1.0.0",
      "model_name": "IntTextModel",
      "state": {
       "description": "Horizontal space between banks:",
       "layout": "IPY_MODEL_965fefa61e1a41e5b42803f3156aa187",
       "step": 1,
       "style": "IPY_MODEL_ff2e921169ea419fa039607d978d0e0c",
       "value": 200
      }
     },
     "42d15e94e69643b8a7816e6767aefb05": {
      "model_module": "@jupyter-widgets/controls",
      "model_module_version": "1.0.0",
      "model_name": "DescriptionStyleModel",
      "state": {
       "description_width": "initial"
      }
     },
     "4745b5632d6e497499fe75dacaf07308": {
      "model_module": "@jupyter-widgets/controls",
      "model_module_version": "1.0.0",
      "model_name": "DescriptionStyleModel",
      "state": {
       "description_width": ""
      }
     },
     "47d3b915675441e48002a53071e9db33": {
      "model_module": "@jupyter-widgets/base",
      "model_module_version": "1.0.0",
      "model_name": "LayoutModel",
      "state": {}
     },
     "481262b4aa5b499cbda6190f69bcd4bd": {
      "model_module": "@jupyter-widgets/base",
      "model_module_version": "1.0.0",
      "model_name": "LayoutModel",
      "state": {
       "width": "100px"
      }
     },
     "4a4f9be3059b47be85e37bf2e7654ff2": {
      "model_module": "@jupyter-widgets/base",
      "model_module_version": "1.0.0",
      "model_name": "LayoutModel",
      "state": {}
     },
     "4ac0db3c52914029b2fa518344d4b10f": {
      "model_module": "@jupyter-widgets/controls",
      "model_module_version": "1.0.0",
      "model_name": "IntTextModel",
      "state": {
       "description": "Vertical space between layers:",
       "layout": "IPY_MODEL_0733ab47b5cd42a78da6c77993e20fa5",
       "step": 1,
       "style": "IPY_MODEL_5b61b93b308e4f6392fe08b4c703a8d0",
       "value": 30
      }
     },
     "4b92fffa31174122aa966787785a1a68": {
      "model_module": "@jupyter-widgets/controls",
      "model_module_version": "1.0.0",
      "model_name": "ButtonModel",
      "state": {
       "icon": "fast-backward",
       "layout": "IPY_MODEL_124c0769b6c14b3d9892c266337611c5",
       "style": "IPY_MODEL_c5a585886ef642478537eb4fad441b97"
      }
     },
     "4d71455ca4004d508ee5005c201873b5": {
      "model_module": "@jupyter-widgets/base",
      "model_module_version": "1.0.0",
      "model_name": "LayoutModel",
      "state": {
       "width": "100%"
      }
     },
     "4dab2b66ba9b40769d5981da9060dee6": {
      "model_module": "@jupyter-widgets/controls",
      "model_module_version": "1.0.0",
      "model_name": "HTMLModel",
      "state": {
       "layout": "IPY_MODEL_30d56ce07b7f4411a874d828cae786f8",
       "style": "IPY_MODEL_865574b49ecb44ec937ff09b886bd931",
       "value": "<p style=\"text-align:center\"><svg id='XOR Network' xmlns='http://www.w3.org/2000/svg' viewBox=\"0 0 350 260\" height=\"780\" image-rendering=\"pixelated\">\n    <defs>\n        <marker id=\"arrow\" markerWidth=\"10\" markerHeight=\"10\" refX=\"9\" refY=\"3\" orient=\"auto\" markerUnits=\"strokeWidth\">\n          <path d=\"M0,0 L0,6 L9,3 z\" fill=\"black\" />\n        </marker>\n    </defs><text x=\"175.0\" y=\"12.5\" font-family=\"monospace\" font-size=\"15\" text-anchor=\"middle\" alignment-baseline=\"central\">XOR Network</text><rect x=\"149.0\" y=\"24\" width=\"52\" height=\"52\" style=\"fill:none;stroke:black;stroke-width:2\"/><image id=\"XOR Network_output_1\" class=\"XOR Network_output\" x=\"150.0\" y=\"25\" height=\"50\" width=\"50\" preserveAspectRatio=\"none\" href=\"data:image/gif;base64,R0lGODdhAQABAIcAAP9NTQAAAAAAAAAAAAAAAAAAAAAAAAAAAAAAAAAAAAAAAAAAAAAAAAAAAAAAAAAAAAAAAAAAAAAAAAAAAAAAAAAAAAAAAAAAAAAAAAAAAAAAAAAAAAAAAAAAAAAAAAAAAAAAAAAAAAAAAAAAAAAAAAAAAAAAAAAAAAAAAAAAAAAAAAAAAAAAAAAAAAAAAAAAAAAAAAAAAAAAAAAAAAAAAAAAAAAAAAAAAAAAAAAAAAAAAAAAAAAAAAAAAAAAAAAAAAAAAAAAAAAAAAAAAAAAAAAAAAAAAAAAAAAAAAAAAAAAAAAAAAAAAAAAAAAAAAAAAAAAAAAAAAAAAAAAAAAAAAAAAAAAAAAAAAAAAAAAAAAAAAAAAAAAAAAAAAAAAAAAAAAAAAAAAAAAAAAAAAAAAAAAAAAAAAAAAAAAAAAAAAAAAAAAAAAAAAAAAAAAAAAAAAAAAAAAAAAAAAAAAAAAAAAAAAAAAAAAAAAAAAAAAAAAAAAAAAAAAAAAAAAAAAAAAAAAAAAAAAAAAAAAAAAAAAAAAAAAAAAAAAAAAAAAAAAAAAAAAAAAAAAAAAAAAAAAAAAAAAAAAAAAAAAAAAAAAAAAAAAAAAAAAAAAAAAAAAAAAAAAAAAAAAAAAAAAAAAAAAAAAAAAAAAAAAAAAAAAAAAAAAAAAAAAAAAAAAAAAAAAAAAAAAAAAAAAAAAAAAAAAAAAAAAAAAAAAAAAAAAAAAAAAAAAAAAAAAAAAAAAAAAAAAAAAAAAAAAAAAAAAAAAAAAAAAAAAAAAAAAAAAAAAAAAAAAAAAAAAAAAAAAAAAAAAAAAAAAAAAAAAAAAAAAAAAAAAAAAAAAAAAAAAAAAAAAAAAAAAAAAAAAAAAAAAAAAAAAAAAAAAAAAAAAAAAAAAAAAAAAAAAAAAAAAAAAAAAAAAAAAAAAAAAAAAAAAAAAAAAAAAAAAAAAAAAAAAAAAAAAAAAAAAAAAAAAAAAAAAAAAAAAAAAAAAAAAAAAAAAAAAAAAAAAAAAAAAAAAAAAAACwAAAAAAQABAAAIBQABEAoIADs=\"><title>Layer: output (output)\n shape = (1,)\n Keras class = Dense\n activation = sigmoid</title></image><text x=\"205.0\" y=\"52.0\" font-family=\"monospace\" font-size=\"12\" text-anchor=\"start\" alignment-baseline=\"central\">output</text><line x1=\"175.0\" y1=\"104\" x2=\"175.0\" y2=\"77\" stroke=\"black\" stroke-width=\"2\" marker-end=\"url(#arrow)\"><title>Weights from hidden to output\n output/kernel has shape (4, 1)\n output/bias has shape (1,)</title></line><rect x=\"74.0\" y=\"104\" width=\"202\" height=\"52\" style=\"fill:none;stroke:black;stroke-width:2\"/><image id=\"XOR Network_hidden_2\" class=\"XOR Network_hidden\" x=\"75.0\" y=\"105\" height=\"50\" width=\"200\" preserveAspectRatio=\"none\" href=\"data:image/gif;base64,R0lGODdhBAABAIcAAAAA/wAAAAAAAAAAAAAAAAAAAAAAAAAAAAAAAAAAAAAAAAAAAAAAAAAAAAAAAAAAAAAAAAAAAAAAAAAAAAAAAAAAAAAAAAAAAAAAAAAAAAAAAAAAAAAAAAAAAAAAAAAAAAAAAAAAAAAAAAAAAAAAAAAAAAAAAAAAAAAAAAAAAAAAAAAAAAAAAAAAAAAAAAAAAAAAAAAAAAAAAAAAAAAAAAAAAAAAAAAAAAAAAAAAAAAAAAAAAAAAAAAAAAAAAAAAAAAAAAAAAAAAAAAAAAAAAAAAAAAAAAAAAAAAAAAAAAAAAAAAAAAAAAAAAAAAAAAAAAAAAAAAAAAAAAAAAAAAAAAAAAAAAAAAAAAAAAAAAAAAAAAAAAAAAAAAAAAAAAAAAAAAAAAAAAAAAAAAAAAAAAAAAAAAAAAAAAAAAAAAAAAAAAAAAAAAAAAAAAAAAAAAAAAAAAAAAAAAAAAAAAAAAAAAAAAAAAAAAAAAAAAAAAAAAAAAAAAAAAAAAAAAAAAAAAAAAAAAAAAAAAAAAAAAAAAAAAAAAAAAAAAAAAAAAAAAAAAAAAAAAAAAAAAAAAAAAAAAAAAAAAAAAAAAAAAAAAAAAAAAAAAAAAAAAAAAAAAAAAAAAAAAAAAAAAAAAAAAAAAAAAAAAAAAAAAAAAAAAAAAAAAAAAAAAAAAAAAAAAAAAAAAAAAAAAAAAAAAAAAAAAAAAAAAAAAAAAAAAAAAAAAAAAAAAAAAAAAAAAAAAAAAAAAAAAAAAAAAAAAAAAAAAAAAAAAAAAAAAAAAAAAAAAAAAAAAAAAAAAAAAAAAAAAAAAAAAAAAAAAAAAAAAAAAAAAAAAAAAAAAAAAAAAAAAAAAAAAAAAAAAAAAAAAAAAAAAAAAAAAAAAAAAAAAAAAAAAAAAAAAAAAAAAAAAAAAAAAAAAAAAAAAAAAAAAAAAAAAAAAAAAAAAAAAAAAAAAAAAAAAAAAAAAAAAAAAAAAAAAAAAAAAAAAAAAAAAAAAAAAAAAAAAAAAAAAAAAAAAAAAACwAAAAABAABAAAIBgABCAQQEAA7\"><title>Layer: hidden (hidden)\n shape = (4,)\n Keras class = Dense\n activation = sigmoid</title></image><text x=\"280.0\" y=\"132.0\" font-family=\"monospace\" font-size=\"12\" text-anchor=\"start\" alignment-baseline=\"central\">hidden</text><line x1=\"175.0\" y1=\"184\" x2=\"175.0\" y2=\"157\" stroke=\"black\" stroke-width=\"2\" marker-end=\"url(#arrow)\"><title>Weights from input to hidden\n hidden/kernel has shape (2, 4)\n hidden/bias has shape (4,)</title></line><rect x=\"124.0\" y=\"184\" width=\"102\" height=\"52\" style=\"fill:none;stroke:black;stroke-width:2\"/><image id=\"XOR Network_input_3\" class=\"XOR Network_input\" x=\"125.0\" y=\"185\" height=\"50\" width=\"100\" preserveAspectRatio=\"none\" href=\"data:image/gif;base64,R0lGODdhAgABAIcAAP/9/QAAAAAAAAAAAAAAAAAAAAAAAAAAAAAAAAAAAAAAAAAAAAAAAAAAAAAAAAAAAAAAAAAAAAAAAAAAAAAAAAAAAAAAAAAAAAAAAAAAAAAAAAAAAAAAAAAAAAAAAAAAAAAAAAAAAAAAAAAAAAAAAAAAAAAAAAAAAAAAAAAAAAAAAAAAAAAAAAAAAAAAAAAAAAAAAAAAAAAAAAAAAAAAAAAAAAAAAAAAAAAAAAAAAAAAAAAAAAAAAAAAAAAAAAAAAAAAAAAAAAAAAAAAAAAAAAAAAAAAAAAAAAAAAAAAAAAAAAAAAAAAAAAAAAAAAAAAAAAAAAAAAAAAAAAAAAAAAAAAAAAAAAAAAAAAAAAAAAAAAAAAAAAAAAAAAAAAAAAAAAAAAAAAAAAAAAAAAAAAAAAAAAAAAAAAAAAAAAAAAAAAAAAAAAAAAAAAAAAAAAAAAAAAAAAAAAAAAAAAAAAAAAAAAAAAAAAAAAAAAAAAAAAAAAAAAAAAAAAAAAAAAAAAAAAAAAAAAAAAAAAAAAAAAAAAAAAAAAAAAAAAAAAAAAAAAAAAAAAAAAAAAAAAAAAAAAAAAAAAAAAAAAAAAAAAAAAAAAAAAAAAAAAAAAAAAAAAAAAAAAAAAAAAAAAAAAAAAAAAAAAAAAAAAAAAAAAAAAAAAAAAAAAAAAAAAAAAAAAAAAAAAAAAAAAAAAAAAAAAAAAAAAAAAAAAAAAAAAAAAAAAAAAAAAAAAAAAAAAAAAAAAAAAAAAAAAAAAAAAAAAAAAAAAAAAAAAAAAAAAAAAAAAAAAAAAAAAAAAAAAAAAAAAAAAAAAAAAAAAAAAAAAAAAAAAAAAAAAAAAAAAAAAAAAAAAAAAAAAAAAAAAAAAAAAAAAAAAAAAAAAAAAAAAAAAAAAAAAAAAAAAAAAAAAAAAAAAAAAAAAAAAAAAAAAAAAAAAAAAAAAAAAAAAAAAAAAAAAAAAAAAAAAAAAAAAAAAAAAAAAAAAAAAAAAAAAAAAAAAAAAAAAAAAAAAAAAAAAAAACwAAAAAAgABAAAIBQABAAgIADs=\"><title>Layer: input (input)\n shape = (2,)\n Keras class = Input</title></image><text x=\"230.0\" y=\"212.0\" font-family=\"monospace\" font-size=\"12\" text-anchor=\"start\" alignment-baseline=\"central\">input</text></svg></p>"
      }
     },
     "4e4d12869fb5420f9013fc6d917223f7": {
      "model_module": "@jupyter-widgets/controls",
      "model_module_version": "1.0.0",
      "model_name": "IntTextModel",
      "state": {
       "description": "Vertical space between layers:",
       "layout": "IPY_MODEL_965fefa61e1a41e5b42803f3156aa187",
       "step": 1,
       "style": "IPY_MODEL_01434a2cc0a94a95b8ec8d4e672f8188",
       "value": 30
      }
     },
     "4eda9b2b4a8f4a8cbf997e5a25e1f14f": {
      "model_module": "@jupyter-widgets/base",
      "model_module_version": "1.0.0",
      "model_name": "LayoutModel",
      "state": {}
     },
     "4fd13936dd4d42ecba64e41db87d976d": {
      "model_module": "@jupyter-widgets/controls",
      "model_module_version": "1.0.0",
      "model_name": "CheckboxModel",
      "state": {
       "description": "Errors",
       "disabled": false,
       "layout": "IPY_MODEL_0733ab47b5cd42a78da6c77993e20fa5",
       "style": "IPY_MODEL_afde91265d4b45899b2995ce43b78c78",
       "value": false
      }
     },
     "519d596ad28c4f2f84b8db0187b57a18": {
      "model_module": "@jupyter-widgets/controls",
      "model_module_version": "1.0.0",
      "model_name": "DescriptionStyleModel",
      "state": {
       "description_width": ""
      }
     },
     "51b2de912e924daaa161a17f51314e4c": {
      "model_module": "@jupyter-widgets/controls",
      "model_module_version": "1.0.0",
      "model_name": "ButtonModel",
      "state": {
       "description": "Play",
       "icon": "play",
       "layout": "IPY_MODEL_fcb9680e63c24f65b7ab84c67c852f13",
       "style": "IPY_MODEL_9d8f45eecd9c4f0d9b75e64d717e3a92"
      }
     },
     "52cc78e7acee408aa983a20ae78f0b09": {
      "model_module": "@jupyter-widgets/base",
      "model_module_version": "1.0.0",
      "model_name": "LayoutModel",
      "state": {
       "width": "100%"
      }
     },
     "53412851bf4e4219a66350d3d5b396e9": {
      "model_module": "@jupyter-widgets/controls",
      "model_module_version": "1.0.0",
      "model_name": "DescriptionStyleModel",
      "state": {
       "description_width": "initial"
      }
     },
     "563d85bde0cd49208eaa255054db2e52": {
      "model_module": "@jupyter-widgets/base",
      "model_module_version": "1.0.0",
      "model_name": "LayoutModel",
      "state": {}
     },
     "58db27ac6ef14d368db6766c5d254690": {
      "model_module": "@jupyter-widgets/controls",
      "model_module_version": "1.0.0",
      "model_name": "DescriptionStyleModel",
      "state": {
       "description_width": ""
      }
     },
     "5ae6200fa2474b13be553fe4dd89fba2": {
      "model_module": "@jupyter-widgets/controls",
      "model_module_version": "1.0.0",
      "model_name": "VBoxModel",
      "state": {
       "children": [
        "IPY_MODEL_c881bd13c0ac4df192242591f0eb2c66",
        "IPY_MODEL_99443e3f83b047b2b1b511c9a6e9a2c3",
        "IPY_MODEL_b3b6d22a83d645dda6f5f3342efdd5f1",
        "IPY_MODEL_8528ef20bff34ca1b4851fb459270a13",
        "IPY_MODEL_2158cefba61d44a6af1702df18f283fe",
        "IPY_MODEL_07562e0bf0c049eaa3237b2bfe22fd29",
        "IPY_MODEL_f29b4050a7c841ffabd007a2a522a862"
       ],
       "layout": "IPY_MODEL_3b69442939c142848f88ae73598fee8a"
      }
     },
     "5b61b93b308e4f6392fe08b4c703a8d0": {
      "model_module": "@jupyter-widgets/controls",
      "model_module_version": "1.0.0",
      "model_name": "DescriptionStyleModel",
      "state": {
       "description_width": "initial"
      }
     },
     "5bcee508908e4e05a2f78669b02734a4": {
      "model_module": "@jupyter-widgets/base",
      "model_module_version": "1.0.0",
      "model_name": "LayoutModel",
      "state": {
       "width": "100%"
      }
     },
     "5caf423ba0b04a5e91c3e6909e16b191": {
      "model_module": "@jupyter-widgets/controls",
      "model_module_version": "1.0.0",
      "model_name": "CheckboxModel",
      "state": {
       "description": "Show Targets",
       "disabled": false,
       "layout": "IPY_MODEL_38857e0b0e4144c0b46e419ee77c45e7",
       "style": "IPY_MODEL_6b41ca2bef0e4718897b40618e01ae96",
       "value": false
      }
     },
     "5e04811e28bd4b7394deb6efe855a9a4": {
      "model_module": "@jupyter-widgets/base",
      "model_module_version": "1.0.0",
      "model_name": "LayoutModel",
      "state": {}
     },
     "5e782c9aa99f4cab8e1d81a77f3dad98": {
      "model_module": "@jupyter-widgets/base",
      "model_module_version": "1.0.0",
      "model_name": "LayoutModel",
      "state": {
       "width": "100%"
      }
     },
     "5f4831d58f10470f8ce4288aa51444db": {
      "model_module": "@jupyter-widgets/base",
      "model_module_version": "1.0.0",
      "model_name": "LayoutModel",
      "state": {}
     },
     "5fda1cd4f9ce4e23b4293e464ae52a4b": {
      "model_module": "@jupyter-widgets/controls",
      "model_module_version": "1.0.0",
      "model_name": "HBoxModel",
      "state": {
       "children": [
        "IPY_MODEL_88ace079e1b143318d254eb71c248c89",
        "IPY_MODEL_38401272b46a4fabaa3fea04f0cbc3aa",
        "IPY_MODEL_6ac8412535664ab3b800b7785b5fd7f3",
        "IPY_MODEL_200153f5774f42a883c94152a838ff9f",
        "IPY_MODEL_35ceece14e5b453baf8a6de464517b15",
        "IPY_MODEL_cc788d53ade64aecba0529a2479d7e7c",
        "IPY_MODEL_1186ec11071f4babba6512cf62412f30"
       ],
       "layout": "IPY_MODEL_912f9b50bac24411bcec1534aff0491e"
      }
     },
     "60b37c8769c6433190392db1df170873": {
      "model_module": "@jupyter-widgets/controls",
      "model_module_version": "1.0.0",
      "model_name": "CheckboxModel",
      "state": {
       "description": "Visible",
       "disabled": false,
       "layout": "IPY_MODEL_38857e0b0e4144c0b46e419ee77c45e7",
       "style": "IPY_MODEL_75b03d1f75d34eefb5f9e6899d9f6899",
       "value": true
      }
     },
     "64420f42857049a9a21a682b1bbceef2": {
      "model_module": "@jupyter-widgets/base",
      "model_module_version": "1.0.0",
      "model_name": "LayoutModel",
      "state": {}
     },
     "645222c43c4e4ba5a4a83323dffc8be5": {
      "model_module": "@jupyter-widgets/base",
      "model_module_version": "1.0.0",
      "model_name": "LayoutModel",
      "state": {}
     },
     "654548ecabcc49ce93c7df48e3114b07": {
      "model_module": "@jupyter-widgets/controls",
      "model_module_version": "1.0.0",
      "model_name": "FloatSliderModel",
      "state": {
       "continuous_update": false,
       "description": "Zoom",
       "layout": "IPY_MODEL_47d3b915675441e48002a53071e9db33",
       "max": 3,
       "min": 0.5,
       "step": 0.1,
       "style": "IPY_MODEL_2d0f0ad9f2b8448f959f34a1a3c7f298",
       "value": 1
      }
     },
     "65513fe69d4a47bd842d93d32a5cbaaf": {
      "model_module": "@jupyter-widgets/controls",
      "model_module_version": "1.0.0",
      "model_name": "DescriptionStyleModel",
      "state": {
       "description_width": ""
      }
     },
     "66c4c473a1aa4b8ba78d26b2600ced1a": {
      "model_module": "@jupyter-widgets/controls",
      "model_module_version": "1.0.0",
      "model_name": "FloatTextModel",
      "state": {
       "description": "Leftmost color maps to:",
       "layout": "IPY_MODEL_e96a356f12814bfcb39740de5147dc69",
       "step": null,
       "style": "IPY_MODEL_c34a9ece608c47e3a903a7d92fb5a037",
       "value": -1
      }
     },
     "68f92e974d97409798e0ba666fe53766": {
      "model_module": "@jupyter-widgets/base",
      "model_module_version": "1.0.0",
      "model_name": "LayoutModel",
      "state": {}
     },
     "694c20a7dae543c08fef84412d6d826b": {
      "model_module": "@jupyter-widgets/controls",
      "model_module_version": "1.0.0",
      "model_name": "CheckboxModel",
      "state": {
       "description": "Errors",
       "disabled": false,
       "layout": "IPY_MODEL_965fefa61e1a41e5b42803f3156aa187",
       "style": "IPY_MODEL_ee8e7f3e589e4336a81be01253157d04",
       "value": false
      }
     },
     "6ac8412535664ab3b800b7785b5fd7f3": {
      "model_module": "@jupyter-widgets/controls",
      "model_module_version": "1.0.0",
      "model_name": "IntTextModel",
      "state": {
       "layout": "IPY_MODEL_3645d3c2931e4badb6e594ec631bfc32",
       "step": 1,
       "style": "IPY_MODEL_403130c147d44a02882819d6f20d73f5"
      }
     },
     "6b41ca2bef0e4718897b40618e01ae96": {
      "model_module": "@jupyter-widgets/controls",
      "model_module_version": "1.0.0",
      "model_name": "DescriptionStyleModel",
      "state": {
       "description_width": "initial"
      }
     },
     "6c3c301b93354d10853445baf3b3ab4c": {
      "model_module": "@jupyter-widgets/controls",
      "model_module_version": "1.0.0",
      "model_name": "VBoxModel",
      "state": {
       "children": [
        "IPY_MODEL_8d06842b4e1548a7a98860b3eb755b94",
        "IPY_MODEL_8ebc45bfb1834e96a41d0ea24713b567",
        "IPY_MODEL_02560e0a618c45a6a877e58d6b00bcb0",
        "IPY_MODEL_4ac0db3c52914029b2fa518344d4b10f",
        "IPY_MODEL_8cc0f471eb0a42ae94ccb558aa037fae",
        "IPY_MODEL_ca84aea774904cea97a5fa4134268d6b",
        "IPY_MODEL_c05d2c6195a74f22a4ee4f03b0c4f1c8",
        "IPY_MODEL_acff5e9f91a04a61957eeb4e0bcec8a5"
       ],
       "layout": "IPY_MODEL_04c96083a9f74930b7d97db379ebbbbb"
      }
     },
     "6cb036e188744688886aed2223631d12": {
      "model_module": "@jupyter-widgets/base",
      "model_module_version": "1.0.0",
      "model_name": "LayoutModel",
      "state": {}
     },
     "6cb3a1f49c49415e8708c566dcf2492b": {
      "model_module": "@jupyter-widgets/controls",
      "model_module_version": "1.0.0",
      "model_name": "HBoxModel",
      "state": {
       "children": [
        "IPY_MODEL_6d093e105fc94fc08618af810f5df9d4",
        "IPY_MODEL_33fafbf084fa4513a1e63b548b96f526"
       ],
       "layout": "IPY_MODEL_e2948e875ad54c95a1b9b67e5b9369a6"
      }
     },
     "6d093e105fc94fc08618af810f5df9d4": {
      "model_module": "@jupyter-widgets/controls",
      "model_module_version": "1.0.0",
      "model_name": "VBoxModel",
      "state": {
       "children": [
        "IPY_MODEL_7cca0f004e204da1b253b70e31d8703b",
        "IPY_MODEL_37c7bd86f35745c5be2e9e918f219964",
        "IPY_MODEL_4276ef9ee59542cca7ec62d67c99b9fd",
        "IPY_MODEL_4e4d12869fb5420f9013fc6d917223f7",
        "IPY_MODEL_ac9c831e71174e8780b382b7608bf220",
        "IPY_MODEL_f568f5fb4c28406e8b244922364ccdbc",
        "IPY_MODEL_28238d73c5164699a7bb901628d93a42",
        "IPY_MODEL_b6113be7ccb7470dbe83b6a5be946133"
       ],
       "layout": "IPY_MODEL_c8ccc29eb8f54966b2d35eaca7f0a144"
      }
     },
     "6d0c28f5506148f3b24713830ee5047e": {
      "model_module": "@jupyter-widgets/controls",
      "model_module_version": "1.0.0",
      "model_name": "ButtonModel",
      "state": {
       "icon": "backward",
       "layout": "IPY_MODEL_edda2105091f44a3a9b600c36836053f",
       "style": "IPY_MODEL_ef9e501936914e54a8849d3f805d3a69"
      }
     },
     "6d2a62a9b6ed4b21b4cd693fa8ce6d08": {
      "model_module": "@jupyter-widgets/base",
      "model_module_version": "1.0.0",
      "model_name": "LayoutModel",
      "state": {
       "width": "100%"
      }
     },
     "6d454fd683bb4e5db0608013aeceb3ad": {
      "model_module": "@jupyter-widgets/controls",
      "model_module_version": "1.0.0",
      "model_name": "IntSliderModel",
      "state": {
       "continuous_update": false,
       "description": "Dataset index",
       "layout": "IPY_MODEL_7555cd7e04ae43ac8e35e14a07f89a78",
       "max": 0,
       "style": "IPY_MODEL_d122989318524dc1b9adfc6c3456e331"
      }
     },
     "6db7ab9c17624a5290ec6a282867c1d8": {
      "model_module": "@jupyter-widgets/controls",
      "model_module_version": "1.0.0",
      "model_name": "DescriptionStyleModel",
      "state": {
       "description_width": "initial"
      }
     },
     "6e4105251e1143259c973ec7e045fcbd": {
      "model_module": "@jupyter-widgets/base",
      "model_module_version": "1.0.0",
      "model_name": "LayoutModel",
      "state": {
       "width": "25%"
      }
     },
     "7293a97f692e4c18a0af36ed9ed9507e": {
      "model_module": "@jupyter-widgets/base",
      "model_module_version": "1.0.0",
      "model_name": "LayoutModel",
      "state": {
       "justify_content": "center",
       "overflow_x": "auto",
       "overflow_y": "auto",
       "width": "95%"
      }
     },
     "72e0f4f1533745d5b2c3dbef5a348bfb": {
      "model_module": "@jupyter-widgets/controls",
      "model_module_version": "1.0.0",
      "model_name": "DescriptionStyleModel",
      "state": {
       "description_width": "initial"
      }
     },
     "7555cd7e04ae43ac8e35e14a07f89a78": {
      "model_module": "@jupyter-widgets/base",
      "model_module_version": "1.0.0",
      "model_name": "LayoutModel",
      "state": {
       "width": "100%"
      }
     },
     "75b03d1f75d34eefb5f9e6899d9f6899": {
      "model_module": "@jupyter-widgets/controls",
      "model_module_version": "1.0.0",
      "model_name": "DescriptionStyleModel",
      "state": {
       "description_width": ""
      }
     },
     "763ff53388c344d59d8a1e7022abb24e": {
      "model_module": "@jupyter-widgets/base",
      "model_module_version": "1.0.0",
      "model_name": "LayoutModel",
      "state": {}
     },
     "76f7f665b8854359ab93ab1147daa94f": {
      "model_module": "@jupyter-widgets/controls",
      "model_module_version": "1.0.0",
      "model_name": "DescriptionStyleModel",
      "state": {
       "description_width": ""
      }
     },
     "77d8785b3fab429fa19cbcf1b91d42a3": {
      "model_module": "@jupyter-widgets/base",
      "model_module_version": "1.0.0",
      "model_name": "LayoutModel",
      "state": {}
     },
     "7904a8d3fbcb4c65a7cc574fb60bc0e6": {
      "model_module": "@jupyter-widgets/controls",
      "model_module_version": "1.0.0",
      "model_name": "LabelModel",
      "state": {
       "layout": "IPY_MODEL_eafcae661bb04267b41ca25b1e91834a",
       "style": "IPY_MODEL_cca606642cae4e68b3bb9ef66210749f",
       "value": "of 0"
      }
     },
     "7cb41573cdfb400e9a4d57765148a8f6": {
      "model_module": "@jupyter-widgets/controls",
      "model_module_version": "1.0.0",
      "model_name": "ButtonStyleModel",
      "state": {}
     },
     "7cca0f004e204da1b253b70e31d8703b": {
      "model_module": "@jupyter-widgets/controls",
      "model_module_version": "1.0.0",
      "model_name": "SelectModel",
      "state": {
       "_options_labels": [
        "Test",
        "Train"
       ],
       "description": "Dataset:",
       "index": 1,
       "layout": "IPY_MODEL_2ac8acde5bcd4d2f84a4749c05ccc470",
       "rows": 1,
       "style": "IPY_MODEL_e86c9da55be44b98865e650a5a6017ae"
      }
     },
     "80674cc114b74804a255a2ef72219cac": {
      "model_module": "@jupyter-widgets/controls",
      "model_module_version": "1.0.0",
      "model_name": "SliderStyleModel",
      "state": {
       "description_width": ""
      }
     },
     "819402d66fa14bb5a2b39dce5ffa33ab": {
      "model_module": "@jupyter-widgets/controls",
      "model_module_version": "1.0.0",
      "model_name": "IntTextModel",
      "state": {
       "description": "Feature to show:",
       "layout": "IPY_MODEL_645222c43c4e4ba5a4a83323dffc8be5",
       "step": 1,
       "style": "IPY_MODEL_72e0f4f1533745d5b2c3dbef5a348bfb"
      }
     },
     "82a50a94df924fb18dbc34983ad3077a": {
      "model_module": "@jupyter-widgets/base",
      "model_module_version": "1.0.0",
      "model_name": "LayoutModel",
      "state": {
       "width": "100%"
      }
     },
     "82f0e88100f94f8daf158ece8228df5c": {
      "model_module": "@jupyter-widgets/controls",
      "model_module_version": "1.0.0",
      "model_name": "VBoxModel",
      "state": {
       "children": [
        "IPY_MODEL_8f394418bf2348418ef1dd30d5b05494",
        "IPY_MODEL_e22ac612b90c47cf96a0bbc124a9cbb7",
        "IPY_MODEL_a8fa859525bc4465a5b6097372b2e648",
        "IPY_MODEL_e9f98836b8014f68b6567828d1f93417"
       ],
       "layout": "IPY_MODEL_be4048c2ce9a425eabf619184876f8e6"
      }
     },
     "8528ef20bff34ca1b4851fb459270a13": {
      "model_module": "@jupyter-widgets/controls",
      "model_module_version": "1.0.0",
      "model_name": "HTMLModel",
      "state": {
       "layout": "IPY_MODEL_2c5706d496ad422eb3cf18242440b4c7",
       "style": "IPY_MODEL_b2ffe66ea43b49ffb6ccfc1d01505dcd",
       "value": "<img src=\"data:image/gif;base64,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\"/>"
      }
     },
     "85928f79581d4c40b2def3dea9a7a24f": {
      "model_module": "@jupyter-widgets/controls",
      "model_module_version": "1.0.0",
      "model_name": "ButtonModel",
      "state": {
       "description": "Play",
       "icon": "play",
       "layout": "IPY_MODEL_52cc78e7acee408aa983a20ae78f0b09",
       "style": "IPY_MODEL_1a585d21ebae48eca26c0d67ed6e430b"
      }
     },
     "85a242858c4f42f49fb3acaa1f512c2e": {
      "model_module": "@jupyter-widgets/controls",
      "model_module_version": "1.0.0",
      "model_name": "SelectModel",
      "state": {
       "_options_labels": [
        "Test",
        "Train"
       ],
       "description": "Dataset:",
       "index": 1,
       "layout": "IPY_MODEL_01ce3f5e29014b0c970c6a9337495882",
       "rows": 1,
       "style": "IPY_MODEL_1fed749287564be7950abf39ee71aab1"
      }
     },
     "865574b49ecb44ec937ff09b886bd931": {
      "model_module": "@jupyter-widgets/controls",
      "model_module_version": "1.0.0",
      "model_name": "DescriptionStyleModel",
      "state": {
       "description_width": ""
      }
     },
     "87d22ade3cd34484b10b815a877ef527": {
      "model_module": "@jupyter-widgets/base",
      "model_module_version": "1.0.0",
      "model_name": "LayoutModel",
      "state": {
       "width": "100%"
      }
     },
     "87d49d0e32054136a0c70cad42a0bb6b": {
      "model_module": "@jupyter-widgets/base",
      "model_module_version": "1.0.0",
      "model_name": "LayoutModel",
      "state": {
       "height": "40px"
      }
     },
     "888ee6faa8644ad886c670d8eca3f7dd": {
      "model_module": "@jupyter-widgets/controls",
      "model_module_version": "1.0.0",
      "model_name": "HBoxModel",
      "state": {
       "children": [
        "IPY_MODEL_18732705723641f4b7a8a25ae8df4540",
        "IPY_MODEL_e300d939a8bd44f8a9f05c8e2e3e2de1",
        "IPY_MODEL_c2ff6a07e55f4ac0a07c05b251210a35",
        "IPY_MODEL_cd6583d77a8d450a935f7d0a9ea916b0",
        "IPY_MODEL_c0d476610d434e699bc9745bac6b5a81",
        "IPY_MODEL_85928f79581d4c40b2def3dea9a7a24f",
        "IPY_MODEL_b3583c7aac3d4c2f9b6756b2d90a681a"
       ],
       "layout": "IPY_MODEL_a6fb01dc172e44139a717eb7dc72cfa7"
      }
     },
     "88ace079e1b143318d254eb71c248c89": {
      "model_module": "@jupyter-widgets/controls",
      "model_module_version": "1.0.0",
      "model_name": "ButtonModel",
      "state": {
       "icon": "fast-backward",
       "layout": "IPY_MODEL_0f8c1403993d4d168e687fde163cecc9",
       "style": "IPY_MODEL_15467d627eb94f80838ff2f12746a0fa"
      }
     },
     "88dee1cd19564587a700839b6dbf830d": {
      "model_module": "@jupyter-widgets/controls",
      "model_module_version": "1.0.0",
      "model_name": "IntSliderModel",
      "state": {
       "continuous_update": false,
       "description": "Dataset index",
       "layout": "IPY_MODEL_348dc24a8acd4f1bbf16dcea2506b9ee",
       "max": 3,
       "style": "IPY_MODEL_897da860f566431cb69ebc2ee1c4ff5f"
      }
     },
     "892e6cc49e024e9fb8b7bedbee8028ed": {
      "model_module": "@jupyter-widgets/base",
      "model_module_version": "1.0.0",
      "model_name": "LayoutModel",
      "state": {
       "width": "100%"
      }
     },
     "897da860f566431cb69ebc2ee1c4ff5f": {
      "model_module": "@jupyter-widgets/controls",
      "model_module_version": "1.0.0",
      "model_name": "SliderStyleModel",
      "state": {
       "description_width": ""
      }
     },
     "8995e01b73e94cc697711ec5438ecdc8": {
      "model_module": "@jupyter-widgets/base",
      "model_module_version": "1.0.0",
      "model_name": "LayoutModel",
      "state": {}
     },
     "8bec62ad8e0a4cd2a4268c850057e502": {
      "model_module": "@jupyter-widgets/controls",
      "model_module_version": "1.0.0",
      "model_name": "LabelModel",
      "state": {
       "layout": "IPY_MODEL_481262b4aa5b499cbda6190f69bcd4bd",
       "style": "IPY_MODEL_2481faefddd641c388b8b5ab5e704352",
       "value": "of 0"
      }
     },
     "8cc0f471eb0a42ae94ccb558aa037fae": {
      "model_module": "@jupyter-widgets/controls",
      "model_module_version": "1.0.0",
      "model_name": "HBoxModel",
      "state": {
       "children": [
        "IPY_MODEL_c7acfbafdc6d4c729f63afa10b85f7ee",
        "IPY_MODEL_4fd13936dd4d42ecba64e41db87d976d"
       ],
       "layout": "IPY_MODEL_9a23896a86a44ec3bddad7a612458cd7"
      }
     },
     "8d06842b4e1548a7a98860b3eb755b94": {
      "model_module": "@jupyter-widgets/controls",
      "model_module_version": "1.0.0",
      "model_name": "SelectModel",
      "state": {
       "_options_labels": [
        "Test",
        "Train"
       ],
       "description": "Dataset:",
       "index": 1,
       "layout": "IPY_MODEL_4eda9b2b4a8f4a8cbf997e5a25e1f14f",
       "rows": 1,
       "style": "IPY_MODEL_b28b2aefcef24150a5c622d14399213f"
      }
     },
     "8ebc45bfb1834e96a41d0ea24713b567": {
      "model_module": "@jupyter-widgets/controls",
      "model_module_version": "1.0.0",
      "model_name": "FloatSliderModel",
      "state": {
       "continuous_update": false,
       "description": "Zoom",
       "layout": "IPY_MODEL_12aa03d86a9a456fba485aaf7aebe9f0",
       "max": 3,
       "min": 0.5,
       "step": 0.1,
       "style": "IPY_MODEL_c79ed401680347bf80126d847dc420a7",
       "value": 1
      }
     },
     "8f2875c96f0843f69b6bbafee303d833": {
      "model_module": "@jupyter-widgets/controls",
      "model_module_version": "1.0.0",
      "model_name": "DescriptionStyleModel",
      "state": {
       "description_width": ""
      }
     },
     "8f394418bf2348418ef1dd30d5b05494": {
      "model_module": "@jupyter-widgets/controls",
      "model_module_version": "1.0.0",
      "model_name": "AccordionModel",
      "state": {
       "_titles": {
        "0": "XOR2 Network"
       },
       "children": [
        "IPY_MODEL_b43807816a984ab2881f97842b29595f"
       ],
       "layout": "IPY_MODEL_4a4f9be3059b47be85e37bf2e7654ff2",
       "selected_index": null
      }
     },
     "9068e4b2119d46958aab03ee0fc4e326": {
      "model_module": "@jupyter-widgets/base",
      "model_module_version": "1.0.0",
      "model_name": "LayoutModel",
      "state": {
       "width": "100px"
      }
     },
     "90d218e3162249ca96a964497c0ff8d5": {
      "model_module": "@jupyter-widgets/controls",
      "model_module_version": "1.0.0",
      "model_name": "ButtonModel",
      "state": {
       "icon": "fast-forward",
       "layout": "IPY_MODEL_21b7407f10e54f37b19b1565e313455f",
       "style": "IPY_MODEL_e240c1464e2a4f12a08825c90910caa2"
      }
     },
     "912f9b50bac24411bcec1534aff0491e": {
      "model_module": "@jupyter-widgets/base",
      "model_module_version": "1.0.0",
      "model_name": "LayoutModel",
      "state": {
       "height": "50px",
       "width": "100%"
      }
     },
     "94a1fa079c4a4d8e84f279918cabd9f2": {
      "model_module": "@jupyter-widgets/controls",
      "model_module_version": "1.0.0",
      "model_name": "HBoxModel",
      "state": {
       "children": [
        "IPY_MODEL_9b8ae87d0b6d49c0a62780a2181a5623",
        "IPY_MODEL_8bec62ad8e0a4cd2a4268c850057e502"
       ],
       "layout": "IPY_MODEL_fe2ad63ffe39442fb6ed011391247fdc"
      }
     },
     "94b6dc05e7e34502ad535def4dc718bc": {
      "model_module": "@jupyter-widgets/base",
      "model_module_version": "1.0.0",
      "model_name": "LayoutModel",
      "state": {
       "width": "100%"
      }
     },
     "95c13b187a4c42e9b1141611d5c31a68": {
      "model_module": "@jupyter-widgets/controls",
      "model_module_version": "1.0.0",
      "model_name": "DescriptionStyleModel",
      "state": {
       "description_width": ""
      }
     },
     "960ea6e7d1f64aff85448230a4e458ba": {
      "model_module": "@jupyter-widgets/controls",
      "model_module_version": "1.0.0",
      "model_name": "SelectModel",
      "state": {
       "_options_labels": [
        "input1",
        "input2",
        "hidden1",
        "hidden2",
        "shared-hidden",
        "output1",
        "output2"
       ],
       "description": "Layer:",
       "index": 6,
       "layout": "IPY_MODEL_c95ed0ffd57240f688f575759ec8f5de",
       "rows": 1,
       "style": "IPY_MODEL_519d596ad28c4f2f84b8db0187b57a18"
      }
     },
     "965fefa61e1a41e5b42803f3156aa187": {
      "model_module": "@jupyter-widgets/base",
      "model_module_version": "1.0.0",
      "model_name": "LayoutModel",
      "state": {}
     },
     "9858f3a92a9a4f01b68fd6cb285b95d9": {
      "model_module": "@jupyter-widgets/controls",
      "model_module_version": "1.0.0",
      "model_name": "ButtonStyleModel",
      "state": {}
     },
     "99443e3f83b047b2b1b511c9a6e9a2c3": {
      "model_module": "@jupyter-widgets/controls",
      "model_module_version": "1.0.0",
      "model_name": "CheckboxModel",
      "state": {
       "description": "Visible",
       "disabled": false,
       "layout": "IPY_MODEL_0733ab47b5cd42a78da6c77993e20fa5",
       "style": "IPY_MODEL_3133eee84948489c9c43fb9e97843f91",
       "value": true
      }
     },
     "99809ffc6a5e479497af333273fef7cd": {
      "model_module": "@jupyter-widgets/base",
      "model_module_version": "1.0.0",
      "model_name": "LayoutModel",
      "state": {}
     },
     "9a23896a86a44ec3bddad7a612458cd7": {
      "model_module": "@jupyter-widgets/base",
      "model_module_version": "1.0.0",
      "model_name": "LayoutModel",
      "state": {}
     },
     "9b8ae87d0b6d49c0a62780a2181a5623": {
      "model_module": "@jupyter-widgets/controls",
      "model_module_version": "1.0.0",
      "model_name": "IntSliderModel",
      "state": {
       "continuous_update": false,
       "description": "Dataset index",
       "layout": "IPY_MODEL_5bcee508908e4e05a2f78669b02734a4",
       "max": 3,
       "style": "IPY_MODEL_80674cc114b74804a255a2ef72219cac"
      }
     },
     "9c92caa64d4640ef846569156f8b2f63": {
      "model_module": "@jupyter-widgets/controls",
      "model_module_version": "1.0.0",
      "model_name": "DescriptionStyleModel",
      "state": {
       "description_width": ""
      }
     },
     "9cfb91175a544c93b7d55b86f8397d1c": {
      "model_module": "@jupyter-widgets/base",
      "model_module_version": "1.0.0",
      "model_name": "LayoutModel",
      "state": {
       "height": "50px",
       "width": "100%"
      }
     },
     "9d8f45eecd9c4f0d9b75e64d717e3a92": {
      "model_module": "@jupyter-widgets/controls",
      "model_module_version": "1.0.0",
      "model_name": "ButtonStyleModel",
      "state": {}
     },
     "9e11ffe472424d9186335a75da60c82d": {
      "model_module": "@jupyter-widgets/base",
      "model_module_version": "1.0.0",
      "model_name": "LayoutModel",
      "state": {}
     },
     "9e9a38cb76464278bb8be40a9915618d": {
      "model_module": "@jupyter-widgets/controls",
      "model_module_version": "1.0.0",
      "model_name": "IntTextModel",
      "state": {
       "description": "Feature columns:",
       "layout": "IPY_MODEL_563d85bde0cd49208eaa255054db2e52",
       "step": 1,
       "style": "IPY_MODEL_dc756a49778f4ae1a4e47199e7859cba",
       "value": 3
      }
     },
     "a41c053ee42c4d37a8b91f51618c876a": {
      "model_module": "@jupyter-widgets/base",
      "model_module_version": "1.0.0",
      "model_name": "LayoutModel",
      "state": {
       "width": "25%"
      }
     },
     "a458788771d14397b80b5c8e4b98cc7d": {
      "model_module": "@jupyter-widgets/controls",
      "model_module_version": "1.0.0",
      "model_name": "ButtonModel",
      "state": {
       "icon": "forward",
       "layout": "IPY_MODEL_0983c26d2c4d4aaeb1b5f7d8de0d7dbf",
       "style": "IPY_MODEL_eec56a4950414e9d94bfe4e777c93244"
      }
     },
     "a546ecb3557648c0908d6be96ce0c0dc": {
      "model_module": "@jupyter-widgets/base",
      "model_module_version": "1.0.0",
      "model_name": "LayoutModel",
      "state": {
       "height": "40px"
      }
     },
     "a55b5befafcf4f0c979b518a7c255273": {
      "model_module": "@jupyter-widgets/base",
      "model_module_version": "1.0.0",
      "model_name": "LayoutModel",
      "state": {}
     },
     "a65993399d1448fc8da38c6d0053d58f": {
      "model_module": "@jupyter-widgets/base",
      "model_module_version": "1.0.0",
      "model_name": "LayoutModel",
      "state": {}
     },
     "a6dad20a8c204f0880ca6fa134de5aff": {
      "model_module": "@jupyter-widgets/base",
      "model_module_version": "1.0.0",
      "model_name": "LayoutModel",
      "state": {}
     },
     "a6fb01dc172e44139a717eb7dc72cfa7": {
      "model_module": "@jupyter-widgets/base",
      "model_module_version": "1.0.0",
      "model_name": "LayoutModel",
      "state": {
       "height": "50px",
       "width": "100%"
      }
     },
     "a74c02d2f150440882686bd2e67c9583": {
      "model_module": "@jupyter-widgets/controls",
      "model_module_version": "1.0.0",
      "model_name": "SelectModel",
      "state": {
       "_options_labels": [
        "",
        "Accent",
        "Accent_r",
        "Blues",
        "Blues_r",
        "BrBG",
        "BrBG_r",
        "BuGn",
        "BuGn_r",
        "BuPu",
        "BuPu_r",
        "CMRmap",
        "CMRmap_r",
        "Dark2",
        "Dark2_r",
        "GnBu",
        "GnBu_r",
        "Greens",
        "Greens_r",
        "Greys",
        "Greys_r",
        "OrRd",
        "OrRd_r",
        "Oranges",
        "Oranges_r",
        "PRGn",
        "PRGn_r",
        "Paired",
        "Paired_r",
        "Pastel1",
        "Pastel1_r",
        "Pastel2",
        "Pastel2_r",
        "PiYG",
        "PiYG_r",
        "PuBu",
        "PuBuGn",
        "PuBuGn_r",
        "PuBu_r",
        "PuOr",
        "PuOr_r",
        "PuRd",
        "PuRd_r",
        "Purples",
        "Purples_r",
        "RdBu",
        "RdBu_r",
        "RdGy",
        "RdGy_r",
        "RdPu",
        "RdPu_r",
        "RdYlBu",
        "RdYlBu_r",
        "RdYlGn",
        "RdYlGn_r",
        "Reds",
        "Reds_r",
        "Set1",
        "Set1_r",
        "Set2",
        "Set2_r",
        "Set3",
        "Set3_r",
        "Spectral",
        "Spectral_r",
        "Vega10",
        "Vega10_r",
        "Vega20",
        "Vega20_r",
        "Vega20b",
        "Vega20b_r",
        "Vega20c",
        "Vega20c_r",
        "Wistia",
        "Wistia_r",
        "YlGn",
        "YlGnBu",
        "YlGnBu_r",
        "YlGn_r",
        "YlOrBr",
        "YlOrBr_r",
        "YlOrRd",
        "YlOrRd_r",
        "afmhot",
        "afmhot_r",
        "autumn",
        "autumn_r",
        "binary",
        "binary_r",
        "bone",
        "bone_r",
        "brg",
        "brg_r",
        "bwr",
        "bwr_r",
        "cool",
        "cool_r",
        "coolwarm",
        "coolwarm_r",
        "copper",
        "copper_r",
        "cubehelix",
        "cubehelix_r",
        "flag",
        "flag_r",
        "gist_earth",
        "gist_earth_r",
        "gist_gray",
        "gist_gray_r",
        "gist_heat",
        "gist_heat_r",
        "gist_ncar",
        "gist_ncar_r",
        "gist_rainbow",
        "gist_rainbow_r",
        "gist_stern",
        "gist_stern_r",
        "gist_yarg",
        "gist_yarg_r",
        "gnuplot",
        "gnuplot2",
        "gnuplot2_r",
        "gnuplot_r",
        "gray",
        "gray_r",
        "hot",
        "hot_r",
        "hsv",
        "hsv_r",
        "inferno",
        "inferno_r",
        "jet",
        "jet_r",
        "magma",
        "magma_r",
        "nipy_spectral",
        "nipy_spectral_r",
        "ocean",
        "ocean_r",
        "pink",
        "pink_r",
        "plasma",
        "plasma_r",
        "prism",
        "prism_r",
        "rainbow",
        "rainbow_r",
        "seismic",
        "seismic_r",
        "spectral",
        "spectral_r",
        "spring",
        "spring_r",
        "summer",
        "summer_r",
        "tab10",
        "tab10_r",
        "tab20",
        "tab20_r",
        "tab20b",
        "tab20b_r",
        "tab20c",
        "tab20c_r",
        "terrain",
        "terrain_r",
        "viridis",
        "viridis_r",
        "winter",
        "winter_r"
       ],
       "description": "Colormap:",
       "index": 0,
       "layout": "IPY_MODEL_38857e0b0e4144c0b46e419ee77c45e7",
       "rows": 1,
       "style": "IPY_MODEL_b4b5f3a953a04514bd9685418ecf15db"
      }
     },
     "a857290f9cc0486b813f5205cb378eff": {
      "model_module": "@jupyter-widgets/controls",
      "model_module_version": "1.0.0",
      "model_name": "DescriptionStyleModel",
      "state": {
       "description_width": ""
      }
     },
     "a8d4c53ba38942d4876c3a7ee8085a91": {
      "model_module": "@jupyter-widgets/controls",
      "model_module_version": "1.0.0",
      "model_name": "IntTextModel",
      "state": {
       "description": "Feature to show:",
       "layout": "IPY_MODEL_bf34dc414dc44f999f75572aaf1bb63e",
       "step": 1,
       "style": "IPY_MODEL_37eb40c5a6b04a2c8761085ab4281fd7"
      }
     },
     "a8fa859525bc4465a5b6097372b2e648": {
      "model_module": "@jupyter-widgets/controls",
      "model_module_version": "1.0.0",
      "model_name": "HTMLModel",
      "state": {
       "layout": "IPY_MODEL_c8a57a746d094d41a3ee647249560eca",
       "style": "IPY_MODEL_a857290f9cc0486b813f5205cb378eff",
       "value": "<p style=\"text-align:center\"><svg id='XOR2 Network' xmlns='http://www.w3.org/2000/svg' viewBox=\"0 0 800 305\" height=\"780\" image-rendering=\"pixelated\">\n    <defs>\n        <marker id=\"arrow\" markerWidth=\"10\" markerHeight=\"10\" refX=\"9\" refY=\"3\" orient=\"auto\" markerUnits=\"strokeWidth\">\n          <path d=\"M0,0 L0,6 L9,3 z\" fill=\"black\" />\n        </marker>\n    </defs><text x=\"400.0\" y=\"12.5\" font-family=\"monospace\" font-size=\"15\" text-anchor=\"middle\" alignment-baseline=\"central\">XOR2 Network</text><rect x=\"240.66666666666669\" y=\"24\" width=\"52\" height=\"52\" style=\"fill:none;stroke:black;stroke-width:2\"/><image id=\"XOR2 Network_output1_8\" class=\"XOR2 Network_output1\" x=\"241.66666666666669\" y=\"25\" height=\"50\" width=\"50\" preserveAspectRatio=\"none\" href=\"data:image/gif;base64,R0lGODdhAQABAIcAAAAAvwAAAAAAAAAAAAAAAAAAAAAAAAAAAAAAAAAAAAAAAAAAAAAAAAAAAAAAAAAAAAAAAAAAAAAAAAAAAAAAAAAAAAAAAAAAAAAAAAAAAAAAAAAAAAAAAAAAAAAAAAAAAAAAAAAAAAAAAAAAAAAAAAAAAAAAAAAAAAAAAAAAAAAAAAAAAAAAAAAAAAAAAAAAAAAAAAAAAAAAAAAAAAAAAAAAAAAAAAAAAAAAAAAAAAAAAAAAAAAAAAAAAAAAAAAAAAAAAAAAAAAAAAAAAAAAAAAAAAAAAAAAAAAAAAAAAAAAAAAAAAAAAAAAAAAAAAAAAAAAAAAAAAAAAAAAAAAAAAAAAAAAAAAAAAAAAAAAAAAAAAAAAAAAAAAAAAAAAAAAAAAAAAAAAAAAAAAAAAAAAAAAAAAAAAAAAAAAAAAAAAAAAAAAAAAAAAAAAAAAAAAAAAAAAAAAAAAAAAAAAAAAAAAAAAAAAAAAAAAAAAAAAAAAAAAAAAAAAAAAAAAAAAAAAAAAAAAAAAAAAAAAAAAAAAAAAAAAAAAAAAAAAAAAAAAAAAAAAAAAAAAAAAAAAAAAAAAAAAAAAAAAAAAAAAAAAAAAAAAAAAAAAAAAAAAAAAAAAAAAAAAAAAAAAAAAAAAAAAAAAAAAAAAAAAAAAAAAAAAAAAAAAAAAAAAAAAAAAAAAAAAAAAAAAAAAAAAAAAAAAAAAAAAAAAAAAAAAAAAAAAAAAAAAAAAAAAAAAAAAAAAAAAAAAAAAAAAAAAAAAAAAAAAAAAAAAAAAAAAAAAAAAAAAAAAAAAAAAAAAAAAAAAAAAAAAAAAAAAAAAAAAAAAAAAAAAAAAAAAAAAAAAAAAAAAAAAAAAAAAAAAAAAAAAAAAAAAAAAAAAAAAAAAAAAAAAAAAAAAAAAAAAAAAAAAAAAAAAAAAAAAAAAAAAAAAAAAAAAAAAAAAAAAAAAAAAAAAAAAAAAAAAAAAAAAAAAAAAAAAAAAAAAAAAAAAAAAAAAAAAAAAAAAAAAAAAAAAAAAAACwAAAAAAQABAAAIBQAB6AsIADs=\"><title>Layer: output1 (output)\n shape = (1,)\n Keras class = Dense\n activation = sigmoid</title></image><text x=\"296.6666666666667\" y=\"52.0\" font-family=\"monospace\" font-size=\"12\" text-anchor=\"start\" alignment-baseline=\"central\">output1</text><rect x=\"507.33333333333337\" y=\"24\" width=\"52\" height=\"52\" style=\"fill:none;stroke:black;stroke-width:2\"/><image id=\"XOR2 Network_output2_9\" class=\"XOR2 Network_output2\" x=\"508.33333333333337\" y=\"25\" height=\"50\" width=\"50\" preserveAspectRatio=\"none\" href=\"data:image/gif;base64,R0lGODdhAQABAIcAAEFB/wAAAAAAAAAAAAAAAAAAAAAAAAAAAAAAAAAAAAAAAAAAAAAAAAAAAAAAAAAAAAAAAAAAAAAAAAAAAAAAAAAAAAAAAAAAAAAAAAAAAAAAAAAAAAAAAAAAAAAAAAAAAAAAAAAAAAAAAAAAAAAAAAAAAAAAAAAAAAAAAAAAAAAAAAAAAAAAAAAAAAAAAAAAAAAAAAAAAAAAAAAAAAAAAAAAAAAAAAAAAAAAAAAAAAAAAAAAAAAAAAAAAAAAAAAAAAAAAAAAAAAAAAAAAAAAAAAAAAAAAAAAAAAAAAAAAAAAAAAAAAAAAAAAAAAAAAAAAAAAAAAAAAAAAAAAAAAAAAAAAAAAAAAAAAAAAAAAAAAAAAAAAAAAAAAAAAAAAAAAAAAAAAAAAAAAAAAAAAAAAAAAAAAAAAAAAAAAAAAAAAAAAAAAAAAAAAAAAAAAAAAAAAAAAAAAAAAAAAAAAAAAAAAAAAAAAAAAAAAAAAAAAAAAAAAAAAAAAAAAAAAAAAAAAAAAAAAAAAAAAAAAAAAAAAAAAAAAAAAAAAAAAAAAAAAAAAAAAAAAAAAAAAAAAAAAAAAAAAAAAAAAAAAAAAAAAAAAAAAAAAAAAAAAAAAAAAAAAAAAAAAAAAAAAAAAAAAAAAAAAAAAAAAAAAAAAAAAAAAAAAAAAAAAAAAAAAAAAAAAAAAAAAAAAAAAAAAAAAAAAAAAAAAAAAAAAAAAAAAAAAAAAAAAAAAAAAAAAAAAAAAAAAAAAAAAAAAAAAAAAAAAAAAAAAAAAAAAAAAAAAAAAAAAAAAAAAAAAAAAAAAAAAAAAAAAAAAAAAAAAAAAAAAAAAAAAAAAAAAAAAAAAAAAAAAAAAAAAAAAAAAAAAAAAAAAAAAAAAAAAAAAAAAAAAAAAAAAAAAAAAAAAAAAAAAAAAAAAAAAAAAAAAAAAAAAAAAAAAAAAAAAAAAAAAAAAAAAAAAAAAAAAAAAAAAAAAAAAAAAAAAAAAAAAAAAAAAAAAAAAAAAAAAAAAAAAAAAAAAAACwAAAAAAQABAAAIBQAB6AsIADs=\"><title>Layer: output2 (output)\n shape = (1,)\n Keras class = Dense\n activation = sigmoid</title></image><text x=\"563.3333333333334\" y=\"52.0\" font-family=\"monospace\" font-size=\"12\" text-anchor=\"start\" alignment-baseline=\"central\">output2</text><line x1=\"400.0\" y1=\"104\" x2=\"266.6666666666667\" y2=\"77\" stroke=\"black\" stroke-width=\"2\" marker-end=\"url(#arrow)\"><title>Weights from shared-hidden to output1\n output1/kernel has shape (5, 1)\n output1/bias has shape (1,)</title></line><line x1=\"400.0\" y1=\"104\" x2=\"533.3333333333334\" y2=\"77\" stroke=\"black\" stroke-width=\"2\" marker-end=\"url(#arrow)\"><title>Weights from shared-hidden to output2\n output2/kernel has shape (5, 1)\n output2/bias has shape (1,)</title></line><rect x=\"299.0\" y=\"104\" width=\"202\" height=\"42\" style=\"fill:none;stroke:black;stroke-width:2\"/><image id=\"XOR2 Network_shared-hidden_10\" class=\"XOR2 Network_shared-hidden\" x=\"300.0\" y=\"105\" height=\"40\" width=\"200\" preserveAspectRatio=\"none\" href=\"data:image/gif;base64,R0lGODdhBQABAIcAAAQE7j09/0FB/wAAAAAAAAAAAAAAAAAAAAAAAAAAAAAAAAAAAAAAAAAAAAAAAAAAAAAAAAAAAAAAAAAAAAAAAAAAAAAAAAAAAAAAAAAAAAAAAAAAAAAAAAAAAAAAAAAAAAAAAAAAAAAAAAAAAAAAAAAAAAAAAAAAAAAAAAAAAAAAAAAAAAAAAAAAAAAAAAAAAAAAAAAAAAAAAAAAAAAAAAAAAAAAAAAAAAAAAAAAAAAAAAAAAAAAAAAAAAAAAAAAAAAAAAAAAAAAAAAAAAAAAAAAAAAAAAAAAAAAAAAAAAAAAAAAAAAAAAAAAAAAAAAAAAAAAAAAAAAAAAAAAAAAAAAAAAAAAAAAAAAAAAAAAAAAAAAAAAAAAAAAAAAAAAAAAAAAAAAAAAAAAAAAAAAAAAAAAAAAAAAAAAAAAAAAAAAAAAAAAAAAAAAAAAAAAAAAAAAAAAAAAAAAAAAAAAAAAAAAAAAAAAAAAAAAAAAAAAAAAAAAAAAAAAAAAAAAAAAAAAAAAAAAAAAAAAAAAAAAAAAAAAAAAAAAAAAAAAAAAAAAAAAAAAAAAAAAAAAAAAAAAAAAAAAAAAAAAAAAAAAAAAAAAAAAAAAAAAAAAAAAAAAAAAAAAAAAAAAAAAAAAAAAAAAAAAAAAAAAAAAAAAAAAAAAAAAAAAAAAAAAAAAAAAAAAAAAAAAAAAAAAAAAAAAAAAAAAAAAAAAAAAAAAAAAAAAAAAAAAAAAAAAAAAAAAAAAAAAAAAAAAAAAAAAAAAAAAAAAAAAAAAAAAAAAAAAAAAAAAAAAAAAAAAAAAAAAAAAAAAAAAAAAAAAAAAAAAAAAAAAAAAAAAAAAAAAAAAAAAAAAAAAAAAAAAAAAAAAAAAAAAAAAAAAAAAAAAAAAAAAAAAAAAAAAAAAAAAAAAAAAAAAAAAAAAAAAAAAAAAAAAAAAAAAAAAAAAAAAAAAAAAAAAAAAAAAAAAAAAAAAAAAAAAAAAAAAAAAAAAAAAAAAAAAAAAAAAAAAAAAAAAAAAAAAACwAAAAABQABAAAIBwAFABgYICAAOw==\"><title>Layer: shared-hidden (hidden)\n shape = (5,)\n Keras class = Dense\n activation = sigmoid</title></image><text x=\"505.0\" y=\"127.0\" font-family=\"monospace\" font-size=\"12\" text-anchor=\"start\" alignment-baseline=\"central\">shared-hidden</text><line x1=\"266.6666666666667\" y1=\"174\" x2=\"400.0\" y2=\"147\" stroke=\"black\" stroke-width=\"2\" marker-end=\"url(#arrow)\"><title>Weights from hidden1 to shared-hidden\n shared-hidden/kernel has shape (20, 5)\n shared-hidden/bias has shape (5,)</title></line><rect x=\"165.66666666666669\" y=\"174\" width=\"202\" height=\"27\" style=\"fill:none;stroke:black;stroke-width:2\"/><image id=\"XOR2 Network_hidden1_11\" class=\"XOR2 Network_hidden1\" x=\"166.66666666666669\" y=\"175\" height=\"25\" width=\"200\" preserveAspectRatio=\"none\" href=\"data:image/gif;base64,R0lGODdhCgABAIcAAAAA/wAAAAAAAAAAAAAAAAAAAAAAAAAAAAAAAAAAAAAAAAAAAAAAAAAAAAAAAAAAAAAAAAAAAAAAAAAAAAAAAAAAAAAAAAAAAAAAAAAAAAAAAAAAAAAAAAAAAAAAAAAAAAAAAAAAAAAAAAAAAAAAAAAAAAAAAAAAAAAAAAAAAAAAAAAAAAAAAAAAAAAAAAAAAAAAAAAAAAAAAAAAAAAAAAAAAAAAAAAAAAAAAAAAAAAAAAAAAAAAAAAAAAAAAAAAAAAAAAAAAAAAAAAAAAAAAAAAAAAAAAAAAAAAAAAAAAAAAAAAAAAAAAAAAAAAAAAAAAAAAAAAAAAAAAAAAAAAAAAAAAAAAAAAAAAAAAAAAAAAAAAAAAAAAAAAAAAAAAAAAAAAAAAAAAAAAAAAAAAAAAAAAAAAAAAAAAAAAAAAAAAAAAAAAAAAAAAAAAAAAAAAAAAAAAAAAAAAAAAAAAAAAAAAAAAAAAAAAAAAAAAAAAAAAAAAAAAAAAAAAAAAAAAAAAAAAAAAAAAAAAAAAAAAAAAAAAAAAAAAAAAAAAAAAAAAAAAAAAAAAAAAAAAAAAAAAAAAAAAAAAAAAAAAAAAAAAAAAAAAAAAAAAAAAAAAAAAAAAAAAAAAAAAAAAAAAAAAAAAAAAAAAAAAAAAAAAAAAAAAAAAAAAAAAAAAAAAAAAAAAAAAAAAAAAAAAAAAAAAAAAAAAAAAAAAAAAAAAAAAAAAAAAAAAAAAAAAAAAAAAAAAAAAAAAAAAAAAAAAAAAAAAAAAAAAAAAAAAAAAAAAAAAAAAAAAAAAAAAAAAAAAAAAAAAAAAAAAAAAAAAAAAAAAAAAAAAAAAAAAAAAAAAAAAAAAAAAAAAAAAAAAAAAAAAAAAAAAAAAAAAAAAAAAAAAAAAAAAAAAAAAAAAAAAAAAAAAAAAAAAAAAAAAAAAAAAAAAAAAAAAAAAAAAAAAAAAAAAAAAAAAAAAAAAAAAAAAAAAAAAAAAAAAAAAAAAAAAAAAAAAAAAAAAAAAAAAAAAAAAACwAAAAACgABAAAIBwABCBxIMCAAOw==\"><title>Layer: hidden1 (hidden)\n shape = (10,)\n Keras class = Dense\n activation = sigmoid</title></image><text x=\"371.6666666666667\" y=\"189.5\" font-family=\"monospace\" font-size=\"12\" text-anchor=\"start\" alignment-baseline=\"central\">hidden1</text><line x1=\"533.3333333333334\" y1=\"174\" x2=\"400.0\" y2=\"147\" stroke=\"black\" stroke-width=\"2\" marker-end=\"url(#arrow)\"><title>Weights from hidden2 to shared-hidden\n shared-hidden/kernel has shape (20, 5)\n shared-hidden/bias has shape (5,)</title></line><rect x=\"432.33333333333337\" y=\"174\" width=\"202\" height=\"27\" style=\"fill:none;stroke:black;stroke-width:2\"/><image id=\"XOR2 Network_hidden2_12\" class=\"XOR2 Network_hidden2\" x=\"433.33333333333337\" y=\"175\" height=\"25\" width=\"200\" preserveAspectRatio=\"none\" href=\"data:image/gif;base64,R0lGODdhCgABAIcAAAAA/wAAAAAAAAAAAAAAAAAAAAAAAAAAAAAAAAAAAAAAAAAAAAAAAAAAAAAAAAAAAAAAAAAAAAAAAAAAAAAAAAAAAAAAAAAAAAAAAAAAAAAAAAAAAAAAAAAAAAAAAAAAAAAAAAAAAAAAAAAAAAAAAAAAAAAAAAAAAAAAAAAAAAAAAAAAAAAAAAAAAAAAAAAAAAAAAAAAAAAAAAAAAAAAAAAAAAAAAAAAAAAAAAAAAAAAAAAAAAAAAAAAAAAAAAAAAAAAAAAAAAAAAAAAAAAAAAAAAAAAAAAAAAAAAAAAAAAAAAAAAAAAAAAAAAAAAAAAAAAAAAAAAAAAAAAAAAAAAAAAAAAAAAAAAAAAAAAAAAAAAAAAAAAAAAAAAAAAAAAAAAAAAAAAAAAAAAAAAAAAAAAAAAAAAAAAAAAAAAAAAAAAAAAAAAAAAAAAAAAAAAAAAAAAAAAAAAAAAAAAAAAAAAAAAAAAAAAAAAAAAAAAAAAAAAAAAAAAAAAAAAAAAAAAAAAAAAAAAAAAAAAAAAAAAAAAAAAAAAAAAAAAAAAAAAAAAAAAAAAAAAAAAAAAAAAAAAAAAAAAAAAAAAAAAAAAAAAAAAAAAAAAAAAAAAAAAAAAAAAAAAAAAAAAAAAAAAAAAAAAAAAAAAAAAAAAAAAAAAAAAAAAAAAAAAAAAAAAAAAAAAAAAAAAAAAAAAAAAAAAAAAAAAAAAAAAAAAAAAAAAAAAAAAAAAAAAAAAAAAAAAAAAAAAAAAAAAAAAAAAAAAAAAAAAAAAAAAAAAAAAAAAAAAAAAAAAAAAAAAAAAAAAAAAAAAAAAAAAAAAAAAAAAAAAAAAAAAAAAAAAAAAAAAAAAAAAAAAAAAAAAAAAAAAAAAAAAAAAAAAAAAAAAAAAAAAAAAAAAAAAAAAAAAAAAAAAAAAAAAAAAAAAAAAAAAAAAAAAAAAAAAAAAAAAAAAAAAAAAAAAAAAAAAAAAAAAAAAAAAAAAAAAAAAAAAAAAAAAAAAAAAAAAAAAAAAAAAAAAAAACwAAAAACgABAAAIBwABCBxIMCAAOw==\"><title>Layer: hidden2 (hidden)\n shape = (10,)\n Keras class = Dense\n activation = sigmoid</title></image><text x=\"638.3333333333334\" y=\"189.5\" font-family=\"monospace\" font-size=\"12\" text-anchor=\"start\" alignment-baseline=\"central\">hidden2</text><line x1=\"266.6666666666667\" y1=\"229\" x2=\"266.6666666666667\" y2=\"202\" stroke=\"black\" stroke-width=\"2\" marker-end=\"url(#arrow)\"><title>Weights from input1 to hidden1\n hidden1/kernel has shape (1, 10)\n hidden1/bias has shape (10,)</title></line><rect x=\"240.66666666666669\" y=\"229\" width=\"52\" height=\"52\" style=\"fill:none;stroke:black;stroke-width:2\"/><image id=\"XOR2 Network_input1_13\" class=\"XOR2 Network_input1\" x=\"241.66666666666669\" y=\"230\" height=\"50\" width=\"50\" preserveAspectRatio=\"none\" href=\"data:image/gif;base64,R0lGODdhAQABAIcAAP/9/QAAAAAAAAAAAAAAAAAAAAAAAAAAAAAAAAAAAAAAAAAAAAAAAAAAAAAAAAAAAAAAAAAAAAAAAAAAAAAAAAAAAAAAAAAAAAAAAAAAAAAAAAAAAAAAAAAAAAAAAAAAAAAAAAAAAAAAAAAAAAAAAAAAAAAAAAAAAAAAAAAAAAAAAAAAAAAAAAAAAAAAAAAAAAAAAAAAAAAAAAAAAAAAAAAAAAAAAAAAAAAAAAAAAAAAAAAAAAAAAAAAAAAAAAAAAAAAAAAAAAAAAAAAAAAAAAAAAAAAAAAAAAAAAAAAAAAAAAAAAAAAAAAAAAAAAAAAAAAAAAAAAAAAAAAAAAAAAAAAAAAAAAAAAAAAAAAAAAAAAAAAAAAAAAAAAAAAAAAAAAAAAAAAAAAAAAAAAAAAAAAAAAAAAAAAAAAAAAAAAAAAAAAAAAAAAAAAAAAAAAAAAAAAAAAAAAAAAAAAAAAAAAAAAAAAAAAAAAAAAAAAAAAAAAAAAAAAAAAAAAAAAAAAAAAAAAAAAAAAAAAAAAAAAAAAAAAAAAAAAAAAAAAAAAAAAAAAAAAAAAAAAAAAAAAAAAAAAAAAAAAAAAAAAAAAAAAAAAAAAAAAAAAAAAAAAAAAAAAAAAAAAAAAAAAAAAAAAAAAAAAAAAAAAAAAAAAAAAAAAAAAAAAAAAAAAAAAAAAAAAAAAAAAAAAAAAAAAAAAAAAAAAAAAAAAAAAAAAAAAAAAAAAAAAAAAAAAAAAAAAAAAAAAAAAAAAAAAAAAAAAAAAAAAAAAAAAAAAAAAAAAAAAAAAAAAAAAAAAAAAAAAAAAAAAAAAAAAAAAAAAAAAAAAAAAAAAAAAAAAAAAAAAAAAAAAAAAAAAAAAAAAAAAAAAAAAAAAAAAAAAAAAAAAAAAAAAAAAAAAAAAAAAAAAAAAAAAAAAAAAAAAAAAAAAAAAAAAAAAAAAAAAAAAAAAAAAAAAAAAAAAAAAAAAAAAAAAAAAAAAAAAAAAAAAAAAAAAAAAAAAAAAAAAAAAAAAAAAAAACwAAAAAAQABAAAIBQAB6AsIADs=\"><title>Layer: input1 (input)\n shape = (1,)\n Keras class = Input</title></image><text x=\"296.6666666666667\" y=\"257.0\" font-family=\"monospace\" font-size=\"12\" text-anchor=\"start\" alignment-baseline=\"central\">input1</text><line x1=\"533.3333333333334\" y1=\"229\" x2=\"533.3333333333334\" y2=\"202\" stroke=\"black\" stroke-width=\"2\" marker-end=\"url(#arrow)\"><title>Weights from input2 to hidden2\n hidden2/kernel has shape (1, 10)\n hidden2/bias has shape (10,)</title></line><rect x=\"507.33333333333337\" y=\"229\" width=\"52\" height=\"52\" style=\"fill:none;stroke:black;stroke-width:2\"/><image id=\"XOR2 Network_input2_14\" class=\"XOR2 Network_input2\" x=\"508.33333333333337\" y=\"230\" height=\"50\" width=\"50\" preserveAspectRatio=\"none\" href=\"data:image/gif;base64,R0lGODdhAQABAIcAAP/9/QAAAAAAAAAAAAAAAAAAAAAAAAAAAAAAAAAAAAAAAAAAAAAAAAAAAAAAAAAAAAAAAAAAAAAAAAAAAAAAAAAAAAAAAAAAAAAAAAAAAAAAAAAAAAAAAAAAAAAAAAAAAAAAAAAAAAAAAAAAAAAAAAAAAAAAAAAAAAAAAAAAAAAAAAAAAAAAAAAAAAAAAAAAAAAAAAAAAAAAAAAAAAAAAAAAAAAAAAAAAAAAAAAAAAAAAAAAAAAAAAAAAAAAAAAAAAAAAAAAAAAAAAAAAAAAAAAAAAAAAAAAAAAAAAAAAAAAAAAAAAAAAAAAAAAAAAAAAAAAAAAAAAAAAAAAAAAAAAAAAAAAAAAAAAAAAAAAAAAAAAAAAAAAAAAAAAAAAAAAAAAAAAAAAAAAAAAAAAAAAAAAAAAAAAAAAAAAAAAAAAAAAAAAAAAAAAAAAAAAAAAAAAAAAAAAAAAAAAAAAAAAAAAAAAAAAAAAAAAAAAAAAAAAAAAAAAAAAAAAAAAAAAAAAAAAAAAAAAAAAAAAAAAAAAAAAAAAAAAAAAAAAAAAAAAAAAAAAAAAAAAAAAAAAAAAAAAAAAAAAAAAAAAAAAAAAAAAAAAAAAAAAAAAAAAAAAAAAAAAAAAAAAAAAAAAAAAAAAAAAAAAAAAAAAAAAAAAAAAAAAAAAAAAAAAAAAAAAAAAAAAAAAAAAAAAAAAAAAAAAAAAAAAAAAAAAAAAAAAAAAAAAAAAAAAAAAAAAAAAAAAAAAAAAAAAAAAAAAAAAAAAAAAAAAAAAAAAAAAAAAAAAAAAAAAAAAAAAAAAAAAAAAAAAAAAAAAAAAAAAAAAAAAAAAAAAAAAAAAAAAAAAAAAAAAAAAAAAAAAAAAAAAAAAAAAAAAAAAAAAAAAAAAAAAAAAAAAAAAAAAAAAAAAAAAAAAAAAAAAAAAAAAAAAAAAAAAAAAAAAAAAAAAAAAAAAAAAAAAAAAAAAAAAAAAAAAAAAAAAAAAAAAAAAAAAAAAAAAAAAAAAAAAAAAAAAAAAAAAAACwAAAAAAQABAAAIBQAB6AsIADs=\"><title>Layer: input2 (input)\n shape = (1,)\n Keras class = Input</title></image><text x=\"563.3333333333334\" y=\"257.0\" font-family=\"monospace\" font-size=\"12\" text-anchor=\"start\" alignment-baseline=\"central\">input2</text></svg></p>"
      }
     },
     "a95e091fc50d4087853f89b0b62cbb3e": {
      "model_module": "@jupyter-widgets/base",
      "model_module_version": "1.0.0",
      "model_name": "LayoutModel",
      "state": {
       "width": "100%"
      }
     },
     "aa29f262adbf45c8846da19b23909b81": {
      "model_module": "@jupyter-widgets/output",
      "model_module_version": "1.0.0",
      "model_name": "OutputModel",
      "state": {
       "layout": "IPY_MODEL_5f4831d58f10470f8ce4288aa51444db"
      }
     },
     "ac9c831e71174e8780b382b7608bf220": {
      "model_module": "@jupyter-widgets/controls",
      "model_module_version": "1.0.0",
      "model_name": "HBoxModel",
      "state": {
       "children": [
        "IPY_MODEL_09951b9621be495e895d5780ace271dc",
        "IPY_MODEL_694c20a7dae543c08fef84412d6d826b"
       ],
       "layout": "IPY_MODEL_20d2aa0550d54f6f96b8ee863416ad93"
      }
     },
     "acdbbadbf4c04b19a828789a66e6e4cc": {
      "model_module": "@jupyter-widgets/controls",
      "model_module_version": "1.0.0",
      "model_name": "DescriptionStyleModel",
      "state": {
       "description_width": ""
      }
     },
     "acff5e9f91a04a61957eeb4e0bcec8a5": {
      "model_module": "@jupyter-widgets/controls",
      "model_module_version": "1.0.0",
      "model_name": "FloatTextModel",
      "state": {
       "description": "Feature scale:",
       "layout": "IPY_MODEL_2e355c0ab59f4522b996ddeb620d3661",
       "step": null,
       "style": "IPY_MODEL_23642b1b971741bea1cbeb32562c49bd",
       "value": 2
      }
     },
     "ae386343abb44efdbf8f2db71c722b76": {
      "model_module": "@jupyter-widgets/controls",
      "model_module_version": "1.0.0",
      "model_name": "DescriptionStyleModel",
      "state": {
       "description_width": ""
      }
     },
     "ae5c19eb0cc2440cad23a6c1817ca062": {
      "model_module": "@jupyter-widgets/base",
      "model_module_version": "1.0.0",
      "model_name": "LayoutModel",
      "state": {
       "width": "100%"
      }
     },
     "ae85cabc62044eb180ac845d3eaeb35e": {
      "model_module": "@jupyter-widgets/controls",
      "model_module_version": "1.0.0",
      "model_name": "DescriptionStyleModel",
      "state": {
       "description_width": ""
      }
     },
     "af970ba97a1343c3a01fec895b565ee9": {
      "model_module": "@jupyter-widgets/controls",
      "model_module_version": "1.0.0",
      "model_name": "ButtonModel",
      "state": {
       "icon": "refresh",
       "layout": "IPY_MODEL_bdc4e420859f44c590267d5d12cd33b7",
       "style": "IPY_MODEL_0b3f1977a1cf482eb204ebdae8c03088"
      }
     },
     "afde91265d4b45899b2995ce43b78c78": {
      "model_module": "@jupyter-widgets/controls",
      "model_module_version": "1.0.0",
      "model_name": "DescriptionStyleModel",
      "state": {
       "description_width": "initial"
      }
     },
     "b28b2aefcef24150a5c622d14399213f": {
      "model_module": "@jupyter-widgets/controls",
      "model_module_version": "1.0.0",
      "model_name": "DescriptionStyleModel",
      "state": {
       "description_width": ""
      }
     },
     "b2ffe66ea43b49ffb6ccfc1d01505dcd": {
      "model_module": "@jupyter-widgets/controls",
      "model_module_version": "1.0.0",
      "model_name": "DescriptionStyleModel",
      "state": {
       "description_width": ""
      }
     },
     "b3583c7aac3d4c2f9b6756b2d90a681a": {
      "model_module": "@jupyter-widgets/controls",
      "model_module_version": "1.0.0",
      "model_name": "ButtonModel",
      "state": {
       "icon": "refresh",
       "layout": "IPY_MODEL_6e4105251e1143259c973ec7e045fcbd",
       "style": "IPY_MODEL_13ffa0f9d1ca43dfb9d5e29fbac55f46"
      }
     },
     "b39e025f51f946a896b2c5dc91078728": {
      "model_module": "@jupyter-widgets/controls",
      "model_module_version": "1.0.0",
      "model_name": "ButtonStyleModel",
      "state": {}
     },
     "b3b6d22a83d645dda6f5f3342efdd5f1": {
      "model_module": "@jupyter-widgets/controls",
      "model_module_version": "1.0.0",
      "model_name": "SelectModel",
      "state": {
       "_options_labels": [
        "",
        "Accent",
        "Accent_r",
        "Blues",
        "Blues_r",
        "BrBG",
        "BrBG_r",
        "BuGn",
        "BuGn_r",
        "BuPu",
        "BuPu_r",
        "CMRmap",
        "CMRmap_r",
        "Dark2",
        "Dark2_r",
        "GnBu",
        "GnBu_r",
        "Greens",
        "Greens_r",
        "Greys",
        "Greys_r",
        "OrRd",
        "OrRd_r",
        "Oranges",
        "Oranges_r",
        "PRGn",
        "PRGn_r",
        "Paired",
        "Paired_r",
        "Pastel1",
        "Pastel1_r",
        "Pastel2",
        "Pastel2_r",
        "PiYG",
        "PiYG_r",
        "PuBu",
        "PuBuGn",
        "PuBuGn_r",
        "PuBu_r",
        "PuOr",
        "PuOr_r",
        "PuRd",
        "PuRd_r",
        "Purples",
        "Purples_r",
        "RdBu",
        "RdBu_r",
        "RdGy",
        "RdGy_r",
        "RdPu",
        "RdPu_r",
        "RdYlBu",
        "RdYlBu_r",
        "RdYlGn",
        "RdYlGn_r",
        "Reds",
        "Reds_r",
        "Set1",
        "Set1_r",
        "Set2",
        "Set2_r",
        "Set3",
        "Set3_r",
        "Spectral",
        "Spectral_r",
        "Vega10",
        "Vega10_r",
        "Vega20",
        "Vega20_r",
        "Vega20b",
        "Vega20b_r",
        "Vega20c",
        "Vega20c_r",
        "Wistia",
        "Wistia_r",
        "YlGn",
        "YlGnBu",
        "YlGnBu_r",
        "YlGn_r",
        "YlOrBr",
        "YlOrBr_r",
        "YlOrRd",
        "YlOrRd_r",
        "afmhot",
        "afmhot_r",
        "autumn",
        "autumn_r",
        "binary",
        "binary_r",
        "bone",
        "bone_r",
        "brg",
        "brg_r",
        "bwr",
        "bwr_r",
        "cool",
        "cool_r",
        "coolwarm",
        "coolwarm_r",
        "copper",
        "copper_r",
        "cubehelix",
        "cubehelix_r",
        "flag",
        "flag_r",
        "gist_earth",
        "gist_earth_r",
        "gist_gray",
        "gist_gray_r",
        "gist_heat",
        "gist_heat_r",
        "gist_ncar",
        "gist_ncar_r",
        "gist_rainbow",
        "gist_rainbow_r",
        "gist_stern",
        "gist_stern_r",
        "gist_yarg",
        "gist_yarg_r",
        "gnuplot",
        "gnuplot2",
        "gnuplot2_r",
        "gnuplot_r",
        "gray",
        "gray_r",
        "hot",
        "hot_r",
        "hsv",
        "hsv_r",
        "inferno",
        "inferno_r",
        "jet",
        "jet_r",
        "magma",
        "magma_r",
        "nipy_spectral",
        "nipy_spectral_r",
        "ocean",
        "ocean_r",
        "pink",
        "pink_r",
        "plasma",
        "plasma_r",
        "prism",
        "prism_r",
        "rainbow",
        "rainbow_r",
        "seismic",
        "seismic_r",
        "spectral",
        "spectral_r",
        "spring",
        "spring_r",
        "summer",
        "summer_r",
        "tab10",
        "tab10_r",
        "tab20",
        "tab20_r",
        "tab20b",
        "tab20b_r",
        "tab20c",
        "tab20c_r",
        "terrain",
        "terrain_r",
        "viridis",
        "viridis_r",
        "winter",
        "winter_r"
       ],
       "description": "Colormap:",
       "index": 0,
       "layout": "IPY_MODEL_0733ab47b5cd42a78da6c77993e20fa5",
       "rows": 1,
       "style": "IPY_MODEL_58db27ac6ef14d368db6766c5d254690"
      }
     },
     "b3ccf83d27bd4f51a11ba3c6fd165aaf": {
      "model_module": "@jupyter-widgets/base",
      "model_module_version": "1.0.0",
      "model_name": "LayoutModel",
      "state": {}
     },
     "b43807816a984ab2881f97842b29595f": {
      "model_module": "@jupyter-widgets/controls",
      "model_module_version": "1.0.0",
      "model_name": "HBoxModel",
      "state": {
       "children": [
        "IPY_MODEL_303fa76f7a0e430487e758956fec57f0",
        "IPY_MODEL_d744a631eca04e46ad390d1b17bf06ea"
       ],
       "layout": "IPY_MODEL_122af9119290410d87614b9a2612ef2e"
      }
     },
     "b4ab75a8f5e94690b75d15c4fcfc0556": {
      "model_module": "@jupyter-widgets/controls",
      "model_module_version": "1.0.0",
      "model_name": "CheckboxModel",
      "state": {
       "description": "Visible",
       "disabled": false,
       "layout": "IPY_MODEL_965fefa61e1a41e5b42803f3156aa187",
       "style": "IPY_MODEL_4745b5632d6e497499fe75dacaf07308",
       "value": true
      }
     },
     "b4b5f3a953a04514bd9685418ecf15db": {
      "model_module": "@jupyter-widgets/controls",
      "model_module_version": "1.0.0",
      "model_name": "DescriptionStyleModel",
      "state": {
       "description_width": ""
      }
     },
     "b5d6c8efe5bc40889ab0dcd21e76fecd": {
      "model_module": "@jupyter-widgets/controls",
      "model_module_version": "1.0.0",
      "model_name": "VBoxModel",
      "state": {
       "children": [
        "IPY_MODEL_2ccbff546cd84fe49fe5f0f1a7af5806",
        "IPY_MODEL_241cd5fa680045f2afb0372a893933f1",
        "IPY_MODEL_e9b937d211704040a69f7c9813c78e91",
        "IPY_MODEL_aa29f262adbf45c8846da19b23909b81"
       ],
       "layout": "IPY_MODEL_098c1ba3b35d49e7bcd0ac10483608d2"
      }
     },
     "b5f41d0598bc4a47b24b0b3909d17ea8": {
      "model_module": "@jupyter-widgets/controls",
      "model_module_version": "1.0.0",
      "model_name": "DescriptionStyleModel",
      "state": {
       "description_width": "initial"
      }
     },
     "b6113be7ccb7470dbe83b6a5be946133": {
      "model_module": "@jupyter-widgets/controls",
      "model_module_version": "1.0.0",
      "model_name": "FloatTextModel",
      "state": {
       "description": "Feature scale:",
       "layout": "IPY_MODEL_13c09aa4e30545378ff5334263774182",
       "step": null,
       "style": "IPY_MODEL_c9c9432c270447aea50441e3487ba352",
       "value": 2
      }
     },
     "b735ad50146e4ac6850a51c1afdb669b": {
      "model_module": "@jupyter-widgets/controls",
      "model_module_version": "1.0.0",
      "model_name": "DescriptionStyleModel",
      "state": {
       "description_width": "initial"
      }
     },
     "ba9f7c99b8f7440f8e64fbcd99dfd153": {
      "model_module": "@jupyter-widgets/controls",
      "model_module_version": "1.0.0",
      "model_name": "DescriptionStyleModel",
      "state": {
       "description_width": "initial"
      }
     },
     "bd791987dc2c4110a31659b17a152d7c": {
      "model_module": "@jupyter-widgets/controls",
      "model_module_version": "1.0.0",
      "model_name": "FloatTextModel",
      "state": {
       "description": "Leftmost color maps to:",
       "layout": "IPY_MODEL_a55b5befafcf4f0c979b518a7c255273",
       "step": null,
       "style": "IPY_MODEL_ba9f7c99b8f7440f8e64fbcd99dfd153",
       "value": -1
      }
     },
     "bdc4e420859f44c590267d5d12cd33b7": {
      "model_module": "@jupyter-widgets/base",
      "model_module_version": "1.0.0",
      "model_name": "LayoutModel",
      "state": {
       "width": "25%"
      }
     },
     "be4048c2ce9a425eabf619184876f8e6": {
      "model_module": "@jupyter-widgets/base",
      "model_module_version": "1.0.0",
      "model_name": "LayoutModel",
      "state": {}
     },
     "bf34dc414dc44f999f75572aaf1bb63e": {
      "model_module": "@jupyter-widgets/base",
      "model_module_version": "1.0.0",
      "model_name": "LayoutModel",
      "state": {}
     },
     "bfd67d1aaa48446eb1f64b2234167574": {
      "model_module": "@jupyter-widgets/controls",
      "model_module_version": "1.0.0",
      "model_name": "DescriptionStyleModel",
      "state": {
       "description_width": ""
      }
     },
     "bfff5c345ab347caa58ad3e79a27e13e": {
      "model_module": "@jupyter-widgets/controls",
      "model_module_version": "1.0.0",
      "model_name": "ButtonStyleModel",
      "state": {}
     },
     "c01452ef16a34a91b6a387930197131f": {
      "model_module": "@jupyter-widgets/base",
      "model_module_version": "1.0.0",
      "model_name": "LayoutModel",
      "state": {}
     },
     "c05d2c6195a74f22a4ee4f03b0c4f1c8": {
      "model_module": "@jupyter-widgets/controls",
      "model_module_version": "1.0.0",
      "model_name": "IntTextModel",
      "state": {
       "description": "Feature columns:",
       "layout": "IPY_MODEL_a6dad20a8c204f0880ca6fa134de5aff",
       "step": 1,
       "style": "IPY_MODEL_d59d3cbd6f8242e999ae21c2f1fbf4d8",
       "value": 3
      }
     },
     "c0cb20a9051f43b185022784bf93ee6d": {
      "model_module": "@jupyter-widgets/controls",
      "model_module_version": "1.0.0",
      "model_name": "SelectModel",
      "state": {
       "_options_labels": [
        "input1",
        "input2",
        "hidden1",
        "hidden2",
        "shared-hidden",
        "output1",
        "output2"
       ],
       "description": "Layer:",
       "index": 6,
       "layout": "IPY_MODEL_5e04811e28bd4b7394deb6efe855a9a4",
       "rows": 1,
       "style": "IPY_MODEL_07c5c7e1598a48fe9026191ce8456b4a"
      }
     },
     "c0d476610d434e699bc9745bac6b5a81": {
      "model_module": "@jupyter-widgets/controls",
      "model_module_version": "1.0.0",
      "model_name": "ButtonModel",
      "state": {
       "icon": "fast-forward",
       "layout": "IPY_MODEL_5e782c9aa99f4cab8e1d81a77f3dad98",
       "style": "IPY_MODEL_ecc0ea531efb45baa840d97efc64b185"
      }
     },
     "c299b90d84a64c55b53e1e350eff4048": {
      "model_module": "@jupyter-widgets/controls",
      "model_module_version": "1.0.0",
      "model_name": "HBoxModel",
      "state": {
       "children": [
        "IPY_MODEL_6d454fd683bb4e5db0608013aeceb3ad",
        "IPY_MODEL_0763d645e4e340d1bc8211d83f287337"
       ],
       "layout": "IPY_MODEL_a546ecb3557648c0908d6be96ce0c0dc"
      }
     },
     "c2ff6a07e55f4ac0a07c05b251210a35": {
      "model_module": "@jupyter-widgets/controls",
      "model_module_version": "1.0.0",
      "model_name": "IntTextModel",
      "state": {
       "layout": "IPY_MODEL_892e6cc49e024e9fb8b7bedbee8028ed",
       "step": 1,
       "style": "IPY_MODEL_1c861609739c4ff48aea7a72f6147a16"
      }
     },
     "c32d3b0ff1804415ac46cc7badd8005e": {
      "model_module": "@jupyter-widgets/controls",
      "model_module_version": "1.0.0",
      "model_name": "VBoxModel",
      "state": {
       "children": [
        "IPY_MODEL_94a1fa079c4a4d8e84f279918cabd9f2",
        "IPY_MODEL_888ee6faa8644ad886c670d8eca3f7dd"
       ],
       "layout": "IPY_MODEL_19cc554f8612407492e295ccf319e3c0"
      }
     },
     "c34a9ece608c47e3a903a7d92fb5a037": {
      "model_module": "@jupyter-widgets/controls",
      "model_module_version": "1.0.0",
      "model_name": "DescriptionStyleModel",
      "state": {
       "description_width": "initial"
      }
     },
     "c5a585886ef642478537eb4fad441b97": {
      "model_module": "@jupyter-widgets/controls",
      "model_module_version": "1.0.0",
      "model_name": "ButtonStyleModel",
      "state": {}
     },
     "c6de4d9560b14f1fb47dd92147c8e9f5": {
      "model_module": "@jupyter-widgets/controls",
      "model_module_version": "1.0.0",
      "model_name": "VBoxModel",
      "state": {
       "children": [
        "IPY_MODEL_081c8e433a3a492b8ad39fb8fbbdefb2",
        "IPY_MODEL_c32d3b0ff1804415ac46cc7badd8005e",
        "IPY_MODEL_4dab2b66ba9b40769d5981da9060dee6",
        "IPY_MODEL_f5b0e91878e243609aaba3423d53820f"
       ],
       "layout": "IPY_MODEL_f9149ce4988047aa8ee0a05d34d57770"
      }
     },
     "c79ed401680347bf80126d847dc420a7": {
      "model_module": "@jupyter-widgets/controls",
      "model_module_version": "1.0.0",
      "model_name": "SliderStyleModel",
      "state": {
       "description_width": ""
      }
     },
     "c7acfbafdc6d4c729f63afa10b85f7ee": {
      "model_module": "@jupyter-widgets/controls",
      "model_module_version": "1.0.0",
      "model_name": "CheckboxModel",
      "state": {
       "description": "Show Targets",
       "disabled": false,
       "layout": "IPY_MODEL_0733ab47b5cd42a78da6c77993e20fa5",
       "style": "IPY_MODEL_42d15e94e69643b8a7816e6767aefb05",
       "value": false
      }
     },
     "c7f408b3b32141d4bcfc87eee31bf675": {
      "model_module": "@jupyter-widgets/controls",
      "model_module_version": "1.0.0",
      "model_name": "DescriptionStyleModel",
      "state": {
       "description_width": "initial"
      }
     },
     "c881bd13c0ac4df192242591f0eb2c66": {
      "model_module": "@jupyter-widgets/controls",
      "model_module_version": "1.0.0",
      "model_name": "SelectModel",
      "state": {
       "_options_labels": [
        "input",
        "hidden",
        "output"
       ],
       "description": "Layer:",
       "index": 2,
       "layout": "IPY_MODEL_a65993399d1448fc8da38c6d0053d58f",
       "rows": 1,
       "style": "IPY_MODEL_9c92caa64d4640ef846569156f8b2f63"
      }
     },
     "c8a57a746d094d41a3ee647249560eca": {
      "model_module": "@jupyter-widgets/base",
      "model_module_version": "1.0.0",
      "model_name": "LayoutModel",
      "state": {
       "justify_content": "center",
       "overflow_x": "auto",
       "overflow_y": "auto",
       "width": "95%"
      }
     },
     "c8ccc29eb8f54966b2d35eaca7f0a144": {
      "model_module": "@jupyter-widgets/base",
      "model_module_version": "1.0.0",
      "model_name": "LayoutModel",
      "state": {
       "width": "100%"
      }
     },
     "c95ed0ffd57240f688f575759ec8f5de": {
      "model_module": "@jupyter-widgets/base",
      "model_module_version": "1.0.0",
      "model_name": "LayoutModel",
      "state": {}
     },
     "c9c9432c270447aea50441e3487ba352": {
      "model_module": "@jupyter-widgets/controls",
      "model_module_version": "1.0.0",
      "model_name": "DescriptionStyleModel",
      "state": {
       "description_width": "initial"
      }
     },
     "ca84aea774904cea97a5fa4134268d6b": {
      "model_module": "@jupyter-widgets/controls",
      "model_module_version": "1.0.0",
      "model_name": "SelectModel",
      "state": {
       "_options_labels": [
        ""
       ],
       "description": "Features:",
       "index": 0,
       "layout": "IPY_MODEL_e7f87a5219ed44219a03707226d0e434",
       "rows": 1,
       "style": "IPY_MODEL_ae386343abb44efdbf8f2db71c722b76"
      }
     },
     "cc788d53ade64aecba0529a2479d7e7c": {
      "model_module": "@jupyter-widgets/controls",
      "model_module_version": "1.0.0",
      "model_name": "ButtonModel",
      "state": {
       "description": "Play",
       "icon": "play",
       "layout": "IPY_MODEL_228dcf093be74306ae578577965a8560",
       "style": "IPY_MODEL_11a0d9f5301d49a9b1fa89622d2c67a8"
      }
     },
     "cca606642cae4e68b3bb9ef66210749f": {
      "model_module": "@jupyter-widgets/controls",
      "model_module_version": "1.0.0",
      "model_name": "DescriptionStyleModel",
      "state": {
       "description_width": ""
      }
     },
     "ccff427421894164a19819a3c1666ecc": {
      "model_module": "@jupyter-widgets/controls",
      "model_module_version": "1.0.0",
      "model_name": "DescriptionStyleModel",
      "state": {
       "description_width": "initial"
      }
     },
     "cd6583d77a8d450a935f7d0a9ea916b0": {
      "model_module": "@jupyter-widgets/controls",
      "model_module_version": "1.0.0",
      "model_name": "ButtonModel",
      "state": {
       "icon": "forward",
       "layout": "IPY_MODEL_94b6dc05e7e34502ad535def4dc718bc",
       "style": "IPY_MODEL_b39e025f51f946a896b2c5dc91078728"
      }
     },
     "cd699b1b93a64a4ab5118278dde7eedd": {
      "model_module": "@jupyter-widgets/controls",
      "model_module_version": "1.0.0",
      "model_name": "IntTextModel",
      "state": {
       "layout": "IPY_MODEL_6d2a62a9b6ed4b21b4cd693fa8ce6d08",
       "step": 1,
       "style": "IPY_MODEL_95c13b187a4c42e9b1141611d5c31a68"
      }
     },
     "ce6538cd3ae84572856cf5c579d0f79c": {
      "model_module": "@jupyter-widgets/base",
      "model_module_version": "1.0.0",
      "model_name": "LayoutModel",
      "state": {}
     },
     "d122989318524dc1b9adfc6c3456e331": {
      "model_module": "@jupyter-widgets/controls",
      "model_module_version": "1.0.0",
      "model_name": "SliderStyleModel",
      "state": {
       "description_width": ""
      }
     },
     "d19b172a893749beba28e9128cd61cf1": {
      "model_module": "@jupyter-widgets/base",
      "model_module_version": "1.0.0",
      "model_name": "LayoutModel",
      "state": {
       "width": "100%"
      }
     },
     "d2316a28fe2849c19a7acb9fc1a897e0": {
      "model_module": "@jupyter-widgets/base",
      "model_module_version": "1.0.0",
      "model_name": "LayoutModel",
      "state": {}
     },
     "d59d3cbd6f8242e999ae21c2f1fbf4d8": {
      "model_module": "@jupyter-widgets/controls",
      "model_module_version": "1.0.0",
      "model_name": "DescriptionStyleModel",
      "state": {
       "description_width": "initial"
      }
     },
     "d744a631eca04e46ad390d1b17bf06ea": {
      "model_module": "@jupyter-widgets/controls",
      "model_module_version": "1.0.0",
      "model_name": "VBoxModel",
      "state": {
       "children": [
        "IPY_MODEL_960ea6e7d1f64aff85448230a4e458ba",
        "IPY_MODEL_60b37c8769c6433190392db1df170873",
        "IPY_MODEL_a74c02d2f150440882686bd2e67c9583",
        "IPY_MODEL_ed407e886c6e40ed81a6250697e8b301",
        "IPY_MODEL_bd791987dc2c4110a31659b17a152d7c",
        "IPY_MODEL_1e79d0036b2240acbced8a987ff9e88e",
        "IPY_MODEL_a8d4c53ba38942d4876c3a7ee8085a91"
       ],
       "layout": "IPY_MODEL_a95e091fc50d4087853f89b0b62cbb3e"
      }
     },
     "d8d38c527f954402bf3ebaef3c5742bb": {
      "model_module": "@jupyter-widgets/controls",
      "model_module_version": "1.0.0",
      "model_name": "ButtonStyleModel",
      "state": {}
     },
     "d9eb3bf65c9c4fafa97bb5814ecd5c0e": {
      "model_module": "@jupyter-widgets/controls",
      "model_module_version": "1.0.0",
      "model_name": "HBoxModel",
      "state": {
       "children": [
        "IPY_MODEL_4b92fffa31174122aa966787785a1a68",
        "IPY_MODEL_6d0c28f5506148f3b24713830ee5047e",
        "IPY_MODEL_cd699b1b93a64a4ab5118278dde7eedd",
        "IPY_MODEL_a458788771d14397b80b5c8e4b98cc7d",
        "IPY_MODEL_90d218e3162249ca96a964497c0ff8d5",
        "IPY_MODEL_51b2de912e924daaa161a17f51314e4c",
        "IPY_MODEL_af970ba97a1343c3a01fec895b565ee9"
       ],
       "layout": "IPY_MODEL_9cfb91175a544c93b7d55b86f8397d1c"
      }
     },
     "dc756a49778f4ae1a4e47199e7859cba": {
      "model_module": "@jupyter-widgets/controls",
      "model_module_version": "1.0.0",
      "model_name": "DescriptionStyleModel",
      "state": {
       "description_width": "initial"
      }
     },
     "e22ac612b90c47cf96a0bbc124a9cbb7": {
      "model_module": "@jupyter-widgets/controls",
      "model_module_version": "1.0.0",
      "model_name": "VBoxModel",
      "state": {
       "children": [
        "IPY_MODEL_281cdf4c1c24445bb6f46a7315be2967",
        "IPY_MODEL_d9eb3bf65c9c4fafa97bb5814ecd5c0e"
       ],
       "layout": "IPY_MODEL_f8fa202d055443808ac8d408589f9267"
      }
     },
     "e240c1464e2a4f12a08825c90910caa2": {
      "model_module": "@jupyter-widgets/controls",
      "model_module_version": "1.0.0",
      "model_name": "ButtonStyleModel",
      "state": {}
     },
     "e2948e875ad54c95a1b9b67e5b9369a6": {
      "model_module": "@jupyter-widgets/base",
      "model_module_version": "1.0.0",
      "model_name": "LayoutModel",
      "state": {}
     },
     "e300d939a8bd44f8a9f05c8e2e3e2de1": {
      "model_module": "@jupyter-widgets/controls",
      "model_module_version": "1.0.0",
      "model_name": "ButtonModel",
      "state": {
       "icon": "backward",
       "layout": "IPY_MODEL_2c5ef887bd8e4ec8bb3871f179453c58",
       "style": "IPY_MODEL_d8d38c527f954402bf3ebaef3c5742bb"
      }
     },
     "e7c4459c83de4441951bec122cc1b6b7": {
      "model_module": "@jupyter-widgets/controls",
      "model_module_version": "1.0.0",
      "model_name": "IntTextModel",
      "state": {
       "description": "Vertical space between layers:",
       "layout": "IPY_MODEL_38857e0b0e4144c0b46e419ee77c45e7",
       "step": 1,
       "style": "IPY_MODEL_1d2004af23af4381a327ec269b417690",
       "value": 30
      }
     },
     "e7f87a5219ed44219a03707226d0e434": {
      "model_module": "@jupyter-widgets/base",
      "model_module_version": "1.0.0",
      "model_name": "LayoutModel",
      "state": {}
     },
     "e86c9da55be44b98865e650a5a6017ae": {
      "model_module": "@jupyter-widgets/controls",
      "model_module_version": "1.0.0",
      "model_name": "DescriptionStyleModel",
      "state": {
       "description_width": ""
      }
     },
     "e96a356f12814bfcb39740de5147dc69": {
      "model_module": "@jupyter-widgets/base",
      "model_module_version": "1.0.0",
      "model_name": "LayoutModel",
      "state": {}
     },
     "e9b937d211704040a69f7c9813c78e91": {
      "model_module": "@jupyter-widgets/controls",
      "model_module_version": "1.0.0",
      "model_name": "HTMLModel",
      "state": {
       "layout": "IPY_MODEL_7293a97f692e4c18a0af36ed9ed9507e",
       "style": "IPY_MODEL_8f2875c96f0843f69b6bbafee303d833",
       "value": "<p style=\"text-align:center\"><svg id='XOR2 Network' xmlns='http://www.w3.org/2000/svg' viewBox=\"0 0 800 305\" height=\"780\" image-rendering=\"pixelated\">\n    <defs>\n        <marker id=\"arrow\" markerWidth=\"10\" markerHeight=\"10\" refX=\"9\" refY=\"3\" orient=\"auto\" markerUnits=\"strokeWidth\">\n          <path d=\"M0,0 L0,6 L9,3 z\" fill=\"black\" />\n        </marker>\n    </defs><text x=\"400.0\" y=\"12.5\" font-family=\"monospace\" font-size=\"15\" text-anchor=\"middle\" alignment-baseline=\"central\">XOR2 Network</text><rect x=\"240.66666666666669\" y=\"24\" width=\"52\" height=\"52\" style=\"fill:none;stroke:black;stroke-width:2\"/><image id=\"XOR2 Network_output1_1\" class=\"XOR2 Network_output1\" x=\"241.66666666666669\" y=\"25\" height=\"50\" width=\"50\" preserveAspectRatio=\"none\" href=\"data:image/gif;base64,R0lGODdhAQABAIcAAAAAvwAAAAAAAAAAAAAAAAAAAAAAAAAAAAAAAAAAAAAAAAAAAAAAAAAAAAAAAAAAAAAAAAAAAAAAAAAAAAAAAAAAAAAAAAAAAAAAAAAAAAAAAAAAAAAAAAAAAAAAAAAAAAAAAAAAAAAAAAAAAAAAAAAAAAAAAAAAAAAAAAAAAAAAAAAAAAAAAAAAAAAAAAAAAAAAAAAAAAAAAAAAAAAAAAAAAAAAAAAAAAAAAAAAAAAAAAAAAAAAAAAAAAAAAAAAAAAAAAAAAAAAAAAAAAAAAAAAAAAAAAAAAAAAAAAAAAAAAAAAAAAAAAAAAAAAAAAAAAAAAAAAAAAAAAAAAAAAAAAAAAAAAAAAAAAAAAAAAAAAAAAAAAAAAAAAAAAAAAAAAAAAAAAAAAAAAAAAAAAAAAAAAAAAAAAAAAAAAAAAAAAAAAAAAAAAAAAAAAAAAAAAAAAAAAAAAAAAAAAAAAAAAAAAAAAAAAAAAAAAAAAAAAAAAAAAAAAAAAAAAAAAAAAAAAAAAAAAAAAAAAAAAAAAAAAAAAAAAAAAAAAAAAAAAAAAAAAAAAAAAAAAAAAAAAAAAAAAAAAAAAAAAAAAAAAAAAAAAAAAAAAAAAAAAAAAAAAAAAAAAAAAAAAAAAAAAAAAAAAAAAAAAAAAAAAAAAAAAAAAAAAAAAAAAAAAAAAAAAAAAAAAAAAAAAAAAAAAAAAAAAAAAAAAAAAAAAAAAAAAAAAAAAAAAAAAAAAAAAAAAAAAAAAAAAAAAAAAAAAAAAAAAAAAAAAAAAAAAAAAAAAAAAAAAAAAAAAAAAAAAAAAAAAAAAAAAAAAAAAAAAAAAAAAAAAAAAAAAAAAAAAAAAAAAAAAAAAAAAAAAAAAAAAAAAAAAAAAAAAAAAAAAAAAAAAAAAAAAAAAAAAAAAAAAAAAAAAAAAAAAAAAAAAAAAAAAAAAAAAAAAAAAAAAAAAAAAAAAAAAAAAAAAAAAAAAAAAAAAAAAAAAAAAAAAAAAAAAAAAAAAAAAAAAAAAAAAAAAAAAACwAAAAAAQABAAAIBQABNAsIADs=\"><title>Layer: output1 (output)\n shape = (1,)\n Keras class = Dense\n activation = sigmoid</title></image><text x=\"296.6666666666667\" y=\"52.0\" font-family=\"monospace\" font-size=\"12\" text-anchor=\"start\" alignment-baseline=\"central\">output1</text><rect x=\"507.33333333333337\" y=\"24\" width=\"52\" height=\"52\" style=\"fill:none;stroke:black;stroke-width:2\"/><image id=\"XOR2 Network_output2_2\" class=\"XOR2 Network_output2\" x=\"508.33333333333337\" y=\"25\" height=\"50\" width=\"50\" preserveAspectRatio=\"none\" href=\"data:image/gif;base64,R0lGODdhAQABAIcAAEFB/wAAAAAAAAAAAAAAAAAAAAAAAAAAAAAAAAAAAAAAAAAAAAAAAAAAAAAAAAAAAAAAAAAAAAAAAAAAAAAAAAAAAAAAAAAAAAAAAAAAAAAAAAAAAAAAAAAAAAAAAAAAAAAAAAAAAAAAAAAAAAAAAAAAAAAAAAAAAAAAAAAAAAAAAAAAAAAAAAAAAAAAAAAAAAAAAAAAAAAAAAAAAAAAAAAAAAAAAAAAAAAAAAAAAAAAAAAAAAAAAAAAAAAAAAAAAAAAAAAAAAAAAAAAAAAAAAAAAAAAAAAAAAAAAAAAAAAAAAAAAAAAAAAAAAAAAAAAAAAAAAAAAAAAAAAAAAAAAAAAAAAAAAAAAAAAAAAAAAAAAAAAAAAAAAAAAAAAAAAAAAAAAAAAAAAAAAAAAAAAAAAAAAAAAAAAAAAAAAAAAAAAAAAAAAAAAAAAAAAAAAAAAAAAAAAAAAAAAAAAAAAAAAAAAAAAAAAAAAAAAAAAAAAAAAAAAAAAAAAAAAAAAAAAAAAAAAAAAAAAAAAAAAAAAAAAAAAAAAAAAAAAAAAAAAAAAAAAAAAAAAAAAAAAAAAAAAAAAAAAAAAAAAAAAAAAAAAAAAAAAAAAAAAAAAAAAAAAAAAAAAAAAAAAAAAAAAAAAAAAAAAAAAAAAAAAAAAAAAAAAAAAAAAAAAAAAAAAAAAAAAAAAAAAAAAAAAAAAAAAAAAAAAAAAAAAAAAAAAAAAAAAAAAAAAAAAAAAAAAAAAAAAAAAAAAAAAAAAAAAAAAAAAAAAAAAAAAAAAAAAAAAAAAAAAAAAAAAAAAAAAAAAAAAAAAAAAAAAAAAAAAAAAAAAAAAAAAAAAAAAAAAAAAAAAAAAAAAAAAAAAAAAAAAAAAAAAAAAAAAAAAAAAAAAAAAAAAAAAAAAAAAAAAAAAAAAAAAAAAAAAAAAAAAAAAAAAAAAAAAAAAAAAAAAAAAAAAAAAAAAAAAAAAAAAAAAAAAAAAAAAAAAAAAAAAAAAAAAAAAAAAAAAAAAAAAAAAAAAAAACwAAAAAAQABAAAIBQABcAoIADs=\"><title>Layer: output2 (output)\n shape = (1,)\n Keras class = Dense\n activation = sigmoid</title></image><text x=\"563.3333333333334\" y=\"52.0\" font-family=\"monospace\" font-size=\"12\" text-anchor=\"start\" alignment-baseline=\"central\">output2</text><line x1=\"400.0\" y1=\"104\" x2=\"266.6666666666667\" y2=\"77\" stroke=\"black\" stroke-width=\"2\" marker-end=\"url(#arrow)\"><title>Weights from shared-hidden to output1\n output1/kernel has shape (5, 1)\n output1/bias has shape (1,)</title></line><line x1=\"400.0\" y1=\"104\" x2=\"533.3333333333334\" y2=\"77\" stroke=\"black\" stroke-width=\"2\" marker-end=\"url(#arrow)\"><title>Weights from shared-hidden to output2\n output2/kernel has shape (5, 1)\n output2/bias has shape (1,)</title></line><rect x=\"299.0\" y=\"104\" width=\"202\" height=\"42\" style=\"fill:none;stroke:black;stroke-width:2\"/><image id=\"XOR2 Network_shared-hidden_3\" class=\"XOR2 Network_shared-hidden\" x=\"300.0\" y=\"105\" height=\"40\" width=\"200\" preserveAspectRatio=\"none\" href=\"data:image/gif;base64,R0lGODdhBQABAIcAAAQE7j09/0FB/wAAAAAAAAAAAAAAAAAAAAAAAAAAAAAAAAAAAAAAAAAAAAAAAAAAAAAAAAAAAAAAAAAAAAAAAAAAAAAAAAAAAAAAAAAAAAAAAAAAAAAAAAAAAAAAAAAAAAAAAAAAAAAAAAAAAAAAAAAAAAAAAAAAAAAAAAAAAAAAAAAAAAAAAAAAAAAAAAAAAAAAAAAAAAAAAAAAAAAAAAAAAAAAAAAAAAAAAAAAAAAAAAAAAAAAAAAAAAAAAAAAAAAAAAAAAAAAAAAAAAAAAAAAAAAAAAAAAAAAAAAAAAAAAAAAAAAAAAAAAAAAAAAAAAAAAAAAAAAAAAAAAAAAAAAAAAAAAAAAAAAAAAAAAAAAAAAAAAAAAAAAAAAAAAAAAAAAAAAAAAAAAAAAAAAAAAAAAAAAAAAAAAAAAAAAAAAAAAAAAAAAAAAAAAAAAAAAAAAAAAAAAAAAAAAAAAAAAAAAAAAAAAAAAAAAAAAAAAAAAAAAAAAAAAAAAAAAAAAAAAAAAAAAAAAAAAAAAAAAAAAAAAAAAAAAAAAAAAAAAAAAAAAAAAAAAAAAAAAAAAAAAAAAAAAAAAAAAAAAAAAAAAAAAAAAAAAAAAAAAAAAAAAAAAAAAAAAAAAAAAAAAAAAAAAAAAAAAAAAAAAAAAAAAAAAAAAAAAAAAAAAAAAAAAAAAAAAAAAAAAAAAAAAAAAAAAAAAAAAAAAAAAAAAAAAAAAAAAAAAAAAAAAAAAAAAAAAAAAAAAAAAAAAAAAAAAAAAAAAAAAAAAAAAAAAAAAAAAAAAAAAAAAAAAAAAAAAAAAAAAAAAAAAAAAAAAAAAAAAAAAAAAAAAAAAAAAAAAAAAAAAAAAAAAAAAAAAAAAAAAAAAAAAAAAAAAAAAAAAAAAAAAAAAAAAAAAAAAAAAAAAAAAAAAAAAAAAAAAAAAAAAAAAAAAAAAAAAAAAAAAAAAAAAAAAAAAAAAAAAAAAAAAAAAAAAAAAAAAAAAAAAAAAAAAAAAAAAAAAAAAAAAAAAAAAACwAAAAABQABAAAIBwAFABgYICAAOw==\"><title>Layer: shared-hidden (hidden)\n shape = (5,)\n Keras class = Dense\n activation = sigmoid</title></image><text x=\"505.0\" y=\"127.0\" font-family=\"monospace\" font-size=\"12\" text-anchor=\"start\" alignment-baseline=\"central\">shared-hidden</text><line x1=\"266.6666666666667\" y1=\"174\" x2=\"400.0\" y2=\"147\" stroke=\"black\" stroke-width=\"2\" marker-end=\"url(#arrow)\"><title>Weights from hidden1 to shared-hidden\n shared-hidden/kernel has shape (20, 5)\n shared-hidden/bias has shape (5,)</title></line><rect x=\"165.66666666666669\" y=\"174\" width=\"202\" height=\"27\" style=\"fill:none;stroke:black;stroke-width:2\"/><image id=\"XOR2 Network_hidden1_4\" class=\"XOR2 Network_hidden1\" x=\"166.66666666666669\" y=\"175\" height=\"25\" width=\"200\" preserveAspectRatio=\"none\" href=\"data:image/gif;base64,R0lGODdhCgABAIcAAAAA/wAAAAAAAAAAAAAAAAAAAAAAAAAAAAAAAAAAAAAAAAAAAAAAAAAAAAAAAAAAAAAAAAAAAAAAAAAAAAAAAAAAAAAAAAAAAAAAAAAAAAAAAAAAAAAAAAAAAAAAAAAAAAAAAAAAAAAAAAAAAAAAAAAAAAAAAAAAAAAAAAAAAAAAAAAAAAAAAAAAAAAAAAAAAAAAAAAAAAAAAAAAAAAAAAAAAAAAAAAAAAAAAAAAAAAAAAAAAAAAAAAAAAAAAAAAAAAAAAAAAAAAAAAAAAAAAAAAAAAAAAAAAAAAAAAAAAAAAAAAAAAAAAAAAAAAAAAAAAAAAAAAAAAAAAAAAAAAAAAAAAAAAAAAAAAAAAAAAAAAAAAAAAAAAAAAAAAAAAAAAAAAAAAAAAAAAAAAAAAAAAAAAAAAAAAAAAAAAAAAAAAAAAAAAAAAAAAAAAAAAAAAAAAAAAAAAAAAAAAAAAAAAAAAAAAAAAAAAAAAAAAAAAAAAAAAAAAAAAAAAAAAAAAAAAAAAAAAAAAAAAAAAAAAAAAAAAAAAAAAAAAAAAAAAAAAAAAAAAAAAAAAAAAAAAAAAAAAAAAAAAAAAAAAAAAAAAAAAAAAAAAAAAAAAAAAAAAAAAAAAAAAAAAAAAAAAAAAAAAAAAAAAAAAAAAAAAAAAAAAAAAAAAAAAAAAAAAAAAAAAAAAAAAAAAAAAAAAAAAAAAAAAAAAAAAAAAAAAAAAAAAAAAAAAAAAAAAAAAAAAAAAAAAAAAAAAAAAAAAAAAAAAAAAAAAAAAAAAAAAAAAAAAAAAAAAAAAAAAAAAAAAAAAAAAAAAAAAAAAAAAAAAAAAAAAAAAAAAAAAAAAAAAAAAAAAAAAAAAAAAAAAAAAAAAAAAAAAAAAAAAAAAAAAAAAAAAAAAAAAAAAAAAAAAAAAAAAAAAAAAAAAAAAAAAAAAAAAAAAAAAAAAAAAAAAAAAAAAAAAAAAAAAAAAAAAAAAAAAAAAAAAAAAAAAAAAAAAAAAAAAAAAAAAAAAAAAAAAAAAACwAAAAACgABAAAIBwABCBxIMCAAOw==\"><title>Layer: hidden1 (hidden)\n shape = (10,)\n Keras class = Dense\n activation = sigmoid</title></image><text x=\"371.6666666666667\" y=\"189.5\" font-family=\"monospace\" font-size=\"12\" text-anchor=\"start\" alignment-baseline=\"central\">hidden1</text><line x1=\"533.3333333333334\" y1=\"174\" x2=\"400.0\" y2=\"147\" stroke=\"black\" stroke-width=\"2\" marker-end=\"url(#arrow)\"><title>Weights from hidden2 to shared-hidden\n shared-hidden/kernel has shape (20, 5)\n shared-hidden/bias has shape (5,)</title></line><rect x=\"432.33333333333337\" y=\"174\" width=\"202\" height=\"27\" style=\"fill:none;stroke:black;stroke-width:2\"/><image id=\"XOR2 Network_hidden2_5\" class=\"XOR2 Network_hidden2\" x=\"433.33333333333337\" y=\"175\" height=\"25\" width=\"200\" preserveAspectRatio=\"none\" href=\"data:image/gif;base64,R0lGODdhCgABAIcAAAAA/wAAAAAAAAAAAAAAAAAAAAAAAAAAAAAAAAAAAAAAAAAAAAAAAAAAAAAAAAAAAAAAAAAAAAAAAAAAAAAAAAAAAAAAAAAAAAAAAAAAAAAAAAAAAAAAAAAAAAAAAAAAAAAAAAAAAAAAAAAAAAAAAAAAAAAAAAAAAAAAAAAAAAAAAAAAAAAAAAAAAAAAAAAAAAAAAAAAAAAAAAAAAAAAAAAAAAAAAAAAAAAAAAAAAAAAAAAAAAAAAAAAAAAAAAAAAAAAAAAAAAAAAAAAAAAAAAAAAAAAAAAAAAAAAAAAAAAAAAAAAAAAAAAAAAAAAAAAAAAAAAAAAAAAAAAAAAAAAAAAAAAAAAAAAAAAAAAAAAAAAAAAAAAAAAAAAAAAAAAAAAAAAAAAAAAAAAAAAAAAAAAAAAAAAAAAAAAAAAAAAAAAAAAAAAAAAAAAAAAAAAAAAAAAAAAAAAAAAAAAAAAAAAAAAAAAAAAAAAAAAAAAAAAAAAAAAAAAAAAAAAAAAAAAAAAAAAAAAAAAAAAAAAAAAAAAAAAAAAAAAAAAAAAAAAAAAAAAAAAAAAAAAAAAAAAAAAAAAAAAAAAAAAAAAAAAAAAAAAAAAAAAAAAAAAAAAAAAAAAAAAAAAAAAAAAAAAAAAAAAAAAAAAAAAAAAAAAAAAAAAAAAAAAAAAAAAAAAAAAAAAAAAAAAAAAAAAAAAAAAAAAAAAAAAAAAAAAAAAAAAAAAAAAAAAAAAAAAAAAAAAAAAAAAAAAAAAAAAAAAAAAAAAAAAAAAAAAAAAAAAAAAAAAAAAAAAAAAAAAAAAAAAAAAAAAAAAAAAAAAAAAAAAAAAAAAAAAAAAAAAAAAAAAAAAAAAAAAAAAAAAAAAAAAAAAAAAAAAAAAAAAAAAAAAAAAAAAAAAAAAAAAAAAAAAAAAAAAAAAAAAAAAAAAAAAAAAAAAAAAAAAAAAAAAAAAAAAAAAAAAAAAAAAAAAAAAAAAAAAAAAAAAAAAAAAAAAAAAAAAAAAAAAAAAAAAAAAAAAAAACwAAAAACgABAAAIBwABCBxIMCAAOw==\"><title>Layer: hidden2 (hidden)\n shape = (10,)\n Keras class = Dense\n activation = sigmoid</title></image><text x=\"638.3333333333334\" y=\"189.5\" font-family=\"monospace\" font-size=\"12\" text-anchor=\"start\" alignment-baseline=\"central\">hidden2</text><line x1=\"266.6666666666667\" y1=\"229\" x2=\"266.6666666666667\" y2=\"202\" stroke=\"black\" stroke-width=\"2\" marker-end=\"url(#arrow)\"><title>Weights from input1 to hidden1\n hidden1/kernel has shape (1, 10)\n hidden1/bias has shape (10,)</title></line><rect x=\"240.66666666666669\" y=\"229\" width=\"52\" height=\"52\" style=\"fill:none;stroke:black;stroke-width:2\"/><image id=\"XOR2 Network_input1_6\" class=\"XOR2 Network_input1\" x=\"241.66666666666669\" y=\"230\" height=\"50\" width=\"50\" preserveAspectRatio=\"none\" href=\"data:image/gif;base64,R0lGODdhAQABAIcAAP/9/QAAAAAAAAAAAAAAAAAAAAAAAAAAAAAAAAAAAAAAAAAAAAAAAAAAAAAAAAAAAAAAAAAAAAAAAAAAAAAAAAAAAAAAAAAAAAAAAAAAAAAAAAAAAAAAAAAAAAAAAAAAAAAAAAAAAAAAAAAAAAAAAAAAAAAAAAAAAAAAAAAAAAAAAAAAAAAAAAAAAAAAAAAAAAAAAAAAAAAAAAAAAAAAAAAAAAAAAAAAAAAAAAAAAAAAAAAAAAAAAAAAAAAAAAAAAAAAAAAAAAAAAAAAAAAAAAAAAAAAAAAAAAAAAAAAAAAAAAAAAAAAAAAAAAAAAAAAAAAAAAAAAAAAAAAAAAAAAAAAAAAAAAAAAAAAAAAAAAAAAAAAAAAAAAAAAAAAAAAAAAAAAAAAAAAAAAAAAAAAAAAAAAAAAAAAAAAAAAAAAAAAAAAAAAAAAAAAAAAAAAAAAAAAAAAAAAAAAAAAAAAAAAAAAAAAAAAAAAAAAAAAAAAAAAAAAAAAAAAAAAAAAAAAAAAAAAAAAAAAAAAAAAAAAAAAAAAAAAAAAAAAAAAAAAAAAAAAAAAAAAAAAAAAAAAAAAAAAAAAAAAAAAAAAAAAAAAAAAAAAAAAAAAAAAAAAAAAAAAAAAAAAAAAAAAAAAAAAAAAAAAAAAAAAAAAAAAAAAAAAAAAAAAAAAAAAAAAAAAAAAAAAAAAAAAAAAAAAAAAAAAAAAAAAAAAAAAAAAAAAAAAAAAAAAAAAAAAAAAAAAAAAAAAAAAAAAAAAAAAAAAAAAAAAAAAAAAAAAAAAAAAAAAAAAAAAAAAAAAAAAAAAAAAAAAAAAAAAAAAAAAAAAAAAAAAAAAAAAAAAAAAAAAAAAAAAAAAAAAAAAAAAAAAAAAAAAAAAAAAAAAAAAAAAAAAAAAAAAAAAAAAAAAAAAAAAAAAAAAAAAAAAAAAAAAAAAAAAAAAAAAAAAAAAAAAAAAAAAAAAAAAAAAAAAAAAAAAAAAAAAAAAAAAAAAAAAAAAAAAAAAAAAAAAAAAAAAAAAAAACwAAAAAAQABAAAIBQABcAoIADs=\"><title>Layer: input1 (input)\n shape = (1,)\n Keras class = Input</title></image><text x=\"296.6666666666667\" y=\"257.0\" font-family=\"monospace\" font-size=\"12\" text-anchor=\"start\" alignment-baseline=\"central\">input1</text><line x1=\"533.3333333333334\" y1=\"229\" x2=\"533.3333333333334\" y2=\"202\" stroke=\"black\" stroke-width=\"2\" marker-end=\"url(#arrow)\"><title>Weights from input2 to hidden2\n hidden2/kernel has shape (1, 10)\n hidden2/bias has shape (10,)</title></line><rect x=\"507.33333333333337\" y=\"229\" width=\"52\" height=\"52\" style=\"fill:none;stroke:black;stroke-width:2\"/><image id=\"XOR2 Network_input2_7\" class=\"XOR2 Network_input2\" x=\"508.33333333333337\" y=\"230\" height=\"50\" width=\"50\" preserveAspectRatio=\"none\" href=\"data:image/gif;base64,R0lGODdhAQABAIcAAP/9/QAAAAAAAAAAAAAAAAAAAAAAAAAAAAAAAAAAAAAAAAAAAAAAAAAAAAAAAAAAAAAAAAAAAAAAAAAAAAAAAAAAAAAAAAAAAAAAAAAAAAAAAAAAAAAAAAAAAAAAAAAAAAAAAAAAAAAAAAAAAAAAAAAAAAAAAAAAAAAAAAAAAAAAAAAAAAAAAAAAAAAAAAAAAAAAAAAAAAAAAAAAAAAAAAAAAAAAAAAAAAAAAAAAAAAAAAAAAAAAAAAAAAAAAAAAAAAAAAAAAAAAAAAAAAAAAAAAAAAAAAAAAAAAAAAAAAAAAAAAAAAAAAAAAAAAAAAAAAAAAAAAAAAAAAAAAAAAAAAAAAAAAAAAAAAAAAAAAAAAAAAAAAAAAAAAAAAAAAAAAAAAAAAAAAAAAAAAAAAAAAAAAAAAAAAAAAAAAAAAAAAAAAAAAAAAAAAAAAAAAAAAAAAAAAAAAAAAAAAAAAAAAAAAAAAAAAAAAAAAAAAAAAAAAAAAAAAAAAAAAAAAAAAAAAAAAAAAAAAAAAAAAAAAAAAAAAAAAAAAAAAAAAAAAAAAAAAAAAAAAAAAAAAAAAAAAAAAAAAAAAAAAAAAAAAAAAAAAAAAAAAAAAAAAAAAAAAAAAAAAAAAAAAAAAAAAAAAAAAAAAAAAAAAAAAAAAAAAAAAAAAAAAAAAAAAAAAAAAAAAAAAAAAAAAAAAAAAAAAAAAAAAAAAAAAAAAAAAAAAAAAAAAAAAAAAAAAAAAAAAAAAAAAAAAAAAAAAAAAAAAAAAAAAAAAAAAAAAAAAAAAAAAAAAAAAAAAAAAAAAAAAAAAAAAAAAAAAAAAAAAAAAAAAAAAAAAAAAAAAAAAAAAAAAAAAAAAAAAAAAAAAAAAAAAAAAAAAAAAAAAAAAAAAAAAAAAAAAAAAAAAAAAAAAAAAAAAAAAAAAAAAAAAAAAAAAAAAAAAAAAAAAAAAAAAAAAAAAAAAAAAAAAAAAAAAAAAAAAAAAAAAAAAAAAAAAAAAAAAAAAAAAAAAAAAAAAAAAAAAACwAAAAAAQABAAAIBQABcAoIADs=\"><title>Layer: input2 (input)\n shape = (1,)\n Keras class = Input</title></image><text x=\"563.3333333333334\" y=\"257.0\" font-family=\"monospace\" font-size=\"12\" text-anchor=\"start\" alignment-baseline=\"central\">input2</text></svg></p>"
      }
     },
     "e9f98836b8014f68b6567828d1f93417": {
      "model_module": "@jupyter-widgets/output",
      "model_module_version": "1.0.0",
      "model_name": "OutputModel",
      "state": {
       "layout": "IPY_MODEL_f29ab5b8b901487683d0028c2d5095f7"
      }
     },
     "eafcae661bb04267b41ca25b1e91834a": {
      "model_module": "@jupyter-widgets/base",
      "model_module_version": "1.0.0",
      "model_name": "LayoutModel",
      "state": {
       "width": "100px"
      }
     },
     "ecc0ea531efb45baa840d97efc64b185": {
      "model_module": "@jupyter-widgets/controls",
      "model_module_version": "1.0.0",
      "model_name": "ButtonStyleModel",
      "state": {}
     },
     "ed407e886c6e40ed81a6250697e8b301": {
      "model_module": "@jupyter-widgets/controls",
      "model_module_version": "1.0.0",
      "model_name": "HTMLModel",
      "state": {
       "layout": "IPY_MODEL_b3ccf83d27bd4f51a11ba3c6fd165aaf",
       "style": "IPY_MODEL_bfd67d1aaa48446eb1f64b2234167574",
       "value": "<img src=\"data:image/gif;base64,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\"/>"
      }
     },
     "edda2105091f44a3a9b600c36836053f": {
      "model_module": "@jupyter-widgets/base",
      "model_module_version": "1.0.0",
      "model_name": "LayoutModel",
      "state": {
       "width": "100%"
      }
     },
     "ee28cac03ec9445b932ba25ad87812fb": {
      "model_module": "@jupyter-widgets/base",
      "model_module_version": "1.0.0",
      "model_name": "LayoutModel",
      "state": {}
     },
     "ee8e7f3e589e4336a81be01253157d04": {
      "model_module": "@jupyter-widgets/controls",
      "model_module_version": "1.0.0",
      "model_name": "DescriptionStyleModel",
      "state": {
       "description_width": "initial"
      }
     },
     "eec56a4950414e9d94bfe4e777c93244": {
      "model_module": "@jupyter-widgets/controls",
      "model_module_version": "1.0.0",
      "model_name": "ButtonStyleModel",
      "state": {}
     },
     "ef9e501936914e54a8849d3f805d3a69": {
      "model_module": "@jupyter-widgets/controls",
      "model_module_version": "1.0.0",
      "model_name": "ButtonStyleModel",
      "state": {}
     },
     "f29ab5b8b901487683d0028c2d5095f7": {
      "model_module": "@jupyter-widgets/base",
      "model_module_version": "1.0.0",
      "model_name": "LayoutModel",
      "state": {}
     },
     "f29b4050a7c841ffabd007a2a522a862": {
      "model_module": "@jupyter-widgets/controls",
      "model_module_version": "1.0.0",
      "model_name": "IntTextModel",
      "state": {
       "description": "Feature to show:",
       "layout": "IPY_MODEL_fb9dad168df64e9180ebb8684b1658bb",
       "step": 1,
       "style": "IPY_MODEL_6db7ab9c17624a5290ec6a282867c1d8"
      }
     },
     "f4a094c425814a88bd48b9e03901bc1c": {
      "model_module": "@jupyter-widgets/controls",
      "model_module_version": "1.0.0",
      "model_name": "DescriptionStyleModel",
      "state": {
       "description_width": "initial"
      }
     },
     "f568f5fb4c28406e8b244922364ccdbc": {
      "model_module": "@jupyter-widgets/controls",
      "model_module_version": "1.0.0",
      "model_name": "SelectModel",
      "state": {
       "_options_labels": [
        ""
       ],
       "description": "Features:",
       "index": 0,
       "layout": "IPY_MODEL_77d8785b3fab429fa19cbcf1b91d42a3",
       "rows": 1,
       "style": "IPY_MODEL_65513fe69d4a47bd842d93d32a5cbaaf"
      }
     },
     "f5b0e91878e243609aaba3423d53820f": {
      "model_module": "@jupyter-widgets/output",
      "model_module_version": "1.0.0",
      "model_name": "OutputModel",
      "state": {
       "layout": "IPY_MODEL_ee28cac03ec9445b932ba25ad87812fb"
      }
     },
     "f635c6f27911445aa0d6feade708e611": {
      "model_module": "@jupyter-widgets/controls",
      "model_module_version": "1.0.0",
      "model_name": "DescriptionStyleModel",
      "state": {
       "description_width": "initial"
      }
     },
     "f8fa202d055443808ac8d408589f9267": {
      "model_module": "@jupyter-widgets/base",
      "model_module_version": "1.0.0",
      "model_name": "LayoutModel",
      "state": {
       "width": "100%"
      }
     },
     "f9149ce4988047aa8ee0a05d34d57770": {
      "model_module": "@jupyter-widgets/base",
      "model_module_version": "1.0.0",
      "model_name": "LayoutModel",
      "state": {}
     },
     "fa59230725384b14b3e1170cfdd8bfdf": {
      "model_module": "@jupyter-widgets/base",
      "model_module_version": "1.0.0",
      "model_name": "LayoutModel",
      "state": {}
     },
     "fb9dad168df64e9180ebb8684b1658bb": {
      "model_module": "@jupyter-widgets/base",
      "model_module_version": "1.0.0",
      "model_name": "LayoutModel",
      "state": {}
     },
     "fcb9680e63c24f65b7ab84c67c852f13": {
      "model_module": "@jupyter-widgets/base",
      "model_module_version": "1.0.0",
      "model_name": "LayoutModel",
      "state": {
       "width": "100%"
      }
     },
     "fd689e66667f43edabf157e40858a078": {
      "model_module": "@jupyter-widgets/controls",
      "model_module_version": "1.0.0",
      "model_name": "CheckboxModel",
      "state": {
       "description": "Errors",
       "disabled": false,
       "layout": "IPY_MODEL_38857e0b0e4144c0b46e419ee77c45e7",
       "style": "IPY_MODEL_53412851bf4e4219a66350d3d5b396e9",
       "value": false
      }
     },
     "fe2ad63ffe39442fb6ed011391247fdc": {
      "model_module": "@jupyter-widgets/base",
      "model_module_version": "1.0.0",
      "model_name": "LayoutModel",
      "state": {
       "height": "40px"
      }
     },
     "ff16ace8ae544006858abbf9c5cdacc9": {
      "model_module": "@jupyter-widgets/controls",
      "model_module_version": "1.0.0",
      "model_name": "DescriptionStyleModel",
      "state": {
       "description_width": "initial"
      }
     },
     "ff2e921169ea419fa039607d978d0e0c": {
      "model_module": "@jupyter-widgets/controls",
      "model_module_version": "1.0.0",
      "model_name": "DescriptionStyleModel",
      "state": {
       "description_width": "initial"
      }
     }
    },
    "version_major": 2,
    "version_minor": 0
   }
  }
 },
 "nbformat": 4,
 "nbformat_minor": 2
}
