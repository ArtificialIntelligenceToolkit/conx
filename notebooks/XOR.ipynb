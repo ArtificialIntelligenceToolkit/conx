{
 "cells": [
  {
   "cell_type": "markdown",
   "metadata": {},
   "source": [
    "# XOR Multiple Inputs/Targets\n",
    "\n",
    "Testing..."
   ]
  },
  {
   "cell_type": "code",
   "execution_count": 1,
   "metadata": {},
   "outputs": [
    {
     "name": "stderr",
     "output_type": "stream",
     "text": [
      "Using Theano backend.\n"
     ]
    }
   ],
   "source": [
    "from conx import Network, Layer, SGD"
   ]
  },
  {
   "cell_type": "code",
   "execution_count": 2,
   "metadata": {
    "collapsed": true
   },
   "outputs": [],
   "source": [
    "net = Network(\"XOR\", 2, 5, 2, activation=\"sigmoid\")\n",
    "net.connect()\n",
    "dataset = [\n",
    "    ([0, 0], [0, 0]),\n",
    "    ([0, 1], [1, 1]),\n",
    "    ([1, 0], [1, 1]),\n",
    "    ([1, 1], [0, 0])\n",
    "]"
   ]
  },
  {
   "cell_type": "code",
   "execution_count": 3,
   "metadata": {},
   "outputs": [
    {
     "name": "stdout",
     "output_type": "stream",
     "text": [
      "Split dataset into:\n",
      "   4 train inputs\n",
      "   0 test inputs\n",
      "Input Summary:\n",
      "   length  : 4\n",
      "   training: 4\n",
      "   testing : 0\n",
      "   shape  : (2,)\n",
      "   range  : (0.0, 1.0)\n",
      "Target Summary:\n",
      "   length  : 4\n",
      "   training: 4\n",
      "   testing : 0\n",
      "   shape  : (2,)\n",
      "   range  : (0.0, 1.0)\n"
     ]
    }
   ],
   "source": [
    "net.set_dataset(dataset)"
   ]
  },
  {
   "cell_type": "code",
   "execution_count": 4,
   "metadata": {},
   "outputs": [
    {
     "data": {
      "text/plain": [
       "[0.0, 0.0]"
      ]
     },
     "execution_count": 4,
     "metadata": {},
     "output_type": "execute_result"
    }
   ],
   "source": [
    "net.get_target(0)"
   ]
  },
  {
   "cell_type": "code",
   "execution_count": 5,
   "metadata": {
    "collapsed": true
   },
   "outputs": [],
   "source": [
    "net.compile(loss='mean_squared_error',\n",
    "            optimizer=SGD(lr=0.3, momentum=0.9))"
   ]
  },
  {
   "cell_type": "code",
   "execution_count": 6,
   "metadata": {},
   "outputs": [
    {
     "name": "stdout",
     "output_type": "stream",
     "text": [
      "Training...\n",
      "Epoch #   25 | train loss 0.25125 | train acc 0.75000 | validate% 0.00000\n",
      "Epoch #   50 | train loss 0.25007 | train acc 0.50000 | validate% 0.00000\n",
      "Epoch #   75 | train loss 0.24970 | train acc 0.50000 | validate% 0.00000\n",
      "Epoch #  100 | train loss 0.24896 | train acc 0.50000 | validate% 0.00000\n",
      "Epoch #  125 | train loss 0.24674 | train acc 0.50000 | validate% 0.00000\n",
      "Epoch #  150 | train loss 0.23926 | train acc 0.50000 | validate% 0.00000\n",
      "Epoch #  175 | train loss 0.21957 | train acc 0.50000 | validate% 0.00000\n",
      "Epoch #  200 | train loss 0.18405 | train acc 0.25000 | validate% 0.00000\n",
      "Epoch #  225 | train loss 0.14289 | train acc 0.50000 | validate% 0.00000\n",
      "Epoch #  250 | train loss 0.09708 | train acc 0.50000 | validate% 0.00000\n",
      "Epoch #  275 | train loss 0.05578 | train acc 0.50000 | validate% 0.00000\n",
      "Epoch #  300 | train loss 0.03226 | train acc 0.50000 | validate% 0.00000\n",
      "Epoch #  325 | train loss 0.02081 | train acc 0.50000 | validate% 0.25000\n",
      "Epoch #  350 | train loss 0.01484 | train acc 0.50000 | validate% 0.25000\n",
      "Epoch #  375 | train loss 0.01134 | train acc 0.50000 | validate% 0.75000\n",
      "Epoch #  400 | train loss 0.00910 | train acc 0.50000 | validate% 0.75000\n",
      "Epoch #  425 | train loss 0.00755 | train acc 0.25000 | validate% 0.75000\n",
      "Epoch #  450 | train loss 0.00643 | train acc 0.25000 | validate% 0.75000\n",
      "Epoch #  475 | train loss 0.00558 | train acc 0.25000 | validate% 0.75000\n",
      "Epoch #  500 | train loss 0.00492 | train acc 0.25000 | validate% 0.75000\n",
      "========================================================================\n",
      "Epoch #  512 | train loss 0.00465 | train acc 0.25000 | validate% 1.00000\n"
     ]
    }
   ],
   "source": [
    "net.train(epochs=2000, accuracy=1.0, report_rate=25)"
   ]
  },
  {
   "cell_type": "code",
   "execution_count": 7,
   "metadata": {},
   "outputs": [
    {
     "name": "stdout",
     "output_type": "stream",
     "text": [
      "Testing...\n",
      "# | inputs | targets | outputs\n",
      "0 | [0.0, 0.0] | [0.0, 0.0] | [0.0, 0.0]\n",
      "1 | [0.0, 1.0] | [1.0, 1.0] | [0.9, 0.9]\n",
      "2 | [1.0, 0.0] | [1.0, 1.0] | [0.9, 0.9]\n",
      "3 | [1.0, 1.0] | [0.0, 0.0] | [0.1, 0.1]\n"
     ]
    }
   ],
   "source": [
    "net.test()"
   ]
  },
  {
   "cell_type": "code",
   "execution_count": 8,
   "metadata": {},
   "outputs": [
    {
     "data": {
      "application/javascript": [
       "\n",
       "require(['base/js/namespace'], function(Jupyter) {\n",
       "    Jupyter.notebook.kernel.comm_manager.register_target('conx_svg_control', function(comm, msg) {\n",
       "        comm.on_msg(function(msg) {\n",
       "            var data = msg[\"content\"][\"data\"];\n",
       "            var images = document.getElementsByClassName(data[\"class\"]);\n",
       "            for (var i = 0; i < images.length; i++) {\n",
       "                images[i].setAttributeNS(null, \"href\", data[\"href\"]);\n",
       "            }\n",
       "        });\n",
       "    });\n",
       "});\n"
      ],
      "text/plain": [
       "<IPython.core.display.Javascript object>"
      ]
     },
     "metadata": {},
     "output_type": "display_data"
    },
    {
     "data": {
      "application/vnd.jupyter.widget-view+json": {
       "model_id": "3564ad6cd1ed464787c019f3cd5e2068"
      }
     },
     "metadata": {},
     "output_type": "display_data"
    }
   ],
   "source": [
    "net.make_widget()"
   ]
  },
  {
   "cell_type": "code",
   "execution_count": 9,
   "metadata": {},
   "outputs": [
    {
     "data": {
      "text/plain": [
       "[0.0, 1.0]"
      ]
     },
     "execution_count": 9,
     "metadata": {},
     "output_type": "execute_result"
    }
   ],
   "source": [
    "net.propagate_to(\"input\", [0, 1])"
   ]
  },
  {
   "cell_type": "code",
   "execution_count": 10,
   "metadata": {},
   "outputs": [
    {
     "data": {
      "text/plain": [
       "[0.21613617, 0.23198915]"
      ]
     },
     "execution_count": 10,
     "metadata": {},
     "output_type": "execute_result"
    }
   ],
   "source": [
    "net.propagate([0.5, 0.5])"
   ]
  },
  {
   "cell_type": "code",
   "execution_count": 11,
   "metadata": {},
   "outputs": [
    {
     "data": {
      "text/plain": [
       "[0.000480635033454746,\n",
       " 0.014374571852385998,\n",
       " 0.8942601084709167,\n",
       " 0.5025742650032043,\n",
       " 0.40186434984207153]"
      ]
     },
     "execution_count": 11,
     "metadata": {},
     "output_type": "execute_result"
    }
   ],
   "source": [
    "net.propagate_to(\"hidden\", [1, 0])"
   ]
  },
  {
   "cell_type": "code",
   "execution_count": 12,
   "metadata": {},
   "outputs": [
    {
     "data": {
      "text/plain": [
       "[0.5994237661361694, 0.6120522618293762]"
      ]
     },
     "execution_count": 12,
     "metadata": {},
     "output_type": "execute_result"
    }
   ],
   "source": [
    "net.propagate_to(\"output\", [0.25, 0.75])"
   ]
  },
  {
   "cell_type": "code",
   "execution_count": 13,
   "metadata": {},
   "outputs": [
    {
     "data": {
      "text/plain": [
       "[0.25, 0.25]"
      ]
     },
     "execution_count": 13,
     "metadata": {},
     "output_type": "execute_result"
    }
   ],
   "source": [
    "net.propagate_to(\"input\", [0.25, 0.25])"
   ]
  },
  {
   "cell_type": "code",
   "execution_count": 14,
   "metadata": {},
   "outputs": [
    {
     "data": {
      "text/plain": [
       "[0.67862564, 0.64391273]"
      ]
     },
     "execution_count": 14,
     "metadata": {},
     "output_type": "execute_result"
    }
   ],
   "source": [
    "net.propagate_from(\"input\", [1.0, 1.0])"
   ]
  },
  {
   "cell_type": "code",
   "execution_count": 15,
   "metadata": {},
   "outputs": [
    {
     "data": {
      "text/plain": [
       "[0.7737425, 0.68368661]"
      ]
     },
     "execution_count": 15,
     "metadata": {},
     "output_type": "execute_result"
    }
   ],
   "source": [
    "net.propagate_from(\"hidden\", [1.0, 1.0, 0.0, 0.0, 0.0])"
   ]
  },
  {
   "cell_type": "code",
   "execution_count": 16,
   "metadata": {},
   "outputs": [
    {
     "name": "stdout",
     "output_type": "stream",
     "text": [
      "Testing...\n",
      "# | inputs | targets | outputs\n",
      "0 | [0.0, 0.0] | [0.0, 0.0] | [0.0, 0.0]\n",
      "1 | [0.0, 1.0] | [1.0, 1.0] | [0.9, 0.9]\n",
      "2 | [1.0, 0.0] | [1.0, 1.0] | [0.9, 0.9]\n",
      "3 | [1.0, 1.0] | [0.0, 0.0] | [0.1, 0.1]\n"
     ]
    }
   ],
   "source": [
    "net.test()"
   ]
  },
  {
   "cell_type": "code",
   "execution_count": 1,
   "metadata": {},
   "outputs": [
    {
     "name": "stderr",
     "output_type": "stream",
     "text": [
      "Using Theano backend.\n"
     ]
    }
   ],
   "source": [
    "from conx import Network, Layer, SGD"
   ]
  },
  {
   "cell_type": "code",
   "execution_count": 2,
   "metadata": {},
   "outputs": [],
   "source": [
    "net = Network(\"XOR2\")\n",
    "net.add(Layer(\"input1\", shape=1))\n",
    "net.add(Layer(\"input2\", shape=1))\n",
    "net.add(Layer(\"hidden1\", shape=10, activation=\"sigmoid\"))\n",
    "net.add(Layer(\"hidden2\", shape=10, activation=\"sigmoid\"))\n",
    "net.add(Layer(\"shared-hidden\", shape=5, activation=\"sigmoid\"))\n",
    "net.add(Layer(\"output1\", shape=1, activation=\"sigmoid\"))\n",
    "net.add(Layer(\"output2\", shape=1, activation=\"sigmoid\"))"
   ]
  },
  {
   "cell_type": "code",
   "execution_count": 3,
   "metadata": {},
   "outputs": [
    {
     "data": {
      "text/plain": [
       "<Network name='XOR2'>"
      ]
     },
     "execution_count": 3,
     "metadata": {},
     "output_type": "execute_result"
    }
   ],
   "source": [
    "net"
   ]
  },
  {
   "cell_type": "code",
   "execution_count": 4,
   "metadata": {
    "collapsed": true
   },
   "outputs": [],
   "source": [
    "net.connect(\"input1\", \"hidden1\")\n",
    "net.connect(\"input2\", \"hidden2\")\n",
    "net.connect(\"hidden1\", \"shared-hidden\")\n",
    "net.connect(\"hidden2\", \"shared-hidden\")\n",
    "net.connect(\"shared-hidden\", \"output1\")\n",
    "net.connect(\"shared-hidden\", \"output2\")"
   ]
  },
  {
   "cell_type": "code",
   "execution_count": 5,
   "metadata": {
    "collapsed": true
   },
   "outputs": [],
   "source": [
    "net.set_input_layer_order(\"input1\", \"input2\")\n",
    "net.set_output_layer_order(\"output1\", \"output2\")"
   ]
  },
  {
   "cell_type": "code",
   "execution_count": 6,
   "metadata": {},
   "outputs": [],
   "source": [
    "net.compile(loss='mean_squared_error',\n",
    "            optimizer=SGD(lr=0.3, momentum=0.9))"
   ]
  },
  {
   "cell_type": "code",
   "execution_count": 7,
   "metadata": {
    "collapsed": true
   },
   "outputs": [],
   "source": [
    "dataset = [\n",
    "    ([[0],[0]], [[0],[0]]),\n",
    "    ([[0],[1]], [[1],[1]]),\n",
    "    ([[1],[0]], [[1],[1]]),\n",
    "    ([[1],[1]], [[0],[0]])\n",
    "]"
   ]
  },
  {
   "cell_type": "code",
   "execution_count": 8,
   "metadata": {},
   "outputs": [
    {
     "name": "stdout",
     "output_type": "stream",
     "text": [
      "Split dataset into:\n",
      "   4 train inputs\n",
      "   0 test inputs\n",
      "Input Summary:\n",
      "   length  : 4\n",
      "   training: 4\n",
      "   testing : 0\n",
      "   shape  : [(1,), (1,)]\n",
      "   range  : (0.0, 1.0)\n",
      "Target Summary:\n",
      "   length  : 4\n",
      "   training: 4\n",
      "   testing : 0\n",
      "   shape  : [(1,), (1,)]\n",
      "   range  : (0.0, 1.0)\n"
     ]
    }
   ],
   "source": [
    "net.set_dataset(dataset)"
   ]
  },
  {
   "cell_type": "code",
   "execution_count": 9,
   "metadata": {},
   "outputs": [
    {
     "data": {
      "application/javascript": [
       "\n",
       "require(['base/js/namespace'], function(Jupyter) {\n",
       "    Jupyter.notebook.kernel.comm_manager.register_target('conx_svg_control', function(comm, msg) {\n",
       "        comm.on_msg(function(msg) {\n",
       "            var data = msg[\"content\"][\"data\"];\n",
       "            var images = document.getElementsByClassName(data[\"class\"]);\n",
       "            for (var i = 0; i < images.length; i++) {\n",
       "                images[i].setAttributeNS(null, \"href\", data[\"href\"]);\n",
       "            }\n",
       "        });\n",
       "    });\n",
       "});\n"
      ],
      "text/plain": [
       "<IPython.core.display.Javascript object>"
      ]
     },
     "metadata": {},
     "output_type": "display_data"
    },
    {
     "data": {
      "application/vnd.jupyter.widget-view+json": {
       "model_id": "d8fdd99adb1e4a659f41069c212c250b"
      }
     },
     "metadata": {},
     "output_type": "display_data"
    }
   ],
   "source": [
    "net.make_widget()"
   ]
  },
  {
   "cell_type": "code",
   "execution_count": 10,
   "metadata": {},
   "outputs": [
    {
     "data": {
      "text/plain": [
       "[[0.32813856], [0.91043729]]"
      ]
     },
     "execution_count": 10,
     "metadata": {},
     "output_type": "execute_result"
    }
   ],
   "source": [
    "net[\"shared-hidden\"].colormap = \"spring\"\n",
    "net.propagate_from(\"hidden1\", [0.0, 1.0] * 5)"
   ]
  },
  {
   "cell_type": "code",
   "execution_count": 11,
   "metadata": {},
   "outputs": [
    {
     "data": {
      "text/plain": [
       "[0.48424909, 0.32282391, 0.69763553, 0.22763956, 0.146277]"
      ]
     },
     "execution_count": 11,
     "metadata": {},
     "output_type": "execute_result"
    }
   ],
   "source": [
    "net[\"shared-hidden\"].colormap = \"hot\"\n",
    "net.propagate_from(\"hidden1\", [1.0, 1.0] * 5, [\"shared-hidden\"])"
   ]
  },
  {
   "cell_type": "code",
   "execution_count": 12,
   "metadata": {},
   "outputs": [
    {
     "data": {
      "text/plain": [
       "[0.34739741683006287]"
      ]
     },
     "execution_count": 12,
     "metadata": {},
     "output_type": "execute_result"
    }
   ],
   "source": [
    "net.propagate_to(\"output1\", [[1], [0]])"
   ]
  },
  {
   "cell_type": "code",
   "execution_count": 13,
   "metadata": {
    "collapsed": true
   },
   "outputs": [],
   "source": [
    "for i in range(20):\n",
    "    (epoch_count, loss, acc, val_acc) = net.train(epochs=100, verbose=0)\n",
    "    for index in range(4):\n",
    "        net.propagate(dataset[index][0])"
   ]
  },
  {
   "cell_type": "code",
   "execution_count": 13,
   "metadata": {},
   "outputs": [
    {
     "name": "stdout",
     "output_type": "stream",
     "text": [
      "Training...\n",
      "Epoch #   25 | train loss 0.50041 | train acc 1.00000 | validate% 0.00000\n",
      "Epoch #   50 | train loss 0.50024 | train acc 1.00000 | validate% 0.00000\n",
      "Epoch #   75 | train loss 0.50011 | train acc 1.00000 | validate% 0.00000\n",
      "Epoch #  100 | train loss 0.50007 | train acc 1.00000 | validate% 0.00000\n",
      "Epoch #  125 | train loss 0.50004 | train acc 1.00000 | validate% 0.00000\n",
      "Epoch #  150 | train loss 0.50001 | train acc 1.00000 | validate% 0.00000\n",
      "Epoch #  175 | train loss 0.49998 | train acc 1.00000 | validate% 0.00000\n",
      "Epoch #  200 | train loss 0.49995 | train acc 1.00000 | validate% 0.00000\n",
      "Epoch #  225 | train loss 0.49992 | train acc 1.00000 | validate% 0.00000\n",
      "Epoch #  250 | train loss 0.49988 | train acc 1.00000 | validate% 0.00000\n",
      "Epoch #  275 | train loss 0.49983 | train acc 1.00000 | validate% 0.00000\n",
      "Epoch #  300 | train loss 0.49976 | train acc 1.00000 | validate% 0.00000\n",
      "Epoch #  325 | train loss 0.49967 | train acc 1.00000 | validate% 0.00000\n",
      "Epoch #  350 | train loss 0.49954 | train acc 1.00000 | validate% 0.00000\n",
      "Epoch #  375 | train loss 0.49935 | train acc 1.00000 | validate% 0.00000\n",
      "Epoch #  400 | train loss 0.49906 | train acc 1.00000 | validate% 0.00000\n",
      "Epoch #  425 | train loss 0.49862 | train acc 1.00000 | validate% 0.00000\n",
      "Epoch #  450 | train loss 0.49789 | train acc 1.25000 | validate% 0.00000\n",
      "Epoch #  475 | train loss 0.49658 | train acc 1.25000 | validate% 0.00000\n",
      "Epoch #  500 | train loss 0.49398 | train acc 1.25000 | validate% 0.00000\n",
      "Epoch #  525 | train loss 0.48785 | train acc 1.50000 | validate% 0.00000\n",
      "Epoch #  550 | train loss 0.46966 | train acc 1.50000 | validate% 0.00000\n",
      "Epoch #  575 | train loss 0.40254 | train acc 1.50000 | validate% 0.00000\n",
      "Epoch #  600 | train loss 0.21334 | train acc 2.00000 | validate% 0.00000\n",
      "Epoch #  625 | train loss 0.06534 | train acc 2.00000 | validate% 0.00000\n",
      "Epoch #  650 | train loss 0.03092 | train acc 2.00000 | validate% 0.00000\n",
      "Epoch #  675 | train loss 0.02023 | train acc 2.00000 | validate% 0.00000\n",
      "========================================================================\n",
      "Epoch #  686 | train loss 0.01760 | train acc 2.00000 | validate% 1.00000\n"
     ]
    }
   ],
   "source": [
    "net.train(epochs=2000, accuracy=1.0, report_rate=25)"
   ]
  },
  {
   "cell_type": "code",
   "execution_count": 14,
   "metadata": {},
   "outputs": [
    {
     "data": {
      "text/plain": [
       "[[0.5], [0.5]]"
      ]
     },
     "execution_count": 14,
     "metadata": {},
     "output_type": "execute_result"
    }
   ],
   "source": [
    "net.propagate_from(\"input1\", [0.0])"
   ]
  },
  {
   "cell_type": "code",
   "execution_count": 15,
   "metadata": {},
   "outputs": [
    {
     "data": {
      "text/plain": [
       "[[0.5], [0.5]]"
      ]
     },
     "execution_count": 15,
     "metadata": {},
     "output_type": "execute_result"
    }
   ],
   "source": [
    "net.propagate_from(\"shared-hidden\", [0.0] * 5)"
   ]
  },
  {
   "cell_type": "code",
   "execution_count": 16,
   "metadata": {},
   "outputs": [
    {
     "data": {
      "text/plain": [
       "[0.792599081993103,\n",
       " 0.782215416431427,\n",
       " 0.84234219789505,\n",
       " 0.1320749670267105,\n",
       " 0.1610153168439865,\n",
       " 0.1744602918624878,\n",
       " 0.4586453139781952,\n",
       " 0.1609877198934555,\n",
       " 0.3683990240097046,\n",
       " 0.15291506052017212]"
      ]
     },
     "execution_count": 16,
     "metadata": {},
     "output_type": "execute_result"
    }
   ],
   "source": [
    "net.propagate_to(\"hidden1\", [[1], [1]])"
   ]
  },
  {
   "cell_type": "code",
   "execution_count": 17,
   "metadata": {},
   "outputs": [
    {
     "name": "stdout",
     "output_type": "stream",
     "text": [
      "Testing...\n",
      "# | inputs | targets | outputs\n",
      "0 | [[0.0], [0.0]] | [[0.0], [0.0]] | [[0.1], [0.1]]\n",
      "1 | [[0.0], [1.0]] | [[1.0], [1.0]] | [[0.9], [0.9]]\n",
      "2 | [[1.0], [0.0]] | [[1.0], [1.0]] | [[0.9], [0.9]]\n",
      "3 | [[1.0], [1.0]] | [[0.0], [0.0]] | [[0.1], [0.1]]\n"
     ]
    }
   ],
   "source": [
    "net.test()"
   ]
  },
  {
   "cell_type": "code",
   "execution_count": 18,
   "metadata": {},
   "outputs": [
    {
     "name": "stdout",
     "output_type": "stream",
     "text": [
      "Slicing dataset 0:2...\n",
      "Input Summary:\n",
      "   length  : 2\n",
      "   training: 2\n",
      "   testing : 0\n",
      "   shape  : [(1,), (1,)]\n",
      "   range  : (0.0, 1.0)\n",
      "Target Summary:\n",
      "   length  : 2\n",
      "   training: 2\n",
      "   testing : 0\n",
      "   shape  : [(1,), (1,)]\n",
      "   range  : (0.0, 1.0)\n"
     ]
    }
   ],
   "source": [
    "net.slice_dataset(2)"
   ]
  },
  {
   "cell_type": "code",
   "execution_count": 19,
   "metadata": {},
   "outputs": [
    {
     "name": "stdout",
     "output_type": "stream",
     "text": [
      "Training...\n",
      "========================================================================\n",
      "Epoch #  687 | train loss 0.01742 | train acc 2.00000 | validate% 1.00000\n"
     ]
    }
   ],
   "source": [
    "net.train(epochs=2000, accuracy=1.0, report_rate=25)"
   ]
  },
  {
   "cell_type": "markdown",
   "metadata": {},
   "source": [
    "# Conx model is a Keras Model"
   ]
  },
  {
   "cell_type": "code",
   "execution_count": 34,
   "metadata": {
    "collapsed": true
   },
   "outputs": [],
   "source": [
    "from keras.utils.vis_utils import model_to_dot\n",
    "from IPython.display import HTML"
   ]
  },
  {
   "cell_type": "code",
   "execution_count": 35,
   "metadata": {
    "collapsed": true
   },
   "outputs": [],
   "source": [
    "dot = model_to_dot(net.model)"
   ]
  },
  {
   "cell_type": "code",
   "execution_count": 36,
   "metadata": {},
   "outputs": [
    {
     "data": {
      "text/html": [
       "<?xml version=\"1.0\" encoding=\"UTF-8\" standalone=\"no\"?>\n",
       "<!DOCTYPE svg PUBLIC \"-//W3C//DTD SVG 1.1//EN\"\n",
       " \"http://www.w3.org/Graphics/SVG/1.1/DTD/svg11.dtd\">\n",
       "<!-- Generated by graphviz version 2.38.0 (20140413.2041)\n",
       " -->\n",
       "<!-- Title: G Pages: 1 -->\n",
       "<svg width=\"264pt\" height=\"337pt\"\n",
       " viewBox=\"0.00 0.00 264.00 337.00\" xmlns=\"http://www.w3.org/2000/svg\" xmlns:xlink=\"http://www.w3.org/1999/xlink\">\n",
       "<g id=\"graph0\" class=\"graph\" transform=\"scale(1 1) rotate(0) translate(4 333)\">\n",
       "<title>G</title>\n",
       "<polygon fill=\"white\" stroke=\"none\" points=\"-4,4 -4,-333 260,-333 260,4 -4,4\"/>\n",
       "<!-- 140568027142632 -->\n",
       "<g id=\"node1\" class=\"node\"><title>140568027142632</title>\n",
       "<polygon fill=\"none\" stroke=\"black\" points=\"0,-292.5 0,-328.5 119,-328.5 119,-292.5 0,-292.5\"/>\n",
       "<text text-anchor=\"middle\" x=\"59.5\" y=\"-306.8\" font-family=\"Times,serif\" font-size=\"14.00\">input1: InputLayer</text>\n",
       "</g>\n",
       "<!-- 140568026840648 -->\n",
       "<g id=\"node3\" class=\"node\"><title>140568026840648</title>\n",
       "<polygon fill=\"none\" stroke=\"black\" points=\"13,-219.5 13,-255.5 114,-255.5 114,-219.5 13,-219.5\"/>\n",
       "<text text-anchor=\"middle\" x=\"63.5\" y=\"-233.8\" font-family=\"Times,serif\" font-size=\"14.00\">hidden1: Dense</text>\n",
       "</g>\n",
       "<!-- 140568027142632&#45;&gt;140568026840648 -->\n",
       "<g id=\"edge1\" class=\"edge\"><title>140568027142632&#45;&gt;140568026840648</title>\n",
       "<path fill=\"none\" stroke=\"black\" d=\"M60.4683,-292.313C60.9203,-284.289 61.4692,-274.547 61.975,-265.569\"/>\n",
       "<polygon fill=\"black\" stroke=\"black\" points=\"65.4725,-265.71 62.5406,-255.529 58.4836,-265.316 65.4725,-265.71\"/>\n",
       "</g>\n",
       "<!-- 140568027141176 -->\n",
       "<g id=\"node2\" class=\"node\"><title>140568027141176</title>\n",
       "<polygon fill=\"none\" stroke=\"black\" points=\"137,-292.5 137,-328.5 256,-328.5 256,-292.5 137,-292.5\"/>\n",
       "<text text-anchor=\"middle\" x=\"196.5\" y=\"-306.8\" font-family=\"Times,serif\" font-size=\"14.00\">input2: InputLayer</text>\n",
       "</g>\n",
       "<!-- 140568027142072 -->\n",
       "<g id=\"node4\" class=\"node\"><title>140568027142072</title>\n",
       "<polygon fill=\"none\" stroke=\"black\" points=\"141,-219.5 141,-255.5 242,-255.5 242,-219.5 141,-219.5\"/>\n",
       "<text text-anchor=\"middle\" x=\"191.5\" y=\"-233.8\" font-family=\"Times,serif\" font-size=\"14.00\">hidden2: Dense</text>\n",
       "</g>\n",
       "<!-- 140568027141176&#45;&gt;140568027142072 -->\n",
       "<g id=\"edge2\" class=\"edge\"><title>140568027141176&#45;&gt;140568027142072</title>\n",
       "<path fill=\"none\" stroke=\"black\" d=\"M195.29,-292.313C194.725,-284.289 194.039,-274.547 193.406,-265.569\"/>\n",
       "<polygon fill=\"black\" stroke=\"black\" points=\"196.893,-265.258 192.699,-255.529 189.91,-265.75 196.893,-265.258\"/>\n",
       "</g>\n",
       "<!-- 140568026897208 -->\n",
       "<g id=\"node5\" class=\"node\"><title>140568026897208</title>\n",
       "<polygon fill=\"none\" stroke=\"black\" points=\"43.5,-146.5 43.5,-182.5 211.5,-182.5 211.5,-146.5 43.5,-146.5\"/>\n",
       "<text text-anchor=\"middle\" x=\"127.5\" y=\"-160.8\" font-family=\"Times,serif\" font-size=\"14.00\">concatenate_3: Concatenate</text>\n",
       "</g>\n",
       "<!-- 140568026840648&#45;&gt;140568026897208 -->\n",
       "<g id=\"edge3\" class=\"edge\"><title>140568026840648&#45;&gt;140568026897208</title>\n",
       "<path fill=\"none\" stroke=\"black\" d=\"M78.9926,-219.313C86.9325,-210.505 96.7394,-199.625 105.453,-189.958\"/>\n",
       "<polygon fill=\"black\" stroke=\"black\" points=\"108.054,-192.3 112.15,-182.529 102.855,-187.613 108.054,-192.3\"/>\n",
       "</g>\n",
       "<!-- 140568027142072&#45;&gt;140568026897208 -->\n",
       "<g id=\"edge4\" class=\"edge\"><title>140568027142072&#45;&gt;140568026897208</title>\n",
       "<path fill=\"none\" stroke=\"black\" d=\"M176.007,-219.313C168.068,-210.505 158.261,-199.625 149.547,-189.958\"/>\n",
       "<polygon fill=\"black\" stroke=\"black\" points=\"152.145,-187.613 142.85,-182.529 146.946,-192.3 152.145,-187.613\"/>\n",
       "</g>\n",
       "<!-- 140568026845256 -->\n",
       "<g id=\"node6\" class=\"node\"><title>140568026845256</title>\n",
       "<polygon fill=\"none\" stroke=\"black\" points=\"60.5,-73.5 60.5,-109.5 194.5,-109.5 194.5,-73.5 60.5,-73.5\"/>\n",
       "<text text-anchor=\"middle\" x=\"127.5\" y=\"-87.8\" font-family=\"Times,serif\" font-size=\"14.00\">shared&#45;hidden: Dense</text>\n",
       "</g>\n",
       "<!-- 140568026897208&#45;&gt;140568026845256 -->\n",
       "<g id=\"edge5\" class=\"edge\"><title>140568026897208&#45;&gt;140568026845256</title>\n",
       "<path fill=\"none\" stroke=\"black\" d=\"M127.5,-146.313C127.5,-138.289 127.5,-128.547 127.5,-119.569\"/>\n",
       "<polygon fill=\"black\" stroke=\"black\" points=\"131,-119.529 127.5,-109.529 124,-119.529 131,-119.529\"/>\n",
       "</g>\n",
       "<!-- 140568024119560 -->\n",
       "<g id=\"node7\" class=\"node\"><title>140568024119560</title>\n",
       "<polygon fill=\"none\" stroke=\"black\" points=\"20,-0.5 20,-36.5 119,-36.5 119,-0.5 20,-0.5\"/>\n",
       "<text text-anchor=\"middle\" x=\"69.5\" y=\"-14.8\" font-family=\"Times,serif\" font-size=\"14.00\">output1: Dense</text>\n",
       "</g>\n",
       "<!-- 140568026845256&#45;&gt;140568024119560 -->\n",
       "<g id=\"edge6\" class=\"edge\"><title>140568026845256&#45;&gt;140568024119560</title>\n",
       "<path fill=\"none\" stroke=\"black\" d=\"M113.46,-73.3129C106.407,-64.679 97.7281,-54.0551 89.9504,-44.5341\"/>\n",
       "<polygon fill=\"black\" stroke=\"black\" points=\"92.4479,-42.059 83.4109,-36.5288 87.0268,-46.4876 92.4479,-42.059\"/>\n",
       "</g>\n",
       "<!-- 140568026897712 -->\n",
       "<g id=\"node8\" class=\"node\"><title>140568026897712</title>\n",
       "<polygon fill=\"none\" stroke=\"black\" points=\"137,-0.5 137,-36.5 236,-36.5 236,-0.5 137,-0.5\"/>\n",
       "<text text-anchor=\"middle\" x=\"186.5\" y=\"-14.8\" font-family=\"Times,serif\" font-size=\"14.00\">output2: Dense</text>\n",
       "</g>\n",
       "<!-- 140568026845256&#45;&gt;140568026897712 -->\n",
       "<g id=\"edge7\" class=\"edge\"><title>140568026845256&#45;&gt;140568026897712</title>\n",
       "<path fill=\"none\" stroke=\"black\" d=\"M141.782,-73.3129C149.029,-64.5918 157.964,-53.8402 165.936,-44.2459\"/>\n",
       "<polygon fill=\"black\" stroke=\"black\" points=\"168.65,-46.4569 172.349,-36.5288 163.266,-41.983 168.65,-46.4569\"/>\n",
       "</g>\n",
       "</g>\n",
       "</svg>\n"
      ],
      "text/plain": [
       "<IPython.core.display.HTML object>"
      ]
     },
     "execution_count": 36,
     "metadata": {},
     "output_type": "execute_result"
    }
   ],
   "source": [
    "HTML(dot.create_svg().decode())"
   ]
  }
 ],
 "metadata": {
  "kernelspec": {
   "display_name": "Python 3",
   "language": "python",
   "name": "python3"
  },
  "language_info": {
   "codemirror_mode": {
    "name": "ipython",
    "version": 3
   },
   "file_extension": ".py",
   "mimetype": "text/x-python",
   "name": "python",
   "nbconvert_exporter": "python",
   "pygments_lexer": "ipython3",
   "version": "3.5.3"
  },
  "widgets": {
   "application/vnd.jupyter.widget-state+json": {
    "state": {
     "0662ceeb05bf4106a79628645c088d33": {
      "model_module": "jupyter-js-widgets",
      "model_module_version": "~2.1.4",
      "model_name": "ButtonStyleModel",
      "state": {
       "_model_module_version": "~2.1.4",
       "_view_module_version": "~2.1.4"
      }
     },
     "06691d175b474e889ac11f092441cb3e": {
      "model_module": "jupyter-js-widgets",
      "model_module_version": "~2.1.4",
      "model_name": "ButtonStyleModel",
      "state": {
       "_model_module_version": "~2.1.4",
       "_view_module_version": "~2.1.4"
      }
     },
     "09d96629fe2f4bbaa5dd321ddbc71e09": {
      "model_module": "jupyter-js-widgets",
      "model_module_version": "~2.1.4",
      "model_name": "ImageModel",
      "state": {
       "_b64value": "iVBORw0KGgoAAAANSUhEUgAAADIAAAAZCAYAAABzVH1EAAAAQ0lEQVR4nO3PUQ0AIAzE0IFN/KvgY6i4pSF9BpquPtWVduOF2vnEDEdoHKFxhMYRGkdoHKFxhMYRGkdoHKFxhOabkQfsWQOGid5ZYAAAAABJRU5ErkJggg==",
       "_model_module_version": "~2.1.4",
       "_view_module_version": "~2.1.4",
       "layout": "IPY_MODEL_2ee01cfd94074e3b9235a2eb81e3761c"
      }
     },
     "0a915674e2dc44b9aebf61e1693ab72b": {
      "model_module": "jupyter-js-widgets",
      "model_module_version": "~2.1.4",
      "model_name": "LayoutModel",
      "state": {
       "_model_module_version": "~2.1.4",
       "_view_module_version": "~2.1.4"
      }
     },
     "0af2f12b77084930bfc71ef09c72b20f": {
      "model_module": "jupyter-js-widgets",
      "model_module_version": "~2.1.4",
      "model_name": "ButtonModel",
      "state": {
       "_model_module_version": "~2.1.4",
       "_view_module_version": "~2.1.4",
       "description": "Next",
       "layout": "IPY_MODEL_b065dd7be0d14060bdc8ba816dac75fb",
       "style": "IPY_MODEL_06691d175b474e889ac11f092441cb3e"
      }
     },
     "127a22ba47bc43f88821164423a46549": {
      "model_module": "jupyter-js-widgets",
      "model_module_version": "~2.1.4",
      "model_name": "AccordionModel",
      "state": {
       "_model_module_version": "~2.1.4",
       "_titles": {
        "0": "input1"
       },
       "_view_module_version": "~2.1.4",
       "children": [
        "IPY_MODEL_b269a750b06546c19cb3445b1dfc7957"
       ],
       "layout": "IPY_MODEL_0a915674e2dc44b9aebf61e1693ab72b"
      }
     },
     "1379da532a65475f93c359bb3ff8f421": {
      "model_module": "jupyter-js-widgets",
      "model_module_version": "~2.1.4",
      "model_name": "LayoutModel",
      "state": {
       "_model_module_version": "~2.1.4",
       "_view_module_version": "~2.1.4",
       "border": "2px solid blue"
      }
     },
     "16d10d0e326b477488e65f00bdf9f527": {
      "model_module": "jupyter-js-widgets",
      "model_module_version": "~2.1.4",
      "model_name": "LayoutModel",
      "state": {
       "_model_module_version": "~2.1.4",
       "_view_module_version": "~2.1.4",
       "border": "2px solid blue"
      }
     },
     "180d6092132c4dda9bd7f8b15c3c694e": {
      "model_module": "jupyter-js-widgets",
      "model_module_version": "~2.1.4",
      "model_name": "AccordionModel",
      "state": {
       "_model_module_version": "~2.1.4",
       "_titles": {
        "0": "output1"
       },
       "_view_module_version": "~2.1.4",
       "children": [
        "IPY_MODEL_b3273ecfdc874d9e8c50c10b98e327ce"
       ],
       "layout": "IPY_MODEL_1f307b971537466eac2a8e677df40c1e"
      }
     },
     "1a22ad2fab494465a49f24379d56f8df": {
      "model_module": "jupyter-js-widgets",
      "model_module_version": "~2.1.4",
      "model_name": "AccordionModel",
      "state": {
       "_model_module_version": "~2.1.4",
       "_titles": {
        "0": "shared-hidden"
       },
       "_view_module_version": "~2.1.4",
       "children": [
        "IPY_MODEL_c6982262f1af4d39b4a7c0c551e991ed"
       ],
       "layout": "IPY_MODEL_1c136e4ce87d4f8cbf7aa40a77bcfafe"
      }
     },
     "1c136e4ce87d4f8cbf7aa40a77bcfafe": {
      "model_module": "jupyter-js-widgets",
      "model_module_version": "~2.1.4",
      "model_name": "LayoutModel",
      "state": {
       "_model_module_version": "~2.1.4",
       "_view_module_version": "~2.1.4"
      }
     },
     "1f307b971537466eac2a8e677df40c1e": {
      "model_module": "jupyter-js-widgets",
      "model_module_version": "~2.1.4",
      "model_name": "LayoutModel",
      "state": {
       "_model_module_version": "~2.1.4",
       "_view_module_version": "~2.1.4"
      }
     },
     "2a2afcc2ec0146508e0c6b5fefd6413a": {
      "model_module": "jupyter-js-widgets",
      "model_module_version": "~2.1.4",
      "model_name": "LayoutModel",
      "state": {
       "_model_module_version": "~2.1.4",
       "_view_module_version": "~2.1.4"
      }
     },
     "2bba529eb48548fca16c7302e63ac86d": {
      "model_module": "jupyter-js-widgets",
      "model_module_version": "~2.1.4",
      "model_name": "LayoutModel",
      "state": {
       "_model_module_version": "~2.1.4",
       "_view_module_version": "~2.1.4"
      }
     },
     "2ea6ad8a61a04fca83e20eadddd5b2f2": {
      "model_module": "jupyter-js-widgets",
      "model_module_version": "~2.1.4",
      "model_name": "LayoutModel",
      "state": {
       "_model_module_version": "~2.1.4",
       "_view_module_version": "~2.1.4"
      }
     },
     "2ee01cfd94074e3b9235a2eb81e3761c": {
      "model_module": "jupyter-js-widgets",
      "model_module_version": "~2.1.4",
      "model_name": "LayoutModel",
      "state": {
       "_model_module_version": "~2.1.4",
       "_view_module_version": "~2.1.4",
       "border": "2px solid blue"
      }
     },
     "2ee2c8e9de9342a5818f7f27c266d774": {
      "model_module": "jupyter-js-widgets",
      "model_module_version": "~2.1.4",
      "model_name": "LayoutModel",
      "state": {
       "_model_module_version": "~2.1.4",
       "_view_module_version": "~2.1.4"
      }
     },
     "31a8e7effec646f985dedd185dae50a4": {
      "model_module": "jupyter-js-widgets",
      "model_module_version": "~2.1.4",
      "model_name": "AccordionModel",
      "state": {
       "_model_module_version": "~2.1.4",
       "_titles": {
        "0": "output2"
       },
       "_view_module_version": "~2.1.4",
       "children": [
        "IPY_MODEL_658bee53488b49568155049429ea0ece"
       ],
       "layout": "IPY_MODEL_d9533289a30c445694ce51061bb8f54a"
      }
     },
     "31e4ba31d3014d5ba035f62e15b961be": {
      "model_module": "jupyter-js-widgets",
      "model_module_version": "~2.1.4",
      "model_name": "LayoutModel",
      "state": {
       "_model_module_version": "~2.1.4",
       "_view_module_version": "~2.1.4"
      }
     },
     "32492bd4221e4ffbbd85588811bbbbc9": {
      "model_module": "jupyter-js-widgets",
      "model_module_version": "~2.1.4",
      "model_name": "ButtonModel",
      "state": {
       "_model_module_version": "~2.1.4",
       "_view_module_version": "~2.1.4",
       "description": "Previous",
       "layout": "IPY_MODEL_694b58c690404f28a8091e139dd88be4",
       "style": "IPY_MODEL_ee164a22a5bb44ed845127484bdb16f1"
      }
     },
     "32d7d0f7c5fc4c0dba88ba7e63bfd183": {
      "model_module": "jupyter-js-widgets",
      "model_module_version": "~2.1.4",
      "model_name": "LayoutModel",
      "state": {
       "_model_module_version": "~2.1.4",
       "_view_module_version": "~2.1.4",
       "border": "2px solid blue"
      }
     },
     "3aa2fe14e28041419c175a88c0d9434e": {
      "model_module": "jupyter-js-widgets",
      "model_module_version": "~2.1.4",
      "model_name": "ButtonModel",
      "state": {
       "_model_module_version": "~2.1.4",
       "_view_module_version": "~2.1.4",
       "description": "Previous",
       "layout": "IPY_MODEL_f17819c55b144a42b199889d3e07a0ba",
       "style": "IPY_MODEL_eb63f9c20b134a8d8da0acbe8e5f673f"
      }
     },
     "3ff14b3c9f514c5c8318793f4eb3aeaf": {
      "model_module": "jupyter-js-widgets",
      "model_module_version": "~2.1.4",
      "model_name": "AccordionModel",
      "state": {
       "_model_module_version": "~2.1.4",
       "_titles": {
        "0": "input2"
       },
       "_view_module_version": "~2.1.4",
       "children": [
        "IPY_MODEL_480d46ac774242f785e6c9f4f4e8286d"
       ],
       "layout": "IPY_MODEL_2a2afcc2ec0146508e0c6b5fefd6413a"
      }
     },
     "401b120b45494d29a05c497a55d0c8ec": {
      "model_module": "jupyter-js-widgets",
      "model_module_version": "~2.1.4",
      "model_name": "ButtonModel",
      "state": {
       "_model_module_version": "~2.1.4",
       "_view_module_version": "~2.1.4",
       "description": "Next",
       "layout": "IPY_MODEL_b4c810c09d5242edba53978dbbf1b611",
       "style": "IPY_MODEL_70625f01f4044a2eae3fc5ba75ed7d0d"
      }
     },
     "43b851c817084a35921811997dd4474f": {
      "model_module": "jupyter-js-widgets",
      "model_module_version": "~2.1.4",
      "model_name": "ButtonModel",
      "state": {
       "_model_module_version": "~2.1.4",
       "_view_module_version": "~2.1.4",
       "description": "Next",
       "layout": "IPY_MODEL_944f3b9ea2d64588b8f7357f32edd1ad",
       "style": "IPY_MODEL_f3fdb9fa8e1142479f48deffebe33383"
      }
     },
     "4418224ad6494496b1949517fc3ecfbe": {
      "model_module": "jupyter-js-widgets",
      "model_module_version": "~2.1.4",
      "model_name": "LayoutModel",
      "state": {
       "_model_module_version": "~2.1.4",
       "_view_module_version": "~2.1.4"
      }
     },
     "45728196e7614f3990e4c41aaf43d898": {
      "model_module": "jupyter-js-widgets",
      "model_module_version": "~2.1.4",
      "model_name": "LayoutModel",
      "state": {
       "_model_module_version": "~2.1.4",
       "_view_module_version": "~2.1.4"
      }
     },
     "480d46ac774242f785e6c9f4f4e8286d": {
      "model_module": "jupyter-js-widgets",
      "model_module_version": "~2.1.4",
      "model_name": "ImageModel",
      "state": {
       "_b64value": "iVBORw0KGgoAAAANSUhEUgAAABkAAAAZCAYAAADE6YVjAAAAKUlEQVR4nO3NQQEAIAwAodOW9g8yU+wHBTjzmpbd7UAikUgkEolEUtUHEEgCidGfV+4AAAAASUVORK5CYII=",
       "_model_module_version": "~2.1.4",
       "_view_module_version": "~2.1.4",
       "layout": "IPY_MODEL_16d10d0e326b477488e65f00bdf9f527"
      }
     },
     "49e51db8f3cd4f05ad275c042d490898": {
      "model_module": "jupyter-js-widgets",
      "model_module_version": "~2.1.4",
      "model_name": "ButtonModel",
      "state": {
       "_model_module_version": "~2.1.4",
       "_view_module_version": "~2.1.4",
       "description": "Previous",
       "layout": "IPY_MODEL_fc74fcd5e3114f2ab21375f57ac9d385",
       "style": "IPY_MODEL_0662ceeb05bf4106a79628645c088d33"
      }
     },
     "4bc64fefe5b3470380d21face356cb67": {
      "model_module": "jupyter-js-widgets",
      "model_module_version": "~2.1.4",
      "model_name": "LayoutModel",
      "state": {
       "_model_module_version": "~2.1.4",
       "_view_module_version": "~2.1.4",
       "border": "2px solid blue"
      }
     },
     "567ba613f71749f089a9287c9796cdee": {
      "model_module": "jupyter-js-widgets",
      "model_module_version": "~2.1.4",
      "model_name": "ButtonModel",
      "state": {
       "_model_module_version": "~2.1.4",
       "_view_module_version": "~2.1.4",
       "description": "Previous",
       "layout": "IPY_MODEL_2ee2c8e9de9342a5818f7f27c266d774",
       "style": "IPY_MODEL_71292c8e087348baa4c310ca7d3e28b9"
      }
     },
     "5856b2d9e8004b54a5d3fac11d80b93a": {
      "model_module": "jupyter-js-widgets",
      "model_module_version": "~2.1.4",
      "model_name": "ButtonModel",
      "state": {
       "_model_module_version": "~2.1.4",
       "_view_module_version": "~2.1.4",
       "description": "Next",
       "layout": "IPY_MODEL_4418224ad6494496b1949517fc3ecfbe",
       "style": "IPY_MODEL_711c231187d647f2a093b4d770dc0111"
      }
     },
     "59fa364694f244c4b882ac1c39beafa5": {
      "model_module": "jupyter-js-widgets",
      "model_module_version": "~2.1.4",
      "model_name": "LayoutModel",
      "state": {
       "_model_module_version": "~2.1.4",
       "_view_module_version": "~2.1.4",
       "border": "2px solid blue"
      }
     },
     "61ef4856c3d7437091957032a14820ca": {
      "model_module": "jupyter-js-widgets",
      "model_module_version": "~2.1.4",
      "model_name": "ButtonModel",
      "state": {
       "_model_module_version": "~2.1.4",
       "_view_module_version": "~2.1.4",
       "description": "Previous",
       "layout": "IPY_MODEL_8e512ac3925044ebb31ef5af67a4cec8",
       "style": "IPY_MODEL_98559582ac7e4ad6b563ecc109e8b558"
      }
     },
     "630f3b282c3c44c8bc2a866dd97c8800": {
      "model_module": "jupyter-js-widgets",
      "model_module_version": "~2.1.4",
      "model_name": "AccordionModel",
      "state": {
       "_model_module_version": "~2.1.4",
       "_titles": {
        "0": "output2"
       },
       "_view_module_version": "~2.1.4",
       "children": [
        "IPY_MODEL_b6f6bb104d9849738e1bb65f541fe4f2"
       ],
       "layout": "IPY_MODEL_2ea6ad8a61a04fca83e20eadddd5b2f2"
      }
     },
     "64ba47e5defe401ca7b03b43e2eab7f4": {
      "model_module": "jupyter-js-widgets",
      "model_module_version": "~2.1.4",
      "model_name": "ImageModel",
      "state": {
       "_b64value": "iVBORw0KGgoAAAANSUhEUgAAABkAAAAZCAYAAADE6YVjAAAAKUlEQVR4nO3NQQEAIAwAodOW9g8yU+wHBTjzmpbd7UAikUgkEolEUtUHEEgCidGfV+4AAAAASUVORK5CYII=",
       "_model_module_version": "~2.1.4",
       "_view_module_version": "~2.1.4",
       "layout": "IPY_MODEL_59fa364694f244c4b882ac1c39beafa5"
      }
     },
     "650f9d732bf4487bb392952d76cc7da1": {
      "model_module": "jupyter-js-widgets",
      "model_module_version": "~2.1.4",
      "model_name": "ButtonModel",
      "state": {
       "_model_module_version": "~2.1.4",
       "_view_module_version": "~2.1.4",
       "description": "Next",
       "layout": "IPY_MODEL_2bba529eb48548fca16c7302e63ac86d",
       "style": "IPY_MODEL_8ecd80940a57482291b1fb4367f81070"
      }
     },
     "6568f0e463154ca7aed433dee70aec5a": {
      "model_module": "jupyter-js-widgets",
      "model_module_version": "~2.1.4",
      "model_name": "AccordionModel",
      "state": {
       "_model_module_version": "~2.1.4",
       "_titles": {
        "0": "shared-hidden"
       },
       "_view_module_version": "~2.1.4",
       "children": [
        "IPY_MODEL_86464e748fc34280802a6c47319ff4d2"
       ],
       "layout": "IPY_MODEL_ce304d07e1a645d59a8bf5a1e6412697"
      }
     },
     "658715cce50f4e68b580fbec8e2609ac": {
      "model_module": "jupyter-js-widgets",
      "model_module_version": "~2.1.4",
      "model_name": "LayoutModel",
      "state": {
       "_model_module_version": "~2.1.4",
       "_view_module_version": "~2.1.4",
       "border": "2px solid blue"
      }
     },
     "658bee53488b49568155049429ea0ece": {
      "model_module": "jupyter-js-widgets",
      "model_module_version": "~2.1.4",
      "model_name": "ImageModel",
      "state": {
       "_b64value": "iVBORw0KGgoAAAANSUhEUgAAABkAAAAZCAYAAADE6YVjAAAAKUlEQVR4nO3NQQEAIAwAodOW9g8yU+wHBTjzmpbd7UAikUgkEolEUtUHEEgCidGfV+4AAAAASUVORK5CYII=",
       "_model_module_version": "~2.1.4",
       "_view_module_version": "~2.1.4",
       "layout": "IPY_MODEL_88383ba9faed48659a9776dae5677640"
      }
     },
     "65ca981298ba4facb4c50b960653a984": {
      "model_module": "jupyter-js-widgets",
      "model_module_version": "~2.1.4",
      "model_name": "ButtonStyleModel",
      "state": {
       "_model_module_version": "~2.1.4",
       "_view_module_version": "~2.1.4"
      }
     },
     "666f1764d2654d56939a930ff03f4a66": {
      "model_module": "jupyter-js-widgets",
      "model_module_version": "~2.1.4",
      "model_name": "ButtonModel",
      "state": {
       "_model_module_version": "~2.1.4",
       "_view_module_version": "~2.1.4",
       "description": "Next",
       "layout": "IPY_MODEL_31e4ba31d3014d5ba035f62e15b961be",
       "style": "IPY_MODEL_65ca981298ba4facb4c50b960653a984"
      }
     },
     "694b58c690404f28a8091e139dd88be4": {
      "model_module": "jupyter-js-widgets",
      "model_module_version": "~2.1.4",
      "model_name": "LayoutModel",
      "state": {
       "_model_module_version": "~2.1.4",
       "_view_module_version": "~2.1.4"
      }
     },
     "6dd1a55b5d804ea8a1406bc0736bc46e": {
      "model_module": "jupyter-js-widgets",
      "model_module_version": "~2.1.4",
      "model_name": "ButtonStyleModel",
      "state": {
       "_model_module_version": "~2.1.4",
       "_view_module_version": "~2.1.4"
      }
     },
     "70625f01f4044a2eae3fc5ba75ed7d0d": {
      "model_module": "jupyter-js-widgets",
      "model_module_version": "~2.1.4",
      "model_name": "ButtonStyleModel",
      "state": {
       "_model_module_version": "~2.1.4",
       "_view_module_version": "~2.1.4"
      }
     },
     "70bf1a5d82b04d90abbe6cc79c5b6cc3": {
      "model_module": "jupyter-js-widgets",
      "model_module_version": "~2.1.4",
      "model_name": "AccordionModel",
      "state": {
       "_model_module_version": "~2.1.4",
       "_titles": {
        "0": "hidden1"
       },
       "_view_module_version": "~2.1.4",
       "children": [
        "IPY_MODEL_e8c498689a3e49779bc11b01a53f2b2d"
       ],
       "layout": "IPY_MODEL_beda827ab4ab44ed97b77580fa918ff3"
      }
     },
     "711c231187d647f2a093b4d770dc0111": {
      "model_module": "jupyter-js-widgets",
      "model_module_version": "~2.1.4",
      "model_name": "ButtonStyleModel",
      "state": {
       "_model_module_version": "~2.1.4",
       "_view_module_version": "~2.1.4"
      }
     },
     "71292c8e087348baa4c310ca7d3e28b9": {
      "model_module": "jupyter-js-widgets",
      "model_module_version": "~2.1.4",
      "model_name": "ButtonStyleModel",
      "state": {
       "_model_module_version": "~2.1.4",
       "_view_module_version": "~2.1.4"
      }
     },
     "777fc1c0dfca48468bed71140d714169": {
      "model_module": "jupyter-js-widgets",
      "model_module_version": "~2.1.4",
      "model_name": "LayoutModel",
      "state": {
       "_model_module_version": "~2.1.4",
       "_view_module_version": "~2.1.4",
       "border": "2px solid blue"
      }
     },
     "79aca523d5ae4a1abd46b520e52388de": {
      "model_module": "jupyter-js-widgets",
      "model_module_version": "~2.1.4",
      "model_name": "LayoutModel",
      "state": {
       "_model_module_version": "~2.1.4",
       "_view_module_version": "~2.1.4",
       "border": "2px solid blue"
      }
     },
     "7b7fc1cf9a3e480c99006b5f4a738e7d": {
      "model_module": "jupyter-js-widgets",
      "model_module_version": "~2.1.4",
      "model_name": "LayoutModel",
      "state": {
       "_model_module_version": "~2.1.4",
       "_view_module_version": "~2.1.4",
       "border": "2px solid blue"
      }
     },
     "86464e748fc34280802a6c47319ff4d2": {
      "model_module": "jupyter-js-widgets",
      "model_module_version": "~2.1.4",
      "model_name": "ImageModel",
      "state": {
       "_b64value": "iVBORw0KGgoAAAANSUhEUgAAADIAAAAZCAYAAABzVH1EAAAARElEQVR4nO3PAQ0AIAzEwAcluEYeUpiKkYb0DDQdJ7lptnZ3IZn9iTccoXGExhEaR2gcoXGExhEaR2gcoXGExhGab0YKYnYCx0pTE/oAAAAASUVORK5CYII=",
       "_model_module_version": "~2.1.4",
       "_view_module_version": "~2.1.4",
       "layout": "IPY_MODEL_1379da532a65475f93c359bb3ff8f421"
      }
     },
     "88383ba9faed48659a9776dae5677640": {
      "model_module": "jupyter-js-widgets",
      "model_module_version": "~2.1.4",
      "model_name": "LayoutModel",
      "state": {
       "_model_module_version": "~2.1.4",
       "_view_module_version": "~2.1.4",
       "border": "2px solid blue"
      }
     },
     "8be47bac086a4fff9acd9d707cf70c9a": {
      "model_module": "jupyter-js-widgets",
      "model_module_version": "~2.1.4",
      "model_name": "LayoutModel",
      "state": {
       "_model_module_version": "~2.1.4",
       "_view_module_version": "~2.1.4"
      }
     },
     "8e512ac3925044ebb31ef5af67a4cec8": {
      "model_module": "jupyter-js-widgets",
      "model_module_version": "~2.1.4",
      "model_name": "LayoutModel",
      "state": {
       "_model_module_version": "~2.1.4",
       "_view_module_version": "~2.1.4"
      }
     },
     "8ecd80940a57482291b1fb4367f81070": {
      "model_module": "jupyter-js-widgets",
      "model_module_version": "~2.1.4",
      "model_name": "ButtonStyleModel",
      "state": {
       "_model_module_version": "~2.1.4",
       "_view_module_version": "~2.1.4"
      }
     },
     "944f3b9ea2d64588b8f7357f32edd1ad": {
      "model_module": "jupyter-js-widgets",
      "model_module_version": "~2.1.4",
      "model_name": "LayoutModel",
      "state": {
       "_model_module_version": "~2.1.4",
       "_view_module_version": "~2.1.4"
      }
     },
     "965da9c01dff47c1b95ec1b6e5652a86": {
      "model_module": "jupyter-js-widgets",
      "model_module_version": "~2.1.4",
      "model_name": "LayoutModel",
      "state": {
       "_model_module_version": "~2.1.4",
       "_view_module_version": "~2.1.4",
       "border": "2px solid blue"
      }
     },
     "97ebb2b7fd414c3cbef3486c2a9c763b": {
      "model_module": "jupyter-js-widgets",
      "model_module_version": "~2.1.4",
      "model_name": "ButtonModel",
      "state": {
       "_model_module_version": "~2.1.4",
       "_view_module_version": "~2.1.4",
       "description": "Next",
       "layout": "IPY_MODEL_f41bb88f18cf437390587e89f73b3bfc",
       "style": "IPY_MODEL_cd584922b7b74a778fcc84c7c1142571"
      }
     },
     "98559582ac7e4ad6b563ecc109e8b558": {
      "model_module": "jupyter-js-widgets",
      "model_module_version": "~2.1.4",
      "model_name": "ButtonStyleModel",
      "state": {
       "_model_module_version": "~2.1.4",
       "_view_module_version": "~2.1.4"
      }
     },
     "9bef262601344bc2a15e6d58c2aabd26": {
      "model_module": "jupyter-js-widgets",
      "model_module_version": "~2.1.4",
      "model_name": "AccordionModel",
      "state": {
       "_model_module_version": "~2.1.4",
       "_titles": {
        "0": "hidden1"
       },
       "_view_module_version": "~2.1.4",
       "children": [
        "IPY_MODEL_ee316a266eab467ca105437915ced3e2"
       ],
       "layout": "IPY_MODEL_8be47bac086a4fff9acd9d707cf70c9a"
      }
     },
     "a1bfb2464806444c951b2d00b69ec343": {
      "model_module": "jupyter-js-widgets",
      "model_module_version": "~2.1.4",
      "model_name": "AccordionModel",
      "state": {
       "_model_module_version": "~2.1.4",
       "_titles": {
        "0": "output1"
       },
       "_view_module_version": "~2.1.4",
       "children": [
        "IPY_MODEL_f1f1c2d8acf5450ea6693c0019715ad3"
       ],
       "layout": "IPY_MODEL_ba147842418143d9b5bf4dd0c46e31fe"
      }
     },
     "a73dfde0d6c74082b79dc53591c74e19": {
      "model_module": "jupyter-js-widgets",
      "model_module_version": "~2.1.4",
      "model_name": "LayoutModel",
      "state": {
       "_model_module_version": "~2.1.4",
       "_view_module_version": "~2.1.4"
      }
     },
     "ab688fcda5d4458eb1567b3f403d7ca0": {
      "model_module": "jupyter-js-widgets",
      "model_module_version": "~2.1.4",
      "model_name": "LayoutModel",
      "state": {
       "_model_module_version": "~2.1.4",
       "_view_module_version": "~2.1.4"
      }
     },
     "b01f055f90da4390af0426349bb3fd28": {
      "model_module": "jupyter-js-widgets",
      "model_module_version": "~2.1.4",
      "model_name": "ImageModel",
      "state": {
       "_b64value": "iVBORw0KGgoAAAANSUhEUgAAABkAAAAZCAYAAADE6YVjAAAAKUlEQVR4nO3NQQEAIAwAodOW9g8yU+wHBTjzmpbd7UAikUgkEolEUtUHEEgCidGfV+4AAAAASUVORK5CYII=",
       "_model_module_version": "~2.1.4",
       "_view_module_version": "~2.1.4",
       "layout": "IPY_MODEL_79aca523d5ae4a1abd46b520e52388de"
      }
     },
     "b065dd7be0d14060bdc8ba816dac75fb": {
      "model_module": "jupyter-js-widgets",
      "model_module_version": "~2.1.4",
      "model_name": "LayoutModel",
      "state": {
       "_model_module_version": "~2.1.4",
       "_view_module_version": "~2.1.4"
      }
     },
     "b269a750b06546c19cb3445b1dfc7957": {
      "model_module": "jupyter-js-widgets",
      "model_module_version": "~2.1.4",
      "model_name": "ImageModel",
      "state": {
       "_b64value": "iVBORw0KGgoAAAANSUhEUgAAABkAAAAZCAYAAADE6YVjAAAAKUlEQVR4nO3NQQEAIAwAodOW9g8yU+wHBTjzmpbd7UAikUgkEolEUtUHEEgCidGfV+4AAAAASUVORK5CYII=",
       "_model_module_version": "~2.1.4",
       "_view_module_version": "~2.1.4",
       "layout": "IPY_MODEL_4bc64fefe5b3470380d21face356cb67"
      }
     },
     "b3273ecfdc874d9e8c50c10b98e327ce": {
      "model_module": "jupyter-js-widgets",
      "model_module_version": "~2.1.4",
      "model_name": "ImageModel",
      "state": {
       "_b64value": "iVBORw0KGgoAAAANSUhEUgAAABkAAAAZCAYAAADE6YVjAAAAKUlEQVR4nO3NQQEAIAwAodOW9g8yU+wHBTjzmpbd7UAikUgkEolEUtUHEEgCidGfV+4AAAAASUVORK5CYII=",
       "_model_module_version": "~2.1.4",
       "_view_module_version": "~2.1.4",
       "layout": "IPY_MODEL_32d7d0f7c5fc4c0dba88ba7e63bfd183"
      }
     },
     "b4c810c09d5242edba53978dbbf1b611": {
      "model_module": "jupyter-js-widgets",
      "model_module_version": "~2.1.4",
      "model_name": "LayoutModel",
      "state": {
       "_model_module_version": "~2.1.4",
       "_view_module_version": "~2.1.4"
      }
     },
     "b6f6bb104d9849738e1bb65f541fe4f2": {
      "model_module": "jupyter-js-widgets",
      "model_module_version": "~2.1.4",
      "model_name": "ImageModel",
      "state": {
       "_b64value": "iVBORw0KGgoAAAANSUhEUgAAABkAAAAZCAYAAADE6YVjAAAAKUlEQVR4nO3NQQEAIAwAodOW9g8yU+wHBTjzmpbd7UAikUgkEolEUtUHEEgCidGfV+4AAAAASUVORK5CYII=",
       "_model_module_version": "~2.1.4",
       "_view_module_version": "~2.1.4",
       "layout": "IPY_MODEL_7b7fc1cf9a3e480c99006b5f4a738e7d"
      }
     },
     "ba147842418143d9b5bf4dd0c46e31fe": {
      "model_module": "jupyter-js-widgets",
      "model_module_version": "~2.1.4",
      "model_name": "LayoutModel",
      "state": {
       "_model_module_version": "~2.1.4",
       "_view_module_version": "~2.1.4"
      }
     },
     "beda827ab4ab44ed97b77580fa918ff3": {
      "model_module": "jupyter-js-widgets",
      "model_module_version": "~2.1.4",
      "model_name": "LayoutModel",
      "state": {
       "_model_module_version": "~2.1.4",
       "_view_module_version": "~2.1.4"
      }
     },
     "c0d05c305c6b46e8a5f3ebeb26013a71": {
      "model_module": "jupyter-js-widgets",
      "model_module_version": "~2.1.4",
      "model_name": "LayoutModel",
      "state": {
       "_model_module_version": "~2.1.4",
       "_view_module_version": "~2.1.4"
      }
     },
     "c2633f8ed5a043378ea0242b223ed872": {
      "model_module": "jupyter-js-widgets",
      "model_module_version": "~2.1.4",
      "model_name": "ButtonModel",
      "state": {
       "_model_module_version": "~2.1.4",
       "_view_module_version": "~2.1.4",
       "description": "Previous",
       "layout": "IPY_MODEL_a73dfde0d6c74082b79dc53591c74e19",
       "style": "IPY_MODEL_c4de94b270de48d4a0fddeecd8b9900c"
      }
     },
     "c4de94b270de48d4a0fddeecd8b9900c": {
      "model_module": "jupyter-js-widgets",
      "model_module_version": "~2.1.4",
      "model_name": "ButtonStyleModel",
      "state": {
       "_model_module_version": "~2.1.4",
       "_view_module_version": "~2.1.4"
      }
     },
     "c6982262f1af4d39b4a7c0c551e991ed": {
      "model_module": "jupyter-js-widgets",
      "model_module_version": "~2.1.4",
      "model_name": "ImageModel",
      "state": {
       "_b64value": "iVBORw0KGgoAAAANSUhEUgAAADIAAAAZCAYAAABzVH1EAAAARElEQVR4nO3PAQ0AIAzEwAcluEYeUpiKkYb0DDQdJ7lptnZ3IZn9iTccoXGExhEaR2gcoXGExhEaR2gcoXGExhGab0YKYnYCx0pTE/oAAAAASUVORK5CYII=",
       "_model_module_version": "~2.1.4",
       "_view_module_version": "~2.1.4",
       "layout": "IPY_MODEL_777fc1c0dfca48468bed71140d714169"
      }
     },
     "c709b547ca7449568153f79cddc6a1d9": {
      "model_module": "jupyter-js-widgets",
      "model_module_version": "~2.1.4",
      "model_name": "AccordionModel",
      "state": {
       "_model_module_version": "~2.1.4",
       "_titles": {
        "0": "input2"
       },
       "_view_module_version": "~2.1.4",
       "children": [
        "IPY_MODEL_64ba47e5defe401ca7b03b43e2eab7f4"
       ],
       "layout": "IPY_MODEL_ab688fcda5d4458eb1567b3f403d7ca0"
      }
     },
     "ccc2f1827e184fb884c4e1bd4cd47346": {
      "model_module": "jupyter-js-widgets",
      "model_module_version": "~2.1.4",
      "model_name": "LayoutModel",
      "state": {
       "_model_module_version": "~2.1.4",
       "_view_module_version": "~2.1.4",
       "border": "2px solid blue"
      }
     },
     "ccd2688a5ceb4daca341336d33efca96": {
      "model_module": "jupyter-js-widgets",
      "model_module_version": "~2.1.4",
      "model_name": "LayoutModel",
      "state": {
       "_model_module_version": "~2.1.4",
       "_view_module_version": "~2.1.4"
      }
     },
     "cd584922b7b74a778fcc84c7c1142571": {
      "model_module": "jupyter-js-widgets",
      "model_module_version": "~2.1.4",
      "model_name": "ButtonStyleModel",
      "state": {
       "_model_module_version": "~2.1.4",
       "_view_module_version": "~2.1.4"
      }
     },
     "ce304d07e1a645d59a8bf5a1e6412697": {
      "model_module": "jupyter-js-widgets",
      "model_module_version": "~2.1.4",
      "model_name": "LayoutModel",
      "state": {
       "_model_module_version": "~2.1.4",
       "_view_module_version": "~2.1.4"
      }
     },
     "d39d5eb14bc54503bc0ac6466f669ad7": {
      "model_module": "jupyter-js-widgets",
      "model_module_version": "~2.1.4",
      "model_name": "LayoutModel",
      "state": {
       "_model_module_version": "~2.1.4",
       "_view_module_version": "~2.1.4"
      }
     },
     "d50ba38b9cd748b2b076f0f606833ea4": {
      "model_module": "jupyter-js-widgets",
      "model_module_version": "~2.1.4",
      "model_name": "AccordionModel",
      "state": {
       "_model_module_version": "~2.1.4",
       "_titles": {
        "0": "hidden2"
       },
       "_view_module_version": "~2.1.4",
       "children": [
        "IPY_MODEL_09d96629fe2f4bbaa5dd321ddbc71e09"
       ],
       "layout": "IPY_MODEL_d39d5eb14bc54503bc0ac6466f669ad7"
      }
     },
     "d9533289a30c445694ce51061bb8f54a": {
      "model_module": "jupyter-js-widgets",
      "model_module_version": "~2.1.4",
      "model_name": "LayoutModel",
      "state": {
       "_model_module_version": "~2.1.4",
       "_view_module_version": "~2.1.4"
      }
     },
     "dbd35bc1cf6242f49e544abca0fb85c3": {
      "model_module": "jupyter-js-widgets",
      "model_module_version": "~2.1.4",
      "model_name": "ImageModel",
      "state": {
       "_b64value": "iVBORw0KGgoAAAANSUhEUgAAADIAAAAZCAYAAABzVH1EAAAAQ0lEQVR4nO3PUQ0AIAzE0IFN/KvgY6i4pSF9BpquPtWVduOF2vnEDEdoHKFxhMYRGkdoHKFxhMYRGkdoHKFxhOabkQfsWQOGid5ZYAAAAABJRU5ErkJggg==",
       "_model_module_version": "~2.1.4",
       "_view_module_version": "~2.1.4",
       "layout": "IPY_MODEL_965da9c01dff47c1b95ec1b6e5652a86"
      }
     },
     "e31f3ee52b3a48fdb16f75a81ff89600": {
      "model_module": "jupyter-js-widgets",
      "model_module_version": "~2.1.4",
      "model_name": "LayoutModel",
      "state": {
       "_model_module_version": "~2.1.4",
       "_view_module_version": "~2.1.4",
       "border": "2px solid blue"
      }
     },
     "e571903de4294d94a7a59fc516ac1c80": {
      "model_module": "jupyter-js-widgets",
      "model_module_version": "~2.1.4",
      "model_name": "AccordionModel",
      "state": {
       "_model_module_version": "~2.1.4",
       "_titles": {
        "0": "hidden2"
       },
       "_view_module_version": "~2.1.4",
       "children": [
        "IPY_MODEL_dbd35bc1cf6242f49e544abca0fb85c3"
       ],
       "layout": "IPY_MODEL_45728196e7614f3990e4c41aaf43d898"
      }
     },
     "e8c498689a3e49779bc11b01a53f2b2d": {
      "model_module": "jupyter-js-widgets",
      "model_module_version": "~2.1.4",
      "model_name": "ImageModel",
      "state": {
       "_b64value": "iVBORw0KGgoAAAANSUhEUgAAADIAAAAZCAYAAABzVH1EAAAAQ0lEQVR4nO3PUQ0AIAzE0IFI/PvgY6i4pSF9BpquPtWVduOF2vnEDEdoHKFxhMYRGkdoHKFxhMYRGkdoHKFxhOabkQeKPgOBAoKlbgAAAABJRU5ErkJggg==",
       "_model_module_version": "~2.1.4",
       "_view_module_version": "~2.1.4",
       "layout": "IPY_MODEL_658715cce50f4e68b580fbec8e2609ac"
      }
     },
     "eb63f9c20b134a8d8da0acbe8e5f673f": {
      "model_module": "jupyter-js-widgets",
      "model_module_version": "~2.1.4",
      "model_name": "ButtonStyleModel",
      "state": {
       "_model_module_version": "~2.1.4",
       "_view_module_version": "~2.1.4"
      }
     },
     "ee164a22a5bb44ed845127484bdb16f1": {
      "model_module": "jupyter-js-widgets",
      "model_module_version": "~2.1.4",
      "model_name": "ButtonStyleModel",
      "state": {
       "_model_module_version": "~2.1.4",
       "_view_module_version": "~2.1.4"
      }
     },
     "ee316a266eab467ca105437915ced3e2": {
      "model_module": "jupyter-js-widgets",
      "model_module_version": "~2.1.4",
      "model_name": "ImageModel",
      "state": {
       "_b64value": "iVBORw0KGgoAAAANSUhEUgAAADIAAAAZCAYAAABzVH1EAAAAQ0lEQVR4nO3PUQ0AIAzE0IFI/PvgY6i4pSF9BpquPtWVduOF2vnEDEdoHKFxhMYRGkdoHKFxhMYRGkdoHKFxhOabkQeKPgOBAoKlbgAAAABJRU5ErkJggg==",
       "_model_module_version": "~2.1.4",
       "_view_module_version": "~2.1.4",
       "layout": "IPY_MODEL_ccc2f1827e184fb884c4e1bd4cd47346"
      }
     },
     "f17819c55b144a42b199889d3e07a0ba": {
      "model_module": "jupyter-js-widgets",
      "model_module_version": "~2.1.4",
      "model_name": "LayoutModel",
      "state": {
       "_model_module_version": "~2.1.4",
       "_view_module_version": "~2.1.4"
      }
     },
     "f1f1c2d8acf5450ea6693c0019715ad3": {
      "model_module": "jupyter-js-widgets",
      "model_module_version": "~2.1.4",
      "model_name": "ImageModel",
      "state": {
       "_b64value": "iVBORw0KGgoAAAANSUhEUgAAABkAAAAZCAYAAADE6YVjAAAAKUlEQVR4nO3NQQEAIAwAodOW9g8yU+wHBTjzmpbd7UAikUgkEolEUtUHEEgCidGfV+4AAAAASUVORK5CYII=",
       "_model_module_version": "~2.1.4",
       "_view_module_version": "~2.1.4",
       "layout": "IPY_MODEL_e31f3ee52b3a48fdb16f75a81ff89600"
      }
     },
     "f3fdb9fa8e1142479f48deffebe33383": {
      "model_module": "jupyter-js-widgets",
      "model_module_version": "~2.1.4",
      "model_name": "ButtonStyleModel",
      "state": {
       "_model_module_version": "~2.1.4",
       "_view_module_version": "~2.1.4"
      }
     },
     "f41bb88f18cf437390587e89f73b3bfc": {
      "model_module": "jupyter-js-widgets",
      "model_module_version": "~2.1.4",
      "model_name": "LayoutModel",
      "state": {
       "_model_module_version": "~2.1.4",
       "_view_module_version": "~2.1.4"
      }
     },
     "f444d36b3c26499b87342104fd7d80e5": {
      "model_module": "jupyter-js-widgets",
      "model_module_version": "~2.1.4",
      "model_name": "AccordionModel",
      "state": {
       "_model_module_version": "~2.1.4",
       "_titles": {
        "0": "input1"
       },
       "_view_module_version": "~2.1.4",
       "children": [
        "IPY_MODEL_b01f055f90da4390af0426349bb3fd28"
       ],
       "layout": "IPY_MODEL_ccd2688a5ceb4daca341336d33efca96"
      }
     },
     "fc1c6306718a43f89275115002c2ff49": {
      "model_module": "jupyter-js-widgets",
      "model_module_version": "~2.1.4",
      "model_name": "ButtonModel",
      "state": {
       "_model_module_version": "~2.1.4",
       "_view_module_version": "~2.1.4",
       "description": "Previous",
       "layout": "IPY_MODEL_c0d05c305c6b46e8a5f3ebeb26013a71",
       "style": "IPY_MODEL_6dd1a55b5d804ea8a1406bc0736bc46e"
      }
     },
     "fc74fcd5e3114f2ab21375f57ac9d385": {
      "model_module": "jupyter-js-widgets",
      "model_module_version": "~2.1.4",
      "model_name": "LayoutModel",
      "state": {
       "_model_module_version": "~2.1.4",
       "_view_module_version": "~2.1.4"
      }
     }
    },
    "version_major": 1,
    "version_minor": 0
   }
  }
 },
 "nbformat": 4,
 "nbformat_minor": 2
}
