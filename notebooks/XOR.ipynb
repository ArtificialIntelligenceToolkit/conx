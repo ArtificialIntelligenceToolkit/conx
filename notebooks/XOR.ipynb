{
 "cells": [
  {
   "cell_type": "markdown",
   "metadata": {},
   "source": [
    "# XOR Multiple Inputs/Targets\n",
    "\n",
    "Testing..."
   ]
  },
  {
   "cell_type": "code",
   "execution_count": 1,
   "metadata": {},
   "outputs": [
    {
     "name": "stderr",
     "output_type": "stream",
     "text": [
      "conx, version 3.4.0\n",
      "Using Theano backend.\n"
     ]
    }
   ],
   "source": [
    "from conx import Network, Layer, SGD"
   ]
  },
  {
   "cell_type": "code",
   "execution_count": 2,
   "metadata": {},
   "outputs": [],
   "source": [
    "net = Network(\"XOR Network\", 2, 4, 1, activation=\"sigmoid\")"
   ]
  },
  {
   "cell_type": "code",
   "execution_count": 3,
   "metadata": {},
   "outputs": [],
   "source": [
    "net.compile(loss='mean_squared_error',\n",
    "            optimizer=SGD(lr=0.3, momentum=0.9))"
   ]
  },
  {
   "cell_type": "code",
   "execution_count": 4,
   "metadata": {},
   "outputs": [],
   "source": [
    "dataset = [\n",
    "    ([0, 0], [0]),\n",
    "    ([0, 1], [1]),\n",
    "    ([1, 0], [1]),\n",
    "    ([1, 1], [0])\n",
    "]\n",
    "net[\"output\"].minmax = (0, 1)"
   ]
  },
  {
   "cell_type": "code",
   "execution_count": 5,
   "metadata": {},
   "outputs": [
    {
     "name": "stdout",
     "output_type": "stream",
     "text": [
      "Input Summary:\n",
      "   count  : 4 (4 for training, 0 for testing)\n",
      "   shape  : [(2,)]\n",
      "   range  : (0.0, 1.0)\n",
      "Target Summary:\n",
      "   count  : 4 (4 for training, 0 for testing)\n",
      "   shape  : [(1,)]\n",
      "   range  : (0.0, 1.0)\n"
     ]
    }
   ],
   "source": [
    "net.dataset.load(dataset)\n",
    "net.dataset.summary()"
   ]
  },
  {
   "cell_type": "code",
   "execution_count": 6,
   "metadata": {},
   "outputs": [
    {
     "data": {
      "text/plain": [
       "[0.0]"
      ]
     },
     "execution_count": 6,
     "metadata": {},
     "output_type": "execute_result"
    }
   ],
   "source": [
    "net.dataset.targets[0]"
   ]
  },
  {
   "cell_type": "code",
   "execution_count": 7,
   "metadata": {},
   "outputs": [
    {
     "data": {
      "text/plain": [
       "[(2,)]"
      ]
     },
     "execution_count": 7,
     "metadata": {},
     "output_type": "execute_result"
    }
   ],
   "source": [
    "net.dataset.inputs.shape"
   ]
  },
  {
   "cell_type": "code",
   "execution_count": 8,
   "metadata": {},
   "outputs": [
    {
     "data": {
      "application/javascript": [
       "\n",
       "require(['base/js/namespace'], function(Jupyter) {\n",
       "    Jupyter.notebook.kernel.comm_manager.register_target('conx_svg_control', function(comm, msg) {\n",
       "        comm.on_msg(function(msg) {\n",
       "            var data = msg[\"content\"][\"data\"];\n",
       "            var images = document.getElementsByClassName(data[\"class\"]);\n",
       "            for (var i = 0; i < images.length; i++) {\n",
       "                if (data[\"href\"]) {\n",
       "                    images[i].setAttributeNS(null, \"href\", data[\"href\"]);\n",
       "                }\n",
       "                if (data[\"src\"]) {\n",
       "                    images[i].setAttributeNS(null, \"src\", data[\"src\"]);\n",
       "                }\n",
       "            }\n",
       "        });\n",
       "    });\n",
       "});\n"
      ],
      "text/plain": [
       "<IPython.core.display.Javascript object>"
      ]
     },
     "metadata": {},
     "output_type": "display_data"
    },
    {
     "data": {
      "application/vnd.jupyter.widget-view+json": {
       "model_id": "7781b096673c49dd914d9f6e5156c45f",
       "version_major": 2,
       "version_minor": 0
      },
      "text/html": [
       "<p>Failed to display Jupyter Widget of type <code>Dashboard</code>.</p>\n",
       "<p>\n",
       "  If you're reading this message in Jupyter Notebook or JupyterLab, it may mean\n",
       "  that the widgets JavaScript is still loading. If this message persists, it\n",
       "  likely means that the widgets JavaScript library is either not installed or\n",
       "  not enabled. See the <a href=\"https://ipywidgets.readthedocs.io/en/stable/user_install.html\">Jupyter\n",
       "  Widgets Documentation</a> for setup instructions.\n",
       "</p>\n",
       "<p>\n",
       "  If you're reading this message in another notebook frontend (for example, a static\n",
       "  rendering on GitHub or <a href=\"https://nbviewer.jupyter.org/\">NBViewer</a>),\n",
       "  it may mean that your frontend doesn't currently support widgets.\n",
       "</p>\n"
      ],
      "text/plain": [
       "Dashboard(children=(VBox(children=(VBox(children=(HBox(children=(Select(description='Dataset:', index=1, options=('Test', 'Train'), rows=1, value='Train'), Select(description='Features:', options=('',), rows=1, value=''), Button(icon='refresh', layout=Layout(width='40px'), style=ButtonStyle())), layout=Layout(height='40px')), HBox(children=(IntSlider(value=0, continuous_update=False, description='Dataset index', layout=Layout(width='95%'), max=3), Label(value='of 0', layout=Layout(width='100px'))), layout=Layout(height='40px')), HBox(children=(Button(icon='fast-backward', layout=Layout(width='100%'), style=ButtonStyle()), Button(icon='backward', layout=Layout(width='100%'), style=ButtonStyle()), IntText(value=0, layout=Layout(width='100%')), Button(icon='forward', layout=Layout(width='100%'), style=ButtonStyle()), Button(icon='fast-forward', layout=Layout(width='100%'), style=ButtonStyle()), Button(description='Play', icon='play', layout=Layout(width='100%'), style=ButtonStyle())), layout=Layout(height='50px', width='100%'))), layout=Layout(width='95%')), HTML(value='<p style=\"text-align:center\"><svg id=\\'XOR Network\\' xmlns=\\'http://www.w3.org/2000/svg\\' viewBox=\"0 0 350 265\" height=\"780\" image-rendering=\"pixelated\">\\n    <defs>\\n        <marker id=\"arrow\" markerWidth=\"10\" markerHeight=\"10\" refX=\"9\" refY=\"3\" orient=\"auto\" markerUnits=\"strokeWidth\">\\n          <path d=\"M0,0 L0,6 L9,3 z\" fill=\"black\" />\\n        </marker>\\n    </defs><text x=\"175.0\" y=\"12.5\" font-family=\"monospace\" font-size=\"15\" text-anchor=\"middle\" alignment-baseline=\"central\">XOR Network</text><rect x=\"149.0\" y=\"29\" width=\"52\" height=\"52\" style=\"fill:none;stroke:black;stroke-width:2\"/><image id=\"XOR Network_output_1\" class=\"XOR Network_output\" x=\"150.0\" y=\"30\" height=\"50\" width=\"50\" preserveAspectRatio=\"none\" href=\"data:image/gif;base64,R0lGODdhAQABAIcAAO3t/wAAAAAAAAAAAAAAAAAAAAAAAAAAAAAAAAAAAAAAAAAAAAAAAAAAAAAAAAAAAAAAAAAAAAAAAAAAAAAAAAAAAAAAAAAAAAAAAAAAAAAAAAAAAAAAAAAAAAAAAAAAAAAAAAAAAAAAAAAAAAAAAAAAAAAAAAAAAAAAAAAAAAAAAAAAAAAAAAAAAAAAAAAAAAAAAAAAAAAAAAAAAAAAAAAAAAAAAAAAAAAAAAAAAAAAAAAAAAAAAAAAAAAAAAAAAAAAAAAAAAAAAAAAAAAAAAAAAAAAAAAAAAAAAAAAAAAAAAAAAAAAAAAAAAAAAAAAAAAAAAAAAAAAAAAAAAAAAAAAAAAAAAAAAAAAAAAAAAAAAAAAAAAAAAAAAAAAAAAAAAAAAAAAAAAAAAAAAAAAAAAAAAAAAAAAAAAAAAAAAAAAAAAAAAAAAAAAAAAAAAAAAAAAAAAAAAAAAAAAAAAAAAAAAAAAAAAAAAAAAAAAAAAAAAAAAAAAAAAAAAAAAAAAAAAAAAAAAAAAAAAAAAAAAAAAAAAAAAAAAAAAAAAAAAAAAAAAAAAAAAAAAAAAAAAAAAAAAAAAAAAAAAAAAAAAAAAAAAAAAAAAAAAAAAAAAAAAAAAAAAAAAAAAAAAAAAAAAAAAAAAAAAAAAAAAAAAAAAAAAAAAAAAAAAAAAAAAAAAAAAAAAAAAAAAAAAAAAAAAAAAAAAAAAAAAAAAAAAAAAAAAAAAAAAAAAAAAAAAAAAAAAAAAAAAAAAAAAAAAAAAAAAAAAAAAAAAAAAAAAAAAAAAAAAAAAAAAAAAAAAAAAAAAAAAAAAAAAAAAAAAAAAAAAAAAAAAAAAAAAAAAAAAAAAAAAAAAAAAAAAAAAAAAAAAAAAAAAAAAAAAAAAAAAAAAAAAAAAAAAAAAAAAAAAAAAAAAAAAAAAAAAAAAAAAAAAAAAAAAAAAAAAAAAAAAAAAAAAAAAAAAAAAAAAAAAAAAAAAAAAAAAAAAAAAAAAAAAAAAAAAAAAAAAAAAAAAAAAAAACwAAAAAAQABAAAIBQABsAsIADs=\"><title>Layer: output (output)\\n shape = (1,)\\n Keras class = Dense\\n activation = sigmoid</title></image><text x=\"205.0\" y=\"57.0\" font-family=\"monospace\" font-size=\"12\" text-anchor=\"start\" alignment-baseline=\"central\">output</text><line x1=\"175.0\" y1=\"109\" x2=\"175.0\" y2=\"82\" stroke=\"black\" stroke-width=\"2\" marker-end=\"url(#arrow)\"><title>Weights from hidden to output\\n output/kernel has shape (4, 1)\\n output/bias has shape (1,)</title></line><rect x=\"74.0\" y=\"109\" width=\"202\" height=\"52\" style=\"fill:none;stroke:black;stroke-width:2\"/><image id=\"XOR Network_hidden_2\" class=\"XOR Network_hidden\" x=\"75.0\" y=\"110\" height=\"50\" width=\"200\" preserveAspectRatio=\"none\" href=\"data:image/gif;base64,R0lGODdhBAABAIcAAAAA/wAAAAAAAAAAAAAAAAAAAAAAAAAAAAAAAAAAAAAAAAAAAAAAAAAAAAAAAAAAAAAAAAAAAAAAAAAAAAAAAAAAAAAAAAAAAAAAAAAAAAAAAAAAAAAAAAAAAAAAAAAAAAAAAAAAAAAAAAAAAAAAAAAAAAAAAAAAAAAAAAAAAAAAAAAAAAAAAAAAAAAAAAAAAAAAAAAAAAAAAAAAAAAAAAAAAAAAAAAAAAAAAAAAAAAAAAAAAAAAAAAAAAAAAAAAAAAAAAAAAAAAAAAAAAAAAAAAAAAAAAAAAAAAAAAAAAAAAAAAAAAAAAAAAAAAAAAAAAAAAAAAAAAAAAAAAAAAAAAAAAAAAAAAAAAAAAAAAAAAAAAAAAAAAAAAAAAAAAAAAAAAAAAAAAAAAAAAAAAAAAAAAAAAAAAAAAAAAAAAAAAAAAAAAAAAAAAAAAAAAAAAAAAAAAAAAAAAAAAAAAAAAAAAAAAAAAAAAAAAAAAAAAAAAAAAAAAAAAAAAAAAAAAAAAAAAAAAAAAAAAAAAAAAAAAAAAAAAAAAAAAAAAAAAAAAAAAAAAAAAAAAAAAAAAAAAAAAAAAAAAAAAAAAAAAAAAAAAAAAAAAAAAAAAAAAAAAAAAAAAAAAAAAAAAAAAAAAAAAAAAAAAAAAAAAAAAAAAAAAAAAAAAAAAAAAAAAAAAAAAAAAAAAAAAAAAAAAAAAAAAAAAAAAAAAAAAAAAAAAAAAAAAAAAAAAAAAAAAAAAAAAAAAAAAAAAAAAAAAAAAAAAAAAAAAAAAAAAAAAAAAAAAAAAAAAAAAAAAAAAAAAAAAAAAAAAAAAAAAAAAAAAAAAAAAAAAAAAAAAAAAAAAAAAAAAAAAAAAAAAAAAAAAAAAAAAAAAAAAAAAAAAAAAAAAAAAAAAAAAAAAAAAAAAAAAAAAAAAAAAAAAAAAAAAAAAAAAAAAAAAAAAAAAAAAAAAAAAAAAAAAAAAAAAAAAAAAAAAAAAAAAAAAAAAAAAAAAAAAAAAAAAAAAAAAAAAAAAAAAACwAAAAABAABAAAIBgABCAQQEAA7\"><title>Layer: hidden (hidden)\\n shape = (4,)\\n Keras class = Dense\\n activation = sigmoid</title></image><text x=\"280.0\" y=\"137.0\" font-family=\"monospace\" font-size=\"12\" text-anchor=\"start\" alignment-baseline=\"central\">hidden</text><line x1=\"175.0\" y1=\"189\" x2=\"175.0\" y2=\"162\" stroke=\"black\" stroke-width=\"2\" marker-end=\"url(#arrow)\"><title>Weights from input to hidden\\n hidden/kernel has shape (2, 4)\\n hidden/bias has shape (4,)</title></line><rect x=\"124.0\" y=\"189\" width=\"102\" height=\"52\" style=\"fill:none;stroke:black;stroke-width:2\"/><image id=\"XOR Network_input_3\" class=\"XOR Network_input\" x=\"125.0\" y=\"190\" height=\"50\" width=\"100\" preserveAspectRatio=\"none\" href=\"data:image/gif;base64,R0lGODdhAgABAIcAAP/9/QAAAAAAAAAAAAAAAAAAAAAAAAAAAAAAAAAAAAAAAAAAAAAAAAAAAAAAAAAAAAAAAAAAAAAAAAAAAAAAAAAAAAAAAAAAAAAAAAAAAAAAAAAAAAAAAAAAAAAAAAAAAAAAAAAAAAAAAAAAAAAAAAAAAAAAAAAAAAAAAAAAAAAAAAAAAAAAAAAAAAAAAAAAAAAAAAAAAAAAAAAAAAAAAAAAAAAAAAAAAAAAAAAAAAAAAAAAAAAAAAAAAAAAAAAAAAAAAAAAAAAAAAAAAAAAAAAAAAAAAAAAAAAAAAAAAAAAAAAAAAAAAAAAAAAAAAAAAAAAAAAAAAAAAAAAAAAAAAAAAAAAAAAAAAAAAAAAAAAAAAAAAAAAAAAAAAAAAAAAAAAAAAAAAAAAAAAAAAAAAAAAAAAAAAAAAAAAAAAAAAAAAAAAAAAAAAAAAAAAAAAAAAAAAAAAAAAAAAAAAAAAAAAAAAAAAAAAAAAAAAAAAAAAAAAAAAAAAAAAAAAAAAAAAAAAAAAAAAAAAAAAAAAAAAAAAAAAAAAAAAAAAAAAAAAAAAAAAAAAAAAAAAAAAAAAAAAAAAAAAAAAAAAAAAAAAAAAAAAAAAAAAAAAAAAAAAAAAAAAAAAAAAAAAAAAAAAAAAAAAAAAAAAAAAAAAAAAAAAAAAAAAAAAAAAAAAAAAAAAAAAAAAAAAAAAAAAAAAAAAAAAAAAAAAAAAAAAAAAAAAAAAAAAAAAAAAAAAAAAAAAAAAAAAAAAAAAAAAAAAAAAAAAAAAAAAAAAAAAAAAAAAAAAAAAAAAAAAAAAAAAAAAAAAAAAAAAAAAAAAAAAAAAAAAAAAAAAAAAAAAAAAAAAAAAAAAAAAAAAAAAAAAAAAAAAAAAAAAAAAAAAAAAAAAAAAAAAAAAAAAAAAAAAAAAAAAAAAAAAAAAAAAAAAAAAAAAAAAAAAAAAAAAAAAAAAAAAAAAAAAAAAAAAAAAAAAAAAAAAAAAAAAAAAAAAAAAAAAAAAAAAAAAAAAAAAAAAAAAAACwAAAAAAgABAAAIBQABAAgIADs=\"><title>Layer: input (input)\\n shape = (2,)\\n Keras class = Input</title></image><text x=\"230.0\" y=\"217.0\" font-family=\"monospace\" font-size=\"12\" text-anchor=\"start\" alignment-baseline=\"central\">input</text></svg></p>', layout=Layout(justify_content='center', overflow_x='auto', overflow_y='auto', width='95%'))), layout=Layout(width='95%')), VBox(children=(Accordion(children=(VBox(children=(HTML(value='<p><h3>Network display:</h3></p>'), FloatSlider(value=1.0, continuous_update=False, description='Zoom', max=3.0, min=0.5), IntText(value=150, description='Horizontal space between banks:', style=DescriptionStyle(description_width='initial')), IntText(value=30, description='Vertical space between layers:', style=DescriptionStyle(description_width='initial')), Checkbox(value=False, description='Show Targets'), Checkbox(value=False, description='Show Errors'), IntText(value=3, description='Feature columns:', style=DescriptionStyle(description_width='initial')), FloatText(value=2.0, description='Feature scale:', style=DescriptionStyle(description_width='initial')))), VBox(children=(HTML(value='<p><hr/><h3>output bank:</h3></p>'), Checkbox(value=True, description='Visible'), HBox(children=(Select(description='Colormap:', options=('', 'Accent', 'Accent_r', 'Blues', 'Blues_r', 'BrBG', 'BrBG_r', 'BuGn', 'BuGn_r', 'BuPu', 'BuPu_r', 'CMRmap', 'CMRmap_r', 'Dark2', 'Dark2_r', 'GnBu', 'GnBu_r', 'Greens', 'Greens_r', 'Greys', 'Greys_r', 'OrRd', 'OrRd_r', 'Oranges', 'Oranges_r', 'PRGn', 'PRGn_r', 'Paired', 'Paired_r', 'Pastel1', 'Pastel1_r', 'Pastel2', 'Pastel2_r', 'PiYG', 'PiYG_r', 'PuBu', 'PuBuGn', 'PuBuGn_r', 'PuBu_r', 'PuOr', 'PuOr_r', 'PuRd', 'PuRd_r', 'Purples', 'Purples_r', 'RdBu', 'RdBu_r', 'RdGy', 'RdGy_r', 'RdPu', 'RdPu_r', 'RdYlBu', 'RdYlBu_r', 'RdYlGn', 'RdYlGn_r', 'Reds', 'Reds_r', 'Set1', 'Set1_r', 'Set2', 'Set2_r', 'Set3', 'Set3_r', 'Spectral', 'Spectral_r', 'Vega10', 'Vega10_r', 'Vega20', 'Vega20_r', 'Vega20b', 'Vega20b_r', 'Vega20c', 'Vega20c_r', 'Wistia', 'Wistia_r', 'YlGn', 'YlGnBu', 'YlGnBu_r', 'YlGn_r', 'YlOrBr', 'YlOrBr_r', 'YlOrRd', 'YlOrRd_r', 'afmhot', 'afmhot_r', 'autumn', 'autumn_r', 'binary', 'binary_r', 'bone', 'bone_r', 'brg', 'brg_r', 'bwr', 'bwr_r', 'cool', 'cool_r', 'coolwarm', 'coolwarm_r', 'copper', 'copper_r', 'cubehelix', 'cubehelix_r', 'flag', 'flag_r', 'gist_earth', 'gist_earth_r', 'gist_gray', 'gist_gray_r', 'gist_heat', 'gist_heat_r', 'gist_ncar', 'gist_ncar_r', 'gist_rainbow', 'gist_rainbow_r', 'gist_stern', 'gist_stern_r', 'gist_yarg', 'gist_yarg_r', 'gnuplot', 'gnuplot2', 'gnuplot2_r', 'gnuplot_r', 'gray', 'gray_r', 'hot', 'hot_r', 'hsv', 'hsv_r', 'inferno', 'inferno_r', 'jet', 'jet_r', 'magma', 'magma_r', 'nipy_spectral', 'nipy_spectral_r', 'ocean', 'ocean_r', 'pink', 'pink_r', 'plasma', 'plasma_r', 'prism', 'prism_r', 'rainbow', 'rainbow_r', 'seismic', 'seismic_r', 'spectral', 'spectral_r', 'spring', 'spring_r', 'summer', 'summer_r', 'tab10', 'tab10_r', 'tab20', 'tab20_r', 'tab20b', 'tab20b_r', 'tab20c', 'tab20c_r', 'terrain', 'terrain_r', 'viridis', 'viridis_r', 'winter', 'winter_r'), rows=1, value=''), HTML(value='<img src=\"data:image/gif;base64,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\"/>'))), HBox(children=(IntText(value=0, description='Leftmost color maps to:', style=DescriptionStyle(description_width='initial')), IntText(value=1, description='Rightmost color maps to:', style=DescriptionStyle(description_width='initial')))))), VBox(children=(HTML(value='<p><hr/><h3>hidden bank:</h3></p>'), Checkbox(value=True, description='Visible'), HBox(children=(Select(description='Colormap:', options=('', 'Accent', 'Accent_r', 'Blues', 'Blues_r', 'BrBG', 'BrBG_r', 'BuGn', 'BuGn_r', 'BuPu', 'BuPu_r', 'CMRmap', 'CMRmap_r', 'Dark2', 'Dark2_r', 'GnBu', 'GnBu_r', 'Greens', 'Greens_r', 'Greys', 'Greys_r', 'OrRd', 'OrRd_r', 'Oranges', 'Oranges_r', 'PRGn', 'PRGn_r', 'Paired', 'Paired_r', 'Pastel1', 'Pastel1_r', 'Pastel2', 'Pastel2_r', 'PiYG', 'PiYG_r', 'PuBu', 'PuBuGn', 'PuBuGn_r', 'PuBu_r', 'PuOr', 'PuOr_r', 'PuRd', 'PuRd_r', 'Purples', 'Purples_r', 'RdBu', 'RdBu_r', 'RdGy', 'RdGy_r', 'RdPu', 'RdPu_r', 'RdYlBu', 'RdYlBu_r', 'RdYlGn', 'RdYlGn_r', 'Reds', 'Reds_r', 'Set1', 'Set1_r', 'Set2', 'Set2_r', 'Set3', 'Set3_r', 'Spectral', 'Spectral_r', 'Vega10', 'Vega10_r', 'Vega20', 'Vega20_r', 'Vega20b', 'Vega20b_r', 'Vega20c', 'Vega20c_r', 'Wistia', 'Wistia_r', 'YlGn', 'YlGnBu', 'YlGnBu_r', 'YlGn_r', 'YlOrBr', 'YlOrBr_r', 'YlOrRd', 'YlOrRd_r', 'afmhot', 'afmhot_r', 'autumn', 'autumn_r', 'binary', 'binary_r', 'bone', 'bone_r', 'brg', 'brg_r', 'bwr', 'bwr_r', 'cool', 'cool_r', 'coolwarm', 'coolwarm_r', 'copper', 'copper_r', 'cubehelix', 'cubehelix_r', 'flag', 'flag_r', 'gist_earth', 'gist_earth_r', 'gist_gray', 'gist_gray_r', 'gist_heat', 'gist_heat_r', 'gist_ncar', 'gist_ncar_r', 'gist_rainbow', 'gist_rainbow_r', 'gist_stern', 'gist_stern_r', 'gist_yarg', 'gist_yarg_r', 'gnuplot', 'gnuplot2', 'gnuplot2_r', 'gnuplot_r', 'gray', 'gray_r', 'hot', 'hot_r', 'hsv', 'hsv_r', 'inferno', 'inferno_r', 'jet', 'jet_r', 'magma', 'magma_r', 'nipy_spectral', 'nipy_spectral_r', 'ocean', 'ocean_r', 'pink', 'pink_r', 'plasma', 'plasma_r', 'prism', 'prism_r', 'rainbow', 'rainbow_r', 'seismic', 'seismic_r', 'spectral', 'spectral_r', 'spring', 'spring_r', 'summer', 'summer_r', 'tab10', 'tab10_r', 'tab20', 'tab20_r', 'tab20b', 'tab20b_r', 'tab20c', 'tab20c_r', 'terrain', 'terrain_r', 'viridis', 'viridis_r', 'winter', 'winter_r'), rows=1, value=''), HTML(value='<img src=\"data:image/gif;base64,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\"/>'))), HBox(children=(IntText(value=-1, description='Leftmost color maps to:', style=DescriptionStyle(description_width='initial')), IntText(value=1, description='Rightmost color maps to:', style=DescriptionStyle(description_width='initial')))))), VBox(children=(HTML(value='<p><hr/><h3>input bank:</h3></p>'), Checkbox(value=True, description='Visible'), HBox(children=(Select(description='Colormap:', options=('', 'Accent', 'Accent_r', 'Blues', 'Blues_r', 'BrBG', 'BrBG_r', 'BuGn', 'BuGn_r', 'BuPu', 'BuPu_r', 'CMRmap', 'CMRmap_r', 'Dark2', 'Dark2_r', 'GnBu', 'GnBu_r', 'Greens', 'Greens_r', 'Greys', 'Greys_r', 'OrRd', 'OrRd_r', 'Oranges', 'Oranges_r', 'PRGn', 'PRGn_r', 'Paired', 'Paired_r', 'Pastel1', 'Pastel1_r', 'Pastel2', 'Pastel2_r', 'PiYG', 'PiYG_r', 'PuBu', 'PuBuGn', 'PuBuGn_r', 'PuBu_r', 'PuOr', 'PuOr_r', 'PuRd', 'PuRd_r', 'Purples', 'Purples_r', 'RdBu', 'RdBu_r', 'RdGy', 'RdGy_r', 'RdPu', 'RdPu_r', 'RdYlBu', 'RdYlBu_r', 'RdYlGn', 'RdYlGn_r', 'Reds', 'Reds_r', 'Set1', 'Set1_r', 'Set2', 'Set2_r', 'Set3', 'Set3_r', 'Spectral', 'Spectral_r', 'Vega10', 'Vega10_r', 'Vega20', 'Vega20_r', 'Vega20b', 'Vega20b_r', 'Vega20c', 'Vega20c_r', 'Wistia', 'Wistia_r', 'YlGn', 'YlGnBu', 'YlGnBu_r', 'YlGn_r', 'YlOrBr', 'YlOrBr_r', 'YlOrRd', 'YlOrRd_r', 'afmhot', 'afmhot_r', 'autumn', 'autumn_r', 'binary', 'binary_r', 'bone', 'bone_r', 'brg', 'brg_r', 'bwr', 'bwr_r', 'cool', 'cool_r', 'coolwarm', 'coolwarm_r', 'copper', 'copper_r', 'cubehelix', 'cubehelix_r', 'flag', 'flag_r', 'gist_earth', 'gist_earth_r', 'gist_gray', 'gist_gray_r', 'gist_heat', 'gist_heat_r', 'gist_ncar', 'gist_ncar_r', 'gist_rainbow', 'gist_rainbow_r', 'gist_stern', 'gist_stern_r', 'gist_yarg', 'gist_yarg_r', 'gnuplot', 'gnuplot2', 'gnuplot2_r', 'gnuplot_r', 'gray', 'gray_r', 'hot', 'hot_r', 'hsv', 'hsv_r', 'inferno', 'inferno_r', 'jet', 'jet_r', 'magma', 'magma_r', 'nipy_spectral', 'nipy_spectral_r', 'ocean', 'ocean_r', 'pink', 'pink_r', 'plasma', 'plasma_r', 'prism', 'prism_r', 'rainbow', 'rainbow_r', 'seismic', 'seismic_r', 'spectral', 'spectral_r', 'spring', 'spring_r', 'summer', 'summer_r', 'tab10', 'tab10_r', 'tab20', 'tab20_r', 'tab20b', 'tab20b_r', 'tab20c', 'tab20c_r', 'terrain', 'terrain_r', 'viridis', 'viridis_r', 'winter', 'winter_r'), rows=1, value=''), HTML(value='<img src=\"data:image/gif;base64,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\"/>'))), HBox(children=(IntText(value=-1, description='Leftmost color maps to:', style=DescriptionStyle(description_width='initial')), IntText(value=1, description='Rightmost color maps to:', style=DescriptionStyle(description_width='initial'))))))), _titles={'0': 'Network configuration', '1': 'output bank', '2': 'hidden bank', '3': 'input bank'}),), layout=Layout(overflow_x='auto', overflow_y='auto', width='95%')), HTML(value='<iframe src=\"https://conx.readthedocs.io\" width=\"100%\" height=\"550px\"></frame>', layout=Layout(width='95%'))), _titles={'0': 'Network', '1': 'Configuration', '2': 'Help'})"
      ]
     },
     "metadata": {},
     "output_type": "display_data"
    }
   ],
   "source": [
    "net.dashboard()"
   ]
  },
  {
   "cell_type": "code",
   "execution_count": 9,
   "metadata": {},
   "outputs": [
    {
     "data": {
      "text/plain": [
       "[0.5188825726509094]"
      ]
     },
     "execution_count": 9,
     "metadata": {},
     "output_type": "execute_result"
    }
   ],
   "source": [
    "net.propagate([0, 0])"
   ]
  },
  {
   "cell_type": "code",
   "execution_count": 10,
   "metadata": {},
   "outputs": [
    {
     "data": {
      "image/svg+xml": [
       "<svg height=\"288pt\" version=\"1.1\" viewBox=\"0 0 720 288\" width=\"720pt\" xmlns=\"http://www.w3.org/2000/svg\" xmlns:xlink=\"http://www.w3.org/1999/xlink\">\n",
       " <defs>\n",
       "  <style type=\"text/css\">\n",
       "*{stroke-linecap:butt;stroke-linejoin:round;}\n",
       "  </style>\n",
       " </defs>\n",
       " <g id=\"figure_1\">\n",
       "  <g id=\"patch_1\">\n",
       "   <path d=\"M 0 288  L 720 288  L 720 0  L 0 0  z \" style=\"fill:#ffffff;\"/>\n",
       "  </g>\n",
       "  <g id=\"axes_1\">\n",
       "   <g id=\"patch_2\">\n",
       "    <path d=\"M 90 252  L 343.636364 252  L 343.636364 34.56  L 90 34.56  z \" style=\"fill:#ffffff;\"/>\n",
       "   </g>\n",
       "   <g id=\"matplotlib.axis_1\">\n",
       "    <g id=\"xtick_1\">\n",
       "     <g id=\"line2d_1\">\n",
       "      <defs>\n",
       "       <path d=\"M 0 0  L 0 3.5  \" id=\"m1690ae64e0\" style=\"stroke:#000000;stroke-width:0.8;\"/>\n",
       "      </defs>\n",
       "      <g>\n",
       "       <use style=\"stroke:#000000;stroke-width:0.8;\" x=\"101.528926\" xlink:href=\"#m1690ae64e0\" y=\"252\"/>\n",
       "      </g>\n",
       "     </g>\n",
       "     <g id=\"text_1\">\n",
       "      <!-- 0 -->\n",
       "      <defs>\n",
       "       <path d=\"M 31.78125 66.40625  Q 24.171875 66.40625 20.328125 58.90625  Q 16.5 51.421875 16.5 36.375  Q 16.5 21.390625 20.328125 13.890625  Q 24.171875 6.390625 31.78125 6.390625  Q 39.453125 6.390625 43.28125 13.890625  Q 47.125 21.390625 47.125 36.375  Q 47.125 51.421875 43.28125 58.90625  Q 39.453125 66.40625 31.78125 66.40625  z M 31.78125 74.21875  Q 44.046875 74.21875 50.515625 64.515625  Q 56.984375 54.828125 56.984375 36.375  Q 56.984375 17.96875 50.515625 8.265625  Q 44.046875 -1.421875 31.78125 -1.421875  Q 19.53125 -1.421875 13.0625 8.265625  Q 6.59375 17.96875 6.59375 36.375  Q 6.59375 54.828125 13.0625 64.515625  Q 19.53125 74.21875 31.78125 74.21875  z \" id=\"DejaVuSans-30\"/>\n",
       "      </defs>\n",
       "      <g transform=\"translate(98.347676 266.598437)scale(0.1 -0.1)\">\n",
       "       <use xlink:href=\"#DejaVuSans-30\"/>\n",
       "      </g>\n",
       "     </g>\n",
       "    </g>\n",
       "    <g id=\"xtick_2\">\n",
       "     <g id=\"line2d_2\">\n",
       "      <g>\n",
       "       <use style=\"stroke:#000000;stroke-width:0.8;\" x=\"162.207482\" xlink:href=\"#m1690ae64e0\" y=\"252\"/>\n",
       "      </g>\n",
       "     </g>\n",
       "     <g id=\"text_2\">\n",
       "      <!-- 100 -->\n",
       "      <defs>\n",
       "       <path d=\"M 12.40625 8.296875  L 28.515625 8.296875  L 28.515625 63.921875  L 10.984375 60.40625  L 10.984375 69.390625  L 28.421875 72.90625  L 38.28125 72.90625  L 38.28125 8.296875  L 54.390625 8.296875  L 54.390625 0  L 12.40625 0  z \" id=\"DejaVuSans-31\"/>\n",
       "      </defs>\n",
       "      <g transform=\"translate(152.663732 266.598437)scale(0.1 -0.1)\">\n",
       "       <use xlink:href=\"#DejaVuSans-31\"/>\n",
       "       <use x=\"63.623047\" xlink:href=\"#DejaVuSans-30\"/>\n",
       "       <use x=\"127.246094\" xlink:href=\"#DejaVuSans-30\"/>\n",
       "      </g>\n",
       "     </g>\n",
       "    </g>\n",
       "    <g id=\"xtick_3\">\n",
       "     <g id=\"line2d_3\">\n",
       "      <g>\n",
       "       <use style=\"stroke:#000000;stroke-width:0.8;\" x=\"222.886037\" xlink:href=\"#m1690ae64e0\" y=\"252\"/>\n",
       "      </g>\n",
       "     </g>\n",
       "     <g id=\"text_3\">\n",
       "      <!-- 200 -->\n",
       "      <defs>\n",
       "       <path d=\"M 19.1875 8.296875  L 53.609375 8.296875  L 53.609375 0  L 7.328125 0  L 7.328125 8.296875  Q 12.9375 14.109375 22.625 23.890625  Q 32.328125 33.6875 34.8125 36.53125  Q 39.546875 41.84375 41.421875 45.53125  Q 43.3125 49.21875 43.3125 52.78125  Q 43.3125 58.59375 39.234375 62.25  Q 35.15625 65.921875 28.609375 65.921875  Q 23.96875 65.921875 18.8125 64.3125  Q 13.671875 62.703125 7.8125 59.421875  L 7.8125 69.390625  Q 13.765625 71.78125 18.9375 73  Q 24.125 74.21875 28.421875 74.21875  Q 39.75 74.21875 46.484375 68.546875  Q 53.21875 62.890625 53.21875 53.421875  Q 53.21875 48.921875 51.53125 44.890625  Q 49.859375 40.875 45.40625 35.40625  Q 44.1875 33.984375 37.640625 27.21875  Q 31.109375 20.453125 19.1875 8.296875  z \" id=\"DejaVuSans-32\"/>\n",
       "      </defs>\n",
       "      <g transform=\"translate(213.342287 266.598437)scale(0.1 -0.1)\">\n",
       "       <use xlink:href=\"#DejaVuSans-32\"/>\n",
       "       <use x=\"63.623047\" xlink:href=\"#DejaVuSans-30\"/>\n",
       "       <use x=\"127.246094\" xlink:href=\"#DejaVuSans-30\"/>\n",
       "      </g>\n",
       "     </g>\n",
       "    </g>\n",
       "    <g id=\"xtick_4\">\n",
       "     <g id=\"line2d_4\">\n",
       "      <g>\n",
       "       <use style=\"stroke:#000000;stroke-width:0.8;\" x=\"283.564593\" xlink:href=\"#m1690ae64e0\" y=\"252\"/>\n",
       "      </g>\n",
       "     </g>\n",
       "     <g id=\"text_4\">\n",
       "      <!-- 300 -->\n",
       "      <defs>\n",
       "       <path d=\"M 40.578125 39.3125  Q 47.65625 37.796875 51.625 33  Q 55.609375 28.21875 55.609375 21.1875  Q 55.609375 10.40625 48.1875 4.484375  Q 40.765625 -1.421875 27.09375 -1.421875  Q 22.515625 -1.421875 17.65625 -0.515625  Q 12.796875 0.390625 7.625 2.203125  L 7.625 11.71875  Q 11.71875 9.328125 16.59375 8.109375  Q 21.484375 6.890625 26.8125 6.890625  Q 36.078125 6.890625 40.9375 10.546875  Q 45.796875 14.203125 45.796875 21.1875  Q 45.796875 27.640625 41.28125 31.265625  Q 36.765625 34.90625 28.71875 34.90625  L 20.21875 34.90625  L 20.21875 43.015625  L 29.109375 43.015625  Q 36.375 43.015625 40.234375 45.921875  Q 44.09375 48.828125 44.09375 54.296875  Q 44.09375 59.90625 40.109375 62.90625  Q 36.140625 65.921875 28.71875 65.921875  Q 24.65625 65.921875 20.015625 65.03125  Q 15.375 64.15625 9.8125 62.3125  L 9.8125 71.09375  Q 15.4375 72.65625 20.34375 73.4375  Q 25.25 74.21875 29.59375 74.21875  Q 40.828125 74.21875 47.359375 69.109375  Q 53.90625 64.015625 53.90625 55.328125  Q 53.90625 49.265625 50.4375 45.09375  Q 46.96875 40.921875 40.578125 39.3125  z \" id=\"DejaVuSans-33\"/>\n",
       "      </defs>\n",
       "      <g transform=\"translate(274.020843 266.598437)scale(0.1 -0.1)\">\n",
       "       <use xlink:href=\"#DejaVuSans-33\"/>\n",
       "       <use x=\"63.623047\" xlink:href=\"#DejaVuSans-30\"/>\n",
       "       <use x=\"127.246094\" xlink:href=\"#DejaVuSans-30\"/>\n",
       "      </g>\n",
       "     </g>\n",
       "    </g>\n",
       "    <g id=\"text_5\">\n",
       "     <!-- Epoch -->\n",
       "     <defs>\n",
       "      <path d=\"M 9.8125 72.90625  L 55.90625 72.90625  L 55.90625 64.59375  L 19.671875 64.59375  L 19.671875 43.015625  L 54.390625 43.015625  L 54.390625 34.71875  L 19.671875 34.71875  L 19.671875 8.296875  L 56.78125 8.296875  L 56.78125 0  L 9.8125 0  z \" id=\"DejaVuSans-45\"/>\n",
       "      <path d=\"M 18.109375 8.203125  L 18.109375 -20.796875  L 9.078125 -20.796875  L 9.078125 54.6875  L 18.109375 54.6875  L 18.109375 46.390625  Q 20.953125 51.265625 25.265625 53.625  Q 29.59375 56 35.59375 56  Q 45.5625 56 51.78125 48.09375  Q 58.015625 40.1875 58.015625 27.296875  Q 58.015625 14.40625 51.78125 6.484375  Q 45.5625 -1.421875 35.59375 -1.421875  Q 29.59375 -1.421875 25.265625 0.953125  Q 20.953125 3.328125 18.109375 8.203125  z M 48.6875 27.296875  Q 48.6875 37.203125 44.609375 42.84375  Q 40.53125 48.484375 33.40625 48.484375  Q 26.265625 48.484375 22.1875 42.84375  Q 18.109375 37.203125 18.109375 27.296875  Q 18.109375 17.390625 22.1875 11.75  Q 26.265625 6.109375 33.40625 6.109375  Q 40.53125 6.109375 44.609375 11.75  Q 48.6875 17.390625 48.6875 27.296875  z \" id=\"DejaVuSans-70\"/>\n",
       "      <path d=\"M 30.609375 48.390625  Q 23.390625 48.390625 19.1875 42.75  Q 14.984375 37.109375 14.984375 27.296875  Q 14.984375 17.484375 19.15625 11.84375  Q 23.34375 6.203125 30.609375 6.203125  Q 37.796875 6.203125 41.984375 11.859375  Q 46.1875 17.53125 46.1875 27.296875  Q 46.1875 37.015625 41.984375 42.703125  Q 37.796875 48.390625 30.609375 48.390625  z M 30.609375 56  Q 42.328125 56 49.015625 48.375  Q 55.71875 40.765625 55.71875 27.296875  Q 55.71875 13.875 49.015625 6.21875  Q 42.328125 -1.421875 30.609375 -1.421875  Q 18.84375 -1.421875 12.171875 6.21875  Q 5.515625 13.875 5.515625 27.296875  Q 5.515625 40.765625 12.171875 48.375  Q 18.84375 56 30.609375 56  z \" id=\"DejaVuSans-6f\"/>\n",
       "      <path d=\"M 48.78125 52.59375  L 48.78125 44.1875  Q 44.96875 46.296875 41.140625 47.34375  Q 37.3125 48.390625 33.40625 48.390625  Q 24.65625 48.390625 19.8125 42.84375  Q 14.984375 37.3125 14.984375 27.296875  Q 14.984375 17.28125 19.8125 11.734375  Q 24.65625 6.203125 33.40625 6.203125  Q 37.3125 6.203125 41.140625 7.25  Q 44.96875 8.296875 48.78125 10.40625  L 48.78125 2.09375  Q 45.015625 0.34375 40.984375 -0.53125  Q 36.96875 -1.421875 32.421875 -1.421875  Q 20.0625 -1.421875 12.78125 6.34375  Q 5.515625 14.109375 5.515625 27.296875  Q 5.515625 40.671875 12.859375 48.328125  Q 20.21875 56 33.015625 56  Q 37.15625 56 41.109375 55.140625  Q 45.0625 54.296875 48.78125 52.59375  z \" id=\"DejaVuSans-63\"/>\n",
       "      <path d=\"M 54.890625 33.015625  L 54.890625 0  L 45.90625 0  L 45.90625 32.71875  Q 45.90625 40.484375 42.875 44.328125  Q 39.84375 48.1875 33.796875 48.1875  Q 26.515625 48.1875 22.3125 43.546875  Q 18.109375 38.921875 18.109375 30.90625  L 18.109375 0  L 9.078125 0  L 9.078125 75.984375  L 18.109375 75.984375  L 18.109375 46.1875  Q 21.34375 51.125 25.703125 53.5625  Q 30.078125 56 35.796875 56  Q 45.21875 56 50.046875 50.171875  Q 54.890625 44.34375 54.890625 33.015625  z \" id=\"DejaVuSans-68\"/>\n",
       "     </defs>\n",
       "     <g transform=\"translate(201.507244 280.276563)scale(0.1 -0.1)\">\n",
       "      <use xlink:href=\"#DejaVuSans-45\"/>\n",
       "      <use x=\"63.183594\" xlink:href=\"#DejaVuSans-70\"/>\n",
       "      <use x=\"126.660156\" xlink:href=\"#DejaVuSans-6f\"/>\n",
       "      <use x=\"187.841797\" xlink:href=\"#DejaVuSans-63\"/>\n",
       "      <use x=\"242.822266\" xlink:href=\"#DejaVuSans-68\"/>\n",
       "     </g>\n",
       "    </g>\n",
       "   </g>\n",
       "   <g id=\"matplotlib.axis_2\">\n",
       "    <g id=\"ytick_1\">\n",
       "     <g id=\"line2d_5\">\n",
       "      <defs>\n",
       "       <path d=\"M 0 0  L -3.5 0  \" id=\"m7ed47a6387\" style=\"stroke:#000000;stroke-width:0.8;\"/>\n",
       "      </defs>\n",
       "      <g>\n",
       "       <use style=\"stroke:#000000;stroke-width:0.8;\" x=\"90\" xlink:href=\"#m7ed47a6387\" y=\"252\"/>\n",
       "      </g>\n",
       "     </g>\n",
       "     <g id=\"text_6\">\n",
       "      <!-- 0.00 -->\n",
       "      <defs>\n",
       "       <path d=\"M 10.6875 12.40625  L 21 12.40625  L 21 0  L 10.6875 0  z \" id=\"DejaVuSans-2e\"/>\n",
       "      </defs>\n",
       "      <g transform=\"translate(60.734375 255.799219)scale(0.1 -0.1)\">\n",
       "       <use xlink:href=\"#DejaVuSans-30\"/>\n",
       "       <use x=\"63.623047\" xlink:href=\"#DejaVuSans-2e\"/>\n",
       "       <use x=\"95.410156\" xlink:href=\"#DejaVuSans-30\"/>\n",
       "       <use x=\"159.033203\" xlink:href=\"#DejaVuSans-30\"/>\n",
       "      </g>\n",
       "     </g>\n",
       "    </g>\n",
       "    <g id=\"ytick_2\">\n",
       "     <g id=\"line2d_6\">\n",
       "      <g>\n",
       "       <use style=\"stroke:#000000;stroke-width:0.8;\" x=\"90\" xlink:href=\"#m7ed47a6387\" y=\"210.776335\"/>\n",
       "      </g>\n",
       "     </g>\n",
       "     <g id=\"text_7\">\n",
       "      <!-- 0.05 -->\n",
       "      <defs>\n",
       "       <path d=\"M 10.796875 72.90625  L 49.515625 72.90625  L 49.515625 64.59375  L 19.828125 64.59375  L 19.828125 46.734375  Q 21.96875 47.46875 24.109375 47.828125  Q 26.265625 48.1875 28.421875 48.1875  Q 40.625 48.1875 47.75 41.5  Q 54.890625 34.8125 54.890625 23.390625  Q 54.890625 11.625 47.5625 5.09375  Q 40.234375 -1.421875 26.90625 -1.421875  Q 22.3125 -1.421875 17.546875 -0.640625  Q 12.796875 0.140625 7.71875 1.703125  L 7.71875 11.625  Q 12.109375 9.234375 16.796875 8.0625  Q 21.484375 6.890625 26.703125 6.890625  Q 35.15625 6.890625 40.078125 11.328125  Q 45.015625 15.765625 45.015625 23.390625  Q 45.015625 31 40.078125 35.4375  Q 35.15625 39.890625 26.703125 39.890625  Q 22.75 39.890625 18.8125 39.015625  Q 14.890625 38.140625 10.796875 36.28125  z \" id=\"DejaVuSans-35\"/>\n",
       "      </defs>\n",
       "      <g transform=\"translate(60.734375 214.575553)scale(0.1 -0.1)\">\n",
       "       <use xlink:href=\"#DejaVuSans-30\"/>\n",
       "       <use x=\"63.623047\" xlink:href=\"#DejaVuSans-2e\"/>\n",
       "       <use x=\"95.410156\" xlink:href=\"#DejaVuSans-30\"/>\n",
       "       <use x=\"159.033203\" xlink:href=\"#DejaVuSans-35\"/>\n",
       "      </g>\n",
       "     </g>\n",
       "    </g>\n",
       "    <g id=\"ytick_3\">\n",
       "     <g id=\"line2d_7\">\n",
       "      <g>\n",
       "       <use style=\"stroke:#000000;stroke-width:0.8;\" x=\"90\" xlink:href=\"#m7ed47a6387\" y=\"169.552669\"/>\n",
       "      </g>\n",
       "     </g>\n",
       "     <g id=\"text_8\">\n",
       "      <!-- 0.10 -->\n",
       "      <g transform=\"translate(60.734375 173.351888)scale(0.1 -0.1)\">\n",
       "       <use xlink:href=\"#DejaVuSans-30\"/>\n",
       "       <use x=\"63.623047\" xlink:href=\"#DejaVuSans-2e\"/>\n",
       "       <use x=\"95.410156\" xlink:href=\"#DejaVuSans-31\"/>\n",
       "       <use x=\"159.033203\" xlink:href=\"#DejaVuSans-30\"/>\n",
       "      </g>\n",
       "     </g>\n",
       "    </g>\n",
       "    <g id=\"ytick_4\">\n",
       "     <g id=\"line2d_8\">\n",
       "      <g>\n",
       "       <use style=\"stroke:#000000;stroke-width:0.8;\" x=\"90\" xlink:href=\"#m7ed47a6387\" y=\"128.329004\"/>\n",
       "      </g>\n",
       "     </g>\n",
       "     <g id=\"text_9\">\n",
       "      <!-- 0.15 -->\n",
       "      <g transform=\"translate(60.734375 132.128223)scale(0.1 -0.1)\">\n",
       "       <use xlink:href=\"#DejaVuSans-30\"/>\n",
       "       <use x=\"63.623047\" xlink:href=\"#DejaVuSans-2e\"/>\n",
       "       <use x=\"95.410156\" xlink:href=\"#DejaVuSans-31\"/>\n",
       "       <use x=\"159.033203\" xlink:href=\"#DejaVuSans-35\"/>\n",
       "      </g>\n",
       "     </g>\n",
       "    </g>\n",
       "    <g id=\"ytick_5\">\n",
       "     <g id=\"line2d_9\">\n",
       "      <g>\n",
       "       <use style=\"stroke:#000000;stroke-width:0.8;\" x=\"90\" xlink:href=\"#m7ed47a6387\" y=\"87.105339\"/>\n",
       "      </g>\n",
       "     </g>\n",
       "     <g id=\"text_10\">\n",
       "      <!-- 0.20 -->\n",
       "      <g transform=\"translate(60.734375 90.904558)scale(0.1 -0.1)\">\n",
       "       <use xlink:href=\"#DejaVuSans-30\"/>\n",
       "       <use x=\"63.623047\" xlink:href=\"#DejaVuSans-2e\"/>\n",
       "       <use x=\"95.410156\" xlink:href=\"#DejaVuSans-32\"/>\n",
       "       <use x=\"159.033203\" xlink:href=\"#DejaVuSans-30\"/>\n",
       "      </g>\n",
       "     </g>\n",
       "    </g>\n",
       "    <g id=\"ytick_6\">\n",
       "     <g id=\"line2d_10\">\n",
       "      <g>\n",
       "       <use style=\"stroke:#000000;stroke-width:0.8;\" x=\"90\" xlink:href=\"#m7ed47a6387\" y=\"45.881674\"/>\n",
       "      </g>\n",
       "     </g>\n",
       "     <g id=\"text_11\">\n",
       "      <!-- 0.25 -->\n",
       "      <g transform=\"translate(60.734375 49.680892)scale(0.1 -0.1)\">\n",
       "       <use xlink:href=\"#DejaVuSans-30\"/>\n",
       "       <use x=\"63.623047\" xlink:href=\"#DejaVuSans-2e\"/>\n",
       "       <use x=\"95.410156\" xlink:href=\"#DejaVuSans-32\"/>\n",
       "       <use x=\"159.033203\" xlink:href=\"#DejaVuSans-35\"/>\n",
       "      </g>\n",
       "     </g>\n",
       "    </g>\n",
       "   </g>\n",
       "   <g id=\"line2d_11\">\n",
       "    <path clip-path=\"url(#pf5cda65137)\" d=\"M 101.528926 44.658199  L 102.135711 44.658199  L 102.742497 45.172524  L 104.562853 47.638577  L 105.169639 48.06603  L 105.776425 48.170077  L 108.203567 47.682425  L 108.810352 47.890617  L 110.023923 48.711209  L 111.237495 49.51427  L 112.451066 49.909167  L 114.271422 50.209931  L 115.484993 50.671759  L 118.518921 52.122653  L 121.552849 53.293656  L 128.22749 56.71107  L 132.474989 59.320337  L 135.508917 61.453192  L 138.542845 63.814081  L 141.576773 66.445081  L 144.6107 69.336094  L 148.251414 73.156218  L 151.892127 77.317551  L 156.139626 82.519524  L 162.207482 90.343946  L 177.37712 110.408963  L 182.231405 117.161319  L 185.872118 122.56738  L 189.512832 128.406693  L 192.546759 133.683731  L 195.580687 139.384082  L 198.614615 145.53228  L 201.648543 152.12585  L 205.289256 160.562151  L 211.357112 175.336918  L 215.604611 185.47652  L 218.638538 192.24519  L 221.672466 198.458072  L 224.099609 202.985046  L 226.526751 207.112713  L 228.953893 210.854004  L 231.381035 214.23122  L 233.808177 217.271278  L 236.23532 220.002787  L 238.662462 222.45434  L 241.69639 225.167123  L 244.730318 227.536383  L 247.764245 229.608395  L 250.798173 231.424399  L 254.438886 233.316238  L 258.0796 234.944504  L 262.327099 236.569514  L 266.574598 237.952413  L 271.428882 239.293799  L 276.889952 240.5597  L 282.957808 241.729574  L 289.632449 242.793797  L 297.520661 243.822627  L 306.622445 244.779428  L 317.544585 245.690197  L 330.287081 246.519616  L 332.107438 246.622178  L 332.107438 246.622178  \" style=\"fill:none;stroke:#1f77b4;stroke-linecap:square;stroke-width:1.5;\"/>\n",
       "   </g>\n",
       "   <g id=\"patch_3\">\n",
       "    <path d=\"M 90 252  L 90 34.56  \" style=\"fill:none;stroke:#000000;stroke-linecap:square;stroke-linejoin:miter;stroke-width:0.8;\"/>\n",
       "   </g>\n",
       "   <g id=\"patch_4\">\n",
       "    <path d=\"M 343.636364 252  L 343.636364 34.56  \" style=\"fill:none;stroke:#000000;stroke-linecap:square;stroke-linejoin:miter;stroke-width:0.8;\"/>\n",
       "   </g>\n",
       "   <g id=\"patch_5\">\n",
       "    <path d=\"M 90 252  L 343.636364 252  \" style=\"fill:none;stroke:#000000;stroke-linecap:square;stroke-linejoin:miter;stroke-width:0.8;\"/>\n",
       "   </g>\n",
       "   <g id=\"patch_6\">\n",
       "    <path d=\"M 90 34.56  L 343.636364 34.56  \" style=\"fill:none;stroke:#000000;stroke-linecap:square;stroke-linejoin:miter;stroke-width:0.8;\"/>\n",
       "   </g>\n",
       "   <g id=\"text_12\">\n",
       "    <!-- XOR Network: Loss -->\n",
       "    <defs>\n",
       "     <path d=\"M 6.296875 72.90625  L 16.890625 72.90625  L 35.015625 45.796875  L 53.21875 72.90625  L 63.8125 72.90625  L 40.375 37.890625  L 65.375 0  L 54.78125 0  L 34.28125 31  L 13.625 0  L 2.984375 0  L 29 38.921875  z \" id=\"DejaVuSans-58\"/>\n",
       "     <path d=\"M 39.40625 66.21875  Q 28.65625 66.21875 22.328125 58.203125  Q 16.015625 50.203125 16.015625 36.375  Q 16.015625 22.609375 22.328125 14.59375  Q 28.65625 6.59375 39.40625 6.59375  Q 50.140625 6.59375 56.421875 14.59375  Q 62.703125 22.609375 62.703125 36.375  Q 62.703125 50.203125 56.421875 58.203125  Q 50.140625 66.21875 39.40625 66.21875  z M 39.40625 74.21875  Q 54.734375 74.21875 63.90625 63.9375  Q 73.09375 53.65625 73.09375 36.375  Q 73.09375 19.140625 63.90625 8.859375  Q 54.734375 -1.421875 39.40625 -1.421875  Q 24.03125 -1.421875 14.8125 8.828125  Q 5.609375 19.09375 5.609375 36.375  Q 5.609375 53.65625 14.8125 63.9375  Q 24.03125 74.21875 39.40625 74.21875  z \" id=\"DejaVuSans-4f\"/>\n",
       "     <path d=\"M 44.390625 34.1875  Q 47.5625 33.109375 50.5625 29.59375  Q 53.5625 26.078125 56.59375 19.921875  L 66.609375 0  L 56 0  L 46.6875 18.703125  Q 43.0625 26.03125 39.671875 28.421875  Q 36.28125 30.8125 30.421875 30.8125  L 19.671875 30.8125  L 19.671875 0  L 9.8125 0  L 9.8125 72.90625  L 32.078125 72.90625  Q 44.578125 72.90625 50.734375 67.671875  Q 56.890625 62.453125 56.890625 51.90625  Q 56.890625 45.015625 53.6875 40.46875  Q 50.484375 35.9375 44.390625 34.1875  z M 19.671875 64.796875  L 19.671875 38.921875  L 32.078125 38.921875  Q 39.203125 38.921875 42.84375 42.21875  Q 46.484375 45.515625 46.484375 51.90625  Q 46.484375 58.296875 42.84375 61.546875  Q 39.203125 64.796875 32.078125 64.796875  z \" id=\"DejaVuSans-52\"/>\n",
       "     <path id=\"DejaVuSans-20\"/>\n",
       "     <path d=\"M 9.8125 72.90625  L 23.09375 72.90625  L 55.421875 11.921875  L 55.421875 72.90625  L 64.984375 72.90625  L 64.984375 0  L 51.703125 0  L 19.390625 60.984375  L 19.390625 0  L 9.8125 0  z \" id=\"DejaVuSans-4e\"/>\n",
       "     <path d=\"M 56.203125 29.59375  L 56.203125 25.203125  L 14.890625 25.203125  Q 15.484375 15.921875 20.484375 11.0625  Q 25.484375 6.203125 34.421875 6.203125  Q 39.59375 6.203125 44.453125 7.46875  Q 49.3125 8.734375 54.109375 11.28125  L 54.109375 2.78125  Q 49.265625 0.734375 44.1875 -0.34375  Q 39.109375 -1.421875 33.890625 -1.421875  Q 20.796875 -1.421875 13.15625 6.1875  Q 5.515625 13.8125 5.515625 26.8125  Q 5.515625 40.234375 12.765625 48.109375  Q 20.015625 56 32.328125 56  Q 43.359375 56 49.78125 48.890625  Q 56.203125 41.796875 56.203125 29.59375  z M 47.21875 32.234375  Q 47.125 39.59375 43.09375 43.984375  Q 39.0625 48.390625 32.421875 48.390625  Q 24.90625 48.390625 20.390625 44.140625  Q 15.875 39.890625 15.1875 32.171875  z \" id=\"DejaVuSans-65\"/>\n",
       "     <path d=\"M 18.3125 70.21875  L 18.3125 54.6875  L 36.8125 54.6875  L 36.8125 47.703125  L 18.3125 47.703125  L 18.3125 18.015625  Q 18.3125 11.328125 20.140625 9.421875  Q 21.96875 7.515625 27.59375 7.515625  L 36.8125 7.515625  L 36.8125 0  L 27.59375 0  Q 17.1875 0 13.234375 3.875  Q 9.28125 7.765625 9.28125 18.015625  L 9.28125 47.703125  L 2.6875 47.703125  L 2.6875 54.6875  L 9.28125 54.6875  L 9.28125 70.21875  z \" id=\"DejaVuSans-74\"/>\n",
       "     <path d=\"M 4.203125 54.6875  L 13.1875 54.6875  L 24.421875 12.015625  L 35.59375 54.6875  L 46.1875 54.6875  L 57.421875 12.015625  L 68.609375 54.6875  L 77.59375 54.6875  L 63.28125 0  L 52.6875 0  L 40.921875 44.828125  L 29.109375 0  L 18.5 0  z \" id=\"DejaVuSans-77\"/>\n",
       "     <path d=\"M 41.109375 46.296875  Q 39.59375 47.171875 37.8125 47.578125  Q 36.03125 48 33.890625 48  Q 26.265625 48 22.1875 43.046875  Q 18.109375 38.09375 18.109375 28.8125  L 18.109375 0  L 9.078125 0  L 9.078125 54.6875  L 18.109375 54.6875  L 18.109375 46.1875  Q 20.953125 51.171875 25.484375 53.578125  Q 30.03125 56 36.53125 56  Q 37.453125 56 38.578125 55.875  Q 39.703125 55.765625 41.0625 55.515625  z \" id=\"DejaVuSans-72\"/>\n",
       "     <path d=\"M 9.078125 75.984375  L 18.109375 75.984375  L 18.109375 31.109375  L 44.921875 54.6875  L 56.390625 54.6875  L 27.390625 29.109375  L 57.625 0  L 45.90625 0  L 18.109375 26.703125  L 18.109375 0  L 9.078125 0  z \" id=\"DejaVuSans-6b\"/>\n",
       "     <path d=\"M 11.71875 12.40625  L 22.015625 12.40625  L 22.015625 0  L 11.71875 0  z M 11.71875 51.703125  L 22.015625 51.703125  L 22.015625 39.3125  L 11.71875 39.3125  z \" id=\"DejaVuSans-3a\"/>\n",
       "     <path d=\"M 9.8125 72.90625  L 19.671875 72.90625  L 19.671875 8.296875  L 55.171875 8.296875  L 55.171875 0  L 9.8125 0  z \" id=\"DejaVuSans-4c\"/>\n",
       "     <path d=\"M 44.28125 53.078125  L 44.28125 44.578125  Q 40.484375 46.53125 36.375 47.5  Q 32.28125 48.484375 27.875 48.484375  Q 21.1875 48.484375 17.84375 46.4375  Q 14.5 44.390625 14.5 40.28125  Q 14.5 37.15625 16.890625 35.375  Q 19.28125 33.59375 26.515625 31.984375  L 29.59375 31.296875  Q 39.15625 29.25 43.1875 25.515625  Q 47.21875 21.78125 47.21875 15.09375  Q 47.21875 7.46875 41.1875 3.015625  Q 35.15625 -1.421875 24.609375 -1.421875  Q 20.21875 -1.421875 15.453125 -0.5625  Q 10.6875 0.296875 5.421875 2  L 5.421875 11.28125  Q 10.40625 8.6875 15.234375 7.390625  Q 20.0625 6.109375 24.8125 6.109375  Q 31.15625 6.109375 34.5625 8.28125  Q 37.984375 10.453125 37.984375 14.40625  Q 37.984375 18.0625 35.515625 20.015625  Q 33.0625 21.96875 24.703125 23.78125  L 21.578125 24.515625  Q 13.234375 26.265625 9.515625 29.90625  Q 5.8125 33.546875 5.8125 39.890625  Q 5.8125 47.609375 11.28125 51.796875  Q 16.75 56 26.8125 56  Q 31.78125 56 36.171875 55.265625  Q 40.578125 54.546875 44.28125 53.078125  z \" id=\"DejaVuSans-73\"/>\n",
       "    </defs>\n",
       "    <g transform=\"translate(159.670057 28.56)scale(0.12 -0.12)\">\n",
       "     <use xlink:href=\"#DejaVuSans-58\"/>\n",
       "     <use x=\"68.412109\" xlink:href=\"#DejaVuSans-4f\"/>\n",
       "     <use x=\"147.123047\" xlink:href=\"#DejaVuSans-52\"/>\n",
       "     <use x=\"216.605469\" xlink:href=\"#DejaVuSans-20\"/>\n",
       "     <use x=\"248.392578\" xlink:href=\"#DejaVuSans-4e\"/>\n",
       "     <use x=\"323.197266\" xlink:href=\"#DejaVuSans-65\"/>\n",
       "     <use x=\"384.720703\" xlink:href=\"#DejaVuSans-74\"/>\n",
       "     <use x=\"423.929688\" xlink:href=\"#DejaVuSans-77\"/>\n",
       "     <use x=\"505.716797\" xlink:href=\"#DejaVuSans-6f\"/>\n",
       "     <use x=\"566.898438\" xlink:href=\"#DejaVuSans-72\"/>\n",
       "     <use x=\"608.011719\" xlink:href=\"#DejaVuSans-6b\"/>\n",
       "     <use x=\"665.921875\" xlink:href=\"#DejaVuSans-3a\"/>\n",
       "     <use x=\"699.613281\" xlink:href=\"#DejaVuSans-20\"/>\n",
       "     <use x=\"731.400391\" xlink:href=\"#DejaVuSans-4c\"/>\n",
       "     <use x=\"787.097656\" xlink:href=\"#DejaVuSans-6f\"/>\n",
       "     <use x=\"848.279297\" xlink:href=\"#DejaVuSans-73\"/>\n",
       "     <use x=\"900.378906\" xlink:href=\"#DejaVuSans-73\"/>\n",
       "    </g>\n",
       "   </g>\n",
       "   <g id=\"legend_1\">\n",
       "    <g id=\"patch_7\">\n",
       "     <path d=\"M 245.270739 57.238125  L 336.636364 57.238125  Q 338.636364 57.238125 338.636364 55.238125  L 338.636364 41.56  Q 338.636364 39.56 336.636364 39.56  L 245.270739 39.56  Q 243.270739 39.56 243.270739 41.56  L 243.270739 55.238125  Q 243.270739 57.238125 245.270739 57.238125  z \" style=\"fill:#ffffff;opacity:0.8;stroke:#cccccc;stroke-linejoin:miter;\"/>\n",
       "    </g>\n",
       "    <g id=\"line2d_12\">\n",
       "     <path d=\"M 247.270739 47.658437  L 267.270739 47.658437  \" style=\"fill:none;stroke:#1f77b4;stroke-linecap:square;stroke-width:1.5;\"/>\n",
       "    </g>\n",
       "    <g id=\"line2d_13\"/>\n",
       "    <g id=\"text_13\">\n",
       "     <!-- Training set -->\n",
       "     <defs>\n",
       "      <path d=\"M -0.296875 72.90625  L 61.375 72.90625  L 61.375 64.59375  L 35.5 64.59375  L 35.5 0  L 25.59375 0  L 25.59375 64.59375  L -0.296875 64.59375  z \" id=\"DejaVuSans-54\"/>\n",
       "      <path d=\"M 34.28125 27.484375  Q 23.390625 27.484375 19.1875 25  Q 14.984375 22.515625 14.984375 16.5  Q 14.984375 11.71875 18.140625 8.90625  Q 21.296875 6.109375 26.703125 6.109375  Q 34.1875 6.109375 38.703125 11.40625  Q 43.21875 16.703125 43.21875 25.484375  L 43.21875 27.484375  z M 52.203125 31.203125  L 52.203125 0  L 43.21875 0  L 43.21875 8.296875  Q 40.140625 3.328125 35.546875 0.953125  Q 30.953125 -1.421875 24.3125 -1.421875  Q 15.921875 -1.421875 10.953125 3.296875  Q 6 8.015625 6 15.921875  Q 6 25.140625 12.171875 29.828125  Q 18.359375 34.515625 30.609375 34.515625  L 43.21875 34.515625  L 43.21875 35.40625  Q 43.21875 41.609375 39.140625 45  Q 35.0625 48.390625 27.6875 48.390625  Q 23 48.390625 18.546875 47.265625  Q 14.109375 46.140625 10.015625 43.890625  L 10.015625 52.203125  Q 14.9375 54.109375 19.578125 55.046875  Q 24.21875 56 28.609375 56  Q 40.484375 56 46.34375 49.84375  Q 52.203125 43.703125 52.203125 31.203125  z \" id=\"DejaVuSans-61\"/>\n",
       "      <path d=\"M 9.421875 54.6875  L 18.40625 54.6875  L 18.40625 0  L 9.421875 0  z M 9.421875 75.984375  L 18.40625 75.984375  L 18.40625 64.59375  L 9.421875 64.59375  z \" id=\"DejaVuSans-69\"/>\n",
       "      <path d=\"M 54.890625 33.015625  L 54.890625 0  L 45.90625 0  L 45.90625 32.71875  Q 45.90625 40.484375 42.875 44.328125  Q 39.84375 48.1875 33.796875 48.1875  Q 26.515625 48.1875 22.3125 43.546875  Q 18.109375 38.921875 18.109375 30.90625  L 18.109375 0  L 9.078125 0  L 9.078125 54.6875  L 18.109375 54.6875  L 18.109375 46.1875  Q 21.34375 51.125 25.703125 53.5625  Q 30.078125 56 35.796875 56  Q 45.21875 56 50.046875 50.171875  Q 54.890625 44.34375 54.890625 33.015625  z \" id=\"DejaVuSans-6e\"/>\n",
       "      <path d=\"M 45.40625 27.984375  Q 45.40625 37.75 41.375 43.109375  Q 37.359375 48.484375 30.078125 48.484375  Q 22.859375 48.484375 18.828125 43.109375  Q 14.796875 37.75 14.796875 27.984375  Q 14.796875 18.265625 18.828125 12.890625  Q 22.859375 7.515625 30.078125 7.515625  Q 37.359375 7.515625 41.375 12.890625  Q 45.40625 18.265625 45.40625 27.984375  z M 54.390625 6.78125  Q 54.390625 -7.171875 48.1875 -13.984375  Q 42 -20.796875 29.203125 -20.796875  Q 24.46875 -20.796875 20.265625 -20.09375  Q 16.0625 -19.390625 12.109375 -17.921875  L 12.109375 -9.1875  Q 16.0625 -11.328125 19.921875 -12.34375  Q 23.78125 -13.375 27.78125 -13.375  Q 36.625 -13.375 41.015625 -8.765625  Q 45.40625 -4.15625 45.40625 5.171875  L 45.40625 9.625  Q 42.625 4.78125 38.28125 2.390625  Q 33.9375 0 27.875 0  Q 17.828125 0 11.671875 7.65625  Q 5.515625 15.328125 5.515625 27.984375  Q 5.515625 40.671875 11.671875 48.328125  Q 17.828125 56 27.875 56  Q 33.9375 56 38.28125 53.609375  Q 42.625 51.21875 45.40625 46.390625  L 45.40625 54.6875  L 54.390625 54.6875  z \" id=\"DejaVuSans-67\"/>\n",
       "     </defs>\n",
       "     <g transform=\"translate(275.270739 51.158437)scale(0.1 -0.1)\">\n",
       "      <use xlink:href=\"#DejaVuSans-54\"/>\n",
       "      <use x=\"60.865234\" xlink:href=\"#DejaVuSans-72\"/>\n",
       "      <use x=\"101.978516\" xlink:href=\"#DejaVuSans-61\"/>\n",
       "      <use x=\"163.257812\" xlink:href=\"#DejaVuSans-69\"/>\n",
       "      <use x=\"191.041016\" xlink:href=\"#DejaVuSans-6e\"/>\n",
       "      <use x=\"254.419922\" xlink:href=\"#DejaVuSans-69\"/>\n",
       "      <use x=\"282.203125\" xlink:href=\"#DejaVuSans-6e\"/>\n",
       "      <use x=\"345.582031\" xlink:href=\"#DejaVuSans-67\"/>\n",
       "      <use x=\"409.058594\" xlink:href=\"#DejaVuSans-20\"/>\n",
       "      <use x=\"440.845703\" xlink:href=\"#DejaVuSans-73\"/>\n",
       "      <use x=\"492.945312\" xlink:href=\"#DejaVuSans-65\"/>\n",
       "      <use x=\"554.46875\" xlink:href=\"#DejaVuSans-74\"/>\n",
       "     </g>\n",
       "    </g>\n",
       "   </g>\n",
       "  </g>\n",
       "  <g id=\"axes_2\">\n",
       "   <g id=\"patch_8\">\n",
       "    <path d=\"M 394.363636 252  L 648 252  L 648 34.56  L 394.363636 34.56  z \" style=\"fill:#ffffff;\"/>\n",
       "   </g>\n",
       "   <g id=\"matplotlib.axis_3\">\n",
       "    <g id=\"xtick_5\">\n",
       "     <g id=\"line2d_14\">\n",
       "      <g>\n",
       "       <use style=\"stroke:#000000;stroke-width:0.8;\" x=\"405.892562\" xlink:href=\"#m1690ae64e0\" y=\"252\"/>\n",
       "      </g>\n",
       "     </g>\n",
       "     <g id=\"text_14\">\n",
       "      <!-- 0 -->\n",
       "      <g transform=\"translate(402.711312 266.598437)scale(0.1 -0.1)\">\n",
       "       <use xlink:href=\"#DejaVuSans-30\"/>\n",
       "      </g>\n",
       "     </g>\n",
       "    </g>\n",
       "    <g id=\"xtick_6\">\n",
       "     <g id=\"line2d_15\">\n",
       "      <g>\n",
       "       <use style=\"stroke:#000000;stroke-width:0.8;\" x=\"466.571118\" xlink:href=\"#m1690ae64e0\" y=\"252\"/>\n",
       "      </g>\n",
       "     </g>\n",
       "     <g id=\"text_15\">\n",
       "      <!-- 100 -->\n",
       "      <g transform=\"translate(457.027368 266.598437)scale(0.1 -0.1)\">\n",
       "       <use xlink:href=\"#DejaVuSans-31\"/>\n",
       "       <use x=\"63.623047\" xlink:href=\"#DejaVuSans-30\"/>\n",
       "       <use x=\"127.246094\" xlink:href=\"#DejaVuSans-30\"/>\n",
       "      </g>\n",
       "     </g>\n",
       "    </g>\n",
       "    <g id=\"xtick_7\">\n",
       "     <g id=\"line2d_16\">\n",
       "      <g>\n",
       "       <use style=\"stroke:#000000;stroke-width:0.8;\" x=\"527.249674\" xlink:href=\"#m1690ae64e0\" y=\"252\"/>\n",
       "      </g>\n",
       "     </g>\n",
       "     <g id=\"text_16\">\n",
       "      <!-- 200 -->\n",
       "      <g transform=\"translate(517.705924 266.598437)scale(0.1 -0.1)\">\n",
       "       <use xlink:href=\"#DejaVuSans-32\"/>\n",
       "       <use x=\"63.623047\" xlink:href=\"#DejaVuSans-30\"/>\n",
       "       <use x=\"127.246094\" xlink:href=\"#DejaVuSans-30\"/>\n",
       "      </g>\n",
       "     </g>\n",
       "    </g>\n",
       "    <g id=\"xtick_8\">\n",
       "     <g id=\"line2d_17\">\n",
       "      <g>\n",
       "       <use style=\"stroke:#000000;stroke-width:0.8;\" x=\"587.92823\" xlink:href=\"#m1690ae64e0\" y=\"252\"/>\n",
       "      </g>\n",
       "     </g>\n",
       "     <g id=\"text_17\">\n",
       "      <!-- 300 -->\n",
       "      <g transform=\"translate(578.38448 266.598437)scale(0.1 -0.1)\">\n",
       "       <use xlink:href=\"#DejaVuSans-33\"/>\n",
       "       <use x=\"63.623047\" xlink:href=\"#DejaVuSans-30\"/>\n",
       "       <use x=\"127.246094\" xlink:href=\"#DejaVuSans-30\"/>\n",
       "      </g>\n",
       "     </g>\n",
       "    </g>\n",
       "    <g id=\"text_18\">\n",
       "     <!-- Epoch -->\n",
       "     <g transform=\"translate(505.870881 280.276563)scale(0.1 -0.1)\">\n",
       "      <use xlink:href=\"#DejaVuSans-45\"/>\n",
       "      <use x=\"63.183594\" xlink:href=\"#DejaVuSans-70\"/>\n",
       "      <use x=\"126.660156\" xlink:href=\"#DejaVuSans-6f\"/>\n",
       "      <use x=\"187.841797\" xlink:href=\"#DejaVuSans-63\"/>\n",
       "      <use x=\"242.822266\" xlink:href=\"#DejaVuSans-68\"/>\n",
       "     </g>\n",
       "    </g>\n",
       "   </g>\n",
       "   <g id=\"matplotlib.axis_4\">\n",
       "    <g id=\"ytick_7\">\n",
       "     <g id=\"line2d_18\">\n",
       "      <g>\n",
       "       <use style=\"stroke:#000000;stroke-width:0.8;\" x=\"394.363636\" xlink:href=\"#m7ed47a6387\" y=\"233.88\"/>\n",
       "      </g>\n",
       "     </g>\n",
       "     <g id=\"text_19\">\n",
       "      <!-- 0.0 -->\n",
       "      <g transform=\"translate(371.460511 237.679219)scale(0.1 -0.1)\">\n",
       "       <use xlink:href=\"#DejaVuSans-30\"/>\n",
       "       <use x=\"63.623047\" xlink:href=\"#DejaVuSans-2e\"/>\n",
       "       <use x=\"95.410156\" xlink:href=\"#DejaVuSans-30\"/>\n",
       "      </g>\n",
       "     </g>\n",
       "    </g>\n",
       "    <g id=\"ytick_8\">\n",
       "     <g id=\"line2d_19\">\n",
       "      <g>\n",
       "       <use style=\"stroke:#000000;stroke-width:0.8;\" x=\"394.363636\" xlink:href=\"#m7ed47a6387\" y=\"197.64\"/>\n",
       "      </g>\n",
       "     </g>\n",
       "     <g id=\"text_20\">\n",
       "      <!-- 0.2 -->\n",
       "      <g transform=\"translate(371.460511 201.439219)scale(0.1 -0.1)\">\n",
       "       <use xlink:href=\"#DejaVuSans-30\"/>\n",
       "       <use x=\"63.623047\" xlink:href=\"#DejaVuSans-2e\"/>\n",
       "       <use x=\"95.410156\" xlink:href=\"#DejaVuSans-32\"/>\n",
       "      </g>\n",
       "     </g>\n",
       "    </g>\n",
       "    <g id=\"ytick_9\">\n",
       "     <g id=\"line2d_20\">\n",
       "      <g>\n",
       "       <use style=\"stroke:#000000;stroke-width:0.8;\" x=\"394.363636\" xlink:href=\"#m7ed47a6387\" y=\"161.4\"/>\n",
       "      </g>\n",
       "     </g>\n",
       "     <g id=\"text_21\">\n",
       "      <!-- 0.4 -->\n",
       "      <defs>\n",
       "       <path d=\"M 37.796875 64.3125  L 12.890625 25.390625  L 37.796875 25.390625  z M 35.203125 72.90625  L 47.609375 72.90625  L 47.609375 25.390625  L 58.015625 25.390625  L 58.015625 17.1875  L 47.609375 17.1875  L 47.609375 0  L 37.796875 0  L 37.796875 17.1875  L 4.890625 17.1875  L 4.890625 26.703125  z \" id=\"DejaVuSans-34\"/>\n",
       "      </defs>\n",
       "      <g transform=\"translate(371.460511 165.199219)scale(0.1 -0.1)\">\n",
       "       <use xlink:href=\"#DejaVuSans-30\"/>\n",
       "       <use x=\"63.623047\" xlink:href=\"#DejaVuSans-2e\"/>\n",
       "       <use x=\"95.410156\" xlink:href=\"#DejaVuSans-34\"/>\n",
       "      </g>\n",
       "     </g>\n",
       "    </g>\n",
       "    <g id=\"ytick_10\">\n",
       "     <g id=\"line2d_21\">\n",
       "      <g>\n",
       "       <use style=\"stroke:#000000;stroke-width:0.8;\" x=\"394.363636\" xlink:href=\"#m7ed47a6387\" y=\"125.16\"/>\n",
       "      </g>\n",
       "     </g>\n",
       "     <g id=\"text_22\">\n",
       "      <!-- 0.6 -->\n",
       "      <defs>\n",
       "       <path d=\"M 33.015625 40.375  Q 26.375 40.375 22.484375 35.828125  Q 18.609375 31.296875 18.609375 23.390625  Q 18.609375 15.53125 22.484375 10.953125  Q 26.375 6.390625 33.015625 6.390625  Q 39.65625 6.390625 43.53125 10.953125  Q 47.40625 15.53125 47.40625 23.390625  Q 47.40625 31.296875 43.53125 35.828125  Q 39.65625 40.375 33.015625 40.375  z M 52.59375 71.296875  L 52.59375 62.3125  Q 48.875 64.0625 45.09375 64.984375  Q 41.3125 65.921875 37.59375 65.921875  Q 27.828125 65.921875 22.671875 59.328125  Q 17.53125 52.734375 16.796875 39.40625  Q 19.671875 43.65625 24.015625 45.921875  Q 28.375 48.1875 33.59375 48.1875  Q 44.578125 48.1875 50.953125 41.515625  Q 57.328125 34.859375 57.328125 23.390625  Q 57.328125 12.15625 50.6875 5.359375  Q 44.046875 -1.421875 33.015625 -1.421875  Q 20.359375 -1.421875 13.671875 8.265625  Q 6.984375 17.96875 6.984375 36.375  Q 6.984375 53.65625 15.1875 63.9375  Q 23.390625 74.21875 37.203125 74.21875  Q 40.921875 74.21875 44.703125 73.484375  Q 48.484375 72.75 52.59375 71.296875  z \" id=\"DejaVuSans-36\"/>\n",
       "      </defs>\n",
       "      <g transform=\"translate(371.460511 128.959219)scale(0.1 -0.1)\">\n",
       "       <use xlink:href=\"#DejaVuSans-30\"/>\n",
       "       <use x=\"63.623047\" xlink:href=\"#DejaVuSans-2e\"/>\n",
       "       <use x=\"95.410156\" xlink:href=\"#DejaVuSans-36\"/>\n",
       "      </g>\n",
       "     </g>\n",
       "    </g>\n",
       "    <g id=\"ytick_11\">\n",
       "     <g id=\"line2d_22\">\n",
       "      <g>\n",
       "       <use style=\"stroke:#000000;stroke-width:0.8;\" x=\"394.363636\" xlink:href=\"#m7ed47a6387\" y=\"88.92\"/>\n",
       "      </g>\n",
       "     </g>\n",
       "     <g id=\"text_23\">\n",
       "      <!-- 0.8 -->\n",
       "      <defs>\n",
       "       <path d=\"M 31.78125 34.625  Q 24.75 34.625 20.71875 30.859375  Q 16.703125 27.09375 16.703125 20.515625  Q 16.703125 13.921875 20.71875 10.15625  Q 24.75 6.390625 31.78125 6.390625  Q 38.8125 6.390625 42.859375 10.171875  Q 46.921875 13.96875 46.921875 20.515625  Q 46.921875 27.09375 42.890625 30.859375  Q 38.875 34.625 31.78125 34.625  z M 21.921875 38.8125  Q 15.578125 40.375 12.03125 44.71875  Q 8.5 49.078125 8.5 55.328125  Q 8.5 64.0625 14.71875 69.140625  Q 20.953125 74.21875 31.78125 74.21875  Q 42.671875 74.21875 48.875 69.140625  Q 55.078125 64.0625 55.078125 55.328125  Q 55.078125 49.078125 51.53125 44.71875  Q 48 40.375 41.703125 38.8125  Q 48.828125 37.15625 52.796875 32.3125  Q 56.78125 27.484375 56.78125 20.515625  Q 56.78125 9.90625 50.3125 4.234375  Q 43.84375 -1.421875 31.78125 -1.421875  Q 19.734375 -1.421875 13.25 4.234375  Q 6.78125 9.90625 6.78125 20.515625  Q 6.78125 27.484375 10.78125 32.3125  Q 14.796875 37.15625 21.921875 38.8125  z M 18.3125 54.390625  Q 18.3125 48.734375 21.84375 45.5625  Q 25.390625 42.390625 31.78125 42.390625  Q 38.140625 42.390625 41.71875 45.5625  Q 45.3125 48.734375 45.3125 54.390625  Q 45.3125 60.0625 41.71875 63.234375  Q 38.140625 66.40625 31.78125 66.40625  Q 25.390625 66.40625 21.84375 63.234375  Q 18.3125 60.0625 18.3125 54.390625  z \" id=\"DejaVuSans-38\"/>\n",
       "      </defs>\n",
       "      <g transform=\"translate(371.460511 92.719219)scale(0.1 -0.1)\">\n",
       "       <use xlink:href=\"#DejaVuSans-30\"/>\n",
       "       <use x=\"63.623047\" xlink:href=\"#DejaVuSans-2e\"/>\n",
       "       <use x=\"95.410156\" xlink:href=\"#DejaVuSans-38\"/>\n",
       "      </g>\n",
       "     </g>\n",
       "    </g>\n",
       "    <g id=\"ytick_12\">\n",
       "     <g id=\"line2d_23\">\n",
       "      <g>\n",
       "       <use style=\"stroke:#000000;stroke-width:0.8;\" x=\"394.363636\" xlink:href=\"#m7ed47a6387\" y=\"52.68\"/>\n",
       "      </g>\n",
       "     </g>\n",
       "     <g id=\"text_24\">\n",
       "      <!-- 1.0 -->\n",
       "      <g transform=\"translate(371.460511 56.479219)scale(0.1 -0.1)\">\n",
       "       <use xlink:href=\"#DejaVuSans-31\"/>\n",
       "       <use x=\"63.623047\" xlink:href=\"#DejaVuSans-2e\"/>\n",
       "       <use x=\"95.410156\" xlink:href=\"#DejaVuSans-30\"/>\n",
       "      </g>\n",
       "     </g>\n",
       "    </g>\n",
       "   </g>\n",
       "   <g id=\"line2d_24\">\n",
       "    <path clip-path=\"url(#pa93334ec68)\" d=\"M 405.892562 233.88  L 556.375381 233.88  L 556.982166 188.58  L 601.277512 188.58  L 601.884298 143.28  L 605.525011 143.28  L 606.131796 97.98  L 635.864289 97.98  L 636.471074 52.68  L 636.471074 52.68  \" style=\"fill:none;stroke:#1f77b4;stroke-linecap:square;stroke-width:1.5;\"/>\n",
       "   </g>\n",
       "   <g id=\"patch_9\">\n",
       "    <path d=\"M 394.363636 252  L 394.363636 34.56  \" style=\"fill:none;stroke:#000000;stroke-linecap:square;stroke-linejoin:miter;stroke-width:0.8;\"/>\n",
       "   </g>\n",
       "   <g id=\"patch_10\">\n",
       "    <path d=\"M 648 252  L 648 34.56  \" style=\"fill:none;stroke:#000000;stroke-linecap:square;stroke-linejoin:miter;stroke-width:0.8;\"/>\n",
       "   </g>\n",
       "   <g id=\"patch_11\">\n",
       "    <path d=\"M 394.363636 252  L 648 252  \" style=\"fill:none;stroke:#000000;stroke-linecap:square;stroke-linejoin:miter;stroke-width:0.8;\"/>\n",
       "   </g>\n",
       "   <g id=\"patch_12\">\n",
       "    <path d=\"M 394.363636 34.56  L 648 34.56  \" style=\"fill:none;stroke:#000000;stroke-linecap:square;stroke-linejoin:miter;stroke-width:0.8;\"/>\n",
       "   </g>\n",
       "   <g id=\"text_25\">\n",
       "    <!-- XOR Network: Accuracy -->\n",
       "    <defs>\n",
       "     <path d=\"M 34.1875 63.1875  L 20.796875 26.90625  L 47.609375 26.90625  z M 28.609375 72.90625  L 39.796875 72.90625  L 67.578125 0  L 57.328125 0  L 50.6875 18.703125  L 17.828125 18.703125  L 11.1875 0  L 0.78125 0  z \" id=\"DejaVuSans-41\"/>\n",
       "     <path d=\"M 8.5 21.578125  L 8.5 54.6875  L 17.484375 54.6875  L 17.484375 21.921875  Q 17.484375 14.15625 20.5 10.265625  Q 23.53125 6.390625 29.59375 6.390625  Q 36.859375 6.390625 41.078125 11.03125  Q 45.3125 15.671875 45.3125 23.6875  L 45.3125 54.6875  L 54.296875 54.6875  L 54.296875 0  L 45.3125 0  L 45.3125 8.40625  Q 42.046875 3.421875 37.71875 1  Q 33.40625 -1.421875 27.6875 -1.421875  Q 18.265625 -1.421875 13.375 4.4375  Q 8.5 10.296875 8.5 21.578125  z M 31.109375 56  z \" id=\"DejaVuSans-75\"/>\n",
       "     <path d=\"M 32.171875 -5.078125  Q 28.375 -14.84375 24.75 -17.8125  Q 21.140625 -20.796875 15.09375 -20.796875  L 7.90625 -20.796875  L 7.90625 -13.28125  L 13.1875 -13.28125  Q 16.890625 -13.28125 18.9375 -11.515625  Q 21 -9.765625 23.484375 -3.21875  L 25.09375 0.875  L 2.984375 54.6875  L 12.5 54.6875  L 29.59375 11.921875  L 46.6875 54.6875  L 56.203125 54.6875  z \" id=\"DejaVuSans-79\"/>\n",
       "    </defs>\n",
       "    <g transform=\"translate(449.800568 28.56)scale(0.12 -0.12)\">\n",
       "     <use xlink:href=\"#DejaVuSans-58\"/>\n",
       "     <use x=\"68.412109\" xlink:href=\"#DejaVuSans-4f\"/>\n",
       "     <use x=\"147.123047\" xlink:href=\"#DejaVuSans-52\"/>\n",
       "     <use x=\"216.605469\" xlink:href=\"#DejaVuSans-20\"/>\n",
       "     <use x=\"248.392578\" xlink:href=\"#DejaVuSans-4e\"/>\n",
       "     <use x=\"323.197266\" xlink:href=\"#DejaVuSans-65\"/>\n",
       "     <use x=\"384.720703\" xlink:href=\"#DejaVuSans-74\"/>\n",
       "     <use x=\"423.929688\" xlink:href=\"#DejaVuSans-77\"/>\n",
       "     <use x=\"505.716797\" xlink:href=\"#DejaVuSans-6f\"/>\n",
       "     <use x=\"566.898438\" xlink:href=\"#DejaVuSans-72\"/>\n",
       "     <use x=\"608.011719\" xlink:href=\"#DejaVuSans-6b\"/>\n",
       "     <use x=\"665.921875\" xlink:href=\"#DejaVuSans-3a\"/>\n",
       "     <use x=\"699.613281\" xlink:href=\"#DejaVuSans-20\"/>\n",
       "     <use x=\"731.400391\" xlink:href=\"#DejaVuSans-41\"/>\n",
       "     <use x=\"799.792969\" xlink:href=\"#DejaVuSans-63\"/>\n",
       "     <use x=\"854.773438\" xlink:href=\"#DejaVuSans-63\"/>\n",
       "     <use x=\"909.753906\" xlink:href=\"#DejaVuSans-75\"/>\n",
       "     <use x=\"973.132812\" xlink:href=\"#DejaVuSans-72\"/>\n",
       "     <use x=\"1014.246094\" xlink:href=\"#DejaVuSans-61\"/>\n",
       "     <use x=\"1075.525391\" xlink:href=\"#DejaVuSans-63\"/>\n",
       "     <use x=\"1130.505859\" xlink:href=\"#DejaVuSans-79\"/>\n",
       "    </g>\n",
       "   </g>\n",
       "   <g id=\"legend_2\">\n",
       "    <g id=\"patch_13\">\n",
       "     <path d=\"M 401.363636 57.238125  L 492.729261 57.238125  Q 494.729261 57.238125 494.729261 55.238125  L 494.729261 41.56  Q 494.729261 39.56 492.729261 39.56  L 401.363636 39.56  Q 399.363636 39.56 399.363636 41.56  L 399.363636 55.238125  Q 399.363636 57.238125 401.363636 57.238125  z \" style=\"fill:#ffffff;opacity:0.8;stroke:#cccccc;stroke-linejoin:miter;\"/>\n",
       "    </g>\n",
       "    <g id=\"line2d_25\">\n",
       "     <path d=\"M 403.363636 47.658437  L 423.363636 47.658437  \" style=\"fill:none;stroke:#1f77b4;stroke-linecap:square;stroke-width:1.5;\"/>\n",
       "    </g>\n",
       "    <g id=\"line2d_26\"/>\n",
       "    <g id=\"text_26\">\n",
       "     <!-- Training set -->\n",
       "     <g transform=\"translate(431.363636 51.158437)scale(0.1 -0.1)\">\n",
       "      <use xlink:href=\"#DejaVuSans-54\"/>\n",
       "      <use x=\"60.865234\" xlink:href=\"#DejaVuSans-72\"/>\n",
       "      <use x=\"101.978516\" xlink:href=\"#DejaVuSans-61\"/>\n",
       "      <use x=\"163.257812\" xlink:href=\"#DejaVuSans-69\"/>\n",
       "      <use x=\"191.041016\" xlink:href=\"#DejaVuSans-6e\"/>\n",
       "      <use x=\"254.419922\" xlink:href=\"#DejaVuSans-69\"/>\n",
       "      <use x=\"282.203125\" xlink:href=\"#DejaVuSans-6e\"/>\n",
       "      <use x=\"345.582031\" xlink:href=\"#DejaVuSans-67\"/>\n",
       "      <use x=\"409.058594\" xlink:href=\"#DejaVuSans-20\"/>\n",
       "      <use x=\"440.845703\" xlink:href=\"#DejaVuSans-73\"/>\n",
       "      <use x=\"492.945312\" xlink:href=\"#DejaVuSans-65\"/>\n",
       "      <use x=\"554.46875\" xlink:href=\"#DejaVuSans-74\"/>\n",
       "     </g>\n",
       "    </g>\n",
       "   </g>\n",
       "  </g>\n",
       " </g>\n",
       " <defs>\n",
       "  <clipPath id=\"pf5cda65137\">\n",
       "   <rect height=\"217.44\" width=\"253.636364\" x=\"90\" y=\"34.56\"/>\n",
       "  </clipPath>\n",
       "  <clipPath id=\"pa93334ec68\">\n",
       "   <rect height=\"217.44\" width=\"253.636364\" x=\"394.363636\" y=\"34.56\"/>\n",
       "  </clipPath>\n",
       " </defs>\n",
       "</svg>"
      ],
      "text/plain": [
       "<IPython.core.display.SVG object>"
      ]
     },
     "metadata": {},
     "output_type": "display_data"
    },
    {
     "name": "stdout",
     "output_type": "stream",
     "text": [
      "========================================================================\n",
      "       |  Training |  Training \n",
      "Epochs |     Error |  Accuracy \n",
      "------ | --------- | --------- \n",
      "#  380 |   0.00652 |   1.00000 \n"
     ]
    }
   ],
   "source": [
    "net.reset()\n",
    "net.train(epochs=2000, accuracy=1.0, report_rate=25, plot=True)"
   ]
  },
  {
   "cell_type": "code",
   "execution_count": 11,
   "metadata": {},
   "outputs": [
    {
     "name": "stdout",
     "output_type": "stream",
     "text": [
      "========================================================\n",
      "Testing train dataset with tolerance 0.1000...\n",
      "Total count: 1\n",
      "      correct: 1\n",
      "      incorrect: 0\n",
      "Total percentage correct: 1.0\n"
     ]
    }
   ],
   "source": [
    "net.test()"
   ]
  },
  {
   "cell_type": "code",
   "execution_count": 12,
   "metadata": {},
   "outputs": [
    {
     "data": {
      "text/plain": [
       "[0.0, 1.0]"
      ]
     },
     "execution_count": 12,
     "metadata": {},
     "output_type": "execute_result"
    }
   ],
   "source": [
    "net.propagate_to(\"input\", [0, 1])"
   ]
  },
  {
   "cell_type": "code",
   "execution_count": 13,
   "metadata": {},
   "outputs": [
    {
     "data": {
      "text/plain": [
       "[0.37886133790016174]"
      ]
     },
     "execution_count": 13,
     "metadata": {},
     "output_type": "execute_result"
    }
   ],
   "source": [
    "net.propagate([0.5, 0.5])"
   ]
  },
  {
   "cell_type": "code",
   "execution_count": 14,
   "metadata": {},
   "outputs": [
    {
     "data": {
      "text/plain": [
       "[0.19043518602848053,\n",
       " 0.9795732498168945,\n",
       " 0.9983406066894531,\n",
       " 0.7423139810562134]"
      ]
     },
     "execution_count": 14,
     "metadata": {},
     "output_type": "execute_result"
    }
   ],
   "source": [
    "net.propagate_to(\"hidden\", [1, 0])"
   ]
  },
  {
   "cell_type": "code",
   "execution_count": 15,
   "metadata": {},
   "outputs": [
    {
     "data": {
      "text/plain": [
       "[0.09938135743141174]"
      ]
     },
     "execution_count": 15,
     "metadata": {},
     "output_type": "execute_result"
    }
   ],
   "source": [
    "net.propagate_to(\"output\", [1, 1])"
   ]
  },
  {
   "cell_type": "code",
   "execution_count": 16,
   "metadata": {},
   "outputs": [
    {
     "data": {
      "text/plain": [
       "[0.25, 0.25]"
      ]
     },
     "execution_count": 16,
     "metadata": {},
     "output_type": "execute_result"
    }
   ],
   "source": [
    "net.propagate_to(\"input\", [0.25, 0.25])"
   ]
  },
  {
   "cell_type": "code",
   "execution_count": 17,
   "metadata": {},
   "outputs": [
    {
     "data": {
      "text/plain": [
       "[0.099381357]"
      ]
     },
     "execution_count": 17,
     "metadata": {},
     "output_type": "execute_result"
    }
   ],
   "source": [
    "net.propagate_from(\"input\", [1.0, 1.0])"
   ]
  },
  {
   "cell_type": "code",
   "execution_count": 18,
   "metadata": {},
   "outputs": [
    {
     "data": {
      "text/plain": [
       "[1.312265e-06]"
      ]
     },
     "execution_count": 18,
     "metadata": {},
     "output_type": "execute_result"
    }
   ],
   "source": [
    "net.propagate_from(\"hidden\", [1.0, 0.0, 1.0, -1.0])"
   ]
  },
  {
   "cell_type": "code",
   "execution_count": 19,
   "metadata": {},
   "outputs": [
    {
     "name": "stdout",
     "output_type": "stream",
     "text": [
      "========================================================\n",
      "Testing train dataset with tolerance 0.1000...\n",
      "Total count: 1\n",
      "      correct: 1\n",
      "      incorrect: 0\n",
      "Total percentage correct: 1.0\n"
     ]
    }
   ],
   "source": [
    "net.test()"
   ]
  },
  {
   "cell_type": "code",
   "execution_count": 20,
   "metadata": {},
   "outputs": [],
   "source": [
    "from conx import Network, Layer, SGD"
   ]
  },
  {
   "cell_type": "code",
   "execution_count": 21,
   "metadata": {},
   "outputs": [],
   "source": [
    "net = Network(\"XOR2 Network\")\n",
    "net.add(Layer(\"input1\", 1))\n",
    "net.add(Layer(\"input2\", 1))\n",
    "net.add(Layer(\"hidden1\", 10, activation=\"sigmoid\"))\n",
    "net.add(Layer(\"hidden2\", 10, activation=\"sigmoid\"))\n",
    "net.add(Layer(\"shared-hidden\", 5, activation=\"sigmoid\"))\n",
    "net.add(Layer(\"output1\", 1, activation=\"sigmoid\", minmax=(-1,1)))\n",
    "net.add(Layer(\"output2\", 1, activation=\"sigmoid\", minmax=(-1,1)))"
   ]
  },
  {
   "cell_type": "code",
   "execution_count": 22,
   "metadata": {},
   "outputs": [
    {
     "data": {
      "text/plain": [
       "<Network name='XOR2 Network' (uncompiled)>"
      ]
     },
     "execution_count": 22,
     "metadata": {},
     "output_type": "execute_result"
    }
   ],
   "source": [
    "net"
   ]
  },
  {
   "cell_type": "code",
   "execution_count": 23,
   "metadata": {},
   "outputs": [],
   "source": [
    "net.connect(\"input1\", \"hidden1\")\n",
    "net.connect(\"input2\", \"hidden2\")\n",
    "net.connect(\"hidden1\", \"shared-hidden\")\n",
    "net.connect(\"hidden2\", \"shared-hidden\")\n",
    "net.connect(\"shared-hidden\", \"output1\")\n",
    "net.connect(\"shared-hidden\", \"output2\")"
   ]
  },
  {
   "cell_type": "code",
   "execution_count": 24,
   "metadata": {},
   "outputs": [
    {
     "data": {
      "text/plain": [
       "[<Layer name='input1', shape=(1,), act='None'>]"
      ]
     },
     "execution_count": 24,
     "metadata": {},
     "output_type": "execute_result"
    }
   ],
   "source": [
    "net.layers[2].incoming_connections"
   ]
  },
  {
   "cell_type": "code",
   "execution_count": 25,
   "metadata": {},
   "outputs": [],
   "source": [
    "net.compile(loss='mean_squared_error',\n",
    "            optimizer=SGD(lr=0.3, momentum=0.9))"
   ]
  },
  {
   "cell_type": "code",
   "execution_count": 26,
   "metadata": {},
   "outputs": [
    {
     "data": {
      "application/javascript": [
       "\n",
       "require(['base/js/namespace'], function(Jupyter) {\n",
       "    Jupyter.notebook.kernel.comm_manager.register_target('conx_svg_control', function(comm, msg) {\n",
       "        comm.on_msg(function(msg) {\n",
       "            var data = msg[\"content\"][\"data\"];\n",
       "            var images = document.getElementsByClassName(data[\"class\"]);\n",
       "            for (var i = 0; i < images.length; i++) {\n",
       "                if (data[\"href\"]) {\n",
       "                    images[i].setAttributeNS(null, \"href\", data[\"href\"]);\n",
       "                }\n",
       "                if (data[\"src\"]) {\n",
       "                    images[i].setAttributeNS(null, \"src\", data[\"src\"]);\n",
       "                }\n",
       "            }\n",
       "        });\n",
       "    });\n",
       "});\n"
      ],
      "text/plain": [
       "<IPython.core.display.Javascript object>"
      ]
     },
     "metadata": {},
     "output_type": "display_data"
    },
    {
     "data": {
      "application/vnd.jupyter.widget-view+json": {
       "model_id": "eb31910ecd90479bbb4533320fd3b295",
       "version_major": 2,
       "version_minor": 0
      },
      "text/html": [
       "<p>Failed to display Jupyter Widget of type <code>Dashboard</code>.</p>\n",
       "<p>\n",
       "  If you're reading this message in Jupyter Notebook or JupyterLab, it may mean\n",
       "  that the widgets JavaScript is still loading. If this message persists, it\n",
       "  likely means that the widgets JavaScript library is either not installed or\n",
       "  not enabled. See the <a href=\"https://ipywidgets.readthedocs.io/en/stable/user_install.html\">Jupyter\n",
       "  Widgets Documentation</a> for setup instructions.\n",
       "</p>\n",
       "<p>\n",
       "  If you're reading this message in another notebook frontend (for example, a static\n",
       "  rendering on GitHub or <a href=\"https://nbviewer.jupyter.org/\">NBViewer</a>),\n",
       "  it may mean that your frontend doesn't currently support widgets.\n",
       "</p>\n"
      ],
      "text/plain": [
       "Dashboard(children=(VBox(children=(VBox(children=(HBox(children=(Select(description='Dataset:', index=1, options=('Test', 'Train'), rows=1, value='Train'), Select(description='Features:', options=('',), rows=1, value=''), Button(icon='refresh', layout=Layout(width='40px'), style=ButtonStyle())), layout=Layout(height='40px')), HBox(children=(IntSlider(value=0, continuous_update=False, description='Dataset index', layout=Layout(width='95%'), max=0), Label(value='of 0', layout=Layout(width='100px'))), layout=Layout(height='40px')), HBox(children=(Button(icon='fast-backward', layout=Layout(width='100%'), style=ButtonStyle()), Button(icon='backward', layout=Layout(width='100%'), style=ButtonStyle()), IntText(value=0, layout=Layout(width='100%')), Button(icon='forward', layout=Layout(width='100%'), style=ButtonStyle()), Button(icon='fast-forward', layout=Layout(width='100%'), style=ButtonStyle()), Button(description='Play', icon='play', layout=Layout(width='100%'), style=ButtonStyle())), layout=Layout(height='50px', width='100%'))), layout=Layout(width='95%')), HTML(value='<p style=\"text-align:center\"><svg id=\\'XOR2 Network\\' xmlns=\\'http://www.w3.org/2000/svg\\' viewBox=\"0 0 800 310\" height=\"780\" image-rendering=\"pixelated\">\\n    <defs>\\n        <marker id=\"arrow\" markerWidth=\"10\" markerHeight=\"10\" refX=\"9\" refY=\"3\" orient=\"auto\" markerUnits=\"strokeWidth\">\\n          <path d=\"M0,0 L0,6 L9,3 z\" fill=\"black\" />\\n        </marker>\\n    </defs><text x=\"400.0\" y=\"12.5\" font-family=\"monospace\" font-size=\"15\" text-anchor=\"middle\" alignment-baseline=\"central\">XOR2 Network</text><rect x=\"240.66666666666669\" y=\"29\" width=\"52\" height=\"52\" style=\"fill:none;stroke:black;stroke-width:2\"/><image id=\"XOR2 Network_output1_1\" class=\"XOR2 Network_output1\" x=\"241.66666666666669\" y=\"30\" height=\"50\" width=\"50\" preserveAspectRatio=\"none\" href=\"data:image/gif;base64,R0lGODdhAQABAIcAAB0d/wAAAAAAAAAAAAAAAAAAAAAAAAAAAAAAAAAAAAAAAAAAAAAAAAAAAAAAAAAAAAAAAAAAAAAAAAAAAAAAAAAAAAAAAAAAAAAAAAAAAAAAAAAAAAAAAAAAAAAAAAAAAAAAAAAAAAAAAAAAAAAAAAAAAAAAAAAAAAAAAAAAAAAAAAAAAAAAAAAAAAAAAAAAAAAAAAAAAAAAAAAAAAAAAAAAAAAAAAAAAAAAAAAAAAAAAAAAAAAAAAAAAAAAAAAAAAAAAAAAAAAAAAAAAAAAAAAAAAAAAAAAAAAAAAAAAAAAAAAAAAAAAAAAAAAAAAAAAAAAAAAAAAAAAAAAAAAAAAAAAAAAAAAAAAAAAAAAAAAAAAAAAAAAAAAAAAAAAAAAAAAAAAAAAAAAAAAAAAAAAAAAAAAAAAAAAAAAAAAAAAAAAAAAAAAAAAAAAAAAAAAAAAAAAAAAAAAAAAAAAAAAAAAAAAAAAAAAAAAAAAAAAAAAAAAAAAAAAAAAAAAAAAAAAAAAAAAAAAAAAAAAAAAAAAAAAAAAAAAAAAAAAAAAAAAAAAAAAAAAAAAAAAAAAAAAAAAAAAAAAAAAAAAAAAAAAAAAAAAAAAAAAAAAAAAAAAAAAAAAAAAAAAAAAAAAAAAAAAAAAAAAAAAAAAAAAAAAAAAAAAAAAAAAAAAAAAAAAAAAAAAAAAAAAAAAAAAAAAAAAAAAAAAAAAAAAAAAAAAAAAAAAAAAAAAAAAAAAAAAAAAAAAAAAAAAAAAAAAAAAAAAAAAAAAAAAAAAAAAAAAAAAAAAAAAAAAAAAAAAAAAAAAAAAAAAAAAAAAAAAAAAAAAAAAAAAAAAAAAAAAAAAAAAAAAAAAAAAAAAAAAAAAAAAAAAAAAAAAAAAAAAAAAAAAAAAAAAAAAAAAAAAAAAAAAAAAAAAAAAAAAAAAAAAAAAAAAAAAAAAAAAAAAAAAAAAAAAAAAAAAAAAAAAAAAAAAAAAAAAAAAAAAAAAAAAAAAAAAAAAAAAAAAAAAAAAAAAAAAAACwAAAAAAQABAAAIBQABmAgIADs=\"><title>Layer: output1 (output)\\n shape = (1,)\\n Keras class = Dense\\n activation = sigmoid</title></image><text x=\"296.6666666666667\" y=\"57.0\" font-family=\"monospace\" font-size=\"12\" text-anchor=\"start\" alignment-baseline=\"central\">output1</text><rect x=\"507.33333333333337\" y=\"29\" width=\"52\" height=\"52\" style=\"fill:none;stroke:black;stroke-width:2\"/><image id=\"XOR2 Network_output2_2\" class=\"XOR2 Network_output2\" x=\"508.33333333333337\" y=\"30\" height=\"50\" width=\"50\" preserveAspectRatio=\"none\" href=\"data:image/gif;base64,R0lGODdhAQABAIcAAAAAxAAAAAAAAAAAAAAAAAAAAAAAAAAAAAAAAAAAAAAAAAAAAAAAAAAAAAAAAAAAAAAAAAAAAAAAAAAAAAAAAAAAAAAAAAAAAAAAAAAAAAAAAAAAAAAAAAAAAAAAAAAAAAAAAAAAAAAAAAAAAAAAAAAAAAAAAAAAAAAAAAAAAAAAAAAAAAAAAAAAAAAAAAAAAAAAAAAAAAAAAAAAAAAAAAAAAAAAAAAAAAAAAAAAAAAAAAAAAAAAAAAAAAAAAAAAAAAAAAAAAAAAAAAAAAAAAAAAAAAAAAAAAAAAAAAAAAAAAAAAAAAAAAAAAAAAAAAAAAAAAAAAAAAAAAAAAAAAAAAAAAAAAAAAAAAAAAAAAAAAAAAAAAAAAAAAAAAAAAAAAAAAAAAAAAAAAAAAAAAAAAAAAAAAAAAAAAAAAAAAAAAAAAAAAAAAAAAAAAAAAAAAAAAAAAAAAAAAAAAAAAAAAAAAAAAAAAAAAAAAAAAAAAAAAAAAAAAAAAAAAAAAAAAAAAAAAAAAAAAAAAAAAAAAAAAAAAAAAAAAAAAAAAAAAAAAAAAAAAAAAAAAAAAAAAAAAAAAAAAAAAAAAAAAAAAAAAAAAAAAAAAAAAAAAAAAAAAAAAAAAAAAAAAAAAAAAAAAAAAAAAAAAAAAAAAAAAAAAAAAAAAAAAAAAAAAAAAAAAAAAAAAAAAAAAAAAAAAAAAAAAAAAAAAAAAAAAAAAAAAAAAAAAAAAAAAAAAAAAAAAAAAAAAAAAAAAAAAAAAAAAAAAAAAAAAAAAAAAAAAAAAAAAAAAAAAAAAAAAAAAAAAAAAAAAAAAAAAAAAAAAAAAAAAAAAAAAAAAAAAAAAAAAAAAAAAAAAAAAAAAAAAAAAAAAAAAAAAAAAAAAAAAAAAAAAAAAAAAAAAAAAAAAAAAAAAAAAAAAAAAAAAAAAAAAAAAAAAAAAAAAAAAAAAAAAAAAAAAAAAAAAAAAAAAAAAAAAAAAAAAAAAAAAAAAAAAAAAAAAAAAAAAAAAAAAAAAAAAAAAACwAAAAAAQABAAAIBQABVAoIADs=\"><title>Layer: output2 (output)\\n shape = (1,)\\n Keras class = Dense\\n activation = sigmoid</title></image><text x=\"563.3333333333334\" y=\"57.0\" font-family=\"monospace\" font-size=\"12\" text-anchor=\"start\" alignment-baseline=\"central\">output2</text><line x1=\"400.0\" y1=\"109\" x2=\"266.6666666666667\" y2=\"82\" stroke=\"black\" stroke-width=\"2\" marker-end=\"url(#arrow)\"><title>Weights from shared-hidden to output1\\n output1/kernel has shape (5, 1)\\n output1/bias has shape (1,)</title></line><line x1=\"400.0\" y1=\"109\" x2=\"533.3333333333334\" y2=\"82\" stroke=\"black\" stroke-width=\"2\" marker-end=\"url(#arrow)\"><title>Weights from shared-hidden to output2\\n output2/kernel has shape (5, 1)\\n output2/bias has shape (1,)</title></line><rect x=\"299.0\" y=\"109\" width=\"202\" height=\"42\" style=\"fill:none;stroke:black;stroke-width:2\"/><image id=\"XOR2 Network_shared-hidden_3\" class=\"XOR2 Network_shared-hidden\" x=\"300.0\" y=\"110\" height=\"40\" width=\"200\" preserveAspectRatio=\"none\" href=\"data:image/gif;base64,R0lGODdhBQABAIcAAAAAtgAA0gAA4C0t/4mJ/wAAAAAAAAAAAAAAAAAAAAAAAAAAAAAAAAAAAAAAAAAAAAAAAAAAAAAAAAAAAAAAAAAAAAAAAAAAAAAAAAAAAAAAAAAAAAAAAAAAAAAAAAAAAAAAAAAAAAAAAAAAAAAAAAAAAAAAAAAAAAAAAAAAAAAAAAAAAAAAAAAAAAAAAAAAAAAAAAAAAAAAAAAAAAAAAAAAAAAAAAAAAAAAAAAAAAAAAAAAAAAAAAAAAAAAAAAAAAAAAAAAAAAAAAAAAAAAAAAAAAAAAAAAAAAAAAAAAAAAAAAAAAAAAAAAAAAAAAAAAAAAAAAAAAAAAAAAAAAAAAAAAAAAAAAAAAAAAAAAAAAAAAAAAAAAAAAAAAAAAAAAAAAAAAAAAAAAAAAAAAAAAAAAAAAAAAAAAAAAAAAAAAAAAAAAAAAAAAAAAAAAAAAAAAAAAAAAAAAAAAAAAAAAAAAAAAAAAAAAAAAAAAAAAAAAAAAAAAAAAAAAAAAAAAAAAAAAAAAAAAAAAAAAAAAAAAAAAAAAAAAAAAAAAAAAAAAAAAAAAAAAAAAAAAAAAAAAAAAAAAAAAAAAAAAAAAAAAAAAAAAAAAAAAAAAAAAAAAAAAAAAAAAAAAAAAAAAAAAAAAAAAAAAAAAAAAAAAAAAAAAAAAAAAAAAAAAAAAAAAAAAAAAAAAAAAAAAAAAAAAAAAAAAAAAAAAAAAAAAAAAAAAAAAAAAAAAAAAAAAAAAAAAAAAAAAAAAAAAAAAAAAAAAAAAAAAAAAAAAAAAAAAAAAAAAAAAAAAAAAAAAAAAAAAAAAAAAAAAAAAAAAAAAAAAAAAAAAAAAAAAAAAAAAAAAAAAAAAAAAAAAAAAAAAAAAAAAAAAAAAAAAAAAAAAAAAAAAAAAAAAAAAAAAAAAAAAAAAAAAAAAAAAAAAAAAAAAAAAAAAAAAAAAAAAAAAAAAAAAAAAAAAAAAAAAAAAAAAAAAAAAAAAAAAAAAAAAAAAAAAAAAAAAAAAAAAAAAAAAAAAAACwAAAAABQABAAAICAABDCAQQEBAADs=\"><title>Layer: shared-hidden (hidden)\\n shape = (5,)\\n Keras class = Dense\\n activation = sigmoid</title></image><text x=\"505.0\" y=\"132.0\" font-family=\"monospace\" font-size=\"12\" text-anchor=\"start\" alignment-baseline=\"central\">shared-hidden</text><line x1=\"266.6666666666667\" y1=\"179\" x2=\"400.0\" y2=\"152\" stroke=\"black\" stroke-width=\"2\" marker-end=\"url(#arrow)\"><title>Weights from hidden1 to shared-hidden\\n shared-hidden/kernel has shape (20, 5)\\n shared-hidden/bias has shape (5,)</title></line><rect x=\"165.66666666666669\" y=\"179\" width=\"202\" height=\"27\" style=\"fill:none;stroke:black;stroke-width:2\"/><image id=\"XOR2 Network_hidden1_4\" class=\"XOR2 Network_hidden1\" x=\"166.66666666666669\" y=\"180\" height=\"25\" width=\"200\" preserveAspectRatio=\"none\" href=\"data:image/gif;base64,R0lGODdhCgABAIcAAAAA/wAAAAAAAAAAAAAAAAAAAAAAAAAAAAAAAAAAAAAAAAAAAAAAAAAAAAAAAAAAAAAAAAAAAAAAAAAAAAAAAAAAAAAAAAAAAAAAAAAAAAAAAAAAAAAAAAAAAAAAAAAAAAAAAAAAAAAAAAAAAAAAAAAAAAAAAAAAAAAAAAAAAAAAAAAAAAAAAAAAAAAAAAAAAAAAAAAAAAAAAAAAAAAAAAAAAAAAAAAAAAAAAAAAAAAAAAAAAAAAAAAAAAAAAAAAAAAAAAAAAAAAAAAAAAAAAAAAAAAAAAAAAAAAAAAAAAAAAAAAAAAAAAAAAAAAAAAAAAAAAAAAAAAAAAAAAAAAAAAAAAAAAAAAAAAAAAAAAAAAAAAAAAAAAAAAAAAAAAAAAAAAAAAAAAAAAAAAAAAAAAAAAAAAAAAAAAAAAAAAAAAAAAAAAAAAAAAAAAAAAAAAAAAAAAAAAAAAAAAAAAAAAAAAAAAAAAAAAAAAAAAAAAAAAAAAAAAAAAAAAAAAAAAAAAAAAAAAAAAAAAAAAAAAAAAAAAAAAAAAAAAAAAAAAAAAAAAAAAAAAAAAAAAAAAAAAAAAAAAAAAAAAAAAAAAAAAAAAAAAAAAAAAAAAAAAAAAAAAAAAAAAAAAAAAAAAAAAAAAAAAAAAAAAAAAAAAAAAAAAAAAAAAAAAAAAAAAAAAAAAAAAAAAAAAAAAAAAAAAAAAAAAAAAAAAAAAAAAAAAAAAAAAAAAAAAAAAAAAAAAAAAAAAAAAAAAAAAAAAAAAAAAAAAAAAAAAAAAAAAAAAAAAAAAAAAAAAAAAAAAAAAAAAAAAAAAAAAAAAAAAAAAAAAAAAAAAAAAAAAAAAAAAAAAAAAAAAAAAAAAAAAAAAAAAAAAAAAAAAAAAAAAAAAAAAAAAAAAAAAAAAAAAAAAAAAAAAAAAAAAAAAAAAAAAAAAAAAAAAAAAAAAAAAAAAAAAAAAAAAAAAAAAAAAAAAAAAAAAAAAAAAAAAAAAAAAAAAAAAAAAAAAAAAAAAAAAAAAAAAACwAAAAACgABAAAIBwABCBxIMCAAOw==\"><title>Layer: hidden1 (hidden)\\n shape = (10,)\\n Keras class = Dense\\n activation = sigmoid</title></image><text x=\"371.6666666666667\" y=\"194.5\" font-family=\"monospace\" font-size=\"12\" text-anchor=\"start\" alignment-baseline=\"central\">hidden1</text><line x1=\"533.3333333333334\" y1=\"179\" x2=\"400.0\" y2=\"152\" stroke=\"black\" stroke-width=\"2\" marker-end=\"url(#arrow)\"><title>Weights from hidden2 to shared-hidden\\n shared-hidden/kernel has shape (20, 5)\\n shared-hidden/bias has shape (5,)</title></line><rect x=\"432.33333333333337\" y=\"179\" width=\"202\" height=\"27\" style=\"fill:none;stroke:black;stroke-width:2\"/><image id=\"XOR2 Network_hidden2_5\" class=\"XOR2 Network_hidden2\" x=\"433.33333333333337\" y=\"180\" height=\"25\" width=\"200\" preserveAspectRatio=\"none\" href=\"data:image/gif;base64,R0lGODdhCgABAIcAAAAA/wAAAAAAAAAAAAAAAAAAAAAAAAAAAAAAAAAAAAAAAAAAAAAAAAAAAAAAAAAAAAAAAAAAAAAAAAAAAAAAAAAAAAAAAAAAAAAAAAAAAAAAAAAAAAAAAAAAAAAAAAAAAAAAAAAAAAAAAAAAAAAAAAAAAAAAAAAAAAAAAAAAAAAAAAAAAAAAAAAAAAAAAAAAAAAAAAAAAAAAAAAAAAAAAAAAAAAAAAAAAAAAAAAAAAAAAAAAAAAAAAAAAAAAAAAAAAAAAAAAAAAAAAAAAAAAAAAAAAAAAAAAAAAAAAAAAAAAAAAAAAAAAAAAAAAAAAAAAAAAAAAAAAAAAAAAAAAAAAAAAAAAAAAAAAAAAAAAAAAAAAAAAAAAAAAAAAAAAAAAAAAAAAAAAAAAAAAAAAAAAAAAAAAAAAAAAAAAAAAAAAAAAAAAAAAAAAAAAAAAAAAAAAAAAAAAAAAAAAAAAAAAAAAAAAAAAAAAAAAAAAAAAAAAAAAAAAAAAAAAAAAAAAAAAAAAAAAAAAAAAAAAAAAAAAAAAAAAAAAAAAAAAAAAAAAAAAAAAAAAAAAAAAAAAAAAAAAAAAAAAAAAAAAAAAAAAAAAAAAAAAAAAAAAAAAAAAAAAAAAAAAAAAAAAAAAAAAAAAAAAAAAAAAAAAAAAAAAAAAAAAAAAAAAAAAAAAAAAAAAAAAAAAAAAAAAAAAAAAAAAAAAAAAAAAAAAAAAAAAAAAAAAAAAAAAAAAAAAAAAAAAAAAAAAAAAAAAAAAAAAAAAAAAAAAAAAAAAAAAAAAAAAAAAAAAAAAAAAAAAAAAAAAAAAAAAAAAAAAAAAAAAAAAAAAAAAAAAAAAAAAAAAAAAAAAAAAAAAAAAAAAAAAAAAAAAAAAAAAAAAAAAAAAAAAAAAAAAAAAAAAAAAAAAAAAAAAAAAAAAAAAAAAAAAAAAAAAAAAAAAAAAAAAAAAAAAAAAAAAAAAAAAAAAAAAAAAAAAAAAAAAAAAAAAAAAAAAAAAAAAAAAAAAAAAAAAAAAAAAAACwAAAAACgABAAAIBwABCBxIMCAAOw==\"><title>Layer: hidden2 (hidden)\\n shape = (10,)\\n Keras class = Dense\\n activation = sigmoid</title></image><text x=\"638.3333333333334\" y=\"194.5\" font-family=\"monospace\" font-size=\"12\" text-anchor=\"start\" alignment-baseline=\"central\">hidden2</text><line x1=\"266.6666666666667\" y1=\"234\" x2=\"266.6666666666667\" y2=\"207\" stroke=\"black\" stroke-width=\"2\" marker-end=\"url(#arrow)\"><title>Weights from input1 to hidden1\\n hidden1/kernel has shape (1, 10)\\n hidden1/bias has shape (10,)</title></line><rect x=\"240.66666666666669\" y=\"234\" width=\"52\" height=\"52\" style=\"fill:none;stroke:black;stroke-width:2\"/><image id=\"XOR2 Network_input1_6\" class=\"XOR2 Network_input1\" x=\"241.66666666666669\" y=\"235\" height=\"50\" width=\"50\" preserveAspectRatio=\"none\" href=\"data:image/gif;base64,R0lGODdhAQABAIcAAP/9/QAAAAAAAAAAAAAAAAAAAAAAAAAAAAAAAAAAAAAAAAAAAAAAAAAAAAAAAAAAAAAAAAAAAAAAAAAAAAAAAAAAAAAAAAAAAAAAAAAAAAAAAAAAAAAAAAAAAAAAAAAAAAAAAAAAAAAAAAAAAAAAAAAAAAAAAAAAAAAAAAAAAAAAAAAAAAAAAAAAAAAAAAAAAAAAAAAAAAAAAAAAAAAAAAAAAAAAAAAAAAAAAAAAAAAAAAAAAAAAAAAAAAAAAAAAAAAAAAAAAAAAAAAAAAAAAAAAAAAAAAAAAAAAAAAAAAAAAAAAAAAAAAAAAAAAAAAAAAAAAAAAAAAAAAAAAAAAAAAAAAAAAAAAAAAAAAAAAAAAAAAAAAAAAAAAAAAAAAAAAAAAAAAAAAAAAAAAAAAAAAAAAAAAAAAAAAAAAAAAAAAAAAAAAAAAAAAAAAAAAAAAAAAAAAAAAAAAAAAAAAAAAAAAAAAAAAAAAAAAAAAAAAAAAAAAAAAAAAAAAAAAAAAAAAAAAAAAAAAAAAAAAAAAAAAAAAAAAAAAAAAAAAAAAAAAAAAAAAAAAAAAAAAAAAAAAAAAAAAAAAAAAAAAAAAAAAAAAAAAAAAAAAAAAAAAAAAAAAAAAAAAAAAAAAAAAAAAAAAAAAAAAAAAAAAAAAAAAAAAAAAAAAAAAAAAAAAAAAAAAAAAAAAAAAAAAAAAAAAAAAAAAAAAAAAAAAAAAAAAAAAAAAAAAAAAAAAAAAAAAAAAAAAAAAAAAAAAAAAAAAAAAAAAAAAAAAAAAAAAAAAAAAAAAAAAAAAAAAAAAAAAAAAAAAAAAAAAAAAAAAAAAAAAAAAAAAAAAAAAAAAAAAAAAAAAAAAAAAAAAAAAAAAAAAAAAAAAAAAAAAAAAAAAAAAAAAAAAAAAAAAAAAAAAAAAAAAAAAAAAAAAAAAAAAAAAAAAAAAAAAAAAAAAAAAAAAAAAAAAAAAAAAAAAAAAAAAAAAAAAAAAAAAAAAAAAAAAAAAAAAAAAAAAAAAAAAAAAAAAACwAAAAAAQABAAAIBQABVAoIADs=\"><title>Layer: input1 (input)\\n shape = (1,)\\n Keras class = Input</title></image><text x=\"296.6666666666667\" y=\"262.0\" font-family=\"monospace\" font-size=\"12\" text-anchor=\"start\" alignment-baseline=\"central\">input1</text><line x1=\"533.3333333333334\" y1=\"234\" x2=\"533.3333333333334\" y2=\"207\" stroke=\"black\" stroke-width=\"2\" marker-end=\"url(#arrow)\"><title>Weights from input2 to hidden2\\n hidden2/kernel has shape (1, 10)\\n hidden2/bias has shape (10,)</title></line><rect x=\"507.33333333333337\" y=\"234\" width=\"52\" height=\"52\" style=\"fill:none;stroke:black;stroke-width:2\"/><image id=\"XOR2 Network_input2_7\" class=\"XOR2 Network_input2\" x=\"508.33333333333337\" y=\"235\" height=\"50\" width=\"50\" preserveAspectRatio=\"none\" href=\"data:image/gif;base64,R0lGODdhAQABAIcAAP/9/QAAAAAAAAAAAAAAAAAAAAAAAAAAAAAAAAAAAAAAAAAAAAAAAAAAAAAAAAAAAAAAAAAAAAAAAAAAAAAAAAAAAAAAAAAAAAAAAAAAAAAAAAAAAAAAAAAAAAAAAAAAAAAAAAAAAAAAAAAAAAAAAAAAAAAAAAAAAAAAAAAAAAAAAAAAAAAAAAAAAAAAAAAAAAAAAAAAAAAAAAAAAAAAAAAAAAAAAAAAAAAAAAAAAAAAAAAAAAAAAAAAAAAAAAAAAAAAAAAAAAAAAAAAAAAAAAAAAAAAAAAAAAAAAAAAAAAAAAAAAAAAAAAAAAAAAAAAAAAAAAAAAAAAAAAAAAAAAAAAAAAAAAAAAAAAAAAAAAAAAAAAAAAAAAAAAAAAAAAAAAAAAAAAAAAAAAAAAAAAAAAAAAAAAAAAAAAAAAAAAAAAAAAAAAAAAAAAAAAAAAAAAAAAAAAAAAAAAAAAAAAAAAAAAAAAAAAAAAAAAAAAAAAAAAAAAAAAAAAAAAAAAAAAAAAAAAAAAAAAAAAAAAAAAAAAAAAAAAAAAAAAAAAAAAAAAAAAAAAAAAAAAAAAAAAAAAAAAAAAAAAAAAAAAAAAAAAAAAAAAAAAAAAAAAAAAAAAAAAAAAAAAAAAAAAAAAAAAAAAAAAAAAAAAAAAAAAAAAAAAAAAAAAAAAAAAAAAAAAAAAAAAAAAAAAAAAAAAAAAAAAAAAAAAAAAAAAAAAAAAAAAAAAAAAAAAAAAAAAAAAAAAAAAAAAAAAAAAAAAAAAAAAAAAAAAAAAAAAAAAAAAAAAAAAAAAAAAAAAAAAAAAAAAAAAAAAAAAAAAAAAAAAAAAAAAAAAAAAAAAAAAAAAAAAAAAAAAAAAAAAAAAAAAAAAAAAAAAAAAAAAAAAAAAAAAAAAAAAAAAAAAAAAAAAAAAAAAAAAAAAAAAAAAAAAAAAAAAAAAAAAAAAAAAAAAAAAAAAAAAAAAAAAAAAAAAAAAAAAAAAAAAAAAAAAAAAAAAAAAAAAAAAAAAAAAAAAAAAAAACwAAAAAAQABAAAIBQABVAoIADs=\"><title>Layer: input2 (input)\\n shape = (1,)\\n Keras class = Input</title></image><text x=\"563.3333333333334\" y=\"262.0\" font-family=\"monospace\" font-size=\"12\" text-anchor=\"start\" alignment-baseline=\"central\">input2</text></svg></p>', layout=Layout(justify_content='center', overflow_x='auto', overflow_y='auto', width='95%'))), layout=Layout(width='95%')), VBox(children=(Accordion(children=(VBox(children=(HTML(value='<p><h3>Network display:</h3></p>'), FloatSlider(value=1.0, continuous_update=False, description='Zoom', max=3.0, min=0.5), IntText(value=200, description='Horizontal space between banks:', style=DescriptionStyle(description_width='initial')), IntText(value=30, description='Vertical space between layers:', style=DescriptionStyle(description_width='initial')), Checkbox(value=False, description='Show Targets'), Checkbox(value=False, description='Show Errors'), IntText(value=3, description='Feature columns:', style=DescriptionStyle(description_width='initial')), FloatText(value=2.0, description='Feature scale:', style=DescriptionStyle(description_width='initial')))), VBox(children=(HTML(value='<p><hr/><h3>output2 bank:</h3></p>'), Checkbox(value=True, description='Visible'), HBox(children=(Select(description='Colormap:', options=('', 'Accent', 'Accent_r', 'Blues', 'Blues_r', 'BrBG', 'BrBG_r', 'BuGn', 'BuGn_r', 'BuPu', 'BuPu_r', 'CMRmap', 'CMRmap_r', 'Dark2', 'Dark2_r', 'GnBu', 'GnBu_r', 'Greens', 'Greens_r', 'Greys', 'Greys_r', 'OrRd', 'OrRd_r', 'Oranges', 'Oranges_r', 'PRGn', 'PRGn_r', 'Paired', 'Paired_r', 'Pastel1', 'Pastel1_r', 'Pastel2', 'Pastel2_r', 'PiYG', 'PiYG_r', 'PuBu', 'PuBuGn', 'PuBuGn_r', 'PuBu_r', 'PuOr', 'PuOr_r', 'PuRd', 'PuRd_r', 'Purples', 'Purples_r', 'RdBu', 'RdBu_r', 'RdGy', 'RdGy_r', 'RdPu', 'RdPu_r', 'RdYlBu', 'RdYlBu_r', 'RdYlGn', 'RdYlGn_r', 'Reds', 'Reds_r', 'Set1', 'Set1_r', 'Set2', 'Set2_r', 'Set3', 'Set3_r', 'Spectral', 'Spectral_r', 'Vega10', 'Vega10_r', 'Vega20', 'Vega20_r', 'Vega20b', 'Vega20b_r', 'Vega20c', 'Vega20c_r', 'Wistia', 'Wistia_r', 'YlGn', 'YlGnBu', 'YlGnBu_r', 'YlGn_r', 'YlOrBr', 'YlOrBr_r', 'YlOrRd', 'YlOrRd_r', 'afmhot', 'afmhot_r', 'autumn', 'autumn_r', 'binary', 'binary_r', 'bone', 'bone_r', 'brg', 'brg_r', 'bwr', 'bwr_r', 'cool', 'cool_r', 'coolwarm', 'coolwarm_r', 'copper', 'copper_r', 'cubehelix', 'cubehelix_r', 'flag', 'flag_r', 'gist_earth', 'gist_earth_r', 'gist_gray', 'gist_gray_r', 'gist_heat', 'gist_heat_r', 'gist_ncar', 'gist_ncar_r', 'gist_rainbow', 'gist_rainbow_r', 'gist_stern', 'gist_stern_r', 'gist_yarg', 'gist_yarg_r', 'gnuplot', 'gnuplot2', 'gnuplot2_r', 'gnuplot_r', 'gray', 'gray_r', 'hot', 'hot_r', 'hsv', 'hsv_r', 'inferno', 'inferno_r', 'jet', 'jet_r', 'magma', 'magma_r', 'nipy_spectral', 'nipy_spectral_r', 'ocean', 'ocean_r', 'pink', 'pink_r', 'plasma', 'plasma_r', 'prism', 'prism_r', 'rainbow', 'rainbow_r', 'seismic', 'seismic_r', 'spectral', 'spectral_r', 'spring', 'spring_r', 'summer', 'summer_r', 'tab10', 'tab10_r', 'tab20', 'tab20_r', 'tab20b', 'tab20b_r', 'tab20c', 'tab20c_r', 'terrain', 'terrain_r', 'viridis', 'viridis_r', 'winter', 'winter_r'), rows=1, value=''), HTML(value='<img src=\"data:image/gif;base64,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\"/>'))), HBox(children=(IntText(value=-1, description='Leftmost color maps to:', style=DescriptionStyle(description_width='initial')), IntText(value=1, description='Rightmost color maps to:', style=DescriptionStyle(description_width='initial')))))), VBox(children=(HTML(value='<p><hr/><h3>output1 bank:</h3></p>'), Checkbox(value=True, description='Visible'), HBox(children=(Select(description='Colormap:', options=('', 'Accent', 'Accent_r', 'Blues', 'Blues_r', 'BrBG', 'BrBG_r', 'BuGn', 'BuGn_r', 'BuPu', 'BuPu_r', 'CMRmap', 'CMRmap_r', 'Dark2', 'Dark2_r', 'GnBu', 'GnBu_r', 'Greens', 'Greens_r', 'Greys', 'Greys_r', 'OrRd', 'OrRd_r', 'Oranges', 'Oranges_r', 'PRGn', 'PRGn_r', 'Paired', 'Paired_r', 'Pastel1', 'Pastel1_r', 'Pastel2', 'Pastel2_r', 'PiYG', 'PiYG_r', 'PuBu', 'PuBuGn', 'PuBuGn_r', 'PuBu_r', 'PuOr', 'PuOr_r', 'PuRd', 'PuRd_r', 'Purples', 'Purples_r', 'RdBu', 'RdBu_r', 'RdGy', 'RdGy_r', 'RdPu', 'RdPu_r', 'RdYlBu', 'RdYlBu_r', 'RdYlGn', 'RdYlGn_r', 'Reds', 'Reds_r', 'Set1', 'Set1_r', 'Set2', 'Set2_r', 'Set3', 'Set3_r', 'Spectral', 'Spectral_r', 'Vega10', 'Vega10_r', 'Vega20', 'Vega20_r', 'Vega20b', 'Vega20b_r', 'Vega20c', 'Vega20c_r', 'Wistia', 'Wistia_r', 'YlGn', 'YlGnBu', 'YlGnBu_r', 'YlGn_r', 'YlOrBr', 'YlOrBr_r', 'YlOrRd', 'YlOrRd_r', 'afmhot', 'afmhot_r', 'autumn', 'autumn_r', 'binary', 'binary_r', 'bone', 'bone_r', 'brg', 'brg_r', 'bwr', 'bwr_r', 'cool', 'cool_r', 'coolwarm', 'coolwarm_r', 'copper', 'copper_r', 'cubehelix', 'cubehelix_r', 'flag', 'flag_r', 'gist_earth', 'gist_earth_r', 'gist_gray', 'gist_gray_r', 'gist_heat', 'gist_heat_r', 'gist_ncar', 'gist_ncar_r', 'gist_rainbow', 'gist_rainbow_r', 'gist_stern', 'gist_stern_r', 'gist_yarg', 'gist_yarg_r', 'gnuplot', 'gnuplot2', 'gnuplot2_r', 'gnuplot_r', 'gray', 'gray_r', 'hot', 'hot_r', 'hsv', 'hsv_r', 'inferno', 'inferno_r', 'jet', 'jet_r', 'magma', 'magma_r', 'nipy_spectral', 'nipy_spectral_r', 'ocean', 'ocean_r', 'pink', 'pink_r', 'plasma', 'plasma_r', 'prism', 'prism_r', 'rainbow', 'rainbow_r', 'seismic', 'seismic_r', 'spectral', 'spectral_r', 'spring', 'spring_r', 'summer', 'summer_r', 'tab10', 'tab10_r', 'tab20', 'tab20_r', 'tab20b', 'tab20b_r', 'tab20c', 'tab20c_r', 'terrain', 'terrain_r', 'viridis', 'viridis_r', 'winter', 'winter_r'), rows=1, value=''), HTML(value='<img src=\"data:image/gif;base64,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\"/>'))), HBox(children=(IntText(value=-1, description='Leftmost color maps to:', style=DescriptionStyle(description_width='initial')), IntText(value=1, description='Rightmost color maps to:', style=DescriptionStyle(description_width='initial')))))), VBox(children=(HTML(value='<p><hr/><h3>shared-hidden bank:</h3></p>'), Checkbox(value=True, description='Visible'), HBox(children=(Select(description='Colormap:', options=('', 'Accent', 'Accent_r', 'Blues', 'Blues_r', 'BrBG', 'BrBG_r', 'BuGn', 'BuGn_r', 'BuPu', 'BuPu_r', 'CMRmap', 'CMRmap_r', 'Dark2', 'Dark2_r', 'GnBu', 'GnBu_r', 'Greens', 'Greens_r', 'Greys', 'Greys_r', 'OrRd', 'OrRd_r', 'Oranges', 'Oranges_r', 'PRGn', 'PRGn_r', 'Paired', 'Paired_r', 'Pastel1', 'Pastel1_r', 'Pastel2', 'Pastel2_r', 'PiYG', 'PiYG_r', 'PuBu', 'PuBuGn', 'PuBuGn_r', 'PuBu_r', 'PuOr', 'PuOr_r', 'PuRd', 'PuRd_r', 'Purples', 'Purples_r', 'RdBu', 'RdBu_r', 'RdGy', 'RdGy_r', 'RdPu', 'RdPu_r', 'RdYlBu', 'RdYlBu_r', 'RdYlGn', 'RdYlGn_r', 'Reds', 'Reds_r', 'Set1', 'Set1_r', 'Set2', 'Set2_r', 'Set3', 'Set3_r', 'Spectral', 'Spectral_r', 'Vega10', 'Vega10_r', 'Vega20', 'Vega20_r', 'Vega20b', 'Vega20b_r', 'Vega20c', 'Vega20c_r', 'Wistia', 'Wistia_r', 'YlGn', 'YlGnBu', 'YlGnBu_r', 'YlGn_r', 'YlOrBr', 'YlOrBr_r', 'YlOrRd', 'YlOrRd_r', 'afmhot', 'afmhot_r', 'autumn', 'autumn_r', 'binary', 'binary_r', 'bone', 'bone_r', 'brg', 'brg_r', 'bwr', 'bwr_r', 'cool', 'cool_r', 'coolwarm', 'coolwarm_r', 'copper', 'copper_r', 'cubehelix', 'cubehelix_r', 'flag', 'flag_r', 'gist_earth', 'gist_earth_r', 'gist_gray', 'gist_gray_r', 'gist_heat', 'gist_heat_r', 'gist_ncar', 'gist_ncar_r', 'gist_rainbow', 'gist_rainbow_r', 'gist_stern', 'gist_stern_r', 'gist_yarg', 'gist_yarg_r', 'gnuplot', 'gnuplot2', 'gnuplot2_r', 'gnuplot_r', 'gray', 'gray_r', 'hot', 'hot_r', 'hsv', 'hsv_r', 'inferno', 'inferno_r', 'jet', 'jet_r', 'magma', 'magma_r', 'nipy_spectral', 'nipy_spectral_r', 'ocean', 'ocean_r', 'pink', 'pink_r', 'plasma', 'plasma_r', 'prism', 'prism_r', 'rainbow', 'rainbow_r', 'seismic', 'seismic_r', 'spectral', 'spectral_r', 'spring', 'spring_r', 'summer', 'summer_r', 'tab10', 'tab10_r', 'tab20', 'tab20_r', 'tab20b', 'tab20b_r', 'tab20c', 'tab20c_r', 'terrain', 'terrain_r', 'viridis', 'viridis_r', 'winter', 'winter_r'), rows=1, value=''), HTML(value='<img src=\"data:image/gif;base64,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\"/>'))), HBox(children=(IntText(value=-1, description='Leftmost color maps to:', style=DescriptionStyle(description_width='initial')), IntText(value=1, description='Rightmost color maps to:', style=DescriptionStyle(description_width='initial')))))), VBox(children=(HTML(value='<p><hr/><h3>hidden2 bank:</h3></p>'), Checkbox(value=True, description='Visible'), HBox(children=(Select(description='Colormap:', options=('', 'Accent', 'Accent_r', 'Blues', 'Blues_r', 'BrBG', 'BrBG_r', 'BuGn', 'BuGn_r', 'BuPu', 'BuPu_r', 'CMRmap', 'CMRmap_r', 'Dark2', 'Dark2_r', 'GnBu', 'GnBu_r', 'Greens', 'Greens_r', 'Greys', 'Greys_r', 'OrRd', 'OrRd_r', 'Oranges', 'Oranges_r', 'PRGn', 'PRGn_r', 'Paired', 'Paired_r', 'Pastel1', 'Pastel1_r', 'Pastel2', 'Pastel2_r', 'PiYG', 'PiYG_r', 'PuBu', 'PuBuGn', 'PuBuGn_r', 'PuBu_r', 'PuOr', 'PuOr_r', 'PuRd', 'PuRd_r', 'Purples', 'Purples_r', 'RdBu', 'RdBu_r', 'RdGy', 'RdGy_r', 'RdPu', 'RdPu_r', 'RdYlBu', 'RdYlBu_r', 'RdYlGn', 'RdYlGn_r', 'Reds', 'Reds_r', 'Set1', 'Set1_r', 'Set2', 'Set2_r', 'Set3', 'Set3_r', 'Spectral', 'Spectral_r', 'Vega10', 'Vega10_r', 'Vega20', 'Vega20_r', 'Vega20b', 'Vega20b_r', 'Vega20c', 'Vega20c_r', 'Wistia', 'Wistia_r', 'YlGn', 'YlGnBu', 'YlGnBu_r', 'YlGn_r', 'YlOrBr', 'YlOrBr_r', 'YlOrRd', 'YlOrRd_r', 'afmhot', 'afmhot_r', 'autumn', 'autumn_r', 'binary', 'binary_r', 'bone', 'bone_r', 'brg', 'brg_r', 'bwr', 'bwr_r', 'cool', 'cool_r', 'coolwarm', 'coolwarm_r', 'copper', 'copper_r', 'cubehelix', 'cubehelix_r', 'flag', 'flag_r', 'gist_earth', 'gist_earth_r', 'gist_gray', 'gist_gray_r', 'gist_heat', 'gist_heat_r', 'gist_ncar', 'gist_ncar_r', 'gist_rainbow', 'gist_rainbow_r', 'gist_stern', 'gist_stern_r', 'gist_yarg', 'gist_yarg_r', 'gnuplot', 'gnuplot2', 'gnuplot2_r', 'gnuplot_r', 'gray', 'gray_r', 'hot', 'hot_r', 'hsv', 'hsv_r', 'inferno', 'inferno_r', 'jet', 'jet_r', 'magma', 'magma_r', 'nipy_spectral', 'nipy_spectral_r', 'ocean', 'ocean_r', 'pink', 'pink_r', 'plasma', 'plasma_r', 'prism', 'prism_r', 'rainbow', 'rainbow_r', 'seismic', 'seismic_r', 'spectral', 'spectral_r', 'spring', 'spring_r', 'summer', 'summer_r', 'tab10', 'tab10_r', 'tab20', 'tab20_r', 'tab20b', 'tab20b_r', 'tab20c', 'tab20c_r', 'terrain', 'terrain_r', 'viridis', 'viridis_r', 'winter', 'winter_r'), rows=1, value=''), HTML(value='<img src=\"data:image/gif;base64,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\"/>'))), HBox(children=(IntText(value=-1, description='Leftmost color maps to:', style=DescriptionStyle(description_width='initial')), IntText(value=1, description='Rightmost color maps to:', style=DescriptionStyle(description_width='initial')))))), VBox(children=(HTML(value='<p><hr/><h3>hidden1 bank:</h3></p>'), Checkbox(value=True, description='Visible'), HBox(children=(Select(description='Colormap:', options=('', 'Accent', 'Accent_r', 'Blues', 'Blues_r', 'BrBG', 'BrBG_r', 'BuGn', 'BuGn_r', 'BuPu', 'BuPu_r', 'CMRmap', 'CMRmap_r', 'Dark2', 'Dark2_r', 'GnBu', 'GnBu_r', 'Greens', 'Greens_r', 'Greys', 'Greys_r', 'OrRd', 'OrRd_r', 'Oranges', 'Oranges_r', 'PRGn', 'PRGn_r', 'Paired', 'Paired_r', 'Pastel1', 'Pastel1_r', 'Pastel2', 'Pastel2_r', 'PiYG', 'PiYG_r', 'PuBu', 'PuBuGn', 'PuBuGn_r', 'PuBu_r', 'PuOr', 'PuOr_r', 'PuRd', 'PuRd_r', 'Purples', 'Purples_r', 'RdBu', 'RdBu_r', 'RdGy', 'RdGy_r', 'RdPu', 'RdPu_r', 'RdYlBu', 'RdYlBu_r', 'RdYlGn', 'RdYlGn_r', 'Reds', 'Reds_r', 'Set1', 'Set1_r', 'Set2', 'Set2_r', 'Set3', 'Set3_r', 'Spectral', 'Spectral_r', 'Vega10', 'Vega10_r', 'Vega20', 'Vega20_r', 'Vega20b', 'Vega20b_r', 'Vega20c', 'Vega20c_r', 'Wistia', 'Wistia_r', 'YlGn', 'YlGnBu', 'YlGnBu_r', 'YlGn_r', 'YlOrBr', 'YlOrBr_r', 'YlOrRd', 'YlOrRd_r', 'afmhot', 'afmhot_r', 'autumn', 'autumn_r', 'binary', 'binary_r', 'bone', 'bone_r', 'brg', 'brg_r', 'bwr', 'bwr_r', 'cool', 'cool_r', 'coolwarm', 'coolwarm_r', 'copper', 'copper_r', 'cubehelix', 'cubehelix_r', 'flag', 'flag_r', 'gist_earth', 'gist_earth_r', 'gist_gray', 'gist_gray_r', 'gist_heat', 'gist_heat_r', 'gist_ncar', 'gist_ncar_r', 'gist_rainbow', 'gist_rainbow_r', 'gist_stern', 'gist_stern_r', 'gist_yarg', 'gist_yarg_r', 'gnuplot', 'gnuplot2', 'gnuplot2_r', 'gnuplot_r', 'gray', 'gray_r', 'hot', 'hot_r', 'hsv', 'hsv_r', 'inferno', 'inferno_r', 'jet', 'jet_r', 'magma', 'magma_r', 'nipy_spectral', 'nipy_spectral_r', 'ocean', 'ocean_r', 'pink', 'pink_r', 'plasma', 'plasma_r', 'prism', 'prism_r', 'rainbow', 'rainbow_r', 'seismic', 'seismic_r', 'spectral', 'spectral_r', 'spring', 'spring_r', 'summer', 'summer_r', 'tab10', 'tab10_r', 'tab20', 'tab20_r', 'tab20b', 'tab20b_r', 'tab20c', 'tab20c_r', 'terrain', 'terrain_r', 'viridis', 'viridis_r', 'winter', 'winter_r'), rows=1, value=''), HTML(value='<img src=\"data:image/gif;base64,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\"/>'))), HBox(children=(IntText(value=-1, description='Leftmost color maps to:', style=DescriptionStyle(description_width='initial')), IntText(value=1, description='Rightmost color maps to:', style=DescriptionStyle(description_width='initial')))))), VBox(children=(HTML(value='<p><hr/><h3>input2 bank:</h3></p>'), Checkbox(value=True, description='Visible'), HBox(children=(Select(description='Colormap:', options=('', 'Accent', 'Accent_r', 'Blues', 'Blues_r', 'BrBG', 'BrBG_r', 'BuGn', 'BuGn_r', 'BuPu', 'BuPu_r', 'CMRmap', 'CMRmap_r', 'Dark2', 'Dark2_r', 'GnBu', 'GnBu_r', 'Greens', 'Greens_r', 'Greys', 'Greys_r', 'OrRd', 'OrRd_r', 'Oranges', 'Oranges_r', 'PRGn', 'PRGn_r', 'Paired', 'Paired_r', 'Pastel1', 'Pastel1_r', 'Pastel2', 'Pastel2_r', 'PiYG', 'PiYG_r', 'PuBu', 'PuBuGn', 'PuBuGn_r', 'PuBu_r', 'PuOr', 'PuOr_r', 'PuRd', 'PuRd_r', 'Purples', 'Purples_r', 'RdBu', 'RdBu_r', 'RdGy', 'RdGy_r', 'RdPu', 'RdPu_r', 'RdYlBu', 'RdYlBu_r', 'RdYlGn', 'RdYlGn_r', 'Reds', 'Reds_r', 'Set1', 'Set1_r', 'Set2', 'Set2_r', 'Set3', 'Set3_r', 'Spectral', 'Spectral_r', 'Vega10', 'Vega10_r', 'Vega20', 'Vega20_r', 'Vega20b', 'Vega20b_r', 'Vega20c', 'Vega20c_r', 'Wistia', 'Wistia_r', 'YlGn', 'YlGnBu', 'YlGnBu_r', 'YlGn_r', 'YlOrBr', 'YlOrBr_r', 'YlOrRd', 'YlOrRd_r', 'afmhot', 'afmhot_r', 'autumn', 'autumn_r', 'binary', 'binary_r', 'bone', 'bone_r', 'brg', 'brg_r', 'bwr', 'bwr_r', 'cool', 'cool_r', 'coolwarm', 'coolwarm_r', 'copper', 'copper_r', 'cubehelix', 'cubehelix_r', 'flag', 'flag_r', 'gist_earth', 'gist_earth_r', 'gist_gray', 'gist_gray_r', 'gist_heat', 'gist_heat_r', 'gist_ncar', 'gist_ncar_r', 'gist_rainbow', 'gist_rainbow_r', 'gist_stern', 'gist_stern_r', 'gist_yarg', 'gist_yarg_r', 'gnuplot', 'gnuplot2', 'gnuplot2_r', 'gnuplot_r', 'gray', 'gray_r', 'hot', 'hot_r', 'hsv', 'hsv_r', 'inferno', 'inferno_r', 'jet', 'jet_r', 'magma', 'magma_r', 'nipy_spectral', 'nipy_spectral_r', 'ocean', 'ocean_r', 'pink', 'pink_r', 'plasma', 'plasma_r', 'prism', 'prism_r', 'rainbow', 'rainbow_r', 'seismic', 'seismic_r', 'spectral', 'spectral_r', 'spring', 'spring_r', 'summer', 'summer_r', 'tab10', 'tab10_r', 'tab20', 'tab20_r', 'tab20b', 'tab20b_r', 'tab20c', 'tab20c_r', 'terrain', 'terrain_r', 'viridis', 'viridis_r', 'winter', 'winter_r'), rows=1, value=''), HTML(value='<img src=\"data:image/gif;base64,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\"/>'))), HBox(children=(IntText(value=-1, description='Leftmost color maps to:', style=DescriptionStyle(description_width='initial')), IntText(value=1, description='Rightmost color maps to:', style=DescriptionStyle(description_width='initial')))))), VBox(children=(HTML(value='<p><hr/><h3>input1 bank:</h3></p>'), Checkbox(value=True, description='Visible'), HBox(children=(Select(description='Colormap:', options=('', 'Accent', 'Accent_r', 'Blues', 'Blues_r', 'BrBG', 'BrBG_r', 'BuGn', 'BuGn_r', 'BuPu', 'BuPu_r', 'CMRmap', 'CMRmap_r', 'Dark2', 'Dark2_r', 'GnBu', 'GnBu_r', 'Greens', 'Greens_r', 'Greys', 'Greys_r', 'OrRd', 'OrRd_r', 'Oranges', 'Oranges_r', 'PRGn', 'PRGn_r', 'Paired', 'Paired_r', 'Pastel1', 'Pastel1_r', 'Pastel2', 'Pastel2_r', 'PiYG', 'PiYG_r', 'PuBu', 'PuBuGn', 'PuBuGn_r', 'PuBu_r', 'PuOr', 'PuOr_r', 'PuRd', 'PuRd_r', 'Purples', 'Purples_r', 'RdBu', 'RdBu_r', 'RdGy', 'RdGy_r', 'RdPu', 'RdPu_r', 'RdYlBu', 'RdYlBu_r', 'RdYlGn', 'RdYlGn_r', 'Reds', 'Reds_r', 'Set1', 'Set1_r', 'Set2', 'Set2_r', 'Set3', 'Set3_r', 'Spectral', 'Spectral_r', 'Vega10', 'Vega10_r', 'Vega20', 'Vega20_r', 'Vega20b', 'Vega20b_r', 'Vega20c', 'Vega20c_r', 'Wistia', 'Wistia_r', 'YlGn', 'YlGnBu', 'YlGnBu_r', 'YlGn_r', 'YlOrBr', 'YlOrBr_r', 'YlOrRd', 'YlOrRd_r', 'afmhot', 'afmhot_r', 'autumn', 'autumn_r', 'binary', 'binary_r', 'bone', 'bone_r', 'brg', 'brg_r', 'bwr', 'bwr_r', 'cool', 'cool_r', 'coolwarm', 'coolwarm_r', 'copper', 'copper_r', 'cubehelix', 'cubehelix_r', 'flag', 'flag_r', 'gist_earth', 'gist_earth_r', 'gist_gray', 'gist_gray_r', 'gist_heat', 'gist_heat_r', 'gist_ncar', 'gist_ncar_r', 'gist_rainbow', 'gist_rainbow_r', 'gist_stern', 'gist_stern_r', 'gist_yarg', 'gist_yarg_r', 'gnuplot', 'gnuplot2', 'gnuplot2_r', 'gnuplot_r', 'gray', 'gray_r', 'hot', 'hot_r', 'hsv', 'hsv_r', 'inferno', 'inferno_r', 'jet', 'jet_r', 'magma', 'magma_r', 'nipy_spectral', 'nipy_spectral_r', 'ocean', 'ocean_r', 'pink', 'pink_r', 'plasma', 'plasma_r', 'prism', 'prism_r', 'rainbow', 'rainbow_r', 'seismic', 'seismic_r', 'spectral', 'spectral_r', 'spring', 'spring_r', 'summer', 'summer_r', 'tab10', 'tab10_r', 'tab20', 'tab20_r', 'tab20b', 'tab20b_r', 'tab20c', 'tab20c_r', 'terrain', 'terrain_r', 'viridis', 'viridis_r', 'winter', 'winter_r'), rows=1, value=''), HTML(value='<img src=\"data:image/gif;base64,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\"/>'))), HBox(children=(IntText(value=-1, description='Leftmost color maps to:', style=DescriptionStyle(description_width='initial')), IntText(value=1, description='Rightmost color maps to:', style=DescriptionStyle(description_width='initial'))))))), _titles={'0': 'Network configuration', '1': 'output2 bank', '2': 'output1 bank', '3': 'shared-hidden bank', '4': 'hidden2 bank', '5': 'hidden1 bank', '6': 'input2 bank', '7': 'input1 bank'}),), layout=Layout(overflow_x='auto', overflow_y='auto', width='95%')), HTML(value='<iframe src=\"https://conx.readthedocs.io\" width=\"100%\" height=\"550px\"></frame>', layout=Layout(width='95%'))), _titles={'0': 'Network', '1': 'Configuration', '2': 'Help'})"
      ]
     },
     "metadata": {},
     "output_type": "display_data"
    }
   ],
   "source": [
    "net.config[\"hspace\"] = 200\n",
    "net.dashboard()"
   ]
  },
  {
   "cell_type": "code",
   "execution_count": 27,
   "metadata": {},
   "outputs": [],
   "source": [
    "net.propagate_to_features(\"hidden1\", [[[1], [1]]])"
   ]
  },
  {
   "cell_type": "code",
   "execution_count": 28,
   "metadata": {},
   "outputs": [
    {
     "data": {
      "text/plain": [
       "[[0.43671050667762756], [0.6797348260879517]]"
      ]
     },
     "execution_count": 28,
     "metadata": {},
     "output_type": "execute_result"
    }
   ],
   "source": [
    "net.propagate([[1], [1]])"
   ]
  },
  {
   "cell_type": "code",
   "execution_count": 29,
   "metadata": {},
   "outputs": [],
   "source": [
    "dataset = [\n",
    "    ([[0],[0]], [[0],[0]]),\n",
    "    ([[0],[1]], [[1],[1]]),\n",
    "    ([[1],[0]], [[1],[1]]),\n",
    "    ([[1],[1]], [[0],[0]])\n",
    "]"
   ]
  },
  {
   "cell_type": "code",
   "execution_count": 30,
   "metadata": {},
   "outputs": [],
   "source": [
    "net.dataset.load(dataset)"
   ]
  },
  {
   "cell_type": "code",
   "execution_count": 31,
   "metadata": {},
   "outputs": [
    {
     "data": {
      "text/plain": [
       "[[[0.4540221095085144,\n",
       "   0.08793536573648453,\n",
       "   -0.1828816831111908,\n",
       "   -0.5521659851074219,\n",
       "   0.32966530323028564,\n",
       "   -0.686873197555542,\n",
       "   0.3806053698062897,\n",
       "   -0.25110286474227905,\n",
       "   0.21008996665477753,\n",
       "   0.04664979130029678]],\n",
       " [0.0, 0.0, 0.0, 0.0, 0.0, 0.0, 0.0, 0.0, 0.0, 0.0]]"
      ]
     },
     "execution_count": 31,
     "metadata": {},
     "output_type": "execute_result"
    }
   ],
   "source": [
    "net.get_weights(\"hidden2\")"
   ]
  },
  {
   "cell_type": "code",
   "execution_count": 32,
   "metadata": {},
   "outputs": [
    {
     "data": {
      "text/plain": [
       "[[0.43671050667762756], [0.6797348260879517]]"
      ]
     },
     "execution_count": 32,
     "metadata": {},
     "output_type": "execute_result"
    }
   ],
   "source": [
    "net.propagate([[1], [1]])"
   ]
  },
  {
   "cell_type": "code",
   "execution_count": 33,
   "metadata": {},
   "outputs": [
    {
     "data": {
      "application/javascript": [
       "\n",
       "require(['base/js/namespace'], function(Jupyter) {\n",
       "    Jupyter.notebook.kernel.comm_manager.register_target('conx_svg_control', function(comm, msg) {\n",
       "        comm.on_msg(function(msg) {\n",
       "            var data = msg[\"content\"][\"data\"];\n",
       "            var images = document.getElementsByClassName(data[\"class\"]);\n",
       "            for (var i = 0; i < images.length; i++) {\n",
       "                if (data[\"href\"]) {\n",
       "                    images[i].setAttributeNS(null, \"href\", data[\"href\"]);\n",
       "                }\n",
       "                if (data[\"src\"]) {\n",
       "                    images[i].setAttributeNS(null, \"src\", data[\"src\"]);\n",
       "                }\n",
       "            }\n",
       "        });\n",
       "    });\n",
       "});\n"
      ],
      "text/plain": [
       "<IPython.core.display.Javascript object>"
      ]
     },
     "metadata": {},
     "output_type": "display_data"
    },
    {
     "data": {
      "text/html": [
       "<svg id='XOR2 Network' xmlns='http://www.w3.org/2000/svg' viewBox=\"0 0 800 310\" height=\"780px\" image-rendering=\"pixelated\">\n",
       "    <defs>\n",
       "        <marker id=\"arrow\" markerWidth=\"10\" markerHeight=\"10\" refX=\"9\" refY=\"3\" orient=\"auto\" markerUnits=\"strokeWidth\">\n",
       "          <path d=\"M0,0 L0,6 L9,3 z\" fill=\"black\" />\n",
       "        </marker>\n",
       "    </defs><text x=\"400.0\" y=\"12.5\" font-family=\"monospace\" font-size=\"15\" text-anchor=\"middle\" alignment-baseline=\"central\">XOR2 Network</text><rect x=\"240.66666666666669\" y=\"29\" width=\"52\" height=\"52\" style=\"fill:none;stroke:black;stroke-width:2\"/><image id=\"XOR2 Network_output1_8\" class=\"XOR2 Network_output1\" x=\"241.66666666666669\" y=\"30\" height=\"50\" width=\"50\" preserveAspectRatio=\"none\" href=\"data:image/gif;base64,R0lGODdhAQABAIcAAB0d/wAAAAAAAAAAAAAAAAAAAAAAAAAAAAAAAAAAAAAAAAAAAAAAAAAAAAAAAAAAAAAAAAAAAAAAAAAAAAAAAAAAAAAAAAAAAAAAAAAAAAAAAAAAAAAAAAAAAAAAAAAAAAAAAAAAAAAAAAAAAAAAAAAAAAAAAAAAAAAAAAAAAAAAAAAAAAAAAAAAAAAAAAAAAAAAAAAAAAAAAAAAAAAAAAAAAAAAAAAAAAAAAAAAAAAAAAAAAAAAAAAAAAAAAAAAAAAAAAAAAAAAAAAAAAAAAAAAAAAAAAAAAAAAAAAAAAAAAAAAAAAAAAAAAAAAAAAAAAAAAAAAAAAAAAAAAAAAAAAAAAAAAAAAAAAAAAAAAAAAAAAAAAAAAAAAAAAAAAAAAAAAAAAAAAAAAAAAAAAAAAAAAAAAAAAAAAAAAAAAAAAAAAAAAAAAAAAAAAAAAAAAAAAAAAAAAAAAAAAAAAAAAAAAAAAAAAAAAAAAAAAAAAAAAAAAAAAAAAAAAAAAAAAAAAAAAAAAAAAAAAAAAAAAAAAAAAAAAAAAAAAAAAAAAAAAAAAAAAAAAAAAAAAAAAAAAAAAAAAAAAAAAAAAAAAAAAAAAAAAAAAAAAAAAAAAAAAAAAAAAAAAAAAAAAAAAAAAAAAAAAAAAAAAAAAAAAAAAAAAAAAAAAAAAAAAAAAAAAAAAAAAAAAAAAAAAAAAAAAAAAAAAAAAAAAAAAAAAAAAAAAAAAAAAAAAAAAAAAAAAAAAAAAAAAAAAAAAAAAAAAAAAAAAAAAAAAAAAAAAAAAAAAAAAAAAAAAAAAAAAAAAAAAAAAAAAAAAAAAAAAAAAAAAAAAAAAAAAAAAAAAAAAAAAAAAAAAAAAAAAAAAAAAAAAAAAAAAAAAAAAAAAAAAAAAAAAAAAAAAAAAAAAAAAAAAAAAAAAAAAAAAAAAAAAAAAAAAAAAAAAAAAAAAAAAAAAAAAAAAAAAAAAAAAAAAAAAAAAAAAAAAAAAAAAAAAAAAAAAAAAAAAAAAAAAAAAAAAAAAACwAAAAAAQABAAAIBQABrAgIADs=\"><title>Layer: output1 (output)\n",
       " shape = (1,)\n",
       " Keras class = Dense\n",
       " activation = sigmoid</title></image><text x=\"296.6666666666667\" y=\"57.0\" font-family=\"monospace\" font-size=\"12\" text-anchor=\"start\" alignment-baseline=\"central\">output1</text><rect x=\"507.33333333333337\" y=\"29\" width=\"52\" height=\"52\" style=\"fill:none;stroke:black;stroke-width:2\"/><image id=\"XOR2 Network_output2_9\" class=\"XOR2 Network_output2\" x=\"508.33333333333337\" y=\"30\" height=\"50\" width=\"50\" preserveAspectRatio=\"none\" href=\"data:image/gif;base64,R0lGODdhAQABAIcAAAAAxAAAAAAAAAAAAAAAAAAAAAAAAAAAAAAAAAAAAAAAAAAAAAAAAAAAAAAAAAAAAAAAAAAAAAAAAAAAAAAAAAAAAAAAAAAAAAAAAAAAAAAAAAAAAAAAAAAAAAAAAAAAAAAAAAAAAAAAAAAAAAAAAAAAAAAAAAAAAAAAAAAAAAAAAAAAAAAAAAAAAAAAAAAAAAAAAAAAAAAAAAAAAAAAAAAAAAAAAAAAAAAAAAAAAAAAAAAAAAAAAAAAAAAAAAAAAAAAAAAAAAAAAAAAAAAAAAAAAAAAAAAAAAAAAAAAAAAAAAAAAAAAAAAAAAAAAAAAAAAAAAAAAAAAAAAAAAAAAAAAAAAAAAAAAAAAAAAAAAAAAAAAAAAAAAAAAAAAAAAAAAAAAAAAAAAAAAAAAAAAAAAAAAAAAAAAAAAAAAAAAAAAAAAAAAAAAAAAAAAAAAAAAAAAAAAAAAAAAAAAAAAAAAAAAAAAAAAAAAAAAAAAAAAAAAAAAAAAAAAAAAAAAAAAAAAAAAAAAAAAAAAAAAAAAAAAAAAAAAAAAAAAAAAAAAAAAAAAAAAAAAAAAAAAAAAAAAAAAAAAAAAAAAAAAAAAAAAAAAAAAAAAAAAAAAAAAAAAAAAAAAAAAAAAAAAAAAAAAAAAAAAAAAAAAAAAAAAAAAAAAAAAAAAAAAAAAAAAAAAAAAAAAAAAAAAAAAAAAAAAAAAAAAAAAAAAAAAAAAAAAAAAAAAAAAAAAAAAAAAAAAAAAAAAAAAAAAAAAAAAAAAAAAAAAAAAAAAAAAAAAAAAAAAAAAAAAAAAAAAAAAAAAAAAAAAAAAAAAAAAAAAAAAAAAAAAAAAAAAAAAAAAAAAAAAAAAAAAAAAAAAAAAAAAAAAAAAAAAAAAAAAAAAAAAAAAAAAAAAAAAAAAAAAAAAAAAAAAAAAAAAAAAAAAAAAAAAAAAAAAAAAAAAAAAAAAAAAAAAAAAAAAAAAAAAAAAAAAAAAAAAAAAAAAAAAAAAAAAAAAAAAAAAAAAAAAAAAAAAAAACwAAAAAAQABAAAIBQABrAgIADs=\"><title>Layer: output2 (output)\n",
       " shape = (1,)\n",
       " Keras class = Dense\n",
       " activation = sigmoid</title></image><text x=\"563.3333333333334\" y=\"57.0\" font-family=\"monospace\" font-size=\"12\" text-anchor=\"start\" alignment-baseline=\"central\">output2</text><line x1=\"400.0\" y1=\"109\" x2=\"266.6666666666667\" y2=\"82\" stroke=\"black\" stroke-width=\"2\" marker-end=\"url(#arrow)\"><title>Weights from shared-hidden to output1\n",
       " output1/kernel has shape (5, 1)\n",
       " output1/bias has shape (1,)</title></line><line x1=\"400.0\" y1=\"109\" x2=\"533.3333333333334\" y2=\"82\" stroke=\"black\" stroke-width=\"2\" marker-end=\"url(#arrow)\"><title>Weights from shared-hidden to output2\n",
       " output2/kernel has shape (5, 1)\n",
       " output2/bias has shape (1,)</title></line><rect x=\"299.0\" y=\"109\" width=\"202\" height=\"42\" style=\"fill:none;stroke:black;stroke-width:2\"/><image id=\"XOR2 Network_shared-hidden_10\" class=\"XOR2 Network_shared-hidden\" x=\"300.0\" y=\"110\" height=\"40\" width=\"200\" preserveAspectRatio=\"none\" href=\"data:image/gif;base64,R0lGODdhBQABAIcAAAAAtgAA0gAA4C0t/4mJ/wAAAAAAAAAAAAAAAAAAAAAAAAAAAAAAAAAAAAAAAAAAAAAAAAAAAAAAAAAAAAAAAAAAAAAAAAAAAAAAAAAAAAAAAAAAAAAAAAAAAAAAAAAAAAAAAAAAAAAAAAAAAAAAAAAAAAAAAAAAAAAAAAAAAAAAAAAAAAAAAAAAAAAAAAAAAAAAAAAAAAAAAAAAAAAAAAAAAAAAAAAAAAAAAAAAAAAAAAAAAAAAAAAAAAAAAAAAAAAAAAAAAAAAAAAAAAAAAAAAAAAAAAAAAAAAAAAAAAAAAAAAAAAAAAAAAAAAAAAAAAAAAAAAAAAAAAAAAAAAAAAAAAAAAAAAAAAAAAAAAAAAAAAAAAAAAAAAAAAAAAAAAAAAAAAAAAAAAAAAAAAAAAAAAAAAAAAAAAAAAAAAAAAAAAAAAAAAAAAAAAAAAAAAAAAAAAAAAAAAAAAAAAAAAAAAAAAAAAAAAAAAAAAAAAAAAAAAAAAAAAAAAAAAAAAAAAAAAAAAAAAAAAAAAAAAAAAAAAAAAAAAAAAAAAAAAAAAAAAAAAAAAAAAAAAAAAAAAAAAAAAAAAAAAAAAAAAAAAAAAAAAAAAAAAAAAAAAAAAAAAAAAAAAAAAAAAAAAAAAAAAAAAAAAAAAAAAAAAAAAAAAAAAAAAAAAAAAAAAAAAAAAAAAAAAAAAAAAAAAAAAAAAAAAAAAAAAAAAAAAAAAAAAAAAAAAAAAAAAAAAAAAAAAAAAAAAAAAAAAAAAAAAAAAAAAAAAAAAAAAAAAAAAAAAAAAAAAAAAAAAAAAAAAAAAAAAAAAAAAAAAAAAAAAAAAAAAAAAAAAAAAAAAAAAAAAAAAAAAAAAAAAAAAAAAAAAAAAAAAAAAAAAAAAAAAAAAAAAAAAAAAAAAAAAAAAAAAAAAAAAAAAAAAAAAAAAAAAAAAAAAAAAAAAAAAAAAAAAAAAAAAAAAAAAAAAAAAAAAAAAAAAAAAAAAAAAAAAAAAAAAAAAAAAAAAAAAAAAAAAAAAACwAAAAABQABAAAICAABDCAQQEBAADs=\"><title>Layer: shared-hidden (hidden)\n",
       " shape = (5,)\n",
       " Keras class = Dense\n",
       " activation = sigmoid</title></image><text x=\"505.0\" y=\"132.0\" font-family=\"monospace\" font-size=\"12\" text-anchor=\"start\" alignment-baseline=\"central\">shared-hidden</text><line x1=\"266.6666666666667\" y1=\"179\" x2=\"400.0\" y2=\"152\" stroke=\"black\" stroke-width=\"2\" marker-end=\"url(#arrow)\"><title>Weights from hidden1 to shared-hidden\n",
       " shared-hidden/kernel has shape (20, 5)\n",
       " shared-hidden/bias has shape (5,)</title></line><rect x=\"165.66666666666669\" y=\"179\" width=\"202\" height=\"27\" style=\"fill:none;stroke:black;stroke-width:2\"/><image id=\"XOR2 Network_hidden1_11\" class=\"XOR2 Network_hidden1\" x=\"166.66666666666669\" y=\"180\" height=\"25\" width=\"200\" preserveAspectRatio=\"none\" href=\"data:image/gif;base64,R0lGODdhCgABAIcAAAAA/wAAAAAAAAAAAAAAAAAAAAAAAAAAAAAAAAAAAAAAAAAAAAAAAAAAAAAAAAAAAAAAAAAAAAAAAAAAAAAAAAAAAAAAAAAAAAAAAAAAAAAAAAAAAAAAAAAAAAAAAAAAAAAAAAAAAAAAAAAAAAAAAAAAAAAAAAAAAAAAAAAAAAAAAAAAAAAAAAAAAAAAAAAAAAAAAAAAAAAAAAAAAAAAAAAAAAAAAAAAAAAAAAAAAAAAAAAAAAAAAAAAAAAAAAAAAAAAAAAAAAAAAAAAAAAAAAAAAAAAAAAAAAAAAAAAAAAAAAAAAAAAAAAAAAAAAAAAAAAAAAAAAAAAAAAAAAAAAAAAAAAAAAAAAAAAAAAAAAAAAAAAAAAAAAAAAAAAAAAAAAAAAAAAAAAAAAAAAAAAAAAAAAAAAAAAAAAAAAAAAAAAAAAAAAAAAAAAAAAAAAAAAAAAAAAAAAAAAAAAAAAAAAAAAAAAAAAAAAAAAAAAAAAAAAAAAAAAAAAAAAAAAAAAAAAAAAAAAAAAAAAAAAAAAAAAAAAAAAAAAAAAAAAAAAAAAAAAAAAAAAAAAAAAAAAAAAAAAAAAAAAAAAAAAAAAAAAAAAAAAAAAAAAAAAAAAAAAAAAAAAAAAAAAAAAAAAAAAAAAAAAAAAAAAAAAAAAAAAAAAAAAAAAAAAAAAAAAAAAAAAAAAAAAAAAAAAAAAAAAAAAAAAAAAAAAAAAAAAAAAAAAAAAAAAAAAAAAAAAAAAAAAAAAAAAAAAAAAAAAAAAAAAAAAAAAAAAAAAAAAAAAAAAAAAAAAAAAAAAAAAAAAAAAAAAAAAAAAAAAAAAAAAAAAAAAAAAAAAAAAAAAAAAAAAAAAAAAAAAAAAAAAAAAAAAAAAAAAAAAAAAAAAAAAAAAAAAAAAAAAAAAAAAAAAAAAAAAAAAAAAAAAAAAAAAAAAAAAAAAAAAAAAAAAAAAAAAAAAAAAAAAAAAAAAAAAAAAAAAAAAAAAAAAAAAAAAAAAAAAAAAAAAAAAAAAAAAAAAAAACwAAAAACgABAAAIBwABCBxIMCAAOw==\"><title>Layer: hidden1 (hidden)\n",
       " shape = (10,)\n",
       " Keras class = Dense\n",
       " activation = sigmoid</title></image><text x=\"371.6666666666667\" y=\"194.5\" font-family=\"monospace\" font-size=\"12\" text-anchor=\"start\" alignment-baseline=\"central\">hidden1</text><line x1=\"533.3333333333334\" y1=\"179\" x2=\"400.0\" y2=\"152\" stroke=\"black\" stroke-width=\"2\" marker-end=\"url(#arrow)\"><title>Weights from hidden2 to shared-hidden\n",
       " shared-hidden/kernel has shape (20, 5)\n",
       " shared-hidden/bias has shape (5,)</title></line><rect x=\"432.33333333333337\" y=\"179\" width=\"202\" height=\"27\" style=\"fill:none;stroke:black;stroke-width:2\"/><image id=\"XOR2 Network_hidden2_12\" class=\"XOR2 Network_hidden2\" x=\"433.33333333333337\" y=\"180\" height=\"25\" width=\"200\" preserveAspectRatio=\"none\" href=\"data:image/gif;base64,R0lGODdhCgABAIcAAAAA/wAAAAAAAAAAAAAAAAAAAAAAAAAAAAAAAAAAAAAAAAAAAAAAAAAAAAAAAAAAAAAAAAAAAAAAAAAAAAAAAAAAAAAAAAAAAAAAAAAAAAAAAAAAAAAAAAAAAAAAAAAAAAAAAAAAAAAAAAAAAAAAAAAAAAAAAAAAAAAAAAAAAAAAAAAAAAAAAAAAAAAAAAAAAAAAAAAAAAAAAAAAAAAAAAAAAAAAAAAAAAAAAAAAAAAAAAAAAAAAAAAAAAAAAAAAAAAAAAAAAAAAAAAAAAAAAAAAAAAAAAAAAAAAAAAAAAAAAAAAAAAAAAAAAAAAAAAAAAAAAAAAAAAAAAAAAAAAAAAAAAAAAAAAAAAAAAAAAAAAAAAAAAAAAAAAAAAAAAAAAAAAAAAAAAAAAAAAAAAAAAAAAAAAAAAAAAAAAAAAAAAAAAAAAAAAAAAAAAAAAAAAAAAAAAAAAAAAAAAAAAAAAAAAAAAAAAAAAAAAAAAAAAAAAAAAAAAAAAAAAAAAAAAAAAAAAAAAAAAAAAAAAAAAAAAAAAAAAAAAAAAAAAAAAAAAAAAAAAAAAAAAAAAAAAAAAAAAAAAAAAAAAAAAAAAAAAAAAAAAAAAAAAAAAAAAAAAAAAAAAAAAAAAAAAAAAAAAAAAAAAAAAAAAAAAAAAAAAAAAAAAAAAAAAAAAAAAAAAAAAAAAAAAAAAAAAAAAAAAAAAAAAAAAAAAAAAAAAAAAAAAAAAAAAAAAAAAAAAAAAAAAAAAAAAAAAAAAAAAAAAAAAAAAAAAAAAAAAAAAAAAAAAAAAAAAAAAAAAAAAAAAAAAAAAAAAAAAAAAAAAAAAAAAAAAAAAAAAAAAAAAAAAAAAAAAAAAAAAAAAAAAAAAAAAAAAAAAAAAAAAAAAAAAAAAAAAAAAAAAAAAAAAAAAAAAAAAAAAAAAAAAAAAAAAAAAAAAAAAAAAAAAAAAAAAAAAAAAAAAAAAAAAAAAAAAAAAAAAAAAAAAAAAAAAAAAAAAAAAAAAAAAAAAAAAAAAAAAAAAACwAAAAACgABAAAIBwABCBxIMCAAOw==\"><title>Layer: hidden2 (hidden)\n",
       " shape = (10,)\n",
       " Keras class = Dense\n",
       " activation = sigmoid</title></image><text x=\"638.3333333333334\" y=\"194.5\" font-family=\"monospace\" font-size=\"12\" text-anchor=\"start\" alignment-baseline=\"central\">hidden2</text><line x1=\"266.6666666666667\" y1=\"234\" x2=\"266.6666666666667\" y2=\"207\" stroke=\"black\" stroke-width=\"2\" marker-end=\"url(#arrow)\"><title>Weights from input1 to hidden1\n",
       " hidden1/kernel has shape (1, 10)\n",
       " hidden1/bias has shape (10,)</title></line><rect x=\"240.66666666666669\" y=\"234\" width=\"52\" height=\"52\" style=\"fill:none;stroke:black;stroke-width:2\"/><image id=\"XOR2 Network_input1_13\" class=\"XOR2 Network_input1\" x=\"241.66666666666669\" y=\"235\" height=\"50\" width=\"50\" preserveAspectRatio=\"none\" href=\"data:image/gif;base64,R0lGODdhAQABAIcAAP/9/QAAAAAAAAAAAAAAAAAAAAAAAAAAAAAAAAAAAAAAAAAAAAAAAAAAAAAAAAAAAAAAAAAAAAAAAAAAAAAAAAAAAAAAAAAAAAAAAAAAAAAAAAAAAAAAAAAAAAAAAAAAAAAAAAAAAAAAAAAAAAAAAAAAAAAAAAAAAAAAAAAAAAAAAAAAAAAAAAAAAAAAAAAAAAAAAAAAAAAAAAAAAAAAAAAAAAAAAAAAAAAAAAAAAAAAAAAAAAAAAAAAAAAAAAAAAAAAAAAAAAAAAAAAAAAAAAAAAAAAAAAAAAAAAAAAAAAAAAAAAAAAAAAAAAAAAAAAAAAAAAAAAAAAAAAAAAAAAAAAAAAAAAAAAAAAAAAAAAAAAAAAAAAAAAAAAAAAAAAAAAAAAAAAAAAAAAAAAAAAAAAAAAAAAAAAAAAAAAAAAAAAAAAAAAAAAAAAAAAAAAAAAAAAAAAAAAAAAAAAAAAAAAAAAAAAAAAAAAAAAAAAAAAAAAAAAAAAAAAAAAAAAAAAAAAAAAAAAAAAAAAAAAAAAAAAAAAAAAAAAAAAAAAAAAAAAAAAAAAAAAAAAAAAAAAAAAAAAAAAAAAAAAAAAAAAAAAAAAAAAAAAAAAAAAAAAAAAAAAAAAAAAAAAAAAAAAAAAAAAAAAAAAAAAAAAAAAAAAAAAAAAAAAAAAAAAAAAAAAAAAAAAAAAAAAAAAAAAAAAAAAAAAAAAAAAAAAAAAAAAAAAAAAAAAAAAAAAAAAAAAAAAAAAAAAAAAAAAAAAAAAAAAAAAAAAAAAAAAAAAAAAAAAAAAAAAAAAAAAAAAAAAAAAAAAAAAAAAAAAAAAAAAAAAAAAAAAAAAAAAAAAAAAAAAAAAAAAAAAAAAAAAAAAAAAAAAAAAAAAAAAAAAAAAAAAAAAAAAAAAAAAAAAAAAAAAAAAAAAAAAAAAAAAAAAAAAAAAAAAAAAAAAAAAAAAAAAAAAAAAAAAAAAAAAAAAAAAAAAAAAAAAAAAAAAAAAAAAAAAAAAAAAAAAAAAAAAAAAAAACwAAAAAAQABAAAIBQABrAgIADs=\"><title>Layer: input1 (input)\n",
       " shape = (1,)\n",
       " Keras class = Input</title></image><text x=\"296.6666666666667\" y=\"262.0\" font-family=\"monospace\" font-size=\"12\" text-anchor=\"start\" alignment-baseline=\"central\">input1</text><line x1=\"533.3333333333334\" y1=\"234\" x2=\"533.3333333333334\" y2=\"207\" stroke=\"black\" stroke-width=\"2\" marker-end=\"url(#arrow)\"><title>Weights from input2 to hidden2\n",
       " hidden2/kernel has shape (1, 10)\n",
       " hidden2/bias has shape (10,)</title></line><rect x=\"507.33333333333337\" y=\"234\" width=\"52\" height=\"52\" style=\"fill:none;stroke:black;stroke-width:2\"/><image id=\"XOR2 Network_input2_14\" class=\"XOR2 Network_input2\" x=\"508.33333333333337\" y=\"235\" height=\"50\" width=\"50\" preserveAspectRatio=\"none\" href=\"data:image/gif;base64,R0lGODdhAQABAIcAAP/9/QAAAAAAAAAAAAAAAAAAAAAAAAAAAAAAAAAAAAAAAAAAAAAAAAAAAAAAAAAAAAAAAAAAAAAAAAAAAAAAAAAAAAAAAAAAAAAAAAAAAAAAAAAAAAAAAAAAAAAAAAAAAAAAAAAAAAAAAAAAAAAAAAAAAAAAAAAAAAAAAAAAAAAAAAAAAAAAAAAAAAAAAAAAAAAAAAAAAAAAAAAAAAAAAAAAAAAAAAAAAAAAAAAAAAAAAAAAAAAAAAAAAAAAAAAAAAAAAAAAAAAAAAAAAAAAAAAAAAAAAAAAAAAAAAAAAAAAAAAAAAAAAAAAAAAAAAAAAAAAAAAAAAAAAAAAAAAAAAAAAAAAAAAAAAAAAAAAAAAAAAAAAAAAAAAAAAAAAAAAAAAAAAAAAAAAAAAAAAAAAAAAAAAAAAAAAAAAAAAAAAAAAAAAAAAAAAAAAAAAAAAAAAAAAAAAAAAAAAAAAAAAAAAAAAAAAAAAAAAAAAAAAAAAAAAAAAAAAAAAAAAAAAAAAAAAAAAAAAAAAAAAAAAAAAAAAAAAAAAAAAAAAAAAAAAAAAAAAAAAAAAAAAAAAAAAAAAAAAAAAAAAAAAAAAAAAAAAAAAAAAAAAAAAAAAAAAAAAAAAAAAAAAAAAAAAAAAAAAAAAAAAAAAAAAAAAAAAAAAAAAAAAAAAAAAAAAAAAAAAAAAAAAAAAAAAAAAAAAAAAAAAAAAAAAAAAAAAAAAAAAAAAAAAAAAAAAAAAAAAAAAAAAAAAAAAAAAAAAAAAAAAAAAAAAAAAAAAAAAAAAAAAAAAAAAAAAAAAAAAAAAAAAAAAAAAAAAAAAAAAAAAAAAAAAAAAAAAAAAAAAAAAAAAAAAAAAAAAAAAAAAAAAAAAAAAAAAAAAAAAAAAAAAAAAAAAAAAAAAAAAAAAAAAAAAAAAAAAAAAAAAAAAAAAAAAAAAAAAAAAAAAAAAAAAAAAAAAAAAAAAAAAAAAAAAAAAAAAAAAAAAAAAAAAAAAAAAAAAAAAAAAAAAAAAAAAAAAAAAAACwAAAAAAQABAAAIBQABrAgIADs=\"><title>Layer: input2 (input)\n",
       " shape = (1,)\n",
       " Keras class = Input</title></image><text x=\"563.3333333333334\" y=\"262.0\" font-family=\"monospace\" font-size=\"12\" text-anchor=\"start\" alignment-baseline=\"central\">input2</text></svg>"
      ],
      "text/plain": [
       "<Network name='XOR2 Network' (compiled)>"
      ]
     },
     "execution_count": 33,
     "metadata": {},
     "output_type": "execute_result"
    }
   ],
   "source": [
    "net"
   ]
  },
  {
   "cell_type": "code",
   "execution_count": 34,
   "metadata": {},
   "outputs": [
    {
     "data": {
      "image/svg+xml": [
       "<svg height=\"288pt\" version=\"1.1\" viewBox=\"0 0 432 288\" width=\"432pt\" xmlns=\"http://www.w3.org/2000/svg\" xmlns:xlink=\"http://www.w3.org/1999/xlink\">\n",
       " <defs>\n",
       "  <style type=\"text/css\">\n",
       "*{stroke-linecap:butt;stroke-linejoin:round;}\n",
       "  </style>\n",
       " </defs>\n",
       " <g id=\"figure_1\">\n",
       "  <g id=\"patch_1\">\n",
       "   <path d=\"M 0 288  L 432 288  L 432 0  L 0 0  z \" style=\"fill:#ffffff;\"/>\n",
       "  </g>\n",
       "  <g id=\"axes_1\">\n",
       "   <g id=\"patch_2\">\n",
       "    <path d=\"M 54 252  L 388.8 252  L 388.8 34.56  L 54 34.56  z \" style=\"fill:#ffffff;\"/>\n",
       "   </g>\n",
       "   <g id=\"matplotlib.axis_1\">\n",
       "    <g id=\"xtick_1\">\n",
       "     <g id=\"line2d_1\">\n",
       "      <defs>\n",
       "       <path d=\"M 0 0  L 0 3.5  \" id=\"ma9c87c951f\" style=\"stroke:#000000;stroke-width:0.8;\"/>\n",
       "      </defs>\n",
       "      <g>\n",
       "       <use style=\"stroke:#000000;stroke-width:0.8;\" x=\"69.218182\" xlink:href=\"#ma9c87c951f\" y=\"252\"/>\n",
       "      </g>\n",
       "     </g>\n",
       "     <g id=\"text_1\">\n",
       "      <!-- 0 -->\n",
       "      <defs>\n",
       "       <path d=\"M 31.78125 66.40625  Q 24.171875 66.40625 20.328125 58.90625  Q 16.5 51.421875 16.5 36.375  Q 16.5 21.390625 20.328125 13.890625  Q 24.171875 6.390625 31.78125 6.390625  Q 39.453125 6.390625 43.28125 13.890625  Q 47.125 21.390625 47.125 36.375  Q 47.125 51.421875 43.28125 58.90625  Q 39.453125 66.40625 31.78125 66.40625  z M 31.78125 74.21875  Q 44.046875 74.21875 50.515625 64.515625  Q 56.984375 54.828125 56.984375 36.375  Q 56.984375 17.96875 50.515625 8.265625  Q 44.046875 -1.421875 31.78125 -1.421875  Q 19.53125 -1.421875 13.0625 8.265625  Q 6.59375 17.96875 6.59375 36.375  Q 6.59375 54.828125 13.0625 64.515625  Q 19.53125 74.21875 31.78125 74.21875  z \" id=\"DejaVuSans-30\"/>\n",
       "      </defs>\n",
       "      <g transform=\"translate(66.036932 266.598437)scale(0.1 -0.1)\">\n",
       "       <use xlink:href=\"#DejaVuSans-30\"/>\n",
       "      </g>\n",
       "     </g>\n",
       "    </g>\n",
       "    <g id=\"xtick_2\">\n",
       "     <g id=\"line2d_2\">\n",
       "      <g>\n",
       "       <use style=\"stroke:#000000;stroke-width:0.8;\" x=\"107.263636\" xlink:href=\"#ma9c87c951f\" y=\"252\"/>\n",
       "      </g>\n",
       "     </g>\n",
       "     <g id=\"text_2\">\n",
       "      <!-- 250 -->\n",
       "      <defs>\n",
       "       <path d=\"M 19.1875 8.296875  L 53.609375 8.296875  L 53.609375 0  L 7.328125 0  L 7.328125 8.296875  Q 12.9375 14.109375 22.625 23.890625  Q 32.328125 33.6875 34.8125 36.53125  Q 39.546875 41.84375 41.421875 45.53125  Q 43.3125 49.21875 43.3125 52.78125  Q 43.3125 58.59375 39.234375 62.25  Q 35.15625 65.921875 28.609375 65.921875  Q 23.96875 65.921875 18.8125 64.3125  Q 13.671875 62.703125 7.8125 59.421875  L 7.8125 69.390625  Q 13.765625 71.78125 18.9375 73  Q 24.125 74.21875 28.421875 74.21875  Q 39.75 74.21875 46.484375 68.546875  Q 53.21875 62.890625 53.21875 53.421875  Q 53.21875 48.921875 51.53125 44.890625  Q 49.859375 40.875 45.40625 35.40625  Q 44.1875 33.984375 37.640625 27.21875  Q 31.109375 20.453125 19.1875 8.296875  z \" id=\"DejaVuSans-32\"/>\n",
       "       <path d=\"M 10.796875 72.90625  L 49.515625 72.90625  L 49.515625 64.59375  L 19.828125 64.59375  L 19.828125 46.734375  Q 21.96875 47.46875 24.109375 47.828125  Q 26.265625 48.1875 28.421875 48.1875  Q 40.625 48.1875 47.75 41.5  Q 54.890625 34.8125 54.890625 23.390625  Q 54.890625 11.625 47.5625 5.09375  Q 40.234375 -1.421875 26.90625 -1.421875  Q 22.3125 -1.421875 17.546875 -0.640625  Q 12.796875 0.140625 7.71875 1.703125  L 7.71875 11.625  Q 12.109375 9.234375 16.796875 8.0625  Q 21.484375 6.890625 26.703125 6.890625  Q 35.15625 6.890625 40.078125 11.328125  Q 45.015625 15.765625 45.015625 23.390625  Q 45.015625 31 40.078125 35.4375  Q 35.15625 39.890625 26.703125 39.890625  Q 22.75 39.890625 18.8125 39.015625  Q 14.890625 38.140625 10.796875 36.28125  z \" id=\"DejaVuSans-35\"/>\n",
       "      </defs>\n",
       "      <g transform=\"translate(97.719886 266.598437)scale(0.1 -0.1)\">\n",
       "       <use xlink:href=\"#DejaVuSans-32\"/>\n",
       "       <use x=\"63.623047\" xlink:href=\"#DejaVuSans-35\"/>\n",
       "       <use x=\"127.246094\" xlink:href=\"#DejaVuSans-30\"/>\n",
       "      </g>\n",
       "     </g>\n",
       "    </g>\n",
       "    <g id=\"xtick_3\">\n",
       "     <g id=\"line2d_3\">\n",
       "      <g>\n",
       "       <use style=\"stroke:#000000;stroke-width:0.8;\" x=\"145.309091\" xlink:href=\"#ma9c87c951f\" y=\"252\"/>\n",
       "      </g>\n",
       "     </g>\n",
       "     <g id=\"text_3\">\n",
       "      <!-- 500 -->\n",
       "      <g transform=\"translate(135.765341 266.598437)scale(0.1 -0.1)\">\n",
       "       <use xlink:href=\"#DejaVuSans-35\"/>\n",
       "       <use x=\"63.623047\" xlink:href=\"#DejaVuSans-30\"/>\n",
       "       <use x=\"127.246094\" xlink:href=\"#DejaVuSans-30\"/>\n",
       "      </g>\n",
       "     </g>\n",
       "    </g>\n",
       "    <g id=\"xtick_4\">\n",
       "     <g id=\"line2d_4\">\n",
       "      <g>\n",
       "       <use style=\"stroke:#000000;stroke-width:0.8;\" x=\"183.354545\" xlink:href=\"#ma9c87c951f\" y=\"252\"/>\n",
       "      </g>\n",
       "     </g>\n",
       "     <g id=\"text_4\">\n",
       "      <!-- 750 -->\n",
       "      <defs>\n",
       "       <path d=\"M 8.203125 72.90625  L 55.078125 72.90625  L 55.078125 68.703125  L 28.609375 0  L 18.3125 0  L 43.21875 64.59375  L 8.203125 64.59375  z \" id=\"DejaVuSans-37\"/>\n",
       "      </defs>\n",
       "      <g transform=\"translate(173.810795 266.598437)scale(0.1 -0.1)\">\n",
       "       <use xlink:href=\"#DejaVuSans-37\"/>\n",
       "       <use x=\"63.623047\" xlink:href=\"#DejaVuSans-35\"/>\n",
       "       <use x=\"127.246094\" xlink:href=\"#DejaVuSans-30\"/>\n",
       "      </g>\n",
       "     </g>\n",
       "    </g>\n",
       "    <g id=\"xtick_5\">\n",
       "     <g id=\"line2d_5\">\n",
       "      <g>\n",
       "       <use style=\"stroke:#000000;stroke-width:0.8;\" x=\"221.4\" xlink:href=\"#ma9c87c951f\" y=\"252\"/>\n",
       "      </g>\n",
       "     </g>\n",
       "     <g id=\"text_5\">\n",
       "      <!-- 1000 -->\n",
       "      <defs>\n",
       "       <path d=\"M 12.40625 8.296875  L 28.515625 8.296875  L 28.515625 63.921875  L 10.984375 60.40625  L 10.984375 69.390625  L 28.421875 72.90625  L 38.28125 72.90625  L 38.28125 8.296875  L 54.390625 8.296875  L 54.390625 0  L 12.40625 0  z \" id=\"DejaVuSans-31\"/>\n",
       "      </defs>\n",
       "      <g transform=\"translate(208.675 266.598437)scale(0.1 -0.1)\">\n",
       "       <use xlink:href=\"#DejaVuSans-31\"/>\n",
       "       <use x=\"63.623047\" xlink:href=\"#DejaVuSans-30\"/>\n",
       "       <use x=\"127.246094\" xlink:href=\"#DejaVuSans-30\"/>\n",
       "       <use x=\"190.869141\" xlink:href=\"#DejaVuSans-30\"/>\n",
       "      </g>\n",
       "     </g>\n",
       "    </g>\n",
       "    <g id=\"xtick_6\">\n",
       "     <g id=\"line2d_6\">\n",
       "      <g>\n",
       "       <use style=\"stroke:#000000;stroke-width:0.8;\" x=\"259.445455\" xlink:href=\"#ma9c87c951f\" y=\"252\"/>\n",
       "      </g>\n",
       "     </g>\n",
       "     <g id=\"text_6\">\n",
       "      <!-- 1250 -->\n",
       "      <g transform=\"translate(246.720455 266.598437)scale(0.1 -0.1)\">\n",
       "       <use xlink:href=\"#DejaVuSans-31\"/>\n",
       "       <use x=\"63.623047\" xlink:href=\"#DejaVuSans-32\"/>\n",
       "       <use x=\"127.246094\" xlink:href=\"#DejaVuSans-35\"/>\n",
       "       <use x=\"190.869141\" xlink:href=\"#DejaVuSans-30\"/>\n",
       "      </g>\n",
       "     </g>\n",
       "    </g>\n",
       "    <g id=\"xtick_7\">\n",
       "     <g id=\"line2d_7\">\n",
       "      <g>\n",
       "       <use style=\"stroke:#000000;stroke-width:0.8;\" x=\"297.490909\" xlink:href=\"#ma9c87c951f\" y=\"252\"/>\n",
       "      </g>\n",
       "     </g>\n",
       "     <g id=\"text_7\">\n",
       "      <!-- 1500 -->\n",
       "      <g transform=\"translate(284.765909 266.598437)scale(0.1 -0.1)\">\n",
       "       <use xlink:href=\"#DejaVuSans-31\"/>\n",
       "       <use x=\"63.623047\" xlink:href=\"#DejaVuSans-35\"/>\n",
       "       <use x=\"127.246094\" xlink:href=\"#DejaVuSans-30\"/>\n",
       "       <use x=\"190.869141\" xlink:href=\"#DejaVuSans-30\"/>\n",
       "      </g>\n",
       "     </g>\n",
       "    </g>\n",
       "    <g id=\"xtick_8\">\n",
       "     <g id=\"line2d_8\">\n",
       "      <g>\n",
       "       <use style=\"stroke:#000000;stroke-width:0.8;\" x=\"335.536364\" xlink:href=\"#ma9c87c951f\" y=\"252\"/>\n",
       "      </g>\n",
       "     </g>\n",
       "     <g id=\"text_8\">\n",
       "      <!-- 1750 -->\n",
       "      <g transform=\"translate(322.811364 266.598437)scale(0.1 -0.1)\">\n",
       "       <use xlink:href=\"#DejaVuSans-31\"/>\n",
       "       <use x=\"63.623047\" xlink:href=\"#DejaVuSans-37\"/>\n",
       "       <use x=\"127.246094\" xlink:href=\"#DejaVuSans-35\"/>\n",
       "       <use x=\"190.869141\" xlink:href=\"#DejaVuSans-30\"/>\n",
       "      </g>\n",
       "     </g>\n",
       "    </g>\n",
       "    <g id=\"xtick_9\">\n",
       "     <g id=\"line2d_9\">\n",
       "      <g>\n",
       "       <use style=\"stroke:#000000;stroke-width:0.8;\" x=\"373.581818\" xlink:href=\"#ma9c87c951f\" y=\"252\"/>\n",
       "      </g>\n",
       "     </g>\n",
       "     <g id=\"text_9\">\n",
       "      <!-- 2000 -->\n",
       "      <g transform=\"translate(360.856818 266.598437)scale(0.1 -0.1)\">\n",
       "       <use xlink:href=\"#DejaVuSans-32\"/>\n",
       "       <use x=\"63.623047\" xlink:href=\"#DejaVuSans-30\"/>\n",
       "       <use x=\"127.246094\" xlink:href=\"#DejaVuSans-30\"/>\n",
       "       <use x=\"190.869141\" xlink:href=\"#DejaVuSans-30\"/>\n",
       "      </g>\n",
       "     </g>\n",
       "    </g>\n",
       "    <g id=\"text_10\">\n",
       "     <!-- Epoch -->\n",
       "     <defs>\n",
       "      <path d=\"M 9.8125 72.90625  L 55.90625 72.90625  L 55.90625 64.59375  L 19.671875 64.59375  L 19.671875 43.015625  L 54.390625 43.015625  L 54.390625 34.71875  L 19.671875 34.71875  L 19.671875 8.296875  L 56.78125 8.296875  L 56.78125 0  L 9.8125 0  z \" id=\"DejaVuSans-45\"/>\n",
       "      <path d=\"M 18.109375 8.203125  L 18.109375 -20.796875  L 9.078125 -20.796875  L 9.078125 54.6875  L 18.109375 54.6875  L 18.109375 46.390625  Q 20.953125 51.265625 25.265625 53.625  Q 29.59375 56 35.59375 56  Q 45.5625 56 51.78125 48.09375  Q 58.015625 40.1875 58.015625 27.296875  Q 58.015625 14.40625 51.78125 6.484375  Q 45.5625 -1.421875 35.59375 -1.421875  Q 29.59375 -1.421875 25.265625 0.953125  Q 20.953125 3.328125 18.109375 8.203125  z M 48.6875 27.296875  Q 48.6875 37.203125 44.609375 42.84375  Q 40.53125 48.484375 33.40625 48.484375  Q 26.265625 48.484375 22.1875 42.84375  Q 18.109375 37.203125 18.109375 27.296875  Q 18.109375 17.390625 22.1875 11.75  Q 26.265625 6.109375 33.40625 6.109375  Q 40.53125 6.109375 44.609375 11.75  Q 48.6875 17.390625 48.6875 27.296875  z \" id=\"DejaVuSans-70\"/>\n",
       "      <path d=\"M 30.609375 48.390625  Q 23.390625 48.390625 19.1875 42.75  Q 14.984375 37.109375 14.984375 27.296875  Q 14.984375 17.484375 19.15625 11.84375  Q 23.34375 6.203125 30.609375 6.203125  Q 37.796875 6.203125 41.984375 11.859375  Q 46.1875 17.53125 46.1875 27.296875  Q 46.1875 37.015625 41.984375 42.703125  Q 37.796875 48.390625 30.609375 48.390625  z M 30.609375 56  Q 42.328125 56 49.015625 48.375  Q 55.71875 40.765625 55.71875 27.296875  Q 55.71875 13.875 49.015625 6.21875  Q 42.328125 -1.421875 30.609375 -1.421875  Q 18.84375 -1.421875 12.171875 6.21875  Q 5.515625 13.875 5.515625 27.296875  Q 5.515625 40.765625 12.171875 48.375  Q 18.84375 56 30.609375 56  z \" id=\"DejaVuSans-6f\"/>\n",
       "      <path d=\"M 48.78125 52.59375  L 48.78125 44.1875  Q 44.96875 46.296875 41.140625 47.34375  Q 37.3125 48.390625 33.40625 48.390625  Q 24.65625 48.390625 19.8125 42.84375  Q 14.984375 37.3125 14.984375 27.296875  Q 14.984375 17.28125 19.8125 11.734375  Q 24.65625 6.203125 33.40625 6.203125  Q 37.3125 6.203125 41.140625 7.25  Q 44.96875 8.296875 48.78125 10.40625  L 48.78125 2.09375  Q 45.015625 0.34375 40.984375 -0.53125  Q 36.96875 -1.421875 32.421875 -1.421875  Q 20.0625 -1.421875 12.78125 6.34375  Q 5.515625 14.109375 5.515625 27.296875  Q 5.515625 40.671875 12.859375 48.328125  Q 20.21875 56 33.015625 56  Q 37.15625 56 41.109375 55.140625  Q 45.0625 54.296875 48.78125 52.59375  z \" id=\"DejaVuSans-63\"/>\n",
       "      <path d=\"M 54.890625 33.015625  L 54.890625 0  L 45.90625 0  L 45.90625 32.71875  Q 45.90625 40.484375 42.875 44.328125  Q 39.84375 48.1875 33.796875 48.1875  Q 26.515625 48.1875 22.3125 43.546875  Q 18.109375 38.921875 18.109375 30.90625  L 18.109375 0  L 9.078125 0  L 9.078125 75.984375  L 18.109375 75.984375  L 18.109375 46.1875  Q 21.34375 51.125 25.703125 53.5625  Q 30.078125 56 35.796875 56  Q 45.21875 56 50.046875 50.171875  Q 54.890625 44.34375 54.890625 33.015625  z \" id=\"DejaVuSans-68\"/>\n",
       "     </defs>\n",
       "     <g transform=\"translate(206.089063 280.276563)scale(0.1 -0.1)\">\n",
       "      <use xlink:href=\"#DejaVuSans-45\"/>\n",
       "      <use x=\"63.183594\" xlink:href=\"#DejaVuSans-70\"/>\n",
       "      <use x=\"126.660156\" xlink:href=\"#DejaVuSans-6f\"/>\n",
       "      <use x=\"187.841797\" xlink:href=\"#DejaVuSans-63\"/>\n",
       "      <use x=\"242.822266\" xlink:href=\"#DejaVuSans-68\"/>\n",
       "     </g>\n",
       "    </g>\n",
       "   </g>\n",
       "   <g id=\"matplotlib.axis_2\">\n",
       "    <g id=\"ytick_1\">\n",
       "     <g id=\"line2d_10\">\n",
       "      <defs>\n",
       "       <path d=\"M 0 0  L -3.5 0  \" id=\"m9f88c38208\" style=\"stroke:#000000;stroke-width:0.8;\"/>\n",
       "      </defs>\n",
       "      <g>\n",
       "       <use style=\"stroke:#000000;stroke-width:0.8;\" x=\"54\" xlink:href=\"#m9f88c38208\" y=\"252\"/>\n",
       "      </g>\n",
       "     </g>\n",
       "     <g id=\"text_11\">\n",
       "      <!-- 0.0 -->\n",
       "      <defs>\n",
       "       <path d=\"M 10.6875 12.40625  L 21 12.40625  L 21 0  L 10.6875 0  z \" id=\"DejaVuSans-2e\"/>\n",
       "      </defs>\n",
       "      <g transform=\"translate(31.096875 255.799219)scale(0.1 -0.1)\">\n",
       "       <use xlink:href=\"#DejaVuSans-30\"/>\n",
       "       <use x=\"63.623047\" xlink:href=\"#DejaVuSans-2e\"/>\n",
       "       <use x=\"95.410156\" xlink:href=\"#DejaVuSans-30\"/>\n",
       "      </g>\n",
       "     </g>\n",
       "    </g>\n",
       "    <g id=\"ytick_2\">\n",
       "     <g id=\"line2d_11\">\n",
       "      <g>\n",
       "       <use style=\"stroke:#000000;stroke-width:0.8;\" x=\"54\" xlink:href=\"#m9f88c38208\" y=\"213.136992\"/>\n",
       "      </g>\n",
       "     </g>\n",
       "     <g id=\"text_12\">\n",
       "      <!-- 0.1 -->\n",
       "      <g transform=\"translate(31.096875 216.936211)scale(0.1 -0.1)\">\n",
       "       <use xlink:href=\"#DejaVuSans-30\"/>\n",
       "       <use x=\"63.623047\" xlink:href=\"#DejaVuSans-2e\"/>\n",
       "       <use x=\"95.410156\" xlink:href=\"#DejaVuSans-31\"/>\n",
       "      </g>\n",
       "     </g>\n",
       "    </g>\n",
       "    <g id=\"ytick_3\">\n",
       "     <g id=\"line2d_12\">\n",
       "      <g>\n",
       "       <use style=\"stroke:#000000;stroke-width:0.8;\" x=\"54\" xlink:href=\"#m9f88c38208\" y=\"174.273985\"/>\n",
       "      </g>\n",
       "     </g>\n",
       "     <g id=\"text_13\">\n",
       "      <!-- 0.2 -->\n",
       "      <g transform=\"translate(31.096875 178.073203)scale(0.1 -0.1)\">\n",
       "       <use xlink:href=\"#DejaVuSans-30\"/>\n",
       "       <use x=\"63.623047\" xlink:href=\"#DejaVuSans-2e\"/>\n",
       "       <use x=\"95.410156\" xlink:href=\"#DejaVuSans-32\"/>\n",
       "      </g>\n",
       "     </g>\n",
       "    </g>\n",
       "    <g id=\"ytick_4\">\n",
       "     <g id=\"line2d_13\">\n",
       "      <g>\n",
       "       <use style=\"stroke:#000000;stroke-width:0.8;\" x=\"54\" xlink:href=\"#m9f88c38208\" y=\"135.410977\"/>\n",
       "      </g>\n",
       "     </g>\n",
       "     <g id=\"text_14\">\n",
       "      <!-- 0.3 -->\n",
       "      <defs>\n",
       "       <path d=\"M 40.578125 39.3125  Q 47.65625 37.796875 51.625 33  Q 55.609375 28.21875 55.609375 21.1875  Q 55.609375 10.40625 48.1875 4.484375  Q 40.765625 -1.421875 27.09375 -1.421875  Q 22.515625 -1.421875 17.65625 -0.515625  Q 12.796875 0.390625 7.625 2.203125  L 7.625 11.71875  Q 11.71875 9.328125 16.59375 8.109375  Q 21.484375 6.890625 26.8125 6.890625  Q 36.078125 6.890625 40.9375 10.546875  Q 45.796875 14.203125 45.796875 21.1875  Q 45.796875 27.640625 41.28125 31.265625  Q 36.765625 34.90625 28.71875 34.90625  L 20.21875 34.90625  L 20.21875 43.015625  L 29.109375 43.015625  Q 36.375 43.015625 40.234375 45.921875  Q 44.09375 48.828125 44.09375 54.296875  Q 44.09375 59.90625 40.109375 62.90625  Q 36.140625 65.921875 28.71875 65.921875  Q 24.65625 65.921875 20.015625 65.03125  Q 15.375 64.15625 9.8125 62.3125  L 9.8125 71.09375  Q 15.4375 72.65625 20.34375 73.4375  Q 25.25 74.21875 29.59375 74.21875  Q 40.828125 74.21875 47.359375 69.109375  Q 53.90625 64.015625 53.90625 55.328125  Q 53.90625 49.265625 50.4375 45.09375  Q 46.96875 40.921875 40.578125 39.3125  z \" id=\"DejaVuSans-33\"/>\n",
       "      </defs>\n",
       "      <g transform=\"translate(31.096875 139.210196)scale(0.1 -0.1)\">\n",
       "       <use xlink:href=\"#DejaVuSans-30\"/>\n",
       "       <use x=\"63.623047\" xlink:href=\"#DejaVuSans-2e\"/>\n",
       "       <use x=\"95.410156\" xlink:href=\"#DejaVuSans-33\"/>\n",
       "      </g>\n",
       "     </g>\n",
       "    </g>\n",
       "    <g id=\"ytick_5\">\n",
       "     <g id=\"line2d_14\">\n",
       "      <g>\n",
       "       <use style=\"stroke:#000000;stroke-width:0.8;\" x=\"54\" xlink:href=\"#m9f88c38208\" y=\"96.547969\"/>\n",
       "      </g>\n",
       "     </g>\n",
       "     <g id=\"text_15\">\n",
       "      <!-- 0.4 -->\n",
       "      <defs>\n",
       "       <path d=\"M 37.796875 64.3125  L 12.890625 25.390625  L 37.796875 25.390625  z M 35.203125 72.90625  L 47.609375 72.90625  L 47.609375 25.390625  L 58.015625 25.390625  L 58.015625 17.1875  L 47.609375 17.1875  L 47.609375 0  L 37.796875 0  L 37.796875 17.1875  L 4.890625 17.1875  L 4.890625 26.703125  z \" id=\"DejaVuSans-34\"/>\n",
       "      </defs>\n",
       "      <g transform=\"translate(31.096875 100.347188)scale(0.1 -0.1)\">\n",
       "       <use xlink:href=\"#DejaVuSans-30\"/>\n",
       "       <use x=\"63.623047\" xlink:href=\"#DejaVuSans-2e\"/>\n",
       "       <use x=\"95.410156\" xlink:href=\"#DejaVuSans-34\"/>\n",
       "      </g>\n",
       "     </g>\n",
       "    </g>\n",
       "    <g id=\"ytick_6\">\n",
       "     <g id=\"line2d_15\">\n",
       "      <g>\n",
       "       <use style=\"stroke:#000000;stroke-width:0.8;\" x=\"54\" xlink:href=\"#m9f88c38208\" y=\"57.684961\"/>\n",
       "      </g>\n",
       "     </g>\n",
       "     <g id=\"text_16\">\n",
       "      <!-- 0.5 -->\n",
       "      <g transform=\"translate(31.096875 61.48418)scale(0.1 -0.1)\">\n",
       "       <use xlink:href=\"#DejaVuSans-30\"/>\n",
       "       <use x=\"63.623047\" xlink:href=\"#DejaVuSans-2e\"/>\n",
       "       <use x=\"95.410156\" xlink:href=\"#DejaVuSans-35\"/>\n",
       "      </g>\n",
       "     </g>\n",
       "    </g>\n",
       "   </g>\n",
       "   <g id=\"line2d_16\">\n",
       "    <path clip-path=\"url(#p127ff36042)\" d=\"M 69.218182 44.893412  L 69.370364 44.893412  L 69.674727 51.15934  L 69.979091 57.090314  L 70.131273 57.307756  L 70.74 53.116758  L 71.044364 55.109617  L 71.348727 57.014313  L 71.500909 57.197726  L 72.109636 56.259879  L 72.414 56.70433  L 72.718364 57.186608  L 73.022727 57.309563  L 73.783636 57.333607  L 75.457636 57.539954  L 85.197273 57.676715  L 172.549636 57.867171  L 187.159091 58.123633  L 194.616 58.456397  L 199.181455 58.863623  L 202.377273 59.357969  L 204.812182 59.958558  L 206.638364 60.629172  L 208.160182 61.418908  L 209.377636 62.27619  L 210.595091 63.422851  L 211.660364 64.758114  L 212.573455 66.238164  L 213.486545 68.125499  L 214.399636 70.533309  L 215.312727 73.586461  L 216.225818 77.398702  L 217.291091 82.880454  L 218.508545 90.367758  L 221.552182 111.184344  L 223.226182 123.416594  L 224.139273 131.643519  L 225.052364 141.96029  L 225.965455 154.948798  L 227.030727 173.468606  L 229.009091 208.99844  L 229.77 218.998025  L 230.530909 226.290892  L 231.291818 231.416728  L 232.052727 235.02925  L 232.813636 237.639618  L 233.726727 239.915847  L 234.639818 241.583976  L 235.705091 243.03191  L 236.770364 244.123952  L 238.14 245.185534  L 239.661818 246.069726  L 241.488 246.867946  L 243.770727 247.609401  L 246.662182 248.293623  L 250.314545 248.909736  L 255.032182 249.462838  L 261.271636 249.954848  L 269.793818 250.388481  L 281.968364 250.767261  L 300.078 251.089485  L 328.992545 251.359488  L 373.581818 251.561659  L 373.581818 251.561659  \" style=\"fill:none;stroke:#1f77b4;stroke-linecap:square;stroke-width:1.5;\"/>\n",
       "   </g>\n",
       "   <g id=\"patch_3\">\n",
       "    <path d=\"M 54 252  L 54 34.56  \" style=\"fill:none;stroke:#000000;stroke-linecap:square;stroke-linejoin:miter;stroke-width:0.8;\"/>\n",
       "   </g>\n",
       "   <g id=\"patch_4\">\n",
       "    <path d=\"M 388.8 252  L 388.8 34.56  \" style=\"fill:none;stroke:#000000;stroke-linecap:square;stroke-linejoin:miter;stroke-width:0.8;\"/>\n",
       "   </g>\n",
       "   <g id=\"patch_5\">\n",
       "    <path d=\"M 54 252  L 388.8 252  \" style=\"fill:none;stroke:#000000;stroke-linecap:square;stroke-linejoin:miter;stroke-width:0.8;\"/>\n",
       "   </g>\n",
       "   <g id=\"patch_6\">\n",
       "    <path d=\"M 54 34.56  L 388.8 34.56  \" style=\"fill:none;stroke:#000000;stroke-linecap:square;stroke-linejoin:miter;stroke-width:0.8;\"/>\n",
       "   </g>\n",
       "   <g id=\"text_17\">\n",
       "    <!-- XOR2 Network: Loss -->\n",
       "    <defs>\n",
       "     <path d=\"M 6.296875 72.90625  L 16.890625 72.90625  L 35.015625 45.796875  L 53.21875 72.90625  L 63.8125 72.90625  L 40.375 37.890625  L 65.375 0  L 54.78125 0  L 34.28125 31  L 13.625 0  L 2.984375 0  L 29 38.921875  z \" id=\"DejaVuSans-58\"/>\n",
       "     <path d=\"M 39.40625 66.21875  Q 28.65625 66.21875 22.328125 58.203125  Q 16.015625 50.203125 16.015625 36.375  Q 16.015625 22.609375 22.328125 14.59375  Q 28.65625 6.59375 39.40625 6.59375  Q 50.140625 6.59375 56.421875 14.59375  Q 62.703125 22.609375 62.703125 36.375  Q 62.703125 50.203125 56.421875 58.203125  Q 50.140625 66.21875 39.40625 66.21875  z M 39.40625 74.21875  Q 54.734375 74.21875 63.90625 63.9375  Q 73.09375 53.65625 73.09375 36.375  Q 73.09375 19.140625 63.90625 8.859375  Q 54.734375 -1.421875 39.40625 -1.421875  Q 24.03125 -1.421875 14.8125 8.828125  Q 5.609375 19.09375 5.609375 36.375  Q 5.609375 53.65625 14.8125 63.9375  Q 24.03125 74.21875 39.40625 74.21875  z \" id=\"DejaVuSans-4f\"/>\n",
       "     <path d=\"M 44.390625 34.1875  Q 47.5625 33.109375 50.5625 29.59375  Q 53.5625 26.078125 56.59375 19.921875  L 66.609375 0  L 56 0  L 46.6875 18.703125  Q 43.0625 26.03125 39.671875 28.421875  Q 36.28125 30.8125 30.421875 30.8125  L 19.671875 30.8125  L 19.671875 0  L 9.8125 0  L 9.8125 72.90625  L 32.078125 72.90625  Q 44.578125 72.90625 50.734375 67.671875  Q 56.890625 62.453125 56.890625 51.90625  Q 56.890625 45.015625 53.6875 40.46875  Q 50.484375 35.9375 44.390625 34.1875  z M 19.671875 64.796875  L 19.671875 38.921875  L 32.078125 38.921875  Q 39.203125 38.921875 42.84375 42.21875  Q 46.484375 45.515625 46.484375 51.90625  Q 46.484375 58.296875 42.84375 61.546875  Q 39.203125 64.796875 32.078125 64.796875  z \" id=\"DejaVuSans-52\"/>\n",
       "     <path id=\"DejaVuSans-20\"/>\n",
       "     <path d=\"M 9.8125 72.90625  L 23.09375 72.90625  L 55.421875 11.921875  L 55.421875 72.90625  L 64.984375 72.90625  L 64.984375 0  L 51.703125 0  L 19.390625 60.984375  L 19.390625 0  L 9.8125 0  z \" id=\"DejaVuSans-4e\"/>\n",
       "     <path d=\"M 56.203125 29.59375  L 56.203125 25.203125  L 14.890625 25.203125  Q 15.484375 15.921875 20.484375 11.0625  Q 25.484375 6.203125 34.421875 6.203125  Q 39.59375 6.203125 44.453125 7.46875  Q 49.3125 8.734375 54.109375 11.28125  L 54.109375 2.78125  Q 49.265625 0.734375 44.1875 -0.34375  Q 39.109375 -1.421875 33.890625 -1.421875  Q 20.796875 -1.421875 13.15625 6.1875  Q 5.515625 13.8125 5.515625 26.8125  Q 5.515625 40.234375 12.765625 48.109375  Q 20.015625 56 32.328125 56  Q 43.359375 56 49.78125 48.890625  Q 56.203125 41.796875 56.203125 29.59375  z M 47.21875 32.234375  Q 47.125 39.59375 43.09375 43.984375  Q 39.0625 48.390625 32.421875 48.390625  Q 24.90625 48.390625 20.390625 44.140625  Q 15.875 39.890625 15.1875 32.171875  z \" id=\"DejaVuSans-65\"/>\n",
       "     <path d=\"M 18.3125 70.21875  L 18.3125 54.6875  L 36.8125 54.6875  L 36.8125 47.703125  L 18.3125 47.703125  L 18.3125 18.015625  Q 18.3125 11.328125 20.140625 9.421875  Q 21.96875 7.515625 27.59375 7.515625  L 36.8125 7.515625  L 36.8125 0  L 27.59375 0  Q 17.1875 0 13.234375 3.875  Q 9.28125 7.765625 9.28125 18.015625  L 9.28125 47.703125  L 2.6875 47.703125  L 2.6875 54.6875  L 9.28125 54.6875  L 9.28125 70.21875  z \" id=\"DejaVuSans-74\"/>\n",
       "     <path d=\"M 4.203125 54.6875  L 13.1875 54.6875  L 24.421875 12.015625  L 35.59375 54.6875  L 46.1875 54.6875  L 57.421875 12.015625  L 68.609375 54.6875  L 77.59375 54.6875  L 63.28125 0  L 52.6875 0  L 40.921875 44.828125  L 29.109375 0  L 18.5 0  z \" id=\"DejaVuSans-77\"/>\n",
       "     <path d=\"M 41.109375 46.296875  Q 39.59375 47.171875 37.8125 47.578125  Q 36.03125 48 33.890625 48  Q 26.265625 48 22.1875 43.046875  Q 18.109375 38.09375 18.109375 28.8125  L 18.109375 0  L 9.078125 0  L 9.078125 54.6875  L 18.109375 54.6875  L 18.109375 46.1875  Q 20.953125 51.171875 25.484375 53.578125  Q 30.03125 56 36.53125 56  Q 37.453125 56 38.578125 55.875  Q 39.703125 55.765625 41.0625 55.515625  z \" id=\"DejaVuSans-72\"/>\n",
       "     <path d=\"M 9.078125 75.984375  L 18.109375 75.984375  L 18.109375 31.109375  L 44.921875 54.6875  L 56.390625 54.6875  L 27.390625 29.109375  L 57.625 0  L 45.90625 0  L 18.109375 26.703125  L 18.109375 0  L 9.078125 0  z \" id=\"DejaVuSans-6b\"/>\n",
       "     <path d=\"M 11.71875 12.40625  L 22.015625 12.40625  L 22.015625 0  L 11.71875 0  z M 11.71875 51.703125  L 22.015625 51.703125  L 22.015625 39.3125  L 11.71875 39.3125  z \" id=\"DejaVuSans-3a\"/>\n",
       "     <path d=\"M 9.8125 72.90625  L 19.671875 72.90625  L 19.671875 8.296875  L 55.171875 8.296875  L 55.171875 0  L 9.8125 0  z \" id=\"DejaVuSans-4c\"/>\n",
       "     <path d=\"M 44.28125 53.078125  L 44.28125 44.578125  Q 40.484375 46.53125 36.375 47.5  Q 32.28125 48.484375 27.875 48.484375  Q 21.1875 48.484375 17.84375 46.4375  Q 14.5 44.390625 14.5 40.28125  Q 14.5 37.15625 16.890625 35.375  Q 19.28125 33.59375 26.515625 31.984375  L 29.59375 31.296875  Q 39.15625 29.25 43.1875 25.515625  Q 47.21875 21.78125 47.21875 15.09375  Q 47.21875 7.46875 41.1875 3.015625  Q 35.15625 -1.421875 24.609375 -1.421875  Q 20.21875 -1.421875 15.453125 -0.5625  Q 10.6875 0.296875 5.421875 2  L 5.421875 11.28125  Q 10.40625 8.6875 15.234375 7.390625  Q 20.0625 6.109375 24.8125 6.109375  Q 31.15625 6.109375 34.5625 8.28125  Q 37.984375 10.453125 37.984375 14.40625  Q 37.984375 18.0625 35.515625 20.015625  Q 33.0625 21.96875 24.703125 23.78125  L 21.578125 24.515625  Q 13.234375 26.265625 9.515625 29.90625  Q 5.8125 33.546875 5.8125 39.890625  Q 5.8125 47.609375 11.28125 51.796875  Q 16.75 56 26.8125 56  Q 31.78125 56 36.171875 55.265625  Q 40.578125 54.546875 44.28125 53.078125  z \" id=\"DejaVuSans-73\"/>\n",
       "    </defs>\n",
       "    <g transform=\"translate(160.434375 28.56)scale(0.12 -0.12)\">\n",
       "     <use xlink:href=\"#DejaVuSans-58\"/>\n",
       "     <use x=\"68.412109\" xlink:href=\"#DejaVuSans-4f\"/>\n",
       "     <use x=\"147.123047\" xlink:href=\"#DejaVuSans-52\"/>\n",
       "     <use x=\"216.605469\" xlink:href=\"#DejaVuSans-32\"/>\n",
       "     <use x=\"280.228516\" xlink:href=\"#DejaVuSans-20\"/>\n",
       "     <use x=\"312.015625\" xlink:href=\"#DejaVuSans-4e\"/>\n",
       "     <use x=\"386.820312\" xlink:href=\"#DejaVuSans-65\"/>\n",
       "     <use x=\"448.34375\" xlink:href=\"#DejaVuSans-74\"/>\n",
       "     <use x=\"487.552734\" xlink:href=\"#DejaVuSans-77\"/>\n",
       "     <use x=\"569.339844\" xlink:href=\"#DejaVuSans-6f\"/>\n",
       "     <use x=\"630.521484\" xlink:href=\"#DejaVuSans-72\"/>\n",
       "     <use x=\"671.634766\" xlink:href=\"#DejaVuSans-6b\"/>\n",
       "     <use x=\"729.544922\" xlink:href=\"#DejaVuSans-3a\"/>\n",
       "     <use x=\"763.236328\" xlink:href=\"#DejaVuSans-20\"/>\n",
       "     <use x=\"795.023438\" xlink:href=\"#DejaVuSans-4c\"/>\n",
       "     <use x=\"850.720703\" xlink:href=\"#DejaVuSans-6f\"/>\n",
       "     <use x=\"911.902344\" xlink:href=\"#DejaVuSans-73\"/>\n",
       "     <use x=\"964.001953\" xlink:href=\"#DejaVuSans-73\"/>\n",
       "    </g>\n",
       "   </g>\n",
       "   <g id=\"legend_1\">\n",
       "    <g id=\"patch_7\">\n",
       "     <path d=\"M 290.434375 57.238125  L 381.8 57.238125  Q 383.8 57.238125 383.8 55.238125  L 383.8 41.56  Q 383.8 39.56 381.8 39.56  L 290.434375 39.56  Q 288.434375 39.56 288.434375 41.56  L 288.434375 55.238125  Q 288.434375 57.238125 290.434375 57.238125  z \" style=\"fill:#ffffff;opacity:0.8;stroke:#cccccc;stroke-linejoin:miter;\"/>\n",
       "    </g>\n",
       "    <g id=\"line2d_17\">\n",
       "     <path d=\"M 292.434375 47.658437  L 312.434375 47.658437  \" style=\"fill:none;stroke:#1f77b4;stroke-linecap:square;stroke-width:1.5;\"/>\n",
       "    </g>\n",
       "    <g id=\"line2d_18\"/>\n",
       "    <g id=\"text_18\">\n",
       "     <!-- Training set -->\n",
       "     <defs>\n",
       "      <path d=\"M -0.296875 72.90625  L 61.375 72.90625  L 61.375 64.59375  L 35.5 64.59375  L 35.5 0  L 25.59375 0  L 25.59375 64.59375  L -0.296875 64.59375  z \" id=\"DejaVuSans-54\"/>\n",
       "      <path d=\"M 34.28125 27.484375  Q 23.390625 27.484375 19.1875 25  Q 14.984375 22.515625 14.984375 16.5  Q 14.984375 11.71875 18.140625 8.90625  Q 21.296875 6.109375 26.703125 6.109375  Q 34.1875 6.109375 38.703125 11.40625  Q 43.21875 16.703125 43.21875 25.484375  L 43.21875 27.484375  z M 52.203125 31.203125  L 52.203125 0  L 43.21875 0  L 43.21875 8.296875  Q 40.140625 3.328125 35.546875 0.953125  Q 30.953125 -1.421875 24.3125 -1.421875  Q 15.921875 -1.421875 10.953125 3.296875  Q 6 8.015625 6 15.921875  Q 6 25.140625 12.171875 29.828125  Q 18.359375 34.515625 30.609375 34.515625  L 43.21875 34.515625  L 43.21875 35.40625  Q 43.21875 41.609375 39.140625 45  Q 35.0625 48.390625 27.6875 48.390625  Q 23 48.390625 18.546875 47.265625  Q 14.109375 46.140625 10.015625 43.890625  L 10.015625 52.203125  Q 14.9375 54.109375 19.578125 55.046875  Q 24.21875 56 28.609375 56  Q 40.484375 56 46.34375 49.84375  Q 52.203125 43.703125 52.203125 31.203125  z \" id=\"DejaVuSans-61\"/>\n",
       "      <path d=\"M 9.421875 54.6875  L 18.40625 54.6875  L 18.40625 0  L 9.421875 0  z M 9.421875 75.984375  L 18.40625 75.984375  L 18.40625 64.59375  L 9.421875 64.59375  z \" id=\"DejaVuSans-69\"/>\n",
       "      <path d=\"M 54.890625 33.015625  L 54.890625 0  L 45.90625 0  L 45.90625 32.71875  Q 45.90625 40.484375 42.875 44.328125  Q 39.84375 48.1875 33.796875 48.1875  Q 26.515625 48.1875 22.3125 43.546875  Q 18.109375 38.921875 18.109375 30.90625  L 18.109375 0  L 9.078125 0  L 9.078125 54.6875  L 18.109375 54.6875  L 18.109375 46.1875  Q 21.34375 51.125 25.703125 53.5625  Q 30.078125 56 35.796875 56  Q 45.21875 56 50.046875 50.171875  Q 54.890625 44.34375 54.890625 33.015625  z \" id=\"DejaVuSans-6e\"/>\n",
       "      <path d=\"M 45.40625 27.984375  Q 45.40625 37.75 41.375 43.109375  Q 37.359375 48.484375 30.078125 48.484375  Q 22.859375 48.484375 18.828125 43.109375  Q 14.796875 37.75 14.796875 27.984375  Q 14.796875 18.265625 18.828125 12.890625  Q 22.859375 7.515625 30.078125 7.515625  Q 37.359375 7.515625 41.375 12.890625  Q 45.40625 18.265625 45.40625 27.984375  z M 54.390625 6.78125  Q 54.390625 -7.171875 48.1875 -13.984375  Q 42 -20.796875 29.203125 -20.796875  Q 24.46875 -20.796875 20.265625 -20.09375  Q 16.0625 -19.390625 12.109375 -17.921875  L 12.109375 -9.1875  Q 16.0625 -11.328125 19.921875 -12.34375  Q 23.78125 -13.375 27.78125 -13.375  Q 36.625 -13.375 41.015625 -8.765625  Q 45.40625 -4.15625 45.40625 5.171875  L 45.40625 9.625  Q 42.625 4.78125 38.28125 2.390625  Q 33.9375 0 27.875 0  Q 17.828125 0 11.671875 7.65625  Q 5.515625 15.328125 5.515625 27.984375  Q 5.515625 40.671875 11.671875 48.328125  Q 17.828125 56 27.875 56  Q 33.9375 56 38.28125 53.609375  Q 42.625 51.21875 45.40625 46.390625  L 45.40625 54.6875  L 54.390625 54.6875  z \" id=\"DejaVuSans-67\"/>\n",
       "     </defs>\n",
       "     <g transform=\"translate(320.434375 51.158437)scale(0.1 -0.1)\">\n",
       "      <use xlink:href=\"#DejaVuSans-54\"/>\n",
       "      <use x=\"60.865234\" xlink:href=\"#DejaVuSans-72\"/>\n",
       "      <use x=\"101.978516\" xlink:href=\"#DejaVuSans-61\"/>\n",
       "      <use x=\"163.257812\" xlink:href=\"#DejaVuSans-69\"/>\n",
       "      <use x=\"191.041016\" xlink:href=\"#DejaVuSans-6e\"/>\n",
       "      <use x=\"254.419922\" xlink:href=\"#DejaVuSans-69\"/>\n",
       "      <use x=\"282.203125\" xlink:href=\"#DejaVuSans-6e\"/>\n",
       "      <use x=\"345.582031\" xlink:href=\"#DejaVuSans-67\"/>\n",
       "      <use x=\"409.058594\" xlink:href=\"#DejaVuSans-20\"/>\n",
       "      <use x=\"440.845703\" xlink:href=\"#DejaVuSans-73\"/>\n",
       "      <use x=\"492.945312\" xlink:href=\"#DejaVuSans-65\"/>\n",
       "      <use x=\"554.46875\" xlink:href=\"#DejaVuSans-74\"/>\n",
       "     </g>\n",
       "    </g>\n",
       "   </g>\n",
       "  </g>\n",
       " </g>\n",
       " <defs>\n",
       "  <clipPath id=\"p127ff36042\">\n",
       "   <rect height=\"217.44\" width=\"334.8\" x=\"54\" y=\"34.56\"/>\n",
       "  </clipPath>\n",
       " </defs>\n",
       "</svg>"
      ],
      "text/plain": [
       "<IPython.core.display.SVG object>"
      ]
     },
     "metadata": {},
     "output_type": "display_data"
    }
   ],
   "source": [
    "for i in range(20):\n",
    "    (epoch_count, results) = net.train(epochs=100, verbose=0, report_rate=25, plot=True)\n",
    "    for index in range(4):\n",
    "        net.propagate(dataset[index][0])"
   ]
  },
  {
   "cell_type": "code",
   "execution_count": 35,
   "metadata": {},
   "outputs": [],
   "source": [
    "net.reset()"
   ]
  },
  {
   "cell_type": "code",
   "execution_count": 36,
   "metadata": {},
   "outputs": [
    {
     "data": {
      "image/svg+xml": [
       "<svg height=\"288pt\" version=\"1.1\" viewBox=\"0 0 432 288\" width=\"432pt\" xmlns=\"http://www.w3.org/2000/svg\" xmlns:xlink=\"http://www.w3.org/1999/xlink\">\n",
       " <defs>\n",
       "  <style type=\"text/css\">\n",
       "*{stroke-linecap:butt;stroke-linejoin:round;}\n",
       "  </style>\n",
       " </defs>\n",
       " <g id=\"figure_1\">\n",
       "  <g id=\"patch_1\">\n",
       "   <path d=\"M 0 288  L 432 288  L 432 0  L 0 0  z \" style=\"fill:#ffffff;\"/>\n",
       "  </g>\n",
       "  <g id=\"axes_1\">\n",
       "   <g id=\"patch_2\">\n",
       "    <path d=\"M 54 252  L 388.8 252  L 388.8 34.56  L 54 34.56  z \" style=\"fill:#ffffff;\"/>\n",
       "   </g>\n",
       "   <g id=\"matplotlib.axis_1\">\n",
       "    <g id=\"xtick_1\">\n",
       "     <g id=\"line2d_1\">\n",
       "      <defs>\n",
       "       <path d=\"M 0 0  L 0 3.5  \" id=\"m75835bc9f5\" style=\"stroke:#000000;stroke-width:0.8;\"/>\n",
       "      </defs>\n",
       "      <g>\n",
       "       <use style=\"stroke:#000000;stroke-width:0.8;\" x=\"69.218182\" xlink:href=\"#m75835bc9f5\" y=\"252\"/>\n",
       "      </g>\n",
       "     </g>\n",
       "     <g id=\"text_1\">\n",
       "      <!-- 0 -->\n",
       "      <defs>\n",
       "       <path d=\"M 31.78125 66.40625  Q 24.171875 66.40625 20.328125 58.90625  Q 16.5 51.421875 16.5 36.375  Q 16.5 21.390625 20.328125 13.890625  Q 24.171875 6.390625 31.78125 6.390625  Q 39.453125 6.390625 43.28125 13.890625  Q 47.125 21.390625 47.125 36.375  Q 47.125 51.421875 43.28125 58.90625  Q 39.453125 66.40625 31.78125 66.40625  z M 31.78125 74.21875  Q 44.046875 74.21875 50.515625 64.515625  Q 56.984375 54.828125 56.984375 36.375  Q 56.984375 17.96875 50.515625 8.265625  Q 44.046875 -1.421875 31.78125 -1.421875  Q 19.53125 -1.421875 13.0625 8.265625  Q 6.59375 17.96875 6.59375 36.375  Q 6.59375 54.828125 13.0625 64.515625  Q 19.53125 74.21875 31.78125 74.21875  z \" id=\"DejaVuSans-30\"/>\n",
       "      </defs>\n",
       "      <g transform=\"translate(66.036932 266.598437)scale(0.1 -0.1)\">\n",
       "       <use xlink:href=\"#DejaVuSans-30\"/>\n",
       "      </g>\n",
       "     </g>\n",
       "    </g>\n",
       "    <g id=\"xtick_2\">\n",
       "     <g id=\"line2d_2\">\n",
       "      <g>\n",
       "       <use style=\"stroke:#000000;stroke-width:0.8;\" x=\"138.313218\" xlink:href=\"#m75835bc9f5\" y=\"252\"/>\n",
       "      </g>\n",
       "     </g>\n",
       "     <g id=\"text_2\">\n",
       "      <!-- 200 -->\n",
       "      <defs>\n",
       "       <path d=\"M 19.1875 8.296875  L 53.609375 8.296875  L 53.609375 0  L 7.328125 0  L 7.328125 8.296875  Q 12.9375 14.109375 22.625 23.890625  Q 32.328125 33.6875 34.8125 36.53125  Q 39.546875 41.84375 41.421875 45.53125  Q 43.3125 49.21875 43.3125 52.78125  Q 43.3125 58.59375 39.234375 62.25  Q 35.15625 65.921875 28.609375 65.921875  Q 23.96875 65.921875 18.8125 64.3125  Q 13.671875 62.703125 7.8125 59.421875  L 7.8125 69.390625  Q 13.765625 71.78125 18.9375 73  Q 24.125 74.21875 28.421875 74.21875  Q 39.75 74.21875 46.484375 68.546875  Q 53.21875 62.890625 53.21875 53.421875  Q 53.21875 48.921875 51.53125 44.890625  Q 49.859375 40.875 45.40625 35.40625  Q 44.1875 33.984375 37.640625 27.21875  Q 31.109375 20.453125 19.1875 8.296875  z \" id=\"DejaVuSans-32\"/>\n",
       "      </defs>\n",
       "      <g transform=\"translate(128.769468 266.598437)scale(0.1 -0.1)\">\n",
       "       <use xlink:href=\"#DejaVuSans-32\"/>\n",
       "       <use x=\"63.623047\" xlink:href=\"#DejaVuSans-30\"/>\n",
       "       <use x=\"127.246094\" xlink:href=\"#DejaVuSans-30\"/>\n",
       "      </g>\n",
       "     </g>\n",
       "    </g>\n",
       "    <g id=\"xtick_3\">\n",
       "     <g id=\"line2d_3\">\n",
       "      <g>\n",
       "       <use style=\"stroke:#000000;stroke-width:0.8;\" x=\"207.408255\" xlink:href=\"#m75835bc9f5\" y=\"252\"/>\n",
       "      </g>\n",
       "     </g>\n",
       "     <g id=\"text_3\">\n",
       "      <!-- 400 -->\n",
       "      <defs>\n",
       "       <path d=\"M 37.796875 64.3125  L 12.890625 25.390625  L 37.796875 25.390625  z M 35.203125 72.90625  L 47.609375 72.90625  L 47.609375 25.390625  L 58.015625 25.390625  L 58.015625 17.1875  L 47.609375 17.1875  L 47.609375 0  L 37.796875 0  L 37.796875 17.1875  L 4.890625 17.1875  L 4.890625 26.703125  z \" id=\"DejaVuSans-34\"/>\n",
       "      </defs>\n",
       "      <g transform=\"translate(197.864505 266.598437)scale(0.1 -0.1)\">\n",
       "       <use xlink:href=\"#DejaVuSans-34\"/>\n",
       "       <use x=\"63.623047\" xlink:href=\"#DejaVuSans-30\"/>\n",
       "       <use x=\"127.246094\" xlink:href=\"#DejaVuSans-30\"/>\n",
       "      </g>\n",
       "     </g>\n",
       "    </g>\n",
       "    <g id=\"xtick_4\">\n",
       "     <g id=\"line2d_4\">\n",
       "      <g>\n",
       "       <use style=\"stroke:#000000;stroke-width:0.8;\" x=\"276.503292\" xlink:href=\"#m75835bc9f5\" y=\"252\"/>\n",
       "      </g>\n",
       "     </g>\n",
       "     <g id=\"text_4\">\n",
       "      <!-- 600 -->\n",
       "      <defs>\n",
       "       <path d=\"M 33.015625 40.375  Q 26.375 40.375 22.484375 35.828125  Q 18.609375 31.296875 18.609375 23.390625  Q 18.609375 15.53125 22.484375 10.953125  Q 26.375 6.390625 33.015625 6.390625  Q 39.65625 6.390625 43.53125 10.953125  Q 47.40625 15.53125 47.40625 23.390625  Q 47.40625 31.296875 43.53125 35.828125  Q 39.65625 40.375 33.015625 40.375  z M 52.59375 71.296875  L 52.59375 62.3125  Q 48.875 64.0625 45.09375 64.984375  Q 41.3125 65.921875 37.59375 65.921875  Q 27.828125 65.921875 22.671875 59.328125  Q 17.53125 52.734375 16.796875 39.40625  Q 19.671875 43.65625 24.015625 45.921875  Q 28.375 48.1875 33.59375 48.1875  Q 44.578125 48.1875 50.953125 41.515625  Q 57.328125 34.859375 57.328125 23.390625  Q 57.328125 12.15625 50.6875 5.359375  Q 44.046875 -1.421875 33.015625 -1.421875  Q 20.359375 -1.421875 13.671875 8.265625  Q 6.984375 17.96875 6.984375 36.375  Q 6.984375 53.65625 15.1875 63.9375  Q 23.390625 74.21875 37.203125 74.21875  Q 40.921875 74.21875 44.703125 73.484375  Q 48.484375 72.75 52.59375 71.296875  z \" id=\"DejaVuSans-36\"/>\n",
       "      </defs>\n",
       "      <g transform=\"translate(266.959542 266.598437)scale(0.1 -0.1)\">\n",
       "       <use xlink:href=\"#DejaVuSans-36\"/>\n",
       "       <use x=\"63.623047\" xlink:href=\"#DejaVuSans-30\"/>\n",
       "       <use x=\"127.246094\" xlink:href=\"#DejaVuSans-30\"/>\n",
       "      </g>\n",
       "     </g>\n",
       "    </g>\n",
       "    <g id=\"xtick_5\">\n",
       "     <g id=\"line2d_5\">\n",
       "      <g>\n",
       "       <use style=\"stroke:#000000;stroke-width:0.8;\" x=\"345.598328\" xlink:href=\"#m75835bc9f5\" y=\"252\"/>\n",
       "      </g>\n",
       "     </g>\n",
       "     <g id=\"text_5\">\n",
       "      <!-- 800 -->\n",
       "      <defs>\n",
       "       <path d=\"M 31.78125 34.625  Q 24.75 34.625 20.71875 30.859375  Q 16.703125 27.09375 16.703125 20.515625  Q 16.703125 13.921875 20.71875 10.15625  Q 24.75 6.390625 31.78125 6.390625  Q 38.8125 6.390625 42.859375 10.171875  Q 46.921875 13.96875 46.921875 20.515625  Q 46.921875 27.09375 42.890625 30.859375  Q 38.875 34.625 31.78125 34.625  z M 21.921875 38.8125  Q 15.578125 40.375 12.03125 44.71875  Q 8.5 49.078125 8.5 55.328125  Q 8.5 64.0625 14.71875 69.140625  Q 20.953125 74.21875 31.78125 74.21875  Q 42.671875 74.21875 48.875 69.140625  Q 55.078125 64.0625 55.078125 55.328125  Q 55.078125 49.078125 51.53125 44.71875  Q 48 40.375 41.703125 38.8125  Q 48.828125 37.15625 52.796875 32.3125  Q 56.78125 27.484375 56.78125 20.515625  Q 56.78125 9.90625 50.3125 4.234375  Q 43.84375 -1.421875 31.78125 -1.421875  Q 19.734375 -1.421875 13.25 4.234375  Q 6.78125 9.90625 6.78125 20.515625  Q 6.78125 27.484375 10.78125 32.3125  Q 14.796875 37.15625 21.921875 38.8125  z M 18.3125 54.390625  Q 18.3125 48.734375 21.84375 45.5625  Q 25.390625 42.390625 31.78125 42.390625  Q 38.140625 42.390625 41.71875 45.5625  Q 45.3125 48.734375 45.3125 54.390625  Q 45.3125 60.0625 41.71875 63.234375  Q 38.140625 66.40625 31.78125 66.40625  Q 25.390625 66.40625 21.84375 63.234375  Q 18.3125 60.0625 18.3125 54.390625  z \" id=\"DejaVuSans-38\"/>\n",
       "      </defs>\n",
       "      <g transform=\"translate(336.054578 266.598437)scale(0.1 -0.1)\">\n",
       "       <use xlink:href=\"#DejaVuSans-38\"/>\n",
       "       <use x=\"63.623047\" xlink:href=\"#DejaVuSans-30\"/>\n",
       "       <use x=\"127.246094\" xlink:href=\"#DejaVuSans-30\"/>\n",
       "      </g>\n",
       "     </g>\n",
       "    </g>\n",
       "    <g id=\"text_6\">\n",
       "     <!-- Epoch -->\n",
       "     <defs>\n",
       "      <path d=\"M 9.8125 72.90625  L 55.90625 72.90625  L 55.90625 64.59375  L 19.671875 64.59375  L 19.671875 43.015625  L 54.390625 43.015625  L 54.390625 34.71875  L 19.671875 34.71875  L 19.671875 8.296875  L 56.78125 8.296875  L 56.78125 0  L 9.8125 0  z \" id=\"DejaVuSans-45\"/>\n",
       "      <path d=\"M 18.109375 8.203125  L 18.109375 -20.796875  L 9.078125 -20.796875  L 9.078125 54.6875  L 18.109375 54.6875  L 18.109375 46.390625  Q 20.953125 51.265625 25.265625 53.625  Q 29.59375 56 35.59375 56  Q 45.5625 56 51.78125 48.09375  Q 58.015625 40.1875 58.015625 27.296875  Q 58.015625 14.40625 51.78125 6.484375  Q 45.5625 -1.421875 35.59375 -1.421875  Q 29.59375 -1.421875 25.265625 0.953125  Q 20.953125 3.328125 18.109375 8.203125  z M 48.6875 27.296875  Q 48.6875 37.203125 44.609375 42.84375  Q 40.53125 48.484375 33.40625 48.484375  Q 26.265625 48.484375 22.1875 42.84375  Q 18.109375 37.203125 18.109375 27.296875  Q 18.109375 17.390625 22.1875 11.75  Q 26.265625 6.109375 33.40625 6.109375  Q 40.53125 6.109375 44.609375 11.75  Q 48.6875 17.390625 48.6875 27.296875  z \" id=\"DejaVuSans-70\"/>\n",
       "      <path d=\"M 30.609375 48.390625  Q 23.390625 48.390625 19.1875 42.75  Q 14.984375 37.109375 14.984375 27.296875  Q 14.984375 17.484375 19.15625 11.84375  Q 23.34375 6.203125 30.609375 6.203125  Q 37.796875 6.203125 41.984375 11.859375  Q 46.1875 17.53125 46.1875 27.296875  Q 46.1875 37.015625 41.984375 42.703125  Q 37.796875 48.390625 30.609375 48.390625  z M 30.609375 56  Q 42.328125 56 49.015625 48.375  Q 55.71875 40.765625 55.71875 27.296875  Q 55.71875 13.875 49.015625 6.21875  Q 42.328125 -1.421875 30.609375 -1.421875  Q 18.84375 -1.421875 12.171875 6.21875  Q 5.515625 13.875 5.515625 27.296875  Q 5.515625 40.765625 12.171875 48.375  Q 18.84375 56 30.609375 56  z \" id=\"DejaVuSans-6f\"/>\n",
       "      <path d=\"M 48.78125 52.59375  L 48.78125 44.1875  Q 44.96875 46.296875 41.140625 47.34375  Q 37.3125 48.390625 33.40625 48.390625  Q 24.65625 48.390625 19.8125 42.84375  Q 14.984375 37.3125 14.984375 27.296875  Q 14.984375 17.28125 19.8125 11.734375  Q 24.65625 6.203125 33.40625 6.203125  Q 37.3125 6.203125 41.140625 7.25  Q 44.96875 8.296875 48.78125 10.40625  L 48.78125 2.09375  Q 45.015625 0.34375 40.984375 -0.53125  Q 36.96875 -1.421875 32.421875 -1.421875  Q 20.0625 -1.421875 12.78125 6.34375  Q 5.515625 14.109375 5.515625 27.296875  Q 5.515625 40.671875 12.859375 48.328125  Q 20.21875 56 33.015625 56  Q 37.15625 56 41.109375 55.140625  Q 45.0625 54.296875 48.78125 52.59375  z \" id=\"DejaVuSans-63\"/>\n",
       "      <path d=\"M 54.890625 33.015625  L 54.890625 0  L 45.90625 0  L 45.90625 32.71875  Q 45.90625 40.484375 42.875 44.328125  Q 39.84375 48.1875 33.796875 48.1875  Q 26.515625 48.1875 22.3125 43.546875  Q 18.109375 38.921875 18.109375 30.90625  L 18.109375 0  L 9.078125 0  L 9.078125 75.984375  L 18.109375 75.984375  L 18.109375 46.1875  Q 21.34375 51.125 25.703125 53.5625  Q 30.078125 56 35.796875 56  Q 45.21875 56 50.046875 50.171875  Q 54.890625 44.34375 54.890625 33.015625  z \" id=\"DejaVuSans-68\"/>\n",
       "     </defs>\n",
       "     <g transform=\"translate(206.089063 280.276563)scale(0.1 -0.1)\">\n",
       "      <use xlink:href=\"#DejaVuSans-45\"/>\n",
       "      <use x=\"63.183594\" xlink:href=\"#DejaVuSans-70\"/>\n",
       "      <use x=\"126.660156\" xlink:href=\"#DejaVuSans-6f\"/>\n",
       "      <use x=\"187.841797\" xlink:href=\"#DejaVuSans-63\"/>\n",
       "      <use x=\"242.822266\" xlink:href=\"#DejaVuSans-68\"/>\n",
       "     </g>\n",
       "    </g>\n",
       "   </g>\n",
       "   <g id=\"matplotlib.axis_2\">\n",
       "    <g id=\"ytick_1\">\n",
       "     <g id=\"line2d_6\">\n",
       "      <defs>\n",
       "       <path d=\"M 0 0  L -3.5 0  \" id=\"m6a1f06578c\" style=\"stroke:#000000;stroke-width:0.8;\"/>\n",
       "      </defs>\n",
       "      <g>\n",
       "       <use style=\"stroke:#000000;stroke-width:0.8;\" x=\"54\" xlink:href=\"#m6a1f06578c\" y=\"252\"/>\n",
       "      </g>\n",
       "     </g>\n",
       "     <g id=\"text_7\">\n",
       "      <!-- 0.0 -->\n",
       "      <defs>\n",
       "       <path d=\"M 10.6875 12.40625  L 21 12.40625  L 21 0  L 10.6875 0  z \" id=\"DejaVuSans-2e\"/>\n",
       "      </defs>\n",
       "      <g transform=\"translate(31.096875 255.799219)scale(0.1 -0.1)\">\n",
       "       <use xlink:href=\"#DejaVuSans-30\"/>\n",
       "       <use x=\"63.623047\" xlink:href=\"#DejaVuSans-2e\"/>\n",
       "       <use x=\"95.410156\" xlink:href=\"#DejaVuSans-30\"/>\n",
       "      </g>\n",
       "     </g>\n",
       "    </g>\n",
       "    <g id=\"ytick_2\">\n",
       "     <g id=\"line2d_7\">\n",
       "      <g>\n",
       "       <use style=\"stroke:#000000;stroke-width:0.8;\" x=\"54\" xlink:href=\"#m6a1f06578c\" y=\"219.801743\"/>\n",
       "      </g>\n",
       "     </g>\n",
       "     <g id=\"text_8\">\n",
       "      <!-- 0.1 -->\n",
       "      <defs>\n",
       "       <path d=\"M 12.40625 8.296875  L 28.515625 8.296875  L 28.515625 63.921875  L 10.984375 60.40625  L 10.984375 69.390625  L 28.421875 72.90625  L 38.28125 72.90625  L 38.28125 8.296875  L 54.390625 8.296875  L 54.390625 0  L 12.40625 0  z \" id=\"DejaVuSans-31\"/>\n",
       "      </defs>\n",
       "      <g transform=\"translate(31.096875 223.600961)scale(0.1 -0.1)\">\n",
       "       <use xlink:href=\"#DejaVuSans-30\"/>\n",
       "       <use x=\"63.623047\" xlink:href=\"#DejaVuSans-2e\"/>\n",
       "       <use x=\"95.410156\" xlink:href=\"#DejaVuSans-31\"/>\n",
       "      </g>\n",
       "     </g>\n",
       "    </g>\n",
       "    <g id=\"ytick_3\">\n",
       "     <g id=\"line2d_8\">\n",
       "      <g>\n",
       "       <use style=\"stroke:#000000;stroke-width:0.8;\" x=\"54\" xlink:href=\"#m6a1f06578c\" y=\"187.603485\"/>\n",
       "      </g>\n",
       "     </g>\n",
       "     <g id=\"text_9\">\n",
       "      <!-- 0.2 -->\n",
       "      <g transform=\"translate(31.096875 191.402704)scale(0.1 -0.1)\">\n",
       "       <use xlink:href=\"#DejaVuSans-30\"/>\n",
       "       <use x=\"63.623047\" xlink:href=\"#DejaVuSans-2e\"/>\n",
       "       <use x=\"95.410156\" xlink:href=\"#DejaVuSans-32\"/>\n",
       "      </g>\n",
       "     </g>\n",
       "    </g>\n",
       "    <g id=\"ytick_4\">\n",
       "     <g id=\"line2d_9\">\n",
       "      <g>\n",
       "       <use style=\"stroke:#000000;stroke-width:0.8;\" x=\"54\" xlink:href=\"#m6a1f06578c\" y=\"155.405228\"/>\n",
       "      </g>\n",
       "     </g>\n",
       "     <g id=\"text_10\">\n",
       "      <!-- 0.3 -->\n",
       "      <defs>\n",
       "       <path d=\"M 40.578125 39.3125  Q 47.65625 37.796875 51.625 33  Q 55.609375 28.21875 55.609375 21.1875  Q 55.609375 10.40625 48.1875 4.484375  Q 40.765625 -1.421875 27.09375 -1.421875  Q 22.515625 -1.421875 17.65625 -0.515625  Q 12.796875 0.390625 7.625 2.203125  L 7.625 11.71875  Q 11.71875 9.328125 16.59375 8.109375  Q 21.484375 6.890625 26.8125 6.890625  Q 36.078125 6.890625 40.9375 10.546875  Q 45.796875 14.203125 45.796875 21.1875  Q 45.796875 27.640625 41.28125 31.265625  Q 36.765625 34.90625 28.71875 34.90625  L 20.21875 34.90625  L 20.21875 43.015625  L 29.109375 43.015625  Q 36.375 43.015625 40.234375 45.921875  Q 44.09375 48.828125 44.09375 54.296875  Q 44.09375 59.90625 40.109375 62.90625  Q 36.140625 65.921875 28.71875 65.921875  Q 24.65625 65.921875 20.015625 65.03125  Q 15.375 64.15625 9.8125 62.3125  L 9.8125 71.09375  Q 15.4375 72.65625 20.34375 73.4375  Q 25.25 74.21875 29.59375 74.21875  Q 40.828125 74.21875 47.359375 69.109375  Q 53.90625 64.015625 53.90625 55.328125  Q 53.90625 49.265625 50.4375 45.09375  Q 46.96875 40.921875 40.578125 39.3125  z \" id=\"DejaVuSans-33\"/>\n",
       "      </defs>\n",
       "      <g transform=\"translate(31.096875 159.204446)scale(0.1 -0.1)\">\n",
       "       <use xlink:href=\"#DejaVuSans-30\"/>\n",
       "       <use x=\"63.623047\" xlink:href=\"#DejaVuSans-2e\"/>\n",
       "       <use x=\"95.410156\" xlink:href=\"#DejaVuSans-33\"/>\n",
       "      </g>\n",
       "     </g>\n",
       "    </g>\n",
       "    <g id=\"ytick_5\">\n",
       "     <g id=\"line2d_10\">\n",
       "      <g>\n",
       "       <use style=\"stroke:#000000;stroke-width:0.8;\" x=\"54\" xlink:href=\"#m6a1f06578c\" y=\"123.20697\"/>\n",
       "      </g>\n",
       "     </g>\n",
       "     <g id=\"text_11\">\n",
       "      <!-- 0.4 -->\n",
       "      <g transform=\"translate(31.096875 127.006189)scale(0.1 -0.1)\">\n",
       "       <use xlink:href=\"#DejaVuSans-30\"/>\n",
       "       <use x=\"63.623047\" xlink:href=\"#DejaVuSans-2e\"/>\n",
       "       <use x=\"95.410156\" xlink:href=\"#DejaVuSans-34\"/>\n",
       "      </g>\n",
       "     </g>\n",
       "    </g>\n",
       "    <g id=\"ytick_6\">\n",
       "     <g id=\"line2d_11\">\n",
       "      <g>\n",
       "       <use style=\"stroke:#000000;stroke-width:0.8;\" x=\"54\" xlink:href=\"#m6a1f06578c\" y=\"91.008713\"/>\n",
       "      </g>\n",
       "     </g>\n",
       "     <g id=\"text_12\">\n",
       "      <!-- 0.5 -->\n",
       "      <defs>\n",
       "       <path d=\"M 10.796875 72.90625  L 49.515625 72.90625  L 49.515625 64.59375  L 19.828125 64.59375  L 19.828125 46.734375  Q 21.96875 47.46875 24.109375 47.828125  Q 26.265625 48.1875 28.421875 48.1875  Q 40.625 48.1875 47.75 41.5  Q 54.890625 34.8125 54.890625 23.390625  Q 54.890625 11.625 47.5625 5.09375  Q 40.234375 -1.421875 26.90625 -1.421875  Q 22.3125 -1.421875 17.546875 -0.640625  Q 12.796875 0.140625 7.71875 1.703125  L 7.71875 11.625  Q 12.109375 9.234375 16.796875 8.0625  Q 21.484375 6.890625 26.703125 6.890625  Q 35.15625 6.890625 40.078125 11.328125  Q 45.015625 15.765625 45.015625 23.390625  Q 45.015625 31 40.078125 35.4375  Q 35.15625 39.890625 26.703125 39.890625  Q 22.75 39.890625 18.8125 39.015625  Q 14.890625 38.140625 10.796875 36.28125  z \" id=\"DejaVuSans-35\"/>\n",
       "      </defs>\n",
       "      <g transform=\"translate(31.096875 94.807931)scale(0.1 -0.1)\">\n",
       "       <use xlink:href=\"#DejaVuSans-30\"/>\n",
       "       <use x=\"63.623047\" xlink:href=\"#DejaVuSans-2e\"/>\n",
       "       <use x=\"95.410156\" xlink:href=\"#DejaVuSans-35\"/>\n",
       "      </g>\n",
       "     </g>\n",
       "    </g>\n",
       "    <g id=\"ytick_7\">\n",
       "     <g id=\"line2d_12\">\n",
       "      <g>\n",
       "       <use style=\"stroke:#000000;stroke-width:0.8;\" x=\"54\" xlink:href=\"#m6a1f06578c\" y=\"58.810455\"/>\n",
       "      </g>\n",
       "     </g>\n",
       "     <g id=\"text_13\">\n",
       "      <!-- 0.6 -->\n",
       "      <g transform=\"translate(31.096875 62.609674)scale(0.1 -0.1)\">\n",
       "       <use xlink:href=\"#DejaVuSans-30\"/>\n",
       "       <use x=\"63.623047\" xlink:href=\"#DejaVuSans-2e\"/>\n",
       "       <use x=\"95.410156\" xlink:href=\"#DejaVuSans-36\"/>\n",
       "      </g>\n",
       "     </g>\n",
       "    </g>\n",
       "   </g>\n",
       "   <g id=\"line2d_13\">\n",
       "    <path clip-path=\"url(#p8eea749993)\" d=\"M 69.218182 44.63597  L 69.563657 44.63597  L 69.909132 50.972978  L 70.945558 85.811919  L 71.291033 90.739838  L 71.636508 89.796069  L 72.672934 77.586682  L 73.018409 76.447005  L 73.363884 77.395341  L 73.709359 79.929676  L 74.745785 89.251486  L 75.09126 90.70345  L 75.436735 90.954746  L 75.78221 90.299063  L 76.473161 88.145356  L 76.818636 87.452575  L 77.164111 87.282  L 77.509586 87.61415  L 78.200537 89.151766  L 78.891487 90.564311  L 79.236962 90.910451  L 79.582437 90.996085  L 80.273388 90.653245  L 80.964338 90.202663  L 81.655288 90.098299  L 82.346239 90.360764  L 83.382664 90.880129  L 84.073615 91.000978  L 85.455515 90.823609  L 86.491941 90.79891  L 89.255742 90.992956  L 92.019544 90.981576  L 96.165246 90.997677  L 112.057105 91.014758  L 244.3741 91.183654  L 275.121391 91.418973  L 290.322299 91.732804  L 299.650129 92.127394  L 306.214157 92.620083  L 311.05081 93.207942  L 314.505562 93.831969  L 317.269363 94.525526  L 319.68769 95.342256  L 321.760541 96.263859  L 323.487917 97.245963  L 325.215293 98.488623  L 326.597193 99.726427  L 327.979094 101.241416  L 329.360995 103.105233  L 330.742895 105.40733  L 332.124796 108.257406  L 333.506697 111.786349  L 334.888598 116.144179  L 336.270498 121.492923  L 337.652399 127.992187  L 339.0343 135.773771  L 340.416201 144.901265  L 342.143577 158.087949  L 344.907378 181.662606  L 346.980229 198.645903  L 348.36213 208.374447  L 349.744031 216.42787  L 350.780456 221.367803  L 351.816882 225.456607  L 352.853307 228.813319  L 353.889733 231.562483  L 354.926158 233.818714  L 356.308059 236.226977  L 357.68996 238.114642  L 359.07186 239.616856  L 360.453761 240.831326  L 362.181137 242.050107  L 364.253988 243.19604  L 366.672315 244.229786  L 369.436116 245.140033  L 372.545393 245.931707  L 373.581818 246.15536  L 373.581818 246.15536  \" style=\"fill:none;stroke:#1f77b4;stroke-linecap:square;stroke-width:1.5;\"/>\n",
       "   </g>\n",
       "   <g id=\"patch_3\">\n",
       "    <path d=\"M 54 252  L 54 34.56  \" style=\"fill:none;stroke:#000000;stroke-linecap:square;stroke-linejoin:miter;stroke-width:0.8;\"/>\n",
       "   </g>\n",
       "   <g id=\"patch_4\">\n",
       "    <path d=\"M 388.8 252  L 388.8 34.56  \" style=\"fill:none;stroke:#000000;stroke-linecap:square;stroke-linejoin:miter;stroke-width:0.8;\"/>\n",
       "   </g>\n",
       "   <g id=\"patch_5\">\n",
       "    <path d=\"M 54 252  L 388.8 252  \" style=\"fill:none;stroke:#000000;stroke-linecap:square;stroke-linejoin:miter;stroke-width:0.8;\"/>\n",
       "   </g>\n",
       "   <g id=\"patch_6\">\n",
       "    <path d=\"M 54 34.56  L 388.8 34.56  \" style=\"fill:none;stroke:#000000;stroke-linecap:square;stroke-linejoin:miter;stroke-width:0.8;\"/>\n",
       "   </g>\n",
       "   <g id=\"text_14\">\n",
       "    <!-- XOR2 Network: Loss -->\n",
       "    <defs>\n",
       "     <path d=\"M 6.296875 72.90625  L 16.890625 72.90625  L 35.015625 45.796875  L 53.21875 72.90625  L 63.8125 72.90625  L 40.375 37.890625  L 65.375 0  L 54.78125 0  L 34.28125 31  L 13.625 0  L 2.984375 0  L 29 38.921875  z \" id=\"DejaVuSans-58\"/>\n",
       "     <path d=\"M 39.40625 66.21875  Q 28.65625 66.21875 22.328125 58.203125  Q 16.015625 50.203125 16.015625 36.375  Q 16.015625 22.609375 22.328125 14.59375  Q 28.65625 6.59375 39.40625 6.59375  Q 50.140625 6.59375 56.421875 14.59375  Q 62.703125 22.609375 62.703125 36.375  Q 62.703125 50.203125 56.421875 58.203125  Q 50.140625 66.21875 39.40625 66.21875  z M 39.40625 74.21875  Q 54.734375 74.21875 63.90625 63.9375  Q 73.09375 53.65625 73.09375 36.375  Q 73.09375 19.140625 63.90625 8.859375  Q 54.734375 -1.421875 39.40625 -1.421875  Q 24.03125 -1.421875 14.8125 8.828125  Q 5.609375 19.09375 5.609375 36.375  Q 5.609375 53.65625 14.8125 63.9375  Q 24.03125 74.21875 39.40625 74.21875  z \" id=\"DejaVuSans-4f\"/>\n",
       "     <path d=\"M 44.390625 34.1875  Q 47.5625 33.109375 50.5625 29.59375  Q 53.5625 26.078125 56.59375 19.921875  L 66.609375 0  L 56 0  L 46.6875 18.703125  Q 43.0625 26.03125 39.671875 28.421875  Q 36.28125 30.8125 30.421875 30.8125  L 19.671875 30.8125  L 19.671875 0  L 9.8125 0  L 9.8125 72.90625  L 32.078125 72.90625  Q 44.578125 72.90625 50.734375 67.671875  Q 56.890625 62.453125 56.890625 51.90625  Q 56.890625 45.015625 53.6875 40.46875  Q 50.484375 35.9375 44.390625 34.1875  z M 19.671875 64.796875  L 19.671875 38.921875  L 32.078125 38.921875  Q 39.203125 38.921875 42.84375 42.21875  Q 46.484375 45.515625 46.484375 51.90625  Q 46.484375 58.296875 42.84375 61.546875  Q 39.203125 64.796875 32.078125 64.796875  z \" id=\"DejaVuSans-52\"/>\n",
       "     <path id=\"DejaVuSans-20\"/>\n",
       "     <path d=\"M 9.8125 72.90625  L 23.09375 72.90625  L 55.421875 11.921875  L 55.421875 72.90625  L 64.984375 72.90625  L 64.984375 0  L 51.703125 0  L 19.390625 60.984375  L 19.390625 0  L 9.8125 0  z \" id=\"DejaVuSans-4e\"/>\n",
       "     <path d=\"M 56.203125 29.59375  L 56.203125 25.203125  L 14.890625 25.203125  Q 15.484375 15.921875 20.484375 11.0625  Q 25.484375 6.203125 34.421875 6.203125  Q 39.59375 6.203125 44.453125 7.46875  Q 49.3125 8.734375 54.109375 11.28125  L 54.109375 2.78125  Q 49.265625 0.734375 44.1875 -0.34375  Q 39.109375 -1.421875 33.890625 -1.421875  Q 20.796875 -1.421875 13.15625 6.1875  Q 5.515625 13.8125 5.515625 26.8125  Q 5.515625 40.234375 12.765625 48.109375  Q 20.015625 56 32.328125 56  Q 43.359375 56 49.78125 48.890625  Q 56.203125 41.796875 56.203125 29.59375  z M 47.21875 32.234375  Q 47.125 39.59375 43.09375 43.984375  Q 39.0625 48.390625 32.421875 48.390625  Q 24.90625 48.390625 20.390625 44.140625  Q 15.875 39.890625 15.1875 32.171875  z \" id=\"DejaVuSans-65\"/>\n",
       "     <path d=\"M 18.3125 70.21875  L 18.3125 54.6875  L 36.8125 54.6875  L 36.8125 47.703125  L 18.3125 47.703125  L 18.3125 18.015625  Q 18.3125 11.328125 20.140625 9.421875  Q 21.96875 7.515625 27.59375 7.515625  L 36.8125 7.515625  L 36.8125 0  L 27.59375 0  Q 17.1875 0 13.234375 3.875  Q 9.28125 7.765625 9.28125 18.015625  L 9.28125 47.703125  L 2.6875 47.703125  L 2.6875 54.6875  L 9.28125 54.6875  L 9.28125 70.21875  z \" id=\"DejaVuSans-74\"/>\n",
       "     <path d=\"M 4.203125 54.6875  L 13.1875 54.6875  L 24.421875 12.015625  L 35.59375 54.6875  L 46.1875 54.6875  L 57.421875 12.015625  L 68.609375 54.6875  L 77.59375 54.6875  L 63.28125 0  L 52.6875 0  L 40.921875 44.828125  L 29.109375 0  L 18.5 0  z \" id=\"DejaVuSans-77\"/>\n",
       "     <path d=\"M 41.109375 46.296875  Q 39.59375 47.171875 37.8125 47.578125  Q 36.03125 48 33.890625 48  Q 26.265625 48 22.1875 43.046875  Q 18.109375 38.09375 18.109375 28.8125  L 18.109375 0  L 9.078125 0  L 9.078125 54.6875  L 18.109375 54.6875  L 18.109375 46.1875  Q 20.953125 51.171875 25.484375 53.578125  Q 30.03125 56 36.53125 56  Q 37.453125 56 38.578125 55.875  Q 39.703125 55.765625 41.0625 55.515625  z \" id=\"DejaVuSans-72\"/>\n",
       "     <path d=\"M 9.078125 75.984375  L 18.109375 75.984375  L 18.109375 31.109375  L 44.921875 54.6875  L 56.390625 54.6875  L 27.390625 29.109375  L 57.625 0  L 45.90625 0  L 18.109375 26.703125  L 18.109375 0  L 9.078125 0  z \" id=\"DejaVuSans-6b\"/>\n",
       "     <path d=\"M 11.71875 12.40625  L 22.015625 12.40625  L 22.015625 0  L 11.71875 0  z M 11.71875 51.703125  L 22.015625 51.703125  L 22.015625 39.3125  L 11.71875 39.3125  z \" id=\"DejaVuSans-3a\"/>\n",
       "     <path d=\"M 9.8125 72.90625  L 19.671875 72.90625  L 19.671875 8.296875  L 55.171875 8.296875  L 55.171875 0  L 9.8125 0  z \" id=\"DejaVuSans-4c\"/>\n",
       "     <path d=\"M 44.28125 53.078125  L 44.28125 44.578125  Q 40.484375 46.53125 36.375 47.5  Q 32.28125 48.484375 27.875 48.484375  Q 21.1875 48.484375 17.84375 46.4375  Q 14.5 44.390625 14.5 40.28125  Q 14.5 37.15625 16.890625 35.375  Q 19.28125 33.59375 26.515625 31.984375  L 29.59375 31.296875  Q 39.15625 29.25 43.1875 25.515625  Q 47.21875 21.78125 47.21875 15.09375  Q 47.21875 7.46875 41.1875 3.015625  Q 35.15625 -1.421875 24.609375 -1.421875  Q 20.21875 -1.421875 15.453125 -0.5625  Q 10.6875 0.296875 5.421875 2  L 5.421875 11.28125  Q 10.40625 8.6875 15.234375 7.390625  Q 20.0625 6.109375 24.8125 6.109375  Q 31.15625 6.109375 34.5625 8.28125  Q 37.984375 10.453125 37.984375 14.40625  Q 37.984375 18.0625 35.515625 20.015625  Q 33.0625 21.96875 24.703125 23.78125  L 21.578125 24.515625  Q 13.234375 26.265625 9.515625 29.90625  Q 5.8125 33.546875 5.8125 39.890625  Q 5.8125 47.609375 11.28125 51.796875  Q 16.75 56 26.8125 56  Q 31.78125 56 36.171875 55.265625  Q 40.578125 54.546875 44.28125 53.078125  z \" id=\"DejaVuSans-73\"/>\n",
       "    </defs>\n",
       "    <g transform=\"translate(160.434375 28.56)scale(0.12 -0.12)\">\n",
       "     <use xlink:href=\"#DejaVuSans-58\"/>\n",
       "     <use x=\"68.412109\" xlink:href=\"#DejaVuSans-4f\"/>\n",
       "     <use x=\"147.123047\" xlink:href=\"#DejaVuSans-52\"/>\n",
       "     <use x=\"216.605469\" xlink:href=\"#DejaVuSans-32\"/>\n",
       "     <use x=\"280.228516\" xlink:href=\"#DejaVuSans-20\"/>\n",
       "     <use x=\"312.015625\" xlink:href=\"#DejaVuSans-4e\"/>\n",
       "     <use x=\"386.820312\" xlink:href=\"#DejaVuSans-65\"/>\n",
       "     <use x=\"448.34375\" xlink:href=\"#DejaVuSans-74\"/>\n",
       "     <use x=\"487.552734\" xlink:href=\"#DejaVuSans-77\"/>\n",
       "     <use x=\"569.339844\" xlink:href=\"#DejaVuSans-6f\"/>\n",
       "     <use x=\"630.521484\" xlink:href=\"#DejaVuSans-72\"/>\n",
       "     <use x=\"671.634766\" xlink:href=\"#DejaVuSans-6b\"/>\n",
       "     <use x=\"729.544922\" xlink:href=\"#DejaVuSans-3a\"/>\n",
       "     <use x=\"763.236328\" xlink:href=\"#DejaVuSans-20\"/>\n",
       "     <use x=\"795.023438\" xlink:href=\"#DejaVuSans-4c\"/>\n",
       "     <use x=\"850.720703\" xlink:href=\"#DejaVuSans-6f\"/>\n",
       "     <use x=\"911.902344\" xlink:href=\"#DejaVuSans-73\"/>\n",
       "     <use x=\"964.001953\" xlink:href=\"#DejaVuSans-73\"/>\n",
       "    </g>\n",
       "   </g>\n",
       "   <g id=\"legend_1\">\n",
       "    <g id=\"patch_7\">\n",
       "     <path d=\"M 290.434375 57.238125  L 381.8 57.238125  Q 383.8 57.238125 383.8 55.238125  L 383.8 41.56  Q 383.8 39.56 381.8 39.56  L 290.434375 39.56  Q 288.434375 39.56 288.434375 41.56  L 288.434375 55.238125  Q 288.434375 57.238125 290.434375 57.238125  z \" style=\"fill:#ffffff;opacity:0.8;stroke:#cccccc;stroke-linejoin:miter;\"/>\n",
       "    </g>\n",
       "    <g id=\"line2d_14\">\n",
       "     <path d=\"M 292.434375 47.658437  L 312.434375 47.658437  \" style=\"fill:none;stroke:#1f77b4;stroke-linecap:square;stroke-width:1.5;\"/>\n",
       "    </g>\n",
       "    <g id=\"line2d_15\"/>\n",
       "    <g id=\"text_15\">\n",
       "     <!-- Training set -->\n",
       "     <defs>\n",
       "      <path d=\"M -0.296875 72.90625  L 61.375 72.90625  L 61.375 64.59375  L 35.5 64.59375  L 35.5 0  L 25.59375 0  L 25.59375 64.59375  L -0.296875 64.59375  z \" id=\"DejaVuSans-54\"/>\n",
       "      <path d=\"M 34.28125 27.484375  Q 23.390625 27.484375 19.1875 25  Q 14.984375 22.515625 14.984375 16.5  Q 14.984375 11.71875 18.140625 8.90625  Q 21.296875 6.109375 26.703125 6.109375  Q 34.1875 6.109375 38.703125 11.40625  Q 43.21875 16.703125 43.21875 25.484375  L 43.21875 27.484375  z M 52.203125 31.203125  L 52.203125 0  L 43.21875 0  L 43.21875 8.296875  Q 40.140625 3.328125 35.546875 0.953125  Q 30.953125 -1.421875 24.3125 -1.421875  Q 15.921875 -1.421875 10.953125 3.296875  Q 6 8.015625 6 15.921875  Q 6 25.140625 12.171875 29.828125  Q 18.359375 34.515625 30.609375 34.515625  L 43.21875 34.515625  L 43.21875 35.40625  Q 43.21875 41.609375 39.140625 45  Q 35.0625 48.390625 27.6875 48.390625  Q 23 48.390625 18.546875 47.265625  Q 14.109375 46.140625 10.015625 43.890625  L 10.015625 52.203125  Q 14.9375 54.109375 19.578125 55.046875  Q 24.21875 56 28.609375 56  Q 40.484375 56 46.34375 49.84375  Q 52.203125 43.703125 52.203125 31.203125  z \" id=\"DejaVuSans-61\"/>\n",
       "      <path d=\"M 9.421875 54.6875  L 18.40625 54.6875  L 18.40625 0  L 9.421875 0  z M 9.421875 75.984375  L 18.40625 75.984375  L 18.40625 64.59375  L 9.421875 64.59375  z \" id=\"DejaVuSans-69\"/>\n",
       "      <path d=\"M 54.890625 33.015625  L 54.890625 0  L 45.90625 0  L 45.90625 32.71875  Q 45.90625 40.484375 42.875 44.328125  Q 39.84375 48.1875 33.796875 48.1875  Q 26.515625 48.1875 22.3125 43.546875  Q 18.109375 38.921875 18.109375 30.90625  L 18.109375 0  L 9.078125 0  L 9.078125 54.6875  L 18.109375 54.6875  L 18.109375 46.1875  Q 21.34375 51.125 25.703125 53.5625  Q 30.078125 56 35.796875 56  Q 45.21875 56 50.046875 50.171875  Q 54.890625 44.34375 54.890625 33.015625  z \" id=\"DejaVuSans-6e\"/>\n",
       "      <path d=\"M 45.40625 27.984375  Q 45.40625 37.75 41.375 43.109375  Q 37.359375 48.484375 30.078125 48.484375  Q 22.859375 48.484375 18.828125 43.109375  Q 14.796875 37.75 14.796875 27.984375  Q 14.796875 18.265625 18.828125 12.890625  Q 22.859375 7.515625 30.078125 7.515625  Q 37.359375 7.515625 41.375 12.890625  Q 45.40625 18.265625 45.40625 27.984375  z M 54.390625 6.78125  Q 54.390625 -7.171875 48.1875 -13.984375  Q 42 -20.796875 29.203125 -20.796875  Q 24.46875 -20.796875 20.265625 -20.09375  Q 16.0625 -19.390625 12.109375 -17.921875  L 12.109375 -9.1875  Q 16.0625 -11.328125 19.921875 -12.34375  Q 23.78125 -13.375 27.78125 -13.375  Q 36.625 -13.375 41.015625 -8.765625  Q 45.40625 -4.15625 45.40625 5.171875  L 45.40625 9.625  Q 42.625 4.78125 38.28125 2.390625  Q 33.9375 0 27.875 0  Q 17.828125 0 11.671875 7.65625  Q 5.515625 15.328125 5.515625 27.984375  Q 5.515625 40.671875 11.671875 48.328125  Q 17.828125 56 27.875 56  Q 33.9375 56 38.28125 53.609375  Q 42.625 51.21875 45.40625 46.390625  L 45.40625 54.6875  L 54.390625 54.6875  z \" id=\"DejaVuSans-67\"/>\n",
       "     </defs>\n",
       "     <g transform=\"translate(320.434375 51.158437)scale(0.1 -0.1)\">\n",
       "      <use xlink:href=\"#DejaVuSans-54\"/>\n",
       "      <use x=\"60.865234\" xlink:href=\"#DejaVuSans-72\"/>\n",
       "      <use x=\"101.978516\" xlink:href=\"#DejaVuSans-61\"/>\n",
       "      <use x=\"163.257812\" xlink:href=\"#DejaVuSans-69\"/>\n",
       "      <use x=\"191.041016\" xlink:href=\"#DejaVuSans-6e\"/>\n",
       "      <use x=\"254.419922\" xlink:href=\"#DejaVuSans-69\"/>\n",
       "      <use x=\"282.203125\" xlink:href=\"#DejaVuSans-6e\"/>\n",
       "      <use x=\"345.582031\" xlink:href=\"#DejaVuSans-67\"/>\n",
       "      <use x=\"409.058594\" xlink:href=\"#DejaVuSans-20\"/>\n",
       "      <use x=\"440.845703\" xlink:href=\"#DejaVuSans-73\"/>\n",
       "      <use x=\"492.945312\" xlink:href=\"#DejaVuSans-65\"/>\n",
       "      <use x=\"554.46875\" xlink:href=\"#DejaVuSans-74\"/>\n",
       "     </g>\n",
       "    </g>\n",
       "   </g>\n",
       "  </g>\n",
       " </g>\n",
       " <defs>\n",
       "  <clipPath id=\"p8eea749993\">\n",
       "   <rect height=\"217.44\" width=\"334.8\" x=\"54\" y=\"34.56\"/>\n",
       "  </clipPath>\n",
       " </defs>\n",
       "</svg>"
      ],
      "text/plain": [
       "<IPython.core.display.SVG object>"
      ]
     },
     "metadata": {},
     "output_type": "display_data"
    },
    {
     "name": "stdout",
     "output_type": "stream",
     "text": [
      "========================================================================\n",
      "       |  Training |   output1 |   output2 \n",
      "Epochs |     Error |       acc |       acc \n",
      "------ | --------- | --------- | --------- \n",
      "#  881 |   0.01815 |   1.00000 |   1.00000 \n"
     ]
    }
   ],
   "source": [
    "net.train(epochs=2000, accuracy=1.0, report_rate=25, plot=True)"
   ]
  },
  {
   "cell_type": "code",
   "execution_count": 37,
   "metadata": {},
   "outputs": [
    {
     "data": {
      "text/plain": [
       "[[0.8253845], [0.82618642]]"
      ]
     },
     "execution_count": 37,
     "metadata": {},
     "output_type": "execute_result"
    }
   ],
   "source": [
    "net.propagate_from(\"shared-hidden\", [0.0] * 5)"
   ]
  },
  {
   "cell_type": "code",
   "execution_count": 38,
   "metadata": {},
   "outputs": [
    {
     "data": {
      "text/plain": [
       "[0.73835289478302,\n",
       " 0.8181569576263428,\n",
       " 0.7488211393356323,\n",
       " 0.21614700555801392,\n",
       " 0.8158043026924133,\n",
       " 0.13216380774974823,\n",
       " 0.19218505918979645,\n",
       " 0.8437826037406921,\n",
       " 0.7830644249916077,\n",
       " 0.8318384289741516]"
      ]
     },
     "execution_count": 38,
     "metadata": {},
     "output_type": "execute_result"
    }
   ],
   "source": [
    "net.propagate_to(\"hidden1\", [[1], [1]])"
   ]
  },
  {
   "cell_type": "code",
   "execution_count": 39,
   "metadata": {},
   "outputs": [
    {
     "name": "stdout",
     "output_type": "stream",
     "text": [
      "========================================================\n",
      "Testing train dataset with tolerance 0.1000...\n",
      "Total count: 4\n",
      "      correct: 4\n",
      "      incorrect: 0\n",
      "Total percentage correct: 1.0\n"
     ]
    }
   ],
   "source": [
    "net.test()"
   ]
  },
  {
   "cell_type": "code",
   "execution_count": 40,
   "metadata": {},
   "outputs": [],
   "source": [
    "net.dataset.slice(2)"
   ]
  },
  {
   "cell_type": "code",
   "execution_count": 41,
   "metadata": {},
   "outputs": [
    {
     "name": "stdout",
     "output_type": "stream",
     "text": [
      "No training required: accuracy already to desired value\n",
      "Training dataset status:\n",
      "       |  Training |   output1 |   output2 \n",
      "Epochs |     Error |       acc |       acc \n",
      "------ | --------- | --------- | --------- \n",
      "#  881 |   0.01815 |   1.00000 |   1.00000 \n"
     ]
    }
   ],
   "source": [
    "net.train(epochs=2000, accuracy=1.0, report_rate=25)"
   ]
  },
  {
   "cell_type": "markdown",
   "metadata": {},
   "source": [
    "# Conx model is a Keras Model\n",
    "\n",
    "Requires:\n",
    "\n",
    "* pip install pydot-ng"
   ]
  },
  {
   "cell_type": "code",
   "execution_count": 42,
   "metadata": {},
   "outputs": [],
   "source": [
    "from keras.utils.vis_utils import model_to_dot\n",
    "from IPython.display import HTML"
   ]
  },
  {
   "cell_type": "code",
   "execution_count": 43,
   "metadata": {},
   "outputs": [],
   "source": [
    "dot = model_to_dot(net.model, rankdir=\"BT\")"
   ]
  },
  {
   "cell_type": "code",
   "execution_count": 44,
   "metadata": {},
   "outputs": [
    {
     "data": {
      "text/html": [
       "<?xml version=\"1.0\" encoding=\"UTF-8\" standalone=\"no\"?>\n",
       "<!DOCTYPE svg PUBLIC \"-//W3C//DTD SVG 1.1//EN\"\n",
       " \"http://www.w3.org/Graphics/SVG/1.1/DTD/svg11.dtd\">\n",
       "<!-- Generated by graphviz version 2.38.0 (20140413.2041)\n",
       " -->\n",
       "<!-- Title: G Pages: 1 -->\n",
       "<svg width=\"264pt\" height=\"337pt\"\n",
       " viewBox=\"0.00 0.00 264.00 337.00\" xmlns=\"http://www.w3.org/2000/svg\" xmlns:xlink=\"http://www.w3.org/1999/xlink\">\n",
       "<g id=\"graph0\" class=\"graph\" transform=\"scale(1 1) rotate(0) translate(4 333)\">\n",
       "<title>G</title>\n",
       "<polygon fill=\"white\" stroke=\"none\" points=\"-4,4 -4,-333 260,-333 260,4 -4,4\"/>\n",
       "<!-- 140204328768512 -->\n",
       "<g id=\"node1\" class=\"node\"><title>140204328768512</title>\n",
       "<polygon fill=\"none\" stroke=\"black\" points=\"0,-0.5 0,-36.5 119,-36.5 119,-0.5 0,-0.5\"/>\n",
       "<text text-anchor=\"middle\" x=\"59.5\" y=\"-14.8\" font-family=\"Times,serif\" font-size=\"14.00\">input1: InputLayer</text>\n",
       "</g>\n",
       "<!-- 140204322822576 -->\n",
       "<g id=\"node3\" class=\"node\"><title>140204322822576</title>\n",
       "<polygon fill=\"none\" stroke=\"black\" points=\"13,-73.5 13,-109.5 114,-109.5 114,-73.5 13,-73.5\"/>\n",
       "<text text-anchor=\"middle\" x=\"63.5\" y=\"-87.8\" font-family=\"Times,serif\" font-size=\"14.00\">hidden1: Dense</text>\n",
       "</g>\n",
       "<!-- 140204328768512&#45;&gt;140204322822576 -->\n",
       "<g id=\"edge1\" class=\"edge\"><title>140204328768512&#45;&gt;140204322822576</title>\n",
       "<path fill=\"none\" stroke=\"black\" d=\"M60.4683,-36.6871C60.9203,-44.7105 61.4692,-54.4525 61.975,-63.4309\"/>\n",
       "<polygon fill=\"black\" stroke=\"black\" points=\"58.4836,-63.6839 62.5406,-73.4712 65.4725,-63.2901 58.4836,-63.6839\"/>\n",
       "</g>\n",
       "<!-- 140204324048344 -->\n",
       "<g id=\"node2\" class=\"node\"><title>140204324048344</title>\n",
       "<polygon fill=\"none\" stroke=\"black\" points=\"137,-0.5 137,-36.5 256,-36.5 256,-0.5 137,-0.5\"/>\n",
       "<text text-anchor=\"middle\" x=\"196.5\" y=\"-14.8\" font-family=\"Times,serif\" font-size=\"14.00\">input2: InputLayer</text>\n",
       "</g>\n",
       "<!-- 140204328767560 -->\n",
       "<g id=\"node4\" class=\"node\"><title>140204328767560</title>\n",
       "<polygon fill=\"none\" stroke=\"black\" points=\"141,-73.5 141,-109.5 242,-109.5 242,-73.5 141,-73.5\"/>\n",
       "<text text-anchor=\"middle\" x=\"191.5\" y=\"-87.8\" font-family=\"Times,serif\" font-size=\"14.00\">hidden2: Dense</text>\n",
       "</g>\n",
       "<!-- 140204324048344&#45;&gt;140204328767560 -->\n",
       "<g id=\"edge2\" class=\"edge\"><title>140204324048344&#45;&gt;140204328767560</title>\n",
       "<path fill=\"none\" stroke=\"black\" d=\"M195.29,-36.6871C194.725,-44.7105 194.039,-54.4525 193.406,-63.4309\"/>\n",
       "<polygon fill=\"black\" stroke=\"black\" points=\"189.91,-63.25 192.699,-73.4712 196.893,-63.7418 189.91,-63.25\"/>\n",
       "</g>\n",
       "<!-- 140204320915240 -->\n",
       "<g id=\"node5\" class=\"node\"><title>140204320915240</title>\n",
       "<polygon fill=\"none\" stroke=\"black\" points=\"43.5,-146.5 43.5,-182.5 211.5,-182.5 211.5,-146.5 43.5,-146.5\"/>\n",
       "<text text-anchor=\"middle\" x=\"127.5\" y=\"-160.8\" font-family=\"Times,serif\" font-size=\"14.00\">concatenate_2: Concatenate</text>\n",
       "</g>\n",
       "<!-- 140204322822576&#45;&gt;140204320915240 -->\n",
       "<g id=\"edge3\" class=\"edge\"><title>140204322822576&#45;&gt;140204320915240</title>\n",
       "<path fill=\"none\" stroke=\"black\" d=\"M78.9926,-109.687C86.9325,-118.495 96.7394,-129.375 105.453,-139.042\"/>\n",
       "<polygon fill=\"black\" stroke=\"black\" points=\"102.855,-141.387 112.15,-146.471 108.054,-136.7 102.855,-141.387\"/>\n",
       "</g>\n",
       "<!-- 140204328767560&#45;&gt;140204320915240 -->\n",
       "<g id=\"edge4\" class=\"edge\"><title>140204328767560&#45;&gt;140204320915240</title>\n",
       "<path fill=\"none\" stroke=\"black\" d=\"M176.007,-109.687C168.068,-118.495 158.261,-129.375 149.547,-139.042\"/>\n",
       "<polygon fill=\"black\" stroke=\"black\" points=\"146.946,-136.7 142.85,-146.471 152.145,-141.387 146.946,-136.7\"/>\n",
       "</g>\n",
       "<!-- 140204322822016 -->\n",
       "<g id=\"node6\" class=\"node\"><title>140204322822016</title>\n",
       "<polygon fill=\"none\" stroke=\"black\" points=\"60.5,-219.5 60.5,-255.5 194.5,-255.5 194.5,-219.5 60.5,-219.5\"/>\n",
       "<text text-anchor=\"middle\" x=\"127.5\" y=\"-233.8\" font-family=\"Times,serif\" font-size=\"14.00\">shared&#45;hidden: Dense</text>\n",
       "</g>\n",
       "<!-- 140204320915240&#45;&gt;140204322822016 -->\n",
       "<g id=\"edge5\" class=\"edge\"><title>140204320915240&#45;&gt;140204322822016</title>\n",
       "<path fill=\"none\" stroke=\"black\" d=\"M127.5,-182.687C127.5,-190.711 127.5,-200.453 127.5,-209.431\"/>\n",
       "<polygon fill=\"black\" stroke=\"black\" points=\"124,-209.471 127.5,-219.471 131,-209.471 124,-209.471\"/>\n",
       "</g>\n",
       "<!-- 140204328110400 -->\n",
       "<g id=\"node7\" class=\"node\"><title>140204328110400</title>\n",
       "<polygon fill=\"none\" stroke=\"black\" points=\"20,-292.5 20,-328.5 119,-328.5 119,-292.5 20,-292.5\"/>\n",
       "<text text-anchor=\"middle\" x=\"69.5\" y=\"-306.8\" font-family=\"Times,serif\" font-size=\"14.00\">output1: Dense</text>\n",
       "</g>\n",
       "<!-- 140204322822016&#45;&gt;140204328110400 -->\n",
       "<g id=\"edge6\" class=\"edge\"><title>140204322822016&#45;&gt;140204328110400</title>\n",
       "<path fill=\"none\" stroke=\"black\" d=\"M113.46,-255.687C106.407,-264.321 97.7281,-274.945 89.9504,-284.466\"/>\n",
       "<polygon fill=\"black\" stroke=\"black\" points=\"87.0268,-282.512 83.4109,-292.471 92.4479,-286.941 87.0268,-282.512\"/>\n",
       "</g>\n",
       "<!-- 140204324048008 -->\n",
       "<g id=\"node8\" class=\"node\"><title>140204324048008</title>\n",
       "<polygon fill=\"none\" stroke=\"black\" points=\"137,-292.5 137,-328.5 236,-328.5 236,-292.5 137,-292.5\"/>\n",
       "<text text-anchor=\"middle\" x=\"186.5\" y=\"-306.8\" font-family=\"Times,serif\" font-size=\"14.00\">output2: Dense</text>\n",
       "</g>\n",
       "<!-- 140204322822016&#45;&gt;140204324048008 -->\n",
       "<g id=\"edge7\" class=\"edge\"><title>140204322822016&#45;&gt;140204324048008</title>\n",
       "<path fill=\"none\" stroke=\"black\" d=\"M141.782,-255.687C149.029,-264.408 157.964,-275.16 165.936,-284.754\"/>\n",
       "<polygon fill=\"black\" stroke=\"black\" points=\"163.266,-287.017 172.349,-292.471 168.65,-282.543 163.266,-287.017\"/>\n",
       "</g>\n",
       "</g>\n",
       "</svg>\n"
      ],
      "text/plain": [
       "<IPython.core.display.HTML object>"
      ]
     },
     "execution_count": 44,
     "metadata": {},
     "output_type": "execute_result"
    }
   ],
   "source": [
    "HTML(dot.create_svg().decode())"
   ]
  }
 ],
 "metadata": {
  "kernelspec": {
   "display_name": "Python 3",
   "language": "python",
   "name": "python3"
  },
  "language_info": {
   "codemirror_mode": {
    "name": "ipython",
    "version": 3
   },
   "file_extension": ".py",
   "mimetype": "text/x-python",
   "name": "python",
   "nbconvert_exporter": "python",
   "pygments_lexer": "ipython3",
   "version": "3.6.3"
  },
  "widgets": {
   "application/vnd.jupyter.widget-state+json": {
    "state": {
     "00f408527de64abeafdc07452add2f93": {
      "model_module": "jupyter-js-widgets",
      "model_module_version": "~2.1.4",
      "model_name": "HTMLModel",
      "state": {
       "_model_module_version": "~2.1.4",
       "_view_module_version": "~2.1.4",
       "layout": "IPY_MODEL_3ab9546148904e7eb91f9c59b206f517",
       "value": "\n        <svg id='XOR2 Network' xmlns='http://www.w3.org/2000/svg' width=\"800\" height=\"310\" image-rendering=\"pixelated\">\n    <defs>\n        <marker id=\"arrow\" markerWidth=\"10\" markerHeight=\"10\" refX=\"9\" refY=\"3\" orient=\"auto\" markerUnits=\"strokeWidth\">\n          <path d=\"M0,0 L0,6 L9,3 z\" fill=\"black\" />\n        </marker>\n    </defs>\n<text x=\"400.0\" y=\"12.5\" font-family=\"monospace\" font-size=\"15\" text-anchor=\"middle\" alignment-baseline=\"central\">XOR2 Network</text><rect x=\"240.66666666666669\" y=\"29\" width=\"52\" height=\"52\" style=\"fill:none;stroke:black;stroke-width:2\"/><image id=\"XOR2 Network_output1_1\" class=\"XOR2 Network_output1\" x=\"241.66666666666669\" y=\"30\" height=\"50\" width=\"50\" preserveAspectRatio=\"none\" href=\"data:image/gif;base64,R0lGODdhAQABAIcAAPGefAAAAAAAAAAAAAAAAAAAAAAAAAAAAAAAAAAAAAAAAAAAAAAAAAAAAAAAAAAAAAAAAAAAAAAAAAAAAAAAAAAAAAAAAAAAAAAAAAAAAAAAAAAAAAAAAAAAAAAAAAAAAAAAAAAAAAAAAAAAAAAAAAAAAAAAAAAAAAAAAAAAAAAAAAAAAAAAAAAAAAAAAAAAAAAAAAAAAAAAAAAAAAAAAAAAAAAAAAAAAAAAAAAAAAAAAAAAAAAAAAAAAAAAAAAAAAAAAAAAAAAAAAAAAAAAAAAAAAAAAAAAAAAAAAAAAAAAAAAAAAAAAAAAAAAAAAAAAAAAAAAAAAAAAAAAAAAAAAAAAAAAAAAAAAAAAAAAAAAAAAAAAAAAAAAAAAAAAAAAAAAAAAAAAAAAAAAAAAAAAAAAAAAAAAAAAAAAAAAAAAAAAAAAAAAAAAAAAAAAAAAAAAAAAAAAAAAAAAAAAAAAAAAAAAAAAAAAAAAAAAAAAAAAAAAAAAAAAAAAAAAAAAAAAAAAAAAAAAAAAAAAAAAAAAAAAAAAAAAAAAAAAAAAAAAAAAAAAAAAAAAAAAAAAAAAAAAAAAAAAAAAAAAAAAAAAAAAAAAAAAAAAAAAAAAAAAAAAAAAAAAAAAAAAAAAAAAAAAAAAAAAAAAAAAAAAAAAAAAAAAAAAAAAAAAAAAAAAAAAAAAAAAAAAAAAAAAAAAAAAAAAAAAAAAAAAAAAAAAAAAAAAAAAAAAAAAAAAAAAAAAAAAAAAAAAAAAAAAAAAAAAAAAAAAAAAAAAAAAAAAAAAAAAAAAAAAAAAAAAAAAAAAAAAAAAAAAAAAAAAAAAAAAAAAAAAAAAAAAAAAAAAAAAAAAAAAAAAAAAAAAAAAAAAAAAAAAAAAAAAAAAAAAAAAAAAAAAAAAAAAAAAAAAAAAAAAAAAAAAAAAAAAAAAAAAAAAAAAAAAAAAAAAAAAAAAAAAAAAAAAAAAAAAAAAAAAAAAAAAAAAAAAAAAAAAAAAAAAAAAAAAAAAAAAAAAAAAAAAAACwAAAAAAQABAAAIBQABbAgIADs=\"><title>Layer: output1 (output)\n shape = (1,)\n Keras class = Dense\n activation = sigmoid</title></image><text x=\"296.6666666666667\" y=\"57.0\" font-family=\"monospace\" font-size=\"12\" text-anchor=\"start\" alignment-baseline=\"central\">output1</text><rect x=\"507.33333333333337\" y=\"29\" width=\"52\" height=\"52\" style=\"fill:none;stroke:black;stroke-width:2\"/><image id=\"XOR2 Network_output2_2\" class=\"XOR2 Network_output2\" x=\"508.33333333333337\" y=\"30\" height=\"50\" width=\"50\" preserveAspectRatio=\"none\" href=\"data:image/gif;base64,R0lGODdhAQABAIcAAP3r4QAAAAAAAAAAAAAAAAAAAAAAAAAAAAAAAAAAAAAAAAAAAAAAAAAAAAAAAAAAAAAAAAAAAAAAAAAAAAAAAAAAAAAAAAAAAAAAAAAAAAAAAAAAAAAAAAAAAAAAAAAAAAAAAAAAAAAAAAAAAAAAAAAAAAAAAAAAAAAAAAAAAAAAAAAAAAAAAAAAAAAAAAAAAAAAAAAAAAAAAAAAAAAAAAAAAAAAAAAAAAAAAAAAAAAAAAAAAAAAAAAAAAAAAAAAAAAAAAAAAAAAAAAAAAAAAAAAAAAAAAAAAAAAAAAAAAAAAAAAAAAAAAAAAAAAAAAAAAAAAAAAAAAAAAAAAAAAAAAAAAAAAAAAAAAAAAAAAAAAAAAAAAAAAAAAAAAAAAAAAAAAAAAAAAAAAAAAAAAAAAAAAAAAAAAAAAAAAAAAAAAAAAAAAAAAAAAAAAAAAAAAAAAAAAAAAAAAAAAAAAAAAAAAAAAAAAAAAAAAAAAAAAAAAAAAAAAAAAAAAAAAAAAAAAAAAAAAAAAAAAAAAAAAAAAAAAAAAAAAAAAAAAAAAAAAAAAAAAAAAAAAAAAAAAAAAAAAAAAAAAAAAAAAAAAAAAAAAAAAAAAAAAAAAAAAAAAAAAAAAAAAAAAAAAAAAAAAAAAAAAAAAAAAAAAAAAAAAAAAAAAAAAAAAAAAAAAAAAAAAAAAAAAAAAAAAAAAAAAAAAAAAAAAAAAAAAAAAAAAAAAAAAAAAAAAAAAAAAAAAAAAAAAAAAAAAAAAAAAAAAAAAAAAAAAAAAAAAAAAAAAAAAAAAAAAAAAAAAAAAAAAAAAAAAAAAAAAAAAAAAAAAAAAAAAAAAAAAAAAAAAAAAAAAAAAAAAAAAAAAAAAAAAAAAAAAAAAAAAAAAAAAAAAAAAAAAAAAAAAAAAAAAAAAAAAAAAAAAAAAAAAAAAAAAAAAAAAAAAAAAAAAAAAAAAAAAAAAAAAAAAAAAAAAAAAAAAAAAAAAAAAAAAAAAAAAAAAAAAAAAAAAAAAAAAAAAAAAAAAACwAAAAAAQABAAAIBQABbAgIADs=\"><title>Layer: output2 (output)\n shape = (1,)\n Keras class = Dense\n activation = sigmoid</title></image><text x=\"563.3333333333334\" y=\"57.0\" font-family=\"monospace\" font-size=\"12\" text-anchor=\"start\" alignment-baseline=\"central\">output2</text><line x1=\"400.0\" y1=\"109\" x2=\"266.6666666666667\" y2=\"82\" stroke=\"black\" stroke-width=\"2\" marker-end=\"url(#arrow)\"><title>Weights from shared-hidden to output1\n output1/kernel has shape (5, 1)\n output1/bias has shape (1,)</title></line><line x1=\"400.0\" y1=\"109\" x2=\"533.3333333333334\" y2=\"82\" stroke=\"black\" stroke-width=\"2\" marker-end=\"url(#arrow)\"><title>Weights from shared-hidden to output2\n output2/kernel has shape (5, 1)\n output2/bias has shape (1,)</title></line><rect x=\"299.0\" y=\"109\" width=\"202\" height=\"42\" style=\"fill:none;stroke:black;stroke-width:2\"/><image id=\"XOR2 Network_shared-hidden_3\" class=\"XOR2 Network_shared-hidden\" x=\"300.0\" y=\"110\" height=\"40\" width=\"200\" preserveAspectRatio=\"none\" href=\"data:image/gif;base64,R0lGODdhBQABAIcAAMnJydvb2/i/o/7w5wAAAAAAAAAAAAAAAAAAAAAAAAAAAAAAAAAAAAAAAAAAAAAAAAAAAAAAAAAAAAAAAAAAAAAAAAAAAAAAAAAAAAAAAAAAAAAAAAAAAAAAAAAAAAAAAAAAAAAAAAAAAAAAAAAAAAAAAAAAAAAAAAAAAAAAAAAAAAAAAAAAAAAAAAAAAAAAAAAAAAAAAAAAAAAAAAAAAAAAAAAAAAAAAAAAAAAAAAAAAAAAAAAAAAAAAAAAAAAAAAAAAAAAAAAAAAAAAAAAAAAAAAAAAAAAAAAAAAAAAAAAAAAAAAAAAAAAAAAAAAAAAAAAAAAAAAAAAAAAAAAAAAAAAAAAAAAAAAAAAAAAAAAAAAAAAAAAAAAAAAAAAAAAAAAAAAAAAAAAAAAAAAAAAAAAAAAAAAAAAAAAAAAAAAAAAAAAAAAAAAAAAAAAAAAAAAAAAAAAAAAAAAAAAAAAAAAAAAAAAAAAAAAAAAAAAAAAAAAAAAAAAAAAAAAAAAAAAAAAAAAAAAAAAAAAAAAAAAAAAAAAAAAAAAAAAAAAAAAAAAAAAAAAAAAAAAAAAAAAAAAAAAAAAAAAAAAAAAAAAAAAAAAAAAAAAAAAAAAAAAAAAAAAAAAAAAAAAAAAAAAAAAAAAAAAAAAAAAAAAAAAAAAAAAAAAAAAAAAAAAAAAAAAAAAAAAAAAAAAAAAAAAAAAAAAAAAAAAAAAAAAAAAAAAAAAAAAAAAAAAAAAAAAAAAAAAAAAAAAAAAAAAAAAAAAAAAAAAAAAAAAAAAAAAAAAAAAAAAAAAAAAAAAAAAAAAAAAAAAAAAAAAAAAAAAAAAAAAAAAAAAAAAAAAAAAAAAAAAAAAAAAAAAAAAAAAAAAAAAAAAAAAAAAAAAAAAAAAAAAAAAAAAAAAAAAAAAAAAAAAAAAAAAAAAAAAAAAAAAAAAAAAAAAAAAAAAAAAAAAAAAAAAAAAAAAAAAAAAAAAAAAAAAAAAAAAAAAAAAAAAAAAAAAAAAAAAAAAAAAAAAAAAAACwAAAAABQABAAAICAABCAAwIEBAADs=\"><title>Layer: shared-hidden (hidden)\n shape = (5,)\n Keras class = Dense\n activation = sigmoid</title></image><text x=\"505.0\" y=\"132.0\" font-family=\"monospace\" font-size=\"12\" text-anchor=\"start\" alignment-baseline=\"central\">shared-hidden</text><line x1=\"266.6666666666667\" y1=\"179\" x2=\"400.0\" y2=\"152\" stroke=\"black\" stroke-width=\"2\" marker-end=\"url(#arrow)\"><title>Weights from hidden1 to shared-hidden\n shared-hidden/kernel has shape (20, 5)\n shared-hidden/bias has shape (5,)</title></line><rect x=\"165.66666666666669\" y=\"179\" width=\"202\" height=\"27\" style=\"fill:none;stroke:black;stroke-width:2\"/><image id=\"XOR2 Network_hidden1_4\" class=\"XOR2 Network_hidden1\" x=\"166.66666666666669\" y=\"180\" height=\"25\" width=\"200\" preserveAspectRatio=\"none\" href=\"data:image/gif;base64,R0lGODdhCgABAIcAAP7+/QAAAAAAAAAAAAAAAAAAAAAAAAAAAAAAAAAAAAAAAAAAAAAAAAAAAAAAAAAAAAAAAAAAAAAAAAAAAAAAAAAAAAAAAAAAAAAAAAAAAAAAAAAAAAAAAAAAAAAAAAAAAAAAAAAAAAAAAAAAAAAAAAAAAAAAAAAAAAAAAAAAAAAAAAAAAAAAAAAAAAAAAAAAAAAAAAAAAAAAAAAAAAAAAAAAAAAAAAAAAAAAAAAAAAAAAAAAAAAAAAAAAAAAAAAAAAAAAAAAAAAAAAAAAAAAAAAAAAAAAAAAAAAAAAAAAAAAAAAAAAAAAAAAAAAAAAAAAAAAAAAAAAAAAAAAAAAAAAAAAAAAAAAAAAAAAAAAAAAAAAAAAAAAAAAAAAAAAAAAAAAAAAAAAAAAAAAAAAAAAAAAAAAAAAAAAAAAAAAAAAAAAAAAAAAAAAAAAAAAAAAAAAAAAAAAAAAAAAAAAAAAAAAAAAAAAAAAAAAAAAAAAAAAAAAAAAAAAAAAAAAAAAAAAAAAAAAAAAAAAAAAAAAAAAAAAAAAAAAAAAAAAAAAAAAAAAAAAAAAAAAAAAAAAAAAAAAAAAAAAAAAAAAAAAAAAAAAAAAAAAAAAAAAAAAAAAAAAAAAAAAAAAAAAAAAAAAAAAAAAAAAAAAAAAAAAAAAAAAAAAAAAAAAAAAAAAAAAAAAAAAAAAAAAAAAAAAAAAAAAAAAAAAAAAAAAAAAAAAAAAAAAAAAAAAAAAAAAAAAAAAAAAAAAAAAAAAAAAAAAAAAAAAAAAAAAAAAAAAAAAAAAAAAAAAAAAAAAAAAAAAAAAAAAAAAAAAAAAAAAAAAAAAAAAAAAAAAAAAAAAAAAAAAAAAAAAAAAAAAAAAAAAAAAAAAAAAAAAAAAAAAAAAAAAAAAAAAAAAAAAAAAAAAAAAAAAAAAAAAAAAAAAAAAAAAAAAAAAAAAAAAAAAAAAAAAAAAAAAAAAAAAAAAAAAAAAAAAAAAAAAAAAAAAAAAAAAAAAAAAAAAAAAAAAAAAAAAAAAAACwAAAAACgABAAAIBwABCBxIMCAAOw==\"><title>Layer: hidden1 (hidden)\n shape = (10,)\n Keras class = Dense\n activation = sigmoid</title></image><text x=\"371.6666666666667\" y=\"194.5\" font-family=\"monospace\" font-size=\"12\" text-anchor=\"start\" alignment-baseline=\"central\">hidden1</text><line x1=\"533.3333333333334\" y1=\"179\" x2=\"400.0\" y2=\"152\" stroke=\"black\" stroke-width=\"2\" marker-end=\"url(#arrow)\"><title>Weights from hidden2 to shared-hidden\n shared-hidden/kernel has shape (20, 5)\n shared-hidden/bias has shape (5,)</title></line><rect x=\"432.33333333333337\" y=\"179\" width=\"202\" height=\"27\" style=\"fill:none;stroke:black;stroke-width:2\"/><image id=\"XOR2 Network_hidden2_5\" class=\"XOR2 Network_hidden2\" x=\"433.33333333333337\" y=\"180\" height=\"25\" width=\"200\" preserveAspectRatio=\"none\" href=\"data:image/gif;base64,R0lGODdhCgABAIcAAP7+/QAAAAAAAAAAAAAAAAAAAAAAAAAAAAAAAAAAAAAAAAAAAAAAAAAAAAAAAAAAAAAAAAAAAAAAAAAAAAAAAAAAAAAAAAAAAAAAAAAAAAAAAAAAAAAAAAAAAAAAAAAAAAAAAAAAAAAAAAAAAAAAAAAAAAAAAAAAAAAAAAAAAAAAAAAAAAAAAAAAAAAAAAAAAAAAAAAAAAAAAAAAAAAAAAAAAAAAAAAAAAAAAAAAAAAAAAAAAAAAAAAAAAAAAAAAAAAAAAAAAAAAAAAAAAAAAAAAAAAAAAAAAAAAAAAAAAAAAAAAAAAAAAAAAAAAAAAAAAAAAAAAAAAAAAAAAAAAAAAAAAAAAAAAAAAAAAAAAAAAAAAAAAAAAAAAAAAAAAAAAAAAAAAAAAAAAAAAAAAAAAAAAAAAAAAAAAAAAAAAAAAAAAAAAAAAAAAAAAAAAAAAAAAAAAAAAAAAAAAAAAAAAAAAAAAAAAAAAAAAAAAAAAAAAAAAAAAAAAAAAAAAAAAAAAAAAAAAAAAAAAAAAAAAAAAAAAAAAAAAAAAAAAAAAAAAAAAAAAAAAAAAAAAAAAAAAAAAAAAAAAAAAAAAAAAAAAAAAAAAAAAAAAAAAAAAAAAAAAAAAAAAAAAAAAAAAAAAAAAAAAAAAAAAAAAAAAAAAAAAAAAAAAAAAAAAAAAAAAAAAAAAAAAAAAAAAAAAAAAAAAAAAAAAAAAAAAAAAAAAAAAAAAAAAAAAAAAAAAAAAAAAAAAAAAAAAAAAAAAAAAAAAAAAAAAAAAAAAAAAAAAAAAAAAAAAAAAAAAAAAAAAAAAAAAAAAAAAAAAAAAAAAAAAAAAAAAAAAAAAAAAAAAAAAAAAAAAAAAAAAAAAAAAAAAAAAAAAAAAAAAAAAAAAAAAAAAAAAAAAAAAAAAAAAAAAAAAAAAAAAAAAAAAAAAAAAAAAAAAAAAAAAAAAAAAAAAAAAAAAAAAAAAAAAAAAAAAAAAAAAAAAAAAAAAAAAAAAAAAAAAAAAAAAAAAAAAAAAAAAACwAAAAACgABAAAIBwABCBxIMCAAOw==\"><title>Layer: hidden2 (hidden)\n shape = (10,)\n Keras class = Dense\n activation = sigmoid</title></image><text x=\"638.3333333333334\" y=\"194.5\" font-family=\"monospace\" font-size=\"12\" text-anchor=\"start\" alignment-baseline=\"central\">hidden2</text><line x1=\"266.6666666666667\" y1=\"234\" x2=\"266.6666666666667\" y2=\"207\" stroke=\"black\" stroke-width=\"2\" marker-end=\"url(#arrow)\"><title>Weights from input1 to hidden1\n hidden1/kernel has shape (1, 10)\n hidden1/bias has shape (10,)</title></line><rect x=\"240.66666666666669\" y=\"234\" width=\"52\" height=\"52\" style=\"fill:none;stroke:black;stroke-width:2\"/><image id=\"XOR2 Network_input1_6\" class=\"XOR2 Network_input1\" x=\"241.66666666666669\" y=\"235\" height=\"50\" width=\"50\" preserveAspectRatio=\"none\" href=\"data:image/gif;base64,R0lGODdhAQABAIcAAP7+/QAAAAAAAAAAAAAAAAAAAAAAAAAAAAAAAAAAAAAAAAAAAAAAAAAAAAAAAAAAAAAAAAAAAAAAAAAAAAAAAAAAAAAAAAAAAAAAAAAAAAAAAAAAAAAAAAAAAAAAAAAAAAAAAAAAAAAAAAAAAAAAAAAAAAAAAAAAAAAAAAAAAAAAAAAAAAAAAAAAAAAAAAAAAAAAAAAAAAAAAAAAAAAAAAAAAAAAAAAAAAAAAAAAAAAAAAAAAAAAAAAAAAAAAAAAAAAAAAAAAAAAAAAAAAAAAAAAAAAAAAAAAAAAAAAAAAAAAAAAAAAAAAAAAAAAAAAAAAAAAAAAAAAAAAAAAAAAAAAAAAAAAAAAAAAAAAAAAAAAAAAAAAAAAAAAAAAAAAAAAAAAAAAAAAAAAAAAAAAAAAAAAAAAAAAAAAAAAAAAAAAAAAAAAAAAAAAAAAAAAAAAAAAAAAAAAAAAAAAAAAAAAAAAAAAAAAAAAAAAAAAAAAAAAAAAAAAAAAAAAAAAAAAAAAAAAAAAAAAAAAAAAAAAAAAAAAAAAAAAAAAAAAAAAAAAAAAAAAAAAAAAAAAAAAAAAAAAAAAAAAAAAAAAAAAAAAAAAAAAAAAAAAAAAAAAAAAAAAAAAAAAAAAAAAAAAAAAAAAAAAAAAAAAAAAAAAAAAAAAAAAAAAAAAAAAAAAAAAAAAAAAAAAAAAAAAAAAAAAAAAAAAAAAAAAAAAAAAAAAAAAAAAAAAAAAAAAAAAAAAAAAAAAAAAAAAAAAAAAAAAAAAAAAAAAAAAAAAAAAAAAAAAAAAAAAAAAAAAAAAAAAAAAAAAAAAAAAAAAAAAAAAAAAAAAAAAAAAAAAAAAAAAAAAAAAAAAAAAAAAAAAAAAAAAAAAAAAAAAAAAAAAAAAAAAAAAAAAAAAAAAAAAAAAAAAAAAAAAAAAAAAAAAAAAAAAAAAAAAAAAAAAAAAAAAAAAAAAAAAAAAAAAAAAAAAAAAAAAAAAAAAAAAAAAAAAAAAAAAAAAAAAAAAAAAAAAAAAAAAACwAAAAAAQABAAAIBQABbAgIADs=\"><title>Layer: input1 (input)\n shape = (1,)\n Keras class = Input</title></image><text x=\"296.6666666666667\" y=\"262.0\" font-family=\"monospace\" font-size=\"12\" text-anchor=\"start\" alignment-baseline=\"central\">input1</text><line x1=\"533.3333333333334\" y1=\"234\" x2=\"533.3333333333334\" y2=\"207\" stroke=\"black\" stroke-width=\"2\" marker-end=\"url(#arrow)\"><title>Weights from input2 to hidden2\n hidden2/kernel has shape (1, 10)\n hidden2/bias has shape (10,)</title></line><rect x=\"507.33333333333337\" y=\"234\" width=\"52\" height=\"52\" style=\"fill:none;stroke:black;stroke-width:2\"/><image id=\"XOR2 Network_input2_7\" class=\"XOR2 Network_input2\" x=\"508.33333333333337\" y=\"235\" height=\"50\" width=\"50\" preserveAspectRatio=\"none\" href=\"data:image/gif;base64,R0lGODdhAQABAIcAAP7+/QAAAAAAAAAAAAAAAAAAAAAAAAAAAAAAAAAAAAAAAAAAAAAAAAAAAAAAAAAAAAAAAAAAAAAAAAAAAAAAAAAAAAAAAAAAAAAAAAAAAAAAAAAAAAAAAAAAAAAAAAAAAAAAAAAAAAAAAAAAAAAAAAAAAAAAAAAAAAAAAAAAAAAAAAAAAAAAAAAAAAAAAAAAAAAAAAAAAAAAAAAAAAAAAAAAAAAAAAAAAAAAAAAAAAAAAAAAAAAAAAAAAAAAAAAAAAAAAAAAAAAAAAAAAAAAAAAAAAAAAAAAAAAAAAAAAAAAAAAAAAAAAAAAAAAAAAAAAAAAAAAAAAAAAAAAAAAAAAAAAAAAAAAAAAAAAAAAAAAAAAAAAAAAAAAAAAAAAAAAAAAAAAAAAAAAAAAAAAAAAAAAAAAAAAAAAAAAAAAAAAAAAAAAAAAAAAAAAAAAAAAAAAAAAAAAAAAAAAAAAAAAAAAAAAAAAAAAAAAAAAAAAAAAAAAAAAAAAAAAAAAAAAAAAAAAAAAAAAAAAAAAAAAAAAAAAAAAAAAAAAAAAAAAAAAAAAAAAAAAAAAAAAAAAAAAAAAAAAAAAAAAAAAAAAAAAAAAAAAAAAAAAAAAAAAAAAAAAAAAAAAAAAAAAAAAAAAAAAAAAAAAAAAAAAAAAAAAAAAAAAAAAAAAAAAAAAAAAAAAAAAAAAAAAAAAAAAAAAAAAAAAAAAAAAAAAAAAAAAAAAAAAAAAAAAAAAAAAAAAAAAAAAAAAAAAAAAAAAAAAAAAAAAAAAAAAAAAAAAAAAAAAAAAAAAAAAAAAAAAAAAAAAAAAAAAAAAAAAAAAAAAAAAAAAAAAAAAAAAAAAAAAAAAAAAAAAAAAAAAAAAAAAAAAAAAAAAAAAAAAAAAAAAAAAAAAAAAAAAAAAAAAAAAAAAAAAAAAAAAAAAAAAAAAAAAAAAAAAAAAAAAAAAAAAAAAAAAAAAAAAAAAAAAAAAAAAAAAAAAAAAAAAAAAAAAAAAAAAAAAAAAAAAAAAAAAAAAAAAAACwAAAAAAQABAAAIBQABbAgIADs=\"><title>Layer: input2 (input)\n shape = (1,)\n Keras class = Input</title></image><text x=\"563.3333333333334\" y=\"262.0\" font-family=\"monospace\" font-size=\"12\" text-anchor=\"start\" alignment-baseline=\"central\">input2</text></svg>"
      }
     },
     "0912cba0e4fd4801af09d4e4cd6dfd1a": {
      "model_module": "jupyter-js-widgets",
      "model_module_version": "~2.1.4",
      "model_name": "LayoutModel",
      "state": {
       "_model_module_version": "~2.1.4",
       "_view_module_version": "~2.1.4",
       "height": "550px",
       "width": "100%"
      }
     },
     "0a15ab975a4545a9afeaaec86c3ab390": {
      "model_module": "jupyter-js-widgets",
      "model_module_version": "~2.1.4",
      "model_name": "ButtonModel",
      "state": {
       "_model_module_version": "~2.1.4",
       "_view_module_version": "~2.1.4",
       "description": "Train",
       "layout": "IPY_MODEL_1d804800bda84f9393a7cc0f4a4774d7",
       "style": "IPY_MODEL_bcdc6595e5c8447c962b0e20ebafc54b"
      }
     },
     "0a19f15fd1e24d62b7f071b4d48f5aad": {
      "model_module": "jupyter-js-widgets",
      "model_module_version": "~2.1.4",
      "model_name": "ButtonModel",
      "state": {
       "_model_module_version": "~2.1.4",
       "_view_module_version": "~2.1.4",
       "icon": "backward",
       "layout": "IPY_MODEL_e259ae339b5547a28a49724a31ebecfd",
       "style": "IPY_MODEL_96e06b3f1faf42d9b26bf0172c2bbbca"
      }
     },
     "0a84d47fcd3e4634bcc47acd365023d5": {
      "model_module": "jupyter-js-widgets",
      "model_module_version": "~2.1.4",
      "model_name": "VBoxModel",
      "state": {
       "_model_module_version": "~2.1.4",
       "_view_module_version": "~2.1.4",
       "children": [
        "IPY_MODEL_3d33d4c24f7b4ef786ce43689b8a0863",
        "IPY_MODEL_1d638e4c28cd49cebf828117d3a090d7",
        "IPY_MODEL_a2a96470032b4fcb8b12e392803f363f"
       ],
       "layout": "IPY_MODEL_e7a2face8ab9404289096b8dcfb60e6e"
      }
     },
     "0c777aacbf3c4494997c450b4c817fb6": {
      "model_module": "jupyter-js-widgets",
      "model_module_version": "~2.1.4",
      "model_name": "LayoutModel",
      "state": {
       "_model_module_version": "~2.1.4",
       "_view_module_version": "~2.1.4",
       "width": "100%"
      }
     },
     "0d51443cf4dc4a989b5270151265ba2f": {
      "model_module": "jupyter-js-widgets",
      "model_module_version": "~2.1.4",
      "model_name": "LayoutModel",
      "state": {
       "_model_module_version": "~2.1.4",
       "_view_module_version": "~2.1.4",
       "height": "550px",
       "width": "100%"
      }
     },
     "0f036349725c4fe69fc81fa000f5e4f7": {
      "model_module": "jupyter-js-widgets",
      "model_module_version": "~2.1.4",
      "model_name": "LayoutModel",
      "state": {
       "_model_module_version": "~2.1.4",
       "_view_module_version": "~2.1.4",
       "height": "550px",
       "width": "100%"
      }
     },
     "10efbe283a594b8bae3db1225974a965": {
      "model_module": "jupyter-js-widgets",
      "model_module_version": "~2.1.4",
      "model_name": "ButtonModel",
      "state": {
       "_model_module_version": "~2.1.4",
       "_view_module_version": "~2.1.4",
       "icon": "forward",
       "layout": "IPY_MODEL_96bd769ad12444cfa319a79b44d523d9",
       "style": "IPY_MODEL_a7ce02124ec14ff987573e1a3e7b7cae"
      }
     },
     "118f03312cc646a4ae947ae3e48ddac9": {
      "model_module": "jupyter-js-widgets",
      "model_module_version": "~2.1.4",
      "model_name": "LayoutModel",
      "state": {
       "_model_module_version": "~2.1.4",
       "_view_module_version": "~2.1.4"
      }
     },
     "119a7832f4c347d8a18ce153776418c5": {
      "model_module": "jupyter-js-widgets",
      "model_module_version": "~2.1.4",
      "model_name": "ButtonModel",
      "state": {
       "_model_module_version": "~2.1.4",
       "_view_module_version": "~2.1.4",
       "icon": "fast-backward",
       "layout": "IPY_MODEL_990afa9cbf894543a605552961f8602b",
       "style": "IPY_MODEL_7d9bd23ce4da42f4b43756b0140a08d5"
      }
     },
     "11bc7059df0b4d95b7146832a63d525e": {
      "model_module": "jupyter-js-widgets",
      "model_module_version": "~2.1.4",
      "model_name": "SliderStyleModel",
      "state": {
       "_model_module_version": "~2.1.4",
       "_view_module_version": "~2.1.4"
      }
     },
     "1335c1784d6647e08d3492b69fd860bf": {
      "model_module": "jupyter-js-widgets",
      "model_module_version": "~2.1.4",
      "model_name": "TabModel",
      "state": {
       "_model_module_version": "~2.1.4",
       "_titles": {
        "0": "Network",
        "1": "Graphs",
        "2": "Analysis",
        "3": "Camera",
        "4": "Help"
       },
       "_view_module_version": "~2.1.4",
       "children": [
        "IPY_MODEL_5b4b45a3bf544d8287f071c0720319a6",
        "IPY_MODEL_7715e57c06a04b3b94a2434f9a324996",
        "IPY_MODEL_29b45322b4cc4e9a95e64ce4ca88de91",
        "IPY_MODEL_c6eb575c5cb647caafc04bf19c6e5e15",
        "IPY_MODEL_50e4101d37d3454b8be393c21dd1ec8d"
       ],
       "layout": "IPY_MODEL_ee2c4d7344e64ec3ad08d9bfb1fb8e30"
      }
     },
     "1a69bb4803074ecb8d7db075aca046fb": {
      "model_module": "jupyter-js-widgets",
      "model_module_version": "~2.1.4",
      "model_name": "LayoutModel",
      "state": {
       "_model_module_version": "~2.1.4",
       "_view_module_version": "~2.1.4",
       "width": "100%"
      }
     },
     "1d638e4c28cd49cebf828117d3a090d7": {
      "model_module": "jupyter-js-widgets",
      "model_module_version": "~2.1.4",
      "model_name": "IntSliderModel",
      "state": {
       "_model_module_version": "~2.1.4",
       "_view_module_version": "~2.1.4",
       "continuous_update": false,
       "description": "Dataset index",
       "layout": "IPY_MODEL_ad1840050e694738bd6b7c7cc6d69ff1",
       "max": 3,
       "style": "IPY_MODEL_4c49e413e0364a958869e2fddca8fa33"
      }
     },
     "1d804800bda84f9393a7cc0f4a4774d7": {
      "model_module": "jupyter-js-widgets",
      "model_module_version": "~2.1.4",
      "model_name": "LayoutModel",
      "state": {
       "_model_module_version": "~2.1.4",
       "_view_module_version": "~2.1.4",
       "width": "100%"
      }
     },
     "2116294f0f27477fbe70e1a56f0765d0": {
      "model_module": "jupyter-js-widgets",
      "model_module_version": "~2.1.4",
      "model_name": "LayoutModel",
      "state": {
       "_model_module_version": "~2.1.4",
       "_view_module_version": "~2.1.4",
       "height": "550px",
       "width": "100%"
      }
     },
     "21631d4946784bc99ade230d4d8d1c60": {
      "model_module": "jupyter-js-widgets",
      "model_module_version": "~2.1.4",
      "model_name": "LayoutModel",
      "state": {
       "_model_module_version": "~2.1.4",
       "_view_module_version": "~2.1.4",
       "width": "100%"
      }
     },
     "21d15ee148db4c0d90b0b2fc710137fa": {
      "model_module": "jupyter-js-widgets",
      "model_module_version": "~2.1.4",
      "model_name": "LayoutModel",
      "state": {
       "_model_module_version": "~2.1.4",
       "_view_module_version": "~2.1.4",
       "width": "100%"
      }
     },
     "22b5bc692c0547829f492e0fd3e87582": {
      "model_module": "jupyter-js-widgets",
      "model_module_version": "~2.1.4",
      "model_name": "IntSliderModel",
      "state": {
       "_model_module_version": "~2.1.4",
       "_view_module_version": "~2.1.4",
       "continuous_update": false,
       "description": "Dataset index",
       "layout": "IPY_MODEL_75f52b12bfa94abda85e78b84443d5ba",
       "max": 3,
       "style": "IPY_MODEL_11bc7059df0b4d95b7146832a63d525e"
      }
     },
     "24d9ee9b2a2f42a1a7ec1cf3b1bf3361": {
      "model_module": "jupyter-js-widgets",
      "model_module_version": "~2.1.4",
      "model_name": "HBoxModel",
      "state": {
       "_model_module_version": "~2.1.4",
       "_view_module_version": "~2.1.4",
       "children": [
        "IPY_MODEL_119a7832f4c347d8a18ce153776418c5",
        "IPY_MODEL_8604d546a1fc439c96e449603813fefc",
        "IPY_MODEL_0a15ab975a4545a9afeaaec86c3ab390",
        "IPY_MODEL_6a3376843cfa4f8a9e819a87e77c4279",
        "IPY_MODEL_9094bfd58c97409495ef53a49d910de1"
       ],
       "layout": "IPY_MODEL_715110de728740189ae284d1ab5fdf9f"
      }
     },
     "285fbcbd1b524125abeb83266a22ba7f": {
      "model_module": "jupyter-js-widgets",
      "model_module_version": "~2.1.4",
      "model_name": "VBoxModel",
      "state": {
       "_model_module_version": "~2.1.4",
       "_view_module_version": "~2.1.4",
       "children": [
        "IPY_MODEL_8ea0c9fbdd4648429be85792f1858045",
        "IPY_MODEL_954c82b3ead0488cafecdb5a00f6f29a"
       ],
       "layout": "IPY_MODEL_2a38edb551ee45b39627eda2a8646620"
      }
     },
     "2962416218ae4c05a09ce3d677ad4ec9": {
      "model_module": "jupyter-js-widgets",
      "model_module_version": "~2.1.4",
      "model_name": "ButtonStyleModel",
      "state": {
       "_model_module_version": "~2.1.4",
       "_view_module_version": "~2.1.4"
      }
     },
     "29b45322b4cc4e9a95e64ce4ca88de91": {
      "model_module": "jupyter-js-widgets",
      "model_module_version": "~2.1.4",
      "model_name": "VBoxModel",
      "state": {
       "_model_module_version": "~2.1.4",
       "_view_module_version": "~2.1.4",
       "layout": "IPY_MODEL_6fa2470e66994ea1a72b16d80ab7fa29"
      }
     },
     "2a0418946ec448bf979d79510f2dbb47": {
      "model_module": "jupyter-js-widgets",
      "model_module_version": "~2.1.4",
      "model_name": "SelectModel",
      "state": {
       "_model_module_version": "~2.1.4",
       "_options_labels": [
        "Test",
        "Train"
       ],
       "_view_module_version": "~2.1.4",
       "description": "Dataset:",
       "layout": "IPY_MODEL_caf1c94d379f4e0f8d77a011ce9b746e",
       "value": "Train"
      }
     },
     "2a38edb551ee45b39627eda2a8646620": {
      "model_module": "jupyter-js-widgets",
      "model_module_version": "~2.1.4",
      "model_name": "LayoutModel",
      "state": {
       "_model_module_version": "~2.1.4",
       "_view_module_version": "~2.1.4",
       "height": "550px",
       "width": "100%"
      }
     },
     "2c4800ceb7fe4d83b8df9479c11e8441": {
      "model_module": "jupyter-js-widgets",
      "model_module_version": "~2.1.4",
      "model_name": "LayoutModel",
      "state": {
       "_model_module_version": "~2.1.4",
       "_view_module_version": "~2.1.4",
       "height": "550px",
       "width": "100%"
      }
     },
     "2d90ec1c6e0344aa8a8efb5288261fa8": {
      "model_module": "jupyter-js-widgets",
      "model_module_version": "~2.1.4",
      "model_name": "SelectModel",
      "state": {
       "_model_module_version": "~2.1.4",
       "_options_labels": [
        "Test",
        "Train"
       ],
       "_view_module_version": "~2.1.4",
       "description": "Dataset:",
       "layout": "IPY_MODEL_ee7fd4ed056047638d2f2c881d269831",
       "value": "Train"
      }
     },
     "2db99f3f66af409389adfb84e9df919c": {
      "model_module": "jupyter-js-widgets",
      "model_module_version": "~2.1.4",
      "model_name": "SliderStyleModel",
      "state": {
       "_model_module_version": "~2.1.4",
       "_view_module_version": "~2.1.4"
      }
     },
     "2de56e1b54834baca6cd87635b6816c9": {
      "model_module": "jupyter-js-widgets",
      "model_module_version": "~2.1.4",
      "model_name": "LayoutModel",
      "state": {
       "_model_module_version": "~2.1.4",
       "_view_module_version": "~2.1.4"
      }
     },
     "2e629274019647b6bc0dfb3e4205bebe": {
      "model_module": "jupyter-js-widgets",
      "model_module_version": "~2.1.4",
      "model_name": "ButtonStyleModel",
      "state": {
       "_model_module_version": "~2.1.4",
       "_view_module_version": "~2.1.4"
      }
     },
     "2e8a10d4ae2149a29d906127196d2e59": {
      "model_module": "jupyter-js-widgets",
      "model_module_version": "~2.1.4",
      "model_name": "ButtonStyleModel",
      "state": {
       "_model_module_version": "~2.1.4",
       "_view_module_version": "~2.1.4"
      }
     },
     "2f9619e869864249bff0462a3b8031cf": {
      "model_module": "jupyter-js-widgets",
      "model_module_version": "~2.1.4",
      "model_name": "ButtonModel",
      "state": {
       "_model_module_version": "~2.1.4",
       "_view_module_version": "~2.1.4",
       "description": "Train",
       "layout": "IPY_MODEL_654a7096e02f4f6086c234492284f328",
       "style": "IPY_MODEL_78517f7fddb54bfbae0485ed629a0b4e"
      }
     },
     "303663799f0e4c6e88e2b17f695f2428": {
      "model_module": "jupyter-js-widgets",
      "model_module_version": "~2.1.4",
      "model_name": "LayoutModel",
      "state": {
       "_model_module_version": "~2.1.4",
       "_view_module_version": "~2.1.4",
       "height": "550px",
       "width": "100%"
      }
     },
     "30d853038fe048738f113bad038e1e07": {
      "model_module": "jupyter-js-widgets",
      "model_module_version": "~2.1.4",
      "model_name": "ButtonModel",
      "state": {
       "_model_module_version": "~2.1.4",
       "_view_module_version": "~2.1.4",
       "icon": "backward",
       "layout": "IPY_MODEL_7fdd07c6523941549fcb377a1dee7ea4",
       "style": "IPY_MODEL_abcbb837ac894a94b5ad55ecfd3e532d"
      }
     },
     "332abdce63d74697a58def27b59b7494": {
      "model_module": "jupyter-js-widgets",
      "model_module_version": "~2.1.4",
      "model_name": "LayoutModel",
      "state": {
       "_model_module_version": "~2.1.4",
       "_view_module_version": "~2.1.4",
       "width": "100%"
      }
     },
     "336ea1c160b44512aaa0b2a180d5f989": {
      "model_module": "jupyter-js-widgets",
      "model_module_version": "~2.1.4",
      "model_name": "LayoutModel",
      "state": {
       "_model_module_version": "~2.1.4",
       "_view_module_version": "~2.1.4",
       "width": "100%"
      }
     },
     "338da9cb351e4e709c6286b4944812a3": {
      "model_module": "jupyter-js-widgets",
      "model_module_version": "~2.1.4",
      "model_name": "HTMLModel",
      "state": {
       "_model_module_version": "~2.1.4",
       "_view_module_version": "~2.1.4",
       "layout": "IPY_MODEL_0912cba0e4fd4801af09d4e4cd6dfd1a",
       "value": "\n<!-- TODO: Remove this SCRIPT when next version of ipywidgets comes out -->\n<style>\n.widget-html > .widget-html-content, .widget-htmlmath > .widget-html-content {\n    /* Fill out the area in the HTML widget */\n    align-self: stretch;\n    flex-grow: 1;\n    flex-shrink: 1;\n    /* Makes sure the baseline is still aligned with other elements */\n    line-height: var(--jp-widgets-inline-height);\n    /* Make it possible to have absolutely-positioned elements in the html */\n    position: relative;\n}\n</style>\n\n<iframe src=\"https://conx.readthedocs.io\" width=\"100%\" height=\"550px\"></frame>\n"
      }
     },
     "3492663131a1473fb5ef52af29d77e50": {
      "model_module": "jupyter-js-widgets",
      "model_module_version": "~2.1.4",
      "model_name": "LayoutModel",
      "state": {
       "_model_module_version": "~2.1.4",
       "_view_module_version": "~2.1.4",
       "height": "550px",
       "width": "100%"
      }
     },
     "36ef00ffc6c24cb7861da445e12968e3": {
      "model_module": "jupyter-js-widgets",
      "model_module_version": "~2.1.4",
      "model_name": "LayoutModel",
      "state": {
       "_model_module_version": "~2.1.4",
       "_view_module_version": "~2.1.4",
       "width": "100%"
      }
     },
     "380f0c4cb2d047919c2d79292485e097": {
      "model_module": "jupyter-js-widgets",
      "model_module_version": "~2.1.4",
      "model_name": "ButtonStyleModel",
      "state": {
       "_model_module_version": "~2.1.4",
       "_view_module_version": "~2.1.4"
      }
     },
     "3982a3f6ae5347ee9d79abedee30a294": {
      "model_module": "jupyter-js-widgets",
      "model_module_version": "~2.1.4",
      "model_name": "TabModel",
      "state": {
       "_model_module_version": "~2.1.4",
       "_titles": {
        "0": "Network",
        "1": "Graphs",
        "2": "Analysis",
        "3": "Camera",
        "4": "Help"
       },
       "_view_module_version": "~2.1.4",
       "children": [
        "IPY_MODEL_ef9ccbce18484c2f80705c05cdee907b",
        "IPY_MODEL_90f2eb0bb1cf4b63985c4fdf5ae68d81",
        "IPY_MODEL_9c0883a829a24cad8c9d5e8780faa523",
        "IPY_MODEL_59e5ef1ede08492b911ec8bb848b4a46",
        "IPY_MODEL_81ea9309495542b599212c94fa8cd7ea"
       ],
       "layout": "IPY_MODEL_53474ad09f074868a8f995e731dc2ee4"
      }
     },
     "3a7e041806cf44eaae33f1700243e19b": {
      "model_module": "jupyter-js-widgets",
      "model_module_version": "~2.1.4",
      "model_name": "LayoutModel",
      "state": {
       "_model_module_version": "~2.1.4",
       "_view_module_version": "~2.1.4",
       "height": "550px",
       "width": "100%"
      }
     },
     "3ab9546148904e7eb91f9c59b206f517": {
      "model_module": "jupyter-js-widgets",
      "model_module_version": "~2.1.4",
      "model_name": "LayoutModel",
      "state": {
       "_model_module_version": "~2.1.4",
       "_view_module_version": "~2.1.4",
       "height": "550px",
       "justify_content": "center",
       "overflow_x": "auto",
       "width": "100%"
      }
     },
     "3d0d374a691c47bca4abe4641b4dd5b6": {
      "model_module": "jupyter-js-widgets",
      "model_module_version": "~2.1.4",
      "model_name": "ButtonStyleModel",
      "state": {
       "_model_module_version": "~2.1.4",
       "_view_module_version": "~2.1.4"
      }
     },
     "3d33d4c24f7b4ef786ce43689b8a0863": {
      "model_module": "jupyter-js-widgets",
      "model_module_version": "~2.1.4",
      "model_name": "SelectModel",
      "state": {
       "_model_module_version": "~2.1.4",
       "_options_labels": [
        "Test",
        "Train"
       ],
       "_view_module_version": "~2.1.4",
       "description": "Dataset:",
       "layout": "IPY_MODEL_6fc023323c1440a3a091becad574cfcf",
       "value": "Train"
      }
     },
     "3d52155c37b54e3bb332abf9ac2a5b00": {
      "model_module": "jupyter-js-widgets",
      "model_module_version": "~2.1.4",
      "model_name": "LayoutModel",
      "state": {
       "_model_module_version": "~2.1.4",
       "_view_module_version": "~2.1.4",
       "height": "550px",
       "justify_content": "center",
       "overflow_x": "auto",
       "width": "100%"
      }
     },
     "3f852f57ea05460a9d68e7bc2f6554c0": {
      "model_module": "jupyter-js-widgets",
      "model_module_version": "~2.1.4",
      "model_name": "LayoutModel",
      "state": {
       "_model_module_version": "~2.1.4",
       "_view_module_version": "~2.1.4",
       "width": "100%"
      }
     },
     "411cdf7e313a4dd09c2ce87214ef4a9a": {
      "model_module": "jupyter-js-widgets",
      "model_module_version": "~2.1.4",
      "model_name": "ButtonStyleModel",
      "state": {
       "_model_module_version": "~2.1.4",
       "_view_module_version": "~2.1.4"
      }
     },
     "45a90300c4a242fc929836b2d4864d08": {
      "model_module": "jupyter-js-widgets",
      "model_module_version": "~2.1.4",
      "model_name": "ButtonModel",
      "state": {
       "_model_module_version": "~2.1.4",
       "_view_module_version": "~2.1.4",
       "icon": "fast-backward",
       "layout": "IPY_MODEL_a94957fb3f4e485c9162ea6bab85f218",
       "style": "IPY_MODEL_5d12db92a1d24908ac5c8486f41138c2"
      }
     },
     "47ae47511a0f46b481f64a15a28b07f8": {
      "model_module": "jupyter-js-widgets",
      "model_module_version": "~2.1.4",
      "model_name": "VBoxModel",
      "state": {
       "_model_module_version": "~2.1.4",
       "_view_module_version": "~2.1.4",
       "children": [
        "IPY_MODEL_cfef5edaa4304b23b0eb5aa436432849",
        "IPY_MODEL_64c5330ae0d3433e9af4561b31f9f1f0"
       ],
       "layout": "IPY_MODEL_5cb44abeee204cd391df3560866b10bd"
      }
     },
     "47c4904ce09a4fa88e3b45d2688151d4": {
      "model_module": "jupyter-js-widgets",
      "model_module_version": "~2.1.4",
      "model_name": "LayoutModel",
      "state": {
       "_model_module_version": "~2.1.4",
       "_view_module_version": "~2.1.4",
       "width": "100%"
      }
     },
     "495712c2873846188711a9857c289d35": {
      "model_module": "jupyter-js-widgets",
      "model_module_version": "~2.1.4",
      "model_name": "ButtonStyleModel",
      "state": {
       "_model_module_version": "~2.1.4",
       "_view_module_version": "~2.1.4"
      }
     },
     "4a79ebd70bf247d79b097b7850c1ae61": {
      "model_module": "jupyter-js-widgets",
      "model_module_version": "~2.1.4",
      "model_name": "HTMLModel",
      "state": {
       "_model_module_version": "~2.1.4",
       "_view_module_version": "~2.1.4",
       "layout": "IPY_MODEL_a3adcc0c784942dd84a274a1b7927fd9",
       "value": "\n        <svg id='XOR Network' xmlns='http://www.w3.org/2000/svg' width=\"350\" height=\"265\" image-rendering=\"pixelated\">\n    <defs>\n        <marker id=\"arrow\" markerWidth=\"10\" markerHeight=\"10\" refX=\"9\" refY=\"3\" orient=\"auto\" markerUnits=\"strokeWidth\">\n          <path d=\"M0,0 L0,6 L9,3 z\" fill=\"black\" />\n        </marker>\n    </defs>\n<text x=\"175.0\" y=\"12.5\" font-family=\"monospace\" font-size=\"15\" text-anchor=\"middle\" alignment-baseline=\"central\">XOR Network</text><rect x=\"149.0\" y=\"29\" width=\"52\" height=\"52\" style=\"fill:none;stroke:black;stroke-width:2\"/><image id=\"XOR Network_output_1\" class=\"XOR Network_output\" x=\"150.0\" y=\"30\" height=\"50\" width=\"50\" preserveAspectRatio=\"none\" href=\"data:image/gif;base64,R0lGODdhAQABAIcAAO7u7gAAAAAAAAAAAAAAAAAAAAAAAAAAAAAAAAAAAAAAAAAAAAAAAAAAAAAAAAAAAAAAAAAAAAAAAAAAAAAAAAAAAAAAAAAAAAAAAAAAAAAAAAAAAAAAAAAAAAAAAAAAAAAAAAAAAAAAAAAAAAAAAAAAAAAAAAAAAAAAAAAAAAAAAAAAAAAAAAAAAAAAAAAAAAAAAAAAAAAAAAAAAAAAAAAAAAAAAAAAAAAAAAAAAAAAAAAAAAAAAAAAAAAAAAAAAAAAAAAAAAAAAAAAAAAAAAAAAAAAAAAAAAAAAAAAAAAAAAAAAAAAAAAAAAAAAAAAAAAAAAAAAAAAAAAAAAAAAAAAAAAAAAAAAAAAAAAAAAAAAAAAAAAAAAAAAAAAAAAAAAAAAAAAAAAAAAAAAAAAAAAAAAAAAAAAAAAAAAAAAAAAAAAAAAAAAAAAAAAAAAAAAAAAAAAAAAAAAAAAAAAAAAAAAAAAAAAAAAAAAAAAAAAAAAAAAAAAAAAAAAAAAAAAAAAAAAAAAAAAAAAAAAAAAAAAAAAAAAAAAAAAAAAAAAAAAAAAAAAAAAAAAAAAAAAAAAAAAAAAAAAAAAAAAAAAAAAAAAAAAAAAAAAAAAAAAAAAAAAAAAAAAAAAAAAAAAAAAAAAAAAAAAAAAAAAAAAAAAAAAAAAAAAAAAAAAAAAAAAAAAAAAAAAAAAAAAAAAAAAAAAAAAAAAAAAAAAAAAAAAAAAAAAAAAAAAAAAAAAAAAAAAAAAAAAAAAAAAAAAAAAAAAAAAAAAAAAAAAAAAAAAAAAAAAAAAAAAAAAAAAAAAAAAAAAAAAAAAAAAAAAAAAAAAAAAAAAAAAAAAAAAAAAAAAAAAAAAAAAAAAAAAAAAAAAAAAAAAAAAAAAAAAAAAAAAAAAAAAAAAAAAAAAAAAAAAAAAAAAAAAAAAAAAAAAAAAAAAAAAAAAAAAAAAAAAAAAAAAAAAAAAAAAAAAAAAAAAAAAAAAAAAAAAAAAAAAAAAAAAAAAAAAAAAAAAAAAAAAAAACwAAAAAAQABAAAIBQABAAgIADs=\"><title>Layer: output (output)\n shape = (1,)\n Keras class = Dense\n activation = sigmoid</title></image><text x=\"205.0\" y=\"57.0\" font-family=\"monospace\" font-size=\"12\" text-anchor=\"start\" alignment-baseline=\"central\">output</text><line x1=\"175.0\" y1=\"109\" x2=\"175.0\" y2=\"82\" stroke=\"black\" stroke-width=\"2\" marker-end=\"url(#arrow)\"><title>Weights from hidden to output\n output/kernel has shape (4, 1)\n output/bias has shape (1,)</title></line><rect x=\"74.0\" y=\"109\" width=\"202\" height=\"52\" style=\"fill:none;stroke:black;stroke-width:2\"/><image id=\"XOR Network_hidden_2\" class=\"XOR Network_hidden\" x=\"75.0\" y=\"110\" height=\"50\" width=\"200\" preserveAspectRatio=\"none\" href=\"data:image/gif;base64,R0lGODdhBAABAIcAAP7+/QAAAAAAAAAAAAAAAAAAAAAAAAAAAAAAAAAAAAAAAAAAAAAAAAAAAAAAAAAAAAAAAAAAAAAAAAAAAAAAAAAAAAAAAAAAAAAAAAAAAAAAAAAAAAAAAAAAAAAAAAAAAAAAAAAAAAAAAAAAAAAAAAAAAAAAAAAAAAAAAAAAAAAAAAAAAAAAAAAAAAAAAAAAAAAAAAAAAAAAAAAAAAAAAAAAAAAAAAAAAAAAAAAAAAAAAAAAAAAAAAAAAAAAAAAAAAAAAAAAAAAAAAAAAAAAAAAAAAAAAAAAAAAAAAAAAAAAAAAAAAAAAAAAAAAAAAAAAAAAAAAAAAAAAAAAAAAAAAAAAAAAAAAAAAAAAAAAAAAAAAAAAAAAAAAAAAAAAAAAAAAAAAAAAAAAAAAAAAAAAAAAAAAAAAAAAAAAAAAAAAAAAAAAAAAAAAAAAAAAAAAAAAAAAAAAAAAAAAAAAAAAAAAAAAAAAAAAAAAAAAAAAAAAAAAAAAAAAAAAAAAAAAAAAAAAAAAAAAAAAAAAAAAAAAAAAAAAAAAAAAAAAAAAAAAAAAAAAAAAAAAAAAAAAAAAAAAAAAAAAAAAAAAAAAAAAAAAAAAAAAAAAAAAAAAAAAAAAAAAAAAAAAAAAAAAAAAAAAAAAAAAAAAAAAAAAAAAAAAAAAAAAAAAAAAAAAAAAAAAAAAAAAAAAAAAAAAAAAAAAAAAAAAAAAAAAAAAAAAAAAAAAAAAAAAAAAAAAAAAAAAAAAAAAAAAAAAAAAAAAAAAAAAAAAAAAAAAAAAAAAAAAAAAAAAAAAAAAAAAAAAAAAAAAAAAAAAAAAAAAAAAAAAAAAAAAAAAAAAAAAAAAAAAAAAAAAAAAAAAAAAAAAAAAAAAAAAAAAAAAAAAAAAAAAAAAAAAAAAAAAAAAAAAAAAAAAAAAAAAAAAAAAAAAAAAAAAAAAAAAAAAAAAAAAAAAAAAAAAAAAAAAAAAAAAAAAAAAAAAAAAAAAAAAAAAAAAAAAAAAAAAAAAAAAAAAAAAAAAAACwAAAAABAABAAAIBgABCAQQEAA7\"><title>Layer: hidden (hidden)\n shape = (4,)\n Keras class = Dense\n activation = sigmoid</title></image><text x=\"280.0\" y=\"137.0\" font-family=\"monospace\" font-size=\"12\" text-anchor=\"start\" alignment-baseline=\"central\">hidden</text><line x1=\"175.0\" y1=\"189\" x2=\"175.0\" y2=\"162\" stroke=\"black\" stroke-width=\"2\" marker-end=\"url(#arrow)\"><title>Weights from input to hidden\n hidden/kernel has shape (2, 4)\n hidden/bias has shape (4,)</title></line><rect x=\"124.0\" y=\"189\" width=\"102\" height=\"52\" style=\"fill:none;stroke:black;stroke-width:2\"/><image id=\"XOR Network_input_3\" class=\"XOR Network_input\" x=\"125.0\" y=\"190\" height=\"50\" width=\"100\" preserveAspectRatio=\"none\" href=\"data:image/gif;base64,R0lGODdhAgABAIcAAP7+/QAAAAAAAAAAAAAAAAAAAAAAAAAAAAAAAAAAAAAAAAAAAAAAAAAAAAAAAAAAAAAAAAAAAAAAAAAAAAAAAAAAAAAAAAAAAAAAAAAAAAAAAAAAAAAAAAAAAAAAAAAAAAAAAAAAAAAAAAAAAAAAAAAAAAAAAAAAAAAAAAAAAAAAAAAAAAAAAAAAAAAAAAAAAAAAAAAAAAAAAAAAAAAAAAAAAAAAAAAAAAAAAAAAAAAAAAAAAAAAAAAAAAAAAAAAAAAAAAAAAAAAAAAAAAAAAAAAAAAAAAAAAAAAAAAAAAAAAAAAAAAAAAAAAAAAAAAAAAAAAAAAAAAAAAAAAAAAAAAAAAAAAAAAAAAAAAAAAAAAAAAAAAAAAAAAAAAAAAAAAAAAAAAAAAAAAAAAAAAAAAAAAAAAAAAAAAAAAAAAAAAAAAAAAAAAAAAAAAAAAAAAAAAAAAAAAAAAAAAAAAAAAAAAAAAAAAAAAAAAAAAAAAAAAAAAAAAAAAAAAAAAAAAAAAAAAAAAAAAAAAAAAAAAAAAAAAAAAAAAAAAAAAAAAAAAAAAAAAAAAAAAAAAAAAAAAAAAAAAAAAAAAAAAAAAAAAAAAAAAAAAAAAAAAAAAAAAAAAAAAAAAAAAAAAAAAAAAAAAAAAAAAAAAAAAAAAAAAAAAAAAAAAAAAAAAAAAAAAAAAAAAAAAAAAAAAAAAAAAAAAAAAAAAAAAAAAAAAAAAAAAAAAAAAAAAAAAAAAAAAAAAAAAAAAAAAAAAAAAAAAAAAAAAAAAAAAAAAAAAAAAAAAAAAAAAAAAAAAAAAAAAAAAAAAAAAAAAAAAAAAAAAAAAAAAAAAAAAAAAAAAAAAAAAAAAAAAAAAAAAAAAAAAAAAAAAAAAAAAAAAAAAAAAAAAAAAAAAAAAAAAAAAAAAAAAAAAAAAAAAAAAAAAAAAAAAAAAAAAAAAAAAAAAAAAAAAAAAAAAAAAAAAAAAAAAAAAAAAAAAAAAAAAAAAAAAAAAAAAAAAAAAAAAAAAAAAAAAAAAACwAAAAAAgABAAAIBQABAAgIADs=\"><title>Layer: input (input)\n shape = (2,)\n Keras class = Input</title></image><text x=\"230.0\" y=\"217.0\" font-family=\"monospace\" font-size=\"12\" text-anchor=\"start\" alignment-baseline=\"central\">input</text></svg>"
      }
     },
     "4abc35ec88ac435b88b227641e13a152": {
      "model_module": "jupyter-js-widgets",
      "model_module_version": "~2.1.4",
      "model_name": "LayoutModel",
      "state": {
       "_model_module_version": "~2.1.4",
       "_view_module_version": "~2.1.4",
       "width": "100%"
      }
     },
     "4c49e413e0364a958869e2fddca8fa33": {
      "model_module": "jupyter-js-widgets",
      "model_module_version": "~2.1.4",
      "model_name": "SliderStyleModel",
      "state": {
       "_model_module_version": "~2.1.4",
       "_view_module_version": "~2.1.4"
      }
     },
     "4d5c574704f64761aa22bc3af79717da": {
      "model_module": "jupyter-js-widgets",
      "model_module_version": "~2.1.4",
      "model_name": "LayoutModel",
      "state": {
       "_model_module_version": "~2.1.4",
       "_view_module_version": "~2.1.4",
       "height": "550px",
       "justify_content": "center",
       "overflow_x": "auto",
       "width": "100%"
      }
     },
     "4de36f8d09ac43b793b7677fd9b367b4": {
      "model_module": "jupyter-js-widgets",
      "model_module_version": "~2.1.4",
      "model_name": "LayoutModel",
      "state": {
       "_model_module_version": "~2.1.4",
       "_view_module_version": "~2.1.4",
       "height": "550px",
       "justify_content": "center",
       "overflow_x": "auto",
       "width": "100%"
      }
     },
     "4e14279b22b747edb6fdafe728fd63fe": {
      "model_module": "jupyter-js-widgets",
      "model_module_version": "~2.1.4",
      "model_name": "TabModel",
      "state": {
       "_model_module_version": "~2.1.4",
       "_titles": {
        "0": "Network",
        "1": "Help"
       },
       "_view_module_version": "~2.1.4",
       "children": [
        "IPY_MODEL_285fbcbd1b524125abeb83266a22ba7f",
        "IPY_MODEL_338da9cb351e4e709c6286b4944812a3"
       ],
       "layout": "IPY_MODEL_db6abc6723884756a24d083e0ff11b19"
      }
     },
     "4e9605bad4dc478fb2c6445aa8f5c78d": {
      "model_module": "jupyter-js-widgets",
      "model_module_version": "~2.1.4",
      "model_name": "ButtonModel",
      "state": {
       "_model_module_version": "~2.1.4",
       "_view_module_version": "~2.1.4",
       "description": "Train",
       "layout": "IPY_MODEL_87ac06efb86f4d3faf4adda6b5ca579a",
       "style": "IPY_MODEL_e6936587e50c4724b41fcd9afdd51a36"
      }
     },
     "508e7451c04b41db973c36ed9a154a08": {
      "model_module": "jupyter-js-widgets",
      "model_module_version": "~2.1.4",
      "model_name": "LayoutModel",
      "state": {
       "_model_module_version": "~2.1.4",
       "_view_module_version": "~2.1.4",
       "width": "100%"
      }
     },
     "50e4101d37d3454b8be393c21dd1ec8d": {
      "model_module": "jupyter-js-widgets",
      "model_module_version": "~2.1.4",
      "model_name": "HTMLModel",
      "state": {
       "_model_module_version": "~2.1.4",
       "_view_module_version": "~2.1.4",
       "layout": "IPY_MODEL_9060fbee389249be80e70272deb319a8",
       "value": "\n<!-- TODO: Remove this SCRIPT when next version of ipywidgets comes out -->\n<style>\n.widget-html > .widget-html-content, .widget-htmlmath > .widget-html-content {\n    /* Fill out the area in the HTML widget */\n    align-self: stretch;\n    flex-grow: 1;\n    flex-shrink: 1;\n    /* Makes sure the baseline is still aligned with other elements */\n    line-height: var(--jp-widgets-inline-height);\n    /* Make it possible to have absolutely-positioned elements in the html */\n    position: relative;\n}\n</style>\n\n<iframe src=\"https://conx.readthedocs.io\" width=\"100%\" height=\"550px\"></frame>\n"
      }
     },
     "53474ad09f074868a8f995e731dc2ee4": {
      "model_module": "jupyter-js-widgets",
      "model_module_version": "~2.1.4",
      "model_name": "LayoutModel",
      "state": {
       "_model_module_version": "~2.1.4",
       "_view_module_version": "~2.1.4"
      }
     },
     "539d367a299b45e1816cded8530242f0": {
      "model_module": "jupyter-js-widgets",
      "model_module_version": "~2.1.4",
      "model_name": "ButtonModel",
      "state": {
       "_model_module_version": "~2.1.4",
       "_view_module_version": "~2.1.4",
       "icon": "fast-backward",
       "layout": "IPY_MODEL_b6683ae172894a55ba55b50207af7307",
       "style": "IPY_MODEL_89120bda442248d080bb69294684a3d6"
      }
     },
     "56856a599a964e94beecbae20ac6bef7": {
      "model_module": "jupyter-js-widgets",
      "model_module_version": "~2.1.4",
      "model_name": "LayoutModel",
      "state": {
       "_model_module_version": "~2.1.4",
       "_view_module_version": "~2.1.4",
       "width": "100%"
      }
     },
     "57383bef754849ff9ec14812450ad657": {
      "model_module": "jupyter-js-widgets",
      "model_module_version": "~2.1.4",
      "model_name": "IntSliderModel",
      "state": {
       "_model_module_version": "~2.1.4",
       "_view_module_version": "~2.1.4",
       "continuous_update": false,
       "description": "Dataset index",
       "layout": "IPY_MODEL_b1a1a2ab55cd40aab338aef35e74491a",
       "max": 0,
       "style": "IPY_MODEL_b465e07a5a754a068c39c93c3c8f827d"
      }
     },
     "59e5ef1ede08492b911ec8bb848b4a46": {
      "model_module": "jupyter-js-widgets",
      "model_module_version": "~2.1.4",
      "model_name": "VBoxModel",
      "state": {
       "_model_module_version": "~2.1.4",
       "_view_module_version": "~2.1.4",
       "children": [
        "IPY_MODEL_b46cdd18d6054814bcaf5094af13da2a"
       ],
       "layout": "IPY_MODEL_fa3f08f951ab448dba4d9c9d8fc370ba"
      }
     },
     "5b4b45a3bf544d8287f071c0720319a6": {
      "model_module": "jupyter-js-widgets",
      "model_module_version": "~2.1.4",
      "model_name": "VBoxModel",
      "state": {
       "_model_module_version": "~2.1.4",
       "_view_module_version": "~2.1.4",
       "children": [
        "IPY_MODEL_00f408527de64abeafdc07452add2f93",
        "IPY_MODEL_b262ca1e8d5f487f95cde725b87343bd"
       ],
       "layout": "IPY_MODEL_d940ba84882a4c84994a2b11cbbba577"
      }
     },
     "5c1a10fa8df94f18b84c7c6e00ac1f6d": {
      "model_module": "jupyter-js-widgets",
      "model_module_version": "~2.1.4",
      "model_name": "LayoutModel",
      "state": {
       "_model_module_version": "~2.1.4",
       "_view_module_version": "~2.1.4",
       "width": "100%"
      }
     },
     "5cb44abeee204cd391df3560866b10bd": {
      "model_module": "jupyter-js-widgets",
      "model_module_version": "~2.1.4",
      "model_name": "LayoutModel",
      "state": {
       "_model_module_version": "~2.1.4",
       "_view_module_version": "~2.1.4",
       "height": "550px",
       "width": "100%"
      }
     },
     "5d12db92a1d24908ac5c8486f41138c2": {
      "model_module": "jupyter-js-widgets",
      "model_module_version": "~2.1.4",
      "model_name": "ButtonStyleModel",
      "state": {
       "_model_module_version": "~2.1.4",
       "_view_module_version": "~2.1.4"
      }
     },
     "5f02d48460f04d6fafe41c999239deeb": {
      "model_module": "jupyter-js-widgets",
      "model_module_version": "~2.1.4",
      "model_name": "ButtonModel",
      "state": {
       "_model_module_version": "~2.1.4",
       "_view_module_version": "~2.1.4",
       "icon": "fast-backward",
       "layout": "IPY_MODEL_21631d4946784bc99ade230d4d8d1c60",
       "style": "IPY_MODEL_c712750940174af8ac0f0731708c10cd"
      }
     },
     "5fce82637248448c83164426611146be": {
      "model_module": "jupyter-js-widgets",
      "model_module_version": "~2.1.4",
      "model_name": "ButtonModel",
      "state": {
       "_model_module_version": "~2.1.4",
       "_view_module_version": "~2.1.4",
       "icon": "fast-forward",
       "layout": "IPY_MODEL_1a69bb4803074ecb8d7db075aca046fb",
       "style": "IPY_MODEL_abc4d67c540d4a25ae2a831bc7933f9c"
      }
     },
     "63f4253680824fb0bf89b49e3566e945": {
      "model_module": "jupyter-js-widgets",
      "model_module_version": "~2.1.4",
      "model_name": "ButtonStyleModel",
      "state": {
       "_model_module_version": "~2.1.4",
       "_view_module_version": "~2.1.4"
      }
     },
     "64c5330ae0d3433e9af4561b31f9f1f0": {
      "model_module": "jupyter-js-widgets",
      "model_module_version": "~2.1.4",
      "model_name": "VBoxModel",
      "state": {
       "_model_module_version": "~2.1.4",
       "_view_module_version": "~2.1.4",
       "children": [
        "IPY_MODEL_2a0418946ec448bf979d79510f2dbb47",
        "IPY_MODEL_976fbd3ce0da4865aabad0280aebb770",
        "IPY_MODEL_839b7740844147219e21b052d94fcfc3"
       ],
       "layout": "IPY_MODEL_cd195285569147b989a9650e959ef1df"
      }
     },
     "64c574d2cfff4b1bba64f8f042c15fa2": {
      "model_module": "jupyter-js-widgets",
      "model_module_version": "~2.1.4",
      "model_name": "LayoutModel",
      "state": {
       "_model_module_version": "~2.1.4",
       "_view_module_version": "~2.1.4"
      }
     },
     "654a7096e02f4f6086c234492284f328": {
      "model_module": "jupyter-js-widgets",
      "model_module_version": "~2.1.4",
      "model_name": "LayoutModel",
      "state": {
       "_model_module_version": "~2.1.4",
       "_view_module_version": "~2.1.4",
       "width": "100%"
      }
     },
     "686ca930c9a4437d9f93091d04022f08": {
      "model_module": "jupyter-js-widgets",
      "model_module_version": "~2.1.4",
      "model_name": "HTMLModel",
      "state": {
       "_model_module_version": "~2.1.4",
       "_view_module_version": "~2.1.4",
       "layout": "IPY_MODEL_2116294f0f27477fbe70e1a56f0765d0",
       "value": "\n<!-- TODO: Remove this SCRIPT when next version of ipywidgets comes out -->\n<style>\n.widget-html > .widget-html-content, .widget-htmlmath > .widget-html-content {\n    /* Fill out the area in the HTML widget */\n    align-self: stretch;\n    flex-grow: 1;\n    flex-shrink: 1;\n    /* Makes sure the baseline is still aligned with other elements */\n    line-height: var(--jp-widgets-inline-height);\n    /* Make it possible to have absolutely-positioned elements in the html */\n    position: relative;\n}\n</style>\n\n<iframe src=\"https://conx.readthedocs.io\" width=\"100%\" height=\"550px\"></frame>\n"
      }
     },
     "6a3376843cfa4f8a9e819a87e77c4279": {
      "model_module": "jupyter-js-widgets",
      "model_module_version": "~2.1.4",
      "model_name": "ButtonModel",
      "state": {
       "_model_module_version": "~2.1.4",
       "_view_module_version": "~2.1.4",
       "icon": "forward",
       "layout": "IPY_MODEL_a8fa3b134c98435ca7ba7525b4f95e75",
       "style": "IPY_MODEL_411cdf7e313a4dd09c2ce87214ef4a9a"
      }
     },
     "6fa2470e66994ea1a72b16d80ab7fa29": {
      "model_module": "jupyter-js-widgets",
      "model_module_version": "~2.1.4",
      "model_name": "LayoutModel",
      "state": {
       "_model_module_version": "~2.1.4",
       "_view_module_version": "~2.1.4",
       "height": "550px",
       "width": "100%"
      }
     },
     "6fc023323c1440a3a091becad574cfcf": {
      "model_module": "jupyter-js-widgets",
      "model_module_version": "~2.1.4",
      "model_name": "LayoutModel",
      "state": {
       "_model_module_version": "~2.1.4",
       "_view_module_version": "~2.1.4"
      }
     },
     "70da48a1a4a148bc80d4157dddfc91d1": {
      "model_module": "jupyter-js-widgets",
      "model_module_version": "~2.1.4",
      "model_name": "LayoutModel",
      "state": {
       "_model_module_version": "~2.1.4",
       "_view_module_version": "~2.1.4"
      }
     },
     "715110de728740189ae284d1ab5fdf9f": {
      "model_module": "jupyter-js-widgets",
      "model_module_version": "~2.1.4",
      "model_name": "LayoutModel",
      "state": {
       "_model_module_version": "~2.1.4",
       "_view_module_version": "~2.1.4",
       "width": "100%"
      }
     },
     "7522ab0fc7a1407e93c5016f378cecdb": {
      "model_module": "jupyter-js-widgets",
      "model_module_version": "~2.1.4",
      "model_name": "HTMLModel",
      "state": {
       "_model_module_version": "~2.1.4",
       "_view_module_version": "~2.1.4",
       "layout": "IPY_MODEL_4de36f8d09ac43b793b7677fd9b367b4",
       "value": "<p style=\"text-align:center\">\n        <svg id='XOR Network' xmlns='http://www.w3.org/2000/svg' width=\"350\" height=\"265\" image-rendering=\"pixelated\">\n    <defs>\n        <marker id=\"arrow\" markerWidth=\"10\" markerHeight=\"10\" refX=\"9\" refY=\"3\" orient=\"auto\" markerUnits=\"strokeWidth\">\n          <path d=\"M0,0 L0,6 L9,3 z\" fill=\"black\" />\n        </marker>\n    </defs>\n<text x=\"175.0\" y=\"12.5\" font-family=\"monospace\" font-size=\"15\" text-anchor=\"middle\" alignment-baseline=\"central\">XOR Network</text><rect x=\"149.0\" y=\"29\" width=\"52\" height=\"52\" style=\"fill:none;stroke:black;stroke-width:2\"/><image id=\"XOR Network_output_1\" class=\"XOR Network_output\" x=\"150.0\" y=\"30\" height=\"50\" width=\"50\" preserveAspectRatio=\"none\" href=\"data:image/gif;base64,R0lGODdhAQABAIcAAMXFxQAAAAAAAAAAAAAAAAAAAAAAAAAAAAAAAAAAAAAAAAAAAAAAAAAAAAAAAAAAAAAAAAAAAAAAAAAAAAAAAAAAAAAAAAAAAAAAAAAAAAAAAAAAAAAAAAAAAAAAAAAAAAAAAAAAAAAAAAAAAAAAAAAAAAAAAAAAAAAAAAAAAAAAAAAAAAAAAAAAAAAAAAAAAAAAAAAAAAAAAAAAAAAAAAAAAAAAAAAAAAAAAAAAAAAAAAAAAAAAAAAAAAAAAAAAAAAAAAAAAAAAAAAAAAAAAAAAAAAAAAAAAAAAAAAAAAAAAAAAAAAAAAAAAAAAAAAAAAAAAAAAAAAAAAAAAAAAAAAAAAAAAAAAAAAAAAAAAAAAAAAAAAAAAAAAAAAAAAAAAAAAAAAAAAAAAAAAAAAAAAAAAAAAAAAAAAAAAAAAAAAAAAAAAAAAAAAAAAAAAAAAAAAAAAAAAAAAAAAAAAAAAAAAAAAAAAAAAAAAAAAAAAAAAAAAAAAAAAAAAAAAAAAAAAAAAAAAAAAAAAAAAAAAAAAAAAAAAAAAAAAAAAAAAAAAAAAAAAAAAAAAAAAAAAAAAAAAAAAAAAAAAAAAAAAAAAAAAAAAAAAAAAAAAAAAAAAAAAAAAAAAAAAAAAAAAAAAAAAAAAAAAAAAAAAAAAAAAAAAAAAAAAAAAAAAAAAAAAAAAAAAAAAAAAAAAAAAAAAAAAAAAAAAAAAAAAAAAAAAAAAAAAAAAAAAAAAAAAAAAAAAAAAAAAAAAAAAAAAAAAAAAAAAAAAAAAAAAAAAAAAAAAAAAAAAAAAAAAAAAAAAAAAAAAAAAAAAAAAAAAAAAAAAAAAAAAAAAAAAAAAAAAAAAAAAAAAAAAAAAAAAAAAAAAAAAAAAAAAAAAAAAAAAAAAAAAAAAAAAAAAAAAAAAAAAAAAAAAAAAAAAAAAAAAAAAAAAAAAAAAAAAAAAAAAAAAAAAAAAAAAAAAAAAAAAAAAAAAAAAAAAAAAAAAAAAAAAAAAAAAAAAAAAAAAAAAAAAAAAACwAAAAAAQABAAAIBQAB0AgIADs=\"><title>Layer: output (output)\n shape = (1,)\n Keras class = Dense\n activation = sigmoid</title></image><text x=\"205.0\" y=\"57.0\" font-family=\"monospace\" font-size=\"12\" text-anchor=\"start\" alignment-baseline=\"central\">output</text><line x1=\"175.0\" y1=\"109\" x2=\"175.0\" y2=\"82\" stroke=\"black\" stroke-width=\"2\" marker-end=\"url(#arrow)\"><title>Weights from hidden to output\n output/kernel has shape (4, 1)\n output/bias has shape (1,)</title></line><rect x=\"74.0\" y=\"109\" width=\"202\" height=\"52\" style=\"fill:none;stroke:black;stroke-width:2\"/><image id=\"XOR Network_hidden_2\" class=\"XOR Network_hidden\" x=\"75.0\" y=\"110\" height=\"50\" width=\"200\" preserveAspectRatio=\"none\" href=\"data:image/gif;base64,R0lGODdhBAABAIcAAP7+/QAAAAAAAAAAAAAAAAAAAAAAAAAAAAAAAAAAAAAAAAAAAAAAAAAAAAAAAAAAAAAAAAAAAAAAAAAAAAAAAAAAAAAAAAAAAAAAAAAAAAAAAAAAAAAAAAAAAAAAAAAAAAAAAAAAAAAAAAAAAAAAAAAAAAAAAAAAAAAAAAAAAAAAAAAAAAAAAAAAAAAAAAAAAAAAAAAAAAAAAAAAAAAAAAAAAAAAAAAAAAAAAAAAAAAAAAAAAAAAAAAAAAAAAAAAAAAAAAAAAAAAAAAAAAAAAAAAAAAAAAAAAAAAAAAAAAAAAAAAAAAAAAAAAAAAAAAAAAAAAAAAAAAAAAAAAAAAAAAAAAAAAAAAAAAAAAAAAAAAAAAAAAAAAAAAAAAAAAAAAAAAAAAAAAAAAAAAAAAAAAAAAAAAAAAAAAAAAAAAAAAAAAAAAAAAAAAAAAAAAAAAAAAAAAAAAAAAAAAAAAAAAAAAAAAAAAAAAAAAAAAAAAAAAAAAAAAAAAAAAAAAAAAAAAAAAAAAAAAAAAAAAAAAAAAAAAAAAAAAAAAAAAAAAAAAAAAAAAAAAAAAAAAAAAAAAAAAAAAAAAAAAAAAAAAAAAAAAAAAAAAAAAAAAAAAAAAAAAAAAAAAAAAAAAAAAAAAAAAAAAAAAAAAAAAAAAAAAAAAAAAAAAAAAAAAAAAAAAAAAAAAAAAAAAAAAAAAAAAAAAAAAAAAAAAAAAAAAAAAAAAAAAAAAAAAAAAAAAAAAAAAAAAAAAAAAAAAAAAAAAAAAAAAAAAAAAAAAAAAAAAAAAAAAAAAAAAAAAAAAAAAAAAAAAAAAAAAAAAAAAAAAAAAAAAAAAAAAAAAAAAAAAAAAAAAAAAAAAAAAAAAAAAAAAAAAAAAAAAAAAAAAAAAAAAAAAAAAAAAAAAAAAAAAAAAAAAAAAAAAAAAAAAAAAAAAAAAAAAAAAAAAAAAAAAAAAAAAAAAAAAAAAAAAAAAAAAAAAAAAAAAAAAAAAAAAAAAAAAAAAAAAAAAAAAAAAAAAAAAACwAAAAABAABAAAIBgABCAQQEAA7\"><title>Layer: hidden (hidden)\n shape = (4,)\n Keras class = Dense\n activation = sigmoid</title></image><text x=\"280.0\" y=\"137.0\" font-family=\"monospace\" font-size=\"12\" text-anchor=\"start\" alignment-baseline=\"central\">hidden</text><line x1=\"175.0\" y1=\"189\" x2=\"175.0\" y2=\"162\" stroke=\"black\" stroke-width=\"2\" marker-end=\"url(#arrow)\"><title>Weights from input to hidden\n hidden/kernel has shape (2, 4)\n hidden/bias has shape (4,)</title></line><rect x=\"124.0\" y=\"189\" width=\"102\" height=\"52\" style=\"fill:none;stroke:black;stroke-width:2\"/><image id=\"XOR Network_input_3\" class=\"XOR Network_input\" x=\"125.0\" y=\"190\" height=\"50\" width=\"100\" preserveAspectRatio=\"none\" href=\"data:image/gif;base64,R0lGODdhAgABAIcAAP7+/QAAAAAAAAAAAAAAAAAAAAAAAAAAAAAAAAAAAAAAAAAAAAAAAAAAAAAAAAAAAAAAAAAAAAAAAAAAAAAAAAAAAAAAAAAAAAAAAAAAAAAAAAAAAAAAAAAAAAAAAAAAAAAAAAAAAAAAAAAAAAAAAAAAAAAAAAAAAAAAAAAAAAAAAAAAAAAAAAAAAAAAAAAAAAAAAAAAAAAAAAAAAAAAAAAAAAAAAAAAAAAAAAAAAAAAAAAAAAAAAAAAAAAAAAAAAAAAAAAAAAAAAAAAAAAAAAAAAAAAAAAAAAAAAAAAAAAAAAAAAAAAAAAAAAAAAAAAAAAAAAAAAAAAAAAAAAAAAAAAAAAAAAAAAAAAAAAAAAAAAAAAAAAAAAAAAAAAAAAAAAAAAAAAAAAAAAAAAAAAAAAAAAAAAAAAAAAAAAAAAAAAAAAAAAAAAAAAAAAAAAAAAAAAAAAAAAAAAAAAAAAAAAAAAAAAAAAAAAAAAAAAAAAAAAAAAAAAAAAAAAAAAAAAAAAAAAAAAAAAAAAAAAAAAAAAAAAAAAAAAAAAAAAAAAAAAAAAAAAAAAAAAAAAAAAAAAAAAAAAAAAAAAAAAAAAAAAAAAAAAAAAAAAAAAAAAAAAAAAAAAAAAAAAAAAAAAAAAAAAAAAAAAAAAAAAAAAAAAAAAAAAAAAAAAAAAAAAAAAAAAAAAAAAAAAAAAAAAAAAAAAAAAAAAAAAAAAAAAAAAAAAAAAAAAAAAAAAAAAAAAAAAAAAAAAAAAAAAAAAAAAAAAAAAAAAAAAAAAAAAAAAAAAAAAAAAAAAAAAAAAAAAAAAAAAAAAAAAAAAAAAAAAAAAAAAAAAAAAAAAAAAAAAAAAAAAAAAAAAAAAAAAAAAAAAAAAAAAAAAAAAAAAAAAAAAAAAAAAAAAAAAAAAAAAAAAAAAAAAAAAAAAAAAAAAAAAAAAAAAAAAAAAAAAAAAAAAAAAAAAAAAAAAAAAAAAAAAAAAAAAAAAAAAAAAAAAAAAAAAAAAAAAAAAAAAAAAAAAAAACwAAAAAAgABAAAIBQABAAgIADs=\"><title>Layer: input (input)\n shape = (2,)\n Keras class = Input</title></image><text x=\"230.0\" y=\"217.0\" font-family=\"monospace\" font-size=\"12\" text-anchor=\"start\" alignment-baseline=\"central\">input</text></svg></p>"
      }
     },
     "75f52b12bfa94abda85e78b84443d5ba": {
      "model_module": "jupyter-js-widgets",
      "model_module_version": "~2.1.4",
      "model_name": "LayoutModel",
      "state": {
       "_model_module_version": "~2.1.4",
       "_view_module_version": "~2.1.4",
       "width": "100%"
      }
     },
     "7715e57c06a04b3b94a2434f9a324996": {
      "model_module": "jupyter-js-widgets",
      "model_module_version": "~2.1.4",
      "model_name": "VBoxModel",
      "state": {
       "_model_module_version": "~2.1.4",
       "_view_module_version": "~2.1.4",
       "layout": "IPY_MODEL_d32f7da722c3461d893702c2c85a2c30"
      }
     },
     "77dd09048e474e8e921aa63b949ec3ad": {
      "model_module": "jupyter-js-widgets",
      "model_module_version": "~2.1.4",
      "model_name": "HTMLModel",
      "state": {
       "_model_module_version": "~2.1.4",
       "_view_module_version": "~2.1.4",
       "layout": "IPY_MODEL_0f036349725c4fe69fc81fa000f5e4f7",
       "value": "\n<!-- TODO: Remove this SCRIPT when next version of ipywidgets comes out -->\n<style>\n.widget-html > .widget-html-content, .widget-htmlmath > .widget-html-content {\n    /* Fill out the area in the HTML widget */\n    align-self: stretch;\n    flex-grow: 1;\n    flex-shrink: 1;\n    /* Makes sure the baseline is still aligned with other elements */\n    line-height: var(--jp-widgets-inline-height);\n    /* Make it possible to have absolutely-positioned elements in the html */\n    position: relative;\n}\n</style>\n\n<iframe src=\"https://conx.readthedocs.io\" width=\"100%\" height=\"550px\"></frame>\n"
      }
     },
     "78517f7fddb54bfbae0485ed629a0b4e": {
      "model_module": "jupyter-js-widgets",
      "model_module_version": "~2.1.4",
      "model_name": "ButtonStyleModel",
      "state": {
       "_model_module_version": "~2.1.4",
       "_view_module_version": "~2.1.4"
      }
     },
     "7a9867f376fe4593834f71689ce2fc31": {
      "model_module": "jupyter-js-widgets",
      "model_module_version": "~2.1.4",
      "model_name": "ButtonStyleModel",
      "state": {
       "_model_module_version": "~2.1.4",
       "_view_module_version": "~2.1.4"
      }
     },
     "7bbb3831955045a3b84e39a34cdc28a5": {
      "model_module": "jupyter-js-widgets",
      "model_module_version": "~2.1.4",
      "model_name": "ButtonModel",
      "state": {
       "_model_module_version": "~2.1.4",
       "_view_module_version": "~2.1.4",
       "icon": "backward",
       "layout": "IPY_MODEL_dbd68dcb5ce64e18b577cc97969c4341",
       "style": "IPY_MODEL_f463af5d4885435b9673b6c335b1cf2c"
      }
     },
     "7d545d429e4849258a8bc22251063d85": {
      "model_module": "jupyter-js-widgets",
      "model_module_version": "~2.1.4",
      "model_name": "TabModel",
      "state": {
       "_model_module_version": "~2.1.4",
       "_titles": {
        "0": "Network",
        "1": "Help"
       },
       "_view_module_version": "~2.1.4",
       "children": [
        "IPY_MODEL_b552008d39e141299e23b72af0c60615",
        "IPY_MODEL_686ca930c9a4437d9f93091d04022f08"
       ],
       "layout": "IPY_MODEL_df764618defc42b48a780a637bd4d3ee"
      }
     },
     "7d9bd23ce4da42f4b43756b0140a08d5": {
      "model_module": "jupyter-js-widgets",
      "model_module_version": "~2.1.4",
      "model_name": "ButtonStyleModel",
      "state": {
       "_model_module_version": "~2.1.4",
       "_view_module_version": "~2.1.4"
      }
     },
     "7e1c9cc738794fefa03b7b83b7b935b7": {
      "model_module": "jupyter-js-widgets",
      "model_module_version": "~2.1.4",
      "model_name": "ButtonStyleModel",
      "state": {
       "_model_module_version": "~2.1.4",
       "_view_module_version": "~2.1.4"
      }
     },
     "7fdd07c6523941549fcb377a1dee7ea4": {
      "model_module": "jupyter-js-widgets",
      "model_module_version": "~2.1.4",
      "model_name": "LayoutModel",
      "state": {
       "_model_module_version": "~2.1.4",
       "_view_module_version": "~2.1.4",
       "width": "100%"
      }
     },
     "80acd2cf30314f5cba3afb0e614e1efc": {
      "model_module": "jupyter-js-widgets",
      "model_module_version": "~2.1.4",
      "model_name": "LayoutModel",
      "state": {
       "_model_module_version": "~2.1.4",
       "_view_module_version": "~2.1.4",
       "width": "100%"
      }
     },
     "81ea9309495542b599212c94fa8cd7ea": {
      "model_module": "jupyter-js-widgets",
      "model_module_version": "~2.1.4",
      "model_name": "HTMLModel",
      "state": {
       "_model_module_version": "~2.1.4",
       "_view_module_version": "~2.1.4",
       "layout": "IPY_MODEL_2c4800ceb7fe4d83b8df9479c11e8441",
       "value": "\n<!-- TODO: Remove this SCRIPT when next version of ipywidgets comes out -->\n<style>\n.widget-html > .widget-html-content, .widget-htmlmath > .widget-html-content {\n    /* Fill out the area in the HTML widget */\n    align-self: stretch;\n    flex-grow: 1;\n    flex-shrink: 1;\n    /* Makes sure the baseline is still aligned with other elements */\n    line-height: var(--jp-widgets-inline-height);\n    /* Make it possible to have absolutely-positioned elements in the html */\n    position: relative;\n}\n</style>\n\n<iframe src=\"https://conx.readthedocs.io\" width=\"100%\" height=\"550px\"></frame>\n"
      }
     },
     "82b137b16a79429bb05d230515f1b042": {
      "model_module": "jupyter-js-widgets",
      "model_module_version": "~2.1.4",
      "model_name": "ButtonStyleModel",
      "state": {
       "_model_module_version": "~2.1.4",
       "_view_module_version": "~2.1.4"
      }
     },
     "839b7740844147219e21b052d94fcfc3": {
      "model_module": "jupyter-js-widgets",
      "model_module_version": "~2.1.4",
      "model_name": "HBoxModel",
      "state": {
       "_model_module_version": "~2.1.4",
       "_view_module_version": "~2.1.4",
       "children": [
        "IPY_MODEL_85336443150c48f18bb2d16059aca8db",
        "IPY_MODEL_d35e7111120a46d380558d60c206c48f",
        "IPY_MODEL_2f9619e869864249bff0462a3b8031cf",
        "IPY_MODEL_8dc146dd89214761a4fe16f59a098c68",
        "IPY_MODEL_fa9d10e8d84e4d3886a387f83f20abcb"
       ],
       "layout": "IPY_MODEL_0c777aacbf3c4494997c450b4c817fb6"
      }
     },
     "841bfff67e2f42b5b25c209b88b442cf": {
      "model_module": "jupyter-js-widgets",
      "model_module_version": "~2.1.4",
      "model_name": "LayoutModel",
      "state": {
       "_model_module_version": "~2.1.4",
       "_view_module_version": "~2.1.4",
       "width": "100%"
      }
     },
     "85336443150c48f18bb2d16059aca8db": {
      "model_module": "jupyter-js-widgets",
      "model_module_version": "~2.1.4",
      "model_name": "ButtonModel",
      "state": {
       "_model_module_version": "~2.1.4",
       "_view_module_version": "~2.1.4",
       "icon": "fast-backward",
       "layout": "IPY_MODEL_8c80f35537504b6f9cc37bc7026ff49f",
       "style": "IPY_MODEL_63f4253680824fb0bf89b49e3566e945"
      }
     },
     "8538548ccc28406e832a93acc8b65600": {
      "model_module": "jupyter-js-widgets",
      "model_module_version": "~2.1.4",
      "model_name": "LayoutModel",
      "state": {
       "_model_module_version": "~2.1.4",
       "_view_module_version": "~2.1.4",
       "height": "550px",
       "width": "100%"
      }
     },
     "8604d546a1fc439c96e449603813fefc": {
      "model_module": "jupyter-js-widgets",
      "model_module_version": "~2.1.4",
      "model_name": "ButtonModel",
      "state": {
       "_model_module_version": "~2.1.4",
       "_view_module_version": "~2.1.4",
       "icon": "backward",
       "layout": "IPY_MODEL_a99e089390e04abebcbe9ea6a93fe300",
       "style": "IPY_MODEL_7a9867f376fe4593834f71689ce2fc31"
      }
     },
     "87ac06efb86f4d3faf4adda6b5ca579a": {
      "model_module": "jupyter-js-widgets",
      "model_module_version": "~2.1.4",
      "model_name": "LayoutModel",
      "state": {
       "_model_module_version": "~2.1.4",
       "_view_module_version": "~2.1.4",
       "width": "100%"
      }
     },
     "87d2645a500d4c65900afb70f8dc2fd3": {
      "model_module": "jupyter-js-widgets",
      "model_module_version": "~2.1.4",
      "model_name": "ButtonStyleModel",
      "state": {
       "_model_module_version": "~2.1.4",
       "_view_module_version": "~2.1.4"
      }
     },
     "89120bda442248d080bb69294684a3d6": {
      "model_module": "jupyter-js-widgets",
      "model_module_version": "~2.1.4",
      "model_name": "ButtonStyleModel",
      "state": {
       "_model_module_version": "~2.1.4",
       "_view_module_version": "~2.1.4"
      }
     },
     "8bf93d682b9841b3bbdc4fe1e75534bb": {
      "model_module": "jupyter-js-widgets",
      "model_module_version": "~2.1.4",
      "model_name": "LayoutModel",
      "state": {
       "_model_module_version": "~2.1.4",
       "_view_module_version": "~2.1.4",
       "height": "550px",
       "width": "100%"
      }
     },
     "8c2c5ce2a8be4141aced3cd4dbf169e2": {
      "model_module": "jupyter-js-widgets",
      "model_module_version": "~2.1.4",
      "model_name": "ButtonModel",
      "state": {
       "_model_module_version": "~2.1.4",
       "_view_module_version": "~2.1.4",
       "icon": "forward",
       "layout": "IPY_MODEL_3f852f57ea05460a9d68e7bc2f6554c0",
       "style": "IPY_MODEL_7e1c9cc738794fefa03b7b83b7b935b7"
      }
     },
     "8c80f35537504b6f9cc37bc7026ff49f": {
      "model_module": "jupyter-js-widgets",
      "model_module_version": "~2.1.4",
      "model_name": "LayoutModel",
      "state": {
       "_model_module_version": "~2.1.4",
       "_view_module_version": "~2.1.4",
       "width": "100%"
      }
     },
     "8dc146dd89214761a4fe16f59a098c68": {
      "model_module": "jupyter-js-widgets",
      "model_module_version": "~2.1.4",
      "model_name": "ButtonModel",
      "state": {
       "_model_module_version": "~2.1.4",
       "_view_module_version": "~2.1.4",
       "icon": "forward",
       "layout": "IPY_MODEL_841bfff67e2f42b5b25c209b88b442cf",
       "style": "IPY_MODEL_f637f259c3f54ee98b4ae98e066dcc85"
      }
     },
     "8ea0c9fbdd4648429be85792f1858045": {
      "model_module": "jupyter-js-widgets",
      "model_module_version": "~2.1.4",
      "model_name": "HTMLModel",
      "state": {
       "_model_module_version": "~2.1.4",
       "_view_module_version": "~2.1.4",
       "layout": "IPY_MODEL_4d5c574704f64761aa22bc3af79717da",
       "value": "<p style=\"text-align:center\">\n        <svg id='XOR2 Network' xmlns='http://www.w3.org/2000/svg' width=\"800\" height=\"310\" image-rendering=\"pixelated\">\n    <defs>\n        <marker id=\"arrow\" markerWidth=\"10\" markerHeight=\"10\" refX=\"9\" refY=\"3\" orient=\"auto\" markerUnits=\"strokeWidth\">\n          <path d=\"M0,0 L0,6 L9,3 z\" fill=\"black\" />\n        </marker>\n    </defs>\n<text x=\"400.0\" y=\"12.5\" font-family=\"monospace\" font-size=\"15\" text-anchor=\"middle\" alignment-baseline=\"central\">XOR2 Network</text><rect x=\"240.66666666666669\" y=\"29\" width=\"52\" height=\"52\" style=\"fill:none;stroke:black;stroke-width:2\"/><image id=\"XOR2 Network_output1_1\" class=\"XOR2 Network_output1\" x=\"241.66666666666669\" y=\"30\" height=\"50\" width=\"50\" preserveAspectRatio=\"none\" href=\"data:image/gif;base64,R0lGODdhAQABAIcAAI2NjQAAAAAAAAAAAAAAAAAAAAAAAAAAAAAAAAAAAAAAAAAAAAAAAAAAAAAAAAAAAAAAAAAAAAAAAAAAAAAAAAAAAAAAAAAAAAAAAAAAAAAAAAAAAAAAAAAAAAAAAAAAAAAAAAAAAAAAAAAAAAAAAAAAAAAAAAAAAAAAAAAAAAAAAAAAAAAAAAAAAAAAAAAAAAAAAAAAAAAAAAAAAAAAAAAAAAAAAAAAAAAAAAAAAAAAAAAAAAAAAAAAAAAAAAAAAAAAAAAAAAAAAAAAAAAAAAAAAAAAAAAAAAAAAAAAAAAAAAAAAAAAAAAAAAAAAAAAAAAAAAAAAAAAAAAAAAAAAAAAAAAAAAAAAAAAAAAAAAAAAAAAAAAAAAAAAAAAAAAAAAAAAAAAAAAAAAAAAAAAAAAAAAAAAAAAAAAAAAAAAAAAAAAAAAAAAAAAAAAAAAAAAAAAAAAAAAAAAAAAAAAAAAAAAAAAAAAAAAAAAAAAAAAAAAAAAAAAAAAAAAAAAAAAAAAAAAAAAAAAAAAAAAAAAAAAAAAAAAAAAAAAAAAAAAAAAAAAAAAAAAAAAAAAAAAAAAAAAAAAAAAAAAAAAAAAAAAAAAAAAAAAAAAAAAAAAAAAAAAAAAAAAAAAAAAAAAAAAAAAAAAAAAAAAAAAAAAAAAAAAAAAAAAAAAAAAAAAAAAAAAAAAAAAAAAAAAAAAAAAAAAAAAAAAAAAAAAAAAAAAAAAAAAAAAAAAAAAAAAAAAAAAAAAAAAAAAAAAAAAAAAAAAAAAAAAAAAAAAAAAAAAAAAAAAAAAAAAAAAAAAAAAAAAAAAAAAAAAAAAAAAAAAAAAAAAAAAAAAAAAAAAAAAAAAAAAAAAAAAAAAAAAAAAAAAAAAAAAAAAAAAAAAAAAAAAAAAAAAAAAAAAAAAAAAAAAAAAAAAAAAAAAAAAAAAAAAAAAAAAAAAAAAAAAAAAAAAAAAAAAAAAAAAAAAAAAAAAAAAAAAAAAAAAAAAAAAAAAAAAAAAAAAAAAAAAAAAAAAAAACwAAAAAAQABAAAIBQABbAkIADs=\"><title>Layer: output1 (output)\n shape = (1,)\n Keras class = Dense\n activation = sigmoid</title></image><text x=\"296.6666666666667\" y=\"57.0\" font-family=\"monospace\" font-size=\"12\" text-anchor=\"start\" alignment-baseline=\"central\">output1</text><rect x=\"507.33333333333337\" y=\"29\" width=\"52\" height=\"52\" style=\"fill:none;stroke:black;stroke-width:2\"/><image id=\"XOR2 Network_output2_2\" class=\"XOR2 Network_output2\" x=\"508.33333333333337\" y=\"30\" height=\"50\" width=\"50\" preserveAspectRatio=\"none\" href=\"data:image/gif;base64,R0lGODdhAQABAIcAAOeIbAAAAAAAAAAAAAAAAAAAAAAAAAAAAAAAAAAAAAAAAAAAAAAAAAAAAAAAAAAAAAAAAAAAAAAAAAAAAAAAAAAAAAAAAAAAAAAAAAAAAAAAAAAAAAAAAAAAAAAAAAAAAAAAAAAAAAAAAAAAAAAAAAAAAAAAAAAAAAAAAAAAAAAAAAAAAAAAAAAAAAAAAAAAAAAAAAAAAAAAAAAAAAAAAAAAAAAAAAAAAAAAAAAAAAAAAAAAAAAAAAAAAAAAAAAAAAAAAAAAAAAAAAAAAAAAAAAAAAAAAAAAAAAAAAAAAAAAAAAAAAAAAAAAAAAAAAAAAAAAAAAAAAAAAAAAAAAAAAAAAAAAAAAAAAAAAAAAAAAAAAAAAAAAAAAAAAAAAAAAAAAAAAAAAAAAAAAAAAAAAAAAAAAAAAAAAAAAAAAAAAAAAAAAAAAAAAAAAAAAAAAAAAAAAAAAAAAAAAAAAAAAAAAAAAAAAAAAAAAAAAAAAAAAAAAAAAAAAAAAAAAAAAAAAAAAAAAAAAAAAAAAAAAAAAAAAAAAAAAAAAAAAAAAAAAAAAAAAAAAAAAAAAAAAAAAAAAAAAAAAAAAAAAAAAAAAAAAAAAAAAAAAAAAAAAAAAAAAAAAAAAAAAAAAAAAAAAAAAAAAAAAAAAAAAAAAAAAAAAAAAAAAAAAAAAAAAAAAAAAAAAAAAAAAAAAAAAAAAAAAAAAAAAAAAAAAAAAAAAAAAAAAAAAAAAAAAAAAAAAAAAAAAAAAAAAAAAAAAAAAAAAAAAAAAAAAAAAAAAAAAAAAAAAAAAAAAAAAAAAAAAAAAAAAAAAAAAAAAAAAAAAAAAAAAAAAAAAAAAAAAAAAAAAAAAAAAAAAAAAAAAAAAAAAAAAAAAAAAAAAAAAAAAAAAAAAAAAAAAAAAAAAAAAAAAAAAAAAAAAAAAAAAAAAAAAAAAAAAAAAAAAAAAAAAAAAAAAAAAAAAAAAAAAAAAAAAAAAAAAAAAAAAAAAAAAAAAAAAAAAAAAAAAAAAAAAAAAAAAAACwAAAAAAQABAAAIBQABbAkIADs=\"><title>Layer: output2 (output)\n shape = (1,)\n Keras class = Dense\n activation = sigmoid</title></image><text x=\"563.3333333333334\" y=\"57.0\" font-family=\"monospace\" font-size=\"12\" text-anchor=\"start\" alignment-baseline=\"central\">output2</text><line x1=\"400.0\" y1=\"109\" x2=\"266.6666666666667\" y2=\"82\" stroke=\"black\" stroke-width=\"2\" marker-end=\"url(#arrow)\"><title>Weights from shared-hidden to output1\n output1/kernel has shape (5, 1)\n output1/bias has shape (1,)</title></line><line x1=\"400.0\" y1=\"109\" x2=\"533.3333333333334\" y2=\"82\" stroke=\"black\" stroke-width=\"2\" marker-end=\"url(#arrow)\"><title>Weights from shared-hidden to output2\n output2/kernel has shape (5, 1)\n output2/bias has shape (1,)</title></line><rect x=\"299.0\" y=\"109\" width=\"202\" height=\"42\" style=\"fill:none;stroke:black;stroke-width:2\"/><image id=\"XOR2 Network_shared-hidden_3\" class=\"XOR2 Network_shared-hidden\" x=\"300.0\" y=\"110\" height=\"40\" width=\"200\" preserveAspectRatio=\"none\" href=\"data:image/gif;base64,R0lGODdhBQABAIcAAK2trdjY2PGefPvQufPz8wAAAAAAAAAAAAAAAAAAAAAAAAAAAAAAAAAAAAAAAAAAAAAAAAAAAAAAAAAAAAAAAAAAAAAAAAAAAAAAAAAAAAAAAAAAAAAAAAAAAAAAAAAAAAAAAAAAAAAAAAAAAAAAAAAAAAAAAAAAAAAAAAAAAAAAAAAAAAAAAAAAAAAAAAAAAAAAAAAAAAAAAAAAAAAAAAAAAAAAAAAAAAAAAAAAAAAAAAAAAAAAAAAAAAAAAAAAAAAAAAAAAAAAAAAAAAAAAAAAAAAAAAAAAAAAAAAAAAAAAAAAAAAAAAAAAAAAAAAAAAAAAAAAAAAAAAAAAAAAAAAAAAAAAAAAAAAAAAAAAAAAAAAAAAAAAAAAAAAAAAAAAAAAAAAAAAAAAAAAAAAAAAAAAAAAAAAAAAAAAAAAAAAAAAAAAAAAAAAAAAAAAAAAAAAAAAAAAAAAAAAAAAAAAAAAAAAAAAAAAAAAAAAAAAAAAAAAAAAAAAAAAAAAAAAAAAAAAAAAAAAAAAAAAAAAAAAAAAAAAAAAAAAAAAAAAAAAAAAAAAAAAAAAAAAAAAAAAAAAAAAAAAAAAAAAAAAAAAAAAAAAAAAAAAAAAAAAAAAAAAAAAAAAAAAAAAAAAAAAAAAAAAAAAAAAAAAAAAAAAAAAAAAAAAAAAAAAAAAAAAAAAAAAAAAAAAAAAAAAAAAAAAAAAAAAAAAAAAAAAAAAAAAAAAAAAAAAAAAAAAAAAAAAAAAAAAAAAAAAAAAAAAAAAAAAAAAAAAAAAAAAAAAAAAAAAAAAAAAAAAAAAAAAAAAAAAAAAAAAAAAAAAAAAAAAAAAAAAAAAAAAAAAAAAAAAAAAAAAAAAAAAAAAAAAAAAAAAAAAAAAAAAAAAAAAAAAAAAAAAAAAAAAAAAAAAAAAAAAAAAAAAAAAAAAAAAAAAAAAAAAAAAAAAAAAAAAAAAAAAAAAAAAAAAAAAAAAAAAAAAAAAAAAAAAAAAAAAAAAAAAAAAAAAAAAAAAAAAAAAAAAACwAAAAABQABAAAICAAHAAhAQEBAADs=\"><title>Layer: shared-hidden (hidden)\n shape = (5,)\n Keras class = Dense\n activation = sigmoid</title></image><text x=\"505.0\" y=\"132.0\" font-family=\"monospace\" font-size=\"12\" text-anchor=\"start\" alignment-baseline=\"central\">shared-hidden</text><line x1=\"266.6666666666667\" y1=\"179\" x2=\"400.0\" y2=\"152\" stroke=\"black\" stroke-width=\"2\" marker-end=\"url(#arrow)\"><title>Weights from hidden1 to shared-hidden\n shared-hidden/kernel has shape (20, 5)\n shared-hidden/bias has shape (5,)</title></line><rect x=\"165.66666666666669\" y=\"179\" width=\"202\" height=\"27\" style=\"fill:none;stroke:black;stroke-width:2\"/><image id=\"XOR2 Network_hidden1_4\" class=\"XOR2 Network_hidden1\" x=\"166.66666666666669\" y=\"180\" height=\"25\" width=\"200\" preserveAspectRatio=\"none\" href=\"data:image/gif;base64,R0lGODdhCgABAIcAAP7+/QAAAAAAAAAAAAAAAAAAAAAAAAAAAAAAAAAAAAAAAAAAAAAAAAAAAAAAAAAAAAAAAAAAAAAAAAAAAAAAAAAAAAAAAAAAAAAAAAAAAAAAAAAAAAAAAAAAAAAAAAAAAAAAAAAAAAAAAAAAAAAAAAAAAAAAAAAAAAAAAAAAAAAAAAAAAAAAAAAAAAAAAAAAAAAAAAAAAAAAAAAAAAAAAAAAAAAAAAAAAAAAAAAAAAAAAAAAAAAAAAAAAAAAAAAAAAAAAAAAAAAAAAAAAAAAAAAAAAAAAAAAAAAAAAAAAAAAAAAAAAAAAAAAAAAAAAAAAAAAAAAAAAAAAAAAAAAAAAAAAAAAAAAAAAAAAAAAAAAAAAAAAAAAAAAAAAAAAAAAAAAAAAAAAAAAAAAAAAAAAAAAAAAAAAAAAAAAAAAAAAAAAAAAAAAAAAAAAAAAAAAAAAAAAAAAAAAAAAAAAAAAAAAAAAAAAAAAAAAAAAAAAAAAAAAAAAAAAAAAAAAAAAAAAAAAAAAAAAAAAAAAAAAAAAAAAAAAAAAAAAAAAAAAAAAAAAAAAAAAAAAAAAAAAAAAAAAAAAAAAAAAAAAAAAAAAAAAAAAAAAAAAAAAAAAAAAAAAAAAAAAAAAAAAAAAAAAAAAAAAAAAAAAAAAAAAAAAAAAAAAAAAAAAAAAAAAAAAAAAAAAAAAAAAAAAAAAAAAAAAAAAAAAAAAAAAAAAAAAAAAAAAAAAAAAAAAAAAAAAAAAAAAAAAAAAAAAAAAAAAAAAAAAAAAAAAAAAAAAAAAAAAAAAAAAAAAAAAAAAAAAAAAAAAAAAAAAAAAAAAAAAAAAAAAAAAAAAAAAAAAAAAAAAAAAAAAAAAAAAAAAAAAAAAAAAAAAAAAAAAAAAAAAAAAAAAAAAAAAAAAAAAAAAAAAAAAAAAAAAAAAAAAAAAAAAAAAAAAAAAAAAAAAAAAAAAAAAAAAAAAAAAAAAAAAAAAAAAAAAAAAAAAAAAAAAAAAAAAAAAAAAAAAAAAAAAAAAAAAAACwAAAAACgABAAAIBwABCBxIMCAAOw==\"><title>Layer: hidden1 (hidden)\n shape = (10,)\n Keras class = Dense\n activation = sigmoid</title></image><text x=\"371.6666666666667\" y=\"194.5\" font-family=\"monospace\" font-size=\"12\" text-anchor=\"start\" alignment-baseline=\"central\">hidden1</text><line x1=\"533.3333333333334\" y1=\"179\" x2=\"400.0\" y2=\"152\" stroke=\"black\" stroke-width=\"2\" marker-end=\"url(#arrow)\"><title>Weights from hidden2 to shared-hidden\n shared-hidden/kernel has shape (20, 5)\n shared-hidden/bias has shape (5,)</title></line><rect x=\"432.33333333333337\" y=\"179\" width=\"202\" height=\"27\" style=\"fill:none;stroke:black;stroke-width:2\"/><image id=\"XOR2 Network_hidden2_5\" class=\"XOR2 Network_hidden2\" x=\"433.33333333333337\" y=\"180\" height=\"25\" width=\"200\" preserveAspectRatio=\"none\" href=\"data:image/gif;base64,R0lGODdhCgABAIcAAP7+/QAAAAAAAAAAAAAAAAAAAAAAAAAAAAAAAAAAAAAAAAAAAAAAAAAAAAAAAAAAAAAAAAAAAAAAAAAAAAAAAAAAAAAAAAAAAAAAAAAAAAAAAAAAAAAAAAAAAAAAAAAAAAAAAAAAAAAAAAAAAAAAAAAAAAAAAAAAAAAAAAAAAAAAAAAAAAAAAAAAAAAAAAAAAAAAAAAAAAAAAAAAAAAAAAAAAAAAAAAAAAAAAAAAAAAAAAAAAAAAAAAAAAAAAAAAAAAAAAAAAAAAAAAAAAAAAAAAAAAAAAAAAAAAAAAAAAAAAAAAAAAAAAAAAAAAAAAAAAAAAAAAAAAAAAAAAAAAAAAAAAAAAAAAAAAAAAAAAAAAAAAAAAAAAAAAAAAAAAAAAAAAAAAAAAAAAAAAAAAAAAAAAAAAAAAAAAAAAAAAAAAAAAAAAAAAAAAAAAAAAAAAAAAAAAAAAAAAAAAAAAAAAAAAAAAAAAAAAAAAAAAAAAAAAAAAAAAAAAAAAAAAAAAAAAAAAAAAAAAAAAAAAAAAAAAAAAAAAAAAAAAAAAAAAAAAAAAAAAAAAAAAAAAAAAAAAAAAAAAAAAAAAAAAAAAAAAAAAAAAAAAAAAAAAAAAAAAAAAAAAAAAAAAAAAAAAAAAAAAAAAAAAAAAAAAAAAAAAAAAAAAAAAAAAAAAAAAAAAAAAAAAAAAAAAAAAAAAAAAAAAAAAAAAAAAAAAAAAAAAAAAAAAAAAAAAAAAAAAAAAAAAAAAAAAAAAAAAAAAAAAAAAAAAAAAAAAAAAAAAAAAAAAAAAAAAAAAAAAAAAAAAAAAAAAAAAAAAAAAAAAAAAAAAAAAAAAAAAAAAAAAAAAAAAAAAAAAAAAAAAAAAAAAAAAAAAAAAAAAAAAAAAAAAAAAAAAAAAAAAAAAAAAAAAAAAAAAAAAAAAAAAAAAAAAAAAAAAAAAAAAAAAAAAAAAAAAAAAAAAAAAAAAAAAAAAAAAAAAAAAAAAAAAAAAAAAAAAAAAAAAAAAAAAAAAAAAAAAAAAACwAAAAACgABAAAIBwABCBxIMCAAOw==\"><title>Layer: hidden2 (hidden)\n shape = (10,)\n Keras class = Dense\n activation = sigmoid</title></image><text x=\"638.3333333333334\" y=\"194.5\" font-family=\"monospace\" font-size=\"12\" text-anchor=\"start\" alignment-baseline=\"central\">hidden2</text><line x1=\"266.6666666666667\" y1=\"234\" x2=\"266.6666666666667\" y2=\"207\" stroke=\"black\" stroke-width=\"2\" marker-end=\"url(#arrow)\"><title>Weights from input1 to hidden1\n hidden1/kernel has shape (1, 10)\n hidden1/bias has shape (10,)</title></line><rect x=\"240.66666666666669\" y=\"234\" width=\"52\" height=\"52\" style=\"fill:none;stroke:black;stroke-width:2\"/><image id=\"XOR2 Network_input1_6\" class=\"XOR2 Network_input1\" x=\"241.66666666666669\" y=\"235\" height=\"50\" width=\"50\" preserveAspectRatio=\"none\" href=\"data:image/gif;base64,R0lGODdhAQABAIcAAP7+/QAAAAAAAAAAAAAAAAAAAAAAAAAAAAAAAAAAAAAAAAAAAAAAAAAAAAAAAAAAAAAAAAAAAAAAAAAAAAAAAAAAAAAAAAAAAAAAAAAAAAAAAAAAAAAAAAAAAAAAAAAAAAAAAAAAAAAAAAAAAAAAAAAAAAAAAAAAAAAAAAAAAAAAAAAAAAAAAAAAAAAAAAAAAAAAAAAAAAAAAAAAAAAAAAAAAAAAAAAAAAAAAAAAAAAAAAAAAAAAAAAAAAAAAAAAAAAAAAAAAAAAAAAAAAAAAAAAAAAAAAAAAAAAAAAAAAAAAAAAAAAAAAAAAAAAAAAAAAAAAAAAAAAAAAAAAAAAAAAAAAAAAAAAAAAAAAAAAAAAAAAAAAAAAAAAAAAAAAAAAAAAAAAAAAAAAAAAAAAAAAAAAAAAAAAAAAAAAAAAAAAAAAAAAAAAAAAAAAAAAAAAAAAAAAAAAAAAAAAAAAAAAAAAAAAAAAAAAAAAAAAAAAAAAAAAAAAAAAAAAAAAAAAAAAAAAAAAAAAAAAAAAAAAAAAAAAAAAAAAAAAAAAAAAAAAAAAAAAAAAAAAAAAAAAAAAAAAAAAAAAAAAAAAAAAAAAAAAAAAAAAAAAAAAAAAAAAAAAAAAAAAAAAAAAAAAAAAAAAAAAAAAAAAAAAAAAAAAAAAAAAAAAAAAAAAAAAAAAAAAAAAAAAAAAAAAAAAAAAAAAAAAAAAAAAAAAAAAAAAAAAAAAAAAAAAAAAAAAAAAAAAAAAAAAAAAAAAAAAAAAAAAAAAAAAAAAAAAAAAAAAAAAAAAAAAAAAAAAAAAAAAAAAAAAAAAAAAAAAAAAAAAAAAAAAAAAAAAAAAAAAAAAAAAAAAAAAAAAAAAAAAAAAAAAAAAAAAAAAAAAAAAAAAAAAAAAAAAAAAAAAAAAAAAAAAAAAAAAAAAAAAAAAAAAAAAAAAAAAAAAAAAAAAAAAAAAAAAAAAAAAAAAAAAAAAAAAAAAAAAAAAAAAAAAAAAAAAAAAAAAAAAAAAAAAAAAAAAAAAACwAAAAAAQABAAAIBQABbAkIADs=\"><title>Layer: input1 (input)\n shape = (1,)\n Keras class = Input</title></image><text x=\"296.6666666666667\" y=\"262.0\" font-family=\"monospace\" font-size=\"12\" text-anchor=\"start\" alignment-baseline=\"central\">input1</text><line x1=\"533.3333333333334\" y1=\"234\" x2=\"533.3333333333334\" y2=\"207\" stroke=\"black\" stroke-width=\"2\" marker-end=\"url(#arrow)\"><title>Weights from input2 to hidden2\n hidden2/kernel has shape (1, 10)\n hidden2/bias has shape (10,)</title></line><rect x=\"507.33333333333337\" y=\"234\" width=\"52\" height=\"52\" style=\"fill:none;stroke:black;stroke-width:2\"/><image id=\"XOR2 Network_input2_7\" class=\"XOR2 Network_input2\" x=\"508.33333333333337\" y=\"235\" height=\"50\" width=\"50\" preserveAspectRatio=\"none\" href=\"data:image/gif;base64,R0lGODdhAQABAIcAAP7+/QAAAAAAAAAAAAAAAAAAAAAAAAAAAAAAAAAAAAAAAAAAAAAAAAAAAAAAAAAAAAAAAAAAAAAAAAAAAAAAAAAAAAAAAAAAAAAAAAAAAAAAAAAAAAAAAAAAAAAAAAAAAAAAAAAAAAAAAAAAAAAAAAAAAAAAAAAAAAAAAAAAAAAAAAAAAAAAAAAAAAAAAAAAAAAAAAAAAAAAAAAAAAAAAAAAAAAAAAAAAAAAAAAAAAAAAAAAAAAAAAAAAAAAAAAAAAAAAAAAAAAAAAAAAAAAAAAAAAAAAAAAAAAAAAAAAAAAAAAAAAAAAAAAAAAAAAAAAAAAAAAAAAAAAAAAAAAAAAAAAAAAAAAAAAAAAAAAAAAAAAAAAAAAAAAAAAAAAAAAAAAAAAAAAAAAAAAAAAAAAAAAAAAAAAAAAAAAAAAAAAAAAAAAAAAAAAAAAAAAAAAAAAAAAAAAAAAAAAAAAAAAAAAAAAAAAAAAAAAAAAAAAAAAAAAAAAAAAAAAAAAAAAAAAAAAAAAAAAAAAAAAAAAAAAAAAAAAAAAAAAAAAAAAAAAAAAAAAAAAAAAAAAAAAAAAAAAAAAAAAAAAAAAAAAAAAAAAAAAAAAAAAAAAAAAAAAAAAAAAAAAAAAAAAAAAAAAAAAAAAAAAAAAAAAAAAAAAAAAAAAAAAAAAAAAAAAAAAAAAAAAAAAAAAAAAAAAAAAAAAAAAAAAAAAAAAAAAAAAAAAAAAAAAAAAAAAAAAAAAAAAAAAAAAAAAAAAAAAAAAAAAAAAAAAAAAAAAAAAAAAAAAAAAAAAAAAAAAAAAAAAAAAAAAAAAAAAAAAAAAAAAAAAAAAAAAAAAAAAAAAAAAAAAAAAAAAAAAAAAAAAAAAAAAAAAAAAAAAAAAAAAAAAAAAAAAAAAAAAAAAAAAAAAAAAAAAAAAAAAAAAAAAAAAAAAAAAAAAAAAAAAAAAAAAAAAAAAAAAAAAAAAAAAAAAAAAAAAAAAAAAAAAAAAAAAAAAAAAAAAAAAAAAAAAAAAAAAAAAAACwAAAAAAQABAAAIBQABbAkIADs=\"><title>Layer: input2 (input)\n shape = (1,)\n Keras class = Input</title></image><text x=\"563.3333333333334\" y=\"262.0\" font-family=\"monospace\" font-size=\"12\" text-anchor=\"start\" alignment-baseline=\"central\">input2</text></svg></p>"
      }
     },
     "8fbf0df4681b44e38f1aa75a3078b243": {
      "model_module": "jupyter-js-widgets",
      "model_module_version": "~2.1.4",
      "model_name": "LayoutModel",
      "state": {
       "_model_module_version": "~2.1.4",
       "_view_module_version": "~2.1.4",
       "width": "100%"
      }
     },
     "9060fbee389249be80e70272deb319a8": {
      "model_module": "jupyter-js-widgets",
      "model_module_version": "~2.1.4",
      "model_name": "LayoutModel",
      "state": {
       "_model_module_version": "~2.1.4",
       "_view_module_version": "~2.1.4",
       "height": "550px",
       "width": "100%"
      }
     },
     "9094bfd58c97409495ef53a49d910de1": {
      "model_module": "jupyter-js-widgets",
      "model_module_version": "~2.1.4",
      "model_name": "ButtonModel",
      "state": {
       "_model_module_version": "~2.1.4",
       "_view_module_version": "~2.1.4",
       "icon": "fast-forward",
       "layout": "IPY_MODEL_56856a599a964e94beecbae20ac6bef7",
       "style": "IPY_MODEL_a10095fd1c38447d8e9544fe629b4157"
      }
     },
     "90f2eb0bb1cf4b63985c4fdf5ae68d81": {
      "model_module": "jupyter-js-widgets",
      "model_module_version": "~2.1.4",
      "model_name": "VBoxModel",
      "state": {
       "_model_module_version": "~2.1.4",
       "_view_module_version": "~2.1.4",
       "layout": "IPY_MODEL_effeb696948648ed986021154b51acca"
      }
     },
     "954c82b3ead0488cafecdb5a00f6f29a": {
      "model_module": "jupyter-js-widgets",
      "model_module_version": "~2.1.4",
      "model_name": "VBoxModel",
      "state": {
       "_model_module_version": "~2.1.4",
       "_view_module_version": "~2.1.4",
       "children": [
        "IPY_MODEL_2d90ec1c6e0344aa8a8efb5288261fa8",
        "IPY_MODEL_57383bef754849ff9ec14812450ad657",
        "IPY_MODEL_f9941576a17b460b92cb2a27caf14d3b"
       ],
       "layout": "IPY_MODEL_336ea1c160b44512aaa0b2a180d5f989"
      }
     },
     "96bd769ad12444cfa319a79b44d523d9": {
      "model_module": "jupyter-js-widgets",
      "model_module_version": "~2.1.4",
      "model_name": "LayoutModel",
      "state": {
       "_model_module_version": "~2.1.4",
       "_view_module_version": "~2.1.4",
       "width": "100%"
      }
     },
     "96e06b3f1faf42d9b26bf0172c2bbbca": {
      "model_module": "jupyter-js-widgets",
      "model_module_version": "~2.1.4",
      "model_name": "ButtonStyleModel",
      "state": {
       "_model_module_version": "~2.1.4",
       "_view_module_version": "~2.1.4"
      }
     },
     "976fbd3ce0da4865aabad0280aebb770": {
      "model_module": "jupyter-js-widgets",
      "model_module_version": "~2.1.4",
      "model_name": "IntSliderModel",
      "state": {
       "_model_module_version": "~2.1.4",
       "_view_module_version": "~2.1.4",
       "continuous_update": false,
       "description": "Dataset index",
       "layout": "IPY_MODEL_b8ea85594a7447d780c284b437c8144e",
       "max": 3,
       "style": "IPY_MODEL_2db99f3f66af409389adfb84e9df919c",
       "value": 3
      }
     },
     "990afa9cbf894543a605552961f8602b": {
      "model_module": "jupyter-js-widgets",
      "model_module_version": "~2.1.4",
      "model_name": "LayoutModel",
      "state": {
       "_model_module_version": "~2.1.4",
       "_view_module_version": "~2.1.4",
       "width": "100%"
      }
     },
     "9a5108efaa554e89918b0eccfc800ac3": {
      "model_module": "jupyter-js-widgets",
      "model_module_version": "~2.1.4",
      "model_name": "HBoxModel",
      "state": {
       "_model_module_version": "~2.1.4",
       "_view_module_version": "~2.1.4",
       "children": [
        "IPY_MODEL_539d367a299b45e1816cded8530242f0",
        "IPY_MODEL_0a19f15fd1e24d62b7f071b4d48f5aad",
        "IPY_MODEL_ee53dd0b3a9c44c0a3dee7cca82b9116",
        "IPY_MODEL_d7424d5a80b342f097b80708233b51dd",
        "IPY_MODEL_5fce82637248448c83164426611146be"
       ],
       "layout": "IPY_MODEL_5c1a10fa8df94f18b84c7c6e00ac1f6d"
      }
     },
     "9c0883a829a24cad8c9d5e8780faa523": {
      "model_module": "jupyter-js-widgets",
      "model_module_version": "~2.1.4",
      "model_name": "VBoxModel",
      "state": {
       "_model_module_version": "~2.1.4",
       "_view_module_version": "~2.1.4",
       "layout": "IPY_MODEL_8538548ccc28406e832a93acc8b65600"
      }
     },
     "a10095fd1c38447d8e9544fe629b4157": {
      "model_module": "jupyter-js-widgets",
      "model_module_version": "~2.1.4",
      "model_name": "ButtonStyleModel",
      "state": {
       "_model_module_version": "~2.1.4",
       "_view_module_version": "~2.1.4"
      }
     },
     "a2a96470032b4fcb8b12e392803f363f": {
      "model_module": "jupyter-js-widgets",
      "model_module_version": "~2.1.4",
      "model_name": "HBoxModel",
      "state": {
       "_model_module_version": "~2.1.4",
       "_view_module_version": "~2.1.4",
       "children": [
        "IPY_MODEL_45a90300c4a242fc929836b2d4864d08",
        "IPY_MODEL_30d853038fe048738f113bad038e1e07",
        "IPY_MODEL_e1f5bf6751ca42d8bfa39d733983ce51",
        "IPY_MODEL_10efbe283a594b8bae3db1225974a965",
        "IPY_MODEL_e8dce462f01042df82c9c36de6ead4e1"
       ],
       "layout": "IPY_MODEL_ddabc779eaa34e13a95a6dc3d21dad79"
      }
     },
     "a3adcc0c784942dd84a274a1b7927fd9": {
      "model_module": "jupyter-js-widgets",
      "model_module_version": "~2.1.4",
      "model_name": "LayoutModel",
      "state": {
       "_model_module_version": "~2.1.4",
       "_view_module_version": "~2.1.4",
       "height": "550px",
       "justify_content": "center",
       "overflow_x": "auto",
       "width": "100%"
      }
     },
     "a5c19b26b275401ea61097303a53f3a9": {
      "model_module": "jupyter-js-widgets",
      "model_module_version": "~2.1.4",
      "model_name": "SelectModel",
      "state": {
       "_model_module_version": "~2.1.4",
       "_options_labels": [
        "Test",
        "Train"
       ],
       "_view_module_version": "~2.1.4",
       "description": "Dataset:",
       "layout": "IPY_MODEL_ab768c9ee4c942278ba5e8fcfbd26f61",
       "value": "Train"
      }
     },
     "a7ce02124ec14ff987573e1a3e7b7cae": {
      "model_module": "jupyter-js-widgets",
      "model_module_version": "~2.1.4",
      "model_name": "ButtonStyleModel",
      "state": {
       "_model_module_version": "~2.1.4",
       "_view_module_version": "~2.1.4"
      }
     },
     "a8fa3b134c98435ca7ba7525b4f95e75": {
      "model_module": "jupyter-js-widgets",
      "model_module_version": "~2.1.4",
      "model_name": "LayoutModel",
      "state": {
       "_model_module_version": "~2.1.4",
       "_view_module_version": "~2.1.4",
       "width": "100%"
      }
     },
     "a94957fb3f4e485c9162ea6bab85f218": {
      "model_module": "jupyter-js-widgets",
      "model_module_version": "~2.1.4",
      "model_name": "LayoutModel",
      "state": {
       "_model_module_version": "~2.1.4",
       "_view_module_version": "~2.1.4",
       "width": "100%"
      }
     },
     "a99e089390e04abebcbe9ea6a93fe300": {
      "model_module": "jupyter-js-widgets",
      "model_module_version": "~2.1.4",
      "model_name": "LayoutModel",
      "state": {
       "_model_module_version": "~2.1.4",
       "_view_module_version": "~2.1.4",
       "width": "100%"
      }
     },
     "ab768c9ee4c942278ba5e8fcfbd26f61": {
      "model_module": "jupyter-js-widgets",
      "model_module_version": "~2.1.4",
      "model_name": "LayoutModel",
      "state": {
       "_model_module_version": "~2.1.4",
       "_view_module_version": "~2.1.4"
      }
     },
     "abc4d67c540d4a25ae2a831bc7933f9c": {
      "model_module": "jupyter-js-widgets",
      "model_module_version": "~2.1.4",
      "model_name": "ButtonStyleModel",
      "state": {
       "_model_module_version": "~2.1.4",
       "_view_module_version": "~2.1.4"
      }
     },
     "abcbb837ac894a94b5ad55ecfd3e532d": {
      "model_module": "jupyter-js-widgets",
      "model_module_version": "~2.1.4",
      "model_name": "ButtonStyleModel",
      "state": {
       "_model_module_version": "~2.1.4",
       "_view_module_version": "~2.1.4"
      }
     },
     "ad1840050e694738bd6b7c7cc6d69ff1": {
      "model_module": "jupyter-js-widgets",
      "model_module_version": "~2.1.4",
      "model_name": "LayoutModel",
      "state": {
       "_model_module_version": "~2.1.4",
       "_view_module_version": "~2.1.4",
       "width": "100%"
      }
     },
     "b1a1a2ab55cd40aab338aef35e74491a": {
      "model_module": "jupyter-js-widgets",
      "model_module_version": "~2.1.4",
      "model_name": "LayoutModel",
      "state": {
       "_model_module_version": "~2.1.4",
       "_view_module_version": "~2.1.4",
       "width": "100%"
      }
     },
     "b262ca1e8d5f487f95cde725b87343bd": {
      "model_module": "jupyter-js-widgets",
      "model_module_version": "~2.1.4",
      "model_name": "VBoxModel",
      "state": {
       "_model_module_version": "~2.1.4",
       "_view_module_version": "~2.1.4",
       "children": [
        "IPY_MODEL_a5c19b26b275401ea61097303a53f3a9",
        "IPY_MODEL_e5d54467586f44cfaee432245955fdeb",
        "IPY_MODEL_24d9ee9b2a2f42a1a7ec1cf3b1bf3361"
       ],
       "layout": "IPY_MODEL_c4bcda4358034b249bf01d53ad11acbe"
      }
     },
     "b3d852ecaf9d4652b4986788622ff0ec": {
      "model_module": "jupyter-js-widgets",
      "model_module_version": "~2.1.4",
      "model_name": "LayoutModel",
      "state": {
       "_model_module_version": "~2.1.4",
       "_view_module_version": "~2.1.4",
       "width": "100%"
      }
     },
     "b4218bc026d54082ad2756abaa541372": {
      "model_module": "jupyter-js-widgets",
      "model_module_version": "~2.1.4",
      "model_name": "SliderStyleModel",
      "state": {
       "_model_module_version": "~2.1.4",
       "_view_module_version": "~2.1.4"
      }
     },
     "b465e07a5a754a068c39c93c3c8f827d": {
      "model_module": "jupyter-js-widgets",
      "model_module_version": "~2.1.4",
      "model_name": "SliderStyleModel",
      "state": {
       "_model_module_version": "~2.1.4",
       "_view_module_version": "~2.1.4"
      }
     },
     "b46cdd18d6054814bcaf5094af13da2a": {
      "model_module": "jupyter-js-widgets",
      "model_module_version": "~2.1.4",
      "model_name": "ButtonModel",
      "state": {
       "_model_module_version": "~2.1.4",
       "_view_module_version": "~2.1.4",
       "description": "Turn on webcamera",
       "layout": "IPY_MODEL_2de56e1b54834baca6cd87635b6816c9",
       "style": "IPY_MODEL_3d0d374a691c47bca4abe4641b4dd5b6"
      }
     },
     "b478084c968147dd95834093c9ebb060": {
      "model_module": "jupyter-js-widgets",
      "model_module_version": "~2.1.4",
      "model_name": "LayoutModel",
      "state": {
       "_model_module_version": "~2.1.4",
       "_view_module_version": "~2.1.4",
       "height": "550px",
       "width": "100%"
      }
     },
     "b552008d39e141299e23b72af0c60615": {
      "model_module": "jupyter-js-widgets",
      "model_module_version": "~2.1.4",
      "model_name": "VBoxModel",
      "state": {
       "_model_module_version": "~2.1.4",
       "_view_module_version": "~2.1.4",
       "children": [
        "IPY_MODEL_7522ab0fc7a1407e93c5016f378cecdb",
        "IPY_MODEL_0a84d47fcd3e4634bcc47acd365023d5"
       ],
       "layout": "IPY_MODEL_0d51443cf4dc4a989b5270151265ba2f"
      }
     },
     "b6683ae172894a55ba55b50207af7307": {
      "model_module": "jupyter-js-widgets",
      "model_module_version": "~2.1.4",
      "model_name": "LayoutModel",
      "state": {
       "_model_module_version": "~2.1.4",
       "_view_module_version": "~2.1.4",
       "width": "100%"
      }
     },
     "b71aab98a91c4b33a0ef75aee99ffc1f": {
      "model_module": "jupyter-js-widgets",
      "model_module_version": "~2.1.4",
      "model_name": "ButtonModel",
      "state": {
       "_model_module_version": "~2.1.4",
       "_view_module_version": "~2.1.4",
       "icon": "fast-forward",
       "layout": "IPY_MODEL_47c4904ce09a4fa88e3b45d2688151d4",
       "style": "IPY_MODEL_495712c2873846188711a9857c289d35"
      }
     },
     "b8ea85594a7447d780c284b437c8144e": {
      "model_module": "jupyter-js-widgets",
      "model_module_version": "~2.1.4",
      "model_name": "LayoutModel",
      "state": {
       "_model_module_version": "~2.1.4",
       "_view_module_version": "~2.1.4",
       "width": "100%"
      }
     },
     "bcdc6595e5c8447c962b0e20ebafc54b": {
      "model_module": "jupyter-js-widgets",
      "model_module_version": "~2.1.4",
      "model_name": "ButtonStyleModel",
      "state": {
       "_model_module_version": "~2.1.4",
       "_view_module_version": "~2.1.4"
      }
     },
     "c2aa117dc0cb4af793bf3516731c5896": {
      "model_module": "jupyter-js-widgets",
      "model_module_version": "~2.1.4",
      "model_name": "LayoutModel",
      "state": {
       "_model_module_version": "~2.1.4",
       "_view_module_version": "~2.1.4",
       "width": "100%"
      }
     },
     "c4bcda4358034b249bf01d53ad11acbe": {
      "model_module": "jupyter-js-widgets",
      "model_module_version": "~2.1.4",
      "model_name": "LayoutModel",
      "state": {
       "_model_module_version": "~2.1.4",
       "_view_module_version": "~2.1.4",
       "width": "100%"
      }
     },
     "c6eb575c5cb647caafc04bf19c6e5e15": {
      "model_module": "jupyter-js-widgets",
      "model_module_version": "~2.1.4",
      "model_name": "VBoxModel",
      "state": {
       "_model_module_version": "~2.1.4",
       "_view_module_version": "~2.1.4",
       "children": [
        "IPY_MODEL_dae7d47d88724116bbb17c2682a9fd3b"
       ],
       "layout": "IPY_MODEL_b478084c968147dd95834093c9ebb060"
      }
     },
     "c712750940174af8ac0f0731708c10cd": {
      "model_module": "jupyter-js-widgets",
      "model_module_version": "~2.1.4",
      "model_name": "ButtonStyleModel",
      "state": {
       "_model_module_version": "~2.1.4",
       "_view_module_version": "~2.1.4"
      }
     },
     "caf1c94d379f4e0f8d77a011ce9b746e": {
      "model_module": "jupyter-js-widgets",
      "model_module_version": "~2.1.4",
      "model_name": "LayoutModel",
      "state": {
       "_model_module_version": "~2.1.4",
       "_view_module_version": "~2.1.4"
      }
     },
     "cd17e84be26c4ceebb711b3c93b652cb": {
      "model_module": "jupyter-js-widgets",
      "model_module_version": "~2.1.4",
      "model_name": "ButtonStyleModel",
      "state": {
       "_model_module_version": "~2.1.4",
       "_view_module_version": "~2.1.4"
      }
     },
     "cd195285569147b989a9650e959ef1df": {
      "model_module": "jupyter-js-widgets",
      "model_module_version": "~2.1.4",
      "model_name": "LayoutModel",
      "state": {
       "_model_module_version": "~2.1.4",
       "_view_module_version": "~2.1.4",
       "width": "100%"
      }
     },
     "cfef5edaa4304b23b0eb5aa436432849": {
      "model_module": "jupyter-js-widgets",
      "model_module_version": "~2.1.4",
      "model_name": "HTMLModel",
      "state": {
       "_model_module_version": "~2.1.4",
       "_view_module_version": "~2.1.4",
       "layout": "IPY_MODEL_3d52155c37b54e3bb332abf9ac2a5b00",
       "value": "\n        <svg id='XOR Network' xmlns='http://www.w3.org/2000/svg' width=\"350\" height=\"265\" image-rendering=\"pixelated\">\n    <defs>\n        <marker id=\"arrow\" markerWidth=\"10\" markerHeight=\"10\" refX=\"9\" refY=\"3\" orient=\"auto\" markerUnits=\"strokeWidth\">\n          <path d=\"M0,0 L0,6 L9,3 z\" fill=\"black\" />\n        </marker>\n    </defs>\n<text x=\"175.0\" y=\"12.5\" font-family=\"monospace\" font-size=\"15\" text-anchor=\"middle\" alignment-baseline=\"central\">XOR Network</text><rect x=\"149.0\" y=\"29\" width=\"52\" height=\"52\" style=\"fill:none;stroke:black;stroke-width:2\"/><image id=\"XOR Network_output_1\" class=\"XOR Network_output\" x=\"150.0\" y=\"30\" height=\"50\" width=\"50\" preserveAspectRatio=\"none\" href=\"data:image/gif;base64,R0lGODdhAQABAIcAAPvQuQAAAAAAAAAAAAAAAAAAAAAAAAAAAAAAAAAAAAAAAAAAAAAAAAAAAAAAAAAAAAAAAAAAAAAAAAAAAAAAAAAAAAAAAAAAAAAAAAAAAAAAAAAAAAAAAAAAAAAAAAAAAAAAAAAAAAAAAAAAAAAAAAAAAAAAAAAAAAAAAAAAAAAAAAAAAAAAAAAAAAAAAAAAAAAAAAAAAAAAAAAAAAAAAAAAAAAAAAAAAAAAAAAAAAAAAAAAAAAAAAAAAAAAAAAAAAAAAAAAAAAAAAAAAAAAAAAAAAAAAAAAAAAAAAAAAAAAAAAAAAAAAAAAAAAAAAAAAAAAAAAAAAAAAAAAAAAAAAAAAAAAAAAAAAAAAAAAAAAAAAAAAAAAAAAAAAAAAAAAAAAAAAAAAAAAAAAAAAAAAAAAAAAAAAAAAAAAAAAAAAAAAAAAAAAAAAAAAAAAAAAAAAAAAAAAAAAAAAAAAAAAAAAAAAAAAAAAAAAAAAAAAAAAAAAAAAAAAAAAAAAAAAAAAAAAAAAAAAAAAAAAAAAAAAAAAAAAAAAAAAAAAAAAAAAAAAAAAAAAAAAAAAAAAAAAAAAAAAAAAAAAAAAAAAAAAAAAAAAAAAAAAAAAAAAAAAAAAAAAAAAAAAAAAAAAAAAAAAAAAAAAAAAAAAAAAAAAAAAAAAAAAAAAAAAAAAAAAAAAAAAAAAAAAAAAAAAAAAAAAAAAAAAAAAAAAAAAAAAAAAAAAAAAAAAAAAAAAAAAAAAAAAAAAAAAAAAAAAAAAAAAAAAAAAAAAAAAAAAAAAAAAAAAAAAAAAAAAAAAAAAAAAAAAAAAAAAAAAAAAAAAAAAAAAAAAAAAAAAAAAAAAAAAAAAAAAAAAAAAAAAAAAAAAAAAAAAAAAAAAAAAAAAAAAAAAAAAAAAAAAAAAAAAAAAAAAAAAAAAAAAAAAAAAAAAAAAAAAAAAAAAAAAAAAAAAAAAAAAAAAAAAAAAAAAAAAAAAAAAAAAAAAAAAAAAAAAAAAAAAAAAAAAAAAAAAAAAAAAAACwAAAAAAQABAAAIBQABbAgIADs=\"><title>Layer: output (output)\n shape = (1,)\n Keras class = Dense\n activation = sigmoid</title></image><text x=\"205.0\" y=\"57.0\" font-family=\"monospace\" font-size=\"12\" text-anchor=\"start\" alignment-baseline=\"central\">output</text><line x1=\"175.0\" y1=\"109\" x2=\"175.0\" y2=\"82\" stroke=\"black\" stroke-width=\"2\" marker-end=\"url(#arrow)\"><title>Weights from hidden to output\n output/kernel has shape (4, 1)\n output/bias has shape (1,)</title></line><rect x=\"74.0\" y=\"109\" width=\"202\" height=\"52\" style=\"fill:none;stroke:black;stroke-width:2\"/><image id=\"XOR Network_hidden_2\" class=\"XOR Network_hidden\" x=\"75.0\" y=\"110\" height=\"50\" width=\"200\" preserveAspectRatio=\"none\" href=\"data:image/gif;base64,R0lGODdhBAABAIcAAP7+/QAAAAAAAAAAAAAAAAAAAAAAAAAAAAAAAAAAAAAAAAAAAAAAAAAAAAAAAAAAAAAAAAAAAAAAAAAAAAAAAAAAAAAAAAAAAAAAAAAAAAAAAAAAAAAAAAAAAAAAAAAAAAAAAAAAAAAAAAAAAAAAAAAAAAAAAAAAAAAAAAAAAAAAAAAAAAAAAAAAAAAAAAAAAAAAAAAAAAAAAAAAAAAAAAAAAAAAAAAAAAAAAAAAAAAAAAAAAAAAAAAAAAAAAAAAAAAAAAAAAAAAAAAAAAAAAAAAAAAAAAAAAAAAAAAAAAAAAAAAAAAAAAAAAAAAAAAAAAAAAAAAAAAAAAAAAAAAAAAAAAAAAAAAAAAAAAAAAAAAAAAAAAAAAAAAAAAAAAAAAAAAAAAAAAAAAAAAAAAAAAAAAAAAAAAAAAAAAAAAAAAAAAAAAAAAAAAAAAAAAAAAAAAAAAAAAAAAAAAAAAAAAAAAAAAAAAAAAAAAAAAAAAAAAAAAAAAAAAAAAAAAAAAAAAAAAAAAAAAAAAAAAAAAAAAAAAAAAAAAAAAAAAAAAAAAAAAAAAAAAAAAAAAAAAAAAAAAAAAAAAAAAAAAAAAAAAAAAAAAAAAAAAAAAAAAAAAAAAAAAAAAAAAAAAAAAAAAAAAAAAAAAAAAAAAAAAAAAAAAAAAAAAAAAAAAAAAAAAAAAAAAAAAAAAAAAAAAAAAAAAAAAAAAAAAAAAAAAAAAAAAAAAAAAAAAAAAAAAAAAAAAAAAAAAAAAAAAAAAAAAAAAAAAAAAAAAAAAAAAAAAAAAAAAAAAAAAAAAAAAAAAAAAAAAAAAAAAAAAAAAAAAAAAAAAAAAAAAAAAAAAAAAAAAAAAAAAAAAAAAAAAAAAAAAAAAAAAAAAAAAAAAAAAAAAAAAAAAAAAAAAAAAAAAAAAAAAAAAAAAAAAAAAAAAAAAAAAAAAAAAAAAAAAAAAAAAAAAAAAAAAAAAAAAAAAAAAAAAAAAAAAAAAAAAAAAAAAAAAAAAAAAAAAAAAAAAAAAAAAACwAAAAABAABAAAIBgABCAQQEAA7\"><title>Layer: hidden (hidden)\n shape = (4,)\n Keras class = Dense\n activation = sigmoid</title></image><text x=\"280.0\" y=\"137.0\" font-family=\"monospace\" font-size=\"12\" text-anchor=\"start\" alignment-baseline=\"central\">hidden</text><line x1=\"175.0\" y1=\"189\" x2=\"175.0\" y2=\"162\" stroke=\"black\" stroke-width=\"2\" marker-end=\"url(#arrow)\"><title>Weights from input to hidden\n hidden/kernel has shape (2, 4)\n hidden/bias has shape (4,)</title></line><rect x=\"124.0\" y=\"189\" width=\"102\" height=\"52\" style=\"fill:none;stroke:black;stroke-width:2\"/><image id=\"XOR Network_input_3\" class=\"XOR Network_input\" x=\"125.0\" y=\"190\" height=\"50\" width=\"100\" preserveAspectRatio=\"none\" href=\"data:image/gif;base64,R0lGODdhAgABAIcAAP7+/QAAAAAAAAAAAAAAAAAAAAAAAAAAAAAAAAAAAAAAAAAAAAAAAAAAAAAAAAAAAAAAAAAAAAAAAAAAAAAAAAAAAAAAAAAAAAAAAAAAAAAAAAAAAAAAAAAAAAAAAAAAAAAAAAAAAAAAAAAAAAAAAAAAAAAAAAAAAAAAAAAAAAAAAAAAAAAAAAAAAAAAAAAAAAAAAAAAAAAAAAAAAAAAAAAAAAAAAAAAAAAAAAAAAAAAAAAAAAAAAAAAAAAAAAAAAAAAAAAAAAAAAAAAAAAAAAAAAAAAAAAAAAAAAAAAAAAAAAAAAAAAAAAAAAAAAAAAAAAAAAAAAAAAAAAAAAAAAAAAAAAAAAAAAAAAAAAAAAAAAAAAAAAAAAAAAAAAAAAAAAAAAAAAAAAAAAAAAAAAAAAAAAAAAAAAAAAAAAAAAAAAAAAAAAAAAAAAAAAAAAAAAAAAAAAAAAAAAAAAAAAAAAAAAAAAAAAAAAAAAAAAAAAAAAAAAAAAAAAAAAAAAAAAAAAAAAAAAAAAAAAAAAAAAAAAAAAAAAAAAAAAAAAAAAAAAAAAAAAAAAAAAAAAAAAAAAAAAAAAAAAAAAAAAAAAAAAAAAAAAAAAAAAAAAAAAAAAAAAAAAAAAAAAAAAAAAAAAAAAAAAAAAAAAAAAAAAAAAAAAAAAAAAAAAAAAAAAAAAAAAAAAAAAAAAAAAAAAAAAAAAAAAAAAAAAAAAAAAAAAAAAAAAAAAAAAAAAAAAAAAAAAAAAAAAAAAAAAAAAAAAAAAAAAAAAAAAAAAAAAAAAAAAAAAAAAAAAAAAAAAAAAAAAAAAAAAAAAAAAAAAAAAAAAAAAAAAAAAAAAAAAAAAAAAAAAAAAAAAAAAAAAAAAAAAAAAAAAAAAAAAAAAAAAAAAAAAAAAAAAAAAAAAAAAAAAAAAAAAAAAAAAAAAAAAAAAAAAAAAAAAAAAAAAAAAAAAAAAAAAAAAAAAAAAAAAAAAAAAAAAAAAAAAAAAAAAAAAAAAAAAAAAAAAAAAAAAAAAAAACwAAAAAAgABAAAIBQABAAgIADs=\"><title>Layer: input (input)\n shape = (2,)\n Keras class = Input</title></image><text x=\"230.0\" y=\"217.0\" font-family=\"monospace\" font-size=\"12\" text-anchor=\"start\" alignment-baseline=\"central\">input</text></svg>"
      }
     },
     "d32f7da722c3461d893702c2c85a2c30": {
      "model_module": "jupyter-js-widgets",
      "model_module_version": "~2.1.4",
      "model_name": "LayoutModel",
      "state": {
       "_model_module_version": "~2.1.4",
       "_view_module_version": "~2.1.4",
       "height": "550px",
       "width": "100%"
      }
     },
     "d35e7111120a46d380558d60c206c48f": {
      "model_module": "jupyter-js-widgets",
      "model_module_version": "~2.1.4",
      "model_name": "ButtonModel",
      "state": {
       "_model_module_version": "~2.1.4",
       "_view_module_version": "~2.1.4",
       "icon": "backward",
       "layout": "IPY_MODEL_21d15ee148db4c0d90b0b2fc710137fa",
       "style": "IPY_MODEL_2e8a10d4ae2149a29d906127196d2e59"
      }
     },
     "d4dce97eb9c043ea95c791b98898d579": {
      "model_module": "jupyter-js-widgets",
      "model_module_version": "~2.1.4",
      "model_name": "TabModel",
      "state": {
       "_model_module_version": "~2.1.4",
       "_titles": {
        "0": "Network",
        "1": "Graphs",
        "2": "Analysis",
        "3": "Camera",
        "4": "Help"
       },
       "_view_module_version": "~2.1.4",
       "children": [
        "IPY_MODEL_47ae47511a0f46b481f64a15a28b07f8",
        "IPY_MODEL_dd50ddabd15248508b83451ea4e490fd",
        "IPY_MODEL_f8c82b4b1c2e4c64a5fa9f2b072e9086",
        "IPY_MODEL_efd90ef5ff674786bae54624ebfbdb14",
        "IPY_MODEL_77dd09048e474e8e921aa63b949ec3ad"
       ],
       "layout": "IPY_MODEL_64c574d2cfff4b1bba64f8f042c15fa2"
      }
     },
     "d7424d5a80b342f097b80708233b51dd": {
      "model_module": "jupyter-js-widgets",
      "model_module_version": "~2.1.4",
      "model_name": "ButtonModel",
      "state": {
       "_model_module_version": "~2.1.4",
       "_view_module_version": "~2.1.4",
       "icon": "forward",
       "layout": "IPY_MODEL_80acd2cf30314f5cba3afb0e614e1efc",
       "style": "IPY_MODEL_87d2645a500d4c65900afb70f8dc2fd3"
      }
     },
     "d940ba84882a4c84994a2b11cbbba577": {
      "model_module": "jupyter-js-widgets",
      "model_module_version": "~2.1.4",
      "model_name": "LayoutModel",
      "state": {
       "_model_module_version": "~2.1.4",
       "_view_module_version": "~2.1.4",
       "height": "550px",
       "width": "100%"
      }
     },
     "da0e1de088dc42cabe649e71368eab60": {
      "model_module": "jupyter-js-widgets",
      "model_module_version": "~2.1.4",
      "model_name": "SelectModel",
      "state": {
       "_model_module_version": "~2.1.4",
       "_options_labels": [
        "Test",
        "Train"
       ],
       "_view_module_version": "~2.1.4",
       "description": "Dataset:",
       "layout": "IPY_MODEL_70da48a1a4a148bc80d4157dddfc91d1",
       "value": "Train"
      }
     },
     "dae7d47d88724116bbb17c2682a9fd3b": {
      "model_module": "jupyter-js-widgets",
      "model_module_version": "~2.1.4",
      "model_name": "ButtonModel",
      "state": {
       "_model_module_version": "~2.1.4",
       "_view_module_version": "~2.1.4",
       "description": "Turn on webcamera",
       "layout": "IPY_MODEL_118f03312cc646a4ae947ae3e48ddac9",
       "style": "IPY_MODEL_cd17e84be26c4ceebb711b3c93b652cb"
      }
     },
     "db6abc6723884756a24d083e0ff11b19": {
      "model_module": "jupyter-js-widgets",
      "model_module_version": "~2.1.4",
      "model_name": "LayoutModel",
      "state": {
       "_model_module_version": "~2.1.4",
       "_view_module_version": "~2.1.4"
      }
     },
     "dbd68dcb5ce64e18b577cc97969c4341": {
      "model_module": "jupyter-js-widgets",
      "model_module_version": "~2.1.4",
      "model_name": "LayoutModel",
      "state": {
       "_model_module_version": "~2.1.4",
       "_view_module_version": "~2.1.4",
       "width": "100%"
      }
     },
     "dd50ddabd15248508b83451ea4e490fd": {
      "model_module": "jupyter-js-widgets",
      "model_module_version": "~2.1.4",
      "model_name": "VBoxModel",
      "state": {
       "_model_module_version": "~2.1.4",
       "_view_module_version": "~2.1.4",
       "layout": "IPY_MODEL_303663799f0e4c6e88e2b17f695f2428"
      }
     },
     "ddabc779eaa34e13a95a6dc3d21dad79": {
      "model_module": "jupyter-js-widgets",
      "model_module_version": "~2.1.4",
      "model_name": "LayoutModel",
      "state": {
       "_model_module_version": "~2.1.4",
       "_view_module_version": "~2.1.4",
       "width": "100%"
      }
     },
     "df764618defc42b48a780a637bd4d3ee": {
      "model_module": "jupyter-js-widgets",
      "model_module_version": "~2.1.4",
      "model_name": "LayoutModel",
      "state": {
       "_model_module_version": "~2.1.4",
       "_view_module_version": "~2.1.4"
      }
     },
     "e16f5bf0a4d049cba9d1756193882217": {
      "model_module": "jupyter-js-widgets",
      "model_module_version": "~2.1.4",
      "model_name": "ButtonModel",
      "state": {
       "_model_module_version": "~2.1.4",
       "_view_module_version": "~2.1.4",
       "description": "Turn on webcamera",
       "layout": "IPY_MODEL_f6669a339987473d9b3a655f4693e666",
       "style": "IPY_MODEL_2e629274019647b6bc0dfb3e4205bebe"
      }
     },
     "e1f5bf6751ca42d8bfa39d733983ce51": {
      "model_module": "jupyter-js-widgets",
      "model_module_version": "~2.1.4",
      "model_name": "ButtonModel",
      "state": {
       "_model_module_version": "~2.1.4",
       "_view_module_version": "~2.1.4",
       "description": "Train",
       "layout": "IPY_MODEL_36ef00ffc6c24cb7861da445e12968e3",
       "style": "IPY_MODEL_f5511cc25e9246b58d36b9d54afd2be7"
      }
     },
     "e259ae339b5547a28a49724a31ebecfd": {
      "model_module": "jupyter-js-widgets",
      "model_module_version": "~2.1.4",
      "model_name": "LayoutModel",
      "state": {
       "_model_module_version": "~2.1.4",
       "_view_module_version": "~2.1.4",
       "width": "100%"
      }
     },
     "e5d54467586f44cfaee432245955fdeb": {
      "model_module": "jupyter-js-widgets",
      "model_module_version": "~2.1.4",
      "model_name": "IntSliderModel",
      "state": {
       "_model_module_version": "~2.1.4",
       "_view_module_version": "~2.1.4",
       "continuous_update": false,
       "description": "Dataset index",
       "layout": "IPY_MODEL_c2aa117dc0cb4af793bf3516731c5896",
       "max": 0,
       "style": "IPY_MODEL_b4218bc026d54082ad2756abaa541372"
      }
     },
     "e6936587e50c4724b41fcd9afdd51a36": {
      "model_module": "jupyter-js-widgets",
      "model_module_version": "~2.1.4",
      "model_name": "ButtonStyleModel",
      "state": {
       "_model_module_version": "~2.1.4",
       "_view_module_version": "~2.1.4"
      }
     },
     "e7a2face8ab9404289096b8dcfb60e6e": {
      "model_module": "jupyter-js-widgets",
      "model_module_version": "~2.1.4",
      "model_name": "LayoutModel",
      "state": {
       "_model_module_version": "~2.1.4",
       "_view_module_version": "~2.1.4",
       "width": "100%"
      }
     },
     "e8dce462f01042df82c9c36de6ead4e1": {
      "model_module": "jupyter-js-widgets",
      "model_module_version": "~2.1.4",
      "model_name": "ButtonModel",
      "state": {
       "_model_module_version": "~2.1.4",
       "_view_module_version": "~2.1.4",
       "icon": "fast-forward",
       "layout": "IPY_MODEL_b3d852ecaf9d4652b4986788622ff0ec",
       "style": "IPY_MODEL_380f0c4cb2d047919c2d79292485e097"
      }
     },
     "ee2c4d7344e64ec3ad08d9bfb1fb8e30": {
      "model_module": "jupyter-js-widgets",
      "model_module_version": "~2.1.4",
      "model_name": "LayoutModel",
      "state": {
       "_model_module_version": "~2.1.4",
       "_view_module_version": "~2.1.4"
      }
     },
     "ee53dd0b3a9c44c0a3dee7cca82b9116": {
      "model_module": "jupyter-js-widgets",
      "model_module_version": "~2.1.4",
      "model_name": "ButtonModel",
      "state": {
       "_model_module_version": "~2.1.4",
       "_view_module_version": "~2.1.4",
       "description": "Train",
       "layout": "IPY_MODEL_4abc35ec88ac435b88b227641e13a152",
       "style": "IPY_MODEL_82b137b16a79429bb05d230515f1b042"
      }
     },
     "ee7fd4ed056047638d2f2c881d269831": {
      "model_module": "jupyter-js-widgets",
      "model_module_version": "~2.1.4",
      "model_name": "LayoutModel",
      "state": {
       "_model_module_version": "~2.1.4",
       "_view_module_version": "~2.1.4"
      }
     },
     "ef9ccbce18484c2f80705c05cdee907b": {
      "model_module": "jupyter-js-widgets",
      "model_module_version": "~2.1.4",
      "model_name": "VBoxModel",
      "state": {
       "_model_module_version": "~2.1.4",
       "_view_module_version": "~2.1.4",
       "children": [
        "IPY_MODEL_4a79ebd70bf247d79b097b7850c1ae61",
        "IPY_MODEL_f419bdb965c4464fb7846026d97864cd"
       ],
       "layout": "IPY_MODEL_3492663131a1473fb5ef52af29d77e50"
      }
     },
     "efd90ef5ff674786bae54624ebfbdb14": {
      "model_module": "jupyter-js-widgets",
      "model_module_version": "~2.1.4",
      "model_name": "VBoxModel",
      "state": {
       "_model_module_version": "~2.1.4",
       "_view_module_version": "~2.1.4",
       "children": [
        "IPY_MODEL_e16f5bf0a4d049cba9d1756193882217"
       ],
       "layout": "IPY_MODEL_3a7e041806cf44eaae33f1700243e19b"
      }
     },
     "effeb696948648ed986021154b51acca": {
      "model_module": "jupyter-js-widgets",
      "model_module_version": "~2.1.4",
      "model_name": "LayoutModel",
      "state": {
       "_model_module_version": "~2.1.4",
       "_view_module_version": "~2.1.4",
       "height": "550px",
       "width": "100%"
      }
     },
     "f419bdb965c4464fb7846026d97864cd": {
      "model_module": "jupyter-js-widgets",
      "model_module_version": "~2.1.4",
      "model_name": "VBoxModel",
      "state": {
       "_model_module_version": "~2.1.4",
       "_view_module_version": "~2.1.4",
       "children": [
        "IPY_MODEL_da0e1de088dc42cabe649e71368eab60",
        "IPY_MODEL_22b5bc692c0547829f492e0fd3e87582",
        "IPY_MODEL_9a5108efaa554e89918b0eccfc800ac3"
       ],
       "layout": "IPY_MODEL_8fbf0df4681b44e38f1aa75a3078b243"
      }
     },
     "f463af5d4885435b9673b6c335b1cf2c": {
      "model_module": "jupyter-js-widgets",
      "model_module_version": "~2.1.4",
      "model_name": "ButtonStyleModel",
      "state": {
       "_model_module_version": "~2.1.4",
       "_view_module_version": "~2.1.4"
      }
     },
     "f5511cc25e9246b58d36b9d54afd2be7": {
      "model_module": "jupyter-js-widgets",
      "model_module_version": "~2.1.4",
      "model_name": "ButtonStyleModel",
      "state": {
       "_model_module_version": "~2.1.4",
       "_view_module_version": "~2.1.4"
      }
     },
     "f637f259c3f54ee98b4ae98e066dcc85": {
      "model_module": "jupyter-js-widgets",
      "model_module_version": "~2.1.4",
      "model_name": "ButtonStyleModel",
      "state": {
       "_model_module_version": "~2.1.4",
       "_view_module_version": "~2.1.4"
      }
     },
     "f6669a339987473d9b3a655f4693e666": {
      "model_module": "jupyter-js-widgets",
      "model_module_version": "~2.1.4",
      "model_name": "LayoutModel",
      "state": {
       "_model_module_version": "~2.1.4",
       "_view_module_version": "~2.1.4"
      }
     },
     "f8c82b4b1c2e4c64a5fa9f2b072e9086": {
      "model_module": "jupyter-js-widgets",
      "model_module_version": "~2.1.4",
      "model_name": "VBoxModel",
      "state": {
       "_model_module_version": "~2.1.4",
       "_view_module_version": "~2.1.4",
       "layout": "IPY_MODEL_8bf93d682b9841b3bbdc4fe1e75534bb"
      }
     },
     "f9941576a17b460b92cb2a27caf14d3b": {
      "model_module": "jupyter-js-widgets",
      "model_module_version": "~2.1.4",
      "model_name": "HBoxModel",
      "state": {
       "_model_module_version": "~2.1.4",
       "_view_module_version": "~2.1.4",
       "children": [
        "IPY_MODEL_5f02d48460f04d6fafe41c999239deeb",
        "IPY_MODEL_7bbb3831955045a3b84e39a34cdc28a5",
        "IPY_MODEL_4e9605bad4dc478fb2c6445aa8f5c78d",
        "IPY_MODEL_8c2c5ce2a8be4141aced3cd4dbf169e2",
        "IPY_MODEL_b71aab98a91c4b33a0ef75aee99ffc1f"
       ],
       "layout": "IPY_MODEL_508e7451c04b41db973c36ed9a154a08"
      }
     },
     "fa3f08f951ab448dba4d9c9d8fc370ba": {
      "model_module": "jupyter-js-widgets",
      "model_module_version": "~2.1.4",
      "model_name": "LayoutModel",
      "state": {
       "_model_module_version": "~2.1.4",
       "_view_module_version": "~2.1.4",
       "height": "550px",
       "width": "100%"
      }
     },
     "fa9d10e8d84e4d3886a387f83f20abcb": {
      "model_module": "jupyter-js-widgets",
      "model_module_version": "~2.1.4",
      "model_name": "ButtonModel",
      "state": {
       "_model_module_version": "~2.1.4",
       "_view_module_version": "~2.1.4",
       "icon": "fast-forward",
       "layout": "IPY_MODEL_332abdce63d74697a58def27b59b7494",
       "style": "IPY_MODEL_2962416218ae4c05a09ce3d677ad4ec9"
      }
     }
    },
    "version_major": 1,
    "version_minor": 0
   }
  }
 },
 "nbformat": 4,
 "nbformat_minor": 2
}
