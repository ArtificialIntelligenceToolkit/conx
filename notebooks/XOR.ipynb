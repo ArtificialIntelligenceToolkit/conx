{
 "cells": [
  {
   "cell_type": "markdown",
   "metadata": {},
   "source": [
    "# XOR Multiple Inputs/Targets\n",
    "\n",
    "Testing..."
   ]
  },
  {
   "cell_type": "code",
   "execution_count": 1,
   "metadata": {},
   "outputs": [
    {
     "name": "stderr",
     "output_type": "stream",
     "text": [
      "Using Theano backend.\n"
     ]
    }
   ],
   "source": [
    "from conx import Network, Layer, SGD"
   ]
  },
  {
   "cell_type": "code",
   "execution_count": 2,
   "metadata": {
    "collapsed": true
   },
   "outputs": [],
   "source": [
    "net = Network(\"XOR\", 2, 2, 1, activation=\"sigmoid\")\n",
    "net.connect()\n",
    "dataset = [\n",
    "    ([0, 0], [0]),\n",
    "    ([0, 1], [1]),\n",
    "    ([1, 0], [1]),\n",
    "    ([1, 1], [0])\n",
    "]"
   ]
  },
  {
   "cell_type": "code",
   "execution_count": 3,
   "metadata": {},
   "outputs": [
    {
     "name": "stdout",
     "output_type": "stream",
     "text": [
      "Split dataset into:\n",
      "   4 train inputs\n",
      "   0 test inputs\n",
      "Input Summary:\n",
      "   length  : 4\n",
      "   training: 4\n",
      "   testing : 0\n",
      "   shape  : (2,)\n",
      "   range  : (0.0, 1.0)\n",
      "Target Summary:\n",
      "   length  : 4\n",
      "   training: 4\n",
      "   testing : 0\n",
      "   shape  : (1,)\n",
      "   range  : (0.0, 1.0)\n"
     ]
    }
   ],
   "source": [
    "net.set_dataset(dataset)"
   ]
  },
  {
   "cell_type": "code",
   "execution_count": 4,
   "metadata": {},
   "outputs": [
    {
     "data": {
      "text/plain": [
       "[0.0]"
      ]
     },
     "execution_count": 4,
     "metadata": {},
     "output_type": "execute_result"
    }
   ],
   "source": [
    "net.get_target(0)"
   ]
  },
  {
   "cell_type": "code",
   "execution_count": 5,
   "metadata": {
    "collapsed": true
   },
   "outputs": [],
   "source": [
    "net.compile(loss='mean_squared_error',\n",
    "            optimizer=SGD(lr=0.3, momentum=0.9))"
   ]
  },
  {
   "cell_type": "code",
   "execution_count": 6,
   "metadata": {
    "collapsed": true
   },
   "outputs": [],
   "source": [
    "net.config[\"image_maxdim\"] = 50"
   ]
  },
  {
   "cell_type": "code",
   "execution_count": 7,
   "metadata": {},
   "outputs": [
    {
     "data": {
      "application/javascript": [
       "\n",
       "require(['base/js/namespace'], function(Jupyter) {\n",
       "    Jupyter.notebook.kernel.comm_manager.register_target('conx_svg_control', function(comm, msg) {\n",
       "        comm.on_msg(function(msg) {\n",
       "            var data = msg[\"content\"][\"data\"];\n",
       "            var images = document.getElementsByClassName(data[\"class\"]);\n",
       "            for (var i = 0; i < images.length; i++) {\n",
       "                images[i].setAttributeNS(null, \"href\", data[\"href\"]);\n",
       "            }\n",
       "        });\n",
       "    });\n",
       "});\n"
      ],
      "text/plain": [
       "<IPython.core.display.Javascript object>"
      ]
     },
     "metadata": {},
     "output_type": "display_data"
    },
    {
     "data": {
      "application/vnd.jupyter.widget-view+json": {
       "model_id": "635c1f9b1ec3460cb92d614c553f410d"
      }
     },
     "metadata": {},
     "output_type": "display_data"
    }
   ],
   "source": [
    "net.build_widget()"
   ]
  },
  {
   "cell_type": "code",
   "execution_count": 8,
   "metadata": {},
   "outputs": [
    {
     "name": "stdout",
     "output_type": "stream",
     "text": [
      "Training...\n",
      "Epoch #   25 | train error 0.24900 | train accuracy 0.50000 | validate% 0.00000\n",
      "Epoch #   50 | train error 0.24561 | train accuracy 0.50000 | validate% 0.00000\n",
      "Epoch #   75 | train error 0.23652 | train accuracy 0.75000 | validate% 0.00000\n",
      "Epoch #  100 | train error 0.21351 | train accuracy 0.75000 | validate% 0.00000\n",
      "Epoch #  125 | train error 0.18602 | train accuracy 0.75000 | validate% 0.00000\n",
      "Epoch #  150 | train error 0.16535 | train accuracy 0.75000 | validate% 0.00000\n",
      "Epoch #  175 | train error 0.15055 | train accuracy 0.75000 | validate% 0.00000\n",
      "Epoch #  200 | train error 0.14176 | train accuracy 0.75000 | validate% 0.25000\n",
      "Epoch #  225 | train error 0.13690 | train accuracy 0.75000 | validate% 0.25000\n",
      "Epoch #  250 | train error 0.13403 | train accuracy 0.75000 | validate% 0.25000\n",
      "Epoch #  275 | train error 0.13218 | train accuracy 0.75000 | validate% 0.25000\n",
      "Epoch #  300 | train error 0.13092 | train accuracy 0.75000 | validate% 0.50000\n",
      "Epoch #  325 | train error 0.13001 | train accuracy 0.75000 | validate% 0.50000\n",
      "Epoch #  350 | train error 0.12933 | train accuracy 0.75000 | validate% 0.50000\n",
      "Epoch #  375 | train error 0.12880 | train accuracy 0.75000 | validate% 0.50000\n",
      "Epoch #  400 | train error 0.12839 | train accuracy 0.50000 | validate% 0.50000\n",
      "Epoch #  425 | train error 0.12805 | train accuracy 0.50000 | validate% 0.50000\n",
      "Epoch #  450 | train error 0.12777 | train accuracy 0.50000 | validate% 0.50000\n",
      "Epoch #  475 | train error 0.12753 | train accuracy 0.50000 | validate% 0.50000\n",
      "Epoch #  500 | train error 0.12733 | train accuracy 0.50000 | validate% 0.50000\n",
      "Epoch #  525 | train error 0.12716 | train accuracy 0.50000 | validate% 0.50000\n",
      "Epoch #  550 | train error 0.12701 | train accuracy 0.50000 | validate% 0.50000\n",
      "Epoch #  575 | train error 0.12688 | train accuracy 0.50000 | validate% 0.50000\n",
      "Epoch #  600 | train error 0.12677 | train accuracy 0.50000 | validate% 0.50000\n",
      "Epoch #  625 | train error 0.12666 | train accuracy 0.50000 | validate% 0.50000\n",
      "Epoch #  650 | train error 0.12657 | train accuracy 0.50000 | validate% 0.50000\n",
      "Epoch #  675 | train error 0.12649 | train accuracy 0.50000 | validate% 0.50000\n",
      "Epoch #  700 | train error 0.12642 | train accuracy 0.50000 | validate% 0.50000\n",
      "Epoch #  725 | train error 0.12635 | train accuracy 0.50000 | validate% 0.50000\n",
      "Epoch #  750 | train error 0.12629 | train accuracy 0.50000 | validate% 0.50000\n",
      "Epoch #  775 | train error 0.12623 | train accuracy 0.50000 | validate% 0.50000\n",
      "Epoch #  800 | train error 0.12618 | train accuracy 0.50000 | validate% 0.50000\n",
      "Epoch #  825 | train error 0.12613 | train accuracy 0.50000 | validate% 0.50000\n",
      "Epoch #  850 | train error 0.12609 | train accuracy 0.50000 | validate% 0.50000\n",
      "Epoch #  875 | train error 0.12605 | train accuracy 0.50000 | validate% 0.50000\n",
      "Epoch #  900 | train error 0.12601 | train accuracy 0.50000 | validate% 0.50000\n",
      "Epoch #  925 | train error 0.12597 | train accuracy 0.50000 | validate% 0.50000\n",
      "Epoch #  950 | train error 0.12594 | train accuracy 0.50000 | validate% 0.50000\n",
      "Epoch #  975 | train error 0.12591 | train accuracy 0.50000 | validate% 0.50000\n",
      "Epoch # 1000 | train error 0.12588 | train accuracy 0.50000 | validate% 0.50000\n",
      "Epoch # 1025 | train error 0.12585 | train accuracy 0.50000 | validate% 0.50000\n",
      "Epoch # 1050 | train error 0.12583 | train accuracy 0.50000 | validate% 0.50000\n",
      "Epoch # 1075 | train error 0.12580 | train accuracy 0.50000 | validate% 0.50000\n",
      "Epoch # 1100 | train error 0.12578 | train accuracy 0.50000 | validate% 0.50000\n",
      "Epoch # 1125 | train error 0.12576 | train accuracy 0.50000 | validate% 0.50000\n",
      "Epoch # 1150 | train error 0.12574 | train accuracy 0.50000 | validate% 0.50000\n",
      "Epoch # 1175 | train error 0.12572 | train accuracy 0.50000 | validate% 0.50000\n",
      "Epoch # 1200 | train error 0.12570 | train accuracy 0.50000 | validate% 0.50000\n",
      "Epoch # 1225 | train error 0.12568 | train accuracy 0.50000 | validate% 0.50000\n",
      "Epoch # 1250 | train error 0.12567 | train accuracy 0.50000 | validate% 0.50000\n",
      "Epoch # 1275 | train error 0.12565 | train accuracy 0.50000 | validate% 0.50000\n",
      "Epoch # 1300 | train error 0.12564 | train accuracy 0.50000 | validate% 0.50000\n",
      "Epoch # 1325 | train error 0.12562 | train accuracy 0.50000 | validate% 0.50000\n",
      "Epoch # 1350 | train error 0.12561 | train accuracy 0.50000 | validate% 0.50000\n",
      "Epoch # 1375 | train error 0.12559 | train accuracy 0.50000 | validate% 0.50000\n",
      "Epoch # 1400 | train error 0.12558 | train accuracy 0.50000 | validate% 0.50000\n",
      "Epoch # 1425 | train error 0.12557 | train accuracy 0.50000 | validate% 0.50000\n",
      "Epoch # 1450 | train error 0.12556 | train accuracy 0.50000 | validate% 0.50000\n",
      "Epoch # 1475 | train error 0.12555 | train accuracy 0.50000 | validate% 0.50000\n",
      "Epoch # 1500 | train error 0.12554 | train accuracy 0.50000 | validate% 0.50000\n",
      "Epoch # 1525 | train error 0.12553 | train accuracy 0.50000 | validate% 0.50000\n",
      "Epoch # 1550 | train error 0.12552 | train accuracy 0.50000 | validate% 0.50000\n",
      "Epoch # 1575 | train error 0.12551 | train accuracy 0.50000 | validate% 0.50000\n",
      "Epoch # 1600 | train error 0.12550 | train accuracy 0.50000 | validate% 0.50000\n",
      "Epoch # 1625 | train error 0.12549 | train accuracy 0.50000 | validate% 0.50000\n",
      "Epoch # 1650 | train error 0.12548 | train accuracy 0.50000 | validate% 0.50000\n",
      "Epoch # 1675 | train error 0.12547 | train accuracy 0.50000 | validate% 0.50000\n",
      "Epoch # 1700 | train error 0.12546 | train accuracy 0.50000 | validate% 0.50000\n",
      "Epoch # 1725 | train error 0.12545 | train accuracy 0.50000 | validate% 0.50000\n",
      "Epoch # 1750 | train error 0.12545 | train accuracy 0.50000 | validate% 0.50000\n",
      "Epoch # 1775 | train error 0.12544 | train accuracy 0.50000 | validate% 0.50000\n",
      "Epoch # 1800 | train error 0.12543 | train accuracy 0.50000 | validate% 0.50000\n",
      "Epoch # 1825 | train error 0.12543 | train accuracy 0.50000 | validate% 0.50000\n",
      "Epoch # 1850 | train error 0.12542 | train accuracy 0.50000 | validate% 0.50000\n",
      "Epoch # 1875 | train error 0.12541 | train accuracy 0.50000 | validate% 0.50000\n",
      "Epoch # 1900 | train error 0.12541 | train accuracy 0.50000 | validate% 0.50000\n",
      "Epoch # 1925 | train error 0.12540 | train accuracy 0.50000 | validate% 0.50000\n",
      "Epoch # 1950 | train error 0.12539 | train accuracy 0.50000 | validate% 0.50000\n",
      "Epoch # 1975 | train error 0.12539 | train accuracy 0.50000 | validate% 0.50000\n",
      "Epoch # 2000 | train error 0.12538 | train accuracy 0.50000 | validate% 0.50000\n",
      "========================================================================\n",
      "Epoch # 2000 | train error 0.12538 | train accuracy 0.50000 | validate% 0.50000\n"
     ]
    }
   ],
   "source": [
    "net.train(epochs=2000, accuracy=1.0, report_rate=25)"
   ]
  },
  {
   "cell_type": "code",
   "execution_count": 9,
   "metadata": {},
   "outputs": [
    {
     "name": "stdout",
     "output_type": "stream",
     "text": [
      "Testing on training dataset...\n",
      "# | inputs | targets | outputs | result\n",
      "---------------------------------------\n",
      "0 | [0.0, 0.0] | [0.0] | [0.0] | correct\n",
      "1 | [0.0, 1.0] | [1.0] | [1.0] | correct\n",
      "2 | [1.0, 0.0] | [1.0] | [0.5] | X\n",
      "3 | [1.0, 1.0] | [0.0] | [0.5] | X\n",
      "Total count: 4\n",
      "Total percentage correct: 0.5\n"
     ]
    }
   ],
   "source": [
    "net.test()"
   ]
  },
  {
   "cell_type": "code",
   "execution_count": 10,
   "metadata": {},
   "outputs": [
    {
     "data": {
      "text/plain": [
       "[0.0, 1.0]"
      ]
     },
     "execution_count": 10,
     "metadata": {},
     "output_type": "execute_result"
    }
   ],
   "source": [
    "net.propagate_to(\"input\", [0, 1])"
   ]
  },
  {
   "cell_type": "code",
   "execution_count": 11,
   "metadata": {},
   "outputs": [
    {
     "data": {
      "text/plain": [
       "[0.49406493]"
      ]
     },
     "execution_count": 11,
     "metadata": {},
     "output_type": "execute_result"
    }
   ],
   "source": [
    "net.propagate([0.5, 0.5])"
   ]
  },
  {
   "cell_type": "code",
   "execution_count": 12,
   "metadata": {},
   "outputs": [
    {
     "data": {
      "text/plain": [
       "[1.7205524045493803e-06, 0.9996005892753601]"
      ]
     },
     "execution_count": 12,
     "metadata": {},
     "output_type": "execute_result"
    }
   ],
   "source": [
    "net.propagate_to(\"hidden\", [1, 0])"
   ]
  },
  {
   "cell_type": "code",
   "execution_count": 13,
   "metadata": {},
   "outputs": [
    {
     "data": {
      "text/plain": [
       "[0.5842217206954956]"
      ]
     },
     "execution_count": 13,
     "metadata": {},
     "output_type": "execute_result"
    }
   ],
   "source": [
    "net.propagate_to(\"output\", [0.25, 0.75])"
   ]
  },
  {
   "cell_type": "code",
   "execution_count": 14,
   "metadata": {},
   "outputs": [
    {
     "data": {
      "text/plain": [
       "[0.25, 0.25]"
      ]
     },
     "execution_count": 14,
     "metadata": {},
     "output_type": "execute_result"
    }
   ],
   "source": [
    "net.propagate_to(\"input\", [0.25, 0.25])"
   ]
  },
  {
   "cell_type": "code",
   "execution_count": 15,
   "metadata": {},
   "outputs": [
    {
     "data": {
      "text/plain": [
       "[0.09082365]"
      ]
     },
     "execution_count": 15,
     "metadata": {},
     "output_type": "execute_result"
    }
   ],
   "source": [
    "net.propagate_from(\"input\", [1.0, 1.0])"
   ]
  },
  {
   "cell_type": "code",
   "execution_count": 16,
   "metadata": {},
   "outputs": [
    {
     "data": {
      "text/plain": [
       "[0.20438476]"
      ]
     },
     "execution_count": 16,
     "metadata": {},
     "output_type": "execute_result"
    }
   ],
   "source": [
    "net.propagate_from(\"hidden\", [1.0, 0.0])"
   ]
  },
  {
   "cell_type": "code",
   "execution_count": 17,
   "metadata": {},
   "outputs": [
    {
     "name": "stdout",
     "output_type": "stream",
     "text": [
      "Testing on training dataset...\n",
      "# | inputs | targets | outputs | result\n",
      "---------------------------------------\n",
      "0 | [0.0, 0.0] | [0.0] | [0.0] | correct\n",
      "1 | [0.0, 1.0] | [1.0] | [1.0] | correct\n",
      "2 | [1.0, 0.0] | [1.0] | [0.5] | X\n",
      "3 | [1.0, 1.0] | [0.0] | [0.5] | X\n",
      "Total count: 4\n",
      "Total percentage correct: 0.5\n"
     ]
    }
   ],
   "source": [
    "net.test()"
   ]
  },
  {
   "cell_type": "code",
   "execution_count": 18,
   "metadata": {
    "collapsed": true
   },
   "outputs": [],
   "source": [
    "from conx import Network, Layer, SGD"
   ]
  },
  {
   "cell_type": "code",
   "execution_count": 19,
   "metadata": {
    "collapsed": true
   },
   "outputs": [],
   "source": [
    "net = Network(\"XOR2\")\n",
    "net.add(Layer(\"input1\", shape=1))\n",
    "net.add(Layer(\"input2\", shape=1))\n",
    "net.add(Layer(\"hidden1\", shape=10, activation=\"sigmoid\"))\n",
    "net.add(Layer(\"hidden2\", shape=10, activation=\"sigmoid\"))\n",
    "net.add(Layer(\"shared-hidden\", shape=5, activation=\"sigmoid\"))\n",
    "net.add(Layer(\"output1\", shape=1, activation=\"sigmoid\"))\n",
    "net.add(Layer(\"output2\", shape=1, activation=\"sigmoid\"))"
   ]
  },
  {
   "cell_type": "code",
   "execution_count": 20,
   "metadata": {},
   "outputs": [
    {
     "data": {
      "text/plain": [
       "<Network name='XOR2'>"
      ]
     },
     "execution_count": 20,
     "metadata": {},
     "output_type": "execute_result"
    }
   ],
   "source": [
    "net"
   ]
  },
  {
   "cell_type": "code",
   "execution_count": 21,
   "metadata": {
    "collapsed": true
   },
   "outputs": [],
   "source": [
    "net.connect(\"input1\", \"hidden1\")\n",
    "net.connect(\"input2\", \"hidden2\")\n",
    "net.connect(\"hidden1\", \"shared-hidden\")\n",
    "net.connect(\"hidden2\", \"shared-hidden\")\n",
    "net.connect(\"shared-hidden\", \"output1\")\n",
    "net.connect(\"shared-hidden\", \"output2\")"
   ]
  },
  {
   "cell_type": "code",
   "execution_count": 22,
   "metadata": {
    "collapsed": true
   },
   "outputs": [],
   "source": [
    "net.set_input_layer_order(\"input1\", \"input2\")\n",
    "net.set_output_layer_order(\"output1\", \"output2\")"
   ]
  },
  {
   "cell_type": "code",
   "execution_count": 23,
   "metadata": {
    "collapsed": true
   },
   "outputs": [],
   "source": [
    "net.compile(loss='mean_squared_error',\n",
    "            optimizer=SGD(lr=0.3, momentum=0.9))"
   ]
  },
  {
   "cell_type": "code",
   "execution_count": 24,
   "metadata": {
    "collapsed": true
   },
   "outputs": [],
   "source": [
    "dataset = [\n",
    "    ([[0],[0]], [[0],[0]]),\n",
    "    ([[0],[1]], [[1],[1]]),\n",
    "    ([[1],[0]], [[1],[1]]),\n",
    "    ([[1],[1]], [[0],[0]])\n",
    "]"
   ]
  },
  {
   "cell_type": "code",
   "execution_count": 25,
   "metadata": {},
   "outputs": [
    {
     "name": "stdout",
     "output_type": "stream",
     "text": [
      "Split dataset into:\n",
      "   4 train inputs\n",
      "   0 test inputs\n",
      "Input Summary:\n",
      "   length  : 4\n",
      "   training: 4\n",
      "   testing : 0\n",
      "   shape  : [(1,), (1,)]\n",
      "   range  : (0.0, 1.0)\n",
      "Target Summary:\n",
      "   length  : 4\n",
      "   training: 4\n",
      "   testing : 0\n",
      "   shape  : [(1,), (1,)]\n",
      "   range  : (0.0, 1.0)\n"
     ]
    }
   ],
   "source": [
    "net.set_dataset(dataset)"
   ]
  },
  {
   "cell_type": "code",
   "execution_count": 26,
   "metadata": {
    "collapsed": true
   },
   "outputs": [],
   "source": [
    "net.config[\"image_maxdim\"] = 50"
   ]
  },
  {
   "cell_type": "code",
   "execution_count": 27,
   "metadata": {},
   "outputs": [
    {
     "data": {
      "application/javascript": [
       "\n",
       "require(['base/js/namespace'], function(Jupyter) {\n",
       "    Jupyter.notebook.kernel.comm_manager.register_target('conx_svg_control', function(comm, msg) {\n",
       "        comm.on_msg(function(msg) {\n",
       "            var data = msg[\"content\"][\"data\"];\n",
       "            var images = document.getElementsByClassName(data[\"class\"]);\n",
       "            for (var i = 0; i < images.length; i++) {\n",
       "                images[i].setAttributeNS(null, \"href\", data[\"href\"]);\n",
       "            }\n",
       "        });\n",
       "    });\n",
       "});\n"
      ],
      "text/plain": [
       "<IPython.core.display.Javascript object>"
      ]
     },
     "metadata": {},
     "output_type": "display_data"
    },
    {
     "data": {
      "application/vnd.jupyter.widget-view+json": {
       "model_id": "99f0a7ed14f5470795d9f25cbaf02f35"
      }
     },
     "metadata": {},
     "output_type": "display_data"
    }
   ],
   "source": [
    "net.build_widget()"
   ]
  },
  {
   "cell_type": "code",
   "execution_count": 28,
   "metadata": {},
   "outputs": [
    {
     "data": {
      "text/plain": [
       "[[0.1808321], [0.32534063]]"
      ]
     },
     "execution_count": 28,
     "metadata": {},
     "output_type": "execute_result"
    }
   ],
   "source": [
    "net[\"shared-hidden\"].colormap = \"spring\"\n",
    "net.propagate_from(\"hidden1\", [0.0, 1.0] * 5)"
   ]
  },
  {
   "cell_type": "code",
   "execution_count": 29,
   "metadata": {},
   "outputs": [
    {
     "data": {
      "text/plain": [
       "[0.85932547, 0.35847661, 0.51842779, 0.75149286, 0.6427176]"
      ]
     },
     "execution_count": 29,
     "metadata": {},
     "output_type": "execute_result"
    }
   ],
   "source": [
    "net[\"shared-hidden\"].colormap = \"hot\"\n",
    "net.propagate_from(\"hidden1\", [1.0, 1.0] * 5, [\"shared-hidden\"])"
   ]
  },
  {
   "cell_type": "code",
   "execution_count": 30,
   "metadata": {},
   "outputs": [
    {
     "data": {
      "text/plain": [
       "[0.45319664478302]"
      ]
     },
     "execution_count": 30,
     "metadata": {},
     "output_type": "execute_result"
    }
   ],
   "source": [
    "net.propagate_to(\"output1\", [[1], [0]])"
   ]
  },
  {
   "cell_type": "code",
   "execution_count": 31,
   "metadata": {
    "collapsed": true
   },
   "outputs": [],
   "source": [
    "for i in range(20):\n",
    "    (epoch_count, loss, acc, val_acc) = net.train(epochs=100, verbose=0)\n",
    "    for index in range(4):\n",
    "        net.propagate(dataset[index][0])"
   ]
  },
  {
   "cell_type": "code",
   "execution_count": 32,
   "metadata": {},
   "outputs": [
    {
     "name": "stdout",
     "output_type": "stream",
     "text": [
      "Training...\n",
      "========================================================================\n",
      "Epoch # 2001 | train error 0.00114 | train accuracy 2.00000 | validate% 1.00000\n"
     ]
    }
   ],
   "source": [
    "net.train(epochs=2000, accuracy=1.0, report_rate=25)"
   ]
  },
  {
   "cell_type": "code",
   "execution_count": 33,
   "metadata": {},
   "outputs": [
    {
     "data": {
      "text/plain": [
       "[[0.5], [0.5]]"
      ]
     },
     "execution_count": 33,
     "metadata": {},
     "output_type": "execute_result"
    }
   ],
   "source": [
    "net.propagate_from(\"input1\", [0.0])"
   ]
  },
  {
   "cell_type": "code",
   "execution_count": 34,
   "metadata": {},
   "outputs": [
    {
     "data": {
      "text/plain": [
       "[[0.5], [0.5]]"
      ]
     },
     "execution_count": 34,
     "metadata": {},
     "output_type": "execute_result"
    }
   ],
   "source": [
    "net.propagate_from(\"shared-hidden\", [0.0] * 5)"
   ]
  },
  {
   "cell_type": "code",
   "execution_count": 35,
   "metadata": {},
   "outputs": [
    {
     "data": {
      "text/plain": [
       "[0.32855331897735596,\n",
       " 0.6192255020141602,\n",
       " 0.15161699056625366,\n",
       " 0.8553997874259949,\n",
       " 0.11314775794744492,\n",
       " 0.12166258692741394,\n",
       " 0.3235674202442169,\n",
       " 0.6396310925483704,\n",
       " 0.5521418452262878,\n",
       " 0.800910472869873]"
      ]
     },
     "execution_count": 35,
     "metadata": {},
     "output_type": "execute_result"
    }
   ],
   "source": [
    "net.propagate_to(\"hidden1\", [[1], [1]])"
   ]
  },
  {
   "cell_type": "code",
   "execution_count": 36,
   "metadata": {},
   "outputs": [
    {
     "name": "stdout",
     "output_type": "stream",
     "text": [
      "Testing on training dataset...\n",
      "# | inputs | targets | outputs | result\n",
      "---------------------------------------\n",
      "0 | [[0.0], [0.0]] | [ 0.  0.] | [ 0.02949943  0.02904688] | correct\n",
      "1 | [[0.0], [1.0]] | [ 1.  1.] | [ 0.97785783  0.97612906] | correct\n",
      "2 | [[1.0], [0.0]] | [ 1.  1.] | [ 0.97622639  0.9782697 ] | correct\n",
      "3 | [[1.0], [1.0]] | [ 0.  0.] | [ 0.01947872  0.01945316] | correct\n",
      "Total count: 4\n",
      "Total percentage correct: 1.0\n"
     ]
    }
   ],
   "source": [
    "net.test()"
   ]
  },
  {
   "cell_type": "code",
   "execution_count": 37,
   "metadata": {},
   "outputs": [
    {
     "name": "stdout",
     "output_type": "stream",
     "text": [
      "Slicing dataset 0:2...\n",
      "Input Summary:\n",
      "   length  : 2\n",
      "   training: 2\n",
      "   testing : 0\n",
      "   shape  : [(1,), (1,)]\n",
      "   range  : (0.0, 1.0)\n",
      "Target Summary:\n",
      "   length  : 2\n",
      "   training: 2\n",
      "   testing : 0\n",
      "   shape  : [(1,), (1,)]\n",
      "   range  : (0.0, 1.0)\n"
     ]
    }
   ],
   "source": [
    "net.slice_dataset(2)"
   ]
  },
  {
   "cell_type": "code",
   "execution_count": 38,
   "metadata": {},
   "outputs": [
    {
     "name": "stdout",
     "output_type": "stream",
     "text": [
      "Training...\n",
      "========================================================================\n",
      "Epoch # 2002 | train error 0.00139 | train accuracy 2.00000 | validate% 1.00000\n"
     ]
    }
   ],
   "source": [
    "net.train(epochs=2000, accuracy=1.0, report_rate=25)"
   ]
  },
  {
   "cell_type": "markdown",
   "metadata": {},
   "source": [
    "# Conx model is a Keras Model"
   ]
  },
  {
   "cell_type": "code",
   "execution_count": 39,
   "metadata": {
    "collapsed": true
   },
   "outputs": [],
   "source": [
    "from keras.utils.vis_utils import model_to_dot\n",
    "from IPython.display import HTML"
   ]
  },
  {
   "cell_type": "code",
   "execution_count": 40,
   "metadata": {
    "collapsed": true
   },
   "outputs": [],
   "source": [
    "dot = model_to_dot(net.model, rankdir=\"BT\")"
   ]
  },
  {
   "cell_type": "code",
   "execution_count": 41,
   "metadata": {},
   "outputs": [
    {
     "data": {
      "text/html": [
       "<?xml version=\"1.0\" encoding=\"UTF-8\" standalone=\"no\"?>\n",
       "<!DOCTYPE svg PUBLIC \"-//W3C//DTD SVG 1.1//EN\"\n",
       " \"http://www.w3.org/Graphics/SVG/1.1/DTD/svg11.dtd\">\n",
       "<!-- Generated by graphviz version 2.38.0 (20140413.2041)\n",
       " -->\n",
       "<!-- Title: G Pages: 1 -->\n",
       "<svg width=\"264pt\" height=\"337pt\"\n",
       " viewBox=\"0.00 0.00 264.00 337.00\" xmlns=\"http://www.w3.org/2000/svg\" xmlns:xlink=\"http://www.w3.org/1999/xlink\">\n",
       "<g id=\"graph0\" class=\"graph\" transform=\"scale(1 1) rotate(0) translate(4 333)\">\n",
       "<title>G</title>\n",
       "<polygon fill=\"white\" stroke=\"none\" points=\"-4,4 -4,-333 260,-333 260,4 -4,4\"/>\n",
       "<!-- 140426883385328 -->\n",
       "<g id=\"node1\" class=\"node\"><title>140426883385328</title>\n",
       "<polygon fill=\"none\" stroke=\"black\" points=\"0,-0.5 0,-36.5 119,-36.5 119,-0.5 0,-0.5\"/>\n",
       "<text text-anchor=\"middle\" x=\"59.5\" y=\"-14.8\" font-family=\"Times,serif\" font-size=\"14.00\">input1: InputLayer</text>\n",
       "</g>\n",
       "<!-- 140426883385160 -->\n",
       "<g id=\"node3\" class=\"node\"><title>140426883385160</title>\n",
       "<polygon fill=\"none\" stroke=\"black\" points=\"13,-73.5 13,-109.5 114,-109.5 114,-73.5 13,-73.5\"/>\n",
       "<text text-anchor=\"middle\" x=\"63.5\" y=\"-87.8\" font-family=\"Times,serif\" font-size=\"14.00\">hidden1: Dense</text>\n",
       "</g>\n",
       "<!-- 140426883385328&#45;&gt;140426883385160 -->\n",
       "<g id=\"edge1\" class=\"edge\"><title>140426883385328&#45;&gt;140426883385160</title>\n",
       "<path fill=\"none\" stroke=\"black\" d=\"M60.4683,-36.6871C60.9203,-44.7105 61.4692,-54.4525 61.975,-63.4309\"/>\n",
       "<polygon fill=\"black\" stroke=\"black\" points=\"58.4836,-63.6839 62.5406,-73.4712 65.4725,-63.2901 58.4836,-63.6839\"/>\n",
       "</g>\n",
       "<!-- 140426883351608 -->\n",
       "<g id=\"node2\" class=\"node\"><title>140426883351608</title>\n",
       "<polygon fill=\"none\" stroke=\"black\" points=\"137,-0.5 137,-36.5 256,-36.5 256,-0.5 137,-0.5\"/>\n",
       "<text text-anchor=\"middle\" x=\"196.5\" y=\"-14.8\" font-family=\"Times,serif\" font-size=\"14.00\">input2: InputLayer</text>\n",
       "</g>\n",
       "<!-- 140426883351496 -->\n",
       "<g id=\"node4\" class=\"node\"><title>140426883351496</title>\n",
       "<polygon fill=\"none\" stroke=\"black\" points=\"141,-73.5 141,-109.5 242,-109.5 242,-73.5 141,-73.5\"/>\n",
       "<text text-anchor=\"middle\" x=\"191.5\" y=\"-87.8\" font-family=\"Times,serif\" font-size=\"14.00\">hidden2: Dense</text>\n",
       "</g>\n",
       "<!-- 140426883351608&#45;&gt;140426883351496 -->\n",
       "<g id=\"edge2\" class=\"edge\"><title>140426883351608&#45;&gt;140426883351496</title>\n",
       "<path fill=\"none\" stroke=\"black\" d=\"M195.29,-36.6871C194.725,-44.7105 194.039,-54.4525 193.406,-63.4309\"/>\n",
       "<polygon fill=\"black\" stroke=\"black\" points=\"189.91,-63.25 192.699,-73.4712 196.893,-63.7418 189.91,-63.25\"/>\n",
       "</g>\n",
       "<!-- 140426880660536 -->\n",
       "<g id=\"node5\" class=\"node\"><title>140426880660536</title>\n",
       "<polygon fill=\"none\" stroke=\"black\" points=\"43.5,-146.5 43.5,-182.5 211.5,-182.5 211.5,-146.5 43.5,-146.5\"/>\n",
       "<text text-anchor=\"middle\" x=\"127.5\" y=\"-160.8\" font-family=\"Times,serif\" font-size=\"14.00\">concatenate_3: Concatenate</text>\n",
       "</g>\n",
       "<!-- 140426883385160&#45;&gt;140426880660536 -->\n",
       "<g id=\"edge3\" class=\"edge\"><title>140426883385160&#45;&gt;140426880660536</title>\n",
       "<path fill=\"none\" stroke=\"black\" d=\"M78.9926,-109.687C86.9325,-118.495 96.7394,-129.375 105.453,-139.042\"/>\n",
       "<polygon fill=\"black\" stroke=\"black\" points=\"102.855,-141.387 112.15,-146.471 108.054,-136.7 102.855,-141.387\"/>\n",
       "</g>\n",
       "<!-- 140426883351496&#45;&gt;140426880660536 -->\n",
       "<g id=\"edge4\" class=\"edge\"><title>140426883351496&#45;&gt;140426880660536</title>\n",
       "<path fill=\"none\" stroke=\"black\" d=\"M176.007,-109.687C168.068,-118.495 158.261,-129.375 149.547,-139.042\"/>\n",
       "<polygon fill=\"black\" stroke=\"black\" points=\"146.946,-136.7 142.85,-146.471 152.145,-141.387 146.946,-136.7\"/>\n",
       "</g>\n",
       "<!-- 140426883383480 -->\n",
       "<g id=\"node6\" class=\"node\"><title>140426883383480</title>\n",
       "<polygon fill=\"none\" stroke=\"black\" points=\"60.5,-219.5 60.5,-255.5 194.5,-255.5 194.5,-219.5 60.5,-219.5\"/>\n",
       "<text text-anchor=\"middle\" x=\"127.5\" y=\"-233.8\" font-family=\"Times,serif\" font-size=\"14.00\">shared&#45;hidden: Dense</text>\n",
       "</g>\n",
       "<!-- 140426880660536&#45;&gt;140426883383480 -->\n",
       "<g id=\"edge5\" class=\"edge\"><title>140426880660536&#45;&gt;140426883383480</title>\n",
       "<path fill=\"none\" stroke=\"black\" d=\"M127.5,-182.687C127.5,-190.711 127.5,-200.453 127.5,-209.431\"/>\n",
       "<polygon fill=\"black\" stroke=\"black\" points=\"124,-209.471 127.5,-219.471 131,-209.471 124,-209.471\"/>\n",
       "</g>\n",
       "<!-- 140426883032960 -->\n",
       "<g id=\"node7\" class=\"node\"><title>140426883032960</title>\n",
       "<polygon fill=\"none\" stroke=\"black\" points=\"20,-292.5 20,-328.5 119,-328.5 119,-292.5 20,-292.5\"/>\n",
       "<text text-anchor=\"middle\" x=\"69.5\" y=\"-306.8\" font-family=\"Times,serif\" font-size=\"14.00\">output1: Dense</text>\n",
       "</g>\n",
       "<!-- 140426883383480&#45;&gt;140426883032960 -->\n",
       "<g id=\"edge6\" class=\"edge\"><title>140426883383480&#45;&gt;140426883032960</title>\n",
       "<path fill=\"none\" stroke=\"black\" d=\"M113.46,-255.687C106.407,-264.321 97.7281,-274.945 89.9504,-284.466\"/>\n",
       "<polygon fill=\"black\" stroke=\"black\" points=\"87.0268,-282.512 83.4109,-292.471 92.4479,-286.941 87.0268,-282.512\"/>\n",
       "</g>\n",
       "<!-- 140426880661040 -->\n",
       "<g id=\"node8\" class=\"node\"><title>140426880661040</title>\n",
       "<polygon fill=\"none\" stroke=\"black\" points=\"137,-292.5 137,-328.5 236,-328.5 236,-292.5 137,-292.5\"/>\n",
       "<text text-anchor=\"middle\" x=\"186.5\" y=\"-306.8\" font-family=\"Times,serif\" font-size=\"14.00\">output2: Dense</text>\n",
       "</g>\n",
       "<!-- 140426883383480&#45;&gt;140426880661040 -->\n",
       "<g id=\"edge7\" class=\"edge\"><title>140426883383480&#45;&gt;140426880661040</title>\n",
       "<path fill=\"none\" stroke=\"black\" d=\"M141.782,-255.687C149.029,-264.408 157.964,-275.16 165.936,-284.754\"/>\n",
       "<polygon fill=\"black\" stroke=\"black\" points=\"163.266,-287.017 172.349,-292.471 168.65,-282.543 163.266,-287.017\"/>\n",
       "</g>\n",
       "</g>\n",
       "</svg>\n"
      ],
      "text/plain": [
       "<IPython.core.display.HTML object>"
      ]
     },
     "execution_count": 41,
     "metadata": {},
     "output_type": "execute_result"
    }
   ],
   "source": [
    "HTML(dot.create_svg().decode())"
   ]
  },
  {
   "cell_type": "code",
   "execution_count": null,
   "metadata": {
    "collapsed": true
   },
   "outputs": [],
   "source": []
  }
 ],
 "metadata": {
  "kernelspec": {
   "display_name": "Python 3",
   "language": "python",
   "name": "python3"
  },
  "language_info": {
   "codemirror_mode": {
    "name": "ipython",
    "version": 3
   },
   "file_extension": ".py",
   "mimetype": "text/x-python",
   "name": "python",
   "nbconvert_exporter": "python",
   "pygments_lexer": "ipython3",
   "version": "3.5.3"
  },
  "widgets": {
   "application/vnd.jupyter.widget-state+json": {
    "state": {
     "02d0d6d968674426b100da6e7f990002": {
      "model_module": "jupyter-js-widgets",
      "model_module_version": "~2.1.4",
      "model_name": "LayoutModel",
      "state": {
       "_model_module_version": "~2.1.4",
       "_view_module_version": "~2.1.4",
       "width": "100%"
      }
     },
     "03f3d3928d61479195a206b2e4b96b29": {
      "model_module": "jupyter-js-widgets",
      "model_module_version": "~2.1.4",
      "model_name": "ButtonModel",
      "state": {
       "_model_module_version": "~2.1.4",
       "_view_module_version": "~2.1.4",
       "icon": "fast-forward",
       "layout": "IPY_MODEL_6055fbf27586420c8c270345dccc4829",
       "style": "IPY_MODEL_7e84fbfd91ed44fb8c9a5d0976350fe2"
      }
     },
     "048468276ffd41ae96dc79edc798b2cb": {
      "model_module": "jupyter-js-widgets",
      "model_module_version": "~2.1.4",
      "model_name": "HTMLModel",
      "state": {
       "_model_module_version": "~2.1.4",
       "_view_module_version": "~2.1.4",
       "layout": "IPY_MODEL_92f63ccefa474a2ab71cabd5544f20d2",
       "value": "\n        <svg id='XOR2' xmlns='http://www.w3.org/2000/svg' width=\"400\" height=\"415\" image-rendering=\"pixelated\">\n    <defs>\n        <marker id=\"arrow\" markerWidth=\"10\" markerHeight=\"10\" refX=\"9\" refY=\"3\" orient=\"auto\" markerUnits=\"strokeWidth\">\n          <path d=\"M0,0 L0,6 L9,3 z\" fill=\"blue\" />\n        </marker>\n    </defs>\n<rect x=\"99.0\" y=\"24\" width=\"52\" height=\"52\" style=\"fill:none;stroke:blue;stroke-width:2\"/><image id=\"XOR2_output1_targets_1\" class=\"XOR2_output1_targets\" x=\"100.0\" y=\"25\" height=\"50\" width=\"50\" href=\"data:image/gif;base64,R0lGODdhAQABAIAAAHV1dQAAACwAAAAAAQABAAAIBQABrAsIADs=\"><title>Layer: output1 (output)\n shape = (1,)\n Keras class = Dense\n activation = sigmoid</title></image><text x=\"155.0\" y=\"52.0\" font-family=\"monospace\" font-size=\"12\">targets</text><rect x=\"249.0\" y=\"24\" width=\"52\" height=\"52\" style=\"fill:none;stroke:blue;stroke-width:2\"/><image id=\"XOR2_output2_targets_1\" class=\"XOR2_output2_targets\" x=\"250.0\" y=\"25\" height=\"50\" width=\"50\" href=\"data:image/gif;base64,R0lGODdhAQABAIAAALS0tAAAACwAAAAAAQABAAAIBQABrAsIADs=\"><title>Layer: output2 (output)\n shape = (1,)\n Keras class = Dense\n activation = sigmoid</title></image><text x=\"305.0\" y=\"52.0\" font-family=\"monospace\" font-size=\"12\">targets</text><rect x=\"99.0\" y=\"84\" width=\"52\" height=\"52\" style=\"fill:none;stroke:blue;stroke-width:2\"/><image id=\"XOR2_output1_errors_1\" class=\"XOR2_output1_errors\" x=\"100.0\" y=\"85\" height=\"50\" width=\"50\" href=\"data:image/gif;base64,R0lGODdhAQABAIAAAHV1dQAAACwAAAAAAQABAAAIBQABrAsIADs=\"><title>Layer: output1 (output)\n shape = (1,)\n Keras class = Dense\n activation = sigmoid</title></image><text x=\"155.0\" y=\"112.0\" font-family=\"monospace\" font-size=\"12\">errors</text><rect x=\"249.0\" y=\"84\" width=\"52\" height=\"52\" style=\"fill:none;stroke:blue;stroke-width:2\"/><image id=\"XOR2_output2_errors_1\" class=\"XOR2_output2_errors\" x=\"250.0\" y=\"85\" height=\"50\" width=\"50\" href=\"data:image/gif;base64,R0lGODdhAQABAIAAALS0tAAAACwAAAAAAQABAAAIBQABrAsIADs=\"><title>Layer: output2 (output)\n shape = (1,)\n Keras class = Dense\n activation = sigmoid</title></image><text x=\"305.0\" y=\"112.0\" font-family=\"monospace\" font-size=\"12\">errors</text><rect x=\"99.0\" y=\"149\" width=\"52\" height=\"52\" style=\"fill:none;stroke:blue;stroke-width:2\"/><image id=\"XOR2_output1_1\" class=\"XOR2_output1\" x=\"100.0\" y=\"150\" height=\"50\" width=\"50\" href=\"data:image/gif;base64,R0lGODdhAQABAIAAAHV1dQAAACwAAAAAAQABAAAIBQABrAsIADs=\"><title>Layer: output1 (output)\n shape = (1,)\n Keras class = Dense\n activation = sigmoid</title></image><text x=\"155.0\" y=\"177.0\" font-family=\"monospace\" font-size=\"12\">output1</text><rect x=\"249.0\" y=\"149\" width=\"52\" height=\"52\" style=\"fill:none;stroke:blue;stroke-width:2\"/><image id=\"XOR2_output2_2\" class=\"XOR2_output2\" x=\"250.0\" y=\"150\" height=\"50\" width=\"50\" href=\"data:image/gif;base64,R0lGODdhAQABAIAAALS0tAAAACwAAAAAAQABAAAIBQABrAsIADs=\"><title>Layer: output2 (output)\n shape = (1,)\n Keras class = Dense\n activation = sigmoid</title></image><text x=\"305.0\" y=\"177.0\" font-family=\"monospace\" font-size=\"12\">output2</text><rect x=\"125.0\" y=\"202\" width=\"75.0\" height=\"27\" style=\"fill:white;stroke:none\"><title>Weights from shared-hidden to output1\n output1/kernel has shape (5, 1)\n output1/bias has shape (1,)</title></rect><rect x=\"200.0\" y=\"202\" width=\"75.0\" height=\"27\" style=\"fill:white;stroke:none\"><title>Weights from shared-hidden to output2\n output2/kernel has shape (5, 1)\n output2/bias has shape (1,)</title></rect><line x1=\"200.0\" y1=\"229\" x2=\"125.0\" y2=\"202\" stroke=\"blue\" stroke-width=\"2\" marker-end=\"url(#arrow)\"><title>Weights from shared-hidden to output1\n output1/kernel has shape (5, 1)\n output1/bias has shape (1,)</title></line><line x1=\"200.0\" y1=\"229\" x2=\"275.0\" y2=\"202\" stroke=\"blue\" stroke-width=\"2\" marker-end=\"url(#arrow)\"><title>Weights from shared-hidden to output2\n output2/kernel has shape (5, 1)\n output2/bias has shape (1,)</title></line><rect x=\"174.0\" y=\"229\" width=\"52\" height=\"27\" style=\"fill:none;stroke:blue;stroke-width:2\"/><image id=\"XOR2_shared-hidden_3\" class=\"XOR2_shared-hidden\" x=\"175.0\" y=\"230\" height=\"25\" width=\"50\" href=\"data:image/gif;base64,R0lGODdhBQABAIIAAF1dXV5eXoeHh42NjbW1tQAAAAAAAAAAACwAAAAABQABAAAICAADCABAYEBAADs=\"><title>Layer: shared-hidden (hidden)\n shape = (5,)\n Keras class = Dense\n activation = sigmoid</title></image><text x=\"230.0\" y=\"244.5\" font-family=\"monospace\" font-size=\"12\">shared-hidden</text><rect x=\"125.0\" y=\"257\" width=\"75.0\" height=\"27\" style=\"fill:white;stroke:none\"><title>Weights from hidden1 to shared-hidden\n shared-hidden/kernel has shape (20, 5)\n shared-hidden/bias has shape (5,)</title></rect><line x1=\"125.0\" y1=\"284\" x2=\"200.0\" y2=\"257\" stroke=\"blue\" stroke-width=\"2\" marker-end=\"url(#arrow)\"><title>Weights from hidden1 to shared-hidden\n shared-hidden/kernel has shape (20, 5)\n shared-hidden/bias has shape (5,)</title></line><rect x=\"99.0\" y=\"284\" width=\"52\" height=\"27\" style=\"fill:none;stroke:blue;stroke-width:2\"/><image id=\"XOR2_hidden1_4\" class=\"XOR2_hidden1\" x=\"100.0\" y=\"285\" height=\"25\" width=\"50\" href=\"data:image/gif;base64,R0lGODdhCgABAIAAAH9/fwAAACwAAAAACgABAAAIBwABCBxIMCAAOw==\"><title>Layer: hidden1 (hidden)\n shape = (10,)\n Keras class = Dense\n activation = sigmoid</title></image><text x=\"155.0\" y=\"299.5\" font-family=\"monospace\" font-size=\"12\">hidden1</text><rect x=\"200.0\" y=\"257\" width=\"75.0\" height=\"27\" style=\"fill:white;stroke:none\"><title>Weights from hidden2 to shared-hidden\n shared-hidden/kernel has shape (20, 5)\n shared-hidden/bias has shape (5,)</title></rect><line x1=\"275.0\" y1=\"284\" x2=\"200.0\" y2=\"257\" stroke=\"blue\" stroke-width=\"2\" marker-end=\"url(#arrow)\"><title>Weights from hidden2 to shared-hidden\n shared-hidden/kernel has shape (20, 5)\n shared-hidden/bias has shape (5,)</title></line><rect x=\"249.0\" y=\"284\" width=\"52\" height=\"27\" style=\"fill:none;stroke:blue;stroke-width:2\"/><image id=\"XOR2_hidden2_5\" class=\"XOR2_hidden2\" x=\"250.0\" y=\"285\" height=\"25\" width=\"50\" href=\"data:image/gif;base64,R0lGODdhCgABAIAAAH9/fwAAACwAAAAACgABAAAIBwABCBxIMCAAOw==\"><title>Layer: hidden2 (hidden)\n shape = (10,)\n Keras class = Dense\n activation = sigmoid</title></image><text x=\"305.0\" y=\"299.5\" font-family=\"monospace\" font-size=\"12\">hidden2</text><rect x=\"115.0\" y=\"312\" width=\"20.0\" height=\"27\" style=\"fill:white;stroke:none\"><title>Weights from input1 to hidden1\n hidden1/kernel has shape (1, 10)\n hidden1/bias has shape (10,)</title></rect><line x1=\"125.0\" y1=\"339\" x2=\"125.0\" y2=\"312\" stroke=\"blue\" stroke-width=\"2\" marker-end=\"url(#arrow)\"><title>Weights from input1 to hidden1\n hidden1/kernel has shape (1, 10)\n hidden1/bias has shape (10,)</title></line><rect x=\"99.0\" y=\"339\" width=\"52\" height=\"52\" style=\"fill:none;stroke:blue;stroke-width:2\"/><image id=\"XOR2_input1_6\" class=\"XOR2_input1\" x=\"100.0\" y=\"340\" height=\"50\" width=\"50\" href=\"data:image/gif;base64,R0lGODdhAQABAIAAAH9/fwAAACwAAAAAAQABAAAIBQABrAsIADs=\"><title>Layer: input1 (input)\n shape = (1,)\n Keras class = Input</title></image><text x=\"155.0\" y=\"367.0\" font-family=\"monospace\" font-size=\"12\">input1</text><rect x=\"265.0\" y=\"312\" width=\"20.0\" height=\"27\" style=\"fill:white;stroke:none\"><title>Weights from input2 to hidden2\n hidden2/kernel has shape (1, 10)\n hidden2/bias has shape (10,)</title></rect><line x1=\"275.0\" y1=\"339\" x2=\"275.0\" y2=\"312\" stroke=\"blue\" stroke-width=\"2\" marker-end=\"url(#arrow)\"><title>Weights from input2 to hidden2\n hidden2/kernel has shape (1, 10)\n hidden2/bias has shape (10,)</title></line><rect x=\"249.0\" y=\"339\" width=\"52\" height=\"52\" style=\"fill:none;stroke:blue;stroke-width:2\"/><image id=\"XOR2_input2_7\" class=\"XOR2_input2\" x=\"250.0\" y=\"340\" height=\"50\" width=\"50\" href=\"data:image/gif;base64,R0lGODdhAQABAIAAAH9/fwAAACwAAAAAAQABAAAIBQABrAsIADs=\"><title>Layer: input2 (input)\n shape = (1,)\n Keras class = Input</title></image><text x=\"305.0\" y=\"367.0\" font-family=\"monospace\" font-size=\"12\">input2</text></svg>"
      }
     },
     "04b6b6497f824a8dbb6f59d892a4adf5": {
      "model_module": "jupyter-js-widgets",
      "model_module_version": "~2.1.4",
      "model_name": "ButtonModel",
      "state": {
       "_model_module_version": "~2.1.4",
       "_view_module_version": "~2.1.4",
       "icon": "fast-forward",
       "layout": "IPY_MODEL_ac85776da7df4458ac3067b267ae5d8d",
       "style": "IPY_MODEL_cd8bdbb4934846d9b51f7e3622d9116b"
      }
     },
     "097cc013e8f9466bbc0c9c8cf8870257": {
      "model_module": "jupyter-js-widgets",
      "model_module_version": "~2.1.4",
      "model_name": "ButtonModel",
      "state": {
       "_model_module_version": "~2.1.4",
       "_view_module_version": "~2.1.4",
       "description": "Train",
       "layout": "IPY_MODEL_68bc5b0ec42e40149cfeaac13b42b3f1",
       "style": "IPY_MODEL_fc3c7506c3e645d7bbe13e890d901ed1"
      }
     },
     "0999fda1fc364a54b4395a4b2c09a7f9": {
      "model_module": "jupyter-js-widgets",
      "model_module_version": "~2.1.4",
      "model_name": "LayoutModel",
      "state": {
       "_model_module_version": "~2.1.4",
       "_view_module_version": "~2.1.4",
       "width": "100%"
      }
     },
     "155649386a844d1d8c1d3faf57849592": {
      "model_module": "jupyter-js-widgets",
      "model_module_version": "~2.1.4",
      "model_name": "LayoutModel",
      "state": {
       "_model_module_version": "~2.1.4",
       "_view_module_version": "~2.1.4"
      }
     },
     "1716b55bae61475bab930ea9d46522ca": {
      "model_module": "jupyter-js-widgets",
      "model_module_version": "~2.1.4",
      "model_name": "ButtonModel",
      "state": {
       "_model_module_version": "~2.1.4",
       "_view_module_version": "~2.1.4",
       "icon": "forward",
       "layout": "IPY_MODEL_90ec08576e474f47bf11d02fa09767eb",
       "style": "IPY_MODEL_da9ddbeeb3454bffb6a4e88f69261ec5"
      }
     },
     "230736d3dc5a4c5e8c6f9f251b12ed95": {
      "model_module": "jupyter-js-widgets",
      "model_module_version": "~2.1.4",
      "model_name": "LayoutModel",
      "state": {
       "_model_module_version": "~2.1.4",
       "_view_module_version": "~2.1.4",
       "width": "100%"
      }
     },
     "2681b9ec30484004aafb5cb6dd40ee1e": {
      "model_module": "jupyter-js-widgets",
      "model_module_version": "~2.1.4",
      "model_name": "LayoutModel",
      "state": {
       "_model_module_version": "~2.1.4",
       "_view_module_version": "~2.1.4",
       "width": "100%"
      }
     },
     "288ed077924e4e1e9ed22d8b030d7077": {
      "model_module": "jupyter-js-widgets",
      "model_module_version": "~2.1.4",
      "model_name": "VBoxModel",
      "state": {
       "_model_module_version": "~2.1.4",
       "_view_module_version": "~2.1.4",
       "children": [
        "IPY_MODEL_29d0f6699c5148d188e66db2f26d2d30",
        "IPY_MODEL_be15c195bfb44a8ea83436d25f501727",
        "IPY_MODEL_e74ca37544b0419bb2247d7e41de7225"
       ],
       "layout": "IPY_MODEL_5faae88965f649678de6656d29edff61"
      }
     },
     "29d0f6699c5148d188e66db2f26d2d30": {
      "model_module": "jupyter-js-widgets",
      "model_module_version": "~2.1.4",
      "model_name": "SelectModel",
      "state": {
       "_model_module_version": "~2.1.4",
       "_options_labels": [
        "Test",
        "Train"
       ],
       "_view_module_version": "~2.1.4",
       "description": "Dataset:",
       "layout": "IPY_MODEL_155649386a844d1d8c1d3faf57849592",
       "value": "Train"
      }
     },
     "3787bbb7d4614f3bbe818dd0448e8e23": {
      "model_module": "jupyter-js-widgets",
      "model_module_version": "~2.1.4",
      "model_name": "ButtonModel",
      "state": {
       "_model_module_version": "~2.1.4",
       "_view_module_version": "~2.1.4",
       "icon": "backward",
       "layout": "IPY_MODEL_ffac37df0d3848538e5573110ad397b3",
       "style": "IPY_MODEL_a910aab78dd04481bace217256a2f4e0"
      }
     },
     "3fb825601ccc441aa8d10340540f992f": {
      "model_module": "jupyter-js-widgets",
      "model_module_version": "~2.1.4",
      "model_name": "SelectModel",
      "state": {
       "_model_module_version": "~2.1.4",
       "_options_labels": [
        "Test",
        "Train"
       ],
       "_view_module_version": "~2.1.4",
       "description": "Dataset:",
       "layout": "IPY_MODEL_776e2dfe658046c6a1422272562cc897",
       "value": "Train"
      }
     },
     "43b5041645aa44038d5e7b55cc9f740f": {
      "model_module": "jupyter-js-widgets",
      "model_module_version": "~2.1.4",
      "model_name": "ButtonModel",
      "state": {
       "_model_module_version": "~2.1.4",
       "_view_module_version": "~2.1.4",
       "icon": "fast-backward",
       "layout": "IPY_MODEL_cc5ca3d1d81d423596f6e7127e894e53",
       "style": "IPY_MODEL_bdb81995afd34c88b9303cef8e0751cc"
      }
     },
     "5faae88965f649678de6656d29edff61": {
      "model_module": "jupyter-js-widgets",
      "model_module_version": "~2.1.4",
      "model_name": "LayoutModel",
      "state": {
       "_model_module_version": "~2.1.4",
       "_view_module_version": "~2.1.4",
       "width": "100%"
      }
     },
     "6055fbf27586420c8c270345dccc4829": {
      "model_module": "jupyter-js-widgets",
      "model_module_version": "~2.1.4",
      "model_name": "LayoutModel",
      "state": {
       "_model_module_version": "~2.1.4",
       "_view_module_version": "~2.1.4",
       "width": "100%"
      }
     },
     "635c1f9b1ec3460cb92d614c553f410d": {
      "model_module": "jupyter-js-widgets",
      "model_module_version": "~2.1.4",
      "model_name": "VBoxModel",
      "state": {
       "_model_module_version": "~2.1.4",
       "_view_module_version": "~2.1.4",
       "children": [
        "IPY_MODEL_e0a074215c8541b7b7349a78bd15736e",
        "IPY_MODEL_288ed077924e4e1e9ed22d8b030d7077"
       ],
       "layout": "IPY_MODEL_0999fda1fc364a54b4395a4b2c09a7f9"
      }
     },
     "65efa7b6f6f746b7bfb0aa6c3d529143": {
      "model_module": "jupyter-js-widgets",
      "model_module_version": "~2.1.4",
      "model_name": "HBoxModel",
      "state": {
       "_model_module_version": "~2.1.4",
       "_view_module_version": "~2.1.4",
       "children": [
        "IPY_MODEL_43b5041645aa44038d5e7b55cc9f740f",
        "IPY_MODEL_3787bbb7d4614f3bbe818dd0448e8e23",
        "IPY_MODEL_b409a7f95f6e4e7292d381354bb0cac9",
        "IPY_MODEL_1716b55bae61475bab930ea9d46522ca",
        "IPY_MODEL_04b6b6497f824a8dbb6f59d892a4adf5"
       ],
       "layout": "IPY_MODEL_85715f5a9182419bbb82a2a03f227c75"
      }
     },
     "68bc5b0ec42e40149cfeaac13b42b3f1": {
      "model_module": "jupyter-js-widgets",
      "model_module_version": "~2.1.4",
      "model_name": "LayoutModel",
      "state": {
       "_model_module_version": "~2.1.4",
       "_view_module_version": "~2.1.4",
       "width": "100%"
      }
     },
     "6be955ee5f5e435987814028438f6d06": {
      "model_module": "jupyter-js-widgets",
      "model_module_version": "~2.1.4",
      "model_name": "LayoutModel",
      "state": {
       "_model_module_version": "~2.1.4",
       "_view_module_version": "~2.1.4",
       "width": "100%"
      }
     },
     "74ffa441e6a148c9ad3edcd53aabfe9e": {
      "model_module": "jupyter-js-widgets",
      "model_module_version": "~2.1.4",
      "model_name": "ButtonStyleModel",
      "state": {
       "_model_module_version": "~2.1.4",
       "_view_module_version": "~2.1.4"
      }
     },
     "776e2dfe658046c6a1422272562cc897": {
      "model_module": "jupyter-js-widgets",
      "model_module_version": "~2.1.4",
      "model_name": "LayoutModel",
      "state": {
       "_model_module_version": "~2.1.4",
       "_view_module_version": "~2.1.4"
      }
     },
     "798df8196fa7440f97ce8fb9bc277535": {
      "model_module": "jupyter-js-widgets",
      "model_module_version": "~2.1.4",
      "model_name": "ButtonStyleModel",
      "state": {
       "_model_module_version": "~2.1.4",
       "_view_module_version": "~2.1.4"
      }
     },
     "7e84fbfd91ed44fb8c9a5d0976350fe2": {
      "model_module": "jupyter-js-widgets",
      "model_module_version": "~2.1.4",
      "model_name": "ButtonStyleModel",
      "state": {
       "_model_module_version": "~2.1.4",
       "_view_module_version": "~2.1.4"
      }
     },
     "7ed0fcd3c43a429991ed9ffd4ed0c3d9": {
      "model_module": "jupyter-js-widgets",
      "model_module_version": "~2.1.4",
      "model_name": "LayoutModel",
      "state": {
       "_model_module_version": "~2.1.4",
       "_view_module_version": "~2.1.4",
       "width": "100%"
      }
     },
     "85715f5a9182419bbb82a2a03f227c75": {
      "model_module": "jupyter-js-widgets",
      "model_module_version": "~2.1.4",
      "model_name": "LayoutModel",
      "state": {
       "_model_module_version": "~2.1.4",
       "_view_module_version": "~2.1.4",
       "width": "100%"
      }
     },
     "90ec08576e474f47bf11d02fa09767eb": {
      "model_module": "jupyter-js-widgets",
      "model_module_version": "~2.1.4",
      "model_name": "LayoutModel",
      "state": {
       "_model_module_version": "~2.1.4",
       "_view_module_version": "~2.1.4",
       "width": "100%"
      }
     },
     "92f63ccefa474a2ab71cabd5544f20d2": {
      "model_module": "jupyter-js-widgets",
      "model_module_version": "~2.1.4",
      "model_name": "LayoutModel",
      "state": {
       "_model_module_version": "~2.1.4",
       "_view_module_version": "~2.1.4",
       "height": "100%",
       "max_height": "550px",
       "overflow_x": "auto",
       "width": "100%"
      }
     },
     "99f0a7ed14f5470795d9f25cbaf02f35": {
      "model_module": "jupyter-js-widgets",
      "model_module_version": "~2.1.4",
      "model_name": "VBoxModel",
      "state": {
       "_model_module_version": "~2.1.4",
       "_view_module_version": "~2.1.4",
       "children": [
        "IPY_MODEL_048468276ffd41ae96dc79edc798b2cb",
        "IPY_MODEL_aaee4f70b4784c3790f92d3e70dce672"
       ],
       "layout": "IPY_MODEL_230736d3dc5a4c5e8c6f9f251b12ed95"
      }
     },
     "a1409b6270e845b28a808404a9ed587a": {
      "model_module": "jupyter-js-widgets",
      "model_module_version": "~2.1.4",
      "model_name": "IntSliderModel",
      "state": {
       "_model_module_version": "~2.1.4",
       "_view_module_version": "~2.1.4",
       "continuous_update": false,
       "description": "Dataset index",
       "layout": "IPY_MODEL_02d0d6d968674426b100da6e7f990002",
       "max": 3,
       "style": "IPY_MODEL_a6cfd5eba92d4adc96c39493284b3946"
      }
     },
     "a356b1a74d2649ae9e4c34d0a7938405": {
      "model_module": "jupyter-js-widgets",
      "model_module_version": "~2.1.4",
      "model_name": "ButtonStyleModel",
      "state": {
       "_model_module_version": "~2.1.4",
       "_view_module_version": "~2.1.4"
      }
     },
     "a6cfd5eba92d4adc96c39493284b3946": {
      "model_module": "jupyter-js-widgets",
      "model_module_version": "~2.1.4",
      "model_name": "SliderStyleModel",
      "state": {
       "_model_module_version": "~2.1.4",
       "_view_module_version": "~2.1.4"
      }
     },
     "a910aab78dd04481bace217256a2f4e0": {
      "model_module": "jupyter-js-widgets",
      "model_module_version": "~2.1.4",
      "model_name": "ButtonStyleModel",
      "state": {
       "_model_module_version": "~2.1.4",
       "_view_module_version": "~2.1.4"
      }
     },
     "aaee4f70b4784c3790f92d3e70dce672": {
      "model_module": "jupyter-js-widgets",
      "model_module_version": "~2.1.4",
      "model_name": "VBoxModel",
      "state": {
       "_model_module_version": "~2.1.4",
       "_view_module_version": "~2.1.4",
       "children": [
        "IPY_MODEL_3fb825601ccc441aa8d10340540f992f",
        "IPY_MODEL_a1409b6270e845b28a808404a9ed587a",
        "IPY_MODEL_65efa7b6f6f746b7bfb0aa6c3d529143"
       ],
       "layout": "IPY_MODEL_deaaa9501764409f9d8de00745d7e837"
      }
     },
     "ac85776da7df4458ac3067b267ae5d8d": {
      "model_module": "jupyter-js-widgets",
      "model_module_version": "~2.1.4",
      "model_name": "LayoutModel",
      "state": {
       "_model_module_version": "~2.1.4",
       "_view_module_version": "~2.1.4",
       "width": "100%"
      }
     },
     "b0f58fd08d5e41db862dd58a0da87408": {
      "model_module": "jupyter-js-widgets",
      "model_module_version": "~2.1.4",
      "model_name": "ButtonModel",
      "state": {
       "_model_module_version": "~2.1.4",
       "_view_module_version": "~2.1.4",
       "icon": "fast-backward",
       "layout": "IPY_MODEL_df008ca6cca249e8a4bc1ae8f86f703d",
       "style": "IPY_MODEL_e07dcd72f3d84bf3b1375bd209488e11"
      }
     },
     "b409a7f95f6e4e7292d381354bb0cac9": {
      "model_module": "jupyter-js-widgets",
      "model_module_version": "~2.1.4",
      "model_name": "ButtonModel",
      "state": {
       "_model_module_version": "~2.1.4",
       "_view_module_version": "~2.1.4",
       "description": "Train",
       "layout": "IPY_MODEL_2681b9ec30484004aafb5cb6dd40ee1e",
       "style": "IPY_MODEL_74ffa441e6a148c9ad3edcd53aabfe9e"
      }
     },
     "bd94d33c6a5a400f8ecd0153ebc73382": {
      "model_module": "jupyter-js-widgets",
      "model_module_version": "~2.1.4",
      "model_name": "SliderStyleModel",
      "state": {
       "_model_module_version": "~2.1.4",
       "_view_module_version": "~2.1.4"
      }
     },
     "bdb81995afd34c88b9303cef8e0751cc": {
      "model_module": "jupyter-js-widgets",
      "model_module_version": "~2.1.4",
      "model_name": "ButtonStyleModel",
      "state": {
       "_model_module_version": "~2.1.4",
       "_view_module_version": "~2.1.4"
      }
     },
     "be15c195bfb44a8ea83436d25f501727": {
      "model_module": "jupyter-js-widgets",
      "model_module_version": "~2.1.4",
      "model_name": "IntSliderModel",
      "state": {
       "_model_module_version": "~2.1.4",
       "_view_module_version": "~2.1.4",
       "continuous_update": false,
       "description": "Dataset index",
       "layout": "IPY_MODEL_6be955ee5f5e435987814028438f6d06",
       "max": 3,
       "style": "IPY_MODEL_bd94d33c6a5a400f8ecd0153ebc73382"
      }
     },
     "c5f79943cbde4d6b8617c03baeb8c90c": {
      "model_module": "jupyter-js-widgets",
      "model_module_version": "~2.1.4",
      "model_name": "LayoutModel",
      "state": {
       "_model_module_version": "~2.1.4",
       "_view_module_version": "~2.1.4",
       "width": "100%"
      }
     },
     "c636285306914164814d72d1a30cb316": {
      "model_module": "jupyter-js-widgets",
      "model_module_version": "~2.1.4",
      "model_name": "LayoutModel",
      "state": {
       "_model_module_version": "~2.1.4",
       "_view_module_version": "~2.1.4",
       "width": "100%"
      }
     },
     "cc5ca3d1d81d423596f6e7127e894e53": {
      "model_module": "jupyter-js-widgets",
      "model_module_version": "~2.1.4",
      "model_name": "LayoutModel",
      "state": {
       "_model_module_version": "~2.1.4",
       "_view_module_version": "~2.1.4",
       "width": "100%"
      }
     },
     "cd8bdbb4934846d9b51f7e3622d9116b": {
      "model_module": "jupyter-js-widgets",
      "model_module_version": "~2.1.4",
      "model_name": "ButtonStyleModel",
      "state": {
       "_model_module_version": "~2.1.4",
       "_view_module_version": "~2.1.4"
      }
     },
     "d805254a965943ff81ddf8d3356ed5ca": {
      "model_module": "jupyter-js-widgets",
      "model_module_version": "~2.1.4",
      "model_name": "LayoutModel",
      "state": {
       "_model_module_version": "~2.1.4",
       "_view_module_version": "~2.1.4",
       "height": "100%",
       "max_height": "550px",
       "overflow_x": "auto",
       "width": "100%"
      }
     },
     "da9ddbeeb3454bffb6a4e88f69261ec5": {
      "model_module": "jupyter-js-widgets",
      "model_module_version": "~2.1.4",
      "model_name": "ButtonStyleModel",
      "state": {
       "_model_module_version": "~2.1.4",
       "_view_module_version": "~2.1.4"
      }
     },
     "deaaa9501764409f9d8de00745d7e837": {
      "model_module": "jupyter-js-widgets",
      "model_module_version": "~2.1.4",
      "model_name": "LayoutModel",
      "state": {
       "_model_module_version": "~2.1.4",
       "_view_module_version": "~2.1.4",
       "width": "100%"
      }
     },
     "df008ca6cca249e8a4bc1ae8f86f703d": {
      "model_module": "jupyter-js-widgets",
      "model_module_version": "~2.1.4",
      "model_name": "LayoutModel",
      "state": {
       "_model_module_version": "~2.1.4",
       "_view_module_version": "~2.1.4",
       "width": "100%"
      }
     },
     "dfdf684c0d104fb5987680b7cead415c": {
      "model_module": "jupyter-js-widgets",
      "model_module_version": "~2.1.4",
      "model_name": "ButtonModel",
      "state": {
       "_model_module_version": "~2.1.4",
       "_view_module_version": "~2.1.4",
       "icon": "forward",
       "layout": "IPY_MODEL_c636285306914164814d72d1a30cb316",
       "style": "IPY_MODEL_798df8196fa7440f97ce8fb9bc277535"
      }
     },
     "e07dcd72f3d84bf3b1375bd209488e11": {
      "model_module": "jupyter-js-widgets",
      "model_module_version": "~2.1.4",
      "model_name": "ButtonStyleModel",
      "state": {
       "_model_module_version": "~2.1.4",
       "_view_module_version": "~2.1.4"
      }
     },
     "e0a074215c8541b7b7349a78bd15736e": {
      "model_module": "jupyter-js-widgets",
      "model_module_version": "~2.1.4",
      "model_name": "HTMLModel",
      "state": {
       "_model_module_version": "~2.1.4",
       "_view_module_version": "~2.1.4",
       "layout": "IPY_MODEL_d805254a965943ff81ddf8d3356ed5ca",
       "value": "\n        <svg id='XOR' xmlns='http://www.w3.org/2000/svg' width=\"200\" height=\"335\" image-rendering=\"pixelated\">\n    <defs>\n        <marker id=\"arrow\" markerWidth=\"10\" markerHeight=\"10\" refX=\"9\" refY=\"3\" orient=\"auto\" markerUnits=\"strokeWidth\">\n          <path d=\"M0,0 L0,6 L9,3 z\" fill=\"blue\" />\n        </marker>\n    </defs>\n<rect x=\"74.0\" y=\"24\" width=\"52\" height=\"52\" style=\"fill:none;stroke:blue;stroke-width:2\"/><image id=\"XOR_output_targets_1\" class=\"XOR_output_targets\" x=\"75.0\" y=\"25\" height=\"50\" width=\"50\" href=\"data:image/gif;base64,R0lGODdhAQABAIAAAImJiQAAACwAAAAAAQABAAAIBQABrAsIADs=\"><title>Layer: output (output)\n shape = (1,)\n Keras class = Dense\n activation = sigmoid</title></image><text x=\"130.0\" y=\"52.0\" font-family=\"monospace\" font-size=\"12\">targets</text><rect x=\"74.0\" y=\"84\" width=\"52\" height=\"52\" style=\"fill:none;stroke:blue;stroke-width:2\"/><image id=\"XOR_output_errors_1\" class=\"XOR_output_errors\" x=\"75.0\" y=\"85\" height=\"50\" width=\"50\" href=\"data:image/gif;base64,R0lGODdhAQABAIAAAImJiQAAACwAAAAAAQABAAAIBQABrAsIADs=\"><title>Layer: output (output)\n shape = (1,)\n Keras class = Dense\n activation = sigmoid</title></image><text x=\"130.0\" y=\"112.0\" font-family=\"monospace\" font-size=\"12\">errors</text><rect x=\"74.0\" y=\"149\" width=\"52\" height=\"52\" style=\"fill:none;stroke:blue;stroke-width:2\"/><image id=\"XOR_output_1\" class=\"XOR_output\" x=\"75.0\" y=\"150\" height=\"50\" width=\"50\" href=\"data:image/gif;base64,R0lGODdhAQABAIAAAImJiQAAACwAAAAAAQABAAAIBQABrAsIADs=\"><title>Layer: output (output)\n shape = (1,)\n Keras class = Dense\n activation = sigmoid</title></image><text x=\"130.0\" y=\"177.0\" font-family=\"monospace\" font-size=\"12\">output</text><rect x=\"90.0\" y=\"202\" width=\"20.0\" height=\"27\" style=\"fill:white;stroke:none\"><title>Weights from hidden to output\n output/kernel has shape (4, 1)\n output/bias has shape (1,)</title></rect><rect x=\"90.0\" y=\"202\" width=\"20.0\" height=\"27\" style=\"fill:white;stroke:none\"><title>Weights from hidden to output\n output/kernel has shape (4, 1)\n output/bias has shape (1,)</title></rect><line x1=\"100.0\" y1=\"229\" x2=\"100.0\" y2=\"202\" stroke=\"blue\" stroke-width=\"2\" marker-end=\"url(#arrow)\"><title>Weights from hidden to output\n output/kernel has shape (4, 1)\n output/bias has shape (1,)</title></line><line x1=\"100.0\" y1=\"229\" x2=\"100.0\" y2=\"202\" stroke=\"blue\" stroke-width=\"2\" marker-end=\"url(#arrow)\"><title>Weights from hidden to output\n output/kernel has shape (4, 1)\n output/bias has shape (1,)</title></line><rect x=\"74.0\" y=\"229\" width=\"52\" height=\"27\" style=\"fill:none;stroke:blue;stroke-width:2\"/><image id=\"XOR_hidden_2\" class=\"XOR_hidden\" x=\"75.0\" y=\"230\" height=\"25\" width=\"50\" href=\"data:image/gif;base64,R0lGODdhAgABAIAAAH9/fwAAACwAAAAAAgABAAAIBQABAAgIADs=\"><title>Layer: hidden (hidden)\n shape = (2,)\n Keras class = Dense\n activation = sigmoid</title></image><text x=\"130.0\" y=\"244.5\" font-family=\"monospace\" font-size=\"12\">hidden</text><rect x=\"90.0\" y=\"257\" width=\"20.0\" height=\"27\" style=\"fill:white;stroke:none\"><title>Weights from input to hidden\n hidden/kernel has shape (4, 2)\n hidden/bias has shape (2,)</title></rect><rect x=\"90.0\" y=\"257\" width=\"20.0\" height=\"27\" style=\"fill:white;stroke:none\"><title>Weights from input to hidden\n hidden/kernel has shape (4, 2)\n hidden/bias has shape (2,)</title></rect><line x1=\"100.0\" y1=\"284\" x2=\"100.0\" y2=\"257\" stroke=\"blue\" stroke-width=\"2\" marker-end=\"url(#arrow)\"><title>Weights from input to hidden\n hidden/kernel has shape (4, 2)\n hidden/bias has shape (2,)</title></line><line x1=\"100.0\" y1=\"284\" x2=\"100.0\" y2=\"257\" stroke=\"blue\" stroke-width=\"2\" marker-end=\"url(#arrow)\"><title>Weights from input to hidden\n hidden/kernel has shape (4, 2)\n hidden/bias has shape (2,)</title></line><rect x=\"74.0\" y=\"284\" width=\"52\" height=\"27\" style=\"fill:none;stroke:blue;stroke-width:2\"/><image id=\"XOR_input_3\" class=\"XOR_input\" x=\"75.0\" y=\"285\" height=\"25\" width=\"50\" href=\"data:image/gif;base64,R0lGODdhAgABAIAAAH9/fwAAACwAAAAAAgABAAAIBQABAAgIADs=\"><title>Layer: input (input)\n shape = (2,)\n Keras class = Input</title></image><text x=\"130.0\" y=\"299.5\" font-family=\"monospace\" font-size=\"12\">input</text></svg>"
      }
     },
     "e74ca37544b0419bb2247d7e41de7225": {
      "model_module": "jupyter-js-widgets",
      "model_module_version": "~2.1.4",
      "model_name": "HBoxModel",
      "state": {
       "_model_module_version": "~2.1.4",
       "_view_module_version": "~2.1.4",
       "children": [
        "IPY_MODEL_b0f58fd08d5e41db862dd58a0da87408",
        "IPY_MODEL_ea35a3d588584128bb77b45a5d5bba9f",
        "IPY_MODEL_097cc013e8f9466bbc0c9c8cf8870257",
        "IPY_MODEL_dfdf684c0d104fb5987680b7cead415c",
        "IPY_MODEL_03f3d3928d61479195a206b2e4b96b29"
       ],
       "layout": "IPY_MODEL_c5f79943cbde4d6b8617c03baeb8c90c"
      }
     },
     "ea35a3d588584128bb77b45a5d5bba9f": {
      "model_module": "jupyter-js-widgets",
      "model_module_version": "~2.1.4",
      "model_name": "ButtonModel",
      "state": {
       "_model_module_version": "~2.1.4",
       "_view_module_version": "~2.1.4",
       "icon": "backward",
       "layout": "IPY_MODEL_7ed0fcd3c43a429991ed9ffd4ed0c3d9",
       "style": "IPY_MODEL_a356b1a74d2649ae9e4c34d0a7938405"
      }
     },
     "fc3c7506c3e645d7bbe13e890d901ed1": {
      "model_module": "jupyter-js-widgets",
      "model_module_version": "~2.1.4",
      "model_name": "ButtonStyleModel",
      "state": {
       "_model_module_version": "~2.1.4",
       "_view_module_version": "~2.1.4"
      }
     },
     "ffac37df0d3848538e5573110ad397b3": {
      "model_module": "jupyter-js-widgets",
      "model_module_version": "~2.1.4",
      "model_name": "LayoutModel",
      "state": {
       "_model_module_version": "~2.1.4",
       "_view_module_version": "~2.1.4",
       "width": "100%"
      }
     }
    },
    "version_major": 1,
    "version_minor": 0
   }
  }
 },
 "nbformat": 4,
 "nbformat_minor": 2
}
