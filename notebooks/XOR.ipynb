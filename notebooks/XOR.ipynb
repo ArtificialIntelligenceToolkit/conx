{
 "cells": [
  {
   "cell_type": "markdown",
   "metadata": {},
   "source": [
    "# XOR Multiple Inputs/Targets\n",
    "\n",
    "Testing..."
   ]
  },
  {
   "cell_type": "code",
   "execution_count": 1,
   "metadata": {},
   "outputs": [
    {
     "name": "stderr",
     "output_type": "stream",
     "text": [
      "conx, version 3.2.3\n",
      "Using Theano backend.\n"
     ]
    }
   ],
   "source": [
    "from conx import Network, Layer, SGD"
   ]
  },
  {
   "cell_type": "code",
   "execution_count": 2,
   "metadata": {},
   "outputs": [],
   "source": [
    "net = Network(\"XOR Network\", 2, 4, 1, activation=\"sigmoid\")"
   ]
  },
  {
   "cell_type": "code",
   "execution_count": 3,
   "metadata": {},
   "outputs": [],
   "source": [
    "net.compile(loss='mean_squared_error',\n",
    "            optimizer=SGD(lr=0.3, momentum=0.9))"
   ]
  },
  {
   "cell_type": "code",
   "execution_count": 4,
   "metadata": {},
   "outputs": [],
   "source": [
    "dataset = [\n",
    "    ([0, 0], [0]),\n",
    "    ([0, 1], [1]),\n",
    "    ([1, 0], [1]),\n",
    "    ([1, 1], [0])\n",
    "]\n",
    "net[\"output\"].minmax = (0, 1)"
   ]
  },
  {
   "cell_type": "code",
   "execution_count": 5,
   "metadata": {},
   "outputs": [
    {
     "name": "stdout",
     "output_type": "stream",
     "text": [
      "Input Summary:\n",
      "   count  : 4 (4 for training, 0 for testing)\n",
      "   shape  : (2,)\n",
      "   range  : (0.0, 1.0)\n",
      "Target Summary:\n",
      "   count  : 4 (4 for training, 0 for testing)\n",
      "   shape  : (1,)\n",
      "   range  : (0.0, 1.0)\n"
     ]
    }
   ],
   "source": [
    "net.dataset.load(dataset)\n",
    "net.dataset.summary()"
   ]
  },
  {
   "cell_type": "code",
   "execution_count": 6,
   "metadata": {},
   "outputs": [
    {
     "data": {
      "text/plain": [
       "[0.0]"
      ]
     },
     "execution_count": 6,
     "metadata": {},
     "output_type": "execute_result"
    }
   ],
   "source": [
    "net.dataset.targets[0]"
   ]
  },
  {
   "cell_type": "code",
   "execution_count": 7,
   "metadata": {},
   "outputs": [
    {
     "data": {
      "text/plain": [
       "(2,)"
      ]
     },
     "execution_count": 7,
     "metadata": {},
     "output_type": "execute_result"
    }
   ],
   "source": [
    "net.dataset.inputs.shape()"
   ]
  },
  {
   "cell_type": "code",
   "execution_count": 8,
   "metadata": {},
   "outputs": [
    {
     "data": {
      "application/javascript": [
       "\n",
       "require(['base/js/namespace'], function(Jupyter) {\n",
       "    Jupyter.notebook.kernel.comm_manager.register_target('conx_svg_control', function(comm, msg) {\n",
       "        comm.on_msg(function(msg) {\n",
       "            var data = msg[\"content\"][\"data\"];\n",
       "            var images = document.getElementsByClassName(data[\"class\"]);\n",
       "            for (var i = 0; i < images.length; i++) {\n",
       "                if (data[\"href\"]) {\n",
       "                    images[i].setAttributeNS(null, \"href\", data[\"href\"]);\n",
       "                }\n",
       "                if (data[\"src\"]) {\n",
       "                    images[i].setAttributeNS(null, \"src\", data[\"src\"]);\n",
       "                }\n",
       "            }\n",
       "        });\n",
       "    });\n",
       "});\n"
      ],
      "text/plain": [
       "<IPython.core.display.Javascript object>"
      ]
     },
     "metadata": {},
     "output_type": "display_data"
    },
    {
     "data": {
      "application/vnd.jupyter.widget-view+json": {
       "model_id": "bc36977913db4e5fa6bd3f298b1b9a59",
       "version_major": 2,
       "version_minor": 0
      },
      "text/html": [
       "<p>Failed to display Jupyter Widget of type <code>Dashboard</code>.</p>\n",
       "<p>\n",
       "  If you're reading this message in Jupyter Notebook or JupyterLab, it may mean\n",
       "  that the widgets JavaScript is still loading. If this message persists, it\n",
       "  likely means that the widgets JavaScript library is either not installed or\n",
       "  not enabled. See the <a href=\"https://ipywidgets.readthedocs.io/en/stable/user_install.html\">Jupyter\n",
       "  Widgets Documentation</a> for setup instructions.\n",
       "</p>\n",
       "<p>\n",
       "  If you're reading this message in another notebook frontend (for example, a static\n",
       "  rendering on GitHub or <a href=\"https://nbviewer.jupyter.org/\">NBViewer</a>),\n",
       "  it may mean that your frontend doesn't currently support widgets.\n",
       "</p>\n"
      ],
      "text/plain": [
       "Dashboard(children=(VBox(children=(HTML(value='<p style=\"text-align:center\"><svg id=\\'XOR Network\\' xmlns=\\'http://www.w3.org/2000/svg\\' viewBox=\"0 0 350 265\" height=\"780\" image-rendering=\"pixelated\">\\n    <defs>\\n        <marker id=\"arrow\" markerWidth=\"10\" markerHeight=\"10\" refX=\"9\" refY=\"3\" orient=\"auto\" markerUnits=\"strokeWidth\">\\n          <path d=\"M0,0 L0,6 L9,3 z\" fill=\"black\" />\\n        </marker>\\n    </defs><text x=\"175.0\" y=\"12.5\" font-family=\"monospace\" font-size=\"15\" text-anchor=\"middle\" alignment-baseline=\"central\">XOR Network</text><rect x=\"149.0\" y=\"29\" width=\"52\" height=\"52\" style=\"fill:none;stroke:black;stroke-width:2\"/><image id=\"XOR Network_output_1\" class=\"XOR Network_output\" x=\"150.0\" y=\"30\" height=\"50\" width=\"50\" preserveAspectRatio=\"none\" href=\"data:image/gif;base64,R0lGODdhAQABAIcAAIrA2wAAAAAAAAAAAAAAAAAAAAAAAAAAAAAAAAAAAAAAAAAAAAAAAAAAAAAAAAAAAAAAAAAAAAAAAAAAAAAAAAAAAAAAAAAAAAAAAAAAAAAAAAAAAAAAAAAAAAAAAAAAAAAAAAAAAAAAAAAAAAAAAAAAAAAAAAAAAAAAAAAAAAAAAAAAAAAAAAAAAAAAAAAAAAAAAAAAAAAAAAAAAAAAAAAAAAAAAAAAAAAAAAAAAAAAAAAAAAAAAAAAAAAAAAAAAAAAAAAAAAAAAAAAAAAAAAAAAAAAAAAAAAAAAAAAAAAAAAAAAAAAAAAAAAAAAAAAAAAAAAAAAAAAAAAAAAAAAAAAAAAAAAAAAAAAAAAAAAAAAAAAAAAAAAAAAAAAAAAAAAAAAAAAAAAAAAAAAAAAAAAAAAAAAAAAAAAAAAAAAAAAAAAAAAAAAAAAAAAAAAAAAAAAAAAAAAAAAAAAAAAAAAAAAAAAAAAAAAAAAAAAAAAAAAAAAAAAAAAAAAAAAAAAAAAAAAAAAAAAAAAAAAAAAAAAAAAAAAAAAAAAAAAAAAAAAAAAAAAAAAAAAAAAAAAAAAAAAAAAAAAAAAAAAAAAAAAAAAAAAAAAAAAAAAAAAAAAAAAAAAAAAAAAAAAAAAAAAAAAAAAAAAAAAAAAAAAAAAAAAAAAAAAAAAAAAAAAAAAAAAAAAAAAAAAAAAAAAAAAAAAAAAAAAAAAAAAAAAAAAAAAAAAAAAAAAAAAAAAAAAAAAAAAAAAAAAAAAAAAAAAAAAAAAAAAAAAAAAAAAAAAAAAAAAAAAAAAAAAAAAAAAAAAAAAAAAAAAAAAAAAAAAAAAAAAAAAAAAAAAAAAAAAAAAAAAAAAAAAAAAAAAAAAAAAAAAAAAAAAAAAAAAAAAAAAAAAAAAAAAAAAAAAAAAAAAAAAAAAAAAAAAAAAAAAAAAAAAAAAAAAAAAAAAAAAAAAAAAAAAAAAAAAAAAAAAAAAAAAAAAAAAAAAAAAAAAAAAAAAAAAAAAAAAAAAAAAAAAAAACwAAAAAAQABAAAIBQABLAgIADs=\"><title>Layer: output (output)\\n shape = (1,)\\n Keras class = Dense\\n activation = sigmoid</title></image><text x=\"205.0\" y=\"57.0\" font-family=\"monospace\" font-size=\"12\" text-anchor=\"start\" alignment-baseline=\"central\">output</text><line x1=\"175.0\" y1=\"109\" x2=\"175.0\" y2=\"82\" stroke=\"black\" stroke-width=\"2\" marker-end=\"url(#arrow)\"><title>Weights from hidden to output\\n output/kernel has shape (4, 1)\\n output/bias has shape (1,)</title></line><rect x=\"74.0\" y=\"109\" width=\"202\" height=\"52\" style=\"fill:none;stroke:black;stroke-width:2\"/><image id=\"XOR Network_hidden_2\" class=\"XOR Network_hidden\" x=\"75.0\" y=\"110\" height=\"50\" width=\"200\" preserveAspectRatio=\"none\" href=\"data:image/gif;base64,R0lGODdhBAABAIcAAGus0AAAAAAAAAAAAAAAAAAAAAAAAAAAAAAAAAAAAAAAAAAAAAAAAAAAAAAAAAAAAAAAAAAAAAAAAAAAAAAAAAAAAAAAAAAAAAAAAAAAAAAAAAAAAAAAAAAAAAAAAAAAAAAAAAAAAAAAAAAAAAAAAAAAAAAAAAAAAAAAAAAAAAAAAAAAAAAAAAAAAAAAAAAAAAAAAAAAAAAAAAAAAAAAAAAAAAAAAAAAAAAAAAAAAAAAAAAAAAAAAAAAAAAAAAAAAAAAAAAAAAAAAAAAAAAAAAAAAAAAAAAAAAAAAAAAAAAAAAAAAAAAAAAAAAAAAAAAAAAAAAAAAAAAAAAAAAAAAAAAAAAAAAAAAAAAAAAAAAAAAAAAAAAAAAAAAAAAAAAAAAAAAAAAAAAAAAAAAAAAAAAAAAAAAAAAAAAAAAAAAAAAAAAAAAAAAAAAAAAAAAAAAAAAAAAAAAAAAAAAAAAAAAAAAAAAAAAAAAAAAAAAAAAAAAAAAAAAAAAAAAAAAAAAAAAAAAAAAAAAAAAAAAAAAAAAAAAAAAAAAAAAAAAAAAAAAAAAAAAAAAAAAAAAAAAAAAAAAAAAAAAAAAAAAAAAAAAAAAAAAAAAAAAAAAAAAAAAAAAAAAAAAAAAAAAAAAAAAAAAAAAAAAAAAAAAAAAAAAAAAAAAAAAAAAAAAAAAAAAAAAAAAAAAAAAAAAAAAAAAAAAAAAAAAAAAAAAAAAAAAAAAAAAAAAAAAAAAAAAAAAAAAAAAAAAAAAAAAAAAAAAAAAAAAAAAAAAAAAAAAAAAAAAAAAAAAAAAAAAAAAAAAAAAAAAAAAAAAAAAAAAAAAAAAAAAAAAAAAAAAAAAAAAAAAAAAAAAAAAAAAAAAAAAAAAAAAAAAAAAAAAAAAAAAAAAAAAAAAAAAAAAAAAAAAAAAAAAAAAAAAAAAAAAAAAAAAAAAAAAAAAAAAAAAAAAAAAAAAAAAAAAAAAAAAAAAAAAAAAAAAAAAAAAAAAAAAAAAAAAAAAAAAAAAAAAAAAAAAAAACwAAAAABAABAAAIBgABCAQQEAA7\"><title>Layer: hidden (hidden)\\n shape = (4,)\\n Keras class = Dense\\n activation = sigmoid</title></image><text x=\"280.0\" y=\"137.0\" font-family=\"monospace\" font-size=\"12\" text-anchor=\"start\" alignment-baseline=\"central\">hidden</text><line x1=\"175.0\" y1=\"189\" x2=\"175.0\" y2=\"162\" stroke=\"black\" stroke-width=\"2\" marker-end=\"url(#arrow)\"><title>Weights from input to hidden\\n hidden/kernel has shape (2, 4)\\n hidden/bias has shape (4,)</title></line><rect x=\"124.0\" y=\"189\" width=\"102\" height=\"52\" style=\"fill:none;stroke:black;stroke-width:2\"/><image id=\"XOR Network_input_3\" class=\"XOR Network_input\" x=\"125.0\" y=\"190\" height=\"50\" width=\"100\" preserveAspectRatio=\"none\" href=\"data:image/gif;base64,R0lGODdhAgABAIcAAPf29gAAAAAAAAAAAAAAAAAAAAAAAAAAAAAAAAAAAAAAAAAAAAAAAAAAAAAAAAAAAAAAAAAAAAAAAAAAAAAAAAAAAAAAAAAAAAAAAAAAAAAAAAAAAAAAAAAAAAAAAAAAAAAAAAAAAAAAAAAAAAAAAAAAAAAAAAAAAAAAAAAAAAAAAAAAAAAAAAAAAAAAAAAAAAAAAAAAAAAAAAAAAAAAAAAAAAAAAAAAAAAAAAAAAAAAAAAAAAAAAAAAAAAAAAAAAAAAAAAAAAAAAAAAAAAAAAAAAAAAAAAAAAAAAAAAAAAAAAAAAAAAAAAAAAAAAAAAAAAAAAAAAAAAAAAAAAAAAAAAAAAAAAAAAAAAAAAAAAAAAAAAAAAAAAAAAAAAAAAAAAAAAAAAAAAAAAAAAAAAAAAAAAAAAAAAAAAAAAAAAAAAAAAAAAAAAAAAAAAAAAAAAAAAAAAAAAAAAAAAAAAAAAAAAAAAAAAAAAAAAAAAAAAAAAAAAAAAAAAAAAAAAAAAAAAAAAAAAAAAAAAAAAAAAAAAAAAAAAAAAAAAAAAAAAAAAAAAAAAAAAAAAAAAAAAAAAAAAAAAAAAAAAAAAAAAAAAAAAAAAAAAAAAAAAAAAAAAAAAAAAAAAAAAAAAAAAAAAAAAAAAAAAAAAAAAAAAAAAAAAAAAAAAAAAAAAAAAAAAAAAAAAAAAAAAAAAAAAAAAAAAAAAAAAAAAAAAAAAAAAAAAAAAAAAAAAAAAAAAAAAAAAAAAAAAAAAAAAAAAAAAAAAAAAAAAAAAAAAAAAAAAAAAAAAAAAAAAAAAAAAAAAAAAAAAAAAAAAAAAAAAAAAAAAAAAAAAAAAAAAAAAAAAAAAAAAAAAAAAAAAAAAAAAAAAAAAAAAAAAAAAAAAAAAAAAAAAAAAAAAAAAAAAAAAAAAAAAAAAAAAAAAAAAAAAAAAAAAAAAAAAAAAAAAAAAAAAAAAAAAAAAAAAAAAAAAAAAAAAAAAAAAAAAAAAAAAAAAAAAAAAAAAAAAAAAAAAAAAAAACwAAAAAAgABAAAIBQABAAgIADs=\"><title>Layer: input (input)\\n shape = (2,)\\n Keras class = Input</title></image><text x=\"230.0\" y=\"217.0\" font-family=\"monospace\" font-size=\"12\" text-anchor=\"start\" alignment-baseline=\"central\">input</text></svg></p>', layout=Layout(height='550px', justify_content='center', overflow_x='auto', width='95%')), VBox(children=(HBox(children=(Select(description='Dataset:', index=1, options=('Test', 'Train'), rows=1, value='Train'), Select(description='Features:', options=('',), rows=1, value=''), Button(icon='refresh', layout=Layout(width='40px'), style=ButtonStyle())), layout=Layout(height='40px')), HBox(children=(IntSlider(value=0, continuous_update=False, description='Dataset index', layout=Layout(width='95%'), max=3), Label(value='of 0', layout=Layout(width='100px'))), layout=Layout(height='40px')), HBox(children=(Button(icon='fast-backward', layout=Layout(width='100%'), style=ButtonStyle()), Button(icon='backward', layout=Layout(width='100%'), style=ButtonStyle()), IntText(value=0, layout=Layout(width='100%')), Button(icon='forward', layout=Layout(width='100%'), style=ButtonStyle()), Button(icon='fast-forward', layout=Layout(width='100%'), style=ButtonStyle()), Button(description='Play', icon='play', layout=Layout(width='100%'), style=ButtonStyle())), layout=Layout(height='50px', width='100%'))), layout=Layout(width='95%'))), layout=Layout(width='95%')), VBox(children=(Accordion(children=(VBox(children=(HTML(value='<p><h3>Network display:</h3></p>'), FloatSlider(value=1.0, continuous_update=False, description='Zoom', max=3.0, min=0.5), IntText(value=150, description='Horizontal space between banks:', style=DescriptionStyle(description_width='initial')), IntText(value=30, description='Vertical space between layers:', style=DescriptionStyle(description_width='initial')), Checkbox(value=False, description='Show Targets'), Checkbox(value=False, description='Show Errors'), IntText(value=3, description='Feature columns'), FloatText(value=2.0, description='Feature scale'))), VBox(children=(HTML(value='<p><hr/><h3>output bank:</h3></p>'), Checkbox(value=True, description='Visible'), HBox(children=(Select(description='Colormap:', options=('Accent', 'Accent_r', 'Blues', 'Blues_r', 'BrBG', 'BrBG_r', 'BuGn', 'BuGn_r', 'BuPu', 'BuPu_r', 'CMRmap', 'CMRmap_r', 'Dark2', 'Dark2_r', 'GnBu', 'GnBu_r', 'Greens', 'Greens_r', 'Greys', 'Greys_r', 'OrRd', 'OrRd_r', 'Oranges', 'Oranges_r', 'PRGn', 'PRGn_r', 'Paired', 'Paired_r', 'Pastel1', 'Pastel1_r', 'Pastel2', 'Pastel2_r', 'PiYG', 'PiYG_r', 'PuBu', 'PuBuGn', 'PuBuGn_r', 'PuBu_r', 'PuOr', 'PuOr_r', 'PuRd', 'PuRd_r', 'Purples', 'Purples_r', 'RdBu', 'RdBu_r', 'RdGy', 'RdGy_r', 'RdPu', 'RdPu_r', 'RdYlBu', 'RdYlBu_r', 'RdYlGn', 'RdYlGn_r', 'Reds', 'Reds_r', 'Set1', 'Set1_r', 'Set2', 'Set2_r', 'Set3', 'Set3_r', 'Spectral', 'Spectral_r', 'Vega10', 'Vega10_r', 'Vega20', 'Vega20_r', 'Vega20b', 'Vega20b_r', 'Vega20c', 'Vega20c_r', 'Wistia', 'Wistia_r', 'YlGn', 'YlGnBu', 'YlGnBu_r', 'YlGn_r', 'YlOrBr', 'YlOrBr_r', 'YlOrRd', 'YlOrRd_r', 'afmhot', 'afmhot_r', 'autumn', 'autumn_r', 'binary', 'binary_r', 'bone', 'bone_r', 'brg', 'brg_r', 'bwr', 'bwr_r', 'cool', 'cool_r', 'coolwarm', 'coolwarm_r', 'copper', 'copper_r', 'cubehelix', 'cubehelix_r', 'flag', 'flag_r', 'gist_earth', 'gist_earth_r', 'gist_gray', 'gist_gray_r', 'gist_heat', 'gist_heat_r', 'gist_ncar', 'gist_ncar_r', 'gist_rainbow', 'gist_rainbow_r', 'gist_stern', 'gist_stern_r', 'gist_yarg', 'gist_yarg_r', 'gnuplot', 'gnuplot2', 'gnuplot2_r', 'gnuplot_r', 'gray', 'gray_r', 'hot', 'hot_r', 'hsv', 'hsv_r', 'inferno', 'inferno_r', 'jet', 'jet_r', 'magma', 'magma_r', 'nipy_spectral', 'nipy_spectral_r', 'ocean', 'ocean_r', 'pink', 'pink_r', 'plasma', 'plasma_r', 'prism', 'prism_r', 'rainbow', 'rainbow_r', 'seismic', 'seismic_r', 'spectral', 'spectral_r', 'spring', 'spring_r', 'summer', 'summer_r', 'tab10', 'tab10_r', 'tab20', 'tab20_r', 'tab20b', 'tab20b_r', 'tab20c', 'tab20c_r', 'terrain', 'terrain_r', 'viridis', 'viridis_r', 'winter', 'winter_r'), rows=1, value=None), HTML(value='<img src=\"data:image/gif;base64,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\"/>'))))), VBox(children=(HTML(value='<p><hr/><h3>hidden bank:</h3></p>'), Checkbox(value=True, description='Visible'), HBox(children=(Select(description='Colormap:', options=('Accent', 'Accent_r', 'Blues', 'Blues_r', 'BrBG', 'BrBG_r', 'BuGn', 'BuGn_r', 'BuPu', 'BuPu_r', 'CMRmap', 'CMRmap_r', 'Dark2', 'Dark2_r', 'GnBu', 'GnBu_r', 'Greens', 'Greens_r', 'Greys', 'Greys_r', 'OrRd', 'OrRd_r', 'Oranges', 'Oranges_r', 'PRGn', 'PRGn_r', 'Paired', 'Paired_r', 'Pastel1', 'Pastel1_r', 'Pastel2', 'Pastel2_r', 'PiYG', 'PiYG_r', 'PuBu', 'PuBuGn', 'PuBuGn_r', 'PuBu_r', 'PuOr', 'PuOr_r', 'PuRd', 'PuRd_r', 'Purples', 'Purples_r', 'RdBu', 'RdBu_r', 'RdGy', 'RdGy_r', 'RdPu', 'RdPu_r', 'RdYlBu', 'RdYlBu_r', 'RdYlGn', 'RdYlGn_r', 'Reds', 'Reds_r', 'Set1', 'Set1_r', 'Set2', 'Set2_r', 'Set3', 'Set3_r', 'Spectral', 'Spectral_r', 'Vega10', 'Vega10_r', 'Vega20', 'Vega20_r', 'Vega20b', 'Vega20b_r', 'Vega20c', 'Vega20c_r', 'Wistia', 'Wistia_r', 'YlGn', 'YlGnBu', 'YlGnBu_r', 'YlGn_r', 'YlOrBr', 'YlOrBr_r', 'YlOrRd', 'YlOrRd_r', 'afmhot', 'afmhot_r', 'autumn', 'autumn_r', 'binary', 'binary_r', 'bone', 'bone_r', 'brg', 'brg_r', 'bwr', 'bwr_r', 'cool', 'cool_r', 'coolwarm', 'coolwarm_r', 'copper', 'copper_r', 'cubehelix', 'cubehelix_r', 'flag', 'flag_r', 'gist_earth', 'gist_earth_r', 'gist_gray', 'gist_gray_r', 'gist_heat', 'gist_heat_r', 'gist_ncar', 'gist_ncar_r', 'gist_rainbow', 'gist_rainbow_r', 'gist_stern', 'gist_stern_r', 'gist_yarg', 'gist_yarg_r', 'gnuplot', 'gnuplot2', 'gnuplot2_r', 'gnuplot_r', 'gray', 'gray_r', 'hot', 'hot_r', 'hsv', 'hsv_r', 'inferno', 'inferno_r', 'jet', 'jet_r', 'magma', 'magma_r', 'nipy_spectral', 'nipy_spectral_r', 'ocean', 'ocean_r', 'pink', 'pink_r', 'plasma', 'plasma_r', 'prism', 'prism_r', 'rainbow', 'rainbow_r', 'seismic', 'seismic_r', 'spectral', 'spectral_r', 'spring', 'spring_r', 'summer', 'summer_r', 'tab10', 'tab10_r', 'tab20', 'tab20_r', 'tab20b', 'tab20b_r', 'tab20c', 'tab20c_r', 'terrain', 'terrain_r', 'viridis', 'viridis_r', 'winter', 'winter_r'), rows=1, value=None), HTML(value='<img src=\"data:image/gif;base64,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\"/>'))))), VBox(children=(HTML(value='<p><hr/><h3>input bank:</h3></p>'), Checkbox(value=True, description='Visible'), HBox(children=(Select(description='Colormap:', options=('Accent', 'Accent_r', 'Blues', 'Blues_r', 'BrBG', 'BrBG_r', 'BuGn', 'BuGn_r', 'BuPu', 'BuPu_r', 'CMRmap', 'CMRmap_r', 'Dark2', 'Dark2_r', 'GnBu', 'GnBu_r', 'Greens', 'Greens_r', 'Greys', 'Greys_r', 'OrRd', 'OrRd_r', 'Oranges', 'Oranges_r', 'PRGn', 'PRGn_r', 'Paired', 'Paired_r', 'Pastel1', 'Pastel1_r', 'Pastel2', 'Pastel2_r', 'PiYG', 'PiYG_r', 'PuBu', 'PuBuGn', 'PuBuGn_r', 'PuBu_r', 'PuOr', 'PuOr_r', 'PuRd', 'PuRd_r', 'Purples', 'Purples_r', 'RdBu', 'RdBu_r', 'RdGy', 'RdGy_r', 'RdPu', 'RdPu_r', 'RdYlBu', 'RdYlBu_r', 'RdYlGn', 'RdYlGn_r', 'Reds', 'Reds_r', 'Set1', 'Set1_r', 'Set2', 'Set2_r', 'Set3', 'Set3_r', 'Spectral', 'Spectral_r', 'Vega10', 'Vega10_r', 'Vega20', 'Vega20_r', 'Vega20b', 'Vega20b_r', 'Vega20c', 'Vega20c_r', 'Wistia', 'Wistia_r', 'YlGn', 'YlGnBu', 'YlGnBu_r', 'YlGn_r', 'YlOrBr', 'YlOrBr_r', 'YlOrRd', 'YlOrRd_r', 'afmhot', 'afmhot_r', 'autumn', 'autumn_r', 'binary', 'binary_r', 'bone', 'bone_r', 'brg', 'brg_r', 'bwr', 'bwr_r', 'cool', 'cool_r', 'coolwarm', 'coolwarm_r', 'copper', 'copper_r', 'cubehelix', 'cubehelix_r', 'flag', 'flag_r', 'gist_earth', 'gist_earth_r', 'gist_gray', 'gist_gray_r', 'gist_heat', 'gist_heat_r', 'gist_ncar', 'gist_ncar_r', 'gist_rainbow', 'gist_rainbow_r', 'gist_stern', 'gist_stern_r', 'gist_yarg', 'gist_yarg_r', 'gnuplot', 'gnuplot2', 'gnuplot2_r', 'gnuplot_r', 'gray', 'gray_r', 'hot', 'hot_r', 'hsv', 'hsv_r', 'inferno', 'inferno_r', 'jet', 'jet_r', 'magma', 'magma_r', 'nipy_spectral', 'nipy_spectral_r', 'ocean', 'ocean_r', 'pink', 'pink_r', 'plasma', 'plasma_r', 'prism', 'prism_r', 'rainbow', 'rainbow_r', 'seismic', 'seismic_r', 'spectral', 'spectral_r', 'spring', 'spring_r', 'summer', 'summer_r', 'tab10', 'tab10_r', 'tab20', 'tab20_r', 'tab20b', 'tab20b_r', 'tab20c', 'tab20c_r', 'terrain', 'terrain_r', 'viridis', 'viridis_r', 'winter', 'winter_r'), rows=1, value=None), HTML(value='<img src=\"data:image/gif;base64,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\"/>')))))), _titles={'0': 'Network configuration', '3': 'input bank', '2': 'hidden bank', '1': 'output bank'}),), layout=Layout(overflow_y='auto', width='95%')), HTML(value='<iframe src=\"https://conx.readthedocs.io\" width=\"100%\" height=\"550px\"></frame>', layout=Layout(height='550px', width='95%'))), _titles={'0': 'Network', '2': 'Help', '1': 'Configuration'})"
      ]
     },
     "metadata": {},
     "output_type": "display_data"
    }
   ],
   "source": [
    "net.dashboard()"
   ]
  },
  {
   "cell_type": "code",
   "execution_count": 9,
   "metadata": {},
   "outputs": [
    {
     "data": {
      "text/plain": [
       "[0.7129254937171936]"
      ]
     },
     "execution_count": 9,
     "metadata": {},
     "output_type": "execute_result"
    }
   ],
   "source": [
    "net.propagate([0, 0])"
   ]
  },
  {
   "cell_type": "code",
   "execution_count": 10,
   "metadata": {},
   "outputs": [
    {
     "name": "stdout",
     "output_type": "stream",
     "text": [
      "Training...\n",
      "Epoch #    1 | train loss 0.28791 | train accuracy 0.50000 \n",
      "Epoch #   26 | train loss 0.25325 | train accuracy 0.25000 \n",
      "Epoch #   51 | train loss 0.25000 | train accuracy 0.50000 \n",
      "Epoch #   76 | train loss 0.24939 | train accuracy 0.50000 \n",
      "Epoch #  101 | train loss 0.24891 | train accuracy 0.50000 \n",
      "Epoch #  126 | train loss 0.24831 | train accuracy 0.50000 \n",
      "Epoch #  151 | train loss 0.24734 | train accuracy 0.75000 \n",
      "Epoch #  176 | train loss 0.24556 | train accuracy 0.75000 \n",
      "Epoch #  201 | train loss 0.24202 | train accuracy 0.75000 \n",
      "Epoch #  226 | train loss 0.23466 | train accuracy 0.75000 \n",
      "Epoch #  251 | train loss 0.21909 | train accuracy 0.75000 \n",
      "Epoch #  276 | train loss 0.18461 | train accuracy 0.75000 \n",
      "========================================================================\n",
      "Epoch #  284 | train loss 0.16644 | train accuracy 1.00000 \n"
     ]
    }
   ],
   "source": [
    "net.train(epochs=2000, accuracy=1.0, report_rate=25)"
   ]
  },
  {
   "cell_type": "code",
   "execution_count": 11,
   "metadata": {},
   "outputs": [
    {
     "name": "stdout",
     "output_type": "stream",
     "text": [
      "Testing entire dataset...\n",
      "# | inputs | targets | outputs | result\n",
      "---------------------------------------\n",
      "0 | [0.00,0.00] | [0.00] | [0.41] | correct\n",
      "1 | [0.00,1.00] | [1.00] | [0.67] | correct\n",
      "2 | [1.00,0.00] | [1.00] | [0.51] | correct\n",
      "3 | [1.00,1.00] | [0.00] | [0.37] | correct\n",
      "Total count: 4\n",
      "      correct: 4\n",
      "      incorrect: 0\n",
      "Total percentage correct: 1.0\n"
     ]
    }
   ],
   "source": [
    "net.test()"
   ]
  },
  {
   "cell_type": "code",
   "execution_count": 12,
   "metadata": {},
   "outputs": [
    {
     "data": {
      "text/plain": [
       "[0.0, 1.0]"
      ]
     },
     "execution_count": 12,
     "metadata": {},
     "output_type": "execute_result"
    }
   ],
   "source": [
    "net.propagate_to(\"input\", [0, 1])"
   ]
  },
  {
   "cell_type": "code",
   "execution_count": 13,
   "metadata": {},
   "outputs": [
    {
     "data": {
      "text/plain": [
       "[0.3880871832370758]"
      ]
     },
     "execution_count": 13,
     "metadata": {},
     "output_type": "execute_result"
    }
   ],
   "source": [
    "net.propagate([0.5, 0.5])"
   ]
  },
  {
   "cell_type": "code",
   "execution_count": 14,
   "metadata": {},
   "outputs": [
    {
     "data": {
      "text/plain": [
       "[0.07694508880376816,\n",
       " 0.9931868314743042,\n",
       " 0.22208942472934723,\n",
       " 0.6617006659507751]"
      ]
     },
     "execution_count": 14,
     "metadata": {},
     "output_type": "execute_result"
    }
   ],
   "source": [
    "net.propagate_to(\"hidden\", [1, 0])"
   ]
  },
  {
   "cell_type": "code",
   "execution_count": 15,
   "metadata": {},
   "outputs": [
    {
     "data": {
      "text/plain": [
       "[0.36646634340286255]"
      ]
     },
     "execution_count": 15,
     "metadata": {},
     "output_type": "execute_result"
    }
   ],
   "source": [
    "net.propagate_to(\"output\", [1, 1])"
   ]
  },
  {
   "cell_type": "code",
   "execution_count": 16,
   "metadata": {},
   "outputs": [
    {
     "data": {
      "text/plain": [
       "[0.25, 0.25]"
      ]
     },
     "execution_count": 16,
     "metadata": {},
     "output_type": "execute_result"
    }
   ],
   "source": [
    "net.propagate_to(\"input\", [0.25, 0.25])"
   ]
  },
  {
   "cell_type": "code",
   "execution_count": 17,
   "metadata": {},
   "outputs": [
    {
     "data": {
      "text/plain": [
       "[0.27918833]"
      ]
     },
     "execution_count": 17,
     "metadata": {},
     "output_type": "execute_result"
    }
   ],
   "source": [
    "net.propagate_from(\"input\", [1.0, 1.0])"
   ]
  },
  {
   "cell_type": "code",
   "execution_count": 18,
   "metadata": {},
   "outputs": [
    {
     "data": {
      "text/plain": [
       "[0.82524538]"
      ]
     },
     "execution_count": 18,
     "metadata": {},
     "output_type": "execute_result"
    }
   ],
   "source": [
    "net.propagate_from(\"hidden\", [1.0, 0.0, 1.0, -1.0])"
   ]
  },
  {
   "cell_type": "code",
   "execution_count": 19,
   "metadata": {},
   "outputs": [
    {
     "name": "stdout",
     "output_type": "stream",
     "text": [
      "Testing entire dataset...\n",
      "# | inputs | targets | outputs | result\n",
      "---------------------------------------\n",
      "0 | [0.00,0.00] | [0.00] | [0.41] | correct\n",
      "1 | [0.00,1.00] | [1.00] | [0.67] | correct\n",
      "2 | [1.00,0.00] | [1.00] | [0.51] | correct\n",
      "3 | [1.00,1.00] | [0.00] | [0.37] | correct\n",
      "Total count: 4\n",
      "      correct: 4\n",
      "      incorrect: 0\n",
      "Total percentage correct: 1.0\n"
     ]
    }
   ],
   "source": [
    "net.test()"
   ]
  },
  {
   "cell_type": "code",
   "execution_count": 20,
   "metadata": {},
   "outputs": [],
   "source": [
    "from conx import Network, Layer, SGD"
   ]
  },
  {
   "cell_type": "code",
   "execution_count": 21,
   "metadata": {},
   "outputs": [],
   "source": [
    "net = Network(\"XOR2 Network\")\n",
    "net.add(Layer(\"input1\", 1))\n",
    "net.add(Layer(\"input2\", 1))\n",
    "net.add(Layer(\"hidden1\", 10, activation=\"sigmoid\"))\n",
    "net.add(Layer(\"hidden2\", 10, activation=\"sigmoid\"))\n",
    "net.add(Layer(\"shared-hidden\", 5, activation=\"sigmoid\"))\n",
    "net.add(Layer(\"output1\", 1, activation=\"sigmoid\", minmax=(-1,1)))\n",
    "net.add(Layer(\"output2\", 1, activation=\"sigmoid\", minmax=(-1,1)))"
   ]
  },
  {
   "cell_type": "code",
   "execution_count": 22,
   "metadata": {},
   "outputs": [
    {
     "data": {
      "text/plain": [
       "<Network name='XOR2 Network' (uncompiled)>"
      ]
     },
     "execution_count": 22,
     "metadata": {},
     "output_type": "execute_result"
    }
   ],
   "source": [
    "net"
   ]
  },
  {
   "cell_type": "code",
   "execution_count": 23,
   "metadata": {},
   "outputs": [],
   "source": [
    "net.connect(\"input1\", \"hidden1\")\n",
    "net.connect(\"input2\", \"hidden2\")\n",
    "net.connect(\"hidden1\", \"shared-hidden\")\n",
    "net.connect(\"hidden2\", \"shared-hidden\")\n",
    "net.connect(\"shared-hidden\", \"output1\")\n",
    "net.connect(\"shared-hidden\", \"output2\")"
   ]
  },
  {
   "cell_type": "code",
   "execution_count": 24,
   "metadata": {},
   "outputs": [
    {
     "data": {
      "text/plain": [
       "[<Layer name='input1', shape=(1,), act='None'>]"
      ]
     },
     "execution_count": 24,
     "metadata": {},
     "output_type": "execute_result"
    }
   ],
   "source": [
    "net.layers[2].incoming_connections"
   ]
  },
  {
   "cell_type": "code",
   "execution_count": 25,
   "metadata": {},
   "outputs": [],
   "source": [
    "net.compile(loss='mean_squared_error',\n",
    "            optimizer=SGD(lr=0.3, momentum=0.9))"
   ]
  },
  {
   "cell_type": "code",
   "execution_count": 26,
   "metadata": {},
   "outputs": [
    {
     "data": {
      "application/javascript": [
       "\n",
       "require(['base/js/namespace'], function(Jupyter) {\n",
       "    Jupyter.notebook.kernel.comm_manager.register_target('conx_svg_control', function(comm, msg) {\n",
       "        comm.on_msg(function(msg) {\n",
       "            var data = msg[\"content\"][\"data\"];\n",
       "            var images = document.getElementsByClassName(data[\"class\"]);\n",
       "            for (var i = 0; i < images.length; i++) {\n",
       "                if (data[\"href\"]) {\n",
       "                    images[i].setAttributeNS(null, \"href\", data[\"href\"]);\n",
       "                }\n",
       "                if (data[\"src\"]) {\n",
       "                    images[i].setAttributeNS(null, \"src\", data[\"src\"]);\n",
       "                }\n",
       "            }\n",
       "        });\n",
       "    });\n",
       "});\n"
      ],
      "text/plain": [
       "<IPython.core.display.Javascript object>"
      ]
     },
     "metadata": {},
     "output_type": "display_data"
    },
    {
     "data": {
      "application/vnd.jupyter.widget-view+json": {
       "model_id": "41ddca0ea10a4bec929ccf88754236a7",
       "version_major": 2,
       "version_minor": 0
      },
      "text/html": [
       "<p>Failed to display Jupyter Widget of type <code>Dashboard</code>.</p>\n",
       "<p>\n",
       "  If you're reading this message in Jupyter Notebook or JupyterLab, it may mean\n",
       "  that the widgets JavaScript is still loading. If this message persists, it\n",
       "  likely means that the widgets JavaScript library is either not installed or\n",
       "  not enabled. See the <a href=\"https://ipywidgets.readthedocs.io/en/stable/user_install.html\">Jupyter\n",
       "  Widgets Documentation</a> for setup instructions.\n",
       "</p>\n",
       "<p>\n",
       "  If you're reading this message in another notebook frontend (for example, a static\n",
       "  rendering on GitHub or <a href=\"https://nbviewer.jupyter.org/\">NBViewer</a>),\n",
       "  it may mean that your frontend doesn't currently support widgets.\n",
       "</p>\n"
      ],
      "text/plain": [
       "Dashboard(children=(VBox(children=(HTML(value='<p style=\"text-align:center\"><svg id=\\'XOR2 Network\\' xmlns=\\'http://www.w3.org/2000/svg\\' viewBox=\"0 0 800 310\" height=\"780\" image-rendering=\"pixelated\">\\n    <defs>\\n        <marker id=\"arrow\" markerWidth=\"10\" markerHeight=\"10\" refX=\"9\" refY=\"3\" orient=\"auto\" markerUnits=\"strokeWidth\">\\n          <path d=\"M0,0 L0,6 L9,3 z\" fill=\"black\" />\\n        </marker>\\n    </defs><text x=\"400.0\" y=\"12.5\" font-family=\"monospace\" font-size=\"15\" text-anchor=\"middle\" alignment-baseline=\"central\">XOR2 Network</text><rect x=\"240.66666666666669\" y=\"29\" width=\"52\" height=\"52\" style=\"fill:none;stroke:black;stroke-width:2\"/><image id=\"XOR2 Network_output1_1\" class=\"XOR2 Network_output1\" x=\"241.66666666666669\" y=\"30\" height=\"50\" width=\"50\" preserveAspectRatio=\"none\" href=\"data:image/gif;base64,R0lGODdhAQABAIcAAJ3K4QAAAAAAAAAAAAAAAAAAAAAAAAAAAAAAAAAAAAAAAAAAAAAAAAAAAAAAAAAAAAAAAAAAAAAAAAAAAAAAAAAAAAAAAAAAAAAAAAAAAAAAAAAAAAAAAAAAAAAAAAAAAAAAAAAAAAAAAAAAAAAAAAAAAAAAAAAAAAAAAAAAAAAAAAAAAAAAAAAAAAAAAAAAAAAAAAAAAAAAAAAAAAAAAAAAAAAAAAAAAAAAAAAAAAAAAAAAAAAAAAAAAAAAAAAAAAAAAAAAAAAAAAAAAAAAAAAAAAAAAAAAAAAAAAAAAAAAAAAAAAAAAAAAAAAAAAAAAAAAAAAAAAAAAAAAAAAAAAAAAAAAAAAAAAAAAAAAAAAAAAAAAAAAAAAAAAAAAAAAAAAAAAAAAAAAAAAAAAAAAAAAAAAAAAAAAAAAAAAAAAAAAAAAAAAAAAAAAAAAAAAAAAAAAAAAAAAAAAAAAAAAAAAAAAAAAAAAAAAAAAAAAAAAAAAAAAAAAAAAAAAAAAAAAAAAAAAAAAAAAAAAAAAAAAAAAAAAAAAAAAAAAAAAAAAAAAAAAAAAAAAAAAAAAAAAAAAAAAAAAAAAAAAAAAAAAAAAAAAAAAAAAAAAAAAAAAAAAAAAAAAAAAAAAAAAAAAAAAAAAAAAAAAAAAAAAAAAAAAAAAAAAAAAAAAAAAAAAAAAAAAAAAAAAAAAAAAAAAAAAAAAAAAAAAAAAAAAAAAAAAAAAAAAAAAAAAAAAAAAAAAAAAAAAAAAAAAAAAAAAAAAAAAAAAAAAAAAAAAAAAAAAAAAAAAAAAAAAAAAAAAAAAAAAAAAAAAAAAAAAAAAAAAAAAAAAAAAAAAAAAAAAAAAAAAAAAAAAAAAAAAAAAAAAAAAAAAAAAAAAAAAAAAAAAAAAAAAAAAAAAAAAAAAAAAAAAAAAAAAAAAAAAAAAAAAAAAAAAAAAAAAAAAAAAAAAAAAAAAAAAAAAAAAAAAAAAAAAAAAAAAAAAAAAAAAAAAAAAAAAAAAAAAAAAAAAAAAAAAAACwAAAAAAQABAAAIBQABLAgIADs=\"><title>Layer: output1 (output)\\n shape = (1,)\\n Keras class = Dense\\n activation = sigmoid</title></image><text x=\"296.6666666666667\" y=\"57.0\" font-family=\"monospace\" font-size=\"12\" text-anchor=\"start\" alignment-baseline=\"central\">output1</text><rect x=\"507.33333333333337\" y=\"29\" width=\"52\" height=\"52\" style=\"fill:none;stroke:black;stroke-width:2\"/><image id=\"XOR2 Network_output2_2\" class=\"XOR2 Network_output2\" x=\"508.33333333333337\" y=\"30\" height=\"50\" width=\"50\" preserveAspectRatio=\"none\" href=\"data:image/gif;base64,R0lGODdhAQABAIcAAChvsAAAAAAAAAAAAAAAAAAAAAAAAAAAAAAAAAAAAAAAAAAAAAAAAAAAAAAAAAAAAAAAAAAAAAAAAAAAAAAAAAAAAAAAAAAAAAAAAAAAAAAAAAAAAAAAAAAAAAAAAAAAAAAAAAAAAAAAAAAAAAAAAAAAAAAAAAAAAAAAAAAAAAAAAAAAAAAAAAAAAAAAAAAAAAAAAAAAAAAAAAAAAAAAAAAAAAAAAAAAAAAAAAAAAAAAAAAAAAAAAAAAAAAAAAAAAAAAAAAAAAAAAAAAAAAAAAAAAAAAAAAAAAAAAAAAAAAAAAAAAAAAAAAAAAAAAAAAAAAAAAAAAAAAAAAAAAAAAAAAAAAAAAAAAAAAAAAAAAAAAAAAAAAAAAAAAAAAAAAAAAAAAAAAAAAAAAAAAAAAAAAAAAAAAAAAAAAAAAAAAAAAAAAAAAAAAAAAAAAAAAAAAAAAAAAAAAAAAAAAAAAAAAAAAAAAAAAAAAAAAAAAAAAAAAAAAAAAAAAAAAAAAAAAAAAAAAAAAAAAAAAAAAAAAAAAAAAAAAAAAAAAAAAAAAAAAAAAAAAAAAAAAAAAAAAAAAAAAAAAAAAAAAAAAAAAAAAAAAAAAAAAAAAAAAAAAAAAAAAAAAAAAAAAAAAAAAAAAAAAAAAAAAAAAAAAAAAAAAAAAAAAAAAAAAAAAAAAAAAAAAAAAAAAAAAAAAAAAAAAAAAAAAAAAAAAAAAAAAAAAAAAAAAAAAAAAAAAAAAAAAAAAAAAAAAAAAAAAAAAAAAAAAAAAAAAAAAAAAAAAAAAAAAAAAAAAAAAAAAAAAAAAAAAAAAAAAAAAAAAAAAAAAAAAAAAAAAAAAAAAAAAAAAAAAAAAAAAAAAAAAAAAAAAAAAAAAAAAAAAAAAAAAAAAAAAAAAAAAAAAAAAAAAAAAAAAAAAAAAAAAAAAAAAAAAAAAAAAAAAAAAAAAAAAAAAAAAAAAAAAAAAAAAAAAAAAAAAAAAAAAAAAAAAAAAAAAAAAAAAAAAAAAAAAAAAAAAAAAAAACwAAAAAAQABAAAIBQABLAgIADs=\"><title>Layer: output2 (output)\\n shape = (1,)\\n Keras class = Dense\\n activation = sigmoid</title></image><text x=\"563.3333333333334\" y=\"57.0\" font-family=\"monospace\" font-size=\"12\" text-anchor=\"start\" alignment-baseline=\"central\">output2</text><line x1=\"400.0\" y1=\"109\" x2=\"266.6666666666667\" y2=\"82\" stroke=\"black\" stroke-width=\"2\" marker-end=\"url(#arrow)\"><title>Weights from shared-hidden to output1\\n output1/kernel has shape (5, 1)\\n output1/bias has shape (1,)</title></line><line x1=\"400.0\" y1=\"109\" x2=\"533.3333333333334\" y2=\"82\" stroke=\"black\" stroke-width=\"2\" marker-end=\"url(#arrow)\"><title>Weights from shared-hidden to output2\\n output2/kernel has shape (5, 1)\\n output2/bias has shape (1,)</title></line><rect x=\"299.0\" y=\"109\" width=\"202\" height=\"42\" style=\"fill:none;stroke:black;stroke-width:2\"/><image id=\"XOR2 Network_shared-hidden_3\" class=\"XOR2 Network_shared-hidden\" x=\"300.0\" y=\"110\" height=\"40\" width=\"200\" preserveAspectRatio=\"none\" href=\"data:image/gif;base64,R0lGODdhBQABAIcAAE2Zxh1eoTyKvmGmzQAAAAAAAAAAAAAAAAAAAAAAAAAAAAAAAAAAAAAAAAAAAAAAAAAAAAAAAAAAAAAAAAAAAAAAAAAAAAAAAAAAAAAAAAAAAAAAAAAAAAAAAAAAAAAAAAAAAAAAAAAAAAAAAAAAAAAAAAAAAAAAAAAAAAAAAAAAAAAAAAAAAAAAAAAAAAAAAAAAAAAAAAAAAAAAAAAAAAAAAAAAAAAAAAAAAAAAAAAAAAAAAAAAAAAAAAAAAAAAAAAAAAAAAAAAAAAAAAAAAAAAAAAAAAAAAAAAAAAAAAAAAAAAAAAAAAAAAAAAAAAAAAAAAAAAAAAAAAAAAAAAAAAAAAAAAAAAAAAAAAAAAAAAAAAAAAAAAAAAAAAAAAAAAAAAAAAAAAAAAAAAAAAAAAAAAAAAAAAAAAAAAAAAAAAAAAAAAAAAAAAAAAAAAAAAAAAAAAAAAAAAAAAAAAAAAAAAAAAAAAAAAAAAAAAAAAAAAAAAAAAAAAAAAAAAAAAAAAAAAAAAAAAAAAAAAAAAAAAAAAAAAAAAAAAAAAAAAAAAAAAAAAAAAAAAAAAAAAAAAAAAAAAAAAAAAAAAAAAAAAAAAAAAAAAAAAAAAAAAAAAAAAAAAAAAAAAAAAAAAAAAAAAAAAAAAAAAAAAAAAAAAAAAAAAAAAAAAAAAAAAAAAAAAAAAAAAAAAAAAAAAAAAAAAAAAAAAAAAAAAAAAAAAAAAAAAAAAAAAAAAAAAAAAAAAAAAAAAAAAAAAAAAAAAAAAAAAAAAAAAAAAAAAAAAAAAAAAAAAAAAAAAAAAAAAAAAAAAAAAAAAAAAAAAAAAAAAAAAAAAAAAAAAAAAAAAAAAAAAAAAAAAAAAAAAAAAAAAAAAAAAAAAAAAAAAAAAAAAAAAAAAAAAAAAAAAAAAAAAAAAAAAAAAAAAAAAAAAAAAAAAAAAAAAAAAAAAAAAAAAAAAAAAAAAAAAAAAAAAAAAAAAAAAAAAAAAAAAAAAAAAAAAAAAAAAAAAAAAAAAAAAAAAACwAAAAABQABAAAICAAFDAgAAEBAADs=\"><title>Layer: shared-hidden (hidden)\\n shape = (5,)\\n Keras class = Dense\\n activation = sigmoid</title></image><text x=\"505.0\" y=\"132.0\" font-family=\"monospace\" font-size=\"12\" text-anchor=\"start\" alignment-baseline=\"central\">shared-hidden</text><line x1=\"266.6666666666667\" y1=\"179\" x2=\"400.0\" y2=\"152\" stroke=\"black\" stroke-width=\"2\" marker-end=\"url(#arrow)\"><title>Weights from hidden1 to shared-hidden\\n shared-hidden/kernel has shape (20, 5)\\n shared-hidden/bias has shape (5,)</title></line><rect x=\"165.66666666666669\" y=\"179\" width=\"202\" height=\"27\" style=\"fill:none;stroke:black;stroke-width:2\"/><image id=\"XOR2 Network_hidden1_4\" class=\"XOR2 Network_hidden1\" x=\"166.66666666666669\" y=\"180\" height=\"25\" width=\"200\" preserveAspectRatio=\"none\" href=\"data:image/gif;base64,R0lGODdhCgABAIcAAGus0AAAAAAAAAAAAAAAAAAAAAAAAAAAAAAAAAAAAAAAAAAAAAAAAAAAAAAAAAAAAAAAAAAAAAAAAAAAAAAAAAAAAAAAAAAAAAAAAAAAAAAAAAAAAAAAAAAAAAAAAAAAAAAAAAAAAAAAAAAAAAAAAAAAAAAAAAAAAAAAAAAAAAAAAAAAAAAAAAAAAAAAAAAAAAAAAAAAAAAAAAAAAAAAAAAAAAAAAAAAAAAAAAAAAAAAAAAAAAAAAAAAAAAAAAAAAAAAAAAAAAAAAAAAAAAAAAAAAAAAAAAAAAAAAAAAAAAAAAAAAAAAAAAAAAAAAAAAAAAAAAAAAAAAAAAAAAAAAAAAAAAAAAAAAAAAAAAAAAAAAAAAAAAAAAAAAAAAAAAAAAAAAAAAAAAAAAAAAAAAAAAAAAAAAAAAAAAAAAAAAAAAAAAAAAAAAAAAAAAAAAAAAAAAAAAAAAAAAAAAAAAAAAAAAAAAAAAAAAAAAAAAAAAAAAAAAAAAAAAAAAAAAAAAAAAAAAAAAAAAAAAAAAAAAAAAAAAAAAAAAAAAAAAAAAAAAAAAAAAAAAAAAAAAAAAAAAAAAAAAAAAAAAAAAAAAAAAAAAAAAAAAAAAAAAAAAAAAAAAAAAAAAAAAAAAAAAAAAAAAAAAAAAAAAAAAAAAAAAAAAAAAAAAAAAAAAAAAAAAAAAAAAAAAAAAAAAAAAAAAAAAAAAAAAAAAAAAAAAAAAAAAAAAAAAAAAAAAAAAAAAAAAAAAAAAAAAAAAAAAAAAAAAAAAAAAAAAAAAAAAAAAAAAAAAAAAAAAAAAAAAAAAAAAAAAAAAAAAAAAAAAAAAAAAAAAAAAAAAAAAAAAAAAAAAAAAAAAAAAAAAAAAAAAAAAAAAAAAAAAAAAAAAAAAAAAAAAAAAAAAAAAAAAAAAAAAAAAAAAAAAAAAAAAAAAAAAAAAAAAAAAAAAAAAAAAAAAAAAAAAAAAAAAAAAAAAAAAAAAAAAAAAAAAAAAAAAAAAAAAAAAAAAAAAAAAAAAAAAAAACwAAAAACgABAAAIBwABCBxIMCAAOw==\"><title>Layer: hidden1 (hidden)\\n shape = (10,)\\n Keras class = Dense\\n activation = sigmoid</title></image><text x=\"371.6666666666667\" y=\"194.5\" font-family=\"monospace\" font-size=\"12\" text-anchor=\"start\" alignment-baseline=\"central\">hidden1</text><line x1=\"533.3333333333334\" y1=\"179\" x2=\"400.0\" y2=\"152\" stroke=\"black\" stroke-width=\"2\" marker-end=\"url(#arrow)\"><title>Weights from hidden2 to shared-hidden\\n shared-hidden/kernel has shape (20, 5)\\n shared-hidden/bias has shape (5,)</title></line><rect x=\"432.33333333333337\" y=\"179\" width=\"202\" height=\"27\" style=\"fill:none;stroke:black;stroke-width:2\"/><image id=\"XOR2 Network_hidden2_5\" class=\"XOR2 Network_hidden2\" x=\"433.33333333333337\" y=\"180\" height=\"25\" width=\"200\" preserveAspectRatio=\"none\" href=\"data:image/gif;base64,R0lGODdhCgABAIcAAGus0AAAAAAAAAAAAAAAAAAAAAAAAAAAAAAAAAAAAAAAAAAAAAAAAAAAAAAAAAAAAAAAAAAAAAAAAAAAAAAAAAAAAAAAAAAAAAAAAAAAAAAAAAAAAAAAAAAAAAAAAAAAAAAAAAAAAAAAAAAAAAAAAAAAAAAAAAAAAAAAAAAAAAAAAAAAAAAAAAAAAAAAAAAAAAAAAAAAAAAAAAAAAAAAAAAAAAAAAAAAAAAAAAAAAAAAAAAAAAAAAAAAAAAAAAAAAAAAAAAAAAAAAAAAAAAAAAAAAAAAAAAAAAAAAAAAAAAAAAAAAAAAAAAAAAAAAAAAAAAAAAAAAAAAAAAAAAAAAAAAAAAAAAAAAAAAAAAAAAAAAAAAAAAAAAAAAAAAAAAAAAAAAAAAAAAAAAAAAAAAAAAAAAAAAAAAAAAAAAAAAAAAAAAAAAAAAAAAAAAAAAAAAAAAAAAAAAAAAAAAAAAAAAAAAAAAAAAAAAAAAAAAAAAAAAAAAAAAAAAAAAAAAAAAAAAAAAAAAAAAAAAAAAAAAAAAAAAAAAAAAAAAAAAAAAAAAAAAAAAAAAAAAAAAAAAAAAAAAAAAAAAAAAAAAAAAAAAAAAAAAAAAAAAAAAAAAAAAAAAAAAAAAAAAAAAAAAAAAAAAAAAAAAAAAAAAAAAAAAAAAAAAAAAAAAAAAAAAAAAAAAAAAAAAAAAAAAAAAAAAAAAAAAAAAAAAAAAAAAAAAAAAAAAAAAAAAAAAAAAAAAAAAAAAAAAAAAAAAAAAAAAAAAAAAAAAAAAAAAAAAAAAAAAAAAAAAAAAAAAAAAAAAAAAAAAAAAAAAAAAAAAAAAAAAAAAAAAAAAAAAAAAAAAAAAAAAAAAAAAAAAAAAAAAAAAAAAAAAAAAAAAAAAAAAAAAAAAAAAAAAAAAAAAAAAAAAAAAAAAAAAAAAAAAAAAAAAAAAAAAAAAAAAAAAAAAAAAAAAAAAAAAAAAAAAAAAAAAAAAAAAAAAAAAAAAAAAAAAAAAAAAAAAAAAAAAAAAAAAAAACwAAAAACgABAAAIBwABCBxIMCAAOw==\"><title>Layer: hidden2 (hidden)\\n shape = (10,)\\n Keras class = Dense\\n activation = sigmoid</title></image><text x=\"638.3333333333334\" y=\"194.5\" font-family=\"monospace\" font-size=\"12\" text-anchor=\"start\" alignment-baseline=\"central\">hidden2</text><line x1=\"266.6666666666667\" y1=\"234\" x2=\"266.6666666666667\" y2=\"207\" stroke=\"black\" stroke-width=\"2\" marker-end=\"url(#arrow)\"><title>Weights from input1 to hidden1\\n hidden1/kernel has shape (1, 10)\\n hidden1/bias has shape (10,)</title></line><rect x=\"240.66666666666669\" y=\"234\" width=\"52\" height=\"52\" style=\"fill:none;stroke:black;stroke-width:2\"/><image id=\"XOR2 Network_input1_6\" class=\"XOR2 Network_input1\" x=\"241.66666666666669\" y=\"235\" height=\"50\" width=\"50\" preserveAspectRatio=\"none\" href=\"data:image/gif;base64,R0lGODdhAQABAIcAAPf29gAAAAAAAAAAAAAAAAAAAAAAAAAAAAAAAAAAAAAAAAAAAAAAAAAAAAAAAAAAAAAAAAAAAAAAAAAAAAAAAAAAAAAAAAAAAAAAAAAAAAAAAAAAAAAAAAAAAAAAAAAAAAAAAAAAAAAAAAAAAAAAAAAAAAAAAAAAAAAAAAAAAAAAAAAAAAAAAAAAAAAAAAAAAAAAAAAAAAAAAAAAAAAAAAAAAAAAAAAAAAAAAAAAAAAAAAAAAAAAAAAAAAAAAAAAAAAAAAAAAAAAAAAAAAAAAAAAAAAAAAAAAAAAAAAAAAAAAAAAAAAAAAAAAAAAAAAAAAAAAAAAAAAAAAAAAAAAAAAAAAAAAAAAAAAAAAAAAAAAAAAAAAAAAAAAAAAAAAAAAAAAAAAAAAAAAAAAAAAAAAAAAAAAAAAAAAAAAAAAAAAAAAAAAAAAAAAAAAAAAAAAAAAAAAAAAAAAAAAAAAAAAAAAAAAAAAAAAAAAAAAAAAAAAAAAAAAAAAAAAAAAAAAAAAAAAAAAAAAAAAAAAAAAAAAAAAAAAAAAAAAAAAAAAAAAAAAAAAAAAAAAAAAAAAAAAAAAAAAAAAAAAAAAAAAAAAAAAAAAAAAAAAAAAAAAAAAAAAAAAAAAAAAAAAAAAAAAAAAAAAAAAAAAAAAAAAAAAAAAAAAAAAAAAAAAAAAAAAAAAAAAAAAAAAAAAAAAAAAAAAAAAAAAAAAAAAAAAAAAAAAAAAAAAAAAAAAAAAAAAAAAAAAAAAAAAAAAAAAAAAAAAAAAAAAAAAAAAAAAAAAAAAAAAAAAAAAAAAAAAAAAAAAAAAAAAAAAAAAAAAAAAAAAAAAAAAAAAAAAAAAAAAAAAAAAAAAAAAAAAAAAAAAAAAAAAAAAAAAAAAAAAAAAAAAAAAAAAAAAAAAAAAAAAAAAAAAAAAAAAAAAAAAAAAAAAAAAAAAAAAAAAAAAAAAAAAAAAAAAAAAAAAAAAAAAAAAAAAAAAAAAAAAAAAAAAAAAAAAAAAAAAAAAAAAAAAAAAAAAACwAAAAAAQABAAAIBQABLAgIADs=\"><title>Layer: input1 (input)\\n shape = (1,)\\n Keras class = Input</title></image><text x=\"296.6666666666667\" y=\"262.0\" font-family=\"monospace\" font-size=\"12\" text-anchor=\"start\" alignment-baseline=\"central\">input1</text><line x1=\"533.3333333333334\" y1=\"234\" x2=\"533.3333333333334\" y2=\"207\" stroke=\"black\" stroke-width=\"2\" marker-end=\"url(#arrow)\"><title>Weights from input2 to hidden2\\n hidden2/kernel has shape (1, 10)\\n hidden2/bias has shape (10,)</title></line><rect x=\"507.33333333333337\" y=\"234\" width=\"52\" height=\"52\" style=\"fill:none;stroke:black;stroke-width:2\"/><image id=\"XOR2 Network_input2_7\" class=\"XOR2 Network_input2\" x=\"508.33333333333337\" y=\"235\" height=\"50\" width=\"50\" preserveAspectRatio=\"none\" href=\"data:image/gif;base64,R0lGODdhAQABAIcAAPf29gAAAAAAAAAAAAAAAAAAAAAAAAAAAAAAAAAAAAAAAAAAAAAAAAAAAAAAAAAAAAAAAAAAAAAAAAAAAAAAAAAAAAAAAAAAAAAAAAAAAAAAAAAAAAAAAAAAAAAAAAAAAAAAAAAAAAAAAAAAAAAAAAAAAAAAAAAAAAAAAAAAAAAAAAAAAAAAAAAAAAAAAAAAAAAAAAAAAAAAAAAAAAAAAAAAAAAAAAAAAAAAAAAAAAAAAAAAAAAAAAAAAAAAAAAAAAAAAAAAAAAAAAAAAAAAAAAAAAAAAAAAAAAAAAAAAAAAAAAAAAAAAAAAAAAAAAAAAAAAAAAAAAAAAAAAAAAAAAAAAAAAAAAAAAAAAAAAAAAAAAAAAAAAAAAAAAAAAAAAAAAAAAAAAAAAAAAAAAAAAAAAAAAAAAAAAAAAAAAAAAAAAAAAAAAAAAAAAAAAAAAAAAAAAAAAAAAAAAAAAAAAAAAAAAAAAAAAAAAAAAAAAAAAAAAAAAAAAAAAAAAAAAAAAAAAAAAAAAAAAAAAAAAAAAAAAAAAAAAAAAAAAAAAAAAAAAAAAAAAAAAAAAAAAAAAAAAAAAAAAAAAAAAAAAAAAAAAAAAAAAAAAAAAAAAAAAAAAAAAAAAAAAAAAAAAAAAAAAAAAAAAAAAAAAAAAAAAAAAAAAAAAAAAAAAAAAAAAAAAAAAAAAAAAAAAAAAAAAAAAAAAAAAAAAAAAAAAAAAAAAAAAAAAAAAAAAAAAAAAAAAAAAAAAAAAAAAAAAAAAAAAAAAAAAAAAAAAAAAAAAAAAAAAAAAAAAAAAAAAAAAAAAAAAAAAAAAAAAAAAAAAAAAAAAAAAAAAAAAAAAAAAAAAAAAAAAAAAAAAAAAAAAAAAAAAAAAAAAAAAAAAAAAAAAAAAAAAAAAAAAAAAAAAAAAAAAAAAAAAAAAAAAAAAAAAAAAAAAAAAAAAAAAAAAAAAAAAAAAAAAAAAAAAAAAAAAAAAAAAAAAAAAAAAAAAAAAAAAAAAAAAAAAAAAAAAAAAAAAAACwAAAAAAQABAAAIBQABLAgIADs=\"><title>Layer: input2 (input)\\n shape = (1,)\\n Keras class = Input</title></image><text x=\"563.3333333333334\" y=\"262.0\" font-family=\"monospace\" font-size=\"12\" text-anchor=\"start\" alignment-baseline=\"central\">input2</text></svg></p>', layout=Layout(height='550px', justify_content='center', overflow_x='auto', width='95%')), VBox(children=(HBox(children=(Select(description='Dataset:', index=1, options=('Test', 'Train'), rows=1, value='Train'), Select(description='Features:', options=('',), rows=1, value=''), Button(icon='refresh', layout=Layout(width='40px'), style=ButtonStyle())), layout=Layout(height='40px')), HBox(children=(IntSlider(value=0, continuous_update=False, description='Dataset index', layout=Layout(width='95%'), max=0), Label(value='of 0', layout=Layout(width='100px'))), layout=Layout(height='40px')), HBox(children=(Button(icon='fast-backward', layout=Layout(width='100%'), style=ButtonStyle()), Button(icon='backward', layout=Layout(width='100%'), style=ButtonStyle()), IntText(value=0, layout=Layout(width='100%')), Button(icon='forward', layout=Layout(width='100%'), style=ButtonStyle()), Button(icon='fast-forward', layout=Layout(width='100%'), style=ButtonStyle()), Button(description='Play', icon='play', layout=Layout(width='100%'), style=ButtonStyle())), layout=Layout(height='50px', width='100%'))), layout=Layout(width='95%'))), layout=Layout(width='95%')), VBox(children=(Accordion(children=(VBox(children=(HTML(value='<p><h3>Network display:</h3></p>'), FloatSlider(value=1.0, continuous_update=False, description='Zoom', max=3.0, min=0.5), IntText(value=200, description='Horizontal space between banks:', style=DescriptionStyle(description_width='initial')), IntText(value=30, description='Vertical space between layers:', style=DescriptionStyle(description_width='initial')), Checkbox(value=False, description='Show Targets'), Checkbox(value=False, description='Show Errors'), IntText(value=3, description='Feature columns'), FloatText(value=2.0, description='Feature scale'))), VBox(children=(HTML(value='<p><hr/><h3>output2 bank:</h3></p>'), Checkbox(value=True, description='Visible'), HBox(children=(Select(description='Colormap:', options=('Accent', 'Accent_r', 'Blues', 'Blues_r', 'BrBG', 'BrBG_r', 'BuGn', 'BuGn_r', 'BuPu', 'BuPu_r', 'CMRmap', 'CMRmap_r', 'Dark2', 'Dark2_r', 'GnBu', 'GnBu_r', 'Greens', 'Greens_r', 'Greys', 'Greys_r', 'OrRd', 'OrRd_r', 'Oranges', 'Oranges_r', 'PRGn', 'PRGn_r', 'Paired', 'Paired_r', 'Pastel1', 'Pastel1_r', 'Pastel2', 'Pastel2_r', 'PiYG', 'PiYG_r', 'PuBu', 'PuBuGn', 'PuBuGn_r', 'PuBu_r', 'PuOr', 'PuOr_r', 'PuRd', 'PuRd_r', 'Purples', 'Purples_r', 'RdBu', 'RdBu_r', 'RdGy', 'RdGy_r', 'RdPu', 'RdPu_r', 'RdYlBu', 'RdYlBu_r', 'RdYlGn', 'RdYlGn_r', 'Reds', 'Reds_r', 'Set1', 'Set1_r', 'Set2', 'Set2_r', 'Set3', 'Set3_r', 'Spectral', 'Spectral_r', 'Vega10', 'Vega10_r', 'Vega20', 'Vega20_r', 'Vega20b', 'Vega20b_r', 'Vega20c', 'Vega20c_r', 'Wistia', 'Wistia_r', 'YlGn', 'YlGnBu', 'YlGnBu_r', 'YlGn_r', 'YlOrBr', 'YlOrBr_r', 'YlOrRd', 'YlOrRd_r', 'afmhot', 'afmhot_r', 'autumn', 'autumn_r', 'binary', 'binary_r', 'bone', 'bone_r', 'brg', 'brg_r', 'bwr', 'bwr_r', 'cool', 'cool_r', 'coolwarm', 'coolwarm_r', 'copper', 'copper_r', 'cubehelix', 'cubehelix_r', 'flag', 'flag_r', 'gist_earth', 'gist_earth_r', 'gist_gray', 'gist_gray_r', 'gist_heat', 'gist_heat_r', 'gist_ncar', 'gist_ncar_r', 'gist_rainbow', 'gist_rainbow_r', 'gist_stern', 'gist_stern_r', 'gist_yarg', 'gist_yarg_r', 'gnuplot', 'gnuplot2', 'gnuplot2_r', 'gnuplot_r', 'gray', 'gray_r', 'hot', 'hot_r', 'hsv', 'hsv_r', 'inferno', 'inferno_r', 'jet', 'jet_r', 'magma', 'magma_r', 'nipy_spectral', 'nipy_spectral_r', 'ocean', 'ocean_r', 'pink', 'pink_r', 'plasma', 'plasma_r', 'prism', 'prism_r', 'rainbow', 'rainbow_r', 'seismic', 'seismic_r', 'spectral', 'spectral_r', 'spring', 'spring_r', 'summer', 'summer_r', 'tab10', 'tab10_r', 'tab20', 'tab20_r', 'tab20b', 'tab20b_r', 'tab20c', 'tab20c_r', 'terrain', 'terrain_r', 'viridis', 'viridis_r', 'winter', 'winter_r'), rows=1, value=None), HTML(value='<img src=\"data:image/gif;base64,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\"/>'))))), VBox(children=(HTML(value='<p><hr/><h3>output1 bank:</h3></p>'), Checkbox(value=True, description='Visible'), HBox(children=(Select(description='Colormap:', options=('Accent', 'Accent_r', 'Blues', 'Blues_r', 'BrBG', 'BrBG_r', 'BuGn', 'BuGn_r', 'BuPu', 'BuPu_r', 'CMRmap', 'CMRmap_r', 'Dark2', 'Dark2_r', 'GnBu', 'GnBu_r', 'Greens', 'Greens_r', 'Greys', 'Greys_r', 'OrRd', 'OrRd_r', 'Oranges', 'Oranges_r', 'PRGn', 'PRGn_r', 'Paired', 'Paired_r', 'Pastel1', 'Pastel1_r', 'Pastel2', 'Pastel2_r', 'PiYG', 'PiYG_r', 'PuBu', 'PuBuGn', 'PuBuGn_r', 'PuBu_r', 'PuOr', 'PuOr_r', 'PuRd', 'PuRd_r', 'Purples', 'Purples_r', 'RdBu', 'RdBu_r', 'RdGy', 'RdGy_r', 'RdPu', 'RdPu_r', 'RdYlBu', 'RdYlBu_r', 'RdYlGn', 'RdYlGn_r', 'Reds', 'Reds_r', 'Set1', 'Set1_r', 'Set2', 'Set2_r', 'Set3', 'Set3_r', 'Spectral', 'Spectral_r', 'Vega10', 'Vega10_r', 'Vega20', 'Vega20_r', 'Vega20b', 'Vega20b_r', 'Vega20c', 'Vega20c_r', 'Wistia', 'Wistia_r', 'YlGn', 'YlGnBu', 'YlGnBu_r', 'YlGn_r', 'YlOrBr', 'YlOrBr_r', 'YlOrRd', 'YlOrRd_r', 'afmhot', 'afmhot_r', 'autumn', 'autumn_r', 'binary', 'binary_r', 'bone', 'bone_r', 'brg', 'brg_r', 'bwr', 'bwr_r', 'cool', 'cool_r', 'coolwarm', 'coolwarm_r', 'copper', 'copper_r', 'cubehelix', 'cubehelix_r', 'flag', 'flag_r', 'gist_earth', 'gist_earth_r', 'gist_gray', 'gist_gray_r', 'gist_heat', 'gist_heat_r', 'gist_ncar', 'gist_ncar_r', 'gist_rainbow', 'gist_rainbow_r', 'gist_stern', 'gist_stern_r', 'gist_yarg', 'gist_yarg_r', 'gnuplot', 'gnuplot2', 'gnuplot2_r', 'gnuplot_r', 'gray', 'gray_r', 'hot', 'hot_r', 'hsv', 'hsv_r', 'inferno', 'inferno_r', 'jet', 'jet_r', 'magma', 'magma_r', 'nipy_spectral', 'nipy_spectral_r', 'ocean', 'ocean_r', 'pink', 'pink_r', 'plasma', 'plasma_r', 'prism', 'prism_r', 'rainbow', 'rainbow_r', 'seismic', 'seismic_r', 'spectral', 'spectral_r', 'spring', 'spring_r', 'summer', 'summer_r', 'tab10', 'tab10_r', 'tab20', 'tab20_r', 'tab20b', 'tab20b_r', 'tab20c', 'tab20c_r', 'terrain', 'terrain_r', 'viridis', 'viridis_r', 'winter', 'winter_r'), rows=1, value=None), HTML(value='<img src=\"data:image/gif;base64,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\"/>'))))), VBox(children=(HTML(value='<p><hr/><h3>shared-hidden bank:</h3></p>'), Checkbox(value=True, description='Visible'), HBox(children=(Select(description='Colormap:', options=('Accent', 'Accent_r', 'Blues', 'Blues_r', 'BrBG', 'BrBG_r', 'BuGn', 'BuGn_r', 'BuPu', 'BuPu_r', 'CMRmap', 'CMRmap_r', 'Dark2', 'Dark2_r', 'GnBu', 'GnBu_r', 'Greens', 'Greens_r', 'Greys', 'Greys_r', 'OrRd', 'OrRd_r', 'Oranges', 'Oranges_r', 'PRGn', 'PRGn_r', 'Paired', 'Paired_r', 'Pastel1', 'Pastel1_r', 'Pastel2', 'Pastel2_r', 'PiYG', 'PiYG_r', 'PuBu', 'PuBuGn', 'PuBuGn_r', 'PuBu_r', 'PuOr', 'PuOr_r', 'PuRd', 'PuRd_r', 'Purples', 'Purples_r', 'RdBu', 'RdBu_r', 'RdGy', 'RdGy_r', 'RdPu', 'RdPu_r', 'RdYlBu', 'RdYlBu_r', 'RdYlGn', 'RdYlGn_r', 'Reds', 'Reds_r', 'Set1', 'Set1_r', 'Set2', 'Set2_r', 'Set3', 'Set3_r', 'Spectral', 'Spectral_r', 'Vega10', 'Vega10_r', 'Vega20', 'Vega20_r', 'Vega20b', 'Vega20b_r', 'Vega20c', 'Vega20c_r', 'Wistia', 'Wistia_r', 'YlGn', 'YlGnBu', 'YlGnBu_r', 'YlGn_r', 'YlOrBr', 'YlOrBr_r', 'YlOrRd', 'YlOrRd_r', 'afmhot', 'afmhot_r', 'autumn', 'autumn_r', 'binary', 'binary_r', 'bone', 'bone_r', 'brg', 'brg_r', 'bwr', 'bwr_r', 'cool', 'cool_r', 'coolwarm', 'coolwarm_r', 'copper', 'copper_r', 'cubehelix', 'cubehelix_r', 'flag', 'flag_r', 'gist_earth', 'gist_earth_r', 'gist_gray', 'gist_gray_r', 'gist_heat', 'gist_heat_r', 'gist_ncar', 'gist_ncar_r', 'gist_rainbow', 'gist_rainbow_r', 'gist_stern', 'gist_stern_r', 'gist_yarg', 'gist_yarg_r', 'gnuplot', 'gnuplot2', 'gnuplot2_r', 'gnuplot_r', 'gray', 'gray_r', 'hot', 'hot_r', 'hsv', 'hsv_r', 'inferno', 'inferno_r', 'jet', 'jet_r', 'magma', 'magma_r', 'nipy_spectral', 'nipy_spectral_r', 'ocean', 'ocean_r', 'pink', 'pink_r', 'plasma', 'plasma_r', 'prism', 'prism_r', 'rainbow', 'rainbow_r', 'seismic', 'seismic_r', 'spectral', 'spectral_r', 'spring', 'spring_r', 'summer', 'summer_r', 'tab10', 'tab10_r', 'tab20', 'tab20_r', 'tab20b', 'tab20b_r', 'tab20c', 'tab20c_r', 'terrain', 'terrain_r', 'viridis', 'viridis_r', 'winter', 'winter_r'), rows=1, value=None), HTML(value='<img src=\"data:image/gif;base64,R0lGODdh+gAZAIcAAPLz89Tm8O/s67LV5y94tawXKvrj1iRqrUqXxYwLJPa1l/nHrgk4bBhWljmFu3cEIdhlUeeIa/SohvzbxxJKhpDD3bknMspKQu2Xd1uiy2oAH2iqz3Wz1IK72JzK4MI6OtFXSN1xWg1BeZoQJ8Ld6+F8YvvSvB5gpECPwb4xNqTO4x1eoT+NwMZAPvKgfvi/owAAAAAAAAAAAAAAAAAAAAAAAAAAAAAAAAAAAAAAAAAAAAAAAAAAAAAAAAAAAAAAAAAAAAAAAAAAAAAAAAAAAAAAAAAAAAAAAAAAAAAAAAAAAAAAAAAAAAAAAAAAAAAAAAAAAAAAAAAAAAAAAAAAAAAAAAAAAAAAAAAAAAAAAAAAAAAAAAAAAAAAAAAAAAAAAAAAAAAAAAAAAAAAAAAAAAAAAAAAAAAAAAAAAAAAAAAAAAAAAAAAAAAAAAAAAAAAAAAAAAAAAAAAAAAAAAAAAAAAAAAAAAAAAAAAAAAAAAAAAAAAAAAAAAAAAAAAAAAAAAAAAAAAAAAAAAAAAAAAAAAAAAAAAAAAAAAAAAAAAAAAAAAAAAAAAAAAAAAAAAAAAAAAAAAAAAAAAAAAAAAAAAAAAAAAAAAAAAAAAAAAAAAAAAAAAAAAAAAAAAAAAAAAAAAAAAAAAAAAAAAAAAAAAAAAAAAAAAAAAAAAAAAAAAAAAAAAAAAAAAAAAAAAAAAAAAAAAAAAAAAAAAAAAAAAAAAAAAAAAAAAAAAAAAAAAAAAAAAAAAAAAAAAAAAAAAAAAAAAAAAAAAAAAAAAAAAAAAAAAAAAAAAAAAAAAAAAAAAAAAAAAAAAAAAAAAAAAAAAAAAAAAAAAAAAAAAAAAAAAAAAAAAAAAAAAAAAAAAAAAAAAAAAAAAAAAAAAAAAAAAAAAAAAAAAAAAAAAAAAAAAAAAAAAAAAAAAAAAAAAAAAAAAAAAAAAAAAAAAAAAAAAAAAAAAAAAAAAAAAAAAAAAAAAAAAAAAAAAAAAAAAAAAAAAAAAAAAAAAAAAAAAAAAAAAACwAAAAA+gAZAEAI/wA1CNTwoKDBBAgTJhjBsIDDhw8tSJSYIsWHix9aXNi4EYRHEBBCigxBMkSJkxFSqsTAkqULCTBjKphJU8GLBThzLjDBc4LPnwaCChUqoKhRAEiTKl0KQIBTpwGiSp06lYTVAVizalWhwoNXDxXChu1AtgOHsxw2qN2QoW0GBHDjIkCBgoWDu3gJ6N2794DfvwdOnFjRoLBhCogRi1jMoLFjDZA1PJhMOYHlywlGaC7AuXNnC6BBp0jxofSHFhdSpwbBGgSE17BDyA5RonaE27gx6NbtQoLv3wqCC1fwYoHx4wtMKJ/AvLmB59ChC5hOHYD169izAxDAnXuA7+DDh/8nQX6A+fPoVajwwN5DhffvO8jvwKE+hw34N2TYnwGBf4AIBCJAgYKFA4QJCSxkyPDAQ4gHTpxY0cDiRQoZM4rgyMDjRw0hNTwgWTLBSZQJRqws0NKlSwsxY6ZI8cHmhxYXdOoE0RMEBKBBQwwNUcJoBKRJMSxd6kLCU6gKpE5V8GLBVawLTGyd0NWrAbBhwwogWxbAWbRp1QIQ0LZtALhx5colUXfAXbx5Vajw0NdDBcCAOwzuwMEwhw2JN2RgnAHBY8gIUKBg4cDyZQKZNWs+0NnzgRMnVjQgXZrC6dMiVDNg3VrDaw0PZM9OUNt2ghG5C+zmzdvC798pUnwg/qH/xQXkyEEsBwHB+fMQ0UOUoB7B+nUM2bO7kNDduwLw4RW8WFDe/AIT6SesZ2/A/fv3AuTPB1Df/n38AATs3x/AP8AAAgcSDEDi4ICECheqUOHhoYcKEiV2qNiBA0YOGzZuyOAxA4KQIhGgQMHCAcqUBFayZHngJcwDJ06saGDzJoWcOUXwZODzp4agGh4QLZrgKNIEI5YWaOrUqYWoUVOk+GD1Q4sLWrWC6AoCAtiwIcaGKGE2Atq0GNaudSHhLVwFcucqeLHgLt4FJvZO6OvXAODAgQUQLgzgMOLEigEIaNw4AOTIkiWTqDzgMubMKlR46OyhAmjQHUZ34GCaw4bU/xsysM6A4DVsBChQsHBg+zaB3Lp1H+jt+8CJEysaEC9O4fhxEcoZMG+u4bmGB9KnJ6huPcGI7AW2c+du4fv3FCk+kP/Q4gJ69CDWg4Dg/n2I+CFK0I9g/z6G/PldSOjvH6ACgQMVvFhwEOECEwsnNHRoAGLEiAIoVgRwEWNGjQAEdOwYAGRIkSJJlBxwEmVKFSo8tPRQASbMDjM7cLDJYUPODRl4ZkDwEygCFChYODB6lEBSpUoPNHV64MSJFQ2oVqVw9aoIrQy4dtXwVcMDsWMTlDWbYETaAmvZsrXw9m2KFB/ofmhxAS9eEHtBQPD7N0TgECUIRzB8GEPixC4kNP92rAByZAUvFlS2vMBE5gmbORvw/PmzANGjAZQ2fRo1AAGrVwdw/Ro2bBKzB9S2fVuFCg+7PVTw7btD8A4ciHPYcHxDBuUZEDR3jgAFChYOqFcncB079gPbuR84cWJFA/HjKZQvLwI9A/XrNbTX8AB+/ATz6ScYcb9Afv36LfTvDzBFig8EP7S4gBAhiIUgIDh8GCJiiBIUI1i8iCFjRhcSOnpUADKkghcLSppcYCLlhJUsDbh8+VKAzJkAatq8iROAgJ07A/j8CRQoiaEDiho9qkKFh6UeKjh12iFqBw5UOWy4uiGD1gwIunpFgAIFCwdkyxI4ixbtgbVsD5w4saL/gdy5FOrWFYGXgd69GvpqeAA4cILBhBOMOFwgsWLFFho3TpHig+QPLS5YtgwiMwgInDuH+ByihOgIpEtjOH3ahYTVrBW4fq3gxYLZtBeYuD0ht24DvHv3FgA8OIDhxIsbByAgefIAzJs7d04i+oDp1KurUOEhu4cK3Ll3+N6Bg3gOG8pvyIA+A4L17BGgQMHCgfz5BOrbt38gv/4DJ06sANhA4EAKBQuKQMhA4UINDTU8gBgxwUSKCUZcLJBRo0YLHTumSPFB5IcWF0yaBJESBASWLUO8DFFCZgSaNTHcvOlCwk6eCnz+VPBiwVCiC0wcnZBUqQGmTZsKgBoVwFSq/1WtAhCQNWsArl29eiURdsBYsmVVqPCQ1kMFtmw7vO3AQS6HDXU3ZMCbAcFevghQoGDhQPBgAoUNGz6QWPGBEydWNIAcmcLkySIsM8CcWcNmDQ88f04QWnSCEaULnEaN2sLq1SlSfID9ocUF2rRB3AYBQffuEL1DlAAeQfhwDMWLu5CQXLkC5s0VvFgQXfoCE9UnXMduQPv27QK8fwcQXvx48gAEnD8fQP169uxJvB8QX/58FSo83PdQQb/+Dv07AOQgkMOGghsyIMyAYCFDBChQsHAgcSKBihYtHsio8cCJEysagAxJYeRIESYZoEypYaWGBy5fJogpM8GImgVu4v/EaWHnzhQpPgD90OICUaIgjoKAoHRpiKYhSkCNIHUqhqpVXUjIqlUB164KXiwIK3aBibITzqI1oHbtWgFu3wKIK3cuXQAC7t4NoHcvX74k/g4ILHiwChUeDnuooFhxh8YdOEDmsGHyhgyWMyDIrBkBChQsHIAOTWA0adIHTqM+cOLEigauX1OIHVsEbQa2b2vIreEB794JfgNPMGJ4geLGjVtInjxFig/OP7S4IF06iOogIGDPHmJ7iBLeI4APj2H8eBcSzqNXoH69ghcL3sNfYGL+hPr2DeDPn18A//4AAAIQOJBgQQEHDwZQuJAhQxIPB0SUOFGFCg8XPVTQqLH/Q8cOHEBy2DByQwaTGRCkVIkABQoWDmDGJDCTJs0DN3EeOHFiRQOfPykEDSqCKAOjRzUk1fCAadMET6EmGDG1QFWrVi1kzZoixQevH1pcECsWRFkQENCmDbE2RAm3EeDGxTB3rgsJd/Eq0LtXwYsFfwEvMDF4QmHDBhAnTiyAcWMAjyFHlgxAQOXKATBn1qyZROcBn0GHVqHCQ2kPFVCj7rC6AwfXHDbE3pCBdgYEt3EjQIGChQPfvwkEFy78QHHjB06cWNGAeXMKz5+LkM6AenUN1zU80L49QXfvCUaELzCePHkL58+nSPGB/YcWF+DDBzEfBAT790PkD1GCfwT//wAjCMRAkKALCQgTKljIUMGLBRAjLjBBcYLFiwYyatQooKNHACBDihwJQIBJkwFSqly5koTLATBjylShwoNNDxVy5uzAswOHnxw2CN2QoWgGBEiTIkCBgoWDp1AJSJ069YDVqwdOnFjRoKtXCmDBihjLoKxZDWg1PFjLNoHbtwlGyC1At25dC3jxpkjxoe+HFhcCBwZBGASEw4hDKA5RonGEx5AxSJbsQoLlywoya1bwYoHnzwtMiJ5AurSB06hRC1jNGoDr17BjAxBAm3aA27hz5ybBe4Dv38BVqPBA3EOF48c7KO/AoTmHDdA3ZJieAYH16whQoGDhoLt3AuDDh/8/QL78gRMnVjRYz56Ce/ci4jOYT1+DfQ0P8utPwL9/AoAjBBYgWLCgBYQIU6T40PBDiwsRI4KgCALCRYwhNIYo0THCR5AYRIp0IcHkSQUpVSp4scDlywUmZE6gWdPATZw4BezkCcDnT6BBAQggSjTAUaRJk5JgOsDpU6gqVHig6qHC1asdtHbg0JXDBrAbMozNgMDsWQQoULBw0NYtAbhx4x6gW/fAiRMrGuzlS8GvXxGBGQwmrMGwhgeJFSdg3DjBCMgFJE+ebMGy5RQpPmz+0OLC588gRIOAUNp0CNQhSqyO0No1BtiwXUigXVvBbdwKXizg3XuBCeAThA83UNz/uHEByZUDYN7c+XMAAqRLD1Dd+vXrJLQP4N7duwoVHsR7qFC+fAf0HTis57DB/YYM8TMgoF8fAQoULBzs50/AP0ACAgceKGjwwIkTKxowbEjh4UMREhlQrKjhooYHGjcm6OgxwYiQBUaSJGnh5MkUKT6w/NDiAkyYIGaCgGDzZoicIUrwjODzJ4agQV1IKGpUAdKkCl4saOp0gYmoE6ZSNWD16lUBWrcC6Or1K1gAAsaODWD2LFq0JNYOaOv2rQoVHuZ6qGDXboe8HTjw5bDh74YMgjMgKGwYAQoULBwwbkzgMWTIByZTPnDixIoGmjdT6NxZBGgGokdrKK3hAerU/wlWs04w4nWB2LJlW6hdO0WKD7o/tLjg2zeI4CAgEC8e4niIEsojMG+O4flzFxKmU1dg/bqCFwu2c19g4vuE8OINkC9fXgD69ADWs2/vHoCA+PED0K9v3z6J/AP28++vAqAKDwM9VDBosEPCDhwYctjwcEMGiRkQVLSIAAUKFg44diTwESTIAyNJHjhxYkUDlSsptGwpAiYDmTM11NTwAGfOBDt5Jhjxs0BQoUItFC2aIsUHpR9aXHDqFERUEBCoVg1xNUQJrRG4dsXw9asLCWPJKjB7VsGLBWvZLjDxdkJcuQbo1q0rAG9eAHv59vULQEDgwAEIFzZsmETiAYsZN/9WocJDZA8VKFPucLkDB80cNnTekAF0BgSjSSNAgYKFA9WrCbR27fpAbNkHTpxY0QB3bgq7d4vwzQB4cA3DNTwwfjxBcuUJRjQv8Bw6dAvTp6dI8QH7hxYXuHMH8R0EBPHjQ5QPUQJ9BPXrMbRv70JCfPkK6NdX8GJBfv0LTPSfAHCCQIEGCho0KCChQgAMGzp8CECARIkBKlq8eJGExgEcO3pUocKDSA8VSpbsgLIDh5UcNrjckCFmBgQ0ayJAgYKFg508Cfj8+fOA0KEHTpxY0SCpUgpMmYp4yiCqVA1UNTy4ijWB1q0JRngtADZsWAtkyaZI8SHthxYX2rYFARf/BIS5dEPYDVEib4S9fDH49etCguDBCgobVvBigeLFC0w4ngA5soHJlCkLuIwZgObNnDsDEAAadIDRpEuXJoF6gOrVrFWo8ADbQ4XZszvY7sAhN4cNvDdk+J0BgfDhCFCgYOEguXICzJs3PwA9+oETJ1Y0uI6dgnbtIroz+A5eg3gND8qbT4A+fYIR7Au4f//egnz5KVJ8uP+hxYX9+0H4BwgCwkCCIQyGKJEwwkKGGBw6dCFB4kQFFS0qeLFA48YFJjxOABnSwEiSJAWcRAlA5UqWLQEIgAkzwEyaNWuSwDlA506eKlR4AOqhwtChHYx24JCUwwamGzI8zYBA6lQEwihQsHCQVSsBrl27HgAb9sCJEysanEVLQa1aEW0ZvIWrQa6GB3XtJsCbN8EIvgX8/v1rQbDgFCk+HP7Q4sLixSAcg4AQWXIIyiFKXI6QWTMGzpxdSAAdWsFo0gpeLECdeoEJ1hNcvzYQW7ZsAbVtA8CdW/duAAJ8+w4QXPjw4SSMD0CeXLkKFR6ce6gQPXoH6h04XOewQfuGDN0zIAAfHgEKFCwcnEdPQP369Qfcvz9w4sSKBvXtU8CPX8R+Bv39AwwIADs=\"/>'))))), VBox(children=(HTML(value='<p><hr/><h3>hidden2 bank:</h3></p>'), Checkbox(value=True, description='Visible'), HBox(children=(Select(description='Colormap:', options=('Accent', 'Accent_r', 'Blues', 'Blues_r', 'BrBG', 'BrBG_r', 'BuGn', 'BuGn_r', 'BuPu', 'BuPu_r', 'CMRmap', 'CMRmap_r', 'Dark2', 'Dark2_r', 'GnBu', 'GnBu_r', 'Greens', 'Greens_r', 'Greys', 'Greys_r', 'OrRd', 'OrRd_r', 'Oranges', 'Oranges_r', 'PRGn', 'PRGn_r', 'Paired', 'Paired_r', 'Pastel1', 'Pastel1_r', 'Pastel2', 'Pastel2_r', 'PiYG', 'PiYG_r', 'PuBu', 'PuBuGn', 'PuBuGn_r', 'PuBu_r', 'PuOr', 'PuOr_r', 'PuRd', 'PuRd_r', 'Purples', 'Purples_r', 'RdBu', 'RdBu_r', 'RdGy', 'RdGy_r', 'RdPu', 'RdPu_r', 'RdYlBu', 'RdYlBu_r', 'RdYlGn', 'RdYlGn_r', 'Reds', 'Reds_r', 'Set1', 'Set1_r', 'Set2', 'Set2_r', 'Set3', 'Set3_r', 'Spectral', 'Spectral_r', 'Vega10', 'Vega10_r', 'Vega20', 'Vega20_r', 'Vega20b', 'Vega20b_r', 'Vega20c', 'Vega20c_r', 'Wistia', 'Wistia_r', 'YlGn', 'YlGnBu', 'YlGnBu_r', 'YlGn_r', 'YlOrBr', 'YlOrBr_r', 'YlOrRd', 'YlOrRd_r', 'afmhot', 'afmhot_r', 'autumn', 'autumn_r', 'binary', 'binary_r', 'bone', 'bone_r', 'brg', 'brg_r', 'bwr', 'bwr_r', 'cool', 'cool_r', 'coolwarm', 'coolwarm_r', 'copper', 'copper_r', 'cubehelix', 'cubehelix_r', 'flag', 'flag_r', 'gist_earth', 'gist_earth_r', 'gist_gray', 'gist_gray_r', 'gist_heat', 'gist_heat_r', 'gist_ncar', 'gist_ncar_r', 'gist_rainbow', 'gist_rainbow_r', 'gist_stern', 'gist_stern_r', 'gist_yarg', 'gist_yarg_r', 'gnuplot', 'gnuplot2', 'gnuplot2_r', 'gnuplot_r', 'gray', 'gray_r', 'hot', 'hot_r', 'hsv', 'hsv_r', 'inferno', 'inferno_r', 'jet', 'jet_r', 'magma', 'magma_r', 'nipy_spectral', 'nipy_spectral_r', 'ocean', 'ocean_r', 'pink', 'pink_r', 'plasma', 'plasma_r', 'prism', 'prism_r', 'rainbow', 'rainbow_r', 'seismic', 'seismic_r', 'spectral', 'spectral_r', 'spring', 'spring_r', 'summer', 'summer_r', 'tab10', 'tab10_r', 'tab20', 'tab20_r', 'tab20b', 'tab20b_r', 'tab20c', 'tab20c_r', 'terrain', 'terrain_r', 'viridis', 'viridis_r', 'winter', 'winter_r'), rows=1, value=None), HTML(value='<img src=\"data:image/gif;base64,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\"/>'))))), VBox(children=(HTML(value='<p><hr/><h3>hidden1 bank:</h3></p>'), Checkbox(value=True, description='Visible'), HBox(children=(Select(description='Colormap:', options=('Accent', 'Accent_r', 'Blues', 'Blues_r', 'BrBG', 'BrBG_r', 'BuGn', 'BuGn_r', 'BuPu', 'BuPu_r', 'CMRmap', 'CMRmap_r', 'Dark2', 'Dark2_r', 'GnBu', 'GnBu_r', 'Greens', 'Greens_r', 'Greys', 'Greys_r', 'OrRd', 'OrRd_r', 'Oranges', 'Oranges_r', 'PRGn', 'PRGn_r', 'Paired', 'Paired_r', 'Pastel1', 'Pastel1_r', 'Pastel2', 'Pastel2_r', 'PiYG', 'PiYG_r', 'PuBu', 'PuBuGn', 'PuBuGn_r', 'PuBu_r', 'PuOr', 'PuOr_r', 'PuRd', 'PuRd_r', 'Purples', 'Purples_r', 'RdBu', 'RdBu_r', 'RdGy', 'RdGy_r', 'RdPu', 'RdPu_r', 'RdYlBu', 'RdYlBu_r', 'RdYlGn', 'RdYlGn_r', 'Reds', 'Reds_r', 'Set1', 'Set1_r', 'Set2', 'Set2_r', 'Set3', 'Set3_r', 'Spectral', 'Spectral_r', 'Vega10', 'Vega10_r', 'Vega20', 'Vega20_r', 'Vega20b', 'Vega20b_r', 'Vega20c', 'Vega20c_r', 'Wistia', 'Wistia_r', 'YlGn', 'YlGnBu', 'YlGnBu_r', 'YlGn_r', 'YlOrBr', 'YlOrBr_r', 'YlOrRd', 'YlOrRd_r', 'afmhot', 'afmhot_r', 'autumn', 'autumn_r', 'binary', 'binary_r', 'bone', 'bone_r', 'brg', 'brg_r', 'bwr', 'bwr_r', 'cool', 'cool_r', 'coolwarm', 'coolwarm_r', 'copper', 'copper_r', 'cubehelix', 'cubehelix_r', 'flag', 'flag_r', 'gist_earth', 'gist_earth_r', 'gist_gray', 'gist_gray_r', 'gist_heat', 'gist_heat_r', 'gist_ncar', 'gist_ncar_r', 'gist_rainbow', 'gist_rainbow_r', 'gist_stern', 'gist_stern_r', 'gist_yarg', 'gist_yarg_r', 'gnuplot', 'gnuplot2', 'gnuplot2_r', 'gnuplot_r', 'gray', 'gray_r', 'hot', 'hot_r', 'hsv', 'hsv_r', 'inferno', 'inferno_r', 'jet', 'jet_r', 'magma', 'magma_r', 'nipy_spectral', 'nipy_spectral_r', 'ocean', 'ocean_r', 'pink', 'pink_r', 'plasma', 'plasma_r', 'prism', 'prism_r', 'rainbow', 'rainbow_r', 'seismic', 'seismic_r', 'spectral', 'spectral_r', 'spring', 'spring_r', 'summer', 'summer_r', 'tab10', 'tab10_r', 'tab20', 'tab20_r', 'tab20b', 'tab20b_r', 'tab20c', 'tab20c_r', 'terrain', 'terrain_r', 'viridis', 'viridis_r', 'winter', 'winter_r'), rows=1, value=None), HTML(value='<img src=\"data:image/gif;base64,R0lGODdh+gAZAIcAAPLz89Tm8O/s67LV5y94tawXKvrj1iRqrUqXxYwLJPa1l/nHrgk4bBhWljmFu3cEIdhlUeeIa/SohvzbxxJKhpDD3bknMspKQu2Xd1uiy2oAH2iqz3Wz1IK72JzK4MI6OtFXSN1xWg1BeZoQJ8Ld6+F8YvvSvB5gpECPwb4xNqTO4x1eoT+NwMZAPvKgfvi/owAAAAAAAAAAAAAAAAAAAAAAAAAAAAAAAAAAAAAAAAAAAAAAAAAAAAAAAAAAAAAAAAAAAAAAAAAAAAAAAAAAAAAAAAAAAAAAAAAAAAAAAAAAAAAAAAAAAAAAAAAAAAAAAAAAAAAAAAAAAAAAAAAAAAAAAAAAAAAAAAAAAAAAAAAAAAAAAAAAAAAAAAAAAAAAAAAAAAAAAAAAAAAAAAAAAAAAAAAAAAAAAAAAAAAAAAAAAAAAAAAAAAAAAAAAAAAAAAAAAAAAAAAAAAAAAAAAAAAAAAAAAAAAAAAAAAAAAAAAAAAAAAAAAAAAAAAAAAAAAAAAAAAAAAAAAAAAAAAAAAAAAAAAAAAAAAAAAAAAAAAAAAAAAAAAAAAAAAAAAAAAAAAAAAAAAAAAAAAAAAAAAAAAAAAAAAAAAAAAAAAAAAAAAAAAAAAAAAAAAAAAAAAAAAAAAAAAAAAAAAAAAAAAAAAAAAAAAAAAAAAAAAAAAAAAAAAAAAAAAAAAAAAAAAAAAAAAAAAAAAAAAAAAAAAAAAAAAAAAAAAAAAAAAAAAAAAAAAAAAAAAAAAAAAAAAAAAAAAAAAAAAAAAAAAAAAAAAAAAAAAAAAAAAAAAAAAAAAAAAAAAAAAAAAAAAAAAAAAAAAAAAAAAAAAAAAAAAAAAAAAAAAAAAAAAAAAAAAAAAAAAAAAAAAAAAAAAAAAAAAAAAAAAAAAAAAAAAAAAAAAAAAAAAAAAAAAAAAAAAAAAAAAAAAAAAAAAAAAAAAAAAAAAAAAAAAAAAAAAAAAAAAAAAAAAAAAAAAAAAAAAAAAAAAAAAAAAAAAAAAAAAAAAAAAAACwAAAAA+gAZAEAI/wA1CNTwoKDBBAgTJhjBsIDDhw8tSJSYIsWHix9aXNi4EYRHEBBCigxBMkSJkxFSqsTAkqULCTBjKphJU8GLBThzLjDBc4LPnwaCChUqoKhRAEiTKl0KQIBTpwGiSp06lYTVAVizalWhwoNXDxXChu1AtgOHsxw2qN2QoW0GBHDjIkCBgoWDu3gJ6N2794DfvwdOnFjRoLBhCogRi1jMoLFjDZA1PJhMOYHlywlGaC7AuXNnC6BBp0jxofSHFhdSpwbBGgSE17BDyA5RonaE27gx6NbtQoLv3wqCC1fwYoHx4wtMKJ/AvLmB59ChC5hOHYD169izAxDAnXuA7+DDh/8nQX6A+fPoVajwwN5DhffvO8jvwKE+hw34N2TYnwGBf4AIBCJAgYKFA4QJCSxkyPDAQ4gHTpxY0cDiRQoZM4rgyMDjRw0hNTwgWTLBSZQJRqws0NKlSwsxY6ZI8cHmhxYXdOoE0RMEBKBBQwwNUcJoBKRJMSxd6kLCU6gKpE5V8GLBVawLTGyd0NWrAbBhwwogWxbAWbRp1QIQ0LZtALhx5colUXfAXbx5Vajw0NdDBcCAOwzuwMEwhw2JN2RgnAHBY8gIUKBg4cDyZQKZNWs+0NnzgRMnVjQgXZrC6dMiVDNg3VrDaw0PZM9OUNt2ghG5C+zmzdvC798pUnwg/qH/xQXkyEEsBwHB+fMQ0UOUoB7B+nUM2bO7kNDduwLw4RW8WFDe/AIT6SesZ2/A/fv3AuTPB1Df/n38AATs3x/AP8AAAgcSDEDi4ICECheqUOHhoYcKEiV2qNiBA0YOGzZuyOAxA4KQIhGgQMHCAcqUBFayZHngJcwDJ06saGDzJoWcOUXwZODzp4agGh4QLZrgKNIEI5YWaOrUqYWoUVOk+GD1Q4sLWrWC6AoCAtiwIcaGKGE2Atq0GNaudSHhLVwFcucqeLHgLt4FJvZO6OvXAODAgQUQLgzgMOLEigEIaNw4AOTIkiWTqDzgMubMKlR46OyhAmjQHUZ34GCaw4bU/xsysM6A4DVsBChQsHBg+zaB3Lp1H+jt+8CJEysaEC9O4fhxEcoZMG+u4bmGB9KnJ6huPcGI7AW2c+du4fv3FCk+kP/Q4gJ69CDWg4Dg/n2I+CFK0I9g/z6G/PldSOjvH6ACgQMVvFhwEOECEwsnNHRoAGLEiAIoVgRwEWNGjQAEdOwYAGRIkSJJlBxwEmVKFSo8tPRQASbMDjM7cLDJYUPODRl4ZkDwEygCFChYODB6lEBSpUoPNHV64MSJFQ2oVqVw9aoIrQy4dtXwVcMDsWMTlDWbYETaAmvZsrXw9m2KFB/ofmhxAS9eEHtBQPD7N0TgECUIRzB8GEPixC4kNP92rAByZAUvFlS2vMBE5gmbORvw/PmzANGjAZQ2fRo1AAGrVwdw/Ro2bBKzB9S2fVuFCg+7PVTw7btD8A4ciHPYcHxDBuUZEDR3jgAFChYOqFcncB079gPbuR84cWJFA/HjKZQvLwI9A/XrNbTX8AB+/ATz6ScYcb9Afv36LfTvDzBFig8EP7S4gBAhiIUgIDh8GCJiiBIUI1i8iCFjRhcSOnpUADKkghcLSppcYCLlhJUsDbh8+VKAzJkAatq8iROAgJ07A/j8CRQoiaEDiho9qkKFh6UeKjh12iFqBw5UOWy4uiGD1gwIunpFgAIFCwdkyxI4ixbtgbVsD5w4saL/gdy5FOrWFYGXgd69GvpqeAA4cILBhBOMOFwgsWLFFho3TpHig+QPLS5YtgwiMwgInDuH+ByihOgIpEtjOH3ahYTVrBW4fq3gxYLZtBeYuD0ht24DvHv3FgA8OIDhxIsbByAgefIAzJs7d04i+oDp1KurUOEhu4cK3Ll3+N6Bg3gOG8pvyIA+A4L17BGgQMHCgfz5BOrbt38gv/4DJ06sANhA4EAKBQuKQMhA4UINDTU8gBgxwUSKCUZcLJBRo0YLHTumSPFB5IcWF0yaBJESBASWLUO8DFFCZgSaNTHcvOlCwk6eCnz+VPBiwVCiC0wcnZBUqQGmTZsKgBoVwFSq/1WtAhCQNWsArl29eiURdsBYsmVVqPCQ1kMFtmw7vO3AQS6HDXU3ZMCbAcFevghQoGDhQPBgAoUNGz6QWPGBEydWNIAcmcLkySIsM8CcWcNmDQ88f04QWnSCEaULnEaN2sLq1SlSfID9ocUF2rRB3AYBQffuEL1DlAAeQfhwDMWLu5CQXLkC5s0VvFgQXfoCE9UnXMduQPv27QK8fwcQXvx48gAEnD8fQP169uxJvB8QX/58FSo83PdQQb/+Dv07AOQgkMOGghsyIMyAYCFDBChQsHAgcSKBihYtHsio8cCJEysagAxJYeRIESYZoEypYaWGBy5fJogpM8GImgVu4v/EaWHnzhQpPgD90OICUaIgjoKAoHRpiKYhSkCNIHUqhqpVXUjIqlUB164KXiwIK3aBibITzqI1oHbtWgFu3wKIK3cuXQAC7t4NoHcvX74k/g4ILHiwChUeDnuooFhxh8YdOEDmsGHyhgyWMyDIrBkBChQsHIAOTWA0adIHTqM+cOLEigauX1OIHVsEbQa2b2vIreEB794JfgNPMGJ4geLGjVtInjxFig/OP7S4IF06iOogIGDPHmJ7iBLeI4APj2H8eBcSzqNXoH69ghcL3sNfYGL+hPr2DeDPn18A//4AAAIQOJBgQQEHDwZQuJAhQxIPB0SUOFGFCg8XPVTQqLH/Q8cOHEBy2DByQwaTGRCkVIkABQoWDmDGJDCTJs0DN3EeOHFiRQOfPykEDSqCKAOjRzUk1fCAadMET6EmGDG1QFWrVi1kzZoixQevH1pcECsWRFkQENCmDbE2RAm3EeDGxTB3rgsJd/Eq0LtXwYsFfwEvMDF4QmHDBhAnTiyAcWMAjyFHlgxAQOXKATBn1qyZROcBn0GHVqHCQ2kPFVCj7rC6AwfXHDbE3pCBdgYEt3EjQIGChQPfvwkEFy78QHHjB06cWNGAeXMKz5+LkM6AenUN1zU80L49QXfvCUaELzCePHkL58+nSPGB/YcWF+DDBzEfBAT790PkD1GCfwT//wAjCMRAkKALCQgTKljIUMGLBRAjLjBBcYLFiwYyatQooKNHACBDihwJQIBJkwFSqly5koTLATBjylShwoNNDxVy5uzAswOHnxw2CN2QoWgGBEiTIkCBgoWDp1AJSJ069YDVqwdOnFjRoKtXCmDBihjLoKxZDWg1PFjLNoHbtwlGyC1At25dC3jxpkjxoe+HFhcCBwZBGASEw4hDKA5RonGEx5AxSJbsQoLlywoya1bwYoHnzwtMiJ5AurSB06hRC1jNGoDr17BjAxBAm3aA27hz5ybBe4Dv38BVqPBA3EOF48c7KO/AoTmHDdA3ZJieAYH16whQoGDhoLt3AuDDh/8/QL78gRMnVjRYz56Ce/ci4jOYT1+DfQ0P8utPwL9/AoAjBBYgWLCgBYQIU6T40PBDiwsRI4KgCALCRYwhNIYo0THCR5AYRIp0IcHkSQUpVSp4scDlywUmZE6gWdPATZw4BezkCcDnT6BBAQggSjTAUaRJk5JgOsDpU6gqVHig6qHC1asdtHbg0JXDBrAbMozNgMDsWQQoULBw0NYtAbhx4x6gW/fAiRMrGuzlS8GvXxGBGQwmrMGwhgeJFSdg3DjBCMgFJE+ebMGy5RQpPmz+0OLC588gRIOAUNp0CNQhSqyO0No1BtiwXUigXVvBbdwKXizg3XuBCeAThA83UNz/uHEByZUDYN7c+XMAAqRLD1Dd+vXrJLQP4N7duwoVHsR7qFC+fAf0HTis57DB/YYM8TMgoF8fAQoULBzs50/AP0ACAgceKGjwwIkTKxowbEjh4UMREhlQrKjhooYHGjcm6OgxwYiQBUaSJGnh5MkUKT6w/NDiAkyYIGaCgGDzZoicIUrwjODzJ4agQV1IKGpUAdKkCl4saOp0gYmoE6ZSNWD16lUBWrcC6Or1K1gAAsaODWD2LFq0JNYOaOv2rQoVHuZ6qGDXboe8HTjw5bDh74YMgjMgKGwYAQoULBwwbkzgMWTIByZTPnDixIoGmjdT6NxZBGgGokdrKK3hAerU/wlWs04w4nWB2LJlW6hdO0WKD7o/tLjg2zeI4CAgEC8e4niIEsojMG+O4flzFxKmU1dg/bqCFwu2c19g4vuE8OINkC9fXgD69ADWs2/vHoCA+PED0K9v3z6J/AP28++vAqAKDwM9VDBosEPCDhwYctjwcEMGiRkQVLSIAAUKFg44diTwESTIAyNJHjhxYkUDlSsptGwpAiYDmTM11NTwAGfOBDt5Jhjxs0BQoUItFC2aIsUHpR9aXHDqFERUEBCoVg1xNUQJrRG4dsXw9asLCWPJKjB7VsGLBWvZLjDxdkJcuQbo1q0rAG9eAHv59vULQEDgwAEIFzZsmETiAYsZN/9WocJDZA8VKFPucLkDB80cNnTekAF0BgSjSSNAgYKFA9WrCbR27fpAbNkHTpxY0QB3bgq7d4vwzQB4cA3DNTwwfjxBcuUJRjQv8Bw6dAvTp6dI8QH7hxYXuHMH8R0EBPHjQ5QPUQJ9BPXrMbRv70JCfPkK6NdX8GJBfv0LTPSfAHCCQIEGCho0KCChQgAMGzp8CECARIkBKlq8eJGExgEcO3pUocKDSA8VSpbsgLIDh5UcNrjckCFmBgQ0ayJAgYKFg508Cfj8+fOA0KEHTpxY0SCpUgpMmYp4yiCqVA1UNTy4ijWB1q0JRngtADZsWAtkyaZI8SHthxYX2rYFARf/BIS5dEPYDVEib4S9fDH49etCguDBCgobVvBigeLFC0w4ngA5soHJlCkLuIwZgObNnDsDEAAadIDRpEuXJoF6gOrVrFWo8ADbQ4XZszvY7sAhN4cNvDdk+J0BgfDhCFCgYOEguXICzJs3PwA9+oETJ1Y0uI6dgnbtIroz+A5eg3gND8qbT4A+fYIR7Au4f//egnz5KVJ8uP+hxYX9+0H4BwgCwkCCIQyGKJEwwkKGGBw6dCFB4kQFFS0qeLFA48YFJjxOABnSwEiSJAWcRAlA5UqWLQEIgAkzwEyaNWuSwDlA506eKlR4AOqhwtChHYx24JCUwwamGzI8zYBA6lQEwihQsHCQVSsBrl27HgAb9sCJEysanEVLQa1aEW0ZvIWrQa6GB3XtJsCbN8EIvgX8/v1rQbDgFCk+HP7Q4sLixSAcg4AQWXIIyiFKXI6QWTMGzpxdSAAdWsFo0gpeLECdeoEJ1hNcvzYQW7ZsAbVtA8CdW/duAAJ8+w4QXPjw4SSMD0CeXLkKFR6ce6gQPXoH6h04XOewQfuGDN0zIAAfHgEKFCwcnEdPQP369Qfcvz9w4sSKBvXtU8CPX8R+Bv39AwwIADs=\"/>'))))), VBox(children=(HTML(value='<p><hr/><h3>input2 bank:</h3></p>'), Checkbox(value=True, description='Visible'), HBox(children=(Select(description='Colormap:', options=('Accent', 'Accent_r', 'Blues', 'Blues_r', 'BrBG', 'BrBG_r', 'BuGn', 'BuGn_r', 'BuPu', 'BuPu_r', 'CMRmap', 'CMRmap_r', 'Dark2', 'Dark2_r', 'GnBu', 'GnBu_r', 'Greens', 'Greens_r', 'Greys', 'Greys_r', 'OrRd', 'OrRd_r', 'Oranges', 'Oranges_r', 'PRGn', 'PRGn_r', 'Paired', 'Paired_r', 'Pastel1', 'Pastel1_r', 'Pastel2', 'Pastel2_r', 'PiYG', 'PiYG_r', 'PuBu', 'PuBuGn', 'PuBuGn_r', 'PuBu_r', 'PuOr', 'PuOr_r', 'PuRd', 'PuRd_r', 'Purples', 'Purples_r', 'RdBu', 'RdBu_r', 'RdGy', 'RdGy_r', 'RdPu', 'RdPu_r', 'RdYlBu', 'RdYlBu_r', 'RdYlGn', 'RdYlGn_r', 'Reds', 'Reds_r', 'Set1', 'Set1_r', 'Set2', 'Set2_r', 'Set3', 'Set3_r', 'Spectral', 'Spectral_r', 'Vega10', 'Vega10_r', 'Vega20', 'Vega20_r', 'Vega20b', 'Vega20b_r', 'Vega20c', 'Vega20c_r', 'Wistia', 'Wistia_r', 'YlGn', 'YlGnBu', 'YlGnBu_r', 'YlGn_r', 'YlOrBr', 'YlOrBr_r', 'YlOrRd', 'YlOrRd_r', 'afmhot', 'afmhot_r', 'autumn', 'autumn_r', 'binary', 'binary_r', 'bone', 'bone_r', 'brg', 'brg_r', 'bwr', 'bwr_r', 'cool', 'cool_r', 'coolwarm', 'coolwarm_r', 'copper', 'copper_r', 'cubehelix', 'cubehelix_r', 'flag', 'flag_r', 'gist_earth', 'gist_earth_r', 'gist_gray', 'gist_gray_r', 'gist_heat', 'gist_heat_r', 'gist_ncar', 'gist_ncar_r', 'gist_rainbow', 'gist_rainbow_r', 'gist_stern', 'gist_stern_r', 'gist_yarg', 'gist_yarg_r', 'gnuplot', 'gnuplot2', 'gnuplot2_r', 'gnuplot_r', 'gray', 'gray_r', 'hot', 'hot_r', 'hsv', 'hsv_r', 'inferno', 'inferno_r', 'jet', 'jet_r', 'magma', 'magma_r', 'nipy_spectral', 'nipy_spectral_r', 'ocean', 'ocean_r', 'pink', 'pink_r', 'plasma', 'plasma_r', 'prism', 'prism_r', 'rainbow', 'rainbow_r', 'seismic', 'seismic_r', 'spectral', 'spectral_r', 'spring', 'spring_r', 'summer', 'summer_r', 'tab10', 'tab10_r', 'tab20', 'tab20_r', 'tab20b', 'tab20b_r', 'tab20c', 'tab20c_r', 'terrain', 'terrain_r', 'viridis', 'viridis_r', 'winter', 'winter_r'), rows=1, value=None), HTML(value='<img src=\"data:image/gif;base64,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\"/>'))))), VBox(children=(HTML(value='<p><hr/><h3>input1 bank:</h3></p>'), Checkbox(value=True, description='Visible'), HBox(children=(Select(description='Colormap:', options=('Accent', 'Accent_r', 'Blues', 'Blues_r', 'BrBG', 'BrBG_r', 'BuGn', 'BuGn_r', 'BuPu', 'BuPu_r', 'CMRmap', 'CMRmap_r', 'Dark2', 'Dark2_r', 'GnBu', 'GnBu_r', 'Greens', 'Greens_r', 'Greys', 'Greys_r', 'OrRd', 'OrRd_r', 'Oranges', 'Oranges_r', 'PRGn', 'PRGn_r', 'Paired', 'Paired_r', 'Pastel1', 'Pastel1_r', 'Pastel2', 'Pastel2_r', 'PiYG', 'PiYG_r', 'PuBu', 'PuBuGn', 'PuBuGn_r', 'PuBu_r', 'PuOr', 'PuOr_r', 'PuRd', 'PuRd_r', 'Purples', 'Purples_r', 'RdBu', 'RdBu_r', 'RdGy', 'RdGy_r', 'RdPu', 'RdPu_r', 'RdYlBu', 'RdYlBu_r', 'RdYlGn', 'RdYlGn_r', 'Reds', 'Reds_r', 'Set1', 'Set1_r', 'Set2', 'Set2_r', 'Set3', 'Set3_r', 'Spectral', 'Spectral_r', 'Vega10', 'Vega10_r', 'Vega20', 'Vega20_r', 'Vega20b', 'Vega20b_r', 'Vega20c', 'Vega20c_r', 'Wistia', 'Wistia_r', 'YlGn', 'YlGnBu', 'YlGnBu_r', 'YlGn_r', 'YlOrBr', 'YlOrBr_r', 'YlOrRd', 'YlOrRd_r', 'afmhot', 'afmhot_r', 'autumn', 'autumn_r', 'binary', 'binary_r', 'bone', 'bone_r', 'brg', 'brg_r', 'bwr', 'bwr_r', 'cool', 'cool_r', 'coolwarm', 'coolwarm_r', 'copper', 'copper_r', 'cubehelix', 'cubehelix_r', 'flag', 'flag_r', 'gist_earth', 'gist_earth_r', 'gist_gray', 'gist_gray_r', 'gist_heat', 'gist_heat_r', 'gist_ncar', 'gist_ncar_r', 'gist_rainbow', 'gist_rainbow_r', 'gist_stern', 'gist_stern_r', 'gist_yarg', 'gist_yarg_r', 'gnuplot', 'gnuplot2', 'gnuplot2_r', 'gnuplot_r', 'gray', 'gray_r', 'hot', 'hot_r', 'hsv', 'hsv_r', 'inferno', 'inferno_r', 'jet', 'jet_r', 'magma', 'magma_r', 'nipy_spectral', 'nipy_spectral_r', 'ocean', 'ocean_r', 'pink', 'pink_r', 'plasma', 'plasma_r', 'prism', 'prism_r', 'rainbow', 'rainbow_r', 'seismic', 'seismic_r', 'spectral', 'spectral_r', 'spring', 'spring_r', 'summer', 'summer_r', 'tab10', 'tab10_r', 'tab20', 'tab20_r', 'tab20b', 'tab20b_r', 'tab20c', 'tab20c_r', 'terrain', 'terrain_r', 'viridis', 'viridis_r', 'winter', 'winter_r'), rows=1, value=None), HTML(value='<img src=\"data:image/gif;base64,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\"/>')))))), _titles={'0': 'Network configuration', '6': 'input2 bank', '5': 'hidden1 bank', '2': 'output1 bank', '3': 'shared-hidden bank', '4': 'hidden2 bank', '7': 'input1 bank', '1': 'output2 bank'}),), layout=Layout(overflow_y='auto', width='95%')), HTML(value='<iframe src=\"https://conx.readthedocs.io\" width=\"100%\" height=\"550px\"></frame>', layout=Layout(height='550px', width='95%'))), _titles={'0': 'Network', '2': 'Help', '1': 'Configuration'})"
      ]
     },
     "metadata": {},
     "output_type": "display_data"
    },
    {
     "data": {
      "application/javascript": [
       "\n",
       "require(['base/js/namespace'], function(Jupyter) {\n",
       "    Jupyter.notebook.kernel.comm_manager.register_target('conx_svg_control', function(comm, msg) {\n",
       "        comm.on_msg(function(msg) {\n",
       "            var data = msg[\"content\"][\"data\"];\n",
       "            var images = document.getElementsByClassName(data[\"class\"]);\n",
       "            for (var i = 0; i < images.length; i++) {\n",
       "                if (data[\"href\"]) {\n",
       "                    images[i].setAttributeNS(null, \"href\", data[\"href\"]);\n",
       "                }\n",
       "                if (data[\"src\"]) {\n",
       "                    images[i].setAttributeNS(null, \"src\", data[\"src\"]);\n",
       "                }\n",
       "            }\n",
       "        });\n",
       "    });\n",
       "});\n"
      ],
      "text/plain": [
       "<IPython.core.display.Javascript object>"
      ]
     },
     "metadata": {},
     "output_type": "display_data"
    }
   ],
   "source": [
    "net.config[\"hspace\"] = 200\n",
    "net.dashboard()"
   ]
  },
  {
   "cell_type": "code",
   "execution_count": 27,
   "metadata": {},
   "outputs": [],
   "source": [
    "net.propagate_to_features(\"hidden1\", [[[1], [1]]])"
   ]
  },
  {
   "cell_type": "code",
   "execution_count": 28,
   "metadata": {},
   "outputs": [
    {
     "data": {
      "text/plain": [
       "[[0.36669450998306274], [0.7667419910430908]]"
      ]
     },
     "execution_count": 28,
     "metadata": {},
     "output_type": "execute_result"
    }
   ],
   "source": [
    "net.propagate([[1], [1]])"
   ]
  },
  {
   "cell_type": "code",
   "execution_count": 29,
   "metadata": {},
   "outputs": [],
   "source": [
    "dataset = [\n",
    "    ([[0],[0]], [[0],[0]]),\n",
    "    ([[0],[1]], [[1],[1]]),\n",
    "    ([[1],[0]], [[1],[1]]),\n",
    "    ([[1],[1]], [[0],[0]])\n",
    "]"
   ]
  },
  {
   "cell_type": "code",
   "execution_count": 30,
   "metadata": {},
   "outputs": [],
   "source": [
    "net.dataset.load(dataset)"
   ]
  },
  {
   "cell_type": "code",
   "execution_count": 31,
   "metadata": {},
   "outputs": [
    {
     "data": {
      "text/plain": [
       "[[[-0.2311440408229828,\n",
       "   -0.11553583294153214,\n",
       "   -0.06258577108383179,\n",
       "   0.14661431312561035,\n",
       "   0.6824564933776855,\n",
       "   -0.0180278979241848,\n",
       "   -0.43046876788139343,\n",
       "   0.532232940196991,\n",
       "   0.27135470509529114,\n",
       "   -0.132258340716362]],\n",
       " [0.0, 0.0, 0.0, 0.0, 0.0, 0.0, 0.0, 0.0, 0.0, 0.0]]"
      ]
     },
     "execution_count": 31,
     "metadata": {},
     "output_type": "execute_result"
    }
   ],
   "source": [
    "net.get_weights(\"hidden2\")"
   ]
  },
  {
   "cell_type": "code",
   "execution_count": 35,
   "metadata": {},
   "outputs": [
    {
     "data": {
      "text/plain": [
       "sigmoid.0"
      ]
     },
     "execution_count": 35,
     "metadata": {},
     "output_type": "execute_result"
    }
   ],
   "source": [
    "net.model.layers[-1].output"
   ]
  },
  {
   "cell_type": "code",
   "execution_count": 36,
   "metadata": {},
   "outputs": [],
   "source": [
    "import numpy as np"
   ]
  },
  {
   "cell_type": "code",
   "execution_count": 37,
   "metadata": {},
   "outputs": [
    {
     "data": {
      "text/plain": [
       "[array([[ 0.63918394]], dtype=float32), array([[ 0.47949073]], dtype=float32)]"
      ]
     },
     "execution_count": 37,
     "metadata": {},
     "output_type": "execute_result"
    }
   ],
   "source": [
    "net.model.predict([np.array([[1]]), np.array([[1]])])"
   ]
  },
  {
   "cell_type": "code",
   "execution_count": 38,
   "metadata": {},
   "outputs": [
    {
     "data": {
      "text/plain": [
       "[[0.6391839385032654], [0.479490727186203]]"
      ]
     },
     "execution_count": 38,
     "metadata": {},
     "output_type": "execute_result"
    }
   ],
   "source": [
    "net.propagate([[1], [1]])"
   ]
  },
  {
   "cell_type": "code",
   "execution_count": 39,
   "metadata": {},
   "outputs": [],
   "source": [
    "for i in range(20):\n",
    "    (epoch_count, loss, acc, val_acc) = net.train(epochs=100, verbose=0)\n",
    "    for index in range(4):\n",
    "        net.propagate(dataset[index][0])"
   ]
  },
  {
   "cell_type": "code",
   "execution_count": 40,
   "metadata": {},
   "outputs": [],
   "source": [
    "net.reset()"
   ]
  },
  {
   "cell_type": "code",
   "execution_count": 32,
   "metadata": {},
   "outputs": [
    {
     "name": "stdout",
     "output_type": "stream",
     "text": [
      "Training...\n",
      "Epoch #    1 | train loss 0.58649 | output1 accuracy 0.50000 | output2 accuracy 0.50000 \n",
      "Epoch #   26 | train loss 0.50276 | output1 accuracy 0.50000 | output2 accuracy 0.50000 \n",
      "Epoch #   51 | train loss 0.50008 | output1 accuracy 0.75000 | output2 accuracy 0.50000 \n",
      "Epoch #   76 | train loss 0.50002 | output1 accuracy 0.75000 | output2 accuracy 0.50000 \n",
      "Epoch #  101 | train loss 0.50000 | output1 accuracy 0.25000 | output2 accuracy 0.75000 \n",
      "Epoch #  126 | train loss 0.49999 | output1 accuracy 0.50000 | output2 accuracy 0.50000 \n",
      "Epoch #  151 | train loss 0.49999 | output1 accuracy 0.75000 | output2 accuracy 0.50000 \n",
      "Epoch #  176 | train loss 0.49998 | output1 accuracy 0.50000 | output2 accuracy 0.50000 \n",
      "Epoch #  201 | train loss 0.49998 | output1 accuracy 0.50000 | output2 accuracy 0.50000 \n",
      "Epoch #  226 | train loss 0.49998 | output1 accuracy 0.50000 | output2 accuracy 0.50000 \n",
      "Epoch #  251 | train loss 0.49997 | output1 accuracy 0.50000 | output2 accuracy 0.50000 \n",
      "Epoch #  276 | train loss 0.49997 | output1 accuracy 0.50000 | output2 accuracy 0.50000 \n",
      "Epoch #  301 | train loss 0.49997 | output1 accuracy 0.50000 | output2 accuracy 0.50000 \n",
      "Epoch #  326 | train loss 0.49996 | output1 accuracy 0.50000 | output2 accuracy 0.50000 \n",
      "Epoch #  351 | train loss 0.49996 | output1 accuracy 0.50000 | output2 accuracy 0.50000 \n",
      "Epoch #  376 | train loss 0.49995 | output1 accuracy 0.50000 | output2 accuracy 0.50000 \n",
      "Epoch #  401 | train loss 0.49995 | output1 accuracy 0.50000 | output2 accuracy 0.50000 \n",
      "Epoch #  426 | train loss 0.49994 | output1 accuracy 0.50000 | output2 accuracy 0.50000 \n",
      "Epoch #  451 | train loss 0.49993 | output1 accuracy 0.50000 | output2 accuracy 0.50000 \n",
      "Epoch #  476 | train loss 0.49993 | output1 accuracy 0.50000 | output2 accuracy 0.50000 \n",
      "Epoch #  501 | train loss 0.49992 | output1 accuracy 0.50000 | output2 accuracy 0.50000 \n",
      "Epoch #  526 | train loss 0.49991 | output1 accuracy 0.50000 | output2 accuracy 0.50000 \n",
      "Epoch #  551 | train loss 0.49990 | output1 accuracy 0.50000 | output2 accuracy 0.50000 \n",
      "Epoch #  576 | train loss 0.49989 | output1 accuracy 0.50000 | output2 accuracy 0.50000 \n",
      "Epoch #  601 | train loss 0.49988 | output1 accuracy 0.50000 | output2 accuracy 0.50000 \n",
      "Epoch #  626 | train loss 0.49986 | output1 accuracy 0.50000 | output2 accuracy 0.50000 \n",
      "Epoch #  651 | train loss 0.49985 | output1 accuracy 0.50000 | output2 accuracy 0.50000 \n",
      "Epoch #  676 | train loss 0.49983 | output1 accuracy 0.50000 | output2 accuracy 0.50000 \n",
      "Epoch #  701 | train loss 0.49981 | output1 accuracy 0.50000 | output2 accuracy 0.50000 \n",
      "Epoch #  726 | train loss 0.49978 | output1 accuracy 0.50000 | output2 accuracy 0.50000 \n",
      "Epoch #  751 | train loss 0.49975 | output1 accuracy 0.50000 | output2 accuracy 0.50000 \n",
      "Epoch #  776 | train loss 0.49972 | output1 accuracy 0.50000 | output2 accuracy 0.50000 \n",
      "Epoch #  801 | train loss 0.49968 | output1 accuracy 0.50000 | output2 accuracy 0.50000 \n",
      "Epoch #  826 | train loss 0.49963 | output1 accuracy 0.50000 | output2 accuracy 0.50000 \n",
      "Epoch #  851 | train loss 0.49957 | output1 accuracy 0.50000 | output2 accuracy 0.50000 \n",
      "Epoch #  876 | train loss 0.49949 | output1 accuracy 0.50000 | output2 accuracy 0.50000 \n",
      "Epoch #  901 | train loss 0.49940 | output1 accuracy 0.50000 | output2 accuracy 0.50000 \n",
      "Epoch #  926 | train loss 0.49928 | output1 accuracy 0.50000 | output2 accuracy 0.50000 \n",
      "Epoch #  951 | train loss 0.49912 | output1 accuracy 0.50000 | output2 accuracy 0.50000 \n",
      "Epoch #  976 | train loss 0.49891 | output1 accuracy 0.50000 | output2 accuracy 0.50000 \n",
      "Epoch # 1001 | train loss 0.49862 | output1 accuracy 0.50000 | output2 accuracy 0.50000 \n",
      "Epoch # 1026 | train loss 0.49820 | output1 accuracy 0.50000 | output2 accuracy 0.50000 \n",
      "Epoch # 1051 | train loss 0.49758 | output1 accuracy 0.50000 | output2 accuracy 0.50000 \n",
      "Epoch # 1076 | train loss 0.49658 | output1 accuracy 0.75000 | output2 accuracy 0.50000 \n",
      "Epoch # 1101 | train loss 0.49486 | output1 accuracy 0.75000 | output2 accuracy 0.75000 \n",
      "Epoch # 1126 | train loss 0.49160 | output1 accuracy 0.75000 | output2 accuracy 0.75000 \n",
      "Epoch # 1151 | train loss 0.48456 | output1 accuracy 0.75000 | output2 accuracy 0.75000 \n",
      "Epoch # 1176 | train loss 0.46737 | output1 accuracy 0.75000 | output2 accuracy 0.75000 \n",
      "Epoch # 1201 | train loss 0.42680 | output1 accuracy 0.75000 | output2 accuracy 0.75000 \n",
      "Epoch # 1226 | train loss 0.36002 | output1 accuracy 0.75000 | output2 accuracy 0.75000 \n",
      "Epoch # 1251 | train loss 0.23500 | output1 accuracy 1.00000 | output2 accuracy 1.00000 \n",
      "Epoch # 1276 | train loss 0.06225 | output1 accuracy 1.00000 | output2 accuracy 1.00000 \n",
      "Epoch # 1301 | train loss 0.02145 | output1 accuracy 1.00000 | output2 accuracy 1.00000 \n",
      "Epoch # 1326 | train loss 0.01268 | output1 accuracy 1.00000 | output2 accuracy 1.00000 \n",
      "Epoch # 1351 | train loss 0.00915 | output1 accuracy 1.00000 | output2 accuracy 1.00000 \n",
      "Epoch # 1376 | train loss 0.00718 | output1 accuracy 1.00000 | output2 accuracy 1.00000 \n",
      "Epoch # 1401 | train loss 0.00590 | output1 accuracy 1.00000 | output2 accuracy 1.00000 \n",
      "Epoch # 1426 | train loss 0.00500 | output1 accuracy 1.00000 | output2 accuracy 1.00000 \n",
      "Epoch # 1451 | train loss 0.00434 | output1 accuracy 1.00000 | output2 accuracy 1.00000 \n",
      "Epoch # 1476 | train loss 0.00383 | output1 accuracy 1.00000 | output2 accuracy 1.00000 \n",
      "Epoch # 1501 | train loss 0.00342 | output1 accuracy 1.00000 | output2 accuracy 1.00000 \n",
      "Epoch # 1526 | train loss 0.00309 | output1 accuracy 1.00000 | output2 accuracy 1.00000 \n",
      "Epoch # 1551 | train loss 0.00281 | output1 accuracy 1.00000 | output2 accuracy 1.00000 \n",
      "Epoch # 1576 | train loss 0.00258 | output1 accuracy 1.00000 | output2 accuracy 1.00000 \n",
      "Epoch # 1601 | train loss 0.00239 | output1 accuracy 1.00000 | output2 accuracy 1.00000 \n",
      "Epoch # 1626 | train loss 0.00222 | output1 accuracy 1.00000 | output2 accuracy 1.00000 \n",
      "Epoch # 1651 | train loss 0.00207 | output1 accuracy 1.00000 | output2 accuracy 1.00000 \n",
      "Epoch # 1676 | train loss 0.00194 | output1 accuracy 1.00000 | output2 accuracy 1.00000 \n",
      "Epoch # 1701 | train loss 0.00183 | output1 accuracy 1.00000 | output2 accuracy 1.00000 \n",
      "Epoch # 1726 | train loss 0.00172 | output1 accuracy 1.00000 | output2 accuracy 1.00000 \n",
      "Epoch # 1751 | train loss 0.00163 | output1 accuracy 1.00000 | output2 accuracy 1.00000 \n",
      "Epoch # 1776 | train loss 0.00155 | output1 accuracy 1.00000 | output2 accuracy 1.00000 \n",
      "Epoch # 1801 | train loss 0.00147 | output1 accuracy 1.00000 | output2 accuracy 1.00000 \n",
      "Epoch # 1826 | train loss 0.00141 | output1 accuracy 1.00000 | output2 accuracy 1.00000 \n",
      "Epoch # 1851 | train loss 0.00134 | output1 accuracy 1.00000 | output2 accuracy 1.00000 \n",
      "Epoch # 1876 | train loss 0.00129 | output1 accuracy 1.00000 | output2 accuracy 1.00000 \n",
      "Epoch # 1901 | train loss 0.00123 | output1 accuracy 1.00000 | output2 accuracy 1.00000 \n",
      "Epoch # 1926 | train loss 0.00119 | output1 accuracy 1.00000 | output2 accuracy 1.00000 \n",
      "Epoch # 1951 | train loss 0.00114 | output1 accuracy 1.00000 | output2 accuracy 1.00000 \n",
      "Epoch # 1976 | train loss 0.00110 | output1 accuracy 1.00000 | output2 accuracy 1.00000 \n",
      "========================================================================\n",
      "Epoch # 2000 | train loss 0.00106 | output1 accuracy 1.00000 | output2 accuracy 1.00000 \n"
     ]
    }
   ],
   "source": [
    "net.train(epochs=2000, accuracy=1.0, report_rate=25)"
   ]
  },
  {
   "cell_type": "code",
   "execution_count": 33,
   "metadata": {},
   "outputs": [
    {
     "data": {
      "text/plain": [
       "[[0.5], [0.5]]"
      ]
     },
     "execution_count": 33,
     "metadata": {},
     "output_type": "execute_result"
    }
   ],
   "source": [
    "net.propagate_from(\"input1\", [0.0])"
   ]
  },
  {
   "cell_type": "code",
   "execution_count": 34,
   "metadata": {},
   "outputs": [
    {
     "data": {
      "text/plain": [
       "[[0.5], [0.5]]"
      ]
     },
     "execution_count": 34,
     "metadata": {},
     "output_type": "execute_result"
    }
   ],
   "source": [
    "net.propagate_from(\"shared-hidden\", [0.0] * 5)"
   ]
  },
  {
   "cell_type": "code",
   "execution_count": 35,
   "metadata": {},
   "outputs": [
    {
     "data": {
      "text/plain": [
       "[0.3751141130924225,\n",
       " 0.889658510684967,\n",
       " 0.89875328540802,\n",
       " 0.6092547178268433,\n",
       " 0.24401943385601044,\n",
       " 0.16180700063705444,\n",
       " 0.7947645783424377,\n",
       " 0.15046218037605286,\n",
       " 0.6669700145721436,\n",
       " 0.09412296116352081]"
      ]
     },
     "execution_count": 35,
     "metadata": {},
     "output_type": "execute_result"
    }
   ],
   "source": [
    "net.propagate_to(\"hidden1\", [[1], [1]])"
   ]
  },
  {
   "cell_type": "code",
   "execution_count": 36,
   "metadata": {},
   "outputs": [
    {
     "name": "stdout",
     "output_type": "stream",
     "text": [
      "Testing entire dataset...\n",
      "# | inputs | targets | outputs | result\n",
      "---------------------------------------\n",
      "0 | [[0.00],[0.00]] | [[0.00],[0.00]] | [[0.02],[0.02]] | correct\n",
      "1 | [[0.00],[1.00]] | [[1.00],[1.00]] | [[0.98],[0.98]] | correct\n",
      "2 | [[1.00],[0.00]] | [[1.00],[1.00]] | [[0.98],[0.98]] | correct\n",
      "3 | [[1.00],[1.00]] | [[0.00],[0.00]] | [[0.02],[0.02]] | correct\n",
      "Total count: 4\n",
      "      correct: 4\n",
      "      incorrect: 0\n",
      "Total percentage correct: 1.0\n"
     ]
    }
   ],
   "source": [
    "net.test()"
   ]
  },
  {
   "cell_type": "code",
   "execution_count": 37,
   "metadata": {},
   "outputs": [],
   "source": [
    "net.dataset.slice(2)"
   ]
  },
  {
   "cell_type": "code",
   "execution_count": 38,
   "metadata": {},
   "outputs": [
    {
     "name": "stdout",
     "output_type": "stream",
     "text": [
      "Training...\n",
      "Epoch # 2001 | train loss 0.00103 | output1 accuracy 1.00000 | output2 accuracy 1.00000 \n",
      "Epoch # 2026 | train loss 0.00094 | output1 accuracy 1.00000 | output2 accuracy 1.00000 \n",
      "Epoch # 2051 | train loss 0.00085 | output1 accuracy 1.00000 | output2 accuracy 1.00000 \n",
      "Epoch # 2076 | train loss 0.00078 | output1 accuracy 1.00000 | output2 accuracy 1.00000 \n",
      "Epoch # 2101 | train loss 0.00072 | output1 accuracy 1.00000 | output2 accuracy 1.00000 \n",
      "Epoch # 2126 | train loss 0.00067 | output1 accuracy 1.00000 | output2 accuracy 1.00000 \n",
      "Epoch # 2151 | train loss 0.00063 | output1 accuracy 1.00000 | output2 accuracy 1.00000 \n",
      "Epoch # 2176 | train loss 0.00060 | output1 accuracy 1.00000 | output2 accuracy 1.00000 \n",
      "Epoch # 2201 | train loss 0.00057 | output1 accuracy 1.00000 | output2 accuracy 1.00000 \n",
      "Epoch # 2226 | train loss 0.00054 | output1 accuracy 1.00000 | output2 accuracy 1.00000 \n",
      "Epoch # 2251 | train loss 0.00052 | output1 accuracy 1.00000 | output2 accuracy 1.00000 \n",
      "Epoch # 2276 | train loss 0.00049 | output1 accuracy 1.00000 | output2 accuracy 1.00000 \n",
      "Epoch # 2301 | train loss 0.00047 | output1 accuracy 1.00000 | output2 accuracy 1.00000 \n",
      "Epoch # 2326 | train loss 0.00046 | output1 accuracy 1.00000 | output2 accuracy 1.00000 \n",
      "Epoch # 2351 | train loss 0.00044 | output1 accuracy 1.00000 | output2 accuracy 1.00000 \n",
      "Epoch # 2376 | train loss 0.00042 | output1 accuracy 1.00000 | output2 accuracy 1.00000 \n",
      "Epoch # 2401 | train loss 0.00041 | output1 accuracy 1.00000 | output2 accuracy 1.00000 \n",
      "Epoch # 2426 | train loss 0.00039 | output1 accuracy 1.00000 | output2 accuracy 1.00000 \n",
      "Epoch # 2451 | train loss 0.00038 | output1 accuracy 1.00000 | output2 accuracy 1.00000 \n",
      "Epoch # 2476 | train loss 0.00037 | output1 accuracy 1.00000 | output2 accuracy 1.00000 \n",
      "Epoch # 2501 | train loss 0.00036 | output1 accuracy 1.00000 | output2 accuracy 1.00000 \n",
      "Epoch # 2526 | train loss 0.00035 | output1 accuracy 1.00000 | output2 accuracy 1.00000 \n",
      "Epoch # 2551 | train loss 0.00034 | output1 accuracy 1.00000 | output2 accuracy 1.00000 \n",
      "Epoch # 2576 | train loss 0.00033 | output1 accuracy 1.00000 | output2 accuracy 1.00000 \n",
      "Epoch # 2601 | train loss 0.00032 | output1 accuracy 1.00000 | output2 accuracy 1.00000 \n",
      "Epoch # 2626 | train loss 0.00031 | output1 accuracy 1.00000 | output2 accuracy 1.00000 \n",
      "Epoch # 2651 | train loss 0.00030 | output1 accuracy 1.00000 | output2 accuracy 1.00000 \n",
      "Epoch # 2676 | train loss 0.00030 | output1 accuracy 1.00000 | output2 accuracy 1.00000 \n",
      "Epoch # 2701 | train loss 0.00029 | output1 accuracy 1.00000 | output2 accuracy 1.00000 \n",
      "Epoch # 2726 | train loss 0.00028 | output1 accuracy 1.00000 | output2 accuracy 1.00000 \n",
      "Epoch # 2751 | train loss 0.00028 | output1 accuracy 1.00000 | output2 accuracy 1.00000 \n",
      "Epoch # 2776 | train loss 0.00027 | output1 accuracy 1.00000 | output2 accuracy 1.00000 \n",
      "Epoch # 2801 | train loss 0.00026 | output1 accuracy 1.00000 | output2 accuracy 1.00000 \n",
      "Epoch # 2826 | train loss 0.00026 | output1 accuracy 1.00000 | output2 accuracy 1.00000 \n",
      "Epoch # 2851 | train loss 0.00025 | output1 accuracy 1.00000 | output2 accuracy 1.00000 \n",
      "Epoch # 2876 | train loss 0.00025 | output1 accuracy 1.00000 | output2 accuracy 1.00000 \n",
      "Epoch # 2901 | train loss 0.00024 | output1 accuracy 1.00000 | output2 accuracy 1.00000 \n",
      "Epoch # 2926 | train loss 0.00024 | output1 accuracy 1.00000 | output2 accuracy 1.00000 \n",
      "Epoch # 2951 | train loss 0.00023 | output1 accuracy 1.00000 | output2 accuracy 1.00000 \n",
      "Epoch # 2976 | train loss 0.00023 | output1 accuracy 1.00000 | output2 accuracy 1.00000 \n",
      "Epoch # 3001 | train loss 0.00023 | output1 accuracy 1.00000 | output2 accuracy 1.00000 \n",
      "Epoch # 3026 | train loss 0.00022 | output1 accuracy 1.00000 | output2 accuracy 1.00000 \n",
      "Epoch # 3051 | train loss 0.00022 | output1 accuracy 1.00000 | output2 accuracy 1.00000 \n",
      "Epoch # 3076 | train loss 0.00021 | output1 accuracy 1.00000 | output2 accuracy 1.00000 \n",
      "Epoch # 3101 | train loss 0.00021 | output1 accuracy 1.00000 | output2 accuracy 1.00000 \n",
      "Epoch # 3126 | train loss 0.00021 | output1 accuracy 1.00000 | output2 accuracy 1.00000 \n",
      "Epoch # 3151 | train loss 0.00020 | output1 accuracy 1.00000 | output2 accuracy 1.00000 \n",
      "Epoch # 3176 | train loss 0.00020 | output1 accuracy 1.00000 | output2 accuracy 1.00000 \n",
      "Epoch # 3201 | train loss 0.00020 | output1 accuracy 1.00000 | output2 accuracy 1.00000 \n",
      "Epoch # 3226 | train loss 0.00019 | output1 accuracy 1.00000 | output2 accuracy 1.00000 \n",
      "Epoch # 3251 | train loss 0.00019 | output1 accuracy 1.00000 | output2 accuracy 1.00000 \n",
      "Epoch # 3276 | train loss 0.00019 | output1 accuracy 1.00000 | output2 accuracy 1.00000 \n",
      "Epoch # 3301 | train loss 0.00019 | output1 accuracy 1.00000 | output2 accuracy 1.00000 \n",
      "Epoch # 3326 | train loss 0.00018 | output1 accuracy 1.00000 | output2 accuracy 1.00000 \n",
      "Epoch # 3351 | train loss 0.00018 | output1 accuracy 1.00000 | output2 accuracy 1.00000 \n",
      "Epoch # 3376 | train loss 0.00018 | output1 accuracy 1.00000 | output2 accuracy 1.00000 \n",
      "Epoch # 3401 | train loss 0.00017 | output1 accuracy 1.00000 | output2 accuracy 1.00000 \n",
      "Epoch # 3426 | train loss 0.00017 | output1 accuracy 1.00000 | output2 accuracy 1.00000 \n",
      "Epoch # 3451 | train loss 0.00017 | output1 accuracy 1.00000 | output2 accuracy 1.00000 \n",
      "Epoch # 3476 | train loss 0.00017 | output1 accuracy 1.00000 | output2 accuracy 1.00000 \n",
      "Epoch # 3501 | train loss 0.00017 | output1 accuracy 1.00000 | output2 accuracy 1.00000 \n",
      "Epoch # 3526 | train loss 0.00016 | output1 accuracy 1.00000 | output2 accuracy 1.00000 \n",
      "Epoch # 3551 | train loss 0.00016 | output1 accuracy 1.00000 | output2 accuracy 1.00000 \n",
      "Epoch # 3576 | train loss 0.00016 | output1 accuracy 1.00000 | output2 accuracy 1.00000 \n",
      "Epoch # 3601 | train loss 0.00016 | output1 accuracy 1.00000 | output2 accuracy 1.00000 \n",
      "Epoch # 3626 | train loss 0.00016 | output1 accuracy 1.00000 | output2 accuracy 1.00000 \n",
      "Epoch # 3651 | train loss 0.00015 | output1 accuracy 1.00000 | output2 accuracy 1.00000 \n",
      "Epoch # 3676 | train loss 0.00015 | output1 accuracy 1.00000 | output2 accuracy 1.00000 \n",
      "Epoch # 3701 | train loss 0.00015 | output1 accuracy 1.00000 | output2 accuracy 1.00000 \n",
      "Epoch # 3726 | train loss 0.00015 | output1 accuracy 1.00000 | output2 accuracy 1.00000 \n",
      "Epoch # 3751 | train loss 0.00015 | output1 accuracy 1.00000 | output2 accuracy 1.00000 \n",
      "Epoch # 3776 | train loss 0.00014 | output1 accuracy 1.00000 | output2 accuracy 1.00000 \n",
      "Epoch # 3801 | train loss 0.00014 | output1 accuracy 1.00000 | output2 accuracy 1.00000 \n",
      "Epoch # 3826 | train loss 0.00014 | output1 accuracy 1.00000 | output2 accuracy 1.00000 \n",
      "Epoch # 3851 | train loss 0.00014 | output1 accuracy 1.00000 | output2 accuracy 1.00000 \n",
      "Epoch # 3876 | train loss 0.00014 | output1 accuracy 1.00000 | output2 accuracy 1.00000 \n",
      "Epoch # 3901 | train loss 0.00014 | output1 accuracy 1.00000 | output2 accuracy 1.00000 \n",
      "Epoch # 3926 | train loss 0.00014 | output1 accuracy 1.00000 | output2 accuracy 1.00000 \n",
      "Epoch # 3951 | train loss 0.00013 | output1 accuracy 1.00000 | output2 accuracy 1.00000 \n",
      "Epoch # 3976 | train loss 0.00013 | output1 accuracy 1.00000 | output2 accuracy 1.00000 \n",
      "========================================================================\n",
      "Epoch # 4000 | train loss 0.00013 | output1 accuracy 1.00000 | output2 accuracy 1.00000 \n"
     ]
    }
   ],
   "source": [
    "net.train(epochs=2000, accuracy=1.0, report_rate=25)"
   ]
  },
  {
   "cell_type": "markdown",
   "metadata": {},
   "source": [
    "# Conx model is a Keras Model"
   ]
  },
  {
   "cell_type": "code",
   "execution_count": 39,
   "metadata": {},
   "outputs": [],
   "source": [
    "from keras.utils.vis_utils import model_to_dot\n",
    "from IPython.display import HTML"
   ]
  },
  {
   "cell_type": "code",
   "execution_count": 40,
   "metadata": {},
   "outputs": [],
   "source": [
    "dot = model_to_dot(net.model, rankdir=\"BT\")"
   ]
  },
  {
   "cell_type": "code",
   "execution_count": 41,
   "metadata": {},
   "outputs": [
    {
     "data": {
      "text/html": [
       "<?xml version=\"1.0\" encoding=\"UTF-8\" standalone=\"no\"?>\n",
       "<!DOCTYPE svg PUBLIC \"-//W3C//DTD SVG 1.1//EN\"\n",
       " \"http://www.w3.org/Graphics/SVG/1.1/DTD/svg11.dtd\">\n",
       "<!-- Generated by graphviz version 2.38.0 (20140413.2041)\n",
       " -->\n",
       "<!-- Title: G Pages: 1 -->\n",
       "<svg width=\"264pt\" height=\"337pt\"\n",
       " viewBox=\"0.00 0.00 264.00 337.00\" xmlns=\"http://www.w3.org/2000/svg\" xmlns:xlink=\"http://www.w3.org/1999/xlink\">\n",
       "<g id=\"graph0\" class=\"graph\" transform=\"scale(1 1) rotate(0) translate(4 333)\">\n",
       "<title>G</title>\n",
       "<polygon fill=\"white\" stroke=\"none\" points=\"-4,4 -4,-333 260,-333 260,4 -4,4\"/>\n",
       "<!-- 139647785814112 -->\n",
       "<g id=\"node1\" class=\"node\"><title>139647785814112</title>\n",
       "<polygon fill=\"none\" stroke=\"black\" points=\"0,-0.5 0,-36.5 119,-36.5 119,-0.5 0,-0.5\"/>\n",
       "<text text-anchor=\"middle\" x=\"59.5\" y=\"-14.8\" font-family=\"Times,serif\" font-size=\"14.00\">input1: InputLayer</text>\n",
       "</g>\n",
       "<!-- 139646339722656 -->\n",
       "<g id=\"node3\" class=\"node\"><title>139646339722656</title>\n",
       "<polygon fill=\"none\" stroke=\"black\" points=\"13,-73.5 13,-109.5 114,-109.5 114,-73.5 13,-73.5\"/>\n",
       "<text text-anchor=\"middle\" x=\"63.5\" y=\"-87.8\" font-family=\"Times,serif\" font-size=\"14.00\">hidden1: Dense</text>\n",
       "</g>\n",
       "<!-- 139647785814112&#45;&gt;139646339722656 -->\n",
       "<g id=\"edge1\" class=\"edge\"><title>139647785814112&#45;&gt;139646339722656</title>\n",
       "<path fill=\"none\" stroke=\"black\" d=\"M60.4683,-36.6871C60.9203,-44.7105 61.4692,-54.4525 61.975,-63.4309\"/>\n",
       "<polygon fill=\"black\" stroke=\"black\" points=\"58.4836,-63.6839 62.5406,-73.4712 65.4725,-63.2901 58.4836,-63.6839\"/>\n",
       "</g>\n",
       "<!-- 139646432729352 -->\n",
       "<g id=\"node2\" class=\"node\"><title>139646432729352</title>\n",
       "<polygon fill=\"none\" stroke=\"black\" points=\"137,-0.5 137,-36.5 256,-36.5 256,-0.5 137,-0.5\"/>\n",
       "<text text-anchor=\"middle\" x=\"196.5\" y=\"-14.8\" font-family=\"Times,serif\" font-size=\"14.00\">input2: InputLayer</text>\n",
       "</g>\n",
       "<!-- 139646432729744 -->\n",
       "<g id=\"node4\" class=\"node\"><title>139646432729744</title>\n",
       "<polygon fill=\"none\" stroke=\"black\" points=\"141,-73.5 141,-109.5 242,-109.5 242,-73.5 141,-73.5\"/>\n",
       "<text text-anchor=\"middle\" x=\"191.5\" y=\"-87.8\" font-family=\"Times,serif\" font-size=\"14.00\">hidden2: Dense</text>\n",
       "</g>\n",
       "<!-- 139646432729352&#45;&gt;139646432729744 -->\n",
       "<g id=\"edge2\" class=\"edge\"><title>139646432729352&#45;&gt;139646432729744</title>\n",
       "<path fill=\"none\" stroke=\"black\" d=\"M195.29,-36.6871C194.725,-44.7105 194.039,-54.4525 193.406,-63.4309\"/>\n",
       "<polygon fill=\"black\" stroke=\"black\" points=\"189.91,-63.25 192.699,-73.4712 196.893,-63.7418 189.91,-63.25\"/>\n",
       "</g>\n",
       "<!-- 139646337326888 -->\n",
       "<g id=\"node5\" class=\"node\"><title>139646337326888</title>\n",
       "<polygon fill=\"none\" stroke=\"black\" points=\"43.5,-146.5 43.5,-182.5 211.5,-182.5 211.5,-146.5 43.5,-146.5\"/>\n",
       "<text text-anchor=\"middle\" x=\"127.5\" y=\"-160.8\" font-family=\"Times,serif\" font-size=\"14.00\">concatenate_1: Concatenate</text>\n",
       "</g>\n",
       "<!-- 139646339722656&#45;&gt;139646337326888 -->\n",
       "<g id=\"edge3\" class=\"edge\"><title>139646339722656&#45;&gt;139646337326888</title>\n",
       "<path fill=\"none\" stroke=\"black\" d=\"M78.9926,-109.687C86.9325,-118.495 96.7394,-129.375 105.453,-139.042\"/>\n",
       "<polygon fill=\"black\" stroke=\"black\" points=\"102.855,-141.387 112.15,-146.471 108.054,-136.7 102.855,-141.387\"/>\n",
       "</g>\n",
       "<!-- 139646432729744&#45;&gt;139646337326888 -->\n",
       "<g id=\"edge4\" class=\"edge\"><title>139646432729744&#45;&gt;139646337326888</title>\n",
       "<path fill=\"none\" stroke=\"black\" d=\"M176.007,-109.687C168.068,-118.495 158.261,-129.375 149.547,-139.042\"/>\n",
       "<polygon fill=\"black\" stroke=\"black\" points=\"146.946,-136.7 142.85,-146.471 152.145,-141.387 146.946,-136.7\"/>\n",
       "</g>\n",
       "<!-- 139646339720304 -->\n",
       "<g id=\"node6\" class=\"node\"><title>139646339720304</title>\n",
       "<polygon fill=\"none\" stroke=\"black\" points=\"60.5,-219.5 60.5,-255.5 194.5,-255.5 194.5,-219.5 60.5,-219.5\"/>\n",
       "<text text-anchor=\"middle\" x=\"127.5\" y=\"-233.8\" font-family=\"Times,serif\" font-size=\"14.00\">shared&#45;hidden: Dense</text>\n",
       "</g>\n",
       "<!-- 139646337326888&#45;&gt;139646339720304 -->\n",
       "<g id=\"edge5\" class=\"edge\"><title>139646337326888&#45;&gt;139646339720304</title>\n",
       "<path fill=\"none\" stroke=\"black\" d=\"M127.5,-182.687C127.5,-190.711 127.5,-200.453 127.5,-209.431\"/>\n",
       "<polygon fill=\"black\" stroke=\"black\" points=\"124,-209.471 127.5,-219.471 131,-209.471 124,-209.471\"/>\n",
       "</g>\n",
       "<!-- 139646339868096 -->\n",
       "<g id=\"node7\" class=\"node\"><title>139646339868096</title>\n",
       "<polygon fill=\"none\" stroke=\"black\" points=\"20,-292.5 20,-328.5 119,-328.5 119,-292.5 20,-292.5\"/>\n",
       "<text text-anchor=\"middle\" x=\"69.5\" y=\"-306.8\" font-family=\"Times,serif\" font-size=\"14.00\">output1: Dense</text>\n",
       "</g>\n",
       "<!-- 139646339720304&#45;&gt;139646339868096 -->\n",
       "<g id=\"edge6\" class=\"edge\"><title>139646339720304&#45;&gt;139646339868096</title>\n",
       "<path fill=\"none\" stroke=\"black\" d=\"M113.46,-255.687C106.407,-264.321 97.7281,-274.945 89.9504,-284.466\"/>\n",
       "<polygon fill=\"black\" stroke=\"black\" points=\"87.0268,-282.512 83.4109,-292.471 92.4479,-286.941 87.0268,-282.512\"/>\n",
       "</g>\n",
       "<!-- 139646337327000 -->\n",
       "<g id=\"node8\" class=\"node\"><title>139646337327000</title>\n",
       "<polygon fill=\"none\" stroke=\"black\" points=\"137,-292.5 137,-328.5 236,-328.5 236,-292.5 137,-292.5\"/>\n",
       "<text text-anchor=\"middle\" x=\"186.5\" y=\"-306.8\" font-family=\"Times,serif\" font-size=\"14.00\">output2: Dense</text>\n",
       "</g>\n",
       "<!-- 139646339720304&#45;&gt;139646337327000 -->\n",
       "<g id=\"edge7\" class=\"edge\"><title>139646339720304&#45;&gt;139646337327000</title>\n",
       "<path fill=\"none\" stroke=\"black\" d=\"M141.782,-255.687C149.029,-264.408 157.964,-275.16 165.936,-284.754\"/>\n",
       "<polygon fill=\"black\" stroke=\"black\" points=\"163.266,-287.017 172.349,-292.471 168.65,-282.543 163.266,-287.017\"/>\n",
       "</g>\n",
       "</g>\n",
       "</svg>\n"
      ],
      "text/plain": [
       "<IPython.core.display.HTML object>"
      ]
     },
     "execution_count": 41,
     "metadata": {},
     "output_type": "execute_result"
    }
   ],
   "source": [
    "HTML(dot.create_svg().decode())"
   ]
  },
  {
   "cell_type": "code",
   "execution_count": null,
   "metadata": {
    "collapsed": true
   },
   "outputs": [],
   "source": []
  }
 ],
 "metadata": {
  "kernelspec": {
   "display_name": "Python 3",
   "language": "python",
   "name": "python3"
  },
  "language_info": {
   "codemirror_mode": {
    "name": "ipython",
    "version": 3
   },
   "file_extension": ".py",
   "mimetype": "text/x-python",
   "name": "python",
   "nbconvert_exporter": "python",
   "pygments_lexer": "ipython3",
   "version": "3.5.3"
  },
  "widgets": {
   "application/vnd.jupyter.widget-state+json": {
    "state": {
     "00f408527de64abeafdc07452add2f93": {
      "model_module": "jupyter-js-widgets",
      "model_module_version": "~2.1.4",
      "model_name": "HTMLModel",
      "state": {
       "_model_module_version": "~2.1.4",
       "_view_module_version": "~2.1.4",
       "layout": "IPY_MODEL_3ab9546148904e7eb91f9c59b206f517",
       "value": "\n        <svg id='XOR2 Network' xmlns='http://www.w3.org/2000/svg' width=\"800\" height=\"310\" image-rendering=\"pixelated\">\n    <defs>\n        <marker id=\"arrow\" markerWidth=\"10\" markerHeight=\"10\" refX=\"9\" refY=\"3\" orient=\"auto\" markerUnits=\"strokeWidth\">\n          <path d=\"M0,0 L0,6 L9,3 z\" fill=\"black\" />\n        </marker>\n    </defs>\n<text x=\"400.0\" y=\"12.5\" font-family=\"monospace\" font-size=\"15\" text-anchor=\"middle\" alignment-baseline=\"central\">XOR2 Network</text><rect x=\"240.66666666666669\" y=\"29\" width=\"52\" height=\"52\" style=\"fill:none;stroke:black;stroke-width:2\"/><image id=\"XOR2 Network_output1_1\" class=\"XOR2 Network_output1\" x=\"241.66666666666669\" y=\"30\" height=\"50\" width=\"50\" preserveAspectRatio=\"none\" href=\"data:image/gif;base64,R0lGODdhAQABAIcAAPGefAAAAAAAAAAAAAAAAAAAAAAAAAAAAAAAAAAAAAAAAAAAAAAAAAAAAAAAAAAAAAAAAAAAAAAAAAAAAAAAAAAAAAAAAAAAAAAAAAAAAAAAAAAAAAAAAAAAAAAAAAAAAAAAAAAAAAAAAAAAAAAAAAAAAAAAAAAAAAAAAAAAAAAAAAAAAAAAAAAAAAAAAAAAAAAAAAAAAAAAAAAAAAAAAAAAAAAAAAAAAAAAAAAAAAAAAAAAAAAAAAAAAAAAAAAAAAAAAAAAAAAAAAAAAAAAAAAAAAAAAAAAAAAAAAAAAAAAAAAAAAAAAAAAAAAAAAAAAAAAAAAAAAAAAAAAAAAAAAAAAAAAAAAAAAAAAAAAAAAAAAAAAAAAAAAAAAAAAAAAAAAAAAAAAAAAAAAAAAAAAAAAAAAAAAAAAAAAAAAAAAAAAAAAAAAAAAAAAAAAAAAAAAAAAAAAAAAAAAAAAAAAAAAAAAAAAAAAAAAAAAAAAAAAAAAAAAAAAAAAAAAAAAAAAAAAAAAAAAAAAAAAAAAAAAAAAAAAAAAAAAAAAAAAAAAAAAAAAAAAAAAAAAAAAAAAAAAAAAAAAAAAAAAAAAAAAAAAAAAAAAAAAAAAAAAAAAAAAAAAAAAAAAAAAAAAAAAAAAAAAAAAAAAAAAAAAAAAAAAAAAAAAAAAAAAAAAAAAAAAAAAAAAAAAAAAAAAAAAAAAAAAAAAAAAAAAAAAAAAAAAAAAAAAAAAAAAAAAAAAAAAAAAAAAAAAAAAAAAAAAAAAAAAAAAAAAAAAAAAAAAAAAAAAAAAAAAAAAAAAAAAAAAAAAAAAAAAAAAAAAAAAAAAAAAAAAAAAAAAAAAAAAAAAAAAAAAAAAAAAAAAAAAAAAAAAAAAAAAAAAAAAAAAAAAAAAAAAAAAAAAAAAAAAAAAAAAAAAAAAAAAAAAAAAAAAAAAAAAAAAAAAAAAAAAAAAAAAAAAAAAAAAAAAAAAAAAAAAAAAAAAAAAAAAAAAAAAAAAAAAAAAAAAAAAAAAAAAAAAAACwAAAAAAQABAAAIBQABbAgIADs=\"><title>Layer: output1 (output)\n shape = (1,)\n Keras class = Dense\n activation = sigmoid</title></image><text x=\"296.6666666666667\" y=\"57.0\" font-family=\"monospace\" font-size=\"12\" text-anchor=\"start\" alignment-baseline=\"central\">output1</text><rect x=\"507.33333333333337\" y=\"29\" width=\"52\" height=\"52\" style=\"fill:none;stroke:black;stroke-width:2\"/><image id=\"XOR2 Network_output2_2\" class=\"XOR2 Network_output2\" x=\"508.33333333333337\" y=\"30\" height=\"50\" width=\"50\" preserveAspectRatio=\"none\" href=\"data:image/gif;base64,R0lGODdhAQABAIcAAP3r4QAAAAAAAAAAAAAAAAAAAAAAAAAAAAAAAAAAAAAAAAAAAAAAAAAAAAAAAAAAAAAAAAAAAAAAAAAAAAAAAAAAAAAAAAAAAAAAAAAAAAAAAAAAAAAAAAAAAAAAAAAAAAAAAAAAAAAAAAAAAAAAAAAAAAAAAAAAAAAAAAAAAAAAAAAAAAAAAAAAAAAAAAAAAAAAAAAAAAAAAAAAAAAAAAAAAAAAAAAAAAAAAAAAAAAAAAAAAAAAAAAAAAAAAAAAAAAAAAAAAAAAAAAAAAAAAAAAAAAAAAAAAAAAAAAAAAAAAAAAAAAAAAAAAAAAAAAAAAAAAAAAAAAAAAAAAAAAAAAAAAAAAAAAAAAAAAAAAAAAAAAAAAAAAAAAAAAAAAAAAAAAAAAAAAAAAAAAAAAAAAAAAAAAAAAAAAAAAAAAAAAAAAAAAAAAAAAAAAAAAAAAAAAAAAAAAAAAAAAAAAAAAAAAAAAAAAAAAAAAAAAAAAAAAAAAAAAAAAAAAAAAAAAAAAAAAAAAAAAAAAAAAAAAAAAAAAAAAAAAAAAAAAAAAAAAAAAAAAAAAAAAAAAAAAAAAAAAAAAAAAAAAAAAAAAAAAAAAAAAAAAAAAAAAAAAAAAAAAAAAAAAAAAAAAAAAAAAAAAAAAAAAAAAAAAAAAAAAAAAAAAAAAAAAAAAAAAAAAAAAAAAAAAAAAAAAAAAAAAAAAAAAAAAAAAAAAAAAAAAAAAAAAAAAAAAAAAAAAAAAAAAAAAAAAAAAAAAAAAAAAAAAAAAAAAAAAAAAAAAAAAAAAAAAAAAAAAAAAAAAAAAAAAAAAAAAAAAAAAAAAAAAAAAAAAAAAAAAAAAAAAAAAAAAAAAAAAAAAAAAAAAAAAAAAAAAAAAAAAAAAAAAAAAAAAAAAAAAAAAAAAAAAAAAAAAAAAAAAAAAAAAAAAAAAAAAAAAAAAAAAAAAAAAAAAAAAAAAAAAAAAAAAAAAAAAAAAAAAAAAAAAAAAAAAAAAAAAAAAAAAAAAAAAAAAAAAAAAAAAACwAAAAAAQABAAAIBQABbAgIADs=\"><title>Layer: output2 (output)\n shape = (1,)\n Keras class = Dense\n activation = sigmoid</title></image><text x=\"563.3333333333334\" y=\"57.0\" font-family=\"monospace\" font-size=\"12\" text-anchor=\"start\" alignment-baseline=\"central\">output2</text><line x1=\"400.0\" y1=\"109\" x2=\"266.6666666666667\" y2=\"82\" stroke=\"black\" stroke-width=\"2\" marker-end=\"url(#arrow)\"><title>Weights from shared-hidden to output1\n output1/kernel has shape (5, 1)\n output1/bias has shape (1,)</title></line><line x1=\"400.0\" y1=\"109\" x2=\"533.3333333333334\" y2=\"82\" stroke=\"black\" stroke-width=\"2\" marker-end=\"url(#arrow)\"><title>Weights from shared-hidden to output2\n output2/kernel has shape (5, 1)\n output2/bias has shape (1,)</title></line><rect x=\"299.0\" y=\"109\" width=\"202\" height=\"42\" style=\"fill:none;stroke:black;stroke-width:2\"/><image id=\"XOR2 Network_shared-hidden_3\" class=\"XOR2 Network_shared-hidden\" x=\"300.0\" y=\"110\" height=\"40\" width=\"200\" preserveAspectRatio=\"none\" href=\"data:image/gif;base64,R0lGODdhBQABAIcAAMnJydvb2/i/o/7w5wAAAAAAAAAAAAAAAAAAAAAAAAAAAAAAAAAAAAAAAAAAAAAAAAAAAAAAAAAAAAAAAAAAAAAAAAAAAAAAAAAAAAAAAAAAAAAAAAAAAAAAAAAAAAAAAAAAAAAAAAAAAAAAAAAAAAAAAAAAAAAAAAAAAAAAAAAAAAAAAAAAAAAAAAAAAAAAAAAAAAAAAAAAAAAAAAAAAAAAAAAAAAAAAAAAAAAAAAAAAAAAAAAAAAAAAAAAAAAAAAAAAAAAAAAAAAAAAAAAAAAAAAAAAAAAAAAAAAAAAAAAAAAAAAAAAAAAAAAAAAAAAAAAAAAAAAAAAAAAAAAAAAAAAAAAAAAAAAAAAAAAAAAAAAAAAAAAAAAAAAAAAAAAAAAAAAAAAAAAAAAAAAAAAAAAAAAAAAAAAAAAAAAAAAAAAAAAAAAAAAAAAAAAAAAAAAAAAAAAAAAAAAAAAAAAAAAAAAAAAAAAAAAAAAAAAAAAAAAAAAAAAAAAAAAAAAAAAAAAAAAAAAAAAAAAAAAAAAAAAAAAAAAAAAAAAAAAAAAAAAAAAAAAAAAAAAAAAAAAAAAAAAAAAAAAAAAAAAAAAAAAAAAAAAAAAAAAAAAAAAAAAAAAAAAAAAAAAAAAAAAAAAAAAAAAAAAAAAAAAAAAAAAAAAAAAAAAAAAAAAAAAAAAAAAAAAAAAAAAAAAAAAAAAAAAAAAAAAAAAAAAAAAAAAAAAAAAAAAAAAAAAAAAAAAAAAAAAAAAAAAAAAAAAAAAAAAAAAAAAAAAAAAAAAAAAAAAAAAAAAAAAAAAAAAAAAAAAAAAAAAAAAAAAAAAAAAAAAAAAAAAAAAAAAAAAAAAAAAAAAAAAAAAAAAAAAAAAAAAAAAAAAAAAAAAAAAAAAAAAAAAAAAAAAAAAAAAAAAAAAAAAAAAAAAAAAAAAAAAAAAAAAAAAAAAAAAAAAAAAAAAAAAAAAAAAAAAAAAAAAAAAAAAAAAAAAAAAAAAAAAAAAAAAAAAAAAAAAAAAAAAAAAAACwAAAAABQABAAAICAABCAAwIEBAADs=\"><title>Layer: shared-hidden (hidden)\n shape = (5,)\n Keras class = Dense\n activation = sigmoid</title></image><text x=\"505.0\" y=\"132.0\" font-family=\"monospace\" font-size=\"12\" text-anchor=\"start\" alignment-baseline=\"central\">shared-hidden</text><line x1=\"266.6666666666667\" y1=\"179\" x2=\"400.0\" y2=\"152\" stroke=\"black\" stroke-width=\"2\" marker-end=\"url(#arrow)\"><title>Weights from hidden1 to shared-hidden\n shared-hidden/kernel has shape (20, 5)\n shared-hidden/bias has shape (5,)</title></line><rect x=\"165.66666666666669\" y=\"179\" width=\"202\" height=\"27\" style=\"fill:none;stroke:black;stroke-width:2\"/><image id=\"XOR2 Network_hidden1_4\" class=\"XOR2 Network_hidden1\" x=\"166.66666666666669\" y=\"180\" height=\"25\" width=\"200\" preserveAspectRatio=\"none\" href=\"data:image/gif;base64,R0lGODdhCgABAIcAAP7+/QAAAAAAAAAAAAAAAAAAAAAAAAAAAAAAAAAAAAAAAAAAAAAAAAAAAAAAAAAAAAAAAAAAAAAAAAAAAAAAAAAAAAAAAAAAAAAAAAAAAAAAAAAAAAAAAAAAAAAAAAAAAAAAAAAAAAAAAAAAAAAAAAAAAAAAAAAAAAAAAAAAAAAAAAAAAAAAAAAAAAAAAAAAAAAAAAAAAAAAAAAAAAAAAAAAAAAAAAAAAAAAAAAAAAAAAAAAAAAAAAAAAAAAAAAAAAAAAAAAAAAAAAAAAAAAAAAAAAAAAAAAAAAAAAAAAAAAAAAAAAAAAAAAAAAAAAAAAAAAAAAAAAAAAAAAAAAAAAAAAAAAAAAAAAAAAAAAAAAAAAAAAAAAAAAAAAAAAAAAAAAAAAAAAAAAAAAAAAAAAAAAAAAAAAAAAAAAAAAAAAAAAAAAAAAAAAAAAAAAAAAAAAAAAAAAAAAAAAAAAAAAAAAAAAAAAAAAAAAAAAAAAAAAAAAAAAAAAAAAAAAAAAAAAAAAAAAAAAAAAAAAAAAAAAAAAAAAAAAAAAAAAAAAAAAAAAAAAAAAAAAAAAAAAAAAAAAAAAAAAAAAAAAAAAAAAAAAAAAAAAAAAAAAAAAAAAAAAAAAAAAAAAAAAAAAAAAAAAAAAAAAAAAAAAAAAAAAAAAAAAAAAAAAAAAAAAAAAAAAAAAAAAAAAAAAAAAAAAAAAAAAAAAAAAAAAAAAAAAAAAAAAAAAAAAAAAAAAAAAAAAAAAAAAAAAAAAAAAAAAAAAAAAAAAAAAAAAAAAAAAAAAAAAAAAAAAAAAAAAAAAAAAAAAAAAAAAAAAAAAAAAAAAAAAAAAAAAAAAAAAAAAAAAAAAAAAAAAAAAAAAAAAAAAAAAAAAAAAAAAAAAAAAAAAAAAAAAAAAAAAAAAAAAAAAAAAAAAAAAAAAAAAAAAAAAAAAAAAAAAAAAAAAAAAAAAAAAAAAAAAAAAAAAAAAAAAAAAAAAAAAAAAAAAAAAAAAAAAAAAAAAAAAAAAAAAAAAAAAAACwAAAAACgABAAAIBwABCBxIMCAAOw==\"><title>Layer: hidden1 (hidden)\n shape = (10,)\n Keras class = Dense\n activation = sigmoid</title></image><text x=\"371.6666666666667\" y=\"194.5\" font-family=\"monospace\" font-size=\"12\" text-anchor=\"start\" alignment-baseline=\"central\">hidden1</text><line x1=\"533.3333333333334\" y1=\"179\" x2=\"400.0\" y2=\"152\" stroke=\"black\" stroke-width=\"2\" marker-end=\"url(#arrow)\"><title>Weights from hidden2 to shared-hidden\n shared-hidden/kernel has shape (20, 5)\n shared-hidden/bias has shape (5,)</title></line><rect x=\"432.33333333333337\" y=\"179\" width=\"202\" height=\"27\" style=\"fill:none;stroke:black;stroke-width:2\"/><image id=\"XOR2 Network_hidden2_5\" class=\"XOR2 Network_hidden2\" x=\"433.33333333333337\" y=\"180\" height=\"25\" width=\"200\" preserveAspectRatio=\"none\" href=\"data:image/gif;base64,R0lGODdhCgABAIcAAP7+/QAAAAAAAAAAAAAAAAAAAAAAAAAAAAAAAAAAAAAAAAAAAAAAAAAAAAAAAAAAAAAAAAAAAAAAAAAAAAAAAAAAAAAAAAAAAAAAAAAAAAAAAAAAAAAAAAAAAAAAAAAAAAAAAAAAAAAAAAAAAAAAAAAAAAAAAAAAAAAAAAAAAAAAAAAAAAAAAAAAAAAAAAAAAAAAAAAAAAAAAAAAAAAAAAAAAAAAAAAAAAAAAAAAAAAAAAAAAAAAAAAAAAAAAAAAAAAAAAAAAAAAAAAAAAAAAAAAAAAAAAAAAAAAAAAAAAAAAAAAAAAAAAAAAAAAAAAAAAAAAAAAAAAAAAAAAAAAAAAAAAAAAAAAAAAAAAAAAAAAAAAAAAAAAAAAAAAAAAAAAAAAAAAAAAAAAAAAAAAAAAAAAAAAAAAAAAAAAAAAAAAAAAAAAAAAAAAAAAAAAAAAAAAAAAAAAAAAAAAAAAAAAAAAAAAAAAAAAAAAAAAAAAAAAAAAAAAAAAAAAAAAAAAAAAAAAAAAAAAAAAAAAAAAAAAAAAAAAAAAAAAAAAAAAAAAAAAAAAAAAAAAAAAAAAAAAAAAAAAAAAAAAAAAAAAAAAAAAAAAAAAAAAAAAAAAAAAAAAAAAAAAAAAAAAAAAAAAAAAAAAAAAAAAAAAAAAAAAAAAAAAAAAAAAAAAAAAAAAAAAAAAAAAAAAAAAAAAAAAAAAAAAAAAAAAAAAAAAAAAAAAAAAAAAAAAAAAAAAAAAAAAAAAAAAAAAAAAAAAAAAAAAAAAAAAAAAAAAAAAAAAAAAAAAAAAAAAAAAAAAAAAAAAAAAAAAAAAAAAAAAAAAAAAAAAAAAAAAAAAAAAAAAAAAAAAAAAAAAAAAAAAAAAAAAAAAAAAAAAAAAAAAAAAAAAAAAAAAAAAAAAAAAAAAAAAAAAAAAAAAAAAAAAAAAAAAAAAAAAAAAAAAAAAAAAAAAAAAAAAAAAAAAAAAAAAAAAAAAAAAAAAAAAAAAAAAAAAAAAAAAAAAAAAAAAAAAAAAAAAACwAAAAACgABAAAIBwABCBxIMCAAOw==\"><title>Layer: hidden2 (hidden)\n shape = (10,)\n Keras class = Dense\n activation = sigmoid</title></image><text x=\"638.3333333333334\" y=\"194.5\" font-family=\"monospace\" font-size=\"12\" text-anchor=\"start\" alignment-baseline=\"central\">hidden2</text><line x1=\"266.6666666666667\" y1=\"234\" x2=\"266.6666666666667\" y2=\"207\" stroke=\"black\" stroke-width=\"2\" marker-end=\"url(#arrow)\"><title>Weights from input1 to hidden1\n hidden1/kernel has shape (1, 10)\n hidden1/bias has shape (10,)</title></line><rect x=\"240.66666666666669\" y=\"234\" width=\"52\" height=\"52\" style=\"fill:none;stroke:black;stroke-width:2\"/><image id=\"XOR2 Network_input1_6\" class=\"XOR2 Network_input1\" x=\"241.66666666666669\" y=\"235\" height=\"50\" width=\"50\" preserveAspectRatio=\"none\" href=\"data:image/gif;base64,R0lGODdhAQABAIcAAP7+/QAAAAAAAAAAAAAAAAAAAAAAAAAAAAAAAAAAAAAAAAAAAAAAAAAAAAAAAAAAAAAAAAAAAAAAAAAAAAAAAAAAAAAAAAAAAAAAAAAAAAAAAAAAAAAAAAAAAAAAAAAAAAAAAAAAAAAAAAAAAAAAAAAAAAAAAAAAAAAAAAAAAAAAAAAAAAAAAAAAAAAAAAAAAAAAAAAAAAAAAAAAAAAAAAAAAAAAAAAAAAAAAAAAAAAAAAAAAAAAAAAAAAAAAAAAAAAAAAAAAAAAAAAAAAAAAAAAAAAAAAAAAAAAAAAAAAAAAAAAAAAAAAAAAAAAAAAAAAAAAAAAAAAAAAAAAAAAAAAAAAAAAAAAAAAAAAAAAAAAAAAAAAAAAAAAAAAAAAAAAAAAAAAAAAAAAAAAAAAAAAAAAAAAAAAAAAAAAAAAAAAAAAAAAAAAAAAAAAAAAAAAAAAAAAAAAAAAAAAAAAAAAAAAAAAAAAAAAAAAAAAAAAAAAAAAAAAAAAAAAAAAAAAAAAAAAAAAAAAAAAAAAAAAAAAAAAAAAAAAAAAAAAAAAAAAAAAAAAAAAAAAAAAAAAAAAAAAAAAAAAAAAAAAAAAAAAAAAAAAAAAAAAAAAAAAAAAAAAAAAAAAAAAAAAAAAAAAAAAAAAAAAAAAAAAAAAAAAAAAAAAAAAAAAAAAAAAAAAAAAAAAAAAAAAAAAAAAAAAAAAAAAAAAAAAAAAAAAAAAAAAAAAAAAAAAAAAAAAAAAAAAAAAAAAAAAAAAAAAAAAAAAAAAAAAAAAAAAAAAAAAAAAAAAAAAAAAAAAAAAAAAAAAAAAAAAAAAAAAAAAAAAAAAAAAAAAAAAAAAAAAAAAAAAAAAAAAAAAAAAAAAAAAAAAAAAAAAAAAAAAAAAAAAAAAAAAAAAAAAAAAAAAAAAAAAAAAAAAAAAAAAAAAAAAAAAAAAAAAAAAAAAAAAAAAAAAAAAAAAAAAAAAAAAAAAAAAAAAAAAAAAAAAAAAAAAAAAAAAAAAAAAAAAAAAAAAAAAAAAACwAAAAAAQABAAAIBQABbAgIADs=\"><title>Layer: input1 (input)\n shape = (1,)\n Keras class = Input</title></image><text x=\"296.6666666666667\" y=\"262.0\" font-family=\"monospace\" font-size=\"12\" text-anchor=\"start\" alignment-baseline=\"central\">input1</text><line x1=\"533.3333333333334\" y1=\"234\" x2=\"533.3333333333334\" y2=\"207\" stroke=\"black\" stroke-width=\"2\" marker-end=\"url(#arrow)\"><title>Weights from input2 to hidden2\n hidden2/kernel has shape (1, 10)\n hidden2/bias has shape (10,)</title></line><rect x=\"507.33333333333337\" y=\"234\" width=\"52\" height=\"52\" style=\"fill:none;stroke:black;stroke-width:2\"/><image id=\"XOR2 Network_input2_7\" class=\"XOR2 Network_input2\" x=\"508.33333333333337\" y=\"235\" height=\"50\" width=\"50\" preserveAspectRatio=\"none\" href=\"data:image/gif;base64,R0lGODdhAQABAIcAAP7+/QAAAAAAAAAAAAAAAAAAAAAAAAAAAAAAAAAAAAAAAAAAAAAAAAAAAAAAAAAAAAAAAAAAAAAAAAAAAAAAAAAAAAAAAAAAAAAAAAAAAAAAAAAAAAAAAAAAAAAAAAAAAAAAAAAAAAAAAAAAAAAAAAAAAAAAAAAAAAAAAAAAAAAAAAAAAAAAAAAAAAAAAAAAAAAAAAAAAAAAAAAAAAAAAAAAAAAAAAAAAAAAAAAAAAAAAAAAAAAAAAAAAAAAAAAAAAAAAAAAAAAAAAAAAAAAAAAAAAAAAAAAAAAAAAAAAAAAAAAAAAAAAAAAAAAAAAAAAAAAAAAAAAAAAAAAAAAAAAAAAAAAAAAAAAAAAAAAAAAAAAAAAAAAAAAAAAAAAAAAAAAAAAAAAAAAAAAAAAAAAAAAAAAAAAAAAAAAAAAAAAAAAAAAAAAAAAAAAAAAAAAAAAAAAAAAAAAAAAAAAAAAAAAAAAAAAAAAAAAAAAAAAAAAAAAAAAAAAAAAAAAAAAAAAAAAAAAAAAAAAAAAAAAAAAAAAAAAAAAAAAAAAAAAAAAAAAAAAAAAAAAAAAAAAAAAAAAAAAAAAAAAAAAAAAAAAAAAAAAAAAAAAAAAAAAAAAAAAAAAAAAAAAAAAAAAAAAAAAAAAAAAAAAAAAAAAAAAAAAAAAAAAAAAAAAAAAAAAAAAAAAAAAAAAAAAAAAAAAAAAAAAAAAAAAAAAAAAAAAAAAAAAAAAAAAAAAAAAAAAAAAAAAAAAAAAAAAAAAAAAAAAAAAAAAAAAAAAAAAAAAAAAAAAAAAAAAAAAAAAAAAAAAAAAAAAAAAAAAAAAAAAAAAAAAAAAAAAAAAAAAAAAAAAAAAAAAAAAAAAAAAAAAAAAAAAAAAAAAAAAAAAAAAAAAAAAAAAAAAAAAAAAAAAAAAAAAAAAAAAAAAAAAAAAAAAAAAAAAAAAAAAAAAAAAAAAAAAAAAAAAAAAAAAAAAAAAAAAAAAAAAAAAAAAAAAAAAAAAAAAAAAAAAAAAAAAAAAAAAAACwAAAAAAQABAAAIBQABbAgIADs=\"><title>Layer: input2 (input)\n shape = (1,)\n Keras class = Input</title></image><text x=\"563.3333333333334\" y=\"262.0\" font-family=\"monospace\" font-size=\"12\" text-anchor=\"start\" alignment-baseline=\"central\">input2</text></svg>"
      }
     },
     "0912cba0e4fd4801af09d4e4cd6dfd1a": {
      "model_module": "jupyter-js-widgets",
      "model_module_version": "~2.1.4",
      "model_name": "LayoutModel",
      "state": {
       "_model_module_version": "~2.1.4",
       "_view_module_version": "~2.1.4",
       "height": "550px",
       "width": "100%"
      }
     },
     "0a15ab975a4545a9afeaaec86c3ab390": {
      "model_module": "jupyter-js-widgets",
      "model_module_version": "~2.1.4",
      "model_name": "ButtonModel",
      "state": {
       "_model_module_version": "~2.1.4",
       "_view_module_version": "~2.1.4",
       "description": "Train",
       "layout": "IPY_MODEL_1d804800bda84f9393a7cc0f4a4774d7",
       "style": "IPY_MODEL_bcdc6595e5c8447c962b0e20ebafc54b"
      }
     },
     "0a19f15fd1e24d62b7f071b4d48f5aad": {
      "model_module": "jupyter-js-widgets",
      "model_module_version": "~2.1.4",
      "model_name": "ButtonModel",
      "state": {
       "_model_module_version": "~2.1.4",
       "_view_module_version": "~2.1.4",
       "icon": "backward",
       "layout": "IPY_MODEL_e259ae339b5547a28a49724a31ebecfd",
       "style": "IPY_MODEL_96e06b3f1faf42d9b26bf0172c2bbbca"
      }
     },
     "0a84d47fcd3e4634bcc47acd365023d5": {
      "model_module": "jupyter-js-widgets",
      "model_module_version": "~2.1.4",
      "model_name": "VBoxModel",
      "state": {
       "_model_module_version": "~2.1.4",
       "_view_module_version": "~2.1.4",
       "children": [
        "IPY_MODEL_3d33d4c24f7b4ef786ce43689b8a0863",
        "IPY_MODEL_1d638e4c28cd49cebf828117d3a090d7",
        "IPY_MODEL_a2a96470032b4fcb8b12e392803f363f"
       ],
       "layout": "IPY_MODEL_e7a2face8ab9404289096b8dcfb60e6e"
      }
     },
     "0c777aacbf3c4494997c450b4c817fb6": {
      "model_module": "jupyter-js-widgets",
      "model_module_version": "~2.1.4",
      "model_name": "LayoutModel",
      "state": {
       "_model_module_version": "~2.1.4",
       "_view_module_version": "~2.1.4",
       "width": "100%"
      }
     },
     "0d51443cf4dc4a989b5270151265ba2f": {
      "model_module": "jupyter-js-widgets",
      "model_module_version": "~2.1.4",
      "model_name": "LayoutModel",
      "state": {
       "_model_module_version": "~2.1.4",
       "_view_module_version": "~2.1.4",
       "height": "550px",
       "width": "100%"
      }
     },
     "0f036349725c4fe69fc81fa000f5e4f7": {
      "model_module": "jupyter-js-widgets",
      "model_module_version": "~2.1.4",
      "model_name": "LayoutModel",
      "state": {
       "_model_module_version": "~2.1.4",
       "_view_module_version": "~2.1.4",
       "height": "550px",
       "width": "100%"
      }
     },
     "10efbe283a594b8bae3db1225974a965": {
      "model_module": "jupyter-js-widgets",
      "model_module_version": "~2.1.4",
      "model_name": "ButtonModel",
      "state": {
       "_model_module_version": "~2.1.4",
       "_view_module_version": "~2.1.4",
       "icon": "forward",
       "layout": "IPY_MODEL_96bd769ad12444cfa319a79b44d523d9",
       "style": "IPY_MODEL_a7ce02124ec14ff987573e1a3e7b7cae"
      }
     },
     "118f03312cc646a4ae947ae3e48ddac9": {
      "model_module": "jupyter-js-widgets",
      "model_module_version": "~2.1.4",
      "model_name": "LayoutModel",
      "state": {
       "_model_module_version": "~2.1.4",
       "_view_module_version": "~2.1.4"
      }
     },
     "119a7832f4c347d8a18ce153776418c5": {
      "model_module": "jupyter-js-widgets",
      "model_module_version": "~2.1.4",
      "model_name": "ButtonModel",
      "state": {
       "_model_module_version": "~2.1.4",
       "_view_module_version": "~2.1.4",
       "icon": "fast-backward",
       "layout": "IPY_MODEL_990afa9cbf894543a605552961f8602b",
       "style": "IPY_MODEL_7d9bd23ce4da42f4b43756b0140a08d5"
      }
     },
     "11bc7059df0b4d95b7146832a63d525e": {
      "model_module": "jupyter-js-widgets",
      "model_module_version": "~2.1.4",
      "model_name": "SliderStyleModel",
      "state": {
       "_model_module_version": "~2.1.4",
       "_view_module_version": "~2.1.4"
      }
     },
     "1335c1784d6647e08d3492b69fd860bf": {
      "model_module": "jupyter-js-widgets",
      "model_module_version": "~2.1.4",
      "model_name": "TabModel",
      "state": {
       "_model_module_version": "~2.1.4",
       "_titles": {
        "0": "Network",
        "1": "Graphs",
        "2": "Analysis",
        "3": "Camera",
        "4": "Help"
       },
       "_view_module_version": "~2.1.4",
       "children": [
        "IPY_MODEL_5b4b45a3bf544d8287f071c0720319a6",
        "IPY_MODEL_7715e57c06a04b3b94a2434f9a324996",
        "IPY_MODEL_29b45322b4cc4e9a95e64ce4ca88de91",
        "IPY_MODEL_c6eb575c5cb647caafc04bf19c6e5e15",
        "IPY_MODEL_50e4101d37d3454b8be393c21dd1ec8d"
       ],
       "layout": "IPY_MODEL_ee2c4d7344e64ec3ad08d9bfb1fb8e30"
      }
     },
     "1a69bb4803074ecb8d7db075aca046fb": {
      "model_module": "jupyter-js-widgets",
      "model_module_version": "~2.1.4",
      "model_name": "LayoutModel",
      "state": {
       "_model_module_version": "~2.1.4",
       "_view_module_version": "~2.1.4",
       "width": "100%"
      }
     },
     "1d638e4c28cd49cebf828117d3a090d7": {
      "model_module": "jupyter-js-widgets",
      "model_module_version": "~2.1.4",
      "model_name": "IntSliderModel",
      "state": {
       "_model_module_version": "~2.1.4",
       "_view_module_version": "~2.1.4",
       "continuous_update": false,
       "description": "Dataset index",
       "layout": "IPY_MODEL_ad1840050e694738bd6b7c7cc6d69ff1",
       "max": 3,
       "style": "IPY_MODEL_4c49e413e0364a958869e2fddca8fa33"
      }
     },
     "1d804800bda84f9393a7cc0f4a4774d7": {
      "model_module": "jupyter-js-widgets",
      "model_module_version": "~2.1.4",
      "model_name": "LayoutModel",
      "state": {
       "_model_module_version": "~2.1.4",
       "_view_module_version": "~2.1.4",
       "width": "100%"
      }
     },
     "2116294f0f27477fbe70e1a56f0765d0": {
      "model_module": "jupyter-js-widgets",
      "model_module_version": "~2.1.4",
      "model_name": "LayoutModel",
      "state": {
       "_model_module_version": "~2.1.4",
       "_view_module_version": "~2.1.4",
       "height": "550px",
       "width": "100%"
      }
     },
     "21631d4946784bc99ade230d4d8d1c60": {
      "model_module": "jupyter-js-widgets",
      "model_module_version": "~2.1.4",
      "model_name": "LayoutModel",
      "state": {
       "_model_module_version": "~2.1.4",
       "_view_module_version": "~2.1.4",
       "width": "100%"
      }
     },
     "21d15ee148db4c0d90b0b2fc710137fa": {
      "model_module": "jupyter-js-widgets",
      "model_module_version": "~2.1.4",
      "model_name": "LayoutModel",
      "state": {
       "_model_module_version": "~2.1.4",
       "_view_module_version": "~2.1.4",
       "width": "100%"
      }
     },
     "22b5bc692c0547829f492e0fd3e87582": {
      "model_module": "jupyter-js-widgets",
      "model_module_version": "~2.1.4",
      "model_name": "IntSliderModel",
      "state": {
       "_model_module_version": "~2.1.4",
       "_view_module_version": "~2.1.4",
       "continuous_update": false,
       "description": "Dataset index",
       "layout": "IPY_MODEL_75f52b12bfa94abda85e78b84443d5ba",
       "max": 3,
       "style": "IPY_MODEL_11bc7059df0b4d95b7146832a63d525e"
      }
     },
     "24d9ee9b2a2f42a1a7ec1cf3b1bf3361": {
      "model_module": "jupyter-js-widgets",
      "model_module_version": "~2.1.4",
      "model_name": "HBoxModel",
      "state": {
       "_model_module_version": "~2.1.4",
       "_view_module_version": "~2.1.4",
       "children": [
        "IPY_MODEL_119a7832f4c347d8a18ce153776418c5",
        "IPY_MODEL_8604d546a1fc439c96e449603813fefc",
        "IPY_MODEL_0a15ab975a4545a9afeaaec86c3ab390",
        "IPY_MODEL_6a3376843cfa4f8a9e819a87e77c4279",
        "IPY_MODEL_9094bfd58c97409495ef53a49d910de1"
       ],
       "layout": "IPY_MODEL_715110de728740189ae284d1ab5fdf9f"
      }
     },
     "285fbcbd1b524125abeb83266a22ba7f": {
      "model_module": "jupyter-js-widgets",
      "model_module_version": "~2.1.4",
      "model_name": "VBoxModel",
      "state": {
       "_model_module_version": "~2.1.4",
       "_view_module_version": "~2.1.4",
       "children": [
        "IPY_MODEL_8ea0c9fbdd4648429be85792f1858045",
        "IPY_MODEL_954c82b3ead0488cafecdb5a00f6f29a"
       ],
       "layout": "IPY_MODEL_2a38edb551ee45b39627eda2a8646620"
      }
     },
     "2962416218ae4c05a09ce3d677ad4ec9": {
      "model_module": "jupyter-js-widgets",
      "model_module_version": "~2.1.4",
      "model_name": "ButtonStyleModel",
      "state": {
       "_model_module_version": "~2.1.4",
       "_view_module_version": "~2.1.4"
      }
     },
     "29b45322b4cc4e9a95e64ce4ca88de91": {
      "model_module": "jupyter-js-widgets",
      "model_module_version": "~2.1.4",
      "model_name": "VBoxModel",
      "state": {
       "_model_module_version": "~2.1.4",
       "_view_module_version": "~2.1.4",
       "layout": "IPY_MODEL_6fa2470e66994ea1a72b16d80ab7fa29"
      }
     },
     "2a0418946ec448bf979d79510f2dbb47": {
      "model_module": "jupyter-js-widgets",
      "model_module_version": "~2.1.4",
      "model_name": "SelectModel",
      "state": {
       "_model_module_version": "~2.1.4",
       "_options_labels": [
        "Test",
        "Train"
       ],
       "_view_module_version": "~2.1.4",
       "description": "Dataset:",
       "layout": "IPY_MODEL_caf1c94d379f4e0f8d77a011ce9b746e",
       "value": "Train"
      }
     },
     "2a38edb551ee45b39627eda2a8646620": {
      "model_module": "jupyter-js-widgets",
      "model_module_version": "~2.1.4",
      "model_name": "LayoutModel",
      "state": {
       "_model_module_version": "~2.1.4",
       "_view_module_version": "~2.1.4",
       "height": "550px",
       "width": "100%"
      }
     },
     "2c4800ceb7fe4d83b8df9479c11e8441": {
      "model_module": "jupyter-js-widgets",
      "model_module_version": "~2.1.4",
      "model_name": "LayoutModel",
      "state": {
       "_model_module_version": "~2.1.4",
       "_view_module_version": "~2.1.4",
       "height": "550px",
       "width": "100%"
      }
     },
     "2d90ec1c6e0344aa8a8efb5288261fa8": {
      "model_module": "jupyter-js-widgets",
      "model_module_version": "~2.1.4",
      "model_name": "SelectModel",
      "state": {
       "_model_module_version": "~2.1.4",
       "_options_labels": [
        "Test",
        "Train"
       ],
       "_view_module_version": "~2.1.4",
       "description": "Dataset:",
       "layout": "IPY_MODEL_ee7fd4ed056047638d2f2c881d269831",
       "value": "Train"
      }
     },
     "2db99f3f66af409389adfb84e9df919c": {
      "model_module": "jupyter-js-widgets",
      "model_module_version": "~2.1.4",
      "model_name": "SliderStyleModel",
      "state": {
       "_model_module_version": "~2.1.4",
       "_view_module_version": "~2.1.4"
      }
     },
     "2de56e1b54834baca6cd87635b6816c9": {
      "model_module": "jupyter-js-widgets",
      "model_module_version": "~2.1.4",
      "model_name": "LayoutModel",
      "state": {
       "_model_module_version": "~2.1.4",
       "_view_module_version": "~2.1.4"
      }
     },
     "2e629274019647b6bc0dfb3e4205bebe": {
      "model_module": "jupyter-js-widgets",
      "model_module_version": "~2.1.4",
      "model_name": "ButtonStyleModel",
      "state": {
       "_model_module_version": "~2.1.4",
       "_view_module_version": "~2.1.4"
      }
     },
     "2e8a10d4ae2149a29d906127196d2e59": {
      "model_module": "jupyter-js-widgets",
      "model_module_version": "~2.1.4",
      "model_name": "ButtonStyleModel",
      "state": {
       "_model_module_version": "~2.1.4",
       "_view_module_version": "~2.1.4"
      }
     },
     "2f9619e869864249bff0462a3b8031cf": {
      "model_module": "jupyter-js-widgets",
      "model_module_version": "~2.1.4",
      "model_name": "ButtonModel",
      "state": {
       "_model_module_version": "~2.1.4",
       "_view_module_version": "~2.1.4",
       "description": "Train",
       "layout": "IPY_MODEL_654a7096e02f4f6086c234492284f328",
       "style": "IPY_MODEL_78517f7fddb54bfbae0485ed629a0b4e"
      }
     },
     "303663799f0e4c6e88e2b17f695f2428": {
      "model_module": "jupyter-js-widgets",
      "model_module_version": "~2.1.4",
      "model_name": "LayoutModel",
      "state": {
       "_model_module_version": "~2.1.4",
       "_view_module_version": "~2.1.4",
       "height": "550px",
       "width": "100%"
      }
     },
     "30d853038fe048738f113bad038e1e07": {
      "model_module": "jupyter-js-widgets",
      "model_module_version": "~2.1.4",
      "model_name": "ButtonModel",
      "state": {
       "_model_module_version": "~2.1.4",
       "_view_module_version": "~2.1.4",
       "icon": "backward",
       "layout": "IPY_MODEL_7fdd07c6523941549fcb377a1dee7ea4",
       "style": "IPY_MODEL_abcbb837ac894a94b5ad55ecfd3e532d"
      }
     },
     "332abdce63d74697a58def27b59b7494": {
      "model_module": "jupyter-js-widgets",
      "model_module_version": "~2.1.4",
      "model_name": "LayoutModel",
      "state": {
       "_model_module_version": "~2.1.4",
       "_view_module_version": "~2.1.4",
       "width": "100%"
      }
     },
     "336ea1c160b44512aaa0b2a180d5f989": {
      "model_module": "jupyter-js-widgets",
      "model_module_version": "~2.1.4",
      "model_name": "LayoutModel",
      "state": {
       "_model_module_version": "~2.1.4",
       "_view_module_version": "~2.1.4",
       "width": "100%"
      }
     },
     "338da9cb351e4e709c6286b4944812a3": {
      "model_module": "jupyter-js-widgets",
      "model_module_version": "~2.1.4",
      "model_name": "HTMLModel",
      "state": {
       "_model_module_version": "~2.1.4",
       "_view_module_version": "~2.1.4",
       "layout": "IPY_MODEL_0912cba0e4fd4801af09d4e4cd6dfd1a",
       "value": "\n<!-- TODO: Remove this SCRIPT when next version of ipywidgets comes out -->\n<style>\n.widget-html > .widget-html-content, .widget-htmlmath > .widget-html-content {\n    /* Fill out the area in the HTML widget */\n    align-self: stretch;\n    flex-grow: 1;\n    flex-shrink: 1;\n    /* Makes sure the baseline is still aligned with other elements */\n    line-height: var(--jp-widgets-inline-height);\n    /* Make it possible to have absolutely-positioned elements in the html */\n    position: relative;\n}\n</style>\n\n<iframe src=\"https://conx.readthedocs.io\" width=\"100%\" height=\"550px\"></frame>\n"
      }
     },
     "3492663131a1473fb5ef52af29d77e50": {
      "model_module": "jupyter-js-widgets",
      "model_module_version": "~2.1.4",
      "model_name": "LayoutModel",
      "state": {
       "_model_module_version": "~2.1.4",
       "_view_module_version": "~2.1.4",
       "height": "550px",
       "width": "100%"
      }
     },
     "36ef00ffc6c24cb7861da445e12968e3": {
      "model_module": "jupyter-js-widgets",
      "model_module_version": "~2.1.4",
      "model_name": "LayoutModel",
      "state": {
       "_model_module_version": "~2.1.4",
       "_view_module_version": "~2.1.4",
       "width": "100%"
      }
     },
     "380f0c4cb2d047919c2d79292485e097": {
      "model_module": "jupyter-js-widgets",
      "model_module_version": "~2.1.4",
      "model_name": "ButtonStyleModel",
      "state": {
       "_model_module_version": "~2.1.4",
       "_view_module_version": "~2.1.4"
      }
     },
     "3982a3f6ae5347ee9d79abedee30a294": {
      "model_module": "jupyter-js-widgets",
      "model_module_version": "~2.1.4",
      "model_name": "TabModel",
      "state": {
       "_model_module_version": "~2.1.4",
       "_titles": {
        "0": "Network",
        "1": "Graphs",
        "2": "Analysis",
        "3": "Camera",
        "4": "Help"
       },
       "_view_module_version": "~2.1.4",
       "children": [
        "IPY_MODEL_ef9ccbce18484c2f80705c05cdee907b",
        "IPY_MODEL_90f2eb0bb1cf4b63985c4fdf5ae68d81",
        "IPY_MODEL_9c0883a829a24cad8c9d5e8780faa523",
        "IPY_MODEL_59e5ef1ede08492b911ec8bb848b4a46",
        "IPY_MODEL_81ea9309495542b599212c94fa8cd7ea"
       ],
       "layout": "IPY_MODEL_53474ad09f074868a8f995e731dc2ee4"
      }
     },
     "3a7e041806cf44eaae33f1700243e19b": {
      "model_module": "jupyter-js-widgets",
      "model_module_version": "~2.1.4",
      "model_name": "LayoutModel",
      "state": {
       "_model_module_version": "~2.1.4",
       "_view_module_version": "~2.1.4",
       "height": "550px",
       "width": "100%"
      }
     },
     "3ab9546148904e7eb91f9c59b206f517": {
      "model_module": "jupyter-js-widgets",
      "model_module_version": "~2.1.4",
      "model_name": "LayoutModel",
      "state": {
       "_model_module_version": "~2.1.4",
       "_view_module_version": "~2.1.4",
       "height": "550px",
       "justify_content": "center",
       "overflow_x": "auto",
       "width": "100%"
      }
     },
     "3d0d374a691c47bca4abe4641b4dd5b6": {
      "model_module": "jupyter-js-widgets",
      "model_module_version": "~2.1.4",
      "model_name": "ButtonStyleModel",
      "state": {
       "_model_module_version": "~2.1.4",
       "_view_module_version": "~2.1.4"
      }
     },
     "3d33d4c24f7b4ef786ce43689b8a0863": {
      "model_module": "jupyter-js-widgets",
      "model_module_version": "~2.1.4",
      "model_name": "SelectModel",
      "state": {
       "_model_module_version": "~2.1.4",
       "_options_labels": [
        "Test",
        "Train"
       ],
       "_view_module_version": "~2.1.4",
       "description": "Dataset:",
       "layout": "IPY_MODEL_6fc023323c1440a3a091becad574cfcf",
       "value": "Train"
      }
     },
     "3d52155c37b54e3bb332abf9ac2a5b00": {
      "model_module": "jupyter-js-widgets",
      "model_module_version": "~2.1.4",
      "model_name": "LayoutModel",
      "state": {
       "_model_module_version": "~2.1.4",
       "_view_module_version": "~2.1.4",
       "height": "550px",
       "justify_content": "center",
       "overflow_x": "auto",
       "width": "100%"
      }
     },
     "3f852f57ea05460a9d68e7bc2f6554c0": {
      "model_module": "jupyter-js-widgets",
      "model_module_version": "~2.1.4",
      "model_name": "LayoutModel",
      "state": {
       "_model_module_version": "~2.1.4",
       "_view_module_version": "~2.1.4",
       "width": "100%"
      }
     },
     "411cdf7e313a4dd09c2ce87214ef4a9a": {
      "model_module": "jupyter-js-widgets",
      "model_module_version": "~2.1.4",
      "model_name": "ButtonStyleModel",
      "state": {
       "_model_module_version": "~2.1.4",
       "_view_module_version": "~2.1.4"
      }
     },
     "45a90300c4a242fc929836b2d4864d08": {
      "model_module": "jupyter-js-widgets",
      "model_module_version": "~2.1.4",
      "model_name": "ButtonModel",
      "state": {
       "_model_module_version": "~2.1.4",
       "_view_module_version": "~2.1.4",
       "icon": "fast-backward",
       "layout": "IPY_MODEL_a94957fb3f4e485c9162ea6bab85f218",
       "style": "IPY_MODEL_5d12db92a1d24908ac5c8486f41138c2"
      }
     },
     "47ae47511a0f46b481f64a15a28b07f8": {
      "model_module": "jupyter-js-widgets",
      "model_module_version": "~2.1.4",
      "model_name": "VBoxModel",
      "state": {
       "_model_module_version": "~2.1.4",
       "_view_module_version": "~2.1.4",
       "children": [
        "IPY_MODEL_cfef5edaa4304b23b0eb5aa436432849",
        "IPY_MODEL_64c5330ae0d3433e9af4561b31f9f1f0"
       ],
       "layout": "IPY_MODEL_5cb44abeee204cd391df3560866b10bd"
      }
     },
     "47c4904ce09a4fa88e3b45d2688151d4": {
      "model_module": "jupyter-js-widgets",
      "model_module_version": "~2.1.4",
      "model_name": "LayoutModel",
      "state": {
       "_model_module_version": "~2.1.4",
       "_view_module_version": "~2.1.4",
       "width": "100%"
      }
     },
     "495712c2873846188711a9857c289d35": {
      "model_module": "jupyter-js-widgets",
      "model_module_version": "~2.1.4",
      "model_name": "ButtonStyleModel",
      "state": {
       "_model_module_version": "~2.1.4",
       "_view_module_version": "~2.1.4"
      }
     },
     "4a79ebd70bf247d79b097b7850c1ae61": {
      "model_module": "jupyter-js-widgets",
      "model_module_version": "~2.1.4",
      "model_name": "HTMLModel",
      "state": {
       "_model_module_version": "~2.1.4",
       "_view_module_version": "~2.1.4",
       "layout": "IPY_MODEL_a3adcc0c784942dd84a274a1b7927fd9",
       "value": "\n        <svg id='XOR Network' xmlns='http://www.w3.org/2000/svg' width=\"350\" height=\"265\" image-rendering=\"pixelated\">\n    <defs>\n        <marker id=\"arrow\" markerWidth=\"10\" markerHeight=\"10\" refX=\"9\" refY=\"3\" orient=\"auto\" markerUnits=\"strokeWidth\">\n          <path d=\"M0,0 L0,6 L9,3 z\" fill=\"black\" />\n        </marker>\n    </defs>\n<text x=\"175.0\" y=\"12.5\" font-family=\"monospace\" font-size=\"15\" text-anchor=\"middle\" alignment-baseline=\"central\">XOR Network</text><rect x=\"149.0\" y=\"29\" width=\"52\" height=\"52\" style=\"fill:none;stroke:black;stroke-width:2\"/><image id=\"XOR Network_output_1\" class=\"XOR Network_output\" x=\"150.0\" y=\"30\" height=\"50\" width=\"50\" preserveAspectRatio=\"none\" href=\"data:image/gif;base64,R0lGODdhAQABAIcAAO7u7gAAAAAAAAAAAAAAAAAAAAAAAAAAAAAAAAAAAAAAAAAAAAAAAAAAAAAAAAAAAAAAAAAAAAAAAAAAAAAAAAAAAAAAAAAAAAAAAAAAAAAAAAAAAAAAAAAAAAAAAAAAAAAAAAAAAAAAAAAAAAAAAAAAAAAAAAAAAAAAAAAAAAAAAAAAAAAAAAAAAAAAAAAAAAAAAAAAAAAAAAAAAAAAAAAAAAAAAAAAAAAAAAAAAAAAAAAAAAAAAAAAAAAAAAAAAAAAAAAAAAAAAAAAAAAAAAAAAAAAAAAAAAAAAAAAAAAAAAAAAAAAAAAAAAAAAAAAAAAAAAAAAAAAAAAAAAAAAAAAAAAAAAAAAAAAAAAAAAAAAAAAAAAAAAAAAAAAAAAAAAAAAAAAAAAAAAAAAAAAAAAAAAAAAAAAAAAAAAAAAAAAAAAAAAAAAAAAAAAAAAAAAAAAAAAAAAAAAAAAAAAAAAAAAAAAAAAAAAAAAAAAAAAAAAAAAAAAAAAAAAAAAAAAAAAAAAAAAAAAAAAAAAAAAAAAAAAAAAAAAAAAAAAAAAAAAAAAAAAAAAAAAAAAAAAAAAAAAAAAAAAAAAAAAAAAAAAAAAAAAAAAAAAAAAAAAAAAAAAAAAAAAAAAAAAAAAAAAAAAAAAAAAAAAAAAAAAAAAAAAAAAAAAAAAAAAAAAAAAAAAAAAAAAAAAAAAAAAAAAAAAAAAAAAAAAAAAAAAAAAAAAAAAAAAAAAAAAAAAAAAAAAAAAAAAAAAAAAAAAAAAAAAAAAAAAAAAAAAAAAAAAAAAAAAAAAAAAAAAAAAAAAAAAAAAAAAAAAAAAAAAAAAAAAAAAAAAAAAAAAAAAAAAAAAAAAAAAAAAAAAAAAAAAAAAAAAAAAAAAAAAAAAAAAAAAAAAAAAAAAAAAAAAAAAAAAAAAAAAAAAAAAAAAAAAAAAAAAAAAAAAAAAAAAAAAAAAAAAAAAAAAAAAAAAAAAAAAAAAAAAAAAAAAAAAAAAAAAAAAAAAAAAAAAAAAAAAAAAAAACwAAAAAAQABAAAIBQABAAgIADs=\"><title>Layer: output (output)\n shape = (1,)\n Keras class = Dense\n activation = sigmoid</title></image><text x=\"205.0\" y=\"57.0\" font-family=\"monospace\" font-size=\"12\" text-anchor=\"start\" alignment-baseline=\"central\">output</text><line x1=\"175.0\" y1=\"109\" x2=\"175.0\" y2=\"82\" stroke=\"black\" stroke-width=\"2\" marker-end=\"url(#arrow)\"><title>Weights from hidden to output\n output/kernel has shape (4, 1)\n output/bias has shape (1,)</title></line><rect x=\"74.0\" y=\"109\" width=\"202\" height=\"52\" style=\"fill:none;stroke:black;stroke-width:2\"/><image id=\"XOR Network_hidden_2\" class=\"XOR Network_hidden\" x=\"75.0\" y=\"110\" height=\"50\" width=\"200\" preserveAspectRatio=\"none\" href=\"data:image/gif;base64,R0lGODdhBAABAIcAAP7+/QAAAAAAAAAAAAAAAAAAAAAAAAAAAAAAAAAAAAAAAAAAAAAAAAAAAAAAAAAAAAAAAAAAAAAAAAAAAAAAAAAAAAAAAAAAAAAAAAAAAAAAAAAAAAAAAAAAAAAAAAAAAAAAAAAAAAAAAAAAAAAAAAAAAAAAAAAAAAAAAAAAAAAAAAAAAAAAAAAAAAAAAAAAAAAAAAAAAAAAAAAAAAAAAAAAAAAAAAAAAAAAAAAAAAAAAAAAAAAAAAAAAAAAAAAAAAAAAAAAAAAAAAAAAAAAAAAAAAAAAAAAAAAAAAAAAAAAAAAAAAAAAAAAAAAAAAAAAAAAAAAAAAAAAAAAAAAAAAAAAAAAAAAAAAAAAAAAAAAAAAAAAAAAAAAAAAAAAAAAAAAAAAAAAAAAAAAAAAAAAAAAAAAAAAAAAAAAAAAAAAAAAAAAAAAAAAAAAAAAAAAAAAAAAAAAAAAAAAAAAAAAAAAAAAAAAAAAAAAAAAAAAAAAAAAAAAAAAAAAAAAAAAAAAAAAAAAAAAAAAAAAAAAAAAAAAAAAAAAAAAAAAAAAAAAAAAAAAAAAAAAAAAAAAAAAAAAAAAAAAAAAAAAAAAAAAAAAAAAAAAAAAAAAAAAAAAAAAAAAAAAAAAAAAAAAAAAAAAAAAAAAAAAAAAAAAAAAAAAAAAAAAAAAAAAAAAAAAAAAAAAAAAAAAAAAAAAAAAAAAAAAAAAAAAAAAAAAAAAAAAAAAAAAAAAAAAAAAAAAAAAAAAAAAAAAAAAAAAAAAAAAAAAAAAAAAAAAAAAAAAAAAAAAAAAAAAAAAAAAAAAAAAAAAAAAAAAAAAAAAAAAAAAAAAAAAAAAAAAAAAAAAAAAAAAAAAAAAAAAAAAAAAAAAAAAAAAAAAAAAAAAAAAAAAAAAAAAAAAAAAAAAAAAAAAAAAAAAAAAAAAAAAAAAAAAAAAAAAAAAAAAAAAAAAAAAAAAAAAAAAAAAAAAAAAAAAAAAAAAAAAAAAAAAAAAAAAAAAAAAAAAAAAAAAAAAAAAAAAAACwAAAAABAABAAAIBgABCAQQEAA7\"><title>Layer: hidden (hidden)\n shape = (4,)\n Keras class = Dense\n activation = sigmoid</title></image><text x=\"280.0\" y=\"137.0\" font-family=\"monospace\" font-size=\"12\" text-anchor=\"start\" alignment-baseline=\"central\">hidden</text><line x1=\"175.0\" y1=\"189\" x2=\"175.0\" y2=\"162\" stroke=\"black\" stroke-width=\"2\" marker-end=\"url(#arrow)\"><title>Weights from input to hidden\n hidden/kernel has shape (2, 4)\n hidden/bias has shape (4,)</title></line><rect x=\"124.0\" y=\"189\" width=\"102\" height=\"52\" style=\"fill:none;stroke:black;stroke-width:2\"/><image id=\"XOR Network_input_3\" class=\"XOR Network_input\" x=\"125.0\" y=\"190\" height=\"50\" width=\"100\" preserveAspectRatio=\"none\" href=\"data:image/gif;base64,R0lGODdhAgABAIcAAP7+/QAAAAAAAAAAAAAAAAAAAAAAAAAAAAAAAAAAAAAAAAAAAAAAAAAAAAAAAAAAAAAAAAAAAAAAAAAAAAAAAAAAAAAAAAAAAAAAAAAAAAAAAAAAAAAAAAAAAAAAAAAAAAAAAAAAAAAAAAAAAAAAAAAAAAAAAAAAAAAAAAAAAAAAAAAAAAAAAAAAAAAAAAAAAAAAAAAAAAAAAAAAAAAAAAAAAAAAAAAAAAAAAAAAAAAAAAAAAAAAAAAAAAAAAAAAAAAAAAAAAAAAAAAAAAAAAAAAAAAAAAAAAAAAAAAAAAAAAAAAAAAAAAAAAAAAAAAAAAAAAAAAAAAAAAAAAAAAAAAAAAAAAAAAAAAAAAAAAAAAAAAAAAAAAAAAAAAAAAAAAAAAAAAAAAAAAAAAAAAAAAAAAAAAAAAAAAAAAAAAAAAAAAAAAAAAAAAAAAAAAAAAAAAAAAAAAAAAAAAAAAAAAAAAAAAAAAAAAAAAAAAAAAAAAAAAAAAAAAAAAAAAAAAAAAAAAAAAAAAAAAAAAAAAAAAAAAAAAAAAAAAAAAAAAAAAAAAAAAAAAAAAAAAAAAAAAAAAAAAAAAAAAAAAAAAAAAAAAAAAAAAAAAAAAAAAAAAAAAAAAAAAAAAAAAAAAAAAAAAAAAAAAAAAAAAAAAAAAAAAAAAAAAAAAAAAAAAAAAAAAAAAAAAAAAAAAAAAAAAAAAAAAAAAAAAAAAAAAAAAAAAAAAAAAAAAAAAAAAAAAAAAAAAAAAAAAAAAAAAAAAAAAAAAAAAAAAAAAAAAAAAAAAAAAAAAAAAAAAAAAAAAAAAAAAAAAAAAAAAAAAAAAAAAAAAAAAAAAAAAAAAAAAAAAAAAAAAAAAAAAAAAAAAAAAAAAAAAAAAAAAAAAAAAAAAAAAAAAAAAAAAAAAAAAAAAAAAAAAAAAAAAAAAAAAAAAAAAAAAAAAAAAAAAAAAAAAAAAAAAAAAAAAAAAAAAAAAAAAAAAAAAAAAAAAAAAAAAAAAAAAAAAAAAAAAAAAAAAAAAACwAAAAAAgABAAAIBQABAAgIADs=\"><title>Layer: input (input)\n shape = (2,)\n Keras class = Input</title></image><text x=\"230.0\" y=\"217.0\" font-family=\"monospace\" font-size=\"12\" text-anchor=\"start\" alignment-baseline=\"central\">input</text></svg>"
      }
     },
     "4abc35ec88ac435b88b227641e13a152": {
      "model_module": "jupyter-js-widgets",
      "model_module_version": "~2.1.4",
      "model_name": "LayoutModel",
      "state": {
       "_model_module_version": "~2.1.4",
       "_view_module_version": "~2.1.4",
       "width": "100%"
      }
     },
     "4c49e413e0364a958869e2fddca8fa33": {
      "model_module": "jupyter-js-widgets",
      "model_module_version": "~2.1.4",
      "model_name": "SliderStyleModel",
      "state": {
       "_model_module_version": "~2.1.4",
       "_view_module_version": "~2.1.4"
      }
     },
     "4d5c574704f64761aa22bc3af79717da": {
      "model_module": "jupyter-js-widgets",
      "model_module_version": "~2.1.4",
      "model_name": "LayoutModel",
      "state": {
       "_model_module_version": "~2.1.4",
       "_view_module_version": "~2.1.4",
       "height": "550px",
       "justify_content": "center",
       "overflow_x": "auto",
       "width": "100%"
      }
     },
     "4de36f8d09ac43b793b7677fd9b367b4": {
      "model_module": "jupyter-js-widgets",
      "model_module_version": "~2.1.4",
      "model_name": "LayoutModel",
      "state": {
       "_model_module_version": "~2.1.4",
       "_view_module_version": "~2.1.4",
       "height": "550px",
       "justify_content": "center",
       "overflow_x": "auto",
       "width": "100%"
      }
     },
     "4e14279b22b747edb6fdafe728fd63fe": {
      "model_module": "jupyter-js-widgets",
      "model_module_version": "~2.1.4",
      "model_name": "TabModel",
      "state": {
       "_model_module_version": "~2.1.4",
       "_titles": {
        "0": "Network",
        "1": "Help"
       },
       "_view_module_version": "~2.1.4",
       "children": [
        "IPY_MODEL_285fbcbd1b524125abeb83266a22ba7f",
        "IPY_MODEL_338da9cb351e4e709c6286b4944812a3"
       ],
       "layout": "IPY_MODEL_db6abc6723884756a24d083e0ff11b19"
      }
     },
     "4e9605bad4dc478fb2c6445aa8f5c78d": {
      "model_module": "jupyter-js-widgets",
      "model_module_version": "~2.1.4",
      "model_name": "ButtonModel",
      "state": {
       "_model_module_version": "~2.1.4",
       "_view_module_version": "~2.1.4",
       "description": "Train",
       "layout": "IPY_MODEL_87ac06efb86f4d3faf4adda6b5ca579a",
       "style": "IPY_MODEL_e6936587e50c4724b41fcd9afdd51a36"
      }
     },
     "508e7451c04b41db973c36ed9a154a08": {
      "model_module": "jupyter-js-widgets",
      "model_module_version": "~2.1.4",
      "model_name": "LayoutModel",
      "state": {
       "_model_module_version": "~2.1.4",
       "_view_module_version": "~2.1.4",
       "width": "100%"
      }
     },
     "50e4101d37d3454b8be393c21dd1ec8d": {
      "model_module": "jupyter-js-widgets",
      "model_module_version": "~2.1.4",
      "model_name": "HTMLModel",
      "state": {
       "_model_module_version": "~2.1.4",
       "_view_module_version": "~2.1.4",
       "layout": "IPY_MODEL_9060fbee389249be80e70272deb319a8",
       "value": "\n<!-- TODO: Remove this SCRIPT when next version of ipywidgets comes out -->\n<style>\n.widget-html > .widget-html-content, .widget-htmlmath > .widget-html-content {\n    /* Fill out the area in the HTML widget */\n    align-self: stretch;\n    flex-grow: 1;\n    flex-shrink: 1;\n    /* Makes sure the baseline is still aligned with other elements */\n    line-height: var(--jp-widgets-inline-height);\n    /* Make it possible to have absolutely-positioned elements in the html */\n    position: relative;\n}\n</style>\n\n<iframe src=\"https://conx.readthedocs.io\" width=\"100%\" height=\"550px\"></frame>\n"
      }
     },
     "53474ad09f074868a8f995e731dc2ee4": {
      "model_module": "jupyter-js-widgets",
      "model_module_version": "~2.1.4",
      "model_name": "LayoutModel",
      "state": {
       "_model_module_version": "~2.1.4",
       "_view_module_version": "~2.1.4"
      }
     },
     "539d367a299b45e1816cded8530242f0": {
      "model_module": "jupyter-js-widgets",
      "model_module_version": "~2.1.4",
      "model_name": "ButtonModel",
      "state": {
       "_model_module_version": "~2.1.4",
       "_view_module_version": "~2.1.4",
       "icon": "fast-backward",
       "layout": "IPY_MODEL_b6683ae172894a55ba55b50207af7307",
       "style": "IPY_MODEL_89120bda442248d080bb69294684a3d6"
      }
     },
     "56856a599a964e94beecbae20ac6bef7": {
      "model_module": "jupyter-js-widgets",
      "model_module_version": "~2.1.4",
      "model_name": "LayoutModel",
      "state": {
       "_model_module_version": "~2.1.4",
       "_view_module_version": "~2.1.4",
       "width": "100%"
      }
     },
     "57383bef754849ff9ec14812450ad657": {
      "model_module": "jupyter-js-widgets",
      "model_module_version": "~2.1.4",
      "model_name": "IntSliderModel",
      "state": {
       "_model_module_version": "~2.1.4",
       "_view_module_version": "~2.1.4",
       "continuous_update": false,
       "description": "Dataset index",
       "layout": "IPY_MODEL_b1a1a2ab55cd40aab338aef35e74491a",
       "max": 0,
       "style": "IPY_MODEL_b465e07a5a754a068c39c93c3c8f827d"
      }
     },
     "59e5ef1ede08492b911ec8bb848b4a46": {
      "model_module": "jupyter-js-widgets",
      "model_module_version": "~2.1.4",
      "model_name": "VBoxModel",
      "state": {
       "_model_module_version": "~2.1.4",
       "_view_module_version": "~2.1.4",
       "children": [
        "IPY_MODEL_b46cdd18d6054814bcaf5094af13da2a"
       ],
       "layout": "IPY_MODEL_fa3f08f951ab448dba4d9c9d8fc370ba"
      }
     },
     "5b4b45a3bf544d8287f071c0720319a6": {
      "model_module": "jupyter-js-widgets",
      "model_module_version": "~2.1.4",
      "model_name": "VBoxModel",
      "state": {
       "_model_module_version": "~2.1.4",
       "_view_module_version": "~2.1.4",
       "children": [
        "IPY_MODEL_00f408527de64abeafdc07452add2f93",
        "IPY_MODEL_b262ca1e8d5f487f95cde725b87343bd"
       ],
       "layout": "IPY_MODEL_d940ba84882a4c84994a2b11cbbba577"
      }
     },
     "5c1a10fa8df94f18b84c7c6e00ac1f6d": {
      "model_module": "jupyter-js-widgets",
      "model_module_version": "~2.1.4",
      "model_name": "LayoutModel",
      "state": {
       "_model_module_version": "~2.1.4",
       "_view_module_version": "~2.1.4",
       "width": "100%"
      }
     },
     "5cb44abeee204cd391df3560866b10bd": {
      "model_module": "jupyter-js-widgets",
      "model_module_version": "~2.1.4",
      "model_name": "LayoutModel",
      "state": {
       "_model_module_version": "~2.1.4",
       "_view_module_version": "~2.1.4",
       "height": "550px",
       "width": "100%"
      }
     },
     "5d12db92a1d24908ac5c8486f41138c2": {
      "model_module": "jupyter-js-widgets",
      "model_module_version": "~2.1.4",
      "model_name": "ButtonStyleModel",
      "state": {
       "_model_module_version": "~2.1.4",
       "_view_module_version": "~2.1.4"
      }
     },
     "5f02d48460f04d6fafe41c999239deeb": {
      "model_module": "jupyter-js-widgets",
      "model_module_version": "~2.1.4",
      "model_name": "ButtonModel",
      "state": {
       "_model_module_version": "~2.1.4",
       "_view_module_version": "~2.1.4",
       "icon": "fast-backward",
       "layout": "IPY_MODEL_21631d4946784bc99ade230d4d8d1c60",
       "style": "IPY_MODEL_c712750940174af8ac0f0731708c10cd"
      }
     },
     "5fce82637248448c83164426611146be": {
      "model_module": "jupyter-js-widgets",
      "model_module_version": "~2.1.4",
      "model_name": "ButtonModel",
      "state": {
       "_model_module_version": "~2.1.4",
       "_view_module_version": "~2.1.4",
       "icon": "fast-forward",
       "layout": "IPY_MODEL_1a69bb4803074ecb8d7db075aca046fb",
       "style": "IPY_MODEL_abc4d67c540d4a25ae2a831bc7933f9c"
      }
     },
     "63f4253680824fb0bf89b49e3566e945": {
      "model_module": "jupyter-js-widgets",
      "model_module_version": "~2.1.4",
      "model_name": "ButtonStyleModel",
      "state": {
       "_model_module_version": "~2.1.4",
       "_view_module_version": "~2.1.4"
      }
     },
     "64c5330ae0d3433e9af4561b31f9f1f0": {
      "model_module": "jupyter-js-widgets",
      "model_module_version": "~2.1.4",
      "model_name": "VBoxModel",
      "state": {
       "_model_module_version": "~2.1.4",
       "_view_module_version": "~2.1.4",
       "children": [
        "IPY_MODEL_2a0418946ec448bf979d79510f2dbb47",
        "IPY_MODEL_976fbd3ce0da4865aabad0280aebb770",
        "IPY_MODEL_839b7740844147219e21b052d94fcfc3"
       ],
       "layout": "IPY_MODEL_cd195285569147b989a9650e959ef1df"
      }
     },
     "64c574d2cfff4b1bba64f8f042c15fa2": {
      "model_module": "jupyter-js-widgets",
      "model_module_version": "~2.1.4",
      "model_name": "LayoutModel",
      "state": {
       "_model_module_version": "~2.1.4",
       "_view_module_version": "~2.1.4"
      }
     },
     "654a7096e02f4f6086c234492284f328": {
      "model_module": "jupyter-js-widgets",
      "model_module_version": "~2.1.4",
      "model_name": "LayoutModel",
      "state": {
       "_model_module_version": "~2.1.4",
       "_view_module_version": "~2.1.4",
       "width": "100%"
      }
     },
     "686ca930c9a4437d9f93091d04022f08": {
      "model_module": "jupyter-js-widgets",
      "model_module_version": "~2.1.4",
      "model_name": "HTMLModel",
      "state": {
       "_model_module_version": "~2.1.4",
       "_view_module_version": "~2.1.4",
       "layout": "IPY_MODEL_2116294f0f27477fbe70e1a56f0765d0",
       "value": "\n<!-- TODO: Remove this SCRIPT when next version of ipywidgets comes out -->\n<style>\n.widget-html > .widget-html-content, .widget-htmlmath > .widget-html-content {\n    /* Fill out the area in the HTML widget */\n    align-self: stretch;\n    flex-grow: 1;\n    flex-shrink: 1;\n    /* Makes sure the baseline is still aligned with other elements */\n    line-height: var(--jp-widgets-inline-height);\n    /* Make it possible to have absolutely-positioned elements in the html */\n    position: relative;\n}\n</style>\n\n<iframe src=\"https://conx.readthedocs.io\" width=\"100%\" height=\"550px\"></frame>\n"
      }
     },
     "6a3376843cfa4f8a9e819a87e77c4279": {
      "model_module": "jupyter-js-widgets",
      "model_module_version": "~2.1.4",
      "model_name": "ButtonModel",
      "state": {
       "_model_module_version": "~2.1.4",
       "_view_module_version": "~2.1.4",
       "icon": "forward",
       "layout": "IPY_MODEL_a8fa3b134c98435ca7ba7525b4f95e75",
       "style": "IPY_MODEL_411cdf7e313a4dd09c2ce87214ef4a9a"
      }
     },
     "6fa2470e66994ea1a72b16d80ab7fa29": {
      "model_module": "jupyter-js-widgets",
      "model_module_version": "~2.1.4",
      "model_name": "LayoutModel",
      "state": {
       "_model_module_version": "~2.1.4",
       "_view_module_version": "~2.1.4",
       "height": "550px",
       "width": "100%"
      }
     },
     "6fc023323c1440a3a091becad574cfcf": {
      "model_module": "jupyter-js-widgets",
      "model_module_version": "~2.1.4",
      "model_name": "LayoutModel",
      "state": {
       "_model_module_version": "~2.1.4",
       "_view_module_version": "~2.1.4"
      }
     },
     "70da48a1a4a148bc80d4157dddfc91d1": {
      "model_module": "jupyter-js-widgets",
      "model_module_version": "~2.1.4",
      "model_name": "LayoutModel",
      "state": {
       "_model_module_version": "~2.1.4",
       "_view_module_version": "~2.1.4"
      }
     },
     "715110de728740189ae284d1ab5fdf9f": {
      "model_module": "jupyter-js-widgets",
      "model_module_version": "~2.1.4",
      "model_name": "LayoutModel",
      "state": {
       "_model_module_version": "~2.1.4",
       "_view_module_version": "~2.1.4",
       "width": "100%"
      }
     },
     "7522ab0fc7a1407e93c5016f378cecdb": {
      "model_module": "jupyter-js-widgets",
      "model_module_version": "~2.1.4",
      "model_name": "HTMLModel",
      "state": {
       "_model_module_version": "~2.1.4",
       "_view_module_version": "~2.1.4",
       "layout": "IPY_MODEL_4de36f8d09ac43b793b7677fd9b367b4",
       "value": "<p style=\"text-align:center\">\n        <svg id='XOR Network' xmlns='http://www.w3.org/2000/svg' width=\"350\" height=\"265\" image-rendering=\"pixelated\">\n    <defs>\n        <marker id=\"arrow\" markerWidth=\"10\" markerHeight=\"10\" refX=\"9\" refY=\"3\" orient=\"auto\" markerUnits=\"strokeWidth\">\n          <path d=\"M0,0 L0,6 L9,3 z\" fill=\"black\" />\n        </marker>\n    </defs>\n<text x=\"175.0\" y=\"12.5\" font-family=\"monospace\" font-size=\"15\" text-anchor=\"middle\" alignment-baseline=\"central\">XOR Network</text><rect x=\"149.0\" y=\"29\" width=\"52\" height=\"52\" style=\"fill:none;stroke:black;stroke-width:2\"/><image id=\"XOR Network_output_1\" class=\"XOR Network_output\" x=\"150.0\" y=\"30\" height=\"50\" width=\"50\" preserveAspectRatio=\"none\" href=\"data:image/gif;base64,R0lGODdhAQABAIcAAMXFxQAAAAAAAAAAAAAAAAAAAAAAAAAAAAAAAAAAAAAAAAAAAAAAAAAAAAAAAAAAAAAAAAAAAAAAAAAAAAAAAAAAAAAAAAAAAAAAAAAAAAAAAAAAAAAAAAAAAAAAAAAAAAAAAAAAAAAAAAAAAAAAAAAAAAAAAAAAAAAAAAAAAAAAAAAAAAAAAAAAAAAAAAAAAAAAAAAAAAAAAAAAAAAAAAAAAAAAAAAAAAAAAAAAAAAAAAAAAAAAAAAAAAAAAAAAAAAAAAAAAAAAAAAAAAAAAAAAAAAAAAAAAAAAAAAAAAAAAAAAAAAAAAAAAAAAAAAAAAAAAAAAAAAAAAAAAAAAAAAAAAAAAAAAAAAAAAAAAAAAAAAAAAAAAAAAAAAAAAAAAAAAAAAAAAAAAAAAAAAAAAAAAAAAAAAAAAAAAAAAAAAAAAAAAAAAAAAAAAAAAAAAAAAAAAAAAAAAAAAAAAAAAAAAAAAAAAAAAAAAAAAAAAAAAAAAAAAAAAAAAAAAAAAAAAAAAAAAAAAAAAAAAAAAAAAAAAAAAAAAAAAAAAAAAAAAAAAAAAAAAAAAAAAAAAAAAAAAAAAAAAAAAAAAAAAAAAAAAAAAAAAAAAAAAAAAAAAAAAAAAAAAAAAAAAAAAAAAAAAAAAAAAAAAAAAAAAAAAAAAAAAAAAAAAAAAAAAAAAAAAAAAAAAAAAAAAAAAAAAAAAAAAAAAAAAAAAAAAAAAAAAAAAAAAAAAAAAAAAAAAAAAAAAAAAAAAAAAAAAAAAAAAAAAAAAAAAAAAAAAAAAAAAAAAAAAAAAAAAAAAAAAAAAAAAAAAAAAAAAAAAAAAAAAAAAAAAAAAAAAAAAAAAAAAAAAAAAAAAAAAAAAAAAAAAAAAAAAAAAAAAAAAAAAAAAAAAAAAAAAAAAAAAAAAAAAAAAAAAAAAAAAAAAAAAAAAAAAAAAAAAAAAAAAAAAAAAAAAAAAAAAAAAAAAAAAAAAAAAAAAAAAAAAAAAAAAAAAAAAAAAAAAAAAAAAAAAAAAAAAACwAAAAAAQABAAAIBQAB0AgIADs=\"><title>Layer: output (output)\n shape = (1,)\n Keras class = Dense\n activation = sigmoid</title></image><text x=\"205.0\" y=\"57.0\" font-family=\"monospace\" font-size=\"12\" text-anchor=\"start\" alignment-baseline=\"central\">output</text><line x1=\"175.0\" y1=\"109\" x2=\"175.0\" y2=\"82\" stroke=\"black\" stroke-width=\"2\" marker-end=\"url(#arrow)\"><title>Weights from hidden to output\n output/kernel has shape (4, 1)\n output/bias has shape (1,)</title></line><rect x=\"74.0\" y=\"109\" width=\"202\" height=\"52\" style=\"fill:none;stroke:black;stroke-width:2\"/><image id=\"XOR Network_hidden_2\" class=\"XOR Network_hidden\" x=\"75.0\" y=\"110\" height=\"50\" width=\"200\" preserveAspectRatio=\"none\" href=\"data:image/gif;base64,R0lGODdhBAABAIcAAP7+/QAAAAAAAAAAAAAAAAAAAAAAAAAAAAAAAAAAAAAAAAAAAAAAAAAAAAAAAAAAAAAAAAAAAAAAAAAAAAAAAAAAAAAAAAAAAAAAAAAAAAAAAAAAAAAAAAAAAAAAAAAAAAAAAAAAAAAAAAAAAAAAAAAAAAAAAAAAAAAAAAAAAAAAAAAAAAAAAAAAAAAAAAAAAAAAAAAAAAAAAAAAAAAAAAAAAAAAAAAAAAAAAAAAAAAAAAAAAAAAAAAAAAAAAAAAAAAAAAAAAAAAAAAAAAAAAAAAAAAAAAAAAAAAAAAAAAAAAAAAAAAAAAAAAAAAAAAAAAAAAAAAAAAAAAAAAAAAAAAAAAAAAAAAAAAAAAAAAAAAAAAAAAAAAAAAAAAAAAAAAAAAAAAAAAAAAAAAAAAAAAAAAAAAAAAAAAAAAAAAAAAAAAAAAAAAAAAAAAAAAAAAAAAAAAAAAAAAAAAAAAAAAAAAAAAAAAAAAAAAAAAAAAAAAAAAAAAAAAAAAAAAAAAAAAAAAAAAAAAAAAAAAAAAAAAAAAAAAAAAAAAAAAAAAAAAAAAAAAAAAAAAAAAAAAAAAAAAAAAAAAAAAAAAAAAAAAAAAAAAAAAAAAAAAAAAAAAAAAAAAAAAAAAAAAAAAAAAAAAAAAAAAAAAAAAAAAAAAAAAAAAAAAAAAAAAAAAAAAAAAAAAAAAAAAAAAAAAAAAAAAAAAAAAAAAAAAAAAAAAAAAAAAAAAAAAAAAAAAAAAAAAAAAAAAAAAAAAAAAAAAAAAAAAAAAAAAAAAAAAAAAAAAAAAAAAAAAAAAAAAAAAAAAAAAAAAAAAAAAAAAAAAAAAAAAAAAAAAAAAAAAAAAAAAAAAAAAAAAAAAAAAAAAAAAAAAAAAAAAAAAAAAAAAAAAAAAAAAAAAAAAAAAAAAAAAAAAAAAAAAAAAAAAAAAAAAAAAAAAAAAAAAAAAAAAAAAAAAAAAAAAAAAAAAAAAAAAAAAAAAAAAAAAAAAAAAAAAAAAAAAAAAAAAAAAAAAAAAAAAACwAAAAABAABAAAIBgABCAQQEAA7\"><title>Layer: hidden (hidden)\n shape = (4,)\n Keras class = Dense\n activation = sigmoid</title></image><text x=\"280.0\" y=\"137.0\" font-family=\"monospace\" font-size=\"12\" text-anchor=\"start\" alignment-baseline=\"central\">hidden</text><line x1=\"175.0\" y1=\"189\" x2=\"175.0\" y2=\"162\" stroke=\"black\" stroke-width=\"2\" marker-end=\"url(#arrow)\"><title>Weights from input to hidden\n hidden/kernel has shape (2, 4)\n hidden/bias has shape (4,)</title></line><rect x=\"124.0\" y=\"189\" width=\"102\" height=\"52\" style=\"fill:none;stroke:black;stroke-width:2\"/><image id=\"XOR Network_input_3\" class=\"XOR Network_input\" x=\"125.0\" y=\"190\" height=\"50\" width=\"100\" preserveAspectRatio=\"none\" href=\"data:image/gif;base64,R0lGODdhAgABAIcAAP7+/QAAAAAAAAAAAAAAAAAAAAAAAAAAAAAAAAAAAAAAAAAAAAAAAAAAAAAAAAAAAAAAAAAAAAAAAAAAAAAAAAAAAAAAAAAAAAAAAAAAAAAAAAAAAAAAAAAAAAAAAAAAAAAAAAAAAAAAAAAAAAAAAAAAAAAAAAAAAAAAAAAAAAAAAAAAAAAAAAAAAAAAAAAAAAAAAAAAAAAAAAAAAAAAAAAAAAAAAAAAAAAAAAAAAAAAAAAAAAAAAAAAAAAAAAAAAAAAAAAAAAAAAAAAAAAAAAAAAAAAAAAAAAAAAAAAAAAAAAAAAAAAAAAAAAAAAAAAAAAAAAAAAAAAAAAAAAAAAAAAAAAAAAAAAAAAAAAAAAAAAAAAAAAAAAAAAAAAAAAAAAAAAAAAAAAAAAAAAAAAAAAAAAAAAAAAAAAAAAAAAAAAAAAAAAAAAAAAAAAAAAAAAAAAAAAAAAAAAAAAAAAAAAAAAAAAAAAAAAAAAAAAAAAAAAAAAAAAAAAAAAAAAAAAAAAAAAAAAAAAAAAAAAAAAAAAAAAAAAAAAAAAAAAAAAAAAAAAAAAAAAAAAAAAAAAAAAAAAAAAAAAAAAAAAAAAAAAAAAAAAAAAAAAAAAAAAAAAAAAAAAAAAAAAAAAAAAAAAAAAAAAAAAAAAAAAAAAAAAAAAAAAAAAAAAAAAAAAAAAAAAAAAAAAAAAAAAAAAAAAAAAAAAAAAAAAAAAAAAAAAAAAAAAAAAAAAAAAAAAAAAAAAAAAAAAAAAAAAAAAAAAAAAAAAAAAAAAAAAAAAAAAAAAAAAAAAAAAAAAAAAAAAAAAAAAAAAAAAAAAAAAAAAAAAAAAAAAAAAAAAAAAAAAAAAAAAAAAAAAAAAAAAAAAAAAAAAAAAAAAAAAAAAAAAAAAAAAAAAAAAAAAAAAAAAAAAAAAAAAAAAAAAAAAAAAAAAAAAAAAAAAAAAAAAAAAAAAAAAAAAAAAAAAAAAAAAAAAAAAAAAAAAAAAAAAAAAAAAAAAAAAAAAAAAAAAAAAAAAAAACwAAAAAAgABAAAIBQABAAgIADs=\"><title>Layer: input (input)\n shape = (2,)\n Keras class = Input</title></image><text x=\"230.0\" y=\"217.0\" font-family=\"monospace\" font-size=\"12\" text-anchor=\"start\" alignment-baseline=\"central\">input</text></svg></p>"
      }
     },
     "75f52b12bfa94abda85e78b84443d5ba": {
      "model_module": "jupyter-js-widgets",
      "model_module_version": "~2.1.4",
      "model_name": "LayoutModel",
      "state": {
       "_model_module_version": "~2.1.4",
       "_view_module_version": "~2.1.4",
       "width": "100%"
      }
     },
     "7715e57c06a04b3b94a2434f9a324996": {
      "model_module": "jupyter-js-widgets",
      "model_module_version": "~2.1.4",
      "model_name": "VBoxModel",
      "state": {
       "_model_module_version": "~2.1.4",
       "_view_module_version": "~2.1.4",
       "layout": "IPY_MODEL_d32f7da722c3461d893702c2c85a2c30"
      }
     },
     "77dd09048e474e8e921aa63b949ec3ad": {
      "model_module": "jupyter-js-widgets",
      "model_module_version": "~2.1.4",
      "model_name": "HTMLModel",
      "state": {
       "_model_module_version": "~2.1.4",
       "_view_module_version": "~2.1.4",
       "layout": "IPY_MODEL_0f036349725c4fe69fc81fa000f5e4f7",
       "value": "\n<!-- TODO: Remove this SCRIPT when next version of ipywidgets comes out -->\n<style>\n.widget-html > .widget-html-content, .widget-htmlmath > .widget-html-content {\n    /* Fill out the area in the HTML widget */\n    align-self: stretch;\n    flex-grow: 1;\n    flex-shrink: 1;\n    /* Makes sure the baseline is still aligned with other elements */\n    line-height: var(--jp-widgets-inline-height);\n    /* Make it possible to have absolutely-positioned elements in the html */\n    position: relative;\n}\n</style>\n\n<iframe src=\"https://conx.readthedocs.io\" width=\"100%\" height=\"550px\"></frame>\n"
      }
     },
     "78517f7fddb54bfbae0485ed629a0b4e": {
      "model_module": "jupyter-js-widgets",
      "model_module_version": "~2.1.4",
      "model_name": "ButtonStyleModel",
      "state": {
       "_model_module_version": "~2.1.4",
       "_view_module_version": "~2.1.4"
      }
     },
     "7a9867f376fe4593834f71689ce2fc31": {
      "model_module": "jupyter-js-widgets",
      "model_module_version": "~2.1.4",
      "model_name": "ButtonStyleModel",
      "state": {
       "_model_module_version": "~2.1.4",
       "_view_module_version": "~2.1.4"
      }
     },
     "7bbb3831955045a3b84e39a34cdc28a5": {
      "model_module": "jupyter-js-widgets",
      "model_module_version": "~2.1.4",
      "model_name": "ButtonModel",
      "state": {
       "_model_module_version": "~2.1.4",
       "_view_module_version": "~2.1.4",
       "icon": "backward",
       "layout": "IPY_MODEL_dbd68dcb5ce64e18b577cc97969c4341",
       "style": "IPY_MODEL_f463af5d4885435b9673b6c335b1cf2c"
      }
     },
     "7d545d429e4849258a8bc22251063d85": {
      "model_module": "jupyter-js-widgets",
      "model_module_version": "~2.1.4",
      "model_name": "TabModel",
      "state": {
       "_model_module_version": "~2.1.4",
       "_titles": {
        "0": "Network",
        "1": "Help"
       },
       "_view_module_version": "~2.1.4",
       "children": [
        "IPY_MODEL_b552008d39e141299e23b72af0c60615",
        "IPY_MODEL_686ca930c9a4437d9f93091d04022f08"
       ],
       "layout": "IPY_MODEL_df764618defc42b48a780a637bd4d3ee"
      }
     },
     "7d9bd23ce4da42f4b43756b0140a08d5": {
      "model_module": "jupyter-js-widgets",
      "model_module_version": "~2.1.4",
      "model_name": "ButtonStyleModel",
      "state": {
       "_model_module_version": "~2.1.4",
       "_view_module_version": "~2.1.4"
      }
     },
     "7e1c9cc738794fefa03b7b83b7b935b7": {
      "model_module": "jupyter-js-widgets",
      "model_module_version": "~2.1.4",
      "model_name": "ButtonStyleModel",
      "state": {
       "_model_module_version": "~2.1.4",
       "_view_module_version": "~2.1.4"
      }
     },
     "7fdd07c6523941549fcb377a1dee7ea4": {
      "model_module": "jupyter-js-widgets",
      "model_module_version": "~2.1.4",
      "model_name": "LayoutModel",
      "state": {
       "_model_module_version": "~2.1.4",
       "_view_module_version": "~2.1.4",
       "width": "100%"
      }
     },
     "80acd2cf30314f5cba3afb0e614e1efc": {
      "model_module": "jupyter-js-widgets",
      "model_module_version": "~2.1.4",
      "model_name": "LayoutModel",
      "state": {
       "_model_module_version": "~2.1.4",
       "_view_module_version": "~2.1.4",
       "width": "100%"
      }
     },
     "81ea9309495542b599212c94fa8cd7ea": {
      "model_module": "jupyter-js-widgets",
      "model_module_version": "~2.1.4",
      "model_name": "HTMLModel",
      "state": {
       "_model_module_version": "~2.1.4",
       "_view_module_version": "~2.1.4",
       "layout": "IPY_MODEL_2c4800ceb7fe4d83b8df9479c11e8441",
       "value": "\n<!-- TODO: Remove this SCRIPT when next version of ipywidgets comes out -->\n<style>\n.widget-html > .widget-html-content, .widget-htmlmath > .widget-html-content {\n    /* Fill out the area in the HTML widget */\n    align-self: stretch;\n    flex-grow: 1;\n    flex-shrink: 1;\n    /* Makes sure the baseline is still aligned with other elements */\n    line-height: var(--jp-widgets-inline-height);\n    /* Make it possible to have absolutely-positioned elements in the html */\n    position: relative;\n}\n</style>\n\n<iframe src=\"https://conx.readthedocs.io\" width=\"100%\" height=\"550px\"></frame>\n"
      }
     },
     "82b137b16a79429bb05d230515f1b042": {
      "model_module": "jupyter-js-widgets",
      "model_module_version": "~2.1.4",
      "model_name": "ButtonStyleModel",
      "state": {
       "_model_module_version": "~2.1.4",
       "_view_module_version": "~2.1.4"
      }
     },
     "839b7740844147219e21b052d94fcfc3": {
      "model_module": "jupyter-js-widgets",
      "model_module_version": "~2.1.4",
      "model_name": "HBoxModel",
      "state": {
       "_model_module_version": "~2.1.4",
       "_view_module_version": "~2.1.4",
       "children": [
        "IPY_MODEL_85336443150c48f18bb2d16059aca8db",
        "IPY_MODEL_d35e7111120a46d380558d60c206c48f",
        "IPY_MODEL_2f9619e869864249bff0462a3b8031cf",
        "IPY_MODEL_8dc146dd89214761a4fe16f59a098c68",
        "IPY_MODEL_fa9d10e8d84e4d3886a387f83f20abcb"
       ],
       "layout": "IPY_MODEL_0c777aacbf3c4494997c450b4c817fb6"
      }
     },
     "841bfff67e2f42b5b25c209b88b442cf": {
      "model_module": "jupyter-js-widgets",
      "model_module_version": "~2.1.4",
      "model_name": "LayoutModel",
      "state": {
       "_model_module_version": "~2.1.4",
       "_view_module_version": "~2.1.4",
       "width": "100%"
      }
     },
     "85336443150c48f18bb2d16059aca8db": {
      "model_module": "jupyter-js-widgets",
      "model_module_version": "~2.1.4",
      "model_name": "ButtonModel",
      "state": {
       "_model_module_version": "~2.1.4",
       "_view_module_version": "~2.1.4",
       "icon": "fast-backward",
       "layout": "IPY_MODEL_8c80f35537504b6f9cc37bc7026ff49f",
       "style": "IPY_MODEL_63f4253680824fb0bf89b49e3566e945"
      }
     },
     "8538548ccc28406e832a93acc8b65600": {
      "model_module": "jupyter-js-widgets",
      "model_module_version": "~2.1.4",
      "model_name": "LayoutModel",
      "state": {
       "_model_module_version": "~2.1.4",
       "_view_module_version": "~2.1.4",
       "height": "550px",
       "width": "100%"
      }
     },
     "8604d546a1fc439c96e449603813fefc": {
      "model_module": "jupyter-js-widgets",
      "model_module_version": "~2.1.4",
      "model_name": "ButtonModel",
      "state": {
       "_model_module_version": "~2.1.4",
       "_view_module_version": "~2.1.4",
       "icon": "backward",
       "layout": "IPY_MODEL_a99e089390e04abebcbe9ea6a93fe300",
       "style": "IPY_MODEL_7a9867f376fe4593834f71689ce2fc31"
      }
     },
     "87ac06efb86f4d3faf4adda6b5ca579a": {
      "model_module": "jupyter-js-widgets",
      "model_module_version": "~2.1.4",
      "model_name": "LayoutModel",
      "state": {
       "_model_module_version": "~2.1.4",
       "_view_module_version": "~2.1.4",
       "width": "100%"
      }
     },
     "87d2645a500d4c65900afb70f8dc2fd3": {
      "model_module": "jupyter-js-widgets",
      "model_module_version": "~2.1.4",
      "model_name": "ButtonStyleModel",
      "state": {
       "_model_module_version": "~2.1.4",
       "_view_module_version": "~2.1.4"
      }
     },
     "89120bda442248d080bb69294684a3d6": {
      "model_module": "jupyter-js-widgets",
      "model_module_version": "~2.1.4",
      "model_name": "ButtonStyleModel",
      "state": {
       "_model_module_version": "~2.1.4",
       "_view_module_version": "~2.1.4"
      }
     },
     "8bf93d682b9841b3bbdc4fe1e75534bb": {
      "model_module": "jupyter-js-widgets",
      "model_module_version": "~2.1.4",
      "model_name": "LayoutModel",
      "state": {
       "_model_module_version": "~2.1.4",
       "_view_module_version": "~2.1.4",
       "height": "550px",
       "width": "100%"
      }
     },
     "8c2c5ce2a8be4141aced3cd4dbf169e2": {
      "model_module": "jupyter-js-widgets",
      "model_module_version": "~2.1.4",
      "model_name": "ButtonModel",
      "state": {
       "_model_module_version": "~2.1.4",
       "_view_module_version": "~2.1.4",
       "icon": "forward",
       "layout": "IPY_MODEL_3f852f57ea05460a9d68e7bc2f6554c0",
       "style": "IPY_MODEL_7e1c9cc738794fefa03b7b83b7b935b7"
      }
     },
     "8c80f35537504b6f9cc37bc7026ff49f": {
      "model_module": "jupyter-js-widgets",
      "model_module_version": "~2.1.4",
      "model_name": "LayoutModel",
      "state": {
       "_model_module_version": "~2.1.4",
       "_view_module_version": "~2.1.4",
       "width": "100%"
      }
     },
     "8dc146dd89214761a4fe16f59a098c68": {
      "model_module": "jupyter-js-widgets",
      "model_module_version": "~2.1.4",
      "model_name": "ButtonModel",
      "state": {
       "_model_module_version": "~2.1.4",
       "_view_module_version": "~2.1.4",
       "icon": "forward",
       "layout": "IPY_MODEL_841bfff67e2f42b5b25c209b88b442cf",
       "style": "IPY_MODEL_f637f259c3f54ee98b4ae98e066dcc85"
      }
     },
     "8ea0c9fbdd4648429be85792f1858045": {
      "model_module": "jupyter-js-widgets",
      "model_module_version": "~2.1.4",
      "model_name": "HTMLModel",
      "state": {
       "_model_module_version": "~2.1.4",
       "_view_module_version": "~2.1.4",
       "layout": "IPY_MODEL_4d5c574704f64761aa22bc3af79717da",
       "value": "<p style=\"text-align:center\">\n        <svg id='XOR2 Network' xmlns='http://www.w3.org/2000/svg' width=\"800\" height=\"310\" image-rendering=\"pixelated\">\n    <defs>\n        <marker id=\"arrow\" markerWidth=\"10\" markerHeight=\"10\" refX=\"9\" refY=\"3\" orient=\"auto\" markerUnits=\"strokeWidth\">\n          <path d=\"M0,0 L0,6 L9,3 z\" fill=\"black\" />\n        </marker>\n    </defs>\n<text x=\"400.0\" y=\"12.5\" font-family=\"monospace\" font-size=\"15\" text-anchor=\"middle\" alignment-baseline=\"central\">XOR2 Network</text><rect x=\"240.66666666666669\" y=\"29\" width=\"52\" height=\"52\" style=\"fill:none;stroke:black;stroke-width:2\"/><image id=\"XOR2 Network_output1_1\" class=\"XOR2 Network_output1\" x=\"241.66666666666669\" y=\"30\" height=\"50\" width=\"50\" preserveAspectRatio=\"none\" href=\"data:image/gif;base64,R0lGODdhAQABAIcAAI2NjQAAAAAAAAAAAAAAAAAAAAAAAAAAAAAAAAAAAAAAAAAAAAAAAAAAAAAAAAAAAAAAAAAAAAAAAAAAAAAAAAAAAAAAAAAAAAAAAAAAAAAAAAAAAAAAAAAAAAAAAAAAAAAAAAAAAAAAAAAAAAAAAAAAAAAAAAAAAAAAAAAAAAAAAAAAAAAAAAAAAAAAAAAAAAAAAAAAAAAAAAAAAAAAAAAAAAAAAAAAAAAAAAAAAAAAAAAAAAAAAAAAAAAAAAAAAAAAAAAAAAAAAAAAAAAAAAAAAAAAAAAAAAAAAAAAAAAAAAAAAAAAAAAAAAAAAAAAAAAAAAAAAAAAAAAAAAAAAAAAAAAAAAAAAAAAAAAAAAAAAAAAAAAAAAAAAAAAAAAAAAAAAAAAAAAAAAAAAAAAAAAAAAAAAAAAAAAAAAAAAAAAAAAAAAAAAAAAAAAAAAAAAAAAAAAAAAAAAAAAAAAAAAAAAAAAAAAAAAAAAAAAAAAAAAAAAAAAAAAAAAAAAAAAAAAAAAAAAAAAAAAAAAAAAAAAAAAAAAAAAAAAAAAAAAAAAAAAAAAAAAAAAAAAAAAAAAAAAAAAAAAAAAAAAAAAAAAAAAAAAAAAAAAAAAAAAAAAAAAAAAAAAAAAAAAAAAAAAAAAAAAAAAAAAAAAAAAAAAAAAAAAAAAAAAAAAAAAAAAAAAAAAAAAAAAAAAAAAAAAAAAAAAAAAAAAAAAAAAAAAAAAAAAAAAAAAAAAAAAAAAAAAAAAAAAAAAAAAAAAAAAAAAAAAAAAAAAAAAAAAAAAAAAAAAAAAAAAAAAAAAAAAAAAAAAAAAAAAAAAAAAAAAAAAAAAAAAAAAAAAAAAAAAAAAAAAAAAAAAAAAAAAAAAAAAAAAAAAAAAAAAAAAAAAAAAAAAAAAAAAAAAAAAAAAAAAAAAAAAAAAAAAAAAAAAAAAAAAAAAAAAAAAAAAAAAAAAAAAAAAAAAAAAAAAAAAAAAAAAAAAAAAAAAAAAAAAAAAAAAAAAAAAAAAAAAAAAAAAAAACwAAAAAAQABAAAIBQABbAkIADs=\"><title>Layer: output1 (output)\n shape = (1,)\n Keras class = Dense\n activation = sigmoid</title></image><text x=\"296.6666666666667\" y=\"57.0\" font-family=\"monospace\" font-size=\"12\" text-anchor=\"start\" alignment-baseline=\"central\">output1</text><rect x=\"507.33333333333337\" y=\"29\" width=\"52\" height=\"52\" style=\"fill:none;stroke:black;stroke-width:2\"/><image id=\"XOR2 Network_output2_2\" class=\"XOR2 Network_output2\" x=\"508.33333333333337\" y=\"30\" height=\"50\" width=\"50\" preserveAspectRatio=\"none\" href=\"data:image/gif;base64,R0lGODdhAQABAIcAAOeIbAAAAAAAAAAAAAAAAAAAAAAAAAAAAAAAAAAAAAAAAAAAAAAAAAAAAAAAAAAAAAAAAAAAAAAAAAAAAAAAAAAAAAAAAAAAAAAAAAAAAAAAAAAAAAAAAAAAAAAAAAAAAAAAAAAAAAAAAAAAAAAAAAAAAAAAAAAAAAAAAAAAAAAAAAAAAAAAAAAAAAAAAAAAAAAAAAAAAAAAAAAAAAAAAAAAAAAAAAAAAAAAAAAAAAAAAAAAAAAAAAAAAAAAAAAAAAAAAAAAAAAAAAAAAAAAAAAAAAAAAAAAAAAAAAAAAAAAAAAAAAAAAAAAAAAAAAAAAAAAAAAAAAAAAAAAAAAAAAAAAAAAAAAAAAAAAAAAAAAAAAAAAAAAAAAAAAAAAAAAAAAAAAAAAAAAAAAAAAAAAAAAAAAAAAAAAAAAAAAAAAAAAAAAAAAAAAAAAAAAAAAAAAAAAAAAAAAAAAAAAAAAAAAAAAAAAAAAAAAAAAAAAAAAAAAAAAAAAAAAAAAAAAAAAAAAAAAAAAAAAAAAAAAAAAAAAAAAAAAAAAAAAAAAAAAAAAAAAAAAAAAAAAAAAAAAAAAAAAAAAAAAAAAAAAAAAAAAAAAAAAAAAAAAAAAAAAAAAAAAAAAAAAAAAAAAAAAAAAAAAAAAAAAAAAAAAAAAAAAAAAAAAAAAAAAAAAAAAAAAAAAAAAAAAAAAAAAAAAAAAAAAAAAAAAAAAAAAAAAAAAAAAAAAAAAAAAAAAAAAAAAAAAAAAAAAAAAAAAAAAAAAAAAAAAAAAAAAAAAAAAAAAAAAAAAAAAAAAAAAAAAAAAAAAAAAAAAAAAAAAAAAAAAAAAAAAAAAAAAAAAAAAAAAAAAAAAAAAAAAAAAAAAAAAAAAAAAAAAAAAAAAAAAAAAAAAAAAAAAAAAAAAAAAAAAAAAAAAAAAAAAAAAAAAAAAAAAAAAAAAAAAAAAAAAAAAAAAAAAAAAAAAAAAAAAAAAAAAAAAAAAAAAAAAAAAAAAAAAAAAAAAAAAAAAAAAAAAAAAAACwAAAAAAQABAAAIBQABbAkIADs=\"><title>Layer: output2 (output)\n shape = (1,)\n Keras class = Dense\n activation = sigmoid</title></image><text x=\"563.3333333333334\" y=\"57.0\" font-family=\"monospace\" font-size=\"12\" text-anchor=\"start\" alignment-baseline=\"central\">output2</text><line x1=\"400.0\" y1=\"109\" x2=\"266.6666666666667\" y2=\"82\" stroke=\"black\" stroke-width=\"2\" marker-end=\"url(#arrow)\"><title>Weights from shared-hidden to output1\n output1/kernel has shape (5, 1)\n output1/bias has shape (1,)</title></line><line x1=\"400.0\" y1=\"109\" x2=\"533.3333333333334\" y2=\"82\" stroke=\"black\" stroke-width=\"2\" marker-end=\"url(#arrow)\"><title>Weights from shared-hidden to output2\n output2/kernel has shape (5, 1)\n output2/bias has shape (1,)</title></line><rect x=\"299.0\" y=\"109\" width=\"202\" height=\"42\" style=\"fill:none;stroke:black;stroke-width:2\"/><image id=\"XOR2 Network_shared-hidden_3\" class=\"XOR2 Network_shared-hidden\" x=\"300.0\" y=\"110\" height=\"40\" width=\"200\" preserveAspectRatio=\"none\" href=\"data:image/gif;base64,R0lGODdhBQABAIcAAK2trdjY2PGefPvQufPz8wAAAAAAAAAAAAAAAAAAAAAAAAAAAAAAAAAAAAAAAAAAAAAAAAAAAAAAAAAAAAAAAAAAAAAAAAAAAAAAAAAAAAAAAAAAAAAAAAAAAAAAAAAAAAAAAAAAAAAAAAAAAAAAAAAAAAAAAAAAAAAAAAAAAAAAAAAAAAAAAAAAAAAAAAAAAAAAAAAAAAAAAAAAAAAAAAAAAAAAAAAAAAAAAAAAAAAAAAAAAAAAAAAAAAAAAAAAAAAAAAAAAAAAAAAAAAAAAAAAAAAAAAAAAAAAAAAAAAAAAAAAAAAAAAAAAAAAAAAAAAAAAAAAAAAAAAAAAAAAAAAAAAAAAAAAAAAAAAAAAAAAAAAAAAAAAAAAAAAAAAAAAAAAAAAAAAAAAAAAAAAAAAAAAAAAAAAAAAAAAAAAAAAAAAAAAAAAAAAAAAAAAAAAAAAAAAAAAAAAAAAAAAAAAAAAAAAAAAAAAAAAAAAAAAAAAAAAAAAAAAAAAAAAAAAAAAAAAAAAAAAAAAAAAAAAAAAAAAAAAAAAAAAAAAAAAAAAAAAAAAAAAAAAAAAAAAAAAAAAAAAAAAAAAAAAAAAAAAAAAAAAAAAAAAAAAAAAAAAAAAAAAAAAAAAAAAAAAAAAAAAAAAAAAAAAAAAAAAAAAAAAAAAAAAAAAAAAAAAAAAAAAAAAAAAAAAAAAAAAAAAAAAAAAAAAAAAAAAAAAAAAAAAAAAAAAAAAAAAAAAAAAAAAAAAAAAAAAAAAAAAAAAAAAAAAAAAAAAAAAAAAAAAAAAAAAAAAAAAAAAAAAAAAAAAAAAAAAAAAAAAAAAAAAAAAAAAAAAAAAAAAAAAAAAAAAAAAAAAAAAAAAAAAAAAAAAAAAAAAAAAAAAAAAAAAAAAAAAAAAAAAAAAAAAAAAAAAAAAAAAAAAAAAAAAAAAAAAAAAAAAAAAAAAAAAAAAAAAAAAAAAAAAAAAAAAAAAAAAAAAAAAAAAAAAAAAAAAAAAAAAAAAAAAAAAAAAAAAAAAAAAACwAAAAABQABAAAICAAHAAhAQEBAADs=\"><title>Layer: shared-hidden (hidden)\n shape = (5,)\n Keras class = Dense\n activation = sigmoid</title></image><text x=\"505.0\" y=\"132.0\" font-family=\"monospace\" font-size=\"12\" text-anchor=\"start\" alignment-baseline=\"central\">shared-hidden</text><line x1=\"266.6666666666667\" y1=\"179\" x2=\"400.0\" y2=\"152\" stroke=\"black\" stroke-width=\"2\" marker-end=\"url(#arrow)\"><title>Weights from hidden1 to shared-hidden\n shared-hidden/kernel has shape (20, 5)\n shared-hidden/bias has shape (5,)</title></line><rect x=\"165.66666666666669\" y=\"179\" width=\"202\" height=\"27\" style=\"fill:none;stroke:black;stroke-width:2\"/><image id=\"XOR2 Network_hidden1_4\" class=\"XOR2 Network_hidden1\" x=\"166.66666666666669\" y=\"180\" height=\"25\" width=\"200\" preserveAspectRatio=\"none\" href=\"data:image/gif;base64,R0lGODdhCgABAIcAAP7+/QAAAAAAAAAAAAAAAAAAAAAAAAAAAAAAAAAAAAAAAAAAAAAAAAAAAAAAAAAAAAAAAAAAAAAAAAAAAAAAAAAAAAAAAAAAAAAAAAAAAAAAAAAAAAAAAAAAAAAAAAAAAAAAAAAAAAAAAAAAAAAAAAAAAAAAAAAAAAAAAAAAAAAAAAAAAAAAAAAAAAAAAAAAAAAAAAAAAAAAAAAAAAAAAAAAAAAAAAAAAAAAAAAAAAAAAAAAAAAAAAAAAAAAAAAAAAAAAAAAAAAAAAAAAAAAAAAAAAAAAAAAAAAAAAAAAAAAAAAAAAAAAAAAAAAAAAAAAAAAAAAAAAAAAAAAAAAAAAAAAAAAAAAAAAAAAAAAAAAAAAAAAAAAAAAAAAAAAAAAAAAAAAAAAAAAAAAAAAAAAAAAAAAAAAAAAAAAAAAAAAAAAAAAAAAAAAAAAAAAAAAAAAAAAAAAAAAAAAAAAAAAAAAAAAAAAAAAAAAAAAAAAAAAAAAAAAAAAAAAAAAAAAAAAAAAAAAAAAAAAAAAAAAAAAAAAAAAAAAAAAAAAAAAAAAAAAAAAAAAAAAAAAAAAAAAAAAAAAAAAAAAAAAAAAAAAAAAAAAAAAAAAAAAAAAAAAAAAAAAAAAAAAAAAAAAAAAAAAAAAAAAAAAAAAAAAAAAAAAAAAAAAAAAAAAAAAAAAAAAAAAAAAAAAAAAAAAAAAAAAAAAAAAAAAAAAAAAAAAAAAAAAAAAAAAAAAAAAAAAAAAAAAAAAAAAAAAAAAAAAAAAAAAAAAAAAAAAAAAAAAAAAAAAAAAAAAAAAAAAAAAAAAAAAAAAAAAAAAAAAAAAAAAAAAAAAAAAAAAAAAAAAAAAAAAAAAAAAAAAAAAAAAAAAAAAAAAAAAAAAAAAAAAAAAAAAAAAAAAAAAAAAAAAAAAAAAAAAAAAAAAAAAAAAAAAAAAAAAAAAAAAAAAAAAAAAAAAAAAAAAAAAAAAAAAAAAAAAAAAAAAAAAAAAAAAAAAAAAAAAAAAAAAAAAAAAAAAAAAAACwAAAAACgABAAAIBwABCBxIMCAAOw==\"><title>Layer: hidden1 (hidden)\n shape = (10,)\n Keras class = Dense\n activation = sigmoid</title></image><text x=\"371.6666666666667\" y=\"194.5\" font-family=\"monospace\" font-size=\"12\" text-anchor=\"start\" alignment-baseline=\"central\">hidden1</text><line x1=\"533.3333333333334\" y1=\"179\" x2=\"400.0\" y2=\"152\" stroke=\"black\" stroke-width=\"2\" marker-end=\"url(#arrow)\"><title>Weights from hidden2 to shared-hidden\n shared-hidden/kernel has shape (20, 5)\n shared-hidden/bias has shape (5,)</title></line><rect x=\"432.33333333333337\" y=\"179\" width=\"202\" height=\"27\" style=\"fill:none;stroke:black;stroke-width:2\"/><image id=\"XOR2 Network_hidden2_5\" class=\"XOR2 Network_hidden2\" x=\"433.33333333333337\" y=\"180\" height=\"25\" width=\"200\" preserveAspectRatio=\"none\" href=\"data:image/gif;base64,R0lGODdhCgABAIcAAP7+/QAAAAAAAAAAAAAAAAAAAAAAAAAAAAAAAAAAAAAAAAAAAAAAAAAAAAAAAAAAAAAAAAAAAAAAAAAAAAAAAAAAAAAAAAAAAAAAAAAAAAAAAAAAAAAAAAAAAAAAAAAAAAAAAAAAAAAAAAAAAAAAAAAAAAAAAAAAAAAAAAAAAAAAAAAAAAAAAAAAAAAAAAAAAAAAAAAAAAAAAAAAAAAAAAAAAAAAAAAAAAAAAAAAAAAAAAAAAAAAAAAAAAAAAAAAAAAAAAAAAAAAAAAAAAAAAAAAAAAAAAAAAAAAAAAAAAAAAAAAAAAAAAAAAAAAAAAAAAAAAAAAAAAAAAAAAAAAAAAAAAAAAAAAAAAAAAAAAAAAAAAAAAAAAAAAAAAAAAAAAAAAAAAAAAAAAAAAAAAAAAAAAAAAAAAAAAAAAAAAAAAAAAAAAAAAAAAAAAAAAAAAAAAAAAAAAAAAAAAAAAAAAAAAAAAAAAAAAAAAAAAAAAAAAAAAAAAAAAAAAAAAAAAAAAAAAAAAAAAAAAAAAAAAAAAAAAAAAAAAAAAAAAAAAAAAAAAAAAAAAAAAAAAAAAAAAAAAAAAAAAAAAAAAAAAAAAAAAAAAAAAAAAAAAAAAAAAAAAAAAAAAAAAAAAAAAAAAAAAAAAAAAAAAAAAAAAAAAAAAAAAAAAAAAAAAAAAAAAAAAAAAAAAAAAAAAAAAAAAAAAAAAAAAAAAAAAAAAAAAAAAAAAAAAAAAAAAAAAAAAAAAAAAAAAAAAAAAAAAAAAAAAAAAAAAAAAAAAAAAAAAAAAAAAAAAAAAAAAAAAAAAAAAAAAAAAAAAAAAAAAAAAAAAAAAAAAAAAAAAAAAAAAAAAAAAAAAAAAAAAAAAAAAAAAAAAAAAAAAAAAAAAAAAAAAAAAAAAAAAAAAAAAAAAAAAAAAAAAAAAAAAAAAAAAAAAAAAAAAAAAAAAAAAAAAAAAAAAAAAAAAAAAAAAAAAAAAAAAAAAAAAAAAAAAAAAAAAAAAAAAAAAAAAAAAAAAAAAAAAACwAAAAACgABAAAIBwABCBxIMCAAOw==\"><title>Layer: hidden2 (hidden)\n shape = (10,)\n Keras class = Dense\n activation = sigmoid</title></image><text x=\"638.3333333333334\" y=\"194.5\" font-family=\"monospace\" font-size=\"12\" text-anchor=\"start\" alignment-baseline=\"central\">hidden2</text><line x1=\"266.6666666666667\" y1=\"234\" x2=\"266.6666666666667\" y2=\"207\" stroke=\"black\" stroke-width=\"2\" marker-end=\"url(#arrow)\"><title>Weights from input1 to hidden1\n hidden1/kernel has shape (1, 10)\n hidden1/bias has shape (10,)</title></line><rect x=\"240.66666666666669\" y=\"234\" width=\"52\" height=\"52\" style=\"fill:none;stroke:black;stroke-width:2\"/><image id=\"XOR2 Network_input1_6\" class=\"XOR2 Network_input1\" x=\"241.66666666666669\" y=\"235\" height=\"50\" width=\"50\" preserveAspectRatio=\"none\" href=\"data:image/gif;base64,R0lGODdhAQABAIcAAP7+/QAAAAAAAAAAAAAAAAAAAAAAAAAAAAAAAAAAAAAAAAAAAAAAAAAAAAAAAAAAAAAAAAAAAAAAAAAAAAAAAAAAAAAAAAAAAAAAAAAAAAAAAAAAAAAAAAAAAAAAAAAAAAAAAAAAAAAAAAAAAAAAAAAAAAAAAAAAAAAAAAAAAAAAAAAAAAAAAAAAAAAAAAAAAAAAAAAAAAAAAAAAAAAAAAAAAAAAAAAAAAAAAAAAAAAAAAAAAAAAAAAAAAAAAAAAAAAAAAAAAAAAAAAAAAAAAAAAAAAAAAAAAAAAAAAAAAAAAAAAAAAAAAAAAAAAAAAAAAAAAAAAAAAAAAAAAAAAAAAAAAAAAAAAAAAAAAAAAAAAAAAAAAAAAAAAAAAAAAAAAAAAAAAAAAAAAAAAAAAAAAAAAAAAAAAAAAAAAAAAAAAAAAAAAAAAAAAAAAAAAAAAAAAAAAAAAAAAAAAAAAAAAAAAAAAAAAAAAAAAAAAAAAAAAAAAAAAAAAAAAAAAAAAAAAAAAAAAAAAAAAAAAAAAAAAAAAAAAAAAAAAAAAAAAAAAAAAAAAAAAAAAAAAAAAAAAAAAAAAAAAAAAAAAAAAAAAAAAAAAAAAAAAAAAAAAAAAAAAAAAAAAAAAAAAAAAAAAAAAAAAAAAAAAAAAAAAAAAAAAAAAAAAAAAAAAAAAAAAAAAAAAAAAAAAAAAAAAAAAAAAAAAAAAAAAAAAAAAAAAAAAAAAAAAAAAAAAAAAAAAAAAAAAAAAAAAAAAAAAAAAAAAAAAAAAAAAAAAAAAAAAAAAAAAAAAAAAAAAAAAAAAAAAAAAAAAAAAAAAAAAAAAAAAAAAAAAAAAAAAAAAAAAAAAAAAAAAAAAAAAAAAAAAAAAAAAAAAAAAAAAAAAAAAAAAAAAAAAAAAAAAAAAAAAAAAAAAAAAAAAAAAAAAAAAAAAAAAAAAAAAAAAAAAAAAAAAAAAAAAAAAAAAAAAAAAAAAAAAAAAAAAAAAAAAAAAAAAAAAAAAAAAAAAAAAAAAAAAAAAACwAAAAAAQABAAAIBQABbAkIADs=\"><title>Layer: input1 (input)\n shape = (1,)\n Keras class = Input</title></image><text x=\"296.6666666666667\" y=\"262.0\" font-family=\"monospace\" font-size=\"12\" text-anchor=\"start\" alignment-baseline=\"central\">input1</text><line x1=\"533.3333333333334\" y1=\"234\" x2=\"533.3333333333334\" y2=\"207\" stroke=\"black\" stroke-width=\"2\" marker-end=\"url(#arrow)\"><title>Weights from input2 to hidden2\n hidden2/kernel has shape (1, 10)\n hidden2/bias has shape (10,)</title></line><rect x=\"507.33333333333337\" y=\"234\" width=\"52\" height=\"52\" style=\"fill:none;stroke:black;stroke-width:2\"/><image id=\"XOR2 Network_input2_7\" class=\"XOR2 Network_input2\" x=\"508.33333333333337\" y=\"235\" height=\"50\" width=\"50\" preserveAspectRatio=\"none\" href=\"data:image/gif;base64,R0lGODdhAQABAIcAAP7+/QAAAAAAAAAAAAAAAAAAAAAAAAAAAAAAAAAAAAAAAAAAAAAAAAAAAAAAAAAAAAAAAAAAAAAAAAAAAAAAAAAAAAAAAAAAAAAAAAAAAAAAAAAAAAAAAAAAAAAAAAAAAAAAAAAAAAAAAAAAAAAAAAAAAAAAAAAAAAAAAAAAAAAAAAAAAAAAAAAAAAAAAAAAAAAAAAAAAAAAAAAAAAAAAAAAAAAAAAAAAAAAAAAAAAAAAAAAAAAAAAAAAAAAAAAAAAAAAAAAAAAAAAAAAAAAAAAAAAAAAAAAAAAAAAAAAAAAAAAAAAAAAAAAAAAAAAAAAAAAAAAAAAAAAAAAAAAAAAAAAAAAAAAAAAAAAAAAAAAAAAAAAAAAAAAAAAAAAAAAAAAAAAAAAAAAAAAAAAAAAAAAAAAAAAAAAAAAAAAAAAAAAAAAAAAAAAAAAAAAAAAAAAAAAAAAAAAAAAAAAAAAAAAAAAAAAAAAAAAAAAAAAAAAAAAAAAAAAAAAAAAAAAAAAAAAAAAAAAAAAAAAAAAAAAAAAAAAAAAAAAAAAAAAAAAAAAAAAAAAAAAAAAAAAAAAAAAAAAAAAAAAAAAAAAAAAAAAAAAAAAAAAAAAAAAAAAAAAAAAAAAAAAAAAAAAAAAAAAAAAAAAAAAAAAAAAAAAAAAAAAAAAAAAAAAAAAAAAAAAAAAAAAAAAAAAAAAAAAAAAAAAAAAAAAAAAAAAAAAAAAAAAAAAAAAAAAAAAAAAAAAAAAAAAAAAAAAAAAAAAAAAAAAAAAAAAAAAAAAAAAAAAAAAAAAAAAAAAAAAAAAAAAAAAAAAAAAAAAAAAAAAAAAAAAAAAAAAAAAAAAAAAAAAAAAAAAAAAAAAAAAAAAAAAAAAAAAAAAAAAAAAAAAAAAAAAAAAAAAAAAAAAAAAAAAAAAAAAAAAAAAAAAAAAAAAAAAAAAAAAAAAAAAAAAAAAAAAAAAAAAAAAAAAAAAAAAAAAAAAAAAAAAAAAAAAAAAAAAAAAAAAAAAAAAAAAAAAAAAAACwAAAAAAQABAAAIBQABbAkIADs=\"><title>Layer: input2 (input)\n shape = (1,)\n Keras class = Input</title></image><text x=\"563.3333333333334\" y=\"262.0\" font-family=\"monospace\" font-size=\"12\" text-anchor=\"start\" alignment-baseline=\"central\">input2</text></svg></p>"
      }
     },
     "8fbf0df4681b44e38f1aa75a3078b243": {
      "model_module": "jupyter-js-widgets",
      "model_module_version": "~2.1.4",
      "model_name": "LayoutModel",
      "state": {
       "_model_module_version": "~2.1.4",
       "_view_module_version": "~2.1.4",
       "width": "100%"
      }
     },
     "9060fbee389249be80e70272deb319a8": {
      "model_module": "jupyter-js-widgets",
      "model_module_version": "~2.1.4",
      "model_name": "LayoutModel",
      "state": {
       "_model_module_version": "~2.1.4",
       "_view_module_version": "~2.1.4",
       "height": "550px",
       "width": "100%"
      }
     },
     "9094bfd58c97409495ef53a49d910de1": {
      "model_module": "jupyter-js-widgets",
      "model_module_version": "~2.1.4",
      "model_name": "ButtonModel",
      "state": {
       "_model_module_version": "~2.1.4",
       "_view_module_version": "~2.1.4",
       "icon": "fast-forward",
       "layout": "IPY_MODEL_56856a599a964e94beecbae20ac6bef7",
       "style": "IPY_MODEL_a10095fd1c38447d8e9544fe629b4157"
      }
     },
     "90f2eb0bb1cf4b63985c4fdf5ae68d81": {
      "model_module": "jupyter-js-widgets",
      "model_module_version": "~2.1.4",
      "model_name": "VBoxModel",
      "state": {
       "_model_module_version": "~2.1.4",
       "_view_module_version": "~2.1.4",
       "layout": "IPY_MODEL_effeb696948648ed986021154b51acca"
      }
     },
     "954c82b3ead0488cafecdb5a00f6f29a": {
      "model_module": "jupyter-js-widgets",
      "model_module_version": "~2.1.4",
      "model_name": "VBoxModel",
      "state": {
       "_model_module_version": "~2.1.4",
       "_view_module_version": "~2.1.4",
       "children": [
        "IPY_MODEL_2d90ec1c6e0344aa8a8efb5288261fa8",
        "IPY_MODEL_57383bef754849ff9ec14812450ad657",
        "IPY_MODEL_f9941576a17b460b92cb2a27caf14d3b"
       ],
       "layout": "IPY_MODEL_336ea1c160b44512aaa0b2a180d5f989"
      }
     },
     "96bd769ad12444cfa319a79b44d523d9": {
      "model_module": "jupyter-js-widgets",
      "model_module_version": "~2.1.4",
      "model_name": "LayoutModel",
      "state": {
       "_model_module_version": "~2.1.4",
       "_view_module_version": "~2.1.4",
       "width": "100%"
      }
     },
     "96e06b3f1faf42d9b26bf0172c2bbbca": {
      "model_module": "jupyter-js-widgets",
      "model_module_version": "~2.1.4",
      "model_name": "ButtonStyleModel",
      "state": {
       "_model_module_version": "~2.1.4",
       "_view_module_version": "~2.1.4"
      }
     },
     "976fbd3ce0da4865aabad0280aebb770": {
      "model_module": "jupyter-js-widgets",
      "model_module_version": "~2.1.4",
      "model_name": "IntSliderModel",
      "state": {
       "_model_module_version": "~2.1.4",
       "_view_module_version": "~2.1.4",
       "continuous_update": false,
       "description": "Dataset index",
       "layout": "IPY_MODEL_b8ea85594a7447d780c284b437c8144e",
       "max": 3,
       "style": "IPY_MODEL_2db99f3f66af409389adfb84e9df919c",
       "value": 3
      }
     },
     "990afa9cbf894543a605552961f8602b": {
      "model_module": "jupyter-js-widgets",
      "model_module_version": "~2.1.4",
      "model_name": "LayoutModel",
      "state": {
       "_model_module_version": "~2.1.4",
       "_view_module_version": "~2.1.4",
       "width": "100%"
      }
     },
     "9a5108efaa554e89918b0eccfc800ac3": {
      "model_module": "jupyter-js-widgets",
      "model_module_version": "~2.1.4",
      "model_name": "HBoxModel",
      "state": {
       "_model_module_version": "~2.1.4",
       "_view_module_version": "~2.1.4",
       "children": [
        "IPY_MODEL_539d367a299b45e1816cded8530242f0",
        "IPY_MODEL_0a19f15fd1e24d62b7f071b4d48f5aad",
        "IPY_MODEL_ee53dd0b3a9c44c0a3dee7cca82b9116",
        "IPY_MODEL_d7424d5a80b342f097b80708233b51dd",
        "IPY_MODEL_5fce82637248448c83164426611146be"
       ],
       "layout": "IPY_MODEL_5c1a10fa8df94f18b84c7c6e00ac1f6d"
      }
     },
     "9c0883a829a24cad8c9d5e8780faa523": {
      "model_module": "jupyter-js-widgets",
      "model_module_version": "~2.1.4",
      "model_name": "VBoxModel",
      "state": {
       "_model_module_version": "~2.1.4",
       "_view_module_version": "~2.1.4",
       "layout": "IPY_MODEL_8538548ccc28406e832a93acc8b65600"
      }
     },
     "a10095fd1c38447d8e9544fe629b4157": {
      "model_module": "jupyter-js-widgets",
      "model_module_version": "~2.1.4",
      "model_name": "ButtonStyleModel",
      "state": {
       "_model_module_version": "~2.1.4",
       "_view_module_version": "~2.1.4"
      }
     },
     "a2a96470032b4fcb8b12e392803f363f": {
      "model_module": "jupyter-js-widgets",
      "model_module_version": "~2.1.4",
      "model_name": "HBoxModel",
      "state": {
       "_model_module_version": "~2.1.4",
       "_view_module_version": "~2.1.4",
       "children": [
        "IPY_MODEL_45a90300c4a242fc929836b2d4864d08",
        "IPY_MODEL_30d853038fe048738f113bad038e1e07",
        "IPY_MODEL_e1f5bf6751ca42d8bfa39d733983ce51",
        "IPY_MODEL_10efbe283a594b8bae3db1225974a965",
        "IPY_MODEL_e8dce462f01042df82c9c36de6ead4e1"
       ],
       "layout": "IPY_MODEL_ddabc779eaa34e13a95a6dc3d21dad79"
      }
     },
     "a3adcc0c784942dd84a274a1b7927fd9": {
      "model_module": "jupyter-js-widgets",
      "model_module_version": "~2.1.4",
      "model_name": "LayoutModel",
      "state": {
       "_model_module_version": "~2.1.4",
       "_view_module_version": "~2.1.4",
       "height": "550px",
       "justify_content": "center",
       "overflow_x": "auto",
       "width": "100%"
      }
     },
     "a5c19b26b275401ea61097303a53f3a9": {
      "model_module": "jupyter-js-widgets",
      "model_module_version": "~2.1.4",
      "model_name": "SelectModel",
      "state": {
       "_model_module_version": "~2.1.4",
       "_options_labels": [
        "Test",
        "Train"
       ],
       "_view_module_version": "~2.1.4",
       "description": "Dataset:",
       "layout": "IPY_MODEL_ab768c9ee4c942278ba5e8fcfbd26f61",
       "value": "Train"
      }
     },
     "a7ce02124ec14ff987573e1a3e7b7cae": {
      "model_module": "jupyter-js-widgets",
      "model_module_version": "~2.1.4",
      "model_name": "ButtonStyleModel",
      "state": {
       "_model_module_version": "~2.1.4",
       "_view_module_version": "~2.1.4"
      }
     },
     "a8fa3b134c98435ca7ba7525b4f95e75": {
      "model_module": "jupyter-js-widgets",
      "model_module_version": "~2.1.4",
      "model_name": "LayoutModel",
      "state": {
       "_model_module_version": "~2.1.4",
       "_view_module_version": "~2.1.4",
       "width": "100%"
      }
     },
     "a94957fb3f4e485c9162ea6bab85f218": {
      "model_module": "jupyter-js-widgets",
      "model_module_version": "~2.1.4",
      "model_name": "LayoutModel",
      "state": {
       "_model_module_version": "~2.1.4",
       "_view_module_version": "~2.1.4",
       "width": "100%"
      }
     },
     "a99e089390e04abebcbe9ea6a93fe300": {
      "model_module": "jupyter-js-widgets",
      "model_module_version": "~2.1.4",
      "model_name": "LayoutModel",
      "state": {
       "_model_module_version": "~2.1.4",
       "_view_module_version": "~2.1.4",
       "width": "100%"
      }
     },
     "ab768c9ee4c942278ba5e8fcfbd26f61": {
      "model_module": "jupyter-js-widgets",
      "model_module_version": "~2.1.4",
      "model_name": "LayoutModel",
      "state": {
       "_model_module_version": "~2.1.4",
       "_view_module_version": "~2.1.4"
      }
     },
     "abc4d67c540d4a25ae2a831bc7933f9c": {
      "model_module": "jupyter-js-widgets",
      "model_module_version": "~2.1.4",
      "model_name": "ButtonStyleModel",
      "state": {
       "_model_module_version": "~2.1.4",
       "_view_module_version": "~2.1.4"
      }
     },
     "abcbb837ac894a94b5ad55ecfd3e532d": {
      "model_module": "jupyter-js-widgets",
      "model_module_version": "~2.1.4",
      "model_name": "ButtonStyleModel",
      "state": {
       "_model_module_version": "~2.1.4",
       "_view_module_version": "~2.1.4"
      }
     },
     "ad1840050e694738bd6b7c7cc6d69ff1": {
      "model_module": "jupyter-js-widgets",
      "model_module_version": "~2.1.4",
      "model_name": "LayoutModel",
      "state": {
       "_model_module_version": "~2.1.4",
       "_view_module_version": "~2.1.4",
       "width": "100%"
      }
     },
     "b1a1a2ab55cd40aab338aef35e74491a": {
      "model_module": "jupyter-js-widgets",
      "model_module_version": "~2.1.4",
      "model_name": "LayoutModel",
      "state": {
       "_model_module_version": "~2.1.4",
       "_view_module_version": "~2.1.4",
       "width": "100%"
      }
     },
     "b262ca1e8d5f487f95cde725b87343bd": {
      "model_module": "jupyter-js-widgets",
      "model_module_version": "~2.1.4",
      "model_name": "VBoxModel",
      "state": {
       "_model_module_version": "~2.1.4",
       "_view_module_version": "~2.1.4",
       "children": [
        "IPY_MODEL_a5c19b26b275401ea61097303a53f3a9",
        "IPY_MODEL_e5d54467586f44cfaee432245955fdeb",
        "IPY_MODEL_24d9ee9b2a2f42a1a7ec1cf3b1bf3361"
       ],
       "layout": "IPY_MODEL_c4bcda4358034b249bf01d53ad11acbe"
      }
     },
     "b3d852ecaf9d4652b4986788622ff0ec": {
      "model_module": "jupyter-js-widgets",
      "model_module_version": "~2.1.4",
      "model_name": "LayoutModel",
      "state": {
       "_model_module_version": "~2.1.4",
       "_view_module_version": "~2.1.4",
       "width": "100%"
      }
     },
     "b4218bc026d54082ad2756abaa541372": {
      "model_module": "jupyter-js-widgets",
      "model_module_version": "~2.1.4",
      "model_name": "SliderStyleModel",
      "state": {
       "_model_module_version": "~2.1.4",
       "_view_module_version": "~2.1.4"
      }
     },
     "b465e07a5a754a068c39c93c3c8f827d": {
      "model_module": "jupyter-js-widgets",
      "model_module_version": "~2.1.4",
      "model_name": "SliderStyleModel",
      "state": {
       "_model_module_version": "~2.1.4",
       "_view_module_version": "~2.1.4"
      }
     },
     "b46cdd18d6054814bcaf5094af13da2a": {
      "model_module": "jupyter-js-widgets",
      "model_module_version": "~2.1.4",
      "model_name": "ButtonModel",
      "state": {
       "_model_module_version": "~2.1.4",
       "_view_module_version": "~2.1.4",
       "description": "Turn on webcamera",
       "layout": "IPY_MODEL_2de56e1b54834baca6cd87635b6816c9",
       "style": "IPY_MODEL_3d0d374a691c47bca4abe4641b4dd5b6"
      }
     },
     "b478084c968147dd95834093c9ebb060": {
      "model_module": "jupyter-js-widgets",
      "model_module_version": "~2.1.4",
      "model_name": "LayoutModel",
      "state": {
       "_model_module_version": "~2.1.4",
       "_view_module_version": "~2.1.4",
       "height": "550px",
       "width": "100%"
      }
     },
     "b552008d39e141299e23b72af0c60615": {
      "model_module": "jupyter-js-widgets",
      "model_module_version": "~2.1.4",
      "model_name": "VBoxModel",
      "state": {
       "_model_module_version": "~2.1.4",
       "_view_module_version": "~2.1.4",
       "children": [
        "IPY_MODEL_7522ab0fc7a1407e93c5016f378cecdb",
        "IPY_MODEL_0a84d47fcd3e4634bcc47acd365023d5"
       ],
       "layout": "IPY_MODEL_0d51443cf4dc4a989b5270151265ba2f"
      }
     },
     "b6683ae172894a55ba55b50207af7307": {
      "model_module": "jupyter-js-widgets",
      "model_module_version": "~2.1.4",
      "model_name": "LayoutModel",
      "state": {
       "_model_module_version": "~2.1.4",
       "_view_module_version": "~2.1.4",
       "width": "100%"
      }
     },
     "b71aab98a91c4b33a0ef75aee99ffc1f": {
      "model_module": "jupyter-js-widgets",
      "model_module_version": "~2.1.4",
      "model_name": "ButtonModel",
      "state": {
       "_model_module_version": "~2.1.4",
       "_view_module_version": "~2.1.4",
       "icon": "fast-forward",
       "layout": "IPY_MODEL_47c4904ce09a4fa88e3b45d2688151d4",
       "style": "IPY_MODEL_495712c2873846188711a9857c289d35"
      }
     },
     "b8ea85594a7447d780c284b437c8144e": {
      "model_module": "jupyter-js-widgets",
      "model_module_version": "~2.1.4",
      "model_name": "LayoutModel",
      "state": {
       "_model_module_version": "~2.1.4",
       "_view_module_version": "~2.1.4",
       "width": "100%"
      }
     },
     "bcdc6595e5c8447c962b0e20ebafc54b": {
      "model_module": "jupyter-js-widgets",
      "model_module_version": "~2.1.4",
      "model_name": "ButtonStyleModel",
      "state": {
       "_model_module_version": "~2.1.4",
       "_view_module_version": "~2.1.4"
      }
     },
     "c2aa117dc0cb4af793bf3516731c5896": {
      "model_module": "jupyter-js-widgets",
      "model_module_version": "~2.1.4",
      "model_name": "LayoutModel",
      "state": {
       "_model_module_version": "~2.1.4",
       "_view_module_version": "~2.1.4",
       "width": "100%"
      }
     },
     "c4bcda4358034b249bf01d53ad11acbe": {
      "model_module": "jupyter-js-widgets",
      "model_module_version": "~2.1.4",
      "model_name": "LayoutModel",
      "state": {
       "_model_module_version": "~2.1.4",
       "_view_module_version": "~2.1.4",
       "width": "100%"
      }
     },
     "c6eb575c5cb647caafc04bf19c6e5e15": {
      "model_module": "jupyter-js-widgets",
      "model_module_version": "~2.1.4",
      "model_name": "VBoxModel",
      "state": {
       "_model_module_version": "~2.1.4",
       "_view_module_version": "~2.1.4",
       "children": [
        "IPY_MODEL_dae7d47d88724116bbb17c2682a9fd3b"
       ],
       "layout": "IPY_MODEL_b478084c968147dd95834093c9ebb060"
      }
     },
     "c712750940174af8ac0f0731708c10cd": {
      "model_module": "jupyter-js-widgets",
      "model_module_version": "~2.1.4",
      "model_name": "ButtonStyleModel",
      "state": {
       "_model_module_version": "~2.1.4",
       "_view_module_version": "~2.1.4"
      }
     },
     "caf1c94d379f4e0f8d77a011ce9b746e": {
      "model_module": "jupyter-js-widgets",
      "model_module_version": "~2.1.4",
      "model_name": "LayoutModel",
      "state": {
       "_model_module_version": "~2.1.4",
       "_view_module_version": "~2.1.4"
      }
     },
     "cd17e84be26c4ceebb711b3c93b652cb": {
      "model_module": "jupyter-js-widgets",
      "model_module_version": "~2.1.4",
      "model_name": "ButtonStyleModel",
      "state": {
       "_model_module_version": "~2.1.4",
       "_view_module_version": "~2.1.4"
      }
     },
     "cd195285569147b989a9650e959ef1df": {
      "model_module": "jupyter-js-widgets",
      "model_module_version": "~2.1.4",
      "model_name": "LayoutModel",
      "state": {
       "_model_module_version": "~2.1.4",
       "_view_module_version": "~2.1.4",
       "width": "100%"
      }
     },
     "cfef5edaa4304b23b0eb5aa436432849": {
      "model_module": "jupyter-js-widgets",
      "model_module_version": "~2.1.4",
      "model_name": "HTMLModel",
      "state": {
       "_model_module_version": "~2.1.4",
       "_view_module_version": "~2.1.4",
       "layout": "IPY_MODEL_3d52155c37b54e3bb332abf9ac2a5b00",
       "value": "\n        <svg id='XOR Network' xmlns='http://www.w3.org/2000/svg' width=\"350\" height=\"265\" image-rendering=\"pixelated\">\n    <defs>\n        <marker id=\"arrow\" markerWidth=\"10\" markerHeight=\"10\" refX=\"9\" refY=\"3\" orient=\"auto\" markerUnits=\"strokeWidth\">\n          <path d=\"M0,0 L0,6 L9,3 z\" fill=\"black\" />\n        </marker>\n    </defs>\n<text x=\"175.0\" y=\"12.5\" font-family=\"monospace\" font-size=\"15\" text-anchor=\"middle\" alignment-baseline=\"central\">XOR Network</text><rect x=\"149.0\" y=\"29\" width=\"52\" height=\"52\" style=\"fill:none;stroke:black;stroke-width:2\"/><image id=\"XOR Network_output_1\" class=\"XOR Network_output\" x=\"150.0\" y=\"30\" height=\"50\" width=\"50\" preserveAspectRatio=\"none\" href=\"data:image/gif;base64,R0lGODdhAQABAIcAAPvQuQAAAAAAAAAAAAAAAAAAAAAAAAAAAAAAAAAAAAAAAAAAAAAAAAAAAAAAAAAAAAAAAAAAAAAAAAAAAAAAAAAAAAAAAAAAAAAAAAAAAAAAAAAAAAAAAAAAAAAAAAAAAAAAAAAAAAAAAAAAAAAAAAAAAAAAAAAAAAAAAAAAAAAAAAAAAAAAAAAAAAAAAAAAAAAAAAAAAAAAAAAAAAAAAAAAAAAAAAAAAAAAAAAAAAAAAAAAAAAAAAAAAAAAAAAAAAAAAAAAAAAAAAAAAAAAAAAAAAAAAAAAAAAAAAAAAAAAAAAAAAAAAAAAAAAAAAAAAAAAAAAAAAAAAAAAAAAAAAAAAAAAAAAAAAAAAAAAAAAAAAAAAAAAAAAAAAAAAAAAAAAAAAAAAAAAAAAAAAAAAAAAAAAAAAAAAAAAAAAAAAAAAAAAAAAAAAAAAAAAAAAAAAAAAAAAAAAAAAAAAAAAAAAAAAAAAAAAAAAAAAAAAAAAAAAAAAAAAAAAAAAAAAAAAAAAAAAAAAAAAAAAAAAAAAAAAAAAAAAAAAAAAAAAAAAAAAAAAAAAAAAAAAAAAAAAAAAAAAAAAAAAAAAAAAAAAAAAAAAAAAAAAAAAAAAAAAAAAAAAAAAAAAAAAAAAAAAAAAAAAAAAAAAAAAAAAAAAAAAAAAAAAAAAAAAAAAAAAAAAAAAAAAAAAAAAAAAAAAAAAAAAAAAAAAAAAAAAAAAAAAAAAAAAAAAAAAAAAAAAAAAAAAAAAAAAAAAAAAAAAAAAAAAAAAAAAAAAAAAAAAAAAAAAAAAAAAAAAAAAAAAAAAAAAAAAAAAAAAAAAAAAAAAAAAAAAAAAAAAAAAAAAAAAAAAAAAAAAAAAAAAAAAAAAAAAAAAAAAAAAAAAAAAAAAAAAAAAAAAAAAAAAAAAAAAAAAAAAAAAAAAAAAAAAAAAAAAAAAAAAAAAAAAAAAAAAAAAAAAAAAAAAAAAAAAAAAAAAAAAAAAAAAAAAAAAAAAAAAAAAAAAAAAAAAAAAAAAAAAAACwAAAAAAQABAAAIBQABbAgIADs=\"><title>Layer: output (output)\n shape = (1,)\n Keras class = Dense\n activation = sigmoid</title></image><text x=\"205.0\" y=\"57.0\" font-family=\"monospace\" font-size=\"12\" text-anchor=\"start\" alignment-baseline=\"central\">output</text><line x1=\"175.0\" y1=\"109\" x2=\"175.0\" y2=\"82\" stroke=\"black\" stroke-width=\"2\" marker-end=\"url(#arrow)\"><title>Weights from hidden to output\n output/kernel has shape (4, 1)\n output/bias has shape (1,)</title></line><rect x=\"74.0\" y=\"109\" width=\"202\" height=\"52\" style=\"fill:none;stroke:black;stroke-width:2\"/><image id=\"XOR Network_hidden_2\" class=\"XOR Network_hidden\" x=\"75.0\" y=\"110\" height=\"50\" width=\"200\" preserveAspectRatio=\"none\" href=\"data:image/gif;base64,R0lGODdhBAABAIcAAP7+/QAAAAAAAAAAAAAAAAAAAAAAAAAAAAAAAAAAAAAAAAAAAAAAAAAAAAAAAAAAAAAAAAAAAAAAAAAAAAAAAAAAAAAAAAAAAAAAAAAAAAAAAAAAAAAAAAAAAAAAAAAAAAAAAAAAAAAAAAAAAAAAAAAAAAAAAAAAAAAAAAAAAAAAAAAAAAAAAAAAAAAAAAAAAAAAAAAAAAAAAAAAAAAAAAAAAAAAAAAAAAAAAAAAAAAAAAAAAAAAAAAAAAAAAAAAAAAAAAAAAAAAAAAAAAAAAAAAAAAAAAAAAAAAAAAAAAAAAAAAAAAAAAAAAAAAAAAAAAAAAAAAAAAAAAAAAAAAAAAAAAAAAAAAAAAAAAAAAAAAAAAAAAAAAAAAAAAAAAAAAAAAAAAAAAAAAAAAAAAAAAAAAAAAAAAAAAAAAAAAAAAAAAAAAAAAAAAAAAAAAAAAAAAAAAAAAAAAAAAAAAAAAAAAAAAAAAAAAAAAAAAAAAAAAAAAAAAAAAAAAAAAAAAAAAAAAAAAAAAAAAAAAAAAAAAAAAAAAAAAAAAAAAAAAAAAAAAAAAAAAAAAAAAAAAAAAAAAAAAAAAAAAAAAAAAAAAAAAAAAAAAAAAAAAAAAAAAAAAAAAAAAAAAAAAAAAAAAAAAAAAAAAAAAAAAAAAAAAAAAAAAAAAAAAAAAAAAAAAAAAAAAAAAAAAAAAAAAAAAAAAAAAAAAAAAAAAAAAAAAAAAAAAAAAAAAAAAAAAAAAAAAAAAAAAAAAAAAAAAAAAAAAAAAAAAAAAAAAAAAAAAAAAAAAAAAAAAAAAAAAAAAAAAAAAAAAAAAAAAAAAAAAAAAAAAAAAAAAAAAAAAAAAAAAAAAAAAAAAAAAAAAAAAAAAAAAAAAAAAAAAAAAAAAAAAAAAAAAAAAAAAAAAAAAAAAAAAAAAAAAAAAAAAAAAAAAAAAAAAAAAAAAAAAAAAAAAAAAAAAAAAAAAAAAAAAAAAAAAAAAAAAAAAAAAAAAAAAAAAAAAAAAAAAAAAAAAAAAAAAACwAAAAABAABAAAIBgABCAQQEAA7\"><title>Layer: hidden (hidden)\n shape = (4,)\n Keras class = Dense\n activation = sigmoid</title></image><text x=\"280.0\" y=\"137.0\" font-family=\"monospace\" font-size=\"12\" text-anchor=\"start\" alignment-baseline=\"central\">hidden</text><line x1=\"175.0\" y1=\"189\" x2=\"175.0\" y2=\"162\" stroke=\"black\" stroke-width=\"2\" marker-end=\"url(#arrow)\"><title>Weights from input to hidden\n hidden/kernel has shape (2, 4)\n hidden/bias has shape (4,)</title></line><rect x=\"124.0\" y=\"189\" width=\"102\" height=\"52\" style=\"fill:none;stroke:black;stroke-width:2\"/><image id=\"XOR Network_input_3\" class=\"XOR Network_input\" x=\"125.0\" y=\"190\" height=\"50\" width=\"100\" preserveAspectRatio=\"none\" href=\"data:image/gif;base64,R0lGODdhAgABAIcAAP7+/QAAAAAAAAAAAAAAAAAAAAAAAAAAAAAAAAAAAAAAAAAAAAAAAAAAAAAAAAAAAAAAAAAAAAAAAAAAAAAAAAAAAAAAAAAAAAAAAAAAAAAAAAAAAAAAAAAAAAAAAAAAAAAAAAAAAAAAAAAAAAAAAAAAAAAAAAAAAAAAAAAAAAAAAAAAAAAAAAAAAAAAAAAAAAAAAAAAAAAAAAAAAAAAAAAAAAAAAAAAAAAAAAAAAAAAAAAAAAAAAAAAAAAAAAAAAAAAAAAAAAAAAAAAAAAAAAAAAAAAAAAAAAAAAAAAAAAAAAAAAAAAAAAAAAAAAAAAAAAAAAAAAAAAAAAAAAAAAAAAAAAAAAAAAAAAAAAAAAAAAAAAAAAAAAAAAAAAAAAAAAAAAAAAAAAAAAAAAAAAAAAAAAAAAAAAAAAAAAAAAAAAAAAAAAAAAAAAAAAAAAAAAAAAAAAAAAAAAAAAAAAAAAAAAAAAAAAAAAAAAAAAAAAAAAAAAAAAAAAAAAAAAAAAAAAAAAAAAAAAAAAAAAAAAAAAAAAAAAAAAAAAAAAAAAAAAAAAAAAAAAAAAAAAAAAAAAAAAAAAAAAAAAAAAAAAAAAAAAAAAAAAAAAAAAAAAAAAAAAAAAAAAAAAAAAAAAAAAAAAAAAAAAAAAAAAAAAAAAAAAAAAAAAAAAAAAAAAAAAAAAAAAAAAAAAAAAAAAAAAAAAAAAAAAAAAAAAAAAAAAAAAAAAAAAAAAAAAAAAAAAAAAAAAAAAAAAAAAAAAAAAAAAAAAAAAAAAAAAAAAAAAAAAAAAAAAAAAAAAAAAAAAAAAAAAAAAAAAAAAAAAAAAAAAAAAAAAAAAAAAAAAAAAAAAAAAAAAAAAAAAAAAAAAAAAAAAAAAAAAAAAAAAAAAAAAAAAAAAAAAAAAAAAAAAAAAAAAAAAAAAAAAAAAAAAAAAAAAAAAAAAAAAAAAAAAAAAAAAAAAAAAAAAAAAAAAAAAAAAAAAAAAAAAAAAAAAAAAAAAAAAAAAAAAAAAAAAAAAAAACwAAAAAAgABAAAIBQABAAgIADs=\"><title>Layer: input (input)\n shape = (2,)\n Keras class = Input</title></image><text x=\"230.0\" y=\"217.0\" font-family=\"monospace\" font-size=\"12\" text-anchor=\"start\" alignment-baseline=\"central\">input</text></svg>"
      }
     },
     "d32f7da722c3461d893702c2c85a2c30": {
      "model_module": "jupyter-js-widgets",
      "model_module_version": "~2.1.4",
      "model_name": "LayoutModel",
      "state": {
       "_model_module_version": "~2.1.4",
       "_view_module_version": "~2.1.4",
       "height": "550px",
       "width": "100%"
      }
     },
     "d35e7111120a46d380558d60c206c48f": {
      "model_module": "jupyter-js-widgets",
      "model_module_version": "~2.1.4",
      "model_name": "ButtonModel",
      "state": {
       "_model_module_version": "~2.1.4",
       "_view_module_version": "~2.1.4",
       "icon": "backward",
       "layout": "IPY_MODEL_21d15ee148db4c0d90b0b2fc710137fa",
       "style": "IPY_MODEL_2e8a10d4ae2149a29d906127196d2e59"
      }
     },
     "d4dce97eb9c043ea95c791b98898d579": {
      "model_module": "jupyter-js-widgets",
      "model_module_version": "~2.1.4",
      "model_name": "TabModel",
      "state": {
       "_model_module_version": "~2.1.4",
       "_titles": {
        "0": "Network",
        "1": "Graphs",
        "2": "Analysis",
        "3": "Camera",
        "4": "Help"
       },
       "_view_module_version": "~2.1.4",
       "children": [
        "IPY_MODEL_47ae47511a0f46b481f64a15a28b07f8",
        "IPY_MODEL_dd50ddabd15248508b83451ea4e490fd",
        "IPY_MODEL_f8c82b4b1c2e4c64a5fa9f2b072e9086",
        "IPY_MODEL_efd90ef5ff674786bae54624ebfbdb14",
        "IPY_MODEL_77dd09048e474e8e921aa63b949ec3ad"
       ],
       "layout": "IPY_MODEL_64c574d2cfff4b1bba64f8f042c15fa2"
      }
     },
     "d7424d5a80b342f097b80708233b51dd": {
      "model_module": "jupyter-js-widgets",
      "model_module_version": "~2.1.4",
      "model_name": "ButtonModel",
      "state": {
       "_model_module_version": "~2.1.4",
       "_view_module_version": "~2.1.4",
       "icon": "forward",
       "layout": "IPY_MODEL_80acd2cf30314f5cba3afb0e614e1efc",
       "style": "IPY_MODEL_87d2645a500d4c65900afb70f8dc2fd3"
      }
     },
     "d940ba84882a4c84994a2b11cbbba577": {
      "model_module": "jupyter-js-widgets",
      "model_module_version": "~2.1.4",
      "model_name": "LayoutModel",
      "state": {
       "_model_module_version": "~2.1.4",
       "_view_module_version": "~2.1.4",
       "height": "550px",
       "width": "100%"
      }
     },
     "da0e1de088dc42cabe649e71368eab60": {
      "model_module": "jupyter-js-widgets",
      "model_module_version": "~2.1.4",
      "model_name": "SelectModel",
      "state": {
       "_model_module_version": "~2.1.4",
       "_options_labels": [
        "Test",
        "Train"
       ],
       "_view_module_version": "~2.1.4",
       "description": "Dataset:",
       "layout": "IPY_MODEL_70da48a1a4a148bc80d4157dddfc91d1",
       "value": "Train"
      }
     },
     "dae7d47d88724116bbb17c2682a9fd3b": {
      "model_module": "jupyter-js-widgets",
      "model_module_version": "~2.1.4",
      "model_name": "ButtonModel",
      "state": {
       "_model_module_version": "~2.1.4",
       "_view_module_version": "~2.1.4",
       "description": "Turn on webcamera",
       "layout": "IPY_MODEL_118f03312cc646a4ae947ae3e48ddac9",
       "style": "IPY_MODEL_cd17e84be26c4ceebb711b3c93b652cb"
      }
     },
     "db6abc6723884756a24d083e0ff11b19": {
      "model_module": "jupyter-js-widgets",
      "model_module_version": "~2.1.4",
      "model_name": "LayoutModel",
      "state": {
       "_model_module_version": "~2.1.4",
       "_view_module_version": "~2.1.4"
      }
     },
     "dbd68dcb5ce64e18b577cc97969c4341": {
      "model_module": "jupyter-js-widgets",
      "model_module_version": "~2.1.4",
      "model_name": "LayoutModel",
      "state": {
       "_model_module_version": "~2.1.4",
       "_view_module_version": "~2.1.4",
       "width": "100%"
      }
     },
     "dd50ddabd15248508b83451ea4e490fd": {
      "model_module": "jupyter-js-widgets",
      "model_module_version": "~2.1.4",
      "model_name": "VBoxModel",
      "state": {
       "_model_module_version": "~2.1.4",
       "_view_module_version": "~2.1.4",
       "layout": "IPY_MODEL_303663799f0e4c6e88e2b17f695f2428"
      }
     },
     "ddabc779eaa34e13a95a6dc3d21dad79": {
      "model_module": "jupyter-js-widgets",
      "model_module_version": "~2.1.4",
      "model_name": "LayoutModel",
      "state": {
       "_model_module_version": "~2.1.4",
       "_view_module_version": "~2.1.4",
       "width": "100%"
      }
     },
     "df764618defc42b48a780a637bd4d3ee": {
      "model_module": "jupyter-js-widgets",
      "model_module_version": "~2.1.4",
      "model_name": "LayoutModel",
      "state": {
       "_model_module_version": "~2.1.4",
       "_view_module_version": "~2.1.4"
      }
     },
     "e16f5bf0a4d049cba9d1756193882217": {
      "model_module": "jupyter-js-widgets",
      "model_module_version": "~2.1.4",
      "model_name": "ButtonModel",
      "state": {
       "_model_module_version": "~2.1.4",
       "_view_module_version": "~2.1.4",
       "description": "Turn on webcamera",
       "layout": "IPY_MODEL_f6669a339987473d9b3a655f4693e666",
       "style": "IPY_MODEL_2e629274019647b6bc0dfb3e4205bebe"
      }
     },
     "e1f5bf6751ca42d8bfa39d733983ce51": {
      "model_module": "jupyter-js-widgets",
      "model_module_version": "~2.1.4",
      "model_name": "ButtonModel",
      "state": {
       "_model_module_version": "~2.1.4",
       "_view_module_version": "~2.1.4",
       "description": "Train",
       "layout": "IPY_MODEL_36ef00ffc6c24cb7861da445e12968e3",
       "style": "IPY_MODEL_f5511cc25e9246b58d36b9d54afd2be7"
      }
     },
     "e259ae339b5547a28a49724a31ebecfd": {
      "model_module": "jupyter-js-widgets",
      "model_module_version": "~2.1.4",
      "model_name": "LayoutModel",
      "state": {
       "_model_module_version": "~2.1.4",
       "_view_module_version": "~2.1.4",
       "width": "100%"
      }
     },
     "e5d54467586f44cfaee432245955fdeb": {
      "model_module": "jupyter-js-widgets",
      "model_module_version": "~2.1.4",
      "model_name": "IntSliderModel",
      "state": {
       "_model_module_version": "~2.1.4",
       "_view_module_version": "~2.1.4",
       "continuous_update": false,
       "description": "Dataset index",
       "layout": "IPY_MODEL_c2aa117dc0cb4af793bf3516731c5896",
       "max": 0,
       "style": "IPY_MODEL_b4218bc026d54082ad2756abaa541372"
      }
     },
     "e6936587e50c4724b41fcd9afdd51a36": {
      "model_module": "jupyter-js-widgets",
      "model_module_version": "~2.1.4",
      "model_name": "ButtonStyleModel",
      "state": {
       "_model_module_version": "~2.1.4",
       "_view_module_version": "~2.1.4"
      }
     },
     "e7a2face8ab9404289096b8dcfb60e6e": {
      "model_module": "jupyter-js-widgets",
      "model_module_version": "~2.1.4",
      "model_name": "LayoutModel",
      "state": {
       "_model_module_version": "~2.1.4",
       "_view_module_version": "~2.1.4",
       "width": "100%"
      }
     },
     "e8dce462f01042df82c9c36de6ead4e1": {
      "model_module": "jupyter-js-widgets",
      "model_module_version": "~2.1.4",
      "model_name": "ButtonModel",
      "state": {
       "_model_module_version": "~2.1.4",
       "_view_module_version": "~2.1.4",
       "icon": "fast-forward",
       "layout": "IPY_MODEL_b3d852ecaf9d4652b4986788622ff0ec",
       "style": "IPY_MODEL_380f0c4cb2d047919c2d79292485e097"
      }
     },
     "ee2c4d7344e64ec3ad08d9bfb1fb8e30": {
      "model_module": "jupyter-js-widgets",
      "model_module_version": "~2.1.4",
      "model_name": "LayoutModel",
      "state": {
       "_model_module_version": "~2.1.4",
       "_view_module_version": "~2.1.4"
      }
     },
     "ee53dd0b3a9c44c0a3dee7cca82b9116": {
      "model_module": "jupyter-js-widgets",
      "model_module_version": "~2.1.4",
      "model_name": "ButtonModel",
      "state": {
       "_model_module_version": "~2.1.4",
       "_view_module_version": "~2.1.4",
       "description": "Train",
       "layout": "IPY_MODEL_4abc35ec88ac435b88b227641e13a152",
       "style": "IPY_MODEL_82b137b16a79429bb05d230515f1b042"
      }
     },
     "ee7fd4ed056047638d2f2c881d269831": {
      "model_module": "jupyter-js-widgets",
      "model_module_version": "~2.1.4",
      "model_name": "LayoutModel",
      "state": {
       "_model_module_version": "~2.1.4",
       "_view_module_version": "~2.1.4"
      }
     },
     "ef9ccbce18484c2f80705c05cdee907b": {
      "model_module": "jupyter-js-widgets",
      "model_module_version": "~2.1.4",
      "model_name": "VBoxModel",
      "state": {
       "_model_module_version": "~2.1.4",
       "_view_module_version": "~2.1.4",
       "children": [
        "IPY_MODEL_4a79ebd70bf247d79b097b7850c1ae61",
        "IPY_MODEL_f419bdb965c4464fb7846026d97864cd"
       ],
       "layout": "IPY_MODEL_3492663131a1473fb5ef52af29d77e50"
      }
     },
     "efd90ef5ff674786bae54624ebfbdb14": {
      "model_module": "jupyter-js-widgets",
      "model_module_version": "~2.1.4",
      "model_name": "VBoxModel",
      "state": {
       "_model_module_version": "~2.1.4",
       "_view_module_version": "~2.1.4",
       "children": [
        "IPY_MODEL_e16f5bf0a4d049cba9d1756193882217"
       ],
       "layout": "IPY_MODEL_3a7e041806cf44eaae33f1700243e19b"
      }
     },
     "effeb696948648ed986021154b51acca": {
      "model_module": "jupyter-js-widgets",
      "model_module_version": "~2.1.4",
      "model_name": "LayoutModel",
      "state": {
       "_model_module_version": "~2.1.4",
       "_view_module_version": "~2.1.4",
       "height": "550px",
       "width": "100%"
      }
     },
     "f419bdb965c4464fb7846026d97864cd": {
      "model_module": "jupyter-js-widgets",
      "model_module_version": "~2.1.4",
      "model_name": "VBoxModel",
      "state": {
       "_model_module_version": "~2.1.4",
       "_view_module_version": "~2.1.4",
       "children": [
        "IPY_MODEL_da0e1de088dc42cabe649e71368eab60",
        "IPY_MODEL_22b5bc692c0547829f492e0fd3e87582",
        "IPY_MODEL_9a5108efaa554e89918b0eccfc800ac3"
       ],
       "layout": "IPY_MODEL_8fbf0df4681b44e38f1aa75a3078b243"
      }
     },
     "f463af5d4885435b9673b6c335b1cf2c": {
      "model_module": "jupyter-js-widgets",
      "model_module_version": "~2.1.4",
      "model_name": "ButtonStyleModel",
      "state": {
       "_model_module_version": "~2.1.4",
       "_view_module_version": "~2.1.4"
      }
     },
     "f5511cc25e9246b58d36b9d54afd2be7": {
      "model_module": "jupyter-js-widgets",
      "model_module_version": "~2.1.4",
      "model_name": "ButtonStyleModel",
      "state": {
       "_model_module_version": "~2.1.4",
       "_view_module_version": "~2.1.4"
      }
     },
     "f637f259c3f54ee98b4ae98e066dcc85": {
      "model_module": "jupyter-js-widgets",
      "model_module_version": "~2.1.4",
      "model_name": "ButtonStyleModel",
      "state": {
       "_model_module_version": "~2.1.4",
       "_view_module_version": "~2.1.4"
      }
     },
     "f6669a339987473d9b3a655f4693e666": {
      "model_module": "jupyter-js-widgets",
      "model_module_version": "~2.1.4",
      "model_name": "LayoutModel",
      "state": {
       "_model_module_version": "~2.1.4",
       "_view_module_version": "~2.1.4"
      }
     },
     "f8c82b4b1c2e4c64a5fa9f2b072e9086": {
      "model_module": "jupyter-js-widgets",
      "model_module_version": "~2.1.4",
      "model_name": "VBoxModel",
      "state": {
       "_model_module_version": "~2.1.4",
       "_view_module_version": "~2.1.4",
       "layout": "IPY_MODEL_8bf93d682b9841b3bbdc4fe1e75534bb"
      }
     },
     "f9941576a17b460b92cb2a27caf14d3b": {
      "model_module": "jupyter-js-widgets",
      "model_module_version": "~2.1.4",
      "model_name": "HBoxModel",
      "state": {
       "_model_module_version": "~2.1.4",
       "_view_module_version": "~2.1.4",
       "children": [
        "IPY_MODEL_5f02d48460f04d6fafe41c999239deeb",
        "IPY_MODEL_7bbb3831955045a3b84e39a34cdc28a5",
        "IPY_MODEL_4e9605bad4dc478fb2c6445aa8f5c78d",
        "IPY_MODEL_8c2c5ce2a8be4141aced3cd4dbf169e2",
        "IPY_MODEL_b71aab98a91c4b33a0ef75aee99ffc1f"
       ],
       "layout": "IPY_MODEL_508e7451c04b41db973c36ed9a154a08"
      }
     },
     "fa3f08f951ab448dba4d9c9d8fc370ba": {
      "model_module": "jupyter-js-widgets",
      "model_module_version": "~2.1.4",
      "model_name": "LayoutModel",
      "state": {
       "_model_module_version": "~2.1.4",
       "_view_module_version": "~2.1.4",
       "height": "550px",
       "width": "100%"
      }
     },
     "fa9d10e8d84e4d3886a387f83f20abcb": {
      "model_module": "jupyter-js-widgets",
      "model_module_version": "~2.1.4",
      "model_name": "ButtonModel",
      "state": {
       "_model_module_version": "~2.1.4",
       "_view_module_version": "~2.1.4",
       "icon": "fast-forward",
       "layout": "IPY_MODEL_332abdce63d74697a58def27b59b7494",
       "style": "IPY_MODEL_2962416218ae4c05a09ce3d677ad4ec9"
      }
     }
    },
    "version_major": 1,
    "version_minor": 0
   }
  }
 },
 "nbformat": 4,
 "nbformat_minor": 2
}
