{
 "cells": [
  {
   "cell_type": "markdown",
   "metadata": {},
   "source": [
    "# XOR Multiple Inputs/Targets\n",
    "\n",
    "Testing..."
   ]
  },
  {
   "cell_type": "code",
   "execution_count": 1,
   "metadata": {},
   "outputs": [
    {
     "name": "stderr",
     "output_type": "stream",
     "text": [
      "Using Theano backend.\n"
     ]
    }
   ],
   "source": [
    "from conx import Network, Layer, SGD"
   ]
  },
  {
   "cell_type": "code",
   "execution_count": 2,
   "metadata": {
    "collapsed": true
   },
   "outputs": [],
   "source": [
    "net = Network(\"XOR\", 2, 2, 1, activation=\"sigmoid\")\n",
    "net.connect()\n",
    "dataset = [\n",
    "    ([0, 0], [0]),\n",
    "    ([0, 1], [1]),\n",
    "    ([1, 0], [1]),\n",
    "    ([1, 1], [0])\n",
    "]"
   ]
  },
  {
   "cell_type": "code",
   "execution_count": 3,
   "metadata": {},
   "outputs": [
    {
     "name": "stdout",
     "output_type": "stream",
     "text": [
      "Split dataset into:\n",
      "   4 train inputs\n",
      "   0 test inputs\n",
      "Input Summary:\n",
      "   length  : 4\n",
      "   training: 4\n",
      "   testing : 0\n",
      "   shape  : (2,)\n",
      "   range  : (0.0, 1.0)\n",
      "Target Summary:\n",
      "   length  : 4\n",
      "   training: 4\n",
      "   testing : 0\n",
      "   shape  : (1,)\n",
      "   range  : (0.0, 1.0)\n"
     ]
    }
   ],
   "source": [
    "net.set_dataset(dataset)"
   ]
  },
  {
   "cell_type": "code",
   "execution_count": 4,
   "metadata": {},
   "outputs": [
    {
     "data": {
      "text/plain": [
       "[0.0]"
      ]
     },
     "execution_count": 4,
     "metadata": {},
     "output_type": "execute_result"
    }
   ],
   "source": [
    "net.get_target(0)"
   ]
  },
  {
   "cell_type": "code",
   "execution_count": 5,
   "metadata": {
    "collapsed": true
   },
   "outputs": [],
   "source": [
    "net.compile(loss='mean_squared_error',\n",
    "            optimizer=SGD(lr=0.3, momentum=0.9))"
   ]
  },
  {
   "cell_type": "code",
   "execution_count": 6,
   "metadata": {
    "collapsed": true
   },
   "outputs": [],
   "source": [
    "net.config[\"image_maxdim\"] = 50"
   ]
  },
  {
   "cell_type": "code",
   "execution_count": 7,
   "metadata": {},
   "outputs": [
    {
     "data": {
      "application/javascript": [
       "\n",
       "require(['base/js/namespace'], function(Jupyter) {\n",
       "    Jupyter.notebook.kernel.comm_manager.register_target('conx_svg_control', function(comm, msg) {\n",
       "        comm.on_msg(function(msg) {\n",
       "            var data = msg[\"content\"][\"data\"];\n",
       "            var images = document.getElementsByClassName(data[\"class\"]);\n",
       "            for (var i = 0; i < images.length; i++) {\n",
       "                images[i].setAttributeNS(null, \"href\", data[\"href\"]);\n",
       "            }\n",
       "        });\n",
       "    });\n",
       "});\n"
      ],
      "text/plain": [
       "<IPython.core.display.Javascript object>"
      ]
     },
     "metadata": {},
     "output_type": "display_data"
    },
    {
     "data": {
      "application/vnd.jupyter.widget-view+json": {
       "model_id": "5761b366df7e479884a8ff2b51933fde"
      }
     },
     "metadata": {},
     "output_type": "display_data"
    }
   ],
   "source": [
    "net.build_widget()"
   ]
  },
  {
   "cell_type": "code",
   "execution_count": 8,
   "metadata": {},
   "outputs": [
    {
     "name": "stdout",
     "output_type": "stream",
     "text": [
      "Training...\n",
      "Epoch #   25 | train error 0.25055 | train accuracy 0.75000 | validate% 0.00000\n",
      "Epoch #   50 | train error 0.25003 | train accuracy 0.50000 | validate% 0.00000\n",
      "Epoch #   75 | train error 0.24997 | train accuracy 0.50000 | validate% 0.00000\n",
      "Epoch #  100 | train error 0.24990 | train accuracy 0.50000 | validate% 0.00000\n",
      "Epoch #  125 | train error 0.24969 | train accuracy 0.50000 | validate% 0.00000\n",
      "Epoch #  150 | train error 0.24897 | train accuracy 0.50000 | validate% 0.00000\n",
      "Epoch #  175 | train error 0.24616 | train accuracy 0.75000 | validate% 0.00000\n",
      "Epoch #  200 | train error 0.23655 | train accuracy 0.75000 | validate% 0.00000\n",
      "Epoch #  225 | train error 0.21620 | train accuracy 0.75000 | validate% 0.00000\n",
      "Epoch #  250 | train error 0.19129 | train accuracy 0.75000 | validate% 0.00000\n",
      "Epoch #  275 | train error 0.16766 | train accuracy 0.75000 | validate% 0.00000\n",
      "Epoch #  300 | train error 0.13798 | train accuracy 0.75000 | validate% 0.00000\n",
      "Epoch #  325 | train error 0.07934 | train accuracy 1.00000 | validate% 0.00000\n",
      "Epoch #  350 | train error 0.03000 | train accuracy 1.00000 | validate% 0.00000\n",
      "Epoch #  375 | train error 0.01397 | train accuracy 1.00000 | validate% 0.00000\n",
      "Epoch #  400 | train error 0.00872 | train accuracy 1.00000 | validate% 0.75000\n",
      "========================================================================\n",
      "Epoch #  401 | train error 0.00858 | train accuracy 1.00000 | validate% 1.00000\n"
     ]
    }
   ],
   "source": [
    "net.train(epochs=2000, accuracy=1.0, report_rate=25)"
   ]
  },
  {
   "cell_type": "code",
   "execution_count": 9,
   "metadata": {},
   "outputs": [
    {
     "name": "stdout",
     "output_type": "stream",
     "text": [
      "Testing on training dataset...\n",
      "# | inputs | targets | outputs | result\n",
      "---------------------------------------\n",
      "0 | [0.0, 0.0] | [0.0] | [0.1] | correct\n",
      "1 | [0.0, 1.0] | [1.0] | [0.9] | correct\n",
      "2 | [1.0, 0.0] | [1.0] | [0.9] | correct\n",
      "3 | [1.0, 1.0] | [0.0] | [0.1] | correct\n",
      "Total count: 4\n",
      "Total percentage correct: 1.0\n"
     ]
    }
   ],
   "source": [
    "net.test()"
   ]
  },
  {
   "cell_type": "code",
   "execution_count": 10,
   "metadata": {},
   "outputs": [
    {
     "data": {
      "text/plain": [
       "[0.0, 1.0]"
      ]
     },
     "execution_count": 10,
     "metadata": {},
     "output_type": "execute_result"
    }
   ],
   "source": [
    "net.propagate_to(\"input\", [0, 1])"
   ]
  },
  {
   "cell_type": "code",
   "execution_count": 11,
   "metadata": {},
   "outputs": [
    {
     "data": {
      "text/plain": [
       "[0.91353536]"
      ]
     },
     "execution_count": 11,
     "metadata": {},
     "output_type": "execute_result"
    }
   ],
   "source": [
    "net.propagate([0.5, 0.5])"
   ]
  },
  {
   "cell_type": "code",
   "execution_count": 12,
   "metadata": {},
   "outputs": [
    {
     "data": {
      "text/plain": [
       "[0.9763752222061157, 0.2100960612297058]"
      ]
     },
     "execution_count": 12,
     "metadata": {},
     "output_type": "execute_result"
    }
   ],
   "source": [
    "net.propagate_to(\"hidden\", [1, 0])"
   ]
  },
  {
   "cell_type": "code",
   "execution_count": 13,
   "metadata": {},
   "outputs": [
    {
     "data": {
      "text/plain": [
       "[0.9135355949401855]"
      ]
     },
     "execution_count": 13,
     "metadata": {},
     "output_type": "execute_result"
    }
   ],
   "source": [
    "net.propagate_to(\"output\", [0.25, 0.75])"
   ]
  },
  {
   "cell_type": "code",
   "execution_count": 14,
   "metadata": {},
   "outputs": [
    {
     "data": {
      "text/plain": [
       "[0.25, 0.25]"
      ]
     },
     "execution_count": 14,
     "metadata": {},
     "output_type": "execute_result"
    }
   ],
   "source": [
    "net.propagate_to(\"input\", [0.25, 0.25])"
   ]
  },
  {
   "cell_type": "code",
   "execution_count": 15,
   "metadata": {},
   "outputs": [
    {
     "data": {
      "text/plain": [
       "[0.8251949]"
      ]
     },
     "execution_count": 15,
     "metadata": {},
     "output_type": "execute_result"
    }
   ],
   "source": [
    "net.propagate_from(\"input\", [1.0, 1.0])"
   ]
  },
  {
   "cell_type": "code",
   "execution_count": 16,
   "metadata": {},
   "outputs": [
    {
     "data": {
      "text/plain": [
       "[0.57424253]"
      ]
     },
     "execution_count": 16,
     "metadata": {},
     "output_type": "execute_result"
    }
   ],
   "source": [
    "net.propagate_from(\"hidden\", [1.0, 0.0])"
   ]
  },
  {
   "cell_type": "code",
   "execution_count": 17,
   "metadata": {},
   "outputs": [
    {
     "name": "stdout",
     "output_type": "stream",
     "text": [
      "Testing on training dataset...\n",
      "# | inputs | targets | outputs | result\n",
      "---------------------------------------\n",
      "0 | [0.0, 0.0] | [0.0] | [0.1] | correct\n",
      "1 | [0.0, 1.0] | [1.0] | [0.9] | correct\n",
      "2 | [1.0, 0.0] | [1.0] | [0.9] | correct\n",
      "3 | [1.0, 1.0] | [0.0] | [0.1] | correct\n",
      "Total count: 4\n",
      "Total percentage correct: 1.0\n"
     ]
    }
   ],
   "source": [
    "net.test()"
   ]
  },
  {
   "cell_type": "code",
   "execution_count": 18,
   "metadata": {
    "collapsed": true
   },
   "outputs": [],
   "source": [
    "from conx import Network, Layer, SGD"
   ]
  },
  {
   "cell_type": "code",
   "execution_count": 19,
   "metadata": {
    "collapsed": true
   },
   "outputs": [],
   "source": [
    "net = Network(\"XOR2\")\n",
    "net.add(Layer(\"input1\", shape=1))\n",
    "net.add(Layer(\"input2\", shape=1))\n",
    "net.add(Layer(\"hidden1\", shape=10, activation=\"sigmoid\"))\n",
    "net.add(Layer(\"hidden2\", shape=10, activation=\"sigmoid\"))\n",
    "net.add(Layer(\"shared-hidden\", shape=5, activation=\"sigmoid\"))\n",
    "net.add(Layer(\"output1\", shape=1, activation=\"sigmoid\"))\n",
    "net.add(Layer(\"output2\", shape=1, activation=\"sigmoid\"))"
   ]
  },
  {
   "cell_type": "code",
   "execution_count": 20,
   "metadata": {},
   "outputs": [
    {
     "data": {
      "text/plain": [
       "<Network name='XOR2'>"
      ]
     },
     "execution_count": 20,
     "metadata": {},
     "output_type": "execute_result"
    }
   ],
   "source": [
    "net"
   ]
  },
  {
   "cell_type": "code",
   "execution_count": 21,
   "metadata": {
    "collapsed": true
   },
   "outputs": [],
   "source": [
    "net.connect(\"input1\", \"hidden1\")\n",
    "net.connect(\"input2\", \"hidden2\")\n",
    "net.connect(\"hidden1\", \"shared-hidden\")\n",
    "net.connect(\"hidden2\", \"shared-hidden\")\n",
    "net.connect(\"shared-hidden\", \"output1\")\n",
    "net.connect(\"shared-hidden\", \"output2\")"
   ]
  },
  {
   "cell_type": "code",
   "execution_count": 22,
   "metadata": {
    "collapsed": true
   },
   "outputs": [],
   "source": [
    "net.set_input_layer_order(\"input1\", \"input2\")\n",
    "net.set_output_layer_order(\"output1\", \"output2\")"
   ]
  },
  {
   "cell_type": "code",
   "execution_count": 23,
   "metadata": {
    "collapsed": true
   },
   "outputs": [],
   "source": [
    "net.compile(loss='mean_squared_error',\n",
    "            optimizer=SGD(lr=0.3, momentum=0.9))"
   ]
  },
  {
   "cell_type": "code",
   "execution_count": 24,
   "metadata": {},
   "outputs": [
    {
     "data": {
      "application/javascript": [
       "\n",
       "require(['base/js/namespace'], function(Jupyter) {\n",
       "    Jupyter.notebook.kernel.comm_manager.register_target('conx_svg_control', function(comm, msg) {\n",
       "        comm.on_msg(function(msg) {\n",
       "            var data = msg[\"content\"][\"data\"];\n",
       "            var images = document.getElementsByClassName(data[\"class\"]);\n",
       "            for (var i = 0; i < images.length; i++) {\n",
       "                images[i].setAttributeNS(null, \"href\", data[\"href\"]);\n",
       "            }\n",
       "        });\n",
       "    });\n",
       "});\n"
      ],
      "text/plain": [
       "<IPython.core.display.Javascript object>"
      ]
     },
     "metadata": {},
     "output_type": "display_data"
    },
    {
     "data": {
      "application/vnd.jupyter.widget-view+json": {
       "model_id": "2b5beb70bbb548e1a47bbf9b6ca72a6d"
      }
     },
     "metadata": {},
     "output_type": "display_data"
    }
   ],
   "source": [
    "net.config[\"image_maxdim\"] = 50\n",
    "net.build_widget()"
   ]
  },
  {
   "cell_type": "code",
   "execution_count": 25,
   "metadata": {
    "collapsed": true
   },
   "outputs": [],
   "source": [
    "dataset = [\n",
    "    ([[0],[0]], [[0],[0]]),\n",
    "    ([[0],[1]], [[1],[1]]),\n",
    "    ([[1],[0]], [[1],[1]]),\n",
    "    ([[1],[1]], [[0],[0]])\n",
    "]"
   ]
  },
  {
   "cell_type": "code",
   "execution_count": 26,
   "metadata": {},
   "outputs": [
    {
     "name": "stdout",
     "output_type": "stream",
     "text": [
      "Split dataset into:\n",
      "   4 train inputs\n",
      "   0 test inputs\n",
      "Input Summary:\n",
      "   length  : 4\n",
      "   training: 4\n",
      "   testing : 0\n",
      "   shape  : [(1,), (1,)]\n",
      "   range  : (0.0, 1.0)\n",
      "Target Summary:\n",
      "   length  : 4\n",
      "   training: 4\n",
      "   testing : 0\n",
      "   shape  : [(1,), (1,)]\n",
      "   range  : (0.0, 1.0)\n"
     ]
    }
   ],
   "source": [
    "net.set_dataset(dataset)"
   ]
  },
  {
   "cell_type": "code",
   "execution_count": 27,
   "metadata": {
    "collapsed": true
   },
   "outputs": [],
   "source": [
    "net.config[\"image_maxdim\"] = 50"
   ]
  },
  {
   "cell_type": "code",
   "execution_count": 28,
   "metadata": {},
   "outputs": [
    {
     "data": {
      "application/javascript": [
       "\n",
       "require(['base/js/namespace'], function(Jupyter) {\n",
       "    Jupyter.notebook.kernel.comm_manager.register_target('conx_svg_control', function(comm, msg) {\n",
       "        comm.on_msg(function(msg) {\n",
       "            var data = msg[\"content\"][\"data\"];\n",
       "            var images = document.getElementsByClassName(data[\"class\"]);\n",
       "            for (var i = 0; i < images.length; i++) {\n",
       "                images[i].setAttributeNS(null, \"href\", data[\"href\"]);\n",
       "            }\n",
       "        });\n",
       "    });\n",
       "});\n"
      ],
      "text/plain": [
       "<IPython.core.display.Javascript object>"
      ]
     },
     "metadata": {},
     "output_type": "display_data"
    },
    {
     "data": {
      "application/vnd.jupyter.widget-view+json": {
       "model_id": "f16de6cde1554f7fa06bbb6c37a775ff"
      }
     },
     "metadata": {},
     "output_type": "display_data"
    }
   ],
   "source": [
    "net.build_widget()"
   ]
  },
  {
   "cell_type": "code",
   "execution_count": 29,
   "metadata": {},
   "outputs": [
    {
     "data": {
      "text/plain": [
       "[[0.66602576], [0.24885106]]"
      ]
     },
     "execution_count": 29,
     "metadata": {},
     "output_type": "execute_result"
    }
   ],
   "source": [
    "net[\"shared-hidden\"].colormap = \"spring\"\n",
    "net.propagate_from(\"hidden1\", [0.0, 1.0] * 5)"
   ]
  },
  {
   "cell_type": "code",
   "execution_count": 30,
   "metadata": {},
   "outputs": [
    {
     "data": {
      "text/plain": [
       "[0.60935777, 0.2678293, 0.52663553, 0.71213073, 0.64354503]"
      ]
     },
     "execution_count": 30,
     "metadata": {},
     "output_type": "execute_result"
    }
   ],
   "source": [
    "net[\"shared-hidden\"].colormap = \"hot\"\n",
    "net.propagate_from(\"hidden1\", [1.0, 1.0] * 5, [\"shared-hidden\"])"
   ]
  },
  {
   "cell_type": "code",
   "execution_count": 31,
   "metadata": {},
   "outputs": [
    {
     "data": {
      "text/plain": [
       "[0.49915647506713867]"
      ]
     },
     "execution_count": 31,
     "metadata": {},
     "output_type": "execute_result"
    }
   ],
   "source": [
    "net.propagate_to(\"output1\", [[1], [0]])"
   ]
  },
  {
   "cell_type": "code",
   "execution_count": 32,
   "metadata": {
    "collapsed": true
   },
   "outputs": [],
   "source": [
    "for i in range(20):\n",
    "    (epoch_count, loss, acc, val_acc) = net.train(epochs=100, verbose=0)\n",
    "    for index in range(4):\n",
    "        net.propagate(dataset[index][0])"
   ]
  },
  {
   "cell_type": "code",
   "execution_count": 33,
   "metadata": {},
   "outputs": [
    {
     "name": "stdout",
     "output_type": "stream",
     "text": [
      "Training...\n",
      "========================================================================\n",
      "Epoch # 2001 | train error 0.00068 | train accuracy 2.00000 | validate% 1.00000\n"
     ]
    }
   ],
   "source": [
    "net.train(epochs=2000, accuracy=1.0, report_rate=25)"
   ]
  },
  {
   "cell_type": "code",
   "execution_count": 34,
   "metadata": {},
   "outputs": [
    {
     "data": {
      "text/plain": [
       "[[0.5], [0.5]]"
      ]
     },
     "execution_count": 34,
     "metadata": {},
     "output_type": "execute_result"
    }
   ],
   "source": [
    "net.propagate_from(\"input1\", [0.0])"
   ]
  },
  {
   "cell_type": "code",
   "execution_count": 35,
   "metadata": {},
   "outputs": [
    {
     "data": {
      "text/plain": [
       "[[0.5], [0.5]]"
      ]
     },
     "execution_count": 35,
     "metadata": {},
     "output_type": "execute_result"
    }
   ],
   "source": [
    "net.propagate_from(\"shared-hidden\", [0.0] * 5)"
   ]
  },
  {
   "cell_type": "code",
   "execution_count": 36,
   "metadata": {},
   "outputs": [
    {
     "data": {
      "text/plain": [
       "[0.26811984181404114,\n",
       " 0.16000720858573914,\n",
       " 0.7104865908622742,\n",
       " 0.8802912831306458,\n",
       " 0.7386482954025269,\n",
       " 0.8133577108383179,\n",
       " 0.2863965332508087,\n",
       " 0.14373797178268433,\n",
       " 0.17428186535835266,\n",
       " 0.14051681756973267]"
      ]
     },
     "execution_count": 36,
     "metadata": {},
     "output_type": "execute_result"
    }
   ],
   "source": [
    "net.propagate_to(\"hidden1\", [[1], [1]])"
   ]
  },
  {
   "cell_type": "code",
   "execution_count": 37,
   "metadata": {},
   "outputs": [
    {
     "name": "stdout",
     "output_type": "stream",
     "text": [
      "Testing on training dataset...\n",
      "# | inputs | targets | outputs | result\n",
      "---------------------------------------\n",
      "0 | [[0.0], [0.0]] | [ 0.  0.] | [ 0.02103656  0.02174782] | correct\n",
      "1 | [[0.0], [1.0]] | [ 1.  1.] | [ 0.9785282  0.9783079] | correct\n",
      "2 | [[1.0], [0.0]] | [ 1.  1.] | [ 0.98450744  0.98422539] | correct\n",
      "3 | [[1.0], [1.0]] | [ 0.  0.] | [ 0.01403455  0.01351558] | correct\n",
      "Total count: 4\n",
      "Total percentage correct: 1.0\n"
     ]
    }
   ],
   "source": [
    "net.test()"
   ]
  },
  {
   "cell_type": "code",
   "execution_count": 38,
   "metadata": {},
   "outputs": [
    {
     "name": "stdout",
     "output_type": "stream",
     "text": [
      "Slicing dataset 0:2...\n",
      "Input Summary:\n",
      "   length  : 2\n",
      "   training: 2\n",
      "   testing : 0\n",
      "   shape  : [(1,), (1,)]\n",
      "   range  : (0.0, 1.0)\n",
      "Target Summary:\n",
      "   length  : 2\n",
      "   training: 2\n",
      "   testing : 0\n",
      "   shape  : [(1,), (1,)]\n",
      "   range  : (0.0, 1.0)\n"
     ]
    }
   ],
   "source": [
    "net.slice_dataset(2)"
   ]
  },
  {
   "cell_type": "code",
   "execution_count": 39,
   "metadata": {},
   "outputs": [
    {
     "name": "stdout",
     "output_type": "stream",
     "text": [
      "Training...\n",
      "========================================================================\n",
      "Epoch # 2002 | train error 0.00092 | train accuracy 2.00000 | validate% 1.00000\n"
     ]
    }
   ],
   "source": [
    "net.train(epochs=2000, accuracy=1.0, report_rate=25)"
   ]
  },
  {
   "cell_type": "markdown",
   "metadata": {},
   "source": [
    "# Conx model is a Keras Model"
   ]
  },
  {
   "cell_type": "code",
   "execution_count": 40,
   "metadata": {
    "collapsed": true
   },
   "outputs": [],
   "source": [
    "from keras.utils.vis_utils import model_to_dot\n",
    "from IPython.display import HTML"
   ]
  },
  {
   "cell_type": "code",
   "execution_count": 41,
   "metadata": {
    "collapsed": true
   },
   "outputs": [],
   "source": [
    "dot = model_to_dot(net.model, rankdir=\"BT\")"
   ]
  },
  {
   "cell_type": "code",
   "execution_count": 42,
   "metadata": {},
   "outputs": [
    {
     "data": {
      "text/html": [
       "<?xml version=\"1.0\" encoding=\"UTF-8\" standalone=\"no\"?>\n",
       "<!DOCTYPE svg PUBLIC \"-//W3C//DTD SVG 1.1//EN\"\n",
       " \"http://www.w3.org/Graphics/SVG/1.1/DTD/svg11.dtd\">\n",
       "<!-- Generated by graphviz version 2.38.0 (20140413.2041)\n",
       " -->\n",
       "<!-- Title: G Pages: 1 -->\n",
       "<svg width=\"264pt\" height=\"337pt\"\n",
       " viewBox=\"0.00 0.00 264.00 337.00\" xmlns=\"http://www.w3.org/2000/svg\" xmlns:xlink=\"http://www.w3.org/1999/xlink\">\n",
       "<g id=\"graph0\" class=\"graph\" transform=\"scale(1 1) rotate(0) translate(4 333)\">\n",
       "<title>G</title>\n",
       "<polygon fill=\"white\" stroke=\"none\" points=\"-4,4 -4,-333 260,-333 260,4 -4,4\"/>\n",
       "<!-- 140378980484152 -->\n",
       "<g id=\"node1\" class=\"node\"><title>140378980484152</title>\n",
       "<polygon fill=\"none\" stroke=\"black\" points=\"0,-0.5 0,-36.5 119,-36.5 119,-0.5 0,-0.5\"/>\n",
       "<text text-anchor=\"middle\" x=\"59.5\" y=\"-14.8\" font-family=\"Times,serif\" font-size=\"14.00\">input1: InputLayer</text>\n",
       "</g>\n",
       "<!-- 140378980485104 -->\n",
       "<g id=\"node3\" class=\"node\"><title>140378980485104</title>\n",
       "<polygon fill=\"none\" stroke=\"black\" points=\"13,-73.5 13,-109.5 114,-109.5 114,-73.5 13,-73.5\"/>\n",
       "<text text-anchor=\"middle\" x=\"63.5\" y=\"-87.8\" font-family=\"Times,serif\" font-size=\"14.00\">hidden1: Dense</text>\n",
       "</g>\n",
       "<!-- 140378980484152&#45;&gt;140378980485104 -->\n",
       "<g id=\"edge1\" class=\"edge\"><title>140378980484152&#45;&gt;140378980485104</title>\n",
       "<path fill=\"none\" stroke=\"black\" d=\"M60.4683,-36.6871C60.9203,-44.7105 61.4692,-54.4525 61.975,-63.4309\"/>\n",
       "<polygon fill=\"black\" stroke=\"black\" points=\"58.4836,-63.6839 62.5406,-73.4712 65.4725,-63.2901 58.4836,-63.6839\"/>\n",
       "</g>\n",
       "<!-- 140378980987232 -->\n",
       "<g id=\"node2\" class=\"node\"><title>140378980987232</title>\n",
       "<polygon fill=\"none\" stroke=\"black\" points=\"137,-0.5 137,-36.5 256,-36.5 256,-0.5 137,-0.5\"/>\n",
       "<text text-anchor=\"middle\" x=\"196.5\" y=\"-14.8\" font-family=\"Times,serif\" font-size=\"14.00\">input2: InputLayer</text>\n",
       "</g>\n",
       "<!-- 140378980987736 -->\n",
       "<g id=\"node4\" class=\"node\"><title>140378980987736</title>\n",
       "<polygon fill=\"none\" stroke=\"black\" points=\"141,-73.5 141,-109.5 242,-109.5 242,-73.5 141,-73.5\"/>\n",
       "<text text-anchor=\"middle\" x=\"191.5\" y=\"-87.8\" font-family=\"Times,serif\" font-size=\"14.00\">hidden2: Dense</text>\n",
       "</g>\n",
       "<!-- 140378980987232&#45;&gt;140378980987736 -->\n",
       "<g id=\"edge2\" class=\"edge\"><title>140378980987232&#45;&gt;140378980987736</title>\n",
       "<path fill=\"none\" stroke=\"black\" d=\"M195.29,-36.6871C194.725,-44.7105 194.039,-54.4525 193.406,-63.4309\"/>\n",
       "<polygon fill=\"black\" stroke=\"black\" points=\"189.91,-63.25 192.699,-73.4712 196.893,-63.7418 189.91,-63.25\"/>\n",
       "</g>\n",
       "<!-- 140378978291784 -->\n",
       "<g id=\"node5\" class=\"node\"><title>140378978291784</title>\n",
       "<polygon fill=\"none\" stroke=\"black\" points=\"43.5,-146.5 43.5,-182.5 211.5,-182.5 211.5,-146.5 43.5,-146.5\"/>\n",
       "<text text-anchor=\"middle\" x=\"127.5\" y=\"-160.8\" font-family=\"Times,serif\" font-size=\"14.00\">concatenate_3: Concatenate</text>\n",
       "</g>\n",
       "<!-- 140378980485104&#45;&gt;140378978291784 -->\n",
       "<g id=\"edge3\" class=\"edge\"><title>140378980485104&#45;&gt;140378978291784</title>\n",
       "<path fill=\"none\" stroke=\"black\" d=\"M78.9926,-109.687C86.9325,-118.495 96.7394,-129.375 105.453,-139.042\"/>\n",
       "<polygon fill=\"black\" stroke=\"black\" points=\"102.855,-141.387 112.15,-146.471 108.054,-136.7 102.855,-141.387\"/>\n",
       "</g>\n",
       "<!-- 140378980987736&#45;&gt;140378978291784 -->\n",
       "<g id=\"edge4\" class=\"edge\"><title>140378980987736&#45;&gt;140378978291784</title>\n",
       "<path fill=\"none\" stroke=\"black\" d=\"M176.007,-109.687C168.068,-118.495 158.261,-129.375 149.547,-139.042\"/>\n",
       "<polygon fill=\"black\" stroke=\"black\" points=\"146.946,-136.7 142.85,-146.471 152.145,-141.387 146.946,-136.7\"/>\n",
       "</g>\n",
       "<!-- 140378980484544 -->\n",
       "<g id=\"node6\" class=\"node\"><title>140378980484544</title>\n",
       "<polygon fill=\"none\" stroke=\"black\" points=\"60.5,-219.5 60.5,-255.5 194.5,-255.5 194.5,-219.5 60.5,-219.5\"/>\n",
       "<text text-anchor=\"middle\" x=\"127.5\" y=\"-233.8\" font-family=\"Times,serif\" font-size=\"14.00\">shared&#45;hidden: Dense</text>\n",
       "</g>\n",
       "<!-- 140378978291784&#45;&gt;140378980484544 -->\n",
       "<g id=\"edge5\" class=\"edge\"><title>140378978291784&#45;&gt;140378980484544</title>\n",
       "<path fill=\"none\" stroke=\"black\" d=\"M127.5,-182.687C127.5,-190.711 127.5,-200.453 127.5,-209.431\"/>\n",
       "<polygon fill=\"black\" stroke=\"black\" points=\"124,-209.471 127.5,-219.471 131,-209.471 124,-209.471\"/>\n",
       "</g>\n",
       "<!-- 140378980989080 -->\n",
       "<g id=\"node7\" class=\"node\"><title>140378980989080</title>\n",
       "<polygon fill=\"none\" stroke=\"black\" points=\"20,-292.5 20,-328.5 119,-328.5 119,-292.5 20,-292.5\"/>\n",
       "<text text-anchor=\"middle\" x=\"69.5\" y=\"-306.8\" font-family=\"Times,serif\" font-size=\"14.00\">output1: Dense</text>\n",
       "</g>\n",
       "<!-- 140378980484544&#45;&gt;140378980989080 -->\n",
       "<g id=\"edge6\" class=\"edge\"><title>140378980484544&#45;&gt;140378980989080</title>\n",
       "<path fill=\"none\" stroke=\"black\" d=\"M113.46,-255.687C106.407,-264.321 97.7281,-274.945 89.9504,-284.466\"/>\n",
       "<polygon fill=\"black\" stroke=\"black\" points=\"87.0268,-282.512 83.4109,-292.471 92.4479,-286.941 87.0268,-282.512\"/>\n",
       "</g>\n",
       "<!-- 140378978292288 -->\n",
       "<g id=\"node8\" class=\"node\"><title>140378978292288</title>\n",
       "<polygon fill=\"none\" stroke=\"black\" points=\"137,-292.5 137,-328.5 236,-328.5 236,-292.5 137,-292.5\"/>\n",
       "<text text-anchor=\"middle\" x=\"186.5\" y=\"-306.8\" font-family=\"Times,serif\" font-size=\"14.00\">output2: Dense</text>\n",
       "</g>\n",
       "<!-- 140378980484544&#45;&gt;140378978292288 -->\n",
       "<g id=\"edge7\" class=\"edge\"><title>140378980484544&#45;&gt;140378978292288</title>\n",
       "<path fill=\"none\" stroke=\"black\" d=\"M141.782,-255.687C149.029,-264.408 157.964,-275.16 165.936,-284.754\"/>\n",
       "<polygon fill=\"black\" stroke=\"black\" points=\"163.266,-287.017 172.349,-292.471 168.65,-282.543 163.266,-287.017\"/>\n",
       "</g>\n",
       "</g>\n",
       "</svg>\n"
      ],
      "text/plain": [
       "<IPython.core.display.HTML object>"
      ]
     },
     "execution_count": 42,
     "metadata": {},
     "output_type": "execute_result"
    }
   ],
   "source": [
    "HTML(dot.create_svg().decode())"
   ]
  },
  {
   "cell_type": "code",
   "execution_count": null,
   "metadata": {
    "collapsed": true
   },
   "outputs": [],
   "source": []
  }
 ],
 "metadata": {
  "kernelspec": {
   "display_name": "Python 3",
   "language": "python",
   "name": "python3"
  },
  "language_info": {
   "codemirror_mode": {
    "name": "ipython",
    "version": 3
   },
   "file_extension": ".py",
   "mimetype": "text/x-python",
   "name": "python",
   "nbconvert_exporter": "python",
   "pygments_lexer": "ipython3",
   "version": "3.5.3"
  },
  "widgets": {
   "application/vnd.jupyter.widget-state+json": {
    "state": {
     "013c134e03414b8186115532bcc95ab0": {
      "model_module": "jupyter-js-widgets",
      "model_module_version": "~2.1.4",
      "model_name": "ButtonModel",
      "state": {
       "_model_module_version": "~2.1.4",
       "_view_module_version": "~2.1.4",
       "icon": "fast-backward",
       "layout": "IPY_MODEL_1d969475fdce4635a2e0b5f487159661",
       "style": "IPY_MODEL_b7b21f35c0ea450aa984b798f81b2906"
      }
     },
     "0229f174fc7a4d77842a6e3b703052f9": {
      "model_module": "jupyter-js-widgets",
      "model_module_version": "~2.1.4",
      "model_name": "ButtonStyleModel",
      "state": {
       "_model_module_version": "~2.1.4",
       "_view_module_version": "~2.1.4"
      }
     },
     "0298ffe98564482690dde335c52665c5": {
      "model_module": "jupyter-js-widgets",
      "model_module_version": "~2.1.4",
      "model_name": "LayoutModel",
      "state": {
       "_model_module_version": "~2.1.4",
       "_view_module_version": "~2.1.4",
       "width": "100%"
      }
     },
     "030378bda12e4823b6c720be962868e3": {
      "model_module": "jupyter-js-widgets",
      "model_module_version": "~2.1.4",
      "model_name": "ButtonModel",
      "state": {
       "_model_module_version": "~2.1.4",
       "_view_module_version": "~2.1.4",
       "icon": "backward",
       "layout": "IPY_MODEL_7f430c2d5b354af784269ecc4ea97898",
       "style": "IPY_MODEL_7894e291890b4a059813dbc078850e3e"
      }
     },
     "03292bed2615476ca523380ef510c7cd": {
      "model_module": "jupyter-js-widgets",
      "model_module_version": "~2.1.4",
      "model_name": "ButtonModel",
      "state": {
       "_model_module_version": "~2.1.4",
       "_view_module_version": "~2.1.4",
       "icon": "fast-forward",
       "layout": "IPY_MODEL_5bcfd9c1f96d4752abcdeb596c6336fa",
       "style": "IPY_MODEL_2997842ae12a41f489a2e86a5d4e2de2"
      }
     },
     "03c08cf957594332ae6b0cb5b86e01a0": {
      "model_module": "jupyter-js-widgets",
      "model_module_version": "~2.1.4",
      "model_name": "SliderStyleModel",
      "state": {
       "_model_module_version": "~2.1.4",
       "_view_module_version": "~2.1.4"
      }
     },
     "03c1a0b3efe14005b4f6826292011c5a": {
      "model_module": "jupyter-js-widgets",
      "model_module_version": "~2.1.4",
      "model_name": "HBoxModel",
      "state": {
       "_model_module_version": "~2.1.4",
       "_view_module_version": "~2.1.4",
       "children": [
        "IPY_MODEL_f3952fb4c16e47b8a8730be4cd2891b0",
        "IPY_MODEL_4aadfdf16c99445695cfe843faf168b1",
        "IPY_MODEL_d3c3eefd8df44cb4bcc1e07920bc036b",
        "IPY_MODEL_1fba74557e9d4d2c8ba655cd87ae6eae",
        "IPY_MODEL_1c67d6cb94d8403aa46fa1e76abc9b18"
       ],
       "layout": "IPY_MODEL_c05f26784df548aa9b211cdbe1c9cb55"
      }
     },
     "041347a06d4b4c13b7ab801a4b72e331": {
      "model_module": "jupyter-js-widgets",
      "model_module_version": "~2.1.4",
      "model_name": "ButtonStyleModel",
      "state": {
       "_model_module_version": "~2.1.4",
       "_view_module_version": "~2.1.4"
      }
     },
     "0435c980beb04cbe87a239ee53824dc7": {
      "model_module": "jupyter-js-widgets",
      "model_module_version": "~2.1.4",
      "model_name": "SelectModel",
      "state": {
       "_model_module_version": "~2.1.4",
       "_options_labels": [
        "Test",
        "Train"
       ],
       "_view_module_version": "~2.1.4",
       "description": "Dataset:",
       "layout": "IPY_MODEL_06179a5e562d4da3a0f96b8ab56e3bc7",
       "value": "Train"
      }
     },
     "046614b9702b4a609e8bdd74b2532d2d": {
      "model_module": "jupyter-js-widgets",
      "model_module_version": "~2.1.4",
      "model_name": "ButtonStyleModel",
      "state": {
       "_model_module_version": "~2.1.4",
       "_view_module_version": "~2.1.4"
      }
     },
     "04da1631058f4367b9a12bff0323198a": {
      "model_module": "jupyter-js-widgets",
      "model_module_version": "~2.1.4",
      "model_name": "IntSliderModel",
      "state": {
       "_model_module_version": "~2.1.4",
       "_view_module_version": "~2.1.4",
       "continuous_update": false,
       "description": "Dataset index",
       "layout": "IPY_MODEL_d209ac48620247dfad2cfe7979f5ccdd",
       "max": 3,
       "style": "IPY_MODEL_3e7342b40c394255a54e53848b507ba6"
      }
     },
     "06179a5e562d4da3a0f96b8ab56e3bc7": {
      "model_module": "jupyter-js-widgets",
      "model_module_version": "~2.1.4",
      "model_name": "LayoutModel",
      "state": {
       "_model_module_version": "~2.1.4",
       "_view_module_version": "~2.1.4"
      }
     },
     "07e99f5dc6ff45688cf884e861663766": {
      "model_module": "jupyter-js-widgets",
      "model_module_version": "~2.1.4",
      "model_name": "ButtonModel",
      "state": {
       "_model_module_version": "~2.1.4",
       "_view_module_version": "~2.1.4",
       "icon": "forward",
       "layout": "IPY_MODEL_10067947368247e5a17338f72318cabe",
       "style": "IPY_MODEL_99ea15ba3e81474ea8e0e053aa27da97"
      }
     },
     "08deb625237c410baa2fe9aaab5b3667": {
      "model_module": "jupyter-js-widgets",
      "model_module_version": "~2.1.4",
      "model_name": "LayoutModel",
      "state": {
       "_model_module_version": "~2.1.4",
       "_view_module_version": "~2.1.4",
       "height": "100%",
       "max_height": "550px",
       "overflow_x": "auto",
       "width": "100%"
      }
     },
     "091708ef89914a53a66b2328259e68c6": {
      "model_module": "jupyter-js-widgets",
      "model_module_version": "~2.1.4",
      "model_name": "VBoxModel",
      "state": {
       "_model_module_version": "~2.1.4",
       "_view_module_version": "~2.1.4",
       "children": [
        "IPY_MODEL_0435c980beb04cbe87a239ee53824dc7",
        "IPY_MODEL_04da1631058f4367b9a12bff0323198a",
        "IPY_MODEL_e94a1cf28d3a4e63a8c84b07a7984ac8"
       ],
       "layout": "IPY_MODEL_5d7018317ed6435d866769e5db91c1f7"
      }
     },
     "09595411ed1f48faa15086697ef40042": {
      "model_module": "jupyter-js-widgets",
      "model_module_version": "~2.1.4",
      "model_name": "LayoutModel",
      "state": {
       "_model_module_version": "~2.1.4",
       "_view_module_version": "~2.1.4",
       "width": "100%"
      }
     },
     "0a2a0b11e1784b82b5fe56bf4b521f76": {
      "model_module": "jupyter-js-widgets",
      "model_module_version": "~2.1.4",
      "model_name": "ButtonStyleModel",
      "state": {
       "_model_module_version": "~2.1.4",
       "_view_module_version": "~2.1.4"
      }
     },
     "0b55a353a00f45ee8edfc47c8344ec39": {
      "model_module": "jupyter-js-widgets",
      "model_module_version": "~2.1.4",
      "model_name": "LayoutModel",
      "state": {
       "_model_module_version": "~2.1.4",
       "_view_module_version": "~2.1.4",
       "width": "100%"
      }
     },
     "0bd89dc67049446c80dccc68b67103bd": {
      "model_module": "jupyter-js-widgets",
      "model_module_version": "~2.1.4",
      "model_name": "ButtonStyleModel",
      "state": {
       "_model_module_version": "~2.1.4",
       "_view_module_version": "~2.1.4"
      }
     },
     "0c63b49d08014ef0b52a84dffd834b7f": {
      "model_module": "jupyter-js-widgets",
      "model_module_version": "~2.1.4",
      "model_name": "ButtonStyleModel",
      "state": {
       "_model_module_version": "~2.1.4",
       "_view_module_version": "~2.1.4"
      }
     },
     "0d52bfdcbc4a4403bf0fff9aab5140a1": {
      "model_module": "jupyter-js-widgets",
      "model_module_version": "~2.1.4",
      "model_name": "LayoutModel",
      "state": {
       "_model_module_version": "~2.1.4",
       "_view_module_version": "~2.1.4",
       "width": "100%"
      }
     },
     "0d7b3d419e614dd09a63524ef14e3406": {
      "model_module": "jupyter-js-widgets",
      "model_module_version": "~2.1.4",
      "model_name": "LayoutModel",
      "state": {
       "_model_module_version": "~2.1.4",
       "_view_module_version": "~2.1.4",
       "width": "100%"
      }
     },
     "0ddb2f9ff0cb4806a86269c24272b5e0": {
      "model_module": "jupyter-js-widgets",
      "model_module_version": "~2.1.4",
      "model_name": "HTMLModel",
      "state": {
       "_model_module_version": "~2.1.4",
       "_view_module_version": "~2.1.4",
       "layout": "IPY_MODEL_b1c8f6fc9806482da7ee6497883b27ea",
       "value": "\n        <svg id='XOR2' xmlns='http://www.w3.org/2000/svg' width=\"400\" height=\"415\" image-rendering=\"pixelated\">\n    <defs>\n        <marker id=\"arrow\" markerWidth=\"10\" markerHeight=\"10\" refX=\"9\" refY=\"3\" orient=\"auto\" markerUnits=\"strokeWidth\">\n          <path d=\"M0,0 L0,6 L9,3 z\" fill=\"blue\" />\n        </marker>\n    </defs>\n<rect x=\"99.0\" y=\"24\" width=\"52\" height=\"52\" style=\"fill:none;stroke:blue;stroke-width:2\"/><image id=\"XOR2_output1_targets_1\" class=\"XOR2_output1_targets\" x=\"100.0\" y=\"25\" height=\"50\" width=\"50\" href=\"data:image/gif;base64,R0lGODdhAQABAIAAAHJycgAAACwAAAAAAQABAAAIBQABLAkIADs=\"><title>Layer: output1 (output)\n shape = (1,)\n Keras class = Dense\n activation = sigmoid</title></image><text x=\"155.0\" y=\"52.0\" font-family=\"monospace\" font-size=\"12\">targets</text><rect x=\"249.0\" y=\"24\" width=\"52\" height=\"52\" style=\"fill:none;stroke:blue;stroke-width:2\"/><image id=\"XOR2_output2_targets_1\" class=\"XOR2_output2_targets\" x=\"250.0\" y=\"25\" height=\"50\" width=\"50\" href=\"data:image/gif;base64,R0lGODdhAQABAIAAAF1dXQAAACwAAAAAAQABAAAIBQABLAkIADs=\"><title>Layer: output2 (output)\n shape = (1,)\n Keras class = Dense\n activation = sigmoid</title></image><text x=\"305.0\" y=\"52.0\" font-family=\"monospace\" font-size=\"12\">targets</text><rect x=\"99.0\" y=\"84\" width=\"52\" height=\"52\" style=\"fill:none;stroke:blue;stroke-width:2\"/><image id=\"XOR2_output1_errors_1\" class=\"XOR2_output1_errors\" x=\"100.0\" y=\"85\" height=\"50\" width=\"50\" href=\"data:image/gif;base64,R0lGODdhAQABAIAAAHJycgAAACwAAAAAAQABAAAIBQABLAkIADs=\"><title>Layer: output1 (output)\n shape = (1,)\n Keras class = Dense\n activation = sigmoid</title></image><text x=\"155.0\" y=\"112.0\" font-family=\"monospace\" font-size=\"12\">errors</text><rect x=\"249.0\" y=\"84\" width=\"52\" height=\"52\" style=\"fill:none;stroke:blue;stroke-width:2\"/><image id=\"XOR2_output2_errors_1\" class=\"XOR2_output2_errors\" x=\"250.0\" y=\"85\" height=\"50\" width=\"50\" href=\"data:image/gif;base64,R0lGODdhAQABAIAAAF1dXQAAACwAAAAAAQABAAAIBQABLAkIADs=\"><title>Layer: output2 (output)\n shape = (1,)\n Keras class = Dense\n activation = sigmoid</title></image><text x=\"305.0\" y=\"112.0\" font-family=\"monospace\" font-size=\"12\">errors</text><rect x=\"99.0\" y=\"149\" width=\"52\" height=\"52\" style=\"fill:none;stroke:blue;stroke-width:2\"/><image id=\"XOR2_output1_1\" class=\"XOR2_output1\" x=\"100.0\" y=\"150\" height=\"50\" width=\"50\" href=\"data:image/gif;base64,R0lGODdhAQABAIAAAHJycgAAACwAAAAAAQABAAAIBQABLAkIADs=\"><title>Layer: output1 (output)\n shape = (1,)\n Keras class = Dense\n activation = sigmoid</title></image><text x=\"155.0\" y=\"177.0\" font-family=\"monospace\" font-size=\"12\">output1</text><rect x=\"249.0\" y=\"149\" width=\"52\" height=\"52\" style=\"fill:none;stroke:blue;stroke-width:2\"/><image id=\"XOR2_output2_2\" class=\"XOR2_output2\" x=\"250.0\" y=\"150\" height=\"50\" width=\"50\" href=\"data:image/gif;base64,R0lGODdhAQABAIAAAF1dXQAAACwAAAAAAQABAAAIBQABLAkIADs=\"><title>Layer: output2 (output)\n shape = (1,)\n Keras class = Dense\n activation = sigmoid</title></image><text x=\"305.0\" y=\"177.0\" font-family=\"monospace\" font-size=\"12\">output2</text><rect x=\"125.0\" y=\"202\" width=\"75.0\" height=\"27\" style=\"fill:white;stroke:none\"><title>Weights from shared-hidden to output1\n output1/kernel has shape (5, 1)\n output1/bias has shape (1,)</title></rect><rect x=\"200.0\" y=\"202\" width=\"75.0\" height=\"27\" style=\"fill:white;stroke:none\"><title>Weights from shared-hidden to output2\n output2/kernel has shape (5, 1)\n output2/bias has shape (1,)</title></rect><line x1=\"200.0\" y1=\"229\" x2=\"125.0\" y2=\"202\" stroke=\"blue\" stroke-width=\"2\" marker-end=\"url(#arrow)\"><title>Weights from shared-hidden to output1\n output1/kernel has shape (5, 1)\n output1/bias has shape (1,)</title></line><line x1=\"200.0\" y1=\"229\" x2=\"275.0\" y2=\"202\" stroke=\"blue\" stroke-width=\"2\" marker-end=\"url(#arrow)\"><title>Weights from shared-hidden to output2\n output2/kernel has shape (5, 1)\n output2/bias has shape (1,)</title></line><rect x=\"174.0\" y=\"229\" width=\"52\" height=\"27\" style=\"fill:none;stroke:blue;stroke-width:2\"/><image id=\"XOR2_shared-hidden_3\" class=\"XOR2_shared-hidden\" x=\"175.0\" y=\"230\" height=\"25\" width=\"50\" href=\"data:image/gif;base64,R0lGODdhBQABAIIAAElJSWBgYGNjY2lpaX19fQAAAAAAAAAAACwAAAAABQABAAAICAABDCAgIEBAADs=\"><title>Layer: shared-hidden (hidden)\n shape = (5,)\n Keras class = Dense\n activation = sigmoid</title></image><text x=\"230.0\" y=\"244.5\" font-family=\"monospace\" font-size=\"12\">shared-hidden</text><rect x=\"125.0\" y=\"257\" width=\"75.0\" height=\"27\" style=\"fill:white;stroke:none\"><title>Weights from hidden1 to shared-hidden\n shared-hidden/kernel has shape (20, 5)\n shared-hidden/bias has shape (5,)</title></rect><line x1=\"125.0\" y1=\"284\" x2=\"200.0\" y2=\"257\" stroke=\"blue\" stroke-width=\"2\" marker-end=\"url(#arrow)\"><title>Weights from hidden1 to shared-hidden\n shared-hidden/kernel has shape (20, 5)\n shared-hidden/bias has shape (5,)</title></line><rect x=\"99.0\" y=\"284\" width=\"52\" height=\"27\" style=\"fill:none;stroke:blue;stroke-width:2\"/><image id=\"XOR2_hidden1_4\" class=\"XOR2_hidden1\" x=\"100.0\" y=\"285\" height=\"25\" width=\"50\" href=\"data:image/gif;base64,R0lGODdhCgABAIAAAH9/fwAAACwAAAAACgABAAAIBwABCBxIMCAAOw==\"><title>Layer: hidden1 (hidden)\n shape = (10,)\n Keras class = Dense\n activation = sigmoid</title></image><text x=\"155.0\" y=\"299.5\" font-family=\"monospace\" font-size=\"12\">hidden1</text><rect x=\"200.0\" y=\"257\" width=\"75.0\" height=\"27\" style=\"fill:white;stroke:none\"><title>Weights from hidden2 to shared-hidden\n shared-hidden/kernel has shape (20, 5)\n shared-hidden/bias has shape (5,)</title></rect><line x1=\"275.0\" y1=\"284\" x2=\"200.0\" y2=\"257\" stroke=\"blue\" stroke-width=\"2\" marker-end=\"url(#arrow)\"><title>Weights from hidden2 to shared-hidden\n shared-hidden/kernel has shape (20, 5)\n shared-hidden/bias has shape (5,)</title></line><rect x=\"249.0\" y=\"284\" width=\"52\" height=\"27\" style=\"fill:none;stroke:blue;stroke-width:2\"/><image id=\"XOR2_hidden2_5\" class=\"XOR2_hidden2\" x=\"250.0\" y=\"285\" height=\"25\" width=\"50\" href=\"data:image/gif;base64,R0lGODdhCgABAIAAAH9/fwAAACwAAAAACgABAAAIBwABCBxIMCAAOw==\"><title>Layer: hidden2 (hidden)\n shape = (10,)\n Keras class = Dense\n activation = sigmoid</title></image><text x=\"305.0\" y=\"299.5\" font-family=\"monospace\" font-size=\"12\">hidden2</text><rect x=\"115.0\" y=\"312\" width=\"20.0\" height=\"27\" style=\"fill:white;stroke:none\"><title>Weights from input1 to hidden1\n hidden1/kernel has shape (1, 10)\n hidden1/bias has shape (10,)</title></rect><line x1=\"125.0\" y1=\"339\" x2=\"125.0\" y2=\"312\" stroke=\"blue\" stroke-width=\"2\" marker-end=\"url(#arrow)\"><title>Weights from input1 to hidden1\n hidden1/kernel has shape (1, 10)\n hidden1/bias has shape (10,)</title></line><rect x=\"99.0\" y=\"339\" width=\"52\" height=\"52\" style=\"fill:none;stroke:blue;stroke-width:2\"/><image id=\"XOR2_input1_6\" class=\"XOR2_input1\" x=\"100.0\" y=\"340\" height=\"50\" width=\"50\" href=\"data:image/gif;base64,R0lGODdhAQABAIAAAH9/fwAAACwAAAAAAQABAAAIBQABLAkIADs=\"><title>Layer: input1 (input)\n shape = (1,)\n Keras class = Input</title></image><text x=\"155.0\" y=\"367.0\" font-family=\"monospace\" font-size=\"12\">input1</text><rect x=\"265.0\" y=\"312\" width=\"20.0\" height=\"27\" style=\"fill:white;stroke:none\"><title>Weights from input2 to hidden2\n hidden2/kernel has shape (1, 10)\n hidden2/bias has shape (10,)</title></rect><line x1=\"275.0\" y1=\"339\" x2=\"275.0\" y2=\"312\" stroke=\"blue\" stroke-width=\"2\" marker-end=\"url(#arrow)\"><title>Weights from input2 to hidden2\n hidden2/kernel has shape (1, 10)\n hidden2/bias has shape (10,)</title></line><rect x=\"249.0\" y=\"339\" width=\"52\" height=\"52\" style=\"fill:none;stroke:blue;stroke-width:2\"/><image id=\"XOR2_input2_7\" class=\"XOR2_input2\" x=\"250.0\" y=\"340\" height=\"50\" width=\"50\" href=\"data:image/gif;base64,R0lGODdhAQABAIAAAH9/fwAAACwAAAAAAQABAAAIBQABLAkIADs=\"><title>Layer: input2 (input)\n shape = (1,)\n Keras class = Input</title></image><text x=\"305.0\" y=\"367.0\" font-family=\"monospace\" font-size=\"12\">input2</text></svg>"
      }
     },
     "0e167e6871cc40838bc1ebc44aa4c821": {
      "model_module": "jupyter-js-widgets",
      "model_module_version": "~2.1.4",
      "model_name": "LayoutModel",
      "state": {
       "_model_module_version": "~2.1.4",
       "_view_module_version": "~2.1.4",
       "width": "100%"
      }
     },
     "0f923c162e764e8997b98d8f56273fd6": {
      "model_module": "jupyter-js-widgets",
      "model_module_version": "~2.1.4",
      "model_name": "ButtonStyleModel",
      "state": {
       "_model_module_version": "~2.1.4",
       "_view_module_version": "~2.1.4"
      }
     },
     "10067947368247e5a17338f72318cabe": {
      "model_module": "jupyter-js-widgets",
      "model_module_version": "~2.1.4",
      "model_name": "LayoutModel",
      "state": {
       "_model_module_version": "~2.1.4",
       "_view_module_version": "~2.1.4",
       "width": "100%"
      }
     },
     "1057e869e88940d1b6b196a428bfd107": {
      "model_module": "jupyter-js-widgets",
      "model_module_version": "~2.1.4",
      "model_name": "LayoutModel",
      "state": {
       "_model_module_version": "~2.1.4",
       "_view_module_version": "~2.1.4",
       "width": "100%"
      }
     },
     "105d66f29f004799a4b2dd8416330799": {
      "model_module": "jupyter-js-widgets",
      "model_module_version": "~2.1.4",
      "model_name": "LayoutModel",
      "state": {
       "_model_module_version": "~2.1.4",
       "_view_module_version": "~2.1.4",
       "width": "100%"
      }
     },
     "108feaaaa5964682a0503ff8485d0625": {
      "model_module": "jupyter-js-widgets",
      "model_module_version": "~2.1.4",
      "model_name": "LayoutModel",
      "state": {
       "_model_module_version": "~2.1.4",
       "_view_module_version": "~2.1.4",
       "width": "100%"
      }
     },
     "10d035fac946443cb00bec76e2cfa63f": {
      "model_module": "jupyter-js-widgets",
      "model_module_version": "~2.1.4",
      "model_name": "HBoxModel",
      "state": {
       "_model_module_version": "~2.1.4",
       "_view_module_version": "~2.1.4",
       "children": [
        "IPY_MODEL_dc499034d17b450b97112f3205d48fe4",
        "IPY_MODEL_2c1f7557d95b421d925f88554b67d585",
        "IPY_MODEL_d7b76bf037ba462b92ecc08873da4bbf",
        "IPY_MODEL_213bf89591aa4bc3b10b302352524227",
        "IPY_MODEL_cc813ee7afba4138a0966ea32c49a5e6"
       ],
       "layout": "IPY_MODEL_57d5bc65bbc944fb8f45212daa788ad8"
      }
     },
     "11208d2b6ca446049403d4033f4bce34": {
      "model_module": "jupyter-js-widgets",
      "model_module_version": "~2.1.4",
      "model_name": "ButtonStyleModel",
      "state": {
       "_model_module_version": "~2.1.4",
       "_view_module_version": "~2.1.4"
      }
     },
     "119899227cb640f891288a5f325f3934": {
      "model_module": "jupyter-js-widgets",
      "model_module_version": "~2.1.4",
      "model_name": "SelectModel",
      "state": {
       "_model_module_version": "~2.1.4",
       "_options_labels": [
        "Test",
        "Train"
       ],
       "_view_module_version": "~2.1.4",
       "description": "Dataset:",
       "layout": "IPY_MODEL_5464d49da7ab4877b21cda769a2db763",
       "value": "Train"
      }
     },
     "11ec815b4da74913b65ef3c724884b22": {
      "model_module": "jupyter-js-widgets",
      "model_module_version": "~2.1.4",
      "model_name": "ButtonModel",
      "state": {
       "_model_module_version": "~2.1.4",
       "_view_module_version": "~2.1.4",
       "description": "Train",
       "layout": "IPY_MODEL_1057e869e88940d1b6b196a428bfd107",
       "style": "IPY_MODEL_046614b9702b4a609e8bdd74b2532d2d"
      }
     },
     "12c4589746334142a5c30327fb024f43": {
      "model_module": "jupyter-js-widgets",
      "model_module_version": "~2.1.4",
      "model_name": "LayoutModel",
      "state": {
       "_model_module_version": "~2.1.4",
       "_view_module_version": "~2.1.4",
       "width": "100%"
      }
     },
     "13d15b2780e645b0a754c6a0226c982a": {
      "model_module": "jupyter-js-widgets",
      "model_module_version": "~2.1.4",
      "model_name": "VBoxModel",
      "state": {
       "_model_module_version": "~2.1.4",
       "_view_module_version": "~2.1.4",
       "children": [
        "IPY_MODEL_5e11282e5ab745a4b321c1a60c58c196",
        "IPY_MODEL_517e1367067b404d95ab67ccc34351ea"
       ],
       "layout": "IPY_MODEL_793538ea15864e389ce27b1b6ef5cf0a"
      }
     },
     "13e5a6e3373b4366b7e0765fe492fb82": {
      "model_module": "jupyter-js-widgets",
      "model_module_version": "~2.1.4",
      "model_name": "LayoutModel",
      "state": {
       "_model_module_version": "~2.1.4",
       "_view_module_version": "~2.1.4",
       "width": "100%"
      }
     },
     "14337b12e1424c46ab40900720d86275": {
      "model_module": "jupyter-js-widgets",
      "model_module_version": "~2.1.4",
      "model_name": "ButtonStyleModel",
      "state": {
       "_model_module_version": "~2.1.4",
       "_view_module_version": "~2.1.4"
      }
     },
     "166d6e15f58e4cd990f3fe974e156e5d": {
      "model_module": "jupyter-js-widgets",
      "model_module_version": "~2.1.4",
      "model_name": "LayoutModel",
      "state": {
       "_model_module_version": "~2.1.4",
       "_view_module_version": "~2.1.4",
       "width": "100%"
      }
     },
     "169558b236014a578cd5fb670b3df8ee": {
      "model_module": "jupyter-js-widgets",
      "model_module_version": "~2.1.4",
      "model_name": "HTMLModel",
      "state": {
       "_model_module_version": "~2.1.4",
       "_view_module_version": "~2.1.4",
       "layout": "IPY_MODEL_08deb625237c410baa2fe9aaab5b3667",
       "value": "\n        <svg id='XOR2' xmlns='http://www.w3.org/2000/svg' width=\"400\" height=\"415\" image-rendering=\"pixelated\">\n    <defs>\n        <marker id=\"arrow\" markerWidth=\"10\" markerHeight=\"10\" refX=\"9\" refY=\"3\" orient=\"auto\" markerUnits=\"strokeWidth\">\n          <path d=\"M0,0 L0,6 L9,3 z\" fill=\"blue\" />\n        </marker>\n    </defs>\n<rect x=\"99.0\" y=\"24\" width=\"52\" height=\"52\" style=\"fill:none;stroke:blue;stroke-width:2\"/><image id=\"XOR2_output1_targets_1\" class=\"XOR2_output1_targets\" x=\"100.0\" y=\"25\" height=\"50\" width=\"50\" preserveAspectRatio=\"none\" href=\"data:image/gif;base64,R0lGODdhAQABAIAAAEpKSgAAACwAAAAAAQABAAAIBQABrAgIADs=\"><title>Layer: output1 (output)\n shape = (1,)\n Keras class = Dense\n activation = sigmoid</title></image><text x=\"155.0\" y=\"52.0\" font-family=\"monospace\" font-size=\"12\">targets</text><rect x=\"249.0\" y=\"24\" width=\"52\" height=\"52\" style=\"fill:none;stroke:blue;stroke-width:2\"/><image id=\"XOR2_output2_targets_1\" class=\"XOR2_output2_targets\" x=\"250.0\" y=\"25\" height=\"50\" width=\"50\" preserveAspectRatio=\"none\" href=\"data:image/gif;base64,R0lGODdhAQABAIAAAGZmZgAAACwAAAAAAQABAAAIBQABrAgIADs=\"><title>Layer: output2 (output)\n shape = (1,)\n Keras class = Dense\n activation = sigmoid</title></image><text x=\"305.0\" y=\"52.0\" font-family=\"monospace\" font-size=\"12\">targets</text><rect x=\"99.0\" y=\"84\" width=\"52\" height=\"52\" style=\"fill:none;stroke:blue;stroke-width:2\"/><image id=\"XOR2_output1_errors_1\" class=\"XOR2_output1_errors\" x=\"100.0\" y=\"85\" height=\"50\" width=\"50\" preserveAspectRatio=\"none\" href=\"data:image/gif;base64,R0lGODdhAQABAIAAAEpKSgAAACwAAAAAAQABAAAIBQABrAgIADs=\"><title>Layer: output1 (output)\n shape = (1,)\n Keras class = Dense\n activation = sigmoid</title></image><text x=\"155.0\" y=\"112.0\" font-family=\"monospace\" font-size=\"12\">errors</text><rect x=\"249.0\" y=\"84\" width=\"52\" height=\"52\" style=\"fill:none;stroke:blue;stroke-width:2\"/><image id=\"XOR2_output2_errors_1\" class=\"XOR2_output2_errors\" x=\"250.0\" y=\"85\" height=\"50\" width=\"50\" preserveAspectRatio=\"none\" href=\"data:image/gif;base64,R0lGODdhAQABAIAAAGZmZgAAACwAAAAAAQABAAAIBQABrAgIADs=\"><title>Layer: output2 (output)\n shape = (1,)\n Keras class = Dense\n activation = sigmoid</title></image><text x=\"305.0\" y=\"112.0\" font-family=\"monospace\" font-size=\"12\">errors</text><rect x=\"99.0\" y=\"149\" width=\"52\" height=\"52\" style=\"fill:none;stroke:blue;stroke-width:2\"/><image id=\"XOR2_output1_1\" class=\"XOR2_output1\" x=\"100.0\" y=\"150\" height=\"50\" width=\"50\" preserveAspectRatio=\"none\" href=\"data:image/gif;base64,R0lGODdhAQABAIAAAEpKSgAAACwAAAAAAQABAAAIBQABrAgIADs=\"><title>Layer: output1 (output)\n shape = (1,)\n Keras class = Dense\n activation = sigmoid</title></image><text x=\"155.0\" y=\"177.0\" font-family=\"monospace\" font-size=\"12\">output1</text><rect x=\"249.0\" y=\"149\" width=\"52\" height=\"52\" style=\"fill:none;stroke:blue;stroke-width:2\"/><image id=\"XOR2_output2_2\" class=\"XOR2_output2\" x=\"250.0\" y=\"150\" height=\"50\" width=\"50\" preserveAspectRatio=\"none\" href=\"data:image/gif;base64,R0lGODdhAQABAIAAAGZmZgAAACwAAAAAAQABAAAIBQABrAgIADs=\"><title>Layer: output2 (output)\n shape = (1,)\n Keras class = Dense\n activation = sigmoid</title></image><text x=\"305.0\" y=\"177.0\" font-family=\"monospace\" font-size=\"12\">output2</text><rect x=\"125.0\" y=\"202\" width=\"75.0\" height=\"27\" style=\"fill:white;stroke:none\"><title>Weights from shared-hidden to output1\n output1/kernel has shape (5, 1)\n output1/bias has shape (1,)</title></rect><rect x=\"200.0\" y=\"202\" width=\"75.0\" height=\"27\" style=\"fill:white;stroke:none\"><title>Weights from shared-hidden to output2\n output2/kernel has shape (5, 1)\n output2/bias has shape (1,)</title></rect><line x1=\"200.0\" y1=\"229\" x2=\"125.0\" y2=\"202\" stroke=\"blue\" stroke-width=\"2\" marker-end=\"url(#arrow)\"><title>Weights from shared-hidden to output1\n output1/kernel has shape (5, 1)\n output1/bias has shape (1,)</title></line><line x1=\"200.0\" y1=\"229\" x2=\"275.0\" y2=\"202\" stroke=\"blue\" stroke-width=\"2\" marker-end=\"url(#arrow)\"><title>Weights from shared-hidden to output2\n output2/kernel has shape (5, 1)\n output2/bias has shape (1,)</title></line><rect x=\"174.0\" y=\"229\" width=\"52\" height=\"27\" style=\"fill:none;stroke:blue;stroke-width:2\"/><image id=\"XOR2_shared-hidden_3\" class=\"XOR2_shared-hidden\" x=\"175.0\" y=\"230\" height=\"25\" width=\"50\" preserveAspectRatio=\"none\" href=\"data:image/gif;base64,R0lGODdhBQABAIIAAF5eXnZ2dnd3d39/f5OTkwAAAAAAAAAAACwAAAAABQABAAAICAAJDAggAEBAADs=\"><title>Layer: shared-hidden (hidden)\n shape = (5,)\n Keras class = Dense\n activation = sigmoid</title></image><text x=\"230.0\" y=\"244.5\" font-family=\"monospace\" font-size=\"12\">shared-hidden</text><rect x=\"125.0\" y=\"257\" width=\"75.0\" height=\"27\" style=\"fill:white;stroke:none\"><title>Weights from hidden1 to shared-hidden\n shared-hidden/kernel has shape (20, 5)\n shared-hidden/bias has shape (5,)</title></rect><line x1=\"125.0\" y1=\"284\" x2=\"200.0\" y2=\"257\" stroke=\"blue\" stroke-width=\"2\" marker-end=\"url(#arrow)\"><title>Weights from hidden1 to shared-hidden\n shared-hidden/kernel has shape (20, 5)\n shared-hidden/bias has shape (5,)</title></line><rect x=\"99.0\" y=\"284\" width=\"52\" height=\"27\" style=\"fill:none;stroke:blue;stroke-width:2\"/><image id=\"XOR2_hidden1_4\" class=\"XOR2_hidden1\" x=\"100.0\" y=\"285\" height=\"25\" width=\"50\" preserveAspectRatio=\"none\" href=\"data:image/gif;base64,R0lGODdhCgABAIAAAH9/fwAAACwAAAAACgABAAAIBwABCBxIMCAAOw==\"><title>Layer: hidden1 (hidden)\n shape = (10,)\n Keras class = Dense\n activation = sigmoid</title></image><text x=\"155.0\" y=\"299.5\" font-family=\"monospace\" font-size=\"12\">hidden1</text><rect x=\"200.0\" y=\"257\" width=\"75.0\" height=\"27\" style=\"fill:white;stroke:none\"><title>Weights from hidden2 to shared-hidden\n shared-hidden/kernel has shape (20, 5)\n shared-hidden/bias has shape (5,)</title></rect><line x1=\"275.0\" y1=\"284\" x2=\"200.0\" y2=\"257\" stroke=\"blue\" stroke-width=\"2\" marker-end=\"url(#arrow)\"><title>Weights from hidden2 to shared-hidden\n shared-hidden/kernel has shape (20, 5)\n shared-hidden/bias has shape (5,)</title></line><rect x=\"249.0\" y=\"284\" width=\"52\" height=\"27\" style=\"fill:none;stroke:blue;stroke-width:2\"/><image id=\"XOR2_hidden2_5\" class=\"XOR2_hidden2\" x=\"250.0\" y=\"285\" height=\"25\" width=\"50\" preserveAspectRatio=\"none\" href=\"data:image/gif;base64,R0lGODdhCgABAIAAAH9/fwAAACwAAAAACgABAAAIBwABCBxIMCAAOw==\"><title>Layer: hidden2 (hidden)\n shape = (10,)\n Keras class = Dense\n activation = sigmoid</title></image><text x=\"305.0\" y=\"299.5\" font-family=\"monospace\" font-size=\"12\">hidden2</text><rect x=\"115.0\" y=\"312\" width=\"20.0\" height=\"27\" style=\"fill:white;stroke:none\"><title>Weights from input1 to hidden1\n hidden1/kernel has shape (1, 10)\n hidden1/bias has shape (10,)</title></rect><line x1=\"125.0\" y1=\"339\" x2=\"125.0\" y2=\"312\" stroke=\"blue\" stroke-width=\"2\" marker-end=\"url(#arrow)\"><title>Weights from input1 to hidden1\n hidden1/kernel has shape (1, 10)\n hidden1/bias has shape (10,)</title></line><rect x=\"99.0\" y=\"339\" width=\"52\" height=\"52\" style=\"fill:none;stroke:blue;stroke-width:2\"/><image id=\"XOR2_input1_6\" class=\"XOR2_input1\" x=\"100.0\" y=\"340\" height=\"50\" width=\"50\" preserveAspectRatio=\"none\" href=\"data:image/gif;base64,R0lGODdhAQABAIAAAH9/fwAAACwAAAAAAQABAAAIBQABrAgIADs=\"><title>Layer: input1 (input)\n shape = (1,)\n Keras class = Input</title></image><text x=\"155.0\" y=\"367.0\" font-family=\"monospace\" font-size=\"12\">input1</text><rect x=\"265.0\" y=\"312\" width=\"20.0\" height=\"27\" style=\"fill:white;stroke:none\"><title>Weights from input2 to hidden2\n hidden2/kernel has shape (1, 10)\n hidden2/bias has shape (10,)</title></rect><line x1=\"275.0\" y1=\"339\" x2=\"275.0\" y2=\"312\" stroke=\"blue\" stroke-width=\"2\" marker-end=\"url(#arrow)\"><title>Weights from input2 to hidden2\n hidden2/kernel has shape (1, 10)\n hidden2/bias has shape (10,)</title></line><rect x=\"249.0\" y=\"339\" width=\"52\" height=\"52\" style=\"fill:none;stroke:blue;stroke-width:2\"/><image id=\"XOR2_input2_7\" class=\"XOR2_input2\" x=\"250.0\" y=\"340\" height=\"50\" width=\"50\" preserveAspectRatio=\"none\" href=\"data:image/gif;base64,R0lGODdhAQABAIAAAH9/fwAAACwAAAAAAQABAAAIBQABrAgIADs=\"><title>Layer: input2 (input)\n shape = (1,)\n Keras class = Input</title></image><text x=\"305.0\" y=\"367.0\" font-family=\"monospace\" font-size=\"12\">input2</text></svg>"
      }
     },
     "1710b17576fc42e4a7ff111d5e99669a": {
      "model_module": "jupyter-js-widgets",
      "model_module_version": "~2.1.4",
      "model_name": "LayoutModel",
      "state": {
       "_model_module_version": "~2.1.4",
       "_view_module_version": "~2.1.4",
       "width": "100%"
      }
     },
     "1976812e75a04f4697fc063fd151d6a9": {
      "model_module": "jupyter-js-widgets",
      "model_module_version": "~2.1.4",
      "model_name": "ButtonStyleModel",
      "state": {
       "_model_module_version": "~2.1.4",
       "_view_module_version": "~2.1.4"
      }
     },
     "19f87e4c080c4aa59a8073ad53ee4314": {
      "model_module": "jupyter-js-widgets",
      "model_module_version": "~2.1.4",
      "model_name": "HBoxModel",
      "state": {
       "_model_module_version": "~2.1.4",
       "_view_module_version": "~2.1.4",
       "children": [
        "IPY_MODEL_8c46f8934c2648d6a345830cbc47d63e",
        "IPY_MODEL_b02e0584a7f64c51892b3a761c441c93",
        "IPY_MODEL_5651a5eb2c5f4ca49fc87aa8e0aa9efe",
        "IPY_MODEL_4b618de6d48d456ea78fd8a344108188",
        "IPY_MODEL_e9ce3714c46d4c16b00e60a3c50562b7"
       ],
       "layout": "IPY_MODEL_fa85b1df0c284fba8b16b6f33f8eab85"
      }
     },
     "1b579505c77741faacd82bd54ca31bfd": {
      "model_module": "jupyter-js-widgets",
      "model_module_version": "~2.1.4",
      "model_name": "ButtonStyleModel",
      "state": {
       "_model_module_version": "~2.1.4",
       "_view_module_version": "~2.1.4"
      }
     },
     "1c05a9e630944e578293003739f0ddc1": {
      "model_module": "jupyter-js-widgets",
      "model_module_version": "~2.1.4",
      "model_name": "ButtonStyleModel",
      "state": {
       "_model_module_version": "~2.1.4",
       "_view_module_version": "~2.1.4"
      }
     },
     "1c67d6cb94d8403aa46fa1e76abc9b18": {
      "model_module": "jupyter-js-widgets",
      "model_module_version": "~2.1.4",
      "model_name": "ButtonModel",
      "state": {
       "_model_module_version": "~2.1.4",
       "_view_module_version": "~2.1.4",
       "icon": "fast-forward",
       "layout": "IPY_MODEL_5b85251c209e4a4581b8b7c942799ab0",
       "style": "IPY_MODEL_612ddabb78334651af2d3deb6f08f65e"
      }
     },
     "1c7f1dac9cdf4b7da1d8c80f6a747218": {
      "model_module": "jupyter-js-widgets",
      "model_module_version": "~2.1.4",
      "model_name": "LayoutModel",
      "state": {
       "_model_module_version": "~2.1.4",
       "_view_module_version": "~2.1.4",
       "width": "100%"
      }
     },
     "1d969475fdce4635a2e0b5f487159661": {
      "model_module": "jupyter-js-widgets",
      "model_module_version": "~2.1.4",
      "model_name": "LayoutModel",
      "state": {
       "_model_module_version": "~2.1.4",
       "_view_module_version": "~2.1.4",
       "width": "100%"
      }
     },
     "1fa81aa7ad804af48afed587ad90ff7a": {
      "model_module": "jupyter-js-widgets",
      "model_module_version": "~2.1.4",
      "model_name": "ButtonStyleModel",
      "state": {
       "_model_module_version": "~2.1.4",
       "_view_module_version": "~2.1.4"
      }
     },
     "1fba74557e9d4d2c8ba655cd87ae6eae": {
      "model_module": "jupyter-js-widgets",
      "model_module_version": "~2.1.4",
      "model_name": "ButtonModel",
      "state": {
       "_model_module_version": "~2.1.4",
       "_view_module_version": "~2.1.4",
       "icon": "forward",
       "layout": "IPY_MODEL_670c8899c7994af1b2c721d033f25d29",
       "style": "IPY_MODEL_6b20ce5626c94aab9b2ec0c772e19c35"
      }
     },
     "213bf89591aa4bc3b10b302352524227": {
      "model_module": "jupyter-js-widgets",
      "model_module_version": "~2.1.4",
      "model_name": "ButtonModel",
      "state": {
       "_model_module_version": "~2.1.4",
       "_view_module_version": "~2.1.4",
       "icon": "forward",
       "layout": "IPY_MODEL_720398b3500442dab7c0d8187f182f15",
       "style": "IPY_MODEL_dbbe8e8cb7b445cca6afb72188168d43"
      }
     },
     "215714f7684942f1855549e3ea105b70": {
      "model_module": "jupyter-js-widgets",
      "model_module_version": "~2.1.4",
      "model_name": "LayoutModel",
      "state": {
       "_model_module_version": "~2.1.4",
       "_view_module_version": "~2.1.4",
       "width": "100%"
      }
     },
     "22474d85aafc4a9a89fc4a03454a2b09": {
      "model_module": "jupyter-js-widgets",
      "model_module_version": "~2.1.4",
      "model_name": "HBoxModel",
      "state": {
       "_model_module_version": "~2.1.4",
       "_view_module_version": "~2.1.4",
       "children": [
        "IPY_MODEL_c77b024d83584b17831423561698f453",
        "IPY_MODEL_3b0b9ddbb17940ff81fb24dba6c3e4fe",
        "IPY_MODEL_f95ce6718e4d4066af0fee45681e9c36",
        "IPY_MODEL_9c30a80ab5b246e194a1010d1c75445a",
        "IPY_MODEL_4e6bbe92c61845f59792d1b5a666f4dc"
       ],
       "layout": "IPY_MODEL_37de6e05c05845abb67272cd0d5260bd"
      }
     },
     "2335a1bb27af4b4db39bdb11393008d0": {
      "model_module": "jupyter-js-widgets",
      "model_module_version": "~2.1.4",
      "model_name": "ButtonModel",
      "state": {
       "_model_module_version": "~2.1.4",
       "_view_module_version": "~2.1.4",
       "icon": "forward",
       "layout": "IPY_MODEL_1c7f1dac9cdf4b7da1d8c80f6a747218",
       "style": "IPY_MODEL_865b3612c4d7469ca1bd54e93c7fdf0b"
      }
     },
     "24f5445fadc346e7b82f73efabfce919": {
      "model_module": "jupyter-js-widgets",
      "model_module_version": "~2.1.4",
      "model_name": "LayoutModel",
      "state": {
       "_model_module_version": "~2.1.4",
       "_view_module_version": "~2.1.4"
      }
     },
     "2598d4c8593b468a8d81c1e5e3030168": {
      "model_module": "jupyter-js-widgets",
      "model_module_version": "~2.1.4",
      "model_name": "SliderStyleModel",
      "state": {
       "_model_module_version": "~2.1.4",
       "_view_module_version": "~2.1.4"
      }
     },
     "265449cfee1b47828ad12bf035480327": {
      "model_module": "jupyter-js-widgets",
      "model_module_version": "~2.1.4",
      "model_name": "LayoutModel",
      "state": {
       "_model_module_version": "~2.1.4",
       "_view_module_version": "~2.1.4",
       "width": "100%"
      }
     },
     "268bc9aa6111408582bc7b3b970c946c": {
      "model_module": "jupyter-js-widgets",
      "model_module_version": "~2.1.4",
      "model_name": "LayoutModel",
      "state": {
       "_model_module_version": "~2.1.4",
       "_view_module_version": "~2.1.4",
       "height": "100%",
       "max_height": "550px",
       "overflow_x": "auto",
       "width": "100%"
      }
     },
     "27e360ef1868474996bc5642ac793fc1": {
      "model_module": "jupyter-js-widgets",
      "model_module_version": "~2.1.4",
      "model_name": "IntSliderModel",
      "state": {
       "_model_module_version": "~2.1.4",
       "_view_module_version": "~2.1.4",
       "continuous_update": false,
       "description": "Dataset index",
       "layout": "IPY_MODEL_0e167e6871cc40838bc1ebc44aa4c821",
       "max": 3,
       "style": "IPY_MODEL_c6dc8283cc854832b255db3cd2d6c304"
      }
     },
     "297d99095bb04452aa79b6e540156cd0": {
      "model_module": "jupyter-js-widgets",
      "model_module_version": "~2.1.4",
      "model_name": "ButtonStyleModel",
      "state": {
       "_model_module_version": "~2.1.4",
       "_view_module_version": "~2.1.4"
      }
     },
     "2997842ae12a41f489a2e86a5d4e2de2": {
      "model_module": "jupyter-js-widgets",
      "model_module_version": "~2.1.4",
      "model_name": "ButtonStyleModel",
      "state": {
       "_model_module_version": "~2.1.4",
       "_view_module_version": "~2.1.4"
      }
     },
     "2a721707efae46a7a726b60c198d5970": {
      "model_module": "jupyter-js-widgets",
      "model_module_version": "~2.1.4",
      "model_name": "LayoutModel",
      "state": {
       "_model_module_version": "~2.1.4",
       "_view_module_version": "~2.1.4",
       "width": "100%"
      }
     },
     "2b5beb70bbb548e1a47bbf9b6ca72a6d": {
      "model_module": "jupyter-js-widgets",
      "model_module_version": "~2.1.4",
      "model_name": "VBoxModel",
      "state": {
       "_model_module_version": "~2.1.4",
       "_view_module_version": "~2.1.4",
       "children": [
        "IPY_MODEL_d61018c5bfe8443093b8a439c9e0b7e6",
        "IPY_MODEL_4c66614f34dd410b96bb9e5ac9a46cbc"
       ],
       "layout": "IPY_MODEL_65f975d36456421fb272244426e99533"
      }
     },
     "2c1f7557d95b421d925f88554b67d585": {
      "model_module": "jupyter-js-widgets",
      "model_module_version": "~2.1.4",
      "model_name": "ButtonModel",
      "state": {
       "_model_module_version": "~2.1.4",
       "_view_module_version": "~2.1.4",
       "icon": "backward",
       "layout": "IPY_MODEL_8ea459f631a54b94884d0e6e63e298c7",
       "style": "IPY_MODEL_ba15dd79a9b94820bc7602d717537fc5"
      }
     },
     "2c3d3f1ae1924d8a9a3b228ed84cd00a": {
      "model_module": "jupyter-js-widgets",
      "model_module_version": "~2.1.4",
      "model_name": "VBoxModel",
      "state": {
       "_model_module_version": "~2.1.4",
       "_view_module_version": "~2.1.4",
       "children": [
        "IPY_MODEL_6d37d1843853493e9b2c2cb26b391dfc",
        "IPY_MODEL_d84dc2cb76ad4bae956b79de181396d7"
       ],
       "layout": "IPY_MODEL_339298257ed34a3f87953abd07c49aa4"
      }
     },
     "2caca38af78e42aea1c7bd7b7f4e98ec": {
      "model_module": "jupyter-js-widgets",
      "model_module_version": "~2.1.4",
      "model_name": "LayoutModel",
      "state": {
       "_model_module_version": "~2.1.4",
       "_view_module_version": "~2.1.4"
      }
     },
     "2cff3155f7f44509a0ec5c4dc9772a00": {
      "model_module": "jupyter-js-widgets",
      "model_module_version": "~2.1.4",
      "model_name": "LayoutModel",
      "state": {
       "_model_module_version": "~2.1.4",
       "_view_module_version": "~2.1.4",
       "height": "100%",
       "max_height": "550px",
       "overflow_x": "auto",
       "width": "100%"
      }
     },
     "2d8309c1dcc14bd1955db382f7b923f8": {
      "model_module": "jupyter-js-widgets",
      "model_module_version": "~2.1.4",
      "model_name": "LayoutModel",
      "state": {
       "_model_module_version": "~2.1.4",
       "_view_module_version": "~2.1.4",
       "width": "100%"
      }
     },
     "2de3a76846ca4a938290c67cf65c205b": {
      "model_module": "jupyter-js-widgets",
      "model_module_version": "~2.1.4",
      "model_name": "LayoutModel",
      "state": {
       "_model_module_version": "~2.1.4",
       "_view_module_version": "~2.1.4",
       "width": "100%"
      }
     },
     "2e30c2e23ca148f69a8feb6d3414120a": {
      "model_module": "jupyter-js-widgets",
      "model_module_version": "~2.1.4",
      "model_name": "LayoutModel",
      "state": {
       "_model_module_version": "~2.1.4",
       "_view_module_version": "~2.1.4",
       "width": "100%"
      }
     },
     "2e344ef71658412fbdf3ae3c6b7597f6": {
      "model_module": "jupyter-js-widgets",
      "model_module_version": "~2.1.4",
      "model_name": "LayoutModel",
      "state": {
       "_model_module_version": "~2.1.4",
       "_view_module_version": "~2.1.4",
       "width": "100%"
      }
     },
     "2e8054c5b3d64eaba97dff438cfe783e": {
      "model_module": "jupyter-js-widgets",
      "model_module_version": "~2.1.4",
      "model_name": "ButtonStyleModel",
      "state": {
       "_model_module_version": "~2.1.4",
       "_view_module_version": "~2.1.4"
      }
     },
     "2ec39d924f194bed848e1f8a12a4f6a7": {
      "model_module": "jupyter-js-widgets",
      "model_module_version": "~2.1.4",
      "model_name": "ButtonModel",
      "state": {
       "_model_module_version": "~2.1.4",
       "_view_module_version": "~2.1.4",
       "icon": "fast-forward",
       "layout": "IPY_MODEL_fe574d589bfe4ad9b5ee9f82a8accd6b",
       "style": "IPY_MODEL_a9054d57fb7b442490ceb0a2b7b4fd7a"
      }
     },
     "2f6bb4b6ec37403482efcd218f9b9845": {
      "model_module": "jupyter-js-widgets",
      "model_module_version": "~2.1.4",
      "model_name": "ButtonStyleModel",
      "state": {
       "_model_module_version": "~2.1.4",
       "_view_module_version": "~2.1.4"
      }
     },
     "2fbca304fd9f49fcbb42ebba9474de41": {
      "model_module": "jupyter-js-widgets",
      "model_module_version": "~2.1.4",
      "model_name": "SelectModel",
      "state": {
       "_model_module_version": "~2.1.4",
       "_options_labels": [
        "Test",
        "Train"
       ],
       "_view_module_version": "~2.1.4",
       "description": "Dataset:",
       "layout": "IPY_MODEL_2caca38af78e42aea1c7bd7b7f4e98ec",
       "value": "Train"
      }
     },
     "2fc129f1d7d24dc9aa971053e09abd09": {
      "model_module": "jupyter-js-widgets",
      "model_module_version": "~2.1.4",
      "model_name": "SelectModel",
      "state": {
       "_model_module_version": "~2.1.4",
       "_options_labels": [
        "Test",
        "Train"
       ],
       "_view_module_version": "~2.1.4",
       "description": "Dataset:",
       "layout": "IPY_MODEL_cd9e5523f15c48dea1dc62d5361bc662",
       "value": "Train"
      }
     },
     "30640f2cf687427a8b5ba90cf7bee7c4": {
      "model_module": "jupyter-js-widgets",
      "model_module_version": "~2.1.4",
      "model_name": "LayoutModel",
      "state": {
       "_model_module_version": "~2.1.4",
       "_view_module_version": "~2.1.4",
       "width": "100%"
      }
     },
     "31dfa9e05f324c168e4480a8b50df06b": {
      "model_module": "jupyter-js-widgets",
      "model_module_version": "~2.1.4",
      "model_name": "ButtonStyleModel",
      "state": {
       "_model_module_version": "~2.1.4",
       "_view_module_version": "~2.1.4"
      }
     },
     "32ba62b244254298be419af381f44ca2": {
      "model_module": "jupyter-js-widgets",
      "model_module_version": "~2.1.4",
      "model_name": "HBoxModel",
      "state": {
       "_model_module_version": "~2.1.4",
       "_view_module_version": "~2.1.4",
       "children": [
        "IPY_MODEL_4d5e9c694194493ca51d92bc1cd8ead4",
        "IPY_MODEL_4d0477f788164994813e3606eefed008",
        "IPY_MODEL_11ec815b4da74913b65ef3c724884b22",
        "IPY_MODEL_adc79d9751bf4062af7fdb65611f0e70",
        "IPY_MODEL_7d7b5dcfb41e442f852192cee6a11a49"
       ],
       "layout": "IPY_MODEL_b3412454557a46c2977ccbfc3abfa0db"
      }
     },
     "33152dacd6f14385b830c7d9a44e1728": {
      "model_module": "jupyter-js-widgets",
      "model_module_version": "~2.1.4",
      "model_name": "LayoutModel",
      "state": {
       "_model_module_version": "~2.1.4",
       "_view_module_version": "~2.1.4",
       "width": "100%"
      }
     },
     "334b7a618be241d6a5bb3282930d1edc": {
      "model_module": "jupyter-js-widgets",
      "model_module_version": "~2.1.4",
      "model_name": "LayoutModel",
      "state": {
       "_model_module_version": "~2.1.4",
       "_view_module_version": "~2.1.4",
       "width": "100%"
      }
     },
     "33864519c83d4ca8b78e5ebd422200e7": {
      "model_module": "jupyter-js-widgets",
      "model_module_version": "~2.1.4",
      "model_name": "SliderStyleModel",
      "state": {
       "_model_module_version": "~2.1.4",
       "_view_module_version": "~2.1.4"
      }
     },
     "339298257ed34a3f87953abd07c49aa4": {
      "model_module": "jupyter-js-widgets",
      "model_module_version": "~2.1.4",
      "model_name": "LayoutModel",
      "state": {
       "_model_module_version": "~2.1.4",
       "_view_module_version": "~2.1.4",
       "width": "100%"
      }
     },
     "340dccf3d56e4c95b58c3502dacccfcc": {
      "model_module": "jupyter-js-widgets",
      "model_module_version": "~2.1.4",
      "model_name": "LayoutModel",
      "state": {
       "_model_module_version": "~2.1.4",
       "_view_module_version": "~2.1.4",
       "width": "100%"
      }
     },
     "3507b333fa40468e9c9d2c9db860202e": {
      "model_module": "jupyter-js-widgets",
      "model_module_version": "~2.1.4",
      "model_name": "SelectModel",
      "state": {
       "_model_module_version": "~2.1.4",
       "_options_labels": [
        "Test",
        "Train"
       ],
       "_view_module_version": "~2.1.4",
       "description": "Dataset:",
       "layout": "IPY_MODEL_24f5445fadc346e7b82f73efabfce919",
       "value": "Train"
      }
     },
     "3560b8135726472cbc041df3d99fda30": {
      "model_module": "jupyter-js-widgets",
      "model_module_version": "~2.1.4",
      "model_name": "LayoutModel",
      "state": {
       "_model_module_version": "~2.1.4",
       "_view_module_version": "~2.1.4",
       "width": "100%"
      }
     },
     "356e0cd49af44f1bb1f69bfb97b850b4": {
      "model_module": "jupyter-js-widgets",
      "model_module_version": "~2.1.4",
      "model_name": "LayoutModel",
      "state": {
       "_model_module_version": "~2.1.4",
       "_view_module_version": "~2.1.4",
       "width": "100%"
      }
     },
     "3655f87e3cf2451bb465a658dc0d0687": {
      "model_module": "jupyter-js-widgets",
      "model_module_version": "~2.1.4",
      "model_name": "LayoutModel",
      "state": {
       "_model_module_version": "~2.1.4",
       "_view_module_version": "~2.1.4",
       "width": "100%"
      }
     },
     "37a94cb2d4ed4740abae71d5488f4453": {
      "model_module": "jupyter-js-widgets",
      "model_module_version": "~2.1.4",
      "model_name": "LayoutModel",
      "state": {
       "_model_module_version": "~2.1.4",
       "_view_module_version": "~2.1.4",
       "width": "100%"
      }
     },
     "37de6e05c05845abb67272cd0d5260bd": {
      "model_module": "jupyter-js-widgets",
      "model_module_version": "~2.1.4",
      "model_name": "LayoutModel",
      "state": {
       "_model_module_version": "~2.1.4",
       "_view_module_version": "~2.1.4",
       "width": "100%"
      }
     },
     "384c6e9ef7c141e784c9b5d8a4cc9f35": {
      "model_module": "jupyter-js-widgets",
      "model_module_version": "~2.1.4",
      "model_name": "ButtonStyleModel",
      "state": {
       "_model_module_version": "~2.1.4",
       "_view_module_version": "~2.1.4"
      }
     },
     "38c3317ffd534cbc8ed1404ad831f96f": {
      "model_module": "jupyter-js-widgets",
      "model_module_version": "~2.1.4",
      "model_name": "LayoutModel",
      "state": {
       "_model_module_version": "~2.1.4",
       "_view_module_version": "~2.1.4",
       "height": "100%",
       "max_height": "550px",
       "overflow_x": "auto",
       "width": "100%"
      }
     },
     "3928857d66f54462a4c541255159f235": {
      "model_module": "jupyter-js-widgets",
      "model_module_version": "~2.1.4",
      "model_name": "LayoutModel",
      "state": {
       "_model_module_version": "~2.1.4",
       "_view_module_version": "~2.1.4"
      }
     },
     "399fd819a7a949a8bbedab1ca82e1e76": {
      "model_module": "jupyter-js-widgets",
      "model_module_version": "~2.1.4",
      "model_name": "ButtonModel",
      "state": {
       "_model_module_version": "~2.1.4",
       "_view_module_version": "~2.1.4",
       "description": "Train",
       "layout": "IPY_MODEL_9640a9f69ad04505b0a708d7e3134201",
       "style": "IPY_MODEL_e1b610ff95424e58893638f515848a41"
      }
     },
     "39adfab8b19e4370a87f9473b0ef8216": {
      "model_module": "jupyter-js-widgets",
      "model_module_version": "~2.1.4",
      "model_name": "ButtonModel",
      "state": {
       "_model_module_version": "~2.1.4",
       "_view_module_version": "~2.1.4",
       "icon": "fast-forward",
       "layout": "IPY_MODEL_0d52bfdcbc4a4403bf0fff9aab5140a1",
       "style": "IPY_MODEL_77a4b291521e49ff8d825fd3a114c788"
      }
     },
     "39b9655d816f42b4aa09eec3fd89bfe5": {
      "model_module": "jupyter-js-widgets",
      "model_module_version": "~2.1.4",
      "model_name": "SelectModel",
      "state": {
       "_model_module_version": "~2.1.4",
       "_options_labels": [
        "Test",
        "Train"
       ],
       "_view_module_version": "~2.1.4",
       "description": "Dataset:",
       "layout": "IPY_MODEL_e6080f4c9a5e4b148af95323f66ef1c2",
       "value": "Train"
      }
     },
     "3a849a2c191241aa970bc9faef186fc0": {
      "model_module": "jupyter-js-widgets",
      "model_module_version": "~2.1.4",
      "model_name": "LayoutModel",
      "state": {
       "_model_module_version": "~2.1.4",
       "_view_module_version": "~2.1.4",
       "height": "100%",
       "max_height": "550px",
       "overflow_x": "auto",
       "width": "100%"
      }
     },
     "3b0b9ddbb17940ff81fb24dba6c3e4fe": {
      "model_module": "jupyter-js-widgets",
      "model_module_version": "~2.1.4",
      "model_name": "ButtonModel",
      "state": {
       "_model_module_version": "~2.1.4",
       "_view_module_version": "~2.1.4",
       "icon": "backward",
       "layout": "IPY_MODEL_576dccb58b7440e4a1df86c5c262d377",
       "style": "IPY_MODEL_14337b12e1424c46ab40900720d86275"
      }
     },
     "3b1466773dbe4084b2f7d40594ab8c7a": {
      "model_module": "jupyter-js-widgets",
      "model_module_version": "~2.1.4",
      "model_name": "LayoutModel",
      "state": {
       "_model_module_version": "~2.1.4",
       "_view_module_version": "~2.1.4",
       "width": "100%"
      }
     },
     "3c6ecf27c54649c6999d6aab0bdf2b75": {
      "model_module": "jupyter-js-widgets",
      "model_module_version": "~2.1.4",
      "model_name": "LayoutModel",
      "state": {
       "_model_module_version": "~2.1.4",
       "_view_module_version": "~2.1.4",
       "width": "100%"
      }
     },
     "3cf3601e89ff4554948a45aea31c1b40": {
      "model_module": "jupyter-js-widgets",
      "model_module_version": "~2.1.4",
      "model_name": "ButtonModel",
      "state": {
       "_model_module_version": "~2.1.4",
       "_view_module_version": "~2.1.4",
       "description": "Train",
       "layout": "IPY_MODEL_e9ecf5b003b9419ca895018ebcb70066",
       "style": "IPY_MODEL_c054426c52a0469b9ed15d473b178ee6"
      }
     },
     "3e7342b40c394255a54e53848b507ba6": {
      "model_module": "jupyter-js-widgets",
      "model_module_version": "~2.1.4",
      "model_name": "SliderStyleModel",
      "state": {
       "_model_module_version": "~2.1.4",
       "_view_module_version": "~2.1.4"
      }
     },
     "3e947788742243ce816be2419620c33f": {
      "model_module": "jupyter-js-widgets",
      "model_module_version": "~2.1.4",
      "model_name": "ButtonStyleModel",
      "state": {
       "_model_module_version": "~2.1.4",
       "_view_module_version": "~2.1.4"
      }
     },
     "4000a494a15d4f61b22dd13f3e7b449f": {
      "model_module": "jupyter-js-widgets",
      "model_module_version": "~2.1.4",
      "model_name": "ButtonModel",
      "state": {
       "_model_module_version": "~2.1.4",
       "_view_module_version": "~2.1.4",
       "icon": "forward",
       "layout": "IPY_MODEL_448850054f1d4a2b960a2c432538fda6",
       "style": "IPY_MODEL_4bcdc3e6dd754caa88eb3756ab95c3d2"
      }
     },
     "408fee43cd9349f0a606377170863662": {
      "model_module": "jupyter-js-widgets",
      "model_module_version": "~2.1.4",
      "model_name": "LayoutModel",
      "state": {
       "_model_module_version": "~2.1.4",
       "_view_module_version": "~2.1.4",
       "width": "100%"
      }
     },
     "4108e72f3337466eac88e4506ec5db6e": {
      "model_module": "jupyter-js-widgets",
      "model_module_version": "~2.1.4",
      "model_name": "IntSliderModel",
      "state": {
       "_model_module_version": "~2.1.4",
       "_view_module_version": "~2.1.4",
       "continuous_update": false,
       "description": "Dataset index",
       "layout": "IPY_MODEL_c161855e863f45f2b59adc8b2b49e08b",
       "max": 3,
       "style": "IPY_MODEL_fab612f2985c40209fb1259bd51a15b5"
      }
     },
     "41f28c2e17eb411fba547b5e4e411eef": {
      "model_module": "jupyter-js-widgets",
      "model_module_version": "~2.1.4",
      "model_name": "IntSliderModel",
      "state": {
       "_model_module_version": "~2.1.4",
       "_view_module_version": "~2.1.4",
       "continuous_update": false,
       "description": "Dataset index",
       "layout": "IPY_MODEL_5c80eb58a74e4f398224904fdf9d250f",
       "max": 0,
       "style": "IPY_MODEL_d5e712c19b4244949fb7c97a58a9e7b4"
      }
     },
     "426ce15a9dd54177be256f563f26f0be": {
      "model_module": "jupyter-js-widgets",
      "model_module_version": "~2.1.4",
      "model_name": "VBoxModel",
      "state": {
       "_model_module_version": "~2.1.4",
       "_view_module_version": "~2.1.4",
       "children": [
        "IPY_MODEL_e0e5f237209f445cb76c48b911f3add9",
        "IPY_MODEL_abc6b4bcfb1448679a28d575d7415070"
       ],
       "layout": "IPY_MODEL_ea42a8717dde46b69a9eae28ed91026d"
      }
     },
     "43edc825e8db4186803b717ce7f17542": {
      "model_module": "jupyter-js-widgets",
      "model_module_version": "~2.1.4",
      "model_name": "LayoutModel",
      "state": {
       "_model_module_version": "~2.1.4",
       "_view_module_version": "~2.1.4",
       "width": "100%"
      }
     },
     "448850054f1d4a2b960a2c432538fda6": {
      "model_module": "jupyter-js-widgets",
      "model_module_version": "~2.1.4",
      "model_name": "LayoutModel",
      "state": {
       "_model_module_version": "~2.1.4",
       "_view_module_version": "~2.1.4",
       "width": "100%"
      }
     },
     "481931e1df8c499dbf555d0a90a41148": {
      "model_module": "jupyter-js-widgets",
      "model_module_version": "~2.1.4",
      "model_name": "VBoxModel",
      "state": {
       "_model_module_version": "~2.1.4",
       "_view_module_version": "~2.1.4",
       "children": [
        "IPY_MODEL_8fd9fbf4715145b786d4d085b413e14f",
        "IPY_MODEL_4108e72f3337466eac88e4506ec5db6e",
        "IPY_MODEL_716fd1b4ce554477a24eb383fbd35f53"
       ],
       "layout": "IPY_MODEL_a29e6376c0384340b7de47f5194e6338"
      }
     },
     "487e314fcd12477790f8f0d93b492fda": {
      "model_module": "jupyter-js-widgets",
      "model_module_version": "~2.1.4",
      "model_name": "LayoutModel",
      "state": {
       "_model_module_version": "~2.1.4",
       "_view_module_version": "~2.1.4",
       "width": "100%"
      }
     },
     "4aadfdf16c99445695cfe843faf168b1": {
      "model_module": "jupyter-js-widgets",
      "model_module_version": "~2.1.4",
      "model_name": "ButtonModel",
      "state": {
       "_model_module_version": "~2.1.4",
       "_view_module_version": "~2.1.4",
       "icon": "backward",
       "layout": "IPY_MODEL_108feaaaa5964682a0503ff8485d0625",
       "style": "IPY_MODEL_e28dc57a953c4721b815ef622d4b52a8"
      }
     },
     "4b618de6d48d456ea78fd8a344108188": {
      "model_module": "jupyter-js-widgets",
      "model_module_version": "~2.1.4",
      "model_name": "ButtonModel",
      "state": {
       "_model_module_version": "~2.1.4",
       "_view_module_version": "~2.1.4",
       "icon": "forward",
       "layout": "IPY_MODEL_7637f7d886014adc9ceb4cbcf19e0780",
       "style": "IPY_MODEL_929a6cbb9ba64ab1b3d4bad31cb18266"
      }
     },
     "4bcdc3e6dd754caa88eb3756ab95c3d2": {
      "model_module": "jupyter-js-widgets",
      "model_module_version": "~2.1.4",
      "model_name": "ButtonStyleModel",
      "state": {
       "_model_module_version": "~2.1.4",
       "_view_module_version": "~2.1.4"
      }
     },
     "4c66614f34dd410b96bb9e5ac9a46cbc": {
      "model_module": "jupyter-js-widgets",
      "model_module_version": "~2.1.4",
      "model_name": "VBoxModel",
      "state": {
       "_model_module_version": "~2.1.4",
       "_view_module_version": "~2.1.4",
       "children": [
        "IPY_MODEL_3507b333fa40468e9c9d2c9db860202e",
        "IPY_MODEL_41f28c2e17eb411fba547b5e4e411eef",
        "IPY_MODEL_e67a993662ae475ab8d67b0116ed6dd8"
       ],
       "layout": "IPY_MODEL_2a721707efae46a7a726b60c198d5970"
      }
     },
     "4cb15053c7854eaead9ecb8bb0e6d803": {
      "model_module": "jupyter-js-widgets",
      "model_module_version": "~2.1.4",
      "model_name": "LayoutModel",
      "state": {
       "_model_module_version": "~2.1.4",
       "_view_module_version": "~2.1.4",
       "height": "100%",
       "max_height": "550px",
       "overflow_x": "auto",
       "width": "100%"
      }
     },
     "4d0477f788164994813e3606eefed008": {
      "model_module": "jupyter-js-widgets",
      "model_module_version": "~2.1.4",
      "model_name": "ButtonModel",
      "state": {
       "_model_module_version": "~2.1.4",
       "_view_module_version": "~2.1.4",
       "icon": "backward",
       "layout": "IPY_MODEL_0298ffe98564482690dde335c52665c5",
       "style": "IPY_MODEL_53cef9705533457e96e43a712328ed43"
      }
     },
     "4d5e9c694194493ca51d92bc1cd8ead4": {
      "model_module": "jupyter-js-widgets",
      "model_module_version": "~2.1.4",
      "model_name": "ButtonModel",
      "state": {
       "_model_module_version": "~2.1.4",
       "_view_module_version": "~2.1.4",
       "icon": "fast-backward",
       "layout": "IPY_MODEL_9d589baa825d4f74acc95253213712ce",
       "style": "IPY_MODEL_1fa81aa7ad804af48afed587ad90ff7a"
      }
     },
     "4e16ad26470c430bb996b99c4d13ea21": {
      "model_module": "jupyter-js-widgets",
      "model_module_version": "~2.1.4",
      "model_name": "LayoutModel",
      "state": {
       "_model_module_version": "~2.1.4",
       "_view_module_version": "~2.1.4",
       "width": "100%"
      }
     },
     "4e6bbe92c61845f59792d1b5a666f4dc": {
      "model_module": "jupyter-js-widgets",
      "model_module_version": "~2.1.4",
      "model_name": "ButtonModel",
      "state": {
       "_model_module_version": "~2.1.4",
       "_view_module_version": "~2.1.4",
       "icon": "fast-forward",
       "layout": "IPY_MODEL_ac181290b6f74d499e3720d3462dcd63",
       "style": "IPY_MODEL_924183bff6d44bf6be6ead992e55411c"
      }
     },
     "4f2507a54233462ca6f8f42ba8ae8caa": {
      "model_module": "jupyter-js-widgets",
      "model_module_version": "~2.1.4",
      "model_name": "LayoutModel",
      "state": {
       "_model_module_version": "~2.1.4",
       "_view_module_version": "~2.1.4",
       "width": "100%"
      }
     },
     "517e1367067b404d95ab67ccc34351ea": {
      "model_module": "jupyter-js-widgets",
      "model_module_version": "~2.1.4",
      "model_name": "VBoxModel",
      "state": {
       "_model_module_version": "~2.1.4",
       "_view_module_version": "~2.1.4",
       "children": [
        "IPY_MODEL_de572359e9474c379675164a5f76e727",
        "IPY_MODEL_6336e357f6694735833f14f8a459d8cd",
        "IPY_MODEL_a761243747b146559a3569b054ea4e3c"
       ],
       "layout": "IPY_MODEL_105d66f29f004799a4b2dd8416330799"
      }
     },
     "51a492f7eea341ebb7e6932b121ce027": {
      "model_module": "jupyter-js-widgets",
      "model_module_version": "~2.1.4",
      "model_name": "LayoutModel",
      "state": {
       "_model_module_version": "~2.1.4",
       "_view_module_version": "~2.1.4",
       "width": "100%"
      }
     },
     "52010c262a5a45949565964ed89965c3": {
      "model_module": "jupyter-js-widgets",
      "model_module_version": "~2.1.4",
      "model_name": "HBoxModel",
      "state": {
       "_model_module_version": "~2.1.4",
       "_view_module_version": "~2.1.4",
       "children": [
        "IPY_MODEL_863ea0f3fa414c7ca0362df97da5df90",
        "IPY_MODEL_cd675b964b9e49a2bc05f7ec511610fa",
        "IPY_MODEL_b5c7a222500c4036b3fd027e3e869325",
        "IPY_MODEL_f49be3e2bebe4e52a676b833c9e04040",
        "IPY_MODEL_39adfab8b19e4370a87f9473b0ef8216"
       ],
       "layout": "IPY_MODEL_c6f0e9cd4e174778a06a36bd17ca0300"
      }
     },
     "53cef9705533457e96e43a712328ed43": {
      "model_module": "jupyter-js-widgets",
      "model_module_version": "~2.1.4",
      "model_name": "ButtonStyleModel",
      "state": {
       "_model_module_version": "~2.1.4",
       "_view_module_version": "~2.1.4"
      }
     },
     "54298bdc643b4080aaeb58efdf8ae951": {
      "model_module": "jupyter-js-widgets",
      "model_module_version": "~2.1.4",
      "model_name": "ButtonModel",
      "state": {
       "_model_module_version": "~2.1.4",
       "_view_module_version": "~2.1.4",
       "icon": "forward",
       "layout": "IPY_MODEL_8b5c2eb9e0cb4ee1a38e78b650a83b5f",
       "style": "IPY_MODEL_2f6bb4b6ec37403482efcd218f9b9845"
      }
     },
     "5440230da34a4980ae4df0b9933f34be": {
      "model_module": "jupyter-js-widgets",
      "model_module_version": "~2.1.4",
      "model_name": "VBoxModel",
      "state": {
       "_model_module_version": "~2.1.4",
       "_view_module_version": "~2.1.4",
       "children": [
        "IPY_MODEL_735051cc78eb4ee58eb4bae5fd22bcd0",
        "IPY_MODEL_cd4d42e4fe58433e826b0bff312fa14c",
        "IPY_MODEL_10d035fac946443cb00bec76e2cfa63f"
       ],
       "layout": "IPY_MODEL_c6a68d3b31d94ec68c618425f7d94a4f"
      }
     },
     "5464d49da7ab4877b21cda769a2db763": {
      "model_module": "jupyter-js-widgets",
      "model_module_version": "~2.1.4",
      "model_name": "LayoutModel",
      "state": {
       "_model_module_version": "~2.1.4",
       "_view_module_version": "~2.1.4"
      }
     },
     "5601397864ec4512a55b99c510f93510": {
      "model_module": "jupyter-js-widgets",
      "model_module_version": "~2.1.4",
      "model_name": "HBoxModel",
      "state": {
       "_model_module_version": "~2.1.4",
       "_view_module_version": "~2.1.4",
       "children": [
        "IPY_MODEL_678feaf2a36a4ce4b36b46b9bec1aea5",
        "IPY_MODEL_823722df7d9c4ede9f5b1ad8a76f566f",
        "IPY_MODEL_ad0fa406d6804f4e964a0f04c533c495",
        "IPY_MODEL_e6dce42e1e9e4935af07d97075fb980d",
        "IPY_MODEL_81b8abfa01454c3780b5d7ed0a8006df"
       ],
       "layout": "IPY_MODEL_3655f87e3cf2451bb465a658dc0d0687"
      }
     },
     "5651a5eb2c5f4ca49fc87aa8e0aa9efe": {
      "model_module": "jupyter-js-widgets",
      "model_module_version": "~2.1.4",
      "model_name": "ButtonModel",
      "state": {
       "_model_module_version": "~2.1.4",
       "_view_module_version": "~2.1.4",
       "description": "Train",
       "layout": "IPY_MODEL_5e69e194d04743f1ba9dcc6cca93c206",
       "style": "IPY_MODEL_92cc54225ea1459e9c1e84d67c0f7468"
      }
     },
     "568caf6812d84b75844bb0eef8a1919e": {
      "model_module": "jupyter-js-widgets",
      "model_module_version": "~2.1.4",
      "model_name": "LayoutModel",
      "state": {
       "_model_module_version": "~2.1.4",
       "_view_module_version": "~2.1.4",
       "width": "100%"
      }
     },
     "56ce521da24840b19a7783773aa1e15d": {
      "model_module": "jupyter-js-widgets",
      "model_module_version": "~2.1.4",
      "model_name": "LayoutModel",
      "state": {
       "_model_module_version": "~2.1.4",
       "_view_module_version": "~2.1.4",
       "height": "100%",
       "max_height": "550px",
       "overflow_x": "auto",
       "width": "100%"
      }
     },
     "5761b366df7e479884a8ff2b51933fde": {
      "model_module": "jupyter-js-widgets",
      "model_module_version": "~2.1.4",
      "model_name": "VBoxModel",
      "state": {
       "_model_module_version": "~2.1.4",
       "_view_module_version": "~2.1.4",
       "children": [
        "IPY_MODEL_f97f400f011340c9949589df3d4e761b",
        "IPY_MODEL_481931e1df8c499dbf555d0a90a41148"
       ],
       "layout": "IPY_MODEL_d3f49daea8e84014b2189c399b31cece"
      }
     },
     "576dccb58b7440e4a1df86c5c262d377": {
      "model_module": "jupyter-js-widgets",
      "model_module_version": "~2.1.4",
      "model_name": "LayoutModel",
      "state": {
       "_model_module_version": "~2.1.4",
       "_view_module_version": "~2.1.4",
       "width": "100%"
      }
     },
     "57d5bc65bbc944fb8f45212daa788ad8": {
      "model_module": "jupyter-js-widgets",
      "model_module_version": "~2.1.4",
      "model_name": "LayoutModel",
      "state": {
       "_model_module_version": "~2.1.4",
       "_view_module_version": "~2.1.4",
       "width": "100%"
      }
     },
     "5b82ccbefd414414a9971da61ebaae4a": {
      "model_module": "jupyter-js-widgets",
      "model_module_version": "~2.1.4",
      "model_name": "ButtonModel",
      "state": {
       "_model_module_version": "~2.1.4",
       "_view_module_version": "~2.1.4",
       "icon": "fast-backward",
       "layout": "IPY_MODEL_97b736173982405e8621f8fa3fd9c5e3",
       "style": "IPY_MODEL_0c63b49d08014ef0b52a84dffd834b7f"
      }
     },
     "5b85251c209e4a4581b8b7c942799ab0": {
      "model_module": "jupyter-js-widgets",
      "model_module_version": "~2.1.4",
      "model_name": "LayoutModel",
      "state": {
       "_model_module_version": "~2.1.4",
       "_view_module_version": "~2.1.4",
       "width": "100%"
      }
     },
     "5bcfd9c1f96d4752abcdeb596c6336fa": {
      "model_module": "jupyter-js-widgets",
      "model_module_version": "~2.1.4",
      "model_name": "LayoutModel",
      "state": {
       "_model_module_version": "~2.1.4",
       "_view_module_version": "~2.1.4",
       "width": "100%"
      }
     },
     "5c80eb58a74e4f398224904fdf9d250f": {
      "model_module": "jupyter-js-widgets",
      "model_module_version": "~2.1.4",
      "model_name": "LayoutModel",
      "state": {
       "_model_module_version": "~2.1.4",
       "_view_module_version": "~2.1.4",
       "width": "100%"
      }
     },
     "5d0c086223be4af3b68d09effb52a965": {
      "model_module": "jupyter-js-widgets",
      "model_module_version": "~2.1.4",
      "model_name": "ButtonStyleModel",
      "state": {
       "_model_module_version": "~2.1.4",
       "_view_module_version": "~2.1.4"
      }
     },
     "5d1b3d88195047edb11eef2e171b031f": {
      "model_module": "jupyter-js-widgets",
      "model_module_version": "~2.1.4",
      "model_name": "LayoutModel",
      "state": {
       "_model_module_version": "~2.1.4",
       "_view_module_version": "~2.1.4",
       "width": "100%"
      }
     },
     "5d20dbb9f7c345c889040e20c52f0304": {
      "model_module": "jupyter-js-widgets",
      "model_module_version": "~2.1.4",
      "model_name": "ButtonModel",
      "state": {
       "_model_module_version": "~2.1.4",
       "_view_module_version": "~2.1.4",
       "icon": "forward",
       "layout": "IPY_MODEL_e186aa2218ff4dcaa8817ee5b3f02c3c",
       "style": "IPY_MODEL_ae78b1798b6748179929dcfdeb2625d0"
      }
     },
     "5d7018317ed6435d866769e5db91c1f7": {
      "model_module": "jupyter-js-widgets",
      "model_module_version": "~2.1.4",
      "model_name": "LayoutModel",
      "state": {
       "_model_module_version": "~2.1.4",
       "_view_module_version": "~2.1.4",
       "width": "100%"
      }
     },
     "5e11282e5ab745a4b321c1a60c58c196": {
      "model_module": "jupyter-js-widgets",
      "model_module_version": "~2.1.4",
      "model_name": "HTMLModel",
      "state": {
       "_model_module_version": "~2.1.4",
       "_view_module_version": "~2.1.4",
       "layout": "IPY_MODEL_268bc9aa6111408582bc7b3b970c946c",
       "value": "\n        <svg id='XOR' xmlns='http://www.w3.org/2000/svg' width=\"200\" height=\"335\" image-rendering=\"pixelated\">\n    <defs>\n        <marker id=\"arrow\" markerWidth=\"10\" markerHeight=\"10\" refX=\"9\" refY=\"3\" orient=\"auto\" markerUnits=\"strokeWidth\">\n          <path d=\"M0,0 L0,6 L9,3 z\" fill=\"blue\" />\n        </marker>\n    </defs>\n<rect x=\"74.0\" y=\"24\" width=\"52\" height=\"52\" style=\"fill:none;stroke:blue;stroke-width:2\"/><image id=\"XOR_output_targets_1\" class=\"XOR_output_targets\" x=\"75.0\" y=\"25\" height=\"50\" width=\"50\" href=\"data:image/gif;base64,R0lGODdhAQABAIAAAE1NTQAAACwAAAAAAQABAAAIBQABAAgIADs=\"><title>Layer: output (output)\n shape = (1,)\n Keras class = Dense\n activation = sigmoid</title></image><text x=\"130.0\" y=\"52.0\" font-family=\"monospace\" font-size=\"12\">targets</text><rect x=\"74.0\" y=\"84\" width=\"52\" height=\"52\" style=\"fill:none;stroke:blue;stroke-width:2\"/><image id=\"XOR_output_errors_1\" class=\"XOR_output_errors\" x=\"75.0\" y=\"85\" height=\"50\" width=\"50\" href=\"data:image/gif;base64,R0lGODdhAQABAIAAAE1NTQAAACwAAAAAAQABAAAIBQABrAsIADs=\"><title>Layer: output (output)\n shape = (1,)\n Keras class = Dense\n activation = sigmoid</title></image><text x=\"130.0\" y=\"112.0\" font-family=\"monospace\" font-size=\"12\">errors</text><rect x=\"74.0\" y=\"149\" width=\"52\" height=\"52\" style=\"fill:none;stroke:blue;stroke-width:2\"/><image id=\"XOR_output_1\" class=\"XOR_output\" x=\"75.0\" y=\"150\" height=\"50\" width=\"50\" href=\"data:image/gif;base64,R0lGODdhAQABAIAAAE1NTQAAACwAAAAAAQABAAAIBQABrAsIADs=\"><title>Layer: output (output)\n shape = (1,)\n Keras class = Dense\n activation = sigmoid</title></image><text x=\"130.0\" y=\"177.0\" font-family=\"monospace\" font-size=\"12\">output</text><rect x=\"90.0\" y=\"202\" width=\"20.0\" height=\"27\" style=\"fill:white;stroke:none\"><title>Weights from hidden to output\n output/kernel has shape (4, 1)\n output/bias has shape (1,)</title></rect><rect x=\"90.0\" y=\"202\" width=\"20.0\" height=\"27\" style=\"fill:white;stroke:none\"><title>Weights from hidden to output\n output/kernel has shape (4, 1)\n output/bias has shape (1,)</title></rect><line x1=\"100.0\" y1=\"229\" x2=\"100.0\" y2=\"202\" stroke=\"blue\" stroke-width=\"2\" marker-end=\"url(#arrow)\"><title>Weights from hidden to output\n output/kernel has shape (4, 1)\n output/bias has shape (1,)</title></line><line x1=\"100.0\" y1=\"229\" x2=\"100.0\" y2=\"202\" stroke=\"blue\" stroke-width=\"2\" marker-end=\"url(#arrow)\"><title>Weights from hidden to output\n output/kernel has shape (4, 1)\n output/bias has shape (1,)</title></line><rect x=\"74.0\" y=\"229\" width=\"52\" height=\"27\" style=\"fill:none;stroke:blue;stroke-width:2\"/><image id=\"XOR_hidden_2\" class=\"XOR_hidden\" x=\"75.0\" y=\"230\" height=\"25\" width=\"50\" href=\"data:image/gif;base64,R0lGODdhAgABAIAAAH9/fwAAACwAAAAAAgABAAAIBQABAAgIADs=\"><title>Layer: hidden (hidden)\n shape = (2,)\n Keras class = Dense\n activation = sigmoid</title></image><text x=\"130.0\" y=\"244.5\" font-family=\"monospace\" font-size=\"12\">hidden</text><rect x=\"90.0\" y=\"257\" width=\"20.0\" height=\"27\" style=\"fill:white;stroke:none\"><title>Weights from input to hidden\n hidden/kernel has shape (4, 2)\n hidden/bias has shape (2,)</title></rect><rect x=\"90.0\" y=\"257\" width=\"20.0\" height=\"27\" style=\"fill:white;stroke:none\"><title>Weights from input to hidden\n hidden/kernel has shape (4, 2)\n hidden/bias has shape (2,)</title></rect><line x1=\"100.0\" y1=\"284\" x2=\"100.0\" y2=\"257\" stroke=\"blue\" stroke-width=\"2\" marker-end=\"url(#arrow)\"><title>Weights from input to hidden\n hidden/kernel has shape (4, 2)\n hidden/bias has shape (2,)</title></line><line x1=\"100.0\" y1=\"284\" x2=\"100.0\" y2=\"257\" stroke=\"blue\" stroke-width=\"2\" marker-end=\"url(#arrow)\"><title>Weights from input to hidden\n hidden/kernel has shape (4, 2)\n hidden/bias has shape (2,)</title></line><rect x=\"74.0\" y=\"284\" width=\"52\" height=\"27\" style=\"fill:none;stroke:blue;stroke-width:2\"/><image id=\"XOR_input_3\" class=\"XOR_input\" x=\"75.0\" y=\"285\" height=\"25\" width=\"50\" href=\"data:image/gif;base64,R0lGODdhAgABAIAAAH9/fwAAACwAAAAAAgABAAAIBQABAAgIADs=\"><title>Layer: input (input)\n shape = (2,)\n Keras class = Input</title></image><text x=\"130.0\" y=\"299.5\" font-family=\"monospace\" font-size=\"12\">input</text></svg>"
      }
     },
     "5e69e194d04743f1ba9dcc6cca93c206": {
      "model_module": "jupyter-js-widgets",
      "model_module_version": "~2.1.4",
      "model_name": "LayoutModel",
      "state": {
       "_model_module_version": "~2.1.4",
       "_view_module_version": "~2.1.4",
       "width": "100%"
      }
     },
     "5f1730874b6349b68d3b382dc15485c4": {
      "model_module": "jupyter-js-widgets",
      "model_module_version": "~2.1.4",
      "model_name": "ButtonModel",
      "state": {
       "_model_module_version": "~2.1.4",
       "_view_module_version": "~2.1.4",
       "icon": "backward",
       "layout": "IPY_MODEL_33152dacd6f14385b830c7d9a44e1728",
       "style": "IPY_MODEL_e7ca54a674ea4a30b9b5fa13229b126d"
      }
     },
     "5f7abd1010134330b3f393e2742ac788": {
      "model_module": "jupyter-js-widgets",
      "model_module_version": "~2.1.4",
      "model_name": "ButtonStyleModel",
      "state": {
       "_model_module_version": "~2.1.4",
       "_view_module_version": "~2.1.4"
      }
     },
     "6076a0f46a494072a3e25e8139d26e1e": {
      "model_module": "jupyter-js-widgets",
      "model_module_version": "~2.1.4",
      "model_name": "SliderStyleModel",
      "state": {
       "_model_module_version": "~2.1.4",
       "_view_module_version": "~2.1.4"
      }
     },
     "612ddabb78334651af2d3deb6f08f65e": {
      "model_module": "jupyter-js-widgets",
      "model_module_version": "~2.1.4",
      "model_name": "ButtonStyleModel",
      "state": {
       "_model_module_version": "~2.1.4",
       "_view_module_version": "~2.1.4"
      }
     },
     "6156c21ce98e4d61a1b68c13c08147b1": {
      "model_module": "jupyter-js-widgets",
      "model_module_version": "~2.1.4",
      "model_name": "ButtonStyleModel",
      "state": {
       "_model_module_version": "~2.1.4",
       "_view_module_version": "~2.1.4"
      }
     },
     "6325b712465c4c1caa389956d7543e12": {
      "model_module": "jupyter-js-widgets",
      "model_module_version": "~2.1.4",
      "model_name": "LayoutModel",
      "state": {
       "_model_module_version": "~2.1.4",
       "_view_module_version": "~2.1.4",
       "width": "100%"
      }
     },
     "6336e357f6694735833f14f8a459d8cd": {
      "model_module": "jupyter-js-widgets",
      "model_module_version": "~2.1.4",
      "model_name": "IntSliderModel",
      "state": {
       "_model_module_version": "~2.1.4",
       "_view_module_version": "~2.1.4",
       "continuous_update": false,
       "description": "Dataset index",
       "layout": "IPY_MODEL_bcb147d7268a48c5aaafb7c64367c324",
       "max": 3,
       "style": "IPY_MODEL_8c972c02a5be4df69ba4628cb0cf4742"
      }
     },
     "642d70c9a5c64a84aa9efc070f504d25": {
      "model_module": "jupyter-js-widgets",
      "model_module_version": "~2.1.4",
      "model_name": "LayoutModel",
      "state": {
       "_model_module_version": "~2.1.4",
       "_view_module_version": "~2.1.4"
      }
     },
     "645a3286e865402f9a8db98e1f8b68c7": {
      "model_module": "jupyter-js-widgets",
      "model_module_version": "~2.1.4",
      "model_name": "IntSliderModel",
      "state": {
       "_model_module_version": "~2.1.4",
       "_view_module_version": "~2.1.4",
       "continuous_update": false,
       "description": "Dataset index",
       "layout": "IPY_MODEL_6f8b6f6fe99947079722efee41ffb1fa",
       "max": 3,
       "style": "IPY_MODEL_33864519c83d4ca8b78e5ebd422200e7"
      }
     },
     "65bf5483e84e45579a0bfee811bffde7": {
      "model_module": "jupyter-js-widgets",
      "model_module_version": "~2.1.4",
      "model_name": "IntSliderModel",
      "state": {
       "_model_module_version": "~2.1.4",
       "_view_module_version": "~2.1.4",
       "continuous_update": false,
       "description": "Dataset index",
       "layout": "IPY_MODEL_0d7b3d419e614dd09a63524ef14e3406",
       "max": 0,
       "style": "IPY_MODEL_f65b50d9a2384824a65bd7885126ec75"
      }
     },
     "65f975d36456421fb272244426e99533": {
      "model_module": "jupyter-js-widgets",
      "model_module_version": "~2.1.4",
      "model_name": "LayoutModel",
      "state": {
       "_model_module_version": "~2.1.4",
       "_view_module_version": "~2.1.4",
       "width": "100%"
      }
     },
     "6626485146844f8f9b5c5253b5adf6c6": {
      "model_module": "jupyter-js-widgets",
      "model_module_version": "~2.1.4",
      "model_name": "LayoutModel",
      "state": {
       "_model_module_version": "~2.1.4",
       "_view_module_version": "~2.1.4"
      }
     },
     "670c8899c7994af1b2c721d033f25d29": {
      "model_module": "jupyter-js-widgets",
      "model_module_version": "~2.1.4",
      "model_name": "LayoutModel",
      "state": {
       "_model_module_version": "~2.1.4",
       "_view_module_version": "~2.1.4",
       "width": "100%"
      }
     },
     "678feaf2a36a4ce4b36b46b9bec1aea5": {
      "model_module": "jupyter-js-widgets",
      "model_module_version": "~2.1.4",
      "model_name": "ButtonModel",
      "state": {
       "_model_module_version": "~2.1.4",
       "_view_module_version": "~2.1.4",
       "icon": "fast-backward",
       "layout": "IPY_MODEL_e610eadf14ad4f0394fe444ac4a4d0ab",
       "style": "IPY_MODEL_bdc3b0c6345542cca10151d80ec03fb8"
      }
     },
     "679f651368c747dca3f2576e77df2263": {
      "model_module": "jupyter-js-widgets",
      "model_module_version": "~2.1.4",
      "model_name": "ButtonModel",
      "state": {
       "_model_module_version": "~2.1.4",
       "_view_module_version": "~2.1.4",
       "icon": "fast-forward",
       "layout": "IPY_MODEL_da3cd891023f44efacd4de607607bd04",
       "style": "IPY_MODEL_297d99095bb04452aa79b6e540156cd0"
      }
     },
     "679f8d5022084aa389793211883ccf7d": {
      "model_module": "jupyter-js-widgets",
      "model_module_version": "~2.1.4",
      "model_name": "LayoutModel",
      "state": {
       "_model_module_version": "~2.1.4",
       "_view_module_version": "~2.1.4",
       "width": "100%"
      }
     },
     "6a264b94b2ec447987b41316a6c5fdfe": {
      "model_module": "jupyter-js-widgets",
      "model_module_version": "~2.1.4",
      "model_name": "LayoutModel",
      "state": {
       "_model_module_version": "~2.1.4",
       "_view_module_version": "~2.1.4",
       "width": "100%"
      }
     },
     "6a33071bd7ea4ce38b6307fbb16edd95": {
      "model_module": "jupyter-js-widgets",
      "model_module_version": "~2.1.4",
      "model_name": "ButtonModel",
      "state": {
       "_model_module_version": "~2.1.4",
       "_view_module_version": "~2.1.4",
       "icon": "backward",
       "layout": "IPY_MODEL_fd735877ad084fa2be0123cf04b69516",
       "style": "IPY_MODEL_7896a92688724196a9ba65bf113785f9"
      }
     },
     "6b20ce5626c94aab9b2ec0c772e19c35": {
      "model_module": "jupyter-js-widgets",
      "model_module_version": "~2.1.4",
      "model_name": "ButtonStyleModel",
      "state": {
       "_model_module_version": "~2.1.4",
       "_view_module_version": "~2.1.4"
      }
     },
     "6cef3719efc643f29b09977f5cfa28dc": {
      "model_module": "jupyter-js-widgets",
      "model_module_version": "~2.1.4",
      "model_name": "ButtonStyleModel",
      "state": {
       "_model_module_version": "~2.1.4",
       "_view_module_version": "~2.1.4"
      }
     },
     "6d37d1843853493e9b2c2cb26b391dfc": {
      "model_module": "jupyter-js-widgets",
      "model_module_version": "~2.1.4",
      "model_name": "HTMLModel",
      "state": {
       "_model_module_version": "~2.1.4",
       "_view_module_version": "~2.1.4",
       "layout": "IPY_MODEL_56ce521da24840b19a7783773aa1e15d",
       "value": "\n        <svg id='XOR2' xmlns='http://www.w3.org/2000/svg' width=\"400\" height=\"415\" image-rendering=\"pixelated\">\n    <defs>\n        <marker id=\"arrow\" markerWidth=\"10\" markerHeight=\"10\" refX=\"9\" refY=\"3\" orient=\"auto\" markerUnits=\"strokeWidth\">\n          <path d=\"M0,0 L0,6 L9,3 z\" fill=\"blue\" />\n        </marker>\n    </defs>\n<rect x=\"99.0\" y=\"24\" width=\"52\" height=\"52\" style=\"fill:none;stroke:blue;stroke-width:2\"/><image id=\"XOR2_output1_targets_1\" class=\"XOR2_output1_targets\" x=\"100.0\" y=\"25\" height=\"50\" width=\"50\" href=\"data:image/gif;base64,R0lGODdhAQABAIAAAMDAwAAAACwAAAAAAQABAAAIBQABbAsIADs=\"><title>Layer: output1 (output)\n shape = (1,)\n Keras class = Dense\n activation = sigmoid</title></image><text x=\"155.0\" y=\"52.0\" font-family=\"monospace\" font-size=\"12\">targets</text><rect x=\"249.0\" y=\"24\" width=\"52\" height=\"52\" style=\"fill:none;stroke:blue;stroke-width:2\"/><image id=\"XOR2_output2_targets_1\" class=\"XOR2_output2_targets\" x=\"250.0\" y=\"25\" height=\"50\" width=\"50\" href=\"data:image/gif;base64,R0lGODdhAQABAIAAAJKSkgAAACwAAAAAAQABAAAIBQABbAsIADs=\"><title>Layer: output2 (output)\n shape = (1,)\n Keras class = Dense\n activation = sigmoid</title></image><text x=\"305.0\" y=\"52.0\" font-family=\"monospace\" font-size=\"12\">targets</text><rect x=\"99.0\" y=\"84\" width=\"52\" height=\"52\" style=\"fill:none;stroke:blue;stroke-width:2\"/><image id=\"XOR2_output1_errors_1\" class=\"XOR2_output1_errors\" x=\"100.0\" y=\"85\" height=\"50\" width=\"50\" href=\"data:image/gif;base64,R0lGODdhAQABAIAAAMDAwAAAACwAAAAAAQABAAAIBQABbAsIADs=\"><title>Layer: output1 (output)\n shape = (1,)\n Keras class = Dense\n activation = sigmoid</title></image><text x=\"155.0\" y=\"112.0\" font-family=\"monospace\" font-size=\"12\">errors</text><rect x=\"249.0\" y=\"84\" width=\"52\" height=\"52\" style=\"fill:none;stroke:blue;stroke-width:2\"/><image id=\"XOR2_output2_errors_1\" class=\"XOR2_output2_errors\" x=\"250.0\" y=\"85\" height=\"50\" width=\"50\" href=\"data:image/gif;base64,R0lGODdhAQABAIAAAJKSkgAAACwAAAAAAQABAAAIBQABbAsIADs=\"><title>Layer: output2 (output)\n shape = (1,)\n Keras class = Dense\n activation = sigmoid</title></image><text x=\"305.0\" y=\"112.0\" font-family=\"monospace\" font-size=\"12\">errors</text><rect x=\"99.0\" y=\"149\" width=\"52\" height=\"52\" style=\"fill:none;stroke:blue;stroke-width:2\"/><image id=\"XOR2_output1_1\" class=\"XOR2_output1\" x=\"100.0\" y=\"150\" height=\"50\" width=\"50\" href=\"data:image/gif;base64,R0lGODdhAQABAIAAAMDAwAAAACwAAAAAAQABAAAIBQABbAsIADs=\"><title>Layer: output1 (output)\n shape = (1,)\n Keras class = Dense\n activation = sigmoid</title></image><text x=\"155.0\" y=\"177.0\" font-family=\"monospace\" font-size=\"12\">output1</text><rect x=\"249.0\" y=\"149\" width=\"52\" height=\"52\" style=\"fill:none;stroke:blue;stroke-width:2\"/><image id=\"XOR2_output2_2\" class=\"XOR2_output2\" x=\"250.0\" y=\"150\" height=\"50\" width=\"50\" href=\"data:image/gif;base64,R0lGODdhAQABAIAAAJKSkgAAACwAAAAAAQABAAAIBQABbAsIADs=\"><title>Layer: output2 (output)\n shape = (1,)\n Keras class = Dense\n activation = sigmoid</title></image><text x=\"305.0\" y=\"177.0\" font-family=\"monospace\" font-size=\"12\">output2</text><rect x=\"125.0\" y=\"202\" width=\"75.0\" height=\"27\" style=\"fill:white;stroke:none\"><title>Weights from shared-hidden to output1\n output1/kernel has shape (5, 1)\n output1/bias has shape (1,)</title></rect><rect x=\"200.0\" y=\"202\" width=\"75.0\" height=\"27\" style=\"fill:white;stroke:none\"><title>Weights from shared-hidden to output2\n output2/kernel has shape (5, 1)\n output2/bias has shape (1,)</title></rect><line x1=\"200.0\" y1=\"229\" x2=\"125.0\" y2=\"202\" stroke=\"blue\" stroke-width=\"2\" marker-end=\"url(#arrow)\"><title>Weights from shared-hidden to output1\n output1/kernel has shape (5, 1)\n output1/bias has shape (1,)</title></line><line x1=\"200.0\" y1=\"229\" x2=\"275.0\" y2=\"202\" stroke=\"blue\" stroke-width=\"2\" marker-end=\"url(#arrow)\"><title>Weights from shared-hidden to output2\n output2/kernel has shape (5, 1)\n output2/bias has shape (1,)</title></line><rect x=\"174.0\" y=\"229\" width=\"52\" height=\"27\" style=\"fill:none;stroke:blue;stroke-width:2\"/><image id=\"XOR2_shared-hidden_3\" class=\"XOR2_shared-hidden\" x=\"175.0\" y=\"230\" height=\"25\" width=\"50\" href=\"data:image/gif;base64,R0lGODdhBQABAIIAAF5eXnh4eIODg5WVlbGxsQAAAAAAAAAAACwAAAAABQABAAAICAAJCBgAIEBAADs=\"><title>Layer: shared-hidden (hidden)\n shape = (5,)\n Keras class = Dense\n activation = sigmoid</title></image><text x=\"230.0\" y=\"244.5\" font-family=\"monospace\" font-size=\"12\">shared-hidden</text><rect x=\"125.0\" y=\"257\" width=\"75.0\" height=\"27\" style=\"fill:white;stroke:none\"><title>Weights from hidden1 to shared-hidden\n shared-hidden/kernel has shape (20, 5)\n shared-hidden/bias has shape (5,)</title></rect><line x1=\"125.0\" y1=\"284\" x2=\"200.0\" y2=\"257\" stroke=\"blue\" stroke-width=\"2\" marker-end=\"url(#arrow)\"><title>Weights from hidden1 to shared-hidden\n shared-hidden/kernel has shape (20, 5)\n shared-hidden/bias has shape (5,)</title></line><rect x=\"99.0\" y=\"284\" width=\"52\" height=\"27\" style=\"fill:none;stroke:blue;stroke-width:2\"/><image id=\"XOR2_hidden1_4\" class=\"XOR2_hidden1\" x=\"100.0\" y=\"285\" height=\"25\" width=\"50\" href=\"data:image/gif;base64,R0lGODdhCgABAIAAAH9/fwAAACwAAAAACgABAAAIBwABCBxIMCAAOw==\"><title>Layer: hidden1 (hidden)\n shape = (10,)\n Keras class = Dense\n activation = sigmoid</title></image><text x=\"155.0\" y=\"299.5\" font-family=\"monospace\" font-size=\"12\">hidden1</text><rect x=\"200.0\" y=\"257\" width=\"75.0\" height=\"27\" style=\"fill:white;stroke:none\"><title>Weights from hidden2 to shared-hidden\n shared-hidden/kernel has shape (20, 5)\n shared-hidden/bias has shape (5,)</title></rect><line x1=\"275.0\" y1=\"284\" x2=\"200.0\" y2=\"257\" stroke=\"blue\" stroke-width=\"2\" marker-end=\"url(#arrow)\"><title>Weights from hidden2 to shared-hidden\n shared-hidden/kernel has shape (20, 5)\n shared-hidden/bias has shape (5,)</title></line><rect x=\"249.0\" y=\"284\" width=\"52\" height=\"27\" style=\"fill:none;stroke:blue;stroke-width:2\"/><image id=\"XOR2_hidden2_5\" class=\"XOR2_hidden2\" x=\"250.0\" y=\"285\" height=\"25\" width=\"50\" href=\"data:image/gif;base64,R0lGODdhCgABAIAAAH9/fwAAACwAAAAACgABAAAIBwABCBxIMCAAOw==\"><title>Layer: hidden2 (hidden)\n shape = (10,)\n Keras class = Dense\n activation = sigmoid</title></image><text x=\"305.0\" y=\"299.5\" font-family=\"monospace\" font-size=\"12\">hidden2</text><rect x=\"115.0\" y=\"312\" width=\"20.0\" height=\"27\" style=\"fill:white;stroke:none\"><title>Weights from input1 to hidden1\n hidden1/kernel has shape (1, 10)\n hidden1/bias has shape (10,)</title></rect><line x1=\"125.0\" y1=\"339\" x2=\"125.0\" y2=\"312\" stroke=\"blue\" stroke-width=\"2\" marker-end=\"url(#arrow)\"><title>Weights from input1 to hidden1\n hidden1/kernel has shape (1, 10)\n hidden1/bias has shape (10,)</title></line><rect x=\"99.0\" y=\"339\" width=\"52\" height=\"52\" style=\"fill:none;stroke:blue;stroke-width:2\"/><image id=\"XOR2_input1_6\" class=\"XOR2_input1\" x=\"100.0\" y=\"340\" height=\"50\" width=\"50\" href=\"data:image/gif;base64,R0lGODdhAQABAIAAAH9/fwAAACwAAAAAAQABAAAIBQABbAsIADs=\"><title>Layer: input1 (input)\n shape = (1,)\n Keras class = Input</title></image><text x=\"155.0\" y=\"367.0\" font-family=\"monospace\" font-size=\"12\">input1</text><rect x=\"265.0\" y=\"312\" width=\"20.0\" height=\"27\" style=\"fill:white;stroke:none\"><title>Weights from input2 to hidden2\n hidden2/kernel has shape (1, 10)\n hidden2/bias has shape (10,)</title></rect><line x1=\"275.0\" y1=\"339\" x2=\"275.0\" y2=\"312\" stroke=\"blue\" stroke-width=\"2\" marker-end=\"url(#arrow)\"><title>Weights from input2 to hidden2\n hidden2/kernel has shape (1, 10)\n hidden2/bias has shape (10,)</title></line><rect x=\"249.0\" y=\"339\" width=\"52\" height=\"52\" style=\"fill:none;stroke:blue;stroke-width:2\"/><image id=\"XOR2_input2_7\" class=\"XOR2_input2\" x=\"250.0\" y=\"340\" height=\"50\" width=\"50\" href=\"data:image/gif;base64,R0lGODdhAQABAIAAAH9/fwAAACwAAAAAAQABAAAIBQABbAsIADs=\"><title>Layer: input2 (input)\n shape = (1,)\n Keras class = Input</title></image><text x=\"305.0\" y=\"367.0\" font-family=\"monospace\" font-size=\"12\">input2</text></svg>"
      }
     },
     "6defa7a694c348b7b428517452f62f0e": {
      "model_module": "jupyter-js-widgets",
      "model_module_version": "~2.1.4",
      "model_name": "ButtonModel",
      "state": {
       "_model_module_version": "~2.1.4",
       "_view_module_version": "~2.1.4",
       "icon": "backward",
       "layout": "IPY_MODEL_e80164651c42453fb820932bd1904150",
       "style": "IPY_MODEL_041347a06d4b4c13b7ab801a4b72e331"
      }
     },
     "6e38c1a7ece843adae479a8631ace86e": {
      "model_module": "jupyter-js-widgets",
      "model_module_version": "~2.1.4",
      "model_name": "LayoutModel",
      "state": {
       "_model_module_version": "~2.1.4",
       "_view_module_version": "~2.1.4",
       "width": "100%"
      }
     },
     "6f649e255289432f909e2edab60778c1": {
      "model_module": "jupyter-js-widgets",
      "model_module_version": "~2.1.4",
      "model_name": "LayoutModel",
      "state": {
       "_model_module_version": "~2.1.4",
       "_view_module_version": "~2.1.4",
       "height": "100%",
       "max_height": "550px",
       "overflow_x": "auto",
       "width": "100%"
      }
     },
     "6f8b6f6fe99947079722efee41ffb1fa": {
      "model_module": "jupyter-js-widgets",
      "model_module_version": "~2.1.4",
      "model_name": "LayoutModel",
      "state": {
       "_model_module_version": "~2.1.4",
       "_view_module_version": "~2.1.4",
       "width": "100%"
      }
     },
     "716fd1b4ce554477a24eb383fbd35f53": {
      "model_module": "jupyter-js-widgets",
      "model_module_version": "~2.1.4",
      "model_name": "HBoxModel",
      "state": {
       "_model_module_version": "~2.1.4",
       "_view_module_version": "~2.1.4",
       "children": [
        "IPY_MODEL_013c134e03414b8186115532bcc95ab0",
        "IPY_MODEL_6a33071bd7ea4ce38b6307fbb16edd95",
        "IPY_MODEL_d7d2c97f1dba4acb90a2e4877c482089",
        "IPY_MODEL_5d20dbb9f7c345c889040e20c52f0304",
        "IPY_MODEL_7718f427b7ee4e95aead20a19896104e"
       ],
       "layout": "IPY_MODEL_d16b9205f9624cb9a95702e1865a1c55"
      }
     },
     "720398b3500442dab7c0d8187f182f15": {
      "model_module": "jupyter-js-widgets",
      "model_module_version": "~2.1.4",
      "model_name": "LayoutModel",
      "state": {
       "_model_module_version": "~2.1.4",
       "_view_module_version": "~2.1.4",
       "width": "100%"
      }
     },
     "72132cd463eb4929850075a966f0f32a": {
      "model_module": "jupyter-js-widgets",
      "model_module_version": "~2.1.4",
      "model_name": "ButtonStyleModel",
      "state": {
       "_model_module_version": "~2.1.4",
       "_view_module_version": "~2.1.4"
      }
     },
     "735051cc78eb4ee58eb4bae5fd22bcd0": {
      "model_module": "jupyter-js-widgets",
      "model_module_version": "~2.1.4",
      "model_name": "SelectModel",
      "state": {
       "_model_module_version": "~2.1.4",
       "_options_labels": [
        "Test",
        "Train"
       ],
       "_view_module_version": "~2.1.4",
       "description": "Dataset:",
       "layout": "IPY_MODEL_3928857d66f54462a4c541255159f235",
       "value": "Train"
      }
     },
     "74d5a253d1be45488e7d59417088ed7a": {
      "model_module": "jupyter-js-widgets",
      "model_module_version": "~2.1.4",
      "model_name": "VBoxModel",
      "state": {
       "_model_module_version": "~2.1.4",
       "_view_module_version": "~2.1.4",
       "children": [
        "IPY_MODEL_d4f630a966744c769899daf264eed3f4",
        "IPY_MODEL_ebe5a745f4374e42a6bee159eee96c5f",
        "IPY_MODEL_5601397864ec4512a55b99c510f93510"
       ],
       "layout": "IPY_MODEL_2de3a76846ca4a938290c67cf65c205b"
      }
     },
     "74eb03d523574f778a122191a42e36b5": {
      "model_module": "jupyter-js-widgets",
      "model_module_version": "~2.1.4",
      "model_name": "LayoutModel",
      "state": {
       "_model_module_version": "~2.1.4",
       "_view_module_version": "~2.1.4",
       "width": "100%"
      }
     },
     "7531f65e218b478aa668d02e982aec1e": {
      "model_module": "jupyter-js-widgets",
      "model_module_version": "~2.1.4",
      "model_name": "LayoutModel",
      "state": {
       "_model_module_version": "~2.1.4",
       "_view_module_version": "~2.1.4",
       "width": "100%"
      }
     },
     "75a6c015a1ba480cb30c041bd247c2cf": {
      "model_module": "jupyter-js-widgets",
      "model_module_version": "~2.1.4",
      "model_name": "LayoutModel",
      "state": {
       "_model_module_version": "~2.1.4",
       "_view_module_version": "~2.1.4",
       "width": "100%"
      }
     },
     "7637f7d886014adc9ceb4cbcf19e0780": {
      "model_module": "jupyter-js-widgets",
      "model_module_version": "~2.1.4",
      "model_name": "LayoutModel",
      "state": {
       "_model_module_version": "~2.1.4",
       "_view_module_version": "~2.1.4",
       "width": "100%"
      }
     },
     "76b593eea9094a8cb1b15432373ba07a": {
      "model_module": "jupyter-js-widgets",
      "model_module_version": "~2.1.4",
      "model_name": "ButtonStyleModel",
      "state": {
       "_model_module_version": "~2.1.4",
       "_view_module_version": "~2.1.4"
      }
     },
     "7718f427b7ee4e95aead20a19896104e": {
      "model_module": "jupyter-js-widgets",
      "model_module_version": "~2.1.4",
      "model_name": "ButtonModel",
      "state": {
       "_model_module_version": "~2.1.4",
       "_view_module_version": "~2.1.4",
       "icon": "fast-forward",
       "layout": "IPY_MODEL_1710b17576fc42e4a7ff111d5e99669a",
       "style": "IPY_MODEL_76b593eea9094a8cb1b15432373ba07a"
      }
     },
     "77a4b291521e49ff8d825fd3a114c788": {
      "model_module": "jupyter-js-widgets",
      "model_module_version": "~2.1.4",
      "model_name": "ButtonStyleModel",
      "state": {
       "_model_module_version": "~2.1.4",
       "_view_module_version": "~2.1.4"
      }
     },
     "77bd029bde1f4d658d7e4f15e544b6a9": {
      "model_module": "jupyter-js-widgets",
      "model_module_version": "~2.1.4",
      "model_name": "ButtonStyleModel",
      "state": {
       "_model_module_version": "~2.1.4",
       "_view_module_version": "~2.1.4"
      }
     },
     "7844f968f51b4644a9b07ad23fef738a": {
      "model_module": "jupyter-js-widgets",
      "model_module_version": "~2.1.4",
      "model_name": "VBoxModel",
      "state": {
       "_model_module_version": "~2.1.4",
       "_view_module_version": "~2.1.4",
       "children": [
        "IPY_MODEL_a8be7cf58d7045429dbeb5c7711dbcb7",
        "IPY_MODEL_8404bd5786cc4dc6a2b20621b44aff14",
        "IPY_MODEL_19f87e4c080c4aa59a8073ad53ee4314"
       ],
       "layout": "IPY_MODEL_74eb03d523574f778a122191a42e36b5"
      }
     },
     "7882818655bf49c993269e7ddd4df5d8": {
      "model_module": "jupyter-js-widgets",
      "model_module_version": "~2.1.4",
      "model_name": "LayoutModel",
      "state": {
       "_model_module_version": "~2.1.4",
       "_view_module_version": "~2.1.4"
      }
     },
     "7894e291890b4a059813dbc078850e3e": {
      "model_module": "jupyter-js-widgets",
      "model_module_version": "~2.1.4",
      "model_name": "ButtonStyleModel",
      "state": {
       "_model_module_version": "~2.1.4",
       "_view_module_version": "~2.1.4"
      }
     },
     "7896a92688724196a9ba65bf113785f9": {
      "model_module": "jupyter-js-widgets",
      "model_module_version": "~2.1.4",
      "model_name": "ButtonStyleModel",
      "state": {
       "_model_module_version": "~2.1.4",
       "_view_module_version": "~2.1.4"
      }
     },
     "793538ea15864e389ce27b1b6ef5cf0a": {
      "model_module": "jupyter-js-widgets",
      "model_module_version": "~2.1.4",
      "model_name": "LayoutModel",
      "state": {
       "_model_module_version": "~2.1.4",
       "_view_module_version": "~2.1.4",
       "width": "100%"
      }
     },
     "7939bcb5a2ec4aa99a8caad03425b8db": {
      "model_module": "jupyter-js-widgets",
      "model_module_version": "~2.1.4",
      "model_name": "HTMLModel",
      "state": {
       "_model_module_version": "~2.1.4",
       "_view_module_version": "~2.1.4",
       "layout": "IPY_MODEL_38c3317ffd534cbc8ed1404ad831f96f",
       "value": "\n        <svg id='XOR' xmlns='http://www.w3.org/2000/svg' width=\"200\" height=\"335\" image-rendering=\"pixelated\">\n    <defs>\n        <marker id=\"arrow\" markerWidth=\"10\" markerHeight=\"10\" refX=\"9\" refY=\"3\" orient=\"auto\" markerUnits=\"strokeWidth\">\n          <path d=\"M0,0 L0,6 L9,3 z\" fill=\"blue\" />\n        </marker>\n    </defs>\n<rect x=\"74.0\" y=\"24\" width=\"52\" height=\"52\" style=\"fill:none;stroke:blue;stroke-width:2\"/><image id=\"XOR_output_targets_1\" class=\"XOR_output_targets\" x=\"75.0\" y=\"25\" height=\"50\" width=\"50\" href=\"data:image/gif;base64,R0lGODdhAQABAIAAAFdXVwAAACwAAAAAAQABAAAIBQABLAkIADs=\"><title>Layer: output (output)\n shape = (1,)\n Keras class = Dense\n activation = sigmoid</title></image><text x=\"130.0\" y=\"52.0\" font-family=\"monospace\" font-size=\"12\">targets</text><rect x=\"74.0\" y=\"84\" width=\"52\" height=\"52\" style=\"fill:none;stroke:blue;stroke-width:2\"/><image id=\"XOR_output_errors_1\" class=\"XOR_output_errors\" x=\"75.0\" y=\"85\" height=\"50\" width=\"50\" href=\"data:image/gif;base64,R0lGODdhAQABAIAAAFdXVwAAACwAAAAAAQABAAAIBQABLAkIADs=\"><title>Layer: output (output)\n shape = (1,)\n Keras class = Dense\n activation = sigmoid</title></image><text x=\"130.0\" y=\"112.0\" font-family=\"monospace\" font-size=\"12\">errors</text><rect x=\"74.0\" y=\"149\" width=\"52\" height=\"52\" style=\"fill:none;stroke:blue;stroke-width:2\"/><image id=\"XOR_output_1\" class=\"XOR_output\" x=\"75.0\" y=\"150\" height=\"50\" width=\"50\" href=\"data:image/gif;base64,R0lGODdhAQABAIAAAFdXVwAAACwAAAAAAQABAAAIBQABLAkIADs=\"><title>Layer: output (output)\n shape = (1,)\n Keras class = Dense\n activation = sigmoid</title></image><text x=\"130.0\" y=\"177.0\" font-family=\"monospace\" font-size=\"12\">output</text><rect x=\"90.0\" y=\"202\" width=\"20.0\" height=\"27\" style=\"fill:white;stroke:none\"><title>Weights from hidden to output\n output/kernel has shape (4, 1)\n output/bias has shape (1,)</title></rect><rect x=\"90.0\" y=\"202\" width=\"20.0\" height=\"27\" style=\"fill:white;stroke:none\"><title>Weights from hidden to output\n output/kernel has shape (4, 1)\n output/bias has shape (1,)</title></rect><line x1=\"100.0\" y1=\"229\" x2=\"100.0\" y2=\"202\" stroke=\"blue\" stroke-width=\"2\" marker-end=\"url(#arrow)\"><title>Weights from hidden to output\n output/kernel has shape (4, 1)\n output/bias has shape (1,)</title></line><line x1=\"100.0\" y1=\"229\" x2=\"100.0\" y2=\"202\" stroke=\"blue\" stroke-width=\"2\" marker-end=\"url(#arrow)\"><title>Weights from hidden to output\n output/kernel has shape (4, 1)\n output/bias has shape (1,)</title></line><rect x=\"74.0\" y=\"229\" width=\"52\" height=\"27\" style=\"fill:none;stroke:blue;stroke-width:2\"/><image id=\"XOR_hidden_2\" class=\"XOR_hidden\" x=\"75.0\" y=\"230\" height=\"25\" width=\"50\" href=\"data:image/gif;base64,R0lGODdhAgABAIAAAH9/fwAAACwAAAAAAgABAAAIBQABAAgIADs=\"><title>Layer: hidden (hidden)\n shape = (2,)\n Keras class = Dense\n activation = sigmoid</title></image><text x=\"130.0\" y=\"244.5\" font-family=\"monospace\" font-size=\"12\">hidden</text><rect x=\"90.0\" y=\"257\" width=\"20.0\" height=\"27\" style=\"fill:white;stroke:none\"><title>Weights from input to hidden\n hidden/kernel has shape (4, 2)\n hidden/bias has shape (2,)</title></rect><rect x=\"90.0\" y=\"257\" width=\"20.0\" height=\"27\" style=\"fill:white;stroke:none\"><title>Weights from input to hidden\n hidden/kernel has shape (4, 2)\n hidden/bias has shape (2,)</title></rect><line x1=\"100.0\" y1=\"284\" x2=\"100.0\" y2=\"257\" stroke=\"blue\" stroke-width=\"2\" marker-end=\"url(#arrow)\"><title>Weights from input to hidden\n hidden/kernel has shape (4, 2)\n hidden/bias has shape (2,)</title></line><line x1=\"100.0\" y1=\"284\" x2=\"100.0\" y2=\"257\" stroke=\"blue\" stroke-width=\"2\" marker-end=\"url(#arrow)\"><title>Weights from input to hidden\n hidden/kernel has shape (4, 2)\n hidden/bias has shape (2,)</title></line><rect x=\"74.0\" y=\"284\" width=\"52\" height=\"27\" style=\"fill:none;stroke:blue;stroke-width:2\"/><image id=\"XOR_input_3\" class=\"XOR_input\" x=\"75.0\" y=\"285\" height=\"25\" width=\"50\" href=\"data:image/gif;base64,R0lGODdhAgABAIAAAH9/fwAAACwAAAAAAgABAAAIBQABAAgIADs=\"><title>Layer: input (input)\n shape = (2,)\n Keras class = Input</title></image><text x=\"130.0\" y=\"299.5\" font-family=\"monospace\" font-size=\"12\">input</text></svg>"
      }
     },
     "7a0e73b1329f4a24a3748584b56253bd": {
      "model_module": "jupyter-js-widgets",
      "model_module_version": "~2.1.4",
      "model_name": "ButtonStyleModel",
      "state": {
       "_model_module_version": "~2.1.4",
       "_view_module_version": "~2.1.4"
      }
     },
     "7a3aa2a2f0ad4c5d88711aba584d8530": {
      "model_module": "jupyter-js-widgets",
      "model_module_version": "~2.1.4",
      "model_name": "SliderStyleModel",
      "state": {
       "_model_module_version": "~2.1.4",
       "_view_module_version": "~2.1.4"
      }
     },
     "7ba13e536d00445f82ba7f0a22282eeb": {
      "model_module": "jupyter-js-widgets",
      "model_module_version": "~2.1.4",
      "model_name": "ButtonStyleModel",
      "state": {
       "_model_module_version": "~2.1.4",
       "_view_module_version": "~2.1.4"
      }
     },
     "7d616000c492477bbb637656d6885e23": {
      "model_module": "jupyter-js-widgets",
      "model_module_version": "~2.1.4",
      "model_name": "ButtonStyleModel",
      "state": {
       "_model_module_version": "~2.1.4",
       "_view_module_version": "~2.1.4"
      }
     },
     "7d7b5dcfb41e442f852192cee6a11a49": {
      "model_module": "jupyter-js-widgets",
      "model_module_version": "~2.1.4",
      "model_name": "ButtonModel",
      "state": {
       "_model_module_version": "~2.1.4",
       "_view_module_version": "~2.1.4",
       "icon": "fast-forward",
       "layout": "IPY_MODEL_e6e1d2e6ea9e48458937ba8c5b5f4e85",
       "style": "IPY_MODEL_2e8054c5b3d64eaba97dff438cfe783e"
      }
     },
     "7d8c3a4c0c514035b671d5d44419ed51": {
      "model_module": "jupyter-js-widgets",
      "model_module_version": "~2.1.4",
      "model_name": "LayoutModel",
      "state": {
       "_model_module_version": "~2.1.4",
       "_view_module_version": "~2.1.4"
      }
     },
     "7e1113d930624fb7b4a52079cd1618d6": {
      "model_module": "jupyter-js-widgets",
      "model_module_version": "~2.1.4",
      "model_name": "LayoutModel",
      "state": {
       "_model_module_version": "~2.1.4",
       "_view_module_version": "~2.1.4",
       "width": "100%"
      }
     },
     "7f430c2d5b354af784269ecc4ea97898": {
      "model_module": "jupyter-js-widgets",
      "model_module_version": "~2.1.4",
      "model_name": "LayoutModel",
      "state": {
       "_model_module_version": "~2.1.4",
       "_view_module_version": "~2.1.4",
       "width": "100%"
      }
     },
     "81b8abfa01454c3780b5d7ed0a8006df": {
      "model_module": "jupyter-js-widgets",
      "model_module_version": "~2.1.4",
      "model_name": "ButtonModel",
      "state": {
       "_model_module_version": "~2.1.4",
       "_view_module_version": "~2.1.4",
       "icon": "fast-forward",
       "layout": "IPY_MODEL_9ee9412e318f4b479be3b471211fbbed",
       "style": "IPY_MODEL_dfb09298ca6e43ed89fb432eee5f76d8"
      }
     },
     "823722df7d9c4ede9f5b1ad8a76f566f": {
      "model_module": "jupyter-js-widgets",
      "model_module_version": "~2.1.4",
      "model_name": "ButtonModel",
      "state": {
       "_model_module_version": "~2.1.4",
       "_view_module_version": "~2.1.4",
       "icon": "backward",
       "layout": "IPY_MODEL_e2899f80ca354d719c81738ab3438d9a",
       "style": "IPY_MODEL_0229f174fc7a4d77842a6e3b703052f9"
      }
     },
     "8404bd5786cc4dc6a2b20621b44aff14": {
      "model_module": "jupyter-js-widgets",
      "model_module_version": "~2.1.4",
      "model_name": "IntSliderModel",
      "state": {
       "_model_module_version": "~2.1.4",
       "_view_module_version": "~2.1.4",
       "continuous_update": false,
       "description": "Dataset index",
       "layout": "IPY_MODEL_c895c746199049db8e5011a1d48090ea",
       "max": 3,
       "style": "IPY_MODEL_2598d4c8593b468a8d81c1e5e3030168"
      }
     },
     "86288e1ebb6443edabe04f59c608dde2": {
      "model_module": "jupyter-js-widgets",
      "model_module_version": "~2.1.4",
      "model_name": "LayoutModel",
      "state": {
       "_model_module_version": "~2.1.4",
       "_view_module_version": "~2.1.4",
       "width": "100%"
      }
     },
     "863ea0f3fa414c7ca0362df97da5df90": {
      "model_module": "jupyter-js-widgets",
      "model_module_version": "~2.1.4",
      "model_name": "ButtonModel",
      "state": {
       "_model_module_version": "~2.1.4",
       "_view_module_version": "~2.1.4",
       "icon": "fast-backward",
       "layout": "IPY_MODEL_2e30c2e23ca148f69a8feb6d3414120a",
       "style": "IPY_MODEL_a00655655d464d158391df4ef1f7f5cb"
      }
     },
     "865b3612c4d7469ca1bd54e93c7fdf0b": {
      "model_module": "jupyter-js-widgets",
      "model_module_version": "~2.1.4",
      "model_name": "ButtonStyleModel",
      "state": {
       "_model_module_version": "~2.1.4",
       "_view_module_version": "~2.1.4"
      }
     },
     "88081b0cef9a483399d820fe1b10087a": {
      "model_module": "jupyter-js-widgets",
      "model_module_version": "~2.1.4",
      "model_name": "HTMLModel",
      "state": {
       "_model_module_version": "~2.1.4",
       "_view_module_version": "~2.1.4",
       "layout": "IPY_MODEL_3a849a2c191241aa970bc9faef186fc0",
       "value": "\n        <svg id='XOR2' xmlns='http://www.w3.org/2000/svg' width=\"400\" height=\"415\" image-rendering=\"pixelated\">\n    <defs>\n        <marker id=\"arrow\" markerWidth=\"10\" markerHeight=\"10\" refX=\"9\" refY=\"3\" orient=\"auto\" markerUnits=\"strokeWidth\">\n          <path d=\"M0,0 L0,6 L9,3 z\" fill=\"blue\" />\n        </marker>\n    </defs>\n<rect x=\"99.0\" y=\"24\" width=\"52\" height=\"52\" style=\"fill:none;stroke:blue;stroke-width:2\"/><image id=\"XOR2_output1_targets_1\" class=\"XOR2_output1_targets\" x=\"100.0\" y=\"25\" height=\"50\" width=\"50\" href=\"data:image/gif;base64,R0lGODdhAQABAIAAAEVFRQAAACwAAAAAAQABAAAIBQABLAkIADs=\"><title>Layer: output1 (output)\n shape = (1,)\n Keras class = Dense\n activation = sigmoid</title></image><text x=\"155.0\" y=\"52.0\" font-family=\"monospace\" font-size=\"12\">targets</text><rect x=\"249.0\" y=\"24\" width=\"52\" height=\"52\" style=\"fill:none;stroke:blue;stroke-width:2\"/><image id=\"XOR2_output2_targets_1\" class=\"XOR2_output2_targets\" x=\"250.0\" y=\"25\" height=\"50\" width=\"50\" href=\"data:image/gif;base64,R0lGODdhAQABAIAAAJGRkQAAACwAAAAAAQABAAAIBQABLAkIADs=\"><title>Layer: output2 (output)\n shape = (1,)\n Keras class = Dense\n activation = sigmoid</title></image><text x=\"305.0\" y=\"52.0\" font-family=\"monospace\" font-size=\"12\">targets</text><rect x=\"99.0\" y=\"84\" width=\"52\" height=\"52\" style=\"fill:none;stroke:blue;stroke-width:2\"/><image id=\"XOR2_output1_errors_1\" class=\"XOR2_output1_errors\" x=\"100.0\" y=\"85\" height=\"50\" width=\"50\" href=\"data:image/gif;base64,R0lGODdhAQABAIAAAEVFRQAAACwAAAAAAQABAAAIBQABLAkIADs=\"><title>Layer: output1 (output)\n shape = (1,)\n Keras class = Dense\n activation = sigmoid</title></image><text x=\"155.0\" y=\"112.0\" font-family=\"monospace\" font-size=\"12\">errors</text><rect x=\"249.0\" y=\"84\" width=\"52\" height=\"52\" style=\"fill:none;stroke:blue;stroke-width:2\"/><image id=\"XOR2_output2_errors_1\" class=\"XOR2_output2_errors\" x=\"250.0\" y=\"85\" height=\"50\" width=\"50\" href=\"data:image/gif;base64,R0lGODdhAQABAIAAAJGRkQAAACwAAAAAAQABAAAIBQABLAkIADs=\"><title>Layer: output2 (output)\n shape = (1,)\n Keras class = Dense\n activation = sigmoid</title></image><text x=\"305.0\" y=\"112.0\" font-family=\"monospace\" font-size=\"12\">errors</text><rect x=\"99.0\" y=\"149\" width=\"52\" height=\"52\" style=\"fill:none;stroke:blue;stroke-width:2\"/><image id=\"XOR2_output1_1\" class=\"XOR2_output1\" x=\"100.0\" y=\"150\" height=\"50\" width=\"50\" href=\"data:image/gif;base64,R0lGODdhAQABAIAAAEVFRQAAACwAAAAAAQABAAAIBQABLAkIADs=\"><title>Layer: output1 (output)\n shape = (1,)\n Keras class = Dense\n activation = sigmoid</title></image><text x=\"155.0\" y=\"177.0\" font-family=\"monospace\" font-size=\"12\">output1</text><rect x=\"249.0\" y=\"149\" width=\"52\" height=\"52\" style=\"fill:none;stroke:blue;stroke-width:2\"/><image id=\"XOR2_output2_2\" class=\"XOR2_output2\" x=\"250.0\" y=\"150\" height=\"50\" width=\"50\" href=\"data:image/gif;base64,R0lGODdhAQABAIAAAJGRkQAAACwAAAAAAQABAAAIBQABLAkIADs=\"><title>Layer: output2 (output)\n shape = (1,)\n Keras class = Dense\n activation = sigmoid</title></image><text x=\"305.0\" y=\"177.0\" font-family=\"monospace\" font-size=\"12\">output2</text><rect x=\"125.0\" y=\"202\" width=\"75.0\" height=\"27\" style=\"fill:white;stroke:none\"><title>Weights from shared-hidden to output1\n output1/kernel has shape (5, 1)\n output1/bias has shape (1,)</title></rect><rect x=\"200.0\" y=\"202\" width=\"75.0\" height=\"27\" style=\"fill:white;stroke:none\"><title>Weights from shared-hidden to output2\n output2/kernel has shape (5, 1)\n output2/bias has shape (1,)</title></rect><line x1=\"200.0\" y1=\"229\" x2=\"125.0\" y2=\"202\" stroke=\"blue\" stroke-width=\"2\" marker-end=\"url(#arrow)\"><title>Weights from shared-hidden to output1\n output1/kernel has shape (5, 1)\n output1/bias has shape (1,)</title></line><line x1=\"200.0\" y1=\"229\" x2=\"275.0\" y2=\"202\" stroke=\"blue\" stroke-width=\"2\" marker-end=\"url(#arrow)\"><title>Weights from shared-hidden to output2\n output2/kernel has shape (5, 1)\n output2/bias has shape (1,)</title></line><rect x=\"174.0\" y=\"229\" width=\"52\" height=\"27\" style=\"fill:none;stroke:blue;stroke-width:2\"/><image id=\"XOR2_shared-hidden_3\" class=\"XOR2_shared-hidden\" x=\"175.0\" y=\"230\" height=\"25\" width=\"50\" href=\"data:image/gif;base64,R0lGODdhBQABAIIAAImJiZGRkZOTk5qamqurqwAAAAAAAAAAACwAAAAABQABAAAICAAHEAgAQEBAADs=\"><title>Layer: shared-hidden (hidden)\n shape = (5,)\n Keras class = Dense\n activation = sigmoid</title></image><text x=\"230.0\" y=\"244.5\" font-family=\"monospace\" font-size=\"12\">shared-hidden</text><rect x=\"125.0\" y=\"257\" width=\"75.0\" height=\"27\" style=\"fill:white;stroke:none\"><title>Weights from hidden1 to shared-hidden\n shared-hidden/kernel has shape (20, 5)\n shared-hidden/bias has shape (5,)</title></rect><line x1=\"125.0\" y1=\"284\" x2=\"200.0\" y2=\"257\" stroke=\"blue\" stroke-width=\"2\" marker-end=\"url(#arrow)\"><title>Weights from hidden1 to shared-hidden\n shared-hidden/kernel has shape (20, 5)\n shared-hidden/bias has shape (5,)</title></line><rect x=\"99.0\" y=\"284\" width=\"52\" height=\"27\" style=\"fill:none;stroke:blue;stroke-width:2\"/><image id=\"XOR2_hidden1_4\" class=\"XOR2_hidden1\" x=\"100.0\" y=\"285\" height=\"25\" width=\"50\" href=\"data:image/gif;base64,R0lGODdhCgABAIAAAH9/fwAAACwAAAAACgABAAAIBwABCBxIMCAAOw==\"><title>Layer: hidden1 (hidden)\n shape = (10,)\n Keras class = Dense\n activation = sigmoid</title></image><text x=\"155.0\" y=\"299.5\" font-family=\"monospace\" font-size=\"12\">hidden1</text><rect x=\"200.0\" y=\"257\" width=\"75.0\" height=\"27\" style=\"fill:white;stroke:none\"><title>Weights from hidden2 to shared-hidden\n shared-hidden/kernel has shape (20, 5)\n shared-hidden/bias has shape (5,)</title></rect><line x1=\"275.0\" y1=\"284\" x2=\"200.0\" y2=\"257\" stroke=\"blue\" stroke-width=\"2\" marker-end=\"url(#arrow)\"><title>Weights from hidden2 to shared-hidden\n shared-hidden/kernel has shape (20, 5)\n shared-hidden/bias has shape (5,)</title></line><rect x=\"249.0\" y=\"284\" width=\"52\" height=\"27\" style=\"fill:none;stroke:blue;stroke-width:2\"/><image id=\"XOR2_hidden2_5\" class=\"XOR2_hidden2\" x=\"250.0\" y=\"285\" height=\"25\" width=\"50\" href=\"data:image/gif;base64,R0lGODdhCgABAIAAAH9/fwAAACwAAAAACgABAAAIBwABCBxIMCAAOw==\"><title>Layer: hidden2 (hidden)\n shape = (10,)\n Keras class = Dense\n activation = sigmoid</title></image><text x=\"305.0\" y=\"299.5\" font-family=\"monospace\" font-size=\"12\">hidden2</text><rect x=\"115.0\" y=\"312\" width=\"20.0\" height=\"27\" style=\"fill:white;stroke:none\"><title>Weights from input1 to hidden1\n hidden1/kernel has shape (1, 10)\n hidden1/bias has shape (10,)</title></rect><line x1=\"125.0\" y1=\"339\" x2=\"125.0\" y2=\"312\" stroke=\"blue\" stroke-width=\"2\" marker-end=\"url(#arrow)\"><title>Weights from input1 to hidden1\n hidden1/kernel has shape (1, 10)\n hidden1/bias has shape (10,)</title></line><rect x=\"99.0\" y=\"339\" width=\"52\" height=\"52\" style=\"fill:none;stroke:blue;stroke-width:2\"/><image id=\"XOR2_input1_6\" class=\"XOR2_input1\" x=\"100.0\" y=\"340\" height=\"50\" width=\"50\" href=\"data:image/gif;base64,R0lGODdhAQABAIAAAH9/fwAAACwAAAAAAQABAAAIBQABLAkIADs=\"><title>Layer: input1 (input)\n shape = (1,)\n Keras class = Input</title></image><text x=\"155.0\" y=\"367.0\" font-family=\"monospace\" font-size=\"12\">input1</text><rect x=\"265.0\" y=\"312\" width=\"20.0\" height=\"27\" style=\"fill:white;stroke:none\"><title>Weights from input2 to hidden2\n hidden2/kernel has shape (1, 10)\n hidden2/bias has shape (10,)</title></rect><line x1=\"275.0\" y1=\"339\" x2=\"275.0\" y2=\"312\" stroke=\"blue\" stroke-width=\"2\" marker-end=\"url(#arrow)\"><title>Weights from input2 to hidden2\n hidden2/kernel has shape (1, 10)\n hidden2/bias has shape (10,)</title></line><rect x=\"249.0\" y=\"339\" width=\"52\" height=\"52\" style=\"fill:none;stroke:blue;stroke-width:2\"/><image id=\"XOR2_input2_7\" class=\"XOR2_input2\" x=\"250.0\" y=\"340\" height=\"50\" width=\"50\" href=\"data:image/gif;base64,R0lGODdhAQABAIAAAH9/fwAAACwAAAAAAQABAAAIBQABLAkIADs=\"><title>Layer: input2 (input)\n shape = (1,)\n Keras class = Input</title></image><text x=\"305.0\" y=\"367.0\" font-family=\"monospace\" font-size=\"12\">input2</text></svg>"
      }
     },
     "8b0e7b96854b4164a94bf7375fb62f18": {
      "model_module": "jupyter-js-widgets",
      "model_module_version": "~2.1.4",
      "model_name": "ButtonStyleModel",
      "state": {
       "_model_module_version": "~2.1.4",
       "_view_module_version": "~2.1.4"
      }
     },
     "8b5c2eb9e0cb4ee1a38e78b650a83b5f": {
      "model_module": "jupyter-js-widgets",
      "model_module_version": "~2.1.4",
      "model_name": "LayoutModel",
      "state": {
       "_model_module_version": "~2.1.4",
       "_view_module_version": "~2.1.4",
       "width": "100%"
      }
     },
     "8c46f8934c2648d6a345830cbc47d63e": {
      "model_module": "jupyter-js-widgets",
      "model_module_version": "~2.1.4",
      "model_name": "ButtonModel",
      "state": {
       "_model_module_version": "~2.1.4",
       "_view_module_version": "~2.1.4",
       "icon": "fast-backward",
       "layout": "IPY_MODEL_2d8309c1dcc14bd1955db382f7b923f8",
       "style": "IPY_MODEL_8f839616d6bc4de6bd1bd7f44421b46a"
      }
     },
     "8c972c02a5be4df69ba4628cb0cf4742": {
      "model_module": "jupyter-js-widgets",
      "model_module_version": "~2.1.4",
      "model_name": "SliderStyleModel",
      "state": {
       "_model_module_version": "~2.1.4",
       "_view_module_version": "~2.1.4"
      }
     },
     "8d6f5ac2a278477c911311f982f3a824": {
      "model_module": "jupyter-js-widgets",
      "model_module_version": "~2.1.4",
      "model_name": "VBoxModel",
      "state": {
       "_model_module_version": "~2.1.4",
       "_view_module_version": "~2.1.4",
       "children": [
        "IPY_MODEL_f5f78273173b4507b0ddd318ed134db2",
        "IPY_MODEL_5440230da34a4980ae4df0b9933f34be"
       ],
       "layout": "IPY_MODEL_75a6c015a1ba480cb30c041bd247c2cf"
      }
     },
     "8e058a3e12e94ef6979e472fbdb2b4d4": {
      "model_module": "jupyter-js-widgets",
      "model_module_version": "~2.1.4",
      "model_name": "LayoutModel",
      "state": {
       "_model_module_version": "~2.1.4",
       "_view_module_version": "~2.1.4",
       "width": "100%"
      }
     },
     "8ea459f631a54b94884d0e6e63e298c7": {
      "model_module": "jupyter-js-widgets",
      "model_module_version": "~2.1.4",
      "model_name": "LayoutModel",
      "state": {
       "_model_module_version": "~2.1.4",
       "_view_module_version": "~2.1.4",
       "width": "100%"
      }
     },
     "8ea74b3d0a9a4fba8aeb53db7295bd7a": {
      "model_module": "jupyter-js-widgets",
      "model_module_version": "~2.1.4",
      "model_name": "SliderStyleModel",
      "state": {
       "_model_module_version": "~2.1.4",
       "_view_module_version": "~2.1.4"
      }
     },
     "8eba1d17087a48b2b313ddf9c64f2fb8": {
      "model_module": "jupyter-js-widgets",
      "model_module_version": "~2.1.4",
      "model_name": "ButtonModel",
      "state": {
       "_model_module_version": "~2.1.4",
       "_view_module_version": "~2.1.4",
       "icon": "fast-backward",
       "layout": "IPY_MODEL_9e03c372e3c44274a3fda3aa4b0a9545",
       "style": "IPY_MODEL_a4b16f5f069b463585d5afeb7aee717d"
      }
     },
     "8f839616d6bc4de6bd1bd7f44421b46a": {
      "model_module": "jupyter-js-widgets",
      "model_module_version": "~2.1.4",
      "model_name": "ButtonStyleModel",
      "state": {
       "_model_module_version": "~2.1.4",
       "_view_module_version": "~2.1.4"
      }
     },
     "8fd9fbf4715145b786d4d085b413e14f": {
      "model_module": "jupyter-js-widgets",
      "model_module_version": "~2.1.4",
      "model_name": "SelectModel",
      "state": {
       "_model_module_version": "~2.1.4",
       "_options_labels": [
        "Test",
        "Train"
       ],
       "_view_module_version": "~2.1.4",
       "description": "Dataset:",
       "layout": "IPY_MODEL_6626485146844f8f9b5c5253b5adf6c6",
       "value": "Train"
      }
     },
     "924183bff6d44bf6be6ead992e55411c": {
      "model_module": "jupyter-js-widgets",
      "model_module_version": "~2.1.4",
      "model_name": "ButtonStyleModel",
      "state": {
       "_model_module_version": "~2.1.4",
       "_view_module_version": "~2.1.4"
      }
     },
     "929a6cbb9ba64ab1b3d4bad31cb18266": {
      "model_module": "jupyter-js-widgets",
      "model_module_version": "~2.1.4",
      "model_name": "ButtonStyleModel",
      "state": {
       "_model_module_version": "~2.1.4",
       "_view_module_version": "~2.1.4"
      }
     },
     "92cc54225ea1459e9c1e84d67c0f7468": {
      "model_module": "jupyter-js-widgets",
      "model_module_version": "~2.1.4",
      "model_name": "ButtonStyleModel",
      "state": {
       "_model_module_version": "~2.1.4",
       "_view_module_version": "~2.1.4"
      }
     },
     "9592c88ecc1147399241e898beeb5002": {
      "model_module": "jupyter-js-widgets",
      "model_module_version": "~2.1.4",
      "model_name": "LayoutModel",
      "state": {
       "_model_module_version": "~2.1.4",
       "_view_module_version": "~2.1.4",
       "width": "100%"
      }
     },
     "95da171147f94038b4b65e134604db97": {
      "model_module": "jupyter-js-widgets",
      "model_module_version": "~2.1.4",
      "model_name": "ButtonStyleModel",
      "state": {
       "_model_module_version": "~2.1.4",
       "_view_module_version": "~2.1.4"
      }
     },
     "9640a9f69ad04505b0a708d7e3134201": {
      "model_module": "jupyter-js-widgets",
      "model_module_version": "~2.1.4",
      "model_name": "LayoutModel",
      "state": {
       "_model_module_version": "~2.1.4",
       "_view_module_version": "~2.1.4",
       "width": "100%"
      }
     },
     "97b736173982405e8621f8fa3fd9c5e3": {
      "model_module": "jupyter-js-widgets",
      "model_module_version": "~2.1.4",
      "model_name": "LayoutModel",
      "state": {
       "_model_module_version": "~2.1.4",
       "_view_module_version": "~2.1.4",
       "width": "100%"
      }
     },
     "984946643e994b7b84340e685953d5b9": {
      "model_module": "jupyter-js-widgets",
      "model_module_version": "~2.1.4",
      "model_name": "VBoxModel",
      "state": {
       "_model_module_version": "~2.1.4",
       "_view_module_version": "~2.1.4",
       "children": [
        "IPY_MODEL_7939bcb5a2ec4aa99a8caad03425b8db",
        "IPY_MODEL_7844f968f51b4644a9b07ad23fef738a"
       ],
       "layout": "IPY_MODEL_30640f2cf687427a8b5ba90cf7bee7c4"
      }
     },
     "99ea15ba3e81474ea8e0e053aa27da97": {
      "model_module": "jupyter-js-widgets",
      "model_module_version": "~2.1.4",
      "model_name": "ButtonStyleModel",
      "state": {
       "_model_module_version": "~2.1.4",
       "_view_module_version": "~2.1.4"
      }
     },
     "9a736becc8014b80b64cea79bec26237": {
      "model_module": "jupyter-js-widgets",
      "model_module_version": "~2.1.4",
      "model_name": "LayoutModel",
      "state": {
       "_model_module_version": "~2.1.4",
       "_view_module_version": "~2.1.4",
       "width": "100%"
      }
     },
     "9ad5035a78a343939aa6222517e4e3b3": {
      "model_module": "jupyter-js-widgets",
      "model_module_version": "~2.1.4",
      "model_name": "IntSliderModel",
      "state": {
       "_model_module_version": "~2.1.4",
       "_view_module_version": "~2.1.4",
       "continuous_update": false,
       "description": "Dataset index",
       "layout": "IPY_MODEL_679f8d5022084aa389793211883ccf7d",
       "max": 3,
       "style": "IPY_MODEL_8ea74b3d0a9a4fba8aeb53db7295bd7a",
       "value": 1
      }
     },
     "9c25bf46a28f4ed8814e6b340e2c4241": {
      "model_module": "jupyter-js-widgets",
      "model_module_version": "~2.1.4",
      "model_name": "ButtonModel",
      "state": {
       "_model_module_version": "~2.1.4",
       "_view_module_version": "~2.1.4",
       "icon": "fast-backward",
       "layout": "IPY_MODEL_c500da3ef29b483da0eadb7c9fcf8252",
       "style": "IPY_MODEL_6cef3719efc643f29b09977f5cfa28dc"
      }
     },
     "9c30a80ab5b246e194a1010d1c75445a": {
      "model_module": "jupyter-js-widgets",
      "model_module_version": "~2.1.4",
      "model_name": "ButtonModel",
      "state": {
       "_model_module_version": "~2.1.4",
       "_view_module_version": "~2.1.4",
       "icon": "forward",
       "layout": "IPY_MODEL_fda536fe3a5c4a888fe2669690d7c7de",
       "style": "IPY_MODEL_95da171147f94038b4b65e134604db97"
      }
     },
     "9c49cec184154bfcb68b09888372cd75": {
      "model_module": "jupyter-js-widgets",
      "model_module_version": "~2.1.4",
      "model_name": "LayoutModel",
      "state": {
       "_model_module_version": "~2.1.4",
       "_view_module_version": "~2.1.4",
       "width": "100%"
      }
     },
     "9d589baa825d4f74acc95253213712ce": {
      "model_module": "jupyter-js-widgets",
      "model_module_version": "~2.1.4",
      "model_name": "LayoutModel",
      "state": {
       "_model_module_version": "~2.1.4",
       "_view_module_version": "~2.1.4",
       "width": "100%"
      }
     },
     "9e03c372e3c44274a3fda3aa4b0a9545": {
      "model_module": "jupyter-js-widgets",
      "model_module_version": "~2.1.4",
      "model_name": "LayoutModel",
      "state": {
       "_model_module_version": "~2.1.4",
       "_view_module_version": "~2.1.4",
       "width": "100%"
      }
     },
     "9ee9412e318f4b479be3b471211fbbed": {
      "model_module": "jupyter-js-widgets",
      "model_module_version": "~2.1.4",
      "model_name": "LayoutModel",
      "state": {
       "_model_module_version": "~2.1.4",
       "_view_module_version": "~2.1.4",
       "width": "100%"
      }
     },
     "9fa4ffcc307143d5a414e17beca4493c": {
      "model_module": "jupyter-js-widgets",
      "model_module_version": "~2.1.4",
      "model_name": "ButtonModel",
      "state": {
       "_model_module_version": "~2.1.4",
       "_view_module_version": "~2.1.4",
       "description": "Train",
       "layout": "IPY_MODEL_b897814ecf584360a6f0da5b8699c252",
       "style": "IPY_MODEL_0bd89dc67049446c80dccc68b67103bd"
      }
     },
     "a00655655d464d158391df4ef1f7f5cb": {
      "model_module": "jupyter-js-widgets",
      "model_module_version": "~2.1.4",
      "model_name": "ButtonStyleModel",
      "state": {
       "_model_module_version": "~2.1.4",
       "_view_module_version": "~2.1.4"
      }
     },
     "a048f13910504d17a785512c4e463eb3": {
      "model_module": "jupyter-js-widgets",
      "model_module_version": "~2.1.4",
      "model_name": "LayoutModel",
      "state": {
       "_model_module_version": "~2.1.4",
       "_view_module_version": "~2.1.4",
       "width": "100%"
      }
     },
     "a07375a75bc34f31a335f502f341bb9f": {
      "model_module": "jupyter-js-widgets",
      "model_module_version": "~2.1.4",
      "model_name": "SliderStyleModel",
      "state": {
       "_model_module_version": "~2.1.4",
       "_view_module_version": "~2.1.4"
      }
     },
     "a178cae18a29457b91c8ad95c3f3bbba": {
      "model_module": "jupyter-js-widgets",
      "model_module_version": "~2.1.4",
      "model_name": "SelectModel",
      "state": {
       "_model_module_version": "~2.1.4",
       "_options_labels": [
        "Test",
        "Train"
       ],
       "_view_module_version": "~2.1.4",
       "description": "Dataset:",
       "layout": "IPY_MODEL_ddbafbdd71de4af09168e6fe52af25a0",
       "value": "Train"
      }
     },
     "a29e6376c0384340b7de47f5194e6338": {
      "model_module": "jupyter-js-widgets",
      "model_module_version": "~2.1.4",
      "model_name": "LayoutModel",
      "state": {
       "_model_module_version": "~2.1.4",
       "_view_module_version": "~2.1.4",
       "width": "100%"
      }
     },
     "a4b16f5f069b463585d5afeb7aee717d": {
      "model_module": "jupyter-js-widgets",
      "model_module_version": "~2.1.4",
      "model_name": "ButtonStyleModel",
      "state": {
       "_model_module_version": "~2.1.4",
       "_view_module_version": "~2.1.4"
      }
     },
     "a761243747b146559a3569b054ea4e3c": {
      "model_module": "jupyter-js-widgets",
      "model_module_version": "~2.1.4",
      "model_name": "HBoxModel",
      "state": {
       "_model_module_version": "~2.1.4",
       "_view_module_version": "~2.1.4",
       "children": [
        "IPY_MODEL_5b82ccbefd414414a9971da61ebaae4a",
        "IPY_MODEL_030378bda12e4823b6c720be962868e3",
        "IPY_MODEL_ace4b49454aa4777aca28101bb797615",
        "IPY_MODEL_4000a494a15d4f61b22dd13f3e7b449f",
        "IPY_MODEL_03292bed2615476ca523380ef510c7cd"
       ],
       "layout": "IPY_MODEL_340dccf3d56e4c95b58c3502dacccfcc"
      }
     },
     "a7a47cc140664ec7a00cfc13626d45ff": {
      "model_module": "jupyter-js-widgets",
      "model_module_version": "~2.1.4",
      "model_name": "ButtonStyleModel",
      "state": {
       "_model_module_version": "~2.1.4",
       "_view_module_version": "~2.1.4"
      }
     },
     "a8be7cf58d7045429dbeb5c7711dbcb7": {
      "model_module": "jupyter-js-widgets",
      "model_module_version": "~2.1.4",
      "model_name": "SelectModel",
      "state": {
       "_model_module_version": "~2.1.4",
       "_options_labels": [
        "Test",
        "Train"
       ],
       "_view_module_version": "~2.1.4",
       "description": "Dataset:",
       "layout": "IPY_MODEL_7882818655bf49c993269e7ddd4df5d8",
       "value": "Train"
      }
     },
     "a9054d57fb7b442490ceb0a2b7b4fd7a": {
      "model_module": "jupyter-js-widgets",
      "model_module_version": "~2.1.4",
      "model_name": "ButtonStyleModel",
      "state": {
       "_model_module_version": "~2.1.4",
       "_view_module_version": "~2.1.4"
      }
     },
     "ab08d716ecfa4929a8119a08381d47d8": {
      "model_module": "jupyter-js-widgets",
      "model_module_version": "~2.1.4",
      "model_name": "HTMLModel",
      "state": {
       "_model_module_version": "~2.1.4",
       "_view_module_version": "~2.1.4",
       "layout": "IPY_MODEL_b331228c84e845ec9c031ac3d56105cf",
       "value": "\n        <svg id='XOR2' xmlns='http://www.w3.org/2000/svg' width=\"700\" height=\"1030\" image-rendering=\"pixelated\">\n    <defs>\n        <marker id=\"arrow\" markerWidth=\"10\" markerHeight=\"10\" refX=\"9\" refY=\"3\" orient=\"auto\" markerUnits=\"strokeWidth\">\n          <path d=\"M0,0 L0,6 L9,3 z\" fill=\"blue\" />\n        </marker>\n    </defs>\n<rect x=\"99.0\" y=\"24\" width=\"202\" height=\"202\" style=\"fill:none;stroke:blue;stroke-width:2\"/><image id=\"XOR2_output1_targets_1\" class=\"XOR2_output1_targets\" x=\"100.0\" y=\"25\" height=\"200\" width=\"200\" href=\"data:image/gif;base64,R0lGODdhAQABAIAAAKWlpQAAACwAAAAAAQABAAAIBQABLAkIADs=\"><title>Layer: output1 (output)\n shape = (1,)\n Keras class = Dense\n activation = sigmoid</title></image><text x=\"305.0\" y=\"127.0\" font-family=\"monospace\" font-size=\"12\">targets</text><rect x=\"399.0\" y=\"24\" width=\"202\" height=\"202\" style=\"fill:none;stroke:blue;stroke-width:2\"/><image id=\"XOR2_output2_targets_1\" class=\"XOR2_output2_targets\" x=\"400.0\" y=\"25\" height=\"200\" width=\"200\" href=\"data:image/gif;base64,R0lGODdhAQABAIAAAI6OjgAAACwAAAAAAQABAAAIBQABLAkIADs=\"><title>Layer: output2 (output)\n shape = (1,)\n Keras class = Dense\n activation = sigmoid</title></image><text x=\"605.0\" y=\"127.0\" font-family=\"monospace\" font-size=\"12\">targets</text><rect x=\"99.0\" y=\"234\" width=\"202\" height=\"202\" style=\"fill:none;stroke:blue;stroke-width:2\"/><image id=\"XOR2_output1_errors_1\" class=\"XOR2_output1_errors\" x=\"100.0\" y=\"235\" height=\"200\" width=\"200\" href=\"data:image/gif;base64,R0lGODdhAQABAIAAAKWlpQAAACwAAAAAAQABAAAIBQABLAkIADs=\"><title>Layer: output1 (output)\n shape = (1,)\n Keras class = Dense\n activation = sigmoid</title></image><text x=\"305.0\" y=\"337.0\" font-family=\"monospace\" font-size=\"12\">errors</text><rect x=\"399.0\" y=\"234\" width=\"202\" height=\"202\" style=\"fill:none;stroke:blue;stroke-width:2\"/><image id=\"XOR2_output2_errors_1\" class=\"XOR2_output2_errors\" x=\"400.0\" y=\"235\" height=\"200\" width=\"200\" href=\"data:image/gif;base64,R0lGODdhAQABAIAAAI6OjgAAACwAAAAAAQABAAAIBQABLAkIADs=\"><title>Layer: output2 (output)\n shape = (1,)\n Keras class = Dense\n activation = sigmoid</title></image><text x=\"605.0\" y=\"337.0\" font-family=\"monospace\" font-size=\"12\">errors</text><rect x=\"99.0\" y=\"449\" width=\"202\" height=\"202\" style=\"fill:none;stroke:blue;stroke-width:2\"/><image id=\"XOR2_output1_1\" class=\"XOR2_output1\" x=\"100.0\" y=\"450\" height=\"200\" width=\"200\" href=\"data:image/gif;base64,R0lGODdhAQABAIAAAKWlpQAAACwAAAAAAQABAAAIBQABLAkIADs=\"><title>Layer: output1 (output)\n shape = (1,)\n Keras class = Dense\n activation = sigmoid</title></image><text x=\"305.0\" y=\"552.0\" font-family=\"monospace\" font-size=\"12\">output1</text><rect x=\"399.0\" y=\"449\" width=\"202\" height=\"202\" style=\"fill:none;stroke:blue;stroke-width:2\"/><image id=\"XOR2_output2_2\" class=\"XOR2_output2\" x=\"400.0\" y=\"450\" height=\"200\" width=\"200\" href=\"data:image/gif;base64,R0lGODdhAQABAIAAAI6OjgAAACwAAAAAAQABAAAIBQABLAkIADs=\"><title>Layer: output2 (output)\n shape = (1,)\n Keras class = Dense\n activation = sigmoid</title></image><text x=\"605.0\" y=\"552.0\" font-family=\"monospace\" font-size=\"12\">output2</text><rect x=\"200.0\" y=\"652\" width=\"150.0\" height=\"27\" style=\"fill:white;stroke:none\"><title>Weights from shared-hidden to output1\n output1/kernel has shape (5, 1)\n output1/bias has shape (1,)</title></rect><rect x=\"350.0\" y=\"652\" width=\"150.0\" height=\"27\" style=\"fill:white;stroke:none\"><title>Weights from shared-hidden to output2\n output2/kernel has shape (5, 1)\n output2/bias has shape (1,)</title></rect><line x1=\"350.0\" y1=\"679\" x2=\"200.0\" y2=\"652\" stroke=\"blue\" stroke-width=\"2\" marker-end=\"url(#arrow)\"><title>Weights from shared-hidden to output1\n output1/kernel has shape (5, 1)\n output1/bias has shape (1,)</title></line><line x1=\"350.0\" y1=\"679\" x2=\"500.0\" y2=\"652\" stroke=\"blue\" stroke-width=\"2\" marker-end=\"url(#arrow)\"><title>Weights from shared-hidden to output2\n output2/kernel has shape (5, 1)\n output2/bias has shape (1,)</title></line><rect x=\"249.0\" y=\"679\" width=\"202\" height=\"42\" style=\"fill:none;stroke:blue;stroke-width:2\"/><image id=\"XOR2_shared-hidden_3\" class=\"XOR2_shared-hidden\" x=\"250.0\" y=\"680\" height=\"40\" width=\"200\" href=\"data:image/gif;base64,R0lGODdhBQABAIIAAExMTFdXV3BwcL6+vtLS0gAAAAAAAAAAACwAAAAABQABAAAICAAHABBAIEBAADs=\"><title>Layer: shared-hidden (hidden)\n shape = (5,)\n Keras class = Dense\n activation = sigmoid</title></image><text x=\"455.0\" y=\"702.0\" font-family=\"monospace\" font-size=\"12\">shared-hidden</text><rect x=\"200.0\" y=\"722\" width=\"150.0\" height=\"27\" style=\"fill:white;stroke:none\"><title>Weights from hidden1 to shared-hidden\n shared-hidden/kernel has shape (20, 5)\n shared-hidden/bias has shape (5,)</title></rect><line x1=\"200.0\" y1=\"749\" x2=\"350.0\" y2=\"722\" stroke=\"blue\" stroke-width=\"2\" marker-end=\"url(#arrow)\"><title>Weights from hidden1 to shared-hidden\n shared-hidden/kernel has shape (20, 5)\n shared-hidden/bias has shape (5,)</title></line><rect x=\"99.0\" y=\"749\" width=\"202\" height=\"27\" style=\"fill:none;stroke:blue;stroke-width:2\"/><image id=\"XOR2_hidden1_4\" class=\"XOR2_hidden1\" x=\"100.0\" y=\"750\" height=\"25\" width=\"200\" href=\"data:image/gif;base64,R0lGODdhCgABAIAAAH9/fwAAACwAAAAACgABAAAIBwABCBxIMCAAOw==\"><title>Layer: hidden1 (hidden)\n shape = (10,)\n Keras class = Dense\n activation = sigmoid</title></image><text x=\"305.0\" y=\"764.5\" font-family=\"monospace\" font-size=\"12\">hidden1</text><rect x=\"350.0\" y=\"722\" width=\"150.0\" height=\"27\" style=\"fill:white;stroke:none\"><title>Weights from hidden2 to shared-hidden\n shared-hidden/kernel has shape (20, 5)\n shared-hidden/bias has shape (5,)</title></rect><line x1=\"500.0\" y1=\"749\" x2=\"350.0\" y2=\"722\" stroke=\"blue\" stroke-width=\"2\" marker-end=\"url(#arrow)\"><title>Weights from hidden2 to shared-hidden\n shared-hidden/kernel has shape (20, 5)\n shared-hidden/bias has shape (5,)</title></line><rect x=\"399.0\" y=\"749\" width=\"202\" height=\"27\" style=\"fill:none;stroke:blue;stroke-width:2\"/><image id=\"XOR2_hidden2_5\" class=\"XOR2_hidden2\" x=\"400.0\" y=\"750\" height=\"25\" width=\"200\" href=\"data:image/gif;base64,R0lGODdhCgABAIAAAH9/fwAAACwAAAAACgABAAAIBwABCBxIMCAAOw==\"><title>Layer: hidden2 (hidden)\n shape = (10,)\n Keras class = Dense\n activation = sigmoid</title></image><text x=\"605.0\" y=\"764.5\" font-family=\"monospace\" font-size=\"12\">hidden2</text><rect x=\"190.0\" y=\"777\" width=\"20.0\" height=\"27\" style=\"fill:white;stroke:none\"><title>Weights from input1 to hidden1\n hidden1/kernel has shape (1, 10)\n hidden1/bias has shape (10,)</title></rect><line x1=\"200.0\" y1=\"804\" x2=\"200.0\" y2=\"777\" stroke=\"blue\" stroke-width=\"2\" marker-end=\"url(#arrow)\"><title>Weights from input1 to hidden1\n hidden1/kernel has shape (1, 10)\n hidden1/bias has shape (10,)</title></line><rect x=\"99.0\" y=\"804\" width=\"202\" height=\"202\" style=\"fill:none;stroke:blue;stroke-width:2\"/><image id=\"XOR2_input1_6\" class=\"XOR2_input1\" x=\"100.0\" y=\"805\" height=\"200\" width=\"200\" href=\"data:image/gif;base64,R0lGODdhAQABAIAAAH9/fwAAACwAAAAAAQABAAAIBQABLAkIADs=\"><title>Layer: input1 (input)\n shape = (1,)\n Keras class = Input</title></image><text x=\"305.0\" y=\"907.0\" font-family=\"monospace\" font-size=\"12\">input1</text><rect x=\"490.0\" y=\"777\" width=\"20.0\" height=\"27\" style=\"fill:white;stroke:none\"><title>Weights from input2 to hidden2\n hidden2/kernel has shape (1, 10)\n hidden2/bias has shape (10,)</title></rect><line x1=\"500.0\" y1=\"804\" x2=\"500.0\" y2=\"777\" stroke=\"blue\" stroke-width=\"2\" marker-end=\"url(#arrow)\"><title>Weights from input2 to hidden2\n hidden2/kernel has shape (1, 10)\n hidden2/bias has shape (10,)</title></line><rect x=\"399.0\" y=\"804\" width=\"202\" height=\"202\" style=\"fill:none;stroke:blue;stroke-width:2\"/><image id=\"XOR2_input2_7\" class=\"XOR2_input2\" x=\"400.0\" y=\"805\" height=\"200\" width=\"200\" href=\"data:image/gif;base64,R0lGODdhAQABAIAAAH9/fwAAACwAAAAAAQABAAAIBQABLAkIADs=\"><title>Layer: input2 (input)\n shape = (1,)\n Keras class = Input</title></image><text x=\"605.0\" y=\"907.0\" font-family=\"monospace\" font-size=\"12\">input2</text></svg>"
      }
     },
     "abac433d35aa47839ab4bca46defad5a": {
      "model_module": "jupyter-js-widgets",
      "model_module_version": "~2.1.4",
      "model_name": "LayoutModel",
      "state": {
       "_model_module_version": "~2.1.4",
       "_view_module_version": "~2.1.4",
       "width": "100%"
      }
     },
     "abc6b4bcfb1448679a28d575d7415070": {
      "model_module": "jupyter-js-widgets",
      "model_module_version": "~2.1.4",
      "model_name": "VBoxModel",
      "state": {
       "_model_module_version": "~2.1.4",
       "_view_module_version": "~2.1.4",
       "children": [
        "IPY_MODEL_a178cae18a29457b91c8ad95c3f3bbba",
        "IPY_MODEL_27e360ef1868474996bc5642ac793fc1",
        "IPY_MODEL_32ba62b244254298be419af381f44ca2"
       ],
       "layout": "IPY_MODEL_86288e1ebb6443edabe04f59c608dde2"
      }
     },
     "ac00a98bc94a42b9a8fd3cc341929005": {
      "model_module": "jupyter-js-widgets",
      "model_module_version": "~2.1.4",
      "model_name": "VBoxModel",
      "state": {
       "_model_module_version": "~2.1.4",
       "_view_module_version": "~2.1.4",
       "children": [
        "IPY_MODEL_ab08d716ecfa4929a8119a08381d47d8",
        "IPY_MODEL_f15c2f6980b24ab9bd41d5e08b7505a2"
       ],
       "layout": "IPY_MODEL_6e38c1a7ece843adae479a8631ace86e"
      }
     },
     "ac181290b6f74d499e3720d3462dcd63": {
      "model_module": "jupyter-js-widgets",
      "model_module_version": "~2.1.4",
      "model_name": "LayoutModel",
      "state": {
       "_model_module_version": "~2.1.4",
       "_view_module_version": "~2.1.4",
       "width": "100%"
      }
     },
     "ac560469183d4e059c8fe40eebd51ab3": {
      "model_module": "jupyter-js-widgets",
      "model_module_version": "~2.1.4",
      "model_name": "ButtonModel",
      "state": {
       "_model_module_version": "~2.1.4",
       "_view_module_version": "~2.1.4",
       "icon": "fast-forward",
       "layout": "IPY_MODEL_d7a4d571470b479b9cee592997639a31",
       "style": "IPY_MODEL_77bd029bde1f4d658d7e4f15e544b6a9"
      }
     },
     "ace1bfbefc76421db9f6aafb4de1be18": {
      "model_module": "jupyter-js-widgets",
      "model_module_version": "~2.1.4",
      "model_name": "HTMLModel",
      "state": {
       "_model_module_version": "~2.1.4",
       "_view_module_version": "~2.1.4",
       "layout": "IPY_MODEL_6f649e255289432f909e2edab60778c1",
       "value": "\n        <svg id='XOR2' xmlns='http://www.w3.org/2000/svg' width=\"400\" height=\"415\" image-rendering=\"pixelated\">\n    <defs>\n        <marker id=\"arrow\" markerWidth=\"10\" markerHeight=\"10\" refX=\"9\" refY=\"3\" orient=\"auto\" markerUnits=\"strokeWidth\">\n          <path d=\"M0,0 L0,6 L9,3 z\" fill=\"blue\" />\n        </marker>\n    </defs>\n<rect x=\"99.0\" y=\"24\" width=\"52\" height=\"52\" style=\"fill:none;stroke:blue;stroke-width:2\"/><image id=\"XOR2_output1_targets_8\" class=\"XOR2_output1_targets\" x=\"100.0\" y=\"25\" height=\"50\" width=\"50\" preserveAspectRatio=\"none\" href=\"data:image/gif;base64,R0lGODdhAQABAIAAAIGBgQAAACwAAAAAAQABAAAIBQABrAsIADs=\"><title>Layer: output1 (output)\n shape = (1,)\n Keras class = Dense\n activation = sigmoid</title></image><text x=\"155.0\" y=\"52.0\" font-family=\"monospace\" font-size=\"12\">targets</text><rect x=\"249.0\" y=\"24\" width=\"52\" height=\"52\" style=\"fill:none;stroke:blue;stroke-width:2\"/><image id=\"XOR2_output2_targets_8\" class=\"XOR2_output2_targets\" x=\"250.0\" y=\"25\" height=\"50\" width=\"50\" preserveAspectRatio=\"none\" href=\"data:image/gif;base64,R0lGODdhAQABAIAAAEhISAAAACwAAAAAAQABAAAIBQABrAsIADs=\"><title>Layer: output2 (output)\n shape = (1,)\n Keras class = Dense\n activation = sigmoid</title></image><text x=\"305.0\" y=\"52.0\" font-family=\"monospace\" font-size=\"12\">targets</text><rect x=\"99.0\" y=\"84\" width=\"52\" height=\"52\" style=\"fill:none;stroke:blue;stroke-width:2\"/><image id=\"XOR2_output1_errors_8\" class=\"XOR2_output1_errors\" x=\"100.0\" y=\"85\" height=\"50\" width=\"50\" preserveAspectRatio=\"none\" href=\"data:image/gif;base64,R0lGODdhAQABAIAAAIGBgQAAACwAAAAAAQABAAAIBQABrAsIADs=\"><title>Layer: output1 (output)\n shape = (1,)\n Keras class = Dense\n activation = sigmoid</title></image><text x=\"155.0\" y=\"112.0\" font-family=\"monospace\" font-size=\"12\">errors</text><rect x=\"249.0\" y=\"84\" width=\"52\" height=\"52\" style=\"fill:none;stroke:blue;stroke-width:2\"/><image id=\"XOR2_output2_errors_8\" class=\"XOR2_output2_errors\" x=\"250.0\" y=\"85\" height=\"50\" width=\"50\" preserveAspectRatio=\"none\" href=\"data:image/gif;base64,R0lGODdhAQABAIAAAEhISAAAACwAAAAAAQABAAAIBQABrAsIADs=\"><title>Layer: output2 (output)\n shape = (1,)\n Keras class = Dense\n activation = sigmoid</title></image><text x=\"305.0\" y=\"112.0\" font-family=\"monospace\" font-size=\"12\">errors</text><rect x=\"99.0\" y=\"149\" width=\"52\" height=\"52\" style=\"fill:none;stroke:blue;stroke-width:2\"/><image id=\"XOR2_output1_8\" class=\"XOR2_output1\" x=\"100.0\" y=\"150\" height=\"50\" width=\"50\" preserveAspectRatio=\"none\" href=\"data:image/gif;base64,R0lGODdhAQABAIAAAIGBgQAAACwAAAAAAQABAAAIBQABrAsIADs=\"><title>Layer: output1 (output)\n shape = (1,)\n Keras class = Dense\n activation = sigmoid</title></image><text x=\"155.0\" y=\"177.0\" font-family=\"monospace\" font-size=\"12\">output1</text><rect x=\"249.0\" y=\"149\" width=\"52\" height=\"52\" style=\"fill:none;stroke:blue;stroke-width:2\"/><image id=\"XOR2_output2_9\" class=\"XOR2_output2\" x=\"250.0\" y=\"150\" height=\"50\" width=\"50\" preserveAspectRatio=\"none\" href=\"data:image/gif;base64,R0lGODdhAQABAIAAAEhISAAAACwAAAAAAQABAAAIBQABrAsIADs=\"><title>Layer: output2 (output)\n shape = (1,)\n Keras class = Dense\n activation = sigmoid</title></image><text x=\"305.0\" y=\"177.0\" font-family=\"monospace\" font-size=\"12\">output2</text><rect x=\"125.0\" y=\"202\" width=\"75.0\" height=\"27\" style=\"fill:white;stroke:none\"><title>Weights from shared-hidden to output1\n output1/kernel has shape (5, 1)\n output1/bias has shape (1,)</title></rect><rect x=\"200.0\" y=\"202\" width=\"75.0\" height=\"27\" style=\"fill:white;stroke:none\"><title>Weights from shared-hidden to output2\n output2/kernel has shape (5, 1)\n output2/bias has shape (1,)</title></rect><line x1=\"200.0\" y1=\"229\" x2=\"125.0\" y2=\"202\" stroke=\"blue\" stroke-width=\"2\" marker-end=\"url(#arrow)\"><title>Weights from shared-hidden to output1\n output1/kernel has shape (5, 1)\n output1/bias has shape (1,)</title></line><line x1=\"200.0\" y1=\"229\" x2=\"275.0\" y2=\"202\" stroke=\"blue\" stroke-width=\"2\" marker-end=\"url(#arrow)\"><title>Weights from shared-hidden to output2\n output2/kernel has shape (5, 1)\n output2/bias has shape (1,)</title></line><rect x=\"174.0\" y=\"229\" width=\"52\" height=\"27\" style=\"fill:none;stroke:blue;stroke-width:2\"/><image id=\"XOR2_shared-hidden_10\" class=\"XOR2_shared-hidden\" x=\"175.0\" y=\"230\" height=\"25\" width=\"50\" preserveAspectRatio=\"none\" href=\"data:image/gif;base64,R0lGODdhBQABAIIAAD8/P3Z2dnt7e5KSkp6engAAAAAAAAAAACwAAAAABQABAAAICAAHEAggAEBAADs=\"><title>Layer: shared-hidden (hidden)\n shape = (5,)\n Keras class = Dense\n activation = sigmoid</title></image><text x=\"230.0\" y=\"244.5\" font-family=\"monospace\" font-size=\"12\">shared-hidden</text><rect x=\"125.0\" y=\"257\" width=\"75.0\" height=\"27\" style=\"fill:white;stroke:none\"><title>Weights from hidden1 to shared-hidden\n shared-hidden/kernel has shape (20, 5)\n shared-hidden/bias has shape (5,)</title></rect><line x1=\"125.0\" y1=\"284\" x2=\"200.0\" y2=\"257\" stroke=\"blue\" stroke-width=\"2\" marker-end=\"url(#arrow)\"><title>Weights from hidden1 to shared-hidden\n shared-hidden/kernel has shape (20, 5)\n shared-hidden/bias has shape (5,)</title></line><rect x=\"99.0\" y=\"284\" width=\"52\" height=\"27\" style=\"fill:none;stroke:blue;stroke-width:2\"/><image id=\"XOR2_hidden1_11\" class=\"XOR2_hidden1\" x=\"100.0\" y=\"285\" height=\"25\" width=\"50\" preserveAspectRatio=\"none\" href=\"data:image/gif;base64,R0lGODdhCgABAIAAAH9/fwAAACwAAAAACgABAAAIBwABCBxIMCAAOw==\"><title>Layer: hidden1 (hidden)\n shape = (10,)\n Keras class = Dense\n activation = sigmoid</title></image><text x=\"155.0\" y=\"299.5\" font-family=\"monospace\" font-size=\"12\">hidden1</text><rect x=\"200.0\" y=\"257\" width=\"75.0\" height=\"27\" style=\"fill:white;stroke:none\"><title>Weights from hidden2 to shared-hidden\n shared-hidden/kernel has shape (20, 5)\n shared-hidden/bias has shape (5,)</title></rect><line x1=\"275.0\" y1=\"284\" x2=\"200.0\" y2=\"257\" stroke=\"blue\" stroke-width=\"2\" marker-end=\"url(#arrow)\"><title>Weights from hidden2 to shared-hidden\n shared-hidden/kernel has shape (20, 5)\n shared-hidden/bias has shape (5,)</title></line><rect x=\"249.0\" y=\"284\" width=\"52\" height=\"27\" style=\"fill:none;stroke:blue;stroke-width:2\"/><image id=\"XOR2_hidden2_12\" class=\"XOR2_hidden2\" x=\"250.0\" y=\"285\" height=\"25\" width=\"50\" preserveAspectRatio=\"none\" href=\"data:image/gif;base64,R0lGODdhCgABAIAAAH9/fwAAACwAAAAACgABAAAIBwABCBxIMCAAOw==\"><title>Layer: hidden2 (hidden)\n shape = (10,)\n Keras class = Dense\n activation = sigmoid</title></image><text x=\"305.0\" y=\"299.5\" font-family=\"monospace\" font-size=\"12\">hidden2</text><rect x=\"115.0\" y=\"312\" width=\"20.0\" height=\"27\" style=\"fill:white;stroke:none\"><title>Weights from input1 to hidden1\n hidden1/kernel has shape (1, 10)\n hidden1/bias has shape (10,)</title></rect><line x1=\"125.0\" y1=\"339\" x2=\"125.0\" y2=\"312\" stroke=\"blue\" stroke-width=\"2\" marker-end=\"url(#arrow)\"><title>Weights from input1 to hidden1\n hidden1/kernel has shape (1, 10)\n hidden1/bias has shape (10,)</title></line><rect x=\"99.0\" y=\"339\" width=\"52\" height=\"52\" style=\"fill:none;stroke:blue;stroke-width:2\"/><image id=\"XOR2_input1_13\" class=\"XOR2_input1\" x=\"100.0\" y=\"340\" height=\"50\" width=\"50\" preserveAspectRatio=\"none\" href=\"data:image/gif;base64,R0lGODdhAQABAIAAAH9/fwAAACwAAAAAAQABAAAIBQABrAsIADs=\"><title>Layer: input1 (input)\n shape = (1,)\n Keras class = Input</title></image><text x=\"155.0\" y=\"367.0\" font-family=\"monospace\" font-size=\"12\">input1</text><rect x=\"265.0\" y=\"312\" width=\"20.0\" height=\"27\" style=\"fill:white;stroke:none\"><title>Weights from input2 to hidden2\n hidden2/kernel has shape (1, 10)\n hidden2/bias has shape (10,)</title></rect><line x1=\"275.0\" y1=\"339\" x2=\"275.0\" y2=\"312\" stroke=\"blue\" stroke-width=\"2\" marker-end=\"url(#arrow)\"><title>Weights from input2 to hidden2\n hidden2/kernel has shape (1, 10)\n hidden2/bias has shape (10,)</title></line><rect x=\"249.0\" y=\"339\" width=\"52\" height=\"52\" style=\"fill:none;stroke:blue;stroke-width:2\"/><image id=\"XOR2_input2_14\" class=\"XOR2_input2\" x=\"250.0\" y=\"340\" height=\"50\" width=\"50\" preserveAspectRatio=\"none\" href=\"data:image/gif;base64,R0lGODdhAQABAIAAAH9/fwAAACwAAAAAAQABAAAIBQABrAsIADs=\"><title>Layer: input2 (input)\n shape = (1,)\n Keras class = Input</title></image><text x=\"305.0\" y=\"367.0\" font-family=\"monospace\" font-size=\"12\">input2</text></svg>"
      }
     },
     "ace4b49454aa4777aca28101bb797615": {
      "model_module": "jupyter-js-widgets",
      "model_module_version": "~2.1.4",
      "model_name": "ButtonModel",
      "state": {
       "_model_module_version": "~2.1.4",
       "_view_module_version": "~2.1.4",
       "description": "Train",
       "layout": "IPY_MODEL_215714f7684942f1855549e3ea105b70",
       "style": "IPY_MODEL_384c6e9ef7c141e784c9b5d8a4cc9f35"
      }
     },
     "ad0fa406d6804f4e964a0f04c533c495": {
      "model_module": "jupyter-js-widgets",
      "model_module_version": "~2.1.4",
      "model_name": "ButtonModel",
      "state": {
       "_model_module_version": "~2.1.4",
       "_view_module_version": "~2.1.4",
       "description": "Train",
       "layout": "IPY_MODEL_babd1fde833d42ecbaf8c2a87a6ba63a",
       "style": "IPY_MODEL_7d616000c492477bbb637656d6885e23"
      }
     },
     "adc79d9751bf4062af7fdb65611f0e70": {
      "model_module": "jupyter-js-widgets",
      "model_module_version": "~2.1.4",
      "model_name": "ButtonModel",
      "state": {
       "_model_module_version": "~2.1.4",
       "_view_module_version": "~2.1.4",
       "icon": "forward",
       "layout": "IPY_MODEL_b8a867724781418280ce16bfb5a45687",
       "style": "IPY_MODEL_fbad782e99894c0fbac4431bcf391183"
      }
     },
     "ae78b1798b6748179929dcfdeb2625d0": {
      "model_module": "jupyter-js-widgets",
      "model_module_version": "~2.1.4",
      "model_name": "ButtonStyleModel",
      "state": {
       "_model_module_version": "~2.1.4",
       "_view_module_version": "~2.1.4"
      }
     },
     "b02e0584a7f64c51892b3a761c441c93": {
      "model_module": "jupyter-js-widgets",
      "model_module_version": "~2.1.4",
      "model_name": "ButtonModel",
      "state": {
       "_model_module_version": "~2.1.4",
       "_view_module_version": "~2.1.4",
       "icon": "backward",
       "layout": "IPY_MODEL_166d6e15f58e4cd990f3fe974e156e5d",
       "style": "IPY_MODEL_7ba13e536d00445f82ba7f0a22282eeb"
      }
     },
     "b1c8f6fc9806482da7ee6497883b27ea": {
      "model_module": "jupyter-js-widgets",
      "model_module_version": "~2.1.4",
      "model_name": "LayoutModel",
      "state": {
       "_model_module_version": "~2.1.4",
       "_view_module_version": "~2.1.4",
       "height": "100%",
       "max_height": "550px",
       "overflow_x": "auto",
       "width": "100%"
      }
     },
     "b3284439520c44819dbfd3cf273cc175": {
      "model_module": "jupyter-js-widgets",
      "model_module_version": "~2.1.4",
      "model_name": "ButtonModel",
      "state": {
       "_model_module_version": "~2.1.4",
       "_view_module_version": "~2.1.4",
       "icon": "fast-forward",
       "layout": "IPY_MODEL_f8a49bcc40594618ac4795e4f2404f80",
       "style": "IPY_MODEL_6156c21ce98e4d61a1b68c13c08147b1"
      }
     },
     "b331228c84e845ec9c031ac3d56105cf": {
      "model_module": "jupyter-js-widgets",
      "model_module_version": "~2.1.4",
      "model_name": "LayoutModel",
      "state": {
       "_model_module_version": "~2.1.4",
       "_view_module_version": "~2.1.4",
       "height": "100%",
       "max_height": "550px",
       "overflow_x": "auto",
       "width": "100%"
      }
     },
     "b3412454557a46c2977ccbfc3abfa0db": {
      "model_module": "jupyter-js-widgets",
      "model_module_version": "~2.1.4",
      "model_name": "LayoutModel",
      "state": {
       "_model_module_version": "~2.1.4",
       "_view_module_version": "~2.1.4",
       "width": "100%"
      }
     },
     "b52ce74f3fea413ea5c0623422d1cc50": {
      "model_module": "jupyter-js-widgets",
      "model_module_version": "~2.1.4",
      "model_name": "VBoxModel",
      "state": {
       "_model_module_version": "~2.1.4",
       "_view_module_version": "~2.1.4",
       "children": [
        "IPY_MODEL_d63ef6163555471ab221e6ac317116d5",
        "IPY_MODEL_091708ef89914a53a66b2328259e68c6"
       ],
       "layout": "IPY_MODEL_abac433d35aa47839ab4bca46defad5a"
      }
     },
     "b5c7a222500c4036b3fd027e3e869325": {
      "model_module": "jupyter-js-widgets",
      "model_module_version": "~2.1.4",
      "model_name": "ButtonModel",
      "state": {
       "_model_module_version": "~2.1.4",
       "_view_module_version": "~2.1.4",
       "description": "Train",
       "layout": "IPY_MODEL_12c4589746334142a5c30327fb024f43",
       "style": "IPY_MODEL_1b579505c77741faacd82bd54ca31bfd"
      }
     },
     "b6ffb60ffa2d44d7a86d856f54751f0f": {
      "model_module": "jupyter-js-widgets",
      "model_module_version": "~2.1.4",
      "model_name": "LayoutModel",
      "state": {
       "_model_module_version": "~2.1.4",
       "_view_module_version": "~2.1.4",
       "height": "100%",
       "max_height": "550px",
       "overflow_x": "auto",
       "width": "100%"
      }
     },
     "b7b21f35c0ea450aa984b798f81b2906": {
      "model_module": "jupyter-js-widgets",
      "model_module_version": "~2.1.4",
      "model_name": "ButtonStyleModel",
      "state": {
       "_model_module_version": "~2.1.4",
       "_view_module_version": "~2.1.4"
      }
     },
     "b897814ecf584360a6f0da5b8699c252": {
      "model_module": "jupyter-js-widgets",
      "model_module_version": "~2.1.4",
      "model_name": "LayoutModel",
      "state": {
       "_model_module_version": "~2.1.4",
       "_view_module_version": "~2.1.4",
       "width": "100%"
      }
     },
     "b8a867724781418280ce16bfb5a45687": {
      "model_module": "jupyter-js-widgets",
      "model_module_version": "~2.1.4",
      "model_name": "LayoutModel",
      "state": {
       "_model_module_version": "~2.1.4",
       "_view_module_version": "~2.1.4",
       "width": "100%"
      }
     },
     "ba15dd79a9b94820bc7602d717537fc5": {
      "model_module": "jupyter-js-widgets",
      "model_module_version": "~2.1.4",
      "model_name": "ButtonStyleModel",
      "state": {
       "_model_module_version": "~2.1.4",
       "_view_module_version": "~2.1.4"
      }
     },
     "babd1fde833d42ecbaf8c2a87a6ba63a": {
      "model_module": "jupyter-js-widgets",
      "model_module_version": "~2.1.4",
      "model_name": "LayoutModel",
      "state": {
       "_model_module_version": "~2.1.4",
       "_view_module_version": "~2.1.4",
       "width": "100%"
      }
     },
     "bcb147d7268a48c5aaafb7c64367c324": {
      "model_module": "jupyter-js-widgets",
      "model_module_version": "~2.1.4",
      "model_name": "LayoutModel",
      "state": {
       "_model_module_version": "~2.1.4",
       "_view_module_version": "~2.1.4",
       "width": "100%"
      }
     },
     "bcde5c3396ff41018aff949ad2466082": {
      "model_module": "jupyter-js-widgets",
      "model_module_version": "~2.1.4",
      "model_name": "ButtonStyleModel",
      "state": {
       "_model_module_version": "~2.1.4",
       "_view_module_version": "~2.1.4"
      }
     },
     "bd4978e459f248128c5c90d6db05756a": {
      "model_module": "jupyter-js-widgets",
      "model_module_version": "~2.1.4",
      "model_name": "LayoutModel",
      "state": {
       "_model_module_version": "~2.1.4",
       "_view_module_version": "~2.1.4",
       "width": "100%"
      }
     },
     "bd91f5243d904a4c94df4e6c262aac26": {
      "model_module": "jupyter-js-widgets",
      "model_module_version": "~2.1.4",
      "model_name": "LayoutModel",
      "state": {
       "_model_module_version": "~2.1.4",
       "_view_module_version": "~2.1.4",
       "height": "100%",
       "max_height": "550px",
       "overflow_x": "auto",
       "width": "100%"
      }
     },
     "bdc3b0c6345542cca10151d80ec03fb8": {
      "model_module": "jupyter-js-widgets",
      "model_module_version": "~2.1.4",
      "model_name": "ButtonStyleModel",
      "state": {
       "_model_module_version": "~2.1.4",
       "_view_module_version": "~2.1.4"
      }
     },
     "bfb0f1c46b584ec88df8ac3c978ecd54": {
      "model_module": "jupyter-js-widgets",
      "model_module_version": "~2.1.4",
      "model_name": "LayoutModel",
      "state": {
       "_model_module_version": "~2.1.4",
       "_view_module_version": "~2.1.4",
       "width": "100%"
      }
     },
     "c054426c52a0469b9ed15d473b178ee6": {
      "model_module": "jupyter-js-widgets",
      "model_module_version": "~2.1.4",
      "model_name": "ButtonStyleModel",
      "state": {
       "_model_module_version": "~2.1.4",
       "_view_module_version": "~2.1.4"
      }
     },
     "c05f26784df548aa9b211cdbe1c9cb55": {
      "model_module": "jupyter-js-widgets",
      "model_module_version": "~2.1.4",
      "model_name": "LayoutModel",
      "state": {
       "_model_module_version": "~2.1.4",
       "_view_module_version": "~2.1.4",
       "width": "100%"
      }
     },
     "c161855e863f45f2b59adc8b2b49e08b": {
      "model_module": "jupyter-js-widgets",
      "model_module_version": "~2.1.4",
      "model_name": "LayoutModel",
      "state": {
       "_model_module_version": "~2.1.4",
       "_view_module_version": "~2.1.4",
       "width": "100%"
      }
     },
     "c4359def9ca8453fa9caf04551253bff": {
      "model_module": "jupyter-js-widgets",
      "model_module_version": "~2.1.4",
      "model_name": "ButtonModel",
      "state": {
       "_model_module_version": "~2.1.4",
       "_view_module_version": "~2.1.4",
       "icon": "backward",
       "layout": "IPY_MODEL_6a264b94b2ec447987b41316a6c5fdfe",
       "style": "IPY_MODEL_8b0e7b96854b4164a94bf7375fb62f18"
      }
     },
     "c4663b180c2848e380529a7fce7f7bce": {
      "model_module": "jupyter-js-widgets",
      "model_module_version": "~2.1.4",
      "model_name": "SelectModel",
      "state": {
       "_model_module_version": "~2.1.4",
       "_options_labels": [
        "Test",
        "Train"
       ],
       "_view_module_version": "~2.1.4",
       "description": "Dataset:",
       "layout": "IPY_MODEL_7d8c3a4c0c514035b671d5d44419ed51",
       "value": "Train"
      }
     },
     "c500da3ef29b483da0eadb7c9fcf8252": {
      "model_module": "jupyter-js-widgets",
      "model_module_version": "~2.1.4",
      "model_name": "LayoutModel",
      "state": {
       "_model_module_version": "~2.1.4",
       "_view_module_version": "~2.1.4",
       "width": "100%"
      }
     },
     "c6a68d3b31d94ec68c618425f7d94a4f": {
      "model_module": "jupyter-js-widgets",
      "model_module_version": "~2.1.4",
      "model_name": "LayoutModel",
      "state": {
       "_model_module_version": "~2.1.4",
       "_view_module_version": "~2.1.4",
       "width": "100%"
      }
     },
     "c6dc8283cc854832b255db3cd2d6c304": {
      "model_module": "jupyter-js-widgets",
      "model_module_version": "~2.1.4",
      "model_name": "SliderStyleModel",
      "state": {
       "_model_module_version": "~2.1.4",
       "_view_module_version": "~2.1.4"
      }
     },
     "c6f0e9cd4e174778a06a36bd17ca0300": {
      "model_module": "jupyter-js-widgets",
      "model_module_version": "~2.1.4",
      "model_name": "LayoutModel",
      "state": {
       "_model_module_version": "~2.1.4",
       "_view_module_version": "~2.1.4",
       "width": "100%"
      }
     },
     "c77b024d83584b17831423561698f453": {
      "model_module": "jupyter-js-widgets",
      "model_module_version": "~2.1.4",
      "model_name": "ButtonModel",
      "state": {
       "_model_module_version": "~2.1.4",
       "_view_module_version": "~2.1.4",
       "icon": "fast-backward",
       "layout": "IPY_MODEL_3560b8135726472cbc041df3d99fda30",
       "style": "IPY_MODEL_bcde5c3396ff41018aff949ad2466082"
      }
     },
     "c8537e7a5e6e4c189fc697de4b37f54a": {
      "model_module": "jupyter-js-widgets",
      "model_module_version": "~2.1.4",
      "model_name": "IntSliderModel",
      "state": {
       "_model_module_version": "~2.1.4",
       "_view_module_version": "~2.1.4",
       "continuous_update": false,
       "description": "Dataset index",
       "layout": "IPY_MODEL_3b1466773dbe4084b2f7d40594ab8c7a",
       "max": 3,
       "style": "IPY_MODEL_03c08cf957594332ae6b0cb5b86e01a0"
      }
     },
     "c895c746199049db8e5011a1d48090ea": {
      "model_module": "jupyter-js-widgets",
      "model_module_version": "~2.1.4",
      "model_name": "LayoutModel",
      "state": {
       "_model_module_version": "~2.1.4",
       "_view_module_version": "~2.1.4",
       "width": "100%"
      }
     },
     "cc813ee7afba4138a0966ea32c49a5e6": {
      "model_module": "jupyter-js-widgets",
      "model_module_version": "~2.1.4",
      "model_name": "ButtonModel",
      "state": {
       "_model_module_version": "~2.1.4",
       "_view_module_version": "~2.1.4",
       "icon": "fast-forward",
       "layout": "IPY_MODEL_9c49cec184154bfcb68b09888372cd75",
       "style": "IPY_MODEL_5f7abd1010134330b3f393e2742ac788"
      }
     },
     "ccd3982a64164006bb5c94314af573ad": {
      "model_module": "jupyter-js-widgets",
      "model_module_version": "~2.1.4",
      "model_name": "LayoutModel",
      "state": {
       "_model_module_version": "~2.1.4",
       "_view_module_version": "~2.1.4",
       "width": "100%"
      }
     },
     "cd4d42e4fe58433e826b0bff312fa14c": {
      "model_module": "jupyter-js-widgets",
      "model_module_version": "~2.1.4",
      "model_name": "IntSliderModel",
      "state": {
       "_model_module_version": "~2.1.4",
       "_view_module_version": "~2.1.4",
       "continuous_update": false,
       "description": "Dataset index",
       "layout": "IPY_MODEL_edec0b062c6342fc9ed16d6a2fcc3a61",
       "max": 3,
       "style": "IPY_MODEL_7a3aa2a2f0ad4c5d88711aba584d8530"
      }
     },
     "cd675b964b9e49a2bc05f7ec511610fa": {
      "model_module": "jupyter-js-widgets",
      "model_module_version": "~2.1.4",
      "model_name": "ButtonModel",
      "state": {
       "_model_module_version": "~2.1.4",
       "_view_module_version": "~2.1.4",
       "icon": "backward",
       "layout": "IPY_MODEL_6325b712465c4c1caa389956d7543e12",
       "style": "IPY_MODEL_f0e98de5bd534ac8b13f822c166b525b"
      }
     },
     "cd9e5523f15c48dea1dc62d5361bc662": {
      "model_module": "jupyter-js-widgets",
      "model_module_version": "~2.1.4",
      "model_name": "LayoutModel",
      "state": {
       "_model_module_version": "~2.1.4",
       "_view_module_version": "~2.1.4"
      }
     },
     "d03ed1a81ef44defb89429611bfaa118": {
      "model_module": "jupyter-js-widgets",
      "model_module_version": "~2.1.4",
      "model_name": "ButtonStyleModel",
      "state": {
       "_model_module_version": "~2.1.4",
       "_view_module_version": "~2.1.4"
      }
     },
     "d16b9205f9624cb9a95702e1865a1c55": {
      "model_module": "jupyter-js-widgets",
      "model_module_version": "~2.1.4",
      "model_name": "LayoutModel",
      "state": {
       "_model_module_version": "~2.1.4",
       "_view_module_version": "~2.1.4",
       "width": "100%"
      }
     },
     "d209ac48620247dfad2cfe7979f5ccdd": {
      "model_module": "jupyter-js-widgets",
      "model_module_version": "~2.1.4",
      "model_name": "LayoutModel",
      "state": {
       "_model_module_version": "~2.1.4",
       "_view_module_version": "~2.1.4",
       "width": "100%"
      }
     },
     "d3c3eefd8df44cb4bcc1e07920bc036b": {
      "model_module": "jupyter-js-widgets",
      "model_module_version": "~2.1.4",
      "model_name": "ButtonModel",
      "state": {
       "_model_module_version": "~2.1.4",
       "_view_module_version": "~2.1.4",
       "description": "Train",
       "layout": "IPY_MODEL_7e1113d930624fb7b4a52079cd1618d6",
       "style": "IPY_MODEL_ff63f478cd884e33ad885d5177e5ea9c"
      }
     },
     "d3f49daea8e84014b2189c399b31cece": {
      "model_module": "jupyter-js-widgets",
      "model_module_version": "~2.1.4",
      "model_name": "LayoutModel",
      "state": {
       "_model_module_version": "~2.1.4",
       "_view_module_version": "~2.1.4",
       "width": "100%"
      }
     },
     "d4f630a966744c769899daf264eed3f4": {
      "model_module": "jupyter-js-widgets",
      "model_module_version": "~2.1.4",
      "model_name": "SelectModel",
      "state": {
       "_model_module_version": "~2.1.4",
       "_options_labels": [
        "Test",
        "Train"
       ],
       "_view_module_version": "~2.1.4",
       "description": "Dataset:",
       "layout": "IPY_MODEL_642d70c9a5c64a84aa9efc070f504d25",
       "value": "Train"
      }
     },
     "d5e712c19b4244949fb7c97a58a9e7b4": {
      "model_module": "jupyter-js-widgets",
      "model_module_version": "~2.1.4",
      "model_name": "SliderStyleModel",
      "state": {
       "_model_module_version": "~2.1.4",
       "_view_module_version": "~2.1.4"
      }
     },
     "d606640269b34b04b1c483b34e679681": {
      "model_module": "jupyter-js-widgets",
      "model_module_version": "~2.1.4",
      "model_name": "VBoxModel",
      "state": {
       "_model_module_version": "~2.1.4",
       "_view_module_version": "~2.1.4",
       "children": [
        "IPY_MODEL_169558b236014a578cd5fb670b3df8ee",
        "IPY_MODEL_74d5a253d1be45488e7d59417088ed7a"
       ],
       "layout": "IPY_MODEL_4e16ad26470c430bb996b99c4d13ea21"
      }
     },
     "d61018c5bfe8443093b8a439c9e0b7e6": {
      "model_module": "jupyter-js-widgets",
      "model_module_version": "~2.1.4",
      "model_name": "HTMLModel",
      "state": {
       "_model_module_version": "~2.1.4",
       "_view_module_version": "~2.1.4",
       "layout": "IPY_MODEL_4cb15053c7854eaead9ecb8bb0e6d803",
       "value": "\n        <svg id='XOR2' xmlns='http://www.w3.org/2000/svg' width=\"400\" height=\"415\" image-rendering=\"pixelated\">\n    <defs>\n        <marker id=\"arrow\" markerWidth=\"10\" markerHeight=\"10\" refX=\"9\" refY=\"3\" orient=\"auto\" markerUnits=\"strokeWidth\">\n          <path d=\"M0,0 L0,6 L9,3 z\" fill=\"blue\" />\n        </marker>\n    </defs>\n<rect x=\"99.0\" y=\"24\" width=\"52\" height=\"52\" style=\"fill:none;stroke:blue;stroke-width:2\"/><image id=\"XOR2_output1_targets_1\" class=\"XOR2_output1_targets\" x=\"100.0\" y=\"25\" height=\"50\" width=\"50\" preserveAspectRatio=\"none\" href=\"data:image/gif;base64,R0lGODdhAQABAIAAAIGBgQAAACwAAAAAAQABAAAIBQABrAsIADs=\"><title>Layer: output1 (output)\n shape = (1,)\n Keras class = Dense\n activation = sigmoid</title></image><text x=\"155.0\" y=\"52.0\" font-family=\"monospace\" font-size=\"12\">targets</text><rect x=\"249.0\" y=\"24\" width=\"52\" height=\"52\" style=\"fill:none;stroke:blue;stroke-width:2\"/><image id=\"XOR2_output2_targets_1\" class=\"XOR2_output2_targets\" x=\"250.0\" y=\"25\" height=\"50\" width=\"50\" preserveAspectRatio=\"none\" href=\"data:image/gif;base64,R0lGODdhAQABAIAAAEhISAAAACwAAAAAAQABAAAIBQABrAsIADs=\"><title>Layer: output2 (output)\n shape = (1,)\n Keras class = Dense\n activation = sigmoid</title></image><text x=\"305.0\" y=\"52.0\" font-family=\"monospace\" font-size=\"12\">targets</text><rect x=\"99.0\" y=\"84\" width=\"52\" height=\"52\" style=\"fill:none;stroke:blue;stroke-width:2\"/><image id=\"XOR2_output1_errors_1\" class=\"XOR2_output1_errors\" x=\"100.0\" y=\"85\" height=\"50\" width=\"50\" preserveAspectRatio=\"none\" href=\"data:image/gif;base64,R0lGODdhAQABAIAAAIGBgQAAACwAAAAAAQABAAAIBQABrAsIADs=\"><title>Layer: output1 (output)\n shape = (1,)\n Keras class = Dense\n activation = sigmoid</title></image><text x=\"155.0\" y=\"112.0\" font-family=\"monospace\" font-size=\"12\">errors</text><rect x=\"249.0\" y=\"84\" width=\"52\" height=\"52\" style=\"fill:none;stroke:blue;stroke-width:2\"/><image id=\"XOR2_output2_errors_1\" class=\"XOR2_output2_errors\" x=\"250.0\" y=\"85\" height=\"50\" width=\"50\" preserveAspectRatio=\"none\" href=\"data:image/gif;base64,R0lGODdhAQABAIAAAEhISAAAACwAAAAAAQABAAAIBQABrAsIADs=\"><title>Layer: output2 (output)\n shape = (1,)\n Keras class = Dense\n activation = sigmoid</title></image><text x=\"305.0\" y=\"112.0\" font-family=\"monospace\" font-size=\"12\">errors</text><rect x=\"99.0\" y=\"149\" width=\"52\" height=\"52\" style=\"fill:none;stroke:blue;stroke-width:2\"/><image id=\"XOR2_output1_1\" class=\"XOR2_output1\" x=\"100.0\" y=\"150\" height=\"50\" width=\"50\" preserveAspectRatio=\"none\" href=\"data:image/gif;base64,R0lGODdhAQABAIAAAIGBgQAAACwAAAAAAQABAAAIBQABrAsIADs=\"><title>Layer: output1 (output)\n shape = (1,)\n Keras class = Dense\n activation = sigmoid</title></image><text x=\"155.0\" y=\"177.0\" font-family=\"monospace\" font-size=\"12\">output1</text><rect x=\"249.0\" y=\"149\" width=\"52\" height=\"52\" style=\"fill:none;stroke:blue;stroke-width:2\"/><image id=\"XOR2_output2_2\" class=\"XOR2_output2\" x=\"250.0\" y=\"150\" height=\"50\" width=\"50\" preserveAspectRatio=\"none\" href=\"data:image/gif;base64,R0lGODdhAQABAIAAAEhISAAAACwAAAAAAQABAAAIBQABrAsIADs=\"><title>Layer: output2 (output)\n shape = (1,)\n Keras class = Dense\n activation = sigmoid</title></image><text x=\"305.0\" y=\"177.0\" font-family=\"monospace\" font-size=\"12\">output2</text><rect x=\"125.0\" y=\"202\" width=\"75.0\" height=\"27\" style=\"fill:white;stroke:none\"><title>Weights from shared-hidden to output1\n output1/kernel has shape (5, 1)\n output1/bias has shape (1,)</title></rect><rect x=\"200.0\" y=\"202\" width=\"75.0\" height=\"27\" style=\"fill:white;stroke:none\"><title>Weights from shared-hidden to output2\n output2/kernel has shape (5, 1)\n output2/bias has shape (1,)</title></rect><line x1=\"200.0\" y1=\"229\" x2=\"125.0\" y2=\"202\" stroke=\"blue\" stroke-width=\"2\" marker-end=\"url(#arrow)\"><title>Weights from shared-hidden to output1\n output1/kernel has shape (5, 1)\n output1/bias has shape (1,)</title></line><line x1=\"200.0\" y1=\"229\" x2=\"275.0\" y2=\"202\" stroke=\"blue\" stroke-width=\"2\" marker-end=\"url(#arrow)\"><title>Weights from shared-hidden to output2\n output2/kernel has shape (5, 1)\n output2/bias has shape (1,)</title></line><rect x=\"174.0\" y=\"229\" width=\"52\" height=\"27\" style=\"fill:none;stroke:blue;stroke-width:2\"/><image id=\"XOR2_shared-hidden_3\" class=\"XOR2_shared-hidden\" x=\"175.0\" y=\"230\" height=\"25\" width=\"50\" preserveAspectRatio=\"none\" href=\"data:image/gif;base64,R0lGODdhBQABAIIAAD8/P3Z2dnt7e5KSkp6engAAAAAAAAAAACwAAAAABQABAAAICAAHEAggAEBAADs=\"><title>Layer: shared-hidden (hidden)\n shape = (5,)\n Keras class = Dense\n activation = sigmoid</title></image><text x=\"230.0\" y=\"244.5\" font-family=\"monospace\" font-size=\"12\">shared-hidden</text><rect x=\"125.0\" y=\"257\" width=\"75.0\" height=\"27\" style=\"fill:white;stroke:none\"><title>Weights from hidden1 to shared-hidden\n shared-hidden/kernel has shape (20, 5)\n shared-hidden/bias has shape (5,)</title></rect><line x1=\"125.0\" y1=\"284\" x2=\"200.0\" y2=\"257\" stroke=\"blue\" stroke-width=\"2\" marker-end=\"url(#arrow)\"><title>Weights from hidden1 to shared-hidden\n shared-hidden/kernel has shape (20, 5)\n shared-hidden/bias has shape (5,)</title></line><rect x=\"99.0\" y=\"284\" width=\"52\" height=\"27\" style=\"fill:none;stroke:blue;stroke-width:2\"/><image id=\"XOR2_hidden1_4\" class=\"XOR2_hidden1\" x=\"100.0\" y=\"285\" height=\"25\" width=\"50\" preserveAspectRatio=\"none\" href=\"data:image/gif;base64,R0lGODdhCgABAIAAAH9/fwAAACwAAAAACgABAAAIBwABCBxIMCAAOw==\"><title>Layer: hidden1 (hidden)\n shape = (10,)\n Keras class = Dense\n activation = sigmoid</title></image><text x=\"155.0\" y=\"299.5\" font-family=\"monospace\" font-size=\"12\">hidden1</text><rect x=\"200.0\" y=\"257\" width=\"75.0\" height=\"27\" style=\"fill:white;stroke:none\"><title>Weights from hidden2 to shared-hidden\n shared-hidden/kernel has shape (20, 5)\n shared-hidden/bias has shape (5,)</title></rect><line x1=\"275.0\" y1=\"284\" x2=\"200.0\" y2=\"257\" stroke=\"blue\" stroke-width=\"2\" marker-end=\"url(#arrow)\"><title>Weights from hidden2 to shared-hidden\n shared-hidden/kernel has shape (20, 5)\n shared-hidden/bias has shape (5,)</title></line><rect x=\"249.0\" y=\"284\" width=\"52\" height=\"27\" style=\"fill:none;stroke:blue;stroke-width:2\"/><image id=\"XOR2_hidden2_5\" class=\"XOR2_hidden2\" x=\"250.0\" y=\"285\" height=\"25\" width=\"50\" preserveAspectRatio=\"none\" href=\"data:image/gif;base64,R0lGODdhCgABAIAAAH9/fwAAACwAAAAACgABAAAIBwABCBxIMCAAOw==\"><title>Layer: hidden2 (hidden)\n shape = (10,)\n Keras class = Dense\n activation = sigmoid</title></image><text x=\"305.0\" y=\"299.5\" font-family=\"monospace\" font-size=\"12\">hidden2</text><rect x=\"115.0\" y=\"312\" width=\"20.0\" height=\"27\" style=\"fill:white;stroke:none\"><title>Weights from input1 to hidden1\n hidden1/kernel has shape (1, 10)\n hidden1/bias has shape (10,)</title></rect><line x1=\"125.0\" y1=\"339\" x2=\"125.0\" y2=\"312\" stroke=\"blue\" stroke-width=\"2\" marker-end=\"url(#arrow)\"><title>Weights from input1 to hidden1\n hidden1/kernel has shape (1, 10)\n hidden1/bias has shape (10,)</title></line><rect x=\"99.0\" y=\"339\" width=\"52\" height=\"52\" style=\"fill:none;stroke:blue;stroke-width:2\"/><image id=\"XOR2_input1_6\" class=\"XOR2_input1\" x=\"100.0\" y=\"340\" height=\"50\" width=\"50\" preserveAspectRatio=\"none\" href=\"data:image/gif;base64,R0lGODdhAQABAIAAAH9/fwAAACwAAAAAAQABAAAIBQABrAsIADs=\"><title>Layer: input1 (input)\n shape = (1,)\n Keras class = Input</title></image><text x=\"155.0\" y=\"367.0\" font-family=\"monospace\" font-size=\"12\">input1</text><rect x=\"265.0\" y=\"312\" width=\"20.0\" height=\"27\" style=\"fill:white;stroke:none\"><title>Weights from input2 to hidden2\n hidden2/kernel has shape (1, 10)\n hidden2/bias has shape (10,)</title></rect><line x1=\"275.0\" y1=\"339\" x2=\"275.0\" y2=\"312\" stroke=\"blue\" stroke-width=\"2\" marker-end=\"url(#arrow)\"><title>Weights from input2 to hidden2\n hidden2/kernel has shape (1, 10)\n hidden2/bias has shape (10,)</title></line><rect x=\"249.0\" y=\"339\" width=\"52\" height=\"52\" style=\"fill:none;stroke:blue;stroke-width:2\"/><image id=\"XOR2_input2_7\" class=\"XOR2_input2\" x=\"250.0\" y=\"340\" height=\"50\" width=\"50\" preserveAspectRatio=\"none\" href=\"data:image/gif;base64,R0lGODdhAQABAIAAAH9/fwAAACwAAAAAAQABAAAIBQABrAsIADs=\"><title>Layer: input2 (input)\n shape = (1,)\n Keras class = Input</title></image><text x=\"305.0\" y=\"367.0\" font-family=\"monospace\" font-size=\"12\">input2</text></svg>"
      }
     },
     "d63ef6163555471ab221e6ac317116d5": {
      "model_module": "jupyter-js-widgets",
      "model_module_version": "~2.1.4",
      "model_name": "HTMLModel",
      "state": {
       "_model_module_version": "~2.1.4",
       "_view_module_version": "~2.1.4",
       "layout": "IPY_MODEL_dc43564c6e754d97a56f9586e4fe0927",
       "value": "\n        <svg id='XOR' xmlns='http://www.w3.org/2000/svg' width=\"200\" height=\"335\" image-rendering=\"pixelated\">\n    <defs>\n        <marker id=\"arrow\" markerWidth=\"10\" markerHeight=\"10\" refX=\"9\" refY=\"3\" orient=\"auto\" markerUnits=\"strokeWidth\">\n          <path d=\"M0,0 L0,6 L9,3 z\" fill=\"blue\" />\n        </marker>\n    </defs>\n<rect x=\"74.0\" y=\"24\" width=\"52\" height=\"52\" style=\"fill:none;stroke:blue;stroke-width:2\"/><image id=\"XOR_output_targets_1\" class=\"XOR_output_targets\" x=\"75.0\" y=\"25\" height=\"50\" width=\"50\" preserveAspectRatio=\"none\" href=\"data:image/gif;base64,R0lGODdhAQABAIAAAGBgYAAAACwAAAAAAQABAAAIBQABAAgIADs=\"><title>Layer: output (output)\n shape = (1,)\n Keras class = Dense\n activation = sigmoid</title></image><text x=\"130.0\" y=\"52.0\" font-family=\"monospace\" font-size=\"12\">targets</text><rect x=\"74.0\" y=\"84\" width=\"52\" height=\"52\" style=\"fill:none;stroke:blue;stroke-width:2\"/><image id=\"XOR_output_errors_1\" class=\"XOR_output_errors\" x=\"75.0\" y=\"85\" height=\"50\" width=\"50\" preserveAspectRatio=\"none\" href=\"data:image/gif;base64,R0lGODdhAQABAIAAAGBgYAAAACwAAAAAAQABAAAIBQABrAgIADs=\"><title>Layer: output (output)\n shape = (1,)\n Keras class = Dense\n activation = sigmoid</title></image><text x=\"130.0\" y=\"112.0\" font-family=\"monospace\" font-size=\"12\">errors</text><rect x=\"74.0\" y=\"149\" width=\"52\" height=\"52\" style=\"fill:none;stroke:blue;stroke-width:2\"/><image id=\"XOR_output_1\" class=\"XOR_output\" x=\"75.0\" y=\"150\" height=\"50\" width=\"50\" preserveAspectRatio=\"none\" href=\"data:image/gif;base64,R0lGODdhAQABAIAAAGBgYAAAACwAAAAAAQABAAAIBQABrAgIADs=\"><title>Layer: output (output)\n shape = (1,)\n Keras class = Dense\n activation = sigmoid</title></image><text x=\"130.0\" y=\"177.0\" font-family=\"monospace\" font-size=\"12\">output</text><rect x=\"90.0\" y=\"202\" width=\"20.0\" height=\"27\" style=\"fill:white;stroke:none\"><title>Weights from hidden to output\n output/kernel has shape (4, 1)\n output/bias has shape (1,)</title></rect><rect x=\"90.0\" y=\"202\" width=\"20.0\" height=\"27\" style=\"fill:white;stroke:none\"><title>Weights from hidden to output\n output/kernel has shape (4, 1)\n output/bias has shape (1,)</title></rect><line x1=\"100.0\" y1=\"229\" x2=\"100.0\" y2=\"202\" stroke=\"blue\" stroke-width=\"2\" marker-end=\"url(#arrow)\"><title>Weights from hidden to output\n output/kernel has shape (4, 1)\n output/bias has shape (1,)</title></line><line x1=\"100.0\" y1=\"229\" x2=\"100.0\" y2=\"202\" stroke=\"blue\" stroke-width=\"2\" marker-end=\"url(#arrow)\"><title>Weights from hidden to output\n output/kernel has shape (4, 1)\n output/bias has shape (1,)</title></line><rect x=\"74.0\" y=\"229\" width=\"52\" height=\"27\" style=\"fill:none;stroke:blue;stroke-width:2\"/><image id=\"XOR_hidden_2\" class=\"XOR_hidden\" x=\"75.0\" y=\"230\" height=\"25\" width=\"50\" preserveAspectRatio=\"none\" href=\"data:image/gif;base64,R0lGODdhAgABAIAAAH9/fwAAACwAAAAAAgABAAAIBQABAAgIADs=\"><title>Layer: hidden (hidden)\n shape = (2,)\n Keras class = Dense\n activation = sigmoid</title></image><text x=\"130.0\" y=\"244.5\" font-family=\"monospace\" font-size=\"12\">hidden</text><rect x=\"90.0\" y=\"257\" width=\"20.0\" height=\"27\" style=\"fill:white;stroke:none\"><title>Weights from input to hidden\n hidden/kernel has shape (4, 2)\n hidden/bias has shape (2,)</title></rect><rect x=\"90.0\" y=\"257\" width=\"20.0\" height=\"27\" style=\"fill:white;stroke:none\"><title>Weights from input to hidden\n hidden/kernel has shape (4, 2)\n hidden/bias has shape (2,)</title></rect><line x1=\"100.0\" y1=\"284\" x2=\"100.0\" y2=\"257\" stroke=\"blue\" stroke-width=\"2\" marker-end=\"url(#arrow)\"><title>Weights from input to hidden\n hidden/kernel has shape (4, 2)\n hidden/bias has shape (2,)</title></line><line x1=\"100.0\" y1=\"284\" x2=\"100.0\" y2=\"257\" stroke=\"blue\" stroke-width=\"2\" marker-end=\"url(#arrow)\"><title>Weights from input to hidden\n hidden/kernel has shape (4, 2)\n hidden/bias has shape (2,)</title></line><rect x=\"74.0\" y=\"284\" width=\"52\" height=\"27\" style=\"fill:none;stroke:blue;stroke-width:2\"/><image id=\"XOR_input_3\" class=\"XOR_input\" x=\"75.0\" y=\"285\" height=\"25\" width=\"50\" preserveAspectRatio=\"none\" href=\"data:image/gif;base64,R0lGODdhAgABAIAAAH9/fwAAACwAAAAAAgABAAAIBQABAAgIADs=\"><title>Layer: input (input)\n shape = (2,)\n Keras class = Input</title></image><text x=\"130.0\" y=\"299.5\" font-family=\"monospace\" font-size=\"12\">input</text></svg>"
      }
     },
     "d6f3bd53ac1e427c9593fd66a8847804": {
      "model_module": "jupyter-js-widgets",
      "model_module_version": "~2.1.4",
      "model_name": "ButtonModel",
      "state": {
       "_model_module_version": "~2.1.4",
       "_view_module_version": "~2.1.4",
       "icon": "forward",
       "layout": "IPY_MODEL_13e5a6e3373b4366b7e0765fe492fb82",
       "style": "IPY_MODEL_5d0c086223be4af3b68d09effb52a965"
      }
     },
     "d7a4d571470b479b9cee592997639a31": {
      "model_module": "jupyter-js-widgets",
      "model_module_version": "~2.1.4",
      "model_name": "LayoutModel",
      "state": {
       "_model_module_version": "~2.1.4",
       "_view_module_version": "~2.1.4",
       "width": "100%"
      }
     },
     "d7b76bf037ba462b92ecc08873da4bbf": {
      "model_module": "jupyter-js-widgets",
      "model_module_version": "~2.1.4",
      "model_name": "ButtonModel",
      "state": {
       "_model_module_version": "~2.1.4",
       "_view_module_version": "~2.1.4",
       "description": "Train",
       "layout": "IPY_MODEL_8e058a3e12e94ef6979e472fbdb2b4d4",
       "style": "IPY_MODEL_7a0e73b1329f4a24a3748584b56253bd"
      }
     },
     "d7d2c97f1dba4acb90a2e4877c482089": {
      "model_module": "jupyter-js-widgets",
      "model_module_version": "~2.1.4",
      "model_name": "ButtonModel",
      "state": {
       "_model_module_version": "~2.1.4",
       "_view_module_version": "~2.1.4",
       "description": "Train",
       "layout": "IPY_MODEL_9592c88ecc1147399241e898beeb5002",
       "style": "IPY_MODEL_d03ed1a81ef44defb89429611bfaa118"
      }
     },
     "d84dc2cb76ad4bae956b79de181396d7": {
      "model_module": "jupyter-js-widgets",
      "model_module_version": "~2.1.4",
      "model_name": "VBoxModel",
      "state": {
       "_model_module_version": "~2.1.4",
       "_view_module_version": "~2.1.4",
       "children": [
        "IPY_MODEL_c4663b180c2848e380529a7fce7f7bce",
        "IPY_MODEL_ed28c03755954d7ba56855c81b0ba895",
        "IPY_MODEL_52010c262a5a45949565964ed89965c3"
       ],
       "layout": "IPY_MODEL_568caf6812d84b75844bb0eef8a1919e"
      }
     },
     "d854d06413f54007b689e157b40f26b6": {
      "model_module": "jupyter-js-widgets",
      "model_module_version": "~2.1.4",
      "model_name": "LayoutModel",
      "state": {
       "_model_module_version": "~2.1.4",
       "_view_module_version": "~2.1.4"
      }
     },
     "da3cd891023f44efacd4de607607bd04": {
      "model_module": "jupyter-js-widgets",
      "model_module_version": "~2.1.4",
      "model_name": "LayoutModel",
      "state": {
       "_model_module_version": "~2.1.4",
       "_view_module_version": "~2.1.4",
       "width": "100%"
      }
     },
     "dbbe8e8cb7b445cca6afb72188168d43": {
      "model_module": "jupyter-js-widgets",
      "model_module_version": "~2.1.4",
      "model_name": "ButtonStyleModel",
      "state": {
       "_model_module_version": "~2.1.4",
       "_view_module_version": "~2.1.4"
      }
     },
     "dc43564c6e754d97a56f9586e4fe0927": {
      "model_module": "jupyter-js-widgets",
      "model_module_version": "~2.1.4",
      "model_name": "LayoutModel",
      "state": {
       "_model_module_version": "~2.1.4",
       "_view_module_version": "~2.1.4",
       "height": "100%",
       "max_height": "550px",
       "overflow_x": "auto",
       "width": "100%"
      }
     },
     "dc499034d17b450b97112f3205d48fe4": {
      "model_module": "jupyter-js-widgets",
      "model_module_version": "~2.1.4",
      "model_name": "ButtonModel",
      "state": {
       "_model_module_version": "~2.1.4",
       "_view_module_version": "~2.1.4",
       "icon": "fast-backward",
       "layout": "IPY_MODEL_3c6ecf27c54649c6999d6aab0bdf2b75",
       "style": "IPY_MODEL_0f923c162e764e8997b98d8f56273fd6"
      }
     },
     "dd5abb5855b049789bcad64b01317a2e": {
      "model_module": "jupyter-js-widgets",
      "model_module_version": "~2.1.4",
      "model_name": "LayoutModel",
      "state": {
       "_model_module_version": "~2.1.4",
       "_view_module_version": "~2.1.4",
       "width": "100%"
      }
     },
     "ddbafbdd71de4af09168e6fe52af25a0": {
      "model_module": "jupyter-js-widgets",
      "model_module_version": "~2.1.4",
      "model_name": "LayoutModel",
      "state": {
       "_model_module_version": "~2.1.4",
       "_view_module_version": "~2.1.4"
      }
     },
     "de572359e9474c379675164a5f76e727": {
      "model_module": "jupyter-js-widgets",
      "model_module_version": "~2.1.4",
      "model_name": "SelectModel",
      "state": {
       "_model_module_version": "~2.1.4",
       "_options_labels": [
        "Test",
        "Train"
       ],
       "_view_module_version": "~2.1.4",
       "description": "Dataset:",
       "layout": "IPY_MODEL_d854d06413f54007b689e157b40f26b6",
       "value": "Train"
      }
     },
     "dfb09298ca6e43ed89fb432eee5f76d8": {
      "model_module": "jupyter-js-widgets",
      "model_module_version": "~2.1.4",
      "model_name": "ButtonStyleModel",
      "state": {
       "_model_module_version": "~2.1.4",
       "_view_module_version": "~2.1.4"
      }
     },
     "e03c8daf171541b29729905a40b51036": {
      "model_module": "jupyter-js-widgets",
      "model_module_version": "~2.1.4",
      "model_name": "VBoxModel",
      "state": {
       "_model_module_version": "~2.1.4",
       "_view_module_version": "~2.1.4",
       "children": [
        "IPY_MODEL_2fbca304fd9f49fcbb42ebba9474de41",
        "IPY_MODEL_65bf5483e84e45579a0bfee811bffde7",
        "IPY_MODEL_03c1a0b3efe14005b4f6826292011c5a"
       ],
       "layout": "IPY_MODEL_f6348eef3dc746fd89e79edf0abfa269"
      }
     },
     "e0e5f237209f445cb76c48b911f3add9": {
      "model_module": "jupyter-js-widgets",
      "model_module_version": "~2.1.4",
      "model_name": "HTMLModel",
      "state": {
       "_model_module_version": "~2.1.4",
       "_view_module_version": "~2.1.4",
       "layout": "IPY_MODEL_2cff3155f7f44509a0ec5c4dc9772a00",
       "value": "\n        <svg id='XOR2' xmlns='http://www.w3.org/2000/svg' width=\"400\" height=\"415\" image-rendering=\"pixelated\">\n    <defs>\n        <marker id=\"arrow\" markerWidth=\"10\" markerHeight=\"10\" refX=\"9\" refY=\"3\" orient=\"auto\" markerUnits=\"strokeWidth\">\n          <path d=\"M0,0 L0,6 L9,3 z\" fill=\"blue\" />\n        </marker>\n    </defs>\n<rect x=\"99.0\" y=\"24\" width=\"52\" height=\"52\" style=\"fill:none;stroke:blue;stroke-width:2\"/><image id=\"XOR2_output1_targets_1\" class=\"XOR2_output1_targets\" x=\"100.0\" y=\"25\" height=\"50\" width=\"50\" href=\"data:image/gif;base64,R0lGODdhAQABAIAAAFVVVQAAACwAAAAAAQABAAAIBQABrAsIADs=\"><title>Layer: output1 (output)\n shape = (1,)\n Keras class = Dense\n activation = sigmoid</title></image><text x=\"155.0\" y=\"52.0\" font-family=\"monospace\" font-size=\"12\">targets</text><rect x=\"249.0\" y=\"24\" width=\"52\" height=\"52\" style=\"fill:none;stroke:blue;stroke-width:2\"/><image id=\"XOR2_output2_targets_1\" class=\"XOR2_output2_targets\" x=\"250.0\" y=\"25\" height=\"50\" width=\"50\" href=\"data:image/gif;base64,R0lGODdhAQABAIAAAI6OjgAAACwAAAAAAQABAAAIBQABrAsIADs=\"><title>Layer: output2 (output)\n shape = (1,)\n Keras class = Dense\n activation = sigmoid</title></image><text x=\"305.0\" y=\"52.0\" font-family=\"monospace\" font-size=\"12\">targets</text><rect x=\"99.0\" y=\"84\" width=\"52\" height=\"52\" style=\"fill:none;stroke:blue;stroke-width:2\"/><image id=\"XOR2_output1_errors_1\" class=\"XOR2_output1_errors\" x=\"100.0\" y=\"85\" height=\"50\" width=\"50\" href=\"data:image/gif;base64,R0lGODdhAQABAIAAAFVVVQAAACwAAAAAAQABAAAIBQABrAsIADs=\"><title>Layer: output1 (output)\n shape = (1,)\n Keras class = Dense\n activation = sigmoid</title></image><text x=\"155.0\" y=\"112.0\" font-family=\"monospace\" font-size=\"12\">errors</text><rect x=\"249.0\" y=\"84\" width=\"52\" height=\"52\" style=\"fill:none;stroke:blue;stroke-width:2\"/><image id=\"XOR2_output2_errors_1\" class=\"XOR2_output2_errors\" x=\"250.0\" y=\"85\" height=\"50\" width=\"50\" href=\"data:image/gif;base64,R0lGODdhAQABAIAAAI6OjgAAACwAAAAAAQABAAAIBQABrAsIADs=\"><title>Layer: output2 (output)\n shape = (1,)\n Keras class = Dense\n activation = sigmoid</title></image><text x=\"305.0\" y=\"112.0\" font-family=\"monospace\" font-size=\"12\">errors</text><rect x=\"99.0\" y=\"149\" width=\"52\" height=\"52\" style=\"fill:none;stroke:blue;stroke-width:2\"/><image id=\"XOR2_output1_1\" class=\"XOR2_output1\" x=\"100.0\" y=\"150\" height=\"50\" width=\"50\" href=\"data:image/gif;base64,R0lGODdhAQABAIAAAFVVVQAAACwAAAAAAQABAAAIBQABrAsIADs=\"><title>Layer: output1 (output)\n shape = (1,)\n Keras class = Dense\n activation = sigmoid</title></image><text x=\"155.0\" y=\"177.0\" font-family=\"monospace\" font-size=\"12\">output1</text><rect x=\"249.0\" y=\"149\" width=\"52\" height=\"52\" style=\"fill:none;stroke:blue;stroke-width:2\"/><image id=\"XOR2_output2_2\" class=\"XOR2_output2\" x=\"250.0\" y=\"150\" height=\"50\" width=\"50\" href=\"data:image/gif;base64,R0lGODdhAQABAIAAAI6OjgAAACwAAAAAAQABAAAIBQABrAsIADs=\"><title>Layer: output2 (output)\n shape = (1,)\n Keras class = Dense\n activation = sigmoid</title></image><text x=\"305.0\" y=\"177.0\" font-family=\"monospace\" font-size=\"12\">output2</text><rect x=\"125.0\" y=\"202\" width=\"75.0\" height=\"27\" style=\"fill:white;stroke:none\"><title>Weights from shared-hidden to output1\n output1/kernel has shape (5, 1)\n output1/bias has shape (1,)</title></rect><rect x=\"200.0\" y=\"202\" width=\"75.0\" height=\"27\" style=\"fill:white;stroke:none\"><title>Weights from shared-hidden to output2\n output2/kernel has shape (5, 1)\n output2/bias has shape (1,)</title></rect><line x1=\"200.0\" y1=\"229\" x2=\"125.0\" y2=\"202\" stroke=\"blue\" stroke-width=\"2\" marker-end=\"url(#arrow)\"><title>Weights from shared-hidden to output1\n output1/kernel has shape (5, 1)\n output1/bias has shape (1,)</title></line><line x1=\"200.0\" y1=\"229\" x2=\"275.0\" y2=\"202\" stroke=\"blue\" stroke-width=\"2\" marker-end=\"url(#arrow)\"><title>Weights from shared-hidden to output2\n output2/kernel has shape (5, 1)\n output2/bias has shape (1,)</title></line><rect x=\"174.0\" y=\"229\" width=\"52\" height=\"27\" style=\"fill:none;stroke:blue;stroke-width:2\"/><image id=\"XOR2_shared-hidden_3\" class=\"XOR2_shared-hidden\" x=\"175.0\" y=\"230\" height=\"25\" width=\"50\" href=\"data:image/gif;base64,R0lGODdhBQABAIIAAEJCQmhoaH9/f42NjZeXlwAAAAAAAAAAACwAAAAABQABAAAICAABDAhAQEBAADs=\"><title>Layer: shared-hidden (hidden)\n shape = (5,)\n Keras class = Dense\n activation = sigmoid</title></image><text x=\"230.0\" y=\"244.5\" font-family=\"monospace\" font-size=\"12\">shared-hidden</text><rect x=\"125.0\" y=\"257\" width=\"75.0\" height=\"27\" style=\"fill:white;stroke:none\"><title>Weights from hidden1 to shared-hidden\n shared-hidden/kernel has shape (20, 5)\n shared-hidden/bias has shape (5,)</title></rect><line x1=\"125.0\" y1=\"284\" x2=\"200.0\" y2=\"257\" stroke=\"blue\" stroke-width=\"2\" marker-end=\"url(#arrow)\"><title>Weights from hidden1 to shared-hidden\n shared-hidden/kernel has shape (20, 5)\n shared-hidden/bias has shape (5,)</title></line><rect x=\"99.0\" y=\"284\" width=\"52\" height=\"27\" style=\"fill:none;stroke:blue;stroke-width:2\"/><image id=\"XOR2_hidden1_4\" class=\"XOR2_hidden1\" x=\"100.0\" y=\"285\" height=\"25\" width=\"50\" href=\"data:image/gif;base64,R0lGODdhCgABAIAAAH9/fwAAACwAAAAACgABAAAIBwABCBxIMCAAOw==\"><title>Layer: hidden1 (hidden)\n shape = (10,)\n Keras class = Dense\n activation = sigmoid</title></image><text x=\"155.0\" y=\"299.5\" font-family=\"monospace\" font-size=\"12\">hidden1</text><rect x=\"200.0\" y=\"257\" width=\"75.0\" height=\"27\" style=\"fill:white;stroke:none\"><title>Weights from hidden2 to shared-hidden\n shared-hidden/kernel has shape (20, 5)\n shared-hidden/bias has shape (5,)</title></rect><line x1=\"275.0\" y1=\"284\" x2=\"200.0\" y2=\"257\" stroke=\"blue\" stroke-width=\"2\" marker-end=\"url(#arrow)\"><title>Weights from hidden2 to shared-hidden\n shared-hidden/kernel has shape (20, 5)\n shared-hidden/bias has shape (5,)</title></line><rect x=\"249.0\" y=\"284\" width=\"52\" height=\"27\" style=\"fill:none;stroke:blue;stroke-width:2\"/><image id=\"XOR2_hidden2_5\" class=\"XOR2_hidden2\" x=\"250.0\" y=\"285\" height=\"25\" width=\"50\" href=\"data:image/gif;base64,R0lGODdhCgABAIAAAH9/fwAAACwAAAAACgABAAAIBwABCBxIMCAAOw==\"><title>Layer: hidden2 (hidden)\n shape = (10,)\n Keras class = Dense\n activation = sigmoid</title></image><text x=\"305.0\" y=\"299.5\" font-family=\"monospace\" font-size=\"12\">hidden2</text><rect x=\"115.0\" y=\"312\" width=\"20.0\" height=\"27\" style=\"fill:white;stroke:none\"><title>Weights from input1 to hidden1\n hidden1/kernel has shape (1, 10)\n hidden1/bias has shape (10,)</title></rect><line x1=\"125.0\" y1=\"339\" x2=\"125.0\" y2=\"312\" stroke=\"blue\" stroke-width=\"2\" marker-end=\"url(#arrow)\"><title>Weights from input1 to hidden1\n hidden1/kernel has shape (1, 10)\n hidden1/bias has shape (10,)</title></line><rect x=\"99.0\" y=\"339\" width=\"52\" height=\"52\" style=\"fill:none;stroke:blue;stroke-width:2\"/><image id=\"XOR2_input1_6\" class=\"XOR2_input1\" x=\"100.0\" y=\"340\" height=\"50\" width=\"50\" href=\"data:image/gif;base64,R0lGODdhAQABAIAAAH9/fwAAACwAAAAAAQABAAAIBQABrAsIADs=\"><title>Layer: input1 (input)\n shape = (1,)\n Keras class = Input</title></image><text x=\"155.0\" y=\"367.0\" font-family=\"monospace\" font-size=\"12\">input1</text><rect x=\"265.0\" y=\"312\" width=\"20.0\" height=\"27\" style=\"fill:white;stroke:none\"><title>Weights from input2 to hidden2\n hidden2/kernel has shape (1, 10)\n hidden2/bias has shape (10,)</title></rect><line x1=\"275.0\" y1=\"339\" x2=\"275.0\" y2=\"312\" stroke=\"blue\" stroke-width=\"2\" marker-end=\"url(#arrow)\"><title>Weights from input2 to hidden2\n hidden2/kernel has shape (1, 10)\n hidden2/bias has shape (10,)</title></line><rect x=\"249.0\" y=\"339\" width=\"52\" height=\"52\" style=\"fill:none;stroke:blue;stroke-width:2\"/><image id=\"XOR2_input2_7\" class=\"XOR2_input2\" x=\"250.0\" y=\"340\" height=\"50\" width=\"50\" href=\"data:image/gif;base64,R0lGODdhAQABAIAAAH9/fwAAACwAAAAAAQABAAAIBQABrAsIADs=\"><title>Layer: input2 (input)\n shape = (1,)\n Keras class = Input</title></image><text x=\"305.0\" y=\"367.0\" font-family=\"monospace\" font-size=\"12\">input2</text></svg>"
      }
     },
     "e186aa2218ff4dcaa8817ee5b3f02c3c": {
      "model_module": "jupyter-js-widgets",
      "model_module_version": "~2.1.4",
      "model_name": "LayoutModel",
      "state": {
       "_model_module_version": "~2.1.4",
       "_view_module_version": "~2.1.4",
       "width": "100%"
      }
     },
     "e1b610ff95424e58893638f515848a41": {
      "model_module": "jupyter-js-widgets",
      "model_module_version": "~2.1.4",
      "model_name": "ButtonStyleModel",
      "state": {
       "_model_module_version": "~2.1.4",
       "_view_module_version": "~2.1.4"
      }
     },
     "e2899f80ca354d719c81738ab3438d9a": {
      "model_module": "jupyter-js-widgets",
      "model_module_version": "~2.1.4",
      "model_name": "LayoutModel",
      "state": {
       "_model_module_version": "~2.1.4",
       "_view_module_version": "~2.1.4",
       "width": "100%"
      }
     },
     "e28dc57a953c4721b815ef622d4b52a8": {
      "model_module": "jupyter-js-widgets",
      "model_module_version": "~2.1.4",
      "model_name": "ButtonStyleModel",
      "state": {
       "_model_module_version": "~2.1.4",
       "_view_module_version": "~2.1.4"
      }
     },
     "e537a8f81a284f77823aa2c0e79f8e74": {
      "model_module": "jupyter-js-widgets",
      "model_module_version": "~2.1.4",
      "model_name": "HBoxModel",
      "state": {
       "_model_module_version": "~2.1.4",
       "_view_module_version": "~2.1.4",
       "children": [
        "IPY_MODEL_e5671956ca34474082a6a4aafa85b72a",
        "IPY_MODEL_6defa7a694c348b7b428517452f62f0e",
        "IPY_MODEL_399fd819a7a949a8bbedab1ca82e1e76",
        "IPY_MODEL_07e99f5dc6ff45688cf884e861663766",
        "IPY_MODEL_679f651368c747dca3f2576e77df2263"
       ],
       "layout": "IPY_MODEL_408fee43cd9349f0a606377170863662"
      }
     },
     "e5671956ca34474082a6a4aafa85b72a": {
      "model_module": "jupyter-js-widgets",
      "model_module_version": "~2.1.4",
      "model_name": "ButtonModel",
      "state": {
       "_model_module_version": "~2.1.4",
       "_view_module_version": "~2.1.4",
       "icon": "fast-backward",
       "layout": "IPY_MODEL_7531f65e218b478aa668d02e982aec1e",
       "style": "IPY_MODEL_31dfa9e05f324c168e4480a8b50df06b"
      }
     },
     "e5fd8e5a5615488ba06e6dc2ea38f84b": {
      "model_module": "jupyter-js-widgets",
      "model_module_version": "~2.1.4",
      "model_name": "VBoxModel",
      "state": {
       "_model_module_version": "~2.1.4",
       "_view_module_version": "~2.1.4",
       "children": [
        "IPY_MODEL_119899227cb640f891288a5f325f3934",
        "IPY_MODEL_645a3286e865402f9a8db98e1f8b68c7",
        "IPY_MODEL_e537a8f81a284f77823aa2c0e79f8e74"
       ],
       "layout": "IPY_MODEL_356e0cd49af44f1bb1f69bfb97b850b4"
      }
     },
     "e6080f4c9a5e4b148af95323f66ef1c2": {
      "model_module": "jupyter-js-widgets",
      "model_module_version": "~2.1.4",
      "model_name": "LayoutModel",
      "state": {
       "_model_module_version": "~2.1.4",
       "_view_module_version": "~2.1.4"
      }
     },
     "e610eadf14ad4f0394fe444ac4a4d0ab": {
      "model_module": "jupyter-js-widgets",
      "model_module_version": "~2.1.4",
      "model_name": "LayoutModel",
      "state": {
       "_model_module_version": "~2.1.4",
       "_view_module_version": "~2.1.4",
       "width": "100%"
      }
     },
     "e67a993662ae475ab8d67b0116ed6dd8": {
      "model_module": "jupyter-js-widgets",
      "model_module_version": "~2.1.4",
      "model_name": "HBoxModel",
      "state": {
       "_model_module_version": "~2.1.4",
       "_view_module_version": "~2.1.4",
       "children": [
        "IPY_MODEL_9c25bf46a28f4ed8814e6b340e2c4241",
        "IPY_MODEL_5f1730874b6349b68d3b382dc15485c4",
        "IPY_MODEL_f1e497e0853549b585c8bd704d54e820",
        "IPY_MODEL_2335a1bb27af4b4db39bdb11393008d0",
        "IPY_MODEL_b3284439520c44819dbfd3cf273cc175"
       ],
       "layout": "IPY_MODEL_2e344ef71658412fbdf3ae3c6b7597f6"
      }
     },
     "e6dce42e1e9e4935af07d97075fb980d": {
      "model_module": "jupyter-js-widgets",
      "model_module_version": "~2.1.4",
      "model_name": "ButtonModel",
      "state": {
       "_model_module_version": "~2.1.4",
       "_view_module_version": "~2.1.4",
       "icon": "forward",
       "layout": "IPY_MODEL_bfb0f1c46b584ec88df8ac3c978ecd54",
       "style": "IPY_MODEL_fbd42dbfff91486c8c0712f3437501f5"
      }
     },
     "e6e1d2e6ea9e48458937ba8c5b5f4e85": {
      "model_module": "jupyter-js-widgets",
      "model_module_version": "~2.1.4",
      "model_name": "LayoutModel",
      "state": {
       "_model_module_version": "~2.1.4",
       "_view_module_version": "~2.1.4",
       "width": "100%"
      }
     },
     "e7ca54a674ea4a30b9b5fa13229b126d": {
      "model_module": "jupyter-js-widgets",
      "model_module_version": "~2.1.4",
      "model_name": "ButtonStyleModel",
      "state": {
       "_model_module_version": "~2.1.4",
       "_view_module_version": "~2.1.4"
      }
     },
     "e80164651c42453fb820932bd1904150": {
      "model_module": "jupyter-js-widgets",
      "model_module_version": "~2.1.4",
      "model_name": "LayoutModel",
      "state": {
       "_model_module_version": "~2.1.4",
       "_view_module_version": "~2.1.4",
       "width": "100%"
      }
     },
     "e8e1e48ba2c4460a882a87bb9cc687a4": {
      "model_module": "jupyter-js-widgets",
      "model_module_version": "~2.1.4",
      "model_name": "ButtonModel",
      "state": {
       "_model_module_version": "~2.1.4",
       "_view_module_version": "~2.1.4",
       "icon": "fast-backward",
       "layout": "IPY_MODEL_fbb6d97ab2f44872856b1d073b605b0a",
       "style": "IPY_MODEL_1c05a9e630944e578293003739f0ddc1"
      }
     },
     "e94a1cf28d3a4e63a8c84b07a7984ac8": {
      "model_module": "jupyter-js-widgets",
      "model_module_version": "~2.1.4",
      "model_name": "HBoxModel",
      "state": {
       "_model_module_version": "~2.1.4",
       "_view_module_version": "~2.1.4",
       "children": [
        "IPY_MODEL_8eba1d17087a48b2b313ddf9c64f2fb8",
        "IPY_MODEL_c4359def9ca8453fa9caf04551253bff",
        "IPY_MODEL_3cf3601e89ff4554948a45aea31c1b40",
        "IPY_MODEL_d6f3bd53ac1e427c9593fd66a8847804",
        "IPY_MODEL_ac560469183d4e059c8fe40eebd51ab3"
       ],
       "layout": "IPY_MODEL_37a94cb2d4ed4740abae71d5488f4453"
      }
     },
     "e9ce3714c46d4c16b00e60a3c50562b7": {
      "model_module": "jupyter-js-widgets",
      "model_module_version": "~2.1.4",
      "model_name": "ButtonModel",
      "state": {
       "_model_module_version": "~2.1.4",
       "_view_module_version": "~2.1.4",
       "icon": "fast-forward",
       "layout": "IPY_MODEL_334b7a618be241d6a5bb3282930d1edc",
       "style": "IPY_MODEL_1976812e75a04f4697fc063fd151d6a9"
      }
     },
     "e9ecf5b003b9419ca895018ebcb70066": {
      "model_module": "jupyter-js-widgets",
      "model_module_version": "~2.1.4",
      "model_name": "LayoutModel",
      "state": {
       "_model_module_version": "~2.1.4",
       "_view_module_version": "~2.1.4",
       "width": "100%"
      }
     },
     "ea42a8717dde46b69a9eae28ed91026d": {
      "model_module": "jupyter-js-widgets",
      "model_module_version": "~2.1.4",
      "model_name": "LayoutModel",
      "state": {
       "_model_module_version": "~2.1.4",
       "_view_module_version": "~2.1.4",
       "width": "100%"
      }
     },
     "eba1eb54a0384de6b5ec8ac47c652e07": {
      "model_module": "jupyter-js-widgets",
      "model_module_version": "~2.1.4",
      "model_name": "ButtonModel",
      "state": {
       "_model_module_version": "~2.1.4",
       "_view_module_version": "~2.1.4",
       "icon": "backward",
       "layout": "IPY_MODEL_09595411ed1f48faa15086697ef40042",
       "style": "IPY_MODEL_3e947788742243ce816be2419620c33f"
      }
     },
     "ebe5a745f4374e42a6bee159eee96c5f": {
      "model_module": "jupyter-js-widgets",
      "model_module_version": "~2.1.4",
      "model_name": "IntSliderModel",
      "state": {
       "_model_module_version": "~2.1.4",
       "_view_module_version": "~2.1.4",
       "continuous_update": false,
       "description": "Dataset index",
       "layout": "IPY_MODEL_43edc825e8db4186803b717ce7f17542",
       "max": 0,
       "style": "IPY_MODEL_a07375a75bc34f31a335f502f341bb9f"
      }
     },
     "ebeaaecbf8d247e2ba81b9f099c7bb0c": {
      "model_module": "jupyter-js-widgets",
      "model_module_version": "~2.1.4",
      "model_name": "VBoxModel",
      "state": {
       "_model_module_version": "~2.1.4",
       "_view_module_version": "~2.1.4",
       "children": [
        "IPY_MODEL_88081b0cef9a483399d820fe1b10087a",
        "IPY_MODEL_e03c8daf171541b29729905a40b51036"
       ],
       "layout": "IPY_MODEL_dd5abb5855b049789bcad64b01317a2e"
      }
     },
     "ed28c03755954d7ba56855c81b0ba895": {
      "model_module": "jupyter-js-widgets",
      "model_module_version": "~2.1.4",
      "model_name": "IntSliderModel",
      "state": {
       "_model_module_version": "~2.1.4",
       "_view_module_version": "~2.1.4",
       "continuous_update": false,
       "description": "Dataset index",
       "layout": "IPY_MODEL_487e314fcd12477790f8f0d93b492fda",
       "max": 3,
       "style": "IPY_MODEL_6076a0f46a494072a3e25e8139d26e1e"
      }
     },
     "edec0b062c6342fc9ed16d6a2fcc3a61": {
      "model_module": "jupyter-js-widgets",
      "model_module_version": "~2.1.4",
      "model_name": "LayoutModel",
      "state": {
       "_model_module_version": "~2.1.4",
       "_view_module_version": "~2.1.4",
       "width": "100%"
      }
     },
     "f0e98de5bd534ac8b13f822c166b525b": {
      "model_module": "jupyter-js-widgets",
      "model_module_version": "~2.1.4",
      "model_name": "ButtonStyleModel",
      "state": {
       "_model_module_version": "~2.1.4",
       "_view_module_version": "~2.1.4"
      }
     },
     "f1019b41923a457cab276028ce5221a1": {
      "model_module": "jupyter-js-widgets",
      "model_module_version": "~2.1.4",
      "model_name": "HBoxModel",
      "state": {
       "_model_module_version": "~2.1.4",
       "_view_module_version": "~2.1.4",
       "children": [
        "IPY_MODEL_e8e1e48ba2c4460a882a87bb9cc687a4",
        "IPY_MODEL_eba1eb54a0384de6b5ec8ac47c652e07",
        "IPY_MODEL_9fa4ffcc307143d5a414e17beca4493c",
        "IPY_MODEL_54298bdc643b4080aaeb58efdf8ae951",
        "IPY_MODEL_2ec39d924f194bed848e1f8a12a4f6a7"
       ],
       "layout": "IPY_MODEL_265449cfee1b47828ad12bf035480327"
      }
     },
     "f15c2f6980b24ab9bd41d5e08b7505a2": {
      "model_module": "jupyter-js-widgets",
      "model_module_version": "~2.1.4",
      "model_name": "VBoxModel",
      "state": {
       "_model_module_version": "~2.1.4",
       "_view_module_version": "~2.1.4",
       "children": [
        "IPY_MODEL_39b9655d816f42b4aa09eec3fd89bfe5",
        "IPY_MODEL_9ad5035a78a343939aa6222517e4e3b3",
        "IPY_MODEL_f1019b41923a457cab276028ce5221a1"
       ],
       "layout": "IPY_MODEL_51a492f7eea341ebb7e6932b121ce027"
      }
     },
     "f16de6cde1554f7fa06bbb6c37a775ff": {
      "model_module": "jupyter-js-widgets",
      "model_module_version": "~2.1.4",
      "model_name": "VBoxModel",
      "state": {
       "_model_module_version": "~2.1.4",
       "_view_module_version": "~2.1.4",
       "children": [
        "IPY_MODEL_ace1bfbefc76421db9f6aafb4de1be18",
        "IPY_MODEL_e5fd8e5a5615488ba06e6dc2ea38f84b"
       ],
       "layout": "IPY_MODEL_5d1b3d88195047edb11eef2e171b031f"
      }
     },
     "f1e497e0853549b585c8bd704d54e820": {
      "model_module": "jupyter-js-widgets",
      "model_module_version": "~2.1.4",
      "model_name": "ButtonModel",
      "state": {
       "_model_module_version": "~2.1.4",
       "_view_module_version": "~2.1.4",
       "description": "Train",
       "layout": "IPY_MODEL_ccd3982a64164006bb5c94314af573ad",
       "style": "IPY_MODEL_0a2a0b11e1784b82b5fe56bf4b521f76"
      }
     },
     "f2331375e8804de18b06941c25674476": {
      "model_module": "jupyter-js-widgets",
      "model_module_version": "~2.1.4",
      "model_name": "VBoxModel",
      "state": {
       "_model_module_version": "~2.1.4",
       "_view_module_version": "~2.1.4",
       "children": [
        "IPY_MODEL_0ddb2f9ff0cb4806a86269c24272b5e0",
        "IPY_MODEL_f3e08fa7f84a43db8345692c5517fbc0"
       ],
       "layout": "IPY_MODEL_a048f13910504d17a785512c4e463eb3"
      }
     },
     "f3952fb4c16e47b8a8730be4cd2891b0": {
      "model_module": "jupyter-js-widgets",
      "model_module_version": "~2.1.4",
      "model_name": "ButtonModel",
      "state": {
       "_model_module_version": "~2.1.4",
       "_view_module_version": "~2.1.4",
       "icon": "fast-backward",
       "layout": "IPY_MODEL_4f2507a54233462ca6f8f42ba8ae8caa",
       "style": "IPY_MODEL_11208d2b6ca446049403d4033f4bce34"
      }
     },
     "f3e08fa7f84a43db8345692c5517fbc0": {
      "model_module": "jupyter-js-widgets",
      "model_module_version": "~2.1.4",
      "model_name": "VBoxModel",
      "state": {
       "_model_module_version": "~2.1.4",
       "_view_module_version": "~2.1.4",
       "children": [
        "IPY_MODEL_2fc129f1d7d24dc9aa971053e09abd09",
        "IPY_MODEL_c8537e7a5e6e4c189fc697de4b37f54a",
        "IPY_MODEL_22474d85aafc4a9a89fc4a03454a2b09"
       ],
       "layout": "IPY_MODEL_0b55a353a00f45ee8edfc47c8344ec39"
      }
     },
     "f49be3e2bebe4e52a676b833c9e04040": {
      "model_module": "jupyter-js-widgets",
      "model_module_version": "~2.1.4",
      "model_name": "ButtonModel",
      "state": {
       "_model_module_version": "~2.1.4",
       "_view_module_version": "~2.1.4",
       "icon": "forward",
       "layout": "IPY_MODEL_9a736becc8014b80b64cea79bec26237",
       "style": "IPY_MODEL_a7a47cc140664ec7a00cfc13626d45ff"
      }
     },
     "f5f78273173b4507b0ddd318ed134db2": {
      "model_module": "jupyter-js-widgets",
      "model_module_version": "~2.1.4",
      "model_name": "HTMLModel",
      "state": {
       "_model_module_version": "~2.1.4",
       "_view_module_version": "~2.1.4",
       "layout": "IPY_MODEL_b6ffb60ffa2d44d7a86d856f54751f0f",
       "value": "\n        <svg id='XOR' xmlns='http://www.w3.org/2000/svg' width=\"200\" height=\"335\" image-rendering=\"pixelated\">\n    <defs>\n        <marker id=\"arrow\" markerWidth=\"10\" markerHeight=\"10\" refX=\"9\" refY=\"3\" orient=\"auto\" markerUnits=\"strokeWidth\">\n          <path d=\"M0,0 L0,6 L9,3 z\" fill=\"blue\" />\n        </marker>\n    </defs>\n<rect x=\"74.0\" y=\"24\" width=\"52\" height=\"52\" style=\"fill:none;stroke:blue;stroke-width:2\"/><image id=\"XOR_output_targets_1\" class=\"XOR_output_targets\" x=\"75.0\" y=\"25\" height=\"50\" width=\"50\" href=\"data:image/gif;base64,R0lGODdhAQABAIAAAKenpwAAACwAAAAAAQABAAAIBQABbAsIADs=\"><title>Layer: output (output)\n shape = (1,)\n Keras class = Dense\n activation = sigmoid</title></image><text x=\"130.0\" y=\"52.0\" font-family=\"monospace\" font-size=\"12\">targets</text><rect x=\"74.0\" y=\"84\" width=\"52\" height=\"52\" style=\"fill:none;stroke:blue;stroke-width:2\"/><image id=\"XOR_output_errors_1\" class=\"XOR_output_errors\" x=\"75.0\" y=\"85\" height=\"50\" width=\"50\" href=\"data:image/gif;base64,R0lGODdhAQABAIAAAKenpwAAACwAAAAAAQABAAAIBQABbAsIADs=\"><title>Layer: output (output)\n shape = (1,)\n Keras class = Dense\n activation = sigmoid</title></image><text x=\"130.0\" y=\"112.0\" font-family=\"monospace\" font-size=\"12\">errors</text><rect x=\"74.0\" y=\"149\" width=\"52\" height=\"52\" style=\"fill:none;stroke:blue;stroke-width:2\"/><image id=\"XOR_output_1\" class=\"XOR_output\" x=\"75.0\" y=\"150\" height=\"50\" width=\"50\" href=\"data:image/gif;base64,R0lGODdhAQABAIAAAKenpwAAACwAAAAAAQABAAAIBQABbAsIADs=\"><title>Layer: output (output)\n shape = (1,)\n Keras class = Dense\n activation = sigmoid</title></image><text x=\"130.0\" y=\"177.0\" font-family=\"monospace\" font-size=\"12\">output</text><rect x=\"90.0\" y=\"202\" width=\"20.0\" height=\"27\" style=\"fill:white;stroke:none\"><title>Weights from hidden to output\n output/kernel has shape (4, 1)\n output/bias has shape (1,)</title></rect><rect x=\"90.0\" y=\"202\" width=\"20.0\" height=\"27\" style=\"fill:white;stroke:none\"><title>Weights from hidden to output\n output/kernel has shape (4, 1)\n output/bias has shape (1,)</title></rect><line x1=\"100.0\" y1=\"229\" x2=\"100.0\" y2=\"202\" stroke=\"blue\" stroke-width=\"2\" marker-end=\"url(#arrow)\"><title>Weights from hidden to output\n output/kernel has shape (4, 1)\n output/bias has shape (1,)</title></line><line x1=\"100.0\" y1=\"229\" x2=\"100.0\" y2=\"202\" stroke=\"blue\" stroke-width=\"2\" marker-end=\"url(#arrow)\"><title>Weights from hidden to output\n output/kernel has shape (4, 1)\n output/bias has shape (1,)</title></line><rect x=\"74.0\" y=\"229\" width=\"52\" height=\"27\" style=\"fill:none;stroke:blue;stroke-width:2\"/><image id=\"XOR_hidden_2\" class=\"XOR_hidden\" x=\"75.0\" y=\"230\" height=\"25\" width=\"50\" href=\"data:image/gif;base64,R0lGODdhAgABAIAAAH9/fwAAACwAAAAAAgABAAAIBQABAAgIADs=\"><title>Layer: hidden (hidden)\n shape = (2,)\n Keras class = Dense\n activation = sigmoid</title></image><text x=\"130.0\" y=\"244.5\" font-family=\"monospace\" font-size=\"12\">hidden</text><rect x=\"90.0\" y=\"257\" width=\"20.0\" height=\"27\" style=\"fill:white;stroke:none\"><title>Weights from input to hidden\n hidden/kernel has shape (4, 2)\n hidden/bias has shape (2,)</title></rect><rect x=\"90.0\" y=\"257\" width=\"20.0\" height=\"27\" style=\"fill:white;stroke:none\"><title>Weights from input to hidden\n hidden/kernel has shape (4, 2)\n hidden/bias has shape (2,)</title></rect><line x1=\"100.0\" y1=\"284\" x2=\"100.0\" y2=\"257\" stroke=\"blue\" stroke-width=\"2\" marker-end=\"url(#arrow)\"><title>Weights from input to hidden\n hidden/kernel has shape (4, 2)\n hidden/bias has shape (2,)</title></line><line x1=\"100.0\" y1=\"284\" x2=\"100.0\" y2=\"257\" stroke=\"blue\" stroke-width=\"2\" marker-end=\"url(#arrow)\"><title>Weights from input to hidden\n hidden/kernel has shape (4, 2)\n hidden/bias has shape (2,)</title></line><rect x=\"74.0\" y=\"284\" width=\"52\" height=\"27\" style=\"fill:none;stroke:blue;stroke-width:2\"/><image id=\"XOR_input_3\" class=\"XOR_input\" x=\"75.0\" y=\"285\" height=\"25\" width=\"50\" href=\"data:image/gif;base64,R0lGODdhAgABAIAAAH9/fwAAACwAAAAAAgABAAAIBQABAAgIADs=\"><title>Layer: input (input)\n shape = (2,)\n Keras class = Input</title></image><text x=\"130.0\" y=\"299.5\" font-family=\"monospace\" font-size=\"12\">input</text></svg>"
      }
     },
     "f6348eef3dc746fd89e79edf0abfa269": {
      "model_module": "jupyter-js-widgets",
      "model_module_version": "~2.1.4",
      "model_name": "LayoutModel",
      "state": {
       "_model_module_version": "~2.1.4",
       "_view_module_version": "~2.1.4",
       "width": "100%"
      }
     },
     "f65b50d9a2384824a65bd7885126ec75": {
      "model_module": "jupyter-js-widgets",
      "model_module_version": "~2.1.4",
      "model_name": "SliderStyleModel",
      "state": {
       "_model_module_version": "~2.1.4",
       "_view_module_version": "~2.1.4"
      }
     },
     "f8a49bcc40594618ac4795e4f2404f80": {
      "model_module": "jupyter-js-widgets",
      "model_module_version": "~2.1.4",
      "model_name": "LayoutModel",
      "state": {
       "_model_module_version": "~2.1.4",
       "_view_module_version": "~2.1.4",
       "width": "100%"
      }
     },
     "f95ce6718e4d4066af0fee45681e9c36": {
      "model_module": "jupyter-js-widgets",
      "model_module_version": "~2.1.4",
      "model_name": "ButtonModel",
      "state": {
       "_model_module_version": "~2.1.4",
       "_view_module_version": "~2.1.4",
       "description": "Train",
       "layout": "IPY_MODEL_bd4978e459f248128c5c90d6db05756a",
       "style": "IPY_MODEL_72132cd463eb4929850075a966f0f32a"
      }
     },
     "f97f400f011340c9949589df3d4e761b": {
      "model_module": "jupyter-js-widgets",
      "model_module_version": "~2.1.4",
      "model_name": "HTMLModel",
      "state": {
       "_model_module_version": "~2.1.4",
       "_view_module_version": "~2.1.4",
       "layout": "IPY_MODEL_bd91f5243d904a4c94df4e6c262aac26",
       "value": "\n        <svg id='XOR' xmlns='http://www.w3.org/2000/svg' width=\"200\" height=\"335\" image-rendering=\"pixelated\">\n    <defs>\n        <marker id=\"arrow\" markerWidth=\"10\" markerHeight=\"10\" refX=\"9\" refY=\"3\" orient=\"auto\" markerUnits=\"strokeWidth\">\n          <path d=\"M0,0 L0,6 L9,3 z\" fill=\"blue\" />\n        </marker>\n    </defs>\n<rect x=\"74.0\" y=\"24\" width=\"52\" height=\"52\" style=\"fill:none;stroke:blue;stroke-width:2\"/><image id=\"XOR_output_targets_1\" class=\"XOR_output_targets\" x=\"75.0\" y=\"25\" height=\"50\" width=\"50\" preserveAspectRatio=\"none\" href=\"data:image/gif;base64,R0lGODdhAQABAIAAAJWVlQAAACwAAAAAAQABAAAIBQABrAsIADs=\"><title>Layer: output (output)\n shape = (1,)\n Keras class = Dense\n activation = sigmoid</title></image><text x=\"130.0\" y=\"52.0\" font-family=\"monospace\" font-size=\"12\">targets</text><rect x=\"74.0\" y=\"84\" width=\"52\" height=\"52\" style=\"fill:none;stroke:blue;stroke-width:2\"/><image id=\"XOR_output_errors_1\" class=\"XOR_output_errors\" x=\"75.0\" y=\"85\" height=\"50\" width=\"50\" preserveAspectRatio=\"none\" href=\"data:image/gif;base64,R0lGODdhAQABAIAAAJWVlQAAACwAAAAAAQABAAAIBQABrAsIADs=\"><title>Layer: output (output)\n shape = (1,)\n Keras class = Dense\n activation = sigmoid</title></image><text x=\"130.0\" y=\"112.0\" font-family=\"monospace\" font-size=\"12\">errors</text><rect x=\"74.0\" y=\"149\" width=\"52\" height=\"52\" style=\"fill:none;stroke:blue;stroke-width:2\"/><image id=\"XOR_output_1\" class=\"XOR_output\" x=\"75.0\" y=\"150\" height=\"50\" width=\"50\" preserveAspectRatio=\"none\" href=\"data:image/gif;base64,R0lGODdhAQABAIAAAJWVlQAAACwAAAAAAQABAAAIBQABrAsIADs=\"><title>Layer: output (output)\n shape = (1,)\n Keras class = Dense\n activation = sigmoid</title></image><text x=\"130.0\" y=\"177.0\" font-family=\"monospace\" font-size=\"12\">output</text><rect x=\"90.0\" y=\"202\" width=\"20.0\" height=\"27\" style=\"fill:white;stroke:none\"><title>Weights from hidden to output\n output/kernel has shape (4, 1)\n output/bias has shape (1,)</title></rect><rect x=\"90.0\" y=\"202\" width=\"20.0\" height=\"27\" style=\"fill:white;stroke:none\"><title>Weights from hidden to output\n output/kernel has shape (4, 1)\n output/bias has shape (1,)</title></rect><line x1=\"100.0\" y1=\"229\" x2=\"100.0\" y2=\"202\" stroke=\"blue\" stroke-width=\"2\" marker-end=\"url(#arrow)\"><title>Weights from hidden to output\n output/kernel has shape (4, 1)\n output/bias has shape (1,)</title></line><line x1=\"100.0\" y1=\"229\" x2=\"100.0\" y2=\"202\" stroke=\"blue\" stroke-width=\"2\" marker-end=\"url(#arrow)\"><title>Weights from hidden to output\n output/kernel has shape (4, 1)\n output/bias has shape (1,)</title></line><rect x=\"74.0\" y=\"229\" width=\"52\" height=\"27\" style=\"fill:none;stroke:blue;stroke-width:2\"/><image id=\"XOR_hidden_2\" class=\"XOR_hidden\" x=\"75.0\" y=\"230\" height=\"25\" width=\"50\" preserveAspectRatio=\"none\" href=\"data:image/gif;base64,R0lGODdhAgABAIAAAH9/fwAAACwAAAAAAgABAAAIBQABAAgIADs=\"><title>Layer: hidden (hidden)\n shape = (2,)\n Keras class = Dense\n activation = sigmoid</title></image><text x=\"130.0\" y=\"244.5\" font-family=\"monospace\" font-size=\"12\">hidden</text><rect x=\"90.0\" y=\"257\" width=\"20.0\" height=\"27\" style=\"fill:white;stroke:none\"><title>Weights from input to hidden\n hidden/kernel has shape (4, 2)\n hidden/bias has shape (2,)</title></rect><rect x=\"90.0\" y=\"257\" width=\"20.0\" height=\"27\" style=\"fill:white;stroke:none\"><title>Weights from input to hidden\n hidden/kernel has shape (4, 2)\n hidden/bias has shape (2,)</title></rect><line x1=\"100.0\" y1=\"284\" x2=\"100.0\" y2=\"257\" stroke=\"blue\" stroke-width=\"2\" marker-end=\"url(#arrow)\"><title>Weights from input to hidden\n hidden/kernel has shape (4, 2)\n hidden/bias has shape (2,)</title></line><line x1=\"100.0\" y1=\"284\" x2=\"100.0\" y2=\"257\" stroke=\"blue\" stroke-width=\"2\" marker-end=\"url(#arrow)\"><title>Weights from input to hidden\n hidden/kernel has shape (4, 2)\n hidden/bias has shape (2,)</title></line><rect x=\"74.0\" y=\"284\" width=\"52\" height=\"27\" style=\"fill:none;stroke:blue;stroke-width:2\"/><image id=\"XOR_input_3\" class=\"XOR_input\" x=\"75.0\" y=\"285\" height=\"25\" width=\"50\" preserveAspectRatio=\"none\" href=\"data:image/gif;base64,R0lGODdhAgABAIAAAH9/fwAAACwAAAAAAgABAAAIBQABAAgIADs=\"><title>Layer: input (input)\n shape = (2,)\n Keras class = Input</title></image><text x=\"130.0\" y=\"299.5\" font-family=\"monospace\" font-size=\"12\">input</text></svg>"
      }
     },
     "fa85b1df0c284fba8b16b6f33f8eab85": {
      "model_module": "jupyter-js-widgets",
      "model_module_version": "~2.1.4",
      "model_name": "LayoutModel",
      "state": {
       "_model_module_version": "~2.1.4",
       "_view_module_version": "~2.1.4",
       "width": "100%"
      }
     },
     "fab612f2985c40209fb1259bd51a15b5": {
      "model_module": "jupyter-js-widgets",
      "model_module_version": "~2.1.4",
      "model_name": "SliderStyleModel",
      "state": {
       "_model_module_version": "~2.1.4",
       "_view_module_version": "~2.1.4"
      }
     },
     "fbad782e99894c0fbac4431bcf391183": {
      "model_module": "jupyter-js-widgets",
      "model_module_version": "~2.1.4",
      "model_name": "ButtonStyleModel",
      "state": {
       "_model_module_version": "~2.1.4",
       "_view_module_version": "~2.1.4"
      }
     },
     "fbb6d97ab2f44872856b1d073b605b0a": {
      "model_module": "jupyter-js-widgets",
      "model_module_version": "~2.1.4",
      "model_name": "LayoutModel",
      "state": {
       "_model_module_version": "~2.1.4",
       "_view_module_version": "~2.1.4",
       "width": "100%"
      }
     },
     "fbd42dbfff91486c8c0712f3437501f5": {
      "model_module": "jupyter-js-widgets",
      "model_module_version": "~2.1.4",
      "model_name": "ButtonStyleModel",
      "state": {
       "_model_module_version": "~2.1.4",
       "_view_module_version": "~2.1.4"
      }
     },
     "fd735877ad084fa2be0123cf04b69516": {
      "model_module": "jupyter-js-widgets",
      "model_module_version": "~2.1.4",
      "model_name": "LayoutModel",
      "state": {
       "_model_module_version": "~2.1.4",
       "_view_module_version": "~2.1.4",
       "width": "100%"
      }
     },
     "fda536fe3a5c4a888fe2669690d7c7de": {
      "model_module": "jupyter-js-widgets",
      "model_module_version": "~2.1.4",
      "model_name": "LayoutModel",
      "state": {
       "_model_module_version": "~2.1.4",
       "_view_module_version": "~2.1.4",
       "width": "100%"
      }
     },
     "fe574d589bfe4ad9b5ee9f82a8accd6b": {
      "model_module": "jupyter-js-widgets",
      "model_module_version": "~2.1.4",
      "model_name": "LayoutModel",
      "state": {
       "_model_module_version": "~2.1.4",
       "_view_module_version": "~2.1.4",
       "width": "100%"
      }
     },
     "ff63f478cd884e33ad885d5177e5ea9c": {
      "model_module": "jupyter-js-widgets",
      "model_module_version": "~2.1.4",
      "model_name": "ButtonStyleModel",
      "state": {
       "_model_module_version": "~2.1.4",
       "_view_module_version": "~2.1.4"
      }
     }
    },
    "version_major": 1,
    "version_minor": 0
   }
  }
 },
 "nbformat": 4,
 "nbformat_minor": 2
}
