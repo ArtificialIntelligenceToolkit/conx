{
 "cells": [
  {
   "cell_type": "markdown",
   "metadata": {},
   "source": [
    "# XOR Multiple Inputs/Targets\n",
    "\n",
    "Testing..."
   ]
  },
  {
   "cell_type": "code",
   "execution_count": 1,
   "metadata": {},
   "outputs": [
    {
     "name": "stderr",
     "output_type": "stream",
     "text": [
      "Using Theano backend.\n"
     ]
    }
   ],
   "source": [
    "from conx import Network, Layer, SGD"
   ]
  },
  {
   "cell_type": "code",
   "execution_count": 8,
   "metadata": {
    "collapsed": true
   },
   "outputs": [],
   "source": [
    "net = Network(\"XOR\", 2, 2, 1, activation=\"sigmoid\")\n",
    "net.connect()\n",
    "dataset = [\n",
    "    ([0, 0], [0]),\n",
    "    ([0, 1], [1]),\n",
    "    ([1, 0], [1]),\n",
    "    ([1, 1], [0])\n",
    "]"
   ]
  },
  {
   "cell_type": "code",
   "execution_count": 9,
   "metadata": {},
   "outputs": [
    {
     "name": "stdout",
     "output_type": "stream",
     "text": [
      "Split dataset into:\n",
      "   4 train inputs\n",
      "   0 test inputs\n",
      "Input Summary:\n",
      "   length  : 4\n",
      "   training: 4\n",
      "   testing : 0\n",
      "   shape  : (2,)\n",
      "   range  : (0.0, 1.0)\n",
      "Target Summary:\n",
      "   length  : 4\n",
      "   training: 4\n",
      "   testing : 0\n",
      "   shape  : (1,)\n",
      "   range  : (0.0, 1.0)\n"
     ]
    }
   ],
   "source": [
    "net.set_dataset(dataset)"
   ]
  },
  {
   "cell_type": "code",
   "execution_count": 10,
   "metadata": {},
   "outputs": [
    {
     "data": {
      "text/plain": [
       "[0.0]"
      ]
     },
     "execution_count": 10,
     "metadata": {},
     "output_type": "execute_result"
    }
   ],
   "source": [
    "net.get_target(0)"
   ]
  },
  {
   "cell_type": "code",
   "execution_count": 11,
   "metadata": {
    "collapsed": true
   },
   "outputs": [],
   "source": [
    "net.compile(loss='mean_squared_error',\n",
    "            optimizer=SGD(lr=0.3, momentum=0.9))"
   ]
  },
  {
   "cell_type": "code",
   "execution_count": 12,
   "metadata": {},
   "outputs": [],
   "source": [
    "net.config[\"image_maxdim\"] = 50"
   ]
  },
  {
   "cell_type": "code",
   "execution_count": 13,
   "metadata": {},
   "outputs": [
    {
     "data": {
      "application/javascript": [
       "\n",
       "require(['base/js/namespace'], function(Jupyter) {\n",
       "    Jupyter.notebook.kernel.comm_manager.register_target('conx_svg_control', function(comm, msg) {\n",
       "        comm.on_msg(function(msg) {\n",
       "            var data = msg[\"content\"][\"data\"];\n",
       "            var images = document.getElementsByClassName(data[\"class\"]);\n",
       "            for (var i = 0; i < images.length; i++) {\n",
       "                images[i].setAttributeNS(null, \"href\", data[\"href\"]);\n",
       "            }\n",
       "        });\n",
       "    });\n",
       "});\n"
      ],
      "text/plain": [
       "<IPython.core.display.Javascript object>"
      ]
     },
     "metadata": {},
     "output_type": "display_data"
    },
    {
     "data": {
      "application/vnd.jupyter.widget-view+json": {
       "model_id": "de9820461737442caa66003fa89105f8"
      }
     },
     "metadata": {},
     "output_type": "display_data"
    }
   ],
   "source": [
    "net.build_widget()"
   ]
  },
  {
   "cell_type": "code",
   "execution_count": 15,
   "metadata": {},
   "outputs": [
    {
     "name": "stdout",
     "output_type": "stream",
     "text": [
      "Training...\n",
      "Epoch # 2025 | train error 0.12532 | train accuracy 0.50000 | validate% 0.50000\n",
      "Epoch # 2050 | train error 0.12531 | train accuracy 0.50000 | validate% 0.50000\n",
      "Epoch # 2075 | train error 0.12531 | train accuracy 0.50000 | validate% 0.50000\n",
      "Epoch # 2100 | train error 0.12530 | train accuracy 0.50000 | validate% 0.50000\n",
      "Epoch # 2125 | train error 0.12530 | train accuracy 0.50000 | validate% 0.50000\n",
      "Epoch # 2150 | train error 0.12530 | train accuracy 0.50000 | validate% 0.50000\n",
      "Epoch # 2175 | train error 0.12529 | train accuracy 0.50000 | validate% 0.50000\n",
      "Epoch # 2200 | train error 0.12529 | train accuracy 0.50000 | validate% 0.50000\n",
      "Epoch # 2225 | train error 0.12529 | train accuracy 0.50000 | validate% 0.50000\n",
      "Epoch # 2250 | train error 0.12528 | train accuracy 0.50000 | validate% 0.50000\n",
      "Epoch # 2275 | train error 0.12528 | train accuracy 0.50000 | validate% 0.50000\n",
      "Epoch # 2300 | train error 0.12527 | train accuracy 0.50000 | validate% 0.50000\n",
      "Epoch # 2325 | train error 0.12527 | train accuracy 0.50000 | validate% 0.50000\n",
      "Epoch # 2350 | train error 0.12527 | train accuracy 0.50000 | validate% 0.50000\n",
      "Epoch # 2375 | train error 0.12527 | train accuracy 0.50000 | validate% 0.50000\n",
      "Epoch # 2400 | train error 0.12526 | train accuracy 0.50000 | validate% 0.50000\n",
      "Epoch # 2425 | train error 0.12526 | train accuracy 0.50000 | validate% 0.50000\n",
      "Epoch # 2450 | train error 0.12526 | train accuracy 0.50000 | validate% 0.50000\n",
      "Epoch # 2475 | train error 0.12525 | train accuracy 0.50000 | validate% 0.50000\n",
      "Epoch # 2500 | train error 0.12525 | train accuracy 0.50000 | validate% 0.50000\n",
      "Epoch # 2525 | train error 0.12525 | train accuracy 0.50000 | validate% 0.50000\n",
      "Epoch # 2550 | train error 0.12525 | train accuracy 0.50000 | validate% 0.50000\n",
      "Epoch # 2575 | train error 0.12524 | train accuracy 0.50000 | validate% 0.50000\n",
      "Epoch # 2600 | train error 0.12524 | train accuracy 0.50000 | validate% 0.50000\n",
      "Epoch # 2625 | train error 0.12524 | train accuracy 0.50000 | validate% 0.50000\n",
      "Epoch # 2650 | train error 0.12524 | train accuracy 0.50000 | validate% 0.50000\n",
      "Epoch # 2675 | train error 0.12523 | train accuracy 0.50000 | validate% 0.50000\n",
      "Epoch # 2700 | train error 0.12523 | train accuracy 0.50000 | validate% 0.50000\n",
      "Epoch # 2725 | train error 0.12523 | train accuracy 0.50000 | validate% 0.50000\n",
      "Epoch # 2750 | train error 0.12523 | train accuracy 0.50000 | validate% 0.50000\n",
      "Epoch # 2775 | train error 0.12522 | train accuracy 0.50000 | validate% 0.50000\n",
      "Epoch # 2800 | train error 0.12522 | train accuracy 0.50000 | validate% 0.50000\n",
      "Epoch # 2825 | train error 0.12522 | train accuracy 0.50000 | validate% 0.50000\n",
      "Epoch # 2850 | train error 0.12522 | train accuracy 0.50000 | validate% 0.50000\n",
      "Epoch # 2875 | train error 0.12522 | train accuracy 0.50000 | validate% 0.50000\n",
      "Epoch # 2900 | train error 0.12521 | train accuracy 0.50000 | validate% 0.50000\n",
      "Epoch # 2925 | train error 0.12521 | train accuracy 0.50000 | validate% 0.50000\n",
      "Epoch # 2950 | train error 0.12521 | train accuracy 0.50000 | validate% 0.50000\n",
      "Epoch # 2975 | train error 0.12521 | train accuracy 0.50000 | validate% 0.50000\n",
      "Epoch # 3000 | train error 0.12521 | train accuracy 0.50000 | validate% 0.50000\n",
      "Epoch # 3025 | train error 0.12520 | train accuracy 0.50000 | validate% 0.50000\n",
      "Epoch # 3050 | train error 0.12520 | train accuracy 0.50000 | validate% 0.50000\n",
      "Epoch # 3075 | train error 0.12520 | train accuracy 0.50000 | validate% 0.50000\n",
      "Epoch # 3100 | train error 0.12520 | train accuracy 0.50000 | validate% 0.50000\n",
      "Epoch # 3125 | train error 0.12520 | train accuracy 0.50000 | validate% 0.50000\n",
      "Epoch # 3150 | train error 0.12520 | train accuracy 0.50000 | validate% 0.50000\n",
      "Epoch # 3175 | train error 0.12519 | train accuracy 0.50000 | validate% 0.50000\n",
      "Epoch # 3200 | train error 0.12519 | train accuracy 0.50000 | validate% 0.50000\n",
      "Epoch # 3225 | train error 0.12519 | train accuracy 0.50000 | validate% 0.50000\n",
      "Epoch # 3250 | train error 0.12519 | train accuracy 0.50000 | validate% 0.50000\n",
      "Epoch # 3275 | train error 0.12519 | train accuracy 0.50000 | validate% 0.50000\n",
      "Epoch # 3300 | train error 0.12519 | train accuracy 0.50000 | validate% 0.50000\n",
      "Epoch # 3325 | train error 0.12518 | train accuracy 0.50000 | validate% 0.50000\n",
      "Epoch # 3350 | train error 0.12518 | train accuracy 0.50000 | validate% 0.50000\n",
      "Epoch # 3375 | train error 0.12518 | train accuracy 0.50000 | validate% 0.50000\n",
      "Epoch # 3400 | train error 0.12518 | train accuracy 0.50000 | validate% 0.50000\n",
      "Epoch # 3425 | train error 0.12518 | train accuracy 0.50000 | validate% 0.50000\n",
      "Epoch # 3450 | train error 0.12518 | train accuracy 0.50000 | validate% 0.50000\n",
      "Epoch # 3475 | train error 0.12518 | train accuracy 0.50000 | validate% 0.50000\n",
      "Epoch # 3500 | train error 0.12517 | train accuracy 0.50000 | validate% 0.50000\n",
      "Epoch # 3525 | train error 0.12517 | train accuracy 0.50000 | validate% 0.50000\n",
      "Epoch # 3550 | train error 0.12517 | train accuracy 0.50000 | validate% 0.50000\n",
      "Epoch # 3575 | train error 0.12517 | train accuracy 0.50000 | validate% 0.50000\n",
      "Epoch # 3600 | train error 0.12517 | train accuracy 0.50000 | validate% 0.50000\n",
      "Epoch # 3625 | train error 0.12517 | train accuracy 0.50000 | validate% 0.50000\n",
      "Epoch # 3650 | train error 0.12517 | train accuracy 0.50000 | validate% 0.50000\n",
      "Epoch # 3675 | train error 0.12517 | train accuracy 0.50000 | validate% 0.50000\n",
      "Epoch # 3700 | train error 0.12516 | train accuracy 0.50000 | validate% 0.50000\n",
      "Epoch # 3725 | train error 0.12516 | train accuracy 0.50000 | validate% 0.50000\n",
      "Epoch # 3750 | train error 0.12516 | train accuracy 0.50000 | validate% 0.50000\n",
      "Epoch # 3775 | train error 0.12516 | train accuracy 0.50000 | validate% 0.50000\n",
      "Epoch # 3800 | train error 0.12516 | train accuracy 0.50000 | validate% 0.50000\n",
      "Epoch # 3825 | train error 0.12516 | train accuracy 0.50000 | validate% 0.50000\n",
      "Epoch # 3850 | train error 0.12516 | train accuracy 0.50000 | validate% 0.50000\n",
      "Epoch # 3875 | train error 0.12516 | train accuracy 0.50000 | validate% 0.50000\n",
      "Epoch # 3900 | train error 0.12515 | train accuracy 0.50000 | validate% 0.50000\n",
      "Epoch # 3925 | train error 0.12515 | train accuracy 0.50000 | validate% 0.50000\n",
      "Epoch # 3950 | train error 0.12515 | train accuracy 0.50000 | validate% 0.50000\n",
      "Epoch # 3975 | train error 0.12515 | train accuracy 0.50000 | validate% 0.50000\n",
      "Epoch # 4000 | train error 0.12515 | train accuracy 0.50000 | validate% 0.50000\n",
      "========================================================================\n",
      "Epoch # 4000 | train error 0.12515 | train accuracy 0.50000 | validate% 0.50000\n"
     ]
    }
   ],
   "source": [
    "net.train(epochs=2000, accuracy=1.0, report_rate=25)"
   ]
  },
  {
   "cell_type": "code",
   "execution_count": 16,
   "metadata": {},
   "outputs": [
    {
     "name": "stdout",
     "output_type": "stream",
     "text": [
      "Testing on training dataset...\n",
      "# | inputs | targets | outputs | result\n",
      "0 | [0.0, 0.0] | [0.0] | [0.0] | correct\n",
      "1 | [0.0, 1.0] | [1.0] | [1.0] | correct\n",
      "2 | [1.0, 0.0] | [1.0] | [0.5] | X\n",
      "3 | [1.0, 1.0] | [0.0] | [0.5] | X\n",
      "Total count: 4\n",
      "Total percentage correct: 0.5\n"
     ]
    }
   ],
   "source": [
    "net.test()"
   ]
  },
  {
   "cell_type": "code",
   "execution_count": 17,
   "metadata": {},
   "outputs": [
    {
     "data": {
      "text/plain": [
       "[0.0, 1.0]"
      ]
     },
     "execution_count": 17,
     "metadata": {},
     "output_type": "execute_result"
    }
   ],
   "source": [
    "net.propagate_to(\"input\", [0, 1])"
   ]
  },
  {
   "cell_type": "code",
   "execution_count": 18,
   "metadata": {},
   "outputs": [
    {
     "data": {
      "text/plain": [
       "[0.50176251]"
      ]
     },
     "execution_count": 18,
     "metadata": {},
     "output_type": "execute_result"
    }
   ],
   "source": [
    "net.propagate([0.5, 0.5])"
   ]
  },
  {
   "cell_type": "code",
   "execution_count": 19,
   "metadata": {},
   "outputs": [
    {
     "data": {
      "text/plain": [
       "[3.1880122151051182e-06, 0.00011603038001339883]"
      ]
     },
     "execution_count": 19,
     "metadata": {},
     "output_type": "execute_result"
    }
   ],
   "source": [
    "net.propagate_to(\"hidden\", [1, 0])"
   ]
  },
  {
   "cell_type": "code",
   "execution_count": 20,
   "metadata": {},
   "outputs": [
    {
     "data": {
      "text/plain": [
       "[0.6228697299957275]"
      ]
     },
     "execution_count": 20,
     "metadata": {},
     "output_type": "execute_result"
    }
   ],
   "source": [
    "net.propagate_to(\"output\", [0.25, 0.75])"
   ]
  },
  {
   "cell_type": "code",
   "execution_count": 21,
   "metadata": {},
   "outputs": [
    {
     "data": {
      "text/plain": [
       "[0.25, 0.25]"
      ]
     },
     "execution_count": 21,
     "metadata": {},
     "output_type": "execute_result"
    }
   ],
   "source": [
    "net.propagate_to(\"input\", [0.25, 0.25])"
   ]
  },
  {
   "cell_type": "code",
   "execution_count": 22,
   "metadata": {},
   "outputs": [
    {
     "data": {
      "text/plain": [
       "[0.41396368]"
      ]
     },
     "execution_count": 22,
     "metadata": {},
     "output_type": "execute_result"
    }
   ],
   "source": [
    "net.propagate_from(\"input\", [1.0, 1.0])"
   ]
  },
  {
   "cell_type": "code",
   "execution_count": 24,
   "metadata": {},
   "outputs": [
    {
     "data": {
      "text/plain": [
       "[0.51091605]"
      ]
     },
     "execution_count": 24,
     "metadata": {},
     "output_type": "execute_result"
    }
   ],
   "source": [
    "net.propagate_from(\"hidden\", [1.0, 0.0])"
   ]
  },
  {
   "cell_type": "code",
   "execution_count": 25,
   "metadata": {},
   "outputs": [
    {
     "name": "stdout",
     "output_type": "stream",
     "text": [
      "Testing on training dataset...\n",
      "# | inputs | targets | outputs | result\n",
      "0 | [0.0, 0.0] | [0.0] | [0.0] | correct\n",
      "1 | [0.0, 1.0] | [1.0] | [1.0] | correct\n",
      "2 | [1.0, 0.0] | [1.0] | [0.5] | X\n",
      "3 | [1.0, 1.0] | [0.0] | [0.5] | X\n",
      "Total count: 4\n",
      "Total percentage correct: 0.5\n"
     ]
    }
   ],
   "source": [
    "net.test()"
   ]
  },
  {
   "cell_type": "code",
   "execution_count": 26,
   "metadata": {},
   "outputs": [],
   "source": [
    "from conx import Network, Layer, SGD"
   ]
  },
  {
   "cell_type": "code",
   "execution_count": 27,
   "metadata": {
    "collapsed": true
   },
   "outputs": [],
   "source": [
    "net = Network(\"XOR2\")\n",
    "net.add(Layer(\"input1\", shape=1))\n",
    "net.add(Layer(\"input2\", shape=1))\n",
    "net.add(Layer(\"hidden1\", shape=10, activation=\"sigmoid\"))\n",
    "net.add(Layer(\"hidden2\", shape=10, activation=\"sigmoid\"))\n",
    "net.add(Layer(\"shared-hidden\", shape=5, activation=\"sigmoid\"))\n",
    "net.add(Layer(\"output1\", shape=1, activation=\"sigmoid\"))\n",
    "net.add(Layer(\"output2\", shape=1, activation=\"sigmoid\"))"
   ]
  },
  {
   "cell_type": "code",
   "execution_count": 28,
   "metadata": {},
   "outputs": [
    {
     "data": {
      "text/plain": [
       "<Network name='XOR2'>"
      ]
     },
     "execution_count": 28,
     "metadata": {},
     "output_type": "execute_result"
    }
   ],
   "source": [
    "net"
   ]
  },
  {
   "cell_type": "code",
   "execution_count": 29,
   "metadata": {
    "collapsed": true
   },
   "outputs": [],
   "source": [
    "net.connect(\"input1\", \"hidden1\")\n",
    "net.connect(\"input2\", \"hidden2\")\n",
    "net.connect(\"hidden1\", \"shared-hidden\")\n",
    "net.connect(\"hidden2\", \"shared-hidden\")\n",
    "net.connect(\"shared-hidden\", \"output1\")\n",
    "net.connect(\"shared-hidden\", \"output2\")"
   ]
  },
  {
   "cell_type": "code",
   "execution_count": 30,
   "metadata": {
    "collapsed": true
   },
   "outputs": [],
   "source": [
    "net.set_input_layer_order(\"input1\", \"input2\")\n",
    "net.set_output_layer_order(\"output1\", \"output2\")"
   ]
  },
  {
   "cell_type": "code",
   "execution_count": 31,
   "metadata": {
    "collapsed": true
   },
   "outputs": [],
   "source": [
    "net.compile(loss='mean_squared_error',\n",
    "            optimizer=SGD(lr=0.3, momentum=0.9))"
   ]
  },
  {
   "cell_type": "code",
   "execution_count": 32,
   "metadata": {
    "collapsed": true
   },
   "outputs": [],
   "source": [
    "dataset = [\n",
    "    ([[0],[0]], [[0],[0]]),\n",
    "    ([[0],[1]], [[1],[1]]),\n",
    "    ([[1],[0]], [[1],[1]]),\n",
    "    ([[1],[1]], [[0],[0]])\n",
    "]"
   ]
  },
  {
   "cell_type": "code",
   "execution_count": 33,
   "metadata": {},
   "outputs": [
    {
     "name": "stdout",
     "output_type": "stream",
     "text": [
      "Split dataset into:\n",
      "   4 train inputs\n",
      "   0 test inputs\n",
      "Input Summary:\n",
      "   length  : 4\n",
      "   training: 4\n",
      "   testing : 0\n",
      "   shape  : [(1,), (1,)]\n",
      "   range  : (0.0, 1.0)\n",
      "Target Summary:\n",
      "   length  : 4\n",
      "   training: 4\n",
      "   testing : 0\n",
      "   shape  : [(1,), (1,)]\n",
      "   range  : (0.0, 1.0)\n"
     ]
    }
   ],
   "source": [
    "net.set_dataset(dataset)"
   ]
  },
  {
   "cell_type": "code",
   "execution_count": 37,
   "metadata": {
    "collapsed": true
   },
   "outputs": [],
   "source": [
    "net.config[\"image_maxdim\"] = 50"
   ]
  },
  {
   "cell_type": "code",
   "execution_count": 38,
   "metadata": {},
   "outputs": [
    {
     "data": {
      "application/javascript": [
       "\n",
       "require(['base/js/namespace'], function(Jupyter) {\n",
       "    Jupyter.notebook.kernel.comm_manager.register_target('conx_svg_control', function(comm, msg) {\n",
       "        comm.on_msg(function(msg) {\n",
       "            var data = msg[\"content\"][\"data\"];\n",
       "            var images = document.getElementsByClassName(data[\"class\"]);\n",
       "            for (var i = 0; i < images.length; i++) {\n",
       "                images[i].setAttributeNS(null, \"href\", data[\"href\"]);\n",
       "            }\n",
       "        });\n",
       "    });\n",
       "});\n"
      ],
      "text/plain": [
       "<IPython.core.display.Javascript object>"
      ]
     },
     "metadata": {},
     "output_type": "display_data"
    },
    {
     "data": {
      "application/vnd.jupyter.widget-view+json": {
       "model_id": "306bf0a8d06147258a096fe797893bc2"
      }
     },
     "metadata": {},
     "output_type": "display_data"
    }
   ],
   "source": [
    "net.build_widget()"
   ]
  },
  {
   "cell_type": "code",
   "execution_count": 39,
   "metadata": {},
   "outputs": [
    {
     "data": {
      "text/plain": [
       "[[0.50633931], [0.6151036]]"
      ]
     },
     "execution_count": 39,
     "metadata": {},
     "output_type": "execute_result"
    }
   ],
   "source": [
    "net[\"shared-hidden\"].colormap = \"spring\"\n",
    "net.propagate_from(\"hidden1\", [0.0, 1.0] * 5)"
   ]
  },
  {
   "cell_type": "code",
   "execution_count": 40,
   "metadata": {},
   "outputs": [
    {
     "data": {
      "text/plain": [
       "[0.94672239, 0.95694375, 0.28714341, 0.19378476, 0.52984357]"
      ]
     },
     "execution_count": 40,
     "metadata": {},
     "output_type": "execute_result"
    }
   ],
   "source": [
    "net[\"shared-hidden\"].colormap = \"hot\"\n",
    "net.propagate_from(\"hidden1\", [1.0, 1.0] * 5, [\"shared-hidden\"])"
   ]
  },
  {
   "cell_type": "code",
   "execution_count": 41,
   "metadata": {},
   "outputs": [
    {
     "data": {
      "text/plain": [
       "[0.6395641565322876]"
      ]
     },
     "execution_count": 41,
     "metadata": {},
     "output_type": "execute_result"
    }
   ],
   "source": [
    "net.propagate_to(\"output1\", [[1], [0]])"
   ]
  },
  {
   "cell_type": "code",
   "execution_count": 42,
   "metadata": {
    "collapsed": true
   },
   "outputs": [],
   "source": [
    "for i in range(20):\n",
    "    (epoch_count, loss, acc, val_acc) = net.train(epochs=100, verbose=0)\n",
    "    for index in range(4):\n",
    "        net.propagate(dataset[index][0])"
   ]
  },
  {
   "cell_type": "code",
   "execution_count": 13,
   "metadata": {},
   "outputs": [
    {
     "name": "stdout",
     "output_type": "stream",
     "text": [
      "Training...\n",
      "Epoch #   25 | train loss 0.50041 | train acc 1.00000 | validate% 0.00000\n",
      "Epoch #   50 | train loss 0.50024 | train acc 1.00000 | validate% 0.00000\n",
      "Epoch #   75 | train loss 0.50011 | train acc 1.00000 | validate% 0.00000\n",
      "Epoch #  100 | train loss 0.50007 | train acc 1.00000 | validate% 0.00000\n",
      "Epoch #  125 | train loss 0.50004 | train acc 1.00000 | validate% 0.00000\n",
      "Epoch #  150 | train loss 0.50001 | train acc 1.00000 | validate% 0.00000\n",
      "Epoch #  175 | train loss 0.49998 | train acc 1.00000 | validate% 0.00000\n",
      "Epoch #  200 | train loss 0.49995 | train acc 1.00000 | validate% 0.00000\n",
      "Epoch #  225 | train loss 0.49992 | train acc 1.00000 | validate% 0.00000\n",
      "Epoch #  250 | train loss 0.49988 | train acc 1.00000 | validate% 0.00000\n",
      "Epoch #  275 | train loss 0.49983 | train acc 1.00000 | validate% 0.00000\n",
      "Epoch #  300 | train loss 0.49976 | train acc 1.00000 | validate% 0.00000\n",
      "Epoch #  325 | train loss 0.49967 | train acc 1.00000 | validate% 0.00000\n",
      "Epoch #  350 | train loss 0.49954 | train acc 1.00000 | validate% 0.00000\n",
      "Epoch #  375 | train loss 0.49935 | train acc 1.00000 | validate% 0.00000\n",
      "Epoch #  400 | train loss 0.49906 | train acc 1.00000 | validate% 0.00000\n",
      "Epoch #  425 | train loss 0.49862 | train acc 1.00000 | validate% 0.00000\n",
      "Epoch #  450 | train loss 0.49789 | train acc 1.25000 | validate% 0.00000\n",
      "Epoch #  475 | train loss 0.49658 | train acc 1.25000 | validate% 0.00000\n",
      "Epoch #  500 | train loss 0.49398 | train acc 1.25000 | validate% 0.00000\n",
      "Epoch #  525 | train loss 0.48785 | train acc 1.50000 | validate% 0.00000\n",
      "Epoch #  550 | train loss 0.46966 | train acc 1.50000 | validate% 0.00000\n",
      "Epoch #  575 | train loss 0.40254 | train acc 1.50000 | validate% 0.00000\n",
      "Epoch #  600 | train loss 0.21334 | train acc 2.00000 | validate% 0.00000\n",
      "Epoch #  625 | train loss 0.06534 | train acc 2.00000 | validate% 0.00000\n",
      "Epoch #  650 | train loss 0.03092 | train acc 2.00000 | validate% 0.00000\n",
      "Epoch #  675 | train loss 0.02023 | train acc 2.00000 | validate% 0.00000\n",
      "========================================================================\n",
      "Epoch #  686 | train loss 0.01760 | train acc 2.00000 | validate% 1.00000\n"
     ]
    }
   ],
   "source": [
    "net.train(epochs=2000, accuracy=1.0, report_rate=25)"
   ]
  },
  {
   "cell_type": "code",
   "execution_count": 14,
   "metadata": {},
   "outputs": [
    {
     "data": {
      "text/plain": [
       "[[0.5], [0.5]]"
      ]
     },
     "execution_count": 14,
     "metadata": {},
     "output_type": "execute_result"
    }
   ],
   "source": [
    "net.propagate_from(\"input1\", [0.0])"
   ]
  },
  {
   "cell_type": "code",
   "execution_count": 15,
   "metadata": {},
   "outputs": [
    {
     "data": {
      "text/plain": [
       "[[0.5], [0.5]]"
      ]
     },
     "execution_count": 15,
     "metadata": {},
     "output_type": "execute_result"
    }
   ],
   "source": [
    "net.propagate_from(\"shared-hidden\", [0.0] * 5)"
   ]
  },
  {
   "cell_type": "code",
   "execution_count": 16,
   "metadata": {},
   "outputs": [
    {
     "data": {
      "text/plain": [
       "[0.792599081993103,\n",
       " 0.782215416431427,\n",
       " 0.84234219789505,\n",
       " 0.1320749670267105,\n",
       " 0.1610153168439865,\n",
       " 0.1744602918624878,\n",
       " 0.4586453139781952,\n",
       " 0.1609877198934555,\n",
       " 0.3683990240097046,\n",
       " 0.15291506052017212]"
      ]
     },
     "execution_count": 16,
     "metadata": {},
     "output_type": "execute_result"
    }
   ],
   "source": [
    "net.propagate_to(\"hidden1\", [[1], [1]])"
   ]
  },
  {
   "cell_type": "code",
   "execution_count": 43,
   "metadata": {},
   "outputs": [
    {
     "name": "stdout",
     "output_type": "stream",
     "text": [
      "Testing on training dataset...\n",
      "# | inputs | targets | outputs | result\n",
      "0 | [[0.0], [0.0]] | [ 0.  0.] | [ 0.02250661  0.02171772] | correct\n",
      "1 | [[0.0], [1.0]] | [ 1.  1.] | [ 0.97696429  0.97674233] | correct\n",
      "2 | [[1.0], [0.0]] | [ 1.  1.] | [ 0.97722149  0.97841221] | correct\n",
      "3 | [[1.0], [1.0]] | [ 0.  0.] | [ 0.02640889  0.02666857] | correct\n",
      "Total count: 4\n",
      "Total percentage correct: 1.0\n"
     ]
    }
   ],
   "source": [
    "net.test()"
   ]
  },
  {
   "cell_type": "code",
   "execution_count": 18,
   "metadata": {},
   "outputs": [
    {
     "name": "stdout",
     "output_type": "stream",
     "text": [
      "Slicing dataset 0:2...\n",
      "Input Summary:\n",
      "   length  : 2\n",
      "   training: 2\n",
      "   testing : 0\n",
      "   shape  : [(1,), (1,)]\n",
      "   range  : (0.0, 1.0)\n",
      "Target Summary:\n",
      "   length  : 2\n",
      "   training: 2\n",
      "   testing : 0\n",
      "   shape  : [(1,), (1,)]\n",
      "   range  : (0.0, 1.0)\n"
     ]
    }
   ],
   "source": [
    "net.slice_dataset(2)"
   ]
  },
  {
   "cell_type": "code",
   "execution_count": 19,
   "metadata": {},
   "outputs": [
    {
     "name": "stdout",
     "output_type": "stream",
     "text": [
      "Training...\n",
      "========================================================================\n",
      "Epoch #  687 | train loss 0.01742 | train acc 2.00000 | validate% 1.00000\n"
     ]
    }
   ],
   "source": [
    "net.train(epochs=2000, accuracy=1.0, report_rate=25)"
   ]
  },
  {
   "cell_type": "markdown",
   "metadata": {},
   "source": [
    "# Conx model is a Keras Model"
   ]
  },
  {
   "cell_type": "code",
   "execution_count": 44,
   "metadata": {
    "collapsed": true
   },
   "outputs": [],
   "source": [
    "from keras.utils.vis_utils import model_to_dot\n",
    "from IPython.display import HTML"
   ]
  },
  {
   "cell_type": "code",
   "execution_count": 45,
   "metadata": {
    "collapsed": true
   },
   "outputs": [],
   "source": [
    "dot = model_to_dot(net.model, rankdir=\"BT\")"
   ]
  },
  {
   "cell_type": "code",
   "execution_count": 46,
   "metadata": {},
   "outputs": [
    {
     "data": {
      "text/html": [
       "<?xml version=\"1.0\" encoding=\"UTF-8\" standalone=\"no\"?>\n",
       "<!DOCTYPE svg PUBLIC \"-//W3C//DTD SVG 1.1//EN\"\n",
       " \"http://www.w3.org/Graphics/SVG/1.1/DTD/svg11.dtd\">\n",
       "<!-- Generated by graphviz version 2.38.0 (20140413.2041)\n",
       " -->\n",
       "<!-- Title: G Pages: 1 -->\n",
       "<svg width=\"264pt\" height=\"337pt\"\n",
       " viewBox=\"0.00 0.00 264.00 337.00\" xmlns=\"http://www.w3.org/2000/svg\" xmlns:xlink=\"http://www.w3.org/1999/xlink\">\n",
       "<g id=\"graph0\" class=\"graph\" transform=\"scale(1 1) rotate(0) translate(4 333)\">\n",
       "<title>G</title>\n",
       "<polygon fill=\"white\" stroke=\"none\" points=\"-4,4 -4,-333 260,-333 260,4 -4,4\"/>\n",
       "<!-- 139953683449056 -->\n",
       "<g id=\"node1\" class=\"node\"><title>139953683449056</title>\n",
       "<polygon fill=\"none\" stroke=\"black\" points=\"0,-0.5 0,-36.5 119,-36.5 119,-0.5 0,-0.5\"/>\n",
       "<text text-anchor=\"middle\" x=\"59.5\" y=\"-14.8\" font-family=\"Times,serif\" font-size=\"14.00\">input1: InputLayer</text>\n",
       "</g>\n",
       "<!-- 139953680623992 -->\n",
       "<g id=\"node3\" class=\"node\"><title>139953680623992</title>\n",
       "<polygon fill=\"none\" stroke=\"black\" points=\"13,-73.5 13,-109.5 114,-109.5 114,-73.5 13,-73.5\"/>\n",
       "<text text-anchor=\"middle\" x=\"63.5\" y=\"-87.8\" font-family=\"Times,serif\" font-size=\"14.00\">hidden1: Dense</text>\n",
       "</g>\n",
       "<!-- 139953683449056&#45;&gt;139953680623992 -->\n",
       "<g id=\"edge1\" class=\"edge\"><title>139953683449056&#45;&gt;139953680623992</title>\n",
       "<path fill=\"none\" stroke=\"black\" d=\"M60.4683,-36.6871C60.9203,-44.7105 61.4692,-54.4525 61.975,-63.4309\"/>\n",
       "<polygon fill=\"black\" stroke=\"black\" points=\"58.4836,-63.6839 62.5406,-73.4712 65.4725,-63.2901 58.4836,-63.6839\"/>\n",
       "</g>\n",
       "<!-- 139953683448104 -->\n",
       "<g id=\"node2\" class=\"node\"><title>139953683448104</title>\n",
       "<polygon fill=\"none\" stroke=\"black\" points=\"137,-0.5 137,-36.5 256,-36.5 256,-0.5 137,-0.5\"/>\n",
       "<text text-anchor=\"middle\" x=\"196.5\" y=\"-14.8\" font-family=\"Times,serif\" font-size=\"14.00\">input2: InputLayer</text>\n",
       "</g>\n",
       "<!-- 139953683448608 -->\n",
       "<g id=\"node4\" class=\"node\"><title>139953683448608</title>\n",
       "<polygon fill=\"none\" stroke=\"black\" points=\"141,-73.5 141,-109.5 242,-109.5 242,-73.5 141,-73.5\"/>\n",
       "<text text-anchor=\"middle\" x=\"191.5\" y=\"-87.8\" font-family=\"Times,serif\" font-size=\"14.00\">hidden2: Dense</text>\n",
       "</g>\n",
       "<!-- 139953683448104&#45;&gt;139953683448608 -->\n",
       "<g id=\"edge2\" class=\"edge\"><title>139953683448104&#45;&gt;139953683448608</title>\n",
       "<path fill=\"none\" stroke=\"black\" d=\"M195.29,-36.6871C194.725,-44.7105 194.039,-54.4525 193.406,-63.4309\"/>\n",
       "<polygon fill=\"black\" stroke=\"black\" points=\"189.91,-63.25 192.699,-73.4712 196.893,-63.7418 189.91,-63.25\"/>\n",
       "</g>\n",
       "<!-- 139953680824696 -->\n",
       "<g id=\"node5\" class=\"node\"><title>139953680824696</title>\n",
       "<polygon fill=\"none\" stroke=\"black\" points=\"43.5,-146.5 43.5,-182.5 211.5,-182.5 211.5,-146.5 43.5,-146.5\"/>\n",
       "<text text-anchor=\"middle\" x=\"127.5\" y=\"-160.8\" font-family=\"Times,serif\" font-size=\"14.00\">concatenate_5: Concatenate</text>\n",
       "</g>\n",
       "<!-- 139953680623992&#45;&gt;139953680824696 -->\n",
       "<g id=\"edge3\" class=\"edge\"><title>139953680623992&#45;&gt;139953680824696</title>\n",
       "<path fill=\"none\" stroke=\"black\" d=\"M78.9926,-109.687C86.9325,-118.495 96.7394,-129.375 105.453,-139.042\"/>\n",
       "<polygon fill=\"black\" stroke=\"black\" points=\"102.855,-141.387 112.15,-146.471 108.054,-136.7 102.855,-141.387\"/>\n",
       "</g>\n",
       "<!-- 139953683448608&#45;&gt;139953680824696 -->\n",
       "<g id=\"edge4\" class=\"edge\"><title>139953683448608&#45;&gt;139953680824696</title>\n",
       "<path fill=\"none\" stroke=\"black\" d=\"M176.007,-109.687C168.068,-118.495 158.261,-129.375 149.547,-139.042\"/>\n",
       "<polygon fill=\"black\" stroke=\"black\" points=\"146.946,-136.7 142.85,-146.471 152.145,-141.387 146.946,-136.7\"/>\n",
       "</g>\n",
       "<!-- 139953680624440 -->\n",
       "<g id=\"node6\" class=\"node\"><title>139953680624440</title>\n",
       "<polygon fill=\"none\" stroke=\"black\" points=\"60.5,-219.5 60.5,-255.5 194.5,-255.5 194.5,-219.5 60.5,-219.5\"/>\n",
       "<text text-anchor=\"middle\" x=\"127.5\" y=\"-233.8\" font-family=\"Times,serif\" font-size=\"14.00\">shared&#45;hidden: Dense</text>\n",
       "</g>\n",
       "<!-- 139953680824696&#45;&gt;139953680624440 -->\n",
       "<g id=\"edge5\" class=\"edge\"><title>139953680824696&#45;&gt;139953680624440</title>\n",
       "<path fill=\"none\" stroke=\"black\" d=\"M127.5,-182.687C127.5,-190.711 127.5,-200.453 127.5,-209.431\"/>\n",
       "<polygon fill=\"black\" stroke=\"black\" points=\"124,-209.471 127.5,-219.471 131,-209.471 124,-209.471\"/>\n",
       "</g>\n",
       "<!-- 139953680525744 -->\n",
       "<g id=\"node7\" class=\"node\"><title>139953680525744</title>\n",
       "<polygon fill=\"none\" stroke=\"black\" points=\"20,-292.5 20,-328.5 119,-328.5 119,-292.5 20,-292.5\"/>\n",
       "<text text-anchor=\"middle\" x=\"69.5\" y=\"-306.8\" font-family=\"Times,serif\" font-size=\"14.00\">output1: Dense</text>\n",
       "</g>\n",
       "<!-- 139953680624440&#45;&gt;139953680525744 -->\n",
       "<g id=\"edge6\" class=\"edge\"><title>139953680624440&#45;&gt;139953680525744</title>\n",
       "<path fill=\"none\" stroke=\"black\" d=\"M113.46,-255.687C106.407,-264.321 97.7281,-274.945 89.9504,-284.466\"/>\n",
       "<polygon fill=\"black\" stroke=\"black\" points=\"87.0268,-282.512 83.4109,-292.471 92.4479,-286.941 87.0268,-282.512\"/>\n",
       "</g>\n",
       "<!-- 139953680824192 -->\n",
       "<g id=\"node8\" class=\"node\"><title>139953680824192</title>\n",
       "<polygon fill=\"none\" stroke=\"black\" points=\"137,-292.5 137,-328.5 236,-328.5 236,-292.5 137,-292.5\"/>\n",
       "<text text-anchor=\"middle\" x=\"186.5\" y=\"-306.8\" font-family=\"Times,serif\" font-size=\"14.00\">output2: Dense</text>\n",
       "</g>\n",
       "<!-- 139953680624440&#45;&gt;139953680824192 -->\n",
       "<g id=\"edge7\" class=\"edge\"><title>139953680624440&#45;&gt;139953680824192</title>\n",
       "<path fill=\"none\" stroke=\"black\" d=\"M141.782,-255.687C149.029,-264.408 157.964,-275.16 165.936,-284.754\"/>\n",
       "<polygon fill=\"black\" stroke=\"black\" points=\"163.266,-287.017 172.349,-292.471 168.65,-282.543 163.266,-287.017\"/>\n",
       "</g>\n",
       "</g>\n",
       "</svg>\n"
      ],
      "text/plain": [
       "<IPython.core.display.HTML object>"
      ]
     },
     "execution_count": 46,
     "metadata": {},
     "output_type": "execute_result"
    }
   ],
   "source": [
    "HTML(dot.create_svg().decode())"
   ]
  },
  {
   "cell_type": "code",
   "execution_count": null,
   "metadata": {
    "collapsed": true
   },
   "outputs": [],
   "source": []
  }
 ],
 "metadata": {
  "kernelspec": {
   "display_name": "Python 3",
   "language": "python",
   "name": "python3"
  },
  "language_info": {
   "codemirror_mode": {
    "name": "ipython",
    "version": 3
   },
   "file_extension": ".py",
   "mimetype": "text/x-python",
   "name": "python",
   "nbconvert_exporter": "python",
   "pygments_lexer": "ipython3",
   "version": "3.5.3"
  },
  "widgets": {
   "application/vnd.jupyter.widget-state+json": {
    "state": {
     "04e4af394a234940b8e49aed10291d58": {
      "model_module": "jupyter-js-widgets",
      "model_module_version": "~2.1.4",
      "model_name": "LayoutModel",
      "state": {
       "_model_module_version": "~2.1.4",
       "_view_module_version": "~2.1.4",
       "width": "100%"
      }
     },
     "06c599e2183346dc8c3d86541ce5a272": {
      "model_module": "jupyter-js-widgets",
      "model_module_version": "~2.1.4",
      "model_name": "LayoutModel",
      "state": {
       "_model_module_version": "~2.1.4",
       "_view_module_version": "~2.1.4",
       "width": "100%"
      }
     },
     "0c12d69d4b444d35b50089d93d6df189": {
      "model_module": "jupyter-js-widgets",
      "model_module_version": "~2.1.4",
      "model_name": "ButtonStyleModel",
      "state": {
       "_model_module_version": "~2.1.4",
       "_view_module_version": "~2.1.4"
      }
     },
     "0d88e4ef6b9d40c88969ac9b2ef1b724": {
      "model_module": "jupyter-js-widgets",
      "model_module_version": "~2.1.4",
      "model_name": "LayoutModel",
      "state": {
       "_model_module_version": "~2.1.4",
       "_view_module_version": "~2.1.4",
       "width": "100%"
      }
     },
     "0fa498a268b9407ebdeaca4f900c63cd": {
      "model_module": "jupyter-js-widgets",
      "model_module_version": "~2.1.4",
      "model_name": "LayoutModel",
      "state": {
       "_model_module_version": "~2.1.4",
       "_view_module_version": "~2.1.4",
       "width": "100%"
      }
     },
     "0fa959eebc874979b5c6b7835f6512be": {
      "model_module": "jupyter-js-widgets",
      "model_module_version": "~2.1.4",
      "model_name": "LayoutModel",
      "state": {
       "_model_module_version": "~2.1.4",
       "_view_module_version": "~2.1.4",
       "width": "100%"
      }
     },
     "1236e93a5fa749afae53313d0f447db0": {
      "model_module": "jupyter-js-widgets",
      "model_module_version": "~2.1.4",
      "model_name": "SelectModel",
      "state": {
       "_model_module_version": "~2.1.4",
       "_options_labels": [
        "Test",
        "Train"
       ],
       "_view_module_version": "~2.1.4",
       "description": "Dataset:",
       "layout": "IPY_MODEL_178d817bf77c4cae8cb97f5b1de68809",
       "value": "Train"
      }
     },
     "13296bd3a7234abc885e257cf8afb98b": {
      "model_module": "jupyter-js-widgets",
      "model_module_version": "~2.1.4",
      "model_name": "LayoutModel",
      "state": {
       "_model_module_version": "~2.1.4",
       "_view_module_version": "~2.1.4",
       "width": "100%"
      }
     },
     "13b958d6683c4830a4c9afe12a28074c": {
      "model_module": "jupyter-js-widgets",
      "model_module_version": "~2.1.4",
      "model_name": "LayoutModel",
      "state": {
       "_model_module_version": "~2.1.4",
       "_view_module_version": "~2.1.4",
       "width": "100%"
      }
     },
     "13de289240d3449dbf686b4a9cbea75c": {
      "model_module": "jupyter-js-widgets",
      "model_module_version": "~2.1.4",
      "model_name": "LayoutModel",
      "state": {
       "_model_module_version": "~2.1.4",
       "_view_module_version": "~2.1.4",
       "height": "550px",
       "overflow_x": "auto",
       "width": "100%"
      }
     },
     "14ce5bed54704f4da1bd30df68d9021d": {
      "model_module": "jupyter-js-widgets",
      "model_module_version": "~2.1.4",
      "model_name": "HBoxModel",
      "state": {
       "_model_module_version": "~2.1.4",
       "_view_module_version": "~2.1.4",
       "children": [
        "IPY_MODEL_e265e104fc674feaabcc89d6856f802c",
        "IPY_MODEL_bfac250c829d405199ca901fd339bd0d",
        "IPY_MODEL_d02ab7b015c74b72bca92aff1a3361e6",
        "IPY_MODEL_563398dada7946bdb79cdf97efd0818f",
        "IPY_MODEL_44c3fa2e68514a389b6e3bfcd3f19ec4"
       ],
       "layout": "IPY_MODEL_c78e4d6537f94727a1decf9395029546"
      }
     },
     "1571873a569f450f88a272dce4a7869a": {
      "model_module": "jupyter-js-widgets",
      "model_module_version": "~2.1.4",
      "model_name": "ButtonStyleModel",
      "state": {
       "_model_module_version": "~2.1.4",
       "_view_module_version": "~2.1.4"
      }
     },
     "178d817bf77c4cae8cb97f5b1de68809": {
      "model_module": "jupyter-js-widgets",
      "model_module_version": "~2.1.4",
      "model_name": "LayoutModel",
      "state": {
       "_model_module_version": "~2.1.4",
       "_view_module_version": "~2.1.4"
      }
     },
     "188274014d624302b3a0eebbe2f25546": {
      "model_module": "jupyter-js-widgets",
      "model_module_version": "~2.1.4",
      "model_name": "ButtonStyleModel",
      "state": {
       "_model_module_version": "~2.1.4",
       "_view_module_version": "~2.1.4"
      }
     },
     "19a633e4e24646949a1f11b68b93c051": {
      "model_module": "jupyter-js-widgets",
      "model_module_version": "~2.1.4",
      "model_name": "LayoutModel",
      "state": {
       "_model_module_version": "~2.1.4",
       "_view_module_version": "~2.1.4",
       "width": "100%"
      }
     },
     "1d834e223eca4cc8b514240e91cc5632": {
      "model_module": "jupyter-js-widgets",
      "model_module_version": "~2.1.4",
      "model_name": "LayoutModel",
      "state": {
       "_model_module_version": "~2.1.4",
       "_view_module_version": "~2.1.4",
       "height": "550px",
       "overflow_x": "auto",
       "width": "100%"
      }
     },
     "1ded46a864794ac3a30a7815946f4986": {
      "model_module": "jupyter-js-widgets",
      "model_module_version": "~2.1.4",
      "model_name": "ButtonStyleModel",
      "state": {
       "_model_module_version": "~2.1.4",
       "_view_module_version": "~2.1.4"
      }
     },
     "1edb0c103d4e46398df73073fc69ae26": {
      "model_module": "jupyter-js-widgets",
      "model_module_version": "~2.1.4",
      "model_name": "HBoxModel",
      "state": {
       "_model_module_version": "~2.1.4",
       "_view_module_version": "~2.1.4",
       "children": [
        "IPY_MODEL_3934605c2e754db9839bdb8820445a76",
        "IPY_MODEL_4085151871144a94b4b60ca31e71bdbf",
        "IPY_MODEL_8c9af5758aa64560b87cbd71aa77ec7a",
        "IPY_MODEL_c7bbaf8bcd3d429e9bebe6d5c82044fe",
        "IPY_MODEL_94701a53d2774363bb651b75834f33cc"
       ],
       "layout": "IPY_MODEL_19a633e4e24646949a1f11b68b93c051"
      }
     },
     "1f6595a84a0b428bab61f636bd11878f": {
      "model_module": "jupyter-js-widgets",
      "model_module_version": "~2.1.4",
      "model_name": "VBoxModel",
      "state": {
       "_model_module_version": "~2.1.4",
       "_view_module_version": "~2.1.4",
       "children": [
        "IPY_MODEL_1236e93a5fa749afae53313d0f447db0",
        "IPY_MODEL_b2d2a124c4d544b687946d6f635ebc1e",
        "IPY_MODEL_14ce5bed54704f4da1bd30df68d9021d"
       ],
       "layout": "IPY_MODEL_7ef76f2aa40c476d9ae5fc5a3c9b2eab"
      }
     },
     "240fb70261e84315bdb7170e7715f72a": {
      "model_module": "jupyter-js-widgets",
      "model_module_version": "~2.1.4",
      "model_name": "HTMLModel",
      "state": {
       "_model_module_version": "~2.1.4",
       "_view_module_version": "~2.1.4",
       "layout": "IPY_MODEL_ce57a318d2c24253b2c5571128ce992f",
       "value": "\n        <svg id='XOR' xmlns='http://www.w3.org/2000/svg' width=\"350\" height=\"575\" image-rendering=\"pixelated\">\n    <defs>\n        <marker id=\"arrow\" markerWidth=\"10\" markerHeight=\"10\" refX=\"9\" refY=\"3\" orient=\"auto\" markerUnits=\"strokeWidth\">\n          <path d=\"M0,0 L0,6 L9,3 z\" fill=\"blue\" />\n        </marker>\n    </defs>\n<rect x=\"74.0\" y=\"24\" width=\"202\" height=\"102\" style=\"fill:none;stroke:blue;stroke-width:2\"/><image id=\"XOR_output_targets_7\" class=\"XOR_output_targets\" x=\"75.0\" y=\"25\" height=\"100\" width=\"200\" href=\"data:image/gif;base64,R0lGODdhAgABAIAAAEBAQFFRUSwAAAAAAgABAAAIBQABBAgIADs=\"><title>Layer: output (output)\n shape = (2,)\n Keras class = Dense\n activation = sigmoid</title></image><text x=\"280.0\" y=\"77.0\" font-family=\"monospace\" font-size=\"12\">targets</text><rect x=\"74.0\" y=\"134\" width=\"202\" height=\"102\" style=\"fill:none;stroke:blue;stroke-width:2\"/><image id=\"XOR_output_errors_7\" class=\"XOR_output_errors\" x=\"75.0\" y=\"135\" height=\"100\" width=\"200\" href=\"data:image/gif;base64,R0lGODdhAgABAIAAAEBAQFFRUSwAAAAAAgABAAAIBQABBAgIADs=\"><title>Layer: output (output)\n shape = (2,)\n Keras class = Dense\n activation = sigmoid</title></image><text x=\"280.0\" y=\"187.0\" font-family=\"monospace\" font-size=\"12\">errors</text><rect x=\"74.0\" y=\"249\" width=\"202\" height=\"102\" style=\"fill:none;stroke:blue;stroke-width:2\"/><image id=\"XOR_output_7\" class=\"XOR_output\" x=\"75.0\" y=\"250\" height=\"100\" width=\"200\" href=\"data:image/gif;base64,R0lGODdhAgABAIAAAEBAQFFRUSwAAAAAAgABAAAIBQABBAgIADs=\"><title>Layer: output (output)\n shape = (2,)\n Keras class = Dense\n activation = sigmoid</title></image><text x=\"280.0\" y=\"302.0\" font-family=\"monospace\" font-size=\"12\">output</text><rect x=\"165.0\" y=\"352\" width=\"20.0\" height=\"27\" style=\"fill:white;stroke:none\"><title>Weights from hidden to output\n output/kernel has shape (10, 2)\n output/bias has shape (2,)</title></rect><rect x=\"165.0\" y=\"352\" width=\"20.0\" height=\"27\" style=\"fill:white;stroke:none\"><title>Weights from hidden to output\n output/kernel has shape (10, 2)\n output/bias has shape (2,)</title></rect><line x1=\"175.0\" y1=\"379\" x2=\"175.0\" y2=\"352\" stroke=\"blue\" stroke-width=\"2\" marker-end=\"url(#arrow)\"><title>Weights from hidden to output\n output/kernel has shape (10, 2)\n output/bias has shape (2,)</title></line><line x1=\"175.0\" y1=\"379\" x2=\"175.0\" y2=\"352\" stroke=\"blue\" stroke-width=\"2\" marker-end=\"url(#arrow)\"><title>Weights from hidden to output\n output/kernel has shape (10, 2)\n output/bias has shape (2,)</title></line><rect x=\"74.0\" y=\"379\" width=\"202\" height=\"42\" style=\"fill:none;stroke:blue;stroke-width:2\"/><image id=\"XOR_hidden_8\" class=\"XOR_hidden\" x=\"75.0\" y=\"380\" height=\"40\" width=\"200\" href=\"data:image/gif;base64,R0lGODdhBQABAIAAAH9/fwAAACwAAAAABQABAAAIBgABCBQYEAA7\"><title>Layer: hidden (hidden)\n shape = (5,)\n Keras class = Dense\n activation = sigmoid</title></image><text x=\"280.0\" y=\"402.0\" font-family=\"monospace\" font-size=\"12\">hidden</text><rect x=\"165.0\" y=\"422\" width=\"20.0\" height=\"27\" style=\"fill:white;stroke:none\"><title>Weights from input to hidden\n hidden/kernel has shape (4, 5)\n hidden/bias has shape (5,)</title></rect><rect x=\"165.0\" y=\"422\" width=\"20.0\" height=\"27\" style=\"fill:white;stroke:none\"><title>Weights from input to hidden\n hidden/kernel has shape (4, 5)\n hidden/bias has shape (5,)</title></rect><line x1=\"175.0\" y1=\"449\" x2=\"175.0\" y2=\"422\" stroke=\"blue\" stroke-width=\"2\" marker-end=\"url(#arrow)\"><title>Weights from input to hidden\n hidden/kernel has shape (4, 5)\n hidden/bias has shape (5,)</title></line><line x1=\"175.0\" y1=\"449\" x2=\"175.0\" y2=\"422\" stroke=\"blue\" stroke-width=\"2\" marker-end=\"url(#arrow)\"><title>Weights from input to hidden\n hidden/kernel has shape (4, 5)\n hidden/bias has shape (5,)</title></line><rect x=\"74.0\" y=\"449\" width=\"202\" height=\"102\" style=\"fill:none;stroke:blue;stroke-width:2\"/><image id=\"XOR_input_9\" class=\"XOR_input\" x=\"75.0\" y=\"450\" height=\"100\" width=\"200\" href=\"data:image/gif;base64,R0lGODdhAgABAIAAAH9/fwAAACwAAAAAAgABAAAIBQABAAgIADs=\"><title>Layer: input (input)\n shape = (2,)\n Keras class = Input</title></image><text x=\"280.0\" y=\"502.0\" font-family=\"monospace\" font-size=\"12\">input</text></svg>"
      }
     },
     "2a9fcbec112546e99b0f4bfaedc5fa94": {
      "model_module": "jupyter-js-widgets",
      "model_module_version": "~2.1.4",
      "model_name": "HTMLModel",
      "state": {
       "_model_module_version": "~2.1.4",
       "_view_module_version": "~2.1.4",
       "layout": "IPY_MODEL_13de289240d3449dbf686b4a9cbea75c",
       "value": "\n        <svg id='XOR' xmlns='http://www.w3.org/2000/svg' width=\"350\" height=\"575\" image-rendering=\"pixelated\">\n    <defs>\n        <marker id=\"arrow\" markerWidth=\"10\" markerHeight=\"10\" refX=\"9\" refY=\"3\" orient=\"auto\" markerUnits=\"strokeWidth\">\n          <path d=\"M0,0 L0,6 L9,3 z\" fill=\"blue\" />\n        </marker>\n    </defs>\n<rect x=\"74.0\" y=\"24\" width=\"202\" height=\"102\" style=\"fill:none;stroke:blue;stroke-width:2\"/><image id=\"XOR_output_targets_10\" class=\"XOR_output_targets\" x=\"75.0\" y=\"25\" height=\"100\" width=\"200\" href=\"data:image/gif;base64,R0lGODdhAgABAIAAAEBAQFFRUSwAAAAAAgABAAAIBQABBAgIADs=\"><title>Layer: output (output)\n shape = (2,)\n Keras class = Dense\n activation = sigmoid</title></image><text x=\"280.0\" y=\"77.0\" font-family=\"monospace\" font-size=\"12\">targets</text><rect x=\"74.0\" y=\"134\" width=\"202\" height=\"102\" style=\"fill:none;stroke:blue;stroke-width:2\"/><image id=\"XOR_output_errors_10\" class=\"XOR_output_errors\" x=\"75.0\" y=\"135\" height=\"100\" width=\"200\" href=\"data:image/gif;base64,R0lGODdhAgABAIAAAEBAQFFRUSwAAAAAAgABAAAIBQABBAgIADs=\"><title>Layer: output (output)\n shape = (2,)\n Keras class = Dense\n activation = sigmoid</title></image><text x=\"280.0\" y=\"187.0\" font-family=\"monospace\" font-size=\"12\">errors</text><rect x=\"74.0\" y=\"249\" width=\"202\" height=\"102\" style=\"fill:none;stroke:blue;stroke-width:2\"/><image id=\"XOR_output_10\" class=\"XOR_output\" x=\"75.0\" y=\"250\" height=\"100\" width=\"200\" href=\"data:image/gif;base64,R0lGODdhAgABAIAAAEBAQFFRUSwAAAAAAgABAAAIBQABBAgIADs=\"><title>Layer: output (output)\n shape = (2,)\n Keras class = Dense\n activation = sigmoid</title></image><text x=\"280.0\" y=\"302.0\" font-family=\"monospace\" font-size=\"12\">output</text><rect x=\"165.0\" y=\"352\" width=\"20.0\" height=\"27\" style=\"fill:white;stroke:none\"><title>Weights from hidden to output\n output/kernel has shape (10, 2)\n output/bias has shape (2,)</title></rect><rect x=\"165.0\" y=\"352\" width=\"20.0\" height=\"27\" style=\"fill:white;stroke:none\"><title>Weights from hidden to output\n output/kernel has shape (10, 2)\n output/bias has shape (2,)</title></rect><line x1=\"175.0\" y1=\"379\" x2=\"175.0\" y2=\"352\" stroke=\"blue\" stroke-width=\"2\" marker-end=\"url(#arrow)\"><title>Weights from hidden to output\n output/kernel has shape (10, 2)\n output/bias has shape (2,)</title></line><line x1=\"175.0\" y1=\"379\" x2=\"175.0\" y2=\"352\" stroke=\"blue\" stroke-width=\"2\" marker-end=\"url(#arrow)\"><title>Weights from hidden to output\n output/kernel has shape (10, 2)\n output/bias has shape (2,)</title></line><rect x=\"74.0\" y=\"379\" width=\"202\" height=\"42\" style=\"fill:none;stroke:blue;stroke-width:2\"/><image id=\"XOR_hidden_11\" class=\"XOR_hidden\" x=\"75.0\" y=\"380\" height=\"40\" width=\"200\" href=\"data:image/gif;base64,R0lGODdhBQABAIAAAH9/fwAAACwAAAAABQABAAAIBgABCBQYEAA7\"><title>Layer: hidden (hidden)\n shape = (5,)\n Keras class = Dense\n activation = sigmoid</title></image><text x=\"280.0\" y=\"402.0\" font-family=\"monospace\" font-size=\"12\">hidden</text><rect x=\"165.0\" y=\"422\" width=\"20.0\" height=\"27\" style=\"fill:white;stroke:none\"><title>Weights from input to hidden\n hidden/kernel has shape (4, 5)\n hidden/bias has shape (5,)</title></rect><rect x=\"165.0\" y=\"422\" width=\"20.0\" height=\"27\" style=\"fill:white;stroke:none\"><title>Weights from input to hidden\n hidden/kernel has shape (4, 5)\n hidden/bias has shape (5,)</title></rect><line x1=\"175.0\" y1=\"449\" x2=\"175.0\" y2=\"422\" stroke=\"blue\" stroke-width=\"2\" marker-end=\"url(#arrow)\"><title>Weights from input to hidden\n hidden/kernel has shape (4, 5)\n hidden/bias has shape (5,)</title></line><line x1=\"175.0\" y1=\"449\" x2=\"175.0\" y2=\"422\" stroke=\"blue\" stroke-width=\"2\" marker-end=\"url(#arrow)\"><title>Weights from input to hidden\n hidden/kernel has shape (4, 5)\n hidden/bias has shape (5,)</title></line><rect x=\"74.0\" y=\"449\" width=\"202\" height=\"102\" style=\"fill:none;stroke:blue;stroke-width:2\"/><image id=\"XOR_input_12\" class=\"XOR_input\" x=\"75.0\" y=\"450\" height=\"100\" width=\"200\" href=\"data:image/gif;base64,R0lGODdhAgABAIAAAH9/fwAAACwAAAAAAgABAAAIBQABAAgIADs=\"><title>Layer: input (input)\n shape = (2,)\n Keras class = Input</title></image><text x=\"280.0\" y=\"502.0\" font-family=\"monospace\" font-size=\"12\">input</text></svg>"
      }
     },
     "2ccb8a7d2fe346d794361f95b0ae898a": {
      "model_module": "jupyter-js-widgets",
      "model_module_version": "~2.1.4",
      "model_name": "LayoutModel",
      "state": {
       "_model_module_version": "~2.1.4",
       "_view_module_version": "~2.1.4",
       "width": "100%"
      }
     },
     "327c1fb9f7b744c6827a0f9842195850": {
      "model_module": "jupyter-js-widgets",
      "model_module_version": "~2.1.4",
      "model_name": "SliderStyleModel",
      "state": {
       "_model_module_version": "~2.1.4",
       "_view_module_version": "~2.1.4"
      }
     },
     "32ac92195fa348c9993059229bc83145": {
      "model_module": "jupyter-js-widgets",
      "model_module_version": "~2.1.4",
      "model_name": "ButtonModel",
      "state": {
       "_model_module_version": "~2.1.4",
       "_view_module_version": "~2.1.4",
       "icon": "backward",
       "layout": "IPY_MODEL_0fa498a268b9407ebdeaca4f900c63cd",
       "style": "IPY_MODEL_f8596abfdc3a48219c6756ffccb143dd"
      }
     },
     "32b47b41214d450eb5cbadbc7a2aa635": {
      "model_module": "jupyter-js-widgets",
      "model_module_version": "~2.1.4",
      "model_name": "LayoutModel",
      "state": {
       "_model_module_version": "~2.1.4",
       "_view_module_version": "~2.1.4"
      }
     },
     "33210f3c119e4d3ab2fde19a267a62a0": {
      "model_module": "jupyter-js-widgets",
      "model_module_version": "~2.1.4",
      "model_name": "VBoxModel",
      "state": {
       "_model_module_version": "~2.1.4",
       "_view_module_version": "~2.1.4",
       "children": [
        "IPY_MODEL_8ab59f80470049929e9cf7da3841c07f",
        "IPY_MODEL_50916feae08741e6a83bd8790a704be2"
       ],
       "layout": "IPY_MODEL_fae54bccd5764b4b932a53e47feba055"
      }
     },
     "34d323475a694682b863e9a5592681b2": {
      "model_module": "jupyter-js-widgets",
      "model_module_version": "~2.1.4",
      "model_name": "LayoutModel",
      "state": {
       "_model_module_version": "~2.1.4",
       "_view_module_version": "~2.1.4",
       "width": "100%"
      }
     },
     "3887497538404fe195c3eb1d4c6b9692": {
      "model_module": "jupyter-js-widgets",
      "model_module_version": "~2.1.4",
      "model_name": "LayoutModel",
      "state": {
       "_model_module_version": "~2.1.4",
       "_view_module_version": "~2.1.4",
       "width": "100%"
      }
     },
     "3934605c2e754db9839bdb8820445a76": {
      "model_module": "jupyter-js-widgets",
      "model_module_version": "~2.1.4",
      "model_name": "ButtonModel",
      "state": {
       "_model_module_version": "~2.1.4",
       "_view_module_version": "~2.1.4",
       "icon": "fast-backward",
       "layout": "IPY_MODEL_a42f9ad72e6b4daf8e18ad26eca69e6a",
       "style": "IPY_MODEL_913dbb12baf54f388c89eddd63df1a37"
      }
     },
     "396f6153894a4436bc9c7165c0f4a1fb": {
      "model_module": "jupyter-js-widgets",
      "model_module_version": "~2.1.4",
      "model_name": "LayoutModel",
      "state": {
       "_model_module_version": "~2.1.4",
       "_view_module_version": "~2.1.4"
      }
     },
     "3ac7622e7af44a2690786771aefc4b04": {
      "model_module": "jupyter-js-widgets",
      "model_module_version": "~2.1.4",
      "model_name": "ButtonModel",
      "state": {
       "_model_module_version": "~2.1.4",
       "_view_module_version": "~2.1.4",
       "icon": "fast-forward",
       "layout": "IPY_MODEL_34d323475a694682b863e9a5592681b2",
       "style": "IPY_MODEL_5bebf29ce208467b8cce35d56b5d4018"
      }
     },
     "3decd58cf1bc43a58db6c8b39be536fb": {
      "model_module": "jupyter-js-widgets",
      "model_module_version": "~2.1.4",
      "model_name": "LayoutModel",
      "state": {
       "_model_module_version": "~2.1.4",
       "_view_module_version": "~2.1.4",
       "width": "100%"
      }
     },
     "3ff6cf30f27148128661c9b833856ca7": {
      "model_module": "jupyter-js-widgets",
      "model_module_version": "~2.1.4",
      "model_name": "ButtonStyleModel",
      "state": {
       "_model_module_version": "~2.1.4",
       "_view_module_version": "~2.1.4"
      }
     },
     "4085151871144a94b4b60ca31e71bdbf": {
      "model_module": "jupyter-js-widgets",
      "model_module_version": "~2.1.4",
      "model_name": "ButtonModel",
      "state": {
       "_model_module_version": "~2.1.4",
       "_view_module_version": "~2.1.4",
       "icon": "backward",
       "layout": "IPY_MODEL_6dfba179751c474d8ce8fcaf09c41fdf",
       "style": "IPY_MODEL_64de2db87a5d46bbab59242e3092792d"
      }
     },
     "44c3fa2e68514a389b6e3bfcd3f19ec4": {
      "model_module": "jupyter-js-widgets",
      "model_module_version": "~2.1.4",
      "model_name": "ButtonModel",
      "state": {
       "_model_module_version": "~2.1.4",
       "_view_module_version": "~2.1.4",
       "icon": "fast-forward",
       "layout": "IPY_MODEL_c19a5c81e1e84cc1b4392e53492c4be4",
       "style": "IPY_MODEL_c4a85986653340b2a8388dbee0bd3f2e"
      }
     },
     "452208d944bf4ef8b85ef19a3df450ca": {
      "model_module": "jupyter-js-widgets",
      "model_module_version": "~2.1.4",
      "model_name": "IntSliderModel",
      "state": {
       "_model_module_version": "~2.1.4",
       "_view_module_version": "~2.1.4",
       "continuous_update": false,
       "description": "Dataset position",
       "layout": "IPY_MODEL_c19584d173ab46bcaa0cada6ff94d5c5",
       "max": 3,
       "style": "IPY_MODEL_4ea5d1a8d9854895b9a221c46d5cbe39"
      }
     },
     "474c004934384a759bbe7a55312df8a5": {
      "model_module": "jupyter-js-widgets",
      "model_module_version": "~2.1.4",
      "model_name": "ButtonModel",
      "state": {
       "_model_module_version": "~2.1.4",
       "_view_module_version": "~2.1.4",
       "icon": "forward",
       "layout": "IPY_MODEL_0d88e4ef6b9d40c88969ac9b2ef1b724",
       "style": "IPY_MODEL_ca1f8e052f364b979a4c69a7dfbfb023"
      }
     },
     "48aa9ec2930744d69488cb4df18b341b": {
      "model_module": "jupyter-js-widgets",
      "model_module_version": "~2.1.4",
      "model_name": "ButtonStyleModel",
      "state": {
       "_model_module_version": "~2.1.4",
       "_view_module_version": "~2.1.4"
      }
     },
     "49bde84698f54bae9009c7697d01fb1e": {
      "model_module": "jupyter-js-widgets",
      "model_module_version": "~2.1.4",
      "model_name": "LayoutModel",
      "state": {
       "_model_module_version": "~2.1.4",
       "_view_module_version": "~2.1.4",
       "width": "100%"
      }
     },
     "4b28fc4634f842c0bb223c70cbb13fc0": {
      "model_module": "jupyter-js-widgets",
      "model_module_version": "~2.1.4",
      "model_name": "IntSliderModel",
      "state": {
       "_model_module_version": "~2.1.4",
       "_view_module_version": "~2.1.4",
       "continuous_update": false,
       "description": "Dataset position",
       "layout": "IPY_MODEL_be77297278d549aa8b2918573ed1302e",
       "max": 3,
       "style": "IPY_MODEL_327c1fb9f7b744c6827a0f9842195850"
      }
     },
     "4b3e29e790b84184bd3e6a377eab4ac4": {
      "model_module": "jupyter-js-widgets",
      "model_module_version": "~2.1.4",
      "model_name": "LayoutModel",
      "state": {
       "_model_module_version": "~2.1.4",
       "_view_module_version": "~2.1.4",
       "width": "100%"
      }
     },
     "4ceb9f58081a4be88c6ccc4dd7ce7d66": {
      "model_module": "jupyter-js-widgets",
      "model_module_version": "~2.1.4",
      "model_name": "VBoxModel",
      "state": {
       "_model_module_version": "~2.1.4",
       "_view_module_version": "~2.1.4",
       "children": [
        "IPY_MODEL_7f37e4c2d0474f43873b00078bc7124a",
        "IPY_MODEL_1f6595a84a0b428bab61f636bd11878f"
       ],
       "layout": "IPY_MODEL_4b3e29e790b84184bd3e6a377eab4ac4"
      }
     },
     "4ea5d1a8d9854895b9a221c46d5cbe39": {
      "model_module": "jupyter-js-widgets",
      "model_module_version": "~2.1.4",
      "model_name": "SliderStyleModel",
      "state": {
       "_model_module_version": "~2.1.4",
       "_view_module_version": "~2.1.4"
      }
     },
     "4ef3ca7d5a9f4ab083132bcd3184e36c": {
      "model_module": "jupyter-js-widgets",
      "model_module_version": "~2.1.4",
      "model_name": "HBoxModel",
      "state": {
       "_model_module_version": "~2.1.4",
       "_view_module_version": "~2.1.4",
       "children": [
        "IPY_MODEL_57127973483842f180dd6f509f8960e0",
        "IPY_MODEL_32ac92195fa348c9993059229bc83145",
        "IPY_MODEL_88c207ae4bed4c6dafaa3e095a0817f1",
        "IPY_MODEL_5ec7315ad5614812bff405f6fa5d3aa5",
        "IPY_MODEL_bd17a7ae5b1b47f687edf2071150254b"
       ],
       "layout": "IPY_MODEL_d1f6151d450e46e3a5771756f6e96d82"
      }
     },
     "50916feae08741e6a83bd8790a704be2": {
      "model_module": "jupyter-js-widgets",
      "model_module_version": "~2.1.4",
      "model_name": "VBoxModel",
      "state": {
       "_model_module_version": "~2.1.4",
       "_view_module_version": "~2.1.4",
       "children": [
        "IPY_MODEL_892e900ff6194aa1b400c17fba78494e",
        "IPY_MODEL_735605e36817496fb61093a42ce6b792",
        "IPY_MODEL_b6062959f8cc43e9b45d82291ebb691c"
       ],
       "layout": "IPY_MODEL_49bde84698f54bae9009c7697d01fb1e"
      }
     },
     "51d44fd622224a00bb473a7b3e0c4e1e": {
      "model_module": "jupyter-js-widgets",
      "model_module_version": "~2.1.4",
      "model_name": "LayoutModel",
      "state": {
       "_model_module_version": "~2.1.4",
       "_view_module_version": "~2.1.4",
       "width": "100%"
      }
     },
     "563398dada7946bdb79cdf97efd0818f": {
      "model_module": "jupyter-js-widgets",
      "model_module_version": "~2.1.4",
      "model_name": "ButtonModel",
      "state": {
       "_model_module_version": "~2.1.4",
       "_view_module_version": "~2.1.4",
       "icon": "forward",
       "layout": "IPY_MODEL_e7d71d7a12dc4f818e006c1f8a97c1dc",
       "style": "IPY_MODEL_feac3d210bfd49a9bef6b07458b071a1"
      }
     },
     "57127973483842f180dd6f509f8960e0": {
      "model_module": "jupyter-js-widgets",
      "model_module_version": "~2.1.4",
      "model_name": "ButtonModel",
      "state": {
       "_model_module_version": "~2.1.4",
       "_view_module_version": "~2.1.4",
       "icon": "fast-backward",
       "layout": "IPY_MODEL_0fa959eebc874979b5c6b7835f6512be",
       "style": "IPY_MODEL_188274014d624302b3a0eebbe2f25546"
      }
     },
     "5bebf29ce208467b8cce35d56b5d4018": {
      "model_module": "jupyter-js-widgets",
      "model_module_version": "~2.1.4",
      "model_name": "ButtonStyleModel",
      "state": {
       "_model_module_version": "~2.1.4",
       "_view_module_version": "~2.1.4"
      }
     },
     "5cf1ae79654f406fb35eebf256e01c66": {
      "model_module": "jupyter-js-widgets",
      "model_module_version": "~2.1.4",
      "model_name": "ButtonStyleModel",
      "state": {
       "_model_module_version": "~2.1.4",
       "_view_module_version": "~2.1.4"
      }
     },
     "5ec7315ad5614812bff405f6fa5d3aa5": {
      "model_module": "jupyter-js-widgets",
      "model_module_version": "~2.1.4",
      "model_name": "ButtonModel",
      "state": {
       "_model_module_version": "~2.1.4",
       "_view_module_version": "~2.1.4",
       "icon": "forward",
       "layout": "IPY_MODEL_13b958d6683c4830a4c9afe12a28074c",
       "style": "IPY_MODEL_da25281b8a384cb1b2b3179c91b89345"
      }
     },
     "64de2db87a5d46bbab59242e3092792d": {
      "model_module": "jupyter-js-widgets",
      "model_module_version": "~2.1.4",
      "model_name": "ButtonStyleModel",
      "state": {
       "_model_module_version": "~2.1.4",
       "_view_module_version": "~2.1.4"
      }
     },
     "6dfba179751c474d8ce8fcaf09c41fdf": {
      "model_module": "jupyter-js-widgets",
      "model_module_version": "~2.1.4",
      "model_name": "LayoutModel",
      "state": {
       "_model_module_version": "~2.1.4",
       "_view_module_version": "~2.1.4",
       "width": "100%"
      }
     },
     "735605e36817496fb61093a42ce6b792": {
      "model_module": "jupyter-js-widgets",
      "model_module_version": "~2.1.4",
      "model_name": "IntSliderModel",
      "state": {
       "_model_module_version": "~2.1.4",
       "_view_module_version": "~2.1.4",
       "continuous_update": false,
       "description": "Dataset position",
       "layout": "IPY_MODEL_da86f5fe9c1941c4a0d367d1cde43556",
       "max": 3,
       "style": "IPY_MODEL_d2e92e6890524f46947f1d59251cc600"
      }
     },
     "764549c458c545fe94b632cb66f54d6d": {
      "model_module": "jupyter-js-widgets",
      "model_module_version": "~2.1.4",
      "model_name": "LayoutModel",
      "state": {
       "_model_module_version": "~2.1.4",
       "_view_module_version": "~2.1.4",
       "width": "100%"
      }
     },
     "77c0b3f574654b3f90a736a0bcd3204e": {
      "model_module": "jupyter-js-widgets",
      "model_module_version": "~2.1.4",
      "model_name": "LayoutModel",
      "state": {
       "_model_module_version": "~2.1.4",
       "_view_module_version": "~2.1.4",
       "width": "100%"
      }
     },
     "7a4f5d71af2c4fca9be3bcd21c877de7": {
      "model_module": "jupyter-js-widgets",
      "model_module_version": "~2.1.4",
      "model_name": "VBoxModel",
      "state": {
       "_model_module_version": "~2.1.4",
       "_view_module_version": "~2.1.4",
       "children": [
        "IPY_MODEL_2a9fcbec112546e99b0f4bfaedc5fa94",
        "IPY_MODEL_cc819450afc848a19c3e084d7bdaa0bc"
       ],
       "layout": "IPY_MODEL_9c2ea01df48848cab3e5ace334b7d0f4"
      }
     },
     "7ea218d38fde46c38587da8e5beb2c20": {
      "model_module": "jupyter-js-widgets",
      "model_module_version": "~2.1.4",
      "model_name": "LayoutModel",
      "state": {
       "_model_module_version": "~2.1.4",
       "_view_module_version": "~2.1.4",
       "width": "100%"
      }
     },
     "7ef76f2aa40c476d9ae5fc5a3c9b2eab": {
      "model_module": "jupyter-js-widgets",
      "model_module_version": "~2.1.4",
      "model_name": "LayoutModel",
      "state": {
       "_model_module_version": "~2.1.4",
       "_view_module_version": "~2.1.4",
       "width": "100%"
      }
     },
     "7f37e4c2d0474f43873b00078bc7124a": {
      "model_module": "jupyter-js-widgets",
      "model_module_version": "~2.1.4",
      "model_name": "HTMLModel",
      "state": {
       "_model_module_version": "~2.1.4",
       "_view_module_version": "~2.1.4",
       "layout": "IPY_MODEL_cd856c64e17c4782b62576ad31791ec2",
       "value": "\n        <svg id='XOR' xmlns='http://www.w3.org/2000/svg' width=\"350\" height=\"575\" image-rendering=\"pixelated\">\n    <defs>\n        <marker id=\"arrow\" markerWidth=\"10\" markerHeight=\"10\" refX=\"9\" refY=\"3\" orient=\"auto\" markerUnits=\"strokeWidth\">\n          <path d=\"M0,0 L0,6 L9,3 z\" fill=\"blue\" />\n        </marker>\n    </defs>\n<rect x=\"74.0\" y=\"24\" width=\"202\" height=\"102\" style=\"fill:none;stroke:blue;stroke-width:2\"/><image id=\"XOR_output_targets_22\" class=\"XOR_output_targets\" x=\"75.0\" y=\"25\" height=\"100\" width=\"200\" href=\"data:image/gif;base64,R0lGODdhAgABAIAAAEBAQFFRUSwAAAAAAgABAAAIBQABBAgIADs=\"><title>Layer: output (output)\n shape = (2,)\n Keras class = Dense\n activation = sigmoid</title></image><text x=\"280.0\" y=\"77.0\" font-family=\"monospace\" font-size=\"12\">targets</text><rect x=\"74.0\" y=\"134\" width=\"202\" height=\"102\" style=\"fill:none;stroke:blue;stroke-width:2\"/><image id=\"XOR_output_errors_22\" class=\"XOR_output_errors\" x=\"75.0\" y=\"135\" height=\"100\" width=\"200\" href=\"data:image/gif;base64,R0lGODdhAgABAIAAAEBAQFFRUSwAAAAAAgABAAAIBQABBAgIADs=\"><title>Layer: output (output)\n shape = (2,)\n Keras class = Dense\n activation = sigmoid</title></image><text x=\"280.0\" y=\"187.0\" font-family=\"monospace\" font-size=\"12\">errors</text><rect x=\"74.0\" y=\"249\" width=\"202\" height=\"102\" style=\"fill:none;stroke:blue;stroke-width:2\"/><image id=\"XOR_output_22\" class=\"XOR_output\" x=\"75.0\" y=\"250\" height=\"100\" width=\"200\" href=\"data:image/gif;base64,R0lGODdhAgABAIAAAEBAQFFRUSwAAAAAAgABAAAIBQABBAgIADs=\"><title>Layer: output (output)\n shape = (2,)\n Keras class = Dense\n activation = sigmoid</title></image><text x=\"280.0\" y=\"302.0\" font-family=\"monospace\" font-size=\"12\">output</text><rect x=\"165.0\" y=\"352\" width=\"20.0\" height=\"27\" style=\"fill:white;stroke:none\"><title>Weights from hidden to output\n output/kernel has shape (10, 2)\n output/bias has shape (2,)</title></rect><rect x=\"165.0\" y=\"352\" width=\"20.0\" height=\"27\" style=\"fill:white;stroke:none\"><title>Weights from hidden to output\n output/kernel has shape (10, 2)\n output/bias has shape (2,)</title></rect><line x1=\"175.0\" y1=\"379\" x2=\"175.0\" y2=\"352\" stroke=\"blue\" stroke-width=\"2\" marker-end=\"url(#arrow)\"><title>Weights from hidden to output\n output/kernel has shape (10, 2)\n output/bias has shape (2,)</title></line><line x1=\"175.0\" y1=\"379\" x2=\"175.0\" y2=\"352\" stroke=\"blue\" stroke-width=\"2\" marker-end=\"url(#arrow)\"><title>Weights from hidden to output\n output/kernel has shape (10, 2)\n output/bias has shape (2,)</title></line><rect x=\"74.0\" y=\"379\" width=\"202\" height=\"42\" style=\"fill:none;stroke:blue;stroke-width:2\"/><image id=\"XOR_hidden_23\" class=\"XOR_hidden\" x=\"75.0\" y=\"380\" height=\"40\" width=\"200\" href=\"data:image/gif;base64,R0lGODdhBQABAIAAAH9/fwAAACwAAAAABQABAAAIBgABCBQYEAA7\"><title>Layer: hidden (hidden)\n shape = (5,)\n Keras class = Dense\n activation = sigmoid</title></image><text x=\"280.0\" y=\"402.0\" font-family=\"monospace\" font-size=\"12\">hidden</text><rect x=\"165.0\" y=\"422\" width=\"20.0\" height=\"27\" style=\"fill:white;stroke:none\"><title>Weights from input to hidden\n hidden/kernel has shape (4, 5)\n hidden/bias has shape (5,)</title></rect><rect x=\"165.0\" y=\"422\" width=\"20.0\" height=\"27\" style=\"fill:white;stroke:none\"><title>Weights from input to hidden\n hidden/kernel has shape (4, 5)\n hidden/bias has shape (5,)</title></rect><line x1=\"175.0\" y1=\"449\" x2=\"175.0\" y2=\"422\" stroke=\"blue\" stroke-width=\"2\" marker-end=\"url(#arrow)\"><title>Weights from input to hidden\n hidden/kernel has shape (4, 5)\n hidden/bias has shape (5,)</title></line><line x1=\"175.0\" y1=\"449\" x2=\"175.0\" y2=\"422\" stroke=\"blue\" stroke-width=\"2\" marker-end=\"url(#arrow)\"><title>Weights from input to hidden\n hidden/kernel has shape (4, 5)\n hidden/bias has shape (5,)</title></line><rect x=\"74.0\" y=\"449\" width=\"202\" height=\"102\" style=\"fill:none;stroke:blue;stroke-width:2\"/><image id=\"XOR_input_24\" class=\"XOR_input\" x=\"75.0\" y=\"450\" height=\"100\" width=\"200\" href=\"data:image/gif;base64,R0lGODdhAgABAIAAAH9/fwAAACwAAAAAAgABAAAIBQABAAgIADs=\"><title>Layer: input (input)\n shape = (2,)\n Keras class = Input</title></image><text x=\"280.0\" y=\"502.0\" font-family=\"monospace\" font-size=\"12\">input</text></svg>"
      }
     },
     "80219a8d517f4474904895905b537ec9": {
      "model_module": "jupyter-js-widgets",
      "model_module_version": "~2.1.4",
      "model_name": "LayoutModel",
      "state": {
       "_model_module_version": "~2.1.4",
       "_view_module_version": "~2.1.4"
      }
     },
     "803e5c50a46f4c2480b0040717da8a59": {
      "model_module": "jupyter-js-widgets",
      "model_module_version": "~2.1.4",
      "model_name": "VBoxModel",
      "state": {
       "_model_module_version": "~2.1.4",
       "_view_module_version": "~2.1.4",
       "children": [
        "IPY_MODEL_d718fd49da80433f984130eecd8b2eac",
        "IPY_MODEL_4b28fc4634f842c0bb223c70cbb13fc0",
        "IPY_MODEL_4ef3ca7d5a9f4ab083132bcd3184e36c"
       ],
       "layout": "IPY_MODEL_3887497538404fe195c3eb1d4c6b9692"
      }
     },
     "813244376178473792a4b87c77f98d21": {
      "model_module": "jupyter-js-widgets",
      "model_module_version": "~2.1.4",
      "model_name": "ButtonStyleModel",
      "state": {
       "_model_module_version": "~2.1.4",
       "_view_module_version": "~2.1.4"
      }
     },
     "826c895bff8a467f985e369f5f244f75": {
      "model_module": "jupyter-js-widgets",
      "model_module_version": "~2.1.4",
      "model_name": "LayoutModel",
      "state": {
       "_model_module_version": "~2.1.4",
       "_view_module_version": "~2.1.4",
       "width": "100%"
      }
     },
     "88c207ae4bed4c6dafaa3e095a0817f1": {
      "model_module": "jupyter-js-widgets",
      "model_module_version": "~2.1.4",
      "model_name": "ButtonModel",
      "state": {
       "_model_module_version": "~2.1.4",
       "_view_module_version": "~2.1.4",
       "description": "Train",
       "layout": "IPY_MODEL_06c599e2183346dc8c3d86541ce5a272",
       "style": "IPY_MODEL_f017211fb1f64e409a1c395f0c6e9e8d"
      }
     },
     "892e900ff6194aa1b400c17fba78494e": {
      "model_module": "jupyter-js-widgets",
      "model_module_version": "~2.1.4",
      "model_name": "SelectModel",
      "state": {
       "_model_module_version": "~2.1.4",
       "_options_labels": [
        "Test",
        "Train"
       ],
       "_view_module_version": "~2.1.4",
       "description": "Dataset:",
       "layout": "IPY_MODEL_32b47b41214d450eb5cbadbc7a2aa635",
       "value": "Train"
      }
     },
     "8ab59f80470049929e9cf7da3841c07f": {
      "model_module": "jupyter-js-widgets",
      "model_module_version": "~2.1.4",
      "model_name": "HTMLModel",
      "state": {
       "_model_module_version": "~2.1.4",
       "_view_module_version": "~2.1.4",
       "layout": "IPY_MODEL_1d834e223eca4cc8b514240e91cc5632",
       "value": "\n        <svg id='XOR' xmlns='http://www.w3.org/2000/svg' width=\"350\" height=\"575\" image-rendering=\"pixelated\">\n    <defs>\n        <marker id=\"arrow\" markerWidth=\"10\" markerHeight=\"10\" refX=\"9\" refY=\"3\" orient=\"auto\" markerUnits=\"strokeWidth\">\n          <path d=\"M0,0 L0,6 L9,3 z\" fill=\"blue\" />\n        </marker>\n    </defs>\n<rect x=\"74.0\" y=\"24\" width=\"202\" height=\"102\" style=\"fill:none;stroke:blue;stroke-width:2\"/><image id=\"XOR_output_targets_4\" class=\"XOR_output_targets\" x=\"75.0\" y=\"25\" height=\"100\" width=\"200\" href=\"data:image/gif;base64,R0lGODdhAgABAIAAAEBAQFFRUSwAAAAAAgABAAAIBQABBAgIADs=\"><title>Layer: output (output)\n shape = (2,)\n Keras class = Dense\n activation = sigmoid</title></image><text x=\"280.0\" y=\"77.0\" font-family=\"monospace\" font-size=\"12\">targets</text><rect x=\"74.0\" y=\"134\" width=\"202\" height=\"102\" style=\"fill:none;stroke:blue;stroke-width:2\"/><image id=\"XOR_output_errors_4\" class=\"XOR_output_errors\" x=\"75.0\" y=\"135\" height=\"100\" width=\"200\" href=\"data:image/gif;base64,R0lGODdhAgABAIAAAEBAQFFRUSwAAAAAAgABAAAIBQABBAgIADs=\"><title>Layer: output (output)\n shape = (2,)\n Keras class = Dense\n activation = sigmoid</title></image><text x=\"280.0\" y=\"187.0\" font-family=\"monospace\" font-size=\"12\">errors</text><rect x=\"74.0\" y=\"249\" width=\"202\" height=\"102\" style=\"fill:none;stroke:blue;stroke-width:2\"/><image id=\"XOR_output_4\" class=\"XOR_output\" x=\"75.0\" y=\"250\" height=\"100\" width=\"200\" href=\"data:image/gif;base64,R0lGODdhAgABAIAAAEBAQFFRUSwAAAAAAgABAAAIBQABBAgIADs=\"><title>Layer: output (output)\n shape = (2,)\n Keras class = Dense\n activation = sigmoid</title></image><text x=\"280.0\" y=\"302.0\" font-family=\"monospace\" font-size=\"12\">output</text><rect x=\"165.0\" y=\"352\" width=\"20.0\" height=\"27\" style=\"fill:white;stroke:none\"><title>Weights from hidden to output\n output/kernel has shape (10, 2)\n output/bias has shape (2,)</title></rect><rect x=\"165.0\" y=\"352\" width=\"20.0\" height=\"27\" style=\"fill:white;stroke:none\"><title>Weights from hidden to output\n output/kernel has shape (10, 2)\n output/bias has shape (2,)</title></rect><line x1=\"175.0\" y1=\"379\" x2=\"175.0\" y2=\"352\" stroke=\"blue\" stroke-width=\"2\" marker-end=\"url(#arrow)\"><title>Weights from hidden to output\n output/kernel has shape (10, 2)\n output/bias has shape (2,)</title></line><line x1=\"175.0\" y1=\"379\" x2=\"175.0\" y2=\"352\" stroke=\"blue\" stroke-width=\"2\" marker-end=\"url(#arrow)\"><title>Weights from hidden to output\n output/kernel has shape (10, 2)\n output/bias has shape (2,)</title></line><rect x=\"74.0\" y=\"379\" width=\"202\" height=\"42\" style=\"fill:none;stroke:blue;stroke-width:2\"/><image id=\"XOR_hidden_5\" class=\"XOR_hidden\" x=\"75.0\" y=\"380\" height=\"40\" width=\"200\" href=\"data:image/gif;base64,R0lGODdhBQABAIAAAH9/fwAAACwAAAAABQABAAAIBgABCBQYEAA7\"><title>Layer: hidden (hidden)\n shape = (5,)\n Keras class = Dense\n activation = sigmoid</title></image><text x=\"280.0\" y=\"402.0\" font-family=\"monospace\" font-size=\"12\">hidden</text><rect x=\"165.0\" y=\"422\" width=\"20.0\" height=\"27\" style=\"fill:white;stroke:none\"><title>Weights from input to hidden\n hidden/kernel has shape (4, 5)\n hidden/bias has shape (5,)</title></rect><rect x=\"165.0\" y=\"422\" width=\"20.0\" height=\"27\" style=\"fill:white;stroke:none\"><title>Weights from input to hidden\n hidden/kernel has shape (4, 5)\n hidden/bias has shape (5,)</title></rect><line x1=\"175.0\" y1=\"449\" x2=\"175.0\" y2=\"422\" stroke=\"blue\" stroke-width=\"2\" marker-end=\"url(#arrow)\"><title>Weights from input to hidden\n hidden/kernel has shape (4, 5)\n hidden/bias has shape (5,)</title></line><line x1=\"175.0\" y1=\"449\" x2=\"175.0\" y2=\"422\" stroke=\"blue\" stroke-width=\"2\" marker-end=\"url(#arrow)\"><title>Weights from input to hidden\n hidden/kernel has shape (4, 5)\n hidden/bias has shape (5,)</title></line><rect x=\"74.0\" y=\"449\" width=\"202\" height=\"102\" style=\"fill:none;stroke:blue;stroke-width:2\"/><image id=\"XOR_input_6\" class=\"XOR_input\" x=\"75.0\" y=\"450\" height=\"100\" width=\"200\" href=\"data:image/gif;base64,R0lGODdhAgABAIAAAH9/fwAAACwAAAAAAgABAAAIBQABAAgIADs=\"><title>Layer: input (input)\n shape = (2,)\n Keras class = Input</title></image><text x=\"280.0\" y=\"502.0\" font-family=\"monospace\" font-size=\"12\">input</text></svg>"
      }
     },
     "8c9af5758aa64560b87cbd71aa77ec7a": {
      "model_module": "jupyter-js-widgets",
      "model_module_version": "~2.1.4",
      "model_name": "ButtonModel",
      "state": {
       "_model_module_version": "~2.1.4",
       "_view_module_version": "~2.1.4",
       "description": "Train",
       "layout": "IPY_MODEL_77c0b3f574654b3f90a736a0bcd3204e",
       "style": "IPY_MODEL_0c12d69d4b444d35b50089d93d6df189"
      }
     },
     "913dbb12baf54f388c89eddd63df1a37": {
      "model_module": "jupyter-js-widgets",
      "model_module_version": "~2.1.4",
      "model_name": "ButtonStyleModel",
      "state": {
       "_model_module_version": "~2.1.4",
       "_view_module_version": "~2.1.4"
      }
     },
     "94701a53d2774363bb651b75834f33cc": {
      "model_module": "jupyter-js-widgets",
      "model_module_version": "~2.1.4",
      "model_name": "ButtonModel",
      "state": {
       "_model_module_version": "~2.1.4",
       "_view_module_version": "~2.1.4",
       "icon": "fast-forward",
       "layout": "IPY_MODEL_b6a8ab5398a24b3dab717b805a241d3c",
       "style": "IPY_MODEL_1ded46a864794ac3a30a7815946f4986"
      }
     },
     "9a192268c31f450ba2eb738bf6a40d9a": {
      "model_module": "jupyter-js-widgets",
      "model_module_version": "~2.1.4",
      "model_name": "ButtonModel",
      "state": {
       "_model_module_version": "~2.1.4",
       "_view_module_version": "~2.1.4",
       "description": "Train",
       "layout": "IPY_MODEL_3decd58cf1bc43a58db6c8b39be536fb",
       "style": "IPY_MODEL_1571873a569f450f88a272dce4a7869a"
      }
     },
     "9c2ea01df48848cab3e5ace334b7d0f4": {
      "model_module": "jupyter-js-widgets",
      "model_module_version": "~2.1.4",
      "model_name": "LayoutModel",
      "state": {
       "_model_module_version": "~2.1.4",
       "_view_module_version": "~2.1.4",
       "width": "100%"
      }
     },
     "a21ec6c295a64025b563c682a9cf14b6": {
      "model_module": "jupyter-js-widgets",
      "model_module_version": "~2.1.4",
      "model_name": "ButtonStyleModel",
      "state": {
       "_model_module_version": "~2.1.4",
       "_view_module_version": "~2.1.4"
      }
     },
     "a3aaabb254f84726828095e0b7ee6336": {
      "model_module": "jupyter-js-widgets",
      "model_module_version": "~2.1.4",
      "model_name": "SelectModel",
      "state": {
       "_model_module_version": "~2.1.4",
       "_options_labels": [
        "Test",
        "Train"
       ],
       "_view_module_version": "~2.1.4",
       "description": "Dataset:",
       "layout": "IPY_MODEL_80219a8d517f4474904895905b537ec9",
       "value": "Train"
      }
     },
     "a42f9ad72e6b4daf8e18ad26eca69e6a": {
      "model_module": "jupyter-js-widgets",
      "model_module_version": "~2.1.4",
      "model_name": "LayoutModel",
      "state": {
       "_model_module_version": "~2.1.4",
       "_view_module_version": "~2.1.4",
       "width": "100%"
      }
     },
     "af8805519c6240d5b0ad10e25c9a17a3": {
      "model_module": "jupyter-js-widgets",
      "model_module_version": "~2.1.4",
      "model_name": "VBoxModel",
      "state": {
       "_model_module_version": "~2.1.4",
       "_view_module_version": "~2.1.4",
       "children": [
        "IPY_MODEL_240fb70261e84315bdb7170e7715f72a",
        "IPY_MODEL_803e5c50a46f4c2480b0040717da8a59"
       ],
       "layout": "IPY_MODEL_13296bd3a7234abc885e257cf8afb98b"
      }
     },
     "b2d2a124c4d544b687946d6f635ebc1e": {
      "model_module": "jupyter-js-widgets",
      "model_module_version": "~2.1.4",
      "model_name": "IntSliderModel",
      "state": {
       "_model_module_version": "~2.1.4",
       "_view_module_version": "~2.1.4",
       "continuous_update": false,
       "description": "Dataset position",
       "layout": "IPY_MODEL_db1816e2823a4fe091895f0151b9aed8",
       "max": 3,
       "style": "IPY_MODEL_f1c5fe6f859149158b726a9102b98613"
      }
     },
     "b6062959f8cc43e9b45d82291ebb691c": {
      "model_module": "jupyter-js-widgets",
      "model_module_version": "~2.1.4",
      "model_name": "HBoxModel",
      "state": {
       "_model_module_version": "~2.1.4",
       "_view_module_version": "~2.1.4",
       "children": [
        "IPY_MODEL_f82329fd66b0440697d37ba08937fcac",
        "IPY_MODEL_d5c43f329afa46059a3063c6925fb10a",
        "IPY_MODEL_9a192268c31f450ba2eb738bf6a40d9a",
        "IPY_MODEL_474c004934384a759bbe7a55312df8a5",
        "IPY_MODEL_3ac7622e7af44a2690786771aefc4b04"
       ],
       "layout": "IPY_MODEL_04e4af394a234940b8e49aed10291d58"
      }
     },
     "b6a8ab5398a24b3dab717b805a241d3c": {
      "model_module": "jupyter-js-widgets",
      "model_module_version": "~2.1.4",
      "model_name": "LayoutModel",
      "state": {
       "_model_module_version": "~2.1.4",
       "_view_module_version": "~2.1.4",
       "width": "100%"
      }
     },
     "bd17a7ae5b1b47f687edf2071150254b": {
      "model_module": "jupyter-js-widgets",
      "model_module_version": "~2.1.4",
      "model_name": "ButtonModel",
      "state": {
       "_model_module_version": "~2.1.4",
       "_view_module_version": "~2.1.4",
       "icon": "fast-forward",
       "layout": "IPY_MODEL_e2f6fb78505d410ca50ebd3a30ca746f",
       "style": "IPY_MODEL_3ff6cf30f27148128661c9b833856ca7"
      }
     },
     "be77297278d549aa8b2918573ed1302e": {
      "model_module": "jupyter-js-widgets",
      "model_module_version": "~2.1.4",
      "model_name": "LayoutModel",
      "state": {
       "_model_module_version": "~2.1.4",
       "_view_module_version": "~2.1.4",
       "width": "100%"
      }
     },
     "bfac250c829d405199ca901fd339bd0d": {
      "model_module": "jupyter-js-widgets",
      "model_module_version": "~2.1.4",
      "model_name": "ButtonModel",
      "state": {
       "_model_module_version": "~2.1.4",
       "_view_module_version": "~2.1.4",
       "icon": "backward",
       "layout": "IPY_MODEL_7ea218d38fde46c38587da8e5beb2c20",
       "style": "IPY_MODEL_ce9e9b32159d45ee85b13b7be4b98563"
      }
     },
     "c19584d173ab46bcaa0cada6ff94d5c5": {
      "model_module": "jupyter-js-widgets",
      "model_module_version": "~2.1.4",
      "model_name": "LayoutModel",
      "state": {
       "_model_module_version": "~2.1.4",
       "_view_module_version": "~2.1.4",
       "width": "100%"
      }
     },
     "c19a5c81e1e84cc1b4392e53492c4be4": {
      "model_module": "jupyter-js-widgets",
      "model_module_version": "~2.1.4",
      "model_name": "LayoutModel",
      "state": {
       "_model_module_version": "~2.1.4",
       "_view_module_version": "~2.1.4",
       "width": "100%"
      }
     },
     "c3b32a7fbffe46ed9d2c8ec96f748d51": {
      "model_module": "jupyter-js-widgets",
      "model_module_version": "~2.1.4",
      "model_name": "ButtonStyleModel",
      "state": {
       "_model_module_version": "~2.1.4",
       "_view_module_version": "~2.1.4"
      }
     },
     "c4a85986653340b2a8388dbee0bd3f2e": {
      "model_module": "jupyter-js-widgets",
      "model_module_version": "~2.1.4",
      "model_name": "ButtonStyleModel",
      "state": {
       "_model_module_version": "~2.1.4",
       "_view_module_version": "~2.1.4"
      }
     },
     "c78e4d6537f94727a1decf9395029546": {
      "model_module": "jupyter-js-widgets",
      "model_module_version": "~2.1.4",
      "model_name": "LayoutModel",
      "state": {
       "_model_module_version": "~2.1.4",
       "_view_module_version": "~2.1.4",
       "width": "100%"
      }
     },
     "c7bbaf8bcd3d429e9bebe6d5c82044fe": {
      "model_module": "jupyter-js-widgets",
      "model_module_version": "~2.1.4",
      "model_name": "ButtonModel",
      "state": {
       "_model_module_version": "~2.1.4",
       "_view_module_version": "~2.1.4",
       "icon": "forward",
       "layout": "IPY_MODEL_51d44fd622224a00bb473a7b3e0c4e1e",
       "style": "IPY_MODEL_c3b32a7fbffe46ed9d2c8ec96f748d51"
      }
     },
     "c9f0749bba5741bbbbf3571cce3a0651": {
      "model_module": "jupyter-js-widgets",
      "model_module_version": "~2.1.4",
      "model_name": "LayoutModel",
      "state": {
       "_model_module_version": "~2.1.4",
       "_view_module_version": "~2.1.4",
       "width": "100%"
      }
     },
     "ca1f8e052f364b979a4c69a7dfbfb023": {
      "model_module": "jupyter-js-widgets",
      "model_module_version": "~2.1.4",
      "model_name": "ButtonStyleModel",
      "state": {
       "_model_module_version": "~2.1.4",
       "_view_module_version": "~2.1.4"
      }
     },
     "cc819450afc848a19c3e084d7bdaa0bc": {
      "model_module": "jupyter-js-widgets",
      "model_module_version": "~2.1.4",
      "model_name": "VBoxModel",
      "state": {
       "_model_module_version": "~2.1.4",
       "_view_module_version": "~2.1.4",
       "children": [
        "IPY_MODEL_a3aaabb254f84726828095e0b7ee6336",
        "IPY_MODEL_452208d944bf4ef8b85ef19a3df450ca",
        "IPY_MODEL_1edb0c103d4e46398df73073fc69ae26"
       ],
       "layout": "IPY_MODEL_2ccb8a7d2fe346d794361f95b0ae898a"
      }
     },
     "cd856c64e17c4782b62576ad31791ec2": {
      "model_module": "jupyter-js-widgets",
      "model_module_version": "~2.1.4",
      "model_name": "LayoutModel",
      "state": {
       "_model_module_version": "~2.1.4",
       "_view_module_version": "~2.1.4",
       "height": "550px",
       "overflow_x": "auto",
       "width": "100%"
      }
     },
     "ce57a318d2c24253b2c5571128ce992f": {
      "model_module": "jupyter-js-widgets",
      "model_module_version": "~2.1.4",
      "model_name": "LayoutModel",
      "state": {
       "_model_module_version": "~2.1.4",
       "_view_module_version": "~2.1.4",
       "height": "550px",
       "overflow_x": "auto",
       "width": "100%"
      }
     },
     "ce9e9b32159d45ee85b13b7be4b98563": {
      "model_module": "jupyter-js-widgets",
      "model_module_version": "~2.1.4",
      "model_name": "ButtonStyleModel",
      "state": {
       "_model_module_version": "~2.1.4",
       "_view_module_version": "~2.1.4"
      }
     },
     "d02ab7b015c74b72bca92aff1a3361e6": {
      "model_module": "jupyter-js-widgets",
      "model_module_version": "~2.1.4",
      "model_name": "ButtonModel",
      "state": {
       "_model_module_version": "~2.1.4",
       "_view_module_version": "~2.1.4",
       "description": "Train",
       "layout": "IPY_MODEL_c9f0749bba5741bbbbf3571cce3a0651",
       "style": "IPY_MODEL_a21ec6c295a64025b563c682a9cf14b6"
      }
     },
     "d1f6151d450e46e3a5771756f6e96d82": {
      "model_module": "jupyter-js-widgets",
      "model_module_version": "~2.1.4",
      "model_name": "LayoutModel",
      "state": {
       "_model_module_version": "~2.1.4",
       "_view_module_version": "~2.1.4",
       "width": "100%"
      }
     },
     "d2e92e6890524f46947f1d59251cc600": {
      "model_module": "jupyter-js-widgets",
      "model_module_version": "~2.1.4",
      "model_name": "SliderStyleModel",
      "state": {
       "_model_module_version": "~2.1.4",
       "_view_module_version": "~2.1.4"
      }
     },
     "d5c43f329afa46059a3063c6925fb10a": {
      "model_module": "jupyter-js-widgets",
      "model_module_version": "~2.1.4",
      "model_name": "ButtonModel",
      "state": {
       "_model_module_version": "~2.1.4",
       "_view_module_version": "~2.1.4",
       "icon": "backward",
       "layout": "IPY_MODEL_826c895bff8a467f985e369f5f244f75",
       "style": "IPY_MODEL_48aa9ec2930744d69488cb4df18b341b"
      }
     },
     "d718fd49da80433f984130eecd8b2eac": {
      "model_module": "jupyter-js-widgets",
      "model_module_version": "~2.1.4",
      "model_name": "SelectModel",
      "state": {
       "_model_module_version": "~2.1.4",
       "_options_labels": [
        "Test",
        "Train"
       ],
       "_view_module_version": "~2.1.4",
       "description": "Dataset:",
       "layout": "IPY_MODEL_396f6153894a4436bc9c7165c0f4a1fb",
       "value": "Train"
      }
     },
     "da25281b8a384cb1b2b3179c91b89345": {
      "model_module": "jupyter-js-widgets",
      "model_module_version": "~2.1.4",
      "model_name": "ButtonStyleModel",
      "state": {
       "_model_module_version": "~2.1.4",
       "_view_module_version": "~2.1.4"
      }
     },
     "da86f5fe9c1941c4a0d367d1cde43556": {
      "model_module": "jupyter-js-widgets",
      "model_module_version": "~2.1.4",
      "model_name": "LayoutModel",
      "state": {
       "_model_module_version": "~2.1.4",
       "_view_module_version": "~2.1.4",
       "width": "100%"
      }
     },
     "db1816e2823a4fe091895f0151b9aed8": {
      "model_module": "jupyter-js-widgets",
      "model_module_version": "~2.1.4",
      "model_name": "LayoutModel",
      "state": {
       "_model_module_version": "~2.1.4",
       "_view_module_version": "~2.1.4",
       "width": "100%"
      }
     },
     "e265e104fc674feaabcc89d6856f802c": {
      "model_module": "jupyter-js-widgets",
      "model_module_version": "~2.1.4",
      "model_name": "ButtonModel",
      "state": {
       "_model_module_version": "~2.1.4",
       "_view_module_version": "~2.1.4",
       "icon": "fast-backward",
       "layout": "IPY_MODEL_e63f09d3817248599aa6bf189f9a2089",
       "style": "IPY_MODEL_5cf1ae79654f406fb35eebf256e01c66"
      }
     },
     "e2f6fb78505d410ca50ebd3a30ca746f": {
      "model_module": "jupyter-js-widgets",
      "model_module_version": "~2.1.4",
      "model_name": "LayoutModel",
      "state": {
       "_model_module_version": "~2.1.4",
       "_view_module_version": "~2.1.4",
       "width": "100%"
      }
     },
     "e63f09d3817248599aa6bf189f9a2089": {
      "model_module": "jupyter-js-widgets",
      "model_module_version": "~2.1.4",
      "model_name": "LayoutModel",
      "state": {
       "_model_module_version": "~2.1.4",
       "_view_module_version": "~2.1.4",
       "width": "100%"
      }
     },
     "e7d71d7a12dc4f818e006c1f8a97c1dc": {
      "model_module": "jupyter-js-widgets",
      "model_module_version": "~2.1.4",
      "model_name": "LayoutModel",
      "state": {
       "_model_module_version": "~2.1.4",
       "_view_module_version": "~2.1.4",
       "width": "100%"
      }
     },
     "f017211fb1f64e409a1c395f0c6e9e8d": {
      "model_module": "jupyter-js-widgets",
      "model_module_version": "~2.1.4",
      "model_name": "ButtonStyleModel",
      "state": {
       "_model_module_version": "~2.1.4",
       "_view_module_version": "~2.1.4"
      }
     },
     "f1c5fe6f859149158b726a9102b98613": {
      "model_module": "jupyter-js-widgets",
      "model_module_version": "~2.1.4",
      "model_name": "SliderStyleModel",
      "state": {
       "_model_module_version": "~2.1.4",
       "_view_module_version": "~2.1.4"
      }
     },
     "f82329fd66b0440697d37ba08937fcac": {
      "model_module": "jupyter-js-widgets",
      "model_module_version": "~2.1.4",
      "model_name": "ButtonModel",
      "state": {
       "_model_module_version": "~2.1.4",
       "_view_module_version": "~2.1.4",
       "icon": "fast-backward",
       "layout": "IPY_MODEL_764549c458c545fe94b632cb66f54d6d",
       "style": "IPY_MODEL_813244376178473792a4b87c77f98d21"
      }
     },
     "f8596abfdc3a48219c6756ffccb143dd": {
      "model_module": "jupyter-js-widgets",
      "model_module_version": "~2.1.4",
      "model_name": "ButtonStyleModel",
      "state": {
       "_model_module_version": "~2.1.4",
       "_view_module_version": "~2.1.4"
      }
     },
     "fae54bccd5764b4b932a53e47feba055": {
      "model_module": "jupyter-js-widgets",
      "model_module_version": "~2.1.4",
      "model_name": "LayoutModel",
      "state": {
       "_model_module_version": "~2.1.4",
       "_view_module_version": "~2.1.4",
       "width": "100%"
      }
     },
     "feac3d210bfd49a9bef6b07458b071a1": {
      "model_module": "jupyter-js-widgets",
      "model_module_version": "~2.1.4",
      "model_name": "ButtonStyleModel",
      "state": {
       "_model_module_version": "~2.1.4",
       "_view_module_version": "~2.1.4"
      }
     }
    },
    "version_major": 1,
    "version_minor": 0
   }
  }
 },
 "nbformat": 4,
 "nbformat_minor": 2
}
