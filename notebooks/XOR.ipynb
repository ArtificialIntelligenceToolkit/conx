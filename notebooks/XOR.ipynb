{
 "cells": [
  {
   "cell_type": "markdown",
   "metadata": {},
   "source": [
    "# XOR Multiple Inputs/Targets\n",
    "\n",
    "Testing..."
   ]
  },
  {
   "cell_type": "code",
   "execution_count": 1,
   "metadata": {
    "collapsed": true
   },
   "outputs": [],
   "source": [
    "import sys\n",
    "sys.path.append(\"..\")"
   ]
  },
  {
   "cell_type": "code",
   "execution_count": 2,
   "metadata": {},
   "outputs": [
    {
     "name": "stderr",
     "output_type": "stream",
     "text": [
      "Using Theano backend.\n"
     ]
    }
   ],
   "source": [
    "from conx import Network, Layer, SGD"
   ]
  },
  {
   "cell_type": "code",
   "execution_count": 3,
   "metadata": {
    "collapsed": true
   },
   "outputs": [],
   "source": [
    "net = Network(\"XOR2\")\n",
    "net.add(Layer(\"input1\", shape=1))\n",
    "net.add(Layer(\"input2\", shape=1))\n",
    "net.add(Layer(\"hidden1\", shape=2, activation=\"sigmoid\"))\n",
    "net.add(Layer(\"hidden2\", shape=2, activation=\"sigmoid\"))\n",
    "net.add(Layer(\"shared-hidden\", shape=2, activation=\"sigmoid\"))\n",
    "net.add(Layer(\"output1\", shape=1, activation=\"sigmoid\"))\n",
    "net.add(Layer(\"output2\", shape=1, activation=\"sigmoid\"))\n",
    "\n",
    "net.connect(\"input1\", \"hidden1\")\n",
    "net.connect(\"input2\", \"hidden2\")\n",
    "net.connect(\"hidden1\", \"shared-hidden\")\n",
    "net.connect(\"hidden2\", \"shared-hidden\")\n",
    "net.connect(\"shared-hidden\", \"output1\")\n",
    "net.connect(\"shared-hidden\", \"output2\")\n",
    "\n",
    "net.set_input_layer_order(\"input1\", \"input2\")\n",
    "net.set_output_layer_order(\"output1\", \"output2\")"
   ]
  },
  {
   "cell_type": "code",
   "execution_count": 4,
   "metadata": {
    "collapsed": true
   },
   "outputs": [],
   "source": [
    "net.compile(loss='mean_squared_error',\n",
    "            optimizer=SGD(lr=0.3, momentum=0.9))"
   ]
  },
  {
   "cell_type": "code",
   "execution_count": 5,
   "metadata": {},
   "outputs": [
    {
     "name": "stdout",
     "output_type": "stream",
     "text": [
      "2 train inputs, 2 test inputs\n",
      "Set 4 inputs and targets\n",
      "Input data shapes: [(1,), (1,)], range: (0.0, 1.0), types: [dtype('float32'), dtype('float32')]\n",
      "Target data shapes: [(1,), (1,)], range: (0.0, 1.0), types: [dtype('float32'), dtype('float32')]\n"
     ]
    }
   ],
   "source": [
    "dataset = [\n",
    "    ([[0],[0]], [[0],[0]]),\n",
    "    ([[0],[1]], [[1],[1]]),\n",
    "    ([[1],[0]], [[1],[1]]),\n",
    "    ([[1],[1]], [[0],[0]])\n",
    "]\n",
    "\n",
    "net.set_dataset(dataset)"
   ]
  },
  {
   "cell_type": "code",
   "execution_count": 6,
   "metadata": {},
   "outputs": [
    {
     "data": {
      "application/javascript": [
       "\n",
       "require(['base/js/namespace'], function(Jupyter) {\n",
       "    Jupyter.notebook.kernel.comm_manager.register_target('conx_svg_control', function(comm, msg) {\n",
       "        comm.on_msg(function(msg) {\n",
       "            var data = msg[\"content\"][\"data\"];\n",
       "            var image = document.getElementById(data[\"id\"]);\n",
       "            if (image) {\n",
       "                image.setAttributeNS(null, \"href\", data[\"href\"]);\n",
       "            }\n",
       "        });\n",
       "    });\n",
       "});\n"
      ],
      "text/plain": [
       "<IPython.core.display.Javascript object>"
      ]
     },
     "metadata": {},
     "output_type": "display_data"
    },
    {
     "data": {
      "image/svg+xml": [
       "\n",
       "        <svg id='XOR2' xmlns='http://www.w3.org/2000/svg' width=\"300\" height=\"325\">\n",
       "    <defs>\n",
       "        <marker id=\"arrow\" markerWidth=\"10\" markerHeight=\"10\" refX=\"9\" refY=\"3\" orient=\"auto\" markerUnits=\"strokeWidth\">\n",
       "          <path d=\"M0,0 L0,6 L9,3 z\" fill=\"blue\" />\n",
       "        </marker>\n",
       "    </defs>\n",
       "<rect x=\"82.33333333333333\" y=\"24\" width=\"27\" height=\"27\" style=\"fill:none;stroke:blue;stroke-width:2\"/><image id=\"XOR2_output1\" x=\"83.33333333333333\" y=\"25\" height=\"25\" width=\"25\" href=\"data:image/gif;base64,R0lGODdhGQAZAIAAAFJSUgAAACwAAAAAGQAZAEAIKgABCBxIsKDBgwgTKlzIsKHDhxAjSpxIsaLFixgzatzIsaPHjyBDivQYEAA7\"><title>Layer: output1 (output)\n",
       " shape = 1\n",
       " Keras class = Dense\n",
       " activation = sigmoid</title></image><text x=\"113.33333333333333\" y=\"39.5\" font-family=\"Verdana\" font-size=\"12\">output1</text><rect x=\"190.66666666666666\" y=\"24\" width=\"27\" height=\"27\" style=\"fill:none;stroke:blue;stroke-width:2\"/><image id=\"XOR2_output2\" x=\"191.66666666666666\" y=\"25\" height=\"25\" width=\"25\" href=\"data:image/gif;base64,R0lGODdhGQAZAIAAAFtbWwAAACwAAAAAGQAZAEAIKgABCBxIsKDBgwgTKlzIsKHDhxAjSpxIsaLFixgzatzIsaPHjyBDivQYEAA7\"><title>Layer: output2 (output)\n",
       " shape = 1\n",
       " Keras class = Dense\n",
       " activation = sigmoid</title></image><text x=\"221.66666666666666\" y=\"39.5\" font-family=\"Verdana\" font-size=\"12\">output2</text><rect x=\"95.83333333333333\" y=\"52\" width=\"54.16666666666667\" height=\"47\" style=\"fill:white;stroke:none\"><title>Weights from shared-hidden to output1\n",
       " output1/kernel has shape (2, 1)\n",
       " output1/bias has shape (1,)</title></rect><rect x=\"150.0\" y=\"52\" width=\"54.16666666666666\" height=\"47\" style=\"fill:white;stroke:none\"><title>Weights from shared-hidden to output2\n",
       " output2/kernel has shape (2, 1)\n",
       " output2/bias has shape (1,)</title></rect><line x1=\"150.0\" y1=\"99\" x2=\"95.83333333333333\" y2=\"52\" stroke=\"blue\" stroke-width=\"2\" marker-end=\"url(#arrow)\"><title>Weights from shared-hidden to output1\n",
       " output1/kernel has shape (2, 1)\n",
       " output1/bias has shape (1,)</title></line><line x1=\"150.0\" y1=\"99\" x2=\"204.16666666666666\" y2=\"52\" stroke=\"blue\" stroke-width=\"2\" marker-end=\"url(#arrow)\"><title>Weights from shared-hidden to output2\n",
       " output2/kernel has shape (2, 1)\n",
       " output2/bias has shape (1,)</title></line><rect x=\"124.0\" y=\"99\" width=\"52\" height=\"27\" style=\"fill:none;stroke:blue;stroke-width:2\"/><image id=\"XOR2_shared-hidden\" x=\"125.0\" y=\"100\" height=\"25\" width=\"50\" href=\"data:image/gif;base64,R0lGODdhMgAZAIAAAIiIiIqKiiwAAAAAMgAZAEAI/wABCBxIsKBBggESKlzIsOFCABAjSpxIUWKAixgzatyYEYDHjyBDigQZoKTJkyhTngTAsqXLlzBdBphJs6bNmzUB6NzJs6dPngGCCh1KtOhQAEiTKl3KVGmAp1CjSp0aFYDVq1izasUaoKvXr2DDfgVAtqzZs2jNBljLtq3bt20ByJ1Lt65dugHy6t3Lt+9eAIADCx5MWHCAw4gTK16cGIDjx5AjS4YcoLLly5gzXwbAubPnz6A9BxhNurTp06UBqF7NurVr1gFiy55Nu/ZsALhz697NW3eA38CDCx8eHIDx48iTK0ceoLnz59CjPwdAvbr169itB9jOvbv3790BiJEfT768efIB0qtfz779egDw48ufT19+gPv48+vfnx+Af4AABA4kWNAggAAJFS5k2HAhAIgRJU6kKDHARYwZNW7MCMDjR5AhRYIMUNLkSZQpTwJg2dLlS5guA8ykWdPmzZoAdO7k2dMnzwBBhQ4lWnQoAKRJlS5lqjTAU6hRpU6NCsDqVaxZtWIN0NXrV7BhvwYEADs=\"><title>Layer: shared-hidden (hidden)\n",
       " shape = 2\n",
       " Keras class = Dense\n",
       " activation = sigmoid</title></image><text x=\"180.0\" y=\"114.5\" font-family=\"Verdana\" font-size=\"12\">shared-hidden</text><rect x=\"91.66666666666667\" y=\"127\" width=\"58.33333333333333\" height=\"47\" style=\"fill:white;stroke:none\"><title>Weights from hidden1 to shared-hidden\n",
       " shared-hidden/kernel has shape (4, 2)\n",
       " shared-hidden/bias has shape (2,)</title></rect><line x1=\"91.66666666666667\" y1=\"174\" x2=\"150.0\" y2=\"127\" stroke=\"blue\" stroke-width=\"2\" marker-end=\"url(#arrow)\"><title>Weights from hidden1 to shared-hidden\n",
       " shared-hidden/kernel has shape (4, 2)\n",
       " shared-hidden/bias has shape (2,)</title></line><rect x=\"65.66666666666667\" y=\"174\" width=\"52\" height=\"27\" style=\"fill:none;stroke:blue;stroke-width:2\"/><image id=\"XOR2_hidden1\" x=\"66.66666666666667\" y=\"175\" height=\"25\" width=\"50\" href=\"data:image/gif;base64,R0lGODdhMgAZAIAAAH9/fwAAACwAAAAAMgAZAEAIOwABCBxIsKDBgwgTKlzIsKHDhxAjSpxIsaLFixgzatzIsaPHjyBDihxJsqTJkyhTqlzJsqXLlzBjZgwIADs=\"><title>Layer: hidden1 (hidden)\n",
       " shape = 2\n",
       " Keras class = Dense\n",
       " activation = sigmoid</title></image><text x=\"121.66666666666667\" y=\"189.5\" font-family=\"Verdana\" font-size=\"12\">hidden1</text><rect x=\"150.0\" y=\"127\" width=\"58.33333333333334\" height=\"47\" style=\"fill:white;stroke:none\"><title>Weights from hidden2 to shared-hidden\n",
       " shared-hidden/kernel has shape (4, 2)\n",
       " shared-hidden/bias has shape (2,)</title></rect><line x1=\"208.33333333333334\" y1=\"174\" x2=\"150.0\" y2=\"127\" stroke=\"blue\" stroke-width=\"2\" marker-end=\"url(#arrow)\"><title>Weights from hidden2 to shared-hidden\n",
       " shared-hidden/kernel has shape (4, 2)\n",
       " shared-hidden/bias has shape (2,)</title></line><rect x=\"182.33333333333334\" y=\"174\" width=\"52\" height=\"27\" style=\"fill:none;stroke:blue;stroke-width:2\"/><image id=\"XOR2_hidden2\" x=\"183.33333333333334\" y=\"175\" height=\"25\" width=\"50\" href=\"data:image/gif;base64,R0lGODdhMgAZAIAAAH9/fwAAACwAAAAAMgAZAEAIOwABCBxIsKDBgwgTKlzIsKHDhxAjSpxIsaLFixgzatzIsaPHjyBDihxJsqTJkyhTqlzJsqXLlzBjZgwIADs=\"><title>Layer: hidden2 (hidden)\n",
       " shape = 2\n",
       " Keras class = Dense\n",
       " activation = sigmoid</title></image><text x=\"238.33333333333334\" y=\"189.5\" font-family=\"Verdana\" font-size=\"12\">hidden2</text><rect x=\"81.66666666666667\" y=\"202\" width=\"24.166666666666657\" height=\"47\" style=\"fill:white;stroke:none\"><title>Weights from input1 to hidden1\n",
       " hidden1/kernel has shape (1, 2)\n",
       " hidden1/bias has shape (2,)</title></rect><line x1=\"95.83333333333333\" y1=\"249\" x2=\"91.66666666666667\" y2=\"202\" stroke=\"blue\" stroke-width=\"2\" marker-end=\"url(#arrow)\"><title>Weights from input1 to hidden1\n",
       " hidden1/kernel has shape (1, 2)\n",
       " hidden1/bias has shape (2,)</title></line><rect x=\"82.33333333333333\" y=\"249\" width=\"27\" height=\"27\" style=\"fill:none;stroke:blue;stroke-width:2\"/><image id=\"XOR2_input1\" x=\"83.33333333333333\" y=\"250\" height=\"25\" width=\"25\" href=\"data:image/gif;base64,R0lGODdhGQAZAIAAAH9/fwAAACwAAAAAGQAZAEAIKgABCBxIsKDBgwgTKlzIsKHDhxAjSpxIsaLFixgzatzIsaPHjyBDivQYEAA7\"><title>Layer: input1 (input)\n",
       " shape = 1\n",
       " Keras class = Input</title></image><text x=\"113.33333333333333\" y=\"264.5\" font-family=\"Verdana\" font-size=\"12\">input1</text><rect x=\"194.16666666666666\" y=\"202\" width=\"24.166666666666686\" height=\"47\" style=\"fill:white;stroke:none\"><title>Weights from input2 to hidden2\n",
       " hidden2/kernel has shape (1, 2)\n",
       " hidden2/bias has shape (2,)</title></rect><line x1=\"204.16666666666666\" y1=\"249\" x2=\"208.33333333333334\" y2=\"202\" stroke=\"blue\" stroke-width=\"2\" marker-end=\"url(#arrow)\"><title>Weights from input2 to hidden2\n",
       " hidden2/kernel has shape (1, 2)\n",
       " hidden2/bias has shape (2,)</title></line><rect x=\"190.66666666666666\" y=\"249\" width=\"27\" height=\"27\" style=\"fill:none;stroke:blue;stroke-width:2\"/><image id=\"XOR2_input2\" x=\"191.66666666666666\" y=\"250\" height=\"25\" width=\"25\" href=\"data:image/gif;base64,R0lGODdhGQAZAIAAAH9/fwAAACwAAAAAGQAZAEAIKgABCBxIsKDBgwgTKlzIsKHDhxAjSpxIsaLFixgzatzIsaPHjyBDivQYEAA7\"><title>Layer: input2 (input)\n",
       " shape = 1\n",
       " Keras class = Input</title></image><text x=\"221.66666666666666\" y=\"264.5\" font-family=\"Verdana\" font-size=\"12\">input2</text></svg>"
      ],
      "text/plain": [
       "<Network name='XOR2'>"
      ]
     },
     "execution_count": 6,
     "metadata": {},
     "output_type": "execute_result"
    }
   ],
   "source": [
    "net"
   ]
  },
  {
   "cell_type": "code",
   "execution_count": 7,
   "metadata": {
    "collapsed": true
   },
   "outputs": [],
   "source": [
    "for i in range(20):\n",
    "    (epoch_count, loss, acc, val_acc) = net.train(epochs=100, verbose=0)\n",
    "    for index in range(4):\n",
    "        net.propagate(dataset[index][0])"
   ]
  },
  {
   "cell_type": "markdown",
   "metadata": {},
   "source": [
    "# Conx model is a Keras Model"
   ]
  },
  {
   "cell_type": "code",
   "execution_count": 8,
   "metadata": {
    "collapsed": true
   },
   "outputs": [],
   "source": [
    "from keras.utils.vis_utils import model_to_dot\n",
    "from IPython.display import HTML"
   ]
  },
  {
   "cell_type": "code",
   "execution_count": 9,
   "metadata": {
    "collapsed": true
   },
   "outputs": [],
   "source": [
    "dot = model_to_dot(net.model)"
   ]
  },
  {
   "cell_type": "code",
   "execution_count": 10,
   "metadata": {},
   "outputs": [
    {
     "data": {
      "text/html": [
       "<?xml version=\"1.0\" encoding=\"UTF-8\" standalone=\"no\"?>\n",
       "<!DOCTYPE svg PUBLIC \"-//W3C//DTD SVG 1.1//EN\"\n",
       " \"http://www.w3.org/Graphics/SVG/1.1/DTD/svg11.dtd\">\n",
       "<!-- Generated by graphviz version 2.38.0 (20140413.2041)\n",
       " -->\n",
       "<!-- Title: G Pages: 1 -->\n",
       "<svg width=\"264pt\" height=\"337pt\"\n",
       " viewBox=\"0.00 0.00 264.00 337.00\" xmlns=\"http://www.w3.org/2000/svg\" xmlns:xlink=\"http://www.w3.org/1999/xlink\">\n",
       "<g id=\"graph0\" class=\"graph\" transform=\"scale(1 1) rotate(0) translate(4 333)\">\n",
       "<title>G</title>\n",
       "<polygon fill=\"white\" stroke=\"none\" points=\"-4,4 -4,-333 260,-333 260,4 -4,4\"/>\n",
       "<!-- 140398824381072 -->\n",
       "<g id=\"node1\" class=\"node\"><title>140398824381072</title>\n",
       "<polygon fill=\"none\" stroke=\"black\" points=\"0,-0.5 0,-36.5 119,-36.5 119,-0.5 0,-0.5\"/>\n",
       "<text text-anchor=\"middle\" x=\"59.5\" y=\"-14.8\" font-family=\"Times,serif\" font-size=\"14.00\">input1: InputLayer</text>\n",
       "</g>\n",
       "<!-- 140398814685616 -->\n",
       "<g id=\"node3\" class=\"node\"><title>140398814685616</title>\n",
       "<polygon fill=\"none\" stroke=\"black\" points=\"13,-73.5 13,-109.5 114,-109.5 114,-73.5 13,-73.5\"/>\n",
       "<text text-anchor=\"middle\" x=\"63.5\" y=\"-87.8\" font-family=\"Times,serif\" font-size=\"14.00\">hidden1: Dense</text>\n",
       "</g>\n",
       "<!-- 140398824381072&#45;&gt;140398814685616 -->\n",
       "<g id=\"edge1\" class=\"edge\"><title>140398824381072&#45;&gt;140398814685616</title>\n",
       "<path fill=\"none\" stroke=\"black\" d=\"M60.4683,-36.6871C60.9203,-44.7105 61.4692,-54.4525 61.975,-63.4309\"/>\n",
       "<polygon fill=\"black\" stroke=\"black\" points=\"58.4836,-63.6839 62.5406,-73.4712 65.4725,-63.2901 58.4836,-63.6839\"/>\n",
       "</g>\n",
       "<!-- 140398824379560 -->\n",
       "<g id=\"node2\" class=\"node\"><title>140398824379560</title>\n",
       "<polygon fill=\"none\" stroke=\"black\" points=\"137,-0.5 137,-36.5 256,-36.5 256,-0.5 137,-0.5\"/>\n",
       "<text text-anchor=\"middle\" x=\"196.5\" y=\"-14.8\" font-family=\"Times,serif\" font-size=\"14.00\">input2: InputLayer</text>\n",
       "</g>\n",
       "<!-- 140398824380680 -->\n",
       "<g id=\"node4\" class=\"node\"><title>140398824380680</title>\n",
       "<polygon fill=\"none\" stroke=\"black\" points=\"141,-73.5 141,-109.5 242,-109.5 242,-73.5 141,-73.5\"/>\n",
       "<text text-anchor=\"middle\" x=\"191.5\" y=\"-87.8\" font-family=\"Times,serif\" font-size=\"14.00\">hidden2: Dense</text>\n",
       "</g>\n",
       "<!-- 140398824379560&#45;&gt;140398824380680 -->\n",
       "<g id=\"edge2\" class=\"edge\"><title>140398824379560&#45;&gt;140398824380680</title>\n",
       "<path fill=\"none\" stroke=\"black\" d=\"M195.29,-36.6871C194.725,-44.7105 194.039,-54.4525 193.406,-63.4309\"/>\n",
       "<polygon fill=\"black\" stroke=\"black\" points=\"189.91,-63.25 192.699,-73.4712 196.893,-63.7418 189.91,-63.25\"/>\n",
       "</g>\n",
       "<!-- 140398817299480 -->\n",
       "<g id=\"node5\" class=\"node\"><title>140398817299480</title>\n",
       "<polygon fill=\"none\" stroke=\"black\" points=\"43.5,-146.5 43.5,-182.5 211.5,-182.5 211.5,-146.5 43.5,-146.5\"/>\n",
       "<text text-anchor=\"middle\" x=\"127.5\" y=\"-160.8\" font-family=\"Times,serif\" font-size=\"14.00\">concatenate_1: Concatenate</text>\n",
       "</g>\n",
       "<!-- 140398814685616&#45;&gt;140398817299480 -->\n",
       "<g id=\"edge3\" class=\"edge\"><title>140398814685616&#45;&gt;140398817299480</title>\n",
       "<path fill=\"none\" stroke=\"black\" d=\"M78.9926,-109.687C86.9325,-118.495 96.7394,-129.375 105.453,-139.042\"/>\n",
       "<polygon fill=\"black\" stroke=\"black\" points=\"102.855,-141.387 112.15,-146.471 108.054,-136.7 102.855,-141.387\"/>\n",
       "</g>\n",
       "<!-- 140398824380680&#45;&gt;140398817299480 -->\n",
       "<g id=\"edge4\" class=\"edge\"><title>140398824380680&#45;&gt;140398817299480</title>\n",
       "<path fill=\"none\" stroke=\"black\" d=\"M176.007,-109.687C168.068,-118.495 158.261,-129.375 149.547,-139.042\"/>\n",
       "<polygon fill=\"black\" stroke=\"black\" points=\"146.946,-136.7 142.85,-146.471 152.145,-141.387 146.946,-136.7\"/>\n",
       "</g>\n",
       "<!-- 140398814686120 -->\n",
       "<g id=\"node6\" class=\"node\"><title>140398814686120</title>\n",
       "<polygon fill=\"none\" stroke=\"black\" points=\"60.5,-219.5 60.5,-255.5 194.5,-255.5 194.5,-219.5 60.5,-219.5\"/>\n",
       "<text text-anchor=\"middle\" x=\"127.5\" y=\"-233.8\" font-family=\"Times,serif\" font-size=\"14.00\">shared&#45;hidden: Dense</text>\n",
       "</g>\n",
       "<!-- 140398817299480&#45;&gt;140398814686120 -->\n",
       "<g id=\"edge5\" class=\"edge\"><title>140398817299480&#45;&gt;140398814686120</title>\n",
       "<path fill=\"none\" stroke=\"black\" d=\"M127.5,-182.687C127.5,-190.711 127.5,-200.453 127.5,-209.431\"/>\n",
       "<polygon fill=\"black\" stroke=\"black\" points=\"124,-209.471 127.5,-219.471 131,-209.471 124,-209.471\"/>\n",
       "</g>\n",
       "<!-- 140398801559624 -->\n",
       "<g id=\"node7\" class=\"node\"><title>140398801559624</title>\n",
       "<polygon fill=\"none\" stroke=\"black\" points=\"20,-292.5 20,-328.5 119,-328.5 119,-292.5 20,-292.5\"/>\n",
       "<text text-anchor=\"middle\" x=\"69.5\" y=\"-306.8\" font-family=\"Times,serif\" font-size=\"14.00\">output1: Dense</text>\n",
       "</g>\n",
       "<!-- 140398814686120&#45;&gt;140398801559624 -->\n",
       "<g id=\"edge6\" class=\"edge\"><title>140398814686120&#45;&gt;140398801559624</title>\n",
       "<path fill=\"none\" stroke=\"black\" d=\"M113.46,-255.687C106.407,-264.321 97.7281,-274.945 89.9504,-284.466\"/>\n",
       "<polygon fill=\"black\" stroke=\"black\" points=\"87.0268,-282.512 83.4109,-292.471 92.4479,-286.941 87.0268,-282.512\"/>\n",
       "</g>\n",
       "<!-- 140398817296456 -->\n",
       "<g id=\"node8\" class=\"node\"><title>140398817296456</title>\n",
       "<polygon fill=\"none\" stroke=\"black\" points=\"137,-292.5 137,-328.5 236,-328.5 236,-292.5 137,-292.5\"/>\n",
       "<text text-anchor=\"middle\" x=\"186.5\" y=\"-306.8\" font-family=\"Times,serif\" font-size=\"14.00\">output2: Dense</text>\n",
       "</g>\n",
       "<!-- 140398814686120&#45;&gt;140398817296456 -->\n",
       "<g id=\"edge7\" class=\"edge\"><title>140398814686120&#45;&gt;140398817296456</title>\n",
       "<path fill=\"none\" stroke=\"black\" d=\"M141.782,-255.687C149.029,-264.408 157.964,-275.16 165.936,-284.754\"/>\n",
       "<polygon fill=\"black\" stroke=\"black\" points=\"163.266,-287.017 172.349,-292.471 168.65,-282.543 163.266,-287.017\"/>\n",
       "</g>\n",
       "</g>\n",
       "</svg>\n"
      ],
      "text/plain": [
       "<IPython.core.display.HTML object>"
      ]
     },
     "execution_count": 10,
     "metadata": {},
     "output_type": "execute_result"
    }
   ],
   "source": [
    "HTML(dot.create_svg().decode())"
   ]
  },
  {
   "cell_type": "code",
   "execution_count": null,
   "metadata": {
    "collapsed": true
   },
   "outputs": [],
   "source": []
  }
 ],
 "metadata": {
  "kernelspec": {
   "display_name": "Python 3",
   "language": "python",
   "name": "python3"
  },
  "language_info": {
   "codemirror_mode": {
    "name": "ipython",
    "version": 3
   },
   "file_extension": ".py",
   "mimetype": "text/x-python",
   "name": "python",
   "nbconvert_exporter": "python",
   "pygments_lexer": "ipython3",
   "version": "3.5.3"
  },
  "widgets": {
   "application/vnd.jupyter.widget-state+json": {
    "state": {
     "0662ceeb05bf4106a79628645c088d33": {
      "model_module": "jupyter-js-widgets",
      "model_module_version": "~2.1.4",
      "model_name": "ButtonStyleModel",
      "state": {
       "_model_module_version": "~2.1.4",
       "_view_module_version": "~2.1.4"
      }
     },
     "06691d175b474e889ac11f092441cb3e": {
      "model_module": "jupyter-js-widgets",
      "model_module_version": "~2.1.4",
      "model_name": "ButtonStyleModel",
      "state": {
       "_model_module_version": "~2.1.4",
       "_view_module_version": "~2.1.4"
      }
     },
     "09d96629fe2f4bbaa5dd321ddbc71e09": {
      "model_module": "jupyter-js-widgets",
      "model_module_version": "~2.1.4",
      "model_name": "ImageModel",
      "state": {
       "_b64value": "iVBORw0KGgoAAAANSUhEUgAAADIAAAAZCAYAAABzVH1EAAAAQ0lEQVR4nO3PUQ0AIAzE0IFN/KvgY6i4pSF9BpquPtWVduOF2vnEDEdoHKFxhMYRGkdoHKFxhMYRGkdoHKFxhOabkQfsWQOGid5ZYAAAAABJRU5ErkJggg==",
       "_model_module_version": "~2.1.4",
       "_view_module_version": "~2.1.4",
       "layout": "IPY_MODEL_2ee01cfd94074e3b9235a2eb81e3761c"
      }
     },
     "0a915674e2dc44b9aebf61e1693ab72b": {
      "model_module": "jupyter-js-widgets",
      "model_module_version": "~2.1.4",
      "model_name": "LayoutModel",
      "state": {
       "_model_module_version": "~2.1.4",
       "_view_module_version": "~2.1.4"
      }
     },
     "0af2f12b77084930bfc71ef09c72b20f": {
      "model_module": "jupyter-js-widgets",
      "model_module_version": "~2.1.4",
      "model_name": "ButtonModel",
      "state": {
       "_model_module_version": "~2.1.4",
       "_view_module_version": "~2.1.4",
       "description": "Next",
       "layout": "IPY_MODEL_b065dd7be0d14060bdc8ba816dac75fb",
       "style": "IPY_MODEL_06691d175b474e889ac11f092441cb3e"
      }
     },
     "127a22ba47bc43f88821164423a46549": {
      "model_module": "jupyter-js-widgets",
      "model_module_version": "~2.1.4",
      "model_name": "AccordionModel",
      "state": {
       "_model_module_version": "~2.1.4",
       "_titles": {
        "0": "input1"
       },
       "_view_module_version": "~2.1.4",
       "children": [
        "IPY_MODEL_b269a750b06546c19cb3445b1dfc7957"
       ],
       "layout": "IPY_MODEL_0a915674e2dc44b9aebf61e1693ab72b"
      }
     },
     "1379da532a65475f93c359bb3ff8f421": {
      "model_module": "jupyter-js-widgets",
      "model_module_version": "~2.1.4",
      "model_name": "LayoutModel",
      "state": {
       "_model_module_version": "~2.1.4",
       "_view_module_version": "~2.1.4",
       "border": "2px solid blue"
      }
     },
     "16d10d0e326b477488e65f00bdf9f527": {
      "model_module": "jupyter-js-widgets",
      "model_module_version": "~2.1.4",
      "model_name": "LayoutModel",
      "state": {
       "_model_module_version": "~2.1.4",
       "_view_module_version": "~2.1.4",
       "border": "2px solid blue"
      }
     },
     "180d6092132c4dda9bd7f8b15c3c694e": {
      "model_module": "jupyter-js-widgets",
      "model_module_version": "~2.1.4",
      "model_name": "AccordionModel",
      "state": {
       "_model_module_version": "~2.1.4",
       "_titles": {
        "0": "output1"
       },
       "_view_module_version": "~2.1.4",
       "children": [
        "IPY_MODEL_b3273ecfdc874d9e8c50c10b98e327ce"
       ],
       "layout": "IPY_MODEL_1f307b971537466eac2a8e677df40c1e"
      }
     },
     "1a22ad2fab494465a49f24379d56f8df": {
      "model_module": "jupyter-js-widgets",
      "model_module_version": "~2.1.4",
      "model_name": "AccordionModel",
      "state": {
       "_model_module_version": "~2.1.4",
       "_titles": {
        "0": "shared-hidden"
       },
       "_view_module_version": "~2.1.4",
       "children": [
        "IPY_MODEL_c6982262f1af4d39b4a7c0c551e991ed"
       ],
       "layout": "IPY_MODEL_1c136e4ce87d4f8cbf7aa40a77bcfafe"
      }
     },
     "1c136e4ce87d4f8cbf7aa40a77bcfafe": {
      "model_module": "jupyter-js-widgets",
      "model_module_version": "~2.1.4",
      "model_name": "LayoutModel",
      "state": {
       "_model_module_version": "~2.1.4",
       "_view_module_version": "~2.1.4"
      }
     },
     "1f307b971537466eac2a8e677df40c1e": {
      "model_module": "jupyter-js-widgets",
      "model_module_version": "~2.1.4",
      "model_name": "LayoutModel",
      "state": {
       "_model_module_version": "~2.1.4",
       "_view_module_version": "~2.1.4"
      }
     },
     "2a2afcc2ec0146508e0c6b5fefd6413a": {
      "model_module": "jupyter-js-widgets",
      "model_module_version": "~2.1.4",
      "model_name": "LayoutModel",
      "state": {
       "_model_module_version": "~2.1.4",
       "_view_module_version": "~2.1.4"
      }
     },
     "2bba529eb48548fca16c7302e63ac86d": {
      "model_module": "jupyter-js-widgets",
      "model_module_version": "~2.1.4",
      "model_name": "LayoutModel",
      "state": {
       "_model_module_version": "~2.1.4",
       "_view_module_version": "~2.1.4"
      }
     },
     "2ea6ad8a61a04fca83e20eadddd5b2f2": {
      "model_module": "jupyter-js-widgets",
      "model_module_version": "~2.1.4",
      "model_name": "LayoutModel",
      "state": {
       "_model_module_version": "~2.1.4",
       "_view_module_version": "~2.1.4"
      }
     },
     "2ee01cfd94074e3b9235a2eb81e3761c": {
      "model_module": "jupyter-js-widgets",
      "model_module_version": "~2.1.4",
      "model_name": "LayoutModel",
      "state": {
       "_model_module_version": "~2.1.4",
       "_view_module_version": "~2.1.4",
       "border": "2px solid blue"
      }
     },
     "2ee2c8e9de9342a5818f7f27c266d774": {
      "model_module": "jupyter-js-widgets",
      "model_module_version": "~2.1.4",
      "model_name": "LayoutModel",
      "state": {
       "_model_module_version": "~2.1.4",
       "_view_module_version": "~2.1.4"
      }
     },
     "31a8e7effec646f985dedd185dae50a4": {
      "model_module": "jupyter-js-widgets",
      "model_module_version": "~2.1.4",
      "model_name": "AccordionModel",
      "state": {
       "_model_module_version": "~2.1.4",
       "_titles": {
        "0": "output2"
       },
       "_view_module_version": "~2.1.4",
       "children": [
        "IPY_MODEL_658bee53488b49568155049429ea0ece"
       ],
       "layout": "IPY_MODEL_d9533289a30c445694ce51061bb8f54a"
      }
     },
     "31e4ba31d3014d5ba035f62e15b961be": {
      "model_module": "jupyter-js-widgets",
      "model_module_version": "~2.1.4",
      "model_name": "LayoutModel",
      "state": {
       "_model_module_version": "~2.1.4",
       "_view_module_version": "~2.1.4"
      }
     },
     "32492bd4221e4ffbbd85588811bbbbc9": {
      "model_module": "jupyter-js-widgets",
      "model_module_version": "~2.1.4",
      "model_name": "ButtonModel",
      "state": {
       "_model_module_version": "~2.1.4",
       "_view_module_version": "~2.1.4",
       "description": "Previous",
       "layout": "IPY_MODEL_694b58c690404f28a8091e139dd88be4",
       "style": "IPY_MODEL_ee164a22a5bb44ed845127484bdb16f1"
      }
     },
     "32d7d0f7c5fc4c0dba88ba7e63bfd183": {
      "model_module": "jupyter-js-widgets",
      "model_module_version": "~2.1.4",
      "model_name": "LayoutModel",
      "state": {
       "_model_module_version": "~2.1.4",
       "_view_module_version": "~2.1.4",
       "border": "2px solid blue"
      }
     },
     "3aa2fe14e28041419c175a88c0d9434e": {
      "model_module": "jupyter-js-widgets",
      "model_module_version": "~2.1.4",
      "model_name": "ButtonModel",
      "state": {
       "_model_module_version": "~2.1.4",
       "_view_module_version": "~2.1.4",
       "description": "Previous",
       "layout": "IPY_MODEL_f17819c55b144a42b199889d3e07a0ba",
       "style": "IPY_MODEL_eb63f9c20b134a8d8da0acbe8e5f673f"
      }
     },
     "3ff14b3c9f514c5c8318793f4eb3aeaf": {
      "model_module": "jupyter-js-widgets",
      "model_module_version": "~2.1.4",
      "model_name": "AccordionModel",
      "state": {
       "_model_module_version": "~2.1.4",
       "_titles": {
        "0": "input2"
       },
       "_view_module_version": "~2.1.4",
       "children": [
        "IPY_MODEL_480d46ac774242f785e6c9f4f4e8286d"
       ],
       "layout": "IPY_MODEL_2a2afcc2ec0146508e0c6b5fefd6413a"
      }
     },
     "401b120b45494d29a05c497a55d0c8ec": {
      "model_module": "jupyter-js-widgets",
      "model_module_version": "~2.1.4",
      "model_name": "ButtonModel",
      "state": {
       "_model_module_version": "~2.1.4",
       "_view_module_version": "~2.1.4",
       "description": "Next",
       "layout": "IPY_MODEL_b4c810c09d5242edba53978dbbf1b611",
       "style": "IPY_MODEL_70625f01f4044a2eae3fc5ba75ed7d0d"
      }
     },
     "43b851c817084a35921811997dd4474f": {
      "model_module": "jupyter-js-widgets",
      "model_module_version": "~2.1.4",
      "model_name": "ButtonModel",
      "state": {
       "_model_module_version": "~2.1.4",
       "_view_module_version": "~2.1.4",
       "description": "Next",
       "layout": "IPY_MODEL_944f3b9ea2d64588b8f7357f32edd1ad",
       "style": "IPY_MODEL_f3fdb9fa8e1142479f48deffebe33383"
      }
     },
     "4418224ad6494496b1949517fc3ecfbe": {
      "model_module": "jupyter-js-widgets",
      "model_module_version": "~2.1.4",
      "model_name": "LayoutModel",
      "state": {
       "_model_module_version": "~2.1.4",
       "_view_module_version": "~2.1.4"
      }
     },
     "45728196e7614f3990e4c41aaf43d898": {
      "model_module": "jupyter-js-widgets",
      "model_module_version": "~2.1.4",
      "model_name": "LayoutModel",
      "state": {
       "_model_module_version": "~2.1.4",
       "_view_module_version": "~2.1.4"
      }
     },
     "480d46ac774242f785e6c9f4f4e8286d": {
      "model_module": "jupyter-js-widgets",
      "model_module_version": "~2.1.4",
      "model_name": "ImageModel",
      "state": {
       "_b64value": "iVBORw0KGgoAAAANSUhEUgAAABkAAAAZCAYAAADE6YVjAAAAKUlEQVR4nO3NQQEAIAwAodOW9g8yU+wHBTjzmpbd7UAikUgkEolEUtUHEEgCidGfV+4AAAAASUVORK5CYII=",
       "_model_module_version": "~2.1.4",
       "_view_module_version": "~2.1.4",
       "layout": "IPY_MODEL_16d10d0e326b477488e65f00bdf9f527"
      }
     },
     "49e51db8f3cd4f05ad275c042d490898": {
      "model_module": "jupyter-js-widgets",
      "model_module_version": "~2.1.4",
      "model_name": "ButtonModel",
      "state": {
       "_model_module_version": "~2.1.4",
       "_view_module_version": "~2.1.4",
       "description": "Previous",
       "layout": "IPY_MODEL_fc74fcd5e3114f2ab21375f57ac9d385",
       "style": "IPY_MODEL_0662ceeb05bf4106a79628645c088d33"
      }
     },
     "4bc64fefe5b3470380d21face356cb67": {
      "model_module": "jupyter-js-widgets",
      "model_module_version": "~2.1.4",
      "model_name": "LayoutModel",
      "state": {
       "_model_module_version": "~2.1.4",
       "_view_module_version": "~2.1.4",
       "border": "2px solid blue"
      }
     },
     "567ba613f71749f089a9287c9796cdee": {
      "model_module": "jupyter-js-widgets",
      "model_module_version": "~2.1.4",
      "model_name": "ButtonModel",
      "state": {
       "_model_module_version": "~2.1.4",
       "_view_module_version": "~2.1.4",
       "description": "Previous",
       "layout": "IPY_MODEL_2ee2c8e9de9342a5818f7f27c266d774",
       "style": "IPY_MODEL_71292c8e087348baa4c310ca7d3e28b9"
      }
     },
     "5856b2d9e8004b54a5d3fac11d80b93a": {
      "model_module": "jupyter-js-widgets",
      "model_module_version": "~2.1.4",
      "model_name": "ButtonModel",
      "state": {
       "_model_module_version": "~2.1.4",
       "_view_module_version": "~2.1.4",
       "description": "Next",
       "layout": "IPY_MODEL_4418224ad6494496b1949517fc3ecfbe",
       "style": "IPY_MODEL_711c231187d647f2a093b4d770dc0111"
      }
     },
     "59fa364694f244c4b882ac1c39beafa5": {
      "model_module": "jupyter-js-widgets",
      "model_module_version": "~2.1.4",
      "model_name": "LayoutModel",
      "state": {
       "_model_module_version": "~2.1.4",
       "_view_module_version": "~2.1.4",
       "border": "2px solid blue"
      }
     },
     "61ef4856c3d7437091957032a14820ca": {
      "model_module": "jupyter-js-widgets",
      "model_module_version": "~2.1.4",
      "model_name": "ButtonModel",
      "state": {
       "_model_module_version": "~2.1.4",
       "_view_module_version": "~2.1.4",
       "description": "Previous",
       "layout": "IPY_MODEL_8e512ac3925044ebb31ef5af67a4cec8",
       "style": "IPY_MODEL_98559582ac7e4ad6b563ecc109e8b558"
      }
     },
     "630f3b282c3c44c8bc2a866dd97c8800": {
      "model_module": "jupyter-js-widgets",
      "model_module_version": "~2.1.4",
      "model_name": "AccordionModel",
      "state": {
       "_model_module_version": "~2.1.4",
       "_titles": {
        "0": "output2"
       },
       "_view_module_version": "~2.1.4",
       "children": [
        "IPY_MODEL_b6f6bb104d9849738e1bb65f541fe4f2"
       ],
       "layout": "IPY_MODEL_2ea6ad8a61a04fca83e20eadddd5b2f2"
      }
     },
     "64ba47e5defe401ca7b03b43e2eab7f4": {
      "model_module": "jupyter-js-widgets",
      "model_module_version": "~2.1.4",
      "model_name": "ImageModel",
      "state": {
       "_b64value": "iVBORw0KGgoAAAANSUhEUgAAABkAAAAZCAYAAADE6YVjAAAAKUlEQVR4nO3NQQEAIAwAodOW9g8yU+wHBTjzmpbd7UAikUgkEolEUtUHEEgCidGfV+4AAAAASUVORK5CYII=",
       "_model_module_version": "~2.1.4",
       "_view_module_version": "~2.1.4",
       "layout": "IPY_MODEL_59fa364694f244c4b882ac1c39beafa5"
      }
     },
     "650f9d732bf4487bb392952d76cc7da1": {
      "model_module": "jupyter-js-widgets",
      "model_module_version": "~2.1.4",
      "model_name": "ButtonModel",
      "state": {
       "_model_module_version": "~2.1.4",
       "_view_module_version": "~2.1.4",
       "description": "Next",
       "layout": "IPY_MODEL_2bba529eb48548fca16c7302e63ac86d",
       "style": "IPY_MODEL_8ecd80940a57482291b1fb4367f81070"
      }
     },
     "6568f0e463154ca7aed433dee70aec5a": {
      "model_module": "jupyter-js-widgets",
      "model_module_version": "~2.1.4",
      "model_name": "AccordionModel",
      "state": {
       "_model_module_version": "~2.1.4",
       "_titles": {
        "0": "shared-hidden"
       },
       "_view_module_version": "~2.1.4",
       "children": [
        "IPY_MODEL_86464e748fc34280802a6c47319ff4d2"
       ],
       "layout": "IPY_MODEL_ce304d07e1a645d59a8bf5a1e6412697"
      }
     },
     "658715cce50f4e68b580fbec8e2609ac": {
      "model_module": "jupyter-js-widgets",
      "model_module_version": "~2.1.4",
      "model_name": "LayoutModel",
      "state": {
       "_model_module_version": "~2.1.4",
       "_view_module_version": "~2.1.4",
       "border": "2px solid blue"
      }
     },
     "658bee53488b49568155049429ea0ece": {
      "model_module": "jupyter-js-widgets",
      "model_module_version": "~2.1.4",
      "model_name": "ImageModel",
      "state": {
       "_b64value": "iVBORw0KGgoAAAANSUhEUgAAABkAAAAZCAYAAADE6YVjAAAAKUlEQVR4nO3NQQEAIAwAodOW9g8yU+wHBTjzmpbd7UAikUgkEolEUtUHEEgCidGfV+4AAAAASUVORK5CYII=",
       "_model_module_version": "~2.1.4",
       "_view_module_version": "~2.1.4",
       "layout": "IPY_MODEL_88383ba9faed48659a9776dae5677640"
      }
     },
     "65ca981298ba4facb4c50b960653a984": {
      "model_module": "jupyter-js-widgets",
      "model_module_version": "~2.1.4",
      "model_name": "ButtonStyleModel",
      "state": {
       "_model_module_version": "~2.1.4",
       "_view_module_version": "~2.1.4"
      }
     },
     "666f1764d2654d56939a930ff03f4a66": {
      "model_module": "jupyter-js-widgets",
      "model_module_version": "~2.1.4",
      "model_name": "ButtonModel",
      "state": {
       "_model_module_version": "~2.1.4",
       "_view_module_version": "~2.1.4",
       "description": "Next",
       "layout": "IPY_MODEL_31e4ba31d3014d5ba035f62e15b961be",
       "style": "IPY_MODEL_65ca981298ba4facb4c50b960653a984"
      }
     },
     "694b58c690404f28a8091e139dd88be4": {
      "model_module": "jupyter-js-widgets",
      "model_module_version": "~2.1.4",
      "model_name": "LayoutModel",
      "state": {
       "_model_module_version": "~2.1.4",
       "_view_module_version": "~2.1.4"
      }
     },
     "6dd1a55b5d804ea8a1406bc0736bc46e": {
      "model_module": "jupyter-js-widgets",
      "model_module_version": "~2.1.4",
      "model_name": "ButtonStyleModel",
      "state": {
       "_model_module_version": "~2.1.4",
       "_view_module_version": "~2.1.4"
      }
     },
     "70625f01f4044a2eae3fc5ba75ed7d0d": {
      "model_module": "jupyter-js-widgets",
      "model_module_version": "~2.1.4",
      "model_name": "ButtonStyleModel",
      "state": {
       "_model_module_version": "~2.1.4",
       "_view_module_version": "~2.1.4"
      }
     },
     "70bf1a5d82b04d90abbe6cc79c5b6cc3": {
      "model_module": "jupyter-js-widgets",
      "model_module_version": "~2.1.4",
      "model_name": "AccordionModel",
      "state": {
       "_model_module_version": "~2.1.4",
       "_titles": {
        "0": "hidden1"
       },
       "_view_module_version": "~2.1.4",
       "children": [
        "IPY_MODEL_e8c498689a3e49779bc11b01a53f2b2d"
       ],
       "layout": "IPY_MODEL_beda827ab4ab44ed97b77580fa918ff3"
      }
     },
     "711c231187d647f2a093b4d770dc0111": {
      "model_module": "jupyter-js-widgets",
      "model_module_version": "~2.1.4",
      "model_name": "ButtonStyleModel",
      "state": {
       "_model_module_version": "~2.1.4",
       "_view_module_version": "~2.1.4"
      }
     },
     "71292c8e087348baa4c310ca7d3e28b9": {
      "model_module": "jupyter-js-widgets",
      "model_module_version": "~2.1.4",
      "model_name": "ButtonStyleModel",
      "state": {
       "_model_module_version": "~2.1.4",
       "_view_module_version": "~2.1.4"
      }
     },
     "777fc1c0dfca48468bed71140d714169": {
      "model_module": "jupyter-js-widgets",
      "model_module_version": "~2.1.4",
      "model_name": "LayoutModel",
      "state": {
       "_model_module_version": "~2.1.4",
       "_view_module_version": "~2.1.4",
       "border": "2px solid blue"
      }
     },
     "79aca523d5ae4a1abd46b520e52388de": {
      "model_module": "jupyter-js-widgets",
      "model_module_version": "~2.1.4",
      "model_name": "LayoutModel",
      "state": {
       "_model_module_version": "~2.1.4",
       "_view_module_version": "~2.1.4",
       "border": "2px solid blue"
      }
     },
     "7b7fc1cf9a3e480c99006b5f4a738e7d": {
      "model_module": "jupyter-js-widgets",
      "model_module_version": "~2.1.4",
      "model_name": "LayoutModel",
      "state": {
       "_model_module_version": "~2.1.4",
       "_view_module_version": "~2.1.4",
       "border": "2px solid blue"
      }
     },
     "86464e748fc34280802a6c47319ff4d2": {
      "model_module": "jupyter-js-widgets",
      "model_module_version": "~2.1.4",
      "model_name": "ImageModel",
      "state": {
       "_b64value": "iVBORw0KGgoAAAANSUhEUgAAADIAAAAZCAYAAABzVH1EAAAARElEQVR4nO3PAQ0AIAzEwAcluEYeUpiKkYb0DDQdJ7lptnZ3IZn9iTccoXGExhEaR2gcoXGExhEaR2gcoXGExhGab0YKYnYCx0pTE/oAAAAASUVORK5CYII=",
       "_model_module_version": "~2.1.4",
       "_view_module_version": "~2.1.4",
       "layout": "IPY_MODEL_1379da532a65475f93c359bb3ff8f421"
      }
     },
     "88383ba9faed48659a9776dae5677640": {
      "model_module": "jupyter-js-widgets",
      "model_module_version": "~2.1.4",
      "model_name": "LayoutModel",
      "state": {
       "_model_module_version": "~2.1.4",
       "_view_module_version": "~2.1.4",
       "border": "2px solid blue"
      }
     },
     "8be47bac086a4fff9acd9d707cf70c9a": {
      "model_module": "jupyter-js-widgets",
      "model_module_version": "~2.1.4",
      "model_name": "LayoutModel",
      "state": {
       "_model_module_version": "~2.1.4",
       "_view_module_version": "~2.1.4"
      }
     },
     "8e512ac3925044ebb31ef5af67a4cec8": {
      "model_module": "jupyter-js-widgets",
      "model_module_version": "~2.1.4",
      "model_name": "LayoutModel",
      "state": {
       "_model_module_version": "~2.1.4",
       "_view_module_version": "~2.1.4"
      }
     },
     "8ecd80940a57482291b1fb4367f81070": {
      "model_module": "jupyter-js-widgets",
      "model_module_version": "~2.1.4",
      "model_name": "ButtonStyleModel",
      "state": {
       "_model_module_version": "~2.1.4",
       "_view_module_version": "~2.1.4"
      }
     },
     "944f3b9ea2d64588b8f7357f32edd1ad": {
      "model_module": "jupyter-js-widgets",
      "model_module_version": "~2.1.4",
      "model_name": "LayoutModel",
      "state": {
       "_model_module_version": "~2.1.4",
       "_view_module_version": "~2.1.4"
      }
     },
     "965da9c01dff47c1b95ec1b6e5652a86": {
      "model_module": "jupyter-js-widgets",
      "model_module_version": "~2.1.4",
      "model_name": "LayoutModel",
      "state": {
       "_model_module_version": "~2.1.4",
       "_view_module_version": "~2.1.4",
       "border": "2px solid blue"
      }
     },
     "97ebb2b7fd414c3cbef3486c2a9c763b": {
      "model_module": "jupyter-js-widgets",
      "model_module_version": "~2.1.4",
      "model_name": "ButtonModel",
      "state": {
       "_model_module_version": "~2.1.4",
       "_view_module_version": "~2.1.4",
       "description": "Next",
       "layout": "IPY_MODEL_f41bb88f18cf437390587e89f73b3bfc",
       "style": "IPY_MODEL_cd584922b7b74a778fcc84c7c1142571"
      }
     },
     "98559582ac7e4ad6b563ecc109e8b558": {
      "model_module": "jupyter-js-widgets",
      "model_module_version": "~2.1.4",
      "model_name": "ButtonStyleModel",
      "state": {
       "_model_module_version": "~2.1.4",
       "_view_module_version": "~2.1.4"
      }
     },
     "9bef262601344bc2a15e6d58c2aabd26": {
      "model_module": "jupyter-js-widgets",
      "model_module_version": "~2.1.4",
      "model_name": "AccordionModel",
      "state": {
       "_model_module_version": "~2.1.4",
       "_titles": {
        "0": "hidden1"
       },
       "_view_module_version": "~2.1.4",
       "children": [
        "IPY_MODEL_ee316a266eab467ca105437915ced3e2"
       ],
       "layout": "IPY_MODEL_8be47bac086a4fff9acd9d707cf70c9a"
      }
     },
     "a1bfb2464806444c951b2d00b69ec343": {
      "model_module": "jupyter-js-widgets",
      "model_module_version": "~2.1.4",
      "model_name": "AccordionModel",
      "state": {
       "_model_module_version": "~2.1.4",
       "_titles": {
        "0": "output1"
       },
       "_view_module_version": "~2.1.4",
       "children": [
        "IPY_MODEL_f1f1c2d8acf5450ea6693c0019715ad3"
       ],
       "layout": "IPY_MODEL_ba147842418143d9b5bf4dd0c46e31fe"
      }
     },
     "a73dfde0d6c74082b79dc53591c74e19": {
      "model_module": "jupyter-js-widgets",
      "model_module_version": "~2.1.4",
      "model_name": "LayoutModel",
      "state": {
       "_model_module_version": "~2.1.4",
       "_view_module_version": "~2.1.4"
      }
     },
     "ab688fcda5d4458eb1567b3f403d7ca0": {
      "model_module": "jupyter-js-widgets",
      "model_module_version": "~2.1.4",
      "model_name": "LayoutModel",
      "state": {
       "_model_module_version": "~2.1.4",
       "_view_module_version": "~2.1.4"
      }
     },
     "b01f055f90da4390af0426349bb3fd28": {
      "model_module": "jupyter-js-widgets",
      "model_module_version": "~2.1.4",
      "model_name": "ImageModel",
      "state": {
       "_b64value": "iVBORw0KGgoAAAANSUhEUgAAABkAAAAZCAYAAADE6YVjAAAAKUlEQVR4nO3NQQEAIAwAodOW9g8yU+wHBTjzmpbd7UAikUgkEolEUtUHEEgCidGfV+4AAAAASUVORK5CYII=",
       "_model_module_version": "~2.1.4",
       "_view_module_version": "~2.1.4",
       "layout": "IPY_MODEL_79aca523d5ae4a1abd46b520e52388de"
      }
     },
     "b065dd7be0d14060bdc8ba816dac75fb": {
      "model_module": "jupyter-js-widgets",
      "model_module_version": "~2.1.4",
      "model_name": "LayoutModel",
      "state": {
       "_model_module_version": "~2.1.4",
       "_view_module_version": "~2.1.4"
      }
     },
     "b269a750b06546c19cb3445b1dfc7957": {
      "model_module": "jupyter-js-widgets",
      "model_module_version": "~2.1.4",
      "model_name": "ImageModel",
      "state": {
       "_b64value": "iVBORw0KGgoAAAANSUhEUgAAABkAAAAZCAYAAADE6YVjAAAAKUlEQVR4nO3NQQEAIAwAodOW9g8yU+wHBTjzmpbd7UAikUgkEolEUtUHEEgCidGfV+4AAAAASUVORK5CYII=",
       "_model_module_version": "~2.1.4",
       "_view_module_version": "~2.1.4",
       "layout": "IPY_MODEL_4bc64fefe5b3470380d21face356cb67"
      }
     },
     "b3273ecfdc874d9e8c50c10b98e327ce": {
      "model_module": "jupyter-js-widgets",
      "model_module_version": "~2.1.4",
      "model_name": "ImageModel",
      "state": {
       "_b64value": "iVBORw0KGgoAAAANSUhEUgAAABkAAAAZCAYAAADE6YVjAAAAKUlEQVR4nO3NQQEAIAwAodOW9g8yU+wHBTjzmpbd7UAikUgkEolEUtUHEEgCidGfV+4AAAAASUVORK5CYII=",
       "_model_module_version": "~2.1.4",
       "_view_module_version": "~2.1.4",
       "layout": "IPY_MODEL_32d7d0f7c5fc4c0dba88ba7e63bfd183"
      }
     },
     "b4c810c09d5242edba53978dbbf1b611": {
      "model_module": "jupyter-js-widgets",
      "model_module_version": "~2.1.4",
      "model_name": "LayoutModel",
      "state": {
       "_model_module_version": "~2.1.4",
       "_view_module_version": "~2.1.4"
      }
     },
     "b6f6bb104d9849738e1bb65f541fe4f2": {
      "model_module": "jupyter-js-widgets",
      "model_module_version": "~2.1.4",
      "model_name": "ImageModel",
      "state": {
       "_b64value": "iVBORw0KGgoAAAANSUhEUgAAABkAAAAZCAYAAADE6YVjAAAAKUlEQVR4nO3NQQEAIAwAodOW9g8yU+wHBTjzmpbd7UAikUgkEolEUtUHEEgCidGfV+4AAAAASUVORK5CYII=",
       "_model_module_version": "~2.1.4",
       "_view_module_version": "~2.1.4",
       "layout": "IPY_MODEL_7b7fc1cf9a3e480c99006b5f4a738e7d"
      }
     },
     "ba147842418143d9b5bf4dd0c46e31fe": {
      "model_module": "jupyter-js-widgets",
      "model_module_version": "~2.1.4",
      "model_name": "LayoutModel",
      "state": {
       "_model_module_version": "~2.1.4",
       "_view_module_version": "~2.1.4"
      }
     },
     "beda827ab4ab44ed97b77580fa918ff3": {
      "model_module": "jupyter-js-widgets",
      "model_module_version": "~2.1.4",
      "model_name": "LayoutModel",
      "state": {
       "_model_module_version": "~2.1.4",
       "_view_module_version": "~2.1.4"
      }
     },
     "c0d05c305c6b46e8a5f3ebeb26013a71": {
      "model_module": "jupyter-js-widgets",
      "model_module_version": "~2.1.4",
      "model_name": "LayoutModel",
      "state": {
       "_model_module_version": "~2.1.4",
       "_view_module_version": "~2.1.4"
      }
     },
     "c2633f8ed5a043378ea0242b223ed872": {
      "model_module": "jupyter-js-widgets",
      "model_module_version": "~2.1.4",
      "model_name": "ButtonModel",
      "state": {
       "_model_module_version": "~2.1.4",
       "_view_module_version": "~2.1.4",
       "description": "Previous",
       "layout": "IPY_MODEL_a73dfde0d6c74082b79dc53591c74e19",
       "style": "IPY_MODEL_c4de94b270de48d4a0fddeecd8b9900c"
      }
     },
     "c4de94b270de48d4a0fddeecd8b9900c": {
      "model_module": "jupyter-js-widgets",
      "model_module_version": "~2.1.4",
      "model_name": "ButtonStyleModel",
      "state": {
       "_model_module_version": "~2.1.4",
       "_view_module_version": "~2.1.4"
      }
     },
     "c6982262f1af4d39b4a7c0c551e991ed": {
      "model_module": "jupyter-js-widgets",
      "model_module_version": "~2.1.4",
      "model_name": "ImageModel",
      "state": {
       "_b64value": "iVBORw0KGgoAAAANSUhEUgAAADIAAAAZCAYAAABzVH1EAAAARElEQVR4nO3PAQ0AIAzEwAcluEYeUpiKkYb0DDQdJ7lptnZ3IZn9iTccoXGExhEaR2gcoXGExhEaR2gcoXGExhGab0YKYnYCx0pTE/oAAAAASUVORK5CYII=",
       "_model_module_version": "~2.1.4",
       "_view_module_version": "~2.1.4",
       "layout": "IPY_MODEL_777fc1c0dfca48468bed71140d714169"
      }
     },
     "c709b547ca7449568153f79cddc6a1d9": {
      "model_module": "jupyter-js-widgets",
      "model_module_version": "~2.1.4",
      "model_name": "AccordionModel",
      "state": {
       "_model_module_version": "~2.1.4",
       "_titles": {
        "0": "input2"
       },
       "_view_module_version": "~2.1.4",
       "children": [
        "IPY_MODEL_64ba47e5defe401ca7b03b43e2eab7f4"
       ],
       "layout": "IPY_MODEL_ab688fcda5d4458eb1567b3f403d7ca0"
      }
     },
     "ccc2f1827e184fb884c4e1bd4cd47346": {
      "model_module": "jupyter-js-widgets",
      "model_module_version": "~2.1.4",
      "model_name": "LayoutModel",
      "state": {
       "_model_module_version": "~2.1.4",
       "_view_module_version": "~2.1.4",
       "border": "2px solid blue"
      }
     },
     "ccd2688a5ceb4daca341336d33efca96": {
      "model_module": "jupyter-js-widgets",
      "model_module_version": "~2.1.4",
      "model_name": "LayoutModel",
      "state": {
       "_model_module_version": "~2.1.4",
       "_view_module_version": "~2.1.4"
      }
     },
     "cd584922b7b74a778fcc84c7c1142571": {
      "model_module": "jupyter-js-widgets",
      "model_module_version": "~2.1.4",
      "model_name": "ButtonStyleModel",
      "state": {
       "_model_module_version": "~2.1.4",
       "_view_module_version": "~2.1.4"
      }
     },
     "ce304d07e1a645d59a8bf5a1e6412697": {
      "model_module": "jupyter-js-widgets",
      "model_module_version": "~2.1.4",
      "model_name": "LayoutModel",
      "state": {
       "_model_module_version": "~2.1.4",
       "_view_module_version": "~2.1.4"
      }
     },
     "d39d5eb14bc54503bc0ac6466f669ad7": {
      "model_module": "jupyter-js-widgets",
      "model_module_version": "~2.1.4",
      "model_name": "LayoutModel",
      "state": {
       "_model_module_version": "~2.1.4",
       "_view_module_version": "~2.1.4"
      }
     },
     "d50ba38b9cd748b2b076f0f606833ea4": {
      "model_module": "jupyter-js-widgets",
      "model_module_version": "~2.1.4",
      "model_name": "AccordionModel",
      "state": {
       "_model_module_version": "~2.1.4",
       "_titles": {
        "0": "hidden2"
       },
       "_view_module_version": "~2.1.4",
       "children": [
        "IPY_MODEL_09d96629fe2f4bbaa5dd321ddbc71e09"
       ],
       "layout": "IPY_MODEL_d39d5eb14bc54503bc0ac6466f669ad7"
      }
     },
     "d9533289a30c445694ce51061bb8f54a": {
      "model_module": "jupyter-js-widgets",
      "model_module_version": "~2.1.4",
      "model_name": "LayoutModel",
      "state": {
       "_model_module_version": "~2.1.4",
       "_view_module_version": "~2.1.4"
      }
     },
     "dbd35bc1cf6242f49e544abca0fb85c3": {
      "model_module": "jupyter-js-widgets",
      "model_module_version": "~2.1.4",
      "model_name": "ImageModel",
      "state": {
       "_b64value": "iVBORw0KGgoAAAANSUhEUgAAADIAAAAZCAYAAABzVH1EAAAAQ0lEQVR4nO3PUQ0AIAzE0IFN/KvgY6i4pSF9BpquPtWVduOF2vnEDEdoHKFxhMYRGkdoHKFxhMYRGkdoHKFxhOabkQfsWQOGid5ZYAAAAABJRU5ErkJggg==",
       "_model_module_version": "~2.1.4",
       "_view_module_version": "~2.1.4",
       "layout": "IPY_MODEL_965da9c01dff47c1b95ec1b6e5652a86"
      }
     },
     "e31f3ee52b3a48fdb16f75a81ff89600": {
      "model_module": "jupyter-js-widgets",
      "model_module_version": "~2.1.4",
      "model_name": "LayoutModel",
      "state": {
       "_model_module_version": "~2.1.4",
       "_view_module_version": "~2.1.4",
       "border": "2px solid blue"
      }
     },
     "e571903de4294d94a7a59fc516ac1c80": {
      "model_module": "jupyter-js-widgets",
      "model_module_version": "~2.1.4",
      "model_name": "AccordionModel",
      "state": {
       "_model_module_version": "~2.1.4",
       "_titles": {
        "0": "hidden2"
       },
       "_view_module_version": "~2.1.4",
       "children": [
        "IPY_MODEL_dbd35bc1cf6242f49e544abca0fb85c3"
       ],
       "layout": "IPY_MODEL_45728196e7614f3990e4c41aaf43d898"
      }
     },
     "e8c498689a3e49779bc11b01a53f2b2d": {
      "model_module": "jupyter-js-widgets",
      "model_module_version": "~2.1.4",
      "model_name": "ImageModel",
      "state": {
       "_b64value": "iVBORw0KGgoAAAANSUhEUgAAADIAAAAZCAYAAABzVH1EAAAAQ0lEQVR4nO3PUQ0AIAzE0IFI/PvgY6i4pSF9BpquPtWVduOF2vnEDEdoHKFxhMYRGkdoHKFxhMYRGkdoHKFxhOabkQeKPgOBAoKlbgAAAABJRU5ErkJggg==",
       "_model_module_version": "~2.1.4",
       "_view_module_version": "~2.1.4",
       "layout": "IPY_MODEL_658715cce50f4e68b580fbec8e2609ac"
      }
     },
     "eb63f9c20b134a8d8da0acbe8e5f673f": {
      "model_module": "jupyter-js-widgets",
      "model_module_version": "~2.1.4",
      "model_name": "ButtonStyleModel",
      "state": {
       "_model_module_version": "~2.1.4",
       "_view_module_version": "~2.1.4"
      }
     },
     "ee164a22a5bb44ed845127484bdb16f1": {
      "model_module": "jupyter-js-widgets",
      "model_module_version": "~2.1.4",
      "model_name": "ButtonStyleModel",
      "state": {
       "_model_module_version": "~2.1.4",
       "_view_module_version": "~2.1.4"
      }
     },
     "ee316a266eab467ca105437915ced3e2": {
      "model_module": "jupyter-js-widgets",
      "model_module_version": "~2.1.4",
      "model_name": "ImageModel",
      "state": {
       "_b64value": "iVBORw0KGgoAAAANSUhEUgAAADIAAAAZCAYAAABzVH1EAAAAQ0lEQVR4nO3PUQ0AIAzE0IFI/PvgY6i4pSF9BpquPtWVduOF2vnEDEdoHKFxhMYRGkdoHKFxhMYRGkdoHKFxhOabkQeKPgOBAoKlbgAAAABJRU5ErkJggg==",
       "_model_module_version": "~2.1.4",
       "_view_module_version": "~2.1.4",
       "layout": "IPY_MODEL_ccc2f1827e184fb884c4e1bd4cd47346"
      }
     },
     "f17819c55b144a42b199889d3e07a0ba": {
      "model_module": "jupyter-js-widgets",
      "model_module_version": "~2.1.4",
      "model_name": "LayoutModel",
      "state": {
       "_model_module_version": "~2.1.4",
       "_view_module_version": "~2.1.4"
      }
     },
     "f1f1c2d8acf5450ea6693c0019715ad3": {
      "model_module": "jupyter-js-widgets",
      "model_module_version": "~2.1.4",
      "model_name": "ImageModel",
      "state": {
       "_b64value": "iVBORw0KGgoAAAANSUhEUgAAABkAAAAZCAYAAADE6YVjAAAAKUlEQVR4nO3NQQEAIAwAodOW9g8yU+wHBTjzmpbd7UAikUgkEolEUtUHEEgCidGfV+4AAAAASUVORK5CYII=",
       "_model_module_version": "~2.1.4",
       "_view_module_version": "~2.1.4",
       "layout": "IPY_MODEL_e31f3ee52b3a48fdb16f75a81ff89600"
      }
     },
     "f3fdb9fa8e1142479f48deffebe33383": {
      "model_module": "jupyter-js-widgets",
      "model_module_version": "~2.1.4",
      "model_name": "ButtonStyleModel",
      "state": {
       "_model_module_version": "~2.1.4",
       "_view_module_version": "~2.1.4"
      }
     },
     "f41bb88f18cf437390587e89f73b3bfc": {
      "model_module": "jupyter-js-widgets",
      "model_module_version": "~2.1.4",
      "model_name": "LayoutModel",
      "state": {
       "_model_module_version": "~2.1.4",
       "_view_module_version": "~2.1.4"
      }
     },
     "f444d36b3c26499b87342104fd7d80e5": {
      "model_module": "jupyter-js-widgets",
      "model_module_version": "~2.1.4",
      "model_name": "AccordionModel",
      "state": {
       "_model_module_version": "~2.1.4",
       "_titles": {
        "0": "input1"
       },
       "_view_module_version": "~2.1.4",
       "children": [
        "IPY_MODEL_b01f055f90da4390af0426349bb3fd28"
       ],
       "layout": "IPY_MODEL_ccd2688a5ceb4daca341336d33efca96"
      }
     },
     "fc1c6306718a43f89275115002c2ff49": {
      "model_module": "jupyter-js-widgets",
      "model_module_version": "~2.1.4",
      "model_name": "ButtonModel",
      "state": {
       "_model_module_version": "~2.1.4",
       "_view_module_version": "~2.1.4",
       "description": "Previous",
       "layout": "IPY_MODEL_c0d05c305c6b46e8a5f3ebeb26013a71",
       "style": "IPY_MODEL_6dd1a55b5d804ea8a1406bc0736bc46e"
      }
     },
     "fc74fcd5e3114f2ab21375f57ac9d385": {
      "model_module": "jupyter-js-widgets",
      "model_module_version": "~2.1.4",
      "model_name": "LayoutModel",
      "state": {
       "_model_module_version": "~2.1.4",
       "_view_module_version": "~2.1.4"
      }
     }
    },
    "version_major": 1,
    "version_minor": 0
   }
  }
 },
 "nbformat": 4,
 "nbformat_minor": 2
}
