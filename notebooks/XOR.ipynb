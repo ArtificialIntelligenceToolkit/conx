{
 "cells": [
  {
   "cell_type": "markdown",
   "metadata": {},
   "source": [
    "# XOR Multiple Inputs/Targets\n",
    "\n",
    "Testing..."
   ]
  },
  {
   "cell_type": "code",
   "execution_count": 1,
   "metadata": {},
   "outputs": [
    {
     "name": "stderr",
     "output_type": "stream",
     "text": [
      "Using Theano backend.\n"
     ]
    }
   ],
   "source": [
    "from conx import Network, Layer, SGD"
   ]
  },
  {
   "cell_type": "code",
   "execution_count": 2,
   "metadata": {
    "collapsed": true
   },
   "outputs": [],
   "source": [
    "net = Network(\"XOR\", 2, 2, 1, activation=\"sigmoid\")\n",
    "net.connect()\n",
    "dataset = [\n",
    "    ([0, 0], [0]),\n",
    "    ([0, 1], [1]),\n",
    "    ([1, 0], [1]),\n",
    "    ([1, 1], [0])\n",
    "]"
   ]
  },
  {
   "cell_type": "code",
   "execution_count": 3,
   "metadata": {},
   "outputs": [
    {
     "name": "stdout",
     "output_type": "stream",
     "text": [
      "Split dataset into:\n",
      "   4 train inputs\n",
      "   0 test inputs\n",
      "Input Summary:\n",
      "   length  : 4\n",
      "   training: 4\n",
      "   testing : 0\n",
      "   shape  : (2,)\n",
      "   range  : (0.0, 1.0)\n",
      "Target Summary:\n",
      "   length  : 4\n",
      "   training: 4\n",
      "   testing : 0\n",
      "   shape  : (1,)\n",
      "   range  : (0.0, 1.0)\n"
     ]
    }
   ],
   "source": [
    "net.set_dataset(dataset)"
   ]
  },
  {
   "cell_type": "code",
   "execution_count": 4,
   "metadata": {},
   "outputs": [
    {
     "data": {
      "text/plain": [
       "[0.0]"
      ]
     },
     "execution_count": 4,
     "metadata": {},
     "output_type": "execute_result"
    }
   ],
   "source": [
    "net.get_target(0)"
   ]
  },
  {
   "cell_type": "code",
   "execution_count": 5,
   "metadata": {
    "collapsed": true
   },
   "outputs": [],
   "source": [
    "net.compile(loss='mean_squared_error',\n",
    "            optimizer=SGD(lr=0.3, momentum=0.9))"
   ]
  },
  {
   "cell_type": "code",
   "execution_count": 6,
   "metadata": {
    "collapsed": true
   },
   "outputs": [],
   "source": [
    "net.config[\"image_maxdim\"] = 50"
   ]
  },
  {
   "cell_type": "code",
   "execution_count": 7,
   "metadata": {},
   "outputs": [
    {
     "data": {
      "application/javascript": [
       "\n",
       "require(['base/js/namespace'], function(Jupyter) {\n",
       "    Jupyter.notebook.kernel.comm_manager.register_target('conx_svg_control', function(comm, msg) {\n",
       "        comm.on_msg(function(msg) {\n",
       "            var data = msg[\"content\"][\"data\"];\n",
       "            var images = document.getElementsByClassName(data[\"class\"]);\n",
       "            for (var i = 0; i < images.length; i++) {\n",
       "                images[i].setAttributeNS(null, \"href\", data[\"href\"]);\n",
       "            }\n",
       "        });\n",
       "    });\n",
       "});\n"
      ],
      "text/plain": [
       "<IPython.core.display.Javascript object>"
      ]
     },
     "metadata": {},
     "output_type": "display_data"
    },
    {
     "data": {
      "application/vnd.jupyter.widget-view+json": {
       "model_id": "32fd9a268dc443f3a01244cc6152c212"
      }
     },
     "metadata": {},
     "output_type": "display_data"
    }
   ],
   "source": [
    "net.build_widget()"
   ]
  },
  {
   "cell_type": "code",
   "execution_count": 8,
   "metadata": {},
   "outputs": [
    {
     "name": "stdout",
     "output_type": "stream",
     "text": [
      "Training...\n",
      "Epoch #   25 | train error 0.24994 | train accuracy 0.50000 | validate% 0.00000\n",
      "Epoch #   50 | train error 0.24893 | train accuracy 0.50000 | validate% 0.00000\n",
      "Epoch #   75 | train error 0.24641 | train accuracy 0.50000 | validate% 0.00000\n",
      "Epoch #  100 | train error 0.23431 | train accuracy 0.50000 | validate% 0.00000\n",
      "Epoch #  125 | train error 0.19728 | train accuracy 0.50000 | validate% 0.00000\n",
      "Epoch #  150 | train error 0.15810 | train accuracy 0.50000 | validate% 0.00000\n",
      "Epoch #  175 | train error 0.14173 | train accuracy 0.75000 | validate% 0.00000\n",
      "Epoch #  200 | train error 0.13551 | train accuracy 0.50000 | validate% 0.25000\n",
      "Epoch #  225 | train error 0.13257 | train accuracy 0.50000 | validate% 0.50000\n",
      "Epoch #  250 | train error 0.13090 | train accuracy 0.50000 | validate% 0.50000\n",
      "Epoch #  275 | train error 0.12982 | train accuracy 0.50000 | validate% 0.50000\n",
      "Epoch #  300 | train error 0.12907 | train accuracy 0.50000 | validate% 0.50000\n",
      "Epoch #  325 | train error 0.12851 | train accuracy 0.50000 | validate% 0.50000\n",
      "Epoch #  350 | train error 0.12809 | train accuracy 0.50000 | validate% 0.50000\n",
      "Epoch #  375 | train error 0.12776 | train accuracy 0.50000 | validate% 0.50000\n",
      "Epoch #  400 | train error 0.12749 | train accuracy 0.50000 | validate% 0.50000\n",
      "Epoch #  425 | train error 0.12726 | train accuracy 0.50000 | validate% 0.50000\n",
      "Epoch #  450 | train error 0.12707 | train accuracy 0.50000 | validate% 0.50000\n",
      "Epoch #  475 | train error 0.12692 | train accuracy 0.50000 | validate% 0.50000\n",
      "Epoch #  500 | train error 0.12678 | train accuracy 0.50000 | validate% 0.50000\n",
      "Epoch #  525 | train error 0.12666 | train accuracy 0.50000 | validate% 0.50000\n",
      "Epoch #  550 | train error 0.12655 | train accuracy 0.50000 | validate% 0.50000\n",
      "Epoch #  575 | train error 0.12646 | train accuracy 0.50000 | validate% 0.50000\n",
      "Epoch #  600 | train error 0.12638 | train accuracy 0.50000 | validate% 0.50000\n",
      "Epoch #  625 | train error 0.12631 | train accuracy 0.50000 | validate% 0.50000\n",
      "Epoch #  650 | train error 0.12624 | train accuracy 0.50000 | validate% 0.50000\n",
      "Epoch #  675 | train error 0.12618 | train accuracy 0.50000 | validate% 0.50000\n",
      "Epoch #  700 | train error 0.12612 | train accuracy 0.50000 | validate% 0.50000\n",
      "Epoch #  725 | train error 0.12607 | train accuracy 0.50000 | validate% 0.50000\n",
      "Epoch #  750 | train error 0.12603 | train accuracy 0.50000 | validate% 0.50000\n",
      "Epoch #  775 | train error 0.12599 | train accuracy 0.50000 | validate% 0.50000\n",
      "Epoch #  800 | train error 0.12595 | train accuracy 0.50000 | validate% 0.50000\n",
      "Epoch #  825 | train error 0.12591 | train accuracy 0.50000 | validate% 0.50000\n",
      "Epoch #  850 | train error 0.12588 | train accuracy 0.50000 | validate% 0.50000\n",
      "Epoch #  875 | train error 0.12585 | train accuracy 0.50000 | validate% 0.50000\n",
      "Epoch #  900 | train error 0.12582 | train accuracy 0.50000 | validate% 0.50000\n",
      "Epoch #  925 | train error 0.12579 | train accuracy 0.50000 | validate% 0.50000\n",
      "Epoch #  950 | train error 0.12577 | train accuracy 0.50000 | validate% 0.50000\n",
      "Epoch #  975 | train error 0.12574 | train accuracy 0.50000 | validate% 0.50000\n",
      "Epoch # 1000 | train error 0.12572 | train accuracy 0.50000 | validate% 0.50000\n",
      "Epoch # 1025 | train error 0.12570 | train accuracy 0.50000 | validate% 0.50000\n",
      "Epoch # 1050 | train error 0.12568 | train accuracy 0.50000 | validate% 0.50000\n",
      "Epoch # 1075 | train error 0.12566 | train accuracy 0.50000 | validate% 0.50000\n",
      "Epoch # 1100 | train error 0.12564 | train accuracy 0.50000 | validate% 0.50000\n",
      "Epoch # 1125 | train error 0.12562 | train accuracy 0.50000 | validate% 0.50000\n",
      "Epoch # 1150 | train error 0.12561 | train accuracy 0.50000 | validate% 0.50000\n",
      "Epoch # 1175 | train error 0.12559 | train accuracy 0.50000 | validate% 0.50000\n",
      "Epoch # 1200 | train error 0.12558 | train accuracy 0.50000 | validate% 0.50000\n",
      "Epoch # 1225 | train error 0.12556 | train accuracy 0.50000 | validate% 0.50000\n",
      "Epoch # 1250 | train error 0.12555 | train accuracy 0.50000 | validate% 0.50000\n",
      "Epoch # 1275 | train error 0.12554 | train accuracy 0.50000 | validate% 0.50000\n",
      "Epoch # 1300 | train error 0.12553 | train accuracy 0.50000 | validate% 0.50000\n",
      "Epoch # 1325 | train error 0.12551 | train accuracy 0.50000 | validate% 0.50000\n",
      "Epoch # 1350 | train error 0.12550 | train accuracy 0.50000 | validate% 0.50000\n",
      "Epoch # 1375 | train error 0.12549 | train accuracy 0.50000 | validate% 0.50000\n",
      "Epoch # 1400 | train error 0.12548 | train accuracy 0.50000 | validate% 0.50000\n",
      "Epoch # 1425 | train error 0.12547 | train accuracy 0.50000 | validate% 0.50000\n",
      "Epoch # 1450 | train error 0.12546 | train accuracy 0.50000 | validate% 0.50000\n",
      "Epoch # 1475 | train error 0.12545 | train accuracy 0.50000 | validate% 0.50000\n",
      "Epoch # 1500 | train error 0.12545 | train accuracy 0.50000 | validate% 0.50000\n",
      "Epoch # 1525 | train error 0.12544 | train accuracy 0.50000 | validate% 0.50000\n",
      "Epoch # 1550 | train error 0.12543 | train accuracy 0.50000 | validate% 0.50000\n",
      "Epoch # 1575 | train error 0.12542 | train accuracy 0.50000 | validate% 0.50000\n",
      "Epoch # 1600 | train error 0.12541 | train accuracy 0.50000 | validate% 0.50000\n",
      "Epoch # 1625 | train error 0.12541 | train accuracy 0.50000 | validate% 0.50000\n",
      "Epoch # 1650 | train error 0.12540 | train accuracy 0.50000 | validate% 0.50000\n",
      "Epoch # 1675 | train error 0.12539 | train accuracy 0.50000 | validate% 0.50000\n",
      "Epoch # 1700 | train error 0.12539 | train accuracy 0.50000 | validate% 0.50000\n",
      "Epoch # 1725 | train error 0.12538 | train accuracy 0.50000 | validate% 0.50000\n",
      "Epoch # 1750 | train error 0.12537 | train accuracy 0.50000 | validate% 0.50000\n",
      "Epoch # 1775 | train error 0.12537 | train accuracy 0.50000 | validate% 0.50000\n",
      "Epoch # 1800 | train error 0.12536 | train accuracy 0.50000 | validate% 0.50000\n",
      "Epoch # 1825 | train error 0.12536 | train accuracy 0.50000 | validate% 0.50000\n",
      "Epoch # 1850 | train error 0.12535 | train accuracy 0.50000 | validate% 0.50000\n",
      "Epoch # 1875 | train error 0.12535 | train accuracy 0.50000 | validate% 0.50000\n",
      "Epoch # 1900 | train error 0.12534 | train accuracy 0.50000 | validate% 0.50000\n",
      "Epoch # 1925 | train error 0.12534 | train accuracy 0.50000 | validate% 0.50000\n",
      "Epoch # 1950 | train error 0.12533 | train accuracy 0.50000 | validate% 0.50000\n",
      "Epoch # 1975 | train error 0.12533 | train accuracy 0.50000 | validate% 0.50000\n",
      "Epoch # 2000 | train error 0.12532 | train accuracy 0.50000 | validate% 0.50000\n",
      "========================================================================\n",
      "Epoch # 2000 | train error 0.12532 | train accuracy 0.50000 | validate% 0.50000\n"
     ]
    }
   ],
   "source": [
    "net.train(epochs=2000, accuracy=1.0, report_rate=25)"
   ]
  },
  {
   "cell_type": "code",
   "execution_count": 9,
   "metadata": {},
   "outputs": [
    {
     "name": "stdout",
     "output_type": "stream",
     "text": [
      "Testing on training dataset...\n",
      "# | inputs | targets | outputs | result\n",
      "---------------------------------------\n",
      "0 | [0.0, 0.0] | [0.0] | [0.0] | correct\n",
      "1 | [0.0, 1.0] | [1.0] | [0.5] | X\n",
      "2 | [1.0, 0.0] | [1.0] | [1.0] | correct\n",
      "3 | [1.0, 1.0] | [0.0] | [0.5] | X\n",
      "Total count: 4\n",
      "Total percentage correct: 0.5\n"
     ]
    }
   ],
   "source": [
    "net.test()"
   ]
  },
  {
   "cell_type": "code",
   "execution_count": 10,
   "metadata": {},
   "outputs": [
    {
     "data": {
      "text/plain": [
       "[0.0, 1.0]"
      ]
     },
     "execution_count": 10,
     "metadata": {},
     "output_type": "execute_result"
    }
   ],
   "source": [
    "net.propagate_to(\"input\", [0, 1])"
   ]
  },
  {
   "cell_type": "code",
   "execution_count": 11,
   "metadata": {},
   "outputs": [
    {
     "data": {
      "text/plain": [
       "[0.50589627]"
      ]
     },
     "execution_count": 11,
     "metadata": {},
     "output_type": "execute_result"
    }
   ],
   "source": [
    "net.propagate([0.5, 0.5])"
   ]
  },
  {
   "cell_type": "code",
   "execution_count": 12,
   "metadata": {},
   "outputs": [
    {
     "data": {
      "text/plain": [
       "[0.7317737340927124, 0.02126365527510643]"
      ]
     },
     "execution_count": 12,
     "metadata": {},
     "output_type": "execute_result"
    }
   ],
   "source": [
    "net.propagate_to(\"hidden\", [1, 0])"
   ]
  },
  {
   "cell_type": "code",
   "execution_count": 13,
   "metadata": {},
   "outputs": [
    {
     "data": {
      "text/plain": [
       "[0.49926936626434326]"
      ]
     },
     "execution_count": 13,
     "metadata": {},
     "output_type": "execute_result"
    }
   ],
   "source": [
    "net.propagate_to(\"output\", [0.25, 0.75])"
   ]
  },
  {
   "cell_type": "code",
   "execution_count": 14,
   "metadata": {},
   "outputs": [
    {
     "data": {
      "text/plain": [
       "[0.25, 0.25]"
      ]
     },
     "execution_count": 14,
     "metadata": {},
     "output_type": "execute_result"
    }
   ],
   "source": [
    "net.propagate_to(\"input\", [0.25, 0.25])"
   ]
  },
  {
   "cell_type": "code",
   "execution_count": 15,
   "metadata": {},
   "outputs": [
    {
     "data": {
      "text/plain": [
       "[0.74868131]"
      ]
     },
     "execution_count": 15,
     "metadata": {},
     "output_type": "execute_result"
    }
   ],
   "source": [
    "net.propagate_from(\"input\", [1.0, 1.0])"
   ]
  },
  {
   "cell_type": "code",
   "execution_count": 16,
   "metadata": {},
   "outputs": [
    {
     "data": {
      "text/plain": [
       "[0.51548773]"
      ]
     },
     "execution_count": 16,
     "metadata": {},
     "output_type": "execute_result"
    }
   ],
   "source": [
    "net.propagate_from(\"hidden\", [1.0, 0.0])"
   ]
  },
  {
   "cell_type": "code",
   "execution_count": 17,
   "metadata": {},
   "outputs": [
    {
     "name": "stdout",
     "output_type": "stream",
     "text": [
      "Testing on training dataset...\n",
      "# | inputs | targets | outputs | result\n",
      "---------------------------------------\n",
      "0 | [0.0, 0.0] | [0.0] | [0.0] | correct\n",
      "1 | [0.0, 1.0] | [1.0] | [0.5] | X\n",
      "2 | [1.0, 0.0] | [1.0] | [1.0] | correct\n",
      "3 | [1.0, 1.0] | [0.0] | [0.5] | X\n",
      "Total count: 4\n",
      "Total percentage correct: 0.5\n"
     ]
    }
   ],
   "source": [
    "net.test()"
   ]
  },
  {
   "cell_type": "code",
   "execution_count": 18,
   "metadata": {
    "collapsed": true
   },
   "outputs": [],
   "source": [
    "from conx import Network, Layer, SGD"
   ]
  },
  {
   "cell_type": "code",
   "execution_count": 19,
   "metadata": {
    "collapsed": true
   },
   "outputs": [],
   "source": [
    "net = Network(\"XOR2\")\n",
    "net.add(Layer(\"input1\", shape=1))\n",
    "net.add(Layer(\"input2\", shape=1))\n",
    "net.add(Layer(\"hidden1\", shape=10, activation=\"sigmoid\"))\n",
    "net.add(Layer(\"hidden2\", shape=10, activation=\"sigmoid\"))\n",
    "net.add(Layer(\"shared-hidden\", shape=5, activation=\"sigmoid\"))\n",
    "net.add(Layer(\"output1\", shape=1, activation=\"sigmoid\"))\n",
    "net.add(Layer(\"output2\", shape=1, activation=\"sigmoid\"))"
   ]
  },
  {
   "cell_type": "code",
   "execution_count": 20,
   "metadata": {},
   "outputs": [
    {
     "data": {
      "text/plain": [
       "<Network name='XOR2'>"
      ]
     },
     "execution_count": 20,
     "metadata": {},
     "output_type": "execute_result"
    }
   ],
   "source": [
    "net"
   ]
  },
  {
   "cell_type": "code",
   "execution_count": 21,
   "metadata": {
    "collapsed": true
   },
   "outputs": [],
   "source": [
    "net.connect(\"input1\", \"hidden1\")\n",
    "net.connect(\"input2\", \"hidden2\")\n",
    "net.connect(\"hidden1\", \"shared-hidden\")\n",
    "net.connect(\"hidden2\", \"shared-hidden\")\n",
    "net.connect(\"shared-hidden\", \"output1\")\n",
    "net.connect(\"shared-hidden\", \"output2\")"
   ]
  },
  {
   "cell_type": "code",
   "execution_count": 22,
   "metadata": {
    "collapsed": true
   },
   "outputs": [],
   "source": [
    "net.set_input_layer_order(\"input1\", \"input2\")\n",
    "net.set_output_layer_order(\"output1\", \"output2\")"
   ]
  },
  {
   "cell_type": "code",
   "execution_count": 23,
   "metadata": {
    "collapsed": true
   },
   "outputs": [],
   "source": [
    "net.compile(loss='mean_squared_error',\n",
    "            optimizer=SGD(lr=0.3, momentum=0.9))"
   ]
  },
  {
   "cell_type": "code",
   "execution_count": 24,
   "metadata": {},
   "outputs": [
    {
     "data": {
      "application/javascript": [
       "\n",
       "require(['base/js/namespace'], function(Jupyter) {\n",
       "    Jupyter.notebook.kernel.comm_manager.register_target('conx_svg_control', function(comm, msg) {\n",
       "        comm.on_msg(function(msg) {\n",
       "            var data = msg[\"content\"][\"data\"];\n",
       "            var images = document.getElementsByClassName(data[\"class\"]);\n",
       "            for (var i = 0; i < images.length; i++) {\n",
       "                images[i].setAttributeNS(null, \"href\", data[\"href\"]);\n",
       "            }\n",
       "        });\n",
       "    });\n",
       "});\n"
      ],
      "text/plain": [
       "<IPython.core.display.Javascript object>"
      ]
     },
     "metadata": {},
     "output_type": "display_data"
    },
    {
     "data": {
      "application/vnd.jupyter.widget-view+json": {
       "model_id": "b8e09c1952cb460e8b8d9094c97a528a"
      }
     },
     "metadata": {},
     "output_type": "display_data"
    }
   ],
   "source": [
    "net.config[\"image_maxdim\"] = 50\n",
    "net.build_widget()"
   ]
  },
  {
   "cell_type": "code",
   "execution_count": 25,
   "metadata": {
    "collapsed": true
   },
   "outputs": [],
   "source": [
    "dataset = [\n",
    "    ([[0],[0]], [[0],[0]]),\n",
    "    ([[0],[1]], [[1],[1]]),\n",
    "    ([[1],[0]], [[1],[1]]),\n",
    "    ([[1],[1]], [[0],[0]])\n",
    "]"
   ]
  },
  {
   "cell_type": "code",
   "execution_count": 26,
   "metadata": {},
   "outputs": [
    {
     "name": "stdout",
     "output_type": "stream",
     "text": [
      "Split dataset into:\n",
      "   4 train inputs\n",
      "   0 test inputs\n",
      "Input Summary:\n",
      "   length  : 4\n",
      "   training: 4\n",
      "   testing : 0\n",
      "   shape  : [(1,), (1,)]\n",
      "   range  : (0.0, 1.0)\n",
      "Target Summary:\n",
      "   length  : 4\n",
      "   training: 4\n",
      "   testing : 0\n",
      "   shape  : [(1,), (1,)]\n",
      "   range  : (0.0, 1.0)\n"
     ]
    }
   ],
   "source": [
    "net.set_dataset(dataset)"
   ]
  },
  {
   "cell_type": "code",
   "execution_count": 27,
   "metadata": {
    "collapsed": true
   },
   "outputs": [],
   "source": [
    "net.config[\"image_maxdim\"] = 50"
   ]
  },
  {
   "cell_type": "code",
   "execution_count": 28,
   "metadata": {},
   "outputs": [
    {
     "data": {
      "application/javascript": [
       "\n",
       "require(['base/js/namespace'], function(Jupyter) {\n",
       "    Jupyter.notebook.kernel.comm_manager.register_target('conx_svg_control', function(comm, msg) {\n",
       "        comm.on_msg(function(msg) {\n",
       "            var data = msg[\"content\"][\"data\"];\n",
       "            var images = document.getElementsByClassName(data[\"class\"]);\n",
       "            for (var i = 0; i < images.length; i++) {\n",
       "                images[i].setAttributeNS(null, \"href\", data[\"href\"]);\n",
       "            }\n",
       "        });\n",
       "    });\n",
       "});\n"
      ],
      "text/plain": [
       "<IPython.core.display.Javascript object>"
      ]
     },
     "metadata": {},
     "output_type": "display_data"
    },
    {
     "data": {
      "application/vnd.jupyter.widget-view+json": {
       "model_id": "8a30fd5b95404774bedd7166425ff60d"
      }
     },
     "metadata": {},
     "output_type": "display_data"
    }
   ],
   "source": [
    "net.build_widget()"
   ]
  },
  {
   "cell_type": "code",
   "execution_count": 29,
   "metadata": {},
   "outputs": [
    {
     "data": {
      "text/plain": [
       "[[0.43286353], [0.37866807]]"
      ]
     },
     "execution_count": 29,
     "metadata": {},
     "output_type": "execute_result"
    }
   ],
   "source": [
    "net[\"shared-hidden\"].colormap = \"spring\"\n",
    "net.propagate_from(\"hidden1\", [0.0, 1.0] * 5)"
   ]
  },
  {
   "cell_type": "code",
   "execution_count": 30,
   "metadata": {},
   "outputs": [
    {
     "data": {
      "text/plain": [
       "[0.13466831, 0.94466233, 0.26798728, 0.54851562, 0.048278283]"
      ]
     },
     "execution_count": 30,
     "metadata": {},
     "output_type": "execute_result"
    }
   ],
   "source": [
    "net[\"shared-hidden\"].colormap = \"hot\"\n",
    "net.propagate_from(\"hidden1\", [1.0, 1.0] * 5, [\"shared-hidden\"])"
   ]
  },
  {
   "cell_type": "code",
   "execution_count": 31,
   "metadata": {},
   "outputs": [
    {
     "data": {
      "text/plain": [
       "[0.45758262276649475]"
      ]
     },
     "execution_count": 31,
     "metadata": {},
     "output_type": "execute_result"
    }
   ],
   "source": [
    "net.propagate_to(\"output1\", [[1], [0]])"
   ]
  },
  {
   "cell_type": "code",
   "execution_count": 32,
   "metadata": {
    "collapsed": true
   },
   "outputs": [],
   "source": [
    "for i in range(20):\n",
    "    (epoch_count, loss, acc, val_acc) = net.train(epochs=100, verbose=0)\n",
    "    for index in range(4):\n",
    "        net.propagate(dataset[index][0])"
   ]
  },
  {
   "cell_type": "code",
   "execution_count": 33,
   "metadata": {},
   "outputs": [
    {
     "name": "stdout",
     "output_type": "stream",
     "text": [
      "Training...\n",
      "========================================================================\n",
      "Epoch # 2001 | train error 0.00068 | train accuracy 2.00000 | validate% 1.00000\n"
     ]
    }
   ],
   "source": [
    "net.train(epochs=2000, accuracy=1.0, report_rate=25)"
   ]
  },
  {
   "cell_type": "code",
   "execution_count": 34,
   "metadata": {},
   "outputs": [
    {
     "data": {
      "text/plain": [
       "[[0.5], [0.5]]"
      ]
     },
     "execution_count": 34,
     "metadata": {},
     "output_type": "execute_result"
    }
   ],
   "source": [
    "net.propagate_from(\"input1\", [0.0])"
   ]
  },
  {
   "cell_type": "code",
   "execution_count": 35,
   "metadata": {},
   "outputs": [
    {
     "data": {
      "text/plain": [
       "[[0.5], [0.5]]"
      ]
     },
     "execution_count": 35,
     "metadata": {},
     "output_type": "execute_result"
    }
   ],
   "source": [
    "net.propagate_from(\"shared-hidden\", [0.0] * 5)"
   ]
  },
  {
   "cell_type": "code",
   "execution_count": 36,
   "metadata": {},
   "outputs": [
    {
     "data": {
      "text/plain": [
       "[0.26811984181404114,\n",
       " 0.16000720858573914,\n",
       " 0.7104865908622742,\n",
       " 0.8802912831306458,\n",
       " 0.7386482954025269,\n",
       " 0.8133577108383179,\n",
       " 0.2863965332508087,\n",
       " 0.14373797178268433,\n",
       " 0.17428186535835266,\n",
       " 0.14051681756973267]"
      ]
     },
     "execution_count": 36,
     "metadata": {},
     "output_type": "execute_result"
    }
   ],
   "source": [
    "net.propagate_to(\"hidden1\", [[1], [1]])"
   ]
  },
  {
   "cell_type": "code",
   "execution_count": 37,
   "metadata": {},
   "outputs": [
    {
     "name": "stdout",
     "output_type": "stream",
     "text": [
      "Testing on training dataset...\n",
      "# | inputs | targets | outputs | result\n",
      "---------------------------------------\n",
      "0 | [[0.0], [0.0]] | [ 0.  0.] | [ 0.02103656  0.02174782] | correct\n",
      "1 | [[0.0], [1.0]] | [ 1.  1.] | [ 0.9785282  0.9783079] | correct\n",
      "2 | [[1.0], [0.0]] | [ 1.  1.] | [ 0.98450744  0.98422539] | correct\n",
      "3 | [[1.0], [1.0]] | [ 0.  0.] | [ 0.01403455  0.01351558] | correct\n",
      "Total count: 4\n",
      "Total percentage correct: 1.0\n"
     ]
    }
   ],
   "source": [
    "net.test()"
   ]
  },
  {
   "cell_type": "code",
   "execution_count": 38,
   "metadata": {},
   "outputs": [
    {
     "name": "stdout",
     "output_type": "stream",
     "text": [
      "Slicing dataset 0:2...\n",
      "Input Summary:\n",
      "   length  : 2\n",
      "   training: 2\n",
      "   testing : 0\n",
      "   shape  : [(1,), (1,)]\n",
      "   range  : (0.0, 1.0)\n",
      "Target Summary:\n",
      "   length  : 2\n",
      "   training: 2\n",
      "   testing : 0\n",
      "   shape  : [(1,), (1,)]\n",
      "   range  : (0.0, 1.0)\n"
     ]
    }
   ],
   "source": [
    "net.slice_dataset(2)"
   ]
  },
  {
   "cell_type": "code",
   "execution_count": 39,
   "metadata": {},
   "outputs": [
    {
     "name": "stdout",
     "output_type": "stream",
     "text": [
      "Training...\n",
      "========================================================================\n",
      "Epoch # 2002 | train error 0.00092 | train accuracy 2.00000 | validate% 1.00000\n"
     ]
    }
   ],
   "source": [
    "net.train(epochs=2000, accuracy=1.0, report_rate=25)"
   ]
  },
  {
   "cell_type": "markdown",
   "metadata": {},
   "source": [
    "# Conx model is a Keras Model"
   ]
  },
  {
   "cell_type": "code",
   "execution_count": 41,
   "metadata": {},
   "outputs": [],
   "source": [
    "from keras.utils.vis_utils import model_to_dot\n",
    "from IPython.display import HTML"
   ]
  },
  {
   "cell_type": "code",
   "execution_count": 42,
   "metadata": {
    "collapsed": true
   },
   "outputs": [],
   "source": [
    "dot = model_to_dot(net.model, rankdir=\"BT\")"
   ]
  },
  {
   "cell_type": "code",
   "execution_count": 43,
   "metadata": {},
   "outputs": [
    {
     "data": {
      "text/html": [
       "<?xml version=\"1.0\" encoding=\"UTF-8\" standalone=\"no\"?>\n",
       "<!DOCTYPE svg PUBLIC \"-//W3C//DTD SVG 1.1//EN\"\n",
       " \"http://www.w3.org/Graphics/SVG/1.1/DTD/svg11.dtd\">\n",
       "<!-- Generated by graphviz version 2.38.0 (20140413.2041)\n",
       " -->\n",
       "<!-- Title: G Pages: 1 -->\n",
       "<svg width=\"264pt\" height=\"337pt\"\n",
       " viewBox=\"0.00 0.00 264.00 337.00\" xmlns=\"http://www.w3.org/2000/svg\" xmlns:xlink=\"http://www.w3.org/1999/xlink\">\n",
       "<g id=\"graph0\" class=\"graph\" transform=\"scale(1 1) rotate(0) translate(4 333)\">\n",
       "<title>G</title>\n",
       "<polygon fill=\"white\" stroke=\"none\" points=\"-4,4 -4,-333 260,-333 260,4 -4,4\"/>\n",
       "<!-- 140071702214136 -->\n",
       "<g id=\"node1\" class=\"node\"><title>140071702214136</title>\n",
       "<polygon fill=\"none\" stroke=\"black\" points=\"0,-0.5 0,-36.5 119,-36.5 119,-0.5 0,-0.5\"/>\n",
       "<text text-anchor=\"middle\" x=\"59.5\" y=\"-14.8\" font-family=\"Times,serif\" font-size=\"14.00\">input1: InputLayer</text>\n",
       "</g>\n",
       "<!-- 140071702187368 -->\n",
       "<g id=\"node3\" class=\"node\"><title>140071702187368</title>\n",
       "<polygon fill=\"none\" stroke=\"black\" points=\"13,-73.5 13,-109.5 114,-109.5 114,-73.5 13,-73.5\"/>\n",
       "<text text-anchor=\"middle\" x=\"63.5\" y=\"-87.8\" font-family=\"Times,serif\" font-size=\"14.00\">hidden1: Dense</text>\n",
       "</g>\n",
       "<!-- 140071702214136&#45;&gt;140071702187368 -->\n",
       "<g id=\"edge1\" class=\"edge\"><title>140071702214136&#45;&gt;140071702187368</title>\n",
       "<path fill=\"none\" stroke=\"black\" d=\"M60.4683,-36.6871C60.9203,-44.7105 61.4692,-54.4525 61.975,-63.4309\"/>\n",
       "<polygon fill=\"black\" stroke=\"black\" points=\"58.4836,-63.6839 62.5406,-73.4712 65.4725,-63.2901 58.4836,-63.6839\"/>\n",
       "</g>\n",
       "<!-- 140071702164872 -->\n",
       "<g id=\"node2\" class=\"node\"><title>140071702164872</title>\n",
       "<polygon fill=\"none\" stroke=\"black\" points=\"137,-0.5 137,-36.5 256,-36.5 256,-0.5 137,-0.5\"/>\n",
       "<text text-anchor=\"middle\" x=\"196.5\" y=\"-14.8\" font-family=\"Times,serif\" font-size=\"14.00\">input2: InputLayer</text>\n",
       "</g>\n",
       "<!-- 140071702165824 -->\n",
       "<g id=\"node4\" class=\"node\"><title>140071702165824</title>\n",
       "<polygon fill=\"none\" stroke=\"black\" points=\"141,-73.5 141,-109.5 242,-109.5 242,-73.5 141,-73.5\"/>\n",
       "<text text-anchor=\"middle\" x=\"191.5\" y=\"-87.8\" font-family=\"Times,serif\" font-size=\"14.00\">hidden2: Dense</text>\n",
       "</g>\n",
       "<!-- 140071702164872&#45;&gt;140071702165824 -->\n",
       "<g id=\"edge2\" class=\"edge\"><title>140071702164872&#45;&gt;140071702165824</title>\n",
       "<path fill=\"none\" stroke=\"black\" d=\"M195.29,-36.6871C194.725,-44.7105 194.039,-54.4525 193.406,-63.4309\"/>\n",
       "<polygon fill=\"black\" stroke=\"black\" points=\"189.91,-63.25 192.699,-73.4712 196.893,-63.7418 189.91,-63.25\"/>\n",
       "</g>\n",
       "<!-- 140071699457808 -->\n",
       "<g id=\"node5\" class=\"node\"><title>140071699457808</title>\n",
       "<polygon fill=\"none\" stroke=\"black\" points=\"43.5,-146.5 43.5,-182.5 211.5,-182.5 211.5,-146.5 43.5,-146.5\"/>\n",
       "<text text-anchor=\"middle\" x=\"127.5\" y=\"-160.8\" font-family=\"Times,serif\" font-size=\"14.00\">concatenate_3: Concatenate</text>\n",
       "</g>\n",
       "<!-- 140071702187368&#45;&gt;140071699457808 -->\n",
       "<g id=\"edge3\" class=\"edge\"><title>140071702187368&#45;&gt;140071699457808</title>\n",
       "<path fill=\"none\" stroke=\"black\" d=\"M78.9926,-109.687C86.9325,-118.495 96.7394,-129.375 105.453,-139.042\"/>\n",
       "<polygon fill=\"black\" stroke=\"black\" points=\"102.855,-141.387 112.15,-146.471 108.054,-136.7 102.855,-141.387\"/>\n",
       "</g>\n",
       "<!-- 140071702165824&#45;&gt;140071699457808 -->\n",
       "<g id=\"edge4\" class=\"edge\"><title>140071702165824&#45;&gt;140071699457808</title>\n",
       "<path fill=\"none\" stroke=\"black\" d=\"M176.007,-109.687C168.068,-118.495 158.261,-129.375 149.547,-139.042\"/>\n",
       "<polygon fill=\"black\" stroke=\"black\" points=\"146.946,-136.7 142.85,-146.471 152.145,-141.387 146.946,-136.7\"/>\n",
       "</g>\n",
       "<!-- 140071702184792 -->\n",
       "<g id=\"node6\" class=\"node\"><title>140071702184792</title>\n",
       "<polygon fill=\"none\" stroke=\"black\" points=\"60.5,-219.5 60.5,-255.5 194.5,-255.5 194.5,-219.5 60.5,-219.5\"/>\n",
       "<text text-anchor=\"middle\" x=\"127.5\" y=\"-233.8\" font-family=\"Times,serif\" font-size=\"14.00\">shared&#45;hidden: Dense</text>\n",
       "</g>\n",
       "<!-- 140071699457808&#45;&gt;140071702184792 -->\n",
       "<g id=\"edge5\" class=\"edge\"><title>140071699457808&#45;&gt;140071702184792</title>\n",
       "<path fill=\"none\" stroke=\"black\" d=\"M127.5,-182.687C127.5,-190.711 127.5,-200.453 127.5,-209.431\"/>\n",
       "<polygon fill=\"black\" stroke=\"black\" points=\"124,-209.471 127.5,-219.471 131,-209.471 124,-209.471\"/>\n",
       "</g>\n",
       "<!-- 140071702168520 -->\n",
       "<g id=\"node7\" class=\"node\"><title>140071702168520</title>\n",
       "<polygon fill=\"none\" stroke=\"black\" points=\"20,-292.5 20,-328.5 119,-328.5 119,-292.5 20,-292.5\"/>\n",
       "<text text-anchor=\"middle\" x=\"69.5\" y=\"-306.8\" font-family=\"Times,serif\" font-size=\"14.00\">output1: Dense</text>\n",
       "</g>\n",
       "<!-- 140071702184792&#45;&gt;140071702168520 -->\n",
       "<g id=\"edge6\" class=\"edge\"><title>140071702184792&#45;&gt;140071702168520</title>\n",
       "<path fill=\"none\" stroke=\"black\" d=\"M113.46,-255.687C106.407,-264.321 97.7281,-274.945 89.9504,-284.466\"/>\n",
       "<polygon fill=\"black\" stroke=\"black\" points=\"87.0268,-282.512 83.4109,-292.471 92.4479,-286.941 87.0268,-282.512\"/>\n",
       "</g>\n",
       "<!-- 140071699458312 -->\n",
       "<g id=\"node8\" class=\"node\"><title>140071699458312</title>\n",
       "<polygon fill=\"none\" stroke=\"black\" points=\"137,-292.5 137,-328.5 236,-328.5 236,-292.5 137,-292.5\"/>\n",
       "<text text-anchor=\"middle\" x=\"186.5\" y=\"-306.8\" font-family=\"Times,serif\" font-size=\"14.00\">output2: Dense</text>\n",
       "</g>\n",
       "<!-- 140071702184792&#45;&gt;140071699458312 -->\n",
       "<g id=\"edge7\" class=\"edge\"><title>140071702184792&#45;&gt;140071699458312</title>\n",
       "<path fill=\"none\" stroke=\"black\" d=\"M141.782,-255.687C149.029,-264.408 157.964,-275.16 165.936,-284.754\"/>\n",
       "<polygon fill=\"black\" stroke=\"black\" points=\"163.266,-287.017 172.349,-292.471 168.65,-282.543 163.266,-287.017\"/>\n",
       "</g>\n",
       "</g>\n",
       "</svg>\n"
      ],
      "text/plain": [
       "<IPython.core.display.HTML object>"
      ]
     },
     "execution_count": 43,
     "metadata": {},
     "output_type": "execute_result"
    }
   ],
   "source": [
    "HTML(dot.create_svg().decode())"
   ]
  },
  {
   "cell_type": "code",
   "execution_count": null,
   "metadata": {
    "collapsed": true
   },
   "outputs": [],
   "source": []
  }
 ],
 "metadata": {
  "kernelspec": {
   "display_name": "Python 3",
   "language": "python",
   "name": "python3"
  },
  "language_info": {
   "codemirror_mode": {
    "name": "ipython",
    "version": 3
   },
   "file_extension": ".py",
   "mimetype": "text/x-python",
   "name": "python",
   "nbconvert_exporter": "python",
   "pygments_lexer": "ipython3",
   "version": "3.5.3"
  },
  "widgets": {
   "application/vnd.jupyter.widget-state+json": {
    "state": {
     "019140e740de47f1912801f3248fe1b3": {
      "model_module": "jupyter-js-widgets",
      "model_module_version": "~2.1.4",
      "model_name": "LayoutModel",
      "state": {
       "_model_module_version": "~2.1.4",
       "_view_module_version": "~2.1.4",
       "width": "100%"
      }
     },
     "0390240e1ee3478db28fcf4866713029": {
      "model_module": "jupyter-js-widgets",
      "model_module_version": "~2.1.4",
      "model_name": "ButtonStyleModel",
      "state": {
       "_model_module_version": "~2.1.4",
       "_view_module_version": "~2.1.4"
      }
     },
     "0687ef2726c94541ad62e3367d9f6301": {
      "model_module": "jupyter-js-widgets",
      "model_module_version": "~2.1.4",
      "model_name": "LayoutModel",
      "state": {
       "_model_module_version": "~2.1.4",
       "_view_module_version": "~2.1.4",
       "width": "100%"
      }
     },
     "075542df6dc0468a9484fc9fd24b566c": {
      "model_module": "jupyter-js-widgets",
      "model_module_version": "~2.1.4",
      "model_name": "ButtonStyleModel",
      "state": {
       "_model_module_version": "~2.1.4",
       "_view_module_version": "~2.1.4"
      }
     },
     "07a9c3947e8049c28f3a97f584291c13": {
      "model_module": "jupyter-js-widgets",
      "model_module_version": "~2.1.4",
      "model_name": "LayoutModel",
      "state": {
       "_model_module_version": "~2.1.4",
       "_view_module_version": "~2.1.4",
       "width": "100%"
      }
     },
     "0c02d800997e4cf3943a3dbbc2ba0615": {
      "model_module": "jupyter-js-widgets",
      "model_module_version": "~2.1.4",
      "model_name": "HBoxModel",
      "state": {
       "_model_module_version": "~2.1.4",
       "_view_module_version": "~2.1.4",
       "children": [
        "IPY_MODEL_e7bb69176b664d36842ffbaae19814cf",
        "IPY_MODEL_f34bfbae29564c0694b317d82598dee2",
        "IPY_MODEL_c8a68afe63a946c7b4bfea5e655bb35c",
        "IPY_MODEL_d58f1777d33c4893b4ee8aa5730a6c1d",
        "IPY_MODEL_6f9564588ae74538852d0bf8d128c43a"
       ],
       "layout": "IPY_MODEL_78dcde67d45d42989c1b392ab738e431"
      }
     },
     "0e59218cf1bd42c6bb98406c9b3ecc7b": {
      "model_module": "jupyter-js-widgets",
      "model_module_version": "~2.1.4",
      "model_name": "IntSliderModel",
      "state": {
       "_model_module_version": "~2.1.4",
       "_view_module_version": "~2.1.4",
       "continuous_update": false,
       "description": "Dataset index",
       "layout": "IPY_MODEL_40e5d4dc9847431d8cbd178e31ff92fd",
       "max": 3,
       "style": "IPY_MODEL_a481a89713d04f80be34cff06a0952bf"
      }
     },
     "0f00a92292544b0aa3cc2a4816ad099b": {
      "model_module": "jupyter-js-widgets",
      "model_module_version": "~2.1.4",
      "model_name": "ButtonModel",
      "state": {
       "_model_module_version": "~2.1.4",
       "_view_module_version": "~2.1.4",
       "icon": "fast-backward",
       "layout": "IPY_MODEL_3c0dfb5e379846fb9c8b04920d47ffb7",
       "style": "IPY_MODEL_e08defdbbd284485829ed0fc572aff0e"
      }
     },
     "0fcf1ff9f3b444bc8f08bd2bfe3ec704": {
      "model_module": "jupyter-js-widgets",
      "model_module_version": "~2.1.4",
      "model_name": "HBoxModel",
      "state": {
       "_model_module_version": "~2.1.4",
       "_view_module_version": "~2.1.4",
       "children": [
        "IPY_MODEL_8b3fb18cba3f4660bf95e5a8ffa43b8d",
        "IPY_MODEL_cec6f49ee2d0414bb70561fb905b6faa",
        "IPY_MODEL_3d348dfbd668428e805f6206e470ead2",
        "IPY_MODEL_5e1d772ea00749c1889a6a926dcc062f",
        "IPY_MODEL_ebc55da8d40b4816afd7f7b48c12e449"
       ],
       "layout": "IPY_MODEL_216bab9d47f84feda5a7632883b56546"
      }
     },
     "10d78e560930455f860b9bc84916b535": {
      "model_module": "jupyter-js-widgets",
      "model_module_version": "~2.1.4",
      "model_name": "LayoutModel",
      "state": {
       "_model_module_version": "~2.1.4",
       "_view_module_version": "~2.1.4",
       "width": "100%"
      }
     },
     "1177d91ad7fb4f7b9d7a4b7bc1119224": {
      "model_module": "jupyter-js-widgets",
      "model_module_version": "~2.1.4",
      "model_name": "LayoutModel",
      "state": {
       "_model_module_version": "~2.1.4",
       "_view_module_version": "~2.1.4",
       "width": "100%"
      }
     },
     "120c34d0d4c146dc8374203903ef6547": {
      "model_module": "jupyter-js-widgets",
      "model_module_version": "~2.1.4",
      "model_name": "ButtonStyleModel",
      "state": {
       "_model_module_version": "~2.1.4",
       "_view_module_version": "~2.1.4"
      }
     },
     "146b316463954e1bb9538d450d75faa4": {
      "model_module": "jupyter-js-widgets",
      "model_module_version": "~2.1.4",
      "model_name": "SelectModel",
      "state": {
       "_model_module_version": "~2.1.4",
       "_options_labels": [
        "Test",
        "Train"
       ],
       "_view_module_version": "~2.1.4",
       "description": "Dataset:",
       "layout": "IPY_MODEL_6d4b65e58b5444f0b5c19b64722471bf",
       "value": "Train"
      }
     },
     "15a5dcb545894936b3251c2b41752016": {
      "model_module": "jupyter-js-widgets",
      "model_module_version": "~2.1.4",
      "model_name": "LayoutModel",
      "state": {
       "_model_module_version": "~2.1.4",
       "_view_module_version": "~2.1.4",
       "width": "100%"
      }
     },
     "16573e7bf0fd4d9b8bc7987087abae48": {
      "model_module": "jupyter-js-widgets",
      "model_module_version": "~2.1.4",
      "model_name": "ButtonModel",
      "state": {
       "_model_module_version": "~2.1.4",
       "_view_module_version": "~2.1.4",
       "icon": "fast-forward",
       "layout": "IPY_MODEL_24338f8f28da4abca3435072b182c257",
       "style": "IPY_MODEL_5f9487940fdd41198e40fa88617d7ce3"
      }
     },
     "16b7663cb90e4d7992d067c317517dc3": {
      "model_module": "jupyter-js-widgets",
      "model_module_version": "~2.1.4",
      "model_name": "LayoutModel",
      "state": {
       "_model_module_version": "~2.1.4",
       "_view_module_version": "~2.1.4",
       "align_items": "center",
       "height": "100%",
       "max_height": "550px",
       "overflow_x": "auto",
       "width": "100%"
      }
     },
     "1953bd0fbbdb4076bded64caac354364": {
      "model_module": "jupyter-js-widgets",
      "model_module_version": "~2.1.4",
      "model_name": "ButtonStyleModel",
      "state": {
       "_model_module_version": "~2.1.4",
       "_view_module_version": "~2.1.4"
      }
     },
     "1a0a227f01a74b2688f2738930ec9077": {
      "model_module": "jupyter-js-widgets",
      "model_module_version": "~2.1.4",
      "model_name": "ButtonModel",
      "state": {
       "_model_module_version": "~2.1.4",
       "_view_module_version": "~2.1.4",
       "icon": "fast-forward",
       "layout": "IPY_MODEL_1177d91ad7fb4f7b9d7a4b7bc1119224",
       "style": "IPY_MODEL_208470981eed48fe92b52cbd19bf4b23"
      }
     },
     "1a51eb69176d4dfea0493d2b6a6f947e": {
      "model_module": "jupyter-js-widgets",
      "model_module_version": "~2.1.4",
      "model_name": "IntSliderModel",
      "state": {
       "_model_module_version": "~2.1.4",
       "_view_module_version": "~2.1.4",
       "continuous_update": false,
       "description": "Dataset index",
       "layout": "IPY_MODEL_019140e740de47f1912801f3248fe1b3",
       "max": 3,
       "style": "IPY_MODEL_8dd22ec47ece4566a89bd2d99925dad2"
      }
     },
     "1e4e40fc534d43dd8b1d4f59ee880754": {
      "model_module": "jupyter-js-widgets",
      "model_module_version": "~2.1.4",
      "model_name": "LayoutModel",
      "state": {
       "_model_module_version": "~2.1.4",
       "_view_module_version": "~2.1.4",
       "height": "100%",
       "justify_content": "center",
       "max_height": "550px",
       "overflow_x": "auto",
       "width": "100%"
      }
     },
     "208470981eed48fe92b52cbd19bf4b23": {
      "model_module": "jupyter-js-widgets",
      "model_module_version": "~2.1.4",
      "model_name": "ButtonStyleModel",
      "state": {
       "_model_module_version": "~2.1.4",
       "_view_module_version": "~2.1.4"
      }
     },
     "216bab9d47f84feda5a7632883b56546": {
      "model_module": "jupyter-js-widgets",
      "model_module_version": "~2.1.4",
      "model_name": "LayoutModel",
      "state": {
       "_model_module_version": "~2.1.4",
       "_view_module_version": "~2.1.4",
       "width": "100%"
      }
     },
     "21e3f1e153b34ad5a0d908b5a8b5fb91": {
      "model_module": "jupyter-js-widgets",
      "model_module_version": "~2.1.4",
      "model_name": "ButtonModel",
      "state": {
       "_model_module_version": "~2.1.4",
       "_view_module_version": "~2.1.4",
       "description": "Propagate",
       "layout": "IPY_MODEL_6895d0f27ec9466a9cfa32fcd51f3cbc",
       "style": "IPY_MODEL_d0e7245cdc4a45ddb5833934160755cb"
      }
     },
     "224abd6ed3f74b34bed98613e9846b42": {
      "model_module": "jupyter-js-widgets",
      "model_module_version": "~2.1.4",
      "model_name": "LayoutModel",
      "state": {
       "_model_module_version": "~2.1.4",
       "_view_module_version": "~2.1.4",
       "width": "100%"
      }
     },
     "24338f8f28da4abca3435072b182c257": {
      "model_module": "jupyter-js-widgets",
      "model_module_version": "~2.1.4",
      "model_name": "LayoutModel",
      "state": {
       "_model_module_version": "~2.1.4",
       "_view_module_version": "~2.1.4",
       "width": "100%"
      }
     },
     "24bd4b6e487c4eb8a2b38e980b601aa7": {
      "model_module": "jupyter-js-widgets",
      "model_module_version": "~2.1.4",
      "model_name": "ButtonModel",
      "state": {
       "_model_module_version": "~2.1.4",
       "_view_module_version": "~2.1.4",
       "icon": "backward",
       "layout": "IPY_MODEL_2da26429c5534aaeaa5fcab1f70aa83a",
       "style": "IPY_MODEL_a041dbb266e941138faf15b229bc8a4b"
      }
     },
     "269f5544ab504b0f9c9203d6c98322a6": {
      "model_module": "jupyter-js-widgets",
      "model_module_version": "~2.1.4",
      "model_name": "LayoutModel",
      "state": {
       "_model_module_version": "~2.1.4",
       "_view_module_version": "~2.1.4"
      }
     },
     "26ed3712132a4f12894b8cbd70a1b8bf": {
      "model_module": "jupyter-js-widgets",
      "model_module_version": "~2.1.4",
      "model_name": "LayoutModel",
      "state": {
       "_model_module_version": "~2.1.4",
       "_view_module_version": "~2.1.4",
       "width": "100%"
      }
     },
     "2a12b2ccee5d49f193044dc75da686e6": {
      "model_module": "jupyter-js-widgets",
      "model_module_version": "~2.1.4",
      "model_name": "ButtonStyleModel",
      "state": {
       "_model_module_version": "~2.1.4",
       "_view_module_version": "~2.1.4"
      }
     },
     "2d196ce7627749b1b9a0e092986235df": {
      "model_module": "jupyter-js-widgets",
      "model_module_version": "~2.1.4",
      "model_name": "IntSliderModel",
      "state": {
       "_model_module_version": "~2.1.4",
       "_view_module_version": "~2.1.4",
       "continuous_update": false,
       "description": "Dataset index",
       "layout": "IPY_MODEL_26ed3712132a4f12894b8cbd70a1b8bf",
       "max": 3,
       "style": "IPY_MODEL_ed01ba605c1d41cb9452455af803e5da",
       "value": 3
      }
     },
     "2da26429c5534aaeaa5fcab1f70aa83a": {
      "model_module": "jupyter-js-widgets",
      "model_module_version": "~2.1.4",
      "model_name": "LayoutModel",
      "state": {
       "_model_module_version": "~2.1.4",
       "_view_module_version": "~2.1.4",
       "width": "100%"
      }
     },
     "32fd9a268dc443f3a01244cc6152c212": {
      "model_module": "jupyter-js-widgets",
      "model_module_version": "~2.1.4",
      "model_name": "VBoxModel",
      "state": {
       "_model_module_version": "~2.1.4",
       "_view_module_version": "~2.1.4",
       "children": [
        "IPY_MODEL_b37e2d5c5d4a4f11984e73ea5a30b665",
        "IPY_MODEL_f7a082c80bfe40aaa079ad92ca7157a9"
       ],
       "layout": "IPY_MODEL_224abd6ed3f74b34bed98613e9846b42"
      }
     },
     "33666336328e42ce92f8126dad2f698a": {
      "model_module": "jupyter-js-widgets",
      "model_module_version": "~2.1.4",
      "model_name": "LayoutModel",
      "state": {
       "_model_module_version": "~2.1.4",
       "_view_module_version": "~2.1.4",
       "width": "100%"
      }
     },
     "34eaeb874abc400eaee6bbc685edbdc8": {
      "model_module": "jupyter-js-widgets",
      "model_module_version": "~2.1.4",
      "model_name": "SliderStyleModel",
      "state": {
       "_model_module_version": "~2.1.4",
       "_view_module_version": "~2.1.4"
      }
     },
     "371fcc1929d84d55ab174fc0bfbfe12b": {
      "model_module": "jupyter-js-widgets",
      "model_module_version": "~2.1.4",
      "model_name": "ButtonStyleModel",
      "state": {
       "_model_module_version": "~2.1.4",
       "_view_module_version": "~2.1.4"
      }
     },
     "3c0dfb5e379846fb9c8b04920d47ffb7": {
      "model_module": "jupyter-js-widgets",
      "model_module_version": "~2.1.4",
      "model_name": "LayoutModel",
      "state": {
       "_model_module_version": "~2.1.4",
       "_view_module_version": "~2.1.4",
       "width": "100%"
      }
     },
     "3d348dfbd668428e805f6206e470ead2": {
      "model_module": "jupyter-js-widgets",
      "model_module_version": "~2.1.4",
      "model_name": "ButtonModel",
      "state": {
       "_model_module_version": "~2.1.4",
       "_view_module_version": "~2.1.4",
       "description": "Propagate",
       "layout": "IPY_MODEL_d5b92a72e9cc455e8915f9037c6532d1",
       "style": "IPY_MODEL_1953bd0fbbdb4076bded64caac354364"
      }
     },
     "3e16dc0db95a40858228a9566a89a7e7": {
      "model_module": "jupyter-js-widgets",
      "model_module_version": "~2.1.4",
      "model_name": "ButtonModel",
      "state": {
       "_model_module_version": "~2.1.4",
       "_view_module_version": "~2.1.4",
       "icon": "forward",
       "layout": "IPY_MODEL_86b5d3619f934136988a6b39732deaa5",
       "style": "IPY_MODEL_ea67af843d1a492d914719adce202d29"
      }
     },
     "3e365166e194442a950864e7195a14f1": {
      "model_module": "jupyter-js-widgets",
      "model_module_version": "~2.1.4",
      "model_name": "ButtonStyleModel",
      "state": {
       "_model_module_version": "~2.1.4",
       "_view_module_version": "~2.1.4"
      }
     },
     "3e581d1467d146cfa8d43edd5c1ba5e2": {
      "model_module": "jupyter-js-widgets",
      "model_module_version": "~2.1.4",
      "model_name": "HBoxModel",
      "state": {
       "_model_module_version": "~2.1.4",
       "_view_module_version": "~2.1.4",
       "children": [
        "IPY_MODEL_b278d2adb0e4417080b966d5f29e036f",
        "IPY_MODEL_e904ef2f3f3e4476abe1a9b93c414898",
        "IPY_MODEL_f2b416ea73674fb78d31aee459bf0b54",
        "IPY_MODEL_3e16dc0db95a40858228a9566a89a7e7",
        "IPY_MODEL_16573e7bf0fd4d9b8bc7987087abae48"
       ],
       "layout": "IPY_MODEL_bdd88ef8fa4442bbb1448d8b7cf6ff19"
      }
     },
     "40e5d4dc9847431d8cbd178e31ff92fd": {
      "model_module": "jupyter-js-widgets",
      "model_module_version": "~2.1.4",
      "model_name": "LayoutModel",
      "state": {
       "_model_module_version": "~2.1.4",
       "_view_module_version": "~2.1.4",
       "width": "100%"
      }
     },
     "41a1a10b6f1a4e1fb3c93142c9d553b0": {
      "model_module": "jupyter-js-widgets",
      "model_module_version": "~2.1.4",
      "model_name": "LayoutModel",
      "state": {
       "_model_module_version": "~2.1.4",
       "_view_module_version": "~2.1.4",
       "height": "100%",
       "justify_content": "center",
       "max_height": "550px",
       "overflow_x": "auto",
       "width": "100%"
      }
     },
     "423a9193608642bda4b9a987835081a9": {
      "model_module": "jupyter-js-widgets",
      "model_module_version": "~2.1.4",
      "model_name": "LayoutModel",
      "state": {
       "_model_module_version": "~2.1.4",
       "_view_module_version": "~2.1.4",
       "width": "100%"
      }
     },
     "4414d0e35c8a4589a47b9edc440b19ff": {
      "model_module": "jupyter-js-widgets",
      "model_module_version": "~2.1.4",
      "model_name": "ButtonStyleModel",
      "state": {
       "_model_module_version": "~2.1.4",
       "_view_module_version": "~2.1.4"
      }
     },
     "4a0b9cc2ae114332a6f4a3c48d95d667": {
      "model_module": "jupyter-js-widgets",
      "model_module_version": "~2.1.4",
      "model_name": "VBoxModel",
      "state": {
       "_model_module_version": "~2.1.4",
       "_view_module_version": "~2.1.4",
       "children": [
        "IPY_MODEL_a17d98ee5f814a20aba93d4793636a01",
        "IPY_MODEL_ca643d8d0f0f440192421b6e3c3d08da"
       ],
       "layout": "IPY_MODEL_c5f6bbc83fec49749f52bbde0dd3e15d"
      }
     },
     "557af0a547d64756ade76a6f0bec22d2": {
      "model_module": "jupyter-js-widgets",
      "model_module_version": "~2.1.4",
      "model_name": "LayoutModel",
      "state": {
       "_model_module_version": "~2.1.4",
       "_view_module_version": "~2.1.4"
      }
     },
     "558f0965a92147bcaccf10f563d0775c": {
      "model_module": "jupyter-js-widgets",
      "model_module_version": "~2.1.4",
      "model_name": "VBoxModel",
      "state": {
       "_model_module_version": "~2.1.4",
       "_view_module_version": "~2.1.4",
       "children": [
        "IPY_MODEL_146b316463954e1bb9538d450d75faa4",
        "IPY_MODEL_84a022f282714f889b6253ef8482977b",
        "IPY_MODEL_0c02d800997e4cf3943a3dbbc2ba0615"
       ],
       "layout": "IPY_MODEL_423a9193608642bda4b9a987835081a9"
      }
     },
     "569985d0bc94420ab1d22ab64f3e39d6": {
      "model_module": "jupyter-js-widgets",
      "model_module_version": "~2.1.4",
      "model_name": "LayoutModel",
      "state": {
       "_model_module_version": "~2.1.4",
       "_view_module_version": "~2.1.4",
       "width": "100%"
      }
     },
     "5859635e53364005a971453df803e198": {
      "model_module": "jupyter-js-widgets",
      "model_module_version": "~2.1.4",
      "model_name": "ButtonStyleModel",
      "state": {
       "_model_module_version": "~2.1.4",
       "_view_module_version": "~2.1.4"
      }
     },
     "59295486c78c41c1b31dd641dac569ec": {
      "model_module": "jupyter-js-widgets",
      "model_module_version": "~2.1.4",
      "model_name": "LayoutModel",
      "state": {
       "_model_module_version": "~2.1.4",
       "_view_module_version": "~2.1.4"
      }
     },
     "59e210980d934668a8ed6d28a0ef0216": {
      "model_module": "jupyter-js-widgets",
      "model_module_version": "~2.1.4",
      "model_name": "ButtonModel",
      "state": {
       "_model_module_version": "~2.1.4",
       "_view_module_version": "~2.1.4",
       "icon": "forward",
       "layout": "IPY_MODEL_569985d0bc94420ab1d22ab64f3e39d6",
       "style": "IPY_MODEL_120c34d0d4c146dc8374203903ef6547"
      }
     },
     "5d0bf2abf16b44e2a6a269f473ab6b45": {
      "model_module": "jupyter-js-widgets",
      "model_module_version": "~2.1.4",
      "model_name": "LayoutModel",
      "state": {
       "_model_module_version": "~2.1.4",
       "_view_module_version": "~2.1.4",
       "width": "100%"
      }
     },
     "5e0170ce89344166a5011ade410beca4": {
      "model_module": "jupyter-js-widgets",
      "model_module_version": "~2.1.4",
      "model_name": "ButtonModel",
      "state": {
       "_model_module_version": "~2.1.4",
       "_view_module_version": "~2.1.4",
       "icon": "backward",
       "layout": "IPY_MODEL_982f59c02205466397535d43bc606c64",
       "style": "IPY_MODEL_d17bd466791a47918d464d8072de5ed2"
      }
     },
     "5e1d772ea00749c1889a6a926dcc062f": {
      "model_module": "jupyter-js-widgets",
      "model_module_version": "~2.1.4",
      "model_name": "ButtonModel",
      "state": {
       "_model_module_version": "~2.1.4",
       "_view_module_version": "~2.1.4",
       "icon": "forward",
       "layout": "IPY_MODEL_7cbf35270d3c4e09b907418124d72d34",
       "style": "IPY_MODEL_8df8377743794ecf96da09d6daccf0a0"
      }
     },
     "5f9487940fdd41198e40fa88617d7ce3": {
      "model_module": "jupyter-js-widgets",
      "model_module_version": "~2.1.4",
      "model_name": "ButtonStyleModel",
      "state": {
       "_model_module_version": "~2.1.4",
       "_view_module_version": "~2.1.4"
      }
     },
     "60c42f38c06f46238a6a8f8820499dcc": {
      "model_module": "jupyter-js-widgets",
      "model_module_version": "~2.1.4",
      "model_name": "LayoutModel",
      "state": {
       "_model_module_version": "~2.1.4",
       "_view_module_version": "~2.1.4",
       "width": "100%"
      }
     },
     "643381f3657247589aba22183736784f": {
      "model_module": "jupyter-js-widgets",
      "model_module_version": "~2.1.4",
      "model_name": "VBoxModel",
      "state": {
       "_model_module_version": "~2.1.4",
       "_view_module_version": "~2.1.4",
       "children": [
        "IPY_MODEL_cd4d283910cf4a028f0f983c397c7e8a",
        "IPY_MODEL_1a51eb69176d4dfea0493d2b6a6f947e",
        "IPY_MODEL_3e581d1467d146cfa8d43edd5c1ba5e2"
       ],
       "layout": "IPY_MODEL_f2040f36e32b495f9053c11c644f95da"
      }
     },
     "660bd8e40fd14400a07a466a917ca941": {
      "model_module": "jupyter-js-widgets",
      "model_module_version": "~2.1.4",
      "model_name": "LayoutModel",
      "state": {
       "_model_module_version": "~2.1.4",
       "_view_module_version": "~2.1.4",
       "width": "100%"
      }
     },
     "66878a5205e641f8bce31f4abd5a82d1": {
      "model_module": "jupyter-js-widgets",
      "model_module_version": "~2.1.4",
      "model_name": "SelectModel",
      "state": {
       "_model_module_version": "~2.1.4",
       "_options_labels": [
        "Test",
        "Train"
       ],
       "_view_module_version": "~2.1.4",
       "description": "Dataset:",
       "layout": "IPY_MODEL_59295486c78c41c1b31dd641dac569ec",
       "value": "Train"
      }
     },
     "6895d0f27ec9466a9cfa32fcd51f3cbc": {
      "model_module": "jupyter-js-widgets",
      "model_module_version": "~2.1.4",
      "model_name": "LayoutModel",
      "state": {
       "_model_module_version": "~2.1.4",
       "_view_module_version": "~2.1.4",
       "width": "100%"
      }
     },
     "6d4b65e58b5444f0b5c19b64722471bf": {
      "model_module": "jupyter-js-widgets",
      "model_module_version": "~2.1.4",
      "model_name": "LayoutModel",
      "state": {
       "_model_module_version": "~2.1.4",
       "_view_module_version": "~2.1.4"
      }
     },
     "6f9564588ae74538852d0bf8d128c43a": {
      "model_module": "jupyter-js-widgets",
      "model_module_version": "~2.1.4",
      "model_name": "ButtonModel",
      "state": {
       "_model_module_version": "~2.1.4",
       "_view_module_version": "~2.1.4",
       "icon": "fast-forward",
       "layout": "IPY_MODEL_da509a02b7764951945b57bb61d1a36d",
       "style": "IPY_MODEL_de4d528236d04c01b22ec8d18e769990"
      }
     },
     "71bcba58b78c4faeac3c968c15399777": {
      "model_module": "jupyter-js-widgets",
      "model_module_version": "~2.1.4",
      "model_name": "VBoxModel",
      "state": {
       "_model_module_version": "~2.1.4",
       "_view_module_version": "~2.1.4",
       "children": [
        "IPY_MODEL_96e6f1c8db9b4e85bb32002b2408634b",
        "IPY_MODEL_643381f3657247589aba22183736784f"
       ],
       "layout": "IPY_MODEL_eed4eba22cf74522908db64592804e43"
      }
     },
     "740b2d8b2d54498ca9ceb611d4f8bf11": {
      "model_module": "jupyter-js-widgets",
      "model_module_version": "~2.1.4",
      "model_name": "LayoutModel",
      "state": {
       "_model_module_version": "~2.1.4",
       "_view_module_version": "~2.1.4",
       "align_items": "center",
       "height": "100%",
       "max_height": "550px",
       "overflow_x": "auto",
       "width": "100%"
      }
     },
     "78dcde67d45d42989c1b392ab738e431": {
      "model_module": "jupyter-js-widgets",
      "model_module_version": "~2.1.4",
      "model_name": "LayoutModel",
      "state": {
       "_model_module_version": "~2.1.4",
       "_view_module_version": "~2.1.4",
       "width": "100%"
      }
     },
     "7cbf35270d3c4e09b907418124d72d34": {
      "model_module": "jupyter-js-widgets",
      "model_module_version": "~2.1.4",
      "model_name": "LayoutModel",
      "state": {
       "_model_module_version": "~2.1.4",
       "_view_module_version": "~2.1.4",
       "width": "100%"
      }
     },
     "8018842a8c54478d8399fb5a2aa31c0d": {
      "model_module": "jupyter-js-widgets",
      "model_module_version": "~2.1.4",
      "model_name": "LayoutModel",
      "state": {
       "_model_module_version": "~2.1.4",
       "_view_module_version": "~2.1.4",
       "width": "100%"
      }
     },
     "81f4eae14eac4404aade3891e1bd57cf": {
      "model_module": "jupyter-js-widgets",
      "model_module_version": "~2.1.4",
      "model_name": "LayoutModel",
      "state": {
       "_model_module_version": "~2.1.4",
       "_view_module_version": "~2.1.4"
      }
     },
     "843fdd1522764f19b0b6ea5391338d0e": {
      "model_module": "jupyter-js-widgets",
      "model_module_version": "~2.1.4",
      "model_name": "LayoutModel",
      "state": {
       "_model_module_version": "~2.1.4",
       "_view_module_version": "~2.1.4",
       "width": "100%"
      }
     },
     "84a022f282714f889b6253ef8482977b": {
      "model_module": "jupyter-js-widgets",
      "model_module_version": "~2.1.4",
      "model_name": "IntSliderModel",
      "state": {
       "_model_module_version": "~2.1.4",
       "_view_module_version": "~2.1.4",
       "continuous_update": false,
       "description": "Dataset index",
       "layout": "IPY_MODEL_8a67de6b86334c5ca6df7216045fd046",
       "max": 0,
       "style": "IPY_MODEL_c0119bcfbbda40cb8d1a53e948d7960c"
      }
     },
     "86b5d3619f934136988a6b39732deaa5": {
      "model_module": "jupyter-js-widgets",
      "model_module_version": "~2.1.4",
      "model_name": "LayoutModel",
      "state": {
       "_model_module_version": "~2.1.4",
       "_view_module_version": "~2.1.4",
       "width": "100%"
      }
     },
     "883c657e85b54b6684581a1e784423d3": {
      "model_module": "jupyter-js-widgets",
      "model_module_version": "~2.1.4",
      "model_name": "ButtonStyleModel",
      "state": {
       "_model_module_version": "~2.1.4",
       "_view_module_version": "~2.1.4"
      }
     },
     "8a30fd5b95404774bedd7166425ff60d": {
      "model_module": "jupyter-js-widgets",
      "model_module_version": "~2.1.4",
      "model_name": "VBoxModel",
      "state": {
       "_model_module_version": "~2.1.4",
       "_view_module_version": "~2.1.4",
       "children": [
        "IPY_MODEL_c51e7158e9954c60b5e2713044159ed7",
        "IPY_MODEL_da8e2ae022e14374b8c9303a7170357c"
       ],
       "layout": "IPY_MODEL_fb20c9c786124d0a8a3c2dd03f9ac05a"
      }
     },
     "8a67de6b86334c5ca6df7216045fd046": {
      "model_module": "jupyter-js-widgets",
      "model_module_version": "~2.1.4",
      "model_name": "LayoutModel",
      "state": {
       "_model_module_version": "~2.1.4",
       "_view_module_version": "~2.1.4",
       "width": "100%"
      }
     },
     "8b3fb18cba3f4660bf95e5a8ffa43b8d": {
      "model_module": "jupyter-js-widgets",
      "model_module_version": "~2.1.4",
      "model_name": "ButtonModel",
      "state": {
       "_model_module_version": "~2.1.4",
       "_view_module_version": "~2.1.4",
       "icon": "fast-backward",
       "layout": "IPY_MODEL_33666336328e42ce92f8126dad2f698a",
       "style": "IPY_MODEL_e4d0db0840934887ac0c76eb7d210e3f"
      }
     },
     "8b69d5bfbb8940c389ada45d335718ee": {
      "model_module": "jupyter-js-widgets",
      "model_module_version": "~2.1.4",
      "model_name": "LayoutModel",
      "state": {
       "_model_module_version": "~2.1.4",
       "_view_module_version": "~2.1.4",
       "width": "100%"
      }
     },
     "8c50522f33034b48b5aa47bda37b363d": {
      "model_module": "jupyter-js-widgets",
      "model_module_version": "~2.1.4",
      "model_name": "ButtonStyleModel",
      "state": {
       "_model_module_version": "~2.1.4",
       "_view_module_version": "~2.1.4"
      }
     },
     "8c871557768144cd98050eb3176f9eec": {
      "model_module": "jupyter-js-widgets",
      "model_module_version": "~2.1.4",
      "model_name": "ButtonStyleModel",
      "state": {
       "_model_module_version": "~2.1.4",
       "_view_module_version": "~2.1.4"
      }
     },
     "8dd22ec47ece4566a89bd2d99925dad2": {
      "model_module": "jupyter-js-widgets",
      "model_module_version": "~2.1.4",
      "model_name": "SliderStyleModel",
      "state": {
       "_model_module_version": "~2.1.4",
       "_view_module_version": "~2.1.4"
      }
     },
     "8df8377743794ecf96da09d6daccf0a0": {
      "model_module": "jupyter-js-widgets",
      "model_module_version": "~2.1.4",
      "model_name": "ButtonStyleModel",
      "state": {
       "_model_module_version": "~2.1.4",
       "_view_module_version": "~2.1.4"
      }
     },
     "95a0e9e83ef942feb599e837373dcfef": {
      "model_module": "jupyter-js-widgets",
      "model_module_version": "~2.1.4",
      "model_name": "ButtonModel",
      "state": {
       "_model_module_version": "~2.1.4",
       "_view_module_version": "~2.1.4",
       "icon": "forward",
       "layout": "IPY_MODEL_aa01e0e2a64f441d8260e68d63f8c890",
       "style": "IPY_MODEL_883c657e85b54b6684581a1e784423d3"
      }
     },
     "96e6f1c8db9b4e85bb32002b2408634b": {
      "model_module": "jupyter-js-widgets",
      "model_module_version": "~2.1.4",
      "model_name": "HTMLModel",
      "state": {
       "_model_module_version": "~2.1.4",
       "_view_module_version": "~2.1.4",
       "layout": "IPY_MODEL_16b7663cb90e4d7992d067c317517dc3",
       "value": "\n        <svg id='XOR' xmlns='http://www.w3.org/2000/svg' width=\"200\" height=\"335\" image-rendering=\"pixelated\">\n    <defs>\n        <marker id=\"arrow\" markerWidth=\"10\" markerHeight=\"10\" refX=\"9\" refY=\"3\" orient=\"auto\" markerUnits=\"strokeWidth\">\n          <path d=\"M0,0 L0,6 L9,3 z\" fill=\"blue\" />\n        </marker>\n    </defs>\n<rect x=\"74.0\" y=\"24\" width=\"52\" height=\"52\" style=\"fill:none;stroke:blue;stroke-width:2\"/><image id=\"XOR_output_targets_1\" class=\"XOR_output_targets\" x=\"75.0\" y=\"25\" height=\"50\" width=\"50\" preserveAspectRatio=\"none\" href=\"data:image/gif;base64,R0lGODdhAQABAIAAAJWVlQAAACwAAAAAAQABAAAIBQAB4AsIADs=\"><title>Layer: output (output)\n shape = (1,)\n Keras class = Dense\n activation = sigmoid</title></image><text x=\"130.0\" y=\"52.0\" font-family=\"monospace\" font-size=\"12\">targets</text><rect x=\"74.0\" y=\"84\" width=\"52\" height=\"52\" style=\"fill:none;stroke:blue;stroke-width:2\"/><image id=\"XOR_output_errors_1\" class=\"XOR_output_errors\" x=\"75.0\" y=\"85\" height=\"50\" width=\"50\" preserveAspectRatio=\"none\" href=\"data:image/gif;base64,R0lGODdhAQABAIAAAJWVlQAAACwAAAAAAQABAAAIBQABLAoIADs=\"><title>Layer: output (output)\n shape = (1,)\n Keras class = Dense\n activation = sigmoid</title></image><text x=\"130.0\" y=\"112.0\" font-family=\"monospace\" font-size=\"12\">errors</text><rect x=\"74.0\" y=\"149\" width=\"52\" height=\"52\" style=\"fill:none;stroke:blue;stroke-width:2\"/><image id=\"XOR_output_1\" class=\"XOR_output\" x=\"75.0\" y=\"150\" height=\"50\" width=\"50\" preserveAspectRatio=\"none\" href=\"data:image/gif;base64,R0lGODdhAQABAIAAAJWVlQAAACwAAAAAAQABAAAIBQABLAoIADs=\"><title>Layer: output (output)\n shape = (1,)\n Keras class = Dense\n activation = sigmoid</title></image><text x=\"130.0\" y=\"177.0\" font-family=\"monospace\" font-size=\"12\">output</text><rect x=\"90.0\" y=\"202\" width=\"20.0\" height=\"27\" style=\"fill:white;stroke:none\"><title>Weights from hidden to output\n output/kernel has shape (4, 1)\n output/bias has shape (1,)</title></rect><rect x=\"90.0\" y=\"202\" width=\"20.0\" height=\"27\" style=\"fill:white;stroke:none\"><title>Weights from hidden to output\n output/kernel has shape (4, 1)\n output/bias has shape (1,)</title></rect><line x1=\"100.0\" y1=\"229\" x2=\"100.0\" y2=\"202\" stroke=\"blue\" stroke-width=\"2\" marker-end=\"url(#arrow)\"><title>Weights from hidden to output\n output/kernel has shape (4, 1)\n output/bias has shape (1,)</title></line><line x1=\"100.0\" y1=\"229\" x2=\"100.0\" y2=\"202\" stroke=\"blue\" stroke-width=\"2\" marker-end=\"url(#arrow)\"><title>Weights from hidden to output\n output/kernel has shape (4, 1)\n output/bias has shape (1,)</title></line><rect x=\"74.0\" y=\"229\" width=\"52\" height=\"27\" style=\"fill:none;stroke:blue;stroke-width:2\"/><image id=\"XOR_hidden_2\" class=\"XOR_hidden\" x=\"75.0\" y=\"230\" height=\"25\" width=\"50\" preserveAspectRatio=\"none\" href=\"data:image/gif;base64,R0lGODdhAgABAIAAAH9/fwAAACwAAAAAAgABAAAIBQABAAgIADs=\"><title>Layer: hidden (hidden)\n shape = (2,)\n Keras class = Dense\n activation = sigmoid</title></image><text x=\"130.0\" y=\"244.5\" font-family=\"monospace\" font-size=\"12\">hidden</text><rect x=\"90.0\" y=\"257\" width=\"20.0\" height=\"27\" style=\"fill:white;stroke:none\"><title>Weights from input to hidden\n hidden/kernel has shape (4, 2)\n hidden/bias has shape (2,)</title></rect><rect x=\"90.0\" y=\"257\" width=\"20.0\" height=\"27\" style=\"fill:white;stroke:none\"><title>Weights from input to hidden\n hidden/kernel has shape (4, 2)\n hidden/bias has shape (2,)</title></rect><line x1=\"100.0\" y1=\"284\" x2=\"100.0\" y2=\"257\" stroke=\"blue\" stroke-width=\"2\" marker-end=\"url(#arrow)\"><title>Weights from input to hidden\n hidden/kernel has shape (4, 2)\n hidden/bias has shape (2,)</title></line><line x1=\"100.0\" y1=\"284\" x2=\"100.0\" y2=\"257\" stroke=\"blue\" stroke-width=\"2\" marker-end=\"url(#arrow)\"><title>Weights from input to hidden\n hidden/kernel has shape (4, 2)\n hidden/bias has shape (2,)</title></line><rect x=\"74.0\" y=\"284\" width=\"52\" height=\"27\" style=\"fill:none;stroke:blue;stroke-width:2\"/><image id=\"XOR_input_3\" class=\"XOR_input\" x=\"75.0\" y=\"285\" height=\"25\" width=\"50\" preserveAspectRatio=\"none\" href=\"data:image/gif;base64,R0lGODdhAgABAIAAAH9/fwAAACwAAAAAAgABAAAIBQABAAgIADs=\"><title>Layer: input (input)\n shape = (2,)\n Keras class = Input</title></image><text x=\"130.0\" y=\"299.5\" font-family=\"monospace\" font-size=\"12\">input</text></svg>"
      }
     },
     "9804f3fc2cbb4e36aecb8189a7590e94": {
      "model_module": "jupyter-js-widgets",
      "model_module_version": "~2.1.4",
      "model_name": "LayoutModel",
      "state": {
       "_model_module_version": "~2.1.4",
       "_view_module_version": "~2.1.4",
       "width": "100%"
      }
     },
     "982f59c02205466397535d43bc606c64": {
      "model_module": "jupyter-js-widgets",
      "model_module_version": "~2.1.4",
      "model_name": "LayoutModel",
      "state": {
       "_model_module_version": "~2.1.4",
       "_view_module_version": "~2.1.4",
       "width": "100%"
      }
     },
     "995fcdf4fa1c4b6aa42f95b59bb23128": {
      "model_module": "jupyter-js-widgets",
      "model_module_version": "~2.1.4",
      "model_name": "LayoutModel",
      "state": {
       "_model_module_version": "~2.1.4",
       "_view_module_version": "~2.1.4",
       "width": "100%"
      }
     },
     "a041dbb266e941138faf15b229bc8a4b": {
      "model_module": "jupyter-js-widgets",
      "model_module_version": "~2.1.4",
      "model_name": "ButtonStyleModel",
      "state": {
       "_model_module_version": "~2.1.4",
       "_view_module_version": "~2.1.4"
      }
     },
     "a17d98ee5f814a20aba93d4793636a01": {
      "model_module": "jupyter-js-widgets",
      "model_module_version": "~2.1.4",
      "model_name": "HTMLModel",
      "state": {
       "_model_module_version": "~2.1.4",
       "_view_module_version": "~2.1.4",
       "layout": "IPY_MODEL_740b2d8b2d54498ca9ceb611d4f8bf11",
       "value": "\n        <svg id='XOR2' xmlns='http://www.w3.org/2000/svg' width=\"400\" height=\"415\" image-rendering=\"pixelated\">\n    <defs>\n        <marker id=\"arrow\" markerWidth=\"10\" markerHeight=\"10\" refX=\"9\" refY=\"3\" orient=\"auto\" markerUnits=\"strokeWidth\">\n          <path d=\"M0,0 L0,6 L9,3 z\" fill=\"blue\" />\n        </marker>\n    </defs>\n<rect x=\"99.0\" y=\"24\" width=\"52\" height=\"52\" style=\"fill:none;stroke:blue;stroke-width:2\"/><image id=\"XOR2_output1_targets_1\" class=\"XOR2_output1_targets\" x=\"100.0\" y=\"25\" height=\"50\" width=\"50\" preserveAspectRatio=\"none\" href=\"data:image/gif;base64,R0lGODdhAQABAIAAAH19fQAAACwAAAAAAQABAAAIBQABLAoIADs=\"><title>Layer: output1 (output)\n shape = (1,)\n Keras class = Dense\n activation = sigmoid</title></image><text x=\"155.0\" y=\"52.0\" font-family=\"monospace\" font-size=\"12\">targets</text><rect x=\"249.0\" y=\"24\" width=\"52\" height=\"52\" style=\"fill:none;stroke:blue;stroke-width:2\"/><image id=\"XOR2_output2_targets_1\" class=\"XOR2_output2_targets\" x=\"250.0\" y=\"25\" height=\"50\" width=\"50\" preserveAspectRatio=\"none\" href=\"data:image/gif;base64,R0lGODdhAQABAIAAAJCQkAAAACwAAAAAAQABAAAIBQABLAoIADs=\"><title>Layer: output2 (output)\n shape = (1,)\n Keras class = Dense\n activation = sigmoid</title></image><text x=\"305.0\" y=\"52.0\" font-family=\"monospace\" font-size=\"12\">targets</text><rect x=\"99.0\" y=\"84\" width=\"52\" height=\"52\" style=\"fill:none;stroke:blue;stroke-width:2\"/><image id=\"XOR2_output1_errors_1\" class=\"XOR2_output1_errors\" x=\"100.0\" y=\"85\" height=\"50\" width=\"50\" preserveAspectRatio=\"none\" href=\"data:image/gif;base64,R0lGODdhAQABAIAAAH19fQAAACwAAAAAAQABAAAIBQABLAoIADs=\"><title>Layer: output1 (output)\n shape = (1,)\n Keras class = Dense\n activation = sigmoid</title></image><text x=\"155.0\" y=\"112.0\" font-family=\"monospace\" font-size=\"12\">errors</text><rect x=\"249.0\" y=\"84\" width=\"52\" height=\"52\" style=\"fill:none;stroke:blue;stroke-width:2\"/><image id=\"XOR2_output2_errors_1\" class=\"XOR2_output2_errors\" x=\"250.0\" y=\"85\" height=\"50\" width=\"50\" preserveAspectRatio=\"none\" href=\"data:image/gif;base64,R0lGODdhAQABAIAAAJCQkAAAACwAAAAAAQABAAAIBQABLAoIADs=\"><title>Layer: output2 (output)\n shape = (1,)\n Keras class = Dense\n activation = sigmoid</title></image><text x=\"305.0\" y=\"112.0\" font-family=\"monospace\" font-size=\"12\">errors</text><rect x=\"99.0\" y=\"149\" width=\"52\" height=\"52\" style=\"fill:none;stroke:blue;stroke-width:2\"/><image id=\"XOR2_output1_1\" class=\"XOR2_output1\" x=\"100.0\" y=\"150\" height=\"50\" width=\"50\" preserveAspectRatio=\"none\" href=\"data:image/gif;base64,R0lGODdhAQABAIAAAH19fQAAACwAAAAAAQABAAAIBQABLAoIADs=\"><title>Layer: output1 (output)\n shape = (1,)\n Keras class = Dense\n activation = sigmoid</title></image><text x=\"155.0\" y=\"177.0\" font-family=\"monospace\" font-size=\"12\">output1</text><rect x=\"249.0\" y=\"149\" width=\"52\" height=\"52\" style=\"fill:none;stroke:blue;stroke-width:2\"/><image id=\"XOR2_output2_2\" class=\"XOR2_output2\" x=\"250.0\" y=\"150\" height=\"50\" width=\"50\" preserveAspectRatio=\"none\" href=\"data:image/gif;base64,R0lGODdhAQABAIAAAJCQkAAAACwAAAAAAQABAAAIBQABLAoIADs=\"><title>Layer: output2 (output)\n shape = (1,)\n Keras class = Dense\n activation = sigmoid</title></image><text x=\"305.0\" y=\"177.0\" font-family=\"monospace\" font-size=\"12\">output2</text><rect x=\"125.0\" y=\"202\" width=\"75.0\" height=\"27\" style=\"fill:white;stroke:none\"><title>Weights from shared-hidden to output1\n output1/kernel has shape (5, 1)\n output1/bias has shape (1,)</title></rect><rect x=\"200.0\" y=\"202\" width=\"75.0\" height=\"27\" style=\"fill:white;stroke:none\"><title>Weights from shared-hidden to output2\n output2/kernel has shape (5, 1)\n output2/bias has shape (1,)</title></rect><line x1=\"200.0\" y1=\"229\" x2=\"125.0\" y2=\"202\" stroke=\"blue\" stroke-width=\"2\" marker-end=\"url(#arrow)\"><title>Weights from shared-hidden to output1\n output1/kernel has shape (5, 1)\n output1/bias has shape (1,)</title></line><line x1=\"200.0\" y1=\"229\" x2=\"275.0\" y2=\"202\" stroke=\"blue\" stroke-width=\"2\" marker-end=\"url(#arrow)\"><title>Weights from shared-hidden to output2\n output2/kernel has shape (5, 1)\n output2/bias has shape (1,)</title></line><rect x=\"174.0\" y=\"229\" width=\"52\" height=\"27\" style=\"fill:none;stroke:blue;stroke-width:2\"/><image id=\"XOR2_shared-hidden_3\" class=\"XOR2_shared-hidden\" x=\"175.0\" y=\"230\" height=\"25\" width=\"50\" preserveAspectRatio=\"none\" href=\"data:image/gif;base64,R0lGODdhBQABAIIAAEFBQUhISHV1dYeHh5eXlwAAAAAAAAAAACwAAAAABQABAAAICAABEAgwQEBAADs=\"><title>Layer: shared-hidden (hidden)\n shape = (5,)\n Keras class = Dense\n activation = sigmoid</title></image><text x=\"230.0\" y=\"244.5\" font-family=\"monospace\" font-size=\"12\">shared-hidden</text><rect x=\"125.0\" y=\"257\" width=\"75.0\" height=\"27\" style=\"fill:white;stroke:none\"><title>Weights from hidden1 to shared-hidden\n shared-hidden/kernel has shape (20, 5)\n shared-hidden/bias has shape (5,)</title></rect><line x1=\"125.0\" y1=\"284\" x2=\"200.0\" y2=\"257\" stroke=\"blue\" stroke-width=\"2\" marker-end=\"url(#arrow)\"><title>Weights from hidden1 to shared-hidden\n shared-hidden/kernel has shape (20, 5)\n shared-hidden/bias has shape (5,)</title></line><rect x=\"99.0\" y=\"284\" width=\"52\" height=\"27\" style=\"fill:none;stroke:blue;stroke-width:2\"/><image id=\"XOR2_hidden1_4\" class=\"XOR2_hidden1\" x=\"100.0\" y=\"285\" height=\"25\" width=\"50\" preserveAspectRatio=\"none\" href=\"data:image/gif;base64,R0lGODdhCgABAIAAAH9/fwAAACwAAAAACgABAAAIBwABCBxIMCAAOw==\"><title>Layer: hidden1 (hidden)\n shape = (10,)\n Keras class = Dense\n activation = sigmoid</title></image><text x=\"155.0\" y=\"299.5\" font-family=\"monospace\" font-size=\"12\">hidden1</text><rect x=\"200.0\" y=\"257\" width=\"75.0\" height=\"27\" style=\"fill:white;stroke:none\"><title>Weights from hidden2 to shared-hidden\n shared-hidden/kernel has shape (20, 5)\n shared-hidden/bias has shape (5,)</title></rect><line x1=\"275.0\" y1=\"284\" x2=\"200.0\" y2=\"257\" stroke=\"blue\" stroke-width=\"2\" marker-end=\"url(#arrow)\"><title>Weights from hidden2 to shared-hidden\n shared-hidden/kernel has shape (20, 5)\n shared-hidden/bias has shape (5,)</title></line><rect x=\"249.0\" y=\"284\" width=\"52\" height=\"27\" style=\"fill:none;stroke:blue;stroke-width:2\"/><image id=\"XOR2_hidden2_5\" class=\"XOR2_hidden2\" x=\"250.0\" y=\"285\" height=\"25\" width=\"50\" preserveAspectRatio=\"none\" href=\"data:image/gif;base64,R0lGODdhCgABAIAAAH9/fwAAACwAAAAACgABAAAIBwABCBxIMCAAOw==\"><title>Layer: hidden2 (hidden)\n shape = (10,)\n Keras class = Dense\n activation = sigmoid</title></image><text x=\"305.0\" y=\"299.5\" font-family=\"monospace\" font-size=\"12\">hidden2</text><rect x=\"115.0\" y=\"312\" width=\"20.0\" height=\"27\" style=\"fill:white;stroke:none\"><title>Weights from input1 to hidden1\n hidden1/kernel has shape (1, 10)\n hidden1/bias has shape (10,)</title></rect><line x1=\"125.0\" y1=\"339\" x2=\"125.0\" y2=\"312\" stroke=\"blue\" stroke-width=\"2\" marker-end=\"url(#arrow)\"><title>Weights from input1 to hidden1\n hidden1/kernel has shape (1, 10)\n hidden1/bias has shape (10,)</title></line><rect x=\"99.0\" y=\"339\" width=\"52\" height=\"52\" style=\"fill:none;stroke:blue;stroke-width:2\"/><image id=\"XOR2_input1_6\" class=\"XOR2_input1\" x=\"100.0\" y=\"340\" height=\"50\" width=\"50\" preserveAspectRatio=\"none\" href=\"data:image/gif;base64,R0lGODdhAQABAIAAAH9/fwAAACwAAAAAAQABAAAIBQABLAoIADs=\"><title>Layer: input1 (input)\n shape = (1,)\n Keras class = Input</title></image><text x=\"155.0\" y=\"367.0\" font-family=\"monospace\" font-size=\"12\">input1</text><rect x=\"265.0\" y=\"312\" width=\"20.0\" height=\"27\" style=\"fill:white;stroke:none\"><title>Weights from input2 to hidden2\n hidden2/kernel has shape (1, 10)\n hidden2/bias has shape (10,)</title></rect><line x1=\"275.0\" y1=\"339\" x2=\"275.0\" y2=\"312\" stroke=\"blue\" stroke-width=\"2\" marker-end=\"url(#arrow)\"><title>Weights from input2 to hidden2\n hidden2/kernel has shape (1, 10)\n hidden2/bias has shape (10,)</title></line><rect x=\"249.0\" y=\"339\" width=\"52\" height=\"52\" style=\"fill:none;stroke:blue;stroke-width:2\"/><image id=\"XOR2_input2_7\" class=\"XOR2_input2\" x=\"250.0\" y=\"340\" height=\"50\" width=\"50\" preserveAspectRatio=\"none\" href=\"data:image/gif;base64,R0lGODdhAQABAIAAAH9/fwAAACwAAAAAAQABAAAIBQABLAoIADs=\"><title>Layer: input2 (input)\n shape = (1,)\n Keras class = Input</title></image><text x=\"305.0\" y=\"367.0\" font-family=\"monospace\" font-size=\"12\">input2</text></svg>"
      }
     },
     "a180808c699348d7a159e2ee5ce64837": {
      "model_module": "jupyter-js-widgets",
      "model_module_version": "~2.1.4",
      "model_name": "IntSliderModel",
      "state": {
       "_model_module_version": "~2.1.4",
       "_view_module_version": "~2.1.4",
       "continuous_update": false,
       "description": "Dataset index",
       "layout": "IPY_MODEL_9804f3fc2cbb4e36aecb8189a7590e94",
       "max": 0,
       "style": "IPY_MODEL_34eaeb874abc400eaee6bbc685edbdc8"
      }
     },
     "a481a89713d04f80be34cff06a0952bf": {
      "model_module": "jupyter-js-widgets",
      "model_module_version": "~2.1.4",
      "model_name": "SliderStyleModel",
      "state": {
       "_model_module_version": "~2.1.4",
       "_view_module_version": "~2.1.4"
      }
     },
     "a6ba3da517874751b2e132e83b8062de": {
      "model_module": "jupyter-js-widgets",
      "model_module_version": "~2.1.4",
      "model_name": "HBoxModel",
      "state": {
       "_model_module_version": "~2.1.4",
       "_view_module_version": "~2.1.4",
       "children": [
        "IPY_MODEL_ef9dd0221f3f4a058931a3495cb55609",
        "IPY_MODEL_5e0170ce89344166a5011ade410beca4",
        "IPY_MODEL_cb4d73fdd32a403ba3c5b5c9a10e8986",
        "IPY_MODEL_95a0e9e83ef942feb599e837373dcfef",
        "IPY_MODEL_d143045bcad648f4b16f6c33af17fd4c"
       ],
       "layout": "IPY_MODEL_660bd8e40fd14400a07a466a917ca941"
      }
     },
     "a7b2d6b54a6a4f95b1eb678040073e17": {
      "model_module": "jupyter-js-widgets",
      "model_module_version": "~2.1.4",
      "model_name": "LayoutModel",
      "state": {
       "_model_module_version": "~2.1.4",
       "_view_module_version": "~2.1.4",
       "width": "100%"
      }
     },
     "a9174f3657974ab0855243b4b9419933": {
      "model_module": "jupyter-js-widgets",
      "model_module_version": "~2.1.4",
      "model_name": "ButtonStyleModel",
      "state": {
       "_model_module_version": "~2.1.4",
       "_view_module_version": "~2.1.4"
      }
     },
     "aa01e0e2a64f441d8260e68d63f8c890": {
      "model_module": "jupyter-js-widgets",
      "model_module_version": "~2.1.4",
      "model_name": "LayoutModel",
      "state": {
       "_model_module_version": "~2.1.4",
       "_view_module_version": "~2.1.4",
       "width": "100%"
      }
     },
     "ab22973ba0d5414badd5d8381a88574d": {
      "model_module": "jupyter-js-widgets",
      "model_module_version": "~2.1.4",
      "model_name": "LayoutModel",
      "state": {
       "_model_module_version": "~2.1.4",
       "_view_module_version": "~2.1.4",
       "width": "100%"
      }
     },
     "b278d2adb0e4417080b966d5f29e036f": {
      "model_module": "jupyter-js-widgets",
      "model_module_version": "~2.1.4",
      "model_name": "ButtonModel",
      "state": {
       "_model_module_version": "~2.1.4",
       "_view_module_version": "~2.1.4",
       "icon": "fast-backward",
       "layout": "IPY_MODEL_843fdd1522764f19b0b6ea5391338d0e",
       "style": "IPY_MODEL_2a12b2ccee5d49f193044dc75da686e6"
      }
     },
     "b37e2d5c5d4a4f11984e73ea5a30b665": {
      "model_module": "jupyter-js-widgets",
      "model_module_version": "~2.1.4",
      "model_name": "HTMLModel",
      "state": {
       "_model_module_version": "~2.1.4",
       "_view_module_version": "~2.1.4",
       "layout": "IPY_MODEL_1e4e40fc534d43dd8b1d4f59ee880754",
       "value": "\n        <svg id='XOR' xmlns='http://www.w3.org/2000/svg' width=\"200\" height=\"335\" image-rendering=\"pixelated\">\n    <defs>\n        <marker id=\"arrow\" markerWidth=\"10\" markerHeight=\"10\" refX=\"9\" refY=\"3\" orient=\"auto\" markerUnits=\"strokeWidth\">\n          <path d=\"M0,0 L0,6 L9,3 z\" fill=\"blue\" />\n        </marker>\n    </defs>\n<rect x=\"74.0\" y=\"24\" width=\"52\" height=\"52\" style=\"fill:none;stroke:blue;stroke-width:2\"/><image id=\"XOR_output_targets_1\" class=\"XOR_output_targets\" x=\"75.0\" y=\"25\" height=\"50\" width=\"50\" preserveAspectRatio=\"none\" href=\"data:image/gif;base64,R0lGODdhAQABAIAAAHd3dwAAACwAAAAAAQABAAAIBQABLAgIADs=\"><title>Layer: output (output)\n shape = (1,)\n Keras class = Dense\n activation = sigmoid</title></image><text x=\"130.0\" y=\"52.0\" font-family=\"monospace\" font-size=\"12\">targets</text><rect x=\"74.0\" y=\"84\" width=\"52\" height=\"52\" style=\"fill:none;stroke:blue;stroke-width:2\"/><image id=\"XOR_output_errors_1\" class=\"XOR_output_errors\" x=\"75.0\" y=\"85\" height=\"50\" width=\"50\" preserveAspectRatio=\"none\" href=\"data:image/gif;base64,R0lGODdhAQABAIAAAHd3dwAAACwAAAAAAQABAAAIBQABLAgIADs=\"><title>Layer: output (output)\n shape = (1,)\n Keras class = Dense\n activation = sigmoid</title></image><text x=\"130.0\" y=\"112.0\" font-family=\"monospace\" font-size=\"12\">errors</text><rect x=\"74.0\" y=\"149\" width=\"52\" height=\"52\" style=\"fill:none;stroke:blue;stroke-width:2\"/><image id=\"XOR_output_1\" class=\"XOR_output\" x=\"75.0\" y=\"150\" height=\"50\" width=\"50\" preserveAspectRatio=\"none\" href=\"data:image/gif;base64,R0lGODdhAQABAIAAAHd3dwAAACwAAAAAAQABAAAIBQABLAgIADs=\"><title>Layer: output (output)\n shape = (1,)\n Keras class = Dense\n activation = sigmoid</title></image><text x=\"130.0\" y=\"177.0\" font-family=\"monospace\" font-size=\"12\">output</text><rect x=\"90.0\" y=\"202\" width=\"20.0\" height=\"27\" style=\"fill:white;stroke:none\"><title>Weights from hidden to output\n output/kernel has shape (4, 1)\n output/bias has shape (1,)</title></rect><rect x=\"90.0\" y=\"202\" width=\"20.0\" height=\"27\" style=\"fill:white;stroke:none\"><title>Weights from hidden to output\n output/kernel has shape (4, 1)\n output/bias has shape (1,)</title></rect><line x1=\"100.0\" y1=\"229\" x2=\"100.0\" y2=\"202\" stroke=\"blue\" stroke-width=\"2\" marker-end=\"url(#arrow)\"><title>Weights from hidden to output\n output/kernel has shape (4, 1)\n output/bias has shape (1,)</title></line><line x1=\"100.0\" y1=\"229\" x2=\"100.0\" y2=\"202\" stroke=\"blue\" stroke-width=\"2\" marker-end=\"url(#arrow)\"><title>Weights from hidden to output\n output/kernel has shape (4, 1)\n output/bias has shape (1,)</title></line><rect x=\"74.0\" y=\"229\" width=\"52\" height=\"27\" style=\"fill:none;stroke:blue;stroke-width:2\"/><image id=\"XOR_hidden_2\" class=\"XOR_hidden\" x=\"75.0\" y=\"230\" height=\"25\" width=\"50\" preserveAspectRatio=\"none\" href=\"data:image/gif;base64,R0lGODdhAgABAIAAAH9/fwAAACwAAAAAAgABAAAIBQABAAgIADs=\"><title>Layer: hidden (hidden)\n shape = (2,)\n Keras class = Dense\n activation = sigmoid</title></image><text x=\"130.0\" y=\"244.5\" font-family=\"monospace\" font-size=\"12\">hidden</text><rect x=\"90.0\" y=\"257\" width=\"20.0\" height=\"27\" style=\"fill:white;stroke:none\"><title>Weights from input to hidden\n hidden/kernel has shape (4, 2)\n hidden/bias has shape (2,)</title></rect><rect x=\"90.0\" y=\"257\" width=\"20.0\" height=\"27\" style=\"fill:white;stroke:none\"><title>Weights from input to hidden\n hidden/kernel has shape (4, 2)\n hidden/bias has shape (2,)</title></rect><line x1=\"100.0\" y1=\"284\" x2=\"100.0\" y2=\"257\" stroke=\"blue\" stroke-width=\"2\" marker-end=\"url(#arrow)\"><title>Weights from input to hidden\n hidden/kernel has shape (4, 2)\n hidden/bias has shape (2,)</title></line><line x1=\"100.0\" y1=\"284\" x2=\"100.0\" y2=\"257\" stroke=\"blue\" stroke-width=\"2\" marker-end=\"url(#arrow)\"><title>Weights from input to hidden\n hidden/kernel has shape (4, 2)\n hidden/bias has shape (2,)</title></line><rect x=\"74.0\" y=\"284\" width=\"52\" height=\"27\" style=\"fill:none;stroke:blue;stroke-width:2\"/><image id=\"XOR_input_3\" class=\"XOR_input\" x=\"75.0\" y=\"285\" height=\"25\" width=\"50\" preserveAspectRatio=\"none\" href=\"data:image/gif;base64,R0lGODdhAgABAIAAAH9/fwAAACwAAAAAAgABAAAIBQABAAgIADs=\"><title>Layer: input (input)\n shape = (2,)\n Keras class = Input</title></image><text x=\"130.0\" y=\"299.5\" font-family=\"monospace\" font-size=\"12\">input</text></svg>"
      }
     },
     "b7743ea306b34a14b0bc447e5803a037": {
      "model_module": "jupyter-js-widgets",
      "model_module_version": "~2.1.4",
      "model_name": "ButtonStyleModel",
      "state": {
       "_model_module_version": "~2.1.4",
       "_view_module_version": "~2.1.4"
      }
     },
     "b8c63bf6194e4aeca644139b86ccaac7": {
      "model_module": "jupyter-js-widgets",
      "model_module_version": "~2.1.4",
      "model_name": "LayoutModel",
      "state": {
       "_model_module_version": "~2.1.4",
       "_view_module_version": "~2.1.4",
       "width": "100%"
      }
     },
     "b8e09c1952cb460e8b8d9094c97a528a": {
      "model_module": "jupyter-js-widgets",
      "model_module_version": "~2.1.4",
      "model_name": "VBoxModel",
      "state": {
       "_model_module_version": "~2.1.4",
       "_view_module_version": "~2.1.4",
       "children": [
        "IPY_MODEL_ff7cb83043ea42b48f209f5c4545cabe",
        "IPY_MODEL_558f0965a92147bcaccf10f563d0775c"
       ],
       "layout": "IPY_MODEL_c42030b4f9e3400184025a170a5e8d95"
      }
     },
     "bdd88ef8fa4442bbb1448d8b7cf6ff19": {
      "model_module": "jupyter-js-widgets",
      "model_module_version": "~2.1.4",
      "model_name": "LayoutModel",
      "state": {
       "_model_module_version": "~2.1.4",
       "_view_module_version": "~2.1.4",
       "width": "100%"
      }
     },
     "c0119bcfbbda40cb8d1a53e948d7960c": {
      "model_module": "jupyter-js-widgets",
      "model_module_version": "~2.1.4",
      "model_name": "SliderStyleModel",
      "state": {
       "_model_module_version": "~2.1.4",
       "_view_module_version": "~2.1.4"
      }
     },
     "c42030b4f9e3400184025a170a5e8d95": {
      "model_module": "jupyter-js-widgets",
      "model_module_version": "~2.1.4",
      "model_name": "LayoutModel",
      "state": {
       "_model_module_version": "~2.1.4",
       "_view_module_version": "~2.1.4",
       "width": "100%"
      }
     },
     "c51e7158e9954c60b5e2713044159ed7": {
      "model_module": "jupyter-js-widgets",
      "model_module_version": "~2.1.4",
      "model_name": "HTMLModel",
      "state": {
       "_model_module_version": "~2.1.4",
       "_view_module_version": "~2.1.4",
       "layout": "IPY_MODEL_e5c5566cf77e40a4b6f801f16088a123",
       "value": "\n        <svg id='XOR2' xmlns='http://www.w3.org/2000/svg' width=\"400\" height=\"415\" image-rendering=\"pixelated\">\n    <defs>\n        <marker id=\"arrow\" markerWidth=\"10\" markerHeight=\"10\" refX=\"9\" refY=\"3\" orient=\"auto\" markerUnits=\"strokeWidth\">\n          <path d=\"M0,0 L0,6 L9,3 z\" fill=\"blue\" />\n        </marker>\n    </defs>\n<rect x=\"99.0\" y=\"24\" width=\"52\" height=\"52\" style=\"fill:none;stroke:blue;stroke-width:2\"/><image id=\"XOR2_output1_targets_8\" class=\"XOR2_output1_targets\" x=\"100.0\" y=\"25\" height=\"50\" width=\"50\" preserveAspectRatio=\"none\" href=\"data:image/gif;base64,R0lGODdhAQABAIAAAHFxcQAAACwAAAAAAQABAAAIBQABLAgIADs=\"><title>Layer: output1 (output)\n shape = (1,)\n Keras class = Dense\n activation = sigmoid</title></image><text x=\"155.0\" y=\"52.0\" font-family=\"monospace\" font-size=\"12\">targets</text><rect x=\"249.0\" y=\"24\" width=\"52\" height=\"52\" style=\"fill:none;stroke:blue;stroke-width:2\"/><image id=\"XOR2_output2_targets_8\" class=\"XOR2_output2_targets\" x=\"250.0\" y=\"25\" height=\"50\" width=\"50\" preserveAspectRatio=\"none\" href=\"data:image/gif;base64,R0lGODdhAQABAIAAAMzMzAAAACwAAAAAAQABAAAIBQABLAgIADs=\"><title>Layer: output2 (output)\n shape = (1,)\n Keras class = Dense\n activation = sigmoid</title></image><text x=\"305.0\" y=\"52.0\" font-family=\"monospace\" font-size=\"12\">targets</text><rect x=\"99.0\" y=\"84\" width=\"52\" height=\"52\" style=\"fill:none;stroke:blue;stroke-width:2\"/><image id=\"XOR2_output1_errors_8\" class=\"XOR2_output1_errors\" x=\"100.0\" y=\"85\" height=\"50\" width=\"50\" preserveAspectRatio=\"none\" href=\"data:image/gif;base64,R0lGODdhAQABAIAAAHFxcQAAACwAAAAAAQABAAAIBQABLAgIADs=\"><title>Layer: output1 (output)\n shape = (1,)\n Keras class = Dense\n activation = sigmoid</title></image><text x=\"155.0\" y=\"112.0\" font-family=\"monospace\" font-size=\"12\">errors</text><rect x=\"249.0\" y=\"84\" width=\"52\" height=\"52\" style=\"fill:none;stroke:blue;stroke-width:2\"/><image id=\"XOR2_output2_errors_8\" class=\"XOR2_output2_errors\" x=\"250.0\" y=\"85\" height=\"50\" width=\"50\" preserveAspectRatio=\"none\" href=\"data:image/gif;base64,R0lGODdhAQABAIAAAMzMzAAAACwAAAAAAQABAAAIBQABLAgIADs=\"><title>Layer: output2 (output)\n shape = (1,)\n Keras class = Dense\n activation = sigmoid</title></image><text x=\"305.0\" y=\"112.0\" font-family=\"monospace\" font-size=\"12\">errors</text><rect x=\"99.0\" y=\"149\" width=\"52\" height=\"52\" style=\"fill:none;stroke:blue;stroke-width:2\"/><image id=\"XOR2_output1_8\" class=\"XOR2_output1\" x=\"100.0\" y=\"150\" height=\"50\" width=\"50\" preserveAspectRatio=\"none\" href=\"data:image/gif;base64,R0lGODdhAQABAIAAAHFxcQAAACwAAAAAAQABAAAIBQABLAgIADs=\"><title>Layer: output1 (output)\n shape = (1,)\n Keras class = Dense\n activation = sigmoid</title></image><text x=\"155.0\" y=\"177.0\" font-family=\"monospace\" font-size=\"12\">output1</text><rect x=\"249.0\" y=\"149\" width=\"52\" height=\"52\" style=\"fill:none;stroke:blue;stroke-width:2\"/><image id=\"XOR2_output2_9\" class=\"XOR2_output2\" x=\"250.0\" y=\"150\" height=\"50\" width=\"50\" preserveAspectRatio=\"none\" href=\"data:image/gif;base64,R0lGODdhAQABAIAAAMzMzAAAACwAAAAAAQABAAAIBQABLAgIADs=\"><title>Layer: output2 (output)\n shape = (1,)\n Keras class = Dense\n activation = sigmoid</title></image><text x=\"305.0\" y=\"177.0\" font-family=\"monospace\" font-size=\"12\">output2</text><rect x=\"125.0\" y=\"202\" width=\"75.0\" height=\"27\" style=\"fill:white;stroke:none\"><title>Weights from shared-hidden to output1\n output1/kernel has shape (5, 1)\n output1/bias has shape (1,)</title></rect><rect x=\"200.0\" y=\"202\" width=\"75.0\" height=\"27\" style=\"fill:white;stroke:none\"><title>Weights from shared-hidden to output2\n output2/kernel has shape (5, 1)\n output2/bias has shape (1,)</title></rect><line x1=\"200.0\" y1=\"229\" x2=\"125.0\" y2=\"202\" stroke=\"blue\" stroke-width=\"2\" marker-end=\"url(#arrow)\"><title>Weights from shared-hidden to output1\n output1/kernel has shape (5, 1)\n output1/bias has shape (1,)</title></line><line x1=\"200.0\" y1=\"229\" x2=\"275.0\" y2=\"202\" stroke=\"blue\" stroke-width=\"2\" marker-end=\"url(#arrow)\"><title>Weights from shared-hidden to output2\n output2/kernel has shape (5, 1)\n output2/bias has shape (1,)</title></line><rect x=\"174.0\" y=\"229\" width=\"52\" height=\"27\" style=\"fill:none;stroke:blue;stroke-width:2\"/><image id=\"XOR2_shared-hidden_10\" class=\"XOR2_shared-hidden\" x=\"175.0\" y=\"230\" height=\"25\" width=\"50\" preserveAspectRatio=\"none\" href=\"data:image/gif;base64,R0lGODdhBQABAIIAAFNTU19fX2hoaGlpabOzswAAAAAAAAAAACwAAAAABQABAAAICAAJCAAwIEBAADs=\"><title>Layer: shared-hidden (hidden)\n shape = (5,)\n Keras class = Dense\n activation = sigmoid</title></image><text x=\"230.0\" y=\"244.5\" font-family=\"monospace\" font-size=\"12\">shared-hidden</text><rect x=\"125.0\" y=\"257\" width=\"75.0\" height=\"27\" style=\"fill:white;stroke:none\"><title>Weights from hidden1 to shared-hidden\n shared-hidden/kernel has shape (20, 5)\n shared-hidden/bias has shape (5,)</title></rect><line x1=\"125.0\" y1=\"284\" x2=\"200.0\" y2=\"257\" stroke=\"blue\" stroke-width=\"2\" marker-end=\"url(#arrow)\"><title>Weights from hidden1 to shared-hidden\n shared-hidden/kernel has shape (20, 5)\n shared-hidden/bias has shape (5,)</title></line><rect x=\"99.0\" y=\"284\" width=\"52\" height=\"27\" style=\"fill:none;stroke:blue;stroke-width:2\"/><image id=\"XOR2_hidden1_11\" class=\"XOR2_hidden1\" x=\"100.0\" y=\"285\" height=\"25\" width=\"50\" preserveAspectRatio=\"none\" href=\"data:image/gif;base64,R0lGODdhCgABAIAAAH9/fwAAACwAAAAACgABAAAIBwABCBxIMCAAOw==\"><title>Layer: hidden1 (hidden)\n shape = (10,)\n Keras class = Dense\n activation = sigmoid</title></image><text x=\"155.0\" y=\"299.5\" font-family=\"monospace\" font-size=\"12\">hidden1</text><rect x=\"200.0\" y=\"257\" width=\"75.0\" height=\"27\" style=\"fill:white;stroke:none\"><title>Weights from hidden2 to shared-hidden\n shared-hidden/kernel has shape (20, 5)\n shared-hidden/bias has shape (5,)</title></rect><line x1=\"275.0\" y1=\"284\" x2=\"200.0\" y2=\"257\" stroke=\"blue\" stroke-width=\"2\" marker-end=\"url(#arrow)\"><title>Weights from hidden2 to shared-hidden\n shared-hidden/kernel has shape (20, 5)\n shared-hidden/bias has shape (5,)</title></line><rect x=\"249.0\" y=\"284\" width=\"52\" height=\"27\" style=\"fill:none;stroke:blue;stroke-width:2\"/><image id=\"XOR2_hidden2_12\" class=\"XOR2_hidden2\" x=\"250.0\" y=\"285\" height=\"25\" width=\"50\" preserveAspectRatio=\"none\" href=\"data:image/gif;base64,R0lGODdhCgABAIAAAH9/fwAAACwAAAAACgABAAAIBwABCBxIMCAAOw==\"><title>Layer: hidden2 (hidden)\n shape = (10,)\n Keras class = Dense\n activation = sigmoid</title></image><text x=\"305.0\" y=\"299.5\" font-family=\"monospace\" font-size=\"12\">hidden2</text><rect x=\"115.0\" y=\"312\" width=\"20.0\" height=\"27\" style=\"fill:white;stroke:none\"><title>Weights from input1 to hidden1\n hidden1/kernel has shape (1, 10)\n hidden1/bias has shape (10,)</title></rect><line x1=\"125.0\" y1=\"339\" x2=\"125.0\" y2=\"312\" stroke=\"blue\" stroke-width=\"2\" marker-end=\"url(#arrow)\"><title>Weights from input1 to hidden1\n hidden1/kernel has shape (1, 10)\n hidden1/bias has shape (10,)</title></line><rect x=\"99.0\" y=\"339\" width=\"52\" height=\"52\" style=\"fill:none;stroke:blue;stroke-width:2\"/><image id=\"XOR2_input1_13\" class=\"XOR2_input1\" x=\"100.0\" y=\"340\" height=\"50\" width=\"50\" preserveAspectRatio=\"none\" href=\"data:image/gif;base64,R0lGODdhAQABAIAAAH9/fwAAACwAAAAAAQABAAAIBQABLAgIADs=\"><title>Layer: input1 (input)\n shape = (1,)\n Keras class = Input</title></image><text x=\"155.0\" y=\"367.0\" font-family=\"monospace\" font-size=\"12\">input1</text><rect x=\"265.0\" y=\"312\" width=\"20.0\" height=\"27\" style=\"fill:white;stroke:none\"><title>Weights from input2 to hidden2\n hidden2/kernel has shape (1, 10)\n hidden2/bias has shape (10,)</title></rect><line x1=\"275.0\" y1=\"339\" x2=\"275.0\" y2=\"312\" stroke=\"blue\" stroke-width=\"2\" marker-end=\"url(#arrow)\"><title>Weights from input2 to hidden2\n hidden2/kernel has shape (1, 10)\n hidden2/bias has shape (10,)</title></line><rect x=\"249.0\" y=\"339\" width=\"52\" height=\"52\" style=\"fill:none;stroke:blue;stroke-width:2\"/><image id=\"XOR2_input2_14\" class=\"XOR2_input2\" x=\"250.0\" y=\"340\" height=\"50\" width=\"50\" preserveAspectRatio=\"none\" href=\"data:image/gif;base64,R0lGODdhAQABAIAAAH9/fwAAACwAAAAAAQABAAAIBQABLAgIADs=\"><title>Layer: input2 (input)\n shape = (1,)\n Keras class = Input</title></image><text x=\"305.0\" y=\"367.0\" font-family=\"monospace\" font-size=\"12\">input2</text></svg>"
      }
     },
     "c5f6bbc83fec49749f52bbde0dd3e15d": {
      "model_module": "jupyter-js-widgets",
      "model_module_version": "~2.1.4",
      "model_name": "LayoutModel",
      "state": {
       "_model_module_version": "~2.1.4",
       "_view_module_version": "~2.1.4",
       "width": "100%"
      }
     },
     "c8a68afe63a946c7b4bfea5e655bb35c": {
      "model_module": "jupyter-js-widgets",
      "model_module_version": "~2.1.4",
      "model_name": "ButtonModel",
      "state": {
       "_model_module_version": "~2.1.4",
       "_view_module_version": "~2.1.4",
       "description": "Propagate",
       "layout": "IPY_MODEL_8b69d5bfbb8940c389ada45d335718ee",
       "style": "IPY_MODEL_4414d0e35c8a4589a47b9edc440b19ff"
      }
     },
     "c92bb41041a642c1bc1351e0724cf4f1": {
      "model_module": "jupyter-js-widgets",
      "model_module_version": "~2.1.4",
      "model_name": "SelectModel",
      "state": {
       "_model_module_version": "~2.1.4",
       "_options_labels": [
        "Test",
        "Train"
       ],
       "_view_module_version": "~2.1.4",
       "description": "Dataset:",
       "layout": "IPY_MODEL_269f5544ab504b0f9c9203d6c98322a6",
       "value": "Train"
      }
     },
     "ca643d8d0f0f440192421b6e3c3d08da": {
      "model_module": "jupyter-js-widgets",
      "model_module_version": "~2.1.4",
      "model_name": "VBoxModel",
      "state": {
       "_model_module_version": "~2.1.4",
       "_view_module_version": "~2.1.4",
       "children": [
        "IPY_MODEL_c92bb41041a642c1bc1351e0724cf4f1",
        "IPY_MODEL_a180808c699348d7a159e2ee5ce64837",
        "IPY_MODEL_f9cbde53aacb45a78837d8402a2899f8"
       ],
       "layout": "IPY_MODEL_ff749cc236494a0a885f9015c286109c"
      }
     },
     "cb4d73fdd32a403ba3c5b5c9a10e8986": {
      "model_module": "jupyter-js-widgets",
      "model_module_version": "~2.1.4",
      "model_name": "ButtonModel",
      "state": {
       "_model_module_version": "~2.1.4",
       "_view_module_version": "~2.1.4",
       "description": "Propagate",
       "layout": "IPY_MODEL_b8c63bf6194e4aeca644139b86ccaac7",
       "style": "IPY_MODEL_a9174f3657974ab0855243b4b9419933"
      }
     },
     "cd4d283910cf4a028f0f983c397c7e8a": {
      "model_module": "jupyter-js-widgets",
      "model_module_version": "~2.1.4",
      "model_name": "SelectModel",
      "state": {
       "_model_module_version": "~2.1.4",
       "_options_labels": [
        "Test",
        "Train"
       ],
       "_view_module_version": "~2.1.4",
       "description": "Dataset:",
       "layout": "IPY_MODEL_557af0a547d64756ade76a6f0bec22d2",
       "value": "Train"
      }
     },
     "cec6f49ee2d0414bb70561fb905b6faa": {
      "model_module": "jupyter-js-widgets",
      "model_module_version": "~2.1.4",
      "model_name": "ButtonModel",
      "state": {
       "_model_module_version": "~2.1.4",
       "_view_module_version": "~2.1.4",
       "icon": "backward",
       "layout": "IPY_MODEL_e0884e288ac34db7b44fae35646f34b4",
       "style": "IPY_MODEL_075542df6dc0468a9484fc9fd24b566c"
      }
     },
     "d0e7245cdc4a45ddb5833934160755cb": {
      "model_module": "jupyter-js-widgets",
      "model_module_version": "~2.1.4",
      "model_name": "ButtonStyleModel",
      "state": {
       "_model_module_version": "~2.1.4",
       "_view_module_version": "~2.1.4"
      }
     },
     "d143045bcad648f4b16f6c33af17fd4c": {
      "model_module": "jupyter-js-widgets",
      "model_module_version": "~2.1.4",
      "model_name": "ButtonModel",
      "state": {
       "_model_module_version": "~2.1.4",
       "_view_module_version": "~2.1.4",
       "icon": "fast-forward",
       "layout": "IPY_MODEL_995fcdf4fa1c4b6aa42f95b59bb23128",
       "style": "IPY_MODEL_5859635e53364005a971453df803e198"
      }
     },
     "d17bd466791a47918d464d8072de5ed2": {
      "model_module": "jupyter-js-widgets",
      "model_module_version": "~2.1.4",
      "model_name": "ButtonStyleModel",
      "state": {
       "_model_module_version": "~2.1.4",
       "_view_module_version": "~2.1.4"
      }
     },
     "d58f1777d33c4893b4ee8aa5730a6c1d": {
      "model_module": "jupyter-js-widgets",
      "model_module_version": "~2.1.4",
      "model_name": "ButtonModel",
      "state": {
       "_model_module_version": "~2.1.4",
       "_view_module_version": "~2.1.4",
       "icon": "forward",
       "layout": "IPY_MODEL_15a5dcb545894936b3251c2b41752016",
       "style": "IPY_MODEL_b7743ea306b34a14b0bc447e5803a037"
      }
     },
     "d5b92a72e9cc455e8915f9037c6532d1": {
      "model_module": "jupyter-js-widgets",
      "model_module_version": "~2.1.4",
      "model_name": "LayoutModel",
      "state": {
       "_model_module_version": "~2.1.4",
       "_view_module_version": "~2.1.4",
       "width": "100%"
      }
     },
     "da509a02b7764951945b57bb61d1a36d": {
      "model_module": "jupyter-js-widgets",
      "model_module_version": "~2.1.4",
      "model_name": "LayoutModel",
      "state": {
       "_model_module_version": "~2.1.4",
       "_view_module_version": "~2.1.4",
       "width": "100%"
      }
     },
     "da8e2ae022e14374b8c9303a7170357c": {
      "model_module": "jupyter-js-widgets",
      "model_module_version": "~2.1.4",
      "model_name": "VBoxModel",
      "state": {
       "_model_module_version": "~2.1.4",
       "_view_module_version": "~2.1.4",
       "children": [
        "IPY_MODEL_66878a5205e641f8bce31f4abd5a82d1",
        "IPY_MODEL_2d196ce7627749b1b9a0e092986235df",
        "IPY_MODEL_0fcf1ff9f3b444bc8f08bd2bfe3ec704"
       ],
       "layout": "IPY_MODEL_8018842a8c54478d8399fb5a2aa31c0d"
      }
     },
     "de4d528236d04c01b22ec8d18e769990": {
      "model_module": "jupyter-js-widgets",
      "model_module_version": "~2.1.4",
      "model_name": "ButtonStyleModel",
      "state": {
       "_model_module_version": "~2.1.4",
       "_view_module_version": "~2.1.4"
      }
     },
     "deace35c0db74020ad0793578032d96d": {
      "model_module": "jupyter-js-widgets",
      "model_module_version": "~2.1.4",
      "model_name": "LayoutModel",
      "state": {
       "_model_module_version": "~2.1.4",
       "_view_module_version": "~2.1.4",
       "width": "100%"
      }
     },
     "e0884e288ac34db7b44fae35646f34b4": {
      "model_module": "jupyter-js-widgets",
      "model_module_version": "~2.1.4",
      "model_name": "LayoutModel",
      "state": {
       "_model_module_version": "~2.1.4",
       "_view_module_version": "~2.1.4",
       "width": "100%"
      }
     },
     "e08defdbbd284485829ed0fc572aff0e": {
      "model_module": "jupyter-js-widgets",
      "model_module_version": "~2.1.4",
      "model_name": "ButtonStyleModel",
      "state": {
       "_model_module_version": "~2.1.4",
       "_view_module_version": "~2.1.4"
      }
     },
     "e4d0db0840934887ac0c76eb7d210e3f": {
      "model_module": "jupyter-js-widgets",
      "model_module_version": "~2.1.4",
      "model_name": "ButtonStyleModel",
      "state": {
       "_model_module_version": "~2.1.4",
       "_view_module_version": "~2.1.4"
      }
     },
     "e5c5566cf77e40a4b6f801f16088a123": {
      "model_module": "jupyter-js-widgets",
      "model_module_version": "~2.1.4",
      "model_name": "LayoutModel",
      "state": {
       "_model_module_version": "~2.1.4",
       "_view_module_version": "~2.1.4",
       "height": "100%",
       "justify_content": "center",
       "max_height": "550px",
       "overflow_x": "auto",
       "width": "100%"
      }
     },
     "e7bb69176b664d36842ffbaae19814cf": {
      "model_module": "jupyter-js-widgets",
      "model_module_version": "~2.1.4",
      "model_name": "ButtonModel",
      "state": {
       "_model_module_version": "~2.1.4",
       "_view_module_version": "~2.1.4",
       "icon": "fast-backward",
       "layout": "IPY_MODEL_5d0bf2abf16b44e2a6a269f473ab6b45",
       "style": "IPY_MODEL_0390240e1ee3478db28fcf4866713029"
      }
     },
     "e904ef2f3f3e4476abe1a9b93c414898": {
      "model_module": "jupyter-js-widgets",
      "model_module_version": "~2.1.4",
      "model_name": "ButtonModel",
      "state": {
       "_model_module_version": "~2.1.4",
       "_view_module_version": "~2.1.4",
       "icon": "backward",
       "layout": "IPY_MODEL_10d78e560930455f860b9bc84916b535",
       "style": "IPY_MODEL_fd15ee6d0ae04100a3c7f72cda9964c4"
      }
     },
     "ea67af843d1a492d914719adce202d29": {
      "model_module": "jupyter-js-widgets",
      "model_module_version": "~2.1.4",
      "model_name": "ButtonStyleModel",
      "state": {
       "_model_module_version": "~2.1.4",
       "_view_module_version": "~2.1.4"
      }
     },
     "ebc55da8d40b4816afd7f7b48c12e449": {
      "model_module": "jupyter-js-widgets",
      "model_module_version": "~2.1.4",
      "model_name": "ButtonModel",
      "state": {
       "_model_module_version": "~2.1.4",
       "_view_module_version": "~2.1.4",
       "icon": "fast-forward",
       "layout": "IPY_MODEL_60c42f38c06f46238a6a8f8820499dcc",
       "style": "IPY_MODEL_371fcc1929d84d55ab174fc0bfbfe12b"
      }
     },
     "ed01ba605c1d41cb9452455af803e5da": {
      "model_module": "jupyter-js-widgets",
      "model_module_version": "~2.1.4",
      "model_name": "SliderStyleModel",
      "state": {
       "_model_module_version": "~2.1.4",
       "_view_module_version": "~2.1.4"
      }
     },
     "eed4eba22cf74522908db64592804e43": {
      "model_module": "jupyter-js-widgets",
      "model_module_version": "~2.1.4",
      "model_name": "LayoutModel",
      "state": {
       "_model_module_version": "~2.1.4",
       "_view_module_version": "~2.1.4",
       "width": "100%"
      }
     },
     "ef9dd0221f3f4a058931a3495cb55609": {
      "model_module": "jupyter-js-widgets",
      "model_module_version": "~2.1.4",
      "model_name": "ButtonModel",
      "state": {
       "_model_module_version": "~2.1.4",
       "_view_module_version": "~2.1.4",
       "icon": "fast-backward",
       "layout": "IPY_MODEL_a7b2d6b54a6a4f95b1eb678040073e17",
       "style": "IPY_MODEL_8c871557768144cd98050eb3176f9eec"
      }
     },
     "f2040f36e32b495f9053c11c644f95da": {
      "model_module": "jupyter-js-widgets",
      "model_module_version": "~2.1.4",
      "model_name": "LayoutModel",
      "state": {
       "_model_module_version": "~2.1.4",
       "_view_module_version": "~2.1.4",
       "width": "100%"
      }
     },
     "f21d38f95ff24668ad32a255fa19c90f": {
      "model_module": "jupyter-js-widgets",
      "model_module_version": "~2.1.4",
      "model_name": "SelectModel",
      "state": {
       "_model_module_version": "~2.1.4",
       "_options_labels": [
        "Test",
        "Train"
       ],
       "_view_module_version": "~2.1.4",
       "description": "Dataset:",
       "layout": "IPY_MODEL_81f4eae14eac4404aade3891e1bd57cf",
       "value": "Train"
      }
     },
     "f2b416ea73674fb78d31aee459bf0b54": {
      "model_module": "jupyter-js-widgets",
      "model_module_version": "~2.1.4",
      "model_name": "ButtonModel",
      "state": {
       "_model_module_version": "~2.1.4",
       "_view_module_version": "~2.1.4",
       "description": "Propagate",
       "layout": "IPY_MODEL_deace35c0db74020ad0793578032d96d",
       "style": "IPY_MODEL_3e365166e194442a950864e7195a14f1"
      }
     },
     "f34bfbae29564c0694b317d82598dee2": {
      "model_module": "jupyter-js-widgets",
      "model_module_version": "~2.1.4",
      "model_name": "ButtonModel",
      "state": {
       "_model_module_version": "~2.1.4",
       "_view_module_version": "~2.1.4",
       "icon": "backward",
       "layout": "IPY_MODEL_07a9c3947e8049c28f3a97f584291c13",
       "style": "IPY_MODEL_8c50522f33034b48b5aa47bda37b363d"
      }
     },
     "f7a082c80bfe40aaa079ad92ca7157a9": {
      "model_module": "jupyter-js-widgets",
      "model_module_version": "~2.1.4",
      "model_name": "VBoxModel",
      "state": {
       "_model_module_version": "~2.1.4",
       "_view_module_version": "~2.1.4",
       "children": [
        "IPY_MODEL_f21d38f95ff24668ad32a255fa19c90f",
        "IPY_MODEL_0e59218cf1bd42c6bb98406c9b3ecc7b",
        "IPY_MODEL_a6ba3da517874751b2e132e83b8062de"
       ],
       "layout": "IPY_MODEL_ab22973ba0d5414badd5d8381a88574d"
      }
     },
     "f9cbde53aacb45a78837d8402a2899f8": {
      "model_module": "jupyter-js-widgets",
      "model_module_version": "~2.1.4",
      "model_name": "HBoxModel",
      "state": {
       "_model_module_version": "~2.1.4",
       "_view_module_version": "~2.1.4",
       "children": [
        "IPY_MODEL_0f00a92292544b0aa3cc2a4816ad099b",
        "IPY_MODEL_24bd4b6e487c4eb8a2b38e980b601aa7",
        "IPY_MODEL_21e3f1e153b34ad5a0d908b5a8b5fb91",
        "IPY_MODEL_59e210980d934668a8ed6d28a0ef0216",
        "IPY_MODEL_1a0a227f01a74b2688f2738930ec9077"
       ],
       "layout": "IPY_MODEL_0687ef2726c94541ad62e3367d9f6301"
      }
     },
     "fb20c9c786124d0a8a3c2dd03f9ac05a": {
      "model_module": "jupyter-js-widgets",
      "model_module_version": "~2.1.4",
      "model_name": "LayoutModel",
      "state": {
       "_model_module_version": "~2.1.4",
       "_view_module_version": "~2.1.4",
       "width": "100%"
      }
     },
     "fd15ee6d0ae04100a3c7f72cda9964c4": {
      "model_module": "jupyter-js-widgets",
      "model_module_version": "~2.1.4",
      "model_name": "ButtonStyleModel",
      "state": {
       "_model_module_version": "~2.1.4",
       "_view_module_version": "~2.1.4"
      }
     },
     "ff749cc236494a0a885f9015c286109c": {
      "model_module": "jupyter-js-widgets",
      "model_module_version": "~2.1.4",
      "model_name": "LayoutModel",
      "state": {
       "_model_module_version": "~2.1.4",
       "_view_module_version": "~2.1.4",
       "width": "100%"
      }
     },
     "ff7cb83043ea42b48f209f5c4545cabe": {
      "model_module": "jupyter-js-widgets",
      "model_module_version": "~2.1.4",
      "model_name": "HTMLModel",
      "state": {
       "_model_module_version": "~2.1.4",
       "_view_module_version": "~2.1.4",
       "layout": "IPY_MODEL_41a1a10b6f1a4e1fb3c93142c9d553b0",
       "value": "\n        <svg id='XOR2' xmlns='http://www.w3.org/2000/svg' width=\"400\" height=\"415\" image-rendering=\"pixelated\">\n    <defs>\n        <marker id=\"arrow\" markerWidth=\"10\" markerHeight=\"10\" refX=\"9\" refY=\"3\" orient=\"auto\" markerUnits=\"strokeWidth\">\n          <path d=\"M0,0 L0,6 L9,3 z\" fill=\"blue\" />\n        </marker>\n    </defs>\n<rect x=\"99.0\" y=\"24\" width=\"52\" height=\"52\" style=\"fill:none;stroke:blue;stroke-width:2\"/><image id=\"XOR2_output1_targets_1\" class=\"XOR2_output1_targets\" x=\"100.0\" y=\"25\" height=\"50\" width=\"50\" preserveAspectRatio=\"none\" href=\"data:image/gif;base64,R0lGODdhAQABAIAAAHFxcQAAACwAAAAAAQABAAAIBQABLAgIADs=\"><title>Layer: output1 (output)\n shape = (1,)\n Keras class = Dense\n activation = sigmoid</title></image><text x=\"155.0\" y=\"52.0\" font-family=\"monospace\" font-size=\"12\">targets</text><rect x=\"249.0\" y=\"24\" width=\"52\" height=\"52\" style=\"fill:none;stroke:blue;stroke-width:2\"/><image id=\"XOR2_output2_targets_1\" class=\"XOR2_output2_targets\" x=\"250.0\" y=\"25\" height=\"50\" width=\"50\" preserveAspectRatio=\"none\" href=\"data:image/gif;base64,R0lGODdhAQABAIAAAMzMzAAAACwAAAAAAQABAAAIBQABLAgIADs=\"><title>Layer: output2 (output)\n shape = (1,)\n Keras class = Dense\n activation = sigmoid</title></image><text x=\"305.0\" y=\"52.0\" font-family=\"monospace\" font-size=\"12\">targets</text><rect x=\"99.0\" y=\"84\" width=\"52\" height=\"52\" style=\"fill:none;stroke:blue;stroke-width:2\"/><image id=\"XOR2_output1_errors_1\" class=\"XOR2_output1_errors\" x=\"100.0\" y=\"85\" height=\"50\" width=\"50\" preserveAspectRatio=\"none\" href=\"data:image/gif;base64,R0lGODdhAQABAIAAAHFxcQAAACwAAAAAAQABAAAIBQABLAgIADs=\"><title>Layer: output1 (output)\n shape = (1,)\n Keras class = Dense\n activation = sigmoid</title></image><text x=\"155.0\" y=\"112.0\" font-family=\"monospace\" font-size=\"12\">errors</text><rect x=\"249.0\" y=\"84\" width=\"52\" height=\"52\" style=\"fill:none;stroke:blue;stroke-width:2\"/><image id=\"XOR2_output2_errors_1\" class=\"XOR2_output2_errors\" x=\"250.0\" y=\"85\" height=\"50\" width=\"50\" preserveAspectRatio=\"none\" href=\"data:image/gif;base64,R0lGODdhAQABAIAAAMzMzAAAACwAAAAAAQABAAAIBQABLAgIADs=\"><title>Layer: output2 (output)\n shape = (1,)\n Keras class = Dense\n activation = sigmoid</title></image><text x=\"305.0\" y=\"112.0\" font-family=\"monospace\" font-size=\"12\">errors</text><rect x=\"99.0\" y=\"149\" width=\"52\" height=\"52\" style=\"fill:none;stroke:blue;stroke-width:2\"/><image id=\"XOR2_output1_1\" class=\"XOR2_output1\" x=\"100.0\" y=\"150\" height=\"50\" width=\"50\" preserveAspectRatio=\"none\" href=\"data:image/gif;base64,R0lGODdhAQABAIAAAHFxcQAAACwAAAAAAQABAAAIBQABLAgIADs=\"><title>Layer: output1 (output)\n shape = (1,)\n Keras class = Dense\n activation = sigmoid</title></image><text x=\"155.0\" y=\"177.0\" font-family=\"monospace\" font-size=\"12\">output1</text><rect x=\"249.0\" y=\"149\" width=\"52\" height=\"52\" style=\"fill:none;stroke:blue;stroke-width:2\"/><image id=\"XOR2_output2_2\" class=\"XOR2_output2\" x=\"250.0\" y=\"150\" height=\"50\" width=\"50\" preserveAspectRatio=\"none\" href=\"data:image/gif;base64,R0lGODdhAQABAIAAAMzMzAAAACwAAAAAAQABAAAIBQABLAgIADs=\"><title>Layer: output2 (output)\n shape = (1,)\n Keras class = Dense\n activation = sigmoid</title></image><text x=\"305.0\" y=\"177.0\" font-family=\"monospace\" font-size=\"12\">output2</text><rect x=\"125.0\" y=\"202\" width=\"75.0\" height=\"27\" style=\"fill:white;stroke:none\"><title>Weights from shared-hidden to output1\n output1/kernel has shape (5, 1)\n output1/bias has shape (1,)</title></rect><rect x=\"200.0\" y=\"202\" width=\"75.0\" height=\"27\" style=\"fill:white;stroke:none\"><title>Weights from shared-hidden to output2\n output2/kernel has shape (5, 1)\n output2/bias has shape (1,)</title></rect><line x1=\"200.0\" y1=\"229\" x2=\"125.0\" y2=\"202\" stroke=\"blue\" stroke-width=\"2\" marker-end=\"url(#arrow)\"><title>Weights from shared-hidden to output1\n output1/kernel has shape (5, 1)\n output1/bias has shape (1,)</title></line><line x1=\"200.0\" y1=\"229\" x2=\"275.0\" y2=\"202\" stroke=\"blue\" stroke-width=\"2\" marker-end=\"url(#arrow)\"><title>Weights from shared-hidden to output2\n output2/kernel has shape (5, 1)\n output2/bias has shape (1,)</title></line><rect x=\"174.0\" y=\"229\" width=\"52\" height=\"27\" style=\"fill:none;stroke:blue;stroke-width:2\"/><image id=\"XOR2_shared-hidden_3\" class=\"XOR2_shared-hidden\" x=\"175.0\" y=\"230\" height=\"25\" width=\"50\" preserveAspectRatio=\"none\" href=\"data:image/gif;base64,R0lGODdhBQABAIIAAFNTU19fX2hoaGlpabOzswAAAAAAAAAAACwAAAAABQABAAAICAAJCAAwIEBAADs=\"><title>Layer: shared-hidden (hidden)\n shape = (5,)\n Keras class = Dense\n activation = sigmoid</title></image><text x=\"230.0\" y=\"244.5\" font-family=\"monospace\" font-size=\"12\">shared-hidden</text><rect x=\"125.0\" y=\"257\" width=\"75.0\" height=\"27\" style=\"fill:white;stroke:none\"><title>Weights from hidden1 to shared-hidden\n shared-hidden/kernel has shape (20, 5)\n shared-hidden/bias has shape (5,)</title></rect><line x1=\"125.0\" y1=\"284\" x2=\"200.0\" y2=\"257\" stroke=\"blue\" stroke-width=\"2\" marker-end=\"url(#arrow)\"><title>Weights from hidden1 to shared-hidden\n shared-hidden/kernel has shape (20, 5)\n shared-hidden/bias has shape (5,)</title></line><rect x=\"99.0\" y=\"284\" width=\"52\" height=\"27\" style=\"fill:none;stroke:blue;stroke-width:2\"/><image id=\"XOR2_hidden1_4\" class=\"XOR2_hidden1\" x=\"100.0\" y=\"285\" height=\"25\" width=\"50\" preserveAspectRatio=\"none\" href=\"data:image/gif;base64,R0lGODdhCgABAIAAAH9/fwAAACwAAAAACgABAAAIBwABCBxIMCAAOw==\"><title>Layer: hidden1 (hidden)\n shape = (10,)\n Keras class = Dense\n activation = sigmoid</title></image><text x=\"155.0\" y=\"299.5\" font-family=\"monospace\" font-size=\"12\">hidden1</text><rect x=\"200.0\" y=\"257\" width=\"75.0\" height=\"27\" style=\"fill:white;stroke:none\"><title>Weights from hidden2 to shared-hidden\n shared-hidden/kernel has shape (20, 5)\n shared-hidden/bias has shape (5,)</title></rect><line x1=\"275.0\" y1=\"284\" x2=\"200.0\" y2=\"257\" stroke=\"blue\" stroke-width=\"2\" marker-end=\"url(#arrow)\"><title>Weights from hidden2 to shared-hidden\n shared-hidden/kernel has shape (20, 5)\n shared-hidden/bias has shape (5,)</title></line><rect x=\"249.0\" y=\"284\" width=\"52\" height=\"27\" style=\"fill:none;stroke:blue;stroke-width:2\"/><image id=\"XOR2_hidden2_5\" class=\"XOR2_hidden2\" x=\"250.0\" y=\"285\" height=\"25\" width=\"50\" preserveAspectRatio=\"none\" href=\"data:image/gif;base64,R0lGODdhCgABAIAAAH9/fwAAACwAAAAACgABAAAIBwABCBxIMCAAOw==\"><title>Layer: hidden2 (hidden)\n shape = (10,)\n Keras class = Dense\n activation = sigmoid</title></image><text x=\"305.0\" y=\"299.5\" font-family=\"monospace\" font-size=\"12\">hidden2</text><rect x=\"115.0\" y=\"312\" width=\"20.0\" height=\"27\" style=\"fill:white;stroke:none\"><title>Weights from input1 to hidden1\n hidden1/kernel has shape (1, 10)\n hidden1/bias has shape (10,)</title></rect><line x1=\"125.0\" y1=\"339\" x2=\"125.0\" y2=\"312\" stroke=\"blue\" stroke-width=\"2\" marker-end=\"url(#arrow)\"><title>Weights from input1 to hidden1\n hidden1/kernel has shape (1, 10)\n hidden1/bias has shape (10,)</title></line><rect x=\"99.0\" y=\"339\" width=\"52\" height=\"52\" style=\"fill:none;stroke:blue;stroke-width:2\"/><image id=\"XOR2_input1_6\" class=\"XOR2_input1\" x=\"100.0\" y=\"340\" height=\"50\" width=\"50\" preserveAspectRatio=\"none\" href=\"data:image/gif;base64,R0lGODdhAQABAIAAAH9/fwAAACwAAAAAAQABAAAIBQABLAgIADs=\"><title>Layer: input1 (input)\n shape = (1,)\n Keras class = Input</title></image><text x=\"155.0\" y=\"367.0\" font-family=\"monospace\" font-size=\"12\">input1</text><rect x=\"265.0\" y=\"312\" width=\"20.0\" height=\"27\" style=\"fill:white;stroke:none\"><title>Weights from input2 to hidden2\n hidden2/kernel has shape (1, 10)\n hidden2/bias has shape (10,)</title></rect><line x1=\"275.0\" y1=\"339\" x2=\"275.0\" y2=\"312\" stroke=\"blue\" stroke-width=\"2\" marker-end=\"url(#arrow)\"><title>Weights from input2 to hidden2\n hidden2/kernel has shape (1, 10)\n hidden2/bias has shape (10,)</title></line><rect x=\"249.0\" y=\"339\" width=\"52\" height=\"52\" style=\"fill:none;stroke:blue;stroke-width:2\"/><image id=\"XOR2_input2_7\" class=\"XOR2_input2\" x=\"250.0\" y=\"340\" height=\"50\" width=\"50\" preserveAspectRatio=\"none\" href=\"data:image/gif;base64,R0lGODdhAQABAIAAAH9/fwAAACwAAAAAAQABAAAIBQABLAgIADs=\"><title>Layer: input2 (input)\n shape = (1,)\n Keras class = Input</title></image><text x=\"305.0\" y=\"367.0\" font-family=\"monospace\" font-size=\"12\">input2</text></svg>"
      }
     }
    },
    "version_major": 1,
    "version_minor": 0
   }
  }
 },
 "nbformat": 4,
 "nbformat_minor": 2
}
