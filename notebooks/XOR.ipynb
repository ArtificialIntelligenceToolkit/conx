{
 "cells": [
  {
   "cell_type": "markdown",
   "metadata": {},
   "source": [
    "# XOR Multiple Inputs/Targets\n",
    "\n",
    "Testing..."
   ]
  },
  {
   "cell_type": "code",
   "execution_count": null,
   "metadata": {
    "collapsed": true
   },
   "outputs": [],
   "source": [
    "import sys\n",
    "sys.path.append(\"..\")"
   ]
  },
  {
   "cell_type": "code",
   "execution_count": null,
   "metadata": {},
   "outputs": [],
   "source": [
    "from conx import Network, Layer, SGD"
   ]
  },
  {
   "cell_type": "code",
   "execution_count": null,
   "metadata": {
    "collapsed": true
   },
   "outputs": [],
   "source": [
    "net = Network(\"XOR2\")\n",
    "net.add(Layer(\"input1\", shape=1))\n",
    "net.add(Layer(\"input2\", shape=1))\n",
    "net.add(Layer(\"hidden1\", shape=2, activation=\"sigmoid\"))\n",
    "net.add(Layer(\"hidden2\", shape=2, activation=\"sigmoid\"))\n",
    "net.add(Layer(\"shared-hidden\", shape=2, activation=\"sigmoid\"))\n",
    "net.add(Layer(\"output1\", shape=1, activation=\"sigmoid\"))\n",
    "net.add(Layer(\"output2\", shape=1, activation=\"sigmoid\"))\n",
    "\n",
    "net.connect(\"input1\", \"hidden1\")\n",
    "net.connect(\"input2\", \"hidden2\")\n",
    "net.connect(\"hidden1\", \"shared-hidden\")\n",
    "net.connect(\"hidden2\", \"shared-hidden\")\n",
    "net.connect(\"shared-hidden\", \"output1\")\n",
    "net.connect(\"shared-hidden\", \"output2\")\n",
    "\n",
    "net.set_input_layer_order(\"input1\", \"input2\")\n",
    "net.set_output_layer_order(\"output1\", \"output2\")"
   ]
  },
  {
   "cell_type": "code",
   "execution_count": null,
   "metadata": {
    "collapsed": true
   },
   "outputs": [],
   "source": [
    "net.compile(loss='mean_squared_error',\n",
    "            optimizer=SGD(lr=0.3, momentum=0.9))"
   ]
  },
  {
   "cell_type": "code",
   "execution_count": null,
   "metadata": {},
   "outputs": [],
   "source": [
    "dataset = [\n",
    "    ([[0],[0]], [[0],[0]]),\n",
    "    ([[0],[1]], [[1],[1]]),\n",
    "    ([[1],[0]], [[1],[1]]),\n",
    "    ([[1],[1]], [[0],[0]])\n",
    "]\n",
    "\n",
    "net.set_dataset(dataset)"
   ]
  },
  {
   "cell_type": "code",
   "execution_count": null,
   "metadata": {},
   "outputs": [],
   "source": [
    "net"
   ]
  },
  {
   "cell_type": "code",
   "execution_count": null,
   "metadata": {},
   "outputs": [],
   "source": [
    "import time\n",
    "from IPython.display import HTML"
   ]
  },
  {
   "cell_type": "code",
   "execution_count": null,
   "metadata": {},
   "outputs": [],
   "source": [
    "for i in range(10):\n",
    "    (epoch_count, loss, acc, val_acc) = net.train(epochs=100, verbose=0)\n",
    "    for index in range(4):\n",
    "        net.update_svg(index)\n",
    "        time.sleep(.1)"
   ]
  },
  {
   "cell_type": "code",
   "execution_count": null,
   "metadata": {
    "collapsed": true
   },
   "outputs": [],
   "source": [
    "from keras.utils.vis_utils import model_to_dot"
   ]
  },
  {
   "cell_type": "code",
   "execution_count": null,
   "metadata": {
    "collapsed": true
   },
   "outputs": [],
   "source": [
    "dot = model_to_dot(net.model)"
   ]
  },
  {
   "cell_type": "code",
   "execution_count": null,
   "metadata": {},
   "outputs": [],
   "source": [
    "HTML(dot.create_svg().decode())"
   ]
  },
  {
   "cell_type": "code",
   "execution_count": null,
   "metadata": {},
   "outputs": [],
   "source": [
    "# %load ../examples/mnist3.py\n",
    "from conx import *\n",
    "\n",
    "import numpy as np\n",
    "import matplotlib.pyplot as plt\n",
    "from scipy import misc\n",
    "import glob, random\n",
    "\n",
    "#---------------------------------------------------------------------------\n",
    "\n",
    "def save_files(images, labels, dir_name, start=0):\n",
    "    assert type(dir_name) is str and len(images) == len(labels)\n",
    "    for i in range(len(images)):\n",
    "        category = labels[i]\n",
    "        filename = '%s/%d_%d.png' % (dir_name, category, start+i)\n",
    "        misc.imsave(filename, images[i])\n",
    "        if i > 0 and i % 5000 == 0:\n",
    "            print('%d images saved' % i)\n",
    "    print('all done')\n",
    "\n",
    "# returns images and labels in dir_name folder, split and randomly shuffled\n",
    "def myload_data(dir_name, limit=None, split=None):\n",
    "    filenames = glob.glob('%s/*.png' % dir_name)\n",
    "    num_files = len(filenames)\n",
    "    if num_files == 0:\n",
    "        print('ERROR: no files found')\n",
    "        return None\n",
    "    if limit is None:\n",
    "        limit = num_files\n",
    "    elif type(limit) is not int or not 0 < limit <= num_files:\n",
    "        print('ERROR: invalid limit')\n",
    "        return None\n",
    "    if split is None or type(split) is int and 0 < split < limit:\n",
    "        pass\n",
    "    elif type(split) is float and 0 < split < 1:\n",
    "        split = int(split*limit)\n",
    "    else:\n",
    "        print('ERROR: invalid split')\n",
    "        return None\n",
    "    random.shuffle(filenames)\n",
    "    img = misc.imread(filenames[0])\n",
    "    images = np.empty((limit,) + img.shape).astype('uint8')\n",
    "    labels = np.empty((limit,)).astype('uint8')\n",
    "    print('loading images...')\n",
    "    for i, filename in enumerate(filenames):\n",
    "        if i >= limit: break\n",
    "        images[i] = misc.imread(filename)\n",
    "        labels[i] = int(filename.split('/')[1].split('_')[0])\n",
    "        if i > 0 and i % 1000 == 0:\n",
    "            print('%d images loaded' % i)\n",
    "    if split is None:\n",
    "        print('images:', images.shape)\n",
    "        print('image bytes:', images.nbytes)\n",
    "        print('labels:', labels.shape)\n",
    "        print('label bytes:', labels.nbytes)\n",
    "        return images, labels\n",
    "    else:\n",
    "        train_images = images[:split]\n",
    "        train_labels = labels[:split]\n",
    "        test_images = images[split:]\n",
    "        test_labels = labels[split:]\n",
    "        print('train_images: %s, test_images: %s' % (train_images.shape, test_images.shape))\n",
    "        print('image bytes:', train_images.nbytes + test_images.nbytes)\n",
    "        print('train_labels %s, test_labels: %s' % (train_labels.shape, test_labels.shape))\n",
    "        print('label bytes:', train_labels.nbytes + test_labels.nbytes)\n",
    "        return (train_images, train_labels), (test_images, test_labels)\n",
    "\n",
    "def info():\n",
    "    print('images: %s %s' % (images.shape, images.dtype))\n",
    "    print('image bytes: %d' % images.nbytes)\n",
    "    print('labels: %s %s' % (labels.shape, labels.dtype))\n",
    "    print('label bytes: %d' % labels.nbytes)\n",
    "\n",
    "def info2():\n",
    "    print('train_images: %s %s' % (train_images.shape, train_images.dtype))\n",
    "    print('test_images: %s %s' % (test_images.shape, test_images.dtype))\n",
    "    print('total image bytes: %d' % (train_images.nbytes + test_images.nbytes))\n",
    "    print('train_labels: %s %s' % (train_labels.shape, train_labels.dtype))\n",
    "    print('test_labels: %s %s' % (test_labels.shape, test_labels.dtype))\n",
    "    print('total label bytes: %d' % (train_labels.nbytes + test_labels.nbytes))\n",
    "\n",
    "def reshuffle(images, labels):\n",
    "    num_images = images.shape[0]\n",
    "    num_labels = labels.shape[0]\n",
    "    assert num_images == num_labels\n",
    "    indices = np.random.permutation(num_images)\n",
    "    return images[indices], labels[indices]\n",
    "\n",
    "def view(images, start=0, cmap=None, interpolation=None):\n",
    "    plt.axis('off')\n",
    "    k = start\n",
    "    while True:\n",
    "        print('image %d' % k)\n",
    "        plt.imshow(images[k], cmap=cmap, interpolation=interpolation)\n",
    "        plt.draw()\n",
    "        k += 1\n",
    "        answer = raw_input('RETURN to continue, q to quit...')\n",
    "        if answer == 'q': break\n",
    "\n",
    "# to save:\n",
    "#np.savez_compressed('mydataset.npz', images=images, labels=labels)\n",
    "\n",
    "plt.ion()\n",
    "#---------------------------------------------------------------------------\n",
    "\n",
    "net = Network(\"MNIST\")\n",
    "net.add(Layer(\"input\", shape=784, vshape=(28, 28)))\n",
    "net.add(Layer(\"hidden1\", shape=512, vshape=(16,32), activation='relu', dropout=0.2))\n",
    "net.add(Layer(\"hidden2\", shape=512, vshape=(16,32), activation='relu', dropout=0.2))\n",
    "net.add(Layer(\"output\", shape=10, activation='softmax'))\n",
    "\n",
    "net.connect('input', 'hidden1')\n",
    "net.connect('hidden1', 'hidden2')\n",
    "net.connect('hidden2', 'output')\n",
    "\n",
    "net.compile(loss='mean_squared_error',\n",
    "            optimizer='sgd')\n",
    "\n",
    "net.load_keras_dataset('mnist')\n",
    "net.rescale_inputs((0,255), (0,1), 'float32')\n",
    "net.shuffle_dataset()\n",
    "net.reshape_inputs(784)\n",
    "net.split_dataset(100)\n",
    "net.set_targets_to_categories(10)\n",
    "net.summary_dataset()\n",
    "\n"
   ]
  },
  {
   "cell_type": "code",
   "execution_count": null,
   "metadata": {},
   "outputs": [],
   "source": [
    "net"
   ]
  },
  {
   "cell_type": "code",
   "execution_count": null,
   "metadata": {},
   "outputs": [],
   "source": [
    "for index in range(10):\n",
    "    net.update_svg(index)\n",
    "    time.sleep(1)"
   ]
  }
 ],
 "metadata": {
  "kernelspec": {
   "display_name": "Python 3",
   "language": "python",
   "name": "python3"
  },
  "language_info": {
   "codemirror_mode": {
    "name": "ipython",
    "version": 3
   },
   "file_extension": ".py",
   "mimetype": "text/x-python",
   "name": "python",
   "nbconvert_exporter": "python",
   "pygments_lexer": "ipython3",
   "version": "3.5.3"
  },
  "widgets": {
   "application/vnd.jupyter.widget-state+json": {
    "state": {
     "0662ceeb05bf4106a79628645c088d33": {
      "model_module": "jupyter-js-widgets",
      "model_module_version": "~2.1.4",
      "model_name": "ButtonStyleModel",
      "state": {
       "_model_module_version": "~2.1.4",
       "_view_module_version": "~2.1.4"
      }
     },
     "06691d175b474e889ac11f092441cb3e": {
      "model_module": "jupyter-js-widgets",
      "model_module_version": "~2.1.4",
      "model_name": "ButtonStyleModel",
      "state": {
       "_model_module_version": "~2.1.4",
       "_view_module_version": "~2.1.4"
      }
     },
     "09d96629fe2f4bbaa5dd321ddbc71e09": {
      "model_module": "jupyter-js-widgets",
      "model_module_version": "~2.1.4",
      "model_name": "ImageModel",
      "state": {
       "_b64value": "iVBORw0KGgoAAAANSUhEUgAAADIAAAAZCAYAAABzVH1EAAAAQ0lEQVR4nO3PUQ0AIAzE0IFN/KvgY6i4pSF9BpquPtWVduOF2vnEDEdoHKFxhMYRGkdoHKFxhMYRGkdoHKFxhOabkQfsWQOGid5ZYAAAAABJRU5ErkJggg==",
       "_model_module_version": "~2.1.4",
       "_view_module_version": "~2.1.4",
       "layout": "IPY_MODEL_2ee01cfd94074e3b9235a2eb81e3761c"
      }
     },
     "0a915674e2dc44b9aebf61e1693ab72b": {
      "model_module": "jupyter-js-widgets",
      "model_module_version": "~2.1.4",
      "model_name": "LayoutModel",
      "state": {
       "_model_module_version": "~2.1.4",
       "_view_module_version": "~2.1.4"
      }
     },
     "0af2f12b77084930bfc71ef09c72b20f": {
      "model_module": "jupyter-js-widgets",
      "model_module_version": "~2.1.4",
      "model_name": "ButtonModel",
      "state": {
       "_model_module_version": "~2.1.4",
       "_view_module_version": "~2.1.4",
       "description": "Next",
       "layout": "IPY_MODEL_b065dd7be0d14060bdc8ba816dac75fb",
       "style": "IPY_MODEL_06691d175b474e889ac11f092441cb3e"
      }
     },
     "127a22ba47bc43f88821164423a46549": {
      "model_module": "jupyter-js-widgets",
      "model_module_version": "~2.1.4",
      "model_name": "AccordionModel",
      "state": {
       "_model_module_version": "~2.1.4",
       "_titles": {
        "0": "input1"
       },
       "_view_module_version": "~2.1.4",
       "children": [
        "IPY_MODEL_b269a750b06546c19cb3445b1dfc7957"
       ],
       "layout": "IPY_MODEL_0a915674e2dc44b9aebf61e1693ab72b"
      }
     },
     "1379da532a65475f93c359bb3ff8f421": {
      "model_module": "jupyter-js-widgets",
      "model_module_version": "~2.1.4",
      "model_name": "LayoutModel",
      "state": {
       "_model_module_version": "~2.1.4",
       "_view_module_version": "~2.1.4",
       "border": "2px solid blue"
      }
     },
     "16d10d0e326b477488e65f00bdf9f527": {
      "model_module": "jupyter-js-widgets",
      "model_module_version": "~2.1.4",
      "model_name": "LayoutModel",
      "state": {
       "_model_module_version": "~2.1.4",
       "_view_module_version": "~2.1.4",
       "border": "2px solid blue"
      }
     },
     "180d6092132c4dda9bd7f8b15c3c694e": {
      "model_module": "jupyter-js-widgets",
      "model_module_version": "~2.1.4",
      "model_name": "AccordionModel",
      "state": {
       "_model_module_version": "~2.1.4",
       "_titles": {
        "0": "output1"
       },
       "_view_module_version": "~2.1.4",
       "children": [
        "IPY_MODEL_b3273ecfdc874d9e8c50c10b98e327ce"
       ],
       "layout": "IPY_MODEL_1f307b971537466eac2a8e677df40c1e"
      }
     },
     "1a22ad2fab494465a49f24379d56f8df": {
      "model_module": "jupyter-js-widgets",
      "model_module_version": "~2.1.4",
      "model_name": "AccordionModel",
      "state": {
       "_model_module_version": "~2.1.4",
       "_titles": {
        "0": "shared-hidden"
       },
       "_view_module_version": "~2.1.4",
       "children": [
        "IPY_MODEL_c6982262f1af4d39b4a7c0c551e991ed"
       ],
       "layout": "IPY_MODEL_1c136e4ce87d4f8cbf7aa40a77bcfafe"
      }
     },
     "1c136e4ce87d4f8cbf7aa40a77bcfafe": {
      "model_module": "jupyter-js-widgets",
      "model_module_version": "~2.1.4",
      "model_name": "LayoutModel",
      "state": {
       "_model_module_version": "~2.1.4",
       "_view_module_version": "~2.1.4"
      }
     },
     "1f307b971537466eac2a8e677df40c1e": {
      "model_module": "jupyter-js-widgets",
      "model_module_version": "~2.1.4",
      "model_name": "LayoutModel",
      "state": {
       "_model_module_version": "~2.1.4",
       "_view_module_version": "~2.1.4"
      }
     },
     "2a2afcc2ec0146508e0c6b5fefd6413a": {
      "model_module": "jupyter-js-widgets",
      "model_module_version": "~2.1.4",
      "model_name": "LayoutModel",
      "state": {
       "_model_module_version": "~2.1.4",
       "_view_module_version": "~2.1.4"
      }
     },
     "2bba529eb48548fca16c7302e63ac86d": {
      "model_module": "jupyter-js-widgets",
      "model_module_version": "~2.1.4",
      "model_name": "LayoutModel",
      "state": {
       "_model_module_version": "~2.1.4",
       "_view_module_version": "~2.1.4"
      }
     },
     "2ea6ad8a61a04fca83e20eadddd5b2f2": {
      "model_module": "jupyter-js-widgets",
      "model_module_version": "~2.1.4",
      "model_name": "LayoutModel",
      "state": {
       "_model_module_version": "~2.1.4",
       "_view_module_version": "~2.1.4"
      }
     },
     "2ee01cfd94074e3b9235a2eb81e3761c": {
      "model_module": "jupyter-js-widgets",
      "model_module_version": "~2.1.4",
      "model_name": "LayoutModel",
      "state": {
       "_model_module_version": "~2.1.4",
       "_view_module_version": "~2.1.4",
       "border": "2px solid blue"
      }
     },
     "2ee2c8e9de9342a5818f7f27c266d774": {
      "model_module": "jupyter-js-widgets",
      "model_module_version": "~2.1.4",
      "model_name": "LayoutModel",
      "state": {
       "_model_module_version": "~2.1.4",
       "_view_module_version": "~2.1.4"
      }
     },
     "31a8e7effec646f985dedd185dae50a4": {
      "model_module": "jupyter-js-widgets",
      "model_module_version": "~2.1.4",
      "model_name": "AccordionModel",
      "state": {
       "_model_module_version": "~2.1.4",
       "_titles": {
        "0": "output2"
       },
       "_view_module_version": "~2.1.4",
       "children": [
        "IPY_MODEL_658bee53488b49568155049429ea0ece"
       ],
       "layout": "IPY_MODEL_d9533289a30c445694ce51061bb8f54a"
      }
     },
     "31e4ba31d3014d5ba035f62e15b961be": {
      "model_module": "jupyter-js-widgets",
      "model_module_version": "~2.1.4",
      "model_name": "LayoutModel",
      "state": {
       "_model_module_version": "~2.1.4",
       "_view_module_version": "~2.1.4"
      }
     },
     "32492bd4221e4ffbbd85588811bbbbc9": {
      "model_module": "jupyter-js-widgets",
      "model_module_version": "~2.1.4",
      "model_name": "ButtonModel",
      "state": {
       "_model_module_version": "~2.1.4",
       "_view_module_version": "~2.1.4",
       "description": "Previous",
       "layout": "IPY_MODEL_694b58c690404f28a8091e139dd88be4",
       "style": "IPY_MODEL_ee164a22a5bb44ed845127484bdb16f1"
      }
     },
     "32d7d0f7c5fc4c0dba88ba7e63bfd183": {
      "model_module": "jupyter-js-widgets",
      "model_module_version": "~2.1.4",
      "model_name": "LayoutModel",
      "state": {
       "_model_module_version": "~2.1.4",
       "_view_module_version": "~2.1.4",
       "border": "2px solid blue"
      }
     },
     "3aa2fe14e28041419c175a88c0d9434e": {
      "model_module": "jupyter-js-widgets",
      "model_module_version": "~2.1.4",
      "model_name": "ButtonModel",
      "state": {
       "_model_module_version": "~2.1.4",
       "_view_module_version": "~2.1.4",
       "description": "Previous",
       "layout": "IPY_MODEL_f17819c55b144a42b199889d3e07a0ba",
       "style": "IPY_MODEL_eb63f9c20b134a8d8da0acbe8e5f673f"
      }
     },
     "3ff14b3c9f514c5c8318793f4eb3aeaf": {
      "model_module": "jupyter-js-widgets",
      "model_module_version": "~2.1.4",
      "model_name": "AccordionModel",
      "state": {
       "_model_module_version": "~2.1.4",
       "_titles": {
        "0": "input2"
       },
       "_view_module_version": "~2.1.4",
       "children": [
        "IPY_MODEL_480d46ac774242f785e6c9f4f4e8286d"
       ],
       "layout": "IPY_MODEL_2a2afcc2ec0146508e0c6b5fefd6413a"
      }
     },
     "401b120b45494d29a05c497a55d0c8ec": {
      "model_module": "jupyter-js-widgets",
      "model_module_version": "~2.1.4",
      "model_name": "ButtonModel",
      "state": {
       "_model_module_version": "~2.1.4",
       "_view_module_version": "~2.1.4",
       "description": "Next",
       "layout": "IPY_MODEL_b4c810c09d5242edba53978dbbf1b611",
       "style": "IPY_MODEL_70625f01f4044a2eae3fc5ba75ed7d0d"
      }
     },
     "43b851c817084a35921811997dd4474f": {
      "model_module": "jupyter-js-widgets",
      "model_module_version": "~2.1.4",
      "model_name": "ButtonModel",
      "state": {
       "_model_module_version": "~2.1.4",
       "_view_module_version": "~2.1.4",
       "description": "Next",
       "layout": "IPY_MODEL_944f3b9ea2d64588b8f7357f32edd1ad",
       "style": "IPY_MODEL_f3fdb9fa8e1142479f48deffebe33383"
      }
     },
     "4418224ad6494496b1949517fc3ecfbe": {
      "model_module": "jupyter-js-widgets",
      "model_module_version": "~2.1.4",
      "model_name": "LayoutModel",
      "state": {
       "_model_module_version": "~2.1.4",
       "_view_module_version": "~2.1.4"
      }
     },
     "45728196e7614f3990e4c41aaf43d898": {
      "model_module": "jupyter-js-widgets",
      "model_module_version": "~2.1.4",
      "model_name": "LayoutModel",
      "state": {
       "_model_module_version": "~2.1.4",
       "_view_module_version": "~2.1.4"
      }
     },
     "480d46ac774242f785e6c9f4f4e8286d": {
      "model_module": "jupyter-js-widgets",
      "model_module_version": "~2.1.4",
      "model_name": "ImageModel",
      "state": {
       "_b64value": "iVBORw0KGgoAAAANSUhEUgAAABkAAAAZCAYAAADE6YVjAAAAKUlEQVR4nO3NQQEAIAwAodOW9g8yU+wHBTjzmpbd7UAikUgkEolEUtUHEEgCidGfV+4AAAAASUVORK5CYII=",
       "_model_module_version": "~2.1.4",
       "_view_module_version": "~2.1.4",
       "layout": "IPY_MODEL_16d10d0e326b477488e65f00bdf9f527"
      }
     },
     "49e51db8f3cd4f05ad275c042d490898": {
      "model_module": "jupyter-js-widgets",
      "model_module_version": "~2.1.4",
      "model_name": "ButtonModel",
      "state": {
       "_model_module_version": "~2.1.4",
       "_view_module_version": "~2.1.4",
       "description": "Previous",
       "layout": "IPY_MODEL_fc74fcd5e3114f2ab21375f57ac9d385",
       "style": "IPY_MODEL_0662ceeb05bf4106a79628645c088d33"
      }
     },
     "4bc64fefe5b3470380d21face356cb67": {
      "model_module": "jupyter-js-widgets",
      "model_module_version": "~2.1.4",
      "model_name": "LayoutModel",
      "state": {
       "_model_module_version": "~2.1.4",
       "_view_module_version": "~2.1.4",
       "border": "2px solid blue"
      }
     },
     "567ba613f71749f089a9287c9796cdee": {
      "model_module": "jupyter-js-widgets",
      "model_module_version": "~2.1.4",
      "model_name": "ButtonModel",
      "state": {
       "_model_module_version": "~2.1.4",
       "_view_module_version": "~2.1.4",
       "description": "Previous",
       "layout": "IPY_MODEL_2ee2c8e9de9342a5818f7f27c266d774",
       "style": "IPY_MODEL_71292c8e087348baa4c310ca7d3e28b9"
      }
     },
     "5856b2d9e8004b54a5d3fac11d80b93a": {
      "model_module": "jupyter-js-widgets",
      "model_module_version": "~2.1.4",
      "model_name": "ButtonModel",
      "state": {
       "_model_module_version": "~2.1.4",
       "_view_module_version": "~2.1.4",
       "description": "Next",
       "layout": "IPY_MODEL_4418224ad6494496b1949517fc3ecfbe",
       "style": "IPY_MODEL_711c231187d647f2a093b4d770dc0111"
      }
     },
     "59fa364694f244c4b882ac1c39beafa5": {
      "model_module": "jupyter-js-widgets",
      "model_module_version": "~2.1.4",
      "model_name": "LayoutModel",
      "state": {
       "_model_module_version": "~2.1.4",
       "_view_module_version": "~2.1.4",
       "border": "2px solid blue"
      }
     },
     "61ef4856c3d7437091957032a14820ca": {
      "model_module": "jupyter-js-widgets",
      "model_module_version": "~2.1.4",
      "model_name": "ButtonModel",
      "state": {
       "_model_module_version": "~2.1.4",
       "_view_module_version": "~2.1.4",
       "description": "Previous",
       "layout": "IPY_MODEL_8e512ac3925044ebb31ef5af67a4cec8",
       "style": "IPY_MODEL_98559582ac7e4ad6b563ecc109e8b558"
      }
     },
     "630f3b282c3c44c8bc2a866dd97c8800": {
      "model_module": "jupyter-js-widgets",
      "model_module_version": "~2.1.4",
      "model_name": "AccordionModel",
      "state": {
       "_model_module_version": "~2.1.4",
       "_titles": {
        "0": "output2"
       },
       "_view_module_version": "~2.1.4",
       "children": [
        "IPY_MODEL_b6f6bb104d9849738e1bb65f541fe4f2"
       ],
       "layout": "IPY_MODEL_2ea6ad8a61a04fca83e20eadddd5b2f2"
      }
     },
     "64ba47e5defe401ca7b03b43e2eab7f4": {
      "model_module": "jupyter-js-widgets",
      "model_module_version": "~2.1.4",
      "model_name": "ImageModel",
      "state": {
       "_b64value": "iVBORw0KGgoAAAANSUhEUgAAABkAAAAZCAYAAADE6YVjAAAAKUlEQVR4nO3NQQEAIAwAodOW9g8yU+wHBTjzmpbd7UAikUgkEolEUtUHEEgCidGfV+4AAAAASUVORK5CYII=",
       "_model_module_version": "~2.1.4",
       "_view_module_version": "~2.1.4",
       "layout": "IPY_MODEL_59fa364694f244c4b882ac1c39beafa5"
      }
     },
     "650f9d732bf4487bb392952d76cc7da1": {
      "model_module": "jupyter-js-widgets",
      "model_module_version": "~2.1.4",
      "model_name": "ButtonModel",
      "state": {
       "_model_module_version": "~2.1.4",
       "_view_module_version": "~2.1.4",
       "description": "Next",
       "layout": "IPY_MODEL_2bba529eb48548fca16c7302e63ac86d",
       "style": "IPY_MODEL_8ecd80940a57482291b1fb4367f81070"
      }
     },
     "6568f0e463154ca7aed433dee70aec5a": {
      "model_module": "jupyter-js-widgets",
      "model_module_version": "~2.1.4",
      "model_name": "AccordionModel",
      "state": {
       "_model_module_version": "~2.1.4",
       "_titles": {
        "0": "shared-hidden"
       },
       "_view_module_version": "~2.1.4",
       "children": [
        "IPY_MODEL_86464e748fc34280802a6c47319ff4d2"
       ],
       "layout": "IPY_MODEL_ce304d07e1a645d59a8bf5a1e6412697"
      }
     },
     "658715cce50f4e68b580fbec8e2609ac": {
      "model_module": "jupyter-js-widgets",
      "model_module_version": "~2.1.4",
      "model_name": "LayoutModel",
      "state": {
       "_model_module_version": "~2.1.4",
       "_view_module_version": "~2.1.4",
       "border": "2px solid blue"
      }
     },
     "658bee53488b49568155049429ea0ece": {
      "model_module": "jupyter-js-widgets",
      "model_module_version": "~2.1.4",
      "model_name": "ImageModel",
      "state": {
       "_b64value": "iVBORw0KGgoAAAANSUhEUgAAABkAAAAZCAYAAADE6YVjAAAAKUlEQVR4nO3NQQEAIAwAodOW9g8yU+wHBTjzmpbd7UAikUgkEolEUtUHEEgCidGfV+4AAAAASUVORK5CYII=",
       "_model_module_version": "~2.1.4",
       "_view_module_version": "~2.1.4",
       "layout": "IPY_MODEL_88383ba9faed48659a9776dae5677640"
      }
     },
     "65ca981298ba4facb4c50b960653a984": {
      "model_module": "jupyter-js-widgets",
      "model_module_version": "~2.1.4",
      "model_name": "ButtonStyleModel",
      "state": {
       "_model_module_version": "~2.1.4",
       "_view_module_version": "~2.1.4"
      }
     },
     "666f1764d2654d56939a930ff03f4a66": {
      "model_module": "jupyter-js-widgets",
      "model_module_version": "~2.1.4",
      "model_name": "ButtonModel",
      "state": {
       "_model_module_version": "~2.1.4",
       "_view_module_version": "~2.1.4",
       "description": "Next",
       "layout": "IPY_MODEL_31e4ba31d3014d5ba035f62e15b961be",
       "style": "IPY_MODEL_65ca981298ba4facb4c50b960653a984"
      }
     },
     "694b58c690404f28a8091e139dd88be4": {
      "model_module": "jupyter-js-widgets",
      "model_module_version": "~2.1.4",
      "model_name": "LayoutModel",
      "state": {
       "_model_module_version": "~2.1.4",
       "_view_module_version": "~2.1.4"
      }
     },
     "6dd1a55b5d804ea8a1406bc0736bc46e": {
      "model_module": "jupyter-js-widgets",
      "model_module_version": "~2.1.4",
      "model_name": "ButtonStyleModel",
      "state": {
       "_model_module_version": "~2.1.4",
       "_view_module_version": "~2.1.4"
      }
     },
     "70625f01f4044a2eae3fc5ba75ed7d0d": {
      "model_module": "jupyter-js-widgets",
      "model_module_version": "~2.1.4",
      "model_name": "ButtonStyleModel",
      "state": {
       "_model_module_version": "~2.1.4",
       "_view_module_version": "~2.1.4"
      }
     },
     "70bf1a5d82b04d90abbe6cc79c5b6cc3": {
      "model_module": "jupyter-js-widgets",
      "model_module_version": "~2.1.4",
      "model_name": "AccordionModel",
      "state": {
       "_model_module_version": "~2.1.4",
       "_titles": {
        "0": "hidden1"
       },
       "_view_module_version": "~2.1.4",
       "children": [
        "IPY_MODEL_e8c498689a3e49779bc11b01a53f2b2d"
       ],
       "layout": "IPY_MODEL_beda827ab4ab44ed97b77580fa918ff3"
      }
     },
     "711c231187d647f2a093b4d770dc0111": {
      "model_module": "jupyter-js-widgets",
      "model_module_version": "~2.1.4",
      "model_name": "ButtonStyleModel",
      "state": {
       "_model_module_version": "~2.1.4",
       "_view_module_version": "~2.1.4"
      }
     },
     "71292c8e087348baa4c310ca7d3e28b9": {
      "model_module": "jupyter-js-widgets",
      "model_module_version": "~2.1.4",
      "model_name": "ButtonStyleModel",
      "state": {
       "_model_module_version": "~2.1.4",
       "_view_module_version": "~2.1.4"
      }
     },
     "777fc1c0dfca48468bed71140d714169": {
      "model_module": "jupyter-js-widgets",
      "model_module_version": "~2.1.4",
      "model_name": "LayoutModel",
      "state": {
       "_model_module_version": "~2.1.4",
       "_view_module_version": "~2.1.4",
       "border": "2px solid blue"
      }
     },
     "79aca523d5ae4a1abd46b520e52388de": {
      "model_module": "jupyter-js-widgets",
      "model_module_version": "~2.1.4",
      "model_name": "LayoutModel",
      "state": {
       "_model_module_version": "~2.1.4",
       "_view_module_version": "~2.1.4",
       "border": "2px solid blue"
      }
     },
     "7b7fc1cf9a3e480c99006b5f4a738e7d": {
      "model_module": "jupyter-js-widgets",
      "model_module_version": "~2.1.4",
      "model_name": "LayoutModel",
      "state": {
       "_model_module_version": "~2.1.4",
       "_view_module_version": "~2.1.4",
       "border": "2px solid blue"
      }
     },
     "86464e748fc34280802a6c47319ff4d2": {
      "model_module": "jupyter-js-widgets",
      "model_module_version": "~2.1.4",
      "model_name": "ImageModel",
      "state": {
       "_b64value": "iVBORw0KGgoAAAANSUhEUgAAADIAAAAZCAYAAABzVH1EAAAARElEQVR4nO3PAQ0AIAzEwAcluEYeUpiKkYb0DDQdJ7lptnZ3IZn9iTccoXGExhEaR2gcoXGExhEaR2gcoXGExhGab0YKYnYCx0pTE/oAAAAASUVORK5CYII=",
       "_model_module_version": "~2.1.4",
       "_view_module_version": "~2.1.4",
       "layout": "IPY_MODEL_1379da532a65475f93c359bb3ff8f421"
      }
     },
     "88383ba9faed48659a9776dae5677640": {
      "model_module": "jupyter-js-widgets",
      "model_module_version": "~2.1.4",
      "model_name": "LayoutModel",
      "state": {
       "_model_module_version": "~2.1.4",
       "_view_module_version": "~2.1.4",
       "border": "2px solid blue"
      }
     },
     "8be47bac086a4fff9acd9d707cf70c9a": {
      "model_module": "jupyter-js-widgets",
      "model_module_version": "~2.1.4",
      "model_name": "LayoutModel",
      "state": {
       "_model_module_version": "~2.1.4",
       "_view_module_version": "~2.1.4"
      }
     },
     "8e512ac3925044ebb31ef5af67a4cec8": {
      "model_module": "jupyter-js-widgets",
      "model_module_version": "~2.1.4",
      "model_name": "LayoutModel",
      "state": {
       "_model_module_version": "~2.1.4",
       "_view_module_version": "~2.1.4"
      }
     },
     "8ecd80940a57482291b1fb4367f81070": {
      "model_module": "jupyter-js-widgets",
      "model_module_version": "~2.1.4",
      "model_name": "ButtonStyleModel",
      "state": {
       "_model_module_version": "~2.1.4",
       "_view_module_version": "~2.1.4"
      }
     },
     "944f3b9ea2d64588b8f7357f32edd1ad": {
      "model_module": "jupyter-js-widgets",
      "model_module_version": "~2.1.4",
      "model_name": "LayoutModel",
      "state": {
       "_model_module_version": "~2.1.4",
       "_view_module_version": "~2.1.4"
      }
     },
     "965da9c01dff47c1b95ec1b6e5652a86": {
      "model_module": "jupyter-js-widgets",
      "model_module_version": "~2.1.4",
      "model_name": "LayoutModel",
      "state": {
       "_model_module_version": "~2.1.4",
       "_view_module_version": "~2.1.4",
       "border": "2px solid blue"
      }
     },
     "97ebb2b7fd414c3cbef3486c2a9c763b": {
      "model_module": "jupyter-js-widgets",
      "model_module_version": "~2.1.4",
      "model_name": "ButtonModel",
      "state": {
       "_model_module_version": "~2.1.4",
       "_view_module_version": "~2.1.4",
       "description": "Next",
       "layout": "IPY_MODEL_f41bb88f18cf437390587e89f73b3bfc",
       "style": "IPY_MODEL_cd584922b7b74a778fcc84c7c1142571"
      }
     },
     "98559582ac7e4ad6b563ecc109e8b558": {
      "model_module": "jupyter-js-widgets",
      "model_module_version": "~2.1.4",
      "model_name": "ButtonStyleModel",
      "state": {
       "_model_module_version": "~2.1.4",
       "_view_module_version": "~2.1.4"
      }
     },
     "9bef262601344bc2a15e6d58c2aabd26": {
      "model_module": "jupyter-js-widgets",
      "model_module_version": "~2.1.4",
      "model_name": "AccordionModel",
      "state": {
       "_model_module_version": "~2.1.4",
       "_titles": {
        "0": "hidden1"
       },
       "_view_module_version": "~2.1.4",
       "children": [
        "IPY_MODEL_ee316a266eab467ca105437915ced3e2"
       ],
       "layout": "IPY_MODEL_8be47bac086a4fff9acd9d707cf70c9a"
      }
     },
     "a1bfb2464806444c951b2d00b69ec343": {
      "model_module": "jupyter-js-widgets",
      "model_module_version": "~2.1.4",
      "model_name": "AccordionModel",
      "state": {
       "_model_module_version": "~2.1.4",
       "_titles": {
        "0": "output1"
       },
       "_view_module_version": "~2.1.4",
       "children": [
        "IPY_MODEL_f1f1c2d8acf5450ea6693c0019715ad3"
       ],
       "layout": "IPY_MODEL_ba147842418143d9b5bf4dd0c46e31fe"
      }
     },
     "a73dfde0d6c74082b79dc53591c74e19": {
      "model_module": "jupyter-js-widgets",
      "model_module_version": "~2.1.4",
      "model_name": "LayoutModel",
      "state": {
       "_model_module_version": "~2.1.4",
       "_view_module_version": "~2.1.4"
      }
     },
     "ab688fcda5d4458eb1567b3f403d7ca0": {
      "model_module": "jupyter-js-widgets",
      "model_module_version": "~2.1.4",
      "model_name": "LayoutModel",
      "state": {
       "_model_module_version": "~2.1.4",
       "_view_module_version": "~2.1.4"
      }
     },
     "b01f055f90da4390af0426349bb3fd28": {
      "model_module": "jupyter-js-widgets",
      "model_module_version": "~2.1.4",
      "model_name": "ImageModel",
      "state": {
       "_b64value": "iVBORw0KGgoAAAANSUhEUgAAABkAAAAZCAYAAADE6YVjAAAAKUlEQVR4nO3NQQEAIAwAodOW9g8yU+wHBTjzmpbd7UAikUgkEolEUtUHEEgCidGfV+4AAAAASUVORK5CYII=",
       "_model_module_version": "~2.1.4",
       "_view_module_version": "~2.1.4",
       "layout": "IPY_MODEL_79aca523d5ae4a1abd46b520e52388de"
      }
     },
     "b065dd7be0d14060bdc8ba816dac75fb": {
      "model_module": "jupyter-js-widgets",
      "model_module_version": "~2.1.4",
      "model_name": "LayoutModel",
      "state": {
       "_model_module_version": "~2.1.4",
       "_view_module_version": "~2.1.4"
      }
     },
     "b269a750b06546c19cb3445b1dfc7957": {
      "model_module": "jupyter-js-widgets",
      "model_module_version": "~2.1.4",
      "model_name": "ImageModel",
      "state": {
       "_b64value": "iVBORw0KGgoAAAANSUhEUgAAABkAAAAZCAYAAADE6YVjAAAAKUlEQVR4nO3NQQEAIAwAodOW9g8yU+wHBTjzmpbd7UAikUgkEolEUtUHEEgCidGfV+4AAAAASUVORK5CYII=",
       "_model_module_version": "~2.1.4",
       "_view_module_version": "~2.1.4",
       "layout": "IPY_MODEL_4bc64fefe5b3470380d21face356cb67"
      }
     },
     "b3273ecfdc874d9e8c50c10b98e327ce": {
      "model_module": "jupyter-js-widgets",
      "model_module_version": "~2.1.4",
      "model_name": "ImageModel",
      "state": {
       "_b64value": "iVBORw0KGgoAAAANSUhEUgAAABkAAAAZCAYAAADE6YVjAAAAKUlEQVR4nO3NQQEAIAwAodOW9g8yU+wHBTjzmpbd7UAikUgkEolEUtUHEEgCidGfV+4AAAAASUVORK5CYII=",
       "_model_module_version": "~2.1.4",
       "_view_module_version": "~2.1.4",
       "layout": "IPY_MODEL_32d7d0f7c5fc4c0dba88ba7e63bfd183"
      }
     },
     "b4c810c09d5242edba53978dbbf1b611": {
      "model_module": "jupyter-js-widgets",
      "model_module_version": "~2.1.4",
      "model_name": "LayoutModel",
      "state": {
       "_model_module_version": "~2.1.4",
       "_view_module_version": "~2.1.4"
      }
     },
     "b6f6bb104d9849738e1bb65f541fe4f2": {
      "model_module": "jupyter-js-widgets",
      "model_module_version": "~2.1.4",
      "model_name": "ImageModel",
      "state": {
       "_b64value": "iVBORw0KGgoAAAANSUhEUgAAABkAAAAZCAYAAADE6YVjAAAAKUlEQVR4nO3NQQEAIAwAodOW9g8yU+wHBTjzmpbd7UAikUgkEolEUtUHEEgCidGfV+4AAAAASUVORK5CYII=",
       "_model_module_version": "~2.1.4",
       "_view_module_version": "~2.1.4",
       "layout": "IPY_MODEL_7b7fc1cf9a3e480c99006b5f4a738e7d"
      }
     },
     "ba147842418143d9b5bf4dd0c46e31fe": {
      "model_module": "jupyter-js-widgets",
      "model_module_version": "~2.1.4",
      "model_name": "LayoutModel",
      "state": {
       "_model_module_version": "~2.1.4",
       "_view_module_version": "~2.1.4"
      }
     },
     "beda827ab4ab44ed97b77580fa918ff3": {
      "model_module": "jupyter-js-widgets",
      "model_module_version": "~2.1.4",
      "model_name": "LayoutModel",
      "state": {
       "_model_module_version": "~2.1.4",
       "_view_module_version": "~2.1.4"
      }
     },
     "c0d05c305c6b46e8a5f3ebeb26013a71": {
      "model_module": "jupyter-js-widgets",
      "model_module_version": "~2.1.4",
      "model_name": "LayoutModel",
      "state": {
       "_model_module_version": "~2.1.4",
       "_view_module_version": "~2.1.4"
      }
     },
     "c2633f8ed5a043378ea0242b223ed872": {
      "model_module": "jupyter-js-widgets",
      "model_module_version": "~2.1.4",
      "model_name": "ButtonModel",
      "state": {
       "_model_module_version": "~2.1.4",
       "_view_module_version": "~2.1.4",
       "description": "Previous",
       "layout": "IPY_MODEL_a73dfde0d6c74082b79dc53591c74e19",
       "style": "IPY_MODEL_c4de94b270de48d4a0fddeecd8b9900c"
      }
     },
     "c4de94b270de48d4a0fddeecd8b9900c": {
      "model_module": "jupyter-js-widgets",
      "model_module_version": "~2.1.4",
      "model_name": "ButtonStyleModel",
      "state": {
       "_model_module_version": "~2.1.4",
       "_view_module_version": "~2.1.4"
      }
     },
     "c6982262f1af4d39b4a7c0c551e991ed": {
      "model_module": "jupyter-js-widgets",
      "model_module_version": "~2.1.4",
      "model_name": "ImageModel",
      "state": {
       "_b64value": "iVBORw0KGgoAAAANSUhEUgAAADIAAAAZCAYAAABzVH1EAAAARElEQVR4nO3PAQ0AIAzEwAcluEYeUpiKkYb0DDQdJ7lptnZ3IZn9iTccoXGExhEaR2gcoXGExhEaR2gcoXGExhGab0YKYnYCx0pTE/oAAAAASUVORK5CYII=",
       "_model_module_version": "~2.1.4",
       "_view_module_version": "~2.1.4",
       "layout": "IPY_MODEL_777fc1c0dfca48468bed71140d714169"
      }
     },
     "c709b547ca7449568153f79cddc6a1d9": {
      "model_module": "jupyter-js-widgets",
      "model_module_version": "~2.1.4",
      "model_name": "AccordionModel",
      "state": {
       "_model_module_version": "~2.1.4",
       "_titles": {
        "0": "input2"
       },
       "_view_module_version": "~2.1.4",
       "children": [
        "IPY_MODEL_64ba47e5defe401ca7b03b43e2eab7f4"
       ],
       "layout": "IPY_MODEL_ab688fcda5d4458eb1567b3f403d7ca0"
      }
     },
     "ccc2f1827e184fb884c4e1bd4cd47346": {
      "model_module": "jupyter-js-widgets",
      "model_module_version": "~2.1.4",
      "model_name": "LayoutModel",
      "state": {
       "_model_module_version": "~2.1.4",
       "_view_module_version": "~2.1.4",
       "border": "2px solid blue"
      }
     },
     "ccd2688a5ceb4daca341336d33efca96": {
      "model_module": "jupyter-js-widgets",
      "model_module_version": "~2.1.4",
      "model_name": "LayoutModel",
      "state": {
       "_model_module_version": "~2.1.4",
       "_view_module_version": "~2.1.4"
      }
     },
     "cd584922b7b74a778fcc84c7c1142571": {
      "model_module": "jupyter-js-widgets",
      "model_module_version": "~2.1.4",
      "model_name": "ButtonStyleModel",
      "state": {
       "_model_module_version": "~2.1.4",
       "_view_module_version": "~2.1.4"
      }
     },
     "ce304d07e1a645d59a8bf5a1e6412697": {
      "model_module": "jupyter-js-widgets",
      "model_module_version": "~2.1.4",
      "model_name": "LayoutModel",
      "state": {
       "_model_module_version": "~2.1.4",
       "_view_module_version": "~2.1.4"
      }
     },
     "d39d5eb14bc54503bc0ac6466f669ad7": {
      "model_module": "jupyter-js-widgets",
      "model_module_version": "~2.1.4",
      "model_name": "LayoutModel",
      "state": {
       "_model_module_version": "~2.1.4",
       "_view_module_version": "~2.1.4"
      }
     },
     "d50ba38b9cd748b2b076f0f606833ea4": {
      "model_module": "jupyter-js-widgets",
      "model_module_version": "~2.1.4",
      "model_name": "AccordionModel",
      "state": {
       "_model_module_version": "~2.1.4",
       "_titles": {
        "0": "hidden2"
       },
       "_view_module_version": "~2.1.4",
       "children": [
        "IPY_MODEL_09d96629fe2f4bbaa5dd321ddbc71e09"
       ],
       "layout": "IPY_MODEL_d39d5eb14bc54503bc0ac6466f669ad7"
      }
     },
     "d9533289a30c445694ce51061bb8f54a": {
      "model_module": "jupyter-js-widgets",
      "model_module_version": "~2.1.4",
      "model_name": "LayoutModel",
      "state": {
       "_model_module_version": "~2.1.4",
       "_view_module_version": "~2.1.4"
      }
     },
     "dbd35bc1cf6242f49e544abca0fb85c3": {
      "model_module": "jupyter-js-widgets",
      "model_module_version": "~2.1.4",
      "model_name": "ImageModel",
      "state": {
       "_b64value": "iVBORw0KGgoAAAANSUhEUgAAADIAAAAZCAYAAABzVH1EAAAAQ0lEQVR4nO3PUQ0AIAzE0IFN/KvgY6i4pSF9BpquPtWVduOF2vnEDEdoHKFxhMYRGkdoHKFxhMYRGkdoHKFxhOabkQfsWQOGid5ZYAAAAABJRU5ErkJggg==",
       "_model_module_version": "~2.1.4",
       "_view_module_version": "~2.1.4",
       "layout": "IPY_MODEL_965da9c01dff47c1b95ec1b6e5652a86"
      }
     },
     "e31f3ee52b3a48fdb16f75a81ff89600": {
      "model_module": "jupyter-js-widgets",
      "model_module_version": "~2.1.4",
      "model_name": "LayoutModel",
      "state": {
       "_model_module_version": "~2.1.4",
       "_view_module_version": "~2.1.4",
       "border": "2px solid blue"
      }
     },
     "e571903de4294d94a7a59fc516ac1c80": {
      "model_module": "jupyter-js-widgets",
      "model_module_version": "~2.1.4",
      "model_name": "AccordionModel",
      "state": {
       "_model_module_version": "~2.1.4",
       "_titles": {
        "0": "hidden2"
       },
       "_view_module_version": "~2.1.4",
       "children": [
        "IPY_MODEL_dbd35bc1cf6242f49e544abca0fb85c3"
       ],
       "layout": "IPY_MODEL_45728196e7614f3990e4c41aaf43d898"
      }
     },
     "e8c498689a3e49779bc11b01a53f2b2d": {
      "model_module": "jupyter-js-widgets",
      "model_module_version": "~2.1.4",
      "model_name": "ImageModel",
      "state": {
       "_b64value": "iVBORw0KGgoAAAANSUhEUgAAADIAAAAZCAYAAABzVH1EAAAAQ0lEQVR4nO3PUQ0AIAzE0IFI/PvgY6i4pSF9BpquPtWVduOF2vnEDEdoHKFxhMYRGkdoHKFxhMYRGkdoHKFxhOabkQeKPgOBAoKlbgAAAABJRU5ErkJggg==",
       "_model_module_version": "~2.1.4",
       "_view_module_version": "~2.1.4",
       "layout": "IPY_MODEL_658715cce50f4e68b580fbec8e2609ac"
      }
     },
     "eb63f9c20b134a8d8da0acbe8e5f673f": {
      "model_module": "jupyter-js-widgets",
      "model_module_version": "~2.1.4",
      "model_name": "ButtonStyleModel",
      "state": {
       "_model_module_version": "~2.1.4",
       "_view_module_version": "~2.1.4"
      }
     },
     "ee164a22a5bb44ed845127484bdb16f1": {
      "model_module": "jupyter-js-widgets",
      "model_module_version": "~2.1.4",
      "model_name": "ButtonStyleModel",
      "state": {
       "_model_module_version": "~2.1.4",
       "_view_module_version": "~2.1.4"
      }
     },
     "ee316a266eab467ca105437915ced3e2": {
      "model_module": "jupyter-js-widgets",
      "model_module_version": "~2.1.4",
      "model_name": "ImageModel",
      "state": {
       "_b64value": "iVBORw0KGgoAAAANSUhEUgAAADIAAAAZCAYAAABzVH1EAAAAQ0lEQVR4nO3PUQ0AIAzE0IFI/PvgY6i4pSF9BpquPtWVduOF2vnEDEdoHKFxhMYRGkdoHKFxhMYRGkdoHKFxhOabkQeKPgOBAoKlbgAAAABJRU5ErkJggg==",
       "_model_module_version": "~2.1.4",
       "_view_module_version": "~2.1.4",
       "layout": "IPY_MODEL_ccc2f1827e184fb884c4e1bd4cd47346"
      }
     },
     "f17819c55b144a42b199889d3e07a0ba": {
      "model_module": "jupyter-js-widgets",
      "model_module_version": "~2.1.4",
      "model_name": "LayoutModel",
      "state": {
       "_model_module_version": "~2.1.4",
       "_view_module_version": "~2.1.4"
      }
     },
     "f1f1c2d8acf5450ea6693c0019715ad3": {
      "model_module": "jupyter-js-widgets",
      "model_module_version": "~2.1.4",
      "model_name": "ImageModel",
      "state": {
       "_b64value": "iVBORw0KGgoAAAANSUhEUgAAABkAAAAZCAYAAADE6YVjAAAAKUlEQVR4nO3NQQEAIAwAodOW9g8yU+wHBTjzmpbd7UAikUgkEolEUtUHEEgCidGfV+4AAAAASUVORK5CYII=",
       "_model_module_version": "~2.1.4",
       "_view_module_version": "~2.1.4",
       "layout": "IPY_MODEL_e31f3ee52b3a48fdb16f75a81ff89600"
      }
     },
     "f3fdb9fa8e1142479f48deffebe33383": {
      "model_module": "jupyter-js-widgets",
      "model_module_version": "~2.1.4",
      "model_name": "ButtonStyleModel",
      "state": {
       "_model_module_version": "~2.1.4",
       "_view_module_version": "~2.1.4"
      }
     },
     "f41bb88f18cf437390587e89f73b3bfc": {
      "model_module": "jupyter-js-widgets",
      "model_module_version": "~2.1.4",
      "model_name": "LayoutModel",
      "state": {
       "_model_module_version": "~2.1.4",
       "_view_module_version": "~2.1.4"
      }
     },
     "f444d36b3c26499b87342104fd7d80e5": {
      "model_module": "jupyter-js-widgets",
      "model_module_version": "~2.1.4",
      "model_name": "AccordionModel",
      "state": {
       "_model_module_version": "~2.1.4",
       "_titles": {
        "0": "input1"
       },
       "_view_module_version": "~2.1.4",
       "children": [
        "IPY_MODEL_b01f055f90da4390af0426349bb3fd28"
       ],
       "layout": "IPY_MODEL_ccd2688a5ceb4daca341336d33efca96"
      }
     },
     "fc1c6306718a43f89275115002c2ff49": {
      "model_module": "jupyter-js-widgets",
      "model_module_version": "~2.1.4",
      "model_name": "ButtonModel",
      "state": {
       "_model_module_version": "~2.1.4",
       "_view_module_version": "~2.1.4",
       "description": "Previous",
       "layout": "IPY_MODEL_c0d05c305c6b46e8a5f3ebeb26013a71",
       "style": "IPY_MODEL_6dd1a55b5d804ea8a1406bc0736bc46e"
      }
     },
     "fc74fcd5e3114f2ab21375f57ac9d385": {
      "model_module": "jupyter-js-widgets",
      "model_module_version": "~2.1.4",
      "model_name": "LayoutModel",
      "state": {
       "_model_module_version": "~2.1.4",
       "_view_module_version": "~2.1.4"
      }
     }
    },
    "version_major": 1,
    "version_minor": 0
   }
  }
 },
 "nbformat": 4,
 "nbformat_minor": 2
}
