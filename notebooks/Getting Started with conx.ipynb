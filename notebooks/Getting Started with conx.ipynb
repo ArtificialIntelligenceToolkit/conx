{
 "cells": [
  {
   "cell_type": "markdown",
   "metadata": {},
   "source": [
    "# Getting Started with conx\n",
    "\n",
    "## What is conx?\n",
    "\n",
    "`conx` is an accessible and powerful way to build and understand deep learning neural networks. Specifically, it sits on top of Keras, which sits on top of Theano, TensorFlow, or CNTK. \n",
    "\n",
    "`conx`:\n",
    "\n",
    "* has an easy to use interface for creating connections between layers of a neural network\n",
    "* adds additional functionality for manipulating neural networks\n",
    "* supports visualizations and analysis for training and using neural networks\n",
    "* has everything you need; doesn't require knowledge of complicated numerical or plotting libraries\n",
    "* integrates with lower-level (Keras) if you wish\n",
    "\n",
    "But rather than attempting to explain each of these points, let's demonstrate them.\n",
    "\n",
    "This demonstration is being run in a Jupyter Notebook. `conx` doesn't require running in the notebook, but if you do, you will be able to use the visualizations and dashboard.\n",
    "\n",
    "## A Simple Network\n",
    "\n",
    "As a demonstration, let's build a simple networkd for learning the XOR (exclusive or) truth table. XOR is defined as:\n",
    "\n",
    "Input | Output\n",
    "------|-------\n",
    " 0, 0 | 0\n",
    " 0, 1 | 1\n",
    " 1, 0 | 1\n",
    " 1, 1 | 0"
   ]
  },
  {
   "cell_type": "markdown",
   "metadata": {},
   "source": [
    "### Step 1: import conx\n",
    "\n",
    "We will need the Network, and Layer classes from the conx module:"
   ]
  },
  {
   "cell_type": "code",
   "execution_count": 1,
   "metadata": {},
   "outputs": [
    {
     "name": "stderr",
     "output_type": "stream",
     "text": [
      "Using Theano backend.\n",
      "conx, version 3.4.3\n"
     ]
    }
   ],
   "source": [
    "from conx import Network, Layer"
   ]
  },
  {
   "cell_type": "markdown",
   "metadata": {},
   "source": [
    "### Step 2: create the network\n",
    "\n",
    "Every network needs a name:"
   ]
  },
  {
   "cell_type": "code",
   "execution_count": 2,
   "metadata": {},
   "outputs": [],
   "source": [
    "net = Network(\"XOR Network\")"
   ]
  },
  {
   "cell_type": "markdown",
   "metadata": {},
   "source": [
    "### Step 3: add the needed layers\n",
    "\n",
    "Every layer needs a name and a size. We add each of the layers of our network. The first layer will be an \"input\" layer (named \"input1\"). We only need to specify the size. For our XOR problem, there are two inputs:"
   ]
  },
  {
   "cell_type": "code",
   "execution_count": 3,
   "metadata": {},
   "outputs": [],
   "source": [
    "net.add(Layer(\"input1\", 2))"
   ]
  },
  {
   "cell_type": "markdown",
   "metadata": {},
   "source": [
    "For the next layers, we will also use the default layer type for hidden and output layers. However, we also need to specify the function to apply to the \"net inputs\" to the layer, after the matrix multiplications. We have a few choices for which activation functions to use:\n",
    "\n",
    "* 'relu'\n",
    "* 'sigmoid'\n",
    "* 'linear'\n",
    "* 'softmax'\n",
    "* 'tanh'\n",
    "* 'elu'\n",
    "* 'selu'\n",
    "* 'softplus'\n",
    "* 'softsign'\n",
    "* 'hard_sigmoid'\n",
    "\n",
    "You can try any of these. \"relu\" is short for Rectified Linear Unit and is known for being generally useful for hidden layer activations. Likewise, the sigmoid function is generally useful for output layer activation functions. We'll try those, respectively, but you can experiment."
   ]
  },
  {
   "cell_type": "code",
   "execution_count": 4,
   "metadata": {},
   "outputs": [],
   "source": [
    "net.add(Layer(\"hidden1\", 5, activation=\"relu\"))\n",
    "net.add(Layer(\"output1\", 1, activation=\"sigmoid\"))"
   ]
  },
  {
   "cell_type": "markdown",
   "metadata": {},
   "source": [
    "### Step 4: connect the layers\n",
    "\n",
    "We connect up the layers as needed. This is a simple 3-layer network:"
   ]
  },
  {
   "cell_type": "code",
   "execution_count": 5,
   "metadata": {},
   "outputs": [],
   "source": [
    "net.connect(\"input1\", \"hidden1\")\n",
    "net.connect(\"hidden1\", \"output1\")"
   ]
  },
  {
   "cell_type": "markdown",
   "metadata": {},
   "source": [
    "**Note**:\n",
    "\n",
    "We use the term `layer` here because each of these items composes the layer itself. In general though, a layer can be composed of many of these items. In that case, we call such a layer a `bank`."
   ]
  },
  {
   "cell_type": "markdown",
   "metadata": {},
   "source": [
    "### Step 5: compile the network\n",
    "\n",
    "Before we can do this step, we need to do two things:\n",
    "\n",
    "1. tell the network how to compute the error between the targets and the actual outputs\n",
    "2. tell the network how to adjust the weights when learning\n",
    "\n",
    "#### Error (or loss)\n",
    "\n",
    "The first option is called the `error` (or `loss`). There are many choices for the error function, and we'll dive into each later. For now, we'll just briefly mention them:\n",
    "\n",
    "* \"mse\" - mean square error\n",
    "* \"mae\" - mean absolute error\n",
    "* \"mape\" - mean absolute percentage error\n",
    "* \"msle\" - mean squared logarithmic error\n",
    "* \"kld\" - kullback leibler divergence\n",
    "* \"cosine\" - cosine proximity\n",
    "\n",
    "#### Optimizer\n",
    "\n",
    "The second option is called \"optimizer\". Again, there are many choices, but we just briefly name them here:\n",
    "\n",
    "* \"sgd\" - Stochastic gradient descent optimizer\n",
    "* \"rmsprop\" - RMS Prop optimizer\n",
    "* \"adagrad\" - ADA gradient optimizer\n",
    "* \"adadelta\" - ADA delta optimizer\n",
    "* \"adam\" - [Adam optimizer](http://arxiv.org/abs/1412.6980v8)\n",
    "* \"adamax\" - Adamax optimizer from Adam\n",
    "* \"nadam\" - Nesterov Adam optimizer\n",
    "* \"tfoptimizer\" - a native TensorFlow optimizer\n",
    "\n",
    "For now, we'll just pick \"mse\" for the error function, and \"adam\" for the optimizer. \n",
    "\n",
    "And we compile the network:"
   ]
  },
  {
   "cell_type": "code",
   "execution_count": 6,
   "metadata": {},
   "outputs": [],
   "source": [
    "net.compile(error=\"mse\", optimizer=\"adam\")"
   ]
  },
  {
   "cell_type": "markdown",
   "metadata": {},
   "source": [
    "#### Option: visualize the network\n",
    "\n",
    "At this point in the steps, you can see a visual representation of the network by simply evaluating the network:"
   ]
  },
  {
   "cell_type": "code",
   "execution_count": 7,
   "metadata": {},
   "outputs": [
    {
     "data": {
      "application/javascript": [
       "\n",
       "require(['base/js/namespace'], function(Jupyter) {\n",
       "    Jupyter.notebook.kernel.comm_manager.register_target('conx_svg_control', function(comm, msg) {\n",
       "        comm.on_msg(function(msg) {\n",
       "            var data = msg[\"content\"][\"data\"];\n",
       "            var images = document.getElementsByClassName(data[\"class\"]);\n",
       "            for (var i = 0; i < images.length; i++) {\n",
       "                if (data[\"href\"]) {\n",
       "                    images[i].setAttributeNS(null, \"href\", data[\"href\"]);\n",
       "                }\n",
       "                if (data[\"src\"]) {\n",
       "                    images[i].setAttributeNS(null, \"src\", data[\"src\"]);\n",
       "                }\n",
       "            }\n",
       "        });\n",
       "    });\n",
       "});\n"
      ],
      "text/plain": [
       "<IPython.core.display.Javascript object>"
      ]
     },
     "metadata": {},
     "output_type": "display_data"
    },
    {
     "data": {
      "text/html": [
       "<svg id='XOR Network' xmlns='http://www.w3.org/2000/svg' viewBox=\"0 0 350 250\" max-width=\"100%\" height=\"780px\" image-rendering=\"pixelated\">\n",
       "    <defs>\n",
       "        <marker id=\"arrow\" markerWidth=\"10\" markerHeight=\"10\" refX=\"9\" refY=\"3\" orient=\"auto\" markerUnits=\"strokeWidth\">\n",
       "          <path d=\"M0,0 L0,6 L9,3 z\" fill=\"black\" />\n",
       "        </marker>\n",
       "    </defs><text x=\"175.0\" y=\"12.5\" font-family=\"monospace\" font-size=\"15\" text-anchor=\"middle\" alignment-baseline=\"central\">XOR Network</text><rect x=\"149.0\" y=\"24\" width=\"52\" height=\"52\" style=\"fill:none;stroke:black;stroke-width:2\"/><image id=\"XOR Network_output1_1\" class=\"XOR Network_output1\" x=\"150.0\" y=\"25\" height=\"50\" width=\"50\" preserveAspectRatio=\"none\" href=\"data:image/gif;base64,R0lGODdhAQABAIcAAAAA/wAAAAAAAAAAAAAAAAAAAAAAAAAAAAAAAAAAAAAAAAAAAAAAAAAAAAAAAAAAAAAAAAAAAAAAAAAAAAAAAAAAAAAAAAAAAAAAAAAAAAAAAAAAAAAAAAAAAAAAAAAAAAAAAAAAAAAAAAAAAAAAAAAAAAAAAAAAAAAAAAAAAAAAAAAAAAAAAAAAAAAAAAAAAAAAAAAAAAAAAAAAAAAAAAAAAAAAAAAAAAAAAAAAAAAAAAAAAAAAAAAAAAAAAAAAAAAAAAAAAAAAAAAAAAAAAAAAAAAAAAAAAAAAAAAAAAAAAAAAAAAAAAAAAAAAAAAAAAAAAAAAAAAAAAAAAAAAAAAAAAAAAAAAAAAAAAAAAAAAAAAAAAAAAAAAAAAAAAAAAAAAAAAAAAAAAAAAAAAAAAAAAAAAAAAAAAAAAAAAAAAAAAAAAAAAAAAAAAAAAAAAAAAAAAAAAAAAAAAAAAAAAAAAAAAAAAAAAAAAAAAAAAAAAAAAAAAAAAAAAAAAAAAAAAAAAAAAAAAAAAAAAAAAAAAAAAAAAAAAAAAAAAAAAAAAAAAAAAAAAAAAAAAAAAAAAAAAAAAAAAAAAAAAAAAAAAAAAAAAAAAAAAAAAAAAAAAAAAAAAAAAAAAAAAAAAAAAAAAAAAAAAAAAAAAAAAAAAAAAAAAAAAAAAAAAAAAAAAAAAAAAAAAAAAAAAAAAAAAAAAAAAAAAAAAAAAAAAAAAAAAAAAAAAAAAAAAAAAAAAAAAAAAAAAAAAAAAAAAAAAAAAAAAAAAAAAAAAAAAAAAAAAAAAAAAAAAAAAAAAAAAAAAAAAAAAAAAAAAAAAAAAAAAAAAAAAAAAAAAAAAAAAAAAAAAAAAAAAAAAAAAAAAAAAAAAAAAAAAAAAAAAAAAAAAAAAAAAAAAAAAAAAAAAAAAAAAAAAAAAAAAAAAAAAAAAAAAAAAAAAAAAAAAAAAAAAAAAAAAAAAAAAAAAAAAAAAAAAAAAAAAAAAAAAAAAAAAAAAAAAAAAAAAAAAAAAAAAAAAACwAAAAAAQABAAAIBQABNAoIADs=\"><title>Layer: output1 (output)\n",
       " shape = (1,)\n",
       " Keras class = Dense\n",
       " activation = sigmoid</title></image><text x=\"205.0\" y=\"52.0\" font-family=\"monospace\" font-size=\"12\" text-anchor=\"start\" alignment-baseline=\"central\">output1</text><line x1=\"175.0\" y1=\"104\" x2=\"175.0\" y2=\"77\" stroke=\"black\" stroke-width=\"2\" marker-end=\"url(#arrow)\"><title>Weights from hidden1 to output1\n",
       " output1/kernel has shape (5, 1)\n",
       " output1/bias has shape (1,)</title></line><rect x=\"74.0\" y=\"104\" width=\"202\" height=\"42\" style=\"fill:none;stroke:black;stroke-width:2\"/><image id=\"XOR Network_hidden1_2\" class=\"XOR Network_hidden1\" x=\"75.0\" y=\"105\" height=\"40\" width=\"200\" preserveAspectRatio=\"none\" href=\"data:image/gif;base64,R0lGODdhBQABAIcAAP/9/QAAAAAAAAAAAAAAAAAAAAAAAAAAAAAAAAAAAAAAAAAAAAAAAAAAAAAAAAAAAAAAAAAAAAAAAAAAAAAAAAAAAAAAAAAAAAAAAAAAAAAAAAAAAAAAAAAAAAAAAAAAAAAAAAAAAAAAAAAAAAAAAAAAAAAAAAAAAAAAAAAAAAAAAAAAAAAAAAAAAAAAAAAAAAAAAAAAAAAAAAAAAAAAAAAAAAAAAAAAAAAAAAAAAAAAAAAAAAAAAAAAAAAAAAAAAAAAAAAAAAAAAAAAAAAAAAAAAAAAAAAAAAAAAAAAAAAAAAAAAAAAAAAAAAAAAAAAAAAAAAAAAAAAAAAAAAAAAAAAAAAAAAAAAAAAAAAAAAAAAAAAAAAAAAAAAAAAAAAAAAAAAAAAAAAAAAAAAAAAAAAAAAAAAAAAAAAAAAAAAAAAAAAAAAAAAAAAAAAAAAAAAAAAAAAAAAAAAAAAAAAAAAAAAAAAAAAAAAAAAAAAAAAAAAAAAAAAAAAAAAAAAAAAAAAAAAAAAAAAAAAAAAAAAAAAAAAAAAAAAAAAAAAAAAAAAAAAAAAAAAAAAAAAAAAAAAAAAAAAAAAAAAAAAAAAAAAAAAAAAAAAAAAAAAAAAAAAAAAAAAAAAAAAAAAAAAAAAAAAAAAAAAAAAAAAAAAAAAAAAAAAAAAAAAAAAAAAAAAAAAAAAAAAAAAAAAAAAAAAAAAAAAAAAAAAAAAAAAAAAAAAAAAAAAAAAAAAAAAAAAAAAAAAAAAAAAAAAAAAAAAAAAAAAAAAAAAAAAAAAAAAAAAAAAAAAAAAAAAAAAAAAAAAAAAAAAAAAAAAAAAAAAAAAAAAAAAAAAAAAAAAAAAAAAAAAAAAAAAAAAAAAAAAAAAAAAAAAAAAAAAAAAAAAAAAAAAAAAAAAAAAAAAAAAAAAAAAAAAAAAAAAAAAAAAAAAAAAAAAAAAAAAAAAAAAAAAAAAAAAAAAAAAAAAAAAAAAAAAAAAAAAAAAAAAAAAAAAAAAAAAAAAAAAAAAAAAAAAAAACwAAAAABQABAAAIBgABCBQYEAA7\"><title>Layer: hidden1 (hidden)\n",
       " shape = (5,)\n",
       " Keras class = Dense\n",
       " activation = relu</title></image><text x=\"280.0\" y=\"127.0\" font-family=\"monospace\" font-size=\"12\" text-anchor=\"start\" alignment-baseline=\"central\">hidden1</text><line x1=\"175.0\" y1=\"174\" x2=\"175.0\" y2=\"147\" stroke=\"black\" stroke-width=\"2\" marker-end=\"url(#arrow)\"><title>Weights from input1 to hidden1\n",
       " hidden1/kernel has shape (2, 5)\n",
       " hidden1/bias has shape (5,)</title></line><rect x=\"124.0\" y=\"174\" width=\"102\" height=\"52\" style=\"fill:none;stroke:black;stroke-width:2\"/><image id=\"XOR Network_input1_3\" class=\"XOR Network_input1\" x=\"125.0\" y=\"175\" height=\"50\" width=\"100\" preserveAspectRatio=\"none\" href=\"data:image/gif;base64,R0lGODdhAgABAIcAAP/9/QAAAAAAAAAAAAAAAAAAAAAAAAAAAAAAAAAAAAAAAAAAAAAAAAAAAAAAAAAAAAAAAAAAAAAAAAAAAAAAAAAAAAAAAAAAAAAAAAAAAAAAAAAAAAAAAAAAAAAAAAAAAAAAAAAAAAAAAAAAAAAAAAAAAAAAAAAAAAAAAAAAAAAAAAAAAAAAAAAAAAAAAAAAAAAAAAAAAAAAAAAAAAAAAAAAAAAAAAAAAAAAAAAAAAAAAAAAAAAAAAAAAAAAAAAAAAAAAAAAAAAAAAAAAAAAAAAAAAAAAAAAAAAAAAAAAAAAAAAAAAAAAAAAAAAAAAAAAAAAAAAAAAAAAAAAAAAAAAAAAAAAAAAAAAAAAAAAAAAAAAAAAAAAAAAAAAAAAAAAAAAAAAAAAAAAAAAAAAAAAAAAAAAAAAAAAAAAAAAAAAAAAAAAAAAAAAAAAAAAAAAAAAAAAAAAAAAAAAAAAAAAAAAAAAAAAAAAAAAAAAAAAAAAAAAAAAAAAAAAAAAAAAAAAAAAAAAAAAAAAAAAAAAAAAAAAAAAAAAAAAAAAAAAAAAAAAAAAAAAAAAAAAAAAAAAAAAAAAAAAAAAAAAAAAAAAAAAAAAAAAAAAAAAAAAAAAAAAAAAAAAAAAAAAAAAAAAAAAAAAAAAAAAAAAAAAAAAAAAAAAAAAAAAAAAAAAAAAAAAAAAAAAAAAAAAAAAAAAAAAAAAAAAAAAAAAAAAAAAAAAAAAAAAAAAAAAAAAAAAAAAAAAAAAAAAAAAAAAAAAAAAAAAAAAAAAAAAAAAAAAAAAAAAAAAAAAAAAAAAAAAAAAAAAAAAAAAAAAAAAAAAAAAAAAAAAAAAAAAAAAAAAAAAAAAAAAAAAAAAAAAAAAAAAAAAAAAAAAAAAAAAAAAAAAAAAAAAAAAAAAAAAAAAAAAAAAAAAAAAAAAAAAAAAAAAAAAAAAAAAAAAAAAAAAAAAAAAAAAAAAAAAAAAAAAAAAAAAAAAAAAAAAAAAAAAAAAAAAAAAAAAAAAAAAAAAAAAAAAAACwAAAAAAgABAAAIBQABAAgIADs=\"><title>Layer: input1 (input)\n",
       " shape = (2,)\n",
       " Keras class = Input</title></image><text x=\"230.0\" y=\"202.0\" font-family=\"monospace\" font-size=\"12\" text-anchor=\"start\" alignment-baseline=\"central\">input1</text></svg>"
      ],
      "text/plain": [
       "<Network name='XOR Network' (compiled)>"
      ]
     },
     "execution_count": 7,
     "metadata": {},
     "output_type": "execute_result"
    }
   ],
   "source": [
    "net"
   ]
  },
  {
   "cell_type": "markdown",
   "metadata": {},
   "source": [
    "This is useful to see the layers and connections."
   ]
  },
  {
   "cell_type": "code",
   "execution_count": 8,
   "metadata": {},
   "outputs": [
    {
     "data": {
      "text/plain": [
       "[0.4372809827327728]"
      ]
     },
     "execution_count": 8,
     "metadata": {},
     "output_type": "execute_result"
    }
   ],
   "source": [
    "net.propagate([1, 0])"
   ]
  },
  {
   "cell_type": "markdown",
   "metadata": {},
   "source": [
    "Propagating the network should show some colored squares in the layers in the above image. We can try any input vector:"
   ]
  },
  {
   "cell_type": "code",
   "execution_count": 9,
   "metadata": {},
   "outputs": [
    {
     "data": {
      "text/plain": [
       "[0.5]"
      ]
     },
     "execution_count": 9,
     "metadata": {},
     "output_type": "execute_result"
    }
   ],
   "source": [
    "net.propagate([0, 0])"
   ]
  },
  {
   "cell_type": "markdown",
   "metadata": {},
   "source": [
    "In these visualizations, the more red a unit is, the more negative its value, and the more black, the more positive. Values close to zero will appear white.\n",
    "\n",
    "Interestingly, if you propagate this network with zeros, then it will only have white activations. This means that there is no activation at any node in the network. This is because the bias units are initialized at zero.\n",
    "\n",
    "Below, we propagate small, positive values which appear as light gray. Activations in the hidden layer may appear redish (negative) or grayish (positive)."
   ]
  },
  {
   "cell_type": "code",
   "execution_count": 10,
   "metadata": {
    "scrolled": false
   },
   "outputs": [
    {
     "data": {
      "application/javascript": [
       "\n",
       "require(['base/js/namespace'], function(Jupyter) {\n",
       "    Jupyter.notebook.kernel.comm_manager.register_target('conx_svg_control', function(comm, msg) {\n",
       "        comm.on_msg(function(msg) {\n",
       "            var data = msg[\"content\"][\"data\"];\n",
       "            var images = document.getElementsByClassName(data[\"class\"]);\n",
       "            for (var i = 0; i < images.length; i++) {\n",
       "                if (data[\"href\"]) {\n",
       "                    images[i].setAttributeNS(null, \"href\", data[\"href\"]);\n",
       "                }\n",
       "                if (data[\"src\"]) {\n",
       "                    images[i].setAttributeNS(null, \"src\", data[\"src\"]);\n",
       "                }\n",
       "            }\n",
       "        });\n",
       "    });\n",
       "});\n"
      ],
      "text/plain": [
       "<IPython.core.display.Javascript object>"
      ]
     },
     "metadata": {},
     "output_type": "display_data"
    },
    {
     "data": {
      "text/html": [
       "<svg id='XOR Network' xmlns='http://www.w3.org/2000/svg' viewBox=\"0 0 350 250\" max-width=\"100%\" height=\"780px\" image-rendering=\"pixelated\">\n",
       "    <defs>\n",
       "        <marker id=\"arrow\" markerWidth=\"10\" markerHeight=\"10\" refX=\"9\" refY=\"3\" orient=\"auto\" markerUnits=\"strokeWidth\">\n",
       "          <path d=\"M0,0 L0,6 L9,3 z\" fill=\"black\" />\n",
       "        </marker>\n",
       "    </defs><text x=\"175.0\" y=\"12.5\" font-family=\"monospace\" font-size=\"15\" text-anchor=\"middle\" alignment-baseline=\"central\">XOR Network</text><rect x=\"149.0\" y=\"24\" width=\"52\" height=\"52\" style=\"fill:none;stroke:black;stroke-width:2\"/><image id=\"XOR Network_output1_4\" class=\"XOR Network_output1\" x=\"150.0\" y=\"25\" height=\"50\" width=\"50\" preserveAspectRatio=\"none\" href=\"data:image/gif;base64,R0lGODdhAQABAIcAAAAA/wAAAAAAAAAAAAAAAAAAAAAAAAAAAAAAAAAAAAAAAAAAAAAAAAAAAAAAAAAAAAAAAAAAAAAAAAAAAAAAAAAAAAAAAAAAAAAAAAAAAAAAAAAAAAAAAAAAAAAAAAAAAAAAAAAAAAAAAAAAAAAAAAAAAAAAAAAAAAAAAAAAAAAAAAAAAAAAAAAAAAAAAAAAAAAAAAAAAAAAAAAAAAAAAAAAAAAAAAAAAAAAAAAAAAAAAAAAAAAAAAAAAAAAAAAAAAAAAAAAAAAAAAAAAAAAAAAAAAAAAAAAAAAAAAAAAAAAAAAAAAAAAAAAAAAAAAAAAAAAAAAAAAAAAAAAAAAAAAAAAAAAAAAAAAAAAAAAAAAAAAAAAAAAAAAAAAAAAAAAAAAAAAAAAAAAAAAAAAAAAAAAAAAAAAAAAAAAAAAAAAAAAAAAAAAAAAAAAAAAAAAAAAAAAAAAAAAAAAAAAAAAAAAAAAAAAAAAAAAAAAAAAAAAAAAAAAAAAAAAAAAAAAAAAAAAAAAAAAAAAAAAAAAAAAAAAAAAAAAAAAAAAAAAAAAAAAAAAAAAAAAAAAAAAAAAAAAAAAAAAAAAAAAAAAAAAAAAAAAAAAAAAAAAAAAAAAAAAAAAAAAAAAAAAAAAAAAAAAAAAAAAAAAAAAAAAAAAAAAAAAAAAAAAAAAAAAAAAAAAAAAAAAAAAAAAAAAAAAAAAAAAAAAAAAAAAAAAAAAAAAAAAAAAAAAAAAAAAAAAAAAAAAAAAAAAAAAAAAAAAAAAAAAAAAAAAAAAAAAAAAAAAAAAAAAAAAAAAAAAAAAAAAAAAAAAAAAAAAAAAAAAAAAAAAAAAAAAAAAAAAAAAAAAAAAAAAAAAAAAAAAAAAAAAAAAAAAAAAAAAAAAAAAAAAAAAAAAAAAAAAAAAAAAAAAAAAAAAAAAAAAAAAAAAAAAAAAAAAAAAAAAAAAAAAAAAAAAAAAAAAAAAAAAAAAAAAAAAAAAAAAAAAAAAAAAAAAAAAAAAAAAAAAAAAAAAAAAAAAAACwAAAAAAQABAAAIBQAB1AkIADs=\"><title>Layer: output1 (output)\n",
       " shape = (1,)\n",
       " Keras class = Dense\n",
       " activation = sigmoid</title></image><text x=\"205.0\" y=\"52.0\" font-family=\"monospace\" font-size=\"12\" text-anchor=\"start\" alignment-baseline=\"central\">output1</text><line x1=\"175.0\" y1=\"104\" x2=\"175.0\" y2=\"77\" stroke=\"black\" stroke-width=\"2\" marker-end=\"url(#arrow)\"><title>Weights from hidden1 to output1\n",
       " output1/kernel has shape (5, 1)\n",
       " output1/bias has shape (1,)</title></line><rect x=\"74.0\" y=\"104\" width=\"202\" height=\"42\" style=\"fill:none;stroke:black;stroke-width:2\"/><image id=\"XOR Network_hidden1_5\" class=\"XOR Network_hidden1\" x=\"75.0\" y=\"105\" height=\"40\" width=\"200\" preserveAspectRatio=\"none\" href=\"data:image/gif;base64,R0lGODdhBQABAIcAAP/9/QAAAAAAAAAAAAAAAAAAAAAAAAAAAAAAAAAAAAAAAAAAAAAAAAAAAAAAAAAAAAAAAAAAAAAAAAAAAAAAAAAAAAAAAAAAAAAAAAAAAAAAAAAAAAAAAAAAAAAAAAAAAAAAAAAAAAAAAAAAAAAAAAAAAAAAAAAAAAAAAAAAAAAAAAAAAAAAAAAAAAAAAAAAAAAAAAAAAAAAAAAAAAAAAAAAAAAAAAAAAAAAAAAAAAAAAAAAAAAAAAAAAAAAAAAAAAAAAAAAAAAAAAAAAAAAAAAAAAAAAAAAAAAAAAAAAAAAAAAAAAAAAAAAAAAAAAAAAAAAAAAAAAAAAAAAAAAAAAAAAAAAAAAAAAAAAAAAAAAAAAAAAAAAAAAAAAAAAAAAAAAAAAAAAAAAAAAAAAAAAAAAAAAAAAAAAAAAAAAAAAAAAAAAAAAAAAAAAAAAAAAAAAAAAAAAAAAAAAAAAAAAAAAAAAAAAAAAAAAAAAAAAAAAAAAAAAAAAAAAAAAAAAAAAAAAAAAAAAAAAAAAAAAAAAAAAAAAAAAAAAAAAAAAAAAAAAAAAAAAAAAAAAAAAAAAAAAAAAAAAAAAAAAAAAAAAAAAAAAAAAAAAAAAAAAAAAAAAAAAAAAAAAAAAAAAAAAAAAAAAAAAAAAAAAAAAAAAAAAAAAAAAAAAAAAAAAAAAAAAAAAAAAAAAAAAAAAAAAAAAAAAAAAAAAAAAAAAAAAAAAAAAAAAAAAAAAAAAAAAAAAAAAAAAAAAAAAAAAAAAAAAAAAAAAAAAAAAAAAAAAAAAAAAAAAAAAAAAAAAAAAAAAAAAAAAAAAAAAAAAAAAAAAAAAAAAAAAAAAAAAAAAAAAAAAAAAAAAAAAAAAAAAAAAAAAAAAAAAAAAAAAAAAAAAAAAAAAAAAAAAAAAAAAAAAAAAAAAAAAAAAAAAAAAAAAAAAAAAAAAAAAAAAAAAAAAAAAAAAAAAAAAAAAAAAAAAAAAAAAAAAAAAAAAAAAAAAAAAAAAAAAAAAAAAAAAAAAAAAAACwAAAAABQABAAAIBgABCBQYEAA7\"><title>Layer: hidden1 (hidden)\n",
       " shape = (5,)\n",
       " Keras class = Dense\n",
       " activation = relu</title></image><text x=\"280.0\" y=\"127.0\" font-family=\"monospace\" font-size=\"12\" text-anchor=\"start\" alignment-baseline=\"central\">hidden1</text><line x1=\"175.0\" y1=\"174\" x2=\"175.0\" y2=\"147\" stroke=\"black\" stroke-width=\"2\" marker-end=\"url(#arrow)\"><title>Weights from input1 to hidden1\n",
       " hidden1/kernel has shape (2, 5)\n",
       " hidden1/bias has shape (5,)</title></line><rect x=\"124.0\" y=\"174\" width=\"102\" height=\"52\" style=\"fill:none;stroke:black;stroke-width:2\"/><image id=\"XOR Network_input1_6\" class=\"XOR Network_input1\" x=\"125.0\" y=\"175\" height=\"50\" width=\"100\" preserveAspectRatio=\"none\" href=\"data:image/gif;base64,R0lGODdhAgABAIcAAP/9/QAAAAAAAAAAAAAAAAAAAAAAAAAAAAAAAAAAAAAAAAAAAAAAAAAAAAAAAAAAAAAAAAAAAAAAAAAAAAAAAAAAAAAAAAAAAAAAAAAAAAAAAAAAAAAAAAAAAAAAAAAAAAAAAAAAAAAAAAAAAAAAAAAAAAAAAAAAAAAAAAAAAAAAAAAAAAAAAAAAAAAAAAAAAAAAAAAAAAAAAAAAAAAAAAAAAAAAAAAAAAAAAAAAAAAAAAAAAAAAAAAAAAAAAAAAAAAAAAAAAAAAAAAAAAAAAAAAAAAAAAAAAAAAAAAAAAAAAAAAAAAAAAAAAAAAAAAAAAAAAAAAAAAAAAAAAAAAAAAAAAAAAAAAAAAAAAAAAAAAAAAAAAAAAAAAAAAAAAAAAAAAAAAAAAAAAAAAAAAAAAAAAAAAAAAAAAAAAAAAAAAAAAAAAAAAAAAAAAAAAAAAAAAAAAAAAAAAAAAAAAAAAAAAAAAAAAAAAAAAAAAAAAAAAAAAAAAAAAAAAAAAAAAAAAAAAAAAAAAAAAAAAAAAAAAAAAAAAAAAAAAAAAAAAAAAAAAAAAAAAAAAAAAAAAAAAAAAAAAAAAAAAAAAAAAAAAAAAAAAAAAAAAAAAAAAAAAAAAAAAAAAAAAAAAAAAAAAAAAAAAAAAAAAAAAAAAAAAAAAAAAAAAAAAAAAAAAAAAAAAAAAAAAAAAAAAAAAAAAAAAAAAAAAAAAAAAAAAAAAAAAAAAAAAAAAAAAAAAAAAAAAAAAAAAAAAAAAAAAAAAAAAAAAAAAAAAAAAAAAAAAAAAAAAAAAAAAAAAAAAAAAAAAAAAAAAAAAAAAAAAAAAAAAAAAAAAAAAAAAAAAAAAAAAAAAAAAAAAAAAAAAAAAAAAAAAAAAAAAAAAAAAAAAAAAAAAAAAAAAAAAAAAAAAAAAAAAAAAAAAAAAAAAAAAAAAAAAAAAAAAAAAAAAAAAAAAAAAAAAAAAAAAAAAAAAAAAAAAAAAAAAAAAAAAAAAAAAAAAAAAAAAAAAAAAAAAAAAAAAACwAAAAAAgABAAAIBQABAAgIADs=\"><title>Layer: input1 (input)\n",
       " shape = (2,)\n",
       " Keras class = Input</title></image><text x=\"230.0\" y=\"202.0\" font-family=\"monospace\" font-size=\"12\" text-anchor=\"start\" alignment-baseline=\"central\">input1</text></svg>"
      ],
      "text/plain": [
       "<Network name='XOR Network' (compiled)>"
      ]
     },
     "execution_count": 10,
     "metadata": {},
     "output_type": "execute_result"
    }
   ],
   "source": [
    "net"
   ]
  },
  {
   "cell_type": "markdown",
   "metadata": {},
   "source": [
    "### The dashboard\n",
    "\n",
    "The dashboard allows you to interact, test, and generally work with your network via a GUI."
   ]
  },
  {
   "cell_type": "code",
   "execution_count": 11,
   "metadata": {
    "scrolled": false
   },
   "outputs": [
    {
     "data": {
      "application/vnd.jupyter.widget-view+json": {
       "model_id": "2c7b028c9030499bbc4daa2a2bcd1d8c",
       "version_major": 2,
       "version_minor": 0
      },
      "text/html": [
       "<p>Failed to display Jupyter Widget of type <code>Dashboard</code>.</p>\n",
       "<p>\n",
       "  If you're reading this message in the Jupyter Notebook or JupyterLab Notebook, it may mean\n",
       "  that the widgets JavaScript is still loading. If this message persists, it\n",
       "  likely means that the widgets JavaScript library is either not installed or\n",
       "  not enabled. See the <a href=\"https://ipywidgets.readthedocs.io/en/stable/user_install.html\">Jupyter\n",
       "  Widgets Documentation</a> for setup instructions.\n",
       "</p>\n",
       "<p>\n",
       "  If you're reading this message in another frontend (for example, a static\n",
       "  rendering on GitHub or <a href=\"https://nbviewer.jupyter.org/\">NBViewer</a>),\n",
       "  it may mean that your frontend doesn't currently support widgets.\n",
       "</p>\n"
      ],
      "text/plain": [
       "Dashboard(children=(Accordion(children=(HBox(children=(VBox(children=(Select(description='Dataset:', index=1, options=('Test', 'Train'), rows=1, value='Train'), FloatSlider(value=1.0, continuous_update=False, description='Zoom', max=3.0, min=0.5), IntText(value=150, description='Horizontal space between banks:', style=DescriptionStyle(description_width='initial')), IntText(value=30, description='Vertical space between layers:', style=DescriptionStyle(description_width='initial')), HBox(children=(Checkbox(value=False, description='Show Targets', style=DescriptionStyle(description_width='initial')), Checkbox(value=False, description='Errors', style=DescriptionStyle(description_width='initial')))), Select(description='Features:', options=('',), rows=1, value=''), IntText(value=3, description='Feature columns:', style=DescriptionStyle(description_width='initial')), FloatText(value=2.0, description='Feature scale:', style=DescriptionStyle(description_width='initial'))), layout=Layout(width='100%')), VBox(children=(Select(description='Layer:', index=2, options=('input1', 'hidden1', 'output1'), rows=1, value='output1'), Checkbox(value=True, description='Visible'), Select(description='Colormap:', options=('', 'Accent', 'Accent_r', 'Blues', 'Blues_r', 'BrBG', 'BrBG_r', 'BuGn', 'BuGn_r', 'BuPu', 'BuPu_r', 'CMRmap', 'CMRmap_r', 'Dark2', 'Dark2_r', 'GnBu', 'GnBu_r', 'Greens', 'Greens_r', 'Greys', 'Greys_r', 'OrRd', 'OrRd_r', 'Oranges', 'Oranges_r', 'PRGn', 'PRGn_r', 'Paired', 'Paired_r', 'Pastel1', 'Pastel1_r', 'Pastel2', 'Pastel2_r', 'PiYG', 'PiYG_r', 'PuBu', 'PuBuGn', 'PuBuGn_r', 'PuBu_r', 'PuOr', 'PuOr_r', 'PuRd', 'PuRd_r', 'Purples', 'Purples_r', 'RdBu', 'RdBu_r', 'RdGy', 'RdGy_r', 'RdPu', 'RdPu_r', 'RdYlBu', 'RdYlBu_r', 'RdYlGn', 'RdYlGn_r', 'Reds', 'Reds_r', 'Set1', 'Set1_r', 'Set2', 'Set2_r', 'Set3', 'Set3_r', 'Spectral', 'Spectral_r', 'Vega10', 'Vega10_r', 'Vega20', 'Vega20_r', 'Vega20b', 'Vega20b_r', 'Vega20c', 'Vega20c_r', 'Wistia', 'Wistia_r', 'YlGn', 'YlGnBu', 'YlGnBu_r', 'YlGn_r', 'YlOrBr', 'YlOrBr_r', 'YlOrRd', 'YlOrRd_r', 'afmhot', 'afmhot_r', 'autumn', 'autumn_r', 'binary', 'binary_r', 'bone', 'bone_r', 'brg', 'brg_r', 'bwr', 'bwr_r', 'cool', 'cool_r', 'coolwarm', 'coolwarm_r', 'copper', 'copper_r', 'cubehelix', 'cubehelix_r', 'flag', 'flag_r', 'gist_earth', 'gist_earth_r', 'gist_gray', 'gist_gray_r', 'gist_heat', 'gist_heat_r', 'gist_ncar', 'gist_ncar_r', 'gist_rainbow', 'gist_rainbow_r', 'gist_stern', 'gist_stern_r', 'gist_yarg', 'gist_yarg_r', 'gnuplot', 'gnuplot2', 'gnuplot2_r', 'gnuplot_r', 'gray', 'gray_r', 'hot', 'hot_r', 'hsv', 'hsv_r', 'inferno', 'inferno_r', 'jet', 'jet_r', 'magma', 'magma_r', 'nipy_spectral', 'nipy_spectral_r', 'ocean', 'ocean_r', 'pink', 'pink_r', 'plasma', 'plasma_r', 'prism', 'prism_r', 'rainbow', 'rainbow_r', 'seismic', 'seismic_r', 'spectral', 'spectral_r', 'spring', 'spring_r', 'summer', 'summer_r', 'tab10', 'tab10_r', 'tab20', 'tab20_r', 'tab20b', 'tab20b_r', 'tab20c', 'tab20c_r', 'terrain', 'terrain_r', 'viridis', 'viridis_r', 'winter', 'winter_r'), rows=1, value=''), HTML(value='<img src=\"data:image/gif;base64,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\"/>'), FloatText(value=-1.0, description='Leftmost color maps to:', style=DescriptionStyle(description_width='initial')), FloatText(value=1.0, description='Rightmost color maps to:', style=DescriptionStyle(description_width='initial')), IntText(value=0, description='Feature to show:', style=DescriptionStyle(description_width='initial'))), layout=Layout(width='100%')))),), selected_index=None, _titles={'0': 'XOR Network'}), VBox(children=(HBox(children=(IntSlider(value=0, continuous_update=False, description='Dataset index', layout=Layout(width='100%'), max=0), Label(value='of 0', layout=Layout(width='100px'))), layout=Layout(height='40px')), HBox(children=(Button(icon='fast-backward', layout=Layout(width='100%'), style=ButtonStyle()), Button(icon='backward', layout=Layout(width='100%'), style=ButtonStyle()), IntText(value=0, layout=Layout(width='100%')), Button(icon='forward', layout=Layout(width='100%'), style=ButtonStyle()), Button(icon='fast-forward', layout=Layout(width='100%'), style=ButtonStyle()), Button(description='Play', icon='play', layout=Layout(width='100%'), style=ButtonStyle()), Button(icon='refresh', layout=Layout(width='25%'), style=ButtonStyle())), layout=Layout(height='50px', width='100%'))), layout=Layout(width='100%')), HTML(value='<p style=\"text-align:center\"></p>', layout=Layout(justify_content='center', overflow_x='auto', overflow_y='auto', width='95%')), Output()))"
      ]
     },
     "metadata": {},
     "output_type": "display_data"
    },
    {
     "data": {
      "application/javascript": [
       "\n",
       "require(['base/js/namespace'], function(Jupyter) {\n",
       "    Jupyter.notebook.kernel.comm_manager.register_target('conx_svg_control', function(comm, msg) {\n",
       "        comm.on_msg(function(msg) {\n",
       "            var data = msg[\"content\"][\"data\"];\n",
       "            var images = document.getElementsByClassName(data[\"class\"]);\n",
       "            for (var i = 0; i < images.length; i++) {\n",
       "                if (data[\"href\"]) {\n",
       "                    images[i].setAttributeNS(null, \"href\", data[\"href\"]);\n",
       "                }\n",
       "                if (data[\"src\"]) {\n",
       "                    images[i].setAttributeNS(null, \"src\", data[\"src\"]);\n",
       "                }\n",
       "            }\n",
       "        });\n",
       "    });\n",
       "});\n"
      ],
      "text/plain": [
       "<IPython.core.display.Javascript object>"
      ]
     },
     "metadata": {},
     "output_type": "display_data"
    }
   ],
   "source": [
    "net.dashboard()"
   ]
  },
  {
   "cell_type": "markdown",
   "metadata": {},
   "source": [
    "### Step 6: setup the training data\n",
    "\n",
    "For this little experiment, we want to train the network on our table from above. To do that, we add the inputs and the targets to the dataset, one at a time:"
   ]
  },
  {
   "cell_type": "code",
   "execution_count": 12,
   "metadata": {},
   "outputs": [],
   "source": [
    "net.dataset.add([0, 0], [0])\n",
    "net.dataset.add([0, 1], [1])\n",
    "net.dataset.add([1, 0], [1])\n",
    "net.dataset.add([1, 1], [0])"
   ]
  },
  {
   "cell_type": "code",
   "execution_count": 13,
   "metadata": {},
   "outputs": [
    {
     "name": "stdout",
     "output_type": "stream",
     "text": [
      "Input Summary:\n",
      "   count  : 4 (4 for training, 0 for testing)\n",
      "   shape  : [(2,)]\n",
      "   range  : (0.0, 1.0)\n",
      "Target Summary:\n",
      "   count  : 4 (4 for training, 0 for testing)\n",
      "   shape  : [(1,)]\n",
      "   range  : (0.0, 1.0)\n"
     ]
    }
   ],
   "source": [
    "net.dataset.summary()"
   ]
  },
  {
   "cell_type": "markdown",
   "metadata": {},
   "source": [
    "### Step 7: train the network"
   ]
  },
  {
   "cell_type": "code",
   "execution_count": 14,
   "metadata": {},
   "outputs": [
    {
     "data": {
      "image/svg+xml": [
       "<svg height=\"288pt\" version=\"1.1\" viewBox=\"0 0 720 288\" width=\"720pt\" xmlns=\"http://www.w3.org/2000/svg\" xmlns:xlink=\"http://www.w3.org/1999/xlink\">\n",
       " <defs>\n",
       "  <style type=\"text/css\">\n",
       "*{stroke-linecap:butt;stroke-linejoin:round;}\n",
       "  </style>\n",
       " </defs>\n",
       " <g id=\"figure_1\">\n",
       "  <g id=\"patch_1\">\n",
       "   <path d=\"M 0 288  L 720 288  L 720 0  L 0 0  z \" style=\"fill:#ffffff;\"/>\n",
       "  </g>\n",
       "  <g id=\"axes_1\">\n",
       "   <g id=\"patch_2\">\n",
       "    <path d=\"M 90 252  L 343.636364 252  L 343.636364 34.56  L 90 34.56  z \" style=\"fill:#ffffff;\"/>\n",
       "   </g>\n",
       "   <g id=\"matplotlib.axis_1\">\n",
       "    <g id=\"xtick_1\">\n",
       "     <g id=\"line2d_1\">\n",
       "      <defs>\n",
       "       <path d=\"M 0 0  L 0 3.5  \" id=\"m00db89b7be\" style=\"stroke:#000000;stroke-width:0.8;\"/>\n",
       "      </defs>\n",
       "      <g>\n",
       "       <use style=\"stroke:#000000;stroke-width:0.8;\" x=\"101.528926\" xlink:href=\"#m00db89b7be\" y=\"252\"/>\n",
       "      </g>\n",
       "     </g>\n",
       "     <g id=\"text_1\">\n",
       "      <!-- 0 -->\n",
       "      <defs>\n",
       "       <path d=\"M 31.78125 66.40625  Q 24.171875 66.40625 20.328125 58.90625  Q 16.5 51.421875 16.5 36.375  Q 16.5 21.390625 20.328125 13.890625  Q 24.171875 6.390625 31.78125 6.390625  Q 39.453125 6.390625 43.28125 13.890625  Q 47.125 21.390625 47.125 36.375  Q 47.125 51.421875 43.28125 58.90625  Q 39.453125 66.40625 31.78125 66.40625  z M 31.78125 74.21875  Q 44.046875 74.21875 50.515625 64.515625  Q 56.984375 54.828125 56.984375 36.375  Q 56.984375 17.96875 50.515625 8.265625  Q 44.046875 -1.421875 31.78125 -1.421875  Q 19.53125 -1.421875 13.0625 8.265625  Q 6.59375 17.96875 6.59375 36.375  Q 6.59375 54.828125 13.0625 64.515625  Q 19.53125 74.21875 31.78125 74.21875  z \" id=\"DejaVuSans-30\"/>\n",
       "      </defs>\n",
       "      <g transform=\"translate(98.347676 266.598437)scale(0.1 -0.1)\">\n",
       "       <use xlink:href=\"#DejaVuSans-30\"/>\n",
       "      </g>\n",
       "     </g>\n",
       "    </g>\n",
       "    <g id=\"xtick_2\">\n",
       "     <g id=\"line2d_2\">\n",
       "      <g>\n",
       "       <use style=\"stroke:#000000;stroke-width:0.8;\" x=\"159.173554\" xlink:href=\"#m00db89b7be\" y=\"252\"/>\n",
       "      </g>\n",
       "     </g>\n",
       "     <g id=\"text_2\">\n",
       "      <!-- 500 -->\n",
       "      <defs>\n",
       "       <path d=\"M 10.796875 72.90625  L 49.515625 72.90625  L 49.515625 64.59375  L 19.828125 64.59375  L 19.828125 46.734375  Q 21.96875 47.46875 24.109375 47.828125  Q 26.265625 48.1875 28.421875 48.1875  Q 40.625 48.1875 47.75 41.5  Q 54.890625 34.8125 54.890625 23.390625  Q 54.890625 11.625 47.5625 5.09375  Q 40.234375 -1.421875 26.90625 -1.421875  Q 22.3125 -1.421875 17.546875 -0.640625  Q 12.796875 0.140625 7.71875 1.703125  L 7.71875 11.625  Q 12.109375 9.234375 16.796875 8.0625  Q 21.484375 6.890625 26.703125 6.890625  Q 35.15625 6.890625 40.078125 11.328125  Q 45.015625 15.765625 45.015625 23.390625  Q 45.015625 31 40.078125 35.4375  Q 35.15625 39.890625 26.703125 39.890625  Q 22.75 39.890625 18.8125 39.015625  Q 14.890625 38.140625 10.796875 36.28125  z \" id=\"DejaVuSans-35\"/>\n",
       "      </defs>\n",
       "      <g transform=\"translate(149.629804 266.598437)scale(0.1 -0.1)\">\n",
       "       <use xlink:href=\"#DejaVuSans-35\"/>\n",
       "       <use x=\"63.623047\" xlink:href=\"#DejaVuSans-30\"/>\n",
       "       <use x=\"127.246094\" xlink:href=\"#DejaVuSans-30\"/>\n",
       "      </g>\n",
       "     </g>\n",
       "    </g>\n",
       "    <g id=\"xtick_3\">\n",
       "     <g id=\"line2d_3\">\n",
       "      <g>\n",
       "       <use style=\"stroke:#000000;stroke-width:0.8;\" x=\"216.818182\" xlink:href=\"#m00db89b7be\" y=\"252\"/>\n",
       "      </g>\n",
       "     </g>\n",
       "     <g id=\"text_3\">\n",
       "      <!-- 1000 -->\n",
       "      <defs>\n",
       "       <path d=\"M 12.40625 8.296875  L 28.515625 8.296875  L 28.515625 63.921875  L 10.984375 60.40625  L 10.984375 69.390625  L 28.421875 72.90625  L 38.28125 72.90625  L 38.28125 8.296875  L 54.390625 8.296875  L 54.390625 0  L 12.40625 0  z \" id=\"DejaVuSans-31\"/>\n",
       "      </defs>\n",
       "      <g transform=\"translate(204.093182 266.598437)scale(0.1 -0.1)\">\n",
       "       <use xlink:href=\"#DejaVuSans-31\"/>\n",
       "       <use x=\"63.623047\" xlink:href=\"#DejaVuSans-30\"/>\n",
       "       <use x=\"127.246094\" xlink:href=\"#DejaVuSans-30\"/>\n",
       "       <use x=\"190.869141\" xlink:href=\"#DejaVuSans-30\"/>\n",
       "      </g>\n",
       "     </g>\n",
       "    </g>\n",
       "    <g id=\"xtick_4\">\n",
       "     <g id=\"line2d_4\">\n",
       "      <g>\n",
       "       <use style=\"stroke:#000000;stroke-width:0.8;\" x=\"274.46281\" xlink:href=\"#m00db89b7be\" y=\"252\"/>\n",
       "      </g>\n",
       "     </g>\n",
       "     <g id=\"text_4\">\n",
       "      <!-- 1500 -->\n",
       "      <g transform=\"translate(261.73781 266.598437)scale(0.1 -0.1)\">\n",
       "       <use xlink:href=\"#DejaVuSans-31\"/>\n",
       "       <use x=\"63.623047\" xlink:href=\"#DejaVuSans-35\"/>\n",
       "       <use x=\"127.246094\" xlink:href=\"#DejaVuSans-30\"/>\n",
       "       <use x=\"190.869141\" xlink:href=\"#DejaVuSans-30\"/>\n",
       "      </g>\n",
       "     </g>\n",
       "    </g>\n",
       "    <g id=\"xtick_5\">\n",
       "     <g id=\"line2d_5\">\n",
       "      <g>\n",
       "       <use style=\"stroke:#000000;stroke-width:0.8;\" x=\"332.107438\" xlink:href=\"#m00db89b7be\" y=\"252\"/>\n",
       "      </g>\n",
       "     </g>\n",
       "     <g id=\"text_5\">\n",
       "      <!-- 2000 -->\n",
       "      <defs>\n",
       "       <path d=\"M 19.1875 8.296875  L 53.609375 8.296875  L 53.609375 0  L 7.328125 0  L 7.328125 8.296875  Q 12.9375 14.109375 22.625 23.890625  Q 32.328125 33.6875 34.8125 36.53125  Q 39.546875 41.84375 41.421875 45.53125  Q 43.3125 49.21875 43.3125 52.78125  Q 43.3125 58.59375 39.234375 62.25  Q 35.15625 65.921875 28.609375 65.921875  Q 23.96875 65.921875 18.8125 64.3125  Q 13.671875 62.703125 7.8125 59.421875  L 7.8125 69.390625  Q 13.765625 71.78125 18.9375 73  Q 24.125 74.21875 28.421875 74.21875  Q 39.75 74.21875 46.484375 68.546875  Q 53.21875 62.890625 53.21875 53.421875  Q 53.21875 48.921875 51.53125 44.890625  Q 49.859375 40.875 45.40625 35.40625  Q 44.1875 33.984375 37.640625 27.21875  Q 31.109375 20.453125 19.1875 8.296875  z \" id=\"DejaVuSans-32\"/>\n",
       "      </defs>\n",
       "      <g transform=\"translate(319.382438 266.598437)scale(0.1 -0.1)\">\n",
       "       <use xlink:href=\"#DejaVuSans-32\"/>\n",
       "       <use x=\"63.623047\" xlink:href=\"#DejaVuSans-30\"/>\n",
       "       <use x=\"127.246094\" xlink:href=\"#DejaVuSans-30\"/>\n",
       "       <use x=\"190.869141\" xlink:href=\"#DejaVuSans-30\"/>\n",
       "      </g>\n",
       "     </g>\n",
       "    </g>\n",
       "    <g id=\"text_6\">\n",
       "     <!-- Epoch -->\n",
       "     <defs>\n",
       "      <path d=\"M 9.8125 72.90625  L 55.90625 72.90625  L 55.90625 64.59375  L 19.671875 64.59375  L 19.671875 43.015625  L 54.390625 43.015625  L 54.390625 34.71875  L 19.671875 34.71875  L 19.671875 8.296875  L 56.78125 8.296875  L 56.78125 0  L 9.8125 0  z \" id=\"DejaVuSans-45\"/>\n",
       "      <path d=\"M 18.109375 8.203125  L 18.109375 -20.796875  L 9.078125 -20.796875  L 9.078125 54.6875  L 18.109375 54.6875  L 18.109375 46.390625  Q 20.953125 51.265625 25.265625 53.625  Q 29.59375 56 35.59375 56  Q 45.5625 56 51.78125 48.09375  Q 58.015625 40.1875 58.015625 27.296875  Q 58.015625 14.40625 51.78125 6.484375  Q 45.5625 -1.421875 35.59375 -1.421875  Q 29.59375 -1.421875 25.265625 0.953125  Q 20.953125 3.328125 18.109375 8.203125  z M 48.6875 27.296875  Q 48.6875 37.203125 44.609375 42.84375  Q 40.53125 48.484375 33.40625 48.484375  Q 26.265625 48.484375 22.1875 42.84375  Q 18.109375 37.203125 18.109375 27.296875  Q 18.109375 17.390625 22.1875 11.75  Q 26.265625 6.109375 33.40625 6.109375  Q 40.53125 6.109375 44.609375 11.75  Q 48.6875 17.390625 48.6875 27.296875  z \" id=\"DejaVuSans-70\"/>\n",
       "      <path d=\"M 30.609375 48.390625  Q 23.390625 48.390625 19.1875 42.75  Q 14.984375 37.109375 14.984375 27.296875  Q 14.984375 17.484375 19.15625 11.84375  Q 23.34375 6.203125 30.609375 6.203125  Q 37.796875 6.203125 41.984375 11.859375  Q 46.1875 17.53125 46.1875 27.296875  Q 46.1875 37.015625 41.984375 42.703125  Q 37.796875 48.390625 30.609375 48.390625  z M 30.609375 56  Q 42.328125 56 49.015625 48.375  Q 55.71875 40.765625 55.71875 27.296875  Q 55.71875 13.875 49.015625 6.21875  Q 42.328125 -1.421875 30.609375 -1.421875  Q 18.84375 -1.421875 12.171875 6.21875  Q 5.515625 13.875 5.515625 27.296875  Q 5.515625 40.765625 12.171875 48.375  Q 18.84375 56 30.609375 56  z \" id=\"DejaVuSans-6f\"/>\n",
       "      <path d=\"M 48.78125 52.59375  L 48.78125 44.1875  Q 44.96875 46.296875 41.140625 47.34375  Q 37.3125 48.390625 33.40625 48.390625  Q 24.65625 48.390625 19.8125 42.84375  Q 14.984375 37.3125 14.984375 27.296875  Q 14.984375 17.28125 19.8125 11.734375  Q 24.65625 6.203125 33.40625 6.203125  Q 37.3125 6.203125 41.140625 7.25  Q 44.96875 8.296875 48.78125 10.40625  L 48.78125 2.09375  Q 45.015625 0.34375 40.984375 -0.53125  Q 36.96875 -1.421875 32.421875 -1.421875  Q 20.0625 -1.421875 12.78125 6.34375  Q 5.515625 14.109375 5.515625 27.296875  Q 5.515625 40.671875 12.859375 48.328125  Q 20.21875 56 33.015625 56  Q 37.15625 56 41.109375 55.140625  Q 45.0625 54.296875 48.78125 52.59375  z \" id=\"DejaVuSans-63\"/>\n",
       "      <path d=\"M 54.890625 33.015625  L 54.890625 0  L 45.90625 0  L 45.90625 32.71875  Q 45.90625 40.484375 42.875 44.328125  Q 39.84375 48.1875 33.796875 48.1875  Q 26.515625 48.1875 22.3125 43.546875  Q 18.109375 38.921875 18.109375 30.90625  L 18.109375 0  L 9.078125 0  L 9.078125 75.984375  L 18.109375 75.984375  L 18.109375 46.1875  Q 21.34375 51.125 25.703125 53.5625  Q 30.078125 56 35.796875 56  Q 45.21875 56 50.046875 50.171875  Q 54.890625 44.34375 54.890625 33.015625  z \" id=\"DejaVuSans-68\"/>\n",
       "     </defs>\n",
       "     <g transform=\"translate(201.507244 280.276563)scale(0.1 -0.1)\">\n",
       "      <use xlink:href=\"#DejaVuSans-45\"/>\n",
       "      <use x=\"63.183594\" xlink:href=\"#DejaVuSans-70\"/>\n",
       "      <use x=\"126.660156\" xlink:href=\"#DejaVuSans-6f\"/>\n",
       "      <use x=\"187.841797\" xlink:href=\"#DejaVuSans-63\"/>\n",
       "      <use x=\"242.822266\" xlink:href=\"#DejaVuSans-68\"/>\n",
       "     </g>\n",
       "    </g>\n",
       "   </g>\n",
       "   <g id=\"matplotlib.axis_2\">\n",
       "    <g id=\"ytick_1\">\n",
       "     <g id=\"line2d_6\">\n",
       "      <defs>\n",
       "       <path d=\"M 0 0  L -3.5 0  \" id=\"m030ef03842\" style=\"stroke:#000000;stroke-width:0.8;\"/>\n",
       "      </defs>\n",
       "      <g>\n",
       "       <use style=\"stroke:#000000;stroke-width:0.8;\" x=\"90\" xlink:href=\"#m030ef03842\" y=\"252\"/>\n",
       "      </g>\n",
       "     </g>\n",
       "     <g id=\"text_7\">\n",
       "      <!-- 0.00 -->\n",
       "      <defs>\n",
       "       <path d=\"M 10.6875 12.40625  L 21 12.40625  L 21 0  L 10.6875 0  z \" id=\"DejaVuSans-2e\"/>\n",
       "      </defs>\n",
       "      <g transform=\"translate(60.734375 255.799219)scale(0.1 -0.1)\">\n",
       "       <use xlink:href=\"#DejaVuSans-30\"/>\n",
       "       <use x=\"63.623047\" xlink:href=\"#DejaVuSans-2e\"/>\n",
       "       <use x=\"95.410156\" xlink:href=\"#DejaVuSans-30\"/>\n",
       "       <use x=\"159.033203\" xlink:href=\"#DejaVuSans-30\"/>\n",
       "      </g>\n",
       "     </g>\n",
       "    </g>\n",
       "    <g id=\"ytick_2\">\n",
       "     <g id=\"line2d_7\">\n",
       "      <g>\n",
       "       <use style=\"stroke:#000000;stroke-width:0.8;\" x=\"90\" xlink:href=\"#m030ef03842\" y=\"207.019197\"/>\n",
       "      </g>\n",
       "     </g>\n",
       "     <g id=\"text_8\">\n",
       "      <!-- 0.05 -->\n",
       "      <g transform=\"translate(60.734375 210.818416)scale(0.1 -0.1)\">\n",
       "       <use xlink:href=\"#DejaVuSans-30\"/>\n",
       "       <use x=\"63.623047\" xlink:href=\"#DejaVuSans-2e\"/>\n",
       "       <use x=\"95.410156\" xlink:href=\"#DejaVuSans-30\"/>\n",
       "       <use x=\"159.033203\" xlink:href=\"#DejaVuSans-35\"/>\n",
       "      </g>\n",
       "     </g>\n",
       "    </g>\n",
       "    <g id=\"ytick_3\">\n",
       "     <g id=\"line2d_8\">\n",
       "      <g>\n",
       "       <use style=\"stroke:#000000;stroke-width:0.8;\" x=\"90\" xlink:href=\"#m030ef03842\" y=\"162.038394\"/>\n",
       "      </g>\n",
       "     </g>\n",
       "     <g id=\"text_9\">\n",
       "      <!-- 0.10 -->\n",
       "      <g transform=\"translate(60.734375 165.837613)scale(0.1 -0.1)\">\n",
       "       <use xlink:href=\"#DejaVuSans-30\"/>\n",
       "       <use x=\"63.623047\" xlink:href=\"#DejaVuSans-2e\"/>\n",
       "       <use x=\"95.410156\" xlink:href=\"#DejaVuSans-31\"/>\n",
       "       <use x=\"159.033203\" xlink:href=\"#DejaVuSans-30\"/>\n",
       "      </g>\n",
       "     </g>\n",
       "    </g>\n",
       "    <g id=\"ytick_4\">\n",
       "     <g id=\"line2d_9\">\n",
       "      <g>\n",
       "       <use style=\"stroke:#000000;stroke-width:0.8;\" x=\"90\" xlink:href=\"#m030ef03842\" y=\"117.057591\"/>\n",
       "      </g>\n",
       "     </g>\n",
       "     <g id=\"text_10\">\n",
       "      <!-- 0.15 -->\n",
       "      <g transform=\"translate(60.734375 120.85681)scale(0.1 -0.1)\">\n",
       "       <use xlink:href=\"#DejaVuSans-30\"/>\n",
       "       <use x=\"63.623047\" xlink:href=\"#DejaVuSans-2e\"/>\n",
       "       <use x=\"95.410156\" xlink:href=\"#DejaVuSans-31\"/>\n",
       "       <use x=\"159.033203\" xlink:href=\"#DejaVuSans-35\"/>\n",
       "      </g>\n",
       "     </g>\n",
       "    </g>\n",
       "    <g id=\"ytick_5\">\n",
       "     <g id=\"line2d_10\">\n",
       "      <g>\n",
       "       <use style=\"stroke:#000000;stroke-width:0.8;\" x=\"90\" xlink:href=\"#m030ef03842\" y=\"72.076788\"/>\n",
       "      </g>\n",
       "     </g>\n",
       "     <g id=\"text_11\">\n",
       "      <!-- 0.20 -->\n",
       "      <g transform=\"translate(60.734375 75.876007)scale(0.1 -0.1)\">\n",
       "       <use xlink:href=\"#DejaVuSans-30\"/>\n",
       "       <use x=\"63.623047\" xlink:href=\"#DejaVuSans-2e\"/>\n",
       "       <use x=\"95.410156\" xlink:href=\"#DejaVuSans-32\"/>\n",
       "       <use x=\"159.033203\" xlink:href=\"#DejaVuSans-30\"/>\n",
       "      </g>\n",
       "     </g>\n",
       "    </g>\n",
       "   </g>\n",
       "   <g id=\"line2d_11\">\n",
       "    <path clip-path=\"url(#p19331da4af)\" d=\"M 101.528926 44.4336  L 101.644215 44.4336  L 103.488843 49.031881  L 104.987603 52.41883  L 107.293388 57.038867  L 109.368595 60.750212  L 110.867355 63.190624  L 115.940083 69.983719  L 118.130579 73.13716  L 120.782231 77.210234  L 124.12562 82.342958  L 126.316116 85.59269  L 132.195868 94.562286  L 136.46157 101.27094  L 140.150826 107.173318  L 143.494215 112.606187  L 162.978099 143.082078  L 165.053306 146.17157  L 173.7 158.543551  L 176.582231 162.447657  L 178.080992 164.461392  L 180.617355 167.752533  L 181.770248 169.231381  L 187.188843 175.907729  L 195.604959 185.401808  L 198.256612 188.164089  L 202.061157 191.959109  L 203.21405 193.049063  L 206.442149 196.02487  L 208.747934 198.080734  L 210.477273 199.553306  L 213.128926 201.734784  L 215.780579 203.821651  L 219.008678 206.250267  L 224.081405 209.789306  L 226.502479 211.365796  L 229.154132 213.003537  L 230.422314 213.78297  L 233.996281 215.84562  L 241.720661 219.865103  L 244.026446 220.949268  L 248.753306 223.051046  L 258.322314 226.805227  L 265.12438 229.093665  L 274.116942 231.743321  L 287.375207 234.967113  L 303.169835 237.984343  L 325.420661 241.146027  L 331.185124 241.806159  L 332.107438 241.905603  L 332.107438 241.905603  \" style=\"fill:none;stroke:#1f77b4;stroke-linecap:square;stroke-width:1.5;\"/>\n",
       "   </g>\n",
       "   <g id=\"patch_3\">\n",
       "    <path d=\"M 90 252  L 90 34.56  \" style=\"fill:none;stroke:#000000;stroke-linecap:square;stroke-linejoin:miter;stroke-width:0.8;\"/>\n",
       "   </g>\n",
       "   <g id=\"patch_4\">\n",
       "    <path d=\"M 343.636364 252  L 343.636364 34.56  \" style=\"fill:none;stroke:#000000;stroke-linecap:square;stroke-linejoin:miter;stroke-width:0.8;\"/>\n",
       "   </g>\n",
       "   <g id=\"patch_5\">\n",
       "    <path d=\"M 90 252  L 343.636364 252  \" style=\"fill:none;stroke:#000000;stroke-linecap:square;stroke-linejoin:miter;stroke-width:0.8;\"/>\n",
       "   </g>\n",
       "   <g id=\"patch_6\">\n",
       "    <path d=\"M 90 34.56  L 343.636364 34.56  \" style=\"fill:none;stroke:#000000;stroke-linecap:square;stroke-linejoin:miter;stroke-width:0.8;\"/>\n",
       "   </g>\n",
       "   <g id=\"text_12\">\n",
       "    <!-- XOR Network: Error -->\n",
       "    <defs>\n",
       "     <path d=\"M 6.296875 72.90625  L 16.890625 72.90625  L 35.015625 45.796875  L 53.21875 72.90625  L 63.8125 72.90625  L 40.375 37.890625  L 65.375 0  L 54.78125 0  L 34.28125 31  L 13.625 0  L 2.984375 0  L 29 38.921875  z \" id=\"DejaVuSans-58\"/>\n",
       "     <path d=\"M 39.40625 66.21875  Q 28.65625 66.21875 22.328125 58.203125  Q 16.015625 50.203125 16.015625 36.375  Q 16.015625 22.609375 22.328125 14.59375  Q 28.65625 6.59375 39.40625 6.59375  Q 50.140625 6.59375 56.421875 14.59375  Q 62.703125 22.609375 62.703125 36.375  Q 62.703125 50.203125 56.421875 58.203125  Q 50.140625 66.21875 39.40625 66.21875  z M 39.40625 74.21875  Q 54.734375 74.21875 63.90625 63.9375  Q 73.09375 53.65625 73.09375 36.375  Q 73.09375 19.140625 63.90625 8.859375  Q 54.734375 -1.421875 39.40625 -1.421875  Q 24.03125 -1.421875 14.8125 8.828125  Q 5.609375 19.09375 5.609375 36.375  Q 5.609375 53.65625 14.8125 63.9375  Q 24.03125 74.21875 39.40625 74.21875  z \" id=\"DejaVuSans-4f\"/>\n",
       "     <path d=\"M 44.390625 34.1875  Q 47.5625 33.109375 50.5625 29.59375  Q 53.5625 26.078125 56.59375 19.921875  L 66.609375 0  L 56 0  L 46.6875 18.703125  Q 43.0625 26.03125 39.671875 28.421875  Q 36.28125 30.8125 30.421875 30.8125  L 19.671875 30.8125  L 19.671875 0  L 9.8125 0  L 9.8125 72.90625  L 32.078125 72.90625  Q 44.578125 72.90625 50.734375 67.671875  Q 56.890625 62.453125 56.890625 51.90625  Q 56.890625 45.015625 53.6875 40.46875  Q 50.484375 35.9375 44.390625 34.1875  z M 19.671875 64.796875  L 19.671875 38.921875  L 32.078125 38.921875  Q 39.203125 38.921875 42.84375 42.21875  Q 46.484375 45.515625 46.484375 51.90625  Q 46.484375 58.296875 42.84375 61.546875  Q 39.203125 64.796875 32.078125 64.796875  z \" id=\"DejaVuSans-52\"/>\n",
       "     <path id=\"DejaVuSans-20\"/>\n",
       "     <path d=\"M 9.8125 72.90625  L 23.09375 72.90625  L 55.421875 11.921875  L 55.421875 72.90625  L 64.984375 72.90625  L 64.984375 0  L 51.703125 0  L 19.390625 60.984375  L 19.390625 0  L 9.8125 0  z \" id=\"DejaVuSans-4e\"/>\n",
       "     <path d=\"M 56.203125 29.59375  L 56.203125 25.203125  L 14.890625 25.203125  Q 15.484375 15.921875 20.484375 11.0625  Q 25.484375 6.203125 34.421875 6.203125  Q 39.59375 6.203125 44.453125 7.46875  Q 49.3125 8.734375 54.109375 11.28125  L 54.109375 2.78125  Q 49.265625 0.734375 44.1875 -0.34375  Q 39.109375 -1.421875 33.890625 -1.421875  Q 20.796875 -1.421875 13.15625 6.1875  Q 5.515625 13.8125 5.515625 26.8125  Q 5.515625 40.234375 12.765625 48.109375  Q 20.015625 56 32.328125 56  Q 43.359375 56 49.78125 48.890625  Q 56.203125 41.796875 56.203125 29.59375  z M 47.21875 32.234375  Q 47.125 39.59375 43.09375 43.984375  Q 39.0625 48.390625 32.421875 48.390625  Q 24.90625 48.390625 20.390625 44.140625  Q 15.875 39.890625 15.1875 32.171875  z \" id=\"DejaVuSans-65\"/>\n",
       "     <path d=\"M 18.3125 70.21875  L 18.3125 54.6875  L 36.8125 54.6875  L 36.8125 47.703125  L 18.3125 47.703125  L 18.3125 18.015625  Q 18.3125 11.328125 20.140625 9.421875  Q 21.96875 7.515625 27.59375 7.515625  L 36.8125 7.515625  L 36.8125 0  L 27.59375 0  Q 17.1875 0 13.234375 3.875  Q 9.28125 7.765625 9.28125 18.015625  L 9.28125 47.703125  L 2.6875 47.703125  L 2.6875 54.6875  L 9.28125 54.6875  L 9.28125 70.21875  z \" id=\"DejaVuSans-74\"/>\n",
       "     <path d=\"M 4.203125 54.6875  L 13.1875 54.6875  L 24.421875 12.015625  L 35.59375 54.6875  L 46.1875 54.6875  L 57.421875 12.015625  L 68.609375 54.6875  L 77.59375 54.6875  L 63.28125 0  L 52.6875 0  L 40.921875 44.828125  L 29.109375 0  L 18.5 0  z \" id=\"DejaVuSans-77\"/>\n",
       "     <path d=\"M 41.109375 46.296875  Q 39.59375 47.171875 37.8125 47.578125  Q 36.03125 48 33.890625 48  Q 26.265625 48 22.1875 43.046875  Q 18.109375 38.09375 18.109375 28.8125  L 18.109375 0  L 9.078125 0  L 9.078125 54.6875  L 18.109375 54.6875  L 18.109375 46.1875  Q 20.953125 51.171875 25.484375 53.578125  Q 30.03125 56 36.53125 56  Q 37.453125 56 38.578125 55.875  Q 39.703125 55.765625 41.0625 55.515625  z \" id=\"DejaVuSans-72\"/>\n",
       "     <path d=\"M 9.078125 75.984375  L 18.109375 75.984375  L 18.109375 31.109375  L 44.921875 54.6875  L 56.390625 54.6875  L 27.390625 29.109375  L 57.625 0  L 45.90625 0  L 18.109375 26.703125  L 18.109375 0  L 9.078125 0  z \" id=\"DejaVuSans-6b\"/>\n",
       "     <path d=\"M 11.71875 12.40625  L 22.015625 12.40625  L 22.015625 0  L 11.71875 0  z M 11.71875 51.703125  L 22.015625 51.703125  L 22.015625 39.3125  L 11.71875 39.3125  z \" id=\"DejaVuSans-3a\"/>\n",
       "    </defs>\n",
       "    <g transform=\"translate(158.075369 28.56)scale(0.12 -0.12)\">\n",
       "     <use xlink:href=\"#DejaVuSans-58\"/>\n",
       "     <use x=\"68.412109\" xlink:href=\"#DejaVuSans-4f\"/>\n",
       "     <use x=\"147.123047\" xlink:href=\"#DejaVuSans-52\"/>\n",
       "     <use x=\"216.605469\" xlink:href=\"#DejaVuSans-20\"/>\n",
       "     <use x=\"248.392578\" xlink:href=\"#DejaVuSans-4e\"/>\n",
       "     <use x=\"323.197266\" xlink:href=\"#DejaVuSans-65\"/>\n",
       "     <use x=\"384.720703\" xlink:href=\"#DejaVuSans-74\"/>\n",
       "     <use x=\"423.929688\" xlink:href=\"#DejaVuSans-77\"/>\n",
       "     <use x=\"505.716797\" xlink:href=\"#DejaVuSans-6f\"/>\n",
       "     <use x=\"566.898438\" xlink:href=\"#DejaVuSans-72\"/>\n",
       "     <use x=\"608.011719\" xlink:href=\"#DejaVuSans-6b\"/>\n",
       "     <use x=\"665.921875\" xlink:href=\"#DejaVuSans-3a\"/>\n",
       "     <use x=\"699.613281\" xlink:href=\"#DejaVuSans-20\"/>\n",
       "     <use x=\"731.400391\" xlink:href=\"#DejaVuSans-45\"/>\n",
       "     <use x=\"794.583984\" xlink:href=\"#DejaVuSans-72\"/>\n",
       "     <use x=\"835.681641\" xlink:href=\"#DejaVuSans-72\"/>\n",
       "     <use x=\"876.763672\" xlink:href=\"#DejaVuSans-6f\"/>\n",
       "     <use x=\"937.945312\" xlink:href=\"#DejaVuSans-72\"/>\n",
       "    </g>\n",
       "   </g>\n",
       "   <g id=\"legend_1\">\n",
       "    <g id=\"patch_7\">\n",
       "     <path d=\"M 245.270739 57.238125  L 336.636364 57.238125  Q 338.636364 57.238125 338.636364 55.238125  L 338.636364 41.56  Q 338.636364 39.56 336.636364 39.56  L 245.270739 39.56  Q 243.270739 39.56 243.270739 41.56  L 243.270739 55.238125  Q 243.270739 57.238125 245.270739 57.238125  z \" style=\"fill:#ffffff;opacity:0.8;stroke:#cccccc;stroke-linejoin:miter;\"/>\n",
       "    </g>\n",
       "    <g id=\"line2d_12\">\n",
       "     <path d=\"M 247.270739 47.658437  L 267.270739 47.658437  \" style=\"fill:none;stroke:#1f77b4;stroke-linecap:square;stroke-width:1.5;\"/>\n",
       "    </g>\n",
       "    <g id=\"line2d_13\"/>\n",
       "    <g id=\"text_13\">\n",
       "     <!-- Training set -->\n",
       "     <defs>\n",
       "      <path d=\"M -0.296875 72.90625  L 61.375 72.90625  L 61.375 64.59375  L 35.5 64.59375  L 35.5 0  L 25.59375 0  L 25.59375 64.59375  L -0.296875 64.59375  z \" id=\"DejaVuSans-54\"/>\n",
       "      <path d=\"M 34.28125 27.484375  Q 23.390625 27.484375 19.1875 25  Q 14.984375 22.515625 14.984375 16.5  Q 14.984375 11.71875 18.140625 8.90625  Q 21.296875 6.109375 26.703125 6.109375  Q 34.1875 6.109375 38.703125 11.40625  Q 43.21875 16.703125 43.21875 25.484375  L 43.21875 27.484375  z M 52.203125 31.203125  L 52.203125 0  L 43.21875 0  L 43.21875 8.296875  Q 40.140625 3.328125 35.546875 0.953125  Q 30.953125 -1.421875 24.3125 -1.421875  Q 15.921875 -1.421875 10.953125 3.296875  Q 6 8.015625 6 15.921875  Q 6 25.140625 12.171875 29.828125  Q 18.359375 34.515625 30.609375 34.515625  L 43.21875 34.515625  L 43.21875 35.40625  Q 43.21875 41.609375 39.140625 45  Q 35.0625 48.390625 27.6875 48.390625  Q 23 48.390625 18.546875 47.265625  Q 14.109375 46.140625 10.015625 43.890625  L 10.015625 52.203125  Q 14.9375 54.109375 19.578125 55.046875  Q 24.21875 56 28.609375 56  Q 40.484375 56 46.34375 49.84375  Q 52.203125 43.703125 52.203125 31.203125  z \" id=\"DejaVuSans-61\"/>\n",
       "      <path d=\"M 9.421875 54.6875  L 18.40625 54.6875  L 18.40625 0  L 9.421875 0  z M 9.421875 75.984375  L 18.40625 75.984375  L 18.40625 64.59375  L 9.421875 64.59375  z \" id=\"DejaVuSans-69\"/>\n",
       "      <path d=\"M 54.890625 33.015625  L 54.890625 0  L 45.90625 0  L 45.90625 32.71875  Q 45.90625 40.484375 42.875 44.328125  Q 39.84375 48.1875 33.796875 48.1875  Q 26.515625 48.1875 22.3125 43.546875  Q 18.109375 38.921875 18.109375 30.90625  L 18.109375 0  L 9.078125 0  L 9.078125 54.6875  L 18.109375 54.6875  L 18.109375 46.1875  Q 21.34375 51.125 25.703125 53.5625  Q 30.078125 56 35.796875 56  Q 45.21875 56 50.046875 50.171875  Q 54.890625 44.34375 54.890625 33.015625  z \" id=\"DejaVuSans-6e\"/>\n",
       "      <path d=\"M 45.40625 27.984375  Q 45.40625 37.75 41.375 43.109375  Q 37.359375 48.484375 30.078125 48.484375  Q 22.859375 48.484375 18.828125 43.109375  Q 14.796875 37.75 14.796875 27.984375  Q 14.796875 18.265625 18.828125 12.890625  Q 22.859375 7.515625 30.078125 7.515625  Q 37.359375 7.515625 41.375 12.890625  Q 45.40625 18.265625 45.40625 27.984375  z M 54.390625 6.78125  Q 54.390625 -7.171875 48.1875 -13.984375  Q 42 -20.796875 29.203125 -20.796875  Q 24.46875 -20.796875 20.265625 -20.09375  Q 16.0625 -19.390625 12.109375 -17.921875  L 12.109375 -9.1875  Q 16.0625 -11.328125 19.921875 -12.34375  Q 23.78125 -13.375 27.78125 -13.375  Q 36.625 -13.375 41.015625 -8.765625  Q 45.40625 -4.15625 45.40625 5.171875  L 45.40625 9.625  Q 42.625 4.78125 38.28125 2.390625  Q 33.9375 0 27.875 0  Q 17.828125 0 11.671875 7.65625  Q 5.515625 15.328125 5.515625 27.984375  Q 5.515625 40.671875 11.671875 48.328125  Q 17.828125 56 27.875 56  Q 33.9375 56 38.28125 53.609375  Q 42.625 51.21875 45.40625 46.390625  L 45.40625 54.6875  L 54.390625 54.6875  z \" id=\"DejaVuSans-67\"/>\n",
       "      <path d=\"M 44.28125 53.078125  L 44.28125 44.578125  Q 40.484375 46.53125 36.375 47.5  Q 32.28125 48.484375 27.875 48.484375  Q 21.1875 48.484375 17.84375 46.4375  Q 14.5 44.390625 14.5 40.28125  Q 14.5 37.15625 16.890625 35.375  Q 19.28125 33.59375 26.515625 31.984375  L 29.59375 31.296875  Q 39.15625 29.25 43.1875 25.515625  Q 47.21875 21.78125 47.21875 15.09375  Q 47.21875 7.46875 41.1875 3.015625  Q 35.15625 -1.421875 24.609375 -1.421875  Q 20.21875 -1.421875 15.453125 -0.5625  Q 10.6875 0.296875 5.421875 2  L 5.421875 11.28125  Q 10.40625 8.6875 15.234375 7.390625  Q 20.0625 6.109375 24.8125 6.109375  Q 31.15625 6.109375 34.5625 8.28125  Q 37.984375 10.453125 37.984375 14.40625  Q 37.984375 18.0625 35.515625 20.015625  Q 33.0625 21.96875 24.703125 23.78125  L 21.578125 24.515625  Q 13.234375 26.265625 9.515625 29.90625  Q 5.8125 33.546875 5.8125 39.890625  Q 5.8125 47.609375 11.28125 51.796875  Q 16.75 56 26.8125 56  Q 31.78125 56 36.171875 55.265625  Q 40.578125 54.546875 44.28125 53.078125  z \" id=\"DejaVuSans-73\"/>\n",
       "     </defs>\n",
       "     <g transform=\"translate(275.270739 51.158437)scale(0.1 -0.1)\">\n",
       "      <use xlink:href=\"#DejaVuSans-54\"/>\n",
       "      <use x=\"60.865234\" xlink:href=\"#DejaVuSans-72\"/>\n",
       "      <use x=\"101.978516\" xlink:href=\"#DejaVuSans-61\"/>\n",
       "      <use x=\"163.257812\" xlink:href=\"#DejaVuSans-69\"/>\n",
       "      <use x=\"191.041016\" xlink:href=\"#DejaVuSans-6e\"/>\n",
       "      <use x=\"254.419922\" xlink:href=\"#DejaVuSans-69\"/>\n",
       "      <use x=\"282.203125\" xlink:href=\"#DejaVuSans-6e\"/>\n",
       "      <use x=\"345.582031\" xlink:href=\"#DejaVuSans-67\"/>\n",
       "      <use x=\"409.058594\" xlink:href=\"#DejaVuSans-20\"/>\n",
       "      <use x=\"440.845703\" xlink:href=\"#DejaVuSans-73\"/>\n",
       "      <use x=\"492.945312\" xlink:href=\"#DejaVuSans-65\"/>\n",
       "      <use x=\"554.46875\" xlink:href=\"#DejaVuSans-74\"/>\n",
       "     </g>\n",
       "    </g>\n",
       "   </g>\n",
       "  </g>\n",
       "  <g id=\"axes_2\">\n",
       "   <g id=\"patch_8\">\n",
       "    <path d=\"M 394.363636 252  L 648 252  L 648 34.56  L 394.363636 34.56  z \" style=\"fill:#ffffff;\"/>\n",
       "   </g>\n",
       "   <g id=\"matplotlib.axis_3\">\n",
       "    <g id=\"xtick_6\">\n",
       "     <g id=\"line2d_14\">\n",
       "      <g>\n",
       "       <use style=\"stroke:#000000;stroke-width:0.8;\" x=\"405.892562\" xlink:href=\"#m00db89b7be\" y=\"252\"/>\n",
       "      </g>\n",
       "     </g>\n",
       "     <g id=\"text_14\">\n",
       "      <!-- 0 -->\n",
       "      <g transform=\"translate(402.711312 266.598437)scale(0.1 -0.1)\">\n",
       "       <use xlink:href=\"#DejaVuSans-30\"/>\n",
       "      </g>\n",
       "     </g>\n",
       "    </g>\n",
       "    <g id=\"xtick_7\">\n",
       "     <g id=\"line2d_15\">\n",
       "      <g>\n",
       "       <use style=\"stroke:#000000;stroke-width:0.8;\" x=\"463.53719\" xlink:href=\"#m00db89b7be\" y=\"252\"/>\n",
       "      </g>\n",
       "     </g>\n",
       "     <g id=\"text_15\">\n",
       "      <!-- 500 -->\n",
       "      <g transform=\"translate(453.99344 266.598437)scale(0.1 -0.1)\">\n",
       "       <use xlink:href=\"#DejaVuSans-35\"/>\n",
       "       <use x=\"63.623047\" xlink:href=\"#DejaVuSans-30\"/>\n",
       "       <use x=\"127.246094\" xlink:href=\"#DejaVuSans-30\"/>\n",
       "      </g>\n",
       "     </g>\n",
       "    </g>\n",
       "    <g id=\"xtick_8\">\n",
       "     <g id=\"line2d_16\">\n",
       "      <g>\n",
       "       <use style=\"stroke:#000000;stroke-width:0.8;\" x=\"521.181818\" xlink:href=\"#m00db89b7be\" y=\"252\"/>\n",
       "      </g>\n",
       "     </g>\n",
       "     <g id=\"text_16\">\n",
       "      <!-- 1000 -->\n",
       "      <g transform=\"translate(508.456818 266.598437)scale(0.1 -0.1)\">\n",
       "       <use xlink:href=\"#DejaVuSans-31\"/>\n",
       "       <use x=\"63.623047\" xlink:href=\"#DejaVuSans-30\"/>\n",
       "       <use x=\"127.246094\" xlink:href=\"#DejaVuSans-30\"/>\n",
       "       <use x=\"190.869141\" xlink:href=\"#DejaVuSans-30\"/>\n",
       "      </g>\n",
       "     </g>\n",
       "    </g>\n",
       "    <g id=\"xtick_9\">\n",
       "     <g id=\"line2d_17\">\n",
       "      <g>\n",
       "       <use style=\"stroke:#000000;stroke-width:0.8;\" x=\"578.826446\" xlink:href=\"#m00db89b7be\" y=\"252\"/>\n",
       "      </g>\n",
       "     </g>\n",
       "     <g id=\"text_17\">\n",
       "      <!-- 1500 -->\n",
       "      <g transform=\"translate(566.101446 266.598437)scale(0.1 -0.1)\">\n",
       "       <use xlink:href=\"#DejaVuSans-31\"/>\n",
       "       <use x=\"63.623047\" xlink:href=\"#DejaVuSans-35\"/>\n",
       "       <use x=\"127.246094\" xlink:href=\"#DejaVuSans-30\"/>\n",
       "       <use x=\"190.869141\" xlink:href=\"#DejaVuSans-30\"/>\n",
       "      </g>\n",
       "     </g>\n",
       "    </g>\n",
       "    <g id=\"xtick_10\">\n",
       "     <g id=\"line2d_18\">\n",
       "      <g>\n",
       "       <use style=\"stroke:#000000;stroke-width:0.8;\" x=\"636.471074\" xlink:href=\"#m00db89b7be\" y=\"252\"/>\n",
       "      </g>\n",
       "     </g>\n",
       "     <g id=\"text_18\">\n",
       "      <!-- 2000 -->\n",
       "      <g transform=\"translate(623.746074 266.598437)scale(0.1 -0.1)\">\n",
       "       <use xlink:href=\"#DejaVuSans-32\"/>\n",
       "       <use x=\"63.623047\" xlink:href=\"#DejaVuSans-30\"/>\n",
       "       <use x=\"127.246094\" xlink:href=\"#DejaVuSans-30\"/>\n",
       "       <use x=\"190.869141\" xlink:href=\"#DejaVuSans-30\"/>\n",
       "      </g>\n",
       "     </g>\n",
       "    </g>\n",
       "    <g id=\"text_19\">\n",
       "     <!-- Epoch -->\n",
       "     <g transform=\"translate(505.870881 280.276563)scale(0.1 -0.1)\">\n",
       "      <use xlink:href=\"#DejaVuSans-45\"/>\n",
       "      <use x=\"63.183594\" xlink:href=\"#DejaVuSans-70\"/>\n",
       "      <use x=\"126.660156\" xlink:href=\"#DejaVuSans-6f\"/>\n",
       "      <use x=\"187.841797\" xlink:href=\"#DejaVuSans-63\"/>\n",
       "      <use x=\"242.822266\" xlink:href=\"#DejaVuSans-68\"/>\n",
       "     </g>\n",
       "    </g>\n",
       "   </g>\n",
       "   <g id=\"matplotlib.axis_4\">\n",
       "    <g id=\"ytick_6\">\n",
       "     <g id=\"line2d_19\">\n",
       "      <g>\n",
       "       <use style=\"stroke:#000000;stroke-width:0.8;\" x=\"394.363636\" xlink:href=\"#m030ef03842\" y=\"233.88\"/>\n",
       "      </g>\n",
       "     </g>\n",
       "     <g id=\"text_20\">\n",
       "      <!-- 0.0 -->\n",
       "      <g transform=\"translate(371.460511 237.679219)scale(0.1 -0.1)\">\n",
       "       <use xlink:href=\"#DejaVuSans-30\"/>\n",
       "       <use x=\"63.623047\" xlink:href=\"#DejaVuSans-2e\"/>\n",
       "       <use x=\"95.410156\" xlink:href=\"#DejaVuSans-30\"/>\n",
       "      </g>\n",
       "     </g>\n",
       "    </g>\n",
       "    <g id=\"ytick_7\">\n",
       "     <g id=\"line2d_20\">\n",
       "      <g>\n",
       "       <use style=\"stroke:#000000;stroke-width:0.8;\" x=\"394.363636\" xlink:href=\"#m030ef03842\" y=\"197.64\"/>\n",
       "      </g>\n",
       "     </g>\n",
       "     <g id=\"text_21\">\n",
       "      <!-- 0.2 -->\n",
       "      <g transform=\"translate(371.460511 201.439219)scale(0.1 -0.1)\">\n",
       "       <use xlink:href=\"#DejaVuSans-30\"/>\n",
       "       <use x=\"63.623047\" xlink:href=\"#DejaVuSans-2e\"/>\n",
       "       <use x=\"95.410156\" xlink:href=\"#DejaVuSans-32\"/>\n",
       "      </g>\n",
       "     </g>\n",
       "    </g>\n",
       "    <g id=\"ytick_8\">\n",
       "     <g id=\"line2d_21\">\n",
       "      <g>\n",
       "       <use style=\"stroke:#000000;stroke-width:0.8;\" x=\"394.363636\" xlink:href=\"#m030ef03842\" y=\"161.4\"/>\n",
       "      </g>\n",
       "     </g>\n",
       "     <g id=\"text_22\">\n",
       "      <!-- 0.4 -->\n",
       "      <defs>\n",
       "       <path d=\"M 37.796875 64.3125  L 12.890625 25.390625  L 37.796875 25.390625  z M 35.203125 72.90625  L 47.609375 72.90625  L 47.609375 25.390625  L 58.015625 25.390625  L 58.015625 17.1875  L 47.609375 17.1875  L 47.609375 0  L 37.796875 0  L 37.796875 17.1875  L 4.890625 17.1875  L 4.890625 26.703125  z \" id=\"DejaVuSans-34\"/>\n",
       "      </defs>\n",
       "      <g transform=\"translate(371.460511 165.199219)scale(0.1 -0.1)\">\n",
       "       <use xlink:href=\"#DejaVuSans-30\"/>\n",
       "       <use x=\"63.623047\" xlink:href=\"#DejaVuSans-2e\"/>\n",
       "       <use x=\"95.410156\" xlink:href=\"#DejaVuSans-34\"/>\n",
       "      </g>\n",
       "     </g>\n",
       "    </g>\n",
       "    <g id=\"ytick_9\">\n",
       "     <g id=\"line2d_22\">\n",
       "      <g>\n",
       "       <use style=\"stroke:#000000;stroke-width:0.8;\" x=\"394.363636\" xlink:href=\"#m030ef03842\" y=\"125.16\"/>\n",
       "      </g>\n",
       "     </g>\n",
       "     <g id=\"text_23\">\n",
       "      <!-- 0.6 -->\n",
       "      <defs>\n",
       "       <path d=\"M 33.015625 40.375  Q 26.375 40.375 22.484375 35.828125  Q 18.609375 31.296875 18.609375 23.390625  Q 18.609375 15.53125 22.484375 10.953125  Q 26.375 6.390625 33.015625 6.390625  Q 39.65625 6.390625 43.53125 10.953125  Q 47.40625 15.53125 47.40625 23.390625  Q 47.40625 31.296875 43.53125 35.828125  Q 39.65625 40.375 33.015625 40.375  z M 52.59375 71.296875  L 52.59375 62.3125  Q 48.875 64.0625 45.09375 64.984375  Q 41.3125 65.921875 37.59375 65.921875  Q 27.828125 65.921875 22.671875 59.328125  Q 17.53125 52.734375 16.796875 39.40625  Q 19.671875 43.65625 24.015625 45.921875  Q 28.375 48.1875 33.59375 48.1875  Q 44.578125 48.1875 50.953125 41.515625  Q 57.328125 34.859375 57.328125 23.390625  Q 57.328125 12.15625 50.6875 5.359375  Q 44.046875 -1.421875 33.015625 -1.421875  Q 20.359375 -1.421875 13.671875 8.265625  Q 6.984375 17.96875 6.984375 36.375  Q 6.984375 53.65625 15.1875 63.9375  Q 23.390625 74.21875 37.203125 74.21875  Q 40.921875 74.21875 44.703125 73.484375  Q 48.484375 72.75 52.59375 71.296875  z \" id=\"DejaVuSans-36\"/>\n",
       "      </defs>\n",
       "      <g transform=\"translate(371.460511 128.959219)scale(0.1 -0.1)\">\n",
       "       <use xlink:href=\"#DejaVuSans-30\"/>\n",
       "       <use x=\"63.623047\" xlink:href=\"#DejaVuSans-2e\"/>\n",
       "       <use x=\"95.410156\" xlink:href=\"#DejaVuSans-36\"/>\n",
       "      </g>\n",
       "     </g>\n",
       "    </g>\n",
       "    <g id=\"ytick_10\">\n",
       "     <g id=\"line2d_23\">\n",
       "      <g>\n",
       "       <use style=\"stroke:#000000;stroke-width:0.8;\" x=\"394.363636\" xlink:href=\"#m030ef03842\" y=\"88.92\"/>\n",
       "      </g>\n",
       "     </g>\n",
       "     <g id=\"text_24\">\n",
       "      <!-- 0.8 -->\n",
       "      <defs>\n",
       "       <path d=\"M 31.78125 34.625  Q 24.75 34.625 20.71875 30.859375  Q 16.703125 27.09375 16.703125 20.515625  Q 16.703125 13.921875 20.71875 10.15625  Q 24.75 6.390625 31.78125 6.390625  Q 38.8125 6.390625 42.859375 10.171875  Q 46.921875 13.96875 46.921875 20.515625  Q 46.921875 27.09375 42.890625 30.859375  Q 38.875 34.625 31.78125 34.625  z M 21.921875 38.8125  Q 15.578125 40.375 12.03125 44.71875  Q 8.5 49.078125 8.5 55.328125  Q 8.5 64.0625 14.71875 69.140625  Q 20.953125 74.21875 31.78125 74.21875  Q 42.671875 74.21875 48.875 69.140625  Q 55.078125 64.0625 55.078125 55.328125  Q 55.078125 49.078125 51.53125 44.71875  Q 48 40.375 41.703125 38.8125  Q 48.828125 37.15625 52.796875 32.3125  Q 56.78125 27.484375 56.78125 20.515625  Q 56.78125 9.90625 50.3125 4.234375  Q 43.84375 -1.421875 31.78125 -1.421875  Q 19.734375 -1.421875 13.25 4.234375  Q 6.78125 9.90625 6.78125 20.515625  Q 6.78125 27.484375 10.78125 32.3125  Q 14.796875 37.15625 21.921875 38.8125  z M 18.3125 54.390625  Q 18.3125 48.734375 21.84375 45.5625  Q 25.390625 42.390625 31.78125 42.390625  Q 38.140625 42.390625 41.71875 45.5625  Q 45.3125 48.734375 45.3125 54.390625  Q 45.3125 60.0625 41.71875 63.234375  Q 38.140625 66.40625 31.78125 66.40625  Q 25.390625 66.40625 21.84375 63.234375  Q 18.3125 60.0625 18.3125 54.390625  z \" id=\"DejaVuSans-38\"/>\n",
       "      </defs>\n",
       "      <g transform=\"translate(371.460511 92.719219)scale(0.1 -0.1)\">\n",
       "       <use xlink:href=\"#DejaVuSans-30\"/>\n",
       "       <use x=\"63.623047\" xlink:href=\"#DejaVuSans-2e\"/>\n",
       "       <use x=\"95.410156\" xlink:href=\"#DejaVuSans-38\"/>\n",
       "      </g>\n",
       "     </g>\n",
       "    </g>\n",
       "    <g id=\"ytick_11\">\n",
       "     <g id=\"line2d_24\">\n",
       "      <g>\n",
       "       <use style=\"stroke:#000000;stroke-width:0.8;\" x=\"394.363636\" xlink:href=\"#m030ef03842\" y=\"52.68\"/>\n",
       "      </g>\n",
       "     </g>\n",
       "     <g id=\"text_25\">\n",
       "      <!-- 1.0 -->\n",
       "      <g transform=\"translate(371.460511 56.479219)scale(0.1 -0.1)\">\n",
       "       <use xlink:href=\"#DejaVuSans-31\"/>\n",
       "       <use x=\"63.623047\" xlink:href=\"#DejaVuSans-2e\"/>\n",
       "       <use x=\"95.410156\" xlink:href=\"#DejaVuSans-30\"/>\n",
       "      </g>\n",
       "     </g>\n",
       "    </g>\n",
       "   </g>\n",
       "   <g id=\"line2d_25\">\n",
       "    <path clip-path=\"url(#p01f8be5773)\" d=\"M 405.892562 233.88  L 577.904132 233.88  L 578.019421 188.58  L 582.054545 188.58  L 582.169835 143.28  L 636.471074 143.28  L 636.471074 143.28  \" style=\"fill:none;stroke:#1f77b4;stroke-linecap:square;stroke-width:1.5;\"/>\n",
       "   </g>\n",
       "   <g id=\"patch_9\">\n",
       "    <path d=\"M 394.363636 252  L 394.363636 34.56  \" style=\"fill:none;stroke:#000000;stroke-linecap:square;stroke-linejoin:miter;stroke-width:0.8;\"/>\n",
       "   </g>\n",
       "   <g id=\"patch_10\">\n",
       "    <path d=\"M 648 252  L 648 34.56  \" style=\"fill:none;stroke:#000000;stroke-linecap:square;stroke-linejoin:miter;stroke-width:0.8;\"/>\n",
       "   </g>\n",
       "   <g id=\"patch_11\">\n",
       "    <path d=\"M 394.363636 252  L 648 252  \" style=\"fill:none;stroke:#000000;stroke-linecap:square;stroke-linejoin:miter;stroke-width:0.8;\"/>\n",
       "   </g>\n",
       "   <g id=\"patch_12\">\n",
       "    <path d=\"M 394.363636 34.56  L 648 34.56  \" style=\"fill:none;stroke:#000000;stroke-linecap:square;stroke-linejoin:miter;stroke-width:0.8;\"/>\n",
       "   </g>\n",
       "   <g id=\"text_26\">\n",
       "    <!-- XOR Network: Accuracy -->\n",
       "    <defs>\n",
       "     <path d=\"M 34.1875 63.1875  L 20.796875 26.90625  L 47.609375 26.90625  z M 28.609375 72.90625  L 39.796875 72.90625  L 67.578125 0  L 57.328125 0  L 50.6875 18.703125  L 17.828125 18.703125  L 11.1875 0  L 0.78125 0  z \" id=\"DejaVuSans-41\"/>\n",
       "     <path d=\"M 8.5 21.578125  L 8.5 54.6875  L 17.484375 54.6875  L 17.484375 21.921875  Q 17.484375 14.15625 20.5 10.265625  Q 23.53125 6.390625 29.59375 6.390625  Q 36.859375 6.390625 41.078125 11.03125  Q 45.3125 15.671875 45.3125 23.6875  L 45.3125 54.6875  L 54.296875 54.6875  L 54.296875 0  L 45.3125 0  L 45.3125 8.40625  Q 42.046875 3.421875 37.71875 1  Q 33.40625 -1.421875 27.6875 -1.421875  Q 18.265625 -1.421875 13.375 4.4375  Q 8.5 10.296875 8.5 21.578125  z M 31.109375 56  z \" id=\"DejaVuSans-75\"/>\n",
       "     <path d=\"M 32.171875 -5.078125  Q 28.375 -14.84375 24.75 -17.8125  Q 21.140625 -20.796875 15.09375 -20.796875  L 7.90625 -20.796875  L 7.90625 -13.28125  L 13.1875 -13.28125  Q 16.890625 -13.28125 18.9375 -11.515625  Q 21 -9.765625 23.484375 -3.21875  L 25.09375 0.875  L 2.984375 54.6875  L 12.5 54.6875  L 29.59375 11.921875  L 46.6875 54.6875  L 56.203125 54.6875  z \" id=\"DejaVuSans-79\"/>\n",
       "    </defs>\n",
       "    <g transform=\"translate(449.800568 28.56)scale(0.12 -0.12)\">\n",
       "     <use xlink:href=\"#DejaVuSans-58\"/>\n",
       "     <use x=\"68.412109\" xlink:href=\"#DejaVuSans-4f\"/>\n",
       "     <use x=\"147.123047\" xlink:href=\"#DejaVuSans-52\"/>\n",
       "     <use x=\"216.605469\" xlink:href=\"#DejaVuSans-20\"/>\n",
       "     <use x=\"248.392578\" xlink:href=\"#DejaVuSans-4e\"/>\n",
       "     <use x=\"323.197266\" xlink:href=\"#DejaVuSans-65\"/>\n",
       "     <use x=\"384.720703\" xlink:href=\"#DejaVuSans-74\"/>\n",
       "     <use x=\"423.929688\" xlink:href=\"#DejaVuSans-77\"/>\n",
       "     <use x=\"505.716797\" xlink:href=\"#DejaVuSans-6f\"/>\n",
       "     <use x=\"566.898438\" xlink:href=\"#DejaVuSans-72\"/>\n",
       "     <use x=\"608.011719\" xlink:href=\"#DejaVuSans-6b\"/>\n",
       "     <use x=\"665.921875\" xlink:href=\"#DejaVuSans-3a\"/>\n",
       "     <use x=\"699.613281\" xlink:href=\"#DejaVuSans-20\"/>\n",
       "     <use x=\"731.400391\" xlink:href=\"#DejaVuSans-41\"/>\n",
       "     <use x=\"799.792969\" xlink:href=\"#DejaVuSans-63\"/>\n",
       "     <use x=\"854.773438\" xlink:href=\"#DejaVuSans-63\"/>\n",
       "     <use x=\"909.753906\" xlink:href=\"#DejaVuSans-75\"/>\n",
       "     <use x=\"973.132812\" xlink:href=\"#DejaVuSans-72\"/>\n",
       "     <use x=\"1014.246094\" xlink:href=\"#DejaVuSans-61\"/>\n",
       "     <use x=\"1075.525391\" xlink:href=\"#DejaVuSans-63\"/>\n",
       "     <use x=\"1130.505859\" xlink:href=\"#DejaVuSans-79\"/>\n",
       "    </g>\n",
       "   </g>\n",
       "   <g id=\"legend_2\">\n",
       "    <g id=\"patch_13\">\n",
       "     <path d=\"M 549.634375 57.238125  L 641 57.238125  Q 643 57.238125 643 55.238125  L 643 41.56  Q 643 39.56 641 39.56  L 549.634375 39.56  Q 547.634375 39.56 547.634375 41.56  L 547.634375 55.238125  Q 547.634375 57.238125 549.634375 57.238125  z \" style=\"fill:#ffffff;opacity:0.8;stroke:#cccccc;stroke-linejoin:miter;\"/>\n",
       "    </g>\n",
       "    <g id=\"line2d_26\">\n",
       "     <path d=\"M 551.634375 47.658437  L 571.634375 47.658437  \" style=\"fill:none;stroke:#1f77b4;stroke-linecap:square;stroke-width:1.5;\"/>\n",
       "    </g>\n",
       "    <g id=\"line2d_27\"/>\n",
       "    <g id=\"text_27\">\n",
       "     <!-- Training set -->\n",
       "     <g transform=\"translate(579.634375 51.158437)scale(0.1 -0.1)\">\n",
       "      <use xlink:href=\"#DejaVuSans-54\"/>\n",
       "      <use x=\"60.865234\" xlink:href=\"#DejaVuSans-72\"/>\n",
       "      <use x=\"101.978516\" xlink:href=\"#DejaVuSans-61\"/>\n",
       "      <use x=\"163.257812\" xlink:href=\"#DejaVuSans-69\"/>\n",
       "      <use x=\"191.041016\" xlink:href=\"#DejaVuSans-6e\"/>\n",
       "      <use x=\"254.419922\" xlink:href=\"#DejaVuSans-69\"/>\n",
       "      <use x=\"282.203125\" xlink:href=\"#DejaVuSans-6e\"/>\n",
       "      <use x=\"345.582031\" xlink:href=\"#DejaVuSans-67\"/>\n",
       "      <use x=\"409.058594\" xlink:href=\"#DejaVuSans-20\"/>\n",
       "      <use x=\"440.845703\" xlink:href=\"#DejaVuSans-73\"/>\n",
       "      <use x=\"492.945312\" xlink:href=\"#DejaVuSans-65\"/>\n",
       "      <use x=\"554.46875\" xlink:href=\"#DejaVuSans-74\"/>\n",
       "     </g>\n",
       "    </g>\n",
       "   </g>\n",
       "  </g>\n",
       " </g>\n",
       " <defs>\n",
       "  <clipPath id=\"p19331da4af\">\n",
       "   <rect height=\"217.44\" width=\"253.636364\" x=\"90\" y=\"34.56\"/>\n",
       "  </clipPath>\n",
       "  <clipPath id=\"p01f8be5773\">\n",
       "   <rect height=\"217.44\" width=\"253.636364\" x=\"394.363636\" y=\"34.56\"/>\n",
       "  </clipPath>\n",
       " </defs>\n",
       "</svg>"
      ],
      "text/plain": [
       "<IPython.core.display.SVG object>"
      ]
     },
     "metadata": {},
     "output_type": "display_data"
    },
    {
     "name": "stdout",
     "output_type": "stream",
     "text": [
      "========================================================================\n",
      "       |  Training |  Training \n",
      "Epochs |     Error |  Accuracy \n",
      "------ | --------- | --------- \n",
      "# 2000 |   0.01122 |   0.50000 \n"
     ]
    }
   ],
   "source": [
    "net.train(epochs=2000, accuracy=1.0, report_rate=100, plot=True)"
   ]
  },
  {
   "cell_type": "markdown",
   "metadata": {},
   "source": [
    "Perhaps the network learned none, some, or all of the patterns. You can reset the network, and try again (retrain). Or continue with the following steps."
   ]
  },
  {
   "cell_type": "code",
   "execution_count": 15,
   "metadata": {},
   "outputs": [
    {
     "data": {
      "image/svg+xml": [
       "<svg height=\"288pt\" version=\"1.1\" viewBox=\"0 0 720 288\" width=\"720pt\" xmlns=\"http://www.w3.org/2000/svg\" xmlns:xlink=\"http://www.w3.org/1999/xlink\">\n",
       " <defs>\n",
       "  <style type=\"text/css\">\n",
       "*{stroke-linecap:butt;stroke-linejoin:round;}\n",
       "  </style>\n",
       " </defs>\n",
       " <g id=\"figure_1\">\n",
       "  <g id=\"patch_1\">\n",
       "   <path d=\"M 0 288  L 720 288  L 720 0  L 0 0  z \" style=\"fill:#ffffff;\"/>\n",
       "  </g>\n",
       "  <g id=\"axes_1\">\n",
       "   <g id=\"patch_2\">\n",
       "    <path d=\"M 90 252  L 343.636364 252  L 343.636364 34.56  L 90 34.56  z \" style=\"fill:#ffffff;\"/>\n",
       "   </g>\n",
       "   <g id=\"matplotlib.axis_1\">\n",
       "    <g id=\"xtick_1\">\n",
       "     <g id=\"line2d_1\">\n",
       "      <defs>\n",
       "       <path d=\"M 0 0  L 0 3.5  \" id=\"mc19b5e4ceb\" style=\"stroke:#000000;stroke-width:0.8;\"/>\n",
       "      </defs>\n",
       "      <g>\n",
       "       <use style=\"stroke:#000000;stroke-width:0.8;\" x=\"101.528926\" xlink:href=\"#mc19b5e4ceb\" y=\"252\"/>\n",
       "      </g>\n",
       "     </g>\n",
       "     <g id=\"text_1\">\n",
       "      <!-- 0 -->\n",
       "      <defs>\n",
       "       <path d=\"M 31.78125 66.40625  Q 24.171875 66.40625 20.328125 58.90625  Q 16.5 51.421875 16.5 36.375  Q 16.5 21.390625 20.328125 13.890625  Q 24.171875 6.390625 31.78125 6.390625  Q 39.453125 6.390625 43.28125 13.890625  Q 47.125 21.390625 47.125 36.375  Q 47.125 51.421875 43.28125 58.90625  Q 39.453125 66.40625 31.78125 66.40625  z M 31.78125 74.21875  Q 44.046875 74.21875 50.515625 64.515625  Q 56.984375 54.828125 56.984375 36.375  Q 56.984375 17.96875 50.515625 8.265625  Q 44.046875 -1.421875 31.78125 -1.421875  Q 19.53125 -1.421875 13.0625 8.265625  Q 6.59375 17.96875 6.59375 36.375  Q 6.59375 54.828125 13.0625 64.515625  Q 19.53125 74.21875 31.78125 74.21875  z \" id=\"DejaVuSans-30\"/>\n",
       "      </defs>\n",
       "      <g transform=\"translate(98.347676 266.598437)scale(0.1 -0.1)\">\n",
       "       <use xlink:href=\"#DejaVuSans-30\"/>\n",
       "      </g>\n",
       "     </g>\n",
       "    </g>\n",
       "    <g id=\"xtick_2\">\n",
       "     <g id=\"line2d_2\">\n",
       "      <g>\n",
       "       <use style=\"stroke:#000000;stroke-width:0.8;\" x=\"142.281579\" xlink:href=\"#mc19b5e4ceb\" y=\"252\"/>\n",
       "      </g>\n",
       "     </g>\n",
       "     <g id=\"text_2\">\n",
       "      <!-- 500 -->\n",
       "      <defs>\n",
       "       <path d=\"M 10.796875 72.90625  L 49.515625 72.90625  L 49.515625 64.59375  L 19.828125 64.59375  L 19.828125 46.734375  Q 21.96875 47.46875 24.109375 47.828125  Q 26.265625 48.1875 28.421875 48.1875  Q 40.625 48.1875 47.75 41.5  Q 54.890625 34.8125 54.890625 23.390625  Q 54.890625 11.625 47.5625 5.09375  Q 40.234375 -1.421875 26.90625 -1.421875  Q 22.3125 -1.421875 17.546875 -0.640625  Q 12.796875 0.140625 7.71875 1.703125  L 7.71875 11.625  Q 12.109375 9.234375 16.796875 8.0625  Q 21.484375 6.890625 26.703125 6.890625  Q 35.15625 6.890625 40.078125 11.328125  Q 45.015625 15.765625 45.015625 23.390625  Q 45.015625 31 40.078125 35.4375  Q 35.15625 39.890625 26.703125 39.890625  Q 22.75 39.890625 18.8125 39.015625  Q 14.890625 38.140625 10.796875 36.28125  z \" id=\"DejaVuSans-35\"/>\n",
       "      </defs>\n",
       "      <g transform=\"translate(132.737829 266.598437)scale(0.1 -0.1)\">\n",
       "       <use xlink:href=\"#DejaVuSans-35\"/>\n",
       "       <use x=\"63.623047\" xlink:href=\"#DejaVuSans-30\"/>\n",
       "       <use x=\"127.246094\" xlink:href=\"#DejaVuSans-30\"/>\n",
       "      </g>\n",
       "     </g>\n",
       "    </g>\n",
       "    <g id=\"xtick_3\">\n",
       "     <g id=\"line2d_3\">\n",
       "      <g>\n",
       "       <use style=\"stroke:#000000;stroke-width:0.8;\" x=\"183.034232\" xlink:href=\"#mc19b5e4ceb\" y=\"252\"/>\n",
       "      </g>\n",
       "     </g>\n",
       "     <g id=\"text_3\">\n",
       "      <!-- 1000 -->\n",
       "      <defs>\n",
       "       <path d=\"M 12.40625 8.296875  L 28.515625 8.296875  L 28.515625 63.921875  L 10.984375 60.40625  L 10.984375 69.390625  L 28.421875 72.90625  L 38.28125 72.90625  L 38.28125 8.296875  L 54.390625 8.296875  L 54.390625 0  L 12.40625 0  z \" id=\"DejaVuSans-31\"/>\n",
       "      </defs>\n",
       "      <g transform=\"translate(170.309232 266.598437)scale(0.1 -0.1)\">\n",
       "       <use xlink:href=\"#DejaVuSans-31\"/>\n",
       "       <use x=\"63.623047\" xlink:href=\"#DejaVuSans-30\"/>\n",
       "       <use x=\"127.246094\" xlink:href=\"#DejaVuSans-30\"/>\n",
       "       <use x=\"190.869141\" xlink:href=\"#DejaVuSans-30\"/>\n",
       "      </g>\n",
       "     </g>\n",
       "    </g>\n",
       "    <g id=\"xtick_4\">\n",
       "     <g id=\"line2d_4\">\n",
       "      <g>\n",
       "       <use style=\"stroke:#000000;stroke-width:0.8;\" x=\"223.786886\" xlink:href=\"#mc19b5e4ceb\" y=\"252\"/>\n",
       "      </g>\n",
       "     </g>\n",
       "     <g id=\"text_4\">\n",
       "      <!-- 1500 -->\n",
       "      <g transform=\"translate(211.061886 266.598437)scale(0.1 -0.1)\">\n",
       "       <use xlink:href=\"#DejaVuSans-31\"/>\n",
       "       <use x=\"63.623047\" xlink:href=\"#DejaVuSans-35\"/>\n",
       "       <use x=\"127.246094\" xlink:href=\"#DejaVuSans-30\"/>\n",
       "       <use x=\"190.869141\" xlink:href=\"#DejaVuSans-30\"/>\n",
       "      </g>\n",
       "     </g>\n",
       "    </g>\n",
       "    <g id=\"xtick_5\">\n",
       "     <g id=\"line2d_5\">\n",
       "      <g>\n",
       "       <use style=\"stroke:#000000;stroke-width:0.8;\" x=\"264.539539\" xlink:href=\"#mc19b5e4ceb\" y=\"252\"/>\n",
       "      </g>\n",
       "     </g>\n",
       "     <g id=\"text_5\">\n",
       "      <!-- 2000 -->\n",
       "      <defs>\n",
       "       <path d=\"M 19.1875 8.296875  L 53.609375 8.296875  L 53.609375 0  L 7.328125 0  L 7.328125 8.296875  Q 12.9375 14.109375 22.625 23.890625  Q 32.328125 33.6875 34.8125 36.53125  Q 39.546875 41.84375 41.421875 45.53125  Q 43.3125 49.21875 43.3125 52.78125  Q 43.3125 58.59375 39.234375 62.25  Q 35.15625 65.921875 28.609375 65.921875  Q 23.96875 65.921875 18.8125 64.3125  Q 13.671875 62.703125 7.8125 59.421875  L 7.8125 69.390625  Q 13.765625 71.78125 18.9375 73  Q 24.125 74.21875 28.421875 74.21875  Q 39.75 74.21875 46.484375 68.546875  Q 53.21875 62.890625 53.21875 53.421875  Q 53.21875 48.921875 51.53125 44.890625  Q 49.859375 40.875 45.40625 35.40625  Q 44.1875 33.984375 37.640625 27.21875  Q 31.109375 20.453125 19.1875 8.296875  z \" id=\"DejaVuSans-32\"/>\n",
       "      </defs>\n",
       "      <g transform=\"translate(251.814539 266.598437)scale(0.1 -0.1)\">\n",
       "       <use xlink:href=\"#DejaVuSans-32\"/>\n",
       "       <use x=\"63.623047\" xlink:href=\"#DejaVuSans-30\"/>\n",
       "       <use x=\"127.246094\" xlink:href=\"#DejaVuSans-30\"/>\n",
       "       <use x=\"190.869141\" xlink:href=\"#DejaVuSans-30\"/>\n",
       "      </g>\n",
       "     </g>\n",
       "    </g>\n",
       "    <g id=\"xtick_6\">\n",
       "     <g id=\"line2d_6\">\n",
       "      <g>\n",
       "       <use style=\"stroke:#000000;stroke-width:0.8;\" x=\"305.292192\" xlink:href=\"#mc19b5e4ceb\" y=\"252\"/>\n",
       "      </g>\n",
       "     </g>\n",
       "     <g id=\"text_6\">\n",
       "      <!-- 2500 -->\n",
       "      <g transform=\"translate(292.567192 266.598437)scale(0.1 -0.1)\">\n",
       "       <use xlink:href=\"#DejaVuSans-32\"/>\n",
       "       <use x=\"63.623047\" xlink:href=\"#DejaVuSans-35\"/>\n",
       "       <use x=\"127.246094\" xlink:href=\"#DejaVuSans-30\"/>\n",
       "       <use x=\"190.869141\" xlink:href=\"#DejaVuSans-30\"/>\n",
       "      </g>\n",
       "     </g>\n",
       "    </g>\n",
       "    <g id=\"text_7\">\n",
       "     <!-- Epoch -->\n",
       "     <defs>\n",
       "      <path d=\"M 9.8125 72.90625  L 55.90625 72.90625  L 55.90625 64.59375  L 19.671875 64.59375  L 19.671875 43.015625  L 54.390625 43.015625  L 54.390625 34.71875  L 19.671875 34.71875  L 19.671875 8.296875  L 56.78125 8.296875  L 56.78125 0  L 9.8125 0  z \" id=\"DejaVuSans-45\"/>\n",
       "      <path d=\"M 18.109375 8.203125  L 18.109375 -20.796875  L 9.078125 -20.796875  L 9.078125 54.6875  L 18.109375 54.6875  L 18.109375 46.390625  Q 20.953125 51.265625 25.265625 53.625  Q 29.59375 56 35.59375 56  Q 45.5625 56 51.78125 48.09375  Q 58.015625 40.1875 58.015625 27.296875  Q 58.015625 14.40625 51.78125 6.484375  Q 45.5625 -1.421875 35.59375 -1.421875  Q 29.59375 -1.421875 25.265625 0.953125  Q 20.953125 3.328125 18.109375 8.203125  z M 48.6875 27.296875  Q 48.6875 37.203125 44.609375 42.84375  Q 40.53125 48.484375 33.40625 48.484375  Q 26.265625 48.484375 22.1875 42.84375  Q 18.109375 37.203125 18.109375 27.296875  Q 18.109375 17.390625 22.1875 11.75  Q 26.265625 6.109375 33.40625 6.109375  Q 40.53125 6.109375 44.609375 11.75  Q 48.6875 17.390625 48.6875 27.296875  z \" id=\"DejaVuSans-70\"/>\n",
       "      <path d=\"M 30.609375 48.390625  Q 23.390625 48.390625 19.1875 42.75  Q 14.984375 37.109375 14.984375 27.296875  Q 14.984375 17.484375 19.15625 11.84375  Q 23.34375 6.203125 30.609375 6.203125  Q 37.796875 6.203125 41.984375 11.859375  Q 46.1875 17.53125 46.1875 27.296875  Q 46.1875 37.015625 41.984375 42.703125  Q 37.796875 48.390625 30.609375 48.390625  z M 30.609375 56  Q 42.328125 56 49.015625 48.375  Q 55.71875 40.765625 55.71875 27.296875  Q 55.71875 13.875 49.015625 6.21875  Q 42.328125 -1.421875 30.609375 -1.421875  Q 18.84375 -1.421875 12.171875 6.21875  Q 5.515625 13.875 5.515625 27.296875  Q 5.515625 40.765625 12.171875 48.375  Q 18.84375 56 30.609375 56  z \" id=\"DejaVuSans-6f\"/>\n",
       "      <path d=\"M 48.78125 52.59375  L 48.78125 44.1875  Q 44.96875 46.296875 41.140625 47.34375  Q 37.3125 48.390625 33.40625 48.390625  Q 24.65625 48.390625 19.8125 42.84375  Q 14.984375 37.3125 14.984375 27.296875  Q 14.984375 17.28125 19.8125 11.734375  Q 24.65625 6.203125 33.40625 6.203125  Q 37.3125 6.203125 41.140625 7.25  Q 44.96875 8.296875 48.78125 10.40625  L 48.78125 2.09375  Q 45.015625 0.34375 40.984375 -0.53125  Q 36.96875 -1.421875 32.421875 -1.421875  Q 20.0625 -1.421875 12.78125 6.34375  Q 5.515625 14.109375 5.515625 27.296875  Q 5.515625 40.671875 12.859375 48.328125  Q 20.21875 56 33.015625 56  Q 37.15625 56 41.109375 55.140625  Q 45.0625 54.296875 48.78125 52.59375  z \" id=\"DejaVuSans-63\"/>\n",
       "      <path d=\"M 54.890625 33.015625  L 54.890625 0  L 45.90625 0  L 45.90625 32.71875  Q 45.90625 40.484375 42.875 44.328125  Q 39.84375 48.1875 33.796875 48.1875  Q 26.515625 48.1875 22.3125 43.546875  Q 18.109375 38.921875 18.109375 30.90625  L 18.109375 0  L 9.078125 0  L 9.078125 75.984375  L 18.109375 75.984375  L 18.109375 46.1875  Q 21.34375 51.125 25.703125 53.5625  Q 30.078125 56 35.796875 56  Q 45.21875 56 50.046875 50.171875  Q 54.890625 44.34375 54.890625 33.015625  z \" id=\"DejaVuSans-68\"/>\n",
       "     </defs>\n",
       "     <g transform=\"translate(201.507244 280.276563)scale(0.1 -0.1)\">\n",
       "      <use xlink:href=\"#DejaVuSans-45\"/>\n",
       "      <use x=\"63.183594\" xlink:href=\"#DejaVuSans-70\"/>\n",
       "      <use x=\"126.660156\" xlink:href=\"#DejaVuSans-6f\"/>\n",
       "      <use x=\"187.841797\" xlink:href=\"#DejaVuSans-63\"/>\n",
       "      <use x=\"242.822266\" xlink:href=\"#DejaVuSans-68\"/>\n",
       "     </g>\n",
       "    </g>\n",
       "   </g>\n",
       "   <g id=\"matplotlib.axis_2\">\n",
       "    <g id=\"ytick_1\">\n",
       "     <g id=\"line2d_7\">\n",
       "      <defs>\n",
       "       <path d=\"M 0 0  L -3.5 0  \" id=\"mee0203f015\" style=\"stroke:#000000;stroke-width:0.8;\"/>\n",
       "      </defs>\n",
       "      <g>\n",
       "       <use style=\"stroke:#000000;stroke-width:0.8;\" x=\"90\" xlink:href=\"#mee0203f015\" y=\"252\"/>\n",
       "      </g>\n",
       "     </g>\n",
       "     <g id=\"text_8\">\n",
       "      <!-- 0.00 -->\n",
       "      <defs>\n",
       "       <path d=\"M 10.6875 12.40625  L 21 12.40625  L 21 0  L 10.6875 0  z \" id=\"DejaVuSans-2e\"/>\n",
       "      </defs>\n",
       "      <g transform=\"translate(60.734375 255.799219)scale(0.1 -0.1)\">\n",
       "       <use xlink:href=\"#DejaVuSans-30\"/>\n",
       "       <use x=\"63.623047\" xlink:href=\"#DejaVuSans-2e\"/>\n",
       "       <use x=\"95.410156\" xlink:href=\"#DejaVuSans-30\"/>\n",
       "       <use x=\"159.033203\" xlink:href=\"#DejaVuSans-30\"/>\n",
       "      </g>\n",
       "     </g>\n",
       "    </g>\n",
       "    <g id=\"ytick_2\">\n",
       "     <g id=\"line2d_8\">\n",
       "      <g>\n",
       "       <use style=\"stroke:#000000;stroke-width:0.8;\" x=\"90\" xlink:href=\"#mee0203f015\" y=\"216.724904\"/>\n",
       "      </g>\n",
       "     </g>\n",
       "     <g id=\"text_9\">\n",
       "      <!-- 0.05 -->\n",
       "      <g transform=\"translate(60.734375 220.524123)scale(0.1 -0.1)\">\n",
       "       <use xlink:href=\"#DejaVuSans-30\"/>\n",
       "       <use x=\"63.623047\" xlink:href=\"#DejaVuSans-2e\"/>\n",
       "       <use x=\"95.410156\" xlink:href=\"#DejaVuSans-30\"/>\n",
       "       <use x=\"159.033203\" xlink:href=\"#DejaVuSans-35\"/>\n",
       "      </g>\n",
       "     </g>\n",
       "    </g>\n",
       "    <g id=\"ytick_3\">\n",
       "     <g id=\"line2d_9\">\n",
       "      <g>\n",
       "       <use style=\"stroke:#000000;stroke-width:0.8;\" x=\"90\" xlink:href=\"#mee0203f015\" y=\"181.449809\"/>\n",
       "      </g>\n",
       "     </g>\n",
       "     <g id=\"text_10\">\n",
       "      <!-- 0.10 -->\n",
       "      <g transform=\"translate(60.734375 185.249027)scale(0.1 -0.1)\">\n",
       "       <use xlink:href=\"#DejaVuSans-30\"/>\n",
       "       <use x=\"63.623047\" xlink:href=\"#DejaVuSans-2e\"/>\n",
       "       <use x=\"95.410156\" xlink:href=\"#DejaVuSans-31\"/>\n",
       "       <use x=\"159.033203\" xlink:href=\"#DejaVuSans-30\"/>\n",
       "      </g>\n",
       "     </g>\n",
       "    </g>\n",
       "    <g id=\"ytick_4\">\n",
       "     <g id=\"line2d_10\">\n",
       "      <g>\n",
       "       <use style=\"stroke:#000000;stroke-width:0.8;\" x=\"90\" xlink:href=\"#mee0203f015\" y=\"146.174713\"/>\n",
       "      </g>\n",
       "     </g>\n",
       "     <g id=\"text_11\">\n",
       "      <!-- 0.15 -->\n",
       "      <g transform=\"translate(60.734375 149.973932)scale(0.1 -0.1)\">\n",
       "       <use xlink:href=\"#DejaVuSans-30\"/>\n",
       "       <use x=\"63.623047\" xlink:href=\"#DejaVuSans-2e\"/>\n",
       "       <use x=\"95.410156\" xlink:href=\"#DejaVuSans-31\"/>\n",
       "       <use x=\"159.033203\" xlink:href=\"#DejaVuSans-35\"/>\n",
       "      </g>\n",
       "     </g>\n",
       "    </g>\n",
       "    <g id=\"ytick_5\">\n",
       "     <g id=\"line2d_11\">\n",
       "      <g>\n",
       "       <use style=\"stroke:#000000;stroke-width:0.8;\" x=\"90\" xlink:href=\"#mee0203f015\" y=\"110.899617\"/>\n",
       "      </g>\n",
       "     </g>\n",
       "     <g id=\"text_12\">\n",
       "      <!-- 0.20 -->\n",
       "      <g transform=\"translate(60.734375 114.698836)scale(0.1 -0.1)\">\n",
       "       <use xlink:href=\"#DejaVuSans-30\"/>\n",
       "       <use x=\"63.623047\" xlink:href=\"#DejaVuSans-2e\"/>\n",
       "       <use x=\"95.410156\" xlink:href=\"#DejaVuSans-32\"/>\n",
       "       <use x=\"159.033203\" xlink:href=\"#DejaVuSans-30\"/>\n",
       "      </g>\n",
       "     </g>\n",
       "    </g>\n",
       "    <g id=\"ytick_6\">\n",
       "     <g id=\"line2d_12\">\n",
       "      <g>\n",
       "       <use style=\"stroke:#000000;stroke-width:0.8;\" x=\"90\" xlink:href=\"#mee0203f015\" y=\"75.624521\"/>\n",
       "      </g>\n",
       "     </g>\n",
       "     <g id=\"text_13\">\n",
       "      <!-- 0.25 -->\n",
       "      <g transform=\"translate(60.734375 79.42374)scale(0.1 -0.1)\">\n",
       "       <use xlink:href=\"#DejaVuSans-30\"/>\n",
       "       <use x=\"63.623047\" xlink:href=\"#DejaVuSans-2e\"/>\n",
       "       <use x=\"95.410156\" xlink:href=\"#DejaVuSans-32\"/>\n",
       "       <use x=\"159.033203\" xlink:href=\"#DejaVuSans-35\"/>\n",
       "      </g>\n",
       "     </g>\n",
       "    </g>\n",
       "    <g id=\"ytick_7\">\n",
       "     <g id=\"line2d_13\">\n",
       "      <g>\n",
       "       <use style=\"stroke:#000000;stroke-width:0.8;\" x=\"90\" xlink:href=\"#mee0203f015\" y=\"40.349426\"/>\n",
       "      </g>\n",
       "     </g>\n",
       "     <g id=\"text_14\">\n",
       "      <!-- 0.30 -->\n",
       "      <defs>\n",
       "       <path d=\"M 40.578125 39.3125  Q 47.65625 37.796875 51.625 33  Q 55.609375 28.21875 55.609375 21.1875  Q 55.609375 10.40625 48.1875 4.484375  Q 40.765625 -1.421875 27.09375 -1.421875  Q 22.515625 -1.421875 17.65625 -0.515625  Q 12.796875 0.390625 7.625 2.203125  L 7.625 11.71875  Q 11.71875 9.328125 16.59375 8.109375  Q 21.484375 6.890625 26.8125 6.890625  Q 36.078125 6.890625 40.9375 10.546875  Q 45.796875 14.203125 45.796875 21.1875  Q 45.796875 27.640625 41.28125 31.265625  Q 36.765625 34.90625 28.71875 34.90625  L 20.21875 34.90625  L 20.21875 43.015625  L 29.109375 43.015625  Q 36.375 43.015625 40.234375 45.921875  Q 44.09375 48.828125 44.09375 54.296875  Q 44.09375 59.90625 40.109375 62.90625  Q 36.140625 65.921875 28.71875 65.921875  Q 24.65625 65.921875 20.015625 65.03125  Q 15.375 64.15625 9.8125 62.3125  L 9.8125 71.09375  Q 15.4375 72.65625 20.34375 73.4375  Q 25.25 74.21875 29.59375 74.21875  Q 40.828125 74.21875 47.359375 69.109375  Q 53.90625 64.015625 53.90625 55.328125  Q 53.90625 49.265625 50.4375 45.09375  Q 46.96875 40.921875 40.578125 39.3125  z \" id=\"DejaVuSans-33\"/>\n",
       "      </defs>\n",
       "      <g transform=\"translate(60.734375 44.148644)scale(0.1 -0.1)\">\n",
       "       <use xlink:href=\"#DejaVuSans-30\"/>\n",
       "       <use x=\"63.623047\" xlink:href=\"#DejaVuSans-2e\"/>\n",
       "       <use x=\"95.410156\" xlink:href=\"#DejaVuSans-33\"/>\n",
       "       <use x=\"159.033203\" xlink:href=\"#DejaVuSans-30\"/>\n",
       "      </g>\n",
       "     </g>\n",
       "    </g>\n",
       "   </g>\n",
       "   <g id=\"line2d_14\">\n",
       "    <path clip-path=\"url(#pfd85cdb709)\" d=\"M 101.528926 44.737837  L 101.610431 44.737837  L 104.544622 53.420946  L 106.989781 59.974393  L 109.679456 66.534547  L 115.955365 80.958683  L 117.585471 84.448827  L 121.579231 93.304966  L 132.826963 118.818275  L 157.604577 165.999249  L 167.629729 182.900905  L 171.868005 189.300223  L 174.313164 192.710023  L 178.225419 197.836536  L 181.893158 202.255654  L 187.354013 208.141333  L 188.576593 209.344901  L 189.799173 210.530997  L 193.629922 213.999508  L 199.253788 218.510639  L 202.921527 221.120189  L 204.551633 222.210905  L 210.501521 225.796092  L 213.028185 227.163079  L 217.347966 229.297243  L 220.037641 230.518956  L 223.54237 231.989532  L 231.52989 234.888485  L 237.642788 236.760458  L 240.413968 237.514348  L 242.12558 237.963824  L 247.66794 239.29587  L 250.602131 239.931863  L 261.034811 241.888376  L 268.125772 242.988403  L 284.182318 244.955963  L 295.756071 246.039991  L 322.163791 247.80736  L 332.107438 248.294587  L 332.107438 248.294587  \" style=\"fill:none;stroke:#1f77b4;stroke-linecap:square;stroke-width:1.5;\"/>\n",
       "   </g>\n",
       "   <g id=\"patch_3\">\n",
       "    <path d=\"M 90 252  L 90 34.56  \" style=\"fill:none;stroke:#000000;stroke-linecap:square;stroke-linejoin:miter;stroke-width:0.8;\"/>\n",
       "   </g>\n",
       "   <g id=\"patch_4\">\n",
       "    <path d=\"M 343.636364 252  L 343.636364 34.56  \" style=\"fill:none;stroke:#000000;stroke-linecap:square;stroke-linejoin:miter;stroke-width:0.8;\"/>\n",
       "   </g>\n",
       "   <g id=\"patch_5\">\n",
       "    <path d=\"M 90 252  L 343.636364 252  \" style=\"fill:none;stroke:#000000;stroke-linecap:square;stroke-linejoin:miter;stroke-width:0.8;\"/>\n",
       "   </g>\n",
       "   <g id=\"patch_6\">\n",
       "    <path d=\"M 90 34.56  L 343.636364 34.56  \" style=\"fill:none;stroke:#000000;stroke-linecap:square;stroke-linejoin:miter;stroke-width:0.8;\"/>\n",
       "   </g>\n",
       "   <g id=\"text_15\">\n",
       "    <!-- XOR Network: Error -->\n",
       "    <defs>\n",
       "     <path d=\"M 6.296875 72.90625  L 16.890625 72.90625  L 35.015625 45.796875  L 53.21875 72.90625  L 63.8125 72.90625  L 40.375 37.890625  L 65.375 0  L 54.78125 0  L 34.28125 31  L 13.625 0  L 2.984375 0  L 29 38.921875  z \" id=\"DejaVuSans-58\"/>\n",
       "     <path d=\"M 39.40625 66.21875  Q 28.65625 66.21875 22.328125 58.203125  Q 16.015625 50.203125 16.015625 36.375  Q 16.015625 22.609375 22.328125 14.59375  Q 28.65625 6.59375 39.40625 6.59375  Q 50.140625 6.59375 56.421875 14.59375  Q 62.703125 22.609375 62.703125 36.375  Q 62.703125 50.203125 56.421875 58.203125  Q 50.140625 66.21875 39.40625 66.21875  z M 39.40625 74.21875  Q 54.734375 74.21875 63.90625 63.9375  Q 73.09375 53.65625 73.09375 36.375  Q 73.09375 19.140625 63.90625 8.859375  Q 54.734375 -1.421875 39.40625 -1.421875  Q 24.03125 -1.421875 14.8125 8.828125  Q 5.609375 19.09375 5.609375 36.375  Q 5.609375 53.65625 14.8125 63.9375  Q 24.03125 74.21875 39.40625 74.21875  z \" id=\"DejaVuSans-4f\"/>\n",
       "     <path d=\"M 44.390625 34.1875  Q 47.5625 33.109375 50.5625 29.59375  Q 53.5625 26.078125 56.59375 19.921875  L 66.609375 0  L 56 0  L 46.6875 18.703125  Q 43.0625 26.03125 39.671875 28.421875  Q 36.28125 30.8125 30.421875 30.8125  L 19.671875 30.8125  L 19.671875 0  L 9.8125 0  L 9.8125 72.90625  L 32.078125 72.90625  Q 44.578125 72.90625 50.734375 67.671875  Q 56.890625 62.453125 56.890625 51.90625  Q 56.890625 45.015625 53.6875 40.46875  Q 50.484375 35.9375 44.390625 34.1875  z M 19.671875 64.796875  L 19.671875 38.921875  L 32.078125 38.921875  Q 39.203125 38.921875 42.84375 42.21875  Q 46.484375 45.515625 46.484375 51.90625  Q 46.484375 58.296875 42.84375 61.546875  Q 39.203125 64.796875 32.078125 64.796875  z \" id=\"DejaVuSans-52\"/>\n",
       "     <path id=\"DejaVuSans-20\"/>\n",
       "     <path d=\"M 9.8125 72.90625  L 23.09375 72.90625  L 55.421875 11.921875  L 55.421875 72.90625  L 64.984375 72.90625  L 64.984375 0  L 51.703125 0  L 19.390625 60.984375  L 19.390625 0  L 9.8125 0  z \" id=\"DejaVuSans-4e\"/>\n",
       "     <path d=\"M 56.203125 29.59375  L 56.203125 25.203125  L 14.890625 25.203125  Q 15.484375 15.921875 20.484375 11.0625  Q 25.484375 6.203125 34.421875 6.203125  Q 39.59375 6.203125 44.453125 7.46875  Q 49.3125 8.734375 54.109375 11.28125  L 54.109375 2.78125  Q 49.265625 0.734375 44.1875 -0.34375  Q 39.109375 -1.421875 33.890625 -1.421875  Q 20.796875 -1.421875 13.15625 6.1875  Q 5.515625 13.8125 5.515625 26.8125  Q 5.515625 40.234375 12.765625 48.109375  Q 20.015625 56 32.328125 56  Q 43.359375 56 49.78125 48.890625  Q 56.203125 41.796875 56.203125 29.59375  z M 47.21875 32.234375  Q 47.125 39.59375 43.09375 43.984375  Q 39.0625 48.390625 32.421875 48.390625  Q 24.90625 48.390625 20.390625 44.140625  Q 15.875 39.890625 15.1875 32.171875  z \" id=\"DejaVuSans-65\"/>\n",
       "     <path d=\"M 18.3125 70.21875  L 18.3125 54.6875  L 36.8125 54.6875  L 36.8125 47.703125  L 18.3125 47.703125  L 18.3125 18.015625  Q 18.3125 11.328125 20.140625 9.421875  Q 21.96875 7.515625 27.59375 7.515625  L 36.8125 7.515625  L 36.8125 0  L 27.59375 0  Q 17.1875 0 13.234375 3.875  Q 9.28125 7.765625 9.28125 18.015625  L 9.28125 47.703125  L 2.6875 47.703125  L 2.6875 54.6875  L 9.28125 54.6875  L 9.28125 70.21875  z \" id=\"DejaVuSans-74\"/>\n",
       "     <path d=\"M 4.203125 54.6875  L 13.1875 54.6875  L 24.421875 12.015625  L 35.59375 54.6875  L 46.1875 54.6875  L 57.421875 12.015625  L 68.609375 54.6875  L 77.59375 54.6875  L 63.28125 0  L 52.6875 0  L 40.921875 44.828125  L 29.109375 0  L 18.5 0  z \" id=\"DejaVuSans-77\"/>\n",
       "     <path d=\"M 41.109375 46.296875  Q 39.59375 47.171875 37.8125 47.578125  Q 36.03125 48 33.890625 48  Q 26.265625 48 22.1875 43.046875  Q 18.109375 38.09375 18.109375 28.8125  L 18.109375 0  L 9.078125 0  L 9.078125 54.6875  L 18.109375 54.6875  L 18.109375 46.1875  Q 20.953125 51.171875 25.484375 53.578125  Q 30.03125 56 36.53125 56  Q 37.453125 56 38.578125 55.875  Q 39.703125 55.765625 41.0625 55.515625  z \" id=\"DejaVuSans-72\"/>\n",
       "     <path d=\"M 9.078125 75.984375  L 18.109375 75.984375  L 18.109375 31.109375  L 44.921875 54.6875  L 56.390625 54.6875  L 27.390625 29.109375  L 57.625 0  L 45.90625 0  L 18.109375 26.703125  L 18.109375 0  L 9.078125 0  z \" id=\"DejaVuSans-6b\"/>\n",
       "     <path d=\"M 11.71875 12.40625  L 22.015625 12.40625  L 22.015625 0  L 11.71875 0  z M 11.71875 51.703125  L 22.015625 51.703125  L 22.015625 39.3125  L 11.71875 39.3125  z \" id=\"DejaVuSans-3a\"/>\n",
       "    </defs>\n",
       "    <g transform=\"translate(158.075369 28.56)scale(0.12 -0.12)\">\n",
       "     <use xlink:href=\"#DejaVuSans-58\"/>\n",
       "     <use x=\"68.412109\" xlink:href=\"#DejaVuSans-4f\"/>\n",
       "     <use x=\"147.123047\" xlink:href=\"#DejaVuSans-52\"/>\n",
       "     <use x=\"216.605469\" xlink:href=\"#DejaVuSans-20\"/>\n",
       "     <use x=\"248.392578\" xlink:href=\"#DejaVuSans-4e\"/>\n",
       "     <use x=\"323.197266\" xlink:href=\"#DejaVuSans-65\"/>\n",
       "     <use x=\"384.720703\" xlink:href=\"#DejaVuSans-74\"/>\n",
       "     <use x=\"423.929688\" xlink:href=\"#DejaVuSans-77\"/>\n",
       "     <use x=\"505.716797\" xlink:href=\"#DejaVuSans-6f\"/>\n",
       "     <use x=\"566.898438\" xlink:href=\"#DejaVuSans-72\"/>\n",
       "     <use x=\"608.011719\" xlink:href=\"#DejaVuSans-6b\"/>\n",
       "     <use x=\"665.921875\" xlink:href=\"#DejaVuSans-3a\"/>\n",
       "     <use x=\"699.613281\" xlink:href=\"#DejaVuSans-20\"/>\n",
       "     <use x=\"731.400391\" xlink:href=\"#DejaVuSans-45\"/>\n",
       "     <use x=\"794.583984\" xlink:href=\"#DejaVuSans-72\"/>\n",
       "     <use x=\"835.681641\" xlink:href=\"#DejaVuSans-72\"/>\n",
       "     <use x=\"876.763672\" xlink:href=\"#DejaVuSans-6f\"/>\n",
       "     <use x=\"937.945312\" xlink:href=\"#DejaVuSans-72\"/>\n",
       "    </g>\n",
       "   </g>\n",
       "   <g id=\"legend_1\">\n",
       "    <g id=\"patch_7\">\n",
       "     <path d=\"M 245.270739 57.238125  L 336.636364 57.238125  Q 338.636364 57.238125 338.636364 55.238125  L 338.636364 41.56  Q 338.636364 39.56 336.636364 39.56  L 245.270739 39.56  Q 243.270739 39.56 243.270739 41.56  L 243.270739 55.238125  Q 243.270739 57.238125 245.270739 57.238125  z \" style=\"fill:#ffffff;opacity:0.8;stroke:#cccccc;stroke-linejoin:miter;\"/>\n",
       "    </g>\n",
       "    <g id=\"line2d_15\">\n",
       "     <path d=\"M 247.270739 47.658437  L 267.270739 47.658437  \" style=\"fill:none;stroke:#1f77b4;stroke-linecap:square;stroke-width:1.5;\"/>\n",
       "    </g>\n",
       "    <g id=\"line2d_16\"/>\n",
       "    <g id=\"text_16\">\n",
       "     <!-- Training set -->\n",
       "     <defs>\n",
       "      <path d=\"M -0.296875 72.90625  L 61.375 72.90625  L 61.375 64.59375  L 35.5 64.59375  L 35.5 0  L 25.59375 0  L 25.59375 64.59375  L -0.296875 64.59375  z \" id=\"DejaVuSans-54\"/>\n",
       "      <path d=\"M 34.28125 27.484375  Q 23.390625 27.484375 19.1875 25  Q 14.984375 22.515625 14.984375 16.5  Q 14.984375 11.71875 18.140625 8.90625  Q 21.296875 6.109375 26.703125 6.109375  Q 34.1875 6.109375 38.703125 11.40625  Q 43.21875 16.703125 43.21875 25.484375  L 43.21875 27.484375  z M 52.203125 31.203125  L 52.203125 0  L 43.21875 0  L 43.21875 8.296875  Q 40.140625 3.328125 35.546875 0.953125  Q 30.953125 -1.421875 24.3125 -1.421875  Q 15.921875 -1.421875 10.953125 3.296875  Q 6 8.015625 6 15.921875  Q 6 25.140625 12.171875 29.828125  Q 18.359375 34.515625 30.609375 34.515625  L 43.21875 34.515625  L 43.21875 35.40625  Q 43.21875 41.609375 39.140625 45  Q 35.0625 48.390625 27.6875 48.390625  Q 23 48.390625 18.546875 47.265625  Q 14.109375 46.140625 10.015625 43.890625  L 10.015625 52.203125  Q 14.9375 54.109375 19.578125 55.046875  Q 24.21875 56 28.609375 56  Q 40.484375 56 46.34375 49.84375  Q 52.203125 43.703125 52.203125 31.203125  z \" id=\"DejaVuSans-61\"/>\n",
       "      <path d=\"M 9.421875 54.6875  L 18.40625 54.6875  L 18.40625 0  L 9.421875 0  z M 9.421875 75.984375  L 18.40625 75.984375  L 18.40625 64.59375  L 9.421875 64.59375  z \" id=\"DejaVuSans-69\"/>\n",
       "      <path d=\"M 54.890625 33.015625  L 54.890625 0  L 45.90625 0  L 45.90625 32.71875  Q 45.90625 40.484375 42.875 44.328125  Q 39.84375 48.1875 33.796875 48.1875  Q 26.515625 48.1875 22.3125 43.546875  Q 18.109375 38.921875 18.109375 30.90625  L 18.109375 0  L 9.078125 0  L 9.078125 54.6875  L 18.109375 54.6875  L 18.109375 46.1875  Q 21.34375 51.125 25.703125 53.5625  Q 30.078125 56 35.796875 56  Q 45.21875 56 50.046875 50.171875  Q 54.890625 44.34375 54.890625 33.015625  z \" id=\"DejaVuSans-6e\"/>\n",
       "      <path d=\"M 45.40625 27.984375  Q 45.40625 37.75 41.375 43.109375  Q 37.359375 48.484375 30.078125 48.484375  Q 22.859375 48.484375 18.828125 43.109375  Q 14.796875 37.75 14.796875 27.984375  Q 14.796875 18.265625 18.828125 12.890625  Q 22.859375 7.515625 30.078125 7.515625  Q 37.359375 7.515625 41.375 12.890625  Q 45.40625 18.265625 45.40625 27.984375  z M 54.390625 6.78125  Q 54.390625 -7.171875 48.1875 -13.984375  Q 42 -20.796875 29.203125 -20.796875  Q 24.46875 -20.796875 20.265625 -20.09375  Q 16.0625 -19.390625 12.109375 -17.921875  L 12.109375 -9.1875  Q 16.0625 -11.328125 19.921875 -12.34375  Q 23.78125 -13.375 27.78125 -13.375  Q 36.625 -13.375 41.015625 -8.765625  Q 45.40625 -4.15625 45.40625 5.171875  L 45.40625 9.625  Q 42.625 4.78125 38.28125 2.390625  Q 33.9375 0 27.875 0  Q 17.828125 0 11.671875 7.65625  Q 5.515625 15.328125 5.515625 27.984375  Q 5.515625 40.671875 11.671875 48.328125  Q 17.828125 56 27.875 56  Q 33.9375 56 38.28125 53.609375  Q 42.625 51.21875 45.40625 46.390625  L 45.40625 54.6875  L 54.390625 54.6875  z \" id=\"DejaVuSans-67\"/>\n",
       "      <path d=\"M 44.28125 53.078125  L 44.28125 44.578125  Q 40.484375 46.53125 36.375 47.5  Q 32.28125 48.484375 27.875 48.484375  Q 21.1875 48.484375 17.84375 46.4375  Q 14.5 44.390625 14.5 40.28125  Q 14.5 37.15625 16.890625 35.375  Q 19.28125 33.59375 26.515625 31.984375  L 29.59375 31.296875  Q 39.15625 29.25 43.1875 25.515625  Q 47.21875 21.78125 47.21875 15.09375  Q 47.21875 7.46875 41.1875 3.015625  Q 35.15625 -1.421875 24.609375 -1.421875  Q 20.21875 -1.421875 15.453125 -0.5625  Q 10.6875 0.296875 5.421875 2  L 5.421875 11.28125  Q 10.40625 8.6875 15.234375 7.390625  Q 20.0625 6.109375 24.8125 6.109375  Q 31.15625 6.109375 34.5625 8.28125  Q 37.984375 10.453125 37.984375 14.40625  Q 37.984375 18.0625 35.515625 20.015625  Q 33.0625 21.96875 24.703125 23.78125  L 21.578125 24.515625  Q 13.234375 26.265625 9.515625 29.90625  Q 5.8125 33.546875 5.8125 39.890625  Q 5.8125 47.609375 11.28125 51.796875  Q 16.75 56 26.8125 56  Q 31.78125 56 36.171875 55.265625  Q 40.578125 54.546875 44.28125 53.078125  z \" id=\"DejaVuSans-73\"/>\n",
       "     </defs>\n",
       "     <g transform=\"translate(275.270739 51.158437)scale(0.1 -0.1)\">\n",
       "      <use xlink:href=\"#DejaVuSans-54\"/>\n",
       "      <use x=\"60.865234\" xlink:href=\"#DejaVuSans-72\"/>\n",
       "      <use x=\"101.978516\" xlink:href=\"#DejaVuSans-61\"/>\n",
       "      <use x=\"163.257812\" xlink:href=\"#DejaVuSans-69\"/>\n",
       "      <use x=\"191.041016\" xlink:href=\"#DejaVuSans-6e\"/>\n",
       "      <use x=\"254.419922\" xlink:href=\"#DejaVuSans-69\"/>\n",
       "      <use x=\"282.203125\" xlink:href=\"#DejaVuSans-6e\"/>\n",
       "      <use x=\"345.582031\" xlink:href=\"#DejaVuSans-67\"/>\n",
       "      <use x=\"409.058594\" xlink:href=\"#DejaVuSans-20\"/>\n",
       "      <use x=\"440.845703\" xlink:href=\"#DejaVuSans-73\"/>\n",
       "      <use x=\"492.945312\" xlink:href=\"#DejaVuSans-65\"/>\n",
       "      <use x=\"554.46875\" xlink:href=\"#DejaVuSans-74\"/>\n",
       "     </g>\n",
       "    </g>\n",
       "   </g>\n",
       "  </g>\n",
       "  <g id=\"axes_2\">\n",
       "   <g id=\"patch_8\">\n",
       "    <path d=\"M 394.363636 252  L 648 252  L 648 34.56  L 394.363636 34.56  z \" style=\"fill:#ffffff;\"/>\n",
       "   </g>\n",
       "   <g id=\"matplotlib.axis_3\">\n",
       "    <g id=\"xtick_7\">\n",
       "     <g id=\"line2d_17\">\n",
       "      <g>\n",
       "       <use style=\"stroke:#000000;stroke-width:0.8;\" x=\"405.892562\" xlink:href=\"#mc19b5e4ceb\" y=\"252\"/>\n",
       "      </g>\n",
       "     </g>\n",
       "     <g id=\"text_17\">\n",
       "      <!-- 0 -->\n",
       "      <g transform=\"translate(402.711312 266.598437)scale(0.1 -0.1)\">\n",
       "       <use xlink:href=\"#DejaVuSans-30\"/>\n",
       "      </g>\n",
       "     </g>\n",
       "    </g>\n",
       "    <g id=\"xtick_8\">\n",
       "     <g id=\"line2d_18\">\n",
       "      <g>\n",
       "       <use style=\"stroke:#000000;stroke-width:0.8;\" x=\"446.645215\" xlink:href=\"#mc19b5e4ceb\" y=\"252\"/>\n",
       "      </g>\n",
       "     </g>\n",
       "     <g id=\"text_18\">\n",
       "      <!-- 500 -->\n",
       "      <g transform=\"translate(437.101465 266.598437)scale(0.1 -0.1)\">\n",
       "       <use xlink:href=\"#DejaVuSans-35\"/>\n",
       "       <use x=\"63.623047\" xlink:href=\"#DejaVuSans-30\"/>\n",
       "       <use x=\"127.246094\" xlink:href=\"#DejaVuSans-30\"/>\n",
       "      </g>\n",
       "     </g>\n",
       "    </g>\n",
       "    <g id=\"xtick_9\">\n",
       "     <g id=\"line2d_19\">\n",
       "      <g>\n",
       "       <use style=\"stroke:#000000;stroke-width:0.8;\" x=\"487.397869\" xlink:href=\"#mc19b5e4ceb\" y=\"252\"/>\n",
       "      </g>\n",
       "     </g>\n",
       "     <g id=\"text_19\">\n",
       "      <!-- 1000 -->\n",
       "      <g transform=\"translate(474.672869 266.598437)scale(0.1 -0.1)\">\n",
       "       <use xlink:href=\"#DejaVuSans-31\"/>\n",
       "       <use x=\"63.623047\" xlink:href=\"#DejaVuSans-30\"/>\n",
       "       <use x=\"127.246094\" xlink:href=\"#DejaVuSans-30\"/>\n",
       "       <use x=\"190.869141\" xlink:href=\"#DejaVuSans-30\"/>\n",
       "      </g>\n",
       "     </g>\n",
       "    </g>\n",
       "    <g id=\"xtick_10\">\n",
       "     <g id=\"line2d_20\">\n",
       "      <g>\n",
       "       <use style=\"stroke:#000000;stroke-width:0.8;\" x=\"528.150522\" xlink:href=\"#mc19b5e4ceb\" y=\"252\"/>\n",
       "      </g>\n",
       "     </g>\n",
       "     <g id=\"text_20\">\n",
       "      <!-- 1500 -->\n",
       "      <g transform=\"translate(515.425522 266.598437)scale(0.1 -0.1)\">\n",
       "       <use xlink:href=\"#DejaVuSans-31\"/>\n",
       "       <use x=\"63.623047\" xlink:href=\"#DejaVuSans-35\"/>\n",
       "       <use x=\"127.246094\" xlink:href=\"#DejaVuSans-30\"/>\n",
       "       <use x=\"190.869141\" xlink:href=\"#DejaVuSans-30\"/>\n",
       "      </g>\n",
       "     </g>\n",
       "    </g>\n",
       "    <g id=\"xtick_11\">\n",
       "     <g id=\"line2d_21\">\n",
       "      <g>\n",
       "       <use style=\"stroke:#000000;stroke-width:0.8;\" x=\"568.903175\" xlink:href=\"#mc19b5e4ceb\" y=\"252\"/>\n",
       "      </g>\n",
       "     </g>\n",
       "     <g id=\"text_21\">\n",
       "      <!-- 2000 -->\n",
       "      <g transform=\"translate(556.178175 266.598437)scale(0.1 -0.1)\">\n",
       "       <use xlink:href=\"#DejaVuSans-32\"/>\n",
       "       <use x=\"63.623047\" xlink:href=\"#DejaVuSans-30\"/>\n",
       "       <use x=\"127.246094\" xlink:href=\"#DejaVuSans-30\"/>\n",
       "       <use x=\"190.869141\" xlink:href=\"#DejaVuSans-30\"/>\n",
       "      </g>\n",
       "     </g>\n",
       "    </g>\n",
       "    <g id=\"xtick_12\">\n",
       "     <g id=\"line2d_22\">\n",
       "      <g>\n",
       "       <use style=\"stroke:#000000;stroke-width:0.8;\" x=\"609.655829\" xlink:href=\"#mc19b5e4ceb\" y=\"252\"/>\n",
       "      </g>\n",
       "     </g>\n",
       "     <g id=\"text_22\">\n",
       "      <!-- 2500 -->\n",
       "      <g transform=\"translate(596.930829 266.598437)scale(0.1 -0.1)\">\n",
       "       <use xlink:href=\"#DejaVuSans-32\"/>\n",
       "       <use x=\"63.623047\" xlink:href=\"#DejaVuSans-35\"/>\n",
       "       <use x=\"127.246094\" xlink:href=\"#DejaVuSans-30\"/>\n",
       "       <use x=\"190.869141\" xlink:href=\"#DejaVuSans-30\"/>\n",
       "      </g>\n",
       "     </g>\n",
       "    </g>\n",
       "    <g id=\"text_23\">\n",
       "     <!-- Epoch -->\n",
       "     <g transform=\"translate(505.870881 280.276563)scale(0.1 -0.1)\">\n",
       "      <use xlink:href=\"#DejaVuSans-45\"/>\n",
       "      <use x=\"63.183594\" xlink:href=\"#DejaVuSans-70\"/>\n",
       "      <use x=\"126.660156\" xlink:href=\"#DejaVuSans-6f\"/>\n",
       "      <use x=\"187.841797\" xlink:href=\"#DejaVuSans-63\"/>\n",
       "      <use x=\"242.822266\" xlink:href=\"#DejaVuSans-68\"/>\n",
       "     </g>\n",
       "    </g>\n",
       "   </g>\n",
       "   <g id=\"matplotlib.axis_4\">\n",
       "    <g id=\"ytick_8\">\n",
       "     <g id=\"line2d_23\">\n",
       "      <g>\n",
       "       <use style=\"stroke:#000000;stroke-width:0.8;\" x=\"394.363636\" xlink:href=\"#mee0203f015\" y=\"233.88\"/>\n",
       "      </g>\n",
       "     </g>\n",
       "     <g id=\"text_24\">\n",
       "      <!-- 0.0 -->\n",
       "      <g transform=\"translate(371.460511 237.679219)scale(0.1 -0.1)\">\n",
       "       <use xlink:href=\"#DejaVuSans-30\"/>\n",
       "       <use x=\"63.623047\" xlink:href=\"#DejaVuSans-2e\"/>\n",
       "       <use x=\"95.410156\" xlink:href=\"#DejaVuSans-30\"/>\n",
       "      </g>\n",
       "     </g>\n",
       "    </g>\n",
       "    <g id=\"ytick_9\">\n",
       "     <g id=\"line2d_24\">\n",
       "      <g>\n",
       "       <use style=\"stroke:#000000;stroke-width:0.8;\" x=\"394.363636\" xlink:href=\"#mee0203f015\" y=\"197.64\"/>\n",
       "      </g>\n",
       "     </g>\n",
       "     <g id=\"text_25\">\n",
       "      <!-- 0.2 -->\n",
       "      <g transform=\"translate(371.460511 201.439219)scale(0.1 -0.1)\">\n",
       "       <use xlink:href=\"#DejaVuSans-30\"/>\n",
       "       <use x=\"63.623047\" xlink:href=\"#DejaVuSans-2e\"/>\n",
       "       <use x=\"95.410156\" xlink:href=\"#DejaVuSans-32\"/>\n",
       "      </g>\n",
       "     </g>\n",
       "    </g>\n",
       "    <g id=\"ytick_10\">\n",
       "     <g id=\"line2d_25\">\n",
       "      <g>\n",
       "       <use style=\"stroke:#000000;stroke-width:0.8;\" x=\"394.363636\" xlink:href=\"#mee0203f015\" y=\"161.4\"/>\n",
       "      </g>\n",
       "     </g>\n",
       "     <g id=\"text_26\">\n",
       "      <!-- 0.4 -->\n",
       "      <defs>\n",
       "       <path d=\"M 37.796875 64.3125  L 12.890625 25.390625  L 37.796875 25.390625  z M 35.203125 72.90625  L 47.609375 72.90625  L 47.609375 25.390625  L 58.015625 25.390625  L 58.015625 17.1875  L 47.609375 17.1875  L 47.609375 0  L 37.796875 0  L 37.796875 17.1875  L 4.890625 17.1875  L 4.890625 26.703125  z \" id=\"DejaVuSans-34\"/>\n",
       "      </defs>\n",
       "      <g transform=\"translate(371.460511 165.199219)scale(0.1 -0.1)\">\n",
       "       <use xlink:href=\"#DejaVuSans-30\"/>\n",
       "       <use x=\"63.623047\" xlink:href=\"#DejaVuSans-2e\"/>\n",
       "       <use x=\"95.410156\" xlink:href=\"#DejaVuSans-34\"/>\n",
       "      </g>\n",
       "     </g>\n",
       "    </g>\n",
       "    <g id=\"ytick_11\">\n",
       "     <g id=\"line2d_26\">\n",
       "      <g>\n",
       "       <use style=\"stroke:#000000;stroke-width:0.8;\" x=\"394.363636\" xlink:href=\"#mee0203f015\" y=\"125.16\"/>\n",
       "      </g>\n",
       "     </g>\n",
       "     <g id=\"text_27\">\n",
       "      <!-- 0.6 -->\n",
       "      <defs>\n",
       "       <path d=\"M 33.015625 40.375  Q 26.375 40.375 22.484375 35.828125  Q 18.609375 31.296875 18.609375 23.390625  Q 18.609375 15.53125 22.484375 10.953125  Q 26.375 6.390625 33.015625 6.390625  Q 39.65625 6.390625 43.53125 10.953125  Q 47.40625 15.53125 47.40625 23.390625  Q 47.40625 31.296875 43.53125 35.828125  Q 39.65625 40.375 33.015625 40.375  z M 52.59375 71.296875  L 52.59375 62.3125  Q 48.875 64.0625 45.09375 64.984375  Q 41.3125 65.921875 37.59375 65.921875  Q 27.828125 65.921875 22.671875 59.328125  Q 17.53125 52.734375 16.796875 39.40625  Q 19.671875 43.65625 24.015625 45.921875  Q 28.375 48.1875 33.59375 48.1875  Q 44.578125 48.1875 50.953125 41.515625  Q 57.328125 34.859375 57.328125 23.390625  Q 57.328125 12.15625 50.6875 5.359375  Q 44.046875 -1.421875 33.015625 -1.421875  Q 20.359375 -1.421875 13.671875 8.265625  Q 6.984375 17.96875 6.984375 36.375  Q 6.984375 53.65625 15.1875 63.9375  Q 23.390625 74.21875 37.203125 74.21875  Q 40.921875 74.21875 44.703125 73.484375  Q 48.484375 72.75 52.59375 71.296875  z \" id=\"DejaVuSans-36\"/>\n",
       "      </defs>\n",
       "      <g transform=\"translate(371.460511 128.959219)scale(0.1 -0.1)\">\n",
       "       <use xlink:href=\"#DejaVuSans-30\"/>\n",
       "       <use x=\"63.623047\" xlink:href=\"#DejaVuSans-2e\"/>\n",
       "       <use x=\"95.410156\" xlink:href=\"#DejaVuSans-36\"/>\n",
       "      </g>\n",
       "     </g>\n",
       "    </g>\n",
       "    <g id=\"ytick_12\">\n",
       "     <g id=\"line2d_27\">\n",
       "      <g>\n",
       "       <use style=\"stroke:#000000;stroke-width:0.8;\" x=\"394.363636\" xlink:href=\"#mee0203f015\" y=\"88.92\"/>\n",
       "      </g>\n",
       "     </g>\n",
       "     <g id=\"text_28\">\n",
       "      <!-- 0.8 -->\n",
       "      <defs>\n",
       "       <path d=\"M 31.78125 34.625  Q 24.75 34.625 20.71875 30.859375  Q 16.703125 27.09375 16.703125 20.515625  Q 16.703125 13.921875 20.71875 10.15625  Q 24.75 6.390625 31.78125 6.390625  Q 38.8125 6.390625 42.859375 10.171875  Q 46.921875 13.96875 46.921875 20.515625  Q 46.921875 27.09375 42.890625 30.859375  Q 38.875 34.625 31.78125 34.625  z M 21.921875 38.8125  Q 15.578125 40.375 12.03125 44.71875  Q 8.5 49.078125 8.5 55.328125  Q 8.5 64.0625 14.71875 69.140625  Q 20.953125 74.21875 31.78125 74.21875  Q 42.671875 74.21875 48.875 69.140625  Q 55.078125 64.0625 55.078125 55.328125  Q 55.078125 49.078125 51.53125 44.71875  Q 48 40.375 41.703125 38.8125  Q 48.828125 37.15625 52.796875 32.3125  Q 56.78125 27.484375 56.78125 20.515625  Q 56.78125 9.90625 50.3125 4.234375  Q 43.84375 -1.421875 31.78125 -1.421875  Q 19.734375 -1.421875 13.25 4.234375  Q 6.78125 9.90625 6.78125 20.515625  Q 6.78125 27.484375 10.78125 32.3125  Q 14.796875 37.15625 21.921875 38.8125  z M 18.3125 54.390625  Q 18.3125 48.734375 21.84375 45.5625  Q 25.390625 42.390625 31.78125 42.390625  Q 38.140625 42.390625 41.71875 45.5625  Q 45.3125 48.734375 45.3125 54.390625  Q 45.3125 60.0625 41.71875 63.234375  Q 38.140625 66.40625 31.78125 66.40625  Q 25.390625 66.40625 21.84375 63.234375  Q 18.3125 60.0625 18.3125 54.390625  z \" id=\"DejaVuSans-38\"/>\n",
       "      </defs>\n",
       "      <g transform=\"translate(371.460511 92.719219)scale(0.1 -0.1)\">\n",
       "       <use xlink:href=\"#DejaVuSans-30\"/>\n",
       "       <use x=\"63.623047\" xlink:href=\"#DejaVuSans-2e\"/>\n",
       "       <use x=\"95.410156\" xlink:href=\"#DejaVuSans-38\"/>\n",
       "      </g>\n",
       "     </g>\n",
       "    </g>\n",
       "    <g id=\"ytick_13\">\n",
       "     <g id=\"line2d_28\">\n",
       "      <g>\n",
       "       <use style=\"stroke:#000000;stroke-width:0.8;\" x=\"394.363636\" xlink:href=\"#mee0203f015\" y=\"52.68\"/>\n",
       "      </g>\n",
       "     </g>\n",
       "     <g id=\"text_29\">\n",
       "      <!-- 1.0 -->\n",
       "      <g transform=\"translate(371.460511 56.479219)scale(0.1 -0.1)\">\n",
       "       <use xlink:href=\"#DejaVuSans-31\"/>\n",
       "       <use x=\"63.623047\" xlink:href=\"#DejaVuSans-2e\"/>\n",
       "       <use x=\"95.410156\" xlink:href=\"#DejaVuSans-30\"/>\n",
       "      </g>\n",
       "     </g>\n",
       "    </g>\n",
       "   </g>\n",
       "   <g id=\"line2d_29\">\n",
       "    <path clip-path=\"url(#p2a5133d3dc)\" d=\"M 405.892562 233.88  L 557.166411 233.88  L 557.329422 188.58  L 572.652419 188.58  L 572.81543 143.28  L 576.238653 143.28  L 576.401663 97.98  L 636.389569 97.98  L 636.471074 52.68  L 636.471074 52.68  \" style=\"fill:none;stroke:#1f77b4;stroke-linecap:square;stroke-width:1.5;\"/>\n",
       "   </g>\n",
       "   <g id=\"patch_9\">\n",
       "    <path d=\"M 394.363636 252  L 394.363636 34.56  \" style=\"fill:none;stroke:#000000;stroke-linecap:square;stroke-linejoin:miter;stroke-width:0.8;\"/>\n",
       "   </g>\n",
       "   <g id=\"patch_10\">\n",
       "    <path d=\"M 648 252  L 648 34.56  \" style=\"fill:none;stroke:#000000;stroke-linecap:square;stroke-linejoin:miter;stroke-width:0.8;\"/>\n",
       "   </g>\n",
       "   <g id=\"patch_11\">\n",
       "    <path d=\"M 394.363636 252  L 648 252  \" style=\"fill:none;stroke:#000000;stroke-linecap:square;stroke-linejoin:miter;stroke-width:0.8;\"/>\n",
       "   </g>\n",
       "   <g id=\"patch_12\">\n",
       "    <path d=\"M 394.363636 34.56  L 648 34.56  \" style=\"fill:none;stroke:#000000;stroke-linecap:square;stroke-linejoin:miter;stroke-width:0.8;\"/>\n",
       "   </g>\n",
       "   <g id=\"text_30\">\n",
       "    <!-- XOR Network: Accuracy -->\n",
       "    <defs>\n",
       "     <path d=\"M 34.1875 63.1875  L 20.796875 26.90625  L 47.609375 26.90625  z M 28.609375 72.90625  L 39.796875 72.90625  L 67.578125 0  L 57.328125 0  L 50.6875 18.703125  L 17.828125 18.703125  L 11.1875 0  L 0.78125 0  z \" id=\"DejaVuSans-41\"/>\n",
       "     <path d=\"M 8.5 21.578125  L 8.5 54.6875  L 17.484375 54.6875  L 17.484375 21.921875  Q 17.484375 14.15625 20.5 10.265625  Q 23.53125 6.390625 29.59375 6.390625  Q 36.859375 6.390625 41.078125 11.03125  Q 45.3125 15.671875 45.3125 23.6875  L 45.3125 54.6875  L 54.296875 54.6875  L 54.296875 0  L 45.3125 0  L 45.3125 8.40625  Q 42.046875 3.421875 37.71875 1  Q 33.40625 -1.421875 27.6875 -1.421875  Q 18.265625 -1.421875 13.375 4.4375  Q 8.5 10.296875 8.5 21.578125  z M 31.109375 56  z \" id=\"DejaVuSans-75\"/>\n",
       "     <path d=\"M 32.171875 -5.078125  Q 28.375 -14.84375 24.75 -17.8125  Q 21.140625 -20.796875 15.09375 -20.796875  L 7.90625 -20.796875  L 7.90625 -13.28125  L 13.1875 -13.28125  Q 16.890625 -13.28125 18.9375 -11.515625  Q 21 -9.765625 23.484375 -3.21875  L 25.09375 0.875  L 2.984375 54.6875  L 12.5 54.6875  L 29.59375 11.921875  L 46.6875 54.6875  L 56.203125 54.6875  z \" id=\"DejaVuSans-79\"/>\n",
       "    </defs>\n",
       "    <g transform=\"translate(449.800568 28.56)scale(0.12 -0.12)\">\n",
       "     <use xlink:href=\"#DejaVuSans-58\"/>\n",
       "     <use x=\"68.412109\" xlink:href=\"#DejaVuSans-4f\"/>\n",
       "     <use x=\"147.123047\" xlink:href=\"#DejaVuSans-52\"/>\n",
       "     <use x=\"216.605469\" xlink:href=\"#DejaVuSans-20\"/>\n",
       "     <use x=\"248.392578\" xlink:href=\"#DejaVuSans-4e\"/>\n",
       "     <use x=\"323.197266\" xlink:href=\"#DejaVuSans-65\"/>\n",
       "     <use x=\"384.720703\" xlink:href=\"#DejaVuSans-74\"/>\n",
       "     <use x=\"423.929688\" xlink:href=\"#DejaVuSans-77\"/>\n",
       "     <use x=\"505.716797\" xlink:href=\"#DejaVuSans-6f\"/>\n",
       "     <use x=\"566.898438\" xlink:href=\"#DejaVuSans-72\"/>\n",
       "     <use x=\"608.011719\" xlink:href=\"#DejaVuSans-6b\"/>\n",
       "     <use x=\"665.921875\" xlink:href=\"#DejaVuSans-3a\"/>\n",
       "     <use x=\"699.613281\" xlink:href=\"#DejaVuSans-20\"/>\n",
       "     <use x=\"731.400391\" xlink:href=\"#DejaVuSans-41\"/>\n",
       "     <use x=\"799.792969\" xlink:href=\"#DejaVuSans-63\"/>\n",
       "     <use x=\"854.773438\" xlink:href=\"#DejaVuSans-63\"/>\n",
       "     <use x=\"909.753906\" xlink:href=\"#DejaVuSans-75\"/>\n",
       "     <use x=\"973.132812\" xlink:href=\"#DejaVuSans-72\"/>\n",
       "     <use x=\"1014.246094\" xlink:href=\"#DejaVuSans-61\"/>\n",
       "     <use x=\"1075.525391\" xlink:href=\"#DejaVuSans-63\"/>\n",
       "     <use x=\"1130.505859\" xlink:href=\"#DejaVuSans-79\"/>\n",
       "    </g>\n",
       "   </g>\n",
       "   <g id=\"legend_2\">\n",
       "    <g id=\"patch_13\">\n",
       "     <path d=\"M 401.363636 57.238125  L 492.729261 57.238125  Q 494.729261 57.238125 494.729261 55.238125  L 494.729261 41.56  Q 494.729261 39.56 492.729261 39.56  L 401.363636 39.56  Q 399.363636 39.56 399.363636 41.56  L 399.363636 55.238125  Q 399.363636 57.238125 401.363636 57.238125  z \" style=\"fill:#ffffff;opacity:0.8;stroke:#cccccc;stroke-linejoin:miter;\"/>\n",
       "    </g>\n",
       "    <g id=\"line2d_30\">\n",
       "     <path d=\"M 403.363636 47.658437  L 423.363636 47.658437  \" style=\"fill:none;stroke:#1f77b4;stroke-linecap:square;stroke-width:1.5;\"/>\n",
       "    </g>\n",
       "    <g id=\"line2d_31\"/>\n",
       "    <g id=\"text_31\">\n",
       "     <!-- Training set -->\n",
       "     <g transform=\"translate(431.363636 51.158437)scale(0.1 -0.1)\">\n",
       "      <use xlink:href=\"#DejaVuSans-54\"/>\n",
       "      <use x=\"60.865234\" xlink:href=\"#DejaVuSans-72\"/>\n",
       "      <use x=\"101.978516\" xlink:href=\"#DejaVuSans-61\"/>\n",
       "      <use x=\"163.257812\" xlink:href=\"#DejaVuSans-69\"/>\n",
       "      <use x=\"191.041016\" xlink:href=\"#DejaVuSans-6e\"/>\n",
       "      <use x=\"254.419922\" xlink:href=\"#DejaVuSans-69\"/>\n",
       "      <use x=\"282.203125\" xlink:href=\"#DejaVuSans-6e\"/>\n",
       "      <use x=\"345.582031\" xlink:href=\"#DejaVuSans-67\"/>\n",
       "      <use x=\"409.058594\" xlink:href=\"#DejaVuSans-20\"/>\n",
       "      <use x=\"440.845703\" xlink:href=\"#DejaVuSans-73\"/>\n",
       "      <use x=\"492.945312\" xlink:href=\"#DejaVuSans-65\"/>\n",
       "      <use x=\"554.46875\" xlink:href=\"#DejaVuSans-74\"/>\n",
       "     </g>\n",
       "    </g>\n",
       "   </g>\n",
       "  </g>\n",
       " </g>\n",
       " <defs>\n",
       "  <clipPath id=\"pfd85cdb709\">\n",
       "   <rect height=\"217.44\" width=\"253.636364\" x=\"90\" y=\"34.56\"/>\n",
       "  </clipPath>\n",
       "  <clipPath id=\"p2a5133d3dc\">\n",
       "   <rect height=\"217.44\" width=\"253.636364\" x=\"394.363636\" y=\"34.56\"/>\n",
       "  </clipPath>\n",
       " </defs>\n",
       "</svg>"
      ],
      "text/plain": [
       "<IPython.core.display.SVG object>"
      ]
     },
     "metadata": {},
     "output_type": "display_data"
    },
    {
     "name": "stdout",
     "output_type": "stream",
     "text": [
      "========================================================================\n",
      "       |  Training |  Training \n",
      "Epochs |     Error |  Accuracy \n",
      "------ | --------- | --------- \n",
      "# 2829 |   0.00525 |   1.00000 \n"
     ]
    }
   ],
   "source": [
    "net.reset()\n",
    "net.retrain(epochs=10000)"
   ]
  },
  {
   "cell_type": "markdown",
   "metadata": {},
   "source": [
    "### Step 8: test the network"
   ]
  },
  {
   "cell_type": "code",
   "execution_count": 16,
   "metadata": {},
   "outputs": [
    {
     "name": "stdout",
     "output_type": "stream",
     "text": [
      "========================================================\n",
      "Testing validation dataset with tolerance 0.1000...\n",
      "Total count: 4\n",
      "      correct: 4\n",
      "      incorrect: 0\n",
      "Total percentage correct: 1.0\n"
     ]
    }
   ],
   "source": [
    "net.test()"
   ]
  },
  {
   "cell_type": "markdown",
   "metadata": {},
   "source": [
    "To see all of these activations flow through the network diagram above, you can run the following:"
   ]
  },
  {
   "cell_type": "code",
   "execution_count": 17,
   "metadata": {},
   "outputs": [],
   "source": [
    "for pattern in net.dataset.inputs:\n",
    "    net.propagate(pattern)"
   ]
  },
  {
   "cell_type": "markdown",
   "metadata": {},
   "source": [
    "## conx options"
   ]
  },
  {
   "cell_type": "markdown",
   "metadata": {},
   "source": [
    "### Propagation enhancements\n",
    "\n",
    "There are five ways to propagate activations through the network:\n",
    "\n",
    "* Network.propagate(`inputs`) - propagate these inputs through the network\n",
    "* Network.propagate_to(`inputs`) - propagate these inputs to this bank (gets encoding)\n",
    "* Network.propagate_from(`bank-name`, `activations`) - propagate the activations from `bank-name` to outputs\n",
    "* Network.propagate_to_image(`bank-name`, `activations`, scale=SCALE)\n",
    "* Network.propagate_to_features(`bank-name`, `activations`, scale=SCALE)\n",
    "\n",
    "Note:\n",
    "\n",
    "All of the propagate methods will visualize their activations in any non-snapshot network image in the notebook."
   ]
  },
  {
   "cell_type": "code",
   "execution_count": 18,
   "metadata": {},
   "outputs": [
    {
     "data": {
      "text/plain": [
       "[0.080211259]"
      ]
     },
     "execution_count": 18,
     "metadata": {},
     "output_type": "execute_result"
    }
   ],
   "source": [
    "net.propagate_from(\"hidden1\", [0, 1, 0, 0, 1])"
   ]
  },
  {
   "cell_type": "code",
   "execution_count": 19,
   "metadata": {},
   "outputs": [
    {
     "data": {
      "text/plain": [
       "[0.0, 0.0, 0.0, 0.0, 1.5211880207061768]"
      ]
     },
     "execution_count": 19,
     "metadata": {},
     "output_type": "execute_result"
    }
   ],
   "source": [
    "net.propagate_to(\"hidden1\", [0.5, 0.5])"
   ]
  },
  {
   "cell_type": "code",
   "execution_count": 20,
   "metadata": {},
   "outputs": [
    {
     "data": {
      "text/plain": [
       "[0.0, 0.0, 0.0, 0.0, 1.5211880207061768]"
      ]
     },
     "execution_count": 20,
     "metadata": {},
     "output_type": "execute_result"
    }
   ],
   "source": [
    "net.propagate_to(\"hidden1\", [0.5, 0.5])"
   ]
  },
  {
   "cell_type": "markdown",
   "metadata": {},
   "source": [
    "There is also a propagate_to_image() that takes a bank name, and inputs."
   ]
  },
  {
   "cell_type": "code",
   "execution_count": 21,
   "metadata": {},
   "outputs": [
    {
     "data": {
      "image/png": "[encoded data removed]",
      "text/plain": [
       "<PIL.Image.Image image mode=RGBA size=500x100 at 0x7F5228187AC8>"
      ]
     },
     "execution_count": 21,
     "metadata": {},
     "output_type": "execute_result"
    }
   ],
   "source": [
    "net.propagate_to_image(\"hidden1\", [0.5, 0.5]).resize((500, 100))"
   ]
  },
  {
   "cell_type": "markdown",
   "metadata": {},
   "source": [
    "### Plotting options\n",
    "\n",
    "You can plot the following values from the training history:\n",
    "\n",
    "* \"loss\" - error measure (eg, \"mse\", mean square error)\n",
    "* \"acc\" - the accuracy of the training set\n",
    "\n",
    "You can plot any subset of the above on the same plot:"
   ]
  },
  {
   "cell_type": "code",
   "execution_count": 22,
   "metadata": {},
   "outputs": [
    {
     "data": {
      "image/png": "[encoded data removed]",
      "text/plain": [
       "<matplotlib.figure.Figure at 0x7f5218ac96a0>"
      ]
     },
     "metadata": {},
     "output_type": "display_data"
    }
   ],
   "source": [
    "net.plot([\"acc\", \"loss\"])"
   ]
  },
  {
   "cell_type": "markdown",
   "metadata": {},
   "source": [
    "You can also see the activations at a particular unit, given a range of input values for two input units. Since this network has only two inputs, and one output, we can see the entire input and output ranges:"
   ]
  },
  {
   "cell_type": "code",
   "execution_count": 23,
   "metadata": {},
   "outputs": [
    {
     "data": {
      "image/png": "[encoded data removed]",
      "text/plain": [
       "<matplotlib.figure.Figure at 0x7f52189e7c50>"
      ]
     },
     "metadata": {},
     "output_type": "display_data"
    },
    {
     "data": {
      "image/png": "[encoded data removed]",
      "text/plain": [
       "<matplotlib.figure.Figure at 0x7f5210f7bc88>"
      ]
     },
     "metadata": {},
     "output_type": "display_data"
    },
    {
     "data": {
      "image/png": "[encoded data removed]",
      "text/plain": [
       "<matplotlib.figure.Figure at 0x7f522721f358>"
      ]
     },
     "metadata": {},
     "output_type": "display_data"
    },
    {
     "data": {
      "image/png": "[encoded data removed]",
      "text/plain": [
       "<matplotlib.figure.Figure at 0x7f521bc0eef0>"
      ]
     },
     "metadata": {},
     "output_type": "display_data"
    },
    {
     "data": {
      "image/png": "[encoded data removed]",
      "text/plain": [
       "<matplotlib.figure.Figure at 0x7f520d19dbe0>"
      ]
     },
     "metadata": {},
     "output_type": "display_data"
    }
   ],
   "source": [
    "for i in range(net[\"hidden1\"].size):\n",
    "    net.plot_activation_map(from_layer=\"input1\", from_units=(0,1),\n",
    "                            to_layer=\"hidden1\", to_unit=i)"
   ]
  },
  {
   "cell_type": "code",
   "execution_count": 24,
   "metadata": {},
   "outputs": [
    {
     "data": {
      "image/png": "[encoded data removed]",
      "text/plain": [
       "<matplotlib.figure.Figure at 0x7f52189e7da0>"
      ]
     },
     "metadata": {},
     "output_type": "display_data"
    }
   ],
   "source": [
    "net.plot_activation_map(from_layer=\"input1\", from_units=(0,1),\n",
    "                        to_layer=\"output1\", to_unit=0)"
   ]
  }
 ],
 "metadata": {
  "kernelspec": {
   "display_name": "Python 3",
   "language": "python",
   "name": "python3"
  },
  "language_info": {
   "codemirror_mode": {
    "name": "ipython",
    "version": 3
   },
   "file_extension": ".py",
   "mimetype": "text/x-python",
   "name": "python",
   "nbconvert_exporter": "python",
   "pygments_lexer": "ipython3",
   "version": "3.6.3"
  },
  "widgets": {
   "application/vnd.jupyter.widget-state+json": {
    "state": {
     "0128c0a1a0244c90aa207f6963d92c14": {
      "model_module": "@jupyter-widgets/base",
      "model_module_version": "1.0.0",
      "model_name": "LayoutModel",
      "state": {
       "width": "100%"
      }
     },
     "0169d3a3fc6f45a9a227e73e7898c690": {
      "model_module": "@jupyter-widgets/base",
      "model_module_version": "1.0.0",
      "model_name": "LayoutModel",
      "state": {}
     },
     "03765534b79e423dbae205f13e939ba4": {
      "model_module": "@jupyter-widgets/base",
      "model_module_version": "1.0.0",
      "model_name": "LayoutModel",
      "state": {}
     },
     "0548712503b3496486b47d91984c33da": {
      "model_module": "@jupyter-widgets/controls",
      "model_module_version": "1.0.0",
      "model_name": "HBoxModel",
      "state": {
       "children": [
        "IPY_MODEL_7921ae1754be4168a4339b1a4ae80583",
        "IPY_MODEL_f11f925caa2c453b9c87a454420284d2"
       ],
       "layout": "IPY_MODEL_299e7434d5d9472098ba64443a1ecc43"
      }
     },
     "056ea70f88b74b5ab33766b87565b0fe": {
      "model_module": "@jupyter-widgets/base",
      "model_module_version": "1.0.0",
      "model_name": "LayoutModel",
      "state": {
       "width": "100px"
      }
     },
     "05e5ef9e06484366aca598d2f4371c09": {
      "model_module": "@jupyter-widgets/controls",
      "model_module_version": "1.0.0",
      "model_name": "HBoxModel",
      "state": {
       "children": [
        "IPY_MODEL_bb54f79ed2eb4d8bb752d3dc92982a47",
        "IPY_MODEL_23036e3dff07463988351d0b16385554"
       ],
       "layout": "IPY_MODEL_03765534b79e423dbae205f13e939ba4"
      }
     },
     "06fa247d52af489e8078f9a0f99c4f46": {
      "model_module": "@jupyter-widgets/base",
      "model_module_version": "1.0.0",
      "model_name": "LayoutModel",
      "state": {}
     },
     "07b69b86407e4ab4abdf99106786b61c": {
      "model_module": "@jupyter-widgets/controls",
      "model_module_version": "1.0.0",
      "model_name": "IntTextModel",
      "state": {
       "layout": "IPY_MODEL_1d4c032d8c8b4dbfa30c4dc0c789d907",
       "step": 1,
       "style": "IPY_MODEL_7d6d65e6338e4ac99f3a2e28bb85a5a7"
      }
     },
     "07fe3f9fee0c4e6f8cdcb9e12b1d70da": {
      "model_module": "@jupyter-widgets/controls",
      "model_module_version": "1.0.0",
      "model_name": "CheckboxModel",
      "state": {
       "description": "Visible",
       "disabled": false,
       "layout": "IPY_MODEL_6ca4a96a067c40fb978fe14f7e7512e5",
       "style": "IPY_MODEL_c80a184ed0144daf9ebcd09eb5ac6d62",
       "value": true
      }
     },
     "080f8e06cd74460f8759eb9cb6c6f0ca": {
      "model_module": "@jupyter-widgets/controls",
      "model_module_version": "1.0.0",
      "model_name": "ButtonStyleModel",
      "state": {}
     },
     "0951a9ba0476401ca51c393ce1b4ede9": {
      "model_module": "@jupyter-widgets/controls",
      "model_module_version": "1.0.0",
      "model_name": "ButtonModel",
      "state": {
       "icon": "refresh",
       "layout": "IPY_MODEL_e4a186e4443a4111864aaacfbe6b4a94",
       "style": "IPY_MODEL_168e0543cd474dfeaa04835e4c5e5d84"
      }
     },
     "0980df1a65134b91a71cf658de0e9c2e": {
      "model_module": "@jupyter-widgets/controls",
      "model_module_version": "1.0.0",
      "model_name": "ButtonModel",
      "state": {
       "icon": "forward",
       "layout": "IPY_MODEL_b3fe4494afe749febc881907f07d88f5",
       "style": "IPY_MODEL_d10adea7bacf4d1488ad5fb24e02a081"
      }
     },
     "0aaca10a35524d7681f9b0b1366e6771": {
      "model_module": "@jupyter-widgets/controls",
      "model_module_version": "1.0.0",
      "model_name": "IntTextModel",
      "state": {
       "description": "Horizontal space between banks:",
       "layout": "IPY_MODEL_6ca4a96a067c40fb978fe14f7e7512e5",
       "step": 1,
       "style": "IPY_MODEL_0fd0208d7677447db4129cecd8e66c77",
       "value": 150
      }
     },
     "0b19af3add6847b9a4454b1d60644307": {
      "model_module": "@jupyter-widgets/base",
      "model_module_version": "1.0.0",
      "model_name": "LayoutModel",
      "state": {}
     },
     "0eddae12f0a6452aafeccb54da6a203f": {
      "model_module": "@jupyter-widgets/controls",
      "model_module_version": "1.0.0",
      "model_name": "SliderStyleModel",
      "state": {
       "description_width": ""
      }
     },
     "0fd0208d7677447db4129cecd8e66c77": {
      "model_module": "@jupyter-widgets/controls",
      "model_module_version": "1.0.0",
      "model_name": "DescriptionStyleModel",
      "state": {
       "description_width": "initial"
      }
     },
     "0fd2943c128245eb86f78ee5c32736d7": {
      "model_module": "@jupyter-widgets/base",
      "model_module_version": "1.0.0",
      "model_name": "LayoutModel",
      "state": {}
     },
     "0fd2e1350ca14537ab5a61ca6b1ea71e": {
      "model_module": "@jupyter-widgets/controls",
      "model_module_version": "1.0.0",
      "model_name": "HBoxModel",
      "state": {
       "children": [
        "IPY_MODEL_76ce3da18454402f83a83899b2d86d2e",
        "IPY_MODEL_9e5b5f8a2cbc46b4881d3aab2015797c",
        "IPY_MODEL_83e93eb1de54495c8657991648cfd43d",
        "IPY_MODEL_a2fd7c0381544be0aafb669ce313f147",
        "IPY_MODEL_33792ae35b7348d089be1a1986b2843b",
        "IPY_MODEL_5f4addefc1254b799ba5ba4732430aef",
        "IPY_MODEL_49b4034ff3ca45a1b85f192d59e0451f"
       ],
       "layout": "IPY_MODEL_d42d820a01284fd6a6cd763b2db7b409"
      }
     },
     "10e3f25a69be438196dfe22b8c038e5c": {
      "model_module": "@jupyter-widgets/controls",
      "model_module_version": "1.0.0",
      "model_name": "ButtonStyleModel",
      "state": {}
     },
     "122f74197c6843beab6271bdb9e2ddef": {
      "model_module": "@jupyter-widgets/base",
      "model_module_version": "1.0.0",
      "model_name": "LayoutModel",
      "state": {
       "width": "25%"
      }
     },
     "12788e1bb4544cc48da77aba790c5431": {
      "model_module": "@jupyter-widgets/base",
      "model_module_version": "1.0.0",
      "model_name": "LayoutModel",
      "state": {
       "width": "100%"
      }
     },
     "13a11b1465cb49d489227915a3bfb63a": {
      "model_module": "@jupyter-widgets/controls",
      "model_module_version": "1.0.0",
      "model_name": "ButtonStyleModel",
      "state": {}
     },
     "168e0543cd474dfeaa04835e4c5e5d84": {
      "model_module": "@jupyter-widgets/controls",
      "model_module_version": "1.0.0",
      "model_name": "ButtonStyleModel",
      "state": {}
     },
     "168e54ef225e41c3975d2e1f2554ca70": {
      "model_module": "@jupyter-widgets/base",
      "model_module_version": "1.0.0",
      "model_name": "LayoutModel",
      "state": {}
     },
     "169debcf80b4419e8542980387e26093": {
      "model_module": "@jupyter-widgets/controls",
      "model_module_version": "1.0.0",
      "model_name": "ButtonModel",
      "state": {
       "icon": "backward",
       "layout": "IPY_MODEL_47162026549149858bda013fed6702c7",
       "style": "IPY_MODEL_89ca228d19e247a090af48b4a07c82db"
      }
     },
     "16c92559965642c89ce956df474e890f": {
      "model_module": "@jupyter-widgets/controls",
      "model_module_version": "1.0.0",
      "model_name": "SliderStyleModel",
      "state": {
       "description_width": ""
      }
     },
     "1781c65e1ad7432aab043c376dbdd8be": {
      "model_module": "@jupyter-widgets/controls",
      "model_module_version": "1.0.0",
      "model_name": "DescriptionStyleModel",
      "state": {
       "description_width": "initial"
      }
     },
     "181bfd96d7ee48f199f5530e6acfeb01": {
      "model_module": "@jupyter-widgets/controls",
      "model_module_version": "1.0.0",
      "model_name": "SelectModel",
      "state": {
       "_options_labels": [
        ""
       ],
       "description": "Features:",
       "index": 0,
       "layout": "IPY_MODEL_25ee0a15d4fc4cc994de95419fb848d0",
       "rows": 1,
       "style": "IPY_MODEL_306472fb958f483495f1d8d0ca116b4d"
      }
     },
     "18d4a0fdf0154d0fbff544c57f501e00": {
      "model_module": "@jupyter-widgets/controls",
      "model_module_version": "1.0.0",
      "model_name": "DescriptionStyleModel",
      "state": {
       "description_width": "initial"
      }
     },
     "1a8fe531f6de484e978d0d214040431c": {
      "model_module": "@jupyter-widgets/controls",
      "model_module_version": "1.0.0",
      "model_name": "SliderStyleModel",
      "state": {
       "description_width": ""
      }
     },
     "1b38e791573641319e6b2b54f7e55161": {
      "model_module": "@jupyter-widgets/controls",
      "model_module_version": "1.0.0",
      "model_name": "DescriptionStyleModel",
      "state": {
       "description_width": ""
      }
     },
     "1d4c032d8c8b4dbfa30c4dc0c789d907": {
      "model_module": "@jupyter-widgets/base",
      "model_module_version": "1.0.0",
      "model_name": "LayoutModel",
      "state": {
       "width": "100%"
      }
     },
     "1d57314b536e4fdcbc8aa34e1ee2f45b": {
      "model_module": "@jupyter-widgets/controls",
      "model_module_version": "1.0.0",
      "model_name": "SelectModel",
      "state": {
       "_options_labels": [
        ""
       ],
       "description": "Features:",
       "index": 0,
       "layout": "IPY_MODEL_b2a5ad1f61dc4ac6aa46d72d82ecab5a",
       "rows": 1,
       "style": "IPY_MODEL_8b726c5a269a4baaa0f305578d362fec"
      }
     },
     "1d822192a81d45919ff68c9ffc1a3d81": {
      "model_module": "@jupyter-widgets/base",
      "model_module_version": "1.0.0",
      "model_name": "LayoutModel",
      "state": {}
     },
     "1e20e8913c244e028f56e7bc84e3abe0": {
      "model_module": "@jupyter-widgets/controls",
      "model_module_version": "1.0.0",
      "model_name": "HBoxModel",
      "state": {
       "children": [
        "IPY_MODEL_561bc14c1d6445f88bd574ebd08ab4ed",
        "IPY_MODEL_fa3b54a5292b4a148218e263a0b17496"
       ],
       "layout": "IPY_MODEL_afc4910b1e1040ef93737a4f81d1f21b"
      }
     },
     "1e3fedd2465b43f4952557038ad1abc4": {
      "model_module": "@jupyter-widgets/controls",
      "model_module_version": "1.0.0",
      "model_name": "FloatTextModel",
      "state": {
       "description": "Leftmost color maps to:",
       "layout": "IPY_MODEL_4f11049f59fb4d6a95ff1eb072a945b3",
       "step": null,
       "style": "IPY_MODEL_a4f27924d9314a6fa5e11e550147f0b7",
       "value": -1
      }
     },
     "2020822ea6d142efb92ec8f0d0aa7367": {
      "model_module": "@jupyter-widgets/controls",
      "model_module_version": "1.0.0",
      "model_name": "DescriptionStyleModel",
      "state": {
       "description_width": ""
      }
     },
     "204c2825f7774a3385a9777cd4693743": {
      "model_module": "@jupyter-widgets/controls",
      "model_module_version": "1.0.0",
      "model_name": "SelectModel",
      "state": {
       "_options_labels": [
        "Test",
        "Train"
       ],
       "description": "Dataset:",
       "index": 1,
       "layout": "IPY_MODEL_a487f37ddf984d8482cede4586c43225",
       "rows": 1,
       "style": "IPY_MODEL_cc315036569344bbad10b36a464e8d50"
      }
     },
     "20a583eb7eaf42099de0f694955df394": {
      "model_module": "@jupyter-widgets/controls",
      "model_module_version": "1.0.0",
      "model_name": "DescriptionStyleModel",
      "state": {
       "description_width": ""
      }
     },
     "20fcfc2012404271aee67117de55e023": {
      "model_module": "@jupyter-widgets/controls",
      "model_module_version": "1.0.0",
      "model_name": "ButtonStyleModel",
      "state": {}
     },
     "22fcdc97944742d3afda2e770dadd54e": {
      "model_module": "@jupyter-widgets/controls",
      "model_module_version": "1.0.0",
      "model_name": "DescriptionStyleModel",
      "state": {
       "description_width": "initial"
      }
     },
     "23036e3dff07463988351d0b16385554": {
      "model_module": "@jupyter-widgets/controls",
      "model_module_version": "1.0.0",
      "model_name": "CheckboxModel",
      "state": {
       "description": "Errors",
       "disabled": false,
       "layout": "IPY_MODEL_98c5884a70e841158a7a593608286ae0",
       "style": "IPY_MODEL_7ac597785aef4214a1874d9346963861",
       "value": false
      }
     },
     "23ed2782bfee4a59ba87053482c1e8f0": {
      "model_module": "@jupyter-widgets/controls",
      "model_module_version": "1.0.0",
      "model_name": "FloatTextModel",
      "state": {
       "description": "Feature scale:",
       "layout": "IPY_MODEL_fb35b99c317a4c84b12bd7cba1501804",
       "step": null,
       "style": "IPY_MODEL_22fcdc97944742d3afda2e770dadd54e",
       "value": 2
      }
     },
     "254135f4b8e048a78afeee7fd4047569": {
      "model_module": "@jupyter-widgets/base",
      "model_module_version": "1.0.0",
      "model_name": "LayoutModel",
      "state": {}
     },
     "258c1b4d351a4c16aa14b85102f0ef4a": {
      "model_module": "@jupyter-widgets/output",
      "model_module_version": "1.0.0",
      "model_name": "OutputModel",
      "state": {
       "layout": "IPY_MODEL_168e54ef225e41c3975d2e1f2554ca70"
      }
     },
     "25ee0a15d4fc4cc994de95419fb848d0": {
      "model_module": "@jupyter-widgets/base",
      "model_module_version": "1.0.0",
      "model_name": "LayoutModel",
      "state": {}
     },
     "261cb46bf5334ab9a95b4c8868fcee50": {
      "model_module": "@jupyter-widgets/controls",
      "model_module_version": "1.0.0",
      "model_name": "FloatTextModel",
      "state": {
       "description": "Leftmost color maps to:",
       "layout": "IPY_MODEL_ba4a69646e08405c9b867f535611d8bd",
       "step": null,
       "style": "IPY_MODEL_52d3e0cbbdc848aa88e35ddefe87315a",
       "value": -1
      }
     },
     "27a4408f928447cda0be1cdb30a83924": {
      "model_module": "@jupyter-widgets/controls",
      "model_module_version": "1.0.0",
      "model_name": "ButtonModel",
      "state": {
       "icon": "fast-forward",
       "layout": "IPY_MODEL_bb3a8f3c01bd4be4b64ad6237a87a515",
       "style": "IPY_MODEL_bf62b1657e764a4a89b49e14d047ea23"
      }
     },
     "27e95630901d410e898a3cfaded46aa8": {
      "model_module": "@jupyter-widgets/base",
      "model_module_version": "1.0.0",
      "model_name": "LayoutModel",
      "state": {
       "width": "100%"
      }
     },
     "283c98482a524e4aab85941d39faf694": {
      "model_module": "@jupyter-widgets/base",
      "model_module_version": "1.0.0",
      "model_name": "LayoutModel",
      "state": {
       "width": "100%"
      }
     },
     "285186c2c53c41d8b09572d4b7357f7a": {
      "model_module": "@jupyter-widgets/controls",
      "model_module_version": "1.0.0",
      "model_name": "HTMLModel",
      "state": {
       "layout": "IPY_MODEL_33eaa4b1fd714d718d5a2bd49a44b25b",
       "style": "IPY_MODEL_b569ca87b4f844e3bd7234c1e8019879",
       "value": "<img src=\"data:image/gif;base64,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\"/>"
      }
     },
     "287edda6b88d479abac1b976a0833bfa": {
      "model_module": "@jupyter-widgets/base",
      "model_module_version": "1.0.0",
      "model_name": "LayoutModel",
      "state": {}
     },
     "299e7434d5d9472098ba64443a1ecc43": {
      "model_module": "@jupyter-widgets/base",
      "model_module_version": "1.0.0",
      "model_name": "LayoutModel",
      "state": {
       "height": "40px"
      }
     },
     "29f93ffc90d14d918a77290ef7eccf64": {
      "model_module": "@jupyter-widgets/base",
      "model_module_version": "1.0.0",
      "model_name": "LayoutModel",
      "state": {}
     },
     "2c7b028c9030499bbc4daa2a2bcd1d8c": {
      "model_module": "@jupyter-widgets/controls",
      "model_module_version": "1.0.0",
      "model_name": "VBoxModel",
      "state": {
       "children": [
        "IPY_MODEL_8d0940fc773c41739b633c2d06acfe32",
        "IPY_MODEL_fc845f8cd4424df7add26174e9d9431d",
        "IPY_MODEL_904fc2e80871421ea4a47719ce030a4b",
        "IPY_MODEL_b2bd8ce20598495ba41394ca43b8bfbc"
       ],
       "layout": "IPY_MODEL_bfe6ed64fde144f6925c101214b7509f"
      }
     },
     "2d6ee6eb8aa74b74ad1ee9d62d5d513b": {
      "model_module": "@jupyter-widgets/controls",
      "model_module_version": "1.0.0",
      "model_name": "DescriptionStyleModel",
      "state": {
       "description_width": "initial"
      }
     },
     "2dcfb5c6932e449e9cb6021d987f3c71": {
      "model_module": "@jupyter-widgets/controls",
      "model_module_version": "1.0.0",
      "model_name": "VBoxModel",
      "state": {
       "children": [
        "IPY_MODEL_b33df6f1c26243928b6e8f2ecc964b0a",
        "IPY_MODEL_07fe3f9fee0c4e6f8cdcb9e12b1d70da",
        "IPY_MODEL_927ee4f696ce4c738ad8d7b4ba56ee71",
        "IPY_MODEL_ac7fadde27f84a7192c7f09b1acc7be1",
        "IPY_MODEL_647b0a8486264c658914e0e53ab67ef8",
        "IPY_MODEL_9a3686b1ce3045ff91c5d4af5ac9475e",
        "IPY_MODEL_5771a9c5e96c45169cf57517e06204fa"
       ],
       "layout": "IPY_MODEL_de915e8137b4483f81c3076fa06feb84"
      }
     },
     "2ddfc048960a4417b7e2c5e648566b07": {
      "model_module": "@jupyter-widgets/controls",
      "model_module_version": "1.0.0",
      "model_name": "DescriptionStyleModel",
      "state": {
       "description_width": ""
      }
     },
     "2e2f4186e7204eb8b9cb1a499e500b3f": {
      "model_module": "@jupyter-widgets/base",
      "model_module_version": "1.0.0",
      "model_name": "LayoutModel",
      "state": {}
     },
     "300c47b9c8534ba2ad8c12f7e0c011aa": {
      "model_module": "@jupyter-widgets/controls",
      "model_module_version": "1.0.0",
      "model_name": "HBoxModel",
      "state": {
       "children": [
        "IPY_MODEL_74992c722cd747429282721c4bd38cec",
        "IPY_MODEL_6b5f677ec1b34702a970ed9897c8a7e9"
       ],
       "layout": "IPY_MODEL_1d822192a81d45919ff68c9ffc1a3d81"
      }
     },
     "306472fb958f483495f1d8d0ca116b4d": {
      "model_module": "@jupyter-widgets/controls",
      "model_module_version": "1.0.0",
      "model_name": "DescriptionStyleModel",
      "state": {
       "description_width": ""
      }
     },
     "30c73e8aa24946eaad19ac01ac214ae9": {
      "model_module": "@jupyter-widgets/base",
      "model_module_version": "1.0.0",
      "model_name": "LayoutModel",
      "state": {
       "width": "100%"
      }
     },
     "31091b68052b4df791520da2ffa043b0": {
      "model_module": "@jupyter-widgets/controls",
      "model_module_version": "1.0.0",
      "model_name": "ButtonStyleModel",
      "state": {}
     },
     "31550ce486b04f97803480682553afe8": {
      "model_module": "@jupyter-widgets/controls",
      "model_module_version": "1.0.0",
      "model_name": "IntTextModel",
      "state": {
       "description": "Feature columns:",
       "layout": "IPY_MODEL_8ade5bd038f14058bb6df7a3278c4d28",
       "step": 1,
       "style": "IPY_MODEL_1781c65e1ad7432aab043c376dbdd8be",
       "value": 3
      }
     },
     "325a29b8a5a74c449689b58396c8cfac": {
      "model_module": "@jupyter-widgets/controls",
      "model_module_version": "1.0.0",
      "model_name": "VBoxModel",
      "state": {
       "children": [
        "IPY_MODEL_0548712503b3496486b47d91984c33da",
        "IPY_MODEL_b666c8a9d8954b6a9de64e658b5d22f4"
       ],
       "layout": "IPY_MODEL_27e95630901d410e898a3cfaded46aa8"
      }
     },
     "3301e8c524f14b97952b38637e6f2381": {
      "model_module": "@jupyter-widgets/controls",
      "model_module_version": "1.0.0",
      "model_name": "IntTextModel",
      "state": {
       "description": "Horizontal space between banks:",
       "layout": "IPY_MODEL_98c5884a70e841158a7a593608286ae0",
       "step": 1,
       "style": "IPY_MODEL_ef2fa2b857da4bb1ad499beea424f7f3",
       "value": 150
      }
     },
     "33792ae35b7348d089be1a1986b2843b": {
      "model_module": "@jupyter-widgets/controls",
      "model_module_version": "1.0.0",
      "model_name": "ButtonModel",
      "state": {
       "icon": "fast-forward",
       "layout": "IPY_MODEL_c7ec565d74884dccaa8c891ceb6923d4",
       "style": "IPY_MODEL_4360c75261574b7095f728a900fbcc88"
      }
     },
     "33d88684f41240d69be555e4ab183380": {
      "model_module": "@jupyter-widgets/controls",
      "model_module_version": "1.0.0",
      "model_name": "ButtonStyleModel",
      "state": {}
     },
     "33eaa4b1fd714d718d5a2bd49a44b25b": {
      "model_module": "@jupyter-widgets/base",
      "model_module_version": "1.0.0",
      "model_name": "LayoutModel",
      "state": {}
     },
     "34256888558e42e3b0fefdf99a0d5c24": {
      "model_module": "@jupyter-widgets/base",
      "model_module_version": "1.0.0",
      "model_name": "LayoutModel",
      "state": {
       "width": "100%"
      }
     },
     "372fbd043f1640fd88c0bad3e1f9be33": {
      "model_module": "@jupyter-widgets/controls",
      "model_module_version": "1.0.0",
      "model_name": "FloatSliderModel",
      "state": {
       "continuous_update": false,
       "description": "Zoom",
       "layout": "IPY_MODEL_f42317cc60ef49b1b15f065b9be9d982",
       "max": 3,
       "min": 0.5,
       "step": 0.1,
       "style": "IPY_MODEL_16c92559965642c89ce956df474e890f",
       "value": 1
      }
     },
     "3767a9a0f5b94c2796307b02a6f7d42d": {
      "model_module": "@jupyter-widgets/controls",
      "model_module_version": "1.0.0",
      "model_name": "DescriptionStyleModel",
      "state": {
       "description_width": "initial"
      }
     },
     "38022f3fdd2f432ea095879d23e5ed20": {
      "model_module": "@jupyter-widgets/controls",
      "model_module_version": "1.0.0",
      "model_name": "CheckboxModel",
      "state": {
       "description": "Visible",
       "disabled": false,
       "layout": "IPY_MODEL_98c5884a70e841158a7a593608286ae0",
       "style": "IPY_MODEL_a5f17f9a28ac48e19baa8c4d39844197",
       "value": true
      }
     },
     "3bc74df98e964a8bbbed9dca4414f825": {
      "model_module": "@jupyter-widgets/controls",
      "model_module_version": "1.0.0",
      "model_name": "FloatTextModel",
      "state": {
       "description": "Rightmost color maps to:",
       "layout": "IPY_MODEL_bbc40aab9e7b4a3ca9c04b6c7a7e7225",
       "step": null,
       "style": "IPY_MODEL_2d6ee6eb8aa74b74ad1ee9d62d5d513b",
       "value": 1
      }
     },
     "3c8ab49e84f840488833092b4567d6c3": {
      "model_module": "@jupyter-widgets/base",
      "model_module_version": "1.0.0",
      "model_name": "LayoutModel",
      "state": {
       "width": "100%"
      }
     },
     "3e3b720f52a14c969e093cdba9ea219f": {
      "model_module": "@jupyter-widgets/controls",
      "model_module_version": "1.0.0",
      "model_name": "IntTextModel",
      "state": {
       "description": "Vertical space between layers:",
       "layout": "IPY_MODEL_0169d3a3fc6f45a9a227e73e7898c690",
       "step": 1,
       "style": "IPY_MODEL_d1f16a3c3bbb47819885ebaad28574d2",
       "value": 30
      }
     },
     "403ba0e0b22f49f6befe480ee1bfac79": {
      "model_module": "@jupyter-widgets/controls",
      "model_module_version": "1.0.0",
      "model_name": "FloatSliderModel",
      "state": {
       "continuous_update": false,
       "description": "Zoom",
       "layout": "IPY_MODEL_ebec195cfcbd498384d2a7ba31f48831",
       "max": 3,
       "min": 0.5,
       "step": 0.1,
       "style": "IPY_MODEL_0eddae12f0a6452aafeccb54da6a203f",
       "value": 1
      }
     },
     "414e213cad7641f89b0fca058db7237f": {
      "model_module": "@jupyter-widgets/base",
      "model_module_version": "1.0.0",
      "model_name": "LayoutModel",
      "state": {}
     },
     "41952e84b1fe463c8d75659723a5a04c": {
      "model_module": "@jupyter-widgets/controls",
      "model_module_version": "1.0.0",
      "model_name": "IntTextModel",
      "state": {
       "description": "Vertical space between layers:",
       "layout": "IPY_MODEL_98c5884a70e841158a7a593608286ae0",
       "step": 1,
       "style": "IPY_MODEL_8be780f6904f4abb8c0bf80236c181c7",
       "value": 30
      }
     },
     "41dd1f7a577a46e9b487ec024cc4ed82": {
      "model_module": "@jupyter-widgets/base",
      "model_module_version": "1.0.0",
      "model_name": "LayoutModel",
      "state": {}
     },
     "4244d2dd6ee34afda319679148d64cab": {
      "model_module": "@jupyter-widgets/base",
      "model_module_version": "1.0.0",
      "model_name": "LayoutModel",
      "state": {
       "width": "100%"
      }
     },
     "4360c75261574b7095f728a900fbcc88": {
      "model_module": "@jupyter-widgets/controls",
      "model_module_version": "1.0.0",
      "model_name": "ButtonStyleModel",
      "state": {}
     },
     "43ffc526d81a49ffb4c7795d0a1d8a12": {
      "model_module": "@jupyter-widgets/controls",
      "model_module_version": "1.0.0",
      "model_name": "DescriptionStyleModel",
      "state": {
       "description_width": ""
      }
     },
     "448bf2883c7c4a74b3cdfcb1a82d8eb1": {
      "model_module": "@jupyter-widgets/controls",
      "model_module_version": "1.0.0",
      "model_name": "LabelModel",
      "state": {
       "layout": "IPY_MODEL_9bc367ed8d6e49f18a1d1d90fc7e5311",
       "style": "IPY_MODEL_b5ca7836694745a082e96b81a0a49ed1",
       "value": "of 0"
      }
     },
     "47162026549149858bda013fed6702c7": {
      "model_module": "@jupyter-widgets/base",
      "model_module_version": "1.0.0",
      "model_name": "LayoutModel",
      "state": {
       "width": "100%"
      }
     },
     "471e3dde34e944a38a9718e7118d28c0": {
      "model_module": "@jupyter-widgets/controls",
      "model_module_version": "1.0.0",
      "model_name": "IntTextModel",
      "state": {
       "description": "Feature columns:",
       "layout": "IPY_MODEL_f8c3ce32c15c4bf8ba474033bd3930a7",
       "step": 1,
       "style": "IPY_MODEL_7ab14ba9c81243949b92c0e514c9beb2",
       "value": 3
      }
     },
     "471f6c88229a4799bf758f24a0ac6094": {
      "model_module": "@jupyter-widgets/base",
      "model_module_version": "1.0.0",
      "model_name": "LayoutModel",
      "state": {
       "width": "100%"
      }
     },
     "481a8b178f964eadb73f32fef999c0d1": {
      "model_module": "@jupyter-widgets/controls",
      "model_module_version": "1.0.0",
      "model_name": "IntTextModel",
      "state": {
       "description": "Feature columns:",
       "layout": "IPY_MODEL_287edda6b88d479abac1b976a0833bfa",
       "step": 1,
       "style": "IPY_MODEL_3767a9a0f5b94c2796307b02a6f7d42d",
       "value": 3
      }
     },
     "49b4034ff3ca45a1b85f192d59e0451f": {
      "model_module": "@jupyter-widgets/controls",
      "model_module_version": "1.0.0",
      "model_name": "ButtonModel",
      "state": {
       "icon": "refresh",
       "layout": "IPY_MODEL_122f74197c6843beab6271bdb9e2ddef",
       "style": "IPY_MODEL_13a11b1465cb49d489227915a3bfb63a"
      }
     },
     "4a4ca491573544c7b7ba475eec7d5546": {
      "model_module": "@jupyter-widgets/controls",
      "model_module_version": "1.0.0",
      "model_name": "IntTextModel",
      "state": {
       "description": "Horizontal space between banks:",
       "layout": "IPY_MODEL_0169d3a3fc6f45a9a227e73e7898c690",
       "step": 1,
       "style": "IPY_MODEL_84aba01eead24836872ed8b8e44b2d63",
       "value": 150
      }
     },
     "4ae5fd6b06a94855994af36b2713015e": {
      "model_module": "@jupyter-widgets/controls",
      "model_module_version": "1.0.0",
      "model_name": "ButtonModel",
      "state": {
       "icon": "fast-backward",
       "layout": "IPY_MODEL_f9a1db6a0f5e4f4895c7183045a6240c",
       "style": "IPY_MODEL_c4b033b21c264489a392ce58a8d20664"
      }
     },
     "4b1ace11838a4ce68f7efd54cbd6ea4d": {
      "model_module": "@jupyter-widgets/base",
      "model_module_version": "1.0.0",
      "model_name": "LayoutModel",
      "state": {
       "width": "100%"
      }
     },
     "4b7bd006154847d5ad46ab51fba8e999": {
      "model_module": "@jupyter-widgets/base",
      "model_module_version": "1.0.0",
      "model_name": "LayoutModel",
      "state": {
       "width": "100%"
      }
     },
     "4cb07862c38a49a8a97be8622560e2d2": {
      "model_module": "@jupyter-widgets/controls",
      "model_module_version": "1.0.0",
      "model_name": "DescriptionStyleModel",
      "state": {
       "description_width": ""
      }
     },
     "4f11049f59fb4d6a95ff1eb072a945b3": {
      "model_module": "@jupyter-widgets/base",
      "model_module_version": "1.0.0",
      "model_name": "LayoutModel",
      "state": {}
     },
     "51750c2297d14cc0843899702e8d8332": {
      "model_module": "@jupyter-widgets/controls",
      "model_module_version": "1.0.0",
      "model_name": "DescriptionStyleModel",
      "state": {
       "description_width": ""
      }
     },
     "52735e6e775946549b05fa47498c8fc5": {
      "model_module": "@jupyter-widgets/controls",
      "model_module_version": "1.0.0",
      "model_name": "VBoxModel",
      "state": {
       "children": [
        "IPY_MODEL_75a21fdb5fc6450aa711d80d087045a8",
        "IPY_MODEL_0fd2e1350ca14537ab5a61ca6b1ea71e"
       ],
       "layout": "IPY_MODEL_30c73e8aa24946eaad19ac01ac214ae9"
      }
     },
     "52d3e0cbbdc848aa88e35ddefe87315a": {
      "model_module": "@jupyter-widgets/controls",
      "model_module_version": "1.0.0",
      "model_name": "DescriptionStyleModel",
      "state": {
       "description_width": "initial"
      }
     },
     "536637a856b84f97a7b9d5e591f52dad": {
      "model_module": "@jupyter-widgets/controls",
      "model_module_version": "1.0.0",
      "model_name": "IntTextModel",
      "state": {
       "description": "Feature to show:",
       "layout": "IPY_MODEL_a1c7a85aea5640689a4d2cf87208da76",
       "step": 1,
       "style": "IPY_MODEL_9de2e3f31d4845dc88b2dc0143ae31e7"
      }
     },
     "54a5fa264300423b9e9bf07a9c26f0a9": {
      "model_module": "@jupyter-widgets/controls",
      "model_module_version": "1.0.0",
      "model_name": "DescriptionStyleModel",
      "state": {
       "description_width": "initial"
      }
     },
     "561bc14c1d6445f88bd574ebd08ab4ed": {
      "model_module": "@jupyter-widgets/controls",
      "model_module_version": "1.0.0",
      "model_name": "CheckboxModel",
      "state": {
       "description": "Show Targets",
       "disabled": false,
       "layout": "IPY_MODEL_0169d3a3fc6f45a9a227e73e7898c690",
       "style": "IPY_MODEL_bc7c956e48554b96b10308b3c594ab57",
       "value": false
      }
     },
     "56d52d8c84644c9191947d2bdf449421": {
      "model_module": "@jupyter-widgets/controls",
      "model_module_version": "1.0.0",
      "model_name": "DescriptionStyleModel",
      "state": {
       "description_width": ""
      }
     },
     "5771a9c5e96c45169cf57517e06204fa": {
      "model_module": "@jupyter-widgets/controls",
      "model_module_version": "1.0.0",
      "model_name": "IntTextModel",
      "state": {
       "description": "Feature to show:",
       "layout": "IPY_MODEL_254135f4b8e048a78afeee7fd4047569",
       "step": 1,
       "style": "IPY_MODEL_c53f47c1541947d5a4b8ecd4d96a1be2"
      }
     },
     "5a43ffd2d0ef4a5c9ed369d5744599a1": {
      "model_module": "@jupyter-widgets/base",
      "model_module_version": "1.0.0",
      "model_name": "LayoutModel",
      "state": {
       "width": "100%"
      }
     },
     "5ac4e512799c4688a66946694ecbb7ac": {
      "model_module": "@jupyter-widgets/controls",
      "model_module_version": "1.0.0",
      "model_name": "DescriptionStyleModel",
      "state": {
       "description_width": "initial"
      }
     },
     "5bc3830b6e49455d98d90a0d5996fcc9": {
      "model_module": "@jupyter-widgets/controls",
      "model_module_version": "1.0.0",
      "model_name": "IntTextModel",
      "state": {
       "description": "Feature to show:",
       "layout": "IPY_MODEL_41dd1f7a577a46e9b487ec024cc4ed82",
       "step": 1,
       "style": "IPY_MODEL_f5c75bf37e1d4db0a3dd41ded5194949"
      }
     },
     "5c77fa86c1fc4cf1b3fb90bad7988699": {
      "model_module": "@jupyter-widgets/base",
      "model_module_version": "1.0.0",
      "model_name": "LayoutModel",
      "state": {}
     },
     "5c9986967a4042fa80ad315c7708cee2": {
      "model_module": "@jupyter-widgets/controls",
      "model_module_version": "1.0.0",
      "model_name": "IntTextModel",
      "state": {
       "layout": "IPY_MODEL_12788e1bb4544cc48da77aba790c5431",
       "step": 1,
       "style": "IPY_MODEL_817e4ba7448e43229419646cd9b4ef9c"
      }
     },
     "5cce0293b02c4f0383094102a0aa2ee6": {
      "model_module": "@jupyter-widgets/base",
      "model_module_version": "1.0.0",
      "model_name": "LayoutModel",
      "state": {
       "width": "100%"
      }
     },
     "5dfb5c0914a64982aeedccaeb0706980": {
      "model_module": "@jupyter-widgets/controls",
      "model_module_version": "1.0.0",
      "model_name": "DescriptionStyleModel",
      "state": {
       "description_width": "initial"
      }
     },
     "5e62b29a118247299f19419c76289605": {
      "model_module": "@jupyter-widgets/base",
      "model_module_version": "1.0.0",
      "model_name": "LayoutModel",
      "state": {}
     },
     "5f0195fe0edc4be3814e3ed930c6e256": {
      "model_module": "@jupyter-widgets/controls",
      "model_module_version": "1.0.0",
      "model_name": "ButtonStyleModel",
      "state": {}
     },
     "5f4addefc1254b799ba5ba4732430aef": {
      "model_module": "@jupyter-widgets/controls",
      "model_module_version": "1.0.0",
      "model_name": "ButtonModel",
      "state": {
       "description": "Play",
       "icon": "play",
       "layout": "IPY_MODEL_a537ba234a204d8e81a5f3e42a8be982",
       "style": "IPY_MODEL_5f0195fe0edc4be3814e3ed930c6e256"
      }
     },
     "5fa19e8bc33348cb9cd8ef9312763e5b": {
      "model_module": "@jupyter-widgets/base",
      "model_module_version": "1.0.0",
      "model_name": "LayoutModel",
      "state": {
       "width": "100%"
      }
     },
     "603990cafed549e3b2cabc8ad16794ee": {
      "model_module": "@jupyter-widgets/controls",
      "model_module_version": "1.0.0",
      "model_name": "SelectModel",
      "state": {
       "_options_labels": [
        "Test",
        "Train"
       ],
       "description": "Dataset:",
       "index": 1,
       "layout": "IPY_MODEL_cdeb142d2fe9408aad8291f7501a8ebc",
       "rows": 1,
       "style": "IPY_MODEL_c900be021bf844028746b90865c92d58"
      }
     },
     "61864ed05f054a23af399eed300a179e": {
      "model_module": "@jupyter-widgets/base",
      "model_module_version": "1.0.0",
      "model_name": "LayoutModel",
      "state": {
       "height": "50px",
       "width": "100%"
      }
     },
     "6208a7164a674cd8832c7e6c8a1cf26a": {
      "model_module": "@jupyter-widgets/base",
      "model_module_version": "1.0.0",
      "model_name": "LayoutModel",
      "state": {
       "width": "100%"
      }
     },
     "633dd50f667042b78b4a49d33fff3db7": {
      "model_module": "@jupyter-widgets/base",
      "model_module_version": "1.0.0",
      "model_name": "LayoutModel",
      "state": {
       "width": "100%"
      }
     },
     "647b0a8486264c658914e0e53ab67ef8": {
      "model_module": "@jupyter-widgets/controls",
      "model_module_version": "1.0.0",
      "model_name": "FloatTextModel",
      "state": {
       "description": "Leftmost color maps to:",
       "layout": "IPY_MODEL_2e2f4186e7204eb8b9cb1a499e500b3f",
       "step": null,
       "style": "IPY_MODEL_18d4a0fdf0154d0fbff544c57f501e00",
       "value": -1
      }
     },
     "66793f3b947c4c24887b2397d124f4d3": {
      "model_module": "@jupyter-widgets/controls",
      "model_module_version": "1.0.0",
      "model_name": "ButtonModel",
      "state": {
       "description": "Play",
       "icon": "play",
       "layout": "IPY_MODEL_471f6c88229a4799bf758f24a0ac6094",
       "style": "IPY_MODEL_9d572a8355f8490baa790fde3e2b65ad"
      }
     },
     "66f896af10724f15a76c65dcbcbbc8ed": {
      "model_module": "@jupyter-widgets/controls",
      "model_module_version": "1.0.0",
      "model_name": "SliderStyleModel",
      "state": {
       "description_width": ""
      }
     },
     "69f6fd45c898489dad9e002e947fab80": {
      "model_module": "@jupyter-widgets/controls",
      "model_module_version": "1.0.0",
      "model_name": "ButtonStyleModel",
      "state": {}
     },
     "6b5f677ec1b34702a970ed9897c8a7e9": {
      "model_module": "@jupyter-widgets/controls",
      "model_module_version": "1.0.0",
      "model_name": "VBoxModel",
      "state": {
       "children": [
        "IPY_MODEL_7b538ac77a474a2ea54598226e8259d5",
        "IPY_MODEL_eeac0c304a0b4b5387503f00ec61295d",
        "IPY_MODEL_77142c99af22440d80207222cdcdec59",
        "IPY_MODEL_8fbcc5bcf40246cebacf292a42539984",
        "IPY_MODEL_1e3fedd2465b43f4952557038ad1abc4",
        "IPY_MODEL_e9a03fb5cd084c4496b03b6befa388ea",
        "IPY_MODEL_536637a856b84f97a7b9d5e591f52dad"
       ],
       "layout": "IPY_MODEL_6208a7164a674cd8832c7e6c8a1cf26a"
      }
     },
     "6c97aa815d3345c8a0f2f53a34ddc8eb": {
      "model_module": "@jupyter-widgets/controls",
      "model_module_version": "1.0.0",
      "model_name": "IntSliderModel",
      "state": {
       "continuous_update": false,
       "description": "Dataset index",
       "layout": "IPY_MODEL_4b7bd006154847d5ad46ab51fba8e999",
       "max": 0,
       "style": "IPY_MODEL_1a8fe531f6de484e978d0d214040431c"
      }
     },
     "6ca4a96a067c40fb978fe14f7e7512e5": {
      "model_module": "@jupyter-widgets/base",
      "model_module_version": "1.0.0",
      "model_name": "LayoutModel",
      "state": {}
     },
     "6e295a0664bc438aa6b4ad223277ee33": {
      "model_module": "@jupyter-widgets/controls",
      "model_module_version": "1.0.0",
      "model_name": "DescriptionStyleModel",
      "state": {
       "description_width": "initial"
      }
     },
     "6eaec4e8878d4cb3b412954da969416f": {
      "model_module": "@jupyter-widgets/controls",
      "model_module_version": "1.0.0",
      "model_name": "ButtonModel",
      "state": {
       "description": "Play",
       "icon": "play",
       "layout": "IPY_MODEL_3c8ab49e84f840488833092b4567d6c3",
       "style": "IPY_MODEL_10e3f25a69be438196dfe22b8c038e5c"
      }
     },
     "6fb426651637499a88ed22966696ccf5": {
      "model_module": "@jupyter-widgets/base",
      "model_module_version": "1.0.0",
      "model_name": "LayoutModel",
      "state": {
       "width": "100%"
      }
     },
     "707234fed8ad4e78863ad0152d8e651a": {
      "model_module": "@jupyter-widgets/controls",
      "model_module_version": "1.0.0",
      "model_name": "ButtonModel",
      "state": {
       "icon": "backward",
       "layout": "IPY_MODEL_4b1ace11838a4ce68f7efd54cbd6ea4d",
       "style": "IPY_MODEL_aca5ab0ed49d4827bdf27470be4426a4"
      }
     },
     "70cb4e0d172d426790eb549f981af6d9": {
      "model_module": "@jupyter-widgets/controls",
      "model_module_version": "1.0.0",
      "model_name": "DescriptionStyleModel",
      "state": {
       "description_width": ""
      }
     },
     "71c8426f46af43a58dcbb7ada2408831": {
      "model_module": "@jupyter-widgets/base",
      "model_module_version": "1.0.0",
      "model_name": "LayoutModel",
      "state": {}
     },
     "7385c114c4fb4bd48e7024f5b538899d": {
      "model_module": "@jupyter-widgets/controls",
      "model_module_version": "1.0.0",
      "model_name": "DescriptionStyleModel",
      "state": {
       "description_width": ""
      }
     },
     "73fdf61c3de3489897a4eb02cf546b82": {
      "model_module": "@jupyter-widgets/controls",
      "model_module_version": "1.0.0",
      "model_name": "DescriptionStyleModel",
      "state": {
       "description_width": "initial"
      }
     },
     "74992c722cd747429282721c4bd38cec": {
      "model_module": "@jupyter-widgets/controls",
      "model_module_version": "1.0.0",
      "model_name": "VBoxModel",
      "state": {
       "children": [
        "IPY_MODEL_204c2825f7774a3385a9777cd4693743",
        "IPY_MODEL_403ba0e0b22f49f6befe480ee1bfac79",
        "IPY_MODEL_4a4ca491573544c7b7ba475eec7d5546",
        "IPY_MODEL_3e3b720f52a14c969e093cdba9ea219f",
        "IPY_MODEL_1e20e8913c244e028f56e7bc84e3abe0",
        "IPY_MODEL_bedcaed665db4f29aa375f36c8a056f4",
        "IPY_MODEL_481a8b178f964eadb73f32fef999c0d1",
        "IPY_MODEL_9524a3697a10457eab8f32203a6b767c"
       ],
       "layout": "IPY_MODEL_8cd3cf1b2b8b40c2817898f2447d1430"
      }
     },
     "75a21fdb5fc6450aa711d80d087045a8": {
      "model_module": "@jupyter-widgets/controls",
      "model_module_version": "1.0.0",
      "model_name": "HBoxModel",
      "state": {
       "children": [
        "IPY_MODEL_d58c231adc6b4e46b7f61fb1dcddb395",
        "IPY_MODEL_448bf2883c7c4a74b3cdfcb1a82d8eb1"
       ],
       "layout": "IPY_MODEL_8b451f05ef784bbf8804b6ceb9fdae1e"
      }
     },
     "7643b960f93946ff95873afea0e4b3bf": {
      "model_module": "@jupyter-widgets/controls",
      "model_module_version": "1.0.0",
      "model_name": "VBoxModel",
      "state": {
       "children": [
        "IPY_MODEL_9de37ac7ebd24a8293914a44492247b7",
        "IPY_MODEL_325a29b8a5a74c449689b58396c8cfac",
        "IPY_MODEL_839c50f25faf47a5b7a9689bba1172c9",
        "IPY_MODEL_258c1b4d351a4c16aa14b85102f0ef4a"
       ],
       "layout": "IPY_MODEL_5e62b29a118247299f19419c76289605"
      }
     },
     "76ce3da18454402f83a83899b2d86d2e": {
      "model_module": "@jupyter-widgets/controls",
      "model_module_version": "1.0.0",
      "model_name": "ButtonModel",
      "state": {
       "icon": "fast-backward",
       "layout": "IPY_MODEL_4244d2dd6ee34afda319679148d64cab",
       "style": "IPY_MODEL_a8dd5fe6d00545e7b219a1a21ae8c2d5"
      }
     },
     "77142c99af22440d80207222cdcdec59": {
      "model_module": "@jupyter-widgets/controls",
      "model_module_version": "1.0.0",
      "model_name": "SelectModel",
      "state": {
       "_options_labels": [
        "",
        "Accent",
        "Accent_r",
        "Blues",
        "Blues_r",
        "BrBG",
        "BrBG_r",
        "BuGn",
        "BuGn_r",
        "BuPu",
        "BuPu_r",
        "CMRmap",
        "CMRmap_r",
        "Dark2",
        "Dark2_r",
        "GnBu",
        "GnBu_r",
        "Greens",
        "Greens_r",
        "Greys",
        "Greys_r",
        "OrRd",
        "OrRd_r",
        "Oranges",
        "Oranges_r",
        "PRGn",
        "PRGn_r",
        "Paired",
        "Paired_r",
        "Pastel1",
        "Pastel1_r",
        "Pastel2",
        "Pastel2_r",
        "PiYG",
        "PiYG_r",
        "PuBu",
        "PuBuGn",
        "PuBuGn_r",
        "PuBu_r",
        "PuOr",
        "PuOr_r",
        "PuRd",
        "PuRd_r",
        "Purples",
        "Purples_r",
        "RdBu",
        "RdBu_r",
        "RdGy",
        "RdGy_r",
        "RdPu",
        "RdPu_r",
        "RdYlBu",
        "RdYlBu_r",
        "RdYlGn",
        "RdYlGn_r",
        "Reds",
        "Reds_r",
        "Set1",
        "Set1_r",
        "Set2",
        "Set2_r",
        "Set3",
        "Set3_r",
        "Spectral",
        "Spectral_r",
        "Vega10",
        "Vega10_r",
        "Vega20",
        "Vega20_r",
        "Vega20b",
        "Vega20b_r",
        "Vega20c",
        "Vega20c_r",
        "Wistia",
        "Wistia_r",
        "YlGn",
        "YlGnBu",
        "YlGnBu_r",
        "YlGn_r",
        "YlOrBr",
        "YlOrBr_r",
        "YlOrRd",
        "YlOrRd_r",
        "afmhot",
        "afmhot_r",
        "autumn",
        "autumn_r",
        "binary",
        "binary_r",
        "bone",
        "bone_r",
        "brg",
        "brg_r",
        "bwr",
        "bwr_r",
        "cool",
        "cool_r",
        "coolwarm",
        "coolwarm_r",
        "copper",
        "copper_r",
        "cubehelix",
        "cubehelix_r",
        "flag",
        "flag_r",
        "gist_earth",
        "gist_earth_r",
        "gist_gray",
        "gist_gray_r",
        "gist_heat",
        "gist_heat_r",
        "gist_ncar",
        "gist_ncar_r",
        "gist_rainbow",
        "gist_rainbow_r",
        "gist_stern",
        "gist_stern_r",
        "gist_yarg",
        "gist_yarg_r",
        "gnuplot",
        "gnuplot2",
        "gnuplot2_r",
        "gnuplot_r",
        "gray",
        "gray_r",
        "hot",
        "hot_r",
        "hsv",
        "hsv_r",
        "inferno",
        "inferno_r",
        "jet",
        "jet_r",
        "magma",
        "magma_r",
        "nipy_spectral",
        "nipy_spectral_r",
        "ocean",
        "ocean_r",
        "pink",
        "pink_r",
        "plasma",
        "plasma_r",
        "prism",
        "prism_r",
        "rainbow",
        "rainbow_r",
        "seismic",
        "seismic_r",
        "spectral",
        "spectral_r",
        "spring",
        "spring_r",
        "summer",
        "summer_r",
        "tab10",
        "tab10_r",
        "tab20",
        "tab20_r",
        "tab20b",
        "tab20b_r",
        "tab20c",
        "tab20c_r",
        "terrain",
        "terrain_r",
        "viridis",
        "viridis_r",
        "winter",
        "winter_r"
       ],
       "description": "Colormap:",
       "index": 0,
       "layout": "IPY_MODEL_0169d3a3fc6f45a9a227e73e7898c690",
       "rows": 1,
       "style": "IPY_MODEL_cd6dd089270f486488cac23b30d1f58f"
      }
     },
     "78e2e8afe5d24ebba61c39f25a9bfc10": {
      "model_module": "@jupyter-widgets/output",
      "model_module_version": "1.0.0",
      "model_name": "OutputModel",
      "state": {
       "layout": "IPY_MODEL_0fd2943c128245eb86f78ee5c32736d7"
      }
     },
     "7921ae1754be4168a4339b1a4ae80583": {
      "model_module": "@jupyter-widgets/controls",
      "model_module_version": "1.0.0",
      "model_name": "IntSliderModel",
      "state": {
       "continuous_update": false,
       "description": "Dataset index",
       "layout": "IPY_MODEL_816b14635aac42328435b08d47e4f8be",
       "max": 0,
       "style": "IPY_MODEL_9d0f809b45164d88915f8c570ac04125"
      }
     },
     "7a37f3f0139546f7842714c446c2b796": {
      "model_module": "@jupyter-widgets/controls",
      "model_module_version": "1.0.0",
      "model_name": "HBoxModel",
      "state": {
       "children": [
        "IPY_MODEL_9098176260c840efa41b19cd2a69f4ad",
        "IPY_MODEL_e9606a18df9f44aa9e3e021d393ce31e"
       ],
       "layout": "IPY_MODEL_ff620c321f02417f920ea10302767c4b"
      }
     },
     "7a3928ecf32f48d8ab8e3884ba3f9027": {
      "model_module": "@jupyter-widgets/base",
      "model_module_version": "1.0.0",
      "model_name": "LayoutModel",
      "state": {
       "justify_content": "center",
       "overflow_x": "auto",
       "overflow_y": "auto",
       "width": "95%"
      }
     },
     "7ab14ba9c81243949b92c0e514c9beb2": {
      "model_module": "@jupyter-widgets/controls",
      "model_module_version": "1.0.0",
      "model_name": "DescriptionStyleModel",
      "state": {
       "description_width": "initial"
      }
     },
     "7ac597785aef4214a1874d9346963861": {
      "model_module": "@jupyter-widgets/controls",
      "model_module_version": "1.0.0",
      "model_name": "DescriptionStyleModel",
      "state": {
       "description_width": "initial"
      }
     },
     "7b538ac77a474a2ea54598226e8259d5": {
      "model_module": "@jupyter-widgets/controls",
      "model_module_version": "1.0.0",
      "model_name": "SelectModel",
      "state": {
       "_options_labels": [
        "input1",
        "hidden1",
        "output1"
       ],
       "description": "Layer:",
       "index": 2,
       "layout": "IPY_MODEL_84c58b605b384c5da418ac89007230fb",
       "rows": 1,
       "style": "IPY_MODEL_d307c84891b7469aa8110b616c2bc820"
      }
     },
     "7d6d65e6338e4ac99f3a2e28bb85a5a7": {
      "model_module": "@jupyter-widgets/controls",
      "model_module_version": "1.0.0",
      "model_name": "DescriptionStyleModel",
      "state": {
       "description_width": ""
      }
     },
     "816b14635aac42328435b08d47e4f8be": {
      "model_module": "@jupyter-widgets/base",
      "model_module_version": "1.0.0",
      "model_name": "LayoutModel",
      "state": {
       "width": "100%"
      }
     },
     "817e4ba7448e43229419646cd9b4ef9c": {
      "model_module": "@jupyter-widgets/controls",
      "model_module_version": "1.0.0",
      "model_name": "DescriptionStyleModel",
      "state": {
       "description_width": ""
      }
     },
     "839c50f25faf47a5b7a9689bba1172c9": {
      "model_module": "@jupyter-widgets/controls",
      "model_module_version": "1.0.0",
      "model_name": "HTMLModel",
      "state": {
       "layout": "IPY_MODEL_a5121c1fc06a4250b7df563f0ab8ecc4",
       "style": "IPY_MODEL_43ffc526d81a49ffb4c7795d0a1d8a12",
       "value": "<p style=\"text-align:center\"><svg id='XOR Network' xmlns='http://www.w3.org/2000/svg' viewBox=\"0 0 350 250\" height=\"780\" image-rendering=\"pixelated\">\n    <defs>\n        <marker id=\"arrow\" markerWidth=\"10\" markerHeight=\"10\" refX=\"9\" refY=\"3\" orient=\"auto\" markerUnits=\"strokeWidth\">\n          <path d=\"M0,0 L0,6 L9,3 z\" fill=\"black\" />\n        </marker>\n    </defs><text x=\"175.0\" y=\"12.5\" font-family=\"monospace\" font-size=\"15\" text-anchor=\"middle\" alignment-baseline=\"central\">XOR Network</text><rect x=\"149.0\" y=\"24\" width=\"52\" height=\"52\" style=\"fill:none;stroke:black;stroke-width:2\"/><image id=\"XOR Network_output1_7\" class=\"XOR Network_output1\" x=\"150.0\" y=\"25\" height=\"50\" width=\"50\" preserveAspectRatio=\"none\" href=\"data:image/gif;base64,R0lGODdhAQABAIcAAAAA/wAAAAAAAAAAAAAAAAAAAAAAAAAAAAAAAAAAAAAAAAAAAAAAAAAAAAAAAAAAAAAAAAAAAAAAAAAAAAAAAAAAAAAAAAAAAAAAAAAAAAAAAAAAAAAAAAAAAAAAAAAAAAAAAAAAAAAAAAAAAAAAAAAAAAAAAAAAAAAAAAAAAAAAAAAAAAAAAAAAAAAAAAAAAAAAAAAAAAAAAAAAAAAAAAAAAAAAAAAAAAAAAAAAAAAAAAAAAAAAAAAAAAAAAAAAAAAAAAAAAAAAAAAAAAAAAAAAAAAAAAAAAAAAAAAAAAAAAAAAAAAAAAAAAAAAAAAAAAAAAAAAAAAAAAAAAAAAAAAAAAAAAAAAAAAAAAAAAAAAAAAAAAAAAAAAAAAAAAAAAAAAAAAAAAAAAAAAAAAAAAAAAAAAAAAAAAAAAAAAAAAAAAAAAAAAAAAAAAAAAAAAAAAAAAAAAAAAAAAAAAAAAAAAAAAAAAAAAAAAAAAAAAAAAAAAAAAAAAAAAAAAAAAAAAAAAAAAAAAAAAAAAAAAAAAAAAAAAAAAAAAAAAAAAAAAAAAAAAAAAAAAAAAAAAAAAAAAAAAAAAAAAAAAAAAAAAAAAAAAAAAAAAAAAAAAAAAAAAAAAAAAAAAAAAAAAAAAAAAAAAAAAAAAAAAAAAAAAAAAAAAAAAAAAAAAAAAAAAAAAAAAAAAAAAAAAAAAAAAAAAAAAAAAAAAAAAAAAAAAAAAAAAAAAAAAAAAAAAAAAAAAAAAAAAAAAAAAAAAAAAAAAAAAAAAAAAAAAAAAAAAAAAAAAAAAAAAAAAAAAAAAAAAAAAAAAAAAAAAAAAAAAAAAAAAAAAAAAAAAAAAAAAAAAAAAAAAAAAAAAAAAAAAAAAAAAAAAAAAAAAAAAAAAAAAAAAAAAAAAAAAAAAAAAAAAAAAAAAAAAAAAAAAAAAAAAAAAAAAAAAAAAAAAAAAAAAAAAAAAAAAAAAAAAAAAAAAAAAAAAAAAAAAAAAAAAAAAAAAAAAAAAAAAAAAAAAAAAAAAACwAAAAAAQABAAAIBQABnAgIADs=\"><title>Layer: output1 (output)\n shape = (1,)\n Keras class = Dense\n activation = sigmoid</title></image><text x=\"205.0\" y=\"52.0\" font-family=\"monospace\" font-size=\"12\" text-anchor=\"start\" alignment-baseline=\"central\">output1</text><line x1=\"175.0\" y1=\"104\" x2=\"175.0\" y2=\"77\" stroke=\"black\" stroke-width=\"2\" marker-end=\"url(#arrow)\"><title>Weights from hidden1 to output1\n output1/kernel has shape (5, 1)\n output1/bias has shape (1,)</title></line><rect x=\"74.0\" y=\"104\" width=\"202\" height=\"42\" style=\"fill:none;stroke:black;stroke-width:2\"/><image id=\"XOR Network_hidden1_8\" class=\"XOR Network_hidden1\" x=\"75.0\" y=\"105\" height=\"40\" width=\"200\" preserveAspectRatio=\"none\" href=\"data:image/gif;base64,R0lGODdhBQABAIcAAP/9/QAAAAAAAAAAAAAAAAAAAAAAAAAAAAAAAAAAAAAAAAAAAAAAAAAAAAAAAAAAAAAAAAAAAAAAAAAAAAAAAAAAAAAAAAAAAAAAAAAAAAAAAAAAAAAAAAAAAAAAAAAAAAAAAAAAAAAAAAAAAAAAAAAAAAAAAAAAAAAAAAAAAAAAAAAAAAAAAAAAAAAAAAAAAAAAAAAAAAAAAAAAAAAAAAAAAAAAAAAAAAAAAAAAAAAAAAAAAAAAAAAAAAAAAAAAAAAAAAAAAAAAAAAAAAAAAAAAAAAAAAAAAAAAAAAAAAAAAAAAAAAAAAAAAAAAAAAAAAAAAAAAAAAAAAAAAAAAAAAAAAAAAAAAAAAAAAAAAAAAAAAAAAAAAAAAAAAAAAAAAAAAAAAAAAAAAAAAAAAAAAAAAAAAAAAAAAAAAAAAAAAAAAAAAAAAAAAAAAAAAAAAAAAAAAAAAAAAAAAAAAAAAAAAAAAAAAAAAAAAAAAAAAAAAAAAAAAAAAAAAAAAAAAAAAAAAAAAAAAAAAAAAAAAAAAAAAAAAAAAAAAAAAAAAAAAAAAAAAAAAAAAAAAAAAAAAAAAAAAAAAAAAAAAAAAAAAAAAAAAAAAAAAAAAAAAAAAAAAAAAAAAAAAAAAAAAAAAAAAAAAAAAAAAAAAAAAAAAAAAAAAAAAAAAAAAAAAAAAAAAAAAAAAAAAAAAAAAAAAAAAAAAAAAAAAAAAAAAAAAAAAAAAAAAAAAAAAAAAAAAAAAAAAAAAAAAAAAAAAAAAAAAAAAAAAAAAAAAAAAAAAAAAAAAAAAAAAAAAAAAAAAAAAAAAAAAAAAAAAAAAAAAAAAAAAAAAAAAAAAAAAAAAAAAAAAAAAAAAAAAAAAAAAAAAAAAAAAAAAAAAAAAAAAAAAAAAAAAAAAAAAAAAAAAAAAAAAAAAAAAAAAAAAAAAAAAAAAAAAAAAAAAAAAAAAAAAAAAAAAAAAAAAAAAAAAAAAAAAAAAAAAAAAAAAAAAAAAAAAAAAAAAAAAAAAAAAAAAAAAACwAAAAABQABAAAIBgABCBQYEAA7\"><title>Layer: hidden1 (hidden)\n shape = (5,)\n Keras class = Dense\n activation = relu</title></image><text x=\"280.0\" y=\"127.0\" font-family=\"monospace\" font-size=\"12\" text-anchor=\"start\" alignment-baseline=\"central\">hidden1</text><line x1=\"175.0\" y1=\"174\" x2=\"175.0\" y2=\"147\" stroke=\"black\" stroke-width=\"2\" marker-end=\"url(#arrow)\"><title>Weights from input1 to hidden1\n hidden1/kernel has shape (2, 5)\n hidden1/bias has shape (5,)</title></line><rect x=\"124.0\" y=\"174\" width=\"102\" height=\"52\" style=\"fill:none;stroke:black;stroke-width:2\"/><image id=\"XOR Network_input1_9\" class=\"XOR Network_input1\" x=\"125.0\" y=\"175\" height=\"50\" width=\"100\" preserveAspectRatio=\"none\" href=\"data:image/gif;base64,R0lGODdhAgABAIcAAP/9/QAAAAAAAAAAAAAAAAAAAAAAAAAAAAAAAAAAAAAAAAAAAAAAAAAAAAAAAAAAAAAAAAAAAAAAAAAAAAAAAAAAAAAAAAAAAAAAAAAAAAAAAAAAAAAAAAAAAAAAAAAAAAAAAAAAAAAAAAAAAAAAAAAAAAAAAAAAAAAAAAAAAAAAAAAAAAAAAAAAAAAAAAAAAAAAAAAAAAAAAAAAAAAAAAAAAAAAAAAAAAAAAAAAAAAAAAAAAAAAAAAAAAAAAAAAAAAAAAAAAAAAAAAAAAAAAAAAAAAAAAAAAAAAAAAAAAAAAAAAAAAAAAAAAAAAAAAAAAAAAAAAAAAAAAAAAAAAAAAAAAAAAAAAAAAAAAAAAAAAAAAAAAAAAAAAAAAAAAAAAAAAAAAAAAAAAAAAAAAAAAAAAAAAAAAAAAAAAAAAAAAAAAAAAAAAAAAAAAAAAAAAAAAAAAAAAAAAAAAAAAAAAAAAAAAAAAAAAAAAAAAAAAAAAAAAAAAAAAAAAAAAAAAAAAAAAAAAAAAAAAAAAAAAAAAAAAAAAAAAAAAAAAAAAAAAAAAAAAAAAAAAAAAAAAAAAAAAAAAAAAAAAAAAAAAAAAAAAAAAAAAAAAAAAAAAAAAAAAAAAAAAAAAAAAAAAAAAAAAAAAAAAAAAAAAAAAAAAAAAAAAAAAAAAAAAAAAAAAAAAAAAAAAAAAAAAAAAAAAAAAAAAAAAAAAAAAAAAAAAAAAAAAAAAAAAAAAAAAAAAAAAAAAAAAAAAAAAAAAAAAAAAAAAAAAAAAAAAAAAAAAAAAAAAAAAAAAAAAAAAAAAAAAAAAAAAAAAAAAAAAAAAAAAAAAAAAAAAAAAAAAAAAAAAAAAAAAAAAAAAAAAAAAAAAAAAAAAAAAAAAAAAAAAAAAAAAAAAAAAAAAAAAAAAAAAAAAAAAAAAAAAAAAAAAAAAAAAAAAAAAAAAAAAAAAAAAAAAAAAAAAAAAAAAAAAAAAAAAAAAAAAAAAAAAAAAAAAAAAAAAAAAAAAAAAAAAAAAAAAACwAAAAAAgABAAAIBQABAAgIADs=\"><title>Layer: input1 (input)\n shape = (2,)\n Keras class = Input</title></image><text x=\"230.0\" y=\"202.0\" font-family=\"monospace\" font-size=\"12\" text-anchor=\"start\" alignment-baseline=\"central\">input1</text></svg></p>"
      }
     },
     "83e93eb1de54495c8657991648cfd43d": {
      "model_module": "@jupyter-widgets/controls",
      "model_module_version": "1.0.0",
      "model_name": "IntTextModel",
      "state": {
       "layout": "IPY_MODEL_633dd50f667042b78b4a49d33fff3db7",
       "step": 1,
       "style": "IPY_MODEL_902ba645b1424bd9881155cf36571aeb"
      }
     },
     "84aba01eead24836872ed8b8e44b2d63": {
      "model_module": "@jupyter-widgets/controls",
      "model_module_version": "1.0.0",
      "model_name": "DescriptionStyleModel",
      "state": {
       "description_width": "initial"
      }
     },
     "84c58b605b384c5da418ac89007230fb": {
      "model_module": "@jupyter-widgets/base",
      "model_module_version": "1.0.0",
      "model_name": "LayoutModel",
      "state": {}
     },
     "86b310fc33d84248b510926b79ebd754": {
      "model_module": "@jupyter-widgets/controls",
      "model_module_version": "1.0.0",
      "model_name": "ButtonModel",
      "state": {
       "icon": "forward",
       "layout": "IPY_MODEL_8c8f00f0fb134a2f89d5e38aff3a00f3",
       "style": "IPY_MODEL_33d88684f41240d69be555e4ab183380"
      }
     },
     "8737ea05d4f74cf997c92e127c968b54": {
      "model_module": "@jupyter-widgets/controls",
      "model_module_version": "1.0.0",
      "model_name": "CheckboxModel",
      "state": {
       "description": "Errors",
       "disabled": false,
       "layout": "IPY_MODEL_6ca4a96a067c40fb978fe14f7e7512e5",
       "style": "IPY_MODEL_fb39055b3c4f47fc88600d4be272f846",
       "value": false
      }
     },
     "89ca228d19e247a090af48b4a07c82db": {
      "model_module": "@jupyter-widgets/controls",
      "model_module_version": "1.0.0",
      "model_name": "ButtonStyleModel",
      "state": {}
     },
     "8ade5bd038f14058bb6df7a3278c4d28": {
      "model_module": "@jupyter-widgets/base",
      "model_module_version": "1.0.0",
      "model_name": "LayoutModel",
      "state": {}
     },
     "8b451f05ef784bbf8804b6ceb9fdae1e": {
      "model_module": "@jupyter-widgets/base",
      "model_module_version": "1.0.0",
      "model_name": "LayoutModel",
      "state": {
       "height": "40px"
      }
     },
     "8b726c5a269a4baaa0f305578d362fec": {
      "model_module": "@jupyter-widgets/controls",
      "model_module_version": "1.0.0",
      "model_name": "DescriptionStyleModel",
      "state": {
       "description_width": ""
      }
     },
     "8be780f6904f4abb8c0bf80236c181c7": {
      "model_module": "@jupyter-widgets/controls",
      "model_module_version": "1.0.0",
      "model_name": "DescriptionStyleModel",
      "state": {
       "description_width": "initial"
      }
     },
     "8c8f00f0fb134a2f89d5e38aff3a00f3": {
      "model_module": "@jupyter-widgets/base",
      "model_module_version": "1.0.0",
      "model_name": "LayoutModel",
      "state": {
       "width": "100%"
      }
     },
     "8cd3cf1b2b8b40c2817898f2447d1430": {
      "model_module": "@jupyter-widgets/base",
      "model_module_version": "1.0.0",
      "model_name": "LayoutModel",
      "state": {
       "width": "100%"
      }
     },
     "8d0940fc773c41739b633c2d06acfe32": {
      "model_module": "@jupyter-widgets/controls",
      "model_module_version": "1.0.0",
      "model_name": "AccordionModel",
      "state": {
       "_titles": {
        "0": "XOR Network"
       },
       "children": [
        "IPY_MODEL_7a37f3f0139546f7842714c446c2b796"
       ],
       "layout": "IPY_MODEL_414e213cad7641f89b0fca058db7237f",
       "selected_index": null
      }
     },
     "8d336ac2eb8b43d89c0150870097aea8": {
      "model_module": "@jupyter-widgets/controls",
      "model_module_version": "1.0.0",
      "model_name": "ButtonModel",
      "state": {
       "icon": "fast-forward",
       "layout": "IPY_MODEL_a8e30859f56f42a89ccb1d63c04df759",
       "style": "IPY_MODEL_e5ec2d0e6d7b4c569ed2a990ec16addc"
      }
     },
     "8dea87da8811475b8ae8453fb8e514f0": {
      "model_module": "@jupyter-widgets/base",
      "model_module_version": "1.0.0",
      "model_name": "LayoutModel",
      "state": {}
     },
     "8fbcc5bcf40246cebacf292a42539984": {
      "model_module": "@jupyter-widgets/controls",
      "model_module_version": "1.0.0",
      "model_name": "HTMLModel",
      "state": {
       "layout": "IPY_MODEL_8dea87da8811475b8ae8453fb8e514f0",
       "style": "IPY_MODEL_2ddfc048960a4417b7e2c5e648566b07",
       "value": "<img src=\"data:image/gif;base64,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\"/>"
      }
     },
     "8fc2497b14624514bcfe70ebcac5e9b6": {
      "model_module": "@jupyter-widgets/base",
      "model_module_version": "1.0.0",
      "model_name": "LayoutModel",
      "state": {
       "width": "100%"
      }
     },
     "902ba645b1424bd9881155cf36571aeb": {
      "model_module": "@jupyter-widgets/controls",
      "model_module_version": "1.0.0",
      "model_name": "DescriptionStyleModel",
      "state": {
       "description_width": ""
      }
     },
     "904fc2e80871421ea4a47719ce030a4b": {
      "model_module": "@jupyter-widgets/controls",
      "model_module_version": "1.0.0",
      "model_name": "HTMLModel",
      "state": {
       "layout": "IPY_MODEL_7a3928ecf32f48d8ab8e3884ba3f9027",
       "style": "IPY_MODEL_20a583eb7eaf42099de0f694955df394",
       "value": "<p style=\"text-align:center\"><svg id='XOR Network' xmlns='http://www.w3.org/2000/svg' viewBox=\"0 0 350 250\" max-width=\"100%\" height=\"780\" image-rendering=\"pixelated\">\n    <defs>\n        <marker id=\"arrow\" markerWidth=\"10\" markerHeight=\"10\" refX=\"9\" refY=\"3\" orient=\"auto\" markerUnits=\"strokeWidth\">\n          <path d=\"M0,0 L0,6 L9,3 z\" fill=\"black\" />\n        </marker>\n    </defs><text x=\"175.0\" y=\"12.5\" font-family=\"monospace\" font-size=\"15\" text-anchor=\"middle\" alignment-baseline=\"central\">XOR Network</text><rect x=\"149.0\" y=\"24\" width=\"52\" height=\"52\" style=\"fill:none;stroke:black;stroke-width:2\"/><image id=\"XOR Network_output1_7\" class=\"XOR Network_output1\" x=\"150.0\" y=\"25\" height=\"50\" width=\"50\" preserveAspectRatio=\"none\" href=\"data:image/gif;base64,R0lGODdhAQABAIcAAAAA/wAAAAAAAAAAAAAAAAAAAAAAAAAAAAAAAAAAAAAAAAAAAAAAAAAAAAAAAAAAAAAAAAAAAAAAAAAAAAAAAAAAAAAAAAAAAAAAAAAAAAAAAAAAAAAAAAAAAAAAAAAAAAAAAAAAAAAAAAAAAAAAAAAAAAAAAAAAAAAAAAAAAAAAAAAAAAAAAAAAAAAAAAAAAAAAAAAAAAAAAAAAAAAAAAAAAAAAAAAAAAAAAAAAAAAAAAAAAAAAAAAAAAAAAAAAAAAAAAAAAAAAAAAAAAAAAAAAAAAAAAAAAAAAAAAAAAAAAAAAAAAAAAAAAAAAAAAAAAAAAAAAAAAAAAAAAAAAAAAAAAAAAAAAAAAAAAAAAAAAAAAAAAAAAAAAAAAAAAAAAAAAAAAAAAAAAAAAAAAAAAAAAAAAAAAAAAAAAAAAAAAAAAAAAAAAAAAAAAAAAAAAAAAAAAAAAAAAAAAAAAAAAAAAAAAAAAAAAAAAAAAAAAAAAAAAAAAAAAAAAAAAAAAAAAAAAAAAAAAAAAAAAAAAAAAAAAAAAAAAAAAAAAAAAAAAAAAAAAAAAAAAAAAAAAAAAAAAAAAAAAAAAAAAAAAAAAAAAAAAAAAAAAAAAAAAAAAAAAAAAAAAAAAAAAAAAAAAAAAAAAAAAAAAAAAAAAAAAAAAAAAAAAAAAAAAAAAAAAAAAAAAAAAAAAAAAAAAAAAAAAAAAAAAAAAAAAAAAAAAAAAAAAAAAAAAAAAAAAAAAAAAAAAAAAAAAAAAAAAAAAAAAAAAAAAAAAAAAAAAAAAAAAAAAAAAAAAAAAAAAAAAAAAAAAAAAAAAAAAAAAAAAAAAAAAAAAAAAAAAAAAAAAAAAAAAAAAAAAAAAAAAAAAAAAAAAAAAAAAAAAAAAAAAAAAAAAAAAAAAAAAAAAAAAAAAAAAAAAAAAAAAAAAAAAAAAAAAAAAAAAAAAAAAAAAAAAAAAAAAAAAAAAAAAAAAAAAAAAAAAAAAAAAAAAAAAAAAAAAAAAAAAAAAAAAAAAAAAAAAACwAAAAAAQABAAAIBQAB5AgIADs=\"><title>Layer: output1 (output)\n shape = (1,)\n Keras class = Dense\n activation = sigmoid</title></image><text x=\"205.0\" y=\"52.0\" font-family=\"monospace\" font-size=\"12\" text-anchor=\"start\" alignment-baseline=\"central\">output1</text><line x1=\"175.0\" y1=\"104\" x2=\"175.0\" y2=\"77\" stroke=\"black\" stroke-width=\"2\" marker-end=\"url(#arrow)\"><title>Weights from hidden1 to output1\n output1/kernel has shape (5, 1)\n output1/bias has shape (1,)</title></line><rect x=\"74.0\" y=\"104\" width=\"202\" height=\"42\" style=\"fill:none;stroke:black;stroke-width:2\"/><image id=\"XOR Network_hidden1_8\" class=\"XOR Network_hidden1\" x=\"75.0\" y=\"105\" height=\"40\" width=\"200\" preserveAspectRatio=\"none\" href=\"data:image/gif;base64,R0lGODdhBQABAIcAAP/9/QAAAAAAAAAAAAAAAAAAAAAAAAAAAAAAAAAAAAAAAAAAAAAAAAAAAAAAAAAAAAAAAAAAAAAAAAAAAAAAAAAAAAAAAAAAAAAAAAAAAAAAAAAAAAAAAAAAAAAAAAAAAAAAAAAAAAAAAAAAAAAAAAAAAAAAAAAAAAAAAAAAAAAAAAAAAAAAAAAAAAAAAAAAAAAAAAAAAAAAAAAAAAAAAAAAAAAAAAAAAAAAAAAAAAAAAAAAAAAAAAAAAAAAAAAAAAAAAAAAAAAAAAAAAAAAAAAAAAAAAAAAAAAAAAAAAAAAAAAAAAAAAAAAAAAAAAAAAAAAAAAAAAAAAAAAAAAAAAAAAAAAAAAAAAAAAAAAAAAAAAAAAAAAAAAAAAAAAAAAAAAAAAAAAAAAAAAAAAAAAAAAAAAAAAAAAAAAAAAAAAAAAAAAAAAAAAAAAAAAAAAAAAAAAAAAAAAAAAAAAAAAAAAAAAAAAAAAAAAAAAAAAAAAAAAAAAAAAAAAAAAAAAAAAAAAAAAAAAAAAAAAAAAAAAAAAAAAAAAAAAAAAAAAAAAAAAAAAAAAAAAAAAAAAAAAAAAAAAAAAAAAAAAAAAAAAAAAAAAAAAAAAAAAAAAAAAAAAAAAAAAAAAAAAAAAAAAAAAAAAAAAAAAAAAAAAAAAAAAAAAAAAAAAAAAAAAAAAAAAAAAAAAAAAAAAAAAAAAAAAAAAAAAAAAAAAAAAAAAAAAAAAAAAAAAAAAAAAAAAAAAAAAAAAAAAAAAAAAAAAAAAAAAAAAAAAAAAAAAAAAAAAAAAAAAAAAAAAAAAAAAAAAAAAAAAAAAAAAAAAAAAAAAAAAAAAAAAAAAAAAAAAAAAAAAAAAAAAAAAAAAAAAAAAAAAAAAAAAAAAAAAAAAAAAAAAAAAAAAAAAAAAAAAAAAAAAAAAAAAAAAAAAAAAAAAAAAAAAAAAAAAAAAAAAAAAAAAAAAAAAAAAAAAAAAAAAAAAAAAAAAAAAAAAAAAAAAAAAAAAAAAAAAAAAAAAAAAAAAAACwAAAAABQABAAAIBgABCBQYEAA7\"><title>Layer: hidden1 (hidden)\n shape = (5,)\n Keras class = Dense\n activation = relu</title></image><text x=\"280.0\" y=\"127.0\" font-family=\"monospace\" font-size=\"12\" text-anchor=\"start\" alignment-baseline=\"central\">hidden1</text><line x1=\"175.0\" y1=\"174\" x2=\"175.0\" y2=\"147\" stroke=\"black\" stroke-width=\"2\" marker-end=\"url(#arrow)\"><title>Weights from input1 to hidden1\n hidden1/kernel has shape (2, 5)\n hidden1/bias has shape (5,)</title></line><rect x=\"124.0\" y=\"174\" width=\"102\" height=\"52\" style=\"fill:none;stroke:black;stroke-width:2\"/><image id=\"XOR Network_input1_9\" class=\"XOR Network_input1\" x=\"125.0\" y=\"175\" height=\"50\" width=\"100\" preserveAspectRatio=\"none\" href=\"data:image/gif;base64,R0lGODdhAgABAIcAAP/9/QAAAAAAAAAAAAAAAAAAAAAAAAAAAAAAAAAAAAAAAAAAAAAAAAAAAAAAAAAAAAAAAAAAAAAAAAAAAAAAAAAAAAAAAAAAAAAAAAAAAAAAAAAAAAAAAAAAAAAAAAAAAAAAAAAAAAAAAAAAAAAAAAAAAAAAAAAAAAAAAAAAAAAAAAAAAAAAAAAAAAAAAAAAAAAAAAAAAAAAAAAAAAAAAAAAAAAAAAAAAAAAAAAAAAAAAAAAAAAAAAAAAAAAAAAAAAAAAAAAAAAAAAAAAAAAAAAAAAAAAAAAAAAAAAAAAAAAAAAAAAAAAAAAAAAAAAAAAAAAAAAAAAAAAAAAAAAAAAAAAAAAAAAAAAAAAAAAAAAAAAAAAAAAAAAAAAAAAAAAAAAAAAAAAAAAAAAAAAAAAAAAAAAAAAAAAAAAAAAAAAAAAAAAAAAAAAAAAAAAAAAAAAAAAAAAAAAAAAAAAAAAAAAAAAAAAAAAAAAAAAAAAAAAAAAAAAAAAAAAAAAAAAAAAAAAAAAAAAAAAAAAAAAAAAAAAAAAAAAAAAAAAAAAAAAAAAAAAAAAAAAAAAAAAAAAAAAAAAAAAAAAAAAAAAAAAAAAAAAAAAAAAAAAAAAAAAAAAAAAAAAAAAAAAAAAAAAAAAAAAAAAAAAAAAAAAAAAAAAAAAAAAAAAAAAAAAAAAAAAAAAAAAAAAAAAAAAAAAAAAAAAAAAAAAAAAAAAAAAAAAAAAAAAAAAAAAAAAAAAAAAAAAAAAAAAAAAAAAAAAAAAAAAAAAAAAAAAAAAAAAAAAAAAAAAAAAAAAAAAAAAAAAAAAAAAAAAAAAAAAAAAAAAAAAAAAAAAAAAAAAAAAAAAAAAAAAAAAAAAAAAAAAAAAAAAAAAAAAAAAAAAAAAAAAAAAAAAAAAAAAAAAAAAAAAAAAAAAAAAAAAAAAAAAAAAAAAAAAAAAAAAAAAAAAAAAAAAAAAAAAAAAAAAAAAAAAAAAAAAAAAAAAAAAAAAAAAAAAAAAAAAAAAAAAAAAAAAAAAAACwAAAAAAgABAAAIBQABAAgIADs=\"><title>Layer: input1 (input)\n shape = (2,)\n Keras class = Input</title></image><text x=\"230.0\" y=\"202.0\" font-family=\"monospace\" font-size=\"12\" text-anchor=\"start\" alignment-baseline=\"central\">input1</text></svg></p>"
      }
     },
     "9098176260c840efa41b19cd2a69f4ad": {
      "model_module": "@jupyter-widgets/controls",
      "model_module_version": "1.0.0",
      "model_name": "VBoxModel",
      "state": {
       "children": [
        "IPY_MODEL_603990cafed549e3b2cabc8ad16794ee",
        "IPY_MODEL_372fbd043f1640fd88c0bad3e1f9be33",
        "IPY_MODEL_3301e8c524f14b97952b38637e6f2381",
        "IPY_MODEL_41952e84b1fe463c8d75659723a5a04c",
        "IPY_MODEL_05e5ef9e06484366aca598d2f4371c09",
        "IPY_MODEL_181bfd96d7ee48f199f5530e6acfeb01",
        "IPY_MODEL_471e3dde34e944a38a9718e7118d28c0",
        "IPY_MODEL_23ed2782bfee4a59ba87053482c1e8f0"
       ],
       "layout": "IPY_MODEL_0128c0a1a0244c90aa207f6963d92c14"
      }
     },
     "927ee4f696ce4c738ad8d7b4ba56ee71": {
      "model_module": "@jupyter-widgets/controls",
      "model_module_version": "1.0.0",
      "model_name": "SelectModel",
      "state": {
       "_options_labels": [
        "",
        "Accent",
        "Accent_r",
        "Blues",
        "Blues_r",
        "BrBG",
        "BrBG_r",
        "BuGn",
        "BuGn_r",
        "BuPu",
        "BuPu_r",
        "CMRmap",
        "CMRmap_r",
        "Dark2",
        "Dark2_r",
        "GnBu",
        "GnBu_r",
        "Greens",
        "Greens_r",
        "Greys",
        "Greys_r",
        "OrRd",
        "OrRd_r",
        "Oranges",
        "Oranges_r",
        "PRGn",
        "PRGn_r",
        "Paired",
        "Paired_r",
        "Pastel1",
        "Pastel1_r",
        "Pastel2",
        "Pastel2_r",
        "PiYG",
        "PiYG_r",
        "PuBu",
        "PuBuGn",
        "PuBuGn_r",
        "PuBu_r",
        "PuOr",
        "PuOr_r",
        "PuRd",
        "PuRd_r",
        "Purples",
        "Purples_r",
        "RdBu",
        "RdBu_r",
        "RdGy",
        "RdGy_r",
        "RdPu",
        "RdPu_r",
        "RdYlBu",
        "RdYlBu_r",
        "RdYlGn",
        "RdYlGn_r",
        "Reds",
        "Reds_r",
        "Set1",
        "Set1_r",
        "Set2",
        "Set2_r",
        "Set3",
        "Set3_r",
        "Spectral",
        "Spectral_r",
        "Vega10",
        "Vega10_r",
        "Vega20",
        "Vega20_r",
        "Vega20b",
        "Vega20b_r",
        "Vega20c",
        "Vega20c_r",
        "Wistia",
        "Wistia_r",
        "YlGn",
        "YlGnBu",
        "YlGnBu_r",
        "YlGn_r",
        "YlOrBr",
        "YlOrBr_r",
        "YlOrRd",
        "YlOrRd_r",
        "afmhot",
        "afmhot_r",
        "autumn",
        "autumn_r",
        "binary",
        "binary_r",
        "bone",
        "bone_r",
        "brg",
        "brg_r",
        "bwr",
        "bwr_r",
        "cool",
        "cool_r",
        "coolwarm",
        "coolwarm_r",
        "copper",
        "copper_r",
        "cubehelix",
        "cubehelix_r",
        "flag",
        "flag_r",
        "gist_earth",
        "gist_earth_r",
        "gist_gray",
        "gist_gray_r",
        "gist_heat",
        "gist_heat_r",
        "gist_ncar",
        "gist_ncar_r",
        "gist_rainbow",
        "gist_rainbow_r",
        "gist_stern",
        "gist_stern_r",
        "gist_yarg",
        "gist_yarg_r",
        "gnuplot",
        "gnuplot2",
        "gnuplot2_r",
        "gnuplot_r",
        "gray",
        "gray_r",
        "hot",
        "hot_r",
        "hsv",
        "hsv_r",
        "inferno",
        "inferno_r",
        "jet",
        "jet_r",
        "magma",
        "magma_r",
        "nipy_spectral",
        "nipy_spectral_r",
        "ocean",
        "ocean_r",
        "pink",
        "pink_r",
        "plasma",
        "plasma_r",
        "prism",
        "prism_r",
        "rainbow",
        "rainbow_r",
        "seismic",
        "seismic_r",
        "spectral",
        "spectral_r",
        "spring",
        "spring_r",
        "summer",
        "summer_r",
        "tab10",
        "tab10_r",
        "tab20",
        "tab20_r",
        "tab20b",
        "tab20b_r",
        "tab20c",
        "tab20c_r",
        "terrain",
        "terrain_r",
        "viridis",
        "viridis_r",
        "winter",
        "winter_r"
       ],
       "description": "Colormap:",
       "index": 0,
       "layout": "IPY_MODEL_6ca4a96a067c40fb978fe14f7e7512e5",
       "rows": 1,
       "style": "IPY_MODEL_51750c2297d14cc0843899702e8d8332"
      }
     },
     "9524a3697a10457eab8f32203a6b767c": {
      "model_module": "@jupyter-widgets/controls",
      "model_module_version": "1.0.0",
      "model_name": "FloatTextModel",
      "state": {
       "description": "Feature scale:",
       "layout": "IPY_MODEL_dc750aafa5f6475f98957af4ba966e10",
       "step": null,
       "style": "IPY_MODEL_6e295a0664bc438aa6b4ad223277ee33",
       "value": 2
      }
     },
     "98c5884a70e841158a7a593608286ae0": {
      "model_module": "@jupyter-widgets/base",
      "model_module_version": "1.0.0",
      "model_name": "LayoutModel",
      "state": {}
     },
     "992543fbc0cf4cd7997060f66a7db008": {
      "model_module": "@jupyter-widgets/base",
      "model_module_version": "1.0.0",
      "model_name": "LayoutModel",
      "state": {}
     },
     "99ebe4299a334b48b3edefefde72556b": {
      "model_module": "@jupyter-widgets/controls",
      "model_module_version": "1.0.0",
      "model_name": "SliderStyleModel",
      "state": {
       "description_width": ""
      }
     },
     "9a3686b1ce3045ff91c5d4af5ac9475e": {
      "model_module": "@jupyter-widgets/controls",
      "model_module_version": "1.0.0",
      "model_name": "FloatTextModel",
      "state": {
       "description": "Rightmost color maps to:",
       "layout": "IPY_MODEL_a047f63efa374c6cbfdfa0df95bee095",
       "step": null,
       "style": "IPY_MODEL_e34035a5fab346fa8258c384c94346fb",
       "value": 1
      }
     },
     "9aa60cdeae84447fb7e360ffba1154ed": {
      "model_module": "@jupyter-widgets/base",
      "model_module_version": "1.0.0",
      "model_name": "LayoutModel",
      "state": {}
     },
     "9b8dd82dc92a417faa57350a0bc77182": {
      "model_module": "@jupyter-widgets/base",
      "model_module_version": "1.0.0",
      "model_name": "LayoutModel",
      "state": {
       "height": "40px"
      }
     },
     "9bc367ed8d6e49f18a1d1d90fc7e5311": {
      "model_module": "@jupyter-widgets/base",
      "model_module_version": "1.0.0",
      "model_name": "LayoutModel",
      "state": {
       "width": "100px"
      }
     },
     "9d0f809b45164d88915f8c570ac04125": {
      "model_module": "@jupyter-widgets/controls",
      "model_module_version": "1.0.0",
      "model_name": "SliderStyleModel",
      "state": {
       "description_width": ""
      }
     },
     "9d572a8355f8490baa790fde3e2b65ad": {
      "model_module": "@jupyter-widgets/controls",
      "model_module_version": "1.0.0",
      "model_name": "ButtonStyleModel",
      "state": {}
     },
     "9de2e3f31d4845dc88b2dc0143ae31e7": {
      "model_module": "@jupyter-widgets/controls",
      "model_module_version": "1.0.0",
      "model_name": "DescriptionStyleModel",
      "state": {
       "description_width": "initial"
      }
     },
     "9de37ac7ebd24a8293914a44492247b7": {
      "model_module": "@jupyter-widgets/controls",
      "model_module_version": "1.0.0",
      "model_name": "AccordionModel",
      "state": {
       "_titles": {
        "0": "XOR Network"
       },
       "children": [
        "IPY_MODEL_a0d2765fd90e404dbaa2af39a51dd978"
       ],
       "layout": "IPY_MODEL_0b19af3add6847b9a4454b1d60644307",
       "selected_index": null
      }
     },
     "9e5b5f8a2cbc46b4881d3aab2015797c": {
      "model_module": "@jupyter-widgets/controls",
      "model_module_version": "1.0.0",
      "model_name": "ButtonModel",
      "state": {
       "icon": "backward",
       "layout": "IPY_MODEL_5fa19e8bc33348cb9cd8ef9312763e5b",
       "style": "IPY_MODEL_69f6fd45c898489dad9e002e947fab80"
      }
     },
     "9edb2781bee14c4ea3a00f05a5355fa4": {
      "model_module": "@jupyter-widgets/controls",
      "model_module_version": "1.0.0",
      "model_name": "DescriptionStyleModel",
      "state": {
       "description_width": ""
      }
     },
     "a047f63efa374c6cbfdfa0df95bee095": {
      "model_module": "@jupyter-widgets/base",
      "model_module_version": "1.0.0",
      "model_name": "LayoutModel",
      "state": {}
     },
     "a0d2765fd90e404dbaa2af39a51dd978": {
      "model_module": "@jupyter-widgets/controls",
      "model_module_version": "1.0.0",
      "model_name": "HBoxModel",
      "state": {
       "children": [
        "IPY_MODEL_f118c9c4ac7c4532bf7026b715d7cff6",
        "IPY_MODEL_2dcfb5c6932e449e9cb6021d987f3c71"
       ],
       "layout": "IPY_MODEL_ff2d126600274dd9b350b4b86b61eb35"
      }
     },
     "a0e100755dbf48209d6bbf98e0b0ff76": {
      "model_module": "@jupyter-widgets/controls",
      "model_module_version": "1.0.0",
      "model_name": "IntTextModel",
      "state": {
       "description": "Vertical space between layers:",
       "layout": "IPY_MODEL_6ca4a96a067c40fb978fe14f7e7512e5",
       "step": 1,
       "style": "IPY_MODEL_54a5fa264300423b9e9bf07a9c26f0a9",
       "value": 30
      }
     },
     "a1c7a85aea5640689a4d2cf87208da76": {
      "model_module": "@jupyter-widgets/base",
      "model_module_version": "1.0.0",
      "model_name": "LayoutModel",
      "state": {}
     },
     "a2fd7c0381544be0aafb669ce313f147": {
      "model_module": "@jupyter-widgets/controls",
      "model_module_version": "1.0.0",
      "model_name": "ButtonModel",
      "state": {
       "icon": "forward",
       "layout": "IPY_MODEL_8fc2497b14624514bcfe70ebcac5e9b6",
       "style": "IPY_MODEL_20fcfc2012404271aee67117de55e023"
      }
     },
     "a487f37ddf984d8482cede4586c43225": {
      "model_module": "@jupyter-widgets/base",
      "model_module_version": "1.0.0",
      "model_name": "LayoutModel",
      "state": {}
     },
     "a4bd359368034ebe84cacf13ad3b981a": {
      "model_module": "@jupyter-widgets/base",
      "model_module_version": "1.0.0",
      "model_name": "LayoutModel",
      "state": {
       "justify_content": "center",
       "overflow_x": "auto",
       "overflow_y": "auto",
       "width": "95%"
      }
     },
     "a4f27924d9314a6fa5e11e550147f0b7": {
      "model_module": "@jupyter-widgets/controls",
      "model_module_version": "1.0.0",
      "model_name": "DescriptionStyleModel",
      "state": {
       "description_width": "initial"
      }
     },
     "a5121c1fc06a4250b7df563f0ab8ecc4": {
      "model_module": "@jupyter-widgets/base",
      "model_module_version": "1.0.0",
      "model_name": "LayoutModel",
      "state": {
       "justify_content": "center",
       "overflow_x": "auto",
       "overflow_y": "auto",
       "width": "95%"
      }
     },
     "a537ba234a204d8e81a5f3e42a8be982": {
      "model_module": "@jupyter-widgets/base",
      "model_module_version": "1.0.0",
      "model_name": "LayoutModel",
      "state": {
       "width": "100%"
      }
     },
     "a5f17f9a28ac48e19baa8c4d39844197": {
      "model_module": "@jupyter-widgets/controls",
      "model_module_version": "1.0.0",
      "model_name": "DescriptionStyleModel",
      "state": {
       "description_width": ""
      }
     },
     "a7718aba95614d49b90b887a14ed3c6b": {
      "model_module": "@jupyter-widgets/controls",
      "model_module_version": "1.0.0",
      "model_name": "DescriptionStyleModel",
      "state": {
       "description_width": ""
      }
     },
     "a8dd5fe6d00545e7b219a1a21ae8c2d5": {
      "model_module": "@jupyter-widgets/controls",
      "model_module_version": "1.0.0",
      "model_name": "ButtonStyleModel",
      "state": {}
     },
     "a8e30859f56f42a89ccb1d63c04df759": {
      "model_module": "@jupyter-widgets/base",
      "model_module_version": "1.0.0",
      "model_name": "LayoutModel",
      "state": {
       "width": "100%"
      }
     },
     "ac7fadde27f84a7192c7f09b1acc7be1": {
      "model_module": "@jupyter-widgets/controls",
      "model_module_version": "1.0.0",
      "model_name": "HTMLModel",
      "state": {
       "layout": "IPY_MODEL_5c77fa86c1fc4cf1b3fb90bad7988699",
       "style": "IPY_MODEL_2020822ea6d142efb92ec8f0d0aa7367",
       "value": "<img src=\"data:image/gif;base64,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\"/>"
      }
     },
     "aca5ab0ed49d4827bdf27470be4426a4": {
      "model_module": "@jupyter-widgets/controls",
      "model_module_version": "1.0.0",
      "model_name": "ButtonStyleModel",
      "state": {}
     },
     "afc4910b1e1040ef93737a4f81d1f21b": {
      "model_module": "@jupyter-widgets/base",
      "model_module_version": "1.0.0",
      "model_name": "LayoutModel",
      "state": {}
     },
     "b1a07368c7c74b3aa888aecf464b9f75": {
      "model_module": "@jupyter-widgets/controls",
      "model_module_version": "1.0.0",
      "model_name": "SelectModel",
      "state": {
       "_options_labels": [
        "",
        "Accent",
        "Accent_r",
        "Blues",
        "Blues_r",
        "BrBG",
        "BrBG_r",
        "BuGn",
        "BuGn_r",
        "BuPu",
        "BuPu_r",
        "CMRmap",
        "CMRmap_r",
        "Dark2",
        "Dark2_r",
        "GnBu",
        "GnBu_r",
        "Greens",
        "Greens_r",
        "Greys",
        "Greys_r",
        "OrRd",
        "OrRd_r",
        "Oranges",
        "Oranges_r",
        "PRGn",
        "PRGn_r",
        "Paired",
        "Paired_r",
        "Pastel1",
        "Pastel1_r",
        "Pastel2",
        "Pastel2_r",
        "PiYG",
        "PiYG_r",
        "PuBu",
        "PuBuGn",
        "PuBuGn_r",
        "PuBu_r",
        "PuOr",
        "PuOr_r",
        "PuRd",
        "PuRd_r",
        "Purples",
        "Purples_r",
        "RdBu",
        "RdBu_r",
        "RdGy",
        "RdGy_r",
        "RdPu",
        "RdPu_r",
        "RdYlBu",
        "RdYlBu_r",
        "RdYlGn",
        "RdYlGn_r",
        "Reds",
        "Reds_r",
        "Set1",
        "Set1_r",
        "Set2",
        "Set2_r",
        "Set3",
        "Set3_r",
        "Spectral",
        "Spectral_r",
        "Vega10",
        "Vega10_r",
        "Vega20",
        "Vega20_r",
        "Vega20b",
        "Vega20b_r",
        "Vega20c",
        "Vega20c_r",
        "Wistia",
        "Wistia_r",
        "YlGn",
        "YlGnBu",
        "YlGnBu_r",
        "YlGn_r",
        "YlOrBr",
        "YlOrBr_r",
        "YlOrRd",
        "YlOrRd_r",
        "afmhot",
        "afmhot_r",
        "autumn",
        "autumn_r",
        "binary",
        "binary_r",
        "bone",
        "bone_r",
        "brg",
        "brg_r",
        "bwr",
        "bwr_r",
        "cool",
        "cool_r",
        "coolwarm",
        "coolwarm_r",
        "copper",
        "copper_r",
        "cubehelix",
        "cubehelix_r",
        "flag",
        "flag_r",
        "gist_earth",
        "gist_earth_r",
        "gist_gray",
        "gist_gray_r",
        "gist_heat",
        "gist_heat_r",
        "gist_ncar",
        "gist_ncar_r",
        "gist_rainbow",
        "gist_rainbow_r",
        "gist_stern",
        "gist_stern_r",
        "gist_yarg",
        "gist_yarg_r",
        "gnuplot",
        "gnuplot2",
        "gnuplot2_r",
        "gnuplot_r",
        "gray",
        "gray_r",
        "hot",
        "hot_r",
        "hsv",
        "hsv_r",
        "inferno",
        "inferno_r",
        "jet",
        "jet_r",
        "magma",
        "magma_r",
        "nipy_spectral",
        "nipy_spectral_r",
        "ocean",
        "ocean_r",
        "pink",
        "pink_r",
        "plasma",
        "plasma_r",
        "prism",
        "prism_r",
        "rainbow",
        "rainbow_r",
        "seismic",
        "seismic_r",
        "spectral",
        "spectral_r",
        "spring",
        "spring_r",
        "summer",
        "summer_r",
        "tab10",
        "tab10_r",
        "tab20",
        "tab20_r",
        "tab20b",
        "tab20b_r",
        "tab20c",
        "tab20c_r",
        "terrain",
        "terrain_r",
        "viridis",
        "viridis_r",
        "winter",
        "winter_r"
       ],
       "description": "Colormap:",
       "index": 0,
       "layout": "IPY_MODEL_98c5884a70e841158a7a593608286ae0",
       "rows": 1,
       "style": "IPY_MODEL_70cb4e0d172d426790eb549f981af6d9"
      }
     },
     "b26ef52c19d64fbe994f51b30df98b95": {
      "model_module": "@jupyter-widgets/base",
      "model_module_version": "1.0.0",
      "model_name": "LayoutModel",
      "state": {
       "height": "50px",
       "width": "100%"
      }
     },
     "b2a5ad1f61dc4ac6aa46d72d82ecab5a": {
      "model_module": "@jupyter-widgets/base",
      "model_module_version": "1.0.0",
      "model_name": "LayoutModel",
      "state": {}
     },
     "b2bd8ce20598495ba41394ca43b8bfbc": {
      "model_module": "@jupyter-widgets/output",
      "model_module_version": "1.0.0",
      "model_name": "OutputModel",
      "state": {
       "layout": "IPY_MODEL_06fa247d52af489e8078f9a0f99c4f46"
      }
     },
     "b307f37e054f44918f3def4e250bd94d": {
      "model_module": "@jupyter-widgets/controls",
      "model_module_version": "1.0.0",
      "model_name": "HBoxModel",
      "state": {
       "children": [
        "IPY_MODEL_f73401bf741044a0aabea720fa26e633",
        "IPY_MODEL_707234fed8ad4e78863ad0152d8e651a",
        "IPY_MODEL_5c9986967a4042fa80ad315c7708cee2",
        "IPY_MODEL_86b310fc33d84248b510926b79ebd754",
        "IPY_MODEL_27a4408f928447cda0be1cdb30a83924",
        "IPY_MODEL_6eaec4e8878d4cb3b412954da969416f",
        "IPY_MODEL_dd54a5b842d74b67993a6f8f8089f301"
       ],
       "layout": "IPY_MODEL_61864ed05f054a23af399eed300a179e"
      }
     },
     "b31400c3e21e497b961d85a6a0520b65": {
      "model_module": "@jupyter-widgets/controls",
      "model_module_version": "1.0.0",
      "model_name": "FloatTextModel",
      "state": {
       "description": "Feature scale:",
       "layout": "IPY_MODEL_ddc79530e52a4f068ec0b6291eb5dfd8",
       "step": null,
       "style": "IPY_MODEL_5dfb5c0914a64982aeedccaeb0706980",
       "value": 2
      }
     },
     "b33df6f1c26243928b6e8f2ecc964b0a": {
      "model_module": "@jupyter-widgets/controls",
      "model_module_version": "1.0.0",
      "model_name": "SelectModel",
      "state": {
       "_options_labels": [
        "input1",
        "hidden1",
        "output1"
       ],
       "description": "Layer:",
       "index": 2,
       "layout": "IPY_MODEL_cafbc9cf3ab64e758074df0228feb615",
       "rows": 1,
       "style": "IPY_MODEL_7385c114c4fb4bd48e7024f5b538899d"
      }
     },
     "b3a1acbd8b424fde8500cd22df5de7a7": {
      "model_module": "@jupyter-widgets/controls",
      "model_module_version": "1.0.0",
      "model_name": "SelectModel",
      "state": {
       "_options_labels": [
        "Test",
        "Train"
       ],
       "description": "Dataset:",
       "index": 1,
       "layout": "IPY_MODEL_d32f6746f67846d08ea5b76f713ddfe9",
       "rows": 1,
       "style": "IPY_MODEL_56d52d8c84644c9191947d2bdf449421"
      }
     },
     "b3fe4494afe749febc881907f07d88f5": {
      "model_module": "@jupyter-widgets/base",
      "model_module_version": "1.0.0",
      "model_name": "LayoutModel",
      "state": {
       "width": "100%"
      }
     },
     "b569ca87b4f844e3bd7234c1e8019879": {
      "model_module": "@jupyter-widgets/controls",
      "model_module_version": "1.0.0",
      "model_name": "DescriptionStyleModel",
      "state": {
       "description_width": ""
      }
     },
     "b5ca7836694745a082e96b81a0a49ed1": {
      "model_module": "@jupyter-widgets/controls",
      "model_module_version": "1.0.0",
      "model_name": "DescriptionStyleModel",
      "state": {
       "description_width": ""
      }
     },
     "b624e78ff2304fed9e643416c3aaf442": {
      "model_module": "@jupyter-widgets/controls",
      "model_module_version": "1.0.0",
      "model_name": "SelectModel",
      "state": {
       "_options_labels": [
        "input1",
        "hidden1",
        "output1"
       ],
       "description": "Layer:",
       "index": 2,
       "layout": "IPY_MODEL_9aa60cdeae84447fb7e360ffba1154ed",
       "rows": 1,
       "style": "IPY_MODEL_c9ff51d1a7884747b751a11c0eab6770"
      }
     },
     "b666c8a9d8954b6a9de64e658b5d22f4": {
      "model_module": "@jupyter-widgets/controls",
      "model_module_version": "1.0.0",
      "model_name": "HBoxModel",
      "state": {
       "children": [
        "IPY_MODEL_4ae5fd6b06a94855994af36b2713015e",
        "IPY_MODEL_169debcf80b4419e8542980387e26093",
        "IPY_MODEL_07b69b86407e4ab4abdf99106786b61c",
        "IPY_MODEL_0980df1a65134b91a71cf658de0e9c2e",
        "IPY_MODEL_8d336ac2eb8b43d89c0150870097aea8",
        "IPY_MODEL_66793f3b947c4c24887b2397d124f4d3",
        "IPY_MODEL_0951a9ba0476401ca51c393ce1b4ede9"
       ],
       "layout": "IPY_MODEL_b26ef52c19d64fbe994f51b30df98b95"
      }
     },
     "b8ba80d02c9d492ca369c5fea4e26305": {
      "model_module": "@jupyter-widgets/controls",
      "model_module_version": "1.0.0",
      "model_name": "VBoxModel",
      "state": {
       "children": [
        "IPY_MODEL_fce29e569cf94d4e9138aae12c9b7f52",
        "IPY_MODEL_52735e6e775946549b05fa47498c8fc5",
        "IPY_MODEL_c9e144d2c2904455beb57e8a79ae956e",
        "IPY_MODEL_78e2e8afe5d24ebba61c39f25a9bfc10"
       ],
       "layout": "IPY_MODEL_c7afdc87686f4595aa8279cc4d9cf65e"
      }
     },
     "ba4a69646e08405c9b867f535611d8bd": {
      "model_module": "@jupyter-widgets/base",
      "model_module_version": "1.0.0",
      "model_name": "LayoutModel",
      "state": {}
     },
     "bb3a8f3c01bd4be4b64ad6237a87a515": {
      "model_module": "@jupyter-widgets/base",
      "model_module_version": "1.0.0",
      "model_name": "LayoutModel",
      "state": {
       "width": "100%"
      }
     },
     "bb54f79ed2eb4d8bb752d3dc92982a47": {
      "model_module": "@jupyter-widgets/controls",
      "model_module_version": "1.0.0",
      "model_name": "CheckboxModel",
      "state": {
       "description": "Show Targets",
       "disabled": false,
       "layout": "IPY_MODEL_98c5884a70e841158a7a593608286ae0",
       "style": "IPY_MODEL_73fdf61c3de3489897a4eb02cf546b82",
       "value": false
      }
     },
     "bb575c34ff514de7817808ab606eeaee": {
      "model_module": "@jupyter-widgets/base",
      "model_module_version": "1.0.0",
      "model_name": "LayoutModel",
      "state": {}
     },
     "bbc40aab9e7b4a3ca9c04b6c7a7e7225": {
      "model_module": "@jupyter-widgets/base",
      "model_module_version": "1.0.0",
      "model_name": "LayoutModel",
      "state": {}
     },
     "bc7c956e48554b96b10308b3c594ab57": {
      "model_module": "@jupyter-widgets/controls",
      "model_module_version": "1.0.0",
      "model_name": "DescriptionStyleModel",
      "state": {
       "description_width": "initial"
      }
     },
     "bcdd943ac7e84749af260c9fb22e6105": {
      "model_module": "@jupyter-widgets/controls",
      "model_module_version": "1.0.0",
      "model_name": "CheckboxModel",
      "state": {
       "description": "Show Targets",
       "disabled": false,
       "layout": "IPY_MODEL_6ca4a96a067c40fb978fe14f7e7512e5",
       "style": "IPY_MODEL_f0ee8b1b539f45f1998ca4a02e37a8a8",
       "value": false
      }
     },
     "bedcaed665db4f29aa375f36c8a056f4": {
      "model_module": "@jupyter-widgets/controls",
      "model_module_version": "1.0.0",
      "model_name": "SelectModel",
      "state": {
       "_options_labels": [
        ""
       ],
       "description": "Features:",
       "index": 0,
       "layout": "IPY_MODEL_992543fbc0cf4cd7997060f66a7db008",
       "rows": 1,
       "style": "IPY_MODEL_9edb2781bee14c4ea3a00f05a5355fa4"
      }
     },
     "bf62b1657e764a4a89b49e14d047ea23": {
      "model_module": "@jupyter-widgets/controls",
      "model_module_version": "1.0.0",
      "model_name": "ButtonStyleModel",
      "state": {}
     },
     "bfe6ed64fde144f6925c101214b7509f": {
      "model_module": "@jupyter-widgets/base",
      "model_module_version": "1.0.0",
      "model_name": "LayoutModel",
      "state": {}
     },
     "c042a95007fb43ed88040bd0409cdc00": {
      "model_module": "@jupyter-widgets/controls",
      "model_module_version": "1.0.0",
      "model_name": "HBoxModel",
      "state": {
       "children": [
        "IPY_MODEL_6c97aa815d3345c8a0f2f53a34ddc8eb",
        "IPY_MODEL_e6487f7f3b8f4bb8b1fde571afc897d0"
       ],
       "layout": "IPY_MODEL_9b8dd82dc92a417faa57350a0bc77182"
      }
     },
     "c4b033b21c264489a392ce58a8d20664": {
      "model_module": "@jupyter-widgets/controls",
      "model_module_version": "1.0.0",
      "model_name": "ButtonStyleModel",
      "state": {}
     },
     "c53f47c1541947d5a4b8ecd4d96a1be2": {
      "model_module": "@jupyter-widgets/controls",
      "model_module_version": "1.0.0",
      "model_name": "DescriptionStyleModel",
      "state": {
       "description_width": "initial"
      }
     },
     "c7afdc87686f4595aa8279cc4d9cf65e": {
      "model_module": "@jupyter-widgets/base",
      "model_module_version": "1.0.0",
      "model_name": "LayoutModel",
      "state": {}
     },
     "c7ec565d74884dccaa8c891ceb6923d4": {
      "model_module": "@jupyter-widgets/base",
      "model_module_version": "1.0.0",
      "model_name": "LayoutModel",
      "state": {
       "width": "100%"
      }
     },
     "c80a184ed0144daf9ebcd09eb5ac6d62": {
      "model_module": "@jupyter-widgets/controls",
      "model_module_version": "1.0.0",
      "model_name": "DescriptionStyleModel",
      "state": {
       "description_width": ""
      }
     },
     "c900be021bf844028746b90865c92d58": {
      "model_module": "@jupyter-widgets/controls",
      "model_module_version": "1.0.0",
      "model_name": "DescriptionStyleModel",
      "state": {
       "description_width": ""
      }
     },
     "c9e144d2c2904455beb57e8a79ae956e": {
      "model_module": "@jupyter-widgets/controls",
      "model_module_version": "1.0.0",
      "model_name": "HTMLModel",
      "state": {
       "layout": "IPY_MODEL_a4bd359368034ebe84cacf13ad3b981a",
       "style": "IPY_MODEL_e5379b14a3b14513ae0731a8fe18cce2",
       "value": "<p style=\"text-align:center\"><svg id='XOR Network' xmlns='http://www.w3.org/2000/svg' viewBox=\"0 0 350 250\" max-width=\"100%\" height=\"780\" image-rendering=\"pixelated\">\n    <defs>\n        <marker id=\"arrow\" markerWidth=\"10\" markerHeight=\"10\" refX=\"9\" refY=\"3\" orient=\"auto\" markerUnits=\"strokeWidth\">\n          <path d=\"M0,0 L0,6 L9,3 z\" fill=\"black\" />\n        </marker>\n    </defs><text x=\"175.0\" y=\"12.5\" font-family=\"monospace\" font-size=\"15\" text-anchor=\"middle\" alignment-baseline=\"central\">XOR Network</text><rect x=\"149.0\" y=\"24\" width=\"52\" height=\"52\" style=\"fill:none;stroke:black;stroke-width:2\"/><image id=\"XOR Network_output1_7\" class=\"XOR Network_output1\" x=\"150.0\" y=\"25\" height=\"50\" width=\"50\" preserveAspectRatio=\"none\" href=\"data:image/gif;base64,R0lGODdhAQABAIcAAAAA/wAAAAAAAAAAAAAAAAAAAAAAAAAAAAAAAAAAAAAAAAAAAAAAAAAAAAAAAAAAAAAAAAAAAAAAAAAAAAAAAAAAAAAAAAAAAAAAAAAAAAAAAAAAAAAAAAAAAAAAAAAAAAAAAAAAAAAAAAAAAAAAAAAAAAAAAAAAAAAAAAAAAAAAAAAAAAAAAAAAAAAAAAAAAAAAAAAAAAAAAAAAAAAAAAAAAAAAAAAAAAAAAAAAAAAAAAAAAAAAAAAAAAAAAAAAAAAAAAAAAAAAAAAAAAAAAAAAAAAAAAAAAAAAAAAAAAAAAAAAAAAAAAAAAAAAAAAAAAAAAAAAAAAAAAAAAAAAAAAAAAAAAAAAAAAAAAAAAAAAAAAAAAAAAAAAAAAAAAAAAAAAAAAAAAAAAAAAAAAAAAAAAAAAAAAAAAAAAAAAAAAAAAAAAAAAAAAAAAAAAAAAAAAAAAAAAAAAAAAAAAAAAAAAAAAAAAAAAAAAAAAAAAAAAAAAAAAAAAAAAAAAAAAAAAAAAAAAAAAAAAAAAAAAAAAAAAAAAAAAAAAAAAAAAAAAAAAAAAAAAAAAAAAAAAAAAAAAAAAAAAAAAAAAAAAAAAAAAAAAAAAAAAAAAAAAAAAAAAAAAAAAAAAAAAAAAAAAAAAAAAAAAAAAAAAAAAAAAAAAAAAAAAAAAAAAAAAAAAAAAAAAAAAAAAAAAAAAAAAAAAAAAAAAAAAAAAAAAAAAAAAAAAAAAAAAAAAAAAAAAAAAAAAAAAAAAAAAAAAAAAAAAAAAAAAAAAAAAAAAAAAAAAAAAAAAAAAAAAAAAAAAAAAAAAAAAAAAAAAAAAAAAAAAAAAAAAAAAAAAAAAAAAAAAAAAAAAAAAAAAAAAAAAAAAAAAAAAAAAAAAAAAAAAAAAAAAAAAAAAAAAAAAAAAAAAAAAAAAAAAAAAAAAAAAAAAAAAAAAAAAAAAAAAAAAAAAAAAAAAAAAAAAAAAAAAAAAAAAAAAAAAAAAAAAAAAAAAAAAAAAAAAAAAAAAAAAAAAAAAACwAAAAAAQABAAAIBQAByAkIADs=\"><title>Layer: output1 (output)\n shape = (1,)\n Keras class = Dense\n activation = sigmoid</title></image><text x=\"205.0\" y=\"52.0\" font-family=\"monospace\" font-size=\"12\" text-anchor=\"start\" alignment-baseline=\"central\">output1</text><line x1=\"175.0\" y1=\"104\" x2=\"175.0\" y2=\"77\" stroke=\"black\" stroke-width=\"2\" marker-end=\"url(#arrow)\"><title>Weights from hidden1 to output1\n output1/kernel has shape (5, 1)\n output1/bias has shape (1,)</title></line><rect x=\"74.0\" y=\"104\" width=\"202\" height=\"42\" style=\"fill:none;stroke:black;stroke-width:2\"/><image id=\"XOR Network_hidden1_8\" class=\"XOR Network_hidden1\" x=\"75.0\" y=\"105\" height=\"40\" width=\"200\" preserveAspectRatio=\"none\" href=\"data:image/gif;base64,R0lGODdhBQABAIcAAP/9/QAAAAAAAAAAAAAAAAAAAAAAAAAAAAAAAAAAAAAAAAAAAAAAAAAAAAAAAAAAAAAAAAAAAAAAAAAAAAAAAAAAAAAAAAAAAAAAAAAAAAAAAAAAAAAAAAAAAAAAAAAAAAAAAAAAAAAAAAAAAAAAAAAAAAAAAAAAAAAAAAAAAAAAAAAAAAAAAAAAAAAAAAAAAAAAAAAAAAAAAAAAAAAAAAAAAAAAAAAAAAAAAAAAAAAAAAAAAAAAAAAAAAAAAAAAAAAAAAAAAAAAAAAAAAAAAAAAAAAAAAAAAAAAAAAAAAAAAAAAAAAAAAAAAAAAAAAAAAAAAAAAAAAAAAAAAAAAAAAAAAAAAAAAAAAAAAAAAAAAAAAAAAAAAAAAAAAAAAAAAAAAAAAAAAAAAAAAAAAAAAAAAAAAAAAAAAAAAAAAAAAAAAAAAAAAAAAAAAAAAAAAAAAAAAAAAAAAAAAAAAAAAAAAAAAAAAAAAAAAAAAAAAAAAAAAAAAAAAAAAAAAAAAAAAAAAAAAAAAAAAAAAAAAAAAAAAAAAAAAAAAAAAAAAAAAAAAAAAAAAAAAAAAAAAAAAAAAAAAAAAAAAAAAAAAAAAAAAAAAAAAAAAAAAAAAAAAAAAAAAAAAAAAAAAAAAAAAAAAAAAAAAAAAAAAAAAAAAAAAAAAAAAAAAAAAAAAAAAAAAAAAAAAAAAAAAAAAAAAAAAAAAAAAAAAAAAAAAAAAAAAAAAAAAAAAAAAAAAAAAAAAAAAAAAAAAAAAAAAAAAAAAAAAAAAAAAAAAAAAAAAAAAAAAAAAAAAAAAAAAAAAAAAAAAAAAAAAAAAAAAAAAAAAAAAAAAAAAAAAAAAAAAAAAAAAAAAAAAAAAAAAAAAAAAAAAAAAAAAAAAAAAAAAAAAAAAAAAAAAAAAAAAAAAAAAAAAAAAAAAAAAAAAAAAAAAAAAAAAAAAAAAAAAAAAAAAAAAAAAAAAAAAAAAAAAAAAAAAAAAAAAAAAAAAAAAAAAAAAAAAAAAAAAAAAAAAAAAAAAACwAAAAABQABAAAIBgABCBQYEAA7\"><title>Layer: hidden1 (hidden)\n shape = (5,)\n Keras class = Dense\n activation = relu</title></image><text x=\"280.0\" y=\"127.0\" font-family=\"monospace\" font-size=\"12\" text-anchor=\"start\" alignment-baseline=\"central\">hidden1</text><line x1=\"175.0\" y1=\"174\" x2=\"175.0\" y2=\"147\" stroke=\"black\" stroke-width=\"2\" marker-end=\"url(#arrow)\"><title>Weights from input1 to hidden1\n hidden1/kernel has shape (2, 5)\n hidden1/bias has shape (5,)</title></line><rect x=\"124.0\" y=\"174\" width=\"102\" height=\"52\" style=\"fill:none;stroke:black;stroke-width:2\"/><image id=\"XOR Network_input1_9\" class=\"XOR Network_input1\" x=\"125.0\" y=\"175\" height=\"50\" width=\"100\" preserveAspectRatio=\"none\" href=\"data:image/gif;base64,R0lGODdhAgABAIcAAP/9/QAAAAAAAAAAAAAAAAAAAAAAAAAAAAAAAAAAAAAAAAAAAAAAAAAAAAAAAAAAAAAAAAAAAAAAAAAAAAAAAAAAAAAAAAAAAAAAAAAAAAAAAAAAAAAAAAAAAAAAAAAAAAAAAAAAAAAAAAAAAAAAAAAAAAAAAAAAAAAAAAAAAAAAAAAAAAAAAAAAAAAAAAAAAAAAAAAAAAAAAAAAAAAAAAAAAAAAAAAAAAAAAAAAAAAAAAAAAAAAAAAAAAAAAAAAAAAAAAAAAAAAAAAAAAAAAAAAAAAAAAAAAAAAAAAAAAAAAAAAAAAAAAAAAAAAAAAAAAAAAAAAAAAAAAAAAAAAAAAAAAAAAAAAAAAAAAAAAAAAAAAAAAAAAAAAAAAAAAAAAAAAAAAAAAAAAAAAAAAAAAAAAAAAAAAAAAAAAAAAAAAAAAAAAAAAAAAAAAAAAAAAAAAAAAAAAAAAAAAAAAAAAAAAAAAAAAAAAAAAAAAAAAAAAAAAAAAAAAAAAAAAAAAAAAAAAAAAAAAAAAAAAAAAAAAAAAAAAAAAAAAAAAAAAAAAAAAAAAAAAAAAAAAAAAAAAAAAAAAAAAAAAAAAAAAAAAAAAAAAAAAAAAAAAAAAAAAAAAAAAAAAAAAAAAAAAAAAAAAAAAAAAAAAAAAAAAAAAAAAAAAAAAAAAAAAAAAAAAAAAAAAAAAAAAAAAAAAAAAAAAAAAAAAAAAAAAAAAAAAAAAAAAAAAAAAAAAAAAAAAAAAAAAAAAAAAAAAAAAAAAAAAAAAAAAAAAAAAAAAAAAAAAAAAAAAAAAAAAAAAAAAAAAAAAAAAAAAAAAAAAAAAAAAAAAAAAAAAAAAAAAAAAAAAAAAAAAAAAAAAAAAAAAAAAAAAAAAAAAAAAAAAAAAAAAAAAAAAAAAAAAAAAAAAAAAAAAAAAAAAAAAAAAAAAAAAAAAAAAAAAAAAAAAAAAAAAAAAAAAAAAAAAAAAAAAAAAAAAAAAAAAAAAAAAAAAAAAAAAAAAAAAAAAAAAAAAAAAAAAACwAAAAAAgABAAAIBQABAAgIADs=\"><title>Layer: input1 (input)\n shape = (2,)\n Keras class = Input</title></image><text x=\"230.0\" y=\"202.0\" font-family=\"monospace\" font-size=\"12\" text-anchor=\"start\" alignment-baseline=\"central\">input1</text></svg></p>"
      }
     },
     "c9ff51d1a7884747b751a11c0eab6770": {
      "model_module": "@jupyter-widgets/controls",
      "model_module_version": "1.0.0",
      "model_name": "DescriptionStyleModel",
      "state": {
       "description_width": ""
      }
     },
     "ca825f88bd474cd098b6608e376644f9": {
      "model_module": "@jupyter-widgets/controls",
      "model_module_version": "1.0.0",
      "model_name": "DescriptionStyleModel",
      "state": {
       "description_width": "initial"
      }
     },
     "cafbc9cf3ab64e758074df0228feb615": {
      "model_module": "@jupyter-widgets/base",
      "model_module_version": "1.0.0",
      "model_name": "LayoutModel",
      "state": {}
     },
     "cc315036569344bbad10b36a464e8d50": {
      "model_module": "@jupyter-widgets/controls",
      "model_module_version": "1.0.0",
      "model_name": "DescriptionStyleModel",
      "state": {
       "description_width": ""
      }
     },
     "cd6dd089270f486488cac23b30d1f58f": {
      "model_module": "@jupyter-widgets/controls",
      "model_module_version": "1.0.0",
      "model_name": "DescriptionStyleModel",
      "state": {
       "description_width": ""
      }
     },
     "cdeb142d2fe9408aad8291f7501a8ebc": {
      "model_module": "@jupyter-widgets/base",
      "model_module_version": "1.0.0",
      "model_name": "LayoutModel",
      "state": {}
     },
     "cf19e5c76a2f462796af7d86fb8c04f4": {
      "model_module": "@jupyter-widgets/base",
      "model_module_version": "1.0.0",
      "model_name": "LayoutModel",
      "state": {
       "width": "25%"
      }
     },
     "d10adea7bacf4d1488ad5fb24e02a081": {
      "model_module": "@jupyter-widgets/controls",
      "model_module_version": "1.0.0",
      "model_name": "ButtonStyleModel",
      "state": {}
     },
     "d1f16a3c3bbb47819885ebaad28574d2": {
      "model_module": "@jupyter-widgets/controls",
      "model_module_version": "1.0.0",
      "model_name": "DescriptionStyleModel",
      "state": {
       "description_width": "initial"
      }
     },
     "d307c84891b7469aa8110b616c2bc820": {
      "model_module": "@jupyter-widgets/controls",
      "model_module_version": "1.0.0",
      "model_name": "DescriptionStyleModel",
      "state": {
       "description_width": ""
      }
     },
     "d32f6746f67846d08ea5b76f713ddfe9": {
      "model_module": "@jupyter-widgets/base",
      "model_module_version": "1.0.0",
      "model_name": "LayoutModel",
      "state": {}
     },
     "d42d820a01284fd6a6cd763b2db7b409": {
      "model_module": "@jupyter-widgets/base",
      "model_module_version": "1.0.0",
      "model_name": "LayoutModel",
      "state": {
       "height": "50px",
       "width": "100%"
      }
     },
     "d58c231adc6b4e46b7f61fb1dcddb395": {
      "model_module": "@jupyter-widgets/controls",
      "model_module_version": "1.0.0",
      "model_name": "IntSliderModel",
      "state": {
       "continuous_update": false,
       "description": "Dataset index",
       "layout": "IPY_MODEL_6fb426651637499a88ed22966696ccf5",
       "max": 0,
       "style": "IPY_MODEL_66f896af10724f15a76c65dcbcbbc8ed"
      }
     },
     "dc750aafa5f6475f98957af4ba966e10": {
      "model_module": "@jupyter-widgets/base",
      "model_module_version": "1.0.0",
      "model_name": "LayoutModel",
      "state": {}
     },
     "dd54a5b842d74b67993a6f8f8089f301": {
      "model_module": "@jupyter-widgets/controls",
      "model_module_version": "1.0.0",
      "model_name": "ButtonModel",
      "state": {
       "icon": "refresh",
       "layout": "IPY_MODEL_cf19e5c76a2f462796af7d86fb8c04f4",
       "style": "IPY_MODEL_080f8e06cd74460f8759eb9cb6c6f0ca"
      }
     },
     "ddc79530e52a4f068ec0b6291eb5dfd8": {
      "model_module": "@jupyter-widgets/base",
      "model_module_version": "1.0.0",
      "model_name": "LayoutModel",
      "state": {}
     },
     "de915e8137b4483f81c3076fa06feb84": {
      "model_module": "@jupyter-widgets/base",
      "model_module_version": "1.0.0",
      "model_name": "LayoutModel",
      "state": {
       "width": "100%"
      }
     },
     "deba4e9fdec748a7b75e9890fb6a4c9b": {
      "model_module": "@jupyter-widgets/controls",
      "model_module_version": "1.0.0",
      "model_name": "HBoxModel",
      "state": {
       "children": [
        "IPY_MODEL_bcdd943ac7e84749af260c9fb22e6105",
        "IPY_MODEL_8737ea05d4f74cf997c92e127c968b54"
       ],
       "layout": "IPY_MODEL_fdd81a85237b4dfe99652b9c393f1c65"
      }
     },
     "e34035a5fab346fa8258c384c94346fb": {
      "model_module": "@jupyter-widgets/controls",
      "model_module_version": "1.0.0",
      "model_name": "DescriptionStyleModel",
      "state": {
       "description_width": "initial"
      }
     },
     "e4a186e4443a4111864aaacfbe6b4a94": {
      "model_module": "@jupyter-widgets/base",
      "model_module_version": "1.0.0",
      "model_name": "LayoutModel",
      "state": {
       "width": "25%"
      }
     },
     "e5379b14a3b14513ae0731a8fe18cce2": {
      "model_module": "@jupyter-widgets/controls",
      "model_module_version": "1.0.0",
      "model_name": "DescriptionStyleModel",
      "state": {
       "description_width": ""
      }
     },
     "e5ec2d0e6d7b4c569ed2a990ec16addc": {
      "model_module": "@jupyter-widgets/controls",
      "model_module_version": "1.0.0",
      "model_name": "ButtonStyleModel",
      "state": {}
     },
     "e6487f7f3b8f4bb8b1fde571afc897d0": {
      "model_module": "@jupyter-widgets/controls",
      "model_module_version": "1.0.0",
      "model_name": "LabelModel",
      "state": {
       "layout": "IPY_MODEL_056ea70f88b74b5ab33766b87565b0fe",
       "style": "IPY_MODEL_a7718aba95614d49b90b887a14ed3c6b",
       "value": "of 0"
      }
     },
     "e6ada7a346be4101b3f5690b0e2bed2a": {
      "model_module": "@jupyter-widgets/controls",
      "model_module_version": "1.0.0",
      "model_name": "FloatSliderModel",
      "state": {
       "continuous_update": false,
       "description": "Zoom",
       "layout": "IPY_MODEL_71c8426f46af43a58dcbb7ada2408831",
       "max": 3,
       "min": 0.5,
       "step": 0.1,
       "style": "IPY_MODEL_99ebe4299a334b48b3edefefde72556b",
       "value": 1
      }
     },
     "e9606a18df9f44aa9e3e021d393ce31e": {
      "model_module": "@jupyter-widgets/controls",
      "model_module_version": "1.0.0",
      "model_name": "VBoxModel",
      "state": {
       "children": [
        "IPY_MODEL_b624e78ff2304fed9e643416c3aaf442",
        "IPY_MODEL_38022f3fdd2f432ea095879d23e5ed20",
        "IPY_MODEL_b1a07368c7c74b3aa888aecf464b9f75",
        "IPY_MODEL_285186c2c53c41d8b09572d4b7357f7a",
        "IPY_MODEL_261cb46bf5334ab9a95b4c8868fcee50",
        "IPY_MODEL_3bc74df98e964a8bbbed9dca4414f825",
        "IPY_MODEL_5bc3830b6e49455d98d90a0d5996fcc9"
       ],
       "layout": "IPY_MODEL_5a43ffd2d0ef4a5c9ed369d5744599a1"
      }
     },
     "e9a03fb5cd084c4496b03b6befa388ea": {
      "model_module": "@jupyter-widgets/controls",
      "model_module_version": "1.0.0",
      "model_name": "FloatTextModel",
      "state": {
       "description": "Rightmost color maps to:",
       "layout": "IPY_MODEL_29f93ffc90d14d918a77290ef7eccf64",
       "step": null,
       "style": "IPY_MODEL_5ac4e512799c4688a66946694ecbb7ac",
       "value": 1
      }
     },
     "ebec195cfcbd498384d2a7ba31f48831": {
      "model_module": "@jupyter-widgets/base",
      "model_module_version": "1.0.0",
      "model_name": "LayoutModel",
      "state": {}
     },
     "eeac0c304a0b4b5387503f00ec61295d": {
      "model_module": "@jupyter-widgets/controls",
      "model_module_version": "1.0.0",
      "model_name": "CheckboxModel",
      "state": {
       "description": "Visible",
       "disabled": false,
       "layout": "IPY_MODEL_0169d3a3fc6f45a9a227e73e7898c690",
       "style": "IPY_MODEL_1b38e791573641319e6b2b54f7e55161",
       "value": true
      }
     },
     "ef2fa2b857da4bb1ad499beea424f7f3": {
      "model_module": "@jupyter-widgets/controls",
      "model_module_version": "1.0.0",
      "model_name": "DescriptionStyleModel",
      "state": {
       "description_width": "initial"
      }
     },
     "f0ee8b1b539f45f1998ca4a02e37a8a8": {
      "model_module": "@jupyter-widgets/controls",
      "model_module_version": "1.0.0",
      "model_name": "DescriptionStyleModel",
      "state": {
       "description_width": "initial"
      }
     },
     "f118c9c4ac7c4532bf7026b715d7cff6": {
      "model_module": "@jupyter-widgets/controls",
      "model_module_version": "1.0.0",
      "model_name": "VBoxModel",
      "state": {
       "children": [
        "IPY_MODEL_b3a1acbd8b424fde8500cd22df5de7a7",
        "IPY_MODEL_e6ada7a346be4101b3f5690b0e2bed2a",
        "IPY_MODEL_0aaca10a35524d7681f9b0b1366e6771",
        "IPY_MODEL_a0e100755dbf48209d6bbf98e0b0ff76",
        "IPY_MODEL_deba4e9fdec748a7b75e9890fb6a4c9b",
        "IPY_MODEL_1d57314b536e4fdcbc8aa34e1ee2f45b",
        "IPY_MODEL_31550ce486b04f97803480682553afe8",
        "IPY_MODEL_b31400c3e21e497b961d85a6a0520b65"
       ],
       "layout": "IPY_MODEL_283c98482a524e4aab85941d39faf694"
      }
     },
     "f11f925caa2c453b9c87a454420284d2": {
      "model_module": "@jupyter-widgets/controls",
      "model_module_version": "1.0.0",
      "model_name": "LabelModel",
      "state": {
       "layout": "IPY_MODEL_f4e44adc20884b6e8cc9dd27ccf59d67",
       "style": "IPY_MODEL_4cb07862c38a49a8a97be8622560e2d2",
       "value": "of 0"
      }
     },
     "f42317cc60ef49b1b15f065b9be9d982": {
      "model_module": "@jupyter-widgets/base",
      "model_module_version": "1.0.0",
      "model_name": "LayoutModel",
      "state": {}
     },
     "f4e44adc20884b6e8cc9dd27ccf59d67": {
      "model_module": "@jupyter-widgets/base",
      "model_module_version": "1.0.0",
      "model_name": "LayoutModel",
      "state": {
       "width": "100px"
      }
     },
     "f5c75bf37e1d4db0a3dd41ded5194949": {
      "model_module": "@jupyter-widgets/controls",
      "model_module_version": "1.0.0",
      "model_name": "DescriptionStyleModel",
      "state": {
       "description_width": "initial"
      }
     },
     "f73401bf741044a0aabea720fa26e633": {
      "model_module": "@jupyter-widgets/controls",
      "model_module_version": "1.0.0",
      "model_name": "ButtonModel",
      "state": {
       "icon": "fast-backward",
       "layout": "IPY_MODEL_5cce0293b02c4f0383094102a0aa2ee6",
       "style": "IPY_MODEL_31091b68052b4df791520da2ffa043b0"
      }
     },
     "f8c3ce32c15c4bf8ba474033bd3930a7": {
      "model_module": "@jupyter-widgets/base",
      "model_module_version": "1.0.0",
      "model_name": "LayoutModel",
      "state": {}
     },
     "f9a1db6a0f5e4f4895c7183045a6240c": {
      "model_module": "@jupyter-widgets/base",
      "model_module_version": "1.0.0",
      "model_name": "LayoutModel",
      "state": {
       "width": "100%"
      }
     },
     "fa3b54a5292b4a148218e263a0b17496": {
      "model_module": "@jupyter-widgets/controls",
      "model_module_version": "1.0.0",
      "model_name": "CheckboxModel",
      "state": {
       "description": "Errors",
       "disabled": false,
       "layout": "IPY_MODEL_0169d3a3fc6f45a9a227e73e7898c690",
       "style": "IPY_MODEL_ca825f88bd474cd098b6608e376644f9",
       "value": false
      }
     },
     "fb35b99c317a4c84b12bd7cba1501804": {
      "model_module": "@jupyter-widgets/base",
      "model_module_version": "1.0.0",
      "model_name": "LayoutModel",
      "state": {}
     },
     "fb39055b3c4f47fc88600d4be272f846": {
      "model_module": "@jupyter-widgets/controls",
      "model_module_version": "1.0.0",
      "model_name": "DescriptionStyleModel",
      "state": {
       "description_width": "initial"
      }
     },
     "fc845f8cd4424df7add26174e9d9431d": {
      "model_module": "@jupyter-widgets/controls",
      "model_module_version": "1.0.0",
      "model_name": "VBoxModel",
      "state": {
       "children": [
        "IPY_MODEL_c042a95007fb43ed88040bd0409cdc00",
        "IPY_MODEL_b307f37e054f44918f3def4e250bd94d"
       ],
       "layout": "IPY_MODEL_34256888558e42e3b0fefdf99a0d5c24"
      }
     },
     "fce29e569cf94d4e9138aae12c9b7f52": {
      "model_module": "@jupyter-widgets/controls",
      "model_module_version": "1.0.0",
      "model_name": "AccordionModel",
      "state": {
       "_titles": {
        "0": "XOR Network"
       },
       "children": [
        "IPY_MODEL_300c47b9c8534ba2ad8c12f7e0c011aa"
       ],
       "layout": "IPY_MODEL_bb575c34ff514de7817808ab606eeaee",
       "selected_index": null
      }
     },
     "fdd81a85237b4dfe99652b9c393f1c65": {
      "model_module": "@jupyter-widgets/base",
      "model_module_version": "1.0.0",
      "model_name": "LayoutModel",
      "state": {}
     },
     "ff2d126600274dd9b350b4b86b61eb35": {
      "model_module": "@jupyter-widgets/base",
      "model_module_version": "1.0.0",
      "model_name": "LayoutModel",
      "state": {}
     },
     "ff620c321f02417f920ea10302767c4b": {
      "model_module": "@jupyter-widgets/base",
      "model_module_version": "1.0.0",
      "model_name": "LayoutModel",
      "state": {}
     }
    },
    "version_major": 2,
    "version_minor": 0
   }
  }
 },
 "nbformat": 4,
 "nbformat_minor": 2
}
