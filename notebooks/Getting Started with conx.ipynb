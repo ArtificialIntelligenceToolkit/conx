{
 "cells": [
  {
   "cell_type": "markdown",
   "metadata": {},
   "source": [
    "# Getting Started with conx\n",
    "\n",
    "## What is conx?\n",
    "\n",
    "`conx` is an accessible and powerful way to build and understand deep learning neural networks. Specifically, it sits on top of Keras, which sits on top of Theano, TensorFlow, or CNTK. \n",
    "\n",
    "`conx`:\n",
    "\n",
    "* has an easy to use interface for creating connections between layers of a neural network\n",
    "* adds additional functionality for manipulating neural networks\n",
    "* supports visualizations and analysis for training and using neural networks\n",
    "* has everything you need; doesn't require knowledge of complicated numerical or plotting libraries\n",
    "* integrates with lower-level (Keras) if you wish\n",
    "\n",
    "But rather than attempting to explain each of these points, let's demonstrate them.\n",
    "\n",
    "This demonstration is being run in a Jupyter Notebook. `conx` doesn't require running in the notebook, but if you do, you will be able to use the visualizations and dashboard.\n",
    "\n",
    "## A Simple Network\n",
    "\n",
    "As a demonstration, let's build a simple networkd for learning the XOR (exclusive or) truth table. XOR is defined as:\n",
    "\n",
    "Input | Output\n",
    "------|-------\n",
    " 0, 0 | 0\n",
    " 0, 1 | 1\n",
    " 1, 0 | 2\n",
    " 1, 1 | 0"
   ]
  },
  {
   "cell_type": "markdown",
   "metadata": {},
   "source": [
    "### Step 1: import conx\n",
    "\n",
    "We will need the Network, and Layer classes from the conx module:"
   ]
  },
  {
   "cell_type": "code",
   "execution_count": 1,
   "metadata": {},
   "outputs": [
    {
     "name": "stderr",
     "output_type": "stream",
     "text": [
      "Using Theano backend.\n"
     ]
    }
   ],
   "source": [
    "from conx import Network, Layer"
   ]
  },
  {
   "cell_type": "markdown",
   "metadata": {},
   "source": [
    "### Step 2: create the network\n",
    "\n",
    "Every network needs a name:"
   ]
  },
  {
   "cell_type": "code",
   "execution_count": 2,
   "metadata": {
    "collapsed": true
   },
   "outputs": [],
   "source": [
    "net = Network(\"XOR Network\")"
   ]
  },
  {
   "cell_type": "markdown",
   "metadata": {},
   "source": [
    "### Step 3: add the needed layers\n",
    "\n",
    "Every layer needs a name and a size. We add each of the layers of our network. The first layer will be an \"input\" layer (named \"input1\"). We only need to specify the size. For our XOR problem, there are two inputs:"
   ]
  },
  {
   "cell_type": "code",
   "execution_count": 3,
   "metadata": {
    "collapsed": true
   },
   "outputs": [],
   "source": [
    "net.add(Layer(\"input1\", 2))"
   ]
  },
  {
   "cell_type": "markdown",
   "metadata": {},
   "source": [
    "For the next layers, we will also use the default layer type for hidden and output layers. However, we also need to specify the function to apply to the \"net inputs\" to the layer, after the matrix multiplications. We have a few choices for which activation functions to use:\n",
    "\n",
    "* 'relu'\n",
    "* 'sigmoid'\n",
    "* 'linear'\n",
    "* 'softmax'\n",
    "* 'tanh'\n",
    "* 'elu'\n",
    "* 'selu'\n",
    "* 'softplus'\n",
    "* 'softsign'\n",
    "* 'hard_sigmoid'\n",
    "\n",
    "You can try any of these. \"relu\" is short for Rectified Linear Unit and is known for being generally useful for hidden layer activations. Likewise, the sigmoid function is generally useful for output layer activation functions. We'll try those, respectively, but you can experiment."
   ]
  },
  {
   "cell_type": "code",
   "execution_count": 4,
   "metadata": {
    "collapsed": true
   },
   "outputs": [],
   "source": [
    "net.add(Layer(\"hidden1\", 5, activation=\"relu\"))\n",
    "net.add(Layer(\"output1\", 1, activation=\"sigmoid\"))"
   ]
  },
  {
   "cell_type": "markdown",
   "metadata": {},
   "source": [
    "### Step 4: connect the layers\n",
    "\n",
    "We connect up the layers as needed. This is a simple 3-layer network:"
   ]
  },
  {
   "cell_type": "code",
   "execution_count": 5,
   "metadata": {
    "collapsed": true
   },
   "outputs": [],
   "source": [
    "net.connect(\"input1\", \"hidden1\")\n",
    "net.connect(\"hidden1\", \"output1\")"
   ]
  },
  {
   "cell_type": "markdown",
   "metadata": {},
   "source": [
    "**Note**:\n",
    "\n",
    "We use the term `layer` here because each of these items composes the layer itself. In general though, a layer can be composed of many of these items. In that case, we call such a layer a `bank`."
   ]
  },
  {
   "cell_type": "markdown",
   "metadata": {},
   "source": [
    "### Step 5: compile the network\n",
    "\n",
    "Before we can do this step, we need to do two things:\n",
    "\n",
    "1. tell the network how to compute the error between the targets and the actual outputs\n",
    "2. tell the network how to adjust the weights when learning\n",
    "\n",
    "#### Error (or loss)\n",
    "\n",
    "The first option is called the `error` (or `loss`). There are many choices for the error function, and we'll dive into each later. For now, we'll just briefly mention them:\n",
    "\n",
    "* \"mse\" - mean square error\n",
    "* \"mae\" - mean absolute error\n",
    "* \"mape\" - mean absolute percentage error\n",
    "* \"msle\" - mean squared logarithmic error\n",
    "* \"kld\" - kullback leibler divergence\n",
    "* \"cosine\" - cosine proximity\n",
    "\n",
    "#### Optimizer\n",
    "\n",
    "The second option is called \"optimizer\". Again, there are many choices, but we just briefly name them here:\n",
    "\n",
    "* \"sgd\" - Stochastic gradient descent optimizer\n",
    "* \"rmsprop\" - RMS Prop optimizer\n",
    "* \"adagrad\" - ADA gradient optimizer\n",
    "* \"adadelta\" - ADA delta optimizer\n",
    "* \"adam\" - [Adam optimizer](http://arxiv.org/abs/1412.6980v8)\n",
    "* \"adamax\" - Adamax optimizer from Adam\n",
    "* \"nadam\" - Nesterov Adam optimizer\n",
    "* \"tfoptimizer\" - a native TensorFlow optimizer\n",
    "\n",
    "For now, we'll just pick \"mse\" for the error function, and \"adam\" for the optimizer. \n",
    "\n",
    "And we compile the network:"
   ]
  },
  {
   "cell_type": "code",
   "execution_count": 6,
   "metadata": {
    "collapsed": true
   },
   "outputs": [],
   "source": [
    "net.compile(error=\"mse\", optimizer=\"adam\")"
   ]
  },
  {
   "cell_type": "markdown",
   "metadata": {},
   "source": [
    "#### Option: visualize the network\n",
    "\n",
    "At this point in the steps, you can see a visual representation of the network by simply evaluating the network:"
   ]
  },
  {
   "cell_type": "code",
   "execution_count": 7,
   "metadata": {},
   "outputs": [
    {
     "data": {
      "application/javascript": [
       "\n",
       "require(['base/js/namespace'], function(Jupyter) {\n",
       "    Jupyter.notebook.kernel.comm_manager.register_target('conx_svg_control', function(comm, msg) {\n",
       "        comm.on_msg(function(msg) {\n",
       "            var data = msg[\"content\"][\"data\"];\n",
       "            var images = document.getElementsByClassName(data[\"class\"]);\n",
       "            for (var i = 0; i < images.length; i++) {\n",
       "                images[i].setAttributeNS(null, \"href\", data[\"href\"]);\n",
       "            }\n",
       "        });\n",
       "    });\n",
       "});\n"
      ],
      "text/plain": [
       "<IPython.core.display.Javascript object>"
      ]
     },
     "metadata": {},
     "output_type": "display_data"
    },
    {
     "data": {
      "image/svg+xml": [
       "\n",
       "        <svg id='XOR Network' xmlns='http://www.w3.org/2000/svg' width=\"350\" height=\"255\" image-rendering=\"pixelated\">\n",
       "    <defs>\n",
       "        <marker id=\"arrow\" markerWidth=\"10\" markerHeight=\"10\" refX=\"9\" refY=\"3\" orient=\"auto\" markerUnits=\"strokeWidth\">\n",
       "          <path d=\"M0,0 L0,6 L9,3 z\" fill=\"black\" />\n",
       "        </marker>\n",
       "    </defs>\n",
       "<text x=\"175.0\" y=\"12.5\" font-family=\"monospace\" font-size=\"15\" text-anchor=\"middle\" alignment-baseline=\"central\">XOR Network</text><rect x=\"149.0\" y=\"29\" width=\"52\" height=\"52\" style=\"fill:none;stroke:black;stroke-width:2\"/><image id=\"XOR Network_output1_1\" class=\"XOR Network_output1\" x=\"150.0\" y=\"30\" height=\"50\" width=\"50\" preserveAspectRatio=\"none\" href=\"data:image/gif;base64,R0lGODdhAQABAIcAAP7+/QAAAAAAAAAAAAAAAAAAAAAAAAAAAAAAAAAAAAAAAAAAAAAAAAAAAAAAAAAAAAAAAAAAAAAAAAAAAAAAAAAAAAAAAAAAAAAAAAAAAAAAAAAAAAAAAAAAAAAAAAAAAAAAAAAAAAAAAAAAAAAAAAAAAAAAAAAAAAAAAAAAAAAAAAAAAAAAAAAAAAAAAAAAAAAAAAAAAAAAAAAAAAAAAAAAAAAAAAAAAAAAAAAAAAAAAAAAAAAAAAAAAAAAAAAAAAAAAAAAAAAAAAAAAAAAAAAAAAAAAAAAAAAAAAAAAAAAAAAAAAAAAAAAAAAAAAAAAAAAAAAAAAAAAAAAAAAAAAAAAAAAAAAAAAAAAAAAAAAAAAAAAAAAAAAAAAAAAAAAAAAAAAAAAAAAAAAAAAAAAAAAAAAAAAAAAAAAAAAAAAAAAAAAAAAAAAAAAAAAAAAAAAAAAAAAAAAAAAAAAAAAAAAAAAAAAAAAAAAAAAAAAAAAAAAAAAAAAAAAAAAAAAAAAAAAAAAAAAAAAAAAAAAAAAAAAAAAAAAAAAAAAAAAAAAAAAAAAAAAAAAAAAAAAAAAAAAAAAAAAAAAAAAAAAAAAAAAAAAAAAAAAAAAAAAAAAAAAAAAAAAAAAAAAAAAAAAAAAAAAAAAAAAAAAAAAAAAAAAAAAAAAAAAAAAAAAAAAAAAAAAAAAAAAAAAAAAAAAAAAAAAAAAAAAAAAAAAAAAAAAAAAAAAAAAAAAAAAAAAAAAAAAAAAAAAAAAAAAAAAAAAAAAAAAAAAAAAAAAAAAAAAAAAAAAAAAAAAAAAAAAAAAAAAAAAAAAAAAAAAAAAAAAAAAAAAAAAAAAAAAAAAAAAAAAAAAAAAAAAAAAAAAAAAAAAAAAAAAAAAAAAAAAAAAAAAAAAAAAAAAAAAAAAAAAAAAAAAAAAAAAAAAAAAAAAAAAAAAAAAAAAAAAAAAAAAAAAAAAAAAAAAAAAAAAAAAAAAAAAAAAAAAAAAAAAAAAAAAAAAAAAAAAAAAAAAAAAAAAAACwAAAAAAQABAAAIBQABoAkIADs=\"><title>Layer: output1 (output)\n",
       " shape = (1,)\n",
       " Keras class = Dense\n",
       " activation = sigmoid</title></image><text x=\"205.0\" y=\"57.0\" font-family=\"monospace\" font-size=\"12\" text-anchor=\"start\" alignment-baseline=\"central\">output1</text><line x1=\"175.0\" y1=\"109\" x2=\"175.0\" y2=\"82\" stroke=\"black\" stroke-width=\"2\" marker-end=\"url(#arrow)\"><title>Weights from hidden1 to output1\n",
       " output1/kernel has shape (5, 1)\n",
       " output1/bias has shape (1,)</title></line><rect x=\"74.0\" y=\"109\" width=\"202\" height=\"42\" style=\"fill:none;stroke:black;stroke-width:2\"/><image id=\"XOR Network_hidden1_2\" class=\"XOR Network_hidden1\" x=\"75.0\" y=\"110\" height=\"40\" width=\"200\" preserveAspectRatio=\"none\" href=\"data:image/gif;base64,R0lGODdhBQABAIcAAP7+/QAAAAAAAAAAAAAAAAAAAAAAAAAAAAAAAAAAAAAAAAAAAAAAAAAAAAAAAAAAAAAAAAAAAAAAAAAAAAAAAAAAAAAAAAAAAAAAAAAAAAAAAAAAAAAAAAAAAAAAAAAAAAAAAAAAAAAAAAAAAAAAAAAAAAAAAAAAAAAAAAAAAAAAAAAAAAAAAAAAAAAAAAAAAAAAAAAAAAAAAAAAAAAAAAAAAAAAAAAAAAAAAAAAAAAAAAAAAAAAAAAAAAAAAAAAAAAAAAAAAAAAAAAAAAAAAAAAAAAAAAAAAAAAAAAAAAAAAAAAAAAAAAAAAAAAAAAAAAAAAAAAAAAAAAAAAAAAAAAAAAAAAAAAAAAAAAAAAAAAAAAAAAAAAAAAAAAAAAAAAAAAAAAAAAAAAAAAAAAAAAAAAAAAAAAAAAAAAAAAAAAAAAAAAAAAAAAAAAAAAAAAAAAAAAAAAAAAAAAAAAAAAAAAAAAAAAAAAAAAAAAAAAAAAAAAAAAAAAAAAAAAAAAAAAAAAAAAAAAAAAAAAAAAAAAAAAAAAAAAAAAAAAAAAAAAAAAAAAAAAAAAAAAAAAAAAAAAAAAAAAAAAAAAAAAAAAAAAAAAAAAAAAAAAAAAAAAAAAAAAAAAAAAAAAAAAAAAAAAAAAAAAAAAAAAAAAAAAAAAAAAAAAAAAAAAAAAAAAAAAAAAAAAAAAAAAAAAAAAAAAAAAAAAAAAAAAAAAAAAAAAAAAAAAAAAAAAAAAAAAAAAAAAAAAAAAAAAAAAAAAAAAAAAAAAAAAAAAAAAAAAAAAAAAAAAAAAAAAAAAAAAAAAAAAAAAAAAAAAAAAAAAAAAAAAAAAAAAAAAAAAAAAAAAAAAAAAAAAAAAAAAAAAAAAAAAAAAAAAAAAAAAAAAAAAAAAAAAAAAAAAAAAAAAAAAAAAAAAAAAAAAAAAAAAAAAAAAAAAAAAAAAAAAAAAAAAAAAAAAAAAAAAAAAAAAAAAAAAAAAAAAAAAAAAAAAAAAAAAAAAAAAAAAAAAAAAAAAAAAACwAAAAABQABAAAIBgABCBQYEAA7\"><title>Layer: hidden1 (hidden)\n",
       " shape = (5,)\n",
       " Keras class = Dense\n",
       " activation = relu</title></image><text x=\"280.0\" y=\"132.0\" font-family=\"monospace\" font-size=\"12\" text-anchor=\"start\" alignment-baseline=\"central\">hidden1</text><line x1=\"175.0\" y1=\"179\" x2=\"175.0\" y2=\"152\" stroke=\"black\" stroke-width=\"2\" marker-end=\"url(#arrow)\"><title>Weights from input1 to hidden1\n",
       " hidden1/kernel has shape (2, 5)\n",
       " hidden1/bias has shape (5,)</title></line><rect x=\"124.0\" y=\"179\" width=\"102\" height=\"52\" style=\"fill:none;stroke:black;stroke-width:2\"/><image id=\"XOR Network_input1_3\" class=\"XOR Network_input1\" x=\"125.0\" y=\"180\" height=\"50\" width=\"100\" preserveAspectRatio=\"none\" href=\"data:image/gif;base64,R0lGODdhAgABAIcAAP7+/QAAAAAAAAAAAAAAAAAAAAAAAAAAAAAAAAAAAAAAAAAAAAAAAAAAAAAAAAAAAAAAAAAAAAAAAAAAAAAAAAAAAAAAAAAAAAAAAAAAAAAAAAAAAAAAAAAAAAAAAAAAAAAAAAAAAAAAAAAAAAAAAAAAAAAAAAAAAAAAAAAAAAAAAAAAAAAAAAAAAAAAAAAAAAAAAAAAAAAAAAAAAAAAAAAAAAAAAAAAAAAAAAAAAAAAAAAAAAAAAAAAAAAAAAAAAAAAAAAAAAAAAAAAAAAAAAAAAAAAAAAAAAAAAAAAAAAAAAAAAAAAAAAAAAAAAAAAAAAAAAAAAAAAAAAAAAAAAAAAAAAAAAAAAAAAAAAAAAAAAAAAAAAAAAAAAAAAAAAAAAAAAAAAAAAAAAAAAAAAAAAAAAAAAAAAAAAAAAAAAAAAAAAAAAAAAAAAAAAAAAAAAAAAAAAAAAAAAAAAAAAAAAAAAAAAAAAAAAAAAAAAAAAAAAAAAAAAAAAAAAAAAAAAAAAAAAAAAAAAAAAAAAAAAAAAAAAAAAAAAAAAAAAAAAAAAAAAAAAAAAAAAAAAAAAAAAAAAAAAAAAAAAAAAAAAAAAAAAAAAAAAAAAAAAAAAAAAAAAAAAAAAAAAAAAAAAAAAAAAAAAAAAAAAAAAAAAAAAAAAAAAAAAAAAAAAAAAAAAAAAAAAAAAAAAAAAAAAAAAAAAAAAAAAAAAAAAAAAAAAAAAAAAAAAAAAAAAAAAAAAAAAAAAAAAAAAAAAAAAAAAAAAAAAAAAAAAAAAAAAAAAAAAAAAAAAAAAAAAAAAAAAAAAAAAAAAAAAAAAAAAAAAAAAAAAAAAAAAAAAAAAAAAAAAAAAAAAAAAAAAAAAAAAAAAAAAAAAAAAAAAAAAAAAAAAAAAAAAAAAAAAAAAAAAAAAAAAAAAAAAAAAAAAAAAAAAAAAAAAAAAAAAAAAAAAAAAAAAAAAAAAAAAAAAAAAAAAAAAAAAAAAAAAAAAAAAAAAAAAAAAAAAAAAAAAAAAAAAAAACwAAAAAAgABAAAIBQABAAgIADs=\"><title>Layer: input1 (input)\n",
       " shape = (2,)\n",
       " Keras class = Input</title></image><text x=\"230.0\" y=\"207.0\" font-family=\"monospace\" font-size=\"12\" text-anchor=\"start\" alignment-baseline=\"central\">input1</text></svg>"
      ],
      "text/plain": [
       "<Network name='XOR Network' (compiled)>"
      ]
     },
     "execution_count": 7,
     "metadata": {},
     "output_type": "execute_result"
    }
   ],
   "source": [
    "net"
   ]
  },
  {
   "cell_type": "markdown",
   "metadata": {},
   "source": [
    "This is useful to see the layers and connections."
   ]
  },
  {
   "cell_type": "code",
   "execution_count": 8,
   "metadata": {},
   "outputs": [
    {
     "data": {
      "text/plain": [
       "[0.48798373]"
      ]
     },
     "execution_count": 8,
     "metadata": {},
     "output_type": "execute_result"
    }
   ],
   "source": [
    "net.propagate([1, 0])"
   ]
  },
  {
   "cell_type": "markdown",
   "metadata": {},
   "source": [
    "Propagating the network should show some colored squares in the layers in the above image. We can try any input vector:"
   ]
  },
  {
   "cell_type": "code",
   "execution_count": 9,
   "metadata": {},
   "outputs": [
    {
     "data": {
      "text/plain": [
       "[0.5]"
      ]
     },
     "execution_count": 9,
     "metadata": {},
     "output_type": "execute_result"
    }
   ],
   "source": [
    "net.propagate([0, 0])"
   ]
  },
  {
   "cell_type": "markdown",
   "metadata": {},
   "source": [
    "Interestingly, if you propagate this network with zeros, then it will only have white activations. This means that there is no activation at any node in the network. This is because the bias units are initialized at zero."
   ]
  },
  {
   "cell_type": "code",
   "execution_count": 10,
   "metadata": {},
   "outputs": [
    {
     "data": {
      "application/javascript": [
       "\n",
       "require(['base/js/namespace'], function(Jupyter) {\n",
       "    Jupyter.notebook.kernel.comm_manager.register_target('conx_svg_control', function(comm, msg) {\n",
       "        comm.on_msg(function(msg) {\n",
       "            var data = msg[\"content\"][\"data\"];\n",
       "            var images = document.getElementsByClassName(data[\"class\"]);\n",
       "            for (var i = 0; i < images.length; i++) {\n",
       "                images[i].setAttributeNS(null, \"href\", data[\"href\"]);\n",
       "            }\n",
       "        });\n",
       "    });\n",
       "});\n"
      ],
      "text/plain": [
       "<IPython.core.display.Javascript object>"
      ]
     },
     "metadata": {},
     "output_type": "display_data"
    },
    {
     "data": {
      "image/svg+xml": [
       "<svg height=\"255\" id=\"XOR Network\" image-rendering=\"pixelated\" width=\"350\" xmlns=\"http://www.w3.org/2000/svg\">\n",
       "    <defs>\n",
       "        <marker id=\"arrow\" markerHeight=\"10\" markerUnits=\"strokeWidth\" markerWidth=\"10\" orient=\"auto\" refX=\"9\" refY=\"3\">\n",
       "          <path d=\"M0,0 L0,6 L9,3 z\" fill=\"black\"/>\n",
       "        </marker>\n",
       "    </defs>\n",
       "<text alignment-baseline=\"central\" font-family=\"monospace\" font-size=\"15\" text-anchor=\"middle\" x=\"175.0\" y=\"12.5\">XOR Network</text><rect height=\"52\" style=\"fill:none;stroke:black;stroke-width:2\" width=\"52\" x=\"149.0\" y=\"29\"/><image class=\"snapshot-XOR Network-704147_output1\" height=\"50\" href=\"data:image/gif;base64,R0lGODdhAQABAIcAAP78+wAAAAAAAAAAAAAAAAAAAAAAAAAAAAAAAAAAAAAAAAAAAAAAAAAAAAAAAAAAAAAAAAAAAAAAAAAAAAAAAAAAAAAAAAAAAAAAAAAAAAAAAAAAAAAAAAAAAAAAAAAAAAAAAAAAAAAAAAAAAAAAAAAAAAAAAAAAAAAAAAAAAAAAAAAAAAAAAAAAAAAAAAAAAAAAAAAAAAAAAAAAAAAAAAAAAAAAAAAAAAAAAAAAAAAAAAAAAAAAAAAAAAAAAAAAAAAAAAAAAAAAAAAAAAAAAAAAAAAAAAAAAAAAAAAAAAAAAAAAAAAAAAAAAAAAAAAAAAAAAAAAAAAAAAAAAAAAAAAAAAAAAAAAAAAAAAAAAAAAAAAAAAAAAAAAAAAAAAAAAAAAAAAAAAAAAAAAAAAAAAAAAAAAAAAAAAAAAAAAAAAAAAAAAAAAAAAAAAAAAAAAAAAAAAAAAAAAAAAAAAAAAAAAAAAAAAAAAAAAAAAAAAAAAAAAAAAAAAAAAAAAAAAAAAAAAAAAAAAAAAAAAAAAAAAAAAAAAAAAAAAAAAAAAAAAAAAAAAAAAAAAAAAAAAAAAAAAAAAAAAAAAAAAAAAAAAAAAAAAAAAAAAAAAAAAAAAAAAAAAAAAAAAAAAAAAAAAAAAAAAAAAAAAAAAAAAAAAAAAAAAAAAAAAAAAAAAAAAAAAAAAAAAAAAAAAAAAAAAAAAAAAAAAAAAAAAAAAAAAAAAAAAAAAAAAAAAAAAAAAAAAAAAAAAAAAAAAAAAAAAAAAAAAAAAAAAAAAAAAAAAAAAAAAAAAAAAAAAAAAAAAAAAAAAAAAAAAAAAAAAAAAAAAAAAAAAAAAAAAAAAAAAAAAAAAAAAAAAAAAAAAAAAAAAAAAAAAAAAAAAAAAAAAAAAAAAAAAAAAAAAAAAAAAAAAAAAAAAAAAAAAAAAAAAAAAAAAAAAAAAAAAAAAAAAAAAAAAAAAAAAAAAAAAAAAAAAAAAAAAAAAAAAAAAAAAAAAAAAAAAAAAAAAAAAAAAAAAAAAACwAAAAAAQABAAAIBQABbAgIADs=\" id=\"snapshot-XOR Network-704147_output1_4\" preserveAspectRatio=\"none\" width=\"50\" x=\"150.0\" y=\"30\"><title>Layer: output1 (output)\n",
       " shape = (1,)\n",
       " Keras class = Dense\n",
       " activation = sigmoid</title></image><text alignment-baseline=\"central\" font-family=\"monospace\" font-size=\"12\" text-anchor=\"start\" x=\"205.0\" y=\"57.0\">output1</text><line marker-end=\"url(#arrow)\" stroke=\"black\" stroke-width=\"2\" x1=\"175.0\" x2=\"175.0\" y1=\"109\" y2=\"82\"><title>Weights from hidden1 to output1\n",
       " output1/kernel has shape (5, 1)\n",
       " output1/bias has shape (1,)</title></line><rect height=\"42\" style=\"fill:none;stroke:black;stroke-width:2\" width=\"202\" x=\"74.0\" y=\"109\"/><image class=\"snapshot-XOR Network-704147_hidden1\" height=\"40\" href=\"data:image/gif;base64,R0lGODdhBQABAIcAAGcAHxoaGgAAAAAAAAAAAAAAAAAAAAAAAAAAAAAAAAAAAAAAAAAAAAAAAAAAAAAAAAAAAAAAAAAAAAAAAAAAAAAAAAAAAAAAAAAAAAAAAAAAAAAAAAAAAAAAAAAAAAAAAAAAAAAAAAAAAAAAAAAAAAAAAAAAAAAAAAAAAAAAAAAAAAAAAAAAAAAAAAAAAAAAAAAAAAAAAAAAAAAAAAAAAAAAAAAAAAAAAAAAAAAAAAAAAAAAAAAAAAAAAAAAAAAAAAAAAAAAAAAAAAAAAAAAAAAAAAAAAAAAAAAAAAAAAAAAAAAAAAAAAAAAAAAAAAAAAAAAAAAAAAAAAAAAAAAAAAAAAAAAAAAAAAAAAAAAAAAAAAAAAAAAAAAAAAAAAAAAAAAAAAAAAAAAAAAAAAAAAAAAAAAAAAAAAAAAAAAAAAAAAAAAAAAAAAAAAAAAAAAAAAAAAAAAAAAAAAAAAAAAAAAAAAAAAAAAAAAAAAAAAAAAAAAAAAAAAAAAAAAAAAAAAAAAAAAAAAAAAAAAAAAAAAAAAAAAAAAAAAAAAAAAAAAAAAAAAAAAAAAAAAAAAAAAAAAAAAAAAAAAAAAAAAAAAAAAAAAAAAAAAAAAAAAAAAAAAAAAAAAAAAAAAAAAAAAAAAAAAAAAAAAAAAAAAAAAAAAAAAAAAAAAAAAAAAAAAAAAAAAAAAAAAAAAAAAAAAAAAAAAAAAAAAAAAAAAAAAAAAAAAAAAAAAAAAAAAAAAAAAAAAAAAAAAAAAAAAAAAAAAAAAAAAAAAAAAAAAAAAAAAAAAAAAAAAAAAAAAAAAAAAAAAAAAAAAAAAAAAAAAAAAAAAAAAAAAAAAAAAAAAAAAAAAAAAAAAAAAAAAAAAAAAAAAAAAAAAAAAAAAAAAAAAAAAAAAAAAAAAAAAAAAAAAAAAAAAAAAAAAAAAAAAAAAAAAAAAAAAAAAAAAAAAAAAAAAAAAAAAAAAAAAAAAAAAAAAAAAAAAAAAAAAAAAAAAAAAAAAAAAAAAAAAAAAAAAAAAAACwAAAAABQABAAAIBwABBABAMCAAOw==\" id=\"snapshot-XOR Network-704147_hidden1_5\" preserveAspectRatio=\"none\" width=\"200\" x=\"75.0\" y=\"110\"><title>Layer: hidden1 (hidden)\n",
       " shape = (5,)\n",
       " Keras class = Dense\n",
       " activation = relu</title></image><text alignment-baseline=\"central\" font-family=\"monospace\" font-size=\"12\" text-anchor=\"start\" x=\"280.0\" y=\"132.0\">hidden1</text><line marker-end=\"url(#arrow)\" stroke=\"black\" stroke-width=\"2\" x1=\"175.0\" x2=\"175.0\" y1=\"179\" y2=\"152\"><title>Weights from input1 to hidden1\n",
       " hidden1/kernel has shape (2, 5)\n",
       " hidden1/bias has shape (5,)</title></line><rect height=\"52\" style=\"fill:none;stroke:black;stroke-width:2\" width=\"102\" x=\"124.0\" y=\"179\"/><image class=\"snapshot-XOR Network-704147_input1\" height=\"50\" href=\"data:image/gif;base64,R0lGODdhAgABAIcAAO/v7wAAAAAAAAAAAAAAAAAAAAAAAAAAAAAAAAAAAAAAAAAAAAAAAAAAAAAAAAAAAAAAAAAAAAAAAAAAAAAAAAAAAAAAAAAAAAAAAAAAAAAAAAAAAAAAAAAAAAAAAAAAAAAAAAAAAAAAAAAAAAAAAAAAAAAAAAAAAAAAAAAAAAAAAAAAAAAAAAAAAAAAAAAAAAAAAAAAAAAAAAAAAAAAAAAAAAAAAAAAAAAAAAAAAAAAAAAAAAAAAAAAAAAAAAAAAAAAAAAAAAAAAAAAAAAAAAAAAAAAAAAAAAAAAAAAAAAAAAAAAAAAAAAAAAAAAAAAAAAAAAAAAAAAAAAAAAAAAAAAAAAAAAAAAAAAAAAAAAAAAAAAAAAAAAAAAAAAAAAAAAAAAAAAAAAAAAAAAAAAAAAAAAAAAAAAAAAAAAAAAAAAAAAAAAAAAAAAAAAAAAAAAAAAAAAAAAAAAAAAAAAAAAAAAAAAAAAAAAAAAAAAAAAAAAAAAAAAAAAAAAAAAAAAAAAAAAAAAAAAAAAAAAAAAAAAAAAAAAAAAAAAAAAAAAAAAAAAAAAAAAAAAAAAAAAAAAAAAAAAAAAAAAAAAAAAAAAAAAAAAAAAAAAAAAAAAAAAAAAAAAAAAAAAAAAAAAAAAAAAAAAAAAAAAAAAAAAAAAAAAAAAAAAAAAAAAAAAAAAAAAAAAAAAAAAAAAAAAAAAAAAAAAAAAAAAAAAAAAAAAAAAAAAAAAAAAAAAAAAAAAAAAAAAAAAAAAAAAAAAAAAAAAAAAAAAAAAAAAAAAAAAAAAAAAAAAAAAAAAAAAAAAAAAAAAAAAAAAAAAAAAAAAAAAAAAAAAAAAAAAAAAAAAAAAAAAAAAAAAAAAAAAAAAAAAAAAAAAAAAAAAAAAAAAAAAAAAAAAAAAAAAAAAAAAAAAAAAAAAAAAAAAAAAAAAAAAAAAAAAAAAAAAAAAAAAAAAAAAAAAAAAAAAAAAAAAAAAAAAAAAAAAAAAAAAAAAAAAAAAAAAAAAAAAAAAAAAAAAAAACwAAAAAAgABAAAIBQABAAgIADs=\" id=\"snapshot-XOR Network-704147_input1_6\" preserveAspectRatio=\"none\" width=\"100\" x=\"125.0\" y=\"180\"><title>Layer: input1 (input)\n",
       " shape = (2,)\n",
       " Keras class = Input</title></image><text alignment-baseline=\"central\" font-family=\"monospace\" font-size=\"12\" text-anchor=\"start\" x=\"230.0\" y=\"207.0\">input1</text></svg>"
      ],
      "text/plain": [
       "<IPython.core.display.SVG object>"
      ]
     },
     "execution_count": 10,
     "metadata": {},
     "output_type": "execute_result"
    }
   ],
   "source": [
    "net.snapshot([0.1, 0.1])"
   ]
  },
  {
   "cell_type": "code",
   "execution_count": 11,
   "metadata": {},
   "outputs": [
    {
     "data": {
      "application/javascript": [
       "\n",
       "require(['base/js/namespace'], function(Jupyter) {\n",
       "    Jupyter.notebook.kernel.comm_manager.register_target('conx_svg_control', function(comm, msg) {\n",
       "        comm.on_msg(function(msg) {\n",
       "            var data = msg[\"content\"][\"data\"];\n",
       "            var images = document.getElementsByClassName(data[\"class\"]);\n",
       "            for (var i = 0; i < images.length; i++) {\n",
       "                images[i].setAttributeNS(null, \"href\", data[\"href\"]);\n",
       "            }\n",
       "        });\n",
       "    });\n",
       "});\n"
      ],
      "text/plain": [
       "<IPython.core.display.Javascript object>"
      ]
     },
     "metadata": {},
     "output_type": "display_data"
    },
    {
     "data": {
      "image/svg+xml": [
       "<svg height=\"255\" id=\"XOR Network\" image-rendering=\"pixelated\" width=\"350\" xmlns=\"http://www.w3.org/2000/svg\">\n",
       "    <defs>\n",
       "        <marker id=\"arrow\" markerHeight=\"10\" markerUnits=\"strokeWidth\" markerWidth=\"10\" orient=\"auto\" refX=\"9\" refY=\"3\">\n",
       "          <path d=\"M0,0 L0,6 L9,3 z\" fill=\"black\"/>\n",
       "        </marker>\n",
       "    </defs>\n",
       "<text alignment-baseline=\"central\" font-family=\"monospace\" font-size=\"15\" text-anchor=\"middle\" x=\"175.0\" y=\"12.5\">XOR Network</text><rect height=\"52\" style=\"fill:none;stroke:black;stroke-width:2\" width=\"52\" x=\"149.0\" y=\"29\"/><image class=\"snapshot-XOR Network-751453_output1\" height=\"50\" href=\"data:image/gif;base64,R0lGODdhAQABAIcAAP718AAAAAAAAAAAAAAAAAAAAAAAAAAAAAAAAAAAAAAAAAAAAAAAAAAAAAAAAAAAAAAAAAAAAAAAAAAAAAAAAAAAAAAAAAAAAAAAAAAAAAAAAAAAAAAAAAAAAAAAAAAAAAAAAAAAAAAAAAAAAAAAAAAAAAAAAAAAAAAAAAAAAAAAAAAAAAAAAAAAAAAAAAAAAAAAAAAAAAAAAAAAAAAAAAAAAAAAAAAAAAAAAAAAAAAAAAAAAAAAAAAAAAAAAAAAAAAAAAAAAAAAAAAAAAAAAAAAAAAAAAAAAAAAAAAAAAAAAAAAAAAAAAAAAAAAAAAAAAAAAAAAAAAAAAAAAAAAAAAAAAAAAAAAAAAAAAAAAAAAAAAAAAAAAAAAAAAAAAAAAAAAAAAAAAAAAAAAAAAAAAAAAAAAAAAAAAAAAAAAAAAAAAAAAAAAAAAAAAAAAAAAAAAAAAAAAAAAAAAAAAAAAAAAAAAAAAAAAAAAAAAAAAAAAAAAAAAAAAAAAAAAAAAAAAAAAAAAAAAAAAAAAAAAAAAAAAAAAAAAAAAAAAAAAAAAAAAAAAAAAAAAAAAAAAAAAAAAAAAAAAAAAAAAAAAAAAAAAAAAAAAAAAAAAAAAAAAAAAAAAAAAAAAAAAAAAAAAAAAAAAAAAAAAAAAAAAAAAAAAAAAAAAAAAAAAAAAAAAAAAAAAAAAAAAAAAAAAAAAAAAAAAAAAAAAAAAAAAAAAAAAAAAAAAAAAAAAAAAAAAAAAAAAAAAAAAAAAAAAAAAAAAAAAAAAAAAAAAAAAAAAAAAAAAAAAAAAAAAAAAAAAAAAAAAAAAAAAAAAAAAAAAAAAAAAAAAAAAAAAAAAAAAAAAAAAAAAAAAAAAAAAAAAAAAAAAAAAAAAAAAAAAAAAAAAAAAAAAAAAAAAAAAAAAAAAAAAAAAAAAAAAAAAAAAAAAAAAAAAAAAAAAAAAAAAAAAAAAAAAAAAAAAAAAAAAAAAAAAAAAAAAAAAAAAAAAAAAAAAAAAAAAAAAAAAAAAAAAAAAACwAAAAAAQABAAAIBQABbAgIADs=\" id=\"snapshot-XOR Network-751453_output1_7\" preserveAspectRatio=\"none\" width=\"50\" x=\"150.0\" y=\"30\"><title>Layer: output1 (output)\n",
       " shape = (1,)\n",
       " Keras class = Dense\n",
       " activation = sigmoid</title></image><text alignment-baseline=\"central\" font-family=\"monospace\" font-size=\"12\" text-anchor=\"start\" x=\"205.0\" y=\"57.0\">output1</text><line marker-end=\"url(#arrow)\" stroke=\"black\" stroke-width=\"2\" x1=\"175.0\" x2=\"175.0\" y1=\"109\" y2=\"82\"><title>Weights from hidden1 to output1\n",
       " output1/kernel has shape (5, 1)\n",
       " output1/bias has shape (1,)</title></line><rect height=\"42\" style=\"fill:none;stroke:black;stroke-width:2\" width=\"202\" x=\"74.0\" y=\"109\"/><image class=\"snapshot-XOR Network-751453_hidden1\" height=\"40\" href=\"data:image/gif;base64,R0lGODdhBQABAIcAAGcAHxoaGgAAAAAAAAAAAAAAAAAAAAAAAAAAAAAAAAAAAAAAAAAAAAAAAAAAAAAAAAAAAAAAAAAAAAAAAAAAAAAAAAAAAAAAAAAAAAAAAAAAAAAAAAAAAAAAAAAAAAAAAAAAAAAAAAAAAAAAAAAAAAAAAAAAAAAAAAAAAAAAAAAAAAAAAAAAAAAAAAAAAAAAAAAAAAAAAAAAAAAAAAAAAAAAAAAAAAAAAAAAAAAAAAAAAAAAAAAAAAAAAAAAAAAAAAAAAAAAAAAAAAAAAAAAAAAAAAAAAAAAAAAAAAAAAAAAAAAAAAAAAAAAAAAAAAAAAAAAAAAAAAAAAAAAAAAAAAAAAAAAAAAAAAAAAAAAAAAAAAAAAAAAAAAAAAAAAAAAAAAAAAAAAAAAAAAAAAAAAAAAAAAAAAAAAAAAAAAAAAAAAAAAAAAAAAAAAAAAAAAAAAAAAAAAAAAAAAAAAAAAAAAAAAAAAAAAAAAAAAAAAAAAAAAAAAAAAAAAAAAAAAAAAAAAAAAAAAAAAAAAAAAAAAAAAAAAAAAAAAAAAAAAAAAAAAAAAAAAAAAAAAAAAAAAAAAAAAAAAAAAAAAAAAAAAAAAAAAAAAAAAAAAAAAAAAAAAAAAAAAAAAAAAAAAAAAAAAAAAAAAAAAAAAAAAAAAAAAAAAAAAAAAAAAAAAAAAAAAAAAAAAAAAAAAAAAAAAAAAAAAAAAAAAAAAAAAAAAAAAAAAAAAAAAAAAAAAAAAAAAAAAAAAAAAAAAAAAAAAAAAAAAAAAAAAAAAAAAAAAAAAAAAAAAAAAAAAAAAAAAAAAAAAAAAAAAAAAAAAAAAAAAAAAAAAAAAAAAAAAAAAAAAAAAAAAAAAAAAAAAAAAAAAAAAAAAAAAAAAAAAAAAAAAAAAAAAAAAAAAAAAAAAAAAAAAAAAAAAAAAAAAAAAAAAAAAAAAAAAAAAAAAAAAAAAAAAAAAAAAAAAAAAAAAAAAAAAAAAAAAAAAAAAAAAAAAAAAAAAAAAAAAAAAAAAAAAAAAAACwAAAAABQABAAAIBwABBABAMCAAOw==\" id=\"snapshot-XOR Network-751453_hidden1_8\" preserveAspectRatio=\"none\" width=\"200\" x=\"75.0\" y=\"110\"><title>Layer: hidden1 (hidden)\n",
       " shape = (5,)\n",
       " Keras class = Dense\n",
       " activation = relu</title></image><text alignment-baseline=\"central\" font-family=\"monospace\" font-size=\"12\" text-anchor=\"start\" x=\"280.0\" y=\"132.0\">hidden1</text><line marker-end=\"url(#arrow)\" stroke=\"black\" stroke-width=\"2\" x1=\"175.0\" x2=\"175.0\" y1=\"179\" y2=\"152\"><title>Weights from input1 to hidden1\n",
       " hidden1/kernel has shape (2, 5)\n",
       " hidden1/bias has shape (5,)</title></line><rect height=\"52\" style=\"fill:none;stroke:black;stroke-width:2\" width=\"102\" x=\"124.0\" y=\"179\"/><image class=\"snapshot-XOR Network-751453_input1\" height=\"50\" href=\"data:image/gif;base64,R0lGODdhAgABAIcAADQ0NAAAAAAAAAAAAAAAAAAAAAAAAAAAAAAAAAAAAAAAAAAAAAAAAAAAAAAAAAAAAAAAAAAAAAAAAAAAAAAAAAAAAAAAAAAAAAAAAAAAAAAAAAAAAAAAAAAAAAAAAAAAAAAAAAAAAAAAAAAAAAAAAAAAAAAAAAAAAAAAAAAAAAAAAAAAAAAAAAAAAAAAAAAAAAAAAAAAAAAAAAAAAAAAAAAAAAAAAAAAAAAAAAAAAAAAAAAAAAAAAAAAAAAAAAAAAAAAAAAAAAAAAAAAAAAAAAAAAAAAAAAAAAAAAAAAAAAAAAAAAAAAAAAAAAAAAAAAAAAAAAAAAAAAAAAAAAAAAAAAAAAAAAAAAAAAAAAAAAAAAAAAAAAAAAAAAAAAAAAAAAAAAAAAAAAAAAAAAAAAAAAAAAAAAAAAAAAAAAAAAAAAAAAAAAAAAAAAAAAAAAAAAAAAAAAAAAAAAAAAAAAAAAAAAAAAAAAAAAAAAAAAAAAAAAAAAAAAAAAAAAAAAAAAAAAAAAAAAAAAAAAAAAAAAAAAAAAAAAAAAAAAAAAAAAAAAAAAAAAAAAAAAAAAAAAAAAAAAAAAAAAAAAAAAAAAAAAAAAAAAAAAAAAAAAAAAAAAAAAAAAAAAAAAAAAAAAAAAAAAAAAAAAAAAAAAAAAAAAAAAAAAAAAAAAAAAAAAAAAAAAAAAAAAAAAAAAAAAAAAAAAAAAAAAAAAAAAAAAAAAAAAAAAAAAAAAAAAAAAAAAAAAAAAAAAAAAAAAAAAAAAAAAAAAAAAAAAAAAAAAAAAAAAAAAAAAAAAAAAAAAAAAAAAAAAAAAAAAAAAAAAAAAAAAAAAAAAAAAAAAAAAAAAAAAAAAAAAAAAAAAAAAAAAAAAAAAAAAAAAAAAAAAAAAAAAAAAAAAAAAAAAAAAAAAAAAAAAAAAAAAAAAAAAAAAAAAAAAAAAAAAAAAAAAAAAAAAAAAAAAAAAAAAAAAAAAAAAAAAAAAAAAAAAAAAAAAAAAAAAAAAAAAAAAAAAAAAAAAAAACwAAAAAAgABAAAIBQABAAgIADs=\" id=\"snapshot-XOR Network-751453_input1_9\" preserveAspectRatio=\"none\" width=\"100\" x=\"125.0\" y=\"180\"><title>Layer: input1 (input)\n",
       " shape = (2,)\n",
       " Keras class = Input</title></image><text alignment-baseline=\"central\" font-family=\"monospace\" font-size=\"12\" text-anchor=\"start\" x=\"230.0\" y=\"207.0\">input1</text></svg>"
      ],
      "text/plain": [
       "<IPython.core.display.SVG object>"
      ]
     },
     "execution_count": 11,
     "metadata": {},
     "output_type": "execute_result"
    }
   ],
   "source": [
    "net.snapshot([0.9, 0.9])"
   ]
  },
  {
   "cell_type": "markdown",
   "metadata": {},
   "source": [
    "### Step 6: setup the training data\n",
    "\n",
    "For this little experiment, we want to train the network on our table from above. To do that, we add the inputs and the targets to the dataset, one at a time:"
   ]
  },
  {
   "cell_type": "code",
   "execution_count": 12,
   "metadata": {
    "collapsed": true
   },
   "outputs": [],
   "source": [
    "net.dataset.add([0, 0], [0])\n",
    "net.dataset.add([0, 1], [1])\n",
    "net.dataset.add([1, 0], [1])\n",
    "net.dataset.add([1, 1], [0])"
   ]
  },
  {
   "cell_type": "code",
   "execution_count": 13,
   "metadata": {},
   "outputs": [
    {
     "name": "stdout",
     "output_type": "stream",
     "text": [
      "Input Summary:\n",
      "   count  : 4 (4 for training, 0 for testing)\n",
      "   shape  : (2,)\n",
      "   range  : (0.0, 1.0)\n",
      "Target Summary:\n",
      "   count  : 4 (4 for training, 0 for testing)\n",
      "   shape  : (1,)\n",
      "   range  : (0.0, 1.0)\n"
     ]
    }
   ],
   "source": [
    "net.dataset.summary()"
   ]
  },
  {
   "cell_type": "markdown",
   "metadata": {},
   "source": [
    "### Step 7: train the network"
   ]
  },
  {
   "cell_type": "code",
   "execution_count": 14,
   "metadata": {},
   "outputs": [
    {
     "name": "stdout",
     "output_type": "stream",
     "text": [
      "Training...\n",
      "Epoch #  100 | train error 0.22765 | train accuracy 1.00000 | validate% 0.00000\n",
      "Epoch #  200 | train error 0.20353 | train accuracy 1.00000 | validate% 0.00000\n",
      "Epoch #  300 | train error 0.17382 | train accuracy 1.00000 | validate% 0.00000\n",
      "Epoch #  400 | train error 0.14386 | train accuracy 1.00000 | validate% 0.00000\n",
      "Epoch #  500 | train error 0.11562 | train accuracy 1.00000 | validate% 0.00000\n",
      "Epoch #  600 | train error 0.09108 | train accuracy 1.00000 | validate% 0.00000\n",
      "Epoch #  700 | train error 0.07118 | train accuracy 1.00000 | validate% 0.00000\n",
      "Epoch #  800 | train error 0.05548 | train accuracy 1.00000 | validate% 0.00000\n",
      "Epoch #  900 | train error 0.04339 | train accuracy 1.00000 | validate% 0.00000\n",
      "Epoch # 1000 | train error 0.03421 | train accuracy 1.00000 | validate% 0.00000\n",
      "Epoch # 1100 | train error 0.02723 | train accuracy 1.00000 | validate% 0.00000\n",
      "Epoch # 1200 | train error 0.02192 | train accuracy 1.00000 | validate% 0.00000\n",
      "Epoch # 1300 | train error 0.01786 | train accuracy 1.00000 | validate% 0.00000\n",
      "Epoch # 1400 | train error 0.01470 | train accuracy 1.00000 | validate% 0.00000\n",
      "Epoch # 1500 | train error 0.01224 | train accuracy 1.00000 | validate% 0.00000\n",
      "Epoch # 1600 | train error 0.01028 | train accuracy 1.00000 | validate% 0.50000\n",
      "========================================================================\n",
      "Epoch # 1637 | train error 0.00967 | train accuracy 1.00000 | validate% 1.00000\n"
     ]
    }
   ],
   "source": [
    "net.train(epochs=2000, accuracy=1.0, report_rate=100)"
   ]
  },
  {
   "cell_type": "markdown",
   "metadata": {},
   "source": [
    "Perhaps the network learned none, some, or all of the patterns. You can reset the network, and try again (retrain). Or continue with the following steps."
   ]
  },
  {
   "cell_type": "code",
   "execution_count": 15,
   "metadata": {},
   "outputs": [
    {
     "name": "stdout",
     "output_type": "stream",
     "text": [
      "Training...\n",
      "Epoch #  100 | train error 0.25728 | train accuracy 0.75000 | validate% 0.00000\n",
      "Epoch #  200 | train error 0.25319 | train accuracy 0.50000 | validate% 0.00000\n",
      "Epoch #  300 | train error 0.25187 | train accuracy 0.50000 | validate% 0.00000\n",
      "Epoch #  400 | train error 0.25140 | train accuracy 0.50000 | validate% 0.00000\n",
      "Epoch #  500 | train error 0.25111 | train accuracy 0.50000 | validate% 0.00000\n",
      "Epoch #  600 | train error 0.25088 | train accuracy 0.50000 | validate% 0.00000\n",
      "Epoch #  700 | train error 0.25070 | train accuracy 0.50000 | validate% 0.00000\n",
      "Epoch #  800 | train error 0.25055 | train accuracy 0.50000 | validate% 0.00000\n",
      "Epoch #  900 | train error 0.25044 | train accuracy 0.50000 | validate% 0.00000\n",
      "Epoch # 1000 | train error 0.25035 | train accuracy 0.50000 | validate% 0.00000\n",
      "Epoch # 1100 | train error 0.25028 | train accuracy 0.50000 | validate% 0.00000\n",
      "Epoch # 1200 | train error 0.25022 | train accuracy 0.50000 | validate% 0.00000\n",
      "Epoch # 1300 | train error 0.25018 | train accuracy 0.50000 | validate% 0.00000\n",
      "Epoch # 1400 | train error 0.25014 | train accuracy 0.50000 | validate% 0.00000\n",
      "Epoch # 1500 | train error 0.25011 | train accuracy 0.50000 | validate% 0.00000\n",
      "Epoch # 1600 | train error 0.25009 | train accuracy 0.50000 | validate% 0.00000\n",
      "Epoch # 1700 | train error 0.25007 | train accuracy 0.50000 | validate% 0.00000\n",
      "Epoch # 1800 | train error 0.25006 | train accuracy 0.50000 | validate% 0.00000\n",
      "Epoch # 1900 | train error 0.25005 | train accuracy 0.50000 | validate% 0.00000\n",
      "Epoch # 2000 | train error 0.25004 | train accuracy 0.50000 | validate% 0.00000\n",
      "========================================================================\n",
      "Epoch # 2000 | train error 0.25004 | train accuracy 0.50000 | validate% 0.00000\n"
     ]
    }
   ],
   "source": [
    "net.reset()\n",
    "net.retrain()"
   ]
  },
  {
   "cell_type": "markdown",
   "metadata": {},
   "source": [
    "### Step 8: test the network"
   ]
  },
  {
   "cell_type": "code",
   "execution_count": 15,
   "metadata": {},
   "outputs": [
    {
     "name": "stdout",
     "output_type": "stream",
     "text": [
      "Testing on training dataset._..\n",
      "# | inputs | targets | outputs | result\n",
      "---------------------------------------\n",
      "0 | [0.0, 0.0] | [0.0] | [0.1] | correct\n",
      "1 | [0.0, 1.0] | [1.0] | [0.9] | correct\n",
      "2 | [1.0, 0.0] | [1.0] | [0.9] | correct\n",
      "3 | [1.0, 1.0] | [0.0] | [0.1] | correct\n",
      "Total count: 4\n",
      "Total percentage correct: 1.0\n"
     ]
    }
   ],
   "source": [
    "net.test()"
   ]
  },
  {
   "cell_type": "code",
   "execution_count": 16,
   "metadata": {
    "collapsed": true
   },
   "outputs": [],
   "source": [
    "for pattern in net.dataset.inputs:\n",
    "    net.propagate(pattern)"
   ]
  },
  {
   "cell_type": "markdown",
   "metadata": {},
   "source": [
    "## conx options"
   ]
  },
  {
   "cell_type": "markdown",
   "metadata": {},
   "source": [
    "### The dashboard\n",
    "\n",
    "The dashboard allows you to interact, test, and generally work with your network via a GUI."
   ]
  },
  {
   "cell_type": "code",
   "execution_count": 17,
   "metadata": {},
   "outputs": [
    {
     "data": {
      "application/javascript": [
       "\n",
       "require(['base/js/namespace'], function(Jupyter) {\n",
       "    Jupyter.notebook.kernel.comm_manager.register_target('conx_svg_control', function(comm, msg) {\n",
       "        comm.on_msg(function(msg) {\n",
       "            var data = msg[\"content\"][\"data\"];\n",
       "            var images = document.getElementsByClassName(data[\"class\"]);\n",
       "            for (var i = 0; i < images.length; i++) {\n",
       "                images[i].setAttributeNS(null, \"href\", data[\"href\"]);\n",
       "            }\n",
       "        });\n",
       "    });\n",
       "});\n"
      ],
      "text/plain": [
       "<IPython.core.display.Javascript object>"
      ]
     },
     "metadata": {},
     "output_type": "display_data"
    },
    {
     "data": {
      "application/vnd.jupyter.widget-view+json": {
       "model_id": "d1f1a4074e784096aa9d06ac9b76dbee"
      }
     },
     "metadata": {},
     "output_type": "display_data"
    }
   ],
   "source": [
    "net.dashboard()"
   ]
  },
  {
   "cell_type": "markdown",
   "metadata": {},
   "source": [
    "### Propagation enhancements\n",
    "\n",
    "There are three was to propagate activations through the network:\n",
    "\n",
    "* Network.propagate(`inputs`) - propagate these inputs through the network\n",
    "* Network.propagate_to(`inputs`) - propagate these inputs to this bank (gets encoding)\n",
    "* Network.propagate_from(`bank-name`, `activations`) - propagate the activations from `bank-name` to putputs\n",
    "\n",
    "Note:\n",
    "\n",
    "All of the propagate methods will visualize their activations in any non-snapshot network image in the notebook."
   ]
  },
  {
   "cell_type": "code",
   "execution_count": 18,
   "metadata": {},
   "outputs": [
    {
     "data": {
      "text/plain": [
       "[0.65236974]"
      ]
     },
     "execution_count": 18,
     "metadata": {},
     "output_type": "execute_result"
    }
   ],
   "source": [
    "net.propagate_from(\"hidden1\", [0, 1, 0, 0, 1])"
   ]
  },
  {
   "cell_type": "code",
   "execution_count": 19,
   "metadata": {},
   "outputs": [
    {
     "data": {
      "text/plain": [
       "[0.0, 0.0606083869934082, 0.0, 0.0, 0.00021100344019941986]"
      ]
     },
     "execution_count": 19,
     "metadata": {},
     "output_type": "execute_result"
    }
   ],
   "source": [
    "net.propagate_to(\"hidden1\", [0.5, 0.5])"
   ]
  },
  {
   "cell_type": "code",
   "execution_count": 20,
   "metadata": {},
   "outputs": [
    {
     "data": {
      "text/plain": [
       "[0.0, 0.0606083869934082, 0.0, 0.0, 0.00021100344019941986]"
      ]
     },
     "execution_count": 20,
     "metadata": {},
     "output_type": "execute_result"
    }
   ],
   "source": [
    "net.propagate_to(\"hidden1\", [0.5, 0.5])"
   ]
  },
  {
   "cell_type": "markdown",
   "metadata": {},
   "source": [
    "There is also a propagate_to_image() that takes a bank name, and inputs."
   ]
  },
  {
   "cell_type": "code",
   "execution_count": 21,
   "metadata": {},
   "outputs": [
    {
     "data": {
      "image/png": "[encoded data removed]",
      "text/plain": [
       "<PIL.Image.Image image mode=RGBA size=500x100 at 0x7FD5CF92D4A8>"
      ]
     },
     "execution_count": 21,
     "metadata": {},
     "output_type": "execute_result"
    }
   ],
   "source": [
    "net.propagate_to_image(\"hidden1\", [0.5, 0.5]).resize((500, 100))"
   ]
  },
  {
   "cell_type": "markdown",
   "metadata": {},
   "source": [
    "### Plotting options\n",
    "\n",
    "TODO"
   ]
  }
 ],
 "metadata": {
  "kernelspec": {
   "display_name": "Python 3",
   "language": "python",
   "name": "python3"
  },
  "language_info": {
   "codemirror_mode": {
    "name": "ipython",
    "version": 3
   },
   "file_extension": ".py",
   "mimetype": "text/x-python",
   "name": "python",
   "nbconvert_exporter": "python",
   "pygments_lexer": "ipython3",
   "version": "3.5.3"
  },
  "widgets": {
   "application/vnd.jupyter.widget-state+json": {
    "state": {
     "04c3a7ea38a94581badada3680672429": {
      "model_module": "jupyter-js-widgets",
      "model_module_version": "~2.1.4",
      "model_name": "VBoxModel",
      "state": {
       "_model_module_version": "~2.1.4",
       "_view_module_version": "~2.1.4",
       "children": [
        "IPY_MODEL_fb5b417cf90648fe8c2809f9ecba9058",
        "IPY_MODEL_a1b47bd921734ff7b592bc104d7a7848"
       ],
       "layout": "IPY_MODEL_f2babf12b9cf4ebf9588234e6acca364"
      }
     },
     "06d23ae2e93548c9967df8a1f59b1e38": {
      "model_module": "jupyter-js-widgets",
      "model_module_version": "~2.1.4",
      "model_name": "VBoxModel",
      "state": {
       "_model_module_version": "~2.1.4",
       "_view_module_version": "~2.1.4",
       "children": [
        "IPY_MODEL_65bfb67f885a401b981d85e5278a4e2c"
       ],
       "layout": "IPY_MODEL_6e1d0b63f3264ce6ae2420a4533e347e"
      }
     },
     "16444256d1e04b54a06bd732d2ce32a4": {
      "model_module": "jupyter-js-widgets",
      "model_module_version": "~2.1.4",
      "model_name": "ButtonStyleModel",
      "state": {
       "_model_module_version": "~2.1.4",
       "_view_module_version": "~2.1.4"
      }
     },
     "1979990b0be54c25b5f7f35a79160d00": {
      "model_module": "jupyter-js-widgets",
      "model_module_version": "~2.1.4",
      "model_name": "ButtonStyleModel",
      "state": {
       "_model_module_version": "~2.1.4",
       "_view_module_version": "~2.1.4"
      }
     },
     "3a7888a007fb49fdbc3b8c13acb63fd8": {
      "model_module": "jupyter-js-widgets",
      "model_module_version": "~2.1.4",
      "model_name": "VBoxModel",
      "state": {
       "_model_module_version": "~2.1.4",
       "_view_module_version": "~2.1.4",
       "layout": "IPY_MODEL_d83e6be71adc4d1982a9185a87e00dda"
      }
     },
     "3e2f8700cd82474b8f1bb6b221694468": {
      "model_module": "jupyter-js-widgets",
      "model_module_version": "~2.1.4",
      "model_name": "LayoutModel",
      "state": {
       "_model_module_version": "~2.1.4",
       "_view_module_version": "~2.1.4",
       "width": "100%"
      }
     },
     "3e5289844a414bb4a6cc8b39f2b82384": {
      "model_module": "jupyter-js-widgets",
      "model_module_version": "~2.1.4",
      "model_name": "ButtonStyleModel",
      "state": {
       "_model_module_version": "~2.1.4",
       "_view_module_version": "~2.1.4"
      }
     },
     "409dc1a5c3cf421a832808aacbb2a2f1": {
      "model_module": "jupyter-js-widgets",
      "model_module_version": "~2.1.4",
      "model_name": "SliderStyleModel",
      "state": {
       "_model_module_version": "~2.1.4",
       "_view_module_version": "~2.1.4"
      }
     },
     "420f15e824374b94aaae2d069287a1a2": {
      "model_module": "jupyter-js-widgets",
      "model_module_version": "~2.1.4",
      "model_name": "ButtonStyleModel",
      "state": {
       "_model_module_version": "~2.1.4",
       "_view_module_version": "~2.1.4"
      }
     },
     "44773ff555fe4e4199637bb307c4e60c": {
      "model_module": "jupyter-js-widgets",
      "model_module_version": "~2.1.4",
      "model_name": "ButtonModel",
      "state": {
       "_model_module_version": "~2.1.4",
       "_view_module_version": "~2.1.4",
       "icon": "forward",
       "layout": "IPY_MODEL_4f4dd6ef530a4caf8ded30af2f5d2c2d",
       "style": "IPY_MODEL_16444256d1e04b54a06bd732d2ce32a4"
      }
     },
     "45bb4a586898442ba23b8889049405bc": {
      "model_module": "jupyter-js-widgets",
      "model_module_version": "~2.1.4",
      "model_name": "ButtonModel",
      "state": {
       "_model_module_version": "~2.1.4",
       "_view_module_version": "~2.1.4",
       "icon": "fast-forward",
       "layout": "IPY_MODEL_3e2f8700cd82474b8f1bb6b221694468",
       "style": "IPY_MODEL_d50e4f3cd7ae4428af29af1d66168815"
      }
     },
     "4ad6a226ed7d44308fb384c96a09a38c": {
      "model_module": "jupyter-js-widgets",
      "model_module_version": "~2.1.4",
      "model_name": "LayoutModel",
      "state": {
       "_model_module_version": "~2.1.4",
       "_view_module_version": "~2.1.4"
      }
     },
     "4c62f1cbc7a34dfe96af2a7a4be1af5a": {
      "model_module": "jupyter-js-widgets",
      "model_module_version": "~2.1.4",
      "model_name": "LayoutModel",
      "state": {
       "_model_module_version": "~2.1.4",
       "_view_module_version": "~2.1.4",
       "width": "100%"
      }
     },
     "4f4dd6ef530a4caf8ded30af2f5d2c2d": {
      "model_module": "jupyter-js-widgets",
      "model_module_version": "~2.1.4",
      "model_name": "LayoutModel",
      "state": {
       "_model_module_version": "~2.1.4",
       "_view_module_version": "~2.1.4",
       "width": "100%"
      }
     },
     "528008ed47434475bf1f7f30aab8306c": {
      "model_module": "jupyter-js-widgets",
      "model_module_version": "~2.1.4",
      "model_name": "LayoutModel",
      "state": {
       "_model_module_version": "~2.1.4",
       "_view_module_version": "~2.1.4",
       "width": "100%"
      }
     },
     "627ce5925e1e476698f4fbd25e21ab6f": {
      "model_module": "jupyter-js-widgets",
      "model_module_version": "~2.1.4",
      "model_name": "VBoxModel",
      "state": {
       "_model_module_version": "~2.1.4",
       "_view_module_version": "~2.1.4",
       "layout": "IPY_MODEL_eece562dada047bc9fdf78943e11b785"
      }
     },
     "65bfb67f885a401b981d85e5278a4e2c": {
      "model_module": "jupyter-js-widgets",
      "model_module_version": "~2.1.4",
      "model_name": "ButtonModel",
      "state": {
       "_model_module_version": "~2.1.4",
       "_view_module_version": "~2.1.4",
       "description": "Turn on webcamera",
       "layout": "IPY_MODEL_d0c213a9bf0943ec96a059a9a007df39",
       "style": "IPY_MODEL_a6e544c720e84e2085b23e93bb299a11"
      }
     },
     "6e1d0b63f3264ce6ae2420a4533e347e": {
      "model_module": "jupyter-js-widgets",
      "model_module_version": "~2.1.4",
      "model_name": "LayoutModel",
      "state": {
       "_model_module_version": "~2.1.4",
       "_view_module_version": "~2.1.4",
       "height": "550px",
       "width": "100%"
      }
     },
     "7877762c535c474d95e463930cedfce1": {
      "model_module": "jupyter-js-widgets",
      "model_module_version": "~2.1.4",
      "model_name": "IntSliderModel",
      "state": {
       "_model_module_version": "~2.1.4",
       "_view_module_version": "~2.1.4",
       "continuous_update": false,
       "description": "Dataset index",
       "layout": "IPY_MODEL_bf10d46f14314b6985741b70cd55015d",
       "max": 3,
       "style": "IPY_MODEL_409dc1a5c3cf421a832808aacbb2a2f1"
      }
     },
     "7f6dbb083f5a47c9a9d5f6b3eed1a4c5": {
      "model_module": "jupyter-js-widgets",
      "model_module_version": "~2.1.4",
      "model_name": "LayoutModel",
      "state": {
       "_model_module_version": "~2.1.4",
       "_view_module_version": "~2.1.4",
       "width": "100%"
      }
     },
     "81ea3d20dcad4682a91a5bc7553ff138": {
      "model_module": "jupyter-js-widgets",
      "model_module_version": "~2.1.4",
      "model_name": "LayoutModel",
      "state": {
       "_model_module_version": "~2.1.4",
       "_view_module_version": "~2.1.4",
       "width": "100%"
      }
     },
     "887580dc59e549cd8cd71ed4a99a9d6d": {
      "model_module": "jupyter-js-widgets",
      "model_module_version": "~2.1.4",
      "model_name": "LayoutModel",
      "state": {
       "_model_module_version": "~2.1.4",
       "_view_module_version": "~2.1.4",
       "width": "100%"
      }
     },
     "8f4dfa3dd6b94978b81d7bfcb626b400": {
      "model_module": "jupyter-js-widgets",
      "model_module_version": "~2.1.4",
      "model_name": "ButtonModel",
      "state": {
       "_model_module_version": "~2.1.4",
       "_view_module_version": "~2.1.4",
       "icon": "fast-backward",
       "layout": "IPY_MODEL_7f6dbb083f5a47c9a9d5f6b3eed1a4c5",
       "style": "IPY_MODEL_420f15e824374b94aaae2d069287a1a2"
      }
     },
     "90314850fb424918bfa401e0509c3f9c": {
      "model_module": "jupyter-js-widgets",
      "model_module_version": "~2.1.4",
      "model_name": "HBoxModel",
      "state": {
       "_model_module_version": "~2.1.4",
       "_view_module_version": "~2.1.4",
       "children": [
        "IPY_MODEL_8f4dfa3dd6b94978b81d7bfcb626b400",
        "IPY_MODEL_ec257accac8a4737a7fba11924a69d22",
        "IPY_MODEL_ecf12cff3bf7437a91add99c22dd21b7",
        "IPY_MODEL_44773ff555fe4e4199637bb307c4e60c",
        "IPY_MODEL_45bb4a586898442ba23b8889049405bc"
       ],
       "layout": "IPY_MODEL_528008ed47434475bf1f7f30aab8306c"
      }
     },
     "92e4008609d9441c93e5357160716eb7": {
      "model_module": "jupyter-js-widgets",
      "model_module_version": "~2.1.4",
      "model_name": "HTMLModel",
      "state": {
       "_model_module_version": "~2.1.4",
       "_view_module_version": "~2.1.4",
       "layout": "IPY_MODEL_b889b3dcbd5947c4bcfc90e9cc61fa4f",
       "value": "\n<!-- TODO: Remove this SCRIPT when next version of ipywidgets comes out -->\n<style>\n.widget-html > .widget-html-content, .widget-htmlmath > .widget-html-content {\n    /* Fill out the area in the HTML widget */\n    align-self: stretch;\n    flex-grow: 1;\n    flex-shrink: 1;\n    /* Makes sure the baseline is still aligned with other elements */\n    line-height: var(--jp-widgets-inline-height);\n    /* Make it possible to have absolutely-positioned elements in the html */\n    position: relative;\n}\n</style>\n\n<iframe src=\"https://conx.readthedocs.io\" width=\"100%\" height=\"550px\"></frame>\n"
      }
     },
     "a06214f245a84f7bab31c57197252183": {
      "model_module": "jupyter-js-widgets",
      "model_module_version": "~2.1.4",
      "model_name": "LayoutModel",
      "state": {
       "_model_module_version": "~2.1.4",
       "_view_module_version": "~2.1.4",
       "height": "550px",
       "justify_content": "center",
       "overflow_x": "auto",
       "width": "100%"
      }
     },
     "a1b47bd921734ff7b592bc104d7a7848": {
      "model_module": "jupyter-js-widgets",
      "model_module_version": "~2.1.4",
      "model_name": "VBoxModel",
      "state": {
       "_model_module_version": "~2.1.4",
       "_view_module_version": "~2.1.4",
       "children": [
        "IPY_MODEL_b158d1e721f44868a495ad64d0246635",
        "IPY_MODEL_7877762c535c474d95e463930cedfce1",
        "IPY_MODEL_90314850fb424918bfa401e0509c3f9c"
       ],
       "layout": "IPY_MODEL_887580dc59e549cd8cd71ed4a99a9d6d"
      }
     },
     "a6e544c720e84e2085b23e93bb299a11": {
      "model_module": "jupyter-js-widgets",
      "model_module_version": "~2.1.4",
      "model_name": "ButtonStyleModel",
      "state": {
       "_model_module_version": "~2.1.4",
       "_view_module_version": "~2.1.4"
      }
     },
     "b158d1e721f44868a495ad64d0246635": {
      "model_module": "jupyter-js-widgets",
      "model_module_version": "~2.1.4",
      "model_name": "SelectModel",
      "state": {
       "_model_module_version": "~2.1.4",
       "_options_labels": [
        "Test",
        "Train"
       ],
       "_view_module_version": "~2.1.4",
       "description": "Dataset:",
       "layout": "IPY_MODEL_c63d780ab76e473a9c46f973ea3db473",
       "value": "Train"
      }
     },
     "b889b3dcbd5947c4bcfc90e9cc61fa4f": {
      "model_module": "jupyter-js-widgets",
      "model_module_version": "~2.1.4",
      "model_name": "LayoutModel",
      "state": {
       "_model_module_version": "~2.1.4",
       "_view_module_version": "~2.1.4",
       "height": "550px",
       "width": "100%"
      }
     },
     "bf10d46f14314b6985741b70cd55015d": {
      "model_module": "jupyter-js-widgets",
      "model_module_version": "~2.1.4",
      "model_name": "LayoutModel",
      "state": {
       "_model_module_version": "~2.1.4",
       "_view_module_version": "~2.1.4",
       "width": "100%"
      }
     },
     "c63d780ab76e473a9c46f973ea3db473": {
      "model_module": "jupyter-js-widgets",
      "model_module_version": "~2.1.4",
      "model_name": "LayoutModel",
      "state": {
       "_model_module_version": "~2.1.4",
       "_view_module_version": "~2.1.4"
      }
     },
     "d0c213a9bf0943ec96a059a9a007df39": {
      "model_module": "jupyter-js-widgets",
      "model_module_version": "~2.1.4",
      "model_name": "LayoutModel",
      "state": {
       "_model_module_version": "~2.1.4",
       "_view_module_version": "~2.1.4"
      }
     },
     "d1f1a4074e784096aa9d06ac9b76dbee": {
      "model_module": "jupyter-js-widgets",
      "model_module_version": "~2.1.4",
      "model_name": "TabModel",
      "state": {
       "_model_module_version": "~2.1.4",
       "_titles": {
        "0": "Network",
        "1": "Graphs",
        "2": "Analysis",
        "3": "Camera",
        "4": "Help"
       },
       "_view_module_version": "~2.1.4",
       "children": [
        "IPY_MODEL_04c3a7ea38a94581badada3680672429",
        "IPY_MODEL_3a7888a007fb49fdbc3b8c13acb63fd8",
        "IPY_MODEL_627ce5925e1e476698f4fbd25e21ab6f",
        "IPY_MODEL_06d23ae2e93548c9967df8a1f59b1e38",
        "IPY_MODEL_92e4008609d9441c93e5357160716eb7"
       ],
       "layout": "IPY_MODEL_4ad6a226ed7d44308fb384c96a09a38c"
      }
     },
     "d50e4f3cd7ae4428af29af1d66168815": {
      "model_module": "jupyter-js-widgets",
      "model_module_version": "~2.1.4",
      "model_name": "ButtonStyleModel",
      "state": {
       "_model_module_version": "~2.1.4",
       "_view_module_version": "~2.1.4"
      }
     },
     "d83e6be71adc4d1982a9185a87e00dda": {
      "model_module": "jupyter-js-widgets",
      "model_module_version": "~2.1.4",
      "model_name": "LayoutModel",
      "state": {
       "_model_module_version": "~2.1.4",
       "_view_module_version": "~2.1.4",
       "height": "550px",
       "width": "100%"
      }
     },
     "ec257accac8a4737a7fba11924a69d22": {
      "model_module": "jupyter-js-widgets",
      "model_module_version": "~2.1.4",
      "model_name": "ButtonModel",
      "state": {
       "_model_module_version": "~2.1.4",
       "_view_module_version": "~2.1.4",
       "icon": "backward",
       "layout": "IPY_MODEL_4c62f1cbc7a34dfe96af2a7a4be1af5a",
       "style": "IPY_MODEL_3e5289844a414bb4a6cc8b39f2b82384"
      }
     },
     "ecf12cff3bf7437a91add99c22dd21b7": {
      "model_module": "jupyter-js-widgets",
      "model_module_version": "~2.1.4",
      "model_name": "ButtonModel",
      "state": {
       "_model_module_version": "~2.1.4",
       "_view_module_version": "~2.1.4",
       "description": "Train",
       "layout": "IPY_MODEL_81ea3d20dcad4682a91a5bc7553ff138",
       "style": "IPY_MODEL_1979990b0be54c25b5f7f35a79160d00"
      }
     },
     "eece562dada047bc9fdf78943e11b785": {
      "model_module": "jupyter-js-widgets",
      "model_module_version": "~2.1.4",
      "model_name": "LayoutModel",
      "state": {
       "_model_module_version": "~2.1.4",
       "_view_module_version": "~2.1.4",
       "height": "550px",
       "width": "100%"
      }
     },
     "f2babf12b9cf4ebf9588234e6acca364": {
      "model_module": "jupyter-js-widgets",
      "model_module_version": "~2.1.4",
      "model_name": "LayoutModel",
      "state": {
       "_model_module_version": "~2.1.4",
       "_view_module_version": "~2.1.4",
       "height": "550px",
       "width": "100%"
      }
     },
     "fb5b417cf90648fe8c2809f9ecba9058": {
      "model_module": "jupyter-js-widgets",
      "model_module_version": "~2.1.4",
      "model_name": "HTMLModel",
      "state": {
       "_model_module_version": "~2.1.4",
       "_view_module_version": "~2.1.4",
       "layout": "IPY_MODEL_a06214f245a84f7bab31c57197252183",
       "value": "<p style=\"text-align:center\">\n        <svg id='XOR Network' xmlns='http://www.w3.org/2000/svg' width=\"350\" height=\"255\" image-rendering=\"pixelated\">\n    <defs>\n        <marker id=\"arrow\" markerWidth=\"10\" markerHeight=\"10\" refX=\"9\" refY=\"3\" orient=\"auto\" markerUnits=\"strokeWidth\">\n          <path d=\"M0,0 L0,6 L9,3 z\" fill=\"black\" />\n        </marker>\n    </defs>\n<text x=\"175.0\" y=\"12.5\" font-family=\"monospace\" font-size=\"15\" text-anchor=\"middle\" alignment-baseline=\"central\">XOR Network</text><rect x=\"149.0\" y=\"29\" width=\"52\" height=\"52\" style=\"fill:none;stroke:black;stroke-width:2\"/><image id=\"XOR Network_output1_10\" class=\"XOR Network_output1\" x=\"150.0\" y=\"30\" height=\"50\" width=\"50\" preserveAspectRatio=\"none\" href=\"data:image/gif;base64,R0lGODdhAQABAIcAALAXKgAAAAAAAAAAAAAAAAAAAAAAAAAAAAAAAAAAAAAAAAAAAAAAAAAAAAAAAAAAAAAAAAAAAAAAAAAAAAAAAAAAAAAAAAAAAAAAAAAAAAAAAAAAAAAAAAAAAAAAAAAAAAAAAAAAAAAAAAAAAAAAAAAAAAAAAAAAAAAAAAAAAAAAAAAAAAAAAAAAAAAAAAAAAAAAAAAAAAAAAAAAAAAAAAAAAAAAAAAAAAAAAAAAAAAAAAAAAAAAAAAAAAAAAAAAAAAAAAAAAAAAAAAAAAAAAAAAAAAAAAAAAAAAAAAAAAAAAAAAAAAAAAAAAAAAAAAAAAAAAAAAAAAAAAAAAAAAAAAAAAAAAAAAAAAAAAAAAAAAAAAAAAAAAAAAAAAAAAAAAAAAAAAAAAAAAAAAAAAAAAAAAAAAAAAAAAAAAAAAAAAAAAAAAAAAAAAAAAAAAAAAAAAAAAAAAAAAAAAAAAAAAAAAAAAAAAAAAAAAAAAAAAAAAAAAAAAAAAAAAAAAAAAAAAAAAAAAAAAAAAAAAAAAAAAAAAAAAAAAAAAAAAAAAAAAAAAAAAAAAAAAAAAAAAAAAAAAAAAAAAAAAAAAAAAAAAAAAAAAAAAAAAAAAAAAAAAAAAAAAAAAAAAAAAAAAAAAAAAAAAAAAAAAAAAAAAAAAAAAAAAAAAAAAAAAAAAAAAAAAAAAAAAAAAAAAAAAAAAAAAAAAAAAAAAAAAAAAAAAAAAAAAAAAAAAAAAAAAAAAAAAAAAAAAAAAAAAAAAAAAAAAAAAAAAAAAAAAAAAAAAAAAAAAAAAAAAAAAAAAAAAAAAAAAAAAAAAAAAAAAAAAAAAAAAAAAAAAAAAAAAAAAAAAAAAAAAAAAAAAAAAAAAAAAAAAAAAAAAAAAAAAAAAAAAAAAAAAAAAAAAAAAAAAAAAAAAAAAAAAAAAAAAAAAAAAAAAAAAAAAAAAAAAAAAAAAAAAAAAAAAAAAAAAAAAAAAAAAAAAAAAAAAAAAAAAAAAAAAAAAAAAAAAAAAAAAAAAAAAACwAAAAAAQABAAAIBQABbAgIADs=\"><title>Layer: output1 (output)\n shape = (1,)\n Keras class = Dense\n activation = sigmoid</title></image><text x=\"205.0\" y=\"57.0\" font-family=\"monospace\" font-size=\"12\" text-anchor=\"start\" alignment-baseline=\"central\">output1</text><line x1=\"175.0\" y1=\"109\" x2=\"175.0\" y2=\"82\" stroke=\"black\" stroke-width=\"2\" marker-end=\"url(#arrow)\"><title>Weights from hidden1 to output1\n output1/kernel has shape (5, 1)\n output1/bias has shape (1,)</title></line><rect x=\"74.0\" y=\"109\" width=\"202\" height=\"42\" style=\"fill:none;stroke:black;stroke-width:2\"/><image id=\"XOR Network_hidden1_11\" class=\"XOR Network_hidden1\" x=\"75.0\" y=\"110\" height=\"40\" width=\"200\" preserveAspectRatio=\"none\" href=\"data:image/gif;base64,R0lGODdhBQABAIcAAGcAHxoaGgAAAAAAAAAAAAAAAAAAAAAAAAAAAAAAAAAAAAAAAAAAAAAAAAAAAAAAAAAAAAAAAAAAAAAAAAAAAAAAAAAAAAAAAAAAAAAAAAAAAAAAAAAAAAAAAAAAAAAAAAAAAAAAAAAAAAAAAAAAAAAAAAAAAAAAAAAAAAAAAAAAAAAAAAAAAAAAAAAAAAAAAAAAAAAAAAAAAAAAAAAAAAAAAAAAAAAAAAAAAAAAAAAAAAAAAAAAAAAAAAAAAAAAAAAAAAAAAAAAAAAAAAAAAAAAAAAAAAAAAAAAAAAAAAAAAAAAAAAAAAAAAAAAAAAAAAAAAAAAAAAAAAAAAAAAAAAAAAAAAAAAAAAAAAAAAAAAAAAAAAAAAAAAAAAAAAAAAAAAAAAAAAAAAAAAAAAAAAAAAAAAAAAAAAAAAAAAAAAAAAAAAAAAAAAAAAAAAAAAAAAAAAAAAAAAAAAAAAAAAAAAAAAAAAAAAAAAAAAAAAAAAAAAAAAAAAAAAAAAAAAAAAAAAAAAAAAAAAAAAAAAAAAAAAAAAAAAAAAAAAAAAAAAAAAAAAAAAAAAAAAAAAAAAAAAAAAAAAAAAAAAAAAAAAAAAAAAAAAAAAAAAAAAAAAAAAAAAAAAAAAAAAAAAAAAAAAAAAAAAAAAAAAAAAAAAAAAAAAAAAAAAAAAAAAAAAAAAAAAAAAAAAAAAAAAAAAAAAAAAAAAAAAAAAAAAAAAAAAAAAAAAAAAAAAAAAAAAAAAAAAAAAAAAAAAAAAAAAAAAAAAAAAAAAAAAAAAAAAAAAAAAAAAAAAAAAAAAAAAAAAAAAAAAAAAAAAAAAAAAAAAAAAAAAAAAAAAAAAAAAAAAAAAAAAAAAAAAAAAAAAAAAAAAAAAAAAAAAAAAAAAAAAAAAAAAAAAAAAAAAAAAAAAAAAAAAAAAAAAAAAAAAAAAAAAAAAAAAAAAAAAAAAAAAAAAAAAAAAAAAAAAAAAAAAAAAAAAAAAAAAAAAAAAAAAAAAAAAAAAAAAAAAAAAAAAAAAACwAAAAABQABAAAIBwADABgIICAAOw==\"><title>Layer: hidden1 (hidden)\n shape = (5,)\n Keras class = Dense\n activation = relu</title></image><text x=\"280.0\" y=\"132.0\" font-family=\"monospace\" font-size=\"12\" text-anchor=\"start\" alignment-baseline=\"central\">hidden1</text><line x1=\"175.0\" y1=\"179\" x2=\"175.0\" y2=\"152\" stroke=\"black\" stroke-width=\"2\" marker-end=\"url(#arrow)\"><title>Weights from input1 to hidden1\n hidden1/kernel has shape (2, 5)\n hidden1/bias has shape (5,)</title></line><rect x=\"124.0\" y=\"179\" width=\"102\" height=\"52\" style=\"fill:none;stroke:black;stroke-width:2\"/><image id=\"XOR Network_input1_12\" class=\"XOR Network_input1\" x=\"125.0\" y=\"180\" height=\"50\" width=\"100\" preserveAspectRatio=\"none\" href=\"data:image/gif;base64,R0lGODdhAgABAIcAAP7+/QAAAAAAAAAAAAAAAAAAAAAAAAAAAAAAAAAAAAAAAAAAAAAAAAAAAAAAAAAAAAAAAAAAAAAAAAAAAAAAAAAAAAAAAAAAAAAAAAAAAAAAAAAAAAAAAAAAAAAAAAAAAAAAAAAAAAAAAAAAAAAAAAAAAAAAAAAAAAAAAAAAAAAAAAAAAAAAAAAAAAAAAAAAAAAAAAAAAAAAAAAAAAAAAAAAAAAAAAAAAAAAAAAAAAAAAAAAAAAAAAAAAAAAAAAAAAAAAAAAAAAAAAAAAAAAAAAAAAAAAAAAAAAAAAAAAAAAAAAAAAAAAAAAAAAAAAAAAAAAAAAAAAAAAAAAAAAAAAAAAAAAAAAAAAAAAAAAAAAAAAAAAAAAAAAAAAAAAAAAAAAAAAAAAAAAAAAAAAAAAAAAAAAAAAAAAAAAAAAAAAAAAAAAAAAAAAAAAAAAAAAAAAAAAAAAAAAAAAAAAAAAAAAAAAAAAAAAAAAAAAAAAAAAAAAAAAAAAAAAAAAAAAAAAAAAAAAAAAAAAAAAAAAAAAAAAAAAAAAAAAAAAAAAAAAAAAAAAAAAAAAAAAAAAAAAAAAAAAAAAAAAAAAAAAAAAAAAAAAAAAAAAAAAAAAAAAAAAAAAAAAAAAAAAAAAAAAAAAAAAAAAAAAAAAAAAAAAAAAAAAAAAAAAAAAAAAAAAAAAAAAAAAAAAAAAAAAAAAAAAAAAAAAAAAAAAAAAAAAAAAAAAAAAAAAAAAAAAAAAAAAAAAAAAAAAAAAAAAAAAAAAAAAAAAAAAAAAAAAAAAAAAAAAAAAAAAAAAAAAAAAAAAAAAAAAAAAAAAAAAAAAAAAAAAAAAAAAAAAAAAAAAAAAAAAAAAAAAAAAAAAAAAAAAAAAAAAAAAAAAAAAAAAAAAAAAAAAAAAAAAAAAAAAAAAAAAAAAAAAAAAAAAAAAAAAAAAAAAAAAAAAAAAAAAAAAAAAAAAAAAAAAAAAAAAAAAAAAAAAAAAAAAAAAAAAAAAAAAAAAAAAAAAAAAAAAAAAAAAAACwAAAAAAgABAAAIBQABAAgIADs=\"><title>Layer: input1 (input)\n shape = (2,)\n Keras class = Input</title></image><text x=\"230.0\" y=\"207.0\" font-family=\"monospace\" font-size=\"12\" text-anchor=\"start\" alignment-baseline=\"central\">input1</text></svg></p>"
      }
     }
    },
    "version_major": 1,
    "version_minor": 0
   }
  }
 },
 "nbformat": 4,
 "nbformat_minor": 2
}
