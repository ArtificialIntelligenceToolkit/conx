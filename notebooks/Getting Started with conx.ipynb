{
 "cells": [
  {
   "cell_type": "markdown",
   "metadata": {},
   "source": [
    "# Getting Started with conx\n",
    "\n",
    "## What is conx?\n",
    "\n",
    "`conx` is an accessible and powerful way to build and understand deep learning neural networks. Specifically, it sits on top of Keras, which sits on top of Theano, TensorFlow, or CNTK. \n",
    "\n",
    "`conx`:\n",
    "\n",
    "* has an easy to use interface for creating connections between layers of a neural network\n",
    "* adds additional functionality for manipulating neural networks\n",
    "* supports visualizations and analysis for training and using neural networks\n",
    "* has everything you need; doesn't require knowledge of complicated numerical or plotting libraries\n",
    "* integrates with lower-level (Keras) if you wish\n",
    "\n",
    "But rather than attempting to explain each of these points, let's demonstrate them.\n",
    "\n",
    "This demonstration is being run in a Jupyter Notebook. `conx` doesn't require running in the notebook, but if you do, you will be able to use the visualizations and dashboard.\n",
    "\n",
    "## A Simple Network\n",
    "\n",
    "As a demonstration, let's build a simple networkd for learning the XOR (exclusive or) truth table. XOR is defined as:\n",
    "\n",
    "Input | Output\n",
    "------|-------\n",
    " 0, 0 | 0\n",
    " 0, 1 | 1\n",
    " 1, 0 | 1\n",
    " 1, 1 | 0"
   ]
  },
  {
   "cell_type": "markdown",
   "metadata": {},
   "source": [
    "### Step 1: import conx\n",
    "\n",
    "We will need the Network, and Layer classes from the conx module:"
   ]
  },
  {
   "cell_type": "code",
   "execution_count": 1,
   "metadata": {},
   "outputs": [
    {
     "name": "stderr",
     "output_type": "stream",
     "text": [
      "Using Theano backend.\n",
      "conx, version 3.5.3\n"
     ]
    }
   ],
   "source": [
    "from conx import Network, Layer"
   ]
  },
  {
   "cell_type": "markdown",
   "metadata": {},
   "source": [
    "### Step 2: create the network\n",
    "\n",
    "Every network needs a name:"
   ]
  },
  {
   "cell_type": "code",
   "execution_count": 2,
   "metadata": {},
   "outputs": [],
   "source": [
    "net = Network(\"XOR Network\")"
   ]
  },
  {
   "cell_type": "markdown",
   "metadata": {},
   "source": [
    "### Step 3: add the needed layers\n",
    "\n",
    "Every layer needs a name and a size. We add each of the layers of our network. The first layer will be an \"input\" layer (named \"input1\"). We only need to specify the size. For our XOR problem, there are two inputs:"
   ]
  },
  {
   "cell_type": "code",
   "execution_count": 3,
   "metadata": {},
   "outputs": [],
   "source": [
    "net.add(Layer(\"input1\", 2))"
   ]
  },
  {
   "cell_type": "markdown",
   "metadata": {},
   "source": [
    "For the next layers, we will also use the default layer type for hidden and output layers. However, we also need to specify the function to apply to the \"net inputs\" to the layer, after the matrix multiplications. We have a few choices for which activation functions to use:\n",
    "\n",
    "* 'relu'\n",
    "* 'sigmoid'\n",
    "* 'linear'\n",
    "* 'softmax'\n",
    "* 'tanh'\n",
    "* 'elu'\n",
    "* 'selu'\n",
    "* 'softplus'\n",
    "* 'softsign'\n",
    "* 'hard_sigmoid'\n",
    "\n",
    "You can try any of these. \"relu\" is short for Rectified Linear Unit and is known for being generally useful for hidden layer activations. Likewise, the sigmoid function is generally useful for output layer activation functions. We'll try those, respectively, but you can experiment."
   ]
  },
  {
   "cell_type": "code",
   "execution_count": 4,
   "metadata": {},
   "outputs": [],
   "source": [
    "net.add(Layer(\"hidden1\", 5, activation=\"relu\"))\n",
    "net.add(Layer(\"output1\", 1, activation=\"sigmoid\"))"
   ]
  },
  {
   "cell_type": "markdown",
   "metadata": {},
   "source": [
    "### Step 4: connect the layers\n",
    "\n",
    "We connect up the layers as needed. This is a simple 3-layer network:"
   ]
  },
  {
   "cell_type": "code",
   "execution_count": 5,
   "metadata": {},
   "outputs": [],
   "source": [
    "net.connect(\"input1\", \"hidden1\")\n",
    "net.connect(\"hidden1\", \"output1\")"
   ]
  },
  {
   "cell_type": "markdown",
   "metadata": {},
   "source": [
    "**Note**:\n",
    "\n",
    "We use the term `layer` here because each of these items composes the layer itself. In general though, a layer can be composed of many of these items. In that case, we call such a layer a `bank`."
   ]
  },
  {
   "cell_type": "markdown",
   "metadata": {},
   "source": [
    "### Step 5: compile the network\n",
    "\n",
    "Before we can do this step, we need to do two things:\n",
    "\n",
    "1. tell the network how to compute the error between the targets and the actual outputs\n",
    "2. tell the network how to adjust the weights when learning\n",
    "\n",
    "#### Error (or loss)\n",
    "\n",
    "The first option is called the `error` (or `loss`). There are many choices for the error function, and we'll dive into each later. For now, we'll just briefly mention them:\n",
    "\n",
    "* \"mse\" - mean square error\n",
    "* \"mae\" - mean absolute error\n",
    "* \"mape\" - mean absolute percentage error\n",
    "* \"msle\" - mean squared logarithmic error\n",
    "* \"kld\" - kullback leibler divergence\n",
    "* \"cosine\" - cosine proximity\n",
    "\n",
    "#### Optimizer\n",
    "\n",
    "The second option is called \"optimizer\". Again, there are many choices, but we just briefly name them here:\n",
    "\n",
    "* \"sgd\" - Stochastic gradient descent optimizer\n",
    "* \"rmsprop\" - RMS Prop optimizer\n",
    "* \"adagrad\" - ADA gradient optimizer\n",
    "* \"adadelta\" - ADA delta optimizer\n",
    "* \"adam\" - [Adam optimizer](http://arxiv.org/abs/1412.6980v8)\n",
    "* \"adamax\" - Adamax optimizer from Adam\n",
    "* \"nadam\" - Nesterov Adam optimizer\n",
    "* \"tfoptimizer\" - a native TensorFlow optimizer\n",
    "\n",
    "For now, we'll just pick \"mse\" for the error function, and \"adam\" for the optimizer. \n",
    "\n",
    "And we compile the network:"
   ]
  },
  {
   "cell_type": "code",
   "execution_count": 6,
   "metadata": {},
   "outputs": [],
   "source": [
    "net.compile(error=\"mse\", optimizer=\"adam\")"
   ]
  },
  {
   "cell_type": "markdown",
   "metadata": {},
   "source": [
    "#### Option: visualize the network\n",
    "\n",
    "At this point in the steps, you can see a visual representation of the network by simply evaluating the network:"
   ]
  },
  {
   "cell_type": "code",
   "execution_count": 7,
   "metadata": {},
   "outputs": [
    {
     "data": {
      "application/javascript": [
       "\n",
       "require(['base/js/namespace'], function(Jupyter) {\n",
       "    Jupyter.notebook.kernel.comm_manager.register_target('conx_svg_control', function(comm, msg) {\n",
       "        comm.on_msg(function(msg) {\n",
       "            var data = msg[\"content\"][\"data\"];\n",
       "            var images = document.getElementsByClassName(data[\"class\"]);\n",
       "            for (var i = 0; i < images.length; i++) {\n",
       "                if (data[\"href\"]) {\n",
       "                    images[i].setAttributeNS(null, \"href\", data[\"href\"]);\n",
       "                }\n",
       "                if (data[\"src\"]) {\n",
       "                    images[i].setAttributeNS(null, \"src\", data[\"src\"]);\n",
       "                }\n",
       "            }\n",
       "        });\n",
       "    });\n",
       "});\n"
      ],
      "text/plain": [
       "<IPython.core.display.Javascript object>"
      ]
     },
     "metadata": {},
     "output_type": "display_data"
    },
    {
     "data": {
      "text/html": [
       "<svg id='XOR Network' xmlns='http://www.w3.org/2000/svg' viewBox=\"0 0 350 350.0\" max-width=\"100%\" height=\"780px\" image-rendering=\"pixelated\">\n",
       "    <defs>\n",
       "        <marker id=\"arrow\" markerWidth=\"10\" markerHeight=\"10\" refX=\"9\" refY=\"3\" orient=\"auto\" markerUnits=\"strokeWidth\">\n",
       "          <path d=\"M0,0 L0,6 L9,3 z\" fill=\"black\" />\n",
       "        </marker>\n",
       "    </defs><text x=\"175.0\" y=\"12.5\" font-family=\"monospace\" font-size=\"15\" text-anchor=\"middle\" alignment-baseline=\"central\">XOR Network</text><rect x=\"124.0\" y=\"24\" width=\"102.0\" height=\"102.0\" style=\"fill:none;stroke:black;stroke-width:2\"/><image id=\"XOR Network_output1_1\" class=\"XOR Network_output1\" x=\"125.0\" y=\"25\" height=\"100.0\" width=\"100.0\" preserveAspectRatio=\"none\" href=\"data:image/gif;base64,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\"><title>Layer: output1 (output)\n",
       " shape = (1,)\n",
       " Keras class = Dense\n",
       " activation = sigmoid</title></image><text x=\"230.0\" y=\"77.0\" font-family=\"monospace\" font-size=\"12\" text-anchor=\"start\" alignment-baseline=\"central\">output1</text><line x1=\"175.0\" y1=\"154.0\" x2=\"175.0\" y2=\"127.0\" stroke=\"black\" stroke-width=\"2\" marker-end=\"url(#arrow)\"><title>Weights from hidden1 to output1\n",
       " output1/kernel has shape (5, 1)\n",
       " output1/bias has shape (1,)</title></line><rect x=\"74.0\" y=\"154.0\" width=\"202\" height=\"42\" style=\"fill:none;stroke:black;stroke-width:2\"/><image id=\"XOR Network_hidden1_2\" class=\"XOR Network_hidden1\" x=\"75.0\" y=\"155.0\" height=\"40\" width=\"200\" preserveAspectRatio=\"none\" href=\"data:image/gif;base64,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\"><title>Layer: hidden1 (hidden)\n",
       " shape = (5,)\n",
       " Keras class = Dense\n",
       " activation = relu</title></image><text x=\"280.0\" y=\"177.0\" font-family=\"monospace\" font-size=\"12\" text-anchor=\"start\" alignment-baseline=\"central\">hidden1</text><line x1=\"175.0\" y1=\"224.0\" x2=\"175.0\" y2=\"197.0\" stroke=\"black\" stroke-width=\"2\" marker-end=\"url(#arrow)\"><title>Weights from input1 to hidden1\n",
       " hidden1/kernel has shape (2, 5)\n",
       " hidden1/bias has shape (5,)</title></line><rect x=\"74.0\" y=\"224.0\" width=\"202\" height=\"102\" style=\"fill:none;stroke:black;stroke-width:2\"/><image id=\"XOR Network_input1_3\" class=\"XOR Network_input1\" x=\"75.0\" y=\"225.0\" height=\"100\" width=\"200\" preserveAspectRatio=\"none\" href=\"data:image/gif;base64,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\"><title>Layer: input1 (input)\n",
       " shape = (2,)\n",
       " Keras class = Input</title></image><text x=\"280.0\" y=\"277.0\" font-family=\"monospace\" font-size=\"12\" text-anchor=\"start\" alignment-baseline=\"central\">input1</text></svg>"
      ],
      "text/plain": [
       "<Network name='XOR Network' (compiled)>"
      ]
     },
     "execution_count": 7,
     "metadata": {},
     "output_type": "execute_result"
    }
   ],
   "source": [
    "net"
   ]
  },
  {
   "cell_type": "markdown",
   "metadata": {},
   "source": [
    "This is useful to see the layers and connections."
   ]
  },
  {
   "cell_type": "markdown",
   "metadata": {},
   "source": [
    "Propagating the network should show some colored squares in the layers in the above image. We can try any input vector:"
   ]
  },
  {
   "cell_type": "code",
   "execution_count": 8,
   "metadata": {},
   "outputs": [
    {
     "data": {
      "text/plain": [
       "[0.366447389125824]"
      ]
     },
     "execution_count": 8,
     "metadata": {},
     "output_type": "execute_result"
    }
   ],
   "source": [
    "net.propagate([-1, 1])"
   ]
  },
  {
   "cell_type": "markdown",
   "metadata": {},
   "source": [
    "In these visualizations, the more red a unit is, the more negative its value, and the more black, the more positive. Values close to zero will appear white.\n",
    "\n",
    "Interestingly, if you propagate this network with zeros, then it will only have white activations. This means that there is no activation at any node in the network. This is because the bias units are initialized at zero.\n",
    "\n",
    "Below, we propagate small, positive values which appear as light gray. Activations in the hidden layer may appear redish (negative), bluish (positive), or whitish (close to zero)."
   ]
  },
  {
   "cell_type": "code",
   "execution_count": 9,
   "metadata": {
    "scrolled": false
   },
   "outputs": [
    {
     "data": {
      "application/javascript": [
       "\n",
       "require(['base/js/namespace'], function(Jupyter) {\n",
       "    Jupyter.notebook.kernel.comm_manager.register_target('conx_svg_control', function(comm, msg) {\n",
       "        comm.on_msg(function(msg) {\n",
       "            var data = msg[\"content\"][\"data\"];\n",
       "            var images = document.getElementsByClassName(data[\"class\"]);\n",
       "            for (var i = 0; i < images.length; i++) {\n",
       "                if (data[\"href\"]) {\n",
       "                    images[i].setAttributeNS(null, \"href\", data[\"href\"]);\n",
       "                }\n",
       "                if (data[\"src\"]) {\n",
       "                    images[i].setAttributeNS(null, \"src\", data[\"src\"]);\n",
       "                }\n",
       "            }\n",
       "        });\n",
       "    });\n",
       "});\n"
      ],
      "text/plain": [
       "<IPython.core.display.Javascript object>"
      ]
     },
     "metadata": {},
     "output_type": "display_data"
    },
    {
     "data": {
      "text/html": [
       "<svg id='XOR Network' xmlns='http://www.w3.org/2000/svg' viewBox=\"0 0 350 350.0\" max-width=\"100%\" height=\"780px\" image-rendering=\"pixelated\">\n",
       "    <defs>\n",
       "        <marker id=\"arrow\" markerWidth=\"10\" markerHeight=\"10\" refX=\"9\" refY=\"3\" orient=\"auto\" markerUnits=\"strokeWidth\">\n",
       "          <path d=\"M0,0 L0,6 L9,3 z\" fill=\"black\" />\n",
       "        </marker>\n",
       "    </defs><text x=\"175.0\" y=\"12.5\" font-family=\"monospace\" font-size=\"15\" text-anchor=\"middle\" alignment-baseline=\"central\">XOR Network</text><rect x=\"124.0\" y=\"24\" width=\"102.0\" height=\"102.0\" style=\"fill:none;stroke:black;stroke-width:2\"/><image id=\"XOR Network_output1_4\" class=\"XOR Network_output1\" x=\"125.0\" y=\"25\" height=\"100.0\" width=\"100.0\" preserveAspectRatio=\"none\" href=\"data:image/gif;base64,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\"><title>Layer: output1 (output)\n",
       " shape = (1,)\n",
       " Keras class = Dense\n",
       " activation = sigmoid</title></image><text x=\"230.0\" y=\"77.0\" font-family=\"monospace\" font-size=\"12\" text-anchor=\"start\" alignment-baseline=\"central\">output1</text><line x1=\"175.0\" y1=\"154.0\" x2=\"175.0\" y2=\"127.0\" stroke=\"black\" stroke-width=\"2\" marker-end=\"url(#arrow)\"><title>Weights from hidden1 to output1\n",
       " output1/kernel has shape (5, 1)\n",
       " output1/bias has shape (1,)</title></line><rect x=\"74.0\" y=\"154.0\" width=\"202\" height=\"42\" style=\"fill:none;stroke:black;stroke-width:2\"/><image id=\"XOR Network_hidden1_5\" class=\"XOR Network_hidden1\" x=\"75.0\" y=\"155.0\" height=\"40\" width=\"200\" preserveAspectRatio=\"none\" href=\"data:image/gif;base64,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\"><title>Layer: hidden1 (hidden)\n",
       " shape = (5,)\n",
       " Keras class = Dense\n",
       " activation = relu</title></image><text x=\"280.0\" y=\"177.0\" font-family=\"monospace\" font-size=\"12\" text-anchor=\"start\" alignment-baseline=\"central\">hidden1</text><line x1=\"175.0\" y1=\"224.0\" x2=\"175.0\" y2=\"197.0\" stroke=\"black\" stroke-width=\"2\" marker-end=\"url(#arrow)\"><title>Weights from input1 to hidden1\n",
       " hidden1/kernel has shape (2, 5)\n",
       " hidden1/bias has shape (5,)</title></line><rect x=\"74.0\" y=\"224.0\" width=\"202\" height=\"102\" style=\"fill:none;stroke:black;stroke-width:2\"/><image id=\"XOR Network_input1_6\" class=\"XOR Network_input1\" x=\"75.0\" y=\"225.0\" height=\"100\" width=\"200\" preserveAspectRatio=\"none\" href=\"data:image/gif;base64,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\"><title>Layer: input1 (input)\n",
       " shape = (2,)\n",
       " Keras class = Input</title></image><text x=\"280.0\" y=\"277.0\" font-family=\"monospace\" font-size=\"12\" text-anchor=\"start\" alignment-baseline=\"central\">input1</text></svg>"
      ],
      "text/plain": [
       "<Network name='XOR Network' (compiled)>"
      ]
     },
     "execution_count": 9,
     "metadata": {},
     "output_type": "execute_result"
    }
   ],
   "source": [
    "net"
   ]
  },
  {
   "cell_type": "markdown",
   "metadata": {},
   "source": [
    "### The dashboard\n",
    "\n",
    "The dashboard allows you to interact, test, and generally work with your network via a GUI."
   ]
  },
  {
   "cell_type": "code",
   "execution_count": 10,
   "metadata": {
    "scrolled": false
   },
   "outputs": [
    {
     "data": {
      "application/vnd.jupyter.widget-view+json": {
       "model_id": "82a793e46a854093b2e1e356ceee3368",
       "version_major": 2,
       "version_minor": 0
      },
      "text/html": [
       "<p>Failed to display Jupyter Widget of type <code>Dashboard</code>.</p>\n",
       "<p>\n",
       "  If you're reading this message in the Jupyter Notebook or JupyterLab Notebook, it may mean\n",
       "  that the widgets JavaScript is still loading. If this message persists, it\n",
       "  likely means that the widgets JavaScript library is either not installed or\n",
       "  not enabled. See the <a href=\"https://ipywidgets.readthedocs.io/en/stable/user_install.html\">Jupyter\n",
       "  Widgets Documentation</a> for setup instructions.\n",
       "</p>\n",
       "<p>\n",
       "  If you're reading this message in another frontend (for example, a static\n",
       "  rendering on GitHub or <a href=\"https://nbviewer.jupyter.org/\">NBViewer</a>),\n",
       "  it may mean that your frontend doesn't currently support widgets.\n",
       "</p>\n"
      ],
      "text/plain": [
       "Dashboard(children=(Accordion(children=(HBox(children=(VBox(children=(Select(description='Dataset:', index=1, options=('Test', 'Train'), rows=1, value='Train'), FloatSlider(value=1.0, continuous_update=False, description='Zoom', max=3.0, min=0.5), IntText(value=150, description='Horizontal space between banks:', style=DescriptionStyle(description_width='initial')), IntText(value=30, description='Vertical space between layers:', style=DescriptionStyle(description_width='initial')), HBox(children=(Checkbox(value=False, description='Show Targets', style=DescriptionStyle(description_width='initial')), Checkbox(value=False, description='Errors', style=DescriptionStyle(description_width='initial')))), Select(description='Features:', options=('',), rows=1, value=''), IntText(value=3, description='Feature columns:', style=DescriptionStyle(description_width='initial')), FloatText(value=2.0, description='Feature scale:', style=DescriptionStyle(description_width='initial'))), layout=Layout(width='100%')), VBox(children=(Select(description='Layer:', index=2, options=('input1', 'hidden1', 'output1'), rows=1, value='output1'), Checkbox(value=True, description='Visible'), Select(description='Colormap:', options=('', 'Accent', 'Accent_r', 'Blues', 'Blues_r', 'BrBG', 'BrBG_r', 'BuGn', 'BuGn_r', 'BuPu', 'BuPu_r', 'CMRmap', 'CMRmap_r', 'Dark2', 'Dark2_r', 'GnBu', 'GnBu_r', 'Greens', 'Greens_r', 'Greys', 'Greys_r', 'OrRd', 'OrRd_r', 'Oranges', 'Oranges_r', 'PRGn', 'PRGn_r', 'Paired', 'Paired_r', 'Pastel1', 'Pastel1_r', 'Pastel2', 'Pastel2_r', 'PiYG', 'PiYG_r', 'PuBu', 'PuBuGn', 'PuBuGn_r', 'PuBu_r', 'PuOr', 'PuOr_r', 'PuRd', 'PuRd_r', 'Purples', 'Purples_r', 'RdBu', 'RdBu_r', 'RdGy', 'RdGy_r', 'RdPu', 'RdPu_r', 'RdYlBu', 'RdYlBu_r', 'RdYlGn', 'RdYlGn_r', 'Reds', 'Reds_r', 'Set1', 'Set1_r', 'Set2', 'Set2_r', 'Set3', 'Set3_r', 'Spectral', 'Spectral_r', 'Vega10', 'Vega10_r', 'Vega20', 'Vega20_r', 'Vega20b', 'Vega20b_r', 'Vega20c', 'Vega20c_r', 'Wistia', 'Wistia_r', 'YlGn', 'YlGnBu', 'YlGnBu_r', 'YlGn_r', 'YlOrBr', 'YlOrBr_r', 'YlOrRd', 'YlOrRd_r', 'afmhot', 'afmhot_r', 'autumn', 'autumn_r', 'binary', 'binary_r', 'bone', 'bone_r', 'brg', 'brg_r', 'bwr', 'bwr_r', 'cool', 'cool_r', 'coolwarm', 'coolwarm_r', 'copper', 'copper_r', 'cubehelix', 'cubehelix_r', 'flag', 'flag_r', 'gist_earth', 'gist_earth_r', 'gist_gray', 'gist_gray_r', 'gist_heat', 'gist_heat_r', 'gist_ncar', 'gist_ncar_r', 'gist_rainbow', 'gist_rainbow_r', 'gist_stern', 'gist_stern_r', 'gist_yarg', 'gist_yarg_r', 'gnuplot', 'gnuplot2', 'gnuplot2_r', 'gnuplot_r', 'gray', 'gray_r', 'hot', 'hot_r', 'hsv', 'hsv_r', 'inferno', 'inferno_r', 'jet', 'jet_r', 'magma', 'magma_r', 'nipy_spectral', 'nipy_spectral_r', 'ocean', 'ocean_r', 'pink', 'pink_r', 'plasma', 'plasma_r', 'prism', 'prism_r', 'rainbow', 'rainbow_r', 'seismic', 'seismic_r', 'spectral', 'spectral_r', 'spring', 'spring_r', 'summer', 'summer_r', 'tab10', 'tab10_r', 'tab20', 'tab20_r', 'tab20b', 'tab20b_r', 'tab20c', 'tab20c_r', 'terrain', 'terrain_r', 'viridis', 'viridis_r', 'winter', 'winter_r'), rows=1, value=''), HTML(value='<img src=\"data:image/gif;base64,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\"/>'), FloatText(value=-1.0, description='Leftmost color maps to:', style=DescriptionStyle(description_width='initial')), FloatText(value=1.0, description='Rightmost color maps to:', style=DescriptionStyle(description_width='initial')), IntText(value=0, description='Feature to show:', style=DescriptionStyle(description_width='initial'))), layout=Layout(width='100%')))),), selected_index=None, _titles={'0': 'XOR Network'}), VBox(children=(HBox(children=(IntSlider(value=0, continuous_update=False, description='Dataset index', layout=Layout(width='100%'), max=0), Label(value='of 0', layout=Layout(width='100px'))), layout=Layout(height='40px')), HBox(children=(Button(icon='fast-backward', layout=Layout(width='100%'), style=ButtonStyle()), Button(icon='backward', layout=Layout(width='100%'), style=ButtonStyle()), IntText(value=0, layout=Layout(width='100%')), Button(icon='forward', layout=Layout(width='100%'), style=ButtonStyle()), Button(icon='fast-forward', layout=Layout(width='100%'), style=ButtonStyle()), Button(description='Play', icon='play', layout=Layout(width='100%'), style=ButtonStyle()), Button(icon='refresh', layout=Layout(width='25%'), style=ButtonStyle())), layout=Layout(height='50px', width='100%'))), layout=Layout(width='100%')), HTML(value='<p style=\"text-align:center\"></p>', layout=Layout(justify_content='center', overflow_x='auto', overflow_y='auto', width='95%')), Output()))"
      ]
     },
     "metadata": {},
     "output_type": "display_data"
    },
    {
     "data": {
      "application/javascript": [
       "\n",
       "require(['base/js/namespace'], function(Jupyter) {\n",
       "    Jupyter.notebook.kernel.comm_manager.register_target('conx_svg_control', function(comm, msg) {\n",
       "        comm.on_msg(function(msg) {\n",
       "            var data = msg[\"content\"][\"data\"];\n",
       "            var images = document.getElementsByClassName(data[\"class\"]);\n",
       "            for (var i = 0; i < images.length; i++) {\n",
       "                if (data[\"href\"]) {\n",
       "                    images[i].setAttributeNS(null, \"href\", data[\"href\"]);\n",
       "                }\n",
       "                if (data[\"src\"]) {\n",
       "                    images[i].setAttributeNS(null, \"src\", data[\"src\"]);\n",
       "                }\n",
       "            }\n",
       "        });\n",
       "    });\n",
       "});\n"
      ],
      "text/plain": [
       "<IPython.core.display.Javascript object>"
      ]
     },
     "metadata": {},
     "output_type": "display_data"
    }
   ],
   "source": [
    "net.dashboard()"
   ]
  },
  {
   "cell_type": "markdown",
   "metadata": {},
   "source": [
    "### Step 6: setup the training data\n",
    "\n",
    "For this little experiment, we want to train the network on our table from above. To do that, we add the inputs and the targets to the dataset, one at a time:"
   ]
  },
  {
   "cell_type": "code",
   "execution_count": 11,
   "metadata": {},
   "outputs": [],
   "source": [
    "net.dataset.add([0, 0], [0])\n",
    "net.dataset.add([0, 1], [1])\n",
    "net.dataset.add([1, 0], [1])\n",
    "net.dataset.add([1, 1], [0])"
   ]
  },
  {
   "cell_type": "markdown",
   "metadata": {},
   "source": [
    "If you press the \"refresh\" button on the above dashboard view, then you will be able to step through (or play through) all of the input/targets."
   ]
  },
  {
   "cell_type": "code",
   "execution_count": 12,
   "metadata": {},
   "outputs": [
    {
     "name": "stdout",
     "output_type": "stream",
     "text": [
      "Input Summary:\n",
      "   count  : 4 (4 for training, 0 for testing)\n",
      "   shape  : [(2,)]\n",
      "   range  : (0.0, 1.0)\n",
      "Target Summary:\n",
      "   count  : 4 (4 for training, 0 for testing)\n",
      "   shape  : [(1,)]\n",
      "   range  : (0.0, 1.0)\n"
     ]
    }
   ],
   "source": [
    "net.dataset.summary()"
   ]
  },
  {
   "cell_type": "markdown",
   "metadata": {},
   "source": [
    "### Step 7: train the network"
   ]
  },
  {
   "cell_type": "code",
   "execution_count": 14,
   "metadata": {},
   "outputs": [
    {
     "data": {
      "image/svg+xml": [
       "<svg height=\"288pt\" version=\"1.1\" viewBox=\"0 0 720 288\" width=\"720pt\" xmlns=\"http://www.w3.org/2000/svg\" xmlns:xlink=\"http://www.w3.org/1999/xlink\">\n",
       " <defs>\n",
       "  <style type=\"text/css\">\n",
       "*{stroke-linecap:butt;stroke-linejoin:round;}\n",
       "  </style>\n",
       " </defs>\n",
       " <g id=\"figure_1\">\n",
       "  <g id=\"patch_1\">\n",
       "   <path d=\"M 0 288  L 720 288  L 720 0  L 0 0  z \" style=\"fill:#ffffff;\"/>\n",
       "  </g>\n",
       "  <g id=\"axes_1\">\n",
       "   <g id=\"patch_2\">\n",
       "    <path d=\"M 90 252  L 343.636364 252  L 343.636364 34.56  L 90 34.56  z \" style=\"fill:#ffffff;\"/>\n",
       "   </g>\n",
       "   <g id=\"matplotlib.axis_1\">\n",
       "    <g id=\"xtick_1\">\n",
       "     <g id=\"line2d_1\">\n",
       "      <defs>\n",
       "       <path d=\"M 0 0  L 0 3.5  \" id=\"m7ca90a3e0b\" style=\"stroke:#000000;stroke-width:0.8;\"/>\n",
       "      </defs>\n",
       "      <g>\n",
       "       <use style=\"stroke:#000000;stroke-width:0.8;\" x=\"101.528926\" xlink:href=\"#m7ca90a3e0b\" y=\"252\"/>\n",
       "      </g>\n",
       "     </g>\n",
       "     <g id=\"text_1\">\n",
       "      <!-- 0 -->\n",
       "      <defs>\n",
       "       <path d=\"M 31.78125 66.40625  Q 24.171875 66.40625 20.328125 58.90625  Q 16.5 51.421875 16.5 36.375  Q 16.5 21.390625 20.328125 13.890625  Q 24.171875 6.390625 31.78125 6.390625  Q 39.453125 6.390625 43.28125 13.890625  Q 47.125 21.390625 47.125 36.375  Q 47.125 51.421875 43.28125 58.90625  Q 39.453125 66.40625 31.78125 66.40625  z M 31.78125 74.21875  Q 44.046875 74.21875 50.515625 64.515625  Q 56.984375 54.828125 56.984375 36.375  Q 56.984375 17.96875 50.515625 8.265625  Q 44.046875 -1.421875 31.78125 -1.421875  Q 19.53125 -1.421875 13.0625 8.265625  Q 6.59375 17.96875 6.59375 36.375  Q 6.59375 54.828125 13.0625 64.515625  Q 19.53125 74.21875 31.78125 74.21875  z \" id=\"DejaVuSans-30\"/>\n",
       "      </defs>\n",
       "      <g transform=\"translate(98.347676 266.598437)scale(0.1 -0.1)\">\n",
       "       <use xlink:href=\"#DejaVuSans-30\"/>\n",
       "      </g>\n",
       "     </g>\n",
       "    </g>\n",
       "    <g id=\"xtick_2\">\n",
       "     <g id=\"line2d_2\">\n",
       "      <g>\n",
       "       <use style=\"stroke:#000000;stroke-width:0.8;\" x=\"135.638173\" xlink:href=\"#m7ca90a3e0b\" y=\"252\"/>\n",
       "      </g>\n",
       "     </g>\n",
       "     <g id=\"text_2\">\n",
       "      <!-- 500 -->\n",
       "      <defs>\n",
       "       <path d=\"M 10.796875 72.90625  L 49.515625 72.90625  L 49.515625 64.59375  L 19.828125 64.59375  L 19.828125 46.734375  Q 21.96875 47.46875 24.109375 47.828125  Q 26.265625 48.1875 28.421875 48.1875  Q 40.625 48.1875 47.75 41.5  Q 54.890625 34.8125 54.890625 23.390625  Q 54.890625 11.625 47.5625 5.09375  Q 40.234375 -1.421875 26.90625 -1.421875  Q 22.3125 -1.421875 17.546875 -0.640625  Q 12.796875 0.140625 7.71875 1.703125  L 7.71875 11.625  Q 12.109375 9.234375 16.796875 8.0625  Q 21.484375 6.890625 26.703125 6.890625  Q 35.15625 6.890625 40.078125 11.328125  Q 45.015625 15.765625 45.015625 23.390625  Q 45.015625 31 40.078125 35.4375  Q 35.15625 39.890625 26.703125 39.890625  Q 22.75 39.890625 18.8125 39.015625  Q 14.890625 38.140625 10.796875 36.28125  z \" id=\"DejaVuSans-35\"/>\n",
       "      </defs>\n",
       "      <g transform=\"translate(126.094423 266.598437)scale(0.1 -0.1)\">\n",
       "       <use xlink:href=\"#DejaVuSans-35\"/>\n",
       "       <use x=\"63.623047\" xlink:href=\"#DejaVuSans-30\"/>\n",
       "       <use x=\"127.246094\" xlink:href=\"#DejaVuSans-30\"/>\n",
       "      </g>\n",
       "     </g>\n",
       "    </g>\n",
       "    <g id=\"xtick_3\">\n",
       "     <g id=\"line2d_3\">\n",
       "      <g>\n",
       "       <use style=\"stroke:#000000;stroke-width:0.8;\" x=\"169.74742\" xlink:href=\"#m7ca90a3e0b\" y=\"252\"/>\n",
       "      </g>\n",
       "     </g>\n",
       "     <g id=\"text_3\">\n",
       "      <!-- 1000 -->\n",
       "      <defs>\n",
       "       <path d=\"M 12.40625 8.296875  L 28.515625 8.296875  L 28.515625 63.921875  L 10.984375 60.40625  L 10.984375 69.390625  L 28.421875 72.90625  L 38.28125 72.90625  L 38.28125 8.296875  L 54.390625 8.296875  L 54.390625 0  L 12.40625 0  z \" id=\"DejaVuSans-31\"/>\n",
       "      </defs>\n",
       "      <g transform=\"translate(157.02242 266.598437)scale(0.1 -0.1)\">\n",
       "       <use xlink:href=\"#DejaVuSans-31\"/>\n",
       "       <use x=\"63.623047\" xlink:href=\"#DejaVuSans-30\"/>\n",
       "       <use x=\"127.246094\" xlink:href=\"#DejaVuSans-30\"/>\n",
       "       <use x=\"190.869141\" xlink:href=\"#DejaVuSans-30\"/>\n",
       "      </g>\n",
       "     </g>\n",
       "    </g>\n",
       "    <g id=\"xtick_4\">\n",
       "     <g id=\"line2d_4\">\n",
       "      <g>\n",
       "       <use style=\"stroke:#000000;stroke-width:0.8;\" x=\"203.856668\" xlink:href=\"#m7ca90a3e0b\" y=\"252\"/>\n",
       "      </g>\n",
       "     </g>\n",
       "     <g id=\"text_4\">\n",
       "      <!-- 1500 -->\n",
       "      <g transform=\"translate(191.131668 266.598437)scale(0.1 -0.1)\">\n",
       "       <use xlink:href=\"#DejaVuSans-31\"/>\n",
       "       <use x=\"63.623047\" xlink:href=\"#DejaVuSans-35\"/>\n",
       "       <use x=\"127.246094\" xlink:href=\"#DejaVuSans-30\"/>\n",
       "       <use x=\"190.869141\" xlink:href=\"#DejaVuSans-30\"/>\n",
       "      </g>\n",
       "     </g>\n",
       "    </g>\n",
       "    <g id=\"xtick_5\">\n",
       "     <g id=\"line2d_5\">\n",
       "      <g>\n",
       "       <use style=\"stroke:#000000;stroke-width:0.8;\" x=\"237.965915\" xlink:href=\"#m7ca90a3e0b\" y=\"252\"/>\n",
       "      </g>\n",
       "     </g>\n",
       "     <g id=\"text_5\">\n",
       "      <!-- 2000 -->\n",
       "      <defs>\n",
       "       <path d=\"M 19.1875 8.296875  L 53.609375 8.296875  L 53.609375 0  L 7.328125 0  L 7.328125 8.296875  Q 12.9375 14.109375 22.625 23.890625  Q 32.328125 33.6875 34.8125 36.53125  Q 39.546875 41.84375 41.421875 45.53125  Q 43.3125 49.21875 43.3125 52.78125  Q 43.3125 58.59375 39.234375 62.25  Q 35.15625 65.921875 28.609375 65.921875  Q 23.96875 65.921875 18.8125 64.3125  Q 13.671875 62.703125 7.8125 59.421875  L 7.8125 69.390625  Q 13.765625 71.78125 18.9375 73  Q 24.125 74.21875 28.421875 74.21875  Q 39.75 74.21875 46.484375 68.546875  Q 53.21875 62.890625 53.21875 53.421875  Q 53.21875 48.921875 51.53125 44.890625  Q 49.859375 40.875 45.40625 35.40625  Q 44.1875 33.984375 37.640625 27.21875  Q 31.109375 20.453125 19.1875 8.296875  z \" id=\"DejaVuSans-32\"/>\n",
       "      </defs>\n",
       "      <g transform=\"translate(225.240915 266.598437)scale(0.1 -0.1)\">\n",
       "       <use xlink:href=\"#DejaVuSans-32\"/>\n",
       "       <use x=\"63.623047\" xlink:href=\"#DejaVuSans-30\"/>\n",
       "       <use x=\"127.246094\" xlink:href=\"#DejaVuSans-30\"/>\n",
       "       <use x=\"190.869141\" xlink:href=\"#DejaVuSans-30\"/>\n",
       "      </g>\n",
       "     </g>\n",
       "    </g>\n",
       "    <g id=\"xtick_6\">\n",
       "     <g id=\"line2d_6\">\n",
       "      <g>\n",
       "       <use style=\"stroke:#000000;stroke-width:0.8;\" x=\"272.075163\" xlink:href=\"#m7ca90a3e0b\" y=\"252\"/>\n",
       "      </g>\n",
       "     </g>\n",
       "     <g id=\"text_6\">\n",
       "      <!-- 2500 -->\n",
       "      <g transform=\"translate(259.350163 266.598437)scale(0.1 -0.1)\">\n",
       "       <use xlink:href=\"#DejaVuSans-32\"/>\n",
       "       <use x=\"63.623047\" xlink:href=\"#DejaVuSans-35\"/>\n",
       "       <use x=\"127.246094\" xlink:href=\"#DejaVuSans-30\"/>\n",
       "       <use x=\"190.869141\" xlink:href=\"#DejaVuSans-30\"/>\n",
       "      </g>\n",
       "     </g>\n",
       "    </g>\n",
       "    <g id=\"xtick_7\">\n",
       "     <g id=\"line2d_7\">\n",
       "      <g>\n",
       "       <use style=\"stroke:#000000;stroke-width:0.8;\" x=\"306.18441\" xlink:href=\"#m7ca90a3e0b\" y=\"252\"/>\n",
       "      </g>\n",
       "     </g>\n",
       "     <g id=\"text_7\">\n",
       "      <!-- 3000 -->\n",
       "      <defs>\n",
       "       <path d=\"M 40.578125 39.3125  Q 47.65625 37.796875 51.625 33  Q 55.609375 28.21875 55.609375 21.1875  Q 55.609375 10.40625 48.1875 4.484375  Q 40.765625 -1.421875 27.09375 -1.421875  Q 22.515625 -1.421875 17.65625 -0.515625  Q 12.796875 0.390625 7.625 2.203125  L 7.625 11.71875  Q 11.71875 9.328125 16.59375 8.109375  Q 21.484375 6.890625 26.8125 6.890625  Q 36.078125 6.890625 40.9375 10.546875  Q 45.796875 14.203125 45.796875 21.1875  Q 45.796875 27.640625 41.28125 31.265625  Q 36.765625 34.90625 28.71875 34.90625  L 20.21875 34.90625  L 20.21875 43.015625  L 29.109375 43.015625  Q 36.375 43.015625 40.234375 45.921875  Q 44.09375 48.828125 44.09375 54.296875  Q 44.09375 59.90625 40.109375 62.90625  Q 36.140625 65.921875 28.71875 65.921875  Q 24.65625 65.921875 20.015625 65.03125  Q 15.375 64.15625 9.8125 62.3125  L 9.8125 71.09375  Q 15.4375 72.65625 20.34375 73.4375  Q 25.25 74.21875 29.59375 74.21875  Q 40.828125 74.21875 47.359375 69.109375  Q 53.90625 64.015625 53.90625 55.328125  Q 53.90625 49.265625 50.4375 45.09375  Q 46.96875 40.921875 40.578125 39.3125  z \" id=\"DejaVuSans-33\"/>\n",
       "      </defs>\n",
       "      <g transform=\"translate(293.45941 266.598437)scale(0.1 -0.1)\">\n",
       "       <use xlink:href=\"#DejaVuSans-33\"/>\n",
       "       <use x=\"63.623047\" xlink:href=\"#DejaVuSans-30\"/>\n",
       "       <use x=\"127.246094\" xlink:href=\"#DejaVuSans-30\"/>\n",
       "       <use x=\"190.869141\" xlink:href=\"#DejaVuSans-30\"/>\n",
       "      </g>\n",
       "     </g>\n",
       "    </g>\n",
       "    <g id=\"xtick_8\">\n",
       "     <g id=\"line2d_8\">\n",
       "      <g>\n",
       "       <use style=\"stroke:#000000;stroke-width:0.8;\" x=\"340.293657\" xlink:href=\"#m7ca90a3e0b\" y=\"252\"/>\n",
       "      </g>\n",
       "     </g>\n",
       "     <g id=\"text_8\">\n",
       "      <!-- 3500 -->\n",
       "      <g transform=\"translate(327.568657 266.598437)scale(0.1 -0.1)\">\n",
       "       <use xlink:href=\"#DejaVuSans-33\"/>\n",
       "       <use x=\"63.623047\" xlink:href=\"#DejaVuSans-35\"/>\n",
       "       <use x=\"127.246094\" xlink:href=\"#DejaVuSans-30\"/>\n",
       "       <use x=\"190.869141\" xlink:href=\"#DejaVuSans-30\"/>\n",
       "      </g>\n",
       "     </g>\n",
       "    </g>\n",
       "    <g id=\"text_9\">\n",
       "     <!-- Epoch -->\n",
       "     <defs>\n",
       "      <path d=\"M 9.8125 72.90625  L 55.90625 72.90625  L 55.90625 64.59375  L 19.671875 64.59375  L 19.671875 43.015625  L 54.390625 43.015625  L 54.390625 34.71875  L 19.671875 34.71875  L 19.671875 8.296875  L 56.78125 8.296875  L 56.78125 0  L 9.8125 0  z \" id=\"DejaVuSans-45\"/>\n",
       "      <path d=\"M 18.109375 8.203125  L 18.109375 -20.796875  L 9.078125 -20.796875  L 9.078125 54.6875  L 18.109375 54.6875  L 18.109375 46.390625  Q 20.953125 51.265625 25.265625 53.625  Q 29.59375 56 35.59375 56  Q 45.5625 56 51.78125 48.09375  Q 58.015625 40.1875 58.015625 27.296875  Q 58.015625 14.40625 51.78125 6.484375  Q 45.5625 -1.421875 35.59375 -1.421875  Q 29.59375 -1.421875 25.265625 0.953125  Q 20.953125 3.328125 18.109375 8.203125  z M 48.6875 27.296875  Q 48.6875 37.203125 44.609375 42.84375  Q 40.53125 48.484375 33.40625 48.484375  Q 26.265625 48.484375 22.1875 42.84375  Q 18.109375 37.203125 18.109375 27.296875  Q 18.109375 17.390625 22.1875 11.75  Q 26.265625 6.109375 33.40625 6.109375  Q 40.53125 6.109375 44.609375 11.75  Q 48.6875 17.390625 48.6875 27.296875  z \" id=\"DejaVuSans-70\"/>\n",
       "      <path d=\"M 30.609375 48.390625  Q 23.390625 48.390625 19.1875 42.75  Q 14.984375 37.109375 14.984375 27.296875  Q 14.984375 17.484375 19.15625 11.84375  Q 23.34375 6.203125 30.609375 6.203125  Q 37.796875 6.203125 41.984375 11.859375  Q 46.1875 17.53125 46.1875 27.296875  Q 46.1875 37.015625 41.984375 42.703125  Q 37.796875 48.390625 30.609375 48.390625  z M 30.609375 56  Q 42.328125 56 49.015625 48.375  Q 55.71875 40.765625 55.71875 27.296875  Q 55.71875 13.875 49.015625 6.21875  Q 42.328125 -1.421875 30.609375 -1.421875  Q 18.84375 -1.421875 12.171875 6.21875  Q 5.515625 13.875 5.515625 27.296875  Q 5.515625 40.765625 12.171875 48.375  Q 18.84375 56 30.609375 56  z \" id=\"DejaVuSans-6f\"/>\n",
       "      <path d=\"M 48.78125 52.59375  L 48.78125 44.1875  Q 44.96875 46.296875 41.140625 47.34375  Q 37.3125 48.390625 33.40625 48.390625  Q 24.65625 48.390625 19.8125 42.84375  Q 14.984375 37.3125 14.984375 27.296875  Q 14.984375 17.28125 19.8125 11.734375  Q 24.65625 6.203125 33.40625 6.203125  Q 37.3125 6.203125 41.140625 7.25  Q 44.96875 8.296875 48.78125 10.40625  L 48.78125 2.09375  Q 45.015625 0.34375 40.984375 -0.53125  Q 36.96875 -1.421875 32.421875 -1.421875  Q 20.0625 -1.421875 12.78125 6.34375  Q 5.515625 14.109375 5.515625 27.296875  Q 5.515625 40.671875 12.859375 48.328125  Q 20.21875 56 33.015625 56  Q 37.15625 56 41.109375 55.140625  Q 45.0625 54.296875 48.78125 52.59375  z \" id=\"DejaVuSans-63\"/>\n",
       "      <path d=\"M 54.890625 33.015625  L 54.890625 0  L 45.90625 0  L 45.90625 32.71875  Q 45.90625 40.484375 42.875 44.328125  Q 39.84375 48.1875 33.796875 48.1875  Q 26.515625 48.1875 22.3125 43.546875  Q 18.109375 38.921875 18.109375 30.90625  L 18.109375 0  L 9.078125 0  L 9.078125 75.984375  L 18.109375 75.984375  L 18.109375 46.1875  Q 21.34375 51.125 25.703125 53.5625  Q 30.078125 56 35.796875 56  Q 45.21875 56 50.046875 50.171875  Q 54.890625 44.34375 54.890625 33.015625  z \" id=\"DejaVuSans-68\"/>\n",
       "     </defs>\n",
       "     <g transform=\"translate(201.507244 280.276563)scale(0.1 -0.1)\">\n",
       "      <use xlink:href=\"#DejaVuSans-45\"/>\n",
       "      <use x=\"63.183594\" xlink:href=\"#DejaVuSans-70\"/>\n",
       "      <use x=\"126.660156\" xlink:href=\"#DejaVuSans-6f\"/>\n",
       "      <use x=\"187.841797\" xlink:href=\"#DejaVuSans-63\"/>\n",
       "      <use x=\"242.822266\" xlink:href=\"#DejaVuSans-68\"/>\n",
       "     </g>\n",
       "    </g>\n",
       "   </g>\n",
       "   <g id=\"matplotlib.axis_2\">\n",
       "    <g id=\"ytick_1\">\n",
       "     <g id=\"line2d_9\">\n",
       "      <defs>\n",
       "       <path d=\"M 0 0  L -3.5 0  \" id=\"mba8e78ca68\" style=\"stroke:#000000;stroke-width:0.8;\"/>\n",
       "      </defs>\n",
       "      <g>\n",
       "       <use style=\"stroke:#000000;stroke-width:0.8;\" x=\"90\" xlink:href=\"#mba8e78ca68\" y=\"252\"/>\n",
       "      </g>\n",
       "     </g>\n",
       "     <g id=\"text_10\">\n",
       "      <!-- 0.00 -->\n",
       "      <defs>\n",
       "       <path d=\"M 10.6875 12.40625  L 21 12.40625  L 21 0  L 10.6875 0  z \" id=\"DejaVuSans-2e\"/>\n",
       "      </defs>\n",
       "      <g transform=\"translate(60.734375 255.799219)scale(0.1 -0.1)\">\n",
       "       <use xlink:href=\"#DejaVuSans-30\"/>\n",
       "       <use x=\"63.623047\" xlink:href=\"#DejaVuSans-2e\"/>\n",
       "       <use x=\"95.410156\" xlink:href=\"#DejaVuSans-30\"/>\n",
       "       <use x=\"159.033203\" xlink:href=\"#DejaVuSans-30\"/>\n",
       "      </g>\n",
       "     </g>\n",
       "    </g>\n",
       "    <g id=\"ytick_2\">\n",
       "     <g id=\"line2d_10\">\n",
       "      <g>\n",
       "       <use style=\"stroke:#000000;stroke-width:0.8;\" x=\"90\" xlink:href=\"#mba8e78ca68\" y=\"212.876717\"/>\n",
       "      </g>\n",
       "     </g>\n",
       "     <g id=\"text_11\">\n",
       "      <!-- 0.05 -->\n",
       "      <g transform=\"translate(60.734375 216.675936)scale(0.1 -0.1)\">\n",
       "       <use xlink:href=\"#DejaVuSans-30\"/>\n",
       "       <use x=\"63.623047\" xlink:href=\"#DejaVuSans-2e\"/>\n",
       "       <use x=\"95.410156\" xlink:href=\"#DejaVuSans-30\"/>\n",
       "       <use x=\"159.033203\" xlink:href=\"#DejaVuSans-35\"/>\n",
       "      </g>\n",
       "     </g>\n",
       "    </g>\n",
       "    <g id=\"ytick_3\">\n",
       "     <g id=\"line2d_11\">\n",
       "      <g>\n",
       "       <use style=\"stroke:#000000;stroke-width:0.8;\" x=\"90\" xlink:href=\"#mba8e78ca68\" y=\"173.753435\"/>\n",
       "      </g>\n",
       "     </g>\n",
       "     <g id=\"text_12\">\n",
       "      <!-- 0.10 -->\n",
       "      <g transform=\"translate(60.734375 177.552653)scale(0.1 -0.1)\">\n",
       "       <use xlink:href=\"#DejaVuSans-30\"/>\n",
       "       <use x=\"63.623047\" xlink:href=\"#DejaVuSans-2e\"/>\n",
       "       <use x=\"95.410156\" xlink:href=\"#DejaVuSans-31\"/>\n",
       "       <use x=\"159.033203\" xlink:href=\"#DejaVuSans-30\"/>\n",
       "      </g>\n",
       "     </g>\n",
       "    </g>\n",
       "    <g id=\"ytick_4\">\n",
       "     <g id=\"line2d_12\">\n",
       "      <g>\n",
       "       <use style=\"stroke:#000000;stroke-width:0.8;\" x=\"90\" xlink:href=\"#mba8e78ca68\" y=\"134.630152\"/>\n",
       "      </g>\n",
       "     </g>\n",
       "     <g id=\"text_13\">\n",
       "      <!-- 0.15 -->\n",
       "      <g transform=\"translate(60.734375 138.429371)scale(0.1 -0.1)\">\n",
       "       <use xlink:href=\"#DejaVuSans-30\"/>\n",
       "       <use x=\"63.623047\" xlink:href=\"#DejaVuSans-2e\"/>\n",
       "       <use x=\"95.410156\" xlink:href=\"#DejaVuSans-31\"/>\n",
       "       <use x=\"159.033203\" xlink:href=\"#DejaVuSans-35\"/>\n",
       "      </g>\n",
       "     </g>\n",
       "    </g>\n",
       "    <g id=\"ytick_5\">\n",
       "     <g id=\"line2d_13\">\n",
       "      <g>\n",
       "       <use style=\"stroke:#000000;stroke-width:0.8;\" x=\"90\" xlink:href=\"#mba8e78ca68\" y=\"95.506869\"/>\n",
       "      </g>\n",
       "     </g>\n",
       "     <g id=\"text_14\">\n",
       "      <!-- 0.20 -->\n",
       "      <g transform=\"translate(60.734375 99.306088)scale(0.1 -0.1)\">\n",
       "       <use xlink:href=\"#DejaVuSans-30\"/>\n",
       "       <use x=\"63.623047\" xlink:href=\"#DejaVuSans-2e\"/>\n",
       "       <use x=\"95.410156\" xlink:href=\"#DejaVuSans-32\"/>\n",
       "       <use x=\"159.033203\" xlink:href=\"#DejaVuSans-30\"/>\n",
       "      </g>\n",
       "     </g>\n",
       "    </g>\n",
       "    <g id=\"ytick_6\">\n",
       "     <g id=\"line2d_14\">\n",
       "      <g>\n",
       "       <use style=\"stroke:#000000;stroke-width:0.8;\" x=\"90\" xlink:href=\"#mba8e78ca68\" y=\"56.383586\"/>\n",
       "      </g>\n",
       "     </g>\n",
       "     <g id=\"text_15\">\n",
       "      <!-- 0.25 -->\n",
       "      <g transform=\"translate(60.734375 60.182805)scale(0.1 -0.1)\">\n",
       "       <use xlink:href=\"#DejaVuSans-30\"/>\n",
       "       <use x=\"63.623047\" xlink:href=\"#DejaVuSans-2e\"/>\n",
       "       <use x=\"95.410156\" xlink:href=\"#DejaVuSans-32\"/>\n",
       "       <use x=\"159.033203\" xlink:href=\"#DejaVuSans-35\"/>\n",
       "      </g>\n",
       "     </g>\n",
       "    </g>\n",
       "   </g>\n",
       "   <g id=\"line2d_15\">\n",
       "    <path clip-path=\"url(#p9257400460)\" d=\"M 101.528926 44.790843  L 101.597144 44.790843  L 103.643699 53.155077  L 105.212724 58.483232  L 106.78175 63.012515  L 108.487212 67.254598  L 114.081129 79.654329  L 117.62849 87.901081  L 120.289012 94.633559  L 124.245684 105.416995  L 126.906206 113.236421  L 138.980879 149.922765  L 141.982493 158.168415  L 147.371754 171.41754  L 150.71446 178.667683  L 153.579637 184.342999  L 158.286713 192.661801  L 162.175167 198.675101  L 163.744193 200.911275  L 167.291555 205.57855  L 169.952076 208.757699  L 174.045186 213.162894  L 177.592547 216.560996  L 183.118245 221.17322  L 185.574111 222.9867  L 191.168028 226.640895  L 194.783608 228.675843  L 198.808499 230.696757  L 203.924886 232.947013  L 211.087828 235.60492  L 216.272434 237.233586  L 220.297325 238.357197  L 228.6882 240.361515  L 235.987579 241.801502  L 244.787765 243.242567  L 258.840775 245.03402  L 270.574356 246.17756  L 280.80713 246.981708  L 296.497384 247.954832  L 312.324075 248.703129  L 332.107438 249.407697  L 332.107438 249.407697  \" style=\"fill:none;stroke:#1f77b4;stroke-linecap:square;stroke-width:1.5;\"/>\n",
       "   </g>\n",
       "   <g id=\"patch_3\">\n",
       "    <path d=\"M 90 252  L 90 34.56  \" style=\"fill:none;stroke:#000000;stroke-linecap:square;stroke-linejoin:miter;stroke-width:0.8;\"/>\n",
       "   </g>\n",
       "   <g id=\"patch_4\">\n",
       "    <path d=\"M 343.636364 252  L 343.636364 34.56  \" style=\"fill:none;stroke:#000000;stroke-linecap:square;stroke-linejoin:miter;stroke-width:0.8;\"/>\n",
       "   </g>\n",
       "   <g id=\"patch_5\">\n",
       "    <path d=\"M 90 252  L 343.636364 252  \" style=\"fill:none;stroke:#000000;stroke-linecap:square;stroke-linejoin:miter;stroke-width:0.8;\"/>\n",
       "   </g>\n",
       "   <g id=\"patch_6\">\n",
       "    <path d=\"M 90 34.56  L 343.636364 34.56  \" style=\"fill:none;stroke:#000000;stroke-linecap:square;stroke-linejoin:miter;stroke-width:0.8;\"/>\n",
       "   </g>\n",
       "   <g id=\"text_16\">\n",
       "    <!-- XOR Network: Error -->\n",
       "    <defs>\n",
       "     <path d=\"M 6.296875 72.90625  L 16.890625 72.90625  L 35.015625 45.796875  L 53.21875 72.90625  L 63.8125 72.90625  L 40.375 37.890625  L 65.375 0  L 54.78125 0  L 34.28125 31  L 13.625 0  L 2.984375 0  L 29 38.921875  z \" id=\"DejaVuSans-58\"/>\n",
       "     <path d=\"M 39.40625 66.21875  Q 28.65625 66.21875 22.328125 58.203125  Q 16.015625 50.203125 16.015625 36.375  Q 16.015625 22.609375 22.328125 14.59375  Q 28.65625 6.59375 39.40625 6.59375  Q 50.140625 6.59375 56.421875 14.59375  Q 62.703125 22.609375 62.703125 36.375  Q 62.703125 50.203125 56.421875 58.203125  Q 50.140625 66.21875 39.40625 66.21875  z M 39.40625 74.21875  Q 54.734375 74.21875 63.90625 63.9375  Q 73.09375 53.65625 73.09375 36.375  Q 73.09375 19.140625 63.90625 8.859375  Q 54.734375 -1.421875 39.40625 -1.421875  Q 24.03125 -1.421875 14.8125 8.828125  Q 5.609375 19.09375 5.609375 36.375  Q 5.609375 53.65625 14.8125 63.9375  Q 24.03125 74.21875 39.40625 74.21875  z \" id=\"DejaVuSans-4f\"/>\n",
       "     <path d=\"M 44.390625 34.1875  Q 47.5625 33.109375 50.5625 29.59375  Q 53.5625 26.078125 56.59375 19.921875  L 66.609375 0  L 56 0  L 46.6875 18.703125  Q 43.0625 26.03125 39.671875 28.421875  Q 36.28125 30.8125 30.421875 30.8125  L 19.671875 30.8125  L 19.671875 0  L 9.8125 0  L 9.8125 72.90625  L 32.078125 72.90625  Q 44.578125 72.90625 50.734375 67.671875  Q 56.890625 62.453125 56.890625 51.90625  Q 56.890625 45.015625 53.6875 40.46875  Q 50.484375 35.9375 44.390625 34.1875  z M 19.671875 64.796875  L 19.671875 38.921875  L 32.078125 38.921875  Q 39.203125 38.921875 42.84375 42.21875  Q 46.484375 45.515625 46.484375 51.90625  Q 46.484375 58.296875 42.84375 61.546875  Q 39.203125 64.796875 32.078125 64.796875  z \" id=\"DejaVuSans-52\"/>\n",
       "     <path id=\"DejaVuSans-20\"/>\n",
       "     <path d=\"M 9.8125 72.90625  L 23.09375 72.90625  L 55.421875 11.921875  L 55.421875 72.90625  L 64.984375 72.90625  L 64.984375 0  L 51.703125 0  L 19.390625 60.984375  L 19.390625 0  L 9.8125 0  z \" id=\"DejaVuSans-4e\"/>\n",
       "     <path d=\"M 56.203125 29.59375  L 56.203125 25.203125  L 14.890625 25.203125  Q 15.484375 15.921875 20.484375 11.0625  Q 25.484375 6.203125 34.421875 6.203125  Q 39.59375 6.203125 44.453125 7.46875  Q 49.3125 8.734375 54.109375 11.28125  L 54.109375 2.78125  Q 49.265625 0.734375 44.1875 -0.34375  Q 39.109375 -1.421875 33.890625 -1.421875  Q 20.796875 -1.421875 13.15625 6.1875  Q 5.515625 13.8125 5.515625 26.8125  Q 5.515625 40.234375 12.765625 48.109375  Q 20.015625 56 32.328125 56  Q 43.359375 56 49.78125 48.890625  Q 56.203125 41.796875 56.203125 29.59375  z M 47.21875 32.234375  Q 47.125 39.59375 43.09375 43.984375  Q 39.0625 48.390625 32.421875 48.390625  Q 24.90625 48.390625 20.390625 44.140625  Q 15.875 39.890625 15.1875 32.171875  z \" id=\"DejaVuSans-65\"/>\n",
       "     <path d=\"M 18.3125 70.21875  L 18.3125 54.6875  L 36.8125 54.6875  L 36.8125 47.703125  L 18.3125 47.703125  L 18.3125 18.015625  Q 18.3125 11.328125 20.140625 9.421875  Q 21.96875 7.515625 27.59375 7.515625  L 36.8125 7.515625  L 36.8125 0  L 27.59375 0  Q 17.1875 0 13.234375 3.875  Q 9.28125 7.765625 9.28125 18.015625  L 9.28125 47.703125  L 2.6875 47.703125  L 2.6875 54.6875  L 9.28125 54.6875  L 9.28125 70.21875  z \" id=\"DejaVuSans-74\"/>\n",
       "     <path d=\"M 4.203125 54.6875  L 13.1875 54.6875  L 24.421875 12.015625  L 35.59375 54.6875  L 46.1875 54.6875  L 57.421875 12.015625  L 68.609375 54.6875  L 77.59375 54.6875  L 63.28125 0  L 52.6875 0  L 40.921875 44.828125  L 29.109375 0  L 18.5 0  z \" id=\"DejaVuSans-77\"/>\n",
       "     <path d=\"M 41.109375 46.296875  Q 39.59375 47.171875 37.8125 47.578125  Q 36.03125 48 33.890625 48  Q 26.265625 48 22.1875 43.046875  Q 18.109375 38.09375 18.109375 28.8125  L 18.109375 0  L 9.078125 0  L 9.078125 54.6875  L 18.109375 54.6875  L 18.109375 46.1875  Q 20.953125 51.171875 25.484375 53.578125  Q 30.03125 56 36.53125 56  Q 37.453125 56 38.578125 55.875  Q 39.703125 55.765625 41.0625 55.515625  z \" id=\"DejaVuSans-72\"/>\n",
       "     <path d=\"M 9.078125 75.984375  L 18.109375 75.984375  L 18.109375 31.109375  L 44.921875 54.6875  L 56.390625 54.6875  L 27.390625 29.109375  L 57.625 0  L 45.90625 0  L 18.109375 26.703125  L 18.109375 0  L 9.078125 0  z \" id=\"DejaVuSans-6b\"/>\n",
       "     <path d=\"M 11.71875 12.40625  L 22.015625 12.40625  L 22.015625 0  L 11.71875 0  z M 11.71875 51.703125  L 22.015625 51.703125  L 22.015625 39.3125  L 11.71875 39.3125  z \" id=\"DejaVuSans-3a\"/>\n",
       "    </defs>\n",
       "    <g transform=\"translate(158.075369 28.56)scale(0.12 -0.12)\">\n",
       "     <use xlink:href=\"#DejaVuSans-58\"/>\n",
       "     <use x=\"68.412109\" xlink:href=\"#DejaVuSans-4f\"/>\n",
       "     <use x=\"147.123047\" xlink:href=\"#DejaVuSans-52\"/>\n",
       "     <use x=\"216.605469\" xlink:href=\"#DejaVuSans-20\"/>\n",
       "     <use x=\"248.392578\" xlink:href=\"#DejaVuSans-4e\"/>\n",
       "     <use x=\"323.197266\" xlink:href=\"#DejaVuSans-65\"/>\n",
       "     <use x=\"384.720703\" xlink:href=\"#DejaVuSans-74\"/>\n",
       "     <use x=\"423.929688\" xlink:href=\"#DejaVuSans-77\"/>\n",
       "     <use x=\"505.716797\" xlink:href=\"#DejaVuSans-6f\"/>\n",
       "     <use x=\"566.898438\" xlink:href=\"#DejaVuSans-72\"/>\n",
       "     <use x=\"608.011719\" xlink:href=\"#DejaVuSans-6b\"/>\n",
       "     <use x=\"665.921875\" xlink:href=\"#DejaVuSans-3a\"/>\n",
       "     <use x=\"699.613281\" xlink:href=\"#DejaVuSans-20\"/>\n",
       "     <use x=\"731.400391\" xlink:href=\"#DejaVuSans-45\"/>\n",
       "     <use x=\"794.583984\" xlink:href=\"#DejaVuSans-72\"/>\n",
       "     <use x=\"835.681641\" xlink:href=\"#DejaVuSans-72\"/>\n",
       "     <use x=\"876.763672\" xlink:href=\"#DejaVuSans-6f\"/>\n",
       "     <use x=\"937.945312\" xlink:href=\"#DejaVuSans-72\"/>\n",
       "    </g>\n",
       "   </g>\n",
       "   <g id=\"legend_1\">\n",
       "    <g id=\"patch_7\">\n",
       "     <path d=\"M 245.270739 57.238125  L 336.636364 57.238125  Q 338.636364 57.238125 338.636364 55.238125  L 338.636364 41.56  Q 338.636364 39.56 336.636364 39.56  L 245.270739 39.56  Q 243.270739 39.56 243.270739 41.56  L 243.270739 55.238125  Q 243.270739 57.238125 245.270739 57.238125  z \" style=\"fill:#ffffff;opacity:0.8;stroke:#cccccc;stroke-linejoin:miter;\"/>\n",
       "    </g>\n",
       "    <g id=\"line2d_16\">\n",
       "     <path d=\"M 247.270739 47.658437  L 267.270739 47.658437  \" style=\"fill:none;stroke:#1f77b4;stroke-linecap:square;stroke-width:1.5;\"/>\n",
       "    </g>\n",
       "    <g id=\"line2d_17\"/>\n",
       "    <g id=\"text_17\">\n",
       "     <!-- Training set -->\n",
       "     <defs>\n",
       "      <path d=\"M -0.296875 72.90625  L 61.375 72.90625  L 61.375 64.59375  L 35.5 64.59375  L 35.5 0  L 25.59375 0  L 25.59375 64.59375  L -0.296875 64.59375  z \" id=\"DejaVuSans-54\"/>\n",
       "      <path d=\"M 34.28125 27.484375  Q 23.390625 27.484375 19.1875 25  Q 14.984375 22.515625 14.984375 16.5  Q 14.984375 11.71875 18.140625 8.90625  Q 21.296875 6.109375 26.703125 6.109375  Q 34.1875 6.109375 38.703125 11.40625  Q 43.21875 16.703125 43.21875 25.484375  L 43.21875 27.484375  z M 52.203125 31.203125  L 52.203125 0  L 43.21875 0  L 43.21875 8.296875  Q 40.140625 3.328125 35.546875 0.953125  Q 30.953125 -1.421875 24.3125 -1.421875  Q 15.921875 -1.421875 10.953125 3.296875  Q 6 8.015625 6 15.921875  Q 6 25.140625 12.171875 29.828125  Q 18.359375 34.515625 30.609375 34.515625  L 43.21875 34.515625  L 43.21875 35.40625  Q 43.21875 41.609375 39.140625 45  Q 35.0625 48.390625 27.6875 48.390625  Q 23 48.390625 18.546875 47.265625  Q 14.109375 46.140625 10.015625 43.890625  L 10.015625 52.203125  Q 14.9375 54.109375 19.578125 55.046875  Q 24.21875 56 28.609375 56  Q 40.484375 56 46.34375 49.84375  Q 52.203125 43.703125 52.203125 31.203125  z \" id=\"DejaVuSans-61\"/>\n",
       "      <path d=\"M 9.421875 54.6875  L 18.40625 54.6875  L 18.40625 0  L 9.421875 0  z M 9.421875 75.984375  L 18.40625 75.984375  L 18.40625 64.59375  L 9.421875 64.59375  z \" id=\"DejaVuSans-69\"/>\n",
       "      <path d=\"M 54.890625 33.015625  L 54.890625 0  L 45.90625 0  L 45.90625 32.71875  Q 45.90625 40.484375 42.875 44.328125  Q 39.84375 48.1875 33.796875 48.1875  Q 26.515625 48.1875 22.3125 43.546875  Q 18.109375 38.921875 18.109375 30.90625  L 18.109375 0  L 9.078125 0  L 9.078125 54.6875  L 18.109375 54.6875  L 18.109375 46.1875  Q 21.34375 51.125 25.703125 53.5625  Q 30.078125 56 35.796875 56  Q 45.21875 56 50.046875 50.171875  Q 54.890625 44.34375 54.890625 33.015625  z \" id=\"DejaVuSans-6e\"/>\n",
       "      <path d=\"M 45.40625 27.984375  Q 45.40625 37.75 41.375 43.109375  Q 37.359375 48.484375 30.078125 48.484375  Q 22.859375 48.484375 18.828125 43.109375  Q 14.796875 37.75 14.796875 27.984375  Q 14.796875 18.265625 18.828125 12.890625  Q 22.859375 7.515625 30.078125 7.515625  Q 37.359375 7.515625 41.375 12.890625  Q 45.40625 18.265625 45.40625 27.984375  z M 54.390625 6.78125  Q 54.390625 -7.171875 48.1875 -13.984375  Q 42 -20.796875 29.203125 -20.796875  Q 24.46875 -20.796875 20.265625 -20.09375  Q 16.0625 -19.390625 12.109375 -17.921875  L 12.109375 -9.1875  Q 16.0625 -11.328125 19.921875 -12.34375  Q 23.78125 -13.375 27.78125 -13.375  Q 36.625 -13.375 41.015625 -8.765625  Q 45.40625 -4.15625 45.40625 5.171875  L 45.40625 9.625  Q 42.625 4.78125 38.28125 2.390625  Q 33.9375 0 27.875 0  Q 17.828125 0 11.671875 7.65625  Q 5.515625 15.328125 5.515625 27.984375  Q 5.515625 40.671875 11.671875 48.328125  Q 17.828125 56 27.875 56  Q 33.9375 56 38.28125 53.609375  Q 42.625 51.21875 45.40625 46.390625  L 45.40625 54.6875  L 54.390625 54.6875  z \" id=\"DejaVuSans-67\"/>\n",
       "      <path d=\"M 44.28125 53.078125  L 44.28125 44.578125  Q 40.484375 46.53125 36.375 47.5  Q 32.28125 48.484375 27.875 48.484375  Q 21.1875 48.484375 17.84375 46.4375  Q 14.5 44.390625 14.5 40.28125  Q 14.5 37.15625 16.890625 35.375  Q 19.28125 33.59375 26.515625 31.984375  L 29.59375 31.296875  Q 39.15625 29.25 43.1875 25.515625  Q 47.21875 21.78125 47.21875 15.09375  Q 47.21875 7.46875 41.1875 3.015625  Q 35.15625 -1.421875 24.609375 -1.421875  Q 20.21875 -1.421875 15.453125 -0.5625  Q 10.6875 0.296875 5.421875 2  L 5.421875 11.28125  Q 10.40625 8.6875 15.234375 7.390625  Q 20.0625 6.109375 24.8125 6.109375  Q 31.15625 6.109375 34.5625 8.28125  Q 37.984375 10.453125 37.984375 14.40625  Q 37.984375 18.0625 35.515625 20.015625  Q 33.0625 21.96875 24.703125 23.78125  L 21.578125 24.515625  Q 13.234375 26.265625 9.515625 29.90625  Q 5.8125 33.546875 5.8125 39.890625  Q 5.8125 47.609375 11.28125 51.796875  Q 16.75 56 26.8125 56  Q 31.78125 56 36.171875 55.265625  Q 40.578125 54.546875 44.28125 53.078125  z \" id=\"DejaVuSans-73\"/>\n",
       "     </defs>\n",
       "     <g transform=\"translate(275.270739 51.158437)scale(0.1 -0.1)\">\n",
       "      <use xlink:href=\"#DejaVuSans-54\"/>\n",
       "      <use x=\"60.865234\" xlink:href=\"#DejaVuSans-72\"/>\n",
       "      <use x=\"101.978516\" xlink:href=\"#DejaVuSans-61\"/>\n",
       "      <use x=\"163.257812\" xlink:href=\"#DejaVuSans-69\"/>\n",
       "      <use x=\"191.041016\" xlink:href=\"#DejaVuSans-6e\"/>\n",
       "      <use x=\"254.419922\" xlink:href=\"#DejaVuSans-69\"/>\n",
       "      <use x=\"282.203125\" xlink:href=\"#DejaVuSans-6e\"/>\n",
       "      <use x=\"345.582031\" xlink:href=\"#DejaVuSans-67\"/>\n",
       "      <use x=\"409.058594\" xlink:href=\"#DejaVuSans-20\"/>\n",
       "      <use x=\"440.845703\" xlink:href=\"#DejaVuSans-73\"/>\n",
       "      <use x=\"492.945312\" xlink:href=\"#DejaVuSans-65\"/>\n",
       "      <use x=\"554.46875\" xlink:href=\"#DejaVuSans-74\"/>\n",
       "     </g>\n",
       "    </g>\n",
       "   </g>\n",
       "  </g>\n",
       "  <g id=\"axes_2\">\n",
       "   <g id=\"patch_8\">\n",
       "    <path d=\"M 394.363636 252  L 648 252  L 648 34.56  L 394.363636 34.56  z \" style=\"fill:#ffffff;\"/>\n",
       "   </g>\n",
       "   <g id=\"matplotlib.axis_3\">\n",
       "    <g id=\"xtick_9\">\n",
       "     <g id=\"line2d_18\">\n",
       "      <g>\n",
       "       <use style=\"stroke:#000000;stroke-width:0.8;\" x=\"405.892562\" xlink:href=\"#m7ca90a3e0b\" y=\"252\"/>\n",
       "      </g>\n",
       "     </g>\n",
       "     <g id=\"text_18\">\n",
       "      <!-- 0 -->\n",
       "      <g transform=\"translate(402.711312 266.598437)scale(0.1 -0.1)\">\n",
       "       <use xlink:href=\"#DejaVuSans-30\"/>\n",
       "      </g>\n",
       "     </g>\n",
       "    </g>\n",
       "    <g id=\"xtick_10\">\n",
       "     <g id=\"line2d_19\">\n",
       "      <g>\n",
       "       <use style=\"stroke:#000000;stroke-width:0.8;\" x=\"440.001809\" xlink:href=\"#m7ca90a3e0b\" y=\"252\"/>\n",
       "      </g>\n",
       "     </g>\n",
       "     <g id=\"text_19\">\n",
       "      <!-- 500 -->\n",
       "      <g transform=\"translate(430.458059 266.598437)scale(0.1 -0.1)\">\n",
       "       <use xlink:href=\"#DejaVuSans-35\"/>\n",
       "       <use x=\"63.623047\" xlink:href=\"#DejaVuSans-30\"/>\n",
       "       <use x=\"127.246094\" xlink:href=\"#DejaVuSans-30\"/>\n",
       "      </g>\n",
       "     </g>\n",
       "    </g>\n",
       "    <g id=\"xtick_11\">\n",
       "     <g id=\"line2d_20\">\n",
       "      <g>\n",
       "       <use style=\"stroke:#000000;stroke-width:0.8;\" x=\"474.111057\" xlink:href=\"#m7ca90a3e0b\" y=\"252\"/>\n",
       "      </g>\n",
       "     </g>\n",
       "     <g id=\"text_20\">\n",
       "      <!-- 1000 -->\n",
       "      <g transform=\"translate(461.386057 266.598437)scale(0.1 -0.1)\">\n",
       "       <use xlink:href=\"#DejaVuSans-31\"/>\n",
       "       <use x=\"63.623047\" xlink:href=\"#DejaVuSans-30\"/>\n",
       "       <use x=\"127.246094\" xlink:href=\"#DejaVuSans-30\"/>\n",
       "       <use x=\"190.869141\" xlink:href=\"#DejaVuSans-30\"/>\n",
       "      </g>\n",
       "     </g>\n",
       "    </g>\n",
       "    <g id=\"xtick_12\">\n",
       "     <g id=\"line2d_21\">\n",
       "      <g>\n",
       "       <use style=\"stroke:#000000;stroke-width:0.8;\" x=\"508.220304\" xlink:href=\"#m7ca90a3e0b\" y=\"252\"/>\n",
       "      </g>\n",
       "     </g>\n",
       "     <g id=\"text_21\">\n",
       "      <!-- 1500 -->\n",
       "      <g transform=\"translate(495.495304 266.598437)scale(0.1 -0.1)\">\n",
       "       <use xlink:href=\"#DejaVuSans-31\"/>\n",
       "       <use x=\"63.623047\" xlink:href=\"#DejaVuSans-35\"/>\n",
       "       <use x=\"127.246094\" xlink:href=\"#DejaVuSans-30\"/>\n",
       "       <use x=\"190.869141\" xlink:href=\"#DejaVuSans-30\"/>\n",
       "      </g>\n",
       "     </g>\n",
       "    </g>\n",
       "    <g id=\"xtick_13\">\n",
       "     <g id=\"line2d_22\">\n",
       "      <g>\n",
       "       <use style=\"stroke:#000000;stroke-width:0.8;\" x=\"542.329552\" xlink:href=\"#m7ca90a3e0b\" y=\"252\"/>\n",
       "      </g>\n",
       "     </g>\n",
       "     <g id=\"text_22\">\n",
       "      <!-- 2000 -->\n",
       "      <g transform=\"translate(529.604552 266.598437)scale(0.1 -0.1)\">\n",
       "       <use xlink:href=\"#DejaVuSans-32\"/>\n",
       "       <use x=\"63.623047\" xlink:href=\"#DejaVuSans-30\"/>\n",
       "       <use x=\"127.246094\" xlink:href=\"#DejaVuSans-30\"/>\n",
       "       <use x=\"190.869141\" xlink:href=\"#DejaVuSans-30\"/>\n",
       "      </g>\n",
       "     </g>\n",
       "    </g>\n",
       "    <g id=\"xtick_14\">\n",
       "     <g id=\"line2d_23\">\n",
       "      <g>\n",
       "       <use style=\"stroke:#000000;stroke-width:0.8;\" x=\"576.438799\" xlink:href=\"#m7ca90a3e0b\" y=\"252\"/>\n",
       "      </g>\n",
       "     </g>\n",
       "     <g id=\"text_23\">\n",
       "      <!-- 2500 -->\n",
       "      <g transform=\"translate(563.713799 266.598437)scale(0.1 -0.1)\">\n",
       "       <use xlink:href=\"#DejaVuSans-32\"/>\n",
       "       <use x=\"63.623047\" xlink:href=\"#DejaVuSans-35\"/>\n",
       "       <use x=\"127.246094\" xlink:href=\"#DejaVuSans-30\"/>\n",
       "       <use x=\"190.869141\" xlink:href=\"#DejaVuSans-30\"/>\n",
       "      </g>\n",
       "     </g>\n",
       "    </g>\n",
       "    <g id=\"xtick_15\">\n",
       "     <g id=\"line2d_24\">\n",
       "      <g>\n",
       "       <use style=\"stroke:#000000;stroke-width:0.8;\" x=\"610.548046\" xlink:href=\"#m7ca90a3e0b\" y=\"252\"/>\n",
       "      </g>\n",
       "     </g>\n",
       "     <g id=\"text_24\">\n",
       "      <!-- 3000 -->\n",
       "      <g transform=\"translate(597.823046 266.598437)scale(0.1 -0.1)\">\n",
       "       <use xlink:href=\"#DejaVuSans-33\"/>\n",
       "       <use x=\"63.623047\" xlink:href=\"#DejaVuSans-30\"/>\n",
       "       <use x=\"127.246094\" xlink:href=\"#DejaVuSans-30\"/>\n",
       "       <use x=\"190.869141\" xlink:href=\"#DejaVuSans-30\"/>\n",
       "      </g>\n",
       "     </g>\n",
       "    </g>\n",
       "    <g id=\"xtick_16\">\n",
       "     <g id=\"line2d_25\">\n",
       "      <g>\n",
       "       <use style=\"stroke:#000000;stroke-width:0.8;\" x=\"644.657294\" xlink:href=\"#m7ca90a3e0b\" y=\"252\"/>\n",
       "      </g>\n",
       "     </g>\n",
       "     <g id=\"text_25\">\n",
       "      <!-- 3500 -->\n",
       "      <g transform=\"translate(631.932294 266.598437)scale(0.1 -0.1)\">\n",
       "       <use xlink:href=\"#DejaVuSans-33\"/>\n",
       "       <use x=\"63.623047\" xlink:href=\"#DejaVuSans-35\"/>\n",
       "       <use x=\"127.246094\" xlink:href=\"#DejaVuSans-30\"/>\n",
       "       <use x=\"190.869141\" xlink:href=\"#DejaVuSans-30\"/>\n",
       "      </g>\n",
       "     </g>\n",
       "    </g>\n",
       "    <g id=\"text_26\">\n",
       "     <!-- Epoch -->\n",
       "     <g transform=\"translate(505.870881 280.276563)scale(0.1 -0.1)\">\n",
       "      <use xlink:href=\"#DejaVuSans-45\"/>\n",
       "      <use x=\"63.183594\" xlink:href=\"#DejaVuSans-70\"/>\n",
       "      <use x=\"126.660156\" xlink:href=\"#DejaVuSans-6f\"/>\n",
       "      <use x=\"187.841797\" xlink:href=\"#DejaVuSans-63\"/>\n",
       "      <use x=\"242.822266\" xlink:href=\"#DejaVuSans-68\"/>\n",
       "     </g>\n",
       "    </g>\n",
       "   </g>\n",
       "   <g id=\"matplotlib.axis_4\">\n",
       "    <g id=\"ytick_7\">\n",
       "     <g id=\"line2d_26\">\n",
       "      <g>\n",
       "       <use style=\"stroke:#000000;stroke-width:0.8;\" x=\"394.363636\" xlink:href=\"#mba8e78ca68\" y=\"233.88\"/>\n",
       "      </g>\n",
       "     </g>\n",
       "     <g id=\"text_27\">\n",
       "      <!-- 0.0 -->\n",
       "      <g transform=\"translate(371.460511 237.679219)scale(0.1 -0.1)\">\n",
       "       <use xlink:href=\"#DejaVuSans-30\"/>\n",
       "       <use x=\"63.623047\" xlink:href=\"#DejaVuSans-2e\"/>\n",
       "       <use x=\"95.410156\" xlink:href=\"#DejaVuSans-30\"/>\n",
       "      </g>\n",
       "     </g>\n",
       "    </g>\n",
       "    <g id=\"ytick_8\">\n",
       "     <g id=\"line2d_27\">\n",
       "      <g>\n",
       "       <use style=\"stroke:#000000;stroke-width:0.8;\" x=\"394.363636\" xlink:href=\"#mba8e78ca68\" y=\"197.64\"/>\n",
       "      </g>\n",
       "     </g>\n",
       "     <g id=\"text_28\">\n",
       "      <!-- 0.2 -->\n",
       "      <g transform=\"translate(371.460511 201.439219)scale(0.1 -0.1)\">\n",
       "       <use xlink:href=\"#DejaVuSans-30\"/>\n",
       "       <use x=\"63.623047\" xlink:href=\"#DejaVuSans-2e\"/>\n",
       "       <use x=\"95.410156\" xlink:href=\"#DejaVuSans-32\"/>\n",
       "      </g>\n",
       "     </g>\n",
       "    </g>\n",
       "    <g id=\"ytick_9\">\n",
       "     <g id=\"line2d_28\">\n",
       "      <g>\n",
       "       <use style=\"stroke:#000000;stroke-width:0.8;\" x=\"394.363636\" xlink:href=\"#mba8e78ca68\" y=\"161.4\"/>\n",
       "      </g>\n",
       "     </g>\n",
       "     <g id=\"text_29\">\n",
       "      <!-- 0.4 -->\n",
       "      <defs>\n",
       "       <path d=\"M 37.796875 64.3125  L 12.890625 25.390625  L 37.796875 25.390625  z M 35.203125 72.90625  L 47.609375 72.90625  L 47.609375 25.390625  L 58.015625 25.390625  L 58.015625 17.1875  L 47.609375 17.1875  L 47.609375 0  L 37.796875 0  L 37.796875 17.1875  L 4.890625 17.1875  L 4.890625 26.703125  z \" id=\"DejaVuSans-34\"/>\n",
       "      </defs>\n",
       "      <g transform=\"translate(371.460511 165.199219)scale(0.1 -0.1)\">\n",
       "       <use xlink:href=\"#DejaVuSans-30\"/>\n",
       "       <use x=\"63.623047\" xlink:href=\"#DejaVuSans-2e\"/>\n",
       "       <use x=\"95.410156\" xlink:href=\"#DejaVuSans-34\"/>\n",
       "      </g>\n",
       "     </g>\n",
       "    </g>\n",
       "    <g id=\"ytick_10\">\n",
       "     <g id=\"line2d_29\">\n",
       "      <g>\n",
       "       <use style=\"stroke:#000000;stroke-width:0.8;\" x=\"394.363636\" xlink:href=\"#mba8e78ca68\" y=\"125.16\"/>\n",
       "      </g>\n",
       "     </g>\n",
       "     <g id=\"text_30\">\n",
       "      <!-- 0.6 -->\n",
       "      <defs>\n",
       "       <path d=\"M 33.015625 40.375  Q 26.375 40.375 22.484375 35.828125  Q 18.609375 31.296875 18.609375 23.390625  Q 18.609375 15.53125 22.484375 10.953125  Q 26.375 6.390625 33.015625 6.390625  Q 39.65625 6.390625 43.53125 10.953125  Q 47.40625 15.53125 47.40625 23.390625  Q 47.40625 31.296875 43.53125 35.828125  Q 39.65625 40.375 33.015625 40.375  z M 52.59375 71.296875  L 52.59375 62.3125  Q 48.875 64.0625 45.09375 64.984375  Q 41.3125 65.921875 37.59375 65.921875  Q 27.828125 65.921875 22.671875 59.328125  Q 17.53125 52.734375 16.796875 39.40625  Q 19.671875 43.65625 24.015625 45.921875  Q 28.375 48.1875 33.59375 48.1875  Q 44.578125 48.1875 50.953125 41.515625  Q 57.328125 34.859375 57.328125 23.390625  Q 57.328125 12.15625 50.6875 5.359375  Q 44.046875 -1.421875 33.015625 -1.421875  Q 20.359375 -1.421875 13.671875 8.265625  Q 6.984375 17.96875 6.984375 36.375  Q 6.984375 53.65625 15.1875 63.9375  Q 23.390625 74.21875 37.203125 74.21875  Q 40.921875 74.21875 44.703125 73.484375  Q 48.484375 72.75 52.59375 71.296875  z \" id=\"DejaVuSans-36\"/>\n",
       "      </defs>\n",
       "      <g transform=\"translate(371.460511 128.959219)scale(0.1 -0.1)\">\n",
       "       <use xlink:href=\"#DejaVuSans-30\"/>\n",
       "       <use x=\"63.623047\" xlink:href=\"#DejaVuSans-2e\"/>\n",
       "       <use x=\"95.410156\" xlink:href=\"#DejaVuSans-36\"/>\n",
       "      </g>\n",
       "     </g>\n",
       "    </g>\n",
       "    <g id=\"ytick_11\">\n",
       "     <g id=\"line2d_30\">\n",
       "      <g>\n",
       "       <use style=\"stroke:#000000;stroke-width:0.8;\" x=\"394.363636\" xlink:href=\"#mba8e78ca68\" y=\"88.92\"/>\n",
       "      </g>\n",
       "     </g>\n",
       "     <g id=\"text_31\">\n",
       "      <!-- 0.8 -->\n",
       "      <defs>\n",
       "       <path d=\"M 31.78125 34.625  Q 24.75 34.625 20.71875 30.859375  Q 16.703125 27.09375 16.703125 20.515625  Q 16.703125 13.921875 20.71875 10.15625  Q 24.75 6.390625 31.78125 6.390625  Q 38.8125 6.390625 42.859375 10.171875  Q 46.921875 13.96875 46.921875 20.515625  Q 46.921875 27.09375 42.890625 30.859375  Q 38.875 34.625 31.78125 34.625  z M 21.921875 38.8125  Q 15.578125 40.375 12.03125 44.71875  Q 8.5 49.078125 8.5 55.328125  Q 8.5 64.0625 14.71875 69.140625  Q 20.953125 74.21875 31.78125 74.21875  Q 42.671875 74.21875 48.875 69.140625  Q 55.078125 64.0625 55.078125 55.328125  Q 55.078125 49.078125 51.53125 44.71875  Q 48 40.375 41.703125 38.8125  Q 48.828125 37.15625 52.796875 32.3125  Q 56.78125 27.484375 56.78125 20.515625  Q 56.78125 9.90625 50.3125 4.234375  Q 43.84375 -1.421875 31.78125 -1.421875  Q 19.734375 -1.421875 13.25 4.234375  Q 6.78125 9.90625 6.78125 20.515625  Q 6.78125 27.484375 10.78125 32.3125  Q 14.796875 37.15625 21.921875 38.8125  z M 18.3125 54.390625  Q 18.3125 48.734375 21.84375 45.5625  Q 25.390625 42.390625 31.78125 42.390625  Q 38.140625 42.390625 41.71875 45.5625  Q 45.3125 48.734375 45.3125 54.390625  Q 45.3125 60.0625 41.71875 63.234375  Q 38.140625 66.40625 31.78125 66.40625  Q 25.390625 66.40625 21.84375 63.234375  Q 18.3125 60.0625 18.3125 54.390625  z \" id=\"DejaVuSans-38\"/>\n",
       "      </defs>\n",
       "      <g transform=\"translate(371.460511 92.719219)scale(0.1 -0.1)\">\n",
       "       <use xlink:href=\"#DejaVuSans-30\"/>\n",
       "       <use x=\"63.623047\" xlink:href=\"#DejaVuSans-2e\"/>\n",
       "       <use x=\"95.410156\" xlink:href=\"#DejaVuSans-38\"/>\n",
       "      </g>\n",
       "     </g>\n",
       "    </g>\n",
       "    <g id=\"ytick_12\">\n",
       "     <g id=\"line2d_31\">\n",
       "      <g>\n",
       "       <use style=\"stroke:#000000;stroke-width:0.8;\" x=\"394.363636\" xlink:href=\"#mba8e78ca68\" y=\"52.68\"/>\n",
       "      </g>\n",
       "     </g>\n",
       "     <g id=\"text_32\">\n",
       "      <!-- 1.0 -->\n",
       "      <g transform=\"translate(371.460511 56.479219)scale(0.1 -0.1)\">\n",
       "       <use xlink:href=\"#DejaVuSans-31\"/>\n",
       "       <use x=\"63.623047\" xlink:href=\"#DejaVuSans-2e\"/>\n",
       "       <use x=\"95.410156\" xlink:href=\"#DejaVuSans-30\"/>\n",
       "      </g>\n",
       "     </g>\n",
       "    </g>\n",
       "   </g>\n",
       "   <g id=\"line2d_32\">\n",
       "    <path clip-path=\"url(#pc843cb6e90)\" d=\"M 405.892562 233.88  L 491.16568 233.88  L 491.302117 188.58  L 496.554942 188.58  L 496.691379 143.28  L 540.419434 143.28  L 540.555871 97.98  L 636.402856 97.98  L 636.471074 52.68  L 636.471074 52.68  \" style=\"fill:none;stroke:#1f77b4;stroke-linecap:square;stroke-width:1.5;\"/>\n",
       "   </g>\n",
       "   <g id=\"patch_9\">\n",
       "    <path d=\"M 394.363636 252  L 394.363636 34.56  \" style=\"fill:none;stroke:#000000;stroke-linecap:square;stroke-linejoin:miter;stroke-width:0.8;\"/>\n",
       "   </g>\n",
       "   <g id=\"patch_10\">\n",
       "    <path d=\"M 648 252  L 648 34.56  \" style=\"fill:none;stroke:#000000;stroke-linecap:square;stroke-linejoin:miter;stroke-width:0.8;\"/>\n",
       "   </g>\n",
       "   <g id=\"patch_11\">\n",
       "    <path d=\"M 394.363636 252  L 648 252  \" style=\"fill:none;stroke:#000000;stroke-linecap:square;stroke-linejoin:miter;stroke-width:0.8;\"/>\n",
       "   </g>\n",
       "   <g id=\"patch_12\">\n",
       "    <path d=\"M 394.363636 34.56  L 648 34.56  \" style=\"fill:none;stroke:#000000;stroke-linecap:square;stroke-linejoin:miter;stroke-width:0.8;\"/>\n",
       "   </g>\n",
       "   <g id=\"text_33\">\n",
       "    <!-- XOR Network: Accuracy -->\n",
       "    <defs>\n",
       "     <path d=\"M 34.1875 63.1875  L 20.796875 26.90625  L 47.609375 26.90625  z M 28.609375 72.90625  L 39.796875 72.90625  L 67.578125 0  L 57.328125 0  L 50.6875 18.703125  L 17.828125 18.703125  L 11.1875 0  L 0.78125 0  z \" id=\"DejaVuSans-41\"/>\n",
       "     <path d=\"M 8.5 21.578125  L 8.5 54.6875  L 17.484375 54.6875  L 17.484375 21.921875  Q 17.484375 14.15625 20.5 10.265625  Q 23.53125 6.390625 29.59375 6.390625  Q 36.859375 6.390625 41.078125 11.03125  Q 45.3125 15.671875 45.3125 23.6875  L 45.3125 54.6875  L 54.296875 54.6875  L 54.296875 0  L 45.3125 0  L 45.3125 8.40625  Q 42.046875 3.421875 37.71875 1  Q 33.40625 -1.421875 27.6875 -1.421875  Q 18.265625 -1.421875 13.375 4.4375  Q 8.5 10.296875 8.5 21.578125  z M 31.109375 56  z \" id=\"DejaVuSans-75\"/>\n",
       "     <path d=\"M 32.171875 -5.078125  Q 28.375 -14.84375 24.75 -17.8125  Q 21.140625 -20.796875 15.09375 -20.796875  L 7.90625 -20.796875  L 7.90625 -13.28125  L 13.1875 -13.28125  Q 16.890625 -13.28125 18.9375 -11.515625  Q 21 -9.765625 23.484375 -3.21875  L 25.09375 0.875  L 2.984375 54.6875  L 12.5 54.6875  L 29.59375 11.921875  L 46.6875 54.6875  L 56.203125 54.6875  z \" id=\"DejaVuSans-79\"/>\n",
       "    </defs>\n",
       "    <g transform=\"translate(449.800568 28.56)scale(0.12 -0.12)\">\n",
       "     <use xlink:href=\"#DejaVuSans-58\"/>\n",
       "     <use x=\"68.412109\" xlink:href=\"#DejaVuSans-4f\"/>\n",
       "     <use x=\"147.123047\" xlink:href=\"#DejaVuSans-52\"/>\n",
       "     <use x=\"216.605469\" xlink:href=\"#DejaVuSans-20\"/>\n",
       "     <use x=\"248.392578\" xlink:href=\"#DejaVuSans-4e\"/>\n",
       "     <use x=\"323.197266\" xlink:href=\"#DejaVuSans-65\"/>\n",
       "     <use x=\"384.720703\" xlink:href=\"#DejaVuSans-74\"/>\n",
       "     <use x=\"423.929688\" xlink:href=\"#DejaVuSans-77\"/>\n",
       "     <use x=\"505.716797\" xlink:href=\"#DejaVuSans-6f\"/>\n",
       "     <use x=\"566.898438\" xlink:href=\"#DejaVuSans-72\"/>\n",
       "     <use x=\"608.011719\" xlink:href=\"#DejaVuSans-6b\"/>\n",
       "     <use x=\"665.921875\" xlink:href=\"#DejaVuSans-3a\"/>\n",
       "     <use x=\"699.613281\" xlink:href=\"#DejaVuSans-20\"/>\n",
       "     <use x=\"731.400391\" xlink:href=\"#DejaVuSans-41\"/>\n",
       "     <use x=\"799.792969\" xlink:href=\"#DejaVuSans-63\"/>\n",
       "     <use x=\"854.773438\" xlink:href=\"#DejaVuSans-63\"/>\n",
       "     <use x=\"909.753906\" xlink:href=\"#DejaVuSans-75\"/>\n",
       "     <use x=\"973.132812\" xlink:href=\"#DejaVuSans-72\"/>\n",
       "     <use x=\"1014.246094\" xlink:href=\"#DejaVuSans-61\"/>\n",
       "     <use x=\"1075.525391\" xlink:href=\"#DejaVuSans-63\"/>\n",
       "     <use x=\"1130.505859\" xlink:href=\"#DejaVuSans-79\"/>\n",
       "    </g>\n",
       "   </g>\n",
       "   <g id=\"legend_2\">\n",
       "    <g id=\"patch_13\">\n",
       "     <path d=\"M 401.363636 57.238125  L 492.729261 57.238125  Q 494.729261 57.238125 494.729261 55.238125  L 494.729261 41.56  Q 494.729261 39.56 492.729261 39.56  L 401.363636 39.56  Q 399.363636 39.56 399.363636 41.56  L 399.363636 55.238125  Q 399.363636 57.238125 401.363636 57.238125  z \" style=\"fill:#ffffff;opacity:0.8;stroke:#cccccc;stroke-linejoin:miter;\"/>\n",
       "    </g>\n",
       "    <g id=\"line2d_33\">\n",
       "     <path d=\"M 403.363636 47.658437  L 423.363636 47.658437  \" style=\"fill:none;stroke:#1f77b4;stroke-linecap:square;stroke-width:1.5;\"/>\n",
       "    </g>\n",
       "    <g id=\"line2d_34\"/>\n",
       "    <g id=\"text_34\">\n",
       "     <!-- Training set -->\n",
       "     <g transform=\"translate(431.363636 51.158437)scale(0.1 -0.1)\">\n",
       "      <use xlink:href=\"#DejaVuSans-54\"/>\n",
       "      <use x=\"60.865234\" xlink:href=\"#DejaVuSans-72\"/>\n",
       "      <use x=\"101.978516\" xlink:href=\"#DejaVuSans-61\"/>\n",
       "      <use x=\"163.257812\" xlink:href=\"#DejaVuSans-69\"/>\n",
       "      <use x=\"191.041016\" xlink:href=\"#DejaVuSans-6e\"/>\n",
       "      <use x=\"254.419922\" xlink:href=\"#DejaVuSans-69\"/>\n",
       "      <use x=\"282.203125\" xlink:href=\"#DejaVuSans-6e\"/>\n",
       "      <use x=\"345.582031\" xlink:href=\"#DejaVuSans-67\"/>\n",
       "      <use x=\"409.058594\" xlink:href=\"#DejaVuSans-20\"/>\n",
       "      <use x=\"440.845703\" xlink:href=\"#DejaVuSans-73\"/>\n",
       "      <use x=\"492.945312\" xlink:href=\"#DejaVuSans-65\"/>\n",
       "      <use x=\"554.46875\" xlink:href=\"#DejaVuSans-74\"/>\n",
       "     </g>\n",
       "    </g>\n",
       "   </g>\n",
       "  </g>\n",
       " </g>\n",
       " <defs>\n",
       "  <clipPath id=\"p9257400460\">\n",
       "   <rect height=\"217.44\" width=\"253.636364\" x=\"90\" y=\"34.56\"/>\n",
       "  </clipPath>\n",
       "  <clipPath id=\"pc843cb6e90\">\n",
       "   <rect height=\"217.44\" width=\"253.636364\" x=\"394.363636\" y=\"34.56\"/>\n",
       "  </clipPath>\n",
       " </defs>\n",
       "</svg>"
      ],
      "text/plain": [
       "<IPython.core.display.SVG object>"
      ]
     },
     "metadata": {},
     "output_type": "display_data"
    },
    {
     "name": "stdout",
     "output_type": "stream",
     "text": [
      "========================================================================\n",
      "       |  Training |  Training \n",
      "Epochs |     Error |  Accuracy \n",
      "------ | --------- | --------- \n",
      "# 3380 |   0.00331 |   1.00000 \n"
     ]
    }
   ],
   "source": [
    "net.train(epochs=2000, accuracy=1.0, report_rate=100, plot=True)"
   ]
  },
  {
   "cell_type": "markdown",
   "metadata": {},
   "source": [
    "Perhaps the network learned none, some, or all of the patterns. You can reset the network, and try again (retrain). Or continue with the following steps."
   ]
  },
  {
   "cell_type": "code",
   "execution_count": 14,
   "metadata": {},
   "outputs": [
    {
     "data": {
      "image/svg+xml": [
       "<svg height=\"288pt\" version=\"1.1\" viewBox=\"0 0 720 288\" width=\"720pt\" xmlns=\"http://www.w3.org/2000/svg\" xmlns:xlink=\"http://www.w3.org/1999/xlink\">\n",
       " <defs>\n",
       "  <style type=\"text/css\">\n",
       "*{stroke-linecap:butt;stroke-linejoin:round;}\n",
       "  </style>\n",
       " </defs>\n",
       " <g id=\"figure_1\">\n",
       "  <g id=\"patch_1\">\n",
       "   <path d=\"M 0 288  L 720 288  L 720 0  L 0 0  z \" style=\"fill:#ffffff;\"/>\n",
       "  </g>\n",
       "  <g id=\"axes_1\">\n",
       "   <g id=\"patch_2\">\n",
       "    <path d=\"M 90 252  L 343.636364 252  L 343.636364 34.56  L 90 34.56  z \" style=\"fill:#ffffff;\"/>\n",
       "   </g>\n",
       "   <g id=\"matplotlib.axis_1\">\n",
       "    <g id=\"xtick_1\">\n",
       "     <g id=\"line2d_1\">\n",
       "      <defs>\n",
       "       <path d=\"M 0 0  L 0 3.5  \" id=\"m925e27e573\" style=\"stroke:#000000;stroke-width:0.8;\"/>\n",
       "      </defs>\n",
       "      <g>\n",
       "       <use style=\"stroke:#000000;stroke-width:0.8;\" x=\"101.528926\" xlink:href=\"#m925e27e573\" y=\"252\"/>\n",
       "      </g>\n",
       "     </g>\n",
       "     <g id=\"text_1\">\n",
       "      <!-- 0 -->\n",
       "      <defs>\n",
       "       <path d=\"M 31.78125 66.40625  Q 24.171875 66.40625 20.328125 58.90625  Q 16.5 51.421875 16.5 36.375  Q 16.5 21.390625 20.328125 13.890625  Q 24.171875 6.390625 31.78125 6.390625  Q 39.453125 6.390625 43.28125 13.890625  Q 47.125 21.390625 47.125 36.375  Q 47.125 51.421875 43.28125 58.90625  Q 39.453125 66.40625 31.78125 66.40625  z M 31.78125 74.21875  Q 44.046875 74.21875 50.515625 64.515625  Q 56.984375 54.828125 56.984375 36.375  Q 56.984375 17.96875 50.515625 8.265625  Q 44.046875 -1.421875 31.78125 -1.421875  Q 19.53125 -1.421875 13.0625 8.265625  Q 6.59375 17.96875 6.59375 36.375  Q 6.59375 54.828125 13.0625 64.515625  Q 19.53125 74.21875 31.78125 74.21875  z \" id=\"DejaVuSans-30\"/>\n",
       "      </defs>\n",
       "      <g transform=\"translate(98.347676 266.598437)scale(0.1 -0.1)\">\n",
       "       <use xlink:href=\"#DejaVuSans-30\"/>\n",
       "      </g>\n",
       "     </g>\n",
       "    </g>\n",
       "    <g id=\"xtick_2\">\n",
       "     <g id=\"line2d_2\">\n",
       "      <g>\n",
       "       <use style=\"stroke:#000000;stroke-width:0.8;\" x=\"143.194721\" xlink:href=\"#m925e27e573\" y=\"252\"/>\n",
       "      </g>\n",
       "     </g>\n",
       "     <g id=\"text_2\">\n",
       "      <!-- 500 -->\n",
       "      <defs>\n",
       "       <path d=\"M 10.796875 72.90625  L 49.515625 72.90625  L 49.515625 64.59375  L 19.828125 64.59375  L 19.828125 46.734375  Q 21.96875 47.46875 24.109375 47.828125  Q 26.265625 48.1875 28.421875 48.1875  Q 40.625 48.1875 47.75 41.5  Q 54.890625 34.8125 54.890625 23.390625  Q 54.890625 11.625 47.5625 5.09375  Q 40.234375 -1.421875 26.90625 -1.421875  Q 22.3125 -1.421875 17.546875 -0.640625  Q 12.796875 0.140625 7.71875 1.703125  L 7.71875 11.625  Q 12.109375 9.234375 16.796875 8.0625  Q 21.484375 6.890625 26.703125 6.890625  Q 35.15625 6.890625 40.078125 11.328125  Q 45.015625 15.765625 45.015625 23.390625  Q 45.015625 31 40.078125 35.4375  Q 35.15625 39.890625 26.703125 39.890625  Q 22.75 39.890625 18.8125 39.015625  Q 14.890625 38.140625 10.796875 36.28125  z \" id=\"DejaVuSans-35\"/>\n",
       "      </defs>\n",
       "      <g transform=\"translate(133.650971 266.598437)scale(0.1 -0.1)\">\n",
       "       <use xlink:href=\"#DejaVuSans-35\"/>\n",
       "       <use x=\"63.623047\" xlink:href=\"#DejaVuSans-30\"/>\n",
       "       <use x=\"127.246094\" xlink:href=\"#DejaVuSans-30\"/>\n",
       "      </g>\n",
       "     </g>\n",
       "    </g>\n",
       "    <g id=\"xtick_3\">\n",
       "     <g id=\"line2d_3\">\n",
       "      <g>\n",
       "       <use style=\"stroke:#000000;stroke-width:0.8;\" x=\"184.860517\" xlink:href=\"#m925e27e573\" y=\"252\"/>\n",
       "      </g>\n",
       "     </g>\n",
       "     <g id=\"text_3\">\n",
       "      <!-- 1000 -->\n",
       "      <defs>\n",
       "       <path d=\"M 12.40625 8.296875  L 28.515625 8.296875  L 28.515625 63.921875  L 10.984375 60.40625  L 10.984375 69.390625  L 28.421875 72.90625  L 38.28125 72.90625  L 38.28125 8.296875  L 54.390625 8.296875  L 54.390625 0  L 12.40625 0  z \" id=\"DejaVuSans-31\"/>\n",
       "      </defs>\n",
       "      <g transform=\"translate(172.135517 266.598437)scale(0.1 -0.1)\">\n",
       "       <use xlink:href=\"#DejaVuSans-31\"/>\n",
       "       <use x=\"63.623047\" xlink:href=\"#DejaVuSans-30\"/>\n",
       "       <use x=\"127.246094\" xlink:href=\"#DejaVuSans-30\"/>\n",
       "       <use x=\"190.869141\" xlink:href=\"#DejaVuSans-30\"/>\n",
       "      </g>\n",
       "     </g>\n",
       "    </g>\n",
       "    <g id=\"xtick_4\">\n",
       "     <g id=\"line2d_4\">\n",
       "      <g>\n",
       "       <use style=\"stroke:#000000;stroke-width:0.8;\" x=\"226.526312\" xlink:href=\"#m925e27e573\" y=\"252\"/>\n",
       "      </g>\n",
       "     </g>\n",
       "     <g id=\"text_4\">\n",
       "      <!-- 1500 -->\n",
       "      <g transform=\"translate(213.801312 266.598437)scale(0.1 -0.1)\">\n",
       "       <use xlink:href=\"#DejaVuSans-31\"/>\n",
       "       <use x=\"63.623047\" xlink:href=\"#DejaVuSans-35\"/>\n",
       "       <use x=\"127.246094\" xlink:href=\"#DejaVuSans-30\"/>\n",
       "       <use x=\"190.869141\" xlink:href=\"#DejaVuSans-30\"/>\n",
       "      </g>\n",
       "     </g>\n",
       "    </g>\n",
       "    <g id=\"xtick_5\">\n",
       "     <g id=\"line2d_5\">\n",
       "      <g>\n",
       "       <use style=\"stroke:#000000;stroke-width:0.8;\" x=\"268.192108\" xlink:href=\"#m925e27e573\" y=\"252\"/>\n",
       "      </g>\n",
       "     </g>\n",
       "     <g id=\"text_5\">\n",
       "      <!-- 2000 -->\n",
       "      <defs>\n",
       "       <path d=\"M 19.1875 8.296875  L 53.609375 8.296875  L 53.609375 0  L 7.328125 0  L 7.328125 8.296875  Q 12.9375 14.109375 22.625 23.890625  Q 32.328125 33.6875 34.8125 36.53125  Q 39.546875 41.84375 41.421875 45.53125  Q 43.3125 49.21875 43.3125 52.78125  Q 43.3125 58.59375 39.234375 62.25  Q 35.15625 65.921875 28.609375 65.921875  Q 23.96875 65.921875 18.8125 64.3125  Q 13.671875 62.703125 7.8125 59.421875  L 7.8125 69.390625  Q 13.765625 71.78125 18.9375 73  Q 24.125 74.21875 28.421875 74.21875  Q 39.75 74.21875 46.484375 68.546875  Q 53.21875 62.890625 53.21875 53.421875  Q 53.21875 48.921875 51.53125 44.890625  Q 49.859375 40.875 45.40625 35.40625  Q 44.1875 33.984375 37.640625 27.21875  Q 31.109375 20.453125 19.1875 8.296875  z \" id=\"DejaVuSans-32\"/>\n",
       "      </defs>\n",
       "      <g transform=\"translate(255.467108 266.598437)scale(0.1 -0.1)\">\n",
       "       <use xlink:href=\"#DejaVuSans-32\"/>\n",
       "       <use x=\"63.623047\" xlink:href=\"#DejaVuSans-30\"/>\n",
       "       <use x=\"127.246094\" xlink:href=\"#DejaVuSans-30\"/>\n",
       "       <use x=\"190.869141\" xlink:href=\"#DejaVuSans-30\"/>\n",
       "      </g>\n",
       "     </g>\n",
       "    </g>\n",
       "    <g id=\"xtick_6\">\n",
       "     <g id=\"line2d_6\">\n",
       "      <g>\n",
       "       <use style=\"stroke:#000000;stroke-width:0.8;\" x=\"309.857903\" xlink:href=\"#m925e27e573\" y=\"252\"/>\n",
       "      </g>\n",
       "     </g>\n",
       "     <g id=\"text_6\">\n",
       "      <!-- 2500 -->\n",
       "      <g transform=\"translate(297.132903 266.598437)scale(0.1 -0.1)\">\n",
       "       <use xlink:href=\"#DejaVuSans-32\"/>\n",
       "       <use x=\"63.623047\" xlink:href=\"#DejaVuSans-35\"/>\n",
       "       <use x=\"127.246094\" xlink:href=\"#DejaVuSans-30\"/>\n",
       "       <use x=\"190.869141\" xlink:href=\"#DejaVuSans-30\"/>\n",
       "      </g>\n",
       "     </g>\n",
       "    </g>\n",
       "    <g id=\"text_7\">\n",
       "     <!-- Epoch -->\n",
       "     <defs>\n",
       "      <path d=\"M 9.8125 72.90625  L 55.90625 72.90625  L 55.90625 64.59375  L 19.671875 64.59375  L 19.671875 43.015625  L 54.390625 43.015625  L 54.390625 34.71875  L 19.671875 34.71875  L 19.671875 8.296875  L 56.78125 8.296875  L 56.78125 0  L 9.8125 0  z \" id=\"DejaVuSans-45\"/>\n",
       "      <path d=\"M 18.109375 8.203125  L 18.109375 -20.796875  L 9.078125 -20.796875  L 9.078125 54.6875  L 18.109375 54.6875  L 18.109375 46.390625  Q 20.953125 51.265625 25.265625 53.625  Q 29.59375 56 35.59375 56  Q 45.5625 56 51.78125 48.09375  Q 58.015625 40.1875 58.015625 27.296875  Q 58.015625 14.40625 51.78125 6.484375  Q 45.5625 -1.421875 35.59375 -1.421875  Q 29.59375 -1.421875 25.265625 0.953125  Q 20.953125 3.328125 18.109375 8.203125  z M 48.6875 27.296875  Q 48.6875 37.203125 44.609375 42.84375  Q 40.53125 48.484375 33.40625 48.484375  Q 26.265625 48.484375 22.1875 42.84375  Q 18.109375 37.203125 18.109375 27.296875  Q 18.109375 17.390625 22.1875 11.75  Q 26.265625 6.109375 33.40625 6.109375  Q 40.53125 6.109375 44.609375 11.75  Q 48.6875 17.390625 48.6875 27.296875  z \" id=\"DejaVuSans-70\"/>\n",
       "      <path d=\"M 30.609375 48.390625  Q 23.390625 48.390625 19.1875 42.75  Q 14.984375 37.109375 14.984375 27.296875  Q 14.984375 17.484375 19.15625 11.84375  Q 23.34375 6.203125 30.609375 6.203125  Q 37.796875 6.203125 41.984375 11.859375  Q 46.1875 17.53125 46.1875 27.296875  Q 46.1875 37.015625 41.984375 42.703125  Q 37.796875 48.390625 30.609375 48.390625  z M 30.609375 56  Q 42.328125 56 49.015625 48.375  Q 55.71875 40.765625 55.71875 27.296875  Q 55.71875 13.875 49.015625 6.21875  Q 42.328125 -1.421875 30.609375 -1.421875  Q 18.84375 -1.421875 12.171875 6.21875  Q 5.515625 13.875 5.515625 27.296875  Q 5.515625 40.765625 12.171875 48.375  Q 18.84375 56 30.609375 56  z \" id=\"DejaVuSans-6f\"/>\n",
       "      <path d=\"M 48.78125 52.59375  L 48.78125 44.1875  Q 44.96875 46.296875 41.140625 47.34375  Q 37.3125 48.390625 33.40625 48.390625  Q 24.65625 48.390625 19.8125 42.84375  Q 14.984375 37.3125 14.984375 27.296875  Q 14.984375 17.28125 19.8125 11.734375  Q 24.65625 6.203125 33.40625 6.203125  Q 37.3125 6.203125 41.140625 7.25  Q 44.96875 8.296875 48.78125 10.40625  L 48.78125 2.09375  Q 45.015625 0.34375 40.984375 -0.53125  Q 36.96875 -1.421875 32.421875 -1.421875  Q 20.0625 -1.421875 12.78125 6.34375  Q 5.515625 14.109375 5.515625 27.296875  Q 5.515625 40.671875 12.859375 48.328125  Q 20.21875 56 33.015625 56  Q 37.15625 56 41.109375 55.140625  Q 45.0625 54.296875 48.78125 52.59375  z \" id=\"DejaVuSans-63\"/>\n",
       "      <path d=\"M 54.890625 33.015625  L 54.890625 0  L 45.90625 0  L 45.90625 32.71875  Q 45.90625 40.484375 42.875 44.328125  Q 39.84375 48.1875 33.796875 48.1875  Q 26.515625 48.1875 22.3125 43.546875  Q 18.109375 38.921875 18.109375 30.90625  L 18.109375 0  L 9.078125 0  L 9.078125 75.984375  L 18.109375 75.984375  L 18.109375 46.1875  Q 21.34375 51.125 25.703125 53.5625  Q 30.078125 56 35.796875 56  Q 45.21875 56 50.046875 50.171875  Q 54.890625 44.34375 54.890625 33.015625  z \" id=\"DejaVuSans-68\"/>\n",
       "     </defs>\n",
       "     <g transform=\"translate(201.507244 280.276563)scale(0.1 -0.1)\">\n",
       "      <use xlink:href=\"#DejaVuSans-45\"/>\n",
       "      <use x=\"63.183594\" xlink:href=\"#DejaVuSans-70\"/>\n",
       "      <use x=\"126.660156\" xlink:href=\"#DejaVuSans-6f\"/>\n",
       "      <use x=\"187.841797\" xlink:href=\"#DejaVuSans-63\"/>\n",
       "      <use x=\"242.822266\" xlink:href=\"#DejaVuSans-68\"/>\n",
       "     </g>\n",
       "    </g>\n",
       "   </g>\n",
       "   <g id=\"matplotlib.axis_2\">\n",
       "    <g id=\"ytick_1\">\n",
       "     <g id=\"line2d_7\">\n",
       "      <defs>\n",
       "       <path d=\"M 0 0  L -3.5 0  \" id=\"mefc638cfdd\" style=\"stroke:#000000;stroke-width:0.8;\"/>\n",
       "      </defs>\n",
       "      <g>\n",
       "       <use style=\"stroke:#000000;stroke-width:0.8;\" x=\"90\" xlink:href=\"#mefc638cfdd\" y=\"252\"/>\n",
       "      </g>\n",
       "     </g>\n",
       "     <g id=\"text_8\">\n",
       "      <!-- 0.00 -->\n",
       "      <defs>\n",
       "       <path d=\"M 10.6875 12.40625  L 21 12.40625  L 21 0  L 10.6875 0  z \" id=\"DejaVuSans-2e\"/>\n",
       "      </defs>\n",
       "      <g transform=\"translate(60.734375 255.799219)scale(0.1 -0.1)\">\n",
       "       <use xlink:href=\"#DejaVuSans-30\"/>\n",
       "       <use x=\"63.623047\" xlink:href=\"#DejaVuSans-2e\"/>\n",
       "       <use x=\"95.410156\" xlink:href=\"#DejaVuSans-30\"/>\n",
       "       <use x=\"159.033203\" xlink:href=\"#DejaVuSans-30\"/>\n",
       "      </g>\n",
       "     </g>\n",
       "    </g>\n",
       "    <g id=\"ytick_2\">\n",
       "     <g id=\"line2d_8\">\n",
       "      <g>\n",
       "       <use style=\"stroke:#000000;stroke-width:0.8;\" x=\"90\" xlink:href=\"#mefc638cfdd\" y=\"217.43659\"/>\n",
       "      </g>\n",
       "     </g>\n",
       "     <g id=\"text_9\">\n",
       "      <!-- 0.05 -->\n",
       "      <g transform=\"translate(60.734375 221.235808)scale(0.1 -0.1)\">\n",
       "       <use xlink:href=\"#DejaVuSans-30\"/>\n",
       "       <use x=\"63.623047\" xlink:href=\"#DejaVuSans-2e\"/>\n",
       "       <use x=\"95.410156\" xlink:href=\"#DejaVuSans-30\"/>\n",
       "       <use x=\"159.033203\" xlink:href=\"#DejaVuSans-35\"/>\n",
       "      </g>\n",
       "     </g>\n",
       "    </g>\n",
       "    <g id=\"ytick_3\">\n",
       "     <g id=\"line2d_9\">\n",
       "      <g>\n",
       "       <use style=\"stroke:#000000;stroke-width:0.8;\" x=\"90\" xlink:href=\"#mefc638cfdd\" y=\"182.873179\"/>\n",
       "      </g>\n",
       "     </g>\n",
       "     <g id=\"text_10\">\n",
       "      <!-- 0.10 -->\n",
       "      <g transform=\"translate(60.734375 186.672398)scale(0.1 -0.1)\">\n",
       "       <use xlink:href=\"#DejaVuSans-30\"/>\n",
       "       <use x=\"63.623047\" xlink:href=\"#DejaVuSans-2e\"/>\n",
       "       <use x=\"95.410156\" xlink:href=\"#DejaVuSans-31\"/>\n",
       "       <use x=\"159.033203\" xlink:href=\"#DejaVuSans-30\"/>\n",
       "      </g>\n",
       "     </g>\n",
       "    </g>\n",
       "    <g id=\"ytick_4\">\n",
       "     <g id=\"line2d_10\">\n",
       "      <g>\n",
       "       <use style=\"stroke:#000000;stroke-width:0.8;\" x=\"90\" xlink:href=\"#mefc638cfdd\" y=\"148.309769\"/>\n",
       "      </g>\n",
       "     </g>\n",
       "     <g id=\"text_11\">\n",
       "      <!-- 0.15 -->\n",
       "      <g transform=\"translate(60.734375 152.108987)scale(0.1 -0.1)\">\n",
       "       <use xlink:href=\"#DejaVuSans-30\"/>\n",
       "       <use x=\"63.623047\" xlink:href=\"#DejaVuSans-2e\"/>\n",
       "       <use x=\"95.410156\" xlink:href=\"#DejaVuSans-31\"/>\n",
       "       <use x=\"159.033203\" xlink:href=\"#DejaVuSans-35\"/>\n",
       "      </g>\n",
       "     </g>\n",
       "    </g>\n",
       "    <g id=\"ytick_5\">\n",
       "     <g id=\"line2d_11\">\n",
       "      <g>\n",
       "       <use style=\"stroke:#000000;stroke-width:0.8;\" x=\"90\" xlink:href=\"#mefc638cfdd\" y=\"113.746358\"/>\n",
       "      </g>\n",
       "     </g>\n",
       "     <g id=\"text_12\">\n",
       "      <!-- 0.20 -->\n",
       "      <g transform=\"translate(60.734375 117.545577)scale(0.1 -0.1)\">\n",
       "       <use xlink:href=\"#DejaVuSans-30\"/>\n",
       "       <use x=\"63.623047\" xlink:href=\"#DejaVuSans-2e\"/>\n",
       "       <use x=\"95.410156\" xlink:href=\"#DejaVuSans-32\"/>\n",
       "       <use x=\"159.033203\" xlink:href=\"#DejaVuSans-30\"/>\n",
       "      </g>\n",
       "     </g>\n",
       "    </g>\n",
       "    <g id=\"ytick_6\">\n",
       "     <g id=\"line2d_12\">\n",
       "      <g>\n",
       "       <use style=\"stroke:#000000;stroke-width:0.8;\" x=\"90\" xlink:href=\"#mefc638cfdd\" y=\"79.182948\"/>\n",
       "      </g>\n",
       "     </g>\n",
       "     <g id=\"text_13\">\n",
       "      <!-- 0.25 -->\n",
       "      <g transform=\"translate(60.734375 82.982166)scale(0.1 -0.1)\">\n",
       "       <use xlink:href=\"#DejaVuSans-30\"/>\n",
       "       <use x=\"63.623047\" xlink:href=\"#DejaVuSans-2e\"/>\n",
       "       <use x=\"95.410156\" xlink:href=\"#DejaVuSans-32\"/>\n",
       "       <use x=\"159.033203\" xlink:href=\"#DejaVuSans-35\"/>\n",
       "      </g>\n",
       "     </g>\n",
       "    </g>\n",
       "    <g id=\"ytick_7\">\n",
       "     <g id=\"line2d_13\">\n",
       "      <g>\n",
       "       <use style=\"stroke:#000000;stroke-width:0.8;\" x=\"90\" xlink:href=\"#mefc638cfdd\" y=\"44.619537\"/>\n",
       "      </g>\n",
       "     </g>\n",
       "     <g id=\"text_14\">\n",
       "      <!-- 0.30 -->\n",
       "      <defs>\n",
       "       <path d=\"M 40.578125 39.3125  Q 47.65625 37.796875 51.625 33  Q 55.609375 28.21875 55.609375 21.1875  Q 55.609375 10.40625 48.1875 4.484375  Q 40.765625 -1.421875 27.09375 -1.421875  Q 22.515625 -1.421875 17.65625 -0.515625  Q 12.796875 0.390625 7.625 2.203125  L 7.625 11.71875  Q 11.71875 9.328125 16.59375 8.109375  Q 21.484375 6.890625 26.8125 6.890625  Q 36.078125 6.890625 40.9375 10.546875  Q 45.796875 14.203125 45.796875 21.1875  Q 45.796875 27.640625 41.28125 31.265625  Q 36.765625 34.90625 28.71875 34.90625  L 20.21875 34.90625  L 20.21875 43.015625  L 29.109375 43.015625  Q 36.375 43.015625 40.234375 45.921875  Q 44.09375 48.828125 44.09375 54.296875  Q 44.09375 59.90625 40.109375 62.90625  Q 36.140625 65.921875 28.71875 65.921875  Q 24.65625 65.921875 20.015625 65.03125  Q 15.375 64.15625 9.8125 62.3125  L 9.8125 71.09375  Q 15.4375 72.65625 20.34375 73.4375  Q 25.25 74.21875 29.59375 74.21875  Q 40.828125 74.21875 47.359375 69.109375  Q 53.90625 64.015625 53.90625 55.328125  Q 53.90625 49.265625 50.4375 45.09375  Q 46.96875 40.921875 40.578125 39.3125  z \" id=\"DejaVuSans-33\"/>\n",
       "      </defs>\n",
       "      <g transform=\"translate(60.734375 48.418756)scale(0.1 -0.1)\">\n",
       "       <use xlink:href=\"#DejaVuSans-30\"/>\n",
       "       <use x=\"63.623047\" xlink:href=\"#DejaVuSans-2e\"/>\n",
       "       <use x=\"95.410156\" xlink:href=\"#DejaVuSans-33\"/>\n",
       "       <use x=\"159.033203\" xlink:href=\"#DejaVuSans-30\"/>\n",
       "      </g>\n",
       "     </g>\n",
       "    </g>\n",
       "   </g>\n",
       "   <g id=\"line2d_14\">\n",
       "    <path clip-path=\"url(#p243d6dfd53)\" d=\"M 101.528926 44.662792  L 101.612257 44.662792  L 103.528884 51.15489  L 107.278805 61.652621  L 114.111996 76.272362  L 117.44526 83.636002  L 122.69515 94.614136  L 132.611609 114.430518  L 135.77821 120.401957  L 154.694481 150.664834  L 156.361113 153.297796  L 157.694418 155.402795  L 165.277593 167.05782  L 172.527441 177.55382  L 175.444047 181.541092  L 177.527337 184.304841  L 186.360485 195.126138  L 190.860391 200.065699  L 196.943597 206.120651  L 202.86014 211.352211  L 206.943388 214.595159  L 213.526584 219.257021  L 219.526459 222.943312  L 225.193007 225.991464  L 232.026197 229.150328  L 236.109445 230.805341  L 238.526061 231.71335  L 243.442625 233.398242  L 247.692536 234.717261  L 255.942364 236.945552  L 265.942155 239.161019  L 276.608598 241.072881  L 285.108421 242.33968  L 307.357955 244.843781  L 319.441036 245.853089  L 332.107438 246.718629  L 332.107438 246.718629  \" style=\"fill:none;stroke:#1f77b4;stroke-linecap:square;stroke-width:1.5;\"/>\n",
       "   </g>\n",
       "   <g id=\"patch_3\">\n",
       "    <path d=\"M 90 252  L 90 34.56  \" style=\"fill:none;stroke:#000000;stroke-linecap:square;stroke-linejoin:miter;stroke-width:0.8;\"/>\n",
       "   </g>\n",
       "   <g id=\"patch_4\">\n",
       "    <path d=\"M 343.636364 252  L 343.636364 34.56  \" style=\"fill:none;stroke:#000000;stroke-linecap:square;stroke-linejoin:miter;stroke-width:0.8;\"/>\n",
       "   </g>\n",
       "   <g id=\"patch_5\">\n",
       "    <path d=\"M 90 252  L 343.636364 252  \" style=\"fill:none;stroke:#000000;stroke-linecap:square;stroke-linejoin:miter;stroke-width:0.8;\"/>\n",
       "   </g>\n",
       "   <g id=\"patch_6\">\n",
       "    <path d=\"M 90 34.56  L 343.636364 34.56  \" style=\"fill:none;stroke:#000000;stroke-linecap:square;stroke-linejoin:miter;stroke-width:0.8;\"/>\n",
       "   </g>\n",
       "   <g id=\"text_15\">\n",
       "    <!-- XOR Network: Error -->\n",
       "    <defs>\n",
       "     <path d=\"M 6.296875 72.90625  L 16.890625 72.90625  L 35.015625 45.796875  L 53.21875 72.90625  L 63.8125 72.90625  L 40.375 37.890625  L 65.375 0  L 54.78125 0  L 34.28125 31  L 13.625 0  L 2.984375 0  L 29 38.921875  z \" id=\"DejaVuSans-58\"/>\n",
       "     <path d=\"M 39.40625 66.21875  Q 28.65625 66.21875 22.328125 58.203125  Q 16.015625 50.203125 16.015625 36.375  Q 16.015625 22.609375 22.328125 14.59375  Q 28.65625 6.59375 39.40625 6.59375  Q 50.140625 6.59375 56.421875 14.59375  Q 62.703125 22.609375 62.703125 36.375  Q 62.703125 50.203125 56.421875 58.203125  Q 50.140625 66.21875 39.40625 66.21875  z M 39.40625 74.21875  Q 54.734375 74.21875 63.90625 63.9375  Q 73.09375 53.65625 73.09375 36.375  Q 73.09375 19.140625 63.90625 8.859375  Q 54.734375 -1.421875 39.40625 -1.421875  Q 24.03125 -1.421875 14.8125 8.828125  Q 5.609375 19.09375 5.609375 36.375  Q 5.609375 53.65625 14.8125 63.9375  Q 24.03125 74.21875 39.40625 74.21875  z \" id=\"DejaVuSans-4f\"/>\n",
       "     <path d=\"M 44.390625 34.1875  Q 47.5625 33.109375 50.5625 29.59375  Q 53.5625 26.078125 56.59375 19.921875  L 66.609375 0  L 56 0  L 46.6875 18.703125  Q 43.0625 26.03125 39.671875 28.421875  Q 36.28125 30.8125 30.421875 30.8125  L 19.671875 30.8125  L 19.671875 0  L 9.8125 0  L 9.8125 72.90625  L 32.078125 72.90625  Q 44.578125 72.90625 50.734375 67.671875  Q 56.890625 62.453125 56.890625 51.90625  Q 56.890625 45.015625 53.6875 40.46875  Q 50.484375 35.9375 44.390625 34.1875  z M 19.671875 64.796875  L 19.671875 38.921875  L 32.078125 38.921875  Q 39.203125 38.921875 42.84375 42.21875  Q 46.484375 45.515625 46.484375 51.90625  Q 46.484375 58.296875 42.84375 61.546875  Q 39.203125 64.796875 32.078125 64.796875  z \" id=\"DejaVuSans-52\"/>\n",
       "     <path id=\"DejaVuSans-20\"/>\n",
       "     <path d=\"M 9.8125 72.90625  L 23.09375 72.90625  L 55.421875 11.921875  L 55.421875 72.90625  L 64.984375 72.90625  L 64.984375 0  L 51.703125 0  L 19.390625 60.984375  L 19.390625 0  L 9.8125 0  z \" id=\"DejaVuSans-4e\"/>\n",
       "     <path d=\"M 56.203125 29.59375  L 56.203125 25.203125  L 14.890625 25.203125  Q 15.484375 15.921875 20.484375 11.0625  Q 25.484375 6.203125 34.421875 6.203125  Q 39.59375 6.203125 44.453125 7.46875  Q 49.3125 8.734375 54.109375 11.28125  L 54.109375 2.78125  Q 49.265625 0.734375 44.1875 -0.34375  Q 39.109375 -1.421875 33.890625 -1.421875  Q 20.796875 -1.421875 13.15625 6.1875  Q 5.515625 13.8125 5.515625 26.8125  Q 5.515625 40.234375 12.765625 48.109375  Q 20.015625 56 32.328125 56  Q 43.359375 56 49.78125 48.890625  Q 56.203125 41.796875 56.203125 29.59375  z M 47.21875 32.234375  Q 47.125 39.59375 43.09375 43.984375  Q 39.0625 48.390625 32.421875 48.390625  Q 24.90625 48.390625 20.390625 44.140625  Q 15.875 39.890625 15.1875 32.171875  z \" id=\"DejaVuSans-65\"/>\n",
       "     <path d=\"M 18.3125 70.21875  L 18.3125 54.6875  L 36.8125 54.6875  L 36.8125 47.703125  L 18.3125 47.703125  L 18.3125 18.015625  Q 18.3125 11.328125 20.140625 9.421875  Q 21.96875 7.515625 27.59375 7.515625  L 36.8125 7.515625  L 36.8125 0  L 27.59375 0  Q 17.1875 0 13.234375 3.875  Q 9.28125 7.765625 9.28125 18.015625  L 9.28125 47.703125  L 2.6875 47.703125  L 2.6875 54.6875  L 9.28125 54.6875  L 9.28125 70.21875  z \" id=\"DejaVuSans-74\"/>\n",
       "     <path d=\"M 4.203125 54.6875  L 13.1875 54.6875  L 24.421875 12.015625  L 35.59375 54.6875  L 46.1875 54.6875  L 57.421875 12.015625  L 68.609375 54.6875  L 77.59375 54.6875  L 63.28125 0  L 52.6875 0  L 40.921875 44.828125  L 29.109375 0  L 18.5 0  z \" id=\"DejaVuSans-77\"/>\n",
       "     <path d=\"M 41.109375 46.296875  Q 39.59375 47.171875 37.8125 47.578125  Q 36.03125 48 33.890625 48  Q 26.265625 48 22.1875 43.046875  Q 18.109375 38.09375 18.109375 28.8125  L 18.109375 0  L 9.078125 0  L 9.078125 54.6875  L 18.109375 54.6875  L 18.109375 46.1875  Q 20.953125 51.171875 25.484375 53.578125  Q 30.03125 56 36.53125 56  Q 37.453125 56 38.578125 55.875  Q 39.703125 55.765625 41.0625 55.515625  z \" id=\"DejaVuSans-72\"/>\n",
       "     <path d=\"M 9.078125 75.984375  L 18.109375 75.984375  L 18.109375 31.109375  L 44.921875 54.6875  L 56.390625 54.6875  L 27.390625 29.109375  L 57.625 0  L 45.90625 0  L 18.109375 26.703125  L 18.109375 0  L 9.078125 0  z \" id=\"DejaVuSans-6b\"/>\n",
       "     <path d=\"M 11.71875 12.40625  L 22.015625 12.40625  L 22.015625 0  L 11.71875 0  z M 11.71875 51.703125  L 22.015625 51.703125  L 22.015625 39.3125  L 11.71875 39.3125  z \" id=\"DejaVuSans-3a\"/>\n",
       "    </defs>\n",
       "    <g transform=\"translate(158.075369 28.56)scale(0.12 -0.12)\">\n",
       "     <use xlink:href=\"#DejaVuSans-58\"/>\n",
       "     <use x=\"68.412109\" xlink:href=\"#DejaVuSans-4f\"/>\n",
       "     <use x=\"147.123047\" xlink:href=\"#DejaVuSans-52\"/>\n",
       "     <use x=\"216.605469\" xlink:href=\"#DejaVuSans-20\"/>\n",
       "     <use x=\"248.392578\" xlink:href=\"#DejaVuSans-4e\"/>\n",
       "     <use x=\"323.197266\" xlink:href=\"#DejaVuSans-65\"/>\n",
       "     <use x=\"384.720703\" xlink:href=\"#DejaVuSans-74\"/>\n",
       "     <use x=\"423.929688\" xlink:href=\"#DejaVuSans-77\"/>\n",
       "     <use x=\"505.716797\" xlink:href=\"#DejaVuSans-6f\"/>\n",
       "     <use x=\"566.898438\" xlink:href=\"#DejaVuSans-72\"/>\n",
       "     <use x=\"608.011719\" xlink:href=\"#DejaVuSans-6b\"/>\n",
       "     <use x=\"665.921875\" xlink:href=\"#DejaVuSans-3a\"/>\n",
       "     <use x=\"699.613281\" xlink:href=\"#DejaVuSans-20\"/>\n",
       "     <use x=\"731.400391\" xlink:href=\"#DejaVuSans-45\"/>\n",
       "     <use x=\"794.583984\" xlink:href=\"#DejaVuSans-72\"/>\n",
       "     <use x=\"835.681641\" xlink:href=\"#DejaVuSans-72\"/>\n",
       "     <use x=\"876.763672\" xlink:href=\"#DejaVuSans-6f\"/>\n",
       "     <use x=\"937.945312\" xlink:href=\"#DejaVuSans-72\"/>\n",
       "    </g>\n",
       "   </g>\n",
       "   <g id=\"legend_1\">\n",
       "    <g id=\"patch_7\">\n",
       "     <path d=\"M 245.270739 57.238125  L 336.636364 57.238125  Q 338.636364 57.238125 338.636364 55.238125  L 338.636364 41.56  Q 338.636364 39.56 336.636364 39.56  L 245.270739 39.56  Q 243.270739 39.56 243.270739 41.56  L 243.270739 55.238125  Q 243.270739 57.238125 245.270739 57.238125  z \" style=\"fill:#ffffff;opacity:0.8;stroke:#cccccc;stroke-linejoin:miter;\"/>\n",
       "    </g>\n",
       "    <g id=\"line2d_15\">\n",
       "     <path d=\"M 247.270739 47.658437  L 267.270739 47.658437  \" style=\"fill:none;stroke:#1f77b4;stroke-linecap:square;stroke-width:1.5;\"/>\n",
       "    </g>\n",
       "    <g id=\"line2d_16\"/>\n",
       "    <g id=\"text_16\">\n",
       "     <!-- Training set -->\n",
       "     <defs>\n",
       "      <path d=\"M -0.296875 72.90625  L 61.375 72.90625  L 61.375 64.59375  L 35.5 64.59375  L 35.5 0  L 25.59375 0  L 25.59375 64.59375  L -0.296875 64.59375  z \" id=\"DejaVuSans-54\"/>\n",
       "      <path d=\"M 34.28125 27.484375  Q 23.390625 27.484375 19.1875 25  Q 14.984375 22.515625 14.984375 16.5  Q 14.984375 11.71875 18.140625 8.90625  Q 21.296875 6.109375 26.703125 6.109375  Q 34.1875 6.109375 38.703125 11.40625  Q 43.21875 16.703125 43.21875 25.484375  L 43.21875 27.484375  z M 52.203125 31.203125  L 52.203125 0  L 43.21875 0  L 43.21875 8.296875  Q 40.140625 3.328125 35.546875 0.953125  Q 30.953125 -1.421875 24.3125 -1.421875  Q 15.921875 -1.421875 10.953125 3.296875  Q 6 8.015625 6 15.921875  Q 6 25.140625 12.171875 29.828125  Q 18.359375 34.515625 30.609375 34.515625  L 43.21875 34.515625  L 43.21875 35.40625  Q 43.21875 41.609375 39.140625 45  Q 35.0625 48.390625 27.6875 48.390625  Q 23 48.390625 18.546875 47.265625  Q 14.109375 46.140625 10.015625 43.890625  L 10.015625 52.203125  Q 14.9375 54.109375 19.578125 55.046875  Q 24.21875 56 28.609375 56  Q 40.484375 56 46.34375 49.84375  Q 52.203125 43.703125 52.203125 31.203125  z \" id=\"DejaVuSans-61\"/>\n",
       "      <path d=\"M 9.421875 54.6875  L 18.40625 54.6875  L 18.40625 0  L 9.421875 0  z M 9.421875 75.984375  L 18.40625 75.984375  L 18.40625 64.59375  L 9.421875 64.59375  z \" id=\"DejaVuSans-69\"/>\n",
       "      <path d=\"M 54.890625 33.015625  L 54.890625 0  L 45.90625 0  L 45.90625 32.71875  Q 45.90625 40.484375 42.875 44.328125  Q 39.84375 48.1875 33.796875 48.1875  Q 26.515625 48.1875 22.3125 43.546875  Q 18.109375 38.921875 18.109375 30.90625  L 18.109375 0  L 9.078125 0  L 9.078125 54.6875  L 18.109375 54.6875  L 18.109375 46.1875  Q 21.34375 51.125 25.703125 53.5625  Q 30.078125 56 35.796875 56  Q 45.21875 56 50.046875 50.171875  Q 54.890625 44.34375 54.890625 33.015625  z \" id=\"DejaVuSans-6e\"/>\n",
       "      <path d=\"M 45.40625 27.984375  Q 45.40625 37.75 41.375 43.109375  Q 37.359375 48.484375 30.078125 48.484375  Q 22.859375 48.484375 18.828125 43.109375  Q 14.796875 37.75 14.796875 27.984375  Q 14.796875 18.265625 18.828125 12.890625  Q 22.859375 7.515625 30.078125 7.515625  Q 37.359375 7.515625 41.375 12.890625  Q 45.40625 18.265625 45.40625 27.984375  z M 54.390625 6.78125  Q 54.390625 -7.171875 48.1875 -13.984375  Q 42 -20.796875 29.203125 -20.796875  Q 24.46875 -20.796875 20.265625 -20.09375  Q 16.0625 -19.390625 12.109375 -17.921875  L 12.109375 -9.1875  Q 16.0625 -11.328125 19.921875 -12.34375  Q 23.78125 -13.375 27.78125 -13.375  Q 36.625 -13.375 41.015625 -8.765625  Q 45.40625 -4.15625 45.40625 5.171875  L 45.40625 9.625  Q 42.625 4.78125 38.28125 2.390625  Q 33.9375 0 27.875 0  Q 17.828125 0 11.671875 7.65625  Q 5.515625 15.328125 5.515625 27.984375  Q 5.515625 40.671875 11.671875 48.328125  Q 17.828125 56 27.875 56  Q 33.9375 56 38.28125 53.609375  Q 42.625 51.21875 45.40625 46.390625  L 45.40625 54.6875  L 54.390625 54.6875  z \" id=\"DejaVuSans-67\"/>\n",
       "      <path d=\"M 44.28125 53.078125  L 44.28125 44.578125  Q 40.484375 46.53125 36.375 47.5  Q 32.28125 48.484375 27.875 48.484375  Q 21.1875 48.484375 17.84375 46.4375  Q 14.5 44.390625 14.5 40.28125  Q 14.5 37.15625 16.890625 35.375  Q 19.28125 33.59375 26.515625 31.984375  L 29.59375 31.296875  Q 39.15625 29.25 43.1875 25.515625  Q 47.21875 21.78125 47.21875 15.09375  Q 47.21875 7.46875 41.1875 3.015625  Q 35.15625 -1.421875 24.609375 -1.421875  Q 20.21875 -1.421875 15.453125 -0.5625  Q 10.6875 0.296875 5.421875 2  L 5.421875 11.28125  Q 10.40625 8.6875 15.234375 7.390625  Q 20.0625 6.109375 24.8125 6.109375  Q 31.15625 6.109375 34.5625 8.28125  Q 37.984375 10.453125 37.984375 14.40625  Q 37.984375 18.0625 35.515625 20.015625  Q 33.0625 21.96875 24.703125 23.78125  L 21.578125 24.515625  Q 13.234375 26.265625 9.515625 29.90625  Q 5.8125 33.546875 5.8125 39.890625  Q 5.8125 47.609375 11.28125 51.796875  Q 16.75 56 26.8125 56  Q 31.78125 56 36.171875 55.265625  Q 40.578125 54.546875 44.28125 53.078125  z \" id=\"DejaVuSans-73\"/>\n",
       "     </defs>\n",
       "     <g transform=\"translate(275.270739 51.158437)scale(0.1 -0.1)\">\n",
       "      <use xlink:href=\"#DejaVuSans-54\"/>\n",
       "      <use x=\"60.865234\" xlink:href=\"#DejaVuSans-72\"/>\n",
       "      <use x=\"101.978516\" xlink:href=\"#DejaVuSans-61\"/>\n",
       "      <use x=\"163.257812\" xlink:href=\"#DejaVuSans-69\"/>\n",
       "      <use x=\"191.041016\" xlink:href=\"#DejaVuSans-6e\"/>\n",
       "      <use x=\"254.419922\" xlink:href=\"#DejaVuSans-69\"/>\n",
       "      <use x=\"282.203125\" xlink:href=\"#DejaVuSans-6e\"/>\n",
       "      <use x=\"345.582031\" xlink:href=\"#DejaVuSans-67\"/>\n",
       "      <use x=\"409.058594\" xlink:href=\"#DejaVuSans-20\"/>\n",
       "      <use x=\"440.845703\" xlink:href=\"#DejaVuSans-73\"/>\n",
       "      <use x=\"492.945312\" xlink:href=\"#DejaVuSans-65\"/>\n",
       "      <use x=\"554.46875\" xlink:href=\"#DejaVuSans-74\"/>\n",
       "     </g>\n",
       "    </g>\n",
       "   </g>\n",
       "  </g>\n",
       "  <g id=\"axes_2\">\n",
       "   <g id=\"patch_8\">\n",
       "    <path d=\"M 394.363636 252  L 648 252  L 648 34.56  L 394.363636 34.56  z \" style=\"fill:#ffffff;\"/>\n",
       "   </g>\n",
       "   <g id=\"matplotlib.axis_3\">\n",
       "    <g id=\"xtick_7\">\n",
       "     <g id=\"line2d_17\">\n",
       "      <g>\n",
       "       <use style=\"stroke:#000000;stroke-width:0.8;\" x=\"405.892562\" xlink:href=\"#m925e27e573\" y=\"252\"/>\n",
       "      </g>\n",
       "     </g>\n",
       "     <g id=\"text_17\">\n",
       "      <!-- 0 -->\n",
       "      <g transform=\"translate(402.711312 266.598437)scale(0.1 -0.1)\">\n",
       "       <use xlink:href=\"#DejaVuSans-30\"/>\n",
       "      </g>\n",
       "     </g>\n",
       "    </g>\n",
       "    <g id=\"xtick_8\">\n",
       "     <g id=\"line2d_18\">\n",
       "      <g>\n",
       "       <use style=\"stroke:#000000;stroke-width:0.8;\" x=\"447.558358\" xlink:href=\"#m925e27e573\" y=\"252\"/>\n",
       "      </g>\n",
       "     </g>\n",
       "     <g id=\"text_18\">\n",
       "      <!-- 500 -->\n",
       "      <g transform=\"translate(438.014608 266.598437)scale(0.1 -0.1)\">\n",
       "       <use xlink:href=\"#DejaVuSans-35\"/>\n",
       "       <use x=\"63.623047\" xlink:href=\"#DejaVuSans-30\"/>\n",
       "       <use x=\"127.246094\" xlink:href=\"#DejaVuSans-30\"/>\n",
       "      </g>\n",
       "     </g>\n",
       "    </g>\n",
       "    <g id=\"xtick_9\">\n",
       "     <g id=\"line2d_19\">\n",
       "      <g>\n",
       "       <use style=\"stroke:#000000;stroke-width:0.8;\" x=\"489.224153\" xlink:href=\"#m925e27e573\" y=\"252\"/>\n",
       "      </g>\n",
       "     </g>\n",
       "     <g id=\"text_19\">\n",
       "      <!-- 1000 -->\n",
       "      <g transform=\"translate(476.499153 266.598437)scale(0.1 -0.1)\">\n",
       "       <use xlink:href=\"#DejaVuSans-31\"/>\n",
       "       <use x=\"63.623047\" xlink:href=\"#DejaVuSans-30\"/>\n",
       "       <use x=\"127.246094\" xlink:href=\"#DejaVuSans-30\"/>\n",
       "       <use x=\"190.869141\" xlink:href=\"#DejaVuSans-30\"/>\n",
       "      </g>\n",
       "     </g>\n",
       "    </g>\n",
       "    <g id=\"xtick_10\">\n",
       "     <g id=\"line2d_20\">\n",
       "      <g>\n",
       "       <use style=\"stroke:#000000;stroke-width:0.8;\" x=\"530.889949\" xlink:href=\"#m925e27e573\" y=\"252\"/>\n",
       "      </g>\n",
       "     </g>\n",
       "     <g id=\"text_20\">\n",
       "      <!-- 1500 -->\n",
       "      <g transform=\"translate(518.164949 266.598437)scale(0.1 -0.1)\">\n",
       "       <use xlink:href=\"#DejaVuSans-31\"/>\n",
       "       <use x=\"63.623047\" xlink:href=\"#DejaVuSans-35\"/>\n",
       "       <use x=\"127.246094\" xlink:href=\"#DejaVuSans-30\"/>\n",
       "       <use x=\"190.869141\" xlink:href=\"#DejaVuSans-30\"/>\n",
       "      </g>\n",
       "     </g>\n",
       "    </g>\n",
       "    <g id=\"xtick_11\">\n",
       "     <g id=\"line2d_21\">\n",
       "      <g>\n",
       "       <use style=\"stroke:#000000;stroke-width:0.8;\" x=\"572.555744\" xlink:href=\"#m925e27e573\" y=\"252\"/>\n",
       "      </g>\n",
       "     </g>\n",
       "     <g id=\"text_21\">\n",
       "      <!-- 2000 -->\n",
       "      <g transform=\"translate(559.830744 266.598437)scale(0.1 -0.1)\">\n",
       "       <use xlink:href=\"#DejaVuSans-32\"/>\n",
       "       <use x=\"63.623047\" xlink:href=\"#DejaVuSans-30\"/>\n",
       "       <use x=\"127.246094\" xlink:href=\"#DejaVuSans-30\"/>\n",
       "       <use x=\"190.869141\" xlink:href=\"#DejaVuSans-30\"/>\n",
       "      </g>\n",
       "     </g>\n",
       "    </g>\n",
       "    <g id=\"xtick_12\">\n",
       "     <g id=\"line2d_22\">\n",
       "      <g>\n",
       "       <use style=\"stroke:#000000;stroke-width:0.8;\" x=\"614.22154\" xlink:href=\"#m925e27e573\" y=\"252\"/>\n",
       "      </g>\n",
       "     </g>\n",
       "     <g id=\"text_22\">\n",
       "      <!-- 2500 -->\n",
       "      <g transform=\"translate(601.49654 266.598437)scale(0.1 -0.1)\">\n",
       "       <use xlink:href=\"#DejaVuSans-32\"/>\n",
       "       <use x=\"63.623047\" xlink:href=\"#DejaVuSans-35\"/>\n",
       "       <use x=\"127.246094\" xlink:href=\"#DejaVuSans-30\"/>\n",
       "       <use x=\"190.869141\" xlink:href=\"#DejaVuSans-30\"/>\n",
       "      </g>\n",
       "     </g>\n",
       "    </g>\n",
       "    <g id=\"text_23\">\n",
       "     <!-- Epoch -->\n",
       "     <g transform=\"translate(505.870881 280.276563)scale(0.1 -0.1)\">\n",
       "      <use xlink:href=\"#DejaVuSans-45\"/>\n",
       "      <use x=\"63.183594\" xlink:href=\"#DejaVuSans-70\"/>\n",
       "      <use x=\"126.660156\" xlink:href=\"#DejaVuSans-6f\"/>\n",
       "      <use x=\"187.841797\" xlink:href=\"#DejaVuSans-63\"/>\n",
       "      <use x=\"242.822266\" xlink:href=\"#DejaVuSans-68\"/>\n",
       "     </g>\n",
       "    </g>\n",
       "   </g>\n",
       "   <g id=\"matplotlib.axis_4\">\n",
       "    <g id=\"ytick_8\">\n",
       "     <g id=\"line2d_23\">\n",
       "      <g>\n",
       "       <use style=\"stroke:#000000;stroke-width:0.8;\" x=\"394.363636\" xlink:href=\"#mefc638cfdd\" y=\"233.88\"/>\n",
       "      </g>\n",
       "     </g>\n",
       "     <g id=\"text_24\">\n",
       "      <!-- 0.0 -->\n",
       "      <g transform=\"translate(371.460511 237.679219)scale(0.1 -0.1)\">\n",
       "       <use xlink:href=\"#DejaVuSans-30\"/>\n",
       "       <use x=\"63.623047\" xlink:href=\"#DejaVuSans-2e\"/>\n",
       "       <use x=\"95.410156\" xlink:href=\"#DejaVuSans-30\"/>\n",
       "      </g>\n",
       "     </g>\n",
       "    </g>\n",
       "    <g id=\"ytick_9\">\n",
       "     <g id=\"line2d_24\">\n",
       "      <g>\n",
       "       <use style=\"stroke:#000000;stroke-width:0.8;\" x=\"394.363636\" xlink:href=\"#mefc638cfdd\" y=\"197.64\"/>\n",
       "      </g>\n",
       "     </g>\n",
       "     <g id=\"text_25\">\n",
       "      <!-- 0.2 -->\n",
       "      <g transform=\"translate(371.460511 201.439219)scale(0.1 -0.1)\">\n",
       "       <use xlink:href=\"#DejaVuSans-30\"/>\n",
       "       <use x=\"63.623047\" xlink:href=\"#DejaVuSans-2e\"/>\n",
       "       <use x=\"95.410156\" xlink:href=\"#DejaVuSans-32\"/>\n",
       "      </g>\n",
       "     </g>\n",
       "    </g>\n",
       "    <g id=\"ytick_10\">\n",
       "     <g id=\"line2d_25\">\n",
       "      <g>\n",
       "       <use style=\"stroke:#000000;stroke-width:0.8;\" x=\"394.363636\" xlink:href=\"#mefc638cfdd\" y=\"161.4\"/>\n",
       "      </g>\n",
       "     </g>\n",
       "     <g id=\"text_26\">\n",
       "      <!-- 0.4 -->\n",
       "      <defs>\n",
       "       <path d=\"M 37.796875 64.3125  L 12.890625 25.390625  L 37.796875 25.390625  z M 35.203125 72.90625  L 47.609375 72.90625  L 47.609375 25.390625  L 58.015625 25.390625  L 58.015625 17.1875  L 47.609375 17.1875  L 47.609375 0  L 37.796875 0  L 37.796875 17.1875  L 4.890625 17.1875  L 4.890625 26.703125  z \" id=\"DejaVuSans-34\"/>\n",
       "      </defs>\n",
       "      <g transform=\"translate(371.460511 165.199219)scale(0.1 -0.1)\">\n",
       "       <use xlink:href=\"#DejaVuSans-30\"/>\n",
       "       <use x=\"63.623047\" xlink:href=\"#DejaVuSans-2e\"/>\n",
       "       <use x=\"95.410156\" xlink:href=\"#DejaVuSans-34\"/>\n",
       "      </g>\n",
       "     </g>\n",
       "    </g>\n",
       "    <g id=\"ytick_11\">\n",
       "     <g id=\"line2d_26\">\n",
       "      <g>\n",
       "       <use style=\"stroke:#000000;stroke-width:0.8;\" x=\"394.363636\" xlink:href=\"#mefc638cfdd\" y=\"125.16\"/>\n",
       "      </g>\n",
       "     </g>\n",
       "     <g id=\"text_27\">\n",
       "      <!-- 0.6 -->\n",
       "      <defs>\n",
       "       <path d=\"M 33.015625 40.375  Q 26.375 40.375 22.484375 35.828125  Q 18.609375 31.296875 18.609375 23.390625  Q 18.609375 15.53125 22.484375 10.953125  Q 26.375 6.390625 33.015625 6.390625  Q 39.65625 6.390625 43.53125 10.953125  Q 47.40625 15.53125 47.40625 23.390625  Q 47.40625 31.296875 43.53125 35.828125  Q 39.65625 40.375 33.015625 40.375  z M 52.59375 71.296875  L 52.59375 62.3125  Q 48.875 64.0625 45.09375 64.984375  Q 41.3125 65.921875 37.59375 65.921875  Q 27.828125 65.921875 22.671875 59.328125  Q 17.53125 52.734375 16.796875 39.40625  Q 19.671875 43.65625 24.015625 45.921875  Q 28.375 48.1875 33.59375 48.1875  Q 44.578125 48.1875 50.953125 41.515625  Q 57.328125 34.859375 57.328125 23.390625  Q 57.328125 12.15625 50.6875 5.359375  Q 44.046875 -1.421875 33.015625 -1.421875  Q 20.359375 -1.421875 13.671875 8.265625  Q 6.984375 17.96875 6.984375 36.375  Q 6.984375 53.65625 15.1875 63.9375  Q 23.390625 74.21875 37.203125 74.21875  Q 40.921875 74.21875 44.703125 73.484375  Q 48.484375 72.75 52.59375 71.296875  z \" id=\"DejaVuSans-36\"/>\n",
       "      </defs>\n",
       "      <g transform=\"translate(371.460511 128.959219)scale(0.1 -0.1)\">\n",
       "       <use xlink:href=\"#DejaVuSans-30\"/>\n",
       "       <use x=\"63.623047\" xlink:href=\"#DejaVuSans-2e\"/>\n",
       "       <use x=\"95.410156\" xlink:href=\"#DejaVuSans-36\"/>\n",
       "      </g>\n",
       "     </g>\n",
       "    </g>\n",
       "    <g id=\"ytick_12\">\n",
       "     <g id=\"line2d_27\">\n",
       "      <g>\n",
       "       <use style=\"stroke:#000000;stroke-width:0.8;\" x=\"394.363636\" xlink:href=\"#mefc638cfdd\" y=\"88.92\"/>\n",
       "      </g>\n",
       "     </g>\n",
       "     <g id=\"text_28\">\n",
       "      <!-- 0.8 -->\n",
       "      <defs>\n",
       "       <path d=\"M 31.78125 34.625  Q 24.75 34.625 20.71875 30.859375  Q 16.703125 27.09375 16.703125 20.515625  Q 16.703125 13.921875 20.71875 10.15625  Q 24.75 6.390625 31.78125 6.390625  Q 38.8125 6.390625 42.859375 10.171875  Q 46.921875 13.96875 46.921875 20.515625  Q 46.921875 27.09375 42.890625 30.859375  Q 38.875 34.625 31.78125 34.625  z M 21.921875 38.8125  Q 15.578125 40.375 12.03125 44.71875  Q 8.5 49.078125 8.5 55.328125  Q 8.5 64.0625 14.71875 69.140625  Q 20.953125 74.21875 31.78125 74.21875  Q 42.671875 74.21875 48.875 69.140625  Q 55.078125 64.0625 55.078125 55.328125  Q 55.078125 49.078125 51.53125 44.71875  Q 48 40.375 41.703125 38.8125  Q 48.828125 37.15625 52.796875 32.3125  Q 56.78125 27.484375 56.78125 20.515625  Q 56.78125 9.90625 50.3125 4.234375  Q 43.84375 -1.421875 31.78125 -1.421875  Q 19.734375 -1.421875 13.25 4.234375  Q 6.78125 9.90625 6.78125 20.515625  Q 6.78125 27.484375 10.78125 32.3125  Q 14.796875 37.15625 21.921875 38.8125  z M 18.3125 54.390625  Q 18.3125 48.734375 21.84375 45.5625  Q 25.390625 42.390625 31.78125 42.390625  Q 38.140625 42.390625 41.71875 45.5625  Q 45.3125 48.734375 45.3125 54.390625  Q 45.3125 60.0625 41.71875 63.234375  Q 38.140625 66.40625 31.78125 66.40625  Q 25.390625 66.40625 21.84375 63.234375  Q 18.3125 60.0625 18.3125 54.390625  z \" id=\"DejaVuSans-38\"/>\n",
       "      </defs>\n",
       "      <g transform=\"translate(371.460511 92.719219)scale(0.1 -0.1)\">\n",
       "       <use xlink:href=\"#DejaVuSans-30\"/>\n",
       "       <use x=\"63.623047\" xlink:href=\"#DejaVuSans-2e\"/>\n",
       "       <use x=\"95.410156\" xlink:href=\"#DejaVuSans-38\"/>\n",
       "      </g>\n",
       "     </g>\n",
       "    </g>\n",
       "    <g id=\"ytick_13\">\n",
       "     <g id=\"line2d_28\">\n",
       "      <g>\n",
       "       <use style=\"stroke:#000000;stroke-width:0.8;\" x=\"394.363636\" xlink:href=\"#mefc638cfdd\" y=\"52.68\"/>\n",
       "      </g>\n",
       "     </g>\n",
       "     <g id=\"text_29\">\n",
       "      <!-- 1.0 -->\n",
       "      <g transform=\"translate(371.460511 56.479219)scale(0.1 -0.1)\">\n",
       "       <use xlink:href=\"#DejaVuSans-31\"/>\n",
       "       <use x=\"63.623047\" xlink:href=\"#DejaVuSans-2e\"/>\n",
       "       <use x=\"95.410156\" xlink:href=\"#DejaVuSans-30\"/>\n",
       "      </g>\n",
       "     </g>\n",
       "    </g>\n",
       "   </g>\n",
       "   <g id=\"line2d_29\">\n",
       "    <path clip-path=\"url(#peb29e5e4ee)\" d=\"M 405.892562 233.88  L 554.389457 233.88  L 554.55612 188.58  L 614.22154 188.58  L 614.388203 143.28  L 636.387743 143.28  L 636.471074 52.68  L 636.471074 52.68  \" style=\"fill:none;stroke:#1f77b4;stroke-linecap:square;stroke-width:1.5;\"/>\n",
       "   </g>\n",
       "   <g id=\"patch_9\">\n",
       "    <path d=\"M 394.363636 252  L 394.363636 34.56  \" style=\"fill:none;stroke:#000000;stroke-linecap:square;stroke-linejoin:miter;stroke-width:0.8;\"/>\n",
       "   </g>\n",
       "   <g id=\"patch_10\">\n",
       "    <path d=\"M 648 252  L 648 34.56  \" style=\"fill:none;stroke:#000000;stroke-linecap:square;stroke-linejoin:miter;stroke-width:0.8;\"/>\n",
       "   </g>\n",
       "   <g id=\"patch_11\">\n",
       "    <path d=\"M 394.363636 252  L 648 252  \" style=\"fill:none;stroke:#000000;stroke-linecap:square;stroke-linejoin:miter;stroke-width:0.8;\"/>\n",
       "   </g>\n",
       "   <g id=\"patch_12\">\n",
       "    <path d=\"M 394.363636 34.56  L 648 34.56  \" style=\"fill:none;stroke:#000000;stroke-linecap:square;stroke-linejoin:miter;stroke-width:0.8;\"/>\n",
       "   </g>\n",
       "   <g id=\"text_30\">\n",
       "    <!-- XOR Network: Accuracy -->\n",
       "    <defs>\n",
       "     <path d=\"M 34.1875 63.1875  L 20.796875 26.90625  L 47.609375 26.90625  z M 28.609375 72.90625  L 39.796875 72.90625  L 67.578125 0  L 57.328125 0  L 50.6875 18.703125  L 17.828125 18.703125  L 11.1875 0  L 0.78125 0  z \" id=\"DejaVuSans-41\"/>\n",
       "     <path d=\"M 8.5 21.578125  L 8.5 54.6875  L 17.484375 54.6875  L 17.484375 21.921875  Q 17.484375 14.15625 20.5 10.265625  Q 23.53125 6.390625 29.59375 6.390625  Q 36.859375 6.390625 41.078125 11.03125  Q 45.3125 15.671875 45.3125 23.6875  L 45.3125 54.6875  L 54.296875 54.6875  L 54.296875 0  L 45.3125 0  L 45.3125 8.40625  Q 42.046875 3.421875 37.71875 1  Q 33.40625 -1.421875 27.6875 -1.421875  Q 18.265625 -1.421875 13.375 4.4375  Q 8.5 10.296875 8.5 21.578125  z M 31.109375 56  z \" id=\"DejaVuSans-75\"/>\n",
       "     <path d=\"M 32.171875 -5.078125  Q 28.375 -14.84375 24.75 -17.8125  Q 21.140625 -20.796875 15.09375 -20.796875  L 7.90625 -20.796875  L 7.90625 -13.28125  L 13.1875 -13.28125  Q 16.890625 -13.28125 18.9375 -11.515625  Q 21 -9.765625 23.484375 -3.21875  L 25.09375 0.875  L 2.984375 54.6875  L 12.5 54.6875  L 29.59375 11.921875  L 46.6875 54.6875  L 56.203125 54.6875  z \" id=\"DejaVuSans-79\"/>\n",
       "    </defs>\n",
       "    <g transform=\"translate(449.800568 28.56)scale(0.12 -0.12)\">\n",
       "     <use xlink:href=\"#DejaVuSans-58\"/>\n",
       "     <use x=\"68.412109\" xlink:href=\"#DejaVuSans-4f\"/>\n",
       "     <use x=\"147.123047\" xlink:href=\"#DejaVuSans-52\"/>\n",
       "     <use x=\"216.605469\" xlink:href=\"#DejaVuSans-20\"/>\n",
       "     <use x=\"248.392578\" xlink:href=\"#DejaVuSans-4e\"/>\n",
       "     <use x=\"323.197266\" xlink:href=\"#DejaVuSans-65\"/>\n",
       "     <use x=\"384.720703\" xlink:href=\"#DejaVuSans-74\"/>\n",
       "     <use x=\"423.929688\" xlink:href=\"#DejaVuSans-77\"/>\n",
       "     <use x=\"505.716797\" xlink:href=\"#DejaVuSans-6f\"/>\n",
       "     <use x=\"566.898438\" xlink:href=\"#DejaVuSans-72\"/>\n",
       "     <use x=\"608.011719\" xlink:href=\"#DejaVuSans-6b\"/>\n",
       "     <use x=\"665.921875\" xlink:href=\"#DejaVuSans-3a\"/>\n",
       "     <use x=\"699.613281\" xlink:href=\"#DejaVuSans-20\"/>\n",
       "     <use x=\"731.400391\" xlink:href=\"#DejaVuSans-41\"/>\n",
       "     <use x=\"799.792969\" xlink:href=\"#DejaVuSans-63\"/>\n",
       "     <use x=\"854.773438\" xlink:href=\"#DejaVuSans-63\"/>\n",
       "     <use x=\"909.753906\" xlink:href=\"#DejaVuSans-75\"/>\n",
       "     <use x=\"973.132812\" xlink:href=\"#DejaVuSans-72\"/>\n",
       "     <use x=\"1014.246094\" xlink:href=\"#DejaVuSans-61\"/>\n",
       "     <use x=\"1075.525391\" xlink:href=\"#DejaVuSans-63\"/>\n",
       "     <use x=\"1130.505859\" xlink:href=\"#DejaVuSans-79\"/>\n",
       "    </g>\n",
       "   </g>\n",
       "   <g id=\"legend_2\">\n",
       "    <g id=\"patch_13\">\n",
       "     <path d=\"M 401.363636 57.238125  L 492.729261 57.238125  Q 494.729261 57.238125 494.729261 55.238125  L 494.729261 41.56  Q 494.729261 39.56 492.729261 39.56  L 401.363636 39.56  Q 399.363636 39.56 399.363636 41.56  L 399.363636 55.238125  Q 399.363636 57.238125 401.363636 57.238125  z \" style=\"fill:#ffffff;opacity:0.8;stroke:#cccccc;stroke-linejoin:miter;\"/>\n",
       "    </g>\n",
       "    <g id=\"line2d_30\">\n",
       "     <path d=\"M 403.363636 47.658437  L 423.363636 47.658437  \" style=\"fill:none;stroke:#1f77b4;stroke-linecap:square;stroke-width:1.5;\"/>\n",
       "    </g>\n",
       "    <g id=\"line2d_31\"/>\n",
       "    <g id=\"text_31\">\n",
       "     <!-- Training set -->\n",
       "     <g transform=\"translate(431.363636 51.158437)scale(0.1 -0.1)\">\n",
       "      <use xlink:href=\"#DejaVuSans-54\"/>\n",
       "      <use x=\"60.865234\" xlink:href=\"#DejaVuSans-72\"/>\n",
       "      <use x=\"101.978516\" xlink:href=\"#DejaVuSans-61\"/>\n",
       "      <use x=\"163.257812\" xlink:href=\"#DejaVuSans-69\"/>\n",
       "      <use x=\"191.041016\" xlink:href=\"#DejaVuSans-6e\"/>\n",
       "      <use x=\"254.419922\" xlink:href=\"#DejaVuSans-69\"/>\n",
       "      <use x=\"282.203125\" xlink:href=\"#DejaVuSans-6e\"/>\n",
       "      <use x=\"345.582031\" xlink:href=\"#DejaVuSans-67\"/>\n",
       "      <use x=\"409.058594\" xlink:href=\"#DejaVuSans-20\"/>\n",
       "      <use x=\"440.845703\" xlink:href=\"#DejaVuSans-73\"/>\n",
       "      <use x=\"492.945312\" xlink:href=\"#DejaVuSans-65\"/>\n",
       "      <use x=\"554.46875\" xlink:href=\"#DejaVuSans-74\"/>\n",
       "     </g>\n",
       "    </g>\n",
       "   </g>\n",
       "  </g>\n",
       " </g>\n",
       " <defs>\n",
       "  <clipPath id=\"p243d6dfd53\">\n",
       "   <rect height=\"217.44\" width=\"253.636364\" x=\"90\" y=\"34.56\"/>\n",
       "  </clipPath>\n",
       "  <clipPath id=\"peb29e5e4ee\">\n",
       "   <rect height=\"217.44\" width=\"253.636364\" x=\"394.363636\" y=\"34.56\"/>\n",
       "  </clipPath>\n",
       " </defs>\n",
       "</svg>"
      ],
      "text/plain": [
       "<IPython.core.display.SVG object>"
      ]
     },
     "metadata": {},
     "output_type": "display_data"
    },
    {
     "name": "stdout",
     "output_type": "stream",
     "text": [
      "========================================================================\n",
      "       |  Training |  Training \n",
      "Epochs |     Error |  Accuracy \n",
      "------ | --------- | --------- \n",
      "# 2767 |   0.00764 |   1.00000 \n"
     ]
    }
   ],
   "source": [
    "net.reset()\n",
    "net.retrain(epochs=10000)"
   ]
  },
  {
   "cell_type": "markdown",
   "metadata": {},
   "source": [
    "### Step 8: test the network"
   ]
  },
  {
   "cell_type": "code",
   "execution_count": 15,
   "metadata": {},
   "outputs": [
    {
     "name": "stdout",
     "output_type": "stream",
     "text": [
      "========================================================\n",
      "Testing validation dataset with tolerance 0.1...\n",
      "Total count: 4\n",
      "      correct: 4\n",
      "      incorrect: 0\n",
      "Total percentage correct: 1.0\n"
     ]
    }
   ],
   "source": [
    "net.test()"
   ]
  },
  {
   "cell_type": "markdown",
   "metadata": {},
   "source": [
    "To see all of these activations flow through the network diagram above, you can run the following:"
   ]
  },
  {
   "cell_type": "code",
   "execution_count": 16,
   "metadata": {},
   "outputs": [],
   "source": [
    "for pattern in net.dataset.inputs:\n",
    "    net.propagate(pattern)"
   ]
  },
  {
   "cell_type": "markdown",
   "metadata": {},
   "source": [
    "## conx options"
   ]
  },
  {
   "cell_type": "markdown",
   "metadata": {},
   "source": [
    "### Propagation enhancements\n",
    "\n",
    "There are five ways to propagate activations through the network:\n",
    "\n",
    "* Network.propagate(`inputs`) - propagate these inputs through the network\n",
    "* Network.propagate_to(`inputs`) - propagate these inputs to this bank (gets encoding)\n",
    "* Network.propagate_from(`bank-name`, `activations`) - propagate the activations from `bank-name` to outputs\n",
    "* Network.propagate_to_image(`bank-name`, `activations`, scale=SCALE)\n",
    "* Network.propagate_to_features(`bank-name`, `activations`, scale=SCALE)\n",
    "\n",
    "Note:\n",
    "\n",
    "All of the propagate methods will visualize their activations in any non-snapshot network image in the notebook."
   ]
  },
  {
   "cell_type": "code",
   "execution_count": 17,
   "metadata": {},
   "outputs": [
    {
     "data": {
      "text/plain": [
       "[0.12489283]"
      ]
     },
     "execution_count": 17,
     "metadata": {},
     "output_type": "execute_result"
    }
   ],
   "source": [
    "net.propagate_from(\"hidden1\", [0, 1, 0, 0, 1])"
   ]
  },
  {
   "cell_type": "code",
   "execution_count": 18,
   "metadata": {},
   "outputs": [
    {
     "data": {
      "text/plain": [
       "[0.0, 0.0, 0.005599947180598974, 0.09984195232391357, 0.015469783917069435]"
      ]
     },
     "execution_count": 18,
     "metadata": {},
     "output_type": "execute_result"
    }
   ],
   "source": [
    "net.propagate_to(\"hidden1\", [0.5, 0.5])"
   ]
  },
  {
   "cell_type": "code",
   "execution_count": 19,
   "metadata": {},
   "outputs": [
    {
     "data": {
      "text/plain": [
       "[0.0, 0.0, 0.0, 0.6320051550865173, 0.5001845359802246]"
      ]
     },
     "execution_count": 19,
     "metadata": {},
     "output_type": "execute_result"
    }
   ],
   "source": [
    "net.propagate_to(\"hidden1\", [0.1, 0.4])"
   ]
  },
  {
   "cell_type": "markdown",
   "metadata": {},
   "source": [
    "There is also a propagate_to_image() that takes a bank name, and inputs."
   ]
  },
  {
   "cell_type": "code",
   "execution_count": 20,
   "metadata": {},
   "outputs": [
    {
     "data": {
      "image/png": "[encoded data removed]",
      "text/plain": [
       "<PIL.Image.Image image mode=RGBA size=500x100 at 0x7FE9B4F42278>"
      ]
     },
     "execution_count": 20,
     "metadata": {},
     "output_type": "execute_result"
    }
   ],
   "source": [
    "net.propagate_to_image(\"hidden1\", [0.1, 0.4]).resize((500, 100))"
   ]
  },
  {
   "cell_type": "markdown",
   "metadata": {},
   "source": [
    "### Plotting options\n",
    "\n",
    "You can plot the following values from the training history:\n",
    "\n",
    "* \"loss\" - error measure (eg, \"mse\", mean square error)\n",
    "* \"acc\" - the accuracy of the training set\n",
    "\n",
    "You can plot any subset of the above on the same plot:"
   ]
  },
  {
   "cell_type": "code",
   "execution_count": 21,
   "metadata": {},
   "outputs": [
    {
     "data": {
      "image/png": "[encoded data removed]",
      "text/plain": [
       "<matplotlib.figure.Figure at 0x7fe9cc30ca90>"
      ]
     },
     "metadata": {},
     "output_type": "display_data"
    }
   ],
   "source": [
    "net.plot([\"acc\", \"loss\"])"
   ]
  },
  {
   "cell_type": "markdown",
   "metadata": {},
   "source": [
    "You can also see the activations at a particular unit, given a range of input values for two input units. Since this network has only two inputs, and one output, we can see the entire input and output ranges:"
   ]
  },
  {
   "cell_type": "code",
   "execution_count": 22,
   "metadata": {},
   "outputs": [
    {
     "data": {
      "image/png": "[encoded data removed]",
      "text/plain": [
       "<matplotlib.figure.Figure at 0x7fe9b5381eb8>"
      ]
     },
     "metadata": {},
     "output_type": "display_data"
    },
    {
     "data": {
      "image/png": "[encoded data removed]",
      "text/plain": [
       "<matplotlib.figure.Figure at 0x7fe9b4e0cf28>"
      ]
     },
     "metadata": {},
     "output_type": "display_data"
    },
    {
     "data": {
      "image/png": "[encoded data removed]",
      "text/plain": [
       "<matplotlib.figure.Figure at 0x7fe9b4d469b0>"
      ]
     },
     "metadata": {},
     "output_type": "display_data"
    },
    {
     "data": {
      "image/png": "[encoded data removed]",
      "text/plain": [
       "<matplotlib.figure.Figure at 0x7fe9c04e5278>"
      ]
     },
     "metadata": {},
     "output_type": "display_data"
    },
    {
     "data": {
      "image/png": "[encoded data removed]",
      "text/plain": [
       "<matplotlib.figure.Figure at 0x7fe9c049e048>"
      ]
     },
     "metadata": {},
     "output_type": "display_data"
    }
   ],
   "source": [
    "for i in range(net[\"hidden1\"].size):\n",
    "    net.plot_activation_map(from_layer=\"input1\", from_units=(0,1),\n",
    "                            to_layer=\"hidden1\", to_unit=i)"
   ]
  },
  {
   "cell_type": "code",
   "execution_count": 23,
   "metadata": {},
   "outputs": [
    {
     "data": {
      "image/png": "[encoded data removed]",
      "text/plain": [
       "<matplotlib.figure.Figure at 0x7fe9b75127b8>"
      ]
     },
     "metadata": {},
     "output_type": "display_data"
    }
   ],
   "source": [
    "net.plot_activation_map(from_layer=\"input1\", from_units=(0,1),\n",
    "                        to_layer=\"output1\", to_unit=0)"
   ]
  }
 ],
 "metadata": {
  "kernelspec": {
   "display_name": "Python 3",
   "language": "python",
   "name": "python3"
  },
  "language_info": {
   "codemirror_mode": {
    "name": "ipython",
    "version": 3
   },
   "file_extension": ".py",
   "mimetype": "text/x-python",
   "name": "python",
   "nbconvert_exporter": "python",
   "pygments_lexer": "ipython3",
   "version": "3.6.3"
  },
  "widgets": {
   "application/vnd.jupyter.widget-state+json": {
    "state": {
     "001fcba633fa4f1e849e3e2e5f740518": {
      "model_module": "@jupyter-widgets/controls",
      "model_module_version": "1.1.0",
      "model_name": "ButtonStyleModel",
      "state": {}
     },
     "00785c97b9794c4d9e9d6a324b15f05d": {
      "model_module": "@jupyter-widgets/controls",
      "model_module_version": "1.1.0",
      "model_name": "LabelModel",
      "state": {
       "layout": "IPY_MODEL_e6b05a5185364b1086f512ee5cb048d1",
       "style": "IPY_MODEL_799072e3627140e7904e2705536850d5",
       "value": "of 4"
      }
     },
     "00ae513b7b374228b58fa23723c06048": {
      "model_module": "@jupyter-widgets/base",
      "model_module_version": "1.0.0",
      "model_name": "LayoutModel",
      "state": {
       "width": "100%"
      }
     },
     "0128c0a1a0244c90aa207f6963d92c14": {
      "model_module": "@jupyter-widgets/base",
      "model_module_version": "1.0.0",
      "model_name": "LayoutModel",
      "state": {
       "width": "100%"
      }
     },
     "0169d3a3fc6f45a9a227e73e7898c690": {
      "model_module": "@jupyter-widgets/base",
      "model_module_version": "1.0.0",
      "model_name": "LayoutModel",
      "state": {}
     },
     "016cd6df1d57493d8f8f33daf69edf24": {
      "model_module": "@jupyter-widgets/base",
      "model_module_version": "1.0.0",
      "model_name": "LayoutModel",
      "state": {
       "width": "100%"
      }
     },
     "01937789465445cc92c7f5877c3d6aa0": {
      "model_module": "@jupyter-widgets/controls",
      "model_module_version": "1.1.0",
      "model_name": "DescriptionStyleModel",
      "state": {
       "description_width": ""
      }
     },
     "023fba05debc455995b4cf53880ddef2": {
      "model_module": "@jupyter-widgets/controls",
      "model_module_version": "1.1.0",
      "model_name": "SelectModel",
      "state": {
       "_options_labels": [
        "input1",
        "hidden1",
        "output1"
       ],
       "description": "Layer:",
       "index": 2,
       "layout": "IPY_MODEL_f5821bdfdfd04918ba46af5a6db53cd0",
       "rows": 1,
       "style": "IPY_MODEL_79ab389bc61c452b87c2603af4e5b816"
      }
     },
     "025b71b1c24149bcaadc2055faac56c5": {
      "model_module": "@jupyter-widgets/base",
      "model_module_version": "1.0.0",
      "model_name": "LayoutModel",
      "state": {}
     },
     "027937c2924f4b95aa7256b7647ac7db": {
      "model_module": "@jupyter-widgets/controls",
      "model_module_version": "1.1.0",
      "model_name": "IntTextModel",
      "state": {
       "description": "Vertical space between layers:",
       "layout": "IPY_MODEL_a8347632723543fab2507dee46c04d36",
       "step": 1,
       "style": "IPY_MODEL_5d3cdec372a143698cd27b2fea26981e",
       "value": 30
      }
     },
     "02eca19e11c44de3a7bb86eef649a02f": {
      "model_module": "@jupyter-widgets/controls",
      "model_module_version": "1.1.0",
      "model_name": "ButtonModel",
      "state": {
       "icon": "fast-forward",
       "layout": "IPY_MODEL_f6e0ac6fdcf742428e3ba59195435956",
       "style": "IPY_MODEL_306a49ce04c94d038fdf67eff829b2cc"
      }
     },
     "030e971045464d2192e2bc23f08483a2": {
      "model_module": "@jupyter-widgets/controls",
      "model_module_version": "1.1.0",
      "model_name": "SliderStyleModel",
      "state": {
       "description_width": ""
      }
     },
     "03765534b79e423dbae205f13e939ba4": {
      "model_module": "@jupyter-widgets/base",
      "model_module_version": "1.0.0",
      "model_name": "LayoutModel",
      "state": {}
     },
     "03af589edf774365b99088923fd36668": {
      "model_module": "@jupyter-widgets/controls",
      "model_module_version": "1.1.0",
      "model_name": "DescriptionStyleModel",
      "state": {
       "description_width": ""
      }
     },
     "03efeb6f52854cf485dc70b32e84f594": {
      "model_module": "@jupyter-widgets/base",
      "model_module_version": "1.0.0",
      "model_name": "LayoutModel",
      "state": {
       "width": "100%"
      }
     },
     "0416976bf84b4d4ca76f3ee793132ef4": {
      "model_module": "@jupyter-widgets/controls",
      "model_module_version": "1.1.0",
      "model_name": "HTMLModel",
      "state": {
       "layout": "IPY_MODEL_8f5d1f87e0c643dbbd8ec99898d7921b",
       "style": "IPY_MODEL_0f6a044d8124478bae0d7dda53e222a6",
       "value": "<img src=\"data:image/gif;base64,R0lGODdhLAEZAIcAAH8AAP///wAAAAAAAAAAAAAAAAAAAAAAAAAAAAAAAAAAAAAAAAAAAAAAAAAAAAAAAAAAAAAAAAAAAAAAAAAAAAAAAAAAAAAAAAAAAAAAAAAAAAAAAAAAAAAAAAAAAAAAAAAAAAAAAAAAAAAAAAAAAAAAAAAAAAAAAAAAAAAAAAAAAAAAAAAAAAAAAAAAAAAAAAAAAAAAAAAAAAAAAAAAAAAAAAAAAAAAAAAAAAAAAAAAAAAAAAAAAAAAAAAAAAAAAAAAAAAAAAAAAAAAAAAAAAAAAAAAAAAAAAAAAAAAAAAAAAAAAAAAAAAAAAAAAAAAAAAAAAAAAAAAAAAAAAAAAAAAAAAAAAAAAAAAAAAAAAAAAAAAAAAAAAAAAAAAAAAAAAAAAAAAAAAAAAAAAAAAAAAAAAAAAAAAAAAAAAAAAAAAAAAAAAAAAAAAAAAAAAAAAAAAAAAAAAAAAAAAAAAAAAAAAAAAAAAAAAAAAAAAAAAAAAAAAAAAAAAAAAAAAAAAAAAAAAAAAAAAAAAAAAAAAAAAAAAAAAAAAAAAAAAAAAAAAAAAAAAAAAAAAAAAAAAAAAAAAAAAAAAAAAAAAAAAAAAAAAAAAAAAAAAAAAAAAAAAAAAAAAAAAAAAAAAAAAAAAAAAAAAAAAAAAAAAAAAAAAAAAAAAAAAAAAAAAAAAAAAAAAAAAAAAAAAAAAAAAAAAAAAAAAAAAAAAAAAAAAAAAAAAAAAAAAAAAAAAAAAAAAAAAAAAAAAAAAAAAAAAAAAAAAAAAAAAAAAAAAAAAAAAAAAAAAAAAAAAAAAAAAAAAAAAAAAAAAAAAAAAAAAAAAAAAAAAAAAAAAAAAAAAAAAAAAAAAAAAAAAAAAAAAAAAAAAAAAAAAAAAAAAAAAAAAAAAAAAAAAAAAAAAAAAAAAAAAAAAAAAAAAAAAAAAAAAAAAAAAAAAAAAAAAAAAAAAAAAAAAAAAAAAAAAAAAAAAAAAAAAAAAAAAAAAAAAAAAAAAAAAAAAAAAAAAAAAAAAAAAAAACwAAAAALAEZAEAI/wADCBxIsKDBgwgTKlzIsKHDhxAjSpxIsaLFixgBBAAAIAAAAAEAAAgAAEAAAAACAAAQAACAAAAABAAAIAAAAAEAAAgAAEAAAAACAAAQAACAAAAABAAAIAAAAAEAAAgAAEAAAAACAAAQAACAAAAABAAAIAAAAAEAAAgAAEAAAAACAAAQAACAAAAABAAAIAAAAAEAAAgAAEAAAAACAAAQAACAAAAABAAAIAAAAAEAAAgAAEAAAAACAAAQAACAAAAABAAAIAAAAAEAAAgAAEAAAAACAAAQAACAAAAABAAAIAAAAAEAAAgAAEAAAAACAAAQAACAAAAABAAAIAAAAAEAAP8IAABAAAAAAgAAEAAAgAAAAAQAACAAAAABAAAIAABAAIAAAAQAACAAAAABAAAIAABAAAAAAgAAEAAAgAAAAAQAACAAAAABAAAIAABAAAAAAgAAEAAAgAAAAAQAACAAAAABAAAIAABAAAAAAgAAEAAAgAAAAAQAACAAAAABAAAIAABAAAAAAgAAEAAAgAAAAAQAACAAAAABAAAIAABAAAAAAgAAEAAAgAAAAAQAACAAAAABAAAIAABAAAAAAgAAEAAAgAAAAAQAACAAAAABAAAIAABAAAAAAgAAEAAAgAAAAAQAACAAAAABAAAIAABAAAAAAgAAEAAAgAAAAAQAACD/AAAAAQAACAAAQAAAAAIAABAAAIAAAAAEAAAgAAAAAQAACAAAQAAAAAIAABAAAIAAAAAEAAAgAAAAAQAACAAAAMAAAAAEAAAgAAAAAQAACAAAQAAAAAIAABAAAIAAAAAEAAAgAAAAAQAACAAAQAAAAAIAABAAAIAAAAAEAAAgAAAAAQAACAAAQAAAAAIAABAAAIAAAAAEAAAgAAAAAQAACAAAQAAAAAIAABAAAIAAAAAEAAAgAAAAAQAACAAAQAAAAAIACGD3Lt68evfy7ev3L+DAggcTLmz4MOLEihczBhAAAIAAAAAEAAAgAAAAAQAACAAAQAAAAAIAABAAAIAA/wAABAAAIAAAAAEAAAgAAEAAAAACAAAQAACAAAAABAAAIAAAAAEAAAgAAEAAAAACAAAQAACAAAAABAAAIAAAAAEAAAgAAEAAAAACAAAQAACAAAAABAAAIAAAAAEAAAgAACCAAAAABAAAIAAAAAEAAAgAAEAAAAACAAAQAACAAAAABAAAIAAAAAEAAAgAAEAAAAACAAAQAACAAAAABAAAIAAAAAEAAAgAAEAAAAACAAAQAACAAAAABAAAIAAAAAEAAAgAAEAAAAACAAAQAACAAAAABAAAIAAAAAEAAAgAAEAAAAACAAAQAACAAAAABAAAIAAAAAEAAAgAAEAAAAACAP8AEAAAgAAAAAQAACAAAAABAAAIAABAAAAAAgAAEAAAgAAAAAQAACAAAAABAAAIAABAAAAAAgAAEAAAgAAAAAQAACAAAAABAAAIAABAAAAAAgAAEAAAgAAAAAQAACAAAAABAAAIAABAAAAAAgAAEAAAgAAAAAQAACAAAAABAAAIABAAgAAAAAQAACAAAAABAAAIAABAAAAAAgAAEAAAgAAAAAQAACAAAAABAAAIAABAAAAAAgAAEAAAgAAAAAQAACAAAAABAAAIAABAAAAAAgAAEAAAgAAAAAQAACAAAAABAAAIAABAAAAAAgAAEAAAgAAAAAQAACAAAAABAAAIAAD/QAAAAAIAABAAAIAAAAAEAAAgAAAAAQAACAAAQAAAAAIAABAAAIAAAAAEAAAgAAAAAQAACAAAQAAAAAIAABAAAIAAAAAEAAAgAAAAAQAACAAAQAAAAAIAABAAAIAAAAAEAAAgAAAAAQAACAAAQAAAAAIAABAAAIAAAAAEAAAgAAAAAQAACAAAQAAAAAIAABAAAIAAAAAEAAAgAAAAAQAAABgAAIAAAAAEAAAgAAAAAQAACAAAQAAAAAIAABAAAIAAAAAEAAAgAAAAAQAACAAAQAAAAAIAABAAAIAAAAAEAAAgAAAAAQAACAAAQAAAAAIAABAAAIAAAAAEAAAgAAAA/wEAAAgAAEAAAAACAAAQAACAAAAABAAAIAAAAAEAAAgAAEAAAAACAAAQAACAAAAABAAAIAAAAAEAAAgAAEAAAAACAAAQAACAAAAABAAAIAAAAAEAAAgAAEAAAAACAAAQAACAAAAABAAAIAAAAAEAAAgAAEAAAAACAAAQAACAAAAABAAAIAAAAAEAAAgAAEAAAAACAAAQAACAAAAABAAAIAAAAAEAAAgAAEAAAAACAAAQAACAAAAABAAAIAAAAAEAAAQQAACAAAAABAAAIAAAAAEAAAgAAEAAAAACAAAQAACAAAAABAAAIAAAAAEAAAgAAEAAAAACAAAQAACAAAAABP8AACAAAAABAAAIAABAAAAAAgAAEAAAgAAAAAQAACAAAAABAAAIAABAAAAAAgAAEAAAgAAAAAQAACAAAAABAAAIAABAAAAAAgAAEAAAgAAAAAQAACAAAAABAAAIAABAAAAAAgAAEAAAgAAAAAQAACAAAAABAAAIAABAAAAAAgAAEAAAgAAAAAQAACAAAAABAAAIAABAAAAAAgAAEAAAgAAAAAQAACAAAAABAAAIAABAAAAAAgAAEAAAgAAAAAQAACAAAAABAAAIAABAAAAAAgAAEAAAgAAAAAQAACAAAAABAAIAEAAAgAAAAAQAACAAAAABAAAIAABAAAAAAgAAEAD/AIAAAAAEAAAgAAAAAQAACAAAQAAAAAIAABAAAIAAAAAEAAAgAAAAAQAACAAAQAAAAAIAABAAAIAAAAAEAAAgAAAAAQAACAAAQAAAAAIAABAAAIAAAAAEAAAgAAAAAQAACAAAQAAAAAIAABAAAIAAAAAEAAAgAAAAAQAACAAAQAAAAAIAABAAAIAAAAAEAAAgAAAAAQAACAAAQAAAAAIAABAAAIAAAAAEAAAgAAAAAQAACAAAQAAAAAIAABAAAIAAAAAEAAAgAAAAAQAACAAAQAAAAAIAABAAAIAAAAAEAAAgAAAAAQAACAAAQAAAAAIAABAAAIAAAAAEAAAgAAAA/wADAAAQAACAAAAABAAAIAAAAAEAAAgAAEAAAAACAAAQAACAAAAABAAAIAAAAAEAAAgAAEAAAAACAAAQAACAAAAABAAAIAAAAAEAAAgAAEAAAAACAAAQAACAAAAABAAAIAAAAAEAAAgAAEAAAAACAAAQAACAAAAABAAAIAAAAAEAAAgAAEAAAAACAAAQAACAAAAABAAAIAAAAAEAAAgAAEAAAAACAAAQAACAAAAABAAAIAAAAAEAAAgAAEAAAAACAAAQAACAAAAABAAAIAAAAAEAAAgAAEAAAAACAAAQAACAAAAABAAAIAAAAAEAAAgAAEAAAAACAAAQAACAAAAABP8AACAAAAABAAAIAABAAAAAAgAAEAAAgAAAAAQAACAAAIAAAgAAEAAAgAAAAAQAACAAAAABAAAIAABAAAAAAgAAEAAAgAAAAAQAACAAAAABAAAIAABAAAAAAgAAEAAAgAAAAAQAACAAAAABAAAIAABAAAAAAgAAEAAAgAAAAAQAACAAAAABAAAIAABAAAAAAgAAEAAAgAAAAAQAACAAAAABAAAIAABAAAAAAgAAEAAAgAAAAAQAACAAAAABAAAIAABAAAAAAgAAEAAAgAAAAAQAACAAAAABAAAIAABAAAAAAgAAEAAAgAAAAAQAACAAAAABAAAIAABAAAAAAgAAEAD/AIAAAAAEAAAgAAAAAQAACAAAQAAAAAIAABAAAIAAAAAEAAAgAAAAAQAACAAAQAAAAAIAABAAAIAAAAAEAAAgAEAAAAIAABAAAIAAAAAEAAAgAAAAAQAACAAAQAAAAAIAABAAAIAAAAAEAAAgAAAAAQAACAAAQAAAAAIAABAAAIAAAAAEAAAgAAAAAQAACAAAQAAAAAIAABAAAIAAAAAEAAAgAAAAAQAACAAAQAAAAAIAABAAAIAAAAAEAAAgAAAAAQAACAAAQAAAAAIAABAAAIAAAAAEAAAgAAAAAQAACAAAQAAAAAIAABAAAIAAAAAEAAAgAAAAAQAACAAAQAAA/wACAAAQAACAAAAABAAAIAAAAAEAAAgAAEAAAAACAAAQAACAAAAABAAAIAAAAAEAAAgAAEAAAAACAAAQAACAAAAABAAAIAAAAAEAAAgAAEAAAAACAAAQAACAAAAABAAAAGAAAAACAAAQAACAAAAABAAAIAAAAAEAAAgAAEAAAAACAAAQAACAAAAABAAAIAAAAAEAAAgAAEAAAAACAAAQAACAAAAABAAAIAAAAAEAAAgAAEAAAAACAAAQAACAAAAABAAAIAAAAAEAAAgAAEAAAAACAAAQAACAAAAABAAAIAAAAAEAAAgAAEAAAAACAAAQAACAAAAABAAAIAAAAAEAAP8IAABAAAAAAgAAEAAAgAAAAAQAACAAAAABAAAIAABAAAAAAgAAEAAAgAAAAAQAACAAAAABAAAIAABAAAAAAgAAEAAAgAAAAAQAACAAAAABAAAIAABAAAAAAgAAEAAAgAAAAAQAACAAAAABAAAIAABAAAAAAgAAEAAAgAAAAAQAABBAAAAAAgAAEAAAgAAAAAQAACAAAAABAAAIAABAAAAAAgAAEAAAgAAAAAQAACAAAAABAAAIAABAAAAAAgAAEAAAgAAAAAQAACAAAAABAAAIAABAAAAAAgAAEAAAgAAAAAQAACAAAAABAAAIAABAAAAAAgAAEAAAgAAAAAQAACD/AAAAAQAACAAAQAAAAAIAABAAAIAAAAAEAAAgAAAAAQAACAAAQAAAAAIAABAAAIAAAAAEAAAgAAAAAQAACAAAQAAAAAIAABAAAIAAAAAEAAAgAAAAAQAACAAAQAAAAAIAABAAAIAAAAAEAAAgAAAAAQAACAAAQAAAAAIAABAAAIAAAAAEAAAgAAAAAQAACAAAQAAAAAIAABAAAIAAAAAEAAgAQAAAAAIAABAAAIAAAAAEAAAgAAAAAQAACAAAQAAAAAIAABAAAIAAAAAEAAAgAAAAAQAACAAAQAAAAAIAABAAAIAAAAAEAAAgAAAAAQAACAAAQAAAAAIAABAAAIAA/wAABAAAIAAAAAEAAAgAAEAAAAACAAAQAACAAAAABAAAIAAAAAEAAAgAAEAAAAACAAAQAACAAAAABAAAIAAAAAEAAAgAAEAAAAACAAAQAACAAAAABAAAIAAAAAEAAAgAAEAAAAACAAAQAACAAAAABAAAIAAAAAEAAAgAAEAAAAACAAAQAACAAAAABAAAIAAAAAEAAAgAAEAAAAACAAAQAACAAAAABAAAIAAAAAEAAAgAAEAAAAACAAAQAACAAAAAAAwAAEAAAAACAAAQAACAAAAABAAAIAAAAAEAAAgAAEAAAAACAAAQAACAAAAABAAAIAAAAAEAAAgAAEAAAAACAP8AEAAAgAAAAAQAACAAAAABAAAIAABAAAAAAgAAEAAAgAAAAAQAACAAAAABAAAIAABAAAAAAgAAEAAAgAAAAAQAACAAAAABAAAIAABAAAAAAgAAEAAAgAAAAAQAACAAAAABAAAIAABAAAAAAgAAEAAAgAAAAAQAACAAAAABAAAIAABAAAAAAgAAEAAAgAAAAAQAACAAAAABAAAIAABAAAAAAgAAEAAAgAAAAAQAACAAAAABAAAIAABAAAAAAgAAEAAAgAAAAAQAACAAAAABAAAIAABAAAAAAgAAEAAAgAAAAAIIAABAAAAAAgAAEAAAgAAAAAQAACAAAAABAAAIAAD/QAAAAAIAABAAAIAAAAAEAAAgAAAAAQAACAAAQAAAAAIAABAAAIAAAAAEAAAgAAAAAQAACAAAQAAAAAIAABAAAIAAAAAEAAAgAAAAAQAACAAAQAAAAAIAABAAAIAAAAAEAAAgAAAAAQAACAAAQAAAAAIAABAAAIAAAAAEAAAgAAAAAQAACAAAQAAAAAIAABAAAIAAAAAEAAAgAAAAAQAACAAAQAAAAAIAABAAAIAAAAAEAAAgAAAAAQAACAAAQAAAAAIAABAAAIAAAAAEAAAgAAAAAQAACAAAQAAAAAIAABAAAIAAAAAEAAAgAAAAAQAACAAAQAAAAAIAABAAAIAA/wABAAgAAEAAAAACAAAQAACAAAAABAAAIAAAAAEAAAgAAEAAAAACAAAQAACAAAAABAAAIAAAAAEAAAgAAEAAAAACAAAQAACAAAAABAAAIAAAAAEAAAgAAEAAAAACAAAQAACAAAAABAAAIAAAAAEAAAgAAEAAAAACAAAQAACAAAAABAAAIAAAAAEAAAgAAEAAAAACAAAQAACAAAAABAAAIAAAAAEAAAgAAEAAAAACAAAQAACAAAAABAAAIAAAAAEAAAgAAEAAAAACAAAQAACAAAAABAAAIAAAAAEAAAgAAEAAAAACAAAQAACAAAAABAAAIAAAAAEAAAgAAEAAAAACAP8AEAAAgAAAAAQAACAAAAABAAAIAABAAAAAAgAAEAAAAIABAAAIAABAAAAAAgAAEAAAgAAAAAQAACAAAAABAAAIAABAAAAAAgAAEAAAgAAAAAQAACAAAAABAAAIAABAAAAAAgAAEAAAgAAAAAQAACAAAAABAAAIAABAAAAAAgAAEAAAgAAAAAQAACAAAAABAAAIAABAAAAAAgAAEAAAgAAAAAQAACAAAAABAAAIAABAAAAAAgAAEAAAgAAAAAQAACAAAAABAAAIAABAAAAAAgAAEAAAgAAAAAQAACAAAAABAAAIAABAAAAAAgAAEAAAgAAAAAQAACAAAAABAAAIAAD/QAAAAAIAABAAAIAAAAAEAAAgAAAAAQAACAAAQAAAAAIAABAAAIAAAAAEAAAgAAAAAQAACAAAQAAAAAIAABAAAEAAAQAACAAAQAAAAAIAABAAAIAAAAAEAAAgAAAAAQAACAAAQAAAAAIAABAAAIAAAAAEAAAgAAAAAQAACAAAQAAAAAIAABAAAIAAAAAEAAAgAAAAAQAACAAAQAAAAAIAABAAAIAAAAAEAAAgAAAAAQAACAAAQAAAAAIAABAAAIAAAAAEAAAgAAAAAQAACAAAQAAAAAIAABAAAIAAAAAEAAAgAAAAAQAACAAAQAAAAAIAABAAAIAAAAAEAAAgAAAA/wEAAAgAAEAAAAACAAAQAACAAAAABAAAIAAAAAEAAAgAAEAAAAACAAAQAACAAAAABAAAIAAAAAEAAAgAAEAAAAACAAAQAACAAAAABAAAIAAAAAEAAAgAAEAAAAACAAAQACAAAAEAAAgAAEAAAAACAAAQAACAAAAABAAAIAAAAAEAAAgAAEAAAAACAAAQAACAAAAABAAAIAAAAAEAAAgAAEAAAAACAAAQAACAAAAABAAAIAAAAAEAAAgAAEAAAAACAAAQAACAAAAABAAAIAAAAAEAAAgAAEAAAAACAAAQAACAAAAABAAAIAAAAAEAAAgAAEAAAAACAAAQAACAAAAABP8AACAAAAABAAAIAABAAAAAAgAAEAAAgAAAAAQAACAAAAABAAAIAABAAAAAAgAAEAAAgAAAAAQAACAAAAABAAAIAABAAAAAAgAAEAAAgAAAAAQAACAAAAABAAAIAABAAAAAAgAAEAAAgAAAAAQAACAAAAABAAAIAABAAAAAAgAAADAAAAABAAAIAABAAAAAAgAAEAAAgAAAAAQAACAAAAABAAAIAABAAAAAAgAAEAAAgAAAAAQAACAAAAABAAAIAABAAAAAAgAAEAAAgAAAAAQAACAAAAABAAAIAABAAAAAAgAAEAAAgAAAAAQAACAAAAABAAAIAABAAAAAAgAAEAD/AIAAAAAEAAAgAAAAAQAACAAAQAAAAAIAABAAAIAAAAAEAAAgAAAAAQAACAAAQAAAAAIAABAAAIAAAAAEAAAgAAAAAQAACAAAQAAAAAIAABAAAIAAAAAEAAAgAAAAAQAACAAAQAAAAAIAABAAAIAAAAAEAAAgAAAAAQAACAAAQAAAAAIAABAAAIAAAAAEAAAgAAAAAQAACAAAQAAAAAIAAAggAAAAAQAACAAAQAAAAAIAABAAAIAAAAAEAAAgAAAAAQAACAAAQAAAAAIAABAAAIAAAAAEAAAgAAAAAQAACAAAQAAAAAIAABAAAIAAAAAEAAAgAAAAAQAACAAAQAAA/wACAAAQAACAAAAABAAAIAAAAAEAAAgAAEAAAAACAAAQAACAAAAABAAAIAAAAAEAAAgAAEAAAAACAAAQAACAAAAABAAAIAAAAAEAAAgAAEAAAAACAAAQAACAAAAABAAAIAAAAAEAAAgAAEAAAAACAAAQAACAAAAABAAAIAAAAAEAAAgAAEAAAAACAAAQAACAAAAABAAAIAAAAAEAAAgAAEAAAAACAAAQAACAAAAABAAAIAAAAAEAAAgAAEAAAAACAAQAIAAAAAEAAAgAAEAAAAACAAAQAACAAAAABAAAIAAAAAEAAAgAAEAAAAACAAAQAACAAAAABAAAIAAAAAEAAP8IAABAAAAAAgAAEAAAgAAAAAQAACAAAAABAAAIAABAAAAAAgAAEAAAgAAAAAQAACAAAAABAAAIAABAAAAAAgAAEAAAgAAAAAQAACAAAAABAAAIAABAAAAAAgAAEAAAgAAAAAQAACAAAAABAAAIAABAAAAAAgAAEAAAgAAAAAQAACAAAAABAAAIAABAAAAAAgAAEAAAgAAAAAQAACAAAAABAAAIAABAAAAAAgAAEAAAgAAAAAQAACAAAAABAAAIAABAAAAAAgAAEAAAgAAAAAQAACAAAAABAAAIAABAAAAAAAYAACAAAAABAAAIAABAAAAAAgAAEAAAgAAAAAQAACD/AAAAAQAACAAAQAAAAAIAABAAAIAAAAAEAAAgAAAAAQAACAAAQAAAAAIAABAAAIAAAAAEAAAgAAAAAQAACAAAQAAAAAIAABAAAIAAAAAEAAAgAAAAAQAACAAAQAAAAAIAABAAAIAAAAAEAAAgAAAAAQAACAAAQAAAAAIAABAAAIAAAAAEAAAgAAAAAQAACAAAQAAAAAIAABAAAIAAAAAEAAAgAAAAAQAACAAAQAAAAAIAABAAAIAAAAAEAAAgAAAAAQAACAAAQAAAAAIAABAAAIAAAAAEAAAgAAAAAQAACAAAQAAAAAIAABAAAIAAAAAEAAAgAAAAAQAACAAAQAAA/wABBAAAIAAAAAEAAAgAAEAAAAACAAAQAACAAAAABAAAIAAAAAEAAAgAAEAAAAACAAAQAACAAAAABAAAIAAAAAEAAAgAAEAAAAACAAAQAACAAAAABAAAIAAAAAEAAAgAAEAAAAACAAAQAACAAAAABAAAIAAAAAEAAAgAAEAAAAACAAAQAACAAAAABAAAIAAAAAEAAAgAAEAAAAACAAAQAACAAAAABAAAIAAAAAEAAAgAAEAAAAACAAAQAACAAAAABAAAIAAAAAEAAAgAAEAAAAACAAAQAACAAAAABAAAIAAAAAEAAAgAAEAAAAACAAAQAACAAAAABAAAIAAAAAEAAP8IAABAAAAAAgAAEAAAgAAAAAQAACAAAAABAAAIAABAAIAAAAQAACAAAAABAAAIAABAAAAAAgAAEAAAgAAAAAQAACAAAAABAAAIAABAAAAAAgAAEAAAgAAAAAQAACAAAAABAAAIAABAAAAAAgAAEAAAgAAAAAQAACAAAAABAAAIAABAAAAAAgAAEAAAgAAAAAQAACAAAAABAAAIAABAAAAAAgAAEAAAgAAAAAQAACAAAAABAAAIAABAAAAAAgAAEAAAgAAAAAQAACAAAAABAAAIAABAAAAAAgAAEAAAgAAAAAQAACAAAAABAAAIAABAAAAAAgAAEAAAgAAAAAQAACD/AAAAAQAACAAAQAAAAAIAABAAAIAAAAAEAAAgAAAAAQAACAAAQAAAAAIAABAAAIAAAAAEAAAgAAAAAQAACAAAAMAAAAAEAAAgAAAAAQAACAAAQAAAAAIAABAAAIAAAAAEAAAgAAAAAQAACAAAQAAAAAIAABBAAIAAAgAEEAAggAAAAQQACCAAQAABAAIIABBAAIAAAgAEEAAggAAAAQQACCAAQAABAAIIABBAAIAAAgAEEAAggAAAAQQACCAAQAABAAIIABBAAIAAAgAEEAAggAAAAQQACCAAQAABAAIIABBAAIAAAgAEEAAggAAAAQQACCAAQAABAAIIABBAAIAAyAIABBAAIIAAAAEEAAggAEAAAQACCAAQQACAAAIABBAAIIAAAAEEAAggAEAAAQACCAAQQACAAAIABBAAIIAAAAEEAAggAEAAAQACCAAQQACAAAIABBAAIIAAAAEEAAggACCAAAIABBAAIIAAAAEEAAggAEAAAQACCAAQQACAAAIABBAAIIAAAAEEAAggAEAAAQACCAAQQACAAAIABBAAIIAAAAEEAAggAEAAAQACCAAQQACAAAIABBAAIIAAAAEEAAggAEAAAQEBADs=\"/>"
      }
     },
     "042ce6996e76435e86126d34b7ed8b3d": {
      "model_module": "@jupyter-widgets/controls",
      "model_module_version": "1.1.0",
      "model_name": "DescriptionStyleModel",
      "state": {
       "description_width": "initial"
      }
     },
     "04d94d7f31ad475fb4f6d6f42f99a721": {
      "model_module": "@jupyter-widgets/base",
      "model_module_version": "1.0.0",
      "model_name": "LayoutModel",
      "state": {}
     },
     "051505f39ac5487b96446a15fe47d652": {
      "model_module": "@jupyter-widgets/base",
      "model_module_version": "1.0.0",
      "model_name": "LayoutModel",
      "state": {}
     },
     "0548712503b3496486b47d91984c33da": {
      "model_module": "@jupyter-widgets/controls",
      "model_module_version": "1.1.0",
      "model_name": "HBoxModel",
      "state": {
       "children": [
        "IPY_MODEL_7921ae1754be4168a4339b1a4ae80583",
        "IPY_MODEL_f11f925caa2c453b9c87a454420284d2"
       ],
       "layout": "IPY_MODEL_299e7434d5d9472098ba64443a1ecc43"
      }
     },
     "056ea70f88b74b5ab33766b87565b0fe": {
      "model_module": "@jupyter-widgets/base",
      "model_module_version": "1.0.0",
      "model_name": "LayoutModel",
      "state": {
       "width": "100px"
      }
     },
     "05a32be594a6408bbc9bc2ac4e2c37af": {
      "model_module": "@jupyter-widgets/controls",
      "model_module_version": "1.1.0",
      "model_name": "HTMLModel",
      "state": {
       "layout": "IPY_MODEL_5d37f8e684eb40a18202006115755f48",
       "style": "IPY_MODEL_8c3bff75e8504b0cb873fa17873d3431",
       "value": "<img src=\"data:image/gif;base64,R0lGODdhLAEZAIcAAH8AAP///wAAAAAAAAAAAAAAAAAAAAAAAAAAAAAAAAAAAAAAAAAAAAAAAAAAAAAAAAAAAAAAAAAAAAAAAAAAAAAAAAAAAAAAAAAAAAAAAAAAAAAAAAAAAAAAAAAAAAAAAAAAAAAAAAAAAAAAAAAAAAAAAAAAAAAAAAAAAAAAAAAAAAAAAAAAAAAAAAAAAAAAAAAAAAAAAAAAAAAAAAAAAAAAAAAAAAAAAAAAAAAAAAAAAAAAAAAAAAAAAAAAAAAAAAAAAAAAAAAAAAAAAAAAAAAAAAAAAAAAAAAAAAAAAAAAAAAAAAAAAAAAAAAAAAAAAAAAAAAAAAAAAAAAAAAAAAAAAAAAAAAAAAAAAAAAAAAAAAAAAAAAAAAAAAAAAAAAAAAAAAAAAAAAAAAAAAAAAAAAAAAAAAAAAAAAAAAAAAAAAAAAAAAAAAAAAAAAAAAAAAAAAAAAAAAAAAAAAAAAAAAAAAAAAAAAAAAAAAAAAAAAAAAAAAAAAAAAAAAAAAAAAAAAAAAAAAAAAAAAAAAAAAAAAAAAAAAAAAAAAAAAAAAAAAAAAAAAAAAAAAAAAAAAAAAAAAAAAAAAAAAAAAAAAAAAAAAAAAAAAAAAAAAAAAAAAAAAAAAAAAAAAAAAAAAAAAAAAAAAAAAAAAAAAAAAAAAAAAAAAAAAAAAAAAAAAAAAAAAAAAAAAAAAAAAAAAAAAAAAAAAAAAAAAAAAAAAAAAAAAAAAAAAAAAAAAAAAAAAAAAAAAAAAAAAAAAAAAAAAAAAAAAAAAAAAAAAAAAAAAAAAAAAAAAAAAAAAAAAAAAAAAAAAAAAAAAAAAAAAAAAAAAAAAAAAAAAAAAAAAAAAAAAAAAAAAAAAAAAAAAAAAAAAAAAAAAAAAAAAAAAAAAAAAAAAAAAAAAAAAAAAAAAAAAAAAAAAAAAAAAAAAAAAAAAAAAAAAAAAAAAAAAAAAAAAAAAAAAAAAAAAAAAAAAAAAAAAAAAAAAAAAAAAAAAAAAAAAAAAAAAAAAAAAAAAAAAAACwAAAAALAEZAEAI/wADCBxIsKDBgwgTKlzIsKHDhxAjSpxIsaLFixgBBAAAIAAAAAEAAAgAAEAAAAACAAAQAACAAAAABAAAIAAAAAEAAAgAAEAAAAACAAAQAACAAAAABAAAIAAAAAEAAAgAAEAAAAACAAAQAACAAAAABAAAIAAAAAEAAAgAAEAAAAACAAAQAACAAAAABAAAIAAAAAEAAAgAAEAAAAACAAAQAACAAAAABAAAIAAAAAEAAAgAAEAAAAACAAAQAACAAAAABAAAIAAAAAEAAAgAAEAAAAACAAAQAACAAAAABAAAIAAAAAEAAAgAAEAAAAACAAAQAACAAAAABAAAIAAAAAEAAP8IAABAAAAAAgAAEAAAgAAAAAQAACAAAAABAAAIAABAAIAAAAQAACAAAAABAAAIAABAAAAAAgAAEAAAgAAAAAQAACAAAAABAAAIAABAAAAAAgAAEAAAgAAAAAQAACAAAAABAAAIAABAAAAAAgAAEAAAgAAAAAQAACAAAAABAAAIAABAAAAAAgAAEAAAgAAAAAQAACAAAAABAAAIAABAAAAAAgAAEAAAgAAAAAQAACAAAAABAAAIAABAAAAAAgAAEAAAgAAAAAQAACAAAAABAAAIAABAAAAAAgAAEAAAgAAAAAQAACAAAAABAAAIAABAAAAAAgAAEAAAgAAAAAQAACD/AAAAAQAACAAAQAAAAAIAABAAAIAAAAAEAAAgAAAAAQAACAAAQAAAAAIAABAAAIAAAAAEAAAgAAAAAQAACAAAAMAAAAAEAAAgAAAAAQAACAAAQAAAAAIAABAAAIAAAAAEAAAgAAAAAQAACAAAQAAAAAIAABAAAIAAAAAEAAAgAAAAAQAACAAAQAAAAAIAABAAAIAAAAAEAAAgAAAAAQAACAAAQAAAAAIAABAAAIAAAAAEAAAgAAAAAQAACAAAQAAAAAIACGD3Lt68evfy7ev3L+DAggcTLmz4MOLEihczBhAAAIAAAAAEAAAgAAAAAQAACAAAQAAAAAIAABAAAIAA/wAABAAAIAAAAAEAAAgAAEAAAAACAAAQAACAAAAABAAAIAAAAAEAAAgAAEAAAAACAAAQAACAAAAABAAAIAAAAAEAAAgAAEAAAAACAAAQAACAAAAABAAAIAAAAAEAAAgAACCAAAAABAAAIAAAAAEAAAgAAEAAAAACAAAQAACAAAAABAAAIAAAAAEAAAgAAEAAAAACAAAQAACAAAAABAAAIAAAAAEAAAgAAEAAAAACAAAQAACAAAAABAAAIAAAAAEAAAgAAEAAAAACAAAQAACAAAAABAAAIAAAAAEAAAgAAEAAAAACAAAQAACAAAAABAAAIAAAAAEAAAgAAEAAAAACAP8AEAAAgAAAAAQAACAAAAABAAAIAABAAAAAAgAAEAAAgAAAAAQAACAAAAABAAAIAABAAAAAAgAAEAAAgAAAAAQAACAAAAABAAAIAABAAAAAAgAAEAAAgAAAAAQAACAAAAABAAAIAABAAAAAAgAAEAAAgAAAAAQAACAAAAABAAAIABAAgAAAAAQAACAAAAABAAAIAABAAAAAAgAAEAAAgAAAAAQAACAAAAABAAAIAABAAAAAAgAAEAAAgAAAAAQAACAAAAABAAAIAABAAAAAAgAAEAAAgAAAAAQAACAAAAABAAAIAABAAAAAAgAAEAAAgAAAAAQAACAAAAABAAAIAAD/QAAAAAIAABAAAIAAAAAEAAAgAAAAAQAACAAAQAAAAAIAABAAAIAAAAAEAAAgAAAAAQAACAAAQAAAAAIAABAAAIAAAAAEAAAgAAAAAQAACAAAQAAAAAIAABAAAIAAAAAEAAAgAAAAAQAACAAAQAAAAAIAABAAAIAAAAAEAAAgAAAAAQAACAAAQAAAAAIAABAAAIAAAAAEAAAgAAAAAQAAABgAAIAAAAAEAAAgAAAAAQAACAAAQAAAAAIAABAAAIAAAAAEAAAgAAAAAQAACAAAQAAAAAIAABAAAIAAAAAEAAAgAAAAAQAACAAAQAAAAAIAABAAAIAAAAAEAAAgAAAA/wEAAAgAAEAAAAACAAAQAACAAAAABAAAIAAAAAEAAAgAAEAAAAACAAAQAACAAAAABAAAIAAAAAEAAAgAAEAAAAACAAAQAACAAAAABAAAIAAAAAEAAAgAAEAAAAACAAAQAACAAAAABAAAIAAAAAEAAAgAAEAAAAACAAAQAACAAAAABAAAIAAAAAEAAAgAAEAAAAACAAAQAACAAAAABAAAIAAAAAEAAAgAAEAAAAACAAAQAACAAAAABAAAIAAAAAEAAAQQAACAAAAABAAAIAAAAAEAAAgAAEAAAAACAAAQAACAAAAABAAAIAAAAAEAAAgAAEAAAAACAAAQAACAAAAABP8AACAAAAABAAAIAABAAAAAAgAAEAAAgAAAAAQAACAAAAABAAAIAABAAAAAAgAAEAAAgAAAAAQAACAAAAABAAAIAABAAAAAAgAAEAAAgAAAAAQAACAAAAABAAAIAABAAAAAAgAAEAAAgAAAAAQAACAAAAABAAAIAABAAAAAAgAAEAAAgAAAAAQAACAAAAABAAAIAABAAAAAAgAAEAAAgAAAAAQAACAAAAABAAAIAABAAAAAAgAAEAAAgAAAAAQAACAAAAABAAAIAABAAAAAAgAAEAAAgAAAAAQAACAAAAABAAIAEAAAgAAAAAQAACAAAAABAAAIAABAAAAAAgAAEAD/AIAAAAAEAAAgAAAAAQAACAAAQAAAAAIAABAAAIAAAAAEAAAgAAAAAQAACAAAQAAAAAIAABAAAIAAAAAEAAAgAAAAAQAACAAAQAAAAAIAABAAAIAAAAAEAAAgAAAAAQAACAAAQAAAAAIAABAAAIAAAAAEAAAgAAAAAQAACAAAQAAAAAIAABAAAIAAAAAEAAAgAAAAAQAACAAAQAAAAAIAABAAAIAAAAAEAAAgAAAAAQAACAAAQAAAAAIAABAAAIAAAAAEAAAgAAAAAQAACAAAQAAAAAIAABAAAIAAAAAEAAAgAAAAAQAACAAAQAAAAAIAABAAAIAAAAAEAAAgAAAA/wADAAAQAACAAAAABAAAIAAAAAEAAAgAAEAAAAACAAAQAACAAAAABAAAIAAAAAEAAAgAAEAAAAACAAAQAACAAAAABAAAIAAAAAEAAAgAAEAAAAACAAAQAACAAAAABAAAIAAAAAEAAAgAAEAAAAACAAAQAACAAAAABAAAIAAAAAEAAAgAAEAAAAACAAAQAACAAAAABAAAIAAAAAEAAAgAAEAAAAACAAAQAACAAAAABAAAIAAAAAEAAAgAAEAAAAACAAAQAACAAAAABAAAIAAAAAEAAAgAAEAAAAACAAAQAACAAAAABAAAIAAAAAEAAAgAAEAAAAACAAAQAACAAAAABP8AACAAAAABAAAIAABAAAAAAgAAEAAAgAAAAAQAACAAAIAAAgAAEAAAgAAAAAQAACAAAAABAAAIAABAAAAAAgAAEAAAgAAAAAQAACAAAAABAAAIAABAAAAAAgAAEAAAgAAAAAQAACAAAAABAAAIAABAAAAAAgAAEAAAgAAAAAQAACAAAAABAAAIAABAAAAAAgAAEAAAgAAAAAQAACAAAAABAAAIAABAAAAAAgAAEAAAgAAAAAQAACAAAAABAAAIAABAAAAAAgAAEAAAgAAAAAQAACAAAAABAAAIAABAAAAAAgAAEAAAgAAAAAQAACAAAAABAAAIAABAAAAAAgAAEAD/AIAAAAAEAAAgAAAAAQAACAAAQAAAAAIAABAAAIAAAAAEAAAgAAAAAQAACAAAQAAAAAIAABAAAIAAAAAEAAAgAEAAAAIAABAAAIAAAAAEAAAgAAAAAQAACAAAQAAAAAIAABAAAIAAAAAEAAAgAAAAAQAACAAAQAAAAAIAABAAAIAAAAAEAAAgAAAAAQAACAAAQAAAAAIAABAAAIAAAAAEAAAgAAAAAQAACAAAQAAAAAIAABAAAIAAAAAEAAAgAAAAAQAACAAAQAAAAAIAABAAAIAAAAAEAAAgAAAAAQAACAAAQAAAAAIAABAAAIAAAAAEAAAgAAAAAQAACAAAQAAA/wACAAAQAACAAAAABAAAIAAAAAEAAAgAAEAAAAACAAAQAACAAAAABAAAIAAAAAEAAAgAAEAAAAACAAAQAACAAAAABAAAIAAAAAEAAAgAAEAAAAACAAAQAACAAAAABAAAAGAAAAACAAAQAACAAAAABAAAIAAAAAEAAAgAAEAAAAACAAAQAACAAAAABAAAIAAAAAEAAAgAAEAAAAACAAAQAACAAAAABAAAIAAAAAEAAAgAAEAAAAACAAAQAACAAAAABAAAIAAAAAEAAAgAAEAAAAACAAAQAACAAAAABAAAIAAAAAEAAAgAAEAAAAACAAAQAACAAAAABAAAIAAAAAEAAP8IAABAAAAAAgAAEAAAgAAAAAQAACAAAAABAAAIAABAAAAAAgAAEAAAgAAAAAQAACAAAAABAAAIAABAAAAAAgAAEAAAgAAAAAQAACAAAAABAAAIAABAAAAAAgAAEAAAgAAAAAQAACAAAAABAAAIAABAAAAAAgAAEAAAgAAAAAQAABBAAAAAAgAAEAAAgAAAAAQAACAAAAABAAAIAABAAAAAAgAAEAAAgAAAAAQAACAAAAABAAAIAABAAAAAAgAAEAAAgAAAAAQAACAAAAABAAAIAABAAAAAAgAAEAAAgAAAAAQAACAAAAABAAAIAABAAAAAAgAAEAAAgAAAAAQAACD/AAAAAQAACAAAQAAAAAIAABAAAIAAAAAEAAAgAAAAAQAACAAAQAAAAAIAABAAAIAAAAAEAAAgAAAAAQAACAAAQAAAAAIAABAAAIAAAAAEAAAgAAAAAQAACAAAQAAAAAIAABAAAIAAAAAEAAAgAAAAAQAACAAAQAAAAAIAABAAAIAAAAAEAAAgAAAAAQAACAAAQAAAAAIAABAAAIAAAAAEAAgAQAAAAAIAABAAAIAAAAAEAAAgAAAAAQAACAAAQAAAAAIAABAAAIAAAAAEAAAgAAAAAQAACAAAQAAAAAIAABAAAIAAAAAEAAAgAAAAAQAACAAAQAAAAAIAABAAAIAA/wAABAAAIAAAAAEAAAgAAEAAAAACAAAQAACAAAAABAAAIAAAAAEAAAgAAEAAAAACAAAQAACAAAAABAAAIAAAAAEAAAgAAEAAAAACAAAQAACAAAAABAAAIAAAAAEAAAgAAEAAAAACAAAQAACAAAAABAAAIAAAAAEAAAgAAEAAAAACAAAQAACAAAAABAAAIAAAAAEAAAgAAEAAAAACAAAQAACAAAAABAAAIAAAAAEAAAgAAEAAAAACAAAQAACAAAAAAAwAAEAAAAACAAAQAACAAAAABAAAIAAAAAEAAAgAAEAAAAACAAAQAACAAAAABAAAIAAAAAEAAAgAAEAAAAACAP8AEAAAgAAAAAQAACAAAAABAAAIAABAAAAAAgAAEAAAgAAAAAQAACAAAAABAAAIAABAAAAAAgAAEAAAgAAAAAQAACAAAAABAAAIAABAAAAAAgAAEAAAgAAAAAQAACAAAAABAAAIAABAAAAAAgAAEAAAgAAAAAQAACAAAAABAAAIAABAAAAAAgAAEAAAgAAAAAQAACAAAAABAAAIAABAAAAAAgAAEAAAgAAAAAQAACAAAAABAAAIAABAAAAAAgAAEAAAgAAAAAQAACAAAAABAAAIAABAAAAAAgAAEAAAgAAAAAIIAABAAAAAAgAAEAAAgAAAAAQAACAAAAABAAAIAAD/QAAAAAIAABAAAIAAAAAEAAAgAAAAAQAACAAAQAAAAAIAABAAAIAAAAAEAAAgAAAAAQAACAAAQAAAAAIAABAAAIAAAAAEAAAgAAAAAQAACAAAQAAAAAIAABAAAIAAAAAEAAAgAAAAAQAACAAAQAAAAAIAABAAAIAAAAAEAAAgAAAAAQAACAAAQAAAAAIAABAAAIAAAAAEAAAgAAAAAQAACAAAQAAAAAIAABAAAIAAAAAEAAAgAAAAAQAACAAAQAAAAAIAABAAAIAAAAAEAAAgAAAAAQAACAAAQAAAAAIAABAAAIAAAAAEAAAgAAAAAQAACAAAQAAAAAIAABAAAIAA/wABAAgAAEAAAAACAAAQAACAAAAABAAAIAAAAAEAAAgAAEAAAAACAAAQAACAAAAABAAAIAAAAAEAAAgAAEAAAAACAAAQAACAAAAABAAAIAAAAAEAAAgAAEAAAAACAAAQAACAAAAABAAAIAAAAAEAAAgAAEAAAAACAAAQAACAAAAABAAAIAAAAAEAAAgAAEAAAAACAAAQAACAAAAABAAAIAAAAAEAAAgAAEAAAAACAAAQAACAAAAABAAAIAAAAAEAAAgAAEAAAAACAAAQAACAAAAABAAAIAAAAAEAAAgAAEAAAAACAAAQAACAAAAABAAAIAAAAAEAAAgAAEAAAAACAP8AEAAAgAAAAAQAACAAAAABAAAIAABAAAAAAgAAEAAAAIABAAAIAABAAAAAAgAAEAAAgAAAAAQAACAAAAABAAAIAABAAAAAAgAAEAAAgAAAAAQAACAAAAABAAAIAABAAAAAAgAAEAAAgAAAAAQAACAAAAABAAAIAABAAAAAAgAAEAAAgAAAAAQAACAAAAABAAAIAABAAAAAAgAAEAAAgAAAAAQAACAAAAABAAAIAABAAAAAAgAAEAAAgAAAAAQAACAAAAABAAAIAABAAAAAAgAAEAAAgAAAAAQAACAAAAABAAAIAABAAAAAAgAAEAAAgAAAAAQAACAAAAABAAAIAAD/QAAAAAIAABAAAIAAAAAEAAAgAAAAAQAACAAAQAAAAAIAABAAAIAAAAAEAAAgAAAAAQAACAAAQAAAAAIAABAAAEAAAQAACAAAQAAAAAIAABAAAIAAAAAEAAAgAAAAAQAACAAAQAAAAAIAABAAAIAAAAAEAAAgAAAAAQAACAAAQAAAAAIAABAAAIAAAAAEAAAgAAAAAQAACAAAQAAAAAIAABAAAIAAAAAEAAAgAAAAAQAACAAAQAAAAAIAABAAAIAAAAAEAAAgAAAAAQAACAAAQAAAAAIAABAAAIAAAAAEAAAgAAAAAQAACAAAQAAAAAIAABAAAIAAAAAEAAAgAAAA/wEAAAgAAEAAAAACAAAQAACAAAAABAAAIAAAAAEAAAgAAEAAAAACAAAQAACAAAAABAAAIAAAAAEAAAgAAEAAAAACAAAQAACAAAAABAAAIAAAAAEAAAgAAEAAAAACAAAQACAAAAEAAAgAAEAAAAACAAAQAACAAAAABAAAIAAAAAEAAAgAAEAAAAACAAAQAACAAAAABAAAIAAAAAEAAAgAAEAAAAACAAAQAACAAAAABAAAIAAAAAEAAAgAAEAAAAACAAAQAACAAAAABAAAIAAAAAEAAAgAAEAAAAACAAAQAACAAAAABAAAIAAAAAEAAAgAAEAAAAACAAAQAACAAAAABP8AACAAAAABAAAIAABAAAAAAgAAEAAAgAAAAAQAACAAAAABAAAIAABAAAAAAgAAEAAAgAAAAAQAACAAAAABAAAIAABAAAAAAgAAEAAAgAAAAAQAACAAAAABAAAIAABAAAAAAgAAEAAAgAAAAAQAACAAAAABAAAIAABAAAAAAgAAADAAAAABAAAIAABAAAAAAgAAEAAAgAAAAAQAACAAAAABAAAIAABAAAAAAgAAEAAAgAAAAAQAACAAAAABAAAIAABAAAAAAgAAEAAAgAAAAAQAACAAAAABAAAIAABAAAAAAgAAEAAAgAAAAAQAACAAAAABAAAIAABAAAAAAgAAEAD/AIAAAAAEAAAgAAAAAQAACAAAQAAAAAIAABAAAIAAAAAEAAAgAAAAAQAACAAAQAAAAAIAABAAAIAAAAAEAAAgAAAAAQAACAAAQAAAAAIAABAAAIAAAAAEAAAgAAAAAQAACAAAQAAAAAIAABAAAIAAAAAEAAAgAAAAAQAACAAAQAAAAAIAABAAAIAAAAAEAAAgAAAAAQAACAAAQAAAAAIAAAggAAAAAQAACAAAQAAAAAIAABAAAIAAAAAEAAAgAAAAAQAACAAAQAAAAAIAABAAAIAAAAAEAAAgAAAAAQAACAAAQAAAAAIAABAAAIAAAAAEAAAgAAAAAQAACAAAQAAA/wACAAAQAACAAAAABAAAIAAAAAEAAAgAAEAAAAACAAAQAACAAAAABAAAIAAAAAEAAAgAAEAAAAACAAAQAACAAAAABAAAIAAAAAEAAAgAAEAAAAACAAAQAACAAAAABAAAIAAAAAEAAAgAAEAAAAACAAAQAACAAAAABAAAIAAAAAEAAAgAAEAAAAACAAAQAACAAAAABAAAIAAAAAEAAAgAAEAAAAACAAAQAACAAAAABAAAIAAAAAEAAAgAAEAAAAACAAQAIAAAAAEAAAgAAEAAAAACAAAQAACAAAAABAAAIAAAAAEAAAgAAEAAAAACAAAQAACAAAAABAAAIAAAAAEAAP8IAABAAAAAAgAAEAAAgAAAAAQAACAAAAABAAAIAABAAAAAAgAAEAAAgAAAAAQAACAAAAABAAAIAABAAAAAAgAAEAAAgAAAAAQAACAAAAABAAAIAABAAAAAAgAAEAAAgAAAAAQAACAAAAABAAAIAABAAAAAAgAAEAAAgAAAAAQAACAAAAABAAAIAABAAAAAAgAAEAAAgAAAAAQAACAAAAABAAAIAABAAAAAAgAAEAAAgAAAAAQAACAAAAABAAAIAABAAAAAAgAAEAAAgAAAAAQAACAAAAABAAAIAABAAAAAAAYAACAAAAABAAAIAABAAAAAAgAAEAAAgAAAAAQAACD/AAAAAQAACAAAQAAAAAIAABAAAIAAAAAEAAAgAAAAAQAACAAAQAAAAAIAABAAAIAAAAAEAAAgAAAAAQAACAAAQAAAAAIAABAAAIAAAAAEAAAgAAAAAQAACAAAQAAAAAIAABAAAIAAAAAEAAAgAAAAAQAACAAAQAAAAAIAABAAAIAAAAAEAAAgAAAAAQAACAAAQAAAAAIAABAAAIAAAAAEAAAgAAAAAQAACAAAQAAAAAIAABAAAIAAAAAEAAAgAAAAAQAACAAAQAAAAAIAABAAAIAAAAAEAAAgAAAAAQAACAAAQAAAAAIAABAAAIAAAAAEAAAgAAAAAQAACAAAQAAA/wABBAAAIAAAAAEAAAgAAEAAAAACAAAQAACAAAAABAAAIAAAAAEAAAgAAEAAAAACAAAQAACAAAAABAAAIAAAAAEAAAgAAEAAAAACAAAQAACAAAAABAAAIAAAAAEAAAgAAEAAAAACAAAQAACAAAAABAAAIAAAAAEAAAgAAEAAAAACAAAQAACAAAAABAAAIAAAAAEAAAgAAEAAAAACAAAQAACAAAAABAAAIAAAAAEAAAgAAEAAAAACAAAQAACAAAAABAAAIAAAAAEAAAgAAEAAAAACAAAQAACAAAAABAAAIAAAAAEAAAgAAEAAAAACAAAQAACAAAAABAAAIAAAAAEAAP8IAABAAAAAAgAAEAAAgAAAAAQAACAAAAABAAAIAABAAIAAAAQAACAAAAABAAAIAABAAAAAAgAAEAAAgAAAAAQAACAAAAABAAAIAABAAAAAAgAAEAAAgAAAAAQAACAAAAABAAAIAABAAAAAAgAAEAAAgAAAAAQAACAAAAABAAAIAABAAAAAAgAAEAAAgAAAAAQAACAAAAABAAAIAABAAAAAAgAAEAAAgAAAAAQAACAAAAABAAAIAABAAAAAAgAAEAAAgAAAAAQAACAAAAABAAAIAABAAAAAAgAAEAAAgAAAAAQAACAAAAABAAAIAABAAAAAAgAAEAAAgAAAAAQAACD/AAAAAQAACAAAQAAAAAIAABAAAIAAAAAEAAAgAAAAAQAACAAAQAAAAAIAABAAAIAAAAAEAAAgAAAAAQAACAAAAMAAAAAEAAAgAAAAAQAACAAAQAAAAAIAABAAAIAAAAAEAAAgAAAAAQAACAAAQAAAAAIAABBAAIAAAgAEEAAggAAAAQQACCAAQAABAAIIABBAAIAAAgAEEAAggAAAAQQACCAAQAABAAIIABBAAIAAAgAEEAAggAAAAQQACCAAQAABAAIIABBAAIAAAgAEEAAggAAAAQQACCAAQAABAAIIABBAAIAAAgAEEAAggAAAAQQACCAAQAABAAIIABBAAIAAyAIABBAAIIAAAAEEAAggAEAAAQACCAAQQACAAAIABBAAIIAAAAEEAAggAEAAAQACCAAQQACAAAIABBAAIIAAAAEEAAggAEAAAQACCAAQQACAAAIABBAAIIAAAAEEAAggACCAAAIABBAAIIAAAAEEAAggAEAAAQACCAAQQACAAAIABBAAIIAAAAEEAAggAEAAAQACCAAQQACAAAIABBAAIIAAAAEEAAggAEAAAQACCAAQQACAAAIABBAAIIAAAAEEAAggAEAAAQEBADs=\"/>"
      }
     },
     "05e5ef9e06484366aca598d2f4371c09": {
      "model_module": "@jupyter-widgets/controls",
      "model_module_version": "1.1.0",
      "model_name": "HBoxModel",
      "state": {
       "children": [
        "IPY_MODEL_bb54f79ed2eb4d8bb752d3dc92982a47",
        "IPY_MODEL_23036e3dff07463988351d0b16385554"
       ],
       "layout": "IPY_MODEL_03765534b79e423dbae205f13e939ba4"
      }
     },
     "05e879908df5433e864ee488190995dc": {
      "model_module": "@jupyter-widgets/controls",
      "model_module_version": "1.1.0",
      "model_name": "DescriptionStyleModel",
      "state": {
       "description_width": ""
      }
     },
     "05ee048a99a24530a2d0480d775f4c7e": {
      "model_module": "@jupyter-widgets/base",
      "model_module_version": "1.0.0",
      "model_name": "LayoutModel",
      "state": {}
     },
     "065b91c8706e420592933383f78a19ef": {
      "model_module": "@jupyter-widgets/controls",
      "model_module_version": "1.1.0",
      "model_name": "SliderStyleModel",
      "state": {
       "description_width": ""
      }
     },
     "0679018d02be409a8b52189939579423": {
      "model_module": "@jupyter-widgets/controls",
      "model_module_version": "1.1.0",
      "model_name": "ButtonStyleModel",
      "state": {}
     },
     "06fa247d52af489e8078f9a0f99c4f46": {
      "model_module": "@jupyter-widgets/base",
      "model_module_version": "1.0.0",
      "model_name": "LayoutModel",
      "state": {}
     },
     "0729e76b9b914f04a62b748c2309850c": {
      "model_module": "@jupyter-widgets/base",
      "model_module_version": "1.0.0",
      "model_name": "LayoutModel",
      "state": {
       "width": "100%"
      }
     },
     "0729faf686ea4d47bd79a364980a0f13": {
      "model_module": "@jupyter-widgets/controls",
      "model_module_version": "1.1.0",
      "model_name": "ButtonModel",
      "state": {
       "icon": "refresh",
       "layout": "IPY_MODEL_3e3651adae92420090ddfd65a051ab2e",
       "style": "IPY_MODEL_261f1aef8da2473ebdf63a9dd84f6a54"
      }
     },
     "07b69b86407e4ab4abdf99106786b61c": {
      "model_module": "@jupyter-widgets/controls",
      "model_module_version": "1.1.0",
      "model_name": "IntTextModel",
      "state": {
       "layout": "IPY_MODEL_1d4c032d8c8b4dbfa30c4dc0c789d907",
       "step": 1,
       "style": "IPY_MODEL_7d6d65e6338e4ac99f3a2e28bb85a5a7"
      }
     },
     "07f26da9dafa47cf9911577ab49d76a6": {
      "model_module": "@jupyter-widgets/controls",
      "model_module_version": "1.1.0",
      "model_name": "DescriptionStyleModel",
      "state": {
       "description_width": "initial"
      }
     },
     "07fe3f9fee0c4e6f8cdcb9e12b1d70da": {
      "model_module": "@jupyter-widgets/controls",
      "model_module_version": "1.1.0",
      "model_name": "CheckboxModel",
      "state": {
       "description": "Visible",
       "disabled": false,
       "layout": "IPY_MODEL_6ca4a96a067c40fb978fe14f7e7512e5",
       "style": "IPY_MODEL_c80a184ed0144daf9ebcd09eb5ac6d62",
       "value": true
      }
     },
     "080f8e06cd74460f8759eb9cb6c6f0ca": {
      "model_module": "@jupyter-widgets/controls",
      "model_module_version": "1.1.0",
      "model_name": "ButtonStyleModel",
      "state": {}
     },
     "082209f0b7a84a71ae1616d01a460efe": {
      "model_module": "@jupyter-widgets/controls",
      "model_module_version": "1.1.0",
      "model_name": "HBoxModel",
      "state": {
       "children": [
        "IPY_MODEL_5fa25e98d4a5433280d3e2ce99560605",
        "IPY_MODEL_f680098180364f5889531254cb88285a"
       ],
       "layout": "IPY_MODEL_4f0ce94b9c694bcc8067409db56e7f49"
      }
     },
     "0843675d5087437f80b17e155d847b67": {
      "model_module": "@jupyter-widgets/controls",
      "model_module_version": "1.1.0",
      "model_name": "IntTextModel",
      "state": {
       "description": "Vertical space between layers:",
       "layout": "IPY_MODEL_efdd914eb90c4ff1a0a5d4522778eed5",
       "step": 1,
       "style": "IPY_MODEL_0970d07915984070ba239af8dcfdfa00",
       "value": 30
      }
     },
     "08e86cc5769c45d4ac02d5137c31faed": {
      "model_module": "@jupyter-widgets/controls",
      "model_module_version": "1.1.0",
      "model_name": "DescriptionStyleModel",
      "state": {
       "description_width": ""
      }
     },
     "08f82bc8580742bd831e1c3c85e495db": {
      "model_module": "@jupyter-widgets/base",
      "model_module_version": "1.0.0",
      "model_name": "LayoutModel",
      "state": {
       "height": "50px",
       "width": "100%"
      }
     },
     "0916a0fa3fa241af8691f299c653ca5d": {
      "model_module": "@jupyter-widgets/base",
      "model_module_version": "1.0.0",
      "model_name": "LayoutModel",
      "state": {}
     },
     "0951a9ba0476401ca51c393ce1b4ede9": {
      "model_module": "@jupyter-widgets/controls",
      "model_module_version": "1.1.0",
      "model_name": "ButtonModel",
      "state": {
       "icon": "refresh",
       "layout": "IPY_MODEL_e4a186e4443a4111864aaacfbe6b4a94",
       "style": "IPY_MODEL_168e0543cd474dfeaa04835e4c5e5d84"
      }
     },
     "0970d07915984070ba239af8dcfdfa00": {
      "model_module": "@jupyter-widgets/controls",
      "model_module_version": "1.1.0",
      "model_name": "DescriptionStyleModel",
      "state": {
       "description_width": "initial"
      }
     },
     "097fabc428c44c2eb90ff30d1779bb8d": {
      "model_module": "@jupyter-widgets/base",
      "model_module_version": "1.0.0",
      "model_name": "LayoutModel",
      "state": {}
     },
     "0980df1a65134b91a71cf658de0e9c2e": {
      "model_module": "@jupyter-widgets/controls",
      "model_module_version": "1.1.0",
      "model_name": "ButtonModel",
      "state": {
       "icon": "forward",
       "layout": "IPY_MODEL_b3fe4494afe749febc881907f07d88f5",
       "style": "IPY_MODEL_d10adea7bacf4d1488ad5fb24e02a081"
      }
     },
     "09a6332b310d425d8cbdbd911d231c32": {
      "model_module": "@jupyter-widgets/controls",
      "model_module_version": "1.1.0",
      "model_name": "DescriptionStyleModel",
      "state": {
       "description_width": ""
      }
     },
     "09bd77e942ab4a0da3e9db513d75922d": {
      "model_module": "@jupyter-widgets/controls",
      "model_module_version": "1.1.0",
      "model_name": "ButtonModel",
      "state": {
       "icon": "backward",
       "layout": "IPY_MODEL_a74e14ab8ea54a0e9fc07a6970ded993",
       "style": "IPY_MODEL_1b33469155d449939b8676acd93d5208"
      }
     },
     "0a4c91adbb6e41c4b63c195e5eab7e0a": {
      "model_module": "@jupyter-widgets/controls",
      "model_module_version": "1.1.0",
      "model_name": "DescriptionStyleModel",
      "state": {
       "description_width": "initial"
      }
     },
     "0a7ae303cb0d4541a1a8eddf1c45446b": {
      "model_module": "@jupyter-widgets/controls",
      "model_module_version": "1.1.0",
      "model_name": "ButtonModel",
      "state": {
       "icon": "fast-forward",
       "layout": "IPY_MODEL_28b503a5429342d8a94d204273326db2",
       "style": "IPY_MODEL_38da555427e24ec1be8ebf17f325c1ca"
      }
     },
     "0aaca10a35524d7681f9b0b1366e6771": {
      "model_module": "@jupyter-widgets/controls",
      "model_module_version": "1.1.0",
      "model_name": "IntTextModel",
      "state": {
       "description": "Horizontal space between banks:",
       "layout": "IPY_MODEL_6ca4a96a067c40fb978fe14f7e7512e5",
       "step": 1,
       "style": "IPY_MODEL_0fd0208d7677447db4129cecd8e66c77",
       "value": 150
      }
     },
     "0ac52a81c75f4971906c8d94a76705bc": {
      "model_module": "@jupyter-widgets/controls",
      "model_module_version": "1.1.0",
      "model_name": "DescriptionStyleModel",
      "state": {
       "description_width": ""
      }
     },
     "0ae1e2cb780b4540821a69a4a2a35df2": {
      "model_module": "@jupyter-widgets/controls",
      "model_module_version": "1.1.0",
      "model_name": "IntTextModel",
      "state": {
       "layout": "IPY_MODEL_00ae513b7b374228b58fa23723c06048",
       "step": 1,
       "style": "IPY_MODEL_01937789465445cc92c7f5877c3d6aa0",
       "value": 1
      }
     },
     "0b19af3add6847b9a4454b1d60644307": {
      "model_module": "@jupyter-widgets/base",
      "model_module_version": "1.0.0",
      "model_name": "LayoutModel",
      "state": {}
     },
     "0b295c4f4149445faba1b8c1ce7973c5": {
      "model_module": "@jupyter-widgets/controls",
      "model_module_version": "1.1.0",
      "model_name": "AccordionModel",
      "state": {
       "_titles": {
        "0": "XOR Network"
       },
       "children": [
        "IPY_MODEL_97fe9f6f52704f6ea4449845b7ef4ff5"
       ],
       "layout": "IPY_MODEL_f37249a9c166481fa5436d4cf6fa3126",
       "selected_index": null
      }
     },
     "0ba2fce43c4d4e97b361834192d0aaaa": {
      "model_module": "@jupyter-widgets/controls",
      "model_module_version": "1.1.0",
      "model_name": "HBoxModel",
      "state": {
       "children": [
        "IPY_MODEL_6319a43b9b1548398f7f5b86b4fd4b01",
        "IPY_MODEL_fb4f21eaf4a04534a7afd8428dc013e1"
       ],
       "layout": "IPY_MODEL_287940e37f844f7aa1fb57e3f6dd6a58"
      }
     },
     "0d5e7a8313e048cf87c9b7f6577c4c20": {
      "model_module": "@jupyter-widgets/base",
      "model_module_version": "1.0.0",
      "model_name": "LayoutModel",
      "state": {}
     },
     "0dcdf5c8130d4918b5fece5ae0837904": {
      "model_module": "@jupyter-widgets/controls",
      "model_module_version": "1.1.0",
      "model_name": "DescriptionStyleModel",
      "state": {
       "description_width": ""
      }
     },
     "0dcf8233da9d4eaf915f382a7e0097e8": {
      "model_module": "@jupyter-widgets/base",
      "model_module_version": "1.0.0",
      "model_name": "LayoutModel",
      "state": {
       "width": "100%"
      }
     },
     "0e45f51a1dcb4e339a21267499929601": {
      "model_module": "@jupyter-widgets/controls",
      "model_module_version": "1.1.0",
      "model_name": "DescriptionStyleModel",
      "state": {
       "description_width": "initial"
      }
     },
     "0eb1148919ff452ebc6e352ed344d114": {
      "model_module": "@jupyter-widgets/controls",
      "model_module_version": "1.1.0",
      "model_name": "DescriptionStyleModel",
      "state": {
       "description_width": "initial"
      }
     },
     "0ecd3ae008c44a3ca20a99af715bce2f": {
      "model_module": "@jupyter-widgets/controls",
      "model_module_version": "1.1.0",
      "model_name": "FloatSliderModel",
      "state": {
       "continuous_update": false,
       "description": "Zoom",
       "layout": "IPY_MODEL_e3da93a7fca44dbea49dbe864b0eb55f",
       "max": 3,
       "min": 0.5,
       "step": 0.1,
       "style": "IPY_MODEL_065b91c8706e420592933383f78a19ef",
       "value": 1
      }
     },
     "0eddae12f0a6452aafeccb54da6a203f": {
      "model_module": "@jupyter-widgets/controls",
      "model_module_version": "1.1.0",
      "model_name": "SliderStyleModel",
      "state": {
       "description_width": ""
      }
     },
     "0f0ab7e6f524426c8780637ad4ea8350": {
      "model_module": "@jupyter-widgets/controls",
      "model_module_version": "1.1.0",
      "model_name": "DescriptionStyleModel",
      "state": {
       "description_width": ""
      }
     },
     "0f0ecd32a3904136b180b86e81f105b6": {
      "model_module": "@jupyter-widgets/controls",
      "model_module_version": "1.1.0",
      "model_name": "ButtonStyleModel",
      "state": {}
     },
     "0f6a044d8124478bae0d7dda53e222a6": {
      "model_module": "@jupyter-widgets/controls",
      "model_module_version": "1.1.0",
      "model_name": "DescriptionStyleModel",
      "state": {
       "description_width": ""
      }
     },
     "0f91738997ef4bd98c55038cc1ca7432": {
      "model_module": "@jupyter-widgets/controls",
      "model_module_version": "1.1.0",
      "model_name": "ButtonStyleModel",
      "state": {}
     },
     "0fd0208d7677447db4129cecd8e66c77": {
      "model_module": "@jupyter-widgets/controls",
      "model_module_version": "1.1.0",
      "model_name": "DescriptionStyleModel",
      "state": {
       "description_width": "initial"
      }
     },
     "0fd2943c128245eb86f78ee5c32736d7": {
      "model_module": "@jupyter-widgets/base",
      "model_module_version": "1.0.0",
      "model_name": "LayoutModel",
      "state": {}
     },
     "0fd2e1350ca14537ab5a61ca6b1ea71e": {
      "model_module": "@jupyter-widgets/controls",
      "model_module_version": "1.1.0",
      "model_name": "HBoxModel",
      "state": {
       "children": [
        "IPY_MODEL_76ce3da18454402f83a83899b2d86d2e",
        "IPY_MODEL_9e5b5f8a2cbc46b4881d3aab2015797c",
        "IPY_MODEL_83e93eb1de54495c8657991648cfd43d",
        "IPY_MODEL_a2fd7c0381544be0aafb669ce313f147",
        "IPY_MODEL_33792ae35b7348d089be1a1986b2843b",
        "IPY_MODEL_5f4addefc1254b799ba5ba4732430aef",
        "IPY_MODEL_49b4034ff3ca45a1b85f192d59e0451f"
       ],
       "layout": "IPY_MODEL_d42d820a01284fd6a6cd763b2db7b409"
      }
     },
     "0feba507e4004deab1855eeddcc3c2dc": {
      "model_module": "@jupyter-widgets/base",
      "model_module_version": "1.0.0",
      "model_name": "LayoutModel",
      "state": {
       "width": "25%"
      }
     },
     "105b27f9af4443488ea3ee51a9d7113e": {
      "model_module": "@jupyter-widgets/base",
      "model_module_version": "1.0.0",
      "model_name": "LayoutModel",
      "state": {}
     },
     "10e1a04878c3417287f70e48673b4cca": {
      "model_module": "@jupyter-widgets/controls",
      "model_module_version": "1.1.0",
      "model_name": "DescriptionStyleModel",
      "state": {
       "description_width": "initial"
      }
     },
     "10e3f25a69be438196dfe22b8c038e5c": {
      "model_module": "@jupyter-widgets/controls",
      "model_module_version": "1.1.0",
      "model_name": "ButtonStyleModel",
      "state": {}
     },
     "114cdab0e5a044afbaa16c65509a7ae2": {
      "model_module": "@jupyter-widgets/base",
      "model_module_version": "1.0.0",
      "model_name": "LayoutModel",
      "state": {
       "height": "50px",
       "width": "100%"
      }
     },
     "11868b798da242e7a5780027bcb520a5": {
      "model_module": "@jupyter-widgets/controls",
      "model_module_version": "1.1.0",
      "model_name": "FloatSliderModel",
      "state": {
       "continuous_update": false,
       "description": "Zoom",
       "layout": "IPY_MODEL_4ae244509b8e4750a2a6173c7165ae09",
       "max": 3,
       "min": 0.5,
       "step": 0.1,
       "style": "IPY_MODEL_f783eb9146694dd68cd89f88e1425880",
       "value": 1
      }
     },
     "12136f3d7f804a4a94cf8a0cc9dd0cf7": {
      "model_module": "@jupyter-widgets/base",
      "model_module_version": "1.0.0",
      "model_name": "LayoutModel",
      "state": {}
     },
     "122f74197c6843beab6271bdb9e2ddef": {
      "model_module": "@jupyter-widgets/base",
      "model_module_version": "1.0.0",
      "model_name": "LayoutModel",
      "state": {
       "width": "25%"
      }
     },
     "12788e1bb4544cc48da77aba790c5431": {
      "model_module": "@jupyter-widgets/base",
      "model_module_version": "1.0.0",
      "model_name": "LayoutModel",
      "state": {
       "width": "100%"
      }
     },
     "12956ee5bbee487985baf6f3bcbe1cc8": {
      "model_module": "@jupyter-widgets/base",
      "model_module_version": "1.0.0",
      "model_name": "LayoutModel",
      "state": {
       "width": "100%"
      }
     },
     "12caf3ac8fde4d39ae9d842d67eebf4b": {
      "model_module": "@jupyter-widgets/controls",
      "model_module_version": "1.1.0",
      "model_name": "DescriptionStyleModel",
      "state": {
       "description_width": ""
      }
     },
     "1301ed6b1aac490981c17cf75a424c0a": {
      "model_module": "@jupyter-widgets/controls",
      "model_module_version": "1.1.0",
      "model_name": "DescriptionStyleModel",
      "state": {
       "description_width": ""
      }
     },
     "1369ef24660346aab51e7c69a3a76cef": {
      "model_module": "@jupyter-widgets/controls",
      "model_module_version": "1.1.0",
      "model_name": "DescriptionStyleModel",
      "state": {
       "description_width": "initial"
      }
     },
     "13892896947e4391ac5ebb4503423368": {
      "model_module": "@jupyter-widgets/base",
      "model_module_version": "1.0.0",
      "model_name": "LayoutModel",
      "state": {
       "width": "25%"
      }
     },
     "13a11b1465cb49d489227915a3bfb63a": {
      "model_module": "@jupyter-widgets/controls",
      "model_module_version": "1.1.0",
      "model_name": "ButtonStyleModel",
      "state": {}
     },
     "13a47d92d4694db2bfe4a4b157bacd64": {
      "model_module": "@jupyter-widgets/controls",
      "model_module_version": "1.1.0",
      "model_name": "SelectModel",
      "state": {
       "_options_labels": [
        "Test",
        "Train"
       ],
       "description": "Dataset:",
       "index": 1,
       "layout": "IPY_MODEL_c272983eafd54c7f9d5bbb44a007d758",
       "rows": 1,
       "style": "IPY_MODEL_f7940d41e23c4562a0c338b7dc28beb0"
      }
     },
     "13b72a9899294ae7a4533571c9bbe821": {
      "model_module": "@jupyter-widgets/controls",
      "model_module_version": "1.1.0",
      "model_name": "IntTextModel",
      "state": {
       "description": "Horizontal space between banks:",
       "layout": "IPY_MODEL_7f571e3055f649b895d154263ff746af",
       "step": 1,
       "style": "IPY_MODEL_8314c35884e44a07926472bdb79935b8",
       "value": 150
      }
     },
     "13bc42ad0d65473da444dbdd9b08b108": {
      "model_module": "@jupyter-widgets/base",
      "model_module_version": "1.0.0",
      "model_name": "LayoutModel",
      "state": {}
     },
     "13f78f74820e4cedb8f0dec7dee884a6": {
      "model_module": "@jupyter-widgets/controls",
      "model_module_version": "1.1.0",
      "model_name": "DescriptionStyleModel",
      "state": {
       "description_width": "initial"
      }
     },
     "1436933be02d49a283f4b3fd197e9c0f": {
      "model_module": "@jupyter-widgets/controls",
      "model_module_version": "1.1.0",
      "model_name": "DescriptionStyleModel",
      "state": {
       "description_width": ""
      }
     },
     "14b692708e76458785a0f871b90cf619": {
      "model_module": "@jupyter-widgets/controls",
      "model_module_version": "1.1.0",
      "model_name": "DescriptionStyleModel",
      "state": {
       "description_width": "initial"
      }
     },
     "151620ab6de64deb95f9e88f60536f98": {
      "model_module": "@jupyter-widgets/base",
      "model_module_version": "1.0.0",
      "model_name": "LayoutModel",
      "state": {}
     },
     "15688ad27b53402a8990086b911b1493": {
      "model_module": "@jupyter-widgets/controls",
      "model_module_version": "1.1.0",
      "model_name": "FloatTextModel",
      "state": {
       "description": "Rightmost color maps to:",
       "layout": "IPY_MODEL_e980da27f1af4c86b81dc3795d315bdc",
       "step": null,
       "style": "IPY_MODEL_916d4ce49adb4bc4994ccd2e44679cd5",
       "value": 1
      }
     },
     "1584ec4a496e4a6d9ca85e64276c59fe": {
      "model_module": "@jupyter-widgets/controls",
      "model_module_version": "1.1.0",
      "model_name": "ButtonStyleModel",
      "state": {}
     },
     "15907df301de4cd18e2671679a9255db": {
      "model_module": "@jupyter-widgets/base",
      "model_module_version": "1.0.0",
      "model_name": "LayoutModel",
      "state": {}
     },
     "15afcff71cca4b21965071ba008bdf23": {
      "model_module": "@jupyter-widgets/controls",
      "model_module_version": "1.1.0",
      "model_name": "DescriptionStyleModel",
      "state": {
       "description_width": "initial"
      }
     },
     "163875c3d0ed4c7f949d094936259148": {
      "model_module": "@jupyter-widgets/controls",
      "model_module_version": "1.1.0",
      "model_name": "DescriptionStyleModel",
      "state": {
       "description_width": "initial"
      }
     },
     "164ffdae32f143b2b827ca89bbf2678f": {
      "model_module": "@jupyter-widgets/controls",
      "model_module_version": "1.1.0",
      "model_name": "SelectModel",
      "state": {
       "_options_labels": [
        "",
        "Accent",
        "Accent_r",
        "Blues",
        "Blues_r",
        "BrBG",
        "BrBG_r",
        "BuGn",
        "BuGn_r",
        "BuPu",
        "BuPu_r",
        "CMRmap",
        "CMRmap_r",
        "Dark2",
        "Dark2_r",
        "GnBu",
        "GnBu_r",
        "Greens",
        "Greens_r",
        "Greys",
        "Greys_r",
        "OrRd",
        "OrRd_r",
        "Oranges",
        "Oranges_r",
        "PRGn",
        "PRGn_r",
        "Paired",
        "Paired_r",
        "Pastel1",
        "Pastel1_r",
        "Pastel2",
        "Pastel2_r",
        "PiYG",
        "PiYG_r",
        "PuBu",
        "PuBuGn",
        "PuBuGn_r",
        "PuBu_r",
        "PuOr",
        "PuOr_r",
        "PuRd",
        "PuRd_r",
        "Purples",
        "Purples_r",
        "RdBu",
        "RdBu_r",
        "RdGy",
        "RdGy_r",
        "RdPu",
        "RdPu_r",
        "RdYlBu",
        "RdYlBu_r",
        "RdYlGn",
        "RdYlGn_r",
        "Reds",
        "Reds_r",
        "Set1",
        "Set1_r",
        "Set2",
        "Set2_r",
        "Set3",
        "Set3_r",
        "Spectral",
        "Spectral_r",
        "Vega10",
        "Vega10_r",
        "Vega20",
        "Vega20_r",
        "Vega20b",
        "Vega20b_r",
        "Vega20c",
        "Vega20c_r",
        "Wistia",
        "Wistia_r",
        "YlGn",
        "YlGnBu",
        "YlGnBu_r",
        "YlGn_r",
        "YlOrBr",
        "YlOrBr_r",
        "YlOrRd",
        "YlOrRd_r",
        "afmhot",
        "afmhot_r",
        "autumn",
        "autumn_r",
        "binary",
        "binary_r",
        "bone",
        "bone_r",
        "brg",
        "brg_r",
        "bwr",
        "bwr_r",
        "cool",
        "cool_r",
        "coolwarm",
        "coolwarm_r",
        "copper",
        "copper_r",
        "cubehelix",
        "cubehelix_r",
        "flag",
        "flag_r",
        "gist_earth",
        "gist_earth_r",
        "gist_gray",
        "gist_gray_r",
        "gist_heat",
        "gist_heat_r",
        "gist_ncar",
        "gist_ncar_r",
        "gist_rainbow",
        "gist_rainbow_r",
        "gist_stern",
        "gist_stern_r",
        "gist_yarg",
        "gist_yarg_r",
        "gnuplot",
        "gnuplot2",
        "gnuplot2_r",
        "gnuplot_r",
        "gray",
        "gray_r",
        "hot",
        "hot_r",
        "hsv",
        "hsv_r",
        "inferno",
        "inferno_r",
        "jet",
        "jet_r",
        "magma",
        "magma_r",
        "nipy_spectral",
        "nipy_spectral_r",
        "ocean",
        "ocean_r",
        "pink",
        "pink_r",
        "plasma",
        "plasma_r",
        "prism",
        "prism_r",
        "rainbow",
        "rainbow_r",
        "seismic",
        "seismic_r",
        "spectral",
        "spectral_r",
        "spring",
        "spring_r",
        "summer",
        "summer_r",
        "tab10",
        "tab10_r",
        "tab20",
        "tab20_r",
        "tab20b",
        "tab20b_r",
        "tab20c",
        "tab20c_r",
        "terrain",
        "terrain_r",
        "viridis",
        "viridis_r",
        "winter",
        "winter_r"
       ],
       "description": "Colormap:",
       "index": 0,
       "layout": "IPY_MODEL_38270298e23147efb6a67eeaa247b18e",
       "rows": 1,
       "style": "IPY_MODEL_32aa5682c553482c84e97556077ed8ca"
      }
     },
     "166399eb24c74445b0307186cc6768c9": {
      "model_module": "@jupyter-widgets/base",
      "model_module_version": "1.0.0",
      "model_name": "LayoutModel",
      "state": {}
     },
     "168e0543cd474dfeaa04835e4c5e5d84": {
      "model_module": "@jupyter-widgets/controls",
      "model_module_version": "1.1.0",
      "model_name": "ButtonStyleModel",
      "state": {}
     },
     "168e54ef225e41c3975d2e1f2554ca70": {
      "model_module": "@jupyter-widgets/base",
      "model_module_version": "1.0.0",
      "model_name": "LayoutModel",
      "state": {}
     },
     "169debcf80b4419e8542980387e26093": {
      "model_module": "@jupyter-widgets/controls",
      "model_module_version": "1.1.0",
      "model_name": "ButtonModel",
      "state": {
       "icon": "backward",
       "layout": "IPY_MODEL_47162026549149858bda013fed6702c7",
       "style": "IPY_MODEL_89ca228d19e247a090af48b4a07c82db"
      }
     },
     "16c92559965642c89ce956df474e890f": {
      "model_module": "@jupyter-widgets/controls",
      "model_module_version": "1.1.0",
      "model_name": "SliderStyleModel",
      "state": {
       "description_width": ""
      }
     },
     "1781c65e1ad7432aab043c376dbdd8be": {
      "model_module": "@jupyter-widgets/controls",
      "model_module_version": "1.1.0",
      "model_name": "DescriptionStyleModel",
      "state": {
       "description_width": "initial"
      }
     },
     "1802c748a7dc41c8bac0f58ff4b9a41b": {
      "model_module": "@jupyter-widgets/controls",
      "model_module_version": "1.1.0",
      "model_name": "FloatTextModel",
      "state": {
       "description": "Rightmost color maps to:",
       "layout": "IPY_MODEL_8299e04c52c84d3e86d4187b3f4aae6e",
       "step": null,
       "style": "IPY_MODEL_6c4ccfaf3c8c44aca507f233d1f540c1",
       "value": 1
      }
     },
     "181bfd96d7ee48f199f5530e6acfeb01": {
      "model_module": "@jupyter-widgets/controls",
      "model_module_version": "1.1.0",
      "model_name": "SelectModel",
      "state": {
       "_options_labels": [
        ""
       ],
       "description": "Features:",
       "index": 0,
       "layout": "IPY_MODEL_25ee0a15d4fc4cc994de95419fb848d0",
       "rows": 1,
       "style": "IPY_MODEL_306472fb958f483495f1d8d0ca116b4d"
      }
     },
     "1854dcc8a4524f8296b8f29ed322f374": {
      "model_module": "@jupyter-widgets/output",
      "model_module_version": "1.1.0",
      "model_name": "OutputModel",
      "state": {
       "_model_module_version": "1.1.0",
       "_view_module_version": "1.1.0",
       "layout": "IPY_MODEL_c57468f3558049ee95293f8223bf783d"
      }
     },
     "1897eb42f0a74b3f90240065bedf6a5d": {
      "model_module": "@jupyter-widgets/base",
      "model_module_version": "1.0.0",
      "model_name": "LayoutModel",
      "state": {
       "width": "25%"
      }
     },
     "18d4a0fdf0154d0fbff544c57f501e00": {
      "model_module": "@jupyter-widgets/controls",
      "model_module_version": "1.1.0",
      "model_name": "DescriptionStyleModel",
      "state": {
       "description_width": "initial"
      }
     },
     "192798c2699a432a9107c54d3eae53a8": {
      "model_module": "@jupyter-widgets/base",
      "model_module_version": "1.0.0",
      "model_name": "LayoutModel",
      "state": {
       "width": "100%"
      }
     },
     "1928f752b48b4df3a560038f460a3389": {
      "model_module": "@jupyter-widgets/controls",
      "model_module_version": "1.1.0",
      "model_name": "ButtonStyleModel",
      "state": {}
     },
     "19e793cb77ef46c7a72350a2582fc312": {
      "model_module": "@jupyter-widgets/controls",
      "model_module_version": "1.1.0",
      "model_name": "SliderStyleModel",
      "state": {
       "description_width": ""
      }
     },
     "19f6eaf945294a3ca1670f1c4fce3b32": {
      "model_module": "@jupyter-widgets/base",
      "model_module_version": "1.0.0",
      "model_name": "LayoutModel",
      "state": {}
     },
     "1a2f2170858b4c2582ee604d19886500": {
      "model_module": "@jupyter-widgets/controls",
      "model_module_version": "1.1.0",
      "model_name": "ButtonModel",
      "state": {
       "description": "Play",
       "icon": "play",
       "layout": "IPY_MODEL_3d9d708acef84f189d8847ad88de5b8c",
       "style": "IPY_MODEL_f152e003edc047b0bc9d59830eb4efc7"
      }
     },
     "1a8fe531f6de484e978d0d214040431c": {
      "model_module": "@jupyter-widgets/controls",
      "model_module_version": "1.1.0",
      "model_name": "SliderStyleModel",
      "state": {
       "description_width": ""
      }
     },
     "1b24960823f64a698440e27e740e87f7": {
      "model_module": "@jupyter-widgets/controls",
      "model_module_version": "1.1.0",
      "model_name": "ButtonStyleModel",
      "state": {}
     },
     "1b33469155d449939b8676acd93d5208": {
      "model_module": "@jupyter-widgets/controls",
      "model_module_version": "1.1.0",
      "model_name": "ButtonStyleModel",
      "state": {}
     },
     "1b38e791573641319e6b2b54f7e55161": {
      "model_module": "@jupyter-widgets/controls",
      "model_module_version": "1.1.0",
      "model_name": "DescriptionStyleModel",
      "state": {
       "description_width": ""
      }
     },
     "1b722770659c476fb71bdd0c7c692c16": {
      "model_module": "@jupyter-widgets/base",
      "model_module_version": "1.0.0",
      "model_name": "LayoutModel",
      "state": {}
     },
     "1b7305139fb044ef845dfeb258005b2f": {
      "model_module": "@jupyter-widgets/controls",
      "model_module_version": "1.1.0",
      "model_name": "FloatSliderModel",
      "state": {
       "continuous_update": false,
       "description": "Zoom",
       "layout": "IPY_MODEL_a28b9a2a33b74aa5be3d6b655c583d98",
       "max": 3,
       "min": 0.5,
       "step": 0.1,
       "style": "IPY_MODEL_c21f43be3e294e208bcefe42861f40e8",
       "value": 1
      }
     },
     "1bbb06d239b743eb8df849a2b8ffe01f": {
      "model_module": "@jupyter-widgets/controls",
      "model_module_version": "1.1.0",
      "model_name": "VBoxModel",
      "state": {
       "children": [
        "IPY_MODEL_d4fa5900607c4a73ab0d5244355838cd",
        "IPY_MODEL_46e3437263ba4f70a2071396b0b6a37f"
       ],
       "layout": "IPY_MODEL_f200b774289b4a01b613744b27e58bbe"
      }
     },
     "1bd3e83004714078878b300e9ba52f17": {
      "model_module": "@jupyter-widgets/controls",
      "model_module_version": "1.1.0",
      "model_name": "DescriptionStyleModel",
      "state": {
       "description_width": "initial"
      }
     },
     "1c4a862ac2774a57b07f261b888d3144": {
      "model_module": "@jupyter-widgets/controls",
      "model_module_version": "1.1.0",
      "model_name": "IntTextModel",
      "state": {
       "description": "Horizontal space between banks:",
       "layout": "IPY_MODEL_eae8e1880df84ef9b58e171b94c81865",
       "step": 1,
       "style": "IPY_MODEL_62f64a4957594711b0f03eeb7404be4b",
       "value": 150
      }
     },
     "1d4c032d8c8b4dbfa30c4dc0c789d907": {
      "model_module": "@jupyter-widgets/base",
      "model_module_version": "1.0.0",
      "model_name": "LayoutModel",
      "state": {
       "width": "100%"
      }
     },
     "1d57314b536e4fdcbc8aa34e1ee2f45b": {
      "model_module": "@jupyter-widgets/controls",
      "model_module_version": "1.1.0",
      "model_name": "SelectModel",
      "state": {
       "_options_labels": [
        ""
       ],
       "description": "Features:",
       "index": 0,
       "layout": "IPY_MODEL_b2a5ad1f61dc4ac6aa46d72d82ecab5a",
       "rows": 1,
       "style": "IPY_MODEL_8b726c5a269a4baaa0f305578d362fec"
      }
     },
     "1d822192a81d45919ff68c9ffc1a3d81": {
      "model_module": "@jupyter-widgets/base",
      "model_module_version": "1.0.0",
      "model_name": "LayoutModel",
      "state": {}
     },
     "1e0bb93f397541ff82ae2c17ab8d660a": {
      "model_module": "@jupyter-widgets/controls",
      "model_module_version": "1.1.0",
      "model_name": "SelectModel",
      "state": {
       "_options_labels": [
        "Test",
        "Train"
       ],
       "description": "Dataset:",
       "index": 1,
       "layout": "IPY_MODEL_c8023012d5e043edbf4c918ebff54b83",
       "rows": 1,
       "style": "IPY_MODEL_533409c8f7cf406c860875c74519c189"
      }
     },
     "1e20e8913c244e028f56e7bc84e3abe0": {
      "model_module": "@jupyter-widgets/controls",
      "model_module_version": "1.1.0",
      "model_name": "HBoxModel",
      "state": {
       "children": [
        "IPY_MODEL_561bc14c1d6445f88bd574ebd08ab4ed",
        "IPY_MODEL_fa3b54a5292b4a148218e263a0b17496"
       ],
       "layout": "IPY_MODEL_afc4910b1e1040ef93737a4f81d1f21b"
      }
     },
     "1e3e291737d84bf28d39612ed3bc97a3": {
      "model_module": "@jupyter-widgets/base",
      "model_module_version": "1.0.0",
      "model_name": "LayoutModel",
      "state": {}
     },
     "1e3fedd2465b43f4952557038ad1abc4": {
      "model_module": "@jupyter-widgets/controls",
      "model_module_version": "1.1.0",
      "model_name": "FloatTextModel",
      "state": {
       "description": "Leftmost color maps to:",
       "layout": "IPY_MODEL_4f11049f59fb4d6a95ff1eb072a945b3",
       "step": null,
       "style": "IPY_MODEL_a4f27924d9314a6fa5e11e550147f0b7",
       "value": -1
      }
     },
     "1e48782583b2407fbd32547d86114c7a": {
      "model_module": "@jupyter-widgets/controls",
      "model_module_version": "1.1.0",
      "model_name": "IntTextModel",
      "state": {
       "description": "Vertical space between layers:",
       "layout": "IPY_MODEL_34fcf6cc8f624e2aa927178dcec232aa",
       "step": 1,
       "style": "IPY_MODEL_f63570b4ca7149ee9ae70be31f32b362",
       "value": 30
      }
     },
     "1e86702600f742e6ad322124a315c21d": {
      "model_module": "@jupyter-widgets/controls",
      "model_module_version": "1.1.0",
      "model_name": "IntTextModel",
      "state": {
       "layout": "IPY_MODEL_4441e4870c0943b38a9ac4d9de4dca7a",
       "step": 1,
       "style": "IPY_MODEL_954d7f77400344068b5ffa6d6c745fa6"
      }
     },
     "1e9029e138844b61bfc72888ebb9c5f0": {
      "model_module": "@jupyter-widgets/output",
      "model_module_version": "1.1.0",
      "model_name": "OutputModel",
      "state": {
       "_model_module_version": "1.1.0",
       "_view_module_version": "1.1.0",
       "layout": "IPY_MODEL_d8035ec8cbe8416e97a50e2385200767"
      }
     },
     "1e997a2609184bbaa39067e3386a060f": {
      "model_module": "@jupyter-widgets/controls",
      "model_module_version": "1.1.0",
      "model_name": "HTMLModel",
      "state": {
       "layout": "IPY_MODEL_a3eb89da99a44fa7874dff56fcdc103e",
       "style": "IPY_MODEL_2cae6369956f4a4e8514a7ddc5eadc0e",
       "value": "<img src=\"data:image/gif;base64,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\"/>"
      }
     },
     "1eee056fe5eb42faaced0724fff7512f": {
      "model_module": "@jupyter-widgets/controls",
      "model_module_version": "1.1.0",
      "model_name": "FloatSliderModel",
      "state": {
       "continuous_update": false,
       "description": "Zoom",
       "layout": "IPY_MODEL_9a8b90d760bc470cafc86b8cf346afe7",
       "max": 3,
       "min": 0.5,
       "step": 0.1,
       "style": "IPY_MODEL_fc0eea8bfa8646ae9c3b75247b430ef8",
       "value": 1
      }
     },
     "1fb2401df71f4a06b62085c5ca88b76b": {
      "model_module": "@jupyter-widgets/controls",
      "model_module_version": "1.1.0",
      "model_name": "ButtonStyleModel",
      "state": {}
     },
     "1fcd2f58c8334677a1e965c4feb585cf": {
      "model_module": "@jupyter-widgets/base",
      "model_module_version": "1.0.0",
      "model_name": "LayoutModel",
      "state": {}
     },
     "2020822ea6d142efb92ec8f0d0aa7367": {
      "model_module": "@jupyter-widgets/controls",
      "model_module_version": "1.1.0",
      "model_name": "DescriptionStyleModel",
      "state": {
       "description_width": ""
      }
     },
     "202fe30717b74da6868a8e8530d348df": {
      "model_module": "@jupyter-widgets/controls",
      "model_module_version": "1.1.0",
      "model_name": "CheckboxModel",
      "state": {
       "description": "Show Targets",
       "disabled": false,
       "layout": "IPY_MODEL_eae8e1880df84ef9b58e171b94c81865",
       "style": "IPY_MODEL_deddd6af26ba4ea1a7d2327c624afcd9",
       "value": false
      }
     },
     "204c2825f7774a3385a9777cd4693743": {
      "model_module": "@jupyter-widgets/controls",
      "model_module_version": "1.1.0",
      "model_name": "SelectModel",
      "state": {
       "_options_labels": [
        "Test",
        "Train"
       ],
       "description": "Dataset:",
       "index": 1,
       "layout": "IPY_MODEL_a487f37ddf984d8482cede4586c43225",
       "rows": 1,
       "style": "IPY_MODEL_cc315036569344bbad10b36a464e8d50"
      }
     },
     "206eff28644b439fb843ea46fd04e33a": {
      "model_module": "@jupyter-widgets/controls",
      "model_module_version": "1.1.0",
      "model_name": "DescriptionStyleModel",
      "state": {
       "description_width": ""
      }
     },
     "20a583eb7eaf42099de0f694955df394": {
      "model_module": "@jupyter-widgets/controls",
      "model_module_version": "1.1.0",
      "model_name": "DescriptionStyleModel",
      "state": {
       "description_width": ""
      }
     },
     "20fcfc2012404271aee67117de55e023": {
      "model_module": "@jupyter-widgets/controls",
      "model_module_version": "1.1.0",
      "model_name": "ButtonStyleModel",
      "state": {}
     },
     "216aed870cb94cf4bdacde7ef43f7eab": {
      "model_module": "@jupyter-widgets/base",
      "model_module_version": "1.0.0",
      "model_name": "LayoutModel",
      "state": {}
     },
     "21a6c7c06f8f4e22ba12036def4f1560": {
      "model_module": "@jupyter-widgets/controls",
      "model_module_version": "1.1.0",
      "model_name": "VBoxModel",
      "state": {
       "children": [
        "IPY_MODEL_269a820ad473400aa715e74653c9ab9a",
        "IPY_MODEL_bde38c8744104a54aa6d20666dd1a2ca"
       ],
       "layout": "IPY_MODEL_f475a4241c8747dfa713daccfedffd2a"
      }
     },
     "21f0e628891440c2995b7478e9aa76ad": {
      "model_module": "@jupyter-widgets/controls",
      "model_module_version": "1.1.0",
      "model_name": "HTMLModel",
      "state": {
       "layout": "IPY_MODEL_b881e4026f3d46219eb22b243aae43c8",
       "style": "IPY_MODEL_05e879908df5433e864ee488190995dc",
       "value": "<p style=\"text-align:center\"><svg id='XOR Network' xmlns='http://www.w3.org/2000/svg' viewBox=\"0 0 350 450\" max-width=\"100%\" height=\"780\" image-rendering=\"pixelated\">\n    <defs>\n        <marker id=\"arrow\" markerWidth=\"10\" markerHeight=\"10\" refX=\"9\" refY=\"3\" orient=\"auto\" markerUnits=\"strokeWidth\">\n          <path d=\"M0,0 L0,6 L9,3 z\" fill=\"black\" />\n        </marker>\n    </defs><text x=\"175.0\" y=\"12.5\" font-family=\"monospace\" font-size=\"15\" text-anchor=\"middle\" alignment-baseline=\"central\">XOR Network</text><rect x=\"74.0\" y=\"24\" width=\"202\" height=\"202\" style=\"fill:none;stroke:black;stroke-width:2\"/><image id=\"XOR Network_output1_13\" class=\"XOR Network_output1\" x=\"75.0\" y=\"25\" height=\"200\" width=\"200\" preserveAspectRatio=\"none\" href=\"data:image/gif;base64,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\"><title>Layer: output1 (output)\n shape = (1,)\n Keras class = Dense\n activation = sigmoid</title></image><text x=\"280.0\" y=\"127.0\" font-family=\"monospace\" font-size=\"12\" text-anchor=\"start\" alignment-baseline=\"central\">output1</text><line x1=\"175.0\" y1=\"254\" x2=\"175.0\" y2=\"227\" stroke=\"black\" stroke-width=\"2\" marker-end=\"url(#arrow)\"><title>Weights from hidden1 to output1\n output1/kernel has shape (5, 1)\n output1/bias has shape (1,)</title></line><rect x=\"74.0\" y=\"254\" width=\"202\" height=\"42\" style=\"fill:none;stroke:black;stroke-width:2\"/><image id=\"XOR Network_hidden1_14\" class=\"XOR Network_hidden1\" x=\"75.0\" y=\"255\" height=\"40\" width=\"200\" preserveAspectRatio=\"none\" href=\"data:image/gif;base64,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\"><title>Layer: hidden1 (hidden)\n shape = (5,)\n Keras class = Dense\n activation = relu</title></image><text x=\"280.0\" y=\"277.0\" font-family=\"monospace\" font-size=\"12\" text-anchor=\"start\" alignment-baseline=\"central\">hidden1</text><line x1=\"175.0\" y1=\"324\" x2=\"175.0\" y2=\"297\" stroke=\"black\" stroke-width=\"2\" marker-end=\"url(#arrow)\"><title>Weights from input1 to hidden1\n hidden1/kernel has shape (2, 5)\n hidden1/bias has shape (5,)</title></line><rect x=\"74.0\" y=\"324\" width=\"202\" height=\"102\" style=\"fill:none;stroke:black;stroke-width:2\"/><image id=\"XOR Network_input1_15\" class=\"XOR Network_input1\" x=\"75.0\" y=\"325\" height=\"100\" width=\"200\" preserveAspectRatio=\"none\" href=\"data:image/gif;base64,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\"><title>Layer: input1 (input)\n shape = (2,)\n Keras class = Input</title></image><text x=\"280.0\" y=\"377.0\" font-family=\"monospace\" font-size=\"12\" text-anchor=\"start\" alignment-baseline=\"central\">input1</text></svg></p>"
      }
     },
     "22205d2f49b54c50bdb4ecaae45685a5": {
      "model_module": "@jupyter-widgets/controls",
      "model_module_version": "1.1.0",
      "model_name": "DescriptionStyleModel",
      "state": {
       "description_width": ""
      }
     },
     "2237db7fba724197ad0e91ef62e3e27c": {
      "model_module": "@jupyter-widgets/base",
      "model_module_version": "1.0.0",
      "model_name": "LayoutModel",
      "state": {
       "width": "100px"
      }
     },
     "22506eab3559471ebcc5c607375c2636": {
      "model_module": "@jupyter-widgets/controls",
      "model_module_version": "1.1.0",
      "model_name": "CheckboxModel",
      "state": {
       "description": "Visible",
       "disabled": false,
       "layout": "IPY_MODEL_ccfe54dd20874d649b9bdfb37cde34a6",
       "style": "IPY_MODEL_09a6332b310d425d8cbdbd911d231c32",
       "value": true
      }
     },
     "22ef4bf69ef54bed84c830c3ab7728df": {
      "model_module": "@jupyter-widgets/controls",
      "model_module_version": "1.1.0",
      "model_name": "HBoxModel",
      "state": {
       "children": [
        "IPY_MODEL_bdd8e7f77f9a41179be3ec23b4267b1e",
        "IPY_MODEL_ffb3cc87a89449fdb0f9bdb543525b9b"
       ],
       "layout": "IPY_MODEL_60275f9366d34d7a92aac2a673d25d5a"
      }
     },
     "22f57e5e8da246b5b211b57e56e1692f": {
      "model_module": "@jupyter-widgets/controls",
      "model_module_version": "1.1.0",
      "model_name": "HBoxModel",
      "state": {
       "children": [
        "IPY_MODEL_8b3952e5cdbf4be1a8015757ef7fa774",
        "IPY_MODEL_9252c27bd0c9467394d3915c8426936d",
        "IPY_MODEL_0ae1e2cb780b4540821a69a4a2a35df2",
        "IPY_MODEL_4f2c0d88c656448bb5869f2edbf4c562",
        "IPY_MODEL_d860d676e830488a92d3f000f5ea71f9",
        "IPY_MODEL_7a721e8e09464cbd987fe2a82a3451b1",
        "IPY_MODEL_0729faf686ea4d47bd79a364980a0f13"
       ],
       "layout": "IPY_MODEL_580845dd0e664732aafa393544f16ed7"
      }
     },
     "22fcdc97944742d3afda2e770dadd54e": {
      "model_module": "@jupyter-widgets/controls",
      "model_module_version": "1.1.0",
      "model_name": "DescriptionStyleModel",
      "state": {
       "description_width": "initial"
      }
     },
     "23036e3dff07463988351d0b16385554": {
      "model_module": "@jupyter-widgets/controls",
      "model_module_version": "1.1.0",
      "model_name": "CheckboxModel",
      "state": {
       "description": "Errors",
       "disabled": false,
       "layout": "IPY_MODEL_98c5884a70e841158a7a593608286ae0",
       "style": "IPY_MODEL_7ac597785aef4214a1874d9346963861",
       "value": false
      }
     },
     "234f2dcd1de04effa87ea0fd4d5f3688": {
      "model_module": "@jupyter-widgets/controls",
      "model_module_version": "1.1.0",
      "model_name": "CheckboxModel",
      "state": {
       "description": "Visible",
       "disabled": false,
       "layout": "IPY_MODEL_34fcf6cc8f624e2aa927178dcec232aa",
       "style": "IPY_MODEL_a99e25d9f988430b842d4aa34b9b6563",
       "value": true
      }
     },
     "23db40d58d124d12a020a5d706c93287": {
      "model_module": "@jupyter-widgets/controls",
      "model_module_version": "1.1.0",
      "model_name": "FloatTextModel",
      "state": {
       "description": "Rightmost color maps to:",
       "layout": "IPY_MODEL_9650d4ca59d94af1a69c05e263c324b8",
       "step": null,
       "style": "IPY_MODEL_2ba2434e12c949629d0a9b036b71e641",
       "value": 1
      }
     },
     "23ed2782bfee4a59ba87053482c1e8f0": {
      "model_module": "@jupyter-widgets/controls",
      "model_module_version": "1.1.0",
      "model_name": "FloatTextModel",
      "state": {
       "description": "Feature scale:",
       "layout": "IPY_MODEL_fb35b99c317a4c84b12bd7cba1501804",
       "step": null,
       "style": "IPY_MODEL_22fcdc97944742d3afda2e770dadd54e",
       "value": 2
      }
     },
     "2409a1f7a1424ea5adbee00587541e73": {
      "model_module": "@jupyter-widgets/controls",
      "model_module_version": "1.1.0",
      "model_name": "ButtonModel",
      "state": {
       "icon": "fast-forward",
       "layout": "IPY_MODEL_5d516260298a4962944a7e4f8b754bc4",
       "style": "IPY_MODEL_1fb2401df71f4a06b62085c5ca88b76b"
      }
     },
     "254135f4b8e048a78afeee7fd4047569": {
      "model_module": "@jupyter-widgets/base",
      "model_module_version": "1.0.0",
      "model_name": "LayoutModel",
      "state": {}
     },
     "258c1b4d351a4c16aa14b85102f0ef4a": {
      "model_module": "@jupyter-widgets/output",
      "model_module_version": "1.0.0",
      "model_name": "OutputModel",
      "state": {
       "layout": "IPY_MODEL_168e54ef225e41c3975d2e1f2554ca70"
      }
     },
     "25ee0a15d4fc4cc994de95419fb848d0": {
      "model_module": "@jupyter-widgets/base",
      "model_module_version": "1.0.0",
      "model_name": "LayoutModel",
      "state": {}
     },
     "26027aca481f440bbe039acefba51b00": {
      "model_module": "@jupyter-widgets/controls",
      "model_module_version": "1.1.0",
      "model_name": "IntTextModel",
      "state": {
       "description": "Feature columns:",
       "layout": "IPY_MODEL_de832e3fe0544c4d8cf9956d9ec218e3",
       "step": 1,
       "style": "IPY_MODEL_68f473c082214eb390405bd4d1271ac3",
       "value": 3
      }
     },
     "261cb46bf5334ab9a95b4c8868fcee50": {
      "model_module": "@jupyter-widgets/controls",
      "model_module_version": "1.1.0",
      "model_name": "FloatTextModel",
      "state": {
       "description": "Leftmost color maps to:",
       "layout": "IPY_MODEL_ba4a69646e08405c9b867f535611d8bd",
       "step": null,
       "style": "IPY_MODEL_52d3e0cbbdc848aa88e35ddefe87315a",
       "value": -1
      }
     },
     "261f1aef8da2473ebdf63a9dd84f6a54": {
      "model_module": "@jupyter-widgets/controls",
      "model_module_version": "1.1.0",
      "model_name": "ButtonStyleModel",
      "state": {}
     },
     "262250939e5a43fdbbd191b21f6d1424": {
      "model_module": "@jupyter-widgets/controls",
      "model_module_version": "1.1.0",
      "model_name": "DescriptionStyleModel",
      "state": {
       "description_width": ""
      }
     },
     "267e97ec30384d458d823d304acf84e3": {
      "model_module": "@jupyter-widgets/controls",
      "model_module_version": "1.1.0",
      "model_name": "DescriptionStyleModel",
      "state": {
       "description_width": ""
      }
     },
     "269a820ad473400aa715e74653c9ab9a": {
      "model_module": "@jupyter-widgets/controls",
      "model_module_version": "1.1.0",
      "model_name": "HBoxModel",
      "state": {
       "children": [
        "IPY_MODEL_71d7b61321034a6cb5fc5017bdcf6e46",
        "IPY_MODEL_32503d318c064769b0d39a5d7041b98d"
       ],
       "layout": "IPY_MODEL_56bb56362dfe4d83b2f437bc83550579"
      }
     },
     "27643142856e474cb967328e2fa55701": {
      "model_module": "@jupyter-widgets/controls",
      "model_module_version": "1.1.0",
      "model_name": "DescriptionStyleModel",
      "state": {
       "description_width": "initial"
      }
     },
     "2769fd94ec5b47b98cc17ed4700caefb": {
      "model_module": "@jupyter-widgets/controls",
      "model_module_version": "1.1.0",
      "model_name": "DescriptionStyleModel",
      "state": {
       "description_width": ""
      }
     },
     "27a4408f928447cda0be1cdb30a83924": {
      "model_module": "@jupyter-widgets/controls",
      "model_module_version": "1.1.0",
      "model_name": "ButtonModel",
      "state": {
       "icon": "fast-forward",
       "layout": "IPY_MODEL_bb3a8f3c01bd4be4b64ad6237a87a515",
       "style": "IPY_MODEL_bf62b1657e764a4a89b49e14d047ea23"
      }
     },
     "27e95630901d410e898a3cfaded46aa8": {
      "model_module": "@jupyter-widgets/base",
      "model_module_version": "1.0.0",
      "model_name": "LayoutModel",
      "state": {
       "width": "100%"
      }
     },
     "27e96c8e42844d76aaef42d3ce4a72b1": {
      "model_module": "@jupyter-widgets/base",
      "model_module_version": "1.0.0",
      "model_name": "LayoutModel",
      "state": {}
     },
     "283c98482a524e4aab85941d39faf694": {
      "model_module": "@jupyter-widgets/base",
      "model_module_version": "1.0.0",
      "model_name": "LayoutModel",
      "state": {
       "width": "100%"
      }
     },
     "2851774d78044df5b09b1a89dab51081": {
      "model_module": "@jupyter-widgets/controls",
      "model_module_version": "1.1.0",
      "model_name": "DescriptionStyleModel",
      "state": {
       "description_width": "initial"
      }
     },
     "285186c2c53c41d8b09572d4b7357f7a": {
      "model_module": "@jupyter-widgets/controls",
      "model_module_version": "1.1.0",
      "model_name": "HTMLModel",
      "state": {
       "layout": "IPY_MODEL_33eaa4b1fd714d718d5a2bd49a44b25b",
       "style": "IPY_MODEL_b569ca87b4f844e3bd7234c1e8019879",
       "value": "<img src=\"data:image/gif;base64,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\"/>"
      }
     },
     "287940e37f844f7aa1fb57e3f6dd6a58": {
      "model_module": "@jupyter-widgets/base",
      "model_module_version": "1.0.0",
      "model_name": "LayoutModel",
      "state": {}
     },
     "287edda6b88d479abac1b976a0833bfa": {
      "model_module": "@jupyter-widgets/base",
      "model_module_version": "1.0.0",
      "model_name": "LayoutModel",
      "state": {}
     },
     "289b047ca153451fbec110d2501657a2": {
      "model_module": "@jupyter-widgets/controls",
      "model_module_version": "1.1.0",
      "model_name": "HBoxModel",
      "state": {
       "children": [
        "IPY_MODEL_aa9a3c201b0647128ef2e6bb91ce2a38",
        "IPY_MODEL_ea81994de07443d289989dc80eb7b6e7"
       ],
       "layout": "IPY_MODEL_8cd8cde600c14bfc91a44151383310bf"
      }
     },
     "28a0e8ec61f14f6f84b0b7fb2c505cbd": {
      "model_module": "@jupyter-widgets/controls",
      "model_module_version": "1.1.0",
      "model_name": "DescriptionStyleModel",
      "state": {
       "description_width": ""
      }
     },
     "28b503a5429342d8a94d204273326db2": {
      "model_module": "@jupyter-widgets/base",
      "model_module_version": "1.0.0",
      "model_name": "LayoutModel",
      "state": {
       "width": "100%"
      }
     },
     "28b51ae6fbda4125b1da6a56ca42c191": {
      "model_module": "@jupyter-widgets/controls",
      "model_module_version": "1.1.0",
      "model_name": "ButtonStyleModel",
      "state": {}
     },
     "299e7434d5d9472098ba64443a1ecc43": {
      "model_module": "@jupyter-widgets/base",
      "model_module_version": "1.0.0",
      "model_name": "LayoutModel",
      "state": {
       "height": "40px"
      }
     },
     "29f93ffc90d14d918a77290ef7eccf64": {
      "model_module": "@jupyter-widgets/base",
      "model_module_version": "1.0.0",
      "model_name": "LayoutModel",
      "state": {}
     },
     "2a8036afc62f4708be66b890d4c6d7f3": {
      "model_module": "@jupyter-widgets/controls",
      "model_module_version": "1.1.0",
      "model_name": "DescriptionStyleModel",
      "state": {
       "description_width": "initial"
      }
     },
     "2a824ff3737547b884273b8155f9c68a": {
      "model_module": "@jupyter-widgets/controls",
      "model_module_version": "1.1.0",
      "model_name": "VBoxModel",
      "state": {
       "children": [
        "IPY_MODEL_b6356223312c4009b42645f55916deda",
        "IPY_MODEL_9efbf531f25b42f2ab443f283a5370ec",
        "IPY_MODEL_164ffdae32f143b2b827ca89bbf2678f",
        "IPY_MODEL_05a32be594a6408bbc9bc2ac4e2c37af",
        "IPY_MODEL_f0bcc14edb3141ab95d95465058a50b3",
        "IPY_MODEL_ecee3d733f8c4357811c85b86f4d2508",
        "IPY_MODEL_b0810f0f209f4369a9a172a4a0513135"
       ],
       "layout": "IPY_MODEL_70b3167b34d64f968c5b79ac388145f7"
      }
     },
     "2ac5da29cc4449208772ecfbc9f62e2d": {
      "model_module": "@jupyter-widgets/controls",
      "model_module_version": "1.1.0",
      "model_name": "HBoxModel",
      "state": {
       "children": [
        "IPY_MODEL_eddb83ba3cb9411fbee0aadb40c572b2",
        "IPY_MODEL_30ab8bee28654acbad807d9d200a3b68"
       ],
       "layout": "IPY_MODEL_7744407c57194fb8aee7cf27556873ab"
      }
     },
     "2b441c44e939427ca2ac170c82b005fe": {
      "model_module": "@jupyter-widgets/base",
      "model_module_version": "1.0.0",
      "model_name": "LayoutModel",
      "state": {}
     },
     "2ba2434e12c949629d0a9b036b71e641": {
      "model_module": "@jupyter-widgets/controls",
      "model_module_version": "1.1.0",
      "model_name": "DescriptionStyleModel",
      "state": {
       "description_width": "initial"
      }
     },
     "2c54d4f0424e46c6bbabebd8de9e27c6": {
      "model_module": "@jupyter-widgets/base",
      "model_module_version": "1.0.0",
      "model_name": "LayoutModel",
      "state": {}
     },
     "2c7b028c9030499bbc4daa2a2bcd1d8c": {
      "model_module": "@jupyter-widgets/controls",
      "model_module_version": "1.1.0",
      "model_name": "VBoxModel",
      "state": {
       "children": [
        "IPY_MODEL_8d0940fc773c41739b633c2d06acfe32",
        "IPY_MODEL_fc845f8cd4424df7add26174e9d9431d",
        "IPY_MODEL_904fc2e80871421ea4a47719ce030a4b",
        "IPY_MODEL_b2bd8ce20598495ba41394ca43b8bfbc"
       ],
       "layout": "IPY_MODEL_bfe6ed64fde144f6925c101214b7509f"
      }
     },
     "2c97eb2ccdca488b9e8709868ab897d1": {
      "model_module": "@jupyter-widgets/base",
      "model_module_version": "1.0.0",
      "model_name": "LayoutModel",
      "state": {}
     },
     "2cae6369956f4a4e8514a7ddc5eadc0e": {
      "model_module": "@jupyter-widgets/controls",
      "model_module_version": "1.1.0",
      "model_name": "DescriptionStyleModel",
      "state": {
       "description_width": ""
      }
     },
     "2cdce82d20da4fd8b57107c6bdc90faf": {
      "model_module": "@jupyter-widgets/controls",
      "model_module_version": "1.1.0",
      "model_name": "AccordionModel",
      "state": {
       "_titles": {
        "0": "XOR Network"
       },
       "children": [
        "IPY_MODEL_378437c952dc4df1baabefb0dba09474"
       ],
       "layout": "IPY_MODEL_71348c9f49a7466a9eaa837c24bb1fe6",
       "selected_index": null
      }
     },
     "2d6ee6eb8aa74b74ad1ee9d62d5d513b": {
      "model_module": "@jupyter-widgets/controls",
      "model_module_version": "1.1.0",
      "model_name": "DescriptionStyleModel",
      "state": {
       "description_width": "initial"
      }
     },
     "2da9cbcedaea4b658ce4fb8b02c618cd": {
      "model_module": "@jupyter-widgets/controls",
      "model_module_version": "1.1.0",
      "model_name": "SliderStyleModel",
      "state": {
       "description_width": ""
      }
     },
     "2dc1f40a4b554e31845c172456cf5322": {
      "model_module": "@jupyter-widgets/base",
      "model_module_version": "1.0.0",
      "model_name": "LayoutModel",
      "state": {}
     },
     "2dcfb5c6932e449e9cb6021d987f3c71": {
      "model_module": "@jupyter-widgets/controls",
      "model_module_version": "1.1.0",
      "model_name": "VBoxModel",
      "state": {
       "children": [
        "IPY_MODEL_b33df6f1c26243928b6e8f2ecc964b0a",
        "IPY_MODEL_07fe3f9fee0c4e6f8cdcb9e12b1d70da",
        "IPY_MODEL_927ee4f696ce4c738ad8d7b4ba56ee71",
        "IPY_MODEL_ac7fadde27f84a7192c7f09b1acc7be1",
        "IPY_MODEL_647b0a8486264c658914e0e53ab67ef8",
        "IPY_MODEL_9a3686b1ce3045ff91c5d4af5ac9475e",
        "IPY_MODEL_5771a9c5e96c45169cf57517e06204fa"
       ],
       "layout": "IPY_MODEL_de915e8137b4483f81c3076fa06feb84"
      }
     },
     "2ddfc048960a4417b7e2c5e648566b07": {
      "model_module": "@jupyter-widgets/controls",
      "model_module_version": "1.1.0",
      "model_name": "DescriptionStyleModel",
      "state": {
       "description_width": ""
      }
     },
     "2de93158ae2a476db574319ca1ae1dd5": {
      "model_module": "@jupyter-widgets/controls",
      "model_module_version": "1.1.0",
      "model_name": "HBoxModel",
      "state": {
       "children": [
        "IPY_MODEL_906021c8bdf0477e91f4d761a722f60e",
        "IPY_MODEL_d96b75fa11cb48ec8792af3a17ff07d8"
       ],
       "layout": "IPY_MODEL_9979367905084a158b10c340d660eb14"
      }
     },
     "2e09ca0f51c94a7ea661db8a63452564": {
      "model_module": "@jupyter-widgets/controls",
      "model_module_version": "1.1.0",
      "model_name": "DescriptionStyleModel",
      "state": {
       "description_width": ""
      }
     },
     "2e21340bdb2d4048b3545f4f12bcff5e": {
      "model_module": "@jupyter-widgets/base",
      "model_module_version": "1.0.0",
      "model_name": "LayoutModel",
      "state": {}
     },
     "2e2f4186e7204eb8b9cb1a499e500b3f": {
      "model_module": "@jupyter-widgets/base",
      "model_module_version": "1.0.0",
      "model_name": "LayoutModel",
      "state": {}
     },
     "2e56376270ca4c02bd6a1e8b1efc04e8": {
      "model_module": "@jupyter-widgets/base",
      "model_module_version": "1.0.0",
      "model_name": "LayoutModel",
      "state": {
       "width": "100%"
      }
     },
     "2e655345d73848af9ce2ae9ad8dd11a1": {
      "model_module": "@jupyter-widgets/base",
      "model_module_version": "1.0.0",
      "model_name": "LayoutModel",
      "state": {
       "width": "100%"
      }
     },
     "2ea74fa2141f4314add3dff6cd92b768": {
      "model_module": "@jupyter-widgets/base",
      "model_module_version": "1.0.0",
      "model_name": "LayoutModel",
      "state": {
       "width": "100%"
      }
     },
     "2ec3515b15be49669210e7ab8d9b2cf1": {
      "model_module": "@jupyter-widgets/controls",
      "model_module_version": "1.1.0",
      "model_name": "HBoxModel",
      "state": {
       "children": [
        "IPY_MODEL_d84d5dc9d1be49149df679081070d8cf",
        "IPY_MODEL_5e4c4db8cad64a16a164aed60fdf2ad8",
        "IPY_MODEL_9910d1422fe64c5e9dcf7f9478480937",
        "IPY_MODEL_65210a2d86234fceb3f95d1b569bb04f",
        "IPY_MODEL_0a7ae303cb0d4541a1a8eddf1c45446b",
        "IPY_MODEL_cb6cf61e1146499a91196089ab12101b",
        "IPY_MODEL_91154e4c8c3b4fd79e0f7972f8a2dbd6"
       ],
       "layout": "IPY_MODEL_08f82bc8580742bd831e1c3c85e495db"
      }
     },
     "300c47b9c8534ba2ad8c12f7e0c011aa": {
      "model_module": "@jupyter-widgets/controls",
      "model_module_version": "1.1.0",
      "model_name": "HBoxModel",
      "state": {
       "children": [
        "IPY_MODEL_74992c722cd747429282721c4bd38cec",
        "IPY_MODEL_6b5f677ec1b34702a970ed9897c8a7e9"
       ],
       "layout": "IPY_MODEL_1d822192a81d45919ff68c9ffc1a3d81"
      }
     },
     "304c9d8830e64da891fa6c8cd234c43d": {
      "model_module": "@jupyter-widgets/controls",
      "model_module_version": "1.1.0",
      "model_name": "DescriptionStyleModel",
      "state": {
       "description_width": ""
      }
     },
     "306472fb958f483495f1d8d0ca116b4d": {
      "model_module": "@jupyter-widgets/controls",
      "model_module_version": "1.1.0",
      "model_name": "DescriptionStyleModel",
      "state": {
       "description_width": ""
      }
     },
     "306a49ce04c94d038fdf67eff829b2cc": {
      "model_module": "@jupyter-widgets/controls",
      "model_module_version": "1.1.0",
      "model_name": "ButtonStyleModel",
      "state": {}
     },
     "308ef229d190411290fd4f06ce5a1176": {
      "model_module": "@jupyter-widgets/controls",
      "model_module_version": "1.1.0",
      "model_name": "IntSliderModel",
      "state": {
       "continuous_update": false,
       "description": "Dataset index",
       "layout": "IPY_MODEL_35805245086a464cba5a5c321f0e59fa",
       "max": 3,
       "style": "IPY_MODEL_665c7eda30b644ecb5cdb1bf383b91a5",
       "value": 3
      }
     },
     "30ab8bee28654acbad807d9d200a3b68": {
      "model_module": "@jupyter-widgets/controls",
      "model_module_version": "1.1.0",
      "model_name": "CheckboxModel",
      "state": {
       "description": "Errors",
       "disabled": false,
       "layout": "IPY_MODEL_efdd914eb90c4ff1a0a5d4522778eed5",
       "style": "IPY_MODEL_66be904a1da841189cc6be2153bcd66a",
       "value": false
      }
     },
     "30c73e8aa24946eaad19ac01ac214ae9": {
      "model_module": "@jupyter-widgets/base",
      "model_module_version": "1.0.0",
      "model_name": "LayoutModel",
      "state": {
       "width": "100%"
      }
     },
     "3107a7de669542d79faa68f39857789a": {
      "model_module": "@jupyter-widgets/controls",
      "model_module_version": "1.1.0",
      "model_name": "DescriptionStyleModel",
      "state": {
       "description_width": "initial"
      }
     },
     "31091b68052b4df791520da2ffa043b0": {
      "model_module": "@jupyter-widgets/controls",
      "model_module_version": "1.1.0",
      "model_name": "ButtonStyleModel",
      "state": {}
     },
     "313ed2bad3004bb0be660b7e270b7560": {
      "model_module": "@jupyter-widgets/controls",
      "model_module_version": "1.1.0",
      "model_name": "HBoxModel",
      "state": {
       "children": [
        "IPY_MODEL_f8edd980458c479b94a0a8d132f18356",
        "IPY_MODEL_c5ff900f4c694e61b3aee8260669f45e"
       ],
       "layout": "IPY_MODEL_f94fc49593af4f47862adb54d6196706"
      }
     },
     "31550ce486b04f97803480682553afe8": {
      "model_module": "@jupyter-widgets/controls",
      "model_module_version": "1.1.0",
      "model_name": "IntTextModel",
      "state": {
       "description": "Feature columns:",
       "layout": "IPY_MODEL_8ade5bd038f14058bb6df7a3278c4d28",
       "step": 1,
       "style": "IPY_MODEL_1781c65e1ad7432aab043c376dbdd8be",
       "value": 3
      }
     },
     "31c8209a0a0e4b408595cb1ba4b45bdb": {
      "model_module": "@jupyter-widgets/controls",
      "model_module_version": "1.1.0",
      "model_name": "AccordionModel",
      "state": {
       "_titles": {
        "0": "XOR Network"
       },
       "children": [
        "IPY_MODEL_b317262f9ef548a3b1cc834050f4a719"
       ],
       "layout": "IPY_MODEL_38c31a0f7e14455eb9bc9dc3d964be51",
       "selected_index": null
      }
     },
     "31c94bdc34fc49129885492bd2c49768": {
      "model_module": "@jupyter-widgets/base",
      "model_module_version": "1.0.0",
      "model_name": "LayoutModel",
      "state": {
       "width": "100px"
      }
     },
     "321527b36bc24a378e3fde6afac3847b": {
      "model_module": "@jupyter-widgets/controls",
      "model_module_version": "1.1.0",
      "model_name": "SelectModel",
      "state": {
       "_options_labels": [
        "input1",
        "hidden1",
        "output1"
       ],
       "description": "Layer:",
       "index": 2,
       "layout": "IPY_MODEL_424d227284944887976578b712b1c0cb",
       "rows": 1,
       "style": "IPY_MODEL_9ba1e1978ca9424592f08cec079fe8db"
      }
     },
     "32503d318c064769b0d39a5d7041b98d": {
      "model_module": "@jupyter-widgets/controls",
      "model_module_version": "1.1.0",
      "model_name": "LabelModel",
      "state": {
       "layout": "IPY_MODEL_fe8ac7c68eb94b929e0d4e96a85c9528",
       "style": "IPY_MODEL_e97f1c15b78e4269b3025333f8f51d95",
       "value": "of 0"
      }
     },
     "325a29b8a5a74c449689b58396c8cfac": {
      "model_module": "@jupyter-widgets/controls",
      "model_module_version": "1.1.0",
      "model_name": "VBoxModel",
      "state": {
       "children": [
        "IPY_MODEL_0548712503b3496486b47d91984c33da",
        "IPY_MODEL_b666c8a9d8954b6a9de64e658b5d22f4"
       ],
       "layout": "IPY_MODEL_27e95630901d410e898a3cfaded46aa8"
      }
     },
     "32aa5682c553482c84e97556077ed8ca": {
      "model_module": "@jupyter-widgets/controls",
      "model_module_version": "1.1.0",
      "model_name": "DescriptionStyleModel",
      "state": {
       "description_width": ""
      }
     },
     "3301e8c524f14b97952b38637e6f2381": {
      "model_module": "@jupyter-widgets/controls",
      "model_module_version": "1.1.0",
      "model_name": "IntTextModel",
      "state": {
       "description": "Horizontal space between banks:",
       "layout": "IPY_MODEL_98c5884a70e841158a7a593608286ae0",
       "step": 1,
       "style": "IPY_MODEL_ef2fa2b857da4bb1ad499beea424f7f3",
       "value": 150
      }
     },
     "33792ae35b7348d089be1a1986b2843b": {
      "model_module": "@jupyter-widgets/controls",
      "model_module_version": "1.1.0",
      "model_name": "ButtonModel",
      "state": {
       "icon": "fast-forward",
       "layout": "IPY_MODEL_c7ec565d74884dccaa8c891ceb6923d4",
       "style": "IPY_MODEL_4360c75261574b7095f728a900fbcc88"
      }
     },
     "33a10794bc394840b5ad46d73e605d61": {
      "model_module": "@jupyter-widgets/base",
      "model_module_version": "1.0.0",
      "model_name": "LayoutModel",
      "state": {
       "width": "100%"
      }
     },
     "33af42986729411daf58a0afd40da43b": {
      "model_module": "@jupyter-widgets/base",
      "model_module_version": "1.0.0",
      "model_name": "LayoutModel",
      "state": {
       "height": "40px"
      }
     },
     "33d88684f41240d69be555e4ab183380": {
      "model_module": "@jupyter-widgets/controls",
      "model_module_version": "1.1.0",
      "model_name": "ButtonStyleModel",
      "state": {}
     },
     "33eaa4b1fd714d718d5a2bd49a44b25b": {
      "model_module": "@jupyter-widgets/base",
      "model_module_version": "1.0.0",
      "model_name": "LayoutModel",
      "state": {}
     },
     "34256888558e42e3b0fefdf99a0d5c24": {
      "model_module": "@jupyter-widgets/base",
      "model_module_version": "1.0.0",
      "model_name": "LayoutModel",
      "state": {
       "width": "100%"
      }
     },
     "344d1db5a7fc4da69106e408d1f32ce0": {
      "model_module": "@jupyter-widgets/controls",
      "model_module_version": "1.1.0",
      "model_name": "VBoxModel",
      "state": {
       "children": [
        "IPY_MODEL_34f7f5be8f69405dbd228ffdf0e72e7e",
        "IPY_MODEL_8bcfab1b52e9409c815e7e57e39cb696",
        "IPY_MODEL_eb7c1a87efec4f58a067c9522c5773b9",
        "IPY_MODEL_97149464019143d48e9c001470e6503a",
        "IPY_MODEL_313ed2bad3004bb0be660b7e270b7560",
        "IPY_MODEL_7ec38e23c9ac4c6fa3a2b751d90bd7c1",
        "IPY_MODEL_3da3e788cc7e490f80d58dc6041d1c5e",
        "IPY_MODEL_4f58acb84c684832baa9686065f3201b"
       ],
       "layout": "IPY_MODEL_b66656b0ae3b4c7ebcfb5ae748f314f0"
      }
     },
     "347abc12f8f84359b238a297d60ef5c7": {
      "model_module": "@jupyter-widgets/base",
      "model_module_version": "1.0.0",
      "model_name": "LayoutModel",
      "state": {
       "width": "100%"
      }
     },
     "34f7f5be8f69405dbd228ffdf0e72e7e": {
      "model_module": "@jupyter-widgets/controls",
      "model_module_version": "1.1.0",
      "model_name": "SelectModel",
      "state": {
       "_options_labels": [
        "Test",
        "Train"
       ],
       "description": "Dataset:",
       "index": 1,
       "layout": "IPY_MODEL_1e3e291737d84bf28d39612ed3bc97a3",
       "rows": 1,
       "style": "IPY_MODEL_a0e451c44d2d4c3583a33b8f5838fdfa"
      }
     },
     "34fcf6cc8f624e2aa927178dcec232aa": {
      "model_module": "@jupyter-widgets/base",
      "model_module_version": "1.0.0",
      "model_name": "LayoutModel",
      "state": {}
     },
     "35805245086a464cba5a5c321f0e59fa": {
      "model_module": "@jupyter-widgets/base",
      "model_module_version": "1.0.0",
      "model_name": "LayoutModel",
      "state": {
       "width": "100%"
      }
     },
     "3701fec6b96746dd99796fe27f25bb0d": {
      "model_module": "@jupyter-widgets/controls",
      "model_module_version": "1.1.0",
      "model_name": "DescriptionStyleModel",
      "state": {
       "description_width": ""
      }
     },
     "372fbd043f1640fd88c0bad3e1f9be33": {
      "model_module": "@jupyter-widgets/controls",
      "model_module_version": "1.1.0",
      "model_name": "FloatSliderModel",
      "state": {
       "continuous_update": false,
       "description": "Zoom",
       "layout": "IPY_MODEL_f42317cc60ef49b1b15f065b9be9d982",
       "max": 3,
       "min": 0.5,
       "step": 0.1,
       "style": "IPY_MODEL_16c92559965642c89ce956df474e890f",
       "value": 1
      }
     },
     "3767a9a0f5b94c2796307b02a6f7d42d": {
      "model_module": "@jupyter-widgets/controls",
      "model_module_version": "1.1.0",
      "model_name": "DescriptionStyleModel",
      "state": {
       "description_width": "initial"
      }
     },
     "378437c952dc4df1baabefb0dba09474": {
      "model_module": "@jupyter-widgets/controls",
      "model_module_version": "1.1.0",
      "model_name": "HBoxModel",
      "state": {
       "children": [
        "IPY_MODEL_344d1db5a7fc4da69106e408d1f32ce0",
        "IPY_MODEL_def2310cc31f4b2796baf13e6a7bc7e8"
       ],
       "layout": "IPY_MODEL_5e2050d044b64fd18ed9e412d3527fae"
      }
     },
     "379e877cc8a146359946a5cb61a45160": {
      "model_module": "@jupyter-widgets/base",
      "model_module_version": "1.0.0",
      "model_name": "LayoutModel",
      "state": {
       "height": "40px"
      }
     },
     "37d95b8049684770914c75048bde1fee": {
      "model_module": "@jupyter-widgets/controls",
      "model_module_version": "1.1.0",
      "model_name": "HTMLModel",
      "state": {
       "layout": "IPY_MODEL_0d5e7a8313e048cf87c9b7f6577c4c20",
       "style": "IPY_MODEL_9b1bba4181b441669843c8f17fbc005c",
       "value": "<img src=\"data:image/gif;base64,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\"/>"
      }
     },
     "38022f3fdd2f432ea095879d23e5ed20": {
      "model_module": "@jupyter-widgets/controls",
      "model_module_version": "1.1.0",
      "model_name": "CheckboxModel",
      "state": {
       "description": "Visible",
       "disabled": false,
       "layout": "IPY_MODEL_98c5884a70e841158a7a593608286ae0",
       "style": "IPY_MODEL_a5f17f9a28ac48e19baa8c4d39844197",
       "value": true
      }
     },
     "380bf6423ca9417799717f06befcc3b2": {
      "model_module": "@jupyter-widgets/base",
      "model_module_version": "1.0.0",
      "model_name": "LayoutModel",
      "state": {
       "justify_content": "center",
       "overflow_x": "auto",
       "overflow_y": "auto",
       "width": "95%"
      }
     },
     "38270298e23147efb6a67eeaa247b18e": {
      "model_module": "@jupyter-widgets/base",
      "model_module_version": "1.0.0",
      "model_name": "LayoutModel",
      "state": {}
     },
     "38588a9d28644e27a15fc021d0ce51d8": {
      "model_module": "@jupyter-widgets/controls",
      "model_module_version": "1.1.0",
      "model_name": "FloatTextModel",
      "state": {
       "description": "Feature scale:",
       "layout": "IPY_MODEL_b61b6798bc1744a49d1393bcc25512b8",
       "step": null,
       "style": "IPY_MODEL_8b639139a1d54de08029aa5875a0ac3b",
       "value": 2
      }
     },
     "385ff97ee63f48f09109d87b705d4404": {
      "model_module": "@jupyter-widgets/base",
      "model_module_version": "1.0.0",
      "model_name": "LayoutModel",
      "state": {}
     },
     "38c31a0f7e14455eb9bc9dc3d964be51": {
      "model_module": "@jupyter-widgets/base",
      "model_module_version": "1.0.0",
      "model_name": "LayoutModel",
      "state": {}
     },
     "38da555427e24ec1be8ebf17f325c1ca": {
      "model_module": "@jupyter-widgets/controls",
      "model_module_version": "1.1.0",
      "model_name": "ButtonStyleModel",
      "state": {}
     },
     "39629d5a5b5040d5b9d1e8b45ae42506": {
      "model_module": "@jupyter-widgets/base",
      "model_module_version": "1.0.0",
      "model_name": "LayoutModel",
      "state": {}
     },
     "3a054a37d8df47a2a075fd11fd1c67b3": {
      "model_module": "@jupyter-widgets/controls",
      "model_module_version": "1.1.0",
      "model_name": "ButtonStyleModel",
      "state": {}
     },
     "3a7ad00e151340aabd026e838e7afa23": {
      "model_module": "@jupyter-widgets/base",
      "model_module_version": "1.0.0",
      "model_name": "LayoutModel",
      "state": {}
     },
     "3b1df4f389fc45ae9344020ede426f35": {
      "model_module": "@jupyter-widgets/base",
      "model_module_version": "1.0.0",
      "model_name": "LayoutModel",
      "state": {
       "height": "40px"
      }
     },
     "3bc74df98e964a8bbbed9dca4414f825": {
      "model_module": "@jupyter-widgets/controls",
      "model_module_version": "1.1.0",
      "model_name": "FloatTextModel",
      "state": {
       "description": "Rightmost color maps to:",
       "layout": "IPY_MODEL_bbc40aab9e7b4a3ca9c04b6c7a7e7225",
       "step": null,
       "style": "IPY_MODEL_2d6ee6eb8aa74b74ad1ee9d62d5d513b",
       "value": 1
      }
     },
     "3c8ab49e84f840488833092b4567d6c3": {
      "model_module": "@jupyter-widgets/base",
      "model_module_version": "1.0.0",
      "model_name": "LayoutModel",
      "state": {
       "width": "100%"
      }
     },
     "3cbc2e6b8ab74024a2fe6a940f0b849c": {
      "model_module": "@jupyter-widgets/controls",
      "model_module_version": "1.1.0",
      "model_name": "ButtonModel",
      "state": {
       "icon": "forward",
       "layout": "IPY_MODEL_7bd390302d2245cfa4373021114af962",
       "style": "IPY_MODEL_45bad012426e41b38762f37354d598c1"
      }
     },
     "3d9d708acef84f189d8847ad88de5b8c": {
      "model_module": "@jupyter-widgets/base",
      "model_module_version": "1.0.0",
      "model_name": "LayoutModel",
      "state": {
       "width": "100%"
      }
     },
     "3da3e788cc7e490f80d58dc6041d1c5e": {
      "model_module": "@jupyter-widgets/controls",
      "model_module_version": "1.1.0",
      "model_name": "IntTextModel",
      "state": {
       "description": "Feature columns:",
       "layout": "IPY_MODEL_2dc1f40a4b554e31845c172456cf5322",
       "step": 1,
       "style": "IPY_MODEL_54c155814c4848549ed3061ffb7d0ce4",
       "value": 3
      }
     },
     "3dc697fdcfbe48efac3077eb5ad1425e": {
      "model_module": "@jupyter-widgets/base",
      "model_module_version": "1.0.0",
      "model_name": "LayoutModel",
      "state": {
       "width": "100%"
      }
     },
     "3dc9ba9f602c42aba6f2edddce645c92": {
      "model_module": "@jupyter-widgets/base",
      "model_module_version": "1.0.0",
      "model_name": "LayoutModel",
      "state": {}
     },
     "3dd1845c84a1400c9fd835e1c7734820": {
      "model_module": "@jupyter-widgets/controls",
      "model_module_version": "1.1.0",
      "model_name": "VBoxModel",
      "state": {
       "children": [
        "IPY_MODEL_289b047ca153451fbec110d2501657a2",
        "IPY_MODEL_da2d212592f240ba909d143102235226"
       ],
       "layout": "IPY_MODEL_8ad4f2fd880b438c8ce98b737d51df01"
      }
     },
     "3e093e794ffa4af6a24933d1414d4afe": {
      "model_module": "@jupyter-widgets/controls",
      "model_module_version": "1.1.0",
      "model_name": "DescriptionStyleModel",
      "state": {
       "description_width": ""
      }
     },
     "3e3651adae92420090ddfd65a051ab2e": {
      "model_module": "@jupyter-widgets/base",
      "model_module_version": "1.0.0",
      "model_name": "LayoutModel",
      "state": {
       "width": "25%"
      }
     },
     "3e3b720f52a14c969e093cdba9ea219f": {
      "model_module": "@jupyter-widgets/controls",
      "model_module_version": "1.1.0",
      "model_name": "IntTextModel",
      "state": {
       "description": "Vertical space between layers:",
       "layout": "IPY_MODEL_0169d3a3fc6f45a9a227e73e7898c690",
       "step": 1,
       "style": "IPY_MODEL_d1f16a3c3bbb47819885ebaad28574d2",
       "value": 30
      }
     },
     "3ecf139dea6443a7baf2398609645503": {
      "model_module": "@jupyter-widgets/controls",
      "model_module_version": "1.1.0",
      "model_name": "ButtonStyleModel",
      "state": {}
     },
     "3ef10e9ec7a44891b5ddb08849cc26ff": {
      "model_module": "@jupyter-widgets/controls",
      "model_module_version": "1.1.0",
      "model_name": "VBoxModel",
      "state": {
       "children": [
        "IPY_MODEL_0b295c4f4149445faba1b8c1ce7973c5",
        "IPY_MODEL_21a6c7c06f8f4e22ba12036def4f1560",
        "IPY_MODEL_b32732c4ab3e401fb72e8d6f00033e5e",
        "IPY_MODEL_1854dcc8a4524f8296b8f29ed322f374"
       ],
       "layout": "IPY_MODEL_832e6f78c6be4c1dad20c50d8dfbc46f"
      }
     },
     "3f9c90d8626847cd89133f16c0432f2e": {
      "model_module": "@jupyter-widgets/controls",
      "model_module_version": "1.1.0",
      "model_name": "SelectModel",
      "state": {
       "_options_labels": [
        "",
        "Accent",
        "Accent_r",
        "Blues",
        "Blues_r",
        "BrBG",
        "BrBG_r",
        "BuGn",
        "BuGn_r",
        "BuPu",
        "BuPu_r",
        "CMRmap",
        "CMRmap_r",
        "Dark2",
        "Dark2_r",
        "GnBu",
        "GnBu_r",
        "Greens",
        "Greens_r",
        "Greys",
        "Greys_r",
        "OrRd",
        "OrRd_r",
        "Oranges",
        "Oranges_r",
        "PRGn",
        "PRGn_r",
        "Paired",
        "Paired_r",
        "Pastel1",
        "Pastel1_r",
        "Pastel2",
        "Pastel2_r",
        "PiYG",
        "PiYG_r",
        "PuBu",
        "PuBuGn",
        "PuBuGn_r",
        "PuBu_r",
        "PuOr",
        "PuOr_r",
        "PuRd",
        "PuRd_r",
        "Purples",
        "Purples_r",
        "RdBu",
        "RdBu_r",
        "RdGy",
        "RdGy_r",
        "RdPu",
        "RdPu_r",
        "RdYlBu",
        "RdYlBu_r",
        "RdYlGn",
        "RdYlGn_r",
        "Reds",
        "Reds_r",
        "Set1",
        "Set1_r",
        "Set2",
        "Set2_r",
        "Set3",
        "Set3_r",
        "Spectral",
        "Spectral_r",
        "Vega10",
        "Vega10_r",
        "Vega20",
        "Vega20_r",
        "Vega20b",
        "Vega20b_r",
        "Vega20c",
        "Vega20c_r",
        "Wistia",
        "Wistia_r",
        "YlGn",
        "YlGnBu",
        "YlGnBu_r",
        "YlGn_r",
        "YlOrBr",
        "YlOrBr_r",
        "YlOrRd",
        "YlOrRd_r",
        "afmhot",
        "afmhot_r",
        "autumn",
        "autumn_r",
        "binary",
        "binary_r",
        "bone",
        "bone_r",
        "brg",
        "brg_r",
        "bwr",
        "bwr_r",
        "cool",
        "cool_r",
        "coolwarm",
        "coolwarm_r",
        "copper",
        "copper_r",
        "cubehelix",
        "cubehelix_r",
        "flag",
        "flag_r",
        "gist_earth",
        "gist_earth_r",
        "gist_gray",
        "gist_gray_r",
        "gist_heat",
        "gist_heat_r",
        "gist_ncar",
        "gist_ncar_r",
        "gist_rainbow",
        "gist_rainbow_r",
        "gist_stern",
        "gist_stern_r",
        "gist_yarg",
        "gist_yarg_r",
        "gnuplot",
        "gnuplot2",
        "gnuplot2_r",
        "gnuplot_r",
        "gray",
        "gray_r",
        "hot",
        "hot_r",
        "hsv",
        "hsv_r",
        "inferno",
        "inferno_r",
        "jet",
        "jet_r",
        "magma",
        "magma_r",
        "nipy_spectral",
        "nipy_spectral_r",
        "ocean",
        "ocean_r",
        "pink",
        "pink_r",
        "plasma",
        "plasma_r",
        "prism",
        "prism_r",
        "rainbow",
        "rainbow_r",
        "seismic",
        "seismic_r",
        "spectral",
        "spectral_r",
        "spring",
        "spring_r",
        "summer",
        "summer_r",
        "tab10",
        "tab10_r",
        "tab20",
        "tab20_r",
        "tab20b",
        "tab20b_r",
        "tab20c",
        "tab20c_r",
        "terrain",
        "terrain_r",
        "viridis",
        "viridis_r",
        "winter",
        "winter_r"
       ],
       "description": "Colormap:",
       "index": 0,
       "layout": "IPY_MODEL_efdd914eb90c4ff1a0a5d4522778eed5",
       "rows": 1,
       "style": "IPY_MODEL_adfa093a792543bc9b7dbb744e0d1b24"
      }
     },
     "3fdf7386aab841d6a4911408ffcfaf22": {
      "model_module": "@jupyter-widgets/base",
      "model_module_version": "1.0.0",
      "model_name": "LayoutModel",
      "state": {}
     },
     "400601e632f34678a95366f138be13cf": {
      "model_module": "@jupyter-widgets/base",
      "model_module_version": "1.0.0",
      "model_name": "LayoutModel",
      "state": {
       "width": "100%"
      }
     },
     "403b9e2aa84645899cfe70b0d6cc3651": {
      "model_module": "@jupyter-widgets/controls",
      "model_module_version": "1.1.0",
      "model_name": "VBoxModel",
      "state": {
       "children": [
        "IPY_MODEL_2cdce82d20da4fd8b57107c6bdc90faf",
        "IPY_MODEL_b3c3f6e001e34ba1b63fa795c36b54d7",
        "IPY_MODEL_b37ecc7817a948ed91f034805365369e",
        "IPY_MODEL_1e9029e138844b61bfc72888ebb9c5f0"
       ],
       "layout": "IPY_MODEL_eb265a60d3014c3dafe1ad7157d9754d"
      }
     },
     "403ba0e0b22f49f6befe480ee1bfac79": {
      "model_module": "@jupyter-widgets/controls",
      "model_module_version": "1.1.0",
      "model_name": "FloatSliderModel",
      "state": {
       "continuous_update": false,
       "description": "Zoom",
       "layout": "IPY_MODEL_ebec195cfcbd498384d2a7ba31f48831",
       "max": 3,
       "min": 0.5,
       "step": 0.1,
       "style": "IPY_MODEL_0eddae12f0a6452aafeccb54da6a203f",
       "value": 1
      }
     },
     "4080d40993a547cd94d753d6db6769cf": {
      "model_module": "@jupyter-widgets/controls",
      "model_module_version": "1.1.0",
      "model_name": "SliderStyleModel",
      "state": {
       "description_width": ""
      }
     },
     "409b55a3513945cc9758bfdd0eab83a1": {
      "model_module": "@jupyter-widgets/controls",
      "model_module_version": "1.1.0",
      "model_name": "HTMLModel",
      "state": {
       "layout": "IPY_MODEL_5e05abd3458f436facdc0eea35726577",
       "style": "IPY_MODEL_5b7b1969c6c34b1d9e9b11157e2dee9b",
       "value": "<img src=\"data:image/gif;base64,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\"/>"
      }
     },
     "40db78dc86b44231959bc065c645ac57": {
      "model_module": "@jupyter-widgets/controls",
      "model_module_version": "1.1.0",
      "model_name": "IntTextModel",
      "state": {
       "description": "Feature columns:",
       "layout": "IPY_MODEL_bfab0445d7bf4137ac34f9cb2a0b3f90",
       "step": 1,
       "style": "IPY_MODEL_e5126bc477574f0b8f4e8aea2e0d3329",
       "value": 3
      }
     },
     "40edba5e518f4fafa20903e8e2a6499a": {
      "model_module": "@jupyter-widgets/output",
      "model_module_version": "1.1.0",
      "model_name": "OutputModel",
      "state": {
       "_model_module_version": "1.1.0",
       "_view_module_version": "1.1.0",
       "layout": "IPY_MODEL_9bfb3428f25c4c179f41fefc8a556df6"
      }
     },
     "414e213cad7641f89b0fca058db7237f": {
      "model_module": "@jupyter-widgets/base",
      "model_module_version": "1.0.0",
      "model_name": "LayoutModel",
      "state": {}
     },
     "41952e84b1fe463c8d75659723a5a04c": {
      "model_module": "@jupyter-widgets/controls",
      "model_module_version": "1.1.0",
      "model_name": "IntTextModel",
      "state": {
       "description": "Vertical space between layers:",
       "layout": "IPY_MODEL_98c5884a70e841158a7a593608286ae0",
       "step": 1,
       "style": "IPY_MODEL_8be780f6904f4abb8c0bf80236c181c7",
       "value": 30
      }
     },
     "41954cb4395d42f1a3687f8a3a64338c": {
      "model_module": "@jupyter-widgets/controls",
      "model_module_version": "1.1.0",
      "model_name": "ButtonStyleModel",
      "state": {}
     },
     "41dd1f7a577a46e9b487ec024cc4ed82": {
      "model_module": "@jupyter-widgets/base",
      "model_module_version": "1.0.0",
      "model_name": "LayoutModel",
      "state": {}
     },
     "4215531fe9674cc1aec67a3f0f4d833f": {
      "model_module": "@jupyter-widgets/base",
      "model_module_version": "1.0.0",
      "model_name": "LayoutModel",
      "state": {
       "width": "100%"
      }
     },
     "42326f40ea4140d6a9d6f682e86b64fd": {
      "model_module": "@jupyter-widgets/controls",
      "model_module_version": "1.1.0",
      "model_name": "SelectModel",
      "state": {
       "_options_labels": [
        "",
        "Accent",
        "Accent_r",
        "Blues",
        "Blues_r",
        "BrBG",
        "BrBG_r",
        "BuGn",
        "BuGn_r",
        "BuPu",
        "BuPu_r",
        "CMRmap",
        "CMRmap_r",
        "Dark2",
        "Dark2_r",
        "GnBu",
        "GnBu_r",
        "Greens",
        "Greens_r",
        "Greys",
        "Greys_r",
        "OrRd",
        "OrRd_r",
        "Oranges",
        "Oranges_r",
        "PRGn",
        "PRGn_r",
        "Paired",
        "Paired_r",
        "Pastel1",
        "Pastel1_r",
        "Pastel2",
        "Pastel2_r",
        "PiYG",
        "PiYG_r",
        "PuBu",
        "PuBuGn",
        "PuBuGn_r",
        "PuBu_r",
        "PuOr",
        "PuOr_r",
        "PuRd",
        "PuRd_r",
        "Purples",
        "Purples_r",
        "RdBu",
        "RdBu_r",
        "RdGy",
        "RdGy_r",
        "RdPu",
        "RdPu_r",
        "RdYlBu",
        "RdYlBu_r",
        "RdYlGn",
        "RdYlGn_r",
        "Reds",
        "Reds_r",
        "Set1",
        "Set1_r",
        "Set2",
        "Set2_r",
        "Set3",
        "Set3_r",
        "Spectral",
        "Spectral_r",
        "Vega10",
        "Vega10_r",
        "Vega20",
        "Vega20_r",
        "Vega20b",
        "Vega20b_r",
        "Vega20c",
        "Vega20c_r",
        "Wistia",
        "Wistia_r",
        "YlGn",
        "YlGnBu",
        "YlGnBu_r",
        "YlGn_r",
        "YlOrBr",
        "YlOrBr_r",
        "YlOrRd",
        "YlOrRd_r",
        "afmhot",
        "afmhot_r",
        "autumn",
        "autumn_r",
        "binary",
        "binary_r",
        "bone",
        "bone_r",
        "brg",
        "brg_r",
        "bwr",
        "bwr_r",
        "cool",
        "cool_r",
        "coolwarm",
        "coolwarm_r",
        "copper",
        "copper_r",
        "cubehelix",
        "cubehelix_r",
        "flag",
        "flag_r",
        "gist_earth",
        "gist_earth_r",
        "gist_gray",
        "gist_gray_r",
        "gist_heat",
        "gist_heat_r",
        "gist_ncar",
        "gist_ncar_r",
        "gist_rainbow",
        "gist_rainbow_r",
        "gist_stern",
        "gist_stern_r",
        "gist_yarg",
        "gist_yarg_r",
        "gnuplot",
        "gnuplot2",
        "gnuplot2_r",
        "gnuplot_r",
        "gray",
        "gray_r",
        "hot",
        "hot_r",
        "hsv",
        "hsv_r",
        "inferno",
        "inferno_r",
        "jet",
        "jet_r",
        "magma",
        "magma_r",
        "nipy_spectral",
        "nipy_spectral_r",
        "ocean",
        "ocean_r",
        "pink",
        "pink_r",
        "plasma",
        "plasma_r",
        "prism",
        "prism_r",
        "rainbow",
        "rainbow_r",
        "seismic",
        "seismic_r",
        "spectral",
        "spectral_r",
        "spring",
        "spring_r",
        "summer",
        "summer_r",
        "tab10",
        "tab10_r",
        "tab20",
        "tab20_r",
        "tab20b",
        "tab20b_r",
        "tab20c",
        "tab20c_r",
        "terrain",
        "terrain_r",
        "viridis",
        "viridis_r",
        "winter",
        "winter_r"
       ],
       "description": "Colormap:",
       "index": 0,
       "layout": "IPY_MODEL_95db0e01eb584c99bae3de01d0e37529",
       "rows": 1,
       "style": "IPY_MODEL_08e86cc5769c45d4ac02d5137c31faed"
      }
     },
     "4244d2dd6ee34afda319679148d64cab": {
      "model_module": "@jupyter-widgets/base",
      "model_module_version": "1.0.0",
      "model_name": "LayoutModel",
      "state": {
       "width": "100%"
      }
     },
     "424d227284944887976578b712b1c0cb": {
      "model_module": "@jupyter-widgets/base",
      "model_module_version": "1.0.0",
      "model_name": "LayoutModel",
      "state": {}
     },
     "4360c75261574b7095f728a900fbcc88": {
      "model_module": "@jupyter-widgets/controls",
      "model_module_version": "1.1.0",
      "model_name": "ButtonStyleModel",
      "state": {}
     },
     "436fba9b27d54f5f9928242c29d66c79": {
      "model_module": "@jupyter-widgets/controls",
      "model_module_version": "1.1.0",
      "model_name": "IntTextModel",
      "state": {
       "description": "Feature columns:",
       "layout": "IPY_MODEL_56595d7e75f946739b6db7aba71e14c7",
       "step": 1,
       "style": "IPY_MODEL_4397f74941144dcfb9b60f2805ed2624",
       "value": 3
      }
     },
     "4397f74941144dcfb9b60f2805ed2624": {
      "model_module": "@jupyter-widgets/controls",
      "model_module_version": "1.1.0",
      "model_name": "DescriptionStyleModel",
      "state": {
       "description_width": "initial"
      }
     },
     "43bf1c1b6ccb49388709ed79d013cbde": {
      "model_module": "@jupyter-widgets/controls",
      "model_module_version": "1.1.0",
      "model_name": "HBoxModel",
      "state": {
       "children": [
        "IPY_MODEL_f6dd51414afc48aba3c6054260d3de77",
        "IPY_MODEL_2a824ff3737547b884273b8155f9c68a"
       ],
       "layout": "IPY_MODEL_d037cddb6c5040ad9aa7bc502a1c2b4a"
      }
     },
     "43d82f957f41437abe54242d058c42de": {
      "model_module": "@jupyter-widgets/base",
      "model_module_version": "1.0.0",
      "model_name": "LayoutModel",
      "state": {
       "width": "100%"
      }
     },
     "43ffc526d81a49ffb4c7795d0a1d8a12": {
      "model_module": "@jupyter-widgets/controls",
      "model_module_version": "1.1.0",
      "model_name": "DescriptionStyleModel",
      "state": {
       "description_width": ""
      }
     },
     "4441e4870c0943b38a9ac4d9de4dca7a": {
      "model_module": "@jupyter-widgets/base",
      "model_module_version": "1.0.0",
      "model_name": "LayoutModel",
      "state": {
       "width": "100%"
      }
     },
     "448bf2883c7c4a74b3cdfcb1a82d8eb1": {
      "model_module": "@jupyter-widgets/controls",
      "model_module_version": "1.1.0",
      "model_name": "LabelModel",
      "state": {
       "layout": "IPY_MODEL_9bc367ed8d6e49f18a1d1d90fc7e5311",
       "style": "IPY_MODEL_b5ca7836694745a082e96b81a0a49ed1",
       "value": "of 0"
      }
     },
     "44efce98f46f485881a842fba3371cdc": {
      "model_module": "@jupyter-widgets/controls",
      "model_module_version": "1.1.0",
      "model_name": "FloatTextModel",
      "state": {
       "description": "Rightmost color maps to:",
       "layout": "IPY_MODEL_8b0692affd044a608fc4fd775410afe9",
       "step": null,
       "style": "IPY_MODEL_b2092138b01e47d3bd41431878d5125a",
       "value": 1
      }
     },
     "45bad012426e41b38762f37354d598c1": {
      "model_module": "@jupyter-widgets/controls",
      "model_module_version": "1.1.0",
      "model_name": "ButtonStyleModel",
      "state": {}
     },
     "45c3797d01804c61823e0a689658421d": {
      "model_module": "@jupyter-widgets/controls",
      "model_module_version": "1.1.0",
      "model_name": "ButtonStyleModel",
      "state": {}
     },
     "4624c80207ef485599425b9213b08816": {
      "model_module": "@jupyter-widgets/controls",
      "model_module_version": "1.1.0",
      "model_name": "DescriptionStyleModel",
      "state": {
       "description_width": ""
      }
     },
     "4636e3bc6aa44228be834a6a6c35369b": {
      "model_module": "@jupyter-widgets/base",
      "model_module_version": "1.0.0",
      "model_name": "LayoutModel",
      "state": {
       "width": "100%"
      }
     },
     "46e3437263ba4f70a2071396b0b6a37f": {
      "model_module": "@jupyter-widgets/controls",
      "model_module_version": "1.1.0",
      "model_name": "HBoxModel",
      "state": {
       "children": [
        "IPY_MODEL_a2873650574e490b8268410831521546",
        "IPY_MODEL_6436b71af65947b38906b8842846d59f",
        "IPY_MODEL_cf8c11543d8041ed88c1b5d252509601",
        "IPY_MODEL_771f7dc479f44e79b98729280f679b0e",
        "IPY_MODEL_02eca19e11c44de3a7bb86eef649a02f",
        "IPY_MODEL_9e14712e926f4cb78a4fcee60c6abf3a",
        "IPY_MODEL_48288373cce540c4a815fdb06d2fa170"
       ],
       "layout": "IPY_MODEL_9cd61e2a16944eb6bdaffa16ede58090"
      }
     },
     "47162026549149858bda013fed6702c7": {
      "model_module": "@jupyter-widgets/base",
      "model_module_version": "1.0.0",
      "model_name": "LayoutModel",
      "state": {
       "width": "100%"
      }
     },
     "471e3dde34e944a38a9718e7118d28c0": {
      "model_module": "@jupyter-widgets/controls",
      "model_module_version": "1.1.0",
      "model_name": "IntTextModel",
      "state": {
       "description": "Feature columns:",
       "layout": "IPY_MODEL_f8c3ce32c15c4bf8ba474033bd3930a7",
       "step": 1,
       "style": "IPY_MODEL_7ab14ba9c81243949b92c0e514c9beb2",
       "value": 3
      }
     },
     "471f6c88229a4799bf758f24a0ac6094": {
      "model_module": "@jupyter-widgets/base",
      "model_module_version": "1.0.0",
      "model_name": "LayoutModel",
      "state": {
       "width": "100%"
      }
     },
     "4723c758fd4b42719007da4d7ffaa09e": {
      "model_module": "@jupyter-widgets/base",
      "model_module_version": "1.0.0",
      "model_name": "LayoutModel",
      "state": {}
     },
     "4765bd73a46f49faab14f4733e7c58d4": {
      "model_module": "@jupyter-widgets/controls",
      "model_module_version": "1.1.0",
      "model_name": "IntSliderModel",
      "state": {
       "continuous_update": false,
       "description": "Dataset index",
       "layout": "IPY_MODEL_63b7c15e5fe84158a346b89a1eb1236b",
       "max": 0,
       "style": "IPY_MODEL_9db75297a3204db788e153a4054ef76b"
      }
     },
     "4768150135834a95821f3a0b157001a0": {
      "model_module": "@jupyter-widgets/base",
      "model_module_version": "1.0.0",
      "model_name": "LayoutModel",
      "state": {
       "width": "100%"
      }
     },
     "47bacda24cb442d5b0fd56c31bdabf67": {
      "model_module": "@jupyter-widgets/controls",
      "model_module_version": "1.1.0",
      "model_name": "FloatTextModel",
      "state": {
       "description": "Leftmost color maps to:",
       "layout": "IPY_MODEL_05ee048a99a24530a2d0480d775f4c7e",
       "step": null,
       "style": "IPY_MODEL_db1864e7be894b4cbf4747e2e0e8c899",
       "value": -1
      }
     },
     "481a8b178f964eadb73f32fef999c0d1": {
      "model_module": "@jupyter-widgets/controls",
      "model_module_version": "1.1.0",
      "model_name": "IntTextModel",
      "state": {
       "description": "Feature columns:",
       "layout": "IPY_MODEL_287edda6b88d479abac1b976a0833bfa",
       "step": 1,
       "style": "IPY_MODEL_3767a9a0f5b94c2796307b02a6f7d42d",
       "value": 3
      }
     },
     "48288373cce540c4a815fdb06d2fa170": {
      "model_module": "@jupyter-widgets/controls",
      "model_module_version": "1.1.0",
      "model_name": "ButtonModel",
      "state": {
       "icon": "refresh",
       "layout": "IPY_MODEL_ceea9c74c1e34c6e87eb7a402db83d2b",
       "style": "IPY_MODEL_ac5fba3c65744003baf4fe1381f934dd"
      }
     },
     "48297e8208bb41729d4a0b26228ab491": {
      "model_module": "@jupyter-widgets/base",
      "model_module_version": "1.0.0",
      "model_name": "LayoutModel",
      "state": {
       "width": "100%"
      }
     },
     "4836bd7e35494fdeb2f65df31bed7a98": {
      "model_module": "@jupyter-widgets/controls",
      "model_module_version": "1.1.0",
      "model_name": "DescriptionStyleModel",
      "state": {
       "description_width": "initial"
      }
     },
     "4895eb049c7a47f79fa1090eae5fbbd4": {
      "model_module": "@jupyter-widgets/base",
      "model_module_version": "1.0.0",
      "model_name": "LayoutModel",
      "state": {
       "width": "100%"
      }
     },
     "48cda40fc8b94dc0a2a9b4d57550580d": {
      "model_module": "@jupyter-widgets/controls",
      "model_module_version": "1.1.0",
      "model_name": "FloatTextModel",
      "state": {
       "description": "Feature scale:",
       "layout": "IPY_MODEL_f7a93c0ef9b04e30aa04a48da8caa597",
       "step": null,
       "style": "IPY_MODEL_042ce6996e76435e86126d34b7ed8b3d",
       "value": 2
      }
     },
     "492445cc709847708a73ee280e991fbf": {
      "model_module": "@jupyter-widgets/controls",
      "model_module_version": "1.1.0",
      "model_name": "SelectModel",
      "state": {
       "_options_labels": [
        "input1",
        "hidden1",
        "output1"
       ],
       "description": "Layer:",
       "index": 2,
       "layout": "IPY_MODEL_727ebd75740045e48522382aff3f08de",
       "rows": 1,
       "style": "IPY_MODEL_0f0ab7e6f524426c8780637ad4ea8350"
      }
     },
     "495cb205a06b48e7b644f32885f2a4ee": {
      "model_module": "@jupyter-widgets/controls",
      "model_module_version": "1.1.0",
      "model_name": "FloatTextModel",
      "state": {
       "description": "Feature scale:",
       "layout": "IPY_MODEL_595e01e27e0b418a851c02522c38b3b5",
       "step": null,
       "style": "IPY_MODEL_13f78f74820e4cedb8f0dec7dee884a6",
       "value": 2
      }
     },
     "49b4034ff3ca45a1b85f192d59e0451f": {
      "model_module": "@jupyter-widgets/controls",
      "model_module_version": "1.1.0",
      "model_name": "ButtonModel",
      "state": {
       "icon": "refresh",
       "layout": "IPY_MODEL_122f74197c6843beab6271bdb9e2ddef",
       "style": "IPY_MODEL_13a11b1465cb49d489227915a3bfb63a"
      }
     },
     "49fb2713f3c24889bfadde43a9fea78b": {
      "model_module": "@jupyter-widgets/base",
      "model_module_version": "1.0.0",
      "model_name": "LayoutModel",
      "state": {}
     },
     "4a0c30df956c4a079336151eeb77d017": {
      "model_module": "@jupyter-widgets/base",
      "model_module_version": "1.0.0",
      "model_name": "LayoutModel",
      "state": {
       "width": "100%"
      }
     },
     "4a4ca491573544c7b7ba475eec7d5546": {
      "model_module": "@jupyter-widgets/controls",
      "model_module_version": "1.1.0",
      "model_name": "IntTextModel",
      "state": {
       "description": "Horizontal space between banks:",
       "layout": "IPY_MODEL_0169d3a3fc6f45a9a227e73e7898c690",
       "step": 1,
       "style": "IPY_MODEL_84aba01eead24836872ed8b8e44b2d63",
       "value": 150
      }
     },
     "4aa29004267f4f3da8f87fdad1c4b17d": {
      "model_module": "@jupyter-widgets/output",
      "model_module_version": "1.1.0",
      "model_name": "OutputModel",
      "state": {
       "_model_module_version": "1.1.0",
       "_view_module_version": "1.1.0",
       "layout": "IPY_MODEL_a8a6452b391e4d48b515bdd5f8dcaea1"
      }
     },
     "4ad5fe1e1b5a4ecf8aaf3fb4759b3b65": {
      "model_module": "@jupyter-widgets/controls",
      "model_module_version": "1.1.0",
      "model_name": "SliderStyleModel",
      "state": {
       "description_width": ""
      }
     },
     "4ae244509b8e4750a2a6173c7165ae09": {
      "model_module": "@jupyter-widgets/base",
      "model_module_version": "1.0.0",
      "model_name": "LayoutModel",
      "state": {}
     },
     "4ae5fd6b06a94855994af36b2713015e": {
      "model_module": "@jupyter-widgets/controls",
      "model_module_version": "1.1.0",
      "model_name": "ButtonModel",
      "state": {
       "icon": "fast-backward",
       "layout": "IPY_MODEL_f9a1db6a0f5e4f4895c7183045a6240c",
       "style": "IPY_MODEL_c4b033b21c264489a392ce58a8d20664"
      }
     },
     "4ae6e942c691458e8a0468d6d748962d": {
      "model_module": "@jupyter-widgets/base",
      "model_module_version": "1.0.0",
      "model_name": "LayoutModel",
      "state": {
       "width": "100%"
      }
     },
     "4b1ace11838a4ce68f7efd54cbd6ea4d": {
      "model_module": "@jupyter-widgets/base",
      "model_module_version": "1.0.0",
      "model_name": "LayoutModel",
      "state": {
       "width": "100%"
      }
     },
     "4b295a92022444e9a29e816eed1cdff1": {
      "model_module": "@jupyter-widgets/controls",
      "model_module_version": "1.1.0",
      "model_name": "CheckboxModel",
      "state": {
       "description": "Errors",
       "disabled": false,
       "layout": "IPY_MODEL_7f571e3055f649b895d154263ff746af",
       "style": "IPY_MODEL_c80b08d0ba7649dca3e6a37a175c6e22",
       "value": false
      }
     },
     "4b7bd006154847d5ad46ab51fba8e999": {
      "model_module": "@jupyter-widgets/base",
      "model_module_version": "1.0.0",
      "model_name": "LayoutModel",
      "state": {
       "width": "100%"
      }
     },
     "4c11c24a03194c86aded16d6a8976b61": {
      "model_module": "@jupyter-widgets/controls",
      "model_module_version": "1.1.0",
      "model_name": "AccordionModel",
      "state": {
       "_titles": {
        "0": "XOR Network"
       },
       "children": [
        "IPY_MODEL_082209f0b7a84a71ae1616d01a460efe"
       ],
       "layout": "IPY_MODEL_39629d5a5b5040d5b9d1e8b45ae42506",
       "selected_index": null
      }
     },
     "4c252e347b7942378bf9f23c9ed5e7a0": {
      "model_module": "@jupyter-widgets/controls",
      "model_module_version": "1.1.0",
      "model_name": "SelectModel",
      "state": {
       "_options_labels": [
        "",
        "Accent",
        "Accent_r",
        "Blues",
        "Blues_r",
        "BrBG",
        "BrBG_r",
        "BuGn",
        "BuGn_r",
        "BuPu",
        "BuPu_r",
        "CMRmap",
        "CMRmap_r",
        "Dark2",
        "Dark2_r",
        "GnBu",
        "GnBu_r",
        "Greens",
        "Greens_r",
        "Greys",
        "Greys_r",
        "OrRd",
        "OrRd_r",
        "Oranges",
        "Oranges_r",
        "PRGn",
        "PRGn_r",
        "Paired",
        "Paired_r",
        "Pastel1",
        "Pastel1_r",
        "Pastel2",
        "Pastel2_r",
        "PiYG",
        "PiYG_r",
        "PuBu",
        "PuBuGn",
        "PuBuGn_r",
        "PuBu_r",
        "PuOr",
        "PuOr_r",
        "PuRd",
        "PuRd_r",
        "Purples",
        "Purples_r",
        "RdBu",
        "RdBu_r",
        "RdGy",
        "RdGy_r",
        "RdPu",
        "RdPu_r",
        "RdYlBu",
        "RdYlBu_r",
        "RdYlGn",
        "RdYlGn_r",
        "Reds",
        "Reds_r",
        "Set1",
        "Set1_r",
        "Set2",
        "Set2_r",
        "Set3",
        "Set3_r",
        "Spectral",
        "Spectral_r",
        "Vega10",
        "Vega10_r",
        "Vega20",
        "Vega20_r",
        "Vega20b",
        "Vega20b_r",
        "Vega20c",
        "Vega20c_r",
        "Wistia",
        "Wistia_r",
        "YlGn",
        "YlGnBu",
        "YlGnBu_r",
        "YlGn_r",
        "YlOrBr",
        "YlOrBr_r",
        "YlOrRd",
        "YlOrRd_r",
        "afmhot",
        "afmhot_r",
        "autumn",
        "autumn_r",
        "binary",
        "binary_r",
        "bone",
        "bone_r",
        "brg",
        "brg_r",
        "bwr",
        "bwr_r",
        "cool",
        "cool_r",
        "coolwarm",
        "coolwarm_r",
        "copper",
        "copper_r",
        "cubehelix",
        "cubehelix_r",
        "flag",
        "flag_r",
        "gist_earth",
        "gist_earth_r",
        "gist_gray",
        "gist_gray_r",
        "gist_heat",
        "gist_heat_r",
        "gist_ncar",
        "gist_ncar_r",
        "gist_rainbow",
        "gist_rainbow_r",
        "gist_stern",
        "gist_stern_r",
        "gist_yarg",
        "gist_yarg_r",
        "gnuplot",
        "gnuplot2",
        "gnuplot2_r",
        "gnuplot_r",
        "gray",
        "gray_r",
        "hot",
        "hot_r",
        "hsv",
        "hsv_r",
        "inferno",
        "inferno_r",
        "jet",
        "jet_r",
        "magma",
        "magma_r",
        "nipy_spectral",
        "nipy_spectral_r",
        "ocean",
        "ocean_r",
        "pink",
        "pink_r",
        "plasma",
        "plasma_r",
        "prism",
        "prism_r",
        "rainbow",
        "rainbow_r",
        "seismic",
        "seismic_r",
        "spectral",
        "spectral_r",
        "spring",
        "spring_r",
        "summer",
        "summer_r",
        "tab10",
        "tab10_r",
        "tab20",
        "tab20_r",
        "tab20b",
        "tab20b_r",
        "tab20c",
        "tab20c_r",
        "terrain",
        "terrain_r",
        "viridis",
        "viridis_r",
        "winter",
        "winter_r"
       ],
       "description": "Colormap:",
       "index": 0,
       "layout": "IPY_MODEL_ccfe54dd20874d649b9bdfb37cde34a6",
       "rows": 1,
       "style": "IPY_MODEL_3e093e794ffa4af6a24933d1414d4afe"
      }
     },
     "4cb07862c38a49a8a97be8622560e2d2": {
      "model_module": "@jupyter-widgets/controls",
      "model_module_version": "1.1.0",
      "model_name": "DescriptionStyleModel",
      "state": {
       "description_width": ""
      }
     },
     "4cda1118479a418da99692bf4ece2c59": {
      "model_module": "@jupyter-widgets/controls",
      "model_module_version": "1.1.0",
      "model_name": "DescriptionStyleModel",
      "state": {
       "description_width": ""
      }
     },
     "4ce2ef5e67fe496bbc88a8fb892c04ad": {
      "model_module": "@jupyter-widgets/controls",
      "model_module_version": "1.1.0",
      "model_name": "CheckboxModel",
      "state": {
       "description": "Show Targets",
       "disabled": false,
       "layout": "IPY_MODEL_ccfe54dd20874d649b9bdfb37cde34a6",
       "style": "IPY_MODEL_f1fa4ba38f514bb2a5f070489b6004c3",
       "value": false
      }
     },
     "4d5316803a374a1891cdea4f39991cb3": {
      "model_module": "@jupyter-widgets/controls",
      "model_module_version": "1.1.0",
      "model_name": "ButtonStyleModel",
      "state": {}
     },
     "4d7d6444da874bcd80de42137f2c088d": {
      "model_module": "@jupyter-widgets/base",
      "model_module_version": "1.0.0",
      "model_name": "LayoutModel",
      "state": {}
     },
     "4d8070ac676341f481791317a4f5892e": {
      "model_module": "@jupyter-widgets/base",
      "model_module_version": "1.0.0",
      "model_name": "LayoutModel",
      "state": {
       "width": "100%"
      }
     },
     "4f0ce94b9c694bcc8067409db56e7f49": {
      "model_module": "@jupyter-widgets/base",
      "model_module_version": "1.0.0",
      "model_name": "LayoutModel",
      "state": {}
     },
     "4f11049f59fb4d6a95ff1eb072a945b3": {
      "model_module": "@jupyter-widgets/base",
      "model_module_version": "1.0.0",
      "model_name": "LayoutModel",
      "state": {}
     },
     "4f2c0d88c656448bb5869f2edbf4c562": {
      "model_module": "@jupyter-widgets/controls",
      "model_module_version": "1.1.0",
      "model_name": "ButtonModel",
      "state": {
       "icon": "forward",
       "layout": "IPY_MODEL_4d8070ac676341f481791317a4f5892e",
       "style": "IPY_MODEL_c8ca02061bdd44d7b05af847e846fe8d"
      }
     },
     "4f58acb84c684832baa9686065f3201b": {
      "model_module": "@jupyter-widgets/controls",
      "model_module_version": "1.1.0",
      "model_name": "FloatTextModel",
      "state": {
       "description": "Feature scale:",
       "layout": "IPY_MODEL_57f59bda87d84198a9a0aadf76842a53",
       "step": null,
       "style": "IPY_MODEL_15afcff71cca4b21965071ba008bdf23",
       "value": 2
      }
     },
     "4f5a707e022746e19c4ed74d496c1fc7": {
      "model_module": "@jupyter-widgets/controls",
      "model_module_version": "1.1.0",
      "model_name": "HBoxModel",
      "state": {
       "children": [
        "IPY_MODEL_4ce2ef5e67fe496bbc88a8fb892c04ad",
        "IPY_MODEL_da9a4f4eedae47298f208a56b64d59ae"
       ],
       "layout": "IPY_MODEL_a7db41221ec04f56b636008c7f920c3a"
      }
     },
     "4f9354c634b14dd188c66ecd8649bf6e": {
      "model_module": "@jupyter-widgets/base",
      "model_module_version": "1.0.0",
      "model_name": "LayoutModel",
      "state": {}
     },
     "5009b00f1dc34d86bcc959cd777de279": {
      "model_module": "@jupyter-widgets/base",
      "model_module_version": "1.0.0",
      "model_name": "LayoutModel",
      "state": {
       "width": "100%"
      }
     },
     "507c20d853ff4f769298bd4c812750e2": {
      "model_module": "@jupyter-widgets/base",
      "model_module_version": "1.0.0",
      "model_name": "LayoutModel",
      "state": {}
     },
     "50e8ef3d179f4394980bd8201e9e7925": {
      "model_module": "@jupyter-widgets/base",
      "model_module_version": "1.0.0",
      "model_name": "LayoutModel",
      "state": {
       "width": "100%"
      }
     },
     "51693fa769d9477f9b00aa6d5cfc391b": {
      "model_module": "@jupyter-widgets/controls",
      "model_module_version": "1.1.0",
      "model_name": "SelectModel",
      "state": {
       "_options_labels": [
        "",
        "Accent",
        "Accent_r",
        "Blues",
        "Blues_r",
        "BrBG",
        "BrBG_r",
        "BuGn",
        "BuGn_r",
        "BuPu",
        "BuPu_r",
        "CMRmap",
        "CMRmap_r",
        "Dark2",
        "Dark2_r",
        "GnBu",
        "GnBu_r",
        "Greens",
        "Greens_r",
        "Greys",
        "Greys_r",
        "OrRd",
        "OrRd_r",
        "Oranges",
        "Oranges_r",
        "PRGn",
        "PRGn_r",
        "Paired",
        "Paired_r",
        "Pastel1",
        "Pastel1_r",
        "Pastel2",
        "Pastel2_r",
        "PiYG",
        "PiYG_r",
        "PuBu",
        "PuBuGn",
        "PuBuGn_r",
        "PuBu_r",
        "PuOr",
        "PuOr_r",
        "PuRd",
        "PuRd_r",
        "Purples",
        "Purples_r",
        "RdBu",
        "RdBu_r",
        "RdGy",
        "RdGy_r",
        "RdPu",
        "RdPu_r",
        "RdYlBu",
        "RdYlBu_r",
        "RdYlGn",
        "RdYlGn_r",
        "Reds",
        "Reds_r",
        "Set1",
        "Set1_r",
        "Set2",
        "Set2_r",
        "Set3",
        "Set3_r",
        "Spectral",
        "Spectral_r",
        "Vega10",
        "Vega10_r",
        "Vega20",
        "Vega20_r",
        "Vega20b",
        "Vega20b_r",
        "Vega20c",
        "Vega20c_r",
        "Wistia",
        "Wistia_r",
        "YlGn",
        "YlGnBu",
        "YlGnBu_r",
        "YlGn_r",
        "YlOrBr",
        "YlOrBr_r",
        "YlOrRd",
        "YlOrRd_r",
        "afmhot",
        "afmhot_r",
        "autumn",
        "autumn_r",
        "binary",
        "binary_r",
        "bone",
        "bone_r",
        "brg",
        "brg_r",
        "bwr",
        "bwr_r",
        "cool",
        "cool_r",
        "coolwarm",
        "coolwarm_r",
        "copper",
        "copper_r",
        "cubehelix",
        "cubehelix_r",
        "flag",
        "flag_r",
        "gist_earth",
        "gist_earth_r",
        "gist_gray",
        "gist_gray_r",
        "gist_heat",
        "gist_heat_r",
        "gist_ncar",
        "gist_ncar_r",
        "gist_rainbow",
        "gist_rainbow_r",
        "gist_stern",
        "gist_stern_r",
        "gist_yarg",
        "gist_yarg_r",
        "gnuplot",
        "gnuplot2",
        "gnuplot2_r",
        "gnuplot_r",
        "gray",
        "gray_r",
        "hot",
        "hot_r",
        "hsv",
        "hsv_r",
        "inferno",
        "inferno_r",
        "jet",
        "jet_r",
        "magma",
        "magma_r",
        "nipy_spectral",
        "nipy_spectral_r",
        "ocean",
        "ocean_r",
        "pink",
        "pink_r",
        "plasma",
        "plasma_r",
        "prism",
        "prism_r",
        "rainbow",
        "rainbow_r",
        "seismic",
        "seismic_r",
        "spectral",
        "spectral_r",
        "spring",
        "spring_r",
        "summer",
        "summer_r",
        "tab10",
        "tab10_r",
        "tab20",
        "tab20_r",
        "tab20b",
        "tab20b_r",
        "tab20c",
        "tab20c_r",
        "terrain",
        "terrain_r",
        "viridis",
        "viridis_r",
        "winter",
        "winter_r"
       ],
       "description": "Colormap:",
       "index": 0,
       "layout": "IPY_MODEL_a8347632723543fab2507dee46c04d36",
       "rows": 1,
       "style": "IPY_MODEL_769c871651ff4d0e989dc0c93e0a2521"
      }
     },
     "51750c2297d14cc0843899702e8d8332": {
      "model_module": "@jupyter-widgets/controls",
      "model_module_version": "1.1.0",
      "model_name": "DescriptionStyleModel",
      "state": {
       "description_width": ""
      }
     },
     "522fda636c704979862ef0034b217872": {
      "model_module": "@jupyter-widgets/controls",
      "model_module_version": "1.1.0",
      "model_name": "IntTextModel",
      "state": {
       "description": "Vertical space between layers:",
       "layout": "IPY_MODEL_38270298e23147efb6a67eeaa247b18e",
       "step": 1,
       "style": "IPY_MODEL_f5a295486eef42b48f8d150f71f9b0ab",
       "value": 30
      }
     },
     "525feea29e884095b6be0085bfb8b7d9": {
      "model_module": "@jupyter-widgets/base",
      "model_module_version": "1.0.0",
      "model_name": "LayoutModel",
      "state": {
       "width": "100%"
      }
     },
     "52735e6e775946549b05fa47498c8fc5": {
      "model_module": "@jupyter-widgets/controls",
      "model_module_version": "1.1.0",
      "model_name": "VBoxModel",
      "state": {
       "children": [
        "IPY_MODEL_75a21fdb5fc6450aa711d80d087045a8",
        "IPY_MODEL_0fd2e1350ca14537ab5a61ca6b1ea71e"
       ],
       "layout": "IPY_MODEL_30c73e8aa24946eaad19ac01ac214ae9"
      }
     },
     "5287649e56a24b17aae69fce0f43351d": {
      "model_module": "@jupyter-widgets/output",
      "model_module_version": "1.1.0",
      "model_name": "OutputModel",
      "state": {
       "_model_module_version": "1.1.0",
       "_view_module_version": "1.1.0",
       "layout": "IPY_MODEL_91c603c629a3480ca60f1891d4df6ef2"
      }
     },
     "52bba2d7db5e4a948d86ce1d5daf1c28": {
      "model_module": "@jupyter-widgets/controls",
      "model_module_version": "1.1.0",
      "model_name": "DescriptionStyleModel",
      "state": {
       "description_width": "initial"
      }
     },
     "52c14d4e229a4297bb66a20b8b581f61": {
      "model_module": "@jupyter-widgets/controls",
      "model_module_version": "1.1.0",
      "model_name": "ButtonModel",
      "state": {
       "description": "Play",
       "icon": "play",
       "layout": "IPY_MODEL_400601e632f34678a95366f138be13cf",
       "style": "IPY_MODEL_a633534b96fa4c5890cf4f64d859b088"
      }
     },
     "52d3e0cbbdc848aa88e35ddefe87315a": {
      "model_module": "@jupyter-widgets/controls",
      "model_module_version": "1.1.0",
      "model_name": "DescriptionStyleModel",
      "state": {
       "description_width": "initial"
      }
     },
     "5326ae6b0a5a4bb5b33082003e0c6db1": {
      "model_module": "@jupyter-widgets/controls",
      "model_module_version": "1.1.0",
      "model_name": "DescriptionStyleModel",
      "state": {
       "description_width": "initial"
      }
     },
     "533409c8f7cf406c860875c74519c189": {
      "model_module": "@jupyter-widgets/controls",
      "model_module_version": "1.1.0",
      "model_name": "DescriptionStyleModel",
      "state": {
       "description_width": ""
      }
     },
     "536637a856b84f97a7b9d5e591f52dad": {
      "model_module": "@jupyter-widgets/controls",
      "model_module_version": "1.1.0",
      "model_name": "IntTextModel",
      "state": {
       "description": "Feature to show:",
       "layout": "IPY_MODEL_a1c7a85aea5640689a4d2cf87208da76",
       "step": 1,
       "style": "IPY_MODEL_9de2e3f31d4845dc88b2dc0143ae31e7"
      }
     },
     "53f6edcc8ef84cddb81621a6d9eb7143": {
      "model_module": "@jupyter-widgets/base",
      "model_module_version": "1.0.0",
      "model_name": "LayoutModel",
      "state": {}
     },
     "5438f721cc084a11a0a7ef3a93aab15c": {
      "model_module": "@jupyter-widgets/controls",
      "model_module_version": "1.1.0",
      "model_name": "DescriptionStyleModel",
      "state": {
       "description_width": ""
      }
     },
     "54535ace815a41dd95a31049db3b751f": {
      "model_module": "@jupyter-widgets/base",
      "model_module_version": "1.0.0",
      "model_name": "LayoutModel",
      "state": {
       "width": "100px"
      }
     },
     "547e74af66a440958aa03a3a6f0f0bfb": {
      "model_module": "@jupyter-widgets/base",
      "model_module_version": "1.0.0",
      "model_name": "LayoutModel",
      "state": {
       "width": "100%"
      }
     },
     "54a5fa264300423b9e9bf07a9c26f0a9": {
      "model_module": "@jupyter-widgets/controls",
      "model_module_version": "1.1.0",
      "model_name": "DescriptionStyleModel",
      "state": {
       "description_width": "initial"
      }
     },
     "54c155814c4848549ed3061ffb7d0ce4": {
      "model_module": "@jupyter-widgets/controls",
      "model_module_version": "1.1.0",
      "model_name": "DescriptionStyleModel",
      "state": {
       "description_width": "initial"
      }
     },
     "54c516c7ff584dc1969a7c20e39b4e3c": {
      "model_module": "@jupyter-widgets/controls",
      "model_module_version": "1.1.0",
      "model_name": "SelectModel",
      "state": {
       "_options_labels": [
        "Test",
        "Train"
       ],
       "description": "Dataset:",
       "index": 1,
       "layout": "IPY_MODEL_7c5832b148304a9b828ec5612e3595e9",
       "rows": 1,
       "style": "IPY_MODEL_3701fec6b96746dd99796fe27f25bb0d"
      }
     },
     "561bc14c1d6445f88bd574ebd08ab4ed": {
      "model_module": "@jupyter-widgets/controls",
      "model_module_version": "1.1.0",
      "model_name": "CheckboxModel",
      "state": {
       "description": "Show Targets",
       "disabled": false,
       "layout": "IPY_MODEL_0169d3a3fc6f45a9a227e73e7898c690",
       "style": "IPY_MODEL_bc7c956e48554b96b10308b3c594ab57",
       "value": false
      }
     },
     "56595d7e75f946739b6db7aba71e14c7": {
      "model_module": "@jupyter-widgets/base",
      "model_module_version": "1.0.0",
      "model_name": "LayoutModel",
      "state": {}
     },
     "56bb56362dfe4d83b2f437bc83550579": {
      "model_module": "@jupyter-widgets/base",
      "model_module_version": "1.0.0",
      "model_name": "LayoutModel",
      "state": {
       "height": "40px"
      }
     },
     "56d52d8c84644c9191947d2bdf449421": {
      "model_module": "@jupyter-widgets/controls",
      "model_module_version": "1.1.0",
      "model_name": "DescriptionStyleModel",
      "state": {
       "description_width": ""
      }
     },
     "5749bbaf12f84ad8a38122d86a2214f2": {
      "model_module": "@jupyter-widgets/controls",
      "model_module_version": "1.1.0",
      "model_name": "IntTextModel",
      "state": {
       "description": "Vertical space between layers:",
       "layout": "IPY_MODEL_7f571e3055f649b895d154263ff746af",
       "step": 1,
       "style": "IPY_MODEL_b3c7b627c0c94160a91fe10380175182",
       "value": 30
      }
     },
     "5771a9c5e96c45169cf57517e06204fa": {
      "model_module": "@jupyter-widgets/controls",
      "model_module_version": "1.1.0",
      "model_name": "IntTextModel",
      "state": {
       "description": "Feature to show:",
       "layout": "IPY_MODEL_254135f4b8e048a78afeee7fd4047569",
       "step": 1,
       "style": "IPY_MODEL_c53f47c1541947d5a4b8ecd4d96a1be2"
      }
     },
     "57c53e84b46447059bbc6e7d491dbb99": {
      "model_module": "@jupyter-widgets/controls",
      "model_module_version": "1.1.0",
      "model_name": "HTMLModel",
      "state": {
       "layout": "IPY_MODEL_380bf6423ca9417799717f06befcc3b2",
       "style": "IPY_MODEL_9fc45d9fa71b44259a22e0939706bcac",
       "value": "<p style=\"text-align:center\"><svg id='XOR Network' xmlns='http://www.w3.org/2000/svg' viewBox=\"0 0 350 450\" max-width=\"100%\" height=\"780\" image-rendering=\"pixelated\">\n    <defs>\n        <marker id=\"arrow\" markerWidth=\"10\" markerHeight=\"10\" refX=\"9\" refY=\"3\" orient=\"auto\" markerUnits=\"strokeWidth\">\n          <path d=\"M0,0 L0,6 L9,3 z\" fill=\"black\" />\n        </marker>\n    </defs><text x=\"175.0\" y=\"12.5\" font-family=\"monospace\" font-size=\"15\" text-anchor=\"middle\" alignment-baseline=\"central\">XOR Network</text><rect x=\"74.0\" y=\"24\" width=\"202\" height=\"202\" style=\"fill:none;stroke:black;stroke-width:2\"/><image id=\"XOR Network_output1_10\" class=\"XOR Network_output1\" x=\"75.0\" y=\"25\" height=\"200\" width=\"200\" preserveAspectRatio=\"none\" href=\"data:image/gif;base64,R0lGODdhZABkAIcAAH8AAP///wAAAAAAAAAAAAAAAAAAAAAAAAAAAAAAAAAAAAAAAAAAAAAAAAAAAAAAAAAAAAAAAAAAAAAAAAAAAAAAAAAAAAAAAAAAAAAAAAAAAAAAAAAAAAAAAAAAAAAAAAAAAAAAAAAAAAAAAAAAAAAAAAAAAAAAAAAAAAAAAAAAAAAAAAAAAAAAAAAAAAAAAAAAAAAAAAAAAAAAAAAAAAAAAAAAAAAAAAAAAAAAAAAAAAAAAAAAAAAAAAAAAAAAAAAAAAAAAAAAAAAAAAAAAAAAAAAAAAAAAAAAAAAAAAAAAAAAAAAAAAAAAAAAAAAAAAAAAAAAAAAAAAAAAAAAAAAAAAAAAAAAAAAAAAAAAAAAAAAAAAAAAAAAAAAAAAAAAAAAAAAAAAAAAAAAAAAAAAAAAAAAAAAAAAAAAAAAAAAAAAAAAAAAAAAAAAAAAAAAAAAAAAAAAAAAAAAAAAAAAAAAAAAAAAAAAAAAAAAAAAAAAAAAAAAAAAAAAAAAAAAAAAAAAAAAAAAAAAAAAAAAAAAAAAAAAAAAAAAAAAAAAAAAAAAAAAAAAAAAAAAAAAAAAAAAAAAAAAAAAAAAAAAAAAAAAAAAAAAAAAAAAAAAAAAAAAAAAAAAAAAAAAAAAAAAAAAAAAAAAAAAAAAAAAAAAAAAAAAAAAAAAAAAAAAAAAAAAAAAAAAAAAAAAAAAAAAAAAAAAAAAAAAAAAAAAAAAAAAAAAAAAAAAAAAAAAAAAAAAAAAAAAAAAAAAAAAAAAAAAAAAAAAAAAAAAAAAAAAAAAAAAAAAAAAAAAAAAAAAAAAAAAAAAAAAAAAAAAAAAAAAAAAAAAAAAAAAAAAAAAAAAAAAAAAAAAAAAAAAAAAAAAAAAAAAAAAAAAAAAAAAAAAAAAAAAAAAAAAAAAAAAAAAAAAAAAAAAAAAAAAAAAAAAAAAAAAAAAAAAAAAAAAAAAAAAAAAAAAAAAAAAAAAAAAAAAAAAAAAAAAAAAAAAAAAAAAAAAAAAAAAAAAAAAAAAAAAACwAAAAAZABkAEAI/wADCBxIsKDBgwgTKlzIsKHDhwMFAJhIsaLFixgzarwoIIDHjyBDihxJ0qMAAChTqlzJsqXLlzBjphQQoKbNmzhzBhAAoKfPn0CDCh1KtKjRo0AFBFjKtGkAAQIASJ1KtarVq1izat3KdasAAQHChhUAoKzZs2jTql3Ltq3bt3DPCghAVwCAu3jz6t3Lt6/fv4ADC84rIIBhAQASK17MuLHjx5AjS55MebGAAJgxCwDAubPnz6BDix5NurTp0wICqF7NWgCA17Bjy55Nu7bt27hz0xYQoLfv38B9CxAAoLjx48iTK1/OvLlz5QIEBJhOvbr169irCwDAvbv37+DDi/8fT567gADo06tfz769+/fw0QuYLwCA/fv48+MXwF9AAIABBA4kWNDgQYQJFS4U0BDAQ4gRJU6kKFHAxQAZNW7k2NHjR5AaBQgAUNLkSZQpVa5k2TKlAAEBZM6kWdPmTQEAdO7k2dPnT6BBhQ4dKiDAUaRJlQYQAMDpU6hRpU6lWtXqVaxVBQTg2pWrAABhxY4lW9bsWbRp1a5lG1ZAALgBBACgW9fuXbx59e7l29fvX7sCAgwWAMDwYcSJFS9m3NjxY8iREQsIUDmAAACZNW/m3NnzZ9ChRY8mnVlAANSpAwgA0Nr1a9ixZc+mXdv2bdsCAuzm3bu3AADBhQ8nXtz/+HHkyZUvByAgwHPo0aVPjy5AAADs2bVv597d+3fw4AUICFDe/Hn06dWvTy9AAAD48eXPp1/ffn0BAgLs59/fP8AAAgcSLGjwIMKEAwUwFADgIcSIEiMKqCggAMaMGjdy7OjxI0iPAgQAKGnyJMqUKleqFCAgAMyYMmfSrGnzJkwBAHby7OnzJ9CgQofuFBDgKNKkSpcybSpAAICoUqdSrWr1KtasWQUICOD1K9iwYsUKEADgLNq0ateybev2LVy2AgQEqGv3Lt68AgDw7ev3L+DAggcTLmwYgIAAihczbhxAAIDIkidTrmz5MubMmjdbFhDgM+jQAQQAKG36NOrU/6pXs27t+rVrAQFm054tAADu3Lp38+7t+zfw4MKHCwhg/LgAAMqXM2/u/Dn06NKnU6+uXECA7AEEAOju/Tv48OLHky9v/jz67wICsBcA4D38+PLn069v/z7+/PrjCwjgH6AAAAMJFjR4EGFChQsZNnRYUEAAiQIAVLR4EWNGjRs5dvT4EeRFAQFICgBwEmVKlStZtnT5EmZMmSkFBLAZQAAAnTt59vT5E2hQoUOJFtUpIEBSpQIEAHD6FGpUqVOpVrV6FetVAQICdPXqVQAAsWPJljV7Fm1atWvZphUQAG5cuXEFALB7F29evXv59vX7F3BeAQEIFzZ8uLAAAIsZN/92/BhyZMmTKVMWEABzZs2bOWsWAAB0aNGjSZc2fRp16tACArR2/Rp2bNmvBQgAcBt3bt27eff2/Xu3AAEBiBc3fhx5cuXHBQBw/hx6dOnTqVeXLiBAdu3buXf3/h08eAHjAZQ3fx59evXoBbQP8B5+fPnz6de3fx9//vcCAvT3DzCAwIEECxo8iDChwoUMDQp4CDGixIgBKlq8iDGjxo0cO3rUKCCkAAAkS5o8iRKlgJUCArh8CTOmzJk0a9qUKUAAgJ08e/r8CTQoTwECAhg9ijSp0qVMmzIVIACA1KlUq1q9ijWrVAECAnj9Cjas2LFkywYQIACA2rVs27p9Czf/LlwBAgLYvYs3r969fPEKEAAgsODBhAsbPow48WABAgI4fgw5suTJlAUAuIw5s+bNnDt7/txZQIDRpEubPo26tAABAFq7fg07tuzZtGvbBiBAQIDdvHv7/v1bgAAAxIsbP448ufLlzJsfFyAggPTp1Ktbny4AgPbt3Lt7/w4+vPjx4QUEOI8+vfr1AgC4fw8/vvz59Ovbv48fgIAA/Pv7BxhA4ECBAgAcRJhQ4UKGDR0+hBgRoYAAFS1exBhAAACOHT1+BBlS5EiSJU1+FBBA5UqWLAUAgBlT5kyaNW3exJlTZ00BAXz+BOpTAACiRY0eRZpU6VKmTZ0uFRBA6lSq/wIAXMWaVetWrl29fgUbFqyAAGXNlhUAQO1atm3dvoUbV+5cunUFBMCbN4AAAH39/gUcWPBgwoUNH0YsIMBixgIAPIYcWfJkypUtX8acWfNjAQE8exYAQPRo0qVNn0adWvVq1q1FCwgQO4AAALVt38adW/du3r19/wZ+W0AA4gIAHEeeXPly5s2dP4ceXXpyAQGsCwCQXft27t29fwcfXvx48tsFBEAvAMB69u3dv4cfX/58+vXttxcQQL8AAP39AwQgcCDBggYPIkyocCFDhgICBBAAYCLFihYvYsyocSPHjh4rCgggUgCAkiZPokypciXLli5fwjwpIABNAQBu4v/MqXMnz54+fwINKjSngABGBQBIqnQp06ZOn0KNKnUq1aUCAmANIAAA165ev4INK3Ys2bJmz3IVEGDtWgEA3sKNK3cu3bp27+LNq/etgAB+/woAIHgw4cKGDyNOrHgx48YCAkCOHEAAgMqWL2POrHkz586eP4MWEGA06dECAKBOrXo169auX8OOLTu2gAC2b+MWAGA3796+fwMPLnw48eLCBQRIrnx5cgEAnkOPLn069erWr2PPTl1AgO7ev38XAGA8+fLmz6NPr349+/bmBQSIL38+/QACAODPr38///7+AQIQOJBgQYMHESYUEIBhQ4cPGwoAMJFiRYsXMWbUuJH/Y0cAAgKEFDmSZEkBAFCmVLmSZUuXL2HGfCkgQE2bN3HmtClAAACfP4EGFTqUaFGjR4MKEBCAaVOnT6FCFSAAQFWrV7Fm1bqVa1evAAQICDCWbFmzZ9GWFQCAbVu3b+HGlTuXrlwBAfDm1buXb1+/AgQAEDyYcGHDhxEnVkxYgIAAjyFHljyZcuXIAgQA0LyZc2fPn0GHBi1AQADTp1GnVr2adesAAgQAkD2bdm3bt3Hnli1AQADfv4EHFz6ceHHiAgQAUL6ceXPnz6EvFyAgQHXr17Fn176de/fsAsALADCefHnz588LUC8gQHv37+HHlz+ffn378gXk168fgAD/GQAFCBwYoKDBgwgTKlzIsKHDhxAjSpyIMCAAOw==\"><title>Layer: output1 (output)\n shape = (1,)\n Keras class = Dense\n activation = sigmoid</title></image><text x=\"280.0\" y=\"127.0\" font-family=\"monospace\" font-size=\"12\" text-anchor=\"start\" alignment-baseline=\"central\">output1</text><line x1=\"175.0\" y1=\"254\" x2=\"175.0\" y2=\"227\" stroke=\"black\" stroke-width=\"2\" marker-end=\"url(#arrow)\"><title>Weights from hidden1 to output1\n output1/kernel has shape (5, 1)\n output1/bias has shape (1,)</title></line><rect x=\"74.0\" y=\"254\" width=\"202\" height=\"42\" style=\"fill:none;stroke:black;stroke-width:2\"/><image id=\"XOR Network_hidden1_11\" class=\"XOR Network_hidden1\" x=\"75.0\" y=\"255\" height=\"40\" width=\"200\" preserveAspectRatio=\"none\" href=\"data:image/gif;base64,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\"><title>Layer: hidden1 (hidden)\n shape = (5,)\n Keras class = Dense\n activation = relu</title></image><text x=\"280.0\" y=\"277.0\" font-family=\"monospace\" font-size=\"12\" text-anchor=\"start\" alignment-baseline=\"central\">hidden1</text><line x1=\"175.0\" y1=\"324\" x2=\"175.0\" y2=\"297\" stroke=\"black\" stroke-width=\"2\" marker-end=\"url(#arrow)\"><title>Weights from input1 to hidden1\n hidden1/kernel has shape (2, 5)\n hidden1/bias has shape (5,)</title></line><rect x=\"74.0\" y=\"324\" width=\"202\" height=\"102\" style=\"fill:none;stroke:black;stroke-width:2\"/><image id=\"XOR Network_input1_12\" class=\"XOR Network_input1\" x=\"75.0\" y=\"325\" height=\"100\" width=\"200\" preserveAspectRatio=\"none\" href=\"data:image/gif;base64,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\"><title>Layer: input1 (input)\n shape = (2,)\n Keras class = Input</title></image><text x=\"280.0\" y=\"377.0\" font-family=\"monospace\" font-size=\"12\" text-anchor=\"start\" alignment-baseline=\"central\">input1</text></svg></p>"
      }
     },
     "57f59bda87d84198a9a0aadf76842a53": {
      "model_module": "@jupyter-widgets/base",
      "model_module_version": "1.0.0",
      "model_name": "LayoutModel",
      "state": {}
     },
     "580845dd0e664732aafa393544f16ed7": {
      "model_module": "@jupyter-widgets/base",
      "model_module_version": "1.0.0",
      "model_name": "LayoutModel",
      "state": {
       "height": "50px",
       "width": "100%"
      }
     },
     "58147d1a2a604a99bb98ac39d897db81": {
      "model_module": "@jupyter-widgets/controls",
      "model_module_version": "1.1.0",
      "model_name": "IntSliderModel",
      "state": {
       "continuous_update": false,
       "description": "Dataset index",
       "layout": "IPY_MODEL_0729e76b9b914f04a62b748c2309850c",
       "max": 3,
       "style": "IPY_MODEL_9f55dc3a7e3b43638d3dbda60a0fa1b5",
       "value": 3
      }
     },
     "58e268155c9d40da92039dd106323391": {
      "model_module": "@jupyter-widgets/base",
      "model_module_version": "1.0.0",
      "model_name": "LayoutModel",
      "state": {
       "width": "100%"
      }
     },
     "58e8853142c248f1bd84a3895fcf0117": {
      "model_module": "@jupyter-widgets/controls",
      "model_module_version": "1.1.0",
      "model_name": "DescriptionStyleModel",
      "state": {
       "description_width": ""
      }
     },
     "592ba70baaaa48dc9b0490be515e2801": {
      "model_module": "@jupyter-widgets/controls",
      "model_module_version": "1.1.0",
      "model_name": "HTMLModel",
      "state": {
       "layout": "IPY_MODEL_88880d5e45c247259adb20dae90dee73",
       "style": "IPY_MODEL_206eff28644b439fb843ea46fd04e33a",
       "value": "<p style=\"text-align:center\"><svg id='XOR Network' xmlns='http://www.w3.org/2000/svg' viewBox=\"0 0 350 450\" max-width=\"100%\" height=\"780\" image-rendering=\"pixelated\">\n    <defs>\n        <marker id=\"arrow\" markerWidth=\"10\" markerHeight=\"10\" refX=\"9\" refY=\"3\" orient=\"auto\" markerUnits=\"strokeWidth\">\n          <path d=\"M0,0 L0,6 L9,3 z\" fill=\"black\" />\n        </marker>\n    </defs><text x=\"175.0\" y=\"12.5\" font-family=\"monospace\" font-size=\"15\" text-anchor=\"middle\" alignment-baseline=\"central\">XOR Network</text><rect x=\"74.0\" y=\"24\" width=\"202\" height=\"202\" style=\"fill:none;stroke:black;stroke-width:2\"/><image id=\"XOR Network_output1_10\" class=\"XOR Network_output1\" x=\"75.0\" y=\"25\" height=\"200\" width=\"200\" preserveAspectRatio=\"none\" href=\"data:image/gif;base64,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\"><title>Layer: output1 (output)\n shape = (1,)\n Keras class = Dense\n activation = sigmoid</title></image><text x=\"280.0\" y=\"127.0\" font-family=\"monospace\" font-size=\"12\" text-anchor=\"start\" alignment-baseline=\"central\">output1</text><line x1=\"175.0\" y1=\"254\" x2=\"175.0\" y2=\"227\" stroke=\"black\" stroke-width=\"2\" marker-end=\"url(#arrow)\"><title>Weights from hidden1 to output1\n output1/kernel has shape (5, 1)\n output1/bias has shape (1,)</title></line><rect x=\"74.0\" y=\"254\" width=\"202\" height=\"42\" style=\"fill:none;stroke:black;stroke-width:2\"/><image id=\"XOR Network_hidden1_11\" class=\"XOR Network_hidden1\" x=\"75.0\" y=\"255\" height=\"40\" width=\"200\" preserveAspectRatio=\"none\" href=\"data:image/gif;base64,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\"><title>Layer: hidden1 (hidden)\n shape = (5,)\n Keras class = Dense\n activation = relu</title></image><text x=\"280.0\" y=\"277.0\" font-family=\"monospace\" font-size=\"12\" text-anchor=\"start\" alignment-baseline=\"central\">hidden1</text><line x1=\"175.0\" y1=\"324\" x2=\"175.0\" y2=\"297\" stroke=\"black\" stroke-width=\"2\" marker-end=\"url(#arrow)\"><title>Weights from input1 to hidden1\n hidden1/kernel has shape (2, 5)\n hidden1/bias has shape (5,)</title></line><rect x=\"74.0\" y=\"324\" width=\"202\" height=\"102\" style=\"fill:none;stroke:black;stroke-width:2\"/><image id=\"XOR Network_input1_12\" class=\"XOR Network_input1\" x=\"75.0\" y=\"325\" height=\"100\" width=\"200\" preserveAspectRatio=\"none\" href=\"data:image/gif;base64,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\"><title>Layer: input1 (input)\n shape = (2,)\n Keras class = Input</title></image><text x=\"280.0\" y=\"377.0\" font-family=\"monospace\" font-size=\"12\" text-anchor=\"start\" alignment-baseline=\"central\">input1</text></svg></p>"
      }
     },
     "595e01e27e0b418a851c02522c38b3b5": {
      "model_module": "@jupyter-widgets/base",
      "model_module_version": "1.0.0",
      "model_name": "LayoutModel",
      "state": {}
     },
     "5964a38b0786482abb2b15993484a4eb": {
      "model_module": "@jupyter-widgets/controls",
      "model_module_version": "1.1.0",
      "model_name": "LabelModel",
      "state": {
       "layout": "IPY_MODEL_62c7c3380ec549ad83762a0578043d14",
       "style": "IPY_MODEL_92f13f61211748e5925d3983477675be",
       "value": "of 4"
      }
     },
     "59a77b7519194189a435322697ba49a3": {
      "model_module": "@jupyter-widgets/controls",
      "model_module_version": "1.1.0",
      "model_name": "VBoxModel",
      "state": {
       "children": [
        "IPY_MODEL_8b28f10ed8a747f9819ae7cdd0eba07f",
        "IPY_MODEL_1b7305139fb044ef845dfeb258005b2f",
        "IPY_MODEL_ff12008d9f494f73bd817e5a24627f99",
        "IPY_MODEL_0843675d5087437f80b17e155d847b67",
        "IPY_MODEL_2ac5da29cc4449208772ecfbc9f62e2d",
        "IPY_MODEL_6110fc2f139a442996fbd43844445dd8",
        "IPY_MODEL_5b6d713940204c19ab1d9c79c74f77af",
        "IPY_MODEL_38588a9d28644e27a15fc021d0ce51d8"
       ],
       "layout": "IPY_MODEL_f7256b4793c5437e9eb15285242119ca"
      }
     },
     "59d4aea2f3914bd485b5b14f780da8ee": {
      "model_module": "@jupyter-widgets/controls",
      "model_module_version": "1.1.0",
      "model_name": "FloatTextModel",
      "state": {
       "description": "Feature scale:",
       "layout": "IPY_MODEL_4d7d6444da874bcd80de42137f2c088d",
       "step": null,
       "style": "IPY_MODEL_52bba2d7db5e4a948d86ce1d5daf1c28",
       "value": 2
      }
     },
     "59e6413440ae4cb3bab64e67e871f0f7": {
      "model_module": "@jupyter-widgets/controls",
      "model_module_version": "1.1.0",
      "model_name": "AccordionModel",
      "state": {
       "_titles": {
        "0": "XOR Network"
       },
       "children": [
        "IPY_MODEL_bb9fec190303444480ef3381dc142bc2"
       ],
       "layout": "IPY_MODEL_2c97eb2ccdca488b9e8709868ab897d1",
       "selected_index": null
      }
     },
     "59ece76eaaa0496bb4476bae47d59fc6": {
      "model_module": "@jupyter-widgets/controls",
      "model_module_version": "1.1.0",
      "model_name": "ButtonModel",
      "state": {
       "icon": "backward",
       "layout": "IPY_MODEL_bc6aedccdcb0453ea0482b28252e06b1",
       "style": "IPY_MODEL_a347e1c3e2684a46803af4d15a5107c8"
      }
     },
     "5a43ffd2d0ef4a5c9ed369d5744599a1": {
      "model_module": "@jupyter-widgets/base",
      "model_module_version": "1.0.0",
      "model_name": "LayoutModel",
      "state": {
       "width": "100%"
      }
     },
     "5a4c3e44312a47abb4a28e221042d904": {
      "model_module": "@jupyter-widgets/controls",
      "model_module_version": "1.1.0",
      "model_name": "ButtonStyleModel",
      "state": {}
     },
     "5a604395fc814c96b469e484e42854d9": {
      "model_module": "@jupyter-widgets/controls",
      "model_module_version": "1.1.0",
      "model_name": "DescriptionStyleModel",
      "state": {
       "description_width": ""
      }
     },
     "5ac4e512799c4688a66946694ecbb7ac": {
      "model_module": "@jupyter-widgets/controls",
      "model_module_version": "1.1.0",
      "model_name": "DescriptionStyleModel",
      "state": {
       "description_width": "initial"
      }
     },
     "5b4a0bfddc074862be0cb6c767cf2614": {
      "model_module": "@jupyter-widgets/controls",
      "model_module_version": "1.1.0",
      "model_name": "IntTextModel",
      "state": {
       "description": "Feature columns:",
       "layout": "IPY_MODEL_e61e43dce20e48bdb2cb178a01dbe6c7",
       "step": 1,
       "style": "IPY_MODEL_5d5da468e9874b238df4dfd7e9c73ddb",
       "value": 3
      }
     },
     "5b6d713940204c19ab1d9c79c74f77af": {
      "model_module": "@jupyter-widgets/controls",
      "model_module_version": "1.1.0",
      "model_name": "IntTextModel",
      "state": {
       "description": "Feature columns:",
       "layout": "IPY_MODEL_1b722770659c476fb71bdd0c7c692c16",
       "step": 1,
       "style": "IPY_MODEL_5d1723e431d1436e83278264576cdd11",
       "value": 3
      }
     },
     "5b7b1969c6c34b1d9e9b11157e2dee9b": {
      "model_module": "@jupyter-widgets/controls",
      "model_module_version": "1.1.0",
      "model_name": "DescriptionStyleModel",
      "state": {
       "description_width": ""
      }
     },
     "5bc3830b6e49455d98d90a0d5996fcc9": {
      "model_module": "@jupyter-widgets/controls",
      "model_module_version": "1.1.0",
      "model_name": "IntTextModel",
      "state": {
       "description": "Feature to show:",
       "layout": "IPY_MODEL_41dd1f7a577a46e9b487ec024cc4ed82",
       "step": 1,
       "style": "IPY_MODEL_f5c75bf37e1d4db0a3dd41ded5194949"
      }
     },
     "5c36e71da3c54a7bbd3a2e22755d7b3e": {
      "model_module": "@jupyter-widgets/controls",
      "model_module_version": "1.1.0",
      "model_name": "CheckboxModel",
      "state": {
       "description": "Show Targets",
       "disabled": false,
       "layout": "IPY_MODEL_7f571e3055f649b895d154263ff746af",
       "style": "IPY_MODEL_27643142856e474cb967328e2fa55701",
       "value": false
      }
     },
     "5c77fa86c1fc4cf1b3fb90bad7988699": {
      "model_module": "@jupyter-widgets/base",
      "model_module_version": "1.0.0",
      "model_name": "LayoutModel",
      "state": {}
     },
     "5c9986967a4042fa80ad315c7708cee2": {
      "model_module": "@jupyter-widgets/controls",
      "model_module_version": "1.1.0",
      "model_name": "IntTextModel",
      "state": {
       "layout": "IPY_MODEL_12788e1bb4544cc48da77aba790c5431",
       "step": 1,
       "style": "IPY_MODEL_817e4ba7448e43229419646cd9b4ef9c"
      }
     },
     "5cce0293b02c4f0383094102a0aa2ee6": {
      "model_module": "@jupyter-widgets/base",
      "model_module_version": "1.0.0",
      "model_name": "LayoutModel",
      "state": {
       "width": "100%"
      }
     },
     "5d1723e431d1436e83278264576cdd11": {
      "model_module": "@jupyter-widgets/controls",
      "model_module_version": "1.1.0",
      "model_name": "DescriptionStyleModel",
      "state": {
       "description_width": "initial"
      }
     },
     "5d2fe9bf81094d7fa1cc331601a4bddd": {
      "model_module": "@jupyter-widgets/controls",
      "model_module_version": "1.1.0",
      "model_name": "IntTextModel",
      "state": {
       "description": "Feature columns:",
       "layout": "IPY_MODEL_69d0c65667d8495e82965af4b2006546",
       "step": 1,
       "style": "IPY_MODEL_cbd3620dc12f46a69ea7619862c4d691",
       "value": 3
      }
     },
     "5d37f8e684eb40a18202006115755f48": {
      "model_module": "@jupyter-widgets/base",
      "model_module_version": "1.0.0",
      "model_name": "LayoutModel",
      "state": {}
     },
     "5d3cdec372a143698cd27b2fea26981e": {
      "model_module": "@jupyter-widgets/controls",
      "model_module_version": "1.1.0",
      "model_name": "DescriptionStyleModel",
      "state": {
       "description_width": "initial"
      }
     },
     "5d4ea1e560744bca8fd79e1aab1d4dcb": {
      "model_module": "@jupyter-widgets/controls",
      "model_module_version": "1.1.0",
      "model_name": "ButtonModel",
      "state": {
       "description": "Play",
       "icon": "play",
       "layout": "IPY_MODEL_81da0254407d4a90b61b8eb9aee4c03c",
       "style": "IPY_MODEL_816ccb201d554a85bd6ec2779ed1d122"
      }
     },
     "5d516260298a4962944a7e4f8b754bc4": {
      "model_module": "@jupyter-widgets/base",
      "model_module_version": "1.0.0",
      "model_name": "LayoutModel",
      "state": {
       "width": "100%"
      }
     },
     "5d5da468e9874b238df4dfd7e9c73ddb": {
      "model_module": "@jupyter-widgets/controls",
      "model_module_version": "1.1.0",
      "model_name": "DescriptionStyleModel",
      "state": {
       "description_width": "initial"
      }
     },
     "5df1204a1c7f49e2b9b64d98703aa1bb": {
      "model_module": "@jupyter-widgets/base",
      "model_module_version": "1.0.0",
      "model_name": "LayoutModel",
      "state": {
       "width": "100%"
      }
     },
     "5dfb5c0914a64982aeedccaeb0706980": {
      "model_module": "@jupyter-widgets/controls",
      "model_module_version": "1.1.0",
      "model_name": "DescriptionStyleModel",
      "state": {
       "description_width": "initial"
      }
     },
     "5e05abd3458f436facdc0eea35726577": {
      "model_module": "@jupyter-widgets/base",
      "model_module_version": "1.0.0",
      "model_name": "LayoutModel",
      "state": {}
     },
     "5e2050d044b64fd18ed9e412d3527fae": {
      "model_module": "@jupyter-widgets/base",
      "model_module_version": "1.0.0",
      "model_name": "LayoutModel",
      "state": {}
     },
     "5e4c4db8cad64a16a164aed60fdf2ad8": {
      "model_module": "@jupyter-widgets/controls",
      "model_module_version": "1.1.0",
      "model_name": "ButtonModel",
      "state": {
       "icon": "backward",
       "layout": "IPY_MODEL_6dab1191c213491d9ce7f17d2e6145e0",
       "style": "IPY_MODEL_1928f752b48b4df3a560038f460a3389"
      }
     },
     "5e62b29a118247299f19419c76289605": {
      "model_module": "@jupyter-widgets/base",
      "model_module_version": "1.0.0",
      "model_name": "LayoutModel",
      "state": {}
     },
     "5f0195fe0edc4be3814e3ed930c6e256": {
      "model_module": "@jupyter-widgets/controls",
      "model_module_version": "1.1.0",
      "model_name": "ButtonStyleModel",
      "state": {}
     },
     "5f4addefc1254b799ba5ba4732430aef": {
      "model_module": "@jupyter-widgets/controls",
      "model_module_version": "1.1.0",
      "model_name": "ButtonModel",
      "state": {
       "description": "Play",
       "icon": "play",
       "layout": "IPY_MODEL_a537ba234a204d8e81a5f3e42a8be982",
       "style": "IPY_MODEL_5f0195fe0edc4be3814e3ed930c6e256"
      }
     },
     "5fa19e8bc33348cb9cd8ef9312763e5b": {
      "model_module": "@jupyter-widgets/base",
      "model_module_version": "1.0.0",
      "model_name": "LayoutModel",
      "state": {
       "width": "100%"
      }
     },
     "5fa25e98d4a5433280d3e2ce99560605": {
      "model_module": "@jupyter-widgets/controls",
      "model_module_version": "1.1.0",
      "model_name": "VBoxModel",
      "state": {
       "children": [
        "IPY_MODEL_a5bdcf6f47084ef0a501992f6b13c17d",
        "IPY_MODEL_1eee056fe5eb42faaced0724fff7512f",
        "IPY_MODEL_1c4a862ac2774a57b07f261b888d3144",
        "IPY_MODEL_af575d4c25964fdc969632055f345779",
        "IPY_MODEL_6bb69a69fa204e9ab35207ad36361dca",
        "IPY_MODEL_a7095992084440769b75af06cff1afc1",
        "IPY_MODEL_5b4a0bfddc074862be0cb6c767cf2614",
        "IPY_MODEL_495cb205a06b48e7b644f32885f2a4ee"
       ],
       "layout": "IPY_MODEL_76303101510d4267b5aa4cb2b9906b95"
      }
     },
     "60275f9366d34d7a92aac2a673d25d5a": {
      "model_module": "@jupyter-widgets/base",
      "model_module_version": "1.0.0",
      "model_name": "LayoutModel",
      "state": {}
     },
     "602a0c462831436d947d8585c1ae0cf2": {
      "model_module": "@jupyter-widgets/controls",
      "model_module_version": "1.1.0",
      "model_name": "SliderStyleModel",
      "state": {
       "description_width": ""
      }
     },
     "60362ad6ec7a45af8ffc5de9fda806c3": {
      "model_module": "@jupyter-widgets/controls",
      "model_module_version": "1.1.0",
      "model_name": "DescriptionStyleModel",
      "state": {
       "description_width": "initial"
      }
     },
     "603990cafed549e3b2cabc8ad16794ee": {
      "model_module": "@jupyter-widgets/controls",
      "model_module_version": "1.1.0",
      "model_name": "SelectModel",
      "state": {
       "_options_labels": [
        "Test",
        "Train"
       ],
       "description": "Dataset:",
       "index": 1,
       "layout": "IPY_MODEL_cdeb142d2fe9408aad8291f7501a8ebc",
       "rows": 1,
       "style": "IPY_MODEL_c900be021bf844028746b90865c92d58"
      }
     },
     "606156e15f544be0bea5af55838f0937": {
      "model_module": "@jupyter-widgets/controls",
      "model_module_version": "1.1.0",
      "model_name": "VBoxModel",
      "state": {
       "children": [
        "IPY_MODEL_dde33d6e1aeb4f39918fa7e2b6d565f6",
        "IPY_MODEL_a0375925c4004e578269e1d1e244d7b2"
       ],
       "layout": "IPY_MODEL_ca7c8a8cf2ea4528810fee746e974650"
      }
     },
     "609898da460b428bbc933a8d413212cd": {
      "model_module": "@jupyter-widgets/base",
      "model_module_version": "1.0.0",
      "model_name": "LayoutModel",
      "state": {
       "width": "100%"
      }
     },
     "6110fc2f139a442996fbd43844445dd8": {
      "model_module": "@jupyter-widgets/controls",
      "model_module_version": "1.1.0",
      "model_name": "SelectModel",
      "state": {
       "_options_labels": [
        ""
       ],
       "description": "Features:",
       "index": 0,
       "layout": "IPY_MODEL_385ff97ee63f48f09109d87b705d4404",
       "rows": 1,
       "style": "IPY_MODEL_262250939e5a43fdbbd191b21f6d1424"
      }
     },
     "61864ed05f054a23af399eed300a179e": {
      "model_module": "@jupyter-widgets/base",
      "model_module_version": "1.0.0",
      "model_name": "LayoutModel",
      "state": {
       "height": "50px",
       "width": "100%"
      }
     },
     "6208a7164a674cd8832c7e6c8a1cf26a": {
      "model_module": "@jupyter-widgets/base",
      "model_module_version": "1.0.0",
      "model_name": "LayoutModel",
      "state": {
       "width": "100%"
      }
     },
     "62c7c3380ec549ad83762a0578043d14": {
      "model_module": "@jupyter-widgets/base",
      "model_module_version": "1.0.0",
      "model_name": "LayoutModel",
      "state": {
       "width": "100px"
      }
     },
     "62f64a4957594711b0f03eeb7404be4b": {
      "model_module": "@jupyter-widgets/controls",
      "model_module_version": "1.1.0",
      "model_name": "DescriptionStyleModel",
      "state": {
       "description_width": "initial"
      }
     },
     "6319a43b9b1548398f7f5b86b4fd4b01": {
      "model_module": "@jupyter-widgets/controls",
      "model_module_version": "1.1.0",
      "model_name": "CheckboxModel",
      "state": {
       "description": "Show Targets",
       "disabled": false,
       "layout": "IPY_MODEL_38270298e23147efb6a67eeaa247b18e",
       "style": "IPY_MODEL_7db9d7944a0a4feba5b7a2621e1227c2",
       "value": false
      }
     },
     "632dc6b10c4e4d5686b44391ad94efba": {
      "model_module": "@jupyter-widgets/controls",
      "model_module_version": "1.1.0",
      "model_name": "VBoxModel",
      "state": {
       "children": [
        "IPY_MODEL_4c11c24a03194c86aded16d6a8976b61",
        "IPY_MODEL_3dd1845c84a1400c9fd835e1c7734820",
        "IPY_MODEL_68a21fabdf5843cfb83f52fe1a5dca05",
        "IPY_MODEL_6f3378d80dc14bdb93dc79e06a1d8ffc"
       ],
       "layout": "IPY_MODEL_105b27f9af4443488ea3ee51a9d7113e"
      }
     },
     "633dd50f667042b78b4a49d33fff3db7": {
      "model_module": "@jupyter-widgets/base",
      "model_module_version": "1.0.0",
      "model_name": "LayoutModel",
      "state": {
       "width": "100%"
      }
     },
     "633ddbce120b4f168c76cb061e79d985": {
      "model_module": "@jupyter-widgets/controls",
      "model_module_version": "1.1.0",
      "model_name": "ButtonStyleModel",
      "state": {}
     },
     "63b7c15e5fe84158a346b89a1eb1236b": {
      "model_module": "@jupyter-widgets/base",
      "model_module_version": "1.0.0",
      "model_name": "LayoutModel",
      "state": {
       "width": "100%"
      }
     },
     "63c10cde6334470490c284d218c6e349": {
      "model_module": "@jupyter-widgets/controls",
      "model_module_version": "1.1.0",
      "model_name": "IntTextModel",
      "state": {
       "description": "Feature columns:",
       "layout": "IPY_MODEL_c10df979b77e4d2bbccec161a39a8d4e",
       "step": 1,
       "style": "IPY_MODEL_2a8036afc62f4708be66b890d4c6d7f3",
       "value": 3
      }
     },
     "63c1a8bc75c546568e11436d711d92df": {
      "model_module": "@jupyter-widgets/controls",
      "model_module_version": "1.1.0",
      "model_name": "VBoxModel",
      "state": {
       "children": [
        "IPY_MODEL_492445cc709847708a73ee280e991fbf",
        "IPY_MODEL_22506eab3559471ebcc5c607375c2636",
        "IPY_MODEL_4c252e347b7942378bf9f23c9ed5e7a0",
        "IPY_MODEL_0416976bf84b4d4ca76f3ee793132ef4",
        "IPY_MODEL_eecb1733c508483c8676187b69e976e9",
        "IPY_MODEL_44efce98f46f485881a842fba3371cdc",
        "IPY_MODEL_7e6cd9ec8e744043bf8d0dcfe47c4459"
       ],
       "layout": "IPY_MODEL_03efeb6f52854cf485dc70b32e84f594"
      }
     },
     "63c4480c3654499c89c0b138f841c6d0": {
      "model_module": "@jupyter-widgets/controls",
      "model_module_version": "1.1.0",
      "model_name": "DescriptionStyleModel",
      "state": {
       "description_width": "initial"
      }
     },
     "6436b71af65947b38906b8842846d59f": {
      "model_module": "@jupyter-widgets/controls",
      "model_module_version": "1.1.0",
      "model_name": "ButtonModel",
      "state": {
       "icon": "backward",
       "layout": "IPY_MODEL_d6538b830af1477e8ebc0ffba85b2aa6",
       "style": "IPY_MODEL_ac53f9f4cb1149a5a9f726a0b20bb5a5"
      }
     },
     "647b0a8486264c658914e0e53ab67ef8": {
      "model_module": "@jupyter-widgets/controls",
      "model_module_version": "1.1.0",
      "model_name": "FloatTextModel",
      "state": {
       "description": "Leftmost color maps to:",
       "layout": "IPY_MODEL_2e2f4186e7204eb8b9cb1a499e500b3f",
       "step": null,
       "style": "IPY_MODEL_18d4a0fdf0154d0fbff544c57f501e00",
       "value": -1
      }
     },
     "65210a2d86234fceb3f95d1b569bb04f": {
      "model_module": "@jupyter-widgets/controls",
      "model_module_version": "1.1.0",
      "model_name": "ButtonModel",
      "state": {
       "icon": "forward",
       "layout": "IPY_MODEL_7df3aa4fa7a44421ae2a3bb885e6fd2b",
       "style": "IPY_MODEL_1584ec4a496e4a6d9ca85e64276c59fe"
      }
     },
     "665c7eda30b644ecb5cdb1bf383b91a5": {
      "model_module": "@jupyter-widgets/controls",
      "model_module_version": "1.1.0",
      "model_name": "SliderStyleModel",
      "state": {
       "description_width": ""
      }
     },
     "66793f3b947c4c24887b2397d124f4d3": {
      "model_module": "@jupyter-widgets/controls",
      "model_module_version": "1.1.0",
      "model_name": "ButtonModel",
      "state": {
       "description": "Play",
       "icon": "play",
       "layout": "IPY_MODEL_471f6c88229a4799bf758f24a0ac6094",
       "style": "IPY_MODEL_9d572a8355f8490baa790fde3e2b65ad"
      }
     },
     "66be904a1da841189cc6be2153bcd66a": {
      "model_module": "@jupyter-widgets/controls",
      "model_module_version": "1.1.0",
      "model_name": "DescriptionStyleModel",
      "state": {
       "description_width": "initial"
      }
     },
     "66f896af10724f15a76c65dcbcbbc8ed": {
      "model_module": "@jupyter-widgets/controls",
      "model_module_version": "1.1.0",
      "model_name": "SliderStyleModel",
      "state": {
       "description_width": ""
      }
     },
     "67b7fcc78b8044f0b3f1e5ce98f85054": {
      "model_module": "@jupyter-widgets/controls",
      "model_module_version": "1.1.0",
      "model_name": "CheckboxModel",
      "state": {
       "description": "Visible",
       "disabled": false,
       "layout": "IPY_MODEL_efdd914eb90c4ff1a0a5d4522778eed5",
       "style": "IPY_MODEL_f7db2ff396484059b6eed4bf154a3be7",
       "value": true
      }
     },
     "67ef1c5344994d7494cd51cbcf1eb7d9": {
      "model_module": "@jupyter-widgets/controls",
      "model_module_version": "1.1.0",
      "model_name": "AccordionModel",
      "state": {
       "_titles": {
        "0": "XOR Network"
       },
       "children": [
        "IPY_MODEL_22ef4bf69ef54bed84c830c3ab7728df"
       ],
       "layout": "IPY_MODEL_19f6eaf945294a3ca1670f1c4fce3b32",
       "selected_index": null
      }
     },
     "685d15562d9c4b589c518368ff092a4c": {
      "model_module": "@jupyter-widgets/controls",
      "model_module_version": "1.1.0",
      "model_name": "IntTextModel",
      "state": {
       "description": "Feature to show:",
       "layout": "IPY_MODEL_e2a82a26eee14f0183895bc7a2e7b93a",
       "step": 1,
       "style": "IPY_MODEL_e5912d51db2d4eedad06dba08cc04ed4"
      }
     },
     "6896705ce11f4fad836b90fc69db945b": {
      "model_module": "@jupyter-widgets/controls",
      "model_module_version": "1.1.0",
      "model_name": "DescriptionStyleModel",
      "state": {
       "description_width": "initial"
      }
     },
     "68a21fabdf5843cfb83f52fe1a5dca05": {
      "model_module": "@jupyter-widgets/controls",
      "model_module_version": "1.1.0",
      "model_name": "HTMLModel",
      "state": {
       "layout": "IPY_MODEL_9d0dec63a0a34a7e81b66ade2547735b",
       "style": "IPY_MODEL_22205d2f49b54c50bdb4ecaae45685a5",
       "value": "<p style=\"text-align:center\"><svg id='XOR Network' xmlns='http://www.w3.org/2000/svg' viewBox=\"0 0 350 510\" max-width=\"100%\" height=\"780\" image-rendering=\"pixelated\">\n    <defs>\n        <marker id=\"arrow\" markerWidth=\"10\" markerHeight=\"10\" refX=\"9\" refY=\"3\" orient=\"auto\" markerUnits=\"strokeWidth\">\n          <path d=\"M0,0 L0,6 L9,3 z\" fill=\"black\" />\n        </marker>\n    </defs><text x=\"175.0\" y=\"12.5\" font-family=\"monospace\" font-size=\"15\" text-anchor=\"middle\" alignment-baseline=\"central\">XOR Network</text><rect x=\"74.0\" y=\"24\" width=\"202\" height=\"202\" style=\"fill:none;stroke:black;stroke-width:2\"/><image id=\"XOR Network_output1_10\" class=\"XOR Network_output1\" x=\"75.0\" y=\"25\" height=\"200\" width=\"200\" preserveAspectRatio=\"none\" href=\"data:image/gif;base64,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\"><title>Layer: output1 (output)\n shape = (1,)\n Keras class = Dense\n activation = sigmoid</title></image><text x=\"280.0\" y=\"127.0\" font-family=\"monospace\" font-size=\"12\" text-anchor=\"start\" alignment-baseline=\"central\">output1</text><line x1=\"175.0\" y1=\"254\" x2=\"175.0\" y2=\"227\" stroke=\"black\" stroke-width=\"2\" marker-end=\"url(#arrow)\"><title>Weights from hidden1 to output1\n output1/kernel has shape (2, 1)\n output1/bias has shape (1,)</title></line><rect x=\"74.0\" y=\"254\" width=\"202\" height=\"102\" style=\"fill:none;stroke:black;stroke-width:2\"/><image id=\"XOR Network_hidden1_11\" class=\"XOR Network_hidden1\" x=\"75.0\" y=\"255\" height=\"100\" width=\"200\" preserveAspectRatio=\"none\" href=\"data:image/gif;base64,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\"><title>Layer: hidden1 (hidden)\n shape = (2,)\n Keras class = Dense\n activation = relu</title></image><text x=\"280.0\" y=\"307.0\" font-family=\"monospace\" font-size=\"12\" text-anchor=\"start\" alignment-baseline=\"central\">hidden1</text><line x1=\"175.0\" y1=\"384\" x2=\"175.0\" y2=\"357\" stroke=\"black\" stroke-width=\"2\" marker-end=\"url(#arrow)\"><title>Weights from input1 to hidden1\n hidden1/kernel has shape (2, 2)\n hidden1/bias has shape (2,)</title></line><rect x=\"74.0\" y=\"384\" width=\"202\" height=\"102\" style=\"fill:none;stroke:black;stroke-width:2\"/><image id=\"XOR Network_input1_12\" class=\"XOR Network_input1\" x=\"75.0\" y=\"385\" height=\"100\" width=\"200\" preserveAspectRatio=\"none\" href=\"data:image/gif;base64,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\"><title>Layer: input1 (input)\n shape = (2,)\n Keras class = Input</title></image><text x=\"280.0\" y=\"437.0\" font-family=\"monospace\" font-size=\"12\" text-anchor=\"start\" alignment-baseline=\"central\">input1</text></svg></p>"
      }
     },
     "68a6efe2865a441d8a6c7c0af859a052": {
      "model_module": "@jupyter-widgets/controls",
      "model_module_version": "1.1.0",
      "model_name": "SelectModel",
      "state": {
       "_options_labels": [
        "input1",
        "hidden1",
        "output1"
       ],
       "description": "Layer:",
       "index": 2,
       "layout": "IPY_MODEL_b4479a49116545cb9d49324435069af1",
       "rows": 1,
       "style": "IPY_MODEL_4624c80207ef485599425b9213b08816"
      }
     },
     "68dc4dbdce2344718e893e8b0cd5c265": {
      "model_module": "@jupyter-widgets/controls",
      "model_module_version": "1.1.0",
      "model_name": "DescriptionStyleModel",
      "state": {
       "description_width": ""
      }
     },
     "68ed05d4fa51484eab229f1464a06700": {
      "model_module": "@jupyter-widgets/controls",
      "model_module_version": "1.1.0",
      "model_name": "IntTextModel",
      "state": {
       "description": "Feature to show:",
       "layout": "IPY_MODEL_bbc614eb9ad248448c9f5f88abd398e1",
       "step": 1,
       "style": "IPY_MODEL_6896705ce11f4fad836b90fc69db945b"
      }
     },
     "68f473c082214eb390405bd4d1271ac3": {
      "model_module": "@jupyter-widgets/controls",
      "model_module_version": "1.1.0",
      "model_name": "DescriptionStyleModel",
      "state": {
       "description_width": "initial"
      }
     },
     "695b265e51a24b8f86c71c58c268285b": {
      "model_module": "@jupyter-widgets/base",
      "model_module_version": "1.0.0",
      "model_name": "LayoutModel",
      "state": {}
     },
     "698da7e27cf543ac8fd0c464f2fd1a1a": {
      "model_module": "@jupyter-widgets/controls",
      "model_module_version": "1.1.0",
      "model_name": "DescriptionStyleModel",
      "state": {
       "description_width": "initial"
      }
     },
     "69d0c65667d8495e82965af4b2006546": {
      "model_module": "@jupyter-widgets/base",
      "model_module_version": "1.0.0",
      "model_name": "LayoutModel",
      "state": {}
     },
     "69f6fd45c898489dad9e002e947fab80": {
      "model_module": "@jupyter-widgets/controls",
      "model_module_version": "1.1.0",
      "model_name": "ButtonStyleModel",
      "state": {}
     },
     "6a1199d7ecc649a9befeb484fee72f5c": {
      "model_module": "@jupyter-widgets/base",
      "model_module_version": "1.0.0",
      "model_name": "LayoutModel",
      "state": {
       "width": "100%"
      }
     },
     "6a3a5d73c93845fc80aa7eff0c2287ff": {
      "model_module": "@jupyter-widgets/base",
      "model_module_version": "1.0.0",
      "model_name": "LayoutModel",
      "state": {
       "width": "100%"
      }
     },
     "6a4eb85c422744bbb3a7fe6d71e425f2": {
      "model_module": "@jupyter-widgets/controls",
      "model_module_version": "1.1.0",
      "model_name": "CheckboxModel",
      "state": {
       "description": "Errors",
       "disabled": false,
       "layout": "IPY_MODEL_34fcf6cc8f624e2aa927178dcec232aa",
       "style": "IPY_MODEL_e4d08eefa3d947a6af920100b9535c92",
       "value": false
      }
     },
     "6a81e33e73db425aafbddbb62bccf635": {
      "model_module": "@jupyter-widgets/base",
      "model_module_version": "1.0.0",
      "model_name": "LayoutModel",
      "state": {
       "width": "100%"
      }
     },
     "6a89f2ddfdce4513b1ed72ea55390561": {
      "model_module": "@jupyter-widgets/base",
      "model_module_version": "1.0.0",
      "model_name": "LayoutModel",
      "state": {}
     },
     "6a8f7b05e3d243d1b9d1a5620a7e8a2f": {
      "model_module": "@jupyter-widgets/base",
      "model_module_version": "1.0.0",
      "model_name": "LayoutModel",
      "state": {
       "width": "100%"
      }
     },
     "6a9022ae13ca4f3da03e4d3f15f9b59a": {
      "model_module": "@jupyter-widgets/controls",
      "model_module_version": "1.1.0",
      "model_name": "CheckboxModel",
      "state": {
       "description": "Visible",
       "disabled": false,
       "layout": "IPY_MODEL_7f571e3055f649b895d154263ff746af",
       "style": "IPY_MODEL_267e97ec30384d458d823d304acf84e3",
       "value": true
      }
     },
     "6ac74a79d83f4590a8558e76dda9ca6a": {
      "model_module": "@jupyter-widgets/controls",
      "model_module_version": "1.1.0",
      "model_name": "IntTextModel",
      "state": {
       "description": "Horizontal space between banks:",
       "layout": "IPY_MODEL_38270298e23147efb6a67eeaa247b18e",
       "step": 1,
       "style": "IPY_MODEL_ba3dac4b9ea04bbfb0649590ef238ec6",
       "value": 150
      }
     },
     "6ae76412113043c68da955d18b4f92e1": {
      "model_module": "@jupyter-widgets/controls",
      "model_module_version": "1.1.0",
      "model_name": "ButtonModel",
      "state": {
       "icon": "refresh",
       "layout": "IPY_MODEL_908125ea409344f0bd70fa24dc579004",
       "style": "IPY_MODEL_dea21c692eaa418692d90039df15a09b"
      }
     },
     "6b1f0fdf9c384c5a9aa78f1ee0327194": {
      "model_module": "@jupyter-widgets/controls",
      "model_module_version": "1.1.0",
      "model_name": "DescriptionStyleModel",
      "state": {
       "description_width": ""
      }
     },
     "6b5f677ec1b34702a970ed9897c8a7e9": {
      "model_module": "@jupyter-widgets/controls",
      "model_module_version": "1.1.0",
      "model_name": "VBoxModel",
      "state": {
       "children": [
        "IPY_MODEL_7b538ac77a474a2ea54598226e8259d5",
        "IPY_MODEL_eeac0c304a0b4b5387503f00ec61295d",
        "IPY_MODEL_77142c99af22440d80207222cdcdec59",
        "IPY_MODEL_8fbcc5bcf40246cebacf292a42539984",
        "IPY_MODEL_1e3fedd2465b43f4952557038ad1abc4",
        "IPY_MODEL_e9a03fb5cd084c4496b03b6befa388ea",
        "IPY_MODEL_536637a856b84f97a7b9d5e591f52dad"
       ],
       "layout": "IPY_MODEL_6208a7164a674cd8832c7e6c8a1cf26a"
      }
     },
     "6bb69a69fa204e9ab35207ad36361dca": {
      "model_module": "@jupyter-widgets/controls",
      "model_module_version": "1.1.0",
      "model_name": "HBoxModel",
      "state": {
       "children": [
        "IPY_MODEL_202fe30717b74da6868a8e8530d348df",
        "IPY_MODEL_b45070579a1e4b0b9a42745310b5bf9d"
       ],
       "layout": "IPY_MODEL_92fbce593f1549cbabdf535f5d518d79"
      }
     },
     "6c197ef1cecf4946906eff09ab46e998": {
      "model_module": "@jupyter-widgets/controls",
      "model_module_version": "1.1.0",
      "model_name": "HTMLModel",
      "state": {
       "layout": "IPY_MODEL_b94e5ec233544e7aa14ef4d38a1540fb",
       "style": "IPY_MODEL_bdfe9818e0984ffdbf1de966ac3c0288",
       "value": "<p style=\"text-align:center\"><svg id='XOR Network' xmlns='http://www.w3.org/2000/svg' viewBox=\"0 0 350 350.0\" max-width=\"100%\" height=\"780\" image-rendering=\"pixelated\">\n    <defs>\n        <marker id=\"arrow\" markerWidth=\"10\" markerHeight=\"10\" refX=\"9\" refY=\"3\" orient=\"auto\" markerUnits=\"strokeWidth\">\n          <path d=\"M0,0 L0,6 L9,3 z\" fill=\"black\" />\n        </marker>\n    </defs><text x=\"175.0\" y=\"12.5\" font-family=\"monospace\" font-size=\"15\" text-anchor=\"middle\" alignment-baseline=\"central\">XOR Network</text><rect x=\"124.0\" y=\"24\" width=\"102.0\" height=\"102.0\" style=\"fill:none;stroke:black;stroke-width:2\"/><image id=\"XOR Network_output1_7\" class=\"XOR Network_output1\" x=\"125.0\" y=\"25\" height=\"100.0\" width=\"100.0\" preserveAspectRatio=\"none\" href=\"data:image/gif;base64,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\"><title>Layer: output1 (output)\n shape = (1,)\n Keras class = Dense\n activation = sigmoid</title></image><text x=\"230.0\" y=\"77.0\" font-family=\"monospace\" font-size=\"12\" text-anchor=\"start\" alignment-baseline=\"central\">output1</text><line x1=\"175.0\" y1=\"154.0\" x2=\"175.0\" y2=\"127.0\" stroke=\"black\" stroke-width=\"2\" marker-end=\"url(#arrow)\"><title>Weights from hidden1 to output1\n output1/kernel has shape (5, 1)\n output1/bias has shape (1,)</title></line><rect x=\"74.0\" y=\"154.0\" width=\"202\" height=\"42\" style=\"fill:none;stroke:black;stroke-width:2\"/><image id=\"XOR Network_hidden1_8\" class=\"XOR Network_hidden1\" x=\"75.0\" y=\"155.0\" height=\"40\" width=\"200\" preserveAspectRatio=\"none\" href=\"data:image/gif;base64,R0lGODdh+gAyAIcAAP/9/QAAAAAAAAAAAAAAAAAAAAAAAAAAAAAAAAAAAAAAAAAAAAAAAAAAAAAAAAAAAAAAAAAAAAAAAAAAAAAAAAAAAAAAAAAAAAAAAAAAAAAAAAAAAAAAAAAAAAAAAAAAAAAAAAAAAAAAAAAAAAAAAAAAAAAAAAAAAAAAAAAAAAAAAAAAAAAAAAAAAAAAAAAAAAAAAAAAAAAAAAAAAAAAAAAAAAAAAAAAAAAAAAAAAAAAAAAAAAAAAAAAAAAAAAAAAAAAAAAAAAAAAAAAAAAAAAAAAAAAAAAAAAAAAAAAAAAAAAAAAAAAAAAAAAAAAAAAAAAAAAAAAAAAAAAAAAAAAAAAAAAAAAAAAAAAAAAAAAAAAAAAAAAAAAAAAAAAAAAAAAAAAAAAAAAAAAAAAAAAAAAAAAAAAAAAAAAAAAAAAAAAAAAAAAAAAAAAAAAAAAAAAAAAAAAAAAAAAAAAAAAAAAAAAAAAAAAAAAAAAAAAAAAAAAAAAAAAAAAAAAAAAAAAAAAAAAAAAAAAAAAAAAAAAAAAAAAAAAAAAAAAAAAAAAAAAAAAAAAAAAAAAAAAAAAAAAAAAAAAAAAAAAAAAAAAAAAAAAAAAAAAAAAAAAAAAAAAAAAAAAAAAAAAAAAAAAAAAAAAAAAAAAAAAAAAAAAAAAAAAAAAAAAAAAAAAAAAAAAAAAAAAAAAAAAAAAAAAAAAAAAAAAAAAAAAAAAAAAAAAAAAAAAAAAAAAAAAAAAAAAAAAAAAAAAAAAAAAAAAAAAAAAAAAAAAAAAAAAAAAAAAAAAAAAAAAAAAAAAAAAAAAAAAAAAAAAAAAAAAAAAAAAAAAAAAAAAAAAAAAAAAAAAAAAAAAAAAAAAAAAAAAAAAAAAAAAAAAAAAAAAAAAAAAAAAAAAAAAAAAAAAAAAAAAAAAAAAAAAAAAAAAAAAAAAAAAAAAAAAAAAAAAAAAAAAAAAAAAAAAAAAAAAAAAAAAAAAAAAAAAAAAAAAAAAAAAAAAAAAAAAAAAAAAAAAAAAAAAAAACwAAAAA+gAyAEAI/wABCBxIsKDAAAgTKlwIoKHDhxAjSpQYoKLFixgBaNzIsaPHjx8DiBxJsiSAkyhTqlzJkmWAlzBjygRAs6bNmzhz5gzAs6fPnwCCCh1KtGjQAAEAKF3KtKnTp08DBABAtapVAAECANjKtavXr2DBBggAoKzZswACBADAtq3bt3Djxg0QAIDdu3gBBAgAoK/fv4ADCxYcIACAw4gTAwgQAIDjx5AjS548OUAAAJgzAwgAoLPnz6BDix5NOgCA0wEAqF7NurXr17BjBwBAOwCA27hz697Nu7fvAACCBwBAvLjx48iTK18eAIDzAACiS59Ovbr169gDAAAQAID37+DDi/8fT7689wDoAahfz769+/fw46sPQB+A/fv48+vfz7+/fYABBAIgWNDgQYQJFS4kGMAhAIgRJU6kWNHiRYgBAgAIAMDjR5AhRY4kWTIAAJQBAKxk2dLlS5gxZQYAUDMAAJw5de7k2dPnzwAAhAYAUNToUaRJlS5lGgDA0wAApE6lWtXqVaxZAwDg2hVAgAAAxI4lW9bs2bMBAgBg29YtgAABAMylW9fuXbx4AwQA0NfvXwABAgAgXNjwYcSJEwcIAMDxY8gAAgQAUNnyZcyZNWsOEADAZ9ChAQQIAMD0adSpVa9eHSAAANixZc+mDTvAbdy5dQPg3dv3b+DBgwcgXtz/+HEAyZUvZ97cufMA0aVPpw7A+nXs2bVv3x7A+3fw4QGMJ1/e/Hn06AOsZ9/ePQD48eXPp08/QAAA+fXv59+/P8AAAQAQLGjwoMEAAQAwbOjwIUSIAQIAqGjxIsaLAQIA6OjxI8iQIQMEAGDyJMqUKAMEAODyJcyYMmUGCADgJs6cOnMGCADgJ9CgQocODRAAANKkSpEGCADgKdSoUqdSrSo1QAAAWrUGCADgK9iwYseSLSs2QAAAatUGCADgLdy4cufSrSs3QAAAevUGCADgL+DAggcTLiw4QAAAihUHCADgMeTIkidTriw5QAAAmgMA6Oz5M+jQokeT7hwAQAAA/6pXs27t+jXs2KoDAAgA4Dbu3Lp38+7t+3YAAAEAEC9u/Djy5MqXEw8AIACA6NKnU69u/Tr26AEABADg/Tv48OLHky/vPQCAAADWs2/v/j38+PLXBwAQAAD+/Pr38+/vHyAAgQMJAggAIAAAhQsZNnT4EGJEhQEABABwEWNGjRs5dvR4MQAAkQECADB5EmVKlStZpgwQAEDMmAECALB5E2dOnTt55gwQAEDQoAECADB6FGlSpUuZJg0QAEDUqAECALB6FWtWrVu5Zg0QAEDYsAECADB7Fm1atWvZpg0QAEBcuXPjBggAAG9evXv58g0QAEBgwYMJDw4QAEBixYsZN/9uHCAAAMmTKVemHCAAAM2bOXf27DlAAACjSZc2XTpAAACrWbd2/fp1gAAAaNe2fdt2gAAAePf2/Rs48AABABQ3fhx5cgABmANw/hx6dOgBqAOwfh17du3YA3QH8B18ePHhA5QHcB59evXr0wdwDwB+fPnz5QewDwB/fv37+esPADBAAAAECxo8aDCAQgAMGzp8CNFhgIkAKlq8iPFigI0AOnr8CBJkgAAASpo8iTKlSpMBAgB4CTOmzAABANi8iTOnzp03AwQAADSo0KEBAgA4ijSp0qVMkQYIACCq1KlUAwQAgDWr1q1cu2YNEACA2LFkywYIACCt2rVs27pVGyD/AIC5dOvODQAgr969fPv6/as3AIDBhAkHAIA4seLFjBs7ThwAgOTJkwMAuIw5s+bNnDtjDgAgtGjRAQCYPo06terVrE8HAAA7duwAAGrbvo07t+7dtgMA+A08QAAAxIsbP448ufLkAQIAeB4gAIDp1Ktbv449O/YAAQB4DxAAgPjx5MubP4/+fIAAANoHCAAgvvz59Ovbv28/QAAA/AMEAAhA4ECCBQ0eRHgwQAAAAAIAgBhR4kSKFS1ehBgAQAAAHT1+BBlS5EiSHQMACABA5UqWLV2+hBlTZQAAAQDcxJlT506ePX3eDAAgAACiRY0eRZpU6VKiAQAEABBV6lSq/1WtXsUaNQCAAAC8fgUbVuxYsmW9BgAQAMBatm3dvoUbV+7aAAACAMCbV+9evn39/sUbAEAAAIUNH0acWPFixoUDAAgAQPJkypUtX8acWXIAAAEAfAYdWvRo0qVNfw4AIAAA1q1dv4YdW/Zs1gEABACQW/du3r19/waeOwCAAACMH0eeXPly5s2NBwAQAMB06tWtX8eeXfv0AAACAAAfXvx48uXNnwcfAEAAAO3dv4cfX/58+u0DAAgAQP9+/v39AwQgcCDBggYLBgAQAADDhg4fQowocSLDAAAABAgAYCPHjh4/ggwJMkAAACYDBACgciXLli5fwnwZIACAmgECAP/IqXMnz54+f/oMEAAA0QABACBNqnQp06ZOmwYIAGBqgAAArmLNqnUr165cAwQAIHZsAABmz6JNq3Yt27MBAMCNGzcAgLp27+LNq3ev3QAA/gIGHAAA4cKGDyNOrLhwAACOHz8OAGAy5cqWL2POTDkAgM6ePQcAIHo06dKmT6MeHQAA69auWQcIAGA27dq2b+OmHSAAgN6+fwMPEAAA8eLGjyNPXjxAAADOn0OPHiAAgOrWr2PPrt16gAAAvoMPLz5AAADmz6NPr379+QABAMCPL39+gAAA7uPPr38/f/wBAAYAMJBgQYMGAyQEsJBhQ4cNA0QEMJFiRYsXKwbQCID/Y0ePHz0GEAmAZEmTJ1GaDLASQEuXL2G+DDATQE2bN3HmvBmAJwCfP4EGBRqAKACjR5EmVYo0QFMAT6FGlRo1QFUAV7Fm1bp1awCvAQCEFTtWbACzAQCkVbuWbVu3AALEDQCAbl27dQPkDQCAb1+/fwEHBhCAcAAAhxEnRhyAcQAAjyFHljyZMoAAlwMA0LyZ8+YAnwMAED2adGnTpwEEUB0AQGvXr10HkB0AQG3bt3Hnxh0gAADfv4EHF+47QAAAx5EnV778eIAAAKBHlz6dOvQAAQBk176de/fsAQIAED+efHnz4gMEALCefXv379cHCACAfn379/HTDxAAQH///wABCBxIsKDAAAEAKFzIsKFDhQECAJhIsaJFiwECANjIsaPHjyABBAgAoKTJkyhLBggAoKXLlzBjygQQIACAmzhz6rwZIACAn0CDCh1KFECAAACSKl3KNGmAAACiSp1KtapVAAECANjKtavXrQECABhLtqzZs2gBBAgAoK3bt3ADBABAt67du3jz3g0QAIDfv4D/BggAoLDhw4gTK0YcIACAx5AjQw4QAIDly5gza96cOUAAAKBDiw4dIACA06hTq17NWnWAAABiy54tO0AAALhz697Nu/fuAAEACB9OHECAAACSK1/OvLnz5wACBABAvXr1AAEAaN/Ovbv37+ABBP8IAKC8efMBAgBYz769+/fw4wMIEACA/fv3AwQAwL+/f4AABA4kWNCgwQABACxkyDBAAAARJU6kWNHiRQABAgDg2JFjAAAhRY4kWdLkSZIBAKxkCSAAAJgxZc6kWdPmzAAAdO4EEADAT6BBhQ4lWlRoAABJlQIIAMDpU6hRpU6lGjUAAKxZAQQA0NXrV7BhxY4FGwDAWbQBAKxl29btW7hx4QYAULduAAB59e7l29fvX78BAAweHADAYcSJFS9m3JhxAACRIwcAUNnyZcyZNW/WHADA588BAIwmXdr0adSpUQcA0BpAAACxZc+mXdv2bdwBAOwOAMD3b+DBhQ8nXjz/AADkAQAsZ97c+XPo0aUHAFA9AADs2bVv597d+/cAAMQHAFDe/Hn06dWvZx8AAIAAAQDMp1/f/n38+fUHCAAgAMAAAAYSLGjwIMKECgMEABAgAICIEidSrGjxIsYAAQAECADgI8iQIkeSLGkyQAAAAQIAaOnyJcyYMmfSDBAAQAAAOnfy7OnzJ9CgOgMACADgKNKkSpcyber0aAAAAQBQrWr1KtasWrdSDQAgAICwYseSLWv2LNqwAQAEAOD2Ldy4cufSres2AIAAAPby7ev3L+DAgvcGABAAAOLEihczbuz4MeIAAAIAqGz5MubMmjdzrhwAQAAAokeTLm36NOrU/6IDAAgA4DXs2LJn065t+3UAAAEA8O7t+zfw4MKH8w4AIACA5MqXM2/u/Dn05AEABABg/Tr27Nq3c+9uPQCAAADGky9v/jz69OrHBwAQAAD8+PLn069v/z78AAACAOjvHyAAgQMJFjR4EGHBAAACAHD4EGJEiRMpVnQYAEAAABs5dvT4EWRIkRsDAAgAAGVKlStZtnT5EmUAAAEA1LR5E2dOnTt51gwAIAAAoUOJFjV6FGlSoQEABADwFGpUqVOpVrX6NACAAAC4dvX6FWxYsWO5BgAQAEBatWvZtnX7Fm7aAAACALB7F29evXv59rUbAEAAAIMJFzZ8GHFixYMDAP8IAAByZMmTKVe2fBlyAAABAHT2/Bl0aNGjSXcOACAAANWrWbd2/Rp2bNUBAAQAcBt3bt27eff2fTsAgAABABQ3fhx5cuXLmQcIACBAAADTqVe3fh17du0BAgAIEABAePHjyZc3fx59gAAAAgQA8B5+fPnz6de3HyAAgAABAPT3DxCAwIEECxo8iHBggAAAAAQAADGixIkUK1q8GACAxgAAOnr8CDKkyJEkAwA4GQCAypUsW7p8CTNmAAA0AwC4iTOnzp08e/oMACBoAABEixo9ijSp0qUBADgFEACA1KlUq1q9ivVqAABcuQYAADas2LFky5otGwCAWrUBALh9Czf/rty5dOcGAIAXbwAAfPv6/Qs4sODAAQAYNhwAgOLFjBs7fgz5cQAAlCsHAIA5s+bNnDt73hwAgOjRAAIAOI06terVrFurDgAgtmwAAQDYvo07t+7dvHMHAAA8OIAAAIobP448ufLlyAMAeA4dQAAA1Ktbv449u/brAQB4/+49QAAA5MubP48+vXoAAQIAeA8ffoAAAOrbv48/v/79AAIEAAhA4MCBAQIAQJhQ4UKGDR0CCBAAwESKFAMEAJBR40aOHT1+BBAgAACSJUsGCABA5UqWLV2+hAkgQAAANW3eBBAgAACePX3+BBr0Z4AAAIweRXo0QAAATZ0+hRpVKtQA/wEAXMWaFWuAAAC8fgUbVuzYsAECAECbVm3aAAEAvIUbV+5cunIDBACQV+9evQECAAAcWPBgwoUHBwgAQPFixo0DBAAQWfJkypUtAwgQAMBmzp09bw4QAMBo0qVNn0YNIEAAAK1dv4bdOkAAALVt38adWzeAAAEA/AYeXPjvAAEAHEeeXPly5gACBAAQXfp06tEDBACQXft27t29AwgQAMB48uXNmw8QAMB69u3dv18fIAAA+vXt38dPP0AAAP39AwQgcCDBggIDBACgcCHDhg4VBggAYCLFihYvTgwQAADHjh4/guQYIACAkiZPokxZMkAAAC5fwowp02WAAABu4rfMqXPnzQABAAANKnQo0aEBjgYAoHQp06UBngYAIHUq1apWrwIIoDUAgK5ev3oNIDYAgLJmz6JNqxZAgLYBAMCNKzdugLoBAODNq3cv374AAgAOAGAw4cKEAyAOAGAx48aOH0MGEGByAACWL2O+HGBzAACeP4MOLXo06c8BAKBOrXo169auX6sOAGA27dq2b+POrbt2AAC+fwMPLnw48eLAAwBIrnw58+bOn0NfHgAA9erWr2O3HhAAOw==\"><title>Layer: hidden1 (hidden)\n shape = (5,)\n Keras class = Dense\n activation = relu</title></image><text x=\"280.0\" y=\"177.0\" font-family=\"monospace\" font-size=\"12\" text-anchor=\"start\" alignment-baseline=\"central\">hidden1</text><line x1=\"175.0\" y1=\"224.0\" x2=\"175.0\" y2=\"197.0\" stroke=\"black\" stroke-width=\"2\" marker-end=\"url(#arrow)\"><title>Weights from input1 to hidden1\n hidden1/kernel has shape (2, 5)\n hidden1/bias has shape (5,)</title></line><rect x=\"74.0\" y=\"224.0\" width=\"202\" height=\"102\" style=\"fill:none;stroke:black;stroke-width:2\"/><image id=\"XOR Network_input1_9\" class=\"XOR Network_input1\" x=\"75.0\" y=\"225.0\" height=\"100\" width=\"200\" preserveAspectRatio=\"none\" href=\"data:image/gif;base64,R0lGODdhfAA+AIcAAP/9/QAAAAAAAAAAAAAAAAAAAAAAAAAAAAAAAAAAAAAAAAAAAAAAAAAAAAAAAAAAAAAAAAAAAAAAAAAAAAAAAAAAAAAAAAAAAAAAAAAAAAAAAAAAAAAAAAAAAAAAAAAAAAAAAAAAAAAAAAAAAAAAAAAAAAAAAAAAAAAAAAAAAAAAAAAAAAAAAAAAAAAAAAAAAAAAAAAAAAAAAAAAAAAAAAAAAAAAAAAAAAAAAAAAAAAAAAAAAAAAAAAAAAAAAAAAAAAAAAAAAAAAAAAAAAAAAAAAAAAAAAAAAAAAAAAAAAAAAAAAAAAAAAAAAAAAAAAAAAAAAAAAAAAAAAAAAAAAAAAAAAAAAAAAAAAAAAAAAAAAAAAAAAAAAAAAAAAAAAAAAAAAAAAAAAAAAAAAAAAAAAAAAAAAAAAAAAAAAAAAAAAAAAAAAAAAAAAAAAAAAAAAAAAAAAAAAAAAAAAAAAAAAAAAAAAAAAAAAAAAAAAAAAAAAAAAAAAAAAAAAAAAAAAAAAAAAAAAAAAAAAAAAAAAAAAAAAAAAAAAAAAAAAAAAAAAAAAAAAAAAAAAAAAAAAAAAAAAAAAAAAAAAAAAAAAAAAAAAAAAAAAAAAAAAAAAAAAAAAAAAAAAAAAAAAAAAAAAAAAAAAAAAAAAAAAAAAAAAAAAAAAAAAAAAAAAAAAAAAAAAAAAAAAAAAAAAAAAAAAAAAAAAAAAAAAAAAAAAAAAAAAAAAAAAAAAAAAAAAAAAAAAAAAAAAAAAAAAAAAAAAAAAAAAAAAAAAAAAAAAAAAAAAAAAAAAAAAAAAAAAAAAAAAAAAAAAAAAAAAAAAAAAAAAAAAAAAAAAAAAAAAAAAAAAAAAAAAAAAAAAAAAAAAAAAAAAAAAAAAAAAAAAAAAAAAAAAAAAAAAAAAAAAAAAAAAAAAAAAAAAAAAAAAAAAAAAAAAAAAAAAAAAAAAAAAAAAAAAAAAAAAAAAAAAAAAAAAAAAAAAAAAAAAAAAAAAAAAAAAAAAAAAAAAAAAAAAAAAAAAACwAAAAAfAA+AEAI/wABCBxIsKBBgQESKlzIEIDDhxAjSpxIsaLDABgzatwIoKPHjyBDivwYIACAkyhTqlzJsqXKAAEAyJxJs6bMAAEA6NzJs6fPn0B7BggAoKjRo0UDAFjKtKnTp1CjSo0aAIDVqwACANjKtavXr2DDig0bAIBZAAEAqF3Ltq3bt3DjymUbAEAAAHjz6t3Lt6/fv4D1BgAQAIDhw4gTK17MuLFjxAEABABAubLly5gza97M2XIAAAACABhNurTp06hTq149OgCA1wEAyJ5Nu7bt27hz65YdAIDv3wACBABAvLjx48iTK19OPEAAANCjSwcQIACA69iza9/Ovbv36wECAP8YT768+fIB0gNYz769+/fwAQSYD6C+/fv48+cPwB+Af4AABA4kWNBgwQAJASxk2NDhw4cBJAKgWNHiRYwZAQTgCMDjR5AhRYoMUBLASZQpVa5kCSDASwAxZc6kOTNAAAA5de7k2dPnT6A5AwQAUNToUQABAgBg2tTpU6hRpU5lGiAAAKxZAQQA0NXrV7BhxY4lW7ZrAABpAwBg29btW7hx5c6lyzYAAAABAOzl29fvX8CBBQ/uGwBAAACJFS9m3NjxY8iRFwcAEADAZcyZNW/m3Nnz58wBAAQAUNr0adSpVa9m3fp0AACxAQQAUNv2bdy5de/mvTsAAODBAQQAUNz/+HHkyZUvZ748AADo0aVDDxAAwHXs2bVv595de4AAAMSPJ19efIAAANSvZ9/e/Xv47QMEAFDf/n38+fXfD9DfP8AAAAIQLBgAAMKEChcybOjwIcIAEicGABDgIsYAADZy7OjxI8iQHgOQBGDyJMqUKgOwBODyJcyYMmfODGATAM6cOnfyDOATANCgQocSLQogQAAASpcyber06dMAAQBQrWr1KlaqAQIA6Or1K9iwYsUGCADgLNq0atMGAOD2Ldy4cufSrRsAAN68evcGAOD3L+DAggcTLhwAAOLEihEHAOD4MeTIkidTriw5AIDMmjUHAOD5M+jQokeTLi06AIDU/6oBBADg+jXs2LJn065tOwCA3LkDAOjt+zfw4MKHEy8eAAByAAEAMG/u/Dn06NKnU2ceAAD2AAC2c+/u/Tv48OLHbw8AAEAAAOrXs2/v/j38+PLZBwAQAAD+/Pr38+/vHyAAgQMJFjQoMACAAAAYNnT4EGJEiRMpPgwQAEBGjRs5dvT4EWRIjgECADB5EmVKlStZtnSJMgCAAABo1rR5E2dOnTt52gwAAEAAAEOJFjV6FGlSpUuHBgDwNAAAqVOpVrV6FWtWrVIDAPAKIAAAsWPJljV7Fm1atQEAtG0bAEBcuXPp1rV7F2/eAAD49gUQAEBgwYMJFzZ8GHHhAAAYN/9uHABAZMmTKVe2fBlz5QAAOHf2zDkAANGjSZc2fRp16gAAWLd2/ToAANmzade2fRt37gAAePf2/dt3gAAAiBc3fhx58uQBAgBw/hx6dOnOAwQAcB17du3buXMPEABAePHjyZc3DyBAegDr2bd3/z5AfADz6de3fx8//gD7AfT3DxCAwIEECwY4CCChwoUMGzp8mDCARAAUK1q8GCAjgI0cO3r8CDKkxwAkAZg8iTJlgJUAWrp8CTOmzJkBagK4iTOnzp05A/gEADSo0KFEiwYNgBSA0qVMmzplGiAqgKlUq1q9ijVAAABcu3r9Cjbs1wABAJg9izatWrQBAgB4Czf/rty5dOUGCAAgr969fPvmDQAgsODBhAsbPiw4AIDFjBs7fhwAgOTJlCtbvox5cgAAnDt7/uw5AIDRpEubPo06NeoAAFq7fg27dQAAtGvbvo07t+7cAQD4/g08eAAAxIsbP448ufLlxAMAeA49OvQAAKpbv449u/bt3KsHAAA+vHgAAQIAOI8+vfr17Nu7Tx8gAID59OkHCAAgv/79/Pv7BwhA4ECCBQ0GCABA4UKFAQIAgBhR4kSKFS1epBggAACOHQEECABA5EiSJU2eRJnSZIAAAFy+DBAAwEyaNW3exJlTZ84AAQD8/BkgAACiRY0eRZpU6VKlAQIAgAo1AACq/1WtXsWaVetWrgEAfP0aAMBYsmXNnkWbVu3aAADcAggAQO5cunXt3sWbV6/cAAD8BgAQWPBgwoUNH0acOHAAAAACAIAcWfJkypUtX8YsOQCAAAA8fwYdWvRo0qVNgw4AIAAA1q1dv4YdW/Zs2q4DAAgAQPdu3r19/wYeXDjvAAACAECeXPly5s2dP4euPACAAACsX8eeXft27t29Yw8AIAAA8uXNn0efXv169uYDAAgAQP58+vXt38efXz/9AAACAAQgcCDBggYPIkyokGAAAAEAQIwocSLFihYvYpQYAEAAAB4/ggwpciTJkiZBBgAQAADLli5fwowpcyZNlwEABP8AoHMnz54+fwINKpRnAAABACBNqnQp06ZOn0JVGgBAAABWr2LNqnUr165esQYAEAAA2bJmz6JNq3YtW7MBAAAIAGAu3bp27+LNq3fv3AAA/gYAIHgw4cKGDyNOrFhwAACOAQQAIHky5cqWL2POrDkAgM6dAwAILXo06dKmT6NOHQAAa9YBAgCILXs27dq2b+O+HSAAgN69AwQAIHw48eLGjyNPjjxAAADOnwcIAGA69erWr2PPrv16gAAAvoMHECAAgPLmz6NPr349+/QBAgCILz9+gAAA7uPPr38///7+AQIQCCBAAAAHESIMEABAQ4cPIUaUOJHiwwABAGTUuBH/QAAAH0GGFDmSZEmTHwMAULmS5coAAGDGlDmTZk2bN2EGALCTZ0+fAQAEFTqUaFGjR40GALCUaVOnSwMAkDqValWrV7FeDQCAa1evX70GADCWbFmzZ9GmJRsAQFu3b+HGDQCAbl27d/Hm1Vs3AAC/fwEHFuw3QAAAhxEnVryYseIAAQBEljyZcuXJAQIA0LyZc2fPnzsHCACAdGnTp1GnDrAaQGvXr2HHfh2ANgDbt3Hn1r37dgDfAIAHFz6cuPAAxwEkV76ceXPnzwNEBzCdenXrAbAD0L6de3fv38F3DzAeQHnz59EHUA+AfXv37+HHlz8ffgAA9/Hn17+ff3//FAABCBxIsCCAAAASKlzIsKFDhQEBADs=\"><title>Layer: input1 (input)\n shape = (2,)\n Keras class = Input</title></image><text x=\"280.0\" y=\"277.0\" font-family=\"monospace\" font-size=\"12\" text-anchor=\"start\" alignment-baseline=\"central\">input1</text></svg></p>"
      }
     },
     "6c4ccfaf3c8c44aca507f233d1f540c1": {
      "model_module": "@jupyter-widgets/controls",
      "model_module_version": "1.1.0",
      "model_name": "DescriptionStyleModel",
      "state": {
       "description_width": "initial"
      }
     },
     "6c8a371e1cdb46c782a8bb655b9a42c9": {
      "model_module": "@jupyter-widgets/controls",
      "model_module_version": "1.1.0",
      "model_name": "ButtonStyleModel",
      "state": {}
     },
     "6c97aa815d3345c8a0f2f53a34ddc8eb": {
      "model_module": "@jupyter-widgets/controls",
      "model_module_version": "1.1.0",
      "model_name": "IntSliderModel",
      "state": {
       "continuous_update": false,
       "description": "Dataset index",
       "layout": "IPY_MODEL_4b7bd006154847d5ad46ab51fba8e999",
       "max": 0,
       "style": "IPY_MODEL_1a8fe531f6de484e978d0d214040431c"
      }
     },
     "6ca4a96a067c40fb978fe14f7e7512e5": {
      "model_module": "@jupyter-widgets/base",
      "model_module_version": "1.0.0",
      "model_name": "LayoutModel",
      "state": {}
     },
     "6dab1191c213491d9ce7f17d2e6145e0": {
      "model_module": "@jupyter-widgets/base",
      "model_module_version": "1.0.0",
      "model_name": "LayoutModel",
      "state": {
       "width": "100%"
      }
     },
     "6e295a0664bc438aa6b4ad223277ee33": {
      "model_module": "@jupyter-widgets/controls",
      "model_module_version": "1.1.0",
      "model_name": "DescriptionStyleModel",
      "state": {
       "description_width": "initial"
      }
     },
     "6eaec4e8878d4cb3b412954da969416f": {
      "model_module": "@jupyter-widgets/controls",
      "model_module_version": "1.1.0",
      "model_name": "ButtonModel",
      "state": {
       "description": "Play",
       "icon": "play",
       "layout": "IPY_MODEL_3c8ab49e84f840488833092b4567d6c3",
       "style": "IPY_MODEL_10e3f25a69be438196dfe22b8c038e5c"
      }
     },
     "6f3378d80dc14bdb93dc79e06a1d8ffc": {
      "model_module": "@jupyter-widgets/output",
      "model_module_version": "1.1.0",
      "model_name": "OutputModel",
      "state": {
       "_model_module_version": "1.1.0",
       "_view_module_version": "1.1.0",
       "layout": "IPY_MODEL_b38cc3bd94764949ab082458a93bb032"
      }
     },
     "6fb426651637499a88ed22966696ccf5": {
      "model_module": "@jupyter-widgets/base",
      "model_module_version": "1.0.0",
      "model_name": "LayoutModel",
      "state": {
       "width": "100%"
      }
     },
     "6fdc4d47727d4b148f552867d675ad10": {
      "model_module": "@jupyter-widgets/controls",
      "model_module_version": "1.1.0",
      "model_name": "DescriptionStyleModel",
      "state": {
       "description_width": ""
      }
     },
     "7029184e8f514755990776a3468ef47a": {
      "model_module": "@jupyter-widgets/controls",
      "model_module_version": "1.1.0",
      "model_name": "IntSliderModel",
      "state": {
       "continuous_update": false,
       "description": "Dataset index",
       "layout": "IPY_MODEL_6a1199d7ecc649a9befeb484fee72f5c",
       "max": 3,
       "style": "IPY_MODEL_832850a89d5b490490098e4399babf3e",
       "value": 1
      }
     },
     "707234fed8ad4e78863ad0152d8e651a": {
      "model_module": "@jupyter-widgets/controls",
      "model_module_version": "1.1.0",
      "model_name": "ButtonModel",
      "state": {
       "icon": "backward",
       "layout": "IPY_MODEL_4b1ace11838a4ce68f7efd54cbd6ea4d",
       "style": "IPY_MODEL_aca5ab0ed49d4827bdf27470be4426a4"
      }
     },
     "70b3167b34d64f968c5b79ac388145f7": {
      "model_module": "@jupyter-widgets/base",
      "model_module_version": "1.0.0",
      "model_name": "LayoutModel",
      "state": {
       "width": "100%"
      }
     },
     "70cb4e0d172d426790eb549f981af6d9": {
      "model_module": "@jupyter-widgets/controls",
      "model_module_version": "1.1.0",
      "model_name": "DescriptionStyleModel",
      "state": {
       "description_width": ""
      }
     },
     "71348c9f49a7466a9eaa837c24bb1fe6": {
      "model_module": "@jupyter-widgets/base",
      "model_module_version": "1.0.0",
      "model_name": "LayoutModel",
      "state": {}
     },
     "71c8426f46af43a58dcbb7ada2408831": {
      "model_module": "@jupyter-widgets/base",
      "model_module_version": "1.0.0",
      "model_name": "LayoutModel",
      "state": {}
     },
     "71d7b61321034a6cb5fc5017bdcf6e46": {
      "model_module": "@jupyter-widgets/controls",
      "model_module_version": "1.1.0",
      "model_name": "IntSliderModel",
      "state": {
       "continuous_update": false,
       "description": "Dataset index",
       "layout": "IPY_MODEL_609898da460b428bbc933a8d413212cd",
       "max": 0,
       "style": "IPY_MODEL_ad58a8d7ba194af487a3eaf45ab56a3b"
      }
     },
     "71f6f8d4c6b543a5871ae893cee86dfc": {
      "model_module": "@jupyter-widgets/controls",
      "model_module_version": "1.1.0",
      "model_name": "IntTextModel",
      "state": {
       "layout": "IPY_MODEL_0dcf8233da9d4eaf915f382a7e0097e8",
       "step": 1,
       "style": "IPY_MODEL_fa503e160acb4ed38d0bc21ce72c912b"
      }
     },
     "727ebd75740045e48522382aff3f08de": {
      "model_module": "@jupyter-widgets/base",
      "model_module_version": "1.0.0",
      "model_name": "LayoutModel",
      "state": {}
     },
     "7385c114c4fb4bd48e7024f5b538899d": {
      "model_module": "@jupyter-widgets/controls",
      "model_module_version": "1.1.0",
      "model_name": "DescriptionStyleModel",
      "state": {
       "description_width": ""
      }
     },
     "73c3919e40e34e518723591fd9919ac5": {
      "model_module": "@jupyter-widgets/controls",
      "model_module_version": "1.1.0",
      "model_name": "DescriptionStyleModel",
      "state": {
       "description_width": "initial"
      }
     },
     "73fdf61c3de3489897a4eb02cf546b82": {
      "model_module": "@jupyter-widgets/controls",
      "model_module_version": "1.1.0",
      "model_name": "DescriptionStyleModel",
      "state": {
       "description_width": "initial"
      }
     },
     "74992c722cd747429282721c4bd38cec": {
      "model_module": "@jupyter-widgets/controls",
      "model_module_version": "1.1.0",
      "model_name": "VBoxModel",
      "state": {
       "children": [
        "IPY_MODEL_204c2825f7774a3385a9777cd4693743",
        "IPY_MODEL_403ba0e0b22f49f6befe480ee1bfac79",
        "IPY_MODEL_4a4ca491573544c7b7ba475eec7d5546",
        "IPY_MODEL_3e3b720f52a14c969e093cdba9ea219f",
        "IPY_MODEL_1e20e8913c244e028f56e7bc84e3abe0",
        "IPY_MODEL_bedcaed665db4f29aa375f36c8a056f4",
        "IPY_MODEL_481a8b178f964eadb73f32fef999c0d1",
        "IPY_MODEL_9524a3697a10457eab8f32203a6b767c"
       ],
       "layout": "IPY_MODEL_8cd3cf1b2b8b40c2817898f2447d1430"
      }
     },
     "7499bda11d444b7c85e1dc992e5cd485": {
      "model_module": "@jupyter-widgets/controls",
      "model_module_version": "1.1.0",
      "model_name": "DescriptionStyleModel",
      "state": {
       "description_width": "initial"
      }
     },
     "753d14574cf24171bf130c0cb53e72bf": {
      "model_module": "@jupyter-widgets/base",
      "model_module_version": "1.0.0",
      "model_name": "LayoutModel",
      "state": {
       "width": "100%"
      }
     },
     "7552448588d9434f853ab19e7ea6cec3": {
      "model_module": "@jupyter-widgets/controls",
      "model_module_version": "1.1.0",
      "model_name": "DescriptionStyleModel",
      "state": {
       "description_width": ""
      }
     },
     "75991e3b0a9e4ac882d966cb107a9271": {
      "model_module": "@jupyter-widgets/controls",
      "model_module_version": "1.1.0",
      "model_name": "DescriptionStyleModel",
      "state": {
       "description_width": "initial"
      }
     },
     "75a21fdb5fc6450aa711d80d087045a8": {
      "model_module": "@jupyter-widgets/controls",
      "model_module_version": "1.1.0",
      "model_name": "HBoxModel",
      "state": {
       "children": [
        "IPY_MODEL_d58c231adc6b4e46b7f61fb1dcddb395",
        "IPY_MODEL_448bf2883c7c4a74b3cdfcb1a82d8eb1"
       ],
       "layout": "IPY_MODEL_8b451f05ef784bbf8804b6ceb9fdae1e"
      }
     },
     "76303101510d4267b5aa4cb2b9906b95": {
      "model_module": "@jupyter-widgets/base",
      "model_module_version": "1.0.0",
      "model_name": "LayoutModel",
      "state": {
       "width": "100%"
      }
     },
     "7643b960f93946ff95873afea0e4b3bf": {
      "model_module": "@jupyter-widgets/controls",
      "model_module_version": "1.1.0",
      "model_name": "VBoxModel",
      "state": {
       "children": [
        "IPY_MODEL_9de37ac7ebd24a8293914a44492247b7",
        "IPY_MODEL_325a29b8a5a74c449689b58396c8cfac",
        "IPY_MODEL_839c50f25faf47a5b7a9689bba1172c9",
        "IPY_MODEL_258c1b4d351a4c16aa14b85102f0ef4a"
       ],
       "layout": "IPY_MODEL_5e62b29a118247299f19419c76289605"
      }
     },
     "769c871651ff4d0e989dc0c93e0a2521": {
      "model_module": "@jupyter-widgets/controls",
      "model_module_version": "1.1.0",
      "model_name": "DescriptionStyleModel",
      "state": {
       "description_width": ""
      }
     },
     "76ce3da18454402f83a83899b2d86d2e": {
      "model_module": "@jupyter-widgets/controls",
      "model_module_version": "1.1.0",
      "model_name": "ButtonModel",
      "state": {
       "icon": "fast-backward",
       "layout": "IPY_MODEL_4244d2dd6ee34afda319679148d64cab",
       "style": "IPY_MODEL_a8dd5fe6d00545e7b219a1a21ae8c2d5"
      }
     },
     "77142c99af22440d80207222cdcdec59": {
      "model_module": "@jupyter-widgets/controls",
      "model_module_version": "1.1.0",
      "model_name": "SelectModel",
      "state": {
       "_options_labels": [
        "",
        "Accent",
        "Accent_r",
        "Blues",
        "Blues_r",
        "BrBG",
        "BrBG_r",
        "BuGn",
        "BuGn_r",
        "BuPu",
        "BuPu_r",
        "CMRmap",
        "CMRmap_r",
        "Dark2",
        "Dark2_r",
        "GnBu",
        "GnBu_r",
        "Greens",
        "Greens_r",
        "Greys",
        "Greys_r",
        "OrRd",
        "OrRd_r",
        "Oranges",
        "Oranges_r",
        "PRGn",
        "PRGn_r",
        "Paired",
        "Paired_r",
        "Pastel1",
        "Pastel1_r",
        "Pastel2",
        "Pastel2_r",
        "PiYG",
        "PiYG_r",
        "PuBu",
        "PuBuGn",
        "PuBuGn_r",
        "PuBu_r",
        "PuOr",
        "PuOr_r",
        "PuRd",
        "PuRd_r",
        "Purples",
        "Purples_r",
        "RdBu",
        "RdBu_r",
        "RdGy",
        "RdGy_r",
        "RdPu",
        "RdPu_r",
        "RdYlBu",
        "RdYlBu_r",
        "RdYlGn",
        "RdYlGn_r",
        "Reds",
        "Reds_r",
        "Set1",
        "Set1_r",
        "Set2",
        "Set2_r",
        "Set3",
        "Set3_r",
        "Spectral",
        "Spectral_r",
        "Vega10",
        "Vega10_r",
        "Vega20",
        "Vega20_r",
        "Vega20b",
        "Vega20b_r",
        "Vega20c",
        "Vega20c_r",
        "Wistia",
        "Wistia_r",
        "YlGn",
        "YlGnBu",
        "YlGnBu_r",
        "YlGn_r",
        "YlOrBr",
        "YlOrBr_r",
        "YlOrRd",
        "YlOrRd_r",
        "afmhot",
        "afmhot_r",
        "autumn",
        "autumn_r",
        "binary",
        "binary_r",
        "bone",
        "bone_r",
        "brg",
        "brg_r",
        "bwr",
        "bwr_r",
        "cool",
        "cool_r",
        "coolwarm",
        "coolwarm_r",
        "copper",
        "copper_r",
        "cubehelix",
        "cubehelix_r",
        "flag",
        "flag_r",
        "gist_earth",
        "gist_earth_r",
        "gist_gray",
        "gist_gray_r",
        "gist_heat",
        "gist_heat_r",
        "gist_ncar",
        "gist_ncar_r",
        "gist_rainbow",
        "gist_rainbow_r",
        "gist_stern",
        "gist_stern_r",
        "gist_yarg",
        "gist_yarg_r",
        "gnuplot",
        "gnuplot2",
        "gnuplot2_r",
        "gnuplot_r",
        "gray",
        "gray_r",
        "hot",
        "hot_r",
        "hsv",
        "hsv_r",
        "inferno",
        "inferno_r",
        "jet",
        "jet_r",
        "magma",
        "magma_r",
        "nipy_spectral",
        "nipy_spectral_r",
        "ocean",
        "ocean_r",
        "pink",
        "pink_r",
        "plasma",
        "plasma_r",
        "prism",
        "prism_r",
        "rainbow",
        "rainbow_r",
        "seismic",
        "seismic_r",
        "spectral",
        "spectral_r",
        "spring",
        "spring_r",
        "summer",
        "summer_r",
        "tab10",
        "tab10_r",
        "tab20",
        "tab20_r",
        "tab20b",
        "tab20b_r",
        "tab20c",
        "tab20c_r",
        "terrain",
        "terrain_r",
        "viridis",
        "viridis_r",
        "winter",
        "winter_r"
       ],
       "description": "Colormap:",
       "index": 0,
       "layout": "IPY_MODEL_0169d3a3fc6f45a9a227e73e7898c690",
       "rows": 1,
       "style": "IPY_MODEL_cd6dd089270f486488cac23b30d1f58f"
      }
     },
     "771f7dc479f44e79b98729280f679b0e": {
      "model_module": "@jupyter-widgets/controls",
      "model_module_version": "1.1.0",
      "model_name": "ButtonModel",
      "state": {
       "icon": "forward",
       "layout": "IPY_MODEL_d1a811feaf7d4451b812a5ee2b699a86",
       "style": "IPY_MODEL_ad76b5367384422395c42c406ed3ba70"
      }
     },
     "7744407c57194fb8aee7cf27556873ab": {
      "model_module": "@jupyter-widgets/base",
      "model_module_version": "1.0.0",
      "model_name": "LayoutModel",
      "state": {}
     },
     "77d86ec0ecad46af96c210da88877f5c": {
      "model_module": "@jupyter-widgets/base",
      "model_module_version": "1.0.0",
      "model_name": "LayoutModel",
      "state": {
       "width": "100%"
      }
     },
     "78e2e8afe5d24ebba61c39f25a9bfc10": {
      "model_module": "@jupyter-widgets/output",
      "model_module_version": "1.0.0",
      "model_name": "OutputModel",
      "state": {
       "layout": "IPY_MODEL_0fd2943c128245eb86f78ee5c32736d7"
      }
     },
     "7921ae1754be4168a4339b1a4ae80583": {
      "model_module": "@jupyter-widgets/controls",
      "model_module_version": "1.1.0",
      "model_name": "IntSliderModel",
      "state": {
       "continuous_update": false,
       "description": "Dataset index",
       "layout": "IPY_MODEL_816b14635aac42328435b08d47e4f8be",
       "max": 0,
       "style": "IPY_MODEL_9d0f809b45164d88915f8c570ac04125"
      }
     },
     "79407dab2d6a4dbe9126de5c31661feb": {
      "model_module": "@jupyter-widgets/controls",
      "model_module_version": "1.1.0",
      "model_name": "IntSliderModel",
      "state": {
       "continuous_update": false,
       "description": "Dataset index",
       "layout": "IPY_MODEL_d7ca225f76ff43f28261d037a12381de",
       "max": 3,
       "style": "IPY_MODEL_2da9cbcedaea4b658ce4fb8b02c618cd"
      }
     },
     "799072e3627140e7904e2705536850d5": {
      "model_module": "@jupyter-widgets/controls",
      "model_module_version": "1.1.0",
      "model_name": "DescriptionStyleModel",
      "state": {
       "description_width": ""
      }
     },
     "79ab389bc61c452b87c2603af4e5b816": {
      "model_module": "@jupyter-widgets/controls",
      "model_module_version": "1.1.0",
      "model_name": "DescriptionStyleModel",
      "state": {
       "description_width": ""
      }
     },
     "7a37f3f0139546f7842714c446c2b796": {
      "model_module": "@jupyter-widgets/controls",
      "model_module_version": "1.1.0",
      "model_name": "HBoxModel",
      "state": {
       "children": [
        "IPY_MODEL_9098176260c840efa41b19cd2a69f4ad",
        "IPY_MODEL_e9606a18df9f44aa9e3e021d393ce31e"
       ],
       "layout": "IPY_MODEL_ff620c321f02417f920ea10302767c4b"
      }
     },
     "7a3928ecf32f48d8ab8e3884ba3f9027": {
      "model_module": "@jupyter-widgets/base",
      "model_module_version": "1.0.0",
      "model_name": "LayoutModel",
      "state": {
       "justify_content": "center",
       "overflow_x": "auto",
       "overflow_y": "auto",
       "width": "95%"
      }
     },
     "7a721e8e09464cbd987fe2a82a3451b1": {
      "model_module": "@jupyter-widgets/controls",
      "model_module_version": "1.1.0",
      "model_name": "ButtonModel",
      "state": {
       "description": "Play",
       "icon": "play",
       "layout": "IPY_MODEL_525feea29e884095b6be0085bfb8b7d9",
       "style": "IPY_MODEL_9f6dccd45f52469b9553b19efc7e0059"
      }
     },
     "7ab14ba9c81243949b92c0e514c9beb2": {
      "model_module": "@jupyter-widgets/controls",
      "model_module_version": "1.1.0",
      "model_name": "DescriptionStyleModel",
      "state": {
       "description_width": "initial"
      }
     },
     "7ac597785aef4214a1874d9346963861": {
      "model_module": "@jupyter-widgets/controls",
      "model_module_version": "1.1.0",
      "model_name": "DescriptionStyleModel",
      "state": {
       "description_width": "initial"
      }
     },
     "7b3a1282ec9f49389ce697c828f77f15": {
      "model_module": "@jupyter-widgets/controls",
      "model_module_version": "1.1.0",
      "model_name": "SelectModel",
      "state": {
       "_options_labels": [
        "input1",
        "hidden1",
        "output1"
       ],
       "description": "Layer:",
       "index": 2,
       "layout": "IPY_MODEL_0916a0fa3fa241af8691f299c653ca5d",
       "rows": 1,
       "style": "IPY_MODEL_819e5386594a40e89610d067e3761f65"
      }
     },
     "7b538ac77a474a2ea54598226e8259d5": {
      "model_module": "@jupyter-widgets/controls",
      "model_module_version": "1.1.0",
      "model_name": "SelectModel",
      "state": {
       "_options_labels": [
        "input1",
        "hidden1",
        "output1"
       ],
       "description": "Layer:",
       "index": 2,
       "layout": "IPY_MODEL_84c58b605b384c5da418ac89007230fb",
       "rows": 1,
       "style": "IPY_MODEL_d307c84891b7469aa8110b616c2bc820"
      }
     },
     "7bd390302d2245cfa4373021114af962": {
      "model_module": "@jupyter-widgets/base",
      "model_module_version": "1.0.0",
      "model_name": "LayoutModel",
      "state": {
       "width": "100%"
      }
     },
     "7bf270f650cc41e7a5094e0ccceb2855": {
      "model_module": "@jupyter-widgets/controls",
      "model_module_version": "1.1.0",
      "model_name": "CheckboxModel",
      "state": {
       "description": "Show Targets",
       "disabled": false,
       "layout": "IPY_MODEL_34fcf6cc8f624e2aa927178dcec232aa",
       "style": "IPY_MODEL_0eb1148919ff452ebc6e352ed344d114",
       "value": false
      }
     },
     "7c5832b148304a9b828ec5612e3595e9": {
      "model_module": "@jupyter-widgets/base",
      "model_module_version": "1.0.0",
      "model_name": "LayoutModel",
      "state": {}
     },
     "7c680f86b73948c0ab7f22d1800ee8fe": {
      "model_module": "@jupyter-widgets/controls",
      "model_module_version": "1.1.0",
      "model_name": "IntTextModel",
      "state": {
       "description": "Feature to show:",
       "layout": "IPY_MODEL_b3bd79f54b974691a861d9fe02edba56",
       "step": 1,
       "style": "IPY_MODEL_163875c3d0ed4c7f949d094936259148"
      }
     },
     "7caa5b12bf854e8aac58658794d5bc89": {
      "model_module": "@jupyter-widgets/controls",
      "model_module_version": "1.1.0",
      "model_name": "HBoxModel",
      "state": {
       "children": [
        "IPY_MODEL_ec4bd483ec6746349b7fe25bc784245c",
        "IPY_MODEL_b8b8b04688654db899bf5d96129be74b"
       ],
       "layout": "IPY_MODEL_dee2635f9cd04a508e322f81768d06dd"
      }
     },
     "7d6d65e6338e4ac99f3a2e28bb85a5a7": {
      "model_module": "@jupyter-widgets/controls",
      "model_module_version": "1.1.0",
      "model_name": "DescriptionStyleModel",
      "state": {
       "description_width": ""
      }
     },
     "7db9d7944a0a4feba5b7a2621e1227c2": {
      "model_module": "@jupyter-widgets/controls",
      "model_module_version": "1.1.0",
      "model_name": "DescriptionStyleModel",
      "state": {
       "description_width": "initial"
      }
     },
     "7df3aa4fa7a44421ae2a3bb885e6fd2b": {
      "model_module": "@jupyter-widgets/base",
      "model_module_version": "1.0.0",
      "model_name": "LayoutModel",
      "state": {
       "width": "100%"
      }
     },
     "7e6cd9ec8e744043bf8d0dcfe47c4459": {
      "model_module": "@jupyter-widgets/controls",
      "model_module_version": "1.1.0",
      "model_name": "IntTextModel",
      "state": {
       "description": "Feature to show:",
       "layout": "IPY_MODEL_9ec5e9fe4d5a4dc1a4777ca93e1f2416",
       "step": 1,
       "style": "IPY_MODEL_d0fb042698854b6f94c5c2da7c56f868"
      }
     },
     "7ec38e23c9ac4c6fa3a2b751d90bd7c1": {
      "model_module": "@jupyter-widgets/controls",
      "model_module_version": "1.1.0",
      "model_name": "SelectModel",
      "state": {
       "_options_labels": [
        ""
       ],
       "description": "Features:",
       "index": 0,
       "layout": "IPY_MODEL_93960c732c4a4b6891e3d4acd3e7ddf5",
       "rows": 1,
       "style": "IPY_MODEL_1301ed6b1aac490981c17cf75a424c0a"
      }
     },
     "7f0b27c179a34a4a9e447cddf478a739": {
      "model_module": "@jupyter-widgets/controls",
      "model_module_version": "1.1.0",
      "model_name": "VBoxModel",
      "state": {
       "children": [
        "IPY_MODEL_9b811c68283a4f2c9398cd497c5a7851",
        "IPY_MODEL_11868b798da242e7a5780027bcb520a5",
        "IPY_MODEL_98d5bad02dd145e99416bc9d6000aa9e",
        "IPY_MODEL_1e48782583b2407fbd32547d86114c7a",
        "IPY_MODEL_e05855ffafd443eb80c19c7556a9c64f",
        "IPY_MODEL_977e983179b54e14a612b1c03740f5f5",
        "IPY_MODEL_63c10cde6334470490c284d218c6e349",
        "IPY_MODEL_ee57ac7f7b1d49cb92c9fdab25bdd4e8"
       ],
       "layout": "IPY_MODEL_87e6a39e35634ec98133c85258ec3a96"
      }
     },
     "7f571e3055f649b895d154263ff746af": {
      "model_module": "@jupyter-widgets/base",
      "model_module_version": "1.0.0",
      "model_name": "LayoutModel",
      "state": {}
     },
     "7f8c929929794024bcfd7d162f3ddbe8": {
      "model_module": "@jupyter-widgets/controls",
      "model_module_version": "1.1.0",
      "model_name": "DescriptionStyleModel",
      "state": {
       "description_width": ""
      }
     },
     "7ff66aefd7ec491190b69e310b420db8": {
      "model_module": "@jupyter-widgets/controls",
      "model_module_version": "1.1.0",
      "model_name": "FloatTextModel",
      "state": {
       "description": "Feature scale:",
       "layout": "IPY_MODEL_d86333322d6f44cbb1e96b8ab463e7fd",
       "step": null,
       "style": "IPY_MODEL_1bd3e83004714078878b300e9ba52f17",
       "value": 2
      }
     },
     "8058c673f15442228ad2e26fd43c1123": {
      "model_module": "@jupyter-widgets/base",
      "model_module_version": "1.0.0",
      "model_name": "LayoutModel",
      "state": {
       "width": "100%"
      }
     },
     "809bc549f84249fbb843839f41612501": {
      "model_module": "@jupyter-widgets/base",
      "model_module_version": "1.0.0",
      "model_name": "LayoutModel",
      "state": {
       "height": "50px",
       "width": "100%"
      }
     },
     "80aa09d697a341c4999e1c30f821d473": {
      "model_module": "@jupyter-widgets/controls",
      "model_module_version": "1.1.0",
      "model_name": "ButtonStyleModel",
      "state": {}
     },
     "80eee89ecf70407d94842bda1fadac3d": {
      "model_module": "@jupyter-widgets/controls",
      "model_module_version": "1.1.0",
      "model_name": "HTMLModel",
      "state": {
       "layout": "IPY_MODEL_ab06f2e7d2bb43cfa13e19ebc3bbdedc",
       "style": "IPY_MODEL_83230f2d65644be4b3d5f07a44728b27",
       "value": "<p style=\"text-align:center\"><svg id='XOR Network' xmlns='http://www.w3.org/2000/svg' viewBox=\"0 0 350 610\" max-width=\"100%\" height=\"780\" image-rendering=\"pixelated\">\n    <defs>\n        <marker id=\"arrow\" markerWidth=\"10\" markerHeight=\"10\" refX=\"9\" refY=\"3\" orient=\"auto\" markerUnits=\"strokeWidth\">\n          <path d=\"M0,0 L0,6 L9,3 z\" fill=\"black\" />\n        </marker>\n    </defs><text x=\"175.0\" y=\"12.5\" font-family=\"monospace\" font-size=\"15\" text-anchor=\"middle\" alignment-baseline=\"central\">XOR Network</text><rect x=\"74.0\" y=\"24\" width=\"202\" height=\"202\" style=\"fill:none;stroke:black;stroke-width:2\"/><image id=\"XOR Network_output1_10\" class=\"XOR Network_output1\" x=\"75.0\" y=\"25\" height=\"200\" width=\"200\" preserveAspectRatio=\"none\" href=\"data:image/gif;base64,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\"><title>Layer: output1 (output)\n shape = (1,)\n Keras class = Dense\n activation = sigmoid</title></image><text x=\"280.0\" y=\"127.0\" font-family=\"monospace\" font-size=\"12\" text-anchor=\"start\" alignment-baseline=\"central\">output1</text><line x1=\"175.0\" y1=\"254\" x2=\"175.0\" y2=\"227\" stroke=\"black\" stroke-width=\"2\" marker-end=\"url(#arrow)\"><title>Weights from hidden1 to output1\n output1/kernel has shape (400, 1)\n output1/bias has shape (1,)</title></line><rect x=\"74.0\" y=\"254\" width=\"202\" height=\"202\" style=\"fill:none;stroke:black;stroke-width:2\"/><image id=\"XOR Network_hidden1_11\" class=\"XOR Network_hidden1\" x=\"75.0\" y=\"255\" height=\"200\" width=\"200\" preserveAspectRatio=\"none\" href=\"data:image/gif;base64,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\"><title>Layer: hidden1 (hidden)\n shape = (400,)\n Keras class = Dense\n activation = relu</title></image><text x=\"280.0\" y=\"357.0\" font-family=\"monospace\" font-size=\"12\" text-anchor=\"start\" alignment-baseline=\"central\">hidden1</text><line x1=\"175.0\" y1=\"484\" x2=\"175.0\" y2=\"457\" stroke=\"black\" stroke-width=\"2\" marker-end=\"url(#arrow)\"><title>Weights from input1 to hidden1\n hidden1/kernel has shape (2, 400)\n hidden1/bias has shape (400,)</title></line><rect x=\"74.0\" y=\"484\" width=\"202\" height=\"102\" style=\"fill:none;stroke:black;stroke-width:2\"/><image id=\"XOR Network_input1_12\" class=\"XOR Network_input1\" x=\"75.0\" y=\"485\" height=\"100\" width=\"200\" preserveAspectRatio=\"none\" href=\"data:image/gif;base64,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\"><title>Layer: input1 (input)\n shape = (2,)\n Keras class = Input</title></image><text x=\"280.0\" y=\"537.0\" font-family=\"monospace\" font-size=\"12\" text-anchor=\"start\" alignment-baseline=\"central\">input1</text></svg></p>"
      }
     },
     "80ff0b64c94340089a2f9e51b41b84d2": {
      "model_module": "@jupyter-widgets/controls",
      "model_module_version": "1.1.0",
      "model_name": "FloatTextModel",
      "state": {
       "description": "Leftmost color maps to:",
       "layout": "IPY_MODEL_eb434e38eb424380aeae7fe72d13b43a",
       "step": null,
       "style": "IPY_MODEL_63c4480c3654499c89c0b138f841c6d0",
       "value": -1
      }
     },
     "8122f8fe03be4111a73cabea115c325d": {
      "model_module": "@jupyter-widgets/base",
      "model_module_version": "1.0.0",
      "model_name": "LayoutModel",
      "state": {
       "width": "100%"
      }
     },
     "816b14635aac42328435b08d47e4f8be": {
      "model_module": "@jupyter-widgets/base",
      "model_module_version": "1.0.0",
      "model_name": "LayoutModel",
      "state": {
       "width": "100%"
      }
     },
     "816ccb201d554a85bd6ec2779ed1d122": {
      "model_module": "@jupyter-widgets/controls",
      "model_module_version": "1.1.0",
      "model_name": "ButtonStyleModel",
      "state": {}
     },
     "817e4ba7448e43229419646cd9b4ef9c": {
      "model_module": "@jupyter-widgets/controls",
      "model_module_version": "1.1.0",
      "model_name": "DescriptionStyleModel",
      "state": {
       "description_width": ""
      }
     },
     "819e5386594a40e89610d067e3761f65": {
      "model_module": "@jupyter-widgets/controls",
      "model_module_version": "1.1.0",
      "model_name": "DescriptionStyleModel",
      "state": {
       "description_width": ""
      }
     },
     "81da0254407d4a90b61b8eb9aee4c03c": {
      "model_module": "@jupyter-widgets/base",
      "model_module_version": "1.0.0",
      "model_name": "LayoutModel",
      "state": {
       "width": "100%"
      }
     },
     "8299e04c52c84d3e86d4187b3f4aae6e": {
      "model_module": "@jupyter-widgets/base",
      "model_module_version": "1.0.0",
      "model_name": "LayoutModel",
      "state": {}
     },
     "82a793e46a854093b2e1e356ceee3368": {
      "model_module": "@jupyter-widgets/controls",
      "model_module_version": "1.1.0",
      "model_name": "VBoxModel",
      "state": {
       "children": [
        "IPY_MODEL_67ef1c5344994d7494cd51cbcf1eb7d9",
        "IPY_MODEL_1bbb06d239b743eb8df849a2b8ffe01f",
        "IPY_MODEL_6c197ef1cecf4946906eff09ab46e998",
        "IPY_MODEL_40edba5e518f4fafa20903e8e2a6499a"
       ],
       "layout": "IPY_MODEL_025b71b1c24149bcaadc2055faac56c5"
      }
     },
     "8314c35884e44a07926472bdb79935b8": {
      "model_module": "@jupyter-widgets/controls",
      "model_module_version": "1.1.0",
      "model_name": "DescriptionStyleModel",
      "state": {
       "description_width": "initial"
      }
     },
     "83230f2d65644be4b3d5f07a44728b27": {
      "model_module": "@jupyter-widgets/controls",
      "model_module_version": "1.1.0",
      "model_name": "DescriptionStyleModel",
      "state": {
       "description_width": ""
      }
     },
     "832850a89d5b490490098e4399babf3e": {
      "model_module": "@jupyter-widgets/controls",
      "model_module_version": "1.1.0",
      "model_name": "SliderStyleModel",
      "state": {
       "description_width": ""
      }
     },
     "832e6f78c6be4c1dad20c50d8dfbc46f": {
      "model_module": "@jupyter-widgets/base",
      "model_module_version": "1.0.0",
      "model_name": "LayoutModel",
      "state": {}
     },
     "839c50f25faf47a5b7a9689bba1172c9": {
      "model_module": "@jupyter-widgets/controls",
      "model_module_version": "1.1.0",
      "model_name": "HTMLModel",
      "state": {
       "layout": "IPY_MODEL_a5121c1fc06a4250b7df563f0ab8ecc4",
       "style": "IPY_MODEL_43ffc526d81a49ffb4c7795d0a1d8a12",
       "value": "<p style=\"text-align:center\"><svg id='XOR Network' xmlns='http://www.w3.org/2000/svg' viewBox=\"0 0 350 250\" height=\"780\" image-rendering=\"pixelated\">\n    <defs>\n        <marker id=\"arrow\" markerWidth=\"10\" markerHeight=\"10\" refX=\"9\" refY=\"3\" orient=\"auto\" markerUnits=\"strokeWidth\">\n          <path d=\"M0,0 L0,6 L9,3 z\" fill=\"black\" />\n        </marker>\n    </defs><text x=\"175.0\" y=\"12.5\" font-family=\"monospace\" font-size=\"15\" text-anchor=\"middle\" alignment-baseline=\"central\">XOR Network</text><rect x=\"149.0\" y=\"24\" width=\"52\" height=\"52\" style=\"fill:none;stroke:black;stroke-width:2\"/><image id=\"XOR Network_output1_7\" class=\"XOR Network_output1\" x=\"150.0\" y=\"25\" height=\"50\" width=\"50\" preserveAspectRatio=\"none\" href=\"data:image/gif;base64,R0lGODdhAQABAIcAAAAA/wAAAAAAAAAAAAAAAAAAAAAAAAAAAAAAAAAAAAAAAAAAAAAAAAAAAAAAAAAAAAAAAAAAAAAAAAAAAAAAAAAAAAAAAAAAAAAAAAAAAAAAAAAAAAAAAAAAAAAAAAAAAAAAAAAAAAAAAAAAAAAAAAAAAAAAAAAAAAAAAAAAAAAAAAAAAAAAAAAAAAAAAAAAAAAAAAAAAAAAAAAAAAAAAAAAAAAAAAAAAAAAAAAAAAAAAAAAAAAAAAAAAAAAAAAAAAAAAAAAAAAAAAAAAAAAAAAAAAAAAAAAAAAAAAAAAAAAAAAAAAAAAAAAAAAAAAAAAAAAAAAAAAAAAAAAAAAAAAAAAAAAAAAAAAAAAAAAAAAAAAAAAAAAAAAAAAAAAAAAAAAAAAAAAAAAAAAAAAAAAAAAAAAAAAAAAAAAAAAAAAAAAAAAAAAAAAAAAAAAAAAAAAAAAAAAAAAAAAAAAAAAAAAAAAAAAAAAAAAAAAAAAAAAAAAAAAAAAAAAAAAAAAAAAAAAAAAAAAAAAAAAAAAAAAAAAAAAAAAAAAAAAAAAAAAAAAAAAAAAAAAAAAAAAAAAAAAAAAAAAAAAAAAAAAAAAAAAAAAAAAAAAAAAAAAAAAAAAAAAAAAAAAAAAAAAAAAAAAAAAAAAAAAAAAAAAAAAAAAAAAAAAAAAAAAAAAAAAAAAAAAAAAAAAAAAAAAAAAAAAAAAAAAAAAAAAAAAAAAAAAAAAAAAAAAAAAAAAAAAAAAAAAAAAAAAAAAAAAAAAAAAAAAAAAAAAAAAAAAAAAAAAAAAAAAAAAAAAAAAAAAAAAAAAAAAAAAAAAAAAAAAAAAAAAAAAAAAAAAAAAAAAAAAAAAAAAAAAAAAAAAAAAAAAAAAAAAAAAAAAAAAAAAAAAAAAAAAAAAAAAAAAAAAAAAAAAAAAAAAAAAAAAAAAAAAAAAAAAAAAAAAAAAAAAAAAAAAAAAAAAAAAAAAAAAAAAAAAAAAAAAAAAAAAAAAAAAAAAAAAAAAAAAAAAAAAAAAAAAAACwAAAAAAQABAAAIBQABnAgIADs=\"><title>Layer: output1 (output)\n shape = (1,)\n Keras class = Dense\n activation = sigmoid</title></image><text x=\"205.0\" y=\"52.0\" font-family=\"monospace\" font-size=\"12\" text-anchor=\"start\" alignment-baseline=\"central\">output1</text><line x1=\"175.0\" y1=\"104\" x2=\"175.0\" y2=\"77\" stroke=\"black\" stroke-width=\"2\" marker-end=\"url(#arrow)\"><title>Weights from hidden1 to output1\n output1/kernel has shape (5, 1)\n output1/bias has shape (1,)</title></line><rect x=\"74.0\" y=\"104\" width=\"202\" height=\"42\" style=\"fill:none;stroke:black;stroke-width:2\"/><image id=\"XOR Network_hidden1_8\" class=\"XOR Network_hidden1\" x=\"75.0\" y=\"105\" height=\"40\" width=\"200\" preserveAspectRatio=\"none\" href=\"data:image/gif;base64,R0lGODdhBQABAIcAAP/9/QAAAAAAAAAAAAAAAAAAAAAAAAAAAAAAAAAAAAAAAAAAAAAAAAAAAAAAAAAAAAAAAAAAAAAAAAAAAAAAAAAAAAAAAAAAAAAAAAAAAAAAAAAAAAAAAAAAAAAAAAAAAAAAAAAAAAAAAAAAAAAAAAAAAAAAAAAAAAAAAAAAAAAAAAAAAAAAAAAAAAAAAAAAAAAAAAAAAAAAAAAAAAAAAAAAAAAAAAAAAAAAAAAAAAAAAAAAAAAAAAAAAAAAAAAAAAAAAAAAAAAAAAAAAAAAAAAAAAAAAAAAAAAAAAAAAAAAAAAAAAAAAAAAAAAAAAAAAAAAAAAAAAAAAAAAAAAAAAAAAAAAAAAAAAAAAAAAAAAAAAAAAAAAAAAAAAAAAAAAAAAAAAAAAAAAAAAAAAAAAAAAAAAAAAAAAAAAAAAAAAAAAAAAAAAAAAAAAAAAAAAAAAAAAAAAAAAAAAAAAAAAAAAAAAAAAAAAAAAAAAAAAAAAAAAAAAAAAAAAAAAAAAAAAAAAAAAAAAAAAAAAAAAAAAAAAAAAAAAAAAAAAAAAAAAAAAAAAAAAAAAAAAAAAAAAAAAAAAAAAAAAAAAAAAAAAAAAAAAAAAAAAAAAAAAAAAAAAAAAAAAAAAAAAAAAAAAAAAAAAAAAAAAAAAAAAAAAAAAAAAAAAAAAAAAAAAAAAAAAAAAAAAAAAAAAAAAAAAAAAAAAAAAAAAAAAAAAAAAAAAAAAAAAAAAAAAAAAAAAAAAAAAAAAAAAAAAAAAAAAAAAAAAAAAAAAAAAAAAAAAAAAAAAAAAAAAAAAAAAAAAAAAAAAAAAAAAAAAAAAAAAAAAAAAAAAAAAAAAAAAAAAAAAAAAAAAAAAAAAAAAAAAAAAAAAAAAAAAAAAAAAAAAAAAAAAAAAAAAAAAAAAAAAAAAAAAAAAAAAAAAAAAAAAAAAAAAAAAAAAAAAAAAAAAAAAAAAAAAAAAAAAAAAAAAAAAAAAAAAAAAAAAAAAAAAAAAAAAAAAAAAAAAAAAAAAAAAAAAAACwAAAAABQABAAAIBgABCBQYEAA7\"><title>Layer: hidden1 (hidden)\n shape = (5,)\n Keras class = Dense\n activation = relu</title></image><text x=\"280.0\" y=\"127.0\" font-family=\"monospace\" font-size=\"12\" text-anchor=\"start\" alignment-baseline=\"central\">hidden1</text><line x1=\"175.0\" y1=\"174\" x2=\"175.0\" y2=\"147\" stroke=\"black\" stroke-width=\"2\" marker-end=\"url(#arrow)\"><title>Weights from input1 to hidden1\n hidden1/kernel has shape (2, 5)\n hidden1/bias has shape (5,)</title></line><rect x=\"124.0\" y=\"174\" width=\"102\" height=\"52\" style=\"fill:none;stroke:black;stroke-width:2\"/><image id=\"XOR Network_input1_9\" class=\"XOR Network_input1\" x=\"125.0\" y=\"175\" height=\"50\" width=\"100\" preserveAspectRatio=\"none\" href=\"data:image/gif;base64,R0lGODdhAgABAIcAAP/9/QAAAAAAAAAAAAAAAAAAAAAAAAAAAAAAAAAAAAAAAAAAAAAAAAAAAAAAAAAAAAAAAAAAAAAAAAAAAAAAAAAAAAAAAAAAAAAAAAAAAAAAAAAAAAAAAAAAAAAAAAAAAAAAAAAAAAAAAAAAAAAAAAAAAAAAAAAAAAAAAAAAAAAAAAAAAAAAAAAAAAAAAAAAAAAAAAAAAAAAAAAAAAAAAAAAAAAAAAAAAAAAAAAAAAAAAAAAAAAAAAAAAAAAAAAAAAAAAAAAAAAAAAAAAAAAAAAAAAAAAAAAAAAAAAAAAAAAAAAAAAAAAAAAAAAAAAAAAAAAAAAAAAAAAAAAAAAAAAAAAAAAAAAAAAAAAAAAAAAAAAAAAAAAAAAAAAAAAAAAAAAAAAAAAAAAAAAAAAAAAAAAAAAAAAAAAAAAAAAAAAAAAAAAAAAAAAAAAAAAAAAAAAAAAAAAAAAAAAAAAAAAAAAAAAAAAAAAAAAAAAAAAAAAAAAAAAAAAAAAAAAAAAAAAAAAAAAAAAAAAAAAAAAAAAAAAAAAAAAAAAAAAAAAAAAAAAAAAAAAAAAAAAAAAAAAAAAAAAAAAAAAAAAAAAAAAAAAAAAAAAAAAAAAAAAAAAAAAAAAAAAAAAAAAAAAAAAAAAAAAAAAAAAAAAAAAAAAAAAAAAAAAAAAAAAAAAAAAAAAAAAAAAAAAAAAAAAAAAAAAAAAAAAAAAAAAAAAAAAAAAAAAAAAAAAAAAAAAAAAAAAAAAAAAAAAAAAAAAAAAAAAAAAAAAAAAAAAAAAAAAAAAAAAAAAAAAAAAAAAAAAAAAAAAAAAAAAAAAAAAAAAAAAAAAAAAAAAAAAAAAAAAAAAAAAAAAAAAAAAAAAAAAAAAAAAAAAAAAAAAAAAAAAAAAAAAAAAAAAAAAAAAAAAAAAAAAAAAAAAAAAAAAAAAAAAAAAAAAAAAAAAAAAAAAAAAAAAAAAAAAAAAAAAAAAAAAAAAAAAAAAAAAAAAAAAAAAAAAAAAAAAAAAAAAAAAAAAAAAAACwAAAAAAgABAAAIBQABAAgIADs=\"><title>Layer: input1 (input)\n shape = (2,)\n Keras class = Input</title></image><text x=\"230.0\" y=\"202.0\" font-family=\"monospace\" font-size=\"12\" text-anchor=\"start\" alignment-baseline=\"central\">input1</text></svg></p>"
      }
     },
     "83e93eb1de54495c8657991648cfd43d": {
      "model_module": "@jupyter-widgets/controls",
      "model_module_version": "1.1.0",
      "model_name": "IntTextModel",
      "state": {
       "layout": "IPY_MODEL_633dd50f667042b78b4a49d33fff3db7",
       "step": 1,
       "style": "IPY_MODEL_902ba645b1424bd9881155cf36571aeb"
      }
     },
     "83f43f1014794bf1a40e2a9502ad8300": {
      "model_module": "@jupyter-widgets/base",
      "model_module_version": "1.0.0",
      "model_name": "LayoutModel",
      "state": {
       "width": "100%"
      }
     },
     "843e8bda1d274c0bac26e2ab67073d64": {
      "model_module": "@jupyter-widgets/base",
      "model_module_version": "1.0.0",
      "model_name": "LayoutModel",
      "state": {}
     },
     "84aba01eead24836872ed8b8e44b2d63": {
      "model_module": "@jupyter-widgets/controls",
      "model_module_version": "1.1.0",
      "model_name": "DescriptionStyleModel",
      "state": {
       "description_width": "initial"
      }
     },
     "84c58b605b384c5da418ac89007230fb": {
      "model_module": "@jupyter-widgets/base",
      "model_module_version": "1.0.0",
      "model_name": "LayoutModel",
      "state": {}
     },
     "84e929474a314a61b2955699c58599e7": {
      "model_module": "@jupyter-widgets/controls",
      "model_module_version": "1.1.0",
      "model_name": "HBoxModel",
      "state": {
       "children": [
        "IPY_MODEL_7029184e8f514755990776a3468ef47a",
        "IPY_MODEL_ba8a76ef03684b6cbf9a7f0b5dee962e"
       ],
       "layout": "IPY_MODEL_bee2be2f04534d31ada59ec5d0ccdf5d"
      }
     },
     "8620dc4ebcd84104b5aecd31a45ff626": {
      "model_module": "@jupyter-widgets/base",
      "model_module_version": "1.0.0",
      "model_name": "LayoutModel",
      "state": {
       "height": "50px",
       "width": "100%"
      }
     },
     "86b310fc33d84248b510926b79ebd754": {
      "model_module": "@jupyter-widgets/controls",
      "model_module_version": "1.1.0",
      "model_name": "ButtonModel",
      "state": {
       "icon": "forward",
       "layout": "IPY_MODEL_8c8f00f0fb134a2f89d5e38aff3a00f3",
       "style": "IPY_MODEL_33d88684f41240d69be555e4ab183380"
      }
     },
     "86ce2c92335e42d8ae90eb30e868f662": {
      "model_module": "@jupyter-widgets/controls",
      "model_module_version": "1.1.0",
      "model_name": "DescriptionStyleModel",
      "state": {
       "description_width": ""
      }
     },
     "8737ea05d4f74cf997c92e127c968b54": {
      "model_module": "@jupyter-widgets/controls",
      "model_module_version": "1.1.0",
      "model_name": "CheckboxModel",
      "state": {
       "description": "Errors",
       "disabled": false,
       "layout": "IPY_MODEL_6ca4a96a067c40fb978fe14f7e7512e5",
       "style": "IPY_MODEL_fb39055b3c4f47fc88600d4be272f846",
       "value": false
      }
     },
     "87e6a39e35634ec98133c85258ec3a96": {
      "model_module": "@jupyter-widgets/base",
      "model_module_version": "1.0.0",
      "model_name": "LayoutModel",
      "state": {
       "width": "100%"
      }
     },
     "88141b883f5943a484d806191473152e": {
      "model_module": "@jupyter-widgets/controls",
      "model_module_version": "1.1.0",
      "model_name": "CheckboxModel",
      "state": {
       "description": "Visible",
       "disabled": false,
       "layout": "IPY_MODEL_eae8e1880df84ef9b58e171b94c81865",
       "style": "IPY_MODEL_a1e63e4f59114b93899acc3103294386",
       "value": true
      }
     },
     "8830702e52a04f1abae71ff959f29820": {
      "model_module": "@jupyter-widgets/controls",
      "model_module_version": "1.1.0",
      "model_name": "VBoxModel",
      "state": {
       "children": [
        "IPY_MODEL_b58efd5dfba64cfd869f62d47aee105c",
        "IPY_MODEL_cf6eeca816884129868f022bdc0d73a9",
        "IPY_MODEL_b4b6f8c1f3144580a2bb744ea0637c59",
        "IPY_MODEL_e94f0e9d93f04ff9b6018e6aa40e1366",
        "IPY_MODEL_4f5a707e022746e19c4ed74d496c1fc7",
        "IPY_MODEL_a5ff297fcac041049d82d5031df93413",
        "IPY_MODEL_40db78dc86b44231959bc065c645ac57",
        "IPY_MODEL_59d4aea2f3914bd485b5b14f780da8ee"
       ],
       "layout": "IPY_MODEL_8058c673f15442228ad2e26fd43c1123"
      }
     },
     "8885878e8c7a43a98f905bfc695fbc7e": {
      "model_module": "@jupyter-widgets/controls",
      "model_module_version": "1.1.0",
      "model_name": "FloatSliderModel",
      "state": {
       "continuous_update": false,
       "description": "Zoom",
       "layout": "IPY_MODEL_a746b05fd8dd43e0a7107add26688c2d",
       "max": 3,
       "min": 0.5,
       "step": 0.1,
       "style": "IPY_MODEL_19e793cb77ef46c7a72350a2582fc312",
       "value": 1
      }
     },
     "88880d5e45c247259adb20dae90dee73": {
      "model_module": "@jupyter-widgets/base",
      "model_module_version": "1.0.0",
      "model_name": "LayoutModel",
      "state": {
       "justify_content": "center",
       "overflow_x": "auto",
       "overflow_y": "auto",
       "width": "95%"
      }
     },
     "898fa88fd7ba48cf94917236bb5d4351": {
      "model_module": "@jupyter-widgets/controls",
      "model_module_version": "1.1.0",
      "model_name": "IntTextModel",
      "state": {
       "description": "Feature to show:",
       "layout": "IPY_MODEL_2c54d4f0424e46c6bbabebd8de9e27c6",
       "step": 1,
       "style": "IPY_MODEL_2851774d78044df5b09b1a89dab51081"
      }
     },
     "89ca228d19e247a090af48b4a07c82db": {
      "model_module": "@jupyter-widgets/controls",
      "model_module_version": "1.1.0",
      "model_name": "ButtonStyleModel",
      "state": {}
     },
     "8ad4f2fd880b438c8ce98b737d51df01": {
      "model_module": "@jupyter-widgets/base",
      "model_module_version": "1.0.0",
      "model_name": "LayoutModel",
      "state": {
       "width": "100%"
      }
     },
     "8ade5bd038f14058bb6df7a3278c4d28": {
      "model_module": "@jupyter-widgets/base",
      "model_module_version": "1.0.0",
      "model_name": "LayoutModel",
      "state": {}
     },
     "8b0692affd044a608fc4fd775410afe9": {
      "model_module": "@jupyter-widgets/base",
      "model_module_version": "1.0.0",
      "model_name": "LayoutModel",
      "state": {}
     },
     "8b284ac39e544c45b927b69c95e54dec": {
      "model_module": "@jupyter-widgets/base",
      "model_module_version": "1.0.0",
      "model_name": "LayoutModel",
      "state": {
       "justify_content": "center",
       "overflow_x": "auto",
       "overflow_y": "auto",
       "width": "95%"
      }
     },
     "8b28f10ed8a747f9819ae7cdd0eba07f": {
      "model_module": "@jupyter-widgets/controls",
      "model_module_version": "1.1.0",
      "model_name": "SelectModel",
      "state": {
       "_options_labels": [
        "Test",
        "Train"
       ],
       "description": "Dataset:",
       "index": 1,
       "layout": "IPY_MODEL_2b441c44e939427ca2ac170c82b005fe",
       "rows": 1,
       "style": "IPY_MODEL_0dcdf5c8130d4918b5fece5ae0837904"
      }
     },
     "8b3952e5cdbf4be1a8015757ef7fa774": {
      "model_module": "@jupyter-widgets/controls",
      "model_module_version": "1.1.0",
      "model_name": "ButtonModel",
      "state": {
       "icon": "fast-backward",
       "layout": "IPY_MODEL_ca824a2da20c42898d525fe7a5220f8a",
       "style": "IPY_MODEL_9cf9924128dc427690a82f84db6474ed"
      }
     },
     "8b451f05ef784bbf8804b6ceb9fdae1e": {
      "model_module": "@jupyter-widgets/base",
      "model_module_version": "1.0.0",
      "model_name": "LayoutModel",
      "state": {
       "height": "40px"
      }
     },
     "8b575e8a64c24edfa3fee322d3bfa7cc": {
      "model_module": "@jupyter-widgets/controls",
      "model_module_version": "1.1.0",
      "model_name": "DescriptionStyleModel",
      "state": {
       "description_width": ""
      }
     },
     "8b639139a1d54de08029aa5875a0ac3b": {
      "model_module": "@jupyter-widgets/controls",
      "model_module_version": "1.1.0",
      "model_name": "DescriptionStyleModel",
      "state": {
       "description_width": "initial"
      }
     },
     "8b726c5a269a4baaa0f305578d362fec": {
      "model_module": "@jupyter-widgets/controls",
      "model_module_version": "1.1.0",
      "model_name": "DescriptionStyleModel",
      "state": {
       "description_width": ""
      }
     },
     "8bcfab1b52e9409c815e7e57e39cb696": {
      "model_module": "@jupyter-widgets/controls",
      "model_module_version": "1.1.0",
      "model_name": "FloatSliderModel",
      "state": {
       "continuous_update": false,
       "description": "Zoom",
       "layout": "IPY_MODEL_843e8bda1d274c0bac26e2ab67073d64",
       "max": 3,
       "min": 0.5,
       "step": 0.1,
       "style": "IPY_MODEL_b6a540c074d54a04ae076acdc0bccbf0",
       "value": 1
      }
     },
     "8be780f6904f4abb8c0bf80236c181c7": {
      "model_module": "@jupyter-widgets/controls",
      "model_module_version": "1.1.0",
      "model_name": "DescriptionStyleModel",
      "state": {
       "description_width": "initial"
      }
     },
     "8be87eb5581449939194173ef56b1514": {
      "model_module": "@jupyter-widgets/controls",
      "model_module_version": "1.1.0",
      "model_name": "LabelModel",
      "state": {
       "layout": "IPY_MODEL_2237db7fba724197ad0e91ef62e3e27c",
       "style": "IPY_MODEL_7f8c929929794024bcfd7d162f3ddbe8",
       "value": "of 4"
      }
     },
     "8c3bff75e8504b0cb873fa17873d3431": {
      "model_module": "@jupyter-widgets/controls",
      "model_module_version": "1.1.0",
      "model_name": "DescriptionStyleModel",
      "state": {
       "description_width": ""
      }
     },
     "8c501ff9f47c4948ad96bad4d39fcce5": {
      "model_module": "@jupyter-widgets/controls",
      "model_module_version": "1.1.0",
      "model_name": "DescriptionStyleModel",
      "state": {
       "description_width": ""
      }
     },
     "8c8f00f0fb134a2f89d5e38aff3a00f3": {
      "model_module": "@jupyter-widgets/base",
      "model_module_version": "1.0.0",
      "model_name": "LayoutModel",
      "state": {
       "width": "100%"
      }
     },
     "8cd3cf1b2b8b40c2817898f2447d1430": {
      "model_module": "@jupyter-widgets/base",
      "model_module_version": "1.0.0",
      "model_name": "LayoutModel",
      "state": {
       "width": "100%"
      }
     },
     "8cd8cde600c14bfc91a44151383310bf": {
      "model_module": "@jupyter-widgets/base",
      "model_module_version": "1.0.0",
      "model_name": "LayoutModel",
      "state": {
       "height": "40px"
      }
     },
     "8d0940fc773c41739b633c2d06acfe32": {
      "model_module": "@jupyter-widgets/controls",
      "model_module_version": "1.1.0",
      "model_name": "AccordionModel",
      "state": {
       "_titles": {
        "0": "XOR Network"
       },
       "children": [
        "IPY_MODEL_7a37f3f0139546f7842714c446c2b796"
       ],
       "layout": "IPY_MODEL_414e213cad7641f89b0fca058db7237f",
       "selected_index": null
      }
     },
     "8d17e75e87384a57ba79dca1f7d5b0ff": {
      "model_module": "@jupyter-widgets/controls",
      "model_module_version": "1.1.0",
      "model_name": "FloatTextModel",
      "state": {
       "description": "Feature scale:",
       "layout": "IPY_MODEL_ab0b1c2eb4524ceb809f213143e5988c",
       "step": null,
       "style": "IPY_MODEL_1369ef24660346aab51e7c69a3a76cef",
       "value": 2
      }
     },
     "8d336ac2eb8b43d89c0150870097aea8": {
      "model_module": "@jupyter-widgets/controls",
      "model_module_version": "1.1.0",
      "model_name": "ButtonModel",
      "state": {
       "icon": "fast-forward",
       "layout": "IPY_MODEL_a8e30859f56f42a89ccb1d63c04df759",
       "style": "IPY_MODEL_e5ec2d0e6d7b4c569ed2a990ec16addc"
      }
     },
     "8dea87da8811475b8ae8453fb8e514f0": {
      "model_module": "@jupyter-widgets/base",
      "model_module_version": "1.0.0",
      "model_name": "LayoutModel",
      "state": {}
     },
     "8ebe0ed4e2c74e70b0736476fb178a13": {
      "model_module": "@jupyter-widgets/controls",
      "model_module_version": "1.1.0",
      "model_name": "HBoxModel",
      "state": {
       "children": [
        "IPY_MODEL_bc47a48390374195a344448a97114e8a",
        "IPY_MODEL_acbfe6f10af34728b0c676e3ba526415",
        "IPY_MODEL_c0bc587890814f0dbc0421a6b4808f83",
        "IPY_MODEL_3cbc2e6b8ab74024a2fe6a940f0b849c",
        "IPY_MODEL_cea9b375d23a427790bafe1e455a714d",
        "IPY_MODEL_c85dc31c6bcc4978ab25b8f77e941b6d",
        "IPY_MODEL_ddbb0d21a67f453ca64d65fb6cede410"
       ],
       "layout": "IPY_MODEL_f7c01caf476c41a0af3be61641129d94"
      }
     },
     "8f2f94e08c1f40a1a99f1560e1d19770": {
      "model_module": "@jupyter-widgets/controls",
      "model_module_version": "1.1.0",
      "model_name": "FloatTextModel",
      "state": {
       "description": "Leftmost color maps to:",
       "layout": "IPY_MODEL_f17110c9f0ff4422a6cfdc9010c1aede",
       "step": null,
       "style": "IPY_MODEL_4836bd7e35494fdeb2f65df31bed7a98",
       "value": -1
      }
     },
     "8f31cb588897427a9f9de1bf035b1369": {
      "model_module": "@jupyter-widgets/controls",
      "model_module_version": "1.1.0",
      "model_name": "VBoxModel",
      "state": {
       "children": [
        "IPY_MODEL_2de93158ae2a476db574319ca1ae1dd5",
        "IPY_MODEL_2ec3515b15be49669210e7ab8d9b2cf1"
       ],
       "layout": "IPY_MODEL_995e553bca08421d86cb99f5e42a5538"
      }
     },
     "8f48a0cc85104ffbb4aa901d312ff0fc": {
      "model_module": "@jupyter-widgets/base",
      "model_module_version": "1.0.0",
      "model_name": "LayoutModel",
      "state": {}
     },
     "8f5d1f87e0c643dbbd8ec99898d7921b": {
      "model_module": "@jupyter-widgets/base",
      "model_module_version": "1.0.0",
      "model_name": "LayoutModel",
      "state": {}
     },
     "8fbcc5bcf40246cebacf292a42539984": {
      "model_module": "@jupyter-widgets/controls",
      "model_module_version": "1.1.0",
      "model_name": "HTMLModel",
      "state": {
       "layout": "IPY_MODEL_8dea87da8811475b8ae8453fb8e514f0",
       "style": "IPY_MODEL_2ddfc048960a4417b7e2c5e648566b07",
       "value": "<img src=\"data:image/gif;base64,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\"/>"
      }
     },
     "8fc2497b14624514bcfe70ebcac5e9b6": {
      "model_module": "@jupyter-widgets/base",
      "model_module_version": "1.0.0",
      "model_name": "LayoutModel",
      "state": {
       "width": "100%"
      }
     },
     "902ba645b1424bd9881155cf36571aeb": {
      "model_module": "@jupyter-widgets/controls",
      "model_module_version": "1.1.0",
      "model_name": "DescriptionStyleModel",
      "state": {
       "description_width": ""
      }
     },
     "904fc2e80871421ea4a47719ce030a4b": {
      "model_module": "@jupyter-widgets/controls",
      "model_module_version": "1.1.0",
      "model_name": "HTMLModel",
      "state": {
       "layout": "IPY_MODEL_7a3928ecf32f48d8ab8e3884ba3f9027",
       "style": "IPY_MODEL_20a583eb7eaf42099de0f694955df394",
       "value": "<p style=\"text-align:center\"><svg id='XOR Network' xmlns='http://www.w3.org/2000/svg' viewBox=\"0 0 350 250\" max-width=\"100%\" height=\"780\" image-rendering=\"pixelated\">\n    <defs>\n        <marker id=\"arrow\" markerWidth=\"10\" markerHeight=\"10\" refX=\"9\" refY=\"3\" orient=\"auto\" markerUnits=\"strokeWidth\">\n          <path d=\"M0,0 L0,6 L9,3 z\" fill=\"black\" />\n        </marker>\n    </defs><text x=\"175.0\" y=\"12.5\" font-family=\"monospace\" font-size=\"15\" text-anchor=\"middle\" alignment-baseline=\"central\">XOR Network</text><rect x=\"149.0\" y=\"24\" width=\"52\" height=\"52\" style=\"fill:none;stroke:black;stroke-width:2\"/><image id=\"XOR Network_output1_7\" class=\"XOR Network_output1\" x=\"150.0\" y=\"25\" height=\"50\" width=\"50\" preserveAspectRatio=\"none\" href=\"data:image/gif;base64,R0lGODdhAQABAIcAAAAA/wAAAAAAAAAAAAAAAAAAAAAAAAAAAAAAAAAAAAAAAAAAAAAAAAAAAAAAAAAAAAAAAAAAAAAAAAAAAAAAAAAAAAAAAAAAAAAAAAAAAAAAAAAAAAAAAAAAAAAAAAAAAAAAAAAAAAAAAAAAAAAAAAAAAAAAAAAAAAAAAAAAAAAAAAAAAAAAAAAAAAAAAAAAAAAAAAAAAAAAAAAAAAAAAAAAAAAAAAAAAAAAAAAAAAAAAAAAAAAAAAAAAAAAAAAAAAAAAAAAAAAAAAAAAAAAAAAAAAAAAAAAAAAAAAAAAAAAAAAAAAAAAAAAAAAAAAAAAAAAAAAAAAAAAAAAAAAAAAAAAAAAAAAAAAAAAAAAAAAAAAAAAAAAAAAAAAAAAAAAAAAAAAAAAAAAAAAAAAAAAAAAAAAAAAAAAAAAAAAAAAAAAAAAAAAAAAAAAAAAAAAAAAAAAAAAAAAAAAAAAAAAAAAAAAAAAAAAAAAAAAAAAAAAAAAAAAAAAAAAAAAAAAAAAAAAAAAAAAAAAAAAAAAAAAAAAAAAAAAAAAAAAAAAAAAAAAAAAAAAAAAAAAAAAAAAAAAAAAAAAAAAAAAAAAAAAAAAAAAAAAAAAAAAAAAAAAAAAAAAAAAAAAAAAAAAAAAAAAAAAAAAAAAAAAAAAAAAAAAAAAAAAAAAAAAAAAAAAAAAAAAAAAAAAAAAAAAAAAAAAAAAAAAAAAAAAAAAAAAAAAAAAAAAAAAAAAAAAAAAAAAAAAAAAAAAAAAAAAAAAAAAAAAAAAAAAAAAAAAAAAAAAAAAAAAAAAAAAAAAAAAAAAAAAAAAAAAAAAAAAAAAAAAAAAAAAAAAAAAAAAAAAAAAAAAAAAAAAAAAAAAAAAAAAAAAAAAAAAAAAAAAAAAAAAAAAAAAAAAAAAAAAAAAAAAAAAAAAAAAAAAAAAAAAAAAAAAAAAAAAAAAAAAAAAAAAAAAAAAAAAAAAAAAAAAAAAAAAAAAAAAAAAAAAAAAAAAAAAAAAAAAAAAAAAAAAAAAAAAAACwAAAAAAQABAAAIBQAB5AgIADs=\"><title>Layer: output1 (output)\n shape = (1,)\n Keras class = Dense\n activation = sigmoid</title></image><text x=\"205.0\" y=\"52.0\" font-family=\"monospace\" font-size=\"12\" text-anchor=\"start\" alignment-baseline=\"central\">output1</text><line x1=\"175.0\" y1=\"104\" x2=\"175.0\" y2=\"77\" stroke=\"black\" stroke-width=\"2\" marker-end=\"url(#arrow)\"><title>Weights from hidden1 to output1\n output1/kernel has shape (5, 1)\n output1/bias has shape (1,)</title></line><rect x=\"74.0\" y=\"104\" width=\"202\" height=\"42\" style=\"fill:none;stroke:black;stroke-width:2\"/><image id=\"XOR Network_hidden1_8\" class=\"XOR Network_hidden1\" x=\"75.0\" y=\"105\" height=\"40\" width=\"200\" preserveAspectRatio=\"none\" href=\"data:image/gif;base64,R0lGODdhBQABAIcAAP/9/QAAAAAAAAAAAAAAAAAAAAAAAAAAAAAAAAAAAAAAAAAAAAAAAAAAAAAAAAAAAAAAAAAAAAAAAAAAAAAAAAAAAAAAAAAAAAAAAAAAAAAAAAAAAAAAAAAAAAAAAAAAAAAAAAAAAAAAAAAAAAAAAAAAAAAAAAAAAAAAAAAAAAAAAAAAAAAAAAAAAAAAAAAAAAAAAAAAAAAAAAAAAAAAAAAAAAAAAAAAAAAAAAAAAAAAAAAAAAAAAAAAAAAAAAAAAAAAAAAAAAAAAAAAAAAAAAAAAAAAAAAAAAAAAAAAAAAAAAAAAAAAAAAAAAAAAAAAAAAAAAAAAAAAAAAAAAAAAAAAAAAAAAAAAAAAAAAAAAAAAAAAAAAAAAAAAAAAAAAAAAAAAAAAAAAAAAAAAAAAAAAAAAAAAAAAAAAAAAAAAAAAAAAAAAAAAAAAAAAAAAAAAAAAAAAAAAAAAAAAAAAAAAAAAAAAAAAAAAAAAAAAAAAAAAAAAAAAAAAAAAAAAAAAAAAAAAAAAAAAAAAAAAAAAAAAAAAAAAAAAAAAAAAAAAAAAAAAAAAAAAAAAAAAAAAAAAAAAAAAAAAAAAAAAAAAAAAAAAAAAAAAAAAAAAAAAAAAAAAAAAAAAAAAAAAAAAAAAAAAAAAAAAAAAAAAAAAAAAAAAAAAAAAAAAAAAAAAAAAAAAAAAAAAAAAAAAAAAAAAAAAAAAAAAAAAAAAAAAAAAAAAAAAAAAAAAAAAAAAAAAAAAAAAAAAAAAAAAAAAAAAAAAAAAAAAAAAAAAAAAAAAAAAAAAAAAAAAAAAAAAAAAAAAAAAAAAAAAAAAAAAAAAAAAAAAAAAAAAAAAAAAAAAAAAAAAAAAAAAAAAAAAAAAAAAAAAAAAAAAAAAAAAAAAAAAAAAAAAAAAAAAAAAAAAAAAAAAAAAAAAAAAAAAAAAAAAAAAAAAAAAAAAAAAAAAAAAAAAAAAAAAAAAAAAAAAAAAAAAAAAAAAAAAAAAAAAAAAAAAAAAAAAAAAAAAAAAAAAAAACwAAAAABQABAAAIBgABCBQYEAA7\"><title>Layer: hidden1 (hidden)\n shape = (5,)\n Keras class = Dense\n activation = relu</title></image><text x=\"280.0\" y=\"127.0\" font-family=\"monospace\" font-size=\"12\" text-anchor=\"start\" alignment-baseline=\"central\">hidden1</text><line x1=\"175.0\" y1=\"174\" x2=\"175.0\" y2=\"147\" stroke=\"black\" stroke-width=\"2\" marker-end=\"url(#arrow)\"><title>Weights from input1 to hidden1\n hidden1/kernel has shape (2, 5)\n hidden1/bias has shape (5,)</title></line><rect x=\"124.0\" y=\"174\" width=\"102\" height=\"52\" style=\"fill:none;stroke:black;stroke-width:2\"/><image id=\"XOR Network_input1_9\" class=\"XOR Network_input1\" x=\"125.0\" y=\"175\" height=\"50\" width=\"100\" preserveAspectRatio=\"none\" href=\"data:image/gif;base64,R0lGODdhAgABAIcAAP/9/QAAAAAAAAAAAAAAAAAAAAAAAAAAAAAAAAAAAAAAAAAAAAAAAAAAAAAAAAAAAAAAAAAAAAAAAAAAAAAAAAAAAAAAAAAAAAAAAAAAAAAAAAAAAAAAAAAAAAAAAAAAAAAAAAAAAAAAAAAAAAAAAAAAAAAAAAAAAAAAAAAAAAAAAAAAAAAAAAAAAAAAAAAAAAAAAAAAAAAAAAAAAAAAAAAAAAAAAAAAAAAAAAAAAAAAAAAAAAAAAAAAAAAAAAAAAAAAAAAAAAAAAAAAAAAAAAAAAAAAAAAAAAAAAAAAAAAAAAAAAAAAAAAAAAAAAAAAAAAAAAAAAAAAAAAAAAAAAAAAAAAAAAAAAAAAAAAAAAAAAAAAAAAAAAAAAAAAAAAAAAAAAAAAAAAAAAAAAAAAAAAAAAAAAAAAAAAAAAAAAAAAAAAAAAAAAAAAAAAAAAAAAAAAAAAAAAAAAAAAAAAAAAAAAAAAAAAAAAAAAAAAAAAAAAAAAAAAAAAAAAAAAAAAAAAAAAAAAAAAAAAAAAAAAAAAAAAAAAAAAAAAAAAAAAAAAAAAAAAAAAAAAAAAAAAAAAAAAAAAAAAAAAAAAAAAAAAAAAAAAAAAAAAAAAAAAAAAAAAAAAAAAAAAAAAAAAAAAAAAAAAAAAAAAAAAAAAAAAAAAAAAAAAAAAAAAAAAAAAAAAAAAAAAAAAAAAAAAAAAAAAAAAAAAAAAAAAAAAAAAAAAAAAAAAAAAAAAAAAAAAAAAAAAAAAAAAAAAAAAAAAAAAAAAAAAAAAAAAAAAAAAAAAAAAAAAAAAAAAAAAAAAAAAAAAAAAAAAAAAAAAAAAAAAAAAAAAAAAAAAAAAAAAAAAAAAAAAAAAAAAAAAAAAAAAAAAAAAAAAAAAAAAAAAAAAAAAAAAAAAAAAAAAAAAAAAAAAAAAAAAAAAAAAAAAAAAAAAAAAAAAAAAAAAAAAAAAAAAAAAAAAAAAAAAAAAAAAAAAAAAAAAAAAAAAAAAAAAAAAAAAAAAAAAAAAAAAAAAAAACwAAAAAAgABAAAIBQABAAgIADs=\"><title>Layer: input1 (input)\n shape = (2,)\n Keras class = Input</title></image><text x=\"230.0\" y=\"202.0\" font-family=\"monospace\" font-size=\"12\" text-anchor=\"start\" alignment-baseline=\"central\">input1</text></svg></p>"
      }
     },
     "906021c8bdf0477e91f4d761a722f60e": {
      "model_module": "@jupyter-widgets/controls",
      "model_module_version": "1.1.0",
      "model_name": "IntSliderModel",
      "state": {
       "continuous_update": false,
       "description": "Dataset index",
       "layout": "IPY_MODEL_6a3a5d73c93845fc80aa7eff0c2287ff",
       "max": 3,
       "style": "IPY_MODEL_4080d40993a547cd94d753d6db6769cf"
      }
     },
     "908125ea409344f0bd70fa24dc579004": {
      "model_module": "@jupyter-widgets/base",
      "model_module_version": "1.0.0",
      "model_name": "LayoutModel",
      "state": {
       "width": "25%"
      }
     },
     "9098176260c840efa41b19cd2a69f4ad": {
      "model_module": "@jupyter-widgets/controls",
      "model_module_version": "1.1.0",
      "model_name": "VBoxModel",
      "state": {
       "children": [
        "IPY_MODEL_603990cafed549e3b2cabc8ad16794ee",
        "IPY_MODEL_372fbd043f1640fd88c0bad3e1f9be33",
        "IPY_MODEL_3301e8c524f14b97952b38637e6f2381",
        "IPY_MODEL_41952e84b1fe463c8d75659723a5a04c",
        "IPY_MODEL_05e5ef9e06484366aca598d2f4371c09",
        "IPY_MODEL_181bfd96d7ee48f199f5530e6acfeb01",
        "IPY_MODEL_471e3dde34e944a38a9718e7118d28c0",
        "IPY_MODEL_23ed2782bfee4a59ba87053482c1e8f0"
       ],
       "layout": "IPY_MODEL_0128c0a1a0244c90aa207f6963d92c14"
      }
     },
     "91154e4c8c3b4fd79e0f7972f8a2dbd6": {
      "model_module": "@jupyter-widgets/controls",
      "model_module_version": "1.1.0",
      "model_name": "ButtonModel",
      "state": {
       "icon": "refresh",
       "layout": "IPY_MODEL_13892896947e4391ac5ebb4503423368",
       "style": "IPY_MODEL_0f91738997ef4bd98c55038cc1ca7432"
      }
     },
     "916d4ce49adb4bc4994ccd2e44679cd5": {
      "model_module": "@jupyter-widgets/controls",
      "model_module_version": "1.1.0",
      "model_name": "DescriptionStyleModel",
      "state": {
       "description_width": "initial"
      }
     },
     "91c603c629a3480ca60f1891d4df6ef2": {
      "model_module": "@jupyter-widgets/base",
      "model_module_version": "1.0.0",
      "model_name": "LayoutModel",
      "state": {}
     },
     "9252c27bd0c9467394d3915c8426936d": {
      "model_module": "@jupyter-widgets/controls",
      "model_module_version": "1.1.0",
      "model_name": "ButtonModel",
      "state": {
       "icon": "backward",
       "layout": "IPY_MODEL_ff2bf4a69c6b4daa8b0b3b534e592733",
       "style": "IPY_MODEL_0f0ecd32a3904136b180b86e81f105b6"
      }
     },
     "927ee4f696ce4c738ad8d7b4ba56ee71": {
      "model_module": "@jupyter-widgets/controls",
      "model_module_version": "1.1.0",
      "model_name": "SelectModel",
      "state": {
       "_options_labels": [
        "",
        "Accent",
        "Accent_r",
        "Blues",
        "Blues_r",
        "BrBG",
        "BrBG_r",
        "BuGn",
        "BuGn_r",
        "BuPu",
        "BuPu_r",
        "CMRmap",
        "CMRmap_r",
        "Dark2",
        "Dark2_r",
        "GnBu",
        "GnBu_r",
        "Greens",
        "Greens_r",
        "Greys",
        "Greys_r",
        "OrRd",
        "OrRd_r",
        "Oranges",
        "Oranges_r",
        "PRGn",
        "PRGn_r",
        "Paired",
        "Paired_r",
        "Pastel1",
        "Pastel1_r",
        "Pastel2",
        "Pastel2_r",
        "PiYG",
        "PiYG_r",
        "PuBu",
        "PuBuGn",
        "PuBuGn_r",
        "PuBu_r",
        "PuOr",
        "PuOr_r",
        "PuRd",
        "PuRd_r",
        "Purples",
        "Purples_r",
        "RdBu",
        "RdBu_r",
        "RdGy",
        "RdGy_r",
        "RdPu",
        "RdPu_r",
        "RdYlBu",
        "RdYlBu_r",
        "RdYlGn",
        "RdYlGn_r",
        "Reds",
        "Reds_r",
        "Set1",
        "Set1_r",
        "Set2",
        "Set2_r",
        "Set3",
        "Set3_r",
        "Spectral",
        "Spectral_r",
        "Vega10",
        "Vega10_r",
        "Vega20",
        "Vega20_r",
        "Vega20b",
        "Vega20b_r",
        "Vega20c",
        "Vega20c_r",
        "Wistia",
        "Wistia_r",
        "YlGn",
        "YlGnBu",
        "YlGnBu_r",
        "YlGn_r",
        "YlOrBr",
        "YlOrBr_r",
        "YlOrRd",
        "YlOrRd_r",
        "afmhot",
        "afmhot_r",
        "autumn",
        "autumn_r",
        "binary",
        "binary_r",
        "bone",
        "bone_r",
        "brg",
        "brg_r",
        "bwr",
        "bwr_r",
        "cool",
        "cool_r",
        "coolwarm",
        "coolwarm_r",
        "copper",
        "copper_r",
        "cubehelix",
        "cubehelix_r",
        "flag",
        "flag_r",
        "gist_earth",
        "gist_earth_r",
        "gist_gray",
        "gist_gray_r",
        "gist_heat",
        "gist_heat_r",
        "gist_ncar",
        "gist_ncar_r",
        "gist_rainbow",
        "gist_rainbow_r",
        "gist_stern",
        "gist_stern_r",
        "gist_yarg",
        "gist_yarg_r",
        "gnuplot",
        "gnuplot2",
        "gnuplot2_r",
        "gnuplot_r",
        "gray",
        "gray_r",
        "hot",
        "hot_r",
        "hsv",
        "hsv_r",
        "inferno",
        "inferno_r",
        "jet",
        "jet_r",
        "magma",
        "magma_r",
        "nipy_spectral",
        "nipy_spectral_r",
        "ocean",
        "ocean_r",
        "pink",
        "pink_r",
        "plasma",
        "plasma_r",
        "prism",
        "prism_r",
        "rainbow",
        "rainbow_r",
        "seismic",
        "seismic_r",
        "spectral",
        "spectral_r",
        "spring",
        "spring_r",
        "summer",
        "summer_r",
        "tab10",
        "tab10_r",
        "tab20",
        "tab20_r",
        "tab20b",
        "tab20b_r",
        "tab20c",
        "tab20c_r",
        "terrain",
        "terrain_r",
        "viridis",
        "viridis_r",
        "winter",
        "winter_r"
       ],
       "description": "Colormap:",
       "index": 0,
       "layout": "IPY_MODEL_6ca4a96a067c40fb978fe14f7e7512e5",
       "rows": 1,
       "style": "IPY_MODEL_51750c2297d14cc0843899702e8d8332"
      }
     },
     "92bc4eb109dd482c8e7549405f806181": {
      "model_module": "@jupyter-widgets/controls",
      "model_module_version": "1.1.0",
      "model_name": "DescriptionStyleModel",
      "state": {
       "description_width": ""
      }
     },
     "92f13f61211748e5925d3983477675be": {
      "model_module": "@jupyter-widgets/controls",
      "model_module_version": "1.1.0",
      "model_name": "DescriptionStyleModel",
      "state": {
       "description_width": ""
      }
     },
     "92fbce593f1549cbabdf535f5d518d79": {
      "model_module": "@jupyter-widgets/base",
      "model_module_version": "1.0.0",
      "model_name": "LayoutModel",
      "state": {}
     },
     "93960c732c4a4b6891e3d4acd3e7ddf5": {
      "model_module": "@jupyter-widgets/base",
      "model_module_version": "1.0.0",
      "model_name": "LayoutModel",
      "state": {}
     },
     "93eeafdd13c343708ecf023e5ae5976a": {
      "model_module": "@jupyter-widgets/base",
      "model_module_version": "1.0.0",
      "model_name": "LayoutModel",
      "state": {
       "width": "100%"
      }
     },
     "94af918080a848c1b53cfeabea3de920": {
      "model_module": "@jupyter-widgets/base",
      "model_module_version": "1.0.0",
      "model_name": "LayoutModel",
      "state": {
       "width": "25%"
      }
     },
     "94c94354c8fb4802935f0f80990a7791": {
      "model_module": "@jupyter-widgets/controls",
      "model_module_version": "1.1.0",
      "model_name": "CheckboxModel",
      "state": {
       "description": "Show Targets",
       "disabled": false,
       "layout": "IPY_MODEL_a8347632723543fab2507dee46c04d36",
       "style": "IPY_MODEL_3107a7de669542d79faa68f39857789a",
       "value": false
      }
     },
     "9524a3697a10457eab8f32203a6b767c": {
      "model_module": "@jupyter-widgets/controls",
      "model_module_version": "1.1.0",
      "model_name": "FloatTextModel",
      "state": {
       "description": "Feature scale:",
       "layout": "IPY_MODEL_dc750aafa5f6475f98957af4ba966e10",
       "step": null,
       "style": "IPY_MODEL_6e295a0664bc438aa6b4ad223277ee33",
       "value": 2
      }
     },
     "954d7f77400344068b5ffa6d6c745fa6": {
      "model_module": "@jupyter-widgets/controls",
      "model_module_version": "1.1.0",
      "model_name": "DescriptionStyleModel",
      "state": {
       "description_width": ""
      }
     },
     "95db0e01eb584c99bae3de01d0e37529": {
      "model_module": "@jupyter-widgets/base",
      "model_module_version": "1.0.0",
      "model_name": "LayoutModel",
      "state": {}
     },
     "961d58c4c47e46478ffaa743cb02b3ab": {
      "model_module": "@jupyter-widgets/controls",
      "model_module_version": "1.1.0",
      "model_name": "VBoxModel",
      "state": {
       "children": [
        "IPY_MODEL_321527b36bc24a378e3fde6afac3847b",
        "IPY_MODEL_234f2dcd1de04effa87ea0fd4d5f3688",
        "IPY_MODEL_cd261bad3da541349680b96fee7c167a",
        "IPY_MODEL_37d95b8049684770914c75048bde1fee",
        "IPY_MODEL_c5e547a0d40442a6afd38bd426b660ac",
        "IPY_MODEL_1802c748a7dc41c8bac0f58ff4b9a41b",
        "IPY_MODEL_fc8cecf058a94f688f3a29370549a061"
       ],
       "layout": "IPY_MODEL_4a0c30df956c4a079336151eeb77d017"
      }
     },
     "9650d4ca59d94af1a69c05e263c324b8": {
      "model_module": "@jupyter-widgets/base",
      "model_module_version": "1.0.0",
      "model_name": "LayoutModel",
      "state": {}
     },
     "97149464019143d48e9c001470e6503a": {
      "model_module": "@jupyter-widgets/controls",
      "model_module_version": "1.1.0",
      "model_name": "IntTextModel",
      "state": {
       "description": "Vertical space between layers:",
       "layout": "IPY_MODEL_95db0e01eb584c99bae3de01d0e37529",
       "step": 1,
       "style": "IPY_MODEL_10e1a04878c3417287f70e48673b4cca",
       "value": 30
      }
     },
     "977e983179b54e14a612b1c03740f5f5": {
      "model_module": "@jupyter-widgets/controls",
      "model_module_version": "1.1.0",
      "model_name": "SelectModel",
      "state": {
       "_options_labels": [
        ""
       ],
       "description": "Features:",
       "index": 0,
       "layout": "IPY_MODEL_3fdf7386aab841d6a4911408ffcfaf22",
       "rows": 1,
       "style": "IPY_MODEL_4cda1118479a418da99692bf4ece2c59"
      }
     },
     "97883f21be4f44d6a32b4f2c29eaf265": {
      "model_module": "@jupyter-widgets/controls",
      "model_module_version": "1.1.0",
      "model_name": "LabelModel",
      "state": {
       "layout": "IPY_MODEL_31c94bdc34fc49129885492bd2c49768",
       "style": "IPY_MODEL_0ac52a81c75f4971906c8d94a76705bc",
       "value": "of 0"
      }
     },
     "97c1dd37ebfc4ed6ad14a7c7dd71898b": {
      "model_module": "@jupyter-widgets/controls",
      "model_module_version": "1.1.0",
      "model_name": "ButtonModel",
      "state": {
       "icon": "fast-forward",
       "layout": "IPY_MODEL_4636e3bc6aa44228be834a6a6c35369b",
       "style": "IPY_MODEL_eee673a692bb4f94a1d9fd90ddaaf256"
      }
     },
     "97fe9f6f52704f6ea4449845b7ef4ff5": {
      "model_module": "@jupyter-widgets/controls",
      "model_module_version": "1.1.0",
      "model_name": "HBoxModel",
      "state": {
       "children": [
        "IPY_MODEL_8830702e52a04f1abae71ff959f29820",
        "IPY_MODEL_63c1a8bc75c546568e11436d711d92df"
       ],
       "layout": "IPY_MODEL_d85024c47c53492f9b9367df4dcc576d"
      }
     },
     "97fee80315b84b5395307a8291e1deca": {
      "model_module": "@jupyter-widgets/controls",
      "model_module_version": "1.1.0",
      "model_name": "IntTextModel",
      "state": {
       "description": "Horizontal space between banks:",
       "layout": "IPY_MODEL_a8347632723543fab2507dee46c04d36",
       "step": 1,
       "style": "IPY_MODEL_c4feb6f67076417ba479a3ce0d6ce872",
       "value": 150
      }
     },
     "98c5884a70e841158a7a593608286ae0": {
      "model_module": "@jupyter-widgets/base",
      "model_module_version": "1.0.0",
      "model_name": "LayoutModel",
      "state": {}
     },
     "98d13cc8f6884c86ad2dd3f6b81b5a74": {
      "model_module": "@jupyter-widgets/controls",
      "model_module_version": "1.1.0",
      "model_name": "VBoxModel",
      "state": {
       "children": [
        "IPY_MODEL_b70ae6e6e42b43e78bce03646d61193b",
        "IPY_MODEL_8f31cb588897427a9f9de1bf035b1369",
        "IPY_MODEL_21f0e628891440c2995b7478e9aa76ad",
        "IPY_MODEL_4aa29004267f4f3da8f87fdad1c4b17d"
       ],
       "layout": "IPY_MODEL_507c20d853ff4f769298bd4c812750e2"
      }
     },
     "98d5bad02dd145e99416bc9d6000aa9e": {
      "model_module": "@jupyter-widgets/controls",
      "model_module_version": "1.1.0",
      "model_name": "IntTextModel",
      "state": {
       "description": "Horizontal space between banks:",
       "layout": "IPY_MODEL_34fcf6cc8f624e2aa927178dcec232aa",
       "step": 1,
       "style": "IPY_MODEL_73c3919e40e34e518723591fd9919ac5",
       "value": 150
      }
     },
     "9910d1422fe64c5e9dcf7f9478480937": {
      "model_module": "@jupyter-widgets/controls",
      "model_module_version": "1.1.0",
      "model_name": "IntTextModel",
      "state": {
       "layout": "IPY_MODEL_43d82f957f41437abe54242d058c42de",
       "step": 1,
       "style": "IPY_MODEL_5438f721cc084a11a0a7ef3a93aab15c"
      }
     },
     "992543fbc0cf4cd7997060f66a7db008": {
      "model_module": "@jupyter-widgets/base",
      "model_module_version": "1.0.0",
      "model_name": "LayoutModel",
      "state": {}
     },
     "995c1f47f32741169b4da5f4700443d3": {
      "model_module": "@jupyter-widgets/controls",
      "model_module_version": "1.1.0",
      "model_name": "VBoxModel",
      "state": {
       "children": [
        "IPY_MODEL_31c8209a0a0e4b408595cb1ba4b45bdb",
        "IPY_MODEL_ac42e68a4e0441f092b44b31bd703552",
        "IPY_MODEL_592ba70baaaa48dc9b0490be515e2801",
        "IPY_MODEL_5287649e56a24b17aae69fce0f43351d"
       ],
       "layout": "IPY_MODEL_9e1e8820c9a9479c93d521cb3f707ffe"
      }
     },
     "995e553bca08421d86cb99f5e42a5538": {
      "model_module": "@jupyter-widgets/base",
      "model_module_version": "1.0.0",
      "model_name": "LayoutModel",
      "state": {
       "width": "100%"
      }
     },
     "9979367905084a158b10c340d660eb14": {
      "model_module": "@jupyter-widgets/base",
      "model_module_version": "1.0.0",
      "model_name": "LayoutModel",
      "state": {
       "height": "40px"
      }
     },
     "99ebe4299a334b48b3edefefde72556b": {
      "model_module": "@jupyter-widgets/controls",
      "model_module_version": "1.1.0",
      "model_name": "SliderStyleModel",
      "state": {
       "description_width": ""
      }
     },
     "9a23b667735a4dafb5561d9a5893ebe1": {
      "model_module": "@jupyter-widgets/controls",
      "model_module_version": "1.1.0",
      "model_name": "ButtonStyleModel",
      "state": {}
     },
     "9a3686b1ce3045ff91c5d4af5ac9475e": {
      "model_module": "@jupyter-widgets/controls",
      "model_module_version": "1.1.0",
      "model_name": "FloatTextModel",
      "state": {
       "description": "Rightmost color maps to:",
       "layout": "IPY_MODEL_a047f63efa374c6cbfdfa0df95bee095",
       "step": null,
       "style": "IPY_MODEL_e34035a5fab346fa8258c384c94346fb",
       "value": 1
      }
     },
     "9a8b90d760bc470cafc86b8cf346afe7": {
      "model_module": "@jupyter-widgets/base",
      "model_module_version": "1.0.0",
      "model_name": "LayoutModel",
      "state": {}
     },
     "9aa60cdeae84447fb7e360ffba1154ed": {
      "model_module": "@jupyter-widgets/base",
      "model_module_version": "1.0.0",
      "model_name": "LayoutModel",
      "state": {}
     },
     "9b1bba4181b441669843c8f17fbc005c": {
      "model_module": "@jupyter-widgets/controls",
      "model_module_version": "1.1.0",
      "model_name": "DescriptionStyleModel",
      "state": {
       "description_width": ""
      }
     },
     "9b3d7eba4fcf457d9a74bf29b3c3e79d": {
      "model_module": "@jupyter-widgets/base",
      "model_module_version": "1.0.0",
      "model_name": "LayoutModel",
      "state": {}
     },
     "9b55048acb984a0895d7c4821e20d351": {
      "model_module": "@jupyter-widgets/controls",
      "model_module_version": "1.1.0",
      "model_name": "ButtonModel",
      "state": {
       "icon": "fast-backward",
       "layout": "IPY_MODEL_58e268155c9d40da92039dd106323391",
       "style": "IPY_MODEL_3ecf139dea6443a7baf2398609645503"
      }
     },
     "9b811c68283a4f2c9398cd497c5a7851": {
      "model_module": "@jupyter-widgets/controls",
      "model_module_version": "1.1.0",
      "model_name": "SelectModel",
      "state": {
       "_options_labels": [
        "Test",
        "Train"
       ],
       "description": "Dataset:",
       "index": 1,
       "layout": "IPY_MODEL_3dc9ba9f602c42aba6f2edddce645c92",
       "rows": 1,
       "style": "IPY_MODEL_be919e5856fa469689d0cbae78d3d42d"
      }
     },
     "9b8dd82dc92a417faa57350a0bc77182": {
      "model_module": "@jupyter-widgets/base",
      "model_module_version": "1.0.0",
      "model_name": "LayoutModel",
      "state": {
       "height": "40px"
      }
     },
     "9b92667bac6740ce9d700197a81041f8": {
      "model_module": "@jupyter-widgets/base",
      "model_module_version": "1.0.0",
      "model_name": "LayoutModel",
      "state": {
       "width": "100%"
      }
     },
     "9ba1e1978ca9424592f08cec079fe8db": {
      "model_module": "@jupyter-widgets/controls",
      "model_module_version": "1.1.0",
      "model_name": "DescriptionStyleModel",
      "state": {
       "description_width": ""
      }
     },
     "9bc367ed8d6e49f18a1d1d90fc7e5311": {
      "model_module": "@jupyter-widgets/base",
      "model_module_version": "1.0.0",
      "model_name": "LayoutModel",
      "state": {
       "width": "100px"
      }
     },
     "9bfb3428f25c4c179f41fefc8a556df6": {
      "model_module": "@jupyter-widgets/base",
      "model_module_version": "1.0.0",
      "model_name": "LayoutModel",
      "state": {}
     },
     "9c9a263ea2e849fd8687c7e90e47ec91": {
      "model_module": "@jupyter-widgets/base",
      "model_module_version": "1.0.0",
      "model_name": "LayoutModel",
      "state": {
       "width": "25%"
      }
     },
     "9cd61e2a16944eb6bdaffa16ede58090": {
      "model_module": "@jupyter-widgets/base",
      "model_module_version": "1.0.0",
      "model_name": "LayoutModel",
      "state": {
       "height": "50px",
       "width": "100%"
      }
     },
     "9cefac3b8251433bb7dbb44455af436b": {
      "model_module": "@jupyter-widgets/controls",
      "model_module_version": "1.1.0",
      "model_name": "DescriptionStyleModel",
      "state": {
       "description_width": ""
      }
     },
     "9cf9924128dc427690a82f84db6474ed": {
      "model_module": "@jupyter-widgets/controls",
      "model_module_version": "1.1.0",
      "model_name": "ButtonStyleModel",
      "state": {}
     },
     "9d0dec63a0a34a7e81b66ade2547735b": {
      "model_module": "@jupyter-widgets/base",
      "model_module_version": "1.0.0",
      "model_name": "LayoutModel",
      "state": {
       "justify_content": "center",
       "overflow_x": "auto",
       "overflow_y": "auto",
       "width": "95%"
      }
     },
     "9d0ebc40799147f2b102cca1ddab6675": {
      "model_module": "@jupyter-widgets/controls",
      "model_module_version": "1.1.0",
      "model_name": "HTMLModel",
      "state": {
       "layout": "IPY_MODEL_051505f39ac5487b96446a15fe47d652",
       "style": "IPY_MODEL_28a0e8ec61f14f6f84b0b7fb2c505cbd",
       "value": "<img src=\"data:image/gif;base64,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\"/>"
      }
     },
     "9d0f809b45164d88915f8c570ac04125": {
      "model_module": "@jupyter-widgets/controls",
      "model_module_version": "1.1.0",
      "model_name": "SliderStyleModel",
      "state": {
       "description_width": ""
      }
     },
     "9d572a8355f8490baa790fde3e2b65ad": {
      "model_module": "@jupyter-widgets/controls",
      "model_module_version": "1.1.0",
      "model_name": "ButtonStyleModel",
      "state": {}
     },
     "9db75297a3204db788e153a4054ef76b": {
      "model_module": "@jupyter-widgets/controls",
      "model_module_version": "1.1.0",
      "model_name": "SliderStyleModel",
      "state": {
       "description_width": ""
      }
     },
     "9ddc4adb688547d28c1b83b595bd8894": {
      "model_module": "@jupyter-widgets/base",
      "model_module_version": "1.0.0",
      "model_name": "LayoutModel",
      "state": {}
     },
     "9de2e3f31d4845dc88b2dc0143ae31e7": {
      "model_module": "@jupyter-widgets/controls",
      "model_module_version": "1.1.0",
      "model_name": "DescriptionStyleModel",
      "state": {
       "description_width": "initial"
      }
     },
     "9de37ac7ebd24a8293914a44492247b7": {
      "model_module": "@jupyter-widgets/controls",
      "model_module_version": "1.1.0",
      "model_name": "AccordionModel",
      "state": {
       "_titles": {
        "0": "XOR Network"
       },
       "children": [
        "IPY_MODEL_a0d2765fd90e404dbaa2af39a51dd978"
       ],
       "layout": "IPY_MODEL_0b19af3add6847b9a4454b1d60644307",
       "selected_index": null
      }
     },
     "9e14712e926f4cb78a4fcee60c6abf3a": {
      "model_module": "@jupyter-widgets/controls",
      "model_module_version": "1.1.0",
      "model_name": "ButtonModel",
      "state": {
       "description": "Play",
       "icon": "play",
       "layout": "IPY_MODEL_4215531fe9674cc1aec67a3f0f4d833f",
       "style": "IPY_MODEL_45c3797d01804c61823e0a689658421d"
      }
     },
     "9e1e8820c9a9479c93d521cb3f707ffe": {
      "model_module": "@jupyter-widgets/base",
      "model_module_version": "1.0.0",
      "model_name": "LayoutModel",
      "state": {}
     },
     "9e5b5f8a2cbc46b4881d3aab2015797c": {
      "model_module": "@jupyter-widgets/controls",
      "model_module_version": "1.1.0",
      "model_name": "ButtonModel",
      "state": {
       "icon": "backward",
       "layout": "IPY_MODEL_5fa19e8bc33348cb9cd8ef9312763e5b",
       "style": "IPY_MODEL_69f6fd45c898489dad9e002e947fab80"
      }
     },
     "9e9ffee2931d4ff09a0796f99d8bf1e8": {
      "model_module": "@jupyter-widgets/controls",
      "model_module_version": "1.1.0",
      "model_name": "VBoxModel",
      "state": {
       "children": [
        "IPY_MODEL_f2499957e2d3470589a615a4bda799ef",
        "IPY_MODEL_a27f9ed29b93406bb0a41b9e8ed75290",
        "IPY_MODEL_57c53e84b46447059bbc6e7d491dbb99",
        "IPY_MODEL_e8acefde065b4e3d9116b725a2c82e7c"
       ],
       "layout": "IPY_MODEL_27e96c8e42844d76aaef42d3ce4a72b1"
      }
     },
     "9ec5e9fe4d5a4dc1a4777ca93e1f2416": {
      "model_module": "@jupyter-widgets/base",
      "model_module_version": "1.0.0",
      "model_name": "LayoutModel",
      "state": {}
     },
     "9edb2781bee14c4ea3a00f05a5355fa4": {
      "model_module": "@jupyter-widgets/controls",
      "model_module_version": "1.1.0",
      "model_name": "DescriptionStyleModel",
      "state": {
       "description_width": ""
      }
     },
     "9efbf531f25b42f2ab443f283a5370ec": {
      "model_module": "@jupyter-widgets/controls",
      "model_module_version": "1.1.0",
      "model_name": "CheckboxModel",
      "state": {
       "description": "Visible",
       "disabled": false,
       "layout": "IPY_MODEL_38270298e23147efb6a67eeaa247b18e",
       "style": "IPY_MODEL_86ce2c92335e42d8ae90eb30e868f662",
       "value": true
      }
     },
     "9f55dc3a7e3b43638d3dbda60a0fa1b5": {
      "model_module": "@jupyter-widgets/controls",
      "model_module_version": "1.1.0",
      "model_name": "SliderStyleModel",
      "state": {
       "description_width": ""
      }
     },
     "9f6dccd45f52469b9553b19efc7e0059": {
      "model_module": "@jupyter-widgets/controls",
      "model_module_version": "1.1.0",
      "model_name": "ButtonStyleModel",
      "state": {}
     },
     "9fc45d9fa71b44259a22e0939706bcac": {
      "model_module": "@jupyter-widgets/controls",
      "model_module_version": "1.1.0",
      "model_name": "DescriptionStyleModel",
      "state": {
       "description_width": ""
      }
     },
     "a0375925c4004e578269e1d1e244d7b2": {
      "model_module": "@jupyter-widgets/controls",
      "model_module_version": "1.1.0",
      "model_name": "HBoxModel",
      "state": {
       "children": [
        "IPY_MODEL_9b55048acb984a0895d7c4821e20d351",
        "IPY_MODEL_09bd77e942ab4a0da3e9db513d75922d",
        "IPY_MODEL_f9e8ce9c59fb4453b7e62493708fd24b",
        "IPY_MODEL_b7110e1c103640278e78d4d185650892",
        "IPY_MODEL_b7abc457022d44a0b9d36019a9eb249f",
        "IPY_MODEL_ed2d965de54e4ed184fadaefc6027bb7",
        "IPY_MODEL_6ae76412113043c68da955d18b4f92e1"
       ],
       "layout": "IPY_MODEL_8620dc4ebcd84104b5aecd31a45ff626"
      }
     },
     "a047f63efa374c6cbfdfa0df95bee095": {
      "model_module": "@jupyter-widgets/base",
      "model_module_version": "1.0.0",
      "model_name": "LayoutModel",
      "state": {}
     },
     "a0d2765fd90e404dbaa2af39a51dd978": {
      "model_module": "@jupyter-widgets/controls",
      "model_module_version": "1.1.0",
      "model_name": "HBoxModel",
      "state": {
       "children": [
        "IPY_MODEL_f118c9c4ac7c4532bf7026b715d7cff6",
        "IPY_MODEL_2dcfb5c6932e449e9cb6021d987f3c71"
       ],
       "layout": "IPY_MODEL_ff2d126600274dd9b350b4b86b61eb35"
      }
     },
     "a0e100755dbf48209d6bbf98e0b0ff76": {
      "model_module": "@jupyter-widgets/controls",
      "model_module_version": "1.1.0",
      "model_name": "IntTextModel",
      "state": {
       "description": "Vertical space between layers:",
       "layout": "IPY_MODEL_6ca4a96a067c40fb978fe14f7e7512e5",
       "step": 1,
       "style": "IPY_MODEL_54a5fa264300423b9e9bf07a9c26f0a9",
       "value": 30
      }
     },
     "a0e451c44d2d4c3583a33b8f5838fdfa": {
      "model_module": "@jupyter-widgets/controls",
      "model_module_version": "1.1.0",
      "model_name": "DescriptionStyleModel",
      "state": {
       "description_width": ""
      }
     },
     "a1c7a85aea5640689a4d2cf87208da76": {
      "model_module": "@jupyter-widgets/base",
      "model_module_version": "1.0.0",
      "model_name": "LayoutModel",
      "state": {}
     },
     "a1e63e4f59114b93899acc3103294386": {
      "model_module": "@jupyter-widgets/controls",
      "model_module_version": "1.1.0",
      "model_name": "DescriptionStyleModel",
      "state": {
       "description_width": ""
      }
     },
     "a27f9ed29b93406bb0a41b9e8ed75290": {
      "model_module": "@jupyter-widgets/controls",
      "model_module_version": "1.1.0",
      "model_name": "VBoxModel",
      "state": {
       "children": [
        "IPY_MODEL_e94cecb9f84f4cce9e3a195bbe4d5117",
        "IPY_MODEL_a46eb2185d5f41e3883ae5ee0c2a8107"
       ],
       "layout": "IPY_MODEL_347abc12f8f84359b238a297d60ef5c7"
      }
     },
     "a2873650574e490b8268410831521546": {
      "model_module": "@jupyter-widgets/controls",
      "model_module_version": "1.1.0",
      "model_name": "ButtonModel",
      "state": {
       "icon": "fast-backward",
       "layout": "IPY_MODEL_2e655345d73848af9ce2ae9ad8dd11a1",
       "style": "IPY_MODEL_9a23b667735a4dafb5561d9a5893ebe1"
      }
     },
     "a28b9a2a33b74aa5be3d6b655c583d98": {
      "model_module": "@jupyter-widgets/base",
      "model_module_version": "1.0.0",
      "model_name": "LayoutModel",
      "state": {}
     },
     "a2fd7c0381544be0aafb669ce313f147": {
      "model_module": "@jupyter-widgets/controls",
      "model_module_version": "1.1.0",
      "model_name": "ButtonModel",
      "state": {
       "icon": "forward",
       "layout": "IPY_MODEL_8fc2497b14624514bcfe70ebcac5e9b6",
       "style": "IPY_MODEL_20fcfc2012404271aee67117de55e023"
      }
     },
     "a347e1c3e2684a46803af4d15a5107c8": {
      "model_module": "@jupyter-widgets/controls",
      "model_module_version": "1.1.0",
      "model_name": "ButtonStyleModel",
      "state": {}
     },
     "a3eb89da99a44fa7874dff56fcdc103e": {
      "model_module": "@jupyter-widgets/base",
      "model_module_version": "1.0.0",
      "model_name": "LayoutModel",
      "state": {}
     },
     "a40274ef682245f6afca8793546b90cc": {
      "model_module": "@jupyter-widgets/base",
      "model_module_version": "1.0.0",
      "model_name": "LayoutModel",
      "state": {}
     },
     "a4170bb56826471bbd194b9ed96a7cb0": {
      "model_module": "@jupyter-widgets/base",
      "model_module_version": "1.0.0",
      "model_name": "LayoutModel",
      "state": {}
     },
     "a46eb2185d5f41e3883ae5ee0c2a8107": {
      "model_module": "@jupyter-widgets/controls",
      "model_module_version": "1.1.0",
      "model_name": "HBoxModel",
      "state": {
       "children": [
        "IPY_MODEL_bb04510c30b14d7d94c5173c3d749251",
        "IPY_MODEL_c980a52c1c0a4a6f9f0001ea565f56f9",
        "IPY_MODEL_c6eb31eff07b421da4bfab416fd9ad45",
        "IPY_MODEL_f60237fe6f9b440fb8f22c0b20b61270",
        "IPY_MODEL_bef1c741568f4031a3525526c0cd8b18",
        "IPY_MODEL_5d4ea1e560744bca8fd79e1aab1d4dcb",
        "IPY_MODEL_fe914fcf196d41b39eda03fa225df364"
       ],
       "layout": "IPY_MODEL_809bc549f84249fbb843839f41612501"
      }
     },
     "a487f37ddf984d8482cede4586c43225": {
      "model_module": "@jupyter-widgets/base",
      "model_module_version": "1.0.0",
      "model_name": "LayoutModel",
      "state": {}
     },
     "a4bd359368034ebe84cacf13ad3b981a": {
      "model_module": "@jupyter-widgets/base",
      "model_module_version": "1.0.0",
      "model_name": "LayoutModel",
      "state": {
       "justify_content": "center",
       "overflow_x": "auto",
       "overflow_y": "auto",
       "width": "95%"
      }
     },
     "a4f27924d9314a6fa5e11e550147f0b7": {
      "model_module": "@jupyter-widgets/controls",
      "model_module_version": "1.1.0",
      "model_name": "DescriptionStyleModel",
      "state": {
       "description_width": "initial"
      }
     },
     "a5121c1fc06a4250b7df563f0ab8ecc4": {
      "model_module": "@jupyter-widgets/base",
      "model_module_version": "1.0.0",
      "model_name": "LayoutModel",
      "state": {
       "justify_content": "center",
       "overflow_x": "auto",
       "overflow_y": "auto",
       "width": "95%"
      }
     },
     "a537ba234a204d8e81a5f3e42a8be982": {
      "model_module": "@jupyter-widgets/base",
      "model_module_version": "1.0.0",
      "model_name": "LayoutModel",
      "state": {
       "width": "100%"
      }
     },
     "a5bdcf6f47084ef0a501992f6b13c17d": {
      "model_module": "@jupyter-widgets/controls",
      "model_module_version": "1.1.0",
      "model_name": "SelectModel",
      "state": {
       "_options_labels": [
        "Test",
        "Train"
       ],
       "description": "Dataset:",
       "index": 1,
       "layout": "IPY_MODEL_9b3d7eba4fcf457d9a74bf29b3c3e79d",
       "rows": 1,
       "style": "IPY_MODEL_03af589edf774365b99088923fd36668"
      }
     },
     "a5f17f9a28ac48e19baa8c4d39844197": {
      "model_module": "@jupyter-widgets/controls",
      "model_module_version": "1.1.0",
      "model_name": "DescriptionStyleModel",
      "state": {
       "description_width": ""
      }
     },
     "a5ff297fcac041049d82d5031df93413": {
      "model_module": "@jupyter-widgets/controls",
      "model_module_version": "1.1.0",
      "model_name": "SelectModel",
      "state": {
       "_options_labels": [
        ""
       ],
       "description": "Features:",
       "index": 0,
       "layout": "IPY_MODEL_2e21340bdb2d4048b3545f4f12bcff5e",
       "rows": 1,
       "style": "IPY_MODEL_ca2c2fccbd814718815bd26726d8de8d"
      }
     },
     "a633534b96fa4c5890cf4f64d859b088": {
      "model_module": "@jupyter-widgets/controls",
      "model_module_version": "1.1.0",
      "model_name": "ButtonStyleModel",
      "state": {}
     },
     "a6c5c7ba457d4e4ca4af106689ba82a5": {
      "model_module": "@jupyter-widgets/controls",
      "model_module_version": "1.1.0",
      "model_name": "ButtonStyleModel",
      "state": {}
     },
     "a7095992084440769b75af06cff1afc1": {
      "model_module": "@jupyter-widgets/controls",
      "model_module_version": "1.1.0",
      "model_name": "SelectModel",
      "state": {
       "_options_labels": [
        ""
       ],
       "description": "Features:",
       "index": 0,
       "layout": "IPY_MODEL_a40274ef682245f6afca8793546b90cc",
       "rows": 1,
       "style": "IPY_MODEL_6fdc4d47727d4b148f552867d675ad10"
      }
     },
     "a746b05fd8dd43e0a7107add26688c2d": {
      "model_module": "@jupyter-widgets/base",
      "model_module_version": "1.0.0",
      "model_name": "LayoutModel",
      "state": {}
     },
     "a74e14ab8ea54a0e9fc07a6970ded993": {
      "model_module": "@jupyter-widgets/base",
      "model_module_version": "1.0.0",
      "model_name": "LayoutModel",
      "state": {
       "width": "100%"
      }
     },
     "a7542ff58246425982682d6a4f343301": {
      "model_module": "@jupyter-widgets/controls",
      "model_module_version": "1.1.0",
      "model_name": "DescriptionStyleModel",
      "state": {
       "description_width": ""
      }
     },
     "a7718aba95614d49b90b887a14ed3c6b": {
      "model_module": "@jupyter-widgets/controls",
      "model_module_version": "1.1.0",
      "model_name": "DescriptionStyleModel",
      "state": {
       "description_width": ""
      }
     },
     "a7db41221ec04f56b636008c7f920c3a": {
      "model_module": "@jupyter-widgets/base",
      "model_module_version": "1.0.0",
      "model_name": "LayoutModel",
      "state": {}
     },
     "a8347632723543fab2507dee46c04d36": {
      "model_module": "@jupyter-widgets/base",
      "model_module_version": "1.0.0",
      "model_name": "LayoutModel",
      "state": {}
     },
     "a8656a0ee8d140c7a0f15a2615576d3c": {
      "model_module": "@jupyter-widgets/controls",
      "model_module_version": "1.1.0",
      "model_name": "DescriptionStyleModel",
      "state": {
       "description_width": "initial"
      }
     },
     "a8a6452b391e4d48b515bdd5f8dcaea1": {
      "model_module": "@jupyter-widgets/base",
      "model_module_version": "1.0.0",
      "model_name": "LayoutModel",
      "state": {}
     },
     "a8d2ad06e4e64f43bd9379f431363af0": {
      "model_module": "@jupyter-widgets/controls",
      "model_module_version": "1.1.0",
      "model_name": "DescriptionStyleModel",
      "state": {
       "description_width": "initial"
      }
     },
     "a8dd5fe6d00545e7b219a1a21ae8c2d5": {
      "model_module": "@jupyter-widgets/controls",
      "model_module_version": "1.1.0",
      "model_name": "ButtonStyleModel",
      "state": {}
     },
     "a8e30859f56f42a89ccb1d63c04df759": {
      "model_module": "@jupyter-widgets/base",
      "model_module_version": "1.0.0",
      "model_name": "LayoutModel",
      "state": {
       "width": "100%"
      }
     },
     "a9259582f5524e32beac0874a8585059": {
      "model_module": "@jupyter-widgets/controls",
      "model_module_version": "1.1.0",
      "model_name": "DescriptionStyleModel",
      "state": {
       "description_width": ""
      }
     },
     "a99e25d9f988430b842d4aa34b9b6563": {
      "model_module": "@jupyter-widgets/controls",
      "model_module_version": "1.1.0",
      "model_name": "DescriptionStyleModel",
      "state": {
       "description_width": ""
      }
     },
     "aa3025b1cbe44eb2bcfe7a1f7f766d44": {
      "model_module": "@jupyter-widgets/base",
      "model_module_version": "1.0.0",
      "model_name": "LayoutModel",
      "state": {
       "width": "100%"
      }
     },
     "aa9a3c201b0647128ef2e6bb91ce2a38": {
      "model_module": "@jupyter-widgets/controls",
      "model_module_version": "1.1.0",
      "model_name": "IntSliderModel",
      "state": {
       "continuous_update": false,
       "description": "Dataset index",
       "layout": "IPY_MODEL_77d86ec0ecad46af96c210da88877f5c",
       "max": 3,
       "style": "IPY_MODEL_602a0c462831436d947d8585c1ae0cf2"
      }
     },
     "ab06f2e7d2bb43cfa13e19ebc3bbdedc": {
      "model_module": "@jupyter-widgets/base",
      "model_module_version": "1.0.0",
      "model_name": "LayoutModel",
      "state": {
       "justify_content": "center",
       "overflow_x": "auto",
       "overflow_y": "auto",
       "width": "95%"
      }
     },
     "ab0b1c2eb4524ceb809f213143e5988c": {
      "model_module": "@jupyter-widgets/base",
      "model_module_version": "1.0.0",
      "model_name": "LayoutModel",
      "state": {}
     },
     "ab8fdf569245421ca0be2133fee8345c": {
      "model_module": "@jupyter-widgets/base",
      "model_module_version": "1.0.0",
      "model_name": "LayoutModel",
      "state": {
       "width": "100px"
      }
     },
     "ac42e68a4e0441f092b44b31bd703552": {
      "model_module": "@jupyter-widgets/controls",
      "model_module_version": "1.1.0",
      "model_name": "VBoxModel",
      "state": {
       "children": [
        "IPY_MODEL_84e929474a314a61b2955699c58599e7",
        "IPY_MODEL_22f57e5e8da246b5b211b57e56e1692f"
       ],
       "layout": "IPY_MODEL_9b92667bac6740ce9d700197a81041f8"
      }
     },
     "ac462a6fd2c347e69391c9202b28feaa": {
      "model_module": "@jupyter-widgets/controls",
      "model_module_version": "1.1.0",
      "model_name": "SelectModel",
      "state": {
       "_options_labels": [
        "",
        "Accent",
        "Accent_r",
        "Blues",
        "Blues_r",
        "BrBG",
        "BrBG_r",
        "BuGn",
        "BuGn_r",
        "BuPu",
        "BuPu_r",
        "CMRmap",
        "CMRmap_r",
        "Dark2",
        "Dark2_r",
        "GnBu",
        "GnBu_r",
        "Greens",
        "Greens_r",
        "Greys",
        "Greys_r",
        "OrRd",
        "OrRd_r",
        "Oranges",
        "Oranges_r",
        "PRGn",
        "PRGn_r",
        "Paired",
        "Paired_r",
        "Pastel1",
        "Pastel1_r",
        "Pastel2",
        "Pastel2_r",
        "PiYG",
        "PiYG_r",
        "PuBu",
        "PuBuGn",
        "PuBuGn_r",
        "PuBu_r",
        "PuOr",
        "PuOr_r",
        "PuRd",
        "PuRd_r",
        "Purples",
        "Purples_r",
        "RdBu",
        "RdBu_r",
        "RdGy",
        "RdGy_r",
        "RdPu",
        "RdPu_r",
        "RdYlBu",
        "RdYlBu_r",
        "RdYlGn",
        "RdYlGn_r",
        "Reds",
        "Reds_r",
        "Set1",
        "Set1_r",
        "Set2",
        "Set2_r",
        "Set3",
        "Set3_r",
        "Spectral",
        "Spectral_r",
        "Vega10",
        "Vega10_r",
        "Vega20",
        "Vega20_r",
        "Vega20b",
        "Vega20b_r",
        "Vega20c",
        "Vega20c_r",
        "Wistia",
        "Wistia_r",
        "YlGn",
        "YlGnBu",
        "YlGnBu_r",
        "YlGn_r",
        "YlOrBr",
        "YlOrBr_r",
        "YlOrRd",
        "YlOrRd_r",
        "afmhot",
        "afmhot_r",
        "autumn",
        "autumn_r",
        "binary",
        "binary_r",
        "bone",
        "bone_r",
        "brg",
        "brg_r",
        "bwr",
        "bwr_r",
        "cool",
        "cool_r",
        "coolwarm",
        "coolwarm_r",
        "copper",
        "copper_r",
        "cubehelix",
        "cubehelix_r",
        "flag",
        "flag_r",
        "gist_earth",
        "gist_earth_r",
        "gist_gray",
        "gist_gray_r",
        "gist_heat",
        "gist_heat_r",
        "gist_ncar",
        "gist_ncar_r",
        "gist_rainbow",
        "gist_rainbow_r",
        "gist_stern",
        "gist_stern_r",
        "gist_yarg",
        "gist_yarg_r",
        "gnuplot",
        "gnuplot2",
        "gnuplot2_r",
        "gnuplot_r",
        "gray",
        "gray_r",
        "hot",
        "hot_r",
        "hsv",
        "hsv_r",
        "inferno",
        "inferno_r",
        "jet",
        "jet_r",
        "magma",
        "magma_r",
        "nipy_spectral",
        "nipy_spectral_r",
        "ocean",
        "ocean_r",
        "pink",
        "pink_r",
        "plasma",
        "plasma_r",
        "prism",
        "prism_r",
        "rainbow",
        "rainbow_r",
        "seismic",
        "seismic_r",
        "spectral",
        "spectral_r",
        "spring",
        "spring_r",
        "summer",
        "summer_r",
        "tab10",
        "tab10_r",
        "tab20",
        "tab20_r",
        "tab20b",
        "tab20b_r",
        "tab20c",
        "tab20c_r",
        "terrain",
        "terrain_r",
        "viridis",
        "viridis_r",
        "winter",
        "winter_r"
       ],
       "description": "Colormap:",
       "index": 0,
       "layout": "IPY_MODEL_7f571e3055f649b895d154263ff746af",
       "rows": 1,
       "style": "IPY_MODEL_b615aa1db0d249489a77e582f81bd360"
      }
     },
     "ac53f9f4cb1149a5a9f726a0b20bb5a5": {
      "model_module": "@jupyter-widgets/controls",
      "model_module_version": "1.1.0",
      "model_name": "ButtonStyleModel",
      "state": {}
     },
     "ac5fba3c65744003baf4fe1381f934dd": {
      "model_module": "@jupyter-widgets/controls",
      "model_module_version": "1.1.0",
      "model_name": "ButtonStyleModel",
      "state": {}
     },
     "ac7fadde27f84a7192c7f09b1acc7be1": {
      "model_module": "@jupyter-widgets/controls",
      "model_module_version": "1.1.0",
      "model_name": "HTMLModel",
      "state": {
       "layout": "IPY_MODEL_5c77fa86c1fc4cf1b3fb90bad7988699",
       "style": "IPY_MODEL_2020822ea6d142efb92ec8f0d0aa7367",
       "value": "<img src=\"data:image/gif;base64,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\"/>"
      }
     },
     "aca5ab0ed49d4827bdf27470be4426a4": {
      "model_module": "@jupyter-widgets/controls",
      "model_module_version": "1.1.0",
      "model_name": "ButtonStyleModel",
      "state": {}
     },
     "acbfe6f10af34728b0c676e3ba526415": {
      "model_module": "@jupyter-widgets/controls",
      "model_module_version": "1.1.0",
      "model_name": "ButtonModel",
      "state": {
       "icon": "backward",
       "layout": "IPY_MODEL_b8e770f950a64b248482765210e5bc09",
       "style": "IPY_MODEL_41954cb4395d42f1a3687f8a3a64338c"
      }
     },
     "acd73c42c8204c0b89197350ea838c71": {
      "model_module": "@jupyter-widgets/controls",
      "model_module_version": "1.1.0",
      "model_name": "ButtonModel",
      "state": {
       "icon": "fast-backward",
       "layout": "IPY_MODEL_3dc697fdcfbe48efac3077eb5ad1425e",
       "style": "IPY_MODEL_001fcba633fa4f1e849e3e2e5f740518"
      }
     },
     "acf0ea88af1741d59cb382a33b1325d7": {
      "model_module": "@jupyter-widgets/controls",
      "model_module_version": "1.1.0",
      "model_name": "SelectModel",
      "state": {
       "_options_labels": [
        "",
        "Accent",
        "Accent_r",
        "Blues",
        "Blues_r",
        "BrBG",
        "BrBG_r",
        "BuGn",
        "BuGn_r",
        "BuPu",
        "BuPu_r",
        "CMRmap",
        "CMRmap_r",
        "Dark2",
        "Dark2_r",
        "GnBu",
        "GnBu_r",
        "Greens",
        "Greens_r",
        "Greys",
        "Greys_r",
        "OrRd",
        "OrRd_r",
        "Oranges",
        "Oranges_r",
        "PRGn",
        "PRGn_r",
        "Paired",
        "Paired_r",
        "Pastel1",
        "Pastel1_r",
        "Pastel2",
        "Pastel2_r",
        "PiYG",
        "PiYG_r",
        "PuBu",
        "PuBuGn",
        "PuBuGn_r",
        "PuBu_r",
        "PuOr",
        "PuOr_r",
        "PuRd",
        "PuRd_r",
        "Purples",
        "Purples_r",
        "RdBu",
        "RdBu_r",
        "RdGy",
        "RdGy_r",
        "RdPu",
        "RdPu_r",
        "RdYlBu",
        "RdYlBu_r",
        "RdYlGn",
        "RdYlGn_r",
        "Reds",
        "Reds_r",
        "Set1",
        "Set1_r",
        "Set2",
        "Set2_r",
        "Set3",
        "Set3_r",
        "Spectral",
        "Spectral_r",
        "Vega10",
        "Vega10_r",
        "Vega20",
        "Vega20_r",
        "Vega20b",
        "Vega20b_r",
        "Vega20c",
        "Vega20c_r",
        "Wistia",
        "Wistia_r",
        "YlGn",
        "YlGnBu",
        "YlGnBu_r",
        "YlGn_r",
        "YlOrBr",
        "YlOrBr_r",
        "YlOrRd",
        "YlOrRd_r",
        "afmhot",
        "afmhot_r",
        "autumn",
        "autumn_r",
        "binary",
        "binary_r",
        "bone",
        "bone_r",
        "brg",
        "brg_r",
        "bwr",
        "bwr_r",
        "cool",
        "cool_r",
        "coolwarm",
        "coolwarm_r",
        "copper",
        "copper_r",
        "cubehelix",
        "cubehelix_r",
        "flag",
        "flag_r",
        "gist_earth",
        "gist_earth_r",
        "gist_gray",
        "gist_gray_r",
        "gist_heat",
        "gist_heat_r",
        "gist_ncar",
        "gist_ncar_r",
        "gist_rainbow",
        "gist_rainbow_r",
        "gist_stern",
        "gist_stern_r",
        "gist_yarg",
        "gist_yarg_r",
        "gnuplot",
        "gnuplot2",
        "gnuplot2_r",
        "gnuplot_r",
        "gray",
        "gray_r",
        "hot",
        "hot_r",
        "hsv",
        "hsv_r",
        "inferno",
        "inferno_r",
        "jet",
        "jet_r",
        "magma",
        "magma_r",
        "nipy_spectral",
        "nipy_spectral_r",
        "ocean",
        "ocean_r",
        "pink",
        "pink_r",
        "plasma",
        "plasma_r",
        "prism",
        "prism_r",
        "rainbow",
        "rainbow_r",
        "seismic",
        "seismic_r",
        "spectral",
        "spectral_r",
        "spring",
        "spring_r",
        "summer",
        "summer_r",
        "tab10",
        "tab10_r",
        "tab20",
        "tab20_r",
        "tab20b",
        "tab20b_r",
        "tab20c",
        "tab20c_r",
        "terrain",
        "terrain_r",
        "viridis",
        "viridis_r",
        "winter",
        "winter_r"
       ],
       "description": "Colormap:",
       "index": 0,
       "layout": "IPY_MODEL_eae8e1880df84ef9b58e171b94c81865",
       "rows": 1,
       "style": "IPY_MODEL_6b1f0fdf9c384c5a9aa78f1ee0327194"
      }
     },
     "ad58a8d7ba194af487a3eaf45ab56a3b": {
      "model_module": "@jupyter-widgets/controls",
      "model_module_version": "1.1.0",
      "model_name": "SliderStyleModel",
      "state": {
       "description_width": ""
      }
     },
     "ad76b5367384422395c42c406ed3ba70": {
      "model_module": "@jupyter-widgets/controls",
      "model_module_version": "1.1.0",
      "model_name": "ButtonStyleModel",
      "state": {}
     },
     "ad9c82959792465b9c7a7e7850add239": {
      "model_module": "@jupyter-widgets/base",
      "model_module_version": "1.0.0",
      "model_name": "LayoutModel",
      "state": {
       "height": "40px"
      }
     },
     "adfa093a792543bc9b7dbb744e0d1b24": {
      "model_module": "@jupyter-widgets/controls",
      "model_module_version": "1.1.0",
      "model_name": "DescriptionStyleModel",
      "state": {
       "description_width": ""
      }
     },
     "af575d4c25964fdc969632055f345779": {
      "model_module": "@jupyter-widgets/controls",
      "model_module_version": "1.1.0",
      "model_name": "IntTextModel",
      "state": {
       "description": "Vertical space between layers:",
       "layout": "IPY_MODEL_eae8e1880df84ef9b58e171b94c81865",
       "step": 1,
       "style": "IPY_MODEL_c5f5325171ac4313b1f69de0289053f2",
       "value": 30
      }
     },
     "afc4910b1e1040ef93737a4f81d1f21b": {
      "model_module": "@jupyter-widgets/base",
      "model_module_version": "1.0.0",
      "model_name": "LayoutModel",
      "state": {}
     },
     "b0810f0f209f4369a9a172a4a0513135": {
      "model_module": "@jupyter-widgets/controls",
      "model_module_version": "1.1.0",
      "model_name": "IntTextModel",
      "state": {
       "description": "Feature to show:",
       "layout": "IPY_MODEL_a4170bb56826471bbd194b9ed96a7cb0",
       "step": 1,
       "style": "IPY_MODEL_14b692708e76458785a0f871b90cf619"
      }
     },
     "b0a11c0fe36949c2a9a39bf060872b45": {
      "model_module": "@jupyter-widgets/controls",
      "model_module_version": "1.1.0",
      "model_name": "DescriptionStyleModel",
      "state": {
       "description_width": ""
      }
     },
     "b0f99c6d04024faab3ed859a47068db3": {
      "model_module": "@jupyter-widgets/base",
      "model_module_version": "1.0.0",
      "model_name": "LayoutModel",
      "state": {}
     },
     "b19c6a80dfe94b9b91dbc5e0c8c8f15a": {
      "model_module": "@jupyter-widgets/controls",
      "model_module_version": "1.1.0",
      "model_name": "ButtonStyleModel",
      "state": {}
     },
     "b1a07368c7c74b3aa888aecf464b9f75": {
      "model_module": "@jupyter-widgets/controls",
      "model_module_version": "1.1.0",
      "model_name": "SelectModel",
      "state": {
       "_options_labels": [
        "",
        "Accent",
        "Accent_r",
        "Blues",
        "Blues_r",
        "BrBG",
        "BrBG_r",
        "BuGn",
        "BuGn_r",
        "BuPu",
        "BuPu_r",
        "CMRmap",
        "CMRmap_r",
        "Dark2",
        "Dark2_r",
        "GnBu",
        "GnBu_r",
        "Greens",
        "Greens_r",
        "Greys",
        "Greys_r",
        "OrRd",
        "OrRd_r",
        "Oranges",
        "Oranges_r",
        "PRGn",
        "PRGn_r",
        "Paired",
        "Paired_r",
        "Pastel1",
        "Pastel1_r",
        "Pastel2",
        "Pastel2_r",
        "PiYG",
        "PiYG_r",
        "PuBu",
        "PuBuGn",
        "PuBuGn_r",
        "PuBu_r",
        "PuOr",
        "PuOr_r",
        "PuRd",
        "PuRd_r",
        "Purples",
        "Purples_r",
        "RdBu",
        "RdBu_r",
        "RdGy",
        "RdGy_r",
        "RdPu",
        "RdPu_r",
        "RdYlBu",
        "RdYlBu_r",
        "RdYlGn",
        "RdYlGn_r",
        "Reds",
        "Reds_r",
        "Set1",
        "Set1_r",
        "Set2",
        "Set2_r",
        "Set3",
        "Set3_r",
        "Spectral",
        "Spectral_r",
        "Vega10",
        "Vega10_r",
        "Vega20",
        "Vega20_r",
        "Vega20b",
        "Vega20b_r",
        "Vega20c",
        "Vega20c_r",
        "Wistia",
        "Wistia_r",
        "YlGn",
        "YlGnBu",
        "YlGnBu_r",
        "YlGn_r",
        "YlOrBr",
        "YlOrBr_r",
        "YlOrRd",
        "YlOrRd_r",
        "afmhot",
        "afmhot_r",
        "autumn",
        "autumn_r",
        "binary",
        "binary_r",
        "bone",
        "bone_r",
        "brg",
        "brg_r",
        "bwr",
        "bwr_r",
        "cool",
        "cool_r",
        "coolwarm",
        "coolwarm_r",
        "copper",
        "copper_r",
        "cubehelix",
        "cubehelix_r",
        "flag",
        "flag_r",
        "gist_earth",
        "gist_earth_r",
        "gist_gray",
        "gist_gray_r",
        "gist_heat",
        "gist_heat_r",
        "gist_ncar",
        "gist_ncar_r",
        "gist_rainbow",
        "gist_rainbow_r",
        "gist_stern",
        "gist_stern_r",
        "gist_yarg",
        "gist_yarg_r",
        "gnuplot",
        "gnuplot2",
        "gnuplot2_r",
        "gnuplot_r",
        "gray",
        "gray_r",
        "hot",
        "hot_r",
        "hsv",
        "hsv_r",
        "inferno",
        "inferno_r",
        "jet",
        "jet_r",
        "magma",
        "magma_r",
        "nipy_spectral",
        "nipy_spectral_r",
        "ocean",
        "ocean_r",
        "pink",
        "pink_r",
        "plasma",
        "plasma_r",
        "prism",
        "prism_r",
        "rainbow",
        "rainbow_r",
        "seismic",
        "seismic_r",
        "spectral",
        "spectral_r",
        "spring",
        "spring_r",
        "summer",
        "summer_r",
        "tab10",
        "tab10_r",
        "tab20",
        "tab20_r",
        "tab20b",
        "tab20b_r",
        "tab20c",
        "tab20c_r",
        "terrain",
        "terrain_r",
        "viridis",
        "viridis_r",
        "winter",
        "winter_r"
       ],
       "description": "Colormap:",
       "index": 0,
       "layout": "IPY_MODEL_98c5884a70e841158a7a593608286ae0",
       "rows": 1,
       "style": "IPY_MODEL_70cb4e0d172d426790eb549f981af6d9"
      }
     },
     "b2092138b01e47d3bd41431878d5125a": {
      "model_module": "@jupyter-widgets/controls",
      "model_module_version": "1.1.0",
      "model_name": "DescriptionStyleModel",
      "state": {
       "description_width": "initial"
      }
     },
     "b26ef52c19d64fbe994f51b30df98b95": {
      "model_module": "@jupyter-widgets/base",
      "model_module_version": "1.0.0",
      "model_name": "LayoutModel",
      "state": {
       "height": "50px",
       "width": "100%"
      }
     },
     "b2a5ad1f61dc4ac6aa46d72d82ecab5a": {
      "model_module": "@jupyter-widgets/base",
      "model_module_version": "1.0.0",
      "model_name": "LayoutModel",
      "state": {}
     },
     "b2bd8ce20598495ba41394ca43b8bfbc": {
      "model_module": "@jupyter-widgets/output",
      "model_module_version": "1.0.0",
      "model_name": "OutputModel",
      "state": {
       "layout": "IPY_MODEL_06fa247d52af489e8078f9a0f99c4f46"
      }
     },
     "b307f37e054f44918f3def4e250bd94d": {
      "model_module": "@jupyter-widgets/controls",
      "model_module_version": "1.1.0",
      "model_name": "HBoxModel",
      "state": {
       "children": [
        "IPY_MODEL_f73401bf741044a0aabea720fa26e633",
        "IPY_MODEL_707234fed8ad4e78863ad0152d8e651a",
        "IPY_MODEL_5c9986967a4042fa80ad315c7708cee2",
        "IPY_MODEL_86b310fc33d84248b510926b79ebd754",
        "IPY_MODEL_27a4408f928447cda0be1cdb30a83924",
        "IPY_MODEL_6eaec4e8878d4cb3b412954da969416f",
        "IPY_MODEL_dd54a5b842d74b67993a6f8f8089f301"
       ],
       "layout": "IPY_MODEL_61864ed05f054a23af399eed300a179e"
      }
     },
     "b31400c3e21e497b961d85a6a0520b65": {
      "model_module": "@jupyter-widgets/controls",
      "model_module_version": "1.1.0",
      "model_name": "FloatTextModel",
      "state": {
       "description": "Feature scale:",
       "layout": "IPY_MODEL_ddc79530e52a4f068ec0b6291eb5dfd8",
       "step": null,
       "style": "IPY_MODEL_5dfb5c0914a64982aeedccaeb0706980",
       "value": 2
      }
     },
     "b317262f9ef548a3b1cc834050f4a719": {
      "model_module": "@jupyter-widgets/controls",
      "model_module_version": "1.1.0",
      "model_name": "HBoxModel",
      "state": {
       "children": [
        "IPY_MODEL_59a77b7519194189a435322697ba49a3",
        "IPY_MODEL_e1e8453a3f554a8f971cae20c024ce3e"
       ],
       "layout": "IPY_MODEL_4723c758fd4b42719007da4d7ffaa09e"
      }
     },
     "b32732c4ab3e401fb72e8d6f00033e5e": {
      "model_module": "@jupyter-widgets/controls",
      "model_module_version": "1.1.0",
      "model_name": "HTMLModel",
      "state": {
       "layout": "IPY_MODEL_8b284ac39e544c45b927b69c95e54dec",
       "style": "IPY_MODEL_c4f31a1769ce4932a83cd5078b2fec80",
       "value": "<p style=\"text-align:center\"><svg id='XOR Network' xmlns='http://www.w3.org/2000/svg' viewBox=\"0 0 350 450\" max-width=\"100%\" height=\"780\" image-rendering=\"pixelated\">\n    <defs>\n        <marker id=\"arrow\" markerWidth=\"10\" markerHeight=\"10\" refX=\"9\" refY=\"3\" orient=\"auto\" markerUnits=\"strokeWidth\">\n          <path d=\"M0,0 L0,6 L9,3 z\" fill=\"black\" />\n        </marker>\n    </defs><text x=\"175.0\" y=\"12.5\" font-family=\"monospace\" font-size=\"15\" text-anchor=\"middle\" alignment-baseline=\"central\">XOR Network</text><rect x=\"74.0\" y=\"24\" width=\"202\" height=\"202\" style=\"fill:none;stroke:black;stroke-width:2\"/><image id=\"XOR Network_output1_13\" class=\"XOR Network_output1\" x=\"75.0\" y=\"25\" height=\"200\" width=\"200\" preserveAspectRatio=\"none\" href=\"data:image/gif;base64,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\"><title>Layer: output1 (output)\n shape = (1,)\n Keras class = Dense\n activation = sigmoid</title></image><text x=\"280.0\" y=\"127.0\" font-family=\"monospace\" font-size=\"12\" text-anchor=\"start\" alignment-baseline=\"central\">output1</text><line x1=\"175.0\" y1=\"254\" x2=\"175.0\" y2=\"227\" stroke=\"black\" stroke-width=\"2\" marker-end=\"url(#arrow)\"><title>Weights from hidden1 to output1\n output1/kernel has shape (5, 1)\n output1/bias has shape (1,)</title></line><rect x=\"74.0\" y=\"254\" width=\"202\" height=\"42\" style=\"fill:none;stroke:black;stroke-width:2\"/><image id=\"XOR Network_hidden1_14\" class=\"XOR Network_hidden1\" x=\"75.0\" y=\"255\" height=\"40\" width=\"200\" preserveAspectRatio=\"none\" href=\"data:image/gif;base64,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\"><title>Layer: hidden1 (hidden)\n shape = (5,)\n Keras class = Dense\n activation = relu</title></image><text x=\"280.0\" y=\"277.0\" font-family=\"monospace\" font-size=\"12\" text-anchor=\"start\" alignment-baseline=\"central\">hidden1</text><line x1=\"175.0\" y1=\"324\" x2=\"175.0\" y2=\"297\" stroke=\"black\" stroke-width=\"2\" marker-end=\"url(#arrow)\"><title>Weights from input1 to hidden1\n hidden1/kernel has shape (2, 5)\n hidden1/bias has shape (5,)</title></line><rect x=\"74.0\" y=\"324\" width=\"202\" height=\"102\" style=\"fill:none;stroke:black;stroke-width:2\"/><image id=\"XOR Network_input1_15\" class=\"XOR Network_input1\" x=\"75.0\" y=\"325\" height=\"100\" width=\"200\" preserveAspectRatio=\"none\" href=\"data:image/gif;base64,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\"><title>Layer: input1 (input)\n shape = (2,)\n Keras class = Input</title></image><text x=\"280.0\" y=\"377.0\" font-family=\"monospace\" font-size=\"12\" text-anchor=\"start\" alignment-baseline=\"central\">input1</text></svg></p>"
      }
     },
     "b32bffb034504c849838fa06e87c6078": {
      "model_module": "@jupyter-widgets/controls",
      "model_module_version": "1.1.0",
      "model_name": "DescriptionStyleModel",
      "state": {
       "description_width": "initial"
      }
     },
     "b335915f6b8f4bc6a19a35b193b8904c": {
      "model_module": "@jupyter-widgets/controls",
      "model_module_version": "1.1.0",
      "model_name": "DescriptionStyleModel",
      "state": {
       "description_width": ""
      }
     },
     "b33df6f1c26243928b6e8f2ecc964b0a": {
      "model_module": "@jupyter-widgets/controls",
      "model_module_version": "1.1.0",
      "model_name": "SelectModel",
      "state": {
       "_options_labels": [
        "input1",
        "hidden1",
        "output1"
       ],
       "description": "Layer:",
       "index": 2,
       "layout": "IPY_MODEL_cafbc9cf3ab64e758074df0228feb615",
       "rows": 1,
       "style": "IPY_MODEL_7385c114c4fb4bd48e7024f5b538899d"
      }
     },
     "b37ecc7817a948ed91f034805365369e": {
      "model_module": "@jupyter-widgets/controls",
      "model_module_version": "1.1.0",
      "model_name": "HTMLModel",
      "state": {
       "layout": "IPY_MODEL_b5f1faf4cee14125a9549b831042d49a",
       "style": "IPY_MODEL_92bc4eb109dd482c8e7549405f806181",
       "value": "<p style=\"text-align:center\"><svg id='XOR Network' xmlns='http://www.w3.org/2000/svg' viewBox=\"0 0 350 450\" max-width=\"100%\" height=\"780\" image-rendering=\"pixelated\">\n    <defs>\n        <marker id=\"arrow\" markerWidth=\"10\" markerHeight=\"10\" refX=\"9\" refY=\"3\" orient=\"auto\" markerUnits=\"strokeWidth\">\n          <path d=\"M0,0 L0,6 L9,3 z\" fill=\"black\" />\n        </marker>\n    </defs><text x=\"175.0\" y=\"12.5\" font-family=\"monospace\" font-size=\"15\" text-anchor=\"middle\" alignment-baseline=\"central\">XOR Network</text><rect x=\"74.0\" y=\"24\" width=\"202\" height=\"202\" style=\"fill:none;stroke:black;stroke-width:2\"/><image id=\"XOR Network_output1_22\" class=\"XOR Network_output1\" x=\"75.0\" y=\"25\" height=\"200\" width=\"200\" preserveAspectRatio=\"none\" href=\"data:image/gif;base64,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\"><title>Layer: output1 (output)\n shape = (1,)\n Keras class = Dense\n activation = sigmoid</title></image><text x=\"280.0\" y=\"127.0\" font-family=\"monospace\" font-size=\"12\" text-anchor=\"start\" alignment-baseline=\"central\">output1</text><line x1=\"175.0\" y1=\"254\" x2=\"175.0\" y2=\"227\" stroke=\"black\" stroke-width=\"2\" marker-end=\"url(#arrow)\"><title>Weights from hidden1 to output1\n output1/kernel has shape (5, 1)\n output1/bias has shape (1,)</title></line><rect x=\"74.0\" y=\"254\" width=\"202\" height=\"42\" style=\"fill:none;stroke:black;stroke-width:2\"/><image id=\"XOR Network_hidden1_23\" class=\"XOR Network_hidden1\" x=\"75.0\" y=\"255\" height=\"40\" width=\"200\" preserveAspectRatio=\"none\" href=\"data:image/gif;base64,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\"><title>Layer: hidden1 (hidden)\n shape = (5,)\n Keras class = Dense\n activation = relu</title></image><text x=\"280.0\" y=\"277.0\" font-family=\"monospace\" font-size=\"12\" text-anchor=\"start\" alignment-baseline=\"central\">hidden1</text><line x1=\"175.0\" y1=\"324\" x2=\"175.0\" y2=\"297\" stroke=\"black\" stroke-width=\"2\" marker-end=\"url(#arrow)\"><title>Weights from input1 to hidden1\n hidden1/kernel has shape (2, 5)\n hidden1/bias has shape (5,)</title></line><rect x=\"74.0\" y=\"324\" width=\"202\" height=\"102\" style=\"fill:none;stroke:black;stroke-width:2\"/><image id=\"XOR Network_input1_24\" class=\"XOR Network_input1\" x=\"75.0\" y=\"325\" height=\"100\" width=\"200\" preserveAspectRatio=\"none\" href=\"data:image/gif;base64,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\"><title>Layer: input1 (input)\n shape = (2,)\n Keras class = Input</title></image><text x=\"280.0\" y=\"377.0\" font-family=\"monospace\" font-size=\"12\" text-anchor=\"start\" alignment-baseline=\"central\">input1</text></svg></p>"
      }
     },
     "b38cc3bd94764949ab082458a93bb032": {
      "model_module": "@jupyter-widgets/base",
      "model_module_version": "1.0.0",
      "model_name": "LayoutModel",
      "state": {}
     },
     "b3a1acbd8b424fde8500cd22df5de7a7": {
      "model_module": "@jupyter-widgets/controls",
      "model_module_version": "1.1.0",
      "model_name": "SelectModel",
      "state": {
       "_options_labels": [
        "Test",
        "Train"
       ],
       "description": "Dataset:",
       "index": 1,
       "layout": "IPY_MODEL_d32f6746f67846d08ea5b76f713ddfe9",
       "rows": 1,
       "style": "IPY_MODEL_56d52d8c84644c9191947d2bdf449421"
      }
     },
     "b3bd79f54b974691a861d9fe02edba56": {
      "model_module": "@jupyter-widgets/base",
      "model_module_version": "1.0.0",
      "model_name": "LayoutModel",
      "state": {}
     },
     "b3c3f6e001e34ba1b63fa795c36b54d7": {
      "model_module": "@jupyter-widgets/controls",
      "model_module_version": "1.1.0",
      "model_name": "VBoxModel",
      "state": {
       "children": [
        "IPY_MODEL_ef45f6c0622343e7bddcb25c4d05f1ec",
        "IPY_MODEL_8ebe0ed4e2c74e70b0736476fb178a13"
       ],
       "layout": "IPY_MODEL_4ae6e942c691458e8a0468d6d748962d"
      }
     },
     "b3c7b627c0c94160a91fe10380175182": {
      "model_module": "@jupyter-widgets/controls",
      "model_module_version": "1.1.0",
      "model_name": "DescriptionStyleModel",
      "state": {
       "description_width": "initial"
      }
     },
     "b3fe4494afe749febc881907f07d88f5": {
      "model_module": "@jupyter-widgets/base",
      "model_module_version": "1.0.0",
      "model_name": "LayoutModel",
      "state": {
       "width": "100%"
      }
     },
     "b4479a49116545cb9d49324435069af1": {
      "model_module": "@jupyter-widgets/base",
      "model_module_version": "1.0.0",
      "model_name": "LayoutModel",
      "state": {}
     },
     "b45070579a1e4b0b9a42745310b5bf9d": {
      "model_module": "@jupyter-widgets/controls",
      "model_module_version": "1.1.0",
      "model_name": "CheckboxModel",
      "state": {
       "description": "Errors",
       "disabled": false,
       "layout": "IPY_MODEL_eae8e1880df84ef9b58e171b94c81865",
       "style": "IPY_MODEL_cbdedf75ffe944758276e831b88aa98c",
       "value": false
      }
     },
     "b4b6f8c1f3144580a2bb744ea0637c59": {
      "model_module": "@jupyter-widgets/controls",
      "model_module_version": "1.1.0",
      "model_name": "IntTextModel",
      "state": {
       "description": "Horizontal space between banks:",
       "layout": "IPY_MODEL_ccfe54dd20874d649b9bdfb37cde34a6",
       "step": 1,
       "style": "IPY_MODEL_5326ae6b0a5a4bb5b33082003e0c6db1",
       "value": 150
      }
     },
     "b569ca87b4f844e3bd7234c1e8019879": {
      "model_module": "@jupyter-widgets/controls",
      "model_module_version": "1.1.0",
      "model_name": "DescriptionStyleModel",
      "state": {
       "description_width": ""
      }
     },
     "b58efd5dfba64cfd869f62d47aee105c": {
      "model_module": "@jupyter-widgets/controls",
      "model_module_version": "1.1.0",
      "model_name": "SelectModel",
      "state": {
       "_options_labels": [
        "Test",
        "Train"
       ],
       "description": "Dataset:",
       "index": 1,
       "layout": "IPY_MODEL_097fabc428c44c2eb90ff30d1779bb8d",
       "rows": 1,
       "style": "IPY_MODEL_2769fd94ec5b47b98cc17ed4700caefb"
      }
     },
     "b5ca7836694745a082e96b81a0a49ed1": {
      "model_module": "@jupyter-widgets/controls",
      "model_module_version": "1.1.0",
      "model_name": "DescriptionStyleModel",
      "state": {
       "description_width": ""
      }
     },
     "b5da90872b2d4cac9c6b54bb8523644f": {
      "model_module": "@jupyter-widgets/controls",
      "model_module_version": "1.1.0",
      "model_name": "SelectModel",
      "state": {
       "_options_labels": [
        "input1",
        "hidden1",
        "output1"
       ],
       "description": "Layer:",
       "index": 2,
       "layout": "IPY_MODEL_53f6edcc8ef84cddb81621a6d9eb7143",
       "rows": 1,
       "style": "IPY_MODEL_c1c7e3c16ba54aae80c7a6b6fa386607"
      }
     },
     "b5f1faf4cee14125a9549b831042d49a": {
      "model_module": "@jupyter-widgets/base",
      "model_module_version": "1.0.0",
      "model_name": "LayoutModel",
      "state": {
       "justify_content": "center",
       "overflow_x": "auto",
       "overflow_y": "auto",
       "width": "95%"
      }
     },
     "b615aa1db0d249489a77e582f81bd360": {
      "model_module": "@jupyter-widgets/controls",
      "model_module_version": "1.1.0",
      "model_name": "DescriptionStyleModel",
      "state": {
       "description_width": ""
      }
     },
     "b61b6798bc1744a49d1393bcc25512b8": {
      "model_module": "@jupyter-widgets/base",
      "model_module_version": "1.0.0",
      "model_name": "LayoutModel",
      "state": {}
     },
     "b624e78ff2304fed9e643416c3aaf442": {
      "model_module": "@jupyter-widgets/controls",
      "model_module_version": "1.1.0",
      "model_name": "SelectModel",
      "state": {
       "_options_labels": [
        "input1",
        "hidden1",
        "output1"
       ],
       "description": "Layer:",
       "index": 2,
       "layout": "IPY_MODEL_9aa60cdeae84447fb7e360ffba1154ed",
       "rows": 1,
       "style": "IPY_MODEL_c9ff51d1a7884747b751a11c0eab6770"
      }
     },
     "b6356223312c4009b42645f55916deda": {
      "model_module": "@jupyter-widgets/controls",
      "model_module_version": "1.1.0",
      "model_name": "SelectModel",
      "state": {
       "_options_labels": [
        "input1",
        "hidden1",
        "output1"
       ],
       "description": "Layer:",
       "index": 2,
       "layout": "IPY_MODEL_c540a1a878dd47b5bf4794b07fc2982e",
       "rows": 1,
       "style": "IPY_MODEL_7552448588d9434f853ab19e7ea6cec3"
      }
     },
     "b66656b0ae3b4c7ebcfb5ae748f314f0": {
      "model_module": "@jupyter-widgets/base",
      "model_module_version": "1.0.0",
      "model_name": "LayoutModel",
      "state": {
       "width": "100%"
      }
     },
     "b666c8a9d8954b6a9de64e658b5d22f4": {
      "model_module": "@jupyter-widgets/controls",
      "model_module_version": "1.1.0",
      "model_name": "HBoxModel",
      "state": {
       "children": [
        "IPY_MODEL_4ae5fd6b06a94855994af36b2713015e",
        "IPY_MODEL_169debcf80b4419e8542980387e26093",
        "IPY_MODEL_07b69b86407e4ab4abdf99106786b61c",
        "IPY_MODEL_0980df1a65134b91a71cf658de0e9c2e",
        "IPY_MODEL_8d336ac2eb8b43d89c0150870097aea8",
        "IPY_MODEL_66793f3b947c4c24887b2397d124f4d3",
        "IPY_MODEL_0951a9ba0476401ca51c393ce1b4ede9"
       ],
       "layout": "IPY_MODEL_b26ef52c19d64fbe994f51b30df98b95"
      }
     },
     "b6a540c074d54a04ae076acdc0bccbf0": {
      "model_module": "@jupyter-widgets/controls",
      "model_module_version": "1.1.0",
      "model_name": "SliderStyleModel",
      "state": {
       "description_width": ""
      }
     },
     "b70ae6e6e42b43e78bce03646d61193b": {
      "model_module": "@jupyter-widgets/controls",
      "model_module_version": "1.1.0",
      "model_name": "AccordionModel",
      "state": {
       "_titles": {
        "0": "XOR Network"
       },
       "children": [
        "IPY_MODEL_7caa5b12bf854e8aac58658794d5bc89"
       ],
       "layout": "IPY_MODEL_15907df301de4cd18e2671679a9255db",
       "selected_index": null
      }
     },
     "b7110e1c103640278e78d4d185650892": {
      "model_module": "@jupyter-widgets/controls",
      "model_module_version": "1.1.0",
      "model_name": "ButtonModel",
      "state": {
       "icon": "forward",
       "layout": "IPY_MODEL_d9480efcc32244378e96ba0db546f3b5",
       "style": "IPY_MODEL_dff71c4a5c1846b1ac7616105c3a4468"
      }
     },
     "b7abc457022d44a0b9d36019a9eb249f": {
      "model_module": "@jupyter-widgets/controls",
      "model_module_version": "1.1.0",
      "model_name": "ButtonModel",
      "state": {
       "icon": "fast-forward",
       "layout": "IPY_MODEL_6a8f7b05e3d243d1b9d1a5620a7e8a2f",
       "style": "IPY_MODEL_fb60032c1efb407b9cb8453c6812aa7c"
      }
     },
     "b7d1a29b932f4ba78906362afd0aac90": {
      "model_module": "@jupyter-widgets/output",
      "model_module_version": "1.1.0",
      "model_name": "OutputModel",
      "state": {
       "_model_module_version": "1.1.0",
       "_view_module_version": "1.1.0",
       "layout": "IPY_MODEL_6a89f2ddfdce4513b1ed72ea55390561"
      }
     },
     "b7d2d0f8cf0c4a2ebe3aadd15914b6ae": {
      "model_module": "@jupyter-widgets/base",
      "model_module_version": "1.0.0",
      "model_name": "LayoutModel",
      "state": {
       "width": "100%"
      }
     },
     "b7e989616034439984f82e5e2c8c890d": {
      "model_module": "@jupyter-widgets/controls",
      "model_module_version": "1.1.0",
      "model_name": "FloatTextModel",
      "state": {
       "description": "Rightmost color maps to:",
       "layout": "IPY_MODEL_c934eb1a7aed47b898b693babc51893b",
       "step": null,
       "style": "IPY_MODEL_b32bffb034504c849838fa06e87c6078",
       "value": 1
      }
     },
     "b881e4026f3d46219eb22b243aae43c8": {
      "model_module": "@jupyter-widgets/base",
      "model_module_version": "1.0.0",
      "model_name": "LayoutModel",
      "state": {
       "justify_content": "center",
       "overflow_x": "auto",
       "overflow_y": "auto",
       "width": "95%"
      }
     },
     "b8b8b04688654db899bf5d96129be74b": {
      "model_module": "@jupyter-widgets/controls",
      "model_module_version": "1.1.0",
      "model_name": "VBoxModel",
      "state": {
       "children": [
        "IPY_MODEL_68a6efe2865a441d8a6c7c0af859a052",
        "IPY_MODEL_d1ea8772079e4aa0a3bf116d050e93d2",
        "IPY_MODEL_51693fa769d9477f9b00aa6d5cfc391b",
        "IPY_MODEL_f016338d4cc344bdb4d10229c6f29588",
        "IPY_MODEL_80ff0b64c94340089a2f9e51b41b84d2",
        "IPY_MODEL_23db40d58d124d12a020a5d706c93287",
        "IPY_MODEL_898fa88fd7ba48cf94917236bb5d4351"
       ],
       "layout": "IPY_MODEL_d9f2836e8a954092872fcd23ab03ec5a"
      }
     },
     "b8ba80d02c9d492ca369c5fea4e26305": {
      "model_module": "@jupyter-widgets/controls",
      "model_module_version": "1.1.0",
      "model_name": "VBoxModel",
      "state": {
       "children": [
        "IPY_MODEL_fce29e569cf94d4e9138aae12c9b7f52",
        "IPY_MODEL_52735e6e775946549b05fa47498c8fc5",
        "IPY_MODEL_c9e144d2c2904455beb57e8a79ae956e",
        "IPY_MODEL_78e2e8afe5d24ebba61c39f25a9bfc10"
       ],
       "layout": "IPY_MODEL_c7afdc87686f4595aa8279cc4d9cf65e"
      }
     },
     "b8e770f950a64b248482765210e5bc09": {
      "model_module": "@jupyter-widgets/base",
      "model_module_version": "1.0.0",
      "model_name": "LayoutModel",
      "state": {
       "width": "100%"
      }
     },
     "b94e5ec233544e7aa14ef4d38a1540fb": {
      "model_module": "@jupyter-widgets/base",
      "model_module_version": "1.0.0",
      "model_name": "LayoutModel",
      "state": {
       "justify_content": "center",
       "overflow_x": "auto",
       "overflow_y": "auto",
       "width": "95%"
      }
     },
     "b9a498c9dc104e1a83bad8498ee087a3": {
      "model_module": "@jupyter-widgets/controls",
      "model_module_version": "1.1.0",
      "model_name": "ButtonStyleModel",
      "state": {}
     },
     "ba3dac4b9ea04bbfb0649590ef238ec6": {
      "model_module": "@jupyter-widgets/controls",
      "model_module_version": "1.1.0",
      "model_name": "DescriptionStyleModel",
      "state": {
       "description_width": "initial"
      }
     },
     "ba4a69646e08405c9b867f535611d8bd": {
      "model_module": "@jupyter-widgets/base",
      "model_module_version": "1.0.0",
      "model_name": "LayoutModel",
      "state": {}
     },
     "ba8a76ef03684b6cbf9a7f0b5dee962e": {
      "model_module": "@jupyter-widgets/controls",
      "model_module_version": "1.1.0",
      "model_name": "LabelModel",
      "state": {
       "layout": "IPY_MODEL_ab8fdf569245421ca0be2133fee8345c",
       "style": "IPY_MODEL_58e8853142c248f1bd84a3895fcf0117",
       "value": "of 4"
      }
     },
     "babbfd68bea2451ea0f89f8482658aa0": {
      "model_module": "@jupyter-widgets/controls",
      "model_module_version": "1.1.0",
      "model_name": "ButtonModel",
      "state": {
       "icon": "fast-backward",
       "layout": "IPY_MODEL_33a10794bc394840b5ad46d73e605d61",
       "style": "IPY_MODEL_d171dc9391824b1195165ccc33f117f5"
      }
     },
     "bb04510c30b14d7d94c5173c3d749251": {
      "model_module": "@jupyter-widgets/controls",
      "model_module_version": "1.1.0",
      "model_name": "ButtonModel",
      "state": {
       "icon": "fast-backward",
       "layout": "IPY_MODEL_db164a9701a549b7bdecbb05d8f7a122",
       "style": "IPY_MODEL_633ddbce120b4f168c76cb061e79d985"
      }
     },
     "bb3a8f3c01bd4be4b64ad6237a87a515": {
      "model_module": "@jupyter-widgets/base",
      "model_module_version": "1.0.0",
      "model_name": "LayoutModel",
      "state": {
       "width": "100%"
      }
     },
     "bb4333cbddc14929840aa1082c7fdfc0": {
      "model_module": "@jupyter-widgets/controls",
      "model_module_version": "1.1.0",
      "model_name": "ButtonModel",
      "state": {
       "icon": "backward",
       "layout": "IPY_MODEL_83f43f1014794bf1a40e2a9502ad8300",
       "style": "IPY_MODEL_80aa09d697a341c4999e1c30f821d473"
      }
     },
     "bb54f79ed2eb4d8bb752d3dc92982a47": {
      "model_module": "@jupyter-widgets/controls",
      "model_module_version": "1.1.0",
      "model_name": "CheckboxModel",
      "state": {
       "description": "Show Targets",
       "disabled": false,
       "layout": "IPY_MODEL_98c5884a70e841158a7a593608286ae0",
       "style": "IPY_MODEL_73fdf61c3de3489897a4eb02cf546b82",
       "value": false
      }
     },
     "bb575c34ff514de7817808ab606eeaee": {
      "model_module": "@jupyter-widgets/base",
      "model_module_version": "1.0.0",
      "model_name": "LayoutModel",
      "state": {}
     },
     "bb9fec190303444480ef3381dc142bc2": {
      "model_module": "@jupyter-widgets/controls",
      "model_module_version": "1.1.0",
      "model_name": "HBoxModel",
      "state": {
       "children": [
        "IPY_MODEL_7f0b27c179a34a4a9e447cddf478a739",
        "IPY_MODEL_961d58c4c47e46478ffaa743cb02b3ab"
       ],
       "layout": "IPY_MODEL_216aed870cb94cf4bdacde7ef43f7eab"
      }
     },
     "bbc40aab9e7b4a3ca9c04b6c7a7e7225": {
      "model_module": "@jupyter-widgets/base",
      "model_module_version": "1.0.0",
      "model_name": "LayoutModel",
      "state": {}
     },
     "bbc614eb9ad248448c9f5f88abd398e1": {
      "model_module": "@jupyter-widgets/base",
      "model_module_version": "1.0.0",
      "model_name": "LayoutModel",
      "state": {}
     },
     "bc47a48390374195a344448a97114e8a": {
      "model_module": "@jupyter-widgets/controls",
      "model_module_version": "1.1.0",
      "model_name": "ButtonModel",
      "state": {
       "icon": "fast-backward",
       "layout": "IPY_MODEL_5df1204a1c7f49e2b9b64d98703aa1bb",
       "style": "IPY_MODEL_b9a498c9dc104e1a83bad8498ee087a3"
      }
     },
     "bc6aedccdcb0453ea0482b28252e06b1": {
      "model_module": "@jupyter-widgets/base",
      "model_module_version": "1.0.0",
      "model_name": "LayoutModel",
      "state": {
       "width": "100%"
      }
     },
     "bc7c956e48554b96b10308b3c594ab57": {
      "model_module": "@jupyter-widgets/controls",
      "model_module_version": "1.1.0",
      "model_name": "DescriptionStyleModel",
      "state": {
       "description_width": "initial"
      }
     },
     "bcdd943ac7e84749af260c9fb22e6105": {
      "model_module": "@jupyter-widgets/controls",
      "model_module_version": "1.1.0",
      "model_name": "CheckboxModel",
      "state": {
       "description": "Show Targets",
       "disabled": false,
       "layout": "IPY_MODEL_6ca4a96a067c40fb978fe14f7e7512e5",
       "style": "IPY_MODEL_f0ee8b1b539f45f1998ca4a02e37a8a8",
       "value": false
      }
     },
     "bdb5c719461441da8c8722d7359db2be": {
      "model_module": "@jupyter-widgets/controls",
      "model_module_version": "1.1.0",
      "model_name": "ButtonStyleModel",
      "state": {}
     },
     "bdd8e7f77f9a41179be3ec23b4267b1e": {
      "model_module": "@jupyter-widgets/controls",
      "model_module_version": "1.1.0",
      "model_name": "VBoxModel",
      "state": {
       "children": [
        "IPY_MODEL_1e0bb93f397541ff82ae2c17ab8d660a",
        "IPY_MODEL_8885878e8c7a43a98f905bfc695fbc7e",
        "IPY_MODEL_13b72a9899294ae7a4533571c9bbe821",
        "IPY_MODEL_5749bbaf12f84ad8a38122d86a2214f2",
        "IPY_MODEL_f772c817d82b4403a30c9935052936c1",
        "IPY_MODEL_d2048ebe79d6433eab156c4974169de6",
        "IPY_MODEL_5d2fe9bf81094d7fa1cc331601a4bddd",
        "IPY_MODEL_48cda40fc8b94dc0a2a9b4d57550580d"
       ],
       "layout": "IPY_MODEL_4895eb049c7a47f79fa1090eae5fbbd4"
      }
     },
     "bde38c8744104a54aa6d20666dd1a2ca": {
      "model_module": "@jupyter-widgets/controls",
      "model_module_version": "1.1.0",
      "model_name": "HBoxModel",
      "state": {
       "children": [
        "IPY_MODEL_babbfd68bea2451ea0f89f8482658aa0",
        "IPY_MODEL_bb4333cbddc14929840aa1082c7fdfc0",
        "IPY_MODEL_71f6f8d4c6b543a5871ae893cee86dfc",
        "IPY_MODEL_f6a10a86e9ca46478b44db28f306a6c6",
        "IPY_MODEL_97c1dd37ebfc4ed6ad14a7c7dd71898b",
        "IPY_MODEL_1a2f2170858b4c2582ee604d19886500",
        "IPY_MODEL_e142de6fda9d41d5b2f7967f05725118"
       ],
       "layout": "IPY_MODEL_114cdab0e5a044afbaa16c65509a7ae2"
      }
     },
     "bdfe9818e0984ffdbf1de966ac3c0288": {
      "model_module": "@jupyter-widgets/controls",
      "model_module_version": "1.1.0",
      "model_name": "DescriptionStyleModel",
      "state": {
       "description_width": ""
      }
     },
     "be919e5856fa469689d0cbae78d3d42d": {
      "model_module": "@jupyter-widgets/controls",
      "model_module_version": "1.1.0",
      "model_name": "DescriptionStyleModel",
      "state": {
       "description_width": ""
      }
     },
     "bedcaed665db4f29aa375f36c8a056f4": {
      "model_module": "@jupyter-widgets/controls",
      "model_module_version": "1.1.0",
      "model_name": "SelectModel",
      "state": {
       "_options_labels": [
        ""
       ],
       "description": "Features:",
       "index": 0,
       "layout": "IPY_MODEL_992543fbc0cf4cd7997060f66a7db008",
       "rows": 1,
       "style": "IPY_MODEL_9edb2781bee14c4ea3a00f05a5355fa4"
      }
     },
     "bee2be2f04534d31ada59ec5d0ccdf5d": {
      "model_module": "@jupyter-widgets/base",
      "model_module_version": "1.0.0",
      "model_name": "LayoutModel",
      "state": {
       "height": "40px"
      }
     },
     "bef1c741568f4031a3525526c0cd8b18": {
      "model_module": "@jupyter-widgets/controls",
      "model_module_version": "1.1.0",
      "model_name": "ButtonModel",
      "state": {
       "icon": "fast-forward",
       "layout": "IPY_MODEL_192798c2699a432a9107c54d3eae53a8",
       "style": "IPY_MODEL_bdb5c719461441da8c8722d7359db2be"
      }
     },
     "bf2d5662b0a042b69c7ee87d6b56e7cc": {
      "model_module": "@jupyter-widgets/controls",
      "model_module_version": "1.1.0",
      "model_name": "DescriptionStyleModel",
      "state": {
       "description_width": "initial"
      }
     },
     "bf62b1657e764a4a89b49e14d047ea23": {
      "model_module": "@jupyter-widgets/controls",
      "model_module_version": "1.1.0",
      "model_name": "ButtonStyleModel",
      "state": {}
     },
     "bf834c46abd74b9a92b9fb00d98d6b2d": {
      "model_module": "@jupyter-widgets/controls",
      "model_module_version": "1.1.0",
      "model_name": "CheckboxModel",
      "state": {
       "description": "Visible",
       "disabled": false,
       "layout": "IPY_MODEL_95db0e01eb584c99bae3de01d0e37529",
       "style": "IPY_MODEL_1436933be02d49a283f4b3fd197e9c0f",
       "value": true
      }
     },
     "bfab0445d7bf4137ac34f9cb2a0b3f90": {
      "model_module": "@jupyter-widgets/base",
      "model_module_version": "1.0.0",
      "model_name": "LayoutModel",
      "state": {}
     },
     "bfe6ed64fde144f6925c101214b7509f": {
      "model_module": "@jupyter-widgets/base",
      "model_module_version": "1.0.0",
      "model_name": "LayoutModel",
      "state": {}
     },
     "c042a95007fb43ed88040bd0409cdc00": {
      "model_module": "@jupyter-widgets/controls",
      "model_module_version": "1.1.0",
      "model_name": "HBoxModel",
      "state": {
       "children": [
        "IPY_MODEL_6c97aa815d3345c8a0f2f53a34ddc8eb",
        "IPY_MODEL_e6487f7f3b8f4bb8b1fde571afc897d0"
       ],
       "layout": "IPY_MODEL_9b8dd82dc92a417faa57350a0bc77182"
      }
     },
     "c0ba435863204684b10dbbcc71e18f15": {
      "model_module": "@jupyter-widgets/base",
      "model_module_version": "1.0.0",
      "model_name": "LayoutModel",
      "state": {}
     },
     "c0bc587890814f0dbc0421a6b4808f83": {
      "model_module": "@jupyter-widgets/controls",
      "model_module_version": "1.1.0",
      "model_name": "IntTextModel",
      "state": {
       "layout": "IPY_MODEL_fc3ef0fae8c6495db217ff03161a95bf",
       "step": 1,
       "style": "IPY_MODEL_d413e1c739ef4ce494e4fd355c231798"
      }
     },
     "c10df979b77e4d2bbccec161a39a8d4e": {
      "model_module": "@jupyter-widgets/base",
      "model_module_version": "1.0.0",
      "model_name": "LayoutModel",
      "state": {}
     },
     "c1c7e3c16ba54aae80c7a6b6fa386607": {
      "model_module": "@jupyter-widgets/controls",
      "model_module_version": "1.1.0",
      "model_name": "DescriptionStyleModel",
      "state": {
       "description_width": ""
      }
     },
     "c1d036d7c0dd482ba21d37d1884d6e33": {
      "model_module": "@jupyter-widgets/controls",
      "model_module_version": "1.1.0",
      "model_name": "DescriptionStyleModel",
      "state": {
       "description_width": "initial"
      }
     },
     "c21f43be3e294e208bcefe42861f40e8": {
      "model_module": "@jupyter-widgets/controls",
      "model_module_version": "1.1.0",
      "model_name": "SliderStyleModel",
      "state": {
       "description_width": ""
      }
     },
     "c272983eafd54c7f9d5bbb44a007d758": {
      "model_module": "@jupyter-widgets/base",
      "model_module_version": "1.0.0",
      "model_name": "LayoutModel",
      "state": {}
     },
     "c28ade2974cf42cba28acdbce0d18c9b": {
      "model_module": "@jupyter-widgets/base",
      "model_module_version": "1.0.0",
      "model_name": "LayoutModel",
      "state": {
       "height": "50px",
       "width": "100%"
      }
     },
     "c31b56d7eceb40ed8e33ed9f518b28f5": {
      "model_module": "@jupyter-widgets/base",
      "model_module_version": "1.0.0",
      "model_name": "LayoutModel",
      "state": {
       "width": "100%"
      }
     },
     "c49c570e945343218551248721e87ee0": {
      "model_module": "@jupyter-widgets/base",
      "model_module_version": "1.0.0",
      "model_name": "LayoutModel",
      "state": {}
     },
     "c4b033b21c264489a392ce58a8d20664": {
      "model_module": "@jupyter-widgets/controls",
      "model_module_version": "1.1.0",
      "model_name": "ButtonStyleModel",
      "state": {}
     },
     "c4e988a98443429796e6769937e2e3ad": {
      "model_module": "@jupyter-widgets/controls",
      "model_module_version": "1.1.0",
      "model_name": "ButtonModel",
      "state": {
       "icon": "refresh",
       "layout": "IPY_MODEL_94af918080a848c1b53cfeabea3de920",
       "style": "IPY_MODEL_4d5316803a374a1891cdea4f39991cb3"
      }
     },
     "c4f31a1769ce4932a83cd5078b2fec80": {
      "model_module": "@jupyter-widgets/controls",
      "model_module_version": "1.1.0",
      "model_name": "DescriptionStyleModel",
      "state": {
       "description_width": ""
      }
     },
     "c4feb6f67076417ba479a3ce0d6ce872": {
      "model_module": "@jupyter-widgets/controls",
      "model_module_version": "1.1.0",
      "model_name": "DescriptionStyleModel",
      "state": {
       "description_width": "initial"
      }
     },
     "c53f47c1541947d5a4b8ecd4d96a1be2": {
      "model_module": "@jupyter-widgets/controls",
      "model_module_version": "1.1.0",
      "model_name": "DescriptionStyleModel",
      "state": {
       "description_width": "initial"
      }
     },
     "c540a1a878dd47b5bf4794b07fc2982e": {
      "model_module": "@jupyter-widgets/base",
      "model_module_version": "1.0.0",
      "model_name": "LayoutModel",
      "state": {}
     },
     "c552bd1502f440cd86490b13a9940355": {
      "model_module": "@jupyter-widgets/base",
      "model_module_version": "1.0.0",
      "model_name": "LayoutModel",
      "state": {}
     },
     "c57468f3558049ee95293f8223bf783d": {
      "model_module": "@jupyter-widgets/base",
      "model_module_version": "1.0.0",
      "model_name": "LayoutModel",
      "state": {}
     },
     "c5e547a0d40442a6afd38bd426b660ac": {
      "model_module": "@jupyter-widgets/controls",
      "model_module_version": "1.1.0",
      "model_name": "FloatTextModel",
      "state": {
       "description": "Leftmost color maps to:",
       "layout": "IPY_MODEL_49fb2713f3c24889bfadde43a9fea78b",
       "step": null,
       "style": "IPY_MODEL_d75254b0ca0743b79484f0bd08793267",
       "value": -1
      }
     },
     "c5f5325171ac4313b1f69de0289053f2": {
      "model_module": "@jupyter-widgets/controls",
      "model_module_version": "1.1.0",
      "model_name": "DescriptionStyleModel",
      "state": {
       "description_width": "initial"
      }
     },
     "c5ff900f4c694e61b3aee8260669f45e": {
      "model_module": "@jupyter-widgets/controls",
      "model_module_version": "1.1.0",
      "model_name": "CheckboxModel",
      "state": {
       "description": "Errors",
       "disabled": false,
       "layout": "IPY_MODEL_95db0e01eb584c99bae3de01d0e37529",
       "style": "IPY_MODEL_bf2d5662b0a042b69c7ee87d6b56e7cc",
       "value": false
      }
     },
     "c6eb31eff07b421da4bfab416fd9ad45": {
      "model_module": "@jupyter-widgets/controls",
      "model_module_version": "1.1.0",
      "model_name": "IntTextModel",
      "state": {
       "layout": "IPY_MODEL_e0b7173f4cba4f51bb9b6eb960d377e3",
       "step": 1,
       "style": "IPY_MODEL_a7542ff58246425982682d6a4f343301",
       "value": 3
      }
     },
     "c73e96e0df314662824e693e1cd6390d": {
      "model_module": "@jupyter-widgets/base",
      "model_module_version": "1.0.0",
      "model_name": "LayoutModel",
      "state": {}
     },
     "c77a462bd72049159c7fc26e530169f7": {
      "model_module": "@jupyter-widgets/controls",
      "model_module_version": "1.1.0",
      "model_name": "FloatTextModel",
      "state": {
       "description": "Leftmost color maps to:",
       "layout": "IPY_MODEL_04d94d7f31ad475fb4f6d6f42f99a721",
       "step": null,
       "style": "IPY_MODEL_0a4c91adbb6e41c4b63c195e5eab7e0a",
       "value": -1
      }
     },
     "c7afdc87686f4595aa8279cc4d9cf65e": {
      "model_module": "@jupyter-widgets/base",
      "model_module_version": "1.0.0",
      "model_name": "LayoutModel",
      "state": {}
     },
     "c7ec565d74884dccaa8c891ceb6923d4": {
      "model_module": "@jupyter-widgets/base",
      "model_module_version": "1.0.0",
      "model_name": "LayoutModel",
      "state": {
       "width": "100%"
      }
     },
     "c7fcc92633f74e718a8707283abd478e": {
      "model_module": "@jupyter-widgets/base",
      "model_module_version": "1.0.0",
      "model_name": "LayoutModel",
      "state": {}
     },
     "c8023012d5e043edbf4c918ebff54b83": {
      "model_module": "@jupyter-widgets/base",
      "model_module_version": "1.0.0",
      "model_name": "LayoutModel",
      "state": {}
     },
     "c80a184ed0144daf9ebcd09eb5ac6d62": {
      "model_module": "@jupyter-widgets/controls",
      "model_module_version": "1.1.0",
      "model_name": "DescriptionStyleModel",
      "state": {
       "description_width": ""
      }
     },
     "c80b08d0ba7649dca3e6a37a175c6e22": {
      "model_module": "@jupyter-widgets/controls",
      "model_module_version": "1.1.0",
      "model_name": "DescriptionStyleModel",
      "state": {
       "description_width": "initial"
      }
     },
     "c84874573abe400fbba0ab8029263b1e": {
      "model_module": "@jupyter-widgets/controls",
      "model_module_version": "1.1.0",
      "model_name": "DescriptionStyleModel",
      "state": {
       "description_width": "initial"
      }
     },
     "c85dc31c6bcc4978ab25b8f77e941b6d": {
      "model_module": "@jupyter-widgets/controls",
      "model_module_version": "1.1.0",
      "model_name": "ButtonModel",
      "state": {
       "description": "Play",
       "icon": "play",
       "layout": "IPY_MODEL_5009b00f1dc34d86bcc959cd777de279",
       "style": "IPY_MODEL_e3f7242fc5f74adba3057406162f4556"
      }
     },
     "c8ca02061bdd44d7b05af847e846fe8d": {
      "model_module": "@jupyter-widgets/controls",
      "model_module_version": "1.1.0",
      "model_name": "ButtonStyleModel",
      "state": {}
     },
     "c900be021bf844028746b90865c92d58": {
      "model_module": "@jupyter-widgets/controls",
      "model_module_version": "1.1.0",
      "model_name": "DescriptionStyleModel",
      "state": {
       "description_width": ""
      }
     },
     "c92618dfd3fd4b798b56b90c2ac6109b": {
      "model_module": "@jupyter-widgets/controls",
      "model_module_version": "1.1.0",
      "model_name": "DescriptionStyleModel",
      "state": {
       "description_width": "initial"
      }
     },
     "c934eb1a7aed47b898b693babc51893b": {
      "model_module": "@jupyter-widgets/base",
      "model_module_version": "1.0.0",
      "model_name": "LayoutModel",
      "state": {}
     },
     "c9408786f0154276a8a581d92224674c": {
      "model_module": "@jupyter-widgets/controls",
      "model_module_version": "1.1.0",
      "model_name": "DescriptionStyleModel",
      "state": {
       "description_width": "initial"
      }
     },
     "c980a52c1c0a4a6f9f0001ea565f56f9": {
      "model_module": "@jupyter-widgets/controls",
      "model_module_version": "1.1.0",
      "model_name": "ButtonModel",
      "state": {
       "icon": "backward",
       "layout": "IPY_MODEL_6a81e33e73db425aafbddbb62bccf635",
       "style": "IPY_MODEL_3a054a37d8df47a2a075fd11fd1c67b3"
      }
     },
     "c9e144d2c2904455beb57e8a79ae956e": {
      "model_module": "@jupyter-widgets/controls",
      "model_module_version": "1.1.0",
      "model_name": "HTMLModel",
      "state": {
       "layout": "IPY_MODEL_a4bd359368034ebe84cacf13ad3b981a",
       "style": "IPY_MODEL_e5379b14a3b14513ae0731a8fe18cce2",
       "value": "<p style=\"text-align:center\"><svg id='XOR Network' xmlns='http://www.w3.org/2000/svg' viewBox=\"0 0 350 250\" max-width=\"100%\" height=\"780\" image-rendering=\"pixelated\">\n    <defs>\n        <marker id=\"arrow\" markerWidth=\"10\" markerHeight=\"10\" refX=\"9\" refY=\"3\" orient=\"auto\" markerUnits=\"strokeWidth\">\n          <path d=\"M0,0 L0,6 L9,3 z\" fill=\"black\" />\n        </marker>\n    </defs><text x=\"175.0\" y=\"12.5\" font-family=\"monospace\" font-size=\"15\" text-anchor=\"middle\" alignment-baseline=\"central\">XOR Network</text><rect x=\"149.0\" y=\"24\" width=\"52\" height=\"52\" style=\"fill:none;stroke:black;stroke-width:2\"/><image id=\"XOR Network_output1_7\" class=\"XOR Network_output1\" x=\"150.0\" y=\"25\" height=\"50\" width=\"50\" preserveAspectRatio=\"none\" href=\"data:image/gif;base64,R0lGODdhAQABAIcAAAAA/wAAAAAAAAAAAAAAAAAAAAAAAAAAAAAAAAAAAAAAAAAAAAAAAAAAAAAAAAAAAAAAAAAAAAAAAAAAAAAAAAAAAAAAAAAAAAAAAAAAAAAAAAAAAAAAAAAAAAAAAAAAAAAAAAAAAAAAAAAAAAAAAAAAAAAAAAAAAAAAAAAAAAAAAAAAAAAAAAAAAAAAAAAAAAAAAAAAAAAAAAAAAAAAAAAAAAAAAAAAAAAAAAAAAAAAAAAAAAAAAAAAAAAAAAAAAAAAAAAAAAAAAAAAAAAAAAAAAAAAAAAAAAAAAAAAAAAAAAAAAAAAAAAAAAAAAAAAAAAAAAAAAAAAAAAAAAAAAAAAAAAAAAAAAAAAAAAAAAAAAAAAAAAAAAAAAAAAAAAAAAAAAAAAAAAAAAAAAAAAAAAAAAAAAAAAAAAAAAAAAAAAAAAAAAAAAAAAAAAAAAAAAAAAAAAAAAAAAAAAAAAAAAAAAAAAAAAAAAAAAAAAAAAAAAAAAAAAAAAAAAAAAAAAAAAAAAAAAAAAAAAAAAAAAAAAAAAAAAAAAAAAAAAAAAAAAAAAAAAAAAAAAAAAAAAAAAAAAAAAAAAAAAAAAAAAAAAAAAAAAAAAAAAAAAAAAAAAAAAAAAAAAAAAAAAAAAAAAAAAAAAAAAAAAAAAAAAAAAAAAAAAAAAAAAAAAAAAAAAAAAAAAAAAAAAAAAAAAAAAAAAAAAAAAAAAAAAAAAAAAAAAAAAAAAAAAAAAAAAAAAAAAAAAAAAAAAAAAAAAAAAAAAAAAAAAAAAAAAAAAAAAAAAAAAAAAAAAAAAAAAAAAAAAAAAAAAAAAAAAAAAAAAAAAAAAAAAAAAAAAAAAAAAAAAAAAAAAAAAAAAAAAAAAAAAAAAAAAAAAAAAAAAAAAAAAAAAAAAAAAAAAAAAAAAAAAAAAAAAAAAAAAAAAAAAAAAAAAAAAAAAAAAAAAAAAAAAAAAAAAAAAAAAAAAAAAAAAAAAAAAAAAAAAAAAAAAAAAAAAAAAAAAAAAAAAAAAAAAAAACwAAAAAAQABAAAIBQAByAkIADs=\"><title>Layer: output1 (output)\n shape = (1,)\n Keras class = Dense\n activation = sigmoid</title></image><text x=\"205.0\" y=\"52.0\" font-family=\"monospace\" font-size=\"12\" text-anchor=\"start\" alignment-baseline=\"central\">output1</text><line x1=\"175.0\" y1=\"104\" x2=\"175.0\" y2=\"77\" stroke=\"black\" stroke-width=\"2\" marker-end=\"url(#arrow)\"><title>Weights from hidden1 to output1\n output1/kernel has shape (5, 1)\n output1/bias has shape (1,)</title></line><rect x=\"74.0\" y=\"104\" width=\"202\" height=\"42\" style=\"fill:none;stroke:black;stroke-width:2\"/><image id=\"XOR Network_hidden1_8\" class=\"XOR Network_hidden1\" x=\"75.0\" y=\"105\" height=\"40\" width=\"200\" preserveAspectRatio=\"none\" href=\"data:image/gif;base64,R0lGODdhBQABAIcAAP/9/QAAAAAAAAAAAAAAAAAAAAAAAAAAAAAAAAAAAAAAAAAAAAAAAAAAAAAAAAAAAAAAAAAAAAAAAAAAAAAAAAAAAAAAAAAAAAAAAAAAAAAAAAAAAAAAAAAAAAAAAAAAAAAAAAAAAAAAAAAAAAAAAAAAAAAAAAAAAAAAAAAAAAAAAAAAAAAAAAAAAAAAAAAAAAAAAAAAAAAAAAAAAAAAAAAAAAAAAAAAAAAAAAAAAAAAAAAAAAAAAAAAAAAAAAAAAAAAAAAAAAAAAAAAAAAAAAAAAAAAAAAAAAAAAAAAAAAAAAAAAAAAAAAAAAAAAAAAAAAAAAAAAAAAAAAAAAAAAAAAAAAAAAAAAAAAAAAAAAAAAAAAAAAAAAAAAAAAAAAAAAAAAAAAAAAAAAAAAAAAAAAAAAAAAAAAAAAAAAAAAAAAAAAAAAAAAAAAAAAAAAAAAAAAAAAAAAAAAAAAAAAAAAAAAAAAAAAAAAAAAAAAAAAAAAAAAAAAAAAAAAAAAAAAAAAAAAAAAAAAAAAAAAAAAAAAAAAAAAAAAAAAAAAAAAAAAAAAAAAAAAAAAAAAAAAAAAAAAAAAAAAAAAAAAAAAAAAAAAAAAAAAAAAAAAAAAAAAAAAAAAAAAAAAAAAAAAAAAAAAAAAAAAAAAAAAAAAAAAAAAAAAAAAAAAAAAAAAAAAAAAAAAAAAAAAAAAAAAAAAAAAAAAAAAAAAAAAAAAAAAAAAAAAAAAAAAAAAAAAAAAAAAAAAAAAAAAAAAAAAAAAAAAAAAAAAAAAAAAAAAAAAAAAAAAAAAAAAAAAAAAAAAAAAAAAAAAAAAAAAAAAAAAAAAAAAAAAAAAAAAAAAAAAAAAAAAAAAAAAAAAAAAAAAAAAAAAAAAAAAAAAAAAAAAAAAAAAAAAAAAAAAAAAAAAAAAAAAAAAAAAAAAAAAAAAAAAAAAAAAAAAAAAAAAAAAAAAAAAAAAAAAAAAAAAAAAAAAAAAAAAAAAAAAAAAAAAAAAAAAAAAAAAAAAAAAAAAAAAAAACwAAAAABQABAAAIBgABCBQYEAA7\"><title>Layer: hidden1 (hidden)\n shape = (5,)\n Keras class = Dense\n activation = relu</title></image><text x=\"280.0\" y=\"127.0\" font-family=\"monospace\" font-size=\"12\" text-anchor=\"start\" alignment-baseline=\"central\">hidden1</text><line x1=\"175.0\" y1=\"174\" x2=\"175.0\" y2=\"147\" stroke=\"black\" stroke-width=\"2\" marker-end=\"url(#arrow)\"><title>Weights from input1 to hidden1\n hidden1/kernel has shape (2, 5)\n hidden1/bias has shape (5,)</title></line><rect x=\"124.0\" y=\"174\" width=\"102\" height=\"52\" style=\"fill:none;stroke:black;stroke-width:2\"/><image id=\"XOR Network_input1_9\" class=\"XOR Network_input1\" x=\"125.0\" y=\"175\" height=\"50\" width=\"100\" preserveAspectRatio=\"none\" href=\"data:image/gif;base64,R0lGODdhAgABAIcAAP/9/QAAAAAAAAAAAAAAAAAAAAAAAAAAAAAAAAAAAAAAAAAAAAAAAAAAAAAAAAAAAAAAAAAAAAAAAAAAAAAAAAAAAAAAAAAAAAAAAAAAAAAAAAAAAAAAAAAAAAAAAAAAAAAAAAAAAAAAAAAAAAAAAAAAAAAAAAAAAAAAAAAAAAAAAAAAAAAAAAAAAAAAAAAAAAAAAAAAAAAAAAAAAAAAAAAAAAAAAAAAAAAAAAAAAAAAAAAAAAAAAAAAAAAAAAAAAAAAAAAAAAAAAAAAAAAAAAAAAAAAAAAAAAAAAAAAAAAAAAAAAAAAAAAAAAAAAAAAAAAAAAAAAAAAAAAAAAAAAAAAAAAAAAAAAAAAAAAAAAAAAAAAAAAAAAAAAAAAAAAAAAAAAAAAAAAAAAAAAAAAAAAAAAAAAAAAAAAAAAAAAAAAAAAAAAAAAAAAAAAAAAAAAAAAAAAAAAAAAAAAAAAAAAAAAAAAAAAAAAAAAAAAAAAAAAAAAAAAAAAAAAAAAAAAAAAAAAAAAAAAAAAAAAAAAAAAAAAAAAAAAAAAAAAAAAAAAAAAAAAAAAAAAAAAAAAAAAAAAAAAAAAAAAAAAAAAAAAAAAAAAAAAAAAAAAAAAAAAAAAAAAAAAAAAAAAAAAAAAAAAAAAAAAAAAAAAAAAAAAAAAAAAAAAAAAAAAAAAAAAAAAAAAAAAAAAAAAAAAAAAAAAAAAAAAAAAAAAAAAAAAAAAAAAAAAAAAAAAAAAAAAAAAAAAAAAAAAAAAAAAAAAAAAAAAAAAAAAAAAAAAAAAAAAAAAAAAAAAAAAAAAAAAAAAAAAAAAAAAAAAAAAAAAAAAAAAAAAAAAAAAAAAAAAAAAAAAAAAAAAAAAAAAAAAAAAAAAAAAAAAAAAAAAAAAAAAAAAAAAAAAAAAAAAAAAAAAAAAAAAAAAAAAAAAAAAAAAAAAAAAAAAAAAAAAAAAAAAAAAAAAAAAAAAAAAAAAAAAAAAAAAAAAAAAAAAAAAAAAAAAAAAAAAAAAAAAAAAAAAAAACwAAAAAAgABAAAIBQABAAgIADs=\"><title>Layer: input1 (input)\n shape = (2,)\n Keras class = Input</title></image><text x=\"230.0\" y=\"202.0\" font-family=\"monospace\" font-size=\"12\" text-anchor=\"start\" alignment-baseline=\"central\">input1</text></svg></p>"
      }
     },
     "c9ff51d1a7884747b751a11c0eab6770": {
      "model_module": "@jupyter-widgets/controls",
      "model_module_version": "1.1.0",
      "model_name": "DescriptionStyleModel",
      "state": {
       "description_width": ""
      }
     },
     "ca2c2fccbd814718815bd26726d8de8d": {
      "model_module": "@jupyter-widgets/controls",
      "model_module_version": "1.1.0",
      "model_name": "DescriptionStyleModel",
      "state": {
       "description_width": ""
      }
     },
     "ca7c8a8cf2ea4528810fee746e974650": {
      "model_module": "@jupyter-widgets/base",
      "model_module_version": "1.0.0",
      "model_name": "LayoutModel",
      "state": {
       "width": "100%"
      }
     },
     "ca824a2da20c42898d525fe7a5220f8a": {
      "model_module": "@jupyter-widgets/base",
      "model_module_version": "1.0.0",
      "model_name": "LayoutModel",
      "state": {
       "width": "100%"
      }
     },
     "ca825f88bd474cd098b6608e376644f9": {
      "model_module": "@jupyter-widgets/controls",
      "model_module_version": "1.1.0",
      "model_name": "DescriptionStyleModel",
      "state": {
       "description_width": "initial"
      }
     },
     "cafbc9cf3ab64e758074df0228feb615": {
      "model_module": "@jupyter-widgets/base",
      "model_module_version": "1.0.0",
      "model_name": "LayoutModel",
      "state": {}
     },
     "cb6cf61e1146499a91196089ab12101b": {
      "model_module": "@jupyter-widgets/controls",
      "model_module_version": "1.1.0",
      "model_name": "ButtonModel",
      "state": {
       "description": "Play",
       "icon": "play",
       "layout": "IPY_MODEL_2ea74fa2141f4314add3dff6cd92b768",
       "style": "IPY_MODEL_f7899cf8d65c43309bf8136dc9fc09d2"
      }
     },
     "cbd3620dc12f46a69ea7619862c4d691": {
      "model_module": "@jupyter-widgets/controls",
      "model_module_version": "1.1.0",
      "model_name": "DescriptionStyleModel",
      "state": {
       "description_width": "initial"
      }
     },
     "cbdedf75ffe944758276e831b88aa98c": {
      "model_module": "@jupyter-widgets/controls",
      "model_module_version": "1.1.0",
      "model_name": "DescriptionStyleModel",
      "state": {
       "description_width": "initial"
      }
     },
     "cbfe06b5d6f945c28ed16bf2f9a40761": {
      "model_module": "@jupyter-widgets/controls",
      "model_module_version": "1.1.0",
      "model_name": "ButtonModel",
      "state": {
       "icon": "forward",
       "layout": "IPY_MODEL_4768150135834a95821f3a0b157001a0",
       "style": "IPY_MODEL_28b51ae6fbda4125b1da6a56ca42c191"
      }
     },
     "cc315036569344bbad10b36a464e8d50": {
      "model_module": "@jupyter-widgets/controls",
      "model_module_version": "1.1.0",
      "model_name": "DescriptionStyleModel",
      "state": {
       "description_width": ""
      }
     },
     "cc352a7c4c244c7394ccfb1a41120445": {
      "model_module": "@jupyter-widgets/base",
      "model_module_version": "1.0.0",
      "model_name": "LayoutModel",
      "state": {
       "width": "100px"
      }
     },
     "ccfe54dd20874d649b9bdfb37cde34a6": {
      "model_module": "@jupyter-widgets/base",
      "model_module_version": "1.0.0",
      "model_name": "LayoutModel",
      "state": {}
     },
     "cd261bad3da541349680b96fee7c167a": {
      "model_module": "@jupyter-widgets/controls",
      "model_module_version": "1.1.0",
      "model_name": "SelectModel",
      "state": {
       "_options_labels": [
        "",
        "Accent",
        "Accent_r",
        "Blues",
        "Blues_r",
        "BrBG",
        "BrBG_r",
        "BuGn",
        "BuGn_r",
        "BuPu",
        "BuPu_r",
        "CMRmap",
        "CMRmap_r",
        "Dark2",
        "Dark2_r",
        "GnBu",
        "GnBu_r",
        "Greens",
        "Greens_r",
        "Greys",
        "Greys_r",
        "OrRd",
        "OrRd_r",
        "Oranges",
        "Oranges_r",
        "PRGn",
        "PRGn_r",
        "Paired",
        "Paired_r",
        "Pastel1",
        "Pastel1_r",
        "Pastel2",
        "Pastel2_r",
        "PiYG",
        "PiYG_r",
        "PuBu",
        "PuBuGn",
        "PuBuGn_r",
        "PuBu_r",
        "PuOr",
        "PuOr_r",
        "PuRd",
        "PuRd_r",
        "Purples",
        "Purples_r",
        "RdBu",
        "RdBu_r",
        "RdGy",
        "RdGy_r",
        "RdPu",
        "RdPu_r",
        "RdYlBu",
        "RdYlBu_r",
        "RdYlGn",
        "RdYlGn_r",
        "Reds",
        "Reds_r",
        "Set1",
        "Set1_r",
        "Set2",
        "Set2_r",
        "Set3",
        "Set3_r",
        "Spectral",
        "Spectral_r",
        "Vega10",
        "Vega10_r",
        "Vega20",
        "Vega20_r",
        "Vega20b",
        "Vega20b_r",
        "Vega20c",
        "Vega20c_r",
        "Wistia",
        "Wistia_r",
        "YlGn",
        "YlGnBu",
        "YlGnBu_r",
        "YlGn_r",
        "YlOrBr",
        "YlOrBr_r",
        "YlOrRd",
        "YlOrRd_r",
        "afmhot",
        "afmhot_r",
        "autumn",
        "autumn_r",
        "binary",
        "binary_r",
        "bone",
        "bone_r",
        "brg",
        "brg_r",
        "bwr",
        "bwr_r",
        "cool",
        "cool_r",
        "coolwarm",
        "coolwarm_r",
        "copper",
        "copper_r",
        "cubehelix",
        "cubehelix_r",
        "flag",
        "flag_r",
        "gist_earth",
        "gist_earth_r",
        "gist_gray",
        "gist_gray_r",
        "gist_heat",
        "gist_heat_r",
        "gist_ncar",
        "gist_ncar_r",
        "gist_rainbow",
        "gist_rainbow_r",
        "gist_stern",
        "gist_stern_r",
        "gist_yarg",
        "gist_yarg_r",
        "gnuplot",
        "gnuplot2",
        "gnuplot2_r",
        "gnuplot_r",
        "gray",
        "gray_r",
        "hot",
        "hot_r",
        "hsv",
        "hsv_r",
        "inferno",
        "inferno_r",
        "jet",
        "jet_r",
        "magma",
        "magma_r",
        "nipy_spectral",
        "nipy_spectral_r",
        "ocean",
        "ocean_r",
        "pink",
        "pink_r",
        "plasma",
        "plasma_r",
        "prism",
        "prism_r",
        "rainbow",
        "rainbow_r",
        "seismic",
        "seismic_r",
        "spectral",
        "spectral_r",
        "spring",
        "spring_r",
        "summer",
        "summer_r",
        "tab10",
        "tab10_r",
        "tab20",
        "tab20_r",
        "tab20b",
        "tab20b_r",
        "tab20c",
        "tab20c_r",
        "terrain",
        "terrain_r",
        "viridis",
        "viridis_r",
        "winter",
        "winter_r"
       ],
       "description": "Colormap:",
       "index": 0,
       "layout": "IPY_MODEL_34fcf6cc8f624e2aa927178dcec232aa",
       "rows": 1,
       "style": "IPY_MODEL_68dc4dbdce2344718e893e8b0cd5c265"
      }
     },
     "cd6dd089270f486488cac23b30d1f58f": {
      "model_module": "@jupyter-widgets/controls",
      "model_module_version": "1.1.0",
      "model_name": "DescriptionStyleModel",
      "state": {
       "description_width": ""
      }
     },
     "cde7e7d789dd4b50b4dcf22188c17b81": {
      "model_module": "@jupyter-widgets/base",
      "model_module_version": "1.0.0",
      "model_name": "LayoutModel",
      "state": {}
     },
     "cde94f34aa6d4a82a49bb338809260e2": {
      "model_module": "@jupyter-widgets/controls",
      "model_module_version": "1.1.0",
      "model_name": "DescriptionStyleModel",
      "state": {
       "description_width": "initial"
      }
     },
     "cdeb142d2fe9408aad8291f7501a8ebc": {
      "model_module": "@jupyter-widgets/base",
      "model_module_version": "1.0.0",
      "model_name": "LayoutModel",
      "state": {}
     },
     "cea9b375d23a427790bafe1e455a714d": {
      "model_module": "@jupyter-widgets/controls",
      "model_module_version": "1.1.0",
      "model_name": "ButtonModel",
      "state": {
       "icon": "fast-forward",
       "layout": "IPY_MODEL_aa3025b1cbe44eb2bcfe7a1f7f766d44",
       "style": "IPY_MODEL_5a4c3e44312a47abb4a28e221042d904"
      }
     },
     "ceea9c74c1e34c6e87eb7a402db83d2b": {
      "model_module": "@jupyter-widgets/base",
      "model_module_version": "1.0.0",
      "model_name": "LayoutModel",
      "state": {
       "width": "25%"
      }
     },
     "cf19e5c76a2f462796af7d86fb8c04f4": {
      "model_module": "@jupyter-widgets/base",
      "model_module_version": "1.0.0",
      "model_name": "LayoutModel",
      "state": {
       "width": "25%"
      }
     },
     "cf6eeca816884129868f022bdc0d73a9": {
      "model_module": "@jupyter-widgets/controls",
      "model_module_version": "1.1.0",
      "model_name": "FloatSliderModel",
      "state": {
       "continuous_update": false,
       "description": "Zoom",
       "layout": "IPY_MODEL_c73e96e0df314662824e693e1cd6390d",
       "max": 3,
       "min": 0.5,
       "step": 0.1,
       "style": "IPY_MODEL_4ad5fe1e1b5a4ecf8aaf3fb4759b3b65",
       "value": 1
      }
     },
     "cf8c11543d8041ed88c1b5d252509601": {
      "model_module": "@jupyter-widgets/controls",
      "model_module_version": "1.1.0",
      "model_name": "IntTextModel",
      "state": {
       "layout": "IPY_MODEL_016cd6df1d57493d8f8f33daf69edf24",
       "step": 1,
       "style": "IPY_MODEL_304c9d8830e64da891fa6c8cd234c43d"
      }
     },
     "d037cddb6c5040ad9aa7bc502a1c2b4a": {
      "model_module": "@jupyter-widgets/base",
      "model_module_version": "1.0.0",
      "model_name": "LayoutModel",
      "state": {}
     },
     "d0fb042698854b6f94c5c2da7c56f868": {
      "model_module": "@jupyter-widgets/controls",
      "model_module_version": "1.1.0",
      "model_name": "DescriptionStyleModel",
      "state": {
       "description_width": "initial"
      }
     },
     "d10adea7bacf4d1488ad5fb24e02a081": {
      "model_module": "@jupyter-widgets/controls",
      "model_module_version": "1.1.0",
      "model_name": "ButtonStyleModel",
      "state": {}
     },
     "d11bbce6b213474a9aa035f6e618a7d2": {
      "model_module": "@jupyter-widgets/controls",
      "model_module_version": "1.1.0",
      "model_name": "ButtonStyleModel",
      "state": {}
     },
     "d171dc9391824b1195165ccc33f117f5": {
      "model_module": "@jupyter-widgets/controls",
      "model_module_version": "1.1.0",
      "model_name": "ButtonStyleModel",
      "state": {}
     },
     "d1a811feaf7d4451b812a5ee2b699a86": {
      "model_module": "@jupyter-widgets/base",
      "model_module_version": "1.0.0",
      "model_name": "LayoutModel",
      "state": {
       "width": "100%"
      }
     },
     "d1b9fa9c21904fe9835080ba4fd7a1c6": {
      "model_module": "@jupyter-widgets/controls",
      "model_module_version": "1.1.0",
      "model_name": "FloatTextModel",
      "state": {
       "description": "Rightmost color maps to:",
       "layout": "IPY_MODEL_d7fe2db050834c32a762c9abb10bbfec",
       "step": null,
       "style": "IPY_MODEL_60362ad6ec7a45af8ffc5de9fda806c3",
       "value": 1
      }
     },
     "d1ea8772079e4aa0a3bf116d050e93d2": {
      "model_module": "@jupyter-widgets/controls",
      "model_module_version": "1.1.0",
      "model_name": "CheckboxModel",
      "state": {
       "description": "Visible",
       "disabled": false,
       "layout": "IPY_MODEL_a8347632723543fab2507dee46c04d36",
       "style": "IPY_MODEL_fa9365b4a1884a1380fe569d581e2bc5",
       "value": true
      }
     },
     "d1f16a3c3bbb47819885ebaad28574d2": {
      "model_module": "@jupyter-widgets/controls",
      "model_module_version": "1.1.0",
      "model_name": "DescriptionStyleModel",
      "state": {
       "description_width": "initial"
      }
     },
     "d2048ebe79d6433eab156c4974169de6": {
      "model_module": "@jupyter-widgets/controls",
      "model_module_version": "1.1.0",
      "model_name": "SelectModel",
      "state": {
       "_options_labels": [
        ""
       ],
       "description": "Features:",
       "index": 0,
       "layout": "IPY_MODEL_b0f99c6d04024faab3ed859a47068db3",
       "rows": 1,
       "style": "IPY_MODEL_12caf3ac8fde4d39ae9d842d67eebf4b"
      }
     },
     "d307c84891b7469aa8110b616c2bc820": {
      "model_module": "@jupyter-widgets/controls",
      "model_module_version": "1.1.0",
      "model_name": "DescriptionStyleModel",
      "state": {
       "description_width": ""
      }
     },
     "d32f6746f67846d08ea5b76f713ddfe9": {
      "model_module": "@jupyter-widgets/base",
      "model_module_version": "1.0.0",
      "model_name": "LayoutModel",
      "state": {}
     },
     "d413e1c739ef4ce494e4fd355c231798": {
      "model_module": "@jupyter-widgets/controls",
      "model_module_version": "1.1.0",
      "model_name": "DescriptionStyleModel",
      "state": {
       "description_width": ""
      }
     },
     "d42d820a01284fd6a6cd763b2db7b409": {
      "model_module": "@jupyter-widgets/base",
      "model_module_version": "1.0.0",
      "model_name": "LayoutModel",
      "state": {
       "height": "50px",
       "width": "100%"
      }
     },
     "d45093c086ec4b7d86b41040be688778": {
      "model_module": "@jupyter-widgets/base",
      "model_module_version": "1.0.0",
      "model_name": "LayoutModel",
      "state": {
       "width": "100%"
      }
     },
     "d4fa5900607c4a73ab0d5244355838cd": {
      "model_module": "@jupyter-widgets/controls",
      "model_module_version": "1.1.0",
      "model_name": "HBoxModel",
      "state": {
       "children": [
        "IPY_MODEL_4765bd73a46f49faab14f4733e7c58d4",
        "IPY_MODEL_97883f21be4f44d6a32b4f2c29eaf265"
       ],
       "layout": "IPY_MODEL_ad9c82959792465b9c7a7e7850add239"
      }
     },
     "d58c231adc6b4e46b7f61fb1dcddb395": {
      "model_module": "@jupyter-widgets/controls",
      "model_module_version": "1.1.0",
      "model_name": "IntSliderModel",
      "state": {
       "continuous_update": false,
       "description": "Dataset index",
       "layout": "IPY_MODEL_6fb426651637499a88ed22966696ccf5",
       "max": 0,
       "style": "IPY_MODEL_66f896af10724f15a76c65dcbcbbc8ed"
      }
     },
     "d5b5cf4441ad4a7bb74e894728f43c2c": {
      "model_module": "@jupyter-widgets/base",
      "model_module_version": "1.0.0",
      "model_name": "LayoutModel",
      "state": {}
     },
     "d5f636f8b5e049548d6eeb23f2c0af45": {
      "model_module": "@jupyter-widgets/base",
      "model_module_version": "1.0.0",
      "model_name": "LayoutModel",
      "state": {}
     },
     "d6538b830af1477e8ebc0ffba85b2aa6": {
      "model_module": "@jupyter-widgets/base",
      "model_module_version": "1.0.0",
      "model_name": "LayoutModel",
      "state": {
       "width": "100%"
      }
     },
     "d75254b0ca0743b79484f0bd08793267": {
      "model_module": "@jupyter-widgets/controls",
      "model_module_version": "1.1.0",
      "model_name": "DescriptionStyleModel",
      "state": {
       "description_width": "initial"
      }
     },
     "d7ca225f76ff43f28261d037a12381de": {
      "model_module": "@jupyter-widgets/base",
      "model_module_version": "1.0.0",
      "model_name": "LayoutModel",
      "state": {
       "width": "100%"
      }
     },
     "d7fe2db050834c32a762c9abb10bbfec": {
      "model_module": "@jupyter-widgets/base",
      "model_module_version": "1.0.0",
      "model_name": "LayoutModel",
      "state": {}
     },
     "d8035ec8cbe8416e97a50e2385200767": {
      "model_module": "@jupyter-widgets/base",
      "model_module_version": "1.0.0",
      "model_name": "LayoutModel",
      "state": {}
     },
     "d84d5dc9d1be49149df679081070d8cf": {
      "model_module": "@jupyter-widgets/controls",
      "model_module_version": "1.1.0",
      "model_name": "ButtonModel",
      "state": {
       "icon": "fast-backward",
       "layout": "IPY_MODEL_8122f8fe03be4111a73cabea115c325d",
       "style": "IPY_MODEL_fc7af29be7404aa19887f07da5bccdc0"
      }
     },
     "d85024c47c53492f9b9367df4dcc576d": {
      "model_module": "@jupyter-widgets/base",
      "model_module_version": "1.0.0",
      "model_name": "LayoutModel",
      "state": {}
     },
     "d860d676e830488a92d3f000f5ea71f9": {
      "model_module": "@jupyter-widgets/controls",
      "model_module_version": "1.1.0",
      "model_name": "ButtonModel",
      "state": {
       "icon": "fast-forward",
       "layout": "IPY_MODEL_50e8ef3d179f4394980bd8201e9e7925",
       "style": "IPY_MODEL_0679018d02be409a8b52189939579423"
      }
     },
     "d86333322d6f44cbb1e96b8ab463e7fd": {
      "model_module": "@jupyter-widgets/base",
      "model_module_version": "1.0.0",
      "model_name": "LayoutModel",
      "state": {}
     },
     "d9480efcc32244378e96ba0db546f3b5": {
      "model_module": "@jupyter-widgets/base",
      "model_module_version": "1.0.0",
      "model_name": "LayoutModel",
      "state": {
       "width": "100%"
      }
     },
     "d96b75fa11cb48ec8792af3a17ff07d8": {
      "model_module": "@jupyter-widgets/controls",
      "model_module_version": "1.1.0",
      "model_name": "LabelModel",
      "state": {
       "layout": "IPY_MODEL_cc352a7c4c244c7394ccfb1a41120445",
       "style": "IPY_MODEL_a9259582f5524e32beac0874a8585059",
       "value": "of 4"
      }
     },
     "d9f2836e8a954092872fcd23ab03ec5a": {
      "model_module": "@jupyter-widgets/base",
      "model_module_version": "1.0.0",
      "model_name": "LayoutModel",
      "state": {
       "width": "100%"
      }
     },
     "da2d212592f240ba909d143102235226": {
      "model_module": "@jupyter-widgets/controls",
      "model_module_version": "1.1.0",
      "model_name": "HBoxModel",
      "state": {
       "children": [
        "IPY_MODEL_acd73c42c8204c0b89197350ea838c71",
        "IPY_MODEL_59ece76eaaa0496bb4476bae47d59fc6",
        "IPY_MODEL_1e86702600f742e6ad322124a315c21d",
        "IPY_MODEL_cbfe06b5d6f945c28ed16bf2f9a40761",
        "IPY_MODEL_2409a1f7a1424ea5adbee00587541e73",
        "IPY_MODEL_52c14d4e229a4297bb66a20b8b581f61",
        "IPY_MODEL_c4e988a98443429796e6769937e2e3ad"
       ],
       "layout": "IPY_MODEL_c28ade2974cf42cba28acdbce0d18c9b"
      }
     },
     "da9a4f4eedae47298f208a56b64d59ae": {
      "model_module": "@jupyter-widgets/controls",
      "model_module_version": "1.1.0",
      "model_name": "CheckboxModel",
      "state": {
       "description": "Errors",
       "disabled": false,
       "layout": "IPY_MODEL_ccfe54dd20874d649b9bdfb37cde34a6",
       "style": "IPY_MODEL_efa39ea2f7b343a5bce0ac8a96e53ea7",
       "value": false
      }
     },
     "dad311219b4a4b37b5ccb89b75aeaa36": {
      "model_module": "@jupyter-widgets/controls",
      "model_module_version": "1.1.0",
      "model_name": "FloatTextModel",
      "state": {
       "description": "Leftmost color maps to:",
       "layout": "IPY_MODEL_f9165ca8b9fa4db397dbacc255bc3655",
       "step": null,
       "style": "IPY_MODEL_efc484755c7641f8b788f0662b0eb4b9",
       "value": -1
      }
     },
     "db164a9701a549b7bdecbb05d8f7a122": {
      "model_module": "@jupyter-widgets/base",
      "model_module_version": "1.0.0",
      "model_name": "LayoutModel",
      "state": {
       "width": "100%"
      }
     },
     "db1864e7be894b4cbf4747e2e0e8c899": {
      "model_module": "@jupyter-widgets/controls",
      "model_module_version": "1.1.0",
      "model_name": "DescriptionStyleModel",
      "state": {
       "description_width": "initial"
      }
     },
     "dc07d02ef34f442c885ed43760f7e332": {
      "model_module": "@jupyter-widgets/controls",
      "model_module_version": "1.1.0",
      "model_name": "DescriptionStyleModel",
      "state": {
       "description_width": "initial"
      }
     },
     "dc750aafa5f6475f98957af4ba966e10": {
      "model_module": "@jupyter-widgets/base",
      "model_module_version": "1.0.0",
      "model_name": "LayoutModel",
      "state": {}
     },
     "dd54a5b842d74b67993a6f8f8089f301": {
      "model_module": "@jupyter-widgets/controls",
      "model_module_version": "1.1.0",
      "model_name": "ButtonModel",
      "state": {
       "icon": "refresh",
       "layout": "IPY_MODEL_cf19e5c76a2f462796af7d86fb8c04f4",
       "style": "IPY_MODEL_080f8e06cd74460f8759eb9cb6c6f0ca"
      }
     },
     "ddb2caaca8b04ed4844dda7673a71208": {
      "model_module": "@jupyter-widgets/controls",
      "model_module_version": "1.1.0",
      "model_name": "HBoxModel",
      "state": {
       "children": [
        "IPY_MODEL_94c94354c8fb4802935f0f80990a7791",
        "IPY_MODEL_f5b68a517e35415bb369216868497094"
       ],
       "layout": "IPY_MODEL_12136f3d7f804a4a94cf8a0cc9dd0cf7"
      }
     },
     "ddbb0d21a67f453ca64d65fb6cede410": {
      "model_module": "@jupyter-widgets/controls",
      "model_module_version": "1.1.0",
      "model_name": "ButtonModel",
      "state": {
       "icon": "refresh",
       "layout": "IPY_MODEL_0feba507e4004deab1855eeddcc3c2dc",
       "style": "IPY_MODEL_d11bbce6b213474a9aa035f6e618a7d2"
      }
     },
     "ddc79530e52a4f068ec0b6291eb5dfd8": {
      "model_module": "@jupyter-widgets/base",
      "model_module_version": "1.0.0",
      "model_name": "LayoutModel",
      "state": {}
     },
     "dde33d6e1aeb4f39918fa7e2b6d565f6": {
      "model_module": "@jupyter-widgets/controls",
      "model_module_version": "1.1.0",
      "model_name": "HBoxModel",
      "state": {
       "children": [
        "IPY_MODEL_308ef229d190411290fd4f06ce5a1176",
        "IPY_MODEL_00785c97b9794c4d9e9d6a324b15f05d"
       ],
       "layout": "IPY_MODEL_3b1df4f389fc45ae9344020ede426f35"
      }
     },
     "dded8bee12334a76ad4efd064b4eef95": {
      "model_module": "@jupyter-widgets/controls",
      "model_module_version": "1.1.0",
      "model_name": "FloatTextModel",
      "state": {
       "description": "Rightmost color maps to:",
       "layout": "IPY_MODEL_c552bd1502f440cd86490b13a9940355",
       "step": null,
       "style": "IPY_MODEL_07f26da9dafa47cf9911577ab49d76a6",
       "value": 1
      }
     },
     "de20d93d54f34899bcdd6139fee32c1a": {
      "model_module": "@jupyter-widgets/base",
      "model_module_version": "1.0.0",
      "model_name": "LayoutModel",
      "state": {}
     },
     "de832e3fe0544c4d8cf9956d9ec218e3": {
      "model_module": "@jupyter-widgets/base",
      "model_module_version": "1.0.0",
      "model_name": "LayoutModel",
      "state": {}
     },
     "de915e8137b4483f81c3076fa06feb84": {
      "model_module": "@jupyter-widgets/base",
      "model_module_version": "1.0.0",
      "model_name": "LayoutModel",
      "state": {
       "width": "100%"
      }
     },
     "dea21c692eaa418692d90039df15a09b": {
      "model_module": "@jupyter-widgets/controls",
      "model_module_version": "1.1.0",
      "model_name": "ButtonStyleModel",
      "state": {}
     },
     "deba4e9fdec748a7b75e9890fb6a4c9b": {
      "model_module": "@jupyter-widgets/controls",
      "model_module_version": "1.1.0",
      "model_name": "HBoxModel",
      "state": {
       "children": [
        "IPY_MODEL_bcdd943ac7e84749af260c9fb22e6105",
        "IPY_MODEL_8737ea05d4f74cf997c92e127c968b54"
       ],
       "layout": "IPY_MODEL_fdd81a85237b4dfe99652b9c393f1c65"
      }
     },
     "deddd6af26ba4ea1a7d2327c624afcd9": {
      "model_module": "@jupyter-widgets/controls",
      "model_module_version": "1.1.0",
      "model_name": "DescriptionStyleModel",
      "state": {
       "description_width": "initial"
      }
     },
     "dee2635f9cd04a508e322f81768d06dd": {
      "model_module": "@jupyter-widgets/base",
      "model_module_version": "1.0.0",
      "model_name": "LayoutModel",
      "state": {}
     },
     "def2310cc31f4b2796baf13e6a7bc7e8": {
      "model_module": "@jupyter-widgets/controls",
      "model_module_version": "1.1.0",
      "model_name": "VBoxModel",
      "state": {
       "children": [
        "IPY_MODEL_023fba05debc455995b4cf53880ddef2",
        "IPY_MODEL_bf834c46abd74b9a92b9fb00d98d6b2d",
        "IPY_MODEL_42326f40ea4140d6a9d6f682e86b64fd",
        "IPY_MODEL_e91b130a7cc349069f55e817c766a53d",
        "IPY_MODEL_8f2f94e08c1f40a1a99f1560e1d19770",
        "IPY_MODEL_b7e989616034439984f82e5e2c8c890d",
        "IPY_MODEL_7c680f86b73948c0ab7f22d1800ee8fe"
       ],
       "layout": "IPY_MODEL_b7d2d0f8cf0c4a2ebe3aadd15914b6ae"
      }
     },
     "dff71c4a5c1846b1ac7616105c3a4468": {
      "model_module": "@jupyter-widgets/controls",
      "model_module_version": "1.1.0",
      "model_name": "ButtonStyleModel",
      "state": {}
     },
     "e05855ffafd443eb80c19c7556a9c64f": {
      "model_module": "@jupyter-widgets/controls",
      "model_module_version": "1.1.0",
      "model_name": "HBoxModel",
      "state": {
       "children": [
        "IPY_MODEL_7bf270f650cc41e7a5094e0ccceb2855",
        "IPY_MODEL_6a4eb85c422744bbb3a7fe6d71e425f2"
       ],
       "layout": "IPY_MODEL_3a7ad00e151340aabd026e838e7afa23"
      }
     },
     "e0b7173f4cba4f51bb9b6eb960d377e3": {
      "model_module": "@jupyter-widgets/base",
      "model_module_version": "1.0.0",
      "model_name": "LayoutModel",
      "state": {
       "width": "100%"
      }
     },
     "e142de6fda9d41d5b2f7967f05725118": {
      "model_module": "@jupyter-widgets/controls",
      "model_module_version": "1.1.0",
      "model_name": "ButtonModel",
      "state": {
       "icon": "refresh",
       "layout": "IPY_MODEL_9c9a263ea2e849fd8687c7e90e47ec91",
       "style": "IPY_MODEL_6c8a371e1cdb46c782a8bb655b9a42c9"
      }
     },
     "e1e8453a3f554a8f971cae20c024ce3e": {
      "model_module": "@jupyter-widgets/controls",
      "model_module_version": "1.1.0",
      "model_name": "VBoxModel",
      "state": {
       "children": [
        "IPY_MODEL_b5da90872b2d4cac9c6b54bb8523644f",
        "IPY_MODEL_67b7fcc78b8044f0b3f1e5ce98f85054",
        "IPY_MODEL_3f9c90d8626847cd89133f16c0432f2e",
        "IPY_MODEL_409b55a3513945cc9758bfdd0eab83a1",
        "IPY_MODEL_47bacda24cb442d5b0fd56c31bdabf67",
        "IPY_MODEL_15688ad27b53402a8990086b911b1493",
        "IPY_MODEL_685d15562d9c4b589c518368ff092a4c"
       ],
       "layout": "IPY_MODEL_f13f1f1e987e417e9103be5b8f0680af"
      }
     },
     "e2a82a26eee14f0183895bc7a2e7b93a": {
      "model_module": "@jupyter-widgets/base",
      "model_module_version": "1.0.0",
      "model_name": "LayoutModel",
      "state": {}
     },
     "e34035a5fab346fa8258c384c94346fb": {
      "model_module": "@jupyter-widgets/controls",
      "model_module_version": "1.1.0",
      "model_name": "DescriptionStyleModel",
      "state": {
       "description_width": "initial"
      }
     },
     "e3da93a7fca44dbea49dbe864b0eb55f": {
      "model_module": "@jupyter-widgets/base",
      "model_module_version": "1.0.0",
      "model_name": "LayoutModel",
      "state": {}
     },
     "e3f7242fc5f74adba3057406162f4556": {
      "model_module": "@jupyter-widgets/controls",
      "model_module_version": "1.1.0",
      "model_name": "ButtonStyleModel",
      "state": {}
     },
     "e4a186e4443a4111864aaacfbe6b4a94": {
      "model_module": "@jupyter-widgets/base",
      "model_module_version": "1.0.0",
      "model_name": "LayoutModel",
      "state": {
       "width": "25%"
      }
     },
     "e4b59d5835d147fb8c861d271d255645": {
      "model_module": "@jupyter-widgets/controls",
      "model_module_version": "1.1.0",
      "model_name": "SelectModel",
      "state": {
       "_options_labels": [
        ""
       ],
       "description": "Features:",
       "index": 0,
       "layout": "IPY_MODEL_f0802e9b868c49128e61479dc2f3ef2f",
       "rows": 1,
       "style": "IPY_MODEL_8c501ff9f47c4948ad96bad4d39fcce5"
      }
     },
     "e4d08eefa3d947a6af920100b9535c92": {
      "model_module": "@jupyter-widgets/controls",
      "model_module_version": "1.1.0",
      "model_name": "DescriptionStyleModel",
      "state": {
       "description_width": "initial"
      }
     },
     "e5126bc477574f0b8f4e8aea2e0d3329": {
      "model_module": "@jupyter-widgets/controls",
      "model_module_version": "1.1.0",
      "model_name": "DescriptionStyleModel",
      "state": {
       "description_width": "initial"
      }
     },
     "e5379b14a3b14513ae0731a8fe18cce2": {
      "model_module": "@jupyter-widgets/controls",
      "model_module_version": "1.1.0",
      "model_name": "DescriptionStyleModel",
      "state": {
       "description_width": ""
      }
     },
     "e5912d51db2d4eedad06dba08cc04ed4": {
      "model_module": "@jupyter-widgets/controls",
      "model_module_version": "1.1.0",
      "model_name": "DescriptionStyleModel",
      "state": {
       "description_width": "initial"
      }
     },
     "e5ec2d0e6d7b4c569ed2a990ec16addc": {
      "model_module": "@jupyter-widgets/controls",
      "model_module_version": "1.1.0",
      "model_name": "ButtonStyleModel",
      "state": {}
     },
     "e61e43dce20e48bdb2cb178a01dbe6c7": {
      "model_module": "@jupyter-widgets/base",
      "model_module_version": "1.0.0",
      "model_name": "LayoutModel",
      "state": {}
     },
     "e6487f7f3b8f4bb8b1fde571afc897d0": {
      "model_module": "@jupyter-widgets/controls",
      "model_module_version": "1.1.0",
      "model_name": "LabelModel",
      "state": {
       "layout": "IPY_MODEL_056ea70f88b74b5ab33766b87565b0fe",
       "style": "IPY_MODEL_a7718aba95614d49b90b887a14ed3c6b",
       "value": "of 0"
      }
     },
     "e6ada7a346be4101b3f5690b0e2bed2a": {
      "model_module": "@jupyter-widgets/controls",
      "model_module_version": "1.1.0",
      "model_name": "FloatSliderModel",
      "state": {
       "continuous_update": false,
       "description": "Zoom",
       "layout": "IPY_MODEL_71c8426f46af43a58dcbb7ada2408831",
       "max": 3,
       "min": 0.5,
       "step": 0.1,
       "style": "IPY_MODEL_99ebe4299a334b48b3edefefde72556b",
       "value": 1
      }
     },
     "e6b05a5185364b1086f512ee5cb048d1": {
      "model_module": "@jupyter-widgets/base",
      "model_module_version": "1.0.0",
      "model_name": "LayoutModel",
      "state": {
       "width": "100px"
      }
     },
     "e8acefde065b4e3d9116b725a2c82e7c": {
      "model_module": "@jupyter-widgets/output",
      "model_module_version": "1.1.0",
      "model_name": "OutputModel",
      "state": {
       "_model_module_version": "1.1.0",
       "_view_module_version": "1.1.0",
       "layout": "IPY_MODEL_c49c570e945343218551248721e87ee0"
      }
     },
     "e91b130a7cc349069f55e817c766a53d": {
      "model_module": "@jupyter-widgets/controls",
      "model_module_version": "1.1.0",
      "model_name": "HTMLModel",
      "state": {
       "layout": "IPY_MODEL_de20d93d54f34899bcdd6139fee32c1a",
       "style": "IPY_MODEL_9cefac3b8251433bb7dbb44455af436b",
       "value": "<img src=\"data:image/gif;base64,R0lGODdhLAEZAIcAAH8AAP///wAAAAAAAAAAAAAAAAAAAAAAAAAAAAAAAAAAAAAAAAAAAAAAAAAAAAAAAAAAAAAAAAAAAAAAAAAAAAAAAAAAAAAAAAAAAAAAAAAAAAAAAAAAAAAAAAAAAAAAAAAAAAAAAAAAAAAAAAAAAAAAAAAAAAAAAAAAAAAAAAAAAAAAAAAAAAAAAAAAAAAAAAAAAAAAAAAAAAAAAAAAAAAAAAAAAAAAAAAAAAAAAAAAAAAAAAAAAAAAAAAAAAAAAAAAAAAAAAAAAAAAAAAAAAAAAAAAAAAAAAAAAAAAAAAAAAAAAAAAAAAAAAAAAAAAAAAAAAAAAAAAAAAAAAAAAAAAAAAAAAAAAAAAAAAAAAAAAAAAAAAAAAAAAAAAAAAAAAAAAAAAAAAAAAAAAAAAAAAAAAAAAAAAAAAAAAAAAAAAAAAAAAAAAAAAAAAAAAAAAAAAAAAAAAAAAAAAAAAAAAAAAAAAAAAAAAAAAAAAAAAAAAAAAAAAAAAAAAAAAAAAAAAAAAAAAAAAAAAAAAAAAAAAAAAAAAAAAAAAAAAAAAAAAAAAAAAAAAAAAAAAAAAAAAAAAAAAAAAAAAAAAAAAAAAAAAAAAAAAAAAAAAAAAAAAAAAAAAAAAAAAAAAAAAAAAAAAAAAAAAAAAAAAAAAAAAAAAAAAAAAAAAAAAAAAAAAAAAAAAAAAAAAAAAAAAAAAAAAAAAAAAAAAAAAAAAAAAAAAAAAAAAAAAAAAAAAAAAAAAAAAAAAAAAAAAAAAAAAAAAAAAAAAAAAAAAAAAAAAAAAAAAAAAAAAAAAAAAAAAAAAAAAAAAAAAAAAAAAAAAAAAAAAAAAAAAAAAAAAAAAAAAAAAAAAAAAAAAAAAAAAAAAAAAAAAAAAAAAAAAAAAAAAAAAAAAAAAAAAAAAAAAAAAAAAAAAAAAAAAAAAAAAAAAAAAAAAAAAAAAAAAAAAAAAAAAAAAAAAAAAAAAAAAAAAAAAAAAAAAAAAAAAAAAAAAAAAAAAAAAAAAAAAAAAAAAAAACwAAAAALAEZAEAI/wADCBxIsKDBgwgTKlzIsKHDhxAjSpxIsaLFixgBBAAAIAAAAAEAAAgAAEAAAAACAAAQAACAAAAABAAAIAAAAAEAAAgAAEAAAAACAAAQAACAAAAABAAAIAAAAAEAAAgAAEAAAAACAAAQAACAAAAABAAAIAAAAAEAAAgAAEAAAAACAAAQAACAAAAABAAAIAAAAAEAAAgAAEAAAAACAAAQAACAAAAABAAAIAAAAAEAAAgAAEAAAAACAAAQAACAAAAABAAAIAAAAAEAAAgAAEAAAAACAAAQAACAAAAABAAAIAAAAAEAAAgAAEAAAAACAAAQAACAAAAABAAAIAAAAAEAAP8IAABAAAAAAgAAEAAAgAAAAAQAACAAAAABAAAIAABAAIAAAAQAACAAAAABAAAIAABAAAAAAgAAEAAAgAAAAAQAACAAAAABAAAIAABAAAAAAgAAEAAAgAAAAAQAACAAAAABAAAIAABAAAAAAgAAEAAAgAAAAAQAACAAAAABAAAIAABAAAAAAgAAEAAAgAAAAAQAACAAAAABAAAIAABAAAAAAgAAEAAAgAAAAAQAACAAAAABAAAIAABAAAAAAgAAEAAAgAAAAAQAACAAAAABAAAIAABAAAAAAgAAEAAAgAAAAAQAACAAAAABAAAIAABAAAAAAgAAEAAAgAAAAAQAACD/AAAAAQAACAAAQAAAAAIAABAAAIAAAAAEAAAgAAAAAQAACAAAQAAAAAIAABAAAIAAAAAEAAAgAAAAAQAACAAAAMAAAAAEAAAgAAAAAQAACAAAQAAAAAIAABAAAIAAAAAEAAAgAAAAAQAACAAAQAAAAAIAABAAAIAAAAAEAAAgAAAAAQAACAAAQAAAAAIAABAAAIAAAAAEAAAgAAAAAQAACAAAQAAAAAIAABAAAIAAAAAEAAAgAAAAAQAACAAAQAAAAAIACGD3Lt68evfy7ev3L+DAggcTLmz4MOLEihczBhAAAIAAAAAEAAAgAAAAAQAACAAAQAAAAAIAABAAAIAA/wAABAAAIAAAAAEAAAgAAEAAAAACAAAQAACAAAAABAAAIAAAAAEAAAgAAEAAAAACAAAQAACAAAAABAAAIAAAAAEAAAgAAEAAAAACAAAQAACAAAAABAAAIAAAAAEAAAgAACCAAAAABAAAIAAAAAEAAAgAAEAAAAACAAAQAACAAAAABAAAIAAAAAEAAAgAAEAAAAACAAAQAACAAAAABAAAIAAAAAEAAAgAAEAAAAACAAAQAACAAAAABAAAIAAAAAEAAAgAAEAAAAACAAAQAACAAAAABAAAIAAAAAEAAAgAAEAAAAACAAAQAACAAAAABAAAIAAAAAEAAAgAAEAAAAACAP8AEAAAgAAAAAQAACAAAAABAAAIAABAAAAAAgAAEAAAgAAAAAQAACAAAAABAAAIAABAAAAAAgAAEAAAgAAAAAQAACAAAAABAAAIAABAAAAAAgAAEAAAgAAAAAQAACAAAAABAAAIAABAAAAAAgAAEAAAgAAAAAQAACAAAAABAAAIABAAgAAAAAQAACAAAAABAAAIAABAAAAAAgAAEAAAgAAAAAQAACAAAAABAAAIAABAAAAAAgAAEAAAgAAAAAQAACAAAAABAAAIAABAAAAAAgAAEAAAgAAAAAQAACAAAAABAAAIAABAAAAAAgAAEAAAgAAAAAQAACAAAAABAAAIAAD/QAAAAAIAABAAAIAAAAAEAAAgAAAAAQAACAAAQAAAAAIAABAAAIAAAAAEAAAgAAAAAQAACAAAQAAAAAIAABAAAIAAAAAEAAAgAAAAAQAACAAAQAAAAAIAABAAAIAAAAAEAAAgAAAAAQAACAAAQAAAAAIAABAAAIAAAAAEAAAgAAAAAQAACAAAQAAAAAIAABAAAIAAAAAEAAAgAAAAAQAAABgAAIAAAAAEAAAgAAAAAQAACAAAQAAAAAIAABAAAIAAAAAEAAAgAAAAAQAACAAAQAAAAAIAABAAAIAAAAAEAAAgAAAAAQAACAAAQAAAAAIAABAAAIAAAAAEAAAgAAAA/wEAAAgAAEAAAAACAAAQAACAAAAABAAAIAAAAAEAAAgAAEAAAAACAAAQAACAAAAABAAAIAAAAAEAAAgAAEAAAAACAAAQAACAAAAABAAAIAAAAAEAAAgAAEAAAAACAAAQAACAAAAABAAAIAAAAAEAAAgAAEAAAAACAAAQAACAAAAABAAAIAAAAAEAAAgAAEAAAAACAAAQAACAAAAABAAAIAAAAAEAAAgAAEAAAAACAAAQAACAAAAABAAAIAAAAAEAAAQQAACAAAAABAAAIAAAAAEAAAgAAEAAAAACAAAQAACAAAAABAAAIAAAAAEAAAgAAEAAAAACAAAQAACAAAAABP8AACAAAAABAAAIAABAAAAAAgAAEAAAgAAAAAQAACAAAAABAAAIAABAAAAAAgAAEAAAgAAAAAQAACAAAAABAAAIAABAAAAAAgAAEAAAgAAAAAQAACAAAAABAAAIAABAAAAAAgAAEAAAgAAAAAQAACAAAAABAAAIAABAAAAAAgAAEAAAgAAAAAQAACAAAAABAAAIAABAAAAAAgAAEAAAgAAAAAQAACAAAAABAAAIAABAAAAAAgAAEAAAgAAAAAQAACAAAAABAAAIAABAAAAAAgAAEAAAgAAAAAQAACAAAAABAAIAEAAAgAAAAAQAACAAAAABAAAIAABAAAAAAgAAEAD/AIAAAAAEAAAgAAAAAQAACAAAQAAAAAIAABAAAIAAAAAEAAAgAAAAAQAACAAAQAAAAAIAABAAAIAAAAAEAAAgAAAAAQAACAAAQAAAAAIAABAAAIAAAAAEAAAgAAAAAQAACAAAQAAAAAIAABAAAIAAAAAEAAAgAAAAAQAACAAAQAAAAAIAABAAAIAAAAAEAAAgAAAAAQAACAAAQAAAAAIAABAAAIAAAAAEAAAgAAAAAQAACAAAQAAAAAIAABAAAIAAAAAEAAAgAAAAAQAACAAAQAAAAAIAABAAAIAAAAAEAAAgAAAAAQAACAAAQAAAAAIAABAAAIAAAAAEAAAgAAAA/wADAAAQAACAAAAABAAAIAAAAAEAAAgAAEAAAAACAAAQAACAAAAABAAAIAAAAAEAAAgAAEAAAAACAAAQAACAAAAABAAAIAAAAAEAAAgAAEAAAAACAAAQAACAAAAABAAAIAAAAAEAAAgAAEAAAAACAAAQAACAAAAABAAAIAAAAAEAAAgAAEAAAAACAAAQAACAAAAABAAAIAAAAAEAAAgAAEAAAAACAAAQAACAAAAABAAAIAAAAAEAAAgAAEAAAAACAAAQAACAAAAABAAAIAAAAAEAAAgAAEAAAAACAAAQAACAAAAABAAAIAAAAAEAAAgAAEAAAAACAAAQAACAAAAABP8AACAAAAABAAAIAABAAAAAAgAAEAAAgAAAAAQAACAAAIAAAgAAEAAAgAAAAAQAACAAAAABAAAIAABAAAAAAgAAEAAAgAAAAAQAACAAAAABAAAIAABAAAAAAgAAEAAAgAAAAAQAACAAAAABAAAIAABAAAAAAgAAEAAAgAAAAAQAACAAAAABAAAIAABAAAAAAgAAEAAAgAAAAAQAACAAAAABAAAIAABAAAAAAgAAEAAAgAAAAAQAACAAAAABAAAIAABAAAAAAgAAEAAAgAAAAAQAACAAAAABAAAIAABAAAAAAgAAEAAAgAAAAAQAACAAAAABAAAIAABAAAAAAgAAEAD/AIAAAAAEAAAgAAAAAQAACAAAQAAAAAIAABAAAIAAAAAEAAAgAAAAAQAACAAAQAAAAAIAABAAAIAAAAAEAAAgAEAAAAIAABAAAIAAAAAEAAAgAAAAAQAACAAAQAAAAAIAABAAAIAAAAAEAAAgAAAAAQAACAAAQAAAAAIAABAAAIAAAAAEAAAgAAAAAQAACAAAQAAAAAIAABAAAIAAAAAEAAAgAAAAAQAACAAAQAAAAAIAABAAAIAAAAAEAAAgAAAAAQAACAAAQAAAAAIAABAAAIAAAAAEAAAgAAAAAQAACAAAQAAAAAIAABAAAIAAAAAEAAAgAAAAAQAACAAAQAAA/wACAAAQAACAAAAABAAAIAAAAAEAAAgAAEAAAAACAAAQAACAAAAABAAAIAAAAAEAAAgAAEAAAAACAAAQAACAAAAABAAAIAAAAAEAAAgAAEAAAAACAAAQAACAAAAABAAAAGAAAAACAAAQAACAAAAABAAAIAAAAAEAAAgAAEAAAAACAAAQAACAAAAABAAAIAAAAAEAAAgAAEAAAAACAAAQAACAAAAABAAAIAAAAAEAAAgAAEAAAAACAAAQAACAAAAABAAAIAAAAAEAAAgAAEAAAAACAAAQAACAAAAABAAAIAAAAAEAAAgAAEAAAAACAAAQAACAAAAABAAAIAAAAAEAAP8IAABAAAAAAgAAEAAAgAAAAAQAACAAAAABAAAIAABAAAAAAgAAEAAAgAAAAAQAACAAAAABAAAIAABAAAAAAgAAEAAAgAAAAAQAACAAAAABAAAIAABAAAAAAgAAEAAAgAAAAAQAACAAAAABAAAIAABAAAAAAgAAEAAAgAAAAAQAABBAAAAAAgAAEAAAgAAAAAQAACAAAAABAAAIAABAAAAAAgAAEAAAgAAAAAQAACAAAAABAAAIAABAAAAAAgAAEAAAgAAAAAQAACAAAAABAAAIAABAAAAAAgAAEAAAgAAAAAQAACAAAAABAAAIAABAAAAAAgAAEAAAgAAAAAQAACD/AAAAAQAACAAAQAAAAAIAABAAAIAAAAAEAAAgAAAAAQAACAAAQAAAAAIAABAAAIAAAAAEAAAgAAAAAQAACAAAQAAAAAIAABAAAIAAAAAEAAAgAAAAAQAACAAAQAAAAAIAABAAAIAAAAAEAAAgAAAAAQAACAAAQAAAAAIAABAAAIAAAAAEAAAgAAAAAQAACAAAQAAAAAIAABAAAIAAAAAEAAgAQAAAAAIAABAAAIAAAAAEAAAgAAAAAQAACAAAQAAAAAIAABAAAIAAAAAEAAAgAAAAAQAACAAAQAAAAAIAABAAAIAAAAAEAAAgAAAAAQAACAAAQAAAAAIAABAAAIAA/wAABAAAIAAAAAEAAAgAAEAAAAACAAAQAACAAAAABAAAIAAAAAEAAAgAAEAAAAACAAAQAACAAAAABAAAIAAAAAEAAAgAAEAAAAACAAAQAACAAAAABAAAIAAAAAEAAAgAAEAAAAACAAAQAACAAAAABAAAIAAAAAEAAAgAAEAAAAACAAAQAACAAAAABAAAIAAAAAEAAAgAAEAAAAACAAAQAACAAAAABAAAIAAAAAEAAAgAAEAAAAACAAAQAACAAAAAAAwAAEAAAAACAAAQAACAAAAABAAAIAAAAAEAAAgAAEAAAAACAAAQAACAAAAABAAAIAAAAAEAAAgAAEAAAAACAP8AEAAAgAAAAAQAACAAAAABAAAIAABAAAAAAgAAEAAAgAAAAAQAACAAAAABAAAIAABAAAAAAgAAEAAAgAAAAAQAACAAAAABAAAIAABAAAAAAgAAEAAAgAAAAAQAACAAAAABAAAIAABAAAAAAgAAEAAAgAAAAAQAACAAAAABAAAIAABAAAAAAgAAEAAAgAAAAAQAACAAAAABAAAIAABAAAAAAgAAEAAAgAAAAAQAACAAAAABAAAIAABAAAAAAgAAEAAAgAAAAAQAACAAAAABAAAIAABAAAAAAgAAEAAAgAAAAAIIAABAAAAAAgAAEAAAgAAAAAQAACAAAAABAAAIAAD/QAAAAAIAABAAAIAAAAAEAAAgAAAAAQAACAAAQAAAAAIAABAAAIAAAAAEAAAgAAAAAQAACAAAQAAAAAIAABAAAIAAAAAEAAAgAAAAAQAACAAAQAAAAAIAABAAAIAAAAAEAAAgAAAAAQAACAAAQAAAAAIAABAAAIAAAAAEAAAgAAAAAQAACAAAQAAAAAIAABAAAIAAAAAEAAAgAAAAAQAACAAAQAAAAAIAABAAAIAAAAAEAAAgAAAAAQAACAAAQAAAAAIAABAAAIAAAAAEAAAgAAAAAQAACAAAQAAAAAIAABAAAIAAAAAEAAAgAAAAAQAACAAAQAAAAAIAABAAAIAA/wABAAgAAEAAAAACAAAQAACAAAAABAAAIAAAAAEAAAgAAEAAAAACAAAQAACAAAAABAAAIAAAAAEAAAgAAEAAAAACAAAQAACAAAAABAAAIAAAAAEAAAgAAEAAAAACAAAQAACAAAAABAAAIAAAAAEAAAgAAEAAAAACAAAQAACAAAAABAAAIAAAAAEAAAgAAEAAAAACAAAQAACAAAAABAAAIAAAAAEAAAgAAEAAAAACAAAQAACAAAAABAAAIAAAAAEAAAgAAEAAAAACAAAQAACAAAAABAAAIAAAAAEAAAgAAEAAAAACAAAQAACAAAAABAAAIAAAAAEAAAgAAEAAAAACAP8AEAAAgAAAAAQAACAAAAABAAAIAABAAAAAAgAAEAAAAIABAAAIAABAAAAAAgAAEAAAgAAAAAQAACAAAAABAAAIAABAAAAAAgAAEAAAgAAAAAQAACAAAAABAAAIAABAAAAAAgAAEAAAgAAAAAQAACAAAAABAAAIAABAAAAAAgAAEAAAgAAAAAQAACAAAAABAAAIAABAAAAAAgAAEAAAgAAAAAQAACAAAAABAAAIAABAAAAAAgAAEAAAgAAAAAQAACAAAAABAAAIAABAAAAAAgAAEAAAgAAAAAQAACAAAAABAAAIAABAAAAAAgAAEAAAgAAAAAQAACAAAAABAAAIAAD/QAAAAAIAABAAAIAAAAAEAAAgAAAAAQAACAAAQAAAAAIAABAAAIAAAAAEAAAgAAAAAQAACAAAQAAAAAIAABAAAEAAAQAACAAAQAAAAAIAABAAAIAAAAAEAAAgAAAAAQAACAAAQAAAAAIAABAAAIAAAAAEAAAgAAAAAQAACAAAQAAAAAIAABAAAIAAAAAEAAAgAAAAAQAACAAAQAAAAAIAABAAAIAAAAAEAAAgAAAAAQAACAAAQAAAAAIAABAAAIAAAAAEAAAgAAAAAQAACAAAQAAAAAIAABAAAIAAAAAEAAAgAAAAAQAACAAAQAAAAAIAABAAAIAAAAAEAAAgAAAA/wEAAAgAAEAAAAACAAAQAACAAAAABAAAIAAAAAEAAAgAAEAAAAACAAAQAACAAAAABAAAIAAAAAEAAAgAAEAAAAACAAAQAACAAAAABAAAIAAAAAEAAAgAAEAAAAACAAAQACAAAAEAAAgAAEAAAAACAAAQAACAAAAABAAAIAAAAAEAAAgAAEAAAAACAAAQAACAAAAABAAAIAAAAAEAAAgAAEAAAAACAAAQAACAAAAABAAAIAAAAAEAAAgAAEAAAAACAAAQAACAAAAABAAAIAAAAAEAAAgAAEAAAAACAAAQAACAAAAABAAAIAAAAAEAAAgAAEAAAAACAAAQAACAAAAABP8AACAAAAABAAAIAABAAAAAAgAAEAAAgAAAAAQAACAAAAABAAAIAABAAAAAAgAAEAAAgAAAAAQAACAAAAABAAAIAABAAAAAAgAAEAAAgAAAAAQAACAAAAABAAAIAABAAAAAAgAAEAAAgAAAAAQAACAAAAABAAAIAABAAAAAAgAAADAAAAABAAAIAABAAAAAAgAAEAAAgAAAAAQAACAAAAABAAAIAABAAAAAAgAAEAAAgAAAAAQAACAAAAABAAAIAABAAAAAAgAAEAAAgAAAAAQAACAAAAABAAAIAABAAAAAAgAAEAAAgAAAAAQAACAAAAABAAAIAABAAAAAAgAAEAD/AIAAAAAEAAAgAAAAAQAACAAAQAAAAAIAABAAAIAAAAAEAAAgAAAAAQAACAAAQAAAAAIAABAAAIAAAAAEAAAgAAAAAQAACAAAQAAAAAIAABAAAIAAAAAEAAAgAAAAAQAACAAAQAAAAAIAABAAAIAAAAAEAAAgAAAAAQAACAAAQAAAAAIAABAAAIAAAAAEAAAgAAAAAQAACAAAQAAAAAIAAAggAAAAAQAACAAAQAAAAAIAABAAAIAAAAAEAAAgAAAAAQAACAAAQAAAAAIAABAAAIAAAAAEAAAgAAAAAQAACAAAQAAAAAIAABAAAIAAAAAEAAAgAAAAAQAACAAAQAAA/wACAAAQAACAAAAABAAAIAAAAAEAAAgAAEAAAAACAAAQAACAAAAABAAAIAAAAAEAAAgAAEAAAAACAAAQAACAAAAABAAAIAAAAAEAAAgAAEAAAAACAAAQAACAAAAABAAAIAAAAAEAAAgAAEAAAAACAAAQAACAAAAABAAAIAAAAAEAAAgAAEAAAAACAAAQAACAAAAABAAAIAAAAAEAAAgAAEAAAAACAAAQAACAAAAABAAAIAAAAAEAAAgAAEAAAAACAAQAIAAAAAEAAAgAAEAAAAACAAAQAACAAAAABAAAIAAAAAEAAAgAAEAAAAACAAAQAACAAAAABAAAIAAAAAEAAP8IAABAAAAAAgAAEAAAgAAAAAQAACAAAAABAAAIAABAAAAAAgAAEAAAgAAAAAQAACAAAAABAAAIAABAAAAAAgAAEAAAgAAAAAQAACAAAAABAAAIAABAAAAAAgAAEAAAgAAAAAQAACAAAAABAAAIAABAAAAAAgAAEAAAgAAAAAQAACAAAAABAAAIAABAAAAAAgAAEAAAgAAAAAQAACAAAAABAAAIAABAAAAAAgAAEAAAgAAAAAQAACAAAAABAAAIAABAAAAAAgAAEAAAgAAAAAQAACAAAAABAAAIAABAAAAAAAYAACAAAAABAAAIAABAAAAAAgAAEAAAgAAAAAQAACD/AAAAAQAACAAAQAAAAAIAABAAAIAAAAAEAAAgAAAAAQAACAAAQAAAAAIAABAAAIAAAAAEAAAgAAAAAQAACAAAQAAAAAIAABAAAIAAAAAEAAAgAAAAAQAACAAAQAAAAAIAABAAAIAAAAAEAAAgAAAAAQAACAAAQAAAAAIAABAAAIAAAAAEAAAgAAAAAQAACAAAQAAAAAIAABAAAIAAAAAEAAAgAAAAAQAACAAAQAAAAAIAABAAAIAAAAAEAAAgAAAAAQAACAAAQAAAAAIAABAAAIAAAAAEAAAgAAAAAQAACAAAQAAAAAIAABAAAIAAAAAEAAAgAAAAAQAACAAAQAAA/wABBAAAIAAAAAEAAAgAAEAAAAACAAAQAACAAAAABAAAIAAAAAEAAAgAAEAAAAACAAAQAACAAAAABAAAIAAAAAEAAAgAAEAAAAACAAAQAACAAAAABAAAIAAAAAEAAAgAAEAAAAACAAAQAACAAAAABAAAIAAAAAEAAAgAAEAAAAACAAAQAACAAAAABAAAIAAAAAEAAAgAAEAAAAACAAAQAACAAAAABAAAIAAAAAEAAAgAAEAAAAACAAAQAACAAAAABAAAIAAAAAEAAAgAAEAAAAACAAAQAACAAAAABAAAIAAAAAEAAAgAAEAAAAACAAAQAACAAAAABAAAIAAAAAEAAP8IAABAAAAAAgAAEAAAgAAAAAQAACAAAAABAAAIAABAAIAAAAQAACAAAAABAAAIAABAAAAAAgAAEAAAgAAAAAQAACAAAAABAAAIAABAAAAAAgAAEAAAgAAAAAQAACAAAAABAAAIAABAAAAAAgAAEAAAgAAAAAQAACAAAAABAAAIAABAAAAAAgAAEAAAgAAAAAQAACAAAAABAAAIAABAAAAAAgAAEAAAgAAAAAQAACAAAAABAAAIAABAAAAAAgAAEAAAgAAAAAQAACAAAAABAAAIAABAAAAAAgAAEAAAgAAAAAQAACAAAAABAAAIAABAAAAAAgAAEAAAgAAAAAQAACD/AAAAAQAACAAAQAAAAAIAABAAAIAAAAAEAAAgAAAAAQAACAAAQAAAAAIAABAAAIAAAAAEAAAgAAAAAQAACAAAAMAAAAAEAAAgAAAAAQAACAAAQAAAAAIAABAAAIAAAAAEAAAgAAAAAQAACAAAQAAAAAIAABBAAIAAAgAEEAAggAAAAQQACCAAQAABAAIIABBAAIAAAgAEEAAggAAAAQQACCAAQAABAAIIABBAAIAAAgAEEAAggAAAAQQACCAAQAABAAIIABBAAIAAAgAEEAAggAAAAQQACCAAQAABAAIIABBAAIAAAgAEEAAggAAAAQQACCAAQAABAAIIABBAAIAAyAIABBAAIIAAAAEEAAggAEAAAQACCAAQQACAAAIABBAAIIAAAAEEAAggAEAAAQACCAAQQACAAAIABBAAIIAAAAEEAAggAEAAAQACCAAQQACAAAIABBAAIIAAAAEEAAggACCAAAIABBAAIIAAAAEEAAggAEAAAQACCAAQQACAAAIABBAAIIAAAAEEAAggAEAAAQACCAAQQACAAAIABBAAIIAAAAEEAAggAEAAAQACCAAQQACAAAIABBAAIIAAAAEEAAggAEAAAQEBADs=\"/>"
      }
     },
     "e94cecb9f84f4cce9e3a195bbe4d5117": {
      "model_module": "@jupyter-widgets/controls",
      "model_module_version": "1.1.0",
      "model_name": "HBoxModel",
      "state": {
       "children": [
        "IPY_MODEL_58147d1a2a604a99bb98ac39d897db81",
        "IPY_MODEL_5964a38b0786482abb2b15993484a4eb"
       ],
       "layout": "IPY_MODEL_379e877cc8a146359946a5cb61a45160"
      }
     },
     "e94f0e9d93f04ff9b6018e6aa40e1366": {
      "model_module": "@jupyter-widgets/controls",
      "model_module_version": "1.1.0",
      "model_name": "IntTextModel",
      "state": {
       "description": "Vertical space between layers:",
       "layout": "IPY_MODEL_ccfe54dd20874d649b9bdfb37cde34a6",
       "step": 1,
       "style": "IPY_MODEL_a8656a0ee8d140c7a0f15a2615576d3c",
       "value": 30
      }
     },
     "e9606a18df9f44aa9e3e021d393ce31e": {
      "model_module": "@jupyter-widgets/controls",
      "model_module_version": "1.1.0",
      "model_name": "VBoxModel",
      "state": {
       "children": [
        "IPY_MODEL_b624e78ff2304fed9e643416c3aaf442",
        "IPY_MODEL_38022f3fdd2f432ea095879d23e5ed20",
        "IPY_MODEL_b1a07368c7c74b3aa888aecf464b9f75",
        "IPY_MODEL_285186c2c53c41d8b09572d4b7357f7a",
        "IPY_MODEL_261cb46bf5334ab9a95b4c8868fcee50",
        "IPY_MODEL_3bc74df98e964a8bbbed9dca4414f825",
        "IPY_MODEL_5bc3830b6e49455d98d90a0d5996fcc9"
       ],
       "layout": "IPY_MODEL_5a43ffd2d0ef4a5c9ed369d5744599a1"
      }
     },
     "e97f1c15b78e4269b3025333f8f51d95": {
      "model_module": "@jupyter-widgets/controls",
      "model_module_version": "1.1.0",
      "model_name": "DescriptionStyleModel",
      "state": {
       "description_width": ""
      }
     },
     "e980da27f1af4c86b81dc3795d315bdc": {
      "model_module": "@jupyter-widgets/base",
      "model_module_version": "1.0.0",
      "model_name": "LayoutModel",
      "state": {}
     },
     "e9a03fb5cd084c4496b03b6befa388ea": {
      "model_module": "@jupyter-widgets/controls",
      "model_module_version": "1.1.0",
      "model_name": "FloatTextModel",
      "state": {
       "description": "Rightmost color maps to:",
       "layout": "IPY_MODEL_29f93ffc90d14d918a77290ef7eccf64",
       "step": null,
       "style": "IPY_MODEL_5ac4e512799c4688a66946694ecbb7ac",
       "value": 1
      }
     },
     "ea81994de07443d289989dc80eb7b6e7": {
      "model_module": "@jupyter-widgets/controls",
      "model_module_version": "1.1.0",
      "model_name": "LabelModel",
      "state": {
       "layout": "IPY_MODEL_54535ace815a41dd95a31049db3b751f",
       "style": "IPY_MODEL_5a604395fc814c96b469e484e42854d9",
       "value": "of 4"
      }
     },
     "eae8e1880df84ef9b58e171b94c81865": {
      "model_module": "@jupyter-widgets/base",
      "model_module_version": "1.0.0",
      "model_name": "LayoutModel",
      "state": {}
     },
     "eb265a60d3014c3dafe1ad7157d9754d": {
      "model_module": "@jupyter-widgets/base",
      "model_module_version": "1.0.0",
      "model_name": "LayoutModel",
      "state": {}
     },
     "eb434e38eb424380aeae7fe72d13b43a": {
      "model_module": "@jupyter-widgets/base",
      "model_module_version": "1.0.0",
      "model_name": "LayoutModel",
      "state": {}
     },
     "eb7c1a87efec4f58a067c9522c5773b9": {
      "model_module": "@jupyter-widgets/controls",
      "model_module_version": "1.1.0",
      "model_name": "IntTextModel",
      "state": {
       "description": "Horizontal space between banks:",
       "layout": "IPY_MODEL_95db0e01eb584c99bae3de01d0e37529",
       "step": 1,
       "style": "IPY_MODEL_698da7e27cf543ac8fd0c464f2fd1a1a",
       "value": 150
      }
     },
     "ebec195cfcbd498384d2a7ba31f48831": {
      "model_module": "@jupyter-widgets/base",
      "model_module_version": "1.0.0",
      "model_name": "LayoutModel",
      "state": {}
     },
     "ec4bd483ec6746349b7fe25bc784245c": {
      "model_module": "@jupyter-widgets/controls",
      "model_module_version": "1.1.0",
      "model_name": "VBoxModel",
      "state": {
       "children": [
        "IPY_MODEL_54c516c7ff584dc1969a7c20e39b4e3c",
        "IPY_MODEL_0ecd3ae008c44a3ca20a99af715bce2f",
        "IPY_MODEL_97fee80315b84b5395307a8291e1deca",
        "IPY_MODEL_027937c2924f4b95aa7256b7647ac7db",
        "IPY_MODEL_ddb2caaca8b04ed4844dda7673a71208",
        "IPY_MODEL_fd53ec14aaeb4837b1e14f4a15e62020",
        "IPY_MODEL_436fba9b27d54f5f9928242c29d66c79",
        "IPY_MODEL_8d17e75e87384a57ba79dca1f7d5b0ff"
       ],
       "layout": "IPY_MODEL_12956ee5bbee487985baf6f3bcbe1cc8"
      }
     },
     "ecee3d733f8c4357811c85b86f4d2508": {
      "model_module": "@jupyter-widgets/controls",
      "model_module_version": "1.1.0",
      "model_name": "FloatTextModel",
      "state": {
       "description": "Rightmost color maps to:",
       "layout": "IPY_MODEL_4f9354c634b14dd188c66ecd8649bf6e",
       "step": null,
       "style": "IPY_MODEL_dc07d02ef34f442c885ed43760f7e332",
       "value": 1
      }
     },
     "ed2d965de54e4ed184fadaefc6027bb7": {
      "model_module": "@jupyter-widgets/controls",
      "model_module_version": "1.1.0",
      "model_name": "ButtonModel",
      "state": {
       "description": "Play",
       "icon": "play",
       "layout": "IPY_MODEL_c31b56d7eceb40ed8e33ed9f518b28f5",
       "style": "IPY_MODEL_f274b7313425414f9ee3933574c9e255"
      }
     },
     "ed6211458a7e4063be88e6a0192d3592": {
      "model_module": "@jupyter-widgets/controls",
      "model_module_version": "1.1.0",
      "model_name": "DescriptionStyleModel",
      "state": {
       "description_width": "initial"
      }
     },
     "eddb83ba3cb9411fbee0aadb40c572b2": {
      "model_module": "@jupyter-widgets/controls",
      "model_module_version": "1.1.0",
      "model_name": "CheckboxModel",
      "state": {
       "description": "Show Targets",
       "disabled": false,
       "layout": "IPY_MODEL_efdd914eb90c4ff1a0a5d4522778eed5",
       "style": "IPY_MODEL_c1d036d7c0dd482ba21d37d1884d6e33",
       "value": false
      }
     },
     "ee57ac7f7b1d49cb92c9fdab25bdd4e8": {
      "model_module": "@jupyter-widgets/controls",
      "model_module_version": "1.1.0",
      "model_name": "FloatTextModel",
      "state": {
       "description": "Feature scale:",
       "layout": "IPY_MODEL_d5b5cf4441ad4a7bb74e894728f43c2c",
       "step": null,
       "style": "IPY_MODEL_c9408786f0154276a8a581d92224674c",
       "value": 2
      }
     },
     "ee8de22b96ab4e1ba0b71bd50788659a": {
      "model_module": "@jupyter-widgets/controls",
      "model_module_version": "1.1.0",
      "model_name": "SelectModel",
      "state": {
       "_options_labels": [
        "input1",
        "hidden1",
        "output1"
       ],
       "description": "Layer:",
       "index": 2,
       "layout": "IPY_MODEL_c7fcc92633f74e718a8707283abd478e",
       "rows": 1,
       "style": "IPY_MODEL_b0a11c0fe36949c2a9a39bf060872b45"
      }
     },
     "eeac0c304a0b4b5387503f00ec61295d": {
      "model_module": "@jupyter-widgets/controls",
      "model_module_version": "1.1.0",
      "model_name": "CheckboxModel",
      "state": {
       "description": "Visible",
       "disabled": false,
       "layout": "IPY_MODEL_0169d3a3fc6f45a9a227e73e7898c690",
       "style": "IPY_MODEL_1b38e791573641319e6b2b54f7e55161",
       "value": true
      }
     },
     "eecb1733c508483c8676187b69e976e9": {
      "model_module": "@jupyter-widgets/controls",
      "model_module_version": "1.1.0",
      "model_name": "FloatTextModel",
      "state": {
       "description": "Leftmost color maps to:",
       "layout": "IPY_MODEL_13bc42ad0d65473da444dbdd9b08b108",
       "step": null,
       "style": "IPY_MODEL_0e45f51a1dcb4e339a21267499929601",
       "value": -1
      }
     },
     "eee673a692bb4f94a1d9fd90ddaaf256": {
      "model_module": "@jupyter-widgets/controls",
      "model_module_version": "1.1.0",
      "model_name": "ButtonStyleModel",
      "state": {}
     },
     "ef2fa2b857da4bb1ad499beea424f7f3": {
      "model_module": "@jupyter-widgets/controls",
      "model_module_version": "1.1.0",
      "model_name": "DescriptionStyleModel",
      "state": {
       "description_width": "initial"
      }
     },
     "ef45f6c0622343e7bddcb25c4d05f1ec": {
      "model_module": "@jupyter-widgets/controls",
      "model_module_version": "1.1.0",
      "model_name": "HBoxModel",
      "state": {
       "children": [
        "IPY_MODEL_79407dab2d6a4dbe9126de5c31661feb",
        "IPY_MODEL_8be87eb5581449939194173ef56b1514"
       ],
       "layout": "IPY_MODEL_33af42986729411daf58a0afd40da43b"
      }
     },
     "ef4ce1a187e14969a2ee05472d1229d8": {
      "model_module": "@jupyter-widgets/controls",
      "model_module_version": "1.1.0",
      "model_name": "IntTextModel",
      "state": {
       "description": "Feature to show:",
       "layout": "IPY_MODEL_166399eb24c74445b0307186cc6768c9",
       "step": 1,
       "style": "IPY_MODEL_c84874573abe400fbba0ab8029263b1e"
      }
     },
     "efa39ea2f7b343a5bce0ac8a96e53ea7": {
      "model_module": "@jupyter-widgets/controls",
      "model_module_version": "1.1.0",
      "model_name": "DescriptionStyleModel",
      "state": {
       "description_width": "initial"
      }
     },
     "efc484755c7641f8b788f0662b0eb4b9": {
      "model_module": "@jupyter-widgets/controls",
      "model_module_version": "1.1.0",
      "model_name": "DescriptionStyleModel",
      "state": {
       "description_width": "initial"
      }
     },
     "efdd914eb90c4ff1a0a5d4522778eed5": {
      "model_module": "@jupyter-widgets/base",
      "model_module_version": "1.0.0",
      "model_name": "LayoutModel",
      "state": {}
     },
     "f016338d4cc344bdb4d10229c6f29588": {
      "model_module": "@jupyter-widgets/controls",
      "model_module_version": "1.1.0",
      "model_name": "HTMLModel",
      "state": {
       "layout": "IPY_MODEL_cde7e7d789dd4b50b4dcf22188c17b81",
       "style": "IPY_MODEL_8b575e8a64c24edfa3fee322d3bfa7cc",
       "value": "<img src=\"data:image/gif;base64,R0lGODdhLAEZAIcAAP///wAAAAAAAAAAAAAAAAAAAAAAAAAAAAAAAAAAAAAAAAAAAAAAAAAAAAAAAAAAAAAAAAAAAAAAAAAAAAAAAAAAAAAAAAAAAAAAAAAAAAAAAAAAAAAAAAAAAAAAAAAAAAAAAAAAAAAAAAAAAAAAAAAAAAAAAAAAAAAAAAAAAAAAAAAAAAAAAAAAAAAAAAAAAAAAAAAAAAAAAAAAAAAAAAAAAAAAAAAAAAAAAAAAAAAAAAAAAAAAAAAAAAAAAAAAAAAAAAAAAAAAAAAAAAAAAAAAAAAAAAAAAAAAAAAAAAAAAAAAAAAAAAAAAAAAAAAAAAAAAAAAAAAAAAAAAAAAAAAAAAAAAAAAAAAAAAAAAAAAAAAAAAAAAAAAAAAAAAAAAAAAAAAAAAAAAAAAAAAAAAAAAAAAAAAAAAAAAAAAAAAAAAAAAAAAAAAAAAAAAAAAAAAAAAAAAAAAAAAAAAAAAAAAAAAAAAAAAAAAAAAAAAAAAAAAAAAAAAAAAAAAAAAAAAAAAAAAAAAAAAAAAAAAAAAAAAAAAAAAAAAAAAAAAAAAAAAAAAAAAAAAAAAAAAAAAAAAAAAAAAAAAAAAAAAAAAAAAAAAAAAAAAAAAAAAAAAAAAAAAAAAAAAAAAAAAAAAAAAAAAAAAAAAAAAAAAAAAAAAAAAAAAAAAAAAAAAAAAAAAAAAAAAAAAAAAAAAAAAAAAAAAAAAAAAAAAAAAAAAAAAAAAAAAAAAAAAAAAAAAAAAAAAAAAAAAAAAAAAAAAAAAAAAAAAAAAAAAAAAAAAAAAAAAAAAAAAAAAAAAAAAAAAAAAAAAAAAAAAAAAAAAAAAAAAAAAAAAAAAAAAAAAAAAAAAAAAAAAAAAAAAAAAAAAAAAAAAAAAAAAAAAAAAAAAAAAAAAAAAAAAAAAAAAAAAAAAAAAAAAAAAAAAAAAAAAAAAAAAAAAAAAAAAAAAAAAAAAAAAAAAAAAAAAAAAAAAAAAAAAAAAAAAAAAAAAAAAAAAAAAAAAAAAAAAAAAAAAAAAACwAAAAALAEZAEAIjAABCBxIsKDBgwgTKlzIsKHDhxAjSpxIsaLFixgzatzIsaPHjyBDihxJsqTJkyhTqlzJsqXLlzBjypxJs6bNmzhz6tzJs6fPn0CDCh1KtKjRo0iTKl3KtKnTp1CjSp1KtarVq1izat3KtavXr2DDih1LtqzZs2jTql3Ltq3bt3Djyp1Lt67du3jz3g0IADs=\"/>"
      }
     },
     "f0802e9b868c49128e61479dc2f3ef2f": {
      "model_module": "@jupyter-widgets/base",
      "model_module_version": "1.0.0",
      "model_name": "LayoutModel",
      "state": {}
     },
     "f0bcc14edb3141ab95d95465058a50b3": {
      "model_module": "@jupyter-widgets/controls",
      "model_module_version": "1.1.0",
      "model_name": "FloatTextModel",
      "state": {
       "description": "Leftmost color maps to:",
       "layout": "IPY_MODEL_1fcd2f58c8334677a1e965c4feb585cf",
       "step": null,
       "style": "IPY_MODEL_7499bda11d444b7c85e1dc992e5cd485",
       "value": -1
      }
     },
     "f0ee8b1b539f45f1998ca4a02e37a8a8": {
      "model_module": "@jupyter-widgets/controls",
      "model_module_version": "1.1.0",
      "model_name": "DescriptionStyleModel",
      "state": {
       "description_width": "initial"
      }
     },
     "f118c9c4ac7c4532bf7026b715d7cff6": {
      "model_module": "@jupyter-widgets/controls",
      "model_module_version": "1.1.0",
      "model_name": "VBoxModel",
      "state": {
       "children": [
        "IPY_MODEL_b3a1acbd8b424fde8500cd22df5de7a7",
        "IPY_MODEL_e6ada7a346be4101b3f5690b0e2bed2a",
        "IPY_MODEL_0aaca10a35524d7681f9b0b1366e6771",
        "IPY_MODEL_a0e100755dbf48209d6bbf98e0b0ff76",
        "IPY_MODEL_deba4e9fdec748a7b75e9890fb6a4c9b",
        "IPY_MODEL_1d57314b536e4fdcbc8aa34e1ee2f45b",
        "IPY_MODEL_31550ce486b04f97803480682553afe8",
        "IPY_MODEL_b31400c3e21e497b961d85a6a0520b65"
       ],
       "layout": "IPY_MODEL_283c98482a524e4aab85941d39faf694"
      }
     },
     "f11f925caa2c453b9c87a454420284d2": {
      "model_module": "@jupyter-widgets/controls",
      "model_module_version": "1.1.0",
      "model_name": "LabelModel",
      "state": {
       "layout": "IPY_MODEL_f4e44adc20884b6e8cc9dd27ccf59d67",
       "style": "IPY_MODEL_4cb07862c38a49a8a97be8622560e2d2",
       "value": "of 0"
      }
     },
     "f13f1f1e987e417e9103be5b8f0680af": {
      "model_module": "@jupyter-widgets/base",
      "model_module_version": "1.0.0",
      "model_name": "LayoutModel",
      "state": {
       "width": "100%"
      }
     },
     "f152e003edc047b0bc9d59830eb4efc7": {
      "model_module": "@jupyter-widgets/controls",
      "model_module_version": "1.1.0",
      "model_name": "ButtonStyleModel",
      "state": {}
     },
     "f16a10b9c58c4209adc2466c786993e6": {
      "model_module": "@jupyter-widgets/controls",
      "model_module_version": "1.1.0",
      "model_name": "FloatSliderModel",
      "state": {
       "continuous_update": false,
       "description": "Zoom",
       "layout": "IPY_MODEL_8f48a0cc85104ffbb4aa901d312ff0fc",
       "max": 3,
       "min": 0.5,
       "step": 0.1,
       "style": "IPY_MODEL_030e971045464d2192e2bc23f08483a2",
       "value": 1
      }
     },
     "f17110c9f0ff4422a6cfdc9010c1aede": {
      "model_module": "@jupyter-widgets/base",
      "model_module_version": "1.0.0",
      "model_name": "LayoutModel",
      "state": {}
     },
     "f1fa4ba38f514bb2a5f070489b6004c3": {
      "model_module": "@jupyter-widgets/controls",
      "model_module_version": "1.1.0",
      "model_name": "DescriptionStyleModel",
      "state": {
       "description_width": "initial"
      }
     },
     "f200b774289b4a01b613744b27e58bbe": {
      "model_module": "@jupyter-widgets/base",
      "model_module_version": "1.0.0",
      "model_name": "LayoutModel",
      "state": {
       "width": "100%"
      }
     },
     "f2499957e2d3470589a615a4bda799ef": {
      "model_module": "@jupyter-widgets/controls",
      "model_module_version": "1.1.0",
      "model_name": "AccordionModel",
      "state": {
       "_titles": {
        "0": "XOR Network"
       },
       "children": [
        "IPY_MODEL_43bf1c1b6ccb49388709ed79d013cbde"
       ],
       "layout": "IPY_MODEL_c0ba435863204684b10dbbcc71e18f15",
       "selected_index": null
      }
     },
     "f274b7313425414f9ee3933574c9e255": {
      "model_module": "@jupyter-widgets/controls",
      "model_module_version": "1.1.0",
      "model_name": "ButtonStyleModel",
      "state": {}
     },
     "f37249a9c166481fa5436d4cf6fa3126": {
      "model_module": "@jupyter-widgets/base",
      "model_module_version": "1.0.0",
      "model_name": "LayoutModel",
      "state": {}
     },
     "f42317cc60ef49b1b15f065b9be9d982": {
      "model_module": "@jupyter-widgets/base",
      "model_module_version": "1.0.0",
      "model_name": "LayoutModel",
      "state": {}
     },
     "f475a4241c8747dfa713daccfedffd2a": {
      "model_module": "@jupyter-widgets/base",
      "model_module_version": "1.0.0",
      "model_name": "LayoutModel",
      "state": {
       "width": "100%"
      }
     },
     "f4e44adc20884b6e8cc9dd27ccf59d67": {
      "model_module": "@jupyter-widgets/base",
      "model_module_version": "1.0.0",
      "model_name": "LayoutModel",
      "state": {
       "width": "100px"
      }
     },
     "f5821bdfdfd04918ba46af5a6db53cd0": {
      "model_module": "@jupyter-widgets/base",
      "model_module_version": "1.0.0",
      "model_name": "LayoutModel",
      "state": {}
     },
     "f5a295486eef42b48f8d150f71f9b0ab": {
      "model_module": "@jupyter-widgets/controls",
      "model_module_version": "1.1.0",
      "model_name": "DescriptionStyleModel",
      "state": {
       "description_width": "initial"
      }
     },
     "f5b68a517e35415bb369216868497094": {
      "model_module": "@jupyter-widgets/controls",
      "model_module_version": "1.1.0",
      "model_name": "CheckboxModel",
      "state": {
       "description": "Errors",
       "disabled": false,
       "layout": "IPY_MODEL_a8347632723543fab2507dee46c04d36",
       "style": "IPY_MODEL_75991e3b0a9e4ac882d966cb107a9271",
       "value": false
      }
     },
     "f5c75bf37e1d4db0a3dd41ded5194949": {
      "model_module": "@jupyter-widgets/controls",
      "model_module_version": "1.1.0",
      "model_name": "DescriptionStyleModel",
      "state": {
       "description_width": "initial"
      }
     },
     "f60237fe6f9b440fb8f22c0b20b61270": {
      "model_module": "@jupyter-widgets/controls",
      "model_module_version": "1.1.0",
      "model_name": "ButtonModel",
      "state": {
       "icon": "forward",
       "layout": "IPY_MODEL_753d14574cf24171bf130c0cb53e72bf",
       "style": "IPY_MODEL_1b24960823f64a698440e27e740e87f7"
      }
     },
     "f63570b4ca7149ee9ae70be31f32b362": {
      "model_module": "@jupyter-widgets/controls",
      "model_module_version": "1.1.0",
      "model_name": "DescriptionStyleModel",
      "state": {
       "description_width": "initial"
      }
     },
     "f680098180364f5889531254cb88285a": {
      "model_module": "@jupyter-widgets/controls",
      "model_module_version": "1.1.0",
      "model_name": "VBoxModel",
      "state": {
       "children": [
        "IPY_MODEL_7b3a1282ec9f49389ce697c828f77f15",
        "IPY_MODEL_88141b883f5943a484d806191473152e",
        "IPY_MODEL_acf0ea88af1741d59cb382a33b1325d7",
        "IPY_MODEL_1e997a2609184bbaa39067e3386a060f",
        "IPY_MODEL_dad311219b4a4b37b5ccb89b75aeaa36",
        "IPY_MODEL_dded8bee12334a76ad4efd064b4eef95",
        "IPY_MODEL_ef4ce1a187e14969a2ee05472d1229d8"
       ],
       "layout": "IPY_MODEL_48297e8208bb41729d4a0b26228ab491"
      }
     },
     "f6a10a86e9ca46478b44db28f306a6c6": {
      "model_module": "@jupyter-widgets/controls",
      "model_module_version": "1.1.0",
      "model_name": "ButtonModel",
      "state": {
       "icon": "forward",
       "layout": "IPY_MODEL_547e74af66a440958aa03a3a6f0f0bfb",
       "style": "IPY_MODEL_a6c5c7ba457d4e4ca4af106689ba82a5"
      }
     },
     "f6dd51414afc48aba3c6054260d3de77": {
      "model_module": "@jupyter-widgets/controls",
      "model_module_version": "1.1.0",
      "model_name": "VBoxModel",
      "state": {
       "children": [
        "IPY_MODEL_13a47d92d4694db2bfe4a4b157bacd64",
        "IPY_MODEL_f16a10b9c58c4209adc2466c786993e6",
        "IPY_MODEL_6ac74a79d83f4590a8558e76dda9ca6a",
        "IPY_MODEL_522fda636c704979862ef0034b217872",
        "IPY_MODEL_0ba2fce43c4d4e97b361834192d0aaaa",
        "IPY_MODEL_e4b59d5835d147fb8c861d271d255645",
        "IPY_MODEL_26027aca481f440bbe039acefba51b00",
        "IPY_MODEL_7ff66aefd7ec491190b69e310b420db8"
       ],
       "layout": "IPY_MODEL_93eeafdd13c343708ecf023e5ae5976a"
      }
     },
     "f6e0ac6fdcf742428e3ba59195435956": {
      "model_module": "@jupyter-widgets/base",
      "model_module_version": "1.0.0",
      "model_name": "LayoutModel",
      "state": {
       "width": "100%"
      }
     },
     "f7256b4793c5437e9eb15285242119ca": {
      "model_module": "@jupyter-widgets/base",
      "model_module_version": "1.0.0",
      "model_name": "LayoutModel",
      "state": {
       "width": "100%"
      }
     },
     "f73401bf741044a0aabea720fa26e633": {
      "model_module": "@jupyter-widgets/controls",
      "model_module_version": "1.1.0",
      "model_name": "ButtonModel",
      "state": {
       "icon": "fast-backward",
       "layout": "IPY_MODEL_5cce0293b02c4f0383094102a0aa2ee6",
       "style": "IPY_MODEL_31091b68052b4df791520da2ffa043b0"
      }
     },
     "f772c817d82b4403a30c9935052936c1": {
      "model_module": "@jupyter-widgets/controls",
      "model_module_version": "1.1.0",
      "model_name": "HBoxModel",
      "state": {
       "children": [
        "IPY_MODEL_5c36e71da3c54a7bbd3a2e22755d7b3e",
        "IPY_MODEL_4b295a92022444e9a29e816eed1cdff1"
       ],
       "layout": "IPY_MODEL_9ddc4adb688547d28c1b83b595bd8894"
      }
     },
     "f783eb9146694dd68cd89f88e1425880": {
      "model_module": "@jupyter-widgets/controls",
      "model_module_version": "1.1.0",
      "model_name": "SliderStyleModel",
      "state": {
       "description_width": ""
      }
     },
     "f7899cf8d65c43309bf8136dc9fc09d2": {
      "model_module": "@jupyter-widgets/controls",
      "model_module_version": "1.1.0",
      "model_name": "ButtonStyleModel",
      "state": {}
     },
     "f7940d41e23c4562a0c338b7dc28beb0": {
      "model_module": "@jupyter-widgets/controls",
      "model_module_version": "1.1.0",
      "model_name": "DescriptionStyleModel",
      "state": {
       "description_width": ""
      }
     },
     "f7a93c0ef9b04e30aa04a48da8caa597": {
      "model_module": "@jupyter-widgets/base",
      "model_module_version": "1.0.0",
      "model_name": "LayoutModel",
      "state": {}
     },
     "f7c01caf476c41a0af3be61641129d94": {
      "model_module": "@jupyter-widgets/base",
      "model_module_version": "1.0.0",
      "model_name": "LayoutModel",
      "state": {
       "height": "50px",
       "width": "100%"
      }
     },
     "f7db2ff396484059b6eed4bf154a3be7": {
      "model_module": "@jupyter-widgets/controls",
      "model_module_version": "1.1.0",
      "model_name": "DescriptionStyleModel",
      "state": {
       "description_width": ""
      }
     },
     "f8c3ce32c15c4bf8ba474033bd3930a7": {
      "model_module": "@jupyter-widgets/base",
      "model_module_version": "1.0.0",
      "model_name": "LayoutModel",
      "state": {}
     },
     "f8edd980458c479b94a0a8d132f18356": {
      "model_module": "@jupyter-widgets/controls",
      "model_module_version": "1.1.0",
      "model_name": "CheckboxModel",
      "state": {
       "description": "Show Targets",
       "disabled": false,
       "layout": "IPY_MODEL_95db0e01eb584c99bae3de01d0e37529",
       "style": "IPY_MODEL_ed6211458a7e4063be88e6a0192d3592",
       "value": false
      }
     },
     "f9165ca8b9fa4db397dbacc255bc3655": {
      "model_module": "@jupyter-widgets/base",
      "model_module_version": "1.0.0",
      "model_name": "LayoutModel",
      "state": {}
     },
     "f94fc49593af4f47862adb54d6196706": {
      "model_module": "@jupyter-widgets/base",
      "model_module_version": "1.0.0",
      "model_name": "LayoutModel",
      "state": {}
     },
     "f9a1db6a0f5e4f4895c7183045a6240c": {
      "model_module": "@jupyter-widgets/base",
      "model_module_version": "1.0.0",
      "model_name": "LayoutModel",
      "state": {
       "width": "100%"
      }
     },
     "f9e8ce9c59fb4453b7e62493708fd24b": {
      "model_module": "@jupyter-widgets/controls",
      "model_module_version": "1.1.0",
      "model_name": "IntTextModel",
      "state": {
       "layout": "IPY_MODEL_d45093c086ec4b7d86b41040be688778",
       "step": 1,
       "style": "IPY_MODEL_b335915f6b8f4bc6a19a35b193b8904c",
       "value": 3
      }
     },
     "fa3b54a5292b4a148218e263a0b17496": {
      "model_module": "@jupyter-widgets/controls",
      "model_module_version": "1.1.0",
      "model_name": "CheckboxModel",
      "state": {
       "description": "Errors",
       "disabled": false,
       "layout": "IPY_MODEL_0169d3a3fc6f45a9a227e73e7898c690",
       "style": "IPY_MODEL_ca825f88bd474cd098b6608e376644f9",
       "value": false
      }
     },
     "fa503e160acb4ed38d0bc21ce72c912b": {
      "model_module": "@jupyter-widgets/controls",
      "model_module_version": "1.1.0",
      "model_name": "DescriptionStyleModel",
      "state": {
       "description_width": ""
      }
     },
     "fa9365b4a1884a1380fe569d581e2bc5": {
      "model_module": "@jupyter-widgets/controls",
      "model_module_version": "1.1.0",
      "model_name": "DescriptionStyleModel",
      "state": {
       "description_width": ""
      }
     },
     "fb35b99c317a4c84b12bd7cba1501804": {
      "model_module": "@jupyter-widgets/base",
      "model_module_version": "1.0.0",
      "model_name": "LayoutModel",
      "state": {}
     },
     "fb39055b3c4f47fc88600d4be272f846": {
      "model_module": "@jupyter-widgets/controls",
      "model_module_version": "1.1.0",
      "model_name": "DescriptionStyleModel",
      "state": {
       "description_width": "initial"
      }
     },
     "fb4f21eaf4a04534a7afd8428dc013e1": {
      "model_module": "@jupyter-widgets/controls",
      "model_module_version": "1.1.0",
      "model_name": "CheckboxModel",
      "state": {
       "description": "Errors",
       "disabled": false,
       "layout": "IPY_MODEL_38270298e23147efb6a67eeaa247b18e",
       "style": "IPY_MODEL_c92618dfd3fd4b798b56b90c2ac6109b",
       "value": false
      }
     },
     "fb60032c1efb407b9cb8453c6812aa7c": {
      "model_module": "@jupyter-widgets/controls",
      "model_module_version": "1.1.0",
      "model_name": "ButtonStyleModel",
      "state": {}
     },
     "fc0eea8bfa8646ae9c3b75247b430ef8": {
      "model_module": "@jupyter-widgets/controls",
      "model_module_version": "1.1.0",
      "model_name": "SliderStyleModel",
      "state": {
       "description_width": ""
      }
     },
     "fc3ef0fae8c6495db217ff03161a95bf": {
      "model_module": "@jupyter-widgets/base",
      "model_module_version": "1.0.0",
      "model_name": "LayoutModel",
      "state": {
       "width": "100%"
      }
     },
     "fc7af29be7404aa19887f07da5bccdc0": {
      "model_module": "@jupyter-widgets/controls",
      "model_module_version": "1.1.0",
      "model_name": "ButtonStyleModel",
      "state": {}
     },
     "fc845f8cd4424df7add26174e9d9431d": {
      "model_module": "@jupyter-widgets/controls",
      "model_module_version": "1.1.0",
      "model_name": "VBoxModel",
      "state": {
       "children": [
        "IPY_MODEL_c042a95007fb43ed88040bd0409cdc00",
        "IPY_MODEL_b307f37e054f44918f3def4e250bd94d"
       ],
       "layout": "IPY_MODEL_34256888558e42e3b0fefdf99a0d5c24"
      }
     },
     "fc8cecf058a94f688f3a29370549a061": {
      "model_module": "@jupyter-widgets/controls",
      "model_module_version": "1.1.0",
      "model_name": "IntTextModel",
      "state": {
       "description": "Feature to show:",
       "layout": "IPY_MODEL_151620ab6de64deb95f9e88f60536f98",
       "step": 1,
       "style": "IPY_MODEL_a8d2ad06e4e64f43bd9379f431363af0"
      }
     },
     "fce29e569cf94d4e9138aae12c9b7f52": {
      "model_module": "@jupyter-widgets/controls",
      "model_module_version": "1.1.0",
      "model_name": "AccordionModel",
      "state": {
       "_titles": {
        "0": "XOR Network"
       },
       "children": [
        "IPY_MODEL_300c47b9c8534ba2ad8c12f7e0c011aa"
       ],
       "layout": "IPY_MODEL_bb575c34ff514de7817808ab606eeaee",
       "selected_index": null
      }
     },
     "fcf3610f40fd42d89c509d04e79f4a7d": {
      "model_module": "@jupyter-widgets/controls",
      "model_module_version": "1.1.0",
      "model_name": "VBoxModel",
      "state": {
       "children": [
        "IPY_MODEL_59e6413440ae4cb3bab64e67e871f0f7",
        "IPY_MODEL_606156e15f544be0bea5af55838f0937",
        "IPY_MODEL_80eee89ecf70407d94842bda1fadac3d",
        "IPY_MODEL_b7d1a29b932f4ba78906362afd0aac90"
       ],
       "layout": "IPY_MODEL_d5f636f8b5e049548d6eeb23f2c0af45"
      }
     },
     "fd53ec14aaeb4837b1e14f4a15e62020": {
      "model_module": "@jupyter-widgets/controls",
      "model_module_version": "1.1.0",
      "model_name": "SelectModel",
      "state": {
       "_options_labels": [
        ""
       ],
       "description": "Features:",
       "index": 0,
       "layout": "IPY_MODEL_695b265e51a24b8f86c71c58c268285b",
       "rows": 1,
       "style": "IPY_MODEL_2e09ca0f51c94a7ea661db8a63452564"
      }
     },
     "fdd81a85237b4dfe99652b9c393f1c65": {
      "model_module": "@jupyter-widgets/base",
      "model_module_version": "1.0.0",
      "model_name": "LayoutModel",
      "state": {}
     },
     "fe8ac7c68eb94b929e0d4e96a85c9528": {
      "model_module": "@jupyter-widgets/base",
      "model_module_version": "1.0.0",
      "model_name": "LayoutModel",
      "state": {
       "width": "100px"
      }
     },
     "fe914fcf196d41b39eda03fa225df364": {
      "model_module": "@jupyter-widgets/controls",
      "model_module_version": "1.1.0",
      "model_name": "ButtonModel",
      "state": {
       "icon": "refresh",
       "layout": "IPY_MODEL_1897eb42f0a74b3f90240065bedf6a5d",
       "style": "IPY_MODEL_b19c6a80dfe94b9b91dbc5e0c8c8f15a"
      }
     },
     "ff12008d9f494f73bd817e5a24627f99": {
      "model_module": "@jupyter-widgets/controls",
      "model_module_version": "1.1.0",
      "model_name": "IntTextModel",
      "state": {
       "description": "Horizontal space between banks:",
       "layout": "IPY_MODEL_efdd914eb90c4ff1a0a5d4522778eed5",
       "step": 1,
       "style": "IPY_MODEL_cde94f34aa6d4a82a49bb338809260e2",
       "value": 150
      }
     },
     "ff2bf4a69c6b4daa8b0b3b534e592733": {
      "model_module": "@jupyter-widgets/base",
      "model_module_version": "1.0.0",
      "model_name": "LayoutModel",
      "state": {
       "width": "100%"
      }
     },
     "ff2d126600274dd9b350b4b86b61eb35": {
      "model_module": "@jupyter-widgets/base",
      "model_module_version": "1.0.0",
      "model_name": "LayoutModel",
      "state": {}
     },
     "ff620c321f02417f920ea10302767c4b": {
      "model_module": "@jupyter-widgets/base",
      "model_module_version": "1.0.0",
      "model_name": "LayoutModel",
      "state": {}
     },
     "ffb3cc87a89449fdb0f9bdb543525b9b": {
      "model_module": "@jupyter-widgets/controls",
      "model_module_version": "1.1.0",
      "model_name": "VBoxModel",
      "state": {
       "children": [
        "IPY_MODEL_ee8de22b96ab4e1ba0b71bd50788659a",
        "IPY_MODEL_6a9022ae13ca4f3da03e4d3f15f9b59a",
        "IPY_MODEL_ac462a6fd2c347e69391c9202b28feaa",
        "IPY_MODEL_9d0ebc40799147f2b102cca1ddab6675",
        "IPY_MODEL_c77a462bd72049159c7fc26e530169f7",
        "IPY_MODEL_d1b9fa9c21904fe9835080ba4fd7a1c6",
        "IPY_MODEL_68ed05d4fa51484eab229f1464a06700"
       ],
       "layout": "IPY_MODEL_2e56376270ca4c02bd6a1e8b1efc04e8"
      }
     }
    },
    "version_major": 2,
    "version_minor": 0
   }
  }
 },
 "nbformat": 4,
 "nbformat_minor": 2
}
