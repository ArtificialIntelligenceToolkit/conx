{
 "cells": [
  {
   "cell_type": "markdown",
   "metadata": {},
   "source": [
    "# AlphaZero in Conx\n",
    "\n",
    "This notebook is based on:\n",
    "\n",
    "* https://applied-data.science/blog/how-to-build-your-own-alphazero-ai-using-python-and-keras/\n",
    "* https://github.com/AppliedDataSciencePartners/DeepReinforcementLearning\n",
    "\n",
    "This code use the new [conx](http://conx.readthedocs.io/en/latest/) layer that sits on top of Keras. Conx is designed to be simpler than Keras, more intuitive, and integrated visualizations.\n",
    "\n",
    "Currently this code requires the TensorFlow backend, as it has a function specific to TF."
   ]
  },
  {
   "cell_type": "markdown",
   "metadata": {},
   "source": [
    "## The Game\n",
    "\n",
    "First, let's look at a specific game. We can use many, but for this demonstration we'll pick COnnectFour. There is a good code base of different games and a game engine in Artificial Intelligence: A Modern Approach."
   ]
  },
  {
   "cell_type": "code",
   "execution_count": 24,
   "metadata": {},
   "outputs": [],
   "source": [
    "from aima3.games import ConnectFour, RandomPlayer, MCTSPlayer, QueryPlayer, Player\n",
    "import numpy as np"
   ]
  },
  {
   "cell_type": "markdown",
   "metadata": {},
   "source": [
    "Let's make a game:"
   ]
  },
  {
   "cell_type": "code",
   "execution_count": 2,
   "metadata": {},
   "outputs": [],
   "source": [
    "game = ConnectFour()"
   ]
  },
  {
   "cell_type": "markdown",
   "metadata": {},
   "source": [
    "and play a game between two random players:"
   ]
  },
  {
   "cell_type": "code",
   "execution_count": 3,
   "metadata": {},
   "outputs": [
    {
     "name": "stdout",
     "output_type": "stream",
     "text": [
      "R2 is thinking...\n",
      "R2 makes action (3, 1):\n",
      ". . . . . . . \n",
      ". . . . . . . \n",
      ". . . . . . . \n",
      ". . . . . . . \n",
      ". . . . . . . \n",
      ". . . . . . . \n",
      ". . X . . . . \n",
      "R1 is thinking...\n",
      "R1 makes action (6, 1):\n",
      ". . . . . . . \n",
      ". . . . . . . \n",
      ". . . . . . . \n",
      ". . . . . . . \n",
      ". . . . . . . \n",
      ". . . . . . . \n",
      ". . X . . O . \n",
      "R2 is thinking...\n",
      "R2 makes action (6, 2):\n",
      ". . . . . . . \n",
      ". . . . . . . \n",
      ". . . . . . . \n",
      ". . . . . . . \n",
      ". . . . . . . \n",
      ". . . . . X . \n",
      ". . X . . O . \n",
      "R1 is thinking...\n",
      "R1 makes action (3, 2):\n",
      ". . . . . . . \n",
      ". . . . . . . \n",
      ". . . . . . . \n",
      ". . . . . . . \n",
      ". . . . . . . \n",
      ". . O . . X . \n",
      ". . X . . O . \n",
      "R2 is thinking...\n",
      "R2 makes action (1, 1):\n",
      ". . . . . . . \n",
      ". . . . . . . \n",
      ". . . . . . . \n",
      ". . . . . . . \n",
      ". . . . . . . \n",
      ". . O . . X . \n",
      "X . X . . O . \n",
      "R1 is thinking...\n",
      "R1 makes action (2, 1):\n",
      ". . . . . . . \n",
      ". . . . . . . \n",
      ". . . . . . . \n",
      ". . . . . . . \n",
      ". . . . . . . \n",
      ". . O . . X . \n",
      "X O X . . O . \n",
      "R2 is thinking...\n",
      "R2 makes action (3, 3):\n",
      ". . . . . . . \n",
      ". . . . . . . \n",
      ". . . . . . . \n",
      ". . . . . . . \n",
      ". . X . . . . \n",
      ". . O . . X . \n",
      "X O X . . O . \n",
      "R1 is thinking...\n",
      "R1 makes action (5, 1):\n",
      ". . . . . . . \n",
      ". . . . . . . \n",
      ". . . . . . . \n",
      ". . . . . . . \n",
      ". . X . . . . \n",
      ". . O . . X . \n",
      "X O X . O O . \n",
      "R2 is thinking...\n",
      "R2 makes action (2, 2):\n",
      ". . . . . . . \n",
      ". . . . . . . \n",
      ". . . . . . . \n",
      ". . . . . . . \n",
      ". . X . . . . \n",
      ". X O . . X . \n",
      "X O X . O O . \n",
      "R1 is thinking...\n",
      "R1 makes action (5, 2):\n",
      ". . . . . . . \n",
      ". . . . . . . \n",
      ". . . . . . . \n",
      ". . . . . . . \n",
      ". . X . . . . \n",
      ". X O . O X . \n",
      "X O X . O O . \n",
      "R2 is thinking...\n",
      "R2 makes action (6, 3):\n",
      ". . . . . . . \n",
      ". . . . . . . \n",
      ". . . . . . . \n",
      ". . . . . . . \n",
      ". . X . . X . \n",
      ". X O . O X . \n",
      "X O X . O O . \n",
      "R1 is thinking...\n",
      "R1 makes action (6, 4):\n",
      ". . . . . . . \n",
      ". . . . . . . \n",
      ". . . . . . . \n",
      ". . . . . O . \n",
      ". . X . . X . \n",
      ". X O . O X . \n",
      "X O X . O O . \n",
      "R2 is thinking...\n",
      "R2 makes action (6, 5):\n",
      ". . . . . . . \n",
      ". . . . . . . \n",
      ". . . . . X . \n",
      ". . . . . O . \n",
      ". . X . . X . \n",
      ". X O . O X . \n",
      "X O X . O O . \n",
      "R1 is thinking...\n",
      "R1 makes action (7, 1):\n",
      ". . . . . . . \n",
      ". . . . . . . \n",
      ". . . . . X . \n",
      ". . . . . O . \n",
      ". . X . . X . \n",
      ". X O . O X . \n",
      "X O X . O O O \n",
      "R2 is thinking...\n",
      "R2 makes action (3, 4):\n",
      ". . . . . . . \n",
      ". . . . . . . \n",
      ". . . . . X . \n",
      ". . X . . O . \n",
      ". . X . . X . \n",
      ". X O . O X . \n",
      "X O X . O O O \n",
      "R1 is thinking...\n",
      "R1 makes action (5, 3):\n",
      ". . . . . . . \n",
      ". . . . . . . \n",
      ". . . . . X . \n",
      ". . X . . O . \n",
      ". . X . O X . \n",
      ". X O . O X . \n",
      "X O X . O O O \n",
      "R2 is thinking...\n",
      "R2 makes action (3, 5):\n",
      ". . . . . . . \n",
      ". . . . . . . \n",
      ". . X . . X . \n",
      ". . X . . O . \n",
      ". . X . O X . \n",
      ". X O . O X . \n",
      "X O X . O O O \n",
      "R1 is thinking...\n",
      "R1 makes action (2, 3):\n",
      ". . . . . . . \n",
      ". . . . . . . \n",
      ". . X . . X . \n",
      ". . X . . O . \n",
      ". O X . O X . \n",
      ". X O . O X . \n",
      "X O X . O O O \n",
      "R2 is thinking...\n",
      "R2 makes action (2, 4):\n",
      ". . . . . . . \n",
      ". . . . . . . \n",
      ". . X . . X . \n",
      ". X X . . O . \n",
      ". O X . O X . \n",
      ". X O . O X . \n",
      "X O X . O O O \n",
      "R1 is thinking...\n",
      "R1 makes action (5, 4):\n",
      ". . . . . . . \n",
      ". . . . . . . \n",
      ". . X . . X . \n",
      ". X X . O O . \n",
      ". O X . O X . \n",
      ". X O . O X . \n",
      "X O X . O O O \n",
      "***** R1 wins!\n"
     ]
    },
    {
     "data": {
      "text/plain": [
       "['R1']"
      ]
     },
     "execution_count": 3,
     "metadata": {},
     "output_type": "execute_result"
    }
   ],
   "source": [
    "game.play_game(RandomPlayer(\"R1\"), RandomPlayer(\"R2\"))"
   ]
  },
  {
   "cell_type": "markdown",
   "metadata": {},
   "source": [
    "We can also play a match (a bunch of games) or even a tournament between a bunch of players.\n",
    "\n",
    "```python\n",
    "game.play_matches(10, RandomPlayer(\"R1\"), RandomPlayer(\"R2\"))\n",
    "\n",
    "game.tournament(1, RandomPlayer(\"R1\"), RandomPlayer(\"R2\"))\n",
    "```"
   ]
  },
  {
   "cell_type": "markdown",
   "metadata": {},
   "source": [
    "## The Network\n",
    "\n",
    "Net, we are going to build the same kind of network described in the AlphaZero paper.\n",
    "\n",
    "We'll restrict our Keras backend to TensorFlow for now, as we have a function that is written at that level."
   ]
  },
  {
   "cell_type": "code",
   "execution_count": 4,
   "metadata": {},
   "outputs": [
    {
     "name": "stderr",
     "output_type": "stream",
     "text": [
      "Using TensorFlow backend.\n",
      "/usr/lib/python3.6/importlib/_bootstrap.py:219: RuntimeWarning: compiletime version 3.5 of module 'tensorflow.python.framework.fast_tensor_util' does not match runtime version 3.6\n",
      "  return f(*args, **kwds)\n",
      "conx, version 3.5.12\n"
     ]
    }
   ],
   "source": [
    "import conx as cx\n",
    "from keras import regularizers"
   ]
  },
  {
   "cell_type": "code",
   "execution_count": 5,
   "metadata": {},
   "outputs": [],
   "source": [
    "## NEED TO REWRITE THIS FUNCTION IN KERAS:\n",
    "\n",
    "import tensorflow as tf\n",
    "\n",
    "def softmax_cross_entropy_with_logits(y_true, y_pred):\n",
    "    p = y_pred\n",
    "    pi = y_true\n",
    "    zero = tf.zeros(shape = tf.shape(pi), dtype=tf.float32)\n",
    "    where = tf.equal(pi, zero)\n",
    "    negatives = tf.fill(tf.shape(pi), -100.0) \n",
    "    p = tf.where(where, negatives, p)\n",
    "    loss = tf.nn.softmax_cross_entropy_with_logits(labels = pi, logits = p)\n",
    "    return loss"
   ]
  },
  {
   "cell_type": "code",
   "execution_count": 6,
   "metadata": {},
   "outputs": [],
   "source": [
    "def add_conv_layer(net, input_layer):\n",
    "    cname = net.add(cx.Conv2DLayer(\"conv2d-%d\", \n",
    "                    filters=75, \n",
    "                    kernel_size=(4,4), \n",
    "                    data_format=\"channels_first\", \n",
    "                    padding='same', \n",
    "                    use_bias=False,\n",
    "                    activation='linear', \n",
    "                    kernel_regularizer=regularizers.l2(0.0001)))\n",
    "    bname = net.add(cx.BatchNormalizationLayer(\"batch-norm-%d\", axis=1))\n",
    "    lname = net.add(cx.LeakyReLULayer(\"leaky-relu-%d\"))\n",
    "    net.connect(input_layer, cname)\n",
    "    net.connect(cname, bname)\n",
    "    net.connect(bname, lname)\n",
    "    return lname\n",
    "\n",
    "def add_residual_layer(net, input_layer):\n",
    "    prev_layer = add_conv_layer(net, input_layer)\n",
    "    cname = net.add(cx.Conv2DLayer(\"conv2d-%d\",\n",
    "        filters=75,\n",
    "        kernel_size=(4,4),\n",
    "        data_format=\"channels_first\",\n",
    "        padding='same',\n",
    "        use_bias=False,\n",
    "        activation='linear',\n",
    "        kernel_regularizer=regularizers.l2(0.0001)))\n",
    "    bname = net.add(cx.BatchNormalizationLayer(\"batch-norm-%d\", axis=1))\n",
    "    aname = net.add(cx.AddLayer(\"add-%d\"))\n",
    "    lname = net.add(cx.LeakyReLULayer(\"leaky-relu-%d\"))\n",
    "    net.connect(prev_layer, cname)\n",
    "    net.connect(cname, bname)\n",
    "    net.connect(input_layer, aname)\n",
    "    net.connect(bname, aname)\n",
    "    net.connect(aname, lname)\n",
    "    return lname\n",
    "\n",
    "def add_value_head(net, input_layer):\n",
    "    l1 = net.add(cx.Conv2DLayer(\"conv2d-%d\",\n",
    "        filters=1,\n",
    "        kernel_size=(1,1),\n",
    "        data_format=\"channels_first\",\n",
    "        padding='same',\n",
    "        use_bias=False,\n",
    "        activation='linear',\n",
    "        kernel_regularizer=regularizers.l2(0.0001)))\n",
    "    l2 = net.add(cx.BatchNormalizationLayer(\"batch-norm-%d\", axis=1))\n",
    "    l3 = net.add(cx.LeakyReLULayer(\"leaky-relu-%d\"))\n",
    "    l4 = net.add(cx.FlattenLayer(\"flatten-%d\"))\n",
    "    l5 = net.add(cx.Layer(\"dense-%d\",\n",
    "        20,\n",
    "        use_bias=False,\n",
    "        activation='linear',\n",
    "        kernel_regularizer=regularizers.l2(0.0001)))\n",
    "    l6 = net.add(cx.LeakyReLULayer(\"leaky-relu-%d\"))\n",
    "    l7 = net.add(cx.Layer('value_head',\n",
    "        1,\n",
    "        use_bias=False,\n",
    "        activation='tanh',\n",
    "        kernel_regularizer=regularizers.l2(0.0001)))\n",
    "    net.connect(input_layer, l1)\n",
    "    net.connect(l1, l2)\n",
    "    net.connect(l2, l3)\n",
    "    net.connect(l3, l4)\n",
    "    net.connect(l4, l5)\n",
    "    net.connect(l5, l6)\n",
    "    net.connect(l6, l7)\n",
    "    return l7\n",
    "\n",
    "def add_policy_head(net, input_layer):\n",
    "    l1 = net.add(cx.Conv2DLayer(\"conv2d-%d\",\n",
    "        filters=2,\n",
    "        kernel_size=(1,1),\n",
    "        data_format=\"channels_first\",\n",
    "        padding='same',\n",
    "        use_bias=False,\n",
    "        activation='linear',\n",
    "        kernel_regularizer = regularizers.l2(0.0001)))\n",
    "    l2 = net.add(cx.BatchNormalizationLayer(\"batch-norm-%d\", axis=1))\n",
    "    l3 = net.add(cx.LeakyReLULayer(\"leaky-relu-%d\"))\n",
    "    l4 = net.add(cx.FlattenLayer(\"flatten-%d\"))\n",
    "    l5 = net.add(cx.Layer('policy_head',\n",
    "            42,\n",
    "            use_bias=False,\n",
    "            activation='linear',\n",
    "            kernel_regularizer=regularizers.l2(0.0001)))\n",
    "    net.connect(input_layer, l1)\n",
    "    net.connect(l1, l2)\n",
    "    net.connect(l2, l3)\n",
    "    net.connect(l3, l4)\n",
    "    net.connect(l4, l5)\n",
    "    return l5"
   ]
  },
  {
   "cell_type": "code",
   "execution_count": 7,
   "metadata": {},
   "outputs": [],
   "source": [
    "def make_network(residuals=5):\n",
    "    net = cx.Network(\"Residual CNN\")\n",
    "    net.add(cx.Layer(\"main_input\", (2, game.v, game.h)))\n",
    "    out_layer = add_conv_layer(net, \"main_input\")\n",
    "    for i in range(residuals):\n",
    "        out_layer = add_residual_layer(net, out_layer)\n",
    "    add_policy_head(net, out_layer)\n",
    "    add_value_head(net, out_layer)\n",
    "    net.compile(loss={'value_head': 'mean_squared_error', \n",
    "                  'policy_head': softmax_cross_entropy_with_logits},\n",
    "            optimizer=cx.SGD(lr=0.1, momentum=0.9),\n",
    "            loss_weights={'value_head': 0.5, \n",
    "                          'policy_head': 0.5})\n",
    "    return net"
   ]
  },
  {
   "cell_type": "code",
   "execution_count": 8,
   "metadata": {},
   "outputs": [],
   "source": [
    "net = make_network()"
   ]
  },
  {
   "cell_type": "code",
   "execution_count": 9,
   "metadata": {},
   "outputs": [
    {
     "name": "stdout",
     "output_type": "stream",
     "text": [
      "__________________________________________________________________________________________________\n",
      "Layer (type)                    Output Shape         Param #     Connected to                     \n",
      "==================================================================================================\n",
      "main_input (InputLayer)         (None, 2, 6, 7)      0                                            \n",
      "__________________________________________________________________________________________________\n",
      "conv2d-1 (Conv2D)               (None, 75, 6, 7)     2400        main_input[0][0]                 \n",
      "__________________________________________________________________________________________________\n",
      "batch-norm-1 (BatchNormalizatio (None, 75, 6, 7)     300         conv2d-1[0][0]                   \n",
      "__________________________________________________________________________________________________\n",
      "leaky-relu-1 (LeakyReLU)        (None, 75, 6, 7)     0           batch-norm-1[0][0]               \n",
      "__________________________________________________________________________________________________\n",
      "conv2d-2 (Conv2D)               (None, 75, 6, 7)     90000       leaky-relu-1[0][0]               \n",
      "__________________________________________________________________________________________________\n",
      "batch-norm-2 (BatchNormalizatio (None, 75, 6, 7)     300         conv2d-2[0][0]                   \n",
      "__________________________________________________________________________________________________\n",
      "leaky-relu-2 (LeakyReLU)        (None, 75, 6, 7)     0           batch-norm-2[0][0]               \n",
      "__________________________________________________________________________________________________\n",
      "conv2d-3 (Conv2D)               (None, 75, 6, 7)     90000       leaky-relu-2[0][0]               \n",
      "__________________________________________________________________________________________________\n",
      "batch-norm-3 (BatchNormalizatio (None, 75, 6, 7)     300         conv2d-3[0][0]                   \n",
      "__________________________________________________________________________________________________\n",
      "add-1 (Add)                     (None, 75, 6, 7)     0           leaky-relu-1[0][0]               \n",
      "                                                                 batch-norm-3[0][0]               \n",
      "__________________________________________________________________________________________________\n",
      "leaky-relu-3 (LeakyReLU)        (None, 75, 6, 7)     0           add-1[0][0]                      \n",
      "__________________________________________________________________________________________________\n",
      "conv2d-4 (Conv2D)               (None, 75, 6, 7)     90000       leaky-relu-3[0][0]               \n",
      "__________________________________________________________________________________________________\n",
      "batch-norm-4 (BatchNormalizatio (None, 75, 6, 7)     300         conv2d-4[0][0]                   \n",
      "__________________________________________________________________________________________________\n",
      "leaky-relu-4 (LeakyReLU)        (None, 75, 6, 7)     0           batch-norm-4[0][0]               \n",
      "__________________________________________________________________________________________________\n",
      "conv2d-5 (Conv2D)               (None, 75, 6, 7)     90000       leaky-relu-4[0][0]               \n",
      "__________________________________________________________________________________________________\n",
      "batch-norm-5 (BatchNormalizatio (None, 75, 6, 7)     300         conv2d-5[0][0]                   \n",
      "__________________________________________________________________________________________________\n",
      "add-2 (Add)                     (None, 75, 6, 7)     0           leaky-relu-3[0][0]               \n",
      "                                                                 batch-norm-5[0][0]               \n",
      "__________________________________________________________________________________________________\n",
      "leaky-relu-5 (LeakyReLU)        (None, 75, 6, 7)     0           add-2[0][0]                      \n",
      "__________________________________________________________________________________________________\n",
      "conv2d-6 (Conv2D)               (None, 75, 6, 7)     90000       leaky-relu-5[0][0]               \n",
      "__________________________________________________________________________________________________\n",
      "batch-norm-6 (BatchNormalizatio (None, 75, 6, 7)     300         conv2d-6[0][0]                   \n",
      "__________________________________________________________________________________________________\n",
      "leaky-relu-6 (LeakyReLU)        (None, 75, 6, 7)     0           batch-norm-6[0][0]               \n",
      "__________________________________________________________________________________________________\n",
      "conv2d-7 (Conv2D)               (None, 75, 6, 7)     90000       leaky-relu-6[0][0]               \n",
      "__________________________________________________________________________________________________\n",
      "batch-norm-7 (BatchNormalizatio (None, 75, 6, 7)     300         conv2d-7[0][0]                   \n",
      "__________________________________________________________________________________________________\n",
      "add-3 (Add)                     (None, 75, 6, 7)     0           leaky-relu-5[0][0]               \n",
      "                                                                 batch-norm-7[0][0]               \n",
      "__________________________________________________________________________________________________\n",
      "leaky-relu-7 (LeakyReLU)        (None, 75, 6, 7)     0           add-3[0][0]                      \n",
      "__________________________________________________________________________________________________\n",
      "conv2d-8 (Conv2D)               (None, 75, 6, 7)     90000       leaky-relu-7[0][0]               \n",
      "__________________________________________________________________________________________________\n",
      "batch-norm-8 (BatchNormalizatio (None, 75, 6, 7)     300         conv2d-8[0][0]                   \n",
      "__________________________________________________________________________________________________\n",
      "leaky-relu-8 (LeakyReLU)        (None, 75, 6, 7)     0           batch-norm-8[0][0]               \n",
      "__________________________________________________________________________________________________\n",
      "conv2d-9 (Conv2D)               (None, 75, 6, 7)     90000       leaky-relu-8[0][0]               \n",
      "__________________________________________________________________________________________________\n",
      "batch-norm-9 (BatchNormalizatio (None, 75, 6, 7)     300         conv2d-9[0][0]                   \n",
      "__________________________________________________________________________________________________\n",
      "add-4 (Add)                     (None, 75, 6, 7)     0           leaky-relu-7[0][0]               \n",
      "                                                                 batch-norm-9[0][0]               \n",
      "__________________________________________________________________________________________________\n",
      "leaky-relu-9 (LeakyReLU)        (None, 75, 6, 7)     0           add-4[0][0]                      \n",
      "__________________________________________________________________________________________________\n",
      "conv2d-10 (Conv2D)              (None, 75, 6, 7)     90000       leaky-relu-9[0][0]               \n",
      "__________________________________________________________________________________________________\n",
      "batch-norm-10 (BatchNormalizati (None, 75, 6, 7)     300         conv2d-10[0][0]                  \n",
      "__________________________________________________________________________________________________\n",
      "leaky-relu-10 (LeakyReLU)       (None, 75, 6, 7)     0           batch-norm-10[0][0]              \n",
      "__________________________________________________________________________________________________\n",
      "conv2d-11 (Conv2D)              (None, 75, 6, 7)     90000       leaky-relu-10[0][0]              \n",
      "__________________________________________________________________________________________________\n",
      "batch-norm-11 (BatchNormalizati (None, 75, 6, 7)     300         conv2d-11[0][0]                  \n",
      "__________________________________________________________________________________________________\n",
      "add-5 (Add)                     (None, 75, 6, 7)     0           leaky-relu-9[0][0]               \n",
      "                                                                 batch-norm-11[0][0]              \n",
      "__________________________________________________________________________________________________\n",
      "leaky-relu-11 (LeakyReLU)       (None, 75, 6, 7)     0           add-5[0][0]                      \n",
      "__________________________________________________________________________________________________\n",
      "conv2d-13 (Conv2D)              (None, 1, 6, 7)      75          leaky-relu-11[0][0]              \n",
      "__________________________________________________________________________________________________\n",
      "batch-norm-13 (BatchNormalizati (None, 1, 6, 7)      4           conv2d-13[0][0]                  \n",
      "__________________________________________________________________________________________________\n",
      "conv2d-12 (Conv2D)              (None, 2, 6, 7)      150         leaky-relu-11[0][0]              \n",
      "__________________________________________________________________________________________________\n",
      "leaky-relu-13 (LeakyReLU)       (None, 1, 6, 7)      0           batch-norm-13[0][0]              \n",
      "__________________________________________________________________________________________________\n",
      "batch-norm-12 (BatchNormalizati (None, 2, 6, 7)      8           conv2d-12[0][0]                  \n",
      "__________________________________________________________________________________________________\n",
      "flatten-2 (Flatten)             (None, 42)           0           leaky-relu-13[0][0]              \n",
      "__________________________________________________________________________________________________\n",
      "leaky-relu-12 (LeakyReLU)       (None, 2, 6, 7)      0           batch-norm-12[0][0]              \n",
      "__________________________________________________________________________________________________\n",
      "dense-1 (Dense)                 (None, 20)           840         flatten-2[0][0]                  \n",
      "__________________________________________________________________________________________________\n",
      "flatten-1 (Flatten)             (None, 84)           0           leaky-relu-12[0][0]              \n",
      "__________________________________________________________________________________________________\n",
      "leaky-relu-14 (LeakyReLU)       (None, 20)           0           dense-1[0][0]                    \n",
      "__________________________________________________________________________________________________\n",
      "policy_head (Dense)             (None, 42)           3528        flatten-1[0][0]                  \n",
      "__________________________________________________________________________________________________\n",
      "value_head (Dense)              (None, 1)            20          leaky-relu-14[0][0]              \n",
      "==================================================================================================\n",
      "Total params: 910,325\n",
      "Trainable params: 908,669\n",
      "Non-trainable params: 1,656\n",
      "__________________________________________________________________________________________________\n"
     ]
    }
   ],
   "source": [
    "net.model.summary()"
   ]
  },
  {
   "cell_type": "code",
   "execution_count": 10,
   "metadata": {},
   "outputs": [
    {
     "data": {
      "text/plain": [
       "51"
      ]
     },
     "execution_count": 10,
     "metadata": {},
     "output_type": "execute_result"
    }
   ],
   "source": [
    "len(net.layers)"
   ]
  },
  {
   "cell_type": "code",
   "execution_count": 11,
   "metadata": {
    "scrolled": true
   },
   "outputs": [
    {
     "data": {
      "application/javascript": [
       "\n",
       "require(['base/js/namespace'], function(Jupyter) {\n",
       "    Jupyter.notebook.kernel.comm_manager.register_target('conx_svg_control', function(comm, msg) {\n",
       "        comm.on_msg(function(msg) {\n",
       "            var data = msg[\"content\"][\"data\"];\n",
       "            var images = document.getElementsByClassName(data[\"class\"]);\n",
       "            for (var i = 0; i < images.length; i++) {\n",
       "                if (data[\"href\"]) {\n",
       "                    images[i].setAttributeNS(null, \"href\", data[\"href\"]);\n",
       "                }\n",
       "                if (data[\"src\"]) {\n",
       "                    images[i].setAttributeNS(null, \"src\", data[\"src\"]);\n",
       "                }\n",
       "            }\n",
       "        });\n",
       "    });\n",
       "});\n"
      ],
      "text/plain": [
       "<IPython.core.display.Javascript object>"
      ]
     },
     "metadata": {},
     "output_type": "display_data"
    },
    {
     "data": {
      "text/html": [
       "<svg id='Residual CNN' xmlns='http://www.w3.org/2000/svg' viewBox=\"0 0 700 9600\" max-width=\"100%\" height=\"15000px\" image-rendering=\"pixelated\">\n",
       "    <defs>\n",
       "        <marker id=\"arrow\" markerWidth=\"10\" markerHeight=\"10\" refX=\"9\" refY=\"3\" orient=\"auto\" markerUnits=\"strokeWidth\">\n",
       "          <path d=\"M0,0 L0,6 L9,3 z\" fill=\"black\" />\n",
       "        </marker>\n",
       "    </defs><text x=\"350.0\" y=\"12.5\" font-family=\"monospace\" font-size=\"15\" text-anchor=\"middle\" alignment-baseline=\"central\">Residual CNN</text><rect x=\"132.33333333333334\" y=\"24\" width=\"202\" height=\"52\" style=\"fill:none;stroke:black;stroke-width:2\"/><image id=\"Residual CNN_policy_head_1\" class=\"Residual CNN_policy_head\" x=\"133.33333333333334\" y=\"25\" height=\"50\" width=\"200\" preserveAspectRatio=\"none\" href=\"data:image/gif;base64,R0lGODdhKgABAIcAAP/9/QAAAAAAAAAAAAAAAAAAAAAAAAAAAAAAAAAAAAAAAAAAAAAAAAAAAAAAAAAAAAAAAAAAAAAAAAAAAAAAAAAAAAAAAAAAAAAAAAAAAAAAAAAAAAAAAAAAAAAAAAAAAAAAAAAAAAAAAAAAAAAAAAAAAAAAAAAAAAAAAAAAAAAAAAAAAAAAAAAAAAAAAAAAAAAAAAAAAAAAAAAAAAAAAAAAAAAAAAAAAAAAAAAAAAAAAAAAAAAAAAAAAAAAAAAAAAAAAAAAAAAAAAAAAAAAAAAAAAAAAAAAAAAAAAAAAAAAAAAAAAAAAAAAAAAAAAAAAAAAAAAAAAAAAAAAAAAAAAAAAAAAAAAAAAAAAAAAAAAAAAAAAAAAAAAAAAAAAAAAAAAAAAAAAAAAAAAAAAAAAAAAAAAAAAAAAAAAAAAAAAAAAAAAAAAAAAAAAAAAAAAAAAAAAAAAAAAAAAAAAAAAAAAAAAAAAAAAAAAAAAAAAAAAAAAAAAAAAAAAAAAAAAAAAAAAAAAAAAAAAAAAAAAAAAAAAAAAAAAAAAAAAAAAAAAAAAAAAAAAAAAAAAAAAAAAAAAAAAAAAAAAAAAAAAAAAAAAAAAAAAAAAAAAAAAAAAAAAAAAAAAAAAAAAAAAAAAAAAAAAAAAAAAAAAAAAAAAAAAAAAAAAAAAAAAAAAAAAAAAAAAAAAAAAAAAAAAAAAAAAAAAAAAAAAAAAAAAAAAAAAAAAAAAAAAAAAAAAAAAAAAAAAAAAAAAAAAAAAAAAAAAAAAAAAAAAAAAAAAAAAAAAAAAAAAAAAAAAAAAAAAAAAAAAAAAAAAAAAAAAAAAAAAAAAAAAAAAAAAAAAAAAAAAAAAAAAAAAAAAAAAAAAAAAAAAAAAAAAAAAAAAAAAAAAAAAAAAAAAAAAAAAAAAAAAAAAAAAAAAAAAAAAAAAAAAAAAAAAAAAAAAAAAAAAAAAAAAAAAAAAAAAAAAAAAAAAAAAAAAAAAAAAAAAAAAAAAAAAAAAAAAAAAAAAAAAAAAAAAAACwAAAAAKgABAAAIDQABCBxIsKDBgwgNBgQAOw==\"><title>Layer: policy_head (output)\n",
       " shape = (42,)\n",
       " Keras class = Dense\n",
       " use_bias = False\n",
       " activation = linear\n",
       " kernel_regularizer = &lt;keras.regularizers.L1L2 object at 0x7f58695924e0&gt;</title></image><text x=\"338.33333333333337\" y=\"52.0\" font-family=\"monospace\" font-size=\"12\" text-anchor=\"start\" alignment-baseline=\"central\">policy_head</text><rect x=\"440.6666666666667\" y=\"24\" width=\"52\" height=\"52\" style=\"fill:none;stroke:black;stroke-width:2\"/><image id=\"Residual CNN_value_head_2\" class=\"Residual CNN_value_head\" x=\"441.6666666666667\" y=\"25\" height=\"50\" width=\"50\" preserveAspectRatio=\"none\" href=\"data:image/gif;base64,R0lGODdhPgA+AIcAAP/9/QAAAAAAAAAAAAAAAAAAAAAAAAAAAAAAAAAAAAAAAAAAAAAAAAAAAAAAAAAAAAAAAAAAAAAAAAAAAAAAAAAAAAAAAAAAAAAAAAAAAAAAAAAAAAAAAAAAAAAAAAAAAAAAAAAAAAAAAAAAAAAAAAAAAAAAAAAAAAAAAAAAAAAAAAAAAAAAAAAAAAAAAAAAAAAAAAAAAAAAAAAAAAAAAAAAAAAAAAAAAAAAAAAAAAAAAAAAAAAAAAAAAAAAAAAAAAAAAAAAAAAAAAAAAAAAAAAAAAAAAAAAAAAAAAAAAAAAAAAAAAAAAAAAAAAAAAAAAAAAAAAAAAAAAAAAAAAAAAAAAAAAAAAAAAAAAAAAAAAAAAAAAAAAAAAAAAAAAAAAAAAAAAAAAAAAAAAAAAAAAAAAAAAAAAAAAAAAAAAAAAAAAAAAAAAAAAAAAAAAAAAAAAAAAAAAAAAAAAAAAAAAAAAAAAAAAAAAAAAAAAAAAAAAAAAAAAAAAAAAAAAAAAAAAAAAAAAAAAAAAAAAAAAAAAAAAAAAAAAAAAAAAAAAAAAAAAAAAAAAAAAAAAAAAAAAAAAAAAAAAAAAAAAAAAAAAAAAAAAAAAAAAAAAAAAAAAAAAAAAAAAAAAAAAAAAAAAAAAAAAAAAAAAAAAAAAAAAAAAAAAAAAAAAAAAAAAAAAAAAAAAAAAAAAAAAAAAAAAAAAAAAAAAAAAAAAAAAAAAAAAAAAAAAAAAAAAAAAAAAAAAAAAAAAAAAAAAAAAAAAAAAAAAAAAAAAAAAAAAAAAAAAAAAAAAAAAAAAAAAAAAAAAAAAAAAAAAAAAAAAAAAAAAAAAAAAAAAAAAAAAAAAAAAAAAAAAAAAAAAAAAAAAAAAAAAAAAAAAAAAAAAAAAAAAAAAAAAAAAAAAAAAAAAAAAAAAAAAAAAAAAAAAAAAAAAAAAAAAAAAAAAAAAAAAAAAAAAAAAAAAAAAAAAAAAAAAAAAAAAAAAAAAAAAAAAAAAAAAAAAAAAAAAAAAAAAAAAAAAAACwAAAAAPgA+AEAI/wADCBxIsKDBgwgTKkQIoKHDhxAjSpxIsSLEAAEAaNzIsaPHjyBDiuwYIACAkyhTqlzJsqXLlyoDBABAs6bNmzhz6tzJ82aAAACCCh1KtKjRo0iTEg0QAIDTp1CjSp1KtarVqAECANjKtavXr2DDih3rNUAAAGjTql3Ltq3bt3DXBggAoK7du3jz6t3Lty/eAAEACB5MuLDhw4gTKy4cIACAx5AjS55MubLly5IDBADAubPnz6BDix5N+nOAAABSq17NurXr17Bjsw4QAIDt27hz697Nu7fv3AECABhOvLjx48iTK19uPEAAANCjS59Ovbr169inBwgAoLv37+DDi/8fT748+AABAKhfz769+/fw48tvHyAAgPv48+vfz7+/f4AABA4kWDBAAAAJFS5k2NDhQ4gRGQYIAMDiRYwZNW7k2NFjxgABAIwkWdLkSZQpVa40GSAAAJgxZc6kWdPmTZwzAwQA0NPnT6BBhQ4lWhRogAAAlC5l2tTpU6hRpTYNEADAVaxZtW7l2tXrV60BAgAgW9bsWbRp1a5lezZAAABx5c6lW9fuXbx56QYIAMDvX8CBBQ8mXNhw4AABACxm3NjxY8iRJU92HCAAAMyZNW/m3NnzZ9CbAwQAUNr0adSpVa9m3Rp1gAAAZM+mXdv2bdy5ddcOEADAb+DBhQ8nXtz/+HHhAQIAYN7c+XPo0aVPp/48QAAA2bVv597d+3fw4bkHCADA/Hn06dWvZ9/effoAAQDMp1/f/n38+fXvtx8gAEAAAgcSLGjwIMKECgsGCADgIcSIEidSrGjxosQAAQBw7OjxI8iQIkeS/BggAICUKleybOnyJcyYLAMEAGDzJs6cOnfy7OkzZ4AAAIYSLWr0KNKkSpcaDRAAANSoUqdSrWr1KtapAQIA6Or1K9iwYseSLQs2QAAAateybev2Ldy4ctsGCADgLt68evfy7ev3r94AAQAQLmz4MOLEihczPhwgAIDIkidTrmz5MubMlAMEAOD5M+jQokeTLm06dIAAlQBWs27t+jXs2LJnuw4QAADu3Lp38+7t+zfw3QECAChu/Djy5MqXM2+OPEAAANKnU69u/Tr27NqrBwgA4Dv48OLHky9v/rz4AAEAsG/v/j38+PLn038fIACA/Pr38+/vHyAAgQMJFjR4kGCAAAAYNnT4EGJEiRMpPgwQAEBGjRs5dvT4EWRIjgFIljR5EmVKlStZqgwIADs=\"><title>Layer: value_head (output)\n",
       " shape = (1,)\n",
       " Keras class = Dense\n",
       " use_bias = False\n",
       " activation = tanh\n",
       " kernel_regularizer = &lt;keras.regularizers.L1L2 object at 0x7f58695922e8&gt;</title></image><text x=\"496.6666666666667\" y=\"52.0\" font-family=\"monospace\" font-size=\"12\" text-anchor=\"start\" alignment-baseline=\"central\">value_head</text><line x1=\"233.33333333333334\" y1=\"104\" x2=\"466.6666666666667\" y2=\"77\" stroke=\"black\" stroke-width=\"2\" marker-end=\"url(#arrow)\"><title>Weights from leaky-relu-14 to value_head\n",
       " value_head/kernel:0 has shape (20, 1)</title></line><rect x=\"132.33333333333334\" y=\"104\" width=\"202\" height=\"52\" style=\"fill:none;stroke:black;stroke-width:2\"/><image id=\"Residual CNN_leaky-relu-14_3\" class=\"Residual CNN_leaky-relu-14\" x=\"133.33333333333334\" y=\"105\" height=\"50\" width=\"200\" preserveAspectRatio=\"none\" href=\"data:image/gif;base64,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\"><title>Layer: leaky-relu-14 (hidden)\n",
       " Keras class = LeakyReLU</title></image><text x=\"338.33333333333337\" y=\"132.0\" font-family=\"monospace\" font-size=\"12\" text-anchor=\"start\" alignment-baseline=\"central\">leaky-relu-14</text><line x1=\"466.6666666666667\" y1=\"105\" x2=\"233.33333333333334\" y2=\"75\" stroke=\"black\" stroke-width=\"2\" marker-end=\"url(#arrow)\"><title>Weights from flatten-1 to policy_head\n",
       " policy_head/kernel:0 has shape (84, 42)</title></line><line x1=\"233.33333333333334\" y1=\"184\" x2=\"233.33333333333334\" y2=\"157\" stroke=\"black\" stroke-width=\"2\" marker-end=\"url(#arrow)\"><title>Weights from dense-1 to leaky-relu-14</title></line><rect x=\"132.33333333333334\" y=\"184\" width=\"202\" height=\"52\" style=\"fill:none;stroke:black;stroke-width:2\"/><image id=\"Residual CNN_dense-1_4\" class=\"Residual CNN_dense-1\" x=\"133.33333333333334\" y=\"185\" height=\"50\" width=\"200\" preserveAspectRatio=\"none\" href=\"data:image/gif;base64,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\"><title>Layer: dense-1 (hidden)\n",
       " shape = (20,)\n",
       " Keras class = Dense\n",
       " use_bias = False\n",
       " activation = linear\n",
       " kernel_regularizer = &lt;keras.regularizers.L1L2 object at 0x7f58695923c8&gt;</title></image><text x=\"338.33333333333337\" y=\"212.0\" font-family=\"monospace\" font-size=\"12\" text-anchor=\"start\" alignment-baseline=\"central\">dense-1</text><line x1=\"466.6666666666667\" y1=\"185\" x2=\"466.6666666666667\" y2=\"105\" stroke=\"black\" stroke-width=\"2\"><title>Weights from flatten-1 to policy_head\n",
       " policy_head/kernel:0 has shape (84, 42)</title></line><line x1=\"233.33333333333334\" y1=\"264\" x2=\"466.6666666666667\" y2=\"185\" stroke=\"black\" stroke-width=\"2\"><title>Weights from flatten-1 to policy_head\n",
       " policy_head/kernel:0 has shape (84, 42)</title></line><rect x=\"132.33333333333334\" y=\"264\" width=\"202\" height=\"52\" style=\"fill:none;stroke:black;stroke-width:2\"/><image id=\"Residual CNN_flatten-1_5\" class=\"Residual CNN_flatten-1\" x=\"133.33333333333334\" y=\"265\" height=\"50\" width=\"200\" preserveAspectRatio=\"none\" href=\"data:image/gif;base64,R0lGODdhVAABAIcAAP/9/QAAAAAAAAAAAAAAAAAAAAAAAAAAAAAAAAAAAAAAAAAAAAAAAAAAAAAAAAAAAAAAAAAAAAAAAAAAAAAAAAAAAAAAAAAAAAAAAAAAAAAAAAAAAAAAAAAAAAAAAAAAAAAAAAAAAAAAAAAAAAAAAAAAAAAAAAAAAAAAAAAAAAAAAAAAAAAAAAAAAAAAAAAAAAAAAAAAAAAAAAAAAAAAAAAAAAAAAAAAAAAAAAAAAAAAAAAAAAAAAAAAAAAAAAAAAAAAAAAAAAAAAAAAAAAAAAAAAAAAAAAAAAAAAAAAAAAAAAAAAAAAAAAAAAAAAAAAAAAAAAAAAAAAAAAAAAAAAAAAAAAAAAAAAAAAAAAAAAAAAAAAAAAAAAAAAAAAAAAAAAAAAAAAAAAAAAAAAAAAAAAAAAAAAAAAAAAAAAAAAAAAAAAAAAAAAAAAAAAAAAAAAAAAAAAAAAAAAAAAAAAAAAAAAAAAAAAAAAAAAAAAAAAAAAAAAAAAAAAAAAAAAAAAAAAAAAAAAAAAAAAAAAAAAAAAAAAAAAAAAAAAAAAAAAAAAAAAAAAAAAAAAAAAAAAAAAAAAAAAAAAAAAAAAAAAAAAAAAAAAAAAAAAAAAAAAAAAAAAAAAAAAAAAAAAAAAAAAAAAAAAAAAAAAAAAAAAAAAAAAAAAAAAAAAAAAAAAAAAAAAAAAAAAAAAAAAAAAAAAAAAAAAAAAAAAAAAAAAAAAAAAAAAAAAAAAAAAAAAAAAAAAAAAAAAAAAAAAAAAAAAAAAAAAAAAAAAAAAAAAAAAAAAAAAAAAAAAAAAAAAAAAAAAAAAAAAAAAAAAAAAAAAAAAAAAAAAAAAAAAAAAAAAAAAAAAAAAAAAAAAAAAAAAAAAAAAAAAAAAAAAAAAAAAAAAAAAAAAAAAAAAAAAAAAAAAAAAAAAAAAAAAAAAAAAAAAAAAAAAAAAAAAAAAAAAAAAAAAAAAAAAAAAAAAAAAAAAAAAAAAAAAAAAAAAAAAAAAAAAAAAAAAAAAAAAAAAAAAAAACwAAAAAVAABAAAIEQABCBxIsKDBgwgTKlzI0GBAADs=\"><title>Layer: flatten-1 (hidden)\n",
       " Keras class = Flatten</title></image><text x=\"338.33333333333337\" y=\"292.0\" font-family=\"monospace\" font-size=\"12\" text-anchor=\"start\" alignment-baseline=\"central\">flatten-1</text><line x1=\"466.6666666666667\" y1=\"264\" x2=\"233.33333333333334\" y2=\"237\" stroke=\"black\" stroke-width=\"2\" marker-end=\"url(#arrow)\"><title>Weights from flatten-2 to dense-1\n",
       " dense-1/kernel:0 has shape (42, 20)</title></line><rect x=\"365.6666666666667\" y=\"264\" width=\"202\" height=\"52\" style=\"fill:none;stroke:black;stroke-width:2\"/><image id=\"Residual CNN_flatten-2_6\" class=\"Residual CNN_flatten-2\" x=\"366.6666666666667\" y=\"265\" height=\"50\" width=\"200\" preserveAspectRatio=\"none\" href=\"data:image/gif;base64,R0lGODdhKgABAIcAAP/9/QAAAAAAAAAAAAAAAAAAAAAAAAAAAAAAAAAAAAAAAAAAAAAAAAAAAAAAAAAAAAAAAAAAAAAAAAAAAAAAAAAAAAAAAAAAAAAAAAAAAAAAAAAAAAAAAAAAAAAAAAAAAAAAAAAAAAAAAAAAAAAAAAAAAAAAAAAAAAAAAAAAAAAAAAAAAAAAAAAAAAAAAAAAAAAAAAAAAAAAAAAAAAAAAAAAAAAAAAAAAAAAAAAAAAAAAAAAAAAAAAAAAAAAAAAAAAAAAAAAAAAAAAAAAAAAAAAAAAAAAAAAAAAAAAAAAAAAAAAAAAAAAAAAAAAAAAAAAAAAAAAAAAAAAAAAAAAAAAAAAAAAAAAAAAAAAAAAAAAAAAAAAAAAAAAAAAAAAAAAAAAAAAAAAAAAAAAAAAAAAAAAAAAAAAAAAAAAAAAAAAAAAAAAAAAAAAAAAAAAAAAAAAAAAAAAAAAAAAAAAAAAAAAAAAAAAAAAAAAAAAAAAAAAAAAAAAAAAAAAAAAAAAAAAAAAAAAAAAAAAAAAAAAAAAAAAAAAAAAAAAAAAAAAAAAAAAAAAAAAAAAAAAAAAAAAAAAAAAAAAAAAAAAAAAAAAAAAAAAAAAAAAAAAAAAAAAAAAAAAAAAAAAAAAAAAAAAAAAAAAAAAAAAAAAAAAAAAAAAAAAAAAAAAAAAAAAAAAAAAAAAAAAAAAAAAAAAAAAAAAAAAAAAAAAAAAAAAAAAAAAAAAAAAAAAAAAAAAAAAAAAAAAAAAAAAAAAAAAAAAAAAAAAAAAAAAAAAAAAAAAAAAAAAAAAAAAAAAAAAAAAAAAAAAAAAAAAAAAAAAAAAAAAAAAAAAAAAAAAAAAAAAAAAAAAAAAAAAAAAAAAAAAAAAAAAAAAAAAAAAAAAAAAAAAAAAAAAAAAAAAAAAAAAAAAAAAAAAAAAAAAAAAAAAAAAAAAAAAAAAAAAAAAAAAAAAAAAAAAAAAAAAAAAAAAAAAAAAAAAAAAAAAAAAAAAAAAAAAAAAAAAAAAAAAAAAAAAAAAAACwAAAAAKgABAAAIDQABCBxIsKDBgwgNBgQAOw==\"><title>Layer: flatten-2 (hidden)\n",
       " Keras class = Flatten</title></image><text x=\"571.6666666666667\" y=\"292.0\" font-family=\"monospace\" font-size=\"12\" text-anchor=\"start\" alignment-baseline=\"central\">flatten-2</text><line x1=\"233.33333333333334\" y1=\"344\" x2=\"233.33333333333334\" y2=\"317\" stroke=\"black\" stroke-width=\"2\" marker-end=\"url(#arrow)\"><title>Weights from leaky-relu-12 to flatten-1</title></line><rect x=\"132.33333333333334\" y=\"344\" width=\"202\" height=\"102\" style=\"fill:none;stroke:black;stroke-width:2\"/><image id=\"Residual CNN_leaky-relu-12_7\" class=\"Residual CNN_leaky-relu-12\" x=\"133.33333333333334\" y=\"345\" height=\"100\" width=\"200\" preserveAspectRatio=\"none\" href=\"data:image/gif;base64,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\"><title>Layer: leaky-relu-12 (hidden)\n",
       " Keras class = LeakyReLU</title></image><text x=\"338.33333333333337\" y=\"397.0\" font-family=\"monospace\" font-size=\"12\" text-anchor=\"start\" alignment-baseline=\"central\">leaky-relu-12</text><text x=\"338.33333333333337\" y=\"350\" font-family=\"monospace\" font-size=\"12\" text-anchor=\"start\" alignment-baseline=\"central\">7</text><text x=\"121.33333333333334\" y=\"440\" font-family=\"monospace\" font-size=\"12\" text-anchor=\"start\" alignment-baseline=\"central\">0</text><line x1=\"466.6666666666667\" y1=\"344\" x2=\"466.6666666666667\" y2=\"317\" stroke=\"black\" stroke-width=\"2\" marker-end=\"url(#arrow)\"><title>Weights from leaky-relu-13 to flatten-2</title></line><rect x=\"365.6666666666667\" y=\"344\" width=\"202\" height=\"52\" style=\"fill:none;stroke:black;stroke-width:2\"/><image id=\"Residual CNN_leaky-relu-13_8\" class=\"Residual CNN_leaky-relu-13\" x=\"366.6666666666667\" y=\"345\" height=\"50\" width=\"200\" preserveAspectRatio=\"none\" href=\"data:image/gif;base64,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\"><title>Layer: leaky-relu-13 (hidden)\n",
       " Keras class = LeakyReLU</title></image><text x=\"571.6666666666667\" y=\"372.0\" font-family=\"monospace\" font-size=\"12\" text-anchor=\"start\" alignment-baseline=\"central\">leaky-relu-13</text><text x=\"571.6666666666667\" y=\"350\" font-family=\"monospace\" font-size=\"12\" text-anchor=\"start\" alignment-baseline=\"central\">7</text><text x=\"354.6666666666667\" y=\"390\" font-family=\"monospace\" font-size=\"12\" text-anchor=\"start\" alignment-baseline=\"central\">0</text><line x1=\"233.33333333333334\" y1=\"474\" x2=\"233.33333333333334\" y2=\"447\" stroke=\"black\" stroke-width=\"2\" marker-end=\"url(#arrow)\"><title>Weights from batch-norm-12 to leaky-relu-12</title></line><rect x=\"132.33333333333334\" y=\"474\" width=\"202\" height=\"102\" style=\"fill:none;stroke:black;stroke-width:2\"/><image id=\"Residual CNN_batch-norm-12_9\" class=\"Residual CNN_batch-norm-12\" x=\"133.33333333333334\" y=\"475\" height=\"100\" width=\"200\" preserveAspectRatio=\"none\" href=\"data:image/gif;base64,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\"><title>Layer: batch-norm-12 (hidden)\n",
       " Keras class = BatchNormalization\n",
       " axis = 1</title></image><text x=\"338.33333333333337\" y=\"527.0\" font-family=\"monospace\" font-size=\"12\" text-anchor=\"start\" alignment-baseline=\"central\">batch-norm-12</text><text x=\"338.33333333333337\" y=\"480\" font-family=\"monospace\" font-size=\"12\" text-anchor=\"start\" alignment-baseline=\"central\">7</text><text x=\"121.33333333333334\" y=\"570\" font-family=\"monospace\" font-size=\"12\" text-anchor=\"start\" alignment-baseline=\"central\">0</text><line x1=\"466.6666666666667\" y1=\"474\" x2=\"466.6666666666667\" y2=\"397\" stroke=\"black\" stroke-width=\"2\" marker-end=\"url(#arrow)\"><title>Weights from batch-norm-13 to leaky-relu-13</title></line><rect x=\"365.6666666666667\" y=\"474\" width=\"202\" height=\"52\" style=\"fill:none;stroke:black;stroke-width:2\"/><image id=\"Residual CNN_batch-norm-13_10\" class=\"Residual CNN_batch-norm-13\" x=\"366.6666666666667\" y=\"475\" height=\"50\" width=\"200\" preserveAspectRatio=\"none\" href=\"data:image/gif;base64,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\"><title>Layer: batch-norm-13 (hidden)\n",
       " Keras class = BatchNormalization\n",
       " axis = 1</title></image><text x=\"571.6666666666667\" y=\"502.0\" font-family=\"monospace\" font-size=\"12\" text-anchor=\"start\" alignment-baseline=\"central\">batch-norm-13</text><text x=\"571.6666666666667\" y=\"480\" font-family=\"monospace\" font-size=\"12\" text-anchor=\"start\" alignment-baseline=\"central\">7</text><text x=\"354.6666666666667\" y=\"520\" font-family=\"monospace\" font-size=\"12\" text-anchor=\"start\" alignment-baseline=\"central\">0</text><line x1=\"233.33333333333334\" y1=\"604\" x2=\"233.33333333333334\" y2=\"577\" stroke=\"black\" stroke-width=\"2\" marker-end=\"url(#arrow)\"><title>Weights from conv2d-12 to batch-norm-12\n",
       " batch-norm-12/gamma:0 has shape (2,)\n",
       " batch-norm-12/beta:0 has shape (2,)\n",
       " batch-norm-12/moving_mean:0 has shape (2,)\n",
       " batch-norm-12/moving_variance:0 has shape (2,)</title></line><rect x=\"132.33333333333334\" y=\"604\" width=\"202\" height=\"102\" style=\"fill:none;stroke:black;stroke-width:2\"/><image id=\"Residual CNN_conv2d-12_11\" class=\"Residual CNN_conv2d-12\" x=\"133.33333333333334\" y=\"605\" height=\"100\" width=\"200\" preserveAspectRatio=\"none\" href=\"data:image/gif;base64,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\"><title>Layer: conv2d-12 (hidden)\n",
       " Keras class = Conv2D\n",
       " filters = 2\n",
       " kernel_size = (1, 1)\n",
       " data_format = channels_first\n",
       " padding = same\n",
       " use_bias = False\n",
       " activation = linear\n",
       " kernel_regularizer = &lt;keras.regularizers.L1L2 object at 0x7f5869592cc0&gt;</title></image><text x=\"338.33333333333337\" y=\"657.0\" font-family=\"monospace\" font-size=\"12\" text-anchor=\"start\" alignment-baseline=\"central\">conv2d-12</text><text x=\"338.33333333333337\" y=\"610\" font-family=\"monospace\" font-size=\"12\" text-anchor=\"start\" alignment-baseline=\"central\">7</text><text x=\"121.33333333333334\" y=\"700\" font-family=\"monospace\" font-size=\"12\" text-anchor=\"start\" alignment-baseline=\"central\">0</text><line x1=\"466.6666666666667\" y1=\"604\" x2=\"466.6666666666667\" y2=\"527\" stroke=\"black\" stroke-width=\"2\" marker-end=\"url(#arrow)\"><title>Weights from conv2d-13 to batch-norm-13\n",
       " batch-norm-13/gamma:0 has shape (1,)\n",
       " batch-norm-13/beta:0 has shape (1,)\n",
       " batch-norm-13/moving_mean:0 has shape (1,)\n",
       " batch-norm-13/moving_variance:0 has shape (1,)</title></line><rect x=\"365.6666666666667\" y=\"604\" width=\"202\" height=\"52\" style=\"fill:none;stroke:black;stroke-width:2\"/><image id=\"Residual CNN_conv2d-13_12\" class=\"Residual CNN_conv2d-13\" x=\"366.6666666666667\" y=\"605\" height=\"50\" width=\"200\" preserveAspectRatio=\"none\" href=\"data:image/gif;base64,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\"><title>Layer: conv2d-13 (hidden)\n",
       " Keras class = Conv2D\n",
       " filters = 1\n",
       " kernel_size = (1, 1)\n",
       " data_format = channels_first\n",
       " padding = same\n",
       " use_bias = False\n",
       " activation = linear\n",
       " kernel_regularizer = &lt;keras.regularizers.L1L2 object at 0x7f5869592e48&gt;</title></image><text x=\"571.6666666666667\" y=\"632.0\" font-family=\"monospace\" font-size=\"12\" text-anchor=\"start\" alignment-baseline=\"central\">conv2d-13</text><text x=\"571.6666666666667\" y=\"610\" font-family=\"monospace\" font-size=\"12\" text-anchor=\"start\" alignment-baseline=\"central\">7</text><text x=\"354.6666666666667\" y=\"650\" font-family=\"monospace\" font-size=\"12\" text-anchor=\"start\" alignment-baseline=\"central\">0</text><line x1=\"350.0\" y1=\"734\" x2=\"233.33333333333334\" y2=\"707\" stroke=\"black\" stroke-width=\"2\" marker-end=\"url(#arrow)\"><title>Weights from leaky-relu-11 to conv2d-12\n",
       " conv2d-12/kernel:0 has shape (1, 1, 75, 2)</title></line><line x1=\"350.0\" y1=\"734\" x2=\"466.6666666666667\" y2=\"657\" stroke=\"black\" stroke-width=\"2\" marker-end=\"url(#arrow)\"><title>Weights from leaky-relu-11 to conv2d-13\n",
       " conv2d-13/kernel:0 has shape (1, 1, 75, 1)</title></line><rect x=\"249.0\" y=\"734\" width=\"202\" height=\"202\" style=\"fill:none;stroke:black;stroke-width:2\"/><image id=\"Residual CNN_leaky-relu-11_13\" class=\"Residual CNN_leaky-relu-11\" x=\"250.0\" y=\"735\" height=\"200\" width=\"200\" preserveAspectRatio=\"none\" href=\"data:image/gif;base64,R0lGODdhBgBLAIcAAP/9/QAAAAAAAAAAAAAAAAAAAAAAAAAAAAAAAAAAAAAAAAAAAAAAAAAAAAAAAAAAAAAAAAAAAAAAAAAAAAAAAAAAAAAAAAAAAAAAAAAAAAAAAAAAAAAAAAAAAAAAAAAAAAAAAAAAAAAAAAAAAAAAAAAAAAAAAAAAAAAAAAAAAAAAAAAAAAAAAAAAAAAAAAAAAAAAAAAAAAAAAAAAAAAAAAAAAAAAAAAAAAAAAAAAAAAAAAAAAAAAAAAAAAAAAAAAAAAAAAAAAAAAAAAAAAAAAAAAAAAAAAAAAAAAAAAAAAAAAAAAAAAAAAAAAAAAAAAAAAAAAAAAAAAAAAAAAAAAAAAAAAAAAAAAAAAAAAAAAAAAAAAAAAAAAAAAAAAAAAAAAAAAAAAAAAAAAAAAAAAAAAAAAAAAAAAAAAAAAAAAAAAAAAAAAAAAAAAAAAAAAAAAAAAAAAAAAAAAAAAAAAAAAAAAAAAAAAAAAAAAAAAAAAAAAAAAAAAAAAAAAAAAAAAAAAAAAAAAAAAAAAAAAAAAAAAAAAAAAAAAAAAAAAAAAAAAAAAAAAAAAAAAAAAAAAAAAAAAAAAAAAAAAAAAAAAAAAAAAAAAAAAAAAAAAAAAAAAAAAAAAAAAAAAAAAAAAAAAAAAAAAAAAAAAAAAAAAAAAAAAAAAAAAAAAAAAAAAAAAAAAAAAAAAAAAAAAAAAAAAAAAAAAAAAAAAAAAAAAAAAAAAAAAAAAAAAAAAAAAAAAAAAAAAAAAAAAAAAAAAAAAAAAAAAAAAAAAAAAAAAAAAAAAAAAAAAAAAAAAAAAAAAAAAAAAAAAAAAAAAAAAAAAAAAAAAAAAAAAAAAAAAAAAAAAAAAAAAAAAAAAAAAAAAAAAAAAAAAAAAAAAAAAAAAAAAAAAAAAAAAAAAAAAAAAAAAAAAAAAAAAAAAAAAAAAAAAAAAAAAAAAAAAAAAAAAAAAAAAAAAAAAAAAAAAAAAAAAAAAAAAAAAAAAAAAAAAAAAAAAAAAAAAAAAAAAAAAAAAAAAACwAAAAABgBLAAAIJAABCBxIsKDBgwgTKlzIsKHDhxAjSpxIsaLFixgzatzIsePDgAA7\"><title>Layer: leaky-relu-11 (hidden)\n",
       " Keras class = LeakyReLU</title></image><text x=\"455.0\" y=\"837.0\" font-family=\"monospace\" font-size=\"12\" text-anchor=\"start\" alignment-baseline=\"central\">leaky-relu-11</text><text x=\"455.0\" y=\"740\" font-family=\"monospace\" font-size=\"12\" text-anchor=\"start\" alignment-baseline=\"central\">7</text><text x=\"238.0\" y=\"930\" font-family=\"monospace\" font-size=\"12\" text-anchor=\"start\" alignment-baseline=\"central\">0</text><line x1=\"350.0\" y1=\"964\" x2=\"350.0\" y2=\"937\" stroke=\"black\" stroke-width=\"2\" marker-end=\"url(#arrow)\"><title>Weights from add-5 to leaky-relu-11</title></line><rect x=\"249.0\" y=\"964\" width=\"202\" height=\"202\" style=\"fill:none;stroke:black;stroke-width:2\"/><image id=\"Residual CNN_add-5_14\" class=\"Residual CNN_add-5\" x=\"250.0\" y=\"965\" height=\"200\" width=\"200\" preserveAspectRatio=\"none\" href=\"data:image/gif;base64,R0lGODdhBgBLAIcAAP/9/QAAAAAAAAAAAAAAAAAAAAAAAAAAAAAAAAAAAAAAAAAAAAAAAAAAAAAAAAAAAAAAAAAAAAAAAAAAAAAAAAAAAAAAAAAAAAAAAAAAAAAAAAAAAAAAAAAAAAAAAAAAAAAAAAAAAAAAAAAAAAAAAAAAAAAAAAAAAAAAAAAAAAAAAAAAAAAAAAAAAAAAAAAAAAAAAAAAAAAAAAAAAAAAAAAAAAAAAAAAAAAAAAAAAAAAAAAAAAAAAAAAAAAAAAAAAAAAAAAAAAAAAAAAAAAAAAAAAAAAAAAAAAAAAAAAAAAAAAAAAAAAAAAAAAAAAAAAAAAAAAAAAAAAAAAAAAAAAAAAAAAAAAAAAAAAAAAAAAAAAAAAAAAAAAAAAAAAAAAAAAAAAAAAAAAAAAAAAAAAAAAAAAAAAAAAAAAAAAAAAAAAAAAAAAAAAAAAAAAAAAAAAAAAAAAAAAAAAAAAAAAAAAAAAAAAAAAAAAAAAAAAAAAAAAAAAAAAAAAAAAAAAAAAAAAAAAAAAAAAAAAAAAAAAAAAAAAAAAAAAAAAAAAAAAAAAAAAAAAAAAAAAAAAAAAAAAAAAAAAAAAAAAAAAAAAAAAAAAAAAAAAAAAAAAAAAAAAAAAAAAAAAAAAAAAAAAAAAAAAAAAAAAAAAAAAAAAAAAAAAAAAAAAAAAAAAAAAAAAAAAAAAAAAAAAAAAAAAAAAAAAAAAAAAAAAAAAAAAAAAAAAAAAAAAAAAAAAAAAAAAAAAAAAAAAAAAAAAAAAAAAAAAAAAAAAAAAAAAAAAAAAAAAAAAAAAAAAAAAAAAAAAAAAAAAAAAAAAAAAAAAAAAAAAAAAAAAAAAAAAAAAAAAAAAAAAAAAAAAAAAAAAAAAAAAAAAAAAAAAAAAAAAAAAAAAAAAAAAAAAAAAAAAAAAAAAAAAAAAAAAAAAAAAAAAAAAAAAAAAAAAAAAAAAAAAAAAAAAAAAAAAAAAAAAAAAAAAAAAAAAAAAAAAAAAAAAAAAAAAAAAAAAAAAAAAAAAAAAAAACwAAAAABgBLAAAIJAABCBxIsKDBgwgTKlzIsKHDhxAjSpxIsaLFixgzatzIsePDgAA7\"><title>Layer: add-5 (hidden)\n",
       " Keras class = Add</title></image><text x=\"455.0\" y=\"1067.0\" font-family=\"monospace\" font-size=\"12\" text-anchor=\"start\" alignment-baseline=\"central\">add-5</text><text x=\"455.0\" y=\"970\" font-family=\"monospace\" font-size=\"12\" text-anchor=\"start\" alignment-baseline=\"central\">7</text><text x=\"238.0\" y=\"1160\" font-family=\"monospace\" font-size=\"12\" text-anchor=\"start\" alignment-baseline=\"central\">0</text><line x1=\"233.33333333333334\" y1=\"1195\" x2=\"350.0\" y2=\"1165\" stroke=\"black\" stroke-width=\"2\" marker-end=\"url(#arrow)\"><title>Weights from leaky-relu-9 to add-5</title></line><line x1=\"466.6666666666667\" y1=\"1194\" x2=\"350.0\" y2=\"1167\" stroke=\"black\" stroke-width=\"2\" marker-end=\"url(#arrow)\"><title>Weights from batch-norm-11 to add-5</title></line><rect x=\"365.6666666666667\" y=\"1194\" width=\"202\" height=\"202\" style=\"fill:none;stroke:black;stroke-width:2\"/><image id=\"Residual CNN_batch-norm-11_15\" class=\"Residual CNN_batch-norm-11\" x=\"366.6666666666667\" y=\"1195\" height=\"200\" width=\"200\" preserveAspectRatio=\"none\" href=\"data:image/gif;base64,R0lGODdhBgBLAIcAAP/9/QAAAAAAAAAAAAAAAAAAAAAAAAAAAAAAAAAAAAAAAAAAAAAAAAAAAAAAAAAAAAAAAAAAAAAAAAAAAAAAAAAAAAAAAAAAAAAAAAAAAAAAAAAAAAAAAAAAAAAAAAAAAAAAAAAAAAAAAAAAAAAAAAAAAAAAAAAAAAAAAAAAAAAAAAAAAAAAAAAAAAAAAAAAAAAAAAAAAAAAAAAAAAAAAAAAAAAAAAAAAAAAAAAAAAAAAAAAAAAAAAAAAAAAAAAAAAAAAAAAAAAAAAAAAAAAAAAAAAAAAAAAAAAAAAAAAAAAAAAAAAAAAAAAAAAAAAAAAAAAAAAAAAAAAAAAAAAAAAAAAAAAAAAAAAAAAAAAAAAAAAAAAAAAAAAAAAAAAAAAAAAAAAAAAAAAAAAAAAAAAAAAAAAAAAAAAAAAAAAAAAAAAAAAAAAAAAAAAAAAAAAAAAAAAAAAAAAAAAAAAAAAAAAAAAAAAAAAAAAAAAAAAAAAAAAAAAAAAAAAAAAAAAAAAAAAAAAAAAAAAAAAAAAAAAAAAAAAAAAAAAAAAAAAAAAAAAAAAAAAAAAAAAAAAAAAAAAAAAAAAAAAAAAAAAAAAAAAAAAAAAAAAAAAAAAAAAAAAAAAAAAAAAAAAAAAAAAAAAAAAAAAAAAAAAAAAAAAAAAAAAAAAAAAAAAAAAAAAAAAAAAAAAAAAAAAAAAAAAAAAAAAAAAAAAAAAAAAAAAAAAAAAAAAAAAAAAAAAAAAAAAAAAAAAAAAAAAAAAAAAAAAAAAAAAAAAAAAAAAAAAAAAAAAAAAAAAAAAAAAAAAAAAAAAAAAAAAAAAAAAAAAAAAAAAAAAAAAAAAAAAAAAAAAAAAAAAAAAAAAAAAAAAAAAAAAAAAAAAAAAAAAAAAAAAAAAAAAAAAAAAAAAAAAAAAAAAAAAAAAAAAAAAAAAAAAAAAAAAAAAAAAAAAAAAAAAAAAAAAAAAAAAAAAAAAAAAAAAAAAAAAAAAAAAAAAAAAAAAAAAAAAAAAAAAAAAAAAAAAAACwAAAAABgBLAAAIJAABCBxIsKDBgwgTKlzIsKHDhxAjSpxIsaLFixgzatzIsePDgAA7\"><title>Layer: batch-norm-11 (hidden)\n",
       " Keras class = BatchNormalization\n",
       " axis = 1</title></image><text x=\"571.6666666666667\" y=\"1297.0\" font-family=\"monospace\" font-size=\"12\" text-anchor=\"start\" alignment-baseline=\"central\">batch-norm-11</text><text x=\"571.6666666666667\" y=\"1200\" font-family=\"monospace\" font-size=\"12\" text-anchor=\"start\" alignment-baseline=\"central\">7</text><text x=\"354.6666666666667\" y=\"1390\" font-family=\"monospace\" font-size=\"12\" text-anchor=\"start\" alignment-baseline=\"central\">0</text><line x1=\"233.33333333333334\" y1=\"1425\" x2=\"233.33333333333334\" y2=\"1195\" stroke=\"black\" stroke-width=\"2\"><title>Weights from leaky-relu-9 to add-5</title></line><line x1=\"466.6666666666667\" y1=\"1424\" x2=\"466.6666666666667\" y2=\"1397\" stroke=\"black\" stroke-width=\"2\" marker-end=\"url(#arrow)\"><title>Weights from conv2d-11 to batch-norm-11\n",
       " batch-norm-11/gamma:0 has shape (75,)\n",
       " batch-norm-11/beta:0 has shape (75,)\n",
       " batch-norm-11/moving_mean:0 has shape (75,)\n",
       " batch-norm-11/moving_variance:0 has shape (75,)</title></line><rect x=\"365.6666666666667\" y=\"1424\" width=\"202\" height=\"202\" style=\"fill:none;stroke:black;stroke-width:2\"/><image id=\"Residual CNN_conv2d-11_16\" class=\"Residual CNN_conv2d-11\" x=\"366.6666666666667\" y=\"1425\" height=\"200\" width=\"200\" preserveAspectRatio=\"none\" href=\"data:image/gif;base64,R0lGODdhBgBLAIcAAP/9/QAAAAAAAAAAAAAAAAAAAAAAAAAAAAAAAAAAAAAAAAAAAAAAAAAAAAAAAAAAAAAAAAAAAAAAAAAAAAAAAAAAAAAAAAAAAAAAAAAAAAAAAAAAAAAAAAAAAAAAAAAAAAAAAAAAAAAAAAAAAAAAAAAAAAAAAAAAAAAAAAAAAAAAAAAAAAAAAAAAAAAAAAAAAAAAAAAAAAAAAAAAAAAAAAAAAAAAAAAAAAAAAAAAAAAAAAAAAAAAAAAAAAAAAAAAAAAAAAAAAAAAAAAAAAAAAAAAAAAAAAAAAAAAAAAAAAAAAAAAAAAAAAAAAAAAAAAAAAAAAAAAAAAAAAAAAAAAAAAAAAAAAAAAAAAAAAAAAAAAAAAAAAAAAAAAAAAAAAAAAAAAAAAAAAAAAAAAAAAAAAAAAAAAAAAAAAAAAAAAAAAAAAAAAAAAAAAAAAAAAAAAAAAAAAAAAAAAAAAAAAAAAAAAAAAAAAAAAAAAAAAAAAAAAAAAAAAAAAAAAAAAAAAAAAAAAAAAAAAAAAAAAAAAAAAAAAAAAAAAAAAAAAAAAAAAAAAAAAAAAAAAAAAAAAAAAAAAAAAAAAAAAAAAAAAAAAAAAAAAAAAAAAAAAAAAAAAAAAAAAAAAAAAAAAAAAAAAAAAAAAAAAAAAAAAAAAAAAAAAAAAAAAAAAAAAAAAAAAAAAAAAAAAAAAAAAAAAAAAAAAAAAAAAAAAAAAAAAAAAAAAAAAAAAAAAAAAAAAAAAAAAAAAAAAAAAAAAAAAAAAAAAAAAAAAAAAAAAAAAAAAAAAAAAAAAAAAAAAAAAAAAAAAAAAAAAAAAAAAAAAAAAAAAAAAAAAAAAAAAAAAAAAAAAAAAAAAAAAAAAAAAAAAAAAAAAAAAAAAAAAAAAAAAAAAAAAAAAAAAAAAAAAAAAAAAAAAAAAAAAAAAAAAAAAAAAAAAAAAAAAAAAAAAAAAAAAAAAAAAAAAAAAAAAAAAAAAAAAAAAAAAAAAAAAAAAAAAAAAAAAAAAAAAAAAAAAAAAAAAACwAAAAABgBLAAAIJAABCBxIsKDBgwgTKlzIsKHDhxAjSpxIsaLFixgzatzIsePDgAA7\"><title>Layer: conv2d-11 (hidden)\n",
       " Keras class = Conv2D\n",
       " filters = 75\n",
       " kernel_size = (4, 4)\n",
       " data_format = channels_first\n",
       " padding = same\n",
       " use_bias = False\n",
       " activation = linear\n",
       " kernel_regularizer = &lt;keras.regularizers.L1L2 object at 0x7f5869592080&gt;</title></image><text x=\"571.6666666666667\" y=\"1527.0\" font-family=\"monospace\" font-size=\"12\" text-anchor=\"start\" alignment-baseline=\"central\">conv2d-11</text><text x=\"571.6666666666667\" y=\"1430\" font-family=\"monospace\" font-size=\"12\" text-anchor=\"start\" alignment-baseline=\"central\">7</text><text x=\"354.6666666666667\" y=\"1620\" font-family=\"monospace\" font-size=\"12\" text-anchor=\"start\" alignment-baseline=\"central\">0</text><line x1=\"233.33333333333334\" y1=\"1655\" x2=\"233.33333333333334\" y2=\"1425\" stroke=\"black\" stroke-width=\"2\"><title>Weights from leaky-relu-9 to add-5</title></line><line x1=\"466.6666666666667\" y1=\"1654\" x2=\"466.6666666666667\" y2=\"1627\" stroke=\"black\" stroke-width=\"2\" marker-end=\"url(#arrow)\"><title>Weights from leaky-relu-10 to conv2d-11\n",
       " conv2d-11/kernel:0 has shape (4, 4, 75, 75)</title></line><rect x=\"365.6666666666667\" y=\"1654\" width=\"202\" height=\"202\" style=\"fill:none;stroke:black;stroke-width:2\"/><image id=\"Residual CNN_leaky-relu-10_17\" class=\"Residual CNN_leaky-relu-10\" x=\"366.6666666666667\" y=\"1655\" height=\"200\" width=\"200\" preserveAspectRatio=\"none\" href=\"data:image/gif;base64,R0lGODdhBgBLAIcAAP/9/QAAAAAAAAAAAAAAAAAAAAAAAAAAAAAAAAAAAAAAAAAAAAAAAAAAAAAAAAAAAAAAAAAAAAAAAAAAAAAAAAAAAAAAAAAAAAAAAAAAAAAAAAAAAAAAAAAAAAAAAAAAAAAAAAAAAAAAAAAAAAAAAAAAAAAAAAAAAAAAAAAAAAAAAAAAAAAAAAAAAAAAAAAAAAAAAAAAAAAAAAAAAAAAAAAAAAAAAAAAAAAAAAAAAAAAAAAAAAAAAAAAAAAAAAAAAAAAAAAAAAAAAAAAAAAAAAAAAAAAAAAAAAAAAAAAAAAAAAAAAAAAAAAAAAAAAAAAAAAAAAAAAAAAAAAAAAAAAAAAAAAAAAAAAAAAAAAAAAAAAAAAAAAAAAAAAAAAAAAAAAAAAAAAAAAAAAAAAAAAAAAAAAAAAAAAAAAAAAAAAAAAAAAAAAAAAAAAAAAAAAAAAAAAAAAAAAAAAAAAAAAAAAAAAAAAAAAAAAAAAAAAAAAAAAAAAAAAAAAAAAAAAAAAAAAAAAAAAAAAAAAAAAAAAAAAAAAAAAAAAAAAAAAAAAAAAAAAAAAAAAAAAAAAAAAAAAAAAAAAAAAAAAAAAAAAAAAAAAAAAAAAAAAAAAAAAAAAAAAAAAAAAAAAAAAAAAAAAAAAAAAAAAAAAAAAAAAAAAAAAAAAAAAAAAAAAAAAAAAAAAAAAAAAAAAAAAAAAAAAAAAAAAAAAAAAAAAAAAAAAAAAAAAAAAAAAAAAAAAAAAAAAAAAAAAAAAAAAAAAAAAAAAAAAAAAAAAAAAAAAAAAAAAAAAAAAAAAAAAAAAAAAAAAAAAAAAAAAAAAAAAAAAAAAAAAAAAAAAAAAAAAAAAAAAAAAAAAAAAAAAAAAAAAAAAAAAAAAAAAAAAAAAAAAAAAAAAAAAAAAAAAAAAAAAAAAAAAAAAAAAAAAAAAAAAAAAAAAAAAAAAAAAAAAAAAAAAAAAAAAAAAAAAAAAAAAAAAAAAAAAAAAAAAAAAAAAAAAAAAAAAAAAAAAAAAAAAAAAAAACwAAAAABgBLAAAIJAABCBxIsKDBgwgTKlzIsKHDhxAjSpxIsaLFixgzatzIsePDgAA7\"><title>Layer: leaky-relu-10 (hidden)\n",
       " Keras class = LeakyReLU</title></image><text x=\"571.6666666666667\" y=\"1757.0\" font-family=\"monospace\" font-size=\"12\" text-anchor=\"start\" alignment-baseline=\"central\">leaky-relu-10</text><text x=\"571.6666666666667\" y=\"1660\" font-family=\"monospace\" font-size=\"12\" text-anchor=\"start\" alignment-baseline=\"central\">7</text><text x=\"354.6666666666667\" y=\"1850\" font-family=\"monospace\" font-size=\"12\" text-anchor=\"start\" alignment-baseline=\"central\">0</text><line x1=\"233.33333333333334\" y1=\"1885\" x2=\"233.33333333333334\" y2=\"1655\" stroke=\"black\" stroke-width=\"2\"><title>Weights from leaky-relu-9 to add-5</title></line><line x1=\"466.6666666666667\" y1=\"1884\" x2=\"466.6666666666667\" y2=\"1857\" stroke=\"black\" stroke-width=\"2\" marker-end=\"url(#arrow)\"><title>Weights from batch-norm-10 to leaky-relu-10</title></line><rect x=\"365.6666666666667\" y=\"1884\" width=\"202\" height=\"202\" style=\"fill:none;stroke:black;stroke-width:2\"/><image id=\"Residual CNN_batch-norm-10_18\" class=\"Residual CNN_batch-norm-10\" x=\"366.6666666666667\" y=\"1885\" height=\"200\" width=\"200\" preserveAspectRatio=\"none\" href=\"data:image/gif;base64,R0lGODdhBgBLAIcAAP/9/QAAAAAAAAAAAAAAAAAAAAAAAAAAAAAAAAAAAAAAAAAAAAAAAAAAAAAAAAAAAAAAAAAAAAAAAAAAAAAAAAAAAAAAAAAAAAAAAAAAAAAAAAAAAAAAAAAAAAAAAAAAAAAAAAAAAAAAAAAAAAAAAAAAAAAAAAAAAAAAAAAAAAAAAAAAAAAAAAAAAAAAAAAAAAAAAAAAAAAAAAAAAAAAAAAAAAAAAAAAAAAAAAAAAAAAAAAAAAAAAAAAAAAAAAAAAAAAAAAAAAAAAAAAAAAAAAAAAAAAAAAAAAAAAAAAAAAAAAAAAAAAAAAAAAAAAAAAAAAAAAAAAAAAAAAAAAAAAAAAAAAAAAAAAAAAAAAAAAAAAAAAAAAAAAAAAAAAAAAAAAAAAAAAAAAAAAAAAAAAAAAAAAAAAAAAAAAAAAAAAAAAAAAAAAAAAAAAAAAAAAAAAAAAAAAAAAAAAAAAAAAAAAAAAAAAAAAAAAAAAAAAAAAAAAAAAAAAAAAAAAAAAAAAAAAAAAAAAAAAAAAAAAAAAAAAAAAAAAAAAAAAAAAAAAAAAAAAAAAAAAAAAAAAAAAAAAAAAAAAAAAAAAAAAAAAAAAAAAAAAAAAAAAAAAAAAAAAAAAAAAAAAAAAAAAAAAAAAAAAAAAAAAAAAAAAAAAAAAAAAAAAAAAAAAAAAAAAAAAAAAAAAAAAAAAAAAAAAAAAAAAAAAAAAAAAAAAAAAAAAAAAAAAAAAAAAAAAAAAAAAAAAAAAAAAAAAAAAAAAAAAAAAAAAAAAAAAAAAAAAAAAAAAAAAAAAAAAAAAAAAAAAAAAAAAAAAAAAAAAAAAAAAAAAAAAAAAAAAAAAAAAAAAAAAAAAAAAAAAAAAAAAAAAAAAAAAAAAAAAAAAAAAAAAAAAAAAAAAAAAAAAAAAAAAAAAAAAAAAAAAAAAAAAAAAAAAAAAAAAAAAAAAAAAAAAAAAAAAAAAAAAAAAAAAAAAAAAAAAAAAAAAAAAAAAAAAAAAAAAAAAAAAAAAAAAAAAAAAAAACwAAAAABgBLAAAIJAABCBxIsKDBgwgTKlzIsKHDhxAjSpxIsaLFixgzatzIsePDgAA7\"><title>Layer: batch-norm-10 (hidden)\n",
       " Keras class = BatchNormalization\n",
       " axis = 1</title></image><text x=\"571.6666666666667\" y=\"1987.0\" font-family=\"monospace\" font-size=\"12\" text-anchor=\"start\" alignment-baseline=\"central\">batch-norm-10</text><text x=\"571.6666666666667\" y=\"1890\" font-family=\"monospace\" font-size=\"12\" text-anchor=\"start\" alignment-baseline=\"central\">7</text><text x=\"354.6666666666667\" y=\"2080\" font-family=\"monospace\" font-size=\"12\" text-anchor=\"start\" alignment-baseline=\"central\">0</text><line x1=\"233.33333333333334\" y1=\"2115\" x2=\"233.33333333333334\" y2=\"1885\" stroke=\"black\" stroke-width=\"2\"><title>Weights from leaky-relu-9 to add-5</title></line><line x1=\"466.6666666666667\" y1=\"2114\" x2=\"466.6666666666667\" y2=\"2087\" stroke=\"black\" stroke-width=\"2\" marker-end=\"url(#arrow)\"><title>Weights from conv2d-10 to batch-norm-10\n",
       " batch-norm-10/gamma:0 has shape (75,)\n",
       " batch-norm-10/beta:0 has shape (75,)\n",
       " batch-norm-10/moving_mean:0 has shape (75,)\n",
       " batch-norm-10/moving_variance:0 has shape (75,)</title></line><rect x=\"365.6666666666667\" y=\"2114\" width=\"202\" height=\"202\" style=\"fill:none;stroke:black;stroke-width:2\"/><image id=\"Residual CNN_conv2d-10_19\" class=\"Residual CNN_conv2d-10\" x=\"366.6666666666667\" y=\"2115\" height=\"200\" width=\"200\" preserveAspectRatio=\"none\" href=\"data:image/gif;base64,R0lGODdhBgBLAIcAAP/9/QAAAAAAAAAAAAAAAAAAAAAAAAAAAAAAAAAAAAAAAAAAAAAAAAAAAAAAAAAAAAAAAAAAAAAAAAAAAAAAAAAAAAAAAAAAAAAAAAAAAAAAAAAAAAAAAAAAAAAAAAAAAAAAAAAAAAAAAAAAAAAAAAAAAAAAAAAAAAAAAAAAAAAAAAAAAAAAAAAAAAAAAAAAAAAAAAAAAAAAAAAAAAAAAAAAAAAAAAAAAAAAAAAAAAAAAAAAAAAAAAAAAAAAAAAAAAAAAAAAAAAAAAAAAAAAAAAAAAAAAAAAAAAAAAAAAAAAAAAAAAAAAAAAAAAAAAAAAAAAAAAAAAAAAAAAAAAAAAAAAAAAAAAAAAAAAAAAAAAAAAAAAAAAAAAAAAAAAAAAAAAAAAAAAAAAAAAAAAAAAAAAAAAAAAAAAAAAAAAAAAAAAAAAAAAAAAAAAAAAAAAAAAAAAAAAAAAAAAAAAAAAAAAAAAAAAAAAAAAAAAAAAAAAAAAAAAAAAAAAAAAAAAAAAAAAAAAAAAAAAAAAAAAAAAAAAAAAAAAAAAAAAAAAAAAAAAAAAAAAAAAAAAAAAAAAAAAAAAAAAAAAAAAAAAAAAAAAAAAAAAAAAAAAAAAAAAAAAAAAAAAAAAAAAAAAAAAAAAAAAAAAAAAAAAAAAAAAAAAAAAAAAAAAAAAAAAAAAAAAAAAAAAAAAAAAAAAAAAAAAAAAAAAAAAAAAAAAAAAAAAAAAAAAAAAAAAAAAAAAAAAAAAAAAAAAAAAAAAAAAAAAAAAAAAAAAAAAAAAAAAAAAAAAAAAAAAAAAAAAAAAAAAAAAAAAAAAAAAAAAAAAAAAAAAAAAAAAAAAAAAAAAAAAAAAAAAAAAAAAAAAAAAAAAAAAAAAAAAAAAAAAAAAAAAAAAAAAAAAAAAAAAAAAAAAAAAAAAAAAAAAAAAAAAAAAAAAAAAAAAAAAAAAAAAAAAAAAAAAAAAAAAAAAAAAAAAAAAAAAAAAAAAAAAAAAAAAAAAAAAAAAAAAAAAAAAAAAAAAAACwAAAAABgBLAAAIJAABCBxIsKDBgwgTKlzIsKHDhxAjSpxIsaLFixgzatzIsePDgAA7\"><title>Layer: conv2d-10 (hidden)\n",
       " Keras class = Conv2D\n",
       " filters = 75\n",
       " kernel_size = (4, 4)\n",
       " data_format = channels_first\n",
       " padding = same\n",
       " use_bias = False\n",
       " activation = linear\n",
       " kernel_regularizer = &lt;keras.regularizers.L1L2 object at 0x7f58695926a0&gt;</title></image><text x=\"571.6666666666667\" y=\"2217.0\" font-family=\"monospace\" font-size=\"12\" text-anchor=\"start\" alignment-baseline=\"central\">conv2d-10</text><text x=\"571.6666666666667\" y=\"2120\" font-family=\"monospace\" font-size=\"12\" text-anchor=\"start\" alignment-baseline=\"central\">7</text><text x=\"354.6666666666667\" y=\"2310\" font-family=\"monospace\" font-size=\"12\" text-anchor=\"start\" alignment-baseline=\"central\">0</text><line x1=\"350.0\" y1=\"2344\" x2=\"466.6666666666667\" y2=\"2317\" stroke=\"black\" stroke-width=\"2\" marker-end=\"url(#arrow)\"><title>Weights from leaky-relu-9 to conv2d-10\n",
       " conv2d-10/kernel:0 has shape (4, 4, 75, 75)</title></line><line x1=\"350.0\" y1=\"2344\" x2=\"233.33333333333334\" y2=\"2115\" stroke=\"black\" stroke-width=\"2\"><title>Weights from leaky-relu-9 to add-5</title></line><rect x=\"249.0\" y=\"2344\" width=\"202\" height=\"202\" style=\"fill:none;stroke:black;stroke-width:2\"/><image id=\"Residual CNN_leaky-relu-9_20\" class=\"Residual CNN_leaky-relu-9\" x=\"250.0\" y=\"2345\" height=\"200\" width=\"200\" preserveAspectRatio=\"none\" href=\"data:image/gif;base64,R0lGODdhBgBLAIcAAP/9/QAAAAAAAAAAAAAAAAAAAAAAAAAAAAAAAAAAAAAAAAAAAAAAAAAAAAAAAAAAAAAAAAAAAAAAAAAAAAAAAAAAAAAAAAAAAAAAAAAAAAAAAAAAAAAAAAAAAAAAAAAAAAAAAAAAAAAAAAAAAAAAAAAAAAAAAAAAAAAAAAAAAAAAAAAAAAAAAAAAAAAAAAAAAAAAAAAAAAAAAAAAAAAAAAAAAAAAAAAAAAAAAAAAAAAAAAAAAAAAAAAAAAAAAAAAAAAAAAAAAAAAAAAAAAAAAAAAAAAAAAAAAAAAAAAAAAAAAAAAAAAAAAAAAAAAAAAAAAAAAAAAAAAAAAAAAAAAAAAAAAAAAAAAAAAAAAAAAAAAAAAAAAAAAAAAAAAAAAAAAAAAAAAAAAAAAAAAAAAAAAAAAAAAAAAAAAAAAAAAAAAAAAAAAAAAAAAAAAAAAAAAAAAAAAAAAAAAAAAAAAAAAAAAAAAAAAAAAAAAAAAAAAAAAAAAAAAAAAAAAAAAAAAAAAAAAAAAAAAAAAAAAAAAAAAAAAAAAAAAAAAAAAAAAAAAAAAAAAAAAAAAAAAAAAAAAAAAAAAAAAAAAAAAAAAAAAAAAAAAAAAAAAAAAAAAAAAAAAAAAAAAAAAAAAAAAAAAAAAAAAAAAAAAAAAAAAAAAAAAAAAAAAAAAAAAAAAAAAAAAAAAAAAAAAAAAAAAAAAAAAAAAAAAAAAAAAAAAAAAAAAAAAAAAAAAAAAAAAAAAAAAAAAAAAAAAAAAAAAAAAAAAAAAAAAAAAAAAAAAAAAAAAAAAAAAAAAAAAAAAAAAAAAAAAAAAAAAAAAAAAAAAAAAAAAAAAAAAAAAAAAAAAAAAAAAAAAAAAAAAAAAAAAAAAAAAAAAAAAAAAAAAAAAAAAAAAAAAAAAAAAAAAAAAAAAAAAAAAAAAAAAAAAAAAAAAAAAAAAAAAAAAAAAAAAAAAAAAAAAAAAAAAAAAAAAAAAAAAAAAAAAAAAAAAAAAAAAAAAAAAAAAAAAAAAAAAAAAAAAACwAAAAABgBLAAAIJAABCBxIsKDBgwgTKlzIsKHDhxAjSpxIsaLFixgzatzIsePDgAA7\"><title>Layer: leaky-relu-9 (hidden)\n",
       " Keras class = LeakyReLU</title></image><text x=\"455.0\" y=\"2447.0\" font-family=\"monospace\" font-size=\"12\" text-anchor=\"start\" alignment-baseline=\"central\">leaky-relu-9</text><text x=\"455.0\" y=\"2350\" font-family=\"monospace\" font-size=\"12\" text-anchor=\"start\" alignment-baseline=\"central\">7</text><text x=\"238.0\" y=\"2540\" font-family=\"monospace\" font-size=\"12\" text-anchor=\"start\" alignment-baseline=\"central\">0</text><line x1=\"350.0\" y1=\"2574\" x2=\"350.0\" y2=\"2547\" stroke=\"black\" stroke-width=\"2\" marker-end=\"url(#arrow)\"><title>Weights from add-4 to leaky-relu-9</title></line><rect x=\"249.0\" y=\"2574\" width=\"202\" height=\"202\" style=\"fill:none;stroke:black;stroke-width:2\"/><image id=\"Residual CNN_add-4_21\" class=\"Residual CNN_add-4\" x=\"250.0\" y=\"2575\" height=\"200\" width=\"200\" preserveAspectRatio=\"none\" href=\"data:image/gif;base64,R0lGODdhBgBLAIcAAP/9/QAAAAAAAAAAAAAAAAAAAAAAAAAAAAAAAAAAAAAAAAAAAAAAAAAAAAAAAAAAAAAAAAAAAAAAAAAAAAAAAAAAAAAAAAAAAAAAAAAAAAAAAAAAAAAAAAAAAAAAAAAAAAAAAAAAAAAAAAAAAAAAAAAAAAAAAAAAAAAAAAAAAAAAAAAAAAAAAAAAAAAAAAAAAAAAAAAAAAAAAAAAAAAAAAAAAAAAAAAAAAAAAAAAAAAAAAAAAAAAAAAAAAAAAAAAAAAAAAAAAAAAAAAAAAAAAAAAAAAAAAAAAAAAAAAAAAAAAAAAAAAAAAAAAAAAAAAAAAAAAAAAAAAAAAAAAAAAAAAAAAAAAAAAAAAAAAAAAAAAAAAAAAAAAAAAAAAAAAAAAAAAAAAAAAAAAAAAAAAAAAAAAAAAAAAAAAAAAAAAAAAAAAAAAAAAAAAAAAAAAAAAAAAAAAAAAAAAAAAAAAAAAAAAAAAAAAAAAAAAAAAAAAAAAAAAAAAAAAAAAAAAAAAAAAAAAAAAAAAAAAAAAAAAAAAAAAAAAAAAAAAAAAAAAAAAAAAAAAAAAAAAAAAAAAAAAAAAAAAAAAAAAAAAAAAAAAAAAAAAAAAAAAAAAAAAAAAAAAAAAAAAAAAAAAAAAAAAAAAAAAAAAAAAAAAAAAAAAAAAAAAAAAAAAAAAAAAAAAAAAAAAAAAAAAAAAAAAAAAAAAAAAAAAAAAAAAAAAAAAAAAAAAAAAAAAAAAAAAAAAAAAAAAAAAAAAAAAAAAAAAAAAAAAAAAAAAAAAAAAAAAAAAAAAAAAAAAAAAAAAAAAAAAAAAAAAAAAAAAAAAAAAAAAAAAAAAAAAAAAAAAAAAAAAAAAAAAAAAAAAAAAAAAAAAAAAAAAAAAAAAAAAAAAAAAAAAAAAAAAAAAAAAAAAAAAAAAAAAAAAAAAAAAAAAAAAAAAAAAAAAAAAAAAAAAAAAAAAAAAAAAAAAAAAAAAAAAAAAAAAAAAAAAAAAAAAAAAAAAAAAAAAAAAAAAAAAAAAAAAACwAAAAABgBLAAAIJAABCBxIsKDBgwgTKlzIsKHDhxAjSpxIsaLFixgzatzIsePDgAA7\"><title>Layer: add-4 (hidden)\n",
       " Keras class = Add</title></image><text x=\"455.0\" y=\"2677.0\" font-family=\"monospace\" font-size=\"12\" text-anchor=\"start\" alignment-baseline=\"central\">add-4</text><text x=\"455.0\" y=\"2580\" font-family=\"monospace\" font-size=\"12\" text-anchor=\"start\" alignment-baseline=\"central\">7</text><text x=\"238.0\" y=\"2770\" font-family=\"monospace\" font-size=\"12\" text-anchor=\"start\" alignment-baseline=\"central\">0</text><line x1=\"233.33333333333334\" y1=\"2805\" x2=\"350.0\" y2=\"2775\" stroke=\"black\" stroke-width=\"2\" marker-end=\"url(#arrow)\"><title>Weights from leaky-relu-7 to add-4</title></line><line x1=\"466.6666666666667\" y1=\"2804\" x2=\"350.0\" y2=\"2777\" stroke=\"black\" stroke-width=\"2\" marker-end=\"url(#arrow)\"><title>Weights from batch-norm-9 to add-4</title></line><rect x=\"365.6666666666667\" y=\"2804\" width=\"202\" height=\"202\" style=\"fill:none;stroke:black;stroke-width:2\"/><image id=\"Residual CNN_batch-norm-9_22\" class=\"Residual CNN_batch-norm-9\" x=\"366.6666666666667\" y=\"2805\" height=\"200\" width=\"200\" preserveAspectRatio=\"none\" href=\"data:image/gif;base64,R0lGODdhBgBLAIcAAP/9/QAAAAAAAAAAAAAAAAAAAAAAAAAAAAAAAAAAAAAAAAAAAAAAAAAAAAAAAAAAAAAAAAAAAAAAAAAAAAAAAAAAAAAAAAAAAAAAAAAAAAAAAAAAAAAAAAAAAAAAAAAAAAAAAAAAAAAAAAAAAAAAAAAAAAAAAAAAAAAAAAAAAAAAAAAAAAAAAAAAAAAAAAAAAAAAAAAAAAAAAAAAAAAAAAAAAAAAAAAAAAAAAAAAAAAAAAAAAAAAAAAAAAAAAAAAAAAAAAAAAAAAAAAAAAAAAAAAAAAAAAAAAAAAAAAAAAAAAAAAAAAAAAAAAAAAAAAAAAAAAAAAAAAAAAAAAAAAAAAAAAAAAAAAAAAAAAAAAAAAAAAAAAAAAAAAAAAAAAAAAAAAAAAAAAAAAAAAAAAAAAAAAAAAAAAAAAAAAAAAAAAAAAAAAAAAAAAAAAAAAAAAAAAAAAAAAAAAAAAAAAAAAAAAAAAAAAAAAAAAAAAAAAAAAAAAAAAAAAAAAAAAAAAAAAAAAAAAAAAAAAAAAAAAAAAAAAAAAAAAAAAAAAAAAAAAAAAAAAAAAAAAAAAAAAAAAAAAAAAAAAAAAAAAAAAAAAAAAAAAAAAAAAAAAAAAAAAAAAAAAAAAAAAAAAAAAAAAAAAAAAAAAAAAAAAAAAAAAAAAAAAAAAAAAAAAAAAAAAAAAAAAAAAAAAAAAAAAAAAAAAAAAAAAAAAAAAAAAAAAAAAAAAAAAAAAAAAAAAAAAAAAAAAAAAAAAAAAAAAAAAAAAAAAAAAAAAAAAAAAAAAAAAAAAAAAAAAAAAAAAAAAAAAAAAAAAAAAAAAAAAAAAAAAAAAAAAAAAAAAAAAAAAAAAAAAAAAAAAAAAAAAAAAAAAAAAAAAAAAAAAAAAAAAAAAAAAAAAAAAAAAAAAAAAAAAAAAAAAAAAAAAAAAAAAAAAAAAAAAAAAAAAAAAAAAAAAAAAAAAAAAAAAAAAAAAAAAAAAAAAAAAAAAAAAAAAAAAAAAAAAAAAAAAAAAAAAAAAAAAACwAAAAABgBLAAAIJAABCBxIsKDBgwgTKlzIsKHDhxAjSpxIsaLFixgzatzIsePDgAA7\"><title>Layer: batch-norm-9 (hidden)\n",
       " Keras class = BatchNormalization\n",
       " axis = 1</title></image><text x=\"571.6666666666667\" y=\"2907.0\" font-family=\"monospace\" font-size=\"12\" text-anchor=\"start\" alignment-baseline=\"central\">batch-norm-9</text><text x=\"571.6666666666667\" y=\"2810\" font-family=\"monospace\" font-size=\"12\" text-anchor=\"start\" alignment-baseline=\"central\">7</text><text x=\"354.6666666666667\" y=\"3000\" font-family=\"monospace\" font-size=\"12\" text-anchor=\"start\" alignment-baseline=\"central\">0</text><line x1=\"233.33333333333334\" y1=\"3035\" x2=\"233.33333333333334\" y2=\"2805\" stroke=\"black\" stroke-width=\"2\"><title>Weights from leaky-relu-7 to add-4</title></line><line x1=\"466.6666666666667\" y1=\"3034\" x2=\"466.6666666666667\" y2=\"3007\" stroke=\"black\" stroke-width=\"2\" marker-end=\"url(#arrow)\"><title>Weights from conv2d-9 to batch-norm-9\n",
       " batch-norm-9/gamma:0 has shape (75,)\n",
       " batch-norm-9/beta:0 has shape (75,)\n",
       " batch-norm-9/moving_mean:0 has shape (75,)\n",
       " batch-norm-9/moving_variance:0 has shape (75,)</title></line><rect x=\"365.6666666666667\" y=\"3034\" width=\"202\" height=\"202\" style=\"fill:none;stroke:black;stroke-width:2\"/><image id=\"Residual CNN_conv2d-9_23\" class=\"Residual CNN_conv2d-9\" x=\"366.6666666666667\" y=\"3035\" height=\"200\" width=\"200\" preserveAspectRatio=\"none\" href=\"data:image/gif;base64,R0lGODdhBgBLAIcAAP/9/QAAAAAAAAAAAAAAAAAAAAAAAAAAAAAAAAAAAAAAAAAAAAAAAAAAAAAAAAAAAAAAAAAAAAAAAAAAAAAAAAAAAAAAAAAAAAAAAAAAAAAAAAAAAAAAAAAAAAAAAAAAAAAAAAAAAAAAAAAAAAAAAAAAAAAAAAAAAAAAAAAAAAAAAAAAAAAAAAAAAAAAAAAAAAAAAAAAAAAAAAAAAAAAAAAAAAAAAAAAAAAAAAAAAAAAAAAAAAAAAAAAAAAAAAAAAAAAAAAAAAAAAAAAAAAAAAAAAAAAAAAAAAAAAAAAAAAAAAAAAAAAAAAAAAAAAAAAAAAAAAAAAAAAAAAAAAAAAAAAAAAAAAAAAAAAAAAAAAAAAAAAAAAAAAAAAAAAAAAAAAAAAAAAAAAAAAAAAAAAAAAAAAAAAAAAAAAAAAAAAAAAAAAAAAAAAAAAAAAAAAAAAAAAAAAAAAAAAAAAAAAAAAAAAAAAAAAAAAAAAAAAAAAAAAAAAAAAAAAAAAAAAAAAAAAAAAAAAAAAAAAAAAAAAAAAAAAAAAAAAAAAAAAAAAAAAAAAAAAAAAAAAAAAAAAAAAAAAAAAAAAAAAAAAAAAAAAAAAAAAAAAAAAAAAAAAAAAAAAAAAAAAAAAAAAAAAAAAAAAAAAAAAAAAAAAAAAAAAAAAAAAAAAAAAAAAAAAAAAAAAAAAAAAAAAAAAAAAAAAAAAAAAAAAAAAAAAAAAAAAAAAAAAAAAAAAAAAAAAAAAAAAAAAAAAAAAAAAAAAAAAAAAAAAAAAAAAAAAAAAAAAAAAAAAAAAAAAAAAAAAAAAAAAAAAAAAAAAAAAAAAAAAAAAAAAAAAAAAAAAAAAAAAAAAAAAAAAAAAAAAAAAAAAAAAAAAAAAAAAAAAAAAAAAAAAAAAAAAAAAAAAAAAAAAAAAAAAAAAAAAAAAAAAAAAAAAAAAAAAAAAAAAAAAAAAAAAAAAAAAAAAAAAAAAAAAAAAAAAAAAAAAAAAAAAAAAAAAAAAAAAAAAAAAAAAAAAAAAAAACwAAAAABgBLAAAIJAABCBxIsKDBgwgTKlzIsKHDhxAjSpxIsaLFixgzatzIsePDgAA7\"><title>Layer: conv2d-9 (hidden)\n",
       " Keras class = Conv2D\n",
       " filters = 75\n",
       " kernel_size = (4, 4)\n",
       " data_format = channels_first\n",
       " padding = same\n",
       " use_bias = False\n",
       " activation = linear\n",
       " kernel_regularizer = &lt;keras.regularizers.L1L2 object at 0x7f58695925c0&gt;</title></image><text x=\"571.6666666666667\" y=\"3137.0\" font-family=\"monospace\" font-size=\"12\" text-anchor=\"start\" alignment-baseline=\"central\">conv2d-9</text><text x=\"571.6666666666667\" y=\"3040\" font-family=\"monospace\" font-size=\"12\" text-anchor=\"start\" alignment-baseline=\"central\">7</text><text x=\"354.6666666666667\" y=\"3230\" font-family=\"monospace\" font-size=\"12\" text-anchor=\"start\" alignment-baseline=\"central\">0</text><line x1=\"233.33333333333334\" y1=\"3265\" x2=\"233.33333333333334\" y2=\"3035\" stroke=\"black\" stroke-width=\"2\"><title>Weights from leaky-relu-7 to add-4</title></line><line x1=\"466.6666666666667\" y1=\"3264\" x2=\"466.6666666666667\" y2=\"3237\" stroke=\"black\" stroke-width=\"2\" marker-end=\"url(#arrow)\"><title>Weights from leaky-relu-8 to conv2d-9\n",
       " conv2d-9/kernel:0 has shape (4, 4, 75, 75)</title></line><rect x=\"365.6666666666667\" y=\"3264\" width=\"202\" height=\"202\" style=\"fill:none;stroke:black;stroke-width:2\"/><image id=\"Residual CNN_leaky-relu-8_24\" class=\"Residual CNN_leaky-relu-8\" x=\"366.6666666666667\" y=\"3265\" height=\"200\" width=\"200\" preserveAspectRatio=\"none\" href=\"data:image/gif;base64,R0lGODdhBgBLAIcAAP/9/QAAAAAAAAAAAAAAAAAAAAAAAAAAAAAAAAAAAAAAAAAAAAAAAAAAAAAAAAAAAAAAAAAAAAAAAAAAAAAAAAAAAAAAAAAAAAAAAAAAAAAAAAAAAAAAAAAAAAAAAAAAAAAAAAAAAAAAAAAAAAAAAAAAAAAAAAAAAAAAAAAAAAAAAAAAAAAAAAAAAAAAAAAAAAAAAAAAAAAAAAAAAAAAAAAAAAAAAAAAAAAAAAAAAAAAAAAAAAAAAAAAAAAAAAAAAAAAAAAAAAAAAAAAAAAAAAAAAAAAAAAAAAAAAAAAAAAAAAAAAAAAAAAAAAAAAAAAAAAAAAAAAAAAAAAAAAAAAAAAAAAAAAAAAAAAAAAAAAAAAAAAAAAAAAAAAAAAAAAAAAAAAAAAAAAAAAAAAAAAAAAAAAAAAAAAAAAAAAAAAAAAAAAAAAAAAAAAAAAAAAAAAAAAAAAAAAAAAAAAAAAAAAAAAAAAAAAAAAAAAAAAAAAAAAAAAAAAAAAAAAAAAAAAAAAAAAAAAAAAAAAAAAAAAAAAAAAAAAAAAAAAAAAAAAAAAAAAAAAAAAAAAAAAAAAAAAAAAAAAAAAAAAAAAAAAAAAAAAAAAAAAAAAAAAAAAAAAAAAAAAAAAAAAAAAAAAAAAAAAAAAAAAAAAAAAAAAAAAAAAAAAAAAAAAAAAAAAAAAAAAAAAAAAAAAAAAAAAAAAAAAAAAAAAAAAAAAAAAAAAAAAAAAAAAAAAAAAAAAAAAAAAAAAAAAAAAAAAAAAAAAAAAAAAAAAAAAAAAAAAAAAAAAAAAAAAAAAAAAAAAAAAAAAAAAAAAAAAAAAAAAAAAAAAAAAAAAAAAAAAAAAAAAAAAAAAAAAAAAAAAAAAAAAAAAAAAAAAAAAAAAAAAAAAAAAAAAAAAAAAAAAAAAAAAAAAAAAAAAAAAAAAAAAAAAAAAAAAAAAAAAAAAAAAAAAAAAAAAAAAAAAAAAAAAAAAAAAAAAAAAAAAAAAAAAAAAAAAAAAAAAAAAAAAAAAAAAAAAAAACwAAAAABgBLAAAIJAABCBxIsKDBgwgTKlzIsKHDhxAjSpxIsaLFixgzatzIsePDgAA7\"><title>Layer: leaky-relu-8 (hidden)\n",
       " Keras class = LeakyReLU</title></image><text x=\"571.6666666666667\" y=\"3367.0\" font-family=\"monospace\" font-size=\"12\" text-anchor=\"start\" alignment-baseline=\"central\">leaky-relu-8</text><text x=\"571.6666666666667\" y=\"3270\" font-family=\"monospace\" font-size=\"12\" text-anchor=\"start\" alignment-baseline=\"central\">7</text><text x=\"354.6666666666667\" y=\"3460\" font-family=\"monospace\" font-size=\"12\" text-anchor=\"start\" alignment-baseline=\"central\">0</text><line x1=\"233.33333333333334\" y1=\"3495\" x2=\"233.33333333333334\" y2=\"3265\" stroke=\"black\" stroke-width=\"2\"><title>Weights from leaky-relu-7 to add-4</title></line><line x1=\"466.6666666666667\" y1=\"3494\" x2=\"466.6666666666667\" y2=\"3467\" stroke=\"black\" stroke-width=\"2\" marker-end=\"url(#arrow)\"><title>Weights from batch-norm-8 to leaky-relu-8</title></line><rect x=\"365.6666666666667\" y=\"3494\" width=\"202\" height=\"202\" style=\"fill:none;stroke:black;stroke-width:2\"/><image id=\"Residual CNN_batch-norm-8_25\" class=\"Residual CNN_batch-norm-8\" x=\"366.6666666666667\" y=\"3495\" height=\"200\" width=\"200\" preserveAspectRatio=\"none\" href=\"data:image/gif;base64,R0lGODdhBgBLAIcAAP/9/QAAAAAAAAAAAAAAAAAAAAAAAAAAAAAAAAAAAAAAAAAAAAAAAAAAAAAAAAAAAAAAAAAAAAAAAAAAAAAAAAAAAAAAAAAAAAAAAAAAAAAAAAAAAAAAAAAAAAAAAAAAAAAAAAAAAAAAAAAAAAAAAAAAAAAAAAAAAAAAAAAAAAAAAAAAAAAAAAAAAAAAAAAAAAAAAAAAAAAAAAAAAAAAAAAAAAAAAAAAAAAAAAAAAAAAAAAAAAAAAAAAAAAAAAAAAAAAAAAAAAAAAAAAAAAAAAAAAAAAAAAAAAAAAAAAAAAAAAAAAAAAAAAAAAAAAAAAAAAAAAAAAAAAAAAAAAAAAAAAAAAAAAAAAAAAAAAAAAAAAAAAAAAAAAAAAAAAAAAAAAAAAAAAAAAAAAAAAAAAAAAAAAAAAAAAAAAAAAAAAAAAAAAAAAAAAAAAAAAAAAAAAAAAAAAAAAAAAAAAAAAAAAAAAAAAAAAAAAAAAAAAAAAAAAAAAAAAAAAAAAAAAAAAAAAAAAAAAAAAAAAAAAAAAAAAAAAAAAAAAAAAAAAAAAAAAAAAAAAAAAAAAAAAAAAAAAAAAAAAAAAAAAAAAAAAAAAAAAAAAAAAAAAAAAAAAAAAAAAAAAAAAAAAAAAAAAAAAAAAAAAAAAAAAAAAAAAAAAAAAAAAAAAAAAAAAAAAAAAAAAAAAAAAAAAAAAAAAAAAAAAAAAAAAAAAAAAAAAAAAAAAAAAAAAAAAAAAAAAAAAAAAAAAAAAAAAAAAAAAAAAAAAAAAAAAAAAAAAAAAAAAAAAAAAAAAAAAAAAAAAAAAAAAAAAAAAAAAAAAAAAAAAAAAAAAAAAAAAAAAAAAAAAAAAAAAAAAAAAAAAAAAAAAAAAAAAAAAAAAAAAAAAAAAAAAAAAAAAAAAAAAAAAAAAAAAAAAAAAAAAAAAAAAAAAAAAAAAAAAAAAAAAAAAAAAAAAAAAAAAAAAAAAAAAAAAAAAAAAAAAAAAAAAAAAAAAAAAAAAAAAAAAAAAAAAAAAAAAAAACwAAAAABgBLAAAIJAABCBxIsKDBgwgTKlzIsKHDhxAjSpxIsaLFixgzatzIsePDgAA7\"><title>Layer: batch-norm-8 (hidden)\n",
       " Keras class = BatchNormalization\n",
       " axis = 1</title></image><text x=\"571.6666666666667\" y=\"3597.0\" font-family=\"monospace\" font-size=\"12\" text-anchor=\"start\" alignment-baseline=\"central\">batch-norm-8</text><text x=\"571.6666666666667\" y=\"3500\" font-family=\"monospace\" font-size=\"12\" text-anchor=\"start\" alignment-baseline=\"central\">7</text><text x=\"354.6666666666667\" y=\"3690\" font-family=\"monospace\" font-size=\"12\" text-anchor=\"start\" alignment-baseline=\"central\">0</text><line x1=\"233.33333333333334\" y1=\"3725\" x2=\"233.33333333333334\" y2=\"3495\" stroke=\"black\" stroke-width=\"2\"><title>Weights from leaky-relu-7 to add-4</title></line><line x1=\"466.6666666666667\" y1=\"3724\" x2=\"466.6666666666667\" y2=\"3697\" stroke=\"black\" stroke-width=\"2\" marker-end=\"url(#arrow)\"><title>Weights from conv2d-8 to batch-norm-8\n",
       " batch-norm-8/gamma:0 has shape (75,)\n",
       " batch-norm-8/beta:0 has shape (75,)\n",
       " batch-norm-8/moving_mean:0 has shape (75,)\n",
       " batch-norm-8/moving_variance:0 has shape (75,)</title></line><rect x=\"365.6666666666667\" y=\"3724\" width=\"202\" height=\"202\" style=\"fill:none;stroke:black;stroke-width:2\"/><image id=\"Residual CNN_conv2d-8_26\" class=\"Residual CNN_conv2d-8\" x=\"366.6666666666667\" y=\"3725\" height=\"200\" width=\"200\" preserveAspectRatio=\"none\" href=\"data:image/gif;base64,R0lGODdhBgBLAIcAAP/9/QAAAAAAAAAAAAAAAAAAAAAAAAAAAAAAAAAAAAAAAAAAAAAAAAAAAAAAAAAAAAAAAAAAAAAAAAAAAAAAAAAAAAAAAAAAAAAAAAAAAAAAAAAAAAAAAAAAAAAAAAAAAAAAAAAAAAAAAAAAAAAAAAAAAAAAAAAAAAAAAAAAAAAAAAAAAAAAAAAAAAAAAAAAAAAAAAAAAAAAAAAAAAAAAAAAAAAAAAAAAAAAAAAAAAAAAAAAAAAAAAAAAAAAAAAAAAAAAAAAAAAAAAAAAAAAAAAAAAAAAAAAAAAAAAAAAAAAAAAAAAAAAAAAAAAAAAAAAAAAAAAAAAAAAAAAAAAAAAAAAAAAAAAAAAAAAAAAAAAAAAAAAAAAAAAAAAAAAAAAAAAAAAAAAAAAAAAAAAAAAAAAAAAAAAAAAAAAAAAAAAAAAAAAAAAAAAAAAAAAAAAAAAAAAAAAAAAAAAAAAAAAAAAAAAAAAAAAAAAAAAAAAAAAAAAAAAAAAAAAAAAAAAAAAAAAAAAAAAAAAAAAAAAAAAAAAAAAAAAAAAAAAAAAAAAAAAAAAAAAAAAAAAAAAAAAAAAAAAAAAAAAAAAAAAAAAAAAAAAAAAAAAAAAAAAAAAAAAAAAAAAAAAAAAAAAAAAAAAAAAAAAAAAAAAAAAAAAAAAAAAAAAAAAAAAAAAAAAAAAAAAAAAAAAAAAAAAAAAAAAAAAAAAAAAAAAAAAAAAAAAAAAAAAAAAAAAAAAAAAAAAAAAAAAAAAAAAAAAAAAAAAAAAAAAAAAAAAAAAAAAAAAAAAAAAAAAAAAAAAAAAAAAAAAAAAAAAAAAAAAAAAAAAAAAAAAAAAAAAAAAAAAAAAAAAAAAAAAAAAAAAAAAAAAAAAAAAAAAAAAAAAAAAAAAAAAAAAAAAAAAAAAAAAAAAAAAAAAAAAAAAAAAAAAAAAAAAAAAAAAAAAAAAAAAAAAAAAAAAAAAAAAAAAAAAAAAAAAAAAAAAAAAAAAAAAAAAAAAAAAAAAAAAAAAAAAAAAAAAAACwAAAAABgBLAAAIJAABCBxIsKDBgwgTKlzIsKHDhxAjSpxIsaLFixgzatzIsePDgAA7\"><title>Layer: conv2d-8 (hidden)\n",
       " Keras class = Conv2D\n",
       " filters = 75\n",
       " kernel_size = (4, 4)\n",
       " data_format = channels_first\n",
       " padding = same\n",
       " use_bias = False\n",
       " activation = linear\n",
       " kernel_regularizer = &lt;keras.regularizers.L1L2 object at 0x7f58695bfa58&gt;</title></image><text x=\"571.6666666666667\" y=\"3827.0\" font-family=\"monospace\" font-size=\"12\" text-anchor=\"start\" alignment-baseline=\"central\">conv2d-8</text><text x=\"571.6666666666667\" y=\"3730\" font-family=\"monospace\" font-size=\"12\" text-anchor=\"start\" alignment-baseline=\"central\">7</text><text x=\"354.6666666666667\" y=\"3920\" font-family=\"monospace\" font-size=\"12\" text-anchor=\"start\" alignment-baseline=\"central\">0</text><line x1=\"350.0\" y1=\"3954\" x2=\"466.6666666666667\" y2=\"3927\" stroke=\"black\" stroke-width=\"2\" marker-end=\"url(#arrow)\"><title>Weights from leaky-relu-7 to conv2d-8\n",
       " conv2d-8/kernel:0 has shape (4, 4, 75, 75)</title></line><line x1=\"350.0\" y1=\"3954\" x2=\"233.33333333333334\" y2=\"3725\" stroke=\"black\" stroke-width=\"2\"><title>Weights from leaky-relu-7 to add-4</title></line><rect x=\"249.0\" y=\"3954\" width=\"202\" height=\"202\" style=\"fill:none;stroke:black;stroke-width:2\"/><image id=\"Residual CNN_leaky-relu-7_27\" class=\"Residual CNN_leaky-relu-7\" x=\"250.0\" y=\"3955\" height=\"200\" width=\"200\" preserveAspectRatio=\"none\" href=\"data:image/gif;base64,R0lGODdhBgBLAIcAAP/9/QAAAAAAAAAAAAAAAAAAAAAAAAAAAAAAAAAAAAAAAAAAAAAAAAAAAAAAAAAAAAAAAAAAAAAAAAAAAAAAAAAAAAAAAAAAAAAAAAAAAAAAAAAAAAAAAAAAAAAAAAAAAAAAAAAAAAAAAAAAAAAAAAAAAAAAAAAAAAAAAAAAAAAAAAAAAAAAAAAAAAAAAAAAAAAAAAAAAAAAAAAAAAAAAAAAAAAAAAAAAAAAAAAAAAAAAAAAAAAAAAAAAAAAAAAAAAAAAAAAAAAAAAAAAAAAAAAAAAAAAAAAAAAAAAAAAAAAAAAAAAAAAAAAAAAAAAAAAAAAAAAAAAAAAAAAAAAAAAAAAAAAAAAAAAAAAAAAAAAAAAAAAAAAAAAAAAAAAAAAAAAAAAAAAAAAAAAAAAAAAAAAAAAAAAAAAAAAAAAAAAAAAAAAAAAAAAAAAAAAAAAAAAAAAAAAAAAAAAAAAAAAAAAAAAAAAAAAAAAAAAAAAAAAAAAAAAAAAAAAAAAAAAAAAAAAAAAAAAAAAAAAAAAAAAAAAAAAAAAAAAAAAAAAAAAAAAAAAAAAAAAAAAAAAAAAAAAAAAAAAAAAAAAAAAAAAAAAAAAAAAAAAAAAAAAAAAAAAAAAAAAAAAAAAAAAAAAAAAAAAAAAAAAAAAAAAAAAAAAAAAAAAAAAAAAAAAAAAAAAAAAAAAAAAAAAAAAAAAAAAAAAAAAAAAAAAAAAAAAAAAAAAAAAAAAAAAAAAAAAAAAAAAAAAAAAAAAAAAAAAAAAAAAAAAAAAAAAAAAAAAAAAAAAAAAAAAAAAAAAAAAAAAAAAAAAAAAAAAAAAAAAAAAAAAAAAAAAAAAAAAAAAAAAAAAAAAAAAAAAAAAAAAAAAAAAAAAAAAAAAAAAAAAAAAAAAAAAAAAAAAAAAAAAAAAAAAAAAAAAAAAAAAAAAAAAAAAAAAAAAAAAAAAAAAAAAAAAAAAAAAAAAAAAAAAAAAAAAAAAAAAAAAAAAAAAAAAAAAAAAAAAAAAAAAAAAAAAAAAAACwAAAAABgBLAAAIJAABCBxIsKDBgwgTKlzIsKHDhxAjSpxIsaLFixgzatzIsePDgAA7\"><title>Layer: leaky-relu-7 (hidden)\n",
       " Keras class = LeakyReLU</title></image><text x=\"455.0\" y=\"4057.0\" font-family=\"monospace\" font-size=\"12\" text-anchor=\"start\" alignment-baseline=\"central\">leaky-relu-7</text><text x=\"455.0\" y=\"3960\" font-family=\"monospace\" font-size=\"12\" text-anchor=\"start\" alignment-baseline=\"central\">7</text><text x=\"238.0\" y=\"4150\" font-family=\"monospace\" font-size=\"12\" text-anchor=\"start\" alignment-baseline=\"central\">0</text><line x1=\"350.0\" y1=\"4184\" x2=\"350.0\" y2=\"4157\" stroke=\"black\" stroke-width=\"2\" marker-end=\"url(#arrow)\"><title>Weights from add-3 to leaky-relu-7</title></line><rect x=\"249.0\" y=\"4184\" width=\"202\" height=\"202\" style=\"fill:none;stroke:black;stroke-width:2\"/><image id=\"Residual CNN_add-3_28\" class=\"Residual CNN_add-3\" x=\"250.0\" y=\"4185\" height=\"200\" width=\"200\" preserveAspectRatio=\"none\" href=\"data:image/gif;base64,R0lGODdhBgBLAIcAAP/9/QAAAAAAAAAAAAAAAAAAAAAAAAAAAAAAAAAAAAAAAAAAAAAAAAAAAAAAAAAAAAAAAAAAAAAAAAAAAAAAAAAAAAAAAAAAAAAAAAAAAAAAAAAAAAAAAAAAAAAAAAAAAAAAAAAAAAAAAAAAAAAAAAAAAAAAAAAAAAAAAAAAAAAAAAAAAAAAAAAAAAAAAAAAAAAAAAAAAAAAAAAAAAAAAAAAAAAAAAAAAAAAAAAAAAAAAAAAAAAAAAAAAAAAAAAAAAAAAAAAAAAAAAAAAAAAAAAAAAAAAAAAAAAAAAAAAAAAAAAAAAAAAAAAAAAAAAAAAAAAAAAAAAAAAAAAAAAAAAAAAAAAAAAAAAAAAAAAAAAAAAAAAAAAAAAAAAAAAAAAAAAAAAAAAAAAAAAAAAAAAAAAAAAAAAAAAAAAAAAAAAAAAAAAAAAAAAAAAAAAAAAAAAAAAAAAAAAAAAAAAAAAAAAAAAAAAAAAAAAAAAAAAAAAAAAAAAAAAAAAAAAAAAAAAAAAAAAAAAAAAAAAAAAAAAAAAAAAAAAAAAAAAAAAAAAAAAAAAAAAAAAAAAAAAAAAAAAAAAAAAAAAAAAAAAAAAAAAAAAAAAAAAAAAAAAAAAAAAAAAAAAAAAAAAAAAAAAAAAAAAAAAAAAAAAAAAAAAAAAAAAAAAAAAAAAAAAAAAAAAAAAAAAAAAAAAAAAAAAAAAAAAAAAAAAAAAAAAAAAAAAAAAAAAAAAAAAAAAAAAAAAAAAAAAAAAAAAAAAAAAAAAAAAAAAAAAAAAAAAAAAAAAAAAAAAAAAAAAAAAAAAAAAAAAAAAAAAAAAAAAAAAAAAAAAAAAAAAAAAAAAAAAAAAAAAAAAAAAAAAAAAAAAAAAAAAAAAAAAAAAAAAAAAAAAAAAAAAAAAAAAAAAAAAAAAAAAAAAAAAAAAAAAAAAAAAAAAAAAAAAAAAAAAAAAAAAAAAAAAAAAAAAAAAAAAAAAAAAAAAAAAAAAAAAAAAAAAAAAAAAAAAAAAAAAAAAAAAAAAAACwAAAAABgBLAAAIJAABCBxIsKDBgwgTKlzIsKHDhxAjSpxIsaLFixgzatzIsePDgAA7\"><title>Layer: add-3 (hidden)\n",
       " Keras class = Add</title></image><text x=\"455.0\" y=\"4287.0\" font-family=\"monospace\" font-size=\"12\" text-anchor=\"start\" alignment-baseline=\"central\">add-3</text><text x=\"455.0\" y=\"4190\" font-family=\"monospace\" font-size=\"12\" text-anchor=\"start\" alignment-baseline=\"central\">7</text><text x=\"238.0\" y=\"4380\" font-family=\"monospace\" font-size=\"12\" text-anchor=\"start\" alignment-baseline=\"central\">0</text><line x1=\"233.33333333333334\" y1=\"4415\" x2=\"350.0\" y2=\"4385\" stroke=\"black\" stroke-width=\"2\" marker-end=\"url(#arrow)\"><title>Weights from leaky-relu-5 to add-3</title></line><line x1=\"466.6666666666667\" y1=\"4414\" x2=\"350.0\" y2=\"4387\" stroke=\"black\" stroke-width=\"2\" marker-end=\"url(#arrow)\"><title>Weights from batch-norm-7 to add-3</title></line><rect x=\"365.6666666666667\" y=\"4414\" width=\"202\" height=\"202\" style=\"fill:none;stroke:black;stroke-width:2\"/><image id=\"Residual CNN_batch-norm-7_29\" class=\"Residual CNN_batch-norm-7\" x=\"366.6666666666667\" y=\"4415\" height=\"200\" width=\"200\" preserveAspectRatio=\"none\" href=\"data:image/gif;base64,R0lGODdhBgBLAIcAAP/9/QAAAAAAAAAAAAAAAAAAAAAAAAAAAAAAAAAAAAAAAAAAAAAAAAAAAAAAAAAAAAAAAAAAAAAAAAAAAAAAAAAAAAAAAAAAAAAAAAAAAAAAAAAAAAAAAAAAAAAAAAAAAAAAAAAAAAAAAAAAAAAAAAAAAAAAAAAAAAAAAAAAAAAAAAAAAAAAAAAAAAAAAAAAAAAAAAAAAAAAAAAAAAAAAAAAAAAAAAAAAAAAAAAAAAAAAAAAAAAAAAAAAAAAAAAAAAAAAAAAAAAAAAAAAAAAAAAAAAAAAAAAAAAAAAAAAAAAAAAAAAAAAAAAAAAAAAAAAAAAAAAAAAAAAAAAAAAAAAAAAAAAAAAAAAAAAAAAAAAAAAAAAAAAAAAAAAAAAAAAAAAAAAAAAAAAAAAAAAAAAAAAAAAAAAAAAAAAAAAAAAAAAAAAAAAAAAAAAAAAAAAAAAAAAAAAAAAAAAAAAAAAAAAAAAAAAAAAAAAAAAAAAAAAAAAAAAAAAAAAAAAAAAAAAAAAAAAAAAAAAAAAAAAAAAAAAAAAAAAAAAAAAAAAAAAAAAAAAAAAAAAAAAAAAAAAAAAAAAAAAAAAAAAAAAAAAAAAAAAAAAAAAAAAAAAAAAAAAAAAAAAAAAAAAAAAAAAAAAAAAAAAAAAAAAAAAAAAAAAAAAAAAAAAAAAAAAAAAAAAAAAAAAAAAAAAAAAAAAAAAAAAAAAAAAAAAAAAAAAAAAAAAAAAAAAAAAAAAAAAAAAAAAAAAAAAAAAAAAAAAAAAAAAAAAAAAAAAAAAAAAAAAAAAAAAAAAAAAAAAAAAAAAAAAAAAAAAAAAAAAAAAAAAAAAAAAAAAAAAAAAAAAAAAAAAAAAAAAAAAAAAAAAAAAAAAAAAAAAAAAAAAAAAAAAAAAAAAAAAAAAAAAAAAAAAAAAAAAAAAAAAAAAAAAAAAAAAAAAAAAAAAAAAAAAAAAAAAAAAAAAAAAAAAAAAAAAAAAAAAAAAAAAAAAAAAAAAAAAAAAAAAAAAAAAAAAAAAAAAAACwAAAAABgBLAAAIJAABCBxIsKDBgwgTKlzIsKHDhxAjSpxIsaLFixgzatzIsePDgAA7\"><title>Layer: batch-norm-7 (hidden)\n",
       " Keras class = BatchNormalization\n",
       " axis = 1</title></image><text x=\"571.6666666666667\" y=\"4517.0\" font-family=\"monospace\" font-size=\"12\" text-anchor=\"start\" alignment-baseline=\"central\">batch-norm-7</text><text x=\"571.6666666666667\" y=\"4420\" font-family=\"monospace\" font-size=\"12\" text-anchor=\"start\" alignment-baseline=\"central\">7</text><text x=\"354.6666666666667\" y=\"4610\" font-family=\"monospace\" font-size=\"12\" text-anchor=\"start\" alignment-baseline=\"central\">0</text><line x1=\"233.33333333333334\" y1=\"4645\" x2=\"233.33333333333334\" y2=\"4415\" stroke=\"black\" stroke-width=\"2\"><title>Weights from leaky-relu-5 to add-3</title></line><line x1=\"466.6666666666667\" y1=\"4644\" x2=\"466.6666666666667\" y2=\"4617\" stroke=\"black\" stroke-width=\"2\" marker-end=\"url(#arrow)\"><title>Weights from conv2d-7 to batch-norm-7\n",
       " batch-norm-7/gamma:0 has shape (75,)\n",
       " batch-norm-7/beta:0 has shape (75,)\n",
       " batch-norm-7/moving_mean:0 has shape (75,)\n",
       " batch-norm-7/moving_variance:0 has shape (75,)</title></line><rect x=\"365.6666666666667\" y=\"4644\" width=\"202\" height=\"202\" style=\"fill:none;stroke:black;stroke-width:2\"/><image id=\"Residual CNN_conv2d-7_30\" class=\"Residual CNN_conv2d-7\" x=\"366.6666666666667\" y=\"4645\" height=\"200\" width=\"200\" preserveAspectRatio=\"none\" href=\"data:image/gif;base64,R0lGODdhBgBLAIcAAP/9/QAAAAAAAAAAAAAAAAAAAAAAAAAAAAAAAAAAAAAAAAAAAAAAAAAAAAAAAAAAAAAAAAAAAAAAAAAAAAAAAAAAAAAAAAAAAAAAAAAAAAAAAAAAAAAAAAAAAAAAAAAAAAAAAAAAAAAAAAAAAAAAAAAAAAAAAAAAAAAAAAAAAAAAAAAAAAAAAAAAAAAAAAAAAAAAAAAAAAAAAAAAAAAAAAAAAAAAAAAAAAAAAAAAAAAAAAAAAAAAAAAAAAAAAAAAAAAAAAAAAAAAAAAAAAAAAAAAAAAAAAAAAAAAAAAAAAAAAAAAAAAAAAAAAAAAAAAAAAAAAAAAAAAAAAAAAAAAAAAAAAAAAAAAAAAAAAAAAAAAAAAAAAAAAAAAAAAAAAAAAAAAAAAAAAAAAAAAAAAAAAAAAAAAAAAAAAAAAAAAAAAAAAAAAAAAAAAAAAAAAAAAAAAAAAAAAAAAAAAAAAAAAAAAAAAAAAAAAAAAAAAAAAAAAAAAAAAAAAAAAAAAAAAAAAAAAAAAAAAAAAAAAAAAAAAAAAAAAAAAAAAAAAAAAAAAAAAAAAAAAAAAAAAAAAAAAAAAAAAAAAAAAAAAAAAAAAAAAAAAAAAAAAAAAAAAAAAAAAAAAAAAAAAAAAAAAAAAAAAAAAAAAAAAAAAAAAAAAAAAAAAAAAAAAAAAAAAAAAAAAAAAAAAAAAAAAAAAAAAAAAAAAAAAAAAAAAAAAAAAAAAAAAAAAAAAAAAAAAAAAAAAAAAAAAAAAAAAAAAAAAAAAAAAAAAAAAAAAAAAAAAAAAAAAAAAAAAAAAAAAAAAAAAAAAAAAAAAAAAAAAAAAAAAAAAAAAAAAAAAAAAAAAAAAAAAAAAAAAAAAAAAAAAAAAAAAAAAAAAAAAAAAAAAAAAAAAAAAAAAAAAAAAAAAAAAAAAAAAAAAAAAAAAAAAAAAAAAAAAAAAAAAAAAAAAAAAAAAAAAAAAAAAAAAAAAAAAAAAAAAAAAAAAAAAAAAAAAAAAAAAAAAAAAAAAAAAAAAAAAACwAAAAABgBLAAAIJAABCBxIsKDBgwgTKlzIsKHDhxAjSpxIsaLFixgzatzIsePDgAA7\"><title>Layer: conv2d-7 (hidden)\n",
       " Keras class = Conv2D\n",
       " filters = 75\n",
       " kernel_size = (4, 4)\n",
       " data_format = channels_first\n",
       " padding = same\n",
       " use_bias = False\n",
       " activation = linear\n",
       " kernel_regularizer = &lt;keras.regularizers.L1L2 object at 0x7f58695f2b38&gt;</title></image><text x=\"571.6666666666667\" y=\"4747.0\" font-family=\"monospace\" font-size=\"12\" text-anchor=\"start\" alignment-baseline=\"central\">conv2d-7</text><text x=\"571.6666666666667\" y=\"4650\" font-family=\"monospace\" font-size=\"12\" text-anchor=\"start\" alignment-baseline=\"central\">7</text><text x=\"354.6666666666667\" y=\"4840\" font-family=\"monospace\" font-size=\"12\" text-anchor=\"start\" alignment-baseline=\"central\">0</text><line x1=\"233.33333333333334\" y1=\"4875\" x2=\"233.33333333333334\" y2=\"4645\" stroke=\"black\" stroke-width=\"2\"><title>Weights from leaky-relu-5 to add-3</title></line><line x1=\"466.6666666666667\" y1=\"4874\" x2=\"466.6666666666667\" y2=\"4847\" stroke=\"black\" stroke-width=\"2\" marker-end=\"url(#arrow)\"><title>Weights from leaky-relu-6 to conv2d-7\n",
       " conv2d-7/kernel:0 has shape (4, 4, 75, 75)</title></line><rect x=\"365.6666666666667\" y=\"4874\" width=\"202\" height=\"202\" style=\"fill:none;stroke:black;stroke-width:2\"/><image id=\"Residual CNN_leaky-relu-6_31\" class=\"Residual CNN_leaky-relu-6\" x=\"366.6666666666667\" y=\"4875\" height=\"200\" width=\"200\" preserveAspectRatio=\"none\" href=\"data:image/gif;base64,R0lGODdhBgBLAIcAAP/9/QAAAAAAAAAAAAAAAAAAAAAAAAAAAAAAAAAAAAAAAAAAAAAAAAAAAAAAAAAAAAAAAAAAAAAAAAAAAAAAAAAAAAAAAAAAAAAAAAAAAAAAAAAAAAAAAAAAAAAAAAAAAAAAAAAAAAAAAAAAAAAAAAAAAAAAAAAAAAAAAAAAAAAAAAAAAAAAAAAAAAAAAAAAAAAAAAAAAAAAAAAAAAAAAAAAAAAAAAAAAAAAAAAAAAAAAAAAAAAAAAAAAAAAAAAAAAAAAAAAAAAAAAAAAAAAAAAAAAAAAAAAAAAAAAAAAAAAAAAAAAAAAAAAAAAAAAAAAAAAAAAAAAAAAAAAAAAAAAAAAAAAAAAAAAAAAAAAAAAAAAAAAAAAAAAAAAAAAAAAAAAAAAAAAAAAAAAAAAAAAAAAAAAAAAAAAAAAAAAAAAAAAAAAAAAAAAAAAAAAAAAAAAAAAAAAAAAAAAAAAAAAAAAAAAAAAAAAAAAAAAAAAAAAAAAAAAAAAAAAAAAAAAAAAAAAAAAAAAAAAAAAAAAAAAAAAAAAAAAAAAAAAAAAAAAAAAAAAAAAAAAAAAAAAAAAAAAAAAAAAAAAAAAAAAAAAAAAAAAAAAAAAAAAAAAAAAAAAAAAAAAAAAAAAAAAAAAAAAAAAAAAAAAAAAAAAAAAAAAAAAAAAAAAAAAAAAAAAAAAAAAAAAAAAAAAAAAAAAAAAAAAAAAAAAAAAAAAAAAAAAAAAAAAAAAAAAAAAAAAAAAAAAAAAAAAAAAAAAAAAAAAAAAAAAAAAAAAAAAAAAAAAAAAAAAAAAAAAAAAAAAAAAAAAAAAAAAAAAAAAAAAAAAAAAAAAAAAAAAAAAAAAAAAAAAAAAAAAAAAAAAAAAAAAAAAAAAAAAAAAAAAAAAAAAAAAAAAAAAAAAAAAAAAAAAAAAAAAAAAAAAAAAAAAAAAAAAAAAAAAAAAAAAAAAAAAAAAAAAAAAAAAAAAAAAAAAAAAAAAAAAAAAAAAAAAAAAAAAAAAAAAAAAAAAAAAAAAAAAAACwAAAAABgBLAAAIJAABCBxIsKDBgwgTKlzIsKHDhxAjSpxIsaLFixgzatzIsePDgAA7\"><title>Layer: leaky-relu-6 (hidden)\n",
       " Keras class = LeakyReLU</title></image><text x=\"571.6666666666667\" y=\"4977.0\" font-family=\"monospace\" font-size=\"12\" text-anchor=\"start\" alignment-baseline=\"central\">leaky-relu-6</text><text x=\"571.6666666666667\" y=\"4880\" font-family=\"monospace\" font-size=\"12\" text-anchor=\"start\" alignment-baseline=\"central\">7</text><text x=\"354.6666666666667\" y=\"5070\" font-family=\"monospace\" font-size=\"12\" text-anchor=\"start\" alignment-baseline=\"central\">0</text><line x1=\"233.33333333333334\" y1=\"5105\" x2=\"233.33333333333334\" y2=\"4875\" stroke=\"black\" stroke-width=\"2\"><title>Weights from leaky-relu-5 to add-3</title></line><line x1=\"466.6666666666667\" y1=\"5104\" x2=\"466.6666666666667\" y2=\"5077\" stroke=\"black\" stroke-width=\"2\" marker-end=\"url(#arrow)\"><title>Weights from batch-norm-6 to leaky-relu-6</title></line><rect x=\"365.6666666666667\" y=\"5104\" width=\"202\" height=\"202\" style=\"fill:none;stroke:black;stroke-width:2\"/><image id=\"Residual CNN_batch-norm-6_32\" class=\"Residual CNN_batch-norm-6\" x=\"366.6666666666667\" y=\"5105\" height=\"200\" width=\"200\" preserveAspectRatio=\"none\" href=\"data:image/gif;base64,R0lGODdhBgBLAIcAAP/9/QAAAAAAAAAAAAAAAAAAAAAAAAAAAAAAAAAAAAAAAAAAAAAAAAAAAAAAAAAAAAAAAAAAAAAAAAAAAAAAAAAAAAAAAAAAAAAAAAAAAAAAAAAAAAAAAAAAAAAAAAAAAAAAAAAAAAAAAAAAAAAAAAAAAAAAAAAAAAAAAAAAAAAAAAAAAAAAAAAAAAAAAAAAAAAAAAAAAAAAAAAAAAAAAAAAAAAAAAAAAAAAAAAAAAAAAAAAAAAAAAAAAAAAAAAAAAAAAAAAAAAAAAAAAAAAAAAAAAAAAAAAAAAAAAAAAAAAAAAAAAAAAAAAAAAAAAAAAAAAAAAAAAAAAAAAAAAAAAAAAAAAAAAAAAAAAAAAAAAAAAAAAAAAAAAAAAAAAAAAAAAAAAAAAAAAAAAAAAAAAAAAAAAAAAAAAAAAAAAAAAAAAAAAAAAAAAAAAAAAAAAAAAAAAAAAAAAAAAAAAAAAAAAAAAAAAAAAAAAAAAAAAAAAAAAAAAAAAAAAAAAAAAAAAAAAAAAAAAAAAAAAAAAAAAAAAAAAAAAAAAAAAAAAAAAAAAAAAAAAAAAAAAAAAAAAAAAAAAAAAAAAAAAAAAAAAAAAAAAAAAAAAAAAAAAAAAAAAAAAAAAAAAAAAAAAAAAAAAAAAAAAAAAAAAAAAAAAAAAAAAAAAAAAAAAAAAAAAAAAAAAAAAAAAAAAAAAAAAAAAAAAAAAAAAAAAAAAAAAAAAAAAAAAAAAAAAAAAAAAAAAAAAAAAAAAAAAAAAAAAAAAAAAAAAAAAAAAAAAAAAAAAAAAAAAAAAAAAAAAAAAAAAAAAAAAAAAAAAAAAAAAAAAAAAAAAAAAAAAAAAAAAAAAAAAAAAAAAAAAAAAAAAAAAAAAAAAAAAAAAAAAAAAAAAAAAAAAAAAAAAAAAAAAAAAAAAAAAAAAAAAAAAAAAAAAAAAAAAAAAAAAAAAAAAAAAAAAAAAAAAAAAAAAAAAAAAAAAAAAAAAAAAAAAAAAAAAAAAAAAAAAAAAAAAAAAAAAAAAAACwAAAAABgBLAAAIJAABCBxIsKDBgwgTKlzIsKHDhxAjSpxIsaLFixgzatzIsePDgAA7\"><title>Layer: batch-norm-6 (hidden)\n",
       " Keras class = BatchNormalization\n",
       " axis = 1</title></image><text x=\"571.6666666666667\" y=\"5207.0\" font-family=\"monospace\" font-size=\"12\" text-anchor=\"start\" alignment-baseline=\"central\">batch-norm-6</text><text x=\"571.6666666666667\" y=\"5110\" font-family=\"monospace\" font-size=\"12\" text-anchor=\"start\" alignment-baseline=\"central\">7</text><text x=\"354.6666666666667\" y=\"5300\" font-family=\"monospace\" font-size=\"12\" text-anchor=\"start\" alignment-baseline=\"central\">0</text><line x1=\"233.33333333333334\" y1=\"5335\" x2=\"233.33333333333334\" y2=\"5105\" stroke=\"black\" stroke-width=\"2\"><title>Weights from leaky-relu-5 to add-3</title></line><line x1=\"466.6666666666667\" y1=\"5334\" x2=\"466.6666666666667\" y2=\"5307\" stroke=\"black\" stroke-width=\"2\" marker-end=\"url(#arrow)\"><title>Weights from conv2d-6 to batch-norm-6\n",
       " batch-norm-6/gamma:0 has shape (75,)\n",
       " batch-norm-6/beta:0 has shape (75,)\n",
       " batch-norm-6/moving_mean:0 has shape (75,)\n",
       " batch-norm-6/moving_variance:0 has shape (75,)</title></line><rect x=\"365.6666666666667\" y=\"5334\" width=\"202\" height=\"202\" style=\"fill:none;stroke:black;stroke-width:2\"/><image id=\"Residual CNN_conv2d-6_33\" class=\"Residual CNN_conv2d-6\" x=\"366.6666666666667\" y=\"5335\" height=\"200\" width=\"200\" preserveAspectRatio=\"none\" href=\"data:image/gif;base64,R0lGODdhBgBLAIcAAP/9/QAAAAAAAAAAAAAAAAAAAAAAAAAAAAAAAAAAAAAAAAAAAAAAAAAAAAAAAAAAAAAAAAAAAAAAAAAAAAAAAAAAAAAAAAAAAAAAAAAAAAAAAAAAAAAAAAAAAAAAAAAAAAAAAAAAAAAAAAAAAAAAAAAAAAAAAAAAAAAAAAAAAAAAAAAAAAAAAAAAAAAAAAAAAAAAAAAAAAAAAAAAAAAAAAAAAAAAAAAAAAAAAAAAAAAAAAAAAAAAAAAAAAAAAAAAAAAAAAAAAAAAAAAAAAAAAAAAAAAAAAAAAAAAAAAAAAAAAAAAAAAAAAAAAAAAAAAAAAAAAAAAAAAAAAAAAAAAAAAAAAAAAAAAAAAAAAAAAAAAAAAAAAAAAAAAAAAAAAAAAAAAAAAAAAAAAAAAAAAAAAAAAAAAAAAAAAAAAAAAAAAAAAAAAAAAAAAAAAAAAAAAAAAAAAAAAAAAAAAAAAAAAAAAAAAAAAAAAAAAAAAAAAAAAAAAAAAAAAAAAAAAAAAAAAAAAAAAAAAAAAAAAAAAAAAAAAAAAAAAAAAAAAAAAAAAAAAAAAAAAAAAAAAAAAAAAAAAAAAAAAAAAAAAAAAAAAAAAAAAAAAAAAAAAAAAAAAAAAAAAAAAAAAAAAAAAAAAAAAAAAAAAAAAAAAAAAAAAAAAAAAAAAAAAAAAAAAAAAAAAAAAAAAAAAAAAAAAAAAAAAAAAAAAAAAAAAAAAAAAAAAAAAAAAAAAAAAAAAAAAAAAAAAAAAAAAAAAAAAAAAAAAAAAAAAAAAAAAAAAAAAAAAAAAAAAAAAAAAAAAAAAAAAAAAAAAAAAAAAAAAAAAAAAAAAAAAAAAAAAAAAAAAAAAAAAAAAAAAAAAAAAAAAAAAAAAAAAAAAAAAAAAAAAAAAAAAAAAAAAAAAAAAAAAAAAAAAAAAAAAAAAAAAAAAAAAAAAAAAAAAAAAAAAAAAAAAAAAAAAAAAAAAAAAAAAAAAAAAAAAAAAAAAAAAAAAAAAAAAAAAAAAAAAAAAAAAAAAAAAACwAAAAABgBLAAAIJAABCBxIsKDBgwgTKlzIsKHDhxAjSpxIsaLFixgzatzIsePDgAA7\"><title>Layer: conv2d-6 (hidden)\n",
       " Keras class = Conv2D\n",
       " filters = 75\n",
       " kernel_size = (4, 4)\n",
       " data_format = channels_first\n",
       " padding = same\n",
       " use_bias = False\n",
       " activation = linear\n",
       " kernel_regularizer = &lt;keras.regularizers.L1L2 object at 0x7f58695f25f8&gt;</title></image><text x=\"571.6666666666667\" y=\"5437.0\" font-family=\"monospace\" font-size=\"12\" text-anchor=\"start\" alignment-baseline=\"central\">conv2d-6</text><text x=\"571.6666666666667\" y=\"5340\" font-family=\"monospace\" font-size=\"12\" text-anchor=\"start\" alignment-baseline=\"central\">7</text><text x=\"354.6666666666667\" y=\"5530\" font-family=\"monospace\" font-size=\"12\" text-anchor=\"start\" alignment-baseline=\"central\">0</text><line x1=\"350.0\" y1=\"5564\" x2=\"466.6666666666667\" y2=\"5537\" stroke=\"black\" stroke-width=\"2\" marker-end=\"url(#arrow)\"><title>Weights from leaky-relu-5 to conv2d-6\n",
       " conv2d-6/kernel:0 has shape (4, 4, 75, 75)</title></line><line x1=\"350.0\" y1=\"5564\" x2=\"233.33333333333334\" y2=\"5335\" stroke=\"black\" stroke-width=\"2\"><title>Weights from leaky-relu-5 to add-3</title></line><rect x=\"249.0\" y=\"5564\" width=\"202\" height=\"202\" style=\"fill:none;stroke:black;stroke-width:2\"/><image id=\"Residual CNN_leaky-relu-5_34\" class=\"Residual CNN_leaky-relu-5\" x=\"250.0\" y=\"5565\" height=\"200\" width=\"200\" preserveAspectRatio=\"none\" href=\"data:image/gif;base64,R0lGODdhBgBLAIcAAP/9/QAAAAAAAAAAAAAAAAAAAAAAAAAAAAAAAAAAAAAAAAAAAAAAAAAAAAAAAAAAAAAAAAAAAAAAAAAAAAAAAAAAAAAAAAAAAAAAAAAAAAAAAAAAAAAAAAAAAAAAAAAAAAAAAAAAAAAAAAAAAAAAAAAAAAAAAAAAAAAAAAAAAAAAAAAAAAAAAAAAAAAAAAAAAAAAAAAAAAAAAAAAAAAAAAAAAAAAAAAAAAAAAAAAAAAAAAAAAAAAAAAAAAAAAAAAAAAAAAAAAAAAAAAAAAAAAAAAAAAAAAAAAAAAAAAAAAAAAAAAAAAAAAAAAAAAAAAAAAAAAAAAAAAAAAAAAAAAAAAAAAAAAAAAAAAAAAAAAAAAAAAAAAAAAAAAAAAAAAAAAAAAAAAAAAAAAAAAAAAAAAAAAAAAAAAAAAAAAAAAAAAAAAAAAAAAAAAAAAAAAAAAAAAAAAAAAAAAAAAAAAAAAAAAAAAAAAAAAAAAAAAAAAAAAAAAAAAAAAAAAAAAAAAAAAAAAAAAAAAAAAAAAAAAAAAAAAAAAAAAAAAAAAAAAAAAAAAAAAAAAAAAAAAAAAAAAAAAAAAAAAAAAAAAAAAAAAAAAAAAAAAAAAAAAAAAAAAAAAAAAAAAAAAAAAAAAAAAAAAAAAAAAAAAAAAAAAAAAAAAAAAAAAAAAAAAAAAAAAAAAAAAAAAAAAAAAAAAAAAAAAAAAAAAAAAAAAAAAAAAAAAAAAAAAAAAAAAAAAAAAAAAAAAAAAAAAAAAAAAAAAAAAAAAAAAAAAAAAAAAAAAAAAAAAAAAAAAAAAAAAAAAAAAAAAAAAAAAAAAAAAAAAAAAAAAAAAAAAAAAAAAAAAAAAAAAAAAAAAAAAAAAAAAAAAAAAAAAAAAAAAAAAAAAAAAAAAAAAAAAAAAAAAAAAAAAAAAAAAAAAAAAAAAAAAAAAAAAAAAAAAAAAAAAAAAAAAAAAAAAAAAAAAAAAAAAAAAAAAAAAAAAAAAAAAAAAAAAAAAAAAAAAAAAAAAAAAAAAAAAACwAAAAABgBLAAAIJAABCBxIsKDBgwgTKlzIsKHDhxAjSpxIsaLFixgzatzIsePDgAA7\"><title>Layer: leaky-relu-5 (hidden)\n",
       " Keras class = LeakyReLU</title></image><text x=\"455.0\" y=\"5667.0\" font-family=\"monospace\" font-size=\"12\" text-anchor=\"start\" alignment-baseline=\"central\">leaky-relu-5</text><text x=\"455.0\" y=\"5570\" font-family=\"monospace\" font-size=\"12\" text-anchor=\"start\" alignment-baseline=\"central\">7</text><text x=\"238.0\" y=\"5760\" font-family=\"monospace\" font-size=\"12\" text-anchor=\"start\" alignment-baseline=\"central\">0</text><line x1=\"350.0\" y1=\"5794\" x2=\"350.0\" y2=\"5767\" stroke=\"black\" stroke-width=\"2\" marker-end=\"url(#arrow)\"><title>Weights from add-2 to leaky-relu-5</title></line><rect x=\"249.0\" y=\"5794\" width=\"202\" height=\"202\" style=\"fill:none;stroke:black;stroke-width:2\"/><image id=\"Residual CNN_add-2_35\" class=\"Residual CNN_add-2\" x=\"250.0\" y=\"5795\" height=\"200\" width=\"200\" preserveAspectRatio=\"none\" href=\"data:image/gif;base64,R0lGODdhBgBLAIcAAP/9/QAAAAAAAAAAAAAAAAAAAAAAAAAAAAAAAAAAAAAAAAAAAAAAAAAAAAAAAAAAAAAAAAAAAAAAAAAAAAAAAAAAAAAAAAAAAAAAAAAAAAAAAAAAAAAAAAAAAAAAAAAAAAAAAAAAAAAAAAAAAAAAAAAAAAAAAAAAAAAAAAAAAAAAAAAAAAAAAAAAAAAAAAAAAAAAAAAAAAAAAAAAAAAAAAAAAAAAAAAAAAAAAAAAAAAAAAAAAAAAAAAAAAAAAAAAAAAAAAAAAAAAAAAAAAAAAAAAAAAAAAAAAAAAAAAAAAAAAAAAAAAAAAAAAAAAAAAAAAAAAAAAAAAAAAAAAAAAAAAAAAAAAAAAAAAAAAAAAAAAAAAAAAAAAAAAAAAAAAAAAAAAAAAAAAAAAAAAAAAAAAAAAAAAAAAAAAAAAAAAAAAAAAAAAAAAAAAAAAAAAAAAAAAAAAAAAAAAAAAAAAAAAAAAAAAAAAAAAAAAAAAAAAAAAAAAAAAAAAAAAAAAAAAAAAAAAAAAAAAAAAAAAAAAAAAAAAAAAAAAAAAAAAAAAAAAAAAAAAAAAAAAAAAAAAAAAAAAAAAAAAAAAAAAAAAAAAAAAAAAAAAAAAAAAAAAAAAAAAAAAAAAAAAAAAAAAAAAAAAAAAAAAAAAAAAAAAAAAAAAAAAAAAAAAAAAAAAAAAAAAAAAAAAAAAAAAAAAAAAAAAAAAAAAAAAAAAAAAAAAAAAAAAAAAAAAAAAAAAAAAAAAAAAAAAAAAAAAAAAAAAAAAAAAAAAAAAAAAAAAAAAAAAAAAAAAAAAAAAAAAAAAAAAAAAAAAAAAAAAAAAAAAAAAAAAAAAAAAAAAAAAAAAAAAAAAAAAAAAAAAAAAAAAAAAAAAAAAAAAAAAAAAAAAAAAAAAAAAAAAAAAAAAAAAAAAAAAAAAAAAAAAAAAAAAAAAAAAAAAAAAAAAAAAAAAAAAAAAAAAAAAAAAAAAAAAAAAAAAAAAAAAAAAAAAAAAAAAAAAAAAAAAAAAAAAAAAAAAAAAACwAAAAABgBLAAAIJAABCBxIsKDBgwgTKlzIsKHDhxAjSpxIsaLFixgzatzIsePDgAA7\"><title>Layer: add-2 (hidden)\n",
       " Keras class = Add</title></image><text x=\"455.0\" y=\"5897.0\" font-family=\"monospace\" font-size=\"12\" text-anchor=\"start\" alignment-baseline=\"central\">add-2</text><text x=\"455.0\" y=\"5800\" font-family=\"monospace\" font-size=\"12\" text-anchor=\"start\" alignment-baseline=\"central\">7</text><text x=\"238.0\" y=\"5990\" font-family=\"monospace\" font-size=\"12\" text-anchor=\"start\" alignment-baseline=\"central\">0</text><line x1=\"233.33333333333334\" y1=\"6025\" x2=\"350.0\" y2=\"5995\" stroke=\"black\" stroke-width=\"2\" marker-end=\"url(#arrow)\"><title>Weights from leaky-relu-3 to add-2</title></line><line x1=\"466.6666666666667\" y1=\"6024\" x2=\"350.0\" y2=\"5997\" stroke=\"black\" stroke-width=\"2\" marker-end=\"url(#arrow)\"><title>Weights from batch-norm-5 to add-2</title></line><rect x=\"365.6666666666667\" y=\"6024\" width=\"202\" height=\"202\" style=\"fill:none;stroke:black;stroke-width:2\"/><image id=\"Residual CNN_batch-norm-5_36\" class=\"Residual CNN_batch-norm-5\" x=\"366.6666666666667\" y=\"6025\" height=\"200\" width=\"200\" preserveAspectRatio=\"none\" href=\"data:image/gif;base64,R0lGODdhBgBLAIcAAP/9/QAAAAAAAAAAAAAAAAAAAAAAAAAAAAAAAAAAAAAAAAAAAAAAAAAAAAAAAAAAAAAAAAAAAAAAAAAAAAAAAAAAAAAAAAAAAAAAAAAAAAAAAAAAAAAAAAAAAAAAAAAAAAAAAAAAAAAAAAAAAAAAAAAAAAAAAAAAAAAAAAAAAAAAAAAAAAAAAAAAAAAAAAAAAAAAAAAAAAAAAAAAAAAAAAAAAAAAAAAAAAAAAAAAAAAAAAAAAAAAAAAAAAAAAAAAAAAAAAAAAAAAAAAAAAAAAAAAAAAAAAAAAAAAAAAAAAAAAAAAAAAAAAAAAAAAAAAAAAAAAAAAAAAAAAAAAAAAAAAAAAAAAAAAAAAAAAAAAAAAAAAAAAAAAAAAAAAAAAAAAAAAAAAAAAAAAAAAAAAAAAAAAAAAAAAAAAAAAAAAAAAAAAAAAAAAAAAAAAAAAAAAAAAAAAAAAAAAAAAAAAAAAAAAAAAAAAAAAAAAAAAAAAAAAAAAAAAAAAAAAAAAAAAAAAAAAAAAAAAAAAAAAAAAAAAAAAAAAAAAAAAAAAAAAAAAAAAAAAAAAAAAAAAAAAAAAAAAAAAAAAAAAAAAAAAAAAAAAAAAAAAAAAAAAAAAAAAAAAAAAAAAAAAAAAAAAAAAAAAAAAAAAAAAAAAAAAAAAAAAAAAAAAAAAAAAAAAAAAAAAAAAAAAAAAAAAAAAAAAAAAAAAAAAAAAAAAAAAAAAAAAAAAAAAAAAAAAAAAAAAAAAAAAAAAAAAAAAAAAAAAAAAAAAAAAAAAAAAAAAAAAAAAAAAAAAAAAAAAAAAAAAAAAAAAAAAAAAAAAAAAAAAAAAAAAAAAAAAAAAAAAAAAAAAAAAAAAAAAAAAAAAAAAAAAAAAAAAAAAAAAAAAAAAAAAAAAAAAAAAAAAAAAAAAAAAAAAAAAAAAAAAAAAAAAAAAAAAAAAAAAAAAAAAAAAAAAAAAAAAAAAAAAAAAAAAAAAAAAAAAAAAAAAAAAAAAAAAAAAAAAAAAAAAAAAAAAAAAAAAACwAAAAABgBLAAAIJAABCBxIsKDBgwgTKlzIsKHDhxAjSpxIsaLFixgzatzIsePDgAA7\"><title>Layer: batch-norm-5 (hidden)\n",
       " Keras class = BatchNormalization\n",
       " axis = 1</title></image><text x=\"571.6666666666667\" y=\"6127.0\" font-family=\"monospace\" font-size=\"12\" text-anchor=\"start\" alignment-baseline=\"central\">batch-norm-5</text><text x=\"571.6666666666667\" y=\"6030\" font-family=\"monospace\" font-size=\"12\" text-anchor=\"start\" alignment-baseline=\"central\">7</text><text x=\"354.6666666666667\" y=\"6220\" font-family=\"monospace\" font-size=\"12\" text-anchor=\"start\" alignment-baseline=\"central\">0</text><line x1=\"233.33333333333334\" y1=\"6255\" x2=\"233.33333333333334\" y2=\"6025\" stroke=\"black\" stroke-width=\"2\"><title>Weights from leaky-relu-3 to add-2</title></line><line x1=\"466.6666666666667\" y1=\"6254\" x2=\"466.6666666666667\" y2=\"6227\" stroke=\"black\" stroke-width=\"2\" marker-end=\"url(#arrow)\"><title>Weights from conv2d-5 to batch-norm-5\n",
       " batch-norm-5/gamma:0 has shape (75,)\n",
       " batch-norm-5/beta:0 has shape (75,)\n",
       " batch-norm-5/moving_mean:0 has shape (75,)\n",
       " batch-norm-5/moving_variance:0 has shape (75,)</title></line><rect x=\"365.6666666666667\" y=\"6254\" width=\"202\" height=\"202\" style=\"fill:none;stroke:black;stroke-width:2\"/><image id=\"Residual CNN_conv2d-5_37\" class=\"Residual CNN_conv2d-5\" x=\"366.6666666666667\" y=\"6255\" height=\"200\" width=\"200\" preserveAspectRatio=\"none\" href=\"data:image/gif;base64,R0lGODdhBgBLAIcAAP/9/QAAAAAAAAAAAAAAAAAAAAAAAAAAAAAAAAAAAAAAAAAAAAAAAAAAAAAAAAAAAAAAAAAAAAAAAAAAAAAAAAAAAAAAAAAAAAAAAAAAAAAAAAAAAAAAAAAAAAAAAAAAAAAAAAAAAAAAAAAAAAAAAAAAAAAAAAAAAAAAAAAAAAAAAAAAAAAAAAAAAAAAAAAAAAAAAAAAAAAAAAAAAAAAAAAAAAAAAAAAAAAAAAAAAAAAAAAAAAAAAAAAAAAAAAAAAAAAAAAAAAAAAAAAAAAAAAAAAAAAAAAAAAAAAAAAAAAAAAAAAAAAAAAAAAAAAAAAAAAAAAAAAAAAAAAAAAAAAAAAAAAAAAAAAAAAAAAAAAAAAAAAAAAAAAAAAAAAAAAAAAAAAAAAAAAAAAAAAAAAAAAAAAAAAAAAAAAAAAAAAAAAAAAAAAAAAAAAAAAAAAAAAAAAAAAAAAAAAAAAAAAAAAAAAAAAAAAAAAAAAAAAAAAAAAAAAAAAAAAAAAAAAAAAAAAAAAAAAAAAAAAAAAAAAAAAAAAAAAAAAAAAAAAAAAAAAAAAAAAAAAAAAAAAAAAAAAAAAAAAAAAAAAAAAAAAAAAAAAAAAAAAAAAAAAAAAAAAAAAAAAAAAAAAAAAAAAAAAAAAAAAAAAAAAAAAAAAAAAAAAAAAAAAAAAAAAAAAAAAAAAAAAAAAAAAAAAAAAAAAAAAAAAAAAAAAAAAAAAAAAAAAAAAAAAAAAAAAAAAAAAAAAAAAAAAAAAAAAAAAAAAAAAAAAAAAAAAAAAAAAAAAAAAAAAAAAAAAAAAAAAAAAAAAAAAAAAAAAAAAAAAAAAAAAAAAAAAAAAAAAAAAAAAAAAAAAAAAAAAAAAAAAAAAAAAAAAAAAAAAAAAAAAAAAAAAAAAAAAAAAAAAAAAAAAAAAAAAAAAAAAAAAAAAAAAAAAAAAAAAAAAAAAAAAAAAAAAAAAAAAAAAAAAAAAAAAAAAAAAAAAAAAAAAAAAAAAAAAAAAAAAAAAAAAAAAAAAAAAAAACwAAAAABgBLAAAIJAABCBxIsKDBgwgTKlzIsKHDhxAjSpxIsaLFixgzatzIsePDgAA7\"><title>Layer: conv2d-5 (hidden)\n",
       " Keras class = Conv2D\n",
       " filters = 75\n",
       " kernel_size = (4, 4)\n",
       " data_format = channels_first\n",
       " padding = same\n",
       " use_bias = False\n",
       " activation = linear\n",
       " kernel_regularizer = &lt;keras.regularizers.L1L2 object at 0x7f58695f2b00&gt;</title></image><text x=\"571.6666666666667\" y=\"6357.0\" font-family=\"monospace\" font-size=\"12\" text-anchor=\"start\" alignment-baseline=\"central\">conv2d-5</text><text x=\"571.6666666666667\" y=\"6260\" font-family=\"monospace\" font-size=\"12\" text-anchor=\"start\" alignment-baseline=\"central\">7</text><text x=\"354.6666666666667\" y=\"6450\" font-family=\"monospace\" font-size=\"12\" text-anchor=\"start\" alignment-baseline=\"central\">0</text><line x1=\"233.33333333333334\" y1=\"6485\" x2=\"233.33333333333334\" y2=\"6255\" stroke=\"black\" stroke-width=\"2\"><title>Weights from leaky-relu-3 to add-2</title></line><line x1=\"466.6666666666667\" y1=\"6484\" x2=\"466.6666666666667\" y2=\"6457\" stroke=\"black\" stroke-width=\"2\" marker-end=\"url(#arrow)\"><title>Weights from leaky-relu-4 to conv2d-5\n",
       " conv2d-5/kernel:0 has shape (4, 4, 75, 75)</title></line><rect x=\"365.6666666666667\" y=\"6484\" width=\"202\" height=\"202\" style=\"fill:none;stroke:black;stroke-width:2\"/><image id=\"Residual CNN_leaky-relu-4_38\" class=\"Residual CNN_leaky-relu-4\" x=\"366.6666666666667\" y=\"6485\" height=\"200\" width=\"200\" preserveAspectRatio=\"none\" href=\"data:image/gif;base64,R0lGODdhBgBLAIcAAP/9/QAAAAAAAAAAAAAAAAAAAAAAAAAAAAAAAAAAAAAAAAAAAAAAAAAAAAAAAAAAAAAAAAAAAAAAAAAAAAAAAAAAAAAAAAAAAAAAAAAAAAAAAAAAAAAAAAAAAAAAAAAAAAAAAAAAAAAAAAAAAAAAAAAAAAAAAAAAAAAAAAAAAAAAAAAAAAAAAAAAAAAAAAAAAAAAAAAAAAAAAAAAAAAAAAAAAAAAAAAAAAAAAAAAAAAAAAAAAAAAAAAAAAAAAAAAAAAAAAAAAAAAAAAAAAAAAAAAAAAAAAAAAAAAAAAAAAAAAAAAAAAAAAAAAAAAAAAAAAAAAAAAAAAAAAAAAAAAAAAAAAAAAAAAAAAAAAAAAAAAAAAAAAAAAAAAAAAAAAAAAAAAAAAAAAAAAAAAAAAAAAAAAAAAAAAAAAAAAAAAAAAAAAAAAAAAAAAAAAAAAAAAAAAAAAAAAAAAAAAAAAAAAAAAAAAAAAAAAAAAAAAAAAAAAAAAAAAAAAAAAAAAAAAAAAAAAAAAAAAAAAAAAAAAAAAAAAAAAAAAAAAAAAAAAAAAAAAAAAAAAAAAAAAAAAAAAAAAAAAAAAAAAAAAAAAAAAAAAAAAAAAAAAAAAAAAAAAAAAAAAAAAAAAAAAAAAAAAAAAAAAAAAAAAAAAAAAAAAAAAAAAAAAAAAAAAAAAAAAAAAAAAAAAAAAAAAAAAAAAAAAAAAAAAAAAAAAAAAAAAAAAAAAAAAAAAAAAAAAAAAAAAAAAAAAAAAAAAAAAAAAAAAAAAAAAAAAAAAAAAAAAAAAAAAAAAAAAAAAAAAAAAAAAAAAAAAAAAAAAAAAAAAAAAAAAAAAAAAAAAAAAAAAAAAAAAAAAAAAAAAAAAAAAAAAAAAAAAAAAAAAAAAAAAAAAAAAAAAAAAAAAAAAAAAAAAAAAAAAAAAAAAAAAAAAAAAAAAAAAAAAAAAAAAAAAAAAAAAAAAAAAAAAAAAAAAAAAAAAAAAAAAAAAAAAAAAAAAAAAAAAAAAAAAAAAAAAAAAAAAACwAAAAABgBLAAAIJAABCBxIsKDBgwgTKlzIsKHDhxAjSpxIsaLFixgzatzIsePDgAA7\"><title>Layer: leaky-relu-4 (hidden)\n",
       " Keras class = LeakyReLU</title></image><text x=\"571.6666666666667\" y=\"6587.0\" font-family=\"monospace\" font-size=\"12\" text-anchor=\"start\" alignment-baseline=\"central\">leaky-relu-4</text><text x=\"571.6666666666667\" y=\"6490\" font-family=\"monospace\" font-size=\"12\" text-anchor=\"start\" alignment-baseline=\"central\">7</text><text x=\"354.6666666666667\" y=\"6680\" font-family=\"monospace\" font-size=\"12\" text-anchor=\"start\" alignment-baseline=\"central\">0</text><line x1=\"233.33333333333334\" y1=\"6715\" x2=\"233.33333333333334\" y2=\"6485\" stroke=\"black\" stroke-width=\"2\"><title>Weights from leaky-relu-3 to add-2</title></line><line x1=\"466.6666666666667\" y1=\"6714\" x2=\"466.6666666666667\" y2=\"6687\" stroke=\"black\" stroke-width=\"2\" marker-end=\"url(#arrow)\"><title>Weights from batch-norm-4 to leaky-relu-4</title></line><rect x=\"365.6666666666667\" y=\"6714\" width=\"202\" height=\"202\" style=\"fill:none;stroke:black;stroke-width:2\"/><image id=\"Residual CNN_batch-norm-4_39\" class=\"Residual CNN_batch-norm-4\" x=\"366.6666666666667\" y=\"6715\" height=\"200\" width=\"200\" preserveAspectRatio=\"none\" href=\"data:image/gif;base64,R0lGODdhBgBLAIcAAP/9/QAAAAAAAAAAAAAAAAAAAAAAAAAAAAAAAAAAAAAAAAAAAAAAAAAAAAAAAAAAAAAAAAAAAAAAAAAAAAAAAAAAAAAAAAAAAAAAAAAAAAAAAAAAAAAAAAAAAAAAAAAAAAAAAAAAAAAAAAAAAAAAAAAAAAAAAAAAAAAAAAAAAAAAAAAAAAAAAAAAAAAAAAAAAAAAAAAAAAAAAAAAAAAAAAAAAAAAAAAAAAAAAAAAAAAAAAAAAAAAAAAAAAAAAAAAAAAAAAAAAAAAAAAAAAAAAAAAAAAAAAAAAAAAAAAAAAAAAAAAAAAAAAAAAAAAAAAAAAAAAAAAAAAAAAAAAAAAAAAAAAAAAAAAAAAAAAAAAAAAAAAAAAAAAAAAAAAAAAAAAAAAAAAAAAAAAAAAAAAAAAAAAAAAAAAAAAAAAAAAAAAAAAAAAAAAAAAAAAAAAAAAAAAAAAAAAAAAAAAAAAAAAAAAAAAAAAAAAAAAAAAAAAAAAAAAAAAAAAAAAAAAAAAAAAAAAAAAAAAAAAAAAAAAAAAAAAAAAAAAAAAAAAAAAAAAAAAAAAAAAAAAAAAAAAAAAAAAAAAAAAAAAAAAAAAAAAAAAAAAAAAAAAAAAAAAAAAAAAAAAAAAAAAAAAAAAAAAAAAAAAAAAAAAAAAAAAAAAAAAAAAAAAAAAAAAAAAAAAAAAAAAAAAAAAAAAAAAAAAAAAAAAAAAAAAAAAAAAAAAAAAAAAAAAAAAAAAAAAAAAAAAAAAAAAAAAAAAAAAAAAAAAAAAAAAAAAAAAAAAAAAAAAAAAAAAAAAAAAAAAAAAAAAAAAAAAAAAAAAAAAAAAAAAAAAAAAAAAAAAAAAAAAAAAAAAAAAAAAAAAAAAAAAAAAAAAAAAAAAAAAAAAAAAAAAAAAAAAAAAAAAAAAAAAAAAAAAAAAAAAAAAAAAAAAAAAAAAAAAAAAAAAAAAAAAAAAAAAAAAAAAAAAAAAAAAAAAAAAAAAAAAAAAAAAAAAAAAAAAAAAAAAAAAAAAAAAAAAAAAACwAAAAABgBLAAAIJAABCBxIsKDBgwgTKlzIsKHDhxAjSpxIsaLFixgzatzIsePDgAA7\"><title>Layer: batch-norm-4 (hidden)\n",
       " Keras class = BatchNormalization\n",
       " axis = 1</title></image><text x=\"571.6666666666667\" y=\"6817.0\" font-family=\"monospace\" font-size=\"12\" text-anchor=\"start\" alignment-baseline=\"central\">batch-norm-4</text><text x=\"571.6666666666667\" y=\"6720\" font-family=\"monospace\" font-size=\"12\" text-anchor=\"start\" alignment-baseline=\"central\">7</text><text x=\"354.6666666666667\" y=\"6910\" font-family=\"monospace\" font-size=\"12\" text-anchor=\"start\" alignment-baseline=\"central\">0</text><line x1=\"233.33333333333334\" y1=\"6945\" x2=\"233.33333333333334\" y2=\"6715\" stroke=\"black\" stroke-width=\"2\"><title>Weights from leaky-relu-3 to add-2</title></line><line x1=\"466.6666666666667\" y1=\"6944\" x2=\"466.6666666666667\" y2=\"6917\" stroke=\"black\" stroke-width=\"2\" marker-end=\"url(#arrow)\"><title>Weights from conv2d-4 to batch-norm-4\n",
       " batch-norm-4/gamma:0 has shape (75,)\n",
       " batch-norm-4/beta:0 has shape (75,)\n",
       " batch-norm-4/moving_mean:0 has shape (75,)\n",
       " batch-norm-4/moving_variance:0 has shape (75,)</title></line><rect x=\"365.6666666666667\" y=\"6944\" width=\"202\" height=\"202\" style=\"fill:none;stroke:black;stroke-width:2\"/><image id=\"Residual CNN_conv2d-4_40\" class=\"Residual CNN_conv2d-4\" x=\"366.6666666666667\" y=\"6945\" height=\"200\" width=\"200\" preserveAspectRatio=\"none\" href=\"data:image/gif;base64,R0lGODdhBgBLAIcAAP/9/QAAAAAAAAAAAAAAAAAAAAAAAAAAAAAAAAAAAAAAAAAAAAAAAAAAAAAAAAAAAAAAAAAAAAAAAAAAAAAAAAAAAAAAAAAAAAAAAAAAAAAAAAAAAAAAAAAAAAAAAAAAAAAAAAAAAAAAAAAAAAAAAAAAAAAAAAAAAAAAAAAAAAAAAAAAAAAAAAAAAAAAAAAAAAAAAAAAAAAAAAAAAAAAAAAAAAAAAAAAAAAAAAAAAAAAAAAAAAAAAAAAAAAAAAAAAAAAAAAAAAAAAAAAAAAAAAAAAAAAAAAAAAAAAAAAAAAAAAAAAAAAAAAAAAAAAAAAAAAAAAAAAAAAAAAAAAAAAAAAAAAAAAAAAAAAAAAAAAAAAAAAAAAAAAAAAAAAAAAAAAAAAAAAAAAAAAAAAAAAAAAAAAAAAAAAAAAAAAAAAAAAAAAAAAAAAAAAAAAAAAAAAAAAAAAAAAAAAAAAAAAAAAAAAAAAAAAAAAAAAAAAAAAAAAAAAAAAAAAAAAAAAAAAAAAAAAAAAAAAAAAAAAAAAAAAAAAAAAAAAAAAAAAAAAAAAAAAAAAAAAAAAAAAAAAAAAAAAAAAAAAAAAAAAAAAAAAAAAAAAAAAAAAAAAAAAAAAAAAAAAAAAAAAAAAAAAAAAAAAAAAAAAAAAAAAAAAAAAAAAAAAAAAAAAAAAAAAAAAAAAAAAAAAAAAAAAAAAAAAAAAAAAAAAAAAAAAAAAAAAAAAAAAAAAAAAAAAAAAAAAAAAAAAAAAAAAAAAAAAAAAAAAAAAAAAAAAAAAAAAAAAAAAAAAAAAAAAAAAAAAAAAAAAAAAAAAAAAAAAAAAAAAAAAAAAAAAAAAAAAAAAAAAAAAAAAAAAAAAAAAAAAAAAAAAAAAAAAAAAAAAAAAAAAAAAAAAAAAAAAAAAAAAAAAAAAAAAAAAAAAAAAAAAAAAAAAAAAAAAAAAAAAAAAAAAAAAAAAAAAAAAAAAAAAAAAAAAAAAAAAAAAAAAAAAAAAAAAAAAAAAAAAAAAAAAAAAAAAAAACwAAAAABgBLAAAIJAABCBxIsKDBgwgTKlzIsKHDhxAjSpxIsaLFixgzatzIsePDgAA7\"><title>Layer: conv2d-4 (hidden)\n",
       " Keras class = Conv2D\n",
       " filters = 75\n",
       " kernel_size = (4, 4)\n",
       " data_format = channels_first\n",
       " padding = same\n",
       " use_bias = False\n",
       " activation = linear\n",
       " kernel_regularizer = &lt;keras.regularizers.L1L2 object at 0x7f58695f2c18&gt;</title></image><text x=\"571.6666666666667\" y=\"7047.0\" font-family=\"monospace\" font-size=\"12\" text-anchor=\"start\" alignment-baseline=\"central\">conv2d-4</text><text x=\"571.6666666666667\" y=\"6950\" font-family=\"monospace\" font-size=\"12\" text-anchor=\"start\" alignment-baseline=\"central\">7</text><text x=\"354.6666666666667\" y=\"7140\" font-family=\"monospace\" font-size=\"12\" text-anchor=\"start\" alignment-baseline=\"central\">0</text><line x1=\"350.0\" y1=\"7174\" x2=\"466.6666666666667\" y2=\"7147\" stroke=\"black\" stroke-width=\"2\" marker-end=\"url(#arrow)\"><title>Weights from leaky-relu-3 to conv2d-4\n",
       " conv2d-4/kernel:0 has shape (4, 4, 75, 75)</title></line><line x1=\"350.0\" y1=\"7174\" x2=\"233.33333333333334\" y2=\"6945\" stroke=\"black\" stroke-width=\"2\"><title>Weights from leaky-relu-3 to add-2</title></line><rect x=\"249.0\" y=\"7174\" width=\"202\" height=\"202\" style=\"fill:none;stroke:black;stroke-width:2\"/><image id=\"Residual CNN_leaky-relu-3_41\" class=\"Residual CNN_leaky-relu-3\" x=\"250.0\" y=\"7175\" height=\"200\" width=\"200\" preserveAspectRatio=\"none\" href=\"data:image/gif;base64,R0lGODdhBgBLAIcAAP/9/QAAAAAAAAAAAAAAAAAAAAAAAAAAAAAAAAAAAAAAAAAAAAAAAAAAAAAAAAAAAAAAAAAAAAAAAAAAAAAAAAAAAAAAAAAAAAAAAAAAAAAAAAAAAAAAAAAAAAAAAAAAAAAAAAAAAAAAAAAAAAAAAAAAAAAAAAAAAAAAAAAAAAAAAAAAAAAAAAAAAAAAAAAAAAAAAAAAAAAAAAAAAAAAAAAAAAAAAAAAAAAAAAAAAAAAAAAAAAAAAAAAAAAAAAAAAAAAAAAAAAAAAAAAAAAAAAAAAAAAAAAAAAAAAAAAAAAAAAAAAAAAAAAAAAAAAAAAAAAAAAAAAAAAAAAAAAAAAAAAAAAAAAAAAAAAAAAAAAAAAAAAAAAAAAAAAAAAAAAAAAAAAAAAAAAAAAAAAAAAAAAAAAAAAAAAAAAAAAAAAAAAAAAAAAAAAAAAAAAAAAAAAAAAAAAAAAAAAAAAAAAAAAAAAAAAAAAAAAAAAAAAAAAAAAAAAAAAAAAAAAAAAAAAAAAAAAAAAAAAAAAAAAAAAAAAAAAAAAAAAAAAAAAAAAAAAAAAAAAAAAAAAAAAAAAAAAAAAAAAAAAAAAAAAAAAAAAAAAAAAAAAAAAAAAAAAAAAAAAAAAAAAAAAAAAAAAAAAAAAAAAAAAAAAAAAAAAAAAAAAAAAAAAAAAAAAAAAAAAAAAAAAAAAAAAAAAAAAAAAAAAAAAAAAAAAAAAAAAAAAAAAAAAAAAAAAAAAAAAAAAAAAAAAAAAAAAAAAAAAAAAAAAAAAAAAAAAAAAAAAAAAAAAAAAAAAAAAAAAAAAAAAAAAAAAAAAAAAAAAAAAAAAAAAAAAAAAAAAAAAAAAAAAAAAAAAAAAAAAAAAAAAAAAAAAAAAAAAAAAAAAAAAAAAAAAAAAAAAAAAAAAAAAAAAAAAAAAAAAAAAAAAAAAAAAAAAAAAAAAAAAAAAAAAAAAAAAAAAAAAAAAAAAAAAAAAAAAAAAAAAAAAAAAAAAAAAAAAAAAAAAAAAAAAAAAAAAAAAAAACwAAAAABgBLAAAIJAABCBxIsKDBgwgTKlzIsKHDhxAjSpxIsaLFixgzatzIsePDgAA7\"><title>Layer: leaky-relu-3 (hidden)\n",
       " Keras class = LeakyReLU</title></image><text x=\"455.0\" y=\"7277.0\" font-family=\"monospace\" font-size=\"12\" text-anchor=\"start\" alignment-baseline=\"central\">leaky-relu-3</text><text x=\"455.0\" y=\"7180\" font-family=\"monospace\" font-size=\"12\" text-anchor=\"start\" alignment-baseline=\"central\">7</text><text x=\"238.0\" y=\"7370\" font-family=\"monospace\" font-size=\"12\" text-anchor=\"start\" alignment-baseline=\"central\">0</text><line x1=\"350.0\" y1=\"7404\" x2=\"350.0\" y2=\"7377\" stroke=\"black\" stroke-width=\"2\" marker-end=\"url(#arrow)\"><title>Weights from add-1 to leaky-relu-3</title></line><rect x=\"249.0\" y=\"7404\" width=\"202\" height=\"202\" style=\"fill:none;stroke:black;stroke-width:2\"/><image id=\"Residual CNN_add-1_42\" class=\"Residual CNN_add-1\" x=\"250.0\" y=\"7405\" height=\"200\" width=\"200\" preserveAspectRatio=\"none\" href=\"data:image/gif;base64,R0lGODdhBgBLAIcAAP/9/QAAAAAAAAAAAAAAAAAAAAAAAAAAAAAAAAAAAAAAAAAAAAAAAAAAAAAAAAAAAAAAAAAAAAAAAAAAAAAAAAAAAAAAAAAAAAAAAAAAAAAAAAAAAAAAAAAAAAAAAAAAAAAAAAAAAAAAAAAAAAAAAAAAAAAAAAAAAAAAAAAAAAAAAAAAAAAAAAAAAAAAAAAAAAAAAAAAAAAAAAAAAAAAAAAAAAAAAAAAAAAAAAAAAAAAAAAAAAAAAAAAAAAAAAAAAAAAAAAAAAAAAAAAAAAAAAAAAAAAAAAAAAAAAAAAAAAAAAAAAAAAAAAAAAAAAAAAAAAAAAAAAAAAAAAAAAAAAAAAAAAAAAAAAAAAAAAAAAAAAAAAAAAAAAAAAAAAAAAAAAAAAAAAAAAAAAAAAAAAAAAAAAAAAAAAAAAAAAAAAAAAAAAAAAAAAAAAAAAAAAAAAAAAAAAAAAAAAAAAAAAAAAAAAAAAAAAAAAAAAAAAAAAAAAAAAAAAAAAAAAAAAAAAAAAAAAAAAAAAAAAAAAAAAAAAAAAAAAAAAAAAAAAAAAAAAAAAAAAAAAAAAAAAAAAAAAAAAAAAAAAAAAAAAAAAAAAAAAAAAAAAAAAAAAAAAAAAAAAAAAAAAAAAAAAAAAAAAAAAAAAAAAAAAAAAAAAAAAAAAAAAAAAAAAAAAAAAAAAAAAAAAAAAAAAAAAAAAAAAAAAAAAAAAAAAAAAAAAAAAAAAAAAAAAAAAAAAAAAAAAAAAAAAAAAAAAAAAAAAAAAAAAAAAAAAAAAAAAAAAAAAAAAAAAAAAAAAAAAAAAAAAAAAAAAAAAAAAAAAAAAAAAAAAAAAAAAAAAAAAAAAAAAAAAAAAAAAAAAAAAAAAAAAAAAAAAAAAAAAAAAAAAAAAAAAAAAAAAAAAAAAAAAAAAAAAAAAAAAAAAAAAAAAAAAAAAAAAAAAAAAAAAAAAAAAAAAAAAAAAAAAAAAAAAAAAAAAAAAAAAAAAAAAAAAAAAAAAAAAAAAAAAAAAAAAAAAAAAAAACwAAAAABgBLAAAIJAABCBxIsKDBgwgTKlzIsKHDhxAjSpxIsaLFixgzatzIsePDgAA7\"><title>Layer: add-1 (hidden)\n",
       " Keras class = Add</title></image><text x=\"455.0\" y=\"7507.0\" font-family=\"monospace\" font-size=\"12\" text-anchor=\"start\" alignment-baseline=\"central\">add-1</text><text x=\"455.0\" y=\"7410\" font-family=\"monospace\" font-size=\"12\" text-anchor=\"start\" alignment-baseline=\"central\">7</text><text x=\"238.0\" y=\"7600\" font-family=\"monospace\" font-size=\"12\" text-anchor=\"start\" alignment-baseline=\"central\">0</text><line x1=\"233.33333333333334\" y1=\"7635\" x2=\"350.0\" y2=\"7605\" stroke=\"black\" stroke-width=\"2\" marker-end=\"url(#arrow)\"><title>Weights from leaky-relu-1 to add-1</title></line><line x1=\"466.6666666666667\" y1=\"7634\" x2=\"350.0\" y2=\"7607\" stroke=\"black\" stroke-width=\"2\" marker-end=\"url(#arrow)\"><title>Weights from batch-norm-3 to add-1</title></line><rect x=\"365.6666666666667\" y=\"7634\" width=\"202\" height=\"202\" style=\"fill:none;stroke:black;stroke-width:2\"/><image id=\"Residual CNN_batch-norm-3_43\" class=\"Residual CNN_batch-norm-3\" x=\"366.6666666666667\" y=\"7635\" height=\"200\" width=\"200\" preserveAspectRatio=\"none\" href=\"data:image/gif;base64,R0lGODdhBgBLAIcAAP/9/QAAAAAAAAAAAAAAAAAAAAAAAAAAAAAAAAAAAAAAAAAAAAAAAAAAAAAAAAAAAAAAAAAAAAAAAAAAAAAAAAAAAAAAAAAAAAAAAAAAAAAAAAAAAAAAAAAAAAAAAAAAAAAAAAAAAAAAAAAAAAAAAAAAAAAAAAAAAAAAAAAAAAAAAAAAAAAAAAAAAAAAAAAAAAAAAAAAAAAAAAAAAAAAAAAAAAAAAAAAAAAAAAAAAAAAAAAAAAAAAAAAAAAAAAAAAAAAAAAAAAAAAAAAAAAAAAAAAAAAAAAAAAAAAAAAAAAAAAAAAAAAAAAAAAAAAAAAAAAAAAAAAAAAAAAAAAAAAAAAAAAAAAAAAAAAAAAAAAAAAAAAAAAAAAAAAAAAAAAAAAAAAAAAAAAAAAAAAAAAAAAAAAAAAAAAAAAAAAAAAAAAAAAAAAAAAAAAAAAAAAAAAAAAAAAAAAAAAAAAAAAAAAAAAAAAAAAAAAAAAAAAAAAAAAAAAAAAAAAAAAAAAAAAAAAAAAAAAAAAAAAAAAAAAAAAAAAAAAAAAAAAAAAAAAAAAAAAAAAAAAAAAAAAAAAAAAAAAAAAAAAAAAAAAAAAAAAAAAAAAAAAAAAAAAAAAAAAAAAAAAAAAAAAAAAAAAAAAAAAAAAAAAAAAAAAAAAAAAAAAAAAAAAAAAAAAAAAAAAAAAAAAAAAAAAAAAAAAAAAAAAAAAAAAAAAAAAAAAAAAAAAAAAAAAAAAAAAAAAAAAAAAAAAAAAAAAAAAAAAAAAAAAAAAAAAAAAAAAAAAAAAAAAAAAAAAAAAAAAAAAAAAAAAAAAAAAAAAAAAAAAAAAAAAAAAAAAAAAAAAAAAAAAAAAAAAAAAAAAAAAAAAAAAAAAAAAAAAAAAAAAAAAAAAAAAAAAAAAAAAAAAAAAAAAAAAAAAAAAAAAAAAAAAAAAAAAAAAAAAAAAAAAAAAAAAAAAAAAAAAAAAAAAAAAAAAAAAAAAAAAAAAAAAAAAAAAAAAAAAAAAAAAAAAAAAAAAAAAAAACwAAAAABgBLAAAIJAABCBxIsKDBgwgTKlzIsKHDhxAjSpxIsaLFixgzatzIsePDgAA7\"><title>Layer: batch-norm-3 (hidden)\n",
       " Keras class = BatchNormalization\n",
       " axis = 1</title></image><text x=\"571.6666666666667\" y=\"7737.0\" font-family=\"monospace\" font-size=\"12\" text-anchor=\"start\" alignment-baseline=\"central\">batch-norm-3</text><text x=\"571.6666666666667\" y=\"7640\" font-family=\"monospace\" font-size=\"12\" text-anchor=\"start\" alignment-baseline=\"central\">7</text><text x=\"354.6666666666667\" y=\"7830\" font-family=\"monospace\" font-size=\"12\" text-anchor=\"start\" alignment-baseline=\"central\">0</text><line x1=\"233.33333333333334\" y1=\"7865\" x2=\"233.33333333333334\" y2=\"7635\" stroke=\"black\" stroke-width=\"2\"><title>Weights from leaky-relu-1 to add-1</title></line><line x1=\"466.6666666666667\" y1=\"7864\" x2=\"466.6666666666667\" y2=\"7837\" stroke=\"black\" stroke-width=\"2\" marker-end=\"url(#arrow)\"><title>Weights from conv2d-3 to batch-norm-3\n",
       " batch-norm-3/gamma:0 has shape (75,)\n",
       " batch-norm-3/beta:0 has shape (75,)\n",
       " batch-norm-3/moving_mean:0 has shape (75,)\n",
       " batch-norm-3/moving_variance:0 has shape (75,)</title></line><rect x=\"365.6666666666667\" y=\"7864\" width=\"202\" height=\"202\" style=\"fill:none;stroke:black;stroke-width:2\"/><image id=\"Residual CNN_conv2d-3_44\" class=\"Residual CNN_conv2d-3\" x=\"366.6666666666667\" y=\"7865\" height=\"200\" width=\"200\" preserveAspectRatio=\"none\" href=\"data:image/gif;base64,R0lGODdhBgBLAIcAAP/9/QAAAAAAAAAAAAAAAAAAAAAAAAAAAAAAAAAAAAAAAAAAAAAAAAAAAAAAAAAAAAAAAAAAAAAAAAAAAAAAAAAAAAAAAAAAAAAAAAAAAAAAAAAAAAAAAAAAAAAAAAAAAAAAAAAAAAAAAAAAAAAAAAAAAAAAAAAAAAAAAAAAAAAAAAAAAAAAAAAAAAAAAAAAAAAAAAAAAAAAAAAAAAAAAAAAAAAAAAAAAAAAAAAAAAAAAAAAAAAAAAAAAAAAAAAAAAAAAAAAAAAAAAAAAAAAAAAAAAAAAAAAAAAAAAAAAAAAAAAAAAAAAAAAAAAAAAAAAAAAAAAAAAAAAAAAAAAAAAAAAAAAAAAAAAAAAAAAAAAAAAAAAAAAAAAAAAAAAAAAAAAAAAAAAAAAAAAAAAAAAAAAAAAAAAAAAAAAAAAAAAAAAAAAAAAAAAAAAAAAAAAAAAAAAAAAAAAAAAAAAAAAAAAAAAAAAAAAAAAAAAAAAAAAAAAAAAAAAAAAAAAAAAAAAAAAAAAAAAAAAAAAAAAAAAAAAAAAAAAAAAAAAAAAAAAAAAAAAAAAAAAAAAAAAAAAAAAAAAAAAAAAAAAAAAAAAAAAAAAAAAAAAAAAAAAAAAAAAAAAAAAAAAAAAAAAAAAAAAAAAAAAAAAAAAAAAAAAAAAAAAAAAAAAAAAAAAAAAAAAAAAAAAAAAAAAAAAAAAAAAAAAAAAAAAAAAAAAAAAAAAAAAAAAAAAAAAAAAAAAAAAAAAAAAAAAAAAAAAAAAAAAAAAAAAAAAAAAAAAAAAAAAAAAAAAAAAAAAAAAAAAAAAAAAAAAAAAAAAAAAAAAAAAAAAAAAAAAAAAAAAAAAAAAAAAAAAAAAAAAAAAAAAAAAAAAAAAAAAAAAAAAAAAAAAAAAAAAAAAAAAAAAAAAAAAAAAAAAAAAAAAAAAAAAAAAAAAAAAAAAAAAAAAAAAAAAAAAAAAAAAAAAAAAAAAAAAAAAAAAAAAAAAAAAAAAAAAAAAAAAAAAAAAAAAAAAAAAAAAAACwAAAAABgBLAAAIJAABCBxIsKDBgwgTKlzIsKHDhxAjSpxIsaLFixgzatzIsePDgAA7\"><title>Layer: conv2d-3 (hidden)\n",
       " Keras class = Conv2D\n",
       " filters = 75\n",
       " kernel_size = (4, 4)\n",
       " data_format = channels_first\n",
       " padding = same\n",
       " use_bias = False\n",
       " activation = linear\n",
       " kernel_regularizer = &lt;keras.regularizers.L1L2 object at 0x7f586958a390&gt;</title></image><text x=\"571.6666666666667\" y=\"7967.0\" font-family=\"monospace\" font-size=\"12\" text-anchor=\"start\" alignment-baseline=\"central\">conv2d-3</text><text x=\"571.6666666666667\" y=\"7870\" font-family=\"monospace\" font-size=\"12\" text-anchor=\"start\" alignment-baseline=\"central\">7</text><text x=\"354.6666666666667\" y=\"8060\" font-family=\"monospace\" font-size=\"12\" text-anchor=\"start\" alignment-baseline=\"central\">0</text><line x1=\"233.33333333333334\" y1=\"8095\" x2=\"233.33333333333334\" y2=\"7865\" stroke=\"black\" stroke-width=\"2\"><title>Weights from leaky-relu-1 to add-1</title></line><line x1=\"466.6666666666667\" y1=\"8094\" x2=\"466.6666666666667\" y2=\"8067\" stroke=\"black\" stroke-width=\"2\" marker-end=\"url(#arrow)\"><title>Weights from leaky-relu-2 to conv2d-3\n",
       " conv2d-3/kernel:0 has shape (4, 4, 75, 75)</title></line><rect x=\"365.6666666666667\" y=\"8094\" width=\"202\" height=\"202\" style=\"fill:none;stroke:black;stroke-width:2\"/><image id=\"Residual CNN_leaky-relu-2_45\" class=\"Residual CNN_leaky-relu-2\" x=\"366.6666666666667\" y=\"8095\" height=\"200\" width=\"200\" preserveAspectRatio=\"none\" href=\"data:image/gif;base64,R0lGODdhBgBLAIcAAP/9/QAAAAAAAAAAAAAAAAAAAAAAAAAAAAAAAAAAAAAAAAAAAAAAAAAAAAAAAAAAAAAAAAAAAAAAAAAAAAAAAAAAAAAAAAAAAAAAAAAAAAAAAAAAAAAAAAAAAAAAAAAAAAAAAAAAAAAAAAAAAAAAAAAAAAAAAAAAAAAAAAAAAAAAAAAAAAAAAAAAAAAAAAAAAAAAAAAAAAAAAAAAAAAAAAAAAAAAAAAAAAAAAAAAAAAAAAAAAAAAAAAAAAAAAAAAAAAAAAAAAAAAAAAAAAAAAAAAAAAAAAAAAAAAAAAAAAAAAAAAAAAAAAAAAAAAAAAAAAAAAAAAAAAAAAAAAAAAAAAAAAAAAAAAAAAAAAAAAAAAAAAAAAAAAAAAAAAAAAAAAAAAAAAAAAAAAAAAAAAAAAAAAAAAAAAAAAAAAAAAAAAAAAAAAAAAAAAAAAAAAAAAAAAAAAAAAAAAAAAAAAAAAAAAAAAAAAAAAAAAAAAAAAAAAAAAAAAAAAAAAAAAAAAAAAAAAAAAAAAAAAAAAAAAAAAAAAAAAAAAAAAAAAAAAAAAAAAAAAAAAAAAAAAAAAAAAAAAAAAAAAAAAAAAAAAAAAAAAAAAAAAAAAAAAAAAAAAAAAAAAAAAAAAAAAAAAAAAAAAAAAAAAAAAAAAAAAAAAAAAAAAAAAAAAAAAAAAAAAAAAAAAAAAAAAAAAAAAAAAAAAAAAAAAAAAAAAAAAAAAAAAAAAAAAAAAAAAAAAAAAAAAAAAAAAAAAAAAAAAAAAAAAAAAAAAAAAAAAAAAAAAAAAAAAAAAAAAAAAAAAAAAAAAAAAAAAAAAAAAAAAAAAAAAAAAAAAAAAAAAAAAAAAAAAAAAAAAAAAAAAAAAAAAAAAAAAAAAAAAAAAAAAAAAAAAAAAAAAAAAAAAAAAAAAAAAAAAAAAAAAAAAAAAAAAAAAAAAAAAAAAAAAAAAAAAAAAAAAAAAAAAAAAAAAAAAAAAAAAAAAAAAAAAAAAAAAAAAAAAAAAAAAAAAAAAAAAAAAAAAACwAAAAABgBLAAAIJAABCBxIsKDBgwgTKlzIsKHDhxAjSpxIsaLFixgzatzIsePDgAA7\"><title>Layer: leaky-relu-2 (hidden)\n",
       " Keras class = LeakyReLU</title></image><text x=\"571.6666666666667\" y=\"8197.0\" font-family=\"monospace\" font-size=\"12\" text-anchor=\"start\" alignment-baseline=\"central\">leaky-relu-2</text><text x=\"571.6666666666667\" y=\"8100\" font-family=\"monospace\" font-size=\"12\" text-anchor=\"start\" alignment-baseline=\"central\">7</text><text x=\"354.6666666666667\" y=\"8290\" font-family=\"monospace\" font-size=\"12\" text-anchor=\"start\" alignment-baseline=\"central\">0</text><line x1=\"233.33333333333334\" y1=\"8325\" x2=\"233.33333333333334\" y2=\"8095\" stroke=\"black\" stroke-width=\"2\"><title>Weights from leaky-relu-1 to add-1</title></line><line x1=\"466.6666666666667\" y1=\"8324\" x2=\"466.6666666666667\" y2=\"8297\" stroke=\"black\" stroke-width=\"2\" marker-end=\"url(#arrow)\"><title>Weights from batch-norm-2 to leaky-relu-2</title></line><rect x=\"365.6666666666667\" y=\"8324\" width=\"202\" height=\"202\" style=\"fill:none;stroke:black;stroke-width:2\"/><image id=\"Residual CNN_batch-norm-2_46\" class=\"Residual CNN_batch-norm-2\" x=\"366.6666666666667\" y=\"8325\" height=\"200\" width=\"200\" preserveAspectRatio=\"none\" href=\"data:image/gif;base64,R0lGODdhBgBLAIcAAP/9/QAAAAAAAAAAAAAAAAAAAAAAAAAAAAAAAAAAAAAAAAAAAAAAAAAAAAAAAAAAAAAAAAAAAAAAAAAAAAAAAAAAAAAAAAAAAAAAAAAAAAAAAAAAAAAAAAAAAAAAAAAAAAAAAAAAAAAAAAAAAAAAAAAAAAAAAAAAAAAAAAAAAAAAAAAAAAAAAAAAAAAAAAAAAAAAAAAAAAAAAAAAAAAAAAAAAAAAAAAAAAAAAAAAAAAAAAAAAAAAAAAAAAAAAAAAAAAAAAAAAAAAAAAAAAAAAAAAAAAAAAAAAAAAAAAAAAAAAAAAAAAAAAAAAAAAAAAAAAAAAAAAAAAAAAAAAAAAAAAAAAAAAAAAAAAAAAAAAAAAAAAAAAAAAAAAAAAAAAAAAAAAAAAAAAAAAAAAAAAAAAAAAAAAAAAAAAAAAAAAAAAAAAAAAAAAAAAAAAAAAAAAAAAAAAAAAAAAAAAAAAAAAAAAAAAAAAAAAAAAAAAAAAAAAAAAAAAAAAAAAAAAAAAAAAAAAAAAAAAAAAAAAAAAAAAAAAAAAAAAAAAAAAAAAAAAAAAAAAAAAAAAAAAAAAAAAAAAAAAAAAAAAAAAAAAAAAAAAAAAAAAAAAAAAAAAAAAAAAAAAAAAAAAAAAAAAAAAAAAAAAAAAAAAAAAAAAAAAAAAAAAAAAAAAAAAAAAAAAAAAAAAAAAAAAAAAAAAAAAAAAAAAAAAAAAAAAAAAAAAAAAAAAAAAAAAAAAAAAAAAAAAAAAAAAAAAAAAAAAAAAAAAAAAAAAAAAAAAAAAAAAAAAAAAAAAAAAAAAAAAAAAAAAAAAAAAAAAAAAAAAAAAAAAAAAAAAAAAAAAAAAAAAAAAAAAAAAAAAAAAAAAAAAAAAAAAAAAAAAAAAAAAAAAAAAAAAAAAAAAAAAAAAAAAAAAAAAAAAAAAAAAAAAAAAAAAAAAAAAAAAAAAAAAAAAAAAAAAAAAAAAAAAAAAAAAAAAAAAAAAAAAAAAAAAAAAAAAAAAAAAAAAAAAAAAAAAAAAAAAACwAAAAABgBLAAAIJAABCBxIsKDBgwgTKlzIsKHDhxAjSpxIsaLFixgzatzIsePDgAA7\"><title>Layer: batch-norm-2 (hidden)\n",
       " Keras class = BatchNormalization\n",
       " axis = 1</title></image><text x=\"571.6666666666667\" y=\"8427.0\" font-family=\"monospace\" font-size=\"12\" text-anchor=\"start\" alignment-baseline=\"central\">batch-norm-2</text><text x=\"571.6666666666667\" y=\"8330\" font-family=\"monospace\" font-size=\"12\" text-anchor=\"start\" alignment-baseline=\"central\">7</text><text x=\"354.6666666666667\" y=\"8520\" font-family=\"monospace\" font-size=\"12\" text-anchor=\"start\" alignment-baseline=\"central\">0</text><line x1=\"233.33333333333334\" y1=\"8555\" x2=\"233.33333333333334\" y2=\"8325\" stroke=\"black\" stroke-width=\"2\"><title>Weights from leaky-relu-1 to add-1</title></line><line x1=\"466.6666666666667\" y1=\"8554\" x2=\"466.6666666666667\" y2=\"8527\" stroke=\"black\" stroke-width=\"2\" marker-end=\"url(#arrow)\"><title>Weights from conv2d-2 to batch-norm-2\n",
       " batch-norm-2/gamma:0 has shape (75,)\n",
       " batch-norm-2/beta:0 has shape (75,)\n",
       " batch-norm-2/moving_mean:0 has shape (75,)\n",
       " batch-norm-2/moving_variance:0 has shape (75,)</title></line><rect x=\"365.6666666666667\" y=\"8554\" width=\"202\" height=\"202\" style=\"fill:none;stroke:black;stroke-width:2\"/><image id=\"Residual CNN_conv2d-2_47\" class=\"Residual CNN_conv2d-2\" x=\"366.6666666666667\" y=\"8555\" height=\"200\" width=\"200\" preserveAspectRatio=\"none\" href=\"data:image/gif;base64,R0lGODdhBgBLAIcAAP/9/QAAAAAAAAAAAAAAAAAAAAAAAAAAAAAAAAAAAAAAAAAAAAAAAAAAAAAAAAAAAAAAAAAAAAAAAAAAAAAAAAAAAAAAAAAAAAAAAAAAAAAAAAAAAAAAAAAAAAAAAAAAAAAAAAAAAAAAAAAAAAAAAAAAAAAAAAAAAAAAAAAAAAAAAAAAAAAAAAAAAAAAAAAAAAAAAAAAAAAAAAAAAAAAAAAAAAAAAAAAAAAAAAAAAAAAAAAAAAAAAAAAAAAAAAAAAAAAAAAAAAAAAAAAAAAAAAAAAAAAAAAAAAAAAAAAAAAAAAAAAAAAAAAAAAAAAAAAAAAAAAAAAAAAAAAAAAAAAAAAAAAAAAAAAAAAAAAAAAAAAAAAAAAAAAAAAAAAAAAAAAAAAAAAAAAAAAAAAAAAAAAAAAAAAAAAAAAAAAAAAAAAAAAAAAAAAAAAAAAAAAAAAAAAAAAAAAAAAAAAAAAAAAAAAAAAAAAAAAAAAAAAAAAAAAAAAAAAAAAAAAAAAAAAAAAAAAAAAAAAAAAAAAAAAAAAAAAAAAAAAAAAAAAAAAAAAAAAAAAAAAAAAAAAAAAAAAAAAAAAAAAAAAAAAAAAAAAAAAAAAAAAAAAAAAAAAAAAAAAAAAAAAAAAAAAAAAAAAAAAAAAAAAAAAAAAAAAAAAAAAAAAAAAAAAAAAAAAAAAAAAAAAAAAAAAAAAAAAAAAAAAAAAAAAAAAAAAAAAAAAAAAAAAAAAAAAAAAAAAAAAAAAAAAAAAAAAAAAAAAAAAAAAAAAAAAAAAAAAAAAAAAAAAAAAAAAAAAAAAAAAAAAAAAAAAAAAAAAAAAAAAAAAAAAAAAAAAAAAAAAAAAAAAAAAAAAAAAAAAAAAAAAAAAAAAAAAAAAAAAAAAAAAAAAAAAAAAAAAAAAAAAAAAAAAAAAAAAAAAAAAAAAAAAAAAAAAAAAAAAAAAAAAAAAAAAAAAAAAAAAAAAAAAAAAAAAAAAAAAAAAAAAAAAAAAAAAAAAAAAAAAAAAAAAAAAAAAAAAAAACwAAAAABgBLAAAIJAABCBxIsKDBgwgTKlzIsKHDhxAjSpxIsaLFixgzatzIsePDgAA7\"><title>Layer: conv2d-2 (hidden)\n",
       " Keras class = Conv2D\n",
       " filters = 75\n",
       " kernel_size = (4, 4)\n",
       " data_format = channels_first\n",
       " padding = same\n",
       " use_bias = False\n",
       " activation = linear\n",
       " kernel_regularizer = &lt;keras.regularizers.L1L2 object at 0x7f586958a128&gt;</title></image><text x=\"571.6666666666667\" y=\"8657.0\" font-family=\"monospace\" font-size=\"12\" text-anchor=\"start\" alignment-baseline=\"central\">conv2d-2</text><text x=\"571.6666666666667\" y=\"8560\" font-family=\"monospace\" font-size=\"12\" text-anchor=\"start\" alignment-baseline=\"central\">7</text><text x=\"354.6666666666667\" y=\"8750\" font-family=\"monospace\" font-size=\"12\" text-anchor=\"start\" alignment-baseline=\"central\">0</text><line x1=\"350.0\" y1=\"8784\" x2=\"466.6666666666667\" y2=\"8757\" stroke=\"black\" stroke-width=\"2\" marker-end=\"url(#arrow)\"><title>Weights from leaky-relu-1 to conv2d-2\n",
       " conv2d-2/kernel:0 has shape (4, 4, 75, 75)</title></line><line x1=\"350.0\" y1=\"8784\" x2=\"233.33333333333334\" y2=\"8555\" stroke=\"black\" stroke-width=\"2\"><title>Weights from leaky-relu-1 to add-1</title></line><rect x=\"249.0\" y=\"8784\" width=\"202\" height=\"202\" style=\"fill:none;stroke:black;stroke-width:2\"/><image id=\"Residual CNN_leaky-relu-1_48\" class=\"Residual CNN_leaky-relu-1\" x=\"250.0\" y=\"8785\" height=\"200\" width=\"200\" preserveAspectRatio=\"none\" href=\"data:image/gif;base64,R0lGODdhBgBLAIcAAP/9/QAAAAAAAAAAAAAAAAAAAAAAAAAAAAAAAAAAAAAAAAAAAAAAAAAAAAAAAAAAAAAAAAAAAAAAAAAAAAAAAAAAAAAAAAAAAAAAAAAAAAAAAAAAAAAAAAAAAAAAAAAAAAAAAAAAAAAAAAAAAAAAAAAAAAAAAAAAAAAAAAAAAAAAAAAAAAAAAAAAAAAAAAAAAAAAAAAAAAAAAAAAAAAAAAAAAAAAAAAAAAAAAAAAAAAAAAAAAAAAAAAAAAAAAAAAAAAAAAAAAAAAAAAAAAAAAAAAAAAAAAAAAAAAAAAAAAAAAAAAAAAAAAAAAAAAAAAAAAAAAAAAAAAAAAAAAAAAAAAAAAAAAAAAAAAAAAAAAAAAAAAAAAAAAAAAAAAAAAAAAAAAAAAAAAAAAAAAAAAAAAAAAAAAAAAAAAAAAAAAAAAAAAAAAAAAAAAAAAAAAAAAAAAAAAAAAAAAAAAAAAAAAAAAAAAAAAAAAAAAAAAAAAAAAAAAAAAAAAAAAAAAAAAAAAAAAAAAAAAAAAAAAAAAAAAAAAAAAAAAAAAAAAAAAAAAAAAAAAAAAAAAAAAAAAAAAAAAAAAAAAAAAAAAAAAAAAAAAAAAAAAAAAAAAAAAAAAAAAAAAAAAAAAAAAAAAAAAAAAAAAAAAAAAAAAAAAAAAAAAAAAAAAAAAAAAAAAAAAAAAAAAAAAAAAAAAAAAAAAAAAAAAAAAAAAAAAAAAAAAAAAAAAAAAAAAAAAAAAAAAAAAAAAAAAAAAAAAAAAAAAAAAAAAAAAAAAAAAAAAAAAAAAAAAAAAAAAAAAAAAAAAAAAAAAAAAAAAAAAAAAAAAAAAAAAAAAAAAAAAAAAAAAAAAAAAAAAAAAAAAAAAAAAAAAAAAAAAAAAAAAAAAAAAAAAAAAAAAAAAAAAAAAAAAAAAAAAAAAAAAAAAAAAAAAAAAAAAAAAAAAAAAAAAAAAAAAAAAAAAAAAAAAAAAAAAAAAAAAAAAAAAAAAAAAAAAAAAAAAAAAAAAAAAAAAAAAAAAAAAACwAAAAABgBLAAAIJAABCBxIsKDBgwgTKlzIsKHDhxAjSpxIsaLFixgzatzIsePDgAA7\"><title>Layer: leaky-relu-1 (hidden)\n",
       " Keras class = LeakyReLU</title></image><text x=\"455.0\" y=\"8887.0\" font-family=\"monospace\" font-size=\"12\" text-anchor=\"start\" alignment-baseline=\"central\">leaky-relu-1</text><text x=\"455.0\" y=\"8790\" font-family=\"monospace\" font-size=\"12\" text-anchor=\"start\" alignment-baseline=\"central\">7</text><text x=\"238.0\" y=\"8980\" font-family=\"monospace\" font-size=\"12\" text-anchor=\"start\" alignment-baseline=\"central\">0</text><line x1=\"350.0\" y1=\"9014\" x2=\"350.0\" y2=\"8987\" stroke=\"black\" stroke-width=\"2\" marker-end=\"url(#arrow)\"><title>Weights from batch-norm-1 to leaky-relu-1</title></line><rect x=\"249.0\" y=\"9014\" width=\"202\" height=\"202\" style=\"fill:none;stroke:black;stroke-width:2\"/><image id=\"Residual CNN_batch-norm-1_49\" class=\"Residual CNN_batch-norm-1\" x=\"250.0\" y=\"9015\" height=\"200\" width=\"200\" preserveAspectRatio=\"none\" href=\"data:image/gif;base64,R0lGODdhBgBLAIcAAP/9/QAAAAAAAAAAAAAAAAAAAAAAAAAAAAAAAAAAAAAAAAAAAAAAAAAAAAAAAAAAAAAAAAAAAAAAAAAAAAAAAAAAAAAAAAAAAAAAAAAAAAAAAAAAAAAAAAAAAAAAAAAAAAAAAAAAAAAAAAAAAAAAAAAAAAAAAAAAAAAAAAAAAAAAAAAAAAAAAAAAAAAAAAAAAAAAAAAAAAAAAAAAAAAAAAAAAAAAAAAAAAAAAAAAAAAAAAAAAAAAAAAAAAAAAAAAAAAAAAAAAAAAAAAAAAAAAAAAAAAAAAAAAAAAAAAAAAAAAAAAAAAAAAAAAAAAAAAAAAAAAAAAAAAAAAAAAAAAAAAAAAAAAAAAAAAAAAAAAAAAAAAAAAAAAAAAAAAAAAAAAAAAAAAAAAAAAAAAAAAAAAAAAAAAAAAAAAAAAAAAAAAAAAAAAAAAAAAAAAAAAAAAAAAAAAAAAAAAAAAAAAAAAAAAAAAAAAAAAAAAAAAAAAAAAAAAAAAAAAAAAAAAAAAAAAAAAAAAAAAAAAAAAAAAAAAAAAAAAAAAAAAAAAAAAAAAAAAAAAAAAAAAAAAAAAAAAAAAAAAAAAAAAAAAAAAAAAAAAAAAAAAAAAAAAAAAAAAAAAAAAAAAAAAAAAAAAAAAAAAAAAAAAAAAAAAAAAAAAAAAAAAAAAAAAAAAAAAAAAAAAAAAAAAAAAAAAAAAAAAAAAAAAAAAAAAAAAAAAAAAAAAAAAAAAAAAAAAAAAAAAAAAAAAAAAAAAAAAAAAAAAAAAAAAAAAAAAAAAAAAAAAAAAAAAAAAAAAAAAAAAAAAAAAAAAAAAAAAAAAAAAAAAAAAAAAAAAAAAAAAAAAAAAAAAAAAAAAAAAAAAAAAAAAAAAAAAAAAAAAAAAAAAAAAAAAAAAAAAAAAAAAAAAAAAAAAAAAAAAAAAAAAAAAAAAAAAAAAAAAAAAAAAAAAAAAAAAAAAAAAAAAAAAAAAAAAAAAAAAAAAAAAAAAAAAAAAAAAAAAAAAAAAAAAAAAAAAAAAAAAACwAAAAABgBLAAAIJAABCBxIsKDBgwgTKlzIsKHDhxAjSpxIsaLFixgzatzIsePDgAA7\"><title>Layer: batch-norm-1 (hidden)\n",
       " Keras class = BatchNormalization\n",
       " axis = 1</title></image><text x=\"455.0\" y=\"9117.0\" font-family=\"monospace\" font-size=\"12\" text-anchor=\"start\" alignment-baseline=\"central\">batch-norm-1</text><text x=\"455.0\" y=\"9020\" font-family=\"monospace\" font-size=\"12\" text-anchor=\"start\" alignment-baseline=\"central\">7</text><text x=\"238.0\" y=\"9210\" font-family=\"monospace\" font-size=\"12\" text-anchor=\"start\" alignment-baseline=\"central\">0</text><line x1=\"350.0\" y1=\"9244\" x2=\"350.0\" y2=\"9217\" stroke=\"black\" stroke-width=\"2\" marker-end=\"url(#arrow)\"><title>Weights from conv2d-1 to batch-norm-1\n",
       " batch-norm-1/gamma:0 has shape (75,)\n",
       " batch-norm-1/beta:0 has shape (75,)\n",
       " batch-norm-1/moving_mean:0 has shape (75,)\n",
       " batch-norm-1/moving_variance:0 has shape (75,)</title></line><rect x=\"249.0\" y=\"9244\" width=\"202\" height=\"202\" style=\"fill:none;stroke:black;stroke-width:2\"/><image id=\"Residual CNN_conv2d-1_50\" class=\"Residual CNN_conv2d-1\" x=\"250.0\" y=\"9245\" height=\"200\" width=\"200\" preserveAspectRatio=\"none\" href=\"data:image/gif;base64,R0lGODdhBgBLAIcAAP/9/QAAAAAAAAAAAAAAAAAAAAAAAAAAAAAAAAAAAAAAAAAAAAAAAAAAAAAAAAAAAAAAAAAAAAAAAAAAAAAAAAAAAAAAAAAAAAAAAAAAAAAAAAAAAAAAAAAAAAAAAAAAAAAAAAAAAAAAAAAAAAAAAAAAAAAAAAAAAAAAAAAAAAAAAAAAAAAAAAAAAAAAAAAAAAAAAAAAAAAAAAAAAAAAAAAAAAAAAAAAAAAAAAAAAAAAAAAAAAAAAAAAAAAAAAAAAAAAAAAAAAAAAAAAAAAAAAAAAAAAAAAAAAAAAAAAAAAAAAAAAAAAAAAAAAAAAAAAAAAAAAAAAAAAAAAAAAAAAAAAAAAAAAAAAAAAAAAAAAAAAAAAAAAAAAAAAAAAAAAAAAAAAAAAAAAAAAAAAAAAAAAAAAAAAAAAAAAAAAAAAAAAAAAAAAAAAAAAAAAAAAAAAAAAAAAAAAAAAAAAAAAAAAAAAAAAAAAAAAAAAAAAAAAAAAAAAAAAAAAAAAAAAAAAAAAAAAAAAAAAAAAAAAAAAAAAAAAAAAAAAAAAAAAAAAAAAAAAAAAAAAAAAAAAAAAAAAAAAAAAAAAAAAAAAAAAAAAAAAAAAAAAAAAAAAAAAAAAAAAAAAAAAAAAAAAAAAAAAAAAAAAAAAAAAAAAAAAAAAAAAAAAAAAAAAAAAAAAAAAAAAAAAAAAAAAAAAAAAAAAAAAAAAAAAAAAAAAAAAAAAAAAAAAAAAAAAAAAAAAAAAAAAAAAAAAAAAAAAAAAAAAAAAAAAAAAAAAAAAAAAAAAAAAAAAAAAAAAAAAAAAAAAAAAAAAAAAAAAAAAAAAAAAAAAAAAAAAAAAAAAAAAAAAAAAAAAAAAAAAAAAAAAAAAAAAAAAAAAAAAAAAAAAAAAAAAAAAAAAAAAAAAAAAAAAAAAAAAAAAAAAAAAAAAAAAAAAAAAAAAAAAAAAAAAAAAAAAAAAAAAAAAAAAAAAAAAAAAAAAAAAAAAAAAAAAAAAAAAAAAAAAAAAAAAAAAAAAAAAAAACwAAAAABgBLAAAIJAABCBxIsKDBgwgTKlzIsKHDhxAjSpxIsaLFixgzatzIsePDgAA7\"><title>Layer: conv2d-1 (hidden)\n",
       " Keras class = Conv2D\n",
       " filters = 75\n",
       " kernel_size = (4, 4)\n",
       " data_format = channels_first\n",
       " padding = same\n",
       " use_bias = False\n",
       " activation = linear\n",
       " kernel_regularizer = &lt;keras.regularizers.L1L2 object at 0x7f58695f2a20&gt;</title></image><text x=\"455.0\" y=\"9347.0\" font-family=\"monospace\" font-size=\"12\" text-anchor=\"start\" alignment-baseline=\"central\">conv2d-1</text><text x=\"455.0\" y=\"9250\" font-family=\"monospace\" font-size=\"12\" text-anchor=\"start\" alignment-baseline=\"central\">7</text><text x=\"238.0\" y=\"9440\" font-family=\"monospace\" font-size=\"12\" text-anchor=\"start\" alignment-baseline=\"central\">0</text><line x1=\"350.0\" y1=\"9474\" x2=\"350.0\" y2=\"9447\" stroke=\"black\" stroke-width=\"2\" marker-end=\"url(#arrow)\"><title>Weights from main_input to conv2d-1\n",
       " conv2d-1/kernel:0 has shape (4, 4, 2, 75)</title></line><rect x=\"249.0\" y=\"9474\" width=\"202\" height=\"102\" style=\"fill:none;stroke:black;stroke-width:2\"/><image id=\"Residual CNN_main_input_51\" class=\"Residual CNN_main_input\" x=\"250.0\" y=\"9475\" height=\"100\" width=\"200\" preserveAspectRatio=\"none\" href=\"data:image/gif;base64,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\"><title>Layer: main_input (input)\n",
       " shape = (2, 6, 7)\n",
       " Keras class = Input</title></image><text x=\"455.0\" y=\"9527.0\" font-family=\"monospace\" font-size=\"12\" text-anchor=\"start\" alignment-baseline=\"central\">main_input</text><text x=\"455.0\" y=\"9480\" font-family=\"monospace\" font-size=\"12\" text-anchor=\"start\" alignment-baseline=\"central\">7</text><text x=\"238.0\" y=\"9570\" font-family=\"monospace\" font-size=\"12\" text-anchor=\"start\" alignment-baseline=\"central\">0</text></svg>"
      ],
      "text/plain": [
       "<IPython.core.display.HTML object>"
      ]
     },
     "execution_count": 11,
     "metadata": {},
     "output_type": "execute_result"
    }
   ],
   "source": [
    "net.render(height=\"15000px\")"
   ]
  },
  {
   "cell_type": "markdown",
   "metadata": {},
   "source": [
    "## Connecting the Network to the Game"
   ]
  },
  {
   "cell_type": "markdown",
   "metadata": {},
   "source": [
    "First, we need a mapping from game (x,y) moves to a position in a list of actions and probabilities."
   ]
  },
  {
   "cell_type": "code",
   "execution_count": 94,
   "metadata": {},
   "outputs": [],
   "source": [
    "def make_mappings(game):\n",
    "    \"\"\"\n",
    "    Get a mapping from game's (x,y) to array position.\n",
    "    \"\"\"\n",
    "    move2pos = {}\n",
    "    pos2move = []\n",
    "    position = 0\n",
    "    for y in range(game.v, 0, -1):\n",
    "        for x in range(1, game.h + 1):\n",
    "            move2pos[(x,y)] = position\n",
    "            pos2move.append((x,y))\n",
    "            position += 1\n",
    "    return move2pos, pos2move"
   ]
  },
  {
   "cell_type": "markdown",
   "metadata": {},
   "source": [
    "We use the connectFour game, defined above:"
   ]
  },
  {
   "cell_type": "code",
   "execution_count": 95,
   "metadata": {},
   "outputs": [],
   "source": [
    "move2pos, pos2move = make_mappings(game)"
   ]
  },
  {
   "cell_type": "code",
   "execution_count": 96,
   "metadata": {},
   "outputs": [
    {
     "data": {
      "text/plain": [
       "22"
      ]
     },
     "execution_count": 96,
     "metadata": {},
     "output_type": "execute_result"
    }
   ],
   "source": [
    "move2pos[(2,3)]"
   ]
  },
  {
   "cell_type": "code",
   "execution_count": 97,
   "metadata": {},
   "outputs": [
    {
     "data": {
      "text/plain": [
       "(2, 3)"
      ]
     },
     "execution_count": 97,
     "metadata": {},
     "output_type": "execute_result"
    }
   ],
   "source": [
    "pos2move[22]"
   ]
  },
  {
   "cell_type": "markdown",
   "metadata": {},
   "source": [
    "Need a method of converting a list of state moves into an array:"
   ]
  },
  {
   "cell_type": "code",
   "execution_count": 98,
   "metadata": {},
   "outputs": [],
   "source": [
    "def state2array(game, state):\n",
    "    array = []\n",
    "    to_move = game.to_move(state)\n",
    "    for y in range(game.v, 0, -1):\n",
    "        for x in range(1, game.h + 1):\n",
    "            item = state.board.get((x, y), 0)\n",
    "            if item != 0:\n",
    "                item = 1 if item == to_move else -1\n",
    "            array.append(item)\n",
    "    return array"
   ]
  },
  {
   "cell_type": "code",
   "execution_count": 99,
   "metadata": {},
   "outputs": [
    {
     "data": {
      "text/plain": [
       "[0,\n",
       " 0,\n",
       " 0,\n",
       " 0,\n",
       " 0,\n",
       " 0,\n",
       " 0,\n",
       " 0,\n",
       " 0,\n",
       " 0,\n",
       " 0,\n",
       " 0,\n",
       " 0,\n",
       " 0,\n",
       " 0,\n",
       " 0,\n",
       " 0,\n",
       " 0,\n",
       " 0,\n",
       " 0,\n",
       " 0,\n",
       " 0,\n",
       " 0,\n",
       " 0,\n",
       " 0,\n",
       " 0,\n",
       " 0,\n",
       " 0,\n",
       " 0,\n",
       " 0,\n",
       " 0,\n",
       " 0,\n",
       " 0,\n",
       " 0,\n",
       " 0,\n",
       " 0,\n",
       " 0,\n",
       " 0,\n",
       " 0,\n",
       " 0,\n",
       " 0,\n",
       " 0]"
      ]
     },
     "execution_count": 99,
     "metadata": {},
     "output_type": "execute_result"
    }
   ],
   "source": [
    "state2array(game, game.initial)"
   ]
  },
  {
   "cell_type": "markdown",
   "metadata": {},
   "source": [
    "Finally, we are ready to connect the game to the network. We define a function `get_predictions` that takes a game and state, and propagates it through the network returning a (value, probabilities, allowedActions). The probabilities are the pi list from the AlphaZero paper."
   ]
  },
  {
   "cell_type": "code",
   "execution_count": 130,
   "metadata": {},
   "outputs": [],
   "source": [
    "def state2inputs(game, state):\n",
    "    board = np.array(state2array(game, state)) # 1 is my pieces, -1 other\n",
    "    currentplayer_position = np.zeros(len(board), dtype=np.int)\n",
    "    currentplayer_position[board==1] = 1\n",
    "    other_position = np.zeros(len(board), dtype=np.int)\n",
    "    other_position[board==-1] = 1\n",
    "    position = np.append(currentplayer_position,other_position)\n",
    "    inputs = position.reshape((2, 6, 7))\n",
    "    return inputs.tolist()"
   ]
  },
  {
   "cell_type": "code",
   "execution_count": 131,
   "metadata": {},
   "outputs": [
    {
     "data": {
      "text/plain": [
       "[[[0, 0, 0, 0, 0, 0, 0],\n",
       "  [0, 0, 0, 0, 0, 0, 0],\n",
       "  [0, 0, 0, 0, 0, 0, 0],\n",
       "  [0, 0, 0, 0, 0, 0, 0],\n",
       "  [0, 0, 0, 0, 0, 0, 0],\n",
       "  [0, 0, 0, 0, 0, 0, 0]],\n",
       " [[0, 0, 0, 0, 0, 0, 0],\n",
       "  [0, 0, 0, 0, 0, 0, 0],\n",
       "  [0, 0, 0, 0, 0, 0, 0],\n",
       "  [0, 0, 0, 0, 0, 0, 0],\n",
       "  [0, 0, 0, 0, 0, 0, 0],\n",
       "  [0, 0, 0, 0, 0, 0, 0]]]"
      ]
     },
     "execution_count": 131,
     "metadata": {},
     "output_type": "execute_result"
    }
   ],
   "source": [
    "state2inputs(game, game.initial)"
   ]
  },
  {
   "cell_type": "code",
   "execution_count": 132,
   "metadata": {},
   "outputs": [],
   "source": [
    "def get_predictions(net, game, state):\n",
    "    \"\"\"\n",
    "    Given a state, give output of network on preferred\n",
    "    actions. state.allowedActions removes impossible\n",
    "    actions.\n",
    "\n",
    "    Returns (value, probabilties, allowedActions)\n",
    "    \"\"\"\n",
    "    board = np.array(state2array(game, state)) # 1 is my pieces, -1 other\n",
    "    inputs = state2inputs(game, state)\n",
    "    preds = net.propagate(inputs)\n",
    "    value = preds[1][0]\n",
    "    logits = np.array(preds[0])\n",
    "    allowedActions = np.array([mapping[act] for act in game.actions(state)])\n",
    "    mask = np.ones(len(board), dtype=bool)\n",
    "    mask[allowedActions] = False\n",
    "    logits[mask] = -100\n",
    "    #SOFTMAX\n",
    "    odds = np.exp(logits)\n",
    "    probs = odds / np.sum(odds) ###put this just before the for?\n",
    "    return (value, probs.tolist(), allowedActions.tolist())"
   ]
  },
  {
   "cell_type": "code",
   "execution_count": 133,
   "metadata": {},
   "outputs": [
    {
     "data": {
      "text/plain": [
       "(0.0,\n",
       " [5.314394251458337e-45,\n",
       "  5.314394251458337e-45,\n",
       "  5.314394251458337e-45,\n",
       "  5.314394251458337e-45,\n",
       "  5.314394251458337e-45,\n",
       "  5.314394251458337e-45,\n",
       "  5.314394251458337e-45,\n",
       "  5.314394251458337e-45,\n",
       "  5.314394251458337e-45,\n",
       "  5.314394251458337e-45,\n",
       "  5.314394251458337e-45,\n",
       "  5.314394251458337e-45,\n",
       "  5.314394251458337e-45,\n",
       "  5.314394251458337e-45,\n",
       "  5.314394251458337e-45,\n",
       "  5.314394251458337e-45,\n",
       "  5.314394251458337e-45,\n",
       "  5.314394251458337e-45,\n",
       "  5.314394251458337e-45,\n",
       "  5.314394251458337e-45,\n",
       "  5.314394251458337e-45,\n",
       "  5.314394251458337e-45,\n",
       "  5.314394251458337e-45,\n",
       "  5.314394251458337e-45,\n",
       "  5.314394251458337e-45,\n",
       "  5.314394251458337e-45,\n",
       "  5.314394251458337e-45,\n",
       "  5.314394251458337e-45,\n",
       "  5.314394251458337e-45,\n",
       "  5.314394251458337e-45,\n",
       "  5.314394251458337e-45,\n",
       "  5.314394251458337e-45,\n",
       "  5.314394251458337e-45,\n",
       "  5.314394251458337e-45,\n",
       "  5.314394251458337e-45,\n",
       "  0.14285714285714285,\n",
       "  0.14285714285714285,\n",
       "  0.14285714285714285,\n",
       "  0.14285714285714285,\n",
       "  0.14285714285714285,\n",
       "  0.14285714285714285,\n",
       "  0.14285714285714285],\n",
       " [35, 36, 37, 38, 39, 40, 41])"
      ]
     },
     "execution_count": 133,
     "metadata": {},
     "output_type": "execute_result"
    }
   ],
   "source": [
    "get_predictions(net, game, game.initial)"
   ]
  },
  {
   "cell_type": "markdown",
   "metadata": {},
   "source": [
    "## Testing Game and Network Integration"
   ]
  },
  {
   "cell_type": "code",
   "execution_count": 12,
   "metadata": {},
   "outputs": [],
   "source": [
    "game = ConnectFour()\n",
    "p1 = QueryPlayer(\"Doug\")\n",
    "p2 = RandomPlayer(\"Rando\")\n",
    "p1.set_game(game)\n",
    "p2.set_game(game)\n",
    "state = game.initial\n",
    "turn = 1"
   ]
  },
  {
   "cell_type": "code",
   "execution_count": 13,
   "metadata": {},
   "outputs": [
    {
     "data": {
      "text/plain": [
       "(5, 1)"
      ]
     },
     "execution_count": 13,
     "metadata": {},
     "output_type": "execute_result"
    }
   ],
   "source": [
    "move = p2.get_action(state, turn)\n",
    "move"
   ]
  },
  {
   "cell_type": "code",
   "execution_count": 14,
   "metadata": {},
   "outputs": [],
   "source": [
    "state = game.result(state, move)"
   ]
  },
  {
   "cell_type": "code",
   "execution_count": 15,
   "metadata": {},
   "outputs": [
    {
     "name": "stdout",
     "output_type": "stream",
     "text": [
      "current state:\n",
      ". . . . . . . \n",
      ". . . . . . . \n",
      ". . . . . . . \n",
      ". . . . . . . \n",
      ". . . . . . . \n",
      ". . . . . . . \n",
      ". . . . X . . \n",
      "available moves: [(1, 1), (2, 1), (3, 1), (4, 1), (5, 2), (6, 1), (7, 1)]\n",
      "\n",
      "Your move? (1,1)\n"
     ]
    },
    {
     "data": {
      "text/plain": [
       "(1, 1)"
      ]
     },
     "execution_count": 15,
     "metadata": {},
     "output_type": "execute_result"
    }
   ],
   "source": [
    "move = p1.get_action(state, turn)\n",
    "move"
   ]
  },
  {
   "cell_type": "code",
   "execution_count": 16,
   "metadata": {},
   "outputs": [],
   "source": [
    "state = game.result(state, move)"
   ]
  },
  {
   "cell_type": "code",
   "execution_count": 17,
   "metadata": {},
   "outputs": [],
   "source": [
    "turn += 1"
   ]
  },
  {
   "cell_type": "code",
   "execution_count": 18,
   "metadata": {},
   "outputs": [
    {
     "name": "stdout",
     "output_type": "stream",
     "text": [
      ". . . . . . . \n",
      ". . . . . . . \n",
      ". . . . . . . \n",
      ". . . . . . . \n",
      ". . . . . . . \n",
      ". . . . . . . \n",
      "O . . . X . . \n"
     ]
    }
   ],
   "source": [
    "game.display(state)"
   ]
  },
  {
   "cell_type": "code",
   "execution_count": null,
   "metadata": {},
   "outputs": [],
   "source": [
    "get_predictions(net, game, state)"
   ]
  },
  {
   "cell_type": "markdown",
   "metadata": {},
   "source": [
    "Finally, we turn the predictions into a move, and we can play a game with the network."
   ]
  },
  {
   "cell_type": "code",
   "execution_count": 29,
   "metadata": {},
   "outputs": [],
   "source": [
    "class NNPlayer(Player):\n",
    "\n",
    "    def set_game(self, game):\n",
    "        \"\"\"\n",
    "        Get a mapping from game's (x,y) to array position.\n",
    "        \"\"\"\n",
    "        self.net = make_network()\n",
    "        self.game = game\n",
    "        self.move2pos = {}\n",
    "        self.pos2move = []\n",
    "        position = 0\n",
    "        for y in range(self.game.v, 0, -1):\n",
    "            for x in range(1, self.game.h + 1):\n",
    "                self.move2pos[(x,y)] = position\n",
    "                self.pos2move.append((x,y))\n",
    "                position += 1\n",
    "\n",
    "    def get_predictions(self, state):\n",
    "        \"\"\"\n",
    "        Given a state, give output of network on preferred\n",
    "        actions. state.allowedActions removes impossible\n",
    "        actions.\n",
    "\n",
    "        Returns (value, probabilties, allowedActions)\n",
    "        \"\"\"\n",
    "        board = np.array(self.state2array(state)) # 1 is my pieces, -1 other\n",
    "        inputs = self.state2inputs(state)\n",
    "        preds = self.net.propagate(inputs)\n",
    "        value = preds[1][0]\n",
    "        logits = np.array(preds[0])\n",
    "        allowedActions = np.array([self.move2pos[act] for act in self.game.actions(state)])\n",
    "        mask = np.ones(len(board), dtype=bool)\n",
    "        mask[allowedActions] = False\n",
    "        logits[mask] = -100\n",
    "        #SOFTMAX\n",
    "        odds = np.exp(logits)\n",
    "        probs = odds / np.sum(odds) \n",
    "        return (value, probs.tolist(), allowedActions.tolist())\n",
    "\n",
    "    def get_action(self, state, turn):\n",
    "        value, probabilities, moves = self.get_predictions(state)\n",
    "        probs = np.array(probabilities)[moves]\n",
    "        pos = cx.choice(moves, probs)\n",
    "        return self.pos2move[pos]\n",
    "\n",
    "    def state2inputs(self, state):\n",
    "        board = np.array(self.state2array(state)) # 1 is my pieces, -1 other\n",
    "        currentplayer_position = np.zeros(len(board), dtype=np.int)\n",
    "        currentplayer_position[board==1] = 1\n",
    "        other_position = np.zeros(len(board), dtype=np.int)\n",
    "        other_position[board==-1] = 1\n",
    "        position = np.append(currentplayer_position, other_position)\n",
    "        inputs = position.reshape((2, self.game.v, self.game.h))\n",
    "        return inputs.tolist()\n",
    "\n",
    "    def state2array(self, state):\n",
    "        array = []\n",
    "        to_move = self.game.to_move(state)\n",
    "        for y in range(self.game.v, 0, -1):\n",
    "            for x in range(1, self.game.h + 1):\n",
    "                item = state.board.get((x, y), 0)\n",
    "                if item != 0:\n",
    "                    item = 1 if item == to_move else -1\n",
    "                array.append(item)\n",
    "        return array"
   ]
  },
  {
   "cell_type": "code",
   "execution_count": 30,
   "metadata": {},
   "outputs": [],
   "source": [
    "p3 = NNPlayer(\"AlphaZero\")"
   ]
  },
  {
   "cell_type": "code",
   "execution_count": 31,
   "metadata": {},
   "outputs": [],
   "source": [
    "p3.set_game(game)"
   ]
  },
  {
   "cell_type": "code",
   "execution_count": 32,
   "metadata": {},
   "outputs": [
    {
     "data": {
      "text/plain": [
       "(4, 1)"
      ]
     },
     "execution_count": 32,
     "metadata": {},
     "output_type": "execute_result"
    }
   ],
   "source": [
    "p3.get_action(state, 2)"
   ]
  },
  {
   "cell_type": "code",
   "execution_count": 33,
   "metadata": {},
   "outputs": [
    {
     "name": "stdout",
     "output_type": "stream",
     "text": [
      "AlphaZero is thinking...\n",
      "AlphaZero makes action (2, 1):\n",
      ". . . . . . . \n",
      ". . . . . . . \n",
      ". . . . . . . \n",
      ". . . . . . . \n",
      ". . . . . . . \n",
      ". . . . . . . \n",
      ". X . . . . . \n",
      "Rando is thinking...\n",
      "Rando makes action (6, 1):\n",
      ". . . . . . . \n",
      ". . . . . . . \n",
      ". . . . . . . \n",
      ". . . . . . . \n",
      ". . . . . . . \n",
      ". . . . . . . \n",
      ". X . . . O . \n",
      "AlphaZero is thinking...\n",
      "AlphaZero makes action (2, 2):\n",
      ". . . . . . . \n",
      ". . . . . . . \n",
      ". . . . . . . \n",
      ". . . . . . . \n",
      ". . . . . . . \n",
      ". X . . . . . \n",
      ". X . . . O . \n",
      "Rando is thinking...\n",
      "Rando makes action (6, 2):\n",
      ". . . . . . . \n",
      ". . . . . . . \n",
      ". . . . . . . \n",
      ". . . . . . . \n",
      ". . . . . . . \n",
      ". X . . . O . \n",
      ". X . . . O . \n",
      "AlphaZero is thinking...\n",
      "AlphaZero makes action (7, 1):\n",
      ". . . . . . . \n",
      ". . . . . . . \n",
      ". . . . . . . \n",
      ". . . . . . . \n",
      ". . . . . . . \n",
      ". X . . . O . \n",
      ". X . . . O X \n",
      "Rando is thinking...\n",
      "Rando makes action (3, 1):\n",
      ". . . . . . . \n",
      ". . . . . . . \n",
      ". . . . . . . \n",
      ". . . . . . . \n",
      ". . . . . . . \n",
      ". X . . . O . \n",
      ". X O . . O X \n",
      "AlphaZero is thinking...\n",
      "AlphaZero makes action (6, 3):\n",
      ". . . . . . . \n",
      ". . . . . . . \n",
      ". . . . . . . \n",
      ". . . . . . . \n",
      ". . . . . X . \n",
      ". X . . . O . \n",
      ". X O . . O X \n",
      "Rando is thinking...\n",
      "Rando makes action (5, 1):\n",
      ". . . . . . . \n",
      ". . . . . . . \n",
      ". . . . . . . \n",
      ". . . . . . . \n",
      ". . . . . X . \n",
      ". X . . . O . \n",
      ". X O . O O X \n",
      "AlphaZero is thinking...\n",
      "AlphaZero makes action (3, 2):\n",
      ". . . . . . . \n",
      ". . . . . . . \n",
      ". . . . . . . \n",
      ". . . . . . . \n",
      ". . . . . X . \n",
      ". X X . . O . \n",
      ". X O . O O X \n",
      "Rando is thinking...\n",
      "Rando makes action (5, 2):\n",
      ". . . . . . . \n",
      ". . . . . . . \n",
      ". . . . . . . \n",
      ". . . . . . . \n",
      ". . . . . X . \n",
      ". X X . O O . \n",
      ". X O . O O X \n",
      "AlphaZero is thinking...\n",
      "AlphaZero makes action (2, 3):\n",
      ". . . . . . . \n",
      ". . . . . . . \n",
      ". . . . . . . \n",
      ". . . . . . . \n",
      ". X . . . X . \n",
      ". X X . O O . \n",
      ". X O . O O X \n",
      "Rando is thinking...\n",
      "Rando makes action (7, 2):\n",
      ". . . . . . . \n",
      ". . . . . . . \n",
      ". . . . . . . \n",
      ". . . . . . . \n",
      ". X . . . X . \n",
      ". X X . O O O \n",
      ". X O . O O X \n",
      "AlphaZero is thinking...\n",
      "AlphaZero makes action (7, 3):\n",
      ". . . . . . . \n",
      ". . . . . . . \n",
      ". . . . . . . \n",
      ". . . . . . . \n",
      ". X . . . X X \n",
      ". X X . O O O \n",
      ". X O . O O X \n",
      "Rando is thinking...\n",
      "Rando makes action (2, 4):\n",
      ". . . . . . . \n",
      ". . . . . . . \n",
      ". . . . . . . \n",
      ". O . . . . . \n",
      ". X . . . X X \n",
      ". X X . O O O \n",
      ". X O . O O X \n",
      "AlphaZero is thinking...\n",
      "AlphaZero makes action (2, 5):\n",
      ". . . . . . . \n",
      ". . . . . . . \n",
      ". X . . . . . \n",
      ". O . . . . . \n",
      ". X . . . X X \n",
      ". X X . O O O \n",
      ". X O . O O X \n",
      "Rando is thinking...\n",
      "Rando makes action (5, 3):\n",
      ". . . . . . . \n",
      ". . . . . . . \n",
      ". X . . . . . \n",
      ". O . . . . . \n",
      ". X . . O X X \n",
      ". X X . O O O \n",
      ". X O . O O X \n",
      "AlphaZero is thinking...\n",
      "AlphaZero makes action (4, 1):\n",
      ". . . . . . . \n",
      ". . . . . . . \n",
      ". X . . . . . \n",
      ". O . . . . . \n",
      ". X . . O X X \n",
      ". X X . O O O \n",
      ". X O X O O X \n",
      "Rando is thinking...\n",
      "Rando makes action (2, 6):\n",
      ". . . . . . . \n",
      ". O . . . . . \n",
      ". X . . . . . \n",
      ". O . . . . . \n",
      ". X . . O X X \n",
      ". X X . O O O \n",
      ". X O X O O X \n",
      "AlphaZero is thinking...\n",
      "AlphaZero makes action (1, 1):\n",
      ". . . . . . . \n",
      ". O . . . . . \n",
      ". X . . . . . \n",
      ". O . . . . . \n",
      ". X . . O X X \n",
      ". X X . O O O \n",
      "X X O X O O X \n",
      "Rando is thinking...\n",
      "Rando makes action (7, 4):\n",
      ". . . . . . . \n",
      ". O . . . . . \n",
      ". X . . . . . \n",
      ". O . . . . O \n",
      ". X . . O X X \n",
      ". X X . O O O \n",
      "X X O X O O X \n",
      "AlphaZero is thinking...\n",
      "AlphaZero makes action (5, 4):\n",
      ". . . . . . . \n",
      ". O . . . . . \n",
      ". X . . . . . \n",
      ". O . . X . O \n",
      ". X . . O X X \n",
      ". X X . O O O \n",
      "X X O X O O X \n",
      "Rando is thinking...\n",
      "Rando makes action (7, 5):\n",
      ". . . . . . . \n",
      ". O . . . . . \n",
      ". X . . . . O \n",
      ". O . . X . O \n",
      ". X . . O X X \n",
      ". X X . O O O \n",
      "X X O X O O X \n",
      "AlphaZero is thinking...\n",
      "AlphaZero makes action (3, 3):\n",
      ". . . . . . . \n",
      ". O . . . . . \n",
      ". X . . . . O \n",
      ". O . . X . O \n",
      ". X X . O X X \n",
      ". X X . O O O \n",
      "X X O X O O X \n",
      "Rando is thinking...\n",
      "Rando makes action (1, 2):\n",
      ". . . . . . . \n",
      ". O . . . . . \n",
      ". X . . . . O \n",
      ". O . . X . O \n",
      ". X X . O X X \n",
      "O X X . O O O \n",
      "X X O X O O X \n",
      "AlphaZero is thinking...\n",
      "AlphaZero makes action (3, 4):\n",
      ". . . . . . . \n",
      ". O . . . . . \n",
      ". X . . . . O \n",
      ". O X . X . O \n",
      ". X X . O X X \n",
      "O X X . O O O \n",
      "X X O X O O X \n",
      "Rando is thinking...\n",
      "Rando makes action (7, 6):\n",
      ". . . . . . . \n",
      ". O . . . . O \n",
      ". X . . . . O \n",
      ". O X . X . O \n",
      ". X X . O X X \n",
      "O X X . O O O \n",
      "X X O X O O X \n",
      "AlphaZero is thinking...\n",
      "AlphaZero makes action (6, 4):\n",
      ". . . . . . . \n",
      ". O . . . . O \n",
      ". X . . . . O \n",
      ". O X . X X O \n",
      ". X X . O X X \n",
      "O X X . O O O \n",
      "X X O X O O X \n",
      "Rando is thinking...\n",
      "Rando makes action (1, 3):\n",
      ". . . . . . . \n",
      ". O . . . . O \n",
      ". X . . . . O \n",
      ". O X . X X O \n",
      "O X X . O X X \n",
      "O X X . O O O \n",
      "X X O X O O X \n",
      "AlphaZero is thinking...\n",
      "AlphaZero makes action (1, 4):\n",
      ". . . . . . . \n",
      ". O . . . . O \n",
      ". X . . . . O \n",
      "X O X . X X O \n",
      "O X X . O X X \n",
      "O X X . O O O \n",
      "X X O X O O X \n",
      "***** AlphaZero wins!\n"
     ]
    },
    {
     "data": {
      "text/plain": [
       "['AlphaZero']"
      ]
     },
     "execution_count": 33,
     "metadata": {},
     "output_type": "execute_result"
    }
   ],
   "source": [
    "game.play_game(p2, p3)"
   ]
  },
  {
   "cell_type": "markdown",
   "metadata": {},
   "source": [
    "## Training The Network\n",
    "\n",
    "Now we are ready to train the network. The training is a clever use of Monte Carlo Tree Search.\n",
    "\n",
    "There is a Monte Carlo Tree Search player that we will use:"
   ]
  },
  {
   "cell_type": "code",
   "execution_count": 34,
   "metadata": {},
   "outputs": [],
   "source": [
    "p4 = MCTSPlayer(\"Monte\")"
   ]
  },
  {
   "cell_type": "code",
   "execution_count": 35,
   "metadata": {},
   "outputs": [],
   "source": [
    "p4.set_game(game)"
   ]
  },
  {
   "cell_type": "markdown",
   "metadata": {},
   "source": [
    "With this player, we can give an additional argument, `return_prob`, that will return the probabilities found for each possible move:"
   ]
  },
  {
   "cell_type": "code",
   "execution_count": 40,
   "metadata": {},
   "outputs": [
    {
     "data": {
      "text/plain": [
       "((7, 1),\n",
       " {(1, 1): 0.0,\n",
       "  (2, 1): 0.0,\n",
       "  (3, 1): 0.2,\n",
       "  (4, 1): 0.2,\n",
       "  (5, 1): 0.2,\n",
       "  (6, 1): 0.2,\n",
       "  (7, 1): 0.2})"
      ]
     },
     "execution_count": 40,
     "metadata": {},
     "output_type": "execute_result"
    }
   ],
   "source": [
    "p4.get_action(game.initial, turn=1, return_prob=True)"
   ]
  },
  {
   "cell_type": "markdown",
   "metadata": {},
   "source": [
    "Every time you run that line, you will get different probabilities. We will use these probabilities to train the network. However, another clever twist is that we will have two networks, playing each other."
   ]
  },
  {
   "cell_type": "code",
   "execution_count": 41,
   "metadata": {},
   "outputs": [],
   "source": [
    "currentPlayer = NNPlayer(\"Current Player\")\n",
    "bestPlayer = NNPlayer(\"Best Player\")"
   ]
  },
  {
   "cell_type": "code",
   "execution_count": null,
   "metadata": {},
   "outputs": [],
   "source": [
    "### Code to train AlphaZero here..."
   ]
  }
 ],
 "metadata": {
  "kernelspec": {
   "display_name": "Python 3",
   "language": "python",
   "name": "python3"
  },
  "language_info": {
   "codemirror_mode": {
    "name": "ipython",
    "version": 3
   },
   "file_extension": ".py",
   "mimetype": "text/x-python",
   "name": "python",
   "nbconvert_exporter": "python",
   "pygments_lexer": "ipython3",
   "version": "3.6.3"
  }
 },
 "nbformat": 4,
 "nbformat_minor": 2
}
