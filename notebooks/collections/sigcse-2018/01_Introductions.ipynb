{
 "cells": [
  {
   "cell_type": "markdown",
   "metadata": {
    "slideshow": {
     "slide_type": "slide"
    }
   },
   "source": [
    "# 1. Deep Learning in the Classroom"
   ]
  },
  {
   "cell_type": "markdown",
   "metadata": {},
   "source": [
    "https://sigcse2018.sigcse.org/attendees/workshops.html\n",
    "\n",
    "Friday, February 23, 7:00 pm - 10:00 pm, Room 305\n",
    "\n",
    "This workshop is a hands-on exploration of Deep Learning techniques and topics for use in the classrooms of Computer Science and related fields. We will demonstrate ideas through animation and visualizations, examine the path to advanced topics, and explore ideas for incorporating Deep Learning topics into the classroom. **The workshop is designed to allow participants to gain a foothold with these complex topics, and to help them develop their own materials for teaching.**"
   ]
  },
  {
   "cell_type": "markdown",
   "metadata": {
    "slideshow": {
     "slide_type": "slide"
    }
   },
   "source": [
    "## 1.1 Introductions"
   ]
  },
  {
   "cell_type": "markdown",
   "metadata": {},
   "source": [
    "### 1.1.1 Workshop Presenters"
   ]
  },
  {
   "cell_type": "markdown",
   "metadata": {},
   "source": [
    "* Doug Blank: Bryn Mawr College, doug.blank@gmail.com\n",
    "* Jim Marshall: Sarah Lawrence College, jmarshall@sarahlawrence.edu \n",
    "* Lisa Meeden: Swarthmore College, meeden@cs.swarthmore.edu"
   ]
  },
  {
   "cell_type": "markdown",
   "metadata": {},
   "source": [
    "### 1.1.2 Workshop Participants"
   ]
  },
  {
   "cell_type": "markdown",
   "metadata": {
    "slideshow": {
     "slide_type": "slide"
    }
   },
   "source": [
    "## 1.2 What is Deep Learning?"
   ]
  },
  {
   "cell_type": "markdown",
   "metadata": {},
   "source": [
    "* Computer Science, a new tool in the toolbox\n",
    "  * Artificial Intelligence (AI)\n",
    "    * Symbolic AI (GOFAI), Machine Learning (ML) \n",
    "    * Connectionism, Artificial Neural Networks, Parallel Distributed Processing\n",
    "* Ethics, biases and effects of code on society\n",
    "* Cognitive Science, Psychology, Philosophy of Mind\n",
    "* Mathematics, including Linear Algebra and Calculus"
   ]
  },
  {
   "cell_type": "markdown",
   "metadata": {
    "slideshow": {
     "slide_type": "subslide"
    }
   },
   "source": [
    "But what is it? Is it new?\n",
    "\n",
    "* based on old ideas: gradient descent, back-propagation of error\n",
    "* some new ideas\n",
    "* new technologies that make it fast, useful: [automatic differentiation](https://en.wikipedia.org/wiki/Automatic_differentiation), automatic conversion to assembly code\n",
    "\n",
    "> *Designing, training, and testing a network of stacked layers that can learn to produce numeric outputs given numeric inputs.*"
   ]
  },
  {
   "cell_type": "markdown",
   "metadata": {
    "slideshow": {
     "slide_type": "slide"
    }
   },
   "source": [
    "## 1.3 Pedagogical Approach"
   ]
  },
  {
   "cell_type": "markdown",
   "metadata": {},
   "source": [
    "> *On-Ramp to Deep Learning*"
   ]
  },
  {
   "cell_type": "markdown",
   "metadata": {
    "slideshow": {
     "slide_type": "fragment"
    }
   },
   "source": [
    "* Treat Deep Learning as an independent topic\n",
    "  * Avoid terminology and jargon from other fields, such as Machine Learning\n",
    "\n",
    "* Keep the focus on Deep Learning itself\n",
    "  * Use standard Python\n",
    "    * Avoid the complexities of optimizations (numpy), and analysis (matplotlib)\n",
    "    * Make functions for common, related utilities (testing, downloading, etc.)\n",
    "\n",
    "* Keep the complexity of the environment low but easy to use, without sacrificing power\n",
    "  * Can utilize Graphical Processing Units (GPU) for increased speed"
   ]
  },
  {
   "cell_type": "markdown",
   "metadata": {
    "slideshow": {
     "slide_type": "subslide"
    }
   },
   "source": [
    "### 1.3.1 Flexibility for Educators"
   ]
  },
  {
   "cell_type": "markdown",
   "metadata": {},
   "source": [
    "What to teach? How to connect to existing curriculum?\n",
    "\n",
    "* Low-level, mathematical topics\n",
    "    * Topology, (gradient descent), Calculus (derivatives), Statistics\n",
    "* Computation\n",
    "    * Functions, Turing Machines, Information Theory, Artificial Intelligence\n",
    "* Deep Learning\n",
    "    * Convolution, Hierarchical Features, Manifold Hypothesis, Bottleneck Hypothesis\n",
    "    * Connections to Machine Learning\n",
    "* High-level, Cognitive Science, Natural Language Processing, Society\n",
    "    * Learning to Learn, Making Analogies, Bias"
   ]
  },
  {
   "cell_type": "markdown",
   "metadata": {
    "slideshow": {
     "slide_type": "slide"
    }
   },
   "source": [
    "## 1.4 Software"
   ]
  },
  {
   "cell_type": "markdown",
   "metadata": {},
   "source": [
    "* Jupyter Notebooks\n",
    "* Conx Python module"
   ]
  },
  {
   "cell_type": "markdown",
   "metadata": {
    "slideshow": {
     "slide_type": "subslide"
    }
   },
   "source": [
    "### 1.4.1 Jupyter Notebooks"
   ]
  },
  {
   "cell_type": "markdown",
   "metadata": {},
   "source": [
    "Advantages:\n",
    "\n",
    "* emerging ecosystem for Data Science and related fields\n",
    "* reproducibility - notebooks can be easily copied and shared\n",
    "* narrative form brings computation to same level as other rich media\n",
    "* many free or inexpensive hosting options\n",
    "* open source, so available to run on your own computers\n",
    "* extensible - can create extensions for various utilities, such as widgets"
   ]
  },
  {
   "cell_type": "markdown",
   "metadata": {
    "slideshow": {
     "slide_type": "subslide"
    }
   },
   "source": [
    "### 1.4.2 Conx"
   ]
  },
  {
   "cell_type": "code",
   "execution_count": null,
   "metadata": {},
   "outputs": [],
   "source": [
    "import conx as cx"
   ]
  },
  {
   "cell_type": "code",
   "execution_count": null,
   "metadata": {},
   "outputs": [],
   "source": [
    "net = cx.Network(\"XOR\", 2, 5, 1, activation=\"sigmoid\")\n",
    "net"
   ]
  },
  {
   "cell_type": "code",
   "execution_count": null,
   "metadata": {},
   "outputs": [],
   "source": [
    "net.compile(error=\"mse\", optimizer=\"sgd\")"
   ]
  },
  {
   "cell_type": "code",
   "execution_count": null,
   "metadata": {},
   "outputs": [],
   "source": [
    "net.propagate([0, 1], visualize=True)"
   ]
  },
  {
   "cell_type": "code",
   "execution_count": null,
   "metadata": {},
   "outputs": [],
   "source": [
    "%%html\n",
    "\n",
    "<style>\n",
    ".toolbar-btn-label { display: none }\n",
    "</style>"
   ]
  },
  {
   "cell_type": "code",
   "execution_count": null,
   "metadata": {},
   "outputs": [],
   "source": []
  }
 ],
 "metadata": {
  "kernelspec": {
   "display_name": "Python 3",
   "language": "python",
   "name": "python3"
  },
  "language_info": {
   "codemirror_mode": {
    "name": "ipython",
    "version": 3
   },
   "file_extension": ".py",
   "mimetype": "text/x-python",
   "name": "python",
   "nbconvert_exporter": "python",
   "pygments_lexer": "ipython3",
   "version": "3.6.3"
  }
 },
 "nbformat": 4,
 "nbformat_minor": 2
}
