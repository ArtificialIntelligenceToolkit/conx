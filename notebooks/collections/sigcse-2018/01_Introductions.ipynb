{
 "cells": [
  {
   "cell_type": "markdown",
   "metadata": {
    "slideshow": {
     "slide_type": "slide"
    }
   },
   "source": [
    "# Deep Learning in the Classroom\n",
    "\n",
    "https://sigcse2018.sigcse.org/attendees/workshops.html\n",
    "\n",
    "* Friday, February 23, 7:00 pm - 10:00 pm\n",
    "* Room 305\n",
    "\n",
    "This workshop is a hands-on exploration of Deep Learning techniques and topics for use in the classrooms of Computer Science and related fields. Deep Learning denotes the latest in a series of advances in neural network training algorithms and hardware that allow Artificial Neural Networks (ANNs) to learn quickly and effectively, even with many, stacked layers. These types of networks can be applied to almost any learning problem, such as driving a car, describing images, controlling a robot, or understanding language. This workshop will start with the mathematical and algorithmic foundations of Deep Learning, and introduce an accessible Python-based library, called *conx*, which is based on the Keras library and was developed by the workshop instructors. The workshop will demonstrate ideas through animation and visualizations, examine the path to advanced topics, and explore ideas for incorporating Deep Learning topics into the classroom. **The workshop is designed to allow participants to gain a foothold with these complex topics, and to help them develop their own materials for teaching.** "
   ]
  },
  {
   "cell_type": "markdown",
   "metadata": {
    "slideshow": {
     "slide_type": "slide"
    }
   },
   "source": [
    "## Introductions"
   ]
  },
  {
   "cell_type": "markdown",
   "metadata": {
    "slideshow": {
     "slide_type": "subslide"
    }
   },
   "source": [
    "### Workshop Presenters\n",
    "\n",
    "* Doug Blank: Bryn Mawr College, doug.blank@gmail.com\n",
    "* Jim Marshall: Sarah Lawrence College, jmarshall@sarahlawrence.edu \n",
    "* Lisa Meeden: Swarthmore College, meeden@cs.swarthmore.edu \n",
    "\n",
    "### Workshop Participants"
   ]
  },
  {
   "cell_type": "markdown",
   "metadata": {
    "slideshow": {
     "slide_type": "slide"
    }
   },
   "source": [
    "## What is Deep Learning?\n",
    "\n",
    "Connections to:\n",
    "\n",
    "* Computer Science, a new tool in the toolbox\n",
    "  * Artificial Intelligence (AI)\n",
    "    * Symbolic AI: Good Old Fashion AI (GOFAI)\n",
    "    * Machine Learning (ML)\n",
    "    * Connectionism, Artificial Neural Networks, Parallel Distributed Processing\n",
    "  * Ethics, biases and effects of code on society\n",
    "* Cognitive Science\n",
    "* Psychology\n",
    "* Philosophy of Mind\n",
    "* Mathematics, including Linear Algebra and Calculus\n",
    "\n",
    "But what is it? Is it new?\n",
    "\n",
    "* based on old ideas: gradient descent, back-propagation of error\n",
    "* some new ideas\n",
    "* new technologies that make it fast, useful: [automatic differentiation](https://en.wikipedia.org/wiki/Automatic_differentiation), automatic conversion to assembly code\n",
    "\n",
    "> *Designing, training, and testing a network of stacked layers that can learn to produce numeric outputs given numeric inputs.*"
   ]
  },
  {
   "cell_type": "markdown",
   "metadata": {
    "slideshow": {
     "slide_type": "slide"
    }
   },
   "source": [
    "## Pedagogical Approach\n",
    "\n",
    "> *On-Ramp to Deep Learning*\n",
    "\n",
    "* Treat Deep Learning as an independent topic\n",
    "  * Avoid terminology and jargon from other fields, such as Machine Learning\n",
    "* Keep the focus on Deep Learning itself\n",
    "  * Use standard Python\n",
    "    * Avoid the complexities of optimizations (numpy), and analysis (matplotlib)\n",
    "* Keep the complexity of the environment low but easy to use, without sacrificing power\n",
    "  * Can utilize Graphical Processing Units (GPU) for increased speed\n",
    "  "
   ]
  },
  {
   "cell_type": "markdown",
   "metadata": {
    "slideshow": {
     "slide_type": "slide"
    }
   },
   "source": [
    "## Software\n",
    "\n",
    "### Jupyter Notebooks\n",
    "\n",
    "Advantages:\n",
    "\n",
    "* emerging ecosystem for Data Science and related fields\n",
    "\n",
    "### Conx"
   ]
  }
 ],
 "metadata": {
  "celltoolbar": "Slideshow",
  "kernelspec": {
   "display_name": "Python 3",
   "language": "python",
   "name": "python3"
  },
  "language_info": {
   "codemirror_mode": {
    "name": "ipython",
    "version": 3
   },
   "file_extension": ".py",
   "mimetype": "text/x-python",
   "name": "python",
   "nbconvert_exporter": "python",
   "pygments_lexer": "ipython3",
   "version": "3.6.1"
  }
 },
 "nbformat": 4,
 "nbformat_minor": 2
}
