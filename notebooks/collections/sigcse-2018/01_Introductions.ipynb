{
 "cells": [
  {
   "cell_type": "markdown",
   "metadata": {
    "slideshow": {
     "slide_type": "slide"
    }
   },
   "source": [
    "# Deep Learning in the Classroom\n",
    "\n",
    "https://sigcse2018.sigcse.org/attendees/workshops.html\n",
    "\n",
    "Friday, February 23, 7:00 pm - 10:00 pm, Room 305\n",
    "\n",
    "This workshop is a hands-on exploration of Deep Learning techniques and topics for use in the classrooms of Computer Science and related fields. We will demonstrate ideas through animation and visualizations, examine the path to advanced topics, and explore ideas for incorporating Deep Learning topics into the classroom. **The workshop is designed to allow participants to gain a foothold with these complex topics, and to help them develop their own materials for teaching.** "
   ]
  },
  {
   "cell_type": "markdown",
   "metadata": {
    "slideshow": {
     "slide_type": "slide"
    }
   },
   "source": [
    "## Introductions\n",
    "\n",
    "### Workshop Presenters\n",
    "\n",
    "* Doug Blank: Bryn Mawr College, doug.blank@gmail.com\n",
    "* Jim Marshall: Sarah Lawrence College, jmarshall@sarahlawrence.edu \n",
    "* Lisa Meeden: Swarthmore College, meeden@cs.swarthmore.edu \n",
    "\n",
    "### Workshop Participants"
   ]
  },
  {
   "cell_type": "markdown",
   "metadata": {
    "slideshow": {
     "slide_type": "slide"
    }
   },
   "source": [
    "## What is Deep Learning?\n",
    "\n",
    "Connections to:\n",
    "\n",
    "* Computer Science, a new tool in the toolbox\n",
    "  * Artificial Intelligence (AI)\n",
    "    * Symbolic AI: Good Old Fashion AI (GOFAI)\n",
    "    * Machine Learning (ML)\n",
    "    * Connectionism, Artificial Neural Networks, Parallel Distributed Processing\n",
    "  * Ethics, biases and effects of code on society\n",
    "* Cognitive Science\n",
    "* Psychology\n",
    "* Philosophy of Mind\n",
    "* Mathematics, including Linear Algebra and Calculus"
   ]
  },
  {
   "cell_type": "markdown",
   "metadata": {
    "slideshow": {
     "slide_type": "slide"
    }
   },
   "source": [
    "But what is it? Is it new?\n",
    "\n",
    "* based on old ideas: gradient descent, back-propagation of error\n",
    "* some new ideas\n",
    "* new technologies that make it fast, useful: [automatic differentiation](https://en.wikipedia.org/wiki/Automatic_differentiation), automatic conversion to assembly code\n",
    "\n",
    "> *Designing, training, and testing a network of stacked layers that can learn to produce numeric outputs given numeric inputs.*"
   ]
  },
  {
   "cell_type": "markdown",
   "metadata": {
    "slideshow": {
     "slide_type": "slide"
    }
   },
   "source": [
    "## Pedagogical Approach\n",
    "\n",
    "> *On-Ramp to Deep Learning*\n",
    "\n",
    "* Treat Deep Learning as an independent topic\n",
    "  * Avoid terminology and jargon from other fields, such as Machine Learning\n",
    "* Keep the focus on Deep Learning itself\n",
    "  * Use standard Python\n",
    "    * Avoid the complexities of optimizations (numpy), and analysis (matplotlib)\n",
    "    * Make functions for common, related utilities (testing, downloading, etc.)\n",
    "* Keep the complexity of the environment low but easy to use, without sacrificing power\n",
    "  * Can utilize Graphical Processing Units (GPU) for increased speed\n",
    "  "
   ]
  },
  {
   "cell_type": "markdown",
   "metadata": {
    "slideshow": {
     "slide_type": "slide"
    }
   },
   "source": [
    "## Software\n",
    "\n",
    "* Jupyter Notebooks\n",
    "* Conx Python module"
   ]
  },
  {
   "cell_type": "markdown",
   "metadata": {
    "slideshow": {
     "slide_type": "slide"
    }
   },
   "source": [
    "### Jupyter Notebooks\n",
    "\n",
    "Advantages:\n",
    "\n",
    "* emerging ecosystem for Data Science and related fields\n",
    "* reproducibility - notebooks can be easily copied and shared\n",
    "* narrative form brings computation to same level as other rich media\n",
    "* many free or inexpensive hosting options\n",
    "* open source, so available to run on your own computers\n",
    "* extensible - can create extensions for various utilities, such as widgets"
   ]
  },
  {
   "cell_type": "markdown",
   "metadata": {
    "slideshow": {
     "slide_type": "subslide"
    }
   },
   "source": [
    "### Conx"
   ]
  },
  {
   "cell_type": "code",
   "execution_count": 1,
   "metadata": {},
   "outputs": [
    {
     "name": "stderr",
     "output_type": "stream",
     "text": [
      "Using Theano backend.\n",
      "conx, version 3.5.9\n"
     ]
    }
   ],
   "source": [
    "from conx import *"
   ]
  },
  {
   "cell_type": "code",
   "execution_count": 10,
   "metadata": {},
   "outputs": [],
   "source": [
    "net = Network(\"XOR\", 2, 5, 1, activation=\"sigmoid\")"
   ]
  },
  {
   "cell_type": "code",
   "execution_count": 11,
   "metadata": {},
   "outputs": [
    {
     "data": {
      "application/javascript": [
       "\n",
       "require(['base/js/namespace'], function(Jupyter) {\n",
       "    Jupyter.notebook.kernel.comm_manager.register_target('conx_svg_control', function(comm, msg) {\n",
       "        comm.on_msg(function(msg) {\n",
       "            var data = msg[\"content\"][\"data\"];\n",
       "            var images = document.getElementsByClassName(data[\"class\"]);\n",
       "            for (var i = 0; i < images.length; i++) {\n",
       "                if (data[\"href\"]) {\n",
       "                    images[i].setAttributeNS(null, \"href\", data[\"href\"]);\n",
       "                }\n",
       "                if (data[\"src\"]) {\n",
       "                    images[i].setAttributeNS(null, \"src\", data[\"src\"]);\n",
       "                }\n",
       "            }\n",
       "        });\n",
       "    });\n",
       "});\n"
      ],
      "text/plain": [
       "<IPython.core.display.Javascript object>"
      ]
     },
     "metadata": {},
     "output_type": "display_data"
    },
    {
     "data": {
      "text/html": [
       "<svg id='XOR' xmlns='http://www.w3.org/2000/svg' viewBox=\"0 0 350 260\" max-width=\"100%\" height=\"780px\" image-rendering=\"pixelated\">\n",
       "    <defs>\n",
       "        <marker id=\"arrow\" markerWidth=\"10\" markerHeight=\"10\" refX=\"9\" refY=\"3\" orient=\"auto\" markerUnits=\"strokeWidth\">\n",
       "          <path d=\"M0,0 L0,6 L9,3 z\" fill=\"black\" />\n",
       "        </marker>\n",
       "    </defs><text x=\"175.0\" y=\"12.5\" font-family=\"monospace\" font-size=\"15\" text-anchor=\"middle\" alignment-baseline=\"central\">XOR</text><rect x=\"149.0\" y=\"24\" width=\"52\" height=\"52\" style=\"fill:none;stroke:black;stroke-width:2\"/><image id=\"XOR_output_1\" class=\"XOR_output\" x=\"150.0\" y=\"25\" height=\"50\" width=\"50\" preserveAspectRatio=\"none\" href=\"data:image/gif;base64,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\"><title>Layer: output (output)\n",
       " shape = (1,)\n",
       " Keras class = Dense\n",
       " activation = sigmoid</title></image><text x=\"205.0\" y=\"52.0\" font-family=\"monospace\" font-size=\"12\" text-anchor=\"start\" alignment-baseline=\"central\">output</text><line x1=\"175.0\" y1=\"104\" x2=\"175.0\" y2=\"77\" stroke=\"black\" stroke-width=\"2\" marker-end=\"url(#arrow)\"><title>Weights from hidden to output</title></line><rect x=\"74.0\" y=\"104\" width=\"202\" height=\"52\" style=\"fill:none;stroke:black;stroke-width:2\"/><image id=\"XOR_hidden_2\" class=\"XOR_hidden\" x=\"75.0\" y=\"105\" height=\"50\" width=\"200\" preserveAspectRatio=\"none\" href=\"data:image/gif;base64,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\"><title>Layer: hidden (hidden)\n",
       " shape = (5,)\n",
       " Keras class = Dense\n",
       " activation = sigmoid</title></image><text x=\"280.0\" y=\"132.0\" font-family=\"monospace\" font-size=\"12\" text-anchor=\"start\" alignment-baseline=\"central\">hidden</text><line x1=\"175.0\" y1=\"184\" x2=\"175.0\" y2=\"157\" stroke=\"black\" stroke-width=\"2\" marker-end=\"url(#arrow)\"><title>Weights from input to hidden</title></line><rect x=\"124.0\" y=\"184\" width=\"102\" height=\"52\" style=\"fill:none;stroke:black;stroke-width:2\"/><image id=\"XOR_input_3\" class=\"XOR_input\" x=\"125.0\" y=\"185\" height=\"50\" width=\"100\" preserveAspectRatio=\"none\" href=\"data:image/gif;base64,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\"><title>Layer: input (input)\n",
       " shape = (2,)\n",
       " Keras class = Input</title></image><text x=\"230.0\" y=\"212.0\" font-family=\"monospace\" font-size=\"12\" text-anchor=\"start\" alignment-baseline=\"central\">input</text></svg>"
      ],
      "text/plain": [
       "<Network name='XOR' (uncompiled)>"
      ]
     },
     "execution_count": 11,
     "metadata": {},
     "output_type": "execute_result"
    }
   ],
   "source": [
    "net"
   ]
  },
  {
   "cell_type": "code",
   "execution_count": 12,
   "metadata": {},
   "outputs": [],
   "source": [
    "net.compile(error=\"mse\", optimizer=\"sgd\")"
   ]
  },
  {
   "cell_type": "code",
   "execution_count": 13,
   "metadata": {},
   "outputs": [
    {
     "data": {
      "text/plain": [
       "[0.4310270845890045]"
      ]
     },
     "execution_count": 13,
     "metadata": {},
     "output_type": "execute_result"
    }
   ],
   "source": [
    "net.propagate([0, 1], visualize=True)"
   ]
  },
  {
   "cell_type": "code",
   "execution_count": null,
   "metadata": {},
   "outputs": [],
   "source": []
  }
 ],
 "metadata": {
  "celltoolbar": "Slideshow",
  "kernelspec": {
   "display_name": "Python 3",
   "language": "python",
   "name": "python3"
  },
  "language_info": {
   "codemirror_mode": {
    "name": "ipython",
    "version": 3
   },
   "file_extension": ".py",
   "mimetype": "text/x-python",
   "name": "python",
   "nbconvert_exporter": "python",
   "pygments_lexer": "ipython3",
   "version": "3.6.3"
  }
 },
 "nbformat": 4,
 "nbformat_minor": 2
}
