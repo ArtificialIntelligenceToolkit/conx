{
 "cells": [
  {
   "cell_type": "code",
   "execution_count": 1,
   "metadata": {},
   "outputs": [],
   "source": [
    "from jyro.simulator import *\n",
    "import numpy as np\n",
    "from math import pi\n",
    "from random import random"
   ]
  },
  {
   "cell_type": "code",
   "execution_count": 2,
   "metadata": {},
   "outputs": [],
   "source": [
    "def make_world(physics):\n",
    "    physics.addBox(0, 0, 4, 4, fill=\"backgroundgreen\", wallcolor=\"gray\")\n",
    "    #physics.addBox(1.75, 2.9, 2.25, 3.0, fill=\"blue\", wallcolor=\"blue\")\n",
    "    physics.addLight(2, 3.5, 1.0)"
   ]
  },
  {
   "cell_type": "code",
   "execution_count": 3,
   "metadata": {},
   "outputs": [],
   "source": [
    "def make_robot():\n",
    "    robot = Pioneer(\"Pioneer\", 2, 1, 0) #parameters are x, y, heading (in radians)\n",
    "    robot.addDevice(Pioneer16Sonars())\n",
    "    light_sensors = PioneerFrontLightSensors(3) #parameter defines max range\n",
    "    robot.addDevice(light_sensors)\n",
    "    return robot"
   ]
  },
  {
   "cell_type": "code",
   "execution_count": 4,
   "metadata": {},
   "outputs": [],
   "source": [
    "def determine_move(robot):\n",
    "    \"\"\"Returns tuple of (translation, rotation) movement\"\"\"\n",
    "    lights = robot[\"light\"].getData()\n",
    "    sonars = robot[\"sonar\"].getData()\n",
    "    left_light = lights[0]\n",
    "    right_light = lights[1]\n",
    "    light_diff = left_light-right_light\n",
    "    # if found light, then stop\n",
    "    if sum(lights) > 1.75:\n",
    "        return (0, 0)\n",
    "    elif light_diff < -0.05:            \n",
    "        return (0.0, -0.3)\n",
    "    elif light_diff > 0.05:\n",
    "        return (0.0, 0.3)\n",
    "    else:\n",
    "        return (0.3, 0)\n",
    "    \n",
    "def light_brain(robot):\n",
    "    move = determine_move(robot)\n",
    "    robot.move(*move)"
   ]
  },
  {
   "cell_type": "code",
   "execution_count": 5,
   "metadata": {},
   "outputs": [
    {
     "data": {
      "application/vnd.jupyter.widget-view+json": {
       "model_id": "dfc9eeb54a2a442387a3b0010b3b0d94",
       "version_major": 2,
       "version_minor": 0
      },
      "text/html": [
       "<p>Failed to display Jupyter Widget of type <code>VBox</code>.</p>\n",
       "<p>\n",
       "  If you're reading this message in the Jupyter Notebook or JupyterLab Notebook, it may mean\n",
       "  that the widgets JavaScript is still loading. If this message persists, it\n",
       "  likely means that the widgets JavaScript library is either not installed or\n",
       "  not enabled. See the <a href=\"https://ipywidgets.readthedocs.io/en/stable/user_install.html\">Jupyter\n",
       "  Widgets Documentation</a> for setup instructions.\n",
       "</p>\n",
       "<p>\n",
       "  If you're reading this message in another frontend (for example, a static\n",
       "  rendering on GitHub or <a href=\"https://nbviewer.jupyter.org/\">NBViewer</a>),\n",
       "  it may mean that your frontend doesn't currently support widgets.\n",
       "</p>\n"
      ],
      "text/plain": [
       "VBox(children=(VBox(children=(HBox(children=(Checkbox(value=True, description='Update GUI'), Checkbox(value=False, description='Trace Path'), Text(value='0.0 seconds', description='Time:'))), HBox(children=(VBox(children=(HBox(children=(FloatSlider(value=0.0, layout=Layout(height='400px', padding='0px 0px 0px 0px', width='15px'), orientation='vertical', readout=False), HTML(value='<svg baseProfile=\"full\" height=\"400\" version=\"1.1\" width=\"400\" xmlns=\"http://www.w3.org/2000/svg\" xmlns:ev=\"http://www.w3.org/2001/xml-events\" xmlns:xlink=\"http://www.w3.org/1999/xlink\"><defs /><rect fill=\"#eef3dd\" height=\"400.0\" stroke=\"#bebebe\" stroke-width=\"1\" width=\"400.0\" x=\"0.0\" y=\"0.0\" /><circle cx=\"200.0\" cy=\"50.0\" fill=\"#ffff00\" r=\"25.0\" stroke=\"#ffff00\" stroke-width=\"1\" /><line fill=\"#800080\" stroke=\"#add8e6\" stroke-width=\"1\" x1=\"182.5\" x2=\"0.0\" y1=\"290.0\" y2=\"290.0\" /><line fill=\"#800080\" stroke=\"#add8e6\" stroke-width=\"1\" x1=\"185.0\" x2=\"0.0\" y1=\"283.0\" y2=\"196.73308\" /><line fill=\"#800080\" stroke=\"#add8e6\" stroke-width=\"1\" x1=\"189.0\" x2=\"0.0\" y1=\"280.0\" y2=\"54.75856999999999\" /><line fill=\"#800080\" stroke=\"#add8e6\" stroke-width=\"1\" x1=\"195.0\" x2=\"120.64409789502595\" y1=\"277.5\" y2=\"0.0\" /><line fill=\"#800080\" stroke=\"#add8e6\" stroke-width=\"1\" x1=\"204.99999999999997\" x2=\"279.3559021049741\" y1=\"277.5\" y2=\"0.0\" /><line fill=\"#800080\" stroke=\"#add8e6\" stroke-width=\"1\" x1=\"211.0\" x2=\"400.0\" y1=\"280.0\" y2=\"54.75856999999999\" /><line fill=\"#800080\" stroke=\"#add8e6\" stroke-width=\"1\" x1=\"215.0\" x2=\"400.0\" y1=\"283.0\" y2=\"196.73308\" /><line fill=\"#800080\" stroke=\"#add8e6\" stroke-width=\"1\" x1=\"217.49999999999997\" x2=\"400.0\" y1=\"290.0\" y2=\"290.0\" /><line fill=\"#800080\" stroke=\"#add8e6\" stroke-width=\"1\" x1=\"217.49999999999997\" x2=\"400.0\" y1=\"310.0\" y2=\"310.0\" /><line fill=\"#800080\" stroke=\"#add8e6\" stroke-width=\"1\" x1=\"215.0\" x2=\"392.9940680799395\" y1=\"317.0\" y2=\"400.0\" /><line fill=\"#800080\" stroke=\"#add8e6\" stroke-width=\"1\" x1=\"211.0\" x2=\"278.1279704126759\" y1=\"320.0\" y2=\"400.0\" /><line fill=\"#800080\" stroke=\"#add8e6\" stroke-width=\"1\" x1=\"204.99999999999997\" x2=\"225.76606207412993\" y1=\"322.5\" y2=\"400.0\" /><line fill=\"#800080\" stroke=\"#add8e6\" stroke-width=\"1\" x1=\"195.0\" x2=\"174.2339379258701\" y1=\"322.5\" y2=\"400.0\" /><line fill=\"#800080\" stroke=\"#add8e6\" stroke-width=\"1\" x1=\"189.0\" x2=\"121.8720295873241\" y1=\"320.0\" y2=\"400.0\" /><line fill=\"#800080\" stroke=\"#add8e6\" stroke-width=\"1\" x1=\"185.0\" x2=\"7.00593192006051\" y1=\"317.0\" y2=\"400.0\" /><line fill=\"#800080\" stroke=\"#add8e6\" stroke-width=\"1\" x1=\"182.5\" x2=\"0.0\" y1=\"310.0\" y2=\"310.0\" /><line fill=\"#800080\" stroke=\"#ffa500\" stroke-width=\"1\" x1=\"200.0\" x2=\"182.5\" y1=\"50.0\" y2=\"277.5\" /><line fill=\"#800080\" stroke=\"#ffa500\" stroke-width=\"1\" x1=\"200.0\" x2=\"217.49999999999997\" y1=\"50.0\" y2=\"277.5\" /><polygon fill=\"red\" points=\"192.0,277.5 182.5,285.0 182.5,315.0 192.0,322.5 208.0,322.5 217.49999999999997,315.0 217.49999999999997,285.0 208.0,277.5\" stroke=\"red\" stroke-width=\"1\" /><polygon points=\"-5.0,-5.0 0,0 5.0,-5.0 0,5.0\" stroke=\"black\" stroke-width=\"1\" transform=\"translate(200.0,300.0) rotate(180.0)\" /><circle cx=\"182.5\" cy=\"277.5\" fill=\"yellow\" r=\"2.5\" stroke=\"orange\" stroke-width=\"1\" /><circle cx=\"217.49999999999997\" cy=\"277.5\" fill=\"yellow\" r=\"2.5\" stroke=\"orange\" stroke-width=\"1\" /></svg>'))), FloatSlider(value=0.0, layout=Layout(height='15px', padding='0px 0px 0px 10px', width='420px'), readout=False)), layout=Layout(height='460px')), VBox(children=(HTML(value='<img style=\"image-rendering: pixelated;\" src=\"data:image/gif;base64,R0lGODdheAA8AIcAAAAAAAAAAAAAAAAAAAAAAAAAAAAAAAAAAAAAAAAAAAAAAAAAAAAAAAAAAAAAAAAAAAAAAAAAAAAAAAAAAAAAAAAAAAAAAAAAAAAAAAAAAAAAAAAAAAAAAAAAAAAAAAAAAAAAAAAAAAAAAAAAAAAAAAAAAAAAAAAAAAAAAAAAAAAAAAAAAAAAAAAAAAAAAAAAAAAAAAAAAAAAAAAAAAAAAAAAAAAAAAAAAAAAAAAAAAAAAAAAAAAAAAAAAAAAAAAAAAAAAAAAAAAAAAAAAAAAAAAAAAAAAAAAAAAAAAAAAAAAAAAAAAAAAAAAAAAAAAAAAAAAAAAAAAAAAAAAAAAAAAAAAAAAAAAAAAAAAAAAAAAAAAAAAAAAAAAAAAAAAAAAAAAAAAAAAAAAAAAAAAAAAAAAAAAAAAAAAAAAAAAAAAAAAAAAAAAAAAAAAAAAAAAAAAAAAAAAAAAAAAAAAAAAAAAAAAAAAAAAAAAAAAAAAAAAAAAAAAAAAAAAAAAAAAAAAAAAAAAAAAAAAAAAAAAAAAAAAAAAAAAAAAAAAAAAAAAAAAAAAAAAAAAAAAAAAAAAAAAAAAAAAAAAAAAAAAAAAAAAAAAAAAAAAAAAAAAAAAAAAAAAAAAAAAAAAAAAAAAAAAAAAAAAAAAAAAAAAAAAAAAAAAAAAAAAAAAAAAAAAAAAAAAAAAAAAAAAAAAAAAAAAAAAAAAAAAAAAAAAAAAAAAAAAAAAAAAAAAAAAAAAAAAAAAAAAAAAAAAAAAAAAAAAAAAAAAAAAAAAAAAAAAAAAAAAAAAAAAAAAAAAAAAAAAAAAAAAAAAAAAAAAAAAAAAAAAAAAAAAAAAAAAAAAAAAAAAAAAAAAAAAAAAAAAAAAAAAAAAAAAAAAAAAAAAAAAAAAAAAAAAAAAAAAAAAAAAAAAAAAAAAAAAAAAAAAAAAAAAAAAAAAAAAAAAAAAAAAAAAAAAAAAAAAAAAAAAAAAAAAAAAAAAAAAAAAAAAAAAAAAAAAAAAAAAAAAAAAAAAAAAAACwAAAAAeAA8AEAIigABCBxIsKDBgwgTKlzIsKHDhxAjSpxIsaLFixgzatzIsaPHjyBDihxJsqTJkyhTqlzJsqXLlzBjypxJs6bNmzhz6tzJs6fPn0CDCh1KtKjRo0iTKl3KtKnTp1CjSp1KtarVq1izat3KtavXr2DDih1LtqzZs2jTql3Ltq3bt3Djyp1Lt67duzwDAgA7\" width=\"240\"/>'), FloatSlider(value=0.0, layout=Layout(height='15px', padding='0px 0px 0px 0px', width='248px'), readout=False))))))), HBox(children=(Button(icon='step-forward', style=ButtonStyle()), Play(value=0, layout=Layout(width='100%'), max=1000000, show_repeat=False), Button(description='Clear Output', style=ButtonStyle()), Button(icon='refresh', layout=Layout(width='25%'), style=ButtonStyle()))), Output()))"
      ]
     },
     "metadata": {},
     "output_type": "display_data"
    }
   ],
   "source": [
    "robot = make_robot()\n",
    "vsim = VSimulator(robot, make_world) #create a visual simulator to watch robot's behavior"
   ]
  },
  {
   "cell_type": "code",
   "execution_count": 6,
   "metadata": {},
   "outputs": [],
   "source": [
    "def random_start(robot):\n",
    "    x = pi/4 * random()\n",
    "    if random() < 0.5:\n",
    "        heading = 2*pi-x\n",
    "    else:\n",
    "        heading = x\n",
    "    robot.setPose(0.5 + random()*2.5, 0.5 + random()*2, heading)"
   ]
  },
  {
   "cell_type": "code",
   "execution_count": 7,
   "metadata": {},
   "outputs": [],
   "source": [
    "robot.brain = light_brain\n",
    "random_start(robot)"
   ]
  },
  {
   "cell_type": "code",
   "execution_count": 8,
   "metadata": {},
   "outputs": [],
   "source": [
    "def generate_data(robot, make_world, trials, filename):\n",
    "    sim = Simulator(robot, make_world)\n",
    "    fp = open(filename, \"w\")\n",
    "    for i in range(trials):\n",
    "        random_start(robot)\n",
    "        print(\"Trial %d Starting pose: %s\" % (i, str(robot.getPose())))\n",
    "        while True:\n",
    "            lights = robot[\"light\"].getData()\n",
    "            #sonars = robot[\"sonar\"].getData()\n",
    "            translate, rotate = determine_move(robot)\n",
    "            robot.move(translate, rotate)\n",
    "            if translate == 0 and rotate == 0:\n",
    "                break # found light, so end trial\n",
    "            sim.step()\n",
    "            #sonars = [min(v/3.0, 1.0) for v in sonars] #normalize sonar values\n",
    "            for value in lights:\n",
    "                fp.write(\"%.3f \" % value)\n",
    "            #for value in sonars[2:6]:\n",
    "            #    fp.write(\"%.3f \" % value)\n",
    "            fp.write(\"%.1f %.1f\\n\" % (translate, rotate))\n",
    "\n",
    "    fp.close()"
   ]
  },
  {
   "cell_type": "code",
   "execution_count": 9,
   "metadata": {},
   "outputs": [
    {
     "name": "stdout",
     "output_type": "stream",
     "text": [
      "Trial 0 Starting pose: (2.2958729964108406, 1.7993738881969976, 0.00625284982419636)\n",
      "Trial 1 Starting pose: (2.811794750909785, 2.1665551783340646, 0.6390280331737108)\n",
      "Trial 2 Starting pose: (0.8560320850756288, 2.1070637569282784, 5.618688959447846)\n",
      "Trial 3 Starting pose: (2.9511300543429844, 1.441485055079032, 0.46692098311269115)\n",
      "Trial 4 Starting pose: (2.599987351114626, 1.7820051202974898, 5.657583341661352)\n",
      "Trial 5 Starting pose: (1.3663227499675175, 1.243324041688022, 0.5095092212288673)\n",
      "Trial 6 Starting pose: (2.7165531336272437, 1.7969450541139538, 6.117066647071123)\n",
      "Trial 7 Starting pose: (1.9401058228027777, 1.1087267095890827, 0.4541777960674395)\n",
      "Trial 8 Starting pose: (2.5395705851133643, 1.6335618861292744, 6.05170036104594)\n",
      "Trial 9 Starting pose: (0.8035821632884517, 1.5751506123835284, 5.570576290797781)\n",
      "Trial 10 Starting pose: (0.8359224476182426, 0.6764276181228337, 0.6088764867199195)\n",
      "Trial 11 Starting pose: (0.6753803521163135, 1.7694802847507067, 0.7418334954194706)\n",
      "Trial 12 Starting pose: (2.45342635792691, 1.5754761956005012, 5.521104791407592)\n",
      "Trial 13 Starting pose: (0.8661669232772933, 1.2554062583987147, 5.937974561280127)\n",
      "Trial 14 Starting pose: (1.072929364577749, 0.9311844510458673, 0.004678957687325412)\n",
      "Trial 15 Starting pose: (1.0192165820903007, 1.8548934010225746, 6.062170815161727)\n",
      "Trial 16 Starting pose: (1.8286236768122885, 1.875648521303836, 0.7225522291598213)\n",
      "Trial 17 Starting pose: (2.32677692146632, 1.4403022473274854, 0.3885581760385497)\n",
      "Trial 18 Starting pose: (2.1760250983640246, 1.0086723851216797, 6.098969601420803)\n",
      "Trial 19 Starting pose: (1.2815770482970184, 0.7009594046247383, 6.115555110206375)\n",
      "Trial 20 Starting pose: (1.5746850865815725, 0.6521459350401055, 0.18084739042883927)\n",
      "Trial 21 Starting pose: (0.6430949693312924, 1.0557879796101253, 6.086117169729225)\n",
      "Trial 22 Starting pose: (1.8723334622251384, 2.1960308237521904, 0.6147076143926598)\n",
      "Trial 23 Starting pose: (1.1394487373901638, 0.741395884197098, 0.4183506500277653)\n",
      "Trial 24 Starting pose: (1.7764074723344638, 2.0807118160954805, 5.770876788872495)\n",
      "Trial 25 Starting pose: (0.784237587279148, 2.376521846484212, 6.079047068718702)\n",
      "Trial 26 Starting pose: (1.8475290174059227, 1.73794724708514, 5.552179205364457)\n",
      "Trial 27 Starting pose: (2.726791648702537, 1.0003486738867438, 0.33067517100396926)\n",
      "Trial 28 Starting pose: (2.0288605675734788, 0.9224415249031162, 6.179569920655697)\n",
      "Trial 29 Starting pose: (1.0801629102131671, 0.5339263138091312, 5.712624907042503)\n",
      "Trial 30 Starting pose: (0.9744537120868555, 1.9149133442091384, 5.826989653538098)\n",
      "Trial 31 Starting pose: (0.5141233039421871, 2.408511366686626, 5.966650461382744)\n",
      "Trial 32 Starting pose: (2.8081592534222537, 1.8478934063907773, 0.2180383390529022)\n",
      "Trial 33 Starting pose: (2.262517844146564, 1.2368412813493892, 6.232262395567421)\n",
      "Trial 34 Starting pose: (2.2174609388930975, 0.723445098570636, 0.5719593952845199)\n",
      "Trial 35 Starting pose: (2.09954842236507, 2.163158973868844, 5.715782321886233)\n",
      "Trial 36 Starting pose: (2.1613554416411414, 1.7960803621507957, 5.972578781532202)\n",
      "Trial 37 Starting pose: (2.923246571624025, 2.3282102462026653, 5.812122211964112)\n",
      "Trial 38 Starting pose: (0.8164165149266742, 1.1122658635871807, 0.3355428110537578)\n",
      "Trial 39 Starting pose: (1.1328686243339638, 1.1086026245038, 0.0440885052920089)\n",
      "Trial 40 Starting pose: (1.9130515444641736, 0.9279164122274142, 5.893577929148659)\n",
      "Trial 41 Starting pose: (2.983243027218392, 1.5011872122886325, 5.64691934060099)\n",
      "Trial 42 Starting pose: (0.766939293050815, 1.1024726893064607, 0.6341293831408328)\n",
      "Trial 43 Starting pose: (0.506460689072951, 1.0133005660680319, 0.039766224871194925)\n",
      "Trial 44 Starting pose: (1.426626791388436, 2.0620437933490545, 6.018035534753283)\n",
      "Trial 45 Starting pose: (2.6139682465989824, 0.9159725877262785, 6.172362103934009)\n",
      "Trial 46 Starting pose: (1.8578450006931606, 1.7273238072114043, 6.188844736709921)\n",
      "Trial 47 Starting pose: (0.7892263788892468, 1.8780040517534577, 0.44176271107512316)\n",
      "Trial 48 Starting pose: (1.838333372828522, 1.1781334954890026, 5.532344924987758)\n",
      "Trial 49 Starting pose: (2.249521112197325, 0.7655427271359794, 0.5754424020611674)\n"
     ]
    }
   ],
   "source": [
    "generate_data(robot, make_world, 50, \"training_data.txt\")"
   ]
  },
  {
   "cell_type": "code",
   "execution_count": null,
   "metadata": {
    "collapsed": true
   },
   "outputs": [],
   "source": []
  }
 ],
 "metadata": {
  "kernelspec": {
   "display_name": "Python 3",
   "language": "python",
   "name": "python3"
  },
  "language_info": {
   "codemirror_mode": {
    "name": "ipython",
    "version": 3
   },
   "file_extension": ".py",
   "mimetype": "text/x-python",
   "name": "python",
   "nbconvert_exporter": "python",
   "pygments_lexer": "ipython3",
   "version": "3.6.3"
  }
 },
 "nbformat": 4,
 "nbformat_minor": 2
}
